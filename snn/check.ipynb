{
 "cells": [
  {
   "cell_type": "code",
   "execution_count": 1,
   "metadata": {},
   "outputs": [
    {
     "name": "stdout",
     "output_type": "stream",
     "text": [
      "현재경로 /nfs/home/bhkim003\n",
      "현재경로의 파일들 ['.mozilla', '.bash_logout', '.bash_profile', '.kshrc', '.cache', '.config', '.bash_history', '.vscode-server', 'hello.c', '.local', 'snntorch_tutorial', '명령어모음집.txt', '.jupyter', '.pki', '.gnupg', '.nv', '.astropy', 'gookbab_backup.yaml', 'check.py', 'check.ipynb', 'snap_only_code', '.git', 'lecture', '.python_history', 'hello.sv', '.ssh', '.vscode', '.Xauthority', '.history', 'anaconda3', '환경-패키지.txt', 'aedat_test', 'checkpoint', 'hdf5_test', 'Anaconda3-2023.09-0-Linux-x86_64.sh', '.conda', '.ipython', '.condarc', '.bashrc', '.tcshrc', 'github_folder', '.gitconfig', '.viminfo']\n",
      "절대경로 /nfs/home/bhkim003\n",
      "\n",
      "\n",
      "파이썬 버전 3.8.18 (default, Sep 11 2023, 13:40:15) \n",
      "[GCC 11.2.0]\n",
      "파이토치 버전 1.10.1\n",
      "torchvision 버전 0.11.2\n",
      "\n",
      "\n",
      "쿠다사용 가능? True\n",
      "쿠다 버전 11.3\n",
      "\n",
      "Device: cuda\n",
      "gpu이름 NVIDIA GeForce RTX 2080 Ti\n",
      "6  :   이제 내가 쓸 gpu 수\n",
      "0  :   이 값은 0이됨. n번째 gpu를 선택하더라도 그게 쿠다에는 0으로 맵핑되는거임. (여러개여도 같음)\n",
      "gpu뭐뭐있어?\n",
      "현재 사용 가능한 GPU 수: 6\n",
      "GPU 0: NVIDIA GeForce RTX 2080 Ti\n",
      "GPU 1: NVIDIA GeForce RTX 2080 Ti\n",
      "GPU 2: NVIDIA GeForce RTX 2080 Ti\n",
      "GPU 3: NVIDIA GeForce RTX 2080 Ti\n",
      "GPU 4: NVIDIA GeForce RTX 2080 Ti\n",
      "GPU 5: NVIDIA GeForce RTX 2080 Ti\n",
      "\n",
      "\n",
      " environ({'CONDA_PROMPT_MODIFIER': '(base) ', 'MAIL': '/var/mail/bhkim003', 'USER': 'bhkim003', 'SSH_CLIENT': '147.46.19.127 62846 1318', 'LD_LIBRARY_PATH': '/usr/local/cuda-10.0/lib64:/usr/local/cuda/extras/CUPTI/::/usr/lib/nvidia:/usr/lib/nvidia', 'SHLVL': '3', 'CONDA_SHLVL': '1', 'HOME': '/home/bhkim003', 'DBUS_SESSION_BUS_ADDRESS': 'unix:path=/run/user/1057/bus', '_CE_M': '', 'LOGNAME': 'bhkim003', '_': '/nfs/home/bhkim003/.vscode-server/bin/8b3775030ed1a69b13e4f4c628c612102e30a681/node', 'XDG_SESSION_ID': '1834', '_CE_CONDA': '', 'PATH': '/home/bhkim003/anaconda3/envs/aedat2_backup/bin:/nfs/home/bhkim003/.vscode-server/bin/8b3775030ed1a69b13e4f4c628c612102e30a681/bin/remote-cli:/usr/local/cuda-11.7/bin:/usr/local/cuda-10.0/bin:/usr/local/cuda-10.0/include:/usr/local/cuda-11.7/bin:/home/bhkim003/anaconda3/bin:/home/bhkim003/anaconda3/condabin:/usr/local/sbin:/usr/local/bin:/usr/sbin:/usr/bin:/sbin:/bin:/usr/games:/usr/local/games:/home/server_usage/server_script:/snap/bin:/usr/lib/jvm/java-11-openjdk-amd64/bin:/home/bhkim003/.local/bin:/home/bhkim003/bin:/nfs/home/bhkim003/.vscode-server/bin/8b3775030ed1a69b13e4f4c628c612102e30a681/bin/remote-cli:/usr/local/cuda-11.7/bin:/usr/local/cuda-10.0/bin:/usr/local/cuda-10.0/include:/usr/local/cuda-11.7/bin:/home/bhkim003/anaconda3/bin:/home/bhkim003/anaconda3/condabin:/usr/local/sbin:/usr/local/bin:/usr/sbin:/usr/bin:/sbin:/bin:/usr/games:/usr/local/games:/home/server_usage/server_script:/snap/bin:/usr/lib/jvm/java-11-openjdk-amd64/bin:/home/bhkim003/.local/bin:/home/bhkim003/bin', 'VSCODE_AGENT_FOLDER': '/home/bhkim003/.vscode-server', 'XDG_RUNTIME_DIR': '/run/user/1057', 'LANG': 'en_US.UTF-8', 'CONDA_PYTHON_EXE': '/home/bhkim003/anaconda3/bin/python', 'SHELL': '/bin/bash', 'CONDA_DEFAULT_ENV': 'base', 'PWD': '/nfs/home/bhkim003', 'CUDA_HOME': '/usr/local/cuda-11.7', 'CONDA_EXE': '/home/bhkim003/anaconda3/bin/conda', 'SSH_CONNECTION': '147.46.19.127 62846 147.46.19.50 1318', 'CONDA_PREFIX': '/home/bhkim003/anaconda3', 'VSCODE_HANDLES_SIGPIPE': 'true', 'HISTTIMEFORMAT': '20%y/%m/%d %T ', 'JAVA_HOME': '/usr/lib/jvm/java-11-openjdk-amd64', 'S_COLORS': 'auto', 'MSM_PRODUCT': 'MSM', 'XDG_DATA_DIRS': '/usr/local/share:/usr/share:/var/lib/snapd/desktop', 'CUDA_INC_DIR': '/usr/local/cuda-10.0/include', 'MSM_HOME': '/usr/local/MegaRAID Storage Manager', 'VSCODE_AMD_ENTRYPOINT': 'vs/workbench/api/node/extensionHostProcess', 'VSCODE_HANDLES_UNCAUGHT_ERRORS': 'true', 'VSCODE_NLS_CONFIG': '{\"locale\":\"ko\",\"osLocale\":\"ko\",\"availableLanguages\":{\"*\":\"ko\"},\"_languagePackId\":\"fa1cfea4f76e4b7d27c8f8a05206c500.ko\",\"_translationsConfigFile\":\"/home/bhkim003/.vscode-server/data/clp/fa1cfea4f76e4b7d27c8f8a05206c500.ko/tcf.json\",\"_cacheRoot\":\"/home/bhkim003/.vscode-server/data/clp/fa1cfea4f76e4b7d27c8f8a05206c500.ko\",\"_resolvedLanguagePackCoreLocation\":\"/home/bhkim003/.vscode-server/data/clp/fa1cfea4f76e4b7d27c8f8a05206c500.ko/8b3775030ed1a69b13e4f4c628c612102e30a681\",\"_corruptedFile\":\"/home/bhkim003/.vscode-server/data/clp/fa1cfea4f76e4b7d27c8f8a05206c500.ko/corrupted.info\",\"_languagePackSupport\":true}', 'BROWSER': '/nfs/home/bhkim003/.vscode-server/bin/8b3775030ed1a69b13e4f4c628c612102e30a681/bin/helpers/browser.sh', 'VSCODE_CWD': '/nfs/home/bhkim003', 'ELECTRON_RUN_AS_NODE': '1', 'VSCODE_IPC_HOOK_CLI': '/run/user/1057/vscode-ipc-6379c323-c312-43ad-a947-465f031f518b.sock', 'VSCODE_L10N_BUNDLE_LOCATION': 'vscode-local:/c%3A/Users/User/.vscode/extensions/ms-ceintl.vscode-language-pack-ko-1.85.2024021409/translations/extensions/vscode.json-language-features.i18n.json', 'PYDEVD_IPYTHON_COMPATIBLE_DEBUGGING': '1', 'PYTHONUNBUFFERED': '1', 'PYTHONIOENCODING': 'utf-8', 'PYDEVD_USE_FRAME_EVAL': 'NO', 'TERM': 'xterm-color', 'CLICOLOR': '1', 'FORCE_COLOR': '1', 'CLICOLOR_FORCE': '1', 'PAGER': 'cat', 'GIT_PAGER': 'cat', 'MPLBACKEND': 'module://matplotlib_inline.backend_inline'})\n"
     ]
    },
    {
     "data": {
      "text/plain": [
       "environ{'CONDA_PROMPT_MODIFIER': '(base) ',\n",
       "        'MAIL': '/var/mail/bhkim003',\n",
       "        'USER': 'bhkim003',\n",
       "        'SSH_CLIENT': '147.46.19.127 62846 1318',\n",
       "        'LD_LIBRARY_PATH': '/usr/local/cuda-10.0/lib64:/usr/local/cuda/extras/CUPTI/::/usr/lib/nvidia:/usr/lib/nvidia',\n",
       "        'SHLVL': '3',\n",
       "        'CONDA_SHLVL': '1',\n",
       "        'HOME': '/home/bhkim003',\n",
       "        'DBUS_SESSION_BUS_ADDRESS': 'unix:path=/run/user/1057/bus',\n",
       "        '_CE_M': '',\n",
       "        'LOGNAME': 'bhkim003',\n",
       "        '_': '/nfs/home/bhkim003/.vscode-server/bin/8b3775030ed1a69b13e4f4c628c612102e30a681/node',\n",
       "        'XDG_SESSION_ID': '1834',\n",
       "        '_CE_CONDA': '',\n",
       "        'PATH': '/home/bhkim003/anaconda3/envs/aedat2_backup/bin:/nfs/home/bhkim003/.vscode-server/bin/8b3775030ed1a69b13e4f4c628c612102e30a681/bin/remote-cli:/usr/local/cuda-11.7/bin:/usr/local/cuda-10.0/bin:/usr/local/cuda-10.0/include:/usr/local/cuda-11.7/bin:/home/bhkim003/anaconda3/bin:/home/bhkim003/anaconda3/condabin:/usr/local/sbin:/usr/local/bin:/usr/sbin:/usr/bin:/sbin:/bin:/usr/games:/usr/local/games:/home/server_usage/server_script:/snap/bin:/usr/lib/jvm/java-11-openjdk-amd64/bin:/home/bhkim003/.local/bin:/home/bhkim003/bin:/nfs/home/bhkim003/.vscode-server/bin/8b3775030ed1a69b13e4f4c628c612102e30a681/bin/remote-cli:/usr/local/cuda-11.7/bin:/usr/local/cuda-10.0/bin:/usr/local/cuda-10.0/include:/usr/local/cuda-11.7/bin:/home/bhkim003/anaconda3/bin:/home/bhkim003/anaconda3/condabin:/usr/local/sbin:/usr/local/bin:/usr/sbin:/usr/bin:/sbin:/bin:/usr/games:/usr/local/games:/home/server_usage/server_script:/snap/bin:/usr/lib/jvm/java-11-openjdk-amd64/bin:/home/bhkim003/.local/bin:/home/bhkim003/bin',\n",
       "        'VSCODE_AGENT_FOLDER': '/home/bhkim003/.vscode-server',\n",
       "        'XDG_RUNTIME_DIR': '/run/user/1057',\n",
       "        'LANG': 'en_US.UTF-8',\n",
       "        'CONDA_PYTHON_EXE': '/home/bhkim003/anaconda3/bin/python',\n",
       "        'SHELL': '/bin/bash',\n",
       "        'CONDA_DEFAULT_ENV': 'base',\n",
       "        'PWD': '/nfs/home/bhkim003',\n",
       "        'CUDA_HOME': '/usr/local/cuda-11.7',\n",
       "        'CONDA_EXE': '/home/bhkim003/anaconda3/bin/conda',\n",
       "        'SSH_CONNECTION': '147.46.19.127 62846 147.46.19.50 1318',\n",
       "        'CONDA_PREFIX': '/home/bhkim003/anaconda3',\n",
       "        'VSCODE_HANDLES_SIGPIPE': 'true',\n",
       "        'HISTTIMEFORMAT': '20%y/%m/%d %T ',\n",
       "        'JAVA_HOME': '/usr/lib/jvm/java-11-openjdk-amd64',\n",
       "        'S_COLORS': 'auto',\n",
       "        'MSM_PRODUCT': 'MSM',\n",
       "        'XDG_DATA_DIRS': '/usr/local/share:/usr/share:/var/lib/snapd/desktop',\n",
       "        'CUDA_INC_DIR': '/usr/local/cuda-10.0/include',\n",
       "        'MSM_HOME': '/usr/local/MegaRAID Storage Manager',\n",
       "        'VSCODE_AMD_ENTRYPOINT': 'vs/workbench/api/node/extensionHostProcess',\n",
       "        'VSCODE_HANDLES_UNCAUGHT_ERRORS': 'true',\n",
       "        'VSCODE_NLS_CONFIG': '{\"locale\":\"ko\",\"osLocale\":\"ko\",\"availableLanguages\":{\"*\":\"ko\"},\"_languagePackId\":\"fa1cfea4f76e4b7d27c8f8a05206c500.ko\",\"_translationsConfigFile\":\"/home/bhkim003/.vscode-server/data/clp/fa1cfea4f76e4b7d27c8f8a05206c500.ko/tcf.json\",\"_cacheRoot\":\"/home/bhkim003/.vscode-server/data/clp/fa1cfea4f76e4b7d27c8f8a05206c500.ko\",\"_resolvedLanguagePackCoreLocation\":\"/home/bhkim003/.vscode-server/data/clp/fa1cfea4f76e4b7d27c8f8a05206c500.ko/8b3775030ed1a69b13e4f4c628c612102e30a681\",\"_corruptedFile\":\"/home/bhkim003/.vscode-server/data/clp/fa1cfea4f76e4b7d27c8f8a05206c500.ko/corrupted.info\",\"_languagePackSupport\":true}',\n",
       "        'BROWSER': '/nfs/home/bhkim003/.vscode-server/bin/8b3775030ed1a69b13e4f4c628c612102e30a681/bin/helpers/browser.sh',\n",
       "        'VSCODE_CWD': '/nfs/home/bhkim003',\n",
       "        'ELECTRON_RUN_AS_NODE': '1',\n",
       "        'VSCODE_IPC_HOOK_CLI': '/run/user/1057/vscode-ipc-6379c323-c312-43ad-a947-465f031f518b.sock',\n",
       "        'VSCODE_L10N_BUNDLE_LOCATION': 'vscode-local:/c%3A/Users/User/.vscode/extensions/ms-ceintl.vscode-language-pack-ko-1.85.2024021409/translations/extensions/vscode.json-language-features.i18n.json',\n",
       "        'PYDEVD_IPYTHON_COMPATIBLE_DEBUGGING': '1',\n",
       "        'PYTHONUNBUFFERED': '1',\n",
       "        'PYTHONIOENCODING': 'utf-8',\n",
       "        'PYDEVD_USE_FRAME_EVAL': 'NO',\n",
       "        'TERM': 'xterm-color',\n",
       "        'CLICOLOR': '1',\n",
       "        'FORCE_COLOR': '1',\n",
       "        'CLICOLOR_FORCE': '1',\n",
       "        'PAGER': 'cat',\n",
       "        'GIT_PAGER': 'cat',\n",
       "        'MPLBACKEND': 'module://matplotlib_inline.backend_inline'}"
      ]
     },
     "execution_count": 1,
     "metadata": {},
     "output_type": "execute_result"
    }
   ],
   "source": [
    "import sys\n",
    "import torchvision\n",
    "import os\n",
    "import torch\n",
    "import torch.nn as nn\n",
    "\n"
   ]
  }
 ],
 "metadata": {
  "kernelspec": {
   "display_name": "nfs",
   "language": "python",
   "name": "python3"
  },
  "language_info": {
   "codemirror_mode": {
    "name": "ipython",
    "version": 3
   },
   "file_extension": ".py",
   "mimetype": "text/x-python",
   "name": "python",
   "nbconvert_exporter": "python",
   "pygments_lexer": "ipython3",
   "version": "3.8.18"
  }
 },
 "nbformat": 4,
 "nbformat_minor": 2
}
