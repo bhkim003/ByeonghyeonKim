{
 "cells": [
  {
   "cell_type": "code",
   "execution_count": 12,
   "metadata": {},
   "outputs": [],
   "source": [
    "# Copyright (c) 2024 Byeonghyeon Kim \n",
    "# github site: https://github.com/bhkim003/ByeonghyeonKim\n",
    "# email: bhkim003@snu.ac.kr\n",
    " \n",
    "# Permission is hereby granted, free of charge, to any person obtaining a copy of\n",
    "# this software and associated documentation files (the \"Software\"), to deal in\n",
    "# the Software without restriction, including without limitation the rights to\n",
    "# use, copy, modify, merge, publish, distribute, sublicense, and/or sell copies of\n",
    "# the Software, and to permit persons to whom the Software is furnished to do so,\n",
    "# subject to the following conditions:\n",
    " \n",
    "# The above copyright notice and this permission notice shall be included in all\n",
    "# copies or substantial portions of the Software.\n",
    " \n",
    "# THE SOFTWARE IS PROVIDED \"AS IS\", WITHOUT WARRANTY OF ANY KIND, EXPRESS OR\n",
    "# IMPLIED, INCLUDING BUT NOT LIMITED TO THE WARRANTIES OF MERCHANTABILITY, FITNESS\n",
    "# FOR A PARTICULAR PURPOSE AND NONINFRINGEMENT. IN NO EVENT SHALL THE AUTHORS OR\n",
    "# COPYRIGHT HOLDERS BE LIABLE FOR ANY CLAIM, DAMAGES OR OTHER LIABILITY, WHETHER\n",
    "# IN AN ACTION OF CONTRACT, TORT OR OTHERWISE, ARISING FROM, OUT OF OR IN\n",
    "# CONNECTION WITH THE SOFTWARE OR THE USE OR OTHER DEALINGS IN THE SOFTWARE.\n"
   ]
  },
  {
   "cell_type": "code",
   "execution_count": 13,
   "metadata": {},
   "outputs": [],
   "source": [
    "import sys\n",
    "import os\n",
    "import torch\n",
    "import torch.nn as nn\n",
    "import torch.nn.functional as F\n",
    "import torch.backends.cudnn as cudnn\n",
    "import torch.optim as optim\n",
    "import torch.optim.lr_scheduler as lr_scheduler\n",
    "from torch.utils.data import Dataset, DataLoader\n",
    "\n",
    "import torchvision\n",
    "import torchvision.datasets\n",
    "import torchvision.transforms as transforms\n",
    "\n",
    "import numpy as np\n",
    "import matplotlib.pyplot as plt\n",
    "\n",
    "import time\n",
    "\n",
    "from snntorch import spikegen\n",
    "import matplotlib.pyplot as plt\n",
    "import snntorch.spikeplot as splt\n",
    "from IPython.display import HTML\n",
    "\n",
    "from tqdm import tqdm\n",
    "\n",
    "from apex.parallel import DistributedDataParallel as DDP\n",
    "\n",
    "import random\n",
    "import datetime\n",
    "\n",
    "import json"
   ]
  },
  {
   "cell_type": "code",
   "execution_count": 14,
   "metadata": {},
   "outputs": [],
   "source": [
    "# my module import\n",
    "from modules import *\n",
    "\n",
    "# modules 폴더에 새모듈.py 만들면\n",
    "# modules/__init__py 파일에 form .새모듈 import * 하셈\n",
    "# 그리고 새모듈.py에서 from modules.새모듈 import * 하셈\n"
   ]
  },
  {
   "cell_type": "code",
   "execution_count": 15,
   "metadata": {},
   "outputs": [],
   "source": [
    "def my_snn_system(devices = \"0,1,2,3\",\n",
    "                    my_seed = 42,\n",
    "                    TIME = 8,\n",
    "                    BATCH = 256,\n",
    "                    IMAGE_SIZE = 32,\n",
    "                    which_data = 'CIFAR10',\n",
    "                    CLASS_NUM = 10,\n",
    "                    data_path = '/data2',\n",
    "                    rate_coding = True,\n",
    "    \n",
    "                    lif_layer_v_init = 0.0,\n",
    "                    lif_layer_v_decay = 0.6,\n",
    "                    lif_layer_v_threshold = 1.2,\n",
    "                    lif_layer_v_reset = 0.0,\n",
    "                    lif_layer_sg_width = 1,\n",
    "\n",
    "                    # synapse_conv_in_channels = IMAGE_PIXEL_CHANNEL,\n",
    "                    synapse_conv_kernel_size = 3,\n",
    "                    synapse_conv_stride = 1,\n",
    "                    synapse_conv_padding = 1,\n",
    "                    synapse_conv_trace_const1 = 1,\n",
    "                    synapse_conv_trace_const2 = 0.6,\n",
    "\n",
    "                    # synapse_fc_out_features = CLASS_NUM,\n",
    "                    synapse_fc_trace_const1 = 1,\n",
    "                    synapse_fc_trace_const2 = 0.6,\n",
    "\n",
    "                    pre_trained = False,\n",
    "                    convTrue_fcFalse = True,\n",
    "                    cfg = [64, 64],\n",
    "                    net_print = False, # True # False\n",
    "                    pre_trained_path = \"net_save/save_now_net.pth\",\n",
    "                    learning_rate = 0.0001,\n",
    "                    epoch_num = 200,\n",
    "                    verbose_interval = 100, #숫자 크게 하면 꺼짐\n",
    "                    validation_interval = 10, #숫자 크게 하면 꺼짐\n",
    "                    tdBN_on = False,\n",
    "                    BN_on = False,\n",
    "\n",
    "                    surrogate = 'sigmoid',\n",
    "\n",
    "                    gradient_verbose = False,\n",
    "\n",
    "                    BPTT_on = False,\n",
    "\n",
    "                    optimizer_what = 'SGD', # 'SGD' 'Adam', 'RMSprop'\n",
    "                    scheduler_name = 'no',\n",
    "                    \n",
    "                    ddp_on = True,\n",
    "\n",
    "                    nda_net = False,\n",
    "                  ):\n",
    "    # 함수 내 모든 로컬 변수 저장\n",
    "    hyperparameters = locals()\n",
    "    hyperparameters['top_train_acc_one_iter'] = 0\n",
    "    hyperparameters['top_val_acc'] = 0\n",
    "    hyperparameters['current epoch'] = 0\n",
    "\n",
    "    os.environ[\"CUDA_DEVICE_ORDER\"]=\"PCI_BUS_ID\" \n",
    "    os.environ[\"CUDA_VISIBLE_DEVICES\"]= devices\n",
    "\n",
    "    \n",
    "    torch.manual_seed(my_seed)\n",
    "\n",
    "\n",
    "    \n",
    "    # data loader, pixel channel, class num\n",
    "    train_loader, test_loader, synapse_conv_in_channels = data_loader(\n",
    "            which_data,\n",
    "            data_path, \n",
    "            rate_coding, \n",
    "            BATCH, \n",
    "            IMAGE_SIZE,\n",
    "            ddp_on)\n",
    "    synapse_fc_out_features = CLASS_NUM\n",
    "\n",
    "\n",
    "    ## parameter number calculator ##########################################\n",
    "    params_num = 0\n",
    "    img_size = IMAGE_SIZE \n",
    "    bias_param = 1 # 1 or 0\n",
    "    classifier_making = False\n",
    "    if (convTrue_fcFalse == True):\n",
    "        past_kernel = synapse_conv_in_channels\n",
    "        for kernel in cfg:\n",
    "            if (classifier_making == False):\n",
    "                if (type(kernel) == list):\n",
    "                    for residual_kernel in kernel:\n",
    "                        params_num += residual_kernel * ((synapse_conv_kernel_size**2) * past_kernel + bias_param)\n",
    "                        past_kernel = residual_kernel\n",
    "                elif (kernel == 'P' or kernel == 'M'):\n",
    "                    img_size = img_size // 2\n",
    "                elif (kernel == 'L'):\n",
    "                    classifier_making = True\n",
    "                    past_kernel = past_kernel * (img_size**2)\n",
    "                else:\n",
    "                    params_num += kernel * (synapse_conv_kernel_size**2 * past_kernel + bias_param)\n",
    "                    past_kernel = kernel    \n",
    "            else: # classifier making\n",
    "                params_num += (past_kernel + bias_param) * kernel\n",
    "                past_kernel = kernel\n",
    "        \n",
    "        \n",
    "        if classifier_making == False:\n",
    "            past_kernel = past_kernel*img_size*img_size\n",
    "\n",
    "        params_num += (past_kernel + bias_param) * synapse_fc_out_features\n",
    "    else:\n",
    "        past_in_channel = synapse_conv_in_channels*img_size*img_size\n",
    "        for in_channel in cfg:\n",
    "            if (type(in_channel) == list):\n",
    "                for residual_in_channel in in_channel:\n",
    "                    params_num += (past_in_channel + bias_param) * residual_in_channel\n",
    "                    past_in_channel = residual_in_channel\n",
    "            # elif (in_channel == 'M'): #it's a holy FC layer!\n",
    "            #     img_size = img_size // 2\n",
    "            else:\n",
    "                params_num += (past_in_channel + bias_param) * in_channel\n",
    "                past_in_channel = in_channel\n",
    "        params_num += (past_in_channel + bias_param) * synapse_fc_out_features\n",
    "    ## parameter number calculator ##########################################\n",
    "\n",
    "\n",
    "    device = torch.device(\"cuda\" if torch.cuda.is_available() else \"cpu\")\n",
    "\n",
    "    if pre_trained == False:\n",
    "        if (convTrue_fcFalse == False):\n",
    "            net = MY_SNN_FC(cfg, synapse_conv_in_channels, IMAGE_SIZE, synapse_fc_out_features,\n",
    "                     synapse_fc_trace_const1, synapse_fc_trace_const2, \n",
    "                     lif_layer_v_init, lif_layer_v_decay, \n",
    "                     lif_layer_v_threshold, lif_layer_v_reset,\n",
    "                     lif_layer_sg_width,\n",
    "                     tdBN_on,\n",
    "                     BN_on, TIME,\n",
    "                     surrogate,\n",
    "                     BPTT_on).to(device)\n",
    "        else:\n",
    "            net = MY_SNN_CONV(cfg, synapse_conv_in_channels, IMAGE_SIZE,\n",
    "                     synapse_conv_kernel_size, synapse_conv_stride, \n",
    "                     synapse_conv_padding, synapse_conv_trace_const1, \n",
    "                     synapse_conv_trace_const2, \n",
    "                     lif_layer_v_init, lif_layer_v_decay, \n",
    "                     lif_layer_v_threshold, lif_layer_v_reset,\n",
    "                     lif_layer_sg_width,\n",
    "                     synapse_fc_out_features, synapse_fc_trace_const1, synapse_fc_trace_const2,\n",
    "                     tdBN_on,\n",
    "                     BN_on, TIME,\n",
    "                     surrogate,\n",
    "                     BPTT_on).to(device)\n",
    "        \n",
    "        if (nda_net == True):\n",
    "            net = VGG(cfg = cfg, num_classes=10, batch_norm = tdBN_on, in_c = synapse_conv_in_channels, \n",
    "                      lif_layer_v_threshold=lif_layer_v_threshold, lif_layer_v_decay=lif_layer_v_decay, lif_layer_sg_width=lif_layer_sg_width)\n",
    "            net.T = TIME\n",
    "        net = torch.nn.DataParallel(net)\n",
    "    else:\n",
    "        net = torch.load(pre_trained_path)\n",
    "\n",
    "\n",
    "    net = net.to(device)\n",
    "    if (net_print == True):\n",
    "        print(net)\n",
    "    \n",
    "    ## param num and memory estimation except BN at MY calculation ##########################################\n",
    "    real_param_num = sum(p.numel() for p in net.parameters() if p.requires_grad)\n",
    "    # Batch norm 있으면 아래 두 개 서로 다를 수 있음.\n",
    "    # assert real_param_num == params_num, f'parameter number is not same. real_param_num: {real_param_num}, params_num: {params_num}'    \n",
    "    print('='*50)\n",
    "    print(f\"My Num of PARAMS: {params_num:,}, system's param_num : {real_param_num:,}\")\n",
    "    memory = params_num / 8 / 1024 / 1024 # MB\n",
    "    precision = 32\n",
    "    memory = memory * precision \n",
    "    print(f\"Memory: {memory:.2f}MiB at {precision}-bit\")\n",
    "    print('='*50)\n",
    "    ##########################################################################\n",
    "\n",
    "    criterion = nn.CrossEntropyLoss().to(device)\n",
    "    \n",
    "    if(optimizer_what == 'SGD'):\n",
    "        # optimizer = optim.SGD(net.parameters(), lr=learning_rate, momentum=0.9)\n",
    "        optimizer = optim.SGD(net.parameters(), lr=learning_rate, momentum=0.9, weight_decay=0)\n",
    "    elif(optimizer_what == 'Adam'):\n",
    "        # optimizer = torch.optim.Adam(net.parameters(), lr=0.00001)\n",
    "        # optimizer = torch.optim.Adam(net.parameters(), lr=learning_rate/256 * BATCH, weight_decay=1e-4)\n",
    "        optimizer = optim.Adam(net.parameters(), lr=learning_rate, weight_decay=0, betas=(0.9, 0.999))\n",
    "    elif(optimizer_what == 'RMSprop'):\n",
    "        pass\n",
    "\n",
    "\n",
    "    if (scheduler_name == 'StepLR'):\n",
    "        scheduler = lr_scheduler.StepLR(optimizer, step_size=10, gamma=0.1)\n",
    "    elif (scheduler_name == 'ExponentialLR'):\n",
    "        scheduler = lr_scheduler.ExponentialLR(optimizer, gamma=0.95)\n",
    "    elif (scheduler_name == 'ReduceLROnPlateau'):\n",
    "        scheduler = lr_scheduler.ReduceLROnPlateau(optimizer, mode='min', factor=0.1, patience=10)\n",
    "    elif (scheduler_name == 'CosineAnnealingLR'):\n",
    "        scheduler = lr_scheduler.CosineAnnealingLR(optimizer, eta_min=0, T_max=50)\n",
    "    elif (scheduler_name == 'OneCycleLR'):\n",
    "        scheduler = lr_scheduler.OneCycleLR(optimizer, max_lr=0.1, steps_per_epoch=len(train_loader), epochs=100)\n",
    "    else:\n",
    "        pass # 'no' scheduler\n",
    "\n",
    "    val_acc = 0\n",
    "    val_acc_now = 0\n",
    "    elapsed_time_val = 0\n",
    "    train_acc_array = np.array([])\n",
    "    val_acc_now_array = np.array([])\n",
    "    current_time = datetime.datetime.now().strftime(\"%Y%m%d_%H%M%S\")\n",
    "    for epoch in range(epoch_num):\n",
    "        print('EPOCH', epoch)\n",
    "        epoch_start_time = time.time()\n",
    "        running_loss = 0.0\n",
    "        \n",
    "        iterator = enumerate(train_loader, 0)\n",
    "        if (ddp_on == True):\n",
    "            if torch.distributed.get_rank() == 0:   \n",
    "                iterator = tqdm(iterator, total=len(train_loader), desc='train', dynamic_ncols=True, position=0, leave=True)\n",
    "        else:\n",
    "            iterator = tqdm(iterator, total=len(train_loader), desc='train', dynamic_ncols=True, position=0, leave=True)\n",
    "\n",
    "        for i, data in iterator:\n",
    "            iter_one_train_time_start = time.time()\n",
    "            net.train()\n",
    "\n",
    "            ## data loading #################################\n",
    "            inputs, labels = data\n",
    "\n",
    "            \n",
    "            if (which_data == 'DVS-CIFAR10'):\n",
    "                inputs = inputs.permute(1, 0, 2, 3, 4)\n",
    "            elif rate_coding == True :\n",
    "                inputs = spikegen.rate(inputs, num_steps=TIME)\n",
    "            else :\n",
    "                inputs = inputs.repeat(TIME, 1, 1, 1, 1)\n",
    "            # inputs: [Time, Batch, Channel, Height, Width]  \n",
    "            ################################################# \n",
    "\n",
    "            inputs = inputs.to(device)\n",
    "            labels = labels.to(device)\n",
    "\n",
    "            optimizer.zero_grad()\n",
    "\n",
    "            # inputs: [Time, Batch, Channel, Height, Width]   \n",
    "            inputs = inputs.permute(1, 0, 2, 3, 4) # net에 넣어줄때는 batch가 젤 앞 차원으로 와야함. # dataparallel때매\n",
    "            # inputs: [Batch, Time, Channel, Height, Width]   \n",
    "        \n",
    "            outputs = net(inputs)\n",
    "\n",
    "            batch = BATCH \n",
    "            if labels.size(0) != BATCH: \n",
    "                batch = labels.size(0)\n",
    "\n",
    "            \n",
    "\n",
    "\n",
    "            ####### training accruacy print ###############################\n",
    "            correct = 0\n",
    "            total = 0\n",
    "            _, predicted = torch.max(outputs.data, 1)\n",
    "            total += labels.size(0)\n",
    "            correct += (predicted[0:batch] == labels).sum().item()\n",
    "            train_acc = correct / total\n",
    "            if i % verbose_interval == verbose_interval-1:\n",
    "                print(f'{epoch}-{i} training acc: {100 * train_acc:.2f}%, lr={[f\"{lr}\" for lr in (param_group[\"lr\"] for param_group in optimizer.param_groups)]}, val_acc: {100 * val_acc_now:.2f}%')\n",
    "            training_acc_string = f'{epoch}-{i}/{len(train_loader)} tr_acc: {100 * correct / total:.2f}%, lr={[f\"{lr}\" for lr in (param_group[\"lr\"] for param_group in optimizer.param_groups)]}'\n",
    "            \n",
    "            ################################################################\n",
    "            \n",
    "\n",
    "            loss = criterion(outputs[0:batch,:], labels)\n",
    "            loss.backward()\n",
    "\n",
    "\n",
    "            ### gradinet verbose ##########################################\n",
    "            if (gradient_verbose == True):\n",
    "                if (i % verbose_interval == verbose_interval-1):\n",
    "                    print('\\n\\nepoch', epoch, 'iter', i)\n",
    "                    for name, param in net.named_parameters():\n",
    "                        if param.requires_grad:\n",
    "                            print('\\n\\n\\n\\n' , name, param.grad)\n",
    "            ################################################################\n",
    "            \n",
    "            optimizer.step()\n",
    "\n",
    "            running_loss += loss.item()\n",
    "            # print(\"Epoch: {}, Iter: {}, Loss: {}\".format(epoch + 1, i + 1, running_loss / 100))\n",
    "\n",
    "            iter_one_train_time_end = time.time()\n",
    "            elapsed_time = iter_one_train_time_end - iter_one_train_time_start  # 실행 시간 계산\n",
    "\n",
    "            if (i % verbose_interval == verbose_interval-1):\n",
    "                print(f\"iter_one_train_time: {elapsed_time} seconds, last one_val_time: {elapsed_time_val} seconds\\n\")\n",
    "\n",
    "            ##### validation ##############################################\n",
    "            if i % validation_interval == validation_interval-1:\n",
    "                iter_one_val_time_start = time.time()\n",
    "                \n",
    "                correct = 0\n",
    "                total = 0\n",
    "                with torch.no_grad():\n",
    "                    net.eval()\n",
    "                    for data in test_loader:\n",
    "                        ## data loading #################################\n",
    "                        inputs, labels = data\n",
    "\n",
    "                        \n",
    "                        if (which_data == 'DVS-CIFAR10'):\n",
    "                            inputs = inputs.permute(1, 0, 2, 3, 4)\n",
    "                        elif rate_coding == True :\n",
    "                            inputs = spikegen.rate(inputs, num_steps=TIME)\n",
    "                        else :\n",
    "                            inputs = inputs.repeat(TIME, 1, 1, 1, 1)\n",
    "                        # inputs: [Time, Batch, Channel, Height, Width]  \n",
    "                        ################################################# \n",
    "\n",
    "                        inputs = inputs.to(device)\n",
    "                        labels = labels.to(device)\n",
    "                        outputs = net(inputs.permute(1, 0, 2, 3, 4))\n",
    "                        _, predicted = torch.max(outputs.data, 1)\n",
    "                        total += labels.size(0)\n",
    "                        batch = BATCH \n",
    "                        if labels.size(0) != BATCH: \n",
    "                            batch = labels.size(0)\n",
    "                        correct += (predicted[0:batch] == labels).sum().item()\n",
    "                        val_loss = criterion(outputs[0:batch,:], labels)\n",
    "\n",
    "                    val_acc_now = correct / total\n",
    "                    # print(f'{epoch}-{i} validation acc: {100 * val_acc_now:.2f}%, lr={[f\"{lr:.10f}\" for lr in (param_group[\"lr\"] for param_group in optimizer.param_groups)]}')\n",
    "\n",
    "                iter_one_val_time_end = time.time()\n",
    "                elapsed_time_val = iter_one_val_time_end - iter_one_val_time_start  # 실행 시간 계산\n",
    "                # print(f\"iter_one_val_time: {elapsed_time_val} seconds\")\n",
    "\n",
    "                # network save\n",
    "                if val_acc < val_acc_now:\n",
    "                    val_acc = val_acc_now\n",
    "                    torch.save(net.state_dict(), \"net_save/save_now_net_weights.pth\")\n",
    "                    torch.save(net, \"net_save/save_now_net.pth\")\n",
    "                    torch.save(net.module.state_dict(), \"net_save/save_now_net_weights2.pth\")\n",
    "                    torch.save(net.module, \"net_save/save_now_net2.pth\")\n",
    "            ################################################################\n",
    "            iterator.set_description(f\"train: {training_acc_string}, tr_loss: {loss}, val_acc: {100 * val_acc_now:.2f}%\")  \n",
    "\n",
    "            train_acc_array = np.append(train_acc_array, train_acc)\n",
    "            val_acc_now_array = np.append(val_acc_now_array, val_acc_now)\n",
    "            base_name = f'{current_time}'\n",
    "            train_acc_file_name = f'result_save/{base_name}_train_acc_array.npy'\n",
    "            val_acc_file_name = f'result_save/{base_name}_val_acc_now_array.npy'\n",
    "            hyperparameters_file_name = f'result_save/{base_name}_hyperparameters.json'\n",
    "\n",
    "            if(train_acc > hyperparameters['top_train_acc_one_iter']):\n",
    "                hyperparameters['top_train_acc_one_iter'] = train_acc\n",
    "            if(val_acc_now > hyperparameters['top_val_acc']):\n",
    "                hyperparameters['top_val_acc'] = val_acc_now\n",
    "            hyperparameters['current epoch'] = epoch\n",
    "\n",
    "            np.save(train_acc_file_name, train_acc_array)\n",
    "            np.save(val_acc_file_name, val_acc_now_array)\n",
    "            with open(hyperparameters_file_name, 'w') as f:\n",
    "                json.dump(hyperparameters, f, indent=4)\n",
    "\n",
    "            np.save('result_save/train_acc_array.npy', train_acc_array)\n",
    "            np.save('result_save/val_acc_now_array.npy', val_acc_now_array)\n",
    "            with open('result_save/hyperparameters.json', 'w') as f:\n",
    "                json.dump(hyperparameters, f, indent=4)\n",
    "            \n",
    "        if (scheduler_name != 'no'):\n",
    "            if (scheduler_name == 'ReduceLROnPlateau'):\n",
    "                scheduler.step(val_loss)\n",
    "            else:\n",
    "                scheduler.step()\n",
    "\n",
    "        \n",
    "        \n",
    "        epoch_time_end = time.time()\n",
    "        epoch_time = epoch_time_end - epoch_start_time  # 실행 시간 계산\n",
    "        \n",
    "        print(f\"epoch_time: {epoch_time} seconds\")\n",
    "        print('\\n')\n"
   ]
  },
  {
   "cell_type": "code",
   "execution_count": 16,
   "metadata": {},
   "outputs": [
    {
     "name": "stdout",
     "output_type": "stream",
     "text": [
      "==================================================\n",
      "My Num of PARAMS: 9,404,234, system's param_num : 9,409,738\n",
      "Memory: 35.87MiB at 32-bit\n",
      "==================================================\n",
      "EPOCH 0\n"
     ]
    },
    {
     "name": "stderr",
     "output_type": "stream",
     "text": [
      "train: 0-70/71 tr_acc: 35.00%, lr=['0.001'], tr_loss: 1.7473218441009521, val_acc: 30.10%: 100%|██████████| 71/71 [00:52<00:00,  1.35it/s]"
     ]
    },
    {
     "name": "stdout",
     "output_type": "stream",
     "text": [
      "epoch_time: 53.08960795402527 seconds\n",
      "\n",
      "\n",
      "EPOCH 1\n"
     ]
    },
    {
     "name": "stderr",
     "output_type": "stream",
     "text": [
      "\n",
      "train: 1-70/71 tr_acc: 47.50%, lr=['0.0009990133642141358'], tr_loss: 1.5573744773864746, val_acc: 31.60%: 100%|██████████| 71/71 [00:42<00:00,  1.69it/s]"
     ]
    },
    {
     "name": "stdout",
     "output_type": "stream",
     "text": [
      "epoch_time: 42.33959984779358 seconds\n",
      "\n",
      "\n",
      "EPOCH 2\n"
     ]
    },
    {
     "name": "stderr",
     "output_type": "stream",
     "text": [
      "\n",
      "train: 2-70/71 tr_acc: 47.50%, lr=['0.000996057350657239'], tr_loss: 1.559213399887085, val_acc: 40.00%: 100%|██████████| 71/71 [00:42<00:00,  1.69it/s] "
     ]
    },
    {
     "name": "stdout",
     "output_type": "stream",
     "text": [
      "epoch_time: 42.4198739528656 seconds\n",
      "\n",
      "\n",
      "EPOCH 3\n"
     ]
    },
    {
     "name": "stderr",
     "output_type": "stream",
     "text": [
      "\n",
      "train: 3-70/71 tr_acc: 57.50%, lr=['0.0009911436253643444'], tr_loss: 1.3615577220916748, val_acc: 46.70%: 100%|██████████| 71/71 [00:42<00:00,  1.69it/s]"
     ]
    },
    {
     "name": "stdout",
     "output_type": "stream",
     "text": [
      "epoch_time: 42.43639421463013 seconds\n",
      "\n",
      "\n",
      "EPOCH 4\n"
     ]
    },
    {
     "name": "stderr",
     "output_type": "stream",
     "text": [
      "\n",
      "train: 4-70/71 tr_acc: 42.50%, lr=['0.0009842915805643156'], tr_loss: 1.4137585163116455, val_acc: 44.60%: 100%|██████████| 71/71 [00:41<00:00,  1.70it/s]"
     ]
    },
    {
     "name": "stdout",
     "output_type": "stream",
     "text": [
      "epoch_time: 42.026758432388306 seconds\n",
      "\n",
      "\n",
      "EPOCH 5\n"
     ]
    },
    {
     "name": "stderr",
     "output_type": "stream",
     "text": [
      "\n",
      "train: 5-70/71 tr_acc: 50.00%, lr=['0.0009755282581475769'], tr_loss: 1.3014028072357178, val_acc: 43.60%: 100%|██████████| 71/71 [00:41<00:00,  1.70it/s]"
     ]
    },
    {
     "name": "stdout",
     "output_type": "stream",
     "text": [
      "epoch_time: 42.15316939353943 seconds\n",
      "\n",
      "\n",
      "EPOCH 6\n"
     ]
    },
    {
     "name": "stderr",
     "output_type": "stream",
     "text": [
      "\n",
      "train: 6-70/71 tr_acc: 50.00%, lr=['0.0009648882429441258'], tr_loss: 1.3006231784820557, val_acc: 48.00%: 100%|██████████| 71/71 [00:42<00:00,  1.67it/s]"
     ]
    },
    {
     "name": "stdout",
     "output_type": "stream",
     "text": [
      "epoch_time: 42.85158634185791 seconds\n",
      "\n",
      "\n",
      "EPOCH 7\n"
     ]
    },
    {
     "name": "stderr",
     "output_type": "stream",
     "text": [
      "\n",
      "train: 7-70/71 tr_acc: 52.50%, lr=['0.0009524135262330099'], tr_loss: 1.3736131191253662, val_acc: 47.80%: 100%|██████████| 71/71 [00:41<00:00,  1.71it/s]"
     ]
    },
    {
     "name": "stdout",
     "output_type": "stream",
     "text": [
      "epoch_time: 41.70423865318298 seconds\n",
      "\n",
      "\n",
      "EPOCH 8\n"
     ]
    },
    {
     "name": "stderr",
     "output_type": "stream",
     "text": [
      "\n",
      "train: 8-70/71 tr_acc: 40.00%, lr=['0.0009381533400219318'], tr_loss: 1.651563286781311, val_acc: 45.70%: 100%|██████████| 71/71 [00:41<00:00,  1.71it/s] "
     ]
    },
    {
     "name": "stdout",
     "output_type": "stream",
     "text": [
      "epoch_time: 41.96134090423584 seconds\n",
      "\n",
      "\n",
      "EPOCH 9\n"
     ]
    },
    {
     "name": "stderr",
     "output_type": "stream",
     "text": [
      "\n",
      "train: 9-70/71 tr_acc: 65.00%, lr=['0.0009221639627510075'], tr_loss: 1.3003027439117432, val_acc: 45.70%: 100%|██████████| 71/71 [00:41<00:00,  1.70it/s]"
     ]
    },
    {
     "name": "stdout",
     "output_type": "stream",
     "text": [
      "epoch_time: 42.10569381713867 seconds\n",
      "\n",
      "\n",
      "EPOCH 10\n"
     ]
    },
    {
     "name": "stderr",
     "output_type": "stream",
     "text": [
      "\n",
      "train: 10-70/71 tr_acc: 60.00%, lr=['0.0009045084971874736'], tr_loss: 1.3492389917373657, val_acc: 49.40%: 100%|██████████| 71/71 [00:42<00:00,  1.68it/s]"
     ]
    },
    {
     "name": "stdout",
     "output_type": "stream",
     "text": [
      "epoch_time: 42.57907032966614 seconds\n",
      "\n",
      "\n",
      "EPOCH 11\n"
     ]
    },
    {
     "name": "stderr",
     "output_type": "stream",
     "text": [
      "\n",
      "train: 11-70/71 tr_acc: 57.50%, lr=['0.0008852566213878945'], tr_loss: 1.2866661548614502, val_acc: 53.20%: 100%|██████████| 71/71 [00:42<00:00,  1.67it/s]"
     ]
    },
    {
     "name": "stdout",
     "output_type": "stream",
     "text": [
      "epoch_time: 42.74956297874451 seconds\n",
      "\n",
      "\n",
      "EPOCH 12\n"
     ]
    },
    {
     "name": "stderr",
     "output_type": "stream",
     "text": [
      "\n",
      "train: 12-70/71 tr_acc: 45.00%, lr=['0.0008644843137107056'], tr_loss: 1.4358915090560913, val_acc: 52.20%: 100%|██████████| 71/71 [00:41<00:00,  1.70it/s]"
     ]
    },
    {
     "name": "stdout",
     "output_type": "stream",
     "text": [
      "epoch_time: 42.14414930343628 seconds\n",
      "\n",
      "\n",
      "EPOCH 13\n"
     ]
    },
    {
     "name": "stderr",
     "output_type": "stream",
     "text": [
      "\n",
      "train: 13-70/71 tr_acc: 57.50%, lr=['0.0008422735529643443'], tr_loss: 1.1939916610717773, val_acc: 54.60%: 100%|██████████| 71/71 [00:42<00:00,  1.67it/s]"
     ]
    },
    {
     "name": "stdout",
     "output_type": "stream",
     "text": [
      "epoch_time: 42.844752073287964 seconds\n",
      "\n",
      "\n",
      "EPOCH 14\n"
     ]
    },
    {
     "name": "stderr",
     "output_type": "stream",
     "text": [
      "\n",
      "train: 14-70/71 tr_acc: 60.00%, lr=['0.0008187119948743448'], tr_loss: 1.190710186958313, val_acc: 59.30%: 100%|██████████| 71/71 [00:42<00:00,  1.67it/s] "
     ]
    },
    {
     "name": "stdout",
     "output_type": "stream",
     "text": [
      "epoch_time: 42.757238149642944 seconds\n",
      "\n",
      "\n",
      "EPOCH 15\n"
     ]
    },
    {
     "name": "stderr",
     "output_type": "stream",
     "text": [
      "\n",
      "train: 15-70/71 tr_acc: 52.50%, lr=['0.0007938926261462366'], tr_loss: 1.3789393901824951, val_acc: 58.30%: 100%|██████████| 71/71 [00:41<00:00,  1.71it/s]"
     ]
    },
    {
     "name": "stdout",
     "output_type": "stream",
     "text": [
      "epoch_time: 41.88753294944763 seconds\n",
      "\n",
      "\n",
      "EPOCH 16\n"
     ]
    },
    {
     "name": "stderr",
     "output_type": "stream",
     "text": [
      "\n",
      "train: 16-70/71 tr_acc: 55.00%, lr=['0.0007679133974894982'], tr_loss: 1.195788860321045, val_acc: 45.50%: 100%|██████████| 71/71 [00:41<00:00,  1.71it/s] "
     ]
    },
    {
     "name": "stdout",
     "output_type": "stream",
     "text": [
      "epoch_time: 41.81006050109863 seconds\n",
      "\n",
      "\n",
      "EPOCH 17\n"
     ]
    },
    {
     "name": "stderr",
     "output_type": "stream",
     "text": [
      "\n",
      "train: 17-70/71 tr_acc: 50.00%, lr=['0.0007408768370508576'], tr_loss: 1.2893550395965576, val_acc: 56.60%: 100%|██████████| 71/71 [00:41<00:00,  1.70it/s]"
     ]
    },
    {
     "name": "stdout",
     "output_type": "stream",
     "text": [
      "epoch_time: 42.145299434661865 seconds\n",
      "\n",
      "\n",
      "EPOCH 18\n"
     ]
    },
    {
     "name": "stderr",
     "output_type": "stream",
     "text": [
      "\n",
      "train: 18-70/71 tr_acc: 65.00%, lr=['0.0007128896457825362'], tr_loss: 0.9813657999038696, val_acc: 60.10%: 100%|██████████| 71/71 [00:42<00:00,  1.68it/s]"
     ]
    },
    {
     "name": "stdout",
     "output_type": "stream",
     "text": [
      "epoch_time: 42.51255655288696 seconds\n",
      "\n",
      "\n",
      "EPOCH 19\n"
     ]
    },
    {
     "name": "stderr",
     "output_type": "stream",
     "text": [
      "\n",
      "train: 19-70/71 tr_acc: 72.50%, lr=['0.0006840622763423389'], tr_loss: 1.0137676000595093, val_acc: 45.40%: 100%|██████████| 71/71 [00:42<00:00,  1.69it/s]"
     ]
    },
    {
     "name": "stdout",
     "output_type": "stream",
     "text": [
      "epoch_time: 42.39461135864258 seconds\n",
      "\n",
      "\n",
      "EPOCH 20\n"
     ]
    },
    {
     "name": "stderr",
     "output_type": "stream",
     "text": [
      "\n",
      "train: 20-70/71 tr_acc: 70.00%, lr=['0.0006545084971874735'], tr_loss: 1.0423773527145386, val_acc: 61.10%: 100%|██████████| 71/71 [00:42<00:00,  1.66it/s]\n"
     ]
    },
    {
     "name": "stdout",
     "output_type": "stream",
     "text": [
      "epoch_time: 43.18451714515686 seconds\n",
      "\n",
      "\n",
      "EPOCH 21\n"
     ]
    },
    {
     "name": "stderr",
     "output_type": "stream",
     "text": [
      "train: 21-70/71 tr_acc: 62.50%, lr=['0.0006243449435824271'], tr_loss: 1.000510334968567, val_acc: 57.50%: 100%|██████████| 71/71 [00:41<00:00,  1.70it/s] "
     ]
    },
    {
     "name": "stdout",
     "output_type": "stream",
     "text": [
      "epoch_time: 42.09138607978821 seconds\n",
      "\n",
      "\n",
      "EPOCH 22\n"
     ]
    },
    {
     "name": "stderr",
     "output_type": "stream",
     "text": [
      "\n",
      "train: 22-70/71 tr_acc: 55.00%, lr=['0.0005936906572928622'], tr_loss: 1.1652129888534546, val_acc: 61.70%: 100%|██████████| 71/71 [00:42<00:00,  1.68it/s]"
     ]
    },
    {
     "name": "stdout",
     "output_type": "stream",
     "text": [
      "epoch_time: 42.51286745071411 seconds\n",
      "\n",
      "\n",
      "EPOCH 23\n"
     ]
    },
    {
     "name": "stderr",
     "output_type": "stream",
     "text": [
      "\n",
      "train: 23-70/71 tr_acc: 62.50%, lr=['0.000562666616782152'], tr_loss: 0.9398101568222046, val_acc: 56.80%: 100%|██████████| 71/71 [00:42<00:00,  1.69it/s]"
     ]
    },
    {
     "name": "stdout",
     "output_type": "stream",
     "text": [
      "epoch_time: 42.303619384765625 seconds\n",
      "\n",
      "\n",
      "EPOCH 24\n"
     ]
    },
    {
     "name": "stderr",
     "output_type": "stream",
     "text": [
      "\n",
      "train: 24-70/71 tr_acc: 55.00%, lr=['0.0005313952597646566'], tr_loss: 1.2038772106170654, val_acc: 60.60%: 100%|██████████| 71/71 [00:42<00:00,  1.69it/s]"
     ]
    },
    {
     "name": "stdout",
     "output_type": "stream",
     "text": [
      "epoch_time: 42.40989661216736 seconds\n",
      "\n",
      "\n",
      "EPOCH 25\n"
     ]
    },
    {
     "name": "stderr",
     "output_type": "stream",
     "text": [
      "\n",
      "train: 25-70/71 tr_acc: 70.00%, lr=['0.0004999999999999998'], tr_loss: 0.9197033643722534, val_acc: 55.70%: 100%|██████████| 71/71 [00:41<00:00,  1.71it/s]"
     ]
    },
    {
     "name": "stdout",
     "output_type": "stream",
     "text": [
      "epoch_time: 41.837167739868164 seconds\n",
      "\n",
      "\n",
      "EPOCH 26\n"
     ]
    },
    {
     "name": "stderr",
     "output_type": "stream",
     "text": [
      "\n",
      "train: 26-70/71 tr_acc: 65.00%, lr=['0.00046860474023534314'], tr_loss: 1.1345512866973877, val_acc: 59.50%: 100%|██████████| 71/71 [00:41<00:00,  1.71it/s]"
     ]
    },
    {
     "name": "stdout",
     "output_type": "stream",
     "text": [
      "epoch_time: 41.772621393203735 seconds\n",
      "\n",
      "\n",
      "EPOCH 27\n"
     ]
    },
    {
     "name": "stderr",
     "output_type": "stream",
     "text": [
      "\n",
      "train: 27-70/71 tr_acc: 70.00%, lr=['0.00043733338321784774'], tr_loss: 0.992599368095398, val_acc: 58.10%: 100%|██████████| 71/71 [00:42<00:00,  1.68it/s] "
     ]
    },
    {
     "name": "stdout",
     "output_type": "stream",
     "text": [
      "epoch_time: 42.52089858055115 seconds\n",
      "\n",
      "\n",
      "EPOCH 28\n"
     ]
    },
    {
     "name": "stderr",
     "output_type": "stream",
     "text": [
      "\n",
      "train: 28-70/71 tr_acc: 72.50%, lr=['0.00040630934270713756'], tr_loss: 0.805627167224884, val_acc: 57.80%: 100%|██████████| 71/71 [00:41<00:00,  1.71it/s] "
     ]
    },
    {
     "name": "stdout",
     "output_type": "stream",
     "text": [
      "epoch_time: 41.91783857345581 seconds\n",
      "\n",
      "\n",
      "EPOCH 29\n"
     ]
    },
    {
     "name": "stderr",
     "output_type": "stream",
     "text": [
      "\n",
      "train: 29-70/71 tr_acc: 57.50%, lr=['0.00037565505641757246'], tr_loss: 1.233135461807251, val_acc: 63.00%: 100%|██████████| 71/71 [00:42<00:00,  1.67it/s] "
     ]
    },
    {
     "name": "stdout",
     "output_type": "stream",
     "text": [
      "epoch_time: 42.86566138267517 seconds\n",
      "\n",
      "\n",
      "EPOCH 30\n"
     ]
    },
    {
     "name": "stderr",
     "output_type": "stream",
     "text": [
      "\n",
      "train: 30-70/71 tr_acc: 70.00%, lr=['0.00034549150281252633'], tr_loss: 0.8720742464065552, val_acc: 57.60%: 100%|██████████| 71/71 [00:41<00:00,  1.70it/s]"
     ]
    },
    {
     "name": "stdout",
     "output_type": "stream",
     "text": [
      "epoch_time: 42.20977306365967 seconds\n",
      "\n",
      "\n",
      "EPOCH 31\n"
     ]
    },
    {
     "name": "stderr",
     "output_type": "stream",
     "text": [
      "\n",
      "train: 31-70/71 tr_acc: 77.50%, lr=['0.00031593772365766105'], tr_loss: 0.7774292230606079, val_acc: 63.10%: 100%|██████████| 71/71 [00:42<00:00,  1.68it/s]"
     ]
    },
    {
     "name": "stdout",
     "output_type": "stream",
     "text": [
      "epoch_time: 42.58866357803345 seconds\n",
      "\n",
      "\n",
      "EPOCH 32\n"
     ]
    },
    {
     "name": "stderr",
     "output_type": "stream",
     "text": [
      "\n",
      "train: 32-70/71 tr_acc: 75.00%, lr=['0.00028711035421746355'], tr_loss: 0.8061453700065613, val_acc: 63.20%: 100%|██████████| 71/71 [00:42<00:00,  1.68it/s]"
     ]
    },
    {
     "name": "stdout",
     "output_type": "stream",
     "text": [
      "epoch_time: 42.537909269332886 seconds\n",
      "\n",
      "\n",
      "EPOCH 33\n"
     ]
    },
    {
     "name": "stderr",
     "output_type": "stream",
     "text": [
      "\n",
      "train: 33-70/71 tr_acc: 77.50%, lr=['0.0002591231629491422'], tr_loss: 0.7153831720352173, val_acc: 65.10%: 100%|██████████| 71/71 [00:42<00:00,  1.68it/s]"
     ]
    },
    {
     "name": "stdout",
     "output_type": "stream",
     "text": [
      "epoch_time: 42.666011095047 seconds\n",
      "\n",
      "\n",
      "EPOCH 34\n"
     ]
    },
    {
     "name": "stderr",
     "output_type": "stream",
     "text": [
      "\n",
      "train: 34-70/71 tr_acc: 70.00%, lr=['0.00023208660251050145'], tr_loss: 1.1015352010726929, val_acc: 63.30%: 100%|██████████| 71/71 [00:42<00:00,  1.69it/s]"
     ]
    },
    {
     "name": "stdout",
     "output_type": "stream",
     "text": [
      "epoch_time: 42.351813554763794 seconds\n",
      "\n",
      "\n",
      "EPOCH 35\n"
     ]
    },
    {
     "name": "stderr",
     "output_type": "stream",
     "text": [
      "\n",
      "train: 35-70/71 tr_acc: 65.00%, lr=['0.00020610737385376337'], tr_loss: 0.8847650289535522, val_acc: 61.00%: 100%|██████████| 71/71 [00:42<00:00,  1.68it/s]"
     ]
    },
    {
     "name": "stdout",
     "output_type": "stream",
     "text": [
      "epoch_time: 42.6808123588562 seconds\n",
      "\n",
      "\n",
      "EPOCH 36\n"
     ]
    },
    {
     "name": "stderr",
     "output_type": "stream",
     "text": [
      "\n",
      "train: 36-70/71 tr_acc: 65.00%, lr=['0.00018128800512565502'], tr_loss: 1.2702362537384033, val_acc: 65.10%: 100%|██████████| 71/71 [00:41<00:00,  1.69it/s]"
     ]
    },
    {
     "name": "stdout",
     "output_type": "stream",
     "text": [
      "epoch_time: 42.2282874584198 seconds\n",
      "\n",
      "\n",
      "EPOCH 37\n"
     ]
    },
    {
     "name": "stderr",
     "output_type": "stream",
     "text": [
      "\n",
      "train: 37-70/71 tr_acc: 72.50%, lr=['0.00015772644703565555'], tr_loss: 0.8648061752319336, val_acc: 65.20%: 100%|██████████| 71/71 [00:42<00:00,  1.68it/s]"
     ]
    },
    {
     "name": "stdout",
     "output_type": "stream",
     "text": [
      "epoch_time: 42.649781465530396 seconds\n",
      "\n",
      "\n",
      "EPOCH 38\n"
     ]
    },
    {
     "name": "stderr",
     "output_type": "stream",
     "text": [
      "\n",
      "train: 38-70/71 tr_acc: 67.50%, lr=['0.00013551568628929425'], tr_loss: 0.7195481657981873, val_acc: 64.90%: 100%|██████████| 71/71 [00:41<00:00,  1.70it/s]"
     ]
    },
    {
     "name": "stdout",
     "output_type": "stream",
     "text": [
      "epoch_time: 41.97617053985596 seconds\n",
      "\n",
      "\n",
      "EPOCH 39\n"
     ]
    },
    {
     "name": "stderr",
     "output_type": "stream",
     "text": [
      "\n",
      "train: 39-70/71 tr_acc: 72.50%, lr=['0.00011474337861210535'], tr_loss: 0.7006186842918396, val_acc: 63.70%: 100%|██████████| 71/71 [00:41<00:00,  1.70it/s]"
     ]
    },
    {
     "name": "stdout",
     "output_type": "stream",
     "text": [
      "epoch_time: 42.104358434677124 seconds\n",
      "\n",
      "\n",
      "EPOCH 40\n"
     ]
    },
    {
     "name": "stderr",
     "output_type": "stream",
     "text": [
      "\n",
      "train: 40-70/71 tr_acc: 70.00%, lr=['9.549150281252626e-05'], tr_loss: 0.7053574919700623, val_acc: 66.50%: 100%|██████████| 71/71 [00:42<00:00,  1.68it/s]"
     ]
    },
    {
     "name": "stdout",
     "output_type": "stream",
     "text": [
      "epoch_time: 42.575263261795044 seconds\n",
      "\n",
      "\n",
      "EPOCH 41\n"
     ]
    },
    {
     "name": "stderr",
     "output_type": "stream",
     "text": [
      "\n",
      "train: 41-70/71 tr_acc: 60.00%, lr=['7.783603724899252e-05'], tr_loss: 0.9387445449829102, val_acc: 66.70%: 100%|██████████| 71/71 [00:42<00:00,  1.68it/s]"
     ]
    },
    {
     "name": "stdout",
     "output_type": "stream",
     "text": [
      "epoch_time: 42.636191606521606 seconds\n",
      "\n",
      "\n",
      "EPOCH 42\n"
     ]
    },
    {
     "name": "stderr",
     "output_type": "stream",
     "text": [
      "\n",
      "train: 42-70/71 tr_acc: 70.00%, lr=['6.184665997806817e-05'], tr_loss: 0.843676745891571, val_acc: 66.80%: 100%|██████████| 71/71 [00:42<00:00,  1.67it/s] "
     ]
    },
    {
     "name": "stdout",
     "output_type": "stream",
     "text": [
      "epoch_time: 42.826961517333984 seconds\n",
      "\n",
      "\n",
      "EPOCH 43\n"
     ]
    },
    {
     "name": "stderr",
     "output_type": "stream",
     "text": [
      "\n",
      "train: 43-70/71 tr_acc: 67.50%, lr=['4.7586473766990294e-05'], tr_loss: 0.9543040990829468, val_acc: 67.00%: 100%|██████████| 71/71 [00:42<00:00,  1.66it/s]"
     ]
    },
    {
     "name": "stdout",
     "output_type": "stream",
     "text": [
      "epoch_time: 43.11128640174866 seconds\n",
      "\n",
      "\n",
      "EPOCH 44\n"
     ]
    },
    {
     "name": "stderr",
     "output_type": "stream",
     "text": [
      "\n",
      "train: 44-70/71 tr_acc: 65.00%, lr=['3.5111757055874305e-05'], tr_loss: 1.021984577178955, val_acc: 67.30%: 100%|██████████| 71/71 [00:42<00:00,  1.69it/s] \n"
     ]
    },
    {
     "name": "stdout",
     "output_type": "stream",
     "text": [
      "epoch_time: 42.30261254310608 seconds\n",
      "\n",
      "\n",
      "EPOCH 45\n"
     ]
    },
    {
     "name": "stderr",
     "output_type": "stream",
     "text": [
      "train: 45-70/71 tr_acc: 72.50%, lr=['2.4471741852423218e-05'], tr_loss: 0.8339444994926453, val_acc: 66.10%: 100%|██████████| 71/71 [00:41<00:00,  1.71it/s]"
     ]
    },
    {
     "name": "stdout",
     "output_type": "stream",
     "text": [
      "epoch_time: 41.84441304206848 seconds\n",
      "\n",
      "\n",
      "EPOCH 46\n"
     ]
    },
    {
     "name": "stderr",
     "output_type": "stream",
     "text": [
      "\n",
      "train: 46-70/71 tr_acc: 72.50%, lr=['1.5708419435684507e-05'], tr_loss: 0.8831619024276733, val_acc: 67.00%: 100%|██████████| 71/71 [00:41<00:00,  1.69it/s]"
     ]
    },
    {
     "name": "stdout",
     "output_type": "stream",
     "text": [
      "epoch_time: 42.27102184295654 seconds\n",
      "\n",
      "\n",
      "EPOCH 47\n"
     ]
    },
    {
     "name": "stderr",
     "output_type": "stream",
     "text": [
      "\n",
      "train: 47-70/71 tr_acc: 72.50%, lr=['8.856374635655634e-06'], tr_loss: 0.7590880990028381, val_acc: 67.20%: 100%|██████████| 71/71 [00:42<00:00,  1.68it/s]"
     ]
    },
    {
     "name": "stdout",
     "output_type": "stream",
     "text": [
      "epoch_time: 42.62714886665344 seconds\n",
      "\n",
      "\n",
      "EPOCH 48\n"
     ]
    },
    {
     "name": "stderr",
     "output_type": "stream",
     "text": [
      "\n",
      "train: 48-70/71 tr_acc: 77.50%, lr=['3.942649342761115e-06'], tr_loss: 0.8187252879142761, val_acc: 66.90%: 100%|██████████| 71/71 [00:41<00:00,  1.71it/s]"
     ]
    },
    {
     "name": "stdout",
     "output_type": "stream",
     "text": [
      "epoch_time: 41.854241132736206 seconds\n",
      "\n",
      "\n",
      "EPOCH 49\n"
     ]
    },
    {
     "name": "stderr",
     "output_type": "stream",
     "text": [
      "\n",
      "train: 49-70/71 tr_acc: 62.50%, lr=['9.866357858642198e-07'], tr_loss: 1.091232180595398, val_acc: 67.70%: 100%|██████████| 71/71 [00:41<00:00,  1.69it/s] "
     ]
    },
    {
     "name": "stdout",
     "output_type": "stream",
     "text": [
      "epoch_time: 42.2386257648468 seconds\n",
      "\n",
      "\n",
      "EPOCH 50\n"
     ]
    },
    {
     "name": "stderr",
     "output_type": "stream",
     "text": [
      "\n",
      "train: 50-70/71 tr_acc: 72.50%, lr=['0.0'], tr_loss: 0.8342159390449524, val_acc: 67.90%: 100%|██████████| 71/71 [00:42<00:00,  1.67it/s]"
     ]
    },
    {
     "name": "stdout",
     "output_type": "stream",
     "text": [
      "epoch_time: 42.738282918930054 seconds\n",
      "\n",
      "\n",
      "EPOCH 51\n"
     ]
    },
    {
     "name": "stderr",
     "output_type": "stream",
     "text": [
      "\n",
      "train: 51-70/71 tr_acc: 80.00%, lr=['9.866357858642206e-07'], tr_loss: 0.7912265062332153, val_acc: 67.50%: 100%|██████████| 71/71 [00:42<00:00,  1.68it/s]"
     ]
    },
    {
     "name": "stdout",
     "output_type": "stream",
     "text": [
      "epoch_time: 42.56200432777405 seconds\n",
      "\n",
      "\n",
      "EPOCH 52\n"
     ]
    },
    {
     "name": "stderr",
     "output_type": "stream",
     "text": [
      "\n",
      "train: 52-70/71 tr_acc: 77.50%, lr=['3.942649342761062e-06'], tr_loss: 0.7814368009567261, val_acc: 66.90%: 100%|██████████| 71/71 [00:41<00:00,  1.69it/s]"
     ]
    },
    {
     "name": "stdout",
     "output_type": "stream",
     "text": [
      "epoch_time: 42.24116086959839 seconds\n",
      "\n",
      "\n",
      "EPOCH 53\n"
     ]
    },
    {
     "name": "stderr",
     "output_type": "stream",
     "text": [
      "\n",
      "train: 53-70/71 tr_acc: 80.00%, lr=['8.856374635655695e-06'], tr_loss: 0.7038865089416504, val_acc: 66.20%: 100%|██████████| 71/71 [00:41<00:00,  1.72it/s]"
     ]
    },
    {
     "name": "stdout",
     "output_type": "stream",
     "text": [
      "epoch_time: 41.6537401676178 seconds\n",
      "\n",
      "\n",
      "EPOCH 54\n"
     ]
    },
    {
     "name": "stderr",
     "output_type": "stream",
     "text": [
      "\n",
      "train: 54-70/71 tr_acc: 75.00%, lr=['1.5708419435684406e-05'], tr_loss: 0.7962362170219421, val_acc: 66.80%: 100%|██████████| 71/71 [00:41<00:00,  1.71it/s]"
     ]
    },
    {
     "name": "stdout",
     "output_type": "stream",
     "text": [
      "epoch_time: 41.736032485961914 seconds\n",
      "\n",
      "\n",
      "EPOCH 55\n"
     ]
    },
    {
     "name": "stderr",
     "output_type": "stream",
     "text": [
      "\n",
      "train: 55-70/71 tr_acc: 65.00%, lr=['2.4471741852423177e-05'], tr_loss: 1.0238112211227417, val_acc: 67.20%: 100%|██████████| 71/71 [00:42<00:00,  1.68it/s]"
     ]
    },
    {
     "name": "stdout",
     "output_type": "stream",
     "text": [
      "epoch_time: 42.64984607696533 seconds\n",
      "\n",
      "\n",
      "EPOCH 56\n"
     ]
    },
    {
     "name": "stderr",
     "output_type": "stream",
     "text": [
      "\n",
      "train: 56-70/71 tr_acc: 77.50%, lr=['3.5111757055874265e-05'], tr_loss: 0.6620138883590698, val_acc: 66.90%: 100%|██████████| 71/71 [00:42<00:00,  1.69it/s]"
     ]
    },
    {
     "name": "stdout",
     "output_type": "stream",
     "text": [
      "epoch_time: 42.40591478347778 seconds\n",
      "\n",
      "\n",
      "EPOCH 57\n"
     ]
    },
    {
     "name": "stderr",
     "output_type": "stream",
     "text": [
      "\n",
      "train: 57-70/71 tr_acc: 55.00%, lr=['4.7586473766990145e-05'], tr_loss: 1.2253514528274536, val_acc: 67.00%: 100%|██████████| 71/71 [00:41<00:00,  1.70it/s]"
     ]
    },
    {
     "name": "stdout",
     "output_type": "stream",
     "text": [
      "epoch_time: 42.08626461029053 seconds\n",
      "\n",
      "\n",
      "EPOCH 58\n"
     ]
    },
    {
     "name": "stderr",
     "output_type": "stream",
     "text": [
      "\n",
      "train: 58-70/71 tr_acc: 65.00%, lr=['6.184665997806825e-05'], tr_loss: 0.9344994425773621, val_acc: 66.60%: 100%|██████████| 71/71 [00:41<00:00,  1.70it/s]"
     ]
    },
    {
     "name": "stdout",
     "output_type": "stream",
     "text": [
      "epoch_time: 42.03061771392822 seconds\n",
      "\n",
      "\n",
      "EPOCH 59\n"
     ]
    },
    {
     "name": "stderr",
     "output_type": "stream",
     "text": [
      "\n",
      "train: 59-70/71 tr_acc: 62.50%, lr=['7.78360372489924e-05'], tr_loss: 1.0748727321624756, val_acc: 65.30%: 100%|██████████| 71/71 [00:41<00:00,  1.70it/s]"
     ]
    },
    {
     "name": "stdout",
     "output_type": "stream",
     "text": [
      "epoch_time: 42.10660243034363 seconds\n",
      "\n",
      "\n",
      "EPOCH 60\n"
     ]
    },
    {
     "name": "stderr",
     "output_type": "stream",
     "text": [
      "\n",
      "train: 60-70/71 tr_acc: 62.50%, lr=['9.54915028125261e-05'], tr_loss: 0.9288649559020996, val_acc: 65.20%: 100%|██████████| 71/71 [00:41<00:00,  1.69it/s]"
     ]
    },
    {
     "name": "stdout",
     "output_type": "stream",
     "text": [
      "epoch_time: 42.29817509651184 seconds\n",
      "\n",
      "\n",
      "EPOCH 61\n"
     ]
    },
    {
     "name": "stderr",
     "output_type": "stream",
     "text": [
      "\n",
      "train: 61-70/71 tr_acc: 70.00%, lr=['0.00011474337861210537'], tr_loss: 0.8764942288398743, val_acc: 67.10%: 100%|██████████| 71/71 [00:41<00:00,  1.69it/s]"
     ]
    },
    {
     "name": "stdout",
     "output_type": "stream",
     "text": [
      "epoch_time: 42.22623872756958 seconds\n",
      "\n",
      "\n",
      "EPOCH 62\n"
     ]
    },
    {
     "name": "stderr",
     "output_type": "stream",
     "text": [
      "\n",
      "train: 62-70/71 tr_acc: 67.50%, lr=['0.0001355156862892941'], tr_loss: 1.0429902076721191, val_acc: 64.90%: 100%|██████████| 71/71 [00:42<00:00,  1.67it/s]"
     ]
    },
    {
     "name": "stdout",
     "output_type": "stream",
     "text": [
      "epoch_time: 42.80045175552368 seconds\n",
      "\n",
      "\n",
      "EPOCH 63\n"
     ]
    },
    {
     "name": "stderr",
     "output_type": "stream",
     "text": [
      "\n",
      "train: 63-70/71 tr_acc: 65.00%, lr=['0.00015772644703565566'], tr_loss: 0.9817261695861816, val_acc: 63.00%: 100%|██████████| 71/71 [00:41<00:00,  1.70it/s]"
     ]
    },
    {
     "name": "stdout",
     "output_type": "stream",
     "text": [
      "epoch_time: 42.195735692977905 seconds\n",
      "\n",
      "\n",
      "EPOCH 64\n"
     ]
    },
    {
     "name": "stderr",
     "output_type": "stream",
     "text": [
      "\n",
      "train: 64-70/71 tr_acc: 70.00%, lr=['0.00018128800512565518'], tr_loss: 0.7558505535125732, val_acc: 65.30%: 100%|██████████| 71/71 [00:41<00:00,  1.69it/s]"
     ]
    },
    {
     "name": "stdout",
     "output_type": "stream",
     "text": [
      "epoch_time: 42.234962463378906 seconds\n",
      "\n",
      "\n",
      "EPOCH 65\n"
     ]
    },
    {
     "name": "stderr",
     "output_type": "stream",
     "text": [
      "\n",
      "train: 65-70/71 tr_acc: 70.00%, lr=['0.00020610737385376332'], tr_loss: 0.9487496614456177, val_acc: 63.10%: 100%|██████████| 71/71 [00:42<00:00,  1.68it/s]"
     ]
    },
    {
     "name": "stdout",
     "output_type": "stream",
     "text": [
      "epoch_time: 42.473549365997314 seconds\n",
      "\n",
      "\n",
      "EPOCH 66\n"
     ]
    },
    {
     "name": "stderr",
     "output_type": "stream",
     "text": [
      "\n",
      "train: 66-70/71 tr_acc: 77.50%, lr=['0.00023208660251050178'], tr_loss: 0.7345864772796631, val_acc: 62.30%: 100%|██████████| 71/71 [00:41<00:00,  1.71it/s]"
     ]
    },
    {
     "name": "stdout",
     "output_type": "stream",
     "text": [
      "epoch_time: 41.68264937400818 seconds\n",
      "\n",
      "\n",
      "EPOCH 67\n"
     ]
    },
    {
     "name": "stderr",
     "output_type": "stream",
     "text": [
      "\n",
      "train: 67-70/71 tr_acc: 70.00%, lr=['0.00025912316294914234'], tr_loss: 0.9626449346542358, val_acc: 62.90%: 100%|██████████| 71/71 [00:41<00:00,  1.70it/s]"
     ]
    },
    {
     "name": "stdout",
     "output_type": "stream",
     "text": [
      "epoch_time: 41.98921513557434 seconds\n",
      "\n",
      "\n",
      "EPOCH 68\n"
     ]
    },
    {
     "name": "stderr",
     "output_type": "stream",
     "text": [
      "\n",
      "train: 68-70/71 tr_acc: 85.00%, lr=['0.0002871103542174638'], tr_loss: 0.5409225821495056, val_acc: 63.00%: 100%|██████████| 71/71 [00:41<00:00,  1.70it/s]"
     ]
    },
    {
     "name": "stdout",
     "output_type": "stream",
     "text": [
      "epoch_time: 42.16834235191345 seconds\n",
      "\n",
      "\n",
      "EPOCH 69\n"
     ]
    },
    {
     "name": "stderr",
     "output_type": "stream",
     "text": [
      "\n",
      "train: 69-70/71 tr_acc: 65.00%, lr=['0.000315937723657661'], tr_loss: 1.0015878677368164, val_acc: 57.80%: 100%|██████████| 71/71 [00:41<00:00,  1.70it/s]"
     ]
    },
    {
     "name": "stdout",
     "output_type": "stream",
     "text": [
      "epoch_time: 42.13844633102417 seconds\n",
      "\n",
      "\n",
      "EPOCH 70\n"
     ]
    },
    {
     "name": "stderr",
     "output_type": "stream",
     "text": [
      "\n",
      "train: 70-70/71 tr_acc: 72.50%, lr=['0.0003454915028125261'], tr_loss: 0.9962928891181946, val_acc: 62.60%: 100%|██████████| 71/71 [00:41<00:00,  1.69it/s]"
     ]
    },
    {
     "name": "stdout",
     "output_type": "stream",
     "text": [
      "epoch_time: 42.310890913009644 seconds\n",
      "\n",
      "\n",
      "EPOCH 71\n"
     ]
    },
    {
     "name": "stderr",
     "output_type": "stream",
     "text": [
      "\n",
      "train: 71-70/71 tr_acc: 75.00%, lr=['0.0003756550564175727'], tr_loss: 0.8853021860122681, val_acc: 63.60%: 100%|██████████| 71/71 [00:42<00:00,  1.68it/s]"
     ]
    },
    {
     "name": "stdout",
     "output_type": "stream",
     "text": [
      "epoch_time: 42.46703600883484 seconds\n",
      "\n",
      "\n",
      "EPOCH 72\n"
     ]
    },
    {
     "name": "stderr",
     "output_type": "stream",
     "text": [
      "\n",
      "train: 72-70/71 tr_acc: 57.50%, lr=['0.0004063093427071376'], tr_loss: 1.0972354412078857, val_acc: 60.90%: 100%|██████████| 71/71 [00:41<00:00,  1.69it/s]"
     ]
    },
    {
     "name": "stdout",
     "output_type": "stream",
     "text": [
      "epoch_time: 42.22813415527344 seconds\n",
      "\n",
      "\n",
      "EPOCH 73\n"
     ]
    },
    {
     "name": "stderr",
     "output_type": "stream",
     "text": [
      "\n",
      "train: 73-70/71 tr_acc: 55.00%, lr=['0.0004373333832178476'], tr_loss: 1.1605820655822754, val_acc: 53.40%: 100%|██████████| 71/71 [00:42<00:00,  1.68it/s]"
     ]
    },
    {
     "name": "stdout",
     "output_type": "stream",
     "text": [
      "epoch_time: 42.597999811172485 seconds\n",
      "\n",
      "\n",
      "EPOCH 74\n"
     ]
    },
    {
     "name": "stderr",
     "output_type": "stream",
     "text": [
      "\n",
      "train: 74-70/71 tr_acc: 80.00%, lr=['0.00046860474023534325'], tr_loss: 0.720805287361145, val_acc: 62.50%: 100%|██████████| 71/71 [00:42<00:00,  1.68it/s] "
     ]
    },
    {
     "name": "stdout",
     "output_type": "stream",
     "text": [
      "epoch_time: 42.54983949661255 seconds\n",
      "\n",
      "\n",
      "EPOCH 75\n"
     ]
    },
    {
     "name": "stderr",
     "output_type": "stream",
     "text": [
      "\n",
      "train: 75-70/71 tr_acc: 70.00%, lr=['0.0004999999999999998'], tr_loss: 0.7800813913345337, val_acc: 48.00%: 100%|██████████| 71/71 [00:41<00:00,  1.69it/s]"
     ]
    },
    {
     "name": "stdout",
     "output_type": "stream",
     "text": [
      "epoch_time: 42.222251653671265 seconds\n",
      "\n",
      "\n",
      "EPOCH 76\n"
     ]
    },
    {
     "name": "stderr",
     "output_type": "stream",
     "text": [
      "\n",
      "train: 76-70/71 tr_acc: 75.00%, lr=['0.0005313952597646563'], tr_loss: 0.7585238814353943, val_acc: 54.40%: 100%|██████████| 71/71 [00:41<00:00,  1.70it/s]"
     ]
    },
    {
     "name": "stdout",
     "output_type": "stream",
     "text": [
      "epoch_time: 42.02453422546387 seconds\n",
      "\n",
      "\n",
      "EPOCH 77\n"
     ]
    },
    {
     "name": "stderr",
     "output_type": "stream",
     "text": [
      "\n",
      "train: 77-70/71 tr_acc: 75.00%, lr=['0.0005626666167821521'], tr_loss: 0.7592971920967102, val_acc: 59.20%: 100%|██████████| 71/71 [00:41<00:00,  1.69it/s]"
     ]
    },
    {
     "name": "stdout",
     "output_type": "stream",
     "text": [
      "epoch_time: 42.25674033164978 seconds\n",
      "\n",
      "\n",
      "EPOCH 78\n"
     ]
    },
    {
     "name": "stderr",
     "output_type": "stream",
     "text": [
      "\n",
      "train: 78-70/71 tr_acc: 75.00%, lr=['0.0005936906572928622'], tr_loss: 0.6573980450630188, val_acc: 57.60%: 100%|██████████| 71/71 [00:42<00:00,  1.67it/s]"
     ]
    },
    {
     "name": "stdout",
     "output_type": "stream",
     "text": [
      "epoch_time: 42.895439863204956 seconds\n",
      "\n",
      "\n",
      "EPOCH 79\n"
     ]
    },
    {
     "name": "stderr",
     "output_type": "stream",
     "text": [
      "\n",
      "train: 79-70/71 tr_acc: 77.50%, lr=['0.0006243449435824275'], tr_loss: 0.6534626483917236, val_acc: 59.50%: 100%|██████████| 71/71 [00:41<00:00,  1.71it/s]"
     ]
    },
    {
     "name": "stdout",
     "output_type": "stream",
     "text": [
      "epoch_time: 41.8418664932251 seconds\n",
      "\n",
      "\n",
      "EPOCH 80\n"
     ]
    },
    {
     "name": "stderr",
     "output_type": "stream",
     "text": [
      "\n",
      "train: 80-70/71 tr_acc: 80.00%, lr=['0.0006545084971874736'], tr_loss: 0.6876169443130493, val_acc: 56.20%: 100%|██████████| 71/71 [00:42<00:00,  1.67it/s]"
     ]
    },
    {
     "name": "stdout",
     "output_type": "stream",
     "text": [
      "epoch_time: 42.726555585861206 seconds\n",
      "\n",
      "\n",
      "EPOCH 81\n"
     ]
    },
    {
     "name": "stderr",
     "output_type": "stream",
     "text": [
      "\n",
      "train: 81-70/71 tr_acc: 70.00%, lr=['0.0006840622763423388'], tr_loss: 0.9567532539367676, val_acc: 56.30%: 100%|██████████| 71/71 [00:41<00:00,  1.70it/s]"
     ]
    },
    {
     "name": "stdout",
     "output_type": "stream",
     "text": [
      "epoch_time: 42.10663437843323 seconds\n",
      "\n",
      "\n",
      "EPOCH 82\n"
     ]
    },
    {
     "name": "stderr",
     "output_type": "stream",
     "text": [
      "\n",
      "train: 82-70/71 tr_acc: 62.50%, lr=['0.000712889645782536'], tr_loss: 0.9434536695480347, val_acc: 59.20%: 100%|██████████| 71/71 [00:42<00:00,  1.68it/s]"
     ]
    },
    {
     "name": "stdout",
     "output_type": "stream",
     "text": [
      "epoch_time: 42.540916442871094 seconds\n",
      "\n",
      "\n",
      "EPOCH 83\n"
     ]
    },
    {
     "name": "stderr",
     "output_type": "stream",
     "text": [
      "\n",
      "train: 83-70/71 tr_acc: 70.00%, lr=['0.0007408768370508579'], tr_loss: 0.8153653144836426, val_acc: 62.20%: 100%|██████████| 71/71 [00:41<00:00,  1.70it/s]"
     ]
    },
    {
     "name": "stdout",
     "output_type": "stream",
     "text": [
      "epoch_time: 42.03735637664795 seconds\n",
      "\n",
      "\n",
      "EPOCH 84\n"
     ]
    },
    {
     "name": "stderr",
     "output_type": "stream",
     "text": [
      "\n",
      "train: 84-70/71 tr_acc: 67.50%, lr=['0.0007679133974894985'], tr_loss: 0.9501527547836304, val_acc: 54.40%: 100%|██████████| 71/71 [00:41<00:00,  1.69it/s]"
     ]
    },
    {
     "name": "stdout",
     "output_type": "stream",
     "text": [
      "epoch_time: 42.25520944595337 seconds\n",
      "\n",
      "\n",
      "EPOCH 85\n"
     ]
    },
    {
     "name": "stderr",
     "output_type": "stream",
     "text": [
      "\n",
      "train: 85-70/71 tr_acc: 72.50%, lr=['0.0007938926261462367'], tr_loss: 0.8086175918579102, val_acc: 52.00%: 100%|██████████| 71/71 [00:42<00:00,  1.68it/s]"
     ]
    },
    {
     "name": "stdout",
     "output_type": "stream",
     "text": [
      "epoch_time: 42.56718945503235 seconds\n",
      "\n",
      "\n",
      "EPOCH 86\n"
     ]
    },
    {
     "name": "stderr",
     "output_type": "stream",
     "text": [
      "\n",
      "train: 86-70/71 tr_acc: 72.50%, lr=['0.0008187119948743449'], tr_loss: 0.7324670553207397, val_acc: 56.70%: 100%|██████████| 71/71 [00:41<00:00,  1.69it/s]"
     ]
    },
    {
     "name": "stdout",
     "output_type": "stream",
     "text": [
      "epoch_time: 42.271958351135254 seconds\n",
      "\n",
      "\n",
      "EPOCH 87\n"
     ]
    },
    {
     "name": "stderr",
     "output_type": "stream",
     "text": [
      "\n",
      "train: 87-70/71 tr_acc: 65.00%, lr=['0.0008422735529643442'], tr_loss: 1.0721850395202637, val_acc: 59.20%: 100%|██████████| 71/71 [00:42<00:00,  1.67it/s]"
     ]
    },
    {
     "name": "stdout",
     "output_type": "stream",
     "text": [
      "epoch_time: 42.69327449798584 seconds\n",
      "\n",
      "\n",
      "EPOCH 88\n"
     ]
    },
    {
     "name": "stderr",
     "output_type": "stream",
     "text": [
      "\n",
      "train: 88-70/71 tr_acc: 75.00%, lr=['0.0008644843137107058'], tr_loss: 0.8109153509140015, val_acc: 57.00%: 100%|██████████| 71/71 [00:42<00:00,  1.67it/s]"
     ]
    },
    {
     "name": "stdout",
     "output_type": "stream",
     "text": [
      "epoch_time: 42.92401051521301 seconds\n",
      "\n",
      "\n",
      "EPOCH 89\n"
     ]
    },
    {
     "name": "stderr",
     "output_type": "stream",
     "text": [
      "\n",
      "train: 89-70/71 tr_acc: 72.50%, lr=['0.000885256621387895'], tr_loss: 0.8782219886779785, val_acc: 57.80%: 100%|██████████| 71/71 [00:42<00:00,  1.68it/s]"
     ]
    },
    {
     "name": "stdout",
     "output_type": "stream",
     "text": [
      "epoch_time: 42.51104688644409 seconds\n",
      "\n",
      "\n",
      "EPOCH 90\n"
     ]
    },
    {
     "name": "stderr",
     "output_type": "stream",
     "text": [
      "\n",
      "train: 90-70/71 tr_acc: 72.50%, lr=['0.000904508497187474'], tr_loss: 0.8130776286125183, val_acc: 61.80%: 100%|██████████| 71/71 [00:42<00:00,  1.68it/s]"
     ]
    },
    {
     "name": "stdout",
     "output_type": "stream",
     "text": [
      "epoch_time: 42.396941900253296 seconds\n",
      "\n",
      "\n",
      "EPOCH 91\n"
     ]
    },
    {
     "name": "stderr",
     "output_type": "stream",
     "text": [
      "\n",
      "train: 91-70/71 tr_acc: 80.00%, lr=['0.0009221639627510078'], tr_loss: 0.6733505725860596, val_acc: 58.20%: 100%|██████████| 71/71 [00:42<00:00,  1.68it/s]"
     ]
    },
    {
     "name": "stdout",
     "output_type": "stream",
     "text": [
      "epoch_time: 42.5341637134552 seconds\n",
      "\n",
      "\n",
      "EPOCH 92\n"
     ]
    },
    {
     "name": "stderr",
     "output_type": "stream",
     "text": [
      "\n",
      "train: 92-70/71 tr_acc: 75.00%, lr=['0.0009381533400219319'], tr_loss: 0.7261783480644226, val_acc: 39.40%: 100%|██████████| 71/71 [00:41<00:00,  1.70it/s]"
     ]
    },
    {
     "name": "stdout",
     "output_type": "stream",
     "text": [
      "epoch_time: 42.08925151824951 seconds\n",
      "\n",
      "\n",
      "EPOCH 93\n"
     ]
    },
    {
     "name": "stderr",
     "output_type": "stream",
     "text": [
      "\n",
      "train: 93-70/71 tr_acc: 57.50%, lr=['0.00095241352623301'], tr_loss: 0.8262980580329895, val_acc: 57.20%: 100%|██████████| 71/71 [00:42<00:00,  1.68it/s]"
     ]
    },
    {
     "name": "stdout",
     "output_type": "stream",
     "text": [
      "epoch_time: 42.47635865211487 seconds\n",
      "\n",
      "\n",
      "EPOCH 94\n"
     ]
    },
    {
     "name": "stderr",
     "output_type": "stream",
     "text": [
      "\n",
      "train: 94-70/71 tr_acc: 77.50%, lr=['0.000964888242944126'], tr_loss: 0.5492790937423706, val_acc: 64.30%: 100%|██████████| 71/71 [00:42<00:00,  1.67it/s]"
     ]
    },
    {
     "name": "stdout",
     "output_type": "stream",
     "text": [
      "epoch_time: 42.900710105895996 seconds\n",
      "\n",
      "\n",
      "EPOCH 95\n"
     ]
    },
    {
     "name": "stderr",
     "output_type": "stream",
     "text": [
      "\n",
      "train: 95-70/71 tr_acc: 77.50%, lr=['0.000975528258147577'], tr_loss: 0.7072506546974182, val_acc: 55.30%: 100%|██████████| 71/71 [00:41<00:00,  1.70it/s]"
     ]
    },
    {
     "name": "stdout",
     "output_type": "stream",
     "text": [
      "epoch_time: 42.075753927230835 seconds\n",
      "\n",
      "\n",
      "EPOCH 96\n"
     ]
    },
    {
     "name": "stderr",
     "output_type": "stream",
     "text": [
      "\n",
      "train: 96-70/71 tr_acc: 87.50%, lr=['0.0009842915805643156'], tr_loss: 0.547225832939148, val_acc: 60.80%: 100%|██████████| 71/71 [00:41<00:00,  1.70it/s] "
     ]
    },
    {
     "name": "stdout",
     "output_type": "stream",
     "text": [
      "epoch_time: 42.147972106933594 seconds\n",
      "\n",
      "\n",
      "EPOCH 97\n"
     ]
    },
    {
     "name": "stderr",
     "output_type": "stream",
     "text": [
      "\n",
      "train: 97-70/71 tr_acc: 82.50%, lr=['0.0009911436253643444'], tr_loss: 0.622808575630188, val_acc: 60.20%: 100%|██████████| 71/71 [00:41<00:00,  1.70it/s] "
     ]
    },
    {
     "name": "stdout",
     "output_type": "stream",
     "text": [
      "epoch_time: 42.00296092033386 seconds\n",
      "\n",
      "\n",
      "EPOCH 98\n"
     ]
    },
    {
     "name": "stderr",
     "output_type": "stream",
     "text": [
      "\n",
      "train: 98-70/71 tr_acc: 75.00%, lr=['0.0009960573506572388'], tr_loss: 0.7734864950180054, val_acc: 58.40%: 100%|██████████| 71/71 [00:42<00:00,  1.69it/s]"
     ]
    },
    {
     "name": "stdout",
     "output_type": "stream",
     "text": [
      "epoch_time: 42.30366325378418 seconds\n",
      "\n",
      "\n",
      "EPOCH 99\n"
     ]
    },
    {
     "name": "stderr",
     "output_type": "stream",
     "text": [
      "\n",
      "train: 99-70/71 tr_acc: 85.00%, lr=['0.0009990133642141358'], tr_loss: 0.6105707287788391, val_acc: 52.10%: 100%|██████████| 71/71 [00:42<00:00,  1.67it/s]"
     ]
    },
    {
     "name": "stdout",
     "output_type": "stream",
     "text": [
      "epoch_time: 42.69177484512329 seconds\n",
      "\n",
      "\n",
      "EPOCH 100\n"
     ]
    },
    {
     "name": "stderr",
     "output_type": "stream",
     "text": [
      "\n",
      "train: 100-70/71 tr_acc: 77.50%, lr=['0.001'], tr_loss: 0.6073273420333862, val_acc: 54.90%: 100%|██████████| 71/71 [00:41<00:00,  1.70it/s]"
     ]
    },
    {
     "name": "stdout",
     "output_type": "stream",
     "text": [
      "epoch_time: 42.01519584655762 seconds\n",
      "\n",
      "\n",
      "EPOCH 101\n"
     ]
    },
    {
     "name": "stderr",
     "output_type": "stream",
     "text": [
      "\n",
      "train: 101-70/71 tr_acc: 67.50%, lr=['0.0009990133642141358'], tr_loss: 0.7957429885864258, val_acc: 59.90%: 100%|██████████| 71/71 [00:42<00:00,  1.69it/s] "
     ]
    },
    {
     "name": "stdout",
     "output_type": "stream",
     "text": [
      "epoch_time: 42.364009618759155 seconds\n",
      "\n",
      "\n",
      "EPOCH 102\n"
     ]
    },
    {
     "name": "stderr",
     "output_type": "stream",
     "text": [
      "\n",
      "train: 102-70/71 tr_acc: 75.00%, lr=['0.000996057350657239'], tr_loss: 0.7338269352912903, val_acc: 66.80%: 100%|██████████| 71/71 [00:41<00:00,  1.69it/s]"
     ]
    },
    {
     "name": "stdout",
     "output_type": "stream",
     "text": [
      "epoch_time: 42.22931957244873 seconds\n",
      "\n",
      "\n",
      "EPOCH 103\n"
     ]
    },
    {
     "name": "stderr",
     "output_type": "stream",
     "text": [
      "\n",
      "train: 103-70/71 tr_acc: 90.00%, lr=['0.0009911436253643444'], tr_loss: 0.4152867794036865, val_acc: 59.60%: 100%|██████████| 71/71 [00:41<00:00,  1.70it/s] "
     ]
    },
    {
     "name": "stdout",
     "output_type": "stream",
     "text": [
      "epoch_time: 42.04594683647156 seconds\n",
      "\n",
      "\n",
      "EPOCH 104\n"
     ]
    },
    {
     "name": "stderr",
     "output_type": "stream",
     "text": [
      "\n",
      "train: 104-70/71 tr_acc: 80.00%, lr=['0.0009842915805643156'], tr_loss: 0.6823352575302124, val_acc: 62.50%: 100%|██████████| 71/71 [00:41<00:00,  1.70it/s] "
     ]
    },
    {
     "name": "stdout",
     "output_type": "stream",
     "text": [
      "epoch_time: 42.17524433135986 seconds\n",
      "\n",
      "\n",
      "EPOCH 105\n"
     ]
    },
    {
     "name": "stderr",
     "output_type": "stream",
     "text": [
      "\n",
      "train: 105-70/71 tr_acc: 75.00%, lr=['0.0009755282581475769'], tr_loss: 0.7071546316146851, val_acc: 64.10%: 100%|██████████| 71/71 [00:41<00:00,  1.70it/s] "
     ]
    },
    {
     "name": "stdout",
     "output_type": "stream",
     "text": [
      "epoch_time: 42.02510929107666 seconds\n",
      "\n",
      "\n",
      "EPOCH 106\n"
     ]
    },
    {
     "name": "stderr",
     "output_type": "stream",
     "text": [
      "\n",
      "train: 106-70/71 tr_acc: 80.00%, lr=['0.0009648882429441258'], tr_loss: 0.5545920133590698, val_acc: 65.20%: 100%|██████████| 71/71 [00:42<00:00,  1.68it/s]"
     ]
    },
    {
     "name": "stdout",
     "output_type": "stream",
     "text": [
      "epoch_time: 42.528846740722656 seconds\n",
      "\n",
      "\n",
      "EPOCH 107\n"
     ]
    },
    {
     "name": "stderr",
     "output_type": "stream",
     "text": [
      "\n",
      "train: 107-70/71 tr_acc: 82.50%, lr=['0.0009524135262330099'], tr_loss: 0.5205681324005127, val_acc: 62.30%: 100%|██████████| 71/71 [00:42<00:00,  1.67it/s] "
     ]
    },
    {
     "name": "stdout",
     "output_type": "stream",
     "text": [
      "epoch_time: 42.84175682067871 seconds\n",
      "\n",
      "\n",
      "EPOCH 108\n"
     ]
    },
    {
     "name": "stderr",
     "output_type": "stream",
     "text": [
      "\n",
      "train: 108-70/71 tr_acc: 72.50%, lr=['0.000938153340021932'], tr_loss: 0.8199443817138672, val_acc: 63.40%: 100%|██████████| 71/71 [00:41<00:00,  1.70it/s] "
     ]
    },
    {
     "name": "stdout",
     "output_type": "stream",
     "text": [
      "epoch_time: 42.134703159332275 seconds\n",
      "\n",
      "\n",
      "EPOCH 109\n"
     ]
    },
    {
     "name": "stderr",
     "output_type": "stream",
     "text": [
      "\n",
      "train: 109-70/71 tr_acc: 80.00%, lr=['0.0009221639627510078'], tr_loss: 0.6159222722053528, val_acc: 62.30%: 100%|██████████| 71/71 [00:42<00:00,  1.68it/s] "
     ]
    },
    {
     "name": "stdout",
     "output_type": "stream",
     "text": [
      "epoch_time: 42.67580485343933 seconds\n",
      "\n",
      "\n",
      "EPOCH 110\n"
     ]
    },
    {
     "name": "stderr",
     "output_type": "stream",
     "text": [
      "\n",
      "train: 110-70/71 tr_acc: 67.50%, lr=['0.0009045084971874736'], tr_loss: 0.7550877332687378, val_acc: 64.70%: 100%|██████████| 71/71 [00:42<00:00,  1.68it/s] "
     ]
    },
    {
     "name": "stdout",
     "output_type": "stream",
     "text": [
      "epoch_time: 42.63073396682739 seconds\n",
      "\n",
      "\n",
      "EPOCH 111\n"
     ]
    },
    {
     "name": "stderr",
     "output_type": "stream",
     "text": [
      "\n",
      "train: 111-70/71 tr_acc: 60.00%, lr=['0.0008852566213878944'], tr_loss: 1.021057367324829, val_acc: 64.50%: 100%|██████████| 71/71 [00:42<00:00,  1.68it/s]  "
     ]
    },
    {
     "name": "stdout",
     "output_type": "stream",
     "text": [
      "epoch_time: 42.43916416168213 seconds\n",
      "\n",
      "\n",
      "EPOCH 112\n"
     ]
    },
    {
     "name": "stderr",
     "output_type": "stream",
     "text": [
      "\n",
      "train: 112-70/71 tr_acc: 72.50%, lr=['0.0008644843137107057'], tr_loss: 0.7219375371932983, val_acc: 55.20%: 100%|██████████| 71/71 [00:42<00:00,  1.68it/s] "
     ]
    },
    {
     "name": "stdout",
     "output_type": "stream",
     "text": [
      "epoch_time: 42.5195095539093 seconds\n",
      "\n",
      "\n",
      "EPOCH 113\n"
     ]
    },
    {
     "name": "stderr",
     "output_type": "stream",
     "text": [
      "\n",
      "train: 113-70/71 tr_acc: 72.50%, lr=['0.0008422735529643445'], tr_loss: 0.7320026755332947, val_acc: 59.60%: 100%|██████████| 71/71 [00:41<00:00,  1.69it/s] "
     ]
    },
    {
     "name": "stdout",
     "output_type": "stream",
     "text": [
      "epoch_time: 42.25234866142273 seconds\n",
      "\n",
      "\n",
      "EPOCH 114\n"
     ]
    },
    {
     "name": "stderr",
     "output_type": "stream",
     "text": [
      "\n",
      "train: 114-70/71 tr_acc: 80.00%, lr=['0.000818711994874345'], tr_loss: 0.5986924171447754, val_acc: 60.00%: 100%|██████████| 71/71 [00:42<00:00,  1.67it/s] "
     ]
    },
    {
     "name": "stdout",
     "output_type": "stream",
     "text": [
      "epoch_time: 42.812445640563965 seconds\n",
      "\n",
      "\n",
      "EPOCH 115\n"
     ]
    },
    {
     "name": "stderr",
     "output_type": "stream",
     "text": [
      "\n",
      "train: 115-70/71 tr_acc: 85.00%, lr=['0.0007938926261462362'], tr_loss: 0.5306848883628845, val_acc: 58.40%: 100%|██████████| 71/71 [00:42<00:00,  1.68it/s] "
     ]
    },
    {
     "name": "stdout",
     "output_type": "stream",
     "text": [
      "epoch_time: 42.425761461257935 seconds\n",
      "\n",
      "\n",
      "EPOCH 116\n"
     ]
    },
    {
     "name": "stderr",
     "output_type": "stream",
     "text": [
      "\n",
      "train: 116-70/71 tr_acc: 90.00%, lr=['0.0007679133974894982'], tr_loss: 0.6189113855361938, val_acc: 68.10%: 100%|██████████| 71/71 [00:43<00:00,  1.65it/s] "
     ]
    },
    {
     "name": "stdout",
     "output_type": "stream",
     "text": [
      "epoch_time: 43.454787254333496 seconds\n",
      "\n",
      "\n",
      "EPOCH 117\n"
     ]
    },
    {
     "name": "stderr",
     "output_type": "stream",
     "text": [
      "\n",
      "train: 117-70/71 tr_acc: 87.50%, lr=['0.0007408768370508577'], tr_loss: 0.5673869848251343, val_acc: 66.60%: 100%|██████████| 71/71 [00:42<00:00,  1.68it/s] "
     ]
    },
    {
     "name": "stdout",
     "output_type": "stream",
     "text": [
      "epoch_time: 42.57949686050415 seconds\n",
      "\n",
      "\n",
      "EPOCH 118\n"
     ]
    },
    {
     "name": "stderr",
     "output_type": "stream",
     "text": [
      "\n",
      "train: 118-70/71 tr_acc: 77.50%, lr=['0.0007128896457825366'], tr_loss: 0.6268429756164551, val_acc: 65.60%: 100%|██████████| 71/71 [00:42<00:00,  1.68it/s] "
     ]
    },
    {
     "name": "stdout",
     "output_type": "stream",
     "text": [
      "epoch_time: 42.515602827072144 seconds\n",
      "\n",
      "\n",
      "EPOCH 119\n"
     ]
    },
    {
     "name": "stderr",
     "output_type": "stream",
     "text": [
      "\n",
      "train: 119-70/71 tr_acc: 77.50%, lr=['0.0006840622763423395'], tr_loss: 0.6035106182098389, val_acc: 64.70%: 100%|██████████| 71/71 [00:41<00:00,  1.69it/s] "
     ]
    },
    {
     "name": "stdout",
     "output_type": "stream",
     "text": [
      "epoch_time: 42.18414926528931 seconds\n",
      "\n",
      "\n",
      "EPOCH 120\n"
     ]
    },
    {
     "name": "stderr",
     "output_type": "stream",
     "text": [
      "\n",
      "train: 120-70/71 tr_acc: 80.00%, lr=['0.0006545084971874743'], tr_loss: 0.509062647819519, val_acc: 63.80%: 100%|██████████| 71/71 [00:42<00:00,  1.69it/s]  "
     ]
    },
    {
     "name": "stdout",
     "output_type": "stream",
     "text": [
      "epoch_time: 42.39100694656372 seconds\n",
      "\n",
      "\n",
      "EPOCH 121\n"
     ]
    },
    {
     "name": "stderr",
     "output_type": "stream",
     "text": [
      "\n",
      "train: 121-70/71 tr_acc: 85.00%, lr=['0.0006243449435824273'], tr_loss: 0.4817107617855072, val_acc: 66.80%: 100%|██████████| 71/71 [00:42<00:00,  1.69it/s] "
     ]
    },
    {
     "name": "stdout",
     "output_type": "stream",
     "text": [
      "epoch_time: 42.3591628074646 seconds\n",
      "\n",
      "\n",
      "EPOCH 122\n"
     ]
    },
    {
     "name": "stderr",
     "output_type": "stream",
     "text": [
      "\n",
      "train: 122-70/71 tr_acc: 87.50%, lr=['0.0005936906572928624'], tr_loss: 0.49030447006225586, val_acc: 60.90%: 100%|██████████| 71/71 [00:42<00:00,  1.68it/s]"
     ]
    },
    {
     "name": "stdout",
     "output_type": "stream",
     "text": [
      "epoch_time: 42.52405500411987 seconds\n",
      "\n",
      "\n",
      "EPOCH 123\n"
     ]
    },
    {
     "name": "stderr",
     "output_type": "stream",
     "text": [
      "\n",
      "train: 123-70/71 tr_acc: 80.00%, lr=['0.0005626666167821523'], tr_loss: 0.5062277913093567, val_acc: 58.70%: 100%|██████████| 71/71 [00:42<00:00,  1.67it/s] "
     ]
    },
    {
     "name": "stdout",
     "output_type": "stream",
     "text": [
      "epoch_time: 42.6909384727478 seconds\n",
      "\n",
      "\n",
      "EPOCH 124\n"
     ]
    },
    {
     "name": "stderr",
     "output_type": "stream",
     "text": [
      "\n",
      "train: 124-70/71 tr_acc: 92.50%, lr=['0.0005313952597646571'], tr_loss: 0.357048362493515, val_acc: 66.00%: 100%|██████████| 71/71 [00:42<00:00,  1.68it/s]  "
     ]
    },
    {
     "name": "stdout",
     "output_type": "stream",
     "text": [
      "epoch_time: 42.4787220954895 seconds\n",
      "\n",
      "\n",
      "EPOCH 125\n"
     ]
    },
    {
     "name": "stderr",
     "output_type": "stream",
     "text": [
      "\n",
      "train: 125-70/71 tr_acc: 92.50%, lr=['0.0005000000000000006'], tr_loss: 0.397477388381958, val_acc: 63.30%: 100%|██████████| 71/71 [00:42<00:00,  1.69it/s]  "
     ]
    },
    {
     "name": "stdout",
     "output_type": "stream",
     "text": [
      "epoch_time: 42.351731300354004 seconds\n",
      "\n",
      "\n",
      "EPOCH 126\n"
     ]
    },
    {
     "name": "stderr",
     "output_type": "stream",
     "text": [
      "\n",
      "train: 126-70/71 tr_acc: 82.50%, lr=['0.00046860474023534325'], tr_loss: 0.4482508599758148, val_acc: 67.80%: 100%|██████████| 71/71 [00:42<00:00,  1.68it/s] "
     ]
    },
    {
     "name": "stdout",
     "output_type": "stream",
     "text": [
      "epoch_time: 42.66872501373291 seconds\n",
      "\n",
      "\n",
      "EPOCH 127\n"
     ]
    },
    {
     "name": "stderr",
     "output_type": "stream",
     "text": [
      "\n",
      "train: 127-70/71 tr_acc: 92.50%, lr=['0.00043733338321784795'], tr_loss: 0.2463916540145874, val_acc: 65.10%: 100%|██████████| 71/71 [00:42<00:00,  1.68it/s] "
     ]
    },
    {
     "name": "stdout",
     "output_type": "stream",
     "text": [
      "epoch_time: 42.454754114151 seconds\n",
      "\n",
      "\n",
      "EPOCH 128\n"
     ]
    },
    {
     "name": "stderr",
     "output_type": "stream",
     "text": [
      "\n",
      "train: 128-70/71 tr_acc: 87.50%, lr=['0.0004063093427071375'], tr_loss: 0.4110392928123474, val_acc: 68.10%: 100%|██████████| 71/71 [00:41<00:00,  1.70it/s] "
     ]
    },
    {
     "name": "stdout",
     "output_type": "stream",
     "text": [
      "epoch_time: 42.17300224304199 seconds\n",
      "\n",
      "\n",
      "EPOCH 129\n"
     ]
    },
    {
     "name": "stderr",
     "output_type": "stream",
     "text": [
      "\n",
      "train: 129-70/71 tr_acc: 87.50%, lr=['0.0003756550564175726'], tr_loss: 0.36141258478164673, val_acc: 69.10%: 100%|██████████| 71/71 [00:42<00:00,  1.66it/s]"
     ]
    },
    {
     "name": "stdout",
     "output_type": "stream",
     "text": [
      "epoch_time: 43.022220849990845 seconds\n",
      "\n",
      "\n",
      "EPOCH 130\n"
     ]
    },
    {
     "name": "stderr",
     "output_type": "stream",
     "text": [
      "\n",
      "train: 130-70/71 tr_acc: 82.50%, lr=['0.0003454915028125265'], tr_loss: 0.47601717710494995, val_acc: 68.90%: 100%|██████████| 71/71 [00:42<00:00,  1.68it/s]"
     ]
    },
    {
     "name": "stdout",
     "output_type": "stream",
     "text": [
      "epoch_time: 42.541627407073975 seconds\n",
      "\n",
      "\n",
      "EPOCH 131\n"
     ]
    },
    {
     "name": "stderr",
     "output_type": "stream",
     "text": [
      "\n",
      "train: 131-70/71 tr_acc: 87.50%, lr=['0.00031593772365766143'], tr_loss: 0.596680760383606, val_acc: 66.50%: 100%|██████████| 71/71 [00:41<00:00,  1.69it/s]  "
     ]
    },
    {
     "name": "stdout",
     "output_type": "stream",
     "text": [
      "epoch_time: 42.25062608718872 seconds\n",
      "\n",
      "\n",
      "EPOCH 132\n"
     ]
    },
    {
     "name": "stderr",
     "output_type": "stream",
     "text": [
      "\n",
      "train: 132-70/71 tr_acc: 90.00%, lr=['0.0002871103542174634'], tr_loss: 0.37377142906188965, val_acc: 68.50%: 100%|██████████| 71/71 [00:41<00:00,  1.70it/s]"
     ]
    },
    {
     "name": "stdout",
     "output_type": "stream",
     "text": [
      "epoch_time: 42.0937716960907 seconds\n",
      "\n",
      "\n",
      "EPOCH 133\n"
     ]
    },
    {
     "name": "stderr",
     "output_type": "stream",
     "text": [
      "\n",
      "train: 133-70/71 tr_acc: 80.00%, lr=['0.00025912316294914224'], tr_loss: 0.5685719847679138, val_acc: 68.60%: 100%|██████████| 71/71 [00:42<00:00,  1.67it/s] "
     ]
    },
    {
     "name": "stdout",
     "output_type": "stream",
     "text": [
      "epoch_time: 42.74315118789673 seconds\n",
      "\n",
      "\n",
      "EPOCH 134\n"
     ]
    },
    {
     "name": "stderr",
     "output_type": "stream",
     "text": [
      "\n",
      "train: 134-70/71 tr_acc: 90.00%, lr=['0.00023208660251050172'], tr_loss: 0.4106355309486389, val_acc: 67.30%: 100%|██████████| 71/71 [00:41<00:00,  1.70it/s] "
     ]
    },
    {
     "name": "stdout",
     "output_type": "stream",
     "text": [
      "epoch_time: 42.119051694869995 seconds\n",
      "\n",
      "\n",
      "EPOCH 135\n"
     ]
    },
    {
     "name": "stderr",
     "output_type": "stream",
     "text": [
      "\n",
      "train: 135-70/71 tr_acc: 85.00%, lr=['0.0002061073738537636'], tr_loss: 0.4709600508213043, val_acc: 67.40%: 100%|██████████| 71/71 [00:41<00:00,  1.70it/s] "
     ]
    },
    {
     "name": "stdout",
     "output_type": "stream",
     "text": [
      "epoch_time: 42.10058951377869 seconds\n",
      "\n",
      "\n",
      "EPOCH 136\n"
     ]
    },
    {
     "name": "stderr",
     "output_type": "stream",
     "text": [
      "\n",
      "train: 136-70/71 tr_acc: 95.00%, lr=['0.00018128800512565477'], tr_loss: 0.2565261125564575, val_acc: 68.00%: 100%|██████████| 71/71 [00:42<00:00,  1.67it/s] "
     ]
    },
    {
     "name": "stdout",
     "output_type": "stream",
     "text": [
      "epoch_time: 42.73118734359741 seconds\n",
      "\n",
      "\n",
      "EPOCH 137\n"
     ]
    },
    {
     "name": "stderr",
     "output_type": "stream",
     "text": [
      "\n",
      "train: 137-70/71 tr_acc: 85.00%, lr=['0.00015772644703565544'], tr_loss: 0.4916183352470398, val_acc: 68.90%: 100%|██████████| 71/71 [00:42<00:00,  1.68it/s] "
     ]
    },
    {
     "name": "stdout",
     "output_type": "stream",
     "text": [
      "epoch_time: 42.50705409049988 seconds\n",
      "\n",
      "\n",
      "EPOCH 138\n"
     ]
    },
    {
     "name": "stderr",
     "output_type": "stream",
     "text": [
      "\n",
      "train: 138-70/71 tr_acc: 95.00%, lr=['0.00013551568628929414'], tr_loss: 0.2624739408493042, val_acc: 69.30%: 100%|██████████| 71/71 [00:42<00:00,  1.65it/s] "
     ]
    },
    {
     "name": "stdout",
     "output_type": "stream",
     "text": [
      "epoch_time: 43.26878881454468 seconds\n",
      "\n",
      "\n",
      "EPOCH 139\n"
     ]
    },
    {
     "name": "stderr",
     "output_type": "stream",
     "text": [
      "\n",
      "train: 139-70/71 tr_acc: 90.00%, lr=['0.0001147433786121054'], tr_loss: 0.32488834857940674, val_acc: 67.50%: 100%|██████████| 71/71 [00:42<00:00,  1.68it/s]"
     ]
    },
    {
     "name": "stdout",
     "output_type": "stream",
     "text": [
      "epoch_time: 42.52189111709595 seconds\n",
      "\n",
      "\n",
      "EPOCH 140\n"
     ]
    },
    {
     "name": "stderr",
     "output_type": "stream",
     "text": [
      "\n",
      "train: 140-70/71 tr_acc: 92.50%, lr=['9.54915028125264e-05'], tr_loss: 0.26361387968063354, val_acc: 70.00%: 100%|██████████| 71/71 [00:42<00:00,  1.66it/s]"
     ]
    },
    {
     "name": "stdout",
     "output_type": "stream",
     "text": [
      "epoch_time: 43.224730491638184 seconds\n",
      "\n",
      "\n",
      "EPOCH 141\n"
     ]
    },
    {
     "name": "stderr",
     "output_type": "stream",
     "text": [
      "\n",
      "train: 141-70/71 tr_acc: 85.00%, lr=['7.783603724899265e-05'], tr_loss: 0.36728256940841675, val_acc: 69.00%: 100%|██████████| 71/71 [00:42<00:00,  1.68it/s]"
     ]
    },
    {
     "name": "stdout",
     "output_type": "stream",
     "text": [
      "epoch_time: 42.70279002189636 seconds\n",
      "\n",
      "\n",
      "EPOCH 142\n"
     ]
    },
    {
     "name": "stderr",
     "output_type": "stream",
     "text": [
      "\n",
      "train: 142-70/71 tr_acc: 97.50%, lr=['6.184665997806805e-05'], tr_loss: 0.21962761878967285, val_acc: 70.10%: 100%|██████████| 71/71 [00:43<00:00,  1.64it/s]"
     ]
    },
    {
     "name": "stdout",
     "output_type": "stream",
     "text": [
      "epoch_time: 43.507203340530396 seconds\n",
      "\n",
      "\n",
      "EPOCH 143\n"
     ]
    },
    {
     "name": "stderr",
     "output_type": "stream",
     "text": [
      "\n",
      "train: 143-70/71 tr_acc: 82.50%, lr=['4.758647376699016e-05'], tr_loss: 0.4785734713077545, val_acc: 69.50%: 100%|██████████| 71/71 [00:42<00:00,  1.68it/s] "
     ]
    },
    {
     "name": "stdout",
     "output_type": "stream",
     "text": [
      "epoch_time: 42.50075030326843 seconds\n",
      "\n",
      "\n",
      "EPOCH 144\n"
     ]
    },
    {
     "name": "stderr",
     "output_type": "stream",
     "text": [
      "\n",
      "train: 144-70/71 tr_acc: 90.00%, lr=['3.511175705587427e-05'], tr_loss: 0.2560305893421173, val_acc: 70.40%: 100%|██████████| 71/71 [00:42<00:00,  1.69it/s] "
     ]
    },
    {
     "name": "stdout",
     "output_type": "stream",
     "text": [
      "epoch_time: 42.3936243057251 seconds\n",
      "\n",
      "\n",
      "EPOCH 145\n"
     ]
    },
    {
     "name": "stderr",
     "output_type": "stream",
     "text": [
      "\n",
      "train: 145-70/71 tr_acc: 82.50%, lr=['2.447174185242329e-05'], tr_loss: 0.5072687864303589, val_acc: 70.20%: 100%|██████████| 71/71 [00:41<00:00,  1.70it/s] "
     ]
    },
    {
     "name": "stdout",
     "output_type": "stream",
     "text": [
      "epoch_time: 42.01182842254639 seconds\n",
      "\n",
      "\n",
      "EPOCH 146\n"
     ]
    },
    {
     "name": "stderr",
     "output_type": "stream",
     "text": [
      "\n",
      "train: 146-70/71 tr_acc: 95.00%, lr=['1.5708419435684518e-05'], tr_loss: 0.2466777116060257, val_acc: 70.10%: 100%|██████████| 71/71 [00:41<00:00,  1.70it/s] "
     ]
    },
    {
     "name": "stdout",
     "output_type": "stream",
     "text": [
      "epoch_time: 42.12374496459961 seconds\n",
      "\n",
      "\n",
      "EPOCH 147\n"
     ]
    },
    {
     "name": "stderr",
     "output_type": "stream",
     "text": [
      "\n",
      "train: 147-70/71 tr_acc: 100.00%, lr=['8.856374635655583e-06'], tr_loss: 0.17544542253017426, val_acc: 69.50%: 100%|██████████| 71/71 [00:41<00:00,  1.69it/s]"
     ]
    },
    {
     "name": "stdout",
     "output_type": "stream",
     "text": [
      "epoch_time: 42.20008301734924 seconds\n",
      "\n",
      "\n",
      "EPOCH 148\n"
     ]
    },
    {
     "name": "stderr",
     "output_type": "stream",
     "text": [
      "\n",
      "train: 148-70/71 tr_acc: 82.50%, lr=['3.942649342761062e-06'], tr_loss: 0.421297550201416, val_acc: 69.40%: 100%|██████████| 71/71 [00:42<00:00,  1.67it/s]  "
     ]
    },
    {
     "name": "stdout",
     "output_type": "stream",
     "text": [
      "epoch_time: 42.71722364425659 seconds\n",
      "\n",
      "\n",
      "EPOCH 149\n"
     ]
    },
    {
     "name": "stderr",
     "output_type": "stream",
     "text": [
      "\n",
      "train: 149-70/71 tr_acc: 85.00%, lr=['9.866357858642206e-07'], tr_loss: 0.4393453001976013, val_acc: 69.90%: 100%|██████████| 71/71 [00:42<00:00,  1.68it/s] "
     ]
    },
    {
     "name": "stdout",
     "output_type": "stream",
     "text": [
      "epoch_time: 42.72806143760681 seconds\n",
      "\n",
      "\n",
      "EPOCH 150\n"
     ]
    },
    {
     "name": "stderr",
     "output_type": "stream",
     "text": [
      "\n",
      "train: 150-70/71 tr_acc: 97.50%, lr=['0.0'], tr_loss: 0.24316421151161194, val_acc: 69.30%: 100%|██████████| 71/71 [00:42<00:00,  1.66it/s]"
     ]
    },
    {
     "name": "stdout",
     "output_type": "stream",
     "text": [
      "epoch_time: 42.949974060058594 seconds\n",
      "\n",
      "\n",
      "EPOCH 151\n"
     ]
    },
    {
     "name": "stderr",
     "output_type": "stream",
     "text": [
      "\n",
      "train: 151-70/71 tr_acc: 85.00%, lr=['9.866357858642206e-07'], tr_loss: 0.42945146560668945, val_acc: 70.90%: 100%|██████████| 71/71 [00:42<00:00,  1.66it/s]"
     ]
    },
    {
     "name": "stdout",
     "output_type": "stream",
     "text": [
      "epoch_time: 42.902273416519165 seconds\n",
      "\n",
      "\n",
      "EPOCH 152\n"
     ]
    },
    {
     "name": "stderr",
     "output_type": "stream",
     "text": [
      "\n",
      "train: 152-70/71 tr_acc: 85.00%, lr=['3.942649342761007e-06'], tr_loss: 0.4288512170314789, val_acc: 69.80%: 100%|██████████| 71/71 [00:41<00:00,  1.72it/s] "
     ]
    },
    {
     "name": "stdout",
     "output_type": "stream",
     "text": [
      "epoch_time: 41.687968492507935 seconds\n",
      "\n",
      "\n",
      "EPOCH 153\n"
     ]
    },
    {
     "name": "stderr",
     "output_type": "stream",
     "text": [
      "\n",
      "train: 153-70/71 tr_acc: 87.50%, lr=['8.856374635655695e-06'], tr_loss: 0.31144219636917114, val_acc: 68.60%: 100%|██████████| 71/71 [00:42<00:00,  1.67it/s]"
     ]
    },
    {
     "name": "stdout",
     "output_type": "stream",
     "text": [
      "epoch_time: 42.926369190216064 seconds\n",
      "\n",
      "\n",
      "EPOCH 154\n"
     ]
    },
    {
     "name": "stderr",
     "output_type": "stream",
     "text": [
      "\n",
      "train: 154-70/71 tr_acc: 90.00%, lr=['1.570841943568446e-05'], tr_loss: 0.35062727332115173, val_acc: 70.00%: 100%|██████████| 71/71 [00:41<00:00,  1.70it/s]"
     ]
    },
    {
     "name": "stdout",
     "output_type": "stream",
     "text": [
      "epoch_time: 42.043508529663086 seconds\n",
      "\n",
      "\n",
      "EPOCH 155\n"
     ]
    },
    {
     "name": "stderr",
     "output_type": "stream",
     "text": [
      "\n",
      "train: 155-70/71 tr_acc: 90.00%, lr=['2.4471741852423177e-05'], tr_loss: 0.3916915953159332, val_acc: 70.60%: 100%|██████████| 71/71 [00:42<00:00,  1.68it/s] "
     ]
    },
    {
     "name": "stdout",
     "output_type": "stream",
     "text": [
      "epoch_time: 42.523701429367065 seconds\n",
      "\n",
      "\n",
      "EPOCH 156\n"
     ]
    },
    {
     "name": "stderr",
     "output_type": "stream",
     "text": [
      "\n",
      "train: 156-70/71 tr_acc: 85.00%, lr=['3.5111757055874156e-05'], tr_loss: 0.5205327272415161, val_acc: 69.60%: 100%|██████████| 71/71 [00:42<00:00,  1.67it/s] "
     ]
    },
    {
     "name": "stdout",
     "output_type": "stream",
     "text": [
      "epoch_time: 42.72472095489502 seconds\n",
      "\n",
      "\n",
      "EPOCH 157\n"
     ]
    },
    {
     "name": "stderr",
     "output_type": "stream",
     "text": [
      "\n",
      "train: 157-70/71 tr_acc: 85.00%, lr=['4.758647376698998e-05'], tr_loss: 0.4735194146633148, val_acc: 69.70%: 100%|██████████| 71/71 [00:42<00:00,  1.68it/s] "
     ]
    },
    {
     "name": "stdout",
     "output_type": "stream",
     "text": [
      "epoch_time: 42.54358673095703 seconds\n",
      "\n",
      "\n",
      "EPOCH 158\n"
     ]
    },
    {
     "name": "stderr",
     "output_type": "stream",
     "text": [
      "\n",
      "train: 158-70/71 tr_acc: 90.00%, lr=['6.184665997806825e-05'], tr_loss: 0.46789249777793884, val_acc: 68.90%: 100%|██████████| 71/71 [00:41<00:00,  1.69it/s]"
     ]
    },
    {
     "name": "stdout",
     "output_type": "stream",
     "text": [
      "epoch_time: 42.18112826347351 seconds\n",
      "\n",
      "\n",
      "EPOCH 159\n"
     ]
    },
    {
     "name": "stderr",
     "output_type": "stream",
     "text": [
      "\n",
      "train: 159-70/71 tr_acc: 87.50%, lr=['7.783603724899246e-05'], tr_loss: 0.39003440737724304, val_acc: 69.60%: 100%|██████████| 71/71 [00:42<00:00,  1.68it/s]"
     ]
    },
    {
     "name": "stdout",
     "output_type": "stream",
     "text": [
      "epoch_time: 42.69013595581055 seconds\n",
      "\n",
      "\n",
      "EPOCH 160\n"
     ]
    },
    {
     "name": "stderr",
     "output_type": "stream",
     "text": [
      "\n",
      "train: 160-70/71 tr_acc: 80.00%, lr=['9.549150281252616e-05'], tr_loss: 0.6641819477081299, val_acc: 68.90%: 100%|██████████| 71/71 [00:42<00:00,  1.69it/s] "
     ]
    },
    {
     "name": "stdout",
     "output_type": "stream",
     "text": [
      "epoch_time: 42.43086051940918 seconds\n",
      "\n",
      "\n",
      "EPOCH 161\n"
     ]
    },
    {
     "name": "stderr",
     "output_type": "stream",
     "text": [
      "\n",
      "train: 161-70/71 tr_acc: 95.00%, lr=['0.00011474337861210515'], tr_loss: 0.2830541729927063, val_acc: 69.40%: 100%|██████████| 71/71 [00:42<00:00,  1.68it/s] "
     ]
    },
    {
     "name": "stdout",
     "output_type": "stream",
     "text": [
      "epoch_time: 42.60502576828003 seconds\n",
      "\n",
      "\n",
      "EPOCH 162\n"
     ]
    },
    {
     "name": "stderr",
     "output_type": "stream",
     "text": [
      "\n",
      "train: 162-70/71 tr_acc: 90.00%, lr=['0.00013551568628929385'], tr_loss: 0.3425770401954651, val_acc: 69.30%: 100%|██████████| 71/71 [00:42<00:00,  1.67it/s] "
     ]
    },
    {
     "name": "stdout",
     "output_type": "stream",
     "text": [
      "epoch_time: 42.96734404563904 seconds\n",
      "\n",
      "\n",
      "EPOCH 163\n"
     ]
    },
    {
     "name": "stderr",
     "output_type": "stream",
     "text": [
      "\n",
      "train: 163-70/71 tr_acc: 90.00%, lr=['0.00015772644703565517'], tr_loss: 0.33852848410606384, val_acc: 69.30%: 100%|██████████| 71/71 [00:41<00:00,  1.70it/s]"
     ]
    },
    {
     "name": "stdout",
     "output_type": "stream",
     "text": [
      "epoch_time: 42.13005232810974 seconds\n",
      "\n",
      "\n",
      "EPOCH 164\n"
     ]
    },
    {
     "name": "stderr",
     "output_type": "stream",
     "text": [
      "\n",
      "train: 164-70/71 tr_acc: 80.00%, lr=['0.00018128800512565453'], tr_loss: 0.39282581210136414, val_acc: 68.10%: 100%|██████████| 71/71 [00:41<00:00,  1.69it/s]"
     ]
    },
    {
     "name": "stdout",
     "output_type": "stream",
     "text": [
      "epoch_time: 42.24127554893494 seconds\n",
      "\n",
      "\n",
      "EPOCH 165\n"
     ]
    },
    {
     "name": "stderr",
     "output_type": "stream",
     "text": [
      "\n",
      "train: 165-70/71 tr_acc: 85.00%, lr=['0.00020610737385376261'], tr_loss: 0.4085589349269867, val_acc: 69.70%: 100%|██████████| 71/71 [00:42<00:00,  1.69it/s] "
     ]
    },
    {
     "name": "stdout",
     "output_type": "stream",
     "text": [
      "epoch_time: 42.459131479263306 seconds\n",
      "\n",
      "\n",
      "EPOCH 166\n"
     ]
    },
    {
     "name": "stderr",
     "output_type": "stream",
     "text": [
      "\n",
      "train: 166-70/71 tr_acc: 90.00%, lr=['0.00023208660251050218'], tr_loss: 0.38353580236434937, val_acc: 69.20%: 100%|██████████| 71/71 [00:42<00:00,  1.68it/s]"
     ]
    },
    {
     "name": "stdout",
     "output_type": "stream",
     "text": [
      "epoch_time: 42.50974488258362 seconds\n",
      "\n",
      "\n",
      "EPOCH 167\n"
     ]
    },
    {
     "name": "stderr",
     "output_type": "stream",
     "text": [
      "\n",
      "train: 167-70/71 tr_acc: 87.50%, lr=['0.00025912316294914267'], tr_loss: 0.43039050698280334, val_acc: 67.40%: 100%|██████████| 71/71 [00:41<00:00,  1.69it/s]"
     ]
    },
    {
     "name": "stdout",
     "output_type": "stream",
     "text": [
      "epoch_time: 42.28068995475769 seconds\n",
      "\n",
      "\n",
      "EPOCH 168\n"
     ]
    },
    {
     "name": "stderr",
     "output_type": "stream",
     "text": [
      "\n",
      "train: 168-70/71 tr_acc: 95.00%, lr=['0.0002871103542174639'], tr_loss: 0.3593016564846039, val_acc: 65.50%: 100%|██████████| 71/71 [00:42<00:00,  1.68it/s] "
     ]
    },
    {
     "name": "stdout",
     "output_type": "stream",
     "text": [
      "epoch_time: 42.52473735809326 seconds\n",
      "\n",
      "\n",
      "EPOCH 169\n"
     ]
    },
    {
     "name": "stderr",
     "output_type": "stream",
     "text": [
      "\n",
      "train: 169-70/71 tr_acc: 85.00%, lr=['0.0003159377236576611'], tr_loss: 0.35636797547340393, val_acc: 66.60%: 100%|██████████| 71/71 [00:42<00:00,  1.69it/s]"
     ]
    },
    {
     "name": "stdout",
     "output_type": "stream",
     "text": [
      "epoch_time: 42.4013557434082 seconds\n",
      "\n",
      "\n",
      "EPOCH 170\n"
     ]
    },
    {
     "name": "stderr",
     "output_type": "stream",
     "text": [
      "\n",
      "train: 170-70/71 tr_acc: 82.50%, lr=['0.0003454915028125262'], tr_loss: 0.5577258467674255, val_acc: 70.30%: 100%|██████████| 71/71 [00:42<00:00,  1.67it/s] "
     ]
    },
    {
     "name": "stdout",
     "output_type": "stream",
     "text": [
      "epoch_time: 42.6797935962677 seconds\n",
      "\n",
      "\n",
      "EPOCH 171\n"
     ]
    },
    {
     "name": "stderr",
     "output_type": "stream",
     "text": [
      "\n",
      "train: 171-70/71 tr_acc: 85.00%, lr=['0.0003756550564175724'], tr_loss: 0.45738688111305237, val_acc: 64.00%: 100%|██████████| 71/71 [00:42<00:00,  1.67it/s]"
     ]
    },
    {
     "name": "stdout",
     "output_type": "stream",
     "text": [
      "epoch_time: 42.78232789039612 seconds\n",
      "\n",
      "\n",
      "EPOCH 172\n"
     ]
    },
    {
     "name": "stderr",
     "output_type": "stream",
     "text": [
      "\n",
      "train: 172-70/71 tr_acc: 87.50%, lr=['0.0004063093427071373'], tr_loss: 0.4842354655265808, val_acc: 64.80%: 100%|██████████| 71/71 [00:42<00:00,  1.65it/s] "
     ]
    },
    {
     "name": "stdout",
     "output_type": "stream",
     "text": [
      "epoch_time: 43.23662495613098 seconds\n",
      "\n",
      "\n",
      "EPOCH 173\n"
     ]
    },
    {
     "name": "stderr",
     "output_type": "stream",
     "text": [
      "\n",
      "train: 173-70/71 tr_acc: 82.50%, lr=['0.00043733338321784736'], tr_loss: 0.43338823318481445, val_acc: 65.80%: 100%|██████████| 71/71 [00:42<00:00,  1.68it/s]"
     ]
    },
    {
     "name": "stdout",
     "output_type": "stream",
     "text": [
      "epoch_time: 42.50729751586914 seconds\n",
      "\n",
      "\n",
      "EPOCH 174\n"
     ]
    },
    {
     "name": "stderr",
     "output_type": "stream",
     "text": [
      "\n",
      "train: 174-70/71 tr_acc: 85.00%, lr=['0.00046860474023534255'], tr_loss: 0.5096074938774109, val_acc: 60.40%: 100%|██████████| 71/71 [00:41<00:00,  1.69it/s] "
     ]
    },
    {
     "name": "stdout",
     "output_type": "stream",
     "text": [
      "epoch_time: 42.27580261230469 seconds\n",
      "\n",
      "\n",
      "EPOCH 175\n"
     ]
    },
    {
     "name": "stderr",
     "output_type": "stream",
     "text": [
      "\n",
      "train: 175-70/71 tr_acc: 75.00%, lr=['0.000499999999999999'], tr_loss: 0.5327127575874329, val_acc: 65.10%: 100%|██████████| 71/71 [00:42<00:00,  1.66it/s] "
     ]
    },
    {
     "name": "stdout",
     "output_type": "stream",
     "text": [
      "epoch_time: 43.205079317092896 seconds\n",
      "\n",
      "\n",
      "EPOCH 176\n"
     ]
    },
    {
     "name": "stderr",
     "output_type": "stream",
     "text": [
      "\n",
      "train: 176-70/71 tr_acc: 82.50%, lr=['0.0005313952597646564'], tr_loss: 0.3602460026741028, val_acc: 65.20%: 100%|██████████| 71/71 [00:42<00:00,  1.69it/s] "
     ]
    },
    {
     "name": "stdout",
     "output_type": "stream",
     "text": [
      "epoch_time: 42.33466053009033 seconds\n",
      "\n",
      "\n",
      "EPOCH 177\n"
     ]
    },
    {
     "name": "stderr",
     "output_type": "stream",
     "text": [
      "\n",
      "train: 177-70/71 tr_acc: 87.50%, lr=['0.0005626666167821527'], tr_loss: 0.4639444351196289, val_acc: 62.00%: 100%|██████████| 71/71 [00:42<00:00,  1.67it/s] "
     ]
    },
    {
     "name": "stdout",
     "output_type": "stream",
     "text": [
      "epoch_time: 42.654746532440186 seconds\n",
      "\n",
      "\n",
      "EPOCH 178\n"
     ]
    },
    {
     "name": "stderr",
     "output_type": "stream",
     "text": [
      "\n",
      "train: 178-70/71 tr_acc: 82.50%, lr=['0.0005936906572928626'], tr_loss: 0.3442564308643341, val_acc: 61.00%: 100%|██████████| 71/71 [00:42<00:00,  1.68it/s] "
     ]
    },
    {
     "name": "stdout",
     "output_type": "stream",
     "text": [
      "epoch_time: 42.43981599807739 seconds\n",
      "\n",
      "\n",
      "EPOCH 179\n"
     ]
    },
    {
     "name": "stderr",
     "output_type": "stream",
     "text": [
      "\n",
      "train: 179-70/71 tr_acc: 92.50%, lr=['0.0006243449435824275'], tr_loss: 0.36507123708724976, val_acc: 63.20%: 100%|██████████| 71/71 [00:42<00:00,  1.68it/s]"
     ]
    },
    {
     "name": "stdout",
     "output_type": "stream",
     "text": [
      "epoch_time: 42.60589361190796 seconds\n",
      "\n",
      "\n",
      "EPOCH 180\n"
     ]
    },
    {
     "name": "stderr",
     "output_type": "stream",
     "text": [
      "\n",
      "train: 180-70/71 tr_acc: 72.50%, lr=['0.0006545084971874736'], tr_loss: 0.6406945586204529, val_acc: 58.80%: 100%|██████████| 71/71 [00:42<00:00,  1.68it/s] "
     ]
    },
    {
     "name": "stdout",
     "output_type": "stream",
     "text": [
      "epoch_time: 42.41041398048401 seconds\n",
      "\n",
      "\n",
      "EPOCH 181\n"
     ]
    },
    {
     "name": "stderr",
     "output_type": "stream",
     "text": [
      "\n",
      "train: 181-70/71 tr_acc: 77.50%, lr=['0.0006840622763423388'], tr_loss: 0.581623911857605, val_acc: 61.30%: 100%|██████████| 71/71 [00:41<00:00,  1.69it/s]  "
     ]
    },
    {
     "name": "stdout",
     "output_type": "stream",
     "text": [
      "epoch_time: 42.298555850982666 seconds\n",
      "\n",
      "\n",
      "EPOCH 182\n"
     ]
    },
    {
     "name": "stderr",
     "output_type": "stream",
     "text": [
      "\n",
      "train: 182-70/71 tr_acc: 82.50%, lr=['0.000712889645782536'], tr_loss: 0.5077928304672241, val_acc: 60.70%: 100%|██████████| 71/71 [00:42<00:00,  1.68it/s] "
     ]
    },
    {
     "name": "stdout",
     "output_type": "stream",
     "text": [
      "epoch_time: 42.67728304862976 seconds\n",
      "\n",
      "\n",
      "EPOCH 183\n"
     ]
    },
    {
     "name": "stderr",
     "output_type": "stream",
     "text": [
      "\n",
      "train: 183-70/71 tr_acc: 80.00%, lr=['0.0007408768370508572'], tr_loss: 0.4974909722805023, val_acc: 61.10%: 100%|██████████| 71/71 [00:42<00:00,  1.67it/s] "
     ]
    },
    {
     "name": "stdout",
     "output_type": "stream",
     "text": [
      "epoch_time: 42.816277265548706 seconds\n",
      "\n",
      "\n",
      "EPOCH 184\n"
     ]
    },
    {
     "name": "stderr",
     "output_type": "stream",
     "text": [
      "\n",
      "train: 184-70/71 tr_acc: 82.50%, lr=['0.0007679133974894979'], tr_loss: 0.3937211036682129, val_acc: 64.90%: 100%|██████████| 71/71 [00:42<00:00,  1.67it/s] "
     ]
    },
    {
     "name": "stdout",
     "output_type": "stream",
     "text": [
      "epoch_time: 42.80237555503845 seconds\n",
      "\n",
      "\n",
      "EPOCH 185\n"
     ]
    },
    {
     "name": "stderr",
     "output_type": "stream",
     "text": [
      "\n",
      "train: 185-70/71 tr_acc: 97.50%, lr=['0.0007938926261462369'], tr_loss: 0.25416749715805054, val_acc: 55.10%: 100%|██████████| 71/71 [00:42<00:00,  1.68it/s]"
     ]
    },
    {
     "name": "stdout",
     "output_type": "stream",
     "text": [
      "epoch_time: 42.60495686531067 seconds\n",
      "\n",
      "\n",
      "EPOCH 186\n"
     ]
    },
    {
     "name": "stderr",
     "output_type": "stream",
     "text": [
      "\n",
      "train: 186-70/71 tr_acc: 97.50%, lr=['0.0008187119948743451'], tr_loss: 0.2852141857147217, val_acc: 58.50%: 100%|██████████| 71/71 [00:42<00:00,  1.69it/s] "
     ]
    },
    {
     "name": "stdout",
     "output_type": "stream",
     "text": [
      "epoch_time: 42.30645132064819 seconds\n",
      "\n",
      "\n",
      "EPOCH 187\n"
     ]
    },
    {
     "name": "stderr",
     "output_type": "stream",
     "text": [
      "\n",
      "train: 187-70/71 tr_acc: 82.50%, lr=['0.0008422735529643451'], tr_loss: 0.5846002101898193, val_acc: 60.30%: 100%|██████████| 71/71 [00:42<00:00,  1.68it/s] "
     ]
    },
    {
     "name": "stdout",
     "output_type": "stream",
     "text": [
      "epoch_time: 42.54099678993225 seconds\n",
      "\n",
      "\n",
      "EPOCH 188\n"
     ]
    },
    {
     "name": "stderr",
     "output_type": "stream",
     "text": [
      "\n",
      "train: 188-70/71 tr_acc: 80.00%, lr=['0.0008644843137107065'], tr_loss: 0.5676907896995544, val_acc: 60.90%: 100%|██████████| 71/71 [00:42<00:00,  1.68it/s] "
     ]
    },
    {
     "name": "stdout",
     "output_type": "stream",
     "text": [
      "epoch_time: 42.58797645568848 seconds\n",
      "\n",
      "\n",
      "EPOCH 189\n"
     ]
    },
    {
     "name": "stderr",
     "output_type": "stream",
     "text": [
      "\n",
      "train: 189-70/71 tr_acc: 87.50%, lr=['0.0008852566213878952'], tr_loss: 0.32579880952835083, val_acc: 56.40%: 100%|██████████| 71/71 [00:42<00:00,  1.69it/s]"
     ]
    },
    {
     "name": "stdout",
     "output_type": "stream",
     "text": [
      "epoch_time: 42.376314640045166 seconds\n",
      "\n",
      "\n",
      "EPOCH 190\n"
     ]
    },
    {
     "name": "stderr",
     "output_type": "stream",
     "text": [
      "\n",
      "train: 190-70/71 tr_acc: 87.50%, lr=['0.0009045084971874742'], tr_loss: 0.4122835099697113, val_acc: 62.90%: 100%|██████████| 71/71 [00:42<00:00,  1.68it/s] "
     ]
    },
    {
     "name": "stdout",
     "output_type": "stream",
     "text": [
      "epoch_time: 42.47813320159912 seconds\n",
      "\n",
      "\n",
      "EPOCH 191\n"
     ]
    },
    {
     "name": "stderr",
     "output_type": "stream",
     "text": [
      "\n",
      "train: 191-70/71 tr_acc: 80.00%, lr=['0.000922163962751008'], tr_loss: 0.5210509300231934, val_acc: 54.80%: 100%|██████████| 71/71 [00:42<00:00,  1.68it/s] "
     ]
    },
    {
     "name": "stdout",
     "output_type": "stream",
     "text": [
      "epoch_time: 42.60833144187927 seconds\n",
      "\n",
      "\n",
      "EPOCH 192\n"
     ]
    },
    {
     "name": "stderr",
     "output_type": "stream",
     "text": [
      "\n",
      "train: 192-70/71 tr_acc: 90.00%, lr=['0.0009381533400219323'], tr_loss: 0.4009408950805664, val_acc: 60.00%: 100%|██████████| 71/71 [00:42<00:00,  1.67it/s] "
     ]
    },
    {
     "name": "stdout",
     "output_type": "stream",
     "text": [
      "epoch_time: 42.79454064369202 seconds\n",
      "\n",
      "\n",
      "EPOCH 193\n"
     ]
    },
    {
     "name": "stderr",
     "output_type": "stream",
     "text": [
      "\n",
      "train: 193-70/71 tr_acc: 77.50%, lr=['0.0009524135262330102'], tr_loss: 0.5791141986846924, val_acc: 56.70%: 100%|██████████| 71/71 [00:42<00:00,  1.68it/s] "
     ]
    },
    {
     "name": "stdout",
     "output_type": "stream",
     "text": [
      "epoch_time: 42.410476207733154 seconds\n",
      "\n",
      "\n",
      "EPOCH 194\n"
     ]
    },
    {
     "name": "stderr",
     "output_type": "stream",
     "text": [
      "\n",
      "train: 194-70/71 tr_acc: 95.00%, lr=['0.0009648882429441264'], tr_loss: 0.25396183133125305, val_acc: 57.60%: 100%|██████████| 71/71 [00:41<00:00,  1.71it/s]"
     ]
    },
    {
     "name": "stdout",
     "output_type": "stream",
     "text": [
      "epoch_time: 41.93701434135437 seconds\n",
      "\n",
      "\n",
      "EPOCH 195\n"
     ]
    },
    {
     "name": "stderr",
     "output_type": "stream",
     "text": [
      "\n",
      "train: 195-70/71 tr_acc: 82.50%, lr=['0.0009755282581475775'], tr_loss: 0.4577450752258301, val_acc: 55.60%: 100%|██████████| 71/71 [00:42<00:00,  1.67it/s] "
     ]
    },
    {
     "name": "stdout",
     "output_type": "stream",
     "text": [
      "epoch_time: 42.740689754486084 seconds\n",
      "\n",
      "\n",
      "EPOCH 196\n"
     ]
    },
    {
     "name": "stderr",
     "output_type": "stream",
     "text": [
      "\n",
      "train: 196-70/71 tr_acc: 87.50%, lr=['0.0009842915805643162'], tr_loss: 0.34604328870773315, val_acc: 59.60%: 100%|██████████| 71/71 [00:42<00:00,  1.68it/s]"
     ]
    },
    {
     "name": "stdout",
     "output_type": "stream",
     "text": [
      "epoch_time: 42.67164373397827 seconds\n",
      "\n",
      "\n",
      "EPOCH 197\n"
     ]
    },
    {
     "name": "stderr",
     "output_type": "stream",
     "text": [
      "\n",
      "train: 197-70/71 tr_acc: 80.00%, lr=['0.0009911436253643448'], tr_loss: 0.43143290281295776, val_acc: 57.10%: 100%|██████████| 71/71 [00:42<00:00,  1.67it/s]"
     ]
    },
    {
     "name": "stdout",
     "output_type": "stream",
     "text": [
      "epoch_time: 42.75890350341797 seconds\n",
      "\n",
      "\n",
      "EPOCH 198\n"
     ]
    },
    {
     "name": "stderr",
     "output_type": "stream",
     "text": [
      "\n",
      "train: 198-70/71 tr_acc: 70.00%, lr=['0.0009960573506572396'], tr_loss: 0.5503979921340942, val_acc: 64.00%: 100%|██████████| 71/71 [00:41<00:00,  1.69it/s] "
     ]
    },
    {
     "name": "stdout",
     "output_type": "stream",
     "text": [
      "epoch_time: 42.271162271499634 seconds\n",
      "\n",
      "\n",
      "EPOCH 199\n"
     ]
    },
    {
     "name": "stderr",
     "output_type": "stream",
     "text": [
      "\n",
      "train: 199-70/71 tr_acc: 87.50%, lr=['0.0009990133642141365'], tr_loss: 0.3788852095603943, val_acc: 56.40%: 100%|██████████| 71/71 [00:41<00:00,  1.69it/s] "
     ]
    },
    {
     "name": "stdout",
     "output_type": "stream",
     "text": [
      "epoch_time: 42.36292386054993 seconds\n",
      "\n",
      "\n"
     ]
    },
    {
     "name": "stderr",
     "output_type": "stream",
     "text": [
      "\n"
     ]
    }
   ],
   "source": [
    "### my_snn control board ########################\n",
    "decay = 0.5 # 0.875 0.25 0.125 0.75 0.5\n",
    "# nda 0.25 # ottt 0.5\n",
    "\n",
    "my_snn_system(  devices = \"0,1,2,3,4,5\",\n",
    "                my_seed = 42,\n",
    "                TIME = 10, # dvscifar 10 # ottt 6 or 10 # nda 10\n",
    "                BATCH = 128, # batch norm 할거면 2이상으로 해야함   # nda 256   #  ottt 128\n",
    "                IMAGE_SIZE = 48, # dvscifar 48 # MNIST 28 # CIFAR10 32\n",
    "\n",
    "                # DVS-CIFAR10 할거면 time 10으로 해라\n",
    "                which_data = 'DVS-CIFAR10',# 'CIFAR10' 'MNIST' 'FASHION_MNIST' 'DVS-CIFAR10'\n",
    "                CLASS_NUM = 10,\n",
    "                data_path = '/data2', # YOU NEED TO CHANGE THIS\n",
    "                rate_coding = False, # True # False\n",
    "\n",
    "                lif_layer_v_init = 0.0,\n",
    "                lif_layer_v_decay = decay,\n",
    "                lif_layer_v_threshold = 1.0, # nda 0.5  # ottt 1.0\n",
    "                lif_layer_v_reset = 0.0, #현재 안씀. 걍 빼기 해버림\n",
    "                lif_layer_sg_width = 1.0, # surrogate sigmoid 쓸 때는 의미없음\n",
    "\n",
    "                # synapse_conv_in_channels = IMAGE_PIXEL_CHANNEL,\n",
    "                synapse_conv_kernel_size = 3,\n",
    "                synapse_conv_stride = 1,\n",
    "                synapse_conv_padding = 1,\n",
    "                synapse_conv_trace_const1 = 1,\n",
    "                synapse_conv_trace_const2 = decay, # lif_layer_v_decay\n",
    "\n",
    "                # synapse_fc_out_features = CLASS_NUM,\n",
    "                synapse_fc_trace_const1 = 1,\n",
    "                synapse_fc_trace_const2 = decay, # lif_layer_v_decay\n",
    "\n",
    "                pre_trained = False, # True # False\n",
    "                convTrue_fcFalse = True, # True # False\n",
    "\n",
    "                # 'P' for average pooling, 'M' for maxpooling, 'L' for linear classifier, [  ] for residual block\n",
    "                # cfg = [64],\n",
    "                # cfg = [64,[64,64],64], # 끝에 linear classifier 하나 자동으로 붙습니다\n",
    "                # cfg = [64, 128, 'P', 256, 256, 'P', 512, 512, 'P', 512, 512], \n",
    "                cfg = [64, 128, 'M', 256, 256, 'M', 512, 512, 'M', 512, 512], # ottt \n",
    "                # cfg = [64, 'P', 128, 'P', 256, 256, 'P', 512, 512, 512, 512], # nda\n",
    "                # cfg = [64, 'P', 128, 'P', 256, 256, 'P', 512, 512, 512, 512, 'L', 4096, 4096],\n",
    "\n",
    "\n",
    "                net_print = False, # True # False\n",
    "                pre_trained_path = \"net_save/save_now_net.pth\",\n",
    "                learning_rate = 0.001,  # ottt 0.1  # nda 0.001\n",
    "                epoch_num = 200,\n",
    "                verbose_interval = 9999999999, #숫자 크게 하면 꺼짐\n",
    "                validation_interval = 50, #숫자 크게 하면 꺼짐\n",
    "                tdBN_on = True,  # True # False\n",
    "                BN_on = False,  # True # False\n",
    "                \n",
    "                surrogate = 'sigmoid', # 'rectangle' 'sigmoid' 'rough_rectangle'\n",
    "                \n",
    "                gradient_verbose = False,  # True # False  # weight gradient 각 layer마다 띄워줌\n",
    "\n",
    "                BPTT_on = True,  # True # False # True이면 BPTT, False이면 OTTT\n",
    "                optimizer_what = 'SGD', # 'SGD' 'Adam', 'RMSprop'\n",
    "                scheduler_name = 'CosineAnnealingLR', # 'no' 'StepLR' 'ExponentialLR' 'ReduceLROnPlateau' 'CosineAnnealingLR' 'OneCycleLR'\n",
    "                \n",
    "                ddp_on = False,   # True # False\n",
    "\n",
    "                nda_net = False,   # True # False\n",
    "                ) \n",
    "# sigmoid와 BN이 있어야 잘된다.\n",
    "# average pooling이 낫다.\n",
    "\n",
    "# nda에서는 decay = 0.25, threshold = 0.5, width =1, surrogate = rectangle, batch = 256, tdBN = True\n",
    "## OTTT 에서는 decay = 0.5, threshold = 1.0, surrogate = sigmoid, batch = 128, BN = True\n"
   ]
  },
  {
   "cell_type": "code",
   "execution_count": 18,
   "metadata": {},
   "outputs": [
    {
     "data": {
      "image/png": "[encoded data removed]",
      "text/plain": [
       "<Figure size 1000x500 with 1 Axes>"
      ]
     },
     "metadata": {},
     "output_type": "display_data"
    }
   ],
   "source": [
    "import numpy as np\n",
    "import matplotlib.pyplot as plt\n",
    "\n",
    "def pad_array_to_match_length(array1, array2):\n",
    "    if len(array1) > len(array2):\n",
    "        padded_array2 = np.pad(array2, (0, len(array1) - len(array2)), 'constant')\n",
    "        return array1, padded_array2\n",
    "    elif len(array2) > len(array1):\n",
    "        padded_array1 = np.pad(array1, (0, len(array2) - len(array1)), 'constant')\n",
    "        return padded_array1, array2\n",
    "    else:\n",
    "        return array1, array2\n",
    "def load_hyperparameters(filename='hyperparameters.json'):\n",
    "    with open(filename, 'r') as f:\n",
    "        return json.load(f)\n",
    "    \n",
    "\n",
    "\n",
    "\n",
    "\n",
    "current_time = '20240628_110116'\n",
    "base_name = f'{current_time}'\n",
    "train_acc_file_name = f'result_save/{base_name}_train_acc_array.npy'\n",
    "val_acc_file_name = f'result_save/{base_name}_val_acc_now_array.npy'\n",
    "hyperparameters_file_name = f'result_save/{base_name}_hyperparameters.json'\n",
    "\n",
    "### if you want to just see most recent train and val acc###########################\n",
    "train_acc_file_name = 'result_save/train_acc_array.npy'\n",
    "val_acc_file_name = 'result_save/val_acc_now_array.npy'\n",
    "hyperparameters_file_name = 'result_save/hyperparameters.json'\n",
    "\n",
    "loaded_train_acc_array = np.load(train_acc_file_name)*100\n",
    "loaded_val_acc_array = np.load(val_acc_file_name)*100\n",
    "hyperparameters = load_hyperparameters(hyperparameters_file_name)\n",
    "\n",
    "loaded_train_acc_array, loaded_val_acc_array = pad_array_to_match_length(loaded_train_acc_array, loaded_val_acc_array)\n",
    "top_train_acc = hyperparameters['top_train_acc_one_iter']\n",
    "top_val_acc = hyperparameters['top_val_acc']\n",
    "which_data = hyperparameters['which_data']\n",
    "BPTT_on = hyperparameters['BPTT_on']\n",
    "current_epoch = hyperparameters['current epoch']\n",
    "surrogate = hyperparameters['surrogate']\n",
    "cfg = hyperparameters['cfg']\n",
    "tdBN_on = hyperparameters['tdBN_on']\n",
    "BN_on = hyperparameters['BN_on']\n",
    "\n",
    "\n",
    "iterations = np.arange(len(loaded_train_acc_array))\n",
    "\n",
    "# 그래프 그리기\n",
    "plt.figure(figsize=(10, 5))\n",
    "plt.plot(iterations, loaded_train_acc_array, label='Training Accuracy', color='b')\n",
    "plt.plot(iterations, loaded_val_acc_array, label='Validation Accuracy', color='r')\n",
    "\n",
    "# 텍스트 추가\n",
    "plt.text(0.05, 0.95, f'Top Training Accuracy: {100*top_train_acc:.2f}%', transform=plt.gca().transAxes, fontsize=12, verticalalignment='top', horizontalalignment='left', color='blue')\n",
    "plt.text(0.05, 0.90, f'Top Validation Accuracy: {100*top_val_acc:.2f}%', transform=plt.gca().transAxes, fontsize=12, verticalalignment='top', horizontalalignment='left', color='red')\n",
    "\n",
    "plt.xlabel('Iterations')\n",
    "plt.ylabel('Accuracy [%]')\n",
    "\n",
    "# 그래프 제목에 하이퍼파라미터 정보 추가\n",
    "title = f'Training and Validation Accuracy over Iterations\\n\\nData: {which_data}, BPTT: {\"On\" if BPTT_on else \"Off\"}, Current Epoch: {current_epoch}, Surrogate: {surrogate},\\nCFG: {cfg}, tdBN: {\"On\" if tdBN_on else \"Off\"}, BN: {\"On\" if BN_on else \"Off\"}'\n",
    "\n",
    "plt.title(title)\n",
    "\n",
    "plt.legend(loc='lower right')\n",
    "plt.xlim(0)  # x축을 0부터 시작\n",
    "plt.grid(True)\n",
    "plt.show()"
   ]
  }
 ],
 "metadata": {
  "kernelspec": {
   "display_name": "nfs",
   "language": "python",
   "name": "python3"
  },
  "language_info": {
   "codemirror_mode": {
    "name": "ipython",
    "version": 3
   },
   "file_extension": ".py",
   "mimetype": "text/x-python",
   "name": "python",
   "nbconvert_exporter": "python",
   "pygments_lexer": "ipython3",
   "version": "3.8.18"
  }
 },
 "nbformat": 4,
 "nbformat_minor": 2
}
