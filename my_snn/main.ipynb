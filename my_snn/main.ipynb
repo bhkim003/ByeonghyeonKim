{
 "cells": [
  {
   "cell_type": "code",
   "execution_count": 1,
   "metadata": {},
   "outputs": [],
   "source": [
    "# Copyright (c) 2024 Byeonghyeon Kim \n",
    "# github site: https://github.com/bhkim003/ByeonghyeonKim\n",
    "# email: bhkim003@snu.ac.kr\n",
    " \n",
    "# Permission is hereby granted, free of charge, to any person obtaining a copy of\n",
    "# this software and associated documentation files (the \"Software\"), to deal in\n",
    "# the Software without restriction, including without limitation the rights to\n",
    "# use, copy, modify, merge, publish, distribute, sublicense, and/or sell copies of\n",
    "# the Software, and to permit persons to whom the Software is furnished to do so,\n",
    "# subject to the following conditions:\n",
    " \n",
    "# The above copyright notice and this permission notice shall be included in all\n",
    "# copies or substantial portions of the Software.\n",
    " \n",
    "# THE SOFTWARE IS PROVIDED \"AS IS\", WITHOUT WARRANTY OF ANY KIND, EXPRESS OR\n",
    "# IMPLIED, INCLUDING BUT NOT LIMITED TO THE WARRANTIES OF MERCHANTABILITY, FITNESS\n",
    "# FOR A PARTICULAR PURPOSE AND NONINFRINGEMENT. IN NO EVENT SHALL THE AUTHORS OR\n",
    "# COPYRIGHT HOLDERS BE LIABLE FOR ANY CLAIM, DAMAGES OR OTHER LIABILITY, WHETHER\n",
    "# IN AN ACTION OF CONTRACT, TORT OR OTHERWISE, ARISING FROM, OUT OF OR IN\n",
    "# CONNECTION WITH THE SOFTWARE OR THE USE OR OTHER DEALINGS IN THE SOFTWARE.\n"
   ]
  },
  {
   "cell_type": "code",
   "execution_count": 2,
   "metadata": {},
   "outputs": [],
   "source": [
    "import sys\n",
    "import os\n",
    "import torch\n",
    "import torch.nn as nn\n",
    "import torch.nn.functional as F\n",
    "import torch.backends.cudnn as cudnn\n",
    "import torch.optim as optim\n",
    "import torch.optim.lr_scheduler as lr_scheduler\n",
    "from torch.utils.data import Dataset, DataLoader\n",
    "\n",
    "import torchvision\n",
    "import torchvision.datasets\n",
    "import torchvision.transforms as transforms\n",
    "\n",
    "import numpy as np\n",
    "import matplotlib.pyplot as plt\n",
    "\n",
    "import time\n",
    "\n",
    "from snntorch import spikegen\n",
    "import matplotlib.pyplot as plt\n",
    "import snntorch.spikeplot as splt\n",
    "from IPython.display import HTML\n",
    "\n",
    "from tqdm import tqdm\n",
    "\n",
    "from apex.parallel import DistributedDataParallel as DDP\n",
    "\n",
    "import random"
   ]
  },
  {
   "cell_type": "code",
   "execution_count": 3,
   "metadata": {},
   "outputs": [],
   "source": [
    "# my module import\n",
    "from modules import *\n",
    "\n",
    "# modules 폴더에 새모듈.py 만들면\n",
    "# modules/__init__py 파일에 form .새모듈 import * 하셈\n",
    "# 그리고 새모듈.py에서 from modules.새모듈 import * 하셈\n"
   ]
  },
  {
   "cell_type": "code",
   "execution_count": 4,
   "metadata": {},
   "outputs": [],
   "source": [
    "def my_snn_system(devices = \"0,1,2,3\",\n",
    "                    my_seed = 42,\n",
    "                    TIME = 8,\n",
    "                    BATCH = 256,\n",
    "                    IMAGE_SIZE = 32,\n",
    "                    which_data = 'CIFAR10',\n",
    "                    CLASS_NUM = 10,\n",
    "                    data_path = '/data2',\n",
    "                    rate_coding = True,\n",
    "    \n",
    "                    lif_layer_v_init = 0.0,\n",
    "                    lif_layer_v_decay = 0.6,\n",
    "                    lif_layer_v_threshold = 1.2,\n",
    "                    lif_layer_v_reset = 0.0,\n",
    "                    lif_layer_sg_width = 1,\n",
    "\n",
    "                    # synapse_conv_in_channels = IMAGE_PIXEL_CHANNEL,\n",
    "                    synapse_conv_kernel_size = 3,\n",
    "                    synapse_conv_stride = 1,\n",
    "                    synapse_conv_padding = 1,\n",
    "                    synapse_conv_trace_const1 = 1,\n",
    "                    synapse_conv_trace_const2 = 0.6,\n",
    "\n",
    "                    # synapse_fc_out_features = CLASS_NUM,\n",
    "                    synapse_fc_trace_const1 = 1,\n",
    "                    synapse_fc_trace_const2 = 0.6,\n",
    "\n",
    "                    pre_trained = False,\n",
    "                    convTrue_fcFalse = True,\n",
    "                    cfg = [64, 64],\n",
    "                    net_print = False, # True # False\n",
    "                    pre_trained_path = \"net_save/save_now_net.pth\",\n",
    "                    learning_rate = 0.0001,\n",
    "                    epoch_num = 200,\n",
    "                    verbose_interval = 100, #숫자 크게 하면 꺼짐\n",
    "                    validation_interval = 10, #숫자 크게 하면 꺼짐\n",
    "                    tdBN_on = False,\n",
    "                    BN_on = False,\n",
    "\n",
    "                    surrogate = 'sigmoid',\n",
    "\n",
    "                    gradient_verbose = False,\n",
    "\n",
    "                    BPTT_on = False,\n",
    "\n",
    "                    scheduler_name = 'no',\n",
    "                    \n",
    "                    ddp_on = True,\n",
    "\n",
    "                    nda_net = False,\n",
    "                  ):\n",
    "\n",
    "\n",
    "    os.environ[\"CUDA_DEVICE_ORDER\"]=\"PCI_BUS_ID\" \n",
    "    os.environ[\"CUDA_VISIBLE_DEVICES\"]= devices\n",
    "\n",
    "    \n",
    "    torch.manual_seed(my_seed)\n",
    "\n",
    "\n",
    "    \n",
    "    # data loader, pixel channel, class num\n",
    "    train_loader, test_loader, synapse_conv_in_channels = data_loader(\n",
    "            which_data,\n",
    "            data_path, \n",
    "            rate_coding, \n",
    "            BATCH, \n",
    "            IMAGE_SIZE,\n",
    "            ddp_on)\n",
    "    synapse_fc_out_features = CLASS_NUM\n",
    "\n",
    "\n",
    "    ## parameter number calculator ##########################################\n",
    "    params_num = 0\n",
    "    img_size = IMAGE_SIZE \n",
    "    bias_param = 1 # 1 or 0\n",
    "    classifier_making = False\n",
    "    if (convTrue_fcFalse == True):\n",
    "        past_kernel = synapse_conv_in_channels\n",
    "        for kernel in cfg:\n",
    "            if (classifier_making == False):\n",
    "                if (type(kernel) == list):\n",
    "                    for residual_kernel in kernel:\n",
    "                        params_num += residual_kernel * ((synapse_conv_kernel_size**2) * past_kernel + bias_param)\n",
    "                        past_kernel = residual_kernel\n",
    "                elif (kernel == 'P' or kernel == 'M'):\n",
    "                    img_size = img_size // 2\n",
    "                elif (kernel == 'L'):\n",
    "                    classifier_making = True\n",
    "                    past_kernel = past_kernel * (img_size**2)\n",
    "                else:\n",
    "                    params_num += kernel * (synapse_conv_kernel_size**2 * past_kernel + bias_param)\n",
    "                    past_kernel = kernel    \n",
    "            else: # classifier making\n",
    "                params_num += (past_kernel + bias_param) * kernel\n",
    "                past_kernel = kernel\n",
    "        \n",
    "        \n",
    "        if classifier_making == False:\n",
    "            past_kernel = past_kernel*img_size*img_size\n",
    "\n",
    "        params_num += (past_kernel + bias_param) * synapse_fc_out_features\n",
    "    else:\n",
    "        past_in_channel = synapse_conv_in_channels*img_size*img_size\n",
    "        for in_channel in cfg:\n",
    "            if (type(in_channel) == list):\n",
    "                for residual_in_channel in in_channel:\n",
    "                    params_num += (past_in_channel + bias_param) * residual_in_channel\n",
    "                    past_in_channel = residual_in_channel\n",
    "            # elif (in_channel == 'M'): #it's a holy FC layer!\n",
    "            #     img_size = img_size // 2\n",
    "            else:\n",
    "                params_num += (past_in_channel + bias_param) * in_channel\n",
    "                past_in_channel = in_channel\n",
    "        params_num += (past_in_channel + bias_param) * synapse_fc_out_features\n",
    "    ## parameter number calculator ##########################################\n",
    "\n",
    "\n",
    "    device = torch.device(\"cuda\" if torch.cuda.is_available() else \"cpu\")\n",
    "\n",
    "    if pre_trained == False:\n",
    "        if (convTrue_fcFalse == False):\n",
    "            net = MY_SNN_FC(cfg, synapse_conv_in_channels, IMAGE_SIZE, synapse_fc_out_features,\n",
    "                     synapse_fc_trace_const1, synapse_fc_trace_const2, \n",
    "                     lif_layer_v_init, lif_layer_v_decay, \n",
    "                     lif_layer_v_threshold, lif_layer_v_reset,\n",
    "                     lif_layer_sg_width,\n",
    "                     tdBN_on,\n",
    "                     BN_on, TIME,\n",
    "                     surrogate,\n",
    "                     BPTT_on).to(device)\n",
    "        else:\n",
    "            net = MY_SNN_CONV(cfg, synapse_conv_in_channels, IMAGE_SIZE,\n",
    "                     synapse_conv_kernel_size, synapse_conv_stride, \n",
    "                     synapse_conv_padding, synapse_conv_trace_const1, \n",
    "                     synapse_conv_trace_const2, \n",
    "                     lif_layer_v_init, lif_layer_v_decay, \n",
    "                     lif_layer_v_threshold, lif_layer_v_reset,\n",
    "                     lif_layer_sg_width,\n",
    "                     synapse_fc_out_features, synapse_fc_trace_const1, synapse_fc_trace_const2,\n",
    "                     tdBN_on,\n",
    "                     BN_on, TIME,\n",
    "                     surrogate,\n",
    "                     BPTT_on).to(device)\n",
    "        \n",
    "        if (nda_net == True):\n",
    "            net = VGG(cfg = cfg, num_classes=10, batch_norm = tdBN_on, in_c = synapse_conv_in_channels, \n",
    "                      lif_layer_v_threshold=lif_layer_v_threshold, lif_layer_v_decay=lif_layer_v_decay, lif_layer_sg_width=lif_layer_sg_width)\n",
    "            net.T = TIME\n",
    "        net = torch.nn.DataParallel(net)\n",
    "    else:\n",
    "        net = torch.load(pre_trained_path)\n",
    "\n",
    "\n",
    "    net = net.to(device)\n",
    "    if (net_print == True):\n",
    "        print(net)\n",
    "    \n",
    "    ## param num and memory estimation except BN at MY calculation ##########################################\n",
    "    real_param_num = sum(p.numel() for p in net.parameters() if p.requires_grad)\n",
    "    # Batch norm 있으면 아래 두 개 서로 다를 수 있음.\n",
    "    # assert real_param_num == params_num, f'parameter number is not same. real_param_num: {real_param_num}, params_num: {params_num}'    \n",
    "    print('='*50)\n",
    "    print(f\"My Num of PARAMS: {params_num:,}, system's param_num : {real_param_num:,}\")\n",
    "    memory = params_num / 8 / 1024 / 1024 # MB\n",
    "    precision = 32\n",
    "    memory = memory * precision \n",
    "    print(f\"Memory: {memory:.2f}MiB at {precision}-bit\")\n",
    "    print('='*50)\n",
    "    ##########################################################################\n",
    "\n",
    "    criterion = nn.CrossEntropyLoss().to(device)\n",
    "    # optimizer = optim.SGD(net.parameters(), lr=learning_rate, momentum=0.9)\n",
    "    optimizer = optim.SGD(net.parameters(), lr=learning_rate, momentum=0.9, weight_decay=0)\n",
    "    # optimizer = torch.optim.Adam(net.parameters(), lr=0.00001)\n",
    "    # optimizer = torch.optim.Adam(net.parameters(), lr=learning_rate/256 * BATCH, weight_decay=1e-4)\n",
    "    # optimizer = optim.Adam(net.parameters(), lr=learning_rate, weight_decay=0, betas=(0.9, 0.999))\n",
    "\n",
    "\n",
    "    if (scheduler_name == 'StepLR'):\n",
    "        scheduler = lr_scheduler.StepLR(optimizer, step_size=10, gamma=0.1)\n",
    "    elif (scheduler_name == 'ExponentialLR'):\n",
    "        scheduler = lr_scheduler.ExponentialLR(optimizer, gamma=0.95)\n",
    "    elif (scheduler_name == 'ReduceLROnPlateau'):\n",
    "        scheduler = lr_scheduler.ReduceLROnPlateau(optimizer, mode='min', factor=0.1, patience=10)\n",
    "    elif (scheduler_name == 'CosineAnnealingLR'):\n",
    "        scheduler = lr_scheduler.CosineAnnealingLR(optimizer, eta_min=0, T_max=50)\n",
    "    elif (scheduler_name == 'OneCycleLR'):\n",
    "        scheduler = lr_scheduler.OneCycleLR(optimizer, max_lr=0.1, steps_per_epoch=len(train_loader), epochs=100)\n",
    "    else:\n",
    "        pass # 'no' scheduler\n",
    "\n",
    "    val_acc = 0\n",
    "    val_acc_now = 0\n",
    "    elapsed_time_val = 0\n",
    "    for epoch in range(epoch_num):\n",
    "        print('EPOCH', epoch)\n",
    "        epoch_start_time = time.time()\n",
    "        running_loss = 0.0\n",
    "        \n",
    "        iterator = enumerate(train_loader, 0)\n",
    "        if (ddp_on == True):\n",
    "            if torch.distributed.get_rank() == 0:   \n",
    "                iterator = tqdm(iterator, total=len(train_loader), desc='train', dynamic_ncols=True, position=0, leave=True)\n",
    "        else:\n",
    "            iterator = tqdm(iterator, total=len(train_loader), desc='train', dynamic_ncols=True, position=0, leave=True)\n",
    "\n",
    "        for i, data in iterator:\n",
    "            iter_one_train_time_start = time.time()\n",
    "            net.train()\n",
    "\n",
    "            ## data loading #################################\n",
    "            inputs, labels = data\n",
    "\n",
    "            \n",
    "            if (which_data == 'DVS-CIFAR10'):\n",
    "                inputs = inputs.permute(1, 0, 2, 3, 4)\n",
    "            elif rate_coding == True :\n",
    "                inputs = spikegen.rate(inputs, num_steps=TIME)\n",
    "            else :\n",
    "                inputs = inputs.repeat(TIME, 1, 1, 1, 1)\n",
    "            # inputs: [Time, Batch, Channel, Height, Width]  \n",
    "            ################################################# \n",
    "\n",
    "            inputs = inputs.to(device)\n",
    "            labels = labels.to(device)\n",
    "\n",
    "            optimizer.zero_grad()\n",
    "\n",
    "            # inputs: [Time, Batch, Channel, Height, Width]   \n",
    "            inputs = inputs.permute(1, 0, 2, 3, 4) # net에 넣어줄때는 batch가 젤 앞 차원으로 와야함. # dataparallel때매\n",
    "            # inputs: [Batch, Time, Channel, Height, Width]   \n",
    "        \n",
    "            outputs = net(inputs)\n",
    "\n",
    "            batch = BATCH \n",
    "            if labels.size(0) != BATCH: \n",
    "                batch = labels.size(0)\n",
    "\n",
    "            \n",
    "\n",
    "\n",
    "            ####### training accruacy print ###############################\n",
    "            correct = 0\n",
    "            total = 0\n",
    "            _, predicted = torch.max(outputs.data, 1)\n",
    "            total += labels.size(0)\n",
    "            correct += (predicted[0:batch] == labels).sum().item()\n",
    "            if i % verbose_interval == verbose_interval-1:\n",
    "                print(f'{epoch}-{i} training acc: {100 * correct / total:.2f}%, lr={[f\"{lr}\" for lr in (param_group[\"lr\"] for param_group in optimizer.param_groups)]}, val_acc: {100 * val_acc_now:.2f}%')\n",
    "            training_acc_string = f'{epoch}-{i}/{len(train_loader)} tr_acc: {100 * correct / total:.2f}%, lr={[f\"{lr}\" for lr in (param_group[\"lr\"] for param_group in optimizer.param_groups)]}'\n",
    "            \n",
    "            ################################################################\n",
    "            \n",
    "\n",
    "            loss = criterion(outputs[0:batch,:], labels)\n",
    "            loss.backward()\n",
    "\n",
    "\n",
    "            ### gradinet verbose ##########################################\n",
    "            if (gradient_verbose == True):\n",
    "                if (i % verbose_interval == verbose_interval-1):\n",
    "                    print('\\n\\nepoch', epoch, 'iter', i)\n",
    "                    for name, param in net.named_parameters():\n",
    "                        if param.requires_grad:\n",
    "                            print('\\n\\n\\n\\n' , name, param.grad)\n",
    "            ################################################################\n",
    "            \n",
    "            optimizer.step()\n",
    "\n",
    "            running_loss += loss.item()\n",
    "            # print(\"Epoch: {}, Iter: {}, Loss: {}\".format(epoch + 1, i + 1, running_loss / 100))\n",
    "\n",
    "            iter_one_train_time_end = time.time()\n",
    "            elapsed_time = iter_one_train_time_end - iter_one_train_time_start  # 실행 시간 계산\n",
    "\n",
    "            if (i % verbose_interval == verbose_interval-1):\n",
    "                print(f\"iter_one_train_time: {elapsed_time} seconds, last one_val_time: {elapsed_time_val} seconds\\n\")\n",
    "\n",
    "            ##### validation ##############################################\n",
    "            if i % validation_interval == validation_interval-1:\n",
    "                iter_one_val_time_start = time.time()\n",
    "                \n",
    "                correct = 0\n",
    "                total = 0\n",
    "                with torch.no_grad():\n",
    "                    net.eval()\n",
    "                    for data in test_loader:\n",
    "                        ## data loading #################################\n",
    "                        inputs, labels = data\n",
    "\n",
    "                        \n",
    "                        if (which_data == 'DVS-CIFAR10'):\n",
    "                            inputs = inputs.permute(1, 0, 2, 3, 4)\n",
    "                        elif rate_coding == True :\n",
    "                            inputs = spikegen.rate(inputs, num_steps=TIME)\n",
    "                        else :\n",
    "                            inputs = inputs.repeat(TIME, 1, 1, 1, 1)\n",
    "                        # inputs: [Time, Batch, Channel, Height, Width]  \n",
    "                        ################################################# \n",
    "\n",
    "                        inputs = inputs.to(device)\n",
    "                        labels = labels.to(device)\n",
    "                        outputs = net(inputs.permute(1, 0, 2, 3, 4))\n",
    "                        _, predicted = torch.max(outputs.data, 1)\n",
    "                        total += labels.size(0)\n",
    "                        batch = BATCH \n",
    "                        if labels.size(0) != BATCH: \n",
    "                            batch = labels.size(0)\n",
    "                        correct += (predicted[0:batch] == labels).sum().item()\n",
    "                        val_loss = criterion(outputs[0:batch,:], labels)\n",
    "\n",
    "                    val_acc_now = correct / total\n",
    "                    # print(f'{epoch}-{i} validation acc: {100 * val_acc_now:.2f}%, lr={[f\"{lr:.10f}\" for lr in (param_group[\"lr\"] for param_group in optimizer.param_groups)]}')\n",
    "\n",
    "                iter_one_val_time_end = time.time()\n",
    "                elapsed_time_val = iter_one_val_time_end - iter_one_val_time_start  # 실행 시간 계산\n",
    "                # print(f\"iter_one_val_time: {elapsed_time_val} seconds\")\n",
    "\n",
    "                # network save\n",
    "                if val_acc < val_acc_now:\n",
    "                    val_acc = val_acc_now\n",
    "                    torch.save(net.state_dict(), \"net_save/save_now_net_weights.pth\")\n",
    "                    torch.save(net, \"net_save/save_now_net.pth\")\n",
    "                    torch.save(net.module.state_dict(), \"net_save/save_now_net_weights2.pth\")\n",
    "                    torch.save(net.module, \"net_save/save_now_net2.pth\")\n",
    "            ################################################################\n",
    "            iterator.set_description(f\"train: {training_acc_string}, tr_loss: {loss}, val_acc: {100 * val_acc_now:.2f}%\")     \n",
    "        if (scheduler_name != 'no'):\n",
    "            if (scheduler_name == 'ReduceLROnPlateau'):\n",
    "                scheduler.step(val_loss)\n",
    "            else:\n",
    "                scheduler.step()\n",
    "\n",
    "        \n",
    "        \n",
    "        epoch_time_end = time.time()\n",
    "        epoch_time = epoch_time_end - epoch_start_time  # 실행 시간 계산\n",
    "        \n",
    "        print(f\"epoch_time: {epoch_time} seconds\")\n",
    "        print('\\n')\n"
   ]
  },
  {
   "cell_type": "code",
   "execution_count": 5,
   "metadata": {},
   "outputs": [
    {
     "name": "stdout",
     "output_type": "stream",
     "text": [
      "==================================================\n",
      "My Num of PARAMS: 9,404,234, system's param_num : 9,459,274\n",
      "Memory: 35.87MiB at 32-bit\n",
      "==================================================\n",
      "EPOCH 0\n"
     ]
    },
    {
     "name": "stderr",
     "output_type": "stream",
     "text": [
      "train: 0-48/71 tr_acc: 30.47%, lr=['0.001'], tr_loss: 1.8536916971206665, val_acc: 0.00%:  69%|██████▉   | 49/71 [01:48<00:42,  1.92s/it]"
     ]
    },
    {
     "name": "stdout",
     "output_type": "stream",
     "text": [
      "0-49 training acc: 34.38%, lr=['0.001'], val_acc: 0.00%\n",
      "iter_one_train_time: 1.9228041172027588 seconds, last one_val_time: 0 seconds\n",
      "\n"
     ]
    },
    {
     "name": "stderr",
     "output_type": "stream",
     "text": [
      "train: 0-70/71 tr_acc: 40.00%, lr=['0.001'], tr_loss: 1.5720982551574707, val_acc: 27.20%: 100%|██████████| 71/71 [02:33<00:00,  2.16s/it]"
     ]
    },
    {
     "name": "stdout",
     "output_type": "stream",
     "text": [
      "epoch_time: 153.77099180221558 seconds\n",
      "\n",
      "\n",
      "EPOCH 1\n"
     ]
    },
    {
     "name": "stderr",
     "output_type": "stream",
     "text": [
      "\n",
      "train: 1-48/71 tr_acc: 36.72%, lr=['0.0009990133642141358'], tr_loss: 1.670961856842041, val_acc: 27.20%:  69%|██████▉   | 49/71 [01:37<00:43,  1.99s/it] "
     ]
    },
    {
     "name": "stdout",
     "output_type": "stream",
     "text": [
      "1-49 training acc: 32.03%, lr=['0.0009990133642141358'], val_acc: 27.20%\n",
      "iter_one_train_time: 1.984135627746582 seconds, last one_val_time: 2.714592933654785 seconds\n",
      "\n"
     ]
    },
    {
     "name": "stderr",
     "output_type": "stream",
     "text": [
      "train: 1-70/71 tr_acc: 50.00%, lr=['0.0009990133642141358'], tr_loss: 1.5156446695327759, val_acc: 22.50%: 100%|██████████| 71/71 [02:23<00:00,  2.02s/it]"
     ]
    },
    {
     "name": "stdout",
     "output_type": "stream",
     "text": [
      "epoch_time: 143.4109082221985 seconds\n",
      "\n",
      "\n",
      "EPOCH 2\n"
     ]
    },
    {
     "name": "stderr",
     "output_type": "stream",
     "text": [
      "\n",
      "train: 2-48/71 tr_acc: 45.31%, lr=['0.000996057350657239'], tr_loss: 1.5295937061309814, val_acc: 22.50%:  69%|██████▉   | 49/71 [01:38<00:44,  2.00s/it]"
     ]
    },
    {
     "name": "stdout",
     "output_type": "stream",
     "text": [
      "2-49 training acc: 39.84%, lr=['0.000996057350657239'], val_acc: 22.50%\n",
      "iter_one_train_time: 1.9690284729003906 seconds, last one_val_time: 2.6068308353424072 seconds\n",
      "\n"
     ]
    },
    {
     "name": "stderr",
     "output_type": "stream",
     "text": [
      "train: 2-70/71 tr_acc: 35.00%, lr=['0.000996057350657239'], tr_loss: 1.6550735235214233, val_acc: 26.90%: 100%|██████████| 71/71 [02:23<00:00,  2.03s/it]"
     ]
    },
    {
     "name": "stdout",
     "output_type": "stream",
     "text": [
      "epoch_time: 144.1480529308319 seconds\n",
      "\n",
      "\n",
      "EPOCH 3\n"
     ]
    },
    {
     "name": "stderr",
     "output_type": "stream",
     "text": [
      "\n",
      "train: 3-48/71 tr_acc: 51.56%, lr=['0.0009911436253643444'], tr_loss: 1.4147920608520508, val_acc: 26.90%:  69%|██████▉   | 49/71 [01:38<00:43,  2.00s/it]"
     ]
    },
    {
     "name": "stdout",
     "output_type": "stream",
     "text": [
      "3-49 training acc: 50.00%, lr=['0.0009911436253643444'], val_acc: 26.90%\n",
      "iter_one_train_time: 1.9766952991485596 seconds, last one_val_time: 2.6831018924713135 seconds\n",
      "\n"
     ]
    },
    {
     "name": "stderr",
     "output_type": "stream",
     "text": [
      "train: 3-70/71 tr_acc: 47.50%, lr=['0.0009911436253643444'], tr_loss: 1.3227555751800537, val_acc: 45.20%: 100%|██████████| 71/71 [02:24<00:00,  2.04s/it]"
     ]
    },
    {
     "name": "stdout",
     "output_type": "stream",
     "text": [
      "epoch_time: 145.06948351860046 seconds\n",
      "\n",
      "\n",
      "EPOCH 4\n"
     ]
    },
    {
     "name": "stderr",
     "output_type": "stream",
     "text": [
      "\n",
      "train: 4-48/71 tr_acc: 53.91%, lr=['0.0009842915805643156'], tr_loss: 1.4015905857086182, val_acc: 45.20%:  69%|██████▉   | 49/71 [01:38<00:44,  2.02s/it]"
     ]
    },
    {
     "name": "stdout",
     "output_type": "stream",
     "text": [
      "4-49 training acc: 55.47%, lr=['0.0009842915805643156'], val_acc: 45.20%\n",
      "iter_one_train_time: 1.9938678741455078 seconds, last one_val_time: 2.7452340126037598 seconds\n",
      "\n"
     ]
    },
    {
     "name": "stderr",
     "output_type": "stream",
     "text": [
      "train: 4-70/71 tr_acc: 42.50%, lr=['0.0009842915805643156'], tr_loss: 1.4555789232254028, val_acc: 39.20%: 100%|██████████| 71/71 [02:24<00:00,  2.04s/it]"
     ]
    },
    {
     "name": "stdout",
     "output_type": "stream",
     "text": [
      "epoch_time: 144.85481119155884 seconds\n",
      "\n",
      "\n",
      "EPOCH 5\n"
     ]
    },
    {
     "name": "stderr",
     "output_type": "stream",
     "text": [
      "\n",
      "train: 5-48/71 tr_acc: 48.44%, lr=['0.0009755282581475769'], tr_loss: 1.3826870918273926, val_acc: 39.20%:  69%|██████▉   | 49/71 [01:38<00:43,  1.99s/it]"
     ]
    },
    {
     "name": "stdout",
     "output_type": "stream",
     "text": [
      "5-49 training acc: 57.03%, lr=['0.0009755282581475769'], val_acc: 39.20%\n",
      "iter_one_train_time: 1.993150234222412 seconds, last one_val_time: 2.705094337463379 seconds\n",
      "\n"
     ]
    },
    {
     "name": "stderr",
     "output_type": "stream",
     "text": [
      "train: 5-70/71 tr_acc: 47.50%, lr=['0.0009755282581475769'], tr_loss: 1.3717992305755615, val_acc: 43.40%: 100%|██████████| 71/71 [02:24<00:00,  2.03s/it]"
     ]
    },
    {
     "name": "stdout",
     "output_type": "stream",
     "text": [
      "epoch_time: 144.66135549545288 seconds\n",
      "\n",
      "\n",
      "EPOCH 6\n"
     ]
    },
    {
     "name": "stderr",
     "output_type": "stream",
     "text": [
      "\n",
      "train: 6-48/71 tr_acc: 63.28%, lr=['0.0009648882429441258'], tr_loss: 1.174019694328308, val_acc: 43.40%:  69%|██████▉   | 49/71 [01:38<00:43,  1.99s/it] "
     ]
    },
    {
     "name": "stdout",
     "output_type": "stream",
     "text": [
      "6-49 training acc: 53.91%, lr=['0.0009648882429441258'], val_acc: 43.40%\n",
      "iter_one_train_time: 1.9778187274932861 seconds, last one_val_time: 2.8625519275665283 seconds\n",
      "\n"
     ]
    },
    {
     "name": "stderr",
     "output_type": "stream",
     "text": [
      "train: 6-70/71 tr_acc: 57.50%, lr=['0.0009648882429441258'], tr_loss: 1.2472922801971436, val_acc: 50.90%: 100%|██████████| 71/71 [02:25<00:00,  2.04s/it]"
     ]
    },
    {
     "name": "stdout",
     "output_type": "stream",
     "text": [
      "epoch_time: 145.42875981330872 seconds\n",
      "\n",
      "\n",
      "EPOCH 7\n"
     ]
    },
    {
     "name": "stderr",
     "output_type": "stream",
     "text": [
      "\n",
      "train: 7-48/71 tr_acc: 50.78%, lr=['0.0009524135262330099'], tr_loss: 1.384187936782837, val_acc: 50.90%:  69%|██████▉   | 49/71 [01:38<00:43,  1.99s/it] "
     ]
    },
    {
     "name": "stdout",
     "output_type": "stream",
     "text": [
      "7-49 training acc: 46.88%, lr=['0.0009524135262330099'], val_acc: 50.90%\n",
      "iter_one_train_time: 1.9937784671783447 seconds, last one_val_time: 2.7992358207702637 seconds\n",
      "\n"
     ]
    },
    {
     "name": "stderr",
     "output_type": "stream",
     "text": [
      "train: 7-70/71 tr_acc: 57.50%, lr=['0.0009524135262330099'], tr_loss: 1.3055469989776611, val_acc: 48.10%: 100%|██████████| 71/71 [02:24<00:00,  2.03s/it]"
     ]
    },
    {
     "name": "stdout",
     "output_type": "stream",
     "text": [
      "epoch_time: 144.39093017578125 seconds\n",
      "\n",
      "\n",
      "EPOCH 8\n"
     ]
    },
    {
     "name": "stderr",
     "output_type": "stream",
     "text": [
      "\n",
      "train: 8-48/71 tr_acc: 44.53%, lr=['0.0009381533400219318'], tr_loss: 1.4615942239761353, val_acc: 48.10%:  69%|██████▉   | 49/71 [01:38<00:44,  2.01s/it]"
     ]
    },
    {
     "name": "stdout",
     "output_type": "stream",
     "text": [
      "8-49 training acc: 56.25%, lr=['0.0009381533400219318'], val_acc: 48.10%\n",
      "iter_one_train_time: 2.006340503692627 seconds, last one_val_time: 2.7047107219696045 seconds\n",
      "\n"
     ]
    },
    {
     "name": "stderr",
     "output_type": "stream",
     "text": [
      "train: 8-70/71 tr_acc: 55.00%, lr=['0.0009381533400219318'], tr_loss: 1.5673965215682983, val_acc: 46.70%: 100%|██████████| 71/71 [02:24<00:00,  2.04s/it]"
     ]
    },
    {
     "name": "stdout",
     "output_type": "stream",
     "text": [
      "epoch_time: 144.9938645362854 seconds\n",
      "\n",
      "\n",
      "EPOCH 9\n"
     ]
    },
    {
     "name": "stderr",
     "output_type": "stream",
     "text": [
      "\n",
      "train: 9-48/71 tr_acc: 46.09%, lr=['0.0009221639627510075'], tr_loss: 1.437253475189209, val_acc: 46.70%:  69%|██████▉   | 49/71 [01:38<00:43,  1.99s/it] "
     ]
    },
    {
     "name": "stdout",
     "output_type": "stream",
     "text": [
      "9-49 training acc: 52.34%, lr=['0.0009221639627510075'], val_acc: 46.70%\n",
      "iter_one_train_time: 2.0853054523468018 seconds, last one_val_time: 2.8595519065856934 seconds\n",
      "\n"
     ]
    },
    {
     "name": "stderr",
     "output_type": "stream",
     "text": [
      "train: 9-70/71 tr_acc: 57.50%, lr=['0.0009221639627510075'], tr_loss: 1.30276620388031, val_acc: 40.50%: 100%|██████████| 71/71 [02:24<00:00,  2.03s/it]  "
     ]
    },
    {
     "name": "stdout",
     "output_type": "stream",
     "text": [
      "epoch_time: 144.72254872322083 seconds\n",
      "\n",
      "\n",
      "EPOCH 10\n"
     ]
    },
    {
     "name": "stderr",
     "output_type": "stream",
     "text": [
      "\n",
      "train: 10-48/71 tr_acc: 52.34%, lr=['0.0009045084971874736'], tr_loss: 1.321128010749817, val_acc: 40.50%:  69%|██████▉   | 49/71 [01:38<00:43,  2.00s/it] "
     ]
    },
    {
     "name": "stdout",
     "output_type": "stream",
     "text": [
      "10-49 training acc: 58.59%, lr=['0.0009045084971874736'], val_acc: 40.50%\n",
      "iter_one_train_time: 1.9891786575317383 seconds, last one_val_time: 2.702911853790283 seconds\n",
      "\n"
     ]
    },
    {
     "name": "stderr",
     "output_type": "stream",
     "text": [
      "train: 10-70/71 tr_acc: 60.00%, lr=['0.0009045084971874736'], tr_loss: 1.2933366298675537, val_acc: 43.20%: 100%|██████████| 71/71 [02:24<00:00,  2.04s/it]"
     ]
    },
    {
     "name": "stdout",
     "output_type": "stream",
     "text": [
      "epoch_time: 144.83659386634827 seconds\n",
      "\n",
      "\n",
      "EPOCH 11\n"
     ]
    },
    {
     "name": "stderr",
     "output_type": "stream",
     "text": [
      "\n",
      "train: 11-48/71 tr_acc: 56.25%, lr=['0.0008852566213878945'], tr_loss: 1.224023461341858, val_acc: 43.20%:  69%|██████▉   | 49/71 [01:38<00:44,  2.00s/it] "
     ]
    },
    {
     "name": "stdout",
     "output_type": "stream",
     "text": [
      "11-49 training acc: 57.81%, lr=['0.0008852566213878945'], val_acc: 43.20%\n",
      "iter_one_train_time: 1.979478359222412 seconds, last one_val_time: 2.7701375484466553 seconds\n",
      "\n"
     ]
    },
    {
     "name": "stderr",
     "output_type": "stream",
     "text": [
      "train: 11-70/71 tr_acc: 55.00%, lr=['0.0008852566213878945'], tr_loss: 1.307180643081665, val_acc: 51.30%: 100%|██████████| 71/71 [02:24<00:00,  2.04s/it] "
     ]
    },
    {
     "name": "stdout",
     "output_type": "stream",
     "text": [
      "epoch_time: 145.2538800239563 seconds\n",
      "\n",
      "\n",
      "EPOCH 12\n"
     ]
    },
    {
     "name": "stderr",
     "output_type": "stream",
     "text": [
      "\n",
      "train: 12-48/71 tr_acc: 62.50%, lr=['0.0008644843137107056'], tr_loss: 1.1905525922775269, val_acc: 51.30%:  69%|██████▉   | 49/71 [01:38<00:44,  2.00s/it]"
     ]
    },
    {
     "name": "stdout",
     "output_type": "stream",
     "text": [
      "12-49 training acc: 62.50%, lr=['0.0008644843137107056'], val_acc: 51.30%\n",
      "iter_one_train_time: 1.9887709617614746 seconds, last one_val_time: 2.694220542907715 seconds\n",
      "\n"
     ]
    },
    {
     "name": "stderr",
     "output_type": "stream",
     "text": [
      "train: 12-70/71 tr_acc: 47.50%, lr=['0.0008644843137107056'], tr_loss: 1.4712889194488525, val_acc: 45.60%: 100%|██████████| 71/71 [02:24<00:00,  2.04s/it]"
     ]
    },
    {
     "name": "stdout",
     "output_type": "stream",
     "text": [
      "epoch_time: 145.1078507900238 seconds\n",
      "\n",
      "\n",
      "EPOCH 13\n"
     ]
    },
    {
     "name": "stderr",
     "output_type": "stream",
     "text": [
      "\n",
      "train: 13-48/71 tr_acc: 51.56%, lr=['0.0008422735529643443'], tr_loss: 1.27712881565094, val_acc: 45.60%:  69%|██████▉   | 49/71 [01:38<00:43,  1.99s/it]  "
     ]
    },
    {
     "name": "stdout",
     "output_type": "stream",
     "text": [
      "13-49 training acc: 65.62%, lr=['0.0008422735529643443'], val_acc: 45.60%\n",
      "iter_one_train_time: 2.0870773792266846 seconds, last one_val_time: 2.7534263134002686 seconds\n",
      "\n"
     ]
    },
    {
     "name": "stderr",
     "output_type": "stream",
     "text": [
      "train: 13-70/71 tr_acc: 52.50%, lr=['0.0008422735529643443'], tr_loss: 1.2131131887435913, val_acc: 53.10%: 100%|██████████| 71/71 [02:25<00:00,  2.04s/it]"
     ]
    },
    {
     "name": "stdout",
     "output_type": "stream",
     "text": [
      "epoch_time: 145.48221135139465 seconds\n",
      "\n",
      "\n",
      "EPOCH 14\n"
     ]
    },
    {
     "name": "stderr",
     "output_type": "stream",
     "text": [
      "\n",
      "train: 14-48/71 tr_acc: 59.38%, lr=['0.0008187119948743448'], tr_loss: 1.0918699502944946, val_acc: 53.10%:  69%|██████▉   | 49/71 [01:38<00:44,  2.02s/it]"
     ]
    },
    {
     "name": "stdout",
     "output_type": "stream",
     "text": [
      "14-49 training acc: 57.81%, lr=['0.0008187119948743448'], val_acc: 53.10%\n",
      "iter_one_train_time: 1.9808320999145508 seconds, last one_val_time: 2.647139072418213 seconds\n",
      "\n"
     ]
    },
    {
     "name": "stderr",
     "output_type": "stream",
     "text": [
      "train: 14-70/71 tr_acc: 62.50%, lr=['0.0008187119948743448'], tr_loss: 1.1397368907928467, val_acc: 55.60%: 100%|██████████| 71/71 [02:25<00:00,  2.04s/it]"
     ]
    },
    {
     "name": "stdout",
     "output_type": "stream",
     "text": [
      "epoch_time: 145.33713483810425 seconds\n",
      "\n",
      "\n",
      "EPOCH 15\n"
     ]
    },
    {
     "name": "stderr",
     "output_type": "stream",
     "text": [
      "\n",
      "train: 15-48/71 tr_acc: 62.50%, lr=['0.0007938926261462366'], tr_loss: 1.119300127029419, val_acc: 55.60%:  69%|██████▉   | 49/71 [01:38<00:44,  2.00s/it] "
     ]
    },
    {
     "name": "stdout",
     "output_type": "stream",
     "text": [
      "15-49 training acc: 61.72%, lr=['0.0007938926261462366'], val_acc: 55.60%\n",
      "iter_one_train_time: 1.9997572898864746 seconds, last one_val_time: 2.7003018856048584 seconds\n",
      "\n"
     ]
    },
    {
     "name": "stderr",
     "output_type": "stream",
     "text": [
      "train: 15-70/71 tr_acc: 52.50%, lr=['0.0007938926261462366'], tr_loss: 1.3207515478134155, val_acc: 51.70%: 100%|██████████| 71/71 [02:24<00:00,  2.04s/it]"
     ]
    },
    {
     "name": "stdout",
     "output_type": "stream",
     "text": [
      "epoch_time: 144.9490683078766 seconds\n",
      "\n",
      "\n",
      "EPOCH 16\n"
     ]
    },
    {
     "name": "stderr",
     "output_type": "stream",
     "text": [
      "\n",
      "train: 16-48/71 tr_acc: 67.97%, lr=['0.0007679133974894982'], tr_loss: 0.9492321610450745, val_acc: 51.70%:  69%|██████▉   | 49/71 [01:38<00:44,  2.03s/it]"
     ]
    },
    {
     "name": "stdout",
     "output_type": "stream",
     "text": [
      "16-49 training acc: 65.62%, lr=['0.0007679133974894982'], val_acc: 51.70%\n",
      "iter_one_train_time: 1.9737117290496826 seconds, last one_val_time: 2.7593305110931396 seconds\n",
      "\n"
     ]
    },
    {
     "name": "stderr",
     "output_type": "stream",
     "text": [
      "train: 16-70/71 tr_acc: 55.00%, lr=['0.0007679133974894982'], tr_loss: 1.3292739391326904, val_acc: 46.30%: 100%|██████████| 71/71 [02:24<00:00,  2.04s/it]"
     ]
    },
    {
     "name": "stdout",
     "output_type": "stream",
     "text": [
      "epoch_time: 145.03826665878296 seconds\n",
      "\n",
      "\n",
      "EPOCH 17\n"
     ]
    },
    {
     "name": "stderr",
     "output_type": "stream",
     "text": [
      "\n",
      "train: 17-48/71 tr_acc: 64.06%, lr=['0.0007408768370508576'], tr_loss: 1.0672698020935059, val_acc: 46.30%:  69%|██████▉   | 49/71 [01:38<00:43,  1.99s/it]"
     ]
    },
    {
     "name": "stdout",
     "output_type": "stream",
     "text": [
      "17-49 training acc: 55.47%, lr=['0.0007408768370508576'], val_acc: 46.30%\n",
      "iter_one_train_time: 1.9592854976654053 seconds, last one_val_time: 2.7299041748046875 seconds\n",
      "\n"
     ]
    },
    {
     "name": "stderr",
     "output_type": "stream",
     "text": [
      "train: 17-70/71 tr_acc: 55.00%, lr=['0.0007408768370508576'], tr_loss: 1.2017066478729248, val_acc: 56.20%: 100%|██████████| 71/71 [02:24<00:00,  2.04s/it]"
     ]
    },
    {
     "name": "stdout",
     "output_type": "stream",
     "text": [
      "epoch_time: 145.00909614562988 seconds\n",
      "\n",
      "\n",
      "EPOCH 18\n"
     ]
    },
    {
     "name": "stderr",
     "output_type": "stream",
     "text": [
      "\n",
      "train: 18-48/71 tr_acc: 66.41%, lr=['0.0007128896457825362'], tr_loss: 1.0032680034637451, val_acc: 56.20%:  69%|██████▉   | 49/71 [01:38<00:43,  2.00s/it]"
     ]
    },
    {
     "name": "stdout",
     "output_type": "stream",
     "text": [
      "18-49 training acc: 58.59%, lr=['0.0007128896457825362'], val_acc: 56.20%\n",
      "iter_one_train_time: 2.0842134952545166 seconds, last one_val_time: 2.8134140968322754 seconds\n",
      "\n"
     ]
    },
    {
     "name": "stderr",
     "output_type": "stream",
     "text": [
      "train: 18-70/71 tr_acc: 62.50%, lr=['0.0007128896457825362'], tr_loss: 1.0637224912643433, val_acc: 55.80%: 100%|██████████| 71/71 [02:24<00:00,  2.03s/it]"
     ]
    },
    {
     "name": "stdout",
     "output_type": "stream",
     "text": [
      "epoch_time: 144.7696738243103 seconds\n",
      "\n",
      "\n",
      "EPOCH 19\n"
     ]
    },
    {
     "name": "stderr",
     "output_type": "stream",
     "text": [
      "\n",
      "train: 19-48/71 tr_acc: 68.75%, lr=['0.0006840622763423389'], tr_loss: 0.9509215950965881, val_acc: 55.80%:  69%|██████▉   | 49/71 [01:38<00:43,  1.99s/it]"
     ]
    },
    {
     "name": "stdout",
     "output_type": "stream",
     "text": [
      "19-49 training acc: 64.84%, lr=['0.0006840622763423389'], val_acc: 55.80%\n",
      "iter_one_train_time: 1.9869625568389893 seconds, last one_val_time: 2.664921998977661 seconds\n",
      "\n"
     ]
    },
    {
     "name": "stderr",
     "output_type": "stream",
     "text": [
      "train: 19-70/71 tr_acc: 67.50%, lr=['0.0006840622763423389'], tr_loss: 1.1022062301635742, val_acc: 55.50%: 100%|██████████| 71/71 [02:24<00:00,  2.03s/it]"
     ]
    },
    {
     "name": "stdout",
     "output_type": "stream",
     "text": [
      "epoch_time: 144.6325409412384 seconds\n",
      "\n",
      "\n",
      "EPOCH 20\n"
     ]
    },
    {
     "name": "stderr",
     "output_type": "stream",
     "text": [
      "\n",
      "train: 20-48/71 tr_acc: 64.06%, lr=['0.0006545084971874735'], tr_loss: 1.1558946371078491, val_acc: 55.50%:  69%|██████▉   | 49/71 [01:38<00:44,  2.01s/it]"
     ]
    },
    {
     "name": "stdout",
     "output_type": "stream",
     "text": [
      "20-49 training acc: 62.50%, lr=['0.0006545084971874735'], val_acc: 55.50%\n",
      "iter_one_train_time: 1.978184461593628 seconds, last one_val_time: 2.6826679706573486 seconds\n",
      "\n"
     ]
    },
    {
     "name": "stderr",
     "output_type": "stream",
     "text": [
      "train: 20-70/71 tr_acc: 65.00%, lr=['0.0006545084971874735'], tr_loss: 1.1192762851715088, val_acc: 58.40%: 100%|██████████| 71/71 [02:24<00:00,  2.04s/it]"
     ]
    },
    {
     "name": "stdout",
     "output_type": "stream",
     "text": [
      "epoch_time: 145.02504563331604 seconds\n",
      "\n",
      "\n",
      "EPOCH 21\n"
     ]
    },
    {
     "name": "stderr",
     "output_type": "stream",
     "text": [
      "\n",
      "train: 21-48/71 tr_acc: 61.72%, lr=['0.0006243449435824271'], tr_loss: 1.0717774629592896, val_acc: 58.40%:  69%|██████▉   | 49/71 [01:38<00:44,  2.02s/it]"
     ]
    },
    {
     "name": "stdout",
     "output_type": "stream",
     "text": [
      "21-49 training acc: 66.41%, lr=['0.0006243449435824271'], val_acc: 58.40%\n",
      "iter_one_train_time: 1.9950180053710938 seconds, last one_val_time: 2.718878984451294 seconds\n",
      "\n"
     ]
    },
    {
     "name": "stderr",
     "output_type": "stream",
     "text": [
      "train: 21-70/71 tr_acc: 72.50%, lr=['0.0006243449435824271'], tr_loss: 0.9570177793502808, val_acc: 53.60%: 100%|██████████| 71/71 [02:24<00:00,  2.03s/it]"
     ]
    },
    {
     "name": "stdout",
     "output_type": "stream",
     "text": [
      "epoch_time: 144.7491455078125 seconds\n",
      "\n",
      "\n",
      "EPOCH 22\n"
     ]
    },
    {
     "name": "stderr",
     "output_type": "stream",
     "text": [
      "\n",
      "train: 22-48/71 tr_acc: 60.94%, lr=['0.0005936906572928622'], tr_loss: 1.061877727508545, val_acc: 53.60%:  69%|██████▉   | 49/71 [01:39<00:44,  2.00s/it] "
     ]
    },
    {
     "name": "stdout",
     "output_type": "stream",
     "text": [
      "22-49 training acc: 58.59%, lr=['0.0005936906572928622'], val_acc: 53.60%\n",
      "iter_one_train_time: 2.0663838386535645 seconds, last one_val_time: 2.8072829246520996 seconds\n",
      "\n"
     ]
    },
    {
     "name": "stderr",
     "output_type": "stream",
     "text": [
      "train: 22-70/71 tr_acc: 55.00%, lr=['0.0005936906572928622'], tr_loss: 1.168060302734375, val_acc: 57.00%: 100%|██████████| 71/71 [02:25<00:00,  2.04s/it] "
     ]
    },
    {
     "name": "stdout",
     "output_type": "stream",
     "text": [
      "epoch_time: 145.33122658729553 seconds\n",
      "\n",
      "\n",
      "EPOCH 23\n"
     ]
    },
    {
     "name": "stderr",
     "output_type": "stream",
     "text": [
      "\n",
      "train: 23-48/71 tr_acc: 70.31%, lr=['0.000562666616782152'], tr_loss: 0.8911937475204468, val_acc: 57.00%:  69%|██████▉   | 49/71 [01:38<00:44,  2.00s/it]"
     ]
    },
    {
     "name": "stdout",
     "output_type": "stream",
     "text": [
      "23-49 training acc: 62.50%, lr=['0.000562666616782152'], val_acc: 57.00%\n",
      "iter_one_train_time: 2.0018723011016846 seconds, last one_val_time: 2.635124683380127 seconds\n",
      "\n"
     ]
    },
    {
     "name": "stderr",
     "output_type": "stream",
     "text": [
      "train: 23-70/71 tr_acc: 72.50%, lr=['0.000562666616782152'], tr_loss: 0.8737467527389526, val_acc: 55.20%: 100%|██████████| 71/71 [02:24<00:00,  2.04s/it]"
     ]
    },
    {
     "name": "stdout",
     "output_type": "stream",
     "text": [
      "epoch_time: 144.9081699848175 seconds\n",
      "\n",
      "\n",
      "EPOCH 24\n"
     ]
    },
    {
     "name": "stderr",
     "output_type": "stream",
     "text": [
      "\n",
      "train: 24-48/71 tr_acc: 55.47%, lr=['0.0005313952597646566'], tr_loss: 1.1901079416275024, val_acc: 55.20%:  69%|██████▉   | 49/71 [01:38<00:44,  2.01s/it]"
     ]
    },
    {
     "name": "stdout",
     "output_type": "stream",
     "text": [
      "24-49 training acc: 62.50%, lr=['0.0005313952597646566'], val_acc: 55.20%\n",
      "iter_one_train_time: 2.0210494995117188 seconds, last one_val_time: 2.653632879257202 seconds\n",
      "\n"
     ]
    },
    {
     "name": "stderr",
     "output_type": "stream",
     "text": [
      "train: 24-70/71 tr_acc: 57.50%, lr=['0.0005313952597646566'], tr_loss: 1.101135015487671, val_acc: 56.90%: 100%|██████████| 71/71 [02:24<00:00,  2.04s/it] "
     ]
    },
    {
     "name": "stdout",
     "output_type": "stream",
     "text": [
      "epoch_time: 145.24489736557007 seconds\n",
      "\n",
      "\n",
      "EPOCH 25\n"
     ]
    },
    {
     "name": "stderr",
     "output_type": "stream",
     "text": [
      "\n",
      "train: 25-48/71 tr_acc: 67.19%, lr=['0.0004999999999999998'], tr_loss: 0.9954932928085327, val_acc: 56.90%:  69%|██████▉   | 49/71 [01:39<00:44,  2.01s/it]"
     ]
    },
    {
     "name": "stdout",
     "output_type": "stream",
     "text": [
      "25-49 training acc: 68.75%, lr=['0.0004999999999999998'], val_acc: 56.90%\n",
      "iter_one_train_time: 2.012491464614868 seconds, last one_val_time: 2.6403026580810547 seconds\n",
      "\n"
     ]
    },
    {
     "name": "stderr",
     "output_type": "stream",
     "text": [
      "train: 25-70/71 tr_acc: 72.50%, lr=['0.0004999999999999998'], tr_loss: 0.8776265978813171, val_acc: 58.90%: 100%|██████████| 71/71 [02:25<00:00,  2.05s/it]"
     ]
    },
    {
     "name": "stdout",
     "output_type": "stream",
     "text": [
      "epoch_time: 145.81408882141113 seconds\n",
      "\n",
      "\n",
      "EPOCH 26\n"
     ]
    },
    {
     "name": "stderr",
     "output_type": "stream",
     "text": [
      "\n",
      "train: 26-48/71 tr_acc: 67.97%, lr=['0.00046860474023534314'], tr_loss: 0.8565034866333008, val_acc: 58.90%:  69%|██████▉   | 49/71 [01:38<00:44,  2.03s/it]"
     ]
    },
    {
     "name": "stdout",
     "output_type": "stream",
     "text": [
      "26-49 training acc: 71.09%, lr=['0.00046860474023534314'], val_acc: 58.90%\n",
      "iter_one_train_time: 2.009148120880127 seconds, last one_val_time: 2.6555724143981934 seconds\n",
      "\n"
     ]
    },
    {
     "name": "stderr",
     "output_type": "stream",
     "text": [
      "train: 26-70/71 tr_acc: 65.00%, lr=['0.00046860474023534314'], tr_loss: 1.15875244140625, val_acc: 58.60%: 100%|██████████| 71/71 [02:24<00:00,  2.04s/it]  "
     ]
    },
    {
     "name": "stdout",
     "output_type": "stream",
     "text": [
      "epoch_time: 145.10232710838318 seconds\n",
      "\n",
      "\n",
      "EPOCH 27\n"
     ]
    },
    {
     "name": "stderr",
     "output_type": "stream",
     "text": [
      "\n",
      "train: 27-48/71 tr_acc: 61.72%, lr=['0.00043733338321784774'], tr_loss: 0.9913260340690613, val_acc: 58.60%:  69%|██████▉   | 49/71 [01:38<00:44,  2.01s/it]"
     ]
    },
    {
     "name": "stdout",
     "output_type": "stream",
     "text": [
      "27-49 training acc: 64.06%, lr=['0.00043733338321784774'], val_acc: 58.60%\n",
      "iter_one_train_time: 1.9997997283935547 seconds, last one_val_time: 2.6059794425964355 seconds\n",
      "\n"
     ]
    },
    {
     "name": "stderr",
     "output_type": "stream",
     "text": [
      "train: 27-70/71 tr_acc: 70.00%, lr=['0.00043733338321784774'], tr_loss: 1.0488207340240479, val_acc: 54.20%: 100%|██████████| 71/71 [02:25<00:00,  2.04s/it]"
     ]
    },
    {
     "name": "stdout",
     "output_type": "stream",
     "text": [
      "epoch_time: 145.26801109313965 seconds\n",
      "\n",
      "\n",
      "EPOCH 28\n"
     ]
    },
    {
     "name": "stderr",
     "output_type": "stream",
     "text": [
      "\n",
      "train: 28-48/71 tr_acc: 66.41%, lr=['0.00040630934270713756'], tr_loss: 0.9803019762039185, val_acc: 54.20%:  69%|██████▉   | 49/71 [01:39<00:44,  2.01s/it]"
     ]
    },
    {
     "name": "stdout",
     "output_type": "stream",
     "text": [
      "28-49 training acc: 67.97%, lr=['0.00040630934270713756'], val_acc: 54.20%\n",
      "iter_one_train_time: 1.9831957817077637 seconds, last one_val_time: 2.6860718727111816 seconds\n",
      "\n"
     ]
    },
    {
     "name": "stderr",
     "output_type": "stream",
     "text": [
      "train: 28-70/71 tr_acc: 67.50%, lr=['0.00040630934270713756'], tr_loss: 0.8076570630073547, val_acc: 57.70%: 100%|██████████| 71/71 [02:25<00:00,  2.05s/it]"
     ]
    },
    {
     "name": "stdout",
     "output_type": "stream",
     "text": [
      "epoch_time: 145.4780650138855 seconds\n",
      "\n",
      "\n",
      "EPOCH 29\n"
     ]
    },
    {
     "name": "stderr",
     "output_type": "stream",
     "text": [
      "\n",
      "train: 29-48/71 tr_acc: 71.09%, lr=['0.00037565505641757246'], tr_loss: 0.9400460124015808, val_acc: 57.70%:  69%|██████▉   | 49/71 [01:38<00:43,  2.00s/it]"
     ]
    },
    {
     "name": "stdout",
     "output_type": "stream",
     "text": [
      "29-49 training acc: 68.75%, lr=['0.00037565505641757246'], val_acc: 57.70%\n",
      "iter_one_train_time: 1.9913947582244873 seconds, last one_val_time: 2.718688488006592 seconds\n",
      "\n"
     ]
    },
    {
     "name": "stderr",
     "output_type": "stream",
     "text": [
      "train: 29-70/71 tr_acc: 57.50%, lr=['0.00037565505641757246'], tr_loss: 1.32264244556427, val_acc: 59.50%: 100%|██████████| 71/71 [02:25<00:00,  2.04s/it]  "
     ]
    },
    {
     "name": "stdout",
     "output_type": "stream",
     "text": [
      "epoch_time: 145.4091203212738 seconds\n",
      "\n",
      "\n",
      "EPOCH 30\n"
     ]
    },
    {
     "name": "stderr",
     "output_type": "stream",
     "text": [
      "\n",
      "train: 30-48/71 tr_acc: 67.19%, lr=['0.00034549150281252633'], tr_loss: 0.9350285530090332, val_acc: 59.50%:  69%|██████▉   | 49/71 [01:38<00:43,  2.00s/it]"
     ]
    },
    {
     "name": "stdout",
     "output_type": "stream",
     "text": [
      "30-49 training acc: 68.75%, lr=['0.00034549150281252633'], val_acc: 59.50%\n",
      "iter_one_train_time: 2.0078067779541016 seconds, last one_val_time: 2.6360626220703125 seconds\n",
      "\n"
     ]
    },
    {
     "name": "stderr",
     "output_type": "stream",
     "text": [
      "train: 30-70/71 tr_acc: 62.50%, lr=['0.00034549150281252633'], tr_loss: 0.9790545701980591, val_acc: 60.40%: 100%|██████████| 71/71 [02:25<00:00,  2.04s/it]"
     ]
    },
    {
     "name": "stdout",
     "output_type": "stream",
     "text": [
      "epoch_time: 145.29308676719666 seconds\n",
      "\n",
      "\n",
      "EPOCH 31\n"
     ]
    },
    {
     "name": "stderr",
     "output_type": "stream",
     "text": [
      "\n",
      "train: 31-48/71 tr_acc: 67.97%, lr=['0.00031593772365766105'], tr_loss: 1.0286474227905273, val_acc: 60.40%:  69%|██████▉   | 49/71 [01:38<00:43,  1.99s/it]"
     ]
    },
    {
     "name": "stdout",
     "output_type": "stream",
     "text": [
      "31-49 training acc: 71.88%, lr=['0.00031593772365766105'], val_acc: 60.40%\n",
      "iter_one_train_time: 1.9830121994018555 seconds, last one_val_time: 2.729620933532715 seconds\n",
      "\n"
     ]
    },
    {
     "name": "stderr",
     "output_type": "stream",
     "text": [
      "train: 31-70/71 tr_acc: 67.50%, lr=['0.00031593772365766105'], tr_loss: 0.9401804208755493, val_acc: 61.90%: 100%|██████████| 71/71 [02:24<00:00,  2.04s/it]"
     ]
    },
    {
     "name": "stdout",
     "output_type": "stream",
     "text": [
      "epoch_time: 145.0903832912445 seconds\n",
      "\n",
      "\n",
      "EPOCH 32\n"
     ]
    },
    {
     "name": "stderr",
     "output_type": "stream",
     "text": [
      "\n",
      "train: 32-48/71 tr_acc: 79.69%, lr=['0.00028711035421746355'], tr_loss: 0.7790713310241699, val_acc: 61.90%:  69%|██████▉   | 49/71 [01:38<00:44,  2.01s/it]"
     ]
    },
    {
     "name": "stdout",
     "output_type": "stream",
     "text": [
      "32-49 training acc: 69.53%, lr=['0.00028711035421746355'], val_acc: 61.90%\n",
      "iter_one_train_time: 2.006465196609497 seconds, last one_val_time: 2.5581254959106445 seconds\n",
      "\n"
     ]
    },
    {
     "name": "stderr",
     "output_type": "stream",
     "text": [
      "train: 32-70/71 tr_acc: 75.00%, lr=['0.00028711035421746355'], tr_loss: 0.7550753355026245, val_acc: 56.00%: 100%|██████████| 71/71 [02:24<00:00,  2.04s/it]"
     ]
    },
    {
     "name": "stdout",
     "output_type": "stream",
     "text": [
      "epoch_time: 144.91918683052063 seconds\n",
      "\n",
      "\n",
      "EPOCH 33\n"
     ]
    },
    {
     "name": "stderr",
     "output_type": "stream",
     "text": [
      "\n",
      "train: 33-48/71 tr_acc: 75.00%, lr=['0.0002591231629491422'], tr_loss: 0.822575569152832, val_acc: 56.00%:  69%|██████▉   | 49/71 [01:39<00:44,  2.00s/it] "
     ]
    },
    {
     "name": "stdout",
     "output_type": "stream",
     "text": [
      "33-49 training acc: 70.31%, lr=['0.0002591231629491422'], val_acc: 56.00%\n",
      "iter_one_train_time: 2.0033421516418457 seconds, last one_val_time: 2.722147226333618 seconds\n",
      "\n"
     ]
    },
    {
     "name": "stderr",
     "output_type": "stream",
     "text": [
      "train: 33-70/71 tr_acc: 77.50%, lr=['0.0002591231629491422'], tr_loss: 0.7694300413131714, val_acc: 61.00%: 100%|██████████| 71/71 [02:25<00:00,  2.04s/it]"
     ]
    },
    {
     "name": "stdout",
     "output_type": "stream",
     "text": [
      "epoch_time: 145.25886940956116 seconds\n",
      "\n",
      "\n",
      "EPOCH 34\n"
     ]
    },
    {
     "name": "stderr",
     "output_type": "stream",
     "text": [
      "\n",
      "train: 34-48/71 tr_acc: 75.00%, lr=['0.00023208660251050145'], tr_loss: 0.7552279829978943, val_acc: 61.00%:  69%|██████▉   | 49/71 [01:38<00:43,  1.99s/it]"
     ]
    },
    {
     "name": "stdout",
     "output_type": "stream",
     "text": [
      "34-49 training acc: 68.75%, lr=['0.00023208660251050145'], val_acc: 61.00%\n",
      "iter_one_train_time: 2.0097196102142334 seconds, last one_val_time: 2.6767661571502686 seconds\n",
      "\n"
     ]
    },
    {
     "name": "stderr",
     "output_type": "stream",
     "text": [
      "train: 34-70/71 tr_acc: 60.00%, lr=['0.00023208660251050145'], tr_loss: 1.214146375656128, val_acc: 61.60%: 100%|██████████| 71/71 [02:24<00:00,  2.04s/it] "
     ]
    },
    {
     "name": "stdout",
     "output_type": "stream",
     "text": [
      "epoch_time: 144.9245023727417 seconds\n",
      "\n",
      "\n",
      "EPOCH 35\n"
     ]
    },
    {
     "name": "stderr",
     "output_type": "stream",
     "text": [
      "\n",
      "train: 35-48/71 tr_acc: 73.44%, lr=['0.00020610737385376337'], tr_loss: 0.7785349488258362, val_acc: 61.60%:  69%|██████▉   | 49/71 [01:39<00:44,  2.02s/it]"
     ]
    },
    {
     "name": "stdout",
     "output_type": "stream",
     "text": [
      "35-49 training acc: 71.88%, lr=['0.00020610737385376337'], val_acc: 61.60%\n",
      "iter_one_train_time: 2.019118547439575 seconds, last one_val_time: 2.5616965293884277 seconds\n",
      "\n"
     ]
    },
    {
     "name": "stderr",
     "output_type": "stream",
     "text": [
      "train: 35-70/71 tr_acc: 70.00%, lr=['0.00020610737385376337'], tr_loss: 0.9802649617195129, val_acc: 62.60%: 100%|██████████| 71/71 [02:25<00:00,  2.05s/it]"
     ]
    },
    {
     "name": "stdout",
     "output_type": "stream",
     "text": [
      "epoch_time: 146.09138917922974 seconds\n",
      "\n",
      "\n",
      "EPOCH 36\n"
     ]
    },
    {
     "name": "stderr",
     "output_type": "stream",
     "text": [
      "\n",
      "train: 36-48/71 tr_acc: 73.44%, lr=['0.00018128800512565502'], tr_loss: 0.9042380452156067, val_acc: 62.60%:  69%|██████▉   | 49/71 [01:38<00:43,  2.00s/it]"
     ]
    },
    {
     "name": "stdout",
     "output_type": "stream",
     "text": [
      "36-49 training acc: 69.53%, lr=['0.00018128800512565502'], val_acc: 62.60%\n",
      "iter_one_train_time: 2.1455538272857666 seconds, last one_val_time: 2.772020101547241 seconds\n",
      "\n"
     ]
    },
    {
     "name": "stderr",
     "output_type": "stream",
     "text": [
      "train: 36-70/71 tr_acc: 55.00%, lr=['0.00018128800512565502'], tr_loss: 1.254088044166565, val_acc: 61.80%: 100%|██████████| 71/71 [02:24<00:00,  2.04s/it] "
     ]
    },
    {
     "name": "stdout",
     "output_type": "stream",
     "text": [
      "epoch_time: 145.00554060935974 seconds\n",
      "\n",
      "\n",
      "EPOCH 37\n"
     ]
    },
    {
     "name": "stderr",
     "output_type": "stream",
     "text": [
      "\n",
      "train: 37-48/71 tr_acc: 64.06%, lr=['0.00015772644703565555'], tr_loss: 1.0154024362564087, val_acc: 61.80%:  69%|██████▉   | 49/71 [01:38<00:43,  1.99s/it]"
     ]
    },
    {
     "name": "stdout",
     "output_type": "stream",
     "text": [
      "37-49 training acc: 67.97%, lr=['0.00015772644703565555'], val_acc: 61.80%\n",
      "iter_one_train_time: 2.001044273376465 seconds, last one_val_time: 2.6703414916992188 seconds\n",
      "\n"
     ]
    },
    {
     "name": "stderr",
     "output_type": "stream",
     "text": [
      "train: 37-70/71 tr_acc: 65.00%, lr=['0.00015772644703565555'], tr_loss: 0.8743258714675903, val_acc: 62.10%: 100%|██████████| 71/71 [02:24<00:00,  2.04s/it]"
     ]
    },
    {
     "name": "stdout",
     "output_type": "stream",
     "text": [
      "epoch_time: 144.94130945205688 seconds\n",
      "\n",
      "\n",
      "EPOCH 38\n"
     ]
    },
    {
     "name": "stderr",
     "output_type": "stream",
     "text": [
      "\n",
      "train: 38-48/71 tr_acc: 75.78%, lr=['0.00013551568628929425'], tr_loss: 0.75920569896698, val_acc: 62.10%:  69%|██████▉   | 49/71 [01:38<00:44,  2.02s/it]  "
     ]
    },
    {
     "name": "stdout",
     "output_type": "stream",
     "text": [
      "38-49 training acc: 78.91%, lr=['0.00013551568628929425'], val_acc: 62.10%\n",
      "iter_one_train_time: 1.9875640869140625 seconds, last one_val_time: 2.6110916137695312 seconds\n",
      "\n"
     ]
    },
    {
     "name": "stderr",
     "output_type": "stream",
     "text": [
      "train: 38-70/71 tr_acc: 72.50%, lr=['0.00013551568628929425'], tr_loss: 0.767470121383667, val_acc: 58.90%: 100%|██████████| 71/71 [02:25<00:00,  2.04s/it] "
     ]
    },
    {
     "name": "stdout",
     "output_type": "stream",
     "text": [
      "epoch_time: 145.26738333702087 seconds\n",
      "\n",
      "\n",
      "EPOCH 39\n"
     ]
    },
    {
     "name": "stderr",
     "output_type": "stream",
     "text": [
      "\n",
      "train: 39-48/71 tr_acc: 75.00%, lr=['0.00011474337861210535'], tr_loss: 0.7367382645606995, val_acc: 58.90%:  69%|██████▉   | 49/71 [01:38<00:44,  2.00s/it]"
     ]
    },
    {
     "name": "stdout",
     "output_type": "stream",
     "text": [
      "39-49 training acc: 70.31%, lr=['0.00011474337861210535'], val_acc: 58.90%\n",
      "iter_one_train_time: 1.9978687763214111 seconds, last one_val_time: 2.669654607772827 seconds\n",
      "\n"
     ]
    },
    {
     "name": "stderr",
     "output_type": "stream",
     "text": [
      "train: 39-70/71 tr_acc: 72.50%, lr=['0.00011474337861210535'], tr_loss: 0.7749637961387634, val_acc: 60.20%: 100%|██████████| 71/71 [02:24<00:00,  2.04s/it]"
     ]
    },
    {
     "name": "stdout",
     "output_type": "stream",
     "text": [
      "epoch_time: 144.82768511772156 seconds\n",
      "\n",
      "\n",
      "EPOCH 40\n"
     ]
    },
    {
     "name": "stderr",
     "output_type": "stream",
     "text": [
      "\n",
      "train: 40-48/71 tr_acc: 73.44%, lr=['9.549150281252626e-05'], tr_loss: 0.8458011150360107, val_acc: 60.20%:  69%|██████▉   | 49/71 [01:38<00:44,  2.03s/it]"
     ]
    },
    {
     "name": "stdout",
     "output_type": "stream",
     "text": [
      "40-49 training acc: 65.62%, lr=['9.549150281252626e-05'], val_acc: 60.20%\n",
      "iter_one_train_time: 1.9778356552124023 seconds, last one_val_time: 2.7087862491607666 seconds\n",
      "\n"
     ]
    },
    {
     "name": "stderr",
     "output_type": "stream",
     "text": [
      "train: 40-70/71 tr_acc: 72.50%, lr=['9.549150281252626e-05'], tr_loss: 0.8094429969787598, val_acc: 62.10%: 100%|██████████| 71/71 [02:25<00:00,  2.04s/it]"
     ]
    },
    {
     "name": "stdout",
     "output_type": "stream",
     "text": [
      "epoch_time: 145.33463621139526 seconds\n",
      "\n",
      "\n",
      "EPOCH 41\n"
     ]
    },
    {
     "name": "stderr",
     "output_type": "stream",
     "text": [
      "\n",
      "train: 41-48/71 tr_acc: 67.97%, lr=['7.783603724899252e-05'], tr_loss: 0.8790481686592102, val_acc: 62.10%:  69%|██████▉   | 49/71 [01:38<00:44,  2.00s/it]"
     ]
    },
    {
     "name": "stdout",
     "output_type": "stream",
     "text": [
      "41-49 training acc: 76.56%, lr=['7.783603724899252e-05'], val_acc: 62.10%\n",
      "iter_one_train_time: 1.9830608367919922 seconds, last one_val_time: 2.730215072631836 seconds\n",
      "\n"
     ]
    },
    {
     "name": "stderr",
     "output_type": "stream",
     "text": [
      "train: 41-70/71 tr_acc: 62.50%, lr=['7.783603724899252e-05'], tr_loss: 1.0404469966888428, val_acc: 63.40%: 100%|██████████| 71/71 [02:25<00:00,  2.04s/it]"
     ]
    },
    {
     "name": "stdout",
     "output_type": "stream",
     "text": [
      "epoch_time: 145.39651489257812 seconds\n",
      "\n",
      "\n",
      "EPOCH 42\n"
     ]
    },
    {
     "name": "stderr",
     "output_type": "stream",
     "text": [
      "\n",
      "train: 42-48/71 tr_acc: 71.09%, lr=['6.184665997806817e-05'], tr_loss: 0.8570399284362793, val_acc: 63.40%:  69%|██████▉   | 49/71 [01:38<00:44,  2.00s/it]"
     ]
    },
    {
     "name": "stdout",
     "output_type": "stream",
     "text": [
      "42-49 training acc: 77.34%, lr=['6.184665997806817e-05'], val_acc: 63.40%\n",
      "iter_one_train_time: 2.088015079498291 seconds, last one_val_time: 2.7507400512695312 seconds\n",
      "\n"
     ]
    },
    {
     "name": "stderr",
     "output_type": "stream",
     "text": [
      "train: 42-70/71 tr_acc: 72.50%, lr=['6.184665997806817e-05'], tr_loss: 0.8476904034614563, val_acc: 62.80%: 100%|██████████| 71/71 [02:24<00:00,  2.04s/it]"
     ]
    },
    {
     "name": "stdout",
     "output_type": "stream",
     "text": [
      "epoch_time: 145.03610372543335 seconds\n",
      "\n",
      "\n",
      "EPOCH 43\n"
     ]
    },
    {
     "name": "stderr",
     "output_type": "stream",
     "text": [
      "\n",
      "train: 43-48/71 tr_acc: 73.44%, lr=['4.7586473766990294e-05'], tr_loss: 0.8283277153968811, val_acc: 62.80%:  69%|██████▉   | 49/71 [01:38<00:44,  2.01s/it]"
     ]
    },
    {
     "name": "stdout",
     "output_type": "stream",
     "text": [
      "43-49 training acc: 71.88%, lr=['4.7586473766990294e-05'], val_acc: 62.80%\n",
      "iter_one_train_time: 2.015646457672119 seconds, last one_val_time: 2.6918201446533203 seconds\n",
      "\n"
     ]
    },
    {
     "name": "stderr",
     "output_type": "stream",
     "text": [
      "train: 43-70/71 tr_acc: 70.00%, lr=['4.7586473766990294e-05'], tr_loss: 0.970421314239502, val_acc: 62.70%: 100%|██████████| 71/71 [02:25<00:00,  2.04s/it] "
     ]
    },
    {
     "name": "stdout",
     "output_type": "stream",
     "text": [
      "epoch_time: 145.24200201034546 seconds\n",
      "\n",
      "\n",
      "EPOCH 44\n"
     ]
    },
    {
     "name": "stderr",
     "output_type": "stream",
     "text": [
      "\n",
      "train: 44-48/71 tr_acc: 78.12%, lr=['3.5111757055874305e-05'], tr_loss: 0.6639152765274048, val_acc: 62.70%:  69%|██████▉   | 49/71 [01:38<00:44,  2.00s/it]"
     ]
    },
    {
     "name": "stdout",
     "output_type": "stream",
     "text": [
      "44-49 training acc: 70.31%, lr=['3.5111757055874305e-05'], val_acc: 62.70%\n",
      "iter_one_train_time: 1.9778552055358887 seconds, last one_val_time: 2.6151676177978516 seconds\n",
      "\n"
     ]
    },
    {
     "name": "stderr",
     "output_type": "stream",
     "text": [
      "train: 44-70/71 tr_acc: 57.50%, lr=['3.5111757055874305e-05'], tr_loss: 1.1726264953613281, val_acc: 64.00%: 100%|██████████| 71/71 [02:24<00:00,  2.03s/it]"
     ]
    },
    {
     "name": "stdout",
     "output_type": "stream",
     "text": [
      "epoch_time: 144.71469593048096 seconds\n",
      "\n",
      "\n",
      "EPOCH 45\n"
     ]
    },
    {
     "name": "stderr",
     "output_type": "stream",
     "text": [
      "\n",
      "train: 45-48/71 tr_acc: 72.66%, lr=['2.4471741852423218e-05'], tr_loss: 0.7700079083442688, val_acc: 64.00%:  69%|██████▉   | 49/71 [01:38<00:43,  2.00s/it]"
     ]
    },
    {
     "name": "stdout",
     "output_type": "stream",
     "text": [
      "45-49 training acc: 69.53%, lr=['2.4471741852423218e-05'], val_acc: 64.00%\n",
      "iter_one_train_time: 2.0024120807647705 seconds, last one_val_time: 2.755387544631958 seconds\n",
      "\n"
     ]
    },
    {
     "name": "stderr",
     "output_type": "stream",
     "text": [
      "train: 45-70/71 tr_acc: 77.50%, lr=['2.4471741852423218e-05'], tr_loss: 0.8823774456977844, val_acc: 61.40%: 100%|██████████| 71/71 [02:24<00:00,  2.03s/it]"
     ]
    },
    {
     "name": "stdout",
     "output_type": "stream",
     "text": [
      "epoch_time: 144.5211100578308 seconds\n",
      "\n",
      "\n",
      "EPOCH 46\n"
     ]
    },
    {
     "name": "stderr",
     "output_type": "stream",
     "text": [
      "\n",
      "train: 46-48/71 tr_acc: 73.44%, lr=['1.5708419435684507e-05'], tr_loss: 0.8500802516937256, val_acc: 61.40%:  69%|██████▉   | 49/71 [01:38<00:44,  2.00s/it]"
     ]
    },
    {
     "name": "stdout",
     "output_type": "stream",
     "text": [
      "46-49 training acc: 70.31%, lr=['1.5708419435684507e-05'], val_acc: 61.40%\n",
      "iter_one_train_time: 2.1613075733184814 seconds, last one_val_time: 2.813744068145752 seconds\n",
      "\n"
     ]
    },
    {
     "name": "stderr",
     "output_type": "stream",
     "text": [
      "train: 46-70/71 tr_acc: 62.50%, lr=['1.5708419435684507e-05'], tr_loss: 0.9218887090682983, val_acc: 63.40%: 100%|██████████| 71/71 [02:24<00:00,  2.04s/it]"
     ]
    },
    {
     "name": "stdout",
     "output_type": "stream",
     "text": [
      "epoch_time: 145.17450213432312 seconds\n",
      "\n",
      "\n",
      "EPOCH 47\n"
     ]
    },
    {
     "name": "stderr",
     "output_type": "stream",
     "text": [
      "\n",
      "train: 47-48/71 tr_acc: 75.78%, lr=['8.856374635655634e-06'], tr_loss: 0.7694046497344971, val_acc: 63.40%:  69%|██████▉   | 49/71 [01:38<00:43,  2.00s/it]"
     ]
    },
    {
     "name": "stdout",
     "output_type": "stream",
     "text": [
      "47-49 training acc: 75.00%, lr=['8.856374635655634e-06'], val_acc: 63.40%\n",
      "iter_one_train_time: 1.9849035739898682 seconds, last one_val_time: 2.6919286251068115 seconds\n",
      "\n"
     ]
    },
    {
     "name": "stderr",
     "output_type": "stream",
     "text": [
      "train: 47-70/71 tr_acc: 75.00%, lr=['8.856374635655634e-06'], tr_loss: 0.8755253553390503, val_acc: 61.90%: 100%|██████████| 71/71 [02:24<00:00,  2.03s/it]"
     ]
    },
    {
     "name": "stdout",
     "output_type": "stream",
     "text": [
      "epoch_time: 144.59986114501953 seconds\n",
      "\n",
      "\n",
      "EPOCH 48\n"
     ]
    },
    {
     "name": "stderr",
     "output_type": "stream",
     "text": [
      "\n",
      "train: 48-48/71 tr_acc: 73.44%, lr=['3.942649342761115e-06'], tr_loss: 0.7962661385536194, val_acc: 61.90%:  69%|██████▉   | 49/71 [01:38<00:44,  2.01s/it]"
     ]
    },
    {
     "name": "stdout",
     "output_type": "stream",
     "text": [
      "48-49 training acc: 69.53%, lr=['3.942649342761115e-06'], val_acc: 61.90%\n",
      "iter_one_train_time: 2.003357410430908 seconds, last one_val_time: 2.6933698654174805 seconds\n",
      "\n"
     ]
    },
    {
     "name": "stderr",
     "output_type": "stream",
     "text": [
      "train: 48-70/71 tr_acc: 75.00%, lr=['3.942649342761115e-06'], tr_loss: 0.8054901361465454, val_acc: 63.10%: 100%|██████████| 71/71 [02:24<00:00,  2.04s/it]"
     ]
    },
    {
     "name": "stdout",
     "output_type": "stream",
     "text": [
      "epoch_time: 145.2989399433136 seconds\n",
      "\n",
      "\n",
      "EPOCH 49\n"
     ]
    },
    {
     "name": "stderr",
     "output_type": "stream",
     "text": [
      "\n",
      "train: 49-48/71 tr_acc: 74.22%, lr=['9.866357858642198e-07'], tr_loss: 0.8775293827056885, val_acc: 63.10%:  69%|██████▉   | 49/71 [01:38<00:43,  2.00s/it]"
     ]
    },
    {
     "name": "stdout",
     "output_type": "stream",
     "text": [
      "49-49 training acc: 75.00%, lr=['9.866357858642198e-07'], val_acc: 63.10%\n",
      "iter_one_train_time: 2.089500665664673 seconds, last one_val_time: 2.832113265991211 seconds\n",
      "\n"
     ]
    },
    {
     "name": "stderr",
     "output_type": "stream",
     "text": [
      "train: 49-70/71 tr_acc: 55.00%, lr=['9.866357858642198e-07'], tr_loss: 1.0443261861801147, val_acc: 63.10%: 100%|██████████| 71/71 [02:24<00:00,  2.03s/it]"
     ]
    },
    {
     "name": "stdout",
     "output_type": "stream",
     "text": [
      "epoch_time: 144.70225143432617 seconds\n",
      "\n",
      "\n",
      "EPOCH 50\n"
     ]
    },
    {
     "name": "stderr",
     "output_type": "stream",
     "text": [
      "\n",
      "train: 50-48/71 tr_acc: 80.47%, lr=['0.0'], tr_loss: 0.6658337116241455, val_acc: 63.10%:  69%|██████▉   | 49/71 [01:38<00:43,  1.99s/it]"
     ]
    },
    {
     "name": "stdout",
     "output_type": "stream",
     "text": [
      "50-49 training acc: 72.66%, lr=['0.0'], val_acc: 63.10%\n",
      "iter_one_train_time: 2.0039873123168945 seconds, last one_val_time: 2.7544686794281006 seconds\n",
      "\n"
     ]
    },
    {
     "name": "stderr",
     "output_type": "stream",
     "text": [
      "train: 50-70/71 tr_acc: 75.00%, lr=['0.0'], tr_loss: 0.8739277124404907, val_acc: 62.70%: 100%|██████████| 71/71 [02:24<00:00,  2.03s/it]"
     ]
    },
    {
     "name": "stdout",
     "output_type": "stream",
     "text": [
      "epoch_time: 144.45161604881287 seconds\n",
      "\n",
      "\n",
      "EPOCH 51\n"
     ]
    },
    {
     "name": "stderr",
     "output_type": "stream",
     "text": [
      "\n",
      "train: 51-48/71 tr_acc: 70.31%, lr=['9.866357858642206e-07'], tr_loss: 0.8513821959495544, val_acc: 62.70%:  69%|██████▉   | 49/71 [01:38<00:43,  2.00s/it]"
     ]
    },
    {
     "name": "stdout",
     "output_type": "stream",
     "text": [
      "51-49 training acc: 74.22%, lr=['9.866357858642206e-07'], val_acc: 62.70%\n",
      "iter_one_train_time: 1.984673261642456 seconds, last one_val_time: 2.6661384105682373 seconds\n",
      "\n"
     ]
    },
    {
     "name": "stderr",
     "output_type": "stream",
     "text": [
      "train: 51-70/71 tr_acc: 75.00%, lr=['9.866357858642206e-07'], tr_loss: 0.7867986559867859, val_acc: 62.30%: 100%|██████████| 71/71 [02:24<00:00,  2.03s/it]"
     ]
    },
    {
     "name": "stdout",
     "output_type": "stream",
     "text": [
      "epoch_time: 144.70124220848083 seconds\n",
      "\n",
      "\n",
      "EPOCH 52\n"
     ]
    },
    {
     "name": "stderr",
     "output_type": "stream",
     "text": [
      "\n",
      "train: 52-48/71 tr_acc: 70.31%, lr=['3.942649342761062e-06'], tr_loss: 0.846163272857666, val_acc: 62.30%:  69%|██████▉   | 49/71 [01:38<00:43,  2.00s/it] "
     ]
    },
    {
     "name": "stdout",
     "output_type": "stream",
     "text": [
      "52-49 training acc: 70.31%, lr=['3.942649342761062e-06'], val_acc: 62.30%\n",
      "iter_one_train_time: 1.971475601196289 seconds, last one_val_time: 2.70757794380188 seconds\n",
      "\n"
     ]
    },
    {
     "name": "stderr",
     "output_type": "stream",
     "text": [
      "train: 52-70/71 tr_acc: 72.50%, lr=['3.942649342761062e-06'], tr_loss: 0.8376222848892212, val_acc: 62.90%: 100%|██████████| 71/71 [02:24<00:00,  2.03s/it]"
     ]
    },
    {
     "name": "stdout",
     "output_type": "stream",
     "text": [
      "epoch_time: 144.709290266037 seconds\n",
      "\n",
      "\n",
      "EPOCH 53\n"
     ]
    },
    {
     "name": "stderr",
     "output_type": "stream",
     "text": [
      "\n",
      "train: 53-48/71 tr_acc: 78.12%, lr=['8.856374635655695e-06'], tr_loss: 0.6216997504234314, val_acc: 62.90%:  69%|██████▉   | 49/71 [01:38<00:44,  2.00s/it]"
     ]
    },
    {
     "name": "stdout",
     "output_type": "stream",
     "text": [
      "53-49 training acc: 69.53%, lr=['8.856374635655695e-06'], val_acc: 62.90%\n",
      "iter_one_train_time: 2.094681739807129 seconds, last one_val_time: 2.8843626976013184 seconds\n",
      "\n"
     ]
    },
    {
     "name": "stderr",
     "output_type": "stream",
     "text": [
      "train: 53-70/71 tr_acc: 77.50%, lr=['8.856374635655695e-06'], tr_loss: 0.7108386754989624, val_acc: 62.40%: 100%|██████████| 71/71 [02:24<00:00,  2.04s/it]"
     ]
    },
    {
     "name": "stdout",
     "output_type": "stream",
     "text": [
      "epoch_time: 145.1497311592102 seconds\n",
      "\n",
      "\n",
      "EPOCH 54\n"
     ]
    },
    {
     "name": "stderr",
     "output_type": "stream",
     "text": [
      "\n",
      "train: 54-48/71 tr_acc: 74.22%, lr=['1.5708419435684406e-05'], tr_loss: 0.7712549567222595, val_acc: 62.40%:  69%|██████▉   | 49/71 [01:38<00:44,  2.02s/it]"
     ]
    },
    {
     "name": "stdout",
     "output_type": "stream",
     "text": [
      "54-49 training acc: 67.19%, lr=['1.5708419435684406e-05'], val_acc: 62.40%\n",
      "iter_one_train_time: 1.9838871955871582 seconds, last one_val_time: 2.6600606441497803 seconds\n",
      "\n"
     ]
    },
    {
     "name": "stderr",
     "output_type": "stream",
     "text": [
      "train: 54-70/71 tr_acc: 75.00%, lr=['1.5708419435684406e-05'], tr_loss: 0.8036173582077026, val_acc: 63.70%: 100%|██████████| 71/71 [02:24<00:00,  2.04s/it]"
     ]
    },
    {
     "name": "stdout",
     "output_type": "stream",
     "text": [
      "epoch_time: 145.0462145805359 seconds\n",
      "\n",
      "\n",
      "EPOCH 55\n"
     ]
    },
    {
     "name": "stderr",
     "output_type": "stream",
     "text": [
      "\n",
      "train: 55-48/71 tr_acc: 72.66%, lr=['2.4471741852423177e-05'], tr_loss: 0.805022656917572, val_acc: 63.70%:  69%|██████▉   | 49/71 [01:38<00:43,  1.99s/it] "
     ]
    },
    {
     "name": "stdout",
     "output_type": "stream",
     "text": [
      "55-49 training acc: 70.31%, lr=['2.4471741852423177e-05'], val_acc: 63.70%\n",
      "iter_one_train_time: 2.009042501449585 seconds, last one_val_time: 2.706996202468872 seconds\n",
      "\n"
     ]
    },
    {
     "name": "stderr",
     "output_type": "stream",
     "text": [
      "train: 55-70/71 tr_acc: 65.00%, lr=['2.4471741852423177e-05'], tr_loss: 1.0739893913269043, val_acc: 62.50%: 100%|██████████| 71/71 [02:24<00:00,  2.03s/it]"
     ]
    },
    {
     "name": "stdout",
     "output_type": "stream",
     "text": [
      "epoch_time: 144.52748036384583 seconds\n",
      "\n",
      "\n",
      "EPOCH 56\n"
     ]
    },
    {
     "name": "stderr",
     "output_type": "stream",
     "text": [
      "\n",
      "train: 56-48/71 tr_acc: 73.44%, lr=['3.5111757055874265e-05'], tr_loss: 0.8089058995246887, val_acc: 62.50%:  69%|██████▉   | 49/71 [01:38<00:43,  2.00s/it]"
     ]
    },
    {
     "name": "stdout",
     "output_type": "stream",
     "text": [
      "56-49 training acc: 69.53%, lr=['3.5111757055874265e-05'], val_acc: 62.50%\n",
      "iter_one_train_time: 1.9886367321014404 seconds, last one_val_time: 2.7934329509735107 seconds\n",
      "\n"
     ]
    },
    {
     "name": "stderr",
     "output_type": "stream",
     "text": [
      "train: 56-70/71 tr_acc: 77.50%, lr=['3.5111757055874265e-05'], tr_loss: 0.6844760179519653, val_acc: 63.30%: 100%|██████████| 71/71 [02:24<00:00,  2.04s/it]"
     ]
    },
    {
     "name": "stdout",
     "output_type": "stream",
     "text": [
      "epoch_time: 144.77874398231506 seconds\n",
      "\n",
      "\n",
      "EPOCH 57\n"
     ]
    },
    {
     "name": "stderr",
     "output_type": "stream",
     "text": [
      "\n",
      "train: 57-48/71 tr_acc: 76.56%, lr=['4.7586473766990145e-05'], tr_loss: 0.8165985941886902, val_acc: 63.30%:  69%|██████▉   | 49/71 [01:38<00:43,  1.99s/it]"
     ]
    },
    {
     "name": "stdout",
     "output_type": "stream",
     "text": [
      "57-49 training acc: 67.19%, lr=['4.7586473766990145e-05'], val_acc: 63.30%\n",
      "iter_one_train_time: 1.978733777999878 seconds, last one_val_time: 2.756740093231201 seconds\n",
      "\n"
     ]
    },
    {
     "name": "stderr",
     "output_type": "stream",
     "text": [
      "train: 57-70/71 tr_acc: 55.00%, lr=['4.7586473766990145e-05'], tr_loss: 1.3257132768630981, val_acc: 63.20%: 100%|██████████| 71/71 [02:24<00:00,  2.03s/it]"
     ]
    },
    {
     "name": "stdout",
     "output_type": "stream",
     "text": [
      "epoch_time: 144.59130096435547 seconds\n",
      "\n",
      "\n",
      "EPOCH 58\n"
     ]
    },
    {
     "name": "stderr",
     "output_type": "stream",
     "text": [
      "\n",
      "train: 58-48/71 tr_acc: 70.31%, lr=['6.184665997806825e-05'], tr_loss: 0.823249101638794, val_acc: 63.20%:  69%|██████▉   | 49/71 [01:38<00:44,  2.01s/it] "
     ]
    },
    {
     "name": "stdout",
     "output_type": "stream",
     "text": [
      "58-49 training acc: 77.34%, lr=['6.184665997806825e-05'], val_acc: 63.20%\n",
      "iter_one_train_time: 1.9997692108154297 seconds, last one_val_time: 2.699709415435791 seconds\n",
      "\n"
     ]
    },
    {
     "name": "stderr",
     "output_type": "stream",
     "text": [
      "train: 58-70/71 tr_acc: 52.50%, lr=['6.184665997806825e-05'], tr_loss: 1.0782378911972046, val_acc: 62.20%: 100%|██████████| 71/71 [02:24<00:00,  2.04s/it]"
     ]
    },
    {
     "name": "stdout",
     "output_type": "stream",
     "text": [
      "epoch_time: 145.2028591632843 seconds\n",
      "\n",
      "\n",
      "EPOCH 59\n"
     ]
    },
    {
     "name": "stderr",
     "output_type": "stream",
     "text": [
      "\n",
      "train: 59-48/71 tr_acc: 71.88%, lr=['7.78360372489924e-05'], tr_loss: 0.9226226210594177, val_acc: 62.20%:  69%|██████▉   | 49/71 [01:38<00:43,  1.99s/it]"
     ]
    },
    {
     "name": "stdout",
     "output_type": "stream",
     "text": [
      "59-49 training acc: 72.66%, lr=['7.78360372489924e-05'], val_acc: 62.20%\n",
      "iter_one_train_time: 2.0644614696502686 seconds, last one_val_time: 2.8936896324157715 seconds\n",
      "\n"
     ]
    },
    {
     "name": "stderr",
     "output_type": "stream",
     "text": [
      "train: 59-70/71 tr_acc: 60.00%, lr=['7.78360372489924e-05'], tr_loss: 1.0470994710922241, val_acc: 61.30%: 100%|██████████| 71/71 [02:24<00:00,  2.03s/it]"
     ]
    },
    {
     "name": "stdout",
     "output_type": "stream",
     "text": [
      "epoch_time: 144.75880908966064 seconds\n",
      "\n",
      "\n",
      "EPOCH 60\n"
     ]
    },
    {
     "name": "stderr",
     "output_type": "stream",
     "text": [
      "\n",
      "train: 60-48/71 tr_acc: 75.00%, lr=['9.54915028125261e-05'], tr_loss: 0.7382291555404663, val_acc: 61.30%:  69%|██████▉   | 49/71 [01:38<00:43,  1.98s/it]"
     ]
    },
    {
     "name": "stdout",
     "output_type": "stream",
     "text": [
      "60-49 training acc: 71.09%, lr=['9.54915028125261e-05'], val_acc: 61.30%\n",
      "iter_one_train_time: 1.977696180343628 seconds, last one_val_time: 2.658895492553711 seconds\n",
      "\n"
     ]
    },
    {
     "name": "stderr",
     "output_type": "stream",
     "text": [
      "train: 60-70/71 tr_acc: 70.00%, lr=['9.54915028125261e-05'], tr_loss: 0.8824949264526367, val_acc: 61.20%: 100%|██████████| 71/71 [02:24<00:00,  2.03s/it]"
     ]
    },
    {
     "name": "stdout",
     "output_type": "stream",
     "text": [
      "epoch_time: 144.3675503730774 seconds\n",
      "\n",
      "\n",
      "EPOCH 61\n"
     ]
    },
    {
     "name": "stderr",
     "output_type": "stream",
     "text": [
      "\n",
      "train: 61-48/71 tr_acc: 71.09%, lr=['0.00011474337861210537'], tr_loss: 0.9384656548500061, val_acc: 61.20%:  69%|██████▉   | 49/71 [01:38<00:44,  2.02s/it]"
     ]
    },
    {
     "name": "stdout",
     "output_type": "stream",
     "text": [
      "61-49 training acc: 70.31%, lr=['0.00011474337861210537'], val_acc: 61.20%\n",
      "iter_one_train_time: 1.9835264682769775 seconds, last one_val_time: 2.685518980026245 seconds\n",
      "\n"
     ]
    },
    {
     "name": "stderr",
     "output_type": "stream",
     "text": [
      "train: 61-70/71 tr_acc: 70.00%, lr=['0.00011474337861210537'], tr_loss: 0.8730272054672241, val_acc: 63.10%: 100%|██████████| 71/71 [02:24<00:00,  2.04s/it]"
     ]
    },
    {
     "name": "stdout",
     "output_type": "stream",
     "text": [
      "epoch_time: 145.0283670425415 seconds\n",
      "\n",
      "\n",
      "EPOCH 62\n"
     ]
    },
    {
     "name": "stderr",
     "output_type": "stream",
     "text": [
      "\n",
      "train: 62-48/71 tr_acc: 72.66%, lr=['0.0001355156862892941'], tr_loss: 0.8505716323852539, val_acc: 63.10%:  69%|██████▉   | 49/71 [01:38<00:43,  1.99s/it]"
     ]
    },
    {
     "name": "stdout",
     "output_type": "stream",
     "text": [
      "62-49 training acc: 70.31%, lr=['0.0001355156862892941'], val_acc: 63.10%\n",
      "iter_one_train_time: 1.9877448081970215 seconds, last one_val_time: 2.692565679550171 seconds\n",
      "\n"
     ]
    },
    {
     "name": "stderr",
     "output_type": "stream",
     "text": [
      "train: 62-70/71 tr_acc: 57.50%, lr=['0.0001355156862892941'], tr_loss: 1.1024850606918335, val_acc: 61.90%: 100%|██████████| 71/71 [02:24<00:00,  2.04s/it]"
     ]
    },
    {
     "name": "stdout",
     "output_type": "stream",
     "text": [
      "epoch_time: 144.85582184791565 seconds\n",
      "\n",
      "\n",
      "EPOCH 63\n"
     ]
    },
    {
     "name": "stderr",
     "output_type": "stream",
     "text": [
      "\n",
      "train: 63-48/71 tr_acc: 75.00%, lr=['0.00015772644703565566'], tr_loss: 0.876824140548706, val_acc: 61.90%:  69%|██████▉   | 49/71 [01:38<00:43,  2.00s/it] "
     ]
    },
    {
     "name": "stdout",
     "output_type": "stream",
     "text": [
      "63-49 training acc: 71.88%, lr=['0.00015772644703565566'], val_acc: 61.90%\n",
      "iter_one_train_time: 2.1077210903167725 seconds, last one_val_time: 2.77413272857666 seconds\n",
      "\n"
     ]
    },
    {
     "name": "stderr",
     "output_type": "stream",
     "text": [
      "train: 63-70/71 tr_acc: 57.50%, lr=['0.00015772644703565566'], tr_loss: 1.04573655128479, val_acc: 62.20%: 100%|██████████| 71/71 [02:25<00:00,  2.04s/it]  "
     ]
    },
    {
     "name": "stdout",
     "output_type": "stream",
     "text": [
      "epoch_time: 145.39210152626038 seconds\n",
      "\n",
      "\n",
      "EPOCH 64\n"
     ]
    },
    {
     "name": "stderr",
     "output_type": "stream",
     "text": [
      "\n",
      "train: 64-48/71 tr_acc: 70.31%, lr=['0.00018128800512565518'], tr_loss: 0.8136576414108276, val_acc: 62.20%:  69%|██████▉   | 49/71 [01:38<00:43,  1.99s/it]"
     ]
    },
    {
     "name": "stdout",
     "output_type": "stream",
     "text": [
      "64-49 training acc: 67.97%, lr=['0.00018128800512565518'], val_acc: 62.20%\n",
      "iter_one_train_time: 1.9780993461608887 seconds, last one_val_time: 2.7415544986724854 seconds\n",
      "\n"
     ]
    },
    {
     "name": "stderr",
     "output_type": "stream",
     "text": [
      "train: 64-70/71 tr_acc: 72.50%, lr=['0.00018128800512565518'], tr_loss: 0.7628313899040222, val_acc: 61.00%: 100%|██████████| 71/71 [02:24<00:00,  2.04s/it]"
     ]
    },
    {
     "name": "stdout",
     "output_type": "stream",
     "text": [
      "epoch_time: 144.78810238838196 seconds\n",
      "\n",
      "\n",
      "EPOCH 65\n"
     ]
    },
    {
     "name": "stderr",
     "output_type": "stream",
     "text": [
      "\n",
      "train: 65-48/71 tr_acc: 74.22%, lr=['0.00020610737385376332'], tr_loss: 0.8637372255325317, val_acc: 61.00%:  69%|██████▉   | 49/71 [01:38<00:44,  2.00s/it]"
     ]
    },
    {
     "name": "stdout",
     "output_type": "stream",
     "text": [
      "65-49 training acc: 69.53%, lr=['0.00020610737385376332'], val_acc: 61.00%\n",
      "iter_one_train_time: 1.9890332221984863 seconds, last one_val_time: 2.7048091888427734 seconds\n",
      "\n"
     ]
    },
    {
     "name": "stderr",
     "output_type": "stream",
     "text": [
      "train: 65-70/71 tr_acc: 67.50%, lr=['0.00020610737385376332'], tr_loss: 0.9258373975753784, val_acc: 62.90%: 100%|██████████| 71/71 [02:24<00:00,  2.04s/it]"
     ]
    },
    {
     "name": "stdout",
     "output_type": "stream",
     "text": [
      "epoch_time: 145.0694124698639 seconds\n",
      "\n",
      "\n",
      "EPOCH 66\n"
     ]
    },
    {
     "name": "stderr",
     "output_type": "stream",
     "text": [
      "\n",
      "train: 66-48/71 tr_acc: 67.97%, lr=['0.00023208660251050178'], tr_loss: 0.9046169519424438, val_acc: 62.90%:  69%|██████▉   | 49/71 [01:38<00:43,  1.99s/it]"
     ]
    },
    {
     "name": "stdout",
     "output_type": "stream",
     "text": [
      "66-49 training acc: 70.31%, lr=['0.00023208660251050178'], val_acc: 62.90%\n",
      "iter_one_train_time: 2.0789313316345215 seconds, last one_val_time: 2.8776912689208984 seconds\n",
      "\n"
     ]
    },
    {
     "name": "stderr",
     "output_type": "stream",
     "text": [
      "train: 66-70/71 tr_acc: 77.50%, lr=['0.00023208660251050178'], tr_loss: 0.7581791877746582, val_acc: 61.50%: 100%|██████████| 71/71 [02:24<00:00,  2.04s/it]"
     ]
    },
    {
     "name": "stdout",
     "output_type": "stream",
     "text": [
      "epoch_time: 144.81654119491577 seconds\n",
      "\n",
      "\n",
      "EPOCH 67\n"
     ]
    },
    {
     "name": "stderr",
     "output_type": "stream",
     "text": [
      "\n",
      "train: 67-48/71 tr_acc: 70.31%, lr=['0.00025912316294914234'], tr_loss: 0.8930809497833252, val_acc: 61.50%:  69%|██████▉   | 49/71 [01:38<00:43,  2.00s/it]"
     ]
    },
    {
     "name": "stdout",
     "output_type": "stream",
     "text": [
      "67-49 training acc: 77.34%, lr=['0.00025912316294914234'], val_acc: 61.50%\n",
      "iter_one_train_time: 1.9909071922302246 seconds, last one_val_time: 2.663273572921753 seconds\n",
      "\n"
     ]
    },
    {
     "name": "stderr",
     "output_type": "stream",
     "text": [
      "train: 67-70/71 tr_acc: 67.50%, lr=['0.00025912316294914234'], tr_loss: 0.9614408612251282, val_acc: 61.10%: 100%|██████████| 71/71 [02:24<00:00,  2.04s/it]"
     ]
    },
    {
     "name": "stdout",
     "output_type": "stream",
     "text": [
      "epoch_time: 144.78782415390015 seconds\n",
      "\n",
      "\n",
      "EPOCH 68\n"
     ]
    },
    {
     "name": "stderr",
     "output_type": "stream",
     "text": [
      "\n",
      "train: 68-48/71 tr_acc: 71.09%, lr=['0.0002871103542174638'], tr_loss: 0.913228452205658, val_acc: 61.10%:  69%|██████▉   | 49/71 [01:38<00:44,  2.02s/it] "
     ]
    },
    {
     "name": "stdout",
     "output_type": "stream",
     "text": [
      "68-49 training acc: 66.41%, lr=['0.0002871103542174638'], val_acc: 61.10%\n",
      "iter_one_train_time: 1.985889196395874 seconds, last one_val_time: 2.655834913253784 seconds\n",
      "\n"
     ]
    },
    {
     "name": "stderr",
     "output_type": "stream",
     "text": [
      "train: 68-70/71 tr_acc: 85.00%, lr=['0.0002871103542174638'], tr_loss: 0.5682384371757507, val_acc: 62.50%: 100%|██████████| 71/71 [02:24<00:00,  2.03s/it]"
     ]
    },
    {
     "name": "stdout",
     "output_type": "stream",
     "text": [
      "epoch_time: 144.5495207309723 seconds\n",
      "\n",
      "\n",
      "EPOCH 69\n"
     ]
    },
    {
     "name": "stderr",
     "output_type": "stream",
     "text": [
      "\n",
      "train: 69-48/71 tr_acc: 75.78%, lr=['0.000315937723657661'], tr_loss: 0.7996417880058289, val_acc: 62.50%:  69%|██████▉   | 49/71 [01:38<00:43,  1.99s/it]"
     ]
    },
    {
     "name": "stdout",
     "output_type": "stream",
     "text": [
      "69-49 training acc: 70.31%, lr=['0.000315937723657661'], val_acc: 62.50%\n",
      "iter_one_train_time: 1.9829344749450684 seconds, last one_val_time: 2.6565520763397217 seconds\n",
      "\n"
     ]
    },
    {
     "name": "stderr",
     "output_type": "stream",
     "text": [
      "train: 69-70/71 tr_acc: 65.00%, lr=['0.000315937723657661'], tr_loss: 0.9941282272338867, val_acc: 60.20%: 100%|██████████| 71/71 [02:24<00:00,  2.04s/it]"
     ]
    },
    {
     "name": "stdout",
     "output_type": "stream",
     "text": [
      "epoch_time: 144.86769843101501 seconds\n",
      "\n",
      "\n",
      "EPOCH 70\n"
     ]
    },
    {
     "name": "stderr",
     "output_type": "stream",
     "text": [
      "\n",
      "train: 70-48/71 tr_acc: 67.97%, lr=['0.0003454915028125261'], tr_loss: 0.9022351503372192, val_acc: 60.20%:  69%|██████▉   | 49/71 [01:38<00:43,  1.99s/it]"
     ]
    },
    {
     "name": "stdout",
     "output_type": "stream",
     "text": [
      "70-49 training acc: 71.09%, lr=['0.0003454915028125261'], val_acc: 60.20%\n",
      "iter_one_train_time: 2.088611125946045 seconds, last one_val_time: 2.794290781021118 seconds\n",
      "\n"
     ]
    },
    {
     "name": "stderr",
     "output_type": "stream",
     "text": [
      "train: 70-70/71 tr_acc: 60.00%, lr=['0.0003454915028125261'], tr_loss: 0.9913848042488098, val_acc: 55.80%: 100%|██████████| 71/71 [02:24<00:00,  2.04s/it]"
     ]
    },
    {
     "name": "stdout",
     "output_type": "stream",
     "text": [
      "epoch_time: 145.04188132286072 seconds\n",
      "\n",
      "\n",
      "EPOCH 71\n"
     ]
    },
    {
     "name": "stderr",
     "output_type": "stream",
     "text": [
      "\n",
      "train: 71-48/71 tr_acc: 74.22%, lr=['0.0003756550564175727'], tr_loss: 0.8791265487670898, val_acc: 55.80%:  69%|██████▉   | 49/71 [01:38<00:44,  2.02s/it]"
     ]
    },
    {
     "name": "stdout",
     "output_type": "stream",
     "text": [
      "71-49 training acc: 71.09%, lr=['0.0003756550564175727'], val_acc: 55.80%\n",
      "iter_one_train_time: 1.988771677017212 seconds, last one_val_time: 2.6929666996002197 seconds\n",
      "\n"
     ]
    },
    {
     "name": "stderr",
     "output_type": "stream",
     "text": [
      "train: 71-70/71 tr_acc: 70.00%, lr=['0.0003756550564175727'], tr_loss: 0.851895809173584, val_acc: 62.30%: 100%|██████████| 71/71 [02:24<00:00,  2.04s/it] "
     ]
    },
    {
     "name": "stdout",
     "output_type": "stream",
     "text": [
      "epoch_time: 145.1551558971405 seconds\n",
      "\n",
      "\n",
      "EPOCH 72\n"
     ]
    },
    {
     "name": "stderr",
     "output_type": "stream",
     "text": [
      "\n",
      "train: 72-48/71 tr_acc: 76.56%, lr=['0.0004063093427071376'], tr_loss: 0.6710435152053833, val_acc: 62.30%:  69%|██████▉   | 49/71 [01:38<00:43,  1.99s/it]"
     ]
    },
    {
     "name": "stdout",
     "output_type": "stream",
     "text": [
      "72-49 training acc: 71.88%, lr=['0.0004063093427071376'], val_acc: 62.30%\n",
      "iter_one_train_time: 1.9908030033111572 seconds, last one_val_time: 2.70477032661438 seconds\n",
      "\n"
     ]
    },
    {
     "name": "stderr",
     "output_type": "stream",
     "text": [
      "train: 72-70/71 tr_acc: 65.00%, lr=['0.0004063093427071376'], tr_loss: 1.0487053394317627, val_acc: 58.10%: 100%|██████████| 71/71 [02:24<00:00,  2.04s/it]"
     ]
    },
    {
     "name": "stdout",
     "output_type": "stream",
     "text": [
      "epoch_time: 144.92146730422974 seconds\n",
      "\n",
      "\n",
      "EPOCH 73\n"
     ]
    },
    {
     "name": "stderr",
     "output_type": "stream",
     "text": [
      "\n",
      "train: 73-48/71 tr_acc: 75.78%, lr=['0.0004373333832178476'], tr_loss: 0.776949942111969, val_acc: 58.10%:  69%|██████▉   | 49/71 [01:38<00:43,  1.99s/it] "
     ]
    },
    {
     "name": "stdout",
     "output_type": "stream",
     "text": [
      "73-49 training acc: 78.91%, lr=['0.0004373333832178476'], val_acc: 58.10%\n",
      "iter_one_train_time: 1.9831082820892334 seconds, last one_val_time: 2.807279109954834 seconds\n",
      "\n"
     ]
    },
    {
     "name": "stderr",
     "output_type": "stream",
     "text": [
      "train: 73-70/71 tr_acc: 70.00%, lr=['0.0004373333832178476'], tr_loss: 1.1721174716949463, val_acc: 49.80%: 100%|██████████| 71/71 [02:24<00:00,  2.04s/it]"
     ]
    },
    {
     "name": "stdout",
     "output_type": "stream",
     "text": [
      "epoch_time: 145.07341623306274 seconds\n",
      "\n",
      "\n",
      "EPOCH 74\n"
     ]
    },
    {
     "name": "stderr",
     "output_type": "stream",
     "text": [
      "\n",
      "train: 74-48/71 tr_acc: 78.91%, lr=['0.00046860474023534325'], tr_loss: 0.6664117574691772, val_acc: 49.80%:  69%|██████▉   | 49/71 [01:38<00:43,  2.00s/it]"
     ]
    },
    {
     "name": "stdout",
     "output_type": "stream",
     "text": [
      "74-49 training acc: 66.41%, lr=['0.00046860474023534325'], val_acc: 49.80%\n",
      "iter_one_train_time: 1.976862907409668 seconds, last one_val_time: 2.7711880207061768 seconds\n",
      "\n"
     ]
    },
    {
     "name": "stderr",
     "output_type": "stream",
     "text": [
      "train: 74-70/71 tr_acc: 67.50%, lr=['0.00046860474023534325'], tr_loss: 0.8811119794845581, val_acc: 62.40%: 100%|██████████| 71/71 [02:24<00:00,  2.04s/it]"
     ]
    },
    {
     "name": "stdout",
     "output_type": "stream",
     "text": [
      "epoch_time: 144.83738946914673 seconds\n",
      "\n",
      "\n",
      "EPOCH 75\n"
     ]
    },
    {
     "name": "stderr",
     "output_type": "stream",
     "text": [
      "\n",
      "train: 75-48/71 tr_acc: 77.34%, lr=['0.0004999999999999998'], tr_loss: 0.7080450057983398, val_acc: 62.40%:  69%|██████▉   | 49/71 [01:38<00:44,  2.01s/it]"
     ]
    },
    {
     "name": "stdout",
     "output_type": "stream",
     "text": [
      "75-49 training acc: 69.53%, lr=['0.0004999999999999998'], val_acc: 62.40%\n",
      "iter_one_train_time: 1.9854066371917725 seconds, last one_val_time: 2.6693856716156006 seconds\n",
      "\n"
     ]
    },
    {
     "name": "stderr",
     "output_type": "stream",
     "text": [
      "train: 75-70/71 tr_acc: 72.50%, lr=['0.0004999999999999998'], tr_loss: 0.7287893891334534, val_acc: 60.60%: 100%|██████████| 71/71 [02:24<00:00,  2.04s/it]"
     ]
    },
    {
     "name": "stdout",
     "output_type": "stream",
     "text": [
      "epoch_time: 145.060453414917 seconds\n",
      "\n",
      "\n",
      "EPOCH 76\n"
     ]
    },
    {
     "name": "stderr",
     "output_type": "stream",
     "text": [
      "\n",
      "train: 76-48/71 tr_acc: 69.53%, lr=['0.0005313952597646563'], tr_loss: 0.8091961145401001, val_acc: 60.60%:  69%|██████▉   | 49/71 [01:38<00:43,  2.00s/it]"
     ]
    },
    {
     "name": "stdout",
     "output_type": "stream",
     "text": [
      "76-49 training acc: 76.56%, lr=['0.0005313952597646563'], val_acc: 60.60%\n",
      "iter_one_train_time: 1.999438762664795 seconds, last one_val_time: 2.7966907024383545 seconds\n",
      "\n"
     ]
    },
    {
     "name": "stderr",
     "output_type": "stream",
     "text": [
      "train: 76-70/71 tr_acc: 75.00%, lr=['0.0005313952597646563'], tr_loss: 0.7765828371047974, val_acc: 57.90%: 100%|██████████| 71/71 [02:24<00:00,  2.04s/it]"
     ]
    },
    {
     "name": "stdout",
     "output_type": "stream",
     "text": [
      "epoch_time: 144.8775987625122 seconds\n",
      "\n",
      "\n",
      "EPOCH 77\n"
     ]
    },
    {
     "name": "stderr",
     "output_type": "stream",
     "text": [
      "\n",
      "train: 77-48/71 tr_acc: 66.41%, lr=['0.0005626666167821521'], tr_loss: 0.8653242588043213, val_acc: 57.90%:  69%|██████▉   | 49/71 [01:38<00:43,  1.99s/it]"
     ]
    },
    {
     "name": "stdout",
     "output_type": "stream",
     "text": [
      "77-49 training acc: 74.22%, lr=['0.0005626666167821521'], val_acc: 57.90%\n",
      "iter_one_train_time: 1.9794437885284424 seconds, last one_val_time: 2.675619125366211 seconds\n",
      "\n"
     ]
    },
    {
     "name": "stderr",
     "output_type": "stream",
     "text": [
      "train: 77-70/71 tr_acc: 62.50%, lr=['0.0005626666167821521'], tr_loss: 0.9397160410881042, val_acc: 53.10%: 100%|██████████| 71/71 [02:24<00:00,  2.03s/it]"
     ]
    },
    {
     "name": "stdout",
     "output_type": "stream",
     "text": [
      "epoch_time: 144.7633113861084 seconds\n",
      "\n",
      "\n",
      "EPOCH 78\n"
     ]
    },
    {
     "name": "stderr",
     "output_type": "stream",
     "text": [
      "\n",
      "train: 78-48/71 tr_acc: 71.09%, lr=['0.0005936906572928622'], tr_loss: 0.8360705375671387, val_acc: 53.10%:  69%|██████▉   | 49/71 [01:39<00:44,  2.00s/it]"
     ]
    },
    {
     "name": "stdout",
     "output_type": "stream",
     "text": [
      "78-49 training acc: 71.09%, lr=['0.0005936906572928622'], val_acc: 53.10%\n",
      "iter_one_train_time: 1.9828736782073975 seconds, last one_val_time: 2.7377214431762695 seconds\n",
      "\n"
     ]
    },
    {
     "name": "stderr",
     "output_type": "stream",
     "text": [
      "train: 78-70/71 tr_acc: 65.00%, lr=['0.0005936906572928622'], tr_loss: 0.776165246963501, val_acc: 56.90%: 100%|██████████| 71/71 [02:24<00:00,  2.04s/it] "
     ]
    },
    {
     "name": "stdout",
     "output_type": "stream",
     "text": [
      "epoch_time: 145.30427718162537 seconds\n",
      "\n",
      "\n",
      "EPOCH 79\n"
     ]
    },
    {
     "name": "stderr",
     "output_type": "stream",
     "text": [
      "\n",
      "train: 79-48/71 tr_acc: 78.91%, lr=['0.0006243449435824275'], tr_loss: 0.6981918811798096, val_acc: 56.90%:  69%|██████▉   | 49/71 [01:38<00:43,  1.98s/it]"
     ]
    },
    {
     "name": "stdout",
     "output_type": "stream",
     "text": [
      "79-49 training acc: 77.34%, lr=['0.0006243449435824275'], val_acc: 56.90%\n",
      "iter_one_train_time: 2.068678379058838 seconds, last one_val_time: 2.8229382038116455 seconds\n",
      "\n"
     ]
    },
    {
     "name": "stderr",
     "output_type": "stream",
     "text": [
      "train: 79-70/71 tr_acc: 77.50%, lr=['0.0006243449435824275'], tr_loss: 0.661957859992981, val_acc: 61.60%: 100%|██████████| 71/71 [02:24<00:00,  2.03s/it] "
     ]
    },
    {
     "name": "stdout",
     "output_type": "stream",
     "text": [
      "epoch_time: 144.4076225757599 seconds\n",
      "\n",
      "\n",
      "EPOCH 80\n"
     ]
    },
    {
     "name": "stderr",
     "output_type": "stream",
     "text": [
      "\n",
      "train: 80-48/71 tr_acc: 81.25%, lr=['0.0006545084971874736'], tr_loss: 0.6581979990005493, val_acc: 61.60%:  69%|██████▉   | 49/71 [01:38<00:44,  2.00s/it]"
     ]
    },
    {
     "name": "stdout",
     "output_type": "stream",
     "text": [
      "80-49 training acc: 69.53%, lr=['0.0006545084971874736'], val_acc: 61.60%\n",
      "iter_one_train_time: 1.989565134048462 seconds, last one_val_time: 2.708743095397949 seconds\n",
      "\n"
     ]
    },
    {
     "name": "stderr",
     "output_type": "stream",
     "text": [
      "train: 80-70/71 tr_acc: 72.50%, lr=['0.0006545084971874736'], tr_loss: 0.8324164152145386, val_acc: 60.10%: 100%|██████████| 71/71 [02:24<00:00,  2.03s/it]"
     ]
    },
    {
     "name": "stdout",
     "output_type": "stream",
     "text": [
      "epoch_time: 144.69143295288086 seconds\n",
      "\n",
      "\n",
      "EPOCH 81\n"
     ]
    },
    {
     "name": "stderr",
     "output_type": "stream",
     "text": [
      "\n",
      "train: 81-48/71 tr_acc: 78.91%, lr=['0.0006840622763423388'], tr_loss: 0.6850243806838989, val_acc: 60.10%:  69%|██████▉   | 49/71 [01:38<00:44,  2.02s/it]"
     ]
    },
    {
     "name": "stdout",
     "output_type": "stream",
     "text": [
      "81-49 training acc: 78.91%, lr=['0.0006840622763423388'], val_acc: 60.10%\n",
      "iter_one_train_time: 1.9811196327209473 seconds, last one_val_time: 2.699218988418579 seconds\n",
      "\n"
     ]
    },
    {
     "name": "stderr",
     "output_type": "stream",
     "text": [
      "train: 81-70/71 tr_acc: 72.50%, lr=['0.0006840622763423388'], tr_loss: 0.9265681505203247, val_acc: 45.20%: 100%|██████████| 71/71 [02:24<00:00,  2.04s/it]"
     ]
    },
    {
     "name": "stdout",
     "output_type": "stream",
     "text": [
      "epoch_time: 144.96741938591003 seconds\n",
      "\n",
      "\n",
      "EPOCH 82\n"
     ]
    },
    {
     "name": "stderr",
     "output_type": "stream",
     "text": [
      "\n",
      "train: 82-48/71 tr_acc: 75.78%, lr=['0.000712889645782536'], tr_loss: 0.7718719840049744, val_acc: 45.20%:  69%|██████▉   | 49/71 [01:38<00:43,  1.99s/it]"
     ]
    },
    {
     "name": "stdout",
     "output_type": "stream",
     "text": [
      "82-49 training acc: 83.59%, lr=['0.000712889645782536'], val_acc: 45.20%\n",
      "iter_one_train_time: 1.9703774452209473 seconds, last one_val_time: 2.655970335006714 seconds\n",
      "\n"
     ]
    },
    {
     "name": "stderr",
     "output_type": "stream",
     "text": [
      "train: 82-70/71 tr_acc: 70.00%, lr=['0.000712889645782536'], tr_loss: 0.8875988721847534, val_acc: 56.40%: 100%|██████████| 71/71 [02:24<00:00,  2.03s/it]"
     ]
    },
    {
     "name": "stdout",
     "output_type": "stream",
     "text": [
      "epoch_time: 144.430677652359 seconds\n",
      "\n",
      "\n",
      "EPOCH 83\n"
     ]
    },
    {
     "name": "stderr",
     "output_type": "stream",
     "text": [
      "\n",
      "train: 83-48/71 tr_acc: 67.97%, lr=['0.0007408768370508579'], tr_loss: 0.8948793411254883, val_acc: 56.40%:  69%|██████▉   | 49/71 [01:38<00:43,  2.00s/it]"
     ]
    },
    {
     "name": "stdout",
     "output_type": "stream",
     "text": [
      "83-49 training acc: 74.22%, lr=['0.0007408768370508579'], val_acc: 56.40%\n",
      "iter_one_train_time: 2.0824759006500244 seconds, last one_val_time: 2.8172049522399902 seconds\n",
      "\n"
     ]
    },
    {
     "name": "stderr",
     "output_type": "stream",
     "text": [
      "train: 83-70/71 tr_acc: 80.00%, lr=['0.0007408768370508579'], tr_loss: 0.7439865469932556, val_acc: 57.90%: 100%|██████████| 71/71 [02:24<00:00,  2.04s/it]"
     ]
    },
    {
     "name": "stdout",
     "output_type": "stream",
     "text": [
      "epoch_time: 145.09915018081665 seconds\n",
      "\n",
      "\n",
      "EPOCH 84\n"
     ]
    },
    {
     "name": "stderr",
     "output_type": "stream",
     "text": [
      "\n",
      "train: 84-48/71 tr_acc: 75.00%, lr=['0.0007679133974894985'], tr_loss: 0.7344874739646912, val_acc: 57.90%:  69%|██████▉   | 49/71 [01:38<00:44,  2.01s/it]"
     ]
    },
    {
     "name": "stdout",
     "output_type": "stream",
     "text": [
      "84-49 training acc: 75.78%, lr=['0.0007679133974894985'], val_acc: 57.90%\n",
      "iter_one_train_time: 1.986436128616333 seconds, last one_val_time: 2.7161686420440674 seconds\n",
      "\n"
     ]
    },
    {
     "name": "stderr",
     "output_type": "stream",
     "text": [
      "train: 84-70/71 tr_acc: 62.50%, lr=['0.0007679133974894985'], tr_loss: 1.0202032327651978, val_acc: 56.40%: 100%|██████████| 71/71 [02:24<00:00,  2.04s/it]"
     ]
    },
    {
     "name": "stdout",
     "output_type": "stream",
     "text": [
      "epoch_time: 144.80677914619446 seconds\n",
      "\n",
      "\n",
      "EPOCH 85\n"
     ]
    },
    {
     "name": "stderr",
     "output_type": "stream",
     "text": [
      "\n",
      "train: 85-48/71 tr_acc: 82.03%, lr=['0.0007938926261462367'], tr_loss: 0.5804648399353027, val_acc: 56.40%:  69%|██████▉   | 49/71 [01:38<00:43,  1.99s/it]"
     ]
    },
    {
     "name": "stdout",
     "output_type": "stream",
     "text": [
      "85-49 training acc: 72.66%, lr=['0.0007938926261462367'], val_acc: 56.40%\n",
      "iter_one_train_time: 1.982950210571289 seconds, last one_val_time: 2.688122034072876 seconds\n",
      "\n"
     ]
    },
    {
     "name": "stderr",
     "output_type": "stream",
     "text": [
      "train: 85-70/71 tr_acc: 60.00%, lr=['0.0007938926261462367'], tr_loss: 0.9315783381462097, val_acc: 61.20%: 100%|██████████| 71/71 [02:24<00:00,  2.04s/it]"
     ]
    },
    {
     "name": "stdout",
     "output_type": "stream",
     "text": [
      "epoch_time: 144.92271947860718 seconds\n",
      "\n",
      "\n",
      "EPOCH 86\n"
     ]
    },
    {
     "name": "stderr",
     "output_type": "stream",
     "text": [
      "\n",
      "train: 86-48/71 tr_acc: 71.88%, lr=['0.0008187119948743449'], tr_loss: 0.7648448944091797, val_acc: 61.20%:  69%|██████▉   | 49/71 [01:38<00:44,  2.00s/it]"
     ]
    },
    {
     "name": "stdout",
     "output_type": "stream",
     "text": [
      "86-49 training acc: 80.47%, lr=['0.0008187119948743449'], val_acc: 61.20%\n",
      "iter_one_train_time: 1.9977314472198486 seconds, last one_val_time: 2.797557830810547 seconds\n",
      "\n"
     ]
    },
    {
     "name": "stderr",
     "output_type": "stream",
     "text": [
      "train: 86-70/71 tr_acc: 67.50%, lr=['0.0008187119948743449'], tr_loss: 0.8300377726554871, val_acc: 57.10%: 100%|██████████| 71/71 [02:24<00:00,  2.04s/it]"
     ]
    },
    {
     "name": "stdout",
     "output_type": "stream",
     "text": [
      "epoch_time: 145.18840312957764 seconds\n",
      "\n",
      "\n",
      "EPOCH 87\n"
     ]
    },
    {
     "name": "stderr",
     "output_type": "stream",
     "text": [
      "\n",
      "train: 87-48/71 tr_acc: 78.12%, lr=['0.0008422735529643442'], tr_loss: 0.7247558832168579, val_acc: 57.10%:  69%|██████▉   | 49/71 [01:38<00:44,  2.02s/it]"
     ]
    },
    {
     "name": "stdout",
     "output_type": "stream",
     "text": [
      "87-49 training acc: 68.75%, lr=['0.0008422735529643442'], val_acc: 57.10%\n",
      "iter_one_train_time: 2.0129244327545166 seconds, last one_val_time: 2.784888505935669 seconds\n",
      "\n"
     ]
    },
    {
     "name": "stderr",
     "output_type": "stream",
     "text": [
      "train: 87-70/71 tr_acc: 65.00%, lr=['0.0008422735529643442'], tr_loss: 1.035859227180481, val_acc: 58.60%: 100%|██████████| 71/71 [02:24<00:00,  2.04s/it] "
     ]
    },
    {
     "name": "stdout",
     "output_type": "stream",
     "text": [
      "epoch_time: 145.21504092216492 seconds\n",
      "\n",
      "\n",
      "EPOCH 88\n"
     ]
    },
    {
     "name": "stderr",
     "output_type": "stream",
     "text": [
      "\n",
      "train: 88-48/71 tr_acc: 75.00%, lr=['0.0008644843137107058'], tr_loss: 0.7826297879219055, val_acc: 58.60%:  69%|██████▉   | 49/71 [01:38<00:44,  2.00s/it]"
     ]
    },
    {
     "name": "stdout",
     "output_type": "stream",
     "text": [
      "88-49 training acc: 73.44%, lr=['0.0008644843137107058'], val_acc: 58.60%\n",
      "iter_one_train_time: 1.9851102828979492 seconds, last one_val_time: 2.749786853790283 seconds\n",
      "\n"
     ]
    },
    {
     "name": "stderr",
     "output_type": "stream",
     "text": [
      "train: 88-70/71 tr_acc: 72.50%, lr=['0.0008644843137107058'], tr_loss: 0.7252565622329712, val_acc: 57.00%: 100%|██████████| 71/71 [02:24<00:00,  2.04s/it]"
     ]
    },
    {
     "name": "stdout",
     "output_type": "stream",
     "text": [
      "epoch_time: 144.97702836990356 seconds\n",
      "\n",
      "\n",
      "EPOCH 89\n"
     ]
    },
    {
     "name": "stderr",
     "output_type": "stream",
     "text": [
      "\n",
      "train: 89-48/71 tr_acc: 81.25%, lr=['0.000885256621387895'], tr_loss: 0.5932989716529846, val_acc: 57.00%:  69%|██████▉   | 49/71 [01:38<00:43,  1.99s/it]"
     ]
    },
    {
     "name": "stdout",
     "output_type": "stream",
     "text": [
      "89-49 training acc: 75.00%, lr=['0.000885256621387895'], val_acc: 57.00%\n",
      "iter_one_train_time: 2.084857225418091 seconds, last one_val_time: 2.760490655899048 seconds\n",
      "\n"
     ]
    },
    {
     "name": "stderr",
     "output_type": "stream",
     "text": [
      "train: 89-70/71 tr_acc: 72.50%, lr=['0.000885256621387895'], tr_loss: 0.8949280977249146, val_acc: 55.60%: 100%|██████████| 71/71 [02:24<00:00,  2.04s/it]"
     ]
    },
    {
     "name": "stdout",
     "output_type": "stream",
     "text": [
      "epoch_time: 144.81274151802063 seconds\n",
      "\n",
      "\n",
      "EPOCH 90\n"
     ]
    },
    {
     "name": "stderr",
     "output_type": "stream",
     "text": [
      "\n",
      "train: 90-48/71 tr_acc: 71.88%, lr=['0.000904508497187474'], tr_loss: 0.8901498317718506, val_acc: 55.60%:  69%|██████▉   | 49/71 [01:38<00:43,  2.00s/it]"
     ]
    },
    {
     "name": "stdout",
     "output_type": "stream",
     "text": [
      "90-49 training acc: 75.78%, lr=['0.000904508497187474'], val_acc: 55.60%\n",
      "iter_one_train_time: 1.9848175048828125 seconds, last one_val_time: 2.6936073303222656 seconds\n",
      "\n"
     ]
    },
    {
     "name": "stderr",
     "output_type": "stream",
     "text": [
      "train: 90-70/71 tr_acc: 72.50%, lr=['0.000904508497187474'], tr_loss: 0.7178985476493835, val_acc: 62.50%: 100%|██████████| 71/71 [02:24<00:00,  2.04s/it]"
     ]
    },
    {
     "name": "stdout",
     "output_type": "stream",
     "text": [
      "epoch_time: 145.08892822265625 seconds\n",
      "\n",
      "\n",
      "EPOCH 91\n"
     ]
    },
    {
     "name": "stderr",
     "output_type": "stream",
     "text": [
      "\n",
      "train: 91-48/71 tr_acc: 74.22%, lr=['0.0009221639627510078'], tr_loss: 0.7029783129692078, val_acc: 62.50%:  69%|██████▉   | 49/71 [01:38<00:44,  2.01s/it]"
     ]
    },
    {
     "name": "stdout",
     "output_type": "stream",
     "text": [
      "91-49 training acc: 75.78%, lr=['0.0009221639627510078'], val_acc: 62.50%\n",
      "iter_one_train_time: 2.0033960342407227 seconds, last one_val_time: 2.642261028289795 seconds\n",
      "\n"
     ]
    },
    {
     "name": "stderr",
     "output_type": "stream",
     "text": [
      "train: 91-70/71 tr_acc: 82.50%, lr=['0.0009221639627510078'], tr_loss: 0.5467338562011719, val_acc: 59.40%: 100%|██████████| 71/71 [02:24<00:00,  2.04s/it]"
     ]
    },
    {
     "name": "stdout",
     "output_type": "stream",
     "text": [
      "epoch_time: 144.9039487838745 seconds\n",
      "\n",
      "\n",
      "EPOCH 92\n"
     ]
    },
    {
     "name": "stderr",
     "output_type": "stream",
     "text": [
      "\n",
      "train: 92-48/71 tr_acc: 71.88%, lr=['0.0009381533400219319'], tr_loss: 0.7133646607398987, val_acc: 59.40%:  69%|██████▉   | 49/71 [01:38<00:43,  1.99s/it]"
     ]
    },
    {
     "name": "stdout",
     "output_type": "stream",
     "text": [
      "92-49 training acc: 82.03%, lr=['0.0009381533400219319'], val_acc: 59.40%\n",
      "iter_one_train_time: 1.980234146118164 seconds, last one_val_time: 2.728684186935425 seconds\n",
      "\n"
     ]
    },
    {
     "name": "stderr",
     "output_type": "stream",
     "text": [
      "train: 92-70/71 tr_acc: 77.50%, lr=['0.0009381533400219319'], tr_loss: 0.5781240463256836, val_acc: 57.00%: 100%|██████████| 71/71 [02:24<00:00,  2.03s/it]"
     ]
    },
    {
     "name": "stdout",
     "output_type": "stream",
     "text": [
      "epoch_time: 144.7267370223999 seconds\n",
      "\n",
      "\n",
      "EPOCH 93\n"
     ]
    },
    {
     "name": "stderr",
     "output_type": "stream",
     "text": [
      "\n",
      "train: 93-48/71 tr_acc: 80.47%, lr=['0.00095241352623301'], tr_loss: 0.5812242031097412, val_acc: 57.00%:  69%|██████▉   | 49/71 [01:38<00:44,  2.00s/it]"
     ]
    },
    {
     "name": "stdout",
     "output_type": "stream",
     "text": [
      "93-49 training acc: 75.00%, lr=['0.00095241352623301'], val_acc: 57.00%\n",
      "iter_one_train_time: 2.102654218673706 seconds, last one_val_time: 2.8053815364837646 seconds\n",
      "\n"
     ]
    },
    {
     "name": "stderr",
     "output_type": "stream",
     "text": [
      "train: 93-70/71 tr_acc: 77.50%, lr=['0.00095241352623301'], tr_loss: 0.7452316284179688, val_acc: 61.80%: 100%|██████████| 71/71 [02:24<00:00,  2.04s/it]"
     ]
    },
    {
     "name": "stdout",
     "output_type": "stream",
     "text": [
      "epoch_time: 145.2204339504242 seconds\n",
      "\n",
      "\n",
      "EPOCH 94\n"
     ]
    },
    {
     "name": "stderr",
     "output_type": "stream",
     "text": [
      "\n",
      "train: 94-48/71 tr_acc: 73.44%, lr=['0.000964888242944126'], tr_loss: 0.7628006339073181, val_acc: 61.80%:  69%|██████▉   | 49/71 [01:38<00:44,  2.02s/it]"
     ]
    },
    {
     "name": "stdout",
     "output_type": "stream",
     "text": [
      "94-49 training acc: 78.12%, lr=['0.000964888242944126'], val_acc: 61.80%\n",
      "iter_one_train_time: 2.0013365745544434 seconds, last one_val_time: 2.6781604290008545 seconds\n",
      "\n"
     ]
    },
    {
     "name": "stderr",
     "output_type": "stream",
     "text": [
      "train: 94-70/71 tr_acc: 67.50%, lr=['0.000964888242944126'], tr_loss: 0.6672555804252625, val_acc: 60.00%: 100%|██████████| 71/71 [02:24<00:00,  2.04s/it]"
     ]
    },
    {
     "name": "stdout",
     "output_type": "stream",
     "text": [
      "epoch_time: 144.77974224090576 seconds\n",
      "\n",
      "\n",
      "EPOCH 95\n"
     ]
    },
    {
     "name": "stderr",
     "output_type": "stream",
     "text": [
      "\n",
      "train: 95-48/71 tr_acc: 80.47%, lr=['0.000975528258147577'], tr_loss: 0.5959880352020264, val_acc: 60.00%:  69%|██████▉   | 49/71 [01:38<00:44,  2.03s/it]"
     ]
    },
    {
     "name": "stdout",
     "output_type": "stream",
     "text": [
      "95-49 training acc: 85.16%, lr=['0.000975528258147577'], val_acc: 60.00%\n",
      "iter_one_train_time: 2.013871908187866 seconds, last one_val_time: 2.6639699935913086 seconds\n",
      "\n"
     ]
    },
    {
     "name": "stderr",
     "output_type": "stream",
     "text": [
      "train: 95-70/71 tr_acc: 70.00%, lr=['0.000975528258147577'], tr_loss: 0.7764574289321899, val_acc: 62.80%: 100%|██████████| 71/71 [02:24<00:00,  2.04s/it]"
     ]
    },
    {
     "name": "stdout",
     "output_type": "stream",
     "text": [
      "epoch_time: 144.87207746505737 seconds\n",
      "\n",
      "\n",
      "EPOCH 96\n"
     ]
    },
    {
     "name": "stderr",
     "output_type": "stream",
     "text": [
      "\n",
      "train: 96-48/71 tr_acc: 70.31%, lr=['0.0009842915805643156'], tr_loss: 0.7649896144866943, val_acc: 62.80%:  69%|██████▉   | 49/71 [01:38<00:44,  2.01s/it]"
     ]
    },
    {
     "name": "stdout",
     "output_type": "stream",
     "text": [
      "96-49 training acc: 74.22%, lr=['0.0009842915805643156'], val_acc: 62.80%\n",
      "iter_one_train_time: 1.9758050441741943 seconds, last one_val_time: 2.806471109390259 seconds\n",
      "\n"
     ]
    },
    {
     "name": "stderr",
     "output_type": "stream",
     "text": [
      "train: 96-70/71 tr_acc: 87.50%, lr=['0.0009842915805643156'], tr_loss: 0.5191727876663208, val_acc: 62.50%: 100%|██████████| 71/71 [02:24<00:00,  2.04s/it]"
     ]
    },
    {
     "name": "stdout",
     "output_type": "stream",
     "text": [
      "epoch_time: 145.12596464157104 seconds\n",
      "\n",
      "\n",
      "EPOCH 97\n"
     ]
    },
    {
     "name": "stderr",
     "output_type": "stream",
     "text": [
      "\n",
      "train: 97-48/71 tr_acc: 79.69%, lr=['0.0009911436253643444'], tr_loss: 0.5971272587776184, val_acc: 62.50%:  69%|██████▉   | 49/71 [01:38<00:43,  2.00s/it]"
     ]
    },
    {
     "name": "stdout",
     "output_type": "stream",
     "text": [
      "97-49 training acc: 81.25%, lr=['0.0009911436253643444'], val_acc: 62.50%\n",
      "iter_one_train_time: 1.9937317371368408 seconds, last one_val_time: 2.773987054824829 seconds\n",
      "\n"
     ]
    },
    {
     "name": "stderr",
     "output_type": "stream",
     "text": [
      "train: 97-70/71 tr_acc: 72.50%, lr=['0.0009911436253643444'], tr_loss: 0.6008013486862183, val_acc: 59.10%: 100%|██████████| 71/71 [02:24<00:00,  2.03s/it]"
     ]
    },
    {
     "name": "stdout",
     "output_type": "stream",
     "text": [
      "epoch_time: 144.6540002822876 seconds\n",
      "\n",
      "\n",
      "EPOCH 98\n"
     ]
    },
    {
     "name": "stderr",
     "output_type": "stream",
     "text": [
      "\n",
      "train: 98-48/71 tr_acc: 79.69%, lr=['0.0009960573506572388'], tr_loss: 0.5592921376228333, val_acc: 59.10%:  69%|██████▉   | 49/71 [01:38<00:43,  2.00s/it]"
     ]
    },
    {
     "name": "stdout",
     "output_type": "stream",
     "text": [
      "98-49 training acc: 77.34%, lr=['0.0009960573506572388'], val_acc: 59.10%\n",
      "iter_one_train_time: 1.983614444732666 seconds, last one_val_time: 2.662280559539795 seconds\n",
      "\n"
     ]
    },
    {
     "name": "stderr",
     "output_type": "stream",
     "text": [
      "train: 98-70/71 tr_acc: 67.50%, lr=['0.0009960573506572388'], tr_loss: 0.7443063855171204, val_acc: 58.20%: 100%|██████████| 71/71 [02:24<00:00,  2.04s/it] "
     ]
    },
    {
     "name": "stdout",
     "output_type": "stream",
     "text": [
      "epoch_time: 144.82847094535828 seconds\n",
      "\n",
      "\n",
      "EPOCH 99\n"
     ]
    },
    {
     "name": "stderr",
     "output_type": "stream",
     "text": [
      "\n",
      "train: 99-48/71 tr_acc: 79.69%, lr=['0.0009990133642141358'], tr_loss: 0.6449102163314819, val_acc: 58.20%:  69%|██████▉   | 49/71 [01:38<00:43,  1.98s/it]"
     ]
    },
    {
     "name": "stdout",
     "output_type": "stream",
     "text": [
      "99-49 training acc: 78.12%, lr=['0.0009990133642141358'], val_acc: 58.20%\n",
      "iter_one_train_time: 2.0987768173217773 seconds, last one_val_time: 2.7805912494659424 seconds\n",
      "\n"
     ]
    },
    {
     "name": "stderr",
     "output_type": "stream",
     "text": [
      "train: 99-70/71 tr_acc: 82.50%, lr=['0.0009990133642141358'], tr_loss: 0.5466102957725525, val_acc: 57.00%: 100%|██████████| 71/71 [02:24<00:00,  2.03s/it]"
     ]
    },
    {
     "name": "stdout",
     "output_type": "stream",
     "text": [
      "epoch_time: 144.577152967453 seconds\n",
      "\n",
      "\n",
      "EPOCH 100\n"
     ]
    },
    {
     "name": "stderr",
     "output_type": "stream",
     "text": [
      "\n",
      "train: 100-48/71 tr_acc: 75.78%, lr=['0.001'], tr_loss: 0.6294636726379395, val_acc: 57.00%:  69%|██████▉   | 49/71 [01:38<00:43,  1.99s/it]"
     ]
    },
    {
     "name": "stdout",
     "output_type": "stream",
     "text": [
      "100-49 training acc: 84.38%, lr=['0.001'], val_acc: 57.00%\n",
      "iter_one_train_time: 1.9822568893432617 seconds, last one_val_time: 2.65047025680542 seconds\n",
      "\n"
     ]
    },
    {
     "name": "stderr",
     "output_type": "stream",
     "text": [
      "train: 100-70/71 tr_acc: 82.50%, lr=['0.001'], tr_loss: 0.6175626516342163, val_acc: 58.20%: 100%|██████████| 71/71 [02:24<00:00,  2.04s/it]"
     ]
    },
    {
     "name": "stdout",
     "output_type": "stream",
     "text": [
      "epoch_time: 144.9139919281006 seconds\n",
      "\n",
      "\n",
      "EPOCH 101\n"
     ]
    },
    {
     "name": "stderr",
     "output_type": "stream",
     "text": [
      "\n",
      "train: 101-48/71 tr_acc: 72.66%, lr=['0.0009990133642141358'], tr_loss: 0.6729839444160461, val_acc: 58.20%:  69%|██████▉   | 49/71 [01:38<00:44,  2.01s/it] "
     ]
    },
    {
     "name": "stdout",
     "output_type": "stream",
     "text": [
      "101-49 training acc: 81.25%, lr=['0.0009990133642141358'], val_acc: 58.20%\n",
      "iter_one_train_time: 2.0031449794769287 seconds, last one_val_time: 2.700927972793579 seconds\n",
      "\n"
     ]
    },
    {
     "name": "stderr",
     "output_type": "stream",
     "text": [
      "train: 101-70/71 tr_acc: 65.00%, lr=['0.0009990133642141358'], tr_loss: 0.8050742149353027, val_acc: 63.00%: 100%|██████████| 71/71 [02:24<00:00,  2.03s/it] "
     ]
    },
    {
     "name": "stdout",
     "output_type": "stream",
     "text": [
      "epoch_time: 144.58810997009277 seconds\n",
      "\n",
      "\n",
      "EPOCH 102\n"
     ]
    },
    {
     "name": "stderr",
     "output_type": "stream",
     "text": [
      "\n",
      "train: 102-48/71 tr_acc: 73.44%, lr=['0.000996057350657239'], tr_loss: 0.6855396628379822, val_acc: 63.00%:  69%|██████▉   | 49/71 [01:38<00:44,  2.00s/it]"
     ]
    },
    {
     "name": "stdout",
     "output_type": "stream",
     "text": [
      "102-49 training acc: 72.66%, lr=['0.000996057350657239'], val_acc: 63.00%\n",
      "iter_one_train_time: 2.0173213481903076 seconds, last one_val_time: 2.713967800140381 seconds\n",
      "\n"
     ]
    },
    {
     "name": "stderr",
     "output_type": "stream",
     "text": [
      "train: 102-70/71 tr_acc: 77.50%, lr=['0.000996057350657239'], tr_loss: 0.7707821130752563, val_acc: 59.20%: 100%|██████████| 71/71 [02:24<00:00,  2.03s/it]"
     ]
    },
    {
     "name": "stdout",
     "output_type": "stream",
     "text": [
      "epoch_time: 144.64941453933716 seconds\n",
      "\n",
      "\n",
      "EPOCH 103\n"
     ]
    },
    {
     "name": "stderr",
     "output_type": "stream",
     "text": [
      "\n",
      "train: 103-48/71 tr_acc: 79.69%, lr=['0.0009911436253643444'], tr_loss: 0.632813572883606, val_acc: 59.20%:  69%|██████▉   | 49/71 [01:39<00:44,  2.02s/it]  "
     ]
    },
    {
     "name": "stdout",
     "output_type": "stream",
     "text": [
      "103-49 training acc: 78.91%, lr=['0.0009911436253643444'], val_acc: 59.20%\n",
      "iter_one_train_time: 1.9770245552062988 seconds, last one_val_time: 2.7845330238342285 seconds\n",
      "\n"
     ]
    },
    {
     "name": "stderr",
     "output_type": "stream",
     "text": [
      "train: 103-70/71 tr_acc: 77.50%, lr=['0.0009911436253643444'], tr_loss: 0.5813031792640686, val_acc: 60.90%: 100%|██████████| 71/71 [02:25<00:00,  2.04s/it]"
     ]
    },
    {
     "name": "stdout",
     "output_type": "stream",
     "text": [
      "epoch_time: 145.37265539169312 seconds\n",
      "\n",
      "\n",
      "EPOCH 104\n"
     ]
    },
    {
     "name": "stderr",
     "output_type": "stream",
     "text": [
      "\n",
      "train: 104-48/71 tr_acc: 78.12%, lr=['0.0009842915805643156'], tr_loss: 0.6725203394889832, val_acc: 60.90%:  69%|██████▉   | 49/71 [01:38<00:43,  2.00s/it] "
     ]
    },
    {
     "name": "stdout",
     "output_type": "stream",
     "text": [
      "104-49 training acc: 84.38%, lr=['0.0009842915805643156'], val_acc: 60.90%\n",
      "iter_one_train_time: 1.993666648864746 seconds, last one_val_time: 2.66953182220459 seconds\n",
      "\n"
     ]
    },
    {
     "name": "stderr",
     "output_type": "stream",
     "text": [
      "train: 104-70/71 tr_acc: 80.00%, lr=['0.0009842915805643156'], tr_loss: 0.7723565101623535, val_acc: 63.60%: 100%|██████████| 71/71 [02:24<00:00,  2.04s/it]"
     ]
    },
    {
     "name": "stdout",
     "output_type": "stream",
     "text": [
      "epoch_time: 144.91375088691711 seconds\n",
      "\n",
      "\n",
      "EPOCH 105\n"
     ]
    },
    {
     "name": "stderr",
     "output_type": "stream",
     "text": [
      "\n",
      "train: 105-48/71 tr_acc: 74.22%, lr=['0.0009755282581475769'], tr_loss: 0.7296527028083801, val_acc: 63.60%:  69%|██████▉   | 49/71 [01:38<00:43,  1.99s/it] "
     ]
    },
    {
     "name": "stdout",
     "output_type": "stream",
     "text": [
      "105-49 training acc: 81.25%, lr=['0.0009755282581475769'], val_acc: 63.60%\n",
      "iter_one_train_time: 1.9797759056091309 seconds, last one_val_time: 2.8674099445343018 seconds\n",
      "\n"
     ]
    },
    {
     "name": "stderr",
     "output_type": "stream",
     "text": [
      "train: 105-70/71 tr_acc: 72.50%, lr=['0.0009755282581475769'], tr_loss: 0.7514346837997437, val_acc: 61.50%: 100%|██████████| 71/71 [02:24<00:00,  2.04s/it]"
     ]
    },
    {
     "name": "stdout",
     "output_type": "stream",
     "text": [
      "epoch_time: 145.34665393829346 seconds\n",
      "\n",
      "\n",
      "EPOCH 106\n"
     ]
    },
    {
     "name": "stderr",
     "output_type": "stream",
     "text": [
      "\n",
      "train: 106-48/71 tr_acc: 78.12%, lr=['0.0009648882429441258'], tr_loss: 0.643559455871582, val_acc: 61.50%:  69%|██████▉   | 49/71 [01:38<00:44,  2.00s/it]  "
     ]
    },
    {
     "name": "stdout",
     "output_type": "stream",
     "text": [
      "106-49 training acc: 79.69%, lr=['0.0009648882429441258'], val_acc: 61.50%\n",
      "iter_one_train_time: 2.000804901123047 seconds, last one_val_time: 2.801675319671631 seconds\n",
      "\n"
     ]
    },
    {
     "name": "stderr",
     "output_type": "stream",
     "text": [
      "train: 106-70/71 tr_acc: 85.00%, lr=['0.0009648882429441258'], tr_loss: 0.5012363195419312, val_acc: 63.60%: 100%|██████████| 71/71 [02:24<00:00,  2.04s/it] "
     ]
    },
    {
     "name": "stdout",
     "output_type": "stream",
     "text": [
      "epoch_time: 145.0573239326477 seconds\n",
      "\n",
      "\n",
      "EPOCH 107\n"
     ]
    },
    {
     "name": "stderr",
     "output_type": "stream",
     "text": [
      "\n",
      "train: 107-48/71 tr_acc: 79.69%, lr=['0.0009524135262330099'], tr_loss: 0.5950397253036499, val_acc: 63.60%:  69%|██████▉   | 49/71 [01:38<00:44,  2.02s/it] "
     ]
    },
    {
     "name": "stdout",
     "output_type": "stream",
     "text": [
      "107-49 training acc: 79.69%, lr=['0.0009524135262330099'], val_acc: 63.60%\n",
      "iter_one_train_time: 2.0028254985809326 seconds, last one_val_time: 2.6876444816589355 seconds\n",
      "\n"
     ]
    },
    {
     "name": "stderr",
     "output_type": "stream",
     "text": [
      "train: 107-70/71 tr_acc: 77.50%, lr=['0.0009524135262330099'], tr_loss: 0.5957664251327515, val_acc: 63.50%: 100%|██████████| 71/71 [02:24<00:00,  2.04s/it]"
     ]
    },
    {
     "name": "stdout",
     "output_type": "stream",
     "text": [
      "epoch_time: 145.15837383270264 seconds\n",
      "\n",
      "\n",
      "EPOCH 108\n"
     ]
    },
    {
     "name": "stderr",
     "output_type": "stream",
     "text": [
      "\n",
      "train: 108-48/71 tr_acc: 84.38%, lr=['0.000938153340021932'], tr_loss: 0.45317405462265015, val_acc: 63.50%:  69%|██████▉   | 49/71 [01:38<00:43,  1.99s/it]"
     ]
    },
    {
     "name": "stdout",
     "output_type": "stream",
     "text": [
      "108-49 training acc: 78.91%, lr=['0.000938153340021932'], val_acc: 63.50%\n",
      "iter_one_train_time: 2.0837714672088623 seconds, last one_val_time: 2.792495012283325 seconds\n",
      "\n"
     ]
    },
    {
     "name": "stderr",
     "output_type": "stream",
     "text": [
      "train: 108-70/71 tr_acc: 70.00%, lr=['0.000938153340021932'], tr_loss: 0.7611876130104065, val_acc: 59.60%: 100%|██████████| 71/71 [02:24<00:00,  2.04s/it] "
     ]
    },
    {
     "name": "stdout",
     "output_type": "stream",
     "text": [
      "epoch_time: 144.84369540214539 seconds\n",
      "\n",
      "\n",
      "EPOCH 109\n"
     ]
    },
    {
     "name": "stderr",
     "output_type": "stream",
     "text": [
      "\n",
      "train: 109-48/71 tr_acc: 79.69%, lr=['0.0009221639627510078'], tr_loss: 0.5360310077667236, val_acc: 59.60%:  69%|██████▉   | 49/71 [01:38<00:44,  2.00s/it] "
     ]
    },
    {
     "name": "stdout",
     "output_type": "stream",
     "text": [
      "109-49 training acc: 78.91%, lr=['0.0009221639627510078'], val_acc: 59.60%\n",
      "iter_one_train_time: 1.985489845275879 seconds, last one_val_time: 2.711498498916626 seconds\n",
      "\n"
     ]
    },
    {
     "name": "stderr",
     "output_type": "stream",
     "text": [
      "train: 109-70/71 tr_acc: 77.50%, lr=['0.0009221639627510078'], tr_loss: 0.6021357774734497, val_acc: 59.50%: 100%|██████████| 71/71 [02:24<00:00,  2.03s/it] "
     ]
    },
    {
     "name": "stdout",
     "output_type": "stream",
     "text": [
      "epoch_time: 144.55878973007202 seconds\n",
      "\n",
      "\n",
      "EPOCH 110\n"
     ]
    },
    {
     "name": "stderr",
     "output_type": "stream",
     "text": [
      "\n",
      "train: 110-48/71 tr_acc: 77.34%, lr=['0.0009045084971874736'], tr_loss: 0.6035019159317017, val_acc: 59.50%:  69%|██████▉   | 49/71 [01:38<00:44,  2.00s/it] "
     ]
    },
    {
     "name": "stdout",
     "output_type": "stream",
     "text": [
      "110-49 training acc: 85.16%, lr=['0.0009045084971874736'], val_acc: 59.50%\n",
      "iter_one_train_time: 1.983893632888794 seconds, last one_val_time: 2.705033302307129 seconds\n",
      "\n"
     ]
    },
    {
     "name": "stderr",
     "output_type": "stream",
     "text": [
      "train: 110-70/71 tr_acc: 72.50%, lr=['0.0009045084971874736'], tr_loss: 0.6400958299636841, val_acc: 49.90%: 100%|██████████| 71/71 [02:24<00:00,  2.03s/it] "
     ]
    },
    {
     "name": "stdout",
     "output_type": "stream",
     "text": [
      "epoch_time: 144.53789615631104 seconds\n",
      "\n",
      "\n",
      "EPOCH 111\n"
     ]
    },
    {
     "name": "stderr",
     "output_type": "stream",
     "text": [
      "\n",
      "train: 111-48/71 tr_acc: 80.47%, lr=['0.0008852566213878944'], tr_loss: 0.5932302474975586, val_acc: 49.90%:  69%|██████▉   | 49/71 [01:38<00:43,  1.99s/it] "
     ]
    },
    {
     "name": "stdout",
     "output_type": "stream",
     "text": [
      "111-49 training acc: 82.81%, lr=['0.0008852566213878944'], val_acc: 49.90%\n",
      "iter_one_train_time: 1.9910128116607666 seconds, last one_val_time: 2.7140285968780518 seconds\n",
      "\n"
     ]
    },
    {
     "name": "stderr",
     "output_type": "stream",
     "text": [
      "train: 111-70/71 tr_acc: 65.00%, lr=['0.0008852566213878944'], tr_loss: 0.9563719630241394, val_acc: 63.30%: 100%|██████████| 71/71 [02:24<00:00,  2.03s/it] "
     ]
    },
    {
     "name": "stdout",
     "output_type": "stream",
     "text": [
      "epoch_time: 144.7239339351654 seconds\n",
      "\n",
      "\n",
      "EPOCH 112\n"
     ]
    },
    {
     "name": "stderr",
     "output_type": "stream",
     "text": [
      "\n",
      "train: 112-48/71 tr_acc: 81.25%, lr=['0.0008644843137107057'], tr_loss: 0.5782649517059326, val_acc: 63.30%:  69%|██████▉   | 49/71 [01:38<00:43,  2.00s/it] "
     ]
    },
    {
     "name": "stdout",
     "output_type": "stream",
     "text": [
      "112-49 training acc: 84.38%, lr=['0.0008644843137107057'], val_acc: 63.30%\n",
      "iter_one_train_time: 2.0743680000305176 seconds, last one_val_time: 2.8589513301849365 seconds\n",
      "\n"
     ]
    },
    {
     "name": "stderr",
     "output_type": "stream",
     "text": [
      "train: 112-70/71 tr_acc: 75.00%, lr=['0.0008644843137107057'], tr_loss: 0.6883329153060913, val_acc: 60.30%: 100%|██████████| 71/71 [02:24<00:00,  2.04s/it] "
     ]
    },
    {
     "name": "stdout",
     "output_type": "stream",
     "text": [
      "epoch_time: 145.0736939907074 seconds\n",
      "\n",
      "\n",
      "EPOCH 113\n"
     ]
    },
    {
     "name": "stderr",
     "output_type": "stream",
     "text": [
      "\n",
      "train: 113-48/71 tr_acc: 78.91%, lr=['0.0008422735529643445'], tr_loss: 0.5589567422866821, val_acc: 60.30%:  69%|██████▉   | 49/71 [01:38<00:44,  2.01s/it] "
     ]
    },
    {
     "name": "stdout",
     "output_type": "stream",
     "text": [
      "113-49 training acc: 85.16%, lr=['0.0008422735529643445'], val_acc: 60.30%\n",
      "iter_one_train_time: 1.997154712677002 seconds, last one_val_time: 2.7127819061279297 seconds\n",
      "\n"
     ]
    },
    {
     "name": "stderr",
     "output_type": "stream",
     "text": [
      "train: 113-70/71 tr_acc: 70.00%, lr=['0.0008422735529643445'], tr_loss: 0.7962216734886169, val_acc: 62.60%: 100%|██████████| 71/71 [02:24<00:00,  2.04s/it] "
     ]
    },
    {
     "name": "stdout",
     "output_type": "stream",
     "text": [
      "epoch_time: 144.86222624778748 seconds\n",
      "\n",
      "\n",
      "EPOCH 114\n"
     ]
    },
    {
     "name": "stderr",
     "output_type": "stream",
     "text": [
      "\n",
      "train: 114-48/71 tr_acc: 86.72%, lr=['0.000818711994874345'], tr_loss: 0.39482584595680237, val_acc: 62.60%:  69%|██████▉   | 49/71 [01:38<00:43,  1.99s/it]"
     ]
    },
    {
     "name": "stdout",
     "output_type": "stream",
     "text": [
      "114-49 training acc: 78.91%, lr=['0.000818711994874345'], val_acc: 62.60%\n",
      "iter_one_train_time: 2.009176254272461 seconds, last one_val_time: 2.703700065612793 seconds\n",
      "\n"
     ]
    },
    {
     "name": "stderr",
     "output_type": "stream",
     "text": [
      "train: 114-70/71 tr_acc: 87.50%, lr=['0.000818711994874345'], tr_loss: 0.3871699869632721, val_acc: 63.20%: 100%|██████████| 71/71 [02:24<00:00,  2.04s/it] "
     ]
    },
    {
     "name": "stdout",
     "output_type": "stream",
     "text": [
      "epoch_time: 144.89316296577454 seconds\n",
      "\n",
      "\n",
      "EPOCH 115\n"
     ]
    },
    {
     "name": "stderr",
     "output_type": "stream",
     "text": [
      "\n",
      "train: 115-48/71 tr_acc: 75.78%, lr=['0.0007938926261462362'], tr_loss: 0.5874215960502625, val_acc: 63.20%:  69%|██████▉   | 49/71 [01:38<00:44,  2.00s/it] "
     ]
    },
    {
     "name": "stdout",
     "output_type": "stream",
     "text": [
      "115-49 training acc: 85.16%, lr=['0.0007938926261462362'], val_acc: 63.20%\n",
      "iter_one_train_time: 1.9888639450073242 seconds, last one_val_time: 2.855870008468628 seconds\n",
      "\n"
     ]
    },
    {
     "name": "stderr",
     "output_type": "stream",
     "text": [
      "train: 115-70/71 tr_acc: 90.00%, lr=['0.0007938926261462362'], tr_loss: 0.49600133299827576, val_acc: 64.20%: 100%|██████████| 71/71 [02:27<00:00,  2.07s/it]"
     ]
    },
    {
     "name": "stdout",
     "output_type": "stream",
     "text": [
      "epoch_time: 147.351215839386 seconds\n",
      "\n",
      "\n",
      "EPOCH 116\n"
     ]
    },
    {
     "name": "stderr",
     "output_type": "stream",
     "text": [
      "\n",
      "train: 116-48/71 tr_acc: 85.94%, lr=['0.0007679133974894982'], tr_loss: 0.42044463753700256, val_acc: 64.20%:  69%|██████▉   | 49/71 [01:37<00:43,  1.98s/it]"
     ]
    },
    {
     "name": "stdout",
     "output_type": "stream",
     "text": [
      "116-49 training acc: 82.03%, lr=['0.0007679133974894982'], val_acc: 64.20%\n",
      "iter_one_train_time: 1.9705963134765625 seconds, last one_val_time: 2.855231523513794 seconds\n",
      "\n"
     ]
    },
    {
     "name": "stderr",
     "output_type": "stream",
     "text": [
      "train: 116-70/71 tr_acc: 87.50%, lr=['0.0007679133974894982'], tr_loss: 0.4974009096622467, val_acc: 65.90%: 100%|██████████| 71/71 [02:24<00:00,  2.03s/it] "
     ]
    },
    {
     "name": "stdout",
     "output_type": "stream",
     "text": [
      "epoch_time: 144.73199558258057 seconds\n",
      "\n",
      "\n",
      "EPOCH 117\n"
     ]
    },
    {
     "name": "stderr",
     "output_type": "stream",
     "text": [
      "\n",
      "train: 117-48/71 tr_acc: 89.84%, lr=['0.0007408768370508577'], tr_loss: 0.3871454894542694, val_acc: 65.90%:  69%|██████▉   | 49/71 [01:38<00:43,  1.99s/it] "
     ]
    },
    {
     "name": "stdout",
     "output_type": "stream",
     "text": [
      "117-49 training acc: 89.06%, lr=['0.0007408768370508577'], val_acc: 65.90%\n",
      "iter_one_train_time: 1.9865970611572266 seconds, last one_val_time: 2.684007406234741 seconds\n",
      "\n"
     ]
    },
    {
     "name": "stderr",
     "output_type": "stream",
     "text": [
      "train: 117-70/71 tr_acc: 87.50%, lr=['0.0007408768370508577'], tr_loss: 0.5217658281326294, val_acc: 64.70%: 100%|██████████| 71/71 [02:24<00:00,  2.03s/it] "
     ]
    },
    {
     "name": "stdout",
     "output_type": "stream",
     "text": [
      "epoch_time: 144.5274600982666 seconds\n",
      "\n",
      "\n",
      "EPOCH 118\n"
     ]
    },
    {
     "name": "stderr",
     "output_type": "stream",
     "text": [
      "\n",
      "train: 118-48/71 tr_acc: 87.50%, lr=['0.0007128896457825366'], tr_loss: 0.38509124517440796, val_acc: 64.70%:  69%|██████▉   | 49/71 [01:38<00:43,  1.99s/it]"
     ]
    },
    {
     "name": "stdout",
     "output_type": "stream",
     "text": [
      "118-49 training acc: 82.81%, lr=['0.0007128896457825366'], val_acc: 64.70%\n",
      "iter_one_train_time: 2.133100748062134 seconds, last one_val_time: 2.7605063915252686 seconds\n",
      "\n"
     ]
    },
    {
     "name": "stderr",
     "output_type": "stream",
     "text": [
      "train: 118-70/71 tr_acc: 80.00%, lr=['0.0007128896457825366'], tr_loss: 0.4971885085105896, val_acc: 64.40%: 100%|██████████| 71/71 [02:24<00:00,  2.04s/it] "
     ]
    },
    {
     "name": "stdout",
     "output_type": "stream",
     "text": [
      "epoch_time: 145.14728689193726 seconds\n",
      "\n",
      "\n",
      "EPOCH 119\n"
     ]
    },
    {
     "name": "stderr",
     "output_type": "stream",
     "text": [
      "\n",
      "train: 119-48/71 tr_acc: 83.59%, lr=['0.0006840622763423395'], tr_loss: 0.41622108221054077, val_acc: 64.40%:  69%|██████▉   | 49/71 [01:38<00:44,  2.01s/it]"
     ]
    },
    {
     "name": "stdout",
     "output_type": "stream",
     "text": [
      "119-49 training acc: 93.75%, lr=['0.0006840622763423395'], val_acc: 64.40%\n",
      "iter_one_train_time: 2.002197504043579 seconds, last one_val_time: 2.6794655323028564 seconds\n",
      "\n"
     ]
    },
    {
     "name": "stderr",
     "output_type": "stream",
     "text": [
      "train: 119-70/71 tr_acc: 82.50%, lr=['0.0006840622763423395'], tr_loss: 0.49836596846580505, val_acc: 62.90%: 100%|██████████| 71/71 [02:24<00:00,  2.04s/it]"
     ]
    },
    {
     "name": "stdout",
     "output_type": "stream",
     "text": [
      "epoch_time: 145.00685501098633 seconds\n",
      "\n",
      "\n",
      "EPOCH 120\n"
     ]
    },
    {
     "name": "stderr",
     "output_type": "stream",
     "text": [
      "\n",
      "train: 120-48/71 tr_acc: 83.59%, lr=['0.0006545084971874743'], tr_loss: 0.5245593786239624, val_acc: 62.90%:  69%|██████▉   | 49/71 [01:38<00:43,  1.99s/it] "
     ]
    },
    {
     "name": "stdout",
     "output_type": "stream",
     "text": [
      "120-49 training acc: 88.28%, lr=['0.0006545084971874743'], val_acc: 62.90%\n",
      "iter_one_train_time: 1.987119197845459 seconds, last one_val_time: 2.7385945320129395 seconds\n",
      "\n"
     ]
    },
    {
     "name": "stderr",
     "output_type": "stream",
     "text": [
      "train: 120-70/71 tr_acc: 85.00%, lr=['0.0006545084971874743'], tr_loss: 0.4518214762210846, val_acc: 62.70%: 100%|██████████| 71/71 [02:24<00:00,  2.03s/it] "
     ]
    },
    {
     "name": "stdout",
     "output_type": "stream",
     "text": [
      "epoch_time: 144.59123730659485 seconds\n",
      "\n",
      "\n",
      "EPOCH 121\n"
     ]
    },
    {
     "name": "stderr",
     "output_type": "stream",
     "text": [
      "\n",
      "train: 121-48/71 tr_acc: 82.03%, lr=['0.0006243449435824273'], tr_loss: 0.4997079372406006, val_acc: 62.70%:  69%|██████▉   | 49/71 [01:39<00:44,  2.01s/it] "
     ]
    },
    {
     "name": "stdout",
     "output_type": "stream",
     "text": [
      "121-49 training acc: 86.72%, lr=['0.0006243449435824273'], val_acc: 62.70%\n",
      "iter_one_train_time: 1.9863841533660889 seconds, last one_val_time: 2.800034284591675 seconds\n",
      "\n"
     ]
    },
    {
     "name": "stderr",
     "output_type": "stream",
     "text": [
      "train: 121-70/71 tr_acc: 85.00%, lr=['0.0006243449435824273'], tr_loss: 0.5979996919631958, val_acc: 63.80%: 100%|██████████| 71/71 [02:25<00:00,  2.05s/it] "
     ]
    },
    {
     "name": "stdout",
     "output_type": "stream",
     "text": [
      "epoch_time: 145.5600607395172 seconds\n",
      "\n",
      "\n",
      "EPOCH 122\n"
     ]
    },
    {
     "name": "stderr",
     "output_type": "stream",
     "text": [
      "\n",
      "train: 122-48/71 tr_acc: 84.38%, lr=['0.0005936906572928624'], tr_loss: 0.43432748317718506, val_acc: 63.80%:  69%|██████▉   | 49/71 [01:38<00:43,  1.99s/it]"
     ]
    },
    {
     "name": "stdout",
     "output_type": "stream",
     "text": [
      "122-49 training acc: 91.41%, lr=['0.0005936906572928624'], val_acc: 63.80%\n",
      "iter_one_train_time: 1.9829492568969727 seconds, last one_val_time: 2.83296799659729 seconds\n",
      "\n"
     ]
    },
    {
     "name": "stderr",
     "output_type": "stream",
     "text": [
      "train: 122-70/71 tr_acc: 82.50%, lr=['0.0005936906572928624'], tr_loss: 0.4365152418613434, val_acc: 62.10%: 100%|██████████| 71/71 [02:24<00:00,  2.03s/it] "
     ]
    },
    {
     "name": "stdout",
     "output_type": "stream",
     "text": [
      "epoch_time: 144.7679088115692 seconds\n",
      "\n",
      "\n",
      "EPOCH 123\n"
     ]
    },
    {
     "name": "stderr",
     "output_type": "stream",
     "text": [
      "\n",
      "train: 123-48/71 tr_acc: 89.06%, lr=['0.0005626666167821523'], tr_loss: 0.3527050316333771, val_acc: 62.10%:  69%|██████▉   | 49/71 [01:38<00:44,  2.01s/it] "
     ]
    },
    {
     "name": "stdout",
     "output_type": "stream",
     "text": [
      "123-49 training acc: 91.41%, lr=['0.0005626666167821523'], val_acc: 62.10%\n",
      "iter_one_train_time: 1.9825434684753418 seconds, last one_val_time: 2.724646806716919 seconds\n",
      "\n"
     ]
    },
    {
     "name": "stderr",
     "output_type": "stream",
     "text": [
      "train: 123-70/71 tr_acc: 80.00%, lr=['0.0005626666167821523'], tr_loss: 0.46839532256126404, val_acc: 61.30%: 100%|██████████| 71/71 [02:24<00:00,  2.04s/it]"
     ]
    },
    {
     "name": "stdout",
     "output_type": "stream",
     "text": [
      "epoch_time: 145.20097160339355 seconds\n",
      "\n",
      "\n",
      "EPOCH 124\n"
     ]
    },
    {
     "name": "stderr",
     "output_type": "stream",
     "text": [
      "\n",
      "train: 124-48/71 tr_acc: 85.16%, lr=['0.0005313952597646571'], tr_loss: 0.47944778203964233, val_acc: 61.30%:  69%|██████▉   | 49/71 [01:38<00:43,  1.99s/it]"
     ]
    },
    {
     "name": "stdout",
     "output_type": "stream",
     "text": [
      "124-49 training acc: 89.06%, lr=['0.0005313952597646571'], val_acc: 61.30%\n",
      "iter_one_train_time: 2.0639591217041016 seconds, last one_val_time: 2.818748712539673 seconds\n",
      "\n"
     ]
    },
    {
     "name": "stderr",
     "output_type": "stream",
     "text": [
      "train: 124-70/71 tr_acc: 85.00%, lr=['0.0005313952597646571'], tr_loss: 0.4201783537864685, val_acc: 64.20%: 100%|██████████| 71/71 [02:24<00:00,  2.03s/it] "
     ]
    },
    {
     "name": "stdout",
     "output_type": "stream",
     "text": [
      "epoch_time: 144.64329862594604 seconds\n",
      "\n",
      "\n",
      "EPOCH 125\n"
     ]
    },
    {
     "name": "stderr",
     "output_type": "stream",
     "text": [
      "\n",
      "train: 125-48/71 tr_acc: 89.06%, lr=['0.0005000000000000006'], tr_loss: 0.328792929649353, val_acc: 64.20%:  69%|██████▉   | 49/71 [01:38<00:43,  1.99s/it]  "
     ]
    },
    {
     "name": "stdout",
     "output_type": "stream",
     "text": [
      "125-49 training acc: 83.59%, lr=['0.0005000000000000006'], val_acc: 64.20%\n",
      "iter_one_train_time: 2.0156965255737305 seconds, last one_val_time: 2.700854539871216 seconds\n",
      "\n"
     ]
    },
    {
     "name": "stderr",
     "output_type": "stream",
     "text": [
      "train: 125-70/71 tr_acc: 92.50%, lr=['0.0005000000000000006'], tr_loss: 0.3786155581474304, val_acc: 65.30%: 100%|██████████| 71/71 [02:24<00:00,  2.04s/it] "
     ]
    },
    {
     "name": "stdout",
     "output_type": "stream",
     "text": [
      "epoch_time: 145.05968523025513 seconds\n",
      "\n",
      "\n",
      "EPOCH 126\n"
     ]
    },
    {
     "name": "stderr",
     "output_type": "stream",
     "text": [
      "\n",
      "train: 126-48/71 tr_acc: 90.62%, lr=['0.00046860474023534325'], tr_loss: 0.30516740679740906, val_acc: 65.30%:  69%|██████▉   | 49/71 [01:38<00:44,  2.01s/it]"
     ]
    },
    {
     "name": "stdout",
     "output_type": "stream",
     "text": [
      "126-49 training acc: 84.38%, lr=['0.00046860474023534325'], val_acc: 65.30%\n",
      "iter_one_train_time: 1.9762670993804932 seconds, last one_val_time: 2.65549898147583 seconds\n",
      "\n"
     ]
    },
    {
     "name": "stderr",
     "output_type": "stream",
     "text": [
      "train: 126-70/71 tr_acc: 92.50%, lr=['0.00046860474023534325'], tr_loss: 0.30507761240005493, val_acc: 67.20%: 100%|██████████| 71/71 [02:25<00:00,  2.05s/it]"
     ]
    },
    {
     "name": "stdout",
     "output_type": "stream",
     "text": [
      "epoch_time: 145.56316423416138 seconds\n",
      "\n",
      "\n",
      "EPOCH 127\n"
     ]
    },
    {
     "name": "stderr",
     "output_type": "stream",
     "text": [
      "\n",
      "train: 127-48/71 tr_acc: 87.50%, lr=['0.00043733338321784795'], tr_loss: 0.45511242747306824, val_acc: 67.20%:  69%|██████▉   | 49/71 [01:38<00:44,  2.02s/it]"
     ]
    },
    {
     "name": "stdout",
     "output_type": "stream",
     "text": [
      "127-49 training acc: 90.62%, lr=['0.00043733338321784795'], val_acc: 67.20%\n",
      "iter_one_train_time: 1.988227128982544 seconds, last one_val_time: 2.627354383468628 seconds\n",
      "\n"
     ]
    },
    {
     "name": "stderr",
     "output_type": "stream",
     "text": [
      "train: 127-70/71 tr_acc: 92.50%, lr=['0.00043733338321784795'], tr_loss: 0.2249784767627716, val_acc: 63.00%: 100%|██████████| 71/71 [02:24<00:00,  2.04s/it] "
     ]
    },
    {
     "name": "stdout",
     "output_type": "stream",
     "text": [
      "epoch_time: 145.02783107757568 seconds\n",
      "\n",
      "\n",
      "EPOCH 128\n"
     ]
    },
    {
     "name": "stderr",
     "output_type": "stream",
     "text": [
      "\n",
      "train: 128-48/71 tr_acc: 90.62%, lr=['0.0004063093427071375'], tr_loss: 0.3438846468925476, val_acc: 63.00%:  69%|██████▉   | 49/71 [01:38<00:43,  1.99s/it] "
     ]
    },
    {
     "name": "stdout",
     "output_type": "stream",
     "text": [
      "128-49 training acc: 85.94%, lr=['0.0004063093427071375'], val_acc: 63.00%\n",
      "iter_one_train_time: 2.0858185291290283 seconds, last one_val_time: 2.733381986618042 seconds\n",
      "\n"
     ]
    },
    {
     "name": "stderr",
     "output_type": "stream",
     "text": [
      "train: 128-70/71 tr_acc: 92.50%, lr=['0.0004063093427071375'], tr_loss: 0.30705708265304565, val_acc: 63.50%: 100%|██████████| 71/71 [02:25<00:00,  2.04s/it]"
     ]
    },
    {
     "name": "stdout",
     "output_type": "stream",
     "text": [
      "epoch_time: 145.34670639038086 seconds\n",
      "\n",
      "\n",
      "EPOCH 129\n"
     ]
    },
    {
     "name": "stderr",
     "output_type": "stream",
     "text": [
      "\n",
      "train: 129-48/71 tr_acc: 85.16%, lr=['0.0003756550564175726'], tr_loss: 0.42498186230659485, val_acc: 63.50%:  69%|██████▉   | 49/71 [01:38<00:43,  2.00s/it]"
     ]
    },
    {
     "name": "stdout",
     "output_type": "stream",
     "text": [
      "129-49 training acc: 89.06%, lr=['0.0003756550564175726'], val_acc: 63.50%\n",
      "iter_one_train_time: 2.004051685333252 seconds, last one_val_time: 2.686155319213867 seconds\n",
      "\n"
     ]
    },
    {
     "name": "stderr",
     "output_type": "stream",
     "text": [
      "train: 129-70/71 tr_acc: 82.50%, lr=['0.0003756550564175726'], tr_loss: 0.42851001024246216, val_acc: 65.70%: 100%|██████████| 71/71 [02:24<00:00,  2.03s/it]"
     ]
    },
    {
     "name": "stdout",
     "output_type": "stream",
     "text": [
      "epoch_time: 144.642737865448 seconds\n",
      "\n",
      "\n",
      "EPOCH 130\n"
     ]
    },
    {
     "name": "stderr",
     "output_type": "stream",
     "text": [
      "\n",
      "train: 130-48/71 tr_acc: 87.50%, lr=['0.0003454915028125265'], tr_loss: 0.35792219638824463, val_acc: 65.70%:  69%|██████▉   | 49/71 [01:38<00:44,  2.01s/it]"
     ]
    },
    {
     "name": "stdout",
     "output_type": "stream",
     "text": [
      "130-49 training acc: 83.59%, lr=['0.0003454915028125265'], val_acc: 65.70%\n",
      "iter_one_train_time: 1.9847874641418457 seconds, last one_val_time: 2.689246892929077 seconds\n",
      "\n"
     ]
    },
    {
     "name": "stderr",
     "output_type": "stream",
     "text": [
      "train: 130-70/71 tr_acc: 85.00%, lr=['0.0003454915028125265'], tr_loss: 0.40000590682029724, val_acc: 65.50%: 100%|██████████| 71/71 [02:24<00:00,  2.04s/it]"
     ]
    },
    {
     "name": "stdout",
     "output_type": "stream",
     "text": [
      "epoch_time: 145.34780621528625 seconds\n",
      "\n",
      "\n",
      "EPOCH 131\n"
     ]
    },
    {
     "name": "stderr",
     "output_type": "stream",
     "text": [
      "\n",
      "train: 131-48/71 tr_acc: 90.62%, lr=['0.00031593772365766143'], tr_loss: 0.30980384349823, val_acc: 65.50%:  69%|██████▉   | 49/71 [01:38<00:43,  2.00s/it]   "
     ]
    },
    {
     "name": "stdout",
     "output_type": "stream",
     "text": [
      "131-49 training acc: 89.84%, lr=['0.00031593772365766143'], val_acc: 65.50%\n",
      "iter_one_train_time: 2.0832769870758057 seconds, last one_val_time: 2.847663640975952 seconds\n",
      "\n"
     ]
    },
    {
     "name": "stderr",
     "output_type": "stream",
     "text": [
      "train: 131-70/71 tr_acc: 85.00%, lr=['0.00031593772365766143'], tr_loss: 0.5361362099647522, val_acc: 67.50%: 100%|██████████| 71/71 [02:25<00:00,  2.05s/it] "
     ]
    },
    {
     "name": "stdout",
     "output_type": "stream",
     "text": [
      "epoch_time: 145.56962704658508 seconds\n",
      "\n",
      "\n",
      "EPOCH 132\n"
     ]
    },
    {
     "name": "stderr",
     "output_type": "stream",
     "text": [
      "\n",
      "train: 132-48/71 tr_acc: 92.19%, lr=['0.0002871103542174634'], tr_loss: 0.2837402820587158, val_acc: 67.50%:  69%|██████▉   | 49/71 [01:38<00:44,  2.02s/it] "
     ]
    },
    {
     "name": "stdout",
     "output_type": "stream",
     "text": [
      "132-49 training acc: 92.97%, lr=['0.0002871103542174634'], val_acc: 67.50%\n",
      "iter_one_train_time: 1.990199327468872 seconds, last one_val_time: 2.6720833778381348 seconds\n",
      "\n"
     ]
    },
    {
     "name": "stderr",
     "output_type": "stream",
     "text": [
      "train: 132-70/71 tr_acc: 87.50%, lr=['0.0002871103542174634'], tr_loss: 0.3716462254524231, val_acc: 66.40%: 100%|██████████| 71/71 [02:25<00:00,  2.05s/it] "
     ]
    },
    {
     "name": "stdout",
     "output_type": "stream",
     "text": [
      "epoch_time: 145.56511187553406 seconds\n",
      "\n",
      "\n",
      "EPOCH 133\n"
     ]
    },
    {
     "name": "stderr",
     "output_type": "stream",
     "text": [
      "\n",
      "train: 133-48/71 tr_acc: 90.62%, lr=['0.00025912316294914224'], tr_loss: 0.33790257573127747, val_acc: 66.40%:  69%|██████▉   | 49/71 [01:38<00:43,  1.99s/it]"
     ]
    },
    {
     "name": "stdout",
     "output_type": "stream",
     "text": [
      "133-49 training acc: 93.75%, lr=['0.00025912316294914224'], val_acc: 66.40%\n",
      "iter_one_train_time: 1.9835894107818604 seconds, last one_val_time: 2.7906765937805176 seconds\n",
      "\n"
     ]
    },
    {
     "name": "stderr",
     "output_type": "stream",
     "text": [
      "train: 133-70/71 tr_acc: 87.50%, lr=['0.00025912316294914224'], tr_loss: 0.44514745473861694, val_acc: 66.40%: 100%|██████████| 71/71 [02:24<00:00,  2.03s/it]"
     ]
    },
    {
     "name": "stdout",
     "output_type": "stream",
     "text": [
      "epoch_time: 144.38086199760437 seconds\n",
      "\n",
      "\n",
      "EPOCH 134\n"
     ]
    },
    {
     "name": "stderr",
     "output_type": "stream",
     "text": [
      "\n",
      "train: 134-48/71 tr_acc: 92.19%, lr=['0.00023208660251050172'], tr_loss: 0.2714020311832428, val_acc: 66.40%:  69%|██████▉   | 49/71 [01:38<00:43,  2.00s/it] "
     ]
    },
    {
     "name": "stdout",
     "output_type": "stream",
     "text": [
      "134-49 training acc: 92.97%, lr=['0.00023208660251050172'], val_acc: 66.40%\n",
      "iter_one_train_time: 1.98472261428833 seconds, last one_val_time: 2.855217218399048 seconds\n",
      "\n"
     ]
    },
    {
     "name": "stderr",
     "output_type": "stream",
     "text": [
      "train: 134-70/71 tr_acc: 92.50%, lr=['0.00023208660251050172'], tr_loss: 0.2492162436246872, val_acc: 66.00%: 100%|██████████| 71/71 [02:24<00:00,  2.04s/it] "
     ]
    },
    {
     "name": "stdout",
     "output_type": "stream",
     "text": [
      "epoch_time: 144.89554166793823 seconds\n",
      "\n",
      "\n",
      "EPOCH 135\n"
     ]
    },
    {
     "name": "stderr",
     "output_type": "stream",
     "text": [
      "\n",
      "train: 135-48/71 tr_acc: 92.97%, lr=['0.0002061073738537636'], tr_loss: 0.2466108798980713, val_acc: 66.00%:  69%|██████▉   | 49/71 [01:38<00:44,  2.00s/it] "
     ]
    },
    {
     "name": "stdout",
     "output_type": "stream",
     "text": [
      "135-49 training acc: 87.50%, lr=['0.0002061073738537636'], val_acc: 66.00%\n",
      "iter_one_train_time: 2.0031914710998535 seconds, last one_val_time: 2.7666218280792236 seconds\n",
      "\n"
     ]
    },
    {
     "name": "stderr",
     "output_type": "stream",
     "text": [
      "train: 135-70/71 tr_acc: 85.00%, lr=['0.0002061073738537636'], tr_loss: 0.4654962420463562, val_acc: 67.20%: 100%|██████████| 71/71 [02:24<00:00,  2.04s/it] "
     ]
    },
    {
     "name": "stdout",
     "output_type": "stream",
     "text": [
      "epoch_time: 144.80883359909058 seconds\n",
      "\n",
      "\n",
      "EPOCH 136\n"
     ]
    },
    {
     "name": "stderr",
     "output_type": "stream",
     "text": [
      "\n",
      "train: 136-48/71 tr_acc: 92.19%, lr=['0.00018128800512565477'], tr_loss: 0.24553121626377106, val_acc: 67.20%:  69%|██████▉   | 49/71 [01:38<00:44,  2.01s/it]"
     ]
    },
    {
     "name": "stdout",
     "output_type": "stream",
     "text": [
      "136-49 training acc: 92.19%, lr=['0.00018128800512565477'], val_acc: 67.20%\n",
      "iter_one_train_time: 1.9829270839691162 seconds, last one_val_time: 2.7198326587677 seconds\n",
      "\n"
     ]
    },
    {
     "name": "stderr",
     "output_type": "stream",
     "text": [
      "train: 136-70/71 tr_acc: 97.50%, lr=['0.00018128800512565477'], tr_loss: 0.2619001269340515, val_acc: 66.00%: 100%|██████████| 71/71 [02:24<00:00,  2.04s/it] "
     ]
    },
    {
     "name": "stdout",
     "output_type": "stream",
     "text": [
      "epoch_time: 145.14128851890564 seconds\n",
      "\n",
      "\n",
      "EPOCH 137\n"
     ]
    },
    {
     "name": "stderr",
     "output_type": "stream",
     "text": [
      "\n",
      "train: 137-48/71 tr_acc: 93.75%, lr=['0.00015772644703565544'], tr_loss: 0.23492123186588287, val_acc: 66.00%:  69%|██████▉   | 49/71 [01:38<00:44,  2.00s/it]"
     ]
    },
    {
     "name": "stdout",
     "output_type": "stream",
     "text": [
      "137-49 training acc: 90.62%, lr=['0.00015772644703565544'], val_acc: 66.00%\n",
      "iter_one_train_time: 2.0849192142486572 seconds, last one_val_time: 2.836824893951416 seconds\n",
      "\n"
     ]
    },
    {
     "name": "stderr",
     "output_type": "stream",
     "text": [
      "train: 137-70/71 tr_acc: 87.50%, lr=['0.00015772644703565544'], tr_loss: 0.382327139377594, val_acc: 66.30%: 100%|██████████| 71/71 [02:24<00:00,  2.04s/it]  "
     ]
    },
    {
     "name": "stdout",
     "output_type": "stream",
     "text": [
      "epoch_time: 144.9870421886444 seconds\n",
      "\n",
      "\n",
      "EPOCH 138\n"
     ]
    },
    {
     "name": "stderr",
     "output_type": "stream",
     "text": [
      "\n",
      "train: 138-48/71 tr_acc: 90.62%, lr=['0.00013551568628929414'], tr_loss: 0.33073487877845764, val_acc: 66.30%:  69%|██████▉   | 49/71 [01:38<00:43,  2.00s/it]"
     ]
    },
    {
     "name": "stdout",
     "output_type": "stream",
     "text": [
      "138-49 training acc: 92.97%, lr=['0.00013551568628929414'], val_acc: 66.30%\n",
      "iter_one_train_time: 1.9861347675323486 seconds, last one_val_time: 2.736532688140869 seconds\n",
      "\n"
     ]
    },
    {
     "name": "stderr",
     "output_type": "stream",
     "text": [
      "train: 138-70/71 tr_acc: 92.50%, lr=['0.00013551568628929414'], tr_loss: 0.2878939211368561, val_acc: 65.80%: 100%|██████████| 71/71 [02:24<00:00,  2.03s/it] "
     ]
    },
    {
     "name": "stdout",
     "output_type": "stream",
     "text": [
      "epoch_time: 144.507230758667 seconds\n",
      "\n",
      "\n",
      "EPOCH 139\n"
     ]
    },
    {
     "name": "stderr",
     "output_type": "stream",
     "text": [
      "\n",
      "train: 139-48/71 tr_acc: 93.75%, lr=['0.0001147433786121054'], tr_loss: 0.24061337113380432, val_acc: 65.80%:  69%|██████▉   | 49/71 [01:38<00:43,  2.00s/it]"
     ]
    },
    {
     "name": "stdout",
     "output_type": "stream",
     "text": [
      "139-49 training acc: 86.72%, lr=['0.0001147433786121054'], val_acc: 65.80%\n",
      "iter_one_train_time: 1.9990978240966797 seconds, last one_val_time: 2.6425983905792236 seconds\n",
      "\n"
     ]
    },
    {
     "name": "stderr",
     "output_type": "stream",
     "text": [
      "train: 139-70/71 tr_acc: 90.00%, lr=['0.0001147433786121054'], tr_loss: 0.4509655833244324, val_acc: 66.20%: 100%|██████████| 71/71 [02:24<00:00,  2.04s/it] "
     ]
    },
    {
     "name": "stdout",
     "output_type": "stream",
     "text": [
      "epoch_time: 144.86502695083618 seconds\n",
      "\n",
      "\n",
      "EPOCH 140\n"
     ]
    },
    {
     "name": "stderr",
     "output_type": "stream",
     "text": [
      "\n",
      "train: 140-48/71 tr_acc: 89.84%, lr=['9.54915028125264e-05'], tr_loss: 0.3035547137260437, val_acc: 66.20%:  69%|██████▉   | 49/71 [01:38<00:43,  1.99s/it] "
     ]
    },
    {
     "name": "stdout",
     "output_type": "stream",
     "text": [
      "140-49 training acc: 87.50%, lr=['9.54915028125264e-05'], val_acc: 66.20%\n",
      "iter_one_train_time: 2.0096349716186523 seconds, last one_val_time: 2.7128801345825195 seconds\n",
      "\n"
     ]
    },
    {
     "name": "stderr",
     "output_type": "stream",
     "text": [
      "train: 140-70/71 tr_acc: 97.50%, lr=['9.54915028125264e-05'], tr_loss: 0.25708645582199097, val_acc: 66.80%: 100%|██████████| 71/71 [02:24<00:00,  2.03s/it]"
     ]
    },
    {
     "name": "stdout",
     "output_type": "stream",
     "text": [
      "epoch_time: 144.59849214553833 seconds\n",
      "\n",
      "\n",
      "EPOCH 141\n"
     ]
    },
    {
     "name": "stderr",
     "output_type": "stream",
     "text": [
      "\n",
      "train: 141-48/71 tr_acc: 92.19%, lr=['7.783603724899265e-05'], tr_loss: 0.318254292011261, val_acc: 66.80%:  69%|██████▉   | 49/71 [01:39<00:44,  2.00s/it]  "
     ]
    },
    {
     "name": "stdout",
     "output_type": "stream",
     "text": [
      "141-49 training acc: 95.31%, lr=['7.783603724899265e-05'], val_acc: 66.80%\n",
      "iter_one_train_time: 2.1110851764678955 seconds, last one_val_time: 2.7585055828094482 seconds\n",
      "\n"
     ]
    },
    {
     "name": "stderr",
     "output_type": "stream",
     "text": [
      "train: 141-70/71 tr_acc: 80.00%, lr=['7.783603724899265e-05'], tr_loss: 0.4612293839454651, val_acc: 67.50%: 100%|██████████| 71/71 [02:25<00:00,  2.04s/it] "
     ]
    },
    {
     "name": "stdout",
     "output_type": "stream",
     "text": [
      "epoch_time: 145.37231469154358 seconds\n",
      "\n",
      "\n",
      "EPOCH 142\n"
     ]
    },
    {
     "name": "stderr",
     "output_type": "stream",
     "text": [
      "\n",
      "train: 142-48/71 tr_acc: 90.62%, lr=['6.184665997806805e-05'], tr_loss: 0.2798967957496643, val_acc: 67.50%:  69%|██████▉   | 49/71 [01:38<00:43,  1.99s/it] "
     ]
    },
    {
     "name": "stdout",
     "output_type": "stream",
     "text": [
      "142-49 training acc: 91.41%, lr=['6.184665997806805e-05'], val_acc: 67.50%\n",
      "iter_one_train_time: 1.9709062576293945 seconds, last one_val_time: 2.6487059593200684 seconds\n",
      "\n"
     ]
    },
    {
     "name": "stderr",
     "output_type": "stream",
     "text": [
      "train: 142-70/71 tr_acc: 95.00%, lr=['6.184665997806805e-05'], tr_loss: 0.2229212522506714, val_acc: 66.30%: 100%|██████████| 71/71 [02:24<00:00,  2.04s/it] "
     ]
    },
    {
     "name": "stdout",
     "output_type": "stream",
     "text": [
      "epoch_time: 144.97055053710938 seconds\n",
      "\n",
      "\n",
      "EPOCH 143\n"
     ]
    },
    {
     "name": "stderr",
     "output_type": "stream",
     "text": [
      "\n",
      "train: 143-48/71 tr_acc: 89.06%, lr=['4.758647376699016e-05'], tr_loss: 0.339080810546875, val_acc: 66.30%:  69%|██████▉   | 49/71 [01:38<00:44,  2.01s/it]  "
     ]
    },
    {
     "name": "stdout",
     "output_type": "stream",
     "text": [
      "143-49 training acc: 92.19%, lr=['4.758647376699016e-05'], val_acc: 66.30%\n",
      "iter_one_train_time: 1.9798274040222168 seconds, last one_val_time: 2.776397705078125 seconds\n",
      "\n"
     ]
    },
    {
     "name": "stderr",
     "output_type": "stream",
     "text": [
      "train: 143-70/71 tr_acc: 92.50%, lr=['4.758647376699016e-05'], tr_loss: 0.38519495725631714, val_acc: 66.90%: 100%|██████████| 71/71 [02:24<00:00,  2.04s/it]"
     ]
    },
    {
     "name": "stdout",
     "output_type": "stream",
     "text": [
      "epoch_time: 145.05250334739685 seconds\n",
      "\n",
      "\n",
      "EPOCH 144\n"
     ]
    },
    {
     "name": "stderr",
     "output_type": "stream",
     "text": [
      "\n",
      "train: 144-48/71 tr_acc: 91.41%, lr=['3.511175705587427e-05'], tr_loss: 0.2753407955169678, val_acc: 66.90%:  69%|██████▉   | 49/71 [01:38<00:43,  1.99s/it] "
     ]
    },
    {
     "name": "stdout",
     "output_type": "stream",
     "text": [
      "144-49 training acc: 89.84%, lr=['3.511175705587427e-05'], val_acc: 66.90%\n",
      "iter_one_train_time: 2.1365368366241455 seconds, last one_val_time: 2.7873694896698 seconds\n",
      "\n"
     ]
    },
    {
     "name": "stderr",
     "output_type": "stream",
     "text": [
      "train: 144-70/71 tr_acc: 92.50%, lr=['3.511175705587427e-05'], tr_loss: 0.26887577772140503, val_acc: 66.80%: 100%|██████████| 71/71 [02:24<00:00,  2.04s/it]"
     ]
    },
    {
     "name": "stdout",
     "output_type": "stream",
     "text": [
      "epoch_time: 144.99389052391052 seconds\n",
      "\n",
      "\n",
      "EPOCH 145\n"
     ]
    },
    {
     "name": "stderr",
     "output_type": "stream",
     "text": [
      "\n",
      "train: 145-48/71 tr_acc: 89.84%, lr=['2.447174185242329e-05'], tr_loss: 0.3704264461994171, val_acc: 66.80%:  69%|██████▉   | 49/71 [01:38<00:43,  2.00s/it] "
     ]
    },
    {
     "name": "stdout",
     "output_type": "stream",
     "text": [
      "145-49 training acc: 96.09%, lr=['2.447174185242329e-05'], val_acc: 66.80%\n",
      "iter_one_train_time: 1.9934484958648682 seconds, last one_val_time: 2.670494794845581 seconds\n",
      "\n"
     ]
    },
    {
     "name": "stderr",
     "output_type": "stream",
     "text": [
      "train: 145-70/71 tr_acc: 90.00%, lr=['2.447174185242329e-05'], tr_loss: 0.4747287631034851, val_acc: 67.80%: 100%|██████████| 71/71 [02:25<00:00,  2.05s/it] "
     ]
    },
    {
     "name": "stdout",
     "output_type": "stream",
     "text": [
      "epoch_time: 146.0271351337433 seconds\n",
      "\n",
      "\n",
      "EPOCH 146\n"
     ]
    },
    {
     "name": "stderr",
     "output_type": "stream",
     "text": [
      "\n",
      "train: 146-48/71 tr_acc: 91.41%, lr=['1.5708419435684518e-05'], tr_loss: 0.2986132800579071, val_acc: 67.80%:  69%|██████▉   | 49/71 [01:38<00:43,  1.99s/it] "
     ]
    },
    {
     "name": "stdout",
     "output_type": "stream",
     "text": [
      "146-49 training acc: 92.19%, lr=['1.5708419435684518e-05'], val_acc: 67.80%\n",
      "iter_one_train_time: 2.004150867462158 seconds, last one_val_time: 2.7197070121765137 seconds\n",
      "\n"
     ]
    },
    {
     "name": "stderr",
     "output_type": "stream",
     "text": [
      "train: 146-70/71 tr_acc: 92.50%, lr=['1.5708419435684518e-05'], tr_loss: 0.24487712979316711, val_acc: 67.60%: 100%|██████████| 71/71 [02:24<00:00,  2.04s/it]"
     ]
    },
    {
     "name": "stdout",
     "output_type": "stream",
     "text": [
      "epoch_time: 144.83532404899597 seconds\n",
      "\n",
      "\n",
      "EPOCH 147\n"
     ]
    },
    {
     "name": "stderr",
     "output_type": "stream",
     "text": [
      "\n",
      "train: 147-48/71 tr_acc: 87.50%, lr=['8.856374635655583e-06'], tr_loss: 0.35804733633995056, val_acc: 67.60%:  69%|██████▉   | 49/71 [01:38<00:44,  2.00s/it]"
     ]
    },
    {
     "name": "stdout",
     "output_type": "stream",
     "text": [
      "147-49 training acc: 89.84%, lr=['8.856374635655583e-06'], val_acc: 67.60%\n",
      "iter_one_train_time: 1.9721815586090088 seconds, last one_val_time: 2.7966182231903076 seconds\n",
      "\n"
     ]
    },
    {
     "name": "stderr",
     "output_type": "stream",
     "text": [
      "train: 147-70/71 tr_acc: 95.00%, lr=['8.856374635655583e-06'], tr_loss: 0.22360415756702423, val_acc: 66.80%: 100%|██████████| 71/71 [02:24<00:00,  2.04s/it]"
     ]
    },
    {
     "name": "stdout",
     "output_type": "stream",
     "text": [
      "epoch_time: 145.19380474090576 seconds\n",
      "\n",
      "\n",
      "EPOCH 148\n"
     ]
    },
    {
     "name": "stderr",
     "output_type": "stream",
     "text": [
      "\n",
      "train: 148-48/71 tr_acc: 89.06%, lr=['3.942649342761062e-06'], tr_loss: 0.27312982082366943, val_acc: 66.80%:  69%|██████▉   | 49/71 [01:38<00:44,  2.00s/it]"
     ]
    },
    {
     "name": "stdout",
     "output_type": "stream",
     "text": [
      "148-49 training acc: 93.75%, lr=['3.942649342761062e-06'], val_acc: 66.80%\n",
      "iter_one_train_time: 1.9893958568572998 seconds, last one_val_time: 2.7913641929626465 seconds\n",
      "\n"
     ]
    },
    {
     "name": "stderr",
     "output_type": "stream",
     "text": [
      "train: 148-70/71 tr_acc: 87.50%, lr=['3.942649342761062e-06'], tr_loss: 0.4893870949745178, val_acc: 67.40%: 100%|██████████| 71/71 [02:24<00:00,  2.04s/it] "
     ]
    },
    {
     "name": "stdout",
     "output_type": "stream",
     "text": [
      "epoch_time: 144.89299774169922 seconds\n",
      "\n",
      "\n",
      "EPOCH 149\n"
     ]
    },
    {
     "name": "stderr",
     "output_type": "stream",
     "text": [
      "\n",
      "train: 149-48/71 tr_acc: 92.97%, lr=['9.866357858642206e-07'], tr_loss: 0.2717735171318054, val_acc: 67.40%:  69%|██████▉   | 49/71 [01:38<00:43,  2.00s/it] "
     ]
    },
    {
     "name": "stdout",
     "output_type": "stream",
     "text": [
      "149-49 training acc: 93.75%, lr=['9.866357858642206e-07'], val_acc: 67.40%\n",
      "iter_one_train_time: 1.973017930984497 seconds, last one_val_time: 2.7403464317321777 seconds\n",
      "\n"
     ]
    },
    {
     "name": "stderr",
     "output_type": "stream",
     "text": [
      "train: 149-70/71 tr_acc: 80.00%, lr=['9.866357858642206e-07'], tr_loss: 0.5039122104644775, val_acc: 67.90%: 100%|██████████| 71/71 [02:25<00:00,  2.05s/it] "
     ]
    },
    {
     "name": "stdout",
     "output_type": "stream",
     "text": [
      "epoch_time: 146.05807423591614 seconds\n",
      "\n",
      "\n",
      "EPOCH 150\n"
     ]
    },
    {
     "name": "stderr",
     "output_type": "stream",
     "text": [
      "\n",
      "train: 150-48/71 tr_acc: 96.09%, lr=['0.0'], tr_loss: 0.22879494726657867, val_acc: 67.90%:  69%|██████▉   | 49/71 [01:38<00:44,  2.03s/it]"
     ]
    },
    {
     "name": "stdout",
     "output_type": "stream",
     "text": [
      "150-49 training acc: 92.19%, lr=['0.0'], val_acc: 67.90%\n",
      "iter_one_train_time: 2.0059103965759277 seconds, last one_val_time: 2.789245843887329 seconds\n",
      "\n"
     ]
    },
    {
     "name": "stderr",
     "output_type": "stream",
     "text": [
      "train: 150-70/71 tr_acc: 95.00%, lr=['0.0'], tr_loss: 0.22568480670452118, val_acc: 67.60%: 100%|██████████| 71/71 [02:24<00:00,  2.04s/it]"
     ]
    },
    {
     "name": "stdout",
     "output_type": "stream",
     "text": [
      "epoch_time: 144.97120141983032 seconds\n",
      "\n",
      "\n",
      "EPOCH 151\n"
     ]
    },
    {
     "name": "stderr",
     "output_type": "stream",
     "text": [
      "\n",
      "train: 151-48/71 tr_acc: 94.53%, lr=['9.866357858642206e-07'], tr_loss: 0.21107757091522217, val_acc: 67.60%:  69%|██████▉   | 49/71 [01:38<00:43,  2.00s/it]"
     ]
    },
    {
     "name": "stdout",
     "output_type": "stream",
     "text": [
      "151-49 training acc: 94.53%, lr=['9.866357858642206e-07'], val_acc: 67.60%\n",
      "iter_one_train_time: 1.9833905696868896 seconds, last one_val_time: 2.661936044692993 seconds\n",
      "\n"
     ]
    },
    {
     "name": "stderr",
     "output_type": "stream",
     "text": [
      "train: 151-70/71 tr_acc: 85.00%, lr=['9.866357858642206e-07'], tr_loss: 0.41170263290405273, val_acc: 66.60%: 100%|██████████| 71/71 [02:24<00:00,  2.04s/it]"
     ]
    },
    {
     "name": "stdout",
     "output_type": "stream",
     "text": [
      "epoch_time: 144.83460450172424 seconds\n",
      "\n",
      "\n",
      "EPOCH 152\n"
     ]
    },
    {
     "name": "stderr",
     "output_type": "stream",
     "text": [
      "\n",
      "train: 152-48/71 tr_acc: 92.97%, lr=['3.942649342761007e-06'], tr_loss: 0.26259079575538635, val_acc: 66.60%:  69%|██████▉   | 49/71 [01:39<00:44,  2.01s/it]"
     ]
    },
    {
     "name": "stdout",
     "output_type": "stream",
     "text": [
      "152-49 training acc: 96.09%, lr=['3.942649342761007e-06'], val_acc: 66.60%\n",
      "iter_one_train_time: 1.9816381931304932 seconds, last one_val_time: 2.8138370513916016 seconds\n",
      "\n"
     ]
    },
    {
     "name": "stderr",
     "output_type": "stream",
     "text": [
      "train: 152-70/71 tr_acc: 87.50%, lr=['3.942649342761007e-06'], tr_loss: 0.4616827070713043, val_acc: 67.10%: 100%|██████████| 71/71 [02:25<00:00,  2.05s/it] "
     ]
    },
    {
     "name": "stdout",
     "output_type": "stream",
     "text": [
      "epoch_time: 145.6717095375061 seconds\n",
      "\n",
      "\n",
      "EPOCH 153\n"
     ]
    },
    {
     "name": "stderr",
     "output_type": "stream",
     "text": [
      "\n",
      "train: 153-48/71 tr_acc: 84.38%, lr=['8.856374635655695e-06'], tr_loss: 0.3526516854763031, val_acc: 67.10%:  69%|██████▉   | 49/71 [01:38<00:44,  2.00s/it] "
     ]
    },
    {
     "name": "stdout",
     "output_type": "stream",
     "text": [
      "153-49 training acc: 92.19%, lr=['8.856374635655695e-06'], val_acc: 67.10%\n",
      "iter_one_train_time: 1.9830760955810547 seconds, last one_val_time: 2.895277261734009 seconds\n",
      "\n"
     ]
    },
    {
     "name": "stderr",
     "output_type": "stream",
     "text": [
      "train: 153-70/71 tr_acc: 85.00%, lr=['8.856374635655695e-06'], tr_loss: 0.35523247718811035, val_acc: 66.80%: 100%|██████████| 71/71 [02:24<00:00,  2.04s/it]"
     ]
    },
    {
     "name": "stdout",
     "output_type": "stream",
     "text": [
      "epoch_time: 144.94806551933289 seconds\n",
      "\n",
      "\n",
      "EPOCH 154\n"
     ]
    },
    {
     "name": "stderr",
     "output_type": "stream",
     "text": [
      "\n",
      "train: 154-48/71 tr_acc: 93.75%, lr=['1.570841943568446e-05'], tr_loss: 0.3010793626308441, val_acc: 66.80%:  69%|██████▉   | 49/71 [01:38<00:44,  2.02s/it] "
     ]
    },
    {
     "name": "stdout",
     "output_type": "stream",
     "text": [
      "154-49 training acc: 90.62%, lr=['1.570841943568446e-05'], val_acc: 66.80%\n",
      "iter_one_train_time: 1.9887993335723877 seconds, last one_val_time: 2.698444366455078 seconds\n",
      "\n"
     ]
    },
    {
     "name": "stderr",
     "output_type": "stream",
     "text": [
      "train: 154-70/71 tr_acc: 87.50%, lr=['1.570841943568446e-05'], tr_loss: 0.3027408719062805, val_acc: 67.50%: 100%|██████████| 71/71 [02:24<00:00,  2.04s/it] "
     ]
    },
    {
     "name": "stdout",
     "output_type": "stream",
     "text": [
      "epoch_time: 145.26213002204895 seconds\n",
      "\n",
      "\n",
      "EPOCH 155\n"
     ]
    },
    {
     "name": "stderr",
     "output_type": "stream",
     "text": [
      "\n",
      "train: 155-48/71 tr_acc: 92.19%, lr=['2.4471741852423177e-05'], tr_loss: 0.26901593804359436, val_acc: 67.50%:  69%|██████▉   | 49/71 [01:38<00:43,  1.99s/it]"
     ]
    },
    {
     "name": "stdout",
     "output_type": "stream",
     "text": [
      "155-49 training acc: 85.94%, lr=['2.4471741852423177e-05'], val_acc: 67.50%\n",
      "iter_one_train_time: 1.9982502460479736 seconds, last one_val_time: 2.811244010925293 seconds\n",
      "\n"
     ]
    },
    {
     "name": "stderr",
     "output_type": "stream",
     "text": [
      "train: 155-70/71 tr_acc: 95.00%, lr=['2.4471741852423177e-05'], tr_loss: 0.28413957357406616, val_acc: 66.30%: 100%|██████████| 71/71 [02:24<00:00,  2.04s/it]"
     ]
    },
    {
     "name": "stdout",
     "output_type": "stream",
     "text": [
      "epoch_time: 145.17386484146118 seconds\n",
      "\n",
      "\n",
      "EPOCH 156\n"
     ]
    },
    {
     "name": "stderr",
     "output_type": "stream",
     "text": [
      "\n",
      "train: 156-48/71 tr_acc: 95.31%, lr=['3.5111757055874156e-05'], tr_loss: 0.24097752571105957, val_acc: 66.30%:  69%|██████▉   | 49/71 [01:38<00:43,  1.98s/it]"
     ]
    },
    {
     "name": "stdout",
     "output_type": "stream",
     "text": [
      "156-49 training acc: 93.75%, lr=['3.5111757055874156e-05'], val_acc: 66.30%\n",
      "iter_one_train_time: 1.99326491355896 seconds, last one_val_time: 2.6843791007995605 seconds\n",
      "\n"
     ]
    },
    {
     "name": "stderr",
     "output_type": "stream",
     "text": [
      "train: 156-70/71 tr_acc: 92.50%, lr=['3.5111757055874156e-05'], tr_loss: 0.24543729424476624, val_acc: 67.30%: 100%|██████████| 71/71 [02:24<00:00,  2.04s/it]"
     ]
    },
    {
     "name": "stdout",
     "output_type": "stream",
     "text": [
      "epoch_time: 144.95419764518738 seconds\n",
      "\n",
      "\n",
      "EPOCH 157\n"
     ]
    },
    {
     "name": "stderr",
     "output_type": "stream",
     "text": [
      "\n",
      "train: 157-48/71 tr_acc: 96.09%, lr=['4.758647376698998e-05'], tr_loss: 0.22584418952465057, val_acc: 67.30%:  69%|██████▉   | 49/71 [01:38<00:44,  2.00s/it]"
     ]
    },
    {
     "name": "stdout",
     "output_type": "stream",
     "text": [
      "157-49 training acc: 89.06%, lr=['4.758647376698998e-05'], val_acc: 67.30%\n",
      "iter_one_train_time: 1.9850201606750488 seconds, last one_val_time: 2.6986875534057617 seconds\n",
      "\n"
     ]
    },
    {
     "name": "stderr",
     "output_type": "stream",
     "text": [
      "train: 157-70/71 tr_acc: 87.50%, lr=['4.758647376698998e-05'], tr_loss: 0.3795909583568573, val_acc: 67.30%: 100%|██████████| 71/71 [02:24<00:00,  2.04s/it] "
     ]
    },
    {
     "name": "stdout",
     "output_type": "stream",
     "text": [
      "epoch_time: 145.24492645263672 seconds\n",
      "\n",
      "\n",
      "EPOCH 158\n"
     ]
    },
    {
     "name": "stderr",
     "output_type": "stream",
     "text": [
      "\n",
      "train: 158-48/71 tr_acc: 92.19%, lr=['6.184665997806825e-05'], tr_loss: 0.2578858733177185, val_acc: 67.30%:  69%|██████▉   | 49/71 [01:38<00:43,  2.00s/it] "
     ]
    },
    {
     "name": "stdout",
     "output_type": "stream",
     "text": [
      "158-49 training acc: 86.72%, lr=['6.184665997806825e-05'], val_acc: 67.30%\n",
      "iter_one_train_time: 2.066671133041382 seconds, last one_val_time: 2.8306829929351807 seconds\n",
      "\n"
     ]
    },
    {
     "name": "stderr",
     "output_type": "stream",
     "text": [
      "train: 158-70/71 tr_acc: 87.50%, lr=['6.184665997806825e-05'], tr_loss: 0.4194185733795166, val_acc: 65.40%: 100%|██████████| 71/71 [02:24<00:00,  2.04s/it] "
     ]
    },
    {
     "name": "stdout",
     "output_type": "stream",
     "text": [
      "epoch_time: 145.14318180084229 seconds\n",
      "\n",
      "\n",
      "EPOCH 159\n"
     ]
    },
    {
     "name": "stderr",
     "output_type": "stream",
     "text": [
      "\n",
      "train: 159-48/71 tr_acc: 91.41%, lr=['7.783603724899246e-05'], tr_loss: 0.28611278533935547, val_acc: 65.40%:  69%|██████▉   | 49/71 [01:38<00:43,  1.99s/it]"
     ]
    },
    {
     "name": "stdout",
     "output_type": "stream",
     "text": [
      "159-49 training acc: 90.62%, lr=['7.783603724899246e-05'], val_acc: 65.40%\n",
      "iter_one_train_time: 1.9805405139923096 seconds, last one_val_time: 2.6966240406036377 seconds\n",
      "\n"
     ]
    },
    {
     "name": "stderr",
     "output_type": "stream",
     "text": [
      "train: 159-70/71 tr_acc: 90.00%, lr=['7.783603724899246e-05'], tr_loss: 0.3765691816806793, val_acc: 67.00%: 100%|██████████| 71/71 [02:24<00:00,  2.03s/it] "
     ]
    },
    {
     "name": "stdout",
     "output_type": "stream",
     "text": [
      "epoch_time: 144.46803402900696 seconds\n",
      "\n",
      "\n",
      "EPOCH 160\n"
     ]
    },
    {
     "name": "stderr",
     "output_type": "stream",
     "text": [
      "\n",
      "train: 160-48/71 tr_acc: 90.62%, lr=['9.549150281252616e-05'], tr_loss: 0.3051932156085968, val_acc: 67.00%:  69%|██████▉   | 49/71 [01:38<00:44,  2.00s/it] "
     ]
    },
    {
     "name": "stdout",
     "output_type": "stream",
     "text": [
      "160-49 training acc: 92.19%, lr=['9.549150281252616e-05'], val_acc: 67.00%\n",
      "iter_one_train_time: 1.9763178825378418 seconds, last one_val_time: 2.621842861175537 seconds\n",
      "\n"
     ]
    },
    {
     "name": "stderr",
     "output_type": "stream",
     "text": [
      "train: 160-70/71 tr_acc: 85.00%, lr=['9.549150281252616e-05'], tr_loss: 0.5870920419692993, val_acc: 66.40%: 100%|██████████| 71/71 [02:24<00:00,  2.03s/it] "
     ]
    },
    {
     "name": "stdout",
     "output_type": "stream",
     "text": [
      "epoch_time: 144.78524041175842 seconds\n",
      "\n",
      "\n",
      "EPOCH 161\n"
     ]
    },
    {
     "name": "stderr",
     "output_type": "stream",
     "text": [
      "\n",
      "train: 161-48/71 tr_acc: 90.62%, lr=['0.00011474337861210515'], tr_loss: 0.26434198021888733, val_acc: 66.40%:  69%|██████▉   | 49/71 [01:38<00:44,  2.00s/it]"
     ]
    },
    {
     "name": "stdout",
     "output_type": "stream",
     "text": [
      "161-49 training acc: 92.19%, lr=['0.00011474337861210515'], val_acc: 66.40%\n",
      "iter_one_train_time: 1.9776461124420166 seconds, last one_val_time: 2.6435375213623047 seconds\n",
      "\n"
     ]
    },
    {
     "name": "stderr",
     "output_type": "stream",
     "text": [
      "train: 161-70/71 tr_acc: 85.00%, lr=['0.00011474337861210515'], tr_loss: 0.360085666179657, val_acc: 67.40%: 100%|██████████| 71/71 [02:24<00:00,  2.04s/it]  "
     ]
    },
    {
     "name": "stdout",
     "output_type": "stream",
     "text": [
      "epoch_time: 144.8913769721985 seconds\n",
      "\n",
      "\n",
      "EPOCH 162\n"
     ]
    },
    {
     "name": "stderr",
     "output_type": "stream",
     "text": [
      "\n",
      "train: 162-48/71 tr_acc: 91.41%, lr=['0.00013551568628929385'], tr_loss: 0.3268452286720276, val_acc: 67.40%:  69%|██████▉   | 49/71 [01:38<00:44,  2.02s/it] "
     ]
    },
    {
     "name": "stdout",
     "output_type": "stream",
     "text": [
      "162-49 training acc: 96.09%, lr=['0.00013551568628929385'], val_acc: 67.40%\n",
      "iter_one_train_time: 2.0025124549865723 seconds, last one_val_time: 2.822115421295166 seconds\n",
      "\n"
     ]
    },
    {
     "name": "stderr",
     "output_type": "stream",
     "text": [
      "train: 162-70/71 tr_acc: 97.50%, lr=['0.00013551568628929385'], tr_loss: 0.21217980980873108, val_acc: 65.80%: 100%|██████████| 71/71 [02:24<00:00,  2.04s/it]"
     ]
    },
    {
     "name": "stdout",
     "output_type": "stream",
     "text": [
      "epoch_time: 145.29242157936096 seconds\n",
      "\n",
      "\n",
      "EPOCH 163\n"
     ]
    },
    {
     "name": "stderr",
     "output_type": "stream",
     "text": [
      "\n",
      "train: 163-48/71 tr_acc: 92.19%, lr=['0.00015772644703565517'], tr_loss: 0.3010167181491852, val_acc: 65.80%:  69%|██████▉   | 49/71 [01:38<00:44,  2.01s/it] "
     ]
    },
    {
     "name": "stdout",
     "output_type": "stream",
     "text": [
      "163-49 training acc: 92.19%, lr=['0.00015772644703565517'], val_acc: 65.80%\n",
      "iter_one_train_time: 1.9817533493041992 seconds, last one_val_time: 2.6871180534362793 seconds\n",
      "\n"
     ]
    },
    {
     "name": "stderr",
     "output_type": "stream",
     "text": [
      "train: 163-70/71 tr_acc: 92.50%, lr=['0.00015772644703565517'], tr_loss: 0.24355801939964294, val_acc: 67.20%: 100%|██████████| 71/71 [02:24<00:00,  2.04s/it]"
     ]
    },
    {
     "name": "stdout",
     "output_type": "stream",
     "text": [
      "epoch_time: 145.21597456932068 seconds\n",
      "\n",
      "\n",
      "EPOCH 164\n"
     ]
    },
    {
     "name": "stderr",
     "output_type": "stream",
     "text": [
      "\n",
      "train: 164-48/71 tr_acc: 89.84%, lr=['0.00018128800512565453'], tr_loss: 0.2601274251937866, val_acc: 67.20%:  69%|██████▉   | 49/71 [01:38<00:44,  2.01s/it] "
     ]
    },
    {
     "name": "stdout",
     "output_type": "stream",
     "text": [
      "164-49 training acc: 82.81%, lr=['0.00018128800512565453'], val_acc: 67.20%\n",
      "iter_one_train_time: 1.9831624031066895 seconds, last one_val_time: 2.8226218223571777 seconds\n",
      "\n"
     ]
    },
    {
     "name": "stderr",
     "output_type": "stream",
     "text": [
      "train: 164-70/71 tr_acc: 90.00%, lr=['0.00018128800512565453'], tr_loss: 0.27951815724372864, val_acc: 66.40%: 100%|██████████| 71/71 [02:25<00:00,  2.04s/it]"
     ]
    },
    {
     "name": "stdout",
     "output_type": "stream",
     "text": [
      "epoch_time: 145.42841625213623 seconds\n",
      "\n",
      "\n",
      "EPOCH 165\n"
     ]
    },
    {
     "name": "stderr",
     "output_type": "stream",
     "text": [
      "\n",
      "train: 165-48/71 tr_acc: 87.50%, lr=['0.00020610737385376261'], tr_loss: 0.3531460762023926, val_acc: 66.40%:  69%|██████▉   | 49/71 [01:38<00:43,  2.00s/it] "
     ]
    },
    {
     "name": "stdout",
     "output_type": "stream",
     "text": [
      "165-49 training acc: 91.41%, lr=['0.00020610737385376261'], val_acc: 66.40%\n",
      "iter_one_train_time: 1.988013744354248 seconds, last one_val_time: 2.876190185546875 seconds\n",
      "\n"
     ]
    },
    {
     "name": "stderr",
     "output_type": "stream",
     "text": [
      "train: 165-70/71 tr_acc: 92.50%, lr=['0.00020610737385376261'], tr_loss: 0.38316839933395386, val_acc: 65.80%: 100%|██████████| 71/71 [02:24<00:00,  2.04s/it]"
     ]
    },
    {
     "name": "stdout",
     "output_type": "stream",
     "text": [
      "epoch_time: 144.9604468345642 seconds\n",
      "\n",
      "\n",
      "EPOCH 166\n"
     ]
    },
    {
     "name": "stderr",
     "output_type": "stream",
     "text": [
      "\n",
      "train: 166-48/71 tr_acc: 90.62%, lr=['0.00023208660251050218'], tr_loss: 0.35506075620651245, val_acc: 65.80%:  69%|██████▉   | 49/71 [01:38<00:44,  2.00s/it]"
     ]
    },
    {
     "name": "stdout",
     "output_type": "stream",
     "text": [
      "166-49 training acc: 89.84%, lr=['0.00023208660251050218'], val_acc: 65.80%\n",
      "iter_one_train_time: 2.0015077590942383 seconds, last one_val_time: 2.705886125564575 seconds\n",
      "\n"
     ]
    },
    {
     "name": "stderr",
     "output_type": "stream",
     "text": [
      "train: 166-70/71 tr_acc: 95.00%, lr=['0.00023208660251050218'], tr_loss: 0.24097251892089844, val_acc: 66.70%: 100%|██████████| 71/71 [02:24<00:00,  2.04s/it]"
     ]
    },
    {
     "name": "stdout",
     "output_type": "stream",
     "text": [
      "epoch_time: 144.86486339569092 seconds\n",
      "\n",
      "\n",
      "EPOCH 167\n"
     ]
    },
    {
     "name": "stderr",
     "output_type": "stream",
     "text": [
      "\n",
      "train: 167-48/71 tr_acc: 89.84%, lr=['0.00025912316294914267'], tr_loss: 0.336243599653244, val_acc: 66.70%:  69%|██████▉   | 49/71 [01:38<00:43,  1.99s/it]  "
     ]
    },
    {
     "name": "stdout",
     "output_type": "stream",
     "text": [
      "167-49 training acc: 94.53%, lr=['0.00025912316294914267'], val_acc: 66.70%\n",
      "iter_one_train_time: 2.0710582733154297 seconds, last one_val_time: 2.7660579681396484 seconds\n",
      "\n"
     ]
    },
    {
     "name": "stderr",
     "output_type": "stream",
     "text": [
      "train: 167-70/71 tr_acc: 80.00%, lr=['0.00025912316294914267'], tr_loss: 0.49257129430770874, val_acc: 67.30%: 100%|██████████| 71/71 [02:24<00:00,  2.04s/it]"
     ]
    },
    {
     "name": "stdout",
     "output_type": "stream",
     "text": [
      "epoch_time: 144.9773554801941 seconds\n",
      "\n",
      "\n",
      "EPOCH 168\n"
     ]
    },
    {
     "name": "stderr",
     "output_type": "stream",
     "text": [
      "\n",
      "train: 168-48/71 tr_acc: 91.41%, lr=['0.0002871103542174639'], tr_loss: 0.2859992980957031, val_acc: 67.30%:  69%|██████▉   | 49/71 [01:38<00:44,  2.02s/it] "
     ]
    },
    {
     "name": "stdout",
     "output_type": "stream",
     "text": [
      "168-49 training acc: 91.41%, lr=['0.0002871103542174639'], val_acc: 67.30%\n",
      "iter_one_train_time: 2.013747453689575 seconds, last one_val_time: 2.709019422531128 seconds\n",
      "\n"
     ]
    },
    {
     "name": "stderr",
     "output_type": "stream",
     "text": [
      "train: 168-70/71 tr_acc: 85.00%, lr=['0.0002871103542174639'], tr_loss: 0.34600579738616943, val_acc: 63.00%: 100%|██████████| 71/71 [02:24<00:00,  2.04s/it]"
     ]
    },
    {
     "name": "stdout",
     "output_type": "stream",
     "text": [
      "epoch_time: 145.0271668434143 seconds\n",
      "\n",
      "\n",
      "EPOCH 169\n"
     ]
    },
    {
     "name": "stderr",
     "output_type": "stream",
     "text": [
      "\n",
      "train: 169-48/71 tr_acc: 89.06%, lr=['0.0003159377236576611'], tr_loss: 0.3846278190612793, val_acc: 63.00%:  69%|██████▉   | 49/71 [01:38<00:44,  2.00s/it] "
     ]
    },
    {
     "name": "stdout",
     "output_type": "stream",
     "text": [
      "169-49 training acc: 92.19%, lr=['0.0003159377236576611'], val_acc: 63.00%\n",
      "iter_one_train_time: 1.9783096313476562 seconds, last one_val_time: 2.6677794456481934 seconds\n",
      "\n"
     ]
    },
    {
     "name": "stderr",
     "output_type": "stream",
     "text": [
      "train: 169-70/71 tr_acc: 85.00%, lr=['0.0003159377236576611'], tr_loss: 0.3661666810512543, val_acc: 64.70%: 100%|██████████| 71/71 [02:24<00:00,  2.03s/it] "
     ]
    },
    {
     "name": "stdout",
     "output_type": "stream",
     "text": [
      "epoch_time: 144.73487257957458 seconds\n",
      "\n",
      "\n",
      "EPOCH 170\n"
     ]
    },
    {
     "name": "stderr",
     "output_type": "stream",
     "text": [
      "\n",
      "train: 170-48/71 tr_acc: 92.19%, lr=['0.0003454915028125262'], tr_loss: 0.26541462540626526, val_acc: 64.70%:  69%|██████▉   | 49/71 [01:38<00:43,  1.99s/it]"
     ]
    },
    {
     "name": "stdout",
     "output_type": "stream",
     "text": [
      "170-49 training acc: 90.62%, lr=['0.0003454915028125262'], val_acc: 64.70%\n",
      "iter_one_train_time: 2.006338119506836 seconds, last one_val_time: 2.6814372539520264 seconds\n",
      "\n"
     ]
    },
    {
     "name": "stderr",
     "output_type": "stream",
     "text": [
      "train: 170-70/71 tr_acc: 85.00%, lr=['0.0003454915028125262'], tr_loss: 0.45033058524131775, val_acc: 66.40%: 100%|██████████| 71/71 [02:24<00:00,  2.03s/it]"
     ]
    },
    {
     "name": "stdout",
     "output_type": "stream",
     "text": [
      "epoch_time: 144.69444060325623 seconds\n",
      "\n",
      "\n",
      "EPOCH 171\n"
     ]
    },
    {
     "name": "stderr",
     "output_type": "stream",
     "text": [
      "\n",
      "train: 171-48/71 tr_acc: 86.72%, lr=['0.0003756550564175724'], tr_loss: 0.34666839241981506, val_acc: 66.40%:  69%|██████▉   | 49/71 [01:39<00:44,  2.01s/it]"
     ]
    },
    {
     "name": "stdout",
     "output_type": "stream",
     "text": [
      "171-49 training acc: 90.62%, lr=['0.0003756550564175724'], val_acc: 66.40%\n",
      "iter_one_train_time: 2.0784780979156494 seconds, last one_val_time: 2.8244385719299316 seconds\n",
      "\n"
     ]
    },
    {
     "name": "stderr",
     "output_type": "stream",
     "text": [
      "train: 171-70/71 tr_acc: 87.50%, lr=['0.0003756550564175724'], tr_loss: 0.37980741262435913, val_acc: 64.60%: 100%|██████████| 71/71 [02:25<00:00,  2.04s/it]"
     ]
    },
    {
     "name": "stdout",
     "output_type": "stream",
     "text": [
      "epoch_time: 145.4544973373413 seconds\n",
      "\n",
      "\n",
      "EPOCH 172\n"
     ]
    },
    {
     "name": "stderr",
     "output_type": "stream",
     "text": [
      "\n",
      "train: 172-48/71 tr_acc: 93.75%, lr=['0.0004063093427071373'], tr_loss: 0.24349182844161987, val_acc: 64.60%:  69%|██████▉   | 49/71 [01:38<00:44,  2.01s/it]"
     ]
    },
    {
     "name": "stdout",
     "output_type": "stream",
     "text": [
      "172-49 training acc: 89.06%, lr=['0.0004063093427071373'], val_acc: 64.60%\n",
      "iter_one_train_time: 2.000931978225708 seconds, last one_val_time: 2.7303664684295654 seconds\n",
      "\n"
     ]
    },
    {
     "name": "stderr",
     "output_type": "stream",
     "text": [
      "train: 172-70/71 tr_acc: 87.50%, lr=['0.0004063093427071373'], tr_loss: 0.4714186191558838, val_acc: 63.80%: 100%|██████████| 71/71 [02:24<00:00,  2.04s/it] "
     ]
    },
    {
     "name": "stdout",
     "output_type": "stream",
     "text": [
      "epoch_time: 145.11426615715027 seconds\n",
      "\n",
      "\n",
      "EPOCH 173\n"
     ]
    },
    {
     "name": "stderr",
     "output_type": "stream",
     "text": [
      "\n",
      "train: 173-48/71 tr_acc: 89.06%, lr=['0.00043733338321784736'], tr_loss: 0.3575592637062073, val_acc: 63.80%:  69%|██████▉   | 49/71 [01:38<00:43,  1.99s/it] "
     ]
    },
    {
     "name": "stdout",
     "output_type": "stream",
     "text": [
      "173-49 training acc: 93.75%, lr=['0.00043733338321784736'], val_acc: 63.80%\n",
      "iter_one_train_time: 1.960360050201416 seconds, last one_val_time: 2.7283449172973633 seconds\n",
      "\n"
     ]
    },
    {
     "name": "stderr",
     "output_type": "stream",
     "text": [
      "train: 173-70/71 tr_acc: 90.00%, lr=['0.00043733338321784736'], tr_loss: 0.32734107971191406, val_acc: 64.60%: 100%|██████████| 71/71 [02:24<00:00,  2.04s/it]"
     ]
    },
    {
     "name": "stdout",
     "output_type": "stream",
     "text": [
      "epoch_time: 145.00202417373657 seconds\n",
      "\n",
      "\n",
      "EPOCH 174\n"
     ]
    },
    {
     "name": "stderr",
     "output_type": "stream",
     "text": [
      "\n",
      "train: 174-48/71 tr_acc: 92.19%, lr=['0.00046860474023534255'], tr_loss: 0.30779126286506653, val_acc: 64.60%:  69%|██████▉   | 49/71 [01:39<00:44,  2.02s/it]"
     ]
    },
    {
     "name": "stdout",
     "output_type": "stream",
     "text": [
      "174-49 training acc: 89.06%, lr=['0.00046860474023534255'], val_acc: 64.60%\n",
      "iter_one_train_time: 2.0162768363952637 seconds, last one_val_time: 2.8424956798553467 seconds\n",
      "\n"
     ]
    },
    {
     "name": "stderr",
     "output_type": "stream",
     "text": [
      "train: 174-70/71 tr_acc: 92.50%, lr=['0.00046860474023534255'], tr_loss: 0.26422855257987976, val_acc: 63.40%: 100%|██████████| 71/71 [02:25<00:00,  2.05s/it]"
     ]
    },
    {
     "name": "stdout",
     "output_type": "stream",
     "text": [
      "epoch_time: 145.5469090938568 seconds\n",
      "\n",
      "\n",
      "EPOCH 175\n"
     ]
    },
    {
     "name": "stderr",
     "output_type": "stream",
     "text": [
      "\n",
      "train: 175-48/71 tr_acc: 91.41%, lr=['0.000499999999999999'], tr_loss: 0.23786643147468567, val_acc: 63.40%:  69%|██████▉   | 49/71 [01:38<00:44,  2.00s/it]"
     ]
    },
    {
     "name": "stdout",
     "output_type": "stream",
     "text": [
      "175-49 training acc: 89.84%, lr=['0.000499999999999999'], val_acc: 63.40%\n",
      "iter_one_train_time: 1.9893980026245117 seconds, last one_val_time: 2.812851905822754 seconds\n",
      "\n"
     ]
    },
    {
     "name": "stderr",
     "output_type": "stream",
     "text": [
      "train: 175-70/71 tr_acc: 87.50%, lr=['0.000499999999999999'], tr_loss: 0.3733237683773041, val_acc: 62.70%: 100%|██████████| 71/71 [02:24<00:00,  2.04s/it] "
     ]
    },
    {
     "name": "stdout",
     "output_type": "stream",
     "text": [
      "epoch_time: 144.90573072433472 seconds\n",
      "\n",
      "\n",
      "EPOCH 176\n"
     ]
    },
    {
     "name": "stderr",
     "output_type": "stream",
     "text": [
      "\n",
      "train: 176-48/71 tr_acc: 89.84%, lr=['0.0005313952597646564'], tr_loss: 0.3077734112739563, val_acc: 62.70%:  69%|██████▉   | 49/71 [01:38<00:44,  2.01s/it] "
     ]
    },
    {
     "name": "stdout",
     "output_type": "stream",
     "text": [
      "176-49 training acc: 85.94%, lr=['0.0005313952597646564'], val_acc: 62.70%\n",
      "iter_one_train_time: 1.9782357215881348 seconds, last one_val_time: 2.710197687149048 seconds\n",
      "\n"
     ]
    },
    {
     "name": "stderr",
     "output_type": "stream",
     "text": [
      "train: 176-70/71 tr_acc: 97.50%, lr=['0.0005313952597646564'], tr_loss: 0.20320577919483185, val_acc: 62.70%: 100%|██████████| 71/71 [02:24<00:00,  2.04s/it]"
     ]
    },
    {
     "name": "stdout",
     "output_type": "stream",
     "text": [
      "epoch_time: 145.24667882919312 seconds\n",
      "\n",
      "\n",
      "EPOCH 177\n"
     ]
    },
    {
     "name": "stderr",
     "output_type": "stream",
     "text": [
      "\n",
      "train: 177-48/71 tr_acc: 87.50%, lr=['0.0005626666167821527'], tr_loss: 0.45113077759742737, val_acc: 62.70%:  69%|██████▉   | 49/71 [01:38<00:44,  2.00s/it]"
     ]
    },
    {
     "name": "stdout",
     "output_type": "stream",
     "text": [
      "177-49 training acc: 88.28%, lr=['0.0005626666167821527'], val_acc: 62.70%\n",
      "iter_one_train_time: 2.099426746368408 seconds, last one_val_time: 2.816457509994507 seconds\n",
      "\n"
     ]
    },
    {
     "name": "stderr",
     "output_type": "stream",
     "text": [
      "train: 177-70/71 tr_acc: 82.50%, lr=['0.0005626666167821527'], tr_loss: 0.5211753845214844, val_acc: 65.50%: 100%|██████████| 71/71 [02:24<00:00,  2.04s/it] "
     ]
    },
    {
     "name": "stdout",
     "output_type": "stream",
     "text": [
      "epoch_time: 145.05465745925903 seconds\n",
      "\n",
      "\n",
      "EPOCH 178\n"
     ]
    },
    {
     "name": "stderr",
     "output_type": "stream",
     "text": [
      "\n",
      "train: 178-48/71 tr_acc: 90.62%, lr=['0.0005936906572928626'], tr_loss: 0.31227242946624756, val_acc: 65.50%:  69%|██████▉   | 49/71 [01:38<00:44,  2.00s/it]"
     ]
    },
    {
     "name": "stdout",
     "output_type": "stream",
     "text": [
      "178-49 training acc: 89.06%, lr=['0.0005936906572928626'], val_acc: 65.50%\n",
      "iter_one_train_time: 1.9862143993377686 seconds, last one_val_time: 2.7623629570007324 seconds\n",
      "\n"
     ]
    },
    {
     "name": "stderr",
     "output_type": "stream",
     "text": [
      "train: 178-70/71 tr_acc: 85.00%, lr=['0.0005936906572928626'], tr_loss: 0.3976146876811981, val_acc: 64.10%: 100%|██████████| 71/71 [02:24<00:00,  2.04s/it] "
     ]
    },
    {
     "name": "stdout",
     "output_type": "stream",
     "text": [
      "epoch_time: 145.03225803375244 seconds\n",
      "\n",
      "\n",
      "EPOCH 179\n"
     ]
    },
    {
     "name": "stderr",
     "output_type": "stream",
     "text": [
      "\n",
      "train: 179-48/71 tr_acc: 87.50%, lr=['0.0006243449435824275'], tr_loss: 0.34587523341178894, val_acc: 64.10%:  69%|██████▉   | 49/71 [01:38<00:44,  2.02s/it]"
     ]
    },
    {
     "name": "stdout",
     "output_type": "stream",
     "text": [
      "179-49 training acc: 90.62%, lr=['0.0006243449435824275'], val_acc: 64.10%\n",
      "iter_one_train_time: 1.9912548065185547 seconds, last one_val_time: 2.708559513092041 seconds\n",
      "\n"
     ]
    },
    {
     "name": "stderr",
     "output_type": "stream",
     "text": [
      "train: 179-70/71 tr_acc: 82.50%, lr=['0.0006243449435824275'], tr_loss: 0.5045703053474426, val_acc: 60.90%: 100%|██████████| 71/71 [02:24<00:00,  2.04s/it] "
     ]
    },
    {
     "name": "stdout",
     "output_type": "stream",
     "text": [
      "epoch_time: 144.91609358787537 seconds\n",
      "\n",
      "\n",
      "EPOCH 180\n"
     ]
    },
    {
     "name": "stderr",
     "output_type": "stream",
     "text": [
      "\n",
      "train: 180-48/71 tr_acc: 89.84%, lr=['0.0006545084971874736'], tr_loss: 0.35641032457351685, val_acc: 60.90%:  69%|██████▉   | 49/71 [01:38<00:44,  2.00s/it]"
     ]
    },
    {
     "name": "stdout",
     "output_type": "stream",
     "text": [
      "180-49 training acc: 87.50%, lr=['0.0006545084971874736'], val_acc: 60.90%\n",
      "iter_one_train_time: 1.9905354976654053 seconds, last one_val_time: 2.6994969844818115 seconds\n",
      "\n"
     ]
    },
    {
     "name": "stderr",
     "output_type": "stream",
     "text": [
      "train: 180-70/71 tr_acc: 82.50%, lr=['0.0006545084971874736'], tr_loss: 0.44713693857192993, val_acc: 61.70%: 100%|██████████| 71/71 [02:24<00:00,  2.04s/it]"
     ]
    },
    {
     "name": "stdout",
     "output_type": "stream",
     "text": [
      "epoch_time: 145.09620070457458 seconds\n",
      "\n",
      "\n",
      "EPOCH 181\n"
     ]
    },
    {
     "name": "stderr",
     "output_type": "stream",
     "text": [
      "\n",
      "train: 181-48/71 tr_acc: 90.62%, lr=['0.0006840622763423388'], tr_loss: 0.3590180277824402, val_acc: 61.70%:  69%|██████▉   | 49/71 [01:38<00:44,  2.00s/it] "
     ]
    },
    {
     "name": "stdout",
     "output_type": "stream",
     "text": [
      "181-49 training acc: 88.28%, lr=['0.0006840622763423388'], val_acc: 61.70%\n",
      "iter_one_train_time: 2.0879335403442383 seconds, last one_val_time: 2.92350435256958 seconds\n",
      "\n"
     ]
    },
    {
     "name": "stderr",
     "output_type": "stream",
     "text": [
      "train: 181-70/71 tr_acc: 85.00%, lr=['0.0006840622763423388'], tr_loss: 0.39358755946159363, val_acc: 63.60%: 100%|██████████| 71/71 [02:25<00:00,  2.04s/it]"
     ]
    },
    {
     "name": "stdout",
     "output_type": "stream",
     "text": [
      "epoch_time: 145.4888141155243 seconds\n",
      "\n",
      "\n",
      "EPOCH 182\n"
     ]
    },
    {
     "name": "stderr",
     "output_type": "stream",
     "text": [
      "\n",
      "train: 182-15/71 tr_acc: 89.06%, lr=['0.000712889645782536'], tr_loss: 0.3164038360118866, val_acc: 63.60%:  23%|██▎       | 16/71 [00:33<01:56,  2.11s/it] \n"
     ]
    },
    {
     "ename": "KeyboardInterrupt",
     "evalue": "",
     "output_type": "error",
     "traceback": [
      "\u001b[0;31m---------------------------------------------------------------------------\u001b[0m",
      "\u001b[0;31mKeyboardInterrupt\u001b[0m                         Traceback (most recent call last)",
      "Cell \u001b[0;32mIn[5], line 5\u001b[0m\n\u001b[1;32m      2\u001b[0m decay \u001b[38;5;241m=\u001b[39m \u001b[38;5;241m0.5\u001b[39m \u001b[38;5;66;03m# 0.875 0.25 0.125 0.75 0.5\u001b[39;00m\n\u001b[1;32m      3\u001b[0m \u001b[38;5;66;03m# nda 0.25 # ottt 0.5\u001b[39;00m\n\u001b[0;32m----> 5\u001b[0m \u001b[43mmy_snn_system\u001b[49m\u001b[43m(\u001b[49m\u001b[43m  \u001b[49m\u001b[43mdevices\u001b[49m\u001b[43m \u001b[49m\u001b[38;5;241;43m=\u001b[39;49m\u001b[43m \u001b[49m\u001b[38;5;124;43m\"\u001b[39;49m\u001b[38;5;124;43m0,1,2,3,4,5\u001b[39;49m\u001b[38;5;124;43m\"\u001b[39;49m\u001b[43m,\u001b[49m\n\u001b[1;32m      6\u001b[0m \u001b[43m                \u001b[49m\u001b[43mmy_seed\u001b[49m\u001b[43m \u001b[49m\u001b[38;5;241;43m=\u001b[39;49m\u001b[43m \u001b[49m\u001b[38;5;241;43m42\u001b[39;49m\u001b[43m,\u001b[49m\n\u001b[1;32m      7\u001b[0m \u001b[43m                \u001b[49m\u001b[43mTIME\u001b[49m\u001b[43m \u001b[49m\u001b[38;5;241;43m=\u001b[39;49m\u001b[43m \u001b[49m\u001b[38;5;241;43m10\u001b[39;49m\u001b[43m,\u001b[49m\u001b[43m \u001b[49m\u001b[38;5;66;43;03m# dvscifar 10 # ottt 6 or 10\u001b[39;49;00m\n\u001b[1;32m      8\u001b[0m \u001b[43m                \u001b[49m\u001b[43mBATCH\u001b[49m\u001b[43m \u001b[49m\u001b[38;5;241;43m=\u001b[39;49m\u001b[43m \u001b[49m\u001b[38;5;241;43m128\u001b[39;49m\u001b[43m,\u001b[49m\u001b[43m \u001b[49m\u001b[38;5;66;43;03m# batch norm 할거면 2이상으로 해야함   # nda 256   #  ottt 128\u001b[39;49;00m\n\u001b[1;32m      9\u001b[0m \u001b[43m                \u001b[49m\u001b[43mIMAGE_SIZE\u001b[49m\u001b[43m \u001b[49m\u001b[38;5;241;43m=\u001b[39;49m\u001b[43m \u001b[49m\u001b[38;5;241;43m48\u001b[39;49m\u001b[43m,\u001b[49m\u001b[43m \u001b[49m\u001b[38;5;66;43;03m# dvscifar 48 # MNIST 28 # CIFAR10 32\u001b[39;49;00m\n\u001b[1;32m     10\u001b[0m \n\u001b[1;32m     11\u001b[0m \u001b[43m                \u001b[49m\u001b[38;5;66;43;03m# DVS-CIFAR10 할거면 time 10으로 해라\u001b[39;49;00m\n\u001b[1;32m     12\u001b[0m \u001b[43m                \u001b[49m\u001b[43mwhich_data\u001b[49m\u001b[43m \u001b[49m\u001b[38;5;241;43m=\u001b[39;49m\u001b[43m \u001b[49m\u001b[38;5;124;43m'\u001b[39;49m\u001b[38;5;124;43mDVS-CIFAR10\u001b[39;49m\u001b[38;5;124;43m'\u001b[39;49m\u001b[43m,\u001b[49m\u001b[38;5;66;43;03m# 'CIFAR10' 'MNIST' 'FASHION_MNIST' 'DVS-CIFAR10'\u001b[39;49;00m\n\u001b[1;32m     13\u001b[0m \u001b[43m                \u001b[49m\u001b[43mCLASS_NUM\u001b[49m\u001b[43m \u001b[49m\u001b[38;5;241;43m=\u001b[39;49m\u001b[43m \u001b[49m\u001b[38;5;241;43m10\u001b[39;49m\u001b[43m,\u001b[49m\n\u001b[1;32m     14\u001b[0m \u001b[43m                \u001b[49m\u001b[43mdata_path\u001b[49m\u001b[43m \u001b[49m\u001b[38;5;241;43m=\u001b[39;49m\u001b[43m \u001b[49m\u001b[38;5;124;43m'\u001b[39;49m\u001b[38;5;124;43m/data2\u001b[39;49m\u001b[38;5;124;43m'\u001b[39;49m\u001b[43m,\u001b[49m\u001b[43m \u001b[49m\u001b[38;5;66;43;03m# YOU NEED TO CHANGE THIS\u001b[39;49;00m\n\u001b[1;32m     15\u001b[0m \u001b[43m                \u001b[49m\u001b[43mrate_coding\u001b[49m\u001b[43m \u001b[49m\u001b[38;5;241;43m=\u001b[39;49m\u001b[43m \u001b[49m\u001b[38;5;28;43;01mFalse\u001b[39;49;00m\u001b[43m,\u001b[49m\u001b[43m \u001b[49m\u001b[38;5;66;43;03m# True # False\u001b[39;49;00m\n\u001b[1;32m     16\u001b[0m \n\u001b[1;32m     17\u001b[0m \u001b[43m                \u001b[49m\u001b[43mlif_layer_v_init\u001b[49m\u001b[43m \u001b[49m\u001b[38;5;241;43m=\u001b[39;49m\u001b[43m \u001b[49m\u001b[38;5;241;43m0.0\u001b[39;49m\u001b[43m,\u001b[49m\n\u001b[1;32m     18\u001b[0m \u001b[43m                \u001b[49m\u001b[43mlif_layer_v_decay\u001b[49m\u001b[43m \u001b[49m\u001b[38;5;241;43m=\u001b[39;49m\u001b[43m \u001b[49m\u001b[43mdecay\u001b[49m\u001b[43m,\u001b[49m\n\u001b[1;32m     19\u001b[0m \u001b[43m                \u001b[49m\u001b[43mlif_layer_v_threshold\u001b[49m\u001b[43m \u001b[49m\u001b[38;5;241;43m=\u001b[39;49m\u001b[43m \u001b[49m\u001b[38;5;241;43m1.0\u001b[39;49m\u001b[43m,\u001b[49m\u001b[43m \u001b[49m\u001b[38;5;66;43;03m# nda 0.5  # ottt 1.0\u001b[39;49;00m\n\u001b[1;32m     20\u001b[0m \u001b[43m                \u001b[49m\u001b[43mlif_layer_v_reset\u001b[49m\u001b[43m \u001b[49m\u001b[38;5;241;43m=\u001b[39;49m\u001b[43m \u001b[49m\u001b[38;5;241;43m0.0\u001b[39;49m\u001b[43m,\u001b[49m\u001b[43m \u001b[49m\u001b[38;5;66;43;03m#현재 안씀. 걍 빼기 해버림\u001b[39;49;00m\n\u001b[1;32m     21\u001b[0m \u001b[43m                \u001b[49m\u001b[43mlif_layer_sg_width\u001b[49m\u001b[43m \u001b[49m\u001b[38;5;241;43m=\u001b[39;49m\u001b[43m \u001b[49m\u001b[38;5;241;43m1.0\u001b[39;49m\u001b[43m,\u001b[49m\u001b[43m \u001b[49m\u001b[38;5;66;43;03m# surrogate sigmoid 쓸 때는 의미없음\u001b[39;49;00m\n\u001b[1;32m     22\u001b[0m \n\u001b[1;32m     23\u001b[0m \u001b[43m                \u001b[49m\u001b[38;5;66;43;03m# synapse_conv_in_channels = IMAGE_PIXEL_CHANNEL,\u001b[39;49;00m\n\u001b[1;32m     24\u001b[0m \u001b[43m                \u001b[49m\u001b[43msynapse_conv_kernel_size\u001b[49m\u001b[43m \u001b[49m\u001b[38;5;241;43m=\u001b[39;49m\u001b[43m \u001b[49m\u001b[38;5;241;43m3\u001b[39;49m\u001b[43m,\u001b[49m\n\u001b[1;32m     25\u001b[0m \u001b[43m                \u001b[49m\u001b[43msynapse_conv_stride\u001b[49m\u001b[43m \u001b[49m\u001b[38;5;241;43m=\u001b[39;49m\u001b[43m \u001b[49m\u001b[38;5;241;43m1\u001b[39;49m\u001b[43m,\u001b[49m\n\u001b[1;32m     26\u001b[0m \u001b[43m                \u001b[49m\u001b[43msynapse_conv_padding\u001b[49m\u001b[43m \u001b[49m\u001b[38;5;241;43m=\u001b[39;49m\u001b[43m \u001b[49m\u001b[38;5;241;43m1\u001b[39;49m\u001b[43m,\u001b[49m\n\u001b[1;32m     27\u001b[0m \u001b[43m                \u001b[49m\u001b[43msynapse_conv_trace_const1\u001b[49m\u001b[43m \u001b[49m\u001b[38;5;241;43m=\u001b[39;49m\u001b[43m \u001b[49m\u001b[38;5;241;43m1\u001b[39;49m\u001b[43m,\u001b[49m\n\u001b[1;32m     28\u001b[0m \u001b[43m                \u001b[49m\u001b[43msynapse_conv_trace_const2\u001b[49m\u001b[43m \u001b[49m\u001b[38;5;241;43m=\u001b[39;49m\u001b[43m \u001b[49m\u001b[43mdecay\u001b[49m\u001b[43m,\u001b[49m\u001b[43m \u001b[49m\u001b[38;5;66;43;03m# lif_layer_v_decay\u001b[39;49;00m\n\u001b[1;32m     29\u001b[0m \n\u001b[1;32m     30\u001b[0m \u001b[43m                \u001b[49m\u001b[38;5;66;43;03m# synapse_fc_out_features = CLASS_NUM,\u001b[39;49;00m\n\u001b[1;32m     31\u001b[0m \u001b[43m                \u001b[49m\u001b[43msynapse_fc_trace_const1\u001b[49m\u001b[43m \u001b[49m\u001b[38;5;241;43m=\u001b[39;49m\u001b[43m \u001b[49m\u001b[38;5;241;43m1\u001b[39;49m\u001b[43m,\u001b[49m\n\u001b[1;32m     32\u001b[0m \u001b[43m                \u001b[49m\u001b[43msynapse_fc_trace_const2\u001b[49m\u001b[43m \u001b[49m\u001b[38;5;241;43m=\u001b[39;49m\u001b[43m \u001b[49m\u001b[43mdecay\u001b[49m\u001b[43m,\u001b[49m\u001b[43m \u001b[49m\u001b[38;5;66;43;03m# lif_layer_v_decay\u001b[39;49;00m\n\u001b[1;32m     33\u001b[0m \n\u001b[1;32m     34\u001b[0m \u001b[43m                \u001b[49m\u001b[43mpre_trained\u001b[49m\u001b[43m \u001b[49m\u001b[38;5;241;43m=\u001b[39;49m\u001b[43m \u001b[49m\u001b[38;5;28;43;01mFalse\u001b[39;49;00m\u001b[43m,\u001b[49m\u001b[43m \u001b[49m\u001b[38;5;66;43;03m# True # False\u001b[39;49;00m\n\u001b[1;32m     35\u001b[0m \u001b[43m                \u001b[49m\u001b[43mconvTrue_fcFalse\u001b[49m\u001b[43m \u001b[49m\u001b[38;5;241;43m=\u001b[39;49m\u001b[43m \u001b[49m\u001b[38;5;28;43;01mTrue\u001b[39;49;00m\u001b[43m,\u001b[49m\u001b[43m \u001b[49m\u001b[38;5;66;43;03m# True # False\u001b[39;49;00m\n\u001b[1;32m     36\u001b[0m \n\u001b[1;32m     37\u001b[0m \u001b[43m                \u001b[49m\u001b[38;5;66;43;03m# 'P' for average pooling, 'M' for maxpooling, 'L' for linear classifier, [  ] for residual block\u001b[39;49;00m\n\u001b[1;32m     38\u001b[0m \u001b[43m                \u001b[49m\u001b[38;5;66;43;03m# cfg = [64],\u001b[39;49;00m\n\u001b[1;32m     39\u001b[0m \u001b[43m                \u001b[49m\u001b[38;5;66;43;03m# cfg = [64,[64,64],64], # 끝에 linear classifier 하나 자동으로 붙습니다\u001b[39;49;00m\n\u001b[1;32m     40\u001b[0m \u001b[43m                \u001b[49m\u001b[38;5;66;43;03m# cfg = [64, 128, 'P', 256, 256, 'P', 512, 512, 'P', 512, 512], \u001b[39;49;00m\n\u001b[1;32m     41\u001b[0m \u001b[43m                \u001b[49m\u001b[43mcfg\u001b[49m\u001b[43m \u001b[49m\u001b[38;5;241;43m=\u001b[39;49m\u001b[43m \u001b[49m\u001b[43m[\u001b[49m\u001b[38;5;241;43m64\u001b[39;49m\u001b[43m,\u001b[49m\u001b[43m \u001b[49m\u001b[38;5;241;43m128\u001b[39;49m\u001b[43m,\u001b[49m\u001b[43m \u001b[49m\u001b[38;5;124;43m'\u001b[39;49m\u001b[38;5;124;43mM\u001b[39;49m\u001b[38;5;124;43m'\u001b[39;49m\u001b[43m,\u001b[49m\u001b[43m \u001b[49m\u001b[38;5;241;43m256\u001b[39;49m\u001b[43m,\u001b[49m\u001b[43m \u001b[49m\u001b[38;5;241;43m256\u001b[39;49m\u001b[43m,\u001b[49m\u001b[43m \u001b[49m\u001b[38;5;124;43m'\u001b[39;49m\u001b[38;5;124;43mM\u001b[39;49m\u001b[38;5;124;43m'\u001b[39;49m\u001b[43m,\u001b[49m\u001b[43m \u001b[49m\u001b[38;5;241;43m512\u001b[39;49m\u001b[43m,\u001b[49m\u001b[43m \u001b[49m\u001b[38;5;241;43m512\u001b[39;49m\u001b[43m,\u001b[49m\u001b[43m \u001b[49m\u001b[38;5;124;43m'\u001b[39;49m\u001b[38;5;124;43mM\u001b[39;49m\u001b[38;5;124;43m'\u001b[39;49m\u001b[43m,\u001b[49m\u001b[43m \u001b[49m\u001b[38;5;241;43m512\u001b[39;49m\u001b[43m,\u001b[49m\u001b[43m \u001b[49m\u001b[38;5;241;43m512\u001b[39;49m\u001b[43m]\u001b[49m\u001b[43m,\u001b[49m\u001b[43m \u001b[49m\u001b[38;5;66;43;03m# ottt \u001b[39;49;00m\n\u001b[1;32m     42\u001b[0m \u001b[43m                \u001b[49m\u001b[38;5;66;43;03m# cfg = [64, 'P', 128, 'P', 256, 256, 'P', 512, 512, 512, 512], # nda\u001b[39;49;00m\n\u001b[1;32m     43\u001b[0m \u001b[43m                \u001b[49m\u001b[38;5;66;43;03m# cfg = [64, 'P', 128, 'P', 256, 256, 'P', 512, 512, 512, 512, 'L', 4096, 4096],\u001b[39;49;00m\n\u001b[1;32m     44\u001b[0m \n\u001b[1;32m     45\u001b[0m \n\u001b[1;32m     46\u001b[0m \u001b[43m                \u001b[49m\u001b[43mnet_print\u001b[49m\u001b[43m \u001b[49m\u001b[38;5;241;43m=\u001b[39;49m\u001b[43m \u001b[49m\u001b[38;5;28;43;01mFalse\u001b[39;49;00m\u001b[43m,\u001b[49m\u001b[43m \u001b[49m\u001b[38;5;66;43;03m# True # False\u001b[39;49;00m\n\u001b[1;32m     47\u001b[0m \u001b[43m                \u001b[49m\u001b[43mpre_trained_path\u001b[49m\u001b[43m \u001b[49m\u001b[38;5;241;43m=\u001b[39;49m\u001b[43m \u001b[49m\u001b[38;5;124;43m\"\u001b[39;49m\u001b[38;5;124;43mnet_save/save_now_net.pth\u001b[39;49m\u001b[38;5;124;43m\"\u001b[39;49m\u001b[43m,\u001b[49m\n\u001b[1;32m     48\u001b[0m \u001b[43m                \u001b[49m\u001b[43mlearning_rate\u001b[49m\u001b[43m \u001b[49m\u001b[38;5;241;43m=\u001b[39;49m\u001b[43m \u001b[49m\u001b[38;5;241;43m0.001\u001b[39;49m\u001b[43m,\u001b[49m\u001b[43m  \u001b[49m\u001b[38;5;66;43;03m# ottt 0.1  # nda 0.001\u001b[39;49;00m\n\u001b[1;32m     49\u001b[0m \u001b[43m                \u001b[49m\u001b[43mepoch_num\u001b[49m\u001b[43m \u001b[49m\u001b[38;5;241;43m=\u001b[39;49m\u001b[43m \u001b[49m\u001b[38;5;241;43m200\u001b[39;49m\u001b[43m,\u001b[49m\n\u001b[1;32m     50\u001b[0m \u001b[43m                \u001b[49m\u001b[43mverbose_interval\u001b[49m\u001b[43m \u001b[49m\u001b[38;5;241;43m=\u001b[39;49m\u001b[43m \u001b[49m\u001b[38;5;241;43m50\u001b[39;49m\u001b[43m,\u001b[49m\u001b[43m \u001b[49m\u001b[38;5;66;43;03m#숫자 크게 하면 꺼짐\u001b[39;49;00m\n\u001b[1;32m     51\u001b[0m \u001b[43m                \u001b[49m\u001b[43mvalidation_interval\u001b[49m\u001b[43m \u001b[49m\u001b[38;5;241;43m=\u001b[39;49m\u001b[43m \u001b[49m\u001b[38;5;241;43m50\u001b[39;49m\u001b[43m,\u001b[49m\u001b[43m \u001b[49m\u001b[38;5;66;43;03m#숫자 크게 하면 꺼짐\u001b[39;49;00m\n\u001b[1;32m     52\u001b[0m \u001b[43m                \u001b[49m\u001b[43mtdBN_on\u001b[49m\u001b[43m \u001b[49m\u001b[38;5;241;43m=\u001b[39;49m\u001b[43m \u001b[49m\u001b[38;5;28;43;01mFalse\u001b[39;49;00m\u001b[43m,\u001b[49m\u001b[43m  \u001b[49m\u001b[38;5;66;43;03m# True # False\u001b[39;49;00m\n\u001b[1;32m     53\u001b[0m \u001b[43m                \u001b[49m\u001b[43mBN_on\u001b[49m\u001b[43m \u001b[49m\u001b[38;5;241;43m=\u001b[39;49m\u001b[43m \u001b[49m\u001b[38;5;28;43;01mTrue\u001b[39;49;00m\u001b[43m,\u001b[49m\u001b[43m  \u001b[49m\u001b[38;5;66;43;03m# True # False\u001b[39;49;00m\n\u001b[1;32m     54\u001b[0m \u001b[43m                \u001b[49m\n\u001b[1;32m     55\u001b[0m \u001b[43m                \u001b[49m\u001b[43msurrogate\u001b[49m\u001b[43m \u001b[49m\u001b[38;5;241;43m=\u001b[39;49m\u001b[43m \u001b[49m\u001b[38;5;124;43m'\u001b[39;49m\u001b[38;5;124;43msigmoid\u001b[39;49m\u001b[38;5;124;43m'\u001b[39;49m\u001b[43m,\u001b[49m\u001b[43m \u001b[49m\u001b[38;5;66;43;03m# 'rectangle' 'sigmoid' 'rough_rectangle'\u001b[39;49;00m\n\u001b[1;32m     56\u001b[0m \u001b[43m                \u001b[49m\n\u001b[1;32m     57\u001b[0m \u001b[43m                \u001b[49m\u001b[43mgradient_verbose\u001b[49m\u001b[43m \u001b[49m\u001b[38;5;241;43m=\u001b[39;49m\u001b[43m \u001b[49m\u001b[38;5;28;43;01mFalse\u001b[39;49;00m\u001b[43m,\u001b[49m\u001b[43m  \u001b[49m\u001b[38;5;66;43;03m# True # False  # weight gradient 각 layer마다 띄워줌\u001b[39;49;00m\n\u001b[1;32m     58\u001b[0m \n\u001b[1;32m     59\u001b[0m \u001b[43m                \u001b[49m\u001b[43mBPTT_on\u001b[49m\u001b[43m \u001b[49m\u001b[38;5;241;43m=\u001b[39;49m\u001b[43m \u001b[49m\u001b[38;5;28;43;01mFalse\u001b[39;49;00m\u001b[43m,\u001b[49m\u001b[43m  \u001b[49m\u001b[38;5;66;43;03m# True # False # True이면 BPTT, False이면 OTTT\u001b[39;49;00m\n\u001b[1;32m     60\u001b[0m \n\u001b[1;32m     61\u001b[0m \u001b[43m                \u001b[49m\u001b[43mscheduler_name\u001b[49m\u001b[43m \u001b[49m\u001b[38;5;241;43m=\u001b[39;49m\u001b[43m \u001b[49m\u001b[38;5;124;43m'\u001b[39;49m\u001b[38;5;124;43mCosineAnnealingLR\u001b[39;49m\u001b[38;5;124;43m'\u001b[39;49m\u001b[43m,\u001b[49m\u001b[43m \u001b[49m\u001b[38;5;66;43;03m# 'no' 'StepLR' 'ExponentialLR' 'ReduceLROnPlateau' 'CosineAnnealingLR' 'OneCycleLR'\u001b[39;49;00m\n\u001b[1;32m     62\u001b[0m \u001b[43m                \u001b[49m\n\u001b[1;32m     63\u001b[0m \u001b[43m                \u001b[49m\u001b[43mddp_on\u001b[49m\u001b[43m \u001b[49m\u001b[38;5;241;43m=\u001b[39;49m\u001b[43m \u001b[49m\u001b[38;5;28;43;01mFalse\u001b[39;49;00m\u001b[43m,\u001b[49m\u001b[43m   \u001b[49m\u001b[38;5;66;43;03m# True # False\u001b[39;49;00m\n\u001b[1;32m     64\u001b[0m \n\u001b[1;32m     65\u001b[0m \u001b[43m                \u001b[49m\u001b[43mnda_net\u001b[49m\u001b[43m \u001b[49m\u001b[38;5;241;43m=\u001b[39;49m\u001b[43m \u001b[49m\u001b[38;5;28;43;01mFalse\u001b[39;49;00m\u001b[43m,\u001b[49m\u001b[43m   \u001b[49m\u001b[38;5;66;43;03m# True # False\u001b[39;49;00m\n\u001b[1;32m     66\u001b[0m \u001b[43m                \u001b[49m\u001b[43m)\u001b[49m\n",
      "Cell \u001b[0;32mIn[4], line 269\u001b[0m, in \u001b[0;36mmy_snn_system\u001b[0;34m(devices, my_seed, TIME, BATCH, IMAGE_SIZE, which_data, CLASS_NUM, data_path, rate_coding, lif_layer_v_init, lif_layer_v_decay, lif_layer_v_threshold, lif_layer_v_reset, lif_layer_sg_width, synapse_conv_kernel_size, synapse_conv_stride, synapse_conv_padding, synapse_conv_trace_const1, synapse_conv_trace_const2, synapse_fc_trace_const1, synapse_fc_trace_const2, pre_trained, convTrue_fcFalse, cfg, net_print, pre_trained_path, learning_rate, epoch_num, verbose_interval, validation_interval, tdBN_on, BN_on, surrogate, gradient_verbose, BPTT_on, scheduler_name, ddp_on, nda_net)\u001b[0m\n\u001b[1;32m    266\u001b[0m                 \u001b[38;5;28mprint\u001b[39m(\u001b[38;5;124m'\u001b[39m\u001b[38;5;130;01m\\n\u001b[39;00m\u001b[38;5;130;01m\\n\u001b[39;00m\u001b[38;5;130;01m\\n\u001b[39;00m\u001b[38;5;130;01m\\n\u001b[39;00m\u001b[38;5;124m'\u001b[39m , name, param\u001b[38;5;241m.\u001b[39mgrad)\n\u001b[1;32m    267\u001b[0m \u001b[38;5;66;03m################################################################\u001b[39;00m\n\u001b[0;32m--> 269\u001b[0m \u001b[43moptimizer\u001b[49m\u001b[38;5;241;43m.\u001b[39;49m\u001b[43mstep\u001b[49m\u001b[43m(\u001b[49m\u001b[43m)\u001b[49m\n\u001b[1;32m    271\u001b[0m running_loss \u001b[38;5;241m+\u001b[39m\u001b[38;5;241m=\u001b[39m loss\u001b[38;5;241m.\u001b[39mitem()\n\u001b[1;32m    272\u001b[0m \u001b[38;5;66;03m# print(\"Epoch: {}, Iter: {}, Loss: {}\".format(epoch + 1, i + 1, running_loss / 100))\u001b[39;00m\n",
      "File \u001b[0;32m~/anaconda3/envs/aedat2/lib/python3.8/site-packages/torch/optim/lr_scheduler.py:65\u001b[0m, in \u001b[0;36m_LRScheduler.__init__.<locals>.with_counter.<locals>.wrapper\u001b[0;34m(*args, **kwargs)\u001b[0m\n\u001b[1;32m     63\u001b[0m instance\u001b[38;5;241m.\u001b[39m_step_count \u001b[38;5;241m+\u001b[39m\u001b[38;5;241m=\u001b[39m \u001b[38;5;241m1\u001b[39m\n\u001b[1;32m     64\u001b[0m wrapped \u001b[38;5;241m=\u001b[39m func\u001b[38;5;241m.\u001b[39m\u001b[38;5;21m__get__\u001b[39m(instance, \u001b[38;5;28mcls\u001b[39m)\n\u001b[0;32m---> 65\u001b[0m \u001b[38;5;28;01mreturn\u001b[39;00m \u001b[43mwrapped\u001b[49m\u001b[43m(\u001b[49m\u001b[38;5;241;43m*\u001b[39;49m\u001b[43margs\u001b[49m\u001b[43m,\u001b[49m\u001b[43m \u001b[49m\u001b[38;5;241;43m*\u001b[39;49m\u001b[38;5;241;43m*\u001b[39;49m\u001b[43mkwargs\u001b[49m\u001b[43m)\u001b[49m\n",
      "File \u001b[0;32m~/anaconda3/envs/aedat2/lib/python3.8/site-packages/torch/optim/optimizer.py:88\u001b[0m, in \u001b[0;36mOptimizer._hook_for_profile.<locals>.profile_hook_step.<locals>.wrapper\u001b[0;34m(*args, **kwargs)\u001b[0m\n\u001b[1;32m     86\u001b[0m profile_name \u001b[38;5;241m=\u001b[39m \u001b[38;5;124m\"\u001b[39m\u001b[38;5;124mOptimizer.step#\u001b[39m\u001b[38;5;132;01m{}\u001b[39;00m\u001b[38;5;124m.step\u001b[39m\u001b[38;5;124m\"\u001b[39m\u001b[38;5;241m.\u001b[39mformat(obj\u001b[38;5;241m.\u001b[39m\u001b[38;5;18m__class__\u001b[39m\u001b[38;5;241m.\u001b[39m\u001b[38;5;18m__name__\u001b[39m)\n\u001b[1;32m     87\u001b[0m \u001b[38;5;28;01mwith\u001b[39;00m torch\u001b[38;5;241m.\u001b[39mautograd\u001b[38;5;241m.\u001b[39mprofiler\u001b[38;5;241m.\u001b[39mrecord_function(profile_name):\n\u001b[0;32m---> 88\u001b[0m     \u001b[38;5;28;01mreturn\u001b[39;00m \u001b[43mfunc\u001b[49m\u001b[43m(\u001b[49m\u001b[38;5;241;43m*\u001b[39;49m\u001b[43margs\u001b[49m\u001b[43m,\u001b[49m\u001b[43m \u001b[49m\u001b[38;5;241;43m*\u001b[39;49m\u001b[38;5;241;43m*\u001b[39;49m\u001b[43mkwargs\u001b[49m\u001b[43m)\u001b[49m\n",
      "File \u001b[0;32m~/anaconda3/envs/aedat2/lib/python3.8/site-packages/torch/autograd/grad_mode.py:28\u001b[0m, in \u001b[0;36m_DecoratorContextManager.__call__.<locals>.decorate_context\u001b[0;34m(*args, **kwargs)\u001b[0m\n\u001b[1;32m     25\u001b[0m \u001b[38;5;129m@functools\u001b[39m\u001b[38;5;241m.\u001b[39mwraps(func)\n\u001b[1;32m     26\u001b[0m \u001b[38;5;28;01mdef\u001b[39;00m \u001b[38;5;21mdecorate_context\u001b[39m(\u001b[38;5;241m*\u001b[39margs, \u001b[38;5;241m*\u001b[39m\u001b[38;5;241m*\u001b[39mkwargs):\n\u001b[1;32m     27\u001b[0m     \u001b[38;5;28;01mwith\u001b[39;00m \u001b[38;5;28mself\u001b[39m\u001b[38;5;241m.\u001b[39m\u001b[38;5;18m__class__\u001b[39m():\n\u001b[0;32m---> 28\u001b[0m         \u001b[38;5;28;01mreturn\u001b[39;00m \u001b[43mfunc\u001b[49m\u001b[43m(\u001b[49m\u001b[38;5;241;43m*\u001b[39;49m\u001b[43margs\u001b[49m\u001b[43m,\u001b[49m\u001b[43m \u001b[49m\u001b[38;5;241;43m*\u001b[39;49m\u001b[38;5;241;43m*\u001b[39;49m\u001b[43mkwargs\u001b[49m\u001b[43m)\u001b[49m\n",
      "File \u001b[0;32m~/anaconda3/envs/aedat2/lib/python3.8/site-packages/torch/optim/sgd.py:136\u001b[0m, in \u001b[0;36mSGD.step\u001b[0;34m(self, closure)\u001b[0m\n\u001b[1;32m    133\u001b[0m         \u001b[38;5;28;01melse\u001b[39;00m:\n\u001b[1;32m    134\u001b[0m             momentum_buffer_list\u001b[38;5;241m.\u001b[39mappend(state[\u001b[38;5;124m'\u001b[39m\u001b[38;5;124mmomentum_buffer\u001b[39m\u001b[38;5;124m'\u001b[39m])\n\u001b[0;32m--> 136\u001b[0m \u001b[43mF\u001b[49m\u001b[38;5;241;43m.\u001b[39;49m\u001b[43msgd\u001b[49m\u001b[43m(\u001b[49m\u001b[43mparams_with_grad\u001b[49m\u001b[43m,\u001b[49m\n\u001b[1;32m    137\u001b[0m \u001b[43m      \u001b[49m\u001b[43md_p_list\u001b[49m\u001b[43m,\u001b[49m\n\u001b[1;32m    138\u001b[0m \u001b[43m      \u001b[49m\u001b[43mmomentum_buffer_list\u001b[49m\u001b[43m,\u001b[49m\n\u001b[1;32m    139\u001b[0m \u001b[43m      \u001b[49m\u001b[43mweight_decay\u001b[49m\u001b[38;5;241;43m=\u001b[39;49m\u001b[43mweight_decay\u001b[49m\u001b[43m,\u001b[49m\n\u001b[1;32m    140\u001b[0m \u001b[43m      \u001b[49m\u001b[43mmomentum\u001b[49m\u001b[38;5;241;43m=\u001b[39;49m\u001b[43mmomentum\u001b[49m\u001b[43m,\u001b[49m\n\u001b[1;32m    141\u001b[0m \u001b[43m      \u001b[49m\u001b[43mlr\u001b[49m\u001b[38;5;241;43m=\u001b[39;49m\u001b[43mlr\u001b[49m\u001b[43m,\u001b[49m\n\u001b[1;32m    142\u001b[0m \u001b[43m      \u001b[49m\u001b[43mdampening\u001b[49m\u001b[38;5;241;43m=\u001b[39;49m\u001b[43mdampening\u001b[49m\u001b[43m,\u001b[49m\n\u001b[1;32m    143\u001b[0m \u001b[43m      \u001b[49m\u001b[43mnesterov\u001b[49m\u001b[38;5;241;43m=\u001b[39;49m\u001b[43mnesterov\u001b[49m\u001b[43m)\u001b[49m\n\u001b[1;32m    145\u001b[0m \u001b[38;5;66;03m# update momentum_buffers in state\u001b[39;00m\n\u001b[1;32m    146\u001b[0m \u001b[38;5;28;01mfor\u001b[39;00m p, momentum_buffer \u001b[38;5;129;01min\u001b[39;00m \u001b[38;5;28mzip\u001b[39m(params_with_grad, momentum_buffer_list):\n",
      "File \u001b[0;32m~/anaconda3/envs/aedat2/lib/python3.8/site-packages/torch/optim/_functional.py:173\u001b[0m, in \u001b[0;36msgd\u001b[0;34m(params, d_p_list, momentum_buffer_list, weight_decay, momentum, lr, dampening, nesterov)\u001b[0m\n\u001b[1;32m    171\u001b[0m     momentum_buffer_list[i] \u001b[38;5;241m=\u001b[39m buf\n\u001b[1;32m    172\u001b[0m \u001b[38;5;28;01melse\u001b[39;00m:\n\u001b[0;32m--> 173\u001b[0m     \u001b[43mbuf\u001b[49m\u001b[38;5;241;43m.\u001b[39;49m\u001b[43mmul_\u001b[49m\u001b[43m(\u001b[49m\u001b[43mmomentum\u001b[49m\u001b[43m)\u001b[49m\u001b[38;5;241;43m.\u001b[39;49m\u001b[43madd_\u001b[49m\u001b[43m(\u001b[49m\u001b[43md_p\u001b[49m\u001b[43m,\u001b[49m\u001b[43m \u001b[49m\u001b[43malpha\u001b[49m\u001b[38;5;241;43m=\u001b[39;49m\u001b[38;5;241;43m1\u001b[39;49m\u001b[43m \u001b[49m\u001b[38;5;241;43m-\u001b[39;49m\u001b[43m \u001b[49m\u001b[43mdampening\u001b[49m\u001b[43m)\u001b[49m\n\u001b[1;32m    175\u001b[0m \u001b[38;5;28;01mif\u001b[39;00m nesterov:\n\u001b[1;32m    176\u001b[0m     d_p \u001b[38;5;241m=\u001b[39m d_p\u001b[38;5;241m.\u001b[39madd(buf, alpha\u001b[38;5;241m=\u001b[39mmomentum)\n",
      "\u001b[0;31mKeyboardInterrupt\u001b[0m: "
     ]
    }
   ],
   "source": [
    "### my_snn control board ########################\n",
    "decay = 0.5 # 0.875 0.25 0.125 0.75 0.5\n",
    "# nda 0.25 # ottt 0.5\n",
    "\n",
    "my_snn_system(  devices = \"0,1,2,3,4,5\",\n",
    "                my_seed = 42,\n",
    "                TIME = 10, # dvscifar 10 # ottt 6 or 10\n",
    "                BATCH = 128, # batch norm 할거면 2이상으로 해야함   # nda 256   #  ottt 128\n",
    "                IMAGE_SIZE = 48, # dvscifar 48 # MNIST 28 # CIFAR10 32\n",
    "\n",
    "                # DVS-CIFAR10 할거면 time 10으로 해라\n",
    "                which_data = 'DVS-CIFAR10',# 'CIFAR10' 'MNIST' 'FASHION_MNIST' 'DVS-CIFAR10'\n",
    "                CLASS_NUM = 10,\n",
    "                data_path = '/data2', # YOU NEED TO CHANGE THIS\n",
    "                rate_coding = False, # True # False\n",
    "\n",
    "                lif_layer_v_init = 0.0,\n",
    "                lif_layer_v_decay = decay,\n",
    "                lif_layer_v_threshold = 1.0, # nda 0.5  # ottt 1.0\n",
    "                lif_layer_v_reset = 0.0, #현재 안씀. 걍 빼기 해버림\n",
    "                lif_layer_sg_width = 1.0, # surrogate sigmoid 쓸 때는 의미없음\n",
    "\n",
    "                # synapse_conv_in_channels = IMAGE_PIXEL_CHANNEL,\n",
    "                synapse_conv_kernel_size = 3,\n",
    "                synapse_conv_stride = 1,\n",
    "                synapse_conv_padding = 1,\n",
    "                synapse_conv_trace_const1 = 1,\n",
    "                synapse_conv_trace_const2 = decay, # lif_layer_v_decay\n",
    "\n",
    "                # synapse_fc_out_features = CLASS_NUM,\n",
    "                synapse_fc_trace_const1 = 1,\n",
    "                synapse_fc_trace_const2 = decay, # lif_layer_v_decay\n",
    "\n",
    "                pre_trained = False, # True # False\n",
    "                convTrue_fcFalse = True, # True # False\n",
    "\n",
    "                # 'P' for average pooling, 'M' for maxpooling, 'L' for linear classifier, [  ] for residual block\n",
    "                # cfg = [64],\n",
    "                # cfg = [64,[64,64],64], # 끝에 linear classifier 하나 자동으로 붙습니다\n",
    "                # cfg = [64, 128, 'P', 256, 256, 'P', 512, 512, 'P', 512, 512], \n",
    "                cfg = [64, 128, 'M', 256, 256, 'M', 512, 512, 'M', 512, 512], # ottt \n",
    "                # cfg = [64, 'P', 128, 'P', 256, 256, 'P', 512, 512, 512, 512], # nda\n",
    "                # cfg = [64, 'P', 128, 'P', 256, 256, 'P', 512, 512, 512, 512, 'L', 4096, 4096],\n",
    "\n",
    "\n",
    "                net_print = False, # True # False\n",
    "                pre_trained_path = \"net_save/save_now_net.pth\",\n",
    "                learning_rate = 0.001,  # ottt 0.1  # nda 0.001\n",
    "                epoch_num = 200,\n",
    "                verbose_interval = 50, #숫자 크게 하면 꺼짐\n",
    "                validation_interval = 50, #숫자 크게 하면 꺼짐\n",
    "                tdBN_on = False,  # True # False\n",
    "                BN_on = True,  # True # False\n",
    "                \n",
    "                surrogate = 'sigmoid', # 'rectangle' 'sigmoid' 'rough_rectangle'\n",
    "                \n",
    "                gradient_verbose = False,  # True # False  # weight gradient 각 layer마다 띄워줌\n",
    "\n",
    "                BPTT_on = False,  # True # False # True이면 BPTT, False이면 OTTT\n",
    "\n",
    "                scheduler_name = 'CosineAnnealingLR', # 'no' 'StepLR' 'ExponentialLR' 'ReduceLROnPlateau' 'CosineAnnealingLR' 'OneCycleLR'\n",
    "                \n",
    "                ddp_on = False,   # True # False\n",
    "\n",
    "                nda_net = False,   # True # False\n",
    "                ) \n",
    "# sigmoid와 BN이 있어야 잘된다.\n",
    "# average pooling이 낫다.\n",
    "\n",
    "# nda에서는 decay = 0.25, threshold = 0.5, width =1, surrogate = rectangle, batch = 256, tdBN = True\n",
    "## OTTT 에서는 decay = 0.5, threshold = 1.0, surrogate = sigmoid, batch = 128, BN = True\n"
   ]
  }
 ],
 "metadata": {
  "kernelspec": {
   "display_name": "nfs",
   "language": "python",
   "name": "python3"
  },
  "language_info": {
   "codemirror_mode": {
    "name": "ipython",
    "version": 3
   },
   "file_extension": ".py",
   "mimetype": "text/x-python",
   "name": "python",
   "nbconvert_exporter": "python",
   "pygments_lexer": "ipython3",
   "version": "3.8.18"
  }
 },
 "nbformat": 4,
 "nbformat_minor": 2
}
