{
 "cells": [
  {
   "cell_type": "code",
   "execution_count": 1,
   "metadata": {},
   "outputs": [],
   "source": [
    "# Copyright (c) 2024 Byeonghyeon Kim \n",
    "# github site: https://github.com/bhkim003/ByeonghyeonKim\n",
    "# email: bhkim003@snu.ac.kr\n",
    " \n",
    "# Permission is hereby granted, free of charge, to any person obtaining a copy of\n",
    "# this software and associated documentation files (the \"Software\"), to deal in\n",
    "# the Software without restriction, including without limitation the rights to\n",
    "# use, copy, modify, merge, publish, distribute, sublicense, and/or sell copies of\n",
    "# the Software, and to permit persons to whom the Software is furnished to do so,\n",
    "# subject to the following conditions:\n",
    " \n",
    "# The above copyright notice and this permission notice shall be included in all\n",
    "# copies or substantial portions of the Software.\n",
    " \n",
    "# THE SOFTWARE IS PROVIDED \"AS IS\", WITHOUT WARRANTY OF ANY KIND, EXPRESS OR\n",
    "# IMPLIED, INCLUDING BUT NOT LIMITED TO THE WARRANTIES OF MERCHANTABILITY, FITNESS\n",
    "# FOR A PARTICULAR PURPOSE AND NONINFRINGEMENT. IN NO EVENT SHALL THE AUTHORS OR\n",
    "# COPYRIGHT HOLDERS BE LIABLE FOR ANY CLAIM, DAMAGES OR OTHER LIABILITY, WHETHER\n",
    "# IN AN ACTION OF CONTRACT, TORT OR OTHERWISE, ARISING FROM, OUT OF OR IN\n",
    "# CONNECTION WITH THE SOFTWARE OR THE USE OR OTHER DEALINGS IN THE SOFTWARE.\n"
   ]
  },
  {
   "cell_type": "code",
   "execution_count": 2,
   "metadata": {},
   "outputs": [],
   "source": [
    "import sys\n",
    "import os\n",
    "import torch\n",
    "import torch.nn as nn\n",
    "import torch.nn.functional as F\n",
    "import torch.backends.cudnn as cudnn\n",
    "import torch.optim as optim\n",
    "import torch.optim.lr_scheduler as lr_scheduler\n",
    "from torch.utils.data import Dataset, DataLoader\n",
    "\n",
    "import torchvision\n",
    "import torchvision.datasets\n",
    "import torchvision.transforms as transforms\n",
    "\n",
    "import numpy as np\n",
    "import matplotlib.pyplot as plt\n",
    "\n",
    "import time\n",
    "\n",
    "from snntorch import spikegen\n",
    "import matplotlib.pyplot as plt\n",
    "import snntorch.spikeplot as splt\n",
    "from IPython.display import HTML\n",
    "\n",
    "from tqdm import tqdm\n",
    "\n",
    "from apex.parallel import DistributedDataParallel as DDP\n",
    "\n",
    "import random\n",
    "import datetime\n",
    "\n",
    "import json\n",
    "\n",
    "from sklearn.utils import shuffle\n"
   ]
  },
  {
   "cell_type": "code",
   "execution_count": 3,
   "metadata": {},
   "outputs": [],
   "source": [
    "# my module import\n",
    "from modules import *\n",
    "\n",
    "# modules 폴더에 새모듈.py 만들면\n",
    "# modules/__init__py 파일에 form .새모듈 import * 하셈\n",
    "# 그리고 새모듈.py에서 from modules.새모듈 import * 하셈\n"
   ]
  },
  {
   "cell_type": "code",
   "execution_count": 4,
   "metadata": {},
   "outputs": [],
   "source": [
    "def my_snn_system(devices = \"0,1,2,3\",\n",
    "                    my_seed = 42,\n",
    "                    TIME = 8,\n",
    "                    BATCH = 256,\n",
    "                    IMAGE_SIZE = 32,\n",
    "                    which_data = 'CIFAR10',\n",
    "                    # CLASS_NUM = 10,\n",
    "                    data_path = '/data2',\n",
    "                    rate_coding = True,\n",
    "    \n",
    "                    lif_layer_v_init = 0.0,\n",
    "                    lif_layer_v_decay = 0.6,\n",
    "                    lif_layer_v_threshold = 1.2,\n",
    "                    lif_layer_v_reset = 0.0,\n",
    "                    lif_layer_sg_width = 1,\n",
    "\n",
    "                    # synapse_conv_in_channels = IMAGE_PIXEL_CHANNEL,\n",
    "                    synapse_conv_kernel_size = 3,\n",
    "                    synapse_conv_stride = 1,\n",
    "                    synapse_conv_padding = 1,\n",
    "                    synapse_conv_trace_const1 = 1,\n",
    "                    synapse_conv_trace_const2 = 0.6,\n",
    "\n",
    "                    # synapse_fc_out_features = CLASS_NUM,\n",
    "                    synapse_fc_trace_const1 = 1,\n",
    "                    synapse_fc_trace_const2 = 0.6,\n",
    "\n",
    "                    pre_trained = False,\n",
    "                    convTrue_fcFalse = True,\n",
    "                    cfg = [64, 64],\n",
    "                    net_print = False, # True # False\n",
    "                    weight_count_print = False, # True # False\n",
    "                    pre_trained_path = \"net_save/save_now_net.pth\",\n",
    "                    learning_rate = 0.0001,\n",
    "                    epoch_num = 200,\n",
    "                    verbose_interval = 100, #숫자 크게 하면 꺼짐\n",
    "                    validation_interval = 10, #숫자 크게 하면 꺼짐\n",
    "                    tdBN_on = False,\n",
    "                    BN_on = False,\n",
    "\n",
    "                    surrogate = 'sigmoid',\n",
    "\n",
    "                    gradient_verbose = False,\n",
    "\n",
    "                    BPTT_on = False,\n",
    "\n",
    "                    optimizer_what = 'SGD', # 'SGD' 'Adam', 'RMSprop'\n",
    "                    scheduler_name = 'no',\n",
    "                    \n",
    "                    ddp_on = True,\n",
    "\n",
    "                    nda_net = False,\n",
    "                    \n",
    "                    domain_il_epoch = 0, # over 0, then domain il mode on\n",
    "                  ):\n",
    "    # 함수 내 모든 로컬 변수 저장\n",
    "    hyperparameters = locals()\n",
    "    hyperparameters['current epoch'] = 0\n",
    "\n",
    "    os.environ[\"CUDA_DEVICE_ORDER\"]=\"PCI_BUS_ID\" \n",
    "    os.environ[\"CUDA_VISIBLE_DEVICES\"]= devices\n",
    "\n",
    "    \n",
    "    torch.manual_seed(my_seed)\n",
    "\n",
    "\n",
    "    \n",
    "    # data loader, pixel channel, class num\n",
    "    train_loader, test_loader, synapse_conv_in_channels, CLASS_NUM = data_loader(\n",
    "            which_data,\n",
    "            data_path, \n",
    "            rate_coding, \n",
    "            BATCH, \n",
    "            IMAGE_SIZE,\n",
    "            ddp_on)\n",
    "    synapse_fc_out_features = CLASS_NUM\n",
    "\n",
    "\n",
    "    ## parameter number calculator ##########################################\n",
    "    params_num = 0\n",
    "    img_size = IMAGE_SIZE \n",
    "    bias_param = 1 # 1 or 0\n",
    "    classifier_making = False\n",
    "    if (convTrue_fcFalse == True):\n",
    "        past_kernel = synapse_conv_in_channels\n",
    "        for kernel in cfg:\n",
    "            if (classifier_making == False):\n",
    "                if (type(kernel) == list):\n",
    "                    for residual_kernel in kernel:\n",
    "                        if (residual_kernel >= 10000 and residual_kernel < 20000): # separable\n",
    "                            residual_kernel -= 10000\n",
    "                            params_num += (synapse_conv_kernel_size**2 + bias_param) * past_kernel\n",
    "                            params_num += (1**2 * past_kernel + bias_param) * residual_kernel\n",
    "                            past_kernel = residual_kernel  \n",
    "                        elif (residual_kernel >= 20000 and residual_kernel < 30000): # depthwise\n",
    "                            residual_kernel -= 20000\n",
    "                            # 'past_kernel' should be same with 'kernel'\n",
    "                            params_num += (synapse_conv_kernel_size**2 + bias_param) * past_kernel\n",
    "                            past_kernel = residual_kernel  \n",
    "                        else:\n",
    "                            params_num += residual_kernel * ((synapse_conv_kernel_size**2) * past_kernel + bias_param)\n",
    "                            past_kernel = residual_kernel\n",
    "                elif (kernel == 'P' or kernel == 'M'):\n",
    "                    img_size = img_size // 2\n",
    "                elif (kernel == 'D'):\n",
    "                    img_size = 1\n",
    "                elif (kernel == 'L'):\n",
    "                    classifier_making = True\n",
    "                    past_kernel = past_kernel * (img_size**2)\n",
    "                else:\n",
    "                    if (kernel >= 10000 and kernel < 20000): # separable\n",
    "                        kernel -= 10000\n",
    "                        params_num += (synapse_conv_kernel_size**2 + bias_param) * past_kernel\n",
    "                        params_num += (1**2 * past_kernel + bias_param) * kernel\n",
    "                        past_kernel = kernel  \n",
    "                    elif (kernel >= 20000 and kernel < 30000): # depthwise\n",
    "                        kernel -= 20000\n",
    "                        # 'past_kernel' should be same with 'kernel'\n",
    "                        params_num += (synapse_conv_kernel_size**2 + bias_param) * past_kernel\n",
    "                        past_kernel = kernel  \n",
    "                    else:\n",
    "                        params_num += kernel * (synapse_conv_kernel_size**2 * past_kernel + bias_param)\n",
    "                        past_kernel = kernel    \n",
    "            else: # classifier making\n",
    "                params_num += (past_kernel + bias_param) * kernel\n",
    "                past_kernel = kernel\n",
    "        \n",
    "        \n",
    "        if classifier_making == False:\n",
    "            past_kernel = past_kernel*img_size*img_size\n",
    "\n",
    "        params_num += (past_kernel + bias_param) * synapse_fc_out_features\n",
    "    else:\n",
    "        past_in_channel = synapse_conv_in_channels*img_size*img_size\n",
    "        for in_channel in cfg:\n",
    "            if (type(in_channel) == list):\n",
    "                for residual_in_channel in in_channel:\n",
    "                    params_num += (past_in_channel + bias_param) * residual_in_channel\n",
    "                    past_in_channel = residual_in_channel\n",
    "            # elif (in_channel == 'M'): #it's a holy FC layer!\n",
    "            #     img_size = img_size // 2\n",
    "            else:\n",
    "                params_num += (past_in_channel + bias_param) * in_channel\n",
    "                past_in_channel = in_channel\n",
    "        params_num += (past_in_channel + bias_param) * synapse_fc_out_features\n",
    "    ## parameter number calculator ##########################################\n",
    "\n",
    "\n",
    "    device = torch.device(\"cuda\" if torch.cuda.is_available() else \"cpu\")\n",
    "\n",
    "    if pre_trained == False:\n",
    "        if (convTrue_fcFalse == False):\n",
    "            net = MY_SNN_FC(cfg, synapse_conv_in_channels, IMAGE_SIZE, synapse_fc_out_features,\n",
    "                     synapse_fc_trace_const1, synapse_fc_trace_const2, \n",
    "                     lif_layer_v_init, lif_layer_v_decay, \n",
    "                     lif_layer_v_threshold, lif_layer_v_reset,\n",
    "                     lif_layer_sg_width,\n",
    "                     tdBN_on,\n",
    "                     BN_on, TIME,\n",
    "                     surrogate,\n",
    "                     BPTT_on).to(device)\n",
    "        else:\n",
    "            net = MY_SNN_CONV(cfg, synapse_conv_in_channels, IMAGE_SIZE,\n",
    "                     synapse_conv_kernel_size, synapse_conv_stride, \n",
    "                     synapse_conv_padding, synapse_conv_trace_const1, \n",
    "                     synapse_conv_trace_const2, \n",
    "                     lif_layer_v_init, lif_layer_v_decay, \n",
    "                     lif_layer_v_threshold, lif_layer_v_reset,\n",
    "                     lif_layer_sg_width,\n",
    "                     synapse_fc_out_features, synapse_fc_trace_const1, synapse_fc_trace_const2,\n",
    "                     tdBN_on,\n",
    "                     BN_on, TIME,\n",
    "                     surrogate,\n",
    "                     BPTT_on).to(device)\n",
    "        \n",
    "        if (nda_net == True):\n",
    "            net = VGG(cfg = cfg, num_classes=10, batch_norm = tdBN_on, in_c = synapse_conv_in_channels, \n",
    "                      lif_layer_v_threshold=lif_layer_v_threshold, lif_layer_v_decay=lif_layer_v_decay, lif_layer_sg_width=lif_layer_sg_width)\n",
    "            net.T = TIME\n",
    "        net = torch.nn.DataParallel(net)\n",
    "    else:\n",
    "        net = torch.load(pre_trained_path)\n",
    "\n",
    "\n",
    "    net = net.to(device)\n",
    "    if (net_print == True):\n",
    "        print(net)\n",
    "    \n",
    "    ## param num and memory estimation except BN at MY calculation ##########################################\n",
    "    real_param_num = sum(p.numel() for p in net.parameters() if p.requires_grad)\n",
    "    if (weight_count_print == True):\n",
    "        for name, param in net.named_parameters():\n",
    "            if param.requires_grad:\n",
    "                print(f'Layer: {name} | Number of parameters: {param.numel()}')\n",
    "    # Batch norm 있으면 아래 두 개 서로 다를 수 있음.\n",
    "    # assert real_param_num == params_num, f'parameter number is not same. real_param_num: {real_param_num}, params_num: {params_num}'    \n",
    "    print('='*50)\n",
    "    print(f\"My Num of PARAMS: {params_num:,}, system's param_num : {real_param_num:,}\")\n",
    "    memory = params_num / 8 / 1024 / 1024 # MB\n",
    "    precision = 32\n",
    "    memory = memory * precision \n",
    "    print(f\"Memory: {memory:.2f}MiB at {precision}-bit\")\n",
    "    print('='*50)\n",
    "    ##########################################################################\n",
    "\n",
    "    criterion = nn.CrossEntropyLoss().to(device)\n",
    "    \n",
    "    if(optimizer_what == 'SGD'):\n",
    "        # optimizer = optim.SGD(net.parameters(), lr=learning_rate, momentum=0.9)\n",
    "        optimizer = optim.SGD(net.parameters(), lr=learning_rate, momentum=0.9, weight_decay=0)\n",
    "    elif(optimizer_what == 'Adam'):\n",
    "        # optimizer = torch.optim.Adam(net.parameters(), lr=0.00001)\n",
    "        optimizer = torch.optim.Adam(net.parameters(), lr=learning_rate/256 * BATCH, weight_decay=1e-4)\n",
    "        # optimizer = optim.Adam(net.parameters(), lr=learning_rate, weight_decay=0, betas=(0.9, 0.999))\n",
    "    elif(optimizer_what == 'RMSprop'):\n",
    "        pass\n",
    "\n",
    "\n",
    "    if (scheduler_name == 'StepLR'):\n",
    "        scheduler = lr_scheduler.StepLR(optimizer, step_size=10, gamma=0.1)\n",
    "    elif (scheduler_name == 'ExponentialLR'):\n",
    "        scheduler = lr_scheduler.ExponentialLR(optimizer, gamma=0.95)\n",
    "    elif (scheduler_name == 'ReduceLROnPlateau'):\n",
    "        scheduler = lr_scheduler.ReduceLROnPlateau(optimizer, mode='min', factor=0.1, patience=10)\n",
    "    elif (scheduler_name == 'CosineAnnealingLR'):\n",
    "        # scheduler = lr_scheduler.CosineAnnealingLR(optimizer, eta_min=0, T_max=50)\n",
    "        scheduler = torch.optim.lr_scheduler.CosineAnnealingLR(optimizer, eta_min=0, T_max=epoch_num)\n",
    "    elif (scheduler_name == 'OneCycleLR'):\n",
    "        scheduler = lr_scheduler.OneCycleLR(optimizer, max_lr=0.1, steps_per_epoch=len(train_loader), epochs=100)\n",
    "    else:\n",
    "        pass # 'no' scheduler\n",
    "\n",
    "    tr_acc = 0\n",
    "    tr_correct = 0\n",
    "    tr_total = 0\n",
    "    val_acc = 0\n",
    "    val_acc_now = 0\n",
    "    elapsed_time_val = 0\n",
    "    iter_acc_array = np.array([])\n",
    "    tr_acc_array = np.array([])\n",
    "    val_acc_now_array = np.array([])\n",
    "    current_time = datetime.datetime.now().strftime(\"%Y%m%d_%H%M%S\")\n",
    "    for epoch in range(epoch_num):\n",
    "        print('EPOCH', epoch)\n",
    "        epoch_start_time = time.time()\n",
    "        running_loss = 0.0\n",
    "\n",
    "        if (domain_il_epoch>0 and which_data == 'PMNIST'):\n",
    "            k = epoch // domain_il_epoch\n",
    "            xtrain=data[k]['train']['x']\n",
    "            ytrain=data[k]['train']['y']\n",
    "            xtest =data[k]['test']['x']\n",
    "            ytest =data[k]['test']['y']\n",
    "\n",
    "        \n",
    "        iterator = enumerate(train_loader, 0)\n",
    "        if (ddp_on == True):\n",
    "            if torch.distributed.get_rank() == 0:   \n",
    "                iterator = tqdm(iterator, total=len(train_loader), desc='train', dynamic_ncols=True, position=0, leave=True)\n",
    "        else:\n",
    "            iterator = tqdm(iterator, total=len(train_loader), desc='train', dynamic_ncols=True, position=0, leave=True)\n",
    "        \n",
    "        validation_interval2 = validation_interval\n",
    "        if (validation_interval > len(iterator)):\n",
    "            validation_interval2 = len(iterator)\n",
    "            \n",
    "        for i, data in iterator:\n",
    "            iter_one_train_time_start = time.time()\n",
    "            net.train()\n",
    "\n",
    "            ## data loading #################################\n",
    "            inputs, labels = data\n",
    "\n",
    "            \n",
    "            if (which_data == 'DVS_CIFAR10'):\n",
    "                inputs = inputs.permute(1, 0, 2, 3, 4)\n",
    "            elif rate_coding == True :\n",
    "                inputs = spikegen.rate(inputs, num_steps=TIME)\n",
    "            else :\n",
    "                inputs = inputs.repeat(TIME, 1, 1, 1, 1)\n",
    "            # inputs: [Time, Batch, Channel, Height, Width]  \n",
    "            ################################################# \n",
    "\n",
    "            inputs = inputs.to(device)\n",
    "            labels = labels.to(device)\n",
    "\n",
    "            optimizer.zero_grad()\n",
    "\n",
    "            # inputs: [Time, Batch, Channel, Height, Width]   \n",
    "            inputs = inputs.permute(1, 0, 2, 3, 4) # net에 넣어줄때는 batch가 젤 앞 차원으로 와야함. # dataparallel때매\n",
    "            # inputs: [Batch, Time, Channel, Height, Width]   \n",
    "            # print(inputs.size())\n",
    "            outputs = net(inputs)\n",
    "\n",
    "            batch = BATCH \n",
    "            if labels.size(0) != BATCH: \n",
    "                batch = labels.size(0)\n",
    "            \n",
    "\n",
    "\n",
    "            ####### training accruacy save for print ###############################\n",
    "            _, predicted = torch.max(outputs.data, 1)\n",
    "            total = labels.size(0)\n",
    "            correct = (predicted[0:batch] == labels).sum().item()\n",
    "            tr_total += total\n",
    "            tr_correct += correct\n",
    "            iter_acc = correct / total\n",
    "            if i % verbose_interval == verbose_interval-1:\n",
    "                print(f'{epoch}-{i} training acc: {100 * iter_acc:.2f}%, lr={[f\"{lr}\" for lr in (param_group[\"lr\"] for param_group in optimizer.param_groups)]}, val_acc: {100 * val_acc_now:.2f}%')\n",
    "            iter_acc_string = f'{epoch}-{i}/{len(train_loader)} iter_acc: {100 * iter_acc:.2f}%, lr={[f\"{lr}\" for lr in (param_group[\"lr\"] for param_group in optimizer.param_groups)]}'\n",
    "            ################################################################\n",
    "            \n",
    "\n",
    "            loss = criterion(outputs[0:batch,:], labels)\n",
    "            loss.backward()\n",
    "\n",
    "\n",
    "            ### gradinet verbose ##########################################\n",
    "            if (gradient_verbose == True):\n",
    "                if (i % verbose_interval == verbose_interval-1):\n",
    "                    print('\\n\\nepoch', epoch, 'iter', i)\n",
    "                    for name, param in net.named_parameters():\n",
    "                        if param.requires_grad:\n",
    "                            print('\\n\\n\\n\\n' , name, param.grad)\n",
    "            ################################################################\n",
    "            \n",
    "            optimizer.step()\n",
    "\n",
    "            running_loss += loss.item()\n",
    "            # print(\"Epoch: {}, Iter: {}, Loss: {}\".format(epoch + 1, i + 1, running_loss / 100))\n",
    "\n",
    "            iter_one_train_time_end = time.time()\n",
    "            elapsed_time = iter_one_train_time_end - iter_one_train_time_start  # 실행 시간 계산\n",
    "\n",
    "            if (i % verbose_interval == verbose_interval-1):\n",
    "                print(f\"iter_one_train_time: {elapsed_time} seconds, last one_val_time: {elapsed_time_val} seconds\\n\")\n",
    "\n",
    "            ##### validation ##############################################\n",
    "            if i % validation_interval2 == validation_interval2-1:\n",
    "                iter_one_val_time_start = time.time()\n",
    "                tr_acc = tr_correct/tr_total\n",
    "                tr_correct = 0\n",
    "                tr_total = 0\n",
    "                correct = 0\n",
    "                total = 0\n",
    "                with torch.no_grad():\n",
    "                    net.eval()\n",
    "                    for data in test_loader:\n",
    "                        ## data loading #################################\n",
    "                        inputs, labels = data\n",
    "\n",
    "                        \n",
    "                        if (which_data == 'DVS_CIFAR10'):\n",
    "                            inputs = inputs.permute(1, 0, 2, 3, 4)\n",
    "                        elif rate_coding == True :\n",
    "                            inputs = spikegen.rate(inputs, num_steps=TIME)\n",
    "                        else :\n",
    "                            inputs = inputs.repeat(TIME, 1, 1, 1, 1)\n",
    "                        # inputs: [Time, Batch, Channel, Height, Width]  \n",
    "                        ################################################# \n",
    "\n",
    "                        inputs = inputs.to(device)\n",
    "                        labels = labels.to(device)\n",
    "                        outputs = net(inputs.permute(1, 0, 2, 3, 4))\n",
    "                        _, predicted = torch.max(outputs.data, 1)\n",
    "                        total += labels.size(0)\n",
    "                        batch = BATCH \n",
    "                        if labels.size(0) != BATCH: \n",
    "                            batch = labels.size(0)\n",
    "                        correct += (predicted[0:batch] == labels).sum().item()\n",
    "                        val_loss = criterion(outputs[0:batch,:], labels)\n",
    "\n",
    "                    val_acc_now = correct / total\n",
    "                    # print(f'{epoch}-{i} validation acc: {100 * val_acc_now:.2f}%, lr={[f\"{lr:.10f}\" for lr in (param_group[\"lr\"] for param_group in optimizer.param_groups)]}')\n",
    "\n",
    "                iter_one_val_time_end = time.time()\n",
    "                elapsed_time_val = iter_one_val_time_end - iter_one_val_time_start  # 실행 시간 계산\n",
    "                # print(f\"iter_one_val_time: {elapsed_time_val} seconds\")\n",
    "\n",
    "                # network save\n",
    "                if val_acc < val_acc_now:\n",
    "                    val_acc = val_acc_now\n",
    "                    torch.save(net.state_dict(), \"net_save/save_now_net_weights.pth\")\n",
    "                    torch.save(net, \"net_save/save_now_net.pth\")\n",
    "                    torch.save(net.module.state_dict(), \"net_save/save_now_net_weights2.pth\")\n",
    "                    torch.save(net.module, \"net_save/save_now_net2.pth\")\n",
    "            ################################################################\n",
    "            iterator.set_description(f\"iter_acc: {iter_acc_string}, iter_loss: {loss}, val_acc: {100 * val_acc_now:.2f}%\")  \n",
    "\n",
    "            iter_acc_array = np.append(iter_acc_array, iter_acc)\n",
    "            tr_acc_array = np.append(tr_acc_array, tr_acc)\n",
    "            val_acc_now_array = np.append(val_acc_now_array, val_acc_now)\n",
    "            base_name = f'{current_time}'\n",
    "            iter_acc_file_name = f'result_save/{base_name}_iter_acc_array.npy'\n",
    "            tr_acc_file_name = f'result_save/{base_name}_tr_acc_array.npy'\n",
    "            val_acc_file_name = f'result_save/{base_name}_val_acc_now_array.npy'\n",
    "            hyperparameters_file_name = f'result_save/{base_name}_hyperparameters.json'\n",
    "\n",
    "            hyperparameters['current epoch'] = epoch\n",
    "\n",
    "            # 덮어쓰기 하기 싫으면 주석 풀어서 사용 (시간마다 새로 쓰기)\n",
    "            # np.save(iter_acc_file_name, iter_acc_array)\n",
    "            # np.save(val_acc_file_name, val_acc_now_array)\n",
    "            # with open(hyperparameters_file_name, 'w') as f:\n",
    "            #     json.dump(hyperparameters, f, indent=4)\n",
    "\n",
    "            np.save('result_save/iter_acc_array.npy', iter_acc_array)\n",
    "            np.save('result_save/tr_acc_array.npy', tr_acc_array)\n",
    "            np.save('result_save/val_acc_now_array.npy', val_acc_now_array)\n",
    "            with open('result_save/hyperparameters.json', 'w') as f:\n",
    "                json.dump(hyperparameters, f, indent=4)\n",
    "            \n",
    "        if (scheduler_name != 'no'):\n",
    "            if (scheduler_name == 'ReduceLROnPlateau'):\n",
    "                scheduler.step(val_loss)\n",
    "            else:\n",
    "                scheduler.step()\n",
    "\n",
    "        \n",
    "        epoch_time_end = time.time()\n",
    "        epoch_time = epoch_time_end - epoch_start_time  # 실행 시간 계산\n",
    "        \n",
    "        print(f\"epoch_time: {epoch_time} seconds\")\n",
    "        print('\\n')\n"
   ]
  },
  {
   "cell_type": "code",
   "execution_count": 5,
   "metadata": {},
   "outputs": [
    {
     "name": "stdout",
     "output_type": "stream",
     "text": [
      "DataParallel(\n",
      "  (module): MY_SNN_CONV(\n",
      "    (layers): Sequential(\n",
      "      (0): SYNAPSE_CONV_BPTT()\n",
      "      (1): tdBatchNorm(64, eps=1e-05, momentum=0.1, affine=True, track_running_stats=True)\n",
      "      (2): LIF_layer()\n",
      "      (3): DimChanger_for_pooling(\n",
      "        (ann_module): AvgPool2d(kernel_size=2, stride=2, padding=0)\n",
      "      )\n",
      "      (4): SYNAPSE_CONV_BPTT()\n",
      "      (5): tdBatchNorm(128, eps=1e-05, momentum=0.1, affine=True, track_running_stats=True)\n",
      "      (6): LIF_layer()\n",
      "      (7): DimChanger_for_pooling(\n",
      "        (ann_module): AvgPool2d(kernel_size=2, stride=2, padding=0)\n",
      "      )\n",
      "      (8): SYNAPSE_CONV_BPTT()\n",
      "      (9): tdBatchNorm(256, eps=1e-05, momentum=0.1, affine=True, track_running_stats=True)\n",
      "      (10): LIF_layer()\n",
      "      (11): SYNAPSE_CONV_BPTT()\n",
      "      (12): tdBatchNorm(256, eps=1e-05, momentum=0.1, affine=True, track_running_stats=True)\n",
      "      (13): LIF_layer()\n",
      "      (14): DimChanger_for_pooling(\n",
      "        (ann_module): AvgPool2d(kernel_size=2, stride=2, padding=0)\n",
      "      )\n",
      "      (15): SYNAPSE_CONV_BPTT()\n",
      "      (16): tdBatchNorm(512, eps=1e-05, momentum=0.1, affine=True, track_running_stats=True)\n",
      "      (17): LIF_layer()\n",
      "      (18): SYNAPSE_CONV_BPTT()\n",
      "      (19): tdBatchNorm(512, eps=1e-05, momentum=0.1, affine=True, track_running_stats=True)\n",
      "      (20): LIF_layer()\n",
      "      (21): SYNAPSE_CONV_BPTT()\n",
      "      (22): tdBatchNorm(512, eps=1e-05, momentum=0.1, affine=True, track_running_stats=True)\n",
      "      (23): LIF_layer()\n",
      "      (24): SYNAPSE_CONV_BPTT()\n",
      "      (25): tdBatchNorm(512, eps=1e-05, momentum=0.1, affine=True, track_running_stats=True)\n",
      "      (26): LIF_layer()\n",
      "      (27): DimChanger_for_pooling(\n",
      "        (ann_module): AdaptiveAvgPool2d(output_size=(1, 1))\n",
      "      )\n",
      "      (28): DimChanger_for_FC()\n",
      "      (29): SYNAPSE_FC_BPTT()\n",
      "    )\n",
      "  )\n",
      ")\n",
      "==================================================\n",
      "My Num of PARAMS: 9,225,034, system's param_num : 9,230,538\n",
      "Memory: 35.19MiB at 32-bit\n",
      "==================================================\n",
      "EPOCH 0\n"
     ]
    },
    {
     "name": "stderr",
     "output_type": "stream",
     "text": [
      "train: 0-35/36 tr_acc: 40.00%, lr=['0.001'], tr_loss: 1.6863555908203125, val_acc: 21.70%: 100%|██████████| 36/36 [00:35<00:00,  1.02it/s]"
     ]
    },
    {
     "name": "stdout",
     "output_type": "stream",
     "text": [
      "epoch_time: 35.306092262268066 seconds\n",
      "\n",
      "\n",
      "EPOCH 1\n"
     ]
    },
    {
     "name": "stderr",
     "output_type": "stream",
     "text": [
      "\n",
      "train: 1-35/36 tr_acc: 32.50%, lr=['0.0009999383162408303'], tr_loss: 1.9066581726074219, val_acc: 38.40%: 100%|██████████| 36/36 [00:30<00:00,  1.18it/s]"
     ]
    },
    {
     "name": "stdout",
     "output_type": "stream",
     "text": [
      "epoch_time: 30.66954731941223 seconds\n",
      "\n",
      "\n",
      "EPOCH 2\n"
     ]
    },
    {
     "name": "stderr",
     "output_type": "stream",
     "text": [
      "\n",
      "train: 2-35/36 tr_acc: 42.50%, lr=['0.0009997532801828658'], tr_loss: 1.7537486553192139, val_acc: 37.70%: 100%|██████████| 36/36 [00:22<00:00,  1.58it/s]"
     ]
    },
    {
     "name": "stdout",
     "output_type": "stream",
     "text": [
      "epoch_time: 23.043044567108154 seconds\n",
      "\n",
      "\n",
      "EPOCH 3\n"
     ]
    },
    {
     "name": "stderr",
     "output_type": "stream",
     "text": [
      "\n",
      "train: 3-35/36 tr_acc: 35.00%, lr=['0.0009994449374809851'], tr_loss: 1.6641838550567627, val_acc: 39.10%: 100%|██████████| 36/36 [00:18<00:00,  1.93it/s]"
     ]
    },
    {
     "name": "stdout",
     "output_type": "stream",
     "text": [
      "epoch_time: 18.95796036720276 seconds\n",
      "\n",
      "\n",
      "EPOCH 4\n"
     ]
    },
    {
     "name": "stderr",
     "output_type": "stream",
     "text": [
      "\n",
      "train: 4-35/36 tr_acc: 42.50%, lr=['0.0009990133642141358'], tr_loss: 1.6208242177963257, val_acc: 34.00%: 100%|██████████| 36/36 [00:18<00:00,  1.98it/s]"
     ]
    },
    {
     "name": "stdout",
     "output_type": "stream",
     "text": [
      "epoch_time: 18.43138813972473 seconds\n",
      "\n",
      "\n",
      "EPOCH 5\n"
     ]
    },
    {
     "name": "stderr",
     "output_type": "stream",
     "text": [
      "\n",
      "train: 5-35/36 tr_acc: 47.50%, lr=['0.000998458666866564'], tr_loss: 1.474717378616333, val_acc: 30.50%: 100%|██████████| 36/36 [00:21<00:00,  1.65it/s] "
     ]
    },
    {
     "name": "stdout",
     "output_type": "stream",
     "text": [
      "epoch_time: 22.031443119049072 seconds\n",
      "\n",
      "\n",
      "EPOCH 6\n"
     ]
    },
    {
     "name": "stderr",
     "output_type": "stream",
     "text": [
      "\n",
      "train: 6-35/36 tr_acc: 42.50%, lr=['0.00099778098230154'], tr_loss: 1.5349156856536865, val_acc: 42.70%: 100%|██████████| 36/36 [00:24<00:00,  1.48it/s]"
     ]
    },
    {
     "name": "stdout",
     "output_type": "stream",
     "text": [
      "epoch_time: 24.523239850997925 seconds\n",
      "\n",
      "\n",
      "EPOCH 7\n"
     ]
    },
    {
     "name": "stderr",
     "output_type": "stream",
     "text": [
      "\n",
      "train: 7-35/36 tr_acc: 47.50%, lr=['0.0009969804777275899'], tr_loss: 1.5778915882110596, val_acc: 49.60%: 100%|██████████| 36/36 [00:25<00:00,  1.39it/s]"
     ]
    },
    {
     "name": "stdout",
     "output_type": "stream",
     "text": [
      "epoch_time: 26.19348669052124 seconds\n",
      "\n",
      "\n",
      "EPOCH 8\n"
     ]
    },
    {
     "name": "stderr",
     "output_type": "stream",
     "text": [
      "\n",
      "train: 8-35/36 tr_acc: 47.50%, lr=['0.000996057350657239'], tr_loss: 1.4984854459762573, val_acc: 24.60%: 100%|██████████| 36/36 [00:19<00:00,  1.83it/s]"
     ]
    },
    {
     "name": "stdout",
     "output_type": "stream",
     "text": [
      "epoch_time: 19.894014596939087 seconds\n",
      "\n",
      "\n",
      "EPOCH 9\n"
     ]
    },
    {
     "name": "stderr",
     "output_type": "stream",
     "text": [
      "\n",
      "train: 9-35/36 tr_acc: 65.00%, lr=['0.0009950118288582787'], tr_loss: 1.0841102600097656, val_acc: 43.60%: 100%|██████████| 36/36 [00:19<00:00,  1.86it/s]"
     ]
    },
    {
     "name": "stdout",
     "output_type": "stream",
     "text": [
      "epoch_time: 19.62127995491028 seconds\n",
      "\n",
      "\n",
      "EPOCH 10\n"
     ]
    },
    {
     "name": "stderr",
     "output_type": "stream",
     "text": [
      "\n",
      "train: 10-35/36 tr_acc: 70.00%, lr=['0.0009938441702975688'], tr_loss: 1.0890659093856812, val_acc: 28.70%: 100%|██████████| 36/36 [00:20<00:00,  1.78it/s]"
     ]
    },
    {
     "name": "stdout",
     "output_type": "stream",
     "text": [
      "epoch_time: 20.48008108139038 seconds\n",
      "\n",
      "\n",
      "EPOCH 11\n"
     ]
    },
    {
     "name": "stderr",
     "output_type": "stream",
     "text": [
      "\n",
      "train: 11-35/36 tr_acc: 52.50%, lr=['0.000992554663077387'], tr_loss: 1.2572438716888428, val_acc: 45.80%: 100%|██████████| 36/36 [00:18<00:00,  1.97it/s]"
     ]
    },
    {
     "name": "stdout",
     "output_type": "stream",
     "text": [
      "epoch_time: 18.512234449386597 seconds\n",
      "\n",
      "\n",
      "EPOCH 12\n"
     ]
    },
    {
     "name": "stderr",
     "output_type": "stream",
     "text": [
      "\n",
      "train: 12-35/36 tr_acc: 60.00%, lr=['0.0009911436253643444'], tr_loss: 1.2051573991775513, val_acc: 52.00%: 100%|██████████| 36/36 [00:19<00:00,  1.81it/s]"
     ]
    },
    {
     "name": "stdout",
     "output_type": "stream",
     "text": [
      "epoch_time: 20.21348476409912 seconds\n",
      "\n",
      "\n",
      "EPOCH 13\n"
     ]
    },
    {
     "name": "stderr",
     "output_type": "stream",
     "text": [
      "\n",
      "train: 13-35/36 tr_acc: 45.00%, lr=['0.0009896114053108828'], tr_loss: 1.4241753816604614, val_acc: 41.00%: 100%|██████████| 36/36 [00:18<00:00,  1.97it/s]"
     ]
    },
    {
     "name": "stdout",
     "output_type": "stream",
     "text": [
      "epoch_time: 18.58003306388855 seconds\n",
      "\n",
      "\n",
      "EPOCH 14\n"
     ]
    },
    {
     "name": "stderr",
     "output_type": "stream",
     "text": [
      "\n",
      "train: 14-35/36 tr_acc: 57.50%, lr=['0.0009879583809693736'], tr_loss: 1.3559277057647705, val_acc: 50.00%: 100%|██████████| 36/36 [00:18<00:00,  1.99it/s]"
     ]
    },
    {
     "name": "stdout",
     "output_type": "stream",
     "text": [
      "epoch_time: 18.354480266571045 seconds\n",
      "\n",
      "\n",
      "EPOCH 15\n"
     ]
    },
    {
     "name": "stderr",
     "output_type": "stream",
     "text": [
      "\n",
      "train: 15-35/36 tr_acc: 70.00%, lr=['0.0009861849601988382'], tr_loss: 0.9286689758300781, val_acc: 54.70%: 100%|██████████| 36/36 [00:20<00:00,  1.77it/s]"
     ]
    },
    {
     "name": "stdout",
     "output_type": "stream",
     "text": [
      "epoch_time: 20.627167224884033 seconds\n",
      "\n",
      "\n",
      "EPOCH 16\n"
     ]
    },
    {
     "name": "stderr",
     "output_type": "stream",
     "text": [
      "\n",
      "train: 16-35/36 tr_acc: 55.00%, lr=['0.0009842915805643154'], tr_loss: 1.3828867673873901, val_acc: 52.20%: 100%|██████████| 36/36 [00:18<00:00,  1.97it/s]"
     ]
    },
    {
     "name": "stdout",
     "output_type": "stream",
     "text": [
      "epoch_time: 18.487215518951416 seconds\n",
      "\n",
      "\n",
      "EPOCH 17\n"
     ]
    },
    {
     "name": "stderr",
     "output_type": "stream",
     "text": [
      "\n",
      "train: 17-35/36 tr_acc: 62.50%, lr=['0.000982278709228899'], tr_loss: 1.1845905780792236, val_acc: 56.00%: 100%|██████████| 36/36 [00:19<00:00,  1.80it/s]"
     ]
    },
    {
     "name": "stdout",
     "output_type": "stream",
     "text": [
      "epoch_time: 20.27885365486145 seconds\n",
      "\n",
      "\n",
      "EPOCH 18\n"
     ]
    },
    {
     "name": "stderr",
     "output_type": "stream",
     "text": [
      "\n",
      "train: 18-35/36 tr_acc: 50.00%, lr=['0.0009801468428384714'], tr_loss: 1.4101289510726929, val_acc: 52.50%: 100%|██████████| 36/36 [00:19<00:00,  1.89it/s]"
     ]
    },
    {
     "name": "stdout",
     "output_type": "stream",
     "text": [
      "epoch_time: 19.2575364112854 seconds\n",
      "\n",
      "\n",
      "EPOCH 19\n"
     ]
    },
    {
     "name": "stderr",
     "output_type": "stream",
     "text": [
      "\n",
      "train: 19-35/36 tr_acc: 52.50%, lr=['0.0009778965073991648'], tr_loss: 1.1772292852401733, val_acc: 40.40%: 100%|██████████| 36/36 [00:18<00:00,  1.99it/s]"
     ]
    },
    {
     "name": "stdout",
     "output_type": "stream",
     "text": [
      "epoch_time: 18.36177706718445 seconds\n",
      "\n",
      "\n",
      "EPOCH 20\n"
     ]
    },
    {
     "name": "stderr",
     "output_type": "stream",
     "text": [
      "\n",
      "train: 20-35/36 tr_acc: 80.00%, lr=['0.0009755282581475766'], tr_loss: 0.7350703477859497, val_acc: 53.90%: 100%|██████████| 36/36 [00:20<00:00,  1.80it/s]"
     ]
    },
    {
     "name": "stdout",
     "output_type": "stream",
     "text": [
      "epoch_time: 20.29076838493347 seconds\n",
      "\n",
      "\n",
      "EPOCH 21\n"
     ]
    },
    {
     "name": "stderr",
     "output_type": "stream",
     "text": [
      "\n",
      "train: 21-35/36 tr_acc: 62.50%, lr=['0.0009730426794137723'], tr_loss: 1.4045535326004028, val_acc: 47.90%: 100%|██████████| 36/36 [00:19<00:00,  1.81it/s]"
     ]
    },
    {
     "name": "stdout",
     "output_type": "stream",
     "text": [
      "epoch_time: 20.142475366592407 seconds\n",
      "\n",
      "\n",
      "EPOCH 22\n"
     ]
    },
    {
     "name": "stderr",
     "output_type": "stream",
     "text": [
      "\n",
      "train: 22-35/36 tr_acc: 67.50%, lr=['0.0009704403844771124'], tr_loss: 0.8440557718276978, val_acc: 44.90%: 100%|██████████| 36/36 [00:18<00:00,  2.00it/s]"
     ]
    },
    {
     "name": "stdout",
     "output_type": "stream",
     "text": [
      "epoch_time: 18.272230625152588 seconds\n",
      "\n",
      "\n",
      "EPOCH 23\n"
     ]
    },
    {
     "name": "stderr",
     "output_type": "stream",
     "text": [
      "\n",
      "train: 23-35/36 tr_acc: 75.00%, lr=['0.0009677220154149334'], tr_loss: 0.8931339979171753, val_acc: 49.10%: 100%|██████████| 36/36 [00:18<00:00,  1.92it/s]"
     ]
    },
    {
     "name": "stdout",
     "output_type": "stream",
     "text": [
      "epoch_time: 18.94670009613037 seconds\n",
      "\n",
      "\n",
      "EPOCH 24\n"
     ]
    },
    {
     "name": "stderr",
     "output_type": "stream",
     "text": [
      "\n",
      "train: 24-35/36 tr_acc: 57.50%, lr=['0.0009648882429441253'], tr_loss: 1.0244872570037842, val_acc: 37.90%: 100%|██████████| 36/36 [00:19<00:00,  1.82it/s]"
     ]
    },
    {
     "name": "stdout",
     "output_type": "stream",
     "text": [
      "epoch_time: 20.07473087310791 seconds\n",
      "\n",
      "\n",
      "EPOCH 25\n"
     ]
    },
    {
     "name": "stderr",
     "output_type": "stream",
     "text": [
      "\n",
      "train: 25-35/36 tr_acc: 65.00%, lr=['0.000961939766255643'], tr_loss: 0.9356997609138489, val_acc: 56.40%: 100%|██████████| 36/36 [00:18<00:00,  1.92it/s]"
     ]
    },
    {
     "name": "stdout",
     "output_type": "stream",
     "text": [
      "epoch_time: 18.97234272956848 seconds\n",
      "\n",
      "\n",
      "EPOCH 26\n"
     ]
    },
    {
     "name": "stderr",
     "output_type": "stream",
     "text": [
      "\n",
      "train: 26-35/36 tr_acc: 67.50%, lr=['0.0009588773128419901'], tr_loss: 0.8811845779418945, val_acc: 35.80%: 100%|██████████| 36/36 [00:18<00:00,  1.98it/s]"
     ]
    },
    {
     "name": "stdout",
     "output_type": "stream",
     "text": [
      "epoch_time: 18.380084991455078 seconds\n",
      "\n",
      "\n",
      "EPOCH 27\n"
     ]
    },
    {
     "name": "stderr",
     "output_type": "stream",
     "text": [
      "\n",
      "train: 27-35/36 tr_acc: 77.50%, lr=['0.0009557016383177221'], tr_loss: 0.6567920446395874, val_acc: 60.20%: 100%|██████████| 36/36 [00:18<00:00,  1.92it/s]"
     ]
    },
    {
     "name": "stdout",
     "output_type": "stream",
     "text": [
      "epoch_time: 18.998839616775513 seconds\n",
      "\n",
      "\n",
      "EPOCH 28\n"
     ]
    },
    {
     "name": "stderr",
     "output_type": "stream",
     "text": [
      "\n",
      "train: 28-35/36 tr_acc: 70.00%, lr=['0.0009524135262330093'], tr_loss: 1.177140474319458, val_acc: 45.10%: 100%|██████████| 36/36 [00:18<00:00,  1.99it/s]  "
     ]
    },
    {
     "name": "stdout",
     "output_type": "stream",
     "text": [
      "epoch_time: 18.41406512260437 seconds\n",
      "\n",
      "\n",
      "EPOCH 29\n"
     ]
    },
    {
     "name": "stderr",
     "output_type": "stream",
     "text": [
      "\n",
      "train: 29-35/36 tr_acc: 77.50%, lr=['0.0009490137878803073'], tr_loss: 0.6947282552719116, val_acc: 55.70%: 100%|██████████| 36/36 [00:18<00:00,  1.99it/s]"
     ]
    },
    {
     "name": "stdout",
     "output_type": "stream",
     "text": [
      "epoch_time: 18.31026577949524 seconds\n",
      "\n",
      "\n",
      "EPOCH 30\n"
     ]
    },
    {
     "name": "stderr",
     "output_type": "stream",
     "text": [
      "\n",
      "train: 30-35/36 tr_acc: 67.50%, lr=['0.0009455032620941834'], tr_loss: 0.8779233694076538, val_acc: 58.80%: 100%|██████████| 36/36 [00:18<00:00,  1.97it/s] "
     ]
    },
    {
     "name": "stdout",
     "output_type": "stream",
     "text": [
      "epoch_time: 18.51437258720398 seconds\n",
      "\n",
      "\n",
      "EPOCH 31\n"
     ]
    },
    {
     "name": "stderr",
     "output_type": "stream",
     "text": [
      "\n",
      "train: 31-35/36 tr_acc: 77.50%, lr=['0.0009418828150443463'], tr_loss: 0.5636662840843201, val_acc: 45.80%: 100%|██████████| 36/36 [00:18<00:00,  1.99it/s]"
     ]
    },
    {
     "name": "stdout",
     "output_type": "stream",
     "text": [
      "epoch_time: 18.355321168899536 seconds\n",
      "\n",
      "\n",
      "EPOCH 32\n"
     ]
    },
    {
     "name": "stderr",
     "output_type": "stream",
     "text": [
      "\n",
      "train: 32-35/36 tr_acc: 72.50%, lr=['0.0009381533400219311'], tr_loss: 0.7423993945121765, val_acc: 41.90%: 100%|██████████| 36/36 [00:18<00:00,  1.97it/s] "
     ]
    },
    {
     "name": "stdout",
     "output_type": "stream",
     "text": [
      "epoch_time: 18.520304679870605 seconds\n",
      "\n",
      "\n",
      "EPOCH 33\n"
     ]
    },
    {
     "name": "stderr",
     "output_type": "stream",
     "text": [
      "\n",
      "train: 33-35/36 tr_acc: 70.00%, lr=['0.0009343157572190951'], tr_loss: 0.8220909237861633, val_acc: 52.20%: 100%|██████████| 36/36 [00:18<00:00,  2.00it/s]"
     ]
    },
    {
     "name": "stdout",
     "output_type": "stream",
     "text": [
      "epoch_time: 18.280023097991943 seconds\n",
      "\n",
      "\n",
      "EPOCH 34\n"
     ]
    },
    {
     "name": "stderr",
     "output_type": "stream",
     "text": [
      "\n",
      "train: 34-35/36 tr_acc: 82.50%, lr=['0.0009303710135019713'], tr_loss: 0.6303275227546692, val_acc: 57.40%: 100%|██████████| 36/36 [00:18<00:00,  1.97it/s] "
     ]
    },
    {
     "name": "stdout",
     "output_type": "stream",
     "text": [
      "epoch_time: 18.519224882125854 seconds\n",
      "\n",
      "\n",
      "EPOCH 35\n"
     ]
    },
    {
     "name": "stderr",
     "output_type": "stream",
     "text": [
      "\n",
      "train: 35-35/36 tr_acc: 77.50%, lr=['0.0009263200821770456'], tr_loss: 0.5933806896209717, val_acc: 61.00%: 100%|██████████| 36/36 [00:18<00:00,  1.92it/s] "
     ]
    },
    {
     "name": "stdout",
     "output_type": "stream",
     "text": [
      "epoch_time: 18.954652309417725 seconds\n",
      "\n",
      "\n",
      "EPOCH 36\n"
     ]
    },
    {
     "name": "stderr",
     "output_type": "stream",
     "text": [
      "\n",
      "train: 36-35/36 tr_acc: 87.50%, lr=['0.000922163962751007'], tr_loss: 0.6327648162841797, val_acc: 43.00%: 100%|██████████| 36/36 [00:18<00:00,  1.99it/s] "
     ]
    },
    {
     "name": "stdout",
     "output_type": "stream",
     "text": [
      "epoch_time: 18.351886510849 seconds\n",
      "\n",
      "\n",
      "EPOCH 37\n"
     ]
    },
    {
     "name": "stderr",
     "output_type": "stream",
     "text": [
      "\n",
      "train: 37-35/36 tr_acc: 65.00%, lr=['0.0009179036806841347'], tr_loss: 0.8896777033805847, val_acc: 57.40%: 100%|██████████| 36/36 [00:18<00:00,  1.97it/s] "
     ]
    },
    {
     "name": "stdout",
     "output_type": "stream",
     "text": [
      "epoch_time: 18.464823484420776 seconds\n",
      "\n",
      "\n",
      "EPOCH 38\n"
     ]
    },
    {
     "name": "stderr",
     "output_type": "stream",
     "text": [
      "\n",
      "train: 38-35/36 tr_acc: 65.00%, lr=['0.0009135402871372803'], tr_loss: 0.7896372675895691, val_acc: 62.60%: 100%|██████████| 36/36 [00:18<00:00,  1.94it/s] "
     ]
    },
    {
     "name": "stdout",
     "output_type": "stream",
     "text": [
      "epoch_time: 18.780038356781006 seconds\n",
      "\n",
      "\n",
      "EPOCH 39\n"
     ]
    },
    {
     "name": "stderr",
     "output_type": "stream",
     "text": [
      "\n",
      "train: 39-35/36 tr_acc: 72.50%, lr=['0.0009090748587125112'], tr_loss: 0.7995843291282654, val_acc: 52.80%: 100%|██████████| 36/36 [00:18<00:00,  1.99it/s] "
     ]
    },
    {
     "name": "stdout",
     "output_type": "stream",
     "text": [
      "epoch_time: 18.38848853111267 seconds\n",
      "\n",
      "\n",
      "EPOCH 40\n"
     ]
    },
    {
     "name": "stderr",
     "output_type": "stream",
     "text": [
      "\n",
      "train: 40-35/36 tr_acc: 85.00%, lr=['0.0009045084971874732'], tr_loss: 0.41955986618995667, val_acc: 50.10%: 100%|██████████| 36/36 [00:18<00:00,  1.98it/s]"
     ]
    },
    {
     "name": "stdout",
     "output_type": "stream",
     "text": [
      "epoch_time: 18.414873838424683 seconds\n",
      "\n",
      "\n",
      "EPOCH 41\n"
     ]
    },
    {
     "name": "stderr",
     "output_type": "stream",
     "text": [
      "\n",
      "train: 41-35/36 tr_acc: 82.50%, lr=['0.0008998423292435448'], tr_loss: 0.5536114573478699, val_acc: 59.10%: 100%|██████████| 36/36 [00:17<00:00,  2.01it/s] "
     ]
    },
    {
     "name": "stdout",
     "output_type": "stream",
     "text": [
      "epoch_time: 18.190501928329468 seconds\n",
      "\n",
      "\n",
      "EPOCH 42\n"
     ]
    },
    {
     "name": "stderr",
     "output_type": "stream",
     "text": [
      "\n",
      "train: 42-35/36 tr_acc: 75.00%, lr=['0.0008950775061878446'], tr_loss: 0.6175128817558289, val_acc: 59.70%: 100%|██████████| 36/36 [00:18<00:00,  1.97it/s] "
     ]
    },
    {
     "name": "stdout",
     "output_type": "stream",
     "text": [
      "epoch_time: 18.49581265449524 seconds\n",
      "\n",
      "\n",
      "EPOCH 43\n"
     ]
    },
    {
     "name": "stderr",
     "output_type": "stream",
     "text": [
      "\n",
      "train: 43-35/36 tr_acc: 72.50%, lr=['0.0008902152036691643'], tr_loss: 0.8208012580871582, val_acc: 53.90%: 100%|██████████| 36/36 [00:18<00:00,  1.95it/s] "
     ]
    },
    {
     "name": "stdout",
     "output_type": "stream",
     "text": [
      "epoch_time: 18.6930148601532 seconds\n",
      "\n",
      "\n",
      "EPOCH 44\n"
     ]
    },
    {
     "name": "stderr",
     "output_type": "stream",
     "text": [
      "\n",
      "train: 44-35/36 tr_acc: 80.00%, lr=['0.000885256621387894'], tr_loss: 0.5304340720176697, val_acc: 47.80%: 100%|██████████| 36/36 [00:18<00:00,  1.99it/s] "
     ]
    },
    {
     "name": "stdout",
     "output_type": "stream",
     "text": [
      "epoch_time: 18.367427110671997 seconds\n",
      "\n",
      "\n",
      "EPOCH 45\n"
     ]
    },
    {
     "name": "stderr",
     "output_type": "stream",
     "text": [
      "\n",
      "train: 45-35/36 tr_acc: 80.00%, lr=['0.0008802029828000149'], tr_loss: 0.6691265106201172, val_acc: 62.30%: 100%|██████████| 36/36 [00:18<00:00,  1.97it/s] "
     ]
    },
    {
     "name": "stdout",
     "output_type": "stream",
     "text": [
      "epoch_time: 18.526092529296875 seconds\n",
      "\n",
      "\n",
      "EPOCH 46\n"
     ]
    },
    {
     "name": "stderr",
     "output_type": "stream",
     "text": [
      "\n",
      "train: 46-35/36 tr_acc: 87.50%, lr=['0.0008750555348152292'], tr_loss: 0.4708114564418793, val_acc: 61.40%: 100%|██████████| 36/36 [00:18<00:00,  1.92it/s] "
     ]
    },
    {
     "name": "stdout",
     "output_type": "stream",
     "text": [
      "epoch_time: 18.956056356430054 seconds\n",
      "\n",
      "\n",
      "EPOCH 47\n"
     ]
    },
    {
     "name": "stderr",
     "output_type": "stream",
     "text": [
      "\n",
      "train: 47-35/36 tr_acc: 75.00%, lr=['0.0008698155474893041'], tr_loss: 0.7751772999763489, val_acc: 63.30%: 100%|██████████| 36/36 [00:18<00:00,  1.90it/s] "
     ]
    },
    {
     "name": "stdout",
     "output_type": "stream",
     "text": [
      "epoch_time: 19.153443813323975 seconds\n",
      "\n",
      "\n",
      "EPOCH 48\n"
     ]
    },
    {
     "name": "stderr",
     "output_type": "stream",
     "text": [
      "\n",
      "train: 48-35/36 tr_acc: 87.50%, lr=['0.0008644843137107051'], tr_loss: 0.32517048716545105, val_acc: 59.90%: 100%|██████████| 36/36 [00:18<00:00,  1.99it/s]"
     ]
    },
    {
     "name": "stdout",
     "output_type": "stream",
     "text": [
      "epoch_time: 18.408161401748657 seconds\n",
      "\n",
      "\n",
      "EPOCH 49\n"
     ]
    },
    {
     "name": "stderr",
     "output_type": "stream",
     "text": [
      "\n",
      "train: 49-35/36 tr_acc: 85.00%, lr=['0.0008590631488815938'], tr_loss: 0.574918806552887, val_acc: 59.70%: 100%|██████████| 36/36 [00:18<00:00,  1.98it/s]  "
     ]
    },
    {
     "name": "stdout",
     "output_type": "stream",
     "text": [
      "epoch_time: 18.407063961029053 seconds\n",
      "\n",
      "\n",
      "EPOCH 50\n"
     ]
    },
    {
     "name": "stderr",
     "output_type": "stream",
     "text": [
      "\n",
      "train: 50-35/36 tr_acc: 72.50%, lr=['0.0008535533905932731'], tr_loss: 0.8607900738716125, val_acc: 51.30%: 100%|██████████| 36/36 [00:18<00:00,  2.00it/s] "
     ]
    },
    {
     "name": "stdout",
     "output_type": "stream",
     "text": [
      "epoch_time: 18.266592025756836 seconds\n",
      "\n",
      "\n",
      "EPOCH 51\n"
     ]
    },
    {
     "name": "stderr",
     "output_type": "stream",
     "text": [
      "\n",
      "train: 51-35/36 tr_acc: 85.00%, lr=['0.0008479563982961564'], tr_loss: 0.3956076502799988, val_acc: 65.90%: 100%|██████████| 36/36 [00:18<00:00,  1.91it/s] "
     ]
    },
    {
     "name": "stdout",
     "output_type": "stream",
     "text": [
      "epoch_time: 19.077476501464844 seconds\n",
      "\n",
      "\n",
      "EPOCH 52\n"
     ]
    },
    {
     "name": "stderr",
     "output_type": "stream",
     "text": [
      "\n",
      "train: 52-35/36 tr_acc: 87.50%, lr=['0.0008422735529643437'], tr_loss: 0.37356558442115784, val_acc: 58.60%: 100%|██████████| 36/36 [00:18<00:00,  1.98it/s]"
     ]
    },
    {
     "name": "stdout",
     "output_type": "stream",
     "text": [
      "epoch_time: 18.426120281219482 seconds\n",
      "\n",
      "\n",
      "EPOCH 53\n"
     ]
    },
    {
     "name": "stderr",
     "output_type": "stream",
     "text": [
      "\n",
      "train: 53-35/36 tr_acc: 85.00%, lr=['0.000836506256754886'], tr_loss: 0.6603372097015381, val_acc: 60.00%: 100%|██████████| 36/36 [00:18<00:00,  1.94it/s] "
     ]
    },
    {
     "name": "stdout",
     "output_type": "stream",
     "text": [
      "epoch_time: 18.814475297927856 seconds\n",
      "\n",
      "\n",
      "EPOCH 54\n"
     ]
    },
    {
     "name": "stderr",
     "output_type": "stream",
     "text": [
      "\n",
      "train: 54-35/36 tr_acc: 75.00%, lr=['0.0008306559326618253'], tr_loss: 0.7047519683837891, val_acc: 54.80%: 100%|██████████| 36/36 [00:23<00:00,  1.52it/s] "
     ]
    },
    {
     "name": "stdout",
     "output_type": "stream",
     "text": [
      "epoch_time: 24.003236770629883 seconds\n",
      "\n",
      "\n",
      "EPOCH 55\n"
     ]
    },
    {
     "name": "stderr",
     "output_type": "stream",
     "text": [
      "\n",
      "train: 55-35/36 tr_acc: 80.00%, lr=['0.0008247240241650912'], tr_loss: 0.5947173237800598, val_acc: 60.10%: 100%|██████████| 36/36 [00:23<00:00,  1.56it/s] "
     ]
    },
    {
     "name": "stdout",
     "output_type": "stream",
     "text": [
      "epoch_time: 23.375664710998535 seconds\n",
      "\n",
      "\n",
      "EPOCH 56\n"
     ]
    },
    {
     "name": "stderr",
     "output_type": "stream",
     "text": [
      "\n",
      "train: 56-35/36 tr_acc: 80.00%, lr=['0.0008187119948743442'], tr_loss: 0.4774750769138336, val_acc: 59.70%: 100%|██████████| 36/36 [00:22<00:00,  1.57it/s] "
     ]
    },
    {
     "name": "stdout",
     "output_type": "stream",
     "text": [
      "epoch_time: 23.123506784439087 seconds\n",
      "\n",
      "\n",
      "EPOCH 57\n"
     ]
    },
    {
     "name": "stderr",
     "output_type": "stream",
     "text": [
      "\n",
      "train: 57-35/36 tr_acc: 77.50%, lr=['0.000812621328167852'], tr_loss: 0.5784624814987183, val_acc: 57.50%: 100%|██████████| 36/36 [00:23<00:00,  1.54it/s] "
     ]
    },
    {
     "name": "stdout",
     "output_type": "stream",
     "text": [
      "epoch_time: 23.559754371643066 seconds\n",
      "\n",
      "\n",
      "EPOCH 58\n"
     ]
    },
    {
     "name": "stderr",
     "output_type": "stream",
     "text": [
      "\n",
      "train: 58-35/36 tr_acc: 80.00%, lr=['0.0008064535268264877'], tr_loss: 0.6346770524978638, val_acc: 61.10%: 100%|██████████| 36/36 [00:23<00:00,  1.55it/s] "
     ]
    },
    {
     "name": "stdout",
     "output_type": "stream",
     "text": [
      "epoch_time: 23.558201551437378 seconds\n",
      "\n",
      "\n",
      "EPOCH 59\n"
     ]
    },
    {
     "name": "stderr",
     "output_type": "stream",
     "text": [
      "\n",
      "train: 59-35/36 tr_acc: 77.50%, lr=['0.0008002101126629415'], tr_loss: 0.7368165254592896, val_acc: 63.70%: 100%|██████████| 36/36 [00:23<00:00,  1.56it/s] "
     ]
    },
    {
     "name": "stdout",
     "output_type": "stream",
     "text": [
      "epoch_time: 23.335017919540405 seconds\n",
      "\n",
      "\n",
      "EPOCH 60\n"
     ]
    },
    {
     "name": "stderr",
     "output_type": "stream",
     "text": [
      "\n",
      "train: 60-35/36 tr_acc: 82.50%, lr=['0.000793892626146236'], tr_loss: 0.4838203489780426, val_acc: 58.10%: 100%|██████████| 36/36 [00:23<00:00,  1.56it/s] "
     ]
    },
    {
     "name": "stdout",
     "output_type": "stream",
     "text": [
      "epoch_time: 23.28839087486267 seconds\n",
      "\n",
      "\n",
      "EPOCH 61\n"
     ]
    },
    {
     "name": "stderr",
     "output_type": "stream",
     "text": [
      "\n",
      "train: 61-35/36 tr_acc: 82.50%, lr=['0.0007875026260216388'], tr_loss: 0.508841872215271, val_acc: 60.90%: 100%|██████████| 36/36 [00:23<00:00,  1.52it/s]  "
     ]
    },
    {
     "name": "stdout",
     "output_type": "stream",
     "text": [
      "epoch_time: 23.98103165626526 seconds\n",
      "\n",
      "\n",
      "EPOCH 62\n"
     ]
    },
    {
     "name": "stderr",
     "output_type": "stream",
     "text": [
      "\n",
      "train: 62-35/36 tr_acc: 85.00%, lr=['0.0007810416889260649'], tr_loss: 0.47300171852111816, val_acc: 63.70%: 100%|██████████| 36/36 [00:23<00:00,  1.54it/s]"
     ]
    },
    {
     "name": "stdout",
     "output_type": "stream",
     "text": [
      "epoch_time: 23.61565923690796 seconds\n",
      "\n",
      "\n",
      "EPOCH 63\n"
     ]
    },
    {
     "name": "stderr",
     "output_type": "stream",
     "text": [
      "\n",
      "train: 63-35/36 tr_acc: 82.50%, lr=['0.0007745114089990654'], tr_loss: 0.5546097755432129, val_acc: 61.20%: 100%|██████████| 36/36 [00:23<00:00,  1.54it/s] "
     ]
    },
    {
     "name": "stdout",
     "output_type": "stream",
     "text": [
      "epoch_time: 23.677772521972656 seconds\n",
      "\n",
      "\n",
      "EPOCH 64\n"
     ]
    },
    {
     "name": "stderr",
     "output_type": "stream",
     "text": [
      "\n",
      "train: 64-35/36 tr_acc: 95.00%, lr=['0.0007679133974894978'], tr_loss: 0.2626105844974518, val_acc: 66.20%: 100%|██████████| 36/36 [00:23<00:00,  1.53it/s] "
     ]
    },
    {
     "name": "stdout",
     "output_type": "stream",
     "text": [
      "epoch_time: 23.85303544998169 seconds\n",
      "\n",
      "\n",
      "EPOCH 65\n"
     ]
    },
    {
     "name": "stderr",
     "output_type": "stream",
     "text": [
      "\n",
      "train: 65-35/36 tr_acc: 90.00%, lr=['0.0007612492823579739'], tr_loss: 0.298006534576416, val_acc: 62.00%: 100%|██████████| 36/36 [00:23<00:00,  1.53it/s]  "
     ]
    },
    {
     "name": "stdout",
     "output_type": "stream",
     "text": [
      "epoch_time: 23.742087841033936 seconds\n",
      "\n",
      "\n",
      "EPOCH 66\n"
     ]
    },
    {
     "name": "stderr",
     "output_type": "stream",
     "text": [
      "\n",
      "train: 66-35/36 tr_acc: 77.50%, lr=['0.0007545207078751852'], tr_loss: 0.5511106252670288, val_acc: 58.30%: 100%|██████████| 36/36 [00:23<00:00,  1.55it/s] "
     ]
    },
    {
     "name": "stdout",
     "output_type": "stream",
     "text": [
      "epoch_time: 23.490408420562744 seconds\n",
      "\n",
      "\n",
      "EPOCH 67\n"
     ]
    },
    {
     "name": "stderr",
     "output_type": "stream",
     "text": [
      "\n",
      "train: 67-35/36 tr_acc: 90.00%, lr=['0.0007477293342162034'], tr_loss: 0.35724586248397827, val_acc: 58.80%: 100%|██████████| 36/36 [00:23<00:00,  1.55it/s]"
     ]
    },
    {
     "name": "stdout",
     "output_type": "stream",
     "text": [
      "epoch_time: 23.465405225753784 seconds\n",
      "\n",
      "\n",
      "EPOCH 68\n"
     ]
    },
    {
     "name": "stderr",
     "output_type": "stream",
     "text": [
      "\n",
      "train: 68-35/36 tr_acc: 87.50%, lr=['0.0007408768370508571'], tr_loss: 0.3500226140022278, val_acc: 60.10%: 100%|██████████| 36/36 [00:23<00:00,  1.54it/s] "
     ]
    },
    {
     "name": "stdout",
     "output_type": "stream",
     "text": [
      "epoch_time: 23.678836584091187 seconds\n",
      "\n",
      "\n",
      "EPOCH 69\n"
     ]
    },
    {
     "name": "stderr",
     "output_type": "stream",
     "text": [
      "\n",
      "train: 69-35/36 tr_acc: 77.50%, lr=['0.0007339649071302863'], tr_loss: 0.6723572015762329, val_acc: 62.90%: 100%|██████████| 36/36 [00:22<00:00,  1.57it/s] "
     ]
    },
    {
     "name": "stdout",
     "output_type": "stream",
     "text": [
      "epoch_time: 23.14401078224182 seconds\n",
      "\n",
      "\n",
      "EPOCH 70\n"
     ]
    },
    {
     "name": "stderr",
     "output_type": "stream",
     "text": [
      "\n",
      "train: 70-35/36 tr_acc: 87.50%, lr=['0.0007269952498697729'], tr_loss: 0.3064388930797577, val_acc: 58.80%: 100%|██████████| 36/36 [00:23<00:00,  1.54it/s] \n"
     ]
    },
    {
     "name": "stdout",
     "output_type": "stream",
     "text": [
      "epoch_time: 23.670541048049927 seconds\n",
      "\n",
      "\n",
      "EPOCH 71\n"
     ]
    },
    {
     "name": "stderr",
     "output_type": "stream",
     "text": [
      "train: 71-35/36 tr_acc: 95.00%, lr=['0.000719969584927957'], tr_loss: 0.1850922554731369, val_acc: 63.10%: 100%|██████████| 36/36 [00:23<00:00,  1.55it/s] "
     ]
    },
    {
     "name": "stdout",
     "output_type": "stream",
     "text": [
      "epoch_time: 23.50412678718567 seconds\n",
      "\n",
      "\n",
      "EPOCH 72\n"
     ]
    },
    {
     "name": "stderr",
     "output_type": "stream",
     "text": [
      "\n",
      "train: 72-35/36 tr_acc: 85.00%, lr=['0.0007128896457825358'], tr_loss: 0.5388271808624268, val_acc: 60.80%: 100%|██████████| 36/36 [00:23<00:00,  1.54it/s] "
     ]
    },
    {
     "name": "stdout",
     "output_type": "stream",
     "text": [
      "epoch_time: 23.631659030914307 seconds\n",
      "\n",
      "\n",
      "EPOCH 73\n"
     ]
    },
    {
     "name": "stderr",
     "output_type": "stream",
     "text": [
      "\n",
      "train: 73-35/36 tr_acc: 87.50%, lr=['0.0007057571793025539'], tr_loss: 0.2703160345554352, val_acc: 65.10%: 100%|██████████| 36/36 [00:23<00:00,  1.53it/s] "
     ]
    },
    {
     "name": "stdout",
     "output_type": "stream",
     "text": [
      "epoch_time: 23.709185123443604 seconds\n",
      "\n",
      "\n",
      "EPOCH 74\n"
     ]
    },
    {
     "name": "stderr",
     "output_type": "stream",
     "text": [
      "\n",
      "train: 74-35/36 tr_acc: 80.00%, lr=['0.0006985739453173898'], tr_loss: 0.6090951561927795, val_acc: 60.30%: 100%|██████████| 36/36 [00:23<00:00,  1.55it/s] "
     ]
    },
    {
     "name": "stdout",
     "output_type": "stream",
     "text": [
      "epoch_time: 23.41117215156555 seconds\n",
      "\n",
      "\n",
      "EPOCH 75\n"
     ]
    },
    {
     "name": "stderr",
     "output_type": "stream",
     "text": [
      "\n",
      "train: 75-35/36 tr_acc: 90.00%, lr=['0.0006913417161825444'], tr_loss: 0.30965936183929443, val_acc: 61.10%: 100%|██████████| 36/36 [00:23<00:00,  1.53it/s]"
     ]
    },
    {
     "name": "stdout",
     "output_type": "stream",
     "text": [
      "epoch_time: 23.700358152389526 seconds\n",
      "\n",
      "\n",
      "EPOCH 76\n"
     ]
    },
    {
     "name": "stderr",
     "output_type": "stream",
     "text": [
      "\n",
      "train: 76-35/36 tr_acc: 92.50%, lr=['0.0006840622763423385'], tr_loss: 0.3352929949760437, val_acc: 63.40%: 100%|██████████| 36/36 [00:23<00:00,  1.55it/s] "
     ]
    },
    {
     "name": "stdout",
     "output_type": "stream",
     "text": [
      "epoch_time: 23.394649982452393 seconds\n",
      "\n",
      "\n",
      "EPOCH 77\n"
     ]
    },
    {
     "name": "stderr",
     "output_type": "stream",
     "text": [
      "\n",
      "train: 77-35/36 tr_acc: 82.50%, lr=['0.000676737421889628'], tr_loss: 0.6480538845062256, val_acc: 60.90%: 100%|██████████| 36/36 [00:23<00:00,  1.55it/s] "
     ]
    },
    {
     "name": "stdout",
     "output_type": "stream",
     "text": [
      "epoch_time: 23.515900135040283 seconds\n",
      "\n",
      "\n",
      "EPOCH 78\n"
     ]
    },
    {
     "name": "stderr",
     "output_type": "stream",
     "text": [
      "\n",
      "train: 78-35/36 tr_acc: 72.50%, lr=['0.0006693689601226452'], tr_loss: 0.7407980561256409, val_acc: 59.80%: 100%|██████████| 36/36 [00:23<00:00,  1.53it/s] "
     ]
    },
    {
     "name": "stdout",
     "output_type": "stream",
     "text": [
      "epoch_time: 23.82081174850464 seconds\n",
      "\n",
      "\n",
      "EPOCH 79\n"
     ]
    },
    {
     "name": "stderr",
     "output_type": "stream",
     "text": [
      "\n",
      "train: 79-35/36 tr_acc: 90.00%, lr=['0.0006619587090990741'], tr_loss: 0.39040201902389526, val_acc: 57.90%: 100%|██████████| 36/36 [00:23<00:00,  1.54it/s]"
     ]
    },
    {
     "name": "stdout",
     "output_type": "stream",
     "text": [
      "epoch_time: 23.61038565635681 seconds\n",
      "\n",
      "\n",
      "EPOCH 80\n"
     ]
    },
    {
     "name": "stderr",
     "output_type": "stream",
     "text": [
      "\n",
      "train: 80-35/36 tr_acc: 92.50%, lr=['0.0006545084971874731'], tr_loss: 0.2668406069278717, val_acc: 61.20%: 100%|██████████| 36/36 [00:23<00:00,  1.54it/s] "
     ]
    },
    {
     "name": "stdout",
     "output_type": "stream",
     "text": [
      "epoch_time: 23.65033531188965 seconds\n",
      "\n",
      "\n",
      "EPOCH 81\n"
     ]
    },
    {
     "name": "stderr",
     "output_type": "stream",
     "text": [
      "\n",
      "train: 81-35/36 tr_acc: 92.50%, lr=['0.0006470201626161514'], tr_loss: 0.23760762810707092, val_acc: 59.50%: 100%|██████████| 36/36 [00:23<00:00,  1.54it/s]"
     ]
    },
    {
     "name": "stdout",
     "output_type": "stream",
     "text": [
      "epoch_time: 23.622132301330566 seconds\n",
      "\n",
      "\n",
      "EPOCH 82\n"
     ]
    },
    {
     "name": "stderr",
     "output_type": "stream",
     "text": [
      "\n",
      "train: 82-35/36 tr_acc: 77.50%, lr=['0.0006394955530196142'], tr_loss: 0.5086349248886108, val_acc: 64.00%: 100%|██████████| 36/36 [00:23<00:00,  1.56it/s] "
     ]
    },
    {
     "name": "stdout",
     "output_type": "stream",
     "text": [
      "epoch_time: 23.383107900619507 seconds\n",
      "\n",
      "\n",
      "EPOCH 83\n"
     ]
    },
    {
     "name": "stderr",
     "output_type": "stream",
     "text": [
      "\n",
      "train: 83-35/36 tr_acc: 87.50%, lr=['0.0006319365249826858'], tr_loss: 0.4499719738960266, val_acc: 61.40%: 100%|██████████| 36/36 [00:23<00:00,  1.56it/s] "
     ]
    },
    {
     "name": "stdout",
     "output_type": "stream",
     "text": [
      "epoch_time: 23.40257215499878 seconds\n",
      "\n",
      "\n",
      "EPOCH 84\n"
     ]
    },
    {
     "name": "stderr",
     "output_type": "stream",
     "text": [
      "\n",
      "train: 84-35/36 tr_acc: 90.00%, lr=['0.0006243449435824268'], tr_loss: 0.28420528769493103, val_acc: 63.80%: 100%|██████████| 36/36 [00:23<00:00,  1.53it/s]"
     ]
    },
    {
     "name": "stdout",
     "output_type": "stream",
     "text": [
      "epoch_time: 23.72216272354126 seconds\n",
      "\n",
      "\n",
      "EPOCH 85\n"
     ]
    },
    {
     "name": "stderr",
     "output_type": "stream",
     "text": [
      "\n",
      "train: 85-35/36 tr_acc: 87.50%, lr=['0.0006167226819279523'], tr_loss: 0.31075114011764526, val_acc: 48.50%: 100%|██████████| 36/36 [00:23<00:00,  1.54it/s]"
     ]
    },
    {
     "name": "stdout",
     "output_type": "stream",
     "text": [
      "epoch_time: 23.649622917175293 seconds\n",
      "\n",
      "\n",
      "EPOCH 86\n"
     ]
    },
    {
     "name": "stderr",
     "output_type": "stream",
     "text": [
      "\n",
      "train: 86-35/36 tr_acc: 90.00%, lr=['0.0006090716206982709'], tr_loss: 0.2521587610244751, val_acc: 63.50%: 100%|██████████| 36/36 [00:23<00:00,  1.55it/s] "
     ]
    },
    {
     "name": "stdout",
     "output_type": "stream",
     "text": [
      "epoch_time: 23.50552988052368 seconds\n",
      "\n",
      "\n",
      "EPOCH 87\n"
     ]
    },
    {
     "name": "stderr",
     "output_type": "stream",
     "text": [
      "\n",
      "train: 87-35/36 tr_acc: 92.50%, lr=['0.0006013936476782558'], tr_loss: 0.2267206460237503, val_acc: 62.10%: 100%|██████████| 36/36 [00:23<00:00,  1.53it/s] \n"
     ]
    },
    {
     "name": "stdout",
     "output_type": "stream",
     "text": [
      "epoch_time: 23.819912672042847 seconds\n",
      "\n",
      "\n",
      "EPOCH 88\n"
     ]
    },
    {
     "name": "stderr",
     "output_type": "stream",
     "text": [
      "train: 88-35/36 tr_acc: 82.50%, lr=['0.000593690657292862'], tr_loss: 0.4507118761539459, val_acc: 65.20%: 100%|██████████| 36/36 [00:23<00:00,  1.55it/s] "
     ]
    },
    {
     "name": "stdout",
     "output_type": "stream",
     "text": [
      "epoch_time: 23.49972105026245 seconds\n",
      "\n",
      "\n",
      "EPOCH 89\n"
     ]
    },
    {
     "name": "stderr",
     "output_type": "stream",
     "text": [
      "\n",
      "train: 89-35/36 tr_acc: 90.00%, lr=['0.0005859645501397043'], tr_loss: 0.26484766602516174, val_acc: 61.80%: 100%|██████████| 36/36 [00:23<00:00,  1.53it/s]"
     ]
    },
    {
     "name": "stdout",
     "output_type": "stream",
     "text": [
      "epoch_time: 23.791444063186646 seconds\n",
      "\n",
      "\n",
      "EPOCH 90\n"
     ]
    },
    {
     "name": "stderr",
     "output_type": "stream",
     "text": [
      "\n",
      "train: 90-35/36 tr_acc: 85.00%, lr=['0.000578217232520115'], tr_loss: 0.47767549753189087, val_acc: 64.80%: 100%|██████████| 36/36 [00:23<00:00,  1.54it/s]"
     ]
    },
    {
     "name": "stdout",
     "output_type": "stream",
     "text": [
      "epoch_time: 23.703660011291504 seconds\n",
      "\n",
      "\n",
      "EPOCH 91\n"
     ]
    },
    {
     "name": "stderr",
     "output_type": "stream",
     "text": [
      "\n",
      "train: 91-35/36 tr_acc: 87.50%, lr=['0.000570450615968791'], tr_loss: 0.4976731240749359, val_acc: 61.30%: 100%|██████████| 36/36 [00:23<00:00,  1.53it/s] "
     ]
    },
    {
     "name": "stdout",
     "output_type": "stream",
     "text": [
      "epoch_time: 23.85104274749756 seconds\n",
      "\n",
      "\n",
      "EPOCH 92\n"
     ]
    },
    {
     "name": "stderr",
     "output_type": "stream",
     "text": [
      "\n",
      "train: 92-35/36 tr_acc: 97.50%, lr=['0.0005626666167821518'], tr_loss: 0.15818843245506287, val_acc: 63.60%: 100%|██████████| 36/36 [00:23<00:00,  1.53it/s]"
     ]
    },
    {
     "name": "stdout",
     "output_type": "stream",
     "text": [
      "epoch_time: 23.757746696472168 seconds\n",
      "\n",
      "\n",
      "EPOCH 93\n"
     ]
    },
    {
     "name": "stderr",
     "output_type": "stream",
     "text": [
      "\n",
      "train: 93-35/36 tr_acc: 95.00%, lr=['0.0005548671555455222'], tr_loss: 0.1500225067138672, val_acc: 62.90%: 100%|██████████| 36/36 [00:23<00:00,  1.55it/s] "
     ]
    },
    {
     "name": "stdout",
     "output_type": "stream",
     "text": [
      "epoch_time: 23.519272089004517 seconds\n",
      "\n",
      "\n",
      "EPOCH 94\n"
     ]
    },
    {
     "name": "stderr",
     "output_type": "stream",
     "text": [
      "\n",
      "train: 94-35/36 tr_acc: 90.00%, lr=['0.0005470541566592567'], tr_loss: 0.41643157601356506, val_acc: 66.20%: 100%|██████████| 36/36 [00:23<00:00,  1.56it/s]"
     ]
    },
    {
     "name": "stdout",
     "output_type": "stream",
     "text": [
      "epoch_time: 23.382997751235962 seconds\n",
      "\n",
      "\n",
      "EPOCH 95\n"
     ]
    },
    {
     "name": "stderr",
     "output_type": "stream",
     "text": [
      "\n",
      "train: 95-35/36 tr_acc: 75.00%, lr=['0.000539229547863922'], tr_loss: 0.6178575754165649, val_acc: 65.20%: 100%|██████████| 36/36 [00:23<00:00,  1.53it/s] "
     ]
    },
    {
     "name": "stdout",
     "output_type": "stream",
     "text": [
      "epoch_time: 23.729727268218994 seconds\n",
      "\n",
      "\n",
      "EPOCH 96\n"
     ]
    },
    {
     "name": "stderr",
     "output_type": "stream",
     "text": [
      "\n",
      "train: 96-35/36 tr_acc: 90.00%, lr=['0.0005313952597646562'], tr_loss: 0.5151091814041138, val_acc: 61.10%: 100%|██████████| 36/36 [00:23<00:00,  1.54it/s] "
     ]
    },
    {
     "name": "stdout",
     "output_type": "stream",
     "text": [
      "epoch_time: 23.659889698028564 seconds\n",
      "\n",
      "\n",
      "EPOCH 97\n"
     ]
    },
    {
     "name": "stderr",
     "output_type": "stream",
     "text": [
      "\n",
      "train: 97-35/36 tr_acc: 85.00%, lr=['0.0005235532253548208'], tr_loss: 0.5238288640975952, val_acc: 63.80%: 100%|██████████| 36/36 [00:23<00:00,  1.52it/s] "
     ]
    },
    {
     "name": "stdout",
     "output_type": "stream",
     "text": [
      "epoch_time: 23.881572008132935 seconds\n",
      "\n",
      "\n",
      "EPOCH 98\n"
     ]
    },
    {
     "name": "stderr",
     "output_type": "stream",
     "text": [
      "\n",
      "train: 98-35/36 tr_acc: 90.00%, lr=['0.0005157053795390637'], tr_loss: 0.31497055292129517, val_acc: 63.20%: 100%|██████████| 36/36 [00:23<00:00,  1.54it/s]"
     ]
    },
    {
     "name": "stdout",
     "output_type": "stream",
     "text": [
      "epoch_time: 23.70105481147766 seconds\n",
      "\n",
      "\n",
      "EPOCH 99\n"
     ]
    },
    {
     "name": "stderr",
     "output_type": "stream",
     "text": [
      "\n",
      "train: 99-35/36 tr_acc: 95.00%, lr=['0.0005078536586559099'], tr_loss: 0.27268314361572266, val_acc: 67.40%: 100%|██████████| 36/36 [00:24<00:00,  1.49it/s]"
     ]
    },
    {
     "name": "stdout",
     "output_type": "stream",
     "text": [
      "epoch_time: 24.478957414627075 seconds\n",
      "\n",
      "\n",
      "EPOCH 100\n"
     ]
    },
    {
     "name": "stderr",
     "output_type": "stream",
     "text": [
      "\n",
      "train: 100-35/36 tr_acc: 92.50%, lr=['0.0004999999999999996'], tr_loss: 0.2496016025543213, val_acc: 64.70%: 100%|██████████| 36/36 [00:23<00:00,  1.55it/s] "
     ]
    },
    {
     "name": "stdout",
     "output_type": "stream",
     "text": [
      "epoch_time: 23.47054958343506 seconds\n",
      "\n",
      "\n",
      "EPOCH 101\n"
     ]
    },
    {
     "name": "stderr",
     "output_type": "stream",
     "text": [
      "\n",
      "train: 101-35/36 tr_acc: 90.00%, lr=['0.0004921463413440893'], tr_loss: 0.365186870098114, val_acc: 64.70%: 100%|██████████| 36/36 [00:23<00:00,  1.54it/s]  "
     ]
    },
    {
     "name": "stdout",
     "output_type": "stream",
     "text": [
      "epoch_time: 23.642252683639526 seconds\n",
      "\n",
      "\n",
      "EPOCH 102\n"
     ]
    },
    {
     "name": "stderr",
     "output_type": "stream",
     "text": [
      "\n",
      "train: 102-35/36 tr_acc: 92.50%, lr=['0.0004842946204609354'], tr_loss: 0.2456263303756714, val_acc: 67.90%: 100%|██████████| 36/36 [00:23<00:00,  1.52it/s] "
     ]
    },
    {
     "name": "stdout",
     "output_type": "stream",
     "text": [
      "epoch_time: 23.985454559326172 seconds\n",
      "\n",
      "\n",
      "EPOCH 103\n"
     ]
    },
    {
     "name": "stderr",
     "output_type": "stream",
     "text": [
      "\n",
      "train: 103-35/36 tr_acc: 90.00%, lr=['0.00047644677464517824'], tr_loss: 0.18622121214866638, val_acc: 67.40%: 100%|██████████| 36/36 [00:23<00:00,  1.55it/s]"
     ]
    },
    {
     "name": "stdout",
     "output_type": "stream",
     "text": [
      "epoch_time: 23.52513551712036 seconds\n",
      "\n",
      "\n",
      "EPOCH 104\n"
     ]
    },
    {
     "name": "stderr",
     "output_type": "stream",
     "text": [
      "\n",
      "train: 104-35/36 tr_acc: 95.00%, lr=['0.00046860474023534287'], tr_loss: 0.21560640633106232, val_acc: 62.40%: 100%|██████████| 36/36 [00:22<00:00,  1.57it/s] "
     ]
    },
    {
     "name": "stdout",
     "output_type": "stream",
     "text": [
      "epoch_time: 23.150856733322144 seconds\n",
      "\n",
      "\n",
      "EPOCH 105\n"
     ]
    },
    {
     "name": "stderr",
     "output_type": "stream",
     "text": [
      "\n",
      "train: 105-35/36 tr_acc: 90.00%, lr=['0.00046077045213607716'], tr_loss: 0.48011165857315063, val_acc: 63.80%: 100%|██████████| 36/36 [00:23<00:00,  1.55it/s]"
     ]
    },
    {
     "name": "stdout",
     "output_type": "stream",
     "text": [
      "epoch_time: 23.519317865371704 seconds\n",
      "\n",
      "\n",
      "EPOCH 106\n"
     ]
    },
    {
     "name": "stderr",
     "output_type": "stream",
     "text": [
      "\n",
      "train: 106-35/36 tr_acc: 87.50%, lr=['0.0004529458433407424'], tr_loss: 0.4997238218784332, val_acc: 66.90%: 100%|██████████| 36/36 [00:23<00:00,  1.53it/s] "
     ]
    },
    {
     "name": "stdout",
     "output_type": "stream",
     "text": [
      "epoch_time: 23.775684595108032 seconds\n",
      "\n",
      "\n",
      "EPOCH 107\n"
     ]
    },
    {
     "name": "stderr",
     "output_type": "stream",
     "text": [
      "\n",
      "train: 107-35/36 tr_acc: 95.00%, lr=['0.000445132844454477'], tr_loss: 0.174770325422287, val_acc: 63.40%: 100%|██████████| 36/36 [00:23<00:00,  1.50it/s]  "
     ]
    },
    {
     "name": "stdout",
     "output_type": "stream",
     "text": [
      "epoch_time: 24.275949239730835 seconds\n",
      "\n",
      "\n",
      "EPOCH 108\n"
     ]
    },
    {
     "name": "stderr",
     "output_type": "stream",
     "text": [
      "\n",
      "train: 108-35/36 tr_acc: 90.00%, lr=['0.0004373333832178475'], tr_loss: 0.37723177671432495, val_acc: 67.30%: 100%|██████████| 36/36 [00:23<00:00,  1.55it/s]"
     ]
    },
    {
     "name": "stdout",
     "output_type": "stream",
     "text": [
      "epoch_time: 23.517626762390137 seconds\n",
      "\n",
      "\n",
      "EPOCH 109\n"
     ]
    },
    {
     "name": "stderr",
     "output_type": "stream",
     "text": [
      "\n",
      "train: 109-35/36 tr_acc: 82.50%, lr=['0.0004295493840312084'], tr_loss: 0.39733177423477173, val_acc: 62.80%: 100%|██████████| 36/36 [00:23<00:00,  1.55it/s]"
     ]
    },
    {
     "name": "stdout",
     "output_type": "stream",
     "text": [
      "epoch_time: 23.479697465896606 seconds\n",
      "\n",
      "\n",
      "EPOCH 110\n"
     ]
    },
    {
     "name": "stderr",
     "output_type": "stream",
     "text": [
      "\n",
      "train: 110-35/36 tr_acc: 92.50%, lr=['0.0004217827674798842'], tr_loss: 0.24763676524162292, val_acc: 68.00%: 100%|██████████| 36/36 [00:23<00:00,  1.51it/s] "
     ]
    },
    {
     "name": "stdout",
     "output_type": "stream",
     "text": [
      "epoch_time: 23.984327793121338 seconds\n",
      "\n",
      "\n",
      "EPOCH 111\n"
     ]
    },
    {
     "name": "stderr",
     "output_type": "stream",
     "text": [
      "\n",
      "train: 111-35/36 tr_acc: 97.50%, lr=['0.00041403544986029484'], tr_loss: 0.1268107146024704, val_acc: 66.00%: 100%|██████████| 36/36 [00:23<00:00,  1.54it/s] "
     ]
    },
    {
     "name": "stdout",
     "output_type": "stream",
     "text": [
      "epoch_time: 23.618958473205566 seconds\n",
      "\n",
      "\n",
      "EPOCH 112\n"
     ]
    },
    {
     "name": "stderr",
     "output_type": "stream",
     "text": [
      "\n",
      "train: 112-35/36 tr_acc: 85.00%, lr=['0.0004063093427071374'], tr_loss: 0.45846182107925415, val_acc: 63.90%: 100%|██████████| 36/36 [00:23<00:00,  1.55it/s]"
     ]
    },
    {
     "name": "stdout",
     "output_type": "stream",
     "text": [
      "epoch_time: 23.565987586975098 seconds\n",
      "\n",
      "\n",
      "EPOCH 113\n"
     ]
    },
    {
     "name": "stderr",
     "output_type": "stream",
     "text": [
      "\n",
      "train: 113-35/36 tr_acc: 95.00%, lr=['0.00039860635232174353'], tr_loss: 0.27212774753570557, val_acc: 65.00%: 100%|██████████| 36/36 [00:23<00:00,  1.54it/s]"
     ]
    },
    {
     "name": "stdout",
     "output_type": "stream",
     "text": [
      "epoch_time: 23.69575023651123 seconds\n",
      "\n",
      "\n",
      "EPOCH 114\n"
     ]
    },
    {
     "name": "stderr",
     "output_type": "stream",
     "text": [
      "\n",
      "train: 114-35/36 tr_acc: 90.00%, lr=['0.0003909283793017286'], tr_loss: 0.239312082529068, val_acc: 64.10%: 100%|██████████| 36/36 [00:23<00:00,  1.54it/s]   "
     ]
    },
    {
     "name": "stdout",
     "output_type": "stream",
     "text": [
      "epoch_time: 23.558682918548584 seconds\n",
      "\n",
      "\n",
      "EPOCH 115\n"
     ]
    },
    {
     "name": "stderr",
     "output_type": "stream",
     "text": [
      "\n",
      "train: 115-35/36 tr_acc: 92.50%, lr=['0.000383277318072047'], tr_loss: 0.20152251422405243, val_acc: 67.10%: 100%|██████████| 36/36 [00:23<00:00,  1.54it/s] "
     ]
    },
    {
     "name": "stdout",
     "output_type": "stream",
     "text": [
      "epoch_time: 23.63733959197998 seconds\n",
      "\n",
      "\n",
      "EPOCH 116\n"
     ]
    },
    {
     "name": "stderr",
     "output_type": "stream",
     "text": [
      "\n",
      "train: 116-35/36 tr_acc: 92.50%, lr=['0.00037565505641757235'], tr_loss: 0.241130068898201, val_acc: 65.60%: 100%|██████████| 36/36 [00:23<00:00,  1.55it/s]   "
     ]
    },
    {
     "name": "stdout",
     "output_type": "stream",
     "text": [
      "epoch_time: 23.53247094154358 seconds\n",
      "\n",
      "\n",
      "EPOCH 117\n"
     ]
    },
    {
     "name": "stderr",
     "output_type": "stream",
     "text": [
      "\n",
      "train: 117-35/36 tr_acc: 97.50%, lr=['0.0003680634750173133'], tr_loss: 0.10258211940526962, val_acc: 68.80%: 100%|██████████| 36/36 [00:24<00:00,  1.47it/s] "
     ]
    },
    {
     "name": "stdout",
     "output_type": "stream",
     "text": [
      "epoch_time: 24.74783444404602 seconds\n",
      "\n",
      "\n",
      "EPOCH 118\n"
     ]
    },
    {
     "name": "stderr",
     "output_type": "stream",
     "text": [
      "\n",
      "train: 118-35/36 tr_acc: 97.50%, lr=['0.00036050444698038515'], tr_loss: 0.10909055173397064, val_acc: 67.80%: 100%|██████████| 36/36 [00:23<00:00,  1.53it/s]  "
     ]
    },
    {
     "name": "stdout",
     "output_type": "stream",
     "text": [
      "epoch_time: 23.708446979522705 seconds\n",
      "\n",
      "\n",
      "EPOCH 119\n"
     ]
    },
    {
     "name": "stderr",
     "output_type": "stream",
     "text": [
      "\n",
      "train: 119-35/36 tr_acc: 95.00%, lr=['0.0003529798373838478'], tr_loss: 0.2548031210899353, val_acc: 64.30%: 100%|██████████| 36/36 [00:23<00:00,  1.51it/s]  "
     ]
    },
    {
     "name": "stdout",
     "output_type": "stream",
     "text": [
      "epoch_time: 24.01400327682495 seconds\n",
      "\n",
      "\n",
      "EPOCH 120\n"
     ]
    },
    {
     "name": "stderr",
     "output_type": "stream",
     "text": [
      "\n",
      "train: 120-35/36 tr_acc: 90.00%, lr=['0.0003454915028125262'], tr_loss: 0.24800129234790802, val_acc: 65.60%: 100%|██████████| 36/36 [00:23<00:00,  1.53it/s] "
     ]
    },
    {
     "name": "stdout",
     "output_type": "stream",
     "text": [
      "epoch_time: 23.782408952713013 seconds\n",
      "\n",
      "\n",
      "EPOCH 121\n"
     ]
    },
    {
     "name": "stderr",
     "output_type": "stream",
     "text": [
      "\n",
      "train: 121-35/36 tr_acc: 87.50%, lr=['0.00033804129090092506'], tr_loss: 0.29647573828697205, val_acc: 67.10%: 100%|██████████| 36/36 [00:23<00:00,  1.55it/s] "
     ]
    },
    {
     "name": "stdout",
     "output_type": "stream",
     "text": [
      "epoch_time: 23.500723600387573 seconds\n",
      "\n",
      "\n",
      "EPOCH 122\n"
     ]
    },
    {
     "name": "stderr",
     "output_type": "stream",
     "text": [
      "\n",
      "train: 122-35/36 tr_acc: 90.00%, lr=['0.0003306310398773541'], tr_loss: 0.1764216125011444, val_acc: 67.10%: 100%|██████████| 36/36 [00:23<00:00,  1.54it/s]  "
     ]
    },
    {
     "name": "stdout",
     "output_type": "stream",
     "text": [
      "epoch_time: 23.688789129257202 seconds\n",
      "\n",
      "\n",
      "EPOCH 123\n"
     ]
    },
    {
     "name": "stderr",
     "output_type": "stream",
     "text": [
      "\n",
      "train: 123-35/36 tr_acc: 82.50%, lr=['0.00032326257811037126'], tr_loss: 0.3379272520542145, val_acc: 68.60%: 100%|██████████| 36/36 [00:23<00:00,  1.53it/s]  "
     ]
    },
    {
     "name": "stdout",
     "output_type": "stream",
     "text": [
      "epoch_time: 23.751453161239624 seconds\n",
      "\n",
      "\n",
      "EPOCH 124\n"
     ]
    },
    {
     "name": "stderr",
     "output_type": "stream",
     "text": [
      "\n",
      "train: 124-35/36 tr_acc: 92.50%, lr=['0.0003159377236576609'], tr_loss: 0.16427132487297058, val_acc: 70.00%: 100%|██████████| 36/36 [00:23<00:00,  1.53it/s]"
     ]
    },
    {
     "name": "stdout",
     "output_type": "stream",
     "text": [
      "epoch_time: 23.770206212997437 seconds\n",
      "\n",
      "\n",
      "EPOCH 125\n"
     ]
    },
    {
     "name": "stderr",
     "output_type": "stream",
     "text": [
      "\n",
      "train: 125-35/36 tr_acc: 95.00%, lr=['0.000308658283817455'], tr_loss: 0.11238990724086761, val_acc: 66.30%: 100%|██████████| 36/36 [00:23<00:00,  1.55it/s] "
     ]
    },
    {
     "name": "stdout",
     "output_type": "stream",
     "text": [
      "epoch_time: 23.488559007644653 seconds\n",
      "\n",
      "\n",
      "EPOCH 126\n"
     ]
    },
    {
     "name": "stderr",
     "output_type": "stream",
     "text": [
      "\n",
      "train: 126-35/36 tr_acc: 85.00%, lr=['0.0003014260546826094'], tr_loss: 0.5902068018913269, val_acc: 65.60%: 100%|██████████| 36/36 [00:23<00:00,  1.54it/s]  "
     ]
    },
    {
     "name": "stdout",
     "output_type": "stream",
     "text": [
      "epoch_time: 23.693783283233643 seconds\n",
      "\n",
      "\n",
      "EPOCH 127\n"
     ]
    },
    {
     "name": "stderr",
     "output_type": "stream",
     "text": [
      "\n",
      "train: 127-35/36 tr_acc: 90.00%, lr=['0.0002942428206974454'], tr_loss: 0.1828671246767044, val_acc: 69.10%: 100%|██████████| 36/36 [00:23<00:00,  1.56it/s]   "
     ]
    },
    {
     "name": "stdout",
     "output_type": "stream",
     "text": [
      "epoch_time: 23.338322162628174 seconds\n",
      "\n",
      "\n",
      "EPOCH 128\n"
     ]
    },
    {
     "name": "stderr",
     "output_type": "stream",
     "text": [
      "\n",
      "train: 128-35/36 tr_acc: 92.50%, lr=['0.00028711035421746345'], tr_loss: 0.18018373847007751, val_acc: 70.40%: 100%|██████████| 36/36 [00:23<00:00,  1.52it/s] "
     ]
    },
    {
     "name": "stdout",
     "output_type": "stream",
     "text": [
      "epoch_time: 24.001578092575073 seconds\n",
      "\n",
      "\n",
      "EPOCH 129\n"
     ]
    },
    {
     "name": "stderr",
     "output_type": "stream",
     "text": [
      "\n",
      "train: 129-35/36 tr_acc: 100.00%, lr=['0.0002800304150720422'], tr_loss: 0.09535263478755951, val_acc: 68.30%: 100%|██████████| 36/36 [00:23<00:00,  1.53it/s]"
     ]
    },
    {
     "name": "stdout",
     "output_type": "stream",
     "text": [
      "epoch_time: 23.764392614364624 seconds\n",
      "\n",
      "\n",
      "EPOCH 130\n"
     ]
    },
    {
     "name": "stderr",
     "output_type": "stream",
     "text": [
      "\n",
      "train: 130-35/36 tr_acc: 95.00%, lr=['0.0002730047501302264'], tr_loss: 0.248109370470047, val_acc: 69.30%: 100%|██████████| 36/36 [00:23<00:00,  1.55it/s]   "
     ]
    },
    {
     "name": "stdout",
     "output_type": "stream",
     "text": [
      "epoch_time: 23.488139629364014 seconds\n",
      "\n",
      "\n",
      "EPOCH 131\n"
     ]
    },
    {
     "name": "stderr",
     "output_type": "stream",
     "text": [
      "\n",
      "train: 131-35/36 tr_acc: 95.00%, lr=['0.0002660350928697132'], tr_loss: 0.0981452539563179, val_acc: 66.20%: 100%|██████████| 36/36 [00:23<00:00,  1.55it/s]  "
     ]
    },
    {
     "name": "stdout",
     "output_type": "stream",
     "text": [
      "epoch_time: 23.485404014587402 seconds\n",
      "\n",
      "\n",
      "EPOCH 132\n"
     ]
    },
    {
     "name": "stderr",
     "output_type": "stream",
     "text": [
      "\n",
      "train: 132-35/36 tr_acc: 92.50%, lr=['0.0002591231629491421'], tr_loss: 0.22486135363578796, val_acc: 65.60%: 100%|██████████| 36/36 [00:23<00:00,  1.56it/s] "
     ]
    },
    {
     "name": "stdout",
     "output_type": "stream",
     "text": [
      "epoch_time: 23.368118286132812 seconds\n",
      "\n",
      "\n",
      "EPOCH 133\n"
     ]
    },
    {
     "name": "stderr",
     "output_type": "stream",
     "text": [
      "\n",
      "train: 133-35/36 tr_acc: 87.50%, lr=['0.00025227066578379596'], tr_loss: 0.4284033179283142, val_acc: 67.30%: 100%|██████████| 36/36 [00:23<00:00,  1.53it/s]  "
     ]
    },
    {
     "name": "stdout",
     "output_type": "stream",
     "text": [
      "epoch_time: 23.756572484970093 seconds\n",
      "\n",
      "\n",
      "EPOCH 134\n"
     ]
    },
    {
     "name": "stderr",
     "output_type": "stream",
     "text": [
      "\n",
      "train: 134-35/36 tr_acc: 90.00%, lr=['0.0002454792921248141'], tr_loss: 0.2889064848423004, val_acc: 67.60%: 100%|██████████| 36/36 [00:23<00:00,  1.53it/s]   "
     ]
    },
    {
     "name": "stdout",
     "output_type": "stream",
     "text": [
      "epoch_time: 23.81321358680725 seconds\n",
      "\n",
      "\n",
      "EPOCH 135\n"
     ]
    },
    {
     "name": "stderr",
     "output_type": "stream",
     "text": [
      "\n",
      "train: 135-35/36 tr_acc: 100.00%, lr=['0.00023875071764202534'], tr_loss: 0.023077374324202538, val_acc: 69.60%: 100%|██████████| 36/36 [00:23<00:00,  1.53it/s]"
     ]
    },
    {
     "name": "stdout",
     "output_type": "stream",
     "text": [
      "epoch_time: 23.792563915252686 seconds\n",
      "\n",
      "\n",
      "EPOCH 136\n"
     ]
    },
    {
     "name": "stderr",
     "output_type": "stream",
     "text": [
      "\n",
      "train: 136-35/36 tr_acc: 90.00%, lr=['0.0002320866025105013'], tr_loss: 0.4065873622894287, val_acc: 70.00%: 100%|██████████| 36/36 [00:23<00:00,  1.54it/s]  "
     ]
    },
    {
     "name": "stdout",
     "output_type": "stream",
     "text": [
      "epoch_time: 23.608194589614868 seconds\n",
      "\n",
      "\n",
      "EPOCH 137\n"
     ]
    },
    {
     "name": "stderr",
     "output_type": "stream",
     "text": [
      "\n",
      "train: 137-35/36 tr_acc: 90.00%, lr=['0.0002254885910009338'], tr_loss: 0.29304543137550354, val_acc: 70.70%: 100%|██████████| 36/36 [00:24<00:00,  1.47it/s] "
     ]
    },
    {
     "name": "stdout",
     "output_type": "stream",
     "text": [
      "epoch_time: 24.6867458820343 seconds\n",
      "\n",
      "\n",
      "EPOCH 138\n"
     ]
    },
    {
     "name": "stderr",
     "output_type": "stream",
     "text": [
      "\n",
      "train: 138-35/36 tr_acc: 95.00%, lr=['0.0002189583110739344'], tr_loss: 0.11767667531967163, val_acc: 68.30%: 100%|██████████| 36/36 [00:23<00:00,  1.53it/s] "
     ]
    },
    {
     "name": "stdout",
     "output_type": "stream",
     "text": [
      "epoch_time: 23.80244541168213 seconds\n",
      "\n",
      "\n",
      "EPOCH 139\n"
     ]
    },
    {
     "name": "stderr",
     "output_type": "stream",
     "text": [
      "\n",
      "train: 139-35/36 tr_acc: 90.00%, lr=['0.00021249737397836048'], tr_loss: 0.3000224530696869, val_acc: 71.70%: 100%|██████████| 36/36 [00:23<00:00,  1.53it/s]   "
     ]
    },
    {
     "name": "stdout",
     "output_type": "stream",
     "text": [
      "epoch_time: 23.77085018157959 seconds\n",
      "\n",
      "\n",
      "EPOCH 140\n"
     ]
    },
    {
     "name": "stderr",
     "output_type": "stream",
     "text": [
      "\n",
      "train: 140-35/36 tr_acc: 90.00%, lr=['0.00020610737385376327'], tr_loss: 0.3729262053966522, val_acc: 70.40%: 100%|██████████| 36/36 [00:23<00:00,  1.53it/s]  "
     ]
    },
    {
     "name": "stdout",
     "output_type": "stream",
     "text": [
      "epoch_time: 23.81931161880493 seconds\n",
      "\n",
      "\n",
      "EPOCH 141\n"
     ]
    },
    {
     "name": "stderr",
     "output_type": "stream",
     "text": [
      "\n",
      "train: 141-35/36 tr_acc: 95.00%, lr=['0.00019978988733705783'], tr_loss: 0.16672775149345398, val_acc: 69.50%: 100%|██████████| 36/36 [00:23<00:00,  1.52it/s]  \n"
     ]
    },
    {
     "name": "stdout",
     "output_type": "stream",
     "text": [
      "epoch_time: 23.999058723449707 seconds\n",
      "\n",
      "\n",
      "EPOCH 142\n"
     ]
    },
    {
     "name": "stderr",
     "output_type": "stream",
     "text": [
      "train: 142-35/36 tr_acc: 85.00%, lr=['0.00019354647317351147'], tr_loss: 0.36572015285491943, val_acc: 69.50%: 100%|██████████| 36/36 [00:23<00:00,  1.54it/s] "
     ]
    },
    {
     "name": "stdout",
     "output_type": "stream",
     "text": [
      "epoch_time: 23.61674404144287 seconds\n",
      "\n",
      "\n",
      "EPOCH 143\n"
     ]
    },
    {
     "name": "stderr",
     "output_type": "stream",
     "text": [
      "\n",
      "train: 143-35/36 tr_acc: 97.50%, lr=['0.00018737867183214719'], tr_loss: 0.0773666501045227, val_acc: 70.00%: 100%|██████████| 36/36 [00:23<00:00,  1.53it/s]  "
     ]
    },
    {
     "name": "stdout",
     "output_type": "stream",
     "text": [
      "epoch_time: 23.7897629737854 seconds\n",
      "\n",
      "\n",
      "EPOCH 144\n"
     ]
    },
    {
     "name": "stderr",
     "output_type": "stream",
     "text": [
      "\n",
      "train: 144-35/36 tr_acc: 100.00%, lr=['0.0001812880051256549'], tr_loss: 0.03082652948796749, val_acc: 71.70%: 100%|██████████| 36/36 [00:23<00:00,  1.54it/s]"
     ]
    },
    {
     "name": "stdout",
     "output_type": "stream",
     "text": [
      "epoch_time: 23.617614030838013 seconds\n",
      "\n",
      "\n",
      "EPOCH 145\n"
     ]
    },
    {
     "name": "stderr",
     "output_type": "stream",
     "text": [
      "\n",
      "train: 145-35/36 tr_acc: 97.50%, lr=['0.00017527597583490801'], tr_loss: 0.08742253482341766, val_acc: 69.60%: 100%|██████████| 36/36 [00:23<00:00,  1.55it/s] "
     ]
    },
    {
     "name": "stdout",
     "output_type": "stream",
     "text": [
      "epoch_time: 23.57739520072937 seconds\n",
      "\n",
      "\n",
      "EPOCH 146\n"
     ]
    },
    {
     "name": "stderr",
     "output_type": "stream",
     "text": [
      "\n",
      "train: 146-35/36 tr_acc: 90.00%, lr=['0.00016934406733817395'], tr_loss: 0.22269244492053986, val_acc: 68.50%: 100%|██████████| 36/36 [00:23<00:00,  1.55it/s] "
     ]
    },
    {
     "name": "stdout",
     "output_type": "stream",
     "text": [
      "epoch_time: 23.520724773406982 seconds\n",
      "\n",
      "\n",
      "EPOCH 147\n"
     ]
    },
    {
     "name": "stderr",
     "output_type": "stream",
     "text": [
      "\n",
      "train: 147-35/36 tr_acc: 90.00%, lr=['0.0001634937432451131'], tr_loss: 0.3012318015098572, val_acc: 69.00%: 100%|██████████| 36/36 [00:23<00:00,  1.54it/s]  "
     ]
    },
    {
     "name": "stdout",
     "output_type": "stream",
     "text": [
      "epoch_time: 23.66518998146057 seconds\n",
      "\n",
      "\n",
      "EPOCH 148\n"
     ]
    },
    {
     "name": "stderr",
     "output_type": "stream",
     "text": [
      "\n",
      "train: 148-35/36 tr_acc: 100.00%, lr=['0.00015772644703565544'], tr_loss: 0.0394115187227726, val_acc: 68.50%: 100%|██████████| 36/36 [00:23<00:00,  1.52it/s]  "
     ]
    },
    {
     "name": "stdout",
     "output_type": "stream",
     "text": [
      "epoch_time: 23.928374767303467 seconds\n",
      "\n",
      "\n",
      "EPOCH 149\n"
     ]
    },
    {
     "name": "stderr",
     "output_type": "stream",
     "text": [
      "\n",
      "train: 149-35/36 tr_acc: 100.00%, lr=['0.00015204360170384266'], tr_loss: 0.08496994525194168, val_acc: 71.40%: 100%|██████████| 36/36 [00:23<00:00,  1.52it/s] "
     ]
    },
    {
     "name": "stdout",
     "output_type": "stream",
     "text": [
      "epoch_time: 23.94652819633484 seconds\n",
      "\n",
      "\n",
      "EPOCH 150\n"
     ]
    },
    {
     "name": "stderr",
     "output_type": "stream",
     "text": [
      "\n",
      "train: 150-35/36 tr_acc: 100.00%, lr=['0.0001464466094067261'], tr_loss: 0.02052105776965618, val_acc: 69.90%: 100%|██████████| 36/36 [00:23<00:00,  1.55it/s] "
     ]
    },
    {
     "name": "stdout",
     "output_type": "stream",
     "text": [
      "epoch_time: 23.51606249809265 seconds\n",
      "\n",
      "\n",
      "EPOCH 151\n"
     ]
    },
    {
     "name": "stderr",
     "output_type": "stream",
     "text": [
      "\n",
      "train: 151-35/36 tr_acc: 97.50%, lr=['0.00014093685111840547'], tr_loss: 0.06635382026433945, val_acc: 67.90%: 100%|██████████| 36/36 [00:23<00:00,  1.51it/s]  "
     ]
    },
    {
     "name": "stdout",
     "output_type": "stream",
     "text": [
      "epoch_time: 24.018147468566895 seconds\n",
      "\n",
      "\n",
      "EPOCH 152\n"
     ]
    },
    {
     "name": "stderr",
     "output_type": "stream",
     "text": [
      "\n",
      "train: 152-35/36 tr_acc: 92.50%, lr=['0.00013551568628929414'], tr_loss: 0.25205522775650024, val_acc: 70.50%: 100%|██████████| 36/36 [00:23<00:00,  1.53it/s]  "
     ]
    },
    {
     "name": "stdout",
     "output_type": "stream",
     "text": [
      "epoch_time: 23.732166528701782 seconds\n",
      "\n",
      "\n",
      "EPOCH 153\n"
     ]
    },
    {
     "name": "stderr",
     "output_type": "stream",
     "text": [
      "\n",
      "train: 153-35/36 tr_acc: 87.50%, lr=['0.00013018445251069492'], tr_loss: 0.3124256432056427, val_acc: 71.00%: 100%|██████████| 36/36 [00:23<00:00,  1.54it/s]  "
     ]
    },
    {
     "name": "stdout",
     "output_type": "stream",
     "text": [
      "epoch_time: 23.641732215881348 seconds\n",
      "\n",
      "\n",
      "EPOCH 154\n"
     ]
    },
    {
     "name": "stderr",
     "output_type": "stream",
     "text": [
      "\n",
      "train: 154-35/36 tr_acc: 100.00%, lr=['0.00012494446518477003'], tr_loss: 0.027506401762366295, val_acc: 69.40%: 100%|██████████| 36/36 [00:23<00:00,  1.56it/s]"
     ]
    },
    {
     "name": "stdout",
     "output_type": "stream",
     "text": [
      "epoch_time: 23.315269708633423 seconds\n",
      "\n",
      "\n",
      "EPOCH 155\n"
     ]
    },
    {
     "name": "stderr",
     "output_type": "stream",
     "text": [
      "\n",
      "train: 155-35/36 tr_acc: 97.50%, lr=['0.00011979701719998438'], tr_loss: 0.061747826635837555, val_acc: 72.20%: 100%|██████████| 36/36 [00:24<00:00,  1.49it/s] "
     ]
    },
    {
     "name": "stdout",
     "output_type": "stream",
     "text": [
      "epoch_time: 24.380022287368774 seconds\n",
      "\n",
      "\n",
      "EPOCH 156\n"
     ]
    },
    {
     "name": "stderr",
     "output_type": "stream",
     "text": [
      "\n",
      "train: 156-35/36 tr_acc: 90.00%, lr=['0.00011474337861210527'], tr_loss: 0.23926639556884766, val_acc: 70.40%: 100%|██████████| 36/36 [00:23<00:00,  1.53it/s]  \n"
     ]
    },
    {
     "name": "stdout",
     "output_type": "stream",
     "text": [
      "epoch_time: 23.73179030418396 seconds\n",
      "\n",
      "\n",
      "EPOCH 157\n"
     ]
    },
    {
     "name": "stderr",
     "output_type": "stream",
     "text": [
      "train: 157-35/36 tr_acc: 97.50%, lr=['0.00010978479633083506'], tr_loss: 0.0789060890674591, val_acc: 71.60%: 100%|██████████| 36/36 [00:23<00:00,  1.53it/s]   "
     ]
    },
    {
     "name": "stdout",
     "output_type": "stream",
     "text": [
      "epoch_time: 23.7887020111084 seconds\n",
      "\n",
      "\n",
      "EPOCH 158\n"
     ]
    },
    {
     "name": "stderr",
     "output_type": "stream",
     "text": [
      "\n",
      "train: 158-35/36 tr_acc: 95.00%, lr=['0.00010492249381215464'], tr_loss: 0.06810680031776428, val_acc: 70.60%: 100%|██████████| 36/36 [00:23<00:00,  1.55it/s]  "
     ]
    },
    {
     "name": "stdout",
     "output_type": "stream",
     "text": [
      "epoch_time: 23.568162202835083 seconds\n",
      "\n",
      "\n",
      "EPOCH 159\n"
     ]
    },
    {
     "name": "stderr",
     "output_type": "stream",
     "text": [
      "\n",
      "train: 159-35/36 tr_acc: 97.50%, lr=['0.00010015767075645457'], tr_loss: 0.0753762423992157, val_acc: 71.00%: 100%|██████████| 36/36 [00:23<00:00,  1.53it/s]   "
     ]
    },
    {
     "name": "stdout",
     "output_type": "stream",
     "text": [
      "epoch_time: 23.75914192199707 seconds\n",
      "\n",
      "\n",
      "EPOCH 160\n"
     ]
    },
    {
     "name": "stderr",
     "output_type": "stream",
     "text": [
      "\n",
      "train: 160-35/36 tr_acc: 92.50%, lr=['9.549150281252619e-05'], tr_loss: 0.2393866330385208, val_acc: 71.20%: 100%|██████████| 36/36 [00:23<00:00,  1.55it/s]   "
     ]
    },
    {
     "name": "stdout",
     "output_type": "stream",
     "text": [
      "epoch_time: 23.47596311569214 seconds\n",
      "\n",
      "\n",
      "EPOCH 161\n"
     ]
    },
    {
     "name": "stderr",
     "output_type": "stream",
     "text": [
      "\n",
      "train: 161-35/36 tr_acc: 95.00%, lr=['9.092514128748822e-05'], tr_loss: 0.11556391417980194, val_acc: 70.60%: 100%|██████████| 36/36 [00:23<00:00,  1.53it/s] "
     ]
    },
    {
     "name": "stdout",
     "output_type": "stream",
     "text": [
      "epoch_time: 23.810996055603027 seconds\n",
      "\n",
      "\n",
      "EPOCH 162\n"
     ]
    },
    {
     "name": "stderr",
     "output_type": "stream",
     "text": [
      "\n",
      "train: 162-35/36 tr_acc: 95.00%, lr=['8.645971286271902e-05'], tr_loss: 0.12556222081184387, val_acc: 70.60%: 100%|██████████| 36/36 [00:23<00:00,  1.54it/s]  "
     ]
    },
    {
     "name": "stdout",
     "output_type": "stream",
     "text": [
      "epoch_time: 23.69349980354309 seconds\n",
      "\n",
      "\n",
      "EPOCH 163\n"
     ]
    },
    {
     "name": "stderr",
     "output_type": "stream",
     "text": [
      "\n",
      "train: 163-35/36 tr_acc: 97.50%, lr=['8.209631931586485e-05'], tr_loss: 0.12588803470134735, val_acc: 73.30%: 100%|██████████| 36/36 [00:23<00:00,  1.53it/s]  "
     ]
    },
    {
     "name": "stdout",
     "output_type": "stream",
     "text": [
      "epoch_time: 23.70813775062561 seconds\n",
      "\n",
      "\n",
      "EPOCH 164\n"
     ]
    },
    {
     "name": "stderr",
     "output_type": "stream",
     "text": [
      "\n",
      "train: 164-35/36 tr_acc: 100.00%, lr=['7.783603724899246e-05'], tr_loss: 0.03553500771522522, val_acc: 70.80%: 100%|██████████| 36/36 [00:22<00:00,  1.57it/s] "
     ]
    },
    {
     "name": "stdout",
     "output_type": "stream",
     "text": [
      "epoch_time: 23.213798999786377 seconds\n",
      "\n",
      "\n",
      "EPOCH 165\n"
     ]
    },
    {
     "name": "stderr",
     "output_type": "stream",
     "text": [
      "\n",
      "train: 165-35/36 tr_acc: 97.50%, lr=['7.367991782295392e-05'], tr_loss: 0.10348768532276154, val_acc: 71.50%: 100%|██████████| 36/36 [00:23<00:00,  1.52it/s]  "
     ]
    },
    {
     "name": "stdout",
     "output_type": "stream",
     "text": [
      "epoch_time: 23.9721782207489 seconds\n",
      "\n",
      "\n",
      "EPOCH 166\n"
     ]
    },
    {
     "name": "stderr",
     "output_type": "stream",
     "text": [
      "\n",
      "train: 166-35/36 tr_acc: 97.50%, lr=['6.962898649802802e-05'], tr_loss: 0.09118695557117462, val_acc: 71.70%: 100%|██████████| 36/36 [00:23<00:00,  1.54it/s]  "
     ]
    },
    {
     "name": "stdout",
     "output_type": "stream",
     "text": [
      "epoch_time: 23.653616666793823 seconds\n",
      "\n",
      "\n",
      "EPOCH 167\n"
     ]
    },
    {
     "name": "stderr",
     "output_type": "stream",
     "text": [
      "\n",
      "train: 167-35/36 tr_acc: 97.50%, lr=['6.568424278090424e-05'], tr_loss: 0.09138570725917816, val_acc: 73.00%: 100%|██████████| 36/36 [00:23<00:00,  1.52it/s]   "
     ]
    },
    {
     "name": "stdout",
     "output_type": "stream",
     "text": [
      "epoch_time: 23.849158763885498 seconds\n",
      "\n",
      "\n",
      "EPOCH 168\n"
     ]
    },
    {
     "name": "stderr",
     "output_type": "stream",
     "text": [
      "\n",
      "train: 168-35/36 tr_acc: 92.50%, lr=['6.184665997806812e-05'], tr_loss: 0.19880184531211853, val_acc: 72.80%: 100%|██████████| 36/36 [00:23<00:00,  1.53it/s]  "
     ]
    },
    {
     "name": "stdout",
     "output_type": "stream",
     "text": [
      "epoch_time: 23.798808097839355 seconds\n",
      "\n",
      "\n",
      "EPOCH 169\n"
     ]
    },
    {
     "name": "stderr",
     "output_type": "stream",
     "text": [
      "\n",
      "train: 169-35/36 tr_acc: 95.00%, lr=['5.811718495565318e-05'], tr_loss: 0.27116990089416504, val_acc: 71.60%: 100%|██████████| 36/36 [00:23<00:00,  1.52it/s]  "
     ]
    },
    {
     "name": "stdout",
     "output_type": "stream",
     "text": [
      "epoch_time: 23.867775201797485 seconds\n",
      "\n",
      "\n",
      "EPOCH 170\n"
     ]
    },
    {
     "name": "stderr",
     "output_type": "stream",
     "text": [
      "\n",
      "train: 170-35/36 tr_acc: 97.50%, lr=['5.449673790581603e-05'], tr_loss: 0.13480982184410095, val_acc: 71.10%: 100%|██████████| 36/36 [00:23<00:00,  1.51it/s]  "
     ]
    },
    {
     "name": "stdout",
     "output_type": "stream",
     "text": [
      "epoch_time: 24.054519414901733 seconds\n",
      "\n",
      "\n",
      "EPOCH 171\n"
     ]
    },
    {
     "name": "stderr",
     "output_type": "stream",
     "text": [
      "\n",
      "train: 171-35/36 tr_acc: 95.00%, lr=['5.098621211969216e-05'], tr_loss: 0.18263760209083557, val_acc: 71.10%: 100%|██████████| 36/36 [00:23<00:00,  1.54it/s]   "
     ]
    },
    {
     "name": "stdout",
     "output_type": "stream",
     "text": [
      "epoch_time: 23.59398889541626 seconds\n",
      "\n",
      "\n",
      "EPOCH 172\n"
     ]
    },
    {
     "name": "stderr",
     "output_type": "stream",
     "text": [
      "\n",
      "train: 172-35/36 tr_acc: 95.00%, lr=['4.7586473766990253e-05'], tr_loss: 0.0958138257265091, val_acc: 72.20%: 100%|██████████| 36/36 [00:23<00:00,  1.54it/s]   "
     ]
    },
    {
     "name": "stdout",
     "output_type": "stream",
     "text": [
      "epoch_time: 23.65920114517212 seconds\n",
      "\n",
      "\n",
      "EPOCH 173\n"
     ]
    },
    {
     "name": "stderr",
     "output_type": "stream",
     "text": [
      "\n",
      "train: 173-35/36 tr_acc: 97.50%, lr=['4.4298361682277405e-05'], tr_loss: 0.09140046685934067, val_acc: 71.40%: 100%|██████████| 36/36 [00:23<00:00,  1.55it/s]  "
     ]
    },
    {
     "name": "stdout",
     "output_type": "stream",
     "text": [
      "epoch_time: 23.545722007751465 seconds\n",
      "\n",
      "\n",
      "EPOCH 174\n"
     ]
    },
    {
     "name": "stderr",
     "output_type": "stream",
     "text": [
      "\n",
      "train: 174-35/36 tr_acc: 97.50%, lr=['4.1122687158009486e-05'], tr_loss: 0.07531746476888657, val_acc: 71.10%: 100%|██████████| 36/36 [00:23<00:00,  1.52it/s]   "
     ]
    },
    {
     "name": "stdout",
     "output_type": "stream",
     "text": [
      "epoch_time: 23.991649389266968 seconds\n",
      "\n",
      "\n",
      "EPOCH 175\n"
     ]
    },
    {
     "name": "stderr",
     "output_type": "stream",
     "text": [
      "\n",
      "train: 175-35/36 tr_acc: 100.00%, lr=['3.8060233744356686e-05'], tr_loss: 0.026835059747099876, val_acc: 72.00%: 100%|██████████| 36/36 [00:23<00:00,  1.55it/s]"
     ]
    },
    {
     "name": "stdout",
     "output_type": "stream",
     "text": [
      "epoch_time: 23.470593690872192 seconds\n",
      "\n",
      "\n",
      "EPOCH 176\n"
     ]
    },
    {
     "name": "stderr",
     "output_type": "stream",
     "text": [
      "\n",
      "train: 176-35/36 tr_acc: 95.00%, lr=['3.511175705587427e-05'], tr_loss: 0.08193130791187286, val_acc: 72.30%: 100%|██████████| 36/36 [00:23<00:00,  1.53it/s]   "
     ]
    },
    {
     "name": "stdout",
     "output_type": "stream",
     "text": [
      "epoch_time: 23.810850620269775 seconds\n",
      "\n",
      "\n",
      "EPOCH 177\n"
     ]
    },
    {
     "name": "stderr",
     "output_type": "stream",
     "text": [
      "\n",
      "train: 177-35/36 tr_acc: 95.00%, lr=['3.2277984585066264e-05'], tr_loss: 0.18676361441612244, val_acc: 71.60%: 100%|██████████| 36/36 [00:23<00:00,  1.53it/s]  "
     ]
    },
    {
     "name": "stdout",
     "output_type": "stream",
     "text": [
      "epoch_time: 23.7719829082489 seconds\n",
      "\n",
      "\n",
      "EPOCH 178\n"
     ]
    },
    {
     "name": "stderr",
     "output_type": "stream",
     "text": [
      "\n",
      "train: 178-35/36 tr_acc: 97.50%, lr=['2.955961552288723e-05'], tr_loss: 0.07945159077644348, val_acc: 70.70%: 100%|██████████| 36/36 [00:23<00:00,  1.54it/s]   "
     ]
    },
    {
     "name": "stdout",
     "output_type": "stream",
     "text": [
      "epoch_time: 23.689542770385742 seconds\n",
      "\n",
      "\n",
      "EPOCH 179\n"
     ]
    },
    {
     "name": "stderr",
     "output_type": "stream",
     "text": [
      "\n",
      "train: 179-35/36 tr_acc: 95.00%, lr=['2.6957320586227313e-05'], tr_loss: 0.14309464395046234, val_acc: 70.20%: 100%|██████████| 36/36 [00:23<00:00,  1.54it/s]  "
     ]
    },
    {
     "name": "stdout",
     "output_type": "stream",
     "text": [
      "epoch_time: 23.693543910980225 seconds\n",
      "\n",
      "\n",
      "EPOCH 180\n"
     ]
    },
    {
     "name": "stderr",
     "output_type": "stream",
     "text": [
      "\n",
      "train: 180-35/36 tr_acc: 97.50%, lr=['2.44717418524232e-05'], tr_loss: 0.09190630912780762, val_acc: 72.20%: 100%|██████████| 36/36 [00:23<00:00,  1.55it/s]  "
     ]
    },
    {
     "name": "stdout",
     "output_type": "stream",
     "text": [
      "epoch_time: 23.505842685699463 seconds\n",
      "\n",
      "\n",
      "EPOCH 181\n"
     ]
    },
    {
     "name": "stderr",
     "output_type": "stream",
     "text": [
      "\n",
      "train: 181-35/36 tr_acc: 97.50%, lr=['2.210349260083491e-05'], tr_loss: 0.08241069316864014, val_acc: 71.00%: 100%|██████████| 36/36 [00:23<00:00,  1.55it/s]  "
     ]
    },
    {
     "name": "stdout",
     "output_type": "stream",
     "text": [
      "epoch_time: 23.45145606994629 seconds\n",
      "\n",
      "\n",
      "EPOCH 182\n"
     ]
    },
    {
     "name": "stderr",
     "output_type": "stream",
     "text": [
      "\n",
      "train: 182-35/36 tr_acc: 100.00%, lr=['1.9853157161528496e-05'], tr_loss: 0.06270486116409302, val_acc: 71.70%: 100%|██████████| 36/36 [00:23<00:00,  1.54it/s] "
     ]
    },
    {
     "name": "stdout",
     "output_type": "stream",
     "text": [
      "epoch_time: 23.682403564453125 seconds\n",
      "\n",
      "\n",
      "EPOCH 183\n"
     ]
    },
    {
     "name": "stderr",
     "output_type": "stream",
     "text": [
      "\n",
      "train: 183-35/36 tr_acc: 92.50%, lr=['1.7721290771100992e-05'], tr_loss: 0.33210280537605286, val_acc: 71.20%: 100%|██████████| 36/36 [00:23<00:00,  1.53it/s]  "
     ]
    },
    {
     "name": "stdout",
     "output_type": "stream",
     "text": [
      "epoch_time: 23.79621148109436 seconds\n",
      "\n",
      "\n",
      "EPOCH 184\n"
     ]
    },
    {
     "name": "stderr",
     "output_type": "stream",
     "text": [
      "\n",
      "train: 184-35/36 tr_acc: 92.50%, lr=['1.5708419435684497e-05'], tr_loss: 0.26123255491256714, val_acc: 71.30%: 100%|██████████| 36/36 [00:23<00:00,  1.54it/s]   "
     ]
    },
    {
     "name": "stdout",
     "output_type": "stream",
     "text": [
      "epoch_time: 23.654144287109375 seconds\n",
      "\n",
      "\n",
      "EPOCH 185\n"
     ]
    },
    {
     "name": "stderr",
     "output_type": "stream",
     "text": [
      "\n",
      "train: 185-35/36 tr_acc: 92.50%, lr=['1.3815039801161704e-05'], tr_loss: 0.1709810197353363, val_acc: 70.90%: 100%|██████████| 36/36 [00:23<00:00,  1.52it/s]   "
     ]
    },
    {
     "name": "stdout",
     "output_type": "stream",
     "text": [
      "epoch_time: 23.920242309570312 seconds\n",
      "\n",
      "\n",
      "EPOCH 186\n"
     ]
    },
    {
     "name": "stderr",
     "output_type": "stream",
     "text": [
      "\n",
      "train: 186-35/36 tr_acc: 97.50%, lr=['1.2041619030626323e-05'], tr_loss: 0.11105920374393463, val_acc: 70.30%: 100%|██████████| 36/36 [00:23<00:00,  1.52it/s]  "
     ]
    },
    {
     "name": "stdout",
     "output_type": "stream",
     "text": [
      "epoch_time: 23.91464114189148 seconds\n",
      "\n",
      "\n",
      "EPOCH 187\n"
     ]
    },
    {
     "name": "stderr",
     "output_type": "stream",
     "text": [
      "\n",
      "train: 187-35/36 tr_acc: 95.00%, lr=['1.0388594689117057e-05'], tr_loss: 0.08538447320461273, val_acc: 72.20%: 100%|██████████| 36/36 [00:23<00:00,  1.55it/s]   "
     ]
    },
    {
     "name": "stdout",
     "output_type": "stream",
     "text": [
      "epoch_time: 23.482665538787842 seconds\n",
      "\n",
      "\n",
      "EPOCH 188\n"
     ]
    },
    {
     "name": "stderr",
     "output_type": "stream",
     "text": [
      "\n",
      "train: 188-35/36 tr_acc: 100.00%, lr=['8.856374635655629e-06'], tr_loss: 0.024482056498527527, val_acc: 71.60%: 100%|██████████| 36/36 [00:23<00:00,  1.56it/s]"
     ]
    },
    {
     "name": "stdout",
     "output_type": "stream",
     "text": [
      "epoch_time: 23.384615421295166 seconds\n",
      "\n",
      "\n",
      "EPOCH 189\n"
     ]
    },
    {
     "name": "stderr",
     "output_type": "stream",
     "text": [
      "\n",
      "train: 189-35/36 tr_acc: 92.50%, lr=['7.445336922613057e-06'], tr_loss: 0.14798475801944733, val_acc: 71.40%: 100%|██████████| 36/36 [00:23<00:00,  1.53it/s]   "
     ]
    },
    {
     "name": "stdout",
     "output_type": "stream",
     "text": [
      "epoch_time: 23.722812175750732 seconds\n",
      "\n",
      "\n",
      "EPOCH 190\n"
     ]
    },
    {
     "name": "stderr",
     "output_type": "stream",
     "text": [
      "\n",
      "train: 190-35/36 tr_acc: 100.00%, lr=['6.155829702431163e-06'], tr_loss: 0.043606359511613846, val_acc: 71.50%: 100%|██████████| 36/36 [00:23<00:00,  1.55it/s]"
     ]
    },
    {
     "name": "stdout",
     "output_type": "stream",
     "text": [
      "epoch_time: 23.456031322479248 seconds\n",
      "\n",
      "\n",
      "EPOCH 191\n"
     ]
    },
    {
     "name": "stderr",
     "output_type": "stream",
     "text": [
      "\n",
      "train: 191-35/36 tr_acc: 97.50%, lr=['4.988171141721226e-06'], tr_loss: 0.06822441518306732, val_acc: 71.40%: 100%|██████████| 36/36 [00:23<00:00,  1.53it/s]  \n"
     ]
    },
    {
     "name": "stdout",
     "output_type": "stream",
     "text": [
      "epoch_time: 23.754488229751587 seconds\n",
      "\n",
      "\n",
      "EPOCH 192\n"
     ]
    },
    {
     "name": "stderr",
     "output_type": "stream",
     "text": [
      "train: 192-35/36 tr_acc: 100.00%, lr=['3.942649342761113e-06'], tr_loss: 0.0041862474754452705, val_acc: 71.70%: 100%|██████████| 36/36 [00:23<00:00,  1.52it/s]"
     ]
    },
    {
     "name": "stdout",
     "output_type": "stream",
     "text": [
      "epoch_time: 23.868616819381714 seconds\n",
      "\n",
      "\n",
      "EPOCH 193\n"
     ]
    },
    {
     "name": "stderr",
     "output_type": "stream",
     "text": [
      "\n",
      "train: 193-35/36 tr_acc: 95.00%, lr=['3.0195222724101985e-06'], tr_loss: 0.11253274977207184, val_acc: 71.40%: 100%|██████████| 36/36 [00:23<00:00,  1.54it/s]  "
     ]
    },
    {
     "name": "stdout",
     "output_type": "stream",
     "text": [
      "epoch_time: 23.64594316482544 seconds\n",
      "\n",
      "\n",
      "EPOCH 194\n"
     ]
    },
    {
     "name": "stderr",
     "output_type": "stream",
     "text": [
      "\n",
      "train: 194-35/36 tr_acc: 100.00%, lr=['2.219017698459999e-06'], tr_loss: 0.04353133589029312, val_acc: 71.50%: 100%|██████████| 36/36 [00:23<00:00,  1.52it/s]  "
     ]
    },
    {
     "name": "stdout",
     "output_type": "stream",
     "text": [
      "epoch_time: 23.940874338150024 seconds\n",
      "\n",
      "\n",
      "EPOCH 195\n"
     ]
    },
    {
     "name": "stderr",
     "output_type": "stream",
     "text": [
      "\n",
      "train: 195-35/36 tr_acc: 100.00%, lr=['1.5413331334360161e-06'], tr_loss: 0.04418369382619858, val_acc: 71.00%: 100%|██████████| 36/36 [00:23<00:00,  1.54it/s] "
     ]
    },
    {
     "name": "stdout",
     "output_type": "stream",
     "text": [
      "epoch_time: 23.612211227416992 seconds\n",
      "\n",
      "\n",
      "EPOCH 196\n"
     ]
    },
    {
     "name": "stderr",
     "output_type": "stream",
     "text": [
      "\n",
      "train: 196-35/36 tr_acc: 100.00%, lr=['9.866357858642194e-07'], tr_loss: 0.01979367434978485, val_acc: 71.40%: 100%|██████████| 36/36 [00:23<00:00,  1.55it/s]  "
     ]
    },
    {
     "name": "stdout",
     "output_type": "stream",
     "text": [
      "epoch_time: 23.406704902648926 seconds\n",
      "\n",
      "\n",
      "EPOCH 197\n"
     ]
    },
    {
     "name": "stderr",
     "output_type": "stream",
     "text": [
      "\n",
      "train: 197-35/36 tr_acc: 97.50%, lr=['5.550625190150475e-07'], tr_loss: 0.07051360607147217, val_acc: 72.30%: 100%|██████████| 36/36 [00:23<00:00,  1.54it/s]   "
     ]
    },
    {
     "name": "stdout",
     "output_type": "stream",
     "text": [
      "epoch_time: 23.60966420173645 seconds\n",
      "\n",
      "\n",
      "EPOCH 198\n"
     ]
    },
    {
     "name": "stderr",
     "output_type": "stream",
     "text": [
      "\n",
      "train: 198-35/36 tr_acc: 97.50%, lr=['2.4671981713419966e-07'], tr_loss: 0.09880169481039047, val_acc: 71.50%: 100%|██████████| 36/36 [00:23<00:00,  1.52it/s]   "
     ]
    },
    {
     "name": "stdout",
     "output_type": "stream",
     "text": [
      "epoch_time: 23.860377311706543 seconds\n",
      "\n",
      "\n",
      "EPOCH 199\n"
     ]
    },
    {
     "name": "stderr",
     "output_type": "stream",
     "text": [
      "\n",
      "train: 199-35/36 tr_acc: 97.50%, lr=['6.168375916970607e-08'], tr_loss: 0.10167534649372101, val_acc: 71.50%: 100%|██████████| 36/36 [00:23<00:00,  1.53it/s]  "
     ]
    },
    {
     "name": "stdout",
     "output_type": "stream",
     "text": [
      "epoch_time: 23.81451654434204 seconds\n",
      "\n",
      "\n"
     ]
    },
    {
     "name": "stderr",
     "output_type": "stream",
     "text": [
      "\n"
     ]
    }
   ],
   "source": [
    "### my_snn control board ########################\n",
    "decay = 0.25 # 0.875 0.25 0.125 0.75 0.5\n",
    "# nda 0.25 # ottt 0.5\n",
    "\n",
    "my_snn_system(  devices = \"0,1,2,3,4,5\",\n",
    "                my_seed = 42,\n",
    "                TIME = 10, # dvscifar 10 # ottt 6 or 10 # nda 10\n",
    "                BATCH = 256, # batch norm 할거면 2이상으로 해야함   # nda 256   #  ottt 128\n",
    "                IMAGE_SIZE = 48, # dvscifar 48 # MNIST 28 # CIFAR10 32 # PMNIST 28\n",
    "                #pmnist는 28로 해야 됨. 나머지는 바꿔도 돌아는 감.\n",
    "\n",
    "                # DVS_CIFAR10 할거면 time 10으로 해라\n",
    "                which_data = 'DVS_CIFAR10',# 'CIFAR100' 'CIFAR10' 'MNIST' 'FASHION_MNIST' 'DVS_CIFAR10' 'PMNIST'\n",
    "                # CLASS_NUM = 10,\n",
    "                data_path = '/data2', # YOU NEED TO CHANGE THIS\n",
    "                rate_coding = True, # True # False\n",
    "\n",
    "                lif_layer_v_init = 0.0,\n",
    "                lif_layer_v_decay = decay,\n",
    "                lif_layer_v_threshold = 0.5,  # 10000이상으로 하면 NDA LIF 씀. #nda 0.5  #ottt 1.0\n",
    "                lif_layer_v_reset = 10000, # 10000이상은 hardreset (내 LIF쓰기는 함 ㅇㅇ)\n",
    "                lif_layer_sg_width = 1.0, # # surrogate sigmoid 쓸 때는 의미없음\n",
    "\n",
    "                # synapse_conv_in_channels = IMAGE_PIXEL_CHANNEL,\n",
    "                synapse_conv_kernel_size = 3,\n",
    "                synapse_conv_stride = 1,\n",
    "                synapse_conv_padding = 1,\n",
    "                synapse_conv_trace_const1 = 1,\n",
    "                synapse_conv_trace_const2 = decay, # lif_layer_v_decay\n",
    "\n",
    "                # synapse_fc_out_features = CLASS_NUM,\n",
    "                synapse_fc_trace_const1 = 1,\n",
    "                synapse_fc_trace_const2 = decay, # lif_layer_v_decay\n",
    "\n",
    "                pre_trained = False, # True # False\n",
    "                convTrue_fcFalse = True, # True # False\n",
    "\n",
    "                # 'P' for average pooling, 'D' for (1,1) aver pooling, 'M' for maxpooling, 'L' for linear classifier, [  ] for residual block\n",
    "                # 10000 이상은 separable, 20000이상은 depthwise\n",
    "                # cfg = [64],\n",
    "                # cfg = [64,[64,64],64], # 끝에 linear classifier 하나 자동으로 붙습니다\n",
    "                # cfg = [64, 128, 'P', 256, 256, 'P', 512, 512, 'P', 512, 512], \n",
    "                # cfg = [64, 128, 'M', 256, 256, 'M', 512, 512, 'M', 512, 512], # ottt \n",
    "                cfg = [64, 'P', 128, 'P', 256, 256, 'P', 512, 512, 512, 512, 'D'], # nda\n",
    "                # cfg = [64, 'P', 128, 'P', 256, 256, 'P', 512, 512, 512, 512, 'L', 4096, 4096],\n",
    "                # cfg = [20001,10001], # depthwise, separable\n",
    "                # cfg = [64,20064,10001], # vanilla conv, depthwise, separable\n",
    "                # cfg = [64], \n",
    "                \n",
    "                net_print = True, # True # False\n",
    "                weight_count_print = False, # True # False\n",
    "                pre_trained_path = \"net_save/save_now_net.pth\",\n",
    "                learning_rate = 0.001, # default 0.001  # ottt 0.1  # nda 0.001\n",
    "                epoch_num = 200,\n",
    "                verbose_interval = 999999999, #숫자 크게 하면 꺼짐\n",
    "                validation_interval = 999999999, #숫자 크게 하면 에포크 마지막 iter 때 val 함\n",
    "                tdBN_on = True,  # True # False\n",
    "                BN_on = False,  # True # False\n",
    "                \n",
    "                surrogate = 'rough_rectangle', # 'rectangle' 'sigmoid' 'rough_rectangle'\n",
    "                \n",
    "                gradient_verbose = False,  # True # False  # weight gradient 각 layer마다 띄워줌\n",
    "\n",
    "                BPTT_on = True,  # True # False # True이면 BPTT, False이면 OTTT  # depthwise, separable은 BPTT만 가능\n",
    "                optimizer_what = 'Adam', # 'SGD' 'Adam', 'RMSprop'\n",
    "                scheduler_name = 'CosineAnnealingLR', # 'no' 'StepLR' 'ExponentialLR' 'ReduceLROnPlateau' 'CosineAnnealingLR' 'OneCycleLR'\n",
    "                \n",
    "                ddp_on = False,   # True # False\n",
    "\n",
    "                nda_net = False,   # True # False\n",
    "\n",
    "                domain_il_epoch = 0, # over 0, then domain il mode on\n",
    "                ) \n",
    "# sigmoid와 BN이 있어야 잘된다.\n",
    "# average pooling이 낫다.\n",
    "\n",
    "# nda에서는 decay = 0.25, threshold = 0.5, width =1, surrogate = rectangle, batch = 256, tdBN = True\n",
    "## OTTT 에서는 decay = 0.5, threshold = 1.0, surrogate = sigmoid, batch = 128, BN = True\n"
   ]
  },
  {
   "cell_type": "code",
   "execution_count": 6,
   "metadata": {},
   "outputs": [
    {
     "data": {
      "image/png": "[encoded data removed]",
      "text/plain": [
       "<Figure size 1000x500 with 1 Axes>"
      ]
     },
     "metadata": {},
     "output_type": "display_data"
    }
   ],
   "source": [
    "import numpy as np\n",
    "import matplotlib.pyplot as plt\n",
    "\n",
    "def pad_array_to_match_length(array1, array2):\n",
    "    if len(array1) > len(array2):\n",
    "        padded_array2 = np.pad(array2, (0, len(array1) - len(array2)), 'constant')\n",
    "        return array1, padded_array2\n",
    "    elif len(array2) > len(array1):\n",
    "        padded_array1 = np.pad(array1, (0, len(array2) - len(array1)), 'constant')\n",
    "        return padded_array1, array2\n",
    "    else:\n",
    "        return array1, array2\n",
    "def load_hyperparameters(filename='hyperparameters.json'):\n",
    "    with open(filename, 'r') as f:\n",
    "        return json.load(f)\n",
    "    \n",
    "\n",
    "\n",
    "\n",
    "\n",
    "current_time = '20240628_110116'\n",
    "base_name = f'{current_time}'\n",
    "iter_acc_file_name = f'result_save/{base_name}_iter_acc_array.npy'\n",
    "val_acc_file_name = f'result_save/{base_name}_val_acc_now_array.npy'\n",
    "hyperparameters_file_name = f'result_save/{base_name}_hyperparameters.json'\n",
    "\n",
    "### if you want to just see most recent train and val acc###########################\n",
    "iter_acc_file_name = 'result_save/iter_acc_array.npy'\n",
    "tr_acc_file_name = 'result_save/tr_acc_array.npy'\n",
    "val_acc_file_name = 'result_save/val_acc_now_array.npy'\n",
    "hyperparameters_file_name = 'result_save/hyperparameters.json'\n",
    "\n",
    "loaded_iter_acc_array = np.load(iter_acc_file_name)*100\n",
    "loaded_tr_acc_array = np.load(tr_acc_file_name)*100\n",
    "loaded_val_acc_array = np.load(val_acc_file_name)*100\n",
    "hyperparameters = load_hyperparameters(hyperparameters_file_name)\n",
    "\n",
    "loaded_iter_acc_array, loaded_val_acc_array = pad_array_to_match_length(loaded_iter_acc_array, loaded_val_acc_array)\n",
    "loaded_iter_acc_array, loaded_tr_acc_array = pad_array_to_match_length(loaded_iter_acc_array, loaded_tr_acc_array)\n",
    "loaded_val_acc_array, loaded_tr_acc_array = pad_array_to_match_length(loaded_val_acc_array, loaded_tr_acc_array)\n",
    "\n",
    "top_iter_acc = np.max(loaded_iter_acc_array)\n",
    "top_tr_acc = np.max(loaded_tr_acc_array)\n",
    "top_val_acc = np.max(loaded_val_acc_array)\n",
    "\n",
    "which_data = hyperparameters['which_data']\n",
    "BPTT_on = hyperparameters['BPTT_on']\n",
    "current_epoch = hyperparameters['current epoch']\n",
    "surrogate = hyperparameters['surrogate']\n",
    "cfg = hyperparameters['cfg']\n",
    "tdBN_on = hyperparameters['tdBN_on']\n",
    "BN_on = hyperparameters['BN_on']\n",
    "\n",
    "\n",
    "iterations = np.arange(len(loaded_iter_acc_array))\n",
    "\n",
    "# 그래프 그리기\n",
    "plt.figure(figsize=(10, 5))\n",
    "plt.plot(iterations, loaded_iter_acc_array, label='Iter Accuracy', color='g', alpha=0.2)\n",
    "plt.plot(iterations, loaded_tr_acc_array, label='Training Accuracy', color='b')\n",
    "plt.plot(iterations, loaded_val_acc_array, label='Validation Accuracy', color='r')\n",
    "\n",
    "# # 텍스트 추가\n",
    "# plt.text(0.05, 0.95, f'Top Training Accuracy: {100*top_iter_acc:.2f}%', transform=plt.gca().transAxes, fontsize=12, verticalalignment='top', horizontalalignment='left', color='blue')\n",
    "# plt.text(0.05, 0.90, f'Top Validation Accuracy: {100*top_val_acc:.2f}%', transform=plt.gca().transAxes, fontsize=12, verticalalignment='top', horizontalalignment='left', color='red')\n",
    "# 텍스트 추가\n",
    "plt.text(0.5, 0.10, f'Top Training Accuracy: {top_tr_acc:.2f}%', transform=plt.gca().transAxes, fontsize=12, verticalalignment='top', horizontalalignment='center', color='blue')\n",
    "plt.text(0.5, 0.05, f'Top Validation Accuracy: {top_val_acc:.2f}%', transform=plt.gca().transAxes, fontsize=12, verticalalignment='top', horizontalalignment='center', color='red')\n",
    "\n",
    "plt.xlabel('Iterations')\n",
    "plt.ylabel('Accuracy [%]')\n",
    "\n",
    "# 그래프 제목에 하이퍼파라미터 정보 추가\n",
    "title = f'Training and Validation Accuracy over Iterations\\n\\nData: {which_data}, BPTT: {\"On\" if BPTT_on else \"Off\"}, Current Epoch: {current_epoch}, Surrogate: {surrogate},\\nCFG: {cfg}, tdBN: {\"On\" if tdBN_on else \"Off\"}, BN: {\"On\" if BN_on else \"Off\"}'\n",
    "\n",
    "plt.title(title)\n",
    "\n",
    "plt.legend(loc='lower right')\n",
    "plt.xlim(0)  # x축을 0부터 시작\n",
    "plt.grid(True)\n",
    "plt.show()"
   ]
  }
 ],
 "metadata": {
  "kernelspec": {
   "display_name": "nfs",
   "language": "python",
   "name": "python3"
  },
  "language_info": {
   "codemirror_mode": {
    "name": "ipython",
    "version": 3
   },
   "file_extension": ".py",
   "mimetype": "text/x-python",
   "name": "python",
   "nbconvert_exporter": "python",
   "pygments_lexer": "ipython3",
   "version": "3.8.18"
  }
 },
 "nbformat": 4,
 "nbformat_minor": 2
}
