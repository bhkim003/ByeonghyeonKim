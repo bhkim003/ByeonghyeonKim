{
 "cells": [
  {
   "cell_type": "code",
   "execution_count": 1,
   "metadata": {},
   "outputs": [
    {
     "name": "stderr",
     "output_type": "stream",
     "text": [
      "/tmp/ipykernel_10243/1506272096.py:46: DeprecationWarning: The module snntorch.spikevision is deprecated. For loading neuromorphic datasets, we recommend using the Tonic project: https://github.com/neuromorphs/tonic\n",
      "  from snntorch.spikevision import spikedata\n"
     ]
    },
    {
     "data": {
      "image/png": "[encoded data removed]",
      "text/plain": [
       "<Figure size 800x600 with 2 Axes>"
      ]
     },
     "metadata": {},
     "output_type": "display_data"
    }
   ],
   "source": [
    "import sys\n",
    "import os\n",
    "import argparse\n",
    "import torch\n",
    "import torch.nn as nn \n",
    "import torch.nn.functional as F\n",
    "import torch.backends.cudnn as cudnn\n",
    "import torch.optim as optim\n",
    "import torch.optim.lr_scheduler as lr_scheduler\n",
    "from torch.utils.data import Dataset, DataLoader\n",
    "\n",
    "import torchvision\n",
    "import torchvision.datasets\n",
    "import torchvision.transforms as transforms\n",
    "\n",
    "import numpy as np\n",
    "import matplotlib.pyplot as plt\n",
    "\n",
    "import time\n",
    "\n",
    "from snntorch import spikegen\n",
    "import matplotlib.pyplot as plt\n",
    "import snntorch.spikeplot as splt\n",
    "from IPython.display import HTML\n",
    "\n",
    "from tqdm import tqdm\n",
    "\n",
    "from apex.parallel import DistributedDataParallel as DDP\n",
    "\n",
    "import random\n",
    "import datetime\n",
    "\n",
    "import json\n",
    "\n",
    "from sklearn.utils import shuffle\n",
    "\n",
    "''' 레퍼런스\n",
    "https://spikingjelly.readthedocs.io/zh-cn/0.0.0.0.4/spikingjelly.datasets.html#module-spikingjelly.datasets\n",
    "https://github.com/GorkaAbad/Sneaky-Spikes/blob/main/datasets.py\n",
    "https://github.com/GorkaAbad/Sneaky-Spikes/blob/main/how_to.md\n",
    "https://github.com/nmi-lab/torchneuromorphic\n",
    "https://snntorch.readthedocs.io/en/latest/snntorch.spikevision.spikedata.html#shd\n",
    "'''\n",
    "\n",
    "import snntorch\n",
    "from snntorch.spikevision import spikedata\n",
    "\n",
    "import modules.spikingjelly;\n",
    "from modules.spikingjelly.datasets.dvs128_gesture import DVS128Gesture\n",
    "from modules.spikingjelly.datasets.cifar10_dvs import CIFAR10DVS\n",
    "from modules.spikingjelly.datasets.n_mnist import NMNIST\n",
    "# from modules.spikingjelly.datasets.es_imagenet import ESImageNet\n",
    "from modules.spikingjelly.datasets import split_to_train_test_set\n",
    "from modules.spikingjelly.datasets.n_caltech101 import NCaltech101\n",
    "from modules.spikingjelly.datasets import pad_sequence_collate, padded_sequence_mask\n",
    "\n",
    "import modules.torchneuromorphic as torchneuromorphic\n",
    "\n",
    "import wandb\n",
    "\n",
    "from torchviz import make_dot\n",
    "import graphviz\n",
    "from turtle import shape\n"
   ]
  },
  {
   "cell_type": "code",
   "execution_count": 2,
   "metadata": {},
   "outputs": [],
   "source": [
    "import apex"
   ]
  },
  {
   "cell_type": "code",
   "execution_count": 3,
   "metadata": {},
   "outputs": [],
   "source": [
    "# my module import\n",
    "from modules import *\n",
    "\n",
    "# modules 폴더에 새모듈.py 만들면\n",
    "# modules/__init__py 파일에 form .새모듈 import * 하셈\n",
    "# 그리고 새모듈.py에서 from modules.새모듈 import * 하셈\n"
   ]
  },
  {
   "cell_type": "code",
   "execution_count": 4,
   "metadata": {},
   "outputs": [],
   "source": [
    "\n",
    "\n",
    "def my_snn_system(devices = \"0,1,2,3\",\n",
    "                    single_step = False, # True # False\n",
    "                    unique_name = 'main',\n",
    "                    my_seed = 42,\n",
    "                    TIME = 10,\n",
    "                    BATCH = 256,\n",
    "                    IMAGE_SIZE = 32,\n",
    "                    which_data = 'CIFAR10',\n",
    "                    # CLASS_NUM = 10,\n",
    "                    data_path = '/data2',\n",
    "                    rate_coding = True,\n",
    "    \n",
    "                    lif_layer_v_init = 0.0,\n",
    "                    lif_layer_v_decay = 0.6,\n",
    "                    lif_layer_v_threshold = 1.2,\n",
    "                    lif_layer_v_reset = 0.0,\n",
    "                    lif_layer_sg_width = 1,\n",
    "\n",
    "                    # synapse_conv_in_channels = IMAGE_PIXEL_CHANNEL,\n",
    "                    synapse_conv_kernel_size = 3,\n",
    "                    synapse_conv_stride = 1,\n",
    "                    synapse_conv_padding = 1,\n",
    "                    synapse_conv_trace_const1 = 1,\n",
    "                    synapse_conv_trace_const2 = 0.6,\n",
    "\n",
    "                    # synapse_fc_out_features = CLASS_NUM,\n",
    "                    synapse_fc_trace_const1 = 1,\n",
    "                    synapse_fc_trace_const2 = 0.6,\n",
    "\n",
    "                    pre_trained = False,\n",
    "                    convTrue_fcFalse = True,\n",
    "                    cfg = [64, 64],\n",
    "                    net_print = False, # True # False\n",
    "                    weight_count_print = False, # True # False\n",
    "                    pre_trained_path = \"net_save/save_now_net.pth\",\n",
    "                    learning_rate = 0.0001,\n",
    "                    epoch_num = 200,\n",
    "                    verbose_interval = 100, #숫자 크게 하면 꺼짐\n",
    "                    validation_interval = 10, #숫자 크게 하면 꺼짐\n",
    "                    tdBN_on = False,\n",
    "                    BN_on = False,\n",
    "\n",
    "                    surrogate = 'sigmoid',\n",
    "\n",
    "                    gradient_verbose = False,\n",
    "\n",
    "                    BPTT_on = False,\n",
    "\n",
    "                    optimizer_what = 'SGD', # 'SGD' 'Adam', 'RMSprop'\n",
    "                    scheduler_name = 'no',\n",
    "                    \n",
    "                    ddp_on = True,\n",
    "\n",
    "                    nda_net = False,\n",
    "                    \n",
    "                    domain_il_epoch = 0, # over 0, then domain il mode on\n",
    "\n",
    "                    dvs_clipping = 1, \n",
    "                    dvs_duration = 25_000,\n",
    "\n",
    "                    OTTT_sWS_on = True, # True # False\n",
    "\n",
    "                    DFA_on = False, # True # False\n",
    "                    OTTT_input_trace_on = False, # True # False\n",
    "                    \n",
    "                    e_transport_swap = 5, # 1 이상이면 해당 숫자 에포크만큼 val_acc_best가 변화가 없으면 e_transport scheme (BP vs DFA) swap\n",
    "                    e_transport_swap_tr = 0, # 1 이상이면 해당 숫자 에포크만큼 val_acc_best가 변화가 없으면 e_transport scheme (BP vs DFA) swap\n",
    "                    e_transport_swap_coin = 0, # swap할 수 있는 coin 개수\n",
    "\n",
    "                    drop_rate = 0.5, \n",
    "\n",
    "                    exclude_class = True, # True # False # gesture에서 10번째 클래스 제외\n",
    "\n",
    "                    merge_polarities = True, # True # False # tonic dvs dataset 에서 polarities 합치기\n",
    "                    denoise_on = True, \n",
    "                    dvs_relative_timestep = True, \n",
    "                    \n",
    "                    I_wanna_sweep_at_this_epoch = -1,\n",
    "                    dvs_duration_domain = [(25_000,1,False)],\n",
    "\n",
    "                    extra_train_dataset = 0,\n",
    "\n",
    "                    num_workers = 2,\n",
    "                    chaching_on = False,\n",
    "                    pin_memory = True, # True # False\n",
    "                    \n",
    "                    UDA_on = False, # True # False\n",
    "                    UDA_data = (25_000,1,False), # (duration, clipping, denoise_on)\n",
    "                    src_trg_ratio = 1,\n",
    "                    adapter_loss_weight = 1.0, # 1.0  # adapter loss의 힘.\n",
    "                    alpha_uda = 1.0,\n",
    "                    UDA_start_epoch = 0, # UDA를 시작하는 에포크  (참고로 0 epoch부터 있다.)\n",
    "\n",
    "                    temporal_filter = 1, \n",
    "                    initial_pooling = 1,\n",
    "                    ):\n",
    "    ## hyperparameter check #############################################################\n",
    "    if OTTT_sWS_on == True:\n",
    "        assert BPTT_on == False and tdBN_on == False and BN_on == False\n",
    "        if convTrue_fcFalse == False:\n",
    "            assert single_step == True\n",
    "    if single_step == True:\n",
    "        assert BPTT_on == False and tdBN_on == False \n",
    "    if tdBN_on == True:\n",
    "        assert BPTT_on == True\n",
    "    if pre_trained == True:\n",
    "        print('\\n\\n')\n",
    "        print(\"Caution! pre_trained is True\\n\\n\"*3)    \n",
    "    if DFA_on == True:\n",
    "        assert single_step == True and BPTT_on == False and any(isinstance(item, list) for item in cfg) == False\n",
    "    if OTTT_input_trace_on == True:\n",
    "        assert BPTT_on == False and single_step == True\n",
    "    if UDA_on == True:\n",
    "        assert single_step == True and BPTT_on == False and I_wanna_sweep_at_this_epoch == -1 and (e_transport_swap_coin == 0 or (e_transport_swap == 0 and e_transport_swap_tr == 0)) and isinstance(cfg, tuple) == True and extra_train_dataset == 0\n",
    "    if temporal_filter > 1:\n",
    "        assert convTrue_fcFalse == False\n",
    "    if initial_pooling > 1:\n",
    "        pass\n",
    "    if extra_train_dataset > 0:\n",
    "        assert which_data != 'NMNIST_TONIC'\n",
    "    ######################################################################################\n",
    "\n",
    "\n",
    "    ## 함수 내 모든 로컬 변수 저장 ########################################################\n",
    "    hyperparameters = locals()\n",
    "    hyperparameters['current epoch'] = 0\n",
    "    ######################################################################################\n",
    "    \n",
    "    args_gpu = None\n",
    "    ## DDP settting ######################################################################\n",
    "    if (ddp_on == True):\n",
    "        parser = argparse.ArgumentParser(description='my_snn CIFAR10 Training')\n",
    "\n",
    "        # # local_rank는 command line에서 따로 줄 필요는 없지만, 선언은 필요\n",
    "        parser.add_argument(\"--local_rank\", default=0, type=int)\n",
    "\n",
    "        args = parser.parse_args() # 이거 적어줘야됨. parser argument선언하고\n",
    "\n",
    "        args.gpu = args.local_rank\n",
    "        args_gpu = args.gpu\n",
    "        torch.cuda.set_device(args.gpu)\n",
    "        torch.distributed.init_process_group(backend=\"nccl\", init_method=\"env://\")\n",
    "        args.world_size = torch.distributed.get_world_size()\n",
    "    #######################################################################################\n",
    "\n",
    "\n",
    "    ## wandb 세팅 ###################################################################\n",
    "    current_time = datetime.datetime.now().strftime(\"%Y%m%d_%H%M%S\")\n",
    "    if (ddp_on == True and torch.distributed.get_rank() != 0):\n",
    "        wandb.finish()\n",
    "    if (ddp_on == False or torch.distributed.get_rank() == 0):\n",
    "        wandb.config.update(hyperparameters)\n",
    "        wandb.run.name = f'lr_{learning_rate}_{unique_name}_{which_data}_tstep{TIME}'\n",
    "        wandb.define_metric(\"summary_val_acc\", summary=\"max\")\n",
    "        wandb.run.log_code(\".\", \n",
    "                            include_fn=lambda path: path.endswith(\".py\") or path.endswith(\".ipynb\"),\n",
    "                            exclude_fn=lambda path: 'logs/' in path or 'net_save/' in path or 'result_save/' in path or 'trying/' in path or 'wandb/' in path or 'private/' in path or '.git/' in path or 'tonic' in path or 'torchneuromorphic' in path or 'spikingjelly' in path \n",
    "                            )\n",
    "    ###################################################################################\n",
    "\n",
    "\n",
    "\n",
    "    ## gpu setting ##################################################################################################################\n",
    "    os.environ[\"CUDA_DEVICE_ORDER\"]=\"PCI_BUS_ID\" \n",
    "    os.environ[\"CUDA_VISIBLE_DEVICES\"]= devices\n",
    "    ###################################################################################################################################\n",
    "\n",
    "\n",
    "    ## seed setting ##################################################################################################################\n",
    "    seed_assign(my_seed)\n",
    "    ###################################################################################################################################\n",
    "    \n",
    "\n",
    "    ## data_loader 가져오기 ##################################################################################################################\n",
    "    # data loader, pixel channel, class num\n",
    "    train_data_split_indices = []\n",
    "    train_loader, test_loader, synapse_conv_in_channels, CLASS_NUM, train_data_count = data_loader(\n",
    "            which_data,\n",
    "            data_path, \n",
    "            rate_coding, \n",
    "            BATCH, \n",
    "            IMAGE_SIZE,\n",
    "            ddp_on,\n",
    "            TIME*temporal_filter, # temporal_filter가 곱해짐.\n",
    "            dvs_clipping,\n",
    "            dvs_duration,\n",
    "            exclude_class,\n",
    "            merge_polarities,\n",
    "            denoise_on,\n",
    "            my_seed,\n",
    "            extra_train_dataset,\n",
    "            num_workers,\n",
    "            chaching_on,\n",
    "            pin_memory,\n",
    "            train_data_split_indices,) \n",
    "    test_loader_domain_set = []\n",
    "    test_loader_domain_set.append(test_loader)  \n",
    "    synapse_fc_out_features = CLASS_NUM\n",
    "    if UDA_on == True:\n",
    "        train_loader = None\n",
    "\n",
    "        # pin_memory_breaker = torch.arange(0, 1) #이거 주석 하면 느리고, 이거 주석 안 하면 빠름. NN결과는 같음. 뭐가 문제야..? 아마 torch를 건드리면서 pin_memory에 문제를 일으키는 거 같기는 하다. 이걸 주석 해제하거나, pin_memory를 False로 하는 거나 속도와 cpu 점유가 비슷하다.\n",
    "        indices= list(range(train_data_count))\n",
    "        random.shuffle(indices)\n",
    "        train_data_split_indices_source = indices[:math.ceil(train_data_count * (src_trg_ratio / (src_trg_ratio + 1)))]\n",
    "        train_data_split_indices_target = indices[math.ceil(train_data_count * (src_trg_ratio / (src_trg_ratio + 1))):]\n",
    "        train_loader, _, synapse_conv_in_channels, CLASS_NUM, train_data_count_src = data_loader(\n",
    "                which_data,\n",
    "                data_path, \n",
    "                rate_coding, \n",
    "                BATCH, \n",
    "                IMAGE_SIZE,\n",
    "                ddp_on,\n",
    "                TIME*temporal_filter, # temporal_filter가 곱해짐.\n",
    "                dvs_clipping,\n",
    "                dvs_duration,\n",
    "                exclude_class,\n",
    "                merge_polarities,\n",
    "                denoise_on,\n",
    "                my_seed,\n",
    "                extra_train_dataset,\n",
    "                num_workers,\n",
    "                chaching_on,\n",
    "                pin_memory,\n",
    "                train_data_split_indices_source,\n",
    "                )\n",
    "        \n",
    "        train_loader_target, _, synapse_conv_in_channels, CLASS_NUM, train_data_count_trg = data_loader(\n",
    "                which_data,\n",
    "                data_path, \n",
    "                rate_coding, \n",
    "                BATCH, \n",
    "                IMAGE_SIZE,\n",
    "                ddp_on,\n",
    "                TIME*temporal_filter,\n",
    "                UDA_data[1],  # dvs_clipping,\n",
    "                UDA_data[0],   # dvs_duration,\n",
    "                exclude_class,\n",
    "                merge_polarities,\n",
    "                UDA_data[2], # denoise_on,\n",
    "                my_seed,\n",
    "                extra_train_dataset,\n",
    "                num_workers,\n",
    "                chaching_on,\n",
    "                pin_memory,\n",
    "                train_data_split_indices_target,\n",
    "                )\n",
    "        print('\\n','src img count',train_data_count_src,'trg img count',train_data_count_trg,'\\n')\n",
    "    ###########################################################################################################################################\n",
    "    \n",
    "    ## 다른 dvs duration domain을 validation set으로 불러오기 ##############################################################\n",
    "    dvs_duration_domain_temp = []\n",
    "    train_data_split_indices = []\n",
    "    if len(dvs_duration_domain) > 0:\n",
    "        for domain in dvs_duration_domain:\n",
    "            target_domain_timestep = (dvs_duration*TIME)//domain[0] if dvs_relative_timestep == True else TIME\n",
    "            dvs_duration_domain_temp.append(domain + (target_domain_timestep,))\n",
    "            train_loader_domain, test_loader_domain, synapse_conv_in_channels_domain, CLASS_NUM_domain, train_data_count = data_loader(\n",
    "                    which_data,\n",
    "                    data_path, \n",
    "                    rate_coding, \n",
    "                    BATCH, \n",
    "                    IMAGE_SIZE,\n",
    "                    ddp_on,\n",
    "                    target_domain_timestep*temporal_filter,\n",
    "                    domain[1], # dvs_clipping\n",
    "                    domain[0], # dvs_duration\n",
    "                    exclude_class,\n",
    "                    merge_polarities,\n",
    "                    domain[2], # denoise_on \n",
    "                    my_seed,\n",
    "                    extra_train_dataset,\n",
    "                    num_workers,\n",
    "                    chaching_on,\n",
    "                    pin_memory,\n",
    "                    train_data_split_indices,)\n",
    "            test_loader_domain_set.append(test_loader_domain)\n",
    "        dvs_duration_domain = dvs_duration_domain_temp\n",
    "    ######################################################################################################################\n",
    "    \n",
    "    ## parameter number calculator (안 중요함) ##################################################################################################################\n",
    "    params_num = 0\n",
    "    img_size = IMAGE_SIZE//initial_pooling\n",
    "    bias_param = 1 # 1 or 0\n",
    "    classifier_making = False\n",
    "    if (UDA_on == True):\n",
    "        print(\"In UDA mode, No parameter number calculation yet.\")\n",
    "        pass\n",
    "    else: \n",
    "        if (convTrue_fcFalse == True):\n",
    "            past_kernel = synapse_conv_in_channels\n",
    "            for kernel in cfg:\n",
    "                if (classifier_making == False):\n",
    "                    if (type(kernel) == list):\n",
    "                        for residual_kernel in kernel:\n",
    "                            if (residual_kernel >= 10000 and residual_kernel < 20000): # separable\n",
    "                                residual_kernel -= 10000\n",
    "                                params_num += (synapse_conv_kernel_size**2 + bias_param) * past_kernel\n",
    "                                params_num += (1**2 * past_kernel + bias_param) * residual_kernel\n",
    "                                past_kernel = residual_kernel  \n",
    "                            elif (residual_kernel >= 20000 and residual_kernel < 30000): # depthwise\n",
    "                                residual_kernel -= 20000\n",
    "                                # 'past_kernel' should be same with 'kernel'\n",
    "                                params_num += (synapse_conv_kernel_size**2 + bias_param) * past_kernel\n",
    "                                past_kernel = residual_kernel  \n",
    "                            else:\n",
    "                                params_num += residual_kernel * ((synapse_conv_kernel_size**2) * past_kernel + bias_param)\n",
    "                                past_kernel = residual_kernel\n",
    "                    elif (kernel == 'P' or kernel == 'M'):\n",
    "                        img_size = img_size // 2\n",
    "                    elif (kernel == 'D'):\n",
    "                        img_size = 1\n",
    "                    elif (kernel == 'L'):\n",
    "                        classifier_making = True\n",
    "                        past_kernel = past_kernel * (img_size**2)\n",
    "                    else:\n",
    "                        if (kernel >= 10000 and kernel < 20000): # separable\n",
    "                            kernel -= 10000\n",
    "                            params_num += (synapse_conv_kernel_size**2 + bias_param) * past_kernel\n",
    "                            params_num += (1**2 * past_kernel + bias_param) * kernel\n",
    "                            past_kernel = kernel  \n",
    "                        elif (kernel >= 20000 and kernel < 30000): # depthwise\n",
    "                            kernel -= 20000\n",
    "                            # 'past_kernel' should be same with 'kernel'\n",
    "                            params_num += (synapse_conv_kernel_size**2 + bias_param) * past_kernel\n",
    "                            past_kernel = kernel  \n",
    "                        else:\n",
    "                            params_num += kernel * (synapse_conv_kernel_size**2 * past_kernel + bias_param)\n",
    "                            past_kernel = kernel    \n",
    "                else: # classifier making\n",
    "                    params_num += (past_kernel + bias_param) * kernel\n",
    "                    past_kernel = kernel\n",
    "            \n",
    "            \n",
    "            if classifier_making == False:\n",
    "                past_kernel = past_kernel*img_size*img_size\n",
    "\n",
    "            params_num += (past_kernel + bias_param) * synapse_fc_out_features\n",
    "        else:\n",
    "            in_channel_compute_temp = synapse_conv_in_channels * temporal_filter\n",
    "            past_in_channel = in_channel_compute_temp*img_size*img_size\n",
    "            for in_channel in cfg:\n",
    "                if (type(in_channel) == list):\n",
    "                    for residual_in_channel in in_channel:\n",
    "                        params_num += (past_in_channel + bias_param) * residual_in_channel\n",
    "                        past_in_channel = residual_in_channel\n",
    "                elif (in_channel == 'P' or in_channel == 'M'):\n",
    "                    img_size = img_size // 2\n",
    "                    past_in_channel = in_channel_compute_temp*img_size*img_size\n",
    "                else:\n",
    "                    params_num += (past_in_channel + bias_param) * in_channel\n",
    "                    past_in_channel = in_channel\n",
    "            params_num += (past_in_channel + bias_param) * synapse_fc_out_features\n",
    "    ###########################################################################################################################################\n",
    "\n",
    "\n",
    "    device = torch.device(\"cuda\" if torch.cuda.is_available() else \"cpu\")\n",
    "    print(f\"\\ndevice ==> {device}\\n\")\n",
    "    if device == \"cpu\":\n",
    "        print(\"=\"*50,\"\\n[WARNING]\\n[WARNING]\\n[WARNING]\\n: cpu mode\\n\\n\",\"=\"*50)\n",
    "\n",
    "    ### network setting #######################################################################################################################\n",
    "    if (convTrue_fcFalse == False):\n",
    "        if (single_step == False):\n",
    "            net = MY_SNN_FC(cfg, synapse_conv_in_channels*temporal_filter, IMAGE_SIZE//initial_pooling, synapse_fc_out_features,\n",
    "                        synapse_fc_trace_const1, synapse_fc_trace_const2, \n",
    "                        lif_layer_v_init, lif_layer_v_decay, \n",
    "                        lif_layer_v_threshold, lif_layer_v_reset,\n",
    "                        lif_layer_sg_width,\n",
    "                        tdBN_on,\n",
    "                        BN_on, TIME,\n",
    "                        surrogate,\n",
    "                        BPTT_on,\n",
    "                        DFA_on,\n",
    "                        drop_rate,\n",
    "                        UDA_on,\n",
    "                        alpha_uda).to(device)\n",
    "        else:\n",
    "            net = MY_SNN_FC_sstep(cfg, synapse_conv_in_channels*temporal_filter, IMAGE_SIZE//initial_pooling, synapse_fc_out_features,\n",
    "                        synapse_fc_trace_const1, synapse_fc_trace_const2, \n",
    "                        lif_layer_v_init, lif_layer_v_decay, \n",
    "                        lif_layer_v_threshold, lif_layer_v_reset,\n",
    "                        lif_layer_sg_width,\n",
    "                        tdBN_on,\n",
    "                        BN_on, TIME,\n",
    "                        surrogate,\n",
    "                        BPTT_on,\n",
    "                        DFA_on,\n",
    "                        OTTT_sWS_on,\n",
    "                        drop_rate,\n",
    "                        UDA_on,\n",
    "                        alpha_uda).to(device)\n",
    "    else:\n",
    "        if (single_step == False):\n",
    "            net = MY_SNN_CONV(cfg, synapse_conv_in_channels, IMAGE_SIZE//initial_pooling,\n",
    "                        synapse_conv_kernel_size, synapse_conv_stride, \n",
    "                        synapse_conv_padding, synapse_conv_trace_const1, \n",
    "                        synapse_conv_trace_const2, \n",
    "                        lif_layer_v_init, lif_layer_v_decay, \n",
    "                        lif_layer_v_threshold, lif_layer_v_reset,\n",
    "                        lif_layer_sg_width,\n",
    "                        synapse_fc_out_features, synapse_fc_trace_const1, synapse_fc_trace_const2,\n",
    "                        tdBN_on,\n",
    "                        BN_on, TIME,\n",
    "                        surrogate,\n",
    "                        BPTT_on,\n",
    "                        OTTT_sWS_on,\n",
    "                        DFA_on,\n",
    "                        drop_rate,\n",
    "                        UDA_on,\n",
    "                        alpha_uda).to(device)\n",
    "        else:\n",
    "            net = MY_SNN_CONV_sstep(cfg, synapse_conv_in_channels, IMAGE_SIZE//initial_pooling,\n",
    "                        synapse_conv_kernel_size, synapse_conv_stride, \n",
    "                        synapse_conv_padding, synapse_conv_trace_const1, \n",
    "                        synapse_conv_trace_const2, \n",
    "                        lif_layer_v_init, lif_layer_v_decay, \n",
    "                        lif_layer_v_threshold, lif_layer_v_reset,\n",
    "                        lif_layer_sg_width,\n",
    "                        synapse_fc_out_features, synapse_fc_trace_const1, synapse_fc_trace_const2,\n",
    "                        tdBN_on,\n",
    "                        BN_on, TIME,\n",
    "                        surrogate,\n",
    "                        BPTT_on,\n",
    "                        OTTT_sWS_on,\n",
    "                        DFA_on,\n",
    "                        drop_rate,\n",
    "                        UDA_on,\n",
    "                        alpha_uda).to(device)\n",
    "    if (nda_net == True):\n",
    "        net = VGG(cfg = cfg, num_classes=10, batch_norm = tdBN_on, in_c = synapse_conv_in_channels, \n",
    "                    lif_layer_v_threshold=lif_layer_v_threshold, lif_layer_v_decay=lif_layer_v_decay, lif_layer_sg_width=lif_layer_sg_width)\n",
    "        net.T = TIME\n",
    "\n",
    "    if ddp_on == False:\n",
    "        net = torch.nn.DataParallel(net) \n",
    "    \n",
    "    if pre_trained == True:\n",
    "        net.load_state_dict(torch.load(pre_trained_path))\n",
    "    \n",
    "    if ddp_on == True:\n",
    "        device = args.gpu\n",
    "        net = net.to(args.gpu)\n",
    "        net = DDP(net, delay_allreduce=True)\n",
    "\n",
    "    net = net.to(device)\n",
    "    if (net_print == True):\n",
    "        if ddp_on == False or torch.distributed.get_rank() == 0:\n",
    "            print(net)    \n",
    "    ####################################################################################################################################\n",
    "    \n",
    "\n",
    "    ## wandb logging ###########################################\n",
    "    if ddp_on == False or torch.distributed.get_rank() == 0:\n",
    "        wandb.watch(net, log=\"all\", log_freq = 10) #gradient, parameter logging해줌\n",
    "    ############################################################\n",
    "\n",
    "    ## param num and memory estimation except BN with MY own calculation some lines above ##########################################\n",
    "    if ddp_on == False or torch.distributed.get_rank() == 0:\n",
    "        real_param_num = sum(p.numel() for p in net.parameters() if p.requires_grad)\n",
    "        if (weight_count_print == True):\n",
    "            for name, param in net.named_parameters():\n",
    "                if param.requires_grad:\n",
    "                    print(f'Layer: {name} | Number of parameters: {param.numel()}')\n",
    "        # Batch norm 있으면 아래 두 개 서로 다를 수 있음.\n",
    "        # assert real_param_num == params_num, f'parameter number is not same. real_param_num: {real_param_num}, params_num: {params_num}'    \n",
    "        print('='*50)\n",
    "        print(f\"My Num of PARAMS: {params_num:,}, system's param_num : {real_param_num:,}\")\n",
    "        memory = params_num / 8 / 1024 / 1024 # MB\n",
    "        precision = 32\n",
    "        memory = memory * precision \n",
    "        print(f\"Memory: {memory:.2f}MiB at {precision}-bit\")\n",
    "        print('='*50)\n",
    "    ##############################################################################################################################\n",
    "\n",
    "\n",
    "\n",
    "    ## criterion ########################################## # loss 구해주는 친구\n",
    "    criterion = nn.CrossEntropyLoss().to(device)\n",
    "    if (OTTT_sWS_on == True):\n",
    "        # criterion = nn.CrossEntropyLoss().to(device)\n",
    "        criterion = lambda y_t, target_t: ((1 - 0.05) * F.cross_entropy(y_t, target_t) + 0.05 * F.mse_loss(y_t, F.one_hot(target_t, CLASS_NUM).float())) / TIME \n",
    "        if which_data == 'DVS_GESTURE':\n",
    "            criterion = lambda y_t, target_t: ((1 - 0.001) * F.cross_entropy(y_t, target_t) + 0.001 * F.mse_loss(y_t, F.one_hot(target_t, CLASS_NUM).float())) / TIME \n",
    "    ####################################################\n",
    "    \n",
    "\n",
    "\n",
    "\n",
    "    ## optimizer, scheduler ########################################################################\n",
    "    if(optimizer_what == 'SGD'):\n",
    "        # optimizer = optim.SGD(net.parameters(), lr=learning_rate, momentum=0.9)\n",
    "        optimizer = optim.SGD(net.parameters(), lr=learning_rate, momentum=0.9, weight_decay=0)\n",
    "    elif(optimizer_what == 'Adam'):\n",
    "        optimizer = torch.optim.Adam(net.parameters(), lr=learning_rate)\n",
    "        # optimizer = torch.optim.Adam(net.parameters(), lr=0.00001)\n",
    "        # optimizer = torch.optim.Adam(net.parameters(), lr=learning_rate/256 * BATCH, weight_decay=1e-4)\n",
    "        # optimizer = optim.Adam(net.parameters(), lr=learning_rate, weight_decay=0, betas=(0.9, 0.999))\n",
    "    elif(optimizer_what == 'RMSprop'):\n",
    "        pass\n",
    "\n",
    "\n",
    "    if (scheduler_name == 'StepLR'):\n",
    "        scheduler = lr_scheduler.StepLR(optimizer, step_size=10, gamma=0.1)\n",
    "    elif (scheduler_name == 'ExponentialLR'):\n",
    "        scheduler = lr_scheduler.ExponentialLR(optimizer, gamma=0.95)\n",
    "    elif (scheduler_name == 'ReduceLROnPlateau'):\n",
    "        scheduler = lr_scheduler.ReduceLROnPlateau(optimizer, mode='min', factor=0.1, patience=10)\n",
    "    elif (scheduler_name == 'CosineAnnealingLR'):\n",
    "        # scheduler = lr_scheduler.CosineAnnealingLR(optimizer, eta_min=0, T_max=50)\n",
    "        scheduler = torch.optim.lr_scheduler.CosineAnnealingLR(optimizer, eta_min=0, T_max=epoch_num)\n",
    "    elif (scheduler_name == 'OneCycleLR'):\n",
    "        scheduler = lr_scheduler.OneCycleLR(optimizer, max_lr=0.1, steps_per_epoch=len(train_loader), epochs=epoch_num)\n",
    "    else:\n",
    "        pass # 'no' scheduler\n",
    "    ## optimizer, scheduler ########################################################################\n",
    "\n",
    "\n",
    "    tr_acc = 0\n",
    "    tr_correct = 0\n",
    "    tr_total = 0\n",
    "    tr_acc_best = 0\n",
    "    tr_epoch_loss_temp = 0\n",
    "    tr_epoch_loss = 0\n",
    "    val_acc_best = 0\n",
    "    val_acc_now = 0\n",
    "    val_loss = 0\n",
    "    elapsed_time_val = 0\n",
    "    no_val_best_growth_count = 0\n",
    "    no_tr_best_growth_count = 0\n",
    "    iter_acc_array = np.array([])\n",
    "    tr_acc_array = np.array([])\n",
    "    val_acc_now_array = np.array([])\n",
    "    DFA_current = DFA_on\n",
    "    DFA_toggle = False\n",
    "    DFA_flag = 1.0 if DFA_current == True else 0.0\n",
    "    DFA_BP_toggle_trial = 0\n",
    "    iter_of_val = False\n",
    "    tr_acc_target = 0\n",
    "    tr_correct_target = 0\n",
    "    tr_total_target = 0\n",
    "    tr_acc_best_target = 0\n",
    "    tr_epoch_loss_temp_target = 0\n",
    "    tr_epoch_loss_target = 0\n",
    "    tr_epoch_loss_temp_domain = 0\n",
    "    tr_epoch_loss_domain = 0\n",
    "    tr_acc_domain = 0\n",
    "    tr_correct_domain = 0\n",
    "    tr_total_domain = 0\n",
    "    val_acc_now_set_past = [0 for _ in range(len(dvs_duration_domain)+1)]\n",
    "    val_acc_now_set = [0 for _ in range(len(dvs_duration_domain)+1)]\n",
    "    val_acc_now_set_best = [0 for _ in range(len(dvs_duration_domain)+1)]\n",
    "    #======== EPOCH START ==========================================================================================\n",
    "    for epoch in range(epoch_num):\n",
    "        if (I_wanna_sweep_at_this_epoch == epoch):\n",
    "            net = BP_DFA_SWAP(net, convTrue_fcFalse, single_step, ddp_on, args_gpu)\n",
    "            no_val_best_growth_count = 0\n",
    "            DFA_current = not DFA_current\n",
    "            DFA_toggle = True\n",
    "            DFA_BP_toggle_trial = DFA_BP_toggle_trial + 1\n",
    "        else:\n",
    "            if (e_transport_swap > 0 or e_transport_swap_tr > 0):\n",
    "                assert not (e_transport_swap > 0 and e_transport_swap_tr > 0)\n",
    "                if e_transport_swap > 0 and no_val_best_growth_count == e_transport_swap :\n",
    "                    if DFA_BP_toggle_trial < e_transport_swap_coin:\n",
    "                        net = BP_DFA_SWAP(net, convTrue_fcFalse, single_step, ddp_on, args_gpu)\n",
    "                        no_val_best_growth_count = 0\n",
    "                        DFA_current = not DFA_current\n",
    "                        DFA_toggle = True\n",
    "                        DFA_BP_toggle_trial = DFA_BP_toggle_trial + 1\n",
    "                if e_transport_swap_tr > 0 and no_tr_best_growth_count == e_transport_swap_tr:\n",
    "                    if DFA_BP_toggle_trial < e_transport_swap_coin:\n",
    "                        net = BP_DFA_SWAP(net, convTrue_fcFalse, single_step, ddp_on, args_gpu)\n",
    "                        no_tr_best_growth_count = 0\n",
    "                        DFA_current = not DFA_current\n",
    "                        DFA_toggle = True\n",
    "                        DFA_BP_toggle_trial = DFA_BP_toggle_trial + 1\n",
    "\n",
    "        if ddp_on == False or torch.distributed.get_rank() == 0:\n",
    "            # print('EPOCH', epoch)\n",
    "            pass\n",
    "        epoch_start_time = time.time()\n",
    "\n",
    "        # if (domain_il_epoch>0 and which_data == 'PMNIST'):\n",
    "        #     k = epoch // domain_il_epoch\n",
    "        #     xtrain=data[k]['train']['x']\n",
    "        #     ytrain=data[k]['train']['y']\n",
    "        #     xtest =data[k]['test']['x']\n",
    "        #     ytest =data[k]['test']['y']\n",
    "\n",
    "        ####### iterator : input_loading & tqdm을 통한 progress_bar 생성###################\n",
    "        iterator = enumerate(train_loader, 0)\n",
    "        if (UDA_on == True):\n",
    "            iterator_target = enumerate(train_loader_target, 0)\n",
    "\n",
    "        if ddp_on == False or torch.distributed.get_rank() == 0:  \n",
    "            iterator = tqdm(iterator, total=len(train_loader), desc='train', dynamic_ncols=True, position=0, leave=True)\n",
    "        ##################################################################################   \n",
    "        \n",
    "        #### validation_interval이 batch size보다 작을 시 validation_interval을 batch size로 맞춰줌#############\n",
    "        validation_interval2 = validation_interval\n",
    "        if (validation_interval > len(train_loader)):\n",
    "            validation_interval2 = len(train_loader)\n",
    "        ##################################################################################################\n",
    "\n",
    "\n",
    "        ###### ITERATION START ##########################################################################################################\n",
    "        i = 0\n",
    "        target_done = False\n",
    "        for i, data in iterator:\n",
    "            UDA_FSM = 0\n",
    "            while (UDA_FSM < 2): # 0: source, 1: target, 2: done\n",
    "                if UDA_on == True:\n",
    "                    if UDA_FSM == 0:\n",
    "                        net.UDA_adapter_on = True # net.UDA_adapter_on 와 net.UDA_classifier_on은 그냥 flag임. 이번에 loss값을 backward할 건지 말 건지 ㅇㅇ\n",
    "                        net.UDA_classifier_on = True\n",
    "                        if target_done == True:\n",
    "                            UDA_FSM = 2 # 2--> target 안함\n",
    "                        elif (i)%(len(train_loader)//len(train_loader_target)) == 0: # 일정 주기로 src/trg 도메인 어댑트\n",
    "                            net.UDA_adapter_on = True\n",
    "                            UDA_FSM = 1 # 1--> target 함 !!! target 할 때만 source도 domain adapt할거면 net.UDA_adapter_on을 False로 잘 조정\n",
    "                        elif i == len(train_loader) - 1 and target_done == False:\n",
    "                            net.UDA_adapter_on = True\n",
    "                            UDA_FSM = 1\n",
    "                        else: \n",
    "                            UDA_FSM = 2\n",
    "                    elif UDA_FSM == 1:\n",
    "                        net.UDA_adapter_on = True\n",
    "                        net.UDA_classifier_on = False\n",
    "                        tgt_idx, data = next(iterator_target)\n",
    "                        target_done = True if tgt_idx == len(train_loader_target) - 1 else False\n",
    "                        if i == len(train_loader) - 1 and target_done == False:\n",
    "                            UDA_FSM = 1\n",
    "                        else: \n",
    "                            UDA_FSM = 2\n",
    "                    else:\n",
    "                        assert False\n",
    "                else:\n",
    "                    UDA_FSM = 2\n",
    "\n",
    "                iter_one_train_time_start = time.time()\n",
    "\n",
    "                net.train() # train 모드로 바꿔줘야함\n",
    "\n",
    "                ### data loading & semi-pre-processing ################################################################################\n",
    "                if len(data) == 2:\n",
    "                    inputs, labels = data\n",
    "                    # 처리 로직 작성\n",
    "                elif len(data) == 3:\n",
    "                    inputs, labels, x_len = data\n",
    "                    # print('x_len',x_len)\n",
    "                    # mask = padded_sequence_mask(x_len)\n",
    "                    # max_time_step = x_len.max()\n",
    "                    # min_time_step = x_len.min()\n",
    "                else:\n",
    "                    assert False, 'data length is not 2 or 3'\n",
    "                #######################################################################################################################\n",
    "                    \n",
    "                ## batch 크기 ######################################\n",
    "                real_batch = labels.size(0)\n",
    "                ###########################################################\n",
    "\n",
    "                # 차원 전처리\n",
    "                ###########################################################################################################################        \n",
    "                if (which_data == 'n_tidigits'):\n",
    "                    inputs = inputs.permute(0, 1, 3, 2, 4)\n",
    "                    labels = labels[:, 0, :]\n",
    "                    labels = torch.argmax(labels, dim=1)\n",
    "                elif (which_data == 'heidelberg'):\n",
    "                    inputs = inputs.view(5, 1000, 1, 700, 1)\n",
    "                    print(\"\\n\\n\\n경고!!!! heidelberg 이거 타임스텝이랑 채널 잘 바꿔줘라!!!\\n\\n\\n\\n\")\n",
    "                # print('inputs',inputs.size(),'\\nlabels',labels.size())\n",
    "                # print(labels)\n",
    "\n",
    "                if (which_data == 'DVS_CIFAR10' or which_data == 'DVS_GESTURE' or which_data == 'DVS_GESTURE_TONIC' or which_data == 'DVS_CIFAR10_2' or which_data == 'NMNIST' or which_data == 'NMNIST_TONIC' or which_data == 'N_CALTECH101' or which_data == 'n_tidigits' or which_data == 'heidelberg'):\n",
    "                    inputs = inputs.permute(1, 0, 2, 3, 4)\n",
    "                elif rate_coding == True :\n",
    "                    inputs = spikegen.rate(inputs, num_steps=TIME)\n",
    "                else :\n",
    "                    inputs = inputs.repeat(TIME, 1, 1, 1, 1)\n",
    "                # inputs: [Time, Batch, Channel, Height, Width]  \n",
    "                    \n",
    "                ## initial pooling #######################################################################\n",
    "                if (initial_pooling > 1):\n",
    "                    pool = nn.MaxPool2d(kernel_size=2)\n",
    "                    num_pooling_layers = int(math.log2(initial_pooling))\n",
    "                    # Time, Batch, Channel 차원은 그대로 두고, Height, Width 차원에 대해서만 pooling 적용\n",
    "                    shape_temp = inputs.shape\n",
    "                    inputs = inputs.reshape(shape_temp[0]*shape_temp[1], shape_temp[2], shape_temp[3], shape_temp[4])\n",
    "                    for _ in range(num_pooling_layers):\n",
    "                        inputs = pool(inputs)\n",
    "                    inputs = inputs.reshape(shape_temp[0], shape_temp[1], shape_temp[2], shape_temp[3]//initial_pooling, shape_temp[4]//initial_pooling)\n",
    "                ## initial pooling #######################################################################\n",
    "                ## temporal filtering ####################################################################\n",
    "                shape_temp = inputs.shape\n",
    "                if (temporal_filter > 1):\n",
    "                    slice_bucket = []\n",
    "                    for t_temp in range(TIME):\n",
    "                        start = t_temp * temporal_filter\n",
    "                        end = start + temporal_filter\n",
    "                        slice_concat = torch.movedim(inputs[start:end], 0, 1).reshape(shape_temp[1],shape_temp[2],shape_temp[3],-1)\n",
    "                        slice_bucket.append(slice_concat)\n",
    "                    inputs = torch.stack(slice_bucket, dim=0)\n",
    "                ## temporal filtering ####################################################################\n",
    "                ####################################################################################################################### \n",
    "                    \n",
    "                \n",
    "                # # dvs 데이터 시각화 코드 (확인 필요할 시 써라)\n",
    "                # ##############################################################################################\n",
    "                # dvs_visualization(inputs, labels, TIME, BATCH, my_seed)\n",
    "                # #####################################################################################################\n",
    "\n",
    "                ## to (device) #######################################\n",
    "                inputs = inputs.to(device)\n",
    "                labels = labels.to(device)\n",
    "                ###########################################################\n",
    "\n",
    "                ## gradient 초기화 #######################################\n",
    "                optimizer.zero_grad()\n",
    "                ###########################################################\n",
    "                \n",
    "                ## DVS gesture에서 other label자리 매꾸기 ###############\n",
    "                if (which_data == 'DVS_GESTURE'):\n",
    "                    labels[labels>2] -= 1\n",
    "                #######################################################         \n",
    "                                \n",
    "                if merge_polarities == True:\n",
    "                    inputs = inputs[:,:,0,:,:]\n",
    "\n",
    "                if single_step == False:\n",
    "                    # net에 넣어줄때는 batch가 젤 앞 차원으로 와야함. # dataparallel때매##############################\n",
    "                    # inputs: [Time, Batch, Channel, Height, Width]   \n",
    "                    inputs = inputs.permute(1, 0, 2, 3, 4) # net에 넣어줄때는 batch가 젤 앞 차원으로 와야함. # dataparallel때매\n",
    "                    # inputs: [Batch, Time, Channel, Height, Width] \n",
    "                    #################################################################################################\n",
    "                else:\n",
    "                    labels = labels.repeat(TIME, 1)\n",
    "                    ## first input도 ottt trace 적용하기 위한 코드 (validation 시에는 필요X) ##########################\n",
    "                    if OTTT_input_trace_on == True:\n",
    "                        spike = inputs\n",
    "                        trace = torch.full_like(spike, fill_value = 0.0, dtype = torch.float, requires_grad=False)\n",
    "                        inputs = []\n",
    "                        for t in range(TIME):\n",
    "                            trace[t] = trace[t-1]*synapse_conv_trace_const2 + spike[t]*synapse_conv_trace_const1\n",
    "                            inputs += [[spike[t], trace[t]]]\n",
    "                    ##################################################################################################\n",
    "\n",
    "\n",
    "                if single_step == False:\n",
    "                    ### input --> net --> output #####################################################\n",
    "                    outputs = net(inputs)\n",
    "                    ##################################################################################\n",
    "                    ## loss, backward ##########################################\n",
    "                    iter_loss = criterion(outputs, labels)\n",
    "                    iter_loss.backward()\n",
    "                    ############################################################\n",
    "                    ## weight 업데이트!! ##################################\n",
    "                    optimizer.step()\n",
    "                    ################################################################\n",
    "                else:\n",
    "                    if UDA_on == False:\n",
    "                        outputs_all = []\n",
    "                        iter_loss = 0.0\n",
    "                        for t in range(TIME):\n",
    "                            ### input[t] --> net --> output_one_time #########################################\n",
    "                            outputs_one_time = net(inputs[t])\n",
    "                            ##################################################################################\n",
    "                            one_time_loss = criterion(outputs_one_time, labels[t].contiguous())\n",
    "                            one_time_loss.backward() # one_time backward\n",
    "                            iter_loss += one_time_loss.data\n",
    "                            outputs_all.append(outputs_one_time.detach())\n",
    "                        optimizer.step() # full step time update\n",
    "                        outputs_all = torch.stack(outputs_all, dim=1)\n",
    "                        outputs = outputs_all.mean(1) # ottt꺼 쓸때\n",
    "                        labels = labels[0]\n",
    "                        iter_loss /= TIME\n",
    "                    else:\n",
    "                        ## 근데 생각해보니까 걍 target에서 classifier만 backward 안 해주면 되는 거 아니냐\n",
    "\n",
    "                        iter_loss_domain = 0.0\n",
    "                        outputs_all = []\n",
    "                        outputs_all_domain = []\n",
    "                        iter_loss = 0.0\n",
    "\n",
    "                        if net.UDA_classifier_on == True:\n",
    "                            domain_labels = torch.full((TIME, real_batch), 1).to(device)\n",
    "                        else:\n",
    "                            domain_labels = torch.full((TIME, real_batch), 0).to(device)\n",
    "                            \n",
    "                        for t in range(TIME):\n",
    "                            ### input[t] --> net --> output_one_time #########################################\n",
    "                            outputs_one_time, UDA_adpater_out = net(inputs[t])\n",
    "\n",
    "                            one_time_loss_classifier = criterion(outputs_one_time, labels[t].contiguous())\n",
    "                            one_time_loss_domain = criterion(UDA_adpater_out, domain_labels[t].contiguous())\n",
    "                            one_time_loss_backward = torch.tensor(0.0).to(device)\n",
    "                            if net.UDA_adapter_on == True and epoch >= UDA_start_epoch:\n",
    "                                one_time_loss_backward += one_time_loss_domain * adapter_loss_weight\n",
    "                            else:\n",
    "                                one_time_loss_backward += one_time_loss_domain * 0.0\n",
    "                            if net.UDA_classifier_on == True:\n",
    "                                one_time_loss_backward += one_time_loss_classifier\n",
    "                            else:\n",
    "                                one_time_loss_backward += one_time_loss_classifier * 0.0\n",
    "                            one_time_loss_backward.backward() # one_time backward\n",
    "                            iter_loss += one_time_loss_classifier.data\n",
    "                            iter_loss_domain += one_time_loss_domain.data\n",
    "                            outputs_all.append(outputs_one_time.detach())\n",
    "                            outputs_all_domain.append(UDA_adpater_out.detach())\n",
    "                            ##################################################################################\n",
    "                        if one_time_loss_backward != 0.0:\n",
    "                            optimizer.step() # full step time update\n",
    "                        outputs_all = torch.stack(outputs_all, dim=1)\n",
    "                        outputs = outputs_all.mean(1) # ottt꺼 쓸때\n",
    "                        labels = labels[0]\n",
    "                        outputs_all_domain = torch.stack(outputs_all_domain, dim=1)\n",
    "                        outputs_domain = outputs_all_domain.mean(1) # ottt꺼 쓸때\n",
    "                        domain_labels = domain_labels[0]\n",
    "                        iter_loss /= TIME\n",
    "                        iter_loss_domain /= TIME\n",
    "\n",
    "                if UDA_on == False:\n",
    "                    tr_epoch_loss_temp += iter_loss.data/len(train_loader)\n",
    "                else: \n",
    "                    if (net.UDA_classifier_on == True):\n",
    "                        tr_epoch_loss_temp += iter_loss.data/(len(train_loader)*src_trg_ratio/(src_trg_ratio+1))\n",
    "                    else:\n",
    "                        tr_epoch_loss_temp_target += iter_loss.data/(len(train_loader)*1/(src_trg_ratio+1))\n",
    "                    tr_epoch_loss_temp_domain += iter_loss.data/len(train_loader)\n",
    "\n",
    "                ## net 그림 출력해보기 #################################################################\n",
    "                # print('시각화')\n",
    "                # make_dot(outputs, params=dict(list(net.named_parameters()))).render(\"net_torchviz\", format=\"png\")\n",
    "                # return 0\n",
    "                ##################################################################################\n",
    "\n",
    "                #### batch 어긋남 방지 ###############################################\n",
    "                assert real_batch == outputs.size(0), f'batch size is not same. real_batch: {real_batch}, outputs.size(0): {outputs.size(0)}'\n",
    "                #######################################################################\n",
    "                \n",
    "\n",
    "                if UDA_on == False:\n",
    "                    ####### training accruacy save for print ###############################\n",
    "                    _, predicted = torch.max(outputs.data, 1)\n",
    "                    total = real_batch\n",
    "                    correct = (predicted == labels).sum().item()\n",
    "                    iter_acc = correct / total\n",
    "                    tr_total += total\n",
    "                    tr_correct += correct\n",
    "                    if i % verbose_interval == verbose_interval-1:\n",
    "                        if ddp_on == False or torch.distributed.get_rank() == 0:\n",
    "                            print(f'{epoch}-{i} training acc: {100 * iter_acc:.2f}%, lr={[f\"{lr}\" for lr in (param_group[\"lr\"] for param_group in optimizer.param_groups)]}, val_acc: {100 * val_acc_now:.2f}%')\n",
    "                    iter_acc_string = f'epoch-{epoch:<3} iter_acc:{100 * iter_acc:7.2f}%, lr={[f\"{lr:9.7f}\" for lr in (param_group[\"lr\"] for param_group in optimizer.param_groups)]}'\n",
    "                    iter_acc_string2 = f'epoch-{epoch:<3} lr={[f\"{lr:9.7f}\" for lr in (param_group[\"lr\"] for param_group in optimizer.param_groups)]}'\n",
    "                    ################################################################\n",
    "                else:\n",
    "                    ####### training accruacy save for print ###############################\n",
    "                    _, predicted = torch.max(outputs.data, 1)\n",
    "                    _, predicted_domain = torch.max(outputs_domain.data, 1)\n",
    "                    total = real_batch\n",
    "                    correct = (predicted == labels).sum().item()\n",
    "                    correct_domain = (predicted_domain == domain_labels).sum().item()\n",
    "                    iter_acc = correct / total\n",
    "                    iter_acc_domain = correct_domain / total\n",
    "                    if (net.UDA_classifier_on == True):\n",
    "                        tr_total += total\n",
    "                        tr_correct += correct\n",
    "                    else:\n",
    "                        tr_total_target += total\n",
    "                        tr_correct_target += correct\n",
    "                    tr_correct_domain += correct_domain\n",
    "                    tr_total_domain += total\n",
    "\n",
    "                    if i % verbose_interval == verbose_interval-1:\n",
    "                        if ddp_on == False or torch.distributed.get_rank() == 0:\n",
    "                            print(f'{epoch}-{i} training acc: {100 * iter_acc:.2f}%, lr={[f\"{lr}\" for lr in (param_group[\"lr\"] for param_group in optimizer.param_groups)]}, val_acc: {100 * val_acc_now:.2f}%')\n",
    "                    iter_acc_string = f'epoch-{epoch:<3} iter_acc:{100 * iter_acc:7.2f}%, lr={[f\"{lr:9.7f}\" for lr in (param_group[\"lr\"] for param_group in optimizer.param_groups)]}'\n",
    "                    iter_acc_string2 = f'epoch-{epoch:<3} lr={[f\"{lr:9.7f}\" for lr in (param_group[\"lr\"] for param_group in optimizer.param_groups)]}'\n",
    "                    ################################################################\n",
    "\n",
    "\n",
    "\n",
    "\n",
    "            iter_one_train_time_end = time.time()\n",
    "            elapsed_time = iter_one_train_time_end - iter_one_train_time_start  # 실행 시간 계산\n",
    "\n",
    "            if (i % verbose_interval == verbose_interval-1):\n",
    "                if ddp_on == False or torch.distributed.get_rank() == 0:\n",
    "                    print(f\"iter_one_train_time: {elapsed_time} seconds, last one_val_time: {elapsed_time_val} seconds\\n\")\n",
    "            \n",
    "            ##### validation ##################################################################################################################################\n",
    "            if i % validation_interval2 == validation_interval2-1 :\n",
    "                iter_one_val_time_start = time.time()\n",
    "                tr_acc = tr_correct/tr_total\n",
    "                tr_correct = 0\n",
    "                tr_total = 0\n",
    "                if UDA_on == True:\n",
    "                    tr_acc_target = tr_correct_target/tr_total_target\n",
    "                    tr_correct_target = 0\n",
    "                    tr_total_target = 0\n",
    "                    tr_acc_domain = tr_correct_domain/tr_total_domain\n",
    "                    tr_correct_domain = 0\n",
    "                    tr_total_domain = 0\n",
    "\n",
    "                domain_index = 0\n",
    "                val_loss_set = []\n",
    "                val_acc_now_set = []\n",
    "                while True:\n",
    "                    val_loss = 0\n",
    "                    correct_val = 0\n",
    "                    total_val = 0\n",
    "                    test_loader = test_loader_domain_set[domain_index]\n",
    "                    domain_index = domain_index + 1\n",
    "\n",
    "                    with torch.no_grad():\n",
    "                        net.eval() # eval 모드로 바꿔줘야함 \n",
    "                        for data_val in test_loader:\n",
    "                            ## data_val loading & semi-pre-processing ##########################################################\n",
    "                            if len(data_val) == 2:\n",
    "                                inputs_val, labels_val = data_val\n",
    "                                # 처리 로직 작성\n",
    "                            elif len(data_val) == 3:\n",
    "                                inputs_val, labels_val, x_len = data_val\n",
    "                                # print('x_len',x_len)\n",
    "                                # mask = padded_sequence_mask(x_len)\n",
    "                                # max_time_step = x_len.max()\n",
    "                                # min_time_step = x_len.min()\n",
    "                                # B, T, *spatial_dims = inputs_val.shape\n",
    "                            else:\n",
    "                                assert False, 'data_val length is not 2 or 3'\n",
    "\n",
    "                            if (which_data == 'DVS_CIFAR10' or which_data == 'DVS_GESTURE' or which_data == 'DVS_GESTURE_TONIC' or which_data == 'DVS_CIFAR10_2' or which_data == 'NMNIST' or which_data == 'NMNIST_TONIC' or which_data == 'N_CALTECH101' or which_data == 'n_tidigits' or which_data == 'heidelberg'):\n",
    "                                inputs_val = inputs_val.permute(1, 0, 2, 3, 4)\n",
    "                            elif rate_coding == True :\n",
    "                                inputs_val = spikegen.rate(inputs_val, num_steps=TIME)\n",
    "                            else :\n",
    "                                inputs_val = inputs_val.repeat(TIME, 1, 1, 1, 1)\n",
    "                            # inputs_val: [Time, Batch, Channel, Height, Width]  \n",
    "                            ###################################################################################################\n",
    "                            \n",
    "                            ## initial pooling #######################################################################\n",
    "                            if (initial_pooling > 1):\n",
    "                                pool = nn.MaxPool2d(kernel_size=2)\n",
    "                                num_pooling_layers = int(math.log2(initial_pooling))\n",
    "                                # Time, Batch, Channel 차원은 그대로 두고, Height, Width 차원에 대해서만 pooling 적용\n",
    "                                shape_temp = inputs_val.shape\n",
    "                                inputs_val = inputs_val.reshape(shape_temp[0]*shape_temp[1], shape_temp[2], shape_temp[3], shape_temp[4])\n",
    "                                for _ in range(num_pooling_layers):\n",
    "                                    inputs_val = pool(inputs_val)\n",
    "                                inputs_val = inputs_val.reshape(shape_temp[0], shape_temp[1], shape_temp[2], shape_temp[3]//initial_pooling, shape_temp[4]//initial_pooling)\n",
    "                            ## initial pooling #######################################################################\n",
    "\n",
    "                            ## temporal filtering ####################################################################\n",
    "                            shape_temp = inputs_val.shape\n",
    "                            if (temporal_filter > 1):\n",
    "                                slice_bucket = []\n",
    "                                for t_temp in range(TIME):\n",
    "                                    start = t_temp * temporal_filter\n",
    "                                    end = start + temporal_filter\n",
    "                                    slice_concat = torch.movedim(inputs_val[start:end], 0, 1).reshape(shape_temp[1],shape_temp[2],shape_temp[3],-1)\n",
    "                                    slice_bucket.append(slice_concat)\n",
    "                                inputs_val = torch.stack(slice_bucket, dim=0)\n",
    "                            ## temporal filtering ####################################################################\n",
    "                            \n",
    "                            inputs_val = inputs_val.to(device)\n",
    "                            labels_val = labels_val.to(device)\n",
    "                            real_batch = labels_val.size(0)\n",
    "                            \n",
    "                            ## DVS gesture에서 other label자리 매꾸기 ###############\n",
    "                            if (which_data == 'DVS_GESTURE'):\n",
    "                                labels_val[labels_val>2] -= 1\n",
    "                            #######################################################\n",
    "                            \n",
    "                            if merge_polarities == True:\n",
    "                                inputs_val = inputs_val[:,:,0,:,:]\n",
    "\n",
    "                            ## network 연산 시작 ############################################################################################################\n",
    "                            if single_step == False:\n",
    "                                outputs = net(inputs_val.permute(1, 0, 2, 3, 4)) #inputs_val: [Batch, Time, Channel, Height, Width]  \n",
    "                                val_loss_val += criterion(outputs, labels_val)/len(test_loader)\n",
    "                            else:\n",
    "                                outputs_all = []\n",
    "                                for t in range(TIME):\n",
    "                                    outputs = net(inputs_val[t])\n",
    "                                    if UDA_on == True:\n",
    "                                        outputs = outputs[0] # classifier의 output만 사용.\n",
    "                                    val_loss_temp = criterion(outputs, labels_val)\n",
    "                                    outputs_all.append(outputs.detach())\n",
    "                                    val_loss += (val_loss_temp.data/TIME)/len(test_loader)\n",
    "                                outputs_all = torch.stack(outputs_all, dim=1)\n",
    "                                outputs = outputs_all.mean(1)\n",
    "                            val_loss_set.append(val_loss)\n",
    "                            #################################################################################################################################\n",
    "\n",
    "                            _, predicted = torch.max(outputs.data, 1)\n",
    "                            total_val += real_batch\n",
    "                            assert real_batch == outputs.size(0), f'batch size is not same. real_batch: {real_batch}, outputs.size(0): {outputs.size(0)}'\n",
    "                            correct_val += (predicted == labels_val).sum().item()\n",
    "\n",
    "                        val_acc_now = correct_val / total_val\n",
    "                        # print(f'{epoch}-{i} validation acc: {100 * val_acc_now:.2f}%, lr={[f\"{lr:.10f}\" for lr in (param_group[\"lr\"] for param_group in optimizer.param_groups)]}')\n",
    "                        val_acc_now_set.append(val_acc_now)\n",
    "\n",
    "                    if domain_index == len(dvs_duration_domain) + 1:\n",
    "                        break\n",
    "\n",
    "                val_loss = val_loss_set[0]\n",
    "                val_acc_now = val_acc_now_set[0]\n",
    "\n",
    "                iter_one_val_time_end = time.time()\n",
    "                elapsed_time_val = iter_one_val_time_end - iter_one_val_time_start  # 실행 시간 계산\n",
    "                # print(f\"iter_one_val_time: {elapsed_time_val} seconds\")\n",
    "\n",
    "                # network save\n",
    "                if val_acc_best < val_acc_now:\n",
    "                    val_acc_best = val_acc_now\n",
    "                    if ddp_on == False or torch.distributed.get_rank() == 0:\n",
    "                        # wandb 키면 state_dict아닌거는 저장 안됨\n",
    "                        torch.save(net.state_dict(), f\"net_save/save_now_net_weights_{unique_name}.pth\")\n",
    "                        # torch.save(net, f\"net_save/save_now_net_{unique_name}.pth\")\n",
    "                        # torch.save(net.module.state_dict(), f\"net_save/save_now_net_weights2_{unique_name}.pth\")\n",
    "                        # torch.save(net.module, f\"net_save/save_now_net2_{unique_name}.pth\")\n",
    "                    no_val_best_growth_count = 0\n",
    "                else:\n",
    "                    no_val_best_growth_count = no_val_best_growth_count + 1\n",
    "\n",
    "                if tr_acc_best < tr_acc:\n",
    "                    tr_acc_best = tr_acc\n",
    "                    no_tr_best_growth_count = 0\n",
    "                else:\n",
    "                    no_tr_best_growth_count = no_tr_best_growth_count + 1\n",
    "\n",
    "                tr_epoch_loss = tr_epoch_loss_temp\n",
    "                tr_epoch_loss_temp = 0\n",
    "                tr_epoch_loss_target = tr_epoch_loss_temp_target \n",
    "                tr_epoch_loss_temp_target = 0\n",
    "                tr_epoch_loss_domain = tr_epoch_loss_temp_domain\n",
    "                tr_epoch_loss_temp_domain = 0\n",
    "                if (UDA_on == True):\n",
    "                    print(f\"Domain loss,acc: {tr_epoch_loss_domain:.6f}, {100 * tr_acc_domain:.2f}% Target domain: tr_loss-{tr_epoch_loss_target:.6f}, tr_acc-{100 * tr_acc_target:.2f}%\")\n",
    "\n",
    "                if DFA_toggle == True:\n",
    "                    DFA_flag = 1.0 - DFA_flag\n",
    "                    DFA_toggle = False\n",
    "\n",
    "                iter_of_val = True\n",
    "            ####################################################################################################################################################\n",
    "            \n",
    "            ## progress bar update ############################################################################################################\n",
    "            if ddp_on == False or torch.distributed.get_rank() == 0:\n",
    "                if iter_of_val == False:\n",
    "                    iterator.set_description(f\"{iter_acc_string}, iter_loss:{iter_loss:10.6f}, val_best:{100 * val_acc_best:7.2f}%\")  \n",
    "                else:\n",
    "                    iterator.set_description(f\"{iter_acc_string2}, tr/val_loss:{tr_epoch_loss:10.6f}/{val_loss:10.6f}, tr:{100 * tr_acc:7.2f}%, val:{100 * val_acc_now:7.2f}%, val_best:{100 * val_acc_best:7.2f}%\")  \n",
    "\n",
    "                    if len(dvs_duration_domain) > 0:\n",
    "                        dvs_duration_full = [(dvs_duration, dvs_clipping, denoise_on, TIME)] + dvs_duration_domain\n",
    "                        val_acc_now_set_best = [max(past, now) for past, now in zip(val_acc_now_set_past, val_acc_now_set)]\n",
    "                        print(\" | \".join(f\"{dvs_duration_full[d_count][0]:,}c{dvs_duration_full[d_count][1]}d{dvs_duration_full[d_count][2]}t{dvs_duration_full[d_count][3]}:{val_acc_now_set[d_count]*100:.2f}%:{val_acc_now_set_best[d_count]*100:.2f}%\" for d_count in range(len(val_acc_now_set))))\n",
    "                        val_acc_now_set_past = val_acc_now_set_best\n",
    "                    iter_of_val = False\n",
    "            \n",
    "            ####################################################################################################################################\n",
    "            \n",
    "            ## wandb logging ############################################################################################################\n",
    "            if ddp_on == False or torch.distributed.get_rank() == 0:\n",
    "                wandb.log({\"iter_acc\": iter_acc})\n",
    "                wandb.log({\"tr_acc\": tr_acc})\n",
    "                wandb.log({\"val_acc_now\": val_acc_now})\n",
    "                wandb.log({\"val_acc_best\": val_acc_best})\n",
    "                wandb.log({\"summary_val_acc\": val_acc_now})\n",
    "                wandb.log({\"epoch\": epoch})\n",
    "                wandb.log({\"DFA_flag\": DFA_flag}) # DFA mode 바뀌자 마자 바뀌는 게 아니고 validation 한번 했을 때 바뀜.\n",
    "                wandb.log({\"val_loss\": val_loss}) \n",
    "                wandb.log({\"tr_epoch_loss\": tr_epoch_loss})   \n",
    "                if len(val_acc_now_set) > 1:\n",
    "                    wandb.log({\"val_acc_now_set[1]\": val_acc_now_set[1]}) \n",
    "                    wandb.log({\"val_acc_now_set[1]_best\": val_acc_now_set_best[1]}) \n",
    "            ####################################################################################################################################\n",
    "            \n",
    "            \n",
    "            ## accuray 로컬에 저장 하기 위한 코드 #####################################################################################\n",
    "            iter_acc_array = np.append(iter_acc_array, iter_acc)\n",
    "            tr_acc_array = np.append(tr_acc_array, tr_acc)\n",
    "            val_acc_now_array = np.append(val_acc_now_array, val_acc_now)\n",
    "            base_name = f'{current_time}'\n",
    "            ####################################################################################################################\n",
    "            \n",
    "            iter_acc_file_name_time = f'result_save/{base_name}_iter_acc_array_{unique_name}.npy'\n",
    "            tr_acc_file_name_time = f'result_save/{base_name}_tr_acc_array_{unique_name}.npy'\n",
    "            val_acc_file_name_time = f'result_save/{base_name}_val_acc_now_array_{unique_name}.npy'\n",
    "            hyperparameters_file_name_time = f'result_save/{base_name}_hyperparameters_{unique_name}.json'\n",
    "\n",
    "            hyperparameters['current epoch'] = epoch\n",
    "\n",
    "            ### accuracy 세이브: 덮어쓰기 하기 싫으면 주석 풀어서 사용 (시간마다 새로 쓰기) 비추천 ########################\n",
    "            # if ddp_on == False or torch.distributed.get_rank() == 0:\n",
    "            #     np.save(iter_acc_file_name_time, iter_acc_array)\n",
    "\n",
    "\n",
    "            #     np.save(tr_acc_file_name_time, iter_acc_array)\n",
    "            #     np.save(val_acc_file_name_time, val_acc_now_array)\n",
    "            #     with open(hyperparameters_file_name_time, 'w') as f:\n",
    "            #         json.dump(hyperparameters, f, indent=4)\n",
    "            #########################################################################################################\n",
    "\n",
    "            ## accuracy 세이브 ###########################################################################################\n",
    "            if ddp_on == False or torch.distributed.get_rank() == 0:\n",
    "                np.save(f'result_save/iter_acc_array_{unique_name}.npy', iter_acc_array)\n",
    "                np.save(f'result_save/tr_acc_array_{unique_name}.npy', tr_acc_array)\n",
    "                np.save(f'result_save/val_acc_now_array_{unique_name}.npy', val_acc_now_array)\n",
    "                with open(f'result_save/hyperparameters_{unique_name}.json', 'w') as f:\n",
    "                    json.dump(hyperparameters, f, indent=4)\n",
    "            ##########################################################################################################\n",
    "            # iterator.update(1)\n",
    "        ###### ITERATION END ##########################################################################################################\n",
    "                \n",
    "\n",
    "        ## scheduler update #############################################################################\n",
    "        if (scheduler_name != 'no'):\n",
    "            if (scheduler_name == 'ReduceLROnPlateau'):\n",
    "                scheduler.step(val_loss)\n",
    "            else:\n",
    "                scheduler.step()\n",
    "        #################################################################################################\n",
    "        \n",
    "        # 실행 시간 계산\n",
    "        epoch_time_end = time.time()\n",
    "        # print(f\"epoch_time: {epoch_time_end - epoch_start_time} seconds\\n\") \n",
    "    #======== EPOCH END ==========================================================================================\n"
   ]
  },
  {
   "cell_type": "code",
   "execution_count": 5,
   "metadata": {},
   "outputs": [
    {
     "name": "stderr",
     "output_type": "stream",
     "text": [
      "Failed to detect the name of this notebook, you can set it manually with the WANDB_NOTEBOOK_NAME environment variable to enable code saving.\n",
      "\u001b[34m\u001b[1mwandb\u001b[0m: Currently logged in as: \u001b[33mbhkim003\u001b[0m (\u001b[33mbhkim003-seoul-national-university\u001b[0m). Use \u001b[1m`wandb login --relogin`\u001b[0m to force relogin\n"
     ]
    },
    {
     "data": {
      "text/html": [
       "wandb version 0.18.5 is available!  To upgrade, please run:\n",
       " $ pip install wandb --upgrade"
      ],
      "text/plain": [
       "<IPython.core.display.HTML object>"
      ]
     },
     "metadata": {},
     "output_type": "display_data"
    },
    {
     "data": {
      "text/html": [
       "Tracking run with wandb version 0.17.5"
      ],
      "text/plain": [
       "<IPython.core.display.HTML object>"
      ]
     },
     "metadata": {},
     "output_type": "display_data"
    },
    {
     "data": {
      "text/html": [
       "Run data is saved locally in <code>/nfs/home/bhkim003/github_folder/ByeonghyeonKim/my_snn/wandb/run-20241022_212437-6yl3ltwy</code>"
      ],
      "text/plain": [
       "<IPython.core.display.HTML object>"
      ]
     },
     "metadata": {},
     "output_type": "display_data"
    },
    {
     "data": {
      "text/html": [
       "Syncing run <strong><a href='https://wandb.ai/bhkim003-seoul-national-university/my_snn%20main/runs/6yl3ltwy' target=\"_blank\">brisk-monkey-6596</a></strong> to <a href='https://wandb.ai/bhkim003-seoul-national-university/my_snn%20main' target=\"_blank\">Weights & Biases</a> (<a href='https://wandb.me/run' target=\"_blank\">docs</a>)<br/>"
      ],
      "text/plain": [
       "<IPython.core.display.HTML object>"
      ]
     },
     "metadata": {},
     "output_type": "display_data"
    },
    {
     "data": {
      "text/html": [
       " View project at <a href='https://wandb.ai/bhkim003-seoul-national-university/my_snn%20main' target=\"_blank\">https://wandb.ai/bhkim003-seoul-national-university/my_snn%20main</a>"
      ],
      "text/plain": [
       "<IPython.core.display.HTML object>"
      ]
     },
     "metadata": {},
     "output_type": "display_data"
    },
    {
     "data": {
      "text/html": [
       " View run at <a href='https://wandb.ai/bhkim003-seoul-national-university/my_snn%20main/runs/6yl3ltwy' target=\"_blank\">https://wandb.ai/bhkim003-seoul-national-university/my_snn%20main/runs/6yl3ltwy</a>"
      ],
      "text/plain": [
       "<IPython.core.display.HTML object>"
      ]
     },
     "metadata": {},
     "output_type": "display_data"
    },
    {
     "name": "stdout",
     "output_type": "stream",
     "text": [
      "dataset_hash = 63cc597115630ec173f3099200061e53\n",
      "cache path exists\n",
      "dataset_hash = 63cc597115630ec173f3099200061e53\n",
      "cache path exists\n",
      "dataset_hash = ffa516e60c3efd5e0208f72b4c36cb84\n",
      "cache path exists\n",
      "\n",
      " src img count 784 trg img count 195 \n",
      "\n",
      "dataset_hash = ffa516e60c3efd5e0208f72b4c36cb84\n",
      "cache path exists\n",
      "In UDA mode, No parameter number calculation yet.\n",
      "\n",
      "device ==> cuda\n",
      "\n",
      "DataParallel(\n",
      "  (module): MY_SNN_FC_sstep(\n",
      "    (UDA_feature_layers): MY_Sequential(\n",
      "      (0): DimChanger_for_FC_sstep()\n",
      "      (1): SYNAPSE_FC_trace_sstep()\n",
      "      (2): LIF_layer_trace_sstep()\n",
      "    )\n",
      "    (UDA_classifier_layers): MY_Sequential(\n",
      "      (0): SYNAPSE_FC_trace_sstep()\n",
      "      (1): LIF_layer_trace_sstep()\n",
      "      (2): SYNAPSE_FC_trace_sstep()\n",
      "    )\n",
      "    (UDA_adapter_layers): MY_Sequential(\n",
      "      (0): Gradient_Reversal_Layer()\n",
      "      (1): SYNAPSE_FC_trace_sstep()\n",
      "      (2): LIF_layer_trace_sstep()\n",
      "      (3): SYNAPSE_FC_trace_sstep()\n",
      "    )\n",
      "  )\n",
      ")\n",
      "==================================================\n",
      "My Num of PARAMS: 0, system's param_num : 492,612\n",
      "Memory: 0.00MiB at 32-bit\n",
      "==================================================\n"
     ]
    },
    {
     "name": "stderr",
     "output_type": "stream",
     "text": [
      "epoch-0   lr=['0.0010000'], tr/val_loss:  2.880063/  2.301760, tr:   9.82%, val:  13.33%, val_best:  13.33%: 100%|██████████| 49/49 [00:12<00:00,  4.05it/s]"
     ]
    },
    {
     "name": "stdout",
     "output_type": "stream",
     "text": [
      "Domain loss,acc: 2.914837, 78.75% Target domain: tr_loss-3.053934, tr_acc-11.28%\n",
      "100,000c5dTruet10:13.33%:13.33% | 100,000c5dFalset10:17.50%:17.50%\n"
     ]
    },
    {
     "name": "stderr",
     "output_type": "stream",
     "text": [
      "\n",
      "epoch-1   lr=['0.0010000'], tr/val_loss:  2.845161/  2.187424, tr:  16.20%, val:  18.75%, val_best:  18.75%: 100%|██████████| 49/49 [00:10<00:00,  4.54it/s]"
     ]
    },
    {
     "name": "stdout",
     "output_type": "stream",
     "text": [
      "Domain loss,acc: 2.878628, 79.98% Target domain: tr_loss-3.012492, tr_acc-13.33%\n",
      "100,000c5dTruet10:18.75%:18.75% | 100,000c5dFalset10:20.83%:20.83%\n"
     ]
    },
    {
     "name": "stderr",
     "output_type": "stream",
     "text": [
      "\n",
      "epoch-2   lr=['0.0010000'], tr/val_loss:  2.436446/  1.877324, tr:  38.52%, val:  45.83%, val_best:  45.83%: 100%|██████████| 49/49 [00:10<00:00,  4.48it/s]"
     ]
    },
    {
     "name": "stdout",
     "output_type": "stream",
     "text": [
      "Domain loss,acc: 2.483680, 82.12% Target domain: tr_loss-2.672617, tr_acc-26.15%\n",
      "100,000c5dTruet10:45.83%:45.83% | 100,000c5dFalset10:41.25%:41.25%\n"
     ]
    },
    {
     "name": "stderr",
     "output_type": "stream",
     "text": [
      "\n",
      "epoch-3   lr=['0.0010000'], tr/val_loss:  1.974316/  1.609021, tr:  57.65%, val:  60.00%, val_best:  60.00%: 100%|██████████| 49/49 [00:10<00:00,  4.58it/s]"
     ]
    },
    {
     "name": "stdout",
     "output_type": "stream",
     "text": [
      "Domain loss,acc: 2.034523, 81.51% Target domain: tr_loss-2.275350, tr_acc-46.67%\n",
      "100,000c5dTruet10:60.00%:60.00% | 100,000c5dFalset10:52.50%:52.50%\n"
     ]
    },
    {
     "name": "stderr",
     "output_type": "stream",
     "text": [
      "\n",
      "epoch-4   lr=['0.0010000'], tr/val_loss:  1.690769/  1.494820, tr:  62.12%, val:  60.83%, val_best:  60.83%: 100%|██████████| 49/49 [00:11<00:00,  4.39it/s]"
     ]
    },
    {
     "name": "stdout",
     "output_type": "stream",
     "text": [
      "Domain loss,acc: 1.760931, 82.23% Target domain: tr_loss-2.041579, tr_acc-49.74%\n",
      "100,000c5dTruet10:60.83%:60.83% | 100,000c5dFalset10:47.08%:52.50%\n"
     ]
    },
    {
     "name": "stderr",
     "output_type": "stream",
     "text": [
      "\n",
      "epoch-5   lr=['0.0010000'], tr/val_loss:  1.507417/  1.456713, tr:  69.39%, val:  60.83%, val_best:  60.83%: 100%|██████████| 49/49 [00:10<00:00,  4.58it/s]"
     ]
    },
    {
     "name": "stdout",
     "output_type": "stream",
     "text": [
      "Domain loss,acc: 1.609236, 83.35% Target domain: tr_loss-2.016513, tr_acc-50.26%\n",
      "100,000c5dTruet10:60.83%:60.83% | 100,000c5dFalset10:43.75%:52.50%\n"
     ]
    },
    {
     "name": "stderr",
     "output_type": "stream",
     "text": [
      "\n",
      "epoch-6   lr=['0.0010000'], tr/val_loss:  1.381089/  1.455129, tr:  70.79%, val:  61.25%, val_best:  61.25%: 100%|██████████| 49/49 [00:10<00:00,  4.60it/s]"
     ]
    },
    {
     "name": "stdout",
     "output_type": "stream",
     "text": [
      "Domain loss,acc: 1.511377, 83.45% Target domain: tr_loss-2.032531, tr_acc-51.79%\n",
      "100,000c5dTruet10:61.25%:61.25% | 100,000c5dFalset10:49.58%:52.50%\n"
     ]
    },
    {
     "name": "stderr",
     "output_type": "stream",
     "text": [
      "\n",
      "epoch-7   lr=['0.0010000'], tr/val_loss:  1.295590/  1.376909, tr:  75.77%, val:  65.83%, val_best:  65.83%: 100%|██████████| 49/49 [00:09<00:00,  4.93it/s]"
     ]
    },
    {
     "name": "stdout",
     "output_type": "stream",
     "text": [
      "Domain loss,acc: 1.396359, 83.25% Target domain: tr_loss-1.799435, tr_acc-57.95%\n",
      "100,000c5dTruet10:65.83%:65.83% | 100,000c5dFalset10:43.75%:52.50%\n"
     ]
    },
    {
     "name": "stderr",
     "output_type": "stream",
     "text": [
      "\n",
      "epoch-8   lr=['0.0010000'], tr/val_loss:  1.203378/  1.337464, tr:  78.19%, val:  67.08%, val_best:  67.08%: 100%|██████████| 49/49 [00:10<00:00,  4.75it/s]"
     ]
    },
    {
     "name": "stdout",
     "output_type": "stream",
     "text": [
      "Domain loss,acc: 1.342971, 83.45% Target domain: tr_loss-1.901344, tr_acc-58.46%\n",
      "100,000c5dTruet10:67.08%:67.08% | 100,000c5dFalset10:55.42%:55.42%\n"
     ]
    },
    {
     "name": "stderr",
     "output_type": "stream",
     "text": [
      "\n",
      "epoch-9   lr=['0.0010000'], tr/val_loss:  1.107311/  1.382261, tr:  83.80%, val:  63.33%, val_best:  67.08%: 100%|██████████| 49/49 [00:10<00:00,  4.48it/s]"
     ]
    },
    {
     "name": "stdout",
     "output_type": "stream",
     "text": [
      "Domain loss,acc: 1.292744, 84.37% Target domain: tr_loss-2.034477, tr_acc-54.87%\n",
      "100,000c5dTruet10:63.33%:67.08% | 100,000c5dFalset10:56.25%:56.25%\n"
     ]
    },
    {
     "name": "stderr",
     "output_type": "stream",
     "text": [
      "\n",
      "epoch-10  lr=['0.0010000'], tr/val_loss:  1.055745/  1.385240, tr:  84.69%, val:  62.50%, val_best:  67.08%: 100%|██████████| 49/49 [00:10<00:00,  4.63it/s]"
     ]
    },
    {
     "name": "stdout",
     "output_type": "stream",
     "text": [
      "Domain loss,acc: 1.217607, 84.07% Target domain: tr_loss-1.865051, tr_acc-56.41%\n",
      "100,000c5dTruet10:62.50%:67.08% | 100,000c5dFalset10:44.17%:56.25%\n"
     ]
    },
    {
     "name": "stderr",
     "output_type": "stream",
     "text": [
      "\n",
      "epoch-11  lr=['0.0010000'], tr/val_loss:  0.997053/  1.366450, tr:  82.78%, val:  67.08%, val_best:  67.08%: 100%|██████████| 49/49 [00:11<00:00,  4.25it/s]"
     ]
    },
    {
     "name": "stdout",
     "output_type": "stream",
     "text": [
      "Domain loss,acc: 1.175809, 84.47% Target domain: tr_loss-1.890831, tr_acc-50.77%\n",
      "100,000c5dTruet10:67.08%:67.08% | 100,000c5dFalset10:58.33%:58.33%\n"
     ]
    },
    {
     "name": "stderr",
     "output_type": "stream",
     "text": [
      "\n",
      "epoch-12  lr=['0.0010000'], tr/val_loss:  0.919549/  1.372648, tr:  90.05%, val:  68.33%, val_best:  68.33%: 100%|██████████| 49/49 [00:10<00:00,  4.60it/s]"
     ]
    },
    {
     "name": "stdout",
     "output_type": "stream",
     "text": [
      "Domain loss,acc: 1.105832, 85.39% Target domain: tr_loss-1.850965, tr_acc-64.10%\n",
      "100,000c5dTruet10:68.33%:68.33% | 100,000c5dFalset10:56.25%:58.33%\n"
     ]
    },
    {
     "name": "stderr",
     "output_type": "stream",
     "text": [
      "\n",
      "epoch-13  lr=['0.0010000'], tr/val_loss:  0.846071/  1.357621, tr:  90.18%, val:  71.25%, val_best:  71.25%: 100%|██████████| 49/49 [00:10<00:00,  4.51it/s]"
     ]
    },
    {
     "name": "stdout",
     "output_type": "stream",
     "text": [
      "Domain loss,acc: 1.068016, 84.98% Target domain: tr_loss-1.955797, tr_acc-58.97%\n",
      "100,000c5dTruet10:71.25%:71.25% | 100,000c5dFalset10:56.25%:58.33%\n"
     ]
    },
    {
     "name": "stderr",
     "output_type": "stream",
     "text": [
      "\n",
      "epoch-14  lr=['0.0010000'], tr/val_loss:  0.779893/  1.431741, tr:  93.37%, val:  62.50%, val_best:  71.25%: 100%|██████████| 49/49 [00:10<00:00,  4.50it/s]"
     ]
    },
    {
     "name": "stdout",
     "output_type": "stream",
     "text": [
      "Domain loss,acc: 1.007876, 85.80% Target domain: tr_loss-1.919806, tr_acc-57.44%\n",
      "100,000c5dTruet10:62.50%:71.25% | 100,000c5dFalset10:44.58%:58.33%\n"
     ]
    },
    {
     "name": "stderr",
     "output_type": "stream",
     "text": [
      "\n",
      "epoch-15  lr=['0.0010000'], tr/val_loss:  0.752557/  1.415405, tr:  92.60%, val:  68.75%, val_best:  71.25%: 100%|██████████| 49/49 [00:10<00:00,  4.58it/s]"
     ]
    },
    {
     "name": "stdout",
     "output_type": "stream",
     "text": [
      "Domain loss,acc: 1.036682, 85.29% Target domain: tr_loss-2.173185, tr_acc-60.51%\n",
      "100,000c5dTruet10:68.75%:71.25% | 100,000c5dFalset10:50.42%:58.33%\n"
     ]
    },
    {
     "name": "stderr",
     "output_type": "stream",
     "text": [
      "\n",
      "epoch-16  lr=['0.0010000'], tr/val_loss:  0.697597/  1.396096, tr:  95.54%, val:  72.50%, val_best:  72.50%: 100%|██████████| 49/49 [00:10<00:00,  4.47it/s]"
     ]
    },
    {
     "name": "stdout",
     "output_type": "stream",
     "text": [
      "Domain loss,acc: 1.002879, 86.21% Target domain: tr_loss-2.224010, tr_acc-54.36%\n",
      "100,000c5dTruet10:72.50%:72.50% | 100,000c5dFalset10:59.58%:59.58%\n"
     ]
    },
    {
     "name": "stderr",
     "output_type": "stream",
     "text": [
      "\n",
      "epoch-17  lr=['0.0010000'], tr/val_loss:  0.623754/  1.370537, tr:  97.70%, val:  74.17%, val_best:  74.17%: 100%|██████████| 49/49 [00:10<00:00,  4.48it/s]"
     ]
    },
    {
     "name": "stdout",
     "output_type": "stream",
     "text": [
      "Domain loss,acc: 0.913099, 85.80% Target domain: tr_loss-2.070478, tr_acc-61.03%\n",
      "100,000c5dTruet10:74.17%:74.17% | 100,000c5dFalset10:54.58%:59.58%\n"
     ]
    },
    {
     "name": "stderr",
     "output_type": "stream",
     "text": [
      "\n",
      "epoch-18  lr=['0.0010000'], tr/val_loss:  0.580700/  1.462593, tr:  97.58%, val:  70.42%, val_best:  74.17%: 100%|██████████| 49/49 [00:10<00:00,  4.53it/s]"
     ]
    },
    {
     "name": "stdout",
     "output_type": "stream",
     "text": [
      "Domain loss,acc: 0.910308, 85.19% Target domain: tr_loss-2.228741, tr_acc-57.95%\n",
      "100,000c5dTruet10:70.42%:74.17% | 100,000c5dFalset10:53.75%:59.58%\n"
     ]
    },
    {
     "name": "stderr",
     "output_type": "stream",
     "text": [
      "\n",
      "epoch-19  lr=['0.0010000'], tr/val_loss:  0.550904/  1.490783, tr:  97.96%, val:  70.42%, val_best:  74.17%: 100%|██████████| 49/49 [00:11<00:00,  4.44it/s]"
     ]
    },
    {
     "name": "stdout",
     "output_type": "stream",
     "text": [
      "Domain loss,acc: 0.874171, 86.11% Target domain: tr_loss-2.167239, tr_acc-58.97%\n",
      "100,000c5dTruet10:70.42%:74.17% | 100,000c5dFalset10:54.17%:59.58%\n"
     ]
    },
    {
     "name": "stderr",
     "output_type": "stream",
     "text": [
      "\n",
      "epoch-20  lr=['0.0010000'], tr/val_loss:  0.497681/  1.468534, tr:  97.83%, val:  76.67%, val_best:  76.67%: 100%|██████████| 49/49 [00:10<00:00,  4.49it/s]"
     ]
    },
    {
     "name": "stdout",
     "output_type": "stream",
     "text": [
      "Domain loss,acc: 0.832822, 86.01% Target domain: tr_loss-2.173385, tr_acc-62.05%\n",
      "100,000c5dTruet10:76.67%:76.67% | 100,000c5dFalset10:56.67%:59.58%\n"
     ]
    },
    {
     "name": "stderr",
     "output_type": "stream",
     "text": [
      "\n",
      "epoch-21  lr=['0.0010000'], tr/val_loss:  0.466616/  1.506773, tr:  98.09%, val:  74.17%, val_best:  76.67%: 100%|██████████| 49/49 [00:10<00:00,  4.53it/s]"
     ]
    },
    {
     "name": "stdout",
     "output_type": "stream",
     "text": [
      "Domain loss,acc: 0.819863, 85.29% Target domain: tr_loss-2.232849, tr_acc-64.10%\n",
      "100,000c5dTruet10:74.17%:76.67% | 100,000c5dFalset10:56.67%:59.58%\n"
     ]
    },
    {
     "name": "stderr",
     "output_type": "stream",
     "text": [
      "\n",
      "epoch-22  lr=['0.0010000'], tr/val_loss:  0.418622/  1.514976, tr:  99.49%, val:  74.58%, val_best:  76.67%: 100%|██████████| 49/49 [00:10<00:00,  4.51it/s]"
     ]
    },
    {
     "name": "stdout",
     "output_type": "stream",
     "text": [
      "Domain loss,acc: 0.800953, 85.39% Target domain: tr_loss-2.330276, tr_acc-64.10%\n",
      "100,000c5dTruet10:74.58%:76.67% | 100,000c5dFalset10:56.25%:59.58%\n"
     ]
    },
    {
     "name": "stderr",
     "output_type": "stream",
     "text": [
      "\n",
      "epoch-23  lr=['0.0010000'], tr/val_loss:  0.394345/  1.577947, tr:  98.98%, val:  73.33%, val_best:  76.67%: 100%|██████████| 49/49 [00:10<00:00,  4.48it/s]"
     ]
    },
    {
     "name": "stdout",
     "output_type": "stream",
     "text": [
      "Domain loss,acc: 0.780125, 86.21% Target domain: tr_loss-2.323244, tr_acc-63.08%\n",
      "100,000c5dTruet10:73.33%:76.67% | 100,000c5dFalset10:55.00%:59.58%\n"
     ]
    },
    {
     "name": "stderr",
     "output_type": "stream",
     "text": [
      "\n",
      "epoch-24  lr=['0.0010000'], tr/val_loss:  0.357598/  1.601386, tr:  99.49%, val:  75.42%, val_best:  76.67%: 100%|██████████| 49/49 [00:10<00:00,  4.80it/s]"
     ]
    },
    {
     "name": "stdout",
     "output_type": "stream",
     "text": [
      "Domain loss,acc: 0.760152, 87.84% Target domain: tr_loss-2.370368, tr_acc-63.08%\n",
      "100,000c5dTruet10:75.42%:76.67% | 100,000c5dFalset10:57.50%:59.58%\n"
     ]
    },
    {
     "name": "stderr",
     "output_type": "stream",
     "text": [
      "\n",
      "epoch-25  lr=['0.0010000'], tr/val_loss:  0.317243/  1.628269, tr:  99.74%, val:  74.17%, val_best:  76.67%: 100%|██████████| 49/49 [00:10<00:00,  4.64it/s]"
     ]
    },
    {
     "name": "stdout",
     "output_type": "stream",
     "text": [
      "Domain loss,acc: 0.712323, 86.31% Target domain: tr_loss-2.292645, tr_acc-63.59%\n",
      "100,000c5dTruet10:74.17%:76.67% | 100,000c5dFalset10:60.83%:60.83%\n"
     ]
    },
    {
     "name": "stderr",
     "output_type": "stream",
     "text": [
      "\n",
      "epoch-26  lr=['0.0010000'], tr/val_loss:  0.303477/  1.645544, tr:  99.74%, val:  75.83%, val_best:  76.67%: 100%|██████████| 49/49 [00:11<00:00,  4.36it/s]"
     ]
    },
    {
     "name": "stdout",
     "output_type": "stream",
     "text": [
      "Domain loss,acc: 0.733465, 86.93% Target domain: tr_loss-2.453419, tr_acc-65.64%\n",
      "100,000c5dTruet10:75.83%:76.67% | 100,000c5dFalset10:58.75%:60.83%\n"
     ]
    },
    {
     "name": "stderr",
     "output_type": "stream",
     "text": [
      "\n",
      "epoch-27  lr=['0.0010000'], tr/val_loss:  0.270688/  1.680169, tr:  99.87%, val:  75.83%, val_best:  76.67%: 100%|██████████| 49/49 [00:10<00:00,  4.58it/s]"
     ]
    },
    {
     "name": "stdout",
     "output_type": "stream",
     "text": [
      "Domain loss,acc: 0.710213, 87.03% Target domain: tr_loss-2.468314, tr_acc-65.64%\n",
      "100,000c5dTruet10:75.83%:76.67% | 100,000c5dFalset10:55.42%:60.83%\n"
     ]
    },
    {
     "name": "stderr",
     "output_type": "stream",
     "text": [
      "\n",
      "epoch-28  lr=['0.0010000'], tr/val_loss:  0.253729/  1.683738, tr:  99.74%, val:  78.33%, val_best:  78.33%: 100%|██████████| 49/49 [00:11<00:00,  4.41it/s]"
     ]
    },
    {
     "name": "stdout",
     "output_type": "stream",
     "text": [
      "Domain loss,acc: 0.716126, 86.93% Target domain: tr_loss-2.565713, tr_acc-67.18%\n",
      "100,000c5dTruet10:78.33%:78.33% | 100,000c5dFalset10:60.83%:60.83%\n"
     ]
    },
    {
     "name": "stderr",
     "output_type": "stream",
     "text": [
      "\n",
      "epoch-29  lr=['0.0010000'], tr/val_loss:  0.226672/  1.707604, tr:  99.87%, val:  78.33%, val_best:  78.33%: 100%|██████████| 49/49 [00:10<00:00,  4.51it/s]"
     ]
    },
    {
     "name": "stdout",
     "output_type": "stream",
     "text": [
      "Domain loss,acc: 0.665337, 88.05% Target domain: tr_loss-2.419997, tr_acc-67.69%\n",
      "100,000c5dTruet10:78.33%:78.33% | 100,000c5dFalset10:60.83%:60.83%\n"
     ]
    },
    {
     "name": "stderr",
     "output_type": "stream",
     "text": [
      "\n",
      "epoch-30  lr=['0.0010000'], tr/val_loss:  0.217392/  1.746232, tr:  99.87%, val:  75.83%, val_best:  78.33%: 100%|██████████| 49/49 [00:10<00:00,  4.68it/s]"
     ]
    },
    {
     "name": "stdout",
     "output_type": "stream",
     "text": [
      "Domain loss,acc: 0.704266, 88.05% Target domain: tr_loss-2.651762, tr_acc-63.59%\n",
      "100,000c5dTruet10:75.83%:78.33% | 100,000c5dFalset10:62.50%:62.50%\n"
     ]
    },
    {
     "name": "stderr",
     "output_type": "stream",
     "text": [
      "\n",
      "epoch-31  lr=['0.0010000'], tr/val_loss:  0.200836/  1.762793, tr: 100.00%, val:  76.67%, val_best:  78.33%: 100%|██████████| 49/49 [00:10<00:00,  4.46it/s]"
     ]
    },
    {
     "name": "stdout",
     "output_type": "stream",
     "text": [
      "Domain loss,acc: 0.700239, 87.33% Target domain: tr_loss-2.697850, tr_acc-66.15%\n",
      "100,000c5dTruet10:76.67%:78.33% | 100,000c5dFalset10:58.75%:62.50%\n"
     ]
    },
    {
     "name": "stderr",
     "output_type": "stream",
     "text": [
      "\n",
      "epoch-32  lr=['0.0010000'], tr/val_loss:  0.174610/  1.775172, tr: 100.00%, val:  79.17%, val_best:  79.17%: 100%|██████████| 49/49 [00:10<00:00,  4.59it/s]"
     ]
    },
    {
     "name": "stdout",
     "output_type": "stream",
     "text": [
      "Domain loss,acc: 0.683097, 87.54% Target domain: tr_loss-2.717044, tr_acc-65.64%\n",
      "100,000c5dTruet10:79.17%:79.17% | 100,000c5dFalset10:58.75%:62.50%\n"
     ]
    },
    {
     "name": "stderr",
     "output_type": "stream",
     "text": [
      "\n",
      "epoch-33  lr=['0.0010000'], tr/val_loss:  0.157860/  1.791798, tr: 100.00%, val:  78.75%, val_best:  79.17%: 100%|██████████| 49/49 [00:10<00:00,  4.61it/s]"
     ]
    },
    {
     "name": "stdout",
     "output_type": "stream",
     "text": [
      "Domain loss,acc: 0.669592, 87.23% Target domain: tr_loss-2.716522, tr_acc-64.62%\n",
      "100,000c5dTruet10:78.75%:79.17% | 100,000c5dFalset10:59.58%:62.50%\n"
     ]
    },
    {
     "name": "stderr",
     "output_type": "stream",
     "text": [
      "\n",
      "epoch-34  lr=['0.0010000'], tr/val_loss:  0.154735/  1.863415, tr: 100.00%, val:  75.00%, val_best:  79.17%: 100%|██████████| 49/49 [00:10<00:00,  4.52it/s]"
     ]
    },
    {
     "name": "stdout",
     "output_type": "stream",
     "text": [
      "Domain loss,acc: 0.692383, 88.25% Target domain: tr_loss-2.842979, tr_acc-67.69%\n",
      "100,000c5dTruet10:75.00%:79.17% | 100,000c5dFalset10:62.50%:62.50%\n"
     ]
    },
    {
     "name": "stderr",
     "output_type": "stream",
     "text": [
      "\n",
      "epoch-35  lr=['0.0010000'], tr/val_loss:  0.144350/  1.810176, tr: 100.00%, val:  79.58%, val_best:  79.58%: 100%|██████████| 49/49 [00:10<00:00,  4.66it/s]"
     ]
    },
    {
     "name": "stdout",
     "output_type": "stream",
     "text": [
      "Domain loss,acc: 0.696346, 88.87% Target domain: tr_loss-2.904332, tr_acc-68.21%\n",
      "100,000c5dTruet10:79.58%:79.58% | 100,000c5dFalset10:62.92%:62.92%\n"
     ]
    },
    {
     "name": "stderr",
     "output_type": "stream",
     "text": [
      "\n",
      "epoch-36  lr=['0.0010000'], tr/val_loss:  0.129995/  1.866187, tr: 100.00%, val:  78.75%, val_best:  79.58%: 100%|██████████| 49/49 [00:10<00:00,  4.73it/s]"
     ]
    },
    {
     "name": "stdout",
     "output_type": "stream",
     "text": [
      "Domain loss,acc: 0.680293, 88.25% Target domain: tr_loss-2.881486, tr_acc-67.69%\n",
      "100,000c5dTruet10:78.75%:79.58% | 100,000c5dFalset10:58.75%:62.92%\n"
     ]
    },
    {
     "name": "stderr",
     "output_type": "stream",
     "text": [
      "\n",
      "epoch-37  lr=['0.0010000'], tr/val_loss:  0.117404/  1.901054, tr: 100.00%, val:  80.00%, val_best:  80.00%: 100%|██████████| 49/49 [00:10<00:00,  4.67it/s]"
     ]
    },
    {
     "name": "stdout",
     "output_type": "stream",
     "text": [
      "Domain loss,acc: 0.682067, 88.36% Target domain: tr_loss-2.940718, tr_acc-64.62%\n",
      "100,000c5dTruet10:80.00%:80.00% | 100,000c5dFalset10:64.58%:64.58%\n"
     ]
    },
    {
     "name": "stderr",
     "output_type": "stream",
     "text": [
      "\n",
      "epoch-38  lr=['0.0010000'], tr/val_loss:  0.111591/  1.890326, tr: 100.00%, val:  79.58%, val_best:  80.00%: 100%|██████████| 49/49 [00:10<00:00,  4.58it/s]"
     ]
    },
    {
     "name": "stdout",
     "output_type": "stream",
     "text": [
      "Domain loss,acc: 0.704849, 89.38% Target domain: tr_loss-3.077883, tr_acc-63.08%\n",
      "100,000c5dTruet10:79.58%:80.00% | 100,000c5dFalset10:63.75%:64.58%\n"
     ]
    },
    {
     "name": "stderr",
     "output_type": "stream",
     "text": [
      "\n",
      "epoch-39  lr=['0.0010000'], tr/val_loss:  0.099837/  1.921025, tr: 100.00%, val:  79.17%, val_best:  80.00%: 100%|██████████| 49/49 [00:10<00:00,  4.66it/s]"
     ]
    },
    {
     "name": "stdout",
     "output_type": "stream",
     "text": [
      "Domain loss,acc: 0.657315, 89.07% Target domain: tr_loss-2.887226, tr_acc-68.72%\n",
      "100,000c5dTruet10:79.17%:80.00% | 100,000c5dFalset10:61.25%:64.58%\n"
     ]
    },
    {
     "name": "stderr",
     "output_type": "stream",
     "text": [
      "\n",
      "epoch-40  lr=['0.0010000'], tr/val_loss:  0.095818/  1.946621, tr: 100.00%, val:  79.17%, val_best:  80.00%: 100%|██████████| 49/49 [00:10<00:00,  4.51it/s]"
     ]
    },
    {
     "name": "stdout",
     "output_type": "stream",
     "text": [
      "Domain loss,acc: 0.659005, 88.87% Target domain: tr_loss-2.911752, tr_acc-64.62%\n",
      "100,000c5dTruet10:79.17%:80.00% | 100,000c5dFalset10:59.58%:64.58%\n"
     ]
    },
    {
     "name": "stderr",
     "output_type": "stream",
     "text": [
      "\n",
      "epoch-41  lr=['0.0010000'], tr/val_loss:  0.088580/  1.982157, tr: 100.00%, val:  78.33%, val_best:  80.00%: 100%|██████████| 49/49 [00:10<00:00,  4.47it/s]"
     ]
    },
    {
     "name": "stdout",
     "output_type": "stream",
     "text": [
      "Domain loss,acc: 0.657100, 89.89% Target domain: tr_loss-2.931177, tr_acc-68.21%\n",
      "100,000c5dTruet10:78.33%:80.00% | 100,000c5dFalset10:61.25%:64.58%\n"
     ]
    },
    {
     "name": "stderr",
     "output_type": "stream",
     "text": [
      "\n",
      "epoch-42  lr=['0.0010000'], tr/val_loss:  0.082071/  2.012244, tr: 100.00%, val:  78.75%, val_best:  80.00%: 100%|██████████| 49/49 [00:11<00:00,  4.42it/s]"
     ]
    },
    {
     "name": "stdout",
     "output_type": "stream",
     "text": [
      "Domain loss,acc: 0.660650, 88.66% Target domain: tr_loss-2.974965, tr_acc-66.15%\n",
      "100,000c5dTruet10:78.75%:80.00% | 100,000c5dFalset10:61.25%:64.58%\n"
     ]
    },
    {
     "name": "stderr",
     "output_type": "stream",
     "text": [
      "\n",
      "epoch-43  lr=['0.0010000'], tr/val_loss:  0.076169/  1.994948, tr: 100.00%, val:  80.83%, val_best:  80.83%: 100%|██████████| 49/49 [00:11<00:00,  4.42it/s]"
     ]
    },
    {
     "name": "stdout",
     "output_type": "stream",
     "text": [
      "Domain loss,acc: 0.671073, 89.58% Target domain: tr_loss-3.050684, tr_acc-65.64%\n",
      "100,000c5dTruet10:80.83%:80.83% | 100,000c5dFalset10:62.92%:64.58%\n"
     ]
    },
    {
     "name": "stderr",
     "output_type": "stream",
     "text": [
      "\n",
      "epoch-44  lr=['0.0010000'], tr/val_loss:  0.073410/  2.013182, tr: 100.00%, val:  78.33%, val_best:  80.83%: 100%|██████████| 49/49 [00:11<00:00,  4.42it/s]"
     ]
    },
    {
     "name": "stdout",
     "output_type": "stream",
     "text": [
      "Domain loss,acc: 0.687269, 89.07% Target domain: tr_loss-3.142705, tr_acc-67.18%\n",
      "100,000c5dTruet10:78.33%:80.83% | 100,000c5dFalset10:62.50%:64.58%\n"
     ]
    },
    {
     "name": "stderr",
     "output_type": "stream",
     "text": [
      "\n",
      "epoch-45  lr=['0.0010000'], tr/val_loss:  0.064607/  2.045718, tr: 100.00%, val:  80.00%, val_best:  80.83%: 100%|██████████| 49/49 [00:10<00:00,  1.06s/it]"
     ]
    },
    {
     "name": "stdout",
     "output_type": "stream",
     "text": [
      "Domain loss,acc: 0.660029, 89.68% Target domain: tr_loss-3.041717, tr_acc-66.15%\n",
      "100,000c5dTruet10:80.00%:80.83% | 100,000c5dFalset10:61.67%:64.58%\n"
     ]
    },
    {
     "name": "stderr",
     "output_type": "stream",
     "text": [
      "epoch-45  lr=['0.0010000'], tr/val_loss:  0.064607/  2.045718, tr: 100.00%, val:  80.00%, val_best:  80.83%: 100%|██████████| 49/49 [00:11<00:00,  4.41it/s]\n",
      "epoch-46  lr=['0.0010000'], tr/val_loss:  0.061482/  2.075411, tr: 100.00%, val:  79.58%, val_best:  80.83%: 100%|██████████| 49/49 [00:10<00:00,  4.49it/s]"
     ]
    },
    {
     "name": "stdout",
     "output_type": "stream",
     "text": [
      "Domain loss,acc: 0.652141, 90.09% Target domain: tr_loss-3.014778, tr_acc-68.21%\n",
      "100,000c5dTruet10:79.58%:80.83% | 100,000c5dFalset10:61.67%:64.58%\n"
     ]
    },
    {
     "name": "stderr",
     "output_type": "stream",
     "text": [
      "\n",
      "epoch-47  lr=['0.0010000'], tr/val_loss:  0.059976/  2.074858, tr: 100.00%, val:  79.17%, val_best:  80.83%: 100%|██████████| 49/49 [00:10<00:00,  4.50it/s]"
     ]
    },
    {
     "name": "stdout",
     "output_type": "stream",
     "text": [
      "Domain loss,acc: 0.662479, 90.40% Target domain: tr_loss-3.072492, tr_acc-67.18%\n",
      "100,000c5dTruet10:79.17%:80.83% | 100,000c5dFalset10:62.08%:64.58%\n"
     ]
    },
    {
     "name": "stderr",
     "output_type": "stream",
     "text": [
      "\n",
      "epoch-48  lr=['0.0010000'], tr/val_loss:  0.056221/  2.139018, tr: 100.00%, val:  78.33%, val_best:  80.83%: 100%|██████████| 49/49 [00:11<00:00,  4.25it/s]"
     ]
    },
    {
     "name": "stdout",
     "output_type": "stream",
     "text": [
      "Domain loss,acc: 0.680145, 90.09% Target domain: tr_loss-3.175843, tr_acc-67.69%\n",
      "100,000c5dTruet10:78.33%:80.83% | 100,000c5dFalset10:62.50%:64.58%\n"
     ]
    },
    {
     "name": "stderr",
     "output_type": "stream",
     "text": [
      "\n",
      "epoch-49  lr=['0.0010000'], tr/val_loss:  0.055934/  2.141086, tr: 100.00%, val:  78.75%, val_best:  80.83%: 100%|██████████| 49/49 [00:11<00:00,  4.38it/s]"
     ]
    },
    {
     "name": "stdout",
     "output_type": "stream",
     "text": [
      "Domain loss,acc: 0.678949, 90.40% Target domain: tr_loss-3.171010, tr_acc-65.13%\n",
      "100,000c5dTruet10:78.75%:80.83% | 100,000c5dFalset10:60.42%:64.58%\n"
     ]
    },
    {
     "name": "stderr",
     "output_type": "stream",
     "text": [
      "\n",
      "epoch-50  lr=['0.0010000'], tr/val_loss:  0.051876/  2.145279, tr: 100.00%, val:  78.75%, val_best:  80.83%: 100%|██████████| 49/49 [00:11<00:00,  4.39it/s]"
     ]
    },
    {
     "name": "stdout",
     "output_type": "stream",
     "text": [
      "Domain loss,acc: 0.660039, 90.09% Target domain: tr_loss-3.092691, tr_acc-65.13%\n",
      "100,000c5dTruet10:78.75%:80.83% | 100,000c5dFalset10:60.83%:64.58%\n"
     ]
    },
    {
     "name": "stderr",
     "output_type": "stream",
     "text": [
      "\n",
      "epoch-51  lr=['0.0010000'], tr/val_loss:  0.046255/  2.138069, tr: 100.00%, val:  79.17%, val_best:  80.83%: 100%|██████████| 49/49 [00:11<00:00,  4.37it/s]"
     ]
    },
    {
     "name": "stdout",
     "output_type": "stream",
     "text": [
      "Domain loss,acc: 0.685257, 91.11% Target domain: tr_loss-3.241265, tr_acc-67.69%\n",
      "100,000c5dTruet10:79.17%:80.83% | 100,000c5dFalset10:61.67%:64.58%\n"
     ]
    },
    {
     "name": "stderr",
     "output_type": "stream",
     "text": [
      "\n",
      "epoch-52  lr=['0.0010000'], tr/val_loss:  0.046727/  2.171662, tr: 100.00%, val:  77.50%, val_best:  80.83%: 100%|██████████| 49/49 [00:10<00:00,  4.51it/s]"
     ]
    },
    {
     "name": "stdout",
     "output_type": "stream",
     "text": [
      "Domain loss,acc: 0.658974, 90.91% Target domain: tr_loss-3.107961, tr_acc-66.15%\n",
      "100,000c5dTruet10:77.50%:80.83% | 100,000c5dFalset10:62.08%:64.58%\n"
     ]
    },
    {
     "name": "stderr",
     "output_type": "stream",
     "text": [
      "\n",
      "epoch-53  lr=['0.0010000'], tr/val_loss:  0.042986/  2.185612, tr: 100.00%, val:  79.17%, val_best:  80.83%: 100%|██████████| 49/49 [00:10<00:00,  4.60it/s]"
     ]
    },
    {
     "name": "stdout",
     "output_type": "stream",
     "text": [
      "Domain loss,acc: 0.707283, 91.73% Target domain: tr_loss-3.364469, tr_acc-69.23%\n",
      "100,000c5dTruet10:79.17%:80.83% | 100,000c5dFalset10:62.50%:64.58%\n"
     ]
    },
    {
     "name": "stderr",
     "output_type": "stream",
     "text": [
      "\n",
      "epoch-54  lr=['0.0010000'], tr/val_loss:  0.040828/  2.185911, tr: 100.00%, val:  77.92%, val_best:  80.83%: 100%|██████████| 49/49 [00:10<00:00,  4.70it/s]"
     ]
    },
    {
     "name": "stdout",
     "output_type": "stream",
     "text": [
      "Domain loss,acc: 0.744942, 90.60% Target domain: tr_loss-3.561397, tr_acc-67.69%\n",
      "100,000c5dTruet10:77.92%:80.83% | 100,000c5dFalset10:59.58%:64.58%\n"
     ]
    },
    {
     "name": "stderr",
     "output_type": "stream",
     "text": [
      "\n",
      "epoch-55  lr=['0.0010000'], tr/val_loss:  0.040366/  2.186555, tr: 100.00%, val:  79.17%, val_best:  80.83%: 100%|██████████| 49/49 [00:10<00:00,  4.46it/s]"
     ]
    },
    {
     "name": "stdout",
     "output_type": "stream",
     "text": [
      "Domain loss,acc: 0.679862, 91.42% Target domain: tr_loss-3.237844, tr_acc-66.67%\n",
      "100,000c5dTruet10:79.17%:80.83% | 100,000c5dFalset10:61.67%:64.58%\n"
     ]
    },
    {
     "name": "stderr",
     "output_type": "stream",
     "text": [
      "\n",
      "epoch-56  lr=['0.0010000'], tr/val_loss:  0.036929/  2.224626, tr: 100.00%, val:  77.50%, val_best:  80.83%: 100%|██████████| 49/49 [00:11<00:00,  4.43it/s]"
     ]
    },
    {
     "name": "stdout",
     "output_type": "stream",
     "text": [
      "Domain loss,acc: 0.713551, 91.01% Target domain: tr_loss-3.420039, tr_acc-66.15%\n",
      "100,000c5dTruet10:77.50%:80.83% | 100,000c5dFalset10:60.00%:64.58%\n"
     ]
    },
    {
     "name": "stderr",
     "output_type": "stream",
     "text": [
      "\n",
      "epoch-57  lr=['0.0010000'], tr/val_loss:  0.035841/  2.212155, tr: 100.00%, val:  78.33%, val_best:  80.83%: 100%|██████████| 49/49 [00:11<00:00,  4.43it/s]"
     ]
    },
    {
     "name": "stdout",
     "output_type": "stream",
     "text": [
      "Domain loss,acc: 0.679906, 91.42% Target domain: tr_loss-3.256168, tr_acc-67.69%\n",
      "100,000c5dTruet10:78.33%:80.83% | 100,000c5dFalset10:59.58%:64.58%\n"
     ]
    },
    {
     "name": "stderr",
     "output_type": "stream",
     "text": [
      "\n",
      "epoch-58  lr=['0.0010000'], tr/val_loss:  0.033042/  2.226292, tr: 100.00%, val:  78.75%, val_best:  80.83%: 100%|██████████| 49/49 [00:10<00:00,  4.46it/s]"
     ]
    },
    {
     "name": "stdout",
     "output_type": "stream",
     "text": [
      "Domain loss,acc: 0.730892, 91.42% Target domain: tr_loss-3.522291, tr_acc-66.15%\n",
      "100,000c5dTruet10:78.75%:80.83% | 100,000c5dFalset10:60.83%:64.58%\n"
     ]
    },
    {
     "name": "stderr",
     "output_type": "stream",
     "text": [
      "\n",
      "epoch-59  lr=['0.0010000'], tr/val_loss:  0.031483/  2.230315, tr: 100.00%, val:  79.17%, val_best:  80.83%: 100%|██████████| 49/49 [00:10<00:00,  4.49it/s]"
     ]
    },
    {
     "name": "stdout",
     "output_type": "stream",
     "text": [
      "Domain loss,acc: 0.671840, 91.22% Target domain: tr_loss-3.233267, tr_acc-67.18%\n",
      "100,000c5dTruet10:79.17%:80.83% | 100,000c5dFalset10:62.92%:64.58%\n"
     ]
    },
    {
     "name": "stderr",
     "output_type": "stream",
     "text": [
      "\n",
      "epoch-60  lr=['0.0010000'], tr/val_loss:  0.031985/  2.251173, tr: 100.00%, val:  78.75%, val_best:  80.83%: 100%|██████████| 49/49 [00:11<00:00,  4.44it/s]"
     ]
    },
    {
     "name": "stdout",
     "output_type": "stream",
     "text": [
      "Domain loss,acc: 0.708714, 91.73% Target domain: tr_loss-3.415627, tr_acc-68.21%\n",
      "100,000c5dTruet10:78.75%:80.83% | 100,000c5dFalset10:61.25%:64.58%\n"
     ]
    },
    {
     "name": "stderr",
     "output_type": "stream",
     "text": [
      "\n",
      "epoch-61  lr=['0.0010000'], tr/val_loss:  0.034492/  2.281676, tr: 100.00%, val:  77.08%, val_best:  80.83%: 100%|██████████| 49/49 [00:11<00:00,  4.44it/s]"
     ]
    },
    {
     "name": "stdout",
     "output_type": "stream",
     "text": [
      "Domain loss,acc: 0.691349, 91.22% Target domain: tr_loss-3.318780, tr_acc-67.18%\n",
      "100,000c5dTruet10:77.08%:80.83% | 100,000c5dFalset10:61.67%:64.58%\n"
     ]
    },
    {
     "name": "stderr",
     "output_type": "stream",
     "text": [
      "\n",
      "epoch-62  lr=['0.0010000'], tr/val_loss:  0.030908/  2.296236, tr: 100.00%, val:  80.00%, val_best:  80.83%: 100%|██████████| 49/49 [00:11<00:00,  4.36it/s]"
     ]
    },
    {
     "name": "stdout",
     "output_type": "stream",
     "text": [
      "Domain loss,acc: 0.707406, 92.44% Target domain: tr_loss-3.413400, tr_acc-67.18%\n",
      "100,000c5dTruet10:80.00%:80.83% | 100,000c5dFalset10:60.83%:64.58%\n"
     ]
    },
    {
     "name": "stderr",
     "output_type": "stream",
     "text": [
      "\n",
      "epoch-63  lr=['0.0010000'], tr/val_loss:  0.030465/  2.289913, tr: 100.00%, val:  79.17%, val_best:  80.83%: 100%|██████████| 49/49 [00:10<00:00,  4.48it/s]"
     ]
    },
    {
     "name": "stdout",
     "output_type": "stream",
     "text": [
      "Domain loss,acc: 0.685919, 91.93% Target domain: tr_loss-3.307734, tr_acc-66.15%\n",
      "100,000c5dTruet10:79.17%:80.83% | 100,000c5dFalset10:61.25%:64.58%\n"
     ]
    },
    {
     "name": "stderr",
     "output_type": "stream",
     "text": [
      "\n",
      "epoch-64  lr=['0.0010000'], tr/val_loss:  0.030294/  2.328032, tr: 100.00%, val:  80.42%, val_best:  80.83%: 100%|██████████| 49/49 [00:11<00:00,  4.43it/s]"
     ]
    },
    {
     "name": "stdout",
     "output_type": "stream",
     "text": [
      "Domain loss,acc: 0.684031, 91.93% Target domain: tr_loss-3.298978, tr_acc-67.69%\n",
      "100,000c5dTruet10:80.42%:80.83% | 100,000c5dFalset10:61.67%:64.58%\n"
     ]
    },
    {
     "name": "stderr",
     "output_type": "stream",
     "text": [
      "\n",
      "epoch-65  lr=['0.0010000'], tr/val_loss:  0.027019/  2.325477, tr: 100.00%, val:  79.58%, val_best:  80.83%: 100%|██████████| 49/49 [00:11<00:00,  4.43it/s]"
     ]
    },
    {
     "name": "stdout",
     "output_type": "stream",
     "text": [
      "Domain loss,acc: 0.692721, 92.75% Target domain: tr_loss-3.355530, tr_acc-67.18%\n",
      "100,000c5dTruet10:79.58%:80.83% | 100,000c5dFalset10:61.25%:64.58%\n"
     ]
    },
    {
     "name": "stderr",
     "output_type": "stream",
     "text": [
      "\n",
      "epoch-66  lr=['0.0010000'], tr/val_loss:  0.027568/  2.360494, tr: 100.00%, val:  78.75%, val_best:  80.83%: 100%|██████████| 49/49 [00:11<00:00,  4.44it/s]"
     ]
    },
    {
     "name": "stdout",
     "output_type": "stream",
     "text": [
      "Domain loss,acc: 0.705678, 92.24% Target domain: tr_loss-3.418121, tr_acc-68.21%\n",
      "100,000c5dTruet10:78.75%:80.83% | 100,000c5dFalset10:59.58%:64.58%\n"
     ]
    },
    {
     "name": "stderr",
     "output_type": "stream",
     "text": [
      "\n",
      "epoch-67  lr=['0.0010000'], tr/val_loss:  0.025541/  2.354641, tr: 100.00%, val:  78.75%, val_best:  80.83%: 100%|██████████| 49/49 [00:11<00:00,  4.40it/s]"
     ]
    },
    {
     "name": "stdout",
     "output_type": "stream",
     "text": [
      "Domain loss,acc: 0.714746, 93.36% Target domain: tr_loss-3.471565, tr_acc-67.18%\n",
      "100,000c5dTruet10:78.75%:80.83% | 100,000c5dFalset10:60.42%:64.58%\n"
     ]
    },
    {
     "name": "stderr",
     "output_type": "stream",
     "text": [
      "\n",
      "epoch-68  lr=['0.0010000'], tr/val_loss:  0.024957/  2.355579, tr: 100.00%, val:  79.17%, val_best:  80.83%: 100%|██████████| 49/49 [00:11<00:00,  4.44it/s]"
     ]
    },
    {
     "name": "stdout",
     "output_type": "stream",
     "text": [
      "Domain loss,acc: 0.772809, 93.36% Target domain: tr_loss-3.764216, tr_acc-66.15%\n",
      "100,000c5dTruet10:79.17%:80.83% | 100,000c5dFalset10:59.58%:64.58%\n"
     ]
    },
    {
     "name": "stderr",
     "output_type": "stream",
     "text": [
      "\n",
      "epoch-69  lr=['0.0010000'], tr/val_loss:  0.023356/  2.368163, tr: 100.00%, val:  78.75%, val_best:  80.83%: 100%|██████████| 49/49 [00:11<00:00,  4.41it/s]"
     ]
    },
    {
     "name": "stdout",
     "output_type": "stream",
     "text": [
      "Domain loss,acc: 0.701550, 93.67% Target domain: tr_loss-3.414325, tr_acc-68.21%\n",
      "100,000c5dTruet10:78.75%:80.83% | 100,000c5dFalset10:60.83%:64.58%\n"
     ]
    },
    {
     "name": "stderr",
     "output_type": "stream",
     "text": [
      "\n",
      "epoch-70  lr=['0.0010000'], tr/val_loss:  0.023384/  2.390101, tr: 100.00%, val:  79.17%, val_best:  80.83%: 100%|██████████| 49/49 [00:10<00:00,  4.73it/s]"
     ]
    },
    {
     "name": "stdout",
     "output_type": "stream",
     "text": [
      "Domain loss,acc: 0.684550, 93.36% Target domain: tr_loss-3.329214, tr_acc-65.64%\n",
      "100,000c5dTruet10:79.17%:80.83% | 100,000c5dFalset10:61.25%:64.58%\n"
     ]
    },
    {
     "name": "stderr",
     "output_type": "stream",
     "text": [
      "\n",
      "epoch-71  lr=['0.0010000'], tr/val_loss:  0.022362/  2.388216, tr: 100.00%, val:  79.17%, val_best:  80.83%: 100%|██████████| 49/49 [00:10<00:00,  4.72it/s]"
     ]
    },
    {
     "name": "stdout",
     "output_type": "stream",
     "text": [
      "Domain loss,acc: 0.754957, 92.95% Target domain: tr_loss-3.685338, tr_acc-65.64%\n",
      "100,000c5dTruet10:79.17%:80.83% | 100,000c5dFalset10:61.25%:64.58%\n"
     ]
    },
    {
     "name": "stderr",
     "output_type": "stream",
     "text": [
      "\n",
      "epoch-72  lr=['0.0010000'], tr/val_loss:  0.021724/  2.383136, tr: 100.00%, val:  80.00%, val_best:  80.83%: 100%|██████████| 49/49 [00:11<00:00,  4.44it/s]"
     ]
    },
    {
     "name": "stdout",
     "output_type": "stream",
     "text": [
      "Domain loss,acc: 0.690874, 93.77% Target domain: tr_loss-3.367474, tr_acc-67.18%\n",
      "100,000c5dTruet10:80.00%:80.83% | 100,000c5dFalset10:62.92%:64.58%\n"
     ]
    },
    {
     "name": "stderr",
     "output_type": "stream",
     "text": [
      "\n",
      "epoch-73  lr=['0.0010000'], tr/val_loss:  0.020684/  2.380575, tr: 100.00%, val:  79.17%, val_best:  80.83%: 100%|██████████| 49/49 [00:10<00:00,  4.53it/s]"
     ]
    },
    {
     "name": "stdout",
     "output_type": "stream",
     "text": [
      "Domain loss,acc: 0.717652, 93.05% Target domain: tr_loss-3.505523, tr_acc-65.64%\n",
      "100,000c5dTruet10:79.17%:80.83% | 100,000c5dFalset10:61.67%:64.58%\n"
     ]
    },
    {
     "name": "stderr",
     "output_type": "stream",
     "text": [
      "\n",
      "epoch-74  lr=['0.0010000'], tr/val_loss:  0.020695/  2.392220, tr: 100.00%, val:  80.00%, val_best:  80.83%: 100%|██████████| 49/49 [00:10<00:00,  4.55it/s]"
     ]
    },
    {
     "name": "stdout",
     "output_type": "stream",
     "text": [
      "Domain loss,acc: 0.718191, 93.26% Target domain: tr_loss-3.508178, tr_acc-65.64%\n",
      "100,000c5dTruet10:80.00%:80.83% | 100,000c5dFalset10:61.25%:64.58%\n"
     ]
    },
    {
     "name": "stderr",
     "output_type": "stream",
     "text": [
      "\n",
      "epoch-75  lr=['0.0010000'], tr/val_loss:  0.020017/  2.401750, tr: 100.00%, val:  79.17%, val_best:  80.83%: 100%|██████████| 49/49 [00:11<00:00,  4.41it/s]"
     ]
    },
    {
     "name": "stdout",
     "output_type": "stream",
     "text": [
      "Domain loss,acc: 0.727340, 93.87% Target domain: tr_loss-3.556629, tr_acc-67.18%\n",
      "100,000c5dTruet10:79.17%:80.83% | 100,000c5dFalset10:62.50%:64.58%\n"
     ]
    },
    {
     "name": "stderr",
     "output_type": "stream",
     "text": [
      "\n",
      "epoch-76  lr=['0.0010000'], tr/val_loss:  0.019277/  2.394586, tr: 100.00%, val:  80.00%, val_best:  80.83%: 100%|██████████| 49/49 [00:11<00:00,  4.30it/s]"
     ]
    },
    {
     "name": "stdout",
     "output_type": "stream",
     "text": [
      "Domain loss,acc: 0.718107, 93.26% Target domain: tr_loss-3.513426, tr_acc-64.62%\n",
      "100,000c5dTruet10:80.00%:80.83% | 100,000c5dFalset10:62.08%:64.58%\n"
     ]
    },
    {
     "name": "stderr",
     "output_type": "stream",
     "text": [
      "\n",
      "epoch-77  lr=['0.0010000'], tr/val_loss:  0.019468/  2.413029, tr: 100.00%, val:  79.58%, val_best:  80.83%: 100%|██████████| 49/49 [00:11<00:00,  4.27it/s]"
     ]
    },
    {
     "name": "stdout",
     "output_type": "stream",
     "text": [
      "Domain loss,acc: 0.734123, 94.48% Target domain: tr_loss-3.592744, tr_acc-66.15%\n",
      "100,000c5dTruet10:79.58%:80.83% | 100,000c5dFalset10:62.08%:64.58%\n"
     ]
    },
    {
     "name": "stderr",
     "output_type": "stream",
     "text": [
      "\n",
      "epoch-78  lr=['0.0010000'], tr/val_loss:  0.017895/  2.424239, tr: 100.00%, val:  79.58%, val_best:  80.83%: 100%|██████████| 49/49 [00:11<00:00,  4.41it/s]"
     ]
    },
    {
     "name": "stdout",
     "output_type": "stream",
     "text": [
      "Domain loss,acc: 0.749265, 94.48% Target domain: tr_loss-3.674747, tr_acc-65.13%\n",
      "100,000c5dTruet10:79.58%:80.83% | 100,000c5dFalset10:62.50%:64.58%\n"
     ]
    },
    {
     "name": "stderr",
     "output_type": "stream",
     "text": [
      "\n",
      "epoch-79  lr=['0.0010000'], tr/val_loss:  0.018062/  2.454486, tr: 100.00%, val:  80.00%, val_best:  80.83%: 100%|██████████| 49/49 [00:10<00:00,  4.51it/s]"
     ]
    },
    {
     "name": "stdout",
     "output_type": "stream",
     "text": [
      "Domain loss,acc: 0.723417, 93.87% Target domain: tr_loss-3.544838, tr_acc-67.18%\n",
      "100,000c5dTruet10:80.00%:80.83% | 100,000c5dFalset10:63.33%:64.58%\n"
     ]
    },
    {
     "name": "stderr",
     "output_type": "stream",
     "text": [
      "\n",
      "epoch-80  lr=['0.0010000'], tr/val_loss:  0.018657/  2.454844, tr: 100.00%, val:  79.58%, val_best:  80.83%: 100%|██████████| 49/49 [00:11<00:00,  4.44it/s]"
     ]
    },
    {
     "name": "stdout",
     "output_type": "stream",
     "text": [
      "Domain loss,acc: 0.769247, 94.69% Target domain: tr_loss-3.771608, tr_acc-65.64%\n",
      "100,000c5dTruet10:79.58%:80.83% | 100,000c5dFalset10:63.33%:64.58%\n"
     ]
    },
    {
     "name": "stderr",
     "output_type": "stream",
     "text": [
      "\n",
      "epoch-81  lr=['0.0010000'], tr/val_loss:  0.018414/  2.468588, tr: 100.00%, val:  79.17%, val_best:  80.83%: 100%|██████████| 49/49 [00:11<00:00,  4.29it/s]"
     ]
    },
    {
     "name": "stdout",
     "output_type": "stream",
     "text": [
      "Domain loss,acc: 0.742714, 95.10% Target domain: tr_loss-3.639917, tr_acc-66.15%\n",
      "100,000c5dTruet10:79.17%:80.83% | 100,000c5dFalset10:62.92%:64.58%\n"
     ]
    },
    {
     "name": "stderr",
     "output_type": "stream",
     "text": [
      "\n",
      "epoch-82  lr=['0.0010000'], tr/val_loss:  0.017413/  2.491409, tr: 100.00%, val:  79.58%, val_best:  80.83%: 100%|██████████| 49/49 [00:11<00:00,  4.41it/s]"
     ]
    },
    {
     "name": "stdout",
     "output_type": "stream",
     "text": [
      "Domain loss,acc: 0.723181, 94.79% Target domain: tr_loss-3.546252, tr_acc-67.18%\n",
      "100,000c5dTruet10:79.58%:80.83% | 100,000c5dFalset10:62.50%:64.58%\n"
     ]
    },
    {
     "name": "stderr",
     "output_type": "stream",
     "text": [
      "\n",
      "epoch-83  lr=['0.0010000'], tr/val_loss:  0.018250/  2.490766, tr: 100.00%, val:  79.58%, val_best:  80.83%: 100%|██████████| 49/49 [00:11<00:00,  4.39it/s]"
     ]
    },
    {
     "name": "stdout",
     "output_type": "stream",
     "text": [
      "Domain loss,acc: 0.723155, 95.61% Target domain: tr_loss-3.542773, tr_acc-64.62%\n",
      "100,000c5dTruet10:79.58%:80.83% | 100,000c5dFalset10:62.50%:64.58%\n"
     ]
    },
    {
     "name": "stderr",
     "output_type": "stream",
     "text": [
      "\n",
      "epoch-84  lr=['0.0010000'], tr/val_loss:  0.016733/  2.502014, tr: 100.00%, val:  78.33%, val_best:  80.83%: 100%|██████████| 49/49 [00:10<00:00,  4.50it/s]"
     ]
    },
    {
     "name": "stdout",
     "output_type": "stream",
     "text": [
      "Domain loss,acc: 0.756024, 94.48% Target domain: tr_loss-3.713187, tr_acc-65.13%\n",
      "100,000c5dTruet10:78.33%:80.83% | 100,000c5dFalset10:62.50%:64.58%\n"
     ]
    },
    {
     "name": "stderr",
     "output_type": "stream",
     "text": [
      "\n",
      "epoch-85  lr=['0.0010000'], tr/val_loss:  0.015487/  2.501357, tr: 100.00%, val:  78.75%, val_best:  80.83%: 100%|██████████| 49/49 [00:11<00:00,  4.40it/s]"
     ]
    },
    {
     "name": "stdout",
     "output_type": "stream",
     "text": [
      "Domain loss,acc: 0.753535, 95.30% Target domain: tr_loss-3.705726, tr_acc-65.13%\n",
      "100,000c5dTruet10:78.75%:80.83% | 100,000c5dFalset10:62.08%:64.58%\n"
     ]
    },
    {
     "name": "stderr",
     "output_type": "stream",
     "text": [
      "\n",
      "epoch-86  lr=['0.0010000'], tr/val_loss:  0.014987/  2.497243, tr: 100.00%, val:  80.42%, val_best:  80.83%: 100%|██████████| 49/49 [00:10<00:00,  4.55it/s]"
     ]
    },
    {
     "name": "stdout",
     "output_type": "stream",
     "text": [
      "Domain loss,acc: 0.750613, 95.51% Target domain: tr_loss-3.693118, tr_acc-65.13%\n",
      "100,000c5dTruet10:80.42%:80.83% | 100,000c5dFalset10:62.50%:64.58%\n"
     ]
    },
    {
     "name": "stderr",
     "output_type": "stream",
     "text": [
      "\n",
      "epoch-87  lr=['0.0010000'], tr/val_loss:  0.015912/  2.512302, tr: 100.00%, val:  79.17%, val_best:  80.83%: 100%|██████████| 49/49 [00:10<00:00,  4.68it/s]"
     ]
    },
    {
     "name": "stdout",
     "output_type": "stream",
     "text": [
      "Domain loss,acc: 0.746554, 95.20% Target domain: tr_loss-3.669124, tr_acc-65.64%\n",
      "100,000c5dTruet10:79.17%:80.83% | 100,000c5dFalset10:62.50%:64.58%\n"
     ]
    },
    {
     "name": "stderr",
     "output_type": "stream",
     "text": [
      "\n",
      "epoch-88  lr=['0.0010000'], tr/val_loss:  0.014036/  2.508580, tr: 100.00%, val:  80.42%, val_best:  80.83%: 100%|██████████| 49/49 [00:10<00:00,  4.80it/s]"
     ]
    },
    {
     "name": "stdout",
     "output_type": "stream",
     "text": [
      "Domain loss,acc: 0.726686, 95.81% Target domain: tr_loss-3.577290, tr_acc-65.13%\n",
      "100,000c5dTruet10:80.42%:80.83% | 100,000c5dFalset10:61.67%:64.58%\n"
     ]
    },
    {
     "name": "stderr",
     "output_type": "stream",
     "text": [
      "\n",
      "epoch-89  lr=['0.0010000'], tr/val_loss:  0.013736/  2.527871, tr: 100.00%, val:  79.17%, val_best:  80.83%: 100%|██████████| 49/49 [00:10<00:00,  4.56it/s]"
     ]
    },
    {
     "name": "stdout",
     "output_type": "stream",
     "text": [
      "Domain loss,acc: 0.714403, 96.02% Target domain: tr_loss-3.517074, tr_acc-64.62%\n",
      "100,000c5dTruet10:79.17%:80.83% | 100,000c5dFalset10:61.25%:64.58%\n"
     ]
    },
    {
     "name": "stderr",
     "output_type": "stream",
     "text": [
      "\n",
      "epoch-90  lr=['0.0010000'], tr/val_loss:  0.014331/  2.527823, tr: 100.00%, val:  80.00%, val_best:  80.83%: 100%|██████████| 49/49 [00:10<00:00,  4.53it/s]"
     ]
    },
    {
     "name": "stdout",
     "output_type": "stream",
     "text": [
      "Domain loss,acc: 0.753045, 96.32% Target domain: tr_loss-3.707900, tr_acc-66.15%\n",
      "100,000c5dTruet10:80.00%:80.83% | 100,000c5dFalset10:61.67%:64.58%\n"
     ]
    },
    {
     "name": "stderr",
     "output_type": "stream",
     "text": [
      "\n",
      "epoch-91  lr=['0.0010000'], tr/val_loss:  0.013223/  2.543167, tr: 100.00%, val:  80.00%, val_best:  80.83%: 100%|██████████| 49/49 [00:10<00:00,  4.47it/s]"
     ]
    },
    {
     "name": "stdout",
     "output_type": "stream",
     "text": [
      "Domain loss,acc: 0.768554, 95.20% Target domain: tr_loss-3.789878, tr_acc-65.13%\n",
      "100,000c5dTruet10:80.00%:80.83% | 100,000c5dFalset10:62.08%:64.58%\n"
     ]
    },
    {
     "name": "stderr",
     "output_type": "stream",
     "text": [
      "\n",
      "epoch-92  lr=['0.0010000'], tr/val_loss:  0.013350/  2.537070, tr: 100.00%, val:  79.58%, val_best:  80.83%: 100%|██████████| 49/49 [00:11<00:00,  4.43it/s]"
     ]
    },
    {
     "name": "stdout",
     "output_type": "stream",
     "text": [
      "Domain loss,acc: 0.737122, 96.42% Target domain: tr_loss-3.632212, tr_acc-66.15%\n",
      "100,000c5dTruet10:79.58%:80.83% | 100,000c5dFalset10:62.50%:64.58%\n"
     ]
    },
    {
     "name": "stderr",
     "output_type": "stream",
     "text": [
      "\n",
      "epoch-93  lr=['0.0010000'], tr/val_loss:  0.013340/  2.548020, tr: 100.00%, val:  79.58%, val_best:  80.83%: 100%|██████████| 49/49 [00:10<00:00,  4.53it/s]"
     ]
    },
    {
     "name": "stdout",
     "output_type": "stream",
     "text": [
      "Domain loss,acc: 0.745382, 95.71% Target domain: tr_loss-3.673548, tr_acc-65.13%\n",
      "100,000c5dTruet10:79.58%:80.83% | 100,000c5dFalset10:62.08%:64.58%\n"
     ]
    },
    {
     "name": "stderr",
     "output_type": "stream",
     "text": [
      "\n",
      "epoch-94  lr=['0.0010000'], tr/val_loss:  0.014001/  2.537926, tr: 100.00%, val:  80.00%, val_best:  80.83%: 100%|██████████| 49/49 [00:10<00:00,  4.76it/s]"
     ]
    },
    {
     "name": "stdout",
     "output_type": "stream",
     "text": [
      "Domain loss,acc: 0.741372, 96.42% Target domain: tr_loss-3.650858, tr_acc-67.18%\n",
      "100,000c5dTruet10:80.00%:80.83% | 100,000c5dFalset10:62.50%:64.58%\n"
     ]
    },
    {
     "name": "stderr",
     "output_type": "stream",
     "text": [
      "\n",
      "epoch-95  lr=['0.0010000'], tr/val_loss:  0.012049/  2.539199, tr: 100.00%, val:  80.83%, val_best:  80.83%: 100%|██████████| 49/49 [00:11<00:00,  4.33it/s]"
     ]
    },
    {
     "name": "stdout",
     "output_type": "stream",
     "text": [
      "Domain loss,acc: 0.754657, 96.42% Target domain: tr_loss-3.725086, tr_acc-66.15%\n",
      "100,000c5dTruet10:80.83%:80.83% | 100,000c5dFalset10:61.67%:64.58%\n"
     ]
    },
    {
     "name": "stderr",
     "output_type": "stream",
     "text": [
      "\n",
      "epoch-96  lr=['0.0010000'], tr/val_loss:  0.012346/  2.550488, tr: 100.00%, val:  79.58%, val_best:  80.83%: 100%|██████████| 49/49 [00:10<00:00,  4.50it/s]"
     ]
    },
    {
     "name": "stdout",
     "output_type": "stream",
     "text": [
      "Domain loss,acc: 0.759353, 96.94% Target domain: tr_loss-3.747383, tr_acc-67.18%\n",
      "100,000c5dTruet10:79.58%:80.83% | 100,000c5dFalset10:62.50%:64.58%\n"
     ]
    },
    {
     "name": "stderr",
     "output_type": "stream",
     "text": [
      "\n",
      "epoch-97  lr=['0.0010000'], tr/val_loss:  0.012446/  2.559067, tr: 100.00%, val:  79.17%, val_best:  80.83%: 100%|██████████| 49/49 [00:10<00:00,  4.61it/s]"
     ]
    },
    {
     "name": "stdout",
     "output_type": "stream",
     "text": [
      "Domain loss,acc: 0.773067, 96.53% Target domain: tr_loss-3.815554, tr_acc-66.15%\n",
      "100,000c5dTruet10:79.17%:80.83% | 100,000c5dFalset10:61.25%:64.58%\n"
     ]
    },
    {
     "name": "stderr",
     "output_type": "stream",
     "text": [
      "\n",
      "epoch-98  lr=['0.0010000'], tr/val_loss:  0.012076/  2.580548, tr: 100.00%, val:  78.33%, val_best:  80.83%: 100%|██████████| 49/49 [00:10<00:00,  4.65it/s]"
     ]
    },
    {
     "name": "stdout",
     "output_type": "stream",
     "text": [
      "Domain loss,acc: 0.734699, 97.04% Target domain: tr_loss-3.625190, tr_acc-66.67%\n",
      "100,000c5dTruet10:78.33%:80.83% | 100,000c5dFalset10:60.83%:64.58%\n"
     ]
    },
    {
     "name": "stderr",
     "output_type": "stream",
     "text": [
      "\n",
      "epoch-99  lr=['0.0010000'], tr/val_loss:  0.013245/  2.597674, tr: 100.00%, val:  78.75%, val_best:  80.83%: 100%|██████████| 49/49 [00:11<00:00,  4.36it/s]"
     ]
    },
    {
     "name": "stdout",
     "output_type": "stream",
     "text": [
      "Domain loss,acc: 0.745986, 96.94% Target domain: tr_loss-3.676951, tr_acc-66.15%\n",
      "100,000c5dTruet10:78.75%:80.83% | 100,000c5dFalset10:62.08%:64.58%\n"
     ]
    },
    {
     "name": "stderr",
     "output_type": "stream",
     "text": [
      "\n",
      "epoch-100 lr=['0.0010000'], tr/val_loss:  0.011969/  2.575972, tr: 100.00%, val:  78.75%, val_best:  80.83%: 100%|██████████| 49/49 [00:11<00:00,  4.27it/s]"
     ]
    },
    {
     "name": "stdout",
     "output_type": "stream",
     "text": [
      "Domain loss,acc: 0.733786, 97.34% Target domain: tr_loss-3.621052, tr_acc-66.67%\n",
      "100,000c5dTruet10:78.75%:80.83% | 100,000c5dFalset10:61.67%:64.58%\n"
     ]
    },
    {
     "name": "stderr",
     "output_type": "stream",
     "text": [
      "\n",
      "epoch-101 lr=['0.0010000'], tr/val_loss:  0.012064/  2.591235, tr: 100.00%, val:  79.58%, val_best:  80.83%: 100%|██████████| 49/49 [00:11<00:00,  4.44it/s]"
     ]
    },
    {
     "name": "stdout",
     "output_type": "stream",
     "text": [
      "Domain loss,acc: 0.765761, 97.14% Target domain: tr_loss-3.780548, tr_acc-67.18%\n",
      "100,000c5dTruet10:79.58%:80.83% | 100,000c5dFalset10:62.08%:64.58%\n"
     ]
    },
    {
     "name": "stderr",
     "output_type": "stream",
     "text": [
      "\n",
      "epoch-102 lr=['0.0010000'], tr/val_loss:  0.011889/  2.591580, tr: 100.00%, val:  78.75%, val_best:  80.83%: 100%|██████████| 49/49 [00:11<00:00,  4.14it/s]"
     ]
    },
    {
     "name": "stdout",
     "output_type": "stream",
     "text": [
      "Domain loss,acc: 0.735618, 97.75% Target domain: tr_loss-3.630533, tr_acc-68.21%\n",
      "100,000c5dTruet10:78.75%:80.83% | 100,000c5dFalset10:61.67%:64.58%\n"
     ]
    },
    {
     "name": "stderr",
     "output_type": "stream",
     "text": [
      "\n",
      "epoch-103 lr=['0.0010000'], tr/val_loss:  0.013040/  2.591501, tr: 100.00%, val:  79.17%, val_best:  80.83%: 100%|██████████| 49/49 [00:11<00:00,  4.36it/s]"
     ]
    },
    {
     "name": "stdout",
     "output_type": "stream",
     "text": [
      "Domain loss,acc: 0.772694, 97.45% Target domain: tr_loss-3.811308, tr_acc-66.67%\n",
      "100,000c5dTruet10:79.17%:80.83% | 100,000c5dFalset10:62.50%:64.58%\n"
     ]
    },
    {
     "name": "stderr",
     "output_type": "stream",
     "text": [
      "\n",
      "epoch-104 lr=['0.0010000'], tr/val_loss:  0.012293/  2.595550, tr: 100.00%, val:  79.17%, val_best:  80.83%: 100%|██████████| 49/49 [00:10<00:00,  4.47it/s]"
     ]
    },
    {
     "name": "stdout",
     "output_type": "stream",
     "text": [
      "Domain loss,acc: 0.744514, 97.04% Target domain: tr_loss-3.673396, tr_acc-67.69%\n",
      "100,000c5dTruet10:79.17%:80.83% | 100,000c5dFalset10:61.25%:64.58%\n"
     ]
    },
    {
     "name": "stderr",
     "output_type": "stream",
     "text": [
      "\n",
      "epoch-105 lr=['0.0010000'], tr/val_loss:  0.012228/  2.575631, tr: 100.00%, val:  79.17%, val_best:  80.83%: 100%|██████████| 49/49 [00:11<00:00,  4.41it/s]"
     ]
    },
    {
     "name": "stdout",
     "output_type": "stream",
     "text": [
      "Domain loss,acc: 0.749370, 97.55% Target domain: tr_loss-3.697941, tr_acc-66.15%\n",
      "100,000c5dTruet10:79.17%:80.83% | 100,000c5dFalset10:61.25%:64.58%\n"
     ]
    },
    {
     "name": "stderr",
     "output_type": "stream",
     "text": [
      "\n",
      "epoch-106 lr=['0.0010000'], tr/val_loss:  0.011586/  2.595975, tr: 100.00%, val:  79.58%, val_best:  80.83%: 100%|██████████| 49/49 [00:11<00:00,  4.37it/s]"
     ]
    },
    {
     "name": "stdout",
     "output_type": "stream",
     "text": [
      "Domain loss,acc: 0.769549, 97.24% Target domain: tr_loss-3.801403, tr_acc-68.72%\n",
      "100,000c5dTruet10:79.58%:80.83% | 100,000c5dFalset10:61.25%:64.58%\n"
     ]
    },
    {
     "name": "stderr",
     "output_type": "stream",
     "text": [
      "\n",
      "epoch-107 lr=['0.0010000'], tr/val_loss:  0.011017/  2.626624, tr: 100.00%, val:  78.75%, val_best:  80.83%: 100%|██████████| 49/49 [00:11<00:00,  4.29it/s]"
     ]
    },
    {
     "name": "stdout",
     "output_type": "stream",
     "text": [
      "Domain loss,acc: 0.735948, 97.14% Target domain: tr_loss-3.635674, tr_acc-67.18%\n",
      "100,000c5dTruet10:78.75%:80.83% | 100,000c5dFalset10:62.08%:64.58%\n"
     ]
    },
    {
     "name": "stderr",
     "output_type": "stream",
     "text": [
      "\n",
      "epoch-108 lr=['0.0010000'], tr/val_loss:  0.010928/  2.619403, tr: 100.00%, val:  78.75%, val_best:  80.83%: 100%|██████████| 49/49 [00:10<00:00,  4.52it/s]"
     ]
    },
    {
     "name": "stdout",
     "output_type": "stream",
     "text": [
      "Domain loss,acc: 0.787648, 97.85% Target domain: tr_loss-3.894528, tr_acc-66.67%\n",
      "100,000c5dTruet10:78.75%:80.83% | 100,000c5dFalset10:61.67%:64.58%\n"
     ]
    },
    {
     "name": "stderr",
     "output_type": "stream",
     "text": [
      "\n",
      "epoch-109 lr=['0.0010000'], tr/val_loss:  0.010979/  2.618979, tr: 100.00%, val:  78.75%, val_best:  80.83%: 100%|██████████| 49/49 [00:10<00:00,  4.52it/s]"
     ]
    },
    {
     "name": "stdout",
     "output_type": "stream",
     "text": [
      "Domain loss,acc: 0.785760, 97.96% Target domain: tr_loss-3.884885, tr_acc-69.23%\n",
      "100,000c5dTruet10:78.75%:80.83% | 100,000c5dFalset10:62.08%:64.58%\n"
     ]
    },
    {
     "name": "stderr",
     "output_type": "stream",
     "text": [
      "\n",
      "epoch-110 lr=['0.0010000'], tr/val_loss:  0.010921/  2.635187, tr: 100.00%, val:  79.58%, val_best:  80.83%: 100%|██████████| 49/49 [00:11<00:00,  4.38it/s]"
     ]
    },
    {
     "name": "stdout",
     "output_type": "stream",
     "text": [
      "Domain loss,acc: 0.788632, 97.65% Target domain: tr_loss-3.899475, tr_acc-66.15%\n",
      "100,000c5dTruet10:79.58%:80.83% | 100,000c5dFalset10:62.92%:64.58%\n"
     ]
    },
    {
     "name": "stderr",
     "output_type": "stream",
     "text": [
      "\n",
      "epoch-111 lr=['0.0010000'], tr/val_loss:  0.010614/  2.620856, tr: 100.00%, val:  80.42%, val_best:  80.83%: 100%|██████████| 49/49 [00:10<00:00,  4.52it/s]"
     ]
    },
    {
     "name": "stdout",
     "output_type": "stream",
     "text": [
      "Domain loss,acc: 0.792209, 98.47% Target domain: tr_loss-3.918590, tr_acc-67.69%\n",
      "100,000c5dTruet10:80.42%:80.83% | 100,000c5dFalset10:64.58%:64.58%\n"
     ]
    },
    {
     "name": "stderr",
     "output_type": "stream",
     "text": [
      "\n",
      "epoch-112 lr=['0.0010000'], tr/val_loss:  0.010640/  2.606636, tr: 100.00%, val:  80.00%, val_best:  80.83%: 100%|██████████| 49/49 [00:10<00:00,  4.46it/s]"
     ]
    },
    {
     "name": "stdout",
     "output_type": "stream",
     "text": [
      "Domain loss,acc: 0.751764, 98.26% Target domain: tr_loss-3.716263, tr_acc-67.18%\n",
      "100,000c5dTruet10:80.00%:80.83% | 100,000c5dFalset10:61.67%:64.58%\n"
     ]
    },
    {
     "name": "stderr",
     "output_type": "stream",
     "text": [
      "\n",
      "epoch-113 lr=['0.0010000'], tr/val_loss:  0.010187/  2.621554, tr: 100.00%, val:  78.33%, val_best:  80.83%: 100%|██████████| 49/49 [00:11<00:00,  4.37it/s]"
     ]
    },
    {
     "name": "stdout",
     "output_type": "stream",
     "text": [
      "Domain loss,acc: 0.786058, 98.37% Target domain: tr_loss-3.889542, tr_acc-67.18%\n",
      "100,000c5dTruet10:78.33%:80.83% | 100,000c5dFalset10:63.75%:64.58%\n"
     ]
    },
    {
     "name": "stderr",
     "output_type": "stream",
     "text": [
      "\n",
      "epoch-114 lr=['0.0010000'], tr/val_loss:  0.011244/  2.631879, tr: 100.00%, val:  79.17%, val_best:  80.83%: 100%|██████████| 49/49 [00:10<00:00,  4.47it/s]"
     ]
    },
    {
     "name": "stdout",
     "output_type": "stream",
     "text": [
      "Domain loss,acc: 0.771453, 97.75% Target domain: tr_loss-3.812287, tr_acc-66.15%\n",
      "100,000c5dTruet10:79.17%:80.83% | 100,000c5dFalset10:62.50%:64.58%\n"
     ]
    },
    {
     "name": "stderr",
     "output_type": "stream",
     "text": [
      "\n",
      "epoch-115 lr=['0.0010000'], tr/val_loss:  0.009508/  2.626059, tr: 100.00%, val:  78.75%, val_best:  80.83%: 100%|██████████| 49/49 [00:10<00:00,  4.48it/s]"
     ]
    },
    {
     "name": "stdout",
     "output_type": "stream",
     "text": [
      "Domain loss,acc: 0.764529, 98.37% Target domain: tr_loss-3.784608, tr_acc-67.69%\n",
      "100,000c5dTruet10:78.75%:80.83% | 100,000c5dFalset10:63.33%:64.58%\n"
     ]
    },
    {
     "name": "stderr",
     "output_type": "stream",
     "text": [
      "\n",
      "epoch-116 lr=['0.0010000'], tr/val_loss:  0.009340/  2.641989, tr: 100.00%, val:  80.42%, val_best:  80.83%: 100%|██████████| 49/49 [00:11<00:00,  4.44it/s]"
     ]
    },
    {
     "name": "stdout",
     "output_type": "stream",
     "text": [
      "Domain loss,acc: 0.786358, 98.37% Target domain: tr_loss-3.894432, tr_acc-65.64%\n",
      "100,000c5dTruet10:80.42%:80.83% | 100,000c5dFalset10:62.08%:64.58%\n"
     ]
    },
    {
     "name": "stderr",
     "output_type": "stream",
     "text": [
      "\n",
      "epoch-117 lr=['0.0010000'], tr/val_loss:  0.009597/  2.657441, tr: 100.00%, val:  80.42%, val_best:  80.83%: 100%|██████████| 49/49 [00:10<00:00,  4.75it/s]"
     ]
    },
    {
     "name": "stdout",
     "output_type": "stream",
     "text": [
      "Domain loss,acc: 0.824202, 98.57% Target domain: tr_loss-4.082622, tr_acc-66.15%\n",
      "100,000c5dTruet10:80.42%:80.83% | 100,000c5dFalset10:62.50%:64.58%\n"
     ]
    },
    {
     "name": "stderr",
     "output_type": "stream",
     "text": [
      "\n",
      "epoch-118 lr=['0.0010000'], tr/val_loss:  0.009007/  2.640646, tr: 100.00%, val:  79.58%, val_best:  80.83%: 100%|██████████| 49/49 [00:11<00:00,  4.43it/s]"
     ]
    },
    {
     "name": "stdout",
     "output_type": "stream",
     "text": [
      "Domain loss,acc: 0.835945, 98.26% Target domain: tr_loss-4.143694, tr_acc-66.15%\n",
      "100,000c5dTruet10:79.58%:80.83% | 100,000c5dFalset10:62.08%:64.58%\n"
     ]
    },
    {
     "name": "stderr",
     "output_type": "stream",
     "text": [
      "\n",
      "epoch-119 lr=['0.0010000'], tr/val_loss:  0.008935/  2.637876, tr: 100.00%, val:  79.58%, val_best:  80.83%: 100%|██████████| 49/49 [00:11<00:00,  4.35it/s]"
     ]
    },
    {
     "name": "stdout",
     "output_type": "stream",
     "text": [
      "Domain loss,acc: 0.826671, 98.26% Target domain: tr_loss-4.097612, tr_acc-66.67%\n",
      "100,000c5dTruet10:79.58%:80.83% | 100,000c5dFalset10:62.92%:64.58%\n"
     ]
    },
    {
     "name": "stderr",
     "output_type": "stream",
     "text": [
      "\n",
      "epoch-120 lr=['0.0010000'], tr/val_loss:  0.008428/  2.661254, tr: 100.00%, val:  80.42%, val_best:  80.83%: 100%|██████████| 49/49 [00:10<00:00,  4.53it/s]"
     ]
    },
    {
     "name": "stdout",
     "output_type": "stream",
     "text": [
      "Domain loss,acc: 0.779180, 98.57% Target domain: tr_loss-3.862185, tr_acc-66.67%\n",
      "100,000c5dTruet10:80.42%:80.83% | 100,000c5dFalset10:62.92%:64.58%\n"
     ]
    },
    {
     "name": "stderr",
     "output_type": "stream",
     "text": [
      "\n",
      "epoch-121 lr=['0.0010000'], tr/val_loss:  0.008554/  2.676220, tr: 100.00%, val:  80.42%, val_best:  80.83%: 100%|██████████| 49/49 [00:10<00:00,  4.48it/s]"
     ]
    },
    {
     "name": "stdout",
     "output_type": "stream",
     "text": [
      "Domain loss,acc: 0.771261, 98.26% Target domain: tr_loss-3.822089, tr_acc-67.69%\n",
      "100,000c5dTruet10:80.42%:80.83% | 100,000c5dFalset10:63.75%:64.58%\n"
     ]
    },
    {
     "name": "stderr",
     "output_type": "stream",
     "text": [
      "\n",
      "epoch-122 lr=['0.0010000'], tr/val_loss:  0.008592/  2.665985, tr: 100.00%, val:  80.00%, val_best:  80.83%: 100%|██████████| 49/49 [00:11<00:00,  4.44it/s]"
     ]
    },
    {
     "name": "stdout",
     "output_type": "stream",
     "text": [
      "Domain loss,acc: 0.824606, 99.28% Target domain: tr_loss-4.088665, tr_acc-66.67%\n",
      "100,000c5dTruet10:80.00%:80.83% | 100,000c5dFalset10:64.58%:64.58%\n"
     ]
    },
    {
     "name": "stderr",
     "output_type": "stream",
     "text": [
      "\n",
      "epoch-123 lr=['0.0010000'], tr/val_loss:  0.008074/  2.678177, tr: 100.00%, val:  79.17%, val_best:  80.83%: 100%|██████████| 49/49 [00:11<00:00,  4.38it/s]"
     ]
    },
    {
     "name": "stdout",
     "output_type": "stream",
     "text": [
      "Domain loss,acc: 0.803645, 99.08% Target domain: tr_loss-3.985931, tr_acc-66.67%\n",
      "100,000c5dTruet10:79.17%:80.83% | 100,000c5dFalset10:63.75%:64.58%\n"
     ]
    },
    {
     "name": "stderr",
     "output_type": "stream",
     "text": [
      "\n",
      "epoch-124 lr=['0.0010000'], tr/val_loss:  0.007860/  2.681983, tr: 100.00%, val:  78.75%, val_best:  80.83%: 100%|██████████| 49/49 [00:11<00:00,  4.43it/s]"
     ]
    },
    {
     "name": "stdout",
     "output_type": "stream",
     "text": [
      "Domain loss,acc: 0.823463, 98.88% Target domain: tr_loss-4.085873, tr_acc-67.18%\n",
      "100,000c5dTruet10:78.75%:80.83% | 100,000c5dFalset10:63.75%:64.58%\n"
     ]
    },
    {
     "name": "stderr",
     "output_type": "stream",
     "text": [
      "\n",
      "epoch-125 lr=['0.0010000'], tr/val_loss:  0.008309/  2.664015, tr: 100.00%, val:  78.75%, val_best:  80.83%: 100%|██████████| 49/49 [00:11<00:00,  4.31it/s]"
     ]
    },
    {
     "name": "stdout",
     "output_type": "stream",
     "text": [
      "Domain loss,acc: 0.784445, 99.18% Target domain: tr_loss-3.888987, tr_acc-66.67%\n",
      "100,000c5dTruet10:78.75%:80.83% | 100,000c5dFalset10:64.17%:64.58%\n"
     ]
    },
    {
     "name": "stderr",
     "output_type": "stream",
     "text": [
      "\n",
      "epoch-126 lr=['0.0010000'], tr/val_loss:  0.008314/  2.676247, tr: 100.00%, val:  78.33%, val_best:  80.83%: 100%|██████████| 49/49 [00:10<00:00,  4.47it/s]"
     ]
    },
    {
     "name": "stdout",
     "output_type": "stream",
     "text": [
      "Domain loss,acc: 0.785324, 99.39% Target domain: tr_loss-3.893364, tr_acc-67.18%\n",
      "100,000c5dTruet10:78.33%:80.83% | 100,000c5dFalset10:63.75%:64.58%\n"
     ]
    },
    {
     "name": "stderr",
     "output_type": "stream",
     "text": [
      "\n",
      "epoch-127 lr=['0.0010000'], tr/val_loss:  0.008006/  2.678767, tr: 100.00%, val:  78.33%, val_best:  80.83%: 100%|██████████| 49/49 [00:10<00:00,  4.48it/s]"
     ]
    },
    {
     "name": "stdout",
     "output_type": "stream",
     "text": [
      "Domain loss,acc: 0.809485, 99.59% Target domain: tr_loss-4.015402, tr_acc-65.64%\n",
      "100,000c5dTruet10:78.33%:80.83% | 100,000c5dFalset10:65.42%:65.42%\n"
     ]
    },
    {
     "name": "stderr",
     "output_type": "stream",
     "text": [
      "\n",
      "epoch-128 lr=['0.0010000'], tr/val_loss:  0.008167/  2.682806, tr: 100.00%, val:  79.17%, val_best:  80.83%: 100%|██████████| 49/49 [00:11<00:00,  4.42it/s]"
     ]
    },
    {
     "name": "stdout",
     "output_type": "stream",
     "text": [
      "Domain loss,acc: 0.791339, 99.08% Target domain: tr_loss-3.924027, tr_acc-66.15%\n",
      "100,000c5dTruet10:79.17%:80.83% | 100,000c5dFalset10:63.75%:65.42%\n"
     ]
    },
    {
     "name": "stderr",
     "output_type": "stream",
     "text": [
      "\n",
      "epoch-129 lr=['0.0010000'], tr/val_loss:  0.008098/  2.673658, tr: 100.00%, val:  79.17%, val_best:  80.83%: 100%|██████████| 49/49 [00:11<00:00,  4.36it/s]"
     ]
    },
    {
     "name": "stdout",
     "output_type": "stream",
     "text": [
      "Domain loss,acc: 0.783862, 99.59% Target domain: tr_loss-3.886914, tr_acc-65.64%\n",
      "100,000c5dTruet10:79.17%:80.83% | 100,000c5dFalset10:63.75%:65.42%\n"
     ]
    },
    {
     "name": "stderr",
     "output_type": "stream",
     "text": [
      "\n",
      "epoch-130 lr=['0.0010000'], tr/val_loss:  0.007636/  2.684388, tr: 100.00%, val:  78.75%, val_best:  80.83%: 100%|██████████| 49/49 [00:11<00:00,  4.40it/s]"
     ]
    },
    {
     "name": "stdout",
     "output_type": "stream",
     "text": [
      "Domain loss,acc: 0.779682, 99.18% Target domain: tr_loss-3.867867, tr_acc-66.67%\n",
      "100,000c5dTruet10:78.75%:80.83% | 100,000c5dFalset10:64.58%:65.42%\n"
     ]
    },
    {
     "name": "stderr",
     "output_type": "stream",
     "text": [
      "\n",
      "epoch-131 lr=['0.0010000'], tr/val_loss:  0.008205/  2.689759, tr: 100.00%, val:  78.33%, val_best:  80.83%: 100%|██████████| 49/49 [00:11<00:00,  4.40it/s]"
     ]
    },
    {
     "name": "stdout",
     "output_type": "stream",
     "text": [
      "Domain loss,acc: 0.762858, 99.18% Target domain: tr_loss-3.781469, tr_acc-66.67%\n",
      "100,000c5dTruet10:78.33%:80.83% | 100,000c5dFalset10:64.17%:65.42%\n"
     ]
    },
    {
     "name": "stderr",
     "output_type": "stream",
     "text": [
      "\n",
      "epoch-132 lr=['0.0010000'], tr/val_loss:  0.007541/  2.693515, tr: 100.00%, val:  78.33%, val_best:  80.83%: 100%|██████████| 49/49 [00:11<00:00,  4.30it/s]"
     ]
    },
    {
     "name": "stdout",
     "output_type": "stream",
     "text": [
      "Domain loss,acc: 0.774354, 99.59% Target domain: tr_loss-3.841605, tr_acc-66.15%\n",
      "100,000c5dTruet10:78.33%:80.83% | 100,000c5dFalset10:63.33%:65.42%\n"
     ]
    },
    {
     "name": "stderr",
     "output_type": "stream",
     "text": [
      "\n",
      "epoch-133 lr=['0.0010000'], tr/val_loss:  0.008660/  2.705055, tr: 100.00%, val:  79.58%, val_best:  80.83%: 100%|██████████| 49/49 [00:10<00:00,  4.49it/s]"
     ]
    },
    {
     "name": "stdout",
     "output_type": "stream",
     "text": [
      "Domain loss,acc: 0.836599, 99.59% Target domain: tr_loss-4.148354, tr_acc-67.18%\n",
      "100,000c5dTruet10:79.58%:80.83% | 100,000c5dFalset10:63.75%:65.42%\n"
     ]
    },
    {
     "name": "stderr",
     "output_type": "stream",
     "text": [
      "\n",
      "epoch-134 lr=['0.0010000'], tr/val_loss:  0.008714/  2.681342, tr: 100.00%, val:  78.33%, val_best:  80.83%: 100%|██████████| 49/49 [00:10<00:00,  4.76it/s]"
     ]
    },
    {
     "name": "stdout",
     "output_type": "stream",
     "text": [
      "Domain loss,acc: 0.797620, 99.08% Target domain: tr_loss-3.953245, tr_acc-65.64%\n",
      "100,000c5dTruet10:78.33%:80.83% | 100,000c5dFalset10:64.17%:65.42%\n"
     ]
    },
    {
     "name": "stderr",
     "output_type": "stream",
     "text": [
      "\n",
      "epoch-135 lr=['0.0010000'], tr/val_loss:  0.007524/  2.690153, tr: 100.00%, val:  78.33%, val_best:  80.83%: 100%|██████████| 49/49 [00:10<00:00,  4.51it/s]"
     ]
    },
    {
     "name": "stdout",
     "output_type": "stream",
     "text": [
      "Domain loss,acc: 0.830727, 98.98% Target domain: tr_loss-4.123539, tr_acc-66.15%\n",
      "100,000c5dTruet10:78.33%:80.83% | 100,000c5dFalset10:63.33%:65.42%\n"
     ]
    },
    {
     "name": "stderr",
     "output_type": "stream",
     "text": [
      "\n",
      "epoch-136 lr=['0.0010000'], tr/val_loss:  0.008933/  2.688814, tr: 100.00%, val:  79.17%, val_best:  80.83%: 100%|██████████| 49/49 [00:10<00:00,  4.47it/s]"
     ]
    },
    {
     "name": "stdout",
     "output_type": "stream",
     "text": [
      "Domain loss,acc: 0.846906, 99.59% Target domain: tr_loss-4.198799, tr_acc-66.15%\n",
      "100,000c5dTruet10:79.17%:80.83% | 100,000c5dFalset10:64.17%:65.42%\n"
     ]
    },
    {
     "name": "stderr",
     "output_type": "stream",
     "text": [
      "\n",
      "epoch-137 lr=['0.0010000'], tr/val_loss:  0.007388/  2.710732, tr: 100.00%, val:  79.58%, val_best:  80.83%: 100%|██████████| 49/49 [00:10<00:00,  4.57it/s]"
     ]
    },
    {
     "name": "stdout",
     "output_type": "stream",
     "text": [
      "Domain loss,acc: 0.771916, 99.18% Target domain: tr_loss-3.830029, tr_acc-65.64%\n",
      "100,000c5dTruet10:79.58%:80.83% | 100,000c5dFalset10:62.92%:65.42%\n"
     ]
    },
    {
     "name": "stderr",
     "output_type": "stream",
     "text": [
      "\n",
      "epoch-138 lr=['0.0010000'], tr/val_loss:  0.007461/  2.709533, tr: 100.00%, val:  78.33%, val_best:  80.83%: 100%|██████████| 49/49 [00:11<00:00,  4.41it/s]"
     ]
    },
    {
     "name": "stdout",
     "output_type": "stream",
     "text": [
      "Domain loss,acc: 0.768707, 99.49% Target domain: tr_loss-3.813692, tr_acc-65.64%\n",
      "100,000c5dTruet10:78.33%:80.83% | 100,000c5dFalset10:62.50%:65.42%\n"
     ]
    },
    {
     "name": "stderr",
     "output_type": "stream",
     "text": [
      "\n",
      "epoch-139 lr=['0.0010000'], tr/val_loss:  0.007359/  2.702407, tr: 100.00%, val:  78.33%, val_best:  80.83%: 100%|██████████| 49/49 [00:10<00:00,  4.46it/s]"
     ]
    },
    {
     "name": "stdout",
     "output_type": "stream",
     "text": [
      "Domain loss,acc: 0.832887, 99.69% Target domain: tr_loss-4.134999, tr_acc-65.64%\n",
      "100,000c5dTruet10:78.33%:80.83% | 100,000c5dFalset10:62.92%:65.42%\n"
     ]
    },
    {
     "name": "stderr",
     "output_type": "stream",
     "text": [
      "\n",
      "epoch-140 lr=['0.0010000'], tr/val_loss:  0.008190/  2.701446, tr: 100.00%, val:  79.17%, val_best:  80.83%: 100%|██████████| 49/49 [00:11<00:00,  4.38it/s]"
     ]
    },
    {
     "name": "stdout",
     "output_type": "stream",
     "text": [
      "Domain loss,acc: 0.772021, 99.49% Target domain: tr_loss-3.827342, tr_acc-65.64%\n",
      "100,000c5dTruet10:79.17%:80.83% | 100,000c5dFalset10:63.75%:65.42%\n"
     ]
    },
    {
     "name": "stderr",
     "output_type": "stream",
     "text": [
      "\n",
      "epoch-141 lr=['0.0010000'], tr/val_loss:  0.007091/  2.710289, tr: 100.00%, val:  78.75%, val_best:  80.83%: 100%|██████████| 49/49 [00:11<00:00,  4.14it/s]"
     ]
    },
    {
     "name": "stdout",
     "output_type": "stream",
     "text": [
      "Domain loss,acc: 0.777649, 99.49% Target domain: tr_loss-3.859879, tr_acc-67.18%\n",
      "100,000c5dTruet10:78.75%:80.83% | 100,000c5dFalset10:64.17%:65.42%\n"
     ]
    },
    {
     "name": "stderr",
     "output_type": "stream",
     "text": [
      "\n",
      "epoch-142 lr=['0.0010000'], tr/val_loss:  0.007727/  2.705882, tr: 100.00%, val:  78.75%, val_best:  80.83%: 100%|██████████| 49/49 [00:11<00:00,  4.31it/s]"
     ]
    },
    {
     "name": "stdout",
     "output_type": "stream",
     "text": [
      "Domain loss,acc: 0.799813, 99.69% Target domain: tr_loss-3.968156, tr_acc-67.69%\n",
      "100,000c5dTruet10:78.75%:80.83% | 100,000c5dFalset10:63.75%:65.42%\n"
     ]
    },
    {
     "name": "stderr",
     "output_type": "stream",
     "text": [
      "\n",
      "epoch-143 lr=['0.0010000'], tr/val_loss:  0.006850/  2.718781, tr: 100.00%, val:  79.17%, val_best:  80.83%: 100%|██████████| 49/49 [00:11<00:00,  4.40it/s]"
     ]
    },
    {
     "name": "stdout",
     "output_type": "stream",
     "text": [
      "Domain loss,acc: 0.765346, 99.59% Target domain: tr_loss-3.799330, tr_acc-67.18%\n",
      "100,000c5dTruet10:79.17%:80.83% | 100,000c5dFalset10:64.17%:65.42%\n"
     ]
    },
    {
     "name": "stderr",
     "output_type": "stream",
     "text": [
      "\n",
      "epoch-144 lr=['0.0010000'], tr/val_loss:  0.007270/  2.730286, tr: 100.00%, val:  78.75%, val_best:  80.83%: 100%|██████████| 49/49 [00:10<00:00,  4.50it/s]"
     ]
    },
    {
     "name": "stdout",
     "output_type": "stream",
     "text": [
      "Domain loss,acc: 0.765512, 99.18% Target domain: tr_loss-3.798478, tr_acc-66.67%\n",
      "100,000c5dTruet10:78.75%:80.83% | 100,000c5dFalset10:63.75%:65.42%\n"
     ]
    },
    {
     "name": "stderr",
     "output_type": "stream",
     "text": [
      "\n",
      "epoch-145 lr=['0.0010000'], tr/val_loss:  0.008069/  2.747727, tr: 100.00%, val:  77.92%, val_best:  80.83%: 100%|██████████| 49/49 [00:11<00:00,  4.28it/s]"
     ]
    },
    {
     "name": "stdout",
     "output_type": "stream",
     "text": [
      "Domain loss,acc: 0.797430, 99.80% Target domain: tr_loss-3.954873, tr_acc-67.18%\n",
      "100,000c5dTruet10:77.92%:80.83% | 100,000c5dFalset10:62.92%:65.42%\n"
     ]
    },
    {
     "name": "stderr",
     "output_type": "stream",
     "text": [
      "\n",
      "epoch-146 lr=['0.0010000'], tr/val_loss:  0.006892/  2.744876, tr: 100.00%, val:  78.33%, val_best:  80.83%: 100%|██████████| 49/49 [00:11<00:00,  4.27it/s]"
     ]
    },
    {
     "name": "stdout",
     "output_type": "stream",
     "text": [
      "Domain loss,acc: 0.808190, 100.00% Target domain: tr_loss-4.013381, tr_acc-65.64%\n",
      "100,000c5dTruet10:78.33%:80.83% | 100,000c5dFalset10:63.33%:65.42%\n"
     ]
    },
    {
     "name": "stderr",
     "output_type": "stream",
     "text": [
      "\n",
      "epoch-147 lr=['0.0010000'], tr/val_loss:  0.007672/  2.745309, tr: 100.00%, val:  80.00%, val_best:  80.83%: 100%|██████████| 49/49 [00:11<00:00,  4.38it/s]"
     ]
    },
    {
     "name": "stdout",
     "output_type": "stream",
     "text": [
      "Domain loss,acc: 0.768515, 99.69% Target domain: tr_loss-3.811887, tr_acc-67.69%\n",
      "100,000c5dTruet10:80.00%:80.83% | 100,000c5dFalset10:64.17%:65.42%\n"
     ]
    },
    {
     "name": "stderr",
     "output_type": "stream",
     "text": [
      "\n",
      "epoch-148 lr=['0.0010000'], tr/val_loss:  0.007671/  2.767136, tr: 100.00%, val:  77.92%, val_best:  80.83%: 100%|██████████| 49/49 [00:11<00:00,  4.42it/s]"
     ]
    },
    {
     "name": "stdout",
     "output_type": "stream",
     "text": [
      "Domain loss,acc: 0.832070, 99.69% Target domain: tr_loss-4.129663, tr_acc-66.15%\n",
      "100,000c5dTruet10:77.92%:80.83% | 100,000c5dFalset10:62.50%:65.42%\n"
     ]
    },
    {
     "name": "stderr",
     "output_type": "stream",
     "text": [
      "\n",
      "epoch-149 lr=['0.0010000'], tr/val_loss:  0.007681/  2.758523, tr: 100.00%, val:  79.17%, val_best:  80.83%: 100%|██████████| 49/49 [00:11<00:00,  4.42it/s]"
     ]
    },
    {
     "name": "stdout",
     "output_type": "stream",
     "text": [
      "Domain loss,acc: 0.821517, 100.00% Target domain: tr_loss-4.076861, tr_acc-67.18%\n",
      "100,000c5dTruet10:79.17%:80.83% | 100,000c5dFalset10:65.00%:65.42%\n"
     ]
    },
    {
     "name": "stderr",
     "output_type": "stream",
     "text": [
      "\n",
      "epoch-150 lr=['0.0010000'], tr/val_loss:  0.006805/  2.742205, tr: 100.00%, val:  80.00%, val_best:  80.83%: 100%|██████████| 49/49 [00:10<00:00,  4.48it/s]"
     ]
    },
    {
     "name": "stdout",
     "output_type": "stream",
     "text": [
      "Domain loss,acc: 0.812632, 99.59% Target domain: tr_loss-4.035940, tr_acc-67.18%\n",
      "100,000c5dTruet10:80.00%:80.83% | 100,000c5dFalset10:63.75%:65.42%\n"
     ]
    },
    {
     "name": "stderr",
     "output_type": "stream",
     "text": [
      "\n",
      "epoch-151 lr=['0.0010000'], tr/val_loss:  0.006705/  2.758477, tr: 100.00%, val:  78.75%, val_best:  80.83%: 100%|██████████| 49/49 [00:10<00:00,  4.70it/s]"
     ]
    },
    {
     "name": "stdout",
     "output_type": "stream",
     "text": [
      "Domain loss,acc: 0.804655, 100.00% Target domain: tr_loss-3.996456, tr_acc-65.64%\n",
      "100,000c5dTruet10:78.75%:80.83% | 100,000c5dFalset10:63.75%:65.42%\n"
     ]
    },
    {
     "name": "stderr",
     "output_type": "stream",
     "text": [
      "\n",
      "epoch-152 lr=['0.0010000'], tr/val_loss:  0.007263/  2.762846, tr: 100.00%, val:  79.17%, val_best:  80.83%: 100%|██████████| 49/49 [00:10<00:00,  4.54it/s]"
     ]
    },
    {
     "name": "stdout",
     "output_type": "stream",
     "text": [
      "Domain loss,acc: 0.810744, 99.59% Target domain: tr_loss-4.024671, tr_acc-65.13%\n",
      "100,000c5dTruet10:79.17%:80.83% | 100,000c5dFalset10:63.75%:65.42%\n"
     ]
    },
    {
     "name": "stderr",
     "output_type": "stream",
     "text": [
      "\n",
      "epoch-153 lr=['0.0010000'], tr/val_loss:  0.007586/  2.781398, tr: 100.00%, val:  78.75%, val_best:  80.83%: 100%|██████████| 49/49 [00:10<00:00,  4.56it/s]"
     ]
    },
    {
     "name": "stdout",
     "output_type": "stream",
     "text": [
      "Domain loss,acc: 0.842503, 99.80% Target domain: tr_loss-4.182170, tr_acc-66.67%\n",
      "100,000c5dTruet10:78.75%:80.83% | 100,000c5dFalset10:62.08%:65.42%\n"
     ]
    },
    {
     "name": "stderr",
     "output_type": "stream",
     "text": [
      "\n",
      "epoch-154 lr=['0.0010000'], tr/val_loss:  0.006995/  2.769224, tr: 100.00%, val:  79.17%, val_best:  80.83%: 100%|██████████| 49/49 [00:10<00:00,  4.53it/s]"
     ]
    },
    {
     "name": "stdout",
     "output_type": "stream",
     "text": [
      "Domain loss,acc: 0.814565, 100.00% Target domain: tr_loss-4.044842, tr_acc-66.15%\n",
      "100,000c5dTruet10:79.17%:80.83% | 100,000c5dFalset10:62.92%:65.42%\n"
     ]
    },
    {
     "name": "stderr",
     "output_type": "stream",
     "text": [
      "\n",
      "epoch-155 lr=['0.0010000'], tr/val_loss:  0.007129/  2.773491, tr: 100.00%, val:  78.33%, val_best:  80.83%: 100%|██████████| 49/49 [00:11<00:00,  4.35it/s]"
     ]
    },
    {
     "name": "stdout",
     "output_type": "stream",
     "text": [
      "Domain loss,acc: 0.790071, 99.80% Target domain: tr_loss-3.921837, tr_acc-66.67%\n",
      "100,000c5dTruet10:78.33%:80.83% | 100,000c5dFalset10:62.08%:65.42%\n"
     ]
    },
    {
     "name": "stderr",
     "output_type": "stream",
     "text": [
      "\n",
      "epoch-156 lr=['0.0010000'], tr/val_loss:  0.006033/  2.775133, tr: 100.00%, val:  79.17%, val_best:  80.83%: 100%|██████████| 49/49 [00:10<00:00,  4.60it/s]"
     ]
    },
    {
     "name": "stdout",
     "output_type": "stream",
     "text": [
      "Domain loss,acc: 0.821567, 99.69% Target domain: tr_loss-4.083705, tr_acc-66.67%\n",
      "100,000c5dTruet10:79.17%:80.83% | 100,000c5dFalset10:63.33%:65.42%\n"
     ]
    },
    {
     "name": "stderr",
     "output_type": "stream",
     "text": [
      "\n",
      "epoch-157 lr=['0.0010000'], tr/val_loss:  0.006279/  2.772845, tr: 100.00%, val:  77.92%, val_best:  80.83%: 100%|██████████| 49/49 [00:10<00:00,  4.72it/s]"
     ]
    },
    {
     "name": "stdout",
     "output_type": "stream",
     "text": [
      "Domain loss,acc: 0.817096, 99.90% Target domain: tr_loss-4.060363, tr_acc-65.64%\n",
      "100,000c5dTruet10:77.92%:80.83% | 100,000c5dFalset10:63.33%:65.42%\n"
     ]
    },
    {
     "name": "stderr",
     "output_type": "stream",
     "text": [
      "\n",
      "epoch-158 lr=['0.0010000'], tr/val_loss:  0.007239/  2.781935, tr: 100.00%, val:  79.58%, val_best:  80.83%: 100%|██████████| 49/49 [00:11<00:00,  4.23it/s]"
     ]
    },
    {
     "name": "stdout",
     "output_type": "stream",
     "text": [
      "Domain loss,acc: 0.826528, 99.90% Target domain: tr_loss-4.103683, tr_acc-66.15%\n",
      "100,000c5dTruet10:79.58%:80.83% | 100,000c5dFalset10:62.50%:65.42%\n"
     ]
    },
    {
     "name": "stderr",
     "output_type": "stream",
     "text": [
      "\n",
      "epoch-159 lr=['0.0010000'], tr/val_loss:  0.006898/  2.783760, tr: 100.00%, val:  79.17%, val_best:  80.83%: 100%|██████████| 49/49 [00:10<00:00,  4.53it/s]"
     ]
    },
    {
     "name": "stdout",
     "output_type": "stream",
     "text": [
      "Domain loss,acc: 0.867001, 100.00% Target domain: tr_loss-4.307416, tr_acc-66.15%\n",
      "100,000c5dTruet10:79.17%:80.83% | 100,000c5dFalset10:63.75%:65.42%\n"
     ]
    },
    {
     "name": "stderr",
     "output_type": "stream",
     "text": [
      "\n",
      "epoch-160 lr=['0.0010000'], tr/val_loss:  0.006501/  2.790227, tr: 100.00%, val:  79.58%, val_best:  80.83%: 100%|██████████| 49/49 [00:10<00:00,  4.54it/s]"
     ]
    },
    {
     "name": "stdout",
     "output_type": "stream",
     "text": [
      "Domain loss,acc: 0.867983, 100.00% Target domain: tr_loss-4.313910, tr_acc-66.67%\n",
      "100,000c5dTruet10:79.58%:80.83% | 100,000c5dFalset10:63.33%:65.42%\n"
     ]
    },
    {
     "name": "stderr",
     "output_type": "stream",
     "text": [
      "\n",
      "epoch-161 lr=['0.0010000'], tr/val_loss:  0.007132/  2.796061, tr: 100.00%, val:  79.17%, val_best:  80.83%: 100%|██████████| 49/49 [00:10<00:00,  4.57it/s]"
     ]
    },
    {
     "name": "stdout",
     "output_type": "stream",
     "text": [
      "Domain loss,acc: 0.911375, 99.59% Target domain: tr_loss-4.528347, tr_acc-66.67%\n",
      "100,000c5dTruet10:79.17%:80.83% | 100,000c5dFalset10:63.75%:65.42%\n"
     ]
    },
    {
     "name": "stderr",
     "output_type": "stream",
     "text": [
      "\n",
      "epoch-162 lr=['0.0010000'], tr/val_loss:  0.006022/  2.795138, tr: 100.00%, val:  79.58%, val_best:  80.83%: 100%|██████████| 49/49 [00:10<00:00,  4.54it/s]"
     ]
    },
    {
     "name": "stdout",
     "output_type": "stream",
     "text": [
      "Domain loss,acc: 0.829939, 100.00% Target domain: tr_loss-4.125610, tr_acc-66.67%\n",
      "100,000c5dTruet10:79.58%:80.83% | 100,000c5dFalset10:62.92%:65.42%\n"
     ]
    },
    {
     "name": "stderr",
     "output_type": "stream",
     "text": [
      "\n",
      "epoch-163 lr=['0.0010000'], tr/val_loss:  0.006385/  2.798616, tr: 100.00%, val:  79.17%, val_best:  80.83%: 100%|██████████| 49/49 [00:10<00:00,  4.74it/s]"
     ]
    },
    {
     "name": "stdout",
     "output_type": "stream",
     "text": [
      "Domain loss,acc: 0.828271, 100.00% Target domain: tr_loss-4.115815, tr_acc-66.67%\n",
      "100,000c5dTruet10:79.17%:80.83% | 100,000c5dFalset10:63.75%:65.42%\n"
     ]
    },
    {
     "name": "stderr",
     "output_type": "stream",
     "text": [
      "\n",
      "epoch-164 lr=['0.0010000'], tr/val_loss:  0.006481/  2.812221, tr: 100.00%, val:  79.17%, val_best:  80.83%: 100%|██████████| 49/49 [00:10<00:00,  4.72it/s]"
     ]
    },
    {
     "name": "stdout",
     "output_type": "stream",
     "text": [
      "Domain loss,acc: 0.825282, 99.90% Target domain: tr_loss-4.100485, tr_acc-66.67%\n",
      "100,000c5dTruet10:79.17%:80.83% | 100,000c5dFalset10:63.75%:65.42%\n"
     ]
    },
    {
     "name": "stderr",
     "output_type": "stream",
     "text": [
      "\n",
      "epoch-165 lr=['0.0010000'], tr/val_loss:  0.005994/  2.803381, tr: 100.00%, val:  78.75%, val_best:  80.83%: 100%|██████████| 49/49 [00:11<00:00,  4.38it/s]"
     ]
    },
    {
     "name": "stdout",
     "output_type": "stream",
     "text": [
      "Domain loss,acc: 0.832806, 100.00% Target domain: tr_loss-4.140052, tr_acc-66.67%\n",
      "100,000c5dTruet10:78.75%:80.83% | 100,000c5dFalset10:62.92%:65.42%\n"
     ]
    },
    {
     "name": "stderr",
     "output_type": "stream",
     "text": [
      "\n",
      "epoch-166 lr=['0.0010000'], tr/val_loss:  0.005539/  2.794686, tr: 100.00%, val:  78.33%, val_best:  80.83%: 100%|██████████| 49/49 [00:10<00:00,  4.52it/s]"
     ]
    },
    {
     "name": "stdout",
     "output_type": "stream",
     "text": [
      "Domain loss,acc: 0.807679, 99.39% Target domain: tr_loss-4.016236, tr_acc-66.15%\n",
      "100,000c5dTruet10:78.33%:80.83% | 100,000c5dFalset10:63.75%:65.42%\n"
     ]
    },
    {
     "name": "stderr",
     "output_type": "stream",
     "text": [
      "\n",
      "epoch-167 lr=['0.0010000'], tr/val_loss:  0.005829/  2.801547, tr: 100.00%, val:  80.00%, val_best:  80.83%: 100%|██████████| 49/49 [00:10<00:00,  4.48it/s]"
     ]
    },
    {
     "name": "stdout",
     "output_type": "stream",
     "text": [
      "Domain loss,acc: 0.804961, 100.00% Target domain: tr_loss-4.001487, tr_acc-66.15%\n",
      "100,000c5dTruet10:80.00%:80.83% | 100,000c5dFalset10:63.33%:65.42%\n"
     ]
    },
    {
     "name": "stderr",
     "output_type": "stream",
     "text": [
      "\n",
      "epoch-168 lr=['0.0010000'], tr/val_loss:  0.005706/  2.790688, tr: 100.00%, val:  79.58%, val_best:  80.83%: 100%|██████████| 49/49 [00:10<00:00,  4.48it/s]"
     ]
    },
    {
     "name": "stdout",
     "output_type": "stream",
     "text": [
      "Domain loss,acc: 0.799078, 99.80% Target domain: tr_loss-3.972567, tr_acc-65.64%\n",
      "100,000c5dTruet10:79.58%:80.83% | 100,000c5dFalset10:63.75%:65.42%\n"
     ]
    },
    {
     "name": "stderr",
     "output_type": "stream",
     "text": [
      "\n",
      "epoch-169 lr=['0.0010000'], tr/val_loss:  0.006106/  2.801871, tr: 100.00%, val:  80.00%, val_best:  80.83%: 100%|██████████| 49/49 [00:11<00:00,  1.07s/it]"
     ]
    },
    {
     "name": "stdout",
     "output_type": "stream",
     "text": [
      "Domain loss,acc: 0.847999, 99.80% Target domain: tr_loss-4.215570, tr_acc-65.64%\n",
      "100,000c5dTruet10:80.00%:80.83% | 100,000c5dFalset10:62.92%:65.42%\n"
     ]
    },
    {
     "name": "stderr",
     "output_type": "stream",
     "text": [
      "epoch-169 lr=['0.0010000'], tr/val_loss:  0.006106/  2.801871, tr: 100.00%, val:  80.00%, val_best:  80.83%: 100%|██████████| 49/49 [00:11<00:00,  4.36it/s]\n",
      "epoch-170 lr=['0.0010000'], tr/val_loss:  0.006303/  2.821015, tr: 100.00%, val:  79.58%, val_best:  80.83%: 100%|██████████| 49/49 [00:11<00:00,  4.30it/s]"
     ]
    },
    {
     "name": "stdout",
     "output_type": "stream",
     "text": [
      "Domain loss,acc: 0.847504, 99.80% Target domain: tr_loss-4.212307, tr_acc-66.15%\n",
      "100,000c5dTruet10:79.58%:80.83% | 100,000c5dFalset10:63.75%:65.42%\n"
     ]
    },
    {
     "name": "stderr",
     "output_type": "stream",
     "text": [
      "\n",
      "epoch-171 lr=['0.0010000'], tr/val_loss:  0.006106/  2.816646, tr: 100.00%, val:  78.75%, val_best:  80.83%: 100%|██████████| 49/49 [00:11<00:00,  4.37it/s]"
     ]
    },
    {
     "name": "stdout",
     "output_type": "stream",
     "text": [
      "Domain loss,acc: 0.828159, 100.00% Target domain: tr_loss-4.116372, tr_acc-65.13%\n",
      "100,000c5dTruet10:78.75%:80.83% | 100,000c5dFalset10:63.75%:65.42%\n"
     ]
    },
    {
     "name": "stderr",
     "output_type": "stream",
     "text": [
      "\n",
      "epoch-172 lr=['0.0010000'], tr/val_loss:  0.005774/  2.820331, tr: 100.00%, val:  79.17%, val_best:  80.83%: 100%|██████████| 49/49 [00:11<00:00,  4.45it/s]"
     ]
    },
    {
     "name": "stdout",
     "output_type": "stream",
     "text": [
      "Domain loss,acc: 0.792977, 100.00% Target domain: tr_loss-3.941787, tr_acc-66.15%\n",
      "100,000c5dTruet10:79.17%:80.83% | 100,000c5dFalset10:62.92%:65.42%\n"
     ]
    },
    {
     "name": "stderr",
     "output_type": "stream",
     "text": [
      "\n",
      "epoch-173 lr=['0.0010000'], tr/val_loss:  0.005862/  2.830735, tr: 100.00%, val:  79.58%, val_best:  80.83%: 100%|██████████| 49/49 [00:11<00:00,  4.38it/s]"
     ]
    },
    {
     "name": "stdout",
     "output_type": "stream",
     "text": [
      "Domain loss,acc: 0.812749, 100.00% Target domain: tr_loss-4.040297, tr_acc-66.67%\n",
      "100,000c5dTruet10:79.58%:80.83% | 100,000c5dFalset10:63.75%:65.42%\n"
     ]
    },
    {
     "name": "stderr",
     "output_type": "stream",
     "text": [
      "\n",
      "epoch-174 lr=['0.0010000'], tr/val_loss:  0.005981/  2.819951, tr: 100.00%, val:  79.58%, val_best:  80.83%: 100%|██████████| 49/49 [00:11<00:00,  4.38it/s]"
     ]
    },
    {
     "name": "stdout",
     "output_type": "stream",
     "text": [
      "Domain loss,acc: 0.790425, 100.00% Target domain: tr_loss-3.928197, tr_acc-67.18%\n",
      "100,000c5dTruet10:79.58%:80.83% | 100,000c5dFalset10:64.17%:65.42%\n"
     ]
    },
    {
     "name": "stderr",
     "output_type": "stream",
     "text": [
      "\n",
      "epoch-175 lr=['0.0010000'], tr/val_loss:  0.005625/  2.832902, tr: 100.00%, val:  79.17%, val_best:  80.83%: 100%|██████████| 49/49 [00:10<00:00,  4.48it/s]"
     ]
    },
    {
     "name": "stdout",
     "output_type": "stream",
     "text": [
      "Domain loss,acc: 0.821029, 99.90% Target domain: tr_loss-4.082647, tr_acc-67.18%\n",
      "100,000c5dTruet10:79.17%:80.83% | 100,000c5dFalset10:65.00%:65.42%\n"
     ]
    },
    {
     "name": "stderr",
     "output_type": "stream",
     "text": [
      "\n",
      "epoch-176 lr=['0.0010000'], tr/val_loss:  0.005507/  2.840216, tr: 100.00%, val:  80.00%, val_best:  80.83%: 100%|██████████| 49/49 [00:10<00:00,  4.54it/s]"
     ]
    },
    {
     "name": "stdout",
     "output_type": "stream",
     "text": [
      "Domain loss,acc: 0.804838, 99.90% Target domain: tr_loss-4.002160, tr_acc-66.15%\n",
      "100,000c5dTruet10:80.00%:80.83% | 100,000c5dFalset10:64.17%:65.42%\n"
     ]
    },
    {
     "name": "stderr",
     "output_type": "stream",
     "text": [
      "\n",
      "epoch-177 lr=['0.0010000'], tr/val_loss:  0.005187/  2.833282, tr: 100.00%, val:  79.17%, val_best:  80.83%: 100%|██████████| 49/49 [00:11<00:00,  4.43it/s]"
     ]
    },
    {
     "name": "stdout",
     "output_type": "stream",
     "text": [
      "Domain loss,acc: 0.840893, 100.00% Target domain: tr_loss-4.183713, tr_acc-66.15%\n",
      "100,000c5dTruet10:79.17%:80.83% | 100,000c5dFalset10:64.58%:65.42%\n"
     ]
    },
    {
     "name": "stderr",
     "output_type": "stream",
     "text": [
      "\n",
      "epoch-178 lr=['0.0010000'], tr/val_loss:  0.004896/  2.838629, tr: 100.00%, val:  79.58%, val_best:  80.83%: 100%|██████████| 49/49 [00:11<00:00,  4.36it/s]"
     ]
    },
    {
     "name": "stdout",
     "output_type": "stream",
     "text": [
      "Domain loss,acc: 0.818727, 100.00% Target domain: tr_loss-4.074049, tr_acc-66.67%\n",
      "100,000c5dTruet10:79.58%:80.83% | 100,000c5dFalset10:65.00%:65.42%\n"
     ]
    },
    {
     "name": "stderr",
     "output_type": "stream",
     "text": [
      "\n",
      "epoch-179 lr=['0.0010000'], tr/val_loss:  0.005295/  2.842847, tr: 100.00%, val:  78.75%, val_best:  80.83%: 100%|██████████| 49/49 [00:11<00:00,  4.38it/s]"
     ]
    },
    {
     "name": "stdout",
     "output_type": "stream",
     "text": [
      "Domain loss,acc: 0.812638, 100.00% Target domain: tr_loss-4.042006, tr_acc-66.15%\n",
      "100,000c5dTruet10:78.75%:80.83% | 100,000c5dFalset10:64.58%:65.42%\n"
     ]
    },
    {
     "name": "stderr",
     "output_type": "stream",
     "text": [
      "\n",
      "epoch-180 lr=['0.0010000'], tr/val_loss:  0.006005/  2.855853, tr: 100.00%, val:  78.75%, val_best:  80.83%: 100%|██████████| 49/49 [00:10<00:00,  4.67it/s]"
     ]
    },
    {
     "name": "stdout",
     "output_type": "stream",
     "text": [
      "Domain loss,acc: 0.857858, 99.90% Target domain: tr_loss-4.265272, tr_acc-65.64%\n",
      "100,000c5dTruet10:78.75%:80.83% | 100,000c5dFalset10:65.00%:65.42%\n"
     ]
    },
    {
     "name": "stderr",
     "output_type": "stream",
     "text": [
      "\n",
      "epoch-181 lr=['0.0010000'], tr/val_loss:  0.005527/  2.836406, tr: 100.00%, val:  79.17%, val_best:  80.83%: 100%|██████████| 49/49 [00:10<00:00,  4.55it/s]"
     ]
    },
    {
     "name": "stdout",
     "output_type": "stream",
     "text": [
      "Domain loss,acc: 0.849729, 99.90% Target domain: tr_loss-4.226538, tr_acc-65.64%\n",
      "100,000c5dTruet10:79.17%:80.83% | 100,000c5dFalset10:64.58%:65.42%\n"
     ]
    },
    {
     "name": "stderr",
     "output_type": "stream",
     "text": [
      "\n",
      "epoch-182 lr=['0.0010000'], tr/val_loss:  0.005811/  2.835942, tr: 100.00%, val:  78.33%, val_best:  80.83%: 100%|██████████| 49/49 [00:11<00:00,  4.45it/s]"
     ]
    },
    {
     "name": "stdout",
     "output_type": "stream",
     "text": [
      "Domain loss,acc: 0.834536, 100.00% Target domain: tr_loss-4.149436, tr_acc-64.10%\n",
      "100,000c5dTruet10:78.33%:80.83% | 100,000c5dFalset10:64.17%:65.42%\n"
     ]
    },
    {
     "name": "stderr",
     "output_type": "stream",
     "text": [
      "\n",
      "epoch-183 lr=['0.0010000'], tr/val_loss:  0.005482/  2.849364, tr: 100.00%, val:  77.92%, val_best:  80.83%: 100%|██████████| 49/49 [00:10<00:00,  4.56it/s]"
     ]
    },
    {
     "name": "stdout",
     "output_type": "stream",
     "text": [
      "Domain loss,acc: 0.813413, 100.00% Target domain: tr_loss-4.045137, tr_acc-66.15%\n",
      "100,000c5dTruet10:77.92%:80.83% | 100,000c5dFalset10:65.00%:65.42%\n"
     ]
    },
    {
     "name": "stderr",
     "output_type": "stream",
     "text": [
      "\n",
      "epoch-184 lr=['0.0010000'], tr/val_loss:  0.005281/  2.861549, tr: 100.00%, val:  77.92%, val_best:  80.83%: 100%|██████████| 49/49 [00:11<00:00,  4.32it/s]"
     ]
    },
    {
     "name": "stdout",
     "output_type": "stream",
     "text": [
      "Domain loss,acc: 0.812302, 99.90% Target domain: tr_loss-4.040385, tr_acc-65.13%\n",
      "100,000c5dTruet10:77.92%:80.83% | 100,000c5dFalset10:64.17%:65.42%\n"
     ]
    },
    {
     "name": "stderr",
     "output_type": "stream",
     "text": [
      "\n",
      "epoch-185 lr=['0.0010000'], tr/val_loss:  0.005258/  2.852254, tr: 100.00%, val:  77.50%, val_best:  80.83%: 100%|██████████| 49/49 [00:11<00:00,  4.41it/s]"
     ]
    },
    {
     "name": "stdout",
     "output_type": "stream",
     "text": [
      "Domain loss,acc: 0.855332, 100.00% Target domain: tr_loss-4.255626, tr_acc-65.13%\n",
      "100,000c5dTruet10:77.50%:80.83% | 100,000c5dFalset10:64.17%:65.42%\n"
     ]
    },
    {
     "name": "stderr",
     "output_type": "stream",
     "text": [
      "\n",
      "epoch-186 lr=['0.0010000'], tr/val_loss:  0.005135/  2.856868, tr: 100.00%, val:  77.50%, val_best:  80.83%: 100%|██████████| 49/49 [00:10<00:00,  4.46it/s]"
     ]
    },
    {
     "name": "stdout",
     "output_type": "stream",
     "text": [
      "Domain loss,acc: 0.829407, 100.00% Target domain: tr_loss-4.126493, tr_acc-66.15%\n",
      "100,000c5dTruet10:77.50%:80.83% | 100,000c5dFalset10:65.00%:65.42%\n"
     ]
    },
    {
     "name": "stderr",
     "output_type": "stream",
     "text": [
      "\n",
      "epoch-187 lr=['0.0010000'], tr/val_loss:  0.004719/  2.852165, tr: 100.00%, val:  77.50%, val_best:  80.83%: 100%|██████████| 49/49 [00:11<00:00,  4.36it/s]"
     ]
    },
    {
     "name": "stdout",
     "output_type": "stream",
     "text": [
      "Domain loss,acc: 0.794586, 100.00% Target domain: tr_loss-3.954052, tr_acc-65.64%\n",
      "100,000c5dTruet10:77.50%:80.83% | 100,000c5dFalset10:65.42%:65.42%\n"
     ]
    },
    {
     "name": "stderr",
     "output_type": "stream",
     "text": [
      "\n",
      "epoch-188 lr=['0.0010000'], tr/val_loss:  0.004940/  2.841406, tr: 100.00%, val:  77.08%, val_best:  80.83%: 100%|██████████| 49/49 [00:11<00:00,  4.38it/s]"
     ]
    },
    {
     "name": "stdout",
     "output_type": "stream",
     "text": [
      "Domain loss,acc: 0.815940, 100.00% Target domain: tr_loss-4.059937, tr_acc-65.13%\n",
      "100,000c5dTruet10:77.08%:80.83% | 100,000c5dFalset10:64.58%:65.42%\n"
     ]
    },
    {
     "name": "stderr",
     "output_type": "stream",
     "text": [
      "\n",
      "epoch-189 lr=['0.0010000'], tr/val_loss:  0.004936/  2.858754, tr: 100.00%, val:  77.50%, val_best:  80.83%: 100%|██████████| 49/49 [00:11<00:00,  4.36it/s]"
     ]
    },
    {
     "name": "stdout",
     "output_type": "stream",
     "text": [
      "Domain loss,acc: 0.847878, 100.00% Target domain: tr_loss-4.219648, tr_acc-64.62%\n",
      "100,000c5dTruet10:77.50%:80.83% | 100,000c5dFalset10:64.17%:65.42%\n"
     ]
    },
    {
     "name": "stderr",
     "output_type": "stream",
     "text": [
      "\n",
      "epoch-190 lr=['0.0010000'], tr/val_loss:  0.004938/  2.867818, tr: 100.00%, val:  77.50%, val_best:  80.83%: 100%|██████████| 49/49 [00:11<00:00,  4.37it/s]"
     ]
    },
    {
     "name": "stdout",
     "output_type": "stream",
     "text": [
      "Domain loss,acc: 0.807616, 100.00% Target domain: tr_loss-4.018331, tr_acc-65.13%\n",
      "100,000c5dTruet10:77.50%:80.83% | 100,000c5dFalset10:64.58%:65.42%\n"
     ]
    },
    {
     "name": "stderr",
     "output_type": "stream",
     "text": [
      "\n",
      "epoch-191 lr=['0.0010000'], tr/val_loss:  0.005410/  2.832619, tr: 100.00%, val:  78.75%, val_best:  80.83%: 100%|██████████| 49/49 [00:11<00:00,  4.33it/s]"
     ]
    },
    {
     "name": "stdout",
     "output_type": "stream",
     "text": [
      "Domain loss,acc: 0.827658, 100.00% Target domain: tr_loss-4.116652, tr_acc-65.64%\n",
      "100,000c5dTruet10:78.75%:80.83% | 100,000c5dFalset10:63.33%:65.42%\n"
     ]
    },
    {
     "name": "stderr",
     "output_type": "stream",
     "text": [
      "\n",
      "epoch-192 lr=['0.0010000'], tr/val_loss:  0.004733/  2.839422, tr: 100.00%, val:  77.92%, val_best:  80.83%: 100%|██████████| 49/49 [00:11<00:00,  4.35it/s]"
     ]
    },
    {
     "name": "stdout",
     "output_type": "stream",
     "text": [
      "Domain loss,acc: 0.820211, 100.00% Target domain: tr_loss-4.082126, tr_acc-66.15%\n",
      "100,000c5dTruet10:77.92%:80.83% | 100,000c5dFalset10:64.58%:65.42%\n"
     ]
    },
    {
     "name": "stderr",
     "output_type": "stream",
     "text": [
      "\n",
      "epoch-193 lr=['0.0010000'], tr/val_loss:  0.004817/  2.869725, tr: 100.00%, val:  77.50%, val_best:  80.83%: 100%|██████████| 49/49 [00:10<00:00,  4.49it/s]"
     ]
    },
    {
     "name": "stdout",
     "output_type": "stream",
     "text": [
      "Domain loss,acc: 0.809866, 100.00% Target domain: tr_loss-4.030064, tr_acc-65.64%\n",
      "100,000c5dTruet10:77.50%:80.83% | 100,000c5dFalset10:63.75%:65.42%\n"
     ]
    },
    {
     "name": "stderr",
     "output_type": "stream",
     "text": [
      "\n",
      "epoch-194 lr=['0.0010000'], tr/val_loss:  0.004630/  2.855823, tr: 100.00%, val:  77.50%, val_best:  80.83%: 100%|██████████| 49/49 [00:11<00:00,  4.38it/s]"
     ]
    },
    {
     "name": "stdout",
     "output_type": "stream",
     "text": [
      "Domain loss,acc: 0.855792, 100.00% Target domain: tr_loss-4.260442, tr_acc-65.13%\n",
      "100,000c5dTruet10:77.50%:80.83% | 100,000c5dFalset10:64.58%:65.42%\n"
     ]
    },
    {
     "name": "stderr",
     "output_type": "stream",
     "text": [
      "\n",
      "epoch-195 lr=['0.0010000'], tr/val_loss:  0.004514/  2.864537, tr: 100.00%, val:  77.92%, val_best:  80.83%: 100%|██████████| 49/49 [00:11<00:00,  4.43it/s]"
     ]
    },
    {
     "name": "stdout",
     "output_type": "stream",
     "text": [
      "Domain loss,acc: 0.851892, 100.00% Target domain: tr_loss-4.241400, tr_acc-66.67%\n",
      "100,000c5dTruet10:77.92%:80.83% | 100,000c5dFalset10:63.75%:65.42%\n"
     ]
    },
    {
     "name": "stderr",
     "output_type": "stream",
     "text": [
      "\n",
      "epoch-196 lr=['0.0010000'], tr/val_loss:  0.004813/  2.872385, tr: 100.00%, val:  77.92%, val_best:  80.83%: 100%|██████████| 49/49 [00:10<00:00,  4.57it/s]"
     ]
    },
    {
     "name": "stdout",
     "output_type": "stream",
     "text": [
      "Domain loss,acc: 0.866595, 99.90% Target domain: tr_loss-4.313723, tr_acc-66.67%\n",
      "100,000c5dTruet10:77.92%:80.83% | 100,000c5dFalset10:64.17%:65.42%\n"
     ]
    },
    {
     "name": "stderr",
     "output_type": "stream",
     "text": [
      "\n",
      "epoch-197 lr=['0.0010000'], tr/val_loss:  0.004447/  2.864779, tr: 100.00%, val:  77.08%, val_best:  80.83%: 100%|██████████| 49/49 [00:10<00:00,  4.63it/s]"
     ]
    },
    {
     "name": "stdout",
     "output_type": "stream",
     "text": [
      "Domain loss,acc: 0.829917, 100.00% Target domain: tr_loss-4.131796, tr_acc-66.15%\n",
      "100,000c5dTruet10:77.08%:80.83% | 100,000c5dFalset10:64.58%:65.42%\n"
     ]
    },
    {
     "name": "stderr",
     "output_type": "stream",
     "text": [
      "\n",
      "epoch-198 lr=['0.0010000'], tr/val_loss:  0.004742/  2.864631, tr: 100.00%, val:  77.08%, val_best:  80.83%: 100%|██████████| 49/49 [00:10<00:00,  4.50it/s]"
     ]
    },
    {
     "name": "stdout",
     "output_type": "stream",
     "text": [
      "Domain loss,acc: 0.806977, 100.00% Target domain: tr_loss-4.015914, tr_acc-65.64%\n",
      "100,000c5dTruet10:77.08%:80.83% | 100,000c5dFalset10:64.58%:65.42%\n"
     ]
    },
    {
     "name": "stderr",
     "output_type": "stream",
     "text": [
      "\n",
      "epoch-199 lr=['0.0010000'], tr/val_loss:  0.005474/  2.870998, tr: 100.00%, val:  76.67%, val_best:  80.83%: 100%|██████████| 49/49 [00:10<00:00,  4.60it/s]"
     ]
    },
    {
     "name": "stdout",
     "output_type": "stream",
     "text": [
      "Domain loss,acc: 0.831130, 100.00% Target domain: tr_loss-4.133750, tr_acc-65.13%\n",
      "100,000c5dTruet10:76.67%:80.83% | 100,000c5dFalset10:63.33%:65.42%\n"
     ]
    },
    {
     "name": "stderr",
     "output_type": "stream",
     "text": [
      "\n",
      "epoch-200 lr=['0.0010000'], tr/val_loss:  0.005265/  2.875280, tr: 100.00%, val:  78.33%, val_best:  80.83%: 100%|██████████| 49/49 [00:11<00:00,  4.37it/s]"
     ]
    },
    {
     "name": "stdout",
     "output_type": "stream",
     "text": [
      "Domain loss,acc: 0.853494, 100.00% Target domain: tr_loss-4.246408, tr_acc-67.18%\n",
      "100,000c5dTruet10:78.33%:80.83% | 100,000c5dFalset10:64.17%:65.42%\n"
     ]
    },
    {
     "name": "stderr",
     "output_type": "stream",
     "text": [
      "\n",
      "epoch-201 lr=['0.0010000'], tr/val_loss:  0.004310/  2.882173, tr: 100.00%, val:  78.75%, val_best:  80.83%: 100%|██████████| 49/49 [00:11<00:00,  4.38it/s]"
     ]
    },
    {
     "name": "stdout",
     "output_type": "stream",
     "text": [
      "Domain loss,acc: 0.819856, 100.00% Target domain: tr_loss-4.082044, tr_acc-66.15%\n",
      "100,000c5dTruet10:78.75%:80.83% | 100,000c5dFalset10:63.75%:65.42%\n"
     ]
    },
    {
     "name": "stderr",
     "output_type": "stream",
     "text": [
      "\n",
      "epoch-202 lr=['0.0010000'], tr/val_loss:  0.005068/  2.887358, tr: 100.00%, val:  79.17%, val_best:  80.83%: 100%|██████████| 49/49 [00:11<00:00,  4.40it/s]"
     ]
    },
    {
     "name": "stdout",
     "output_type": "stream",
     "text": [
      "Domain loss,acc: 0.845333, 100.00% Target domain: tr_loss-4.206390, tr_acc-66.15%\n",
      "100,000c5dTruet10:79.17%:80.83% | 100,000c5dFalset10:63.75%:65.42%\n"
     ]
    },
    {
     "name": "stderr",
     "output_type": "stream",
     "text": [
      "\n",
      "epoch-203 lr=['0.0010000'], tr/val_loss:  0.004977/  2.878439, tr: 100.00%, val:  77.92%, val_best:  80.83%: 100%|██████████| 49/49 [00:11<00:00,  4.26it/s]"
     ]
    },
    {
     "name": "stdout",
     "output_type": "stream",
     "text": [
      "Domain loss,acc: 0.837263, 100.00% Target domain: tr_loss-4.166405, tr_acc-66.15%\n",
      "100,000c5dTruet10:77.92%:80.83% | 100,000c5dFalset10:63.75%:65.42%\n"
     ]
    },
    {
     "name": "stderr",
     "output_type": "stream",
     "text": [
      "\n",
      "epoch-204 lr=['0.0010000'], tr/val_loss:  0.004931/  2.875513, tr: 100.00%, val:  78.33%, val_best:  80.83%: 100%|██████████| 49/49 [00:11<00:00,  4.36it/s]"
     ]
    },
    {
     "name": "stdout",
     "output_type": "stream",
     "text": [
      "Domain loss,acc: 0.826690, 100.00% Target domain: tr_loss-4.113726, tr_acc-68.21%\n",
      "100,000c5dTruet10:78.33%:80.83% | 100,000c5dFalset10:64.17%:65.42%\n"
     ]
    },
    {
     "name": "stderr",
     "output_type": "stream",
     "text": [
      "\n",
      "epoch-205 lr=['0.0010000'], tr/val_loss:  0.004703/  2.883258, tr: 100.00%, val:  77.50%, val_best:  80.83%: 100%|██████████| 49/49 [00:10<00:00,  4.46it/s]"
     ]
    },
    {
     "name": "stdout",
     "output_type": "stream",
     "text": [
      "Domain loss,acc: 0.808048, 100.00% Target domain: tr_loss-4.021430, tr_acc-68.21%\n",
      "100,000c5dTruet10:77.50%:80.83% | 100,000c5dFalset10:64.17%:65.42%\n"
     ]
    },
    {
     "name": "stderr",
     "output_type": "stream",
     "text": [
      "\n",
      "epoch-206 lr=['0.0010000'], tr/val_loss:  0.004372/  2.885347, tr: 100.00%, val:  77.92%, val_best:  80.83%: 100%|██████████| 49/49 [00:11<00:00,  1.07s/it]"
     ]
    },
    {
     "name": "stdout",
     "output_type": "stream",
     "text": [
      "Domain loss,acc: 0.818546, 100.00% Target domain: tr_loss-4.075243, tr_acc-67.69%\n",
      "100,000c5dTruet10:77.92%:80.83% | 100,000c5dFalset10:64.17%:65.42%\n"
     ]
    },
    {
     "name": "stderr",
     "output_type": "stream",
     "text": [
      "epoch-206 lr=['0.0010000'], tr/val_loss:  0.004372/  2.885347, tr: 100.00%, val:  77.92%, val_best:  80.83%: 100%|██████████| 49/49 [00:11<00:00,  4.32it/s]\n",
      "epoch-207 lr=['0.0010000'], tr/val_loss:  0.004399/  2.884227, tr: 100.00%, val:  77.08%, val_best:  80.83%: 100%|██████████| 49/49 [00:11<00:00,  4.39it/s]"
     ]
    },
    {
     "name": "stdout",
     "output_type": "stream",
     "text": [
      "Domain loss,acc: 0.821115, 100.00% Target domain: tr_loss-4.087978, tr_acc-67.69%\n",
      "100,000c5dTruet10:77.08%:80.83% | 100,000c5dFalset10:62.92%:65.42%\n"
     ]
    },
    {
     "name": "stderr",
     "output_type": "stream",
     "text": [
      "\n",
      "epoch-208 lr=['0.0010000'], tr/val_loss:  0.004761/  2.884424, tr: 100.00%, val:  77.92%, val_best:  80.83%: 100%|██████████| 49/49 [00:11<00:00,  4.38it/s]"
     ]
    },
    {
     "name": "stdout",
     "output_type": "stream",
     "text": [
      "Domain loss,acc: 0.872445, 100.00% Target domain: tr_loss-4.343180, tr_acc-67.69%\n",
      "100,000c5dTruet10:77.92%:80.83% | 100,000c5dFalset10:63.75%:65.42%\n"
     ]
    },
    {
     "name": "stderr",
     "output_type": "stream",
     "text": [
      "\n",
      "epoch-209 lr=['0.0010000'], tr/val_loss:  0.004714/  2.894609, tr: 100.00%, val:  77.50%, val_best:  80.83%: 100%|██████████| 49/49 [00:10<00:00,  4.46it/s]"
     ]
    },
    {
     "name": "stdout",
     "output_type": "stream",
     "text": [
      "Domain loss,acc: 0.829482, 100.00% Target domain: tr_loss-4.128550, tr_acc-67.69%\n",
      "100,000c5dTruet10:77.50%:80.83% | 100,000c5dFalset10:64.17%:65.42%\n"
     ]
    },
    {
     "name": "stderr",
     "output_type": "stream",
     "text": [
      "\n",
      "epoch-210 lr=['0.0010000'], tr/val_loss:  0.004412/  2.910925, tr: 100.00%, val:  77.08%, val_best:  80.83%: 100%|██████████| 49/49 [00:11<00:00,  4.45it/s]"
     ]
    },
    {
     "name": "stdout",
     "output_type": "stream",
     "text": [
      "Domain loss,acc: 0.830404, 99.90% Target domain: tr_loss-4.134370, tr_acc-67.69%\n",
      "100,000c5dTruet10:77.08%:80.83% | 100,000c5dFalset10:63.33%:65.42%\n"
     ]
    },
    {
     "name": "stderr",
     "output_type": "stream",
     "text": [
      "\n",
      "epoch-211 lr=['0.0010000'], tr/val_loss:  0.004563/  2.910348, tr: 100.00%, val:  77.08%, val_best:  80.83%: 100%|██████████| 49/49 [00:11<00:00,  4.35it/s]"
     ]
    },
    {
     "name": "stdout",
     "output_type": "stream",
     "text": [
      "Domain loss,acc: 0.842071, 100.00% Target domain: tr_loss-4.192102, tr_acc-68.72%\n",
      "100,000c5dTruet10:77.08%:80.83% | 100,000c5dFalset10:63.75%:65.42%\n"
     ]
    },
    {
     "name": "stderr",
     "output_type": "stream",
     "text": [
      "\n",
      "epoch-212 lr=['0.0010000'], tr/val_loss:  0.004464/  2.904262, tr: 100.00%, val:  77.92%, val_best:  80.83%: 100%|██████████| 49/49 [00:11<00:00,  4.38it/s]"
     ]
    },
    {
     "name": "stdout",
     "output_type": "stream",
     "text": [
      "Domain loss,acc: 0.847873, 100.00% Target domain: tr_loss-4.221510, tr_acc-67.18%\n",
      "100,000c5dTruet10:77.92%:80.83% | 100,000c5dFalset10:63.33%:65.42%\n"
     ]
    },
    {
     "name": "stderr",
     "output_type": "stream",
     "text": [
      "\n",
      "epoch-213 lr=['0.0010000'], tr/val_loss:  0.004080/  2.918792, tr: 100.00%, val:  77.92%, val_best:  80.83%: 100%|██████████| 49/49 [20:36<00:00, 25.23s/it]"
     ]
    },
    {
     "name": "stdout",
     "output_type": "stream",
     "text": [
      "Domain loss,acc: 0.842748, 100.00% Target domain: tr_loss-4.197423, tr_acc-68.21%\n",
      "100,000c5dTruet10:77.92%:80.83% | 100,000c5dFalset10:62.92%:65.42%\n"
     ]
    },
    {
     "name": "stderr",
     "output_type": "stream",
     "text": [
      "\n",
      "epoch-214 lr=['0.0010000'], tr/val_loss:  0.004547/  2.904520, tr: 100.00%, val:  77.92%, val_best:  80.83%: 100%|██████████| 49/49 [00:10<00:00,  4.51it/s]"
     ]
    },
    {
     "name": "stdout",
     "output_type": "stream",
     "text": [
      "Domain loss,acc: 0.838967, 100.00% Target domain: tr_loss-4.176648, tr_acc-67.18%\n",
      "100,000c5dTruet10:77.92%:80.83% | 100,000c5dFalset10:63.75%:65.42%\n"
     ]
    },
    {
     "name": "stderr",
     "output_type": "stream",
     "text": [
      "\n",
      "epoch-215 lr=['0.0010000'], tr/val_loss:  0.004021/  2.906490, tr: 100.00%, val:  78.33%, val_best:  80.83%: 100%|██████████| 49/49 [00:10<00:00,  4.55it/s]"
     ]
    },
    {
     "name": "stdout",
     "output_type": "stream",
     "text": [
      "Domain loss,acc: 0.837594, 100.00% Target domain: tr_loss-4.171887, tr_acc-67.69%\n",
      "100,000c5dTruet10:78.33%:80.83% | 100,000c5dFalset10:63.75%:65.42%\n"
     ]
    },
    {
     "name": "stderr",
     "output_type": "stream",
     "text": [
      "\n",
      "epoch-216 lr=['0.0010000'], tr/val_loss:  0.004955/  2.921887, tr: 100.00%, val:  77.92%, val_best:  80.83%: 100%|██████████| 49/49 [00:10<00:00,  4.72it/s]"
     ]
    },
    {
     "name": "stdout",
     "output_type": "stream",
     "text": [
      "Domain loss,acc: 0.845142, 100.00% Target domain: tr_loss-4.205893, tr_acc-68.72%\n",
      "100,000c5dTruet10:77.92%:80.83% | 100,000c5dFalset10:64.17%:65.42%\n"
     ]
    },
    {
     "name": "stderr",
     "output_type": "stream",
     "text": [
      "\n",
      "epoch-217 lr=['0.0010000'], tr/val_loss:  0.004281/  2.917201, tr: 100.00%, val:  77.92%, val_best:  80.83%: 100%|██████████| 49/49 [00:10<00:00,  4.78it/s]"
     ]
    },
    {
     "name": "stdout",
     "output_type": "stream",
     "text": [
      "Domain loss,acc: 0.854436, 100.00% Target domain: tr_loss-4.255056, tr_acc-68.21%\n",
      "100,000c5dTruet10:77.92%:80.83% | 100,000c5dFalset10:63.75%:65.42%\n"
     ]
    },
    {
     "name": "stderr",
     "output_type": "stream",
     "text": [
      "\n",
      "epoch-218 lr=['0.0010000'], tr/val_loss:  0.003909/  2.924375, tr: 100.00%, val:  77.92%, val_best:  80.83%: 100%|██████████| 49/49 [00:10<00:00,  4.66it/s]"
     ]
    },
    {
     "name": "stdout",
     "output_type": "stream",
     "text": [
      "Domain loss,acc: 0.854767, 100.00% Target domain: tr_loss-4.258199, tr_acc-67.69%\n",
      "100,000c5dTruet10:77.92%:80.83% | 100,000c5dFalset10:63.75%:65.42%\n"
     ]
    },
    {
     "name": "stderr",
     "output_type": "stream",
     "text": [
      "\n",
      "epoch-219 lr=['0.0010000'], tr/val_loss:  0.004114/  2.928712, tr: 100.00%, val:  79.17%, val_best:  80.83%: 100%|██████████| 49/49 [00:10<00:00,  4.75it/s]"
     ]
    },
    {
     "name": "stdout",
     "output_type": "stream",
     "text": [
      "Domain loss,acc: 0.851698, 100.00% Target domain: tr_loss-4.242032, tr_acc-68.21%\n",
      "100,000c5dTruet10:79.17%:80.83% | 100,000c5dFalset10:64.17%:65.42%\n"
     ]
    },
    {
     "name": "stderr",
     "output_type": "stream",
     "text": [
      "\n",
      "epoch-220 lr=['0.0010000'], tr/val_loss:  0.004052/  2.928609, tr: 100.00%, val:  78.33%, val_best:  80.83%: 100%|██████████| 49/49 [00:10<00:00,  4.57it/s]"
     ]
    },
    {
     "name": "stdout",
     "output_type": "stream",
     "text": [
      "Domain loss,acc: 0.830606, 100.00% Target domain: tr_loss-4.136818, tr_acc-67.69%\n",
      "100,000c5dTruet10:78.33%:80.83% | 100,000c5dFalset10:64.17%:65.42%\n"
     ]
    },
    {
     "name": "stderr",
     "output_type": "stream",
     "text": [
      "\n",
      "epoch-221 lr=['0.0010000'], tr/val_loss:  0.003729/  2.926530, tr: 100.00%, val:  77.92%, val_best:  80.83%: 100%|██████████| 49/49 [00:10<00:00,  4.66it/s]"
     ]
    },
    {
     "name": "stdout",
     "output_type": "stream",
     "text": [
      "Domain loss,acc: 0.844546, 100.00% Target domain: tr_loss-4.207812, tr_acc-67.18%\n",
      "100,000c5dTruet10:77.92%:80.83% | 100,000c5dFalset10:63.33%:65.42%\n"
     ]
    },
    {
     "name": "stderr",
     "output_type": "stream",
     "text": [
      "\n",
      "epoch-222 lr=['0.0010000'], tr/val_loss:  0.003780/  2.924385, tr: 100.00%, val:  77.92%, val_best:  80.83%: 100%|██████████| 49/49 [00:09<00:00,  4.95it/s]"
     ]
    },
    {
     "name": "stdout",
     "output_type": "stream",
     "text": [
      "Domain loss,acc: 0.849720, 100.00% Target domain: tr_loss-4.233479, tr_acc-67.18%\n",
      "100,000c5dTruet10:77.92%:80.83% | 100,000c5dFalset10:63.75%:65.42%\n"
     ]
    },
    {
     "name": "stderr",
     "output_type": "stream",
     "text": [
      "\n",
      "epoch-223 lr=['0.0010000'], tr/val_loss:  0.003683/  2.924053, tr: 100.00%, val:  77.08%, val_best:  80.83%: 100%|██████████| 49/49 [00:09<00:00,  4.94it/s]"
     ]
    },
    {
     "name": "stdout",
     "output_type": "stream",
     "text": [
      "Domain loss,acc: 0.844942, 100.00% Target domain: tr_loss-4.209979, tr_acc-67.18%\n",
      "100,000c5dTruet10:77.08%:80.83% | 100,000c5dFalset10:64.17%:65.42%\n"
     ]
    },
    {
     "name": "stderr",
     "output_type": "stream",
     "text": [
      "\n",
      "epoch-224 lr=['0.0010000'], tr/val_loss:  0.003706/  2.912266, tr: 100.00%, val:  77.50%, val_best:  80.83%: 100%|██████████| 49/49 [00:10<00:00,  4.72it/s]"
     ]
    },
    {
     "name": "stdout",
     "output_type": "stream",
     "text": [
      "Domain loss,acc: 0.835951, 100.00% Target domain: tr_loss-4.164928, tr_acc-67.18%\n",
      "100,000c5dTruet10:77.50%:80.83% | 100,000c5dFalset10:63.33%:65.42%\n"
     ]
    },
    {
     "name": "stderr",
     "output_type": "stream",
     "text": [
      "\n",
      "epoch-225 lr=['0.0010000'], tr/val_loss:  0.003867/  2.919930, tr: 100.00%, val:  78.33%, val_best:  80.83%: 100%|██████████| 49/49 [00:10<00:00,  4.77it/s]"
     ]
    },
    {
     "name": "stdout",
     "output_type": "stream",
     "text": [
      "Domain loss,acc: 0.866797, 100.00% Target domain: tr_loss-4.318519, tr_acc-67.69%\n",
      "100,000c5dTruet10:78.33%:80.83% | 100,000c5dFalset10:65.42%:65.42%\n"
     ]
    },
    {
     "name": "stderr",
     "output_type": "stream",
     "text": [
      "\n",
      "epoch-226 lr=['0.0010000'], tr/val_loss:  0.003837/  2.922650, tr: 100.00%, val:  77.92%, val_best:  80.83%: 100%|██████████| 49/49 [00:10<00:00,  4.65it/s]"
     ]
    },
    {
     "name": "stdout",
     "output_type": "stream",
     "text": [
      "Domain loss,acc: 0.870374, 100.00% Target domain: tr_loss-4.336523, tr_acc-67.18%\n",
      "100,000c5dTruet10:77.92%:80.83% | 100,000c5dFalset10:64.17%:65.42%\n"
     ]
    },
    {
     "name": "stderr",
     "output_type": "stream",
     "text": [
      "\n",
      "epoch-227 lr=['0.0010000'], tr/val_loss:  0.004053/  2.920663, tr: 100.00%, val:  78.33%, val_best:  80.83%: 100%|██████████| 49/49 [00:10<00:00,  4.67it/s]"
     ]
    },
    {
     "name": "stdout",
     "output_type": "stream",
     "text": [
      "Domain loss,acc: 0.821973, 100.00% Target domain: tr_loss-4.093652, tr_acc-66.15%\n",
      "100,000c5dTruet10:78.33%:80.83% | 100,000c5dFalset10:64.58%:65.42%\n"
     ]
    },
    {
     "name": "stderr",
     "output_type": "stream",
     "text": [
      "\n",
      "epoch-228 lr=['0.0010000'], tr/val_loss:  0.004615/  2.925064, tr: 100.00%, val:  77.92%, val_best:  80.83%: 100%|██████████| 49/49 [00:09<00:00,  5.16it/s]"
     ]
    },
    {
     "name": "stdout",
     "output_type": "stream",
     "text": [
      "Domain loss,acc: 0.831614, 100.00% Target domain: tr_loss-4.139607, tr_acc-65.64%\n",
      "100,000c5dTruet10:77.92%:80.83% | 100,000c5dFalset10:64.17%:65.42%\n"
     ]
    },
    {
     "name": "stderr",
     "output_type": "stream",
     "text": [
      "\n",
      "epoch-229 lr=['0.0010000'], tr/val_loss:  0.004388/  2.930280, tr: 100.00%, val:  77.92%, val_best:  80.83%: 100%|██████████| 49/49 [00:10<00:00,  4.67it/s]"
     ]
    },
    {
     "name": "stdout",
     "output_type": "stream",
     "text": [
      "Domain loss,acc: 0.837785, 100.00% Target domain: tr_loss-4.171374, tr_acc-67.69%\n",
      "100,000c5dTruet10:77.92%:80.83% | 100,000c5dFalset10:64.58%:65.42%\n"
     ]
    },
    {
     "name": "stderr",
     "output_type": "stream",
     "text": [
      "\n",
      "epoch-230 lr=['0.0010000'], tr/val_loss:  0.004402/  2.942935, tr: 100.00%, val:  77.92%, val_best:  80.83%: 100%|██████████| 49/49 [00:11<00:00,  4.35it/s]"
     ]
    },
    {
     "name": "stdout",
     "output_type": "stream",
     "text": [
      "Domain loss,acc: 0.846463, 100.00% Target domain: tr_loss-4.214707, tr_acc-65.13%\n",
      "100,000c5dTruet10:77.92%:80.83% | 100,000c5dFalset10:64.17%:65.42%\n"
     ]
    },
    {
     "name": "stderr",
     "output_type": "stream",
     "text": [
      "\n",
      "epoch-231 lr=['0.0010000'], tr/val_loss:  0.003809/  2.944070, tr: 100.00%, val:  77.92%, val_best:  80.83%: 100%|██████████| 49/49 [00:10<00:00,  4.58it/s]"
     ]
    },
    {
     "name": "stdout",
     "output_type": "stream",
     "text": [
      "Domain loss,acc: 0.872251, 100.00% Target domain: tr_loss-4.346020, tr_acc-66.67%\n",
      "100,000c5dTruet10:77.92%:80.83% | 100,000c5dFalset10:64.17%:65.42%\n"
     ]
    },
    {
     "name": "stderr",
     "output_type": "stream",
     "text": [
      "\n",
      "epoch-232 lr=['0.0010000'], tr/val_loss:  0.004353/  2.953046, tr: 100.00%, val:  78.33%, val_best:  80.83%: 100%|██████████| 49/49 [00:10<00:00,  4.54it/s]"
     ]
    },
    {
     "name": "stdout",
     "output_type": "stream",
     "text": [
      "Domain loss,acc: 0.832603, 100.00% Target domain: tr_loss-4.145605, tr_acc-66.67%\n",
      "100,000c5dTruet10:78.33%:80.83% | 100,000c5dFalset10:64.58%:65.42%\n"
     ]
    },
    {
     "name": "stderr",
     "output_type": "stream",
     "text": [
      "\n",
      "epoch-233 lr=['0.0010000'], tr/val_loss:  0.003671/  2.948364, tr: 100.00%, val:  78.75%, val_best:  80.83%: 100%|██████████| 49/49 [00:09<00:00,  5.13it/s]"
     ]
    },
    {
     "name": "stdout",
     "output_type": "stream",
     "text": [
      "Domain loss,acc: 0.831750, 100.00% Target domain: tr_loss-4.144068, tr_acc-66.67%\n",
      "100,000c5dTruet10:78.75%:80.83% | 100,000c5dFalset10:64.58%:65.42%\n"
     ]
    },
    {
     "name": "stderr",
     "output_type": "stream",
     "text": [
      "\n",
      "epoch-234 lr=['0.0010000'], tr/val_loss:  0.003798/  2.955557, tr: 100.00%, val:  78.33%, val_best:  80.83%: 100%|██████████| 49/49 [00:09<00:00,  4.92it/s]"
     ]
    },
    {
     "name": "stdout",
     "output_type": "stream",
     "text": [
      "Domain loss,acc: 0.852055, 100.00% Target domain: tr_loss-4.245082, tr_acc-67.69%\n",
      "100,000c5dTruet10:78.33%:80.83% | 100,000c5dFalset10:64.58%:65.42%\n"
     ]
    },
    {
     "name": "stderr",
     "output_type": "stream",
     "text": [
      "\n",
      "epoch-235 lr=['0.0010000'], tr/val_loss:  0.004101/  2.967958, tr: 100.00%, val:  79.17%, val_best:  80.83%: 100%|██████████| 49/49 [00:10<00:00,  4.81it/s]"
     ]
    },
    {
     "name": "stdout",
     "output_type": "stream",
     "text": [
      "Domain loss,acc: 0.826525, 100.00% Target domain: tr_loss-4.116220, tr_acc-67.69%\n",
      "100,000c5dTruet10:79.17%:80.83% | 100,000c5dFalset10:64.58%:65.42%\n"
     ]
    },
    {
     "name": "stderr",
     "output_type": "stream",
     "text": [
      "\n",
      "epoch-236 lr=['0.0010000'], tr/val_loss:  0.003679/  2.973416, tr: 100.00%, val:  78.75%, val_best:  80.83%: 100%|██████████| 49/49 [00:10<00:00,  4.73it/s]"
     ]
    },
    {
     "name": "stdout",
     "output_type": "stream",
     "text": [
      "Domain loss,acc: 0.862450, 100.00% Target domain: tr_loss-4.297531, tr_acc-67.18%\n",
      "100,000c5dTruet10:78.75%:80.83% | 100,000c5dFalset10:64.58%:65.42%\n"
     ]
    },
    {
     "name": "stderr",
     "output_type": "stream",
     "text": [
      "\n",
      "epoch-237 lr=['0.0010000'], tr/val_loss:  0.004378/  2.977735, tr: 100.00%, val:  78.33%, val_best:  80.83%: 100%|██████████| 49/49 [00:10<00:00,  4.68it/s]"
     ]
    },
    {
     "name": "stdout",
     "output_type": "stream",
     "text": [
      "Domain loss,acc: 0.864412, 100.00% Target domain: tr_loss-4.304548, tr_acc-67.69%\n",
      "100,000c5dTruet10:78.33%:80.83% | 100,000c5dFalset10:64.58%:65.42%\n"
     ]
    },
    {
     "name": "stderr",
     "output_type": "stream",
     "text": [
      "\n",
      "epoch-238 lr=['0.0010000'], tr/val_loss:  0.003701/  2.968912, tr: 100.00%, val:  78.33%, val_best:  80.83%: 100%|██████████| 49/49 [00:11<00:00,  4.41it/s]"
     ]
    },
    {
     "name": "stdout",
     "output_type": "stream",
     "text": [
      "Domain loss,acc: 0.866384, 100.00% Target domain: tr_loss-4.317113, tr_acc-65.64%\n",
      "100,000c5dTruet10:78.33%:80.83% | 100,000c5dFalset10:64.58%:65.42%\n"
     ]
    },
    {
     "name": "stderr",
     "output_type": "stream",
     "text": [
      "\n",
      "epoch-239 lr=['0.0010000'], tr/val_loss:  0.003514/  2.967639, tr: 100.00%, val:  78.33%, val_best:  80.83%: 100%|██████████| 49/49 [00:10<00:00,  4.67it/s]"
     ]
    },
    {
     "name": "stdout",
     "output_type": "stream",
     "text": [
      "Domain loss,acc: 0.857499, 100.00% Target domain: tr_loss-4.273440, tr_acc-66.15%\n",
      "100,000c5dTruet10:78.33%:80.83% | 100,000c5dFalset10:64.58%:65.42%\n"
     ]
    },
    {
     "name": "stderr",
     "output_type": "stream",
     "text": [
      "\n",
      "epoch-240 lr=['0.0010000'], tr/val_loss:  0.003881/  2.974953, tr: 100.00%, val:  78.33%, val_best:  80.83%: 100%|██████████| 49/49 [00:10<00:00,  4.61it/s]"
     ]
    },
    {
     "name": "stdout",
     "output_type": "stream",
     "text": [
      "Domain loss,acc: 0.875273, 100.00% Target domain: tr_loss-4.360839, tr_acc-66.67%\n",
      "100,000c5dTruet10:78.33%:80.83% | 100,000c5dFalset10:64.58%:65.42%\n"
     ]
    },
    {
     "name": "stderr",
     "output_type": "stream",
     "text": [
      "\n",
      "epoch-241 lr=['0.0010000'], tr/val_loss:  0.003964/  2.976521, tr: 100.00%, val:  77.92%, val_best:  80.83%: 100%|██████████| 49/49 [00:10<00:00,  4.53it/s]"
     ]
    },
    {
     "name": "stdout",
     "output_type": "stream",
     "text": [
      "Domain loss,acc: 0.852207, 100.00% Target domain: tr_loss-4.245179, tr_acc-67.18%\n",
      "100,000c5dTruet10:77.92%:80.83% | 100,000c5dFalset10:63.75%:65.42%\n"
     ]
    },
    {
     "name": "stderr",
     "output_type": "stream",
     "text": [
      "\n",
      "epoch-242 lr=['0.0010000'], tr/val_loss:  0.004545/  2.991668, tr: 100.00%, val:  78.75%, val_best:  80.83%: 100%|██████████| 49/49 [00:10<00:00,  4.66it/s]"
     ]
    },
    {
     "name": "stdout",
     "output_type": "stream",
     "text": [
      "Domain loss,acc: 0.843208, 100.00% Target domain: tr_loss-4.197857, tr_acc-66.67%\n",
      "100,000c5dTruet10:78.75%:80.83% | 100,000c5dFalset10:64.17%:65.42%\n"
     ]
    },
    {
     "name": "stderr",
     "output_type": "stream",
     "text": [
      "\n",
      "epoch-243 lr=['0.0010000'], tr/val_loss:  0.003858/  2.956551, tr: 100.00%, val:  78.33%, val_best:  80.83%: 100%|██████████| 49/49 [00:10<00:00,  4.61it/s]"
     ]
    },
    {
     "name": "stdout",
     "output_type": "stream",
     "text": [
      "Domain loss,acc: 0.867233, 100.00% Target domain: tr_loss-4.320736, tr_acc-67.18%\n",
      "100,000c5dTruet10:78.33%:80.83% | 100,000c5dFalset10:63.75%:65.42%\n"
     ]
    },
    {
     "name": "stderr",
     "output_type": "stream",
     "text": [
      "\n",
      "epoch-244 lr=['0.0010000'], tr/val_loss:  0.003562/  2.949448, tr: 100.00%, val:  79.17%, val_best:  80.83%: 100%|██████████| 49/49 [00:10<00:00,  4.61it/s]"
     ]
    },
    {
     "name": "stdout",
     "output_type": "stream",
     "text": [
      "Domain loss,acc: 0.874646, 100.00% Target domain: tr_loss-4.358981, tr_acc-66.67%\n",
      "100,000c5dTruet10:79.17%:80.83% | 100,000c5dFalset10:64.17%:65.42%\n"
     ]
    },
    {
     "name": "stderr",
     "output_type": "stream",
     "text": [
      "\n",
      "epoch-245 lr=['0.0010000'], tr/val_loss:  0.003818/  2.968649, tr: 100.00%, val:  79.17%, val_best:  80.83%: 100%|██████████| 49/49 [00:10<00:00,  4.63it/s]"
     ]
    },
    {
     "name": "stdout",
     "output_type": "stream",
     "text": [
      "Domain loss,acc: 0.854469, 100.00% Target domain: tr_loss-4.257076, tr_acc-67.18%\n",
      "100,000c5dTruet10:79.17%:80.83% | 100,000c5dFalset10:64.17%:65.42%\n"
     ]
    },
    {
     "name": "stderr",
     "output_type": "stream",
     "text": [
      "\n",
      "epoch-246 lr=['0.0010000'], tr/val_loss:  0.003515/  2.959223, tr: 100.00%, val:  78.75%, val_best:  80.83%: 100%|██████████| 49/49 [00:10<00:00,  4.65it/s]"
     ]
    },
    {
     "name": "stdout",
     "output_type": "stream",
     "text": [
      "Domain loss,acc: 0.895190, 100.00% Target domain: tr_loss-4.461889, tr_acc-67.18%\n",
      "100,000c5dTruet10:78.75%:80.83% | 100,000c5dFalset10:64.17%:65.42%\n"
     ]
    },
    {
     "name": "stderr",
     "output_type": "stream",
     "text": [
      "\n",
      "epoch-247 lr=['0.0010000'], tr/val_loss:  0.003791/  2.962055, tr: 100.00%, val:  79.17%, val_best:  80.83%: 100%|██████████| 49/49 [00:10<00:00,  4.75it/s]"
     ]
    },
    {
     "name": "stdout",
     "output_type": "stream",
     "text": [
      "Domain loss,acc: 0.890481, 100.00% Target domain: tr_loss-4.437239, tr_acc-67.18%\n",
      "100,000c5dTruet10:79.17%:80.83% | 100,000c5dFalset10:65.00%:65.42%\n"
     ]
    },
    {
     "name": "stderr",
     "output_type": "stream",
     "text": [
      "\n",
      "epoch-248 lr=['0.0010000'], tr/val_loss:  0.003576/  2.968450, tr: 100.00%, val:  79.58%, val_best:  80.83%: 100%|██████████| 49/49 [00:10<00:00,  4.56it/s]"
     ]
    },
    {
     "name": "stdout",
     "output_type": "stream",
     "text": [
      "Domain loss,acc: 0.888292, 100.00% Target domain: tr_loss-4.427158, tr_acc-67.69%\n",
      "100,000c5dTruet10:79.58%:80.83% | 100,000c5dFalset10:63.75%:65.42%\n"
     ]
    },
    {
     "name": "stderr",
     "output_type": "stream",
     "text": [
      "\n",
      "epoch-249 lr=['0.0010000'], tr/val_loss:  0.004052/  2.966625, tr: 100.00%, val:  78.75%, val_best:  80.83%: 100%|██████████| 49/49 [00:09<00:00,  5.02it/s]"
     ]
    },
    {
     "name": "stdout",
     "output_type": "stream",
     "text": [
      "Domain loss,acc: 0.843790, 100.00% Target domain: tr_loss-4.202742, tr_acc-67.69%\n",
      "100,000c5dTruet10:78.75%:80.83% | 100,000c5dFalset10:64.58%:65.42%\n"
     ]
    },
    {
     "name": "stderr",
     "output_type": "stream",
     "text": [
      "\n",
      "epoch-250 lr=['0.0010000'], tr/val_loss:  0.004008/  2.975457, tr: 100.00%, val:  79.17%, val_best:  80.83%: 100%|██████████| 49/49 [00:10<00:00,  4.87it/s]"
     ]
    },
    {
     "name": "stdout",
     "output_type": "stream",
     "text": [
      "Domain loss,acc: 0.869062, 100.00% Target domain: tr_loss-4.329276, tr_acc-67.18%\n",
      "100,000c5dTruet10:79.17%:80.83% | 100,000c5dFalset10:64.58%:65.42%\n"
     ]
    },
    {
     "name": "stderr",
     "output_type": "stream",
     "text": [
      "\n",
      "epoch-251 lr=['0.0010000'], tr/val_loss:  0.004351/  2.983129, tr: 100.00%, val:  79.17%, val_best:  80.83%: 100%|██████████| 49/49 [00:10<00:00,  4.63it/s]"
     ]
    },
    {
     "name": "stdout",
     "output_type": "stream",
     "text": [
      "Domain loss,acc: 0.886586, 100.00% Target domain: tr_loss-4.415527, tr_acc-67.18%\n",
      "100,000c5dTruet10:79.17%:80.83% | 100,000c5dFalset10:64.58%:65.42%\n"
     ]
    },
    {
     "name": "stderr",
     "output_type": "stream",
     "text": [
      "\n",
      "epoch-252 lr=['0.0010000'], tr/val_loss:  0.003279/  2.987516, tr: 100.00%, val:  79.58%, val_best:  80.83%: 100%|██████████| 49/49 [00:10<00:00,  4.89it/s]"
     ]
    },
    {
     "name": "stdout",
     "output_type": "stream",
     "text": [
      "Domain loss,acc: 0.844114, 100.00% Target domain: tr_loss-4.207455, tr_acc-67.18%\n",
      "100,000c5dTruet10:79.58%:80.83% | 100,000c5dFalset10:64.17%:65.42%\n"
     ]
    },
    {
     "name": "stderr",
     "output_type": "stream",
     "text": [
      "\n",
      "epoch-253 lr=['0.0010000'], tr/val_loss:  0.004033/  2.985280, tr: 100.00%, val:  78.33%, val_best:  80.83%: 100%|██████████| 49/49 [00:10<00:00,  4.66it/s]"
     ]
    },
    {
     "name": "stdout",
     "output_type": "stream",
     "text": [
      "Domain loss,acc: 0.845265, 100.00% Target domain: tr_loss-4.210192, tr_acc-67.18%\n",
      "100,000c5dTruet10:78.33%:80.83% | 100,000c5dFalset10:64.17%:65.42%\n"
     ]
    },
    {
     "name": "stderr",
     "output_type": "stream",
     "text": [
      "\n",
      "epoch-254 lr=['0.0010000'], tr/val_loss:  0.004116/  2.989764, tr: 100.00%, val:  78.75%, val_best:  80.83%: 100%|██████████| 49/49 [00:10<00:00,  4.68it/s]"
     ]
    },
    {
     "name": "stdout",
     "output_type": "stream",
     "text": [
      "Domain loss,acc: 0.820493, 100.00% Target domain: tr_loss-4.086002, tr_acc-67.18%\n",
      "100,000c5dTruet10:78.75%:80.83% | 100,000c5dFalset10:63.33%:65.42%\n"
     ]
    },
    {
     "name": "stderr",
     "output_type": "stream",
     "text": [
      "\n",
      "epoch-255 lr=['0.0010000'], tr/val_loss:  0.004066/  2.981843, tr: 100.00%, val:  77.92%, val_best:  80.83%: 100%|██████████| 49/49 [00:10<00:00,  4.65it/s]"
     ]
    },
    {
     "name": "stdout",
     "output_type": "stream",
     "text": [
      "Domain loss,acc: 0.844034, 100.00% Target domain: tr_loss-4.203907, tr_acc-67.18%\n",
      "100,000c5dTruet10:77.92%:80.83% | 100,000c5dFalset10:64.17%:65.42%\n"
     ]
    },
    {
     "name": "stderr",
     "output_type": "stream",
     "text": [
      "\n",
      "epoch-256 lr=['0.0010000'], tr/val_loss:  0.003723/  2.989761, tr: 100.00%, val:  77.92%, val_best:  80.83%: 100%|██████████| 49/49 [00:10<00:00,  4.61it/s]"
     ]
    },
    {
     "name": "stdout",
     "output_type": "stream",
     "text": [
      "Domain loss,acc: 0.850310, 100.00% Target domain: tr_loss-4.236659, tr_acc-68.21%\n",
      "100,000c5dTruet10:77.92%:80.83% | 100,000c5dFalset10:64.17%:65.42%\n"
     ]
    },
    {
     "name": "stderr",
     "output_type": "stream",
     "text": [
      "\n",
      "epoch-257 lr=['0.0010000'], tr/val_loss:  0.003220/  2.998586, tr: 100.00%, val:  77.92%, val_best:  80.83%: 100%|██████████| 49/49 [00:10<00:00,  4.68it/s]"
     ]
    },
    {
     "name": "stdout",
     "output_type": "stream",
     "text": [
      "Domain loss,acc: 0.858122, 100.00% Target domain: tr_loss-4.277731, tr_acc-67.18%\n",
      "100,000c5dTruet10:77.92%:80.83% | 100,000c5dFalset10:65.42%:65.42%\n"
     ]
    },
    {
     "name": "stderr",
     "output_type": "stream",
     "text": [
      "\n",
      "epoch-258 lr=['0.0010000'], tr/val_loss:  0.003968/  2.992011, tr: 100.00%, val:  77.50%, val_best:  80.83%: 100%|██████████| 49/49 [00:10<00:00,  4.53it/s]"
     ]
    },
    {
     "name": "stdout",
     "output_type": "stream",
     "text": [
      "Domain loss,acc: 0.835431, 100.00% Target domain: tr_loss-4.161280, tr_acc-67.18%\n",
      "100,000c5dTruet10:77.50%:80.83% | 100,000c5dFalset10:65.42%:65.42%\n"
     ]
    },
    {
     "name": "stderr",
     "output_type": "stream",
     "text": [
      "\n",
      "epoch-259 lr=['0.0010000'], tr/val_loss:  0.003510/  3.005699, tr: 100.00%, val:  78.33%, val_best:  80.83%: 100%|██████████| 49/49 [00:10<00:00,  4.60it/s]"
     ]
    },
    {
     "name": "stdout",
     "output_type": "stream",
     "text": [
      "Domain loss,acc: 0.860135, 100.00% Target domain: tr_loss-4.286635, tr_acc-67.18%\n",
      "100,000c5dTruet10:78.33%:80.83% | 100,000c5dFalset10:64.58%:65.42%\n"
     ]
    },
    {
     "name": "stderr",
     "output_type": "stream",
     "text": [
      "\n",
      "epoch-260 lr=['0.0010000'], tr/val_loss:  0.003689/  2.976442, tr: 100.00%, val:  78.75%, val_best:  80.83%: 100%|██████████| 49/49 [00:10<00:00,  4.69it/s]"
     ]
    },
    {
     "name": "stdout",
     "output_type": "stream",
     "text": [
      "Domain loss,acc: 0.836761, 100.00% Target domain: tr_loss-4.169046, tr_acc-67.18%\n",
      "100,000c5dTruet10:78.75%:80.83% | 100,000c5dFalset10:64.58%:65.42%\n"
     ]
    },
    {
     "name": "stderr",
     "output_type": "stream",
     "text": [
      "\n",
      "epoch-261 lr=['0.0010000'], tr/val_loss:  0.003066/  2.990951, tr: 100.00%, val:  78.33%, val_best:  80.83%: 100%|██████████| 49/49 [00:10<00:00,  4.47it/s]"
     ]
    },
    {
     "name": "stdout",
     "output_type": "stream",
     "text": [
      "Domain loss,acc: 0.851607, 100.00% Target domain: tr_loss-4.245770, tr_acc-67.18%\n",
      "100,000c5dTruet10:78.33%:80.83% | 100,000c5dFalset10:65.00%:65.42%\n"
     ]
    },
    {
     "name": "stderr",
     "output_type": "stream",
     "text": [
      "\n",
      "epoch-262 lr=['0.0010000'], tr/val_loss:  0.003175/  3.006093, tr: 100.00%, val:  77.50%, val_best:  80.83%: 100%|██████████| 49/49 [00:10<00:00,  4.58it/s]"
     ]
    },
    {
     "name": "stdout",
     "output_type": "stream",
     "text": [
      "Domain loss,acc: 0.865604, 100.00% Target domain: tr_loss-4.315317, tr_acc-67.18%\n",
      "100,000c5dTruet10:77.50%:80.83% | 100,000c5dFalset10:65.42%:65.42%\n"
     ]
    },
    {
     "name": "stderr",
     "output_type": "stream",
     "text": [
      "\n",
      "epoch-263 lr=['0.0010000'], tr/val_loss:  0.003308/  3.006058, tr: 100.00%, val:  78.33%, val_best:  80.83%: 100%|██████████| 49/49 [00:10<00:00,  4.66it/s]"
     ]
    },
    {
     "name": "stdout",
     "output_type": "stream",
     "text": [
      "Domain loss,acc: 0.883662, 100.00% Target domain: tr_loss-4.405077, tr_acc-66.67%\n",
      "100,000c5dTruet10:78.33%:80.83% | 100,000c5dFalset10:64.17%:65.42%\n"
     ]
    },
    {
     "name": "stderr",
     "output_type": "stream",
     "text": [
      "\n",
      "epoch-264 lr=['0.0010000'], tr/val_loss:  0.004192/  2.991160, tr: 100.00%, val:  78.33%, val_best:  80.83%: 100%|██████████| 49/49 [00:10<00:00,  4.81it/s]"
     ]
    },
    {
     "name": "stdout",
     "output_type": "stream",
     "text": [
      "Domain loss,acc: 0.856373, 100.00% Target domain: tr_loss-4.265096, tr_acc-66.67%\n",
      "100,000c5dTruet10:78.33%:80.83% | 100,000c5dFalset10:63.75%:65.42%\n"
     ]
    },
    {
     "name": "stderr",
     "output_type": "stream",
     "text": [
      "\n",
      "epoch-265 lr=['0.0010000'], tr/val_loss:  0.003692/  3.006794, tr: 100.00%, val:  77.50%, val_best:  80.83%: 100%|██████████| 49/49 [00:09<00:00,  5.00it/s]"
     ]
    },
    {
     "name": "stdout",
     "output_type": "stream",
     "text": [
      "Domain loss,acc: 0.844320, 100.00% Target domain: tr_loss-4.206832, tr_acc-66.67%\n",
      "100,000c5dTruet10:77.50%:80.83% | 100,000c5dFalset10:65.00%:65.42%\n"
     ]
    },
    {
     "name": "stderr",
     "output_type": "stream",
     "text": [
      "\n",
      "epoch-266 lr=['0.0010000'], tr/val_loss:  0.003299/  2.998891, tr: 100.00%, val:  77.92%, val_best:  80.83%: 100%|██████████| 49/49 [00:10<00:00,  4.80it/s]"
     ]
    },
    {
     "name": "stdout",
     "output_type": "stream",
     "text": [
      "Domain loss,acc: 0.837151, 100.00% Target domain: tr_loss-4.172557, tr_acc-66.67%\n",
      "100,000c5dTruet10:77.92%:80.83% | 100,000c5dFalset10:64.58%:65.42%\n"
     ]
    },
    {
     "name": "stderr",
     "output_type": "stream",
     "text": [
      "\n",
      "epoch-267 lr=['0.0010000'], tr/val_loss:  0.003130/  2.990347, tr: 100.00%, val:  78.33%, val_best:  80.83%: 100%|██████████| 49/49 [00:10<00:00,  4.80it/s]"
     ]
    },
    {
     "name": "stdout",
     "output_type": "stream",
     "text": [
      "Domain loss,acc: 0.846306, 100.00% Target domain: tr_loss-4.219007, tr_acc-66.67%\n",
      "100,000c5dTruet10:78.33%:80.83% | 100,000c5dFalset10:63.75%:65.42%\n"
     ]
    },
    {
     "name": "stderr",
     "output_type": "stream",
     "text": [
      "\n",
      "epoch-268 lr=['0.0010000'], tr/val_loss:  0.003265/  3.008352, tr: 100.00%, val:  77.08%, val_best:  80.83%: 100%|██████████| 49/49 [00:10<00:00,  4.49it/s]"
     ]
    },
    {
     "name": "stdout",
     "output_type": "stream",
     "text": [
      "Domain loss,acc: 0.859674, 100.00% Target domain: tr_loss-4.285309, tr_acc-66.67%\n",
      "100,000c5dTruet10:77.08%:80.83% | 100,000c5dFalset10:65.00%:65.42%\n"
     ]
    },
    {
     "name": "stderr",
     "output_type": "stream",
     "text": [
      "\n",
      "epoch-269 lr=['0.0010000'], tr/val_loss:  0.003149/  2.991477, tr: 100.00%, val:  78.33%, val_best:  80.83%: 100%|██████████| 49/49 [00:10<00:00,  4.52it/s]"
     ]
    },
    {
     "name": "stdout",
     "output_type": "stream",
     "text": [
      "Domain loss,acc: 0.831588, 100.00% Target domain: tr_loss-4.145346, tr_acc-66.15%\n",
      "100,000c5dTruet10:78.33%:80.83% | 100,000c5dFalset10:65.00%:65.42%\n"
     ]
    },
    {
     "name": "stderr",
     "output_type": "stream",
     "text": [
      "\n",
      "epoch-270 lr=['0.0010000'], tr/val_loss:  0.003262/  3.000559, tr: 100.00%, val:  77.50%, val_best:  80.83%: 100%|██████████| 49/49 [00:10<00:00,  4.50it/s]"
     ]
    },
    {
     "name": "stdout",
     "output_type": "stream",
     "text": [
      "Domain loss,acc: 0.848404, 100.00% Target domain: tr_loss-4.228971, tr_acc-66.15%\n",
      "100,000c5dTruet10:77.50%:80.83% | 100,000c5dFalset10:64.58%:65.42%\n"
     ]
    },
    {
     "name": "stderr",
     "output_type": "stream",
     "text": [
      "\n",
      "epoch-271 lr=['0.0010000'], tr/val_loss:  0.002880/  3.002289, tr: 100.00%, val:  79.17%, val_best:  80.83%: 100%|██████████| 49/49 [00:10<00:00,  4.68it/s]"
     ]
    },
    {
     "name": "stdout",
     "output_type": "stream",
     "text": [
      "Domain loss,acc: 0.901060, 100.00% Target domain: tr_loss-4.493779, tr_acc-66.15%\n",
      "100,000c5dTruet10:79.17%:80.83% | 100,000c5dFalset10:65.42%:65.42%\n"
     ]
    },
    {
     "name": "stderr",
     "output_type": "stream",
     "text": [
      "\n",
      "epoch-272 lr=['0.0010000'], tr/val_loss:  0.003060/  2.995874, tr: 100.00%, val:  78.33%, val_best:  80.83%: 100%|██████████| 49/49 [00:10<00:00,  4.56it/s]"
     ]
    },
    {
     "name": "stdout",
     "output_type": "stream",
     "text": [
      "Domain loss,acc: 0.867836, 100.00% Target domain: tr_loss-4.326941, tr_acc-66.15%\n",
      "100,000c5dTruet10:78.33%:80.83% | 100,000c5dFalset10:64.58%:65.42%\n"
     ]
    },
    {
     "name": "stderr",
     "output_type": "stream",
     "text": [
      "\n",
      "epoch-273 lr=['0.0010000'], tr/val_loss:  0.002895/  2.999238, tr: 100.00%, val:  78.33%, val_best:  80.83%: 100%|██████████| 49/49 [00:10<00:00,  4.70it/s]"
     ]
    },
    {
     "name": "stdout",
     "output_type": "stream",
     "text": [
      "Domain loss,acc: 0.894226, 100.00% Target domain: tr_loss-4.459547, tr_acc-66.15%\n",
      "100,000c5dTruet10:78.33%:80.83% | 100,000c5dFalset10:65.00%:65.42%\n"
     ]
    },
    {
     "name": "stderr",
     "output_type": "stream",
     "text": [
      "\n",
      "epoch-274 lr=['0.0010000'], tr/val_loss:  0.002855/  2.996605, tr: 100.00%, val:  77.92%, val_best:  80.83%: 100%|██████████| 49/49 [00:10<00:00,  4.58it/s]"
     ]
    },
    {
     "name": "stdout",
     "output_type": "stream",
     "text": [
      "Domain loss,acc: 0.863274, 100.00% Target domain: tr_loss-4.304950, tr_acc-66.15%\n",
      "100,000c5dTruet10:77.92%:80.83% | 100,000c5dFalset10:65.00%:65.42%\n"
     ]
    },
    {
     "name": "stderr",
     "output_type": "stream",
     "text": [
      "\n",
      "epoch-275 lr=['0.0010000'], tr/val_loss:  0.003027/  2.992046, tr: 100.00%, val:  78.75%, val_best:  80.83%: 100%|██████████| 49/49 [00:10<00:00,  4.50it/s]"
     ]
    },
    {
     "name": "stdout",
     "output_type": "stream",
     "text": [
      "Domain loss,acc: 0.849653, 100.00% Target domain: tr_loss-4.236159, tr_acc-67.18%\n",
      "100,000c5dTruet10:78.75%:80.83% | 100,000c5dFalset10:65.42%:65.42%\n"
     ]
    },
    {
     "name": "stderr",
     "output_type": "stream",
     "text": [
      "\n",
      "epoch-276 lr=['0.0010000'], tr/val_loss:  0.003215/  2.987465, tr: 100.00%, val:  79.17%, val_best:  80.83%: 100%|██████████| 49/49 [00:10<00:00,  4.69it/s]"
     ]
    },
    {
     "name": "stdout",
     "output_type": "stream",
     "text": [
      "Domain loss,acc: 0.890213, 100.00% Target domain: tr_loss-4.438202, tr_acc-65.64%\n",
      "100,000c5dTruet10:79.17%:80.83% | 100,000c5dFalset10:65.00%:65.42%\n"
     ]
    },
    {
     "name": "stderr",
     "output_type": "stream",
     "text": [
      "\n",
      "epoch-277 lr=['0.0010000'], tr/val_loss:  0.003015/  3.013062, tr: 100.00%, val:  78.33%, val_best:  80.83%: 100%|██████████| 49/49 [00:10<00:00,  4.50it/s]"
     ]
    },
    {
     "name": "stdout",
     "output_type": "stream",
     "text": [
      "Domain loss,acc: 0.854108, 100.00% Target domain: tr_loss-4.258481, tr_acc-67.18%\n",
      "100,000c5dTruet10:78.33%:80.83% | 100,000c5dFalset10:65.42%:65.42%\n"
     ]
    },
    {
     "name": "stderr",
     "output_type": "stream",
     "text": [
      "\n",
      "epoch-278 lr=['0.0010000'], tr/val_loss:  0.002902/  2.996482, tr: 100.00%, val:  78.75%, val_best:  80.83%: 100%|██████████| 49/49 [00:10<00:00,  4.54it/s]"
     ]
    },
    {
     "name": "stdout",
     "output_type": "stream",
     "text": [
      "Domain loss,acc: 0.874359, 100.00% Target domain: tr_loss-4.360188, tr_acc-66.67%\n",
      "100,000c5dTruet10:78.75%:80.83% | 100,000c5dFalset10:64.17%:65.42%\n"
     ]
    },
    {
     "name": "stderr",
     "output_type": "stream",
     "text": [
      "\n",
      "epoch-279 lr=['0.0010000'], tr/val_loss:  0.002953/  3.000544, tr: 100.00%, val:  77.92%, val_best:  80.83%: 100%|██████████| 49/49 [00:10<00:00,  4.64it/s]"
     ]
    },
    {
     "name": "stdout",
     "output_type": "stream",
     "text": [
      "Domain loss,acc: 0.847403, 100.00% Target domain: tr_loss-4.225203, tr_acc-67.18%\n",
      "100,000c5dTruet10:77.92%:80.83% | 100,000c5dFalset10:65.42%:65.42%\n"
     ]
    },
    {
     "name": "stderr",
     "output_type": "stream",
     "text": [
      "\n",
      "epoch-280 lr=['0.0010000'], tr/val_loss:  0.002814/  3.006881, tr: 100.00%, val:  78.75%, val_best:  80.83%: 100%|██████████| 49/49 [00:09<00:00,  4.94it/s]"
     ]
    },
    {
     "name": "stdout",
     "output_type": "stream",
     "text": [
      "Domain loss,acc: 0.897951, 100.00% Target domain: tr_loss-4.478501, tr_acc-66.15%\n",
      "100,000c5dTruet10:78.75%:80.83% | 100,000c5dFalset10:65.42%:65.42%\n"
     ]
    },
    {
     "name": "stderr",
     "output_type": "stream",
     "text": [
      "\n",
      "epoch-281 lr=['0.0010000'], tr/val_loss:  0.002686/  3.001137, tr: 100.00%, val:  80.00%, val_best:  80.83%: 100%|██████████| 49/49 [00:10<00:00,  1.02it/s]"
     ]
    },
    {
     "name": "stdout",
     "output_type": "stream",
     "text": [
      "Domain loss,acc: 0.846719, 100.00% Target domain: tr_loss-4.222849, tr_acc-67.18%\n",
      "100,000c5dTruet10:80.00%:80.83% | 100,000c5dFalset10:65.00%:65.42%\n"
     ]
    },
    {
     "name": "stderr",
     "output_type": "stream",
     "text": [
      "epoch-281 lr=['0.0010000'], tr/val_loss:  0.002686/  3.001137, tr: 100.00%, val:  80.00%, val_best:  80.83%: 100%|██████████| 49/49 [00:10<00:00,  4.80it/s]\n",
      "epoch-282 lr=['0.0010000'], tr/val_loss:  0.002994/  3.005629, tr: 100.00%, val:  79.17%, val_best:  80.83%: 100%|██████████| 49/49 [00:10<00:00,  4.73it/s]"
     ]
    },
    {
     "name": "stdout",
     "output_type": "stream",
     "text": [
      "Domain loss,acc: 0.845003, 100.00% Target domain: tr_loss-4.213038, tr_acc-66.15%\n",
      "100,000c5dTruet10:79.17%:80.83% | 100,000c5dFalset10:65.00%:65.42%\n"
     ]
    },
    {
     "name": "stderr",
     "output_type": "stream",
     "text": [
      "\n",
      "epoch-283 lr=['0.0010000'], tr/val_loss:  0.003096/  3.005941, tr: 100.00%, val:  79.17%, val_best:  80.83%: 100%|██████████| 49/49 [00:10<00:00,  4.77it/s]"
     ]
    },
    {
     "name": "stdout",
     "output_type": "stream",
     "text": [
      "Domain loss,acc: 0.857684, 100.00% Target domain: tr_loss-4.276039, tr_acc-66.15%\n",
      "100,000c5dTruet10:79.17%:80.83% | 100,000c5dFalset10:65.00%:65.42%\n"
     ]
    },
    {
     "name": "stderr",
     "output_type": "stream",
     "text": [
      "\n",
      "epoch-284 lr=['0.0010000'], tr/val_loss:  0.003008/  3.016530, tr: 100.00%, val:  79.58%, val_best:  80.83%: 100%|██████████| 49/49 [00:10<00:00,  4.52it/s]"
     ]
    },
    {
     "name": "stdout",
     "output_type": "stream",
     "text": [
      "Domain loss,acc: 0.861086, 100.00% Target domain: tr_loss-4.293400, tr_acc-66.67%\n",
      "100,000c5dTruet10:79.58%:80.83% | 100,000c5dFalset10:64.17%:65.42%\n"
     ]
    },
    {
     "name": "stderr",
     "output_type": "stream",
     "text": [
      "\n",
      "epoch-285 lr=['0.0010000'], tr/val_loss:  0.003476/  3.000313, tr: 100.00%, val:  79.17%, val_best:  80.83%: 100%|██████████| 49/49 [00:10<00:00,  4.84it/s]"
     ]
    },
    {
     "name": "stdout",
     "output_type": "stream",
     "text": [
      "Domain loss,acc: 0.848439, 100.00% Target domain: tr_loss-4.228288, tr_acc-66.67%\n",
      "100,000c5dTruet10:79.17%:80.83% | 100,000c5dFalset10:64.58%:65.42%\n"
     ]
    },
    {
     "name": "stderr",
     "output_type": "stream",
     "text": [
      "\n",
      "epoch-286 lr=['0.0010000'], tr/val_loss:  0.003398/  3.002525, tr: 100.00%, val:  78.33%, val_best:  80.83%: 100%|██████████| 49/49 [00:09<00:00,  5.14it/s]"
     ]
    },
    {
     "name": "stdout",
     "output_type": "stream",
     "text": [
      "Domain loss,acc: 0.914262, 100.00% Target domain: tr_loss-4.557720, tr_acc-67.18%\n",
      "100,000c5dTruet10:78.33%:80.83% | 100,000c5dFalset10:64.17%:65.42%\n"
     ]
    },
    {
     "name": "stderr",
     "output_type": "stream",
     "text": [
      "\n",
      "epoch-287 lr=['0.0010000'], tr/val_loss:  0.002835/  3.003882, tr: 100.00%, val:  79.58%, val_best:  80.83%: 100%|██████████| 49/49 [00:10<00:00,  4.57it/s]"
     ]
    },
    {
     "name": "stdout",
     "output_type": "stream",
     "text": [
      "Domain loss,acc: 0.888979, 100.00% Target domain: tr_loss-4.433558, tr_acc-67.69%\n",
      "100,000c5dTruet10:79.58%:80.83% | 100,000c5dFalset10:64.17%:65.42%\n"
     ]
    },
    {
     "name": "stderr",
     "output_type": "stream",
     "text": [
      "\n",
      "epoch-288 lr=['0.0010000'], tr/val_loss:  0.003492/  2.999993, tr: 100.00%, val:  79.17%, val_best:  80.83%: 100%|██████████| 49/49 [00:10<00:00,  4.62it/s]"
     ]
    },
    {
     "name": "stdout",
     "output_type": "stream",
     "text": [
      "Domain loss,acc: 0.874728, 100.00% Target domain: tr_loss-4.359676, tr_acc-67.18%\n",
      "100,000c5dTruet10:79.17%:80.83% | 100,000c5dFalset10:64.17%:65.42%\n"
     ]
    },
    {
     "name": "stderr",
     "output_type": "stream",
     "text": [
      "\n",
      "epoch-289 lr=['0.0010000'], tr/val_loss:  0.002710/  3.006111, tr: 100.00%, val:  79.17%, val_best:  80.83%: 100%|██████████| 49/49 [00:10<00:00,  4.62it/s]"
     ]
    },
    {
     "name": "stdout",
     "output_type": "stream",
     "text": [
      "Domain loss,acc: 0.875662, 100.00% Target domain: tr_loss-4.367472, tr_acc-67.18%\n",
      "100,000c5dTruet10:79.17%:80.83% | 100,000c5dFalset10:64.17%:65.42%\n"
     ]
    },
    {
     "name": "stderr",
     "output_type": "stream",
     "text": [
      "\n",
      "epoch-290 lr=['0.0010000'], tr/val_loss:  0.002692/  3.007252, tr: 100.00%, val:  78.75%, val_best:  80.83%: 100%|██████████| 49/49 [00:10<00:00,  4.84it/s]"
     ]
    },
    {
     "name": "stdout",
     "output_type": "stream",
     "text": [
      "Domain loss,acc: 0.823297, 100.00% Target domain: tr_loss-4.105716, tr_acc-67.69%\n",
      "100,000c5dTruet10:78.75%:80.83% | 100,000c5dFalset10:63.75%:65.42%\n"
     ]
    },
    {
     "name": "stderr",
     "output_type": "stream",
     "text": [
      "\n",
      "epoch-291 lr=['0.0010000'], tr/val_loss:  0.002656/  3.010939, tr: 100.00%, val:  79.17%, val_best:  80.83%: 100%|██████████| 49/49 [00:09<00:00,  5.02it/s]"
     ]
    },
    {
     "name": "stdout",
     "output_type": "stream",
     "text": [
      "Domain loss,acc: 0.886648, 100.00% Target domain: tr_loss-4.422616, tr_acc-67.18%\n",
      "100,000c5dTruet10:79.17%:80.83% | 100,000c5dFalset10:64.58%:65.42%\n"
     ]
    },
    {
     "name": "stderr",
     "output_type": "stream",
     "text": [
      "\n",
      "epoch-292 lr=['0.0010000'], tr/val_loss:  0.003330/  3.007080, tr: 100.00%, val:  79.58%, val_best:  80.83%: 100%|██████████| 49/49 [00:09<00:00,  4.96it/s]"
     ]
    },
    {
     "name": "stdout",
     "output_type": "stream",
     "text": [
      "Domain loss,acc: 0.850546, 100.00% Target domain: tr_loss-4.239413, tr_acc-67.69%\n",
      "100,000c5dTruet10:79.58%:80.83% | 100,000c5dFalset10:64.58%:65.42%\n"
     ]
    },
    {
     "name": "stderr",
     "output_type": "stream",
     "text": [
      "\n",
      "epoch-293 lr=['0.0010000'], tr/val_loss:  0.002787/  3.013916, tr: 100.00%, val:  78.75%, val_best:  80.83%: 100%|██████████| 49/49 [00:10<00:00,  4.70it/s]"
     ]
    },
    {
     "name": "stdout",
     "output_type": "stream",
     "text": [
      "Domain loss,acc: 0.866768, 100.00% Target domain: tr_loss-4.322687, tr_acc-66.67%\n",
      "100,000c5dTruet10:78.75%:80.83% | 100,000c5dFalset10:63.75%:65.42%\n"
     ]
    },
    {
     "name": "stderr",
     "output_type": "stream",
     "text": [
      "\n",
      "epoch-294 lr=['0.0010000'], tr/val_loss:  0.002712/  3.011816, tr: 100.00%, val:  78.75%, val_best:  80.83%: 100%|██████████| 49/49 [00:10<00:00,  4.76it/s]"
     ]
    },
    {
     "name": "stdout",
     "output_type": "stream",
     "text": [
      "Domain loss,acc: 0.880357, 100.00% Target domain: tr_loss-4.390940, tr_acc-67.18%\n",
      "100,000c5dTruet10:78.75%:80.83% | 100,000c5dFalset10:64.17%:65.42%\n"
     ]
    },
    {
     "name": "stderr",
     "output_type": "stream",
     "text": [
      "\n",
      "epoch-295 lr=['0.0010000'], tr/val_loss:  0.002736/  3.005438, tr: 100.00%, val:  78.75%, val_best:  80.83%: 100%|██████████| 49/49 [00:10<00:00,  4.63it/s]"
     ]
    },
    {
     "name": "stdout",
     "output_type": "stream",
     "text": [
      "Domain loss,acc: 0.840874, 100.00% Target domain: tr_loss-4.193424, tr_acc-67.69%\n",
      "100,000c5dTruet10:78.75%:80.83% | 100,000c5dFalset10:63.75%:65.42%\n"
     ]
    },
    {
     "name": "stderr",
     "output_type": "stream",
     "text": [
      "\n",
      "epoch-296 lr=['0.0010000'], tr/val_loss:  0.002846/  3.018912, tr: 100.00%, val:  79.17%, val_best:  80.83%: 100%|██████████| 49/49 [00:10<00:00,  4.64it/s]"
     ]
    },
    {
     "name": "stdout",
     "output_type": "stream",
     "text": [
      "Domain loss,acc: 0.875593, 100.00% Target domain: tr_loss-4.366582, tr_acc-67.18%\n",
      "100,000c5dTruet10:79.17%:80.83% | 100,000c5dFalset10:64.17%:65.42%\n"
     ]
    },
    {
     "name": "stderr",
     "output_type": "stream",
     "text": [
      "\n",
      "epoch-297 lr=['0.0010000'], tr/val_loss:  0.002715/  3.011680, tr: 100.00%, val:  79.58%, val_best:  80.83%: 100%|██████████| 49/49 [00:10<00:00,  4.66it/s]"
     ]
    },
    {
     "name": "stdout",
     "output_type": "stream",
     "text": [
      "Domain loss,acc: 0.931512, 100.00% Target domain: tr_loss-4.646697, tr_acc-68.21%\n",
      "100,000c5dTruet10:79.58%:80.83% | 100,000c5dFalset10:63.33%:65.42%\n"
     ]
    },
    {
     "name": "stderr",
     "output_type": "stream",
     "text": [
      "\n",
      "epoch-298 lr=['0.0010000'], tr/val_loss:  0.002655/  3.009266, tr: 100.00%, val:  79.58%, val_best:  80.83%: 100%|██████████| 49/49 [00:11<00:00,  4.43it/s]"
     ]
    },
    {
     "name": "stdout",
     "output_type": "stream",
     "text": [
      "Domain loss,acc: 0.839952, 100.00% Target domain: tr_loss-4.189136, tr_acc-67.69%\n",
      "100,000c5dTruet10:79.58%:80.83% | 100,000c5dFalset10:63.75%:65.42%\n"
     ]
    },
    {
     "name": "stderr",
     "output_type": "stream",
     "text": [
      "\n",
      "epoch-299 lr=['0.0010000'], tr/val_loss:  0.002697/  3.020829, tr: 100.00%, val:  80.00%, val_best:  80.83%: 100%|██████████| 49/49 [00:10<00:00,  4.48it/s]"
     ]
    },
    {
     "name": "stdout",
     "output_type": "stream",
     "text": [
      "Domain loss,acc: 0.844338, 100.00% Target domain: tr_loss-4.210903, tr_acc-68.21%\n",
      "100,000c5dTruet10:80.00%:80.83% | 100,000c5dFalset10:63.75%:65.42%\n"
     ]
    },
    {
     "name": "stderr",
     "output_type": "stream",
     "text": [
      "\n"
     ]
    },
    {
     "data": {
      "text/plain": [
       "'\\nddp_on 키고, gpu 개수 만큼 batch size 나눠줘\\nCUDA_VISIBLE_DEVICES=0,1,2,3,4,5 python -m torch.distributed.launch --nproc_per_node=6 main_ddp.py\\nCUDA_VISIBLE_DEVICES=1,2,3 python -m torch.distributed.launch --nproc_per_node=3 main_ddp.py\\nCUDA_VISIBLE_DEVICES=0,1,2,3 python -m torch.distributed.launch --nproc_per_node=4 main_ddp.py\\n'"
      ]
     },
     "execution_count": 5,
     "metadata": {},
     "output_type": "execute_result"
    }
   ],
   "source": [
    "### my_snn control board (Gesture) ########################\n",
    "decay = 0.25 # 0.875 0.25 0.125 0.75 0.5\n",
    "# nda 0.25 # ottt 0.5\n",
    "const2 = False # trace 할거면 True, 안할거면 False\n",
    "\n",
    "unique_name = 'main' ## 이거 설정하면 새로운 경로에 모두 save\n",
    "run_name = 'main' ## 이거 설정하면 새로운 경로에 모두 save\n",
    "\n",
    "if const2 == True:\n",
    "    const2 = decay\n",
    "else:\n",
    "    const2 = 0.0\n",
    "\n",
    "wandb.init(project= f'my_snn {unique_name}',save_code=True)\n",
    "\n",
    "my_snn_system(  devices = \"4\",\n",
    "                single_step = True, # True # False\n",
    "                unique_name = run_name,\n",
    "                my_seed = 42,\n",
    "                TIME = 10, # dvscifar 10 # ottt 6 or 10 # nda 10  # 제작하는 dvs에서 TIME넘거나 적으면 자르거나 PADDING함\n",
    "                BATCH = 16, # batch norm 할거면 2이상으로 해야함   # nda 256   #  ottt 128\n",
    "                IMAGE_SIZE = 128, # dvscifar 48 # MNIST 28 # CIFAR10 32 # PMNIST 28 #NMNIST 34 # GESTURE 128\n",
    "                # dvsgesture 128, dvs_cifar2 128, nmnist 34, n_caltech101 180,240, n_tidigits 64, heidelberg 700, \n",
    "                #pmnist는 28로 해야 됨. 나머지는 바꿔도 돌아는 감.\n",
    "\n",
    "                # DVS_CIFAR10 할거면 time 10으로 해라\n",
    "                which_data = 'DVS_GESTURE_TONIC',\n",
    "# 'CIFAR100' 'CIFAR10' 'MNIST' 'FASHION_MNIST' 'DVS_CIFAR10' 'PMNIST'아직\n",
    "# 'DVS_GESTURE', 'DVS_GESTURE_TONIC','DVS_CIFAR10_2','NMNIST','NMNIST_TONIC','CIFAR10','N_CALTECH101','n_tidigits','heidelberg'\n",
    "                # CLASS_NUM = 10,\n",
    "                data_path = '/data2', # YOU NEED TO CHANGE THIS\n",
    "                rate_coding = False, # True # False\n",
    "                lif_layer_v_init = 0.0,\n",
    "                lif_layer_v_decay = decay,\n",
    "                lif_layer_v_threshold = 0.720291189014991, # 1.3102821334243646,  # 10000이상으로 하면 NDA LIF 씀. #nda 0.5  #ottt 1.0\n",
    "                lif_layer_v_reset = 10000, # 10000이상은 hardreset (내 LIF쓰기는 함 ㅇㅇ)\n",
    "                lif_layer_sg_width = 3.555718888923306, # 2.570969004857107 # sigmoid류에서는 alpha값 4.0, rectangle류에서는 width값 0.5\n",
    "\n",
    "                # synapse_conv_in_channels = IMAGE_PIXEL_CHANNEL,\n",
    "                synapse_conv_kernel_size = 3,\n",
    "                synapse_conv_stride = 1,\n",
    "                synapse_conv_padding = 1,\n",
    "                synapse_conv_trace_const1 = 1, # 현재 trace구할 때 현재 spike에 곱해지는 상수. 걍 1로 두셈.\n",
    "                synapse_conv_trace_const2 = const2, # 현재 trace구할 때 직전 trace에 곱해지는 상수. lif_layer_v_decay와 같게 할 것을 추천\n",
    "\n",
    "                # synapse_fc_out_features = CLASS_NUM,\n",
    "                synapse_fc_trace_const1 = 1, # 현재 trace구할 때 현재 spike에 곱해지는 상수. 걍 1로 두셈.\n",
    "                synapse_fc_trace_const2 = const2, # 현재 trace구할 때 직전 trace에 곱해지는 상수. lif_layer_v_decay와 같게 할 것을 추천\n",
    "\n",
    "                pre_trained = False, # True # False\n",
    "                convTrue_fcFalse = False, # True # False\n",
    "\n",
    "                # 'P' for average pooling, 'D' for (1,1) aver pooling, 'M' for maxpooling, 'L' for linear classifier, [  ] for residual block\n",
    "                # conv에서 10000 이상은 depth-wise separable (BPTT만 지원), 20000이상은 depth-wise (BPTT만 지원)\n",
    "                # cfg = [64, 64],\n",
    "                # cfg = [64, 124, 64, 124],\n",
    "                # cfg = ['M','M',512], \n",
    "                # cfg = [512], \n",
    "                # cfg = ['M', 'M', 64, 128, 'P', 128, 'P'], \n",
    "                # cfg = ['M','M',512],\n",
    "                # cfg = ['M',200],\n",
    "                # cfg = [200,200],\n",
    "                # cfg = ['M','M',200,200],\n",
    "                cfg = ([200],[200],[200],[2]), # (feature extractor, classifier, domain adapter, # of domain)\n",
    "                # cfg = (['M','M',200],[200],[200],[2]), # (feature extractor, classifier, domain adapter, # of domain)\n",
    "                # cfg = ['M',200,200],\n",
    "                # cfg = ['M','M',1024,512,256,128,64],\n",
    "                # cfg = [200,200],\n",
    "                # cfg = [12], #fc\n",
    "                # cfg = [12, 'M', 48, 'M', 12], \n",
    "                # cfg = [64,[64,64],64], # 끝에 linear classifier 하나 자동으로 붙습니다\n",
    "                # cfg = [64, 128, 'P', 256, 256, 'P', 512, 512, 'P', 512, 512, 'D'], #ottt\n",
    "                # cfg = [64, 128, 'P', 256, 256, 'P', 512, 512, 'P', 512, 512], \n",
    "                # cfg = [64, 128, 'M', 256, 256, 'M', 512, 512, 'M', 512, 512], \n",
    "                # cfg = [64, 'P', 128, 'P', 256, 256, 'P', 512, 512, 512, 512, 'D'], # nda\n",
    "                # cfg = [64, 'P', 128, 'P', 256, 256, 'P', 512, 512, 512, 512], # nda 128pixel\n",
    "                # cfg = [64, 'P', 128, 'P', 256, 256, 'P', 512, 512, 512, 512, 'L', 4096, 4096],\n",
    "                # cfg = [20001,10001], # depthwise, separable\n",
    "                # cfg = [64,20064,10001], # vanilla conv, depthwise, separable\n",
    "                # cfg = [8, 'P', 8, 'P', 8, 'P', 8,'P', 8, 'P'],\n",
    "                # cfg = [],        \n",
    "                \n",
    "                net_print = True, # True # False # True로 하길 추천\n",
    "                weight_count_print = False, # True # False\n",
    "                \n",
    "                pre_trained_path = f\"net_save/save_now_net_weights_{unique_name}.pth\",\n",
    "                learning_rate = 0.001, #0.1 bptt, #0.01 ottt, # default 0.001  # ottt 0.1 # nda 0.001 # 0.00936191669529645\n",
    "                epoch_num = 300,\n",
    "                verbose_interval = 999999999, #이거 걍 건들지마셈 #숫자 크게 하면 꺼짐 #걍 중간중간 iter에서 끊어서 출력\n",
    "                validation_interval =  999999999,#999999999, #이거 걍 건들지마셈 #숫자 크게 하면 에포크 마지막 iter 때 val 함\n",
    "\n",
    "                tdBN_on = False,  # True # False\n",
    "                BN_on = False,  # True # False\n",
    "                \n",
    "                surrogate = 'hard_sigmoid', # 'sigmoid' 'rectangle' 'rough_rectangle' 'hard_sigmoid'\n",
    "                \n",
    "                gradient_verbose = False,  # True # False  # weight gradient 각 layer마다 띄워줌\n",
    "\n",
    "                BPTT_on = False,  # True # False # True이면 BPTT, False이면 OTTT  # depthwise, separable은 BPTT만 가능\n",
    "                optimizer_what = 'SGD', # 'SGD' 'Adam', 'RMSprop'\n",
    "                scheduler_name = 'no', # 'no' 'StepLR' 'ExponentialLR' 'ReduceLROnPlateau' 'CosineAnnealingLR' 'OneCycleLR'\n",
    "                \n",
    "                ddp_on = False,   # True # False \n",
    "                # 지원 DATASET: cifar10, mnist\n",
    "\n",
    "                nda_net = False,   # True # False\n",
    "\n",
    "                domain_il_epoch = 0, # over 0, then domain il mode on # pmnist 쓸거면 HLOP 코드보고 더 디벨롭하셈. 지금 개발 hold함.\n",
    "                \n",
    "                dvs_clipping = 5, #일반적으로 1 또는 2 # 100ms때는 5 # 숫자만큼 크면 spike 아니면 걍 0\n",
    "                # gesture, cifar-dvs2, nmnist, ncaltech101\n",
    "                # gesture: 100_000c1-5, 25_000c5, 10_000c5, 1_000c5, 1_000_000c5\n",
    "\n",
    "                dvs_duration = 100_000, # 0 아니면 time sampling # dvs number sampling OR time sampling # gesture, cifar-dvs2, nmnist, ncaltech101\n",
    "                # 있는 데이터들 #gesture 100_000 25_000 10_000 1_000 1_000_000 #nmnist 10000 #nmnist_tonic 10_000 25_000\n",
    "                # 한 숫자가 1us인듯 (spikingjelly코드에서)\n",
    "                # 한 장에 50 timestep만 생산함. 싫으면 my_snn/trying/spikingjelly_dvsgesture의__init__.py 를 참고해봐\n",
    "                # nmnist 5_000us, gesture는 100_000us, 25_000us\n",
    "\n",
    "                OTTT_sWS_on = False, # True # False # BPTT끄고, CONV에만 적용됨.\n",
    "\n",
    "                DFA_on = False, # True # False # residual은 dfa지원안함.\n",
    "                OTTT_input_trace_on = False, # True # False # 맨 처음 input에 trace 적용\n",
    "                \n",
    "                e_transport_swap = 0, # 1 이상이면 해당 숫자 에포크만큼 val_acc_best가 변화가 없으면 e_transport scheme (BP vs DFA) swap\n",
    "                e_transport_swap_tr = 0, # 1 이상이면 해당 숫자 에포크만큼 tr_acc_best가 변화가 없으면 e_transport scheme (BP vs DFA) swap\n",
    "                e_transport_swap_coin = 1, # swap할 수 있는 coin 개수\n",
    "\n",
    "                drop_rate = 0, # drop_rate만큼 0으로 만듦. ex) 0.2면 activation의 20%를 0으로 만듦.\n",
    "\n",
    "                exclude_class = True, # True # False # gesture에서 10번째 클래스 제외\n",
    "\n",
    "                merge_polarities = False, # True # False # tonic dvs dataset 에서 polarities 합치기\n",
    "                denoise_on = True, # True # False # &&&&&&&&&&&&&&&&&&&&&&&&&&&&&&&&&&&&&&&&&&&&&&&&&&&&&&&\n",
    "\n",
    "                I_wanna_sweep_at_this_epoch = -1, # 지정 에포크에서 BP와 DFA를 바꿔줌. -1이면 실행 안함.\n",
    "                # dvs_duration_domain=[(100_000,5,False),(125_000,5,False),(150_000,5,False),],\n",
    "                # dvs_duration_domain=[(40_000,4,False),(50_000,4,False),(60_000,4,False),],\n",
    "                # [duration, clipping, denoise_on]\n",
    "                dvs_duration_domain=[(100_000,5,False)],\n",
    "                dvs_relative_timestep = False, # True # False \n",
    "                \n",
    "                extra_train_dataset = 0,\n",
    "\n",
    "                num_workers = 2, # local wsl에서는 2가 맞고, 서버에서는 4가 좋더라.\n",
    "                chaching_on = True, # True # False # only for certain datasets (gesture_tonic, nmnist_tonic)\n",
    "                pin_memory = True, # True # False \n",
    "\n",
    "                UDA_on = True, # True # False\n",
    "                UDA_data = (100_000,5,False), # (duration, clipping, denoise_on)\n",
    "                src_trg_ratio = 4, # (1이상의 정수) src data와 trg data의 개수 비율 (대략적으로)\n",
    "                adapter_loss_weight = 1.0, # 1.0  # adapter loss의 힘. # 이걸 0으로하면 src only learning.\n",
    "                alpha_uda = 0.0, # GRL의 alpha값\n",
    "                UDA_start_epoch = 0, # UDA를 시작하는 에포크\n",
    "\n",
    "                temporal_filter = 1, # 1이면 아무것도 안함. 한타임스텝에 쑤셔 넣을 window개수. \n",
    "                initial_pooling = 4, # 1이면 pooling 안함. 2의 승수만 입력하셈. log2를 취해서 pooling할 window size를 결정함.\n",
    "                ) \n",
    "\n",
    "# num_workers = 4 * num_GPU (or 8, 16, 2 * num_GPU)\n",
    "# entry * batch_size * num_worker = num_GPU * GPU_throughtput\n",
    "# num_workers = batch_size / num_GPU\n",
    "# num_workers = batch_size / num_CPU\n",
    "\n",
    "# sigmoid와 BN이 있어야 잘된다.\n",
    "# average pooling  \n",
    "# 이 낫다. \n",
    "\n",
    "# nda에서는 decay = 0.25, threshold = 0.5, width =1, surrogate = rectangle, batch = 256, tdBN = True\n",
    "## OTTT 에서는 decay = 0.5, threshold = 1.0, surrogate = sigmoid, batch = 128, BN = True\n",
    "\n",
    "\n",
    "# DDP 실행 코드0\n",
    "'''\n",
    "ddp_on 키고, gpu 개수 만큼 batch size 나눠줘\n",
    "CUDA_VISIBLE_DEVICES=0,1,2,3,4,5 python -m torch.distributed.launch --nproc_per_node=6 main_ddp.py\n",
    "CUDA_VISIBLE_DEVICES=1,2,3 python -m torch.distributed.launch --nproc_per_node=3 main_ddp.py\n",
    "CUDA_VISIBLE_DEVICES=0,1,2,3 python -m torch.distributed.launch --nproc_per_node=4 main_ddp.py\n",
    "'''\n",
    "\n"
   ]
  },
  {
   "cell_type": "code",
   "execution_count": 6,
   "metadata": {},
   "outputs": [],
   "source": [
    "# # sweep 하는 코드, 위 셀 주석처리 해야 됨.\n",
    "\n",
    "# # 이런 워닝 뜨는 거는 걍 너가 main 안에서  wandb.config.update(hyperparameters)할 때 물려서임. 어차피 근데 sweep에서 지정한 걸로 덮어짐 \n",
    "# # wandb: WARNING Config item 'BATCH' was locked by 'sweep' (ignored update).\n",
    "\n",
    "# unique_name_hyper = 'main'\n",
    "# run_name = 'main'\n",
    "# sweep_configuration = {\n",
    "#     'method': 'random', # 'random', 'bayes'\n",
    "#     'name': f'my_snn_sweep{datetime.datetime.now().strftime(\"%Y%m%d_%H%M%S\")}',\n",
    "#     'metric': {'goal': 'maximize', 'name': 'val_acc_best'},\n",
    "#     'parameters': \n",
    "#     {\n",
    "#         \"learning_rate\": {\"values\": [0.001]}, #0.00936191669529645\n",
    "#         \"BATCH\": {\"values\": [16]},\n",
    "#         \"decay\": {\"values\": [0.25]},\n",
    "#         \"IMAGE_SIZE\": {\"values\": [128]},\n",
    "#         \"TIME\": {\"values\": [10]},\n",
    "#         \"epoch_num\": {\"values\": [200]},\n",
    "#         \"dvs_duration\": {\"values\": [25_000,50_000,100_000]},\n",
    "#         \"dvs_clipping\": {\"values\": [1,2,3,4,5]},\n",
    "#         \"which_data\": {\"values\": ['DVS_GESTURE_TONIC']},\n",
    "#         \"OTTT_sWS_on\": {\"values\": [False]},\n",
    "#         \"const2\": {\"values\": [False]},\n",
    "#         \"surrogate\": {\"values\": ['hard_sigmoid']},\n",
    "#         \"DFA_on\": {\"values\": [False]},\n",
    "#         \"OTTT_input_trace_on\": {\"values\": [False]},\n",
    "#         \"cfg\": {\"values\": [['M','M',200,200]]},\n",
    "#         \"e_transport_swap\": {\"values\": [0]},\n",
    "#         \"e_transport_swap_tr\": {\"values\": [0]},\n",
    "#         \"drop_rate\": {\"values\": [0.0]}, # \"drop_rate\": {\"values\": [0.25,0.5,0.75]}, #\"drop_rate\": {\"min\": 0.25, \"max\": 0.75},\n",
    "#         \"exclude_class\": {\"values\": [True]},\n",
    "#         \"merge_polarities\": {\"values\": [False]},\n",
    "#         \"lif_layer_v_reset\": {\"values\": [10000]},\n",
    "#         \"lif_layer_sg_width\": {\"values\": [3.555718888923306]},\n",
    "#         \"e_transport_swap_coin\": {\"values\": [1]},\n",
    "#         \"lif_layer_v_threshold\": {\"values\": [0.720291189014991]},\n",
    "#         \"scheduler_name\": {\"values\": ['no']},  # 'no' 'StepLR' 'ExponentialLR' 'ReduceLROnPlateau' 'CosineAnnealingLR' 'OneCycleLR'\n",
    "#         \"denoise_on\": {\"values\": [True,False]}, \n",
    "#         \"I_wanna_sweep_at_this_epoch\": {\"values\": [-1]}, \n",
    "#         \"dvs_duration_domain\": {\"values\": [[]]}, \n",
    "#         \"dvs_relative_timestep\": {\"values\": [[False]]}, \n",
    "#         \"extra_train_dataset\": {\"values\": [0]}, \n",
    "#      }\n",
    "# }\n",
    "\n",
    "# def hyper_iter():\n",
    "#     ### my_snn control board ########################\n",
    "#     unique_name = unique_name_hyper ## 이거 설정하면 새로운 경로에 모두 save\n",
    "    \n",
    "#     wandb.init(save_code = True)\n",
    "#     learning_rate  =  wandb.config.learning_rate\n",
    "#     BATCH  =  wandb.config.BATCH\n",
    "#     decay  =  wandb.config.decay\n",
    "#     IMAGE_SIZE  =  wandb.config.IMAGE_SIZE\n",
    "#     TIME  =  wandb.config.TIME\n",
    "#     epoch_num  =  wandb.config.epoch_num \n",
    "#     dvs_duration  =  wandb.config.dvs_duration\n",
    "#     dvs_clipping  =  wandb.config.dvs_clipping\n",
    "#     which_data  =  wandb.config.which_data\n",
    "#     OTTT_sWS_on  =  wandb.config.OTTT_sWS_on\n",
    "#     const2  =  wandb.config.const2\n",
    "#     surrogate  =  wandb.config.surrogate\n",
    "#     DFA_on  =  wandb.config.DFA_on\n",
    "#     OTTT_input_trace_on  =  wandb.config.OTTT_input_trace_on\n",
    "#     cfg  =  wandb.config.cfg\n",
    "#     e_transport_swap  =  wandb.config.e_transport_swap\n",
    "#     e_transport_swap_tr  =  wandb.config.e_transport_swap_tr\n",
    "#     drop_rate  =  wandb.config.drop_rate\n",
    "#     exclude_class  =  wandb.config.exclude_class\n",
    "#     merge_polarities  =  wandb.config.merge_polarities\n",
    "#     lif_layer_v_reset  =  wandb.config.lif_layer_v_reset\n",
    "#     lif_layer_sg_width  =  wandb.config.lif_layer_sg_width\n",
    "#     e_transport_swap_coin  =  wandb.config.e_transport_swap_coin\n",
    "#     lif_layer_v_threshold  =  wandb.config.lif_layer_v_threshold\n",
    "#     scheduler_name  =  wandb.config.scheduler_name\n",
    "#     denoise_on  =  wandb.config.denoise_on\n",
    "#     I_wanna_sweep_at_this_epoch  =  wandb.config.I_wanna_sweep_at_this_epoch\n",
    "#     dvs_duration_domain  =  wandb.config.dvs_duration_domain\n",
    "#     dvs_relative_timestep  =  wandb.config.dvs_relative_timestep\n",
    "#     extra_train_dataset  =  wandb.config.extra_train_dataset\n",
    "#     if const2 == True:\n",
    "#         const2 = decay\n",
    "#     else:\n",
    "#         const2 = 0.0\n",
    "\n",
    "#     my_snn_system(  devices = \"5\",\n",
    "#                 single_step = True, # True # False\n",
    "#                 unique_name = run_name,\n",
    "#                 my_seed = 42,\n",
    "#                 TIME = TIME , # dvscifar 10 # ottt 6 or 10 # nda 10  # 제작하는 dvs에서 TIME넘거나 적으면 자르거나 PADDING함\n",
    "#                 BATCH = BATCH, # batch norm 할거면 2이상으로 해야함   # nda 256   #  ottt 128\n",
    "#                 IMAGE_SIZE = IMAGE_SIZE, # dvscifar 48 # MNIST 28 # CIFAR10 32 # PMNIST 28 #NMNIST 34 # GESTURE 128\n",
    "#                 # dvsgesture 128, dvs_cifar2 128, nmnist 34, n_caltech101 180,240, n_tidigits 64, heidelberg 700, \n",
    "#                 #pmnist는 28로 해야 됨. 나머지는 바꿔도 돌아는 감.\n",
    "\n",
    "#                 # DVS_CIFAR10 할거면 time 10으로 해라\n",
    "#                 which_data = which_data,\n",
    "# # 'CIFAR100' 'CIFAR10' 'MNIST' 'FASHION_MNIST' 'DVS_CIFAR10' 'PMNIST'아직\n",
    "# # 'DVS_GESTURE', 'DVS_GESTURE_TONIC','DVS_CIFAR10_2','NMNIST','NMNIST_TONIC','N_CALTECH101','n_tidigits','heidelberg'\n",
    "#                 # CLASS_NUM = 10,\n",
    "#                 data_path = '/data2', # YOU NEED TO CHANGE THIS\n",
    "#                 rate_coding = False, # True # False\n",
    "#                 lif_layer_v_init = 0.0,\n",
    "#                 lif_layer_v_decay = decay,\n",
    "#                 lif_layer_v_threshold = lif_layer_v_threshold,  # 10000이상으로 하면 NDA LIF 씀. #nda 0.5  #ottt 1.0\n",
    "#                 lif_layer_v_reset = lif_layer_v_reset, # 10000이상은 hardreset (내 LIF쓰기는 함 ㅇㅇ)\n",
    "#                 lif_layer_sg_width = lif_layer_sg_width, # # surrogate sigmoid 쓸 때는 의미없음\n",
    "\n",
    "#                 # synapse_conv_in_channels = IMAGE_PIXEL_CHANNEL,\n",
    "#                 synapse_conv_kernel_size = 3,\n",
    "#                 synapse_conv_stride = 1,\n",
    "#                 synapse_conv_padding = 1,\n",
    "#                 synapse_conv_trace_const1 = 1, # 현재 trace구할 때 현재 spike에 곱해지는 상수. 걍 1로 두셈.\n",
    "#                 synapse_conv_trace_const2 = const2, # 현재 trace구할 때 직전 trace에 곱해지는 상수. lif_layer_v_decay와 같게 할 것을 추천\n",
    "\n",
    "#                 # synapse_fc_out_features = CLASS_NUM,\n",
    "#                 synapse_fc_trace_const1 = 1, # 현재 trace구할 때 현재 spike에 곱해지는 상수. 걍 1로 두셈.\n",
    "#                 synapse_fc_trace_const2 = const2, # 현재 trace구할 때 직전 trace에 곱해지는 상수. lif_layer_v_decay와 같게 할 것을 추천\n",
    "\n",
    "#                 pre_trained = False, # True # False\n",
    "#                 convTrue_fcFalse = False, # True # False\n",
    "\n",
    "#                 # 'P' for average pooling, 'D' for (1,1) aver pooling, 'M' for maxpooling, 'L' for linear classifier, [  ] for residual block\n",
    "#                 # conv에서 10000 이상은 depth-wise separable (BPTT만 지원), 20000이상은 depth-wise (BPTT만 지원)\n",
    "#                 # cfg = [64, 64],\n",
    "#                 # cfg = [64, 124, 64, 124],\n",
    "#                 # cfg = ['M','M',512], \n",
    "#                 # cfg = [512], \n",
    "#                 # cfg = ['M', 'M', 64, 128, 'P', 128, 'P'], \n",
    "#                 # cfg = ['M','M',200,200],\n",
    "#                 # cfg = [200,200],\n",
    "#                 cfg = cfg,\n",
    "#                 # cfg = [12], #fc\n",
    "#                 # cfg = [12, 'M', 48, 'M', 12], \n",
    "#                 # cfg = [64,[64,64],64], # 끝에 linear classifier 하나 자동으로 붙습니다\n",
    "#                 # cfg = [64, 128, 'P', 256, 256, 'P', 512, 512, 'P', 512, 512, 'D'], #ottt\n",
    "#                 # cfg = [64, 128, 'P', 256, 256, 'P', 512, 512, 'P', 512, 512], \n",
    "#                 # cfg = [64, 128, 'M', 256, 256, 'M', 512, 512, 'M', 512, 512], \n",
    "#                 # cfg = [64, 'P', 128, 'P', 256, 256, 'P', 512, 512, 512, 512, 'D'], # nda\n",
    "#                 # cfg = [64, 'P', 128, 'P', 256, 256, 'P', 512, 512, 512, 512], # nda 128pixel\n",
    "#                 # cfg = [64, 'P', 128, 'P', 256, 256, 'P', 512, 512, 512, 512, 'L', 4096, 4096],\n",
    "#                 # cfg = [20001,10001], # depthwise, separable\n",
    "#                 # cfg = [64,20064,10001], # vanilla conv, depthwise, separable\n",
    "#                 # cfg = [8, 'P', 8, 'P', 8, 'P', 8,'P', 8, 'P'],\n",
    "#                 # cfg = [], \n",
    "                \n",
    "#                 net_print = True, # True # False # True로 하길 추천\n",
    "#                 weight_count_print = False, # True # False\n",
    "                \n",
    "#                 pre_trained_path = f\"net_save/save_now_net_weights_{unique_name}.pth\",\n",
    "#                 learning_rate = learning_rate, # default 0.001  # ottt 0.1 # nda 0.001 \n",
    "#                 epoch_num = epoch_num,\n",
    "#                 verbose_interval = 999999999, #숫자 크게 하면 꺼짐 #걍 중간중간 iter에서 끊어서 출력\n",
    "#                 validation_interval =  999999999,#999999999, #숫자 크게 하면 에포크 마지막 iter 때 val 함\n",
    "\n",
    "#                 tdBN_on = False,  # True # False\n",
    "#                 BN_on = False,  # True # False\n",
    "                \n",
    "#                 surrogate = surrogate, # 'rectangle' 'sigmoid' 'rough_rectangle'\n",
    "                \n",
    "#                 gradient_verbose = False,  # True # False  # weight gradient 각 layer마다 띄워줌\n",
    "\n",
    "#                 BPTT_on = False,  # True # False # True이면 BPTT, False이면 OTTT  # depthwise, separable은 BPTT만 가능\n",
    "#                 optimizer_what = 'SGD', # 'SGD' 'Adam', 'RMSprop'\n",
    "#                 scheduler_name = scheduler_name, # 'no' 'StepLR' 'ExponentialLR' 'ReduceLROnPlateau' 'CosineAnnealingLR' 'OneCycleLR'\n",
    "                \n",
    "#                 ddp_on = False,   # True # False \n",
    "#                 # 지원 DATASET: cifar10, mnist\n",
    "\n",
    "#                 nda_net = False,   # True # False\n",
    "\n",
    "#                 domain_il_epoch = 0, # over 0, then domain il mode on # pmnist 쓸거면 HLOP 코드보고 더 디벨롭하셈. 지금 개발 hold함.\n",
    "                \n",
    "#                 dvs_clipping = dvs_clipping, # 숫자만큼 크면 spike 아니면 걍 0\n",
    "#                 # gesture, cifar-dvs2, nmnist, ncaltech101\n",
    "\n",
    "#                 dvs_duration = dvs_duration, # 0 아니면 time sampling # dvs number sampling OR time sampling # gesture, cifar-dvs2, nmnist, ncaltech101\n",
    "#                 # 있는 데이터들 #gesture 100_000 25_000 10_000 1_000 1_000_000 #nmnist 10000 #nmnist_tonic 10_000 25_000\n",
    "#                 # 한 숫자가 1us인듯 (spikingjelly코드에서)\n",
    "#                 # 한 장에 50 timestep만 생산함. 싫으면 my_snn/trying/spikingjelly_dvsgesture의__init__.py 를 참고해봐\n",
    "\n",
    "#                 OTTT_sWS_on = OTTT_sWS_on, # True # False # BPTT끄고, CONV에만 적용됨.\n",
    "\n",
    "#                 DFA_on = DFA_on, # True # False # residual은 dfa지원안함.\n",
    "#                 OTTT_input_trace_on = OTTT_input_trace_on, # True # False # 맨 처음 input에 trace 적용\n",
    "                 \n",
    "#                 e_transport_swap = e_transport_swap, # 1 이상이면 해당 숫자 에포크만큼 val_acc_best가 변화가 없으면 e_transport scheme (BP vs DFA) swap\n",
    "#                 e_transport_swap_tr = e_transport_swap_tr, # 1 이상이면 해당 숫자 에포크만큼 tr_acc_best가 변화가 없으면 e_transport scheme (BP vs DFA) swap\n",
    "#                 e_transport_swap_coin = e_transport_swap_coin, # swap할 수 있는 coin 개수\n",
    "                    \n",
    "#                 drop_rate = drop_rate,\n",
    "\n",
    "#                 exclude_class = exclude_class, # True # False # gesture에서 10번째 클래스 제외\n",
    "\n",
    "#                 merge_polarities = merge_polarities, # True # False # tonic dvs dataset 에서 polarities 합치기\n",
    "#                 denoise_on = denoise_on,\n",
    "\n",
    "#                 I_wanna_sweep_at_this_epoch = I_wanna_sweep_at_this_epoch,\n",
    "#                 dvs_duration_domain = dvs_duration_domain,\n",
    "#                 dvs_relative_timestep = dvs_relative_timestep, # True # False \n",
    "\n",
    "#                 extra_train_dataset = extra_train_dataset,\n",
    "\n",
    "#                 num_workers = 2,\n",
    "#                 chaching_on = True,\n",
    "#                 pin_memory = True, # True # False\n",
    "#                     ) \n",
    "#     # sigmoid와 BN이 있어야 잘된다.\n",
    "#     # average pooling\n",
    "#     # 이 낫다. \n",
    "    \n",
    "#     # nda에서는 decay = 0.25, threshold = 0.5, width =1, surrogate = rectangle, batch = 256, tdBN = True\n",
    "#     ## OTTT 에서는 decay = 0.5, threshold = 1.0, surrogate = sigmoid, batch = 128, BN = True\n",
    "\n",
    "# sweep_id = wandb.sweep(sweep=sweep_configuration, project=f'my_snn {unique_name_hyper}')\n",
    "# wandb.agent(sweep_id, function=hyper_iter, count=10000, project=f'my_snn {unique_name_hyper}')\n"
   ]
  },
  {
   "cell_type": "code",
   "execution_count": 7,
   "metadata": {},
   "outputs": [
    {
     "data": {
      "application/vnd.jupyter.widget-view+json": {
       "model_id": "df7b3a388d794db0b8d273220daf69de",
       "version_major": 2,
       "version_minor": 0
      },
      "text/plain": [
       "VBox(children=(Label(value='4.133 MB of 4.133 MB uploaded (0.988 MB deduped)\\r'), FloatProgress(value=1.0, max…"
      ]
     },
     "metadata": {},
     "output_type": "display_data"
    },
    {
     "data": {
      "text/html": [
       "W&B sync reduced upload amount by 21.7%"
      ],
      "text/plain": [
       "<IPython.core.display.HTML object>"
      ]
     },
     "metadata": {},
     "output_type": "display_data"
    },
    {
     "data": {
      "text/html": [
       "<style>\n",
       "    table.wandb td:nth-child(1) { padding: 0 10px; text-align: left ; width: auto;} td:nth-child(2) {text-align: left ; width: 100%}\n",
       "    .wandb-row { display: flex; flex-direction: row; flex-wrap: wrap; justify-content: flex-start; width: 100% }\n",
       "    .wandb-col { display: flex; flex-direction: column; flex-basis: 100%; flex: 1; padding: 10px; }\n",
       "    </style>\n",
       "<div class=\"wandb-row\"><div class=\"wandb-col\"><h3>Run history:</h3><br/><table class=\"wandb\"><tr><td>DFA_flag</td><td>▁▁▁▁▁▁▁▁▁▁▁▁▁▁▁▁▁▁▁▁▁▁▁▁▁▁▁▁▁▁▁▁▁▁▁▁▁▁▁▁</td></tr><tr><td>epoch</td><td>▁▁▁▁▂▂▂▂▂▃▃▃▃▃▃▄▄▄▄▄▅▅▅▅▅▅▆▆▆▆▆▇▇▇▇▇▇███</td></tr><tr><td>iter_acc</td><td>▂█▇▆██▄█▃█▄██▅████▂█▂██▆█▄██▁█▄████▅████</td></tr><tr><td>summary_val_acc</td><td>▁▆▆▇▇███████████████████████████████████</td></tr><tr><td>tr_acc</td><td>▁▆▇█████████████████████████████████████</td></tr><tr><td>tr_epoch_loss</td><td>█▄▃▂▂▁▁▁▁▁▁▁▁▁▁▁▁▁▁▁▁▁▁▁▁▁▁▁▁▁▁▁▁▁▁▁▁▁▁▁</td></tr><tr><td>val_acc_best</td><td>▁▆▇█████████████████████████████████████</td></tr><tr><td>val_acc_now</td><td>▁▆▆▇▇███████████████████████████████████</td></tr><tr><td>val_acc_now_set[1]</td><td>▁▆▅▇██▇█▇▇▇█▇▇▇█████████████████████████</td></tr><tr><td>val_acc_now_set[1]_best</td><td>▁▆▇▇████████████████████████████████████</td></tr><tr><td>val_loss</td><td>▄▁▁▁▂▃▄▄▅▅▅▆▆▆▆▆▆▆▇▇▇▇▇▇▇▇▇▇████████████</td></tr></table><br/></div><div class=\"wandb-col\"><h3>Run summary:</h3><br/><table class=\"wandb\"><tr><td>DFA_flag</td><td>0.0</td></tr><tr><td>epoch</td><td>299</td></tr><tr><td>iter_acc</td><td>1.0</td></tr><tr><td>tr_acc</td><td>1.0</td></tr><tr><td>tr_epoch_loss</td><td>0.0027</td></tr><tr><td>val_acc_best</td><td>0.80833</td></tr><tr><td>val_acc_now</td><td>0.8</td></tr><tr><td>val_acc_now_set[1]</td><td>0.6375</td></tr><tr><td>val_acc_now_set[1]_best</td><td>0.65417</td></tr><tr><td>val_loss</td><td>3.02083</td></tr></table><br/></div></div>"
      ],
      "text/plain": [
       "<IPython.core.display.HTML object>"
      ]
     },
     "metadata": {},
     "output_type": "display_data"
    },
    {
     "data": {
      "text/html": [
       " View run <strong style=\"color:#cdcd00\">brisk-monkey-6596</strong> at: <a href='https://wandb.ai/bhkim003-seoul-national-university/my_snn%20main/runs/6yl3ltwy' target=\"_blank\">https://wandb.ai/bhkim003-seoul-national-university/my_snn%20main/runs/6yl3ltwy</a><br/> View project at: <a href='https://wandb.ai/bhkim003-seoul-national-university/my_snn%20main' target=\"_blank\">https://wandb.ai/bhkim003-seoul-national-university/my_snn%20main</a><br/>Synced 7 W&B file(s), 0 media file(s), 17 artifact file(s) and 1 other file(s)"
      ],
      "text/plain": [
       "<IPython.core.display.HTML object>"
      ]
     },
     "metadata": {},
     "output_type": "display_data"
    },
    {
     "data": {
      "text/html": [
       "Find logs at: <code>./wandb/run-20241022_212437-6yl3ltwy/logs</code>"
      ],
      "text/plain": [
       "<IPython.core.display.HTML object>"
      ]
     },
     "metadata": {},
     "output_type": "display_data"
    },
    {
     "data": {
      "text/html": [
       "The new W&B backend becomes opt-out in version 0.18.0; try it out with `wandb.require(\"core\")`! See https://wandb.me/wandb-core for more information."
      ],
      "text/plain": [
       "<IPython.core.display.HTML object>"
      ]
     },
     "metadata": {},
     "output_type": "display_data"
    }
   ],
   "source": [
    "wandb.finish() "
   ]
  },
  {
   "cell_type": "code",
   "execution_count": 8,
   "metadata": {},
   "outputs": [],
   "source": [
    "# import numpy as np\n",
    "# import matplotlib.pyplot as plt\n",
    "# import json\n",
    "# run_name = 'main_FINAL_TEST'\n",
    "\n",
    "# unique_name = run_name\n",
    "# def pad_array_to_match_length(array1, array2):\n",
    "#     if len(array1) > len(array2):\n",
    "#         padded_array2 = np.pad(array2, (0, len(array1) - len(array2)), 'constant')\n",
    "#         return array1, padded_array2\n",
    "#     elif len(array2) > len(array1):\n",
    "#         padded_array1 = np.pad(array1, (0, len(array2) - len(array1)), 'constant')\n",
    "#         return padded_array1, array2\n",
    "#     else:\n",
    "#         return array1, array2\n",
    "# def load_hyperparameters(filename=f'result_save/hyperparameters_{unique_name}.json'):\n",
    "#     with open(filename, 'r') as f:\n",
    "#         return json.load(f)\n",
    "    \n",
    "\n",
    "\n",
    "\n",
    "\n",
    "# current_time = '20240628_110116'\n",
    "# base_name = f'{current_time}'\n",
    "# iter_acc_file_name = f'result_save/{base_name}_iter_acc_array_{unique_name}.npy'\n",
    "# val_acc_file_name = f'result_save/{base_name}_val_acc_now_array_{unique_name}.npy'\n",
    "# hyperparameters_file_name = f'result_save/{base_name}_hyperparameters_{unique_name}.json'\n",
    "\n",
    "# ### if you want to just see most recent train and val acc###########################\n",
    "# iter_acc_file_name = f'result_save/iter_acc_array_{unique_name}.npy'\n",
    "# tr_acc_file_name = f'result_save/tr_acc_array_{unique_name}.npy'\n",
    "# val_acc_file_name = f'result_save/val_acc_now_array_{unique_name}.npy'\n",
    "# hyperparameters_file_name = f'result_save/hyperparameters_{unique_name}.json'\n",
    "\n",
    "# loaded_iter_acc_array = np.load(iter_acc_file_name)*100\n",
    "# loaded_tr_acc_array = np.load(tr_acc_file_name)*100\n",
    "# loaded_val_acc_array = np.load(val_acc_file_name)*100\n",
    "# hyperparameters = load_hyperparameters(hyperparameters_file_name)\n",
    "\n",
    "# loaded_iter_acc_array, loaded_val_acc_array = pad_array_to_match_length(loaded_iter_acc_array, loaded_val_acc_array)\n",
    "# loaded_iter_acc_array, loaded_tr_acc_array = pad_array_to_match_length(loaded_iter_acc_array, loaded_tr_acc_array)\n",
    "# loaded_val_acc_array, loaded_tr_acc_array = pad_array_to_match_length(loaded_val_acc_array, loaded_tr_acc_array)\n",
    "\n",
    "# top_iter_acc = np.max(loaded_iter_acc_array)\n",
    "# top_tr_acc = np.max(loaded_tr_acc_array)\n",
    "# top_val_acc = np.max(loaded_val_acc_array)\n",
    "\n",
    "# which_data = hyperparameters['which_data']\n",
    "# BPTT_on = hyperparameters['BPTT_on']\n",
    "# current_epoch = hyperparameters['current epoch']\n",
    "# surrogate = hyperparameters['surrogate']\n",
    "# cfg = hyperparameters['cfg']\n",
    "# tdBN_on = hyperparameters['tdBN_on']\n",
    "# BN_on = hyperparameters['BN_on']\n",
    "\n",
    "\n",
    "# iterations = np.arange(len(loaded_iter_acc_array))\n",
    "\n",
    "# # 그래프 그리기\n",
    "# plt.figure(figsize=(10, 5))\n",
    "# plt.plot(iterations, loaded_iter_acc_array, label='Iter Accuracy', color='g', alpha=0.2)\n",
    "# plt.plot(iterations, loaded_tr_acc_array, label='Training Accuracy', color='b')\n",
    "# plt.plot(iterations, loaded_val_acc_array, label='Validation Accuracy', color='r')\n",
    "\n",
    "# # # 텍스트 추가\n",
    "# # plt.text(0.05, 0.95, f'Top Training Accuracy: {100*top_iter_acc:.2f}%', transform=plt.gca().transAxes, fontsize=12, verticalalignment='top', horizontalalignment='left', color='blue')\n",
    "# # plt.text(0.05, 0.90, f'Top Validation Accuracy: {100*top_val_acc:.2f}%', transform=plt.gca().transAxes, fontsize=12, verticalalignment='top', horizontalalignment='left', color='red')\n",
    "# # 텍스트 추가\n",
    "# plt.text(0.5, 0.10, f'Top Training Accuracy: {top_tr_acc:.2f}%', transform=plt.gca().transAxes, fontsize=12, verticalalignment='top', horizontalalignment='center', color='blue')\n",
    "# plt.text(0.5, 0.05, f'Top Validation Accuracy: {top_val_acc:.2f}%', transform=plt.gca().transAxes, fontsize=12, verticalalignment='top', horizontalalignment='center', color='red')\n",
    "\n",
    "# plt.xlabel('Iterations')\n",
    "# plt.ylabel('Accuracy [%]')\n",
    "\n",
    "# # 그래프 제목에 하이퍼파라미터 정보 추가\n",
    "# title = f'Training and Validation Accuracy over Iterations\\n\\nData: {which_data}, BPTT: {\"On\" if BPTT_on else \"Off\"}, Current Epoch: {current_epoch}, Surrogate: {surrogate},\\nCFG: {cfg}, tdBN: {\"On\" if tdBN_on else \"Off\"}, BN: {\"On\" if BN_on else \"Off\"}'\n",
    "\n",
    "# plt.title(title)\n",
    "\n",
    "# plt.legend(loc='lower right')\n",
    "# plt.xlim(0)  # x축을 0부터 시작\n",
    "# plt.grid(True)\n",
    "# plt.show()"
   ]
  }
 ],
 "metadata": {
  "kernelspec": {
   "display_name": "aedat2",
   "language": "python",
   "name": "python3"
  },
  "language_info": {
   "codemirror_mode": {
    "name": "ipython",
    "version": 3
   },
   "file_extension": ".py",
   "mimetype": "text/x-python",
   "name": "python",
   "nbconvert_exporter": "python",
   "pygments_lexer": "ipython3",
   "version": "3.8.18"
  }
 },
 "nbformat": 4,
 "nbformat_minor": 2
}
