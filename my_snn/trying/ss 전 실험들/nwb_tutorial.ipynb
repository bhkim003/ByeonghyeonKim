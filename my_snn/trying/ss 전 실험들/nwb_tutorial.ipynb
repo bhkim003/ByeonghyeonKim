{
  "cells": [
    {
      "cell_type": "markdown",
      "metadata": {},
      "source": [
        "\n",
        "\n",
        "# NWB File Basics\n",
        "\n",
        "This example will focus on the basics of working with an :py:class:`~pynwb.file.NWBFile` object,\n",
        "including writing and reading of an NWB file, and giving you an introduction to the basic data types.\n",
        "Before we dive into code showing how to use an :py:class:`~pynwb.file.NWBFile`, we first provide\n",
        "a brief overview of the basic concepts of NWB.\n",
        "\n",
        "\n",
        "## Background: Basic concepts\n",
        "\n",
        "In the [NWB Format](https://nwb-schema.readthedocs.io), each experiment session is typically\n",
        "represented by a separate NWB file. NWB files are represented in PyNWB by :py:class:`~pynwb.file.NWBFile`\n",
        "objects which provide functionality for creating and retrieving:\n",
        "\n",
        " * `timeseries_overview` datasets -- objects for storing time series data\n",
        " * `modules_overview` -- objects for storing and grouping analyses, and\n",
        " * experiment metadata and other metadata related to data provenance.\n",
        "\n",
        "The following sections describe the :py:class:`~pynwb.base.TimeSeries` and :py:class:`~pynwb.base.ProcessingModule`\n",
        "classes in further detail.\n",
        "\n",
        "\n",
        "### TimeSeries\n",
        "\n",
        ":py:class:`~pynwb.base.TimeSeries` objects store time series data and correspond to the *TimeSeries* specifications\n",
        "provided by the `NWB Format`_. Like the NWB specification, :py:class:`~pynwb.base.TimeSeries` Python objects\n",
        "follow an object-oriented inheritance pattern, i.e., the class :py:class:`~pynwb.base.TimeSeries`\n",
        "serves as the base class for all other :py:class:`~pynwb.base.TimeSeries` types, such as,\n",
        ":py:class:`~pynwb.ecephys.ElectricalSeries`, which itself may have further subtypes, e.g.,\n",
        ":py:class:`~pynwb.ecephys.SpikeEventSeries`.\n",
        "\n",
        ".. seealso::\n",
        "\n",
        "    For your reference, NWB defines the following main :py:class:`~pynwb.base.TimeSeries` subtypes:\n",
        "\n",
        "    * **Extracellular electrophysiology:**\n",
        "      :py:class:`~pynwb.ecephys.ElectricalSeries`, :py:class:`~pynwb.ecephys.SpikeEventSeries`\n",
        "\n",
        "    * **Intracellular electrophysiology:**\n",
        "      :py:class:`~pynwb.icephys.PatchClampSeries` is the base type for all intracellular time series, which\n",
        "      is further refined into subtypes depending on the type of recording:\n",
        "      :py:class:`~pynwb.icephys.CurrentClampSeries`,\n",
        "      :py:class:`~pynwb.icephys.IZeroClampSeries`,\n",
        "      :py:class:`~pynwb.icephys.CurrentClampStimulusSeries`,\n",
        "      :py:class:`~pynwb.icephys.VoltageClampSeries`,\n",
        "      :py:class:`~pynwb.icephys.VoltageClampStimulusSeries`.\n",
        "\n",
        "    * **Optical physiology and imaging:** :py:class:`~pynwb.image.ImageSeries` is the base type\n",
        "      for image recordings and is further refined by the\n",
        "      :py:class:`~pynwb.image.ImageMaskSeries`,\n",
        "      :py:class:`~pynwb.image.OpticalSeries`,\n",
        "      :py:class:`~pynwb.ophys.OnePhotonSeries`, and\n",
        "      :py:class:`~pynwb.ophys.TwoPhotonSeries` types.\n",
        "      Other related time series types are:\n",
        "      :py:class:`~pynwb.image.IndexSeries`,\n",
        "      :py:class:`~pynwb.ophys.RoiResponseSeries`.\n",
        "\n",
        "    * **Others:** :py:class:`~pynwb.ogen.OptogeneticSeries`,\n",
        "      :py:class:`~pynwb.behavior.SpatialSeries`,\n",
        "      :py:class:`~pynwb.misc.DecompositionSeries`,\n",
        "      :py:class:`~pynwb.misc.AnnotationSeries`,\n",
        "      :py:class:`~pynwb.misc.AbstractFeatureSeries`,\n",
        "      :py:class:`~pynwb.misc.IntervalSeries`.\n",
        "\n",
        "\n",
        "\n",
        "### Processing Modules\n",
        "\n",
        "Processing modules are objects that group together common analyses done during processing of data. They\n",
        "often hold data of different processing/analysis data types.\n",
        "\n",
        ".. seealso::\n",
        "\n",
        "    For your reference, NWB defines the following main processing/analysis data types:\n",
        "\n",
        "    * **Behavior:** :py:class:`~pynwb.behavior.BehavioralEpochs`,\n",
        "      :py:class:`~pynwb.behavior.BehavioralEvents`,\n",
        "      :py:class:`~pynwb.behavior.BehavioralTimeSeries`,\n",
        "      :py:class:`~pynwb.behavior.CompassDirection`,\n",
        "      :py:class:`~pynwb.behavior.PupilTracking`,\n",
        "      :py:class:`~pynwb.behavior.Position`,\n",
        "      :py:class:`~pynwb.behavior.EyeTracking`.\n",
        "\n",
        "    * **Extracellular electrophysiology:** :py:class:`~pynwb.ecephys.EventDetection`,\n",
        "      :py:class:`~pynwb.ecephys.EventWaveform`,\n",
        "      :py:class:`~pynwb.ecephys.FeatureExtraction`,\n",
        "      :py:class:`~pynwb.ecephys.FilteredEphys`,\n",
        "      :py:class:`~pynwb.ecephys.LFP`.\n",
        "\n",
        "    * **Optical physiology:** :py:class:`~pynwb.ophys.DfOverF`,\n",
        "      :py:class:`~pynwb.ophys.Fluorescence`,\n",
        "      :py:class:`~pynwb.ophys.ImageSegmentation`,\n",
        "      :py:class:`~pynwb.ophys.MotionCorrection`.\n",
        "\n",
        "    * **Others:** :py:class:`~pynwb.base.Images`.\n",
        "\n",
        "    * **TimeSeries:** Any :py:class:`~pynwb.base.TimeSeries` can be used to store processing/analysis data.\n",
        "\n",
        "NWB organizes data into different groups depending on the type of data. Groups can be thought of\n",
        "as folders within the file. Here are some of the groups within an :py:class:`~pynwb.file.NWBFile` and the types of\n",
        "data they are intended to store:\n",
        "\n",
        "* **acquisition**: raw, acquired data that should never change\n",
        "* **processing**: processed data, typically the results of preprocessing algorithms and could change\n",
        "* **analysis**: results of data analysis\n",
        "* **stimuli**: stimuli used in the experiment (e.g., images, videos, light pulses)\n",
        "\n",
        "The following examples will reference variables that may not be defined within the block they are used in. For\n",
        "clarity, we define them here:\n"
      ]
    },
    {
      "cell_type": "code",
      "execution_count": 1,
      "metadata": {
        "collapsed": false
      },
      "outputs": [],
      "source": [
        "from datetime import datetime\n",
        "from uuid import uuid4\n",
        "\n",
        "import numpy as np\n",
        "from dateutil import tz\n",
        "\n",
        "from pynwb import NWBHDF5IO, NWBFile, TimeSeries\n",
        "from pynwb.behavior import Position, SpatialSeries\n",
        "from pynwb.file import Subject\n",
        "from pynwb.misc import AnnotationSeries"
      ]
    },
    {
      "cell_type": "markdown",
      "metadata": {},
      "source": [
        "\n",
        "## The NWB file\n",
        "\n",
        "An :py:class:`~pynwb.file.NWBFile` represents a single session of an experiment.\n",
        "Each :py:class:`~pynwb.file.NWBFile` must have a session description, identifier, and session start time.\n",
        "Importantly, the session start time is the reference time for all timestamps in the file.\n",
        "For instance, an event with a timestamp of 0 in the file means the event\n",
        "occurred exactly at the session start time.\n",
        "\n",
        "Create an :py:class:`~pynwb.file.NWBFile` object with the required fields\n",
        "(:py:attr:`~pynwb.file.NWBFile.session_description`, :py:attr:`~pynwb.file.NWBFile.identifier`,\n",
        ":py:attr:`~pynwb.file.NWBFile.session_start_time`) and additional metadata.\n",
        "\n",
        "<div class=\"alert alert-info\"><h4>Note</h4><p>Use keyword arguments when constructing :py:class:`~pynwb.file.NWBFile` objects.</p></div>\n",
        "\n",
        "\n"
      ]
    },
    {
      "cell_type": "code",
      "execution_count": 2,
      "metadata": {
        "collapsed": false
      },
      "outputs": [
        {
          "data": {
            "text/html": [
              "\n",
              "        <style>\n",
              "            .container-fields {\n",
              "                font-family: \"Open Sans\", Arial, sans-serif;\n",
              "            }\n",
              "            .container-fields .field-value {\n",
              "                color: #00788E;\n",
              "            }\n",
              "            .container-fields details > summary {\n",
              "                cursor: pointer;\n",
              "                display: list-item;\n",
              "            }\n",
              "            .container-fields details > summary:hover {\n",
              "                color: #0A6EAA;\n",
              "            }\n",
              "        </style>\n",
              "        \n",
              "        <script>\n",
              "            function copyToClipboard(text) {\n",
              "                navigator.clipboard.writeText(text).then(function() {\n",
              "                    console.log('Copied to clipboard: ' + text);\n",
              "                }, function(err) {\n",
              "                    console.error('Could not copy text: ', err);\n",
              "                });\n",
              "            }\n",
              "\n",
              "            document.addEventListener('DOMContentLoaded', function() {\n",
              "                let fieldKeys = document.querySelectorAll('.container-fields .field-key');\n",
              "                fieldKeys.forEach(function(fieldKey) {\n",
              "                    fieldKey.addEventListener('click', function() {\n",
              "                        let accessCode = fieldKey.getAttribute('title').replace('Access code: ', '');\n",
              "                        copyToClipboard(accessCode);\n",
              "                    });\n",
              "                });\n",
              "            });\n",
              "        </script>\n",
              "        <div class='container-wrap'><div class='container-header'><div class='xr-obj-type'><h3>root (NWBFile)</h3></div></div><div style=\"margin-left: 0px;\" class=\"container-fields\"><span class=\"field-key\" title=\".session_description\">session_description: </span><span class=\"field-value\">Mouse exploring an open field</span></div><div style=\"margin-left: 0px;\" class=\"container-fields\"><span class=\"field-key\" title=\".identifier\">identifier: </span><span class=\"field-value\">03cf995f-1f6c-4bc1-9698-42323e74a16d</span></div><details><summary style=\"display: list-item; margin-left: 0px;\" class=\"container-fields field-key\" title=\".session_start_time\"><b>session_start_time</b></summary><span class=\"field-key\">2018-04-25 02:30:03-07:00</span></details><details><summary style=\"display: list-item; margin-left: 0px;\" class=\"container-fields field-key\" title=\".timestamps_reference_time\"><b>timestamps_reference_time</b></summary><span class=\"field-key\">2018-04-25 02:30:03-07:00</span></details><details><summary style=\"display: list-item; margin-left: 0px;\" class=\"container-fields field-key\" title=\".file_create_date\"><b>file_create_date</b></summary><details><summary style=\"display: list-item; margin-left: 20px;\" class=\"container-fields field-key\" title=\".file_create_date[0]\"><b>0</b></summary><span class=\"field-key\">2024-11-29 16:47:46.825874+09:00</span></details></details><details><summary style=\"display: list-item; margin-left: 0px;\" class=\"container-fields field-key\" title=\".experimenter\"><b>experimenter</b></summary><div style=\"margin-left: 20px;\" class=\"container-fields\"><span class=\"field-key\" title=\".experimenter[0]\">0: </span><span class=\"field-value\">Baggins, Bilbo</span></div></details><details><summary style=\"display: list-item; margin-left: 0px;\" class=\"container-fields field-key\" title=\".related_publications\"><b>related_publications</b></summary><span class=\"field-key\">('doi:10.1016/j.neuron.2016.12.011',)</span></details><details><summary style=\"display: list-item; margin-left: 0px;\" class=\"container-fields field-key\" title=\".keywords\"><b>keywords</b></summary><div style=\"margin-left: 20px;\" class=\"container-fields\"><span class=\"field-key\" title=\".keywords[0]\">0: </span><span class=\"field-value\">behavior</span></div><div style=\"margin-left: 20px;\" class=\"container-fields\"><span class=\"field-key\" title=\".keywords[0][1]\">1: </span><span class=\"field-value\">exploration</span></div><div style=\"margin-left: 20px;\" class=\"container-fields\"><span class=\"field-key\" title=\".keywords[0][1][2]\">2: </span><span class=\"field-value\">wanderlust</span></div></details><div style=\"margin-left: 0px;\" class=\"container-fields\"><span class=\"field-key\" title=\".experiment_description\">experiment_description: </span><span class=\"field-value\">I went on an adventure to reclaim vast treasures.</span></div><div style=\"margin-left: 0px;\" class=\"container-fields\"><span class=\"field-key\" title=\".session_id\">session_id: </span><span class=\"field-value\">session_1234</span></div><div style=\"margin-left: 0px;\" class=\"container-fields\"><span class=\"field-key\" title=\".lab\">lab: </span><span class=\"field-value\">Bag End Laboratory</span></div><div style=\"margin-left: 0px;\" class=\"container-fields\"><span class=\"field-key\" title=\".institution\">institution: </span><span class=\"field-value\">University of Middle Earth at the Shire</span></div></div>"
            ],
            "text/plain": [
              "root pynwb.file.NWBFile at 0x139930438585408\n",
              "Fields:\n",
              "  experiment_description: I went on an adventure to reclaim vast treasures.\n",
              "  experimenter: ['Baggins, Bilbo']\n",
              "  file_create_date: [datetime.datetime(2024, 11, 29, 16, 47, 46, 825874, tzinfo=tzlocal())]\n",
              "  identifier: 03cf995f-1f6c-4bc1-9698-42323e74a16d\n",
              "  institution: University of Middle Earth at the Shire\n",
              "  keywords: ['behavior' 'exploration' 'wanderlust']\n",
              "  lab: Bag End Laboratory\n",
              "  related_publications: ['doi:10.1016/j.neuron.2016.12.011']\n",
              "  session_description: Mouse exploring an open field\n",
              "  session_id: session_1234\n",
              "  session_start_time: 2018-04-25 02:30:03-07:00\n",
              "  timestamps_reference_time: 2018-04-25 02:30:03-07:00"
            ]
          },
          "execution_count": 2,
          "metadata": {},
          "output_type": "execute_result"
        }
      ],
      "source": [
        "session_start_time = datetime(2018, 4, 25, 2, 30, 3, tzinfo=tz.gettz(\"US/Pacific\"))\n",
        "\n",
        "nwbfile = NWBFile(\n",
        "    session_description=\"Mouse exploring an open field\",  # required\n",
        "    identifier=str(uuid4()),  # required\n",
        "    session_start_time=session_start_time,  # required\n",
        "    session_id=\"session_1234\",  # optional\n",
        "    experimenter=[\n",
        "        \"Baggins, Bilbo\",\n",
        "    ],  # optional\n",
        "    lab=\"Bag End Laboratory\",  # optional\n",
        "    institution=\"University of Middle Earth at the Shire\",  # optional\n",
        "    experiment_description=\"I went on an adventure to reclaim vast treasures.\",  # optional\n",
        "    keywords=[\"behavior\", \"exploration\", \"wanderlust\"],  # optional\n",
        "    related_publications=\"doi:10.1016/j.neuron.2016.12.011\",  # optional\n",
        ")\n",
        "nwbfile"
      ]
    },
    {
      "cell_type": "markdown",
      "metadata": {},
      "source": [
        "<div class=\"alert alert-info\"><h4>Note</h4><p>See the [NWBFile Best Practices](https://nwbinspector.readthedocs.io/en/dev/best_practices/nwbfile_metadata.html#file-metadata)\n",
        "    for detailed information about the arguments to\n",
        "    :py:class:`~pynwb.file.NWBFile`</p></div>\n",
        "\n"
      ]
    },
    {
      "cell_type": "markdown",
      "metadata": {},
      "source": [
        "\n",
        "## Subject Information\n",
        "\n",
        "In the :py:class:`~pynwb.file.Subject` object we can store information about the experiment subject,\n",
        "such as ``age``, ``species``, ``genotype``, ``sex``, and a ``description``.\n",
        "\n",
        ".. only:: html\n",
        "\n",
        "  .. image:: ../../_static/Subject.svg\n",
        "    :width: 150\n",
        "    :alt: subject UML diagram\n",
        "    :align: center\n",
        "\n",
        ".. only:: latex\n",
        "\n",
        "  .. image:: ../../_static/Subject.png\n",
        "    :width: 150\n",
        "    :alt: subject UML diagram\n",
        "    :align: center\n",
        "\n",
        "The fields in the :py:class:`~pynwb.file.Subject` object are all free-form text (any format will be valid),\n",
        "however it is recommended to follow particular conventions to help software tools interpret the data:\n",
        "\n",
        "* **age**: [ISO 8601 Duration format](https://en.wikipedia.org/wiki/ISO_8601#Durations), e.g., ``\"P90D\"`` for 90\n",
        "  days old\n",
        "* **species**: The formal Latin binomial nomenclature, e.g., ``\"Mus musculus\"``, ``\"Homo sapiens\"``\n",
        "* **sex**: Single letter abbreviation, e.g., ``\"F\"`` (female), ``\"M\"`` (male), ``\"U\"`` (unknown), and ``\"O\"`` (other)\n",
        "\n",
        "Add the subject information to the :py:class:`~pynwb.file.NWBFile`\n",
        "by setting the ``subject`` field to a new :py:class:`~pynwb.file.Subject` object.\n",
        "\n"
      ]
    },
    {
      "cell_type": "code",
      "execution_count": 3,
      "metadata": {
        "collapsed": false
      },
      "outputs": [
        {
          "data": {
            "text/html": [
              "\n",
              "        <style>\n",
              "            .container-fields {\n",
              "                font-family: \"Open Sans\", Arial, sans-serif;\n",
              "            }\n",
              "            .container-fields .field-value {\n",
              "                color: #00788E;\n",
              "            }\n",
              "            .container-fields details > summary {\n",
              "                cursor: pointer;\n",
              "                display: list-item;\n",
              "            }\n",
              "            .container-fields details > summary:hover {\n",
              "                color: #0A6EAA;\n",
              "            }\n",
              "        </style>\n",
              "        \n",
              "        <script>\n",
              "            function copyToClipboard(text) {\n",
              "                navigator.clipboard.writeText(text).then(function() {\n",
              "                    console.log('Copied to clipboard: ' + text);\n",
              "                }, function(err) {\n",
              "                    console.error('Could not copy text: ', err);\n",
              "                });\n",
              "            }\n",
              "\n",
              "            document.addEventListener('DOMContentLoaded', function() {\n",
              "                let fieldKeys = document.querySelectorAll('.container-fields .field-key');\n",
              "                fieldKeys.forEach(function(fieldKey) {\n",
              "                    fieldKey.addEventListener('click', function() {\n",
              "                        let accessCode = fieldKey.getAttribute('title').replace('Access code: ', '');\n",
              "                        copyToClipboard(accessCode);\n",
              "                    });\n",
              "                });\n",
              "            });\n",
              "        </script>\n",
              "        <div class='container-wrap'><div class='container-header'><div class='xr-obj-type'><h3>subject (Subject)</h3></div></div><div style=\"margin-left: 0px;\" class=\"container-fields\"><span class=\"field-key\" title=\".age\">age: </span><span class=\"field-value\">P90D</span></div><div style=\"margin-left: 0px;\" class=\"container-fields\"><span class=\"field-key\" title=\".age__reference\">age__reference: </span><span class=\"field-value\">birth</span></div><div style=\"margin-left: 0px;\" class=\"container-fields\"><span class=\"field-key\" title=\".description\">description: </span><span class=\"field-value\">mouse 5</span></div><div style=\"margin-left: 0px;\" class=\"container-fields\"><span class=\"field-key\" title=\".sex\">sex: </span><span class=\"field-value\">M</span></div><div style=\"margin-left: 0px;\" class=\"container-fields\"><span class=\"field-key\" title=\".species\">species: </span><span class=\"field-value\">Mus musculus</span></div><div style=\"margin-left: 0px;\" class=\"container-fields\"><span class=\"field-key\" title=\".subject_id\">subject_id: </span><span class=\"field-value\">001</span></div></div>"
            ],
            "text/plain": [
              "subject pynwb.file.Subject at 0x139929307744336\n",
              "Fields:\n",
              "  age: P90D\n",
              "  age__reference: birth\n",
              "  description: mouse 5\n",
              "  sex: M\n",
              "  species: Mus musculus\n",
              "  subject_id: 001"
            ]
          },
          "execution_count": 3,
          "metadata": {},
          "output_type": "execute_result"
        }
      ],
      "source": [
        "subject = Subject(\n",
        "    subject_id=\"001\",\n",
        "    age=\"P90D\",\n",
        "    description=\"mouse 5\",\n",
        "    species=\"Mus musculus\",\n",
        "    sex=\"M\",\n",
        ")\n",
        "\n",
        "nwbfile.subject = subject\n",
        "subject"
      ]
    },
    {
      "cell_type": "markdown",
      "metadata": {},
      "source": [
        "\n",
        "## Time Series Data\n",
        "\n",
        ":py:class:`~pynwb.base.TimeSeries` is a common base class for measurements sampled over time,\n",
        "and provides fields for ``data`` and ``timestamps`` (regularly or irregularly sampled).\n",
        "You will also need to supply the ``name`` and ``unit`` of measurement\n",
        "([SI unit](https://en.wikipedia.org/wiki/International_System_of_Units)).\n",
        "\n",
        "<img src=\"file://../../_static/TimeSeries.png\" width=\"200\" alt=\"timeseries UML diagram\" align=\"center\">\n",
        "\n",
        "For instance, we can store a :py:class:`~pynwb.base.TimeSeries` data where recording started\n",
        "``0.0`` seconds after ``start_time`` and sampled every second (1 Hz):\n",
        "\n"
      ]
    },
    {
      "cell_type": "code",
      "execution_count": 4,
      "metadata": {
        "collapsed": false
      },
      "outputs": [
        {
          "data": {
            "text/html": [
              "\n",
              "        <style>\n",
              "            .container-fields {\n",
              "                font-family: \"Open Sans\", Arial, sans-serif;\n",
              "            }\n",
              "            .container-fields .field-value {\n",
              "                color: #00788E;\n",
              "            }\n",
              "            .container-fields details > summary {\n",
              "                cursor: pointer;\n",
              "                display: list-item;\n",
              "            }\n",
              "            .container-fields details > summary:hover {\n",
              "                color: #0A6EAA;\n",
              "            }\n",
              "        </style>\n",
              "        \n",
              "        <script>\n",
              "            function copyToClipboard(text) {\n",
              "                navigator.clipboard.writeText(text).then(function() {\n",
              "                    console.log('Copied to clipboard: ' + text);\n",
              "                }, function(err) {\n",
              "                    console.error('Could not copy text: ', err);\n",
              "                });\n",
              "            }\n",
              "\n",
              "            document.addEventListener('DOMContentLoaded', function() {\n",
              "                let fieldKeys = document.querySelectorAll('.container-fields .field-key');\n",
              "                fieldKeys.forEach(function(fieldKey) {\n",
              "                    fieldKey.addEventListener('click', function() {\n",
              "                        let accessCode = fieldKey.getAttribute('title').replace('Access code: ', '');\n",
              "                        copyToClipboard(accessCode);\n",
              "                    });\n",
              "                });\n",
              "            });\n",
              "        </script>\n",
              "        <div class='container-wrap'><div class='container-header'><div class='xr-obj-type'><h3>test_timeseries (TimeSeries)</h3></div></div><div style=\"margin-left: 0px;\" class=\"container-fields\"><span class=\"field-key\" title=\".starting_time\">starting_time: </span><span class=\"field-value\">0.0</span></div><div style=\"margin-left: 0px;\" class=\"container-fields\"><span class=\"field-key\" title=\".rate\">rate: </span><span class=\"field-value\">1.0</span></div><div style=\"margin-left: 0px;\" class=\"container-fields\"><span class=\"field-key\" title=\".resolution\">resolution: </span><span class=\"field-value\">-1.0</span></div><div style=\"margin-left: 0px;\" class=\"container-fields\"><span class=\"field-key\" title=\".comments\">comments: </span><span class=\"field-value\">no comments</span></div><div style=\"margin-left: 0px;\" class=\"container-fields\"><span class=\"field-key\" title=\".description\">description: </span><span class=\"field-value\">an example time series</span></div><div style=\"margin-left: 0px;\" class=\"container-fields\"><span class=\"field-key\" title=\".conversion\">conversion: </span><span class=\"field-value\">1.0</span></div><div style=\"margin-left: 0px;\" class=\"container-fields\"><span class=\"field-key\" title=\".offset\">offset: </span><span class=\"field-value\">0.0</span></div><div style=\"margin-left: 0px;\" class=\"container-fields\"><span class=\"field-key\" title=\".unit\">unit: </span><span class=\"field-value\">m</span></div><details><summary style=\"display: list-item; margin-left: 0px;\" class=\"container-fields field-key\" title=\".data\"><b>data</b></summary><div style=\"margin-left: 20px;\" class=\"container-fields\">[100 110 120 130 140 150 160 170 180 190]</div></details><div style=\"margin-left: 0px;\" class=\"container-fields\"><span class=\"field-key\" title=\".starting_time_unit\">starting_time_unit: </span><span class=\"field-value\">seconds</span></div></div>"
            ],
            "text/plain": [
              "test_timeseries pynwb.base.TimeSeries at 0x139929307696864\n",
              "Fields:\n",
              "  comments: no comments\n",
              "  conversion: 1.0\n",
              "  data: [100 110 120 130 140 150 160 170 180 190]\n",
              "  description: an example time series\n",
              "  offset: 0.0\n",
              "  rate: 1.0\n",
              "  resolution: -1.0\n",
              "  starting_time: 0.0\n",
              "  starting_time_unit: seconds\n",
              "  unit: m"
            ]
          },
          "execution_count": 4,
          "metadata": {},
          "output_type": "execute_result"
        }
      ],
      "source": [
        "data = np.arange(100, 200, 10)\n",
        "time_series_with_rate = TimeSeries(\n",
        "    name=\"test_timeseries\",\n",
        "    description=\"an example time series\",\n",
        "    data=data,\n",
        "    unit=\"m\",\n",
        "    starting_time=0.0,\n",
        "    rate=1.0,\n",
        ")\n",
        "time_series_with_rate"
      ]
    },
    {
      "cell_type": "markdown",
      "metadata": {},
      "source": [
        "For irregularly sampled recordings, we need to provide the ``timestamps`` for the ``data``:\n",
        "\n"
      ]
    },
    {
      "cell_type": "code",
      "execution_count": 5,
      "metadata": {
        "collapsed": false
      },
      "outputs": [
        {
          "data": {
            "text/html": [
              "\n",
              "        <style>\n",
              "            .container-fields {\n",
              "                font-family: \"Open Sans\", Arial, sans-serif;\n",
              "            }\n",
              "            .container-fields .field-value {\n",
              "                color: #00788E;\n",
              "            }\n",
              "            .container-fields details > summary {\n",
              "                cursor: pointer;\n",
              "                display: list-item;\n",
              "            }\n",
              "            .container-fields details > summary:hover {\n",
              "                color: #0A6EAA;\n",
              "            }\n",
              "        </style>\n",
              "        \n",
              "        <script>\n",
              "            function copyToClipboard(text) {\n",
              "                navigator.clipboard.writeText(text).then(function() {\n",
              "                    console.log('Copied to clipboard: ' + text);\n",
              "                }, function(err) {\n",
              "                    console.error('Could not copy text: ', err);\n",
              "                });\n",
              "            }\n",
              "\n",
              "            document.addEventListener('DOMContentLoaded', function() {\n",
              "                let fieldKeys = document.querySelectorAll('.container-fields .field-key');\n",
              "                fieldKeys.forEach(function(fieldKey) {\n",
              "                    fieldKey.addEventListener('click', function() {\n",
              "                        let accessCode = fieldKey.getAttribute('title').replace('Access code: ', '');\n",
              "                        copyToClipboard(accessCode);\n",
              "                    });\n",
              "                });\n",
              "            });\n",
              "        </script>\n",
              "        <div class='container-wrap'><div class='container-header'><div class='xr-obj-type'><h3>test_timeseries (TimeSeries)</h3></div></div><div style=\"margin-left: 0px;\" class=\"container-fields\"><span class=\"field-key\" title=\".resolution\">resolution: </span><span class=\"field-value\">-1.0</span></div><div style=\"margin-left: 0px;\" class=\"container-fields\"><span class=\"field-key\" title=\".comments\">comments: </span><span class=\"field-value\">no comments</span></div><div style=\"margin-left: 0px;\" class=\"container-fields\"><span class=\"field-key\" title=\".description\">description: </span><span class=\"field-value\">an example time series</span></div><div style=\"margin-left: 0px;\" class=\"container-fields\"><span class=\"field-key\" title=\".conversion\">conversion: </span><span class=\"field-value\">1.0</span></div><div style=\"margin-left: 0px;\" class=\"container-fields\"><span class=\"field-key\" title=\".offset\">offset: </span><span class=\"field-value\">0.0</span></div><div style=\"margin-left: 0px;\" class=\"container-fields\"><span class=\"field-key\" title=\".unit\">unit: </span><span class=\"field-value\">m</span></div><details><summary style=\"display: list-item; margin-left: 0px;\" class=\"container-fields field-key\" title=\".data\"><b>data</b></summary><div style=\"margin-left: 20px;\" class=\"container-fields\">[100 110 120 130 140 150 160 170 180 190]</div></details><details><summary style=\"display: list-item; margin-left: 0px;\" class=\"container-fields field-key\" title=\".timestamps\"><b>timestamps</b></summary><div style=\"margin-left: 20px;\" class=\"container-fields\">[0. 1. 2. 3. 4. 5. 6. 7. 8. 9.]</div></details><div style=\"margin-left: 0px;\" class=\"container-fields\"><span class=\"field-key\" title=\".timestamps_unit\">timestamps_unit: </span><span class=\"field-value\">seconds</span></div><div style=\"margin-left: 0px;\" class=\"container-fields\"><span class=\"field-key\" title=\".interval\">interval: </span><span class=\"field-value\">1</span></div></div>"
            ],
            "text/plain": [
              "test_timeseries pynwb.base.TimeSeries at 0x139930438202896\n",
              "Fields:\n",
              "  comments: no comments\n",
              "  conversion: 1.0\n",
              "  data: [100 110 120 130 140 150 160 170 180 190]\n",
              "  description: an example time series\n",
              "  interval: 1\n",
              "  offset: 0.0\n",
              "  resolution: -1.0\n",
              "  timestamps: [0. 1. 2. 3. 4. 5. 6. 7. 8. 9.]\n",
              "  timestamps_unit: seconds\n",
              "  unit: m"
            ]
          },
          "execution_count": 5,
          "metadata": {},
          "output_type": "execute_result"
        }
      ],
      "source": [
        "timestamps = np.arange(10.)\n",
        "time_series_with_timestamps = TimeSeries(\n",
        "    name=\"test_timeseries\",\n",
        "    description=\"an example time series\",\n",
        "    data=data,\n",
        "    unit=\"m\",\n",
        "    timestamps=timestamps,\n",
        ")\n",
        "time_series_with_timestamps"
      ]
    },
    {
      "cell_type": "markdown",
      "metadata": {},
      "source": [
        ":py:class:`~pynwb.base.TimeSeries` objects can be added directly to :py:class:`~pynwb.file.NWBFile` using:\n",
        "\n",
        "* :py:meth:`.NWBFile.add_acquisition` to add *acquisition* data (raw, acquired data that should never change),\n",
        "* :py:meth:`.NWBFile.add_stimulus` to add *stimulus* data, or\n",
        "* :py:meth:`.NWBFile.add_stimulus_template` to store *stimulus templates*.\n",
        "\n",
        "\n"
      ]
    },
    {
      "cell_type": "code",
      "execution_count": 6,
      "metadata": {
        "collapsed": false
      },
      "outputs": [],
      "source": [
        "nwbfile.add_acquisition(time_series_with_timestamps)"
      ]
    },
    {
      "cell_type": "markdown",
      "metadata": {},
      "source": [
        "We can access the :py:class:`~pynwb.base.TimeSeries` object ``'test_timeseries'``\n",
        "in :py:class:`~pynwb.file.NWBFile` from ``acquisition``:\n",
        "\n"
      ]
    },
    {
      "cell_type": "code",
      "execution_count": 7,
      "metadata": {
        "collapsed": false
      },
      "outputs": [
        {
          "data": {
            "text/html": [
              "\n",
              "        <style>\n",
              "            .container-fields {\n",
              "                font-family: \"Open Sans\", Arial, sans-serif;\n",
              "            }\n",
              "            .container-fields .field-value {\n",
              "                color: #00788E;\n",
              "            }\n",
              "            .container-fields details > summary {\n",
              "                cursor: pointer;\n",
              "                display: list-item;\n",
              "            }\n",
              "            .container-fields details > summary:hover {\n",
              "                color: #0A6EAA;\n",
              "            }\n",
              "        </style>\n",
              "        \n",
              "        <script>\n",
              "            function copyToClipboard(text) {\n",
              "                navigator.clipboard.writeText(text).then(function() {\n",
              "                    console.log('Copied to clipboard: ' + text);\n",
              "                }, function(err) {\n",
              "                    console.error('Could not copy text: ', err);\n",
              "                });\n",
              "            }\n",
              "\n",
              "            document.addEventListener('DOMContentLoaded', function() {\n",
              "                let fieldKeys = document.querySelectorAll('.container-fields .field-key');\n",
              "                fieldKeys.forEach(function(fieldKey) {\n",
              "                    fieldKey.addEventListener('click', function() {\n",
              "                        let accessCode = fieldKey.getAttribute('title').replace('Access code: ', '');\n",
              "                        copyToClipboard(accessCode);\n",
              "                    });\n",
              "                });\n",
              "            });\n",
              "        </script>\n",
              "        <div class='container-wrap'><div class='container-header'><div class='xr-obj-type'><h3>test_timeseries (TimeSeries)</h3></div></div><div style=\"margin-left: 0px;\" class=\"container-fields\"><span class=\"field-key\" title=\".resolution\">resolution: </span><span class=\"field-value\">-1.0</span></div><div style=\"margin-left: 0px;\" class=\"container-fields\"><span class=\"field-key\" title=\".comments\">comments: </span><span class=\"field-value\">no comments</span></div><div style=\"margin-left: 0px;\" class=\"container-fields\"><span class=\"field-key\" title=\".description\">description: </span><span class=\"field-value\">an example time series</span></div><div style=\"margin-left: 0px;\" class=\"container-fields\"><span class=\"field-key\" title=\".conversion\">conversion: </span><span class=\"field-value\">1.0</span></div><div style=\"margin-left: 0px;\" class=\"container-fields\"><span class=\"field-key\" title=\".offset\">offset: </span><span class=\"field-value\">0.0</span></div><div style=\"margin-left: 0px;\" class=\"container-fields\"><span class=\"field-key\" title=\".unit\">unit: </span><span class=\"field-value\">m</span></div><details><summary style=\"display: list-item; margin-left: 0px;\" class=\"container-fields field-key\" title=\".data\"><b>data</b></summary><div style=\"margin-left: 20px;\" class=\"container-fields\">[100 110 120 130 140 150 160 170 180 190]</div></details><details><summary style=\"display: list-item; margin-left: 0px;\" class=\"container-fields field-key\" title=\".timestamps\"><b>timestamps</b></summary><div style=\"margin-left: 20px;\" class=\"container-fields\">[0. 1. 2. 3. 4. 5. 6. 7. 8. 9.]</div></details><div style=\"margin-left: 0px;\" class=\"container-fields\"><span class=\"field-key\" title=\".timestamps_unit\">timestamps_unit: </span><span class=\"field-value\">seconds</span></div><div style=\"margin-left: 0px;\" class=\"container-fields\"><span class=\"field-key\" title=\".interval\">interval: </span><span class=\"field-value\">1</span></div></div>"
            ],
            "text/plain": [
              "test_timeseries pynwb.base.TimeSeries at 0x139930438202896\n",
              "Fields:\n",
              "  comments: no comments\n",
              "  conversion: 1.0\n",
              "  data: [100 110 120 130 140 150 160 170 180 190]\n",
              "  description: an example time series\n",
              "  interval: 1\n",
              "  offset: 0.0\n",
              "  resolution: -1.0\n",
              "  timestamps: [0. 1. 2. 3. 4. 5. 6. 7. 8. 9.]\n",
              "  timestamps_unit: seconds\n",
              "  unit: m"
            ]
          },
          "execution_count": 7,
          "metadata": {},
          "output_type": "execute_result"
        }
      ],
      "source": [
        "nwbfile.acquisition[\"test_timeseries\"]"
      ]
    },
    {
      "cell_type": "markdown",
      "metadata": {},
      "source": [
        "or using the method :py:meth:`.NWBFile.get_acquisition`:\n",
        "\n"
      ]
    },
    {
      "cell_type": "code",
      "execution_count": 8,
      "metadata": {
        "collapsed": false
      },
      "outputs": [
        {
          "data": {
            "text/html": [
              "\n",
              "        <style>\n",
              "            .container-fields {\n",
              "                font-family: \"Open Sans\", Arial, sans-serif;\n",
              "            }\n",
              "            .container-fields .field-value {\n",
              "                color: #00788E;\n",
              "            }\n",
              "            .container-fields details > summary {\n",
              "                cursor: pointer;\n",
              "                display: list-item;\n",
              "            }\n",
              "            .container-fields details > summary:hover {\n",
              "                color: #0A6EAA;\n",
              "            }\n",
              "        </style>\n",
              "        \n",
              "        <script>\n",
              "            function copyToClipboard(text) {\n",
              "                navigator.clipboard.writeText(text).then(function() {\n",
              "                    console.log('Copied to clipboard: ' + text);\n",
              "                }, function(err) {\n",
              "                    console.error('Could not copy text: ', err);\n",
              "                });\n",
              "            }\n",
              "\n",
              "            document.addEventListener('DOMContentLoaded', function() {\n",
              "                let fieldKeys = document.querySelectorAll('.container-fields .field-key');\n",
              "                fieldKeys.forEach(function(fieldKey) {\n",
              "                    fieldKey.addEventListener('click', function() {\n",
              "                        let accessCode = fieldKey.getAttribute('title').replace('Access code: ', '');\n",
              "                        copyToClipboard(accessCode);\n",
              "                    });\n",
              "                });\n",
              "            });\n",
              "        </script>\n",
              "        <div class='container-wrap'><div class='container-header'><div class='xr-obj-type'><h3>test_timeseries (TimeSeries)</h3></div></div><div style=\"margin-left: 0px;\" class=\"container-fields\"><span class=\"field-key\" title=\".resolution\">resolution: </span><span class=\"field-value\">-1.0</span></div><div style=\"margin-left: 0px;\" class=\"container-fields\"><span class=\"field-key\" title=\".comments\">comments: </span><span class=\"field-value\">no comments</span></div><div style=\"margin-left: 0px;\" class=\"container-fields\"><span class=\"field-key\" title=\".description\">description: </span><span class=\"field-value\">an example time series</span></div><div style=\"margin-left: 0px;\" class=\"container-fields\"><span class=\"field-key\" title=\".conversion\">conversion: </span><span class=\"field-value\">1.0</span></div><div style=\"margin-left: 0px;\" class=\"container-fields\"><span class=\"field-key\" title=\".offset\">offset: </span><span class=\"field-value\">0.0</span></div><div style=\"margin-left: 0px;\" class=\"container-fields\"><span class=\"field-key\" title=\".unit\">unit: </span><span class=\"field-value\">m</span></div><details><summary style=\"display: list-item; margin-left: 0px;\" class=\"container-fields field-key\" title=\".data\"><b>data</b></summary><div style=\"margin-left: 20px;\" class=\"container-fields\">[100 110 120 130 140 150 160 170 180 190]</div></details><details><summary style=\"display: list-item; margin-left: 0px;\" class=\"container-fields field-key\" title=\".timestamps\"><b>timestamps</b></summary><div style=\"margin-left: 20px;\" class=\"container-fields\">[0. 1. 2. 3. 4. 5. 6. 7. 8. 9.]</div></details><div style=\"margin-left: 0px;\" class=\"container-fields\"><span class=\"field-key\" title=\".timestamps_unit\">timestamps_unit: </span><span class=\"field-value\">seconds</span></div><div style=\"margin-left: 0px;\" class=\"container-fields\"><span class=\"field-key\" title=\".interval\">interval: </span><span class=\"field-value\">1</span></div></div>"
            ],
            "text/plain": [
              "test_timeseries pynwb.base.TimeSeries at 0x139930438202896\n",
              "Fields:\n",
              "  comments: no comments\n",
              "  conversion: 1.0\n",
              "  data: [100 110 120 130 140 150 160 170 180 190]\n",
              "  description: an example time series\n",
              "  interval: 1\n",
              "  offset: 0.0\n",
              "  resolution: -1.0\n",
              "  timestamps: [0. 1. 2. 3. 4. 5. 6. 7. 8. 9.]\n",
              "  timestamps_unit: seconds\n",
              "  unit: m"
            ]
          },
          "execution_count": 8,
          "metadata": {},
          "output_type": "execute_result"
        }
      ],
      "source": [
        "nwbfile.get_acquisition(\"test_timeseries\")"
      ]
    },
    {
      "cell_type": "markdown",
      "metadata": {},
      "source": [
        "### Other Types of Time Series\n",
        "\n",
        "As mentioned previously, there are many subtypes of :py:class:`~pynwb.base.TimeSeries` that are used to store\n",
        "different kinds of data. One example is :py:class:`~pynwb.misc.AnnotationSeries`, a subclass of \n",
        ":py:class:`~pynwb.base.TimeSeries` that stores text-based records about the experiment. Similarly to our\n",
        ":py:class:`~pynwb.base.TimeSeries` example above, we can create an :py:class:`~pynwb.misc.AnnotationSeries` \n",
        "object with text information about a stimulus and add it to the stimulus group in \n",
        "the :py:class:`~pynwb.file.NWBFile`. \n",
        "\n"
      ]
    },
    {
      "cell_type": "code",
      "execution_count": 9,
      "metadata": {
        "collapsed": false
      },
      "outputs": [],
      "source": [
        "annotations = AnnotationSeries(\n",
        "    name='airpuffs',\n",
        "    data=['Left Airpuff', 'Right Airpuff', 'Right Airpuff'],\n",
        "    description='Airpuff events delivered to the animal',\n",
        "    timestamps=[1.0, 3.0, 8.0],\n",
        ")\n",
        "\n",
        "nwbfile.add_stimulus(annotations)"
      ]
    },
    {
      "cell_type": "markdown",
      "metadata": {},
      "source": [
        "This approach of creating a :py:class:`~pynwb.base.TimeSeries` object and adding it to the appropriate \n",
        ":py:class:`~pynwb.file.NWBFile` group can be used for all subtypes of :py:class:`~pynwb.base.TimeSeries` data.\n",
        "\n"
      ]
    },
    {
      "cell_type": "markdown",
      "metadata": {},
      "source": [
        "\n",
        "## Spatial Series and Position\n",
        "\n",
        ":py:class:`~pynwb.behavior.SpatialSeries` is a subclass of :py:class:`~pynwb.base.TimeSeries`\n",
        "that represents the spatial position of an animal over time.\n",
        "\n",
        ".. only:: html\n",
        "\n",
        "  .. image:: ../../_static/SpatialSeries.svg\n",
        "    :width: 200\n",
        "    :alt: spatialseries UML diagram\n",
        "    :align: center\n",
        "\n",
        ".. only:: latex\n",
        "\n",
        "  .. image:: ../../_static/SpatialSeries.png\n",
        "    :width: 200\n",
        "    :alt: spatialseries UML diagram\n",
        "    :align: center\n",
        "\n",
        "Create a :py:class:`~pynwb.behavior.SpatialSeries` object named ``\"SpatialSeries\"`` with some fake data.\n",
        "\n"
      ]
    },
    {
      "cell_type": "code",
      "execution_count": 10,
      "metadata": {
        "collapsed": false
      },
      "outputs": [
        {
          "data": {
            "text/html": [
              "\n",
              "        <style>\n",
              "            .container-fields {\n",
              "                font-family: \"Open Sans\", Arial, sans-serif;\n",
              "            }\n",
              "            .container-fields .field-value {\n",
              "                color: #00788E;\n",
              "            }\n",
              "            .container-fields details > summary {\n",
              "                cursor: pointer;\n",
              "                display: list-item;\n",
              "            }\n",
              "            .container-fields details > summary:hover {\n",
              "                color: #0A6EAA;\n",
              "            }\n",
              "        </style>\n",
              "        \n",
              "        <script>\n",
              "            function copyToClipboard(text) {\n",
              "                navigator.clipboard.writeText(text).then(function() {\n",
              "                    console.log('Copied to clipboard: ' + text);\n",
              "                }, function(err) {\n",
              "                    console.error('Could not copy text: ', err);\n",
              "                });\n",
              "            }\n",
              "\n",
              "            document.addEventListener('DOMContentLoaded', function() {\n",
              "                let fieldKeys = document.querySelectorAll('.container-fields .field-key');\n",
              "                fieldKeys.forEach(function(fieldKey) {\n",
              "                    fieldKey.addEventListener('click', function() {\n",
              "                        let accessCode = fieldKey.getAttribute('title').replace('Access code: ', '');\n",
              "                        copyToClipboard(accessCode);\n",
              "                    });\n",
              "                });\n",
              "            });\n",
              "        </script>\n",
              "        <div class='container-wrap'><div class='container-header'><div class='xr-obj-type'><h3>SpatialSeries</h3></div></div><div style=\"margin-left: 0px;\" class=\"container-fields\"><span class=\"field-key\" title=\".resolution\">resolution: </span><span class=\"field-value\">-1.0</span></div><div style=\"margin-left: 0px;\" class=\"container-fields\"><span class=\"field-key\" title=\".comments\">comments: </span><span class=\"field-value\">no comments</span></div><div style=\"margin-left: 0px;\" class=\"container-fields\"><span class=\"field-key\" title=\".description\">description: </span><span class=\"field-value\">(x,y) position in open field</span></div><div style=\"margin-left: 0px;\" class=\"container-fields\"><span class=\"field-key\" title=\".conversion\">conversion: </span><span class=\"field-value\">1.0</span></div><div style=\"margin-left: 0px;\" class=\"container-fields\"><span class=\"field-key\" title=\".offset\">offset: </span><span class=\"field-value\">0.0</span></div><div style=\"margin-left: 0px;\" class=\"container-fields\"><span class=\"field-key\" title=\".unit\">unit: </span><span class=\"field-value\">meters</span></div><details><summary style=\"display: list-item; margin-left: 0px;\" class=\"container-fields field-key\" title=\".data\"><b>data</b></summary><div style=\"margin-left: 20px;\" class=\"container-fields\">[[ 0.          0.        ]</br> [ 0.20408163  0.16326531]</br> [ 0.40816327  0.32653061]</br> [ 0.6122449   0.48979592]</br> [ 0.81632653  0.65306122]</br> [ 1.02040816  0.81632653]</br> [ 1.2244898   0.97959184]</br> [ 1.42857143  1.14285714]</br> [ 1.63265306  1.30612245]</br> [ 1.83673469  1.46938776]</br> [ 2.04081633  1.63265306]</br> [ 2.24489796  1.79591837]</br> [ 2.44897959  1.95918367]</br> [ 2.65306122  2.12244898]</br> [ 2.85714286  2.28571429]</br> [ 3.06122449  2.44897959]</br> [ 3.26530612  2.6122449 ]</br> [ 3.46938776  2.7755102 ]</br> [ 3.67346939  2.93877551]</br> [ 3.87755102  3.10204082]</br> [ 4.08163265  3.26530612]</br> [ 4.28571429  3.42857143]</br> [ 4.48979592  3.59183673]</br> [ 4.69387755  3.75510204]</br> [ 4.89795918  3.91836735]</br> [ 5.10204082  4.08163265]</br> [ 5.30612245  4.24489796]</br> [ 5.51020408  4.40816327]</br> [ 5.71428571  4.57142857]</br> [ 5.91836735  4.73469388]</br> [ 6.12244898  4.89795918]</br> [ 6.32653061  5.06122449]</br> [ 6.53061224  5.2244898 ]</br> [ 6.73469388  5.3877551 ]</br> [ 6.93877551  5.55102041]</br> [ 7.14285714  5.71428571]</br> [ 7.34693878  5.87755102]</br> [ 7.55102041  6.04081633]</br> [ 7.75510204  6.20408163]</br> [ 7.95918367  6.36734694]</br> [ 8.16326531  6.53061224]</br> [ 8.36734694  6.69387755]</br> [ 8.57142857  6.85714286]</br> [ 8.7755102   7.02040816]</br> [ 8.97959184  7.18367347]</br> [ 9.18367347  7.34693878]</br> [ 9.3877551   7.51020408]</br> [ 9.59183673  7.67346939]</br> [ 9.79591837  7.83673469]</br> [10.          8.        ]]</div></details><details><summary style=\"display: list-item; margin-left: 0px;\" class=\"container-fields field-key\" title=\".timestamps\"><b>timestamps</b></summary><div style=\"margin-left: 20px;\" class=\"container-fields\">[0.         0.00510204 0.01020408 0.01530612 0.02040816 0.0255102</br> 0.03061224 0.03571429 0.04081633 0.04591837 0.05102041 0.05612245</br> 0.06122449 0.06632653 0.07142857 0.07653061 0.08163265 0.08673469</br> 0.09183673 0.09693878 0.10204082 0.10714286 0.1122449  0.11734694</br> 0.12244898 0.12755102 0.13265306 0.1377551  0.14285714 0.14795918</br> 0.15306122 0.15816327 0.16326531 0.16836735 0.17346939 0.17857143</br> 0.18367347 0.18877551 0.19387755 0.19897959 0.20408163 0.20918367</br> 0.21428571 0.21938776 0.2244898  0.22959184 0.23469388 0.23979592</br> 0.24489796 0.25      ]</div></details><div style=\"margin-left: 0px;\" class=\"container-fields\"><span class=\"field-key\" title=\".timestamps_unit\">timestamps_unit: </span><span class=\"field-value\">seconds</span></div><div style=\"margin-left: 0px;\" class=\"container-fields\"><span class=\"field-key\" title=\".interval\">interval: </span><span class=\"field-value\">1</span></div><div style=\"margin-left: 0px;\" class=\"container-fields\"><span class=\"field-key\" title=\".reference_frame\">reference_frame: </span><span class=\"field-value\">(0,0) is bottom left corner</span></div></div>"
            ],
            "text/plain": [
              "SpatialSeries pynwb.behavior.SpatialSeries at 0x139929307696192\n",
              "Fields:\n",
              "  comments: no comments\n",
              "  conversion: 1.0\n",
              "  data: [[ 0.          0.        ]\n",
              " [ 0.20408163  0.16326531]\n",
              " [ 0.40816327  0.32653061]\n",
              " [ 0.6122449   0.48979592]\n",
              " [ 0.81632653  0.65306122]\n",
              " [ 1.02040816  0.81632653]\n",
              " [ 1.2244898   0.97959184]\n",
              " [ 1.42857143  1.14285714]\n",
              " [ 1.63265306  1.30612245]\n",
              " [ 1.83673469  1.46938776]\n",
              " [ 2.04081633  1.63265306]\n",
              " [ 2.24489796  1.79591837]\n",
              " [ 2.44897959  1.95918367]\n",
              " [ 2.65306122  2.12244898]\n",
              " [ 2.85714286  2.28571429]\n",
              " [ 3.06122449  2.44897959]\n",
              " [ 3.26530612  2.6122449 ]\n",
              " [ 3.46938776  2.7755102 ]\n",
              " [ 3.67346939  2.93877551]\n",
              " [ 3.87755102  3.10204082]\n",
              " [ 4.08163265  3.26530612]\n",
              " [ 4.28571429  3.42857143]\n",
              " [ 4.48979592  3.59183673]\n",
              " [ 4.69387755  3.75510204]\n",
              " [ 4.89795918  3.91836735]\n",
              " [ 5.10204082  4.08163265]\n",
              " [ 5.30612245  4.24489796]\n",
              " [ 5.51020408  4.40816327]\n",
              " [ 5.71428571  4.57142857]\n",
              " [ 5.91836735  4.73469388]\n",
              " [ 6.12244898  4.89795918]\n",
              " [ 6.32653061  5.06122449]\n",
              " [ 6.53061224  5.2244898 ]\n",
              " [ 6.73469388  5.3877551 ]\n",
              " [ 6.93877551  5.55102041]\n",
              " [ 7.14285714  5.71428571]\n",
              " [ 7.34693878  5.87755102]\n",
              " [ 7.55102041  6.04081633]\n",
              " [ 7.75510204  6.20408163]\n",
              " [ 7.95918367  6.36734694]\n",
              " [ 8.16326531  6.53061224]\n",
              " [ 8.36734694  6.69387755]\n",
              " [ 8.57142857  6.85714286]\n",
              " [ 8.7755102   7.02040816]\n",
              " [ 8.97959184  7.18367347]\n",
              " [ 9.18367347  7.34693878]\n",
              " [ 9.3877551   7.51020408]\n",
              " [ 9.59183673  7.67346939]\n",
              " [ 9.79591837  7.83673469]\n",
              " [10.          8.        ]]\n",
              "  description: (x,y) position in open field\n",
              "  interval: 1\n",
              "  offset: 0.0\n",
              "  reference_frame: (0,0) is bottom left corner\n",
              "  resolution: -1.0\n",
              "  timestamps: [0.         0.00510204 0.01020408 0.01530612 0.02040816 0.0255102\n",
              " 0.03061224 0.03571429 0.04081633 0.04591837 0.05102041 0.05612245\n",
              " 0.06122449 0.06632653 0.07142857 0.07653061 0.08163265 0.08673469\n",
              " 0.09183673 0.09693878 0.10204082 0.10714286 0.1122449  0.11734694\n",
              " 0.12244898 0.12755102 0.13265306 0.1377551  0.14285714 0.14795918\n",
              " 0.15306122 0.15816327 0.16326531 0.16836735 0.17346939 0.17857143\n",
              " 0.18367347 0.18877551 0.19387755 0.19897959 0.20408163 0.20918367\n",
              " 0.21428571 0.21938776 0.2244898  0.22959184 0.23469388 0.23979592\n",
              " 0.24489796 0.25      ]\n",
              "  timestamps_unit: seconds\n",
              "  unit: meters"
            ]
          },
          "execution_count": 10,
          "metadata": {},
          "output_type": "execute_result"
        }
      ],
      "source": [
        "# create fake data with shape (50, 2)\n",
        "# the first dimension should always represent time\n",
        "position_data = np.array([np.linspace(0, 10, 50), np.linspace(0, 8, 50)]).T\n",
        "position_timestamps = np.linspace(0, 50).astype(float) / 200\n",
        "\n",
        "spatial_series_obj = SpatialSeries(\n",
        "    name=\"SpatialSeries\",\n",
        "    description=\"(x,y) position in open field\",\n",
        "    data=position_data,\n",
        "    timestamps=position_timestamps,\n",
        "    reference_frame=\"(0,0) is bottom left corner\",\n",
        ")\n",
        "spatial_series_obj"
      ]
    },
    {
      "cell_type": "markdown",
      "metadata": {},
      "source": [
        "To help data analysis and visualization tools know that this :py:class:`~pynwb.behavior.SpatialSeries` object\n",
        "represents the position of the subject, store the :py:class:`~pynwb.behavior.SpatialSeries` object inside\n",
        "of a :py:class:`~pynwb.behavior.Position` object, which can hold one or more :py:class:`~pynwb.behavior.SpatialSeries`\n",
        "objects.\n",
        "\n",
        ".. only:: html\n",
        "\n",
        "  .. image:: ../../_static/Position.svg\n",
        "    :width: 450\n",
        "    :alt: position UML diagram\n",
        "    :align: center\n",
        "\n",
        ".. only:: latex\n",
        "\n",
        "  .. image:: ../../_static/Position.png\n",
        "    :width: 450\n",
        "    :alt: position UML diagram\n",
        "    :align: center\n",
        "\n",
        "Create a :py:class:`~pynwb.behavior.Position` object named ``\"Position\"`` [#]_.\n",
        "\n"
      ]
    },
    {
      "cell_type": "code",
      "execution_count": 11,
      "metadata": {
        "collapsed": false
      },
      "outputs": [
        {
          "data": {
            "text/html": [
              "\n",
              "        <style>\n",
              "            .container-fields {\n",
              "                font-family: \"Open Sans\", Arial, sans-serif;\n",
              "            }\n",
              "            .container-fields .field-value {\n",
              "                color: #00788E;\n",
              "            }\n",
              "            .container-fields details > summary {\n",
              "                cursor: pointer;\n",
              "                display: list-item;\n",
              "            }\n",
              "            .container-fields details > summary:hover {\n",
              "                color: #0A6EAA;\n",
              "            }\n",
              "        </style>\n",
              "        \n",
              "        <script>\n",
              "            function copyToClipboard(text) {\n",
              "                navigator.clipboard.writeText(text).then(function() {\n",
              "                    console.log('Copied to clipboard: ' + text);\n",
              "                }, function(err) {\n",
              "                    console.error('Could not copy text: ', err);\n",
              "                });\n",
              "            }\n",
              "\n",
              "            document.addEventListener('DOMContentLoaded', function() {\n",
              "                let fieldKeys = document.querySelectorAll('.container-fields .field-key');\n",
              "                fieldKeys.forEach(function(fieldKey) {\n",
              "                    fieldKey.addEventListener('click', function() {\n",
              "                        let accessCode = fieldKey.getAttribute('title').replace('Access code: ', '');\n",
              "                        copyToClipboard(accessCode);\n",
              "                    });\n",
              "                });\n",
              "            });\n",
              "        </script>\n",
              "        <div class='container-wrap'><div class='container-header'><div class='xr-obj-type'><h3>Position</h3></div></div><details><summary style=\"display: list-item; margin-left: 0px;\" class=\"container-fields field-key\" title=\".spatial_series\"><b>spatial_series</b></summary><details><summary style=\"display: list-item; margin-left: 20px;\" class=\"container-fields field-key\" title=\".spatial_series['SpatialSeries']\"><b>SpatialSeries</b></summary><div style=\"margin-left: 40px;\" class=\"container-fields\"><span class=\"field-key\" title=\".spatial_series['SpatialSeries'].resolution\">resolution: </span><span class=\"field-value\">-1.0</span></div><div style=\"margin-left: 40px;\" class=\"container-fields\"><span class=\"field-key\" title=\".spatial_series['SpatialSeries'].comments\">comments: </span><span class=\"field-value\">no comments</span></div><div style=\"margin-left: 40px;\" class=\"container-fields\"><span class=\"field-key\" title=\".spatial_series['SpatialSeries'].description\">description: </span><span class=\"field-value\">(x,y) position in open field</span></div><div style=\"margin-left: 40px;\" class=\"container-fields\"><span class=\"field-key\" title=\".spatial_series['SpatialSeries'].conversion\">conversion: </span><span class=\"field-value\">1.0</span></div><div style=\"margin-left: 40px;\" class=\"container-fields\"><span class=\"field-key\" title=\".spatial_series['SpatialSeries'].offset\">offset: </span><span class=\"field-value\">0.0</span></div><div style=\"margin-left: 40px;\" class=\"container-fields\"><span class=\"field-key\" title=\".spatial_series['SpatialSeries'].unit\">unit: </span><span class=\"field-value\">meters</span></div><details><summary style=\"display: list-item; margin-left: 40px;\" class=\"container-fields field-key\" title=\".spatial_series['SpatialSeries'].data\"><b>data</b></summary><div style=\"margin-left: 60px;\" class=\"container-fields\">[[ 0.          0.        ]</br> [ 0.20408163  0.16326531]</br> [ 0.40816327  0.32653061]</br> [ 0.6122449   0.48979592]</br> [ 0.81632653  0.65306122]</br> [ 1.02040816  0.81632653]</br> [ 1.2244898   0.97959184]</br> [ 1.42857143  1.14285714]</br> [ 1.63265306  1.30612245]</br> [ 1.83673469  1.46938776]</br> [ 2.04081633  1.63265306]</br> [ 2.24489796  1.79591837]</br> [ 2.44897959  1.95918367]</br> [ 2.65306122  2.12244898]</br> [ 2.85714286  2.28571429]</br> [ 3.06122449  2.44897959]</br> [ 3.26530612  2.6122449 ]</br> [ 3.46938776  2.7755102 ]</br> [ 3.67346939  2.93877551]</br> [ 3.87755102  3.10204082]</br> [ 4.08163265  3.26530612]</br> [ 4.28571429  3.42857143]</br> [ 4.48979592  3.59183673]</br> [ 4.69387755  3.75510204]</br> [ 4.89795918  3.91836735]</br> [ 5.10204082  4.08163265]</br> [ 5.30612245  4.24489796]</br> [ 5.51020408  4.40816327]</br> [ 5.71428571  4.57142857]</br> [ 5.91836735  4.73469388]</br> [ 6.12244898  4.89795918]</br> [ 6.32653061  5.06122449]</br> [ 6.53061224  5.2244898 ]</br> [ 6.73469388  5.3877551 ]</br> [ 6.93877551  5.55102041]</br> [ 7.14285714  5.71428571]</br> [ 7.34693878  5.87755102]</br> [ 7.55102041  6.04081633]</br> [ 7.75510204  6.20408163]</br> [ 7.95918367  6.36734694]</br> [ 8.16326531  6.53061224]</br> [ 8.36734694  6.69387755]</br> [ 8.57142857  6.85714286]</br> [ 8.7755102   7.02040816]</br> [ 8.97959184  7.18367347]</br> [ 9.18367347  7.34693878]</br> [ 9.3877551   7.51020408]</br> [ 9.59183673  7.67346939]</br> [ 9.79591837  7.83673469]</br> [10.          8.        ]]</div></details><details><summary style=\"display: list-item; margin-left: 40px;\" class=\"container-fields field-key\" title=\".spatial_series['SpatialSeries'].timestamps\"><b>timestamps</b></summary><div style=\"margin-left: 60px;\" class=\"container-fields\">[0.         0.00510204 0.01020408 0.01530612 0.02040816 0.0255102</br> 0.03061224 0.03571429 0.04081633 0.04591837 0.05102041 0.05612245</br> 0.06122449 0.06632653 0.07142857 0.07653061 0.08163265 0.08673469</br> 0.09183673 0.09693878 0.10204082 0.10714286 0.1122449  0.11734694</br> 0.12244898 0.12755102 0.13265306 0.1377551  0.14285714 0.14795918</br> 0.15306122 0.15816327 0.16326531 0.16836735 0.17346939 0.17857143</br> 0.18367347 0.18877551 0.19387755 0.19897959 0.20408163 0.20918367</br> 0.21428571 0.21938776 0.2244898  0.22959184 0.23469388 0.23979592</br> 0.24489796 0.25      ]</div></details><div style=\"margin-left: 40px;\" class=\"container-fields\"><span class=\"field-key\" title=\".spatial_series['SpatialSeries'].timestamps_unit\">timestamps_unit: </span><span class=\"field-value\">seconds</span></div><div style=\"margin-left: 40px;\" class=\"container-fields\"><span class=\"field-key\" title=\".spatial_series['SpatialSeries'].interval\">interval: </span><span class=\"field-value\">1</span></div><div style=\"margin-left: 40px;\" class=\"container-fields\"><span class=\"field-key\" title=\".spatial_series['SpatialSeries'].reference_frame\">reference_frame: </span><span class=\"field-value\">(0,0) is bottom left corner</span></div></details></details></div>"
            ],
            "text/plain": [
              "Position pynwb.behavior.Position at 0x139929307745776\n",
              "Fields:\n",
              "  spatial_series: {\n",
              "    SpatialSeries <class 'pynwb.behavior.SpatialSeries'>\n",
              "  }"
            ]
          },
          "execution_count": 11,
          "metadata": {},
          "output_type": "execute_result"
        }
      ],
      "source": [
        "# name is set to \"Position\" by default\n",
        "position_obj = Position(spatial_series=spatial_series_obj)\n",
        "position_obj"
      ]
    },
    {
      "cell_type": "markdown",
      "metadata": {},
      "source": [
        "## Behavior Processing Module\n",
        "\n",
        ":py:class:`~pynwb.base.ProcessingModule` is a container for data interfaces that are related to a particular\n",
        "processing workflow. NWB differentiates between raw, acquired data (*acquisition*), which should never change,\n",
        "and processed data (*processing*), which are the results of preprocessing algorithms and could change.\n",
        "Processing modules can be thought of as folders within the file for storing the related processed data.\n",
        "\n",
        ".. tip:: Use the NWB schema module names as processing module names where appropriate.\n",
        "   These are: ``\"behavior\"``, ``\"ecephys\"``, ``\"icephys\"``, ``\"ophys\"``, ``\"ogen\"``, and ``\"misc\"``.\n",
        "\n",
        "Let's assume that the subject's position was computed from a video tracking algorithm,\n",
        "so it would be classified as processed data.\n",
        "\n",
        "Create a processing module called ``\"behavior\"`` for storing behavioral data in the :py:class:`~pynwb.file.NWBFile`\n",
        "and add the :py:class:`~pynwb.behavior.Position` object to the processing module using the method\n",
        ":py:meth:`.NWBFile.create_processing_module`:\n",
        "\n"
      ]
    },
    {
      "cell_type": "code",
      "execution_count": 12,
      "metadata": {
        "collapsed": false
      },
      "outputs": [
        {
          "data": {
            "text/html": [
              "\n",
              "        <style>\n",
              "            .container-fields {\n",
              "                font-family: \"Open Sans\", Arial, sans-serif;\n",
              "            }\n",
              "            .container-fields .field-value {\n",
              "                color: #00788E;\n",
              "            }\n",
              "            .container-fields details > summary {\n",
              "                cursor: pointer;\n",
              "                display: list-item;\n",
              "            }\n",
              "            .container-fields details > summary:hover {\n",
              "                color: #0A6EAA;\n",
              "            }\n",
              "        </style>\n",
              "        \n",
              "        <script>\n",
              "            function copyToClipboard(text) {\n",
              "                navigator.clipboard.writeText(text).then(function() {\n",
              "                    console.log('Copied to clipboard: ' + text);\n",
              "                }, function(err) {\n",
              "                    console.error('Could not copy text: ', err);\n",
              "                });\n",
              "            }\n",
              "\n",
              "            document.addEventListener('DOMContentLoaded', function() {\n",
              "                let fieldKeys = document.querySelectorAll('.container-fields .field-key');\n",
              "                fieldKeys.forEach(function(fieldKey) {\n",
              "                    fieldKey.addEventListener('click', function() {\n",
              "                        let accessCode = fieldKey.getAttribute('title').replace('Access code: ', '');\n",
              "                        copyToClipboard(accessCode);\n",
              "                    });\n",
              "                });\n",
              "            });\n",
              "        </script>\n",
              "        <div class='container-wrap'><div class='container-header'><div class='xr-obj-type'><h3>behavior (ProcessingModule)</h3></div></div><div style=\"margin-left: 0px;\" class=\"container-fields\"><span class=\"field-key\" title=\".description\">description: </span><span class=\"field-value\">processed behavioral data</span></div><details><summary style=\"display: list-item; margin-left: 0px;\" class=\"container-fields field-key\" title=\".data_interfaces\"><b>data_interfaces</b></summary><details><summary style=\"display: list-item; margin-left: 20px;\" class=\"container-fields field-key\" title=\".data_interfaces['Position']\"><b>Position</b></summary><details><summary style=\"display: list-item; margin-left: 40px;\" class=\"container-fields field-key\" title=\".data_interfaces['Position'].spatial_series\"><b>spatial_series</b></summary><details><summary style=\"display: list-item; margin-left: 60px;\" class=\"container-fields field-key\" title=\".data_interfaces['Position'].spatial_series['SpatialSeries']\"><b>SpatialSeries</b></summary><div style=\"margin-left: 80px;\" class=\"container-fields\"><span class=\"field-key\" title=\".data_interfaces['Position'].spatial_series['SpatialSeries'].resolution\">resolution: </span><span class=\"field-value\">-1.0</span></div><div style=\"margin-left: 80px;\" class=\"container-fields\"><span class=\"field-key\" title=\".data_interfaces['Position'].spatial_series['SpatialSeries'].comments\">comments: </span><span class=\"field-value\">no comments</span></div><div style=\"margin-left: 80px;\" class=\"container-fields\"><span class=\"field-key\" title=\".data_interfaces['Position'].spatial_series['SpatialSeries'].description\">description: </span><span class=\"field-value\">(x,y) position in open field</span></div><div style=\"margin-left: 80px;\" class=\"container-fields\"><span class=\"field-key\" title=\".data_interfaces['Position'].spatial_series['SpatialSeries'].conversion\">conversion: </span><span class=\"field-value\">1.0</span></div><div style=\"margin-left: 80px;\" class=\"container-fields\"><span class=\"field-key\" title=\".data_interfaces['Position'].spatial_series['SpatialSeries'].offset\">offset: </span><span class=\"field-value\">0.0</span></div><div style=\"margin-left: 80px;\" class=\"container-fields\"><span class=\"field-key\" title=\".data_interfaces['Position'].spatial_series['SpatialSeries'].unit\">unit: </span><span class=\"field-value\">meters</span></div><details><summary style=\"display: list-item; margin-left: 80px;\" class=\"container-fields field-key\" title=\".data_interfaces['Position'].spatial_series['SpatialSeries'].data\"><b>data</b></summary><div style=\"margin-left: 100px;\" class=\"container-fields\">[[ 0.          0.        ]</br> [ 0.20408163  0.16326531]</br> [ 0.40816327  0.32653061]</br> [ 0.6122449   0.48979592]</br> [ 0.81632653  0.65306122]</br> [ 1.02040816  0.81632653]</br> [ 1.2244898   0.97959184]</br> [ 1.42857143  1.14285714]</br> [ 1.63265306  1.30612245]</br> [ 1.83673469  1.46938776]</br> [ 2.04081633  1.63265306]</br> [ 2.24489796  1.79591837]</br> [ 2.44897959  1.95918367]</br> [ 2.65306122  2.12244898]</br> [ 2.85714286  2.28571429]</br> [ 3.06122449  2.44897959]</br> [ 3.26530612  2.6122449 ]</br> [ 3.46938776  2.7755102 ]</br> [ 3.67346939  2.93877551]</br> [ 3.87755102  3.10204082]</br> [ 4.08163265  3.26530612]</br> [ 4.28571429  3.42857143]</br> [ 4.48979592  3.59183673]</br> [ 4.69387755  3.75510204]</br> [ 4.89795918  3.91836735]</br> [ 5.10204082  4.08163265]</br> [ 5.30612245  4.24489796]</br> [ 5.51020408  4.40816327]</br> [ 5.71428571  4.57142857]</br> [ 5.91836735  4.73469388]</br> [ 6.12244898  4.89795918]</br> [ 6.32653061  5.06122449]</br> [ 6.53061224  5.2244898 ]</br> [ 6.73469388  5.3877551 ]</br> [ 6.93877551  5.55102041]</br> [ 7.14285714  5.71428571]</br> [ 7.34693878  5.87755102]</br> [ 7.55102041  6.04081633]</br> [ 7.75510204  6.20408163]</br> [ 7.95918367  6.36734694]</br> [ 8.16326531  6.53061224]</br> [ 8.36734694  6.69387755]</br> [ 8.57142857  6.85714286]</br> [ 8.7755102   7.02040816]</br> [ 8.97959184  7.18367347]</br> [ 9.18367347  7.34693878]</br> [ 9.3877551   7.51020408]</br> [ 9.59183673  7.67346939]</br> [ 9.79591837  7.83673469]</br> [10.          8.        ]]</div></details><details><summary style=\"display: list-item; margin-left: 80px;\" class=\"container-fields field-key\" title=\".data_interfaces['Position'].spatial_series['SpatialSeries'].timestamps\"><b>timestamps</b></summary><div style=\"margin-left: 100px;\" class=\"container-fields\">[0.         0.00510204 0.01020408 0.01530612 0.02040816 0.0255102</br> 0.03061224 0.03571429 0.04081633 0.04591837 0.05102041 0.05612245</br> 0.06122449 0.06632653 0.07142857 0.07653061 0.08163265 0.08673469</br> 0.09183673 0.09693878 0.10204082 0.10714286 0.1122449  0.11734694</br> 0.12244898 0.12755102 0.13265306 0.1377551  0.14285714 0.14795918</br> 0.15306122 0.15816327 0.16326531 0.16836735 0.17346939 0.17857143</br> 0.18367347 0.18877551 0.19387755 0.19897959 0.20408163 0.20918367</br> 0.21428571 0.21938776 0.2244898  0.22959184 0.23469388 0.23979592</br> 0.24489796 0.25      ]</div></details><div style=\"margin-left: 80px;\" class=\"container-fields\"><span class=\"field-key\" title=\".data_interfaces['Position'].spatial_series['SpatialSeries'].timestamps_unit\">timestamps_unit: </span><span class=\"field-value\">seconds</span></div><div style=\"margin-left: 80px;\" class=\"container-fields\"><span class=\"field-key\" title=\".data_interfaces['Position'].spatial_series['SpatialSeries'].interval\">interval: </span><span class=\"field-value\">1</span></div><div style=\"margin-left: 80px;\" class=\"container-fields\"><span class=\"field-key\" title=\".data_interfaces['Position'].spatial_series['SpatialSeries'].reference_frame\">reference_frame: </span><span class=\"field-value\">(0,0) is bottom left corner</span></div></details></details></details></details></div>"
            ],
            "text/plain": [
              "behavior pynwb.base.ProcessingModule at 0x139929307490048\n",
              "Fields:\n",
              "  data_interfaces: {\n",
              "    Position <class 'pynwb.behavior.Position'>\n",
              "  }\n",
              "  description: processed behavioral data"
            ]
          },
          "execution_count": 12,
          "metadata": {},
          "output_type": "execute_result"
        }
      ],
      "source": [
        "behavior_module = nwbfile.create_processing_module(\n",
        "    name=\"behavior\", description=\"processed behavioral data\"\n",
        ")\n",
        "behavior_module.add(position_obj)\n",
        "behavior_module"
      ]
    },
    {
      "cell_type": "markdown",
      "metadata": {},
      "source": [
        ".. only:: html\n",
        "\n",
        "  .. image:: ../../_static/Behavior.svg\n",
        "    :width: 600\n",
        "    :alt: behavior UML diagram\n",
        "    :align: center\n",
        "\n",
        ".. only:: latex\n",
        "\n",
        "  .. image:: ../../_static/Behavior.png\n",
        "    :width: 600\n",
        "    :alt: behavior UML diagram\n",
        "    :align: center\n",
        "\n",
        "Once the behavior processing module is added to the :py:class:`~pynwb.file.NWBFile`,\n",
        "you can access it with:\n",
        "\n"
      ]
    },
    {
      "cell_type": "code",
      "execution_count": 13,
      "metadata": {
        "collapsed": false
      },
      "outputs": [
        {
          "data": {
            "text/html": [
              "\n",
              "        <style>\n",
              "            .container-fields {\n",
              "                font-family: \"Open Sans\", Arial, sans-serif;\n",
              "            }\n",
              "            .container-fields .field-value {\n",
              "                color: #00788E;\n",
              "            }\n",
              "            .container-fields details > summary {\n",
              "                cursor: pointer;\n",
              "                display: list-item;\n",
              "            }\n",
              "            .container-fields details > summary:hover {\n",
              "                color: #0A6EAA;\n",
              "            }\n",
              "        </style>\n",
              "        \n",
              "        <script>\n",
              "            function copyToClipboard(text) {\n",
              "                navigator.clipboard.writeText(text).then(function() {\n",
              "                    console.log('Copied to clipboard: ' + text);\n",
              "                }, function(err) {\n",
              "                    console.error('Could not copy text: ', err);\n",
              "                });\n",
              "            }\n",
              "\n",
              "            document.addEventListener('DOMContentLoaded', function() {\n",
              "                let fieldKeys = document.querySelectorAll('.container-fields .field-key');\n",
              "                fieldKeys.forEach(function(fieldKey) {\n",
              "                    fieldKey.addEventListener('click', function() {\n",
              "                        let accessCode = fieldKey.getAttribute('title').replace('Access code: ', '');\n",
              "                        copyToClipboard(accessCode);\n",
              "                    });\n",
              "                });\n",
              "            });\n",
              "        </script>\n",
              "        <div class='container-wrap'><div class='container-header'><div class='xr-obj-type'><h3>behavior (ProcessingModule)</h3></div></div><div style=\"margin-left: 0px;\" class=\"container-fields\"><span class=\"field-key\" title=\".description\">description: </span><span class=\"field-value\">processed behavioral data</span></div><details><summary style=\"display: list-item; margin-left: 0px;\" class=\"container-fields field-key\" title=\".data_interfaces\"><b>data_interfaces</b></summary><details><summary style=\"display: list-item; margin-left: 20px;\" class=\"container-fields field-key\" title=\".data_interfaces['Position']\"><b>Position</b></summary><details><summary style=\"display: list-item; margin-left: 40px;\" class=\"container-fields field-key\" title=\".data_interfaces['Position'].spatial_series\"><b>spatial_series</b></summary><details><summary style=\"display: list-item; margin-left: 60px;\" class=\"container-fields field-key\" title=\".data_interfaces['Position'].spatial_series['SpatialSeries']\"><b>SpatialSeries</b></summary><div style=\"margin-left: 80px;\" class=\"container-fields\"><span class=\"field-key\" title=\".data_interfaces['Position'].spatial_series['SpatialSeries'].resolution\">resolution: </span><span class=\"field-value\">-1.0</span></div><div style=\"margin-left: 80px;\" class=\"container-fields\"><span class=\"field-key\" title=\".data_interfaces['Position'].spatial_series['SpatialSeries'].comments\">comments: </span><span class=\"field-value\">no comments</span></div><div style=\"margin-left: 80px;\" class=\"container-fields\"><span class=\"field-key\" title=\".data_interfaces['Position'].spatial_series['SpatialSeries'].description\">description: </span><span class=\"field-value\">(x,y) position in open field</span></div><div style=\"margin-left: 80px;\" class=\"container-fields\"><span class=\"field-key\" title=\".data_interfaces['Position'].spatial_series['SpatialSeries'].conversion\">conversion: </span><span class=\"field-value\">1.0</span></div><div style=\"margin-left: 80px;\" class=\"container-fields\"><span class=\"field-key\" title=\".data_interfaces['Position'].spatial_series['SpatialSeries'].offset\">offset: </span><span class=\"field-value\">0.0</span></div><div style=\"margin-left: 80px;\" class=\"container-fields\"><span class=\"field-key\" title=\".data_interfaces['Position'].spatial_series['SpatialSeries'].unit\">unit: </span><span class=\"field-value\">meters</span></div><details><summary style=\"display: list-item; margin-left: 80px;\" class=\"container-fields field-key\" title=\".data_interfaces['Position'].spatial_series['SpatialSeries'].data\"><b>data</b></summary><div style=\"margin-left: 100px;\" class=\"container-fields\">[[ 0.          0.        ]</br> [ 0.20408163  0.16326531]</br> [ 0.40816327  0.32653061]</br> [ 0.6122449   0.48979592]</br> [ 0.81632653  0.65306122]</br> [ 1.02040816  0.81632653]</br> [ 1.2244898   0.97959184]</br> [ 1.42857143  1.14285714]</br> [ 1.63265306  1.30612245]</br> [ 1.83673469  1.46938776]</br> [ 2.04081633  1.63265306]</br> [ 2.24489796  1.79591837]</br> [ 2.44897959  1.95918367]</br> [ 2.65306122  2.12244898]</br> [ 2.85714286  2.28571429]</br> [ 3.06122449  2.44897959]</br> [ 3.26530612  2.6122449 ]</br> [ 3.46938776  2.7755102 ]</br> [ 3.67346939  2.93877551]</br> [ 3.87755102  3.10204082]</br> [ 4.08163265  3.26530612]</br> [ 4.28571429  3.42857143]</br> [ 4.48979592  3.59183673]</br> [ 4.69387755  3.75510204]</br> [ 4.89795918  3.91836735]</br> [ 5.10204082  4.08163265]</br> [ 5.30612245  4.24489796]</br> [ 5.51020408  4.40816327]</br> [ 5.71428571  4.57142857]</br> [ 5.91836735  4.73469388]</br> [ 6.12244898  4.89795918]</br> [ 6.32653061  5.06122449]</br> [ 6.53061224  5.2244898 ]</br> [ 6.73469388  5.3877551 ]</br> [ 6.93877551  5.55102041]</br> [ 7.14285714  5.71428571]</br> [ 7.34693878  5.87755102]</br> [ 7.55102041  6.04081633]</br> [ 7.75510204  6.20408163]</br> [ 7.95918367  6.36734694]</br> [ 8.16326531  6.53061224]</br> [ 8.36734694  6.69387755]</br> [ 8.57142857  6.85714286]</br> [ 8.7755102   7.02040816]</br> [ 8.97959184  7.18367347]</br> [ 9.18367347  7.34693878]</br> [ 9.3877551   7.51020408]</br> [ 9.59183673  7.67346939]</br> [ 9.79591837  7.83673469]</br> [10.          8.        ]]</div></details><details><summary style=\"display: list-item; margin-left: 80px;\" class=\"container-fields field-key\" title=\".data_interfaces['Position'].spatial_series['SpatialSeries'].timestamps\"><b>timestamps</b></summary><div style=\"margin-left: 100px;\" class=\"container-fields\">[0.         0.00510204 0.01020408 0.01530612 0.02040816 0.0255102</br> 0.03061224 0.03571429 0.04081633 0.04591837 0.05102041 0.05612245</br> 0.06122449 0.06632653 0.07142857 0.07653061 0.08163265 0.08673469</br> 0.09183673 0.09693878 0.10204082 0.10714286 0.1122449  0.11734694</br> 0.12244898 0.12755102 0.13265306 0.1377551  0.14285714 0.14795918</br> 0.15306122 0.15816327 0.16326531 0.16836735 0.17346939 0.17857143</br> 0.18367347 0.18877551 0.19387755 0.19897959 0.20408163 0.20918367</br> 0.21428571 0.21938776 0.2244898  0.22959184 0.23469388 0.23979592</br> 0.24489796 0.25      ]</div></details><div style=\"margin-left: 80px;\" class=\"container-fields\"><span class=\"field-key\" title=\".data_interfaces['Position'].spatial_series['SpatialSeries'].timestamps_unit\">timestamps_unit: </span><span class=\"field-value\">seconds</span></div><div style=\"margin-left: 80px;\" class=\"container-fields\"><span class=\"field-key\" title=\".data_interfaces['Position'].spatial_series['SpatialSeries'].interval\">interval: </span><span class=\"field-value\">1</span></div><div style=\"margin-left: 80px;\" class=\"container-fields\"><span class=\"field-key\" title=\".data_interfaces['Position'].spatial_series['SpatialSeries'].reference_frame\">reference_frame: </span><span class=\"field-value\">(0,0) is bottom left corner</span></div></details></details></details></details></div>"
            ],
            "text/plain": [
              "behavior pynwb.base.ProcessingModule at 0x139929307490048\n",
              "Fields:\n",
              "  data_interfaces: {\n",
              "    Position <class 'pynwb.behavior.Position'>\n",
              "  }\n",
              "  description: processed behavioral data"
            ]
          },
          "execution_count": 13,
          "metadata": {},
          "output_type": "execute_result"
        }
      ],
      "source": [
        "nwbfile.processing[\"behavior\"]"
      ]
    },
    {
      "cell_type": "markdown",
      "metadata": {},
      "source": [
        "## Time Intervals\n",
        "\n",
        "\n",
        "The following provides a brief introduction to managing annotations in time via\n",
        ":py:class:`~pynwb.epoch.TimeIntervals`. See the `time_intervals` tutorial\n",
        "for a more detailed introduction to :py:class:`~pynwb.epoch.TimeIntervals`.\n",
        "\n",
        "### Trials\n",
        "\n",
        "Trials are stored in :py:class:`~pynwb.epoch.TimeIntervals`, which is\n",
        "a subclass of :py:class:`~hdmf.common.table.DynamicTable`.\n",
        ":py:class:`~hdmf.common.table.DynamicTable` is used to store\n",
        "tabular metadata throughout NWB, including trials, electrodes and sorted units. This\n",
        "class offers flexibility for tabular data by allowing required columns, optional\n",
        "columns, and custom columns which are not defined in the standard.\n",
        "\n",
        ".. only:: html\n",
        "\n",
        "  .. image:: ../../_static/Trials.svg\n",
        "    :width: 300\n",
        "    :alt: trials UML diagram\n",
        "    :align: center\n",
        "\n",
        ".. only:: latex\n",
        "\n",
        "  .. image:: ../../_static/Trials.png\n",
        "    :width: 300\n",
        "    :alt: trials UML diagram\n",
        "    :align: center\n",
        "\n",
        "The ``trials`` :py:class:`~pynwb.epoch.TimeIntervals` class can be thought of\n",
        "as a table with this structure:\n",
        "\n",
        "<img src=\"file://../../_static/trials_example.png\" width=\"400\" alt=\"trials table example\" align=\"center\">\n",
        "\n",
        "By default, :py:class:`~pynwb.epoch.TimeIntervals` objects only require ``start_time``\n",
        "and ``stop_time`` of each trial. Additional columns can be added using\n",
        "the method :py:meth:`.NWBFile.add_trial_column`. When all the desired custom columns\n",
        "have been defined, use the :py:meth:`.NWBFile.add_trial` method to add each row.\n",
        "In this case, we will add one custom column to the trials table named \"correct\"\n",
        "which will take a boolean array, then add two trials as rows of the table.\n",
        "\n"
      ]
    },
    {
      "cell_type": "code",
      "execution_count": 14,
      "metadata": {
        "collapsed": false
      },
      "outputs": [],
      "source": [
        "nwbfile.add_trial_column(\n",
        "    name=\"correct\",\n",
        "    description=\"whether the trial was correct\",\n",
        ")\n",
        "nwbfile.add_trial(start_time=1.0, stop_time=5.0, correct=True)\n",
        "nwbfile.add_trial(start_time=6.0, stop_time=10.0, correct=False)"
      ]
    },
    {
      "cell_type": "markdown",
      "metadata": {},
      "source": [
        ":py:class:`~hdmf.common.table.DynamicTable` and its subclasses can be converted to a pandas\n",
        ":py:class:`~pandas.DataFrame` for convenient analysis using :py:meth:`~hdmf.common.table.DynamicTable.to_dataframe`.\n",
        "\n"
      ]
    },
    {
      "cell_type": "code",
      "execution_count": 15,
      "metadata": {
        "collapsed": false
      },
      "outputs": [
        {
          "data": {
            "text/html": [
              "<div>\n",
              "<style scoped>\n",
              "    .dataframe tbody tr th:only-of-type {\n",
              "        vertical-align: middle;\n",
              "    }\n",
              "\n",
              "    .dataframe tbody tr th {\n",
              "        vertical-align: top;\n",
              "    }\n",
              "\n",
              "    .dataframe thead th {\n",
              "        text-align: right;\n",
              "    }\n",
              "</style>\n",
              "<table border=\"1\" class=\"dataframe\">\n",
              "  <thead>\n",
              "    <tr style=\"text-align: right;\">\n",
              "      <th></th>\n",
              "      <th>start_time</th>\n",
              "      <th>stop_time</th>\n",
              "      <th>correct</th>\n",
              "    </tr>\n",
              "    <tr>\n",
              "      <th>id</th>\n",
              "      <th></th>\n",
              "      <th></th>\n",
              "      <th></th>\n",
              "    </tr>\n",
              "  </thead>\n",
              "  <tbody>\n",
              "    <tr>\n",
              "      <th>0</th>\n",
              "      <td>1.0</td>\n",
              "      <td>5.0</td>\n",
              "      <td>True</td>\n",
              "    </tr>\n",
              "    <tr>\n",
              "      <th>1</th>\n",
              "      <td>6.0</td>\n",
              "      <td>10.0</td>\n",
              "      <td>False</td>\n",
              "    </tr>\n",
              "  </tbody>\n",
              "</table>\n",
              "</div>"
            ],
            "text/plain": [
              "    start_time  stop_time  correct\n",
              "id                                \n",
              "0          1.0        5.0     True\n",
              "1          6.0       10.0    False"
            ]
          },
          "execution_count": 15,
          "metadata": {},
          "output_type": "execute_result"
        }
      ],
      "source": [
        "nwbfile.trials.to_dataframe()"
      ]
    },
    {
      "cell_type": "markdown",
      "metadata": {},
      "source": [
        "\n",
        "## Writing an NWB file\n",
        "\n",
        "Writing of an NWB file is carried out using the :py:class:`~pynwb.NWBHDF5IO` class [#]_.\n",
        "\n",
        "To write an :py:class:`~pynwb.file.NWBFile`, use the :py:meth:`~hdmf.backends.io.HDMFIO.write` method.\n",
        "\n"
      ]
    },
    {
      "cell_type": "code",
      "execution_count": 16,
      "metadata": {
        "collapsed": false
      },
      "outputs": [],
      "source": [
        "io = NWBHDF5IO(\"basics_tutorial.nwb\", mode=\"w\")\n",
        "io.write(nwbfile)\n",
        "io.close()"
      ]
    },
    {
      "cell_type": "markdown",
      "metadata": {},
      "source": [
        "You can also use :py:meth:`~pynwb.NWBHDF5IO` as a context manager:\n",
        "\n"
      ]
    },
    {
      "cell_type": "code",
      "execution_count": 17,
      "metadata": {
        "collapsed": false
      },
      "outputs": [],
      "source": [
        "with NWBHDF5IO(\"basics_tutorial.nwb\", \"w\") as io:\n",
        "    io.write(nwbfile)"
      ]
    },
    {
      "cell_type": "markdown",
      "metadata": {},
      "source": [
        "\n",
        "## Reading an NWB file\n",
        "\n",
        "As with writing, reading is also carried out using the :py:class:`~pynwb.NWBHDF5IO` class.\n",
        "To read the NWB file we just wrote, create another :py:class:`~pynwb.NWBHDF5IO` object with the mode set to ``\"r\"``,\n",
        "and use the :py:meth:`~pynwb.NWBHDF5IO.read` method to retrieve an\n",
        ":py:class:`~pynwb.file.NWBFile` object.\n",
        "\n",
        "Data arrays are read passively from the file.\n",
        "Accessing the ``data`` attribute of the :py:class:`~pynwb.base.TimeSeries` object\n",
        "does not read the data values, but presents an HDF5 object that can be indexed to read data.\n",
        "You can use the ``[:]`` operator to read the entire data array into memory.\n",
        "\n"
      ]
    },
    {
      "cell_type": "code",
      "execution_count": 18,
      "metadata": {
        "collapsed": false
      },
      "outputs": [
        {
          "name": "stdout",
          "output_type": "stream",
          "text": [
            "test_timeseries pynwb.base.TimeSeries at 0x139929305892416\n",
            "Fields:\n",
            "  comments: no comments\n",
            "  conversion: 1.0\n",
            "  data: <HDF5 dataset \"data\": shape (10,), type \"<i8\">\n",
            "  description: an example time series\n",
            "  interval: 1\n",
            "  offset: 0.0\n",
            "  resolution: -1.0\n",
            "  timestamps: <HDF5 dataset \"timestamps\": shape (10,), type \"<f8\">\n",
            "  timestamps_unit: seconds\n",
            "  unit: m\n",
            "\n",
            "[100 110 120 130 140 150 160 170 180 190]\n"
          ]
        }
      ],
      "source": [
        "with NWBHDF5IO(\"basics_tutorial.nwb\", \"r\") as io:\n",
        "    read_nwbfile = io.read()\n",
        "    print(read_nwbfile.acquisition[\"test_timeseries\"])\n",
        "    print(read_nwbfile.acquisition[\"test_timeseries\"].data[:])"
      ]
    },
    {
      "cell_type": "markdown",
      "metadata": {},
      "source": [
        "It is often preferable to read only a portion of the data.\n",
        "To do this, index or slice into the ``data`` attribute just like you\n",
        "index or slice a numpy array.\n",
        "\n"
      ]
    },
    {
      "cell_type": "code",
      "execution_count": 19,
      "metadata": {
        "collapsed": false
      },
      "outputs": [
        {
          "name": "stdout",
          "output_type": "stream",
          "text": [
            "[100 110]\n"
          ]
        }
      ],
      "source": [
        "with NWBHDF5IO(\"basics_tutorial.nwb\", \"r\") as io:\n",
        "    read_nwbfile = io.read()\n",
        "    print(read_nwbfile.acquisition[\"test_timeseries\"].data[:2])"
      ]
    },
    {
      "cell_type": "markdown",
      "metadata": {},
      "source": [
        "<div class=\"alert alert-info\"><h4>Note</h4><p>If you use :py:class:`~pynwb.NWBHDF5IO` as a context manager during read,\n",
        "    be aware that the :py:class:`~pynwb.NWBHDF5IO` gets closed and when the\n",
        "    context completes and the data will not be available outside of the\n",
        "    context manager [#]_.</p></div>\n",
        "\n"
      ]
    },
    {
      "cell_type": "markdown",
      "metadata": {},
      "source": [
        "### Accessing data\n",
        "\n",
        "We can also access the :py:class:`~pynwb.behavior.SpatialSeries` data by referencing the names\n",
        "of the objects in the hierarchy that contain it. We can access a processing module by indexing\n",
        "``nwbfile.processing`` with the name of the processing module, ``\"behavior\"``.\n",
        "\n",
        "Then, we can access the :py:class:`~pynwb.behavior.Position` object inside of the ``\"behavior\"``\n",
        "processing module by indexing it with the name of the :py:class:`~pynwb.behavior.Position` object,\n",
        "``\"Position\"``.\n",
        "\n",
        "Finally, we can access the :py:class:`~pynwb.behavior.SpatialSeries` object inside of the\n",
        ":py:class:`~pynwb.behavior.Position` object by indexing it with the name of the\n",
        ":py:class:`~pynwb.behavior.SpatialSeries` object, ``\"SpatialSeries\"``.\n",
        "\n"
      ]
    },
    {
      "cell_type": "code",
      "execution_count": 20,
      "metadata": {
        "collapsed": false
      },
      "outputs": [
        {
          "name": "stdout",
          "output_type": "stream",
          "text": [
            "behavior pynwb.base.ProcessingModule at 0x139929306882736\n",
            "Fields:\n",
            "  data_interfaces: {\n",
            "    Position <class 'pynwb.behavior.Position'>\n",
            "  }\n",
            "  description: processed behavioral data\n",
            "\n",
            "Position pynwb.behavior.Position at 0x139929306883024\n",
            "Fields:\n",
            "  spatial_series: {\n",
            "    SpatialSeries <class 'pynwb.behavior.SpatialSeries'>\n",
            "  }\n",
            "\n",
            "SpatialSeries pynwb.behavior.SpatialSeries at 0x139929306883168\n",
            "Fields:\n",
            "  comments: no comments\n",
            "  conversion: 1.0\n",
            "  data: <HDF5 dataset \"data\": shape (50, 2), type \"<f8\">\n",
            "  description: (x,y) position in open field\n",
            "  interval: 1\n",
            "  offset: 0.0\n",
            "  reference_frame: (0,0) is bottom left corner\n",
            "  resolution: -1.0\n",
            "  timestamps: <HDF5 dataset \"timestamps\": shape (50,), type \"<f8\">\n",
            "  timestamps_unit: seconds\n",
            "  unit: meters\n",
            "\n"
          ]
        }
      ],
      "source": [
        "with NWBHDF5IO(\"basics_tutorial.nwb\", \"r\") as io:\n",
        "    read_nwbfile = io.read()\n",
        "    print(read_nwbfile.processing[\"behavior\"])\n",
        "    print(read_nwbfile.processing[\"behavior\"][\"Position\"])\n",
        "    print(read_nwbfile.processing[\"behavior\"][\"Position\"][\"SpatialSeries\"])"
      ]
    },
    {
      "cell_type": "markdown",
      "metadata": {},
      "source": [
        "\n",
        "## Appending to an NWB file\n",
        "\n",
        "To append to a file, read it with :py:class:`~pynwb.NWBHDF5IO` and set the ``mode`` argument to ``'a'``.\n",
        "After you have read the file, you can add [#]_ new data to it using the standard write/add functionality demonstrated\n",
        "above. Let's see how this works by adding another :py:class:`~pynwb.base.TimeSeries` to acquisition.\n",
        "\n"
      ]
    },
    {
      "cell_type": "code",
      "execution_count": 21,
      "metadata": {
        "collapsed": false
      },
      "outputs": [],
      "source": [
        "io = NWBHDF5IO(\"basics_tutorial.nwb\", mode=\"a\")\n",
        "nwbfile = io.read()\n",
        "\n",
        "data = np.arange(100, 200, 10)\n",
        "timestamps = np.arange(10.)\n",
        "new_time_series = TimeSeries(\n",
        "    name=\"new_time_series\",\n",
        "    description=\"a new time series\",\n",
        "    data=data,\n",
        "    timestamps=timestamps,\n",
        "    unit=\"n.a.\",\n",
        ")\n",
        "nwbfile.add_acquisition(new_time_series)"
      ]
    },
    {
      "cell_type": "markdown",
      "metadata": {},
      "source": [
        "Finally, write the changes back to the file and close it.\n",
        "\n"
      ]
    },
    {
      "cell_type": "code",
      "execution_count": 22,
      "metadata": {
        "collapsed": false
      },
      "outputs": [],
      "source": [
        "io.write(nwbfile)\n",
        "io.close()"
      ]
    },
    {
      "cell_type": "markdown",
      "metadata": {},
      "source": [
        ".. [#] Some data interface objects have a default name. This default name is the type of the data interface. For\n",
        "   example, the default name for :py:class:`~pynwb.ophys.ImageSegmentation` is \"ImageSegmentation\" and the default\n",
        "   name for :py:class:`~pynwb.ecephys.EventWaveform` is \"EventWaveform\".\n",
        "\n",
        ".. [#] HDF5 is the primary backend supported by NWB.\n",
        "\n",
        ".. [#] Neurodata sets can be *very* large, so individual components of the dataset are only loaded into memory when\n",
        "   you request them. This functionality is only possible if an open file handle is kept around until users want to\n",
        "   load data.\n",
        "\n",
        ".. [#] NWB only supports *adding* to files. Removal and modifying of existing data is not allowed.\n",
        "\n"
      ]
    }
  ],
  "metadata": {
    "kernelspec": {
      "display_name": "Python 3",
      "language": "python",
      "name": "python3"
    },
    "language_info": {
      "codemirror_mode": {
        "name": "ipython",
        "version": 3
      },
      "file_extension": ".py",
      "mimetype": "text/x-python",
      "name": "python",
      "nbconvert_exporter": "python",
      "pygments_lexer": "ipython3",
      "version": "3.8.18"
    }
  },
  "nbformat": 4,
  "nbformat_minor": 0
}
