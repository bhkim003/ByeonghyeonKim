{
 "cells": [
  {
   "cell_type": "code",
   "execution_count": 1,
   "metadata": {},
   "outputs": [],
   "source": [
    "# Copyright (c) 2024 Byeonghyeon Kim \n",
    "# github site: https://github.com/bhkim003/ByeonghyeonKim\n",
    "# email: bhkim003@snu.ac.kr\n",
    " \n",
    "# Permission is hereby granted, free of charge, to any person obtaining a copy of\n",
    "# this software and associated documentation files (the \"Software\"), to deal in\n",
    "# the Software without restriction, including without limitation the rights to\n",
    "# use, copy, modify, merge, publish, distribute, sublicense, and/or sell copies of\n",
    "# the Software, and to permit persons to whom the Software is furnished to do so,\n",
    "# subject to the following conditions:\n",
    " \n",
    "# The above copyright notice and this permission notice shall be included in all\n",
    "# copies or substantial portions of the Software.\n",
    " \n",
    "# THE SOFTWARE IS PROVIDED \"AS IS\", WITHOUT WARRANTY OF ANY KIND, EXPRESS OR\n",
    "# IMPLIED, INCLUDING BUT NOT LIMITED TO THE WARRANTIES OF MERCHANTABILITY, FITNESS\n",
    "# FOR A PARTICULAR PURPOSE AND NONINFRINGEMENT. IN NO EVENT SHALL THE AUTHORS OR\n",
    "# COPYRIGHT HOLDERS BE LIABLE FOR ANY CLAIM, DAMAGES OR OTHER LIABILITY, WHETHER\n",
    "# IN AN ACTION OF CONTRACT, TORT OR OTHERWISE, ARISING FROM, OUT OF OR IN\n",
    "# CONNECTION WITH THE SOFTWARE OR THE USE OR OTHER DEALINGS IN THE SOFTWARE.\n"
   ]
  },
  {
   "cell_type": "code",
   "execution_count": 2,
   "metadata": {},
   "outputs": [
    {
     "name": "stderr",
     "output_type": "stream",
     "text": [
      "/tmp/ipykernel_23243/3771232270.py:46: DeprecationWarning: The module snntorch.spikevision is deprecated. For loading neuromorphic datasets, we recommend using the Tonic project: https://github.com/neuromorphs/tonic\n",
      "  from snntorch.spikevision import spikedata\n"
     ]
    },
    {
     "data": {
      "image/png": "[encoded data removed]",
      "text/plain": [
       "<Figure size 800x600 with 2 Axes>"
      ]
     },
     "metadata": {},
     "output_type": "display_data"
    }
   ],
   "source": [
    "import sys\n",
    "import os\n",
    "import argparse\n",
    "import torch\n",
    "import torch.nn as nn \n",
    "import torch.nn.functional as F\n",
    "import torch.backends.cudnn as cudnn\n",
    "import torch.optim as optim\n",
    "import torch.optim.lr_scheduler as lr_scheduler\n",
    "from torch.utils.data import Dataset, DataLoader\n",
    "\n",
    "import torchvision\n",
    "import torchvision.datasets\n",
    "import torchvision.transforms as transforms\n",
    "\n",
    "import numpy as np\n",
    "import matplotlib.pyplot as plt\n",
    "\n",
    "import time\n",
    "\n",
    "from snntorch import spikegen\n",
    "import matplotlib.pyplot as plt\n",
    "import snntorch.spikeplot as splt\n",
    "from IPython.display import HTML\n",
    "\n",
    "from tqdm import tqdm\n",
    "\n",
    "from apex.parallel import DistributedDataParallel as DDP\n",
    "\n",
    "import random\n",
    "import datetime\n",
    "\n",
    "import json\n",
    "\n",
    "from sklearn.utils import shuffle\n",
    "\n",
    "''' 레퍼런스\n",
    "https://spikingjelly.readthedocs.io/zh-cn/0.0.0.0.4/spikingjelly.datasets.html#module-spikingjelly.datasets\n",
    "https://github.com/GorkaAbad/Sneaky-Spikes/blob/main/datasets.py\n",
    "https://github.com/GorkaAbad/Sneaky-Spikes/blob/main/how_to.md\n",
    "https://github.com/nmi-lab/torchneuromorphic\n",
    "https://snntorch.readthedocs.io/en/latest/snntorch.spikevision.spikedata.html#shd\n",
    "'''\n",
    "\n",
    "import snntorch\n",
    "from snntorch.spikevision import spikedata\n",
    "\n",
    "from modules.spikingjelly.datasets.dvs128_gesture import DVS128Gesture\n",
    "from modules.spikingjelly.datasets.cifar10_dvs import CIFAR10DVS\n",
    "from modules.spikingjelly.datasets.n_mnist import NMNIST\n",
    "# from modules.spikingjelly.datasets.es_imagenet import ESImageNet\n",
    "from modules.spikingjelly.datasets import split_to_train_test_set\n",
    "from modules.spikingjelly.datasets.n_caltech101 import NCaltech101\n",
    "from modules.spikingjelly.datasets import pad_sequence_collate, padded_sequence_mask\n",
    "\n",
    "import modules.torchneuromorphic as torchneuromorphic\n",
    "\n",
    "import wandb\n",
    "\n",
    "from torchviz import make_dot\n",
    "import graphviz"
   ]
  },
  {
   "cell_type": "code",
   "execution_count": 3,
   "metadata": {},
   "outputs": [],
   "source": [
    "import apex"
   ]
  },
  {
   "cell_type": "code",
   "execution_count": 4,
   "metadata": {},
   "outputs": [],
   "source": [
    "# my module import\n",
    "from modules import *\n",
    "\n",
    "# modules 폴더에 새모듈.py 만들면\n",
    "# modules/__init__py 파일에 form .새모듈 import * 하셈\n",
    "# 그리고 새모듈.py에서 from modules.새모듈 import * 하셈\n"
   ]
  },
  {
   "cell_type": "code",
   "execution_count": 5,
   "metadata": {},
   "outputs": [],
   "source": [
    "from turtle import shape\n",
    "\n",
    "\n",
    "def my_snn_system(devices = \"0,1,2,3\",\n",
    "                    single_step = False, # True # False\n",
    "                    unique_name = 'main',\n",
    "                    my_seed = 42,\n",
    "                    TIME = 10,\n",
    "                    BATCH = 256,\n",
    "                    IMAGE_SIZE = 32,\n",
    "                    which_data = 'CIFAR10',\n",
    "                    # CLASS_NUM = 10,\n",
    "                    data_path = '/data2',\n",
    "                    rate_coding = True,\n",
    "    \n",
    "                    lif_layer_v_init = 0.0,\n",
    "                    lif_layer_v_decay = 0.6,\n",
    "                    lif_layer_v_threshold = 1.2,\n",
    "                    lif_layer_v_reset = 0.0,\n",
    "                    lif_layer_sg_width = 1,\n",
    "\n",
    "                    # synapse_conv_in_channels = IMAGE_PIXEL_CHANNEL,\n",
    "                    synapse_conv_kernel_size = 3,\n",
    "                    synapse_conv_stride = 1,\n",
    "                    synapse_conv_padding = 1,\n",
    "                    synapse_conv_trace_const1 = 1,\n",
    "                    synapse_conv_trace_const2 = 0.6,\n",
    "\n",
    "                    # synapse_fc_out_features = CLASS_NUM,\n",
    "                    synapse_fc_trace_const1 = 1,\n",
    "                    synapse_fc_trace_const2 = 0.6,\n",
    "\n",
    "                    pre_trained = False,\n",
    "                    convTrue_fcFalse = True,\n",
    "                    cfg = [64, 64],\n",
    "                    net_print = False, # True # False\n",
    "                    weight_count_print = False, # True # False\n",
    "                    pre_trained_path = \"net_save/save_now_net.pth\",\n",
    "                    learning_rate = 0.0001,\n",
    "                    epoch_num = 200,\n",
    "                    verbose_interval = 100, #숫자 크게 하면 꺼짐\n",
    "                    validation_interval = 10, #숫자 크게 하면 꺼짐\n",
    "                    tdBN_on = False,\n",
    "                    BN_on = False,\n",
    "\n",
    "                    surrogate = 'sigmoid',\n",
    "\n",
    "                    gradient_verbose = False,\n",
    "\n",
    "                    BPTT_on = False,\n",
    "\n",
    "                    optimizer_what = 'SGD', # 'SGD' 'Adam', 'RMSprop'\n",
    "                    scheduler_name = 'no',\n",
    "                    \n",
    "                    ddp_on = True,\n",
    "\n",
    "                    nda_net = False,\n",
    "                    \n",
    "                    domain_il_epoch = 0, # over 0, then domain il mode on\n",
    "\n",
    "                    dvs_clipping = 1, \n",
    "                    dvs_duration = 25_001,\n",
    "\n",
    "                    OTTT_sWS_on = True, # True # False\n",
    "\n",
    "                    DFA_on = False, # True # False\n",
    "                    OTTT_input_trace_on = False, # True # False\n",
    "                 \n",
    "                    e_transport_swap = 5, # 1 이상이면 해당 숫자 에포크만큼 val_acc_best가 변화가 없으면 e_transport scheme (BP vs DFA) swap\n",
    "                    e_transport_swap_tr = 0, # 1 이상이면 해당 숫자 에포크만큼 val_acc_best가 변화가 없으면 e_transport scheme (BP vs DFA) swap\n",
    "                    e_transport_swap_coin = 0, # swap할 수 있는 coin 개수\n",
    "\n",
    "                    drop_rate = 0.5, \n",
    "\n",
    "                    exclude_class = True, # True # False # gesture에서 10번째 클래스 제외\n",
    "\n",
    "                    merge_polarities = True, # True # False # tonic dvs dataset 에서 polarities 합치기\n",
    "                    denoise_on = True, \n",
    "                    dvs_relative_timestep = True, \n",
    "                    \n",
    "                    I_wanna_sweep_at_this_epoch = -1,\n",
    "                    dvs_duration_domain = [],\n",
    "\n",
    "                    extra_train_dataset = 0,\n",
    "\n",
    "                    num_workers = 2,\n",
    "                    chaching_on = False,\n",
    "                    pin_memory = True, # True # False\n",
    "                    \n",
    "                    UDA_on = False, # True # False\n",
    "                    UDA_data = (25_000,1,False), # (duration, clipping, denoise_on)\n",
    "                    src_trg_ratio = 1,\n",
    "                    adapter_loss_weight = 1.0, # 1.0  # adapter loss의 힘.\n",
    "                    alpha_uda = 1.0,\n",
    "\n",
    "                    temporal_filter = 1, \n",
    "                    initial_pooling = 1,\n",
    "                  ):\n",
    "    ## hyperparameter check #############################################################\n",
    "    if OTTT_sWS_on == True:\n",
    "        assert BPTT_on == False and tdBN_on == False and BN_on == False\n",
    "        if convTrue_fcFalse == False:\n",
    "            assert single_step == True\n",
    "    if single_step == True:\n",
    "        assert BPTT_on == False and tdBN_on == False \n",
    "    if tdBN_on == True:\n",
    "        assert BPTT_on == True\n",
    "    if pre_trained == True:\n",
    "        print('\\n\\n')\n",
    "        print(\"Caution! pre_trained is True\\n\\n\"*3)    \n",
    "    if DFA_on == True:\n",
    "        assert single_step == True and BPTT_on == False and any(isinstance(item, list) for item in cfg) == False\n",
    "    if OTTT_input_trace_on == True:\n",
    "        assert BPTT_on == False and single_step == True\n",
    "    if UDA_on == True:\n",
    "        assert single_step == True and BPTT_on == False and I_wanna_sweep_at_this_epoch == -1 and (e_transport_swap_coin == 0 or (e_transport_swap == 0 and e_transport_swap_tr == 0)) and isinstance(cfg, tuple) == True and extra_train_dataset == 0\n",
    "    if temporal_filter > 1:\n",
    "        assert convTrue_fcFalse == False\n",
    "    if initial_pooling > 1:\n",
    "        pass\n",
    "    if extra_train_dataset > 0:\n",
    "        assert which_data != 'NMNIST_TONIC'\n",
    "    ######################################################################################\n",
    "\n",
    "\n",
    "    ## 함수 내 모든 로컬 변수 저장 ########################################################\n",
    "    hyperparameters = locals()\n",
    "    hyperparameters['current epoch'] = 0\n",
    "    ######################################################################################\n",
    "    \n",
    "    args_gpu = None\n",
    "    ## DDP settting ######################################################################\n",
    "    if (ddp_on == True):\n",
    "        parser = argparse.ArgumentParser(description='my_snn CIFAR10 Training')\n",
    "\n",
    "        # # local_rank는 command line에서 따로 줄 필요는 없지만, 선언은 필요\n",
    "        parser.add_argument(\"--local_rank\", default=0, type=int)\n",
    "\n",
    "        args = parser.parse_args() # 이거 적어줘야됨. parser argument선언하고\n",
    "\n",
    "        args.gpu = args.local_rank\n",
    "        args_gpu = args.gpu\n",
    "        torch.cuda.set_device(args.gpu)\n",
    "        torch.distributed.init_process_group(backend=\"nccl\", init_method=\"env://\")\n",
    "        args.world_size = torch.distributed.get_world_size()\n",
    "    #######################################################################################\n",
    "\n",
    "\n",
    "    ## wandb 세팅 ###################################################################\n",
    "    current_time = datetime.datetime.now().strftime(\"%Y%m%d_%H%M%S\")\n",
    "    if (ddp_on == True and torch.distributed.get_rank() != 0):\n",
    "        wandb.finish()\n",
    "    if (ddp_on == False or torch.distributed.get_rank() == 0):\n",
    "        wandb.config.update(hyperparameters)\n",
    "        wandb.run.name = f'lr_{learning_rate}_{unique_name}_{which_data}_tstep{TIME}'\n",
    "        wandb.define_metric(\"summary_val_acc\", summary=\"max\")\n",
    "        wandb.run.log_code(\".\", \n",
    "                           include_fn=lambda path: path.endswith(\".py\") or path.endswith(\".ipynb\"),\n",
    "                           exclude_fn=lambda path: 'logs/' in path or 'net_save/' in path or 'result_save/' in path or 'trying/' in path or 'wandb/' in path or 'private/' in path or '.git/' in path or 'tonic' in path or 'torchneuromorphic' in path or 'spikingjelly' in path \n",
    "                           )\n",
    "    ###################################################################################\n",
    "\n",
    "\n",
    "\n",
    "    ## gpu setting ##################################################################################################################\n",
    "    os.environ[\"CUDA_DEVICE_ORDER\"]=\"PCI_BUS_ID\" \n",
    "    os.environ[\"CUDA_VISIBLE_DEVICES\"]= devices\n",
    "    ###################################################################################################################################\n",
    "\n",
    "\n",
    "    ## seed setting ##################################################################################################################\n",
    "    seed_assign(my_seed)\n",
    "    ###################################################################################################################################\n",
    "    \n",
    "\n",
    "    ## data_loader 가져오기 ##################################################################################################################\n",
    "    # data loader, pixel channel, class num\n",
    "    train_data_split_indices = []\n",
    "    train_loader, test_loader, synapse_conv_in_channels, CLASS_NUM, train_data_count = data_loader(\n",
    "            which_data,\n",
    "            data_path, \n",
    "            rate_coding, \n",
    "            BATCH, \n",
    "            IMAGE_SIZE,\n",
    "            ddp_on,\n",
    "            TIME*temporal_filter, # temporal_filter가 곱해짐.\n",
    "            dvs_clipping,\n",
    "            dvs_duration,\n",
    "            exclude_class,\n",
    "            merge_polarities,\n",
    "            denoise_on,\n",
    "            my_seed,\n",
    "            extra_train_dataset,\n",
    "            num_workers,\n",
    "            chaching_on,\n",
    "            pin_memory,\n",
    "            train_data_split_indices,) \n",
    "    test_loader_domain_set = []\n",
    "    test_loader_domain_set.append(test_loader)  \n",
    "    synapse_fc_out_features = CLASS_NUM\n",
    "\n",
    "    if UDA_on == True:\n",
    "        indices = torch.randperm(train_data_count).tolist()\n",
    "        train_data_split_indices_source = indices[:math.ceil(train_data_count * (src_trg_ratio / (src_trg_ratio + 1)))]\n",
    "        train_data_split_indices_target = indices[math.ceil(train_data_count * (src_trg_ratio / (src_trg_ratio + 1))):]\n",
    "        train_loader, _, synapse_conv_in_channels, CLASS_NUM, train_data_count_src = data_loader(\n",
    "                which_data,\n",
    "                data_path, \n",
    "                rate_coding, \n",
    "                BATCH, \n",
    "                IMAGE_SIZE,\n",
    "                ddp_on,\n",
    "                TIME*temporal_filter, # temporal_filter가 곱해짐.\n",
    "                dvs_clipping,\n",
    "                dvs_duration,\n",
    "                exclude_class,\n",
    "                merge_polarities,\n",
    "                denoise_on,\n",
    "                my_seed,\n",
    "                extra_train_dataset,\n",
    "                num_workers,\n",
    "                chaching_on,\n",
    "                pin_memory,\n",
    "                train_data_split_indices_source,\n",
    "                )\n",
    "\n",
    "        train_loader_target, _, synapse_conv_in_channels, CLASS_NUM, train_data_count_trg = data_loader(\n",
    "                which_data,\n",
    "                data_path, \n",
    "                rate_coding, \n",
    "                BATCH, \n",
    "                IMAGE_SIZE,\n",
    "                ddp_on,\n",
    "                TIME*temporal_filter,\n",
    "                UDA_data[1],  # dvs_clipping,\n",
    "                UDA_data[0],   # dvs_duration,\n",
    "                exclude_class,\n",
    "                merge_polarities,\n",
    "                UDA_data[2], # denoise_on,\n",
    "                my_seed,\n",
    "                extra_train_dataset,\n",
    "                num_workers,\n",
    "                chaching_on,\n",
    "                pin_memory,\n",
    "                train_data_split_indices_target,\n",
    "                )\n",
    "        print('\\n','src img count',train_data_count_src,'trg img count',train_data_count_trg,'\\n')\n",
    "    ###########################################################################################################################################\n",
    "    \n",
    "    ## 다른 dvs duration domain을 validation set으로 불러오기 ##############################################################\n",
    "    dvs_duration_domain_temp = []\n",
    "    train_data_split_indices = []\n",
    "    if len(dvs_duration_domain) > 0:\n",
    "        for domain in dvs_duration_domain:\n",
    "            target_domain_timestep = (dvs_duration*TIME)//domain[0] if dvs_relative_timestep == True else TIME\n",
    "            dvs_duration_domain_temp.append(domain + (target_domain_timestep,))\n",
    "            train_loader_domain, test_loader_domain, synapse_conv_in_channels_domain, CLASS_NUM_domain, train_data_count = data_loader(\n",
    "                    which_data,\n",
    "                    data_path, \n",
    "                    rate_coding, \n",
    "                    BATCH, \n",
    "                    IMAGE_SIZE,\n",
    "                    ddp_on,\n",
    "                    target_domain_timestep*temporal_filter,\n",
    "                    domain[1], # dvs_clipping\n",
    "                    domain[0], # dvs_duration\n",
    "                    exclude_class,\n",
    "                    merge_polarities,\n",
    "                    domain[2], # denoise_on \n",
    "                    my_seed,\n",
    "                    extra_train_dataset,\n",
    "                    num_workers,\n",
    "                    chaching_on,\n",
    "                    pin_memory,\n",
    "                    train_data_split_indices,)\n",
    "            test_loader_domain_set.append(test_loader_domain)\n",
    "        dvs_duration_domain = dvs_duration_domain_temp\n",
    "    ######################################################################################################################\n",
    "    \n",
    "    ## parameter number calculator (안 중요함) ##################################################################################################################\n",
    "    params_num = 0\n",
    "    img_size = IMAGE_SIZE//initial_pooling\n",
    "    bias_param = 1 # 1 or 0\n",
    "    classifier_making = False\n",
    "    if (UDA_on == True):\n",
    "        print(\"In UDA mode, No parameter number calculation yet.\")\n",
    "        pass\n",
    "    else: \n",
    "        if (convTrue_fcFalse == True):\n",
    "            past_kernel = synapse_conv_in_channels\n",
    "            for kernel in cfg:\n",
    "                if (classifier_making == False):\n",
    "                    if (type(kernel) == list):\n",
    "                        for residual_kernel in kernel:\n",
    "                            if (residual_kernel >= 10000 and residual_kernel < 20000): # separable\n",
    "                                residual_kernel -= 10000\n",
    "                                params_num += (synapse_conv_kernel_size**2 + bias_param) * past_kernel\n",
    "                                params_num += (1**2 * past_kernel + bias_param) * residual_kernel\n",
    "                                past_kernel = residual_kernel  \n",
    "                            elif (residual_kernel >= 20000 and residual_kernel < 30000): # depthwise\n",
    "                                residual_kernel -= 20000\n",
    "                                # 'past_kernel' should be same with 'kernel'\n",
    "                                params_num += (synapse_conv_kernel_size**2 + bias_param) * past_kernel\n",
    "                                past_kernel = residual_kernel  \n",
    "                            else:\n",
    "                                params_num += residual_kernel * ((synapse_conv_kernel_size**2) * past_kernel + bias_param)\n",
    "                                past_kernel = residual_kernel\n",
    "                    elif (kernel == 'P' or kernel == 'M'):\n",
    "                        img_size = img_size // 2\n",
    "                    elif (kernel == 'D'):\n",
    "                        img_size = 1\n",
    "                    elif (kernel == 'L'):\n",
    "                        classifier_making = True\n",
    "                        past_kernel = past_kernel * (img_size**2)\n",
    "                    else:\n",
    "                        if (kernel >= 10000 and kernel < 20000): # separable\n",
    "                            kernel -= 10000\n",
    "                            params_num += (synapse_conv_kernel_size**2 + bias_param) * past_kernel\n",
    "                            params_num += (1**2 * past_kernel + bias_param) * kernel\n",
    "                            past_kernel = kernel  \n",
    "                        elif (kernel >= 20000 and kernel < 30000): # depthwise\n",
    "                            kernel -= 20000\n",
    "                            # 'past_kernel' should be same with 'kernel'\n",
    "                            params_num += (synapse_conv_kernel_size**2 + bias_param) * past_kernel\n",
    "                            past_kernel = kernel  \n",
    "                        else:\n",
    "                            params_num += kernel * (synapse_conv_kernel_size**2 * past_kernel + bias_param)\n",
    "                            past_kernel = kernel    \n",
    "                else: # classifier making\n",
    "                    params_num += (past_kernel + bias_param) * kernel\n",
    "                    past_kernel = kernel\n",
    "            \n",
    "            \n",
    "            if classifier_making == False:\n",
    "                past_kernel = past_kernel*img_size*img_size\n",
    "\n",
    "            params_num += (past_kernel + bias_param) * synapse_fc_out_features\n",
    "        else:\n",
    "            in_channel_compute_temp = synapse_conv_in_channels * temporal_filter\n",
    "            past_in_channel = in_channel_compute_temp*img_size*img_size\n",
    "            for in_channel in cfg:\n",
    "                if (type(in_channel) == list):\n",
    "                    for residual_in_channel in in_channel:\n",
    "                        params_num += (past_in_channel + bias_param) * residual_in_channel\n",
    "                        past_in_channel = residual_in_channel\n",
    "                elif (in_channel == 'P' or in_channel == 'M'):\n",
    "                    img_size = img_size // 2\n",
    "                    past_in_channel = in_channel_compute_temp*img_size*img_size\n",
    "                else:\n",
    "                    params_num += (past_in_channel + bias_param) * in_channel\n",
    "                    past_in_channel = in_channel\n",
    "            params_num += (past_in_channel + bias_param) * synapse_fc_out_features\n",
    "    ###########################################################################################################################################\n",
    "\n",
    "\n",
    "    device = torch.device(\"cuda\" if torch.cuda.is_available() else \"cpu\")\n",
    "    print(f\"\\ndevice ==> {device}\\n\")\n",
    "    if device == \"cpu\":\n",
    "        print(\"=\"*50,\"\\n[WARNING]\\n[WARNING]\\n[WARNING]\\n: cpu mode\\n\\n\",\"=\"*50)\n",
    "\n",
    "    ### network setting #######################################################################################################################\n",
    "    if (convTrue_fcFalse == False):\n",
    "        if (single_step == False):\n",
    "            net = MY_SNN_FC(cfg, synapse_conv_in_channels*temporal_filter, IMAGE_SIZE//initial_pooling, synapse_fc_out_features,\n",
    "                        synapse_fc_trace_const1, synapse_fc_trace_const2, \n",
    "                        lif_layer_v_init, lif_layer_v_decay, \n",
    "                        lif_layer_v_threshold, lif_layer_v_reset,\n",
    "                        lif_layer_sg_width,\n",
    "                        tdBN_on,\n",
    "                        BN_on, TIME,\n",
    "                        surrogate,\n",
    "                        BPTT_on,\n",
    "                        DFA_on,\n",
    "                        drop_rate,\n",
    "                        UDA_on,\n",
    "                        alpha_uda).to(device)\n",
    "        else:\n",
    "            net = MY_SNN_FC_sstep(cfg, synapse_conv_in_channels*temporal_filter, IMAGE_SIZE//initial_pooling, synapse_fc_out_features,\n",
    "                        synapse_fc_trace_const1, synapse_fc_trace_const2, \n",
    "                        lif_layer_v_init, lif_layer_v_decay, \n",
    "                        lif_layer_v_threshold, lif_layer_v_reset,\n",
    "                        lif_layer_sg_width,\n",
    "                        tdBN_on,\n",
    "                        BN_on, TIME,\n",
    "                        surrogate,\n",
    "                        BPTT_on,\n",
    "                        DFA_on,\n",
    "                        OTTT_sWS_on,\n",
    "                        drop_rate,\n",
    "                        UDA_on,\n",
    "                        alpha_uda).to(device)\n",
    "    else:\n",
    "        if (single_step == False):\n",
    "            net = MY_SNN_CONV(cfg, synapse_conv_in_channels, IMAGE_SIZE//initial_pooling,\n",
    "                        synapse_conv_kernel_size, synapse_conv_stride, \n",
    "                        synapse_conv_padding, synapse_conv_trace_const1, \n",
    "                        synapse_conv_trace_const2, \n",
    "                        lif_layer_v_init, lif_layer_v_decay, \n",
    "                        lif_layer_v_threshold, lif_layer_v_reset,\n",
    "                        lif_layer_sg_width,\n",
    "                        synapse_fc_out_features, synapse_fc_trace_const1, synapse_fc_trace_const2,\n",
    "                        tdBN_on,\n",
    "                        BN_on, TIME,\n",
    "                        surrogate,\n",
    "                        BPTT_on,\n",
    "                        OTTT_sWS_on,\n",
    "                        DFA_on,\n",
    "                        drop_rate,\n",
    "                        UDA_on,\n",
    "                        alpha_uda).to(device)\n",
    "        else:\n",
    "            net = MY_SNN_CONV_sstep(cfg, synapse_conv_in_channels, IMAGE_SIZE//initial_pooling,\n",
    "                        synapse_conv_kernel_size, synapse_conv_stride, \n",
    "                        synapse_conv_padding, synapse_conv_trace_const1, \n",
    "                        synapse_conv_trace_const2, \n",
    "                        lif_layer_v_init, lif_layer_v_decay, \n",
    "                        lif_layer_v_threshold, lif_layer_v_reset,\n",
    "                        lif_layer_sg_width,\n",
    "                        synapse_fc_out_features, synapse_fc_trace_const1, synapse_fc_trace_const2,\n",
    "                        tdBN_on,\n",
    "                        BN_on, TIME,\n",
    "                        surrogate,\n",
    "                        BPTT_on,\n",
    "                        OTTT_sWS_on,\n",
    "                        DFA_on,\n",
    "                        drop_rate,\n",
    "                        UDA_on,\n",
    "                        alpha_uda).to(device)\n",
    "    if (nda_net == True):\n",
    "        net = VGG(cfg = cfg, num_classes=10, batch_norm = tdBN_on, in_c = synapse_conv_in_channels, \n",
    "                    lif_layer_v_threshold=lif_layer_v_threshold, lif_layer_v_decay=lif_layer_v_decay, lif_layer_sg_width=lif_layer_sg_width)\n",
    "        net.T = TIME\n",
    "\n",
    "    if ddp_on == False:\n",
    "        net = torch.nn.DataParallel(net) \n",
    "    \n",
    "    if pre_trained == True:\n",
    "        net.load_state_dict(torch.load(pre_trained_path))\n",
    "    \n",
    "    if ddp_on == True:\n",
    "        device = args.gpu\n",
    "        net = net.to(args.gpu)\n",
    "        net = DDP(net, delay_allreduce=True)\n",
    "\n",
    "    net = net.to(device)\n",
    "    if (net_print == True):\n",
    "        if ddp_on == False or torch.distributed.get_rank() == 0:\n",
    "            print(net)    \n",
    "    ####################################################################################################################################\n",
    "    \n",
    "\n",
    "    ## wandb logging ###########################################\n",
    "    if ddp_on == False or torch.distributed.get_rank() == 0:\n",
    "        wandb.watch(net, log=\"all\", log_freq = 10) #gradient, parameter logging해줌\n",
    "    ############################################################\n",
    "\n",
    "    ## param num and memory estimation except BN with MY own calculation some lines above ##########################################\n",
    "    if ddp_on == False or torch.distributed.get_rank() == 0:\n",
    "        real_param_num = sum(p.numel() for p in net.parameters() if p.requires_grad)\n",
    "        if (weight_count_print == True):\n",
    "            for name, param in net.named_parameters():\n",
    "                if param.requires_grad:\n",
    "                    print(f'Layer: {name} | Number of parameters: {param.numel()}')\n",
    "        # Batch norm 있으면 아래 두 개 서로 다를 수 있음.\n",
    "        # assert real_param_num == params_num, f'parameter number is not same. real_param_num: {real_param_num}, params_num: {params_num}'    \n",
    "        print('='*50)\n",
    "        print(f\"My Num of PARAMS: {params_num:,}, system's param_num : {real_param_num:,}\")\n",
    "        memory = params_num / 8 / 1024 / 1024 # MB\n",
    "        precision = 32\n",
    "        memory = memory * precision \n",
    "        print(f\"Memory: {memory:.2f}MiB at {precision}-bit\")\n",
    "        print('='*50)\n",
    "    ##############################################################################################################################\n",
    "\n",
    "\n",
    "\n",
    "    ## criterion ########################################## # loss 구해주는 친구\n",
    "    criterion = nn.CrossEntropyLoss().to(device)\n",
    "    if (OTTT_sWS_on == True):\n",
    "        # criterion = nn.CrossEntropyLoss().to(device)\n",
    "        criterion = lambda y_t, target_t: ((1 - 0.05) * F.cross_entropy(y_t, target_t) + 0.05 * F.mse_loss(y_t, F.one_hot(target_t, CLASS_NUM).float())) / TIME \n",
    "        if which_data == 'DVS_GESTURE':\n",
    "            criterion = lambda y_t, target_t: ((1 - 0.001) * F.cross_entropy(y_t, target_t) + 0.001 * F.mse_loss(y_t, F.one_hot(target_t, CLASS_NUM).float())) / TIME \n",
    "    ####################################################\n",
    "    \n",
    "\n",
    "\n",
    "\n",
    "    ## optimizer, scheduler ########################################################################\n",
    "    if(optimizer_what == 'SGD'):\n",
    "        # optimizer = optim.SGD(net.parameters(), lr=learning_rate, momentum=0.9)\n",
    "        optimizer = optim.SGD(net.parameters(), lr=learning_rate, momentum=0.9, weight_decay=0)\n",
    "    elif(optimizer_what == 'Adam'):\n",
    "        optimizer = torch.optim.Adam(net.parameters(), lr=learning_rate)\n",
    "        # optimizer = torch.optim.Adam(net.parameters(), lr=0.00001)\n",
    "        # optimizer = torch.optim.Adam(net.parameters(), lr=learning_rate/256 * BATCH, weight_decay=1e-4)\n",
    "        # optimizer = optim.Adam(net.parameters(), lr=learning_rate, weight_decay=0, betas=(0.9, 0.999))\n",
    "    elif(optimizer_what == 'RMSprop'):\n",
    "        pass\n",
    "\n",
    "\n",
    "    if (scheduler_name == 'StepLR'):\n",
    "        scheduler = lr_scheduler.StepLR(optimizer, step_size=10, gamma=0.1)\n",
    "    elif (scheduler_name == 'ExponentialLR'):\n",
    "        scheduler = lr_scheduler.ExponentialLR(optimizer, gamma=0.95)\n",
    "    elif (scheduler_name == 'ReduceLROnPlateau'):\n",
    "        scheduler = lr_scheduler.ReduceLROnPlateau(optimizer, mode='min', factor=0.1, patience=10)\n",
    "    elif (scheduler_name == 'CosineAnnealingLR'):\n",
    "        # scheduler = lr_scheduler.CosineAnnealingLR(optimizer, eta_min=0, T_max=50)\n",
    "        scheduler = torch.optim.lr_scheduler.CosineAnnealingLR(optimizer, eta_min=0, T_max=epoch_num)\n",
    "    elif (scheduler_name == 'OneCycleLR'):\n",
    "        scheduler = lr_scheduler.OneCycleLR(optimizer, max_lr=0.1, steps_per_epoch=len(train_loader), epochs=epoch_num)\n",
    "    else:\n",
    "        pass # 'no' scheduler\n",
    "    ## optimizer, scheduler ########################################################################\n",
    "\n",
    "\n",
    "    tr_acc = 0\n",
    "    tr_correct = 0\n",
    "    tr_total = 0\n",
    "    tr_acc_best = 0\n",
    "    tr_epoch_loss_temp = 0\n",
    "    tr_epoch_loss = 0\n",
    "    val_acc_best = 0\n",
    "    val_acc_now = 0\n",
    "    val_loss = 0\n",
    "    elapsed_time_val = 0\n",
    "    no_val_best_growth_count = 0\n",
    "    no_tr_best_growth_count = 0\n",
    "    iter_acc_array = np.array([])\n",
    "    tr_acc_array = np.array([])\n",
    "    val_acc_now_array = np.array([])\n",
    "    DFA_current = DFA_on\n",
    "    DFA_toggle = False\n",
    "    DFA_flag = 1.0 if DFA_current == True else 0.0\n",
    "    DFA_BP_toggle_trial = 0\n",
    "    iter_of_val = False\n",
    "    tr_acc_target = 0\n",
    "    tr_correct_target = 0\n",
    "    tr_total_target = 0\n",
    "    tr_acc_best_target = 0\n",
    "    tr_epoch_loss_temp_target = 0\n",
    "    tr_epoch_loss_target = 0\n",
    "    tr_epoch_loss_temp_domain = 0\n",
    "    tr_epoch_loss_domain = 0\n",
    "    tr_acc_domain = 0\n",
    "    tr_correct_domain = 0\n",
    "    tr_total_domain = 0\n",
    "    val_acc_now_set_past = [0 for _ in range(len(dvs_duration_domain)+1)]\n",
    "    val_acc_now_set = [0 for _ in range(len(dvs_duration_domain)+1)]\n",
    "    val_acc_now_set_best = [0 for _ in range(len(dvs_duration_domain)+1)]\n",
    "    #======== EPOCH START ==========================================================================================\n",
    "    for epoch in range(epoch_num):\n",
    "        if (I_wanna_sweep_at_this_epoch == epoch):\n",
    "            net = BP_DFA_SWAP(net, convTrue_fcFalse, single_step, ddp_on, args_gpu)\n",
    "            no_val_best_growth_count = 0\n",
    "            DFA_current = not DFA_current\n",
    "            DFA_toggle = True\n",
    "            DFA_BP_toggle_trial = DFA_BP_toggle_trial + 1\n",
    "        else:\n",
    "            if (e_transport_swap > 0 or e_transport_swap_tr > 0):\n",
    "                assert not (e_transport_swap > 0 and e_transport_swap_tr > 0)\n",
    "                if e_transport_swap > 0 and no_val_best_growth_count == e_transport_swap :\n",
    "                    if DFA_BP_toggle_trial < e_transport_swap_coin:\n",
    "                        net = BP_DFA_SWAP(net, convTrue_fcFalse, single_step, ddp_on, args_gpu)\n",
    "                        no_val_best_growth_count = 0\n",
    "                        DFA_current = not DFA_current\n",
    "                        DFA_toggle = True\n",
    "                        DFA_BP_toggle_trial = DFA_BP_toggle_trial + 1\n",
    "                if e_transport_swap_tr > 0 and no_tr_best_growth_count == e_transport_swap_tr:\n",
    "                    if DFA_BP_toggle_trial < e_transport_swap_coin:\n",
    "                        net = BP_DFA_SWAP(net, convTrue_fcFalse, single_step, ddp_on, args_gpu)\n",
    "                        no_tr_best_growth_count = 0\n",
    "                        DFA_current = not DFA_current\n",
    "                        DFA_toggle = True\n",
    "                        DFA_BP_toggle_trial = DFA_BP_toggle_trial + 1\n",
    "\n",
    "        if ddp_on == False or torch.distributed.get_rank() == 0:\n",
    "            # print('EPOCH', epoch)\n",
    "            pass\n",
    "        epoch_start_time = time.time()\n",
    "\n",
    "        # if (domain_il_epoch>0 and which_data == 'PMNIST'):\n",
    "        #     k = epoch // domain_il_epoch\n",
    "        #     xtrain=data[k]['train']['x']\n",
    "        #     ytrain=data[k]['train']['y']\n",
    "        #     xtest =data[k]['test']['x']\n",
    "        #     ytest =data[k]['test']['y']\n",
    "\n",
    "        ####### iterator : input_loading & tqdm을 통한 progress_bar 생성###################\n",
    "        iterator = enumerate(train_loader, 0)\n",
    "        if (UDA_on == True):\n",
    "            iterator_target = enumerate(train_loader_target, 0)\n",
    "\n",
    "        if ddp_on == False or torch.distributed.get_rank() == 0:  \n",
    "            iterator = tqdm(iterator, total=len(train_loader), desc='train', dynamic_ncols=True, position=0, leave=True)\n",
    "        ##################################################################################   \n",
    "        \n",
    "        #### validation_interval이 batch size보다 작을 시 validation_interval을 batch size로 맞춰줌#############\n",
    "        validation_interval2 = validation_interval\n",
    "        if (validation_interval > len(train_loader)):\n",
    "            validation_interval2 = len(train_loader)\n",
    "        ##################################################################################################\n",
    "\n",
    "\n",
    "        ###### ITERATION START ##########################################################################################################\n",
    "        i = 0\n",
    "        target_done = False\n",
    "        for i, data in iterator:\n",
    "            UDA_FSM = 0\n",
    "            while (UDA_FSM < 2): # 0: source, 1: target, 2: done\n",
    "                if UDA_on == True:\n",
    "                    if UDA_FSM == 0:\n",
    "                        net.UDA_adapter_on = True\n",
    "                        net.UDA_classifier_on = True\n",
    "                        if target_done == True:\n",
    "                            UDA_FSM = 2 # 2--> target 안함\n",
    "                        elif (i-1)%(len(train_loader)//len(train_loader_target)) == 0: # 일정 주기로 src/trg 도메인 어댑트\n",
    "                        # elif torch.rand(1).item() < (1/src_trg_ratio):\n",
    "                            net.UDA_adapter_on = True\n",
    "                            UDA_FSM = 1 # 1--> target 함 !!! target 할 때만 source도 domain adapt할거임.\n",
    "                        elif i == len(train_loader) - 1 and target_done == False:\n",
    "                            net.UDA_adapter_on = True\n",
    "                            UDA_FSM = 1\n",
    "                        else: \n",
    "                            UDA_FSM = 2\n",
    "                    elif UDA_FSM == 1:\n",
    "                        net.UDA_adapter_on = True\n",
    "                        net.UDA_classifier_on = False\n",
    "                        tgt_idx, data = next(iterator_target)\n",
    "                        target_done = True if tgt_idx == len(train_loader_target) - 1 else False\n",
    "                        if i == len(train_loader) - 1 and target_done == False:\n",
    "                            UDA_FSM = 1\n",
    "                        else: \n",
    "                            UDA_FSM = 2\n",
    "                    else:\n",
    "                        assert False\n",
    "                else:\n",
    "                    UDA_FSM = 2\n",
    "\n",
    "                iter_one_train_time_start = time.time()\n",
    "\n",
    "                net.train() # train 모드로 바꿔줘야함\n",
    "\n",
    "                ### data loading & semi-pre-processing ################################################################################\n",
    "                if len(data) == 2:\n",
    "                    inputs, labels = data\n",
    "                    # 처리 로직 작성\n",
    "                elif len(data) == 3:\n",
    "                    inputs, labels, x_len = data\n",
    "                    # print('x_len',x_len)\n",
    "                    # mask = padded_sequence_mask(x_len)\n",
    "                    # max_time_step = x_len.max()\n",
    "                    # min_time_step = x_len.min()\n",
    "                else:\n",
    "                    assert False, 'data length is not 2 or 3'\n",
    "                #######################################################################################################################\n",
    "                    \n",
    "                ## batch 크기 ######################################\n",
    "                real_batch = labels.size(0)\n",
    "                ###########################################################\n",
    "\n",
    "                # 차원 전처리\n",
    "                ###########################################################################################################################        \n",
    "                if (which_data == 'n_tidigits'):\n",
    "                    inputs = inputs.permute(0, 1, 3, 2, 4)\n",
    "                    labels = labels[:, 0, :]\n",
    "                    labels = torch.argmax(labels, dim=1)\n",
    "                elif (which_data == 'heidelberg'):\n",
    "                    inputs = inputs.view(5, 1000, 1, 700, 1)\n",
    "                    print(\"\\n\\n\\n경고!!!! heidelberg 이거 타임스텝이랑 채널 잘 바꿔줘라!!!\\n\\n\\n\\n\")\n",
    "                # print('inputs',inputs.size(),'\\nlabels',labels.size())\n",
    "                # print(labels)\n",
    "\n",
    "                if (which_data == 'DVS_CIFAR10' or which_data == 'DVS_GESTURE' or which_data == 'DVS_GESTURE_TONIC' or which_data == 'DVS_CIFAR10_2' or which_data == 'NMNIST' or which_data == 'NMNIST_TONIC' or which_data == 'N_CALTECH101' or which_data == 'n_tidigits' or which_data == 'heidelberg'):\n",
    "                    inputs = inputs.permute(1, 0, 2, 3, 4)\n",
    "                elif rate_coding == True :\n",
    "                    inputs = spikegen.rate(inputs, num_steps=TIME)\n",
    "                else :\n",
    "                    inputs = inputs.repeat(TIME, 1, 1, 1, 1)\n",
    "                # inputs: [Time, Batch, Channel, Height, Width]  \n",
    "                    \n",
    "                ## initial pooling #######################################################################\n",
    "                if (initial_pooling > 1):\n",
    "                    pool = nn.MaxPool2d(kernel_size=2)\n",
    "                    num_pooling_layers = int(math.log2(initial_pooling))\n",
    "                    # Time, Batch, Channel 차원은 그대로 두고, Height, Width 차원에 대해서만 pooling 적용\n",
    "                    shape_temp = inputs.shape\n",
    "                    inputs = inputs.reshape(shape_temp[0]*shape_temp[1], shape_temp[2], shape_temp[3], shape_temp[4])\n",
    "                    for _ in range(num_pooling_layers):\n",
    "                        inputs = pool(inputs)\n",
    "                    inputs = inputs.reshape(shape_temp[0], shape_temp[1], shape_temp[2], shape_temp[3]//initial_pooling, shape_temp[4]//initial_pooling)\n",
    "                ## initial pooling #######################################################################\n",
    "                ## temporal filtering ####################################################################\n",
    "                shape_temp = inputs.shape\n",
    "                if (temporal_filter > 1):\n",
    "                    slice_bucket = []\n",
    "                    for t_temp in range(TIME):\n",
    "                        start = t_temp * temporal_filter\n",
    "                        end = start + temporal_filter\n",
    "                        slice_concat = torch.movedim(inputs[start:end], 0, 1).reshape(shape_temp[1],shape_temp[2],shape_temp[3],-1)\n",
    "                        slice_bucket.append(slice_concat)\n",
    "                    inputs = torch.stack(slice_bucket, dim=0)\n",
    "                ## temporal filtering ####################################################################\n",
    "                ####################################################################################################################### \n",
    "                    \n",
    "                \n",
    "                # # dvs 데이터 시각화 코드 (확인 필요할 시 써라)\n",
    "                # ##############################################################################################\n",
    "                # dvs_visualization(inputs, labels, TIME, BATCH, my_seed)\n",
    "                # #####################################################################################################\n",
    "\n",
    "                ## to (device) #######################################\n",
    "                inputs = inputs.to(device)\n",
    "                labels = labels.to(device)\n",
    "                ###########################################################\n",
    "\n",
    "\n",
    "                ## gradient 초기화 #######################################\n",
    "                optimizer.zero_grad()\n",
    "                ###########################################################\n",
    "                \n",
    "                ## DVS gesture에서 other label자리 매꾸기 ###############\n",
    "                if (which_data == 'DVS_GESTURE'):\n",
    "                    labels[labels>2] -= 1\n",
    "                #######################################################         \n",
    "                                \n",
    "                if merge_polarities == True:\n",
    "                    inputs = inputs[:,:,0,:,:]\n",
    "\n",
    "                if single_step == False:\n",
    "                    # net에 넣어줄때는 batch가 젤 앞 차원으로 와야함. # dataparallel때매##############################\n",
    "                    # inputs: [Time, Batch, Channel, Height, Width]   \n",
    "                    inputs = inputs.permute(1, 0, 2, 3, 4) # net에 넣어줄때는 batch가 젤 앞 차원으로 와야함. # dataparallel때매\n",
    "                    # inputs: [Batch, Time, Channel, Height, Width] \n",
    "                    #################################################################################################\n",
    "                else:\n",
    "                    labels = labels.repeat(TIME, 1)\n",
    "                    ## first input도 ottt trace 적용하기 위한 코드 (validation 시에는 필요X) ##########################\n",
    "                    if OTTT_input_trace_on == True:\n",
    "                        spike = inputs\n",
    "                        trace = torch.full_like(spike, fill_value = 0.0, dtype = torch.float, requires_grad=False)\n",
    "                        inputs = []\n",
    "                        for t in range(TIME):\n",
    "                            trace[t] = trace[t-1]*synapse_conv_trace_const2 + spike[t]*synapse_conv_trace_const1\n",
    "                            inputs += [[spike[t], trace[t]]]\n",
    "                    ##################################################################################################\n",
    "\n",
    "\n",
    "                if single_step == False:\n",
    "                    ### input --> net --> output #####################################################\n",
    "                    outputs = net(inputs)\n",
    "                    ##################################################################################\n",
    "                    ## loss, backward ##########################################\n",
    "                    iter_loss = criterion(outputs, labels)\n",
    "                    iter_loss.backward()\n",
    "                    ############################################################\n",
    "                    ## weight 업데이트!! ##################################\n",
    "                    optimizer.step()\n",
    "                    ################################################################\n",
    "                else:\n",
    "                    if UDA_on == False:\n",
    "                        outputs_all = []\n",
    "                        iter_loss = 0.0\n",
    "                        for t in range(TIME):\n",
    "                            ### input[t] --> net --> output_one_time #########################################\n",
    "                            outputs_one_time = net(inputs[t])\n",
    "                            ##################################################################################\n",
    "                            one_time_loss = criterion(outputs_one_time, labels[t].contiguous())\n",
    "                            one_time_loss.backward() # one_time backward\n",
    "                            iter_loss += one_time_loss.data\n",
    "                            outputs_all.append(outputs_one_time.detach())\n",
    "                        optimizer.step() # full step time update\n",
    "                        outputs_all = torch.stack(outputs_all, dim=1)\n",
    "                        outputs = outputs_all.mean(1) # ottt꺼 쓸때\n",
    "                        labels = labels[0]\n",
    "                        iter_loss /= TIME\n",
    "                    else:\n",
    "                        ## 근데 생각해보니까 걍 target에서 classifier만 backward 안 해주면 되는 거 아니냐\n",
    "\n",
    "                        iter_loss_domain = 0.0\n",
    "                        outputs_all = []\n",
    "                        outputs_all_domain = []\n",
    "                        iter_loss = 0.0\n",
    "\n",
    "                        if net.UDA_classifier_on == True:\n",
    "                            domain_labels = torch.full((TIME, real_batch), 1).to(device)\n",
    "                        else:\n",
    "                            domain_labels = torch.full((TIME, real_batch), 0).to(device)\n",
    "                            \n",
    "                        for t in range(TIME):\n",
    "                            ### input[t] --> net --> output_one_time #########################################\n",
    "                            outputs_one_time, UDA_adpater_out = net(inputs[t])\n",
    "                            one_time_loss_classifier = criterion(outputs_one_time, labels[t].contiguous())\n",
    "                            one_time_loss_domain = criterion(UDA_adpater_out, domain_labels[t].contiguous())\n",
    "                            one_time_loss_backward = 0\n",
    "                            if net.UDA_adapter_on == True:\n",
    "                                one_time_loss_backward += one_time_loss_domain * adapter_loss_weight\n",
    "                            if net.UDA_classifier_on == True:\n",
    "                                one_time_loss_backward += one_time_loss_classifier\n",
    "                            one_time_loss_backward.backward() # one_time backward\n",
    "                            iter_loss += one_time_loss_classifier.data\n",
    "                            iter_loss_domain += one_time_loss_domain.data\n",
    "                            outputs_all.append(outputs_one_time.detach())\n",
    "                            outputs_all_domain.append(UDA_adpater_out.detach())\n",
    "                            ##################################################################################\n",
    "                        optimizer.step() # full step time update\n",
    "                        outputs_all = torch.stack(outputs_all, dim=1)\n",
    "                        outputs = outputs_all.mean(1) # ottt꺼 쓸때\n",
    "                        labels = labels[0]\n",
    "                        outputs_all_domain = torch.stack(outputs_all_domain, dim=1)\n",
    "                        outputs_domain = outputs_all_domain.mean(1) # ottt꺼 쓸때\n",
    "                        domain_labels = domain_labels[0]\n",
    "                        iter_loss /= TIME\n",
    "                        iter_loss_domain /= TIME\n",
    "\n",
    "                if UDA_on == False:\n",
    "                    tr_epoch_loss_temp += iter_loss.data/len(train_loader)\n",
    "                else: \n",
    "                    if (net.UDA_classifier_on == True):\n",
    "                        tr_epoch_loss_temp += iter_loss.data/(len(train_loader)*src_trg_ratio/(src_trg_ratio+1))\n",
    "                    else:\n",
    "                        tr_epoch_loss_temp_target += iter_loss.data/(len(train_loader)*1/(src_trg_ratio+1))\n",
    "                    tr_epoch_loss_temp_domain += iter_loss.data/len(train_loader)\n",
    "\n",
    "                ## net 그림 출력해보기 #################################################################\n",
    "                # print('시각화')\n",
    "                # make_dot(outputs, params=dict(list(net.named_parameters()))).render(\"net_torchviz\", format=\"png\")\n",
    "                # return 0\n",
    "                ##################################################################################\n",
    "\n",
    "                #### batch 어긋남 방지 ###############################################\n",
    "                assert real_batch == outputs.size(0), f'batch size is not same. real_batch: {real_batch}, outputs.size(0): {outputs.size(0)}'\n",
    "                #######################################################################\n",
    "                \n",
    "\n",
    "                if UDA_on == False:\n",
    "                    ####### training accruacy save for print ###############################\n",
    "                    _, predicted = torch.max(outputs.data, 1)\n",
    "                    total = real_batch\n",
    "                    correct = (predicted == labels).sum().item()\n",
    "                    iter_acc = correct / total\n",
    "                    tr_total += total\n",
    "                    tr_correct += correct\n",
    "                    if i % verbose_interval == verbose_interval-1:\n",
    "                        if ddp_on == False or torch.distributed.get_rank() == 0:\n",
    "                            print(f'{epoch}-{i} training acc: {100 * iter_acc:.2f}%, lr={[f\"{lr}\" for lr in (param_group[\"lr\"] for param_group in optimizer.param_groups)]}, val_acc: {100 * val_acc_now:.2f}%')\n",
    "                    iter_acc_string = f'epoch-{epoch:<3} iter_acc:{100 * iter_acc:7.2f}%, lr={[f\"{lr:9.7f}\" for lr in (param_group[\"lr\"] for param_group in optimizer.param_groups)]}'\n",
    "                    iter_acc_string2 = f'epoch-{epoch:<3} lr={[f\"{lr:9.7f}\" for lr in (param_group[\"lr\"] for param_group in optimizer.param_groups)]}'\n",
    "                    ################################################################\n",
    "                else:\n",
    "                    ####### training accruacy save for print ###############################\n",
    "                    _, predicted = torch.max(outputs.data, 1)\n",
    "                    _, predicted_domain = torch.max(outputs_domain.data, 1)\n",
    "                    total = real_batch\n",
    "                    correct = (predicted == labels).sum().item()\n",
    "                    correct_domain = (predicted_domain == domain_labels).sum().item()\n",
    "                    iter_acc = correct / total\n",
    "                    iter_acc_domain = correct_domain / total\n",
    "                    if (net.UDA_classifier_on == True):\n",
    "                        tr_total += total\n",
    "                        tr_correct += correct\n",
    "                    else:\n",
    "                        tr_total_target += total\n",
    "                        tr_correct_target += correct\n",
    "                    tr_correct_domain += correct_domain\n",
    "                    tr_total_domain += total\n",
    "\n",
    "                    if i % verbose_interval == verbose_interval-1:\n",
    "                        if ddp_on == False or torch.distributed.get_rank() == 0:\n",
    "                            print(f'{epoch}-{i} training acc: {100 * iter_acc:.2f}%, lr={[f\"{lr}\" for lr in (param_group[\"lr\"] for param_group in optimizer.param_groups)]}, val_acc: {100 * val_acc_now:.2f}%')\n",
    "                    iter_acc_string = f'epoch-{epoch:<3} iter_acc:{100 * iter_acc:7.2f}%, lr={[f\"{lr:9.7f}\" for lr in (param_group[\"lr\"] for param_group in optimizer.param_groups)]}'\n",
    "                    iter_acc_string2 = f'epoch-{epoch:<3} lr={[f\"{lr:9.7f}\" for lr in (param_group[\"lr\"] for param_group in optimizer.param_groups)]}'\n",
    "                    ################################################################\n",
    "\n",
    "\n",
    "\n",
    "\n",
    "            iter_one_train_time_end = time.time()\n",
    "            elapsed_time = iter_one_train_time_end - iter_one_train_time_start  # 실행 시간 계산\n",
    "\n",
    "            if (i % verbose_interval == verbose_interval-1):\n",
    "                if ddp_on == False or torch.distributed.get_rank() == 0:\n",
    "                    print(f\"iter_one_train_time: {elapsed_time} seconds, last one_val_time: {elapsed_time_val} seconds\\n\")\n",
    "            \n",
    "            ##### validation ##################################################################################################################################\n",
    "            if i % validation_interval2 == validation_interval2-1 :\n",
    "                iter_one_val_time_start = time.time()\n",
    "                tr_acc = tr_correct/tr_total\n",
    "                tr_correct = 0\n",
    "                tr_total = 0\n",
    "                if UDA_on == True:\n",
    "                    tr_acc_target = tr_correct_target/tr_total_target\n",
    "                    tr_correct_target = 0\n",
    "                    tr_total_target = 0\n",
    "                    tr_acc_domain = tr_correct_domain/tr_total_domain\n",
    "                    tr_correct_domain = 0\n",
    "                    tr_total_domain = 0\n",
    "\n",
    "                domain_index = 0\n",
    "                val_loss_set = []\n",
    "                val_acc_now_set = []\n",
    "                while True:\n",
    "                    val_loss = 0\n",
    "                    correct_val = 0\n",
    "                    total_val = 0\n",
    "                    test_loader = test_loader_domain_set[domain_index]\n",
    "                    domain_index = domain_index + 1\n",
    "\n",
    "                    with torch.no_grad():\n",
    "                        net.eval() # eval 모드로 바꿔줘야함 \n",
    "                        for data_val in test_loader:\n",
    "                            ## data_val loading & semi-pre-processing ##########################################################\n",
    "                            if len(data_val) == 2:\n",
    "                                inputs_val, labels_val = data_val\n",
    "                                # 처리 로직 작성\n",
    "                            elif len(data_val) == 3:\n",
    "                                inputs_val, labels_val, x_len = data_val\n",
    "                                # print('x_len',x_len)\n",
    "                                # mask = padded_sequence_mask(x_len)\n",
    "                                # max_time_step = x_len.max()\n",
    "                                # min_time_step = x_len.min()\n",
    "                                # B, T, *spatial_dims = inputs_val.shape\n",
    "                            else:\n",
    "                                assert False, 'data_val length is not 2 or 3'\n",
    "\n",
    "                            if (which_data == 'DVS_CIFAR10' or which_data == 'DVS_GESTURE' or which_data == 'DVS_GESTURE_TONIC' or which_data == 'DVS_CIFAR10_2' or which_data == 'NMNIST' or which_data == 'NMNIST_TONIC' or which_data == 'N_CALTECH101' or which_data == 'n_tidigits' or which_data == 'heidelberg'):\n",
    "                                inputs_val = inputs_val.permute(1, 0, 2, 3, 4)\n",
    "                            elif rate_coding == True :\n",
    "                                inputs_val = spikegen.rate(inputs_val, num_steps=TIME)\n",
    "                            else :\n",
    "                                inputs_val = inputs_val.repeat(TIME, 1, 1, 1, 1)\n",
    "                            # inputs_val: [Time, Batch, Channel, Height, Width]  \n",
    "                            ###################################################################################################\n",
    "                            \n",
    "                            ## initial pooling #######################################################################\n",
    "                            if (initial_pooling > 1):\n",
    "                                pool = nn.MaxPool2d(kernel_size=2)\n",
    "                                num_pooling_layers = int(math.log2(initial_pooling))\n",
    "                                # Time, Batch, Channel 차원은 그대로 두고, Height, Width 차원에 대해서만 pooling 적용\n",
    "                                shape_temp = inputs_val.shape\n",
    "                                inputs_val = inputs_val.reshape(shape_temp[0]*shape_temp[1], shape_temp[2], shape_temp[3], shape_temp[4])\n",
    "                                for _ in range(num_pooling_layers):\n",
    "                                    inputs_val = pool(inputs_val)\n",
    "                                inputs_val = inputs_val.reshape(shape_temp[0], shape_temp[1], shape_temp[2], shape_temp[3]//initial_pooling, shape_temp[4]//initial_pooling)\n",
    "                            ## initial pooling #######################################################################\n",
    "\n",
    "                            ## temporal filtering ####################################################################\n",
    "                            shape_temp = inputs_val.shape\n",
    "                            if (temporal_filter > 1):\n",
    "                                slice_bucket = []\n",
    "                                for t_temp in range(TIME):\n",
    "                                    start = t_temp * temporal_filter\n",
    "                                    end = start + temporal_filter\n",
    "                                    slice_concat = torch.movedim(inputs_val[start:end], 0, 1).reshape(shape_temp[1],shape_temp[2],shape_temp[3],-1)\n",
    "                                    slice_bucket.append(slice_concat)\n",
    "                                inputs_val = torch.stack(slice_bucket, dim=0)\n",
    "                            ## temporal filtering ####################################################################\n",
    "                            \n",
    "                            inputs_val = inputs_val.to(device)\n",
    "                            labels_val = labels_val.to(device)\n",
    "                            real_batch = labels_val.size(0)\n",
    "                            \n",
    "                            ## DVS gesture에서 other label자리 매꾸기 ###############\n",
    "                            if (which_data == 'DVS_GESTURE'):\n",
    "                                labels_val[labels_val>2] -= 1\n",
    "                            #######################################################\n",
    "                            \n",
    "                            if merge_polarities == True:\n",
    "                                inputs_val = inputs_val[:,:,0,:,:]\n",
    "\n",
    "                            ## network 연산 시작 ############################################################################################################\n",
    "                            if single_step == False:\n",
    "                                outputs = net(inputs_val.permute(1, 0, 2, 3, 4)) #inputs_val: [Batch, Time, Channel, Height, Width]  \n",
    "                                val_loss_val += criterion(outputs, labels_val)/len(test_loader)\n",
    "                            else:\n",
    "                                outputs_all = []\n",
    "                                if UDA_on == True:\n",
    "                                    net.UDA_classifier_on = True\n",
    "                                for t in range(TIME):\n",
    "                                    outputs = net(inputs_val[t])\n",
    "                                    if UDA_on == True:\n",
    "                                        outputs = outputs[0] # classifier의 output만 사용.\n",
    "                                    val_loss_temp = criterion(outputs, labels_val)\n",
    "                                    outputs_all.append(outputs.detach())\n",
    "                                    val_loss += (val_loss_temp.data/TIME)/len(test_loader)\n",
    "                                outputs_all = torch.stack(outputs_all, dim=1)\n",
    "                                outputs = outputs_all.mean(1)\n",
    "                            val_loss_set.append(val_loss)\n",
    "                            #################################################################################################################################\n",
    "\n",
    "                            _, predicted = torch.max(outputs.data, 1)\n",
    "                            total_val += real_batch\n",
    "                            assert real_batch == outputs.size(0), f'batch size is not same. real_batch: {real_batch}, outputs.size(0): {outputs.size(0)}'\n",
    "                            correct_val += (predicted == labels_val).sum().item()\n",
    "\n",
    "                        val_acc_now = correct_val / total_val\n",
    "                        # print(f'{epoch}-{i} validation acc: {100 * val_acc_now:.2f}%, lr={[f\"{lr:.10f}\" for lr in (param_group[\"lr\"] for param_group in optimizer.param_groups)]}')\n",
    "                        val_acc_now_set.append(val_acc_now)\n",
    "\n",
    "                    if domain_index == len(dvs_duration_domain) + 1:\n",
    "                        break\n",
    "\n",
    "                val_loss = val_loss_set[0]\n",
    "                val_acc_now = val_acc_now_set[0]\n",
    "\n",
    "                iter_one_val_time_end = time.time()\n",
    "                elapsed_time_val = iter_one_val_time_end - iter_one_val_time_start  # 실행 시간 계산\n",
    "                # print(f\"iter_one_val_time: {elapsed_time_val} seconds\")\n",
    "\n",
    "                # network save\n",
    "                if val_acc_best < val_acc_now:\n",
    "                    val_acc_best = val_acc_now\n",
    "                    if ddp_on == False or torch.distributed.get_rank() == 0:\n",
    "                        # wandb 키면 state_dict아닌거는 저장 안됨\n",
    "                        torch.save(net.state_dict(), f\"net_save/save_now_net_weights_{unique_name}.pth\")\n",
    "                        # torch.save(net, f\"net_save/save_now_net_{unique_name}.pth\")\n",
    "                        # torch.save(net.module.state_dict(), f\"net_save/save_now_net_weights2_{unique_name}.pth\")\n",
    "                        # torch.save(net.module, f\"net_save/save_now_net2_{unique_name}.pth\")\n",
    "                    no_val_best_growth_count = 0\n",
    "                else:\n",
    "                    no_val_best_growth_count = no_val_best_growth_count + 1\n",
    "\n",
    "                if tr_acc_best < tr_acc:\n",
    "                    tr_acc_best = tr_acc\n",
    "                    no_tr_best_growth_count = 0\n",
    "                else:\n",
    "                    no_tr_best_growth_count = no_tr_best_growth_count + 1\n",
    "\n",
    "                tr_epoch_loss = tr_epoch_loss_temp\n",
    "                tr_epoch_loss_temp = 0\n",
    "                tr_epoch_loss_target = tr_epoch_loss_temp_target \n",
    "                tr_epoch_loss_temp_target = 0\n",
    "                tr_epoch_loss_domain = tr_epoch_loss_temp_domain\n",
    "                tr_epoch_loss_temp_domain = 0\n",
    "                if (UDA_on == True):\n",
    "                    print(f\"Domain loss,acc: {tr_epoch_loss_domain:.6f}, {100 * tr_acc_domain:.2f}% Target domain: tr_loss-{tr_epoch_loss_target:.6f}, tr_acc-{100 * tr_acc_target:.2f}%\")\n",
    "\n",
    "                if DFA_toggle == True:\n",
    "                    DFA_flag = 1.0 - DFA_flag\n",
    "                    DFA_toggle = False\n",
    "\n",
    "                iter_of_val = True\n",
    "            ####################################################################################################################################################\n",
    "            \n",
    "            ## progress bar update ############################################################################################################\n",
    "            if ddp_on == False or torch.distributed.get_rank() == 0:\n",
    "                if iter_of_val == False:\n",
    "                    iterator.set_description(f\"{iter_acc_string}, iter_loss:{iter_loss:10.6f}, val_best:{100 * val_acc_best:7.2f}%\")  \n",
    "                else:\n",
    "                    iterator.set_description(f\"{iter_acc_string2}, tr/val_loss:{tr_epoch_loss:10.6f}/{val_loss:10.6f}, tr:{100 * tr_acc:7.2f}%, val:{100 * val_acc_now:7.2f}%, val_best:{100 * val_acc_best:7.2f}%\")  \n",
    "\n",
    "                    if len(dvs_duration_domain) > 0:\n",
    "                        dvs_duration_full = [(dvs_duration, dvs_clipping, denoise_on, TIME)] + dvs_duration_domain\n",
    "                        val_acc_now_set_best = [max(past, now) for past, now in zip(val_acc_now_set_past, val_acc_now_set)]\n",
    "                        print(\" | \".join(f\"{dvs_duration_full[d_count][0]:,}c{dvs_duration_full[d_count][1]}d{dvs_duration_full[d_count][2]}t{dvs_duration_full[d_count][3]}:{val_acc_now_set[d_count]*100:.2f}%:{val_acc_now_set_best[d_count]*100:.2f}%\" for d_count in range(len(val_acc_now_set))))\n",
    "                        val_acc_now_set_past = val_acc_now_set_best\n",
    "                    iter_of_val = False\n",
    "            \n",
    "            ####################################################################################################################################\n",
    "            \n",
    "            ## wandb logging ############################################################################################################\n",
    "            if ddp_on == False or torch.distributed.get_rank() == 0:\n",
    "                wandb.log({\"iter_acc\": iter_acc})\n",
    "                wandb.log({\"tr_acc\": tr_acc})\n",
    "                wandb.log({\"val_acc_now\": val_acc_now})\n",
    "                wandb.log({\"val_acc_best\": val_acc_best})\n",
    "                wandb.log({\"summary_val_acc\": val_acc_now})\n",
    "                wandb.log({\"epoch\": epoch})\n",
    "                wandb.log({\"DFA_flag\": DFA_flag}) # DFA mode 바뀌자 마자 바뀌는 게 아니고 validation 한번 했을 때 바뀜.\n",
    "                wandb.log({\"val_loss\": val_loss}) \n",
    "                wandb.log({\"tr_epoch_loss\": tr_epoch_loss})   \n",
    "                if len(val_acc_now_set) > 1:\n",
    "                    wandb.log({\"val_acc_now_set[1]\": val_acc_now_set[1]}) \n",
    "                    wandb.log({\"val_acc_now_set[1]_best\": val_acc_now_set_best[1]}) \n",
    "            ####################################################################################################################################\n",
    "            \n",
    "            \n",
    "            ## accuray 로컬에 저장 하기 위한 코드 #####################################################################################\n",
    "            iter_acc_array = np.append(iter_acc_array, iter_acc)\n",
    "            tr_acc_array = np.append(tr_acc_array, tr_acc)\n",
    "            val_acc_now_array = np.append(val_acc_now_array, val_acc_now)\n",
    "            base_name = f'{current_time}'\n",
    "            ####################################################################################################################\n",
    "            \n",
    "            iter_acc_file_name_time = f'result_save/{base_name}_iter_acc_array_{unique_name}.npy'\n",
    "            tr_acc_file_name_time = f'result_save/{base_name}_tr_acc_array_{unique_name}.npy'\n",
    "            val_acc_file_name_time = f'result_save/{base_name}_val_acc_now_array_{unique_name}.npy'\n",
    "            hyperparameters_file_name_time = f'result_save/{base_name}_hyperparameters_{unique_name}.json'\n",
    "\n",
    "            hyperparameters['current epoch'] = epoch\n",
    "\n",
    "            ### accuracy 세이브: 덮어쓰기 하기 싫으면 주석 풀어서 사용 (시간마다 새로 쓰기) 비추천 ########################\n",
    "            # if ddp_on == False or torch.distributed.get_rank() == 0:\n",
    "            #     np.save(iter_acc_file_name_time, iter_acc_array)\n",
    "\n",
    "\n",
    "            #     np.save(tr_acc_file_name_time, iter_acc_array)\n",
    "            #     np.save(val_acc_file_name_time, val_acc_now_array)\n",
    "            #     with open(hyperparameters_file_name_time, 'w') as f:\n",
    "            #         json.dump(hyperparameters, f, indent=4)\n",
    "            #########################################################################################################\n",
    "\n",
    "            ## accuracy 세이브 ###########################################################################################\n",
    "            if ddp_on == False or torch.distributed.get_rank() == 0:\n",
    "                np.save(f'result_save/iter_acc_array_{unique_name}.npy', iter_acc_array)\n",
    "                np.save(f'result_save/tr_acc_array_{unique_name}.npy', tr_acc_array)\n",
    "                np.save(f'result_save/val_acc_now_array_{unique_name}.npy', val_acc_now_array)\n",
    "                with open(f'result_save/hyperparameters_{unique_name}.json', 'w') as f:\n",
    "                    json.dump(hyperparameters, f, indent=4)\n",
    "            ##########################################################################################################\n",
    "            # iterator.update(1)\n",
    "        ###### ITERATION END ##########################################################################################################\n",
    "                \n",
    "\n",
    "        ## scheduler update #############################################################################\n",
    "        if (scheduler_name != 'no'):\n",
    "            if (scheduler_name == 'ReduceLROnPlateau'):\n",
    "                scheduler.step(val_loss)\n",
    "            else:\n",
    "                scheduler.step()\n",
    "        #################################################################################################\n",
    "        \n",
    "        # 실행 시간 계산\n",
    "        epoch_time_end = time.time()\n",
    "        # print(f\"epoch_time: {epoch_time_end - epoch_start_time} seconds\\n\") \n",
    "    #======== EPOCH END ==========================================================================================\n"
   ]
  },
  {
   "cell_type": "code",
   "execution_count": 6,
   "metadata": {},
   "outputs": [
    {
     "name": "stderr",
     "output_type": "stream",
     "text": [
      "Failed to detect the name of this notebook, you can set it manually with the WANDB_NOTEBOOK_NAME environment variable to enable code saving.\n",
      "\u001b[34m\u001b[1mwandb\u001b[0m: Currently logged in as: \u001b[33mbhkim003\u001b[0m (\u001b[33mbhkim003-seoul-national-university\u001b[0m). Use \u001b[1m`wandb login --relogin`\u001b[0m to force relogin\n"
     ]
    },
    {
     "data": {
      "text/html": [
       "wandb version 0.18.3 is available!  To upgrade, please run:\n",
       " $ pip install wandb --upgrade"
      ],
      "text/plain": [
       "<IPython.core.display.HTML object>"
      ]
     },
     "metadata": {},
     "output_type": "display_data"
    },
    {
     "data": {
      "text/html": [
       "Tracking run with wandb version 0.17.5"
      ],
      "text/plain": [
       "<IPython.core.display.HTML object>"
      ]
     },
     "metadata": {},
     "output_type": "display_data"
    },
    {
     "data": {
      "text/html": [
       "Run data is saved locally in <code>/nfs/home/bhkim003/github_folder/ByeonghyeonKim/my_snn/wandb/run-20241014_224026-6qchxukr</code>"
      ],
      "text/plain": [
       "<IPython.core.display.HTML object>"
      ]
     },
     "metadata": {},
     "output_type": "display_data"
    },
    {
     "data": {
      "text/html": [
       "Syncing run <strong><a href='https://wandb.ai/bhkim003-seoul-national-university/my_snn%20main/runs/6qchxukr' target=\"_blank\">eternal-wood-6292</a></strong> to <a href='https://wandb.ai/bhkim003-seoul-national-university/my_snn%20main' target=\"_blank\">Weights & Biases</a> (<a href='https://wandb.me/run' target=\"_blank\">docs</a>)<br/>"
      ],
      "text/plain": [
       "<IPython.core.display.HTML object>"
      ]
     },
     "metadata": {},
     "output_type": "display_data"
    },
    {
     "data": {
      "text/html": [
       " View project at <a href='https://wandb.ai/bhkim003-seoul-national-university/my_snn%20main' target=\"_blank\">https://wandb.ai/bhkim003-seoul-national-university/my_snn%20main</a>"
      ],
      "text/plain": [
       "<IPython.core.display.HTML object>"
      ]
     },
     "metadata": {},
     "output_type": "display_data"
    },
    {
     "data": {
      "text/html": [
       " View run at <a href='https://wandb.ai/bhkim003-seoul-national-university/my_snn%20main/runs/6qchxukr' target=\"_blank\">https://wandb.ai/bhkim003-seoul-national-university/my_snn%20main/runs/6qchxukr</a>"
      ],
      "text/plain": [
       "<IPython.core.display.HTML object>"
      ]
     },
     "metadata": {},
     "output_type": "display_data"
    },
    {
     "name": "stdout",
     "output_type": "stream",
     "text": [
      "dataset_hash = 1ecf230567867c0f4b7270e24e165394\n",
      "cache path exists\n",
      "dataset_hash = 1ecf230567867c0f4b7270e24e165394\n",
      "cache path exists\n",
      "dataset_hash = d3157d0d68e4244c5c5ff3cd172ac268\n",
      "cache path exists\n",
      "\n",
      " src img count 653 trg img count 326 \n",
      "\n",
      "dataset_hash = d3157d0d68e4244c5c5ff3cd172ac268\n",
      "cache path exists\n",
      "In UDA mode, No parameter number calculation yet.\n",
      "\n",
      "device ==> cuda\n",
      "\n",
      "DataParallel(\n",
      "  (module): MY_SNN_FC_sstep(\n",
      "    (UDA_feature_layers): MY_Sequential(\n",
      "      (0): DimChanger_for_FC_sstep()\n",
      "      (1): SYNAPSE_FC_trace_sstep()\n",
      "      (2): LIF_layer_trace_sstep()\n",
      "    )\n",
      "    (UDA_classifier_layers): MY_Sequential(\n",
      "      (0): SYNAPSE_FC_trace_sstep()\n",
      "      (1): LIF_layer_trace_sstep()\n",
      "      (2): SYNAPSE_FC_trace_sstep()\n",
      "    )\n",
      "    (UDA_adapter_layers): MY_Sequential(\n",
      "      (0): Gradient_Reversal_Layer()\n",
      "      (1): SYNAPSE_FC_trace_sstep()\n",
      "      (2): LIF_layer_trace_sstep()\n",
      "      (3): SYNAPSE_FC_trace_sstep()\n",
      "    )\n",
      "  )\n",
      ")\n",
      "==================================================\n",
      "My Num of PARAMS: 0, system's param_num : 492,612\n",
      "Memory: 0.00MiB at 32-bit\n",
      "==================================================\n"
     ]
    },
    {
     "name": "stderr",
     "output_type": "stream",
     "text": [
      "epoch-0   lr=['0.0010000'], tr/val_loss:  3.436470/  2.239358, tr:  10.87%, val:  14.58%, val_best:  14.58%: 100%|██████████| 41/41 [00:08<00:00,  4.92it/s]"
     ]
    },
    {
     "name": "stdout",
     "output_type": "stream",
     "text": [
      "Domain loss,acc: 3.467435, 33.71% Target domain: tr_loss-3.529365, tr_acc-16.26%\n",
      "100,000c4dTruet10:14.58%:14.58% | 100,000c4dFalset10:18.75%:18.75%\n"
     ]
    },
    {
     "name": "stderr",
     "output_type": "stream",
     "text": [
      "\n",
      "epoch-1   lr=['0.0010000'], tr/val_loss:  3.005794/  1.877406, tr:  32.77%, val:  43.33%, val_best:  43.33%: 100%|██████████| 41/41 [00:07<00:00,  5.49it/s]"
     ]
    },
    {
     "name": "stdout",
     "output_type": "stream",
     "text": [
      "Domain loss,acc: 3.075924, 49.34% Target domain: tr_loss-3.216186, tr_acc-21.78%\n",
      "100,000c4dTruet10:43.33%:43.33% | 100,000c4dFalset10:33.33%:33.33%\n"
     ]
    },
    {
     "name": "stderr",
     "output_type": "stream",
     "text": [
      "\n",
      "epoch-2   lr=['0.0010000'], tr/val_loss:  2.465101/  1.644442, tr:  52.53%, val:  53.75%, val_best:  53.75%: 100%|██████████| 41/41 [00:07<00:00,  5.23it/s]"
     ]
    },
    {
     "name": "stdout",
     "output_type": "stream",
     "text": [
      "Domain loss,acc: 2.572303, 52.91% Target domain: tr_loss-2.786708, tr_acc-37.73%\n",
      "100,000c4dTruet10:53.75%:53.75% | 100,000c4dFalset10:36.25%:36.25%\n"
     ]
    },
    {
     "name": "stderr",
     "output_type": "stream",
     "text": [
      "\n",
      "epoch-3   lr=['0.0010000'], tr/val_loss:  2.007187/  1.495925, tr:  65.08%, val:  55.42%, val_best:  55.42%:  95%|█████████▌| 39/41 [00:07<00:00, 11.84it/s]"
     ]
    },
    {
     "name": "stdout",
     "output_type": "stream",
     "text": [
      "Domain loss,acc: 2.094965, 56.89% Target domain: tr_loss-2.270519, tr_acc-49.69%\n",
      "100,000c4dTruet10:55.42%:55.42% | 100,000c4dFalset10:44.58%:44.58%\n"
     ]
    },
    {
     "name": "stderr",
     "output_type": "stream",
     "text": [
      "epoch-3   lr=['0.0010000'], tr/val_loss:  2.007187/  1.495925, tr:  65.08%, val:  55.42%, val_best:  55.42%: 100%|██████████| 41/41 [00:08<00:00,  4.96it/s]\n",
      "epoch-4   lr=['0.0010000'], tr/val_loss:  1.793205/  1.426106, tr:  65.70%, val:  61.25%, val_best:  61.25%: 100%|██████████| 41/41 [00:11<00:00,  3.59it/s]"
     ]
    },
    {
     "name": "stdout",
     "output_type": "stream",
     "text": [
      "Domain loss,acc: 1.924934, 58.22% Target domain: tr_loss-2.188392, tr_acc-52.45%\n",
      "100,000c4dTruet10:61.25%:61.25% | 100,000c4dFalset10:46.25%:46.25%\n"
     ]
    },
    {
     "name": "stderr",
     "output_type": "stream",
     "text": [
      "\n",
      "epoch-5   lr=['0.0010000'], tr/val_loss:  1.632774/  1.327142, tr:  67.53%, val:  64.58%, val_best:  64.58%: 100%|██████████| 41/41 [00:07<00:00,  5.13it/s]"
     ]
    },
    {
     "name": "stdout",
     "output_type": "stream",
     "text": [
      "Domain loss,acc: 1.822888, 59.24% Target domain: tr_loss-2.203117, tr_acc-52.76%\n",
      "100,000c4dTruet10:64.58%:64.58% | 100,000c4dFalset10:51.67%:51.67%\n"
     ]
    },
    {
     "name": "stderr",
     "output_type": "stream",
     "text": [
      "\n",
      "epoch-6   lr=['0.0010000'], tr/val_loss:  1.486416/  1.339833, tr:  74.89%, val:  62.92%, val_best:  64.58%: 100%|██████████| 41/41 [00:07<00:00,  5.72it/s]"
     ]
    },
    {
     "name": "stdout",
     "output_type": "stream",
     "text": [
      "Domain loss,acc: 1.703576, 60.37% Target domain: tr_loss-2.137897, tr_acc-51.53%\n",
      "100,000c4dTruet10:62.92%:64.58% | 100,000c4dFalset10:48.75%:51.67%\n"
     ]
    },
    {
     "name": "stderr",
     "output_type": "stream",
     "text": [
      "\n",
      "epoch-7   lr=['0.0010000'], tr/val_loss:  1.373024/  1.335903, tr:  78.41%, val:  63.75%, val_best:  64.58%: 100%|██████████| 41/41 [00:07<00:00,  5.55it/s]"
     ]
    },
    {
     "name": "stdout",
     "output_type": "stream",
     "text": [
      "Domain loss,acc: 1.611281, 58.94% Target domain: tr_loss-2.087795, tr_acc-56.44%\n",
      "100,000c4dTruet10:63.75%:64.58% | 100,000c4dFalset10:47.92%:51.67%\n"
     ]
    },
    {
     "name": "stderr",
     "output_type": "stream",
     "text": [
      "\n",
      "epoch-8   lr=['0.0010000'], tr/val_loss:  1.286717/  1.376861, tr:  79.63%, val:  60.42%, val_best:  64.58%: 100%|██████████| 41/41 [00:07<00:00,  5.56it/s]"
     ]
    },
    {
     "name": "stdout",
     "output_type": "stream",
     "text": [
      "Domain loss,acc: 1.590002, 59.86% Target domain: tr_loss-2.196571, tr_acc-51.53%\n",
      "100,000c4dTruet10:60.42%:64.58% | 100,000c4dFalset10:49.17%:51.67%\n"
     ]
    },
    {
     "name": "stderr",
     "output_type": "stream",
     "text": [
      "\n",
      "epoch-9   lr=['0.0010000'], tr/val_loss:  1.215649/  1.364584, tr:  80.25%, val:  60.83%, val_best:  64.58%: 100%|██████████| 41/41 [00:07<00:00,  5.14it/s]"
     ]
    },
    {
     "name": "stdout",
     "output_type": "stream",
     "text": [
      "Domain loss,acc: 1.530335, 59.75% Target domain: tr_loss-2.159708, tr_acc-54.91%\n",
      "100,000c4dTruet10:60.83%:64.58% | 100,000c4dFalset10:47.50%:51.67%\n"
     ]
    },
    {
     "name": "stderr",
     "output_type": "stream",
     "text": [
      "\n",
      "epoch-10  lr=['0.0010000'], tr/val_loss:  1.122357/  1.289240, tr:  83.92%, val:  70.42%, val_best:  70.42%: 100%|██████████| 41/41 [00:07<00:00,  5.23it/s]"
     ]
    },
    {
     "name": "stdout",
     "output_type": "stream",
     "text": [
      "Domain loss,acc: 1.473240, 60.98% Target domain: tr_loss-2.175005, tr_acc-53.68%\n",
      "100,000c4dTruet10:70.42%:70.42% | 100,000c4dFalset10:49.17%:51.67%\n"
     ]
    },
    {
     "name": "stderr",
     "output_type": "stream",
     "text": [
      "\n",
      "epoch-11  lr=['0.0010000'], tr/val_loss:  1.032390/  1.281978, tr:  89.59%, val:  68.75%, val_best:  70.42%: 100%|██████████| 41/41 [00:10<00:00,  3.82it/s]"
     ]
    },
    {
     "name": "stdout",
     "output_type": "stream",
     "text": [
      "Domain loss,acc: 1.446447, 60.27% Target domain: tr_loss-2.274560, tr_acc-54.91%\n",
      "100,000c4dTruet10:68.75%:70.42% | 100,000c4dFalset10:49.58%:51.67%\n"
     ]
    },
    {
     "name": "stderr",
     "output_type": "stream",
     "text": [
      "\n",
      "epoch-12  lr=['0.0010000'], tr/val_loss:  0.973333/  1.301131, tr:  86.83%, val:  64.58%, val_best:  70.42%: 100%|██████████| 41/41 [00:07<00:00,  5.36it/s]"
     ]
    },
    {
     "name": "stdout",
     "output_type": "stream",
     "text": [
      "Domain loss,acc: 1.393475, 61.29% Target domain: tr_loss-2.233758, tr_acc-53.37%\n",
      "100,000c4dTruet10:64.58%:70.42% | 100,000c4dFalset10:46.25%:51.67%\n"
     ]
    },
    {
     "name": "stderr",
     "output_type": "stream",
     "text": [
      "\n",
      "epoch-13  lr=['0.0010000'], tr/val_loss:  0.884194/  1.286273, tr:  89.74%, val:  71.67%, val_best:  71.67%: 100%|██████████| 41/41 [00:07<00:00,  5.57it/s]"
     ]
    },
    {
     "name": "stdout",
     "output_type": "stream",
     "text": [
      "Domain loss,acc: 1.352395, 60.67% Target domain: tr_loss-2.288798, tr_acc-56.75%\n",
      "100,000c4dTruet10:71.67%:71.67% | 100,000c4dFalset10:52.92%:52.92%\n"
     ]
    },
    {
     "name": "stderr",
     "output_type": "stream",
     "text": [
      "\n",
      "epoch-14  lr=['0.0010000'], tr/val_loss:  0.836704/  1.454081, tr:  92.34%, val:  63.75%, val_best:  71.67%:  98%|█████████▊| 40/41 [00:08<00:00,  5.92it/s]"
     ]
    },
    {
     "name": "stdout",
     "output_type": "stream",
     "text": [
      "Domain loss,acc: 1.323263, 60.37% Target domain: tr_loss-2.296382, tr_acc-54.60%\n",
      "100,000c4dTruet10:63.75%:71.67% | 100,000c4dFalset10:49.58%:52.92%\n"
     ]
    },
    {
     "name": "stderr",
     "output_type": "stream",
     "text": [
      "epoch-14  lr=['0.0010000'], tr/val_loss:  0.836704/  1.454081, tr:  92.34%, val:  63.75%, val_best:  71.67%: 100%|██████████| 41/41 [00:09<00:00,  4.48it/s]\n",
      "epoch-15  lr=['0.0010000'], tr/val_loss:  0.761770/  1.316878, tr:  90.66%, val:  68.33%, val_best:  71.67%: 100%|██████████| 41/41 [00:09<00:00,  4.54it/s]"
     ]
    },
    {
     "name": "stdout",
     "output_type": "stream",
     "text": [
      "Domain loss,acc: 1.297585, 62.10% Target domain: tr_loss-2.369215, tr_acc-59.82%\n",
      "100,000c4dTruet10:68.33%:71.67% | 100,000c4dFalset10:47.08%:52.92%\n"
     ]
    },
    {
     "name": "stderr",
     "output_type": "stream",
     "text": [
      "\n",
      "epoch-16  lr=['0.0010000'], tr/val_loss:  0.685263/  1.360575, tr:  95.41%, val:  67.92%, val_best:  71.67%: 100%|██████████| 41/41 [00:07<00:00,  5.55it/s]"
     ]
    },
    {
     "name": "stdout",
     "output_type": "stream",
     "text": [
      "Domain loss,acc: 1.242820, 61.29% Target domain: tr_loss-2.357937, tr_acc-59.82%\n",
      "100,000c4dTruet10:67.92%:71.67% | 100,000c4dFalset10:45.00%:52.92%\n"
     ]
    },
    {
     "name": "stderr",
     "output_type": "stream",
     "text": [
      "\n",
      "epoch-17  lr=['0.0010000'], tr/val_loss:  0.653825/  1.377323, tr:  94.79%, val:  72.08%, val_best:  72.08%: 100%|██████████| 41/41 [00:07<00:00,  5.40it/s]"
     ]
    },
    {
     "name": "stdout",
     "output_type": "stream",
     "text": [
      "Domain loss,acc: 1.237589, 61.59% Target domain: tr_loss-2.405116, tr_acc-55.21%\n",
      "100,000c4dTruet10:72.08%:72.08% | 100,000c4dFalset10:52.08%:52.92%\n"
     ]
    },
    {
     "name": "stderr",
     "output_type": "stream",
     "text": [
      "\n",
      "epoch-18  lr=['0.0010000'], tr/val_loss:  0.594773/  1.348413, tr:  97.09%, val:  74.58%, val_best:  74.58%: 100%|██████████| 41/41 [00:09<00:00,  4.55it/s]"
     ]
    },
    {
     "name": "stdout",
     "output_type": "stream",
     "text": [
      "Domain loss,acc: 1.216801, 61.49% Target domain: tr_loss-2.460857, tr_acc-59.82%\n",
      "100,000c4dTruet10:74.58%:74.58% | 100,000c4dFalset10:51.67%:52.92%\n"
     ]
    },
    {
     "name": "stderr",
     "output_type": "stream",
     "text": [
      "\n",
      "epoch-19  lr=['0.0010000'], tr/val_loss:  0.529169/  1.425999, tr:  98.01%, val:  68.75%, val_best:  74.58%: 100%|██████████| 41/41 [00:07<00:00,  5.46it/s]"
     ]
    },
    {
     "name": "stdout",
     "output_type": "stream",
     "text": [
      "Domain loss,acc: 1.186187, 60.78% Target domain: tr_loss-2.500224, tr_acc-61.96%\n",
      "100,000c4dTruet10:68.75%:74.58% | 100,000c4dFalset10:48.33%:52.92%\n"
     ]
    },
    {
     "name": "stderr",
     "output_type": "stream",
     "text": [
      "\n",
      "epoch-20  lr=['0.0010000'], tr/val_loss:  0.476510/  1.431281, tr:  99.39%, val:  73.33%, val_best:  74.58%: 100%|██████████| 41/41 [00:07<00:00,  5.33it/s]"
     ]
    },
    {
     "name": "stdout",
     "output_type": "stream",
     "text": [
      "Domain loss,acc: 1.137380, 61.39% Target domain: tr_loss-2.459120, tr_acc-63.50%\n",
      "100,000c4dTruet10:73.33%:74.58% | 100,000c4dFalset10:48.75%:52.92%\n"
     ]
    },
    {
     "name": "stderr",
     "output_type": "stream",
     "text": [
      "\n",
      "epoch-21  lr=['0.0010000'], tr/val_loss:  0.450911/  1.478370, tr:  98.93%, val:  74.17%, val_best:  74.58%: 100%|██████████| 41/41 [00:07<00:00,  5.41it/s]"
     ]
    },
    {
     "name": "stdout",
     "output_type": "stream",
     "text": [
      "Domain loss,acc: 1.148518, 60.98% Target domain: tr_loss-2.543734, tr_acc-60.12%\n",
      "100,000c4dTruet10:74.17%:74.58% | 100,000c4dFalset10:52.50%:52.92%\n"
     ]
    },
    {
     "name": "stderr",
     "output_type": "stream",
     "text": [
      "\n",
      "epoch-22  lr=['0.0010000'], tr/val_loss:  0.414854/  1.481599, tr:  99.08%, val:  74.17%, val_best:  74.58%: 100%|██████████| 41/41 [00:10<00:00,  4.01it/s]"
     ]
    },
    {
     "name": "stdout",
     "output_type": "stream",
     "text": [
      "Domain loss,acc: 1.128803, 60.16% Target domain: tr_loss-2.556702, tr_acc-63.19%\n",
      "100,000c4dTruet10:74.17%:74.58% | 100,000c4dFalset10:49.58%:52.92%\n"
     ]
    },
    {
     "name": "stderr",
     "output_type": "stream",
     "text": [
      "\n",
      "epoch-23  lr=['0.0010000'], tr/val_loss:  0.370970/  1.507270, tr:  99.23%, val:  71.67%, val_best:  74.58%: 100%|██████████| 41/41 [00:07<00:00,  5.55it/s]"
     ]
    },
    {
     "name": "stdout",
     "output_type": "stream",
     "text": [
      "Domain loss,acc: 1.146914, 61.18% Target domain: tr_loss-2.698804, tr_acc-64.42%\n",
      "100,000c4dTruet10:71.67%:74.58% | 100,000c4dFalset10:58.33%:58.33%\n"
     ]
    },
    {
     "name": "stderr",
     "output_type": "stream",
     "text": [
      "\n",
      "epoch-24  lr=['0.0010000'], tr/val_loss:  0.335543/  1.534909, tr:  99.54%, val:  75.00%, val_best:  75.00%: 100%|██████████| 41/41 [00:07<00:00,  5.39it/s]"
     ]
    },
    {
     "name": "stdout",
     "output_type": "stream",
     "text": [
      "Domain loss,acc: 1.078047, 61.29% Target domain: tr_loss-2.563055, tr_acc-67.18%\n",
      "100,000c4dTruet10:75.00%:75.00% | 100,000c4dFalset10:53.75%:58.33%\n"
     ]
    },
    {
     "name": "stderr",
     "output_type": "stream",
     "text": [
      "\n",
      "epoch-25  lr=['0.0010000'], tr/val_loss:  0.287307/  1.539811, tr: 100.00%, val:  74.58%, val_best:  75.00%:  98%|█████████▊| 40/41 [00:08<00:00,  8.58it/s]"
     ]
    },
    {
     "name": "stdout",
     "output_type": "stream",
     "text": [
      "Domain loss,acc: 1.096080, 61.18% Target domain: tr_loss-2.713625, tr_acc-66.26%\n",
      "100,000c4dTruet10:74.58%:75.00% | 100,000c4dFalset10:55.00%:58.33%\n"
     ]
    },
    {
     "name": "stderr",
     "output_type": "stream",
     "text": [
      "epoch-25  lr=['0.0010000'], tr/val_loss:  0.287307/  1.539811, tr: 100.00%, val:  74.58%, val_best:  75.00%: 100%|██████████| 41/41 [00:08<00:00,  4.60it/s]\n",
      "epoch-26  lr=['0.0010000'], tr/val_loss:  0.264571/  1.603208, tr:  99.85%, val:  75.42%, val_best:  75.42%: 100%|██████████| 41/41 [00:07<00:00,  5.58it/s]"
     ]
    },
    {
     "name": "stdout",
     "output_type": "stream",
     "text": [
      "Domain loss,acc: 1.113681, 60.47% Target domain: tr_loss-2.811901, tr_acc-62.27%\n",
      "100,000c4dTruet10:75.42%:75.42% | 100,000c4dFalset10:57.08%:58.33%\n"
     ]
    },
    {
     "name": "stderr",
     "output_type": "stream",
     "text": [
      "\n",
      "epoch-27  lr=['0.0010000'], tr/val_loss:  0.229429/  1.608846, tr:  99.85%, val:  75.00%, val_best:  75.42%: 100%|██████████| 41/41 [00:07<00:00,  5.47it/s]"
     ]
    },
    {
     "name": "stdout",
     "output_type": "stream",
     "text": [
      "Domain loss,acc: 1.076185, 61.49% Target domain: tr_loss-2.769697, tr_acc-65.64%\n",
      "100,000c4dTruet10:75.00%:75.42% | 100,000c4dFalset10:53.33%:58.33%\n"
     ]
    },
    {
     "name": "stderr",
     "output_type": "stream",
     "text": [
      "\n",
      "epoch-28  lr=['0.0010000'], tr/val_loss:  0.207819/  1.578583, tr: 100.00%, val:  76.25%, val_best:  76.25%: 100%|██████████| 41/41 [00:07<00:00,  5.44it/s]"
     ]
    },
    {
     "name": "stdout",
     "output_type": "stream",
     "text": [
      "Domain loss,acc: 1.091093, 60.67% Target domain: tr_loss-2.857640, tr_acc-65.95%\n",
      "100,000c4dTruet10:76.25%:76.25% | 100,000c4dFalset10:55.42%:58.33%\n"
     ]
    },
    {
     "name": "stderr",
     "output_type": "stream",
     "text": [
      "\n",
      "epoch-29  lr=['0.0010000'], tr/val_loss:  0.188370/  1.659212, tr: 100.00%, val:  74.58%, val_best:  76.25%: 100%|██████████| 41/41 [00:10<00:00,  3.81it/s]"
     ]
    },
    {
     "name": "stdout",
     "output_type": "stream",
     "text": [
      "Domain loss,acc: 1.094068, 61.49% Target domain: tr_loss-2.905461, tr_acc-64.11%\n",
      "100,000c4dTruet10:74.58%:76.25% | 100,000c4dFalset10:50.83%:58.33%\n"
     ]
    },
    {
     "name": "stderr",
     "output_type": "stream",
     "text": [
      "\n",
      "epoch-30  lr=['0.0010000'], tr/val_loss:  0.176692/  1.666203, tr: 100.00%, val:  74.17%, val_best:  76.25%: 100%|██████████| 41/41 [00:07<00:00,  5.26it/s]"
     ]
    },
    {
     "name": "stdout",
     "output_type": "stream",
     "text": [
      "Domain loss,acc: 1.057436, 60.67% Target domain: tr_loss-2.818926, tr_acc-68.10%\n",
      "100,000c4dTruet10:74.17%:76.25% | 100,000c4dFalset10:55.42%:58.33%\n"
     ]
    },
    {
     "name": "stderr",
     "output_type": "stream",
     "text": [
      "\n",
      "epoch-31  lr=['0.0010000'], tr/val_loss:  0.166391/  1.683698, tr: 100.00%, val:  75.42%, val_best:  76.25%: 100%|██████████| 41/41 [00:07<00:00,  5.53it/s]"
     ]
    },
    {
     "name": "stdout",
     "output_type": "stream",
     "text": [
      "Domain loss,acc: 1.101079, 61.80% Target domain: tr_loss-2.970455, tr_acc-65.64%\n",
      "100,000c4dTruet10:75.42%:76.25% | 100,000c4dFalset10:54.58%:58.33%\n"
     ]
    },
    {
     "name": "stderr",
     "output_type": "stream",
     "text": [
      "\n",
      "epoch-32  lr=['0.0010000'], tr/val_loss:  0.154847/  1.713353, tr: 100.00%, val:  76.67%, val_best:  76.67%: 100%|██████████| 41/41 [00:11<00:00,  3.50it/s]"
     ]
    },
    {
     "name": "stdout",
     "output_type": "stream",
     "text": [
      "Domain loss,acc: 1.107920, 60.67% Target domain: tr_loss-3.014065, tr_acc-63.50%\n",
      "100,000c4dTruet10:76.67%:76.67% | 100,000c4dFalset10:55.42%:58.33%\n"
     ]
    },
    {
     "name": "stderr",
     "output_type": "stream",
     "text": [
      "\n",
      "epoch-33  lr=['0.0010000'], tr/val_loss:  0.134725/  1.729602, tr: 100.00%, val:  76.67%, val_best:  76.67%: 100%|██████████| 41/41 [00:07<00:00,  5.63it/s]"
     ]
    },
    {
     "name": "stdout",
     "output_type": "stream",
     "text": [
      "Domain loss,acc: 1.116876, 60.98% Target domain: tr_loss-3.081178, tr_acc-66.87%\n",
      "100,000c4dTruet10:76.67%:76.67% | 100,000c4dFalset10:55.00%:58.33%\n"
     ]
    },
    {
     "name": "stderr",
     "output_type": "stream",
     "text": [
      "\n",
      "epoch-34  lr=['0.0010000'], tr/val_loss:  0.119706/  1.752509, tr: 100.00%, val:  77.08%, val_best:  77.08%: 100%|██████████| 41/41 [00:07<00:00,  5.30it/s]"
     ]
    },
    {
     "name": "stdout",
     "output_type": "stream",
     "text": [
      "Domain loss,acc: 1.124625, 61.08% Target domain: tr_loss-3.134463, tr_acc-62.88%\n",
      "100,000c4dTruet10:77.08%:77.08% | 100,000c4dFalset10:56.67%:58.33%\n"
     ]
    },
    {
     "name": "stderr",
     "output_type": "stream",
     "text": [
      "\n",
      "epoch-35  lr=['0.0010000'], tr/val_loss:  0.110038/  1.783818, tr: 100.00%, val:  76.25%, val_best:  77.08%: 100%|██████████| 41/41 [00:07<00:00,  5.80it/s]"
     ]
    },
    {
     "name": "stdout",
     "output_type": "stream",
     "text": [
      "Domain loss,acc: 1.101624, 60.47% Target domain: tr_loss-3.084797, tr_acc-66.87%\n",
      "100,000c4dTruet10:76.25%:77.08% | 100,000c4dFalset10:55.00%:58.33%\n"
     ]
    },
    {
     "name": "stderr",
     "output_type": "stream",
     "text": [
      "\n",
      "epoch-36  lr=['0.0010000'], tr/val_loss:  0.099628/  1.798382, tr: 100.00%, val:  77.50%, val_best:  77.50%: 100%|██████████| 41/41 [00:09<00:00,  4.42it/s]"
     ]
    },
    {
     "name": "stdout",
     "output_type": "stream",
     "text": [
      "Domain loss,acc: 1.085632, 60.37% Target domain: tr_loss-3.057638, tr_acc-69.02%\n",
      "100,000c4dTruet10:77.50%:77.50% | 100,000c4dFalset10:56.25%:58.33%\n"
     ]
    },
    {
     "name": "stderr",
     "output_type": "stream",
     "text": [
      "\n",
      "epoch-37  lr=['0.0010000'], tr/val_loss:  0.088824/  1.795717, tr: 100.00%, val:  77.08%, val_best:  77.50%: 100%|██████████| 41/41 [00:07<00:00,  5.75it/s]"
     ]
    },
    {
     "name": "stdout",
     "output_type": "stream",
     "text": [
      "Domain loss,acc: 1.116350, 61.80% Target domain: tr_loss-3.171403, tr_acc-68.40%\n",
      "100,000c4dTruet10:77.08%:77.50% | 100,000c4dFalset10:54.17%:58.33%\n"
     ]
    },
    {
     "name": "stderr",
     "output_type": "stream",
     "text": [
      "\n",
      "epoch-38  lr=['0.0010000'], tr/val_loss:  0.087071/  1.852060, tr: 100.00%, val:  77.50%, val_best:  77.50%: 100%|██████████| 41/41 [00:07<00:00,  5.40it/s]"
     ]
    },
    {
     "name": "stdout",
     "output_type": "stream",
     "text": [
      "Domain loss,acc: 1.091412, 60.98% Target domain: tr_loss-3.100095, tr_acc-68.10%\n",
      "100,000c4dTruet10:77.50%:77.50% | 100,000c4dFalset10:52.92%:58.33%\n"
     ]
    },
    {
     "name": "stderr",
     "output_type": "stream",
     "text": [
      "\n",
      "epoch-39  lr=['0.0010000'], tr/val_loss:  0.080087/  1.834737, tr: 100.00%, val:  77.50%, val_best:  77.50%: 100%|██████████| 41/41 [00:09<00:00,  4.35it/s]"
     ]
    },
    {
     "name": "stdout",
     "output_type": "stream",
     "text": [
      "Domain loss,acc: 1.116772, 61.18% Target domain: tr_loss-3.190141, tr_acc-65.95%\n",
      "100,000c4dTruet10:77.50%:77.50% | 100,000c4dFalset10:59.58%:59.58%\n"
     ]
    },
    {
     "name": "stderr",
     "output_type": "stream",
     "text": [
      "\n",
      "epoch-40  lr=['0.0010000'], tr/val_loss:  0.073863/  1.847419, tr: 100.00%, val:  78.75%, val_best:  78.75%: 100%|██████████| 41/41 [00:08<00:00,  5.09it/s]"
     ]
    },
    {
     "name": "stdout",
     "output_type": "stream",
     "text": [
      "Domain loss,acc: 1.087420, 62.00% Target domain: tr_loss-3.114533, tr_acc-69.33%\n",
      "100,000c4dTruet10:78.75%:78.75% | 100,000c4dFalset10:58.75%:59.58%\n"
     ]
    },
    {
     "name": "stderr",
     "output_type": "stream",
     "text": [
      "\n",
      "epoch-41  lr=['0.0010000'], tr/val_loss:  0.067384/  1.867613, tr: 100.00%, val:  78.33%, val_best:  78.75%: 100%|██████████| 41/41 [00:07<00:00,  5.20it/s]"
     ]
    },
    {
     "name": "stdout",
     "output_type": "stream",
     "text": [
      "Domain loss,acc: 1.115746, 62.41% Target domain: tr_loss-3.212473, tr_acc-69.63%\n",
      "100,000c4dTruet10:78.33%:78.75% | 100,000c4dFalset10:56.25%:59.58%\n"
     ]
    },
    {
     "name": "stderr",
     "output_type": "stream",
     "text": [
      "\n",
      "epoch-42  lr=['0.0010000'], tr/val_loss:  0.064991/  1.879325, tr: 100.00%, val:  80.42%, val_best:  80.42%:  98%|█████████▊| 40/41 [00:08<00:00, 11.88it/s]"
     ]
    },
    {
     "name": "stdout",
     "output_type": "stream",
     "text": [
      "Domain loss,acc: 1.099788, 62.00% Target domain: tr_loss-3.169383, tr_acc-69.63%\n",
      "100,000c4dTruet10:80.42%:80.42% | 100,000c4dFalset10:56.67%:59.58%\n"
     ]
    },
    {
     "name": "stderr",
     "output_type": "stream",
     "text": [
      "epoch-42  lr=['0.0010000'], tr/val_loss:  0.064991/  1.879325, tr: 100.00%, val:  80.42%, val_best:  80.42%: 100%|██████████| 41/41 [00:11<00:00,  3.71it/s]\n",
      "epoch-43  lr=['0.0010000'], tr/val_loss:  0.058457/  1.878652, tr: 100.00%, val:  78.33%, val_best:  80.42%: 100%|██████████| 41/41 [00:07<00:00,  5.37it/s]"
     ]
    },
    {
     "name": "stdout",
     "output_type": "stream",
     "text": [
      "Domain loss,acc: 1.109725, 62.21% Target domain: tr_loss-3.212262, tr_acc-69.33%\n",
      "100,000c4dTruet10:78.33%:80.42% | 100,000c4dFalset10:57.08%:59.58%\n"
     ]
    },
    {
     "name": "stderr",
     "output_type": "stream",
     "text": [
      "\n",
      "epoch-44  lr=['0.0010000'], tr/val_loss:  0.056228/  1.888418, tr: 100.00%, val:  80.00%, val_best:  80.42%: 100%|██████████| 41/41 [00:07<00:00,  5.25it/s]"
     ]
    },
    {
     "name": "stdout",
     "output_type": "stream",
     "text": [
      "Domain loss,acc: 1.129316, 61.90% Target domain: tr_loss-3.275492, tr_acc-69.63%\n",
      "100,000c4dTruet10:80.00%:80.42% | 100,000c4dFalset10:58.75%:59.58%\n"
     ]
    },
    {
     "name": "stderr",
     "output_type": "stream",
     "text": [
      "\n",
      "epoch-45  lr=['0.0010000'], tr/val_loss:  0.051982/  1.935436, tr: 100.00%, val:  78.75%, val_best:  80.42%: 100%|██████████| 41/41 [00:06<00:00,  5.87it/s]"
     ]
    },
    {
     "name": "stdout",
     "output_type": "stream",
     "text": [
      "Domain loss,acc: 1.103726, 61.80% Target domain: tr_loss-3.207214, tr_acc-69.94%\n",
      "100,000c4dTruet10:78.75%:80.42% | 100,000c4dFalset10:56.25%:59.58%\n"
     ]
    },
    {
     "name": "stderr",
     "output_type": "stream",
     "text": [
      "\n",
      "epoch-46  lr=['0.0010000'], tr/val_loss:  0.049691/  1.963784, tr: 100.00%, val:  78.75%, val_best:  80.42%: 100%|██████████| 41/41 [00:11<00:00,  3.54it/s]"
     ]
    },
    {
     "name": "stdout",
     "output_type": "stream",
     "text": [
      "Domain loss,acc: 1.166151, 62.10% Target domain: tr_loss-3.399072, tr_acc-67.79%\n",
      "100,000c4dTruet10:78.75%:80.42% | 100,000c4dFalset10:56.67%:59.58%\n"
     ]
    },
    {
     "name": "stderr",
     "output_type": "stream",
     "text": [
      "\n",
      "epoch-47  lr=['0.0010000'], tr/val_loss:  0.043196/  1.959562, tr: 100.00%, val:  78.75%, val_best:  80.42%: 100%|██████████| 41/41 [00:07<00:00,  5.53it/s]"
     ]
    },
    {
     "name": "stdout",
     "output_type": "stream",
     "text": [
      "Domain loss,acc: 1.127505, 61.70% Target domain: tr_loss-3.296124, tr_acc-69.63%\n",
      "100,000c4dTruet10:78.75%:80.42% | 100,000c4dFalset10:56.67%:59.58%\n"
     ]
    },
    {
     "name": "stderr",
     "output_type": "stream",
     "text": [
      "\n",
      "epoch-48  lr=['0.0010000'], tr/val_loss:  0.042113/  1.967680, tr: 100.00%, val:  80.00%, val_best:  80.42%: 100%|██████████| 41/41 [00:07<00:00,  5.58it/s]"
     ]
    },
    {
     "name": "stdout",
     "output_type": "stream",
     "text": [
      "Domain loss,acc: 1.132509, 61.70% Target domain: tr_loss-3.313300, tr_acc-70.25%\n",
      "100,000c4dTruet10:80.00%:80.42% | 100,000c4dFalset10:57.92%:59.58%\n"
     ]
    },
    {
     "name": "stderr",
     "output_type": "stream",
     "text": [
      "\n",
      "epoch-49  lr=['0.0010000'], tr/val_loss:  0.043279/  2.008454, tr: 100.00%, val:  79.17%, val_best:  80.42%: 100%|██████████| 41/41 [00:07<00:00,  5.58it/s]"
     ]
    },
    {
     "name": "stdout",
     "output_type": "stream",
     "text": [
      "Domain loss,acc: 1.157789, 61.49% Target domain: tr_loss-3.386811, tr_acc-68.71%\n",
      "100,000c4dTruet10:79.17%:80.42% | 100,000c4dFalset10:59.17%:59.58%\n"
     ]
    },
    {
     "name": "stderr",
     "output_type": "stream",
     "text": [
      "\n",
      "epoch-50  lr=['0.0010000'], tr/val_loss:  0.041034/  1.985097, tr: 100.00%, val:  78.75%, val_best:  80.42%: 100%|██████████| 41/41 [00:07<00:00,  5.40it/s]"
     ]
    },
    {
     "name": "stdout",
     "output_type": "stream",
     "text": [
      "Domain loss,acc: 1.161610, 61.59% Target domain: tr_loss-3.402762, tr_acc-67.48%\n",
      "100,000c4dTruet10:78.75%:80.42% | 100,000c4dFalset10:55.42%:59.58%\n"
     ]
    },
    {
     "name": "stderr",
     "output_type": "stream",
     "text": [
      "\n",
      "epoch-51  lr=['0.0010000'], tr/val_loss:  0.036863/  1.997760, tr: 100.00%, val:  78.33%, val_best:  80.42%: 100%|██████████| 41/41 [00:07<00:00,  5.26it/s]"
     ]
    },
    {
     "name": "stdout",
     "output_type": "stream",
     "text": [
      "Domain loss,acc: 1.172864, 62.82% Target domain: tr_loss-3.444864, tr_acc-69.94%\n",
      "100,000c4dTruet10:78.33%:80.42% | 100,000c4dFalset10:56.67%:59.58%\n"
     ]
    },
    {
     "name": "stderr",
     "output_type": "stream",
     "text": [
      "\n",
      "epoch-52  lr=['0.0010000'], tr/val_loss:  0.033765/  1.988577, tr: 100.00%, val:  80.42%, val_best:  80.42%: 100%|██████████| 41/41 [00:07<00:00,  5.32it/s]"
     ]
    },
    {
     "name": "stdout",
     "output_type": "stream",
     "text": [
      "Domain loss,acc: 1.155016, 62.72% Target domain: tr_loss-3.397516, tr_acc-70.55%\n",
      "100,000c4dTruet10:80.42%:80.42% | 100,000c4dFalset10:56.67%:59.58%\n"
     ]
    },
    {
     "name": "stderr",
     "output_type": "stream",
     "text": [
      "\n",
      "epoch-53  lr=['0.0010000'], tr/val_loss:  0.033456/  2.029003, tr: 100.00%, val:  79.17%, val_best:  80.42%: 100%|██████████| 41/41 [00:08<00:00,  4.97it/s]"
     ]
    },
    {
     "name": "stdout",
     "output_type": "stream",
     "text": [
      "Domain loss,acc: 1.148104, 61.90% Target domain: tr_loss-3.377400, tr_acc-69.94%\n",
      "100,000c4dTruet10:79.17%:80.42% | 100,000c4dFalset10:57.08%:59.58%\n"
     ]
    },
    {
     "name": "stderr",
     "output_type": "stream",
     "text": [
      "\n",
      "epoch-54  lr=['0.0010000'], tr/val_loss:  0.031719/  2.023927, tr: 100.00%, val:  79.58%, val_best:  80.42%: 100%|██████████| 41/41 [00:07<00:00,  5.32it/s]"
     ]
    },
    {
     "name": "stdout",
     "output_type": "stream",
     "text": [
      "Domain loss,acc: 1.181575, 62.72% Target domain: tr_loss-3.481287, tr_acc-69.94%\n",
      "100,000c4dTruet10:79.58%:80.42% | 100,000c4dFalset10:57.50%:59.58%\n"
     ]
    },
    {
     "name": "stderr",
     "output_type": "stream",
     "text": [
      "\n",
      "epoch-55  lr=['0.0010000'], tr/val_loss:  0.029283/  2.025969, tr: 100.00%, val:  79.58%, val_best:  80.42%: 100%|██████████| 41/41 [00:07<00:00,  5.49it/s]"
     ]
    },
    {
     "name": "stdout",
     "output_type": "stream",
     "text": [
      "Domain loss,acc: 1.181010, 62.10% Target domain: tr_loss-3.484463, tr_acc-66.87%\n",
      "100,000c4dTruet10:79.58%:80.42% | 100,000c4dFalset10:56.25%:59.58%\n"
     ]
    },
    {
     "name": "stderr",
     "output_type": "stream",
     "text": [
      "\n",
      "epoch-56  lr=['0.0010000'], tr/val_loss:  0.029380/  2.081761, tr: 100.00%, val:  79.17%, val_best:  80.42%: 100%|██████████| 41/41 [00:07<00:00,  5.25it/s]"
     ]
    },
    {
     "name": "stdout",
     "output_type": "stream",
     "text": [
      "Domain loss,acc: 1.184668, 61.90% Target domain: tr_loss-3.495244, tr_acc-69.33%\n",
      "100,000c4dTruet10:79.17%:80.42% | 100,000c4dFalset10:57.50%:59.58%\n"
     ]
    },
    {
     "name": "stderr",
     "output_type": "stream",
     "text": [
      "\n",
      "epoch-57  lr=['0.0010000'], tr/val_loss:  0.027727/  2.052814, tr: 100.00%, val:  79.58%, val_best:  80.42%: 100%|██████████| 41/41 [00:07<00:00,  5.62it/s]"
     ]
    },
    {
     "name": "stdout",
     "output_type": "stream",
     "text": [
      "Domain loss,acc: 1.157608, 61.70% Target domain: tr_loss-3.417367, tr_acc-71.17%\n",
      "100,000c4dTruet10:79.58%:80.42% | 100,000c4dFalset10:57.92%:59.58%\n"
     ]
    },
    {
     "name": "stderr",
     "output_type": "stream",
     "text": [
      "\n",
      "epoch-58  lr=['0.0010000'], tr/val_loss:  0.027125/  2.090171, tr: 100.00%, val:  80.42%, val_best:  80.42%: 100%|██████████| 41/41 [00:07<00:00,  5.39it/s]"
     ]
    },
    {
     "name": "stdout",
     "output_type": "stream",
     "text": [
      "Domain loss,acc: 1.184519, 62.10% Target domain: tr_loss-3.499308, tr_acc-69.02%\n",
      "100,000c4dTruet10:80.42%:80.42% | 100,000c4dFalset10:57.92%:59.58%\n"
     ]
    },
    {
     "name": "stderr",
     "output_type": "stream",
     "text": [
      "\n",
      "epoch-59  lr=['0.0010000'], tr/val_loss:  0.027871/  2.053185, tr: 100.00%, val:  79.17%, val_best:  80.42%: 100%|██████████| 41/41 [00:07<00:00,  5.53it/s]"
     ]
    },
    {
     "name": "stdout",
     "output_type": "stream",
     "text": [
      "Domain loss,acc: 1.193809, 61.70% Target domain: tr_loss-3.525686, tr_acc-68.10%\n",
      "100,000c4dTruet10:79.17%:80.42% | 100,000c4dFalset10:59.17%:59.58%\n"
     ]
    },
    {
     "name": "stderr",
     "output_type": "stream",
     "text": [
      "\n",
      "epoch-60  lr=['0.0010000'], tr/val_loss:  0.024708/  2.086608, tr: 100.00%, val:  79.17%, val_best:  80.42%: 100%|██████████| 41/41 [00:07<00:00,  5.52it/s]"
     ]
    },
    {
     "name": "stdout",
     "output_type": "stream",
     "text": [
      "Domain loss,acc: 1.171798, 61.80% Target domain: tr_loss-3.465976, tr_acc-68.71%\n",
      "100,000c4dTruet10:79.17%:80.42% | 100,000c4dFalset10:58.75%:59.58%\n"
     ]
    },
    {
     "name": "stderr",
     "output_type": "stream",
     "text": [
      "\n",
      "epoch-61  lr=['0.0010000'], tr/val_loss:  0.024557/  2.072502, tr: 100.00%, val:  79.17%, val_best:  80.42%: 100%|██████████| 41/41 [00:08<00:00,  4.93it/s]"
     ]
    },
    {
     "name": "stdout",
     "output_type": "stream",
     "text": [
      "Domain loss,acc: 1.165868, 62.10% Target domain: tr_loss-3.448490, tr_acc-69.63%\n",
      "100,000c4dTruet10:79.17%:80.42% | 100,000c4dFalset10:58.33%:59.58%\n"
     ]
    },
    {
     "name": "stderr",
     "output_type": "stream",
     "text": [
      "\n",
      "epoch-62  lr=['0.0010000'], tr/val_loss:  0.022543/  2.098657, tr: 100.00%, val:  79.58%, val_best:  80.42%: 100%|██████████| 41/41 [00:07<00:00,  5.21it/s]"
     ]
    },
    {
     "name": "stdout",
     "output_type": "stream",
     "text": [
      "Domain loss,acc: 1.190473, 61.90% Target domain: tr_loss-3.526330, tr_acc-67.79%\n",
      "100,000c4dTruet10:79.58%:80.42% | 100,000c4dFalset10:57.92%:59.58%\n"
     ]
    },
    {
     "name": "stderr",
     "output_type": "stream",
     "text": [
      "\n",
      "epoch-63  lr=['0.0010000'], tr/val_loss:  0.022383/  2.105836, tr: 100.00%, val:  79.17%, val_best:  80.42%: 100%|██████████| 41/41 [00:07<00:00,  5.21it/s]"
     ]
    },
    {
     "name": "stdout",
     "output_type": "stream",
     "text": [
      "Domain loss,acc: 1.222052, 62.31% Target domain: tr_loss-3.621392, tr_acc-70.25%\n",
      "100,000c4dTruet10:79.17%:80.42% | 100,000c4dFalset10:58.33%:59.58%\n"
     ]
    },
    {
     "name": "stderr",
     "output_type": "stream",
     "text": [
      "\n",
      "epoch-64  lr=['0.0010000'], tr/val_loss:  0.020971/  2.104703, tr: 100.00%, val:  78.75%, val_best:  80.42%: 100%|██████████| 41/41 [00:07<00:00,  5.13it/s]"
     ]
    },
    {
     "name": "stdout",
     "output_type": "stream",
     "text": [
      "Domain loss,acc: 1.183411, 62.21% Target domain: tr_loss-3.508289, tr_acc-69.33%\n",
      "100,000c4dTruet10:78.75%:80.42% | 100,000c4dFalset10:58.75%:59.58%\n"
     ]
    },
    {
     "name": "stderr",
     "output_type": "stream",
     "text": [
      "\n",
      "epoch-65  lr=['0.0010000'], tr/val_loss:  0.021223/  2.109599, tr: 100.00%, val:  79.58%, val_best:  80.42%: 100%|██████████| 41/41 [00:07<00:00,  5.14it/s]"
     ]
    },
    {
     "name": "stdout",
     "output_type": "stream",
     "text": [
      "Domain loss,acc: 1.216160, 61.70% Target domain: tr_loss-3.606034, tr_acc-68.71%\n",
      "100,000c4dTruet10:79.58%:80.42% | 100,000c4dFalset10:56.67%:59.58%\n"
     ]
    },
    {
     "name": "stderr",
     "output_type": "stream",
     "text": [
      "\n",
      "epoch-66  lr=['0.0010000'], tr/val_loss:  0.020631/  2.126301, tr: 100.00%, val:  79.58%, val_best:  80.42%: 100%|██████████| 41/41 [00:07<00:00,  5.29it/s]"
     ]
    },
    {
     "name": "stdout",
     "output_type": "stream",
     "text": [
      "Domain loss,acc: 1.227213, 61.80% Target domain: tr_loss-3.640378, tr_acc-69.33%\n",
      "100,000c4dTruet10:79.58%:80.42% | 100,000c4dFalset10:60.42%:60.42%\n"
     ]
    },
    {
     "name": "stderr",
     "output_type": "stream",
     "text": [
      "\n",
      "epoch-67  lr=['0.0010000'], tr/val_loss:  0.020834/  2.134813, tr: 100.00%, val:  79.17%, val_best:  80.42%: 100%|██████████| 41/41 [00:07<00:00,  5.21it/s]"
     ]
    },
    {
     "name": "stdout",
     "output_type": "stream",
     "text": [
      "Domain loss,acc: 1.206517, 61.90% Target domain: tr_loss-3.577881, tr_acc-68.71%\n",
      "100,000c4dTruet10:79.17%:80.42% | 100,000c4dFalset10:60.42%:60.42%\n"
     ]
    },
    {
     "name": "stderr",
     "output_type": "stream",
     "text": [
      "\n",
      "epoch-68  lr=['0.0010000'], tr/val_loss:  0.018437/  2.164061, tr: 100.00%, val:  78.75%, val_best:  80.42%: 100%|██████████| 41/41 [00:08<00:00,  5.04it/s]"
     ]
    },
    {
     "name": "stdout",
     "output_type": "stream",
     "text": [
      "Domain loss,acc: 1.224381, 61.59% Target domain: tr_loss-3.636270, tr_acc-69.33%\n",
      "100,000c4dTruet10:78.75%:80.42% | 100,000c4dFalset10:60.00%:60.42%\n"
     ]
    },
    {
     "name": "stderr",
     "output_type": "stream",
     "text": [
      "\n",
      "epoch-69  lr=['0.0010000'], tr/val_loss:  0.018552/  2.144047, tr: 100.00%, val:  79.58%, val_best:  80.42%: 100%|██████████| 41/41 [00:08<00:00,  5.09it/s]"
     ]
    },
    {
     "name": "stdout",
     "output_type": "stream",
     "text": [
      "Domain loss,acc: 1.202658, 62.00% Target domain: tr_loss-3.570870, tr_acc-69.02%\n",
      "100,000c4dTruet10:79.58%:80.42% | 100,000c4dFalset10:58.75%:60.42%\n"
     ]
    },
    {
     "name": "stderr",
     "output_type": "stream",
     "text": [
      "\n",
      "epoch-70  lr=['0.0010000'], tr/val_loss:  0.017811/  2.154003, tr: 100.00%, val:  78.75%, val_best:  80.42%: 100%|██████████| 41/41 [00:07<00:00,  5.30it/s]"
     ]
    },
    {
     "name": "stdout",
     "output_type": "stream",
     "text": [
      "Domain loss,acc: 1.239611, 61.90% Target domain: tr_loss-3.683210, tr_acc-69.33%\n",
      "100,000c4dTruet10:78.75%:80.42% | 100,000c4dFalset10:57.92%:60.42%\n"
     ]
    },
    {
     "name": "stderr",
     "output_type": "stream",
     "text": [
      "\n",
      "epoch-71  lr=['0.0010000'], tr/val_loss:  0.018902/  2.169532, tr: 100.00%, val:  78.33%, val_best:  80.42%: 100%|██████████| 41/41 [00:07<00:00,  5.30it/s]"
     ]
    },
    {
     "name": "stdout",
     "output_type": "stream",
     "text": [
      "Domain loss,acc: 1.211127, 62.10% Target domain: tr_loss-3.595576, tr_acc-69.63%\n",
      "100,000c4dTruet10:78.33%:80.42% | 100,000c4dFalset10:59.58%:60.42%\n"
     ]
    },
    {
     "name": "stderr",
     "output_type": "stream",
     "text": [
      "\n",
      "epoch-72  lr=['0.0010000'], tr/val_loss:  0.017134/  2.166597, tr: 100.00%, val:  80.42%, val_best:  80.42%: 100%|██████████| 41/41 [00:07<00:00,  5.44it/s]"
     ]
    },
    {
     "name": "stdout",
     "output_type": "stream",
     "text": [
      "Domain loss,acc: 1.257605, 62.10% Target domain: tr_loss-3.738547, tr_acc-69.02%\n",
      "100,000c4dTruet10:80.42%:80.42% | 100,000c4dFalset10:58.33%:60.42%\n"
     ]
    },
    {
     "name": "stderr",
     "output_type": "stream",
     "text": [
      "\n",
      "epoch-73  lr=['0.0010000'], tr/val_loss:  0.016577/  2.191216, tr: 100.00%, val:  79.58%, val_best:  80.42%: 100%|██████████| 41/41 [00:08<00:00,  4.89it/s]"
     ]
    },
    {
     "name": "stdout",
     "output_type": "stream",
     "text": [
      "Domain loss,acc: 1.211821, 61.59% Target domain: tr_loss-3.602309, tr_acc-70.55%\n",
      "100,000c4dTruet10:79.58%:80.42% | 100,000c4dFalset10:59.17%:60.42%\n"
     ]
    },
    {
     "name": "stderr",
     "output_type": "stream",
     "text": [
      "\n",
      "epoch-74  lr=['0.0010000'], tr/val_loss:  0.015952/  2.184980, tr: 100.00%, val:  78.75%, val_best:  80.42%: 100%|██████████| 41/41 [00:07<00:00,  5.35it/s]"
     ]
    },
    {
     "name": "stdout",
     "output_type": "stream",
     "text": [
      "Domain loss,acc: 1.223078, 62.31% Target domain: tr_loss-3.637331, tr_acc-70.55%\n",
      "100,000c4dTruet10:78.75%:80.42% | 100,000c4dFalset10:57.92%:60.42%\n"
     ]
    },
    {
     "name": "stderr",
     "output_type": "stream",
     "text": [
      "\n",
      "epoch-75  lr=['0.0010000'], tr/val_loss:  0.015674/  2.191776, tr: 100.00%, val:  80.00%, val_best:  80.42%: 100%|██████████| 41/41 [00:07<00:00,  5.26it/s]"
     ]
    },
    {
     "name": "stdout",
     "output_type": "stream",
     "text": [
      "Domain loss,acc: 1.225003, 62.72% Target domain: tr_loss-3.643659, tr_acc-70.86%\n",
      "100,000c4dTruet10:80.00%:80.42% | 100,000c4dFalset10:59.17%:60.42%\n"
     ]
    },
    {
     "name": "stderr",
     "output_type": "stream",
     "text": [
      "\n",
      "epoch-76  lr=['0.0010000'], tr/val_loss:  0.016519/  2.215516, tr: 100.00%, val:  77.92%, val_best:  80.42%: 100%|██████████| 41/41 [00:07<00:00,  5.43it/s]"
     ]
    },
    {
     "name": "stdout",
     "output_type": "stream",
     "text": [
      "Domain loss,acc: 1.259179, 61.08% Target domain: tr_loss-3.744501, tr_acc-70.25%\n",
      "100,000c4dTruet10:77.92%:80.42% | 100,000c4dFalset10:57.92%:60.42%\n"
     ]
    },
    {
     "name": "stderr",
     "output_type": "stream",
     "text": [
      "\n",
      "epoch-77  lr=['0.0010000'], tr/val_loss:  0.016423/  2.219527, tr: 100.00%, val:  78.75%, val_best:  80.42%: 100%|██████████| 41/41 [00:07<00:00,  5.44it/s]"
     ]
    },
    {
     "name": "stdout",
     "output_type": "stream",
     "text": [
      "Domain loss,acc: 1.230728, 62.61% Target domain: tr_loss-3.659339, tr_acc-70.86%\n",
      "100,000c4dTruet10:78.75%:80.42% | 100,000c4dFalset10:58.75%:60.42%\n"
     ]
    },
    {
     "name": "stderr",
     "output_type": "stream",
     "text": [
      "\n",
      "epoch-78  lr=['0.0010000'], tr/val_loss:  0.015329/  2.216879, tr: 100.00%, val:  78.75%, val_best:  80.42%: 100%|██████████| 41/41 [00:07<00:00,  5.18it/s]"
     ]
    },
    {
     "name": "stdout",
     "output_type": "stream",
     "text": [
      "Domain loss,acc: 1.241899, 62.51% Target domain: tr_loss-3.695040, tr_acc-69.02%\n",
      "100,000c4dTruet10:78.75%:80.42% | 100,000c4dFalset10:58.75%:60.42%\n"
     ]
    },
    {
     "name": "stderr",
     "output_type": "stream",
     "text": [
      "\n",
      "epoch-79  lr=['0.0010000'], tr/val_loss:  0.014916/  2.221579, tr: 100.00%, val:  78.75%, val_best:  80.42%: 100%|██████████| 41/41 [00:07<00:00,  2.30it/s]"
     ]
    },
    {
     "name": "stdout",
     "output_type": "stream",
     "text": [
      "Domain loss,acc: 1.232805, 62.51% Target domain: tr_loss-3.668581, tr_acc-70.86%\n",
      "100,000c4dTruet10:78.75%:80.42% | 100,000c4dFalset10:60.00%:60.42%\n"
     ]
    },
    {
     "name": "stderr",
     "output_type": "stream",
     "text": [
      "epoch-79  lr=['0.0010000'], tr/val_loss:  0.014916/  2.221579, tr: 100.00%, val:  78.75%, val_best:  80.42%: 100%|██████████| 41/41 [00:07<00:00,  5.25it/s]\n",
      "epoch-80  lr=['0.0010000'], tr/val_loss:  0.014139/  2.230512, tr: 100.00%, val:  79.58%, val_best:  80.42%: 100%|██████████| 41/41 [00:07<00:00,  5.29it/s]"
     ]
    },
    {
     "name": "stdout",
     "output_type": "stream",
     "text": [
      "Domain loss,acc: 1.254566, 62.31% Target domain: tr_loss-3.735420, tr_acc-70.55%\n",
      "100,000c4dTruet10:79.58%:80.42% | 100,000c4dFalset10:58.33%:60.42%\n"
     ]
    },
    {
     "name": "stderr",
     "output_type": "stream",
     "text": [
      "\n",
      "epoch-81  lr=['0.0010000'], tr/val_loss:  0.013572/  2.230240, tr: 100.00%, val:  80.00%, val_best:  80.42%: 100%|██████████| 41/41 [00:07<00:00,  5.35it/s]"
     ]
    },
    {
     "name": "stdout",
     "output_type": "stream",
     "text": [
      "Domain loss,acc: 1.281066, 62.10% Target domain: tr_loss-3.816052, tr_acc-70.86%\n",
      "100,000c4dTruet10:80.00%:80.42% | 100,000c4dFalset10:57.92%:60.42%\n"
     ]
    },
    {
     "name": "stderr",
     "output_type": "stream",
     "text": [
      "\n",
      "epoch-82  lr=['0.0010000'], tr/val_loss:  0.013653/  2.243460, tr: 100.00%, val:  78.75%, val_best:  80.42%: 100%|██████████| 41/41 [00:07<00:00,  5.39it/s]"
     ]
    },
    {
     "name": "stdout",
     "output_type": "stream",
     "text": [
      "Domain loss,acc: 1.263451, 62.10% Target domain: tr_loss-3.763047, tr_acc-69.94%\n",
      "100,000c4dTruet10:78.75%:80.42% | 100,000c4dFalset10:58.75%:60.42%\n"
     ]
    },
    {
     "name": "stderr",
     "output_type": "stream",
     "text": [
      "\n",
      "epoch-83  lr=['0.0010000'], tr/val_loss:  0.012926/  2.229324, tr: 100.00%, val:  79.17%, val_best:  80.42%: 100%|██████████| 41/41 [00:07<00:00,  5.61it/s]"
     ]
    },
    {
     "name": "stdout",
     "output_type": "stream",
     "text": [
      "Domain loss,acc: 1.250412, 61.80% Target domain: tr_loss-3.725381, tr_acc-70.86%\n",
      "100,000c4dTruet10:79.17%:80.42% | 100,000c4dFalset10:58.33%:60.42%\n"
     ]
    },
    {
     "name": "stderr",
     "output_type": "stream",
     "text": [
      "\n",
      "epoch-84  lr=['0.0010000'], tr/val_loss:  0.013482/  2.243781, tr: 100.00%, val:  78.75%, val_best:  80.42%: 100%|██████████| 41/41 [00:07<00:00,  5.52it/s]"
     ]
    },
    {
     "name": "stdout",
     "output_type": "stream",
     "text": [
      "Domain loss,acc: 1.231481, 60.98% Target domain: tr_loss-3.667481, tr_acc-69.33%\n",
      "100,000c4dTruet10:78.75%:80.42% | 100,000c4dFalset10:58.75%:60.42%\n"
     ]
    },
    {
     "name": "stderr",
     "output_type": "stream",
     "text": [
      "\n",
      "epoch-85  lr=['0.0010000'], tr/val_loss:  0.013509/  2.253771, tr: 100.00%, val:  78.33%, val_best:  80.42%: 100%|██████████| 41/41 [00:07<00:00,  5.62it/s]"
     ]
    },
    {
     "name": "stdout",
     "output_type": "stream",
     "text": [
      "Domain loss,acc: 1.249461, 60.47% Target domain: tr_loss-3.721364, tr_acc-70.86%\n",
      "100,000c4dTruet10:78.33%:80.42% | 100,000c4dFalset10:57.92%:60.42%\n"
     ]
    },
    {
     "name": "stderr",
     "output_type": "stream",
     "text": [
      "\n",
      "epoch-86  lr=['0.0010000'], tr/val_loss:  0.013275/  2.258718, tr: 100.00%, val:  78.75%, val_best:  80.42%: 100%|██████████| 41/41 [00:07<00:00,  5.56it/s]"
     ]
    },
    {
     "name": "stdout",
     "output_type": "stream",
     "text": [
      "Domain loss,acc: 1.239954, 61.29% Target domain: tr_loss-3.693313, tr_acc-71.47%\n",
      "100,000c4dTruet10:78.75%:80.42% | 100,000c4dFalset10:59.17%:60.42%\n"
     ]
    },
    {
     "name": "stderr",
     "output_type": "stream",
     "text": [
      "\n",
      "epoch-87  lr=['0.0010000'], tr/val_loss:  0.011993/  2.276956, tr: 100.00%, val:  78.33%, val_best:  80.42%: 100%|██████████| 41/41 [00:07<00:00,  5.51it/s]"
     ]
    },
    {
     "name": "stdout",
     "output_type": "stream",
     "text": [
      "Domain loss,acc: 1.249516, 61.39% Target domain: tr_loss-3.724561, tr_acc-70.86%\n",
      "100,000c4dTruet10:78.33%:80.42% | 100,000c4dFalset10:57.50%:60.42%\n"
     ]
    },
    {
     "name": "stderr",
     "output_type": "stream",
     "text": [
      "\n",
      "epoch-88  lr=['0.0010000'], tr/val_loss:  0.011456/  2.270735, tr: 100.00%, val:  77.92%, val_best:  80.42%: 100%|██████████| 41/41 [00:07<00:00,  5.60it/s]"
     ]
    },
    {
     "name": "stdout",
     "output_type": "stream",
     "text": [
      "Domain loss,acc: 1.278877, 61.08% Target domain: tr_loss-3.813719, tr_acc-71.17%\n",
      "100,000c4dTruet10:77.92%:80.42% | 100,000c4dFalset10:58.33%:60.42%\n"
     ]
    },
    {
     "name": "stderr",
     "output_type": "stream",
     "text": [
      "\n",
      "epoch-89  lr=['0.0010000'], tr/val_loss:  0.011447/  2.274817, tr: 100.00%, val:  76.67%, val_best:  80.42%: 100%|██████████| 41/41 [00:07<00:00,  5.54it/s]"
     ]
    },
    {
     "name": "stdout",
     "output_type": "stream",
     "text": [
      "Domain loss,acc: 1.255484, 61.70% Target domain: tr_loss-3.743556, tr_acc-70.55%\n",
      "100,000c4dTruet10:76.67%:80.42% | 100,000c4dFalset10:58.33%:60.42%\n"
     ]
    },
    {
     "name": "stderr",
     "output_type": "stream",
     "text": [
      "\n",
      "epoch-90  lr=['0.0010000'], tr/val_loss:  0.011687/  2.289603, tr: 100.00%, val:  77.50%, val_best:  80.42%: 100%|██████████| 41/41 [00:07<00:00,  5.36it/s]"
     ]
    },
    {
     "name": "stdout",
     "output_type": "stream",
     "text": [
      "Domain loss,acc: 1.284618, 61.18% Target domain: tr_loss-3.830480, tr_acc-70.86%\n",
      "100,000c4dTruet10:77.50%:80.42% | 100,000c4dFalset10:59.17%:60.42%\n"
     ]
    },
    {
     "name": "stderr",
     "output_type": "stream",
     "text": [
      "\n",
      "epoch-91  lr=['0.0010000'], tr/val_loss:  0.011079/  2.279472, tr: 100.00%, val:  77.50%, val_best:  80.42%: 100%|██████████| 41/41 [00:06<00:00,  5.87it/s]"
     ]
    },
    {
     "name": "stdout",
     "output_type": "stream",
     "text": [
      "Domain loss,acc: 1.275772, 62.10% Target domain: tr_loss-3.805158, tr_acc-69.33%\n",
      "100,000c4dTruet10:77.50%:80.42% | 100,000c4dFalset10:58.75%:60.42%\n"
     ]
    },
    {
     "name": "stderr",
     "output_type": "stream",
     "text": [
      "\n",
      "epoch-92  lr=['0.0010000'], tr/val_loss:  0.010890/  2.281658, tr: 100.00%, val:  77.08%, val_best:  80.42%: 100%|██████████| 41/41 [00:07<00:00,  5.54it/s]"
     ]
    },
    {
     "name": "stdout",
     "output_type": "stream",
     "text": [
      "Domain loss,acc: 1.263103, 61.18% Target domain: tr_loss-3.767528, tr_acc-69.63%\n",
      "100,000c4dTruet10:77.08%:80.42% | 100,000c4dFalset10:58.33%:60.42%\n"
     ]
    },
    {
     "name": "stderr",
     "output_type": "stream",
     "text": [
      "\n",
      "epoch-93  lr=['0.0010000'], tr/val_loss:  0.010848/  2.263151, tr: 100.00%, val:  78.33%, val_best:  80.42%:  98%|█████████▊| 40/41 [00:07<00:00, 10.24it/s]"
     ]
    },
    {
     "name": "stdout",
     "output_type": "stream",
     "text": [
      "Domain loss,acc: 1.261510, 60.78% Target domain: tr_loss-3.762837, tr_acc-70.86%\n",
      "100,000c4dTruet10:78.33%:80.42% | 100,000c4dFalset10:58.33%:60.42%\n"
     ]
    },
    {
     "name": "stderr",
     "output_type": "stream",
     "text": [
      "epoch-93  lr=['0.0010000'], tr/val_loss:  0.010848/  2.263151, tr: 100.00%, val:  78.33%, val_best:  80.42%: 100%|██████████| 41/41 [00:08<00:00,  5.04it/s]\n",
      "epoch-94  lr=['0.0010000'], tr/val_loss:  0.010047/  2.279369, tr: 100.00%, val:  77.92%, val_best:  80.42%: 100%|██████████| 41/41 [00:07<00:00,  5.35it/s]"
     ]
    },
    {
     "name": "stdout",
     "output_type": "stream",
     "text": [
      "Domain loss,acc: 1.255406, 61.29% Target domain: tr_loss-3.746124, tr_acc-70.25%\n",
      "100,000c4dTruet10:77.92%:80.42% | 100,000c4dFalset10:58.33%:60.42%\n"
     ]
    },
    {
     "name": "stderr",
     "output_type": "stream",
     "text": [
      "\n",
      "epoch-95  lr=['0.0010000'], tr/val_loss:  0.010846/  2.271233, tr: 100.00%, val:  77.50%, val_best:  80.42%: 100%|██████████| 41/41 [00:07<00:00,  5.37it/s]"
     ]
    },
    {
     "name": "stdout",
     "output_type": "stream",
     "text": [
      "Domain loss,acc: 1.263776, 62.51% Target domain: tr_loss-3.769635, tr_acc-70.86%\n",
      "100,000c4dTruet10:77.50%:80.42% | 100,000c4dFalset10:57.92%:60.42%\n"
     ]
    },
    {
     "name": "stderr",
     "output_type": "stream",
     "text": [
      "\n",
      "epoch-96  lr=['0.0010000'], tr/val_loss:  0.010471/  2.290223, tr: 100.00%, val:  77.08%, val_best:  80.42%: 100%|██████████| 41/41 [00:07<00:00,  5.20it/s]"
     ]
    },
    {
     "name": "stdout",
     "output_type": "stream",
     "text": [
      "Domain loss,acc: 1.280901, 62.00% Target domain: tr_loss-3.821762, tr_acc-69.33%\n",
      "100,000c4dTruet10:77.08%:80.42% | 100,000c4dFalset10:59.17%:60.42%\n"
     ]
    },
    {
     "name": "stderr",
     "output_type": "stream",
     "text": [
      "\n",
      "epoch-97  lr=['0.0010000'], tr/val_loss:  0.010069/  2.283519, tr: 100.00%, val:  77.92%, val_best:  80.42%: 100%|██████████| 41/41 [00:07<00:00,  5.44it/s]"
     ]
    },
    {
     "name": "stdout",
     "output_type": "stream",
     "text": [
      "Domain loss,acc: 1.288219, 60.16% Target domain: tr_loss-3.844520, tr_acc-69.94%\n",
      "100,000c4dTruet10:77.92%:80.42% | 100,000c4dFalset10:59.17%:60.42%\n"
     ]
    },
    {
     "name": "stderr",
     "output_type": "stream",
     "text": [
      "\n",
      "epoch-98  lr=['0.0010000'], tr/val_loss:  0.010094/  2.274887, tr: 100.00%, val:  78.33%, val_best:  80.42%: 100%|██████████| 41/41 [00:07<00:00,  5.53it/s]"
     ]
    },
    {
     "name": "stdout",
     "output_type": "stream",
     "text": [
      "Domain loss,acc: 1.299544, 61.70% Target domain: tr_loss-3.878446, tr_acc-70.86%\n",
      "100,000c4dTruet10:78.33%:80.42% | 100,000c4dFalset10:58.33%:60.42%\n"
     ]
    },
    {
     "name": "stderr",
     "output_type": "stream",
     "text": [
      "\n",
      "epoch-99  lr=['0.0010000'], tr/val_loss:  0.010051/  2.292659, tr: 100.00%, val:  78.75%, val_best:  80.42%: 100%|██████████| 41/41 [00:07<00:00,  5.24it/s]"
     ]
    },
    {
     "name": "stdout",
     "output_type": "stream",
     "text": [
      "Domain loss,acc: 1.245683, 61.39% Target domain: tr_loss-3.716948, tr_acc-70.25%\n",
      "100,000c4dTruet10:78.75%:80.42% | 100,000c4dFalset10:58.33%:60.42%\n"
     ]
    },
    {
     "name": "stderr",
     "output_type": "stream",
     "text": [
      "\n",
      "epoch-100 lr=['0.0010000'], tr/val_loss:  0.009645/  2.288134, tr: 100.00%, val:  78.33%, val_best:  80.42%: 100%|██████████| 41/41 [00:07<00:00,  5.59it/s]"
     ]
    },
    {
     "name": "stdout",
     "output_type": "stream",
     "text": [
      "Domain loss,acc: 1.271467, 61.70% Target domain: tr_loss-3.795110, tr_acc-71.17%\n",
      "100,000c4dTruet10:78.33%:80.42% | 100,000c4dFalset10:60.00%:60.42%\n"
     ]
    },
    {
     "name": "stderr",
     "output_type": "stream",
     "text": [
      "\n",
      "epoch-101 lr=['0.0010000'], tr/val_loss:  0.009444/  2.291264, tr: 100.00%, val:  79.58%, val_best:  80.42%: 100%|██████████| 41/41 [00:07<00:00,  5.58it/s]"
     ]
    },
    {
     "name": "stdout",
     "output_type": "stream",
     "text": [
      "Domain loss,acc: 1.286755, 62.10% Target domain: tr_loss-3.841377, tr_acc-70.86%\n",
      "100,000c4dTruet10:79.58%:80.42% | 100,000c4dFalset10:60.00%:60.42%\n"
     ]
    },
    {
     "name": "stderr",
     "output_type": "stream",
     "text": [
      "\n",
      "epoch-102 lr=['0.0010000'], tr/val_loss:  0.009691/  2.292716, tr: 100.00%, val:  77.92%, val_best:  80.42%: 100%|██████████| 41/41 [00:07<00:00,  5.52it/s]"
     ]
    },
    {
     "name": "stdout",
     "output_type": "stream",
     "text": [
      "Domain loss,acc: 1.274869, 61.08% Target domain: tr_loss-3.805225, tr_acc-70.86%\n",
      "100,000c4dTruet10:77.92%:80.42% | 100,000c4dFalset10:60.00%:60.42%\n"
     ]
    },
    {
     "name": "stderr",
     "output_type": "stream",
     "text": [
      "\n",
      "epoch-103 lr=['0.0010000'], tr/val_loss:  0.009440/  2.277989, tr: 100.00%, val:  79.58%, val_best:  80.42%: 100%|██████████| 41/41 [00:07<00:00,  5.15it/s]"
     ]
    },
    {
     "name": "stdout",
     "output_type": "stream",
     "text": [
      "Domain loss,acc: 1.297728, 61.39% Target domain: tr_loss-3.874303, tr_acc-71.47%\n",
      "100,000c4dTruet10:79.58%:80.42% | 100,000c4dFalset10:58.33%:60.42%\n"
     ]
    },
    {
     "name": "stderr",
     "output_type": "stream",
     "text": [
      "\n",
      "epoch-104 lr=['0.0010000'], tr/val_loss:  0.008913/  2.297154, tr: 100.00%, val:  79.58%, val_best:  80.42%: 100%|██████████| 41/41 [00:07<00:00,  5.23it/s]"
     ]
    },
    {
     "name": "stdout",
     "output_type": "stream",
     "text": [
      "Domain loss,acc: 1.264919, 61.18% Target domain: tr_loss-3.776930, tr_acc-71.47%\n",
      "100,000c4dTruet10:79.58%:80.42% | 100,000c4dFalset10:59.17%:60.42%\n"
     ]
    },
    {
     "name": "stderr",
     "output_type": "stream",
     "text": [
      "\n",
      "epoch-105 lr=['0.0010000'], tr/val_loss:  0.009056/  2.299615, tr: 100.00%, val:  78.75%, val_best:  80.42%: 100%|██████████| 41/41 [00:07<00:00,  5.28it/s]"
     ]
    },
    {
     "name": "stdout",
     "output_type": "stream",
     "text": [
      "Domain loss,acc: 1.296196, 61.80% Target domain: tr_loss-3.870477, tr_acc-70.55%\n",
      "100,000c4dTruet10:78.75%:80.42% | 100,000c4dFalset10:58.33%:60.42%\n"
     ]
    },
    {
     "name": "stderr",
     "output_type": "stream",
     "text": [
      "\n",
      "epoch-106 lr=['0.0010000'], tr/val_loss:  0.009145/  2.302661, tr: 100.00%, val:  79.17%, val_best:  80.42%: 100%|██████████| 41/41 [00:07<00:00,  5.42it/s]"
     ]
    },
    {
     "name": "stdout",
     "output_type": "stream",
     "text": [
      "Domain loss,acc: 1.282064, 62.51% Target domain: tr_loss-3.827903, tr_acc-70.86%\n",
      "100,000c4dTruet10:79.17%:80.42% | 100,000c4dFalset10:58.75%:60.42%\n"
     ]
    },
    {
     "name": "stderr",
     "output_type": "stream",
     "text": [
      "\n",
      "epoch-107 lr=['0.0010000'], tr/val_loss:  0.008294/  2.307211, tr: 100.00%, val:  79.58%, val_best:  80.42%: 100%|██████████| 41/41 [00:07<00:00,  5.37it/s]"
     ]
    },
    {
     "name": "stdout",
     "output_type": "stream",
     "text": [
      "Domain loss,acc: 1.266419, 61.29% Target domain: tr_loss-3.782669, tr_acc-71.78%\n",
      "100,000c4dTruet10:79.58%:80.42% | 100,000c4dFalset10:59.58%:60.42%\n"
     ]
    },
    {
     "name": "stderr",
     "output_type": "stream",
     "text": [
      "\n",
      "epoch-108 lr=['0.0010000'], tr/val_loss:  0.008222/  2.307035, tr: 100.00%, val:  78.33%, val_best:  80.42%: 100%|██████████| 41/41 [00:07<00:00,  5.13it/s]"
     ]
    },
    {
     "name": "stdout",
     "output_type": "stream",
     "text": [
      "Domain loss,acc: 1.290189, 61.49% Target domain: tr_loss-3.854121, tr_acc-71.47%\n",
      "100,000c4dTruet10:78.33%:80.42% | 100,000c4dFalset10:59.17%:60.42%\n"
     ]
    },
    {
     "name": "stderr",
     "output_type": "stream",
     "text": [
      "\n",
      "epoch-109 lr=['0.0010000'], tr/val_loss:  0.008318/  2.314876, tr: 100.00%, val:  78.75%, val_best:  80.42%: 100%|██████████| 41/41 [00:07<00:00,  5.29it/s]"
     ]
    },
    {
     "name": "stdout",
     "output_type": "stream",
     "text": [
      "Domain loss,acc: 1.296262, 62.31% Target domain: tr_loss-3.872151, tr_acc-69.94%\n",
      "100,000c4dTruet10:78.75%:80.42% | 100,000c4dFalset10:60.00%:60.42%\n"
     ]
    },
    {
     "name": "stderr",
     "output_type": "stream",
     "text": [
      "\n",
      "epoch-110 lr=['0.0010000'], tr/val_loss:  0.008036/  2.318755, tr: 100.00%, val:  79.17%, val_best:  80.42%: 100%|██████████| 41/41 [00:07<00:00,  5.48it/s]"
     ]
    },
    {
     "name": "stdout",
     "output_type": "stream",
     "text": [
      "Domain loss,acc: 1.272315, 62.10% Target domain: tr_loss-3.800871, tr_acc-70.86%\n",
      "100,000c4dTruet10:79.17%:80.42% | 100,000c4dFalset10:60.42%:60.42%\n"
     ]
    },
    {
     "name": "stderr",
     "output_type": "stream",
     "text": [
      "\n",
      "epoch-111 lr=['0.0010000'], tr/val_loss:  0.008072/  2.335168, tr: 100.00%, val:  78.75%, val_best:  80.42%: 100%|██████████| 41/41 [00:07<00:00,  5.31it/s]"
     ]
    },
    {
     "name": "stdout",
     "output_type": "stream",
     "text": [
      "Domain loss,acc: 1.301103, 61.49% Target domain: tr_loss-3.887164, tr_acc-70.25%\n",
      "100,000c4dTruet10:78.75%:80.42% | 100,000c4dFalset10:58.75%:60.42%\n"
     ]
    },
    {
     "name": "stderr",
     "output_type": "stream",
     "text": [
      "\n",
      "epoch-112 lr=['0.0010000'], tr/val_loss:  0.007880/  2.313032, tr: 100.00%, val:  79.58%, val_best:  80.42%: 100%|██████████| 41/41 [00:07<00:00,  5.28it/s]"
     ]
    },
    {
     "name": "stdout",
     "output_type": "stream",
     "text": [
      "Domain loss,acc: 1.291324, 62.00% Target domain: tr_loss-3.858212, tr_acc-70.55%\n",
      "100,000c4dTruet10:79.58%:80.42% | 100,000c4dFalset10:60.00%:60.42%\n"
     ]
    },
    {
     "name": "stderr",
     "output_type": "stream",
     "text": [
      "\n",
      "epoch-113 lr=['0.0010000'], tr/val_loss:  0.007569/  2.337139, tr: 100.00%, val:  79.58%, val_best:  80.42%: 100%|██████████| 41/41 [00:07<00:00,  5.15it/s]"
     ]
    },
    {
     "name": "stdout",
     "output_type": "stream",
     "text": [
      "Domain loss,acc: 1.285417, 62.10% Target domain: tr_loss-3.841111, tr_acc-70.25%\n",
      "100,000c4dTruet10:79.58%:80.42% | 100,000c4dFalset10:58.75%:60.42%\n"
     ]
    },
    {
     "name": "stderr",
     "output_type": "stream",
     "text": [
      "\n",
      "epoch-114 lr=['0.0010000'], tr/val_loss:  0.007793/  2.339150, tr: 100.00%, val:  77.92%, val_best:  80.42%: 100%|██████████| 41/41 [00:07<00:00,  5.43it/s]"
     ]
    },
    {
     "name": "stdout",
     "output_type": "stream",
     "text": [
      "Domain loss,acc: 1.310062, 62.41% Target domain: tr_loss-3.914601, tr_acc-70.55%\n",
      "100,000c4dTruet10:77.92%:80.42% | 100,000c4dFalset10:59.17%:60.42%\n"
     ]
    },
    {
     "name": "stderr",
     "output_type": "stream",
     "text": [
      "\n",
      "epoch-115 lr=['0.0010000'], tr/val_loss:  0.007710/  2.323223, tr: 100.00%, val:  79.58%, val_best:  80.42%: 100%|██████████| 41/41 [00:07<00:00,  5.26it/s]"
     ]
    },
    {
     "name": "stdout",
     "output_type": "stream",
     "text": [
      "Domain loss,acc: 1.298756, 62.10% Target domain: tr_loss-3.880848, tr_acc-70.25%\n",
      "100,000c4dTruet10:79.58%:80.42% | 100,000c4dFalset10:60.42%:60.42%\n"
     ]
    },
    {
     "name": "stderr",
     "output_type": "stream",
     "text": [
      "\n",
      "epoch-116 lr=['0.0010000'], tr/val_loss:  0.008068/  2.353137, tr: 100.00%, val:  79.17%, val_best:  80.42%: 100%|██████████| 41/41 [00:08<00:00,  4.78it/s]"
     ]
    },
    {
     "name": "stdout",
     "output_type": "stream",
     "text": [
      "Domain loss,acc: 1.304512, 61.80% Target domain: tr_loss-3.897401, tr_acc-71.17%\n",
      "100,000c4dTruet10:79.17%:80.42% | 100,000c4dFalset10:59.58%:60.42%\n"
     ]
    },
    {
     "name": "stderr",
     "output_type": "stream",
     "text": [
      "\n",
      "epoch-117 lr=['0.0010000'], tr/val_loss:  0.007653/  2.354833, tr: 100.00%, val:  77.08%, val_best:  80.42%: 100%|██████████| 41/41 [00:07<00:00,  5.46it/s]"
     ]
    },
    {
     "name": "stdout",
     "output_type": "stream",
     "text": [
      "Domain loss,acc: 1.290455, 61.39% Target domain: tr_loss-3.856060, tr_acc-70.25%\n",
      "100,000c4dTruet10:77.08%:80.42% | 100,000c4dFalset10:58.33%:60.42%\n"
     ]
    },
    {
     "name": "stderr",
     "output_type": "stream",
     "text": [
      "\n",
      "epoch-118 lr=['0.0010000'], tr/val_loss:  0.007799/  2.364597, tr: 100.00%, val:  78.33%, val_best:  80.42%: 100%|██████████| 41/41 [00:07<00:00,  5.29it/s]"
     ]
    },
    {
     "name": "stdout",
     "output_type": "stream",
     "text": [
      "Domain loss,acc: 1.293251, 62.31% Target domain: tr_loss-3.864155, tr_acc-70.25%\n",
      "100,000c4dTruet10:78.33%:80.42% | 100,000c4dFalset10:58.75%:60.42%\n"
     ]
    },
    {
     "name": "stderr",
     "output_type": "stream",
     "text": [
      "\n",
      "epoch-119 lr=['0.0010000'], tr/val_loss:  0.007680/  2.353555, tr: 100.00%, val:  78.33%, val_best:  80.42%: 100%|██████████| 41/41 [00:07<00:00,  5.42it/s]"
     ]
    },
    {
     "name": "stdout",
     "output_type": "stream",
     "text": [
      "Domain loss,acc: 1.307536, 62.61% Target domain: tr_loss-3.907250, tr_acc-70.55%\n",
      "100,000c4dTruet10:78.33%:80.42% | 100,000c4dFalset10:57.92%:60.42%\n"
     ]
    },
    {
     "name": "stderr",
     "output_type": "stream",
     "text": [
      "\n",
      "epoch-120 lr=['0.0010000'], tr/val_loss:  0.007284/  2.361561, tr: 100.00%, val:  79.17%, val_best:  80.42%: 100%|██████████| 41/41 [00:08<00:00,  5.03it/s]"
     ]
    },
    {
     "name": "stdout",
     "output_type": "stream",
     "text": [
      "Domain loss,acc: 1.293748, 61.59% Target domain: tr_loss-3.866674, tr_acc-70.86%\n",
      "100,000c4dTruet10:79.17%:80.42% | 100,000c4dFalset10:58.33%:60.42%\n"
     ]
    },
    {
     "name": "stderr",
     "output_type": "stream",
     "text": [
      "\n",
      "epoch-121 lr=['0.0010000'], tr/val_loss:  0.007237/  2.358720, tr: 100.00%, val:  78.75%, val_best:  80.42%: 100%|██████████| 41/41 [00:07<00:00,  5.16it/s]"
     ]
    },
    {
     "name": "stdout",
     "output_type": "stream",
     "text": [
      "Domain loss,acc: 1.318949, 62.00% Target domain: tr_loss-3.942370, tr_acc-70.55%\n",
      "100,000c4dTruet10:78.75%:80.42% | 100,000c4dFalset10:58.33%:60.42%\n"
     ]
    },
    {
     "name": "stderr",
     "output_type": "stream",
     "text": [
      "\n",
      "epoch-122 lr=['0.0010000'], tr/val_loss:  0.007361/  2.350706, tr: 100.00%, val:  78.75%, val_best:  80.42%: 100%|██████████| 41/41 [00:07<00:00,  5.14it/s]"
     ]
    },
    {
     "name": "stdout",
     "output_type": "stream",
     "text": [
      "Domain loss,acc: 1.303852, 61.80% Target domain: tr_loss-3.896836, tr_acc-70.55%\n",
      "100,000c4dTruet10:78.75%:80.42% | 100,000c4dFalset10:58.75%:60.42%\n"
     ]
    },
    {
     "name": "stderr",
     "output_type": "stream",
     "text": [
      "\n",
      "epoch-123 lr=['0.0010000'], tr/val_loss:  0.007093/  2.350779, tr: 100.00%, val:  78.75%, val_best:  80.42%: 100%|██████████| 41/41 [00:07<00:00,  5.42it/s]"
     ]
    },
    {
     "name": "stdout",
     "output_type": "stream",
     "text": [
      "Domain loss,acc: 1.309402, 62.41% Target domain: tr_loss-3.914021, tr_acc-71.78%\n",
      "100,000c4dTruet10:78.75%:80.42% | 100,000c4dFalset10:58.33%:60.42%\n"
     ]
    },
    {
     "name": "stderr",
     "output_type": "stream",
     "text": [
      "\n",
      "epoch-124 lr=['0.0010000'], tr/val_loss:  0.006690/  2.357025, tr: 100.00%, val:  78.75%, val_best:  80.42%: 100%|██████████| 41/41 [00:08<00:00,  5.08it/s]"
     ]
    },
    {
     "name": "stdout",
     "output_type": "stream",
     "text": [
      "Domain loss,acc: 1.294040, 61.59% Target domain: tr_loss-3.868738, tr_acc-70.86%\n",
      "100,000c4dTruet10:78.75%:80.42% | 100,000c4dFalset10:60.42%:60.42%\n"
     ]
    },
    {
     "name": "stderr",
     "output_type": "stream",
     "text": [
      "\n",
      "epoch-125 lr=['0.0010000'], tr/val_loss:  0.006986/  2.366269, tr: 100.00%, val:  79.58%, val_best:  80.42%: 100%|██████████| 41/41 [00:07<00:00,  5.17it/s]"
     ]
    },
    {
     "name": "stdout",
     "output_type": "stream",
     "text": [
      "Domain loss,acc: 1.285498, 62.00% Target domain: tr_loss-3.842523, tr_acc-70.55%\n",
      "100,000c4dTruet10:79.58%:80.42% | 100,000c4dFalset10:57.92%:60.42%\n"
     ]
    },
    {
     "name": "stderr",
     "output_type": "stream",
     "text": [
      "\n",
      "epoch-126 lr=['0.0010000'], tr/val_loss:  0.006634/  2.362317, tr: 100.00%, val:  78.33%, val_best:  80.42%: 100%|██████████| 41/41 [00:07<00:00,  5.49it/s]"
     ]
    },
    {
     "name": "stdout",
     "output_type": "stream",
     "text": [
      "Domain loss,acc: 1.296647, 61.59% Target domain: tr_loss-3.876673, tr_acc-70.86%\n",
      "100,000c4dTruet10:78.33%:80.42% | 100,000c4dFalset10:58.33%:60.42%\n"
     ]
    },
    {
     "name": "stderr",
     "output_type": "stream",
     "text": [
      "\n",
      "epoch-127 lr=['0.0010000'], tr/val_loss:  0.006550/  2.384175, tr: 100.00%, val:  78.33%, val_best:  80.42%: 100%|██████████| 41/41 [00:07<00:00,  5.32it/s]"
     ]
    },
    {
     "name": "stdout",
     "output_type": "stream",
     "text": [
      "Domain loss,acc: 1.305193, 62.00% Target domain: tr_loss-3.902482, tr_acc-71.17%\n",
      "100,000c4dTruet10:78.33%:80.42% | 100,000c4dFalset10:57.50%:60.42%\n"
     ]
    },
    {
     "name": "stderr",
     "output_type": "stream",
     "text": [
      "\n",
      "epoch-128 lr=['0.0010000'], tr/val_loss:  0.007082/  2.378755, tr: 100.00%, val:  79.58%, val_best:  80.42%: 100%|██████████| 41/41 [00:07<00:00,  5.34it/s]"
     ]
    },
    {
     "name": "stdout",
     "output_type": "stream",
     "text": [
      "Domain loss,acc: 1.305497, 61.70% Target domain: tr_loss-3.902324, tr_acc-70.55%\n",
      "100,000c4dTruet10:79.58%:80.42% | 100,000c4dFalset10:58.33%:60.42%\n"
     ]
    },
    {
     "name": "stderr",
     "output_type": "stream",
     "text": [
      "\n",
      "epoch-129 lr=['0.0010000'], tr/val_loss:  0.006185/  2.385189, tr: 100.00%, val:  80.00%, val_best:  80.42%: 100%|██████████| 41/41 [00:07<00:00,  5.74it/s]"
     ]
    },
    {
     "name": "stdout",
     "output_type": "stream",
     "text": [
      "Domain loss,acc: 1.305552, 62.92% Target domain: tr_loss-3.904288, tr_acc-70.55%\n",
      "100,000c4dTruet10:80.00%:80.42% | 100,000c4dFalset10:58.33%:60.42%\n"
     ]
    },
    {
     "name": "stderr",
     "output_type": "stream",
     "text": [
      "\n",
      "epoch-130 lr=['0.0010000'], tr/val_loss:  0.006131/  2.387090, tr: 100.00%, val:  80.00%, val_best:  80.42%: 100%|██████████| 41/41 [00:07<00:00,  5.45it/s]"
     ]
    },
    {
     "name": "stdout",
     "output_type": "stream",
     "text": [
      "Domain loss,acc: 1.309551, 62.41% Target domain: tr_loss-3.916391, tr_acc-70.25%\n",
      "100,000c4dTruet10:80.00%:80.42% | 100,000c4dFalset10:58.75%:60.42%\n"
     ]
    },
    {
     "name": "stderr",
     "output_type": "stream",
     "text": [
      "\n",
      "epoch-131 lr=['0.0010000'], tr/val_loss:  0.006090/  2.391638, tr: 100.00%, val:  78.33%, val_best:  80.42%: 100%|██████████| 41/41 [00:07<00:00,  5.33it/s]"
     ]
    },
    {
     "name": "stdout",
     "output_type": "stream",
     "text": [
      "Domain loss,acc: 1.291996, 62.21% Target domain: tr_loss-3.863809, tr_acc-70.55%\n",
      "100,000c4dTruet10:78.33%:80.42% | 100,000c4dFalset10:59.58%:60.42%\n"
     ]
    },
    {
     "name": "stderr",
     "output_type": "stream",
     "text": [
      "\n",
      "epoch-132 lr=['0.0010000'], tr/val_loss:  0.006147/  2.393083, tr: 100.00%, val:  78.33%, val_best:  80.42%: 100%|██████████| 41/41 [00:08<00:00,  4.99it/s]"
     ]
    },
    {
     "name": "stdout",
     "output_type": "stream",
     "text": [
      "Domain loss,acc: 1.298509, 61.70% Target domain: tr_loss-3.883235, tr_acc-70.86%\n",
      "100,000c4dTruet10:78.33%:80.42% | 100,000c4dFalset10:60.42%:60.42%\n"
     ]
    },
    {
     "name": "stderr",
     "output_type": "stream",
     "text": [
      "\n",
      "epoch-133 lr=['0.0010000'], tr/val_loss:  0.005908/  2.402860, tr: 100.00%, val:  79.17%, val_best:  80.42%: 100%|██████████| 41/41 [00:07<00:00,  5.23it/s]"
     ]
    },
    {
     "name": "stdout",
     "output_type": "stream",
     "text": [
      "Domain loss,acc: 1.317619, 62.00% Target domain: tr_loss-3.941040, tr_acc-71.78%\n",
      "100,000c4dTruet10:79.17%:80.42% | 100,000c4dFalset10:60.00%:60.42%\n"
     ]
    },
    {
     "name": "stderr",
     "output_type": "stream",
     "text": [
      "\n",
      "epoch-134 lr=['0.0010000'], tr/val_loss:  0.006112/  2.408754, tr: 100.00%, val:  78.75%, val_best:  80.42%: 100%|██████████| 41/41 [00:07<00:00,  5.34it/s]"
     ]
    },
    {
     "name": "stdout",
     "output_type": "stream",
     "text": [
      "Domain loss,acc: 1.294270, 62.21% Target domain: tr_loss-3.870585, tr_acc-70.55%\n",
      "100,000c4dTruet10:78.75%:80.42% | 100,000c4dFalset10:61.25%:61.25%\n"
     ]
    },
    {
     "name": "stderr",
     "output_type": "stream",
     "text": [
      "\n",
      "epoch-135 lr=['0.0010000'], tr/val_loss:  0.005626/  2.417369, tr: 100.00%, val:  79.58%, val_best:  80.42%: 100%|██████████| 41/41 [00:07<00:00,  5.37it/s]"
     ]
    },
    {
     "name": "stdout",
     "output_type": "stream",
     "text": [
      "Domain loss,acc: 1.317925, 62.61% Target domain: tr_loss-3.942523, tr_acc-71.17%\n",
      "100,000c4dTruet10:79.58%:80.42% | 100,000c4dFalset10:60.42%:61.25%\n"
     ]
    },
    {
     "name": "stderr",
     "output_type": "stream",
     "text": [
      "\n",
      "epoch-136 lr=['0.0010000'], tr/val_loss:  0.005618/  2.409987, tr: 100.00%, val:  79.58%, val_best:  80.42%: 100%|██████████| 41/41 [00:07<00:00,  5.54it/s]"
     ]
    },
    {
     "name": "stdout",
     "output_type": "stream",
     "text": [
      "Domain loss,acc: 1.323104, 61.90% Target domain: tr_loss-3.958078, tr_acc-71.47%\n",
      "100,000c4dTruet10:79.58%:80.42% | 100,000c4dFalset10:60.83%:61.25%\n"
     ]
    },
    {
     "name": "stderr",
     "output_type": "stream",
     "text": [
      "\n",
      "epoch-137 lr=['0.0010000'], tr/val_loss:  0.005682/  2.415283, tr: 100.00%, val:  78.75%, val_best:  80.42%: 100%|██████████| 41/41 [00:07<00:00,  5.35it/s]"
     ]
    },
    {
     "name": "stdout",
     "output_type": "stream",
     "text": [
      "Domain loss,acc: 1.320565, 62.00% Target domain: tr_loss-3.950331, tr_acc-71.17%\n",
      "100,000c4dTruet10:78.75%:80.42% | 100,000c4dFalset10:60.42%:61.25%\n"
     ]
    },
    {
     "name": "stderr",
     "output_type": "stream",
     "text": [
      "\n",
      "epoch-138 lr=['0.0010000'], tr/val_loss:  0.005477/  2.419503, tr: 100.00%, val:  78.75%, val_best:  80.42%: 100%|██████████| 41/41 [00:07<00:00,  5.20it/s]"
     ]
    },
    {
     "name": "stdout",
     "output_type": "stream",
     "text": [
      "Domain loss,acc: 1.330556, 62.41% Target domain: tr_loss-3.980713, tr_acc-70.25%\n",
      "100,000c4dTruet10:78.75%:80.42% | 100,000c4dFalset10:60.42%:61.25%\n"
     ]
    },
    {
     "name": "stderr",
     "output_type": "stream",
     "text": [
      "\n",
      "epoch-139 lr=['0.0010000'], tr/val_loss:  0.005707/  2.412042, tr: 100.00%, val:  78.75%, val_best:  80.42%: 100%|██████████| 41/41 [00:07<00:00,  5.19it/s]"
     ]
    },
    {
     "name": "stdout",
     "output_type": "stream",
     "text": [
      "Domain loss,acc: 1.319661, 61.90% Target domain: tr_loss-3.947570, tr_acc-69.94%\n",
      "100,000c4dTruet10:78.75%:80.42% | 100,000c4dFalset10:60.00%:61.25%\n"
     ]
    },
    {
     "name": "stderr",
     "output_type": "stream",
     "text": [
      "\n",
      "epoch-140 lr=['0.0010000'], tr/val_loss:  0.005700/  2.417510, tr: 100.00%, val:  78.33%, val_best:  80.42%: 100%|██████████| 41/41 [00:07<00:00,  5.28it/s]"
     ]
    },
    {
     "name": "stdout",
     "output_type": "stream",
     "text": [
      "Domain loss,acc: 1.308065, 62.10% Target domain: tr_loss-3.912794, tr_acc-69.63%\n",
      "100,000c4dTruet10:78.33%:80.42% | 100,000c4dFalset10:60.00%:61.25%\n"
     ]
    },
    {
     "name": "stderr",
     "output_type": "stream",
     "text": [
      "\n",
      "epoch-141 lr=['0.0010000'], tr/val_loss:  0.005674/  2.416207, tr: 100.00%, val:  78.75%, val_best:  80.42%: 100%|██████████| 41/41 [00:07<00:00,  5.45it/s]"
     ]
    },
    {
     "name": "stdout",
     "output_type": "stream",
     "text": [
      "Domain loss,acc: 1.317453, 62.00% Target domain: tr_loss-3.941011, tr_acc-70.55%\n",
      "100,000c4dTruet10:78.75%:80.42% | 100,000c4dFalset10:60.42%:61.25%\n"
     ]
    },
    {
     "name": "stderr",
     "output_type": "stream",
     "text": [
      "\n",
      "epoch-142 lr=['0.0010000'], tr/val_loss:  0.005255/  2.414049, tr: 100.00%, val:  78.75%, val_best:  80.42%: 100%|██████████| 41/41 [00:07<00:00,  5.45it/s]"
     ]
    },
    {
     "name": "stdout",
     "output_type": "stream",
     "text": [
      "Domain loss,acc: 1.357148, 62.00% Target domain: tr_loss-4.060935, tr_acc-69.63%\n",
      "100,000c4dTruet10:78.75%:80.42% | 100,000c4dFalset10:60.42%:61.25%\n"
     ]
    },
    {
     "name": "stderr",
     "output_type": "stream",
     "text": [
      "\n",
      "epoch-143 lr=['0.0010000'], tr/val_loss:  0.005048/  2.421706, tr: 100.00%, val:  78.75%, val_best:  80.42%: 100%|██████████| 41/41 [00:07<00:00,  5.48it/s]"
     ]
    },
    {
     "name": "stdout",
     "output_type": "stream",
     "text": [
      "Domain loss,acc: 1.314079, 62.21% Target domain: tr_loss-3.932141, tr_acc-70.25%\n",
      "100,000c4dTruet10:78.75%:80.42% | 100,000c4dFalset10:60.00%:61.25%\n"
     ]
    },
    {
     "name": "stderr",
     "output_type": "stream",
     "text": [
      "\n",
      "epoch-144 lr=['0.0010000'], tr/val_loss:  0.005704/  2.404238, tr: 100.00%, val:  78.75%, val_best:  80.42%: 100%|██████████| 41/41 [00:07<00:00,  5.54it/s]"
     ]
    },
    {
     "name": "stdout",
     "output_type": "stream",
     "text": [
      "Domain loss,acc: 1.320907, 61.49% Target domain: tr_loss-3.951314, tr_acc-69.94%\n",
      "100,000c4dTruet10:78.75%:80.42% | 100,000c4dFalset10:60.00%:61.25%\n"
     ]
    },
    {
     "name": "stderr",
     "output_type": "stream",
     "text": [
      "\n",
      "epoch-145 lr=['0.0010000'], tr/val_loss:  0.005548/  2.417543, tr: 100.00%, val:  78.33%, val_best:  80.42%: 100%|██████████| 41/41 [00:07<00:00,  5.54it/s]"
     ]
    },
    {
     "name": "stdout",
     "output_type": "stream",
     "text": [
      "Domain loss,acc: 1.319692, 61.18% Target domain: tr_loss-3.947980, tr_acc-71.17%\n",
      "100,000c4dTruet10:78.33%:80.42% | 100,000c4dFalset10:59.58%:61.25%\n"
     ]
    },
    {
     "name": "stderr",
     "output_type": "stream",
     "text": [
      "\n",
      "epoch-146 lr=['0.0010000'], tr/val_loss:  0.005492/  2.419980, tr: 100.00%, val:  78.33%, val_best:  80.42%: 100%|██████████| 41/41 [00:07<00:00,  5.41it/s]"
     ]
    },
    {
     "name": "stdout",
     "output_type": "stream",
     "text": [
      "Domain loss,acc: 1.341283, 62.00% Target domain: tr_loss-4.012866, tr_acc-70.55%\n",
      "100,000c4dTruet10:78.33%:80.42% | 100,000c4dFalset10:59.58%:61.25%\n"
     ]
    },
    {
     "name": "stderr",
     "output_type": "stream",
     "text": [
      "\n",
      "epoch-147 lr=['0.0010000'], tr/val_loss:  0.004911/  2.429816, tr: 100.00%, val:  77.92%, val_best:  80.42%: 100%|██████████| 41/41 [00:07<00:00,  5.70it/s]"
     ]
    },
    {
     "name": "stdout",
     "output_type": "stream",
     "text": [
      "Domain loss,acc: 1.340402, 61.29% Target domain: tr_loss-4.011385, tr_acc-69.63%\n",
      "100,000c4dTruet10:77.92%:80.42% | 100,000c4dFalset10:59.17%:61.25%\n"
     ]
    },
    {
     "name": "stderr",
     "output_type": "stream",
     "text": [
      "\n",
      "epoch-148 lr=['0.0010000'], tr/val_loss:  0.005160/  2.423328, tr: 100.00%, val:  78.33%, val_best:  80.42%: 100%|██████████| 41/41 [00:07<00:00,  5.39it/s]"
     ]
    },
    {
     "name": "stdout",
     "output_type": "stream",
     "text": [
      "Domain loss,acc: 1.323554, 61.08% Target domain: tr_loss-3.960340, tr_acc-70.25%\n",
      "100,000c4dTruet10:78.33%:80.42% | 100,000c4dFalset10:60.83%:61.25%\n"
     ]
    },
    {
     "name": "stderr",
     "output_type": "stream",
     "text": [
      "\n",
      "epoch-149 lr=['0.0010000'], tr/val_loss:  0.005004/  2.431241, tr: 100.00%, val:  78.33%, val_best:  80.42%: 100%|██████████| 41/41 [00:07<00:00,  5.51it/s]"
     ]
    },
    {
     "name": "stdout",
     "output_type": "stream",
     "text": [
      "Domain loss,acc: 1.318823, 61.39% Target domain: tr_loss-3.946463, tr_acc-69.94%\n",
      "100,000c4dTruet10:78.33%:80.42% | 100,000c4dFalset10:60.83%:61.25%\n"
     ]
    },
    {
     "name": "stderr",
     "output_type": "stream",
     "text": [
      "\n",
      "epoch-150 lr=['0.0010000'], tr/val_loss:  0.004944/  2.435585, tr: 100.00%, val:  79.17%, val_best:  80.42%: 100%|██████████| 41/41 [00:07<00:00,  5.19it/s]"
     ]
    },
    {
     "name": "stdout",
     "output_type": "stream",
     "text": [
      "Domain loss,acc: 1.338507, 61.59% Target domain: tr_loss-4.005632, tr_acc-69.33%\n",
      "100,000c4dTruet10:79.17%:80.42% | 100,000c4dFalset10:60.00%:61.25%\n"
     ]
    },
    {
     "name": "stderr",
     "output_type": "stream",
     "text": [
      "\n",
      "epoch-151 lr=['0.0010000'], tr/val_loss:  0.004864/  2.432788, tr: 100.00%, val:  78.33%, val_best:  80.42%: 100%|██████████| 41/41 [00:08<00:00,  5.07it/s]"
     ]
    },
    {
     "name": "stdout",
     "output_type": "stream",
     "text": [
      "Domain loss,acc: 1.329318, 61.90% Target domain: tr_loss-3.978227, tr_acc-69.94%\n",
      "100,000c4dTruet10:78.33%:80.42% | 100,000c4dFalset10:60.42%:61.25%\n"
     ]
    },
    {
     "name": "stderr",
     "output_type": "stream",
     "text": [
      "\n",
      "epoch-152 lr=['0.0010000'], tr/val_loss:  0.004922/  2.429087, tr: 100.00%, val:  78.33%, val_best:  80.42%: 100%|██████████| 41/41 [00:07<00:00,  5.19it/s]"
     ]
    },
    {
     "name": "stdout",
     "output_type": "stream",
     "text": [
      "Domain loss,acc: 1.335233, 61.39% Target domain: tr_loss-3.995854, tr_acc-70.25%\n",
      "100,000c4dTruet10:78.33%:80.42% | 100,000c4dFalset10:61.67%:61.67%\n"
     ]
    },
    {
     "name": "stderr",
     "output_type": "stream",
     "text": [
      "\n",
      "epoch-153 lr=['0.0010000'], tr/val_loss:  0.004650/  2.431814, tr: 100.00%, val:  79.17%, val_best:  80.42%: 100%|██████████| 41/41 [00:08<00:00,  4.89it/s]"
     ]
    },
    {
     "name": "stdout",
     "output_type": "stream",
     "text": [
      "Domain loss,acc: 1.331270, 61.49% Target domain: tr_loss-3.984511, tr_acc-69.94%\n",
      "100,000c4dTruet10:79.17%:80.42% | 100,000c4dFalset10:60.42%:61.67%\n"
     ]
    },
    {
     "name": "stderr",
     "output_type": "stream",
     "text": [
      "\n",
      "epoch-154 lr=['0.0010000'], tr/val_loss:  0.004815/  2.438867, tr: 100.00%, val:  78.33%, val_best:  80.42%: 100%|██████████| 41/41 [00:07<00:00,  5.42it/s]"
     ]
    },
    {
     "name": "stdout",
     "output_type": "stream",
     "text": [
      "Domain loss,acc: 1.318832, 61.70% Target domain: tr_loss-3.946866, tr_acc-69.63%\n",
      "100,000c4dTruet10:78.33%:80.42% | 100,000c4dFalset10:60.42%:61.67%\n"
     ]
    },
    {
     "name": "stderr",
     "output_type": "stream",
     "text": [
      "\n",
      "epoch-155 lr=['0.0010000'], tr/val_loss:  0.005009/  2.437364, tr: 100.00%, val:  79.58%, val_best:  80.42%: 100%|██████████| 41/41 [00:07<00:00,  5.45it/s]"
     ]
    },
    {
     "name": "stdout",
     "output_type": "stream",
     "text": [
      "Domain loss,acc: 1.354068, 61.08% Target domain: tr_loss-4.052188, tr_acc-69.94%\n",
      "100,000c4dTruet10:79.58%:80.42% | 100,000c4dFalset10:60.83%:61.67%\n"
     ]
    },
    {
     "name": "stderr",
     "output_type": "stream",
     "text": [
      "\n",
      "epoch-156 lr=['0.0010000'], tr/val_loss:  0.004795/  2.432159, tr: 100.00%, val:  79.17%, val_best:  80.42%: 100%|██████████| 41/41 [00:07<00:00,  5.69it/s]"
     ]
    },
    {
     "name": "stdout",
     "output_type": "stream",
     "text": [
      "Domain loss,acc: 1.331110, 61.29% Target domain: tr_loss-3.983738, tr_acc-69.94%\n",
      "100,000c4dTruet10:79.17%:80.42% | 100,000c4dFalset10:60.42%:61.67%\n"
     ]
    },
    {
     "name": "stderr",
     "output_type": "stream",
     "text": [
      "\n",
      "epoch-157 lr=['0.0010000'], tr/val_loss:  0.004629/  2.442210, tr: 100.00%, val:  77.92%, val_best:  80.42%: 100%|██████████| 41/41 [00:07<00:00,  5.57it/s]"
     ]
    },
    {
     "name": "stdout",
     "output_type": "stream",
     "text": [
      "Domain loss,acc: 1.340906, 61.08% Target domain: tr_loss-4.013459, tr_acc-70.86%\n",
      "100,000c4dTruet10:77.92%:80.42% | 100,000c4dFalset10:59.17%:61.67%\n"
     ]
    },
    {
     "name": "stderr",
     "output_type": "stream",
     "text": [
      "\n",
      "epoch-158 lr=['0.0010000'], tr/val_loss:  0.004630/  2.446321, tr: 100.00%, val:  77.92%, val_best:  80.42%: 100%|██████████| 41/41 [00:07<00:00,  5.50it/s]"
     ]
    },
    {
     "name": "stdout",
     "output_type": "stream",
     "text": [
      "Domain loss,acc: 1.337058, 60.88% Target domain: tr_loss-4.001915, tr_acc-70.55%\n",
      "100,000c4dTruet10:77.92%:80.42% | 100,000c4dFalset10:61.25%:61.67%\n"
     ]
    },
    {
     "name": "stderr",
     "output_type": "stream",
     "text": [
      "\n",
      "epoch-159 lr=['0.0010000'], tr/val_loss:  0.004733/  2.444017, tr: 100.00%, val:  78.75%, val_best:  80.42%: 100%|██████████| 41/41 [00:07<00:00,  5.41it/s]"
     ]
    },
    {
     "name": "stdout",
     "output_type": "stream",
     "text": [
      "Domain loss,acc: 1.329722, 61.29% Target domain: tr_loss-3.979699, tr_acc-69.94%\n",
      "100,000c4dTruet10:78.75%:80.42% | 100,000c4dFalset10:60.83%:61.67%\n"
     ]
    },
    {
     "name": "stderr",
     "output_type": "stream",
     "text": [
      "\n",
      "epoch-160 lr=['0.0010000'], tr/val_loss:  0.004634/  2.452277, tr: 100.00%, val:  78.75%, val_best:  80.42%: 100%|██████████| 41/41 [00:07<00:00,  5.31it/s]"
     ]
    },
    {
     "name": "stdout",
     "output_type": "stream",
     "text": [
      "Domain loss,acc: 1.333706, 60.98% Target domain: tr_loss-3.991850, tr_acc-70.25%\n",
      "100,000c4dTruet10:78.75%:80.42% | 100,000c4dFalset10:60.42%:61.67%\n"
     ]
    },
    {
     "name": "stderr",
     "output_type": "stream",
     "text": [
      "\n",
      "epoch-161 lr=['0.0010000'], tr/val_loss:  0.004690/  2.438502, tr: 100.00%, val:  78.75%, val_best:  80.42%: 100%|██████████| 41/41 [00:07<00:00,  5.47it/s]"
     ]
    },
    {
     "name": "stdout",
     "output_type": "stream",
     "text": [
      "Domain loss,acc: 1.344173, 60.47% Target domain: tr_loss-4.023139, tr_acc-69.94%\n",
      "100,000c4dTruet10:78.75%:80.42% | 100,000c4dFalset10:60.42%:61.67%\n"
     ]
    },
    {
     "name": "stderr",
     "output_type": "stream",
     "text": [
      "\n",
      "epoch-162 lr=['0.0010000'], tr/val_loss:  0.004645/  2.447063, tr: 100.00%, val:  79.17%, val_best:  80.42%: 100%|██████████| 41/41 [00:07<00:00,  5.49it/s]"
     ]
    },
    {
     "name": "stdout",
     "output_type": "stream",
     "text": [
      "Domain loss,acc: 1.341913, 60.57% Target domain: tr_loss-4.016448, tr_acc-69.94%\n",
      "100,000c4dTruet10:79.17%:80.42% | 100,000c4dFalset10:60.42%:61.67%\n"
     ]
    },
    {
     "name": "stderr",
     "output_type": "stream",
     "text": [
      "\n",
      "epoch-163 lr=['0.0010000'], tr/val_loss:  0.004691/  2.454231, tr: 100.00%, val:  78.33%, val_best:  80.42%: 100%|██████████| 41/41 [00:07<00:00,  5.63it/s]"
     ]
    },
    {
     "name": "stdout",
     "output_type": "stream",
     "text": [
      "Domain loss,acc: 1.376445, 60.67% Target domain: tr_loss-4.119955, tr_acc-69.33%\n",
      "100,000c4dTruet10:78.33%:80.42% | 100,000c4dFalset10:60.42%:61.67%\n"
     ]
    },
    {
     "name": "stderr",
     "output_type": "stream",
     "text": [
      "\n",
      "epoch-164 lr=['0.0010000'], tr/val_loss:  0.004595/  2.459242, tr: 100.00%, val:  79.17%, val_best:  80.42%: 100%|██████████| 41/41 [00:08<00:00,  5.12it/s]"
     ]
    },
    {
     "name": "stdout",
     "output_type": "stream",
     "text": [
      "Domain loss,acc: 1.360836, 61.59% Target domain: tr_loss-4.073316, tr_acc-69.63%\n",
      "100,000c4dTruet10:79.17%:80.42% | 100,000c4dFalset10:60.42%:61.67%\n"
     ]
    },
    {
     "name": "stderr",
     "output_type": "stream",
     "text": [
      "\n",
      "epoch-165 lr=['0.0010000'], tr/val_loss:  0.004654/  2.460568, tr: 100.00%, val:  78.33%, val_best:  80.42%: 100%|██████████| 41/41 [00:08<00:00,  4.97it/s]"
     ]
    },
    {
     "name": "stdout",
     "output_type": "stream",
     "text": [
      "Domain loss,acc: 1.349359, 61.39% Target domain: tr_loss-4.038769, tr_acc-69.94%\n",
      "100,000c4dTruet10:78.33%:80.42% | 100,000c4dFalset10:60.42%:61.67%\n"
     ]
    },
    {
     "name": "stderr",
     "output_type": "stream",
     "text": [
      "\n",
      "epoch-166 lr=['0.0010000'], tr/val_loss:  0.004503/  2.459884, tr: 100.00%, val:  77.50%, val_best:  80.42%: 100%|██████████| 41/41 [00:07<00:00,  5.27it/s]"
     ]
    },
    {
     "name": "stdout",
     "output_type": "stream",
     "text": [
      "Domain loss,acc: 1.403813, 60.98% Target domain: tr_loss-4.202433, tr_acc-69.33%\n",
      "100,000c4dTruet10:77.50%:80.42% | 100,000c4dFalset10:60.42%:61.67%\n"
     ]
    },
    {
     "name": "stderr",
     "output_type": "stream",
     "text": [
      "\n",
      "epoch-167 lr=['0.0010000'], tr/val_loss:  0.004646/  2.458857, tr: 100.00%, val:  77.50%, val_best:  80.42%: 100%|██████████| 41/41 [00:07<00:00,  5.24it/s]"
     ]
    },
    {
     "name": "stdout",
     "output_type": "stream",
     "text": [
      "Domain loss,acc: 1.367068, 61.08% Target domain: tr_loss-4.091912, tr_acc-69.02%\n",
      "100,000c4dTruet10:77.50%:80.42% | 100,000c4dFalset10:59.58%:61.67%\n"
     ]
    },
    {
     "name": "stderr",
     "output_type": "stream",
     "text": [
      "\n",
      "epoch-168 lr=['0.0010000'], tr/val_loss:  0.004746/  2.470076, tr: 100.00%, val:  77.92%, val_best:  80.42%: 100%|██████████| 41/41 [00:07<00:00,  5.42it/s]"
     ]
    },
    {
     "name": "stdout",
     "output_type": "stream",
     "text": [
      "Domain loss,acc: 1.360154, 61.80% Target domain: tr_loss-4.070970, tr_acc-69.63%\n",
      "100,000c4dTruet10:77.92%:80.42% | 100,000c4dFalset10:59.17%:61.67%\n"
     ]
    },
    {
     "name": "stderr",
     "output_type": "stream",
     "text": [
      "\n",
      "epoch-169 lr=['0.0010000'], tr/val_loss:  0.004489/  2.463270, tr: 100.00%, val:  78.33%, val_best:  80.42%: 100%|██████████| 41/41 [00:07<00:00,  5.51it/s]"
     ]
    },
    {
     "name": "stdout",
     "output_type": "stream",
     "text": [
      "Domain loss,acc: 1.328228, 61.80% Target domain: tr_loss-3.975705, tr_acc-69.33%\n",
      "100,000c4dTruet10:78.33%:80.42% | 100,000c4dFalset10:59.58%:61.67%\n"
     ]
    },
    {
     "name": "stderr",
     "output_type": "stream",
     "text": [
      "\n",
      "epoch-170 lr=['0.0010000'], tr/val_loss:  0.004530/  2.451158, tr: 100.00%, val:  77.92%, val_best:  80.42%: 100%|██████████| 41/41 [00:07<00:00,  5.17it/s]"
     ]
    },
    {
     "name": "stdout",
     "output_type": "stream",
     "text": [
      "Domain loss,acc: 1.353286, 61.39% Target domain: tr_loss-4.050797, tr_acc-69.94%\n",
      "100,000c4dTruet10:77.92%:80.42% | 100,000c4dFalset10:59.58%:61.67%\n"
     ]
    },
    {
     "name": "stderr",
     "output_type": "stream",
     "text": [
      "\n",
      "epoch-171 lr=['0.0010000'], tr/val_loss:  0.004810/  2.471467, tr: 100.00%, val:  77.50%, val_best:  80.42%: 100%|██████████| 41/41 [00:07<00:00,  5.62it/s]"
     ]
    },
    {
     "name": "stdout",
     "output_type": "stream",
     "text": [
      "Domain loss,acc: 1.350050, 62.10% Target domain: tr_loss-4.040529, tr_acc-69.63%\n",
      "100,000c4dTruet10:77.50%:80.42% | 100,000c4dFalset10:60.00%:61.67%\n"
     ]
    },
    {
     "name": "stderr",
     "output_type": "stream",
     "text": [
      "\n",
      "epoch-172 lr=['0.0010000'], tr/val_loss:  0.004725/  2.460838, tr: 100.00%, val:  78.33%, val_best:  80.42%: 100%|██████████| 41/41 [00:07<00:00,  5.27it/s]"
     ]
    },
    {
     "name": "stdout",
     "output_type": "stream",
     "text": [
      "Domain loss,acc: 1.380077, 62.10% Target domain: tr_loss-4.130782, tr_acc-69.63%\n",
      "100,000c4dTruet10:78.33%:80.42% | 100,000c4dFalset10:59.58%:61.67%\n"
     ]
    },
    {
     "name": "stderr",
     "output_type": "stream",
     "text": [
      "\n",
      "epoch-173 lr=['0.0010000'], tr/val_loss:  0.004419/  2.472545, tr: 100.00%, val:  77.50%, val_best:  80.42%: 100%|██████████| 41/41 [00:07<00:00,  5.51it/s]"
     ]
    },
    {
     "name": "stdout",
     "output_type": "stream",
     "text": [
      "Domain loss,acc: 1.390455, 62.00% Target domain: tr_loss-4.162525, tr_acc-69.63%\n",
      "100,000c4dTruet10:77.50%:80.42% | 100,000c4dFalset10:59.17%:61.67%\n"
     ]
    },
    {
     "name": "stderr",
     "output_type": "stream",
     "text": [
      "\n",
      "epoch-174 lr=['0.0010000'], tr/val_loss:  0.004527/  2.483276, tr: 100.00%, val:  77.92%, val_best:  80.42%: 100%|██████████| 41/41 [00:08<00:00,  5.11it/s]"
     ]
    },
    {
     "name": "stdout",
     "output_type": "stream",
     "text": [
      "Domain loss,acc: 1.367734, 61.70% Target domain: tr_loss-4.094149, tr_acc-69.63%\n",
      "100,000c4dTruet10:77.92%:80.42% | 100,000c4dFalset10:59.17%:61.67%\n"
     ]
    },
    {
     "name": "stderr",
     "output_type": "stream",
     "text": [
      "\n",
      "epoch-175 lr=['0.0010000'], tr/val_loss:  0.004486/  2.473736, tr: 100.00%, val:  77.92%, val_best:  80.42%: 100%|██████████| 41/41 [00:08<00:00,  4.82it/s]"
     ]
    },
    {
     "name": "stdout",
     "output_type": "stream",
     "text": [
      "Domain loss,acc: 1.343560, 61.39% Target domain: tr_loss-4.021707, tr_acc-69.63%\n",
      "100,000c4dTruet10:77.92%:80.42% | 100,000c4dFalset10:59.17%:61.67%\n"
     ]
    },
    {
     "name": "stderr",
     "output_type": "stream",
     "text": [
      "\n",
      "epoch-176 lr=['0.0010000'], tr/val_loss:  0.004437/  2.470578, tr: 100.00%, val:  78.33%, val_best:  80.42%: 100%|██████████| 41/41 [00:08<00:00,  4.70it/s]"
     ]
    },
    {
     "name": "stdout",
     "output_type": "stream",
     "text": [
      "Domain loss,acc: 1.358554, 61.90% Target domain: tr_loss-4.066788, tr_acc-69.63%\n",
      "100,000c4dTruet10:78.33%:80.42% | 100,000c4dFalset10:59.58%:61.67%\n"
     ]
    },
    {
     "name": "stderr",
     "output_type": "stream",
     "text": [
      "\n",
      "epoch-177 lr=['0.0010000'], tr/val_loss:  0.004245/  2.477850, tr: 100.00%, val:  78.33%, val_best:  80.42%: 100%|██████████| 41/41 [00:07<00:00,  5.85it/s]"
     ]
    },
    {
     "name": "stdout",
     "output_type": "stream",
     "text": [
      "Domain loss,acc: 1.352447, 62.10% Target domain: tr_loss-4.048850, tr_acc-69.33%\n",
      "100,000c4dTruet10:78.33%:80.42% | 100,000c4dFalset10:59.58%:61.67%\n"
     ]
    },
    {
     "name": "stderr",
     "output_type": "stream",
     "text": [
      "\n",
      "epoch-178 lr=['0.0010000'], tr/val_loss:  0.004485/  2.477027, tr: 100.00%, val:  79.17%, val_best:  80.42%: 100%|██████████| 41/41 [00:07<00:00,  5.54it/s]"
     ]
    },
    {
     "name": "stdout",
     "output_type": "stream",
     "text": [
      "Domain loss,acc: 1.349841, 61.80% Target domain: tr_loss-4.040553, tr_acc-70.55%\n",
      "100,000c4dTruet10:79.17%:80.42% | 100,000c4dFalset10:60.42%:61.67%\n"
     ]
    },
    {
     "name": "stderr",
     "output_type": "stream",
     "text": [
      "\n",
      "epoch-179 lr=['0.0010000'], tr/val_loss:  0.004673/  2.481518, tr: 100.00%, val:  79.58%, val_best:  80.42%: 100%|██████████| 41/41 [00:08<00:00,  5.07it/s]"
     ]
    },
    {
     "name": "stdout",
     "output_type": "stream",
     "text": [
      "Domain loss,acc: 1.358458, 61.70% Target domain: tr_loss-4.066029, tr_acc-69.63%\n",
      "100,000c4dTruet10:79.58%:80.42% | 100,000c4dFalset10:61.25%:61.67%\n"
     ]
    },
    {
     "name": "stderr",
     "output_type": "stream",
     "text": [
      "\n",
      "epoch-180 lr=['0.0010000'], tr/val_loss:  0.004526/  2.489359, tr: 100.00%, val:  78.75%, val_best:  80.42%: 100%|██████████| 41/41 [00:08<00:00,  5.07it/s]"
     ]
    },
    {
     "name": "stdout",
     "output_type": "stream",
     "text": [
      "Domain loss,acc: 1.357293, 61.80% Target domain: tr_loss-4.062829, tr_acc-69.63%\n",
      "100,000c4dTruet10:78.75%:80.42% | 100,000c4dFalset10:60.83%:61.67%\n"
     ]
    },
    {
     "name": "stderr",
     "output_type": "stream",
     "text": [
      "\n",
      "epoch-181 lr=['0.0010000'], tr/val_loss:  0.004402/  2.491571, tr: 100.00%, val:  79.58%, val_best:  80.42%: 100%|██████████| 41/41 [00:07<00:00,  5.28it/s]"
     ]
    },
    {
     "name": "stdout",
     "output_type": "stream",
     "text": [
      "Domain loss,acc: 1.377430, 61.80% Target domain: tr_loss-4.123486, tr_acc-70.25%\n",
      "100,000c4dTruet10:79.58%:80.42% | 100,000c4dFalset10:60.83%:61.67%\n"
     ]
    },
    {
     "name": "stderr",
     "output_type": "stream",
     "text": [
      "\n",
      "epoch-182 lr=['0.0010000'], tr/val_loss:  0.004478/  2.493572, tr: 100.00%, val:  79.17%, val_best:  80.42%: 100%|██████████| 41/41 [00:07<00:00,  5.68it/s]"
     ]
    },
    {
     "name": "stdout",
     "output_type": "stream",
     "text": [
      "Domain loss,acc: 1.352502, 62.00% Target domain: tr_loss-4.048549, tr_acc-69.94%\n",
      "100,000c4dTruet10:79.17%:80.42% | 100,000c4dFalset10:61.25%:61.67%\n"
     ]
    },
    {
     "name": "stderr",
     "output_type": "stream",
     "text": [
      "\n",
      "epoch-183 lr=['0.0010000'], tr/val_loss:  0.004598/  2.497793, tr: 100.00%, val:  79.58%, val_best:  80.42%: 100%|██████████| 41/41 [00:08<00:00,  4.95it/s]"
     ]
    },
    {
     "name": "stdout",
     "output_type": "stream",
     "text": [
      "Domain loss,acc: 1.341489, 61.39% Target domain: tr_loss-4.015270, tr_acc-70.25%\n",
      "100,000c4dTruet10:79.58%:80.42% | 100,000c4dFalset10:60.83%:61.67%\n"
     ]
    },
    {
     "name": "stderr",
     "output_type": "stream",
     "text": [
      "\n",
      "epoch-184 lr=['0.0010000'], tr/val_loss:  0.004082/  2.490001, tr: 100.00%, val:  79.17%, val_best:  80.42%: 100%|██████████| 41/41 [00:08<00:00,  5.05it/s]"
     ]
    },
    {
     "name": "stdout",
     "output_type": "stream",
     "text": [
      "Domain loss,acc: 1.359120, 61.80% Target domain: tr_loss-4.069196, tr_acc-70.25%\n",
      "100,000c4dTruet10:79.17%:80.42% | 100,000c4dFalset10:60.00%:61.67%\n"
     ]
    },
    {
     "name": "stderr",
     "output_type": "stream",
     "text": [
      "\n",
      "epoch-185 lr=['0.0010000'], tr/val_loss:  0.004275/  2.498691, tr: 100.00%, val:  78.75%, val_best:  80.42%: 100%|██████████| 41/41 [00:08<00:00,  5.00it/s]"
     ]
    },
    {
     "name": "stdout",
     "output_type": "stream",
     "text": [
      "Domain loss,acc: 1.359501, 62.51% Target domain: tr_loss-4.069955, tr_acc-70.86%\n",
      "100,000c4dTruet10:78.75%:80.42% | 100,000c4dFalset10:60.42%:61.67%\n"
     ]
    },
    {
     "name": "stderr",
     "output_type": "stream",
     "text": [
      "\n",
      "epoch-186 lr=['0.0010000'], tr/val_loss:  0.004133/  2.494427, tr: 100.00%, val:  78.75%, val_best:  80.42%: 100%|██████████| 41/41 [00:07<00:00,  5.32it/s]"
     ]
    },
    {
     "name": "stdout",
     "output_type": "stream",
     "text": [
      "Domain loss,acc: 1.361712, 62.31% Target domain: tr_loss-4.076869, tr_acc-70.55%\n",
      "100,000c4dTruet10:78.75%:80.42% | 100,000c4dFalset10:60.42%:61.67%\n"
     ]
    },
    {
     "name": "stderr",
     "output_type": "stream",
     "text": [
      "\n",
      "epoch-187 lr=['0.0010000'], tr/val_loss:  0.004006/  2.494939, tr: 100.00%, val:  78.33%, val_best:  80.42%: 100%|██████████| 41/41 [00:07<00:00,  5.45it/s]"
     ]
    },
    {
     "name": "stdout",
     "output_type": "stream",
     "text": [
      "Domain loss,acc: 1.386525, 61.59% Target domain: tr_loss-4.151564, tr_acc-71.17%\n",
      "100,000c4dTruet10:78.33%:80.42% | 100,000c4dFalset10:60.42%:61.67%\n"
     ]
    },
    {
     "name": "stderr",
     "output_type": "stream",
     "text": [
      "\n",
      "epoch-188 lr=['0.0010000'], tr/val_loss:  0.004306/  2.502884, tr: 100.00%, val:  78.33%, val_best:  80.42%: 100%|██████████| 41/41 [00:08<00:00,  5.02it/s]"
     ]
    },
    {
     "name": "stdout",
     "output_type": "stream",
     "text": [
      "Domain loss,acc: 1.364332, 61.90% Target domain: tr_loss-4.084385, tr_acc-69.94%\n",
      "100,000c4dTruet10:78.33%:80.42% | 100,000c4dFalset10:60.42%:61.67%\n"
     ]
    },
    {
     "name": "stderr",
     "output_type": "stream",
     "text": [
      "\n",
      "epoch-189 lr=['0.0010000'], tr/val_loss:  0.004097/  2.498516, tr: 100.00%, val:  78.75%, val_best:  80.42%: 100%|██████████| 41/41 [00:08<00:00,  5.11it/s]"
     ]
    },
    {
     "name": "stdout",
     "output_type": "stream",
     "text": [
      "Domain loss,acc: 1.345361, 61.90% Target domain: tr_loss-4.027888, tr_acc-70.25%\n",
      "100,000c4dTruet10:78.75%:80.42% | 100,000c4dFalset10:60.42%:61.67%\n"
     ]
    },
    {
     "name": "stderr",
     "output_type": "stream",
     "text": [
      "\n",
      "epoch-190 lr=['0.0010000'], tr/val_loss:  0.004482/  2.504675, tr: 100.00%, val:  77.92%, val_best:  80.42%: 100%|██████████| 41/41 [00:09<00:00,  4.55it/s]"
     ]
    },
    {
     "name": "stdout",
     "output_type": "stream",
     "text": [
      "Domain loss,acc: 1.374341, 61.59% Target domain: tr_loss-4.114059, tr_acc-69.63%\n",
      "100,000c4dTruet10:77.92%:80.42% | 100,000c4dFalset10:61.25%:61.67%\n"
     ]
    },
    {
     "name": "stderr",
     "output_type": "stream",
     "text": [
      "\n",
      "epoch-191 lr=['0.0010000'], tr/val_loss:  0.004231/  2.500479, tr: 100.00%, val:  78.33%, val_best:  80.42%: 100%|██████████| 41/41 [00:07<00:00,  5.59it/s]"
     ]
    },
    {
     "name": "stdout",
     "output_type": "stream",
     "text": [
      "Domain loss,acc: 1.367920, 61.39% Target domain: tr_loss-4.095297, tr_acc-69.63%\n",
      "100,000c4dTruet10:78.33%:80.42% | 100,000c4dFalset10:60.42%:61.67%\n"
     ]
    },
    {
     "name": "stderr",
     "output_type": "stream",
     "text": [
      "\n",
      "epoch-192 lr=['0.0010000'], tr/val_loss:  0.003882/  2.499213, tr: 100.00%, val:  77.92%, val_best:  80.42%: 100%|██████████| 41/41 [00:07<00:00,  5.30it/s]"
     ]
    },
    {
     "name": "stdout",
     "output_type": "stream",
     "text": [
      "Domain loss,acc: 1.406246, 61.39% Target domain: tr_loss-4.210975, tr_acc-70.25%\n",
      "100,000c4dTruet10:77.92%:80.42% | 100,000c4dFalset10:60.00%:61.67%\n"
     ]
    },
    {
     "name": "stderr",
     "output_type": "stream",
     "text": [
      "\n",
      "epoch-193 lr=['0.0010000'], tr/val_loss:  0.004112/  2.504221, tr: 100.00%, val:  79.17%, val_best:  80.42%: 100%|██████████| 41/41 [00:07<00:00,  5.19it/s]"
     ]
    },
    {
     "name": "stdout",
     "output_type": "stream",
     "text": [
      "Domain loss,acc: 1.355643, 60.88% Target domain: tr_loss-4.058703, tr_acc-69.94%\n",
      "100,000c4dTruet10:79.17%:80.42% | 100,000c4dFalset10:60.00%:61.67%\n"
     ]
    },
    {
     "name": "stderr",
     "output_type": "stream",
     "text": [
      "\n",
      "epoch-194 lr=['0.0010000'], tr/val_loss:  0.003691/  2.510587, tr: 100.00%, val:  79.17%, val_best:  80.42%: 100%|██████████| 41/41 [00:07<00:00,  5.21it/s]"
     ]
    },
    {
     "name": "stdout",
     "output_type": "stream",
     "text": [
      "Domain loss,acc: 1.377362, 61.29% Target domain: tr_loss-4.124706, tr_acc-69.63%\n",
      "100,000c4dTruet10:79.17%:80.42% | 100,000c4dFalset10:59.17%:61.67%\n"
     ]
    },
    {
     "name": "stderr",
     "output_type": "stream",
     "text": [
      "\n",
      "epoch-195 lr=['0.0010000'], tr/val_loss:  0.003948/  2.505439, tr: 100.00%, val:  78.75%, val_best:  80.42%: 100%|██████████| 41/41 [00:07<00:00,  5.28it/s]"
     ]
    },
    {
     "name": "stdout",
     "output_type": "stream",
     "text": [
      "Domain loss,acc: 1.370908, 61.80% Target domain: tr_loss-4.104829, tr_acc-69.02%\n",
      "100,000c4dTruet10:78.75%:80.42% | 100,000c4dFalset10:60.00%:61.67%\n"
     ]
    },
    {
     "name": "stderr",
     "output_type": "stream",
     "text": [
      "\n",
      "epoch-196 lr=['0.0010000'], tr/val_loss:  0.004077/  2.509330, tr: 100.00%, val:  79.58%, val_best:  80.42%: 100%|██████████| 41/41 [00:07<00:00,  5.34it/s]"
     ]
    },
    {
     "name": "stdout",
     "output_type": "stream",
     "text": [
      "Domain loss,acc: 1.378007, 61.39% Target domain: tr_loss-4.125866, tr_acc-69.63%\n",
      "100,000c4dTruet10:79.58%:80.42% | 100,000c4dFalset10:60.00%:61.67%\n"
     ]
    },
    {
     "name": "stderr",
     "output_type": "stream",
     "text": [
      "\n",
      "epoch-197 lr=['0.0010000'], tr/val_loss:  0.003571/  2.514810, tr: 100.00%, val:  79.17%, val_best:  80.42%: 100%|██████████| 41/41 [00:07<00:00,  5.43it/s]"
     ]
    },
    {
     "name": "stdout",
     "output_type": "stream",
     "text": [
      "Domain loss,acc: 1.393328, 61.59% Target domain: tr_loss-4.172844, tr_acc-69.02%\n",
      "100,000c4dTruet10:79.17%:80.42% | 100,000c4dFalset10:60.42%:61.67%\n"
     ]
    },
    {
     "name": "stderr",
     "output_type": "stream",
     "text": [
      "\n",
      "epoch-198 lr=['0.0010000'], tr/val_loss:  0.003447/  2.517091, tr: 100.00%, val:  78.75%, val_best:  80.42%: 100%|██████████| 41/41 [00:08<00:00,  5.11it/s]"
     ]
    },
    {
     "name": "stdout",
     "output_type": "stream",
     "text": [
      "Domain loss,acc: 1.354408, 61.49% Target domain: tr_loss-4.056328, tr_acc-69.94%\n",
      "100,000c4dTruet10:78.75%:80.42% | 100,000c4dFalset10:60.42%:61.67%\n"
     ]
    },
    {
     "name": "stderr",
     "output_type": "stream",
     "text": [
      "\n",
      "epoch-199 lr=['0.0010000'], tr/val_loss:  0.003507/  2.514636, tr: 100.00%, val:  78.75%, val_best:  80.42%: 100%|██████████| 41/41 [00:08<00:00,  5.03it/s]"
     ]
    },
    {
     "name": "stdout",
     "output_type": "stream",
     "text": [
      "Domain loss,acc: 1.382485, 61.70% Target domain: tr_loss-4.140443, tr_acc-69.94%\n",
      "100,000c4dTruet10:78.75%:80.42% | 100,000c4dFalset10:60.42%:61.67%\n"
     ]
    },
    {
     "name": "stderr",
     "output_type": "stream",
     "text": [
      "\n",
      "epoch-200 lr=['0.0010000'], tr/val_loss:  0.003559/  2.507531, tr: 100.00%, val:  79.58%, val_best:  80.42%: 100%|██████████| 41/41 [00:07<00:00,  5.33it/s]"
     ]
    },
    {
     "name": "stdout",
     "output_type": "stream",
     "text": [
      "Domain loss,acc: 1.393016, 61.39% Target domain: tr_loss-4.171929, tr_acc-70.25%\n",
      "100,000c4dTruet10:79.58%:80.42% | 100,000c4dFalset10:60.83%:61.67%\n"
     ]
    },
    {
     "name": "stderr",
     "output_type": "stream",
     "text": [
      "\n",
      "epoch-201 lr=['0.0010000'], tr/val_loss:  0.004285/  2.522779, tr: 100.00%, val:  78.75%, val_best:  80.42%: 100%|██████████| 41/41 [00:07<00:00,  5.39it/s]"
     ]
    },
    {
     "name": "stdout",
     "output_type": "stream",
     "text": [
      "Domain loss,acc: 1.380785, 61.39% Target domain: tr_loss-4.133785, tr_acc-69.33%\n",
      "100,000c4dTruet10:78.75%:80.42% | 100,000c4dFalset10:60.00%:61.67%\n"
     ]
    },
    {
     "name": "stderr",
     "output_type": "stream",
     "text": [
      "\n",
      "epoch-202 lr=['0.0010000'], tr/val_loss:  0.003701/  2.517696, tr: 100.00%, val:  79.17%, val_best:  80.42%: 100%|██████████| 41/41 [00:07<00:00,  5.32it/s]"
     ]
    },
    {
     "name": "stdout",
     "output_type": "stream",
     "text": [
      "Domain loss,acc: 1.368923, 61.70% Target domain: tr_loss-4.099365, tr_acc-69.33%\n",
      "100,000c4dTruet10:79.17%:80.42% | 100,000c4dFalset10:60.00%:61.67%\n"
     ]
    },
    {
     "name": "stderr",
     "output_type": "stream",
     "text": [
      "\n",
      "epoch-203 lr=['0.0010000'], tr/val_loss:  0.003666/  2.524167, tr: 100.00%, val:  78.75%, val_best:  80.42%: 100%|██████████| 41/41 [00:07<00:00,  5.41it/s]"
     ]
    },
    {
     "name": "stdout",
     "output_type": "stream",
     "text": [
      "Domain loss,acc: 1.385381, 61.70% Target domain: tr_loss-4.148811, tr_acc-69.94%\n",
      "100,000c4dTruet10:78.75%:80.42% | 100,000c4dFalset10:59.58%:61.67%\n"
     ]
    },
    {
     "name": "stderr",
     "output_type": "stream",
     "text": [
      "\n",
      "epoch-204 lr=['0.0010000'], tr/val_loss:  0.003577/  2.530051, tr: 100.00%, val:  78.75%, val_best:  80.42%: 100%|██████████| 41/41 [00:07<00:00,  5.31it/s]"
     ]
    },
    {
     "name": "stdout",
     "output_type": "stream",
     "text": [
      "Domain loss,acc: 1.375177, 61.39% Target domain: tr_loss-4.118376, tr_acc-69.63%\n",
      "100,000c4dTruet10:78.75%:80.42% | 100,000c4dFalset10:59.58%:61.67%\n"
     ]
    },
    {
     "name": "stderr",
     "output_type": "stream",
     "text": [
      "\n",
      "epoch-205 lr=['0.0010000'], tr/val_loss:  0.003668/  2.542292, tr: 100.00%, val:  79.58%, val_best:  80.42%: 100%|██████████| 41/41 [00:06<00:00,  5.86it/s]"
     ]
    },
    {
     "name": "stdout",
     "output_type": "stream",
     "text": [
      "Domain loss,acc: 1.395714, 62.21% Target domain: tr_loss-4.179806, tr_acc-69.33%\n",
      "100,000c4dTruet10:79.58%:80.42% | 100,000c4dFalset10:60.00%:61.67%\n"
     ]
    },
    {
     "name": "stderr",
     "output_type": "stream",
     "text": [
      "\n",
      "epoch-206 lr=['0.0010000'], tr/val_loss:  0.003415/  2.536757, tr: 100.00%, val:  79.17%, val_best:  80.42%: 100%|██████████| 41/41 [00:08<00:00,  5.12it/s]"
     ]
    },
    {
     "name": "stdout",
     "output_type": "stream",
     "text": [
      "Domain loss,acc: 1.378135, 61.80% Target domain: tr_loss-4.127576, tr_acc-69.63%\n",
      "100,000c4dTruet10:79.17%:80.42% | 100,000c4dFalset10:60.42%:61.67%\n"
     ]
    },
    {
     "name": "stderr",
     "output_type": "stream",
     "text": [
      "\n",
      "epoch-207 lr=['0.0010000'], tr/val_loss:  0.003354/  2.544785, tr: 100.00%, val:  79.58%, val_best:  80.42%: 100%|██████████| 41/41 [00:07<00:00,  5.43it/s]"
     ]
    },
    {
     "name": "stdout",
     "output_type": "stream",
     "text": [
      "Domain loss,acc: 1.372134, 62.00% Target domain: tr_loss-4.109692, tr_acc-69.63%\n",
      "100,000c4dTruet10:79.58%:80.42% | 100,000c4dFalset10:60.42%:61.67%\n"
     ]
    },
    {
     "name": "stderr",
     "output_type": "stream",
     "text": [
      "\n",
      "epoch-208 lr=['0.0010000'], tr/val_loss:  0.003333/  2.541693, tr: 100.00%, val:  78.75%, val_best:  80.42%: 100%|██████████| 41/41 [00:07<00:00,  5.49it/s]"
     ]
    },
    {
     "name": "stdout",
     "output_type": "stream",
     "text": [
      "Domain loss,acc: 1.380822, 61.70% Target domain: tr_loss-4.135801, tr_acc-69.33%\n",
      "100,000c4dTruet10:78.75%:80.42% | 100,000c4dFalset10:60.83%:61.67%\n"
     ]
    },
    {
     "name": "stderr",
     "output_type": "stream",
     "text": [
      "\n",
      "epoch-209 lr=['0.0010000'], tr/val_loss:  0.003366/  2.537655, tr: 100.00%, val:  78.75%, val_best:  80.42%: 100%|██████████| 41/41 [00:09<00:00,  4.47it/s]"
     ]
    },
    {
     "name": "stdout",
     "output_type": "stream",
     "text": [
      "Domain loss,acc: 1.379900, 61.39% Target domain: tr_loss-4.132969, tr_acc-69.02%\n",
      "100,000c4dTruet10:78.75%:80.42% | 100,000c4dFalset10:60.83%:61.67%\n"
     ]
    },
    {
     "name": "stderr",
     "output_type": "stream",
     "text": [
      "\n",
      "epoch-210 lr=['0.0010000'], tr/val_loss:  0.003498/  2.538841, tr: 100.00%, val:  79.17%, val_best:  80.42%: 100%|██████████| 41/41 [00:08<00:00,  5.12it/s]"
     ]
    },
    {
     "name": "stdout",
     "output_type": "stream",
     "text": [
      "Domain loss,acc: 1.392043, 61.70% Target domain: tr_loss-4.169133, tr_acc-69.33%\n",
      "100,000c4dTruet10:79.17%:80.42% | 100,000c4dFalset10:60.42%:61.67%\n"
     ]
    },
    {
     "name": "stderr",
     "output_type": "stream",
     "text": [
      "\n",
      "epoch-211 lr=['0.0010000'], tr/val_loss:  0.003208/  2.543057, tr: 100.00%, val:  79.17%, val_best:  80.42%: 100%|██████████| 41/41 [00:09<00:00,  4.50it/s]"
     ]
    },
    {
     "name": "stdout",
     "output_type": "stream",
     "text": [
      "Domain loss,acc: 1.380020, 62.21% Target domain: tr_loss-4.133644, tr_acc-69.63%\n",
      "100,000c4dTruet10:79.17%:80.42% | 100,000c4dFalset10:60.42%:61.67%\n"
     ]
    },
    {
     "name": "stderr",
     "output_type": "stream",
     "text": [
      "\n",
      "epoch-212 lr=['0.0010000'], tr/val_loss:  0.003211/  2.544991, tr: 100.00%, val:  79.17%, val_best:  80.42%: 100%|██████████| 41/41 [00:07<00:00,  5.68it/s]"
     ]
    },
    {
     "name": "stdout",
     "output_type": "stream",
     "text": [
      "Domain loss,acc: 1.372810, 61.90% Target domain: tr_loss-4.112007, tr_acc-69.63%\n",
      "100,000c4dTruet10:79.17%:80.42% | 100,000c4dFalset10:60.83%:61.67%\n"
     ]
    },
    {
     "name": "stderr",
     "output_type": "stream",
     "text": [
      "\n",
      "epoch-213 lr=['0.0010000'], tr/val_loss:  0.003183/  2.544597, tr: 100.00%, val:  78.33%, val_best:  80.42%: 100%|██████████| 41/41 [00:07<00:00,  5.31it/s]"
     ]
    },
    {
     "name": "stdout",
     "output_type": "stream",
     "text": [
      "Domain loss,acc: 1.382374, 61.18% Target domain: tr_loss-4.140756, tr_acc-69.33%\n",
      "100,000c4dTruet10:78.33%:80.42% | 100,000c4dFalset10:60.42%:61.67%\n"
     ]
    },
    {
     "name": "stderr",
     "output_type": "stream",
     "text": [
      "\n",
      "epoch-214 lr=['0.0010000'], tr/val_loss:  0.003004/  2.545414, tr: 100.00%, val:  79.17%, val_best:  80.42%: 100%|██████████| 41/41 [00:07<00:00,  5.52it/s]"
     ]
    },
    {
     "name": "stdout",
     "output_type": "stream",
     "text": [
      "Domain loss,acc: 1.396649, 61.29% Target domain: tr_loss-4.183939, tr_acc-69.02%\n",
      "100,000c4dTruet10:79.17%:80.42% | 100,000c4dFalset10:60.00%:61.67%\n"
     ]
    },
    {
     "name": "stderr",
     "output_type": "stream",
     "text": [
      "\n",
      "epoch-215 lr=['0.0010000'], tr/val_loss:  0.003149/  2.544909, tr: 100.00%, val:  78.75%, val_best:  80.42%: 100%|██████████| 41/41 [00:07<00:00,  5.14it/s]"
     ]
    },
    {
     "name": "stdout",
     "output_type": "stream",
     "text": [
      "Domain loss,acc: 1.388489, 61.49% Target domain: tr_loss-4.159168, tr_acc-69.63%\n",
      "100,000c4dTruet10:78.75%:80.42% | 100,000c4dFalset10:60.00%:61.67%\n"
     ]
    },
    {
     "name": "stderr",
     "output_type": "stream",
     "text": [
      "\n",
      "epoch-216 lr=['0.0010000'], tr/val_loss:  0.003017/  2.545681, tr: 100.00%, val:  78.33%, val_best:  80.42%: 100%|██████████| 41/41 [00:07<00:00,  5.35it/s]"
     ]
    },
    {
     "name": "stdout",
     "output_type": "stream",
     "text": [
      "Domain loss,acc: 1.397174, 61.59% Target domain: tr_loss-4.185487, tr_acc-69.33%\n",
      "100,000c4dTruet10:78.33%:80.42% | 100,000c4dFalset10:60.42%:61.67%\n"
     ]
    },
    {
     "name": "stderr",
     "output_type": "stream",
     "text": [
      "\n",
      "epoch-217 lr=['0.0010000'], tr/val_loss:  0.003232/  2.548945, tr: 100.00%, val:  79.17%, val_best:  80.42%: 100%|██████████| 41/41 [00:08<00:00,  5.05it/s]"
     ]
    },
    {
     "name": "stdout",
     "output_type": "stream",
     "text": [
      "Domain loss,acc: 1.411389, 61.70% Target domain: tr_loss-4.227701, tr_acc-69.63%\n",
      "100,000c4dTruet10:79.17%:80.42% | 100,000c4dFalset10:60.83%:61.67%\n"
     ]
    },
    {
     "name": "stderr",
     "output_type": "stream",
     "text": [
      "\n",
      "epoch-218 lr=['0.0010000'], tr/val_loss:  0.003052/  2.545929, tr: 100.00%, val:  78.33%, val_best:  80.42%: 100%|██████████| 41/41 [00:07<00:00,  5.26it/s]"
     ]
    },
    {
     "name": "stdout",
     "output_type": "stream",
     "text": [
      "Domain loss,acc: 1.415305, 62.00% Target domain: tr_loss-4.239811, tr_acc-69.63%\n",
      "100,000c4dTruet10:78.33%:80.42% | 100,000c4dFalset10:60.83%:61.67%\n"
     ]
    },
    {
     "name": "stderr",
     "output_type": "stream",
     "text": [
      "\n",
      "epoch-219 lr=['0.0010000'], tr/val_loss:  0.003098/  2.552369, tr: 100.00%, val:  77.50%, val_best:  80.42%: 100%|██████████| 41/41 [00:07<00:00,  5.46it/s]"
     ]
    },
    {
     "name": "stdout",
     "output_type": "stream",
     "text": [
      "Domain loss,acc: 1.398052, 61.70% Target domain: tr_loss-4.187959, tr_acc-69.02%\n",
      "100,000c4dTruet10:77.50%:80.42% | 100,000c4dFalset10:60.42%:61.67%\n"
     ]
    },
    {
     "name": "stderr",
     "output_type": "stream",
     "text": [
      "\n",
      "epoch-220 lr=['0.0010000'], tr/val_loss:  0.002997/  2.549700, tr: 100.00%, val:  78.75%, val_best:  80.42%: 100%|██████████| 41/41 [00:07<00:00,  5.16it/s]"
     ]
    },
    {
     "name": "stdout",
     "output_type": "stream",
     "text": [
      "Domain loss,acc: 1.390098, 61.90% Target domain: tr_loss-4.164301, tr_acc-69.63%\n",
      "100,000c4dTruet10:78.75%:80.42% | 100,000c4dFalset10:60.00%:61.67%\n"
     ]
    },
    {
     "name": "stderr",
     "output_type": "stream",
     "text": [
      "\n",
      "epoch-221 lr=['0.0010000'], tr/val_loss:  0.003230/  2.557946, tr: 100.00%, val:  79.17%, val_best:  80.42%: 100%|██████████| 41/41 [00:07<00:00,  5.15it/s]"
     ]
    },
    {
     "name": "stdout",
     "output_type": "stream",
     "text": [
      "Domain loss,acc: 1.406339, 61.80% Target domain: tr_loss-4.212555, tr_acc-70.25%\n",
      "100,000c4dTruet10:79.17%:80.42% | 100,000c4dFalset10:60.00%:61.67%\n"
     ]
    },
    {
     "name": "stderr",
     "output_type": "stream",
     "text": [
      "\n",
      "epoch-222 lr=['0.0010000'], tr/val_loss:  0.003471/  2.561235, tr: 100.00%, val:  79.58%, val_best:  80.42%: 100%|██████████| 41/41 [00:08<00:00,  4.80it/s]"
     ]
    },
    {
     "name": "stdout",
     "output_type": "stream",
     "text": [
      "Domain loss,acc: 1.396333, 62.21% Target domain: tr_loss-4.182057, tr_acc-69.33%\n",
      "100,000c4dTruet10:79.58%:80.42% | 100,000c4dFalset10:60.83%:61.67%\n"
     ]
    },
    {
     "name": "stderr",
     "output_type": "stream",
     "text": [
      "\n",
      "epoch-223 lr=['0.0010000'], tr/val_loss:  0.002935/  2.565979, tr: 100.00%, val:  78.75%, val_best:  80.42%: 100%|██████████| 41/41 [00:07<00:00,  5.13it/s]"
     ]
    },
    {
     "name": "stdout",
     "output_type": "stream",
     "text": [
      "Domain loss,acc: 1.432572, 62.21% Target domain: tr_loss-4.291845, tr_acc-69.94%\n",
      "100,000c4dTruet10:78.75%:80.42% | 100,000c4dFalset10:60.00%:61.67%\n"
     ]
    },
    {
     "name": "stderr",
     "output_type": "stream",
     "text": [
      "\n",
      "epoch-224 lr=['0.0010000'], tr/val_loss:  0.003050/  2.574973, tr: 100.00%, val:  79.17%, val_best:  80.42%: 100%|██████████| 41/41 [00:07<00:00,  5.18it/s]"
     ]
    },
    {
     "name": "stdout",
     "output_type": "stream",
     "text": [
      "Domain loss,acc: 1.412976, 62.00% Target domain: tr_loss-4.232828, tr_acc-69.02%\n",
      "100,000c4dTruet10:79.17%:80.42% | 100,000c4dFalset10:60.00%:61.67%\n"
     ]
    },
    {
     "name": "stderr",
     "output_type": "stream",
     "text": [
      "\n",
      "epoch-225 lr=['0.0010000'], tr/val_loss:  0.002767/  2.574193, tr: 100.00%, val:  79.58%, val_best:  80.42%: 100%|██████████| 41/41 [00:08<00:00,  5.02it/s]"
     ]
    },
    {
     "name": "stdout",
     "output_type": "stream",
     "text": [
      "Domain loss,acc: 1.401199, 62.10% Target domain: tr_loss-4.198064, tr_acc-69.63%\n",
      "100,000c4dTruet10:79.58%:80.42% | 100,000c4dFalset10:59.58%:61.67%\n"
     ]
    },
    {
     "name": "stderr",
     "output_type": "stream",
     "text": [
      "\n",
      "epoch-226 lr=['0.0010000'], tr/val_loss:  0.002819/  2.576842, tr: 100.00%, val:  79.17%, val_best:  80.42%: 100%|██████████| 41/41 [00:07<00:00,  5.27it/s]"
     ]
    },
    {
     "name": "stdout",
     "output_type": "stream",
     "text": [
      "Domain loss,acc: 1.406445, 62.21% Target domain: tr_loss-4.213698, tr_acc-70.25%\n",
      "100,000c4dTruet10:79.17%:80.42% | 100,000c4dFalset10:59.58%:61.67%\n"
     ]
    },
    {
     "name": "stderr",
     "output_type": "stream",
     "text": [
      "\n",
      "epoch-227 lr=['0.0010000'], tr/val_loss:  0.002780/  2.574559, tr: 100.00%, val:  80.00%, val_best:  80.42%: 100%|██████████| 41/41 [00:08<00:00,  5.10it/s]"
     ]
    },
    {
     "name": "stdout",
     "output_type": "stream",
     "text": [
      "Domain loss,acc: 1.413112, 61.49% Target domain: tr_loss-4.233775, tr_acc-70.25%\n",
      "100,000c4dTruet10:80.00%:80.42% | 100,000c4dFalset10:59.17%:61.67%\n"
     ]
    },
    {
     "name": "stderr",
     "output_type": "stream",
     "text": [
      "\n",
      "epoch-228 lr=['0.0010000'], tr/val_loss:  0.002857/  2.571374, tr: 100.00%, val:  80.00%, val_best:  80.42%: 100%|██████████| 41/41 [00:08<00:00,  5.05it/s]"
     ]
    },
    {
     "name": "stdout",
     "output_type": "stream",
     "text": [
      "Domain loss,acc: 1.404962, 61.90% Target domain: tr_loss-4.209171, tr_acc-69.94%\n",
      "100,000c4dTruet10:80.00%:80.42% | 100,000c4dFalset10:59.58%:61.67%\n"
     ]
    },
    {
     "name": "stderr",
     "output_type": "stream",
     "text": [
      "\n",
      "epoch-229 lr=['0.0010000'], tr/val_loss:  0.002648/  2.584997, tr: 100.00%, val:  79.58%, val_best:  80.42%: 100%|██████████| 41/41 [00:07<00:00,  5.38it/s]"
     ]
    },
    {
     "name": "stdout",
     "output_type": "stream",
     "text": [
      "Domain loss,acc: 1.408198, 61.70% Target domain: tr_loss-4.219298, tr_acc-70.86%\n",
      "100,000c4dTruet10:79.58%:80.42% | 100,000c4dFalset10:59.58%:61.67%\n"
     ]
    },
    {
     "name": "stderr",
     "output_type": "stream",
     "text": [
      "\n",
      "epoch-230 lr=['0.0010000'], tr/val_loss:  0.002851/  2.580990, tr: 100.00%, val:  80.42%, val_best:  80.42%: 100%|██████████| 41/41 [00:07<00:00,  5.61it/s]"
     ]
    },
    {
     "name": "stdout",
     "output_type": "stream",
     "text": [
      "Domain loss,acc: 1.410829, 61.39% Target domain: tr_loss-4.226786, tr_acc-70.55%\n",
      "100,000c4dTruet10:80.42%:80.42% | 100,000c4dFalset10:59.17%:61.67%\n"
     ]
    },
    {
     "name": "stderr",
     "output_type": "stream",
     "text": [
      "\n",
      "epoch-231 lr=['0.0010000'], tr/val_loss:  0.002938/  2.577233, tr: 100.00%, val:  78.75%, val_best:  80.42%: 100%|██████████| 41/41 [00:07<00:00,  5.41it/s]"
     ]
    },
    {
     "name": "stdout",
     "output_type": "stream",
     "text": [
      "Domain loss,acc: 1.381986, 61.70% Target domain: tr_loss-4.140081, tr_acc-69.94%\n",
      "100,000c4dTruet10:78.75%:80.42% | 100,000c4dFalset10:59.58%:61.67%\n"
     ]
    },
    {
     "name": "stderr",
     "output_type": "stream",
     "text": [
      "\n",
      "epoch-232 lr=['0.0010000'], tr/val_loss:  0.002796/  2.578443, tr: 100.00%, val:  80.00%, val_best:  80.42%: 100%|██████████| 41/41 [00:07<00:00,  5.51it/s]"
     ]
    },
    {
     "name": "stdout",
     "output_type": "stream",
     "text": [
      "Domain loss,acc: 1.417481, 62.00% Target domain: tr_loss-4.246851, tr_acc-70.55%\n",
      "100,000c4dTruet10:80.00%:80.42% | 100,000c4dFalset10:59.17%:61.67%\n"
     ]
    },
    {
     "name": "stderr",
     "output_type": "stream",
     "text": [
      "\n",
      "epoch-233 lr=['0.0010000'], tr/val_loss:  0.002925/  2.585754, tr: 100.00%, val:  80.00%, val_best:  80.42%: 100%|██████████| 41/41 [00:08<00:00,  5.11it/s]"
     ]
    },
    {
     "name": "stdout",
     "output_type": "stream",
     "text": [
      "Domain loss,acc: 1.396464, 61.49% Target domain: tr_loss-4.183542, tr_acc-70.25%\n",
      "100,000c4dTruet10:80.00%:80.42% | 100,000c4dFalset10:60.00%:61.67%\n"
     ]
    },
    {
     "name": "stderr",
     "output_type": "stream",
     "text": [
      "\n",
      "epoch-234 lr=['0.0010000'], tr/val_loss:  0.002856/  2.580385, tr: 100.00%, val:  79.58%, val_best:  80.42%: 100%|██████████| 41/41 [00:07<00:00,  5.49it/s]"
     ]
    },
    {
     "name": "stdout",
     "output_type": "stream",
     "text": [
      "Domain loss,acc: 1.398931, 61.90% Target domain: tr_loss-4.191082, tr_acc-70.55%\n",
      "100,000c4dTruet10:79.58%:80.42% | 100,000c4dFalset10:59.58%:61.67%\n"
     ]
    },
    {
     "name": "stderr",
     "output_type": "stream",
     "text": [
      "\n",
      "epoch-235 lr=['0.0010000'], tr/val_loss:  0.002969/  2.587501, tr: 100.00%, val:  78.75%, val_best:  80.42%: 100%|██████████| 41/41 [00:07<00:00,  5.51it/s]"
     ]
    },
    {
     "name": "stdout",
     "output_type": "stream",
     "text": [
      "Domain loss,acc: 1.421950, 61.70% Target domain: tr_loss-4.259913, tr_acc-70.55%\n",
      "100,000c4dTruet10:78.75%:80.42% | 100,000c4dFalset10:60.00%:61.67%\n"
     ]
    },
    {
     "name": "stderr",
     "output_type": "stream",
     "text": [
      "\n",
      "epoch-236 lr=['0.0010000'], tr/val_loss:  0.002951/  2.590853, tr: 100.00%, val:  79.17%, val_best:  80.42%: 100%|██████████| 41/41 [00:07<00:00,  5.39it/s]"
     ]
    },
    {
     "name": "stdout",
     "output_type": "stream",
     "text": [
      "Domain loss,acc: 1.422222, 61.39% Target domain: tr_loss-4.260763, tr_acc-70.25%\n",
      "100,000c4dTruet10:79.17%:80.42% | 100,000c4dFalset10:60.42%:61.67%\n"
     ]
    },
    {
     "name": "stderr",
     "output_type": "stream",
     "text": [
      "\n",
      "epoch-237 lr=['0.0010000'], tr/val_loss:  0.002711/  2.594408, tr: 100.00%, val:  79.58%, val_best:  80.42%: 100%|██████████| 41/41 [00:08<00:00,  5.07it/s]"
     ]
    },
    {
     "name": "stdout",
     "output_type": "stream",
     "text": [
      "Domain loss,acc: 1.410775, 61.29% Target domain: tr_loss-4.226902, tr_acc-70.55%\n",
      "100,000c4dTruet10:79.58%:80.42% | 100,000c4dFalset10:60.42%:61.67%\n"
     ]
    },
    {
     "name": "stderr",
     "output_type": "stream",
     "text": [
      "\n",
      "epoch-238 lr=['0.0010000'], tr/val_loss:  0.002635/  2.592600, tr: 100.00%, val:  79.17%, val_best:  80.42%: 100%|██████████| 41/41 [00:07<00:00,  5.47it/s]"
     ]
    },
    {
     "name": "stdout",
     "output_type": "stream",
     "text": [
      "Domain loss,acc: 1.423915, 61.39% Target domain: tr_loss-4.266475, tr_acc-70.25%\n",
      "100,000c4dTruet10:79.17%:80.42% | 100,000c4dFalset10:60.42%:61.67%\n"
     ]
    },
    {
     "name": "stderr",
     "output_type": "stream",
     "text": [
      "\n",
      "epoch-239 lr=['0.0010000'], tr/val_loss:  0.002795/  2.592491, tr: 100.00%, val:  78.75%, val_best:  80.42%: 100%|██████████| 41/41 [00:07<00:00,  5.24it/s]"
     ]
    },
    {
     "name": "stdout",
     "output_type": "stream",
     "text": [
      "Domain loss,acc: 1.414133, 62.00% Target domain: tr_loss-4.236808, tr_acc-70.55%\n",
      "100,000c4dTruet10:78.75%:80.42% | 100,000c4dFalset10:60.42%:61.67%\n"
     ]
    },
    {
     "name": "stderr",
     "output_type": "stream",
     "text": [
      "\n",
      "epoch-240 lr=['0.0010000'], tr/val_loss:  0.002868/  2.585739, tr: 100.00%, val:  79.58%, val_best:  80.42%: 100%|██████████| 41/41 [00:07<00:00,  5.30it/s]"
     ]
    },
    {
     "name": "stdout",
     "output_type": "stream",
     "text": [
      "Domain loss,acc: 1.416551, 62.10% Target domain: tr_loss-4.243915, tr_acc-70.25%\n",
      "100,000c4dTruet10:79.58%:80.42% | 100,000c4dFalset10:60.42%:61.67%\n"
     ]
    },
    {
     "name": "stderr",
     "output_type": "stream",
     "text": [
      "\n",
      "epoch-241 lr=['0.0010000'], tr/val_loss:  0.002842/  2.591522, tr: 100.00%, val:  79.17%, val_best:  80.42%: 100%|██████████| 41/41 [00:08<00:00,  5.07it/s]"
     ]
    },
    {
     "name": "stdout",
     "output_type": "stream",
     "text": [
      "Domain loss,acc: 1.410205, 61.90% Target domain: tr_loss-4.224932, tr_acc-70.55%\n",
      "100,000c4dTruet10:79.17%:80.42% | 100,000c4dFalset10:60.83%:61.67%\n"
     ]
    },
    {
     "name": "stderr",
     "output_type": "stream",
     "text": [
      "\n",
      "epoch-242 lr=['0.0010000'], tr/val_loss:  0.002851/  2.589491, tr: 100.00%, val:  78.75%, val_best:  80.42%: 100%|██████████| 41/41 [00:07<00:00,  5.34it/s]"
     ]
    },
    {
     "name": "stdout",
     "output_type": "stream",
     "text": [
      "Domain loss,acc: 1.397627, 61.49% Target domain: tr_loss-4.187178, tr_acc-71.17%\n",
      "100,000c4dTruet10:78.75%:80.42% | 100,000c4dFalset10:60.42%:61.67%\n"
     ]
    },
    {
     "name": "stderr",
     "output_type": "stream",
     "text": [
      "\n",
      "epoch-243 lr=['0.0010000'], tr/val_loss:  0.002758/  2.592330, tr: 100.00%, val:  78.75%, val_best:  80.42%: 100%|██████████| 41/41 [00:07<00:00,  2.27it/s]"
     ]
    },
    {
     "name": "stdout",
     "output_type": "stream",
     "text": [
      "Domain loss,acc: 1.392801, 61.59% Target domain: tr_loss-4.172887, tr_acc-69.94%\n",
      "100,000c4dTruet10:78.75%:80.42% | 100,000c4dFalset10:60.42%:61.67%\n"
     ]
    },
    {
     "name": "stderr",
     "output_type": "stream",
     "text": [
      "epoch-243 lr=['0.0010000'], tr/val_loss:  0.002758/  2.592330, tr: 100.00%, val:  78.75%, val_best:  80.42%: 100%|██████████| 41/41 [00:07<00:00,  5.28it/s]\n",
      "epoch-244 lr=['0.0010000'], tr/val_loss:  0.002661/  2.600883, tr: 100.00%, val:  78.75%, val_best:  80.42%: 100%|██████████| 41/41 [00:07<00:00,  5.19it/s]"
     ]
    },
    {
     "name": "stdout",
     "output_type": "stream",
     "text": [
      "Domain loss,acc: 1.418650, 62.21% Target domain: tr_loss-4.250629, tr_acc-70.55%\n",
      "100,000c4dTruet10:78.75%:80.42% | 100,000c4dFalset10:60.42%:61.67%\n"
     ]
    },
    {
     "name": "stderr",
     "output_type": "stream",
     "text": [
      "\n",
      "epoch-245 lr=['0.0010000'], tr/val_loss:  0.002896/  2.598670, tr: 100.00%, val:  78.75%, val_best:  80.42%: 100%|██████████| 41/41 [00:08<00:00,  4.83it/s]"
     ]
    },
    {
     "name": "stdout",
     "output_type": "stream",
     "text": [
      "Domain loss,acc: 1.408584, 61.29% Target domain: tr_loss-4.219959, tr_acc-70.86%\n",
      "100,000c4dTruet10:78.75%:80.42% | 100,000c4dFalset10:60.42%:61.67%\n"
     ]
    },
    {
     "name": "stderr",
     "output_type": "stream",
     "text": [
      "\n",
      "epoch-246 lr=['0.0010000'], tr/val_loss:  0.002627/  2.602371, tr: 100.00%, val:  79.17%, val_best:  80.42%: 100%|██████████| 41/41 [00:07<00:00,  5.13it/s]"
     ]
    },
    {
     "name": "stdout",
     "output_type": "stream",
     "text": [
      "Domain loss,acc: 1.411662, 61.39% Target domain: tr_loss-4.229731, tr_acc-69.94%\n",
      "100,000c4dTruet10:79.17%:80.42% | 100,000c4dFalset10:61.25%:61.67%\n"
     ]
    },
    {
     "name": "stderr",
     "output_type": "stream",
     "text": [
      "\n",
      "epoch-247 lr=['0.0010000'], tr/val_loss:  0.002698/  2.607395, tr: 100.00%, val:  79.17%, val_best:  80.42%: 100%|██████████| 41/41 [00:07<00:00,  5.26it/s]"
     ]
    },
    {
     "name": "stdout",
     "output_type": "stream",
     "text": [
      "Domain loss,acc: 1.390300, 61.39% Target domain: tr_loss-4.165502, tr_acc-70.55%\n",
      "100,000c4dTruet10:79.17%:80.42% | 100,000c4dFalset10:62.08%:62.08%\n"
     ]
    },
    {
     "name": "stderr",
     "output_type": "stream",
     "text": [
      "\n",
      "epoch-248 lr=['0.0010000'], tr/val_loss:  0.002671/  2.594401, tr: 100.00%, val:  80.00%, val_best:  80.42%: 100%|██████████| 41/41 [00:07<00:00,  5.22it/s]"
     ]
    },
    {
     "name": "stdout",
     "output_type": "stream",
     "text": [
      "Domain loss,acc: 1.414933, 61.29% Target domain: tr_loss-4.239458, tr_acc-70.25%\n",
      "100,000c4dTruet10:80.00%:80.42% | 100,000c4dFalset10:61.25%:62.08%\n"
     ]
    },
    {
     "name": "stderr",
     "output_type": "stream",
     "text": [
      "\n",
      "epoch-249 lr=['0.0010000'], tr/val_loss:  0.002572/  2.599811, tr: 100.00%, val:  79.58%, val_best:  80.42%: 100%|██████████| 41/41 [00:08<00:00,  5.05it/s]"
     ]
    },
    {
     "name": "stdout",
     "output_type": "stream",
     "text": [
      "Domain loss,acc: 1.401358, 61.08% Target domain: tr_loss-4.198931, tr_acc-70.86%\n",
      "100,000c4dTruet10:79.58%:80.42% | 100,000c4dFalset10:62.08%:62.08%\n"
     ]
    },
    {
     "name": "stderr",
     "output_type": "stream",
     "text": [
      "\n",
      "epoch-250 lr=['0.0010000'], tr/val_loss:  0.002709/  2.596032, tr: 100.00%, val:  80.00%, val_best:  80.42%: 100%|██████████| 41/41 [00:07<00:00,  5.25it/s]"
     ]
    },
    {
     "name": "stdout",
     "output_type": "stream",
     "text": [
      "Domain loss,acc: 1.416321, 61.29% Target domain: tr_loss-4.243543, tr_acc-70.25%\n",
      "100,000c4dTruet10:80.00%:80.42% | 100,000c4dFalset10:61.25%:62.08%\n"
     ]
    },
    {
     "name": "stderr",
     "output_type": "stream",
     "text": [
      "\n",
      "epoch-251 lr=['0.0010000'], tr/val_loss:  0.002817/  2.613005, tr: 100.00%, val:  79.17%, val_best:  80.42%: 100%|██████████| 41/41 [00:07<00:00,  5.50it/s]"
     ]
    },
    {
     "name": "stdout",
     "output_type": "stream",
     "text": [
      "Domain loss,acc: 1.416877, 61.29% Target domain: tr_loss-4.244998, tr_acc-70.55%\n",
      "100,000c4dTruet10:79.17%:80.42% | 100,000c4dFalset10:62.08%:62.08%\n"
     ]
    },
    {
     "name": "stderr",
     "output_type": "stream",
     "text": [
      "\n",
      "epoch-252 lr=['0.0010000'], tr/val_loss:  0.002503/  2.613043, tr: 100.00%, val:  78.75%, val_best:  80.42%: 100%|██████████| 41/41 [00:07<00:00,  5.24it/s]"
     ]
    },
    {
     "name": "stdout",
     "output_type": "stream",
     "text": [
      "Domain loss,acc: 1.415604, 61.18% Target domain: tr_loss-4.241806, tr_acc-71.17%\n",
      "100,000c4dTruet10:78.75%:80.42% | 100,000c4dFalset10:61.25%:62.08%\n"
     ]
    },
    {
     "name": "stderr",
     "output_type": "stream",
     "text": [
      "\n",
      "epoch-253 lr=['0.0010000'], tr/val_loss:  0.002560/  2.619745, tr: 100.00%, val:  78.75%, val_best:  80.42%: 100%|██████████| 41/41 [00:07<00:00,  5.33it/s]"
     ]
    },
    {
     "name": "stdout",
     "output_type": "stream",
     "text": [
      "Domain loss,acc: 1.469084, 61.90% Target domain: tr_loss-4.402130, tr_acc-70.25%\n",
      "100,000c4dTruet10:78.75%:80.42% | 100,000c4dFalset10:61.25%:62.08%\n"
     ]
    },
    {
     "name": "stderr",
     "output_type": "stream",
     "text": [
      "\n",
      "epoch-254 lr=['0.0010000'], tr/val_loss:  0.002655/  2.620797, tr: 100.00%, val:  78.75%, val_best:  80.42%: 100%|██████████| 41/41 [00:07<00:00,  5.31it/s]"
     ]
    },
    {
     "name": "stdout",
     "output_type": "stream",
     "text": [
      "Domain loss,acc: 1.416775, 61.39% Target domain: tr_loss-4.245015, tr_acc-70.86%\n",
      "100,000c4dTruet10:78.75%:80.42% | 100,000c4dFalset10:62.08%:62.08%\n"
     ]
    },
    {
     "name": "stderr",
     "output_type": "stream",
     "text": [
      "\n",
      "epoch-255 lr=['0.0010000'], tr/val_loss:  0.002461/  2.622227, tr: 100.00%, val:  79.58%, val_best:  80.42%: 100%|██████████| 41/41 [00:07<00:00,  5.15it/s]"
     ]
    },
    {
     "name": "stdout",
     "output_type": "stream",
     "text": [
      "Domain loss,acc: 1.450518, 61.29% Target domain: tr_loss-4.346633, tr_acc-70.25%\n",
      "100,000c4dTruet10:79.58%:80.42% | 100,000c4dFalset10:61.25%:62.08%\n"
     ]
    },
    {
     "name": "stderr",
     "output_type": "stream",
     "text": [
      "\n",
      "epoch-256 lr=['0.0010000'], tr/val_loss:  0.002462/  2.625152, tr: 100.00%, val:  79.58%, val_best:  80.42%: 100%|██████████| 41/41 [00:07<00:00,  5.38it/s]"
     ]
    },
    {
     "name": "stdout",
     "output_type": "stream",
     "text": [
      "Domain loss,acc: 1.456435, 61.08% Target domain: tr_loss-4.364380, tr_acc-69.94%\n",
      "100,000c4dTruet10:79.58%:80.42% | 100,000c4dFalset10:61.67%:62.08%\n"
     ]
    },
    {
     "name": "stderr",
     "output_type": "stream",
     "text": [
      "\n",
      "epoch-257 lr=['0.0010000'], tr/val_loss:  0.002540/  2.625396, tr: 100.00%, val:  79.17%, val_best:  80.42%: 100%|██████████| 41/41 [00:08<00:00,  4.89it/s]"
     ]
    },
    {
     "name": "stdout",
     "output_type": "stream",
     "text": [
      "Domain loss,acc: 1.421432, 60.88% Target domain: tr_loss-4.259215, tr_acc-70.25%\n",
      "100,000c4dTruet10:79.17%:80.42% | 100,000c4dFalset10:61.67%:62.08%\n"
     ]
    },
    {
     "name": "stderr",
     "output_type": "stream",
     "text": [
      "\n",
      "epoch-258 lr=['0.0010000'], tr/val_loss:  0.002526/  2.637991, tr: 100.00%, val:  79.17%, val_best:  80.42%: 100%|██████████| 41/41 [00:07<00:00,  5.60it/s]"
     ]
    },
    {
     "name": "stdout",
     "output_type": "stream",
     "text": [
      "Domain loss,acc: 1.415179, 61.80% Target domain: tr_loss-4.240488, tr_acc-70.25%\n",
      "100,000c4dTruet10:79.17%:80.42% | 100,000c4dFalset10:61.67%:62.08%\n"
     ]
    },
    {
     "name": "stderr",
     "output_type": "stream",
     "text": [
      "\n",
      "epoch-259 lr=['0.0010000'], tr/val_loss:  0.002621/  2.617584, tr: 100.00%, val:  79.17%, val_best:  80.42%: 100%|██████████| 41/41 [00:07<00:00,  5.44it/s]"
     ]
    },
    {
     "name": "stdout",
     "output_type": "stream",
     "text": [
      "Domain loss,acc: 1.424605, 61.18% Target domain: tr_loss-4.268572, tr_acc-70.86%\n",
      "100,000c4dTruet10:79.17%:80.42% | 100,000c4dFalset10:61.67%:62.08%\n"
     ]
    },
    {
     "name": "stderr",
     "output_type": "stream",
     "text": [
      "\n",
      "epoch-260 lr=['0.0010000'], tr/val_loss:  0.002586/  2.630554, tr: 100.00%, val:  80.00%, val_best:  80.42%:  98%|█████████▊| 40/41 [00:07<00:00, 11.37it/s]"
     ]
    },
    {
     "name": "stdout",
     "output_type": "stream",
     "text": [
      "Domain loss,acc: 1.433719, 61.59% Target domain: tr_loss-4.295986, tr_acc-70.86%\n",
      "100,000c4dTruet10:80.00%:80.42% | 100,000c4dFalset10:61.67%:62.08%\n"
     ]
    },
    {
     "name": "stderr",
     "output_type": "stream",
     "text": [
      "epoch-260 lr=['0.0010000'], tr/val_loss:  0.002586/  2.630554, tr: 100.00%, val:  80.00%, val_best:  80.42%: 100%|██████████| 41/41 [00:07<00:00,  5.31it/s]\n",
      "epoch-261 lr=['0.0010000'], tr/val_loss:  0.002560/  2.632950, tr: 100.00%, val:  80.00%, val_best:  80.42%: 100%|██████████| 41/41 [00:06<00:00,  6.15it/s]"
     ]
    },
    {
     "name": "stdout",
     "output_type": "stream",
     "text": [
      "Domain loss,acc: 1.418374, 62.21% Target domain: tr_loss-4.250003, tr_acc-69.94%\n",
      "100,000c4dTruet10:80.00%:80.42% | 100,000c4dFalset10:61.67%:62.08%\n"
     ]
    },
    {
     "name": "stderr",
     "output_type": "stream",
     "text": [
      "\n",
      "epoch-262 lr=['0.0010000'], tr/val_loss:  0.002474/  2.630311, tr: 100.00%, val:  80.00%, val_best:  80.42%: 100%|██████████| 41/41 [00:06<00:00,  6.27it/s]"
     ]
    },
    {
     "name": "stdout",
     "output_type": "stream",
     "text": [
      "Domain loss,acc: 1.426305, 61.70% Target domain: tr_loss-4.273967, tr_acc-70.25%\n",
      "100,000c4dTruet10:80.00%:80.42% | 100,000c4dFalset10:61.67%:62.08%\n"
     ]
    },
    {
     "name": "stderr",
     "output_type": "stream",
     "text": [
      "\n",
      "epoch-263 lr=['0.0010000'], tr/val_loss:  0.002516/  2.633013, tr: 100.00%, val:  80.00%, val_best:  80.42%: 100%|██████████| 41/41 [00:06<00:00,  6.07it/s]"
     ]
    },
    {
     "name": "stdout",
     "output_type": "stream",
     "text": [
      "Domain loss,acc: 1.419263, 61.49% Target domain: tr_loss-4.252757, tr_acc-69.94%\n",
      "100,000c4dTruet10:80.00%:80.42% | 100,000c4dFalset10:61.25%:62.08%\n"
     ]
    },
    {
     "name": "stderr",
     "output_type": "stream",
     "text": [
      "\n",
      "epoch-264 lr=['0.0010000'], tr/val_loss:  0.002538/  2.639209, tr: 100.00%, val:  80.00%, val_best:  80.42%: 100%|██████████| 41/41 [00:06<00:00,  6.44it/s]"
     ]
    },
    {
     "name": "stdout",
     "output_type": "stream",
     "text": [
      "Domain loss,acc: 1.466807, 62.21% Target domain: tr_loss-4.395344, tr_acc-70.25%\n",
      "100,000c4dTruet10:80.00%:80.42% | 100,000c4dFalset10:61.25%:62.08%\n"
     ]
    },
    {
     "name": "stderr",
     "output_type": "stream",
     "text": [
      "\n",
      "epoch-265 lr=['0.0010000'], tr/val_loss:  0.002524/  2.634626, tr: 100.00%, val:  79.58%, val_best:  80.42%: 100%|██████████| 41/41 [00:06<00:00,  5.98it/s]"
     ]
    },
    {
     "name": "stdout",
     "output_type": "stream",
     "text": [
      "Domain loss,acc: 1.425589, 61.80% Target domain: tr_loss-4.271722, tr_acc-70.55%\n",
      "100,000c4dTruet10:79.58%:80.42% | 100,000c4dFalset10:61.25%:62.08%\n"
     ]
    },
    {
     "name": "stderr",
     "output_type": "stream",
     "text": [
      "\n",
      "epoch-266 lr=['0.0010000'], tr/val_loss:  0.002443/  2.638148, tr: 100.00%, val:  79.58%, val_best:  80.42%: 100%|██████████| 41/41 [00:06<00:00,  6.04it/s]"
     ]
    },
    {
     "name": "stdout",
     "output_type": "stream",
     "text": [
      "Domain loss,acc: 1.411326, 61.90% Target domain: tr_loss-4.229094, tr_acc-70.55%\n",
      "100,000c4dTruet10:79.58%:80.42% | 100,000c4dFalset10:61.25%:62.08%\n"
     ]
    },
    {
     "name": "stderr",
     "output_type": "stream",
     "text": [
      "\n",
      "epoch-267 lr=['0.0010000'], tr/val_loss:  0.002357/  2.639861, tr: 100.00%, val:  80.00%, val_best:  80.42%: 100%|██████████| 41/41 [00:06<00:00,  5.99it/s]"
     ]
    },
    {
     "name": "stdout",
     "output_type": "stream",
     "text": [
      "Domain loss,acc: 1.421427, 61.80% Target domain: tr_loss-4.259570, tr_acc-70.25%\n",
      "100,000c4dTruet10:80.00%:80.42% | 100,000c4dFalset10:61.25%:62.08%\n"
     ]
    },
    {
     "name": "stderr",
     "output_type": "stream",
     "text": [
      "\n",
      "epoch-268 lr=['0.0010000'], tr/val_loss:  0.002405/  2.648892, tr: 100.00%, val:  80.00%, val_best:  80.42%: 100%|██████████| 41/41 [00:06<00:00,  6.16it/s]"
     ]
    },
    {
     "name": "stdout",
     "output_type": "stream",
     "text": [
      "Domain loss,acc: 1.419068, 61.70% Target domain: tr_loss-4.252394, tr_acc-70.55%\n",
      "100,000c4dTruet10:80.00%:80.42% | 100,000c4dFalset10:61.67%:62.08%\n"
     ]
    },
    {
     "name": "stderr",
     "output_type": "stream",
     "text": [
      "\n",
      "epoch-269 lr=['0.0010000'], tr/val_loss:  0.002475/  2.646749, tr: 100.00%, val:  78.75%, val_best:  80.42%: 100%|██████████| 41/41 [00:07<00:00,  5.55it/s]"
     ]
    },
    {
     "name": "stdout",
     "output_type": "stream",
     "text": [
      "Domain loss,acc: 1.427279, 61.70% Target domain: tr_loss-4.276886, tr_acc-70.86%\n",
      "100,000c4dTruet10:78.75%:80.42% | 100,000c4dFalset10:61.67%:62.08%\n"
     ]
    },
    {
     "name": "stderr",
     "output_type": "stream",
     "text": [
      "\n",
      "epoch-270 lr=['0.0010000'], tr/val_loss:  0.002436/  2.645274, tr: 100.00%, val:  79.58%, val_best:  80.42%: 100%|██████████| 41/41 [00:06<00:00,  6.00it/s]"
     ]
    },
    {
     "name": "stdout",
     "output_type": "stream",
     "text": [
      "Domain loss,acc: 1.419728, 61.80% Target domain: tr_loss-4.254314, tr_acc-71.17%\n",
      "100,000c4dTruet10:79.58%:80.42% | 100,000c4dFalset10:61.67%:62.08%\n"
     ]
    },
    {
     "name": "stderr",
     "output_type": "stream",
     "text": [
      "\n",
      "epoch-271 lr=['0.0010000'], tr/val_loss:  0.002633/  2.638819, tr: 100.00%, val:  78.75%, val_best:  80.42%: 100%|██████████| 41/41 [00:06<00:00,  5.95it/s]"
     ]
    },
    {
     "name": "stdout",
     "output_type": "stream",
     "text": [
      "Domain loss,acc: 1.429212, 61.49% Target domain: tr_loss-4.282371, tr_acc-70.55%\n",
      "100,000c4dTruet10:78.75%:80.42% | 100,000c4dFalset10:61.67%:62.08%\n"
     ]
    },
    {
     "name": "stderr",
     "output_type": "stream",
     "text": [
      "\n",
      "epoch-272 lr=['0.0010000'], tr/val_loss:  0.002588/  2.640630, tr: 100.00%, val:  79.58%, val_best:  80.42%: 100%|██████████| 41/41 [00:06<00:00,  5.87it/s]"
     ]
    },
    {
     "name": "stdout",
     "output_type": "stream",
     "text": [
      "Domain loss,acc: 1.473260, 60.88% Target domain: tr_loss-4.414602, tr_acc-70.86%\n",
      "100,000c4dTruet10:79.58%:80.42% | 100,000c4dFalset10:61.25%:62.08%\n"
     ]
    },
    {
     "name": "stderr",
     "output_type": "stream",
     "text": [
      "\n",
      "epoch-273 lr=['0.0010000'], tr/val_loss:  0.002427/  2.646511, tr: 100.00%, val:  79.17%, val_best:  80.42%: 100%|██████████| 41/41 [00:06<00:00,  5.93it/s]"
     ]
    },
    {
     "name": "stdout",
     "output_type": "stream",
     "text": [
      "Domain loss,acc: 1.425742, 61.18% Target domain: tr_loss-4.272373, tr_acc-70.86%\n",
      "100,000c4dTruet10:79.17%:80.42% | 100,000c4dFalset10:61.25%:62.08%\n"
     ]
    },
    {
     "name": "stderr",
     "output_type": "stream",
     "text": [
      "\n",
      "epoch-274 lr=['0.0010000'], tr/val_loss:  0.002422/  2.644070, tr: 100.00%, val:  78.75%, val_best:  80.42%: 100%|██████████| 41/41 [00:06<00:00,  6.01it/s]"
     ]
    },
    {
     "name": "stdout",
     "output_type": "stream",
     "text": [
      "Domain loss,acc: 1.456743, 61.80% Target domain: tr_loss-4.365385, tr_acc-70.25%\n",
      "100,000c4dTruet10:78.75%:80.42% | 100,000c4dFalset10:61.67%:62.08%\n"
     ]
    },
    {
     "name": "stderr",
     "output_type": "stream",
     "text": [
      "\n",
      "epoch-275 lr=['0.0010000'], tr/val_loss:  0.002465/  2.650748, tr: 100.00%, val:  79.58%, val_best:  80.42%: 100%|██████████| 41/41 [00:06<00:00,  5.92it/s]"
     ]
    },
    {
     "name": "stdout",
     "output_type": "stream",
     "text": [
      "Domain loss,acc: 1.423959, 61.39% Target domain: tr_loss-4.266946, tr_acc-70.25%\n",
      "100,000c4dTruet10:79.58%:80.42% | 100,000c4dFalset10:61.25%:62.08%\n"
     ]
    },
    {
     "name": "stderr",
     "output_type": "stream",
     "text": [
      "\n",
      "epoch-276 lr=['0.0010000'], tr/val_loss:  0.002345/  2.650450, tr: 100.00%, val:  79.17%, val_best:  80.42%: 100%|██████████| 41/41 [00:06<00:00,  5.89it/s]"
     ]
    },
    {
     "name": "stdout",
     "output_type": "stream",
     "text": [
      "Domain loss,acc: 1.425200, 61.18% Target domain: tr_loss-4.270909, tr_acc-70.55%\n",
      "100,000c4dTruet10:79.17%:80.42% | 100,000c4dFalset10:61.25%:62.08%\n"
     ]
    },
    {
     "name": "stderr",
     "output_type": "stream",
     "text": [
      "\n",
      "epoch-277 lr=['0.0010000'], tr/val_loss:  0.002334/  2.651228, tr: 100.00%, val:  79.17%, val_best:  80.42%: 100%|██████████| 41/41 [00:06<00:00,  6.05it/s]"
     ]
    },
    {
     "name": "stdout",
     "output_type": "stream",
     "text": [
      "Domain loss,acc: 1.435594, 61.39% Target domain: tr_loss-4.302114, tr_acc-70.55%\n",
      "100,000c4dTruet10:79.17%:80.42% | 100,000c4dFalset10:61.25%:62.08%\n"
     ]
    },
    {
     "name": "stderr",
     "output_type": "stream",
     "text": [
      "\n",
      "epoch-278 lr=['0.0010000'], tr/val_loss:  0.002291/  2.660038, tr: 100.00%, val:  79.17%, val_best:  80.42%: 100%|██████████| 41/41 [00:06<00:00,  5.99it/s]"
     ]
    },
    {
     "name": "stdout",
     "output_type": "stream",
     "text": [
      "Domain loss,acc: 1.442686, 61.90% Target domain: tr_loss-4.323476, tr_acc-69.94%\n",
      "100,000c4dTruet10:79.17%:80.42% | 100,000c4dFalset10:61.25%:62.08%\n"
     ]
    },
    {
     "name": "stderr",
     "output_type": "stream",
     "text": [
      "\n",
      "epoch-279 lr=['0.0010000'], tr/val_loss:  0.002212/  2.661985, tr: 100.00%, val:  79.58%, val_best:  80.42%: 100%|██████████| 41/41 [00:06<00:00,  6.00it/s]"
     ]
    },
    {
     "name": "stdout",
     "output_type": "stream",
     "text": [
      "Domain loss,acc: 1.469912, 61.90% Target domain: tr_loss-4.405312, tr_acc-69.33%\n",
      "100,000c4dTruet10:79.58%:80.42% | 100,000c4dFalset10:61.25%:62.08%\n"
     ]
    },
    {
     "name": "stderr",
     "output_type": "stream",
     "text": [
      "\n",
      "epoch-280 lr=['0.0010000'], tr/val_loss:  0.002224/  2.663721, tr: 100.00%, val:  79.17%, val_best:  80.42%: 100%|██████████| 41/41 [00:06<00:00,  6.02it/s]"
     ]
    },
    {
     "name": "stdout",
     "output_type": "stream",
     "text": [
      "Domain loss,acc: 1.444733, 61.70% Target domain: tr_loss-4.329750, tr_acc-70.55%\n",
      "100,000c4dTruet10:79.17%:80.42% | 100,000c4dFalset10:61.25%:62.08%\n"
     ]
    },
    {
     "name": "stderr",
     "output_type": "stream",
     "text": [
      "\n",
      "epoch-281 lr=['0.0010000'], tr/val_loss:  0.002227/  2.660945, tr: 100.00%, val:  79.17%, val_best:  80.42%: 100%|██████████| 41/41 [00:06<00:00,  6.15it/s]"
     ]
    },
    {
     "name": "stdout",
     "output_type": "stream",
     "text": [
      "Domain loss,acc: 1.426798, 61.39% Target domain: tr_loss-4.275939, tr_acc-70.86%\n",
      "100,000c4dTruet10:79.17%:80.42% | 100,000c4dFalset10:61.67%:62.08%\n"
     ]
    },
    {
     "name": "stderr",
     "output_type": "stream",
     "text": [
      "\n",
      "epoch-282 lr=['0.0010000'], tr/val_loss:  0.002185/  2.661187, tr: 100.00%, val:  80.00%, val_best:  80.42%: 100%|██████████| 41/41 [00:06<00:00,  6.19it/s]"
     ]
    },
    {
     "name": "stdout",
     "output_type": "stream",
     "text": [
      "Domain loss,acc: 1.461397, 60.78% Target domain: tr_loss-4.379822, tr_acc-70.25%\n",
      "100,000c4dTruet10:80.00%:80.42% | 100,000c4dFalset10:61.67%:62.08%\n"
     ]
    },
    {
     "name": "stderr",
     "output_type": "stream",
     "text": [
      "\n",
      "epoch-283 lr=['0.0010000'], tr/val_loss:  0.002403/  2.657005, tr: 100.00%, val:  79.17%, val_best:  80.42%: 100%|██████████| 41/41 [00:06<00:00,  6.25it/s]"
     ]
    },
    {
     "name": "stdout",
     "output_type": "stream",
     "text": [
      "Domain loss,acc: 1.460577, 60.98% Target domain: tr_loss-4.376925, tr_acc-70.25%\n",
      "100,000c4dTruet10:79.17%:80.42% | 100,000c4dFalset10:61.25%:62.08%\n"
     ]
    },
    {
     "name": "stderr",
     "output_type": "stream",
     "text": [
      "\n",
      "epoch-284 lr=['0.0010000'], tr/val_loss:  0.001928/  2.661700, tr: 100.00%, val:  80.00%, val_best:  80.42%: 100%|██████████| 41/41 [00:06<00:00,  6.03it/s]"
     ]
    },
    {
     "name": "stdout",
     "output_type": "stream",
     "text": [
      "Domain loss,acc: 1.464042, 61.29% Target domain: tr_loss-4.388271, tr_acc-70.55%\n",
      "100,000c4dTruet10:80.00%:80.42% | 100,000c4dFalset10:61.25%:62.08%\n"
     ]
    },
    {
     "name": "stderr",
     "output_type": "stream",
     "text": [
      "\n",
      "epoch-285 lr=['0.0010000'], tr/val_loss:  0.001939/  2.661762, tr: 100.00%, val:  78.75%, val_best:  80.42%: 100%|██████████| 41/41 [00:06<00:00,  6.08it/s]"
     ]
    },
    {
     "name": "stdout",
     "output_type": "stream",
     "text": [
      "Domain loss,acc: 1.453519, 61.08% Target domain: tr_loss-4.356677, tr_acc-70.55%\n",
      "100,000c4dTruet10:78.75%:80.42% | 100,000c4dFalset10:61.25%:62.08%\n"
     ]
    },
    {
     "name": "stderr",
     "output_type": "stream",
     "text": [
      "\n",
      "epoch-286 lr=['0.0010000'], tr/val_loss:  0.002003/  2.658220, tr: 100.00%, val:  80.00%, val_best:  80.42%: 100%|██████████| 41/41 [00:06<00:00,  5.97it/s]"
     ]
    },
    {
     "name": "stdout",
     "output_type": "stream",
     "text": [
      "Domain loss,acc: 1.439251, 61.49% Target domain: tr_loss-4.313748, tr_acc-69.33%\n",
      "100,000c4dTruet10:80.00%:80.42% | 100,000c4dFalset10:61.25%:62.08%\n"
     ]
    },
    {
     "name": "stderr",
     "output_type": "stream",
     "text": [
      "\n",
      "epoch-287 lr=['0.0010000'], tr/val_loss:  0.001997/  2.661124, tr: 100.00%, val:  79.58%, val_best:  80.42%: 100%|██████████| 41/41 [00:06<00:00,  5.98it/s]"
     ]
    },
    {
     "name": "stdout",
     "output_type": "stream",
     "text": [
      "Domain loss,acc: 1.449498, 61.90% Target domain: tr_loss-4.344497, tr_acc-70.55%\n",
      "100,000c4dTruet10:79.58%:80.42% | 100,000c4dFalset10:61.25%:62.08%\n"
     ]
    },
    {
     "name": "stderr",
     "output_type": "stream",
     "text": [
      "\n",
      "epoch-288 lr=['0.0010000'], tr/val_loss:  0.001918/  2.649669, tr: 100.00%, val:  79.58%, val_best:  80.42%: 100%|██████████| 41/41 [00:06<00:00,  6.12it/s]"
     ]
    },
    {
     "name": "stdout",
     "output_type": "stream",
     "text": [
      "Domain loss,acc: 1.466601, 60.88% Target domain: tr_loss-4.395966, tr_acc-69.94%\n",
      "100,000c4dTruet10:79.58%:80.42% | 100,000c4dFalset10:60.83%:62.08%\n"
     ]
    },
    {
     "name": "stderr",
     "output_type": "stream",
     "text": [
      "\n",
      "epoch-289 lr=['0.0010000'], tr/val_loss:  0.002070/  2.658723, tr: 100.00%, val:  79.58%, val_best:  80.42%: 100%|██████████| 41/41 [00:06<00:00,  5.88it/s]"
     ]
    },
    {
     "name": "stdout",
     "output_type": "stream",
     "text": [
      "Domain loss,acc: 1.436301, 60.88% Target domain: tr_loss-4.304765, tr_acc-70.25%\n",
      "100,000c4dTruet10:79.58%:80.42% | 100,000c4dFalset10:60.83%:62.08%\n"
     ]
    },
    {
     "name": "stderr",
     "output_type": "stream",
     "text": [
      "\n",
      "epoch-290 lr=['0.0010000'], tr/val_loss:  0.001867/  2.658846, tr: 100.00%, val:  79.58%, val_best:  80.42%: 100%|██████████| 41/41 [00:06<00:00,  6.16it/s]"
     ]
    },
    {
     "name": "stdout",
     "output_type": "stream",
     "text": [
      "Domain loss,acc: 1.435664, 61.29% Target domain: tr_loss-4.303257, tr_acc-70.25%\n",
      "100,000c4dTruet10:79.58%:80.42% | 100,000c4dFalset10:61.67%:62.08%\n"
     ]
    },
    {
     "name": "stderr",
     "output_type": "stream",
     "text": [
      "\n",
      "epoch-291 lr=['0.0010000'], tr/val_loss:  0.001896/  2.658034, tr: 100.00%, val:  79.17%, val_best:  80.42%: 100%|██████████| 41/41 [00:06<00:00,  6.16it/s]"
     ]
    },
    {
     "name": "stdout",
     "output_type": "stream",
     "text": [
      "Domain loss,acc: 1.462866, 61.59% Target domain: tr_loss-4.384807, tr_acc-69.63%\n",
      "100,000c4dTruet10:79.17%:80.42% | 100,000c4dFalset10:60.42%:62.08%\n"
     ]
    },
    {
     "name": "stderr",
     "output_type": "stream",
     "text": [
      "\n",
      "epoch-292 lr=['0.0010000'], tr/val_loss:  0.001877/  2.666379, tr: 100.00%, val:  78.75%, val_best:  80.42%: 100%|██████████| 41/41 [00:06<00:00,  6.32it/s]"
     ]
    },
    {
     "name": "stdout",
     "output_type": "stream",
     "text": [
      "Domain loss,acc: 1.437223, 62.21% Target domain: tr_loss-4.307916, tr_acc-70.86%\n",
      "100,000c4dTruet10:78.75%:80.42% | 100,000c4dFalset10:60.83%:62.08%\n"
     ]
    },
    {
     "name": "stderr",
     "output_type": "stream",
     "text": [
      "\n",
      "epoch-293 lr=['0.0010000'], tr/val_loss:  0.001896/  2.665812, tr: 100.00%, val:  78.75%, val_best:  80.42%: 100%|██████████| 41/41 [00:06<00:00,  6.23it/s]"
     ]
    },
    {
     "name": "stdout",
     "output_type": "stream",
     "text": [
      "Domain loss,acc: 1.461019, 61.29% Target domain: tr_loss-4.379265, tr_acc-69.94%\n",
      "100,000c4dTruet10:78.75%:80.42% | 100,000c4dFalset10:60.42%:62.08%\n"
     ]
    },
    {
     "name": "stderr",
     "output_type": "stream",
     "text": [
      "\n",
      "epoch-294 lr=['0.0010000'], tr/val_loss:  0.001770/  2.665756, tr: 100.00%, val:  78.75%, val_best:  80.42%: 100%|██████████| 41/41 [00:06<00:00,  6.27it/s]"
     ]
    },
    {
     "name": "stdout",
     "output_type": "stream",
     "text": [
      "Domain loss,acc: 1.443614, 61.59% Target domain: tr_loss-4.327302, tr_acc-70.55%\n",
      "100,000c4dTruet10:78.75%:80.42% | 100,000c4dFalset10:60.42%:62.08%\n"
     ]
    },
    {
     "name": "stderr",
     "output_type": "stream",
     "text": [
      "\n",
      "epoch-295 lr=['0.0010000'], tr/val_loss:  0.001756/  2.670979, tr: 100.00%, val:  78.33%, val_best:  80.42%: 100%|██████████| 41/41 [00:06<00:00,  5.92it/s]"
     ]
    },
    {
     "name": "stdout",
     "output_type": "stream",
     "text": [
      "Domain loss,acc: 1.458601, 61.18% Target domain: tr_loss-4.372291, tr_acc-70.25%\n",
      "100,000c4dTruet10:78.33%:80.42% | 100,000c4dFalset10:60.42%:62.08%\n"
     ]
    },
    {
     "name": "stderr",
     "output_type": "stream",
     "text": [
      "\n",
      "epoch-296 lr=['0.0010000'], tr/val_loss:  0.001972/  2.680328, tr: 100.00%, val:  77.92%, val_best:  80.42%: 100%|██████████| 41/41 [00:06<00:00,  5.99it/s]"
     ]
    },
    {
     "name": "stdout",
     "output_type": "stream",
     "text": [
      "Domain loss,acc: 1.458828, 61.70% Target domain: tr_loss-4.372539, tr_acc-69.63%\n",
      "100,000c4dTruet10:77.92%:80.42% | 100,000c4dFalset10:60.83%:62.08%\n"
     ]
    },
    {
     "name": "stderr",
     "output_type": "stream",
     "text": [
      "\n",
      "epoch-297 lr=['0.0010000'], tr/val_loss:  0.001876/  2.686481, tr: 100.00%, val:  79.17%, val_best:  80.42%: 100%|██████████| 41/41 [00:06<00:00,  5.92it/s]"
     ]
    },
    {
     "name": "stdout",
     "output_type": "stream",
     "text": [
      "Domain loss,acc: 1.460189, 61.18% Target domain: tr_loss-4.376813, tr_acc-69.94%\n",
      "100,000c4dTruet10:79.17%:80.42% | 100,000c4dFalset10:60.83%:62.08%\n"
     ]
    },
    {
     "name": "stderr",
     "output_type": "stream",
     "text": [
      "\n",
      "epoch-298 lr=['0.0010000'], tr/val_loss:  0.001829/  2.674341, tr: 100.00%, val:  79.17%, val_best:  80.42%: 100%|██████████| 41/41 [00:06<00:00,  5.97it/s]"
     ]
    },
    {
     "name": "stdout",
     "output_type": "stream",
     "text": [
      "Domain loss,acc: 1.455483, 60.67% Target domain: tr_loss-4.362791, tr_acc-70.25%\n",
      "100,000c4dTruet10:79.17%:80.42% | 100,000c4dFalset10:61.25%:62.08%\n"
     ]
    },
    {
     "name": "stderr",
     "output_type": "stream",
     "text": [
      "\n",
      "epoch-299 lr=['0.0010000'], tr/val_loss:  0.001940/  2.676267, tr: 100.00%, val:  79.17%, val_best:  80.42%: 100%|██████████| 41/41 [00:06<00:00,  5.96it/s]"
     ]
    },
    {
     "name": "stdout",
     "output_type": "stream",
     "text": [
      "Domain loss,acc: 1.469676, 61.08% Target domain: tr_loss-4.405147, tr_acc-69.63%\n",
      "100,000c4dTruet10:79.17%:80.42% | 100,000c4dFalset10:60.42%:62.08%\n"
     ]
    },
    {
     "name": "stderr",
     "output_type": "stream",
     "text": [
      "\n"
     ]
    },
    {
     "data": {
      "text/plain": [
       "'\\nddp_on 키고, gpu 개수 만큼 batch size 나눠줘\\nCUDA_VISIBLE_DEVICES=0,1,2,3,4,5 python -m torch.distributed.launch --nproc_per_node=6 main_ddp.py\\nCUDA_VISIBLE_DEVICES=1,2,3 python -m torch.distributed.launch --nproc_per_node=3 main_ddp.py\\nCUDA_VISIBLE_DEVICES=0,1,2,3 python -m torch.distributed.launch --nproc_per_node=4 main_ddp.py\\n'"
      ]
     },
     "execution_count": 6,
     "metadata": {},
     "output_type": "execute_result"
    }
   ],
   "source": [
    "### my_snn control board (Gesture) ########################\n",
    "decay = 0.25 # 0.875 0.25 0.125 0.75 0.5\n",
    "# nda 0.25 # ottt 0.5\n",
    "const2 = False # trace 할거면 True, 안할거면 False\n",
    "\n",
    "unique_name = 'main' ## 이거 설정하면 새로운 경로에 모두 save\n",
    "run_name = 'main' ## 이거 설정하면 새로운 경로에 모두 save\n",
    "\n",
    "if const2 == True:\n",
    "    const2 = decay\n",
    "else:\n",
    "    const2 = 0.0\n",
    "\n",
    "wandb.init(project= f'my_snn {unique_name}',save_code=True)\n",
    "\n",
    "my_snn_system(  devices = \"1\",\n",
    "                single_step = True, # True # False\n",
    "                unique_name = run_name,\n",
    "                my_seed = 42,\n",
    "                TIME = 10, # dvscifar 10 # ottt 6 or 10 # nda 10  # 제작하는 dvs에서 TIME넘거나 적으면 자르거나 PADDING함\n",
    "                BATCH = 16, # batch norm 할거면 2이상으로 해야함   # nda 256   #  ottt 128\n",
    "                IMAGE_SIZE = 128, # dvscifar 48 # MNIST 28 # CIFAR10 32 # PMNIST 28 #NMNIST 34 # GESTURE 128\n",
    "                # dvsgesture 128, dvs_cifar2 128, nmnist 34, n_caltech101 180,240, n_tidigits 64, heidelberg 700, \n",
    "                #pmnist는 28로 해야 됨. 나머지는 바꿔도 돌아는 감.\n",
    "\n",
    "                # DVS_CIFAR10 할거면 time 10으로 해라\n",
    "                which_data = 'DVS_GESTURE_TONIC',\n",
    "# 'CIFAR100' 'CIFAR10' 'MNIST' 'FASHION_MNIST' 'DVS_CIFAR10' 'PMNIST'아직\n",
    "# 'DVS_GESTURE', 'DVS_GESTURE_TONIC','DVS_CIFAR10_2','NMNIST','NMNIST_TONIC','CIFAR10','N_CALTECH101','n_tidigits','heidelberg'\n",
    "                # CLASS_NUM = 10,\n",
    "                data_path = '/data2', # YOU NEED TO CHANGE THIS\n",
    "                rate_coding = False, # True # False\n",
    "                lif_layer_v_init = 0.0,\n",
    "                lif_layer_v_decay = decay,\n",
    "                lif_layer_v_threshold = 0.720291189014991, # 1.3102821334243646,  # 10000이상으로 하면 NDA LIF 씀. #nda 0.5  #ottt 1.0\n",
    "                lif_layer_v_reset = 10000, # 10000이상은 hardreset (내 LIF쓰기는 함 ㅇㅇ)\n",
    "                lif_layer_sg_width = 3.555718888923306, # 2.570969004857107 # sigmoid류에서는 alpha값 4.0, rectangle류에서는 width값 0.5\n",
    "\n",
    "                # synapse_conv_in_channels = IMAGE_PIXEL_CHANNEL,\n",
    "                synapse_conv_kernel_size = 3,\n",
    "                synapse_conv_stride = 1,\n",
    "                synapse_conv_padding = 1,\n",
    "                synapse_conv_trace_const1 = 1, # 현재 trace구할 때 현재 spike에 곱해지는 상수. 걍 1로 두셈.\n",
    "                synapse_conv_trace_const2 = const2, # 현재 trace구할 때 직전 trace에 곱해지는 상수. lif_layer_v_decay와 같게 할 것을 추천\n",
    "\n",
    "                # synapse_fc_out_features = CLASS_NUM,\n",
    "                synapse_fc_trace_const1 = 1, # 현재 trace구할 때 현재 spike에 곱해지는 상수. 걍 1로 두셈.\n",
    "                synapse_fc_trace_const2 = const2, # 현재 trace구할 때 직전 trace에 곱해지는 상수. lif_layer_v_decay와 같게 할 것을 추천\n",
    "\n",
    "                pre_trained = False, # True # False\n",
    "                convTrue_fcFalse = False, # True # False\n",
    "\n",
    "                # 'P' for average pooling, 'D' for (1,1) aver pooling, 'M' for maxpooling, 'L' for linear classifier, [  ] for residual block\n",
    "                # conv에서 10000 이상은 depth-wise separable (BPTT만 지원), 20000이상은 depth-wise (BPTT만 지원)\n",
    "                # cfg = [64, 64],\n",
    "                # cfg = [64, 124, 64, 124],\n",
    "                # cfg = ['M','M',512], \n",
    "                # cfg = [512], \n",
    "                # cfg = ['M', 'M', 64, 128, 'P', 128, 'P'], \n",
    "                # cfg = ['M','M',512],\n",
    "                # cfg = ['M',200],\n",
    "                # cfg = [200,200],\n",
    "                # cfg = ['M','M',200,200],\n",
    "                cfg = ([200],[200],[200],[2]), # (feature extractor, classifier, domain adapter, # of domain)\n",
    "                # cfg = (['M','M',200],[200],[200],[2]), # (feature extractor, classifier, domain adapter, # of domain)\n",
    "                # cfg = ['M',200,200],\n",
    "                # cfg = ['M','M',1024,512,256,128,64],\n",
    "                # cfg = [200,200],\n",
    "                # cfg = [12], #fc\n",
    "                # cfg = [12, 'M', 48, 'M', 12], \n",
    "                # cfg = [64,[64,64],64], # 끝에 linear classifier 하나 자동으로 붙습니다\n",
    "                # cfg = [64, 128, 'P', 256, 256, 'P', 512, 512, 'P', 512, 512, 'D'], #ottt\n",
    "                # cfg = [64, 128, 'P', 256, 256, 'P', 512, 512, 'P', 512, 512], \n",
    "                # cfg = [64, 128, 'M', 256, 256, 'M', 512, 512, 'M', 512, 512], \n",
    "                # cfg = [64, 'P', 128, 'P', 256, 256, 'P', 512, 512, 512, 512, 'D'], # nda\n",
    "                # cfg = [64, 'P', 128, 'P', 256, 256, 'P', 512, 512, 512, 512], # nda 128pixel\n",
    "                # cfg = [64, 'P', 128, 'P', 256, 256, 'P', 512, 512, 512, 512, 'L', 4096, 4096],\n",
    "                # cfg = [20001,10001], # depthwise, separable\n",
    "                # cfg = [64,20064,10001], # vanilla conv, depthwise, separable\n",
    "                # cfg = [8, 'P', 8, 'P', 8, 'P', 8,'P', 8, 'P'],\n",
    "                # cfg = [],        \n",
    "                \n",
    "                net_print = True, # True # False # True로 하길 추천\n",
    "                weight_count_print = False, # True # False\n",
    "                \n",
    "                pre_trained_path = f\"net_save/save_now_net_weights_{unique_name}.pth\",\n",
    "                learning_rate = 0.001, #0.1 bptt, #0.01 ottt, # default 0.001  # ottt 0.1 # nda 0.001 # 0.00936191669529645\n",
    "                epoch_num = 300,\n",
    "                verbose_interval = 999999999, #이거 걍 건들지마셈 #숫자 크게 하면 꺼짐 #걍 중간중간 iter에서 끊어서 출력\n",
    "                validation_interval =  999999999,#999999999, #이거 걍 건들지마셈 #숫자 크게 하면 에포크 마지막 iter 때 val 함\n",
    "\n",
    "                tdBN_on = False,  # True # False\n",
    "                BN_on = False,  # True # False\n",
    "                \n",
    "                surrogate = 'hard_sigmoid', # 'sigmoid' 'rectangle' 'rough_rectangle' 'hard_sigmoid'\n",
    "                \n",
    "                gradient_verbose = False,  # True # False  # weight gradient 각 layer마다 띄워줌\n",
    "\n",
    "                BPTT_on = False,  # True # False # True이면 BPTT, False이면 OTTT  # depthwise, separable은 BPTT만 가능\n",
    "                optimizer_what = 'SGD', # 'SGD' 'Adam', 'RMSprop'\n",
    "                scheduler_name = 'no', # 'no' 'StepLR' 'ExponentialLR' 'ReduceLROnPlateau' 'CosineAnnealingLR' 'OneCycleLR'\n",
    "                \n",
    "                ddp_on = False,   # True # False \n",
    "                # 지원 DATASET: cifar10, mnist\n",
    "\n",
    "                nda_net = False,   # True # False\n",
    "\n",
    "                domain_il_epoch = 0, # over 0, then domain il mode on # pmnist 쓸거면 HLOP 코드보고 더 디벨롭하셈. 지금 개발 hold함.\n",
    "                \n",
    "                dvs_clipping = 4, #일반적으로 1 또는 2 # 100ms때는 5 # 숫자만큼 크면 spike 아니면 걍 0\n",
    "                # gesture, cifar-dvs2, nmnist, ncaltech101\n",
    "                # gesture: 100_000c1-5, 25_000c5, 10_000c5, 1_000c5, 1_000_000c5\n",
    "\n",
    "                dvs_duration = 100_000, # 0 아니면 time sampling # dvs number sampling OR time sampling # gesture, cifar-dvs2, nmnist, ncaltech101\n",
    "                # 있는 데이터들 #gesture 100_000 25_000 10_000 1_000 1_000_000 #nmnist 10000 #nmnist_tonic 10_000 25_000\n",
    "                # 한 숫자가 1us인듯 (spikingjelly코드에서)\n",
    "                # 한 장에 50 timestep만 생산함. 싫으면 my_snn/trying/spikingjelly_dvsgesture의__init__.py 를 참고해봐\n",
    "                # nmnist 5_000us, gesture는 100_000us, 25_000us\n",
    "\n",
    "                OTTT_sWS_on = False, # True # False # BPTT끄고, CONV에만 적용됨.\n",
    "\n",
    "                DFA_on = False, # True # False # residual은 dfa지원안함.\n",
    "                OTTT_input_trace_on = False, # True # False # 맨 처음 input에 trace 적용\n",
    "                 \n",
    "                e_transport_swap = 0, # 1 이상이면 해당 숫자 에포크만큼 val_acc_best가 변화가 없으면 e_transport scheme (BP vs DFA) swap\n",
    "                e_transport_swap_tr = 0, # 1 이상이면 해당 숫자 에포크만큼 tr_acc_best가 변화가 없으면 e_transport scheme (BP vs DFA) swap\n",
    "                e_transport_swap_coin = 1, # swap할 수 있는 coin 개수\n",
    "\n",
    "                drop_rate = 0, # drop_rate만큼 0으로 만듦. ex) 0.2면 activation의 20%를 0으로 만듦.\n",
    "\n",
    "                exclude_class = True, # True # False # gesture에서 10번째 클래스 제외\n",
    "\n",
    "                merge_polarities = False, # True # False # tonic dvs dataset 에서 polarities 합치기\n",
    "                denoise_on = True, # True # False\n",
    "\n",
    "                I_wanna_sweep_at_this_epoch = -1, # 지정 에포크에서 BP와 DFA를 바꿔줌. -1이면 실행 안함.\n",
    "                # dvs_duration_domain=[(100_000,5,False),(125_000,5,False),(150_000,5,False),],\n",
    "                # dvs_duration_domain=[(40_000,4,False),(50_000,4,False),(60_000,4,False),],\n",
    "                # [duration, clipping, denoise_on]\n",
    "                dvs_duration_domain=[(100_000,4,False)],\n",
    "                dvs_relative_timestep = False, # True # False \n",
    "                \n",
    "                extra_train_dataset = 0,\n",
    "\n",
    "                num_workers = 2, # local wsl에서는 2가 맞고, 서버에서는 4가 좋더라.\n",
    "                chaching_on = True, # True # False # only for certain datasets (gesture_tonic, nmnist_tonic)\n",
    "                pin_memory = True, # True # False \n",
    "\n",
    "                UDA_on = True, # True # False\n",
    "                UDA_data = (100_000,4,False), # (duration, clipping, denoise_on)\n",
    "                src_trg_ratio = 2, # (1이상의 정수) src data와 trg data의 개수 비율 (대략적으로)\n",
    "                adapter_loss_weight = 0.0, # 1.0  # adapter loss의 힘. # 이걸 0으로하면 src only learning.\n",
    "                alpha_uda = 1.0, # GRL의 alpha값\n",
    "\n",
    "                temporal_filter = 1, # 1이면 아무것도 안함. 한타임스텝에 쑤셔 넣을 window개수. \n",
    "                initial_pooling = 4, # 1이면 pooling 안함. 2의 승수만 입력하셈. log2를 취해서 pooling할 window size를 결정함.\n",
    "                ) \n",
    "\n",
    "# num_workers = 4 * num_GPU (or 8, 16, 2 * num_GPU)\n",
    "# entry * batch_size * num_worker = num_GPU * GPU_throughtput\n",
    "# num_workers = batch_size / num_GPU\n",
    "# num_workers = batch_size / num_CPU\n",
    "\n",
    "# sigmoid와 BN이 있어야 잘된다.\n",
    "# average pooling  \n",
    "# 이 낫다. \n",
    " \n",
    "# nda에서는 decay = 0.25, threshold = 0.5, width =1, surrogate = rectangle, batch = 256, tdBN = True\n",
    "## OTTT 에서는 decay = 0.5, threshold = 1.0, surrogate = sigmoid, batch = 128, BN = True\n",
    "\n",
    "\n",
    "# DDP 실행 코드0\n",
    "'''\n",
    "ddp_on 키고, gpu 개수 만큼 batch size 나눠줘\n",
    "CUDA_VISIBLE_DEVICES=0,1,2,3,4,5 python -m torch.distributed.launch --nproc_per_node=6 main_ddp.py\n",
    "CUDA_VISIBLE_DEVICES=1,2,3 python -m torch.distributed.launch --nproc_per_node=3 main_ddp.py\n",
    "CUDA_VISIBLE_DEVICES=0,1,2,3 python -m torch.distributed.launch --nproc_per_node=4 main_ddp.py\n",
    "'''\n",
    "\n"
   ]
  },
  {
   "cell_type": "code",
   "execution_count": 7,
   "metadata": {},
   "outputs": [],
   "source": [
    "# # sweep 하는 코드, 위 셀 주석처리 해야 됨.\n",
    "\n",
    "# # 이런 워닝 뜨는 거는 걍 너가 main 안에서  wandb.config.update(hyperparameters)할 때 물려서임. 어차피 근데 sweep에서 지정한 걸로 덮어짐 \n",
    "# # wandb: WARNING Config item 'BATCH' was locked by 'sweep' (ignored update).\n",
    "\n",
    "# unique_name_hyper = 'main'\n",
    "# run_name = 'main'\n",
    "# sweep_configuration = {\n",
    "#     'method': 'random', # 'random', 'bayes'\n",
    "#     'name': f'my_snn_sweep{datetime.datetime.now().strftime(\"%Y%m%d_%H%M%S\")}',\n",
    "#     'metric': {'goal': 'maximize', 'name': 'val_acc_best'},\n",
    "#     'parameters': \n",
    "#     {\n",
    "#         \"learning_rate\": {\"values\": [0.001]}, #0.00936191669529645\n",
    "#         \"BATCH\": {\"values\": [16]},\n",
    "#         \"decay\": {\"values\": [0.25]},\n",
    "#         \"IMAGE_SIZE\": {\"values\": [128]},\n",
    "#         \"TIME\": {\"values\": [10]},\n",
    "#         \"epoch_num\": {\"values\": [200]},\n",
    "#         \"dvs_duration\": {\"values\": [25_000,50_000,100_000]},\n",
    "#         \"dvs_clipping\": {\"values\": [1,2,3,4,5]},\n",
    "#         \"which_data\": {\"values\": ['DVS_GESTURE_TONIC']},\n",
    "#         \"OTTT_sWS_on\": {\"values\": [False]},\n",
    "#         \"const2\": {\"values\": [False]},\n",
    "#         \"surrogate\": {\"values\": ['hard_sigmoid']},\n",
    "#         \"DFA_on\": {\"values\": [False]},\n",
    "#         \"OTTT_input_trace_on\": {\"values\": [False]},\n",
    "#         \"cfg\": {\"values\": [['M','M',200,200]]},\n",
    "#         \"e_transport_swap\": {\"values\": [0]},\n",
    "#         \"e_transport_swap_tr\": {\"values\": [0]},\n",
    "#         \"drop_rate\": {\"values\": [0.0]}, # \"drop_rate\": {\"values\": [0.25,0.5,0.75]}, #\"drop_rate\": {\"min\": 0.25, \"max\": 0.75},\n",
    "#         \"exclude_class\": {\"values\": [True]},\n",
    "#         \"merge_polarities\": {\"values\": [False]},\n",
    "#         \"lif_layer_v_reset\": {\"values\": [10000]},\n",
    "#         \"lif_layer_sg_width\": {\"values\": [3.555718888923306]},\n",
    "#         \"e_transport_swap_coin\": {\"values\": [1]},\n",
    "#         \"lif_layer_v_threshold\": {\"values\": [0.720291189014991]},\n",
    "#         \"scheduler_name\": {\"values\": ['no']},  # 'no' 'StepLR' 'ExponentialLR' 'ReduceLROnPlateau' 'CosineAnnealingLR' 'OneCycleLR'\n",
    "#         \"denoise_on\": {\"values\": [True,False]}, \n",
    "#         \"I_wanna_sweep_at_this_epoch\": {\"values\": [-1]}, \n",
    "#         \"dvs_duration_domain\": {\"values\": [[]]}, \n",
    "#         \"dvs_relative_timestep\": {\"values\": [[False]]}, \n",
    "#         \"extra_train_dataset\": {\"values\": [0]}, \n",
    "#      }\n",
    "# }\n",
    "\n",
    "# def hyper_iter():\n",
    "#     ### my_snn control board ########################\n",
    "#     unique_name = unique_name_hyper ## 이거 설정하면 새로운 경로에 모두 save\n",
    "    \n",
    "#     wandb.init(save_code = True)\n",
    "#     learning_rate  =  wandb.config.learning_rate\n",
    "#     BATCH  =  wandb.config.BATCH\n",
    "#     decay  =  wandb.config.decay\n",
    "#     IMAGE_SIZE  =  wandb.config.IMAGE_SIZE\n",
    "#     TIME  =  wandb.config.TIME\n",
    "#     epoch_num  =  wandb.config.epoch_num \n",
    "#     dvs_duration  =  wandb.config.dvs_duration\n",
    "#     dvs_clipping  =  wandb.config.dvs_clipping\n",
    "#     which_data  =  wandb.config.which_data\n",
    "#     OTTT_sWS_on  =  wandb.config.OTTT_sWS_on\n",
    "#     const2  =  wandb.config.const2\n",
    "#     surrogate  =  wandb.config.surrogate\n",
    "#     DFA_on  =  wandb.config.DFA_on\n",
    "#     OTTT_input_trace_on  =  wandb.config.OTTT_input_trace_on\n",
    "#     cfg  =  wandb.config.cfg\n",
    "#     e_transport_swap  =  wandb.config.e_transport_swap\n",
    "#     e_transport_swap_tr  =  wandb.config.e_transport_swap_tr\n",
    "#     drop_rate  =  wandb.config.drop_rate\n",
    "#     exclude_class  =  wandb.config.exclude_class\n",
    "#     merge_polarities  =  wandb.config.merge_polarities\n",
    "#     lif_layer_v_reset  =  wandb.config.lif_layer_v_reset\n",
    "#     lif_layer_sg_width  =  wandb.config.lif_layer_sg_width\n",
    "#     e_transport_swap_coin  =  wandb.config.e_transport_swap_coin\n",
    "#     lif_layer_v_threshold  =  wandb.config.lif_layer_v_threshold\n",
    "#     scheduler_name  =  wandb.config.scheduler_name\n",
    "#     denoise_on  =  wandb.config.denoise_on\n",
    "#     I_wanna_sweep_at_this_epoch  =  wandb.config.I_wanna_sweep_at_this_epoch\n",
    "#     dvs_duration_domain  =  wandb.config.dvs_duration_domain\n",
    "#     dvs_relative_timestep  =  wandb.config.dvs_relative_timestep\n",
    "#     extra_train_dataset  =  wandb.config.extra_train_dataset\n",
    "#     if const2 == True:\n",
    "#         const2 = decay\n",
    "#     else:\n",
    "#         const2 = 0.0\n",
    "\n",
    "#     my_snn_system(  devices = \"5\",\n",
    "#                 single_step = True, # True # False\n",
    "#                 unique_name = run_name,\n",
    "#                 my_seed = 42,\n",
    "#                 TIME = TIME , # dvscifar 10 # ottt 6 or 10 # nda 10  # 제작하는 dvs에서 TIME넘거나 적으면 자르거나 PADDING함\n",
    "#                 BATCH = BATCH, # batch norm 할거면 2이상으로 해야함   # nda 256   #  ottt 128\n",
    "#                 IMAGE_SIZE = IMAGE_SIZE, # dvscifar 48 # MNIST 28 # CIFAR10 32 # PMNIST 28 #NMNIST 34 # GESTURE 128\n",
    "#                 # dvsgesture 128, dvs_cifar2 128, nmnist 34, n_caltech101 180,240, n_tidigits 64, heidelberg 700, \n",
    "#                 #pmnist는 28로 해야 됨. 나머지는 바꿔도 돌아는 감.\n",
    "\n",
    "#                 # DVS_CIFAR10 할거면 time 10으로 해라\n",
    "#                 which_data = which_data,\n",
    "# # 'CIFAR100' 'CIFAR10' 'MNIST' 'FASHION_MNIST' 'DVS_CIFAR10' 'PMNIST'아직\n",
    "# # 'DVS_GESTURE', 'DVS_GESTURE_TONIC','DVS_CIFAR10_2','NMNIST','NMNIST_TONIC','N_CALTECH101','n_tidigits','heidelberg'\n",
    "#                 # CLASS_NUM = 10,\n",
    "#                 data_path = '/data2', # YOU NEED TO CHANGE THIS\n",
    "#                 rate_coding = False, # True # False\n",
    "#                 lif_layer_v_init = 0.0,\n",
    "#                 lif_layer_v_decay = decay,\n",
    "#                 lif_layer_v_threshold = lif_layer_v_threshold,  # 10000이상으로 하면 NDA LIF 씀. #nda 0.5  #ottt 1.0\n",
    "#                 lif_layer_v_reset = lif_layer_v_reset, # 10000이상은 hardreset (내 LIF쓰기는 함 ㅇㅇ)\n",
    "#                 lif_layer_sg_width = lif_layer_sg_width, # # surrogate sigmoid 쓸 때는 의미없음\n",
    "\n",
    "#                 # synapse_conv_in_channels = IMAGE_PIXEL_CHANNEL,\n",
    "#                 synapse_conv_kernel_size = 3,\n",
    "#                 synapse_conv_stride = 1,\n",
    "#                 synapse_conv_padding = 1,\n",
    "#                 synapse_conv_trace_const1 = 1, # 현재 trace구할 때 현재 spike에 곱해지는 상수. 걍 1로 두셈.\n",
    "#                 synapse_conv_trace_const2 = const2, # 현재 trace구할 때 직전 trace에 곱해지는 상수. lif_layer_v_decay와 같게 할 것을 추천\n",
    "\n",
    "#                 # synapse_fc_out_features = CLASS_NUM,\n",
    "#                 synapse_fc_trace_const1 = 1, # 현재 trace구할 때 현재 spike에 곱해지는 상수. 걍 1로 두셈.\n",
    "#                 synapse_fc_trace_const2 = const2, # 현재 trace구할 때 직전 trace에 곱해지는 상수. lif_layer_v_decay와 같게 할 것을 추천\n",
    "\n",
    "#                 pre_trained = False, # True # False\n",
    "#                 convTrue_fcFalse = False, # True # False\n",
    "\n",
    "#                 # 'P' for average pooling, 'D' for (1,1) aver pooling, 'M' for maxpooling, 'L' for linear classifier, [  ] for residual block\n",
    "#                 # conv에서 10000 이상은 depth-wise separable (BPTT만 지원), 20000이상은 depth-wise (BPTT만 지원)\n",
    "#                 # cfg = [64, 64],\n",
    "#                 # cfg = [64, 124, 64, 124],\n",
    "#                 # cfg = ['M','M',512], \n",
    "#                 # cfg = [512], \n",
    "#                 # cfg = ['M', 'M', 64, 128, 'P', 128, 'P'], \n",
    "#                 # cfg = ['M','M',200,200],\n",
    "#                 # cfg = [200,200],\n",
    "#                 cfg = cfg,\n",
    "#                 # cfg = [12], #fc\n",
    "#                 # cfg = [12, 'M', 48, 'M', 12], \n",
    "#                 # cfg = [64,[64,64],64], # 끝에 linear classifier 하나 자동으로 붙습니다\n",
    "#                 # cfg = [64, 128, 'P', 256, 256, 'P', 512, 512, 'P', 512, 512, 'D'], #ottt\n",
    "#                 # cfg = [64, 128, 'P', 256, 256, 'P', 512, 512, 'P', 512, 512], \n",
    "#                 # cfg = [64, 128, 'M', 256, 256, 'M', 512, 512, 'M', 512, 512], \n",
    "#                 # cfg = [64, 'P', 128, 'P', 256, 256, 'P', 512, 512, 512, 512, 'D'], # nda\n",
    "#                 # cfg = [64, 'P', 128, 'P', 256, 256, 'P', 512, 512, 512, 512], # nda 128pixel\n",
    "#                 # cfg = [64, 'P', 128, 'P', 256, 256, 'P', 512, 512, 512, 512, 'L', 4096, 4096],\n",
    "#                 # cfg = [20001,10001], # depthwise, separable\n",
    "#                 # cfg = [64,20064,10001], # vanilla conv, depthwise, separable\n",
    "#                 # cfg = [8, 'P', 8, 'P', 8, 'P', 8,'P', 8, 'P'],\n",
    "#                 # cfg = [], \n",
    "                \n",
    "#                 net_print = True, # True # False # True로 하길 추천\n",
    "#                 weight_count_print = False, # True # False\n",
    "                \n",
    "#                 pre_trained_path = f\"net_save/save_now_net_weights_{unique_name}.pth\",\n",
    "#                 learning_rate = learning_rate, # default 0.001  # ottt 0.1 # nda 0.001 \n",
    "#                 epoch_num = epoch_num,\n",
    "#                 verbose_interval = 999999999, #숫자 크게 하면 꺼짐 #걍 중간중간 iter에서 끊어서 출력\n",
    "#                 validation_interval =  999999999,#999999999, #숫자 크게 하면 에포크 마지막 iter 때 val 함\n",
    "\n",
    "#                 tdBN_on = False,  # True # False\n",
    "#                 BN_on = False,  # True # False\n",
    "                \n",
    "#                 surrogate = surrogate, # 'rectangle' 'sigmoid' 'rough_rectangle'\n",
    "                \n",
    "#                 gradient_verbose = False,  # True # False  # weight gradient 각 layer마다 띄워줌\n",
    "\n",
    "#                 BPTT_on = False,  # True # False # True이면 BPTT, False이면 OTTT  # depthwise, separable은 BPTT만 가능\n",
    "#                 optimizer_what = 'SGD', # 'SGD' 'Adam', 'RMSprop'\n",
    "#                 scheduler_name = scheduler_name, # 'no' 'StepLR' 'ExponentialLR' 'ReduceLROnPlateau' 'CosineAnnealingLR' 'OneCycleLR'\n",
    "                \n",
    "#                 ddp_on = False,   # True # False \n",
    "#                 # 지원 DATASET: cifar10, mnist\n",
    "\n",
    "#                 nda_net = False,   # True # False\n",
    "\n",
    "#                 domain_il_epoch = 0, # over 0, then domain il mode on # pmnist 쓸거면 HLOP 코드보고 더 디벨롭하셈. 지금 개발 hold함.\n",
    "                \n",
    "#                 dvs_clipping = dvs_clipping, # 숫자만큼 크면 spike 아니면 걍 0\n",
    "#                 # gesture, cifar-dvs2, nmnist, ncaltech101\n",
    "\n",
    "#                 dvs_duration = dvs_duration, # 0 아니면 time sampling # dvs number sampling OR time sampling # gesture, cifar-dvs2, nmnist, ncaltech101\n",
    "#                 # 있는 데이터들 #gesture 100_000 25_000 10_000 1_000 1_000_000 #nmnist 10000 #nmnist_tonic 10_000 25_000\n",
    "#                 # 한 숫자가 1us인듯 (spikingjelly코드에서)\n",
    "#                 # 한 장에 50 timestep만 생산함. 싫으면 my_snn/trying/spikingjelly_dvsgesture의__init__.py 를 참고해봐\n",
    "\n",
    "#                 OTTT_sWS_on = OTTT_sWS_on, # True # False # BPTT끄고, CONV에만 적용됨.\n",
    "\n",
    "#                 DFA_on = DFA_on, # True # False # residual은 dfa지원안함.\n",
    "#                 OTTT_input_trace_on = OTTT_input_trace_on, # True # False # 맨 처음 input에 trace 적용\n",
    "                 \n",
    "#                 e_transport_swap = e_transport_swap, # 1 이상이면 해당 숫자 에포크만큼 val_acc_best가 변화가 없으면 e_transport scheme (BP vs DFA) swap\n",
    "#                 e_transport_swap_tr = e_transport_swap_tr, # 1 이상이면 해당 숫자 에포크만큼 tr_acc_best가 변화가 없으면 e_transport scheme (BP vs DFA) swap\n",
    "#                 e_transport_swap_coin = e_transport_swap_coin, # swap할 수 있는 coin 개수\n",
    "                    \n",
    "#                 drop_rate = drop_rate,\n",
    "\n",
    "#                 exclude_class = exclude_class, # True # False # gesture에서 10번째 클래스 제외\n",
    "\n",
    "#                 merge_polarities = merge_polarities, # True # False # tonic dvs dataset 에서 polarities 합치기\n",
    "#                 denoise_on = denoise_on,\n",
    "\n",
    "#                 I_wanna_sweep_at_this_epoch = I_wanna_sweep_at_this_epoch,\n",
    "#                 dvs_duration_domain = dvs_duration_domain,\n",
    "#                 dvs_relative_timestep = dvs_relative_timestep, # True # False \n",
    "\n",
    "#                 extra_train_dataset = extra_train_dataset,\n",
    "\n",
    "#                 num_workers = 2,\n",
    "#                 chaching_on = True,\n",
    "#                 pin_memory = True, # True # False\n",
    "#                     ) \n",
    "#     # sigmoid와 BN이 있어야 잘된다.\n",
    "#     # average pooling\n",
    "#     # 이 낫다. \n",
    "    \n",
    "#     # nda에서는 decay = 0.25, threshold = 0.5, width =1, surrogate = rectangle, batch = 256, tdBN = True\n",
    "#     ## OTTT 에서는 decay = 0.5, threshold = 1.0, surrogate = sigmoid, batch = 128, BN = True\n",
    "\n",
    "# sweep_id = wandb.sweep(sweep=sweep_configuration, project=f'my_snn {unique_name_hyper}')\n",
    "# wandb.agent(sweep_id, function=hyper_iter, count=10000, project=f'my_snn {unique_name_hyper}')\n"
   ]
  },
  {
   "cell_type": "code",
   "execution_count": 8,
   "metadata": {},
   "outputs": [
    {
     "data": {
      "application/vnd.jupyter.widget-view+json": {
       "model_id": "6aff3b567e594ea3993a214f1538b96c",
       "version_major": 2,
       "version_minor": 0
      },
      "text/plain": [
       "VBox(children=(Label(value='4.446 MB of 4.446 MB uploaded (0.612 MB deduped)\\r'), FloatProgress(value=1.0, max…"
      ]
     },
     "metadata": {},
     "output_type": "display_data"
    },
    {
     "data": {
      "text/html": [
       "W&B sync reduced upload amount by 12.7%"
      ],
      "text/plain": [
       "<IPython.core.display.HTML object>"
      ]
     },
     "metadata": {},
     "output_type": "display_data"
    },
    {
     "data": {
      "text/html": [
       "<style>\n",
       "    table.wandb td:nth-child(1) { padding: 0 10px; text-align: left ; width: auto;} td:nth-child(2) {text-align: left ; width: 100%}\n",
       "    .wandb-row { display: flex; flex-direction: row; flex-wrap: wrap; justify-content: flex-start; width: 100% }\n",
       "    .wandb-col { display: flex; flex-direction: column; flex-basis: 100%; flex: 1; padding: 10px; }\n",
       "    </style>\n",
       "<div class=\"wandb-row\"><div class=\"wandb-col\"><h3>Run history:</h3><br/><table class=\"wandb\"><tr><td>DFA_flag</td><td>▁▁▁▁▁▁▁▁▁▁▁▁▁▁▁▁▁▁▁▁▁▁▁▁▁▁▁▁▁▁▁▁▁▁▁▁▁▁▁▁</td></tr><tr><td>epoch</td><td>▁▁▁▂▂▂▂▂▂▃▃▃▃▃▄▄▄▄▄▄▅▅▅▅▅▅▆▆▆▆▆▇▇▇▇▇▇███</td></tr><tr><td>iter_acc</td><td>▃▃▆▇▄██▆▅█▃▄██▆▄█▆▅██▃██▇▆█▁▅█▄▂██▃▅█▆▃█</td></tr><tr><td>summary_val_acc</td><td>▁▃▄▆▆▇██████▇▇▇▇███▇▇█▇▇███████████████▇</td></tr><tr><td>tr_acc</td><td>▁▅▇█████████████████████████████████████</td></tr><tr><td>tr_epoch_loss</td><td>█▅▃▂▁▁▁▁▁▁▁▁▁▁▁▁▁▁▁▁▁▁▁▁▁▁▁▁▁▁▁▁▁▁▁▁▁▁▁▁</td></tr><tr><td>val_acc_best</td><td>▁▄▆▆▇▇██████████████████████████████████</td></tr><tr><td>val_acc_now</td><td>▁▃▄▆▆▇██████▇▇▇▇███▇▇█▇▇███████████████▇</td></tr><tr><td>val_acc_now_set[1]</td><td>▁▅▅▇▆▇▆▆▇█▇▇▇▇▇▇▇▇█▇██▇▇███▇▇▇▇█████████</td></tr><tr><td>val_acc_now_set[1]_best</td><td>▁▅▆▇▇▇▇▇▇███████████████████████████████</td></tr><tr><td>val_loss</td><td>▂▁▁▂▃▃▄▅▅▅▆▆▆▆▆▆▆▆▇▇▇▇▇▇▇▇▇▇▇▇██████████</td></tr></table><br/></div><div class=\"wandb-col\"><h3>Run summary:</h3><br/><table class=\"wandb\"><tr><td>DFA_flag</td><td>0.0</td></tr><tr><td>epoch</td><td>299</td></tr><tr><td>iter_acc</td><td>1.0</td></tr><tr><td>tr_acc</td><td>1.0</td></tr><tr><td>tr_epoch_loss</td><td>0.00194</td></tr><tr><td>val_acc_best</td><td>0.80417</td></tr><tr><td>val_acc_now</td><td>0.79167</td></tr><tr><td>val_acc_now_set[1]</td><td>0.60417</td></tr><tr><td>val_acc_now_set[1]_best</td><td>0.62083</td></tr><tr><td>val_loss</td><td>2.67627</td></tr></table><br/></div></div>"
      ],
      "text/plain": [
       "<IPython.core.display.HTML object>"
      ]
     },
     "metadata": {},
     "output_type": "display_data"
    },
    {
     "data": {
      "text/html": [
       " View run <strong style=\"color:#cdcd00\">eternal-wood-6292</strong> at: <a href='https://wandb.ai/bhkim003-seoul-national-university/my_snn%20main/runs/6qchxukr' target=\"_blank\">https://wandb.ai/bhkim003-seoul-national-university/my_snn%20main/runs/6qchxukr</a><br/> View project at: <a href='https://wandb.ai/bhkim003-seoul-national-university/my_snn%20main' target=\"_blank\">https://wandb.ai/bhkim003-seoul-national-university/my_snn%20main</a><br/>Synced 7 W&B file(s), 0 media file(s), 13 artifact file(s) and 1 other file(s)"
      ],
      "text/plain": [
       "<IPython.core.display.HTML object>"
      ]
     },
     "metadata": {},
     "output_type": "display_data"
    },
    {
     "data": {
      "text/html": [
       "Find logs at: <code>./wandb/run-20241014_224026-6qchxukr/logs</code>"
      ],
      "text/plain": [
       "<IPython.core.display.HTML object>"
      ]
     },
     "metadata": {},
     "output_type": "display_data"
    },
    {
     "data": {
      "text/html": [
       "The new W&B backend becomes opt-out in version 0.18.0; try it out with `wandb.require(\"core\")`! See https://wandb.me/wandb-core for more information."
      ],
      "text/plain": [
       "<IPython.core.display.HTML object>"
      ]
     },
     "metadata": {},
     "output_type": "display_data"
    }
   ],
   "source": [
    "wandb.finish() "
   ]
  },
  {
   "cell_type": "code",
   "execution_count": 9,
   "metadata": {},
   "outputs": [],
   "source": [
    "# import numpy as np\n",
    "# import matplotlib.pyplot as plt\n",
    "# import json\n",
    "# run_name = 'main_FINAL_TEST'\n",
    "\n",
    "# unique_name = run_name\n",
    "# def pad_array_to_match_length(array1, array2):\n",
    "#     if len(array1) > len(array2):\n",
    "#         padded_array2 = np.pad(array2, (0, len(array1) - len(array2)), 'constant')\n",
    "#         return array1, padded_array2\n",
    "#     elif len(array2) > len(array1):\n",
    "#         padded_array1 = np.pad(array1, (0, len(array2) - len(array1)), 'constant')\n",
    "#         return padded_array1, array2\n",
    "#     else:\n",
    "#         return array1, array2\n",
    "# def load_hyperparameters(filename=f'result_save/hyperparameters_{unique_name}.json'):\n",
    "#     with open(filename, 'r') as f:\n",
    "#         return json.load(f)\n",
    "    \n",
    "\n",
    "\n",
    "\n",
    "\n",
    "# current_time = '20240628_110116'\n",
    "# base_name = f'{current_time}'\n",
    "# iter_acc_file_name = f'result_save/{base_name}_iter_acc_array_{unique_name}.npy'\n",
    "# val_acc_file_name = f'result_save/{base_name}_val_acc_now_array_{unique_name}.npy'\n",
    "# hyperparameters_file_name = f'result_save/{base_name}_hyperparameters_{unique_name}.json'\n",
    "\n",
    "# ### if you want to just see most recent train and val acc###########################\n",
    "# iter_acc_file_name = f'result_save/iter_acc_array_{unique_name}.npy'\n",
    "# tr_acc_file_name = f'result_save/tr_acc_array_{unique_name}.npy'\n",
    "# val_acc_file_name = f'result_save/val_acc_now_array_{unique_name}.npy'\n",
    "# hyperparameters_file_name = f'result_save/hyperparameters_{unique_name}.json'\n",
    "\n",
    "# loaded_iter_acc_array = np.load(iter_acc_file_name)*100\n",
    "# loaded_tr_acc_array = np.load(tr_acc_file_name)*100\n",
    "# loaded_val_acc_array = np.load(val_acc_file_name)*100\n",
    "# hyperparameters = load_hyperparameters(hyperparameters_file_name)\n",
    "\n",
    "# loaded_iter_acc_array, loaded_val_acc_array = pad_array_to_match_length(loaded_iter_acc_array, loaded_val_acc_array)\n",
    "# loaded_iter_acc_array, loaded_tr_acc_array = pad_array_to_match_length(loaded_iter_acc_array, loaded_tr_acc_array)\n",
    "# loaded_val_acc_array, loaded_tr_acc_array = pad_array_to_match_length(loaded_val_acc_array, loaded_tr_acc_array)\n",
    "\n",
    "# top_iter_acc = np.max(loaded_iter_acc_array)\n",
    "# top_tr_acc = np.max(loaded_tr_acc_array)\n",
    "# top_val_acc = np.max(loaded_val_acc_array)\n",
    "\n",
    "# which_data = hyperparameters['which_data']\n",
    "# BPTT_on = hyperparameters['BPTT_on']\n",
    "# current_epoch = hyperparameters['current epoch']\n",
    "# surrogate = hyperparameters['surrogate']\n",
    "# cfg = hyperparameters['cfg']\n",
    "# tdBN_on = hyperparameters['tdBN_on']\n",
    "# BN_on = hyperparameters['BN_on']\n",
    "\n",
    "\n",
    "# iterations = np.arange(len(loaded_iter_acc_array))\n",
    "\n",
    "# # 그래프 그리기\n",
    "# plt.figure(figsize=(10, 5))\n",
    "# plt.plot(iterations, loaded_iter_acc_array, label='Iter Accuracy', color='g', alpha=0.2)\n",
    "# plt.plot(iterations, loaded_tr_acc_array, label='Training Accuracy', color='b')\n",
    "# plt.plot(iterations, loaded_val_acc_array, label='Validation Accuracy', color='r')\n",
    "\n",
    "# # # 텍스트 추가\n",
    "# # plt.text(0.05, 0.95, f'Top Training Accuracy: {100*top_iter_acc:.2f}%', transform=plt.gca().transAxes, fontsize=12, verticalalignment='top', horizontalalignment='left', color='blue')\n",
    "# # plt.text(0.05, 0.90, f'Top Validation Accuracy: {100*top_val_acc:.2f}%', transform=plt.gca().transAxes, fontsize=12, verticalalignment='top', horizontalalignment='left', color='red')\n",
    "# # 텍스트 추가\n",
    "# plt.text(0.5, 0.10, f'Top Training Accuracy: {top_tr_acc:.2f}%', transform=plt.gca().transAxes, fontsize=12, verticalalignment='top', horizontalalignment='center', color='blue')\n",
    "# plt.text(0.5, 0.05, f'Top Validation Accuracy: {top_val_acc:.2f}%', transform=plt.gca().transAxes, fontsize=12, verticalalignment='top', horizontalalignment='center', color='red')\n",
    "\n",
    "# plt.xlabel('Iterations')\n",
    "# plt.ylabel('Accuracy [%]')\n",
    "\n",
    "# # 그래프 제목에 하이퍼파라미터 정보 추가\n",
    "# title = f'Training and Validation Accuracy over Iterations\\n\\nData: {which_data}, BPTT: {\"On\" if BPTT_on else \"Off\"}, Current Epoch: {current_epoch}, Surrogate: {surrogate},\\nCFG: {cfg}, tdBN: {\"On\" if tdBN_on else \"Off\"}, BN: {\"On\" if BN_on else \"Off\"}'\n",
    "\n",
    "# plt.title(title)\n",
    "\n",
    "# plt.legend(loc='lower right')\n",
    "# plt.xlim(0)  # x축을 0부터 시작\n",
    "# plt.grid(True)\n",
    "# plt.show()"
   ]
  }
 ],
 "metadata": {
  "kernelspec": {
   "display_name": "aedat2",
   "language": "python",
   "name": "python3"
  },
  "language_info": {
   "codemirror_mode": {
    "name": "ipython",
    "version": 3
   },
   "file_extension": ".py",
   "mimetype": "text/x-python",
   "name": "python",
   "nbconvert_exporter": "python",
   "pygments_lexer": "ipython3",
   "version": "3.8.18"
  }
 },
 "nbformat": 4,
 "nbformat_minor": 2
}
