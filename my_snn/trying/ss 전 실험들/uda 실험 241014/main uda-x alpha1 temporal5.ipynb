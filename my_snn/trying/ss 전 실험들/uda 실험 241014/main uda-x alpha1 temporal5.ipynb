{
 "cells": [
  {
   "cell_type": "code",
   "execution_count": 1,
   "metadata": {},
   "outputs": [],
   "source": [
    "# Copyright (c) 2024 Byeonghyeon Kim \n",
    "# github site: https://github.com/bhkim003/ByeonghyeonKim\n",
    "# email: bhkim003@snu.ac.kr\n",
    " \n",
    "# Permission is hereby granted, free of charge, to any person obtaining a copy of\n",
    "# this software and associated documentation files (the \"Software\"), to deal in\n",
    "# the Software without restriction, including without limitation the rights to\n",
    "# use, copy, modify, merge, publish, distribute, sublicense, and/or sell copies of\n",
    "# the Software, and to permit persons to whom the Software is furnished to do so,\n",
    "# subject to the following conditions:\n",
    " \n",
    "# The above copyright notice and this permission notice shall be included in all\n",
    "# copies or substantial portions of the Software.\n",
    " \n",
    "# THE SOFTWARE IS PROVIDED \"AS IS\", WITHOUT WARRANTY OF ANY KIND, EXPRESS OR\n",
    "# IMPLIED, INCLUDING BUT NOT LIMITED TO THE WARRANTIES OF MERCHANTABILITY, FITNESS\n",
    "# FOR A PARTICULAR PURPOSE AND NONINFRINGEMENT. IN NO EVENT SHALL THE AUTHORS OR\n",
    "# COPYRIGHT HOLDERS BE LIABLE FOR ANY CLAIM, DAMAGES OR OTHER LIABILITY, WHETHER\n",
    "# IN AN ACTION OF CONTRACT, TORT OR OTHERWISE, ARISING FROM, OUT OF OR IN\n",
    "# CONNECTION WITH THE SOFTWARE OR THE USE OR OTHER DEALINGS IN THE SOFTWARE.\n"
   ]
  },
  {
   "cell_type": "code",
   "execution_count": 2,
   "metadata": {},
   "outputs": [
    {
     "ename": "RuntimeError",
     "evalue": "KeyboardInterrupt: ",
     "output_type": "error",
     "traceback": [
      "\u001b[0;31m---------------------------------------------------------------------------\u001b[0m",
      "\u001b[0;31mRuntimeError\u001b[0m                              Traceback (most recent call last)",
      "Cell \u001b[0;32mIn[2], line 4\u001b[0m\n\u001b[1;32m      2\u001b[0m \u001b[38;5;28;01mimport\u001b[39;00m \u001b[38;5;21;01mos\u001b[39;00m\n\u001b[1;32m      3\u001b[0m \u001b[38;5;28;01mimport\u001b[39;00m \u001b[38;5;21;01margparse\u001b[39;00m\n\u001b[0;32m----> 4\u001b[0m \u001b[38;5;28;01mimport\u001b[39;00m \u001b[38;5;21;01mtorch\u001b[39;00m\n\u001b[1;32m      5\u001b[0m \u001b[38;5;28;01mimport\u001b[39;00m \u001b[38;5;21;01mtorch\u001b[39;00m\u001b[38;5;21;01m.\u001b[39;00m\u001b[38;5;21;01mnn\u001b[39;00m \u001b[38;5;28;01mas\u001b[39;00m \u001b[38;5;21;01mnn\u001b[39;00m \n\u001b[1;32m      6\u001b[0m \u001b[38;5;28;01mimport\u001b[39;00m \u001b[38;5;21;01mtorch\u001b[39;00m\u001b[38;5;21;01m.\u001b[39;00m\u001b[38;5;21;01mnn\u001b[39;00m\u001b[38;5;21;01m.\u001b[39;00m\u001b[38;5;21;01mfunctional\u001b[39;00m \u001b[38;5;28;01mas\u001b[39;00m \u001b[38;5;21;01mF\u001b[39;00m\n",
      "File \u001b[0;32m~/anaconda3/envs/aedat2/lib/python3.8/site-packages/torch/__init__.py:197\u001b[0m\n\u001b[1;32m    195\u001b[0m     \u001b[38;5;28;01mif\u001b[39;00m USE_GLOBAL_DEPS:\n\u001b[1;32m    196\u001b[0m         _load_global_deps()\n\u001b[0;32m--> 197\u001b[0m     \u001b[38;5;28;01mfrom\u001b[39;00m \u001b[38;5;21;01mtorch\u001b[39;00m\u001b[38;5;21;01m.\u001b[39;00m\u001b[38;5;21;01m_C\u001b[39;00m \u001b[38;5;28;01mimport\u001b[39;00m \u001b[38;5;241m*\u001b[39m  \u001b[38;5;66;03m# noqa: F403\u001b[39;00m\n\u001b[1;32m    199\u001b[0m \u001b[38;5;66;03m# Appease the type checker; ordinarily this binding is inserted by the\u001b[39;00m\n\u001b[1;32m    200\u001b[0m \u001b[38;5;66;03m# torch._C module initialization code in C\u001b[39;00m\n\u001b[1;32m    201\u001b[0m \u001b[38;5;28;01mif\u001b[39;00m TYPE_CHECKING:\n",
      "\u001b[0;31mRuntimeError\u001b[0m: KeyboardInterrupt: "
     ]
    }
   ],
   "source": [
    "import sys\n",
    "import os\n",
    "import argparse\n",
    "import torch\n",
    "import torch.nn as nn \n",
    "import torch.nn.functional as F\n",
    "import torch.backends.cudnn as cudnn\n",
    "import torch.optim as optim\n",
    "import torch.optim.lr_scheduler as lr_scheduler\n",
    "from torch.utils.data import Dataset, DataLoader\n",
    "\n",
    "import torchvision\n",
    "import torchvision.datasets\n",
    "import torchvision.transforms as transforms\n",
    "\n",
    "import numpy as np\n",
    "import matplotlib.pyplot as plt\n",
    "\n",
    "import time\n",
    "\n",
    "from snntorch import spikegen\n",
    "import matplotlib.pyplot as plt\n",
    "import snntorch.spikeplot as splt\n",
    "from IPython.display import HTML\n",
    "\n",
    "from tqdm import tqdm\n",
    "\n",
    "from apex.parallel import DistributedDataParallel as DDP\n",
    "\n",
    "import random\n",
    "import datetime\n",
    "\n",
    "import json\n",
    "\n",
    "from sklearn.utils import shuffle\n",
    "\n",
    "''' 레퍼런스\n",
    "https://spikingjelly.readthedocs.io/zh-cn/0.0.0.0.4/spikingjelly.datasets.html#module-spikingjelly.datasets\n",
    "https://github.com/GorkaAbad/Sneaky-Spikes/blob/main/datasets.py\n",
    "https://github.com/GorkaAbad/Sneaky-Spikes/blob/main/how_to.md\n",
    "https://github.com/nmi-lab/torchneuromorphic\n",
    "https://snntorch.readthedocs.io/en/latest/snntorch.spikevision.spikedata.html#shd\n",
    "'''\n",
    "\n",
    "import snntorch\n",
    "from snntorch.spikevision import spikedata\n",
    "\n",
    "from spikingjelly.datasets.dvs128_gesture import DVS128Gesture\n",
    "from spikingjelly.datasets.cifar10_dvs import CIFAR10DVS\n",
    "from spikingjelly.datasets.n_mnist import NMNIST\n",
    "# from spikingjelly.datasets.es_imagenet import ESImageNet\n",
    "from spikingjelly.datasets import split_to_train_test_set\n",
    "from spikingjelly.datasets.n_caltech101 import NCaltech101\n",
    "from spikingjelly.datasets import pad_sequence_collate, padded_sequence_mask\n",
    "\n",
    "import torchneuromorphic\n",
    "\n",
    "import wandb\n",
    "\n",
    "from torchviz import make_dot\n",
    "import graphviz"
   ]
  },
  {
   "cell_type": "code",
   "execution_count": null,
   "metadata": {},
   "outputs": [],
   "source": [
    "import apex"
   ]
  },
  {
   "cell_type": "code",
   "execution_count": null,
   "metadata": {},
   "outputs": [
    {
     "data": {
      "image/png": "[encoded data removed]",
      "text/plain": [
       "<Figure size 800x600 with 2 Axes>"
      ]
     },
     "metadata": {},
     "output_type": "display_data"
    }
   ],
   "source": [
    "# my module import\n",
    "from modules import *\n",
    "\n",
    "# modules 폴더에 새모듈.py 만들면\n",
    "# modules/__init__py 파일에 form .새모듈 import * 하셈\n",
    "# 그리고 새모듈.py에서 from modules.새모듈 import * 하셈\n"
   ]
  },
  {
   "cell_type": "code",
   "execution_count": null,
   "metadata": {},
   "outputs": [],
   "source": [
    "from turtle import shape\n",
    "\n",
    "\n",
    "def my_snn_system(devices = \"0,1,2,3\",\n",
    "                    single_step = False, # True # False\n",
    "                    unique_name = 'main',\n",
    "                    my_seed = 42,\n",
    "                    TIME = 10,\n",
    "                    BATCH = 256,\n",
    "                    IMAGE_SIZE = 32,\n",
    "                    which_data = 'CIFAR10',\n",
    "                    # CLASS_NUM = 10,\n",
    "                    data_path = '/data2',\n",
    "                    rate_coding = True,\n",
    "    \n",
    "                    lif_layer_v_init = 0.0,\n",
    "                    lif_layer_v_decay = 0.6,\n",
    "                    lif_layer_v_threshold = 1.2,\n",
    "                    lif_layer_v_reset = 0.0,\n",
    "                    lif_layer_sg_width = 1,\n",
    "\n",
    "                    # synapse_conv_in_channels = IMAGE_PIXEL_CHANNEL,\n",
    "                    synapse_conv_kernel_size = 3,\n",
    "                    synapse_conv_stride = 1,\n",
    "                    synapse_conv_padding = 1,\n",
    "                    synapse_conv_trace_const1 = 1,\n",
    "                    synapse_conv_trace_const2 = 0.6,\n",
    "\n",
    "                    # synapse_fc_out_features = CLASS_NUM,\n",
    "                    synapse_fc_trace_const1 = 1,\n",
    "                    synapse_fc_trace_const2 = 0.6,\n",
    "\n",
    "                    pre_trained = False,\n",
    "                    convTrue_fcFalse = True,\n",
    "                    cfg = [64, 64],\n",
    "                    net_print = False, # True # False\n",
    "                    weight_count_print = False, # True # False\n",
    "                    pre_trained_path = \"net_save/save_now_net.pth\",\n",
    "                    learning_rate = 0.0001,\n",
    "                    epoch_num = 200,\n",
    "                    verbose_interval = 100, #숫자 크게 하면 꺼짐\n",
    "                    validation_interval = 10, #숫자 크게 하면 꺼짐\n",
    "                    tdBN_on = False,\n",
    "                    BN_on = False,\n",
    "\n",
    "                    surrogate = 'sigmoid',\n",
    "\n",
    "                    gradient_verbose = False,\n",
    "\n",
    "                    BPTT_on = False,\n",
    "\n",
    "                    optimizer_what = 'SGD', # 'SGD' 'Adam', 'RMSprop'\n",
    "                    scheduler_name = 'no',\n",
    "                    \n",
    "                    ddp_on = True,\n",
    "\n",
    "                    nda_net = False,\n",
    "                    \n",
    "                    domain_il_epoch = 0, # over 0, then domain il mode on\n",
    "\n",
    "                    dvs_clipping = 1, \n",
    "                    dvs_duration = 10005,\n",
    "\n",
    "                    OTTT_sWS_on = True, # True # False\n",
    "\n",
    "                    DFA_on = False, # True # False\n",
    "                    OTTT_input_trace_on = False, # True # False\n",
    "                 \n",
    "                    e_transport_swap = 5, # 1 이상이면 해당 숫자 에포크만큼 val_acc_best가 변화가 없으면 e_transport scheme (BP vs DFA) swap\n",
    "                    e_transport_swap_tr = 0, # 1 이상이면 해당 숫자 에포크만큼 val_acc_best가 변화가 없으면 e_transport scheme (BP vs DFA) swap\n",
    "                    e_transport_swap_coin = 0, # swap할 수 있는 coin 개수\n",
    "\n",
    "                    drop_rate = 0.5, \n",
    "\n",
    "                    exclude_class = True, # True # False # gesture에서 10번째 클래스 제외\n",
    "\n",
    "                    merge_polarities = True, # True # False # tonic dvs dataset 에서 polarities 합치기\n",
    "                    denoise_on = True, \n",
    "                    dvs_relative_timestep = True, \n",
    "                    \n",
    "                    I_wanna_sweep_at_this_epoch = -1,\n",
    "                    dvs_duration_domain = [],\n",
    "\n",
    "                    extra_train_dataset = 0,\n",
    "\n",
    "                    num_workers = 2,\n",
    "                    chaching_on = False,\n",
    "                    pin_memory = True, # True # False\n",
    "                    \n",
    "                    UDA_on = False, # True # False\n",
    "                    UDA_data = (25_000,1,False), # (duration, clipping, denoise_on)\n",
    "                    src_trg_ratio = 1,\n",
    "                    adapter_loss_weight = 1.0, # 1.0  # adapter loss의 힘.\n",
    "                    alpha_uda = 1.0,\n",
    "\n",
    "                    temporal_filter = 1, \n",
    "                    initial_pooling = 1,\n",
    "                  ):\n",
    "    ## hyperparameter check #############################################################\n",
    "    if OTTT_sWS_on == True:\n",
    "        assert BPTT_on == False and tdBN_on == False and BN_on == False\n",
    "        if convTrue_fcFalse == False:\n",
    "            assert single_step == True\n",
    "    if single_step == True:\n",
    "        assert BPTT_on == False and tdBN_on == False \n",
    "    if tdBN_on == True:\n",
    "        assert BPTT_on == True\n",
    "    if pre_trained == True:\n",
    "        print('\\n\\n')\n",
    "        print(\"Caution! pre_trained is True\\n\\n\"*3)    \n",
    "    if DFA_on == True:\n",
    "        assert single_step == True and BPTT_on == False and any(isinstance(item, list) for item in cfg) == False\n",
    "    if OTTT_input_trace_on == True:\n",
    "        assert BPTT_on == False and single_step == True\n",
    "    if UDA_on == True:\n",
    "        assert single_step == True and BPTT_on == False and I_wanna_sweep_at_this_epoch == -1 and (e_transport_swap_coin == 0 or (e_transport_swap == 0 and e_transport_swap_tr == 0)) and isinstance(cfg, tuple) == True\n",
    "    if temporal_filter > 1:\n",
    "        assert convTrue_fcFalse == False\n",
    "    if initial_pooling > 1:\n",
    "        pass\n",
    "    ######################################################################################\n",
    "\n",
    "\n",
    "    ## 함수 내 모든 로컬 변수 저장 ########################################################\n",
    "    hyperparameters = locals()\n",
    "    hyperparameters['current epoch'] = 0\n",
    "    ######################################################################################\n",
    "    \n",
    "    args_gpu = None\n",
    "    ## DDP settting ######################################################################\n",
    "    if (ddp_on == True):\n",
    "        parser = argparse.ArgumentParser(description='my_snn CIFAR10 Training')\n",
    "\n",
    "        # # local_rank는 command line에서 따로 줄 필요는 없지만, 선언은 필요\n",
    "        parser.add_argument(\"--local_rank\", default=0, type=int)\n",
    "\n",
    "        args = parser.parse_args() # 이거 적어줘야됨. parser argument선언하고\n",
    "\n",
    "        args.gpu = args.local_rank\n",
    "        args_gpu = args.gpu\n",
    "        torch.cuda.set_device(args.gpu)\n",
    "        torch.distributed.init_process_group(backend=\"nccl\", init_method=\"env://\")\n",
    "        args.world_size = torch.distributed.get_world_size()\n",
    "    #######################################################################################\n",
    "\n",
    "\n",
    "    ## wandb 세팅 ###################################################################\n",
    "    current_time = datetime.datetime.now().strftime(\"%Y%m%d_%H%M%S\")\n",
    "    if (ddp_on == True and torch.distributed.get_rank() != 0):\n",
    "        wandb.finish()\n",
    "    if (ddp_on == False or torch.distributed.get_rank() == 0):\n",
    "        wandb.config.update(hyperparameters)\n",
    "        wandb.run.name = f'lr_{learning_rate}_{unique_name}_{which_data}_tstep{TIME}'\n",
    "        wandb.define_metric(\"summary_val_acc\", summary=\"max\")\n",
    "        wandb.run.log_code(\".\", \n",
    "                           include_fn=lambda path: path.endswith(\".py\") or path.endswith(\".ipynb\"),\n",
    "                           exclude_fn=lambda path: 'logs/' in path or 'net_save/' in path or 'result_save/' in path or 'trying/' in path or 'wandb/' in path or 'private/' in path\n",
    "                           )\n",
    "    ###################################################################################\n",
    "\n",
    "\n",
    "\n",
    "    ## gpu setting ##################################################################################################################\n",
    "    os.environ[\"CUDA_DEVICE_ORDER\"]=\"PCI_BUS_ID\" \n",
    "    os.environ[\"CUDA_VISIBLE_DEVICES\"]= devices\n",
    "    ###################################################################################################################################\n",
    "\n",
    "\n",
    "    ## seed setting ##################################################################################################################\n",
    "    seed_assign(my_seed)\n",
    "    ###################################################################################################################################\n",
    "    \n",
    "\n",
    "    ## data_loader 가져오기 ##################################################################################################################\n",
    "    # data loader, pixel channel, class num\n",
    "    train_loader, test_loader, synapse_conv_in_channels, CLASS_NUM = data_loader(\n",
    "            which_data,\n",
    "            data_path, \n",
    "            rate_coding, \n",
    "            BATCH, \n",
    "            IMAGE_SIZE,\n",
    "            ddp_on,\n",
    "            TIME*temporal_filter, # temporal_filter가 곱해짐.\n",
    "            dvs_clipping,\n",
    "            dvs_duration,\n",
    "            exclude_class,\n",
    "            merge_polarities,\n",
    "            denoise_on,\n",
    "            my_seed,\n",
    "            extra_train_dataset,\n",
    "            num_workers,\n",
    "            chaching_on,\n",
    "            pin_memory,)\n",
    "    synapse_fc_out_features = CLASS_NUM\n",
    "    test_loader_domain_set = []\n",
    "    test_loader_domain_set.append(test_loader)  \n",
    "\n",
    "    if (UDA_on == True):\n",
    "        print('Target domain에 대한 validation set이 이 target domain의 test set이다.')\n",
    "        train_loader_target, _, synapse_conv_in_channels, CLASS_NUM = data_loader(\n",
    "                which_data,\n",
    "                data_path, \n",
    "                rate_coding, \n",
    "                BATCH, \n",
    "                IMAGE_SIZE,\n",
    "                ddp_on,\n",
    "                TIME*temporal_filter,\n",
    "                UDA_data[1],  # dvs_clipping,\n",
    "                UDA_data[0],   # dvs_duration,\n",
    "                exclude_class,\n",
    "                merge_polarities,\n",
    "                UDA_data[2], # denoise_on,\n",
    "                my_seed,\n",
    "                extra_train_dataset,\n",
    "                num_workers,\n",
    "                chaching_on,\n",
    "                pin_memory,)\n",
    "        synapse_fc_out_features = CLASS_NUM\n",
    "    ###########################################################################################################################################\n",
    "    \n",
    "    ## 다른 dvs duration domain을 validation set으로 불러오기 ##############################################################\n",
    "    dvs_duration_domain_temp = []\n",
    "    if len(dvs_duration_domain) > 0:\n",
    "        for domain in dvs_duration_domain:\n",
    "            target_domain_timestep = (dvs_duration*TIME)//domain[0] if dvs_relative_timestep == True else TIME\n",
    "            dvs_duration_domain_temp.append(domain + (target_domain_timestep,))\n",
    "            train_loader_domain, test_loader_domain, synapse_conv_in_channels_domain, CLASS_NUM_domain = data_loader(\n",
    "                    which_data,\n",
    "                    data_path, \n",
    "                    rate_coding, \n",
    "                    BATCH, \n",
    "                    IMAGE_SIZE,\n",
    "                    ddp_on,\n",
    "                    target_domain_timestep*temporal_filter,\n",
    "                    domain[1], # dvs_clipping\n",
    "                    domain[0], # dvs_duration\n",
    "                    exclude_class,\n",
    "                    merge_polarities,\n",
    "                    domain[2], # denoise_on \n",
    "                    my_seed,\n",
    "                    extra_train_dataset,\n",
    "                    num_workers,\n",
    "                    chaching_on,\n",
    "                    pin_memory,)\n",
    "            test_loader_domain_set.append(test_loader_domain)\n",
    "        dvs_duration_domain = dvs_duration_domain_temp\n",
    "    ######################################################################################################################\n",
    "    \n",
    "    ## parameter number calculator (안 중요함) ##################################################################################################################\n",
    "    params_num = 0\n",
    "    img_size = IMAGE_SIZE//initial_pooling\n",
    "    bias_param = 1 # 1 or 0\n",
    "    classifier_making = False\n",
    "    if (UDA_on == True):\n",
    "        print(\"In UDA mode, No parameter number calculation yet.\")\n",
    "        pass\n",
    "    else: \n",
    "        if (convTrue_fcFalse == True):\n",
    "            past_kernel = synapse_conv_in_channels\n",
    "            for kernel in cfg:\n",
    "                if (classifier_making == False):\n",
    "                    if (type(kernel) == list):\n",
    "                        for residual_kernel in kernel:\n",
    "                            if (residual_kernel >= 10000 and residual_kernel < 20000): # separable\n",
    "                                residual_kernel -= 10000\n",
    "                                params_num += (synapse_conv_kernel_size**2 + bias_param) * past_kernel\n",
    "                                params_num += (1**2 * past_kernel + bias_param) * residual_kernel\n",
    "                                past_kernel = residual_kernel  \n",
    "                            elif (residual_kernel >= 20000 and residual_kernel < 30000): # depthwise\n",
    "                                residual_kernel -= 20000\n",
    "                                # 'past_kernel' should be same with 'kernel'\n",
    "                                params_num += (synapse_conv_kernel_size**2 + bias_param) * past_kernel\n",
    "                                past_kernel = residual_kernel  \n",
    "                            else:\n",
    "                                params_num += residual_kernel * ((synapse_conv_kernel_size**2) * past_kernel + bias_param)\n",
    "                                past_kernel = residual_kernel\n",
    "                    elif (kernel == 'P' or kernel == 'M'):\n",
    "                        img_size = img_size // 2\n",
    "                    elif (kernel == 'D'):\n",
    "                        img_size = 1\n",
    "                    elif (kernel == 'L'):\n",
    "                        classifier_making = True\n",
    "                        past_kernel = past_kernel * (img_size**2)\n",
    "                    else:\n",
    "                        if (kernel >= 10000 and kernel < 20000): # separable\n",
    "                            kernel -= 10000\n",
    "                            params_num += (synapse_conv_kernel_size**2 + bias_param) * past_kernel\n",
    "                            params_num += (1**2 * past_kernel + bias_param) * kernel\n",
    "                            past_kernel = kernel  \n",
    "                        elif (kernel >= 20000 and kernel < 30000): # depthwise\n",
    "                            kernel -= 20000\n",
    "                            # 'past_kernel' should be same with 'kernel'\n",
    "                            params_num += (synapse_conv_kernel_size**2 + bias_param) * past_kernel\n",
    "                            past_kernel = kernel  \n",
    "                        else:\n",
    "                            params_num += kernel * (synapse_conv_kernel_size**2 * past_kernel + bias_param)\n",
    "                            past_kernel = kernel    \n",
    "                else: # classifier making\n",
    "                    params_num += (past_kernel + bias_param) * kernel\n",
    "                    past_kernel = kernel\n",
    "            \n",
    "            \n",
    "            if classifier_making == False:\n",
    "                past_kernel = past_kernel*img_size*img_size\n",
    "\n",
    "            params_num += (past_kernel + bias_param) * synapse_fc_out_features\n",
    "        else:\n",
    "            in_channel_compute_temp = synapse_conv_in_channels * temporal_filter\n",
    "            past_in_channel = in_channel_compute_temp*img_size*img_size\n",
    "            for in_channel in cfg:\n",
    "                if (type(in_channel) == list):\n",
    "                    for residual_in_channel in in_channel:\n",
    "                        params_num += (past_in_channel + bias_param) * residual_in_channel\n",
    "                        past_in_channel = residual_in_channel\n",
    "                elif (in_channel == 'P' or in_channel == 'M'):\n",
    "                    img_size = img_size // 2\n",
    "                    past_in_channel = in_channel_compute_temp*img_size*img_size\n",
    "                else:\n",
    "                    params_num += (past_in_channel + bias_param) * in_channel\n",
    "                    past_in_channel = in_channel\n",
    "            params_num += (past_in_channel + bias_param) * synapse_fc_out_features\n",
    "    ###########################################################################################################################################\n",
    "\n",
    "\n",
    "    device = torch.device(\"cuda\" if torch.cuda.is_available() else \"cpu\")\n",
    "    print(f\"\\ndevice ==> {device}\\n\")\n",
    "    if device == \"cpu\":\n",
    "        print(\"=\"*50,\"\\n[WARNING]\\n[WARNING]\\n[WARNING]\\n: cpu mode\\n\\n\",\"=\"*50)\n",
    "\n",
    "    ### network setting #######################################################################################################################\n",
    "    if (convTrue_fcFalse == False):\n",
    "        if (single_step == False):\n",
    "            net = MY_SNN_FC(cfg, synapse_conv_in_channels*temporal_filter, IMAGE_SIZE//initial_pooling, synapse_fc_out_features,\n",
    "                        synapse_fc_trace_const1, synapse_fc_trace_const2, \n",
    "                        lif_layer_v_init, lif_layer_v_decay, \n",
    "                        lif_layer_v_threshold, lif_layer_v_reset,\n",
    "                        lif_layer_sg_width,\n",
    "                        tdBN_on,\n",
    "                        BN_on, TIME,\n",
    "                        surrogate,\n",
    "                        BPTT_on,\n",
    "                        DFA_on,\n",
    "                        drop_rate,\n",
    "                        UDA_on,\n",
    "                        alpha_uda).to(device)\n",
    "        else:\n",
    "            net = MY_SNN_FC_sstep(cfg, synapse_conv_in_channels*temporal_filter, IMAGE_SIZE//initial_pooling, synapse_fc_out_features,\n",
    "                        synapse_fc_trace_const1, synapse_fc_trace_const2, \n",
    "                        lif_layer_v_init, lif_layer_v_decay, \n",
    "                        lif_layer_v_threshold, lif_layer_v_reset,\n",
    "                        lif_layer_sg_width,\n",
    "                        tdBN_on,\n",
    "                        BN_on, TIME,\n",
    "                        surrogate,\n",
    "                        BPTT_on,\n",
    "                        DFA_on,\n",
    "                        OTTT_sWS_on,\n",
    "                        drop_rate,\n",
    "                        UDA_on,\n",
    "                        alpha_uda).to(device)\n",
    "    else:\n",
    "        if (single_step == False):\n",
    "            net = MY_SNN_CONV(cfg, synapse_conv_in_channels, IMAGE_SIZE//initial_pooling,\n",
    "                        synapse_conv_kernel_size, synapse_conv_stride, \n",
    "                        synapse_conv_padding, synapse_conv_trace_const1, \n",
    "                        synapse_conv_trace_const2, \n",
    "                        lif_layer_v_init, lif_layer_v_decay, \n",
    "                        lif_layer_v_threshold, lif_layer_v_reset,\n",
    "                        lif_layer_sg_width,\n",
    "                        synapse_fc_out_features, synapse_fc_trace_const1, synapse_fc_trace_const2,\n",
    "                        tdBN_on,\n",
    "                        BN_on, TIME,\n",
    "                        surrogate,\n",
    "                        BPTT_on,\n",
    "                        OTTT_sWS_on,\n",
    "                        DFA_on,\n",
    "                        drop_rate,\n",
    "                        UDA_on,\n",
    "                        alpha_uda).to(device)\n",
    "        else:\n",
    "            net = MY_SNN_CONV_sstep(cfg, synapse_conv_in_channels, IMAGE_SIZE//initial_pooling,\n",
    "                        synapse_conv_kernel_size, synapse_conv_stride, \n",
    "                        synapse_conv_padding, synapse_conv_trace_const1, \n",
    "                        synapse_conv_trace_const2, \n",
    "                        lif_layer_v_init, lif_layer_v_decay, \n",
    "                        lif_layer_v_threshold, lif_layer_v_reset,\n",
    "                        lif_layer_sg_width,\n",
    "                        synapse_fc_out_features, synapse_fc_trace_const1, synapse_fc_trace_const2,\n",
    "                        tdBN_on,\n",
    "                        BN_on, TIME,\n",
    "                        surrogate,\n",
    "                        BPTT_on,\n",
    "                        OTTT_sWS_on,\n",
    "                        DFA_on,\n",
    "                        drop_rate,\n",
    "                        UDA_on,\n",
    "                        alpha_uda).to(device)\n",
    "    if (nda_net == True):\n",
    "        net = VGG(cfg = cfg, num_classes=10, batch_norm = tdBN_on, in_c = synapse_conv_in_channels, \n",
    "                    lif_layer_v_threshold=lif_layer_v_threshold, lif_layer_v_decay=lif_layer_v_decay, lif_layer_sg_width=lif_layer_sg_width)\n",
    "        net.T = TIME\n",
    "\n",
    "    if ddp_on == False:\n",
    "        net = torch.nn.DataParallel(net) \n",
    "    \n",
    "    if pre_trained == True:\n",
    "        net.load_state_dict(torch.load(pre_trained_path))\n",
    "    \n",
    "    if ddp_on == True:\n",
    "        device = args.gpu\n",
    "        net = net.to(args.gpu)\n",
    "        net = DDP(net, delay_allreduce=True)\n",
    "\n",
    "    net = net.to(device)\n",
    "    if (net_print == True):\n",
    "        if ddp_on == False or torch.distributed.get_rank() == 0:\n",
    "            print(net)    \n",
    "    ####################################################################################################################################\n",
    "    \n",
    "\n",
    "    ## wandb logging ###########################################\n",
    "    if ddp_on == False or torch.distributed.get_rank() == 0:\n",
    "        wandb.watch(net, log=\"all\", log_freq = 10) #gradient, parameter logging해줌\n",
    "    ############################################################\n",
    "\n",
    "    ## param num and memory estimation except BN with MY own calculation some lines above ##########################################\n",
    "    if ddp_on == False or torch.distributed.get_rank() == 0:\n",
    "        real_param_num = sum(p.numel() for p in net.parameters() if p.requires_grad)\n",
    "        if (weight_count_print == True):\n",
    "            for name, param in net.named_parameters():\n",
    "                if param.requires_grad:\n",
    "                    print(f'Layer: {name} | Number of parameters: {param.numel()}')\n",
    "        # Batch norm 있으면 아래 두 개 서로 다를 수 있음.\n",
    "        # assert real_param_num == params_num, f'parameter number is not same. real_param_num: {real_param_num}, params_num: {params_num}'    \n",
    "        print('='*50)\n",
    "        print(f\"My Num of PARAMS: {params_num:,}, system's param_num : {real_param_num:,}\")\n",
    "        memory = params_num / 8 / 1024 / 1024 # MB\n",
    "        precision = 32\n",
    "        memory = memory * precision \n",
    "        print(f\"Memory: {memory:.2f}MiB at {precision}-bit\")\n",
    "        print('='*50)\n",
    "    ##############################################################################################################################\n",
    "\n",
    "\n",
    "\n",
    "    ## criterion ########################################## # loss 구해주는 친구\n",
    "    criterion = nn.CrossEntropyLoss().to(device)\n",
    "    if (OTTT_sWS_on == True):\n",
    "        # criterion = nn.CrossEntropyLoss().to(device)\n",
    "        criterion = lambda y_t, target_t: ((1 - 0.05) * F.cross_entropy(y_t, target_t) + 0.05 * F.mse_loss(y_t, F.one_hot(target_t, CLASS_NUM).float())) / TIME \n",
    "        if which_data == 'DVS_GESTURE':\n",
    "            criterion = lambda y_t, target_t: ((1 - 0.001) * F.cross_entropy(y_t, target_t) + 0.001 * F.mse_loss(y_t, F.one_hot(target_t, CLASS_NUM).float())) / TIME \n",
    "    ####################################################\n",
    "    \n",
    "\n",
    "\n",
    "\n",
    "    ## optimizer, scheduler ########################################################################\n",
    "    if(optimizer_what == 'SGD'):\n",
    "        # optimizer = optim.SGD(net.parameters(), lr=learning_rate, momentum=0.9)\n",
    "        optimizer = optim.SGD(net.parameters(), lr=learning_rate, momentum=0.9, weight_decay=0)\n",
    "    elif(optimizer_what == 'Adam'):\n",
    "        optimizer = torch.optim.Adam(net.parameters(), lr=learning_rate)\n",
    "        # optimizer = torch.optim.Adam(net.parameters(), lr=0.00001)\n",
    "        # optimizer = torch.optim.Adam(net.parameters(), lr=learning_rate/256 * BATCH, weight_decay=1e-4)\n",
    "        # optimizer = optim.Adam(net.parameters(), lr=learning_rate, weight_decay=0, betas=(0.9, 0.999))\n",
    "    elif(optimizer_what == 'RMSprop'):\n",
    "        pass\n",
    "\n",
    "\n",
    "    if (scheduler_name == 'StepLR'):\n",
    "        scheduler = lr_scheduler.StepLR(optimizer, step_size=10, gamma=0.1)\n",
    "    elif (scheduler_name == 'ExponentialLR'):\n",
    "        scheduler = lr_scheduler.ExponentialLR(optimizer, gamma=0.95)\n",
    "    elif (scheduler_name == 'ReduceLROnPlateau'):\n",
    "        scheduler = lr_scheduler.ReduceLROnPlateau(optimizer, mode='min', factor=0.1, patience=10)\n",
    "    elif (scheduler_name == 'CosineAnnealingLR'):\n",
    "        # scheduler = lr_scheduler.CosineAnnealingLR(optimizer, eta_min=0, T_max=50)\n",
    "        scheduler = torch.optim.lr_scheduler.CosineAnnealingLR(optimizer, eta_min=0, T_max=epoch_num)\n",
    "    elif (scheduler_name == 'OneCycleLR'):\n",
    "        scheduler = lr_scheduler.OneCycleLR(optimizer, max_lr=0.1, steps_per_epoch=len(train_loader), epochs=epoch_num)\n",
    "    else:\n",
    "        pass # 'no' scheduler\n",
    "    ## optimizer, scheduler ########################################################################\n",
    "\n",
    "\n",
    "    tr_acc = 0\n",
    "    tr_correct = 0\n",
    "    tr_total = 0\n",
    "    tr_acc_best = 0\n",
    "    tr_epoch_loss_temp = 0\n",
    "    tr_epoch_loss = 0\n",
    "    val_acc_best = 0\n",
    "    val_acc_now = 0\n",
    "    val_loss = 0\n",
    "    elapsed_time_val = 0\n",
    "    no_val_best_growth_count = 0\n",
    "    no_tr_best_growth_count = 0\n",
    "    iter_acc_array = np.array([])\n",
    "    tr_acc_array = np.array([])\n",
    "    val_acc_now_array = np.array([])\n",
    "    DFA_current = DFA_on\n",
    "    DFA_toggle = False\n",
    "    DFA_flag = 1.0 if DFA_current == True else 0.0\n",
    "    DFA_BP_toggle_trial = 0\n",
    "    iter_of_val = False\n",
    "    tr_acc_target = 0\n",
    "    tr_correct_target = 0\n",
    "    tr_total_target = 0\n",
    "    tr_acc_best_target = 0\n",
    "    tr_epoch_loss_temp_target = 0\n",
    "    tr_epoch_loss_target = 0\n",
    "    tr_epoch_loss_temp_domain = 0\n",
    "    tr_epoch_loss_domain = 0\n",
    "    tr_acc_domain = 0\n",
    "    tr_correct_domain = 0\n",
    "    tr_total_domain = 0\n",
    "    #======== EPOCH START ==========================================================================================\n",
    "    for epoch in range(epoch_num):\n",
    "        if (I_wanna_sweep_at_this_epoch == epoch):\n",
    "            net = BP_DFA_SWAP(net, convTrue_fcFalse, single_step, ddp_on, args_gpu)\n",
    "            no_val_best_growth_count = 0\n",
    "            DFA_current = not DFA_current\n",
    "            DFA_toggle = True\n",
    "            DFA_BP_toggle_trial = DFA_BP_toggle_trial + 1\n",
    "        else:\n",
    "            if (e_transport_swap > 0 or e_transport_swap_tr > 0):\n",
    "                assert not (e_transport_swap > 0 and e_transport_swap_tr > 0)\n",
    "                if e_transport_swap > 0 and no_val_best_growth_count == e_transport_swap :\n",
    "                    if DFA_BP_toggle_trial < e_transport_swap_coin:\n",
    "                        net = BP_DFA_SWAP(net, convTrue_fcFalse, single_step, ddp_on, args_gpu)\n",
    "                        no_val_best_growth_count = 0\n",
    "                        DFA_current = not DFA_current\n",
    "                        DFA_toggle = True\n",
    "                        DFA_BP_toggle_trial = DFA_BP_toggle_trial + 1\n",
    "                if e_transport_swap_tr > 0 and no_tr_best_growth_count == e_transport_swap_tr:\n",
    "                    if DFA_BP_toggle_trial < e_transport_swap_coin:\n",
    "                        net = BP_DFA_SWAP(net, convTrue_fcFalse, single_step, ddp_on, args_gpu)\n",
    "                        no_tr_best_growth_count = 0\n",
    "                        DFA_current = not DFA_current\n",
    "                        DFA_toggle = True\n",
    "                        DFA_BP_toggle_trial = DFA_BP_toggle_trial + 1\n",
    "\n",
    "        if ddp_on == False or torch.distributed.get_rank() == 0:\n",
    "            # print('EPOCH', epoch)\n",
    "            pass\n",
    "        epoch_start_time = time.time()\n",
    "\n",
    "        # if (domain_il_epoch>0 and which_data == 'PMNIST'):\n",
    "        #     k = epoch // domain_il_epoch\n",
    "        #     xtrain=data[k]['train']['x']\n",
    "        #     ytrain=data[k]['train']['y']\n",
    "        #     xtest =data[k]['test']['x']\n",
    "        #     ytest =data[k]['test']['y']\n",
    "\n",
    "        ####### iterator : input_loading & tqdm을 통한 progress_bar 생성###################\n",
    "        iterator = enumerate(train_loader, 0)\n",
    "        if (UDA_on == True):\n",
    "            iterator_target = enumerate(train_loader_target, 0)\n",
    "\n",
    "        if ddp_on == False or torch.distributed.get_rank() == 0:  \n",
    "            iterator = tqdm(iterator, total=len(train_loader), desc='train', dynamic_ncols=True, position=0, leave=True)\n",
    "        ##################################################################################   \n",
    "        \n",
    "        #### validation_interval이 batch size보다 작을 시 validation_interval을 batch size로 맞춰줌#############\n",
    "        validation_interval2 = validation_interval\n",
    "        if (validation_interval > len(train_loader)):\n",
    "            validation_interval2 = len(train_loader)\n",
    "        ##################################################################################################\n",
    "\n",
    "\n",
    "        ###### ITERATION START ##########################################################################################################\n",
    "        for i, data in iterator:\n",
    "            if UDA_on == True:\n",
    "                if i % (src_trg_ratio+1) == 1: # target unlabeled fine tuning iteration\n",
    "                    data = next(iterator_target)[1]\n",
    "                    net.UDA_classifier_on = False\n",
    "                else:\n",
    "                    net.UDA_classifier_on = True\n",
    "            iter_one_train_time_start = time.time()\n",
    "            net.train() # train 모드로 바꿔줘야함\n",
    "\n",
    "            ### data loading & semi-pre-processing ################################################################################\n",
    "            if len(data) == 2:\n",
    "                inputs, labels = data\n",
    "                # 처리 로직 작성\n",
    "            elif len(data) == 3:\n",
    "                inputs, labels, x_len = data\n",
    "                # print('x_len',x_len)\n",
    "                # mask = padded_sequence_mask(x_len)\n",
    "                # max_time_step = x_len.max()\n",
    "                # min_time_step = x_len.min()\n",
    "            else:\n",
    "                assert False, 'data length is not 2 or 3'\n",
    "            #######################################################################################################################\n",
    "                \n",
    "            ## batch 크기 ######################################\n",
    "            real_batch = labels.size(0)\n",
    "            ###########################################################\n",
    "\n",
    "            # 차원 전처리\n",
    "            ###########################################################################################################################        \n",
    "            if (which_data == 'n_tidigits'):\n",
    "                inputs = inputs.permute(0, 1, 3, 2, 4)\n",
    "                labels = labels[:, 0, :]\n",
    "                labels = torch.argmax(labels, dim=1)\n",
    "            elif (which_data == 'heidelberg'):\n",
    "                inputs = inputs.view(5, 1000, 1, 700, 1)\n",
    "                print(\"\\n\\n\\n경고!!!! heidelberg 이거 타임스텝이랑 채널 잘 바꿔줘라!!!\\n\\n\\n\\n\")\n",
    "            # print('inputs',inputs.size(),'\\nlabels',labels.size())\n",
    "            # print(labels)\n",
    "                \n",
    "            if (which_data == 'DVS_CIFAR10' or which_data == 'DVS_GESTURE' or which_data == 'DVS_GESTURE_TONIC' or which_data == 'DVS_CIFAR10_2' or which_data == 'NMNIST' or which_data == 'NMNIST_TONIC' or which_data == 'N_CALTECH101' or which_data == 'n_tidigits' or which_data == 'heidelberg'):\n",
    "                inputs = inputs.permute(1, 0, 2, 3, 4)\n",
    "            elif rate_coding == True :\n",
    "                inputs = spikegen.rate(inputs, num_steps=TIME)\n",
    "            else :\n",
    "                inputs = inputs.repeat(TIME, 1, 1, 1, 1)\n",
    "            # inputs: [Time, Batch, Channel, Height, Width]  \n",
    "                \n",
    "            ## initial pooling #######################################################################\n",
    "            if (initial_pooling > 1):\n",
    "                pool = nn.MaxPool2d(kernel_size=2)\n",
    "                num_pooling_layers = int(math.log2(initial_pooling))\n",
    "                # Time, Batch, Channel 차원은 그대로 두고, Height, Width 차원에 대해서만 pooling 적용\n",
    "                shape_temp = inputs.shape\n",
    "                inputs = inputs.reshape(shape_temp[0]*shape_temp[1], shape_temp[2], shape_temp[3], shape_temp[4])\n",
    "                for _ in range(num_pooling_layers):\n",
    "                    inputs = pool(inputs)\n",
    "                inputs = inputs.reshape(shape_temp[0], shape_temp[1], shape_temp[2], shape_temp[3]//initial_pooling, shape_temp[4]//initial_pooling)\n",
    "            ## initial pooling #######################################################################\n",
    "            ## temporal filtering ####################################################################\n",
    "            shape_temp = inputs.shape\n",
    "            if (temporal_filter > 1):\n",
    "                slice_bucket = []\n",
    "                for t_temp in range(TIME):\n",
    "                    start = t_temp * temporal_filter\n",
    "                    end = start + temporal_filter\n",
    "                    slice_concat = torch.movedim(inputs[start:end], 0, 1).reshape(shape_temp[1],shape_temp[2],shape_temp[3],-1)\n",
    "                    slice_bucket.append(slice_concat)\n",
    "                inputs = torch.stack(slice_bucket, dim=0)\n",
    "            ## temporal filtering ####################################################################\n",
    "            ####################################################################################################################### \n",
    "                \n",
    "            \n",
    "            # # dvs 데이터 시각화 코드 (확인 필요할 시 써라)\n",
    "            # ##############################################################################################\n",
    "            # dvs_visualization(inputs, labels, TIME, BATCH, my_seed)\n",
    "            # #####################################################################################################\n",
    "\n",
    "            ## to (device) #######################################\n",
    "            inputs = inputs.to(device)\n",
    "            labels = labels.to(device)\n",
    "            ###########################################################\n",
    "\n",
    "\n",
    "            ## gradient 초기화 #######################################\n",
    "            optimizer.zero_grad()\n",
    "            ###########################################################\n",
    "            \n",
    "            ## DVS gesture에서 other label자리 매꾸기 ###############\n",
    "            if (which_data == 'DVS_GESTURE'):\n",
    "                labels[labels>2] -= 1\n",
    "            #######################################################         \n",
    "                               \n",
    "            if merge_polarities == True:\n",
    "                inputs = inputs[:,:,0,:,:]\n",
    "\n",
    "            if single_step == False:\n",
    "                # net에 넣어줄때는 batch가 젤 앞 차원으로 와야함. # dataparallel때매##############################\n",
    "                # inputs: [Time, Batch, Channel, Height, Width]   \n",
    "                inputs = inputs.permute(1, 0, 2, 3, 4) # net에 넣어줄때는 batch가 젤 앞 차원으로 와야함. # dataparallel때매\n",
    "                # inputs: [Batch, Time, Channel, Height, Width] \n",
    "                #################################################################################################\n",
    "            else:\n",
    "                labels = labels.repeat(TIME, 1)\n",
    "                ## first input도 ottt trace 적용하기 위한 코드 (validation 시에는 필요X) ##########################\n",
    "                if OTTT_input_trace_on == True:\n",
    "                    spike = inputs\n",
    "                    trace = torch.full_like(spike, fill_value = 0.0, dtype = torch.float, requires_grad=False)\n",
    "                    inputs = []\n",
    "                    for t in range(TIME):\n",
    "                        trace[t] = trace[t-1]*synapse_conv_trace_const2 + spike[t]*synapse_conv_trace_const1\n",
    "                        inputs += [[spike[t], trace[t]]]\n",
    "                ##################################################################################################\n",
    "\n",
    "\n",
    "            if single_step == False:\n",
    "                ### input --> net --> output #####################################################\n",
    "                outputs = net(inputs)\n",
    "                ##################################################################################\n",
    "                ## loss, backward ##########################################\n",
    "                iter_loss = criterion(outputs, labels)\n",
    "                iter_loss.backward()\n",
    "                ############################################################\n",
    "                ## weight 업데이트!! ##################################\n",
    "                optimizer.step()\n",
    "                ################################################################\n",
    "            else:\n",
    "                if UDA_on == False:\n",
    "                    outputs_all = []\n",
    "                    iter_loss = 0.0\n",
    "                    for t in range(TIME):\n",
    "                        ### input[t] --> net --> output_one_time #########################################\n",
    "                        outputs_one_time = net(inputs[t])\n",
    "                        ##################################################################################\n",
    "                        one_time_loss = criterion(outputs_one_time, labels[t].contiguous())\n",
    "                        one_time_loss.backward() # one_time backward\n",
    "                        iter_loss += one_time_loss.data\n",
    "                        outputs_all.append(outputs_one_time.detach())\n",
    "                    optimizer.step() # full step time update\n",
    "                    outputs_all = torch.stack(outputs_all, dim=1)\n",
    "                    outputs = outputs_all.mean(1) # ottt꺼 쓸때\n",
    "                    labels = labels[0]\n",
    "                    iter_loss /= TIME\n",
    "                else:\n",
    "                    ## 근데 생각해보니까 걍 target에서 classifier만 backward 안 해주면 되는 거 아니냐\n",
    "\n",
    "                    iter_loss_domain = 0.0\n",
    "                    outputs_all = []\n",
    "                    outputs_all_domain = []\n",
    "                    iter_loss = 0.0\n",
    "\n",
    "                    if net.UDA_classifier_on == True:\n",
    "                        domain_labels = torch.full((TIME, real_batch), 1).to(device)\n",
    "                    else:\n",
    "                        domain_labels = torch.full((TIME, real_batch), 0).to(device)\n",
    "                        \n",
    "                    for t in range(TIME):\n",
    "                        ### input[t] --> net --> output_one_time #########################################\n",
    "                        outputs_one_time, UDA_adpater_out = net(inputs[t])\n",
    "                        one_time_loss_classifier = criterion(outputs_one_time, labels[t].contiguous())\n",
    "                        one_time_loss_domain = criterion(UDA_adpater_out, domain_labels[t].contiguous())\n",
    "                        one_time_loss_backward = one_time_loss_domain * adapter_loss_weight\n",
    "                        if net.UDA_classifier_on == True:\n",
    "                            one_time_loss_backward += one_time_loss_classifier\n",
    "                        one_time_loss_backward.backward() # one_time backward\n",
    "                        iter_loss += one_time_loss_classifier.data\n",
    "                        iter_loss_domain += one_time_loss_domain.data\n",
    "                        outputs_all.append(outputs_one_time.detach())\n",
    "                        outputs_all_domain.append(UDA_adpater_out.detach())\n",
    "                        ##################################################################################\n",
    "                    optimizer.step() # full step time update\n",
    "                    outputs_all = torch.stack(outputs_all, dim=1)\n",
    "                    outputs = outputs_all.mean(1) # ottt꺼 쓸때\n",
    "                    labels = labels[0]\n",
    "                    outputs_all_domain = torch.stack(outputs_all_domain, dim=1)\n",
    "                    outputs_domain = outputs_all_domain.mean(1) # ottt꺼 쓸때\n",
    "                    domain_labels = domain_labels[0]\n",
    "                    iter_loss /= TIME\n",
    "                    iter_loss_domain /= TIME\n",
    "\n",
    "            if UDA_on == False:\n",
    "                tr_epoch_loss_temp += iter_loss.data/len(train_loader)\n",
    "            else: \n",
    "                if (net.UDA_classifier_on == True):\n",
    "                    tr_epoch_loss_temp += iter_loss.data/(len(train_loader)*src_trg_ratio/(src_trg_ratio+1))\n",
    "                else:\n",
    "                    tr_epoch_loss_temp_target += iter_loss.data/(len(train_loader)*1/(src_trg_ratio+1))\n",
    "                tr_epoch_loss_temp_domain += iter_loss.data/len(train_loader)\n",
    "\n",
    "            ## net 그림 출력해보기 #################################################################\n",
    "            # print('시각화')\n",
    "            # make_dot(outputs, params=dict(list(net.named_parameters()))).render(\"net_torchviz\", format=\"png\")\n",
    "            # return 0\n",
    "            ##################################################################################\n",
    "\n",
    "            #### batch 어긋남 방지 ###############################################\n",
    "            assert real_batch == outputs.size(0), f'batch size is not same. real_batch: {real_batch}, outputs.size(0): {outputs.size(0)}'\n",
    "            #######################################################################\n",
    "            \n",
    "\n",
    "            if UDA_on == False:\n",
    "                ####### training accruacy save for print ###############################\n",
    "                _, predicted = torch.max(outputs.data, 1)\n",
    "                total = real_batch\n",
    "                correct = (predicted == labels).sum().item()\n",
    "                iter_acc = correct / total\n",
    "                tr_total += total\n",
    "                tr_correct += correct\n",
    "                if i % verbose_interval == verbose_interval-1:\n",
    "                    if ddp_on == False or torch.distributed.get_rank() == 0:\n",
    "                        print(f'{epoch}-{i} training acc: {100 * iter_acc:.2f}%, lr={[f\"{lr}\" for lr in (param_group[\"lr\"] for param_group in optimizer.param_groups)]}, val_acc: {100 * val_acc_now:.2f}%')\n",
    "                iter_acc_string = f'epoch-{epoch:<3} iter_acc:{100 * iter_acc:7.2f}%, lr={[f\"{lr:9.7f}\" for lr in (param_group[\"lr\"] for param_group in optimizer.param_groups)]}'\n",
    "                iter_acc_string2 = f'epoch-{epoch:<3} lr={[f\"{lr:9.7f}\" for lr in (param_group[\"lr\"] for param_group in optimizer.param_groups)]}'\n",
    "                ################################################################\n",
    "            else:\n",
    "                ####### training accruacy save for print ###############################\n",
    "                _, predicted = torch.max(outputs.data, 1)\n",
    "                _, predicted_domain = torch.max(outputs_domain.data, 1)\n",
    "                total = real_batch\n",
    "                correct = (predicted == labels).sum().item()\n",
    "                correct_domain = (predicted_domain == domain_labels).sum().item()\n",
    "                iter_acc = correct / total\n",
    "                iter_acc_domain = correct_domain / total\n",
    "                if (net.UDA_classifier_on == True):\n",
    "                    tr_total += total\n",
    "                    tr_correct += correct\n",
    "                else:\n",
    "                    tr_total_target += total\n",
    "                    tr_correct_target += correct\n",
    "                tr_correct_domain += correct_domain\n",
    "                tr_total_domain += total\n",
    "\n",
    "                if i % verbose_interval == verbose_interval-1:\n",
    "                    if ddp_on == False or torch.distributed.get_rank() == 0:\n",
    "                        print(f'{epoch}-{i} training acc: {100 * iter_acc:.2f}%, lr={[f\"{lr}\" for lr in (param_group[\"lr\"] for param_group in optimizer.param_groups)]}, val_acc: {100 * val_acc_now:.2f}%')\n",
    "                iter_acc_string = f'epoch-{epoch:<3} iter_acc:{100 * iter_acc:7.2f}%, lr={[f\"{lr:9.7f}\" for lr in (param_group[\"lr\"] for param_group in optimizer.param_groups)]}'\n",
    "                iter_acc_string2 = f'epoch-{epoch:<3} lr={[f\"{lr:9.7f}\" for lr in (param_group[\"lr\"] for param_group in optimizer.param_groups)]}'\n",
    "                ################################################################\n",
    "\n",
    "            \n",
    "\n",
    "\n",
    "\n",
    "\n",
    "            iter_one_train_time_end = time.time()\n",
    "            elapsed_time = iter_one_train_time_end - iter_one_train_time_start  # 실행 시간 계산\n",
    "\n",
    "            if (i % verbose_interval == verbose_interval-1):\n",
    "                if ddp_on == False or torch.distributed.get_rank() == 0:\n",
    "                    print(f\"iter_one_train_time: {elapsed_time} seconds, last one_val_time: {elapsed_time_val} seconds\\n\")\n",
    "            \n",
    "            ##### validation ##################################################################################################################################\n",
    "            if i % validation_interval2 == validation_interval2-1:\n",
    "                iter_one_val_time_start = time.time()\n",
    "                tr_acc = tr_correct/tr_total\n",
    "                tr_correct = 0\n",
    "                tr_total = 0\n",
    "                if UDA_on == True:\n",
    "                    tr_acc_target = tr_correct_target/tr_total_target\n",
    "                    tr_correct_target = 0\n",
    "                    tr_total_target = 0\n",
    "                    tr_acc_domain = tr_correct_domain/tr_total_domain\n",
    "                    tr_correct_domain = 0\n",
    "                    tr_total_domain = 0\n",
    "\n",
    "                domain_index = 0\n",
    "                val_loss_set = []\n",
    "                val_acc_now_set = []\n",
    "                while True:\n",
    "                    val_loss = 0\n",
    "                    correct_val = 0\n",
    "                    total_val = 0\n",
    "                    test_loader = test_loader_domain_set[domain_index]\n",
    "                    domain_index = domain_index + 1\n",
    "\n",
    "                    with torch.no_grad():\n",
    "                        net.eval() # eval 모드로 바꿔줘야함 \n",
    "                        for data_val in test_loader:\n",
    "                            ## data_val loading & semi-pre-processing ##########################################################\n",
    "                            if len(data_val) == 2:\n",
    "                                inputs_val, labels_val = data_val\n",
    "                                # 처리 로직 작성\n",
    "                            elif len(data_val) == 3:\n",
    "                                inputs_val, labels_val, x_len = data_val\n",
    "                                # print('x_len',x_len)\n",
    "                                # mask = padded_sequence_mask(x_len)\n",
    "                                # max_time_step = x_len.max()\n",
    "                                # min_time_step = x_len.min()\n",
    "                                # B, T, *spatial_dims = inputs_val.shape\n",
    "                            else:\n",
    "                                assert False, 'data_val length is not 2 or 3'\n",
    "\n",
    "                            if (which_data == 'DVS_CIFAR10' or which_data == 'DVS_GESTURE' or which_data == 'DVS_GESTURE_TONIC' or which_data == 'DVS_CIFAR10_2' or which_data == 'NMNIST' or which_data == 'NMNIST_TONIC' or which_data == 'N_CALTECH101' or which_data == 'n_tidigits' or which_data == 'heidelberg'):\n",
    "                                inputs_val = inputs_val.permute(1, 0, 2, 3, 4)\n",
    "                            elif rate_coding == True :\n",
    "                                inputs_val = spikegen.rate(inputs_val, num_steps=TIME)\n",
    "                            else :\n",
    "                                inputs_val = inputs_val.repeat(TIME, 1, 1, 1, 1)\n",
    "                            # inputs_val: [Time, Batch, Channel, Height, Width]  \n",
    "                            ###################################################################################################\n",
    "                            \n",
    "                            ## initial pooling #######################################################################\n",
    "                            if (initial_pooling > 1):\n",
    "                                pool = nn.MaxPool2d(kernel_size=2)\n",
    "                                num_pooling_layers = int(math.log2(initial_pooling))\n",
    "                                # Time, Batch, Channel 차원은 그대로 두고, Height, Width 차원에 대해서만 pooling 적용\n",
    "                                shape_temp = inputs_val.shape\n",
    "                                inputs_val = inputs_val.reshape(shape_temp[0]*shape_temp[1], shape_temp[2], shape_temp[3], shape_temp[4])\n",
    "                                for _ in range(num_pooling_layers):\n",
    "                                    inputs_val = pool(inputs_val)\n",
    "                                inputs_val = inputs_val.reshape(shape_temp[0], shape_temp[1], shape_temp[2], shape_temp[3]//initial_pooling, shape_temp[4]//initial_pooling)\n",
    "                            ## initial pooling #######################################################################\n",
    "\n",
    "                            ## temporal filtering ####################################################################\n",
    "                            shape_temp = inputs_val.shape\n",
    "                            if (temporal_filter > 1):\n",
    "                                slice_bucket = []\n",
    "                                for t_temp in range(TIME):\n",
    "                                    start = t_temp * temporal_filter\n",
    "                                    end = start + temporal_filter\n",
    "                                    slice_concat = torch.movedim(inputs_val[start:end], 0, 1).reshape(shape_temp[1],shape_temp[2],shape_temp[3],-1)\n",
    "                                    slice_bucket.append(slice_concat)\n",
    "                                inputs_val = torch.stack(slice_bucket, dim=0)\n",
    "                            ## temporal filtering ####################################################################\n",
    "                            \n",
    "                            inputs_val = inputs_val.to(device)\n",
    "                            labels_val = labels_val.to(device)\n",
    "                            real_batch = labels_val.size(0)\n",
    "                            \n",
    "                            ## DVS gesture에서 other label자리 매꾸기 ###############\n",
    "                            if (which_data == 'DVS_GESTURE'):\n",
    "                                labels_val[labels_val>2] -= 1\n",
    "                            #######################################################\n",
    "                            \n",
    "                            if merge_polarities == True:\n",
    "                                inputs_val = inputs_val[:,:,0,:,:]\n",
    "\n",
    "                            ## network 연산 시작 ############################################################################################################\n",
    "                            if single_step == False:\n",
    "                                outputs = net(inputs_val.permute(1, 0, 2, 3, 4)) #inputs_val: [Batch, Time, Channel, Height, Width]  \n",
    "                                val_loss_val += criterion(outputs, labels_val)/len(test_loader)\n",
    "                            else:\n",
    "                                outputs_all = []\n",
    "                                if UDA_on == True:\n",
    "                                    net.UDA_classifier_on = True\n",
    "                                for t in range(TIME):\n",
    "                                    outputs = net(inputs_val[t])\n",
    "                                    if UDA_on == True:\n",
    "                                        outputs = outputs[0] # classifier의 output만 사용.\n",
    "                                    val_loss_temp = criterion(outputs, labels_val)\n",
    "                                    outputs_all.append(outputs.detach())\n",
    "                                    val_loss += (val_loss_temp.data/TIME)/len(test_loader)\n",
    "                                outputs_all = torch.stack(outputs_all, dim=1)\n",
    "                                outputs = outputs_all.mean(1)\n",
    "                            val_loss_set.append(val_loss)\n",
    "                            #################################################################################################################################\n",
    "\n",
    "                            _, predicted = torch.max(outputs.data, 1)\n",
    "                            total_val += real_batch\n",
    "                            assert real_batch == outputs.size(0), f'batch size is not same. real_batch: {real_batch}, outputs.size(0): {outputs.size(0)}'\n",
    "                            correct_val += (predicted == labels_val).sum().item()\n",
    "\n",
    "                        val_acc_now = correct_val / total_val\n",
    "                        # print(f'{epoch}-{i} validation acc: {100 * val_acc_now:.2f}%, lr={[f\"{lr:.10f}\" for lr in (param_group[\"lr\"] for param_group in optimizer.param_groups)]}')\n",
    "                        val_acc_now_set.append(val_acc_now)\n",
    "\n",
    "                    if domain_index == len(dvs_duration_domain) + 1:\n",
    "                        break\n",
    "\n",
    "                val_loss = val_loss_set[0]\n",
    "                val_acc_now = val_acc_now_set[0]\n",
    "\n",
    "                iter_one_val_time_end = time.time()\n",
    "                elapsed_time_val = iter_one_val_time_end - iter_one_val_time_start  # 실행 시간 계산\n",
    "                # print(f\"iter_one_val_time: {elapsed_time_val} seconds\")\n",
    "\n",
    "                # network save\n",
    "                if val_acc_best < val_acc_now:\n",
    "                    val_acc_best = val_acc_now\n",
    "                    if ddp_on == False or torch.distributed.get_rank() == 0:\n",
    "                        # wandb 키면 state_dict아닌거는 저장 안됨\n",
    "                        torch.save(net.state_dict(), f\"net_save/save_now_net_weights_{unique_name}.pth\")\n",
    "                        # torch.save(net, f\"net_save/save_now_net_{unique_name}.pth\")\n",
    "                        # torch.save(net.module.state_dict(), f\"net_save/save_now_net_weights2_{unique_name}.pth\")\n",
    "                        # torch.save(net.module, f\"net_save/save_now_net2_{unique_name}.pth\")\n",
    "                    no_val_best_growth_count = 0\n",
    "                else:\n",
    "                    no_val_best_growth_count = no_val_best_growth_count + 1\n",
    "\n",
    "                if tr_acc_best < tr_acc:\n",
    "                    tr_acc_best = tr_acc\n",
    "                    no_tr_best_growth_count = 0\n",
    "                else:\n",
    "                    no_tr_best_growth_count = no_tr_best_growth_count + 1\n",
    "\n",
    "                tr_epoch_loss = tr_epoch_loss_temp\n",
    "                tr_epoch_loss_temp = 0\n",
    "                tr_epoch_loss_target = tr_epoch_loss_temp_target \n",
    "                tr_epoch_loss_temp_target = 0\n",
    "                tr_epoch_loss_domain = tr_epoch_loss_temp_domain\n",
    "                tr_epoch_loss_temp_domain = 0\n",
    "                if (UDA_on == True):\n",
    "                    print(f\"Domain loss,acc: {tr_epoch_loss_domain:.6f}, {100 * tr_acc_domain:.2f}% Target domain: tr_loss-{tr_epoch_loss_target:.6f}, tr_acc-{100 * tr_acc_target:.2f}%\")\n",
    "\n",
    "                if DFA_toggle == True:\n",
    "                    DFA_flag = 1.0 - DFA_flag\n",
    "                    DFA_toggle = False\n",
    "\n",
    "                iter_of_val = True\n",
    "            ####################################################################################################################################################\n",
    "            \n",
    "            ## progress bar update ############################################################################################################\n",
    "            if ddp_on == False or torch.distributed.get_rank() == 0:\n",
    "                if iter_of_val == False:\n",
    "                    iterator.set_description(f\"{iter_acc_string}, iter_loss:{iter_loss:10.6f}, val_best:{100 * val_acc_best:7.2f}%\")  \n",
    "                else:\n",
    "                    iterator.set_description(f\"{iter_acc_string2}, tr/val_loss:{tr_epoch_loss:10.6f}/{val_loss:10.6f}, tr:{100 * tr_acc:7.2f}%, val:{100 * val_acc_now:7.2f}%, val_best:{100 * val_acc_best:7.2f}%\")  \n",
    "\n",
    "                    if len(dvs_duration_domain) > 0:\n",
    "                        dvs_duration_full = [(dvs_duration, dvs_clipping, denoise_on, TIME)] + dvs_duration_domain\n",
    "                        print(\" | \".join(f\"{dvs_duration_full[d_count][0]:,}c{dvs_duration_full[d_count][1]}d{dvs_duration_full[d_count][2]}t{dvs_duration_full[d_count][3]}:{val_acc_now_set[d_count]*100:.2f}%\" for d_count in range(len(val_acc_now_set))))\n",
    "                    iter_of_val = False\n",
    "            \n",
    "            ####################################################################################################################################\n",
    "            \n",
    "            ## wandb logging ############################################################################################################\n",
    "            if ddp_on == False or torch.distributed.get_rank() == 0:\n",
    "                wandb.log({\"iter_acc\": iter_acc})\n",
    "                wandb.log({\"tr_acc\": tr_acc})\n",
    "                wandb.log({\"val_acc_now\": val_acc_now})\n",
    "                wandb.log({\"val_acc_best\": val_acc_best})\n",
    "                wandb.log({\"summary_val_acc\": val_acc_now})\n",
    "                wandb.log({\"epoch\": epoch})\n",
    "                wandb.log({\"DFA_flag\": DFA_flag}) # DFA mode 바뀌자 마자 바뀌는 게 아니고 validation 한번 했을 때 바뀜.\n",
    "                wandb.log({\"val_loss\": val_loss}) \n",
    "                wandb.log({\"tr_epoch_loss\": tr_epoch_loss}) \n",
    "            ####################################################################################################################################\n",
    "            \n",
    "            \n",
    "            ## accuray 로컬에 저장 하기 위한 코드 #####################################################################################\n",
    "            iter_acc_array = np.append(iter_acc_array, iter_acc)\n",
    "            tr_acc_array = np.append(tr_acc_array, tr_acc)\n",
    "            val_acc_now_array = np.append(val_acc_now_array, val_acc_now)\n",
    "            base_name = f'{current_time}'\n",
    "            ####################################################################################################################\n",
    "            \n",
    "            iter_acc_file_name_time = f'result_save/{base_name}_iter_acc_array_{unique_name}.npy'\n",
    "            tr_acc_file_name_time = f'result_save/{base_name}_tr_acc_array_{unique_name}.npy'\n",
    "            val_acc_file_name_time = f'result_save/{base_name}_val_acc_now_array_{unique_name}.npy'\n",
    "            hyperparameters_file_name_time = f'result_save/{base_name}_hyperparameters_{unique_name}.json'\n",
    "\n",
    "            hyperparameters['current epoch'] = epoch\n",
    "\n",
    "            ### accuracy 세이브: 덮어쓰기 하기 싫으면 주석 풀어서 사용 (시간마다 새로 쓰기) 비추천 ########################\n",
    "            # if ddp_on == False or torch.distributed.get_rank() == 0:\n",
    "            #     np.save(iter_acc_file_name_time, iter_acc_array)\n",
    "\n",
    "\n",
    "            #     np.save(tr_acc_file_name_time, iter_acc_array)\n",
    "            #     np.save(val_acc_file_name_time, val_acc_now_array)\n",
    "            #     with open(hyperparameters_file_name_time, 'w') as f:\n",
    "            #         json.dump(hyperparameters, f, indent=4)\n",
    "            #########################################################################################################\n",
    "\n",
    "            ## accuracy 세이브 ###########################################################################################\n",
    "            if ddp_on == False or torch.distributed.get_rank() == 0:\n",
    "                np.save(f'result_save/iter_acc_array_{unique_name}.npy', iter_acc_array)\n",
    "                np.save(f'result_save/tr_acc_array_{unique_name}.npy', tr_acc_array)\n",
    "                np.save(f'result_save/val_acc_now_array_{unique_name}.npy', val_acc_now_array)\n",
    "                with open(f'result_save/hyperparameters_{unique_name}.json', 'w') as f:\n",
    "                    json.dump(hyperparameters, f, indent=4)\n",
    "            ##########################################################################################################\n",
    "        ###### ITERATION END ##########################################################################################################\n",
    "                \n",
    "\n",
    "        ## scheduler update #############################################################################\n",
    "        if (scheduler_name != 'no'):\n",
    "            if (scheduler_name == 'ReduceLROnPlateau'):\n",
    "                scheduler.step(val_loss)\n",
    "            else:\n",
    "                scheduler.step()\n",
    "        #################################################################################################\n",
    "        \n",
    "        # 실행 시간 계산\n",
    "        epoch_time_end = time.time()\n",
    "        # print(f\"epoch_time: {epoch_time_end - epoch_start_time} seconds\\n\") \n",
    "    #======== EPOCH END ==========================================================================================\n"
   ]
  },
  {
   "cell_type": "code",
   "execution_count": null,
   "metadata": {},
   "outputs": [
    {
     "name": "stderr",
     "output_type": "stream",
     "text": [
      "Failed to detect the name of this notebook, you can set it manually with the WANDB_NOTEBOOK_NAME environment variable to enable code saving.\n",
      "\u001b[34m\u001b[1mwandb\u001b[0m: Currently logged in as: \u001b[33mbhkim003\u001b[0m (\u001b[33mbhkim003-seoul-national-university\u001b[0m). Use \u001b[1m`wandb login --relogin`\u001b[0m to force relogin\n"
     ]
    },
    {
     "data": {
      "text/html": [
       "wandb version 0.18.3 is available!  To upgrade, please run:\n",
       " $ pip install wandb --upgrade"
      ],
      "text/plain": [
       "<IPython.core.display.HTML object>"
      ]
     },
     "metadata": {},
     "output_type": "display_data"
    },
    {
     "data": {
      "text/html": [
       "Tracking run with wandb version 0.17.5"
      ],
      "text/plain": [
       "<IPython.core.display.HTML object>"
      ]
     },
     "metadata": {},
     "output_type": "display_data"
    },
    {
     "data": {
      "text/html": [
       "Run data is saved locally in <code>/nfs/home/bhkim003/github_folder/ByeonghyeonKim/my_snn/wandb/run-20241012_005538-emn75kdm</code>"
      ],
      "text/plain": [
       "<IPython.core.display.HTML object>"
      ]
     },
     "metadata": {},
     "output_type": "display_data"
    },
    {
     "data": {
      "text/html": [
       "Syncing run <strong><a href='https://wandb.ai/bhkim003-seoul-national-university/my_snn%20main/runs/emn75kdm' target=\"_blank\">honest-flower-6179</a></strong> to <a href='https://wandb.ai/bhkim003-seoul-national-university/my_snn%20main' target=\"_blank\">Weights & Biases</a> (<a href='https://wandb.me/run' target=\"_blank\">docs</a>)<br/>"
      ],
      "text/plain": [
       "<IPython.core.display.HTML object>"
      ]
     },
     "metadata": {},
     "output_type": "display_data"
    },
    {
     "data": {
      "text/html": [
       " View project at <a href='https://wandb.ai/bhkim003-seoul-national-university/my_snn%20main' target=\"_blank\">https://wandb.ai/bhkim003-seoul-national-university/my_snn%20main</a>"
      ],
      "text/plain": [
       "<IPython.core.display.HTML object>"
      ]
     },
     "metadata": {},
     "output_type": "display_data"
    },
    {
     "data": {
      "text/html": [
       " View run at <a href='https://wandb.ai/bhkim003-seoul-national-university/my_snn%20main/runs/emn75kdm' target=\"_blank\">https://wandb.ai/bhkim003-seoul-national-university/my_snn%20main/runs/emn75kdm</a>"
      ],
      "text/plain": [
       "<IPython.core.display.HTML object>"
      ]
     },
     "metadata": {},
     "output_type": "display_data"
    },
    {
     "name": "stdout",
     "output_type": "stream",
     "text": [
      "dataset_hash = 19e3c0c6fea6cf048ee3898052ffd789\n",
      "cache path exists\n",
      "\n",
      "we will exclude the 'other' class. dvsgesture 10 classes' indices exist. \n",
      "\n",
      "Target domain에 대한 validation set이 이 target domain의 test set이다.\n",
      "dataset_hash = ae68f259f100b6cda93ea9e781befe73\n",
      "cache path exists\n",
      "\n",
      "we will exclude the 'other' class. dvsgesture 10 classes' indices exist. \n",
      "\n",
      "dataset_hash = ae68f259f100b6cda93ea9e781befe73\n",
      "cache path exists\n",
      "\n",
      "we will exclude the 'other' class. dvsgesture 10 classes' indices exist. \n",
      "\n",
      "In UDA mode, No parameter number calculation yet.\n",
      "\n",
      "device ==> cuda\n",
      "\n",
      "DataParallel(\n",
      "  (module): MY_SNN_FC_sstep(\n",
      "    (UDA_feature_layers): MY_Sequential(\n",
      "      (0): DimChanger_for_FC_sstep()\n",
      "      (1): SYNAPSE_FC_trace_sstep()\n",
      "      (2): LIF_layer_trace_sstep()\n",
      "    )\n",
      "    (UDA_classifier_layers): MY_Sequential(\n",
      "      (0): SYNAPSE_FC_trace_sstep()\n",
      "      (1): LIF_layer_trace_sstep()\n",
      "      (2): SYNAPSE_FC_trace_sstep()\n",
      "    )\n",
      "    (UDA_adapter_layers): MY_Sequential(\n",
      "      (0): Gradient_Reversal_Layer()\n",
      "      (1): SYNAPSE_FC_trace_sstep()\n",
      "      (2): LIF_layer_trace_sstep()\n",
      "      (3): SYNAPSE_FC_trace_sstep()\n",
      "    )\n",
      "  )\n",
      ")\n",
      "==================================================\n",
      "My Num of PARAMS: 0, system's param_num : 595,012\n",
      "Memory: 0.00MiB at 32-bit\n",
      "==================================================\n"
     ]
    },
    {
     "name": "stderr",
     "output_type": "stream",
     "text": [
      "epoch-0   lr=['0.0001000'], tr/val_loss:  2.281130/  2.295705, tr:  10.98%, val:  12.50%, val_best:  12.50%: 100%|██████████| 62/62 [00:26<00:00,  2.38it/s]"
     ]
    },
    {
     "name": "stdout",
     "output_type": "stream",
     "text": [
      "Domain loss,acc: 2.300179, 37.70% Target domain: tr_loss-2.338278, tr_acc-9.82%\n",
      "25,000c2dTruet10:12.50% | 25,000c3dFalset10:9.58%\n"
     ]
    },
    {
     "name": "stderr",
     "output_type": "stream",
     "text": [
      "\n",
      "epoch-1   lr=['0.0001000'], tr/val_loss:  2.248231/  2.255863, tr:  13.11%, val:  13.75%, val_best:  13.75%: 100%|██████████| 62/62 [00:24<00:00,  2.51it/s]"
     ]
    },
    {
     "name": "stdout",
     "output_type": "stream",
     "text": [
      "Domain loss,acc: 2.267527, 42.84% Target domain: tr_loss-2.306119, tr_acc-12.20%\n",
      "25,000c2dTruet10:13.75% | 25,000c3dFalset10:13.75%\n"
     ]
    },
    {
     "name": "stderr",
     "output_type": "stream",
     "text": [
      "\n",
      "epoch-2   lr=['0.0001000'], tr/val_loss:  2.195519/  2.199181, tr:  13.11%, val:  15.83%, val_best:  15.83%: 100%|██████████| 62/62 [00:24<00:00,  2.55it/s]"
     ]
    },
    {
     "name": "stdout",
     "output_type": "stream",
     "text": [
      "Domain loss,acc: 2.219420, 48.19% Target domain: tr_loss-2.267223, tr_acc-13.99%\n",
      "25,000c2dTruet10:15.83% | 25,000c3dFalset10:17.50%\n"
     ]
    },
    {
     "name": "stderr",
     "output_type": "stream",
     "text": [
      "\n",
      "epoch-3   lr=['0.0001000'], tr/val_loss:  2.129633/  2.130183, tr:  17.23%, val:  26.67%, val_best:  26.67%: 100%|██████████| 62/62 [00:24<00:00,  2.57it/s]"
     ]
    },
    {
     "name": "stdout",
     "output_type": "stream",
     "text": [
      "Domain loss,acc: 2.150457, 57.06% Target domain: tr_loss-2.192106, tr_acc-22.92%\n",
      "25,000c2dTruet10:26.67% | 25,000c3dFalset10:27.50%\n"
     ]
    },
    {
     "name": "stderr",
     "output_type": "stream",
     "text": [
      "\n",
      "epoch-4   lr=['0.0001000'], tr/val_loss:  2.023613/  2.030887, tr:  31.71%, val:  40.00%, val_best:  40.00%: 100%|██████████| 62/62 [00:23<00:00,  2.59it/s]"
     ]
    },
    {
     "name": "stdout",
     "output_type": "stream",
     "text": [
      "Domain loss,acc: 2.043818, 54.54% Target domain: tr_loss-2.084226, tr_acc-33.04%\n",
      "25,000c2dTruet10:40.00% | 25,000c3dFalset10:37.50%\n"
     ]
    },
    {
     "name": "stderr",
     "output_type": "stream",
     "text": [
      "\n",
      "epoch-5   lr=['0.0001000'], tr/val_loss:  1.896785/  1.932841, tr:  44.51%, val:  42.50%, val_best:  42.50%: 100%|██████████| 62/62 [00:24<00:00,  2.55it/s]"
     ]
    },
    {
     "name": "stdout",
     "output_type": "stream",
     "text": [
      "Domain loss,acc: 1.915571, 58.67% Target domain: tr_loss-1.953143, tr_acc-42.56%\n",
      "25,000c2dTruet10:42.50% | 25,000c3dFalset10:38.33%\n"
     ]
    },
    {
     "name": "stderr",
     "output_type": "stream",
     "text": [
      "\n",
      "epoch-6   lr=['0.0001000'], tr/val_loss:  1.769104/  1.838370, tr:  51.37%, val:  45.42%, val_best:  45.42%: 100%|██████████| 62/62 [00:24<00:00,  2.50it/s]"
     ]
    },
    {
     "name": "stdout",
     "output_type": "stream",
     "text": [
      "Domain loss,acc: 1.802433, 61.69% Target domain: tr_loss-1.869092, tr_acc-43.75%\n",
      "25,000c2dTruet10:45.42% | 25,000c3dFalset10:40.42%\n"
     ]
    },
    {
     "name": "stderr",
     "output_type": "stream",
     "text": [
      "\n",
      "epoch-7   lr=['0.0001000'], tr/val_loss:  1.676255/  1.754792, tr:  55.34%, val:  50.83%, val_best:  50.83%: 100%|██████████| 62/62 [00:25<00:00,  2.47it/s]"
     ]
    },
    {
     "name": "stdout",
     "output_type": "stream",
     "text": [
      "Domain loss,acc: 1.695020, 57.86% Target domain: tr_loss-1.732550, tr_acc-53.27%\n",
      "25,000c2dTruet10:50.83% | 25,000c3dFalset10:45.83%\n"
     ]
    },
    {
     "name": "stderr",
     "output_type": "stream",
     "text": [
      "\n",
      "epoch-8   lr=['0.0001000'], tr/val_loss:  1.566313/  1.678174, tr:  60.98%, val:  55.42%, val_best:  55.42%: 100%|██████████| 62/62 [00:25<00:00,  2.46it/s]"
     ]
    },
    {
     "name": "stdout",
     "output_type": "stream",
     "text": [
      "Domain loss,acc: 1.609963, 58.87% Target domain: tr_loss-1.697264, tr_acc-51.79%\n",
      "25,000c2dTruet10:55.42% | 25,000c3dFalset10:45.42%\n"
     ]
    },
    {
     "name": "stderr",
     "output_type": "stream",
     "text": [
      "\n",
      "epoch-9   lr=['0.0001000'], tr/val_loss:  1.464807/  1.612309, tr:  65.55%, val:  61.25%, val_best:  61.25%: 100%|██████████| 62/62 [00:25<00:00,  2.41it/s]"
     ]
    },
    {
     "name": "stdout",
     "output_type": "stream",
     "text": [
      "Domain loss,acc: 1.510112, 61.29% Target domain: tr_loss-1.600723, tr_acc-63.10%\n",
      "25,000c2dTruet10:61.25% | 25,000c3dFalset10:55.00%\n"
     ]
    },
    {
     "name": "stderr",
     "output_type": "stream",
     "text": [
      "\n",
      "epoch-10  lr=['0.0001000'], tr/val_loss:  1.396849/  1.559841, tr:  64.94%, val:  60.83%, val_best:  61.25%: 100%|██████████| 62/62 [00:26<00:00,  2.34it/s]"
     ]
    },
    {
     "name": "stdout",
     "output_type": "stream",
     "text": [
      "Domain loss,acc: 1.441701, 58.47% Target domain: tr_loss-1.531405, tr_acc-61.90%\n",
      "25,000c2dTruet10:60.83% | 25,000c3dFalset10:56.25%\n"
     ]
    },
    {
     "name": "stderr",
     "output_type": "stream",
     "text": [
      "\n",
      "epoch-11  lr=['0.0001000'], tr/val_loss:  1.342184/  1.499517, tr:  67.84%, val:  63.33%, val_best:  63.33%: 100%|██████████| 62/62 [00:27<00:00,  2.29it/s]"
     ]
    },
    {
     "name": "stdout",
     "output_type": "stream",
     "text": [
      "Domain loss,acc: 1.383900, 60.38% Target domain: tr_loss-1.467332, tr_acc-66.07%\n",
      "25,000c2dTruet10:63.33% | 25,000c3dFalset10:56.67%\n"
     ]
    },
    {
     "name": "stderr",
     "output_type": "stream",
     "text": [
      "\n",
      "epoch-12  lr=['0.0001000'], tr/val_loss:  1.282994/  1.464378, tr:  70.43%, val:  65.83%, val_best:  65.83%: 100%|██████████| 62/62 [00:26<00:00,  2.32it/s]"
     ]
    },
    {
     "name": "stdout",
     "output_type": "stream",
     "text": [
      "Domain loss,acc: 1.329973, 60.89% Target domain: tr_loss-1.423930, tr_acc-66.96%\n",
      "25,000c2dTruet10:65.83% | 25,000c3dFalset10:54.58%\n"
     ]
    },
    {
     "name": "stderr",
     "output_type": "stream",
     "text": [
      "\n",
      "epoch-13  lr=['0.0001000'], tr/val_loss:  1.230453/  1.428951, tr:  71.80%, val:  67.92%, val_best:  67.92%: 100%|██████████| 62/62 [00:26<00:00,  2.35it/s]"
     ]
    },
    {
     "name": "stdout",
     "output_type": "stream",
     "text": [
      "Domain loss,acc: 1.284030, 59.17% Target domain: tr_loss-1.391185, tr_acc-64.58%\n",
      "25,000c2dTruet10:67.92% | 25,000c3dFalset10:55.83%\n"
     ]
    },
    {
     "name": "stderr",
     "output_type": "stream",
     "text": [
      "\n",
      "epoch-14  lr=['0.0001000'], tr/val_loss:  1.206436/  1.394189, tr:  71.49%, val:  67.50%, val_best:  67.92%: 100%|██████████| 62/62 [00:27<00:00,  2.24it/s]"
     ]
    },
    {
     "name": "stdout",
     "output_type": "stream",
     "text": [
      "Domain loss,acc: 1.259946, 60.18% Target domain: tr_loss-1.366967, tr_acc-67.86%\n",
      "25,000c2dTruet10:67.50% | 25,000c3dFalset10:52.92%\n"
     ]
    },
    {
     "name": "stderr",
     "output_type": "stream",
     "text": [
      "\n",
      "epoch-15  lr=['0.0001000'], tr/val_loss:  1.149265/  1.357114, tr:  74.54%, val:  69.17%, val_best:  69.17%: 100%|██████████| 62/62 [00:26<00:00,  2.32it/s]"
     ]
    },
    {
     "name": "stdout",
     "output_type": "stream",
     "text": [
      "Domain loss,acc: 1.223094, 61.19% Target domain: tr_loss-1.370750, tr_acc-66.96%\n",
      "25,000c2dTruet10:69.17% | 25,000c3dFalset10:60.00%\n"
     ]
    },
    {
     "name": "stderr",
     "output_type": "stream",
     "text": [
      "\n",
      "epoch-16  lr=['0.0001000'], tr/val_loss:  1.121929/  1.326708, tr:  74.70%, val:  70.42%, val_best:  70.42%: 100%|██████████| 62/62 [00:27<00:00,  2.28it/s]"
     ]
    },
    {
     "name": "stdout",
     "output_type": "stream",
     "text": [
      "Domain loss,acc: 1.196293, 60.99% Target domain: tr_loss-1.345021, tr_acc-63.99%\n",
      "25,000c2dTruet10:70.42% | 25,000c3dFalset10:62.50%\n"
     ]
    },
    {
     "name": "stderr",
     "output_type": "stream",
     "text": [
      "\n",
      "epoch-17  lr=['0.0001000'], tr/val_loss:  1.106017/  1.306031, tr:  74.39%, val:  70.00%, val_best:  70.42%: 100%|██████████| 62/62 [00:27<00:00,  2.23it/s]"
     ]
    },
    {
     "name": "stdout",
     "output_type": "stream",
     "text": [
      "Domain loss,acc: 1.166995, 61.79% Target domain: tr_loss-1.288951, tr_acc-67.56%\n",
      "25,000c2dTruet10:70.00% | 25,000c3dFalset10:59.17%\n"
     ]
    },
    {
     "name": "stderr",
     "output_type": "stream",
     "text": [
      "\n",
      "epoch-18  lr=['0.0001000'], tr/val_loss:  1.084033/  1.285141, tr:  74.54%, val:  72.92%, val_best:  72.92%: 100%|██████████| 62/62 [00:27<00:00,  2.28it/s]"
     ]
    },
    {
     "name": "stdout",
     "output_type": "stream",
     "text": [
      "Domain loss,acc: 1.140532, 62.00% Target domain: tr_loss-1.253530, tr_acc-65.77%\n",
      "25,000c2dTruet10:72.92% | 25,000c3dFalset10:58.33%\n"
     ]
    },
    {
     "name": "stderr",
     "output_type": "stream",
     "text": [
      "\n",
      "epoch-19  lr=['0.0001000'], tr/val_loss:  1.040785/  1.272691, tr:  77.44%, val:  69.58%, val_best:  72.92%: 100%|██████████| 62/62 [00:27<00:00,  2.26it/s]"
     ]
    },
    {
     "name": "stdout",
     "output_type": "stream",
     "text": [
      "Domain loss,acc: 1.122910, 61.69% Target domain: tr_loss-1.287161, tr_acc-68.75%\n",
      "25,000c2dTruet10:69.58% | 25,000c3dFalset10:57.50%\n"
     ]
    },
    {
     "name": "stderr",
     "output_type": "stream",
     "text": [
      "\n",
      "epoch-20  lr=['0.0001000'], tr/val_loss:  1.020737/  1.256583, tr:  78.81%, val:  74.17%, val_best:  74.17%: 100%|██████████| 62/62 [00:26<00:00,  2.34it/s]"
     ]
    },
    {
     "name": "stdout",
     "output_type": "stream",
     "text": [
      "Domain loss,acc: 1.102500, 61.69% Target domain: tr_loss-1.266026, tr_acc-67.86%\n",
      "25,000c2dTruet10:74.17% | 25,000c3dFalset10:60.00%\n"
     ]
    },
    {
     "name": "stderr",
     "output_type": "stream",
     "text": [
      "\n",
      "epoch-21  lr=['0.0001000'], tr/val_loss:  1.008292/  1.227094, tr:  80.79%, val:  73.33%, val_best:  74.17%: 100%|██████████| 62/62 [00:27<00:00,  2.28it/s]"
     ]
    },
    {
     "name": "stdout",
     "output_type": "stream",
     "text": [
      "Domain loss,acc: 1.089867, 62.30% Target domain: tr_loss-1.253019, tr_acc-70.54%\n",
      "25,000c2dTruet10:73.33% | 25,000c3dFalset10:62.08%\n"
     ]
    },
    {
     "name": "stderr",
     "output_type": "stream",
     "text": [
      "\n",
      "epoch-22  lr=['0.0001000'], tr/val_loss:  0.977580/  1.214573, tr:  80.18%, val:  79.17%, val_best:  79.17%: 100%|██████████| 62/62 [00:27<00:00,  2.24it/s]"
     ]
    },
    {
     "name": "stdout",
     "output_type": "stream",
     "text": [
      "Domain loss,acc: 1.071574, 62.60% Target domain: tr_loss-1.259564, tr_acc-70.24%\n",
      "25,000c2dTruet10:79.17% | 25,000c3dFalset10:64.58%\n"
     ]
    },
    {
     "name": "stderr",
     "output_type": "stream",
     "text": [
      "\n",
      "epoch-23  lr=['0.0001000'], tr/val_loss:  0.999337/  1.205527, tr:  79.42%, val:  75.83%, val_best:  79.17%: 100%|██████████| 62/62 [00:27<00:00,  2.27it/s]"
     ]
    },
    {
     "name": "stdout",
     "output_type": "stream",
     "text": [
      "Domain loss,acc: 1.068867, 62.30% Target domain: tr_loss-1.207926, tr_acc-73.81%\n",
      "25,000c2dTruet10:75.83% | 25,000c3dFalset10:61.67%\n"
     ]
    },
    {
     "name": "stderr",
     "output_type": "stream",
     "text": [
      "\n",
      "epoch-24  lr=['0.0001000'], tr/val_loss:  0.939820/  1.208733, tr:  80.03%, val:  74.58%, val_best:  79.17%: 100%|██████████| 62/62 [00:27<00:00,  2.29it/s]"
     ]
    },
    {
     "name": "stdout",
     "output_type": "stream",
     "text": [
      "Domain loss,acc: 1.011559, 62.60% Target domain: tr_loss-1.155037, tr_acc-70.83%\n",
      "25,000c2dTruet10:74.58% | 25,000c3dFalset10:63.33%\n"
     ]
    },
    {
     "name": "stderr",
     "output_type": "stream",
     "text": [
      "\n",
      "epoch-25  lr=['0.0001000'], tr/val_loss:  0.946375/  1.202676, tr:  82.47%, val:  76.67%, val_best:  79.17%: 100%|██████████| 62/62 [00:27<00:00,  2.23it/s]"
     ]
    },
    {
     "name": "stdout",
     "output_type": "stream",
     "text": [
      "Domain loss,acc: 1.023095, 63.51% Target domain: tr_loss-1.176535, tr_acc-67.26%\n",
      "25,000c2dTruet10:76.67% | 25,000c3dFalset10:61.67%\n"
     ]
    },
    {
     "name": "stderr",
     "output_type": "stream",
     "text": [
      "\n",
      "epoch-26  lr=['0.0001000'], tr/val_loss:  0.912741/  1.197700, tr:  83.08%, val:  71.67%, val_best:  79.17%: 100%|██████████| 62/62 [00:27<00:00,  2.27it/s]"
     ]
    },
    {
     "name": "stdout",
     "output_type": "stream",
     "text": [
      "Domain loss,acc: 1.014164, 61.49% Target domain: tr_loss-1.217011, tr_acc-67.86%\n",
      "25,000c2dTruet10:71.67% | 25,000c3dFalset10:60.42%\n"
     ]
    },
    {
     "name": "stderr",
     "output_type": "stream",
     "text": [
      "\n",
      "epoch-27  lr=['0.0001000'], tr/val_loss:  0.901125/  1.167179, tr:  83.84%, val:  78.75%, val_best:  79.17%: 100%|██████████| 62/62 [00:27<00:00,  2.27it/s]"
     ]
    },
    {
     "name": "stdout",
     "output_type": "stream",
     "text": [
      "Domain loss,acc: 0.982593, 63.10% Target domain: tr_loss-1.145527, tr_acc-75.60%\n",
      "25,000c2dTruet10:78.75% | 25,000c3dFalset10:63.75%\n"
     ]
    },
    {
     "name": "stderr",
     "output_type": "stream",
     "text": [
      "\n",
      "epoch-28  lr=['0.0001000'], tr/val_loss:  0.871390/  1.162154, tr:  87.35%, val:  79.58%, val_best:  79.58%: 100%|██████████| 62/62 [00:27<00:00,  2.27it/s]"
     ]
    },
    {
     "name": "stdout",
     "output_type": "stream",
     "text": [
      "Domain loss,acc: 0.985218, 63.41% Target domain: tr_loss-1.212875, tr_acc-69.05%\n",
      "25,000c2dTruet10:79.58% | 25,000c3dFalset10:60.00%\n"
     ]
    },
    {
     "name": "stderr",
     "output_type": "stream",
     "text": [
      "\n",
      "epoch-29  lr=['0.0001000'], tr/val_loss:  0.864667/  1.152598, tr:  83.08%, val:  76.67%, val_best:  79.58%: 100%|██████████| 62/62 [00:27<00:00,  2.26it/s]"
     ]
    },
    {
     "name": "stdout",
     "output_type": "stream",
     "text": [
      "Domain loss,acc: 0.960083, 64.62% Target domain: tr_loss-1.150916, tr_acc-73.81%\n",
      "25,000c2dTruet10:76.67% | 25,000c3dFalset10:59.17%\n"
     ]
    },
    {
     "name": "stderr",
     "output_type": "stream",
     "text": [
      "\n",
      "epoch-30  lr=['0.0001000'], tr/val_loss:  0.859443/  1.153337, tr:  86.89%, val:  80.00%, val_best:  80.00%: 100%|██████████| 62/62 [00:27<00:00,  2.29it/s]"
     ]
    },
    {
     "name": "stdout",
     "output_type": "stream",
     "text": [
      "Domain loss,acc: 0.957613, 65.32% Target domain: tr_loss-1.153953, tr_acc-69.05%\n",
      "25,000c2dTruet10:80.00% | 25,000c3dFalset10:64.58%\n"
     ]
    },
    {
     "name": "stderr",
     "output_type": "stream",
     "text": [
      "\n",
      "epoch-31  lr=['0.0001000'], tr/val_loss:  0.852621/  1.125832, tr:  86.13%, val:  80.42%, val_best:  80.42%: 100%|██████████| 62/62 [00:27<00:00,  2.26it/s]"
     ]
    },
    {
     "name": "stdout",
     "output_type": "stream",
     "text": [
      "Domain loss,acc: 0.963888, 63.91% Target domain: tr_loss-1.186423, tr_acc-69.05%\n",
      "25,000c2dTruet10:80.42% | 25,000c3dFalset10:65.83%\n"
     ]
    },
    {
     "name": "stderr",
     "output_type": "stream",
     "text": [
      "\n",
      "epoch-32  lr=['0.0001000'], tr/val_loss:  0.836202/  1.125118, tr:  87.50%, val:  82.08%, val_best:  82.08%: 100%|██████████| 62/62 [00:27<00:00,  2.27it/s]"
     ]
    },
    {
     "name": "stdout",
     "output_type": "stream",
     "text": [
      "Domain loss,acc: 0.929604, 64.82% Target domain: tr_loss-1.116408, tr_acc-75.89%\n",
      "25,000c2dTruet10:82.08% | 25,000c3dFalset10:67.50%\n"
     ]
    },
    {
     "name": "stderr",
     "output_type": "stream",
     "text": [
      "\n",
      "epoch-33  lr=['0.0001000'], tr/val_loss:  0.825436/  1.130118, tr:  87.04%, val:  76.67%, val_best:  82.08%: 100%|██████████| 62/62 [00:27<00:00,  2.23it/s]"
     ]
    },
    {
     "name": "stdout",
     "output_type": "stream",
     "text": [
      "Domain loss,acc: 0.927331, 61.90% Target domain: tr_loss-1.131120, tr_acc-73.81%\n",
      "25,000c2dTruet10:76.67% | 25,000c3dFalset10:64.17%\n"
     ]
    },
    {
     "name": "stderr",
     "output_type": "stream",
     "text": [
      "\n",
      "epoch-34  lr=['0.0001000'], tr/val_loss:  0.802226/  1.132904, tr:  87.96%, val:  79.58%, val_best:  82.08%: 100%|██████████| 62/62 [00:26<00:00,  2.31it/s]"
     ]
    },
    {
     "name": "stdout",
     "output_type": "stream",
     "text": [
      "Domain loss,acc: 0.891771, 64.01% Target domain: tr_loss-1.070863, tr_acc-74.11%\n",
      "25,000c2dTruet10:79.58% | 25,000c3dFalset10:62.92%\n"
     ]
    },
    {
     "name": "stderr",
     "output_type": "stream",
     "text": [
      "\n",
      "epoch-35  lr=['0.0001000'], tr/val_loss:  0.774445/  1.129106, tr:  88.26%, val:  78.33%, val_best:  82.08%: 100%|██████████| 62/62 [00:26<00:00,  2.33it/s]"
     ]
    },
    {
     "name": "stdout",
     "output_type": "stream",
     "text": [
      "Domain loss,acc: 0.875006, 62.50% Target domain: tr_loss-1.076129, tr_acc-75.89%\n",
      "25,000c2dTruet10:78.33% | 25,000c3dFalset10:63.33%\n"
     ]
    },
    {
     "name": "stderr",
     "output_type": "stream",
     "text": [
      "\n",
      "epoch-36  lr=['0.0001000'], tr/val_loss:  0.796697/  1.115789, tr:  89.02%, val:  82.08%, val_best:  82.08%: 100%|██████████| 62/62 [00:27<00:00,  2.29it/s]"
     ]
    },
    {
     "name": "stdout",
     "output_type": "stream",
     "text": [
      "Domain loss,acc: 0.897741, 62.90% Target domain: tr_loss-1.099829, tr_acc-72.92%\n",
      "25,000c2dTruet10:82.08% | 25,000c3dFalset10:67.08%\n"
     ]
    },
    {
     "name": "stderr",
     "output_type": "stream",
     "text": [
      "\n",
      "epoch-37  lr=['0.0001000'], tr/val_loss:  0.771045/  1.096764, tr:  89.33%, val:  80.83%, val_best:  82.08%: 100%|██████████| 62/62 [00:26<00:00,  2.30it/s]"
     ]
    },
    {
     "name": "stdout",
     "output_type": "stream",
     "text": [
      "Domain loss,acc: 0.884409, 63.10% Target domain: tr_loss-1.111137, tr_acc-78.27%\n",
      "25,000c2dTruet10:80.83% | 25,000c3dFalset10:68.33%\n"
     ]
    },
    {
     "name": "stderr",
     "output_type": "stream",
     "text": [
      "\n",
      "epoch-38  lr=['0.0001000'], tr/val_loss:  0.778988/  1.105343, tr:  91.16%, val:  76.67%, val_best:  82.08%: 100%|██████████| 62/62 [00:26<00:00,  2.33it/s]"
     ]
    },
    {
     "name": "stdout",
     "output_type": "stream",
     "text": [
      "Domain loss,acc: 0.877111, 65.32% Target domain: tr_loss-1.073357, tr_acc-74.40%\n",
      "25,000c2dTruet10:76.67% | 25,000c3dFalset10:57.08%\n"
     ]
    },
    {
     "name": "stderr",
     "output_type": "stream",
     "text": [
      "\n",
      "epoch-39  lr=['0.0001000'], tr/val_loss:  0.760311/  1.089677, tr:  89.63%, val:  80.83%, val_best:  82.08%: 100%|██████████| 62/62 [00:26<00:00,  2.33it/s]"
     ]
    },
    {
     "name": "stdout",
     "output_type": "stream",
     "text": [
      "Domain loss,acc: 0.869934, 62.60% Target domain: tr_loss-1.089181, tr_acc-74.70%\n",
      "25,000c2dTruet10:80.83% | 25,000c3dFalset10:62.92%\n"
     ]
    },
    {
     "name": "stderr",
     "output_type": "stream",
     "text": [
      "\n",
      "epoch-40  lr=['0.0001000'], tr/val_loss:  0.746048/  1.101486, tr:  90.24%, val:  81.25%, val_best:  82.08%: 100%|██████████| 62/62 [00:26<00:00,  2.34it/s]"
     ]
    },
    {
     "name": "stdout",
     "output_type": "stream",
     "text": [
      "Domain loss,acc: 0.860883, 63.10% Target domain: tr_loss-1.090554, tr_acc-78.57%\n",
      "25,000c2dTruet10:81.25% | 25,000c3dFalset10:59.58%\n"
     ]
    },
    {
     "name": "stderr",
     "output_type": "stream",
     "text": [
      "\n",
      "epoch-41  lr=['0.0001000'], tr/val_loss:  0.737317/  1.090372, tr:  92.23%, val:  81.67%, val_best:  82.08%: 100%|██████████| 62/62 [00:26<00:00,  2.34it/s]"
     ]
    },
    {
     "name": "stdout",
     "output_type": "stream",
     "text": [
      "Domain loss,acc: 0.858281, 63.91% Target domain: tr_loss-1.100210, tr_acc-77.08%\n",
      "25,000c2dTruet10:81.67% | 25,000c3dFalset10:63.33%\n"
     ]
    },
    {
     "name": "stderr",
     "output_type": "stream",
     "text": [
      "\n",
      "epoch-42  lr=['0.0001000'], tr/val_loss:  0.737759/  1.076248, tr:  91.92%, val:  77.50%, val_best:  82.08%: 100%|██████████| 62/62 [00:26<00:00,  2.31it/s]"
     ]
    },
    {
     "name": "stdout",
     "output_type": "stream",
     "text": [
      "Domain loss,acc: 0.839377, 64.31% Target domain: tr_loss-1.042612, tr_acc-75.60%\n",
      "25,000c2dTruet10:77.50% | 25,000c3dFalset10:57.50%\n"
     ]
    },
    {
     "name": "stderr",
     "output_type": "stream",
     "text": [
      "\n",
      "epoch-43  lr=['0.0001000'], tr/val_loss:  0.731334/  1.060708, tr:  92.53%, val:  82.92%, val_best:  82.92%: 100%|██████████| 62/62 [00:26<00:00,  2.30it/s]"
     ]
    },
    {
     "name": "stdout",
     "output_type": "stream",
     "text": [
      "Domain loss,acc: 0.849786, 65.32% Target domain: tr_loss-1.086690, tr_acc-75.89%\n",
      "25,000c2dTruet10:82.92% | 25,000c3dFalset10:66.67%\n"
     ]
    },
    {
     "name": "stderr",
     "output_type": "stream",
     "text": [
      "\n",
      "epoch-44  lr=['0.0001000'], tr/val_loss:  0.696631/  1.066729, tr:  91.01%, val:  80.00%, val_best:  82.92%: 100%|██████████| 62/62 [00:26<00:00,  2.34it/s]"
     ]
    },
    {
     "name": "stdout",
     "output_type": "stream",
     "text": [
      "Domain loss,acc: 0.822531, 64.62% Target domain: tr_loss-1.074333, tr_acc-76.49%\n",
      "25,000c2dTruet10:80.00% | 25,000c3dFalset10:61.67%\n"
     ]
    },
    {
     "name": "stderr",
     "output_type": "stream",
     "text": [
      "\n",
      "epoch-45  lr=['0.0001000'], tr/val_loss:  0.701338/  1.070110, tr:  92.23%, val:  80.00%, val_best:  82.92%: 100%|██████████| 62/62 [00:26<00:00,  2.35it/s]"
     ]
    },
    {
     "name": "stdout",
     "output_type": "stream",
     "text": [
      "Domain loss,acc: 0.816559, 63.41% Target domain: tr_loss-1.047002, tr_acc-80.36%\n",
      "25,000c2dTruet10:80.00% | 25,000c3dFalset10:65.00%\n"
     ]
    },
    {
     "name": "stderr",
     "output_type": "stream",
     "text": [
      "\n",
      "epoch-46  lr=['0.0001000'], tr/val_loss:  0.676621/  1.053226, tr:  92.84%, val:  82.50%, val_best:  82.92%: 100%|██████████| 62/62 [00:26<00:00,  2.34it/s]"
     ]
    },
    {
     "name": "stdout",
     "output_type": "stream",
     "text": [
      "Domain loss,acc: 0.806258, 64.01% Target domain: tr_loss-1.065532, tr_acc-79.17%\n",
      "25,000c2dTruet10:82.50% | 25,000c3dFalset10:66.67%\n"
     ]
    },
    {
     "name": "stderr",
     "output_type": "stream",
     "text": [
      "\n",
      "epoch-47  lr=['0.0001000'], tr/val_loss:  0.655066/  1.063805, tr:  93.75%, val:  82.92%, val_best:  82.92%: 100%|██████████| 62/62 [00:26<00:00,  2.32it/s]"
     ]
    },
    {
     "name": "stdout",
     "output_type": "stream",
     "text": [
      "Domain loss,acc: 0.794392, 63.71% Target domain: tr_loss-1.073043, tr_acc-80.65%\n",
      "25,000c2dTruet10:82.92% | 25,000c3dFalset10:67.92%\n"
     ]
    },
    {
     "name": "stderr",
     "output_type": "stream",
     "text": [
      "\n",
      "epoch-48  lr=['0.0001000'], tr/val_loss:  0.644421/  1.058379, tr:  93.29%, val:  82.50%, val_best:  82.92%: 100%|██████████| 62/62 [00:26<00:00,  2.33it/s]"
     ]
    },
    {
     "name": "stdout",
     "output_type": "stream",
     "text": [
      "Domain loss,acc: 0.793112, 64.42% Target domain: tr_loss-1.090493, tr_acc-74.11%\n",
      "25,000c2dTruet10:82.50% | 25,000c3dFalset10:64.17%\n"
     ]
    },
    {
     "name": "stderr",
     "output_type": "stream",
     "text": [
      "\n",
      "epoch-49  lr=['0.0001000'], tr/val_loss:  0.641756/  1.057779, tr:  93.60%, val:  82.92%, val_best:  82.92%: 100%|██████████| 62/62 [00:27<00:00,  2.28it/s]"
     ]
    },
    {
     "name": "stdout",
     "output_type": "stream",
     "text": [
      "Domain loss,acc: 0.778014, 64.11% Target domain: tr_loss-1.050532, tr_acc-76.49%\n",
      "25,000c2dTruet10:82.92% | 25,000c3dFalset10:62.92%\n"
     ]
    },
    {
     "name": "stderr",
     "output_type": "stream",
     "text": [
      "\n",
      "epoch-50  lr=['0.0001000'], tr/val_loss:  0.629061/  1.050724, tr:  93.90%, val:  84.58%, val_best:  84.58%: 100%|██████████| 62/62 [00:27<00:00,  2.26it/s]"
     ]
    },
    {
     "name": "stdout",
     "output_type": "stream",
     "text": [
      "Domain loss,acc: 0.757992, 63.31% Target domain: tr_loss-1.015855, tr_acc-77.98%\n",
      "25,000c2dTruet10:84.58% | 25,000c3dFalset10:68.33%\n"
     ]
    },
    {
     "name": "stderr",
     "output_type": "stream",
     "text": [
      "\n",
      "epoch-51  lr=['0.0001000'], tr/val_loss:  0.627997/  1.039545, tr:  93.75%, val:  83.75%, val_best:  84.58%: 100%|██████████| 62/62 [00:27<00:00,  2.25it/s]"
     ]
    },
    {
     "name": "stdout",
     "output_type": "stream",
     "text": [
      "Domain loss,acc: 0.771414, 64.72% Target domain: tr_loss-1.058249, tr_acc-80.36%\n",
      "25,000c2dTruet10:83.75% | 25,000c3dFalset10:69.58%\n"
     ]
    },
    {
     "name": "stderr",
     "output_type": "stream",
     "text": [
      "\n",
      "epoch-52  lr=['0.0001000'], tr/val_loss:  0.626062/  1.042606, tr:  92.68%, val:  82.92%, val_best:  84.58%: 100%|██████████| 62/62 [00:27<00:00,  2.26it/s]"
     ]
    },
    {
     "name": "stdout",
     "output_type": "stream",
     "text": [
      "Domain loss,acc: 0.768787, 64.01% Target domain: tr_loss-1.054239, tr_acc-79.17%\n",
      "25,000c2dTruet10:82.92% | 25,000c3dFalset10:65.83%\n"
     ]
    },
    {
     "name": "stderr",
     "output_type": "stream",
     "text": [
      "\n",
      "epoch-53  lr=['0.0001000'], tr/val_loss:  0.609746/  1.033397, tr:  93.60%, val:  82.92%, val_best:  84.58%: 100%|██████████| 62/62 [00:27<00:00,  2.24it/s]"
     ]
    },
    {
     "name": "stdout",
     "output_type": "stream",
     "text": [
      "Domain loss,acc: 0.777003, 64.52% Target domain: tr_loss-1.111516, tr_acc-77.68%\n",
      "25,000c2dTruet10:82.92% | 25,000c3dFalset10:66.67%\n"
     ]
    },
    {
     "name": "stderr",
     "output_type": "stream",
     "text": [
      "\n",
      "epoch-54  lr=['0.0001000'], tr/val_loss:  0.600114/  1.027942, tr:  95.73%, val:  82.92%, val_best:  84.58%: 100%|██████████| 62/62 [00:28<00:00,  2.21it/s]"
     ]
    },
    {
     "name": "stdout",
     "output_type": "stream",
     "text": [
      "Domain loss,acc: 0.755183, 63.41% Target domain: tr_loss-1.065322, tr_acc-78.57%\n",
      "25,000c2dTruet10:82.92% | 25,000c3dFalset10:66.67%\n"
     ]
    },
    {
     "name": "stderr",
     "output_type": "stream",
     "text": [
      "\n",
      "epoch-55  lr=['0.0001000'], tr/val_loss:  0.587231/  1.033974, tr:  94.36%, val:  83.75%, val_best:  84.58%: 100%|██████████| 62/62 [00:27<00:00,  2.26it/s]"
     ]
    },
    {
     "name": "stdout",
     "output_type": "stream",
     "text": [
      "Domain loss,acc: 0.747381, 63.61% Target domain: tr_loss-1.067679, tr_acc-78.87%\n",
      "25,000c2dTruet10:83.75% | 25,000c3dFalset10:70.00%\n"
     ]
    },
    {
     "name": "stderr",
     "output_type": "stream",
     "text": [
      "\n",
      "epoch-56  lr=['0.0001000'], tr/val_loss:  0.585366/  1.027335, tr:  95.58%, val:  83.75%, val_best:  84.58%: 100%|██████████| 62/62 [00:27<00:00,  2.23it/s]"
     ]
    },
    {
     "name": "stdout",
     "output_type": "stream",
     "text": [
      "Domain loss,acc: 0.722139, 64.31% Target domain: tr_loss-0.995686, tr_acc-82.74%\n",
      "25,000c2dTruet10:83.75% | 25,000c3dFalset10:65.83%\n"
     ]
    },
    {
     "name": "stderr",
     "output_type": "stream",
     "text": [
      "\n",
      "epoch-57  lr=['0.0001000'], tr/val_loss:  0.599791/  1.014338, tr:  94.36%, val:  84.58%, val_best:  84.58%: 100%|██████████| 62/62 [00:27<00:00,  2.23it/s]"
     ]
    },
    {
     "name": "stdout",
     "output_type": "stream",
     "text": [
      "Domain loss,acc: 0.730653, 64.62% Target domain: tr_loss-0.992379, tr_acc-81.25%\n",
      "25,000c2dTruet10:84.58% | 25,000c3dFalset10:69.58%\n"
     ]
    },
    {
     "name": "stderr",
     "output_type": "stream",
     "text": [
      "\n",
      "epoch-58  lr=['0.0001000'], tr/val_loss:  0.558465/  1.032275, tr:  94.51%, val:  83.33%, val_best:  84.58%: 100%|██████████| 62/62 [00:27<00:00,  2.29it/s]"
     ]
    },
    {
     "name": "stdout",
     "output_type": "stream",
     "text": [
      "Domain loss,acc: 0.700163, 63.91% Target domain: tr_loss-0.983559, tr_acc-81.55%\n",
      "25,000c2dTruet10:83.33% | 25,000c3dFalset10:67.50%\n"
     ]
    },
    {
     "name": "stderr",
     "output_type": "stream",
     "text": [
      "\n",
      "epoch-59  lr=['0.0001000'], tr/val_loss:  0.570020/  1.035454, tr:  95.27%, val:  82.50%, val_best:  84.58%: 100%|██████████| 62/62 [00:26<00:00,  2.31it/s]"
     ]
    },
    {
     "name": "stdout",
     "output_type": "stream",
     "text": [
      "Domain loss,acc: 0.714786, 65.52% Target domain: tr_loss-1.004318, tr_acc-81.85%\n",
      "25,000c2dTruet10:82.50% | 25,000c3dFalset10:64.58%\n"
     ]
    },
    {
     "name": "stderr",
     "output_type": "stream",
     "text": [
      "\n",
      "epoch-60  lr=['0.0001000'], tr/val_loss:  0.548963/  1.005773, tr:  95.73%, val:  83.33%, val_best:  84.58%: 100%|██████████| 62/62 [00:27<00:00,  2.25it/s]"
     ]
    },
    {
     "name": "stdout",
     "output_type": "stream",
     "text": [
      "Domain loss,acc: 0.699150, 65.62% Target domain: tr_loss-0.999523, tr_acc-81.85%\n",
      "25,000c2dTruet10:83.33% | 25,000c3dFalset10:69.17%\n"
     ]
    },
    {
     "name": "stderr",
     "output_type": "stream",
     "text": [
      "\n",
      "epoch-61  lr=['0.0001000'], tr/val_loss:  0.541342/  1.008097, tr:  96.34%, val:  85.42%, val_best:  85.42%: 100%|██████████| 62/62 [00:27<00:00,  2.24it/s]"
     ]
    },
    {
     "name": "stdout",
     "output_type": "stream",
     "text": [
      "Domain loss,acc: 0.687770, 64.52% Target domain: tr_loss-0.980626, tr_acc-82.74%\n",
      "25,000c2dTruet10:85.42% | 25,000c3dFalset10:67.08%\n"
     ]
    },
    {
     "name": "stderr",
     "output_type": "stream",
     "text": [
      "\n",
      "epoch-62  lr=['0.0001000'], tr/val_loss:  0.540636/  1.021291, tr:  96.34%, val:  85.83%, val_best:  85.83%: 100%|██████████| 62/62 [00:27<00:00,  2.25it/s]"
     ]
    },
    {
     "name": "stdout",
     "output_type": "stream",
     "text": [
      "Domain loss,acc: 0.686077, 64.92% Target domain: tr_loss-0.976959, tr_acc-80.06%\n",
      "25,000c2dTruet10:85.83% | 25,000c3dFalset10:67.50%\n"
     ]
    },
    {
     "name": "stderr",
     "output_type": "stream",
     "text": [
      "\n",
      "epoch-63  lr=['0.0001000'], tr/val_loss:  0.524915/  0.990709, tr:  95.58%, val:  85.00%, val_best:  85.83%: 100%|██████████| 62/62 [00:26<00:00,  2.31it/s]"
     ]
    },
    {
     "name": "stdout",
     "output_type": "stream",
     "text": [
      "Domain loss,acc: 0.677226, 63.71% Target domain: tr_loss-0.981849, tr_acc-82.74%\n",
      "25,000c2dTruet10:85.00% | 25,000c3dFalset10:70.00%\n"
     ]
    },
    {
     "name": "stderr",
     "output_type": "stream",
     "text": [
      "\n",
      "epoch-64  lr=['0.0001000'], tr/val_loss:  0.516312/  1.002618, tr:  95.58%, val:  86.25%, val_best:  86.25%: 100%|██████████| 62/62 [00:26<00:00,  2.35it/s]"
     ]
    },
    {
     "name": "stdout",
     "output_type": "stream",
     "text": [
      "Domain loss,acc: 0.669849, 65.32% Target domain: tr_loss-0.976922, tr_acc-83.63%\n",
      "25,000c2dTruet10:86.25% | 25,000c3dFalset10:67.08%\n"
     ]
    },
    {
     "name": "stderr",
     "output_type": "stream",
     "text": [
      "\n",
      "epoch-65  lr=['0.0001000'], tr/val_loss:  0.509853/  1.002124, tr:  95.73%, val:  84.58%, val_best:  86.25%: 100%|██████████| 62/62 [00:25<00:00,  2.41it/s]"
     ]
    },
    {
     "name": "stdout",
     "output_type": "stream",
     "text": [
      "Domain loss,acc: 0.674541, 65.02% Target domain: tr_loss-1.003915, tr_acc-83.04%\n",
      "25,000c2dTruet10:84.58% | 25,000c3dFalset10:68.33%\n"
     ]
    },
    {
     "name": "stderr",
     "output_type": "stream",
     "text": [
      "\n",
      "epoch-66  lr=['0.0001000'], tr/val_loss:  0.503272/  0.986715, tr:  96.34%, val:  87.08%, val_best:  87.08%: 100%|██████████| 62/62 [00:25<00:00,  2.42it/s]"
     ]
    },
    {
     "name": "stdout",
     "output_type": "stream",
     "text": [
      "Domain loss,acc: 0.643099, 64.92% Target domain: tr_loss-0.922754, tr_acc-86.90%\n",
      "25,000c2dTruet10:87.08% | 25,000c3dFalset10:70.42%\n"
     ]
    },
    {
     "name": "stderr",
     "output_type": "stream",
     "text": [
      "\n",
      "epoch-67  lr=['0.0001000'], tr/val_loss:  0.493881/  1.001319, tr:  96.19%, val:  85.42%, val_best:  87.08%: 100%|██████████| 62/62 [00:25<00:00,  2.45it/s]"
     ]
    },
    {
     "name": "stdout",
     "output_type": "stream",
     "text": [
      "Domain loss,acc: 0.662476, 64.72% Target domain: tr_loss-0.999666, tr_acc-82.44%\n",
      "25,000c2dTruet10:85.42% | 25,000c3dFalset10:65.83%\n"
     ]
    },
    {
     "name": "stderr",
     "output_type": "stream",
     "text": [
      "\n",
      "epoch-68  lr=['0.0001000'], tr/val_loss:  0.473070/  0.997561, tr:  96.65%, val:  84.58%, val_best:  87.08%: 100%|██████████| 62/62 [00:25<00:00,  2.41it/s]"
     ]
    },
    {
     "name": "stdout",
     "output_type": "stream",
     "text": [
      "Domain loss,acc: 0.650613, 64.52% Target domain: tr_loss-1.005699, tr_acc-82.74%\n",
      "25,000c2dTruet10:84.58% | 25,000c3dFalset10:67.92%\n"
     ]
    },
    {
     "name": "stderr",
     "output_type": "stream",
     "text": [
      "\n",
      "epoch-69  lr=['0.0001000'], tr/val_loss:  0.480540/  1.000481, tr:  96.95%, val:  85.00%, val_best:  87.08%: 100%|██████████| 62/62 [00:25<00:00,  2.42it/s]"
     ]
    },
    {
     "name": "stdout",
     "output_type": "stream",
     "text": [
      "Domain loss,acc: 0.673447, 64.11% Target domain: tr_loss-1.059264, tr_acc-78.27%\n",
      "25,000c2dTruet10:85.00% | 25,000c3dFalset10:66.25%\n"
     ]
    },
    {
     "name": "stderr",
     "output_type": "stream",
     "text": [
      "\n",
      "epoch-70  lr=['0.0001000'], tr/val_loss:  0.470348/  0.990148, tr:  96.65%, val:  86.25%, val_best:  87.08%: 100%|██████████| 62/62 [00:25<00:00,  2.43it/s]"
     ]
    },
    {
     "name": "stdout",
     "output_type": "stream",
     "text": [
      "Domain loss,acc: 0.630077, 64.11% Target domain: tr_loss-0.949535, tr_acc-83.93%\n",
      "25,000c2dTruet10:86.25% | 25,000c3dFalset10:71.67%\n"
     ]
    },
    {
     "name": "stderr",
     "output_type": "stream",
     "text": [
      "\n",
      "epoch-71  lr=['0.0001000'], tr/val_loss:  0.466403/  0.991665, tr:  97.26%, val:  85.83%, val_best:  87.08%: 100%|██████████| 62/62 [00:25<00:00,  2.41it/s]"
     ]
    },
    {
     "name": "stdout",
     "output_type": "stream",
     "text": [
      "Domain loss,acc: 0.628877, 64.11% Target domain: tr_loss-0.953825, tr_acc-85.12%\n",
      "25,000c2dTruet10:85.83% | 25,000c3dFalset10:66.67%\n"
     ]
    },
    {
     "name": "stderr",
     "output_type": "stream",
     "text": [
      "\n",
      "epoch-72  lr=['0.0001000'], tr/val_loss:  0.451759/  0.991165, tr:  96.80%, val:  85.42%, val_best:  87.08%: 100%|██████████| 62/62 [00:25<00:00,  2.40it/s]"
     ]
    },
    {
     "name": "stdout",
     "output_type": "stream",
     "text": [
      "Domain loss,acc: 0.638737, 64.62% Target domain: tr_loss-1.012694, tr_acc-80.95%\n",
      "25,000c2dTruet10:85.42% | 25,000c3dFalset10:69.58%\n"
     ]
    },
    {
     "name": "stderr",
     "output_type": "stream",
     "text": [
      "\n",
      "epoch-73  lr=['0.0001000'], tr/val_loss:  0.466918/  0.971818, tr:  97.71%, val:  85.42%, val_best:  87.08%: 100%|██████████| 62/62 [00:26<00:00,  2.34it/s]"
     ]
    },
    {
     "name": "stdout",
     "output_type": "stream",
     "text": [
      "Domain loss,acc: 0.641232, 64.62% Target domain: tr_loss-0.989859, tr_acc-84.52%\n",
      "25,000c2dTruet10:85.42% | 25,000c3dFalset10:74.17%\n"
     ]
    },
    {
     "name": "stderr",
     "output_type": "stream",
     "text": [
      "\n",
      "epoch-74  lr=['0.0001000'], tr/val_loss:  0.440075/  0.974556, tr:  97.41%, val:  85.42%, val_best:  87.08%: 100%|██████████| 62/62 [00:25<00:00,  2.41it/s]"
     ]
    },
    {
     "name": "stdout",
     "output_type": "stream",
     "text": [
      "Domain loss,acc: 0.589772, 65.83% Target domain: tr_loss-0.889165, tr_acc-85.71%\n",
      "25,000c2dTruet10:85.42% | 25,000c3dFalset10:73.33%\n"
     ]
    },
    {
     "name": "stderr",
     "output_type": "stream",
     "text": [
      "\n",
      "epoch-75  lr=['0.0001000'], tr/val_loss:  0.434330/  0.983197, tr:  96.95%, val:  85.83%, val_best:  87.08%: 100%|██████████| 62/62 [00:25<00:00,  2.41it/s]"
     ]
    },
    {
     "name": "stdout",
     "output_type": "stream",
     "text": [
      "Domain loss,acc: 0.606796, 63.61% Target domain: tr_loss-0.951727, tr_acc-84.82%\n",
      "25,000c2dTruet10:85.83% | 25,000c3dFalset10:71.25%\n"
     ]
    },
    {
     "name": "stderr",
     "output_type": "stream",
     "text": [
      "\n",
      "epoch-76  lr=['0.0001000'], tr/val_loss:  0.421130/  0.988274, tr:  97.56%, val:  86.25%, val_best:  87.08%: 100%|██████████| 62/62 [00:26<00:00,  2.33it/s]"
     ]
    },
    {
     "name": "stdout",
     "output_type": "stream",
     "text": [
      "Domain loss,acc: 0.590928, 64.72% Target domain: tr_loss-0.930524, tr_acc-87.50%\n",
      "25,000c2dTruet10:86.25% | 25,000c3dFalset10:70.00%\n"
     ]
    },
    {
     "name": "stderr",
     "output_type": "stream",
     "text": [
      "\n",
      "epoch-77  lr=['0.0001000'], tr/val_loss:  0.407832/  0.967184, tr:  97.56%, val:  87.92%, val_best:  87.92%: 100%|██████████| 62/62 [00:26<00:00,  2.33it/s]"
     ]
    },
    {
     "name": "stdout",
     "output_type": "stream",
     "text": [
      "Domain loss,acc: 0.577353, 63.91% Target domain: tr_loss-0.916396, tr_acc-86.90%\n",
      "25,000c2dTruet10:87.92% | 25,000c3dFalset10:69.58%\n"
     ]
    },
    {
     "name": "stderr",
     "output_type": "stream",
     "text": [
      "\n",
      "epoch-78  lr=['0.0001000'], tr/val_loss:  0.405786/  0.991961, tr:  97.71%, val:  84.58%, val_best:  87.92%: 100%|██████████| 62/62 [00:26<00:00,  2.30it/s]"
     ]
    },
    {
     "name": "stdout",
     "output_type": "stream",
     "text": [
      "Domain loss,acc: 0.597401, 64.31% Target domain: tr_loss-0.980630, tr_acc-83.33%\n",
      "25,000c2dTruet10:84.58% | 25,000c3dFalset10:67.92%\n"
     ]
    },
    {
     "name": "stderr",
     "output_type": "stream",
     "text": [
      "\n",
      "epoch-79  lr=['0.0001000'], tr/val_loss:  0.406783/  0.985575, tr:  97.26%, val:  85.42%, val_best:  87.92%: 100%|██████████| 62/62 [00:26<00:00,  2.36it/s]"
     ]
    },
    {
     "name": "stdout",
     "output_type": "stream",
     "text": [
      "Domain loss,acc: 0.594674, 64.92% Target domain: tr_loss-0.970454, tr_acc-85.12%\n",
      "25,000c2dTruet10:85.42% | 25,000c3dFalset10:69.58%\n"
     ]
    },
    {
     "name": "stderr",
     "output_type": "stream",
     "text": [
      "\n",
      "epoch-80  lr=['0.0001000'], tr/val_loss:  0.411201/  0.974860, tr:  97.10%, val:  86.67%, val_best:  87.92%: 100%|██████████| 62/62 [00:26<00:00,  2.34it/s]"
     ]
    },
    {
     "name": "stdout",
     "output_type": "stream",
     "text": [
      "Domain loss,acc: 0.590341, 65.52% Target domain: tr_loss-0.948622, tr_acc-85.12%\n",
      "25,000c2dTruet10:86.67% | 25,000c3dFalset10:70.83%\n"
     ]
    },
    {
     "name": "stderr",
     "output_type": "stream",
     "text": [
      "\n",
      "epoch-81  lr=['0.0001000'], tr/val_loss:  0.400693/  0.985833, tr:  96.95%, val:  85.42%, val_best:  87.92%: 100%|██████████| 62/62 [00:26<00:00,  2.37it/s]"
     ]
    },
    {
     "name": "stdout",
     "output_type": "stream",
     "text": [
      "Domain loss,acc: 0.585537, 66.13% Target domain: tr_loss-0.955224, tr_acc-85.42%\n",
      "25,000c2dTruet10:85.42% | 25,000c3dFalset10:70.00%\n"
     ]
    },
    {
     "name": "stderr",
     "output_type": "stream",
     "text": [
      "\n",
      "epoch-82  lr=['0.0001000'], tr/val_loss:  0.398421/  0.996950, tr:  97.41%, val:  87.08%, val_best:  87.92%: 100%|██████████| 62/62 [00:25<00:00,  2.39it/s]"
     ]
    },
    {
     "name": "stdout",
     "output_type": "stream",
     "text": [
      "Domain loss,acc: 0.576756, 64.62% Target domain: tr_loss-0.933427, tr_acc-86.61%\n",
      "25,000c2dTruet10:87.08% | 25,000c3dFalset10:70.00%\n"
     ]
    },
    {
     "name": "stderr",
     "output_type": "stream",
     "text": [
      "\n",
      "epoch-83  lr=['0.0001000'], tr/val_loss:  0.374986/  0.989121, tr:  97.71%, val:  84.17%, val_best:  87.92%: 100%|██████████| 62/62 [00:26<00:00,  2.37it/s]"
     ]
    },
    {
     "name": "stdout",
     "output_type": "stream",
     "text": [
      "Domain loss,acc: 0.545010, 64.42% Target domain: tr_loss-0.885058, tr_acc-88.10%\n",
      "25,000c2dTruet10:84.17% | 25,000c3dFalset10:69.58%\n"
     ]
    },
    {
     "name": "stderr",
     "output_type": "stream",
     "text": [
      "\n",
      "epoch-84  lr=['0.0001000'], tr/val_loss:  0.358186/  0.985286, tr:  97.87%, val:  85.42%, val_best:  87.92%: 100%|██████████| 62/62 [00:26<00:00,  2.33it/s]"
     ]
    },
    {
     "name": "stdout",
     "output_type": "stream",
     "text": [
      "Domain loss,acc: 0.559282, 64.72% Target domain: tr_loss-0.961474, tr_acc-86.31%\n",
      "25,000c2dTruet10:85.42% | 25,000c3dFalset10:71.25%\n"
     ]
    },
    {
     "name": "stderr",
     "output_type": "stream",
     "text": [
      "\n",
      "epoch-85  lr=['0.0001000'], tr/val_loss:  0.368478/  0.982207, tr:  97.41%, val:  84.58%, val_best:  87.92%: 100%|██████████| 62/62 [00:26<00:00,  2.34it/s]"
     ]
    },
    {
     "name": "stdout",
     "output_type": "stream",
     "text": [
      "Domain loss,acc: 0.571530, 64.52% Target domain: tr_loss-0.977633, tr_acc-83.63%\n",
      "25,000c2dTruet10:84.58% | 25,000c3dFalset10:71.67%\n"
     ]
    },
    {
     "name": "stderr",
     "output_type": "stream",
     "text": [
      "\n",
      "epoch-86  lr=['0.0001000'], tr/val_loss:  0.355989/  0.980660, tr:  98.17%, val:  84.58%, val_best:  87.92%: 100%|██████████| 62/62 [00:25<00:00,  2.39it/s]"
     ]
    },
    {
     "name": "stdout",
     "output_type": "stream",
     "text": [
      "Domain loss,acc: 0.540481, 64.42% Target domain: tr_loss-0.909465, tr_acc-86.31%\n",
      "25,000c2dTruet10:84.58% | 25,000c3dFalset10:73.33%\n"
     ]
    },
    {
     "name": "stderr",
     "output_type": "stream",
     "text": [
      "\n",
      "epoch-87  lr=['0.0001000'], tr/val_loss:  0.364702/  0.980748, tr:  98.17%, val:  86.67%, val_best:  87.92%: 100%|██████████| 62/62 [00:26<00:00,  2.33it/s]"
     ]
    },
    {
     "name": "stdout",
     "output_type": "stream",
     "text": [
      "Domain loss,acc: 0.573706, 64.62% Target domain: tr_loss-0.991714, tr_acc-81.85%\n",
      "25,000c2dTruet10:86.67% | 25,000c3dFalset10:72.50%\n"
     ]
    },
    {
     "name": "stderr",
     "output_type": "stream",
     "text": [
      "\n",
      "epoch-88  lr=['0.0001000'], tr/val_loss:  0.359513/  0.979735, tr:  97.87%, val:  85.83%, val_best:  87.92%: 100%|██████████| 62/62 [00:27<00:00,  2.29it/s]"
     ]
    },
    {
     "name": "stdout",
     "output_type": "stream",
     "text": [
      "Domain loss,acc: 0.554007, 65.73% Target domain: tr_loss-0.942996, tr_acc-86.31%\n",
      "25,000c2dTruet10:85.83% | 25,000c3dFalset10:70.42%\n"
     ]
    },
    {
     "name": "stderr",
     "output_type": "stream",
     "text": [
      "\n",
      "epoch-89  lr=['0.0001000'], tr/val_loss:  0.355670/  0.968195, tr:  97.71%, val:  86.67%, val_best:  87.92%: 100%|██████████| 62/62 [00:26<00:00,  2.36it/s]"
     ]
    },
    {
     "name": "stdout",
     "output_type": "stream",
     "text": [
      "Domain loss,acc: 0.555742, 65.32% Target domain: tr_loss-0.955888, tr_acc-86.61%\n",
      "25,000c2dTruet10:86.67% | 25,000c3dFalset10:72.08%\n"
     ]
    },
    {
     "name": "stderr",
     "output_type": "stream",
     "text": [
      "\n",
      "epoch-90  lr=['0.0001000'], tr/val_loss:  0.349010/  0.963599, tr:  97.87%, val:  86.25%, val_best:  87.92%: 100%|██████████| 62/62 [00:26<00:00,  2.31it/s]"
     ]
    },
    {
     "name": "stdout",
     "output_type": "stream",
     "text": [
      "Domain loss,acc: 0.550354, 64.62% Target domain: tr_loss-0.953042, tr_acc-84.52%\n",
      "25,000c2dTruet10:86.25% | 25,000c3dFalset10:72.92%\n"
     ]
    },
    {
     "name": "stderr",
     "output_type": "stream",
     "text": [
      "\n",
      "epoch-91  lr=['0.0001000'], tr/val_loss:  0.332804/  0.983492, tr:  98.02%, val:  85.83%, val_best:  87.92%: 100%|██████████| 62/62 [00:26<00:00,  2.35it/s]"
     ]
    },
    {
     "name": "stdout",
     "output_type": "stream",
     "text": [
      "Domain loss,acc: 0.535117, 64.92% Target domain: tr_loss-0.939742, tr_acc-86.01%\n",
      "25,000c2dTruet10:85.83% | 25,000c3dFalset10:70.00%\n"
     ]
    },
    {
     "name": "stderr",
     "output_type": "stream",
     "text": [
      "\n",
      "epoch-92  lr=['0.0001000'], tr/val_loss:  0.322733/  0.973862, tr:  98.93%, val:  84.58%, val_best:  87.92%: 100%|██████████| 62/62 [00:26<00:00,  2.37it/s]"
     ]
    },
    {
     "name": "stdout",
     "output_type": "stream",
     "text": [
      "Domain loss,acc: 0.537127, 64.72% Target domain: tr_loss-0.965916, tr_acc-85.71%\n",
      "25,000c2dTruet10:84.58% | 25,000c3dFalset10:70.42%\n"
     ]
    },
    {
     "name": "stderr",
     "output_type": "stream",
     "text": [
      "\n",
      "epoch-93  lr=['0.0001000'], tr/val_loss:  0.350884/  0.970549, tr:  97.87%, val:  86.25%, val_best:  87.92%: 100%|██████████| 62/62 [00:26<00:00,  2.38it/s]"
     ]
    },
    {
     "name": "stdout",
     "output_type": "stream",
     "text": [
      "Domain loss,acc: 0.556587, 63.91% Target domain: tr_loss-0.967992, tr_acc-85.71%\n",
      "25,000c2dTruet10:86.25% | 25,000c3dFalset10:71.25%\n"
     ]
    },
    {
     "name": "stderr",
     "output_type": "stream",
     "text": [
      "\n",
      "epoch-94  lr=['0.0001000'], tr/val_loss:  0.322757/  0.984207, tr:  98.02%, val:  87.50%, val_best:  87.92%: 100%|██████████| 62/62 [00:26<00:00,  2.37it/s]"
     ]
    },
    {
     "name": "stdout",
     "output_type": "stream",
     "text": [
      "Domain loss,acc: 0.524967, 63.31% Target domain: tr_loss-0.929387, tr_acc-88.69%\n",
      "25,000c2dTruet10:87.50% | 25,000c3dFalset10:71.67%\n"
     ]
    },
    {
     "name": "stderr",
     "output_type": "stream",
     "text": [
      "\n",
      "epoch-95  lr=['0.0001000'], tr/val_loss:  0.309239/  0.966478, tr:  98.63%, val:  86.25%, val_best:  87.92%: 100%|██████████| 62/62 [00:26<00:00,  2.38it/s]"
     ]
    },
    {
     "name": "stdout",
     "output_type": "stream",
     "text": [
      "Domain loss,acc: 0.528941, 64.11% Target domain: tr_loss-0.968346, tr_acc-85.12%\n",
      "25,000c2dTruet10:86.25% | 25,000c3dFalset10:72.50%\n"
     ]
    },
    {
     "name": "stderr",
     "output_type": "stream",
     "text": [
      "\n",
      "epoch-96  lr=['0.0001000'], tr/val_loss:  0.310991/  0.969735, tr:  98.32%, val:  87.50%, val_best:  87.92%: 100%|██████████| 62/62 [00:25<00:00,  2.39it/s]"
     ]
    },
    {
     "name": "stdout",
     "output_type": "stream",
     "text": [
      "Domain loss,acc: 0.516429, 64.01% Target domain: tr_loss-0.927305, tr_acc-86.90%\n",
      "25,000c2dTruet10:87.50% | 25,000c3dFalset10:70.42%\n"
     ]
    },
    {
     "name": "stderr",
     "output_type": "stream",
     "text": [
      "\n",
      "epoch-97  lr=['0.0001000'], tr/val_loss:  0.317426/  0.982202, tr:  98.17%, val:  85.83%, val_best:  87.92%: 100%|██████████| 62/62 [00:25<00:00,  2.42it/s]"
     ]
    },
    {
     "name": "stdout",
     "output_type": "stream",
     "text": [
      "Domain loss,acc: 0.531069, 64.52% Target domain: tr_loss-0.958356, tr_acc-84.52%\n",
      "25,000c2dTruet10:85.83% | 25,000c3dFalset10:71.25%\n"
     ]
    },
    {
     "name": "stderr",
     "output_type": "stream",
     "text": [
      "\n",
      "epoch-98  lr=['0.0001000'], tr/val_loss:  0.305153/  0.986195, tr:  98.48%, val:  85.83%, val_best:  87.92%: 100%|██████████| 62/62 [00:25<00:00,  2.47it/s]"
     ]
    },
    {
     "name": "stdout",
     "output_type": "stream",
     "text": [
      "Domain loss,acc: 0.529758, 63.91% Target domain: tr_loss-0.978969, tr_acc-83.04%\n",
      "25,000c2dTruet10:85.83% | 25,000c3dFalset10:70.00%\n"
     ]
    },
    {
     "name": "stderr",
     "output_type": "stream",
     "text": [
      "\n",
      "epoch-99  lr=['0.0001000'], tr/val_loss:  0.288197/  0.967585, tr:  99.09%, val:  86.25%, val_best:  87.92%: 100%|██████████| 62/62 [00:25<00:00,  2.40it/s]"
     ]
    },
    {
     "name": "stdout",
     "output_type": "stream",
     "text": [
      "Domain loss,acc: 0.500436, 64.21% Target domain: tr_loss-0.924915, tr_acc-84.52%\n",
      "25,000c2dTruet10:86.25% | 25,000c3dFalset10:69.58%\n"
     ]
    },
    {
     "name": "stderr",
     "output_type": "stream",
     "text": [
      "\n",
      "epoch-100 lr=['0.0001000'], tr/val_loss:  0.293870/  0.977920, tr:  98.48%, val:  85.42%, val_best:  87.92%: 100%|██████████| 62/62 [00:25<00:00,  2.41it/s]"
     ]
    },
    {
     "name": "stdout",
     "output_type": "stream",
     "text": [
      "Domain loss,acc: 0.509238, 63.81% Target domain: tr_loss-0.939973, tr_acc-86.31%\n",
      "25,000c2dTruet10:85.42% | 25,000c3dFalset10:71.25%\n"
     ]
    },
    {
     "name": "stderr",
     "output_type": "stream",
     "text": [
      "\n",
      "epoch-101 lr=['0.0001000'], tr/val_loss:  0.280499/  0.967078, tr:  98.48%, val:  88.33%, val_best:  88.33%: 100%|██████████| 62/62 [00:25<00:00,  2.43it/s]"
     ]
    },
    {
     "name": "stdout",
     "output_type": "stream",
     "text": [
      "Domain loss,acc: 0.490229, 63.61% Target domain: tr_loss-0.909691, tr_acc-86.90%\n",
      "25,000c2dTruet10:88.33% | 25,000c3dFalset10:72.08%\n"
     ]
    },
    {
     "name": "stderr",
     "output_type": "stream",
     "text": [
      "\n",
      "epoch-102 lr=['0.0001000'], tr/val_loss:  0.269556/  0.964179, tr:  98.93%, val:  89.17%, val_best:  89.17%: 100%|██████████| 62/62 [00:24<00:00,  2.54it/s]"
     ]
    },
    {
     "name": "stdout",
     "output_type": "stream",
     "text": [
      "Domain loss,acc: 0.468868, 64.92% Target domain: tr_loss-0.867492, tr_acc-90.18%\n",
      "25,000c2dTruet10:89.17% | 25,000c3dFalset10:72.50%\n"
     ]
    },
    {
     "name": "stderr",
     "output_type": "stream",
     "text": [
      "\n",
      "epoch-103 lr=['0.0001000'], tr/val_loss:  0.294933/  0.963496, tr:  98.63%, val:  87.50%, val_best:  89.17%: 100%|██████████| 62/62 [00:25<00:00,  2.45it/s]"
     ]
    },
    {
     "name": "stdout",
     "output_type": "stream",
     "text": [
      "Domain loss,acc: 0.525360, 63.61% Target domain: tr_loss-0.986216, tr_acc-84.52%\n",
      "25,000c2dTruet10:87.50% | 25,000c3dFalset10:72.92%\n"
     ]
    },
    {
     "name": "stderr",
     "output_type": "stream",
     "text": [
      "\n",
      "epoch-104 lr=['0.0001000'], tr/val_loss:  0.271434/  0.990413, tr:  99.09%, val:  85.42%, val_best:  89.17%: 100%|██████████| 62/62 [00:24<00:00,  2.50it/s]"
     ]
    },
    {
     "name": "stdout",
     "output_type": "stream",
     "text": [
      "Domain loss,acc: 0.488568, 64.92% Target domain: tr_loss-0.922837, tr_acc-87.50%\n",
      "25,000c2dTruet10:85.42% | 25,000c3dFalset10:72.08%\n"
     ]
    },
    {
     "name": "stderr",
     "output_type": "stream",
     "text": [
      "\n",
      "epoch-105 lr=['0.0001000'], tr/val_loss:  0.265769/  0.968552, tr:  98.93%, val:  87.92%, val_best:  89.17%: 100%|██████████| 62/62 [00:25<00:00,  2.42it/s]"
     ]
    },
    {
     "name": "stdout",
     "output_type": "stream",
     "text": [
      "Domain loss,acc: 0.487094, 63.81% Target domain: tr_loss-0.929744, tr_acc-84.23%\n",
      "25,000c2dTruet10:87.92% | 25,000c3dFalset10:70.42%\n"
     ]
    },
    {
     "name": "stderr",
     "output_type": "stream",
     "text": [
      "\n",
      "epoch-106 lr=['0.0001000'], tr/val_loss:  0.264246/  0.983215, tr:  98.78%, val:  85.42%, val_best:  89.17%: 100%|██████████| 62/62 [00:25<00:00,  2.44it/s]"
     ]
    },
    {
     "name": "stdout",
     "output_type": "stream",
     "text": [
      "Domain loss,acc: 0.474701, 65.83% Target domain: tr_loss-0.895610, tr_acc-87.20%\n",
      "25,000c2dTruet10:85.42% | 25,000c3dFalset10:66.67%\n"
     ]
    },
    {
     "name": "stderr",
     "output_type": "stream",
     "text": [
      "\n",
      "epoch-107 lr=['0.0001000'], tr/val_loss:  0.251705/  0.966304, tr:  99.09%, val:  86.25%, val_best:  89.17%: 100%|██████████| 62/62 [00:25<00:00,  2.39it/s]"
     ]
    },
    {
     "name": "stdout",
     "output_type": "stream",
     "text": [
      "Domain loss,acc: 0.449013, 63.61% Target domain: tr_loss-0.843628, tr_acc-90.18%\n",
      "25,000c2dTruet10:86.25% | 25,000c3dFalset10:73.33%\n"
     ]
    },
    {
     "name": "stderr",
     "output_type": "stream",
     "text": [
      "\n",
      "epoch-108 lr=['0.0001000'], tr/val_loss:  0.264355/  0.971346, tr:  98.32%, val:  87.08%, val_best:  89.17%: 100%|██████████| 62/62 [00:25<00:00,  2.47it/s]"
     ]
    },
    {
     "name": "stdout",
     "output_type": "stream",
     "text": [
      "Domain loss,acc: 0.460487, 64.52% Target domain: tr_loss-0.852752, tr_acc-90.18%\n",
      "25,000c2dTruet10:87.08% | 25,000c3dFalset10:73.33%\n"
     ]
    },
    {
     "name": "stderr",
     "output_type": "stream",
     "text": [
      "\n",
      "epoch-109 lr=['0.0001000'], tr/val_loss:  0.250054/  0.957281, tr:  98.93%, val:  87.92%, val_best:  89.17%: 100%|██████████| 62/62 [00:25<00:00,  2.43it/s]"
     ]
    },
    {
     "name": "stdout",
     "output_type": "stream",
     "text": [
      "Domain loss,acc: 0.480553, 64.21% Target domain: tr_loss-0.941553, tr_acc-89.88%\n",
      "25,000c2dTruet10:87.92% | 25,000c3dFalset10:71.67%\n"
     ]
    },
    {
     "name": "stderr",
     "output_type": "stream",
     "text": [
      "\n",
      "epoch-110 lr=['0.0001000'], tr/val_loss:  0.251964/  0.970761, tr:  98.78%, val:  87.50%, val_best:  89.17%: 100%|██████████| 62/62 [00:25<00:00,  2.47it/s]"
     ]
    },
    {
     "name": "stdout",
     "output_type": "stream",
     "text": [
      "Domain loss,acc: 0.449081, 63.61% Target domain: tr_loss-0.843317, tr_acc-89.88%\n",
      "25,000c2dTruet10:87.50% | 25,000c3dFalset10:72.92%\n"
     ]
    },
    {
     "name": "stderr",
     "output_type": "stream",
     "text": [
      "\n",
      "epoch-111 lr=['0.0001000'], tr/val_loss:  0.248234/  0.981856, tr:  98.93%, val:  87.08%, val_best:  89.17%: 100%|██████████| 62/62 [00:25<00:00,  2.40it/s]"
     ]
    },
    {
     "name": "stdout",
     "output_type": "stream",
     "text": [
      "Domain loss,acc: 0.467963, 63.71% Target domain: tr_loss-0.907421, tr_acc-88.99%\n",
      "25,000c2dTruet10:87.08% | 25,000c3dFalset10:71.25%\n"
     ]
    },
    {
     "name": "stderr",
     "output_type": "stream",
     "text": [
      "\n",
      "epoch-112 lr=['0.0001000'], tr/val_loss:  0.245419/  0.977537, tr:  98.78%, val:  86.25%, val_best:  89.17%: 100%|██████████| 62/62 [00:25<00:00,  2.40it/s]"
     ]
    },
    {
     "name": "stdout",
     "output_type": "stream",
     "text": [
      "Domain loss,acc: 0.474510, 64.82% Target domain: tr_loss-0.932692, tr_acc-87.20%\n",
      "25,000c2dTruet10:86.25% | 25,000c3dFalset10:71.25%\n"
     ]
    },
    {
     "name": "stderr",
     "output_type": "stream",
     "text": [
      "\n",
      "epoch-113 lr=['0.0001000'], tr/val_loss:  0.239461/  0.975469, tr:  99.24%, val:  87.50%, val_best:  89.17%: 100%|██████████| 62/62 [00:25<00:00,  2.44it/s]"
     ]
    },
    {
     "name": "stdout",
     "output_type": "stream",
     "text": [
      "Domain loss,acc: 0.473917, 64.42% Target domain: tr_loss-0.942829, tr_acc-87.20%\n",
      "25,000c2dTruet10:87.50% | 25,000c3dFalset10:70.83%\n"
     ]
    },
    {
     "name": "stderr",
     "output_type": "stream",
     "text": [
      "\n",
      "epoch-114 lr=['0.0001000'], tr/val_loss:  0.237266/  0.977002, tr:  99.09%, val:  87.08%, val_best:  89.17%: 100%|██████████| 62/62 [00:25<00:00,  2.41it/s]"
     ]
    },
    {
     "name": "stdout",
     "output_type": "stream",
     "text": [
      "Domain loss,acc: 0.458888, 65.22% Target domain: tr_loss-0.902130, tr_acc-90.48%\n",
      "25,000c2dTruet10:87.08% | 25,000c3dFalset10:70.00%\n"
     ]
    },
    {
     "name": "stderr",
     "output_type": "stream",
     "text": [
      "\n",
      "epoch-115 lr=['0.0001000'], tr/val_loss:  0.229738/  0.967346, tr:  98.93%, val:  87.08%, val_best:  89.17%: 100%|██████████| 62/62 [00:26<00:00,  2.37it/s]"
     ]
    },
    {
     "name": "stdout",
     "output_type": "stream",
     "text": [
      "Domain loss,acc: 0.451998, 65.12% Target domain: tr_loss-0.896519, tr_acc-87.80%\n",
      "25,000c2dTruet10:87.08% | 25,000c3dFalset10:70.83%\n"
     ]
    },
    {
     "name": "stderr",
     "output_type": "stream",
     "text": [
      "\n",
      "epoch-116 lr=['0.0001000'], tr/val_loss:  0.228654/  0.977480, tr:  99.09%, val:  87.50%, val_best:  89.17%: 100%|██████████| 62/62 [00:25<00:00,  2.41it/s]"
     ]
    },
    {
     "name": "stdout",
     "output_type": "stream",
     "text": [
      "Domain loss,acc: 0.454464, 65.22% Target domain: tr_loss-0.906082, tr_acc-87.50%\n",
      "25,000c2dTruet10:87.50% | 25,000c3dFalset10:70.42%\n"
     ]
    },
    {
     "name": "stderr",
     "output_type": "stream",
     "text": [
      "\n",
      "epoch-117 lr=['0.0001000'], tr/val_loss:  0.222017/  0.969452, tr:  99.54%, val:  86.25%, val_best:  89.17%: 100%|██████████| 62/62 [00:25<00:00,  2.41it/s]"
     ]
    },
    {
     "name": "stdout",
     "output_type": "stream",
     "text": [
      "Domain loss,acc: 0.455629, 64.52% Target domain: tr_loss-0.922853, tr_acc-90.18%\n",
      "25,000c2dTruet10:86.25% | 25,000c3dFalset10:72.92%\n"
     ]
    },
    {
     "name": "stderr",
     "output_type": "stream",
     "text": [
      "\n",
      "epoch-118 lr=['0.0001000'], tr/val_loss:  0.228926/  0.983430, tr:  98.78%, val:  88.33%, val_best:  89.17%: 100%|██████████| 62/62 [00:26<00:00,  2.36it/s]"
     ]
    },
    {
     "name": "stdout",
     "output_type": "stream",
     "text": [
      "Domain loss,acc: 0.460166, 64.92% Target domain: tr_loss-0.922647, tr_acc-88.39%\n",
      "25,000c2dTruet10:88.33% | 25,000c3dFalset10:71.67%\n"
     ]
    },
    {
     "name": "stderr",
     "output_type": "stream",
     "text": [
      "\n",
      "epoch-119 lr=['0.0001000'], tr/val_loss:  0.225046/  0.971532, tr:  99.39%, val:  87.50%, val_best:  89.17%: 100%|██████████| 62/62 [00:27<00:00,  2.23it/s]"
     ]
    },
    {
     "name": "stdout",
     "output_type": "stream",
     "text": [
      "Domain loss,acc: 0.444184, 64.62% Target domain: tr_loss-0.882459, tr_acc-88.10%\n",
      "25,000c2dTruet10:87.50% | 25,000c3dFalset10:72.08%\n"
     ]
    },
    {
     "name": "stderr",
     "output_type": "stream",
     "text": [
      "\n",
      "epoch-120 lr=['0.0001000'], tr/val_loss:  0.216423/  0.979318, tr:  99.39%, val:  87.08%, val_best:  89.17%: 100%|██████████| 62/62 [00:27<00:00,  2.27it/s]"
     ]
    },
    {
     "name": "stdout",
     "output_type": "stream",
     "text": [
      "Domain loss,acc: 0.448515, 64.11% Target domain: tr_loss-0.912699, tr_acc-89.29%\n",
      "25,000c2dTruet10:87.08% | 25,000c3dFalset10:72.08%\n"
     ]
    },
    {
     "name": "stderr",
     "output_type": "stream",
     "text": [
      "\n",
      "epoch-121 lr=['0.0001000'], tr/val_loss:  0.216325/  0.983588, tr:  99.39%, val:  88.33%, val_best:  89.17%: 100%|██████████| 62/62 [00:25<00:00,  2.40it/s]"
     ]
    },
    {
     "name": "stdout",
     "output_type": "stream",
     "text": [
      "Domain loss,acc: 0.436803, 64.62% Target domain: tr_loss-0.877759, tr_acc-89.58%\n",
      "25,000c2dTruet10:88.33% | 25,000c3dFalset10:72.92%\n"
     ]
    },
    {
     "name": "stderr",
     "output_type": "stream",
     "text": [
      "\n",
      "epoch-122 lr=['0.0001000'], tr/val_loss:  0.209051/  0.984357, tr:  99.54%, val:  87.50%, val_best:  89.17%: 100%|██████████| 62/62 [00:25<00:00,  2.40it/s]"
     ]
    },
    {
     "name": "stdout",
     "output_type": "stream",
     "text": [
      "Domain loss,acc: 0.435985, 63.91% Target domain: tr_loss-0.889853, tr_acc-90.77%\n",
      "25,000c2dTruet10:87.50% | 25,000c3dFalset10:72.50%\n"
     ]
    },
    {
     "name": "stderr",
     "output_type": "stream",
     "text": [
      "\n",
      "epoch-123 lr=['0.0001000'], tr/val_loss:  0.207229/  0.992552, tr:  99.39%, val:  86.67%, val_best:  89.17%: 100%|██████████| 62/62 [00:25<00:00,  2.41it/s]"
     ]
    },
    {
     "name": "stdout",
     "output_type": "stream",
     "text": [
      "Domain loss,acc: 0.446350, 64.01% Target domain: tr_loss-0.924591, tr_acc-86.31%\n",
      "25,000c2dTruet10:86.67% | 25,000c3dFalset10:73.33%\n"
     ]
    },
    {
     "name": "stderr",
     "output_type": "stream",
     "text": [
      "\n",
      "epoch-124 lr=['0.0001000'], tr/val_loss:  0.195166/  0.989409, tr:  99.24%, val:  86.67%, val_best:  89.17%: 100%|██████████| 62/62 [00:25<00:00,  2.48it/s]"
     ]
    },
    {
     "name": "stdout",
     "output_type": "stream",
     "text": [
      "Domain loss,acc: 0.435387, 65.22% Target domain: tr_loss-0.915828, tr_acc-88.10%\n",
      "25,000c2dTruet10:86.67% | 25,000c3dFalset10:72.92%\n"
     ]
    },
    {
     "name": "stderr",
     "output_type": "stream",
     "text": [
      "\n",
      "epoch-125 lr=['0.0001000'], tr/val_loss:  0.195405/  0.992438, tr:  99.39%, val:  87.08%, val_best:  89.17%: 100%|██████████| 62/62 [00:25<00:00,  2.44it/s]"
     ]
    },
    {
     "name": "stdout",
     "output_type": "stream",
     "text": [
      "Domain loss,acc: 0.447973, 64.92% Target domain: tr_loss-0.953110, tr_acc-87.20%\n",
      "25,000c2dTruet10:87.08% | 25,000c3dFalset10:71.67%\n"
     ]
    },
    {
     "name": "stderr",
     "output_type": "stream",
     "text": [
      "\n",
      "epoch-126 lr=['0.0001000'], tr/val_loss:  0.204939/  1.002191, tr:  99.24%, val:  86.25%, val_best:  89.17%: 100%|██████████| 62/62 [00:25<00:00,  2.42it/s]"
     ]
    },
    {
     "name": "stdout",
     "output_type": "stream",
     "text": [
      "Domain loss,acc: 0.435729, 64.31% Target domain: tr_loss-0.897309, tr_acc-87.50%\n",
      "25,000c2dTruet10:86.25% | 25,000c3dFalset10:72.08%\n"
     ]
    },
    {
     "name": "stderr",
     "output_type": "stream",
     "text": [
      "\n",
      "epoch-127 lr=['0.0001000'], tr/val_loss:  0.187933/  0.975286, tr:  99.54%, val:  88.75%, val_best:  89.17%: 100%|██████████| 62/62 [00:25<00:00,  2.41it/s]"
     ]
    },
    {
     "name": "stdout",
     "output_type": "stream",
     "text": [
      "Domain loss,acc: 0.418796, 64.21% Target domain: tr_loss-0.880521, tr_acc-88.69%\n",
      "25,000c2dTruet10:88.75% | 25,000c3dFalset10:72.92%\n"
     ]
    },
    {
     "name": "stderr",
     "output_type": "stream",
     "text": [
      "\n",
      "epoch-128 lr=['0.0001000'], tr/val_loss:  0.186807/  0.990813, tr:  99.24%, val:  87.50%, val_best:  89.17%: 100%|██████████| 62/62 [00:25<00:00,  2.41it/s]"
     ]
    },
    {
     "name": "stdout",
     "output_type": "stream",
     "text": [
      "Domain loss,acc: 0.418755, 64.31% Target domain: tr_loss-0.882652, tr_acc-89.29%\n",
      "25,000c2dTruet10:87.50% | 25,000c3dFalset10:73.75%\n"
     ]
    },
    {
     "name": "stderr",
     "output_type": "stream",
     "text": [
      "\n",
      "epoch-129 lr=['0.0001000'], tr/val_loss:  0.188853/  1.004111, tr:  99.39%, val:  86.25%, val_best:  89.17%: 100%|██████████| 62/62 [00:25<00:00,  2.44it/s]"
     ]
    },
    {
     "name": "stdout",
     "output_type": "stream",
     "text": [
      "Domain loss,acc: 0.401680, 64.62% Target domain: tr_loss-0.827336, tr_acc-94.05%\n",
      "25,000c2dTruet10:86.25% | 25,000c3dFalset10:72.92%\n"
     ]
    },
    {
     "name": "stderr",
     "output_type": "stream",
     "text": [
      "\n",
      "epoch-130 lr=['0.0001000'], tr/val_loss:  0.181254/  1.000576, tr:  99.54%, val:  85.42%, val_best:  89.17%: 100%|██████████| 62/62 [00:25<00:00,  2.40it/s]"
     ]
    },
    {
     "name": "stdout",
     "output_type": "stream",
     "text": [
      "Domain loss,acc: 0.408547, 65.93% Target domain: tr_loss-0.863134, tr_acc-89.88%\n",
      "25,000c2dTruet10:85.42% | 25,000c3dFalset10:75.00%\n"
     ]
    },
    {
     "name": "stderr",
     "output_type": "stream",
     "text": [
      "\n",
      "epoch-131 lr=['0.0001000'], tr/val_loss:  0.195246/  0.993527, tr:  99.09%, val:  87.50%, val_best:  89.17%: 100%|██████████| 62/62 [00:25<00:00,  2.41it/s]"
     ]
    },
    {
     "name": "stdout",
     "output_type": "stream",
     "text": [
      "Domain loss,acc: 0.433138, 64.52% Target domain: tr_loss-0.908923, tr_acc-89.88%\n",
      "25,000c2dTruet10:87.50% | 25,000c3dFalset10:72.50%\n"
     ]
    },
    {
     "name": "stderr",
     "output_type": "stream",
     "text": [
      "\n",
      "epoch-132 lr=['0.0001000'], tr/val_loss:  0.168841/  0.990669, tr:  99.39%, val:  87.50%, val_best:  89.17%: 100%|██████████| 62/62 [00:25<00:00,  2.47it/s]"
     ]
    },
    {
     "name": "stdout",
     "output_type": "stream",
     "text": [
      "Domain loss,acc: 0.415025, 64.82% Target domain: tr_loss-0.907392, tr_acc-91.37%\n",
      "25,000c2dTruet10:87.50% | 25,000c3dFalset10:72.50%\n"
     ]
    },
    {
     "name": "stderr",
     "output_type": "stream",
     "text": [
      "\n",
      "epoch-133 lr=['0.0001000'], tr/val_loss:  0.175173/  1.002024, tr:  99.54%, val:  86.67%, val_best:  89.17%: 100%|██████████| 62/62 [00:25<00:00,  2.41it/s]"
     ]
    },
    {
     "name": "stdout",
     "output_type": "stream",
     "text": [
      "Domain loss,acc: 0.390045, 64.72% Target domain: tr_loss-0.819788, tr_acc-90.18%\n",
      "25,000c2dTruet10:86.67% | 25,000c3dFalset10:72.08%\n"
     ]
    },
    {
     "name": "stderr",
     "output_type": "stream",
     "text": [
      "\n",
      "epoch-134 lr=['0.0001000'], tr/val_loss:  0.177252/  0.989668, tr:  99.70%, val:  88.33%, val_best:  89.17%: 100%|██████████| 62/62 [00:25<00:00,  2.39it/s]"
     ]
    },
    {
     "name": "stdout",
     "output_type": "stream",
     "text": [
      "Domain loss,acc: 0.408567, 65.02% Target domain: tr_loss-0.871197, tr_acc-88.99%\n",
      "25,000c2dTruet10:88.33% | 25,000c3dFalset10:70.83%\n"
     ]
    },
    {
     "name": "stderr",
     "output_type": "stream",
     "text": [
      "\n",
      "epoch-135 lr=['0.0001000'], tr/val_loss:  0.161605/  1.000659, tr: 100.00%, val:  86.67%, val_best:  89.17%: 100%|██████████| 62/62 [00:25<00:00,  2.47it/s]"
     ]
    },
    {
     "name": "stdout",
     "output_type": "stream",
     "text": [
      "Domain loss,acc: 0.399043, 65.32% Target domain: tr_loss-0.873917, tr_acc-90.18%\n",
      "25,000c2dTruet10:86.67% | 25,000c3dFalset10:70.83%\n"
     ]
    },
    {
     "name": "stderr",
     "output_type": "stream",
     "text": [
      "\n",
      "epoch-136 lr=['0.0001000'], tr/val_loss:  0.177228/  1.017205, tr:  99.39%, val:  85.00%, val_best:  89.17%: 100%|██████████| 62/62 [00:25<00:00,  2.42it/s]"
     ]
    },
    {
     "name": "stdout",
     "output_type": "stream",
     "text": [
      "Domain loss,acc: 0.414230, 64.31% Target domain: tr_loss-0.888235, tr_acc-89.88%\n",
      "25,000c2dTruet10:85.00% | 25,000c3dFalset10:72.92%\n"
     ]
    },
    {
     "name": "stderr",
     "output_type": "stream",
     "text": [
      "\n",
      "epoch-137 lr=['0.0001000'], tr/val_loss:  0.173402/  1.019256, tr:  99.54%, val:  86.67%, val_best:  89.17%: 100%|██████████| 62/62 [00:25<00:00,  2.47it/s]"
     ]
    },
    {
     "name": "stdout",
     "output_type": "stream",
     "text": [
      "Domain loss,acc: 0.422514, 63.91% Target domain: tr_loss-0.920739, tr_acc-89.88%\n",
      "25,000c2dTruet10:86.67% | 25,000c3dFalset10:71.67%\n"
     ]
    },
    {
     "name": "stderr",
     "output_type": "stream",
     "text": [
      "\n",
      "epoch-138 lr=['0.0001000'], tr/val_loss:  0.164327/  1.015235, tr:  99.85%, val:  86.25%, val_best:  89.17%: 100%|██████████| 62/62 [00:25<00:00,  2.45it/s]"
     ]
    },
    {
     "name": "stdout",
     "output_type": "stream",
     "text": [
      "Domain loss,acc: 0.414755, 65.12% Target domain: tr_loss-0.915610, tr_acc-90.18%\n",
      "25,000c2dTruet10:86.25% | 25,000c3dFalset10:71.67%\n"
     ]
    },
    {
     "name": "stderr",
     "output_type": "stream",
     "text": [
      "\n",
      "epoch-139 lr=['0.0001000'], tr/val_loss:  0.164129/  1.008161, tr:  99.70%, val:  87.08%, val_best:  89.17%: 100%|██████████| 62/62 [00:25<00:00,  2.45it/s]"
     ]
    },
    {
     "name": "stdout",
     "output_type": "stream",
     "text": [
      "Domain loss,acc: 0.392442, 64.82% Target domain: tr_loss-0.849069, tr_acc-91.67%\n",
      "25,000c2dTruet10:87.08% | 25,000c3dFalset10:72.92%\n"
     ]
    },
    {
     "name": "stderr",
     "output_type": "stream",
     "text": [
      "\n",
      "epoch-140 lr=['0.0001000'], tr/val_loss:  0.154199/  1.020798, tr:  99.70%, val:  87.08%, val_best:  89.17%: 100%|██████████| 62/62 [00:25<00:00,  2.42it/s]"
     ]
    },
    {
     "name": "stdout",
     "output_type": "stream",
     "text": [
      "Domain loss,acc: 0.390148, 64.42% Target domain: tr_loss-0.862046, tr_acc-91.07%\n",
      "25,000c2dTruet10:87.08% | 25,000c3dFalset10:71.67%\n"
     ]
    },
    {
     "name": "stderr",
     "output_type": "stream",
     "text": [
      "\n",
      "epoch-141 lr=['0.0001000'], tr/val_loss:  0.165656/  1.027950, tr:  99.39%, val:  85.42%, val_best:  89.17%: 100%|██████████| 62/62 [00:25<00:00,  2.42it/s]"
     ]
    },
    {
     "name": "stdout",
     "output_type": "stream",
     "text": [
      "Domain loss,acc: 0.410289, 62.50% Target domain: tr_loss-0.899555, tr_acc-90.77%\n",
      "25,000c2dTruet10:85.42% | 25,000c3dFalset10:71.67%\n"
     ]
    },
    {
     "name": "stderr",
     "output_type": "stream",
     "text": [
      "\n",
      "epoch-142 lr=['0.0001000'], tr/val_loss:  0.156337/  1.017219, tr:  99.54%, val:  85.83%, val_best:  89.17%: 100%|██████████| 62/62 [00:25<00:00,  2.42it/s]"
     ]
    },
    {
     "name": "stdout",
     "output_type": "stream",
     "text": [
      "Domain loss,acc: 0.425504, 65.32% Target domain: tr_loss-0.963838, tr_acc-86.61%\n",
      "25,000c2dTruet10:85.83% | 25,000c3dFalset10:72.08%\n"
     ]
    },
    {
     "name": "stderr",
     "output_type": "stream",
     "text": [
      "\n",
      "epoch-143 lr=['0.0001000'], tr/val_loss:  0.153073/  1.023932, tr:  99.24%, val:  86.25%, val_best:  89.17%: 100%|██████████| 62/62 [00:25<00:00,  2.41it/s]"
     ]
    },
    {
     "name": "stdout",
     "output_type": "stream",
     "text": [
      "Domain loss,acc: 0.403079, 66.33% Target domain: tr_loss-0.903091, tr_acc-90.77%\n",
      "25,000c2dTruet10:86.25% | 25,000c3dFalset10:71.25%\n"
     ]
    },
    {
     "name": "stderr",
     "output_type": "stream",
     "text": [
      "\n",
      "epoch-144 lr=['0.0001000'], tr/val_loss:  0.147473/  1.024024, tr:  99.70%, val:  86.67%, val_best:  89.17%: 100%|██████████| 62/62 [00:26<00:00,  2.37it/s]"
     ]
    },
    {
     "name": "stdout",
     "output_type": "stream",
     "text": [
      "Domain loss,acc: 0.393655, 64.42% Target domain: tr_loss-0.886019, tr_acc-91.96%\n",
      "25,000c2dTruet10:86.67% | 25,000c3dFalset10:71.25%\n"
     ]
    },
    {
     "name": "stderr",
     "output_type": "stream",
     "text": [
      "\n",
      "epoch-145 lr=['0.0001000'], tr/val_loss:  0.147841/  1.020373, tr:  99.70%, val:  86.25%, val_best:  89.17%: 100%|██████████| 62/62 [00:25<00:00,  2.43it/s]"
     ]
    },
    {
     "name": "stdout",
     "output_type": "stream",
     "text": [
      "Domain loss,acc: 0.401278, 64.82% Target domain: tr_loss-0.908152, tr_acc-88.99%\n",
      "25,000c2dTruet10:86.25% | 25,000c3dFalset10:72.08%\n"
     ]
    },
    {
     "name": "stderr",
     "output_type": "stream",
     "text": [
      "\n",
      "epoch-146 lr=['0.0001000'], tr/val_loss:  0.143085/  1.030647, tr:  99.70%, val:  86.67%, val_best:  89.17%: 100%|██████████| 62/62 [00:25<00:00,  2.41it/s]"
     ]
    },
    {
     "name": "stdout",
     "output_type": "stream",
     "text": [
      "Domain loss,acc: 0.408736, 64.92% Target domain: tr_loss-0.940037, tr_acc-88.10%\n",
      "25,000c2dTruet10:86.67% | 25,000c3dFalset10:71.25%\n"
     ]
    },
    {
     "name": "stderr",
     "output_type": "stream",
     "text": [
      "\n",
      "epoch-147 lr=['0.0001000'], tr/val_loss:  0.150375/  1.022628, tr: 100.00%, val:  88.33%, val_best:  89.17%: 100%|██████████| 62/62 [00:25<00:00,  2.42it/s]"
     ]
    },
    {
     "name": "stdout",
     "output_type": "stream",
     "text": [
      "Domain loss,acc: 0.390683, 65.02% Target domain: tr_loss-0.871300, tr_acc-91.67%\n",
      "25,000c2dTruet10:88.33% | 25,000c3dFalset10:72.50%\n"
     ]
    },
    {
     "name": "stderr",
     "output_type": "stream",
     "text": [
      "\n",
      "epoch-148 lr=['0.0001000'], tr/val_loss:  0.150049/  1.025700, tr:  99.85%, val:  87.50%, val_best:  89.17%: 100%|██████████| 62/62 [00:25<00:00,  2.43it/s]"
     ]
    },
    {
     "name": "stdout",
     "output_type": "stream",
     "text": [
      "Domain loss,acc: 0.391297, 65.73% Target domain: tr_loss-0.873793, tr_acc-89.58%\n",
      "25,000c2dTruet10:87.50% | 25,000c3dFalset10:71.25%\n"
     ]
    },
    {
     "name": "stderr",
     "output_type": "stream",
     "text": [
      "\n",
      "epoch-149 lr=['0.0001000'], tr/val_loss:  0.136316/  1.037883, tr:  99.85%, val:  85.00%, val_best:  89.17%: 100%|██████████| 62/62 [00:25<00:00,  2.41it/s]"
     ]
    },
    {
     "name": "stdout",
     "output_type": "stream",
     "text": [
      "Domain loss,acc: 0.378941, 64.62% Target domain: tr_loss-0.864192, tr_acc-91.37%\n",
      "25,000c2dTruet10:85.00% | 25,000c3dFalset10:70.42%\n"
     ]
    },
    {
     "name": "stderr",
     "output_type": "stream",
     "text": [
      "\n",
      "epoch-150 lr=['0.0001000'], tr/val_loss:  0.137827/  1.037779, tr: 100.00%, val:  85.83%, val_best:  89.17%: 100%|██████████| 62/62 [00:24<00:00,  2.49it/s]"
     ]
    },
    {
     "name": "stdout",
     "output_type": "stream",
     "text": [
      "Domain loss,acc: 0.398517, 65.02% Target domain: tr_loss-0.919897, tr_acc-90.48%\n",
      "25,000c2dTruet10:85.83% | 25,000c3dFalset10:72.50%\n"
     ]
    },
    {
     "name": "stderr",
     "output_type": "stream",
     "text": [
      "\n",
      "epoch-151 lr=['0.0001000'], tr/val_loss:  0.140419/  1.033737, tr: 100.00%, val:  86.67%, val_best:  89.17%: 100%|██████████| 62/62 [00:25<00:00,  2.41it/s]"
     ]
    },
    {
     "name": "stdout",
     "output_type": "stream",
     "text": [
      "Domain loss,acc: 0.400777, 63.71% Target domain: tr_loss-0.921493, tr_acc-90.48%\n",
      "25,000c2dTruet10:86.67% | 25,000c3dFalset10:72.08%\n"
     ]
    },
    {
     "name": "stderr",
     "output_type": "stream",
     "text": [
      "\n",
      "epoch-152 lr=['0.0001000'], tr/val_loss:  0.144506/  1.026993, tr:  99.70%, val:  86.25%, val_best:  89.17%: 100%|██████████| 62/62 [00:26<00:00,  2.38it/s]"
     ]
    },
    {
     "name": "stdout",
     "output_type": "stream",
     "text": [
      "Domain loss,acc: 0.374843, 65.32% Target domain: tr_loss-0.835517, tr_acc-91.67%\n",
      "25,000c2dTruet10:86.25% | 25,000c3dFalset10:72.50%\n"
     ]
    },
    {
     "name": "stderr",
     "output_type": "stream",
     "text": [
      "\n",
      "epoch-153 lr=['0.0001000'], tr/val_loss:  0.129742/  1.037295, tr: 100.00%, val:  88.33%, val_best:  89.17%: 100%|██████████| 62/62 [00:25<00:00,  2.40it/s]"
     ]
    },
    {
     "name": "stdout",
     "output_type": "stream",
     "text": [
      "Domain loss,acc: 0.382534, 64.72% Target domain: tr_loss-0.888119, tr_acc-91.07%\n",
      "25,000c2dTruet10:88.33% | 25,000c3dFalset10:72.08%\n"
     ]
    },
    {
     "name": "stderr",
     "output_type": "stream",
     "text": [
      "\n",
      "epoch-154 lr=['0.0001000'], tr/val_loss:  0.132312/  1.035304, tr:  99.85%, val:  87.50%, val_best:  89.17%: 100%|██████████| 62/62 [00:25<00:00,  2.44it/s]"
     ]
    },
    {
     "name": "stdout",
     "output_type": "stream",
     "text": [
      "Domain loss,acc: 0.384444, 65.52% Target domain: tr_loss-0.888709, tr_acc-88.99%\n",
      "25,000c2dTruet10:87.50% | 25,000c3dFalset10:72.08%\n"
     ]
    },
    {
     "name": "stderr",
     "output_type": "stream",
     "text": [
      "\n",
      "epoch-155 lr=['0.0001000'], tr/val_loss:  0.128368/  1.029734, tr:  99.85%, val:  85.83%, val_best:  89.17%: 100%|██████████| 62/62 [00:25<00:00,  2.43it/s]"
     ]
    },
    {
     "name": "stdout",
     "output_type": "stream",
     "text": [
      "Domain loss,acc: 0.382201, 63.81% Target domain: tr_loss-0.889868, tr_acc-91.37%\n",
      "25,000c2dTruet10:85.83% | 25,000c3dFalset10:72.92%\n"
     ]
    },
    {
     "name": "stderr",
     "output_type": "stream",
     "text": [
      "\n",
      "epoch-156 lr=['0.0001000'], tr/val_loss:  0.117240/  1.042475, tr:  99.85%, val:  86.25%, val_best:  89.17%: 100%|██████████| 62/62 [00:25<00:00,  2.43it/s]"
     ]
    },
    {
     "name": "stdout",
     "output_type": "stream",
     "text": [
      "Domain loss,acc: 0.360957, 64.82% Target domain: tr_loss-0.848392, tr_acc-94.05%\n",
      "25,000c2dTruet10:86.25% | 25,000c3dFalset10:72.50%\n"
     ]
    },
    {
     "name": "stderr",
     "output_type": "stream",
     "text": [
      "\n",
      "epoch-157 lr=['0.0001000'], tr/val_loss:  0.129390/  1.043384, tr: 100.00%, val:  87.92%, val_best:  89.17%: 100%|██████████| 62/62 [00:25<00:00,  2.43it/s]"
     ]
    },
    {
     "name": "stdout",
     "output_type": "stream",
     "text": [
      "Domain loss,acc: 0.385568, 66.83% Target domain: tr_loss-0.897925, tr_acc-91.37%\n",
      "25,000c2dTruet10:87.92% | 25,000c3dFalset10:72.92%\n"
     ]
    },
    {
     "name": "stderr",
     "output_type": "stream",
     "text": [
      "\n",
      "epoch-158 lr=['0.0001000'], tr/val_loss:  0.125014/  1.046447, tr: 100.00%, val:  88.33%, val_best:  89.17%: 100%|██████████| 62/62 [00:25<00:00,  2.40it/s]"
     ]
    },
    {
     "name": "stdout",
     "output_type": "stream",
     "text": [
      "Domain loss,acc: 0.383153, 63.81% Target domain: tr_loss-0.899431, tr_acc-89.58%\n",
      "25,000c2dTruet10:88.33% | 25,000c3dFalset10:72.08%\n"
     ]
    },
    {
     "name": "stderr",
     "output_type": "stream",
     "text": [
      "\n",
      "epoch-159 lr=['0.0001000'], tr/val_loss:  0.118158/  1.035176, tr: 100.00%, val:  87.08%, val_best:  89.17%: 100%|██████████| 62/62 [00:26<00:00,  2.38it/s]"
     ]
    },
    {
     "name": "stdout",
     "output_type": "stream",
     "text": [
      "Domain loss,acc: 0.382144, 65.02% Target domain: tr_loss-0.910116, tr_acc-89.88%\n",
      "25,000c2dTruet10:87.08% | 25,000c3dFalset10:72.92%\n"
     ]
    },
    {
     "name": "stderr",
     "output_type": "stream",
     "text": [
      "\n",
      "epoch-160 lr=['0.0001000'], tr/val_loss:  0.116382/  1.046853, tr: 100.00%, val:  86.67%, val_best:  89.17%: 100%|██████████| 62/62 [00:26<00:00,  2.36it/s]"
     ]
    },
    {
     "name": "stdout",
     "output_type": "stream",
     "text": [
      "Domain loss,acc: 0.364274, 64.42% Target domain: tr_loss-0.860058, tr_acc-91.37%\n",
      "25,000c2dTruet10:86.67% | 25,000c3dFalset10:73.33%\n"
     ]
    },
    {
     "name": "stderr",
     "output_type": "stream",
     "text": [
      "\n",
      "epoch-161 lr=['0.0001000'], tr/val_loss:  0.121005/  1.027308, tr: 100.00%, val:  88.33%, val_best:  89.17%: 100%|██████████| 62/62 [00:25<00:00,  2.41it/s]"
     ]
    },
    {
     "name": "stdout",
     "output_type": "stream",
     "text": [
      "Domain loss,acc: 0.392344, 64.01% Target domain: tr_loss-0.935022, tr_acc-89.88%\n",
      "25,000c2dTruet10:88.33% | 25,000c3dFalset10:73.33%\n"
     ]
    },
    {
     "name": "stderr",
     "output_type": "stream",
     "text": [
      "\n",
      "epoch-162 lr=['0.0001000'], tr/val_loss:  0.120451/  1.030526, tr: 100.00%, val:  87.92%, val_best:  89.17%: 100%|██████████| 62/62 [00:25<00:00,  2.41it/s]"
     ]
    },
    {
     "name": "stdout",
     "output_type": "stream",
     "text": [
      "Domain loss,acc: 0.403063, 64.01% Target domain: tr_loss-0.968287, tr_acc-91.07%\n",
      "25,000c2dTruet10:87.92% | 25,000c3dFalset10:72.50%\n"
     ]
    },
    {
     "name": "stderr",
     "output_type": "stream",
     "text": [
      "\n",
      "epoch-163 lr=['0.0001000'], tr/val_loss:  0.115683/  1.031129, tr: 100.00%, val:  88.33%, val_best:  89.17%: 100%|██████████| 62/62 [00:25<00:00,  2.44it/s]"
     ]
    },
    {
     "name": "stdout",
     "output_type": "stream",
     "text": [
      "Domain loss,acc: 0.390619, 64.92% Target domain: tr_loss-0.940491, tr_acc-90.48%\n",
      "25,000c2dTruet10:88.33% | 25,000c3dFalset10:73.33%\n"
     ]
    },
    {
     "name": "stderr",
     "output_type": "stream",
     "text": [
      "\n",
      "epoch-164 lr=['0.0001000'], tr/val_loss:  0.115640/  1.037322, tr: 100.00%, val:  87.92%, val_best:  89.17%: 100%|██████████| 62/62 [00:25<00:00,  2.41it/s]"
     ]
    },
    {
     "name": "stdout",
     "output_type": "stream",
     "text": [
      "Domain loss,acc: 0.373449, 64.31% Target domain: tr_loss-0.889065, tr_acc-92.56%\n",
      "25,000c2dTruet10:87.92% | 25,000c3dFalset10:73.75%\n"
     ]
    },
    {
     "name": "stderr",
     "output_type": "stream",
     "text": [
      "\n",
      "epoch-165 lr=['0.0001000'], tr/val_loss:  0.107390/  1.042640, tr: 100.00%, val:  86.25%, val_best:  89.17%: 100%|██████████| 62/62 [00:25<00:00,  2.42it/s]"
     ]
    },
    {
     "name": "stdout",
     "output_type": "stream",
     "text": [
      "Domain loss,acc: 0.342403, 65.73% Target domain: tr_loss-0.812428, tr_acc-93.15%\n",
      "25,000c2dTruet10:86.25% | 25,000c3dFalset10:73.75%\n"
     ]
    },
    {
     "name": "stderr",
     "output_type": "stream",
     "text": [
      "\n",
      "epoch-166 lr=['0.0001000'], tr/val_loss:  0.117375/  1.048237, tr: 100.00%, val:  87.92%, val_best:  89.17%: 100%|██████████| 62/62 [00:25<00:00,  2.44it/s]"
     ]
    },
    {
     "name": "stdout",
     "output_type": "stream",
     "text": [
      "Domain loss,acc: 0.389970, 66.23% Target domain: tr_loss-0.935161, tr_acc-90.18%\n",
      "25,000c2dTruet10:87.92% | 25,000c3dFalset10:72.08%\n"
     ]
    },
    {
     "name": "stderr",
     "output_type": "stream",
     "text": [
      "\n",
      "epoch-167 lr=['0.0001000'], tr/val_loss:  0.105682/  1.047707, tr: 100.00%, val:  88.75%, val_best:  89.17%: 100%|██████████| 62/62 [00:25<00:00,  2.41it/s]"
     ]
    },
    {
     "name": "stdout",
     "output_type": "stream",
     "text": [
      "Domain loss,acc: 0.365397, 65.02% Target domain: tr_loss-0.884827, tr_acc-92.56%\n",
      "25,000c2dTruet10:88.75% | 25,000c3dFalset10:73.33%\n"
     ]
    },
    {
     "name": "stderr",
     "output_type": "stream",
     "text": [
      "\n",
      "epoch-168 lr=['0.0001000'], tr/val_loss:  0.113734/  1.055976, tr: 100.00%, val:  88.33%, val_best:  89.17%: 100%|██████████| 62/62 [00:25<00:00,  2.41it/s]"
     ]
    },
    {
     "name": "stdout",
     "output_type": "stream",
     "text": [
      "Domain loss,acc: 0.347906, 66.03% Target domain: tr_loss-0.816252, tr_acc-91.67%\n",
      "25,000c2dTruet10:88.33% | 25,000c3dFalset10:73.75%\n"
     ]
    },
    {
     "name": "stderr",
     "output_type": "stream",
     "text": [
      "\n",
      "epoch-169 lr=['0.0001000'], tr/val_loss:  0.110014/  1.036912, tr: 100.00%, val:  88.33%, val_best:  89.17%: 100%|██████████| 62/62 [00:25<00:00,  2.45it/s]"
     ]
    },
    {
     "name": "stdout",
     "output_type": "stream",
     "text": [
      "Domain loss,acc: 0.350108, 64.92% Target domain: tr_loss-0.830298, tr_acc-93.75%\n",
      "25,000c2dTruet10:88.33% | 25,000c3dFalset10:74.58%\n"
     ]
    },
    {
     "name": "stderr",
     "output_type": "stream",
     "text": [
      "\n",
      "epoch-170 lr=['0.0001000'], tr/val_loss:  0.105557/  1.055835, tr: 100.00%, val:  87.50%, val_best:  89.17%: 100%|██████████| 62/62 [00:25<00:00,  2.41it/s]"
     ]
    },
    {
     "name": "stdout",
     "output_type": "stream",
     "text": [
      "Domain loss,acc: 0.366559, 64.42% Target domain: tr_loss-0.888564, tr_acc-90.77%\n",
      "25,000c2dTruet10:87.50% | 25,000c3dFalset10:72.08%\n"
     ]
    },
    {
     "name": "stderr",
     "output_type": "stream",
     "text": [
      "\n",
      "epoch-171 lr=['0.0001000'], tr/val_loss:  0.101498/  1.067823, tr: 100.00%, val:  87.50%, val_best:  89.17%: 100%|██████████| 62/62 [00:25<00:00,  2.39it/s]"
     ]
    },
    {
     "name": "stdout",
     "output_type": "stream",
     "text": [
      "Domain loss,acc: 0.367368, 64.92% Target domain: tr_loss-0.899108, tr_acc-91.07%\n",
      "25,000c2dTruet10:87.50% | 25,000c3dFalset10:71.67%\n"
     ]
    },
    {
     "name": "stderr",
     "output_type": "stream",
     "text": [
      "\n",
      "epoch-172 lr=['0.0001000'], tr/val_loss:  0.102806/  1.070760, tr:  99.85%, val:  86.25%, val_best:  89.17%: 100%|██████████| 62/62 [00:25<00:00,  2.41it/s]"
     ]
    },
    {
     "name": "stdout",
     "output_type": "stream",
     "text": [
      "Domain loss,acc: 0.357436, 64.72% Target domain: tr_loss-0.866694, tr_acc-92.86%\n",
      "25,000c2dTruet10:86.25% | 25,000c3dFalset10:72.50%\n"
     ]
    },
    {
     "name": "stderr",
     "output_type": "stream",
     "text": [
      "\n",
      "epoch-173 lr=['0.0001000'], tr/val_loss:  0.110718/  1.051766, tr: 100.00%, val:  87.92%, val_best:  89.17%: 100%|██████████| 62/62 [00:25<00:00,  2.41it/s]"
     ]
    },
    {
     "name": "stdout",
     "output_type": "stream",
     "text": [
      "Domain loss,acc: 0.364041, 66.03% Target domain: tr_loss-0.870686, tr_acc-93.45%\n",
      "25,000c2dTruet10:87.92% | 25,000c3dFalset10:72.92%\n"
     ]
    },
    {
     "name": "stderr",
     "output_type": "stream",
     "text": [
      "\n",
      "epoch-174 lr=['0.0001000'], tr/val_loss:  0.101199/  1.069612, tr: 100.00%, val:  87.08%, val_best:  89.17%: 100%|██████████| 62/62 [00:25<00:00,  2.41it/s]"
     ]
    },
    {
     "name": "stdout",
     "output_type": "stream",
     "text": [
      "Domain loss,acc: 0.367519, 64.92% Target domain: tr_loss-0.900157, tr_acc-91.67%\n",
      "25,000c2dTruet10:87.08% | 25,000c3dFalset10:72.92%\n"
     ]
    },
    {
     "name": "stderr",
     "output_type": "stream",
     "text": [
      "\n",
      "epoch-175 lr=['0.0001000'], tr/val_loss:  0.095636/  1.061211, tr: 100.00%, val:  87.50%, val_best:  89.17%: 100%|██████████| 62/62 [00:25<00:00,  2.39it/s]"
     ]
    },
    {
     "name": "stdout",
     "output_type": "stream",
     "text": [
      "Domain loss,acc: 0.365954, 64.52% Target domain: tr_loss-0.906591, tr_acc-91.67%\n",
      "25,000c2dTruet10:87.50% | 25,000c3dFalset10:73.75%\n"
     ]
    },
    {
     "name": "stderr",
     "output_type": "stream",
     "text": [
      "\n",
      "epoch-176 lr=['0.0001000'], tr/val_loss:  0.094772/  1.071913, tr: 100.00%, val:  85.83%, val_best:  89.17%: 100%|██████████| 62/62 [00:25<00:00,  2.39it/s]"
     ]
    },
    {
     "name": "stdout",
     "output_type": "stream",
     "text": [
      "Domain loss,acc: 0.373038, 65.83% Target domain: tr_loss-0.929572, tr_acc-89.58%\n",
      "25,000c2dTruet10:85.83% | 25,000c3dFalset10:73.75%\n"
     ]
    },
    {
     "name": "stderr",
     "output_type": "stream",
     "text": [
      "\n",
      "epoch-177 lr=['0.0001000'], tr/val_loss:  0.094869/  1.072190, tr: 100.00%, val:  87.08%, val_best:  89.17%: 100%|██████████| 62/62 [00:25<00:00,  2.40it/s]"
     ]
    },
    {
     "name": "stdout",
     "output_type": "stream",
     "text": [
      "Domain loss,acc: 0.384363, 64.72% Target domain: tr_loss-0.963350, tr_acc-89.29%\n",
      "25,000c2dTruet10:87.08% | 25,000c3dFalset10:71.67%\n"
     ]
    },
    {
     "name": "stderr",
     "output_type": "stream",
     "text": [
      "\n",
      "epoch-178 lr=['0.0001000'], tr/val_loss:  0.091916/  1.083240, tr: 100.00%, val:  87.50%, val_best:  89.17%: 100%|██████████| 62/62 [00:25<00:00,  2.40it/s]"
     ]
    },
    {
     "name": "stdout",
     "output_type": "stream",
     "text": [
      "Domain loss,acc: 0.376253, 65.02% Target domain: tr_loss-0.944926, tr_acc-90.48%\n",
      "25,000c2dTruet10:87.50% | 25,000c3dFalset10:72.92%\n"
     ]
    },
    {
     "name": "stderr",
     "output_type": "stream",
     "text": [
      "\n",
      "epoch-179 lr=['0.0001000'], tr/val_loss:  0.088152/  1.071860, tr: 100.00%, val:  87.92%, val_best:  89.17%: 100%|██████████| 62/62 [00:25<00:00,  2.42it/s]"
     ]
    },
    {
     "name": "stdout",
     "output_type": "stream",
     "text": [
      "Domain loss,acc: 0.338711, 65.22% Target domain: tr_loss-0.839830, tr_acc-93.45%\n",
      "25,000c2dTruet10:87.92% | 25,000c3dFalset10:72.50%\n"
     ]
    },
    {
     "name": "stderr",
     "output_type": "stream",
     "text": [
      "\n",
      "epoch-180 lr=['0.0001000'], tr/val_loss:  0.094836/  1.072881, tr: 100.00%, val:  87.08%, val_best:  89.17%: 100%|██████████| 62/62 [00:25<00:00,  2.41it/s]"
     ]
    },
    {
     "name": "stdout",
     "output_type": "stream",
     "text": [
      "Domain loss,acc: 0.365078, 65.32% Target domain: tr_loss-0.905562, tr_acc-92.56%\n",
      "25,000c2dTruet10:87.08% | 25,000c3dFalset10:71.25%\n"
     ]
    },
    {
     "name": "stderr",
     "output_type": "stream",
     "text": [
      "\n",
      "epoch-181 lr=['0.0001000'], tr/val_loss:  0.088283/  1.092460, tr: 100.00%, val:  85.83%, val_best:  89.17%: 100%|██████████| 62/62 [00:25<00:00,  2.43it/s]"
     ]
    },
    {
     "name": "stdout",
     "output_type": "stream",
     "text": [
      "Domain loss,acc: 0.367580, 64.11% Target domain: tr_loss-0.926174, tr_acc-92.56%\n",
      "25,000c2dTruet10:85.83% | 25,000c3dFalset10:72.08%\n"
     ]
    },
    {
     "name": "stderr",
     "output_type": "stream",
     "text": [
      "\n",
      "epoch-182 lr=['0.0001000'], tr/val_loss:  0.092105/  1.087451, tr: 100.00%, val:  85.83%, val_best:  89.17%: 100%|██████████| 62/62 [00:25<00:00,  2.47it/s]"
     ]
    },
    {
     "name": "stdout",
     "output_type": "stream",
     "text": [
      "Domain loss,acc: 0.365888, 65.32% Target domain: tr_loss-0.913455, tr_acc-92.86%\n",
      "25,000c2dTruet10:85.83% | 25,000c3dFalset10:72.92%\n"
     ]
    },
    {
     "name": "stderr",
     "output_type": "stream",
     "text": [
      "\n",
      "epoch-183 lr=['0.0001000'], tr/val_loss:  0.084835/  1.068637, tr: 100.00%, val:  87.50%, val_best:  89.17%: 100%|██████████| 62/62 [00:25<00:00,  2.45it/s]"
     ]
    },
    {
     "name": "stdout",
     "output_type": "stream",
     "text": [
      "Domain loss,acc: 0.363784, 64.21% Target domain: tr_loss-0.921681, tr_acc-89.88%\n",
      "25,000c2dTruet10:87.50% | 25,000c3dFalset10:73.33%\n"
     ]
    },
    {
     "name": "stderr",
     "output_type": "stream",
     "text": [
      "\n",
      "epoch-184 lr=['0.0001000'], tr/val_loss:  0.091267/  1.077059, tr: 100.00%, val:  86.67%, val_best:  89.17%: 100%|██████████| 62/62 [00:25<00:00,  2.41it/s]"
     ]
    },
    {
     "name": "stdout",
     "output_type": "stream",
     "text": [
      "Domain loss,acc: 0.364887, 64.92% Target domain: tr_loss-0.912125, tr_acc-91.67%\n",
      "25,000c2dTruet10:86.67% | 25,000c3dFalset10:72.92%\n"
     ]
    },
    {
     "name": "stderr",
     "output_type": "stream",
     "text": [
      "\n",
      "epoch-185 lr=['0.0001000'], tr/val_loss:  0.081121/  1.083622, tr: 100.00%, val:  85.83%, val_best:  89.17%: 100%|██████████| 62/62 [00:25<00:00,  2.43it/s]"
     ]
    },
    {
     "name": "stdout",
     "output_type": "stream",
     "text": [
      "Domain loss,acc: 0.354057, 64.92% Target domain: tr_loss-0.899928, tr_acc-92.86%\n",
      "25,000c2dTruet10:85.83% | 25,000c3dFalset10:73.33%\n"
     ]
    },
    {
     "name": "stderr",
     "output_type": "stream",
     "text": [
      "\n",
      "epoch-186 lr=['0.0001000'], tr/val_loss:  0.089024/  1.068306, tr: 100.00%, val:  87.08%, val_best:  89.17%: 100%|██████████| 62/62 [00:25<00:00,  2.43it/s]"
     ]
    },
    {
     "name": "stdout",
     "output_type": "stream",
     "text": [
      "Domain loss,acc: 0.382142, 65.42% Target domain: tr_loss-0.968380, tr_acc-91.37%\n",
      "25,000c2dTruet10:87.08% | 25,000c3dFalset10:72.92%\n"
     ]
    },
    {
     "name": "stderr",
     "output_type": "stream",
     "text": [
      "\n",
      "epoch-187 lr=['0.0001000'], tr/val_loss:  0.092729/  1.069716, tr: 100.00%, val:  87.50%, val_best:  89.17%: 100%|██████████| 62/62 [00:25<00:00,  2.40it/s]"
     ]
    },
    {
     "name": "stdout",
     "output_type": "stream",
     "text": [
      "Domain loss,acc: 0.376294, 64.52% Target domain: tr_loss-0.943424, tr_acc-91.67%\n",
      "25,000c2dTruet10:87.50% | 25,000c3dFalset10:73.33%\n"
     ]
    },
    {
     "name": "stderr",
     "output_type": "stream",
     "text": [
      "\n",
      "epoch-188 lr=['0.0001000'], tr/val_loss:  0.082737/  1.079872, tr: 100.00%, val:  88.33%, val_best:  89.17%: 100%|██████████| 62/62 [00:25<00:00,  2.42it/s]"
     ]
    },
    {
     "name": "stdout",
     "output_type": "stream",
     "text": [
      "Domain loss,acc: 0.352418, 65.42% Target domain: tr_loss-0.891779, tr_acc-92.26%\n",
      "25,000c2dTruet10:88.33% | 25,000c3dFalset10:72.50%\n"
     ]
    },
    {
     "name": "stderr",
     "output_type": "stream",
     "text": [
      "\n",
      "epoch-189 lr=['0.0001000'], tr/val_loss:  0.084163/  1.079480, tr: 100.00%, val:  87.50%, val_best:  89.17%: 100%|██████████| 62/62 [00:24<00:00,  2.49it/s]"
     ]
    },
    {
     "name": "stdout",
     "output_type": "stream",
     "text": [
      "Domain loss,acc: 0.355385, 65.12% Target domain: tr_loss-0.897829, tr_acc-91.67%\n",
      "25,000c2dTruet10:87.50% | 25,000c3dFalset10:73.75%\n"
     ]
    },
    {
     "name": "stderr",
     "output_type": "stream",
     "text": [
      "\n",
      "epoch-190 lr=['0.0001000'], tr/val_loss:  0.082463/  1.090734, tr: 100.00%, val:  87.50%, val_best:  89.17%: 100%|██████████| 62/62 [00:25<00:00,  2.42it/s]"
     ]
    },
    {
     "name": "stdout",
     "output_type": "stream",
     "text": [
      "Domain loss,acc: 0.349697, 65.83% Target domain: tr_loss-0.884165, tr_acc-91.67%\n",
      "25,000c2dTruet10:87.50% | 25,000c3dFalset10:72.92%\n"
     ]
    },
    {
     "name": "stderr",
     "output_type": "stream",
     "text": [
      "\n",
      "epoch-191 lr=['0.0001000'], tr/val_loss:  0.077040/  1.089824, tr: 100.00%, val:  86.25%, val_best:  89.17%: 100%|██████████| 62/62 [00:25<00:00,  2.43it/s]"
     ]
    },
    {
     "name": "stdout",
     "output_type": "stream",
     "text": [
      "Domain loss,acc: 0.349369, 65.02% Target domain: tr_loss-0.894028, tr_acc-92.56%\n",
      "25,000c2dTruet10:86.25% | 25,000c3dFalset10:73.75%\n"
     ]
    },
    {
     "name": "stderr",
     "output_type": "stream",
     "text": [
      "\n",
      "epoch-192 lr=['0.0001000'], tr/val_loss:  0.082350/  1.091520, tr: 100.00%, val:  87.92%, val_best:  89.17%: 100%|██████████| 62/62 [00:26<00:00,  2.36it/s]"
     ]
    },
    {
     "name": "stdout",
     "output_type": "stream",
     "text": [
      "Domain loss,acc: 0.338587, 66.53% Target domain: tr_loss-0.851060, tr_acc-91.96%\n",
      "25,000c2dTruet10:87.92% | 25,000c3dFalset10:74.17%\n"
     ]
    },
    {
     "name": "stderr",
     "output_type": "stream",
     "text": [
      "\n",
      "epoch-193 lr=['0.0001000'], tr/val_loss:  0.079785/  1.075325, tr: 100.00%, val:  87.50%, val_best:  89.17%: 100%|██████████| 62/62 [00:25<00:00,  2.43it/s]"
     ]
    },
    {
     "name": "stdout",
     "output_type": "stream",
     "text": [
      "Domain loss,acc: 0.358549, 63.81% Target domain: tr_loss-0.916078, tr_acc-92.56%\n",
      "25,000c2dTruet10:87.50% | 25,000c3dFalset10:73.33%\n"
     ]
    },
    {
     "name": "stderr",
     "output_type": "stream",
     "text": [
      "\n",
      "epoch-194 lr=['0.0001000'], tr/val_loss:  0.075691/  1.087821, tr: 100.00%, val:  88.33%, val_best:  89.17%: 100%|██████████| 62/62 [00:25<00:00,  2.42it/s]"
     ]
    },
    {
     "name": "stdout",
     "output_type": "stream",
     "text": [
      "Domain loss,acc: 0.347079, 65.93% Target domain: tr_loss-0.889856, tr_acc-93.15%\n",
      "25,000c2dTruet10:88.33% | 25,000c3dFalset10:72.50%\n"
     ]
    },
    {
     "name": "stderr",
     "output_type": "stream",
     "text": [
      "\n",
      "epoch-195 lr=['0.0001000'], tr/val_loss:  0.078863/  1.097740, tr: 100.00%, val:  87.92%, val_best:  89.17%: 100%|██████████| 62/62 [00:25<00:00,  2.46it/s]"
     ]
    },
    {
     "name": "stdout",
     "output_type": "stream",
     "text": [
      "Domain loss,acc: 0.362485, 65.62% Target domain: tr_loss-0.929729, tr_acc-93.15%\n",
      "25,000c2dTruet10:87.92% | 25,000c3dFalset10:73.33%\n"
     ]
    },
    {
     "name": "stderr",
     "output_type": "stream",
     "text": [
      "\n",
      "epoch-196 lr=['0.0001000'], tr/val_loss:  0.073507/  1.092483, tr: 100.00%, val:  87.92%, val_best:  89.17%: 100%|██████████| 62/62 [00:26<00:00,  2.38it/s]"
     ]
    },
    {
     "name": "stdout",
     "output_type": "stream",
     "text": [
      "Domain loss,acc: 0.353085, 65.62% Target domain: tr_loss-0.912240, tr_acc-92.56%\n",
      "25,000c2dTruet10:87.92% | 25,000c3dFalset10:72.92%\n"
     ]
    },
    {
     "name": "stderr",
     "output_type": "stream",
     "text": [
      "\n",
      "epoch-197 lr=['0.0001000'], tr/val_loss:  0.076712/  1.098396, tr: 100.00%, val:  86.67%, val_best:  89.17%: 100%|██████████| 62/62 [00:25<00:00,  2.45it/s]"
     ]
    },
    {
     "name": "stdout",
     "output_type": "stream",
     "text": [
      "Domain loss,acc: 0.338372, 64.72% Target domain: tr_loss-0.861691, tr_acc-94.94%\n",
      "25,000c2dTruet10:86.67% | 25,000c3dFalset10:73.75%\n"
     ]
    },
    {
     "name": "stderr",
     "output_type": "stream",
     "text": [
      "\n",
      "epoch-198 lr=['0.0001000'], tr/val_loss:  0.076802/  1.091222, tr: 100.00%, val:  87.08%, val_best:  89.17%: 100%|██████████| 62/62 [00:25<00:00,  2.39it/s]"
     ]
    },
    {
     "name": "stdout",
     "output_type": "stream",
     "text": [
      "Domain loss,acc: 0.351537, 65.93% Target domain: tr_loss-0.901008, tr_acc-92.56%\n",
      "25,000c2dTruet10:87.08% | 25,000c3dFalset10:74.17%\n"
     ]
    },
    {
     "name": "stderr",
     "output_type": "stream",
     "text": [
      "\n",
      "epoch-199 lr=['0.0001000'], tr/val_loss:  0.070375/  1.105882, tr: 100.00%, val:  86.67%, val_best:  89.17%: 100%|██████████| 62/62 [00:26<00:00,  2.30it/s]"
     ]
    },
    {
     "name": "stdout",
     "output_type": "stream",
     "text": [
      "Domain loss,acc: 0.351666, 63.41% Target domain: tr_loss-0.914249, tr_acc-93.45%\n",
      "25,000c2dTruet10:86.67% | 25,000c3dFalset10:72.92%\n"
     ]
    },
    {
     "name": "stderr",
     "output_type": "stream",
     "text": [
      "\n",
      "epoch-200 lr=['0.0001000'], tr/val_loss:  0.074419/  1.097334, tr: 100.00%, val:  88.75%, val_best:  89.17%: 100%|██████████| 62/62 [00:26<00:00,  2.35it/s]"
     ]
    },
    {
     "name": "stdout",
     "output_type": "stream",
     "text": [
      "Domain loss,acc: 0.345316, 64.72% Target domain: tr_loss-0.887111, tr_acc-93.75%\n",
      "25,000c2dTruet10:88.75% | 25,000c3dFalset10:75.00%\n"
     ]
    },
    {
     "name": "stderr",
     "output_type": "stream",
     "text": [
      "\n",
      "epoch-201 lr=['0.0001000'], tr/val_loss:  0.072735/  1.090413, tr: 100.00%, val:  87.08%, val_best:  89.17%: 100%|██████████| 62/62 [00:26<00:00,  2.35it/s]"
     ]
    },
    {
     "name": "stdout",
     "output_type": "stream",
     "text": [
      "Domain loss,acc: 0.362372, 65.62% Target domain: tr_loss-0.941646, tr_acc-90.77%\n",
      "25,000c2dTruet10:87.08% | 25,000c3dFalset10:74.58%\n"
     ]
    },
    {
     "name": "stderr",
     "output_type": "stream",
     "text": [
      "\n",
      "epoch-202 lr=['0.0001000'], tr/val_loss:  0.076242/  1.083859, tr: 100.00%, val:  87.50%, val_best:  89.17%: 100%|██████████| 62/62 [00:26<00:00,  2.30it/s]"
     ]
    },
    {
     "name": "stdout",
     "output_type": "stream",
     "text": [
      "Domain loss,acc: 0.369503, 66.13% Target domain: tr_loss-0.956026, tr_acc-90.48%\n",
      "25,000c2dTruet10:87.50% | 25,000c3dFalset10:72.92%\n"
     ]
    },
    {
     "name": "stderr",
     "output_type": "stream",
     "text": [
      "\n",
      "epoch-203 lr=['0.0001000'], tr/val_loss:  0.068784/  1.101493, tr: 100.00%, val:  87.50%, val_best:  89.17%: 100%|██████████| 62/62 [00:27<00:00,  2.29it/s]"
     ]
    },
    {
     "name": "stdout",
     "output_type": "stream",
     "text": [
      "Domain loss,acc: 0.340930, 65.02% Target domain: tr_loss-0.885220, tr_acc-94.05%\n",
      "25,000c2dTruet10:87.50% | 25,000c3dFalset10:73.33%\n"
     ]
    },
    {
     "name": "stderr",
     "output_type": "stream",
     "text": [
      "\n",
      "epoch-204 lr=['0.0001000'], tr/val_loss:  0.069978/  1.090968, tr: 100.00%, val:  88.33%, val_best:  89.17%: 100%|██████████| 62/62 [00:26<00:00,  2.34it/s]"
     ]
    },
    {
     "name": "stdout",
     "output_type": "stream",
     "text": [
      "Domain loss,acc: 0.359369, 65.42% Target domain: tr_loss-0.938151, tr_acc-91.07%\n",
      "25,000c2dTruet10:88.33% | 25,000c3dFalset10:73.33%\n"
     ]
    },
    {
     "name": "stderr",
     "output_type": "stream",
     "text": [
      "\n",
      "epoch-205 lr=['0.0001000'], tr/val_loss:  0.069794/  1.099824, tr: 100.00%, val:  88.75%, val_best:  89.17%: 100%|██████████| 62/62 [00:26<00:00,  2.32it/s]"
     ]
    },
    {
     "name": "stdout",
     "output_type": "stream",
     "text": [
      "Domain loss,acc: 0.363002, 66.13% Target domain: tr_loss-0.949418, tr_acc-91.07%\n",
      "25,000c2dTruet10:88.75% | 25,000c3dFalset10:74.17%\n"
     ]
    },
    {
     "name": "stderr",
     "output_type": "stream",
     "text": [
      "\n",
      "epoch-206 lr=['0.0001000'], tr/val_loss:  0.065746/  1.093333, tr: 100.00%, val:  88.33%, val_best:  89.17%: 100%|██████████| 62/62 [00:27<00:00,  2.29it/s]"
     ]
    },
    {
     "name": "stdout",
     "output_type": "stream",
     "text": [
      "Domain loss,acc: 0.357654, 65.52% Target domain: tr_loss-0.941469, tr_acc-93.45%\n",
      "25,000c2dTruet10:88.33% | 25,000c3dFalset10:73.33%\n"
     ]
    },
    {
     "name": "stderr",
     "output_type": "stream",
     "text": [
      "\n",
      "epoch-207 lr=['0.0001000'], tr/val_loss:  0.066889/  1.099955, tr: 100.00%, val:  88.75%, val_best:  89.17%: 100%|██████████| 62/62 [00:26<00:00,  2.33it/s]"
     ]
    },
    {
     "name": "stdout",
     "output_type": "stream",
     "text": [
      "Domain loss,acc: 0.368214, 66.03% Target domain: tr_loss-0.970865, tr_acc-89.58%\n",
      "25,000c2dTruet10:88.75% | 25,000c3dFalset10:73.75%\n"
     ]
    },
    {
     "name": "stderr",
     "output_type": "stream",
     "text": [
      "\n",
      "epoch-208 lr=['0.0001000'], tr/val_loss:  0.068621/  1.099714, tr: 100.00%, val:  88.33%, val_best:  89.17%: 100%|██████████| 62/62 [00:27<00:00,  2.29it/s]"
     ]
    },
    {
     "name": "stdout",
     "output_type": "stream",
     "text": [
      "Domain loss,acc: 0.336127, 66.03% Target domain: tr_loss-0.871140, tr_acc-92.26%\n",
      "25,000c2dTruet10:88.33% | 25,000c3dFalset10:73.75%\n"
     ]
    },
    {
     "name": "stderr",
     "output_type": "stream",
     "text": [
      "\n",
      "epoch-209 lr=['0.0001000'], tr/val_loss:  0.062959/  1.106300, tr: 100.00%, val:  87.92%, val_best:  89.17%: 100%|██████████| 62/62 [00:27<00:00,  2.22it/s]"
     ]
    },
    {
     "name": "stdout",
     "output_type": "stream",
     "text": [
      "Domain loss,acc: 0.363853, 65.02% Target domain: tr_loss-0.965640, tr_acc-92.86%\n",
      "25,000c2dTruet10:87.92% | 25,000c3dFalset10:73.33%\n"
     ]
    },
    {
     "name": "stderr",
     "output_type": "stream",
     "text": [
      "\n",
      "epoch-210 lr=['0.0001000'], tr/val_loss:  0.063018/  1.112757, tr: 100.00%, val:  88.33%, val_best:  89.17%: 100%|██████████| 62/62 [00:27<00:00,  2.25it/s]"
     ]
    },
    {
     "name": "stdout",
     "output_type": "stream",
     "text": [
      "Domain loss,acc: 0.371788, 65.52% Target domain: tr_loss-0.989329, tr_acc-91.67%\n",
      "25,000c2dTruet10:88.33% | 25,000c3dFalset10:74.58%\n"
     ]
    },
    {
     "name": "stderr",
     "output_type": "stream",
     "text": [
      "\n",
      "epoch-211 lr=['0.0001000'], tr/val_loss:  0.064976/  1.117193, tr: 100.00%, val:  87.08%, val_best:  89.17%: 100%|██████████| 62/62 [00:26<00:00,  2.30it/s]"
     ]
    },
    {
     "name": "stdout",
     "output_type": "stream",
     "text": [
      "Domain loss,acc: 0.330132, 64.92% Target domain: tr_loss-0.860445, tr_acc-91.96%\n",
      "25,000c2dTruet10:87.08% | 25,000c3dFalset10:72.50%\n"
     ]
    },
    {
     "name": "stderr",
     "output_type": "stream",
     "text": [
      "\n",
      "epoch-212 lr=['0.0001000'], tr/val_loss:  0.066016/  1.106765, tr: 100.00%, val:  87.50%, val_best:  89.17%: 100%|██████████| 62/62 [00:27<00:00,  2.27it/s]"
     ]
    },
    {
     "name": "stdout",
     "output_type": "stream",
     "text": [
      "Domain loss,acc: 0.359781, 64.21% Target domain: tr_loss-0.947312, tr_acc-91.37%\n",
      "25,000c2dTruet10:87.50% | 25,000c3dFalset10:73.75%\n"
     ]
    },
    {
     "name": "stderr",
     "output_type": "stream",
     "text": [
      "\n",
      "epoch-213 lr=['0.0001000'], tr/val_loss:  0.067714/  1.116342, tr: 100.00%, val:  86.25%, val_best:  89.17%: 100%|██████████| 62/62 [00:27<00:00,  2.23it/s]"
     ]
    },
    {
     "name": "stdout",
     "output_type": "stream",
     "text": [
      "Domain loss,acc: 0.362656, 64.62% Target domain: tr_loss-0.952540, tr_acc-92.56%\n",
      "25,000c2dTruet10:86.25% | 25,000c3dFalset10:73.75%\n"
     ]
    },
    {
     "name": "stderr",
     "output_type": "stream",
     "text": [
      "\n",
      "epoch-214 lr=['0.0001000'], tr/val_loss:  0.064758/  1.103251, tr: 100.00%, val:  88.33%, val_best:  89.17%: 100%|██████████| 62/62 [00:27<00:00,  2.22it/s]"
     ]
    },
    {
     "name": "stdout",
     "output_type": "stream",
     "text": [
      "Domain loss,acc: 0.356553, 64.11% Target domain: tr_loss-0.940145, tr_acc-91.96%\n",
      "25,000c2dTruet10:88.33% | 25,000c3dFalset10:75.00%\n"
     ]
    },
    {
     "name": "stderr",
     "output_type": "stream",
     "text": [
      "\n",
      "epoch-215 lr=['0.0001000'], tr/val_loss:  0.061055/  1.123233, tr: 100.00%, val:  86.25%, val_best:  89.17%: 100%|██████████| 62/62 [00:27<00:00,  2.25it/s]"
     ]
    },
    {
     "name": "stdout",
     "output_type": "stream",
     "text": [
      "Domain loss,acc: 0.331693, 63.91% Target domain: tr_loss-0.872970, tr_acc-93.75%\n",
      "25,000c2dTruet10:86.25% | 25,000c3dFalset10:73.33%\n"
     ]
    },
    {
     "name": "stderr",
     "output_type": "stream",
     "text": [
      "\n",
      "epoch-216 lr=['0.0001000'], tr/val_loss:  0.062021/  1.118684, tr: 100.00%, val:  86.67%, val_best:  89.17%: 100%|██████████| 62/62 [00:27<00:00,  2.28it/s]"
     ]
    },
    {
     "name": "stdout",
     "output_type": "stream",
     "text": [
      "Domain loss,acc: 0.366757, 65.22% Target domain: tr_loss-0.976228, tr_acc-91.07%\n",
      "25,000c2dTruet10:86.67% | 25,000c3dFalset10:73.75%\n"
     ]
    },
    {
     "name": "stderr",
     "output_type": "stream",
     "text": [
      "\n",
      "epoch-217 lr=['0.0001000'], tr/val_loss:  0.058576/  1.105336, tr: 100.00%, val:  87.92%, val_best:  89.17%: 100%|██████████| 62/62 [00:27<00:00,  2.26it/s]"
     ]
    },
    {
     "name": "stdout",
     "output_type": "stream",
     "text": [
      "Domain loss,acc: 0.344456, 64.21% Target domain: tr_loss-0.916215, tr_acc-93.45%\n",
      "25,000c2dTruet10:87.92% | 25,000c3dFalset10:73.75%\n"
     ]
    },
    {
     "name": "stderr",
     "output_type": "stream",
     "text": [
      "\n",
      "epoch-218 lr=['0.0001000'], tr/val_loss:  0.060092/  1.115162, tr: 100.00%, val:  87.50%, val_best:  89.17%: 100%|██████████| 62/62 [00:27<00:00,  2.26it/s]"
     ]
    },
    {
     "name": "stdout",
     "output_type": "stream",
     "text": [
      "Domain loss,acc: 0.368228, 64.62% Target domain: tr_loss-0.984499, tr_acc-90.77%\n",
      "25,000c2dTruet10:87.50% | 25,000c3dFalset10:73.33%\n"
     ]
    },
    {
     "name": "stderr",
     "output_type": "stream",
     "text": [
      "\n",
      "epoch-219 lr=['0.0001000'], tr/val_loss:  0.062179/  1.115835, tr: 100.00%, val:  88.33%, val_best:  89.17%: 100%|██████████| 62/62 [00:27<00:00,  2.27it/s]"
     ]
    },
    {
     "name": "stdout",
     "output_type": "stream",
     "text": [
      "Domain loss,acc: 0.340758, 65.12% Target domain: tr_loss-0.897914, tr_acc-93.15%\n",
      "25,000c2dTruet10:88.33% | 25,000c3dFalset10:73.75%\n"
     ]
    },
    {
     "name": "stderr",
     "output_type": "stream",
     "text": [
      "\n",
      "epoch-220 lr=['0.0001000'], tr/val_loss:  0.057209/  1.130521, tr: 100.00%, val:  87.08%, val_best:  89.17%: 100%|██████████| 62/62 [00:27<00:00,  2.26it/s]"
     ]
    },
    {
     "name": "stdout",
     "output_type": "stream",
     "text": [
      "Domain loss,acc: 0.354813, 65.52% Target domain: tr_loss-0.950021, tr_acc-91.96%\n",
      "25,000c2dTruet10:87.08% | 25,000c3dFalset10:72.50%\n"
     ]
    },
    {
     "name": "stderr",
     "output_type": "stream",
     "text": [
      "\n",
      "epoch-221 lr=['0.0001000'], tr/val_loss:  0.057166/  1.128004, tr: 100.00%, val:  87.08%, val_best:  89.17%: 100%|██████████| 62/62 [00:27<00:00,  2.28it/s]"
     ]
    },
    {
     "name": "stdout",
     "output_type": "stream",
     "text": [
      "Domain loss,acc: 0.359444, 64.62% Target domain: tr_loss-0.963999, tr_acc-92.26%\n",
      "25,000c2dTruet10:87.08% | 25,000c3dFalset10:72.92%\n"
     ]
    },
    {
     "name": "stderr",
     "output_type": "stream",
     "text": [
      "\n",
      "epoch-222 lr=['0.0001000'], tr/val_loss:  0.057884/  1.138975, tr: 100.00%, val:  87.92%, val_best:  89.17%: 100%|██████████| 62/62 [00:27<00:00,  2.24it/s]"
     ]
    },
    {
     "name": "stdout",
     "output_type": "stream",
     "text": [
      "Domain loss,acc: 0.338549, 64.11% Target domain: tr_loss-0.899877, tr_acc-92.56%\n",
      "25,000c2dTruet10:87.92% | 25,000c3dFalset10:73.33%\n"
     ]
    },
    {
     "name": "stderr",
     "output_type": "stream",
     "text": [
      "\n",
      "epoch-223 lr=['0.0001000'], tr/val_loss:  0.054461/  1.120474, tr: 100.00%, val:  87.92%, val_best:  89.17%: 100%|██████████| 62/62 [00:27<00:00,  2.27it/s]"
     ]
    },
    {
     "name": "stdout",
     "output_type": "stream",
     "text": [
      "Domain loss,acc: 0.334733, 64.11% Target domain: tr_loss-0.895278, tr_acc-92.56%\n",
      "25,000c2dTruet10:87.92% | 25,000c3dFalset10:73.75%\n"
     ]
    },
    {
     "name": "stderr",
     "output_type": "stream",
     "text": [
      "\n",
      "epoch-224 lr=['0.0001000'], tr/val_loss:  0.054130/  1.130365, tr: 100.00%, val:  88.33%, val_best:  89.17%: 100%|██████████| 62/62 [00:27<00:00,  2.22it/s]"
     ]
    },
    {
     "name": "stdout",
     "output_type": "stream",
     "text": [
      "Domain loss,acc: 0.346300, 64.92% Target domain: tr_loss-0.930639, tr_acc-92.56%\n",
      "25,000c2dTruet10:88.33% | 25,000c3dFalset10:73.33%\n"
     ]
    },
    {
     "name": "stderr",
     "output_type": "stream",
     "text": [
      "\n",
      "epoch-225 lr=['0.0001000'], tr/val_loss:  0.056914/  1.127752, tr: 100.00%, val:  87.92%, val_best:  89.17%: 100%|██████████| 62/62 [00:27<00:00,  2.29it/s]"
     ]
    },
    {
     "name": "stdout",
     "output_type": "stream",
     "text": [
      "Domain loss,acc: 0.350299, 65.42% Target domain: tr_loss-0.937069, tr_acc-91.67%\n",
      "25,000c2dTruet10:87.92% | 25,000c3dFalset10:73.75%\n"
     ]
    },
    {
     "name": "stderr",
     "output_type": "stream",
     "text": [
      "\n",
      "epoch-226 lr=['0.0001000'], tr/val_loss:  0.052980/  1.130608, tr: 100.00%, val:  88.33%, val_best:  89.17%: 100%|██████████| 62/62 [00:27<00:00,  2.24it/s]"
     ]
    },
    {
     "name": "stdout",
     "output_type": "stream",
     "text": [
      "Domain loss,acc: 0.346223, 63.31% Target domain: tr_loss-0.932709, tr_acc-92.56%\n",
      "25,000c2dTruet10:88.33% | 25,000c3dFalset10:73.33%\n"
     ]
    },
    {
     "name": "stderr",
     "output_type": "stream",
     "text": [
      "\n",
      "epoch-227 lr=['0.0001000'], tr/val_loss:  0.052862/  1.132206, tr: 100.00%, val:  89.17%, val_best:  89.17%: 100%|██████████| 62/62 [00:27<00:00,  2.26it/s]"
     ]
    },
    {
     "name": "stdout",
     "output_type": "stream",
     "text": [
      "Domain loss,acc: 0.345469, 63.31% Target domain: tr_loss-0.930682, tr_acc-93.75%\n",
      "25,000c2dTruet10:89.17% | 25,000c3dFalset10:72.92%\n"
     ]
    },
    {
     "name": "stderr",
     "output_type": "stream",
     "text": [
      "\n",
      "epoch-228 lr=['0.0001000'], tr/val_loss:  0.055735/  1.132316, tr: 100.00%, val:  87.92%, val_best:  89.17%: 100%|██████████| 62/62 [00:27<00:00,  2.24it/s]"
     ]
    },
    {
     "name": "stdout",
     "output_type": "stream",
     "text": [
      "Domain loss,acc: 0.338160, 65.52% Target domain: tr_loss-0.903008, tr_acc-94.05%\n",
      "25,000c2dTruet10:87.92% | 25,000c3dFalset10:72.92%\n"
     ]
    },
    {
     "name": "stderr",
     "output_type": "stream",
     "text": [
      "\n",
      "epoch-229 lr=['0.0001000'], tr/val_loss:  0.054129/  1.131329, tr: 100.00%, val:  87.92%, val_best:  89.17%: 100%|██████████| 62/62 [00:27<00:00,  2.27it/s]"
     ]
    },
    {
     "name": "stdout",
     "output_type": "stream",
     "text": [
      "Domain loss,acc: 0.359245, 65.32% Target domain: tr_loss-0.969477, tr_acc-91.37%\n",
      "25,000c2dTruet10:87.92% | 25,000c3dFalset10:73.33%\n"
     ]
    },
    {
     "name": "stderr",
     "output_type": "stream",
     "text": [
      "\n",
      "epoch-230 lr=['0.0001000'], tr/val_loss:  0.052518/  1.146984, tr: 100.00%, val:  88.33%, val_best:  89.17%: 100%|██████████| 62/62 [00:26<00:00,  2.33it/s]"
     ]
    },
    {
     "name": "stdout",
     "output_type": "stream",
     "text": [
      "Domain loss,acc: 0.338086, 63.91% Target domain: tr_loss-0.909224, tr_acc-91.96%\n",
      "25,000c2dTruet10:88.33% | 25,000c3dFalset10:73.33%\n"
     ]
    },
    {
     "name": "stderr",
     "output_type": "stream",
     "text": [
      "\n",
      "epoch-231 lr=['0.0001000'], tr/val_loss:  0.053620/  1.141842, tr: 100.00%, val:  88.33%, val_best:  89.17%: 100%|██████████| 62/62 [00:27<00:00,  2.27it/s]"
     ]
    },
    {
     "name": "stdout",
     "output_type": "stream",
     "text": [
      "Domain loss,acc: 0.366220, 64.92% Target domain: tr_loss-0.991421, tr_acc-92.56%\n",
      "25,000c2dTruet10:88.33% | 25,000c3dFalset10:73.33%\n"
     ]
    },
    {
     "name": "stderr",
     "output_type": "stream",
     "text": [
      "\n",
      "epoch-232 lr=['0.0001000'], tr/val_loss:  0.053256/  1.138976, tr: 100.00%, val:  88.33%, val_best:  89.17%: 100%|██████████| 62/62 [00:26<00:00,  2.30it/s]"
     ]
    },
    {
     "name": "stdout",
     "output_type": "stream",
     "text": [
      "Domain loss,acc: 0.327438, 65.32% Target domain: tr_loss-0.875801, tr_acc-92.26%\n",
      "25,000c2dTruet10:88.33% | 25,000c3dFalset10:73.75%\n"
     ]
    },
    {
     "name": "stderr",
     "output_type": "stream",
     "text": [
      "\n",
      "epoch-233 lr=['0.0001000'], tr/val_loss:  0.053360/  1.149827, tr: 100.00%, val:  88.33%, val_best:  89.17%: 100%|██████████| 62/62 [00:27<00:00,  2.29it/s]"
     ]
    },
    {
     "name": "stdout",
     "output_type": "stream",
     "text": [
      "Domain loss,acc: 0.354625, 65.32% Target domain: tr_loss-0.957155, tr_acc-93.45%\n",
      "25,000c2dTruet10:88.33% | 25,000c3dFalset10:73.33%\n"
     ]
    },
    {
     "name": "stderr",
     "output_type": "stream",
     "text": [
      "\n",
      "epoch-234 lr=['0.0001000'], tr/val_loss:  0.052108/  1.151969, tr: 100.00%, val:  87.92%, val_best:  89.17%: 100%|██████████| 62/62 [00:26<00:00,  2.33it/s]"
     ]
    },
    {
     "name": "stdout",
     "output_type": "stream",
     "text": [
      "Domain loss,acc: 0.326790, 64.72% Target domain: tr_loss-0.876153, tr_acc-94.05%\n",
      "25,000c2dTruet10:87.92% | 25,000c3dFalset10:75.00%\n"
     ]
    },
    {
     "name": "stderr",
     "output_type": "stream",
     "text": [
      "\n",
      "epoch-235 lr=['0.0001000'], tr/val_loss:  0.050917/  1.145239, tr: 100.00%, val:  87.92%, val_best:  89.17%: 100%|██████████| 62/62 [00:26<00:00,  2.31it/s]"
     ]
    },
    {
     "name": "stdout",
     "output_type": "stream",
     "text": [
      "Domain loss,acc: 0.351720, 65.32% Target domain: tr_loss-0.953326, tr_acc-92.26%\n",
      "25,000c2dTruet10:87.92% | 25,000c3dFalset10:75.00%\n"
     ]
    },
    {
     "name": "stderr",
     "output_type": "stream",
     "text": [
      "\n",
      "epoch-236 lr=['0.0001000'], tr/val_loss:  0.046475/  1.141566, tr: 100.00%, val:  88.75%, val_best:  89.17%: 100%|██████████| 62/62 [00:27<00:00,  2.28it/s]"
     ]
    },
    {
     "name": "stdout",
     "output_type": "stream",
     "text": [
      "Domain loss,acc: 0.347101, 64.52% Target domain: tr_loss-0.948353, tr_acc-92.56%\n",
      "25,000c2dTruet10:88.75% | 25,000c3dFalset10:73.33%\n"
     ]
    },
    {
     "name": "stderr",
     "output_type": "stream",
     "text": [
      "\n",
      "epoch-237 lr=['0.0001000'], tr/val_loss:  0.048047/  1.129517, tr: 100.00%, val:  88.75%, val_best:  89.17%: 100%|██████████| 62/62 [00:27<00:00,  2.27it/s]"
     ]
    },
    {
     "name": "stdout",
     "output_type": "stream",
     "text": [
      "Domain loss,acc: 0.359297, 65.12% Target domain: tr_loss-0.981796, tr_acc-91.07%\n",
      "25,000c2dTruet10:88.75% | 25,000c3dFalset10:73.33%\n"
     ]
    },
    {
     "name": "stderr",
     "output_type": "stream",
     "text": [
      "\n",
      "epoch-238 lr=['0.0001000'], tr/val_loss:  0.048960/  1.131057, tr: 100.00%, val:  87.92%, val_best:  89.17%: 100%|██████████| 62/62 [00:27<00:00,  2.27it/s]"
     ]
    },
    {
     "name": "stdout",
     "output_type": "stream",
     "text": [
      "Domain loss,acc: 0.334659, 64.82% Target domain: tr_loss-0.906058, tr_acc-92.86%\n",
      "25,000c2dTruet10:87.92% | 25,000c3dFalset10:75.00%\n"
     ]
    },
    {
     "name": "stderr",
     "output_type": "stream",
     "text": [
      "\n",
      "epoch-239 lr=['0.0001000'], tr/val_loss:  0.049797/  1.131252, tr: 100.00%, val:  88.75%, val_best:  89.17%: 100%|██████████| 62/62 [00:26<00:00,  2.33it/s]"
     ]
    },
    {
     "name": "stdout",
     "output_type": "stream",
     "text": [
      "Domain loss,acc: 0.346702, 65.73% Target domain: tr_loss-0.940511, tr_acc-93.75%\n",
      "25,000c2dTruet10:88.75% | 25,000c3dFalset10:75.00%\n"
     ]
    },
    {
     "name": "stderr",
     "output_type": "stream",
     "text": [
      "\n",
      "epoch-240 lr=['0.0001000'], tr/val_loss:  0.048342/  1.140930, tr: 100.00%, val:  88.33%, val_best:  89.17%: 100%|██████████| 62/62 [00:27<00:00,  2.27it/s]"
     ]
    },
    {
     "name": "stdout",
     "output_type": "stream",
     "text": [
      "Domain loss,acc: 0.321022, 65.02% Target domain: tr_loss-0.866381, tr_acc-94.64%\n",
      "25,000c2dTruet10:88.33% | 25,000c3dFalset10:73.75%\n"
     ]
    },
    {
     "name": "stderr",
     "output_type": "stream",
     "text": [
      "\n",
      "epoch-241 lr=['0.0001000'], tr/val_loss:  0.045563/  1.141369, tr: 100.00%, val:  87.92%, val_best:  89.17%: 100%|██████████| 62/62 [00:27<00:00,  2.27it/s]"
     ]
    },
    {
     "name": "stdout",
     "output_type": "stream",
     "text": [
      "Domain loss,acc: 0.324366, 65.22% Target domain: tr_loss-0.881973, tr_acc-93.75%\n",
      "25,000c2dTruet10:87.92% | 25,000c3dFalset10:74.17%\n"
     ]
    },
    {
     "name": "stderr",
     "output_type": "stream",
     "text": [
      "\n",
      "epoch-242 lr=['0.0001000'], tr/val_loss:  0.048122/  1.148312, tr: 100.00%, val:  87.92%, val_best:  89.17%: 100%|██████████| 62/62 [00:27<00:00,  2.23it/s]"
     ]
    },
    {
     "name": "stdout",
     "output_type": "stream",
     "text": [
      "Domain loss,acc: 0.333471, 64.42% Target domain: tr_loss-0.904170, tr_acc-92.26%\n",
      "25,000c2dTruet10:87.92% | 25,000c3dFalset10:73.75%\n"
     ]
    },
    {
     "name": "stderr",
     "output_type": "stream",
     "text": [
      "\n",
      "epoch-243 lr=['0.0001000'], tr/val_loss:  0.045540/  1.146420, tr: 100.00%, val:  88.75%, val_best:  89.17%: 100%|██████████| 62/62 [00:27<00:00,  2.27it/s]"
     ]
    },
    {
     "name": "stdout",
     "output_type": "stream",
     "text": [
      "Domain loss,acc: 0.354458, 64.92% Target domain: tr_loss-0.972295, tr_acc-92.26%\n",
      "25,000c2dTruet10:88.75% | 25,000c3dFalset10:73.33%\n"
     ]
    },
    {
     "name": "stderr",
     "output_type": "stream",
     "text": [
      "\n",
      "epoch-244 lr=['0.0001000'], tr/val_loss:  0.046698/  1.141091, tr: 100.00%, val:  87.92%, val_best:  89.17%: 100%|██████████| 62/62 [00:27<00:00,  2.27it/s]"
     ]
    },
    {
     "name": "stdout",
     "output_type": "stream",
     "text": [
      "Domain loss,acc: 0.359383, 65.12% Target domain: tr_loss-0.984753, tr_acc-93.15%\n",
      "25,000c2dTruet10:87.92% | 25,000c3dFalset10:73.75%\n"
     ]
    },
    {
     "name": "stderr",
     "output_type": "stream",
     "text": [
      "\n",
      "epoch-245 lr=['0.0001000'], tr/val_loss:  0.044947/  1.149210, tr: 100.00%, val:  86.67%, val_best:  89.17%: 100%|██████████| 62/62 [00:27<00:00,  2.28it/s]"
     ]
    },
    {
     "name": "stdout",
     "output_type": "stream",
     "text": [
      "Domain loss,acc: 0.339760, 64.11% Target domain: tr_loss-0.929386, tr_acc-94.35%\n",
      "25,000c2dTruet10:86.67% | 25,000c3dFalset10:74.17%\n"
     ]
    },
    {
     "name": "stderr",
     "output_type": "stream",
     "text": [
      "\n",
      "epoch-246 lr=['0.0001000'], tr/val_loss:  0.041968/  1.136202, tr: 100.00%, val:  87.92%, val_best:  89.17%: 100%|██████████| 62/62 [00:26<00:00,  2.32it/s]"
     ]
    },
    {
     "name": "stdout",
     "output_type": "stream",
     "text": [
      "Domain loss,acc: 0.292819, 63.71% Target domain: tr_loss-0.794521, tr_acc-95.83%\n",
      "25,000c2dTruet10:87.92% | 25,000c3dFalset10:74.58%\n"
     ]
    },
    {
     "name": "stderr",
     "output_type": "stream",
     "text": [
      "\n",
      "epoch-247 lr=['0.0001000'], tr/val_loss:  0.044442/  1.144961, tr: 100.00%, val:  88.33%, val_best:  89.17%: 100%|██████████| 62/62 [00:27<00:00,  2.27it/s]"
     ]
    },
    {
     "name": "stdout",
     "output_type": "stream",
     "text": [
      "Domain loss,acc: 0.338239, 65.42% Target domain: tr_loss-0.925832, tr_acc-93.45%\n",
      "25,000c2dTruet10:88.33% | 25,000c3dFalset10:74.17%\n"
     ]
    },
    {
     "name": "stderr",
     "output_type": "stream",
     "text": [
      "\n",
      "epoch-248 lr=['0.0001000'], tr/val_loss:  0.045658/  1.147403, tr: 100.00%, val:  89.17%, val_best:  89.17%: 100%|██████████| 62/62 [00:27<00:00,  2.29it/s]"
     ]
    },
    {
     "name": "stdout",
     "output_type": "stream",
     "text": [
      "Domain loss,acc: 0.341899, 65.42% Target domain: tr_loss-0.934382, tr_acc-93.15%\n",
      "25,000c2dTruet10:89.17% | 25,000c3dFalset10:75.83%\n"
     ]
    },
    {
     "name": "stderr",
     "output_type": "stream",
     "text": [
      "\n",
      "epoch-249 lr=['0.0001000'], tr/val_loss:  0.045337/  1.134142, tr: 100.00%, val:  88.75%, val_best:  89.17%: 100%|██████████| 62/62 [00:27<00:00,  2.27it/s]"
     ]
    },
    {
     "name": "stdout",
     "output_type": "stream",
     "text": [
      "Domain loss,acc: 0.335198, 65.32% Target domain: tr_loss-0.914920, tr_acc-93.15%\n",
      "25,000c2dTruet10:88.75% | 25,000c3dFalset10:75.42%\n"
     ]
    },
    {
     "name": "stderr",
     "output_type": "stream",
     "text": [
      "\n",
      "epoch-250 lr=['0.0001000'], tr/val_loss:  0.039559/  1.146443, tr: 100.00%, val:  88.33%, val_best:  89.17%: 100%|██████████| 62/62 [00:27<00:00,  2.29it/s]"
     ]
    },
    {
     "name": "stdout",
     "output_type": "stream",
     "text": [
      "Domain loss,acc: 0.329551, 65.52% Target domain: tr_loss-0.909534, tr_acc-93.45%\n",
      "25,000c2dTruet10:88.33% | 25,000c3dFalset10:74.17%\n"
     ]
    },
    {
     "name": "stderr",
     "output_type": "stream",
     "text": [
      "\n",
      "epoch-251 lr=['0.0001000'], tr/val_loss:  0.042225/  1.147940, tr: 100.00%, val:  88.75%, val_best:  89.17%: 100%|██████████| 62/62 [00:27<00:00,  2.27it/s]"
     ]
    },
    {
     "name": "stdout",
     "output_type": "stream",
     "text": [
      "Domain loss,acc: 0.332929, 64.21% Target domain: tr_loss-0.914337, tr_acc-91.96%\n",
      "25,000c2dTruet10:88.75% | 25,000c3dFalset10:75.42%\n"
     ]
    },
    {
     "name": "stderr",
     "output_type": "stream",
     "text": [
      "\n",
      "epoch-252 lr=['0.0001000'], tr/val_loss:  0.043699/  1.149344, tr: 100.00%, val:  89.17%, val_best:  89.17%: 100%|██████████| 62/62 [00:27<00:00,  2.23it/s]"
     ]
    },
    {
     "name": "stdout",
     "output_type": "stream",
     "text": [
      "Domain loss,acc: 0.331790, 65.42% Target domain: tr_loss-0.907972, tr_acc-93.75%\n",
      "25,000c2dTruet10:89.17% | 25,000c3dFalset10:75.00%\n"
     ]
    },
    {
     "name": "stderr",
     "output_type": "stream",
     "text": [
      "\n",
      "epoch-253 lr=['0.0001000'], tr/val_loss:  0.038879/  1.148121, tr: 100.00%, val:  88.33%, val_best:  89.17%: 100%|██████████| 62/62 [00:27<00:00,  2.23it/s]"
     ]
    },
    {
     "name": "stdout",
     "output_type": "stream",
     "text": [
      "Domain loss,acc: 0.330487, 64.52% Target domain: tr_loss-0.913704, tr_acc-92.56%\n",
      "25,000c2dTruet10:88.33% | 25,000c3dFalset10:75.83%\n"
     ]
    },
    {
     "name": "stderr",
     "output_type": "stream",
     "text": [
      "\n",
      "epoch-254 lr=['0.0001000'], tr/val_loss:  0.038949/  1.153582, tr: 100.00%, val:  88.33%, val_best:  89.17%: 100%|██████████| 62/62 [00:27<00:00,  2.24it/s]"
     ]
    },
    {
     "name": "stdout",
     "output_type": "stream",
     "text": [
      "Domain loss,acc: 0.343632, 65.83% Target domain: tr_loss-0.952998, tr_acc-91.67%\n",
      "25,000c2dTruet10:88.33% | 25,000c3dFalset10:74.58%\n"
     ]
    },
    {
     "name": "stderr",
     "output_type": "stream",
     "text": [
      "\n",
      "epoch-255 lr=['0.0001000'], tr/val_loss:  0.040831/  1.158697, tr: 100.00%, val:  88.33%, val_best:  89.17%: 100%|██████████| 62/62 [00:26<00:00,  2.34it/s]"
     ]
    },
    {
     "name": "stdout",
     "output_type": "stream",
     "text": [
      "Domain loss,acc: 0.335211, 64.82% Target domain: tr_loss-0.923972, tr_acc-92.26%\n",
      "25,000c2dTruet10:88.33% | 25,000c3dFalset10:74.17%\n"
     ]
    },
    {
     "name": "stderr",
     "output_type": "stream",
     "text": [
      "\n",
      "epoch-256 lr=['0.0001000'], tr/val_loss:  0.040732/  1.151123, tr: 100.00%, val:  87.92%, val_best:  89.17%: 100%|██████████| 62/62 [00:27<00:00,  2.25it/s]"
     ]
    },
    {
     "name": "stdout",
     "output_type": "stream",
     "text": [
      "Domain loss,acc: 0.343426, 64.82% Target domain: tr_loss-0.948814, tr_acc-92.26%\n",
      "25,000c2dTruet10:87.92% | 25,000c3dFalset10:74.17%\n"
     ]
    },
    {
     "name": "stderr",
     "output_type": "stream",
     "text": [
      "\n",
      "epoch-257 lr=['0.0001000'], tr/val_loss:  0.038649/  1.137773, tr: 100.00%, val:  89.58%, val_best:  89.58%: 100%|██████████| 62/62 [00:27<00:00,  2.29it/s]"
     ]
    },
    {
     "name": "stdout",
     "output_type": "stream",
     "text": [
      "Domain loss,acc: 0.299786, 64.42% Target domain: tr_loss-0.822060, tr_acc-93.75%\n",
      "25,000c2dTruet10:89.58% | 25,000c3dFalset10:75.00%\n"
     ]
    },
    {
     "name": "stderr",
     "output_type": "stream",
     "text": [
      "\n",
      "epoch-258 lr=['0.0001000'], tr/val_loss:  0.039788/  1.143203, tr: 100.00%, val:  87.50%, val_best:  89.58%: 100%|██████████| 62/62 [00:26<00:00,  2.30it/s]"
     ]
    },
    {
     "name": "stdout",
     "output_type": "stream",
     "text": [
      "Domain loss,acc: 0.320149, 65.52% Target domain: tr_loss-0.880870, tr_acc-93.45%\n",
      "25,000c2dTruet10:87.50% | 25,000c3dFalset10:74.58%\n"
     ]
    },
    {
     "name": "stderr",
     "output_type": "stream",
     "text": [
      "\n",
      "epoch-259 lr=['0.0001000'], tr/val_loss:  0.036950/  1.142642, tr: 100.00%, val:  88.75%, val_best:  89.58%: 100%|██████████| 62/62 [00:27<00:00,  2.24it/s]"
     ]
    },
    {
     "name": "stdout",
     "output_type": "stream",
     "text": [
      "Domain loss,acc: 0.349540, 65.52% Target domain: tr_loss-0.974718, tr_acc-92.26%\n",
      "25,000c2dTruet10:88.75% | 25,000c3dFalset10:75.83%\n"
     ]
    },
    {
     "name": "stderr",
     "output_type": "stream",
     "text": [
      "\n",
      "epoch-260 lr=['0.0001000'], tr/val_loss:  0.041316/  1.146854, tr: 100.00%, val:  87.92%, val_best:  89.58%: 100%|██████████| 62/62 [00:27<00:00,  2.29it/s]"
     ]
    },
    {
     "name": "stdout",
     "output_type": "stream",
     "text": [
      "Domain loss,acc: 0.331341, 65.83% Target domain: tr_loss-0.911391, tr_acc-93.45%\n",
      "25,000c2dTruet10:87.92% | 25,000c3dFalset10:73.33%\n"
     ]
    },
    {
     "name": "stderr",
     "output_type": "stream",
     "text": [
      "\n",
      "epoch-261 lr=['0.0001000'], tr/val_loss:  0.040529/  1.155855, tr: 100.00%, val:  89.58%, val_best:  89.58%: 100%|██████████| 62/62 [00:26<00:00,  2.31it/s]"
     ]
    },
    {
     "name": "stdout",
     "output_type": "stream",
     "text": [
      "Domain loss,acc: 0.362582, 65.73% Target domain: tr_loss-1.006688, tr_acc-91.37%\n",
      "25,000c2dTruet10:89.58% | 25,000c3dFalset10:73.33%\n"
     ]
    },
    {
     "name": "stderr",
     "output_type": "stream",
     "text": [
      "\n",
      "epoch-262 lr=['0.0001000'], tr/val_loss:  0.038718/  1.141571, tr: 100.00%, val:  88.75%, val_best:  89.58%: 100%|██████████| 62/62 [00:27<00:00,  2.25it/s]"
     ]
    },
    {
     "name": "stdout",
     "output_type": "stream",
     "text": [
      "Domain loss,acc: 0.320479, 64.52% Target domain: tr_loss-0.884002, tr_acc-92.86%\n",
      "25,000c2dTruet10:88.75% | 25,000c3dFalset10:75.00%\n"
     ]
    },
    {
     "name": "stderr",
     "output_type": "stream",
     "text": [
      "\n",
      "epoch-263 lr=['0.0001000'], tr/val_loss:  0.037168/  1.147934, tr: 100.00%, val:  89.17%, val_best:  89.58%: 100%|██████████| 62/62 [00:27<00:00,  2.27it/s]"
     ]
    },
    {
     "name": "stdout",
     "output_type": "stream",
     "text": [
      "Domain loss,acc: 0.344591, 65.93% Target domain: tr_loss-0.959437, tr_acc-91.37%\n",
      "25,000c2dTruet10:89.17% | 25,000c3dFalset10:74.58%\n"
     ]
    },
    {
     "name": "stderr",
     "output_type": "stream",
     "text": [
      "\n",
      "epoch-264 lr=['0.0001000'], tr/val_loss:  0.040676/  1.150887, tr: 100.00%, val:  87.92%, val_best:  89.58%: 100%|██████████| 62/62 [00:27<00:00,  2.27it/s]"
     ]
    },
    {
     "name": "stdout",
     "output_type": "stream",
     "text": [
      "Domain loss,acc: 0.351986, 64.52% Target domain: tr_loss-0.974605, tr_acc-90.48%\n",
      "25,000c2dTruet10:87.92% | 25,000c3dFalset10:75.00%\n"
     ]
    },
    {
     "name": "stderr",
     "output_type": "stream",
     "text": [
      "\n",
      "epoch-265 lr=['0.0001000'], tr/val_loss:  0.035828/  1.144236, tr: 100.00%, val:  87.50%, val_best:  89.58%: 100%|██████████| 62/62 [00:27<00:00,  2.24it/s]"
     ]
    },
    {
     "name": "stdout",
     "output_type": "stream",
     "text": [
      "Domain loss,acc: 0.325146, 64.82% Target domain: tr_loss-0.903781, tr_acc-93.45%\n",
      "25,000c2dTruet10:87.50% | 25,000c3dFalset10:75.00%\n"
     ]
    },
    {
     "name": "stderr",
     "output_type": "stream",
     "text": [
      "\n",
      "epoch-266 lr=['0.0001000'], tr/val_loss:  0.038536/  1.155617, tr: 100.00%, val:  87.92%, val_best:  89.58%: 100%|██████████| 62/62 [00:27<00:00,  2.27it/s]"
     ]
    },
    {
     "name": "stdout",
     "output_type": "stream",
     "text": [
      "Domain loss,acc: 0.362765, 64.92% Target domain: tr_loss-1.011224, tr_acc-90.48%\n",
      "25,000c2dTruet10:87.92% | 25,000c3dFalset10:74.58%\n"
     ]
    },
    {
     "name": "stderr",
     "output_type": "stream",
     "text": [
      "\n",
      "epoch-267 lr=['0.0001000'], tr/val_loss:  0.037066/  1.149304, tr: 100.00%, val:  89.17%, val_best:  89.58%: 100%|██████████| 62/62 [00:26<00:00,  2.32it/s]"
     ]
    },
    {
     "name": "stdout",
     "output_type": "stream",
     "text": [
      "Domain loss,acc: 0.349037, 63.71% Target domain: tr_loss-0.972979, tr_acc-92.56%\n",
      "25,000c2dTruet10:89.17% | 25,000c3dFalset10:75.42%\n"
     ]
    },
    {
     "name": "stderr",
     "output_type": "stream",
     "text": [
      "\n",
      "epoch-268 lr=['0.0001000'], tr/val_loss:  0.039318/  1.155831, tr: 100.00%, val:  88.75%, val_best:  89.58%: 100%|██████████| 62/62 [00:27<00:00,  2.26it/s]"
     ]
    },
    {
     "name": "stdout",
     "output_type": "stream",
     "text": [
      "Domain loss,acc: 0.354032, 66.63% Target domain: tr_loss-0.983461, tr_acc-91.37%\n",
      "25,000c2dTruet10:88.75% | 25,000c3dFalset10:74.17%\n"
     ]
    },
    {
     "name": "stderr",
     "output_type": "stream",
     "text": [
      "\n",
      "epoch-269 lr=['0.0001000'], tr/val_loss:  0.037065/  1.153031, tr: 100.00%, val:  88.33%, val_best:  89.58%: 100%|██████████| 62/62 [00:26<00:00,  2.33it/s]"
     ]
    },
    {
     "name": "stdout",
     "output_type": "stream",
     "text": [
      "Domain loss,acc: 0.332155, 65.02% Target domain: tr_loss-0.922336, tr_acc-92.56%\n",
      "25,000c2dTruet10:88.33% | 25,000c3dFalset10:74.58%\n"
     ]
    },
    {
     "name": "stderr",
     "output_type": "stream",
     "text": [
      "\n",
      "epoch-270 lr=['0.0001000'], tr/val_loss:  0.036218/  1.153147, tr: 100.00%, val:  89.17%, val_best:  89.58%: 100%|██████████| 62/62 [00:27<00:00,  2.29it/s]"
     ]
    },
    {
     "name": "stdout",
     "output_type": "stream",
     "text": [
      "Domain loss,acc: 0.342809, 64.72% Target domain: tr_loss-0.955993, tr_acc-90.77%\n",
      "25,000c2dTruet10:89.17% | 25,000c3dFalset10:73.75%\n"
     ]
    },
    {
     "name": "stderr",
     "output_type": "stream",
     "text": [
      "\n",
      "epoch-271 lr=['0.0001000'], tr/val_loss:  0.037065/  1.157105, tr: 100.00%, val:  89.17%, val_best:  89.58%: 100%|██████████| 62/62 [00:27<00:00,  2.27it/s]"
     ]
    },
    {
     "name": "stdout",
     "output_type": "stream",
     "text": [
      "Domain loss,acc: 0.334252, 64.42% Target domain: tr_loss-0.928625, tr_acc-93.15%\n",
      "25,000c2dTruet10:89.17% | 25,000c3dFalset10:74.17%\n"
     ]
    },
    {
     "name": "stderr",
     "output_type": "stream",
     "text": [
      "\n",
      "epoch-272 lr=['0.0001000'], tr/val_loss:  0.038017/  1.164062, tr: 100.00%, val:  89.58%, val_best:  89.58%: 100%|██████████| 62/62 [00:27<00:00,  2.28it/s]"
     ]
    },
    {
     "name": "stdout",
     "output_type": "stream",
     "text": [
      "Domain loss,acc: 0.335227, 64.62% Target domain: tr_loss-0.929648, tr_acc-92.86%\n",
      "25,000c2dTruet10:89.58% | 25,000c3dFalset10:73.75%\n"
     ]
    },
    {
     "name": "stderr",
     "output_type": "stream",
     "text": [
      "\n",
      "epoch-273 lr=['0.0001000'], tr/val_loss:  0.035130/  1.162734, tr: 100.00%, val:  88.75%, val_best:  89.58%: 100%|██████████| 62/62 [00:27<00:00,  2.26it/s]"
     ]
    },
    {
     "name": "stdout",
     "output_type": "stream",
     "text": [
      "Domain loss,acc: 0.318214, 64.52% Target domain: tr_loss-0.884382, tr_acc-93.75%\n",
      "25,000c2dTruet10:88.75% | 25,000c3dFalset10:74.58%\n"
     ]
    },
    {
     "name": "stderr",
     "output_type": "stream",
     "text": [
      "\n",
      "epoch-274 lr=['0.0001000'], tr/val_loss:  0.035191/  1.161803, tr: 100.00%, val:  87.92%, val_best:  89.58%: 100%|██████████| 62/62 [00:27<00:00,  2.27it/s]"
     ]
    },
    {
     "name": "stdout",
     "output_type": "stream",
     "text": [
      "Domain loss,acc: 0.342044, 65.22% Target domain: tr_loss-0.955750, tr_acc-92.56%\n",
      "25,000c2dTruet10:87.92% | 25,000c3dFalset10:73.75%\n"
     ]
    },
    {
     "name": "stderr",
     "output_type": "stream",
     "text": [
      "\n",
      "epoch-275 lr=['0.0001000'], tr/val_loss:  0.031857/  1.163289, tr: 100.00%, val:  88.33%, val_best:  89.58%: 100%|██████████| 62/62 [00:27<00:00,  2.30it/s]"
     ]
    },
    {
     "name": "stdout",
     "output_type": "stream",
     "text": [
      "Domain loss,acc: 0.323061, 64.42% Target domain: tr_loss-0.905468, tr_acc-93.15%\n",
      "25,000c2dTruet10:88.33% | 25,000c3dFalset10:73.33%\n"
     ]
    },
    {
     "name": "stderr",
     "output_type": "stream",
     "text": [
      "\n",
      "epoch-276 lr=['0.0001000'], tr/val_loss:  0.031549/  1.155172, tr: 100.00%, val:  87.92%, val_best:  89.58%: 100%|██████████| 62/62 [00:27<00:00,  2.28it/s]"
     ]
    },
    {
     "name": "stdout",
     "output_type": "stream",
     "text": [
      "Domain loss,acc: 0.323624, 65.02% Target domain: tr_loss-0.907773, tr_acc-94.64%\n",
      "25,000c2dTruet10:87.92% | 25,000c3dFalset10:74.58%\n"
     ]
    },
    {
     "name": "stderr",
     "output_type": "stream",
     "text": [
      "\n",
      "epoch-277 lr=['0.0001000'], tr/val_loss:  0.031708/  1.155753, tr: 100.00%, val:  88.33%, val_best:  89.58%: 100%|██████████| 62/62 [00:27<00:00,  2.27it/s]"
     ]
    },
    {
     "name": "stdout",
     "output_type": "stream",
     "text": [
      "Domain loss,acc: 0.329259, 64.82% Target domain: tr_loss-0.924360, tr_acc-92.56%\n",
      "25,000c2dTruet10:88.33% | 25,000c3dFalset10:74.58%\n"
     ]
    },
    {
     "name": "stderr",
     "output_type": "stream",
     "text": [
      "\n",
      "epoch-278 lr=['0.0001000'], tr/val_loss:  0.034579/  1.166138, tr: 100.00%, val:  87.92%, val_best:  89.58%: 100%|██████████| 62/62 [00:26<00:00,  2.34it/s]"
     ]
    },
    {
     "name": "stdout",
     "output_type": "stream",
     "text": [
      "Domain loss,acc: 0.314109, 65.32% Target domain: tr_loss-0.873170, tr_acc-94.05%\n",
      "25,000c2dTruet10:87.92% | 25,000c3dFalset10:75.00%\n"
     ]
    },
    {
     "name": "stderr",
     "output_type": "stream",
     "text": [
      "\n",
      "epoch-279 lr=['0.0001000'], tr/val_loss:  0.031802/  1.166647, tr: 100.00%, val:  87.50%, val_best:  89.58%: 100%|██████████| 62/62 [00:26<00:00,  2.35it/s]"
     ]
    },
    {
     "name": "stdout",
     "output_type": "stream",
     "text": [
      "Domain loss,acc: 0.305122, 65.12% Target domain: tr_loss-0.851762, tr_acc-95.24%\n",
      "25,000c2dTruet10:87.50% | 25,000c3dFalset10:74.17%\n"
     ]
    },
    {
     "name": "stderr",
     "output_type": "stream",
     "text": [
      "\n",
      "epoch-280 lr=['0.0001000'], tr/val_loss:  0.036319/  1.170204, tr: 100.00%, val:  89.17%, val_best:  89.58%: 100%|██████████| 62/62 [00:26<00:00,  2.35it/s]"
     ]
    },
    {
     "name": "stdout",
     "output_type": "stream",
     "text": [
      "Domain loss,acc: 0.345102, 64.01% Target domain: tr_loss-0.962668, tr_acc-93.15%\n",
      "25,000c2dTruet10:89.17% | 25,000c3dFalset10:73.33%\n"
     ]
    },
    {
     "name": "stderr",
     "output_type": "stream",
     "text": [
      "\n",
      "epoch-281 lr=['0.0001000'], tr/val_loss:  0.033486/  1.163598, tr: 100.00%, val:  88.75%, val_best:  89.58%: 100%|██████████| 62/62 [00:39<00:00,  1.58it/s]"
     ]
    },
    {
     "name": "stdout",
     "output_type": "stream",
     "text": [
      "Domain loss,acc: 0.341908, 64.72% Target domain: tr_loss-0.958752, tr_acc-92.86%\n",
      "25,000c2dTruet10:88.75% | 25,000c3dFalset10:72.50%\n"
     ]
    },
    {
     "name": "stderr",
     "output_type": "stream",
     "text": [
      "\n",
      "epoch-282 lr=['0.0001000'], tr/val_loss:  0.033008/  1.178789, tr: 100.00%, val:  89.17%, val_best:  89.58%: 100%|██████████| 62/62 [00:26<00:00,  2.38it/s]"
     ]
    },
    {
     "name": "stdout",
     "output_type": "stream",
     "text": [
      "Domain loss,acc: 0.326903, 64.01% Target domain: tr_loss-0.914694, tr_acc-93.75%\n",
      "25,000c2dTruet10:89.17% | 25,000c3dFalset10:74.17%\n"
     ]
    },
    {
     "name": "stderr",
     "output_type": "stream",
     "text": [
      "\n",
      "epoch-283 lr=['0.0001000'], tr/val_loss:  0.032316/  1.163799, tr: 100.00%, val:  89.17%, val_best:  89.58%: 100%|██████████| 62/62 [00:27<00:00,  2.27it/s]"
     ]
    },
    {
     "name": "stdout",
     "output_type": "stream",
     "text": [
      "Domain loss,acc: 0.356065, 65.02% Target domain: tr_loss-1.003562, tr_acc-93.45%\n",
      "25,000c2dTruet10:89.17% | 25,000c3dFalset10:73.75%\n"
     ]
    },
    {
     "name": "stderr",
     "output_type": "stream",
     "text": [
      "\n",
      "epoch-284 lr=['0.0001000'], tr/val_loss:  0.032477/  1.165476, tr: 100.00%, val:  87.92%, val_best:  89.58%: 100%|██████████| 62/62 [00:26<00:00,  2.31it/s]"
     ]
    },
    {
     "name": "stdout",
     "output_type": "stream",
     "text": [
      "Domain loss,acc: 0.342841, 64.11% Target domain: tr_loss-0.963569, tr_acc-91.07%\n",
      "25,000c2dTruet10:87.92% | 25,000c3dFalset10:72.50%\n"
     ]
    },
    {
     "name": "stderr",
     "output_type": "stream",
     "text": [
      "\n",
      "epoch-285 lr=['0.0001000'], tr/val_loss:  0.031973/  1.171467, tr: 100.00%, val:  87.50%, val_best:  89.58%: 100%|██████████| 62/62 [00:26<00:00,  2.36it/s]"
     ]
    },
    {
     "name": "stdout",
     "output_type": "stream",
     "text": [
      "Domain loss,acc: 0.323540, 64.42% Target domain: tr_loss-0.906675, tr_acc-93.75%\n",
      "25,000c2dTruet10:87.50% | 25,000c3dFalset10:72.92%\n"
     ]
    },
    {
     "name": "stderr",
     "output_type": "stream",
     "text": [
      "\n",
      "epoch-286 lr=['0.0001000'], tr/val_loss:  0.031167/  1.171422, tr: 100.00%, val:  87.92%, val_best:  89.58%: 100%|██████████| 62/62 [00:26<00:00,  2.33it/s]"
     ]
    },
    {
     "name": "stdout",
     "output_type": "stream",
     "text": [
      "Domain loss,acc: 0.329790, 64.21% Target domain: tr_loss-0.927035, tr_acc-94.05%\n",
      "25,000c2dTruet10:87.92% | 25,000c3dFalset10:72.50%\n"
     ]
    },
    {
     "name": "stderr",
     "output_type": "stream",
     "text": [
      "\n",
      "epoch-287 lr=['0.0001000'], tr/val_loss:  0.032702/  1.169220, tr: 100.00%, val:  87.92%, val_best:  89.58%: 100%|██████████| 62/62 [00:26<00:00,  2.32it/s]"
     ]
    },
    {
     "name": "stdout",
     "output_type": "stream",
     "text": [
      "Domain loss,acc: 0.354496, 64.52% Target domain: tr_loss-0.998085, tr_acc-91.67%\n",
      "25,000c2dTruet10:87.92% | 25,000c3dFalset10:73.33%\n"
     ]
    },
    {
     "name": "stderr",
     "output_type": "stream",
     "text": [
      "\n",
      "epoch-288 lr=['0.0001000'], tr/val_loss:  0.028917/  1.165743, tr: 100.00%, val:  88.33%, val_best:  89.58%: 100%|██████████| 62/62 [00:26<00:00,  2.37it/s]"
     ]
    },
    {
     "name": "stdout",
     "output_type": "stream",
     "text": [
      "Domain loss,acc: 0.341402, 65.02% Target domain: tr_loss-0.966373, tr_acc-94.35%\n",
      "25,000c2dTruet10:88.33% | 25,000c3dFalset10:73.75%\n"
     ]
    },
    {
     "name": "stderr",
     "output_type": "stream",
     "text": [
      "\n",
      "epoch-289 lr=['0.0001000'], tr/val_loss:  0.029011/  1.174457, tr: 100.00%, val:  87.92%, val_best:  89.58%: 100%|██████████| 62/62 [00:26<00:00,  2.34it/s]"
     ]
    },
    {
     "name": "stdout",
     "output_type": "stream",
     "text": [
      "Domain loss,acc: 0.335131, 64.62% Target domain: tr_loss-0.947371, tr_acc-94.05%\n",
      "25,000c2dTruet10:87.92% | 25,000c3dFalset10:74.58%\n"
     ]
    },
    {
     "name": "stderr",
     "output_type": "stream",
     "text": [
      "\n",
      "epoch-290 lr=['0.0001000'], tr/val_loss:  0.030214/  1.158198, tr: 100.00%, val:  87.50%, val_best:  89.58%: 100%|██████████| 62/62 [00:26<00:00,  2.30it/s]"
     ]
    },
    {
     "name": "stdout",
     "output_type": "stream",
     "text": [
      "Domain loss,acc: 0.332870, 65.52% Target domain: tr_loss-0.938182, tr_acc-94.05%\n",
      "25,000c2dTruet10:87.50% | 25,000c3dFalset10:74.58%\n"
     ]
    },
    {
     "name": "stderr",
     "output_type": "stream",
     "text": [
      "\n",
      "epoch-291 lr=['0.0001000'], tr/val_loss:  0.029635/  1.164837, tr: 100.00%, val:  87.92%, val_best:  89.58%: 100%|██████████| 62/62 [00:26<00:00,  2.38it/s]"
     ]
    },
    {
     "name": "stdout",
     "output_type": "stream",
     "text": [
      "Domain loss,acc: 0.357335, 65.32% Target domain: tr_loss-1.012737, tr_acc-89.88%\n",
      "25,000c2dTruet10:87.92% | 25,000c3dFalset10:73.75%\n"
     ]
    },
    {
     "name": "stderr",
     "output_type": "stream",
     "text": [
      "\n",
      "epoch-292 lr=['0.0001000'], tr/val_loss:  0.029898/  1.173739, tr: 100.00%, val:  88.33%, val_best:  89.58%: 100%|██████████| 62/62 [00:26<00:00,  2.33it/s]"
     ]
    },
    {
     "name": "stdout",
     "output_type": "stream",
     "text": [
      "Domain loss,acc: 0.314557, 64.72% Target domain: tr_loss-0.883875, tr_acc-94.35%\n",
      "25,000c2dTruet10:88.33% | 25,000c3dFalset10:73.33%\n"
     ]
    },
    {
     "name": "stderr",
     "output_type": "stream",
     "text": [
      "\n",
      "epoch-293 lr=['0.0001000'], tr/val_loss:  0.028554/  1.175862, tr: 100.00%, val:  88.33%, val_best:  89.58%: 100%|██████████| 62/62 [00:26<00:00,  2.31it/s]"
     ]
    },
    {
     "name": "stdout",
     "output_type": "stream",
     "text": [
      "Domain loss,acc: 0.319308, 64.82% Target domain: tr_loss-0.900816, tr_acc-93.75%\n",
      "25,000c2dTruet10:88.33% | 25,000c3dFalset10:73.75%\n"
     ]
    },
    {
     "name": "stderr",
     "output_type": "stream",
     "text": [
      "\n",
      "epoch-294 lr=['0.0001000'], tr/val_loss:  0.029848/  1.174726, tr: 100.00%, val:  87.92%, val_best:  89.58%: 100%|██████████| 62/62 [00:26<00:00,  2.30it/s]"
     ]
    },
    {
     "name": "stdout",
     "output_type": "stream",
     "text": [
      "Domain loss,acc: 0.333575, 65.62% Target domain: tr_loss-0.941030, tr_acc-94.35%\n",
      "25,000c2dTruet10:87.92% | 25,000c3dFalset10:72.50%\n"
     ]
    },
    {
     "name": "stderr",
     "output_type": "stream",
     "text": [
      "\n",
      "epoch-295 lr=['0.0001000'], tr/val_loss:  0.027885/  1.174296, tr: 100.00%, val:  87.92%, val_best:  89.58%: 100%|██████████| 62/62 [00:26<00:00,  2.30it/s]"
     ]
    },
    {
     "name": "stdout",
     "output_type": "stream",
     "text": [
      "Domain loss,acc: 0.313308, 64.82% Target domain: tr_loss-0.884153, tr_acc-93.75%\n",
      "25,000c2dTruet10:87.92% | 25,000c3dFalset10:71.67%\n"
     ]
    },
    {
     "name": "stderr",
     "output_type": "stream",
     "text": [
      "\n",
      "epoch-296 lr=['0.0001000'], tr/val_loss:  0.030664/  1.177166, tr: 100.00%, val:  87.92%, val_best:  89.58%: 100%|██████████| 62/62 [00:26<00:00,  2.30it/s]"
     ]
    },
    {
     "name": "stdout",
     "output_type": "stream",
     "text": [
      "Domain loss,acc: 0.346640, 64.82% Target domain: tr_loss-0.978593, tr_acc-91.67%\n",
      "25,000c2dTruet10:87.92% | 25,000c3dFalset10:74.17%\n"
     ]
    },
    {
     "name": "stderr",
     "output_type": "stream",
     "text": [
      "\n",
      "epoch-297 lr=['0.0001000'], tr/val_loss:  0.027286/  1.171932, tr: 100.00%, val:  88.33%, val_best:  89.58%: 100%|██████████| 62/62 [00:26<00:00,  2.30it/s]"
     ]
    },
    {
     "name": "stdout",
     "output_type": "stream",
     "text": [
      "Domain loss,acc: 0.329432, 65.42% Target domain: tr_loss-0.933724, tr_acc-92.56%\n",
      "25,000c2dTruet10:88.33% | 25,000c3dFalset10:72.92%\n"
     ]
    },
    {
     "name": "stderr",
     "output_type": "stream",
     "text": [
      "\n",
      "epoch-298 lr=['0.0001000'], tr/val_loss:  0.027687/  1.167454, tr: 100.00%, val:  87.92%, val_best:  89.58%: 100%|██████████| 62/62 [00:26<00:00,  2.38it/s]"
     ]
    },
    {
     "name": "stdout",
     "output_type": "stream",
     "text": [
      "Domain loss,acc: 0.331508, 65.83% Target domain: tr_loss-0.939148, tr_acc-92.86%\n",
      "25,000c2dTruet10:87.92% | 25,000c3dFalset10:73.33%\n"
     ]
    },
    {
     "name": "stderr",
     "output_type": "stream",
     "text": [
      "\n",
      "epoch-299 lr=['0.0001000'], tr/val_loss:  0.028539/  1.177205, tr: 100.00%, val:  87.92%, val_best:  89.58%: 100%|██████████| 62/62 [00:26<00:00,  2.32it/s]"
     ]
    },
    {
     "name": "stdout",
     "output_type": "stream",
     "text": [
      "Domain loss,acc: 0.333402, 65.42% Target domain: tr_loss-0.943129, tr_acc-91.37%\n",
      "25,000c2dTruet10:87.92% | 25,000c3dFalset10:72.50%\n"
     ]
    },
    {
     "name": "stderr",
     "output_type": "stream",
     "text": [
      "\n"
     ]
    },
    {
     "data": {
      "text/plain": [
       "'\\nddp_on 키고, gpu 개수 만큼 batch size 나눠줘\\nCUDA_VISIBLE_DEVICES=0,1,2,3,4,5 python -m torch.distributed.launch --nproc_per_node=6 main_ddp.py\\nCUDA_VISIBLE_DEVICES=1,2,3 python -m torch.distributed.launch --nproc_per_node=3 main_ddp.py\\nCUDA_VISIBLE_DEVICES=0,1,2,3 python -m torch.distributed.launch --nproc_per_node=4 main_ddp.py\\n'"
      ]
     },
     "execution_count": 6,
     "metadata": {},
     "output_type": "execute_result"
    }
   ],
   "source": [
    "### my_snn control board (Gesture) ########################\n",
    "decay = 0.25 # 0.875 0.25 0.125 0.75 0.5\n",
    "# nda 0.25 # ottt 0.5\n",
    "const2 = False # trace 할거면 True, 안할거면 False\n",
    "\n",
    "unique_name = 'main' ## 이거 설정하면 새로운 경로에 모두 save\n",
    "run_name = 'main' ## 이거 설정하면 새로운 경로에 모두 save\n",
    "\n",
    "if const2 == True:\n",
    "    const2 = decay\n",
    "else:\n",
    "    const2 = 0.0\n",
    "\n",
    "wandb.init(project= f'my_snn {unique_name}',save_code=True)\n",
    "\n",
    "my_snn_system(  devices = \"4\",\n",
    "                single_step = True, # True # False\n",
    "                unique_name = run_name,\n",
    "                my_seed = 42,\n",
    "                TIME = 10, # dvscifar 10 # ottt 6 or 10 # nda 10  # 제작하는 dvs에서 TIME넘거나 적으면 자르거나 PADDING함\n",
    "                BATCH = 16, # batch norm 할거면 2이상으로 해야함   # nda 256   #  ottt 128\n",
    "                IMAGE_SIZE = 128, # dvscifar 48 # MNIST 28 # CIFAR10 32 # PMNIST 28 #NMNIST 34 # GESTURE 128\n",
    "                # dvsgesture 128, dvs_cifar2 128, nmnist 34, n_caltech101 180,240, n_tidigits 64, heidelberg 700, \n",
    "                #pmnist는 28로 해야 됨. 나머지는 바꿔도 돌아는 감.\n",
    "\n",
    "                # DVS_CIFAR10 할거면 time 10으로 해라\n",
    "                which_data = 'DVS_GESTURE_TONIC',\n",
    "# 'CIFAR100' 'CIFAR10' 'MNIST' 'FASHION_MNIST' 'DVS_CIFAR10' 'PMNIST'아직\n",
    "# 'DVS_GESTURE', 'DVS_GESTURE_TONIC','DVS_CIFAR10_2','NMNIST','NMNIST_TONIC','CIFAR10','N_CALTECH101','n_tidigits','heidelberg'\n",
    "                # CLASS_NUM = 10,\n",
    "                data_path = '/data2', # YOU NEED TO CHANGE THIS\n",
    "                rate_coding = False, # True # False\n",
    "                lif_layer_v_init = 0.0,\n",
    "                lif_layer_v_decay = decay,\n",
    "                lif_layer_v_threshold = 0.720291189014991, # 1.3102821334243646,  # 10000이상으로 하면 NDA LIF 씀. #nda 0.5  #ottt 1.0\n",
    "                lif_layer_v_reset = 10000, # 10000이상은 hardreset (내 LIF쓰기는 함 ㅇㅇ)\n",
    "                lif_layer_sg_width = 3.555718888923306, # 2.570969004857107 # sigmoid류에서는 alpha값 4.0, rectangle류에서는 width값 0.5\n",
    "\n",
    "                # synapse_conv_in_channels = IMAGE_PIXEL_CHANNEL,\n",
    "                synapse_conv_kernel_size = 3,\n",
    "                synapse_conv_stride = 1,\n",
    "                synapse_conv_padding = 1,\n",
    "                synapse_conv_trace_const1 = 1, # 현재 trace구할 때 현재 spike에 곱해지는 상수. 걍 1로 두셈.\n",
    "                synapse_conv_trace_const2 = const2, # 현재 trace구할 때 직전 trace에 곱해지는 상수. lif_layer_v_decay와 같게 할 것을 추천\n",
    "\n",
    "                # synapse_fc_out_features = CLASS_NUM,\n",
    "                synapse_fc_trace_const1 = 1, # 현재 trace구할 때 현재 spike에 곱해지는 상수. 걍 1로 두셈.\n",
    "                synapse_fc_trace_const2 = const2, # 현재 trace구할 때 직전 trace에 곱해지는 상수. lif_layer_v_decay와 같게 할 것을 추천\n",
    "\n",
    "                pre_trained = False, # True # False\n",
    "                convTrue_fcFalse = False, # True # False\n",
    "\n",
    "                # 'P' for average pooling, 'D' for (1,1) aver pooling, 'M' for maxpooling, 'L' for linear classifier, [  ] for residual block\n",
    "                # conv에서 10000 이상은 depth-wise separable (BPTT만 지원), 20000이상은 depth-wise (BPTT만 지원)\n",
    "                # cfg = [64, 64],\n",
    "                # cfg = [64, 124, 64, 124],\n",
    "                # cfg = ['M','M',512], \n",
    "                # cfg = [512], \n",
    "                # cfg = ['M', 'M', 64, 128, 'P', 128, 'P'], \n",
    "                # cfg = ['M','M',512],\n",
    "                # cfg = ['M',200],\n",
    "                # cfg = [200,200],\n",
    "                # cfg = ['M','M',200,200],\n",
    "                cfg = ([200],[200],[200],[2]), # (feature extractor, classifier, domain adapter, # of domain)\n",
    "                # cfg = (['M','M',200],[200],[200],[2]), # (feature extractor, classifier, domain adapter, # of domain)\n",
    "                # cfg = ['M',200,200],\n",
    "                # cfg = ['M','M',1024,512,256,128,64],\n",
    "                # cfg = [200,200],\n",
    "                # cfg = [12], #fc\n",
    "                # cfg = [12, 'M', 48, 'M', 12], \n",
    "                # cfg = [64,[64,64],64], # 끝에 linear classifier 하나 자동으로 붙습니다\n",
    "                # cfg = [64, 128, 'P', 256, 256, 'P', 512, 512, 'P', 512, 512, 'D'], #ottt\n",
    "                # cfg = [64, 128, 'P', 256, 256, 'P', 512, 512, 'P', 512, 512], \n",
    "                # cfg = [64, 128, 'M', 256, 256, 'M', 512, 512, 'M', 512, 512], \n",
    "                # cfg = [64, 'P', 128, 'P', 256, 256, 'P', 512, 512, 512, 512, 'D'], # nda\n",
    "                # cfg = [64, 'P', 128, 'P', 256, 256, 'P', 512, 512, 512, 512], # nda 128pixel\n",
    "                # cfg = [64, 'P', 128, 'P', 256, 256, 'P', 512, 512, 512, 512, 'L', 4096, 4096],\n",
    "                # cfg = [20001,10001], # depthwise, separable\n",
    "                # cfg = [64,20064,10001], # vanilla conv, depthwise, separable\n",
    "                # cfg = [8, 'P', 8, 'P', 8, 'P', 8,'P', 8, 'P'],\n",
    "                # cfg = [],        \n",
    "                \n",
    "                net_print = True, # True # False # True로 하길 추천\n",
    "                weight_count_print = False, # True # False\n",
    "                \n",
    "                pre_trained_path = f\"net_save/save_now_net_weights_{unique_name}.pth\",\n",
    "                learning_rate = 0.0001, #0.1 bptt, #0.01 ottt, # default 0.001  # ottt 0.1 # nda 0.001 # 0.00936191669529645\n",
    "                epoch_num = 300,\n",
    "                verbose_interval = 999999999, #이거 걍 건들지마셈 #숫자 크게 하면 꺼짐 #걍 중간중간 iter에서 끊어서 출력\n",
    "                validation_interval =  999999999,#999999999, #이거 걍 건들지마셈 #숫자 크게 하면 에포크 마지막 iter 때 val 함\n",
    "\n",
    "                tdBN_on = False,  # True # False\n",
    "                BN_on = False,  # True # False\n",
    "                \n",
    "                surrogate = 'hard_sigmoid', # 'sigmoid' 'rectangle' 'rough_rectangle' 'hard_sigmoid'\n",
    "                \n",
    "                gradient_verbose = False,  # True # False  # weight gradient 각 layer마다 띄워줌\n",
    "\n",
    "                BPTT_on = False,  # True # False # True이면 BPTT, False이면 OTTT  # depthwise, separable은 BPTT만 가능\n",
    "                optimizer_what = 'SGD', # 'SGD' 'Adam', 'RMSprop'\n",
    "                scheduler_name = 'no', # 'no' 'StepLR' 'ExponentialLR' 'ReduceLROnPlateau' 'CosineAnnealingLR' 'OneCycleLR'\n",
    "                \n",
    "                ddp_on = False,   # True # False \n",
    "                # 지원 DATASET: cifar10, mnist\n",
    "\n",
    "                nda_net = False,   # True # False\n",
    "\n",
    "                domain_il_epoch = 0, # over 0, then domain il mode on # pmnist 쓸거면 HLOP 코드보고 더 디벨롭하셈. 지금 개발 hold함.\n",
    "                \n",
    "                dvs_clipping = 2, #일반적으로 1 또는 2 # 100ms때는 5 # 숫자만큼 크면 spike 아니면 걍 0\n",
    "                # gesture, cifar-dvs2, nmnist, ncaltech101\n",
    "                # gesture: 100_000c1-5, 25_000c5, 10_000c5, 1_000c5, 1_000_000c5\n",
    "\n",
    "                dvs_duration = 25_000, # 0 아니면 time sampling # dvs number sampling OR time sampling # gesture, cifar-dvs2, nmnist, ncaltech101\n",
    "                # 있는 데이터들 #gesture 100_000 25_000 10_000 1_000 1_000_000 #nmnist 10000 #nmnist_tonic 10_000 25_000\n",
    "                # 한 숫자가 1us인듯 (spikingjelly코드에서)\n",
    "                # 한 장에 50 timestep만 생산함. 싫으면 my_snn/trying/spikingjelly_dvsgesture의__init__.py 를 참고해봐\n",
    "                # nmnist 5_000us, gesture는 100_000us, 25_000us\n",
    "\n",
    "                OTTT_sWS_on = False, # True # False # BPTT끄고, CONV에만 적용됨.\n",
    "\n",
    "                DFA_on = False, # True # False # residual은 dfa지원안함.\n",
    "                OTTT_input_trace_on = False, # True # False # 맨 처음 input에 trace 적용\n",
    "                 \n",
    "                e_transport_swap = 0, # 1 이상이면 해당 숫자 에포크만큼 val_acc_best가 변화가 없으면 e_transport scheme (BP vs DFA) swap\n",
    "                e_transport_swap_tr = 0, # 1 이상이면 해당 숫자 에포크만큼 tr_acc_best가 변화가 없으면 e_transport scheme (BP vs DFA) swap\n",
    "                e_transport_swap_coin = 1, # swap할 수 있는 coin 개수\n",
    "\n",
    "                drop_rate = 0, # drop_rate만큼 0으로 만듦. ex) 0.2면 activation의 20%를 0으로 만듦.\n",
    "\n",
    "                exclude_class = True, # True # False # gesture에서 10번째 클래스 제외\n",
    "\n",
    "                merge_polarities = False, # True # False # tonic dvs dataset 에서 polarities 합치기\n",
    "                denoise_on = True, # True # False\n",
    "\n",
    "                I_wanna_sweep_at_this_epoch = -1, # 지정 에포크에서 BP와 DFA를 바꿔줌. -1이면 실행 안함.\n",
    "                # dvs_duration_domain=[(100_000,5,False),(125_000,5,False),(150_000,5,False),],\n",
    "                # dvs_duration_domain=[(40_000,4,False),(50_000,4,False),(60_000,4,False),],\n",
    "                # [duration, clipping, denoise_on]\n",
    "                dvs_duration_domain=[(25_000,3,False)],\n",
    "                dvs_relative_timestep = False, # True # False \n",
    "                \n",
    "                extra_train_dataset = 0,\n",
    "\n",
    "                num_workers = 2, # local wsl에서는 2가 맞고, 서버에서는 4가 좋더라.\n",
    "                chaching_on = True, # True # False # only for certain datasets (gesture_tonic, nmnist_tonic)\n",
    "                pin_memory = True, # True # False \n",
    "\n",
    "                UDA_on = True, # True # False\n",
    "                UDA_data = (25_000,3,False), # (duration, clipping, denoise_on)\n",
    "                src_trg_ratio = 2, # (1이상의 정수) src data와 trg data의 개수 비율 (대략적으로)\n",
    "                adapter_loss_weight = 0.0, # 1.0  # adapter loss의 힘. # 이걸 0으로하면 src only learning.\n",
    "                alpha_uda = 1.0, # GRL의 alpha값\n",
    "\n",
    "                temporal_filter = 5, # 한타임스텝에 쑤셔 넣을 window개수. \n",
    "                initial_pooling = 8, # 1이면 pooling 안함. 2의 승수만 입력하셈. log2를 취해서 pooling할 window size를 결정함.\n",
    "                ) \n",
    "\n",
    "# num_workers = 4 * num_GPU (or 8, 16, 2 * num_GPU)\n",
    "# entry * batch_size * num_worker = num_GPU * GPU_throughtput\n",
    "# num_workers = batch_size / num_GPU\n",
    "# num_workers = batch_size / num_CPU\n",
    "\n",
    "# sigmoid와 BN이 있어야 잘된다.\n",
    "# average pooling  \n",
    "# 이 낫다. \n",
    " \n",
    "# nda에서는 decay = 0.25, threshold = 0.5, width =1, surrogate = rectangle, batch = 256, tdBN = True\n",
    "## OTTT 에서는 decay = 0.5, threshold = 1.0, surrogate = sigmoid, batch = 128, BN = True\n",
    "\n",
    "\n",
    "# DDP 실행 코드0\n",
    "'''\n",
    "ddp_on 키고, gpu 개수 만큼 batch size 나눠줘\n",
    "CUDA_VISIBLE_DEVICES=0,1,2,3,4,5 python -m torch.distributed.launch --nproc_per_node=6 main_ddp.py\n",
    "CUDA_VISIBLE_DEVICES=1,2,3 python -m torch.distributed.launch --nproc_per_node=3 main_ddp.py\n",
    "CUDA_VISIBLE_DEVICES=0,1,2,3 python -m torch.distributed.launch --nproc_per_node=4 main_ddp.py\n",
    "'''\n",
    "\n"
   ]
  },
  {
   "cell_type": "code",
   "execution_count": null,
   "metadata": {},
   "outputs": [],
   "source": [
    "# # sweep 하는 코드, 위 셀 주석처리 해야 됨.\n",
    "\n",
    "# # 이런 워닝 뜨는 거는 걍 너가 main 안에서  wandb.config.update(hyperparameters)할 때 물려서임. 어차피 근데 sweep에서 지정한 걸로 덮어짐 \n",
    "# # wandb: WARNING Config item 'BATCH' was locked by 'sweep' (ignored update).\n",
    "\n",
    "# unique_name_hyper = 'main'\n",
    "# run_name = 'main'\n",
    "# sweep_configuration = {\n",
    "#     'method': 'random', # 'random', 'bayes'\n",
    "#     'name': f'my_snn_sweep{datetime.datetime.now().strftime(\"%Y%m%d_%H%M%S\")}',\n",
    "#     'metric': {'goal': 'maximize', 'name': 'val_acc_best'},\n",
    "#     'parameters': \n",
    "#     {\n",
    "#         \"learning_rate\": {\"values\": [0.001]}, #0.00936191669529645\n",
    "#         \"BATCH\": {\"values\": [16]},\n",
    "#         \"decay\": {\"values\": [0.25]},\n",
    "#         \"IMAGE_SIZE\": {\"values\": [128]},\n",
    "#         \"TIME\": {\"values\": [10]},\n",
    "#         \"epoch_num\": {\"values\": [200]},\n",
    "#         \"dvs_duration\": {\"values\": [25_000,50_000,100_000]},\n",
    "#         \"dvs_clipping\": {\"values\": [1,2,3,4,5]},\n",
    "#         \"which_data\": {\"values\": ['DVS_GESTURE_TONIC']},\n",
    "#         \"OTTT_sWS_on\": {\"values\": [False]},\n",
    "#         \"const2\": {\"values\": [False]},\n",
    "#         \"surrogate\": {\"values\": ['hard_sigmoid']},\n",
    "#         \"DFA_on\": {\"values\": [False]},\n",
    "#         \"OTTT_input_trace_on\": {\"values\": [False]},\n",
    "#         \"cfg\": {\"values\": [['M','M',200,200]]},\n",
    "#         \"e_transport_swap\": {\"values\": [0]},\n",
    "#         \"e_transport_swap_tr\": {\"values\": [0]},\n",
    "#         \"drop_rate\": {\"values\": [0.0]}, # \"drop_rate\": {\"values\": [0.25,0.5,0.75]}, #\"drop_rate\": {\"min\": 0.25, \"max\": 0.75},\n",
    "#         \"exclude_class\": {\"values\": [True]},\n",
    "#         \"merge_polarities\": {\"values\": [False]},\n",
    "#         \"lif_layer_v_reset\": {\"values\": [10000]},\n",
    "#         \"lif_layer_sg_width\": {\"values\": [3.555718888923306]},\n",
    "#         \"e_transport_swap_coin\": {\"values\": [1]},\n",
    "#         \"lif_layer_v_threshold\": {\"values\": [0.720291189014991]},\n",
    "#         \"scheduler_name\": {\"values\": ['no']},  # 'no' 'StepLR' 'ExponentialLR' 'ReduceLROnPlateau' 'CosineAnnealingLR' 'OneCycleLR'\n",
    "#         \"denoise_on\": {\"values\": [True,False]}, \n",
    "#         \"I_wanna_sweep_at_this_epoch\": {\"values\": [-1]}, \n",
    "#         \"dvs_duration_domain\": {\"values\": [[]]}, \n",
    "#         \"dvs_relative_timestep\": {\"values\": [[False]]}, \n",
    "#         \"extra_train_dataset\": {\"values\": [0]}, \n",
    "#      }\n",
    "# }\n",
    "\n",
    "# def hyper_iter():\n",
    "#     ### my_snn control board ########################\n",
    "#     unique_name = unique_name_hyper ## 이거 설정하면 새로운 경로에 모두 save\n",
    "    \n",
    "#     wandb.init(save_code = True)\n",
    "#     learning_rate  =  wandb.config.learning_rate\n",
    "#     BATCH  =  wandb.config.BATCH\n",
    "#     decay  =  wandb.config.decay\n",
    "#     IMAGE_SIZE  =  wandb.config.IMAGE_SIZE\n",
    "#     TIME  =  wandb.config.TIME\n",
    "#     epoch_num  =  wandb.config.epoch_num \n",
    "#     dvs_duration  =  wandb.config.dvs_duration\n",
    "#     dvs_clipping  =  wandb.config.dvs_clipping\n",
    "#     which_data  =  wandb.config.which_data\n",
    "#     OTTT_sWS_on  =  wandb.config.OTTT_sWS_on\n",
    "#     const2  =  wandb.config.const2\n",
    "#     surrogate  =  wandb.config.surrogate\n",
    "#     DFA_on  =  wandb.config.DFA_on\n",
    "#     OTTT_input_trace_on  =  wandb.config.OTTT_input_trace_on\n",
    "#     cfg  =  wandb.config.cfg\n",
    "#     e_transport_swap  =  wandb.config.e_transport_swap\n",
    "#     e_transport_swap_tr  =  wandb.config.e_transport_swap_tr\n",
    "#     drop_rate  =  wandb.config.drop_rate\n",
    "#     exclude_class  =  wandb.config.exclude_class\n",
    "#     merge_polarities  =  wandb.config.merge_polarities\n",
    "#     lif_layer_v_reset  =  wandb.config.lif_layer_v_reset\n",
    "#     lif_layer_sg_width  =  wandb.config.lif_layer_sg_width\n",
    "#     e_transport_swap_coin  =  wandb.config.e_transport_swap_coin\n",
    "#     lif_layer_v_threshold  =  wandb.config.lif_layer_v_threshold\n",
    "#     scheduler_name  =  wandb.config.scheduler_name\n",
    "#     denoise_on  =  wandb.config.denoise_on\n",
    "#     I_wanna_sweep_at_this_epoch  =  wandb.config.I_wanna_sweep_at_this_epoch\n",
    "#     dvs_duration_domain  =  wandb.config.dvs_duration_domain\n",
    "#     dvs_relative_timestep  =  wandb.config.dvs_relative_timestep\n",
    "#     extra_train_dataset  =  wandb.config.extra_train_dataset\n",
    "#     if const2 == True:\n",
    "#         const2 = decay\n",
    "#     else:\n",
    "#         const2 = 0.0\n",
    "\n",
    "#     my_snn_system(  devices = \"5\",\n",
    "#                 single_step = True, # True # False\n",
    "#                 unique_name = run_name,\n",
    "#                 my_seed = 42,\n",
    "#                 TIME = TIME , # dvscifar 10 # ottt 6 or 10 # nda 10  # 제작하는 dvs에서 TIME넘거나 적으면 자르거나 PADDING함\n",
    "#                 BATCH = BATCH, # batch norm 할거면 2이상으로 해야함   # nda 256   #  ottt 128\n",
    "#                 IMAGE_SIZE = IMAGE_SIZE, # dvscifar 48 # MNIST 28 # CIFAR10 32 # PMNIST 28 #NMNIST 34 # GESTURE 128\n",
    "#                 # dvsgesture 128, dvs_cifar2 128, nmnist 34, n_caltech101 180,240, n_tidigits 64, heidelberg 700, \n",
    "#                 #pmnist는 28로 해야 됨. 나머지는 바꿔도 돌아는 감.\n",
    "\n",
    "#                 # DVS_CIFAR10 할거면 time 10으로 해라\n",
    "#                 which_data = which_data,\n",
    "# # 'CIFAR100' 'CIFAR10' 'MNIST' 'FASHION_MNIST' 'DVS_CIFAR10' 'PMNIST'아직\n",
    "# # 'DVS_GESTURE', 'DVS_GESTURE_TONIC','DVS_CIFAR10_2','NMNIST','NMNIST_TONIC','N_CALTECH101','n_tidigits','heidelberg'\n",
    "#                 # CLASS_NUM = 10,\n",
    "#                 data_path = '/data2', # YOU NEED TO CHANGE THIS\n",
    "#                 rate_coding = False, # True # False\n",
    "#                 lif_layer_v_init = 0.0,\n",
    "#                 lif_layer_v_decay = decay,\n",
    "#                 lif_layer_v_threshold = lif_layer_v_threshold,  # 10000이상으로 하면 NDA LIF 씀. #nda 0.5  #ottt 1.0\n",
    "#                 lif_layer_v_reset = lif_layer_v_reset, # 10000이상은 hardreset (내 LIF쓰기는 함 ㅇㅇ)\n",
    "#                 lif_layer_sg_width = lif_layer_sg_width, # # surrogate sigmoid 쓸 때는 의미없음\n",
    "\n",
    "#                 # synapse_conv_in_channels = IMAGE_PIXEL_CHANNEL,\n",
    "#                 synapse_conv_kernel_size = 3,\n",
    "#                 synapse_conv_stride = 1,\n",
    "#                 synapse_conv_padding = 1,\n",
    "#                 synapse_conv_trace_const1 = 1, # 현재 trace구할 때 현재 spike에 곱해지는 상수. 걍 1로 두셈.\n",
    "#                 synapse_conv_trace_const2 = const2, # 현재 trace구할 때 직전 trace에 곱해지는 상수. lif_layer_v_decay와 같게 할 것을 추천\n",
    "\n",
    "#                 # synapse_fc_out_features = CLASS_NUM,\n",
    "#                 synapse_fc_trace_const1 = 1, # 현재 trace구할 때 현재 spike에 곱해지는 상수. 걍 1로 두셈.\n",
    "#                 synapse_fc_trace_const2 = const2, # 현재 trace구할 때 직전 trace에 곱해지는 상수. lif_layer_v_decay와 같게 할 것을 추천\n",
    "\n",
    "#                 pre_trained = False, # True # False\n",
    "#                 convTrue_fcFalse = False, # True # False\n",
    "\n",
    "#                 # 'P' for average pooling, 'D' for (1,1) aver pooling, 'M' for maxpooling, 'L' for linear classifier, [  ] for residual block\n",
    "#                 # conv에서 10000 이상은 depth-wise separable (BPTT만 지원), 20000이상은 depth-wise (BPTT만 지원)\n",
    "#                 # cfg = [64, 64],\n",
    "#                 # cfg = [64, 124, 64, 124],\n",
    "#                 # cfg = ['M','M',512], \n",
    "#                 # cfg = [512], \n",
    "#                 # cfg = ['M', 'M', 64, 128, 'P', 128, 'P'], \n",
    "#                 # cfg = ['M','M',200,200],\n",
    "#                 # cfg = [200,200],\n",
    "#                 cfg = cfg,\n",
    "#                 # cfg = [12], #fc\n",
    "#                 # cfg = [12, 'M', 48, 'M', 12], \n",
    "#                 # cfg = [64,[64,64],64], # 끝에 linear classifier 하나 자동으로 붙습니다\n",
    "#                 # cfg = [64, 128, 'P', 256, 256, 'P', 512, 512, 'P', 512, 512, 'D'], #ottt\n",
    "#                 # cfg = [64, 128, 'P', 256, 256, 'P', 512, 512, 'P', 512, 512], \n",
    "#                 # cfg = [64, 128, 'M', 256, 256, 'M', 512, 512, 'M', 512, 512], \n",
    "#                 # cfg = [64, 'P', 128, 'P', 256, 256, 'P', 512, 512, 512, 512, 'D'], # nda\n",
    "#                 # cfg = [64, 'P', 128, 'P', 256, 256, 'P', 512, 512, 512, 512], # nda 128pixel\n",
    "#                 # cfg = [64, 'P', 128, 'P', 256, 256, 'P', 512, 512, 512, 512, 'L', 4096, 4096],\n",
    "#                 # cfg = [20001,10001], # depthwise, separable\n",
    "#                 # cfg = [64,20064,10001], # vanilla conv, depthwise, separable\n",
    "#                 # cfg = [8, 'P', 8, 'P', 8, 'P', 8,'P', 8, 'P'],\n",
    "#                 # cfg = [], \n",
    "                \n",
    "#                 net_print = True, # True # False # True로 하길 추천\n",
    "#                 weight_count_print = False, # True # False\n",
    "                \n",
    "#                 pre_trained_path = f\"net_save/save_now_net_weights_{unique_name}.pth\",\n",
    "#                 learning_rate = learning_rate, # default 0.001  # ottt 0.1 # nda 0.001 \n",
    "#                 epoch_num = epoch_num,\n",
    "#                 verbose_interval = 999999999, #숫자 크게 하면 꺼짐 #걍 중간중간 iter에서 끊어서 출력\n",
    "#                 validation_interval =  999999999,#999999999, #숫자 크게 하면 에포크 마지막 iter 때 val 함\n",
    "\n",
    "#                 tdBN_on = False,  # True # False\n",
    "#                 BN_on = False,  # True # False\n",
    "                \n",
    "#                 surrogate = surrogate, # 'rectangle' 'sigmoid' 'rough_rectangle'\n",
    "                \n",
    "#                 gradient_verbose = False,  # True # False  # weight gradient 각 layer마다 띄워줌\n",
    "\n",
    "#                 BPTT_on = False,  # True # False # True이면 BPTT, False이면 OTTT  # depthwise, separable은 BPTT만 가능\n",
    "#                 optimizer_what = 'SGD', # 'SGD' 'Adam', 'RMSprop'\n",
    "#                 scheduler_name = scheduler_name, # 'no' 'StepLR' 'ExponentialLR' 'ReduceLROnPlateau' 'CosineAnnealingLR' 'OneCycleLR'\n",
    "                \n",
    "#                 ddp_on = False,   # True # False \n",
    "#                 # 지원 DATASET: cifar10, mnist\n",
    "\n",
    "#                 nda_net = False,   # True # False\n",
    "\n",
    "#                 domain_il_epoch = 0, # over 0, then domain il mode on # pmnist 쓸거면 HLOP 코드보고 더 디벨롭하셈. 지금 개발 hold함.\n",
    "                \n",
    "#                 dvs_clipping = dvs_clipping, # 숫자만큼 크면 spike 아니면 걍 0\n",
    "#                 # gesture, cifar-dvs2, nmnist, ncaltech101\n",
    "\n",
    "#                 dvs_duration = dvs_duration, # 0 아니면 time sampling # dvs number sampling OR time sampling # gesture, cifar-dvs2, nmnist, ncaltech101\n",
    "#                 # 있는 데이터들 #gesture 100_000 25_000 10_000 1_000 1_000_000 #nmnist 10000 #nmnist_tonic 10_000 25_000\n",
    "#                 # 한 숫자가 1us인듯 (spikingjelly코드에서)\n",
    "#                 # 한 장에 50 timestep만 생산함. 싫으면 my_snn/trying/spikingjelly_dvsgesture의__init__.py 를 참고해봐\n",
    "\n",
    "#                 OTTT_sWS_on = OTTT_sWS_on, # True # False # BPTT끄고, CONV에만 적용됨.\n",
    "\n",
    "#                 DFA_on = DFA_on, # True # False # residual은 dfa지원안함.\n",
    "#                 OTTT_input_trace_on = OTTT_input_trace_on, # True # False # 맨 처음 input에 trace 적용\n",
    "                 \n",
    "#                 e_transport_swap = e_transport_swap, # 1 이상이면 해당 숫자 에포크만큼 val_acc_best가 변화가 없으면 e_transport scheme (BP vs DFA) swap\n",
    "#                 e_transport_swap_tr = e_transport_swap_tr, # 1 이상이면 해당 숫자 에포크만큼 tr_acc_best가 변화가 없으면 e_transport scheme (BP vs DFA) swap\n",
    "#                 e_transport_swap_coin = e_transport_swap_coin, # swap할 수 있는 coin 개수\n",
    "                    \n",
    "#                 drop_rate = drop_rate,\n",
    "\n",
    "#                 exclude_class = exclude_class, # True # False # gesture에서 10번째 클래스 제외\n",
    "\n",
    "#                 merge_polarities = merge_polarities, # True # False # tonic dvs dataset 에서 polarities 합치기\n",
    "#                 denoise_on = denoise_on,\n",
    "\n",
    "#                 I_wanna_sweep_at_this_epoch = I_wanna_sweep_at_this_epoch,\n",
    "#                 dvs_duration_domain = dvs_duration_domain,\n",
    "#                 dvs_relative_timestep = dvs_relative_timestep, # True # False \n",
    "\n",
    "#                 extra_train_dataset = extra_train_dataset,\n",
    "\n",
    "#                 num_workers = 2,\n",
    "#                 chaching_on = True,\n",
    "#                 pin_memory = True, # True # False\n",
    "#                     ) \n",
    "#     # sigmoid와 BN이 있어야 잘된다.\n",
    "#     # average pooling\n",
    "#     # 이 낫다. \n",
    "    \n",
    "#     # nda에서는 decay = 0.25, threshold = 0.5, width =1, surrogate = rectangle, batch = 256, tdBN = True\n",
    "#     ## OTTT 에서는 decay = 0.5, threshold = 1.0, surrogate = sigmoid, batch = 128, BN = True\n",
    "\n",
    "# sweep_id = wandb.sweep(sweep=sweep_configuration, project=f'my_snn {unique_name_hyper}')\n",
    "# wandb.agent(sweep_id, function=hyper_iter, count=10000, project=f'my_snn {unique_name_hyper}')\n"
   ]
  },
  {
   "cell_type": "code",
   "execution_count": null,
   "metadata": {},
   "outputs": [
    {
     "data": {
      "application/vnd.jupyter.widget-view+json": {
       "model_id": "3eb61fed84454f73bfd6fe76d978173b",
       "version_major": 2,
       "version_minor": 0
      },
      "text/plain": [
       "VBox(children=(Label(value='24.262 MB of 24.262 MB uploaded (1.188 MB deduped)\\r'), FloatProgress(value=1.0, m…"
      ]
     },
     "metadata": {},
     "output_type": "display_data"
    },
    {
     "data": {
      "text/html": [
       "W&B sync reduced upload amount by 4.8%"
      ],
      "text/plain": [
       "<IPython.core.display.HTML object>"
      ]
     },
     "metadata": {},
     "output_type": "display_data"
    },
    {
     "data": {
      "text/html": [
       "<style>\n",
       "    table.wandb td:nth-child(1) { padding: 0 10px; text-align: left ; width: auto;} td:nth-child(2) {text-align: left ; width: 100%}\n",
       "    .wandb-row { display: flex; flex-direction: row; flex-wrap: wrap; justify-content: flex-start; width: 100% }\n",
       "    .wandb-col { display: flex; flex-direction: column; flex-basis: 100%; flex: 1; padding: 10px; }\n",
       "    </style>\n",
       "<div class=\"wandb-row\"><div class=\"wandb-col\"><h3>Run history:</h3><br/><table class=\"wandb\"><tr><td>DFA_flag</td><td>▁▁▁▁▁▁▁▁▁▁▁▁▁▁▁▁▁▁▁▁▁▁▁▁▁▁▁▁▁▁▁▁▁▁▁▁▁▁▁▁</td></tr><tr><td>epoch</td><td>▁▁▁▁▂▂▂▂▂▃▃▃▃▃▃▄▄▄▄▄▅▅▅▅▅▅▆▆▆▆▆▇▇▇▇▇▇███</td></tr><tr><td>iter_acc</td><td>▁▂▄▅▇█▆████▇██▇▆█▇███▇█▇██████████▇█████</td></tr><tr><td>summary_val_acc</td><td>▁▄▆▇▇▇▇▇▇██▇████████████████████████████</td></tr><tr><td>tr_acc</td><td>▁▄▆▆▇▇▇▇████████████████████████████████</td></tr><tr><td>tr_epoch_loss</td><td>█▆▅▄▄▃▃▃▃▃▂▂▂▂▂▂▂▂▁▁▁▁▁▁▁▁▁▁▁▁▁▁▁▁▁▁▁▁▁▁</td></tr><tr><td>val_acc_best</td><td>▁▄▆▇▇▇▇▇▇███████████████████████████████</td></tr><tr><td>val_acc_now</td><td>▁▄▆▇▇▇▇▇▇██▇████████████████████████████</td></tr><tr><td>val_loss</td><td>█▆▃▂▂▂▂▁▁▁▁▁▁▁▁▁▁▁▁▁▁▁▂▂▂▂▂▂▂▂▂▂▂▂▂▂▂▂▂▂</td></tr></table><br/></div><div class=\"wandb-col\"><h3>Run summary:</h3><br/><table class=\"wandb\"><tr><td>DFA_flag</td><td>0.0</td></tr><tr><td>epoch</td><td>299</td></tr><tr><td>iter_acc</td><td>1.0</td></tr><tr><td>tr_acc</td><td>1.0</td></tr><tr><td>tr_epoch_loss</td><td>0.02854</td></tr><tr><td>val_acc_best</td><td>0.89583</td></tr><tr><td>val_acc_now</td><td>0.87917</td></tr><tr><td>val_loss</td><td>1.17721</td></tr></table><br/></div></div>"
      ],
      "text/plain": [
       "<IPython.core.display.HTML object>"
      ]
     },
     "metadata": {},
     "output_type": "display_data"
    },
    {
     "data": {
      "text/html": [
       " View run <strong style=\"color:#cdcd00\">honest-flower-6179</strong> at: <a href='https://wandb.ai/bhkim003-seoul-national-university/my_snn%20main/runs/emn75kdm' target=\"_blank\">https://wandb.ai/bhkim003-seoul-national-university/my_snn%20main/runs/emn75kdm</a><br/> View project at: <a href='https://wandb.ai/bhkim003-seoul-national-university/my_snn%20main' target=\"_blank\">https://wandb.ai/bhkim003-seoul-national-university/my_snn%20main</a><br/>Synced 7 W&B file(s), 0 media file(s), 14 artifact file(s) and 1 other file(s)"
      ],
      "text/plain": [
       "<IPython.core.display.HTML object>"
      ]
     },
     "metadata": {},
     "output_type": "display_data"
    },
    {
     "data": {
      "text/html": [
       "Find logs at: <code>./wandb/run-20241012_005538-emn75kdm/logs</code>"
      ],
      "text/plain": [
       "<IPython.core.display.HTML object>"
      ]
     },
     "metadata": {},
     "output_type": "display_data"
    },
    {
     "data": {
      "text/html": [
       "The new W&B backend becomes opt-out in version 0.18.0; try it out with `wandb.require(\"core\")`! See https://wandb.me/wandb-core for more information."
      ],
      "text/plain": [
       "<IPython.core.display.HTML object>"
      ]
     },
     "metadata": {},
     "output_type": "display_data"
    }
   ],
   "source": [
    "wandb.finish() "
   ]
  },
  {
   "cell_type": "code",
   "execution_count": null,
   "metadata": {},
   "outputs": [],
   "source": [
    "# import numpy as np\n",
    "# import matplotlib.pyplot as plt\n",
    "# import json\n",
    "# run_name = 'main_FINAL_TEST'\n",
    "\n",
    "# unique_name = run_name\n",
    "# def pad_array_to_match_length(array1, array2):\n",
    "#     if len(array1) > len(array2):\n",
    "#         padded_array2 = np.pad(array2, (0, len(array1) - len(array2)), 'constant')\n",
    "#         return array1, padded_array2\n",
    "#     elif len(array2) > len(array1):\n",
    "#         padded_array1 = np.pad(array1, (0, len(array2) - len(array1)), 'constant')\n",
    "#         return padded_array1, array2\n",
    "#     else:\n",
    "#         return array1, array2\n",
    "# def load_hyperparameters(filename=f'result_save/hyperparameters_{unique_name}.json'):\n",
    "#     with open(filename, 'r') as f:\n",
    "#         return json.load(f)\n",
    "    \n",
    "\n",
    "\n",
    "\n",
    "\n",
    "# current_time = '20240628_110116'\n",
    "# base_name = f'{current_time}'\n",
    "# iter_acc_file_name = f'result_save/{base_name}_iter_acc_array_{unique_name}.npy'\n",
    "# val_acc_file_name = f'result_save/{base_name}_val_acc_now_array_{unique_name}.npy'\n",
    "# hyperparameters_file_name = f'result_save/{base_name}_hyperparameters_{unique_name}.json'\n",
    "\n",
    "# ### if you want to just see most recent train and val acc###########################\n",
    "# iter_acc_file_name = f'result_save/iter_acc_array_{unique_name}.npy'\n",
    "# tr_acc_file_name = f'result_save/tr_acc_array_{unique_name}.npy'\n",
    "# val_acc_file_name = f'result_save/val_acc_now_array_{unique_name}.npy'\n",
    "# hyperparameters_file_name = f'result_save/hyperparameters_{unique_name}.json'\n",
    "\n",
    "# loaded_iter_acc_array = np.load(iter_acc_file_name)*100\n",
    "# loaded_tr_acc_array = np.load(tr_acc_file_name)*100\n",
    "# loaded_val_acc_array = np.load(val_acc_file_name)*100\n",
    "# hyperparameters = load_hyperparameters(hyperparameters_file_name)\n",
    "\n",
    "# loaded_iter_acc_array, loaded_val_acc_array = pad_array_to_match_length(loaded_iter_acc_array, loaded_val_acc_array)\n",
    "# loaded_iter_acc_array, loaded_tr_acc_array = pad_array_to_match_length(loaded_iter_acc_array, loaded_tr_acc_array)\n",
    "# loaded_val_acc_array, loaded_tr_acc_array = pad_array_to_match_length(loaded_val_acc_array, loaded_tr_acc_array)\n",
    "\n",
    "# top_iter_acc = np.max(loaded_iter_acc_array)\n",
    "# top_tr_acc = np.max(loaded_tr_acc_array)\n",
    "# top_val_acc = np.max(loaded_val_acc_array)\n",
    "\n",
    "# which_data = hyperparameters['which_data']\n",
    "# BPTT_on = hyperparameters['BPTT_on']\n",
    "# current_epoch = hyperparameters['current epoch']\n",
    "# surrogate = hyperparameters['surrogate']\n",
    "# cfg = hyperparameters['cfg']\n",
    "# tdBN_on = hyperparameters['tdBN_on']\n",
    "# BN_on = hyperparameters['BN_on']\n",
    "\n",
    "\n",
    "# iterations = np.arange(len(loaded_iter_acc_array))\n",
    "\n",
    "# # 그래프 그리기\n",
    "# plt.figure(figsize=(10, 5))\n",
    "# plt.plot(iterations, loaded_iter_acc_array, label='Iter Accuracy', color='g', alpha=0.2)\n",
    "# plt.plot(iterations, loaded_tr_acc_array, label='Training Accuracy', color='b')\n",
    "# plt.plot(iterations, loaded_val_acc_array, label='Validation Accuracy', color='r')\n",
    "\n",
    "# # # 텍스트 추가\n",
    "# # plt.text(0.05, 0.95, f'Top Training Accuracy: {100*top_iter_acc:.2f}%', transform=plt.gca().transAxes, fontsize=12, verticalalignment='top', horizontalalignment='left', color='blue')\n",
    "# # plt.text(0.05, 0.90, f'Top Validation Accuracy: {100*top_val_acc:.2f}%', transform=plt.gca().transAxes, fontsize=12, verticalalignment='top', horizontalalignment='left', color='red')\n",
    "# # 텍스트 추가\n",
    "# plt.text(0.5, 0.10, f'Top Training Accuracy: {top_tr_acc:.2f}%', transform=plt.gca().transAxes, fontsize=12, verticalalignment='top', horizontalalignment='center', color='blue')\n",
    "# plt.text(0.5, 0.05, f'Top Validation Accuracy: {top_val_acc:.2f}%', transform=plt.gca().transAxes, fontsize=12, verticalalignment='top', horizontalalignment='center', color='red')\n",
    "\n",
    "# plt.xlabel('Iterations')\n",
    "# plt.ylabel('Accuracy [%]')\n",
    "\n",
    "# # 그래프 제목에 하이퍼파라미터 정보 추가\n",
    "# title = f'Training and Validation Accuracy over Iterations\\n\\nData: {which_data}, BPTT: {\"On\" if BPTT_on else \"Off\"}, Current Epoch: {current_epoch}, Surrogate: {surrogate},\\nCFG: {cfg}, tdBN: {\"On\" if tdBN_on else \"Off\"}, BN: {\"On\" if BN_on else \"Off\"}'\n",
    "\n",
    "# plt.title(title)\n",
    "\n",
    "# plt.legend(loc='lower right')\n",
    "# plt.xlim(0)  # x축을 0부터 시작\n",
    "# plt.grid(True)\n",
    "# plt.show()"
   ]
  }
 ],
 "metadata": {
  "kernelspec": {
   "display_name": "aedat2",
   "language": "python",
   "name": "python3"
  },
  "language_info": {
   "codemirror_mode": {
    "name": "ipython",
    "version": 3
   },
   "file_extension": ".py",
   "mimetype": "text/x-python",
   "name": "python",
   "nbconvert_exporter": "python",
   "pygments_lexer": "ipython3",
   "version": "3.8.18"
  }
 },
 "nbformat": 4,
 "nbformat_minor": 2
}
