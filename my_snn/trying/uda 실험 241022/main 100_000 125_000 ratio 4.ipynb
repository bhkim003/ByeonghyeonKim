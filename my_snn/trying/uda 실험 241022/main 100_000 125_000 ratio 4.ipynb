{
 "cells": [
  {
   "cell_type": "code",
   "execution_count": 1,
   "metadata": {},
   "outputs": [
    {
     "name": "stderr",
     "output_type": "stream",
     "text": [
      "/tmp/ipykernel_22962/1506272096.py:46: DeprecationWarning: The module snntorch.spikevision is deprecated. For loading neuromorphic datasets, we recommend using the Tonic project: https://github.com/neuromorphs/tonic\n",
      "  from snntorch.spikevision import spikedata\n"
     ]
    },
    {
     "data": {
      "image/png": "[encoded data removed]",
      "text/plain": [
       "<Figure size 800x600 with 2 Axes>"
      ]
     },
     "metadata": {},
     "output_type": "display_data"
    }
   ],
   "source": [
    "import sys\n",
    "import os\n",
    "import argparse\n",
    "import torch\n",
    "import torch.nn as nn \n",
    "import torch.nn.functional as F\n",
    "import torch.backends.cudnn as cudnn\n",
    "import torch.optim as optim\n",
    "import torch.optim.lr_scheduler as lr_scheduler\n",
    "from torch.utils.data import Dataset, DataLoader\n",
    "\n",
    "import torchvision\n",
    "import torchvision.datasets\n",
    "import torchvision.transforms as transforms\n",
    "\n",
    "import numpy as np\n",
    "import matplotlib.pyplot as plt\n",
    "\n",
    "import time\n",
    "\n",
    "from snntorch import spikegen\n",
    "import matplotlib.pyplot as plt\n",
    "import snntorch.spikeplot as splt\n",
    "from IPython.display import HTML\n",
    "\n",
    "from tqdm import tqdm\n",
    "\n",
    "from apex.parallel import DistributedDataParallel as DDP\n",
    "\n",
    "import random\n",
    "import datetime\n",
    "\n",
    "import json\n",
    "\n",
    "from sklearn.utils import shuffle\n",
    "\n",
    "''' 레퍼런스\n",
    "https://spikingjelly.readthedocs.io/zh-cn/0.0.0.0.4/spikingjelly.datasets.html#module-spikingjelly.datasets\n",
    "https://github.com/GorkaAbad/Sneaky-Spikes/blob/main/datasets.py\n",
    "https://github.com/GorkaAbad/Sneaky-Spikes/blob/main/how_to.md\n",
    "https://github.com/nmi-lab/torchneuromorphic\n",
    "https://snntorch.readthedocs.io/en/latest/snntorch.spikevision.spikedata.html#shd\n",
    "'''\n",
    "\n",
    "import snntorch\n",
    "from snntorch.spikevision import spikedata\n",
    "\n",
    "import modules.spikingjelly;\n",
    "from modules.spikingjelly.datasets.dvs128_gesture import DVS128Gesture\n",
    "from modules.spikingjelly.datasets.cifar10_dvs import CIFAR10DVS\n",
    "from modules.spikingjelly.datasets.n_mnist import NMNIST\n",
    "# from modules.spikingjelly.datasets.es_imagenet import ESImageNet\n",
    "from modules.spikingjelly.datasets import split_to_train_test_set\n",
    "from modules.spikingjelly.datasets.n_caltech101 import NCaltech101\n",
    "from modules.spikingjelly.datasets import pad_sequence_collate, padded_sequence_mask\n",
    "\n",
    "import modules.torchneuromorphic as torchneuromorphic\n",
    "\n",
    "import wandb\n",
    "\n",
    "from torchviz import make_dot\n",
    "import graphviz\n",
    "from turtle import shape\n"
   ]
  },
  {
   "cell_type": "code",
   "execution_count": 2,
   "metadata": {},
   "outputs": [],
   "source": [
    "import apex"
   ]
  },
  {
   "cell_type": "code",
   "execution_count": 3,
   "metadata": {},
   "outputs": [],
   "source": [
    "# my module import\n",
    "from modules import *\n",
    "\n",
    "# modules 폴더에 새모듈.py 만들면\n",
    "# modules/__init__py 파일에 form .새모듈 import * 하셈\n",
    "# 그리고 새모듈.py에서 from modules.새모듈 import * 하셈\n"
   ]
  },
  {
   "cell_type": "code",
   "execution_count": 4,
   "metadata": {},
   "outputs": [],
   "source": [
    "\n",
    "\n",
    "def my_snn_system(devices = \"0,1,2,3\",\n",
    "                    single_step = False, # True # False\n",
    "                    unique_name = 'main',\n",
    "                    my_seed = 42,\n",
    "                    TIME = 10,\n",
    "                    BATCH = 256,\n",
    "                    IMAGE_SIZE = 32,\n",
    "                    which_data = 'CIFAR10',\n",
    "                    # CLASS_NUM = 10,\n",
    "                    data_path = '/data2',\n",
    "                    rate_coding = True,\n",
    "    \n",
    "                    lif_layer_v_init = 0.0,\n",
    "                    lif_layer_v_decay = 0.6,\n",
    "                    lif_layer_v_threshold = 1.2,\n",
    "                    lif_layer_v_reset = 0.0,\n",
    "                    lif_layer_sg_width = 1,\n",
    "\n",
    "                    # synapse_conv_in_channels = IMAGE_PIXEL_CHANNEL,\n",
    "                    synapse_conv_kernel_size = 3,\n",
    "                    synapse_conv_stride = 1,\n",
    "                    synapse_conv_padding = 1,\n",
    "                    synapse_conv_trace_const1 = 1,\n",
    "                    synapse_conv_trace_const2 = 0.6,\n",
    "\n",
    "                    # synapse_fc_out_features = CLASS_NUM,\n",
    "                    synapse_fc_trace_const1 = 1,\n",
    "                    synapse_fc_trace_const2 = 0.6,\n",
    "\n",
    "                    pre_trained = False,\n",
    "                    convTrue_fcFalse = True,\n",
    "                    cfg = [64, 64],\n",
    "                    net_print = False, # True # False\n",
    "                    weight_count_print = False, # True # False\n",
    "                    pre_trained_path = \"net_save/save_now_net.pth\",\n",
    "                    learning_rate = 0.0001,\n",
    "                    epoch_num = 200,\n",
    "                    verbose_interval = 100, #숫자 크게 하면 꺼짐\n",
    "                    validation_interval = 10, #숫자 크게 하면 꺼짐\n",
    "                    tdBN_on = False,\n",
    "                    BN_on = False,\n",
    "\n",
    "                    surrogate = 'sigmoid',\n",
    "\n",
    "                    gradient_verbose = False,\n",
    "\n",
    "                    BPTT_on = False,\n",
    "\n",
    "                    optimizer_what = 'SGD', # 'SGD' 'Adam', 'RMSprop'\n",
    "                    scheduler_name = 'no',\n",
    "                    \n",
    "                    ddp_on = True,\n",
    "\n",
    "                    nda_net = False,\n",
    "                    \n",
    "                    domain_il_epoch = 0, # over 0, then domain il mode on\n",
    "\n",
    "                    dvs_clipping = 1, \n",
    "                    dvs_duration = 25_000,\n",
    "\n",
    "                    OTTT_sWS_on = True, # True # False\n",
    "\n",
    "                    DFA_on = False, # True # False\n",
    "                    OTTT_input_trace_on = False, # True # False\n",
    "                    \n",
    "                    e_transport_swap = 5, # 1 이상이면 해당 숫자 에포크만큼 val_acc_best가 변화가 없으면 e_transport scheme (BP vs DFA) swap\n",
    "                    e_transport_swap_tr = 0, # 1 이상이면 해당 숫자 에포크만큼 val_acc_best가 변화가 없으면 e_transport scheme (BP vs DFA) swap\n",
    "                    e_transport_swap_coin = 0, # swap할 수 있는 coin 개수\n",
    "\n",
    "                    drop_rate = 0.5, \n",
    "\n",
    "                    exclude_class = True, # True # False # gesture에서 10번째 클래스 제외\n",
    "\n",
    "                    merge_polarities = True, # True # False # tonic dvs dataset 에서 polarities 합치기\n",
    "                    denoise_on = True, \n",
    "                    dvs_relative_timestep = True, \n",
    "                    \n",
    "                    I_wanna_sweep_at_this_epoch = -1,\n",
    "                    dvs_duration_domain = [(25_000,1,False)],\n",
    "\n",
    "                    extra_train_dataset = 0,\n",
    "\n",
    "                    num_workers = 2,\n",
    "                    chaching_on = False,\n",
    "                    pin_memory = True, # True # False\n",
    "                    \n",
    "                    UDA_on = False, # True # False\n",
    "                    UDA_data = (25_000,1,False), # (duration, clipping, denoise_on)\n",
    "                    src_trg_ratio = 1,\n",
    "                    adapter_loss_weight = 1.0, # 1.0  # adapter loss의 힘.\n",
    "                    alpha_uda = 1.0,\n",
    "                    UDA_start_epoch = 0, # UDA를 시작하는 에포크  (참고로 0 epoch부터 있다.)\n",
    "\n",
    "                    temporal_filter = 1, \n",
    "                    initial_pooling = 1,\n",
    "                    ):\n",
    "    ## hyperparameter check #############################################################\n",
    "    if OTTT_sWS_on == True:\n",
    "        assert BPTT_on == False and tdBN_on == False and BN_on == False\n",
    "        if convTrue_fcFalse == False:\n",
    "            assert single_step == True\n",
    "    if single_step == True:\n",
    "        assert BPTT_on == False and tdBN_on == False \n",
    "    if tdBN_on == True:\n",
    "        assert BPTT_on == True\n",
    "    if pre_trained == True:\n",
    "        print('\\n\\n')\n",
    "        print(\"Caution! pre_trained is True\\n\\n\"*3)    \n",
    "    if DFA_on == True:\n",
    "        assert single_step == True and BPTT_on == False and any(isinstance(item, list) for item in cfg) == False\n",
    "    if OTTT_input_trace_on == True:\n",
    "        assert BPTT_on == False and single_step == True\n",
    "    if UDA_on == True:\n",
    "        assert single_step == True and BPTT_on == False and I_wanna_sweep_at_this_epoch == -1 and (e_transport_swap_coin == 0 or (e_transport_swap == 0 and e_transport_swap_tr == 0)) and isinstance(cfg, tuple) == True and extra_train_dataset == 0\n",
    "    if temporal_filter > 1:\n",
    "        assert convTrue_fcFalse == False\n",
    "    if initial_pooling > 1:\n",
    "        pass\n",
    "    if extra_train_dataset > 0:\n",
    "        assert which_data != 'NMNIST_TONIC'\n",
    "    ######################################################################################\n",
    "\n",
    "\n",
    "    ## 함수 내 모든 로컬 변수 저장 ########################################################\n",
    "    hyperparameters = locals()\n",
    "    hyperparameters['current epoch'] = 0\n",
    "    ######################################################################################\n",
    "    \n",
    "    args_gpu = None\n",
    "    ## DDP settting ######################################################################\n",
    "    if (ddp_on == True):\n",
    "        parser = argparse.ArgumentParser(description='my_snn CIFAR10 Training')\n",
    "\n",
    "        # # local_rank는 command line에서 따로 줄 필요는 없지만, 선언은 필요\n",
    "        parser.add_argument(\"--local_rank\", default=0, type=int)\n",
    "\n",
    "        args = parser.parse_args() # 이거 적어줘야됨. parser argument선언하고\n",
    "\n",
    "        args.gpu = args.local_rank\n",
    "        args_gpu = args.gpu\n",
    "        torch.cuda.set_device(args.gpu)\n",
    "        torch.distributed.init_process_group(backend=\"nccl\", init_method=\"env://\")\n",
    "        args.world_size = torch.distributed.get_world_size()\n",
    "    #######################################################################################\n",
    "\n",
    "\n",
    "    ## wandb 세팅 ###################################################################\n",
    "    current_time = datetime.datetime.now().strftime(\"%Y%m%d_%H%M%S\")\n",
    "    if (ddp_on == True and torch.distributed.get_rank() != 0):\n",
    "        wandb.finish()\n",
    "    if (ddp_on == False or torch.distributed.get_rank() == 0):\n",
    "        wandb.config.update(hyperparameters)\n",
    "        wandb.run.name = f'lr_{learning_rate}_{unique_name}_{which_data}_tstep{TIME}'\n",
    "        wandb.define_metric(\"summary_val_acc\", summary=\"max\")\n",
    "        wandb.run.log_code(\".\", \n",
    "                            include_fn=lambda path: path.endswith(\".py\") or path.endswith(\".ipynb\"),\n",
    "                            exclude_fn=lambda path: 'logs/' in path or 'net_save/' in path or 'result_save/' in path or 'trying/' in path or 'wandb/' in path or 'private/' in path or '.git/' in path or 'tonic' in path or 'torchneuromorphic' in path or 'spikingjelly' in path \n",
    "                            )\n",
    "    ###################################################################################\n",
    "\n",
    "\n",
    "\n",
    "    ## gpu setting ##################################################################################################################\n",
    "    os.environ[\"CUDA_DEVICE_ORDER\"]=\"PCI_BUS_ID\" \n",
    "    os.environ[\"CUDA_VISIBLE_DEVICES\"]= devices\n",
    "    ###################################################################################################################################\n",
    "\n",
    "\n",
    "    ## seed setting ##################################################################################################################\n",
    "    seed_assign(my_seed)\n",
    "    ###################################################################################################################################\n",
    "    \n",
    "\n",
    "    ## data_loader 가져오기 ##################################################################################################################\n",
    "    # data loader, pixel channel, class num\n",
    "    train_data_split_indices = []\n",
    "    train_loader, test_loader, synapse_conv_in_channels, CLASS_NUM, train_data_count = data_loader(\n",
    "            which_data,\n",
    "            data_path, \n",
    "            rate_coding, \n",
    "            BATCH, \n",
    "            IMAGE_SIZE,\n",
    "            ddp_on,\n",
    "            TIME*temporal_filter, # temporal_filter가 곱해짐.\n",
    "            dvs_clipping,\n",
    "            dvs_duration,\n",
    "            exclude_class,\n",
    "            merge_polarities,\n",
    "            denoise_on,\n",
    "            my_seed,\n",
    "            extra_train_dataset,\n",
    "            num_workers,\n",
    "            chaching_on,\n",
    "            pin_memory,\n",
    "            train_data_split_indices,) \n",
    "    test_loader_domain_set = []\n",
    "    test_loader_domain_set.append(test_loader)  \n",
    "    synapse_fc_out_features = CLASS_NUM\n",
    "    if UDA_on == True:\n",
    "        train_loader = None\n",
    "\n",
    "        # pin_memory_breaker = torch.arange(0, 1) #이거 주석 하면 느리고, 이거 주석 안 하면 빠름. NN결과는 같음. 뭐가 문제야..? 아마 torch를 건드리면서 pin_memory에 문제를 일으키는 거 같기는 하다. 이걸 주석 해제하거나, pin_memory를 False로 하는 거나 속도와 cpu 점유가 비슷하다.\n",
    "        indices= list(range(train_data_count))\n",
    "        random.shuffle(indices)\n",
    "        train_data_split_indices_source = indices[:math.ceil(train_data_count * (src_trg_ratio / (src_trg_ratio + 1)))]\n",
    "        train_data_split_indices_target = indices[math.ceil(train_data_count * (src_trg_ratio / (src_trg_ratio + 1))):]\n",
    "        train_loader, _, synapse_conv_in_channels, CLASS_NUM, train_data_count_src = data_loader(\n",
    "                which_data,\n",
    "                data_path, \n",
    "                rate_coding, \n",
    "                BATCH, \n",
    "                IMAGE_SIZE,\n",
    "                ddp_on,\n",
    "                TIME*temporal_filter, # temporal_filter가 곱해짐.\n",
    "                dvs_clipping,\n",
    "                dvs_duration,\n",
    "                exclude_class,\n",
    "                merge_polarities,\n",
    "                denoise_on,\n",
    "                my_seed,\n",
    "                extra_train_dataset,\n",
    "                num_workers,\n",
    "                chaching_on,\n",
    "                pin_memory,\n",
    "                train_data_split_indices_source,\n",
    "                )\n",
    "        \n",
    "        train_loader_target, _, synapse_conv_in_channels, CLASS_NUM, train_data_count_trg = data_loader(\n",
    "                which_data,\n",
    "                data_path, \n",
    "                rate_coding, \n",
    "                BATCH, \n",
    "                IMAGE_SIZE,\n",
    "                ddp_on,\n",
    "                TIME*temporal_filter,\n",
    "                UDA_data[1],  # dvs_clipping,\n",
    "                UDA_data[0],   # dvs_duration,\n",
    "                exclude_class,\n",
    "                merge_polarities,\n",
    "                UDA_data[2], # denoise_on,\n",
    "                my_seed,\n",
    "                extra_train_dataset,\n",
    "                num_workers,\n",
    "                chaching_on,\n",
    "                pin_memory,\n",
    "                train_data_split_indices_target,\n",
    "                )\n",
    "        print('\\n','src img count',train_data_count_src,'trg img count',train_data_count_trg,'\\n')\n",
    "    ###########################################################################################################################################\n",
    "    \n",
    "    ## 다른 dvs duration domain을 validation set으로 불러오기 ##############################################################\n",
    "    dvs_duration_domain_temp = []\n",
    "    train_data_split_indices = []\n",
    "    if len(dvs_duration_domain) > 0:\n",
    "        for domain in dvs_duration_domain:\n",
    "            target_domain_timestep = (dvs_duration*TIME)//domain[0] if dvs_relative_timestep == True else TIME\n",
    "            dvs_duration_domain_temp.append(domain + (target_domain_timestep,))\n",
    "            train_loader_domain, test_loader_domain, synapse_conv_in_channels_domain, CLASS_NUM_domain, train_data_count = data_loader(\n",
    "                    which_data,\n",
    "                    data_path, \n",
    "                    rate_coding, \n",
    "                    BATCH, \n",
    "                    IMAGE_SIZE,\n",
    "                    ddp_on,\n",
    "                    target_domain_timestep*temporal_filter,\n",
    "                    domain[1], # dvs_clipping\n",
    "                    domain[0], # dvs_duration\n",
    "                    exclude_class,\n",
    "                    merge_polarities,\n",
    "                    domain[2], # denoise_on \n",
    "                    my_seed,\n",
    "                    extra_train_dataset,\n",
    "                    num_workers,\n",
    "                    chaching_on,\n",
    "                    pin_memory,\n",
    "                    train_data_split_indices,)\n",
    "            test_loader_domain_set.append(test_loader_domain)\n",
    "        dvs_duration_domain = dvs_duration_domain_temp\n",
    "    ######################################################################################################################\n",
    "    \n",
    "    ## parameter number calculator (안 중요함) ##################################################################################################################\n",
    "    params_num = 0\n",
    "    img_size = IMAGE_SIZE//initial_pooling\n",
    "    bias_param = 1 # 1 or 0\n",
    "    classifier_making = False\n",
    "    if (UDA_on == True):\n",
    "        print(\"In UDA mode, No parameter number calculation yet.\")\n",
    "        pass\n",
    "    else: \n",
    "        if (convTrue_fcFalse == True):\n",
    "            past_kernel = synapse_conv_in_channels\n",
    "            for kernel in cfg:\n",
    "                if (classifier_making == False):\n",
    "                    if (type(kernel) == list):\n",
    "                        for residual_kernel in kernel:\n",
    "                            if (residual_kernel >= 10000 and residual_kernel < 20000): # separable\n",
    "                                residual_kernel -= 10000\n",
    "                                params_num += (synapse_conv_kernel_size**2 + bias_param) * past_kernel\n",
    "                                params_num += (1**2 * past_kernel + bias_param) * residual_kernel\n",
    "                                past_kernel = residual_kernel  \n",
    "                            elif (residual_kernel >= 20000 and residual_kernel < 30000): # depthwise\n",
    "                                residual_kernel -= 20000\n",
    "                                # 'past_kernel' should be same with 'kernel'\n",
    "                                params_num += (synapse_conv_kernel_size**2 + bias_param) * past_kernel\n",
    "                                past_kernel = residual_kernel  \n",
    "                            else:\n",
    "                                params_num += residual_kernel * ((synapse_conv_kernel_size**2) * past_kernel + bias_param)\n",
    "                                past_kernel = residual_kernel\n",
    "                    elif (kernel == 'P' or kernel == 'M'):\n",
    "                        img_size = img_size // 2\n",
    "                    elif (kernel == 'D'):\n",
    "                        img_size = 1\n",
    "                    elif (kernel == 'L'):\n",
    "                        classifier_making = True\n",
    "                        past_kernel = past_kernel * (img_size**2)\n",
    "                    else:\n",
    "                        if (kernel >= 10000 and kernel < 20000): # separable\n",
    "                            kernel -= 10000\n",
    "                            params_num += (synapse_conv_kernel_size**2 + bias_param) * past_kernel\n",
    "                            params_num += (1**2 * past_kernel + bias_param) * kernel\n",
    "                            past_kernel = kernel  \n",
    "                        elif (kernel >= 20000 and kernel < 30000): # depthwise\n",
    "                            kernel -= 20000\n",
    "                            # 'past_kernel' should be same with 'kernel'\n",
    "                            params_num += (synapse_conv_kernel_size**2 + bias_param) * past_kernel\n",
    "                            past_kernel = kernel  \n",
    "                        else:\n",
    "                            params_num += kernel * (synapse_conv_kernel_size**2 * past_kernel + bias_param)\n",
    "                            past_kernel = kernel    \n",
    "                else: # classifier making\n",
    "                    params_num += (past_kernel + bias_param) * kernel\n",
    "                    past_kernel = kernel\n",
    "            \n",
    "            \n",
    "            if classifier_making == False:\n",
    "                past_kernel = past_kernel*img_size*img_size\n",
    "\n",
    "            params_num += (past_kernel + bias_param) * synapse_fc_out_features\n",
    "        else:\n",
    "            in_channel_compute_temp = synapse_conv_in_channels * temporal_filter\n",
    "            past_in_channel = in_channel_compute_temp*img_size*img_size\n",
    "            for in_channel in cfg:\n",
    "                if (type(in_channel) == list):\n",
    "                    for residual_in_channel in in_channel:\n",
    "                        params_num += (past_in_channel + bias_param) * residual_in_channel\n",
    "                        past_in_channel = residual_in_channel\n",
    "                elif (in_channel == 'P' or in_channel == 'M'):\n",
    "                    img_size = img_size // 2\n",
    "                    past_in_channel = in_channel_compute_temp*img_size*img_size\n",
    "                else:\n",
    "                    params_num += (past_in_channel + bias_param) * in_channel\n",
    "                    past_in_channel = in_channel\n",
    "            params_num += (past_in_channel + bias_param) * synapse_fc_out_features\n",
    "    ###########################################################################################################################################\n",
    "\n",
    "\n",
    "    device = torch.device(\"cuda\" if torch.cuda.is_available() else \"cpu\")\n",
    "    print(f\"\\ndevice ==> {device}\\n\")\n",
    "    if device == \"cpu\":\n",
    "        print(\"=\"*50,\"\\n[WARNING]\\n[WARNING]\\n[WARNING]\\n: cpu mode\\n\\n\",\"=\"*50)\n",
    "\n",
    "    ### network setting #######################################################################################################################\n",
    "    if (convTrue_fcFalse == False):\n",
    "        if (single_step == False):\n",
    "            net = MY_SNN_FC(cfg, synapse_conv_in_channels*temporal_filter, IMAGE_SIZE//initial_pooling, synapse_fc_out_features,\n",
    "                        synapse_fc_trace_const1, synapse_fc_trace_const2, \n",
    "                        lif_layer_v_init, lif_layer_v_decay, \n",
    "                        lif_layer_v_threshold, lif_layer_v_reset,\n",
    "                        lif_layer_sg_width,\n",
    "                        tdBN_on,\n",
    "                        BN_on, TIME,\n",
    "                        surrogate,\n",
    "                        BPTT_on,\n",
    "                        DFA_on,\n",
    "                        drop_rate,\n",
    "                        UDA_on,\n",
    "                        alpha_uda).to(device)\n",
    "        else:\n",
    "            net = MY_SNN_FC_sstep(cfg, synapse_conv_in_channels*temporal_filter, IMAGE_SIZE//initial_pooling, synapse_fc_out_features,\n",
    "                        synapse_fc_trace_const1, synapse_fc_trace_const2, \n",
    "                        lif_layer_v_init, lif_layer_v_decay, \n",
    "                        lif_layer_v_threshold, lif_layer_v_reset,\n",
    "                        lif_layer_sg_width,\n",
    "                        tdBN_on,\n",
    "                        BN_on, TIME,\n",
    "                        surrogate,\n",
    "                        BPTT_on,\n",
    "                        DFA_on,\n",
    "                        OTTT_sWS_on,\n",
    "                        drop_rate,\n",
    "                        UDA_on,\n",
    "                        alpha_uda).to(device)\n",
    "    else:\n",
    "        if (single_step == False):\n",
    "            net = MY_SNN_CONV(cfg, synapse_conv_in_channels, IMAGE_SIZE//initial_pooling,\n",
    "                        synapse_conv_kernel_size, synapse_conv_stride, \n",
    "                        synapse_conv_padding, synapse_conv_trace_const1, \n",
    "                        synapse_conv_trace_const2, \n",
    "                        lif_layer_v_init, lif_layer_v_decay, \n",
    "                        lif_layer_v_threshold, lif_layer_v_reset,\n",
    "                        lif_layer_sg_width,\n",
    "                        synapse_fc_out_features, synapse_fc_trace_const1, synapse_fc_trace_const2,\n",
    "                        tdBN_on,\n",
    "                        BN_on, TIME,\n",
    "                        surrogate,\n",
    "                        BPTT_on,\n",
    "                        OTTT_sWS_on,\n",
    "                        DFA_on,\n",
    "                        drop_rate,\n",
    "                        UDA_on,\n",
    "                        alpha_uda).to(device)\n",
    "        else:\n",
    "            net = MY_SNN_CONV_sstep(cfg, synapse_conv_in_channels, IMAGE_SIZE//initial_pooling,\n",
    "                        synapse_conv_kernel_size, synapse_conv_stride, \n",
    "                        synapse_conv_padding, synapse_conv_trace_const1, \n",
    "                        synapse_conv_trace_const2, \n",
    "                        lif_layer_v_init, lif_layer_v_decay, \n",
    "                        lif_layer_v_threshold, lif_layer_v_reset,\n",
    "                        lif_layer_sg_width,\n",
    "                        synapse_fc_out_features, synapse_fc_trace_const1, synapse_fc_trace_const2,\n",
    "                        tdBN_on,\n",
    "                        BN_on, TIME,\n",
    "                        surrogate,\n",
    "                        BPTT_on,\n",
    "                        OTTT_sWS_on,\n",
    "                        DFA_on,\n",
    "                        drop_rate,\n",
    "                        UDA_on,\n",
    "                        alpha_uda).to(device)\n",
    "    if (nda_net == True):\n",
    "        net = VGG(cfg = cfg, num_classes=10, batch_norm = tdBN_on, in_c = synapse_conv_in_channels, \n",
    "                    lif_layer_v_threshold=lif_layer_v_threshold, lif_layer_v_decay=lif_layer_v_decay, lif_layer_sg_width=lif_layer_sg_width)\n",
    "        net.T = TIME\n",
    "\n",
    "    if ddp_on == False:\n",
    "        net = torch.nn.DataParallel(net) \n",
    "    \n",
    "    if pre_trained == True:\n",
    "        net.load_state_dict(torch.load(pre_trained_path))\n",
    "    \n",
    "    if ddp_on == True:\n",
    "        device = args.gpu\n",
    "        net = net.to(args.gpu)\n",
    "        net = DDP(net, delay_allreduce=True)\n",
    "\n",
    "    net = net.to(device)\n",
    "    if (net_print == True):\n",
    "        if ddp_on == False or torch.distributed.get_rank() == 0:\n",
    "            print(net)    \n",
    "    ####################################################################################################################################\n",
    "    \n",
    "\n",
    "    ## wandb logging ###########################################\n",
    "    if ddp_on == False or torch.distributed.get_rank() == 0:\n",
    "        wandb.watch(net, log=\"all\", log_freq = 10) #gradient, parameter logging해줌\n",
    "    ############################################################\n",
    "\n",
    "    ## param num and memory estimation except BN with MY own calculation some lines above ##########################################\n",
    "    if ddp_on == False or torch.distributed.get_rank() == 0:\n",
    "        real_param_num = sum(p.numel() for p in net.parameters() if p.requires_grad)\n",
    "        if (weight_count_print == True):\n",
    "            for name, param in net.named_parameters():\n",
    "                if param.requires_grad:\n",
    "                    print(f'Layer: {name} | Number of parameters: {param.numel()}')\n",
    "        # Batch norm 있으면 아래 두 개 서로 다를 수 있음.\n",
    "        # assert real_param_num == params_num, f'parameter number is not same. real_param_num: {real_param_num}, params_num: {params_num}'    \n",
    "        print('='*50)\n",
    "        print(f\"My Num of PARAMS: {params_num:,}, system's param_num : {real_param_num:,}\")\n",
    "        memory = params_num / 8 / 1024 / 1024 # MB\n",
    "        precision = 32\n",
    "        memory = memory * precision \n",
    "        print(f\"Memory: {memory:.2f}MiB at {precision}-bit\")\n",
    "        print('='*50)\n",
    "    ##############################################################################################################################\n",
    "\n",
    "\n",
    "\n",
    "    ## criterion ########################################## # loss 구해주는 친구\n",
    "    criterion = nn.CrossEntropyLoss().to(device)\n",
    "    if (OTTT_sWS_on == True):\n",
    "        # criterion = nn.CrossEntropyLoss().to(device)\n",
    "        criterion = lambda y_t, target_t: ((1 - 0.05) * F.cross_entropy(y_t, target_t) + 0.05 * F.mse_loss(y_t, F.one_hot(target_t, CLASS_NUM).float())) / TIME \n",
    "        if which_data == 'DVS_GESTURE':\n",
    "            criterion = lambda y_t, target_t: ((1 - 0.001) * F.cross_entropy(y_t, target_t) + 0.001 * F.mse_loss(y_t, F.one_hot(target_t, CLASS_NUM).float())) / TIME \n",
    "    ####################################################\n",
    "    \n",
    "\n",
    "\n",
    "\n",
    "    ## optimizer, scheduler ########################################################################\n",
    "    if(optimizer_what == 'SGD'):\n",
    "        # optimizer = optim.SGD(net.parameters(), lr=learning_rate, momentum=0.9)\n",
    "        optimizer = optim.SGD(net.parameters(), lr=learning_rate, momentum=0.9, weight_decay=0)\n",
    "    elif(optimizer_what == 'Adam'):\n",
    "        optimizer = torch.optim.Adam(net.parameters(), lr=learning_rate)\n",
    "        # optimizer = torch.optim.Adam(net.parameters(), lr=0.00001)\n",
    "        # optimizer = torch.optim.Adam(net.parameters(), lr=learning_rate/256 * BATCH, weight_decay=1e-4)\n",
    "        # optimizer = optim.Adam(net.parameters(), lr=learning_rate, weight_decay=0, betas=(0.9, 0.999))\n",
    "    elif(optimizer_what == 'RMSprop'):\n",
    "        pass\n",
    "\n",
    "\n",
    "    if (scheduler_name == 'StepLR'):\n",
    "        scheduler = lr_scheduler.StepLR(optimizer, step_size=10, gamma=0.1)\n",
    "    elif (scheduler_name == 'ExponentialLR'):\n",
    "        scheduler = lr_scheduler.ExponentialLR(optimizer, gamma=0.95)\n",
    "    elif (scheduler_name == 'ReduceLROnPlateau'):\n",
    "        scheduler = lr_scheduler.ReduceLROnPlateau(optimizer, mode='min', factor=0.1, patience=10)\n",
    "    elif (scheduler_name == 'CosineAnnealingLR'):\n",
    "        # scheduler = lr_scheduler.CosineAnnealingLR(optimizer, eta_min=0, T_max=50)\n",
    "        scheduler = torch.optim.lr_scheduler.CosineAnnealingLR(optimizer, eta_min=0, T_max=epoch_num)\n",
    "    elif (scheduler_name == 'OneCycleLR'):\n",
    "        scheduler = lr_scheduler.OneCycleLR(optimizer, max_lr=0.1, steps_per_epoch=len(train_loader), epochs=epoch_num)\n",
    "    else:\n",
    "        pass # 'no' scheduler\n",
    "    ## optimizer, scheduler ########################################################################\n",
    "\n",
    "\n",
    "    tr_acc = 0\n",
    "    tr_correct = 0\n",
    "    tr_total = 0\n",
    "    tr_acc_best = 0\n",
    "    tr_epoch_loss_temp = 0\n",
    "    tr_epoch_loss = 0\n",
    "    val_acc_best = 0\n",
    "    val_acc_now = 0\n",
    "    val_loss = 0\n",
    "    elapsed_time_val = 0\n",
    "    no_val_best_growth_count = 0\n",
    "    no_tr_best_growth_count = 0\n",
    "    iter_acc_array = np.array([])\n",
    "    tr_acc_array = np.array([])\n",
    "    val_acc_now_array = np.array([])\n",
    "    DFA_current = DFA_on\n",
    "    DFA_toggle = False\n",
    "    DFA_flag = 1.0 if DFA_current == True else 0.0\n",
    "    DFA_BP_toggle_trial = 0\n",
    "    iter_of_val = False\n",
    "    tr_acc_target = 0\n",
    "    tr_correct_target = 0\n",
    "    tr_total_target = 0\n",
    "    tr_acc_best_target = 0\n",
    "    tr_epoch_loss_temp_target = 0\n",
    "    tr_epoch_loss_target = 0\n",
    "    tr_epoch_loss_temp_domain = 0\n",
    "    tr_epoch_loss_domain = 0\n",
    "    tr_acc_domain = 0\n",
    "    tr_correct_domain = 0\n",
    "    tr_total_domain = 0\n",
    "    val_acc_now_set_past = [0 for _ in range(len(dvs_duration_domain)+1)]\n",
    "    val_acc_now_set = [0 for _ in range(len(dvs_duration_domain)+1)]\n",
    "    val_acc_now_set_best = [0 for _ in range(len(dvs_duration_domain)+1)]\n",
    "    #======== EPOCH START ==========================================================================================\n",
    "    for epoch in range(epoch_num):\n",
    "        if (I_wanna_sweep_at_this_epoch == epoch):\n",
    "            net = BP_DFA_SWAP(net, convTrue_fcFalse, single_step, ddp_on, args_gpu)\n",
    "            no_val_best_growth_count = 0\n",
    "            DFA_current = not DFA_current\n",
    "            DFA_toggle = True\n",
    "            DFA_BP_toggle_trial = DFA_BP_toggle_trial + 1\n",
    "        else:\n",
    "            if (e_transport_swap > 0 or e_transport_swap_tr > 0):\n",
    "                assert not (e_transport_swap > 0 and e_transport_swap_tr > 0)\n",
    "                if e_transport_swap > 0 and no_val_best_growth_count == e_transport_swap :\n",
    "                    if DFA_BP_toggle_trial < e_transport_swap_coin:\n",
    "                        net = BP_DFA_SWAP(net, convTrue_fcFalse, single_step, ddp_on, args_gpu)\n",
    "                        no_val_best_growth_count = 0\n",
    "                        DFA_current = not DFA_current\n",
    "                        DFA_toggle = True\n",
    "                        DFA_BP_toggle_trial = DFA_BP_toggle_trial + 1\n",
    "                if e_transport_swap_tr > 0 and no_tr_best_growth_count == e_transport_swap_tr:\n",
    "                    if DFA_BP_toggle_trial < e_transport_swap_coin:\n",
    "                        net = BP_DFA_SWAP(net, convTrue_fcFalse, single_step, ddp_on, args_gpu)\n",
    "                        no_tr_best_growth_count = 0\n",
    "                        DFA_current = not DFA_current\n",
    "                        DFA_toggle = True\n",
    "                        DFA_BP_toggle_trial = DFA_BP_toggle_trial + 1\n",
    "\n",
    "        if ddp_on == False or torch.distributed.get_rank() == 0:\n",
    "            # print('EPOCH', epoch)\n",
    "            pass\n",
    "        epoch_start_time = time.time()\n",
    "\n",
    "        # if (domain_il_epoch>0 and which_data == 'PMNIST'):\n",
    "        #     k = epoch // domain_il_epoch\n",
    "        #     xtrain=data[k]['train']['x']\n",
    "        #     ytrain=data[k]['train']['y']\n",
    "        #     xtest =data[k]['test']['x']\n",
    "        #     ytest =data[k]['test']['y']\n",
    "\n",
    "        ####### iterator : input_loading & tqdm을 통한 progress_bar 생성###################\n",
    "        iterator = enumerate(train_loader, 0)\n",
    "        if (UDA_on == True):\n",
    "            iterator_target = enumerate(train_loader_target, 0)\n",
    "\n",
    "        if ddp_on == False or torch.distributed.get_rank() == 0:  \n",
    "            iterator = tqdm(iterator, total=len(train_loader), desc='train', dynamic_ncols=True, position=0, leave=True)\n",
    "        ##################################################################################   \n",
    "        \n",
    "        #### validation_interval이 batch size보다 작을 시 validation_interval을 batch size로 맞춰줌#############\n",
    "        validation_interval2 = validation_interval\n",
    "        if (validation_interval > len(train_loader)):\n",
    "            validation_interval2 = len(train_loader)\n",
    "        ##################################################################################################\n",
    "\n",
    "\n",
    "        ###### ITERATION START ##########################################################################################################\n",
    "        i = 0\n",
    "        target_done = False\n",
    "        for i, data in iterator:\n",
    "            UDA_FSM = 0\n",
    "            while (UDA_FSM < 2): # 0: source, 1: target, 2: done\n",
    "                if UDA_on == True:\n",
    "                    if UDA_FSM == 0:\n",
    "                        net.UDA_adapter_on = True # net.UDA_adapter_on 와 net.UDA_classifier_on은 그냥 flag임. 이번에 loss값을 backward할 건지 말 건지 ㅇㅇ\n",
    "                        net.UDA_classifier_on = True\n",
    "                        if target_done == True:\n",
    "                            UDA_FSM = 2 # 2--> target 안함\n",
    "                        elif (i)%(len(train_loader)//len(train_loader_target)) == 0: # 일정 주기로 src/trg 도메인 어댑트\n",
    "                            net.UDA_adapter_on = True\n",
    "                            UDA_FSM = 1 # 1--> target 함 !!! target 할 때만 source도 domain adapt할거면 net.UDA_adapter_on을 False로 잘 조정\n",
    "                        elif i == len(train_loader) - 1 and target_done == False:\n",
    "                            net.UDA_adapter_on = True\n",
    "                            UDA_FSM = 1\n",
    "                        else: \n",
    "                            UDA_FSM = 2\n",
    "                    elif UDA_FSM == 1:\n",
    "                        net.UDA_adapter_on = True\n",
    "                        net.UDA_classifier_on = False\n",
    "                        tgt_idx, data = next(iterator_target)\n",
    "                        target_done = True if tgt_idx == len(train_loader_target) - 1 else False\n",
    "                        if i == len(train_loader) - 1 and target_done == False:\n",
    "                            UDA_FSM = 1\n",
    "                        else: \n",
    "                            UDA_FSM = 2\n",
    "                    else:\n",
    "                        assert False\n",
    "                else:\n",
    "                    UDA_FSM = 2\n",
    "\n",
    "                iter_one_train_time_start = time.time()\n",
    "\n",
    "                net.train() # train 모드로 바꿔줘야함\n",
    "\n",
    "                ### data loading & semi-pre-processing ################################################################################\n",
    "                if len(data) == 2:\n",
    "                    inputs, labels = data\n",
    "                    # 처리 로직 작성\n",
    "                elif len(data) == 3:\n",
    "                    inputs, labels, x_len = data\n",
    "                    # print('x_len',x_len)\n",
    "                    # mask = padded_sequence_mask(x_len)\n",
    "                    # max_time_step = x_len.max()\n",
    "                    # min_time_step = x_len.min()\n",
    "                else:\n",
    "                    assert False, 'data length is not 2 or 3'\n",
    "                #######################################################################################################################\n",
    "                    \n",
    "                ## batch 크기 ######################################\n",
    "                real_batch = labels.size(0)\n",
    "                ###########################################################\n",
    "\n",
    "                # 차원 전처리\n",
    "                ###########################################################################################################################        \n",
    "                if (which_data == 'n_tidigits'):\n",
    "                    inputs = inputs.permute(0, 1, 3, 2, 4)\n",
    "                    labels = labels[:, 0, :]\n",
    "                    labels = torch.argmax(labels, dim=1)\n",
    "                elif (which_data == 'heidelberg'):\n",
    "                    inputs = inputs.view(5, 1000, 1, 700, 1)\n",
    "                    print(\"\\n\\n\\n경고!!!! heidelberg 이거 타임스텝이랑 채널 잘 바꿔줘라!!!\\n\\n\\n\\n\")\n",
    "                # print('inputs',inputs.size(),'\\nlabels',labels.size())\n",
    "                # print(labels)\n",
    "\n",
    "                if (which_data == 'DVS_CIFAR10' or which_data == 'DVS_GESTURE' or which_data == 'DVS_GESTURE_TONIC' or which_data == 'DVS_CIFAR10_2' or which_data == 'NMNIST' or which_data == 'NMNIST_TONIC' or which_data == 'N_CALTECH101' or which_data == 'n_tidigits' or which_data == 'heidelberg'):\n",
    "                    inputs = inputs.permute(1, 0, 2, 3, 4)\n",
    "                elif rate_coding == True :\n",
    "                    inputs = spikegen.rate(inputs, num_steps=TIME)\n",
    "                else :\n",
    "                    inputs = inputs.repeat(TIME, 1, 1, 1, 1)\n",
    "                # inputs: [Time, Batch, Channel, Height, Width]  \n",
    "                    \n",
    "                ## initial pooling #######################################################################\n",
    "                if (initial_pooling > 1):\n",
    "                    pool = nn.MaxPool2d(kernel_size=2)\n",
    "                    num_pooling_layers = int(math.log2(initial_pooling))\n",
    "                    # Time, Batch, Channel 차원은 그대로 두고, Height, Width 차원에 대해서만 pooling 적용\n",
    "                    shape_temp = inputs.shape\n",
    "                    inputs = inputs.reshape(shape_temp[0]*shape_temp[1], shape_temp[2], shape_temp[3], shape_temp[4])\n",
    "                    for _ in range(num_pooling_layers):\n",
    "                        inputs = pool(inputs)\n",
    "                    inputs = inputs.reshape(shape_temp[0], shape_temp[1], shape_temp[2], shape_temp[3]//initial_pooling, shape_temp[4]//initial_pooling)\n",
    "                ## initial pooling #######################################################################\n",
    "                ## temporal filtering ####################################################################\n",
    "                shape_temp = inputs.shape\n",
    "                if (temporal_filter > 1):\n",
    "                    slice_bucket = []\n",
    "                    for t_temp in range(TIME):\n",
    "                        start = t_temp * temporal_filter\n",
    "                        end = start + temporal_filter\n",
    "                        slice_concat = torch.movedim(inputs[start:end], 0, 1).reshape(shape_temp[1],shape_temp[2],shape_temp[3],-1)\n",
    "                        slice_bucket.append(slice_concat)\n",
    "                    inputs = torch.stack(slice_bucket, dim=0)\n",
    "                ## temporal filtering ####################################################################\n",
    "                ####################################################################################################################### \n",
    "                    \n",
    "                \n",
    "                # # dvs 데이터 시각화 코드 (확인 필요할 시 써라)\n",
    "                # ##############################################################################################\n",
    "                # dvs_visualization(inputs, labels, TIME, BATCH, my_seed)\n",
    "                # #####################################################################################################\n",
    "\n",
    "                ## to (device) #######################################\n",
    "                inputs = inputs.to(device)\n",
    "                labels = labels.to(device)\n",
    "                ###########################################################\n",
    "\n",
    "                ## gradient 초기화 #######################################\n",
    "                optimizer.zero_grad()\n",
    "                ###########################################################\n",
    "                \n",
    "                ## DVS gesture에서 other label자리 매꾸기 ###############\n",
    "                if (which_data == 'DVS_GESTURE'):\n",
    "                    labels[labels>2] -= 1\n",
    "                #######################################################         \n",
    "                                \n",
    "                if merge_polarities == True:\n",
    "                    inputs = inputs[:,:,0,:,:]\n",
    "\n",
    "                if single_step == False:\n",
    "                    # net에 넣어줄때는 batch가 젤 앞 차원으로 와야함. # dataparallel때매##############################\n",
    "                    # inputs: [Time, Batch, Channel, Height, Width]   \n",
    "                    inputs = inputs.permute(1, 0, 2, 3, 4) # net에 넣어줄때는 batch가 젤 앞 차원으로 와야함. # dataparallel때매\n",
    "                    # inputs: [Batch, Time, Channel, Height, Width] \n",
    "                    #################################################################################################\n",
    "                else:\n",
    "                    labels = labels.repeat(TIME, 1)\n",
    "                    ## first input도 ottt trace 적용하기 위한 코드 (validation 시에는 필요X) ##########################\n",
    "                    if OTTT_input_trace_on == True:\n",
    "                        spike = inputs\n",
    "                        trace = torch.full_like(spike, fill_value = 0.0, dtype = torch.float, requires_grad=False)\n",
    "                        inputs = []\n",
    "                        for t in range(TIME):\n",
    "                            trace[t] = trace[t-1]*synapse_conv_trace_const2 + spike[t]*synapse_conv_trace_const1\n",
    "                            inputs += [[spike[t], trace[t]]]\n",
    "                    ##################################################################################################\n",
    "\n",
    "\n",
    "                if single_step == False:\n",
    "                    ### input --> net --> output #####################################################\n",
    "                    outputs = net(inputs)\n",
    "                    ##################################################################################\n",
    "                    ## loss, backward ##########################################\n",
    "                    iter_loss = criterion(outputs, labels)\n",
    "                    iter_loss.backward()\n",
    "                    ############################################################\n",
    "                    ## weight 업데이트!! ##################################\n",
    "                    optimizer.step()\n",
    "                    ################################################################\n",
    "                else:\n",
    "                    if UDA_on == False:\n",
    "                        outputs_all = []\n",
    "                        iter_loss = 0.0\n",
    "                        for t in range(TIME):\n",
    "                            ### input[t] --> net --> output_one_time #########################################\n",
    "                            outputs_one_time = net(inputs[t])\n",
    "                            ##################################################################################\n",
    "                            one_time_loss = criterion(outputs_one_time, labels[t].contiguous())\n",
    "                            one_time_loss.backward() # one_time backward\n",
    "                            iter_loss += one_time_loss.data\n",
    "                            outputs_all.append(outputs_one_time.detach())\n",
    "                        optimizer.step() # full step time update\n",
    "                        outputs_all = torch.stack(outputs_all, dim=1)\n",
    "                        outputs = outputs_all.mean(1) # ottt꺼 쓸때\n",
    "                        labels = labels[0]\n",
    "                        iter_loss /= TIME\n",
    "                    else:\n",
    "                        ## 근데 생각해보니까 걍 target에서 classifier만 backward 안 해주면 되는 거 아니냐\n",
    "\n",
    "                        iter_loss_domain = 0.0\n",
    "                        outputs_all = []\n",
    "                        outputs_all_domain = []\n",
    "                        iter_loss = 0.0\n",
    "\n",
    "                        if net.UDA_classifier_on == True:\n",
    "                            domain_labels = torch.full((TIME, real_batch), 1).to(device)\n",
    "                        else:\n",
    "                            domain_labels = torch.full((TIME, real_batch), 0).to(device)\n",
    "                            \n",
    "                        for t in range(TIME):\n",
    "                            ### input[t] --> net --> output_one_time #########################################\n",
    "                            outputs_one_time, UDA_adpater_out = net(inputs[t])\n",
    "\n",
    "                            one_time_loss_classifier = criterion(outputs_one_time, labels[t].contiguous())\n",
    "                            one_time_loss_domain = criterion(UDA_adpater_out, domain_labels[t].contiguous())\n",
    "                            one_time_loss_backward = torch.tensor(0.0).to(device)\n",
    "                            if net.UDA_adapter_on == True and epoch >= UDA_start_epoch:\n",
    "                                one_time_loss_backward += one_time_loss_domain * adapter_loss_weight\n",
    "                            else:\n",
    "                                one_time_loss_backward += one_time_loss_domain * 0.0\n",
    "                            if net.UDA_classifier_on == True:\n",
    "                                one_time_loss_backward += one_time_loss_classifier\n",
    "                            else:\n",
    "                                one_time_loss_backward += one_time_loss_classifier * 0.0\n",
    "                            one_time_loss_backward.backward() # one_time backward\n",
    "                            iter_loss += one_time_loss_classifier.data\n",
    "                            iter_loss_domain += one_time_loss_domain.data\n",
    "                            outputs_all.append(outputs_one_time.detach())\n",
    "                            outputs_all_domain.append(UDA_adpater_out.detach())\n",
    "                            ##################################################################################\n",
    "                        if one_time_loss_backward != 0.0:\n",
    "                            optimizer.step() # full step time update\n",
    "                        outputs_all = torch.stack(outputs_all, dim=1)\n",
    "                        outputs = outputs_all.mean(1) # ottt꺼 쓸때\n",
    "                        labels = labels[0]\n",
    "                        outputs_all_domain = torch.stack(outputs_all_domain, dim=1)\n",
    "                        outputs_domain = outputs_all_domain.mean(1) # ottt꺼 쓸때\n",
    "                        domain_labels = domain_labels[0]\n",
    "                        iter_loss /= TIME\n",
    "                        iter_loss_domain /= TIME\n",
    "\n",
    "                if UDA_on == False:\n",
    "                    tr_epoch_loss_temp += iter_loss.data/len(train_loader)\n",
    "                else: \n",
    "                    if (net.UDA_classifier_on == True):\n",
    "                        tr_epoch_loss_temp += iter_loss.data/(len(train_loader)*src_trg_ratio/(src_trg_ratio+1))\n",
    "                    else:\n",
    "                        tr_epoch_loss_temp_target += iter_loss.data/(len(train_loader)*1/(src_trg_ratio+1))\n",
    "                    tr_epoch_loss_temp_domain += iter_loss.data/len(train_loader)\n",
    "\n",
    "                ## net 그림 출력해보기 #################################################################\n",
    "                # print('시각화')\n",
    "                # make_dot(outputs, params=dict(list(net.named_parameters()))).render(\"net_torchviz\", format=\"png\")\n",
    "                # return 0\n",
    "                ##################################################################################\n",
    "\n",
    "                #### batch 어긋남 방지 ###############################################\n",
    "                assert real_batch == outputs.size(0), f'batch size is not same. real_batch: {real_batch}, outputs.size(0): {outputs.size(0)}'\n",
    "                #######################################################################\n",
    "                \n",
    "\n",
    "                if UDA_on == False:\n",
    "                    ####### training accruacy save for print ###############################\n",
    "                    _, predicted = torch.max(outputs.data, 1)\n",
    "                    total = real_batch\n",
    "                    correct = (predicted == labels).sum().item()\n",
    "                    iter_acc = correct / total\n",
    "                    tr_total += total\n",
    "                    tr_correct += correct\n",
    "                    if i % verbose_interval == verbose_interval-1:\n",
    "                        if ddp_on == False or torch.distributed.get_rank() == 0:\n",
    "                            print(f'{epoch}-{i} training acc: {100 * iter_acc:.2f}%, lr={[f\"{lr}\" for lr in (param_group[\"lr\"] for param_group in optimizer.param_groups)]}, val_acc: {100 * val_acc_now:.2f}%')\n",
    "                    iter_acc_string = f'epoch-{epoch:<3} iter_acc:{100 * iter_acc:7.2f}%, lr={[f\"{lr:9.7f}\" for lr in (param_group[\"lr\"] for param_group in optimizer.param_groups)]}'\n",
    "                    iter_acc_string2 = f'epoch-{epoch:<3} lr={[f\"{lr:9.7f}\" for lr in (param_group[\"lr\"] for param_group in optimizer.param_groups)]}'\n",
    "                    ################################################################\n",
    "                else:\n",
    "                    ####### training accruacy save for print ###############################\n",
    "                    _, predicted = torch.max(outputs.data, 1)\n",
    "                    _, predicted_domain = torch.max(outputs_domain.data, 1)\n",
    "                    total = real_batch\n",
    "                    correct = (predicted == labels).sum().item()\n",
    "                    correct_domain = (predicted_domain == domain_labels).sum().item()\n",
    "                    iter_acc = correct / total\n",
    "                    iter_acc_domain = correct_domain / total\n",
    "                    if (net.UDA_classifier_on == True):\n",
    "                        tr_total += total\n",
    "                        tr_correct += correct\n",
    "                    else:\n",
    "                        tr_total_target += total\n",
    "                        tr_correct_target += correct\n",
    "                    tr_correct_domain += correct_domain\n",
    "                    tr_total_domain += total\n",
    "\n",
    "                    if i % verbose_interval == verbose_interval-1:\n",
    "                        if ddp_on == False or torch.distributed.get_rank() == 0:\n",
    "                            print(f'{epoch}-{i} training acc: {100 * iter_acc:.2f}%, lr={[f\"{lr}\" for lr in (param_group[\"lr\"] for param_group in optimizer.param_groups)]}, val_acc: {100 * val_acc_now:.2f}%')\n",
    "                    iter_acc_string = f'epoch-{epoch:<3} iter_acc:{100 * iter_acc:7.2f}%, lr={[f\"{lr:9.7f}\" for lr in (param_group[\"lr\"] for param_group in optimizer.param_groups)]}'\n",
    "                    iter_acc_string2 = f'epoch-{epoch:<3} lr={[f\"{lr:9.7f}\" for lr in (param_group[\"lr\"] for param_group in optimizer.param_groups)]}'\n",
    "                    ################################################################\n",
    "\n",
    "\n",
    "\n",
    "\n",
    "            iter_one_train_time_end = time.time()\n",
    "            elapsed_time = iter_one_train_time_end - iter_one_train_time_start  # 실행 시간 계산\n",
    "\n",
    "            if (i % verbose_interval == verbose_interval-1):\n",
    "                if ddp_on == False or torch.distributed.get_rank() == 0:\n",
    "                    print(f\"iter_one_train_time: {elapsed_time} seconds, last one_val_time: {elapsed_time_val} seconds\\n\")\n",
    "            \n",
    "            ##### validation ##################################################################################################################################\n",
    "            if i % validation_interval2 == validation_interval2-1 :\n",
    "                iter_one_val_time_start = time.time()\n",
    "                tr_acc = tr_correct/tr_total\n",
    "                tr_correct = 0\n",
    "                tr_total = 0\n",
    "                if UDA_on == True:\n",
    "                    tr_acc_target = tr_correct_target/tr_total_target\n",
    "                    tr_correct_target = 0\n",
    "                    tr_total_target = 0\n",
    "                    tr_acc_domain = tr_correct_domain/tr_total_domain\n",
    "                    tr_correct_domain = 0\n",
    "                    tr_total_domain = 0\n",
    "\n",
    "                domain_index = 0\n",
    "                val_loss_set = []\n",
    "                val_acc_now_set = []\n",
    "                while True:\n",
    "                    val_loss = 0\n",
    "                    correct_val = 0\n",
    "                    total_val = 0\n",
    "                    test_loader = test_loader_domain_set[domain_index]\n",
    "                    domain_index = domain_index + 1\n",
    "\n",
    "                    with torch.no_grad():\n",
    "                        net.eval() # eval 모드로 바꿔줘야함 \n",
    "                        for data_val in test_loader:\n",
    "                            ## data_val loading & semi-pre-processing ##########################################################\n",
    "                            if len(data_val) == 2:\n",
    "                                inputs_val, labels_val = data_val\n",
    "                                # 처리 로직 작성\n",
    "                            elif len(data_val) == 3:\n",
    "                                inputs_val, labels_val, x_len = data_val\n",
    "                                # print('x_len',x_len)\n",
    "                                # mask = padded_sequence_mask(x_len)\n",
    "                                # max_time_step = x_len.max()\n",
    "                                # min_time_step = x_len.min()\n",
    "                                # B, T, *spatial_dims = inputs_val.shape\n",
    "                            else:\n",
    "                                assert False, 'data_val length is not 2 or 3'\n",
    "\n",
    "                            if (which_data == 'DVS_CIFAR10' or which_data == 'DVS_GESTURE' or which_data == 'DVS_GESTURE_TONIC' or which_data == 'DVS_CIFAR10_2' or which_data == 'NMNIST' or which_data == 'NMNIST_TONIC' or which_data == 'N_CALTECH101' or which_data == 'n_tidigits' or which_data == 'heidelberg'):\n",
    "                                inputs_val = inputs_val.permute(1, 0, 2, 3, 4)\n",
    "                            elif rate_coding == True :\n",
    "                                inputs_val = spikegen.rate(inputs_val, num_steps=TIME)\n",
    "                            else :\n",
    "                                inputs_val = inputs_val.repeat(TIME, 1, 1, 1, 1)\n",
    "                            # inputs_val: [Time, Batch, Channel, Height, Width]  \n",
    "                            ###################################################################################################\n",
    "                            \n",
    "                            ## initial pooling #######################################################################\n",
    "                            if (initial_pooling > 1):\n",
    "                                pool = nn.MaxPool2d(kernel_size=2)\n",
    "                                num_pooling_layers = int(math.log2(initial_pooling))\n",
    "                                # Time, Batch, Channel 차원은 그대로 두고, Height, Width 차원에 대해서만 pooling 적용\n",
    "                                shape_temp = inputs_val.shape\n",
    "                                inputs_val = inputs_val.reshape(shape_temp[0]*shape_temp[1], shape_temp[2], shape_temp[3], shape_temp[4])\n",
    "                                for _ in range(num_pooling_layers):\n",
    "                                    inputs_val = pool(inputs_val)\n",
    "                                inputs_val = inputs_val.reshape(shape_temp[0], shape_temp[1], shape_temp[2], shape_temp[3]//initial_pooling, shape_temp[4]//initial_pooling)\n",
    "                            ## initial pooling #######################################################################\n",
    "\n",
    "                            ## temporal filtering ####################################################################\n",
    "                            shape_temp = inputs_val.shape\n",
    "                            if (temporal_filter > 1):\n",
    "                                slice_bucket = []\n",
    "                                for t_temp in range(TIME):\n",
    "                                    start = t_temp * temporal_filter\n",
    "                                    end = start + temporal_filter\n",
    "                                    slice_concat = torch.movedim(inputs_val[start:end], 0, 1).reshape(shape_temp[1],shape_temp[2],shape_temp[3],-1)\n",
    "                                    slice_bucket.append(slice_concat)\n",
    "                                inputs_val = torch.stack(slice_bucket, dim=0)\n",
    "                            ## temporal filtering ####################################################################\n",
    "                            \n",
    "                            inputs_val = inputs_val.to(device)\n",
    "                            labels_val = labels_val.to(device)\n",
    "                            real_batch = labels_val.size(0)\n",
    "                            \n",
    "                            ## DVS gesture에서 other label자리 매꾸기 ###############\n",
    "                            if (which_data == 'DVS_GESTURE'):\n",
    "                                labels_val[labels_val>2] -= 1\n",
    "                            #######################################################\n",
    "                            \n",
    "                            if merge_polarities == True:\n",
    "                                inputs_val = inputs_val[:,:,0,:,:]\n",
    "\n",
    "                            ## network 연산 시작 ############################################################################################################\n",
    "                            if single_step == False:\n",
    "                                outputs = net(inputs_val.permute(1, 0, 2, 3, 4)) #inputs_val: [Batch, Time, Channel, Height, Width]  \n",
    "                                val_loss_val += criterion(outputs, labels_val)/len(test_loader)\n",
    "                            else:\n",
    "                                outputs_all = []\n",
    "                                for t in range(TIME):\n",
    "                                    outputs = net(inputs_val[t])\n",
    "                                    if UDA_on == True:\n",
    "                                        outputs = outputs[0] # classifier의 output만 사용.\n",
    "                                    val_loss_temp = criterion(outputs, labels_val)\n",
    "                                    outputs_all.append(outputs.detach())\n",
    "                                    val_loss += (val_loss_temp.data/TIME)/len(test_loader)\n",
    "                                outputs_all = torch.stack(outputs_all, dim=1)\n",
    "                                outputs = outputs_all.mean(1)\n",
    "                            val_loss_set.append(val_loss)\n",
    "                            #################################################################################################################################\n",
    "\n",
    "                            _, predicted = torch.max(outputs.data, 1)\n",
    "                            total_val += real_batch\n",
    "                            assert real_batch == outputs.size(0), f'batch size is not same. real_batch: {real_batch}, outputs.size(0): {outputs.size(0)}'\n",
    "                            correct_val += (predicted == labels_val).sum().item()\n",
    "\n",
    "                        val_acc_now = correct_val / total_val\n",
    "                        # print(f'{epoch}-{i} validation acc: {100 * val_acc_now:.2f}%, lr={[f\"{lr:.10f}\" for lr in (param_group[\"lr\"] for param_group in optimizer.param_groups)]}')\n",
    "                        val_acc_now_set.append(val_acc_now)\n",
    "\n",
    "                    if domain_index == len(dvs_duration_domain) + 1:\n",
    "                        break\n",
    "\n",
    "                val_loss = val_loss_set[0]\n",
    "                val_acc_now = val_acc_now_set[0]\n",
    "\n",
    "                iter_one_val_time_end = time.time()\n",
    "                elapsed_time_val = iter_one_val_time_end - iter_one_val_time_start  # 실행 시간 계산\n",
    "                # print(f\"iter_one_val_time: {elapsed_time_val} seconds\")\n",
    "\n",
    "                # network save\n",
    "                if val_acc_best < val_acc_now:\n",
    "                    val_acc_best = val_acc_now\n",
    "                    if ddp_on == False or torch.distributed.get_rank() == 0:\n",
    "                        # wandb 키면 state_dict아닌거는 저장 안됨\n",
    "                        torch.save(net.state_dict(), f\"net_save/save_now_net_weights_{unique_name}.pth\")\n",
    "                        # torch.save(net, f\"net_save/save_now_net_{unique_name}.pth\")\n",
    "                        # torch.save(net.module.state_dict(), f\"net_save/save_now_net_weights2_{unique_name}.pth\")\n",
    "                        # torch.save(net.module, f\"net_save/save_now_net2_{unique_name}.pth\")\n",
    "                    no_val_best_growth_count = 0\n",
    "                else:\n",
    "                    no_val_best_growth_count = no_val_best_growth_count + 1\n",
    "\n",
    "                if tr_acc_best < tr_acc:\n",
    "                    tr_acc_best = tr_acc\n",
    "                    no_tr_best_growth_count = 0\n",
    "                else:\n",
    "                    no_tr_best_growth_count = no_tr_best_growth_count + 1\n",
    "\n",
    "                tr_epoch_loss = tr_epoch_loss_temp\n",
    "                tr_epoch_loss_temp = 0\n",
    "                tr_epoch_loss_target = tr_epoch_loss_temp_target \n",
    "                tr_epoch_loss_temp_target = 0\n",
    "                tr_epoch_loss_domain = tr_epoch_loss_temp_domain\n",
    "                tr_epoch_loss_temp_domain = 0\n",
    "                if (UDA_on == True):\n",
    "                    print(f\"Domain loss,acc: {tr_epoch_loss_domain:.6f}, {100 * tr_acc_domain:.2f}% Target domain: tr_loss-{tr_epoch_loss_target:.6f}, tr_acc-{100 * tr_acc_target:.2f}%\")\n",
    "\n",
    "                if DFA_toggle == True:\n",
    "                    DFA_flag = 1.0 - DFA_flag\n",
    "                    DFA_toggle = False\n",
    "\n",
    "                iter_of_val = True\n",
    "            ####################################################################################################################################################\n",
    "            \n",
    "            ## progress bar update ############################################################################################################\n",
    "            if ddp_on == False or torch.distributed.get_rank() == 0:\n",
    "                if iter_of_val == False:\n",
    "                    iterator.set_description(f\"{iter_acc_string}, iter_loss:{iter_loss:10.6f}, val_best:{100 * val_acc_best:7.2f}%\")  \n",
    "                else:\n",
    "                    iterator.set_description(f\"{iter_acc_string2}, tr/val_loss:{tr_epoch_loss:10.6f}/{val_loss:10.6f}, tr:{100 * tr_acc:7.2f}%, val:{100 * val_acc_now:7.2f}%, val_best:{100 * val_acc_best:7.2f}%\")  \n",
    "\n",
    "                    if len(dvs_duration_domain) > 0:\n",
    "                        dvs_duration_full = [(dvs_duration, dvs_clipping, denoise_on, TIME)] + dvs_duration_domain\n",
    "                        val_acc_now_set_best = [max(past, now) for past, now in zip(val_acc_now_set_past, val_acc_now_set)]\n",
    "                        print(\" | \".join(f\"{dvs_duration_full[d_count][0]:,}c{dvs_duration_full[d_count][1]}d{dvs_duration_full[d_count][2]}t{dvs_duration_full[d_count][3]}:{val_acc_now_set[d_count]*100:.2f}%:{val_acc_now_set_best[d_count]*100:.2f}%\" for d_count in range(len(val_acc_now_set))))\n",
    "                        val_acc_now_set_past = val_acc_now_set_best\n",
    "                    iter_of_val = False\n",
    "            \n",
    "            ####################################################################################################################################\n",
    "            \n",
    "            ## wandb logging ############################################################################################################\n",
    "            if ddp_on == False or torch.distributed.get_rank() == 0:\n",
    "                wandb.log({\"iter_acc\": iter_acc})\n",
    "                wandb.log({\"tr_acc\": tr_acc})\n",
    "                wandb.log({\"val_acc_now\": val_acc_now})\n",
    "                wandb.log({\"val_acc_best\": val_acc_best})\n",
    "                wandb.log({\"summary_val_acc\": val_acc_now})\n",
    "                wandb.log({\"epoch\": epoch})\n",
    "                wandb.log({\"DFA_flag\": DFA_flag}) # DFA mode 바뀌자 마자 바뀌는 게 아니고 validation 한번 했을 때 바뀜.\n",
    "                wandb.log({\"val_loss\": val_loss}) \n",
    "                wandb.log({\"tr_epoch_loss\": tr_epoch_loss})   \n",
    "                if len(val_acc_now_set) > 1:\n",
    "                    wandb.log({\"val_acc_now_set[1]\": val_acc_now_set[1]}) \n",
    "                    wandb.log({\"val_acc_now_set[1]_best\": val_acc_now_set_best[1]}) \n",
    "            ####################################################################################################################################\n",
    "            \n",
    "            \n",
    "            ## accuray 로컬에 저장 하기 위한 코드 #####################################################################################\n",
    "            iter_acc_array = np.append(iter_acc_array, iter_acc)\n",
    "            tr_acc_array = np.append(tr_acc_array, tr_acc)\n",
    "            val_acc_now_array = np.append(val_acc_now_array, val_acc_now)\n",
    "            base_name = f'{current_time}'\n",
    "            ####################################################################################################################\n",
    "            \n",
    "            iter_acc_file_name_time = f'result_save/{base_name}_iter_acc_array_{unique_name}.npy'\n",
    "            tr_acc_file_name_time = f'result_save/{base_name}_tr_acc_array_{unique_name}.npy'\n",
    "            val_acc_file_name_time = f'result_save/{base_name}_val_acc_now_array_{unique_name}.npy'\n",
    "            hyperparameters_file_name_time = f'result_save/{base_name}_hyperparameters_{unique_name}.json'\n",
    "\n",
    "            hyperparameters['current epoch'] = epoch\n",
    "\n",
    "            ### accuracy 세이브: 덮어쓰기 하기 싫으면 주석 풀어서 사용 (시간마다 새로 쓰기) 비추천 ########################\n",
    "            # if ddp_on == False or torch.distributed.get_rank() == 0:\n",
    "            #     np.save(iter_acc_file_name_time, iter_acc_array)\n",
    "\n",
    "\n",
    "            #     np.save(tr_acc_file_name_time, iter_acc_array)\n",
    "            #     np.save(val_acc_file_name_time, val_acc_now_array)\n",
    "            #     with open(hyperparameters_file_name_time, 'w') as f:\n",
    "            #         json.dump(hyperparameters, f, indent=4)\n",
    "            #########################################################################################################\n",
    "\n",
    "            ## accuracy 세이브 ###########################################################################################\n",
    "            if ddp_on == False or torch.distributed.get_rank() == 0:\n",
    "                np.save(f'result_save/iter_acc_array_{unique_name}.npy', iter_acc_array)\n",
    "                np.save(f'result_save/tr_acc_array_{unique_name}.npy', tr_acc_array)\n",
    "                np.save(f'result_save/val_acc_now_array_{unique_name}.npy', val_acc_now_array)\n",
    "                with open(f'result_save/hyperparameters_{unique_name}.json', 'w') as f:\n",
    "                    json.dump(hyperparameters, f, indent=4)\n",
    "            ##########################################################################################################\n",
    "            # iterator.update(1)\n",
    "        ###### ITERATION END ##########################################################################################################\n",
    "                \n",
    "\n",
    "        ## scheduler update #############################################################################\n",
    "        if (scheduler_name != 'no'):\n",
    "            if (scheduler_name == 'ReduceLROnPlateau'):\n",
    "                scheduler.step(val_loss)\n",
    "            else:\n",
    "                scheduler.step()\n",
    "        #################################################################################################\n",
    "        \n",
    "        # 실행 시간 계산\n",
    "        epoch_time_end = time.time()\n",
    "        # print(f\"epoch_time: {epoch_time_end - epoch_start_time} seconds\\n\") \n",
    "    #======== EPOCH END ==========================================================================================\n"
   ]
  },
  {
   "cell_type": "code",
   "execution_count": 5,
   "metadata": {},
   "outputs": [
    {
     "name": "stderr",
     "output_type": "stream",
     "text": [
      "Failed to detect the name of this notebook, you can set it manually with the WANDB_NOTEBOOK_NAME environment variable to enable code saving.\n",
      "\u001b[34m\u001b[1mwandb\u001b[0m: Currently logged in as: \u001b[33mbhkim003\u001b[0m (\u001b[33mbhkim003-seoul-national-university\u001b[0m). Use \u001b[1m`wandb login --relogin`\u001b[0m to force relogin\n"
     ]
    },
    {
     "data": {
      "text/html": [
       "wandb version 0.18.5 is available!  To upgrade, please run:\n",
       " $ pip install wandb --upgrade"
      ],
      "text/plain": [
       "<IPython.core.display.HTML object>"
      ]
     },
     "metadata": {},
     "output_type": "display_data"
    },
    {
     "data": {
      "text/html": [
       "Tracking run with wandb version 0.17.5"
      ],
      "text/plain": [
       "<IPython.core.display.HTML object>"
      ]
     },
     "metadata": {},
     "output_type": "display_data"
    },
    {
     "data": {
      "text/html": [
       "Run data is saved locally in <code>/nfs/home/bhkim003/github_folder/ByeonghyeonKim/my_snn/wandb/run-20241022_194658-u5k6fvtg</code>"
      ],
      "text/plain": [
       "<IPython.core.display.HTML object>"
      ]
     },
     "metadata": {},
     "output_type": "display_data"
    },
    {
     "data": {
      "text/html": [
       "Syncing run <strong><a href='https://wandb.ai/bhkim003-seoul-national-university/my_snn%20main/runs/u5k6fvtg' target=\"_blank\">northern-pine-6586</a></strong> to <a href='https://wandb.ai/bhkim003-seoul-national-university/my_snn%20main' target=\"_blank\">Weights & Biases</a> (<a href='https://wandb.me/run' target=\"_blank\">docs</a>)<br/>"
      ],
      "text/plain": [
       "<IPython.core.display.HTML object>"
      ]
     },
     "metadata": {},
     "output_type": "display_data"
    },
    {
     "data": {
      "text/html": [
       " View project at <a href='https://wandb.ai/bhkim003-seoul-national-university/my_snn%20main' target=\"_blank\">https://wandb.ai/bhkim003-seoul-national-university/my_snn%20main</a>"
      ],
      "text/plain": [
       "<IPython.core.display.HTML object>"
      ]
     },
     "metadata": {},
     "output_type": "display_data"
    },
    {
     "data": {
      "text/html": [
       " View run at <a href='https://wandb.ai/bhkim003-seoul-national-university/my_snn%20main/runs/u5k6fvtg' target=\"_blank\">https://wandb.ai/bhkim003-seoul-national-university/my_snn%20main/runs/u5k6fvtg</a>"
      ],
      "text/plain": [
       "<IPython.core.display.HTML object>"
      ]
     },
     "metadata": {},
     "output_type": "display_data"
    },
    {
     "name": "stdout",
     "output_type": "stream",
     "text": [
      "dataset_hash = ffa516e60c3efd5e0208f72b4c36cb84\n",
      "cache path exists\n",
      "dataset_hash = ffa516e60c3efd5e0208f72b4c36cb84\n",
      "cache path exists\n",
      "dataset_hash = c8c419a78f3942351c7695b1bcb4f304\n",
      "cache path exists\n",
      "\n",
      " src img count 784 trg img count 195 \n",
      "\n",
      "dataset_hash = c8c419a78f3942351c7695b1bcb4f304\n",
      "cache path exists\n",
      "In UDA mode, No parameter number calculation yet.\n",
      "\n",
      "device ==> cuda\n",
      "\n",
      "DataParallel(\n",
      "  (module): MY_SNN_FC_sstep(\n",
      "    (UDA_feature_layers): MY_Sequential(\n",
      "      (0): DimChanger_for_FC_sstep()\n",
      "      (1): SYNAPSE_FC_trace_sstep()\n",
      "      (2): LIF_layer_trace_sstep()\n",
      "    )\n",
      "    (UDA_classifier_layers): MY_Sequential(\n",
      "      (0): SYNAPSE_FC_trace_sstep()\n",
      "      (1): LIF_layer_trace_sstep()\n",
      "      (2): SYNAPSE_FC_trace_sstep()\n",
      "    )\n",
      "    (UDA_adapter_layers): MY_Sequential(\n",
      "      (0): Gradient_Reversal_Layer()\n",
      "      (1): SYNAPSE_FC_trace_sstep()\n",
      "      (2): LIF_layer_trace_sstep()\n",
      "      (3): SYNAPSE_FC_trace_sstep()\n",
      "    )\n",
      "  )\n",
      ")\n",
      "==================================================\n",
      "My Num of PARAMS: 0, system's param_num : 492,612\n",
      "Memory: 0.00MiB at 32-bit\n",
      "==================================================\n"
     ]
    },
    {
     "name": "stderr",
     "output_type": "stream",
     "text": [
      "epoch-0   lr=['0.0010000'], tr/val_loss:  2.843702/  2.158547, tr:  15.31%, val:  16.67%, val_best:  16.67%: 100%|██████████| 49/49 [00:13<00:00,  3.74it/s]"
     ]
    },
    {
     "name": "stdout",
     "output_type": "stream",
     "text": [
      "Domain loss,acc: 2.879941, 78.86% Target domain: tr_loss-3.024899, tr_acc-16.41%\n",
      "100,000c5dFalset10:16.67%:16.67% | 125,000c5dFalset10:21.67%:21.67%\n"
     ]
    },
    {
     "name": "stderr",
     "output_type": "stream",
     "text": [
      "\n",
      "epoch-1   lr=['0.0010000'], tr/val_loss:  2.294376/  1.708210, tr:  40.69%, val:  50.83%, val_best:  50.83%: 100%|██████████| 49/49 [00:12<00:00,  4.04it/s]"
     ]
    },
    {
     "name": "stdout",
     "output_type": "stream",
     "text": [
      "Domain loss,acc: 2.338424, 79.78% Target domain: tr_loss-2.514618, tr_acc-29.23%\n",
      "100,000c5dFalset10:50.83%:50.83% | 125,000c5dFalset10:51.25%:51.25%\n"
     ]
    },
    {
     "name": "stderr",
     "output_type": "stream",
     "text": [
      "\n",
      "epoch-2   lr=['0.0010000'], tr/val_loss:  1.793455/  1.560501, tr:  58.29%, val:  51.25%, val_best:  51.25%: 100%|██████████| 49/49 [00:12<00:00,  4.01it/s]"
     ]
    },
    {
     "name": "stdout",
     "output_type": "stream",
     "text": [
      "Domain loss,acc: 1.830771, 79.98% Target domain: tr_loss-1.980036, tr_acc-54.36%\n",
      "100,000c5dFalset10:51.25%:51.25% | 125,000c5dFalset10:50.42%:51.25%\n"
     ]
    },
    {
     "name": "stderr",
     "output_type": "stream",
     "text": [
      "\n",
      "epoch-3   lr=['0.0010000'], tr/val_loss:  1.558592/  1.460253, tr:  65.05%, val:  59.58%, val_best:  59.58%: 100%|██████████| 49/49 [00:11<00:00,  4.13it/s]"
     ]
    },
    {
     "name": "stdout",
     "output_type": "stream",
     "text": [
      "Domain loss,acc: 1.604607, 80.08% Target domain: tr_loss-1.788668, tr_acc-60.00%\n",
      "100,000c5dFalset10:59.58%:59.58% | 125,000c5dFalset10:61.25%:61.25%\n"
     ]
    },
    {
     "name": "stderr",
     "output_type": "stream",
     "text": [
      "\n",
      "epoch-4   lr=['0.0010000'], tr/val_loss:  1.373640/  1.353222, tr:  70.66%, val:  66.67%, val_best:  66.67%: 100%|██████████| 49/49 [00:11<00:00,  4.37it/s]"
     ]
    },
    {
     "name": "stdout",
     "output_type": "stream",
     "text": [
      "Domain loss,acc: 1.440316, 80.08% Target domain: tr_loss-1.707016, tr_acc-62.05%\n",
      "100,000c5dFalset10:66.67%:66.67% | 125,000c5dFalset10:65.00%:65.00%\n"
     ]
    },
    {
     "name": "stderr",
     "output_type": "stream",
     "text": [
      "\n",
      "epoch-5   lr=['0.0010000'], tr/val_loss:  1.217243/  1.379317, tr:  76.91%, val:  62.50%, val_best:  66.67%: 100%|██████████| 49/49 [00:10<00:00,  4.46it/s]"
     ]
    },
    {
     "name": "stdout",
     "output_type": "stream",
     "text": [
      "Domain loss,acc: 1.306175, 80.08% Target domain: tr_loss-1.661901, tr_acc-63.59%\n",
      "100,000c5dFalset10:62.50%:66.67% | 125,000c5dFalset10:62.50%:65.00%\n"
     ]
    },
    {
     "name": "stderr",
     "output_type": "stream",
     "text": [
      "\n",
      "epoch-6   lr=['0.0010000'], tr/val_loss:  1.107180/  1.432607, tr:  78.06%, val:  60.42%, val_best:  66.67%: 100%|██████████| 49/49 [00:11<00:00,  4.45it/s]"
     ]
    },
    {
     "name": "stdout",
     "output_type": "stream",
     "text": [
      "Domain loss,acc: 1.227620, 80.08% Target domain: tr_loss-1.709379, tr_acc-61.54%\n",
      "100,000c5dFalset10:60.42%:66.67% | 125,000c5dFalset10:60.00%:65.00%\n"
     ]
    },
    {
     "name": "stderr",
     "output_type": "stream",
     "text": [
      "\n",
      "epoch-7   lr=['0.0010000'], tr/val_loss:  1.012759/  1.373637, tr:  81.12%, val:  66.67%, val_best:  66.67%: 100%|██████████| 49/49 [00:11<00:00,  4.14it/s]"
     ]
    },
    {
     "name": "stdout",
     "output_type": "stream",
     "text": [
      "Domain loss,acc: 1.118096, 80.08% Target domain: tr_loss-1.539443, tr_acc-64.62%\n",
      "100,000c5dFalset10:66.67%:66.67% | 125,000c5dFalset10:62.08%:65.00%\n"
     ]
    },
    {
     "name": "stderr",
     "output_type": "stream",
     "text": [
      "\n",
      "epoch-8   lr=['0.0010000'], tr/val_loss:  0.902319/  1.358951, tr:  88.39%, val:  70.42%, val_best:  70.42%: 100%|██████████| 49/49 [00:11<00:00,  4.38it/s]"
     ]
    },
    {
     "name": "stdout",
     "output_type": "stream",
     "text": [
      "Domain loss,acc: 1.040978, 80.08% Target domain: tr_loss-1.595615, tr_acc-66.15%\n",
      "100,000c5dFalset10:70.42%:70.42% | 125,000c5dFalset10:67.92%:67.92%\n"
     ]
    },
    {
     "name": "stderr",
     "output_type": "stream",
     "text": [
      "\n",
      "epoch-9   lr=['0.0010000'], tr/val_loss:  0.785791/  1.407508, tr:  93.88%, val:  66.67%, val_best:  70.42%: 100%|██████████| 49/49 [00:10<00:00,  4.52it/s]"
     ]
    },
    {
     "name": "stdout",
     "output_type": "stream",
     "text": [
      "Domain loss,acc: 0.964334, 80.08% Target domain: tr_loss-1.678507, tr_acc-64.62%\n",
      "100,000c5dFalset10:66.67%:70.42% | 125,000c5dFalset10:62.50%:67.92%\n"
     ]
    },
    {
     "name": "stderr",
     "output_type": "stream",
     "text": [
      "\n",
      "epoch-10  lr=['0.0010000'], tr/val_loss:  0.719462/  1.446316, tr:  94.26%, val:  65.42%, val_best:  70.42%: 100%|██████████| 49/49 [00:10<00:00,  4.63it/s]"
     ]
    },
    {
     "name": "stdout",
     "output_type": "stream",
     "text": [
      "Domain loss,acc: 0.876287, 80.08% Target domain: tr_loss-1.503585, tr_acc-70.77%\n",
      "100,000c5dFalset10:65.42%:70.42% | 125,000c5dFalset10:61.25%:67.92%\n"
     ]
    },
    {
     "name": "stderr",
     "output_type": "stream",
     "text": [
      "\n",
      "epoch-11  lr=['0.0010000'], tr/val_loss:  0.666476/  1.463955, tr:  93.11%, val:  71.25%, val_best:  71.25%: 100%|██████████| 49/49 [00:11<00:00,  4.42it/s]"
     ]
    },
    {
     "name": "stdout",
     "output_type": "stream",
     "text": [
      "Domain loss,acc: 0.857915, 80.08% Target domain: tr_loss-1.623669, tr_acc-64.10%\n",
      "100,000c5dFalset10:71.25%:71.25% | 125,000c5dFalset10:72.08%:72.08%\n"
     ]
    },
    {
     "name": "stderr",
     "output_type": "stream",
     "text": [
      "\n",
      "epoch-12  lr=['0.0010000'], tr/val_loss:  0.563110/  1.494658, tr:  97.32%, val:  70.00%, val_best:  71.25%: 100%|██████████| 49/49 [00:10<00:00,  4.56it/s]"
     ]
    },
    {
     "name": "stdout",
     "output_type": "stream",
     "text": [
      "Domain loss,acc: 0.760241, 80.08% Target domain: tr_loss-1.548763, tr_acc-70.26%\n",
      "100,000c5dFalset10:70.00%:71.25% | 125,000c5dFalset10:69.58%:72.08%\n"
     ]
    },
    {
     "name": "stderr",
     "output_type": "stream",
     "text": [
      "\n",
      "epoch-13  lr=['0.0010000'], tr/val_loss:  0.487632/  1.520665, tr:  97.70%, val:  69.58%, val_best:  71.25%: 100%|██████████| 49/49 [00:10<00:00,  4.47it/s]"
     ]
    },
    {
     "name": "stdout",
     "output_type": "stream",
     "text": [
      "Domain loss,acc: 0.721971, 80.08% Target domain: tr_loss-1.659327, tr_acc-68.21%\n",
      "100,000c5dFalset10:69.58%:71.25% | 125,000c5dFalset10:64.17%:72.08%\n"
     ]
    },
    {
     "name": "stderr",
     "output_type": "stream",
     "text": [
      "\n",
      "epoch-14  lr=['0.0010000'], tr/val_loss:  0.408809/  1.558804, tr:  98.60%, val:  71.67%, val_best:  71.67%: 100%|██████████| 49/49 [00:11<00:00,  4.41it/s]"
     ]
    },
    {
     "name": "stdout",
     "output_type": "stream",
     "text": [
      "Domain loss,acc: 0.646382, 80.08% Target domain: tr_loss-1.596676, tr_acc-71.79%\n",
      "100,000c5dFalset10:71.67%:71.67% | 125,000c5dFalset10:67.08%:72.08%\n"
     ]
    },
    {
     "name": "stderr",
     "output_type": "stream",
     "text": [
      "\n",
      "epoch-15  lr=['0.0010000'], tr/val_loss:  0.362473/  1.593594, tr:  99.62%, val:  75.83%, val_best:  75.83%: 100%|██████████| 49/49 [00:10<00:00,  4.47it/s]"
     ]
    },
    {
     "name": "stdout",
     "output_type": "stream",
     "text": [
      "Domain loss,acc: 0.666372, 80.08% Target domain: tr_loss-1.881972, tr_acc-65.64%\n",
      "100,000c5dFalset10:75.83%:75.83% | 125,000c5dFalset10:74.58%:74.58%\n"
     ]
    },
    {
     "name": "stderr",
     "output_type": "stream",
     "text": [
      "\n",
      "epoch-16  lr=['0.0010000'], tr/val_loss:  0.318262/  1.598866, tr:  99.74%, val:  75.42%, val_best:  75.83%: 100%|██████████| 49/49 [00:11<00:00,  4.36it/s]"
     ]
    },
    {
     "name": "stdout",
     "output_type": "stream",
     "text": [
      "Domain loss,acc: 0.626110, 80.08% Target domain: tr_loss-1.857500, tr_acc-69.23%\n",
      "100,000c5dFalset10:75.42%:75.83% | 125,000c5dFalset10:74.17%:74.58%\n"
     ]
    },
    {
     "name": "stderr",
     "output_type": "stream",
     "text": [
      "\n",
      "epoch-17  lr=['0.0010000'], tr/val_loss:  0.260634/  1.655608, tr: 100.00%, val:  76.25%, val_best:  76.25%: 100%|██████████| 49/49 [00:11<00:00,  4.44it/s]"
     ]
    },
    {
     "name": "stdout",
     "output_type": "stream",
     "text": [
      "Domain loss,acc: 0.559823, 80.08% Target domain: tr_loss-1.756582, tr_acc-69.23%\n",
      "100,000c5dFalset10:76.25%:76.25% | 125,000c5dFalset10:72.92%:74.58%\n"
     ]
    },
    {
     "name": "stderr",
     "output_type": "stream",
     "text": [
      "\n",
      "epoch-18  lr=['0.0010000'], tr/val_loss:  0.220329/  1.693360, tr:  99.87%, val:  72.92%, val_best:  76.25%: 100%|██████████| 49/49 [00:11<00:00,  4.28it/s]"
     ]
    },
    {
     "name": "stdout",
     "output_type": "stream",
     "text": [
      "Domain loss,acc: 0.563999, 80.08% Target domain: tr_loss-1.938682, tr_acc-70.77%\n",
      "100,000c5dFalset10:72.92%:76.25% | 125,000c5dFalset10:71.25%:74.58%\n"
     ]
    },
    {
     "name": "stderr",
     "output_type": "stream",
     "text": [
      "\n",
      "epoch-19  lr=['0.0010000'], tr/val_loss:  0.192207/  1.762637, tr: 100.00%, val:  72.92%, val_best:  76.25%: 100%|██████████| 49/49 [00:11<00:00,  4.39it/s]"
     ]
    },
    {
     "name": "stdout",
     "output_type": "stream",
     "text": [
      "Domain loss,acc: 0.525296, 80.08% Target domain: tr_loss-1.857650, tr_acc-69.74%\n",
      "100,000c5dFalset10:72.92%:76.25% | 125,000c5dFalset10:72.50%:74.58%\n"
     ]
    },
    {
     "name": "stderr",
     "output_type": "stream",
     "text": [
      "\n",
      "epoch-20  lr=['0.0010000'], tr/val_loss:  0.168532/  1.767778, tr: 100.00%, val:  74.17%, val_best:  76.25%: 100%|██████████| 49/49 [00:11<00:00,  4.43it/s]"
     ]
    },
    {
     "name": "stdout",
     "output_type": "stream",
     "text": [
      "Domain loss,acc: 0.507965, 80.08% Target domain: tr_loss-1.865695, tr_acc-74.36%\n",
      "100,000c5dFalset10:74.17%:76.25% | 125,000c5dFalset10:75.00%:75.00%\n"
     ]
    },
    {
     "name": "stderr",
     "output_type": "stream",
     "text": [
      "\n",
      "epoch-21  lr=['0.0010000'], tr/val_loss:  0.139067/  1.838254, tr: 100.00%, val:  75.42%, val_best:  76.25%: 100%|██████████| 49/49 [00:10<00:00,  4.50it/s]"
     ]
    },
    {
     "name": "stdout",
     "output_type": "stream",
     "text": [
      "Domain loss,acc: 0.498807, 80.08% Target domain: tr_loss-1.937767, tr_acc-72.31%\n",
      "100,000c5dFalset10:75.42%:76.25% | 125,000c5dFalset10:73.75%:75.00%\n"
     ]
    },
    {
     "name": "stderr",
     "output_type": "stream",
     "text": [
      "\n",
      "epoch-22  lr=['0.0010000'], tr/val_loss:  0.115612/  1.855709, tr: 100.00%, val:  74.17%, val_best:  76.25%: 100%|██████████| 49/49 [00:10<00:00,  4.50it/s]"
     ]
    },
    {
     "name": "stdout",
     "output_type": "stream",
     "text": [
      "Domain loss,acc: 0.503954, 80.08% Target domain: tr_loss-2.057318, tr_acc-73.85%\n",
      "100,000c5dFalset10:74.17%:76.25% | 125,000c5dFalset10:73.75%:75.00%\n"
     ]
    },
    {
     "name": "stderr",
     "output_type": "stream",
     "text": [
      "\n",
      "epoch-23  lr=['0.0010000'], tr/val_loss:  0.106251/  1.886260, tr: 100.00%, val:  74.17%, val_best:  76.25%: 100%|██████████| 49/49 [00:11<00:00,  4.45it/s]"
     ]
    },
    {
     "name": "stdout",
     "output_type": "stream",
     "text": [
      "Domain loss,acc: 0.510146, 80.08% Target domain: tr_loss-2.125725, tr_acc-75.38%\n",
      "100,000c5dFalset10:74.17%:76.25% | 125,000c5dFalset10:74.17%:75.00%\n"
     ]
    },
    {
     "name": "stderr",
     "output_type": "stream",
     "text": [
      "\n",
      "epoch-24  lr=['0.0010000'], tr/val_loss:  0.092036/  1.940005, tr: 100.00%, val:  75.42%, val_best:  76.25%: 100%|██████████| 49/49 [00:10<00:00,  4.52it/s]"
     ]
    },
    {
     "name": "stdout",
     "output_type": "stream",
     "text": [
      "Domain loss,acc: 0.498276, 80.08% Target domain: tr_loss-2.123232, tr_acc-73.33%\n",
      "100,000c5dFalset10:75.42%:76.25% | 125,000c5dFalset10:74.17%:75.00%\n"
     ]
    },
    {
     "name": "stderr",
     "output_type": "stream",
     "text": [
      "\n",
      "epoch-25  lr=['0.0010000'], tr/val_loss:  0.075218/  1.966932, tr: 100.00%, val:  75.42%, val_best:  76.25%: 100%|██████████| 49/49 [00:10<00:00,  4.50it/s]"
     ]
    },
    {
     "name": "stdout",
     "output_type": "stream",
     "text": [
      "Domain loss,acc: 0.478235, 80.08% Target domain: tr_loss-2.090302, tr_acc-74.36%\n",
      "100,000c5dFalset10:75.42%:76.25% | 125,000c5dFalset10:75.83%:75.83%\n"
     ]
    },
    {
     "name": "stderr",
     "output_type": "stream",
     "text": [
      "\n",
      "epoch-26  lr=['0.0010000'], tr/val_loss:  0.065546/  1.955177, tr: 100.00%, val:  77.08%, val_best:  77.08%: 100%|██████████| 49/49 [00:10<00:00,  4.76it/s]"
     ]
    },
    {
     "name": "stdout",
     "output_type": "stream",
     "text": [
      "Domain loss,acc: 0.503497, 80.08% Target domain: tr_loss-2.255300, tr_acc-72.31%\n",
      "100,000c5dFalset10:77.08%:77.08% | 125,000c5dFalset10:76.25%:76.25%\n"
     ]
    },
    {
     "name": "stderr",
     "output_type": "stream",
     "text": [
      "\n",
      "epoch-27  lr=['0.0010000'], tr/val_loss:  0.057299/  2.016391, tr: 100.00%, val:  75.83%, val_best:  77.08%: 100%|██████████| 49/49 [00:10<00:00,  4.67it/s]"
     ]
    },
    {
     "name": "stdout",
     "output_type": "stream",
     "text": [
      "Domain loss,acc: 0.494241, 80.08% Target domain: tr_loss-2.242010, tr_acc-71.28%\n",
      "100,000c5dFalset10:75.83%:77.08% | 125,000c5dFalset10:74.58%:76.25%\n"
     ]
    },
    {
     "name": "stderr",
     "output_type": "stream",
     "text": [
      "\n",
      "epoch-28  lr=['0.0010000'], tr/val_loss:  0.055299/  2.011270, tr: 100.00%, val:  77.08%, val_best:  77.08%: 100%|██████████| 49/49 [00:10<00:00,  4.48it/s]"
     ]
    },
    {
     "name": "stdout",
     "output_type": "stream",
     "text": [
      "Domain loss,acc: 0.486276, 80.08% Target domain: tr_loss-2.210181, tr_acc-73.85%\n",
      "100,000c5dFalset10:77.08%:77.08% | 125,000c5dFalset10:75.00%:76.25%\n"
     ]
    },
    {
     "name": "stderr",
     "output_type": "stream",
     "text": [
      "\n",
      "epoch-29  lr=['0.0010000'], tr/val_loss:  0.045894/  2.044757, tr: 100.00%, val:  76.67%, val_best:  77.08%: 100%|██████████| 49/49 [00:10<00:00,  4.54it/s]"
     ]
    },
    {
     "name": "stdout",
     "output_type": "stream",
     "text": [
      "Domain loss,acc: 0.463475, 80.08% Target domain: tr_loss-2.133796, tr_acc-73.85%\n",
      "100,000c5dFalset10:76.67%:77.08% | 125,000c5dFalset10:74.17%:76.25%\n"
     ]
    },
    {
     "name": "stderr",
     "output_type": "stream",
     "text": [
      "\n",
      "epoch-30  lr=['0.0010000'], tr/val_loss:  0.041073/  2.048312, tr: 100.00%, val:  76.25%, val_best:  77.08%: 100%|██████████| 49/49 [00:11<00:00,  4.44it/s]"
     ]
    },
    {
     "name": "stdout",
     "output_type": "stream",
     "text": [
      "Domain loss,acc: 0.479759, 80.08% Target domain: tr_loss-2.234503, tr_acc-74.36%\n",
      "100,000c5dFalset10:76.25%:77.08% | 125,000c5dFalset10:75.42%:76.25%\n"
     ]
    },
    {
     "name": "stderr",
     "output_type": "stream",
     "text": [
      "\n",
      "epoch-31  lr=['0.0010000'], tr/val_loss:  0.037511/  2.073328, tr: 100.00%, val:  75.83%, val_best:  77.08%: 100%|██████████| 49/49 [00:10<00:00,  4.53it/s]"
     ]
    },
    {
     "name": "stdout",
     "output_type": "stream",
     "text": [
      "Domain loss,acc: 0.516892, 80.08% Target domain: tr_loss-2.434416, tr_acc-75.90%\n",
      "100,000c5dFalset10:75.83%:77.08% | 125,000c5dFalset10:76.25%:76.25%\n"
     ]
    },
    {
     "name": "stderr",
     "output_type": "stream",
     "text": [
      "\n",
      "epoch-32  lr=['0.0010000'], tr/val_loss:  0.034355/  2.083787, tr: 100.00%, val:  77.08%, val_best:  77.08%: 100%|██████████| 49/49 [00:11<00:00,  4.44it/s]"
     ]
    },
    {
     "name": "stdout",
     "output_type": "stream",
     "text": [
      "Domain loss,acc: 0.494394, 80.08% Target domain: tr_loss-2.334551, tr_acc-73.33%\n",
      "100,000c5dFalset10:77.08%:77.08% | 125,000c5dFalset10:76.67%:76.67%\n"
     ]
    },
    {
     "name": "stderr",
     "output_type": "stream",
     "text": [
      "\n",
      "epoch-33  lr=['0.0010000'], tr/val_loss:  0.031481/  2.103543, tr: 100.00%, val:  77.08%, val_best:  77.08%: 100%|██████████| 49/49 [00:11<00:00,  4.30it/s]"
     ]
    },
    {
     "name": "stdout",
     "output_type": "stream",
     "text": [
      "Domain loss,acc: 0.491292, 80.08% Target domain: tr_loss-2.330537, tr_acc-73.33%\n",
      "100,000c5dFalset10:77.08%:77.08% | 125,000c5dFalset10:77.08%:77.08%\n"
     ]
    },
    {
     "name": "stderr",
     "output_type": "stream",
     "text": [
      "\n",
      "epoch-34  lr=['0.0010000'], tr/val_loss:  0.030120/  2.132507, tr: 100.00%, val:  78.33%, val_best:  78.33%: 100%|██████████| 49/49 [00:10<00:00,  4.53it/s]"
     ]
    },
    {
     "name": "stdout",
     "output_type": "stream",
     "text": [
      "Domain loss,acc: 0.523903, 80.08% Target domain: tr_loss-2.499039, tr_acc-71.79%\n",
      "100,000c5dFalset10:78.33%:78.33% | 125,000c5dFalset10:76.67%:77.08%\n"
     ]
    },
    {
     "name": "stderr",
     "output_type": "stream",
     "text": [
      "\n",
      "epoch-35  lr=['0.0010000'], tr/val_loss:  0.027868/  2.138880, tr: 100.00%, val:  77.92%, val_best:  78.33%: 100%|██████████| 49/49 [00:11<00:00,  4.43it/s]"
     ]
    },
    {
     "name": "stdout",
     "output_type": "stream",
     "text": [
      "Domain loss,acc: 0.524783, 80.08% Target domain: tr_loss-2.512444, tr_acc-72.82%\n",
      "100,000c5dFalset10:77.92%:78.33% | 125,000c5dFalset10:77.08%:77.08%\n"
     ]
    },
    {
     "name": "stderr",
     "output_type": "stream",
     "text": [
      "\n",
      "epoch-36  lr=['0.0010000'], tr/val_loss:  0.025591/  2.157784, tr: 100.00%, val:  78.75%, val_best:  78.75%: 100%|██████████| 49/49 [00:11<00:00,  4.34it/s]"
     ]
    },
    {
     "name": "stdout",
     "output_type": "stream",
     "text": [
      "Domain loss,acc: 0.500145, 80.08% Target domain: tr_loss-2.398359, tr_acc-74.36%\n",
      "100,000c5dFalset10:78.75%:78.75% | 125,000c5dFalset10:76.67%:77.08%\n"
     ]
    },
    {
     "name": "stderr",
     "output_type": "stream",
     "text": [
      "\n",
      "epoch-37  lr=['0.0010000'], tr/val_loss:  0.023274/  2.177360, tr: 100.00%, val:  77.92%, val_best:  78.75%: 100%|██████████| 49/49 [00:10<00:00,  4.54it/s]"
     ]
    },
    {
     "name": "stdout",
     "output_type": "stream",
     "text": [
      "Domain loss,acc: 0.508806, 80.08% Target domain: tr_loss-2.450931, tr_acc-74.36%\n",
      "100,000c5dFalset10:77.92%:78.75% | 125,000c5dFalset10:76.25%:77.08%\n"
     ]
    },
    {
     "name": "stderr",
     "output_type": "stream",
     "text": [
      "\n",
      "epoch-38  lr=['0.0010000'], tr/val_loss:  0.022170/  2.196976, tr: 100.00%, val:  78.33%, val_best:  78.75%: 100%|██████████| 49/49 [00:11<00:00,  4.40it/s]"
     ]
    },
    {
     "name": "stdout",
     "output_type": "stream",
     "text": [
      "Domain loss,acc: 0.537381, 80.08% Target domain: tr_loss-2.598225, tr_acc-74.87%\n",
      "100,000c5dFalset10:78.33%:78.75% | 125,000c5dFalset10:76.67%:77.08%\n"
     ]
    },
    {
     "name": "stderr",
     "output_type": "stream",
     "text": [
      "\n",
      "epoch-39  lr=['0.0010000'], tr/val_loss:  0.020983/  2.199113, tr: 100.00%, val:  77.92%, val_best:  78.75%: 100%|██████████| 49/49 [00:11<00:00,  4.35it/s]"
     ]
    },
    {
     "name": "stdout",
     "output_type": "stream",
     "text": [
      "Domain loss,acc: 0.495453, 80.08% Target domain: tr_loss-2.393334, tr_acc-72.82%\n",
      "100,000c5dFalset10:77.92%:78.75% | 125,000c5dFalset10:78.33%:78.33%\n"
     ]
    },
    {
     "name": "stderr",
     "output_type": "stream",
     "text": [
      "\n",
      "epoch-40  lr=['0.0010000'], tr/val_loss:  0.020004/  2.223425, tr: 100.00%, val:  77.08%, val_best:  78.75%: 100%|██████████| 49/49 [00:10<00:00,  4.53it/s]"
     ]
    },
    {
     "name": "stdout",
     "output_type": "stream",
     "text": [
      "Domain loss,acc: 0.489302, 80.08% Target domain: tr_loss-2.366495, tr_acc-74.87%\n",
      "100,000c5dFalset10:77.08%:78.75% | 125,000c5dFalset10:76.67%:78.33%\n"
     ]
    },
    {
     "name": "stderr",
     "output_type": "stream",
     "text": [
      "\n",
      "epoch-41  lr=['0.0010000'], tr/val_loss:  0.018528/  2.217074, tr: 100.00%, val:  78.33%, val_best:  78.75%: 100%|██████████| 49/49 [00:11<00:00,  4.44it/s]"
     ]
    },
    {
     "name": "stdout",
     "output_type": "stream",
     "text": [
      "Domain loss,acc: 0.515055, 80.08% Target domain: tr_loss-2.501160, tr_acc-73.85%\n",
      "100,000c5dFalset10:78.33%:78.75% | 125,000c5dFalset10:73.75%:78.33%\n"
     ]
    },
    {
     "name": "stderr",
     "output_type": "stream",
     "text": [
      "\n",
      "epoch-42  lr=['0.0010000'], tr/val_loss:  0.017131/  2.217409, tr: 100.00%, val:  79.17%, val_best:  79.17%: 100%|██████████| 49/49 [00:10<00:00,  4.70it/s]"
     ]
    },
    {
     "name": "stdout",
     "output_type": "stream",
     "text": [
      "Domain loss,acc: 0.537887, 80.08% Target domain: tr_loss-2.620911, tr_acc-75.38%\n",
      "100,000c5dFalset10:79.17%:79.17% | 125,000c5dFalset10:76.67%:78.33%\n"
     ]
    },
    {
     "name": "stderr",
     "output_type": "stream",
     "text": [
      "\n",
      "epoch-43  lr=['0.0010000'], tr/val_loss:  0.016528/  2.244881, tr: 100.00%, val:  80.00%, val_best:  80.00%: 100%|██████████| 49/49 [00:10<00:00,  4.63it/s]"
     ]
    },
    {
     "name": "stdout",
     "output_type": "stream",
     "text": [
      "Domain loss,acc: 0.500643, 80.08% Target domain: tr_loss-2.437105, tr_acc-74.87%\n",
      "100,000c5dFalset10:80.00%:80.00% | 125,000c5dFalset10:76.67%:78.33%\n"
     ]
    },
    {
     "name": "stderr",
     "output_type": "stream",
     "text": [
      "\n",
      "epoch-44  lr=['0.0010000'], tr/val_loss:  0.016198/  2.299020, tr: 100.00%, val:  79.17%, val_best:  80.00%: 100%|██████████| 49/49 [00:10<00:00,  4.51it/s]"
     ]
    },
    {
     "name": "stdout",
     "output_type": "stream",
     "text": [
      "Domain loss,acc: 0.521795, 80.08% Target domain: tr_loss-2.544182, tr_acc-75.90%\n",
      "100,000c5dFalset10:79.17%:80.00% | 125,000c5dFalset10:76.67%:78.33%\n"
     ]
    },
    {
     "name": "stderr",
     "output_type": "stream",
     "text": [
      "\n",
      "epoch-45  lr=['0.0010000'], tr/val_loss:  0.015555/  2.272184, tr: 100.00%, val:  79.17%, val_best:  80.00%: 100%|██████████| 49/49 [00:10<00:00,  4.74it/s]"
     ]
    },
    {
     "name": "stdout",
     "output_type": "stream",
     "text": [
      "Domain loss,acc: 0.539428, 80.08% Target domain: tr_loss-2.634918, tr_acc-77.44%\n",
      "100,000c5dFalset10:79.17%:80.00% | 125,000c5dFalset10:76.25%:78.33%\n"
     ]
    },
    {
     "name": "stderr",
     "output_type": "stream",
     "text": [
      "\n",
      "epoch-46  lr=['0.0010000'], tr/val_loss:  0.014671/  2.302352, tr: 100.00%, val:  78.33%, val_best:  80.00%: 100%|██████████| 49/49 [00:10<00:00,  4.51it/s]"
     ]
    },
    {
     "name": "stdout",
     "output_type": "stream",
     "text": [
      "Domain loss,acc: 0.496853, 80.08% Target domain: tr_loss-2.425582, tr_acc-75.38%\n",
      "100,000c5dFalset10:78.33%:80.00% | 125,000c5dFalset10:76.25%:78.33%\n"
     ]
    },
    {
     "name": "stderr",
     "output_type": "stream",
     "text": [
      "\n",
      "epoch-47  lr=['0.0010000'], tr/val_loss:  0.013534/  2.307259, tr: 100.00%, val:  78.33%, val_best:  80.00%: 100%|██████████| 49/49 [00:11<00:00,  4.20it/s]"
     ]
    },
    {
     "name": "stdout",
     "output_type": "stream",
     "text": [
      "Domain loss,acc: 0.498340, 80.08% Target domain: tr_loss-2.437562, tr_acc-73.33%\n",
      "100,000c5dFalset10:78.33%:80.00% | 125,000c5dFalset10:77.08%:78.33%\n"
     ]
    },
    {
     "name": "stderr",
     "output_type": "stream",
     "text": [
      "\n",
      "epoch-48  lr=['0.0010000'], tr/val_loss:  0.013471/  2.334888, tr: 100.00%, val:  78.33%, val_best:  80.00%: 100%|██████████| 49/49 [00:10<00:00,  4.72it/s]"
     ]
    },
    {
     "name": "stdout",
     "output_type": "stream",
     "text": [
      "Domain loss,acc: 0.526827, 80.08% Target domain: tr_loss-2.580250, tr_acc-74.87%\n",
      "100,000c5dFalset10:78.33%:80.00% | 125,000c5dFalset10:78.33%:78.33%\n"
     ]
    },
    {
     "name": "stderr",
     "output_type": "stream",
     "text": [
      "\n",
      "epoch-49  lr=['0.0010000'], tr/val_loss:  0.013209/  2.315879, tr: 100.00%, val:  78.33%, val_best:  80.00%: 100%|██████████| 49/49 [00:10<00:00,  4.58it/s]"
     ]
    },
    {
     "name": "stdout",
     "output_type": "stream",
     "text": [
      "Domain loss,acc: 0.511552, 80.08% Target domain: tr_loss-2.504924, tr_acc-75.38%\n",
      "100,000c5dFalset10:78.33%:80.00% | 125,000c5dFalset10:77.92%:78.33%\n"
     ]
    },
    {
     "name": "stderr",
     "output_type": "stream",
     "text": [
      "\n",
      "epoch-50  lr=['0.0010000'], tr/val_loss:  0.013349/  2.326444, tr: 100.00%, val:  76.67%, val_best:  80.00%: 100%|██████████| 49/49 [00:10<00:00,  4.54it/s]"
     ]
    },
    {
     "name": "stdout",
     "output_type": "stream",
     "text": [
      "Domain loss,acc: 0.502370, 80.08% Target domain: tr_loss-2.458453, tr_acc-73.85%\n",
      "100,000c5dFalset10:76.67%:80.00% | 125,000c5dFalset10:75.83%:78.33%\n"
     ]
    },
    {
     "name": "stderr",
     "output_type": "stream",
     "text": [
      "\n",
      "epoch-51  lr=['0.0010000'], tr/val_loss:  0.013336/  2.351026, tr: 100.00%, val:  77.50%, val_best:  80.00%: 100%|██████████| 49/49 [00:10<00:00,  4.60it/s]"
     ]
    },
    {
     "name": "stdout",
     "output_type": "stream",
     "text": [
      "Domain loss,acc: 0.533760, 80.08% Target domain: tr_loss-2.615455, tr_acc-73.33%\n",
      "100,000c5dFalset10:77.50%:80.00% | 125,000c5dFalset10:77.92%:78.33%\n"
     ]
    },
    {
     "name": "stderr",
     "output_type": "stream",
     "text": [
      "\n",
      "epoch-52  lr=['0.0010000'], tr/val_loss:  0.012071/  2.353713, tr: 100.00%, val:  79.58%, val_best:  80.00%: 100%|██████████| 49/49 [00:11<00:00,  4.43it/s]"
     ]
    },
    {
     "name": "stdout",
     "output_type": "stream",
     "text": [
      "Domain loss,acc: 0.509234, 80.08% Target domain: tr_loss-2.497886, tr_acc-73.85%\n",
      "100,000c5dFalset10:79.58%:80.00% | 125,000c5dFalset10:77.50%:78.33%\n"
     ]
    },
    {
     "name": "stderr",
     "output_type": "stream",
     "text": [
      "\n",
      "epoch-53  lr=['0.0010000'], tr/val_loss:  0.011306/  2.345300, tr: 100.00%, val:  80.00%, val_best:  80.00%: 100%|██████████| 49/49 [00:10<00:00,  4.59it/s]"
     ]
    },
    {
     "name": "stdout",
     "output_type": "stream",
     "text": [
      "Domain loss,acc: 0.542090, 80.08% Target domain: tr_loss-2.665225, tr_acc-75.90%\n",
      "100,000c5dFalset10:80.00%:80.00% | 125,000c5dFalset10:78.75%:78.75%\n"
     ]
    },
    {
     "name": "stderr",
     "output_type": "stream",
     "text": [
      "\n",
      "epoch-54  lr=['0.0010000'], tr/val_loss:  0.010578/  2.374456, tr: 100.00%, val:  79.17%, val_best:  80.00%: 100%|██████████| 49/49 [00:10<00:00,  4.85it/s]"
     ]
    },
    {
     "name": "stdout",
     "output_type": "stream",
     "text": [
      "Domain loss,acc: 0.562928, 80.08% Target domain: tr_loss-2.772328, tr_acc-73.33%\n",
      "100,000c5dFalset10:79.17%:80.00% | 125,000c5dFalset10:77.92%:78.75%\n"
     ]
    },
    {
     "name": "stderr",
     "output_type": "stream",
     "text": [
      "\n",
      "epoch-55  lr=['0.0010000'], tr/val_loss:  0.010359/  2.384050, tr: 100.00%, val:  80.00%, val_best:  80.00%: 100%|██████████| 49/49 [00:10<00:00,  4.74it/s]"
     ]
    },
    {
     "name": "stdout",
     "output_type": "stream",
     "text": [
      "Domain loss,acc: 0.521332, 80.08% Target domain: tr_loss-2.565223, tr_acc-74.87%\n",
      "100,000c5dFalset10:80.00%:80.00% | 125,000c5dFalset10:79.17%:79.17%\n"
     ]
    },
    {
     "name": "stderr",
     "output_type": "stream",
     "text": [
      "\n",
      "epoch-56  lr=['0.0010000'], tr/val_loss:  0.010677/  2.377028, tr: 100.00%, val:  77.08%, val_best:  80.00%: 100%|██████████| 49/49 [00:11<00:00,  4.36it/s]"
     ]
    },
    {
     "name": "stdout",
     "output_type": "stream",
     "text": [
      "Domain loss,acc: 0.535382, 80.08% Target domain: tr_loss-2.634203, tr_acc-74.36%\n",
      "100,000c5dFalset10:77.08%:80.00% | 125,000c5dFalset10:77.50%:79.17%\n"
     ]
    },
    {
     "name": "stderr",
     "output_type": "stream",
     "text": [
      "\n",
      "epoch-57  lr=['0.0010000'], tr/val_loss:  0.009579/  2.393730, tr: 100.00%, val:  78.33%, val_best:  80.00%: 100%|██████████| 49/49 [00:10<00:00,  4.61it/s]"
     ]
    },
    {
     "name": "stdout",
     "output_type": "stream",
     "text": [
      "Domain loss,acc: 0.533414, 80.08% Target domain: tr_loss-2.628754, tr_acc-74.36%\n",
      "100,000c5dFalset10:78.33%:80.00% | 125,000c5dFalset10:78.75%:79.17%\n"
     ]
    },
    {
     "name": "stderr",
     "output_type": "stream",
     "text": [
      "\n",
      "epoch-58  lr=['0.0010000'], tr/val_loss:  0.010384/  2.414032, tr: 100.00%, val:  79.58%, val_best:  80.00%: 100%|██████████| 49/49 [00:11<00:00,  4.40it/s]"
     ]
    },
    {
     "name": "stdout",
     "output_type": "stream",
     "text": [
      "Domain loss,acc: 0.550810, 80.08% Target domain: tr_loss-2.712514, tr_acc-74.87%\n",
      "100,000c5dFalset10:79.58%:80.00% | 125,000c5dFalset10:77.92%:79.17%\n"
     ]
    },
    {
     "name": "stderr",
     "output_type": "stream",
     "text": [
      "\n",
      "epoch-59  lr=['0.0010000'], tr/val_loss:  0.009993/  2.408501, tr: 100.00%, val:  78.33%, val_best:  80.00%: 100%|██████████| 49/49 [00:10<00:00,  4.50it/s]"
     ]
    },
    {
     "name": "stdout",
     "output_type": "stream",
     "text": [
      "Domain loss,acc: 0.515526, 80.08% Target domain: tr_loss-2.537657, tr_acc-75.38%\n",
      "100,000c5dFalset10:78.33%:80.00% | 125,000c5dFalset10:77.50%:79.17%\n"
     ]
    },
    {
     "name": "stderr",
     "output_type": "stream",
     "text": [
      "\n",
      "epoch-60  lr=['0.0010000'], tr/val_loss:  0.009382/  2.421577, tr: 100.00%, val:  77.08%, val_best:  80.00%: 100%|██████████| 49/49 [00:10<00:00,  4.50it/s]"
     ]
    },
    {
     "name": "stdout",
     "output_type": "stream",
     "text": [
      "Domain loss,acc: 0.540703, 80.08% Target domain: tr_loss-2.665986, tr_acc-75.38%\n",
      "100,000c5dFalset10:77.08%:80.00% | 125,000c5dFalset10:78.75%:79.17%\n"
     ]
    },
    {
     "name": "stderr",
     "output_type": "stream",
     "text": [
      "\n",
      "epoch-61  lr=['0.0010000'], tr/val_loss:  0.009446/  2.420578, tr: 100.00%, val:  79.17%, val_best:  80.00%: 100%|██████████| 49/49 [00:11<00:00,  4.43it/s]"
     ]
    },
    {
     "name": "stdout",
     "output_type": "stream",
     "text": [
      "Domain loss,acc: 0.531183, 80.08% Target domain: tr_loss-2.618128, tr_acc-74.87%\n",
      "100,000c5dFalset10:79.17%:80.00% | 125,000c5dFalset10:79.17%:79.17%\n"
     ]
    },
    {
     "name": "stderr",
     "output_type": "stream",
     "text": [
      "\n",
      "epoch-62  lr=['0.0010000'], tr/val_loss:  0.009001/  2.448388, tr: 100.00%, val:  79.17%, val_best:  80.00%: 100%|██████████| 49/49 [00:11<00:00,  4.43it/s]"
     ]
    },
    {
     "name": "stdout",
     "output_type": "stream",
     "text": [
      "Domain loss,acc: 0.551670, 80.08% Target domain: tr_loss-2.722347, tr_acc-74.36%\n",
      "100,000c5dFalset10:79.17%:80.00% | 125,000c5dFalset10:78.33%:79.17%\n"
     ]
    },
    {
     "name": "stderr",
     "output_type": "stream",
     "text": [
      "\n",
      "epoch-63  lr=['0.0010000'], tr/val_loss:  0.008749/  2.456730, tr: 100.00%, val:  79.58%, val_best:  80.00%: 100%|██████████| 49/49 [00:11<00:00,  4.39it/s]"
     ]
    },
    {
     "name": "stdout",
     "output_type": "stream",
     "text": [
      "Domain loss,acc: 0.515297, 80.08% Target domain: tr_loss-2.541490, tr_acc-74.36%\n",
      "100,000c5dFalset10:79.58%:80.00% | 125,000c5dFalset10:77.92%:79.17%\n"
     ]
    },
    {
     "name": "stderr",
     "output_type": "stream",
     "text": [
      "\n",
      "epoch-64  lr=['0.0010000'], tr/val_loss:  0.008885/  2.449697, tr: 100.00%, val:  78.33%, val_best:  80.00%: 100%|██████████| 49/49 [00:10<00:00,  4.49it/s]"
     ]
    },
    {
     "name": "stdout",
     "output_type": "stream",
     "text": [
      "Domain loss,acc: 0.534192, 80.08% Target domain: tr_loss-2.635416, tr_acc-74.87%\n",
      "100,000c5dFalset10:78.33%:80.00% | 125,000c5dFalset10:78.75%:79.17%\n"
     ]
    },
    {
     "name": "stderr",
     "output_type": "stream",
     "text": [
      "\n",
      "epoch-65  lr=['0.0010000'], tr/val_loss:  0.008918/  2.462280, tr: 100.00%, val:  78.75%, val_best:  80.00%: 100%|██████████| 49/49 [00:10<00:00,  4.47it/s]"
     ]
    },
    {
     "name": "stdout",
     "output_type": "stream",
     "text": [
      "Domain loss,acc: 0.563577, 80.08% Target domain: tr_loss-2.782212, tr_acc-73.85%\n",
      "100,000c5dFalset10:78.75%:80.00% | 125,000c5dFalset10:78.75%:79.17%\n"
     ]
    },
    {
     "name": "stderr",
     "output_type": "stream",
     "text": [
      "\n",
      "epoch-66  lr=['0.0010000'], tr/val_loss:  0.008518/  2.469923, tr: 100.00%, val:  78.75%, val_best:  80.00%: 100%|██████████| 49/49 [00:10<00:00,  4.53it/s]"
     ]
    },
    {
     "name": "stdout",
     "output_type": "stream",
     "text": [
      "Domain loss,acc: 0.560244, 80.08% Target domain: tr_loss-2.767144, tr_acc-74.87%\n",
      "100,000c5dFalset10:78.75%:80.00% | 125,000c5dFalset10:78.33%:79.17%\n"
     ]
    },
    {
     "name": "stderr",
     "output_type": "stream",
     "text": [
      "\n",
      "epoch-67  lr=['0.0010000'], tr/val_loss:  0.008432/  2.485353, tr: 100.00%, val:  77.50%, val_best:  80.00%: 100%|██████████| 49/49 [00:10<00:00,  4.52it/s]"
     ]
    },
    {
     "name": "stdout",
     "output_type": "stream",
     "text": [
      "Domain loss,acc: 0.563350, 80.08% Target domain: tr_loss-2.783019, tr_acc-72.82%\n",
      "100,000c5dFalset10:77.50%:80.00% | 125,000c5dFalset10:78.33%:79.17%\n"
     ]
    },
    {
     "name": "stderr",
     "output_type": "stream",
     "text": [
      "\n",
      "epoch-68  lr=['0.0010000'], tr/val_loss:  0.009139/  2.520327, tr: 100.00%, val:  77.92%, val_best:  80.00%: 100%|██████████| 49/49 [00:11<00:00,  4.41it/s]"
     ]
    },
    {
     "name": "stdout",
     "output_type": "stream",
     "text": [
      "Domain loss,acc: 0.603610, 80.08% Target domain: tr_loss-2.981495, tr_acc-75.38%\n",
      "100,000c5dFalset10:77.92%:80.00% | 125,000c5dFalset10:77.50%:79.17%\n"
     ]
    },
    {
     "name": "stderr",
     "output_type": "stream",
     "text": [
      "\n",
      "epoch-69  lr=['0.0010000'], tr/val_loss:  0.008122/  2.509850, tr: 100.00%, val:  78.33%, val_best:  80.00%: 100%|██████████| 49/49 [00:11<00:00,  4.37it/s]"
     ]
    },
    {
     "name": "stdout",
     "output_type": "stream",
     "text": [
      "Domain loss,acc: 0.568839, 80.08% Target domain: tr_loss-2.811708, tr_acc-75.38%\n",
      "100,000c5dFalset10:78.33%:80.00% | 125,000c5dFalset10:79.17%:79.17%\n"
     ]
    },
    {
     "name": "stderr",
     "output_type": "stream",
     "text": [
      "\n",
      "epoch-70  lr=['0.0010000'], tr/val_loss:  0.007430/  2.515733, tr: 100.00%, val:  80.00%, val_best:  80.00%: 100%|██████████| 49/49 [00:10<00:00,  4.67it/s]"
     ]
    },
    {
     "name": "stdout",
     "output_type": "stream",
     "text": [
      "Domain loss,acc: 0.529985, 80.08% Target domain: tr_loss-2.620205, tr_acc-75.38%\n",
      "100,000c5dFalset10:80.00%:80.00% | 125,000c5dFalset10:78.75%:79.17%\n"
     ]
    },
    {
     "name": "stderr",
     "output_type": "stream",
     "text": [
      "\n",
      "epoch-71  lr=['0.0010000'], tr/val_loss:  0.007646/  2.518235, tr: 100.00%, val:  77.50%, val_best:  80.00%: 100%|██████████| 49/49 [00:10<00:00,  4.82it/s]"
     ]
    },
    {
     "name": "stdout",
     "output_type": "stream",
     "text": [
      "Domain loss,acc: 0.567891, 80.08% Target domain: tr_loss-2.808872, tr_acc-75.90%\n",
      "100,000c5dFalset10:77.50%:80.00% | 125,000c5dFalset10:78.33%:79.17%\n"
     ]
    },
    {
     "name": "stderr",
     "output_type": "stream",
     "text": [
      "\n",
      "epoch-72  lr=['0.0010000'], tr/val_loss:  0.007945/  2.531006, tr: 100.00%, val:  77.92%, val_best:  80.00%: 100%|██████████| 49/49 [00:10<00:00,  4.68it/s]"
     ]
    },
    {
     "name": "stdout",
     "output_type": "stream",
     "text": [
      "Domain loss,acc: 0.547652, 80.08% Target domain: tr_loss-2.706481, tr_acc-74.87%\n",
      "100,000c5dFalset10:77.92%:80.00% | 125,000c5dFalset10:79.17%:79.17%\n"
     ]
    },
    {
     "name": "stderr",
     "output_type": "stream",
     "text": [
      "\n",
      "epoch-73  lr=['0.0010000'], tr/val_loss:  0.007557/  2.542892, tr: 100.00%, val:  77.92%, val_best:  80.00%: 100%|██████████| 49/49 [00:10<00:00,  4.64it/s]"
     ]
    },
    {
     "name": "stdout",
     "output_type": "stream",
     "text": [
      "Domain loss,acc: 0.579328, 80.08% Target domain: tr_loss-2.866412, tr_acc-75.38%\n",
      "100,000c5dFalset10:77.92%:80.00% | 125,000c5dFalset10:78.33%:79.17%\n"
     ]
    },
    {
     "name": "stderr",
     "output_type": "stream",
     "text": [
      "\n",
      "epoch-74  lr=['0.0010000'], tr/val_loss:  0.007514/  2.535134, tr: 100.00%, val:  78.33%, val_best:  80.00%: 100%|██████████| 49/49 [00:10<00:00,  4.67it/s]"
     ]
    },
    {
     "name": "stdout",
     "output_type": "stream",
     "text": [
      "Domain loss,acc: 0.557874, 80.08% Target domain: tr_loss-2.759313, tr_acc-75.90%\n",
      "100,000c5dFalset10:78.33%:80.00% | 125,000c5dFalset10:78.33%:79.17%\n"
     ]
    },
    {
     "name": "stderr",
     "output_type": "stream",
     "text": [
      "\n",
      "epoch-75  lr=['0.0010000'], tr/val_loss:  0.007568/  2.565219, tr: 100.00%, val:  78.75%, val_best:  80.00%: 100%|██████████| 49/49 [00:10<00:00,  4.49it/s]"
     ]
    },
    {
     "name": "stdout",
     "output_type": "stream",
     "text": [
      "Domain loss,acc: 0.577779, 80.08% Target domain: tr_loss-2.858625, tr_acc-75.38%\n",
      "100,000c5dFalset10:78.75%:80.00% | 125,000c5dFalset10:78.75%:79.17%\n"
     ]
    },
    {
     "name": "stderr",
     "output_type": "stream",
     "text": [
      "\n",
      "epoch-76  lr=['0.0010000'], tr/val_loss:  0.007606/  2.559961, tr: 100.00%, val:  78.33%, val_best:  80.00%: 100%|██████████| 49/49 [00:10<00:00,  4.47it/s]"
     ]
    },
    {
     "name": "stdout",
     "output_type": "stream",
     "text": [
      "Domain loss,acc: 0.561116, 80.08% Target domain: tr_loss-2.775154, tr_acc-75.38%\n",
      "100,000c5dFalset10:78.33%:80.00% | 125,000c5dFalset10:78.33%:79.17%\n"
     ]
    },
    {
     "name": "stderr",
     "output_type": "stream",
     "text": [
      "\n",
      "epoch-77  lr=['0.0010000'], tr/val_loss:  0.007429/  2.573359, tr: 100.00%, val:  78.75%, val_best:  80.00%: 100%|██████████| 49/49 [00:11<00:00,  4.38it/s]"
     ]
    },
    {
     "name": "stdout",
     "output_type": "stream",
     "text": [
      "Domain loss,acc: 0.596004, 80.08% Target domain: tr_loss-2.950304, tr_acc-73.85%\n",
      "100,000c5dFalset10:78.75%:80.00% | 125,000c5dFalset10:79.17%:79.17%\n"
     ]
    },
    {
     "name": "stderr",
     "output_type": "stream",
     "text": [
      "\n",
      "epoch-78  lr=['0.0010000'], tr/val_loss:  0.006888/  2.564044, tr: 100.00%, val:  77.92%, val_best:  80.00%: 100%|██████████| 49/49 [00:10<00:00,  4.48it/s]"
     ]
    },
    {
     "name": "stdout",
     "output_type": "stream",
     "text": [
      "Domain loss,acc: 0.585706, 80.08% Target domain: tr_loss-2.900978, tr_acc-74.87%\n",
      "100,000c5dFalset10:77.92%:80.00% | 125,000c5dFalset10:78.75%:79.17%\n"
     ]
    },
    {
     "name": "stderr",
     "output_type": "stream",
     "text": [
      "\n",
      "epoch-79  lr=['0.0010000'], tr/val_loss:  0.007128/  2.582133, tr: 100.00%, val:  78.33%, val_best:  80.00%: 100%|██████████| 49/49 [00:10<00:00,  1.04s/it]"
     ]
    },
    {
     "name": "stdout",
     "output_type": "stream",
     "text": [
      "Domain loss,acc: 0.603891, 80.08% Target domain: tr_loss-2.990942, tr_acc-74.87%\n",
      "100,000c5dFalset10:78.33%:80.00% | 125,000c5dFalset10:76.67%:79.17%\n"
     ]
    },
    {
     "name": "stderr",
     "output_type": "stream",
     "text": [
      "epoch-79  lr=['0.0010000'], tr/val_loss:  0.007128/  2.582133, tr: 100.00%, val:  78.33%, val_best:  80.00%: 100%|██████████| 49/49 [00:11<00:00,  4.43it/s]\n",
      "epoch-80  lr=['0.0010000'], tr/val_loss:  0.006793/  2.602750, tr: 100.00%, val:  78.75%, val_best:  80.00%: 100%|██████████| 49/49 [00:10<00:00,  4.60it/s]"
     ]
    },
    {
     "name": "stdout",
     "output_type": "stream",
     "text": [
      "Domain loss,acc: 0.595061, 80.08% Target domain: tr_loss-2.948133, tr_acc-73.85%\n",
      "100,000c5dFalset10:78.75%:80.00% | 125,000c5dFalset10:78.75%:79.17%\n"
     ]
    },
    {
     "name": "stderr",
     "output_type": "stream",
     "text": [
      "\n",
      "epoch-81  lr=['0.0010000'], tr/val_loss:  0.006650/  2.601866, tr: 100.00%, val:  77.92%, val_best:  80.00%: 100%|██████████| 49/49 [00:10<00:00,  4.57it/s]"
     ]
    },
    {
     "name": "stdout",
     "output_type": "stream",
     "text": [
      "Domain loss,acc: 0.588228, 80.08% Target domain: tr_loss-2.914537, tr_acc-75.38%\n",
      "100,000c5dFalset10:77.92%:80.00% | 125,000c5dFalset10:79.58%:79.58%\n"
     ]
    },
    {
     "name": "stderr",
     "output_type": "stream",
     "text": [
      "\n",
      "epoch-82  lr=['0.0010000'], tr/val_loss:  0.006486/  2.604208, tr: 100.00%, val:  78.33%, val_best:  80.00%: 100%|██████████| 49/49 [00:10<00:00,  4.54it/s]"
     ]
    },
    {
     "name": "stdout",
     "output_type": "stream",
     "text": [
      "Domain loss,acc: 0.594553, 80.08% Target domain: tr_loss-2.946819, tr_acc-75.38%\n",
      "100,000c5dFalset10:78.33%:80.00% | 125,000c5dFalset10:77.92%:79.58%\n"
     ]
    },
    {
     "name": "stderr",
     "output_type": "stream",
     "text": [
      "\n",
      "epoch-83  lr=['0.0010000'], tr/val_loss:  0.006513/  2.605364, tr: 100.00%, val:  78.33%, val_best:  80.00%: 100%|██████████| 49/49 [00:10<00:00,  4.50it/s]"
     ]
    },
    {
     "name": "stdout",
     "output_type": "stream",
     "text": [
      "Domain loss,acc: 0.581018, 80.08% Target domain: tr_loss-2.879039, tr_acc-75.38%\n",
      "100,000c5dFalset10:78.33%:80.00% | 125,000c5dFalset10:77.92%:79.58%\n"
     ]
    },
    {
     "name": "stderr",
     "output_type": "stream",
     "text": [
      "\n",
      "epoch-84  lr=['0.0010000'], tr/val_loss:  0.006840/  2.604826, tr: 100.00%, val:  77.08%, val_best:  80.00%: 100%|██████████| 49/49 [00:10<00:00,  4.50it/s]"
     ]
    },
    {
     "name": "stdout",
     "output_type": "stream",
     "text": [
      "Domain loss,acc: 0.579217, 80.08% Target domain: tr_loss-2.868727, tr_acc-75.90%\n",
      "100,000c5dFalset10:77.08%:80.00% | 125,000c5dFalset10:78.75%:79.58%\n"
     ]
    },
    {
     "name": "stderr",
     "output_type": "stream",
     "text": [
      "\n",
      "epoch-85  lr=['0.0010000'], tr/val_loss:  0.006518/  2.611104, tr: 100.00%, val:  77.92%, val_best:  80.00%: 100%|██████████| 49/49 [00:10<00:00,  4.46it/s]"
     ]
    },
    {
     "name": "stdout",
     "output_type": "stream",
     "text": [
      "Domain loss,acc: 0.575357, 80.08% Target domain: tr_loss-2.850713, tr_acc-73.33%\n",
      "100,000c5dFalset10:77.92%:80.00% | 125,000c5dFalset10:79.58%:79.58%\n"
     ]
    },
    {
     "name": "stderr",
     "output_type": "stream",
     "text": [
      "\n",
      "epoch-86  lr=['0.0010000'], tr/val_loss:  0.006122/  2.645568, tr: 100.00%, val:  77.50%, val_best:  80.00%: 100%|██████████| 49/49 [00:10<00:00,  4.48it/s]"
     ]
    },
    {
     "name": "stdout",
     "output_type": "stream",
     "text": [
      "Domain loss,acc: 0.598137, 80.08% Target domain: tr_loss-2.966199, tr_acc-74.36%\n",
      "100,000c5dFalset10:77.50%:80.00% | 125,000c5dFalset10:78.33%:79.58%\n"
     ]
    },
    {
     "name": "stderr",
     "output_type": "stream",
     "text": [
      "\n",
      "epoch-87  lr=['0.0010000'], tr/val_loss:  0.006302/  2.631884, tr: 100.00%, val:  78.33%, val_best:  80.00%: 100%|██████████| 49/49 [00:10<00:00,  4.69it/s]"
     ]
    },
    {
     "name": "stdout",
     "output_type": "stream",
     "text": [
      "Domain loss,acc: 0.580460, 80.08% Target domain: tr_loss-2.877095, tr_acc-74.36%\n",
      "100,000c5dFalset10:78.33%:80.00% | 125,000c5dFalset10:78.75%:79.58%\n"
     ]
    },
    {
     "name": "stderr",
     "output_type": "stream",
     "text": [
      "\n",
      "epoch-88  lr=['0.0010000'], tr/val_loss:  0.006349/  2.639489, tr: 100.00%, val:  78.33%, val_best:  80.00%: 100%|██████████| 49/49 [00:10<00:00,  4.70it/s]"
     ]
    },
    {
     "name": "stdout",
     "output_type": "stream",
     "text": [
      "Domain loss,acc: 0.561781, 80.08% Target domain: tr_loss-2.783506, tr_acc-73.33%\n",
      "100,000c5dFalset10:78.33%:80.00% | 125,000c5dFalset10:79.17%:79.58%\n"
     ]
    },
    {
     "name": "stderr",
     "output_type": "stream",
     "text": [
      "\n",
      "epoch-89  lr=['0.0010000'], tr/val_loss:  0.006648/  2.653301, tr: 100.00%, val:  77.50%, val_best:  80.00%: 100%|██████████| 49/49 [00:10<00:00,  4.61it/s]"
     ]
    },
    {
     "name": "stdout",
     "output_type": "stream",
     "text": [
      "Domain loss,acc: 0.564103, 80.08% Target domain: tr_loss-2.793921, tr_acc-74.36%\n",
      "100,000c5dFalset10:77.50%:80.00% | 125,000c5dFalset10:79.58%:79.58%\n"
     ]
    },
    {
     "name": "stderr",
     "output_type": "stream",
     "text": [
      "\n",
      "epoch-90  lr=['0.0010000'], tr/val_loss:  0.006056/  2.669308, tr: 100.00%, val:  76.67%, val_best:  80.00%: 100%|██████████| 49/49 [00:10<00:00,  4.67it/s]"
     ]
    },
    {
     "name": "stdout",
     "output_type": "stream",
     "text": [
      "Domain loss,acc: 0.597191, 80.08% Target domain: tr_loss-2.961730, tr_acc-73.85%\n",
      "100,000c5dFalset10:76.67%:80.00% | 125,000c5dFalset10:79.17%:79.58%\n"
     ]
    },
    {
     "name": "stderr",
     "output_type": "stream",
     "text": [
      "\n",
      "epoch-91  lr=['0.0010000'], tr/val_loss:  0.006123/  2.669119, tr: 100.00%, val:  78.33%, val_best:  80.00%: 100%|██████████| 49/49 [00:10<00:00,  4.60it/s]"
     ]
    },
    {
     "name": "stdout",
     "output_type": "stream",
     "text": [
      "Domain loss,acc: 0.600816, 80.08% Target domain: tr_loss-2.979589, tr_acc-73.85%\n",
      "100,000c5dFalset10:78.33%:80.00% | 125,000c5dFalset10:79.17%:79.58%\n"
     ]
    },
    {
     "name": "stderr",
     "output_type": "stream",
     "text": [
      "\n",
      "epoch-92  lr=['0.0010000'], tr/val_loss:  0.006426/  2.663741, tr: 100.00%, val:  78.33%, val_best:  80.00%: 100%|██████████| 49/49 [00:10<00:00,  4.49it/s]"
     ]
    },
    {
     "name": "stdout",
     "output_type": "stream",
     "text": [
      "Domain loss,acc: 0.628182, 80.08% Target domain: tr_loss-3.115204, tr_acc-74.87%\n",
      "100,000c5dFalset10:78.33%:80.00% | 125,000c5dFalset10:78.75%:79.58%\n"
     ]
    },
    {
     "name": "stderr",
     "output_type": "stream",
     "text": [
      "\n",
      "epoch-93  lr=['0.0010000'], tr/val_loss:  0.005220/  2.684195, tr: 100.00%, val:  77.92%, val_best:  80.00%: 100%|██████████| 49/49 [00:10<00:00,  4.51it/s]"
     ]
    },
    {
     "name": "stdout",
     "output_type": "stream",
     "text": [
      "Domain loss,acc: 0.587578, 80.08% Target domain: tr_loss-2.917009, tr_acc-74.36%\n",
      "100,000c5dFalset10:77.92%:80.00% | 125,000c5dFalset10:77.92%:79.58%\n"
     ]
    },
    {
     "name": "stderr",
     "output_type": "stream",
     "text": [
      "\n",
      "epoch-94  lr=['0.0010000'], tr/val_loss:  0.005442/  2.697586, tr: 100.00%, val:  79.17%, val_best:  80.00%: 100%|██████████| 49/49 [00:10<00:00,  4.52it/s]"
     ]
    },
    {
     "name": "stdout",
     "output_type": "stream",
     "text": [
      "Domain loss,acc: 0.577282, 80.08% Target domain: tr_loss-2.864641, tr_acc-75.38%\n",
      "100,000c5dFalset10:79.17%:80.00% | 125,000c5dFalset10:77.50%:79.58%\n"
     ]
    },
    {
     "name": "stderr",
     "output_type": "stream",
     "text": [
      "\n",
      "epoch-95  lr=['0.0010000'], tr/val_loss:  0.006431/  2.688799, tr: 100.00%, val:  78.33%, val_best:  80.00%: 100%|██████████| 49/49 [00:11<00:00,  4.43it/s]"
     ]
    },
    {
     "name": "stdout",
     "output_type": "stream",
     "text": [
      "Domain loss,acc: 0.574445, 80.08% Target domain: tr_loss-2.846499, tr_acc-74.87%\n",
      "100,000c5dFalset10:78.33%:80.00% | 125,000c5dFalset10:76.67%:79.58%\n"
     ]
    },
    {
     "name": "stderr",
     "output_type": "stream",
     "text": [
      "\n",
      "epoch-96  lr=['0.0010000'], tr/val_loss:  0.005720/  2.703041, tr: 100.00%, val:  78.33%, val_best:  80.00%: 100%|██████████| 49/49 [00:10<00:00,  4.47it/s]"
     ]
    },
    {
     "name": "stdout",
     "output_type": "stream",
     "text": [
      "Domain loss,acc: 0.593534, 80.08% Target domain: tr_loss-2.944790, tr_acc-74.36%\n",
      "100,000c5dFalset10:78.33%:80.00% | 125,000c5dFalset10:78.33%:79.58%\n"
     ]
    },
    {
     "name": "stderr",
     "output_type": "stream",
     "text": [
      "\n",
      "epoch-97  lr=['0.0010000'], tr/val_loss:  0.005435/  2.714077, tr: 100.00%, val:  77.50%, val_best:  80.00%: 100%|██████████| 49/49 [00:10<00:00,  4.50it/s]"
     ]
    },
    {
     "name": "stdout",
     "output_type": "stream",
     "text": [
      "Domain loss,acc: 0.611352, 80.08% Target domain: tr_loss-3.035020, tr_acc-75.90%\n",
      "100,000c5dFalset10:77.50%:80.00% | 125,000c5dFalset10:77.08%:79.58%\n"
     ]
    },
    {
     "name": "stderr",
     "output_type": "stream",
     "text": [
      "\n",
      "epoch-98  lr=['0.0010000'], tr/val_loss:  0.005410/  2.715487, tr: 100.00%, val:  79.17%, val_best:  80.00%: 100%|██████████| 49/49 [00:11<00:00,  4.42it/s]"
     ]
    },
    {
     "name": "stdout",
     "output_type": "stream",
     "text": [
      "Domain loss,acc: 0.588006, 80.08% Target domain: tr_loss-2.918390, tr_acc-74.87%\n",
      "100,000c5dFalset10:79.17%:80.00% | 125,000c5dFalset10:79.58%:79.58%\n"
     ]
    },
    {
     "name": "stderr",
     "output_type": "stream",
     "text": [
      "\n",
      "epoch-99  lr=['0.0010000'], tr/val_loss:  0.005269/  2.739528, tr: 100.00%, val:  77.50%, val_best:  80.00%: 100%|██████████| 49/49 [00:10<00:00,  4.50it/s]"
     ]
    },
    {
     "name": "stdout",
     "output_type": "stream",
     "text": [
      "Domain loss,acc: 0.622577, 80.08% Target domain: tr_loss-3.091807, tr_acc-76.41%\n",
      "100,000c5dFalset10:77.50%:80.00% | 125,000c5dFalset10:78.33%:79.58%\n"
     ]
    },
    {
     "name": "stderr",
     "output_type": "stream",
     "text": [
      "\n",
      "epoch-100 lr=['0.0010000'], tr/val_loss:  0.005189/  2.743973, tr: 100.00%, val:  78.33%, val_best:  80.00%: 100%|██████████| 49/49 [00:10<00:00,  4.46it/s]"
     ]
    },
    {
     "name": "stdout",
     "output_type": "stream",
     "text": [
      "Domain loss,acc: 0.605029, 80.08% Target domain: tr_loss-3.004386, tr_acc-74.87%\n",
      "100,000c5dFalset10:78.33%:80.00% | 125,000c5dFalset10:77.50%:79.58%\n"
     ]
    },
    {
     "name": "stderr",
     "output_type": "stream",
     "text": [
      "\n",
      "epoch-101 lr=['0.0010000'], tr/val_loss:  0.005093/  2.745985, tr: 100.00%, val:  79.17%, val_best:  80.00%: 100%|██████████| 49/49 [00:11<00:00,  4.44it/s]"
     ]
    },
    {
     "name": "stdout",
     "output_type": "stream",
     "text": [
      "Domain loss,acc: 0.626606, 80.08% Target domain: tr_loss-3.112658, tr_acc-72.82%\n",
      "100,000c5dFalset10:79.17%:80.00% | 125,000c5dFalset10:78.33%:79.58%\n"
     ]
    },
    {
     "name": "stderr",
     "output_type": "stream",
     "text": [
      "\n",
      "epoch-102 lr=['0.0010000'], tr/val_loss:  0.005603/  2.763178, tr: 100.00%, val:  79.17%, val_best:  80.00%: 100%|██████████| 49/49 [00:10<00:00,  4.49it/s]"
     ]
    },
    {
     "name": "stdout",
     "output_type": "stream",
     "text": [
      "Domain loss,acc: 0.608923, 80.08% Target domain: tr_loss-3.022207, tr_acc-73.85%\n",
      "100,000c5dFalset10:79.17%:80.00% | 125,000c5dFalset10:76.25%:79.58%\n"
     ]
    },
    {
     "name": "stderr",
     "output_type": "stream",
     "text": [
      "\n",
      "epoch-103 lr=['0.0010000'], tr/val_loss:  0.005480/  2.740805, tr: 100.00%, val:  77.08%, val_best:  80.00%: 100%|██████████| 49/49 [00:11<00:00,  4.40it/s]"
     ]
    },
    {
     "name": "stdout",
     "output_type": "stream",
     "text": [
      "Domain loss,acc: 0.610914, 80.08% Target domain: tr_loss-3.032648, tr_acc-74.36%\n",
      "100,000c5dFalset10:77.08%:80.00% | 125,000c5dFalset10:78.33%:79.58%\n"
     ]
    },
    {
     "name": "stderr",
     "output_type": "stream",
     "text": [
      "\n",
      "epoch-104 lr=['0.0010000'], tr/val_loss:  0.005232/  2.757807, tr: 100.00%, val:  77.50%, val_best:  80.00%: 100%|██████████| 49/49 [00:10<00:00,  4.81it/s]"
     ]
    },
    {
     "name": "stdout",
     "output_type": "stream",
     "text": [
      "Domain loss,acc: 0.601184, 80.08% Target domain: tr_loss-2.984993, tr_acc-74.87%\n",
      "100,000c5dFalset10:77.50%:80.00% | 125,000c5dFalset10:77.08%:79.58%\n"
     ]
    },
    {
     "name": "stderr",
     "output_type": "stream",
     "text": [
      "\n",
      "epoch-105 lr=['0.0010000'], tr/val_loss:  0.005794/  2.753506, tr: 100.00%, val:  76.25%, val_best:  80.00%: 100%|██████████| 49/49 [00:10<00:00,  4.61it/s]"
     ]
    },
    {
     "name": "stdout",
     "output_type": "stream",
     "text": [
      "Domain loss,acc: 0.651336, 80.08% Target domain: tr_loss-3.233507, tr_acc-72.82%\n",
      "100,000c5dFalset10:76.25%:80.00% | 125,000c5dFalset10:76.25%:79.58%\n"
     ]
    },
    {
     "name": "stderr",
     "output_type": "stream",
     "text": [
      "\n",
      "epoch-106 lr=['0.0010000'], tr/val_loss:  0.005549/  2.773531, tr: 100.00%, val:  78.75%, val_best:  80.00%: 100%|██████████| 49/49 [00:10<00:00,  4.48it/s]"
     ]
    },
    {
     "name": "stdout",
     "output_type": "stream",
     "text": [
      "Domain loss,acc: 0.616594, 80.08% Target domain: tr_loss-3.060770, tr_acc-74.87%\n",
      "100,000c5dFalset10:78.75%:80.00% | 125,000c5dFalset10:77.50%:79.58%\n"
     ]
    },
    {
     "name": "stderr",
     "output_type": "stream",
     "text": [
      "\n",
      "epoch-107 lr=['0.0010000'], tr/val_loss:  0.005185/  2.782850, tr: 100.00%, val:  76.67%, val_best:  80.00%: 100%|██████████| 49/49 [00:10<00:00,  4.62it/s]"
     ]
    },
    {
     "name": "stdout",
     "output_type": "stream",
     "text": [
      "Domain loss,acc: 0.610428, 80.08% Target domain: tr_loss-3.031403, tr_acc-74.87%\n",
      "100,000c5dFalset10:76.67%:80.00% | 125,000c5dFalset10:75.83%:79.58%\n"
     ]
    },
    {
     "name": "stderr",
     "output_type": "stream",
     "text": [
      "\n",
      "epoch-108 lr=['0.0010000'], tr/val_loss:  0.005139/  2.780201, tr: 100.00%, val:  77.50%, val_best:  80.00%: 100%|██████████| 49/49 [00:11<00:00,  4.45it/s]"
     ]
    },
    {
     "name": "stdout",
     "output_type": "stream",
     "text": [
      "Domain loss,acc: 0.641220, 80.08% Target domain: tr_loss-3.185547, tr_acc-72.82%\n",
      "100,000c5dFalset10:77.50%:80.00% | 125,000c5dFalset10:76.25%:79.58%\n"
     ]
    },
    {
     "name": "stderr",
     "output_type": "stream",
     "text": [
      "\n",
      "epoch-109 lr=['0.0010000'], tr/val_loss:  0.004902/  2.808498, tr: 100.00%, val:  77.08%, val_best:  80.00%: 100%|██████████| 49/49 [00:11<00:00,  4.45it/s]"
     ]
    },
    {
     "name": "stdout",
     "output_type": "stream",
     "text": [
      "Domain loss,acc: 0.682367, 80.08% Target domain: tr_loss-3.392227, tr_acc-73.85%\n",
      "100,000c5dFalset10:77.08%:80.00% | 125,000c5dFalset10:77.08%:79.58%\n"
     ]
    },
    {
     "name": "stderr",
     "output_type": "stream",
     "text": [
      "\n",
      "epoch-110 lr=['0.0010000'], tr/val_loss:  0.004839/  2.799618, tr: 100.00%, val:  76.67%, val_best:  80.00%: 100%|██████████| 49/49 [00:09<00:00,  4.91it/s]"
     ]
    },
    {
     "name": "stdout",
     "output_type": "stream",
     "text": [
      "Domain loss,acc: 0.612475, 80.08% Target domain: tr_loss-3.043019, tr_acc-74.87%\n",
      "100,000c5dFalset10:76.67%:80.00% | 125,000c5dFalset10:76.25%:79.58%\n"
     ]
    },
    {
     "name": "stderr",
     "output_type": "stream",
     "text": [
      "\n",
      "epoch-111 lr=['0.0010000'], tr/val_loss:  0.004439/  2.792948, tr: 100.00%, val:  76.67%, val_best:  80.00%: 100%|██████████| 49/49 [00:11<00:00,  4.35it/s]"
     ]
    },
    {
     "name": "stdout",
     "output_type": "stream",
     "text": [
      "Domain loss,acc: 0.627607, 80.08% Target domain: tr_loss-3.120280, tr_acc-73.85%\n",
      "100,000c5dFalset10:76.67%:80.00% | 125,000c5dFalset10:77.50%:79.58%\n"
     ]
    },
    {
     "name": "stderr",
     "output_type": "stream",
     "text": [
      "\n",
      "epoch-112 lr=['0.0010000'], tr/val_loss:  0.004698/  2.813237, tr: 100.00%, val:  75.00%, val_best:  80.00%: 100%|██████████| 49/49 [00:10<00:00,  4.49it/s]"
     ]
    },
    {
     "name": "stdout",
     "output_type": "stream",
     "text": [
      "Domain loss,acc: 0.632095, 80.08% Target domain: tr_loss-3.141685, tr_acc-74.36%\n",
      "100,000c5dFalset10:75.00%:80.00% | 125,000c5dFalset10:76.67%:79.58%\n"
     ]
    },
    {
     "name": "stderr",
     "output_type": "stream",
     "text": [
      "\n",
      "epoch-113 lr=['0.0010000'], tr/val_loss:  0.004863/  2.790859, tr: 100.00%, val:  75.42%, val_best:  80.00%: 100%|██████████| 49/49 [00:10<00:00,  4.65it/s]"
     ]
    },
    {
     "name": "stdout",
     "output_type": "stream",
     "text": [
      "Domain loss,acc: 0.645470, 80.08% Target domain: tr_loss-3.207897, tr_acc-75.90%\n",
      "100,000c5dFalset10:75.42%:80.00% | 125,000c5dFalset10:76.25%:79.58%\n"
     ]
    },
    {
     "name": "stderr",
     "output_type": "stream",
     "text": [
      "\n",
      "epoch-114 lr=['0.0010000'], tr/val_loss:  0.004674/  2.821592, tr: 100.00%, val:  76.25%, val_best:  80.00%: 100%|██████████| 49/49 [00:10<00:00,  4.52it/s]"
     ]
    },
    {
     "name": "stdout",
     "output_type": "stream",
     "text": [
      "Domain loss,acc: 0.637833, 80.08% Target domain: tr_loss-3.170467, tr_acc-74.36%\n",
      "100,000c5dFalset10:76.25%:80.00% | 125,000c5dFalset10:76.67%:79.58%\n"
     ]
    },
    {
     "name": "stderr",
     "output_type": "stream",
     "text": [
      "\n",
      "epoch-115 lr=['0.0010000'], tr/val_loss:  0.004806/  2.823347, tr: 100.00%, val:  76.25%, val_best:  80.00%: 100%|██████████| 49/49 [00:10<00:00,  4.49it/s]"
     ]
    },
    {
     "name": "stdout",
     "output_type": "stream",
     "text": [
      "Domain loss,acc: 0.622891, 80.08% Target domain: tr_loss-3.095230, tr_acc-74.87%\n",
      "100,000c5dFalset10:76.25%:80.00% | 125,000c5dFalset10:76.25%:79.58%\n"
     ]
    },
    {
     "name": "stderr",
     "output_type": "stream",
     "text": [
      "\n",
      "epoch-116 lr=['0.0010000'], tr/val_loss:  0.004973/  2.852793, tr: 100.00%, val:  75.42%, val_best:  80.00%: 100%|██████████| 49/49 [00:10<00:00,  4.86it/s]"
     ]
    },
    {
     "name": "stdout",
     "output_type": "stream",
     "text": [
      "Domain loss,acc: 0.675958, 80.08% Target domain: tr_loss-3.359899, tr_acc-74.87%\n",
      "100,000c5dFalset10:75.42%:80.00% | 125,000c5dFalset10:76.67%:79.58%\n"
     ]
    },
    {
     "name": "stderr",
     "output_type": "stream",
     "text": [
      "\n",
      "epoch-117 lr=['0.0010000'], tr/val_loss:  0.005215/  2.840215, tr: 100.00%, val:  76.67%, val_best:  80.00%: 100%|██████████| 49/49 [00:10<00:00,  4.73it/s]"
     ]
    },
    {
     "name": "stdout",
     "output_type": "stream",
     "text": [
      "Domain loss,acc: 0.658813, 80.08% Target domain: tr_loss-3.273204, tr_acc-74.36%\n",
      "100,000c5dFalset10:76.67%:80.00% | 125,000c5dFalset10:76.25%:79.58%\n"
     ]
    },
    {
     "name": "stderr",
     "output_type": "stream",
     "text": [
      "\n",
      "epoch-118 lr=['0.0010000'], tr/val_loss:  0.005023/  2.839807, tr: 100.00%, val:  75.42%, val_best:  80.00%: 100%|██████████| 49/49 [00:10<00:00,  4.55it/s]"
     ]
    },
    {
     "name": "stdout",
     "output_type": "stream",
     "text": [
      "Domain loss,acc: 0.655280, 80.08% Target domain: tr_loss-3.256312, tr_acc-74.36%\n",
      "100,000c5dFalset10:75.42%:80.00% | 125,000c5dFalset10:76.25%:79.58%\n"
     ]
    },
    {
     "name": "stderr",
     "output_type": "stream",
     "text": [
      "\n",
      "epoch-119 lr=['0.0010000'], tr/val_loss:  0.004383/  2.856964, tr: 100.00%, val:  76.25%, val_best:  80.00%: 100%|██████████| 49/49 [00:10<00:00,  4.62it/s]"
     ]
    },
    {
     "name": "stdout",
     "output_type": "stream",
     "text": [
      "Domain loss,acc: 0.699615, 80.08% Target domain: tr_loss-3.480544, tr_acc-75.38%\n",
      "100,000c5dFalset10:76.25%:80.00% | 125,000c5dFalset10:75.42%:79.58%\n"
     ]
    },
    {
     "name": "stderr",
     "output_type": "stream",
     "text": [
      "\n",
      "epoch-120 lr=['0.0010000'], tr/val_loss:  0.004382/  2.867390, tr: 100.00%, val:  74.17%, val_best:  80.00%: 100%|██████████| 49/49 [00:11<00:00,  4.43it/s]"
     ]
    },
    {
     "name": "stdout",
     "output_type": "stream",
     "text": [
      "Domain loss,acc: 0.651018, 80.08% Target domain: tr_loss-3.237564, tr_acc-73.85%\n",
      "100,000c5dFalset10:74.17%:80.00% | 125,000c5dFalset10:76.25%:79.58%\n"
     ]
    },
    {
     "name": "stderr",
     "output_type": "stream",
     "text": [
      "\n",
      "epoch-121 lr=['0.0010000'], tr/val_loss:  0.004068/  2.865856, tr: 100.00%, val:  75.00%, val_best:  80.00%: 100%|██████████| 49/49 [00:11<00:00,  1.07s/it]"
     ]
    },
    {
     "name": "stdout",
     "output_type": "stream",
     "text": [
      "Domain loss,acc: 0.642904, 80.08% Target domain: tr_loss-3.198246, tr_acc-73.33%\n",
      "100,000c5dFalset10:75.00%:80.00% | 125,000c5dFalset10:76.25%:79.58%\n"
     ]
    },
    {
     "name": "stderr",
     "output_type": "stream",
     "text": [
      "epoch-121 lr=['0.0010000'], tr/val_loss:  0.004068/  2.865856, tr: 100.00%, val:  75.00%, val_best:  80.00%: 100%|██████████| 49/49 [00:11<00:00,  4.39it/s]\n",
      "epoch-122 lr=['0.0010000'], tr/val_loss:  0.004136/  2.860752, tr: 100.00%, val:  75.42%, val_best:  80.00%: 100%|██████████| 49/49 [00:12<00:00,  3.91it/s]"
     ]
    },
    {
     "name": "stdout",
     "output_type": "stream",
     "text": [
      "Domain loss,acc: 0.689074, 80.08% Target domain: tr_loss-3.428823, tr_acc-74.36%\n",
      "100,000c5dFalset10:75.42%:80.00% | 125,000c5dFalset10:75.42%:79.58%\n"
     ]
    },
    {
     "name": "stderr",
     "output_type": "stream",
     "text": [
      "\n",
      "epoch-123 lr=['0.0010000'], tr/val_loss:  0.004473/  2.875597, tr: 100.00%, val:  75.00%, val_best:  80.00%: 100%|██████████| 49/49 [00:10<00:00,  4.54it/s]"
     ]
    },
    {
     "name": "stdout",
     "output_type": "stream",
     "text": [
      "Domain loss,acc: 0.685551, 80.08% Target domain: tr_loss-3.409860, tr_acc-74.36%\n",
      "100,000c5dFalset10:75.00%:80.00% | 125,000c5dFalset10:75.83%:79.58%\n"
     ]
    },
    {
     "name": "stderr",
     "output_type": "stream",
     "text": [
      "\n",
      "epoch-124 lr=['0.0010000'], tr/val_loss:  0.004532/  2.862266, tr: 100.00%, val:  76.25%, val_best:  80.00%: 100%|██████████| 49/49 [00:10<00:00,  4.49it/s]"
     ]
    },
    {
     "name": "stdout",
     "output_type": "stream",
     "text": [
      "Domain loss,acc: 0.686477, 80.08% Target domain: tr_loss-3.414258, tr_acc-75.90%\n",
      "100,000c5dFalset10:76.25%:80.00% | 125,000c5dFalset10:77.08%:79.58%\n"
     ]
    },
    {
     "name": "stderr",
     "output_type": "stream",
     "text": [
      "\n",
      "epoch-125 lr=['0.0010000'], tr/val_loss:  0.004369/  2.882692, tr: 100.00%, val:  75.42%, val_best:  80.00%: 100%|██████████| 49/49 [00:11<00:00,  4.19it/s]"
     ]
    },
    {
     "name": "stdout",
     "output_type": "stream",
     "text": [
      "Domain loss,acc: 0.649715, 80.08% Target domain: tr_loss-3.231101, tr_acc-74.36%\n",
      "100,000c5dFalset10:75.42%:80.00% | 125,000c5dFalset10:76.67%:79.58%\n"
     ]
    },
    {
     "name": "stderr",
     "output_type": "stream",
     "text": [
      "\n",
      "epoch-126 lr=['0.0010000'], tr/val_loss:  0.004092/  2.886211, tr: 100.00%, val:  76.25%, val_best:  80.00%: 100%|██████████| 49/49 [00:11<00:00,  4.19it/s]"
     ]
    },
    {
     "name": "stdout",
     "output_type": "stream",
     "text": [
      "Domain loss,acc: 0.635923, 80.08% Target domain: tr_loss-3.163247, tr_acc-73.33%\n",
      "100,000c5dFalset10:76.25%:80.00% | 125,000c5dFalset10:76.67%:79.58%\n"
     ]
    },
    {
     "name": "stderr",
     "output_type": "stream",
     "text": [
      "\n",
      "epoch-127 lr=['0.0010000'], tr/val_loss:  0.004093/  2.877500, tr: 100.00%, val:  75.42%, val_best:  80.00%: 100%|██████████| 49/49 [00:10<00:00,  4.46it/s]"
     ]
    },
    {
     "name": "stdout",
     "output_type": "stream",
     "text": [
      "Domain loss,acc: 0.662477, 80.08% Target domain: tr_loss-3.296014, tr_acc-74.87%\n",
      "100,000c5dFalset10:75.42%:80.00% | 125,000c5dFalset10:75.42%:79.58%\n"
     ]
    },
    {
     "name": "stderr",
     "output_type": "stream",
     "text": [
      "\n",
      "epoch-128 lr=['0.0010000'], tr/val_loss:  0.004557/  2.915060, tr: 100.00%, val:  74.58%, val_best:  80.00%: 100%|██████████| 49/49 [00:11<00:00,  4.39it/s]"
     ]
    },
    {
     "name": "stdout",
     "output_type": "stream",
     "text": [
      "Domain loss,acc: 0.637034, 80.08% Target domain: tr_loss-3.166942, tr_acc-76.41%\n",
      "100,000c5dFalset10:74.58%:80.00% | 125,000c5dFalset10:74.58%:79.58%\n"
     ]
    },
    {
     "name": "stderr",
     "output_type": "stream",
     "text": [
      "\n",
      "epoch-129 lr=['0.0010000'], tr/val_loss:  0.004998/  2.880926, tr: 100.00%, val:  75.42%, val_best:  80.00%: 100%|██████████| 49/49 [00:10<00:00,  4.52it/s]"
     ]
    },
    {
     "name": "stdout",
     "output_type": "stream",
     "text": [
      "Domain loss,acc: 0.647731, 80.08% Target domain: tr_loss-3.218663, tr_acc-74.87%\n",
      "100,000c5dFalset10:75.42%:80.00% | 125,000c5dFalset10:76.67%:79.58%\n"
     ]
    },
    {
     "name": "stderr",
     "output_type": "stream",
     "text": [
      "\n",
      "epoch-130 lr=['0.0010000'], tr/val_loss:  0.004920/  2.913398, tr: 100.00%, val:  74.58%, val_best:  80.00%: 100%|██████████| 49/49 [00:10<00:00,  4.58it/s]"
     ]
    },
    {
     "name": "stdout",
     "output_type": "stream",
     "text": [
      "Domain loss,acc: 0.655629, 80.08% Target domain: tr_loss-3.258467, tr_acc-73.85%\n",
      "100,000c5dFalset10:74.58%:80.00% | 125,000c5dFalset10:76.25%:79.58%\n"
     ]
    },
    {
     "name": "stderr",
     "output_type": "stream",
     "text": [
      "\n",
      "epoch-131 lr=['0.0010000'], tr/val_loss:  0.004709/  2.933069, tr: 100.00%, val:  74.17%, val_best:  80.00%: 100%|██████████| 49/49 [00:10<00:00,  4.50it/s]"
     ]
    },
    {
     "name": "stdout",
     "output_type": "stream",
     "text": [
      "Domain loss,acc: 0.636122, 80.08% Target domain: tr_loss-3.161773, tr_acc-74.87%\n",
      "100,000c5dFalset10:74.17%:80.00% | 125,000c5dFalset10:75.42%:79.58%\n"
     ]
    },
    {
     "name": "stderr",
     "output_type": "stream",
     "text": [
      "\n",
      "epoch-132 lr=['0.0010000'], tr/val_loss:  0.004823/  2.898791, tr: 100.00%, val:  75.83%, val_best:  80.00%: 100%|██████████| 49/49 [00:10<00:00,  4.70it/s]"
     ]
    },
    {
     "name": "stdout",
     "output_type": "stream",
     "text": [
      "Domain loss,acc: 0.674778, 80.08% Target domain: tr_loss-3.354600, tr_acc-73.85%\n",
      "100,000c5dFalset10:75.83%:80.00% | 125,000c5dFalset10:77.92%:79.58%\n"
     ]
    },
    {
     "name": "stderr",
     "output_type": "stream",
     "text": [
      "\n",
      "epoch-133 lr=['0.0010000'], tr/val_loss:  0.004261/  2.898639, tr: 100.00%, val:  76.67%, val_best:  80.00%: 100%|██████████| 49/49 [00:10<00:00,  4.78it/s]"
     ]
    },
    {
     "name": "stdout",
     "output_type": "stream",
     "text": [
      "Domain loss,acc: 0.678923, 80.08% Target domain: tr_loss-3.377571, tr_acc-75.90%\n",
      "100,000c5dFalset10:76.67%:80.00% | 125,000c5dFalset10:77.08%:79.58%\n"
     ]
    },
    {
     "name": "stderr",
     "output_type": "stream",
     "text": [
      "\n",
      "epoch-134 lr=['0.0010000'], tr/val_loss:  0.003893/  2.895369, tr: 100.00%, val:  75.83%, val_best:  80.00%: 100%|██████████| 49/49 [00:10<00:00,  4.60it/s]"
     ]
    },
    {
     "name": "stdout",
     "output_type": "stream",
     "text": [
      "Domain loss,acc: 0.656817, 80.08% Target domain: tr_loss-3.268512, tr_acc-75.90%\n",
      "100,000c5dFalset10:75.83%:80.00% | 125,000c5dFalset10:76.67%:79.58%\n"
     ]
    },
    {
     "name": "stderr",
     "output_type": "stream",
     "text": [
      "\n",
      "epoch-135 lr=['0.0010000'], tr/val_loss:  0.004150/  2.902508, tr: 100.00%, val:  77.08%, val_best:  80.00%: 100%|██████████| 49/49 [00:10<00:00,  4.46it/s]"
     ]
    },
    {
     "name": "stdout",
     "output_type": "stream",
     "text": [
      "Domain loss,acc: 0.657402, 80.08% Target domain: tr_loss-3.270412, tr_acc-74.36%\n",
      "100,000c5dFalset10:77.08%:80.00% | 125,000c5dFalset10:77.92%:79.58%\n"
     ]
    },
    {
     "name": "stderr",
     "output_type": "stream",
     "text": [
      "\n",
      "epoch-136 lr=['0.0010000'], tr/val_loss:  0.004263/  2.921207, tr: 100.00%, val:  76.67%, val_best:  80.00%: 100%|██████████| 49/49 [00:10<00:00,  4.51it/s]"
     ]
    },
    {
     "name": "stdout",
     "output_type": "stream",
     "text": [
      "Domain loss,acc: 0.695737, 80.08% Target domain: tr_loss-3.461632, tr_acc-75.38%\n",
      "100,000c5dFalset10:76.67%:80.00% | 125,000c5dFalset10:77.08%:79.58%\n"
     ]
    },
    {
     "name": "stderr",
     "output_type": "stream",
     "text": [
      "\n",
      "epoch-137 lr=['0.0010000'], tr/val_loss:  0.003725/  2.959058, tr: 100.00%, val:  76.67%, val_best:  80.00%: 100%|██████████| 49/49 [00:10<00:00,  4.55it/s]"
     ]
    },
    {
     "name": "stdout",
     "output_type": "stream",
     "text": [
      "Domain loss,acc: 0.653528, 80.08% Target domain: tr_loss-3.252741, tr_acc-74.87%\n",
      "100,000c5dFalset10:76.67%:80.00% | 125,000c5dFalset10:76.67%:79.58%\n"
     ]
    },
    {
     "name": "stderr",
     "output_type": "stream",
     "text": [
      "\n",
      "epoch-138 lr=['0.0010000'], tr/val_loss:  0.003577/  2.960794, tr: 100.00%, val:  76.67%, val_best:  80.00%: 100%|██████████| 49/49 [00:10<00:00,  4.46it/s]"
     ]
    },
    {
     "name": "stdout",
     "output_type": "stream",
     "text": [
      "Domain loss,acc: 0.643574, 80.08% Target domain: tr_loss-3.203565, tr_acc-74.87%\n",
      "100,000c5dFalset10:76.67%:80.00% | 125,000c5dFalset10:76.67%:79.58%\n"
     ]
    },
    {
     "name": "stderr",
     "output_type": "stream",
     "text": [
      "\n",
      "epoch-139 lr=['0.0010000'], tr/val_loss:  0.003708/  2.973907, tr: 100.00%, val:  75.42%, val_best:  80.00%: 100%|██████████| 49/49 [00:11<00:00,  4.42it/s]"
     ]
    },
    {
     "name": "stdout",
     "output_type": "stream",
     "text": [
      "Domain loss,acc: 0.706015, 80.08% Target domain: tr_loss-3.515242, tr_acc-75.38%\n",
      "100,000c5dFalset10:75.42%:80.00% | 125,000c5dFalset10:76.25%:79.58%\n"
     ]
    },
    {
     "name": "stderr",
     "output_type": "stream",
     "text": [
      "\n",
      "epoch-140 lr=['0.0010000'], tr/val_loss:  0.003846/  2.959027, tr: 100.00%, val:  75.42%, val_best:  80.00%: 100%|██████████| 49/49 [00:10<00:00,  4.47it/s]"
     ]
    },
    {
     "name": "stdout",
     "output_type": "stream",
     "text": [
      "Domain loss,acc: 0.675439, 80.08% Target domain: tr_loss-3.361810, tr_acc-73.33%\n",
      "100,000c5dFalset10:75.42%:80.00% | 125,000c5dFalset10:77.08%:79.58%\n"
     ]
    },
    {
     "name": "stderr",
     "output_type": "stream",
     "text": [
      "\n",
      "epoch-141 lr=['0.0010000'], tr/val_loss:  0.003732/  2.993408, tr: 100.00%, val:  76.25%, val_best:  80.00%: 100%|██████████| 49/49 [00:10<00:00,  4.63it/s]"
     ]
    },
    {
     "name": "stdout",
     "output_type": "stream",
     "text": [
      "Domain loss,acc: 0.681431, 80.08% Target domain: tr_loss-3.392227, tr_acc-73.33%\n",
      "100,000c5dFalset10:76.25%:80.00% | 125,000c5dFalset10:76.67%:79.58%\n"
     ]
    },
    {
     "name": "stderr",
     "output_type": "stream",
     "text": [
      "\n",
      "epoch-142 lr=['0.0010000'], tr/val_loss:  0.003974/  2.989944, tr: 100.00%, val:  75.42%, val_best:  80.00%: 100%|██████████| 49/49 [00:11<00:00,  4.44it/s]"
     ]
    },
    {
     "name": "stdout",
     "output_type": "stream",
     "text": [
      "Domain loss,acc: 0.670046, 80.08% Target domain: tr_loss-3.334334, tr_acc-73.85%\n",
      "100,000c5dFalset10:75.42%:80.00% | 125,000c5dFalset10:75.83%:79.58%\n"
     ]
    },
    {
     "name": "stderr",
     "output_type": "stream",
     "text": [
      "\n",
      "epoch-143 lr=['0.0010000'], tr/val_loss:  0.003566/  2.983411, tr: 100.00%, val:  75.00%, val_best:  80.00%: 100%|██████████| 49/49 [00:10<00:00,  4.50it/s]"
     ]
    },
    {
     "name": "stdout",
     "output_type": "stream",
     "text": [
      "Domain loss,acc: 0.663902, 80.08% Target domain: tr_loss-3.305245, tr_acc-73.33%\n",
      "100,000c5dFalset10:75.00%:80.00% | 125,000c5dFalset10:75.42%:79.58%\n"
     ]
    },
    {
     "name": "stderr",
     "output_type": "stream",
     "text": [
      "\n",
      "epoch-144 lr=['0.0010000'], tr/val_loss:  0.004132/  2.960415, tr: 100.00%, val:  75.42%, val_best:  80.00%: 100%|██████████| 49/49 [00:11<00:00,  4.45it/s]"
     ]
    },
    {
     "name": "stdout",
     "output_type": "stream",
     "text": [
      "Domain loss,acc: 0.658335, 80.08% Target domain: tr_loss-3.275149, tr_acc-73.33%\n",
      "100,000c5dFalset10:75.42%:80.00% | 125,000c5dFalset10:77.08%:79.58%\n"
     ]
    },
    {
     "name": "stderr",
     "output_type": "stream",
     "text": [
      "\n",
      "epoch-145 lr=['0.0010000'], tr/val_loss:  0.004040/  2.984057, tr: 100.00%, val:  75.00%, val_best:  80.00%: 100%|██████████| 49/49 [00:11<00:00,  4.41it/s]"
     ]
    },
    {
     "name": "stdout",
     "output_type": "stream",
     "text": [
      "Domain loss,acc: 0.680617, 80.08% Target domain: tr_loss-3.386922, tr_acc-74.36%\n",
      "100,000c5dFalset10:75.00%:80.00% | 125,000c5dFalset10:75.83%:79.58%\n"
     ]
    },
    {
     "name": "stderr",
     "output_type": "stream",
     "text": [
      "\n",
      "epoch-146 lr=['0.0010000'], tr/val_loss:  0.004864/  2.974419, tr: 100.00%, val:  75.00%, val_best:  80.00%: 100%|██████████| 49/49 [00:10<00:00,  4.49it/s]"
     ]
    },
    {
     "name": "stdout",
     "output_type": "stream",
     "text": [
      "Domain loss,acc: 0.685299, 80.08% Target domain: tr_loss-3.407040, tr_acc-73.33%\n",
      "100,000c5dFalset10:75.00%:80.00% | 125,000c5dFalset10:76.25%:79.58%\n"
     ]
    },
    {
     "name": "stderr",
     "output_type": "stream",
     "text": [
      "\n",
      "epoch-147 lr=['0.0010000'], tr/val_loss:  0.004018/  2.962013, tr: 100.00%, val:  74.17%, val_best:  80.00%: 100%|██████████| 49/49 [00:10<00:00,  4.53it/s]"
     ]
    },
    {
     "name": "stdout",
     "output_type": "stream",
     "text": [
      "Domain loss,acc: 0.661991, 80.08% Target domain: tr_loss-3.293886, tr_acc-73.33%\n",
      "100,000c5dFalset10:74.17%:80.00% | 125,000c5dFalset10:75.83%:79.58%\n"
     ]
    },
    {
     "name": "stderr",
     "output_type": "stream",
     "text": [
      "\n",
      "epoch-148 lr=['0.0010000'], tr/val_loss:  0.004125/  2.980592, tr: 100.00%, val:  75.42%, val_best:  80.00%: 100%|██████████| 49/49 [00:10<00:00,  4.49it/s]"
     ]
    },
    {
     "name": "stdout",
     "output_type": "stream",
     "text": [
      "Domain loss,acc: 0.730118, 80.08% Target domain: tr_loss-3.634088, tr_acc-72.82%\n",
      "100,000c5dFalset10:75.42%:80.00% | 125,000c5dFalset10:77.08%:79.58%\n"
     ]
    },
    {
     "name": "stderr",
     "output_type": "stream",
     "text": [
      "\n",
      "epoch-149 lr=['0.0010000'], tr/val_loss:  0.003551/  2.964058, tr: 100.00%, val:  77.08%, val_best:  80.00%: 100%|██████████| 49/49 [00:10<00:00,  4.72it/s]"
     ]
    },
    {
     "name": "stdout",
     "output_type": "stream",
     "text": [
      "Domain loss,acc: 0.687637, 80.08% Target domain: tr_loss-3.423983, tr_acc-73.33%\n",
      "100,000c5dFalset10:77.08%:80.00% | 125,000c5dFalset10:77.92%:79.58%\n"
     ]
    },
    {
     "name": "stderr",
     "output_type": "stream",
     "text": [
      "\n",
      "epoch-150 lr=['0.0010000'], tr/val_loss:  0.003807/  2.964590, tr: 100.00%, val:  75.00%, val_best:  80.00%: 100%|██████████| 49/49 [00:10<00:00,  4.67it/s]"
     ]
    },
    {
     "name": "stdout",
     "output_type": "stream",
     "text": [
      "Domain loss,acc: 0.710959, 80.08% Target domain: tr_loss-3.539567, tr_acc-73.85%\n",
      "100,000c5dFalset10:75.00%:80.00% | 125,000c5dFalset10:77.92%:79.58%\n"
     ]
    },
    {
     "name": "stderr",
     "output_type": "stream",
     "text": [
      "\n",
      "epoch-151 lr=['0.0010000'], tr/val_loss:  0.003420/  2.994002, tr: 100.00%, val:  76.25%, val_best:  80.00%: 100%|██████████| 49/49 [00:10<00:00,  4.57it/s]"
     ]
    },
    {
     "name": "stdout",
     "output_type": "stream",
     "text": [
      "Domain loss,acc: 0.703367, 80.08% Target domain: tr_loss-3.503155, tr_acc-72.82%\n",
      "100,000c5dFalset10:76.25%:80.00% | 125,000c5dFalset10:77.08%:79.58%\n"
     ]
    },
    {
     "name": "stderr",
     "output_type": "stream",
     "text": [
      "\n",
      "epoch-152 lr=['0.0010000'], tr/val_loss:  0.003231/  2.990474, tr: 100.00%, val:  74.17%, val_best:  80.00%: 100%|██████████| 49/49 [00:10<00:00,  4.62it/s]"
     ]
    },
    {
     "name": "stdout",
     "output_type": "stream",
     "text": [
      "Domain loss,acc: 0.671081, 80.08% Target domain: tr_loss-3.342482, tr_acc-74.36%\n",
      "100,000c5dFalset10:74.17%:80.00% | 125,000c5dFalset10:76.25%:79.58%\n"
     ]
    },
    {
     "name": "stderr",
     "output_type": "stream",
     "text": [
      "\n",
      "epoch-153 lr=['0.0010000'], tr/val_loss:  0.003175/  3.007149, tr: 100.00%, val:  73.33%, val_best:  80.00%: 100%|██████████| 49/49 [00:10<00:00,  4.46it/s]"
     ]
    },
    {
     "name": "stdout",
     "output_type": "stream",
     "text": [
      "Domain loss,acc: 0.747363, 80.08% Target domain: tr_loss-3.724115, tr_acc-73.33%\n",
      "100,000c5dFalset10:73.33%:80.00% | 125,000c5dFalset10:76.25%:79.58%\n"
     ]
    },
    {
     "name": "stderr",
     "output_type": "stream",
     "text": [
      "\n",
      "epoch-154 lr=['0.0010000'], tr/val_loss:  0.003889/  3.006309, tr: 100.00%, val:  73.75%, val_best:  80.00%: 100%|██████████| 49/49 [00:11<00:00,  4.41it/s]"
     ]
    },
    {
     "name": "stdout",
     "output_type": "stream",
     "text": [
      "Domain loss,acc: 0.705176, 80.08% Target domain: tr_loss-3.510324, tr_acc-73.85%\n",
      "100,000c5dFalset10:73.75%:80.00% | 125,000c5dFalset10:77.50%:79.58%\n"
     ]
    },
    {
     "name": "stderr",
     "output_type": "stream",
     "text": [
      "\n",
      "epoch-155 lr=['0.0010000'], tr/val_loss:  0.003687/  3.033309, tr: 100.00%, val:  73.75%, val_best:  80.00%: 100%|██████████| 49/49 [00:11<00:00,  4.39it/s]"
     ]
    },
    {
     "name": "stdout",
     "output_type": "stream",
     "text": [
      "Domain loss,acc: 0.677794, 80.08% Target domain: tr_loss-3.374219, tr_acc-72.31%\n",
      "100,000c5dFalset10:73.75%:80.00% | 125,000c5dFalset10:76.67%:79.58%\n"
     ]
    },
    {
     "name": "stderr",
     "output_type": "stream",
     "text": [
      "\n",
      "epoch-156 lr=['0.0010000'], tr/val_loss:  0.003726/  3.051679, tr: 100.00%, val:  74.17%, val_best:  80.00%: 100%|██████████| 49/49 [00:11<00:00,  4.30it/s]"
     ]
    },
    {
     "name": "stdout",
     "output_type": "stream",
     "text": [
      "Domain loss,acc: 0.688136, 80.08% Target domain: tr_loss-3.425775, tr_acc-72.82%\n",
      "100,000c5dFalset10:74.17%:80.00% | 125,000c5dFalset10:76.67%:79.58%\n"
     ]
    },
    {
     "name": "stderr",
     "output_type": "stream",
     "text": [
      "\n",
      "epoch-157 lr=['0.0010000'], tr/val_loss:  0.003456/  3.016097, tr: 100.00%, val:  76.25%, val_best:  80.00%: 100%|██████████| 49/49 [00:10<00:00,  4.47it/s]"
     ]
    },
    {
     "name": "stdout",
     "output_type": "stream",
     "text": [
      "Domain loss,acc: 0.727019, 80.08% Target domain: tr_loss-3.621274, tr_acc-73.33%\n",
      "100,000c5dFalset10:76.25%:80.00% | 125,000c5dFalset10:76.67%:79.58%\n"
     ]
    },
    {
     "name": "stderr",
     "output_type": "stream",
     "text": [
      "\n",
      "epoch-158 lr=['0.0010000'], tr/val_loss:  0.003647/  3.030685, tr: 100.00%, val:  74.58%, val_best:  80.00%: 100%|██████████| 49/49 [00:10<00:00,  4.48it/s]"
     ]
    },
    {
     "name": "stdout",
     "output_type": "stream",
     "text": [
      "Domain loss,acc: 0.688348, 80.08% Target domain: tr_loss-3.427149, tr_acc-73.33%\n",
      "100,000c5dFalset10:74.58%:80.00% | 125,000c5dFalset10:77.92%:79.58%\n"
     ]
    },
    {
     "name": "stderr",
     "output_type": "stream",
     "text": [
      "\n",
      "epoch-159 lr=['0.0010000'], tr/val_loss:  0.003696/  3.028308, tr: 100.00%, val:  75.00%, val_best:  80.00%: 100%|██████████| 49/49 [00:10<00:00,  4.46it/s]"
     ]
    },
    {
     "name": "stdout",
     "output_type": "stream",
     "text": [
      "Domain loss,acc: 0.761092, 80.08% Target domain: tr_loss-3.790677, tr_acc-73.33%\n",
      "100,000c5dFalset10:75.00%:80.00% | 125,000c5dFalset10:77.08%:79.58%\n"
     ]
    },
    {
     "name": "stderr",
     "output_type": "stream",
     "text": [
      "\n",
      "epoch-160 lr=['0.0010000'], tr/val_loss:  0.003648/  3.019328, tr: 100.00%, val:  75.00%, val_best:  80.00%: 100%|██████████| 49/49 [00:10<00:00,  4.58it/s]"
     ]
    },
    {
     "name": "stdout",
     "output_type": "stream",
     "text": [
      "Domain loss,acc: 0.722399, 80.08% Target domain: tr_loss-3.597400, tr_acc-74.36%\n",
      "100,000c5dFalset10:75.00%:80.00% | 125,000c5dFalset10:77.08%:79.58%\n"
     ]
    },
    {
     "name": "stderr",
     "output_type": "stream",
     "text": [
      "\n",
      "epoch-161 lr=['0.0010000'], tr/val_loss:  0.003405/  3.040962, tr: 100.00%, val:  74.58%, val_best:  80.00%: 100%|██████████| 49/49 [00:10<00:00,  4.50it/s]"
     ]
    },
    {
     "name": "stdout",
     "output_type": "stream",
     "text": [
      "Domain loss,acc: 0.772842, 80.08% Target domain: tr_loss-3.850591, tr_acc-73.85%\n",
      "100,000c5dFalset10:74.58%:80.00% | 125,000c5dFalset10:76.25%:79.58%\n"
     ]
    },
    {
     "name": "stderr",
     "output_type": "stream",
     "text": [
      "\n",
      "epoch-162 lr=['0.0010000'], tr/val_loss:  0.003534/  3.008571, tr: 100.00%, val:  74.17%, val_best:  80.00%: 100%|██████████| 49/49 [00:10<00:00,  4.46it/s]"
     ]
    },
    {
     "name": "stdout",
     "output_type": "stream",
     "text": [
      "Domain loss,acc: 0.740698, 80.08% Target domain: tr_loss-3.689354, tr_acc-73.33%\n",
      "100,000c5dFalset10:74.17%:80.00% | 125,000c5dFalset10:78.75%:79.58%\n"
     ]
    },
    {
     "name": "stderr",
     "output_type": "stream",
     "text": [
      "\n",
      "epoch-163 lr=['0.0010000'], tr/val_loss:  0.003493/  3.010078, tr: 100.00%, val:  75.42%, val_best:  80.00%: 100%|██████████| 49/49 [00:10<00:00,  4.47it/s]"
     ]
    },
    {
     "name": "stdout",
     "output_type": "stream",
     "text": [
      "Domain loss,acc: 0.740595, 80.08% Target domain: tr_loss-3.689002, tr_acc-73.33%\n",
      "100,000c5dFalset10:75.42%:80.00% | 125,000c5dFalset10:75.83%:79.58%\n"
     ]
    },
    {
     "name": "stderr",
     "output_type": "stream",
     "text": [
      "\n",
      "epoch-164 lr=['0.0010000'], tr/val_loss:  0.003471/  3.017527, tr: 100.00%, val:  75.83%, val_best:  80.00%: 100%|██████████| 49/49 [00:10<00:00,  4.50it/s]"
     ]
    },
    {
     "name": "stdout",
     "output_type": "stream",
     "text": [
      "Domain loss,acc: 0.698258, 80.08% Target domain: tr_loss-3.477405, tr_acc-73.85%\n",
      "100,000c5dFalset10:75.83%:80.00% | 125,000c5dFalset10:76.25%:79.58%\n"
     ]
    },
    {
     "name": "stderr",
     "output_type": "stream",
     "text": [
      "\n",
      "epoch-165 lr=['0.0010000'], tr/val_loss:  0.003232/  3.013404, tr: 100.00%, val:  75.83%, val_best:  80.00%: 100%|██████████| 49/49 [00:10<00:00,  4.66it/s]"
     ]
    },
    {
     "name": "stdout",
     "output_type": "stream",
     "text": [
      "Domain loss,acc: 0.757428, 80.08% Target domain: tr_loss-3.774211, tr_acc-73.85%\n",
      "100,000c5dFalset10:75.83%:80.00% | 125,000c5dFalset10:76.67%:79.58%\n"
     ]
    },
    {
     "name": "stderr",
     "output_type": "stream",
     "text": [
      "\n",
      "epoch-166 lr=['0.0010000'], tr/val_loss:  0.003560/  3.042377, tr: 100.00%, val:  75.83%, val_best:  80.00%: 100%|██████████| 49/49 [00:09<00:00,  4.92it/s]"
     ]
    },
    {
     "name": "stdout",
     "output_type": "stream",
     "text": [
      "Domain loss,acc: 0.709024, 80.08% Target domain: tr_loss-3.530879, tr_acc-73.33%\n",
      "100,000c5dFalset10:75.83%:80.00% | 125,000c5dFalset10:77.50%:79.58%\n"
     ]
    },
    {
     "name": "stderr",
     "output_type": "stream",
     "text": [
      "\n",
      "epoch-167 lr=['0.0010000'], tr/val_loss:  0.003416/  3.045312, tr: 100.00%, val:  75.00%, val_best:  80.00%: 100%|██████████| 49/49 [00:11<00:00,  4.44it/s]"
     ]
    },
    {
     "name": "stdout",
     "output_type": "stream",
     "text": [
      "Domain loss,acc: 0.731271, 80.08% Target domain: tr_loss-3.642694, tr_acc-71.79%\n",
      "100,000c5dFalset10:75.00%:80.00% | 125,000c5dFalset10:77.50%:79.58%\n"
     ]
    },
    {
     "name": "stderr",
     "output_type": "stream",
     "text": [
      "\n",
      "epoch-168 lr=['0.0010000'], tr/val_loss:  0.003878/  3.023830, tr: 100.00%, val:  75.00%, val_best:  80.00%: 100%|██████████| 49/49 [00:10<00:00,  4.74it/s]"
     ]
    },
    {
     "name": "stdout",
     "output_type": "stream",
     "text": [
      "Domain loss,acc: 0.730885, 80.08% Target domain: tr_loss-3.638914, tr_acc-71.28%\n",
      "100,000c5dFalset10:75.00%:80.00% | 125,000c5dFalset10:75.83%:79.58%\n"
     ]
    },
    {
     "name": "stderr",
     "output_type": "stream",
     "text": [
      "\n",
      "epoch-169 lr=['0.0010000'], tr/val_loss:  0.003376/  3.034096, tr: 100.00%, val:  75.83%, val_best:  80.00%: 100%|██████████| 49/49 [00:11<00:00,  4.43it/s]"
     ]
    },
    {
     "name": "stdout",
     "output_type": "stream",
     "text": [
      "Domain loss,acc: 0.722188, 80.08% Target domain: tr_loss-3.597438, tr_acc-71.79%\n",
      "100,000c5dFalset10:75.83%:80.00% | 125,000c5dFalset10:77.08%:79.58%\n"
     ]
    },
    {
     "name": "stderr",
     "output_type": "stream",
     "text": [
      "\n",
      "epoch-170 lr=['0.0010000'], tr/val_loss:  0.003027/  3.023780, tr: 100.00%, val:  77.50%, val_best:  80.00%: 100%|██████████| 49/49 [00:10<00:00,  4.48it/s]"
     ]
    },
    {
     "name": "stdout",
     "output_type": "stream",
     "text": [
      "Domain loss,acc: 0.718311, 80.08% Target domain: tr_loss-3.579448, tr_acc-73.33%\n",
      "100,000c5dFalset10:77.50%:80.00% | 125,000c5dFalset10:76.67%:79.58%\n"
     ]
    },
    {
     "name": "stderr",
     "output_type": "stream",
     "text": [
      "\n",
      "epoch-171 lr=['0.0010000'], tr/val_loss:  0.003141/  3.049167, tr: 100.00%, val:  76.67%, val_best:  80.00%: 100%|██████████| 49/49 [00:09<00:00,  4.98it/s]"
     ]
    },
    {
     "name": "stdout",
     "output_type": "stream",
     "text": [
      "Domain loss,acc: 0.723639, 80.08% Target domain: tr_loss-3.605630, tr_acc-72.82%\n",
      "100,000c5dFalset10:76.67%:80.00% | 125,000c5dFalset10:77.08%:79.58%\n"
     ]
    },
    {
     "name": "stderr",
     "output_type": "stream",
     "text": [
      "\n",
      "epoch-172 lr=['0.0010000'], tr/val_loss:  0.003275/  3.031994, tr: 100.00%, val:  75.83%, val_best:  80.00%: 100%|██████████| 49/49 [00:10<00:00,  4.65it/s]"
     ]
    },
    {
     "name": "stdout",
     "output_type": "stream",
     "text": [
      "Domain loss,acc: 0.710221, 80.08% Target domain: tr_loss-3.538002, tr_acc-71.79%\n",
      "100,000c5dFalset10:75.83%:80.00% | 125,000c5dFalset10:75.83%:79.58%\n"
     ]
    },
    {
     "name": "stderr",
     "output_type": "stream",
     "text": [
      "\n",
      "epoch-173 lr=['0.0010000'], tr/val_loss:  0.003092/  3.053951, tr: 100.00%, val:  75.83%, val_best:  80.00%: 100%|██████████| 49/49 [00:10<00:00,  4.75it/s]"
     ]
    },
    {
     "name": "stdout",
     "output_type": "stream",
     "text": [
      "Domain loss,acc: 0.700526, 80.08% Target domain: tr_loss-3.490263, tr_acc-72.82%\n",
      "100,000c5dFalset10:75.83%:80.00% | 125,000c5dFalset10:76.67%:79.58%\n"
     ]
    },
    {
     "name": "stderr",
     "output_type": "stream",
     "text": [
      "\n",
      "epoch-174 lr=['0.0010000'], tr/val_loss:  0.002794/  3.062579, tr: 100.00%, val:  75.83%, val_best:  80.00%: 100%|██████████| 49/49 [00:10<00:00,  4.67it/s]"
     ]
    },
    {
     "name": "stdout",
     "output_type": "stream",
     "text": [
      "Domain loss,acc: 0.713421, 80.08% Target domain: tr_loss-3.555932, tr_acc-73.85%\n",
      "100,000c5dFalset10:75.83%:80.00% | 125,000c5dFalset10:75.42%:79.58%\n"
     ]
    },
    {
     "name": "stderr",
     "output_type": "stream",
     "text": [
      "\n",
      "epoch-175 lr=['0.0010000'], tr/val_loss:  0.002691/  3.078846, tr: 100.00%, val:  76.25%, val_best:  80.00%: 100%|██████████| 49/49 [00:10<00:00,  4.74it/s]"
     ]
    },
    {
     "name": "stdout",
     "output_type": "stream",
     "text": [
      "Domain loss,acc: 0.720027, 80.08% Target domain: tr_loss-3.589372, tr_acc-73.33%\n",
      "100,000c5dFalset10:76.25%:80.00% | 125,000c5dFalset10:76.67%:79.58%\n"
     ]
    },
    {
     "name": "stderr",
     "output_type": "stream",
     "text": [
      "\n",
      "epoch-176 lr=['0.0010000'], tr/val_loss:  0.002886/  3.076398, tr: 100.00%, val:  76.67%, val_best:  80.00%: 100%|██████████| 49/49 [00:14<00:00,  3.43it/s]"
     ]
    },
    {
     "name": "stdout",
     "output_type": "stream",
     "text": [
      "Domain loss,acc: 0.733945, 80.08% Target domain: tr_loss-3.658183, tr_acc-72.82%\n",
      "100,000c5dFalset10:76.67%:80.00% | 125,000c5dFalset10:76.67%:79.58%\n"
     ]
    },
    {
     "name": "stderr",
     "output_type": "stream",
     "text": [
      "\n",
      "epoch-177 lr=['0.0010000'], tr/val_loss:  0.002917/  3.062852, tr: 100.00%, val:  75.83%, val_best:  80.00%: 100%|██████████| 49/49 [00:09<00:00,  5.03it/s]"
     ]
    },
    {
     "name": "stdout",
     "output_type": "stream",
     "text": [
      "Domain loss,acc: 0.736123, 80.08% Target domain: tr_loss-3.668947, tr_acc-74.36%\n",
      "100,000c5dFalset10:75.83%:80.00% | 125,000c5dFalset10:75.00%:79.58%\n"
     ]
    },
    {
     "name": "stderr",
     "output_type": "stream",
     "text": [
      "\n",
      "epoch-178 lr=['0.0010000'], tr/val_loss:  0.003028/  3.068784, tr: 100.00%, val:  75.00%, val_best:  80.00%: 100%|██████████| 49/49 [00:10<00:00,  4.85it/s]"
     ]
    },
    {
     "name": "stdout",
     "output_type": "stream",
     "text": [
      "Domain loss,acc: 0.729883, 80.08% Target domain: tr_loss-3.637302, tr_acc-73.33%\n",
      "100,000c5dFalset10:75.00%:80.00% | 125,000c5dFalset10:75.00%:79.58%\n"
     ]
    },
    {
     "name": "stderr",
     "output_type": "stream",
     "text": [
      "\n",
      "epoch-179 lr=['0.0010000'], tr/val_loss:  0.003589/  3.098401, tr: 100.00%, val:  75.83%, val_best:  80.00%: 100%|██████████| 49/49 [00:10<00:00,  4.65it/s]"
     ]
    },
    {
     "name": "stdout",
     "output_type": "stream",
     "text": [
      "Domain loss,acc: 0.727429, 80.08% Target domain: tr_loss-3.622787, tr_acc-73.33%\n",
      "100,000c5dFalset10:75.83%:80.00% | 125,000c5dFalset10:75.83%:79.58%\n"
     ]
    },
    {
     "name": "stderr",
     "output_type": "stream",
     "text": [
      "\n",
      "epoch-180 lr=['0.0010000'], tr/val_loss:  0.002868/  3.072909, tr: 100.00%, val:  74.58%, val_best:  80.00%: 100%|██████████| 49/49 [00:10<00:00,  4.61it/s]"
     ]
    },
    {
     "name": "stdout",
     "output_type": "stream",
     "text": [
      "Domain loss,acc: 0.746013, 80.08% Target domain: tr_loss-3.718591, tr_acc-73.85%\n",
      "100,000c5dFalset10:74.58%:80.00% | 125,000c5dFalset10:75.83%:79.58%\n"
     ]
    },
    {
     "name": "stderr",
     "output_type": "stream",
     "text": [
      "\n",
      "epoch-181 lr=['0.0010000'], tr/val_loss:  0.002760/  3.073043, tr: 100.00%, val:  76.25%, val_best:  80.00%: 100%|██████████| 49/49 [00:10<00:00,  4.58it/s]"
     ]
    },
    {
     "name": "stdout",
     "output_type": "stream",
     "text": [
      "Domain loss,acc: 0.737477, 80.08% Target domain: tr_loss-3.676347, tr_acc-72.82%\n",
      "100,000c5dFalset10:76.25%:80.00% | 125,000c5dFalset10:76.67%:79.58%\n"
     ]
    },
    {
     "name": "stderr",
     "output_type": "stream",
     "text": [
      "\n",
      "epoch-182 lr=['0.0010000'], tr/val_loss:  0.002978/  3.092726, tr: 100.00%, val:  74.58%, val_best:  80.00%: 100%|██████████| 49/49 [00:10<00:00,  4.64it/s]"
     ]
    },
    {
     "name": "stdout",
     "output_type": "stream",
     "text": [
      "Domain loss,acc: 0.768467, 80.08% Target domain: tr_loss-3.830425, tr_acc-73.33%\n",
      "100,000c5dFalset10:74.58%:80.00% | 125,000c5dFalset10:75.42%:79.58%\n"
     ]
    },
    {
     "name": "stderr",
     "output_type": "stream",
     "text": [
      "\n",
      "epoch-183 lr=['0.0010000'], tr/val_loss:  0.002572/  3.084557, tr: 100.00%, val:  77.08%, val_best:  80.00%: 100%|██████████| 49/49 [00:11<00:00,  4.42it/s]"
     ]
    },
    {
     "name": "stdout",
     "output_type": "stream",
     "text": [
      "Domain loss,acc: 0.734493, 80.08% Target domain: tr_loss-3.662178, tr_acc-73.85%\n",
      "100,000c5dFalset10:77.08%:80.00% | 125,000c5dFalset10:75.83%:79.58%\n"
     ]
    },
    {
     "name": "stderr",
     "output_type": "stream",
     "text": [
      "\n",
      "epoch-184 lr=['0.0010000'], tr/val_loss:  0.002668/  3.093110, tr: 100.00%, val:  75.42%, val_best:  80.00%: 100%|██████████| 49/49 [00:10<00:00,  4.54it/s]"
     ]
    },
    {
     "name": "stdout",
     "output_type": "stream",
     "text": [
      "Domain loss,acc: 0.752535, 80.08% Target domain: tr_loss-3.752002, tr_acc-72.82%\n",
      "100,000c5dFalset10:75.42%:80.00% | 125,000c5dFalset10:75.42%:79.58%\n"
     ]
    },
    {
     "name": "stderr",
     "output_type": "stream",
     "text": [
      "\n",
      "epoch-185 lr=['0.0010000'], tr/val_loss:  0.002682/  3.094682, tr: 100.00%, val:  76.25%, val_best:  80.00%: 100%|██████████| 49/49 [00:10<00:00,  4.52it/s]"
     ]
    },
    {
     "name": "stdout",
     "output_type": "stream",
     "text": [
      "Domain loss,acc: 0.785357, 80.08% Target domain: tr_loss-3.916058, tr_acc-73.33%\n",
      "100,000c5dFalset10:76.25%:80.00% | 125,000c5dFalset10:74.58%:79.58%\n"
     ]
    },
    {
     "name": "stderr",
     "output_type": "stream",
     "text": [
      "\n",
      "epoch-186 lr=['0.0010000'], tr/val_loss:  0.003398/  3.085839, tr: 100.00%, val:  75.83%, val_best:  80.00%: 100%|██████████| 49/49 [00:10<00:00,  4.68it/s]"
     ]
    },
    {
     "name": "stdout",
     "output_type": "stream",
     "text": [
      "Domain loss,acc: 0.787255, 80.08% Target domain: tr_loss-3.922683, tr_acc-73.33%\n",
      "100,000c5dFalset10:75.83%:80.00% | 125,000c5dFalset10:76.25%:79.58%\n"
     ]
    },
    {
     "name": "stderr",
     "output_type": "stream",
     "text": [
      "\n",
      "epoch-187 lr=['0.0010000'], tr/val_loss:  0.002917/  3.088830, tr: 100.00%, val:  77.08%, val_best:  80.00%: 100%|██████████| 49/49 [00:10<00:00,  4.59it/s]"
     ]
    },
    {
     "name": "stdout",
     "output_type": "stream",
     "text": [
      "Domain loss,acc: 0.734102, 80.08% Target domain: tr_loss-3.658840, tr_acc-73.85%\n",
      "100,000c5dFalset10:77.08%:80.00% | 125,000c5dFalset10:76.67%:79.58%\n"
     ]
    },
    {
     "name": "stderr",
     "output_type": "stream",
     "text": [
      "\n",
      "epoch-188 lr=['0.0010000'], tr/val_loss:  0.002968/  3.105022, tr: 100.00%, val:  77.92%, val_best:  80.00%: 100%|██████████| 49/49 [00:10<00:00,  4.60it/s]"
     ]
    },
    {
     "name": "stdout",
     "output_type": "stream",
     "text": [
      "Domain loss,acc: 0.737129, 80.08% Target domain: tr_loss-3.673771, tr_acc-72.82%\n",
      "100,000c5dFalset10:77.92%:80.00% | 125,000c5dFalset10:75.00%:79.58%\n"
     ]
    },
    {
     "name": "stderr",
     "output_type": "stream",
     "text": [
      "\n",
      "epoch-189 lr=['0.0010000'], tr/val_loss:  0.003595/  3.122850, tr: 100.00%, val:  75.00%, val_best:  80.00%: 100%|██████████| 49/49 [00:10<00:00,  4.59it/s]"
     ]
    },
    {
     "name": "stdout",
     "output_type": "stream",
     "text": [
      "Domain loss,acc: 0.810219, 80.08% Target domain: tr_loss-4.036715, tr_acc-73.33%\n",
      "100,000c5dFalset10:75.00%:80.00% | 125,000c5dFalset10:77.92%:79.58%\n"
     ]
    },
    {
     "name": "stderr",
     "output_type": "stream",
     "text": [
      "\n",
      "epoch-190 lr=['0.0010000'], tr/val_loss:  0.003860/  3.110866, tr: 100.00%, val:  74.58%, val_best:  80.00%: 100%|██████████| 49/49 [00:10<00:00,  4.50it/s]"
     ]
    },
    {
     "name": "stdout",
     "output_type": "stream",
     "text": [
      "Domain loss,acc: 0.772045, 80.08% Target domain: tr_loss-3.844790, tr_acc-73.85%\n",
      "100,000c5dFalset10:74.58%:80.00% | 125,000c5dFalset10:76.25%:79.58%\n"
     ]
    },
    {
     "name": "stderr",
     "output_type": "stream",
     "text": [
      "\n",
      "epoch-191 lr=['0.0010000'], tr/val_loss:  0.003001/  3.104406, tr: 100.00%, val:  76.25%, val_best:  80.00%: 100%|██████████| 49/49 [00:10<00:00,  4.63it/s]"
     ]
    },
    {
     "name": "stdout",
     "output_type": "stream",
     "text": [
      "Domain loss,acc: 0.758175, 80.08% Target domain: tr_loss-3.778869, tr_acc-73.33%\n",
      "100,000c5dFalset10:76.25%:80.00% | 125,000c5dFalset10:76.25%:79.58%\n"
     ]
    },
    {
     "name": "stderr",
     "output_type": "stream",
     "text": [
      "\n",
      "epoch-192 lr=['0.0010000'], tr/val_loss:  0.002488/  3.122591, tr: 100.00%, val:  75.83%, val_best:  80.00%: 100%|██████████| 49/49 [00:10<00:00,  4.78it/s]"
     ]
    },
    {
     "name": "stdout",
     "output_type": "stream",
     "text": [
      "Domain loss,acc: 0.734460, 80.08% Target domain: tr_loss-3.662348, tr_acc-72.31%\n",
      "100,000c5dFalset10:75.83%:80.00% | 125,000c5dFalset10:77.50%:79.58%\n"
     ]
    },
    {
     "name": "stderr",
     "output_type": "stream",
     "text": [
      "\n",
      "epoch-193 lr=['0.0010000'], tr/val_loss:  0.002758/  3.117199, tr: 100.00%, val:  75.83%, val_best:  80.00%: 100%|██████████| 49/49 [00:10<00:00,  4.80it/s]"
     ]
    },
    {
     "name": "stdout",
     "output_type": "stream",
     "text": [
      "Domain loss,acc: 0.776910, 80.08% Target domain: tr_loss-3.873520, tr_acc-71.79%\n",
      "100,000c5dFalset10:75.83%:80.00% | 125,000c5dFalset10:76.25%:79.58%\n"
     ]
    },
    {
     "name": "stderr",
     "output_type": "stream",
     "text": [
      "\n",
      "epoch-194 lr=['0.0010000'], tr/val_loss:  0.002566/  3.096709, tr: 100.00%, val:  74.17%, val_best:  80.00%: 100%|██████████| 49/49 [00:10<00:00,  4.70it/s]"
     ]
    },
    {
     "name": "stdout",
     "output_type": "stream",
     "text": [
      "Domain loss,acc: 0.732178, 80.08% Target domain: tr_loss-3.650628, tr_acc-72.82%\n",
      "100,000c5dFalset10:74.17%:80.00% | 125,000c5dFalset10:77.50%:79.58%\n"
     ]
    },
    {
     "name": "stderr",
     "output_type": "stream",
     "text": [
      "\n",
      "epoch-195 lr=['0.0010000'], tr/val_loss:  0.002640/  3.117150, tr: 100.00%, val:  75.83%, val_best:  80.00%: 100%|██████████| 49/49 [00:10<00:00,  4.74it/s]"
     ]
    },
    {
     "name": "stdout",
     "output_type": "stream",
     "text": [
      "Domain loss,acc: 0.772736, 80.08% Target domain: tr_loss-3.853122, tr_acc-73.33%\n",
      "100,000c5dFalset10:75.83%:80.00% | 125,000c5dFalset10:77.08%:79.58%\n"
     ]
    },
    {
     "name": "stderr",
     "output_type": "stream",
     "text": [
      "\n",
      "epoch-196 lr=['0.0010000'], tr/val_loss:  0.002480/  3.142704, tr: 100.00%, val:  76.25%, val_best:  80.00%: 100%|██████████| 49/49 [00:10<00:00,  4.48it/s]"
     ]
    },
    {
     "name": "stdout",
     "output_type": "stream",
     "text": [
      "Domain loss,acc: 0.801590, 80.08% Target domain: tr_loss-3.998031, tr_acc-73.85%\n",
      "100,000c5dFalset10:76.25%:80.00% | 125,000c5dFalset10:75.42%:79.58%\n"
     ]
    },
    {
     "name": "stderr",
     "output_type": "stream",
     "text": [
      "\n",
      "epoch-197 lr=['0.0010000'], tr/val_loss:  0.002811/  3.136621, tr: 100.00%, val:  75.83%, val_best:  80.00%: 100%|██████████| 49/49 [00:10<00:00,  4.60it/s]"
     ]
    },
    {
     "name": "stdout",
     "output_type": "stream",
     "text": [
      "Domain loss,acc: 0.781144, 80.08% Target domain: tr_loss-3.894475, tr_acc-72.31%\n",
      "100,000c5dFalset10:75.83%:80.00% | 125,000c5dFalset10:76.25%:79.58%\n"
     ]
    },
    {
     "name": "stderr",
     "output_type": "stream",
     "text": [
      "\n",
      "epoch-198 lr=['0.0010000'], tr/val_loss:  0.002381/  3.134208, tr: 100.00%, val:  76.25%, val_best:  80.00%: 100%|██████████| 49/49 [00:10<00:00,  4.52it/s]"
     ]
    },
    {
     "name": "stdout",
     "output_type": "stream",
     "text": [
      "Domain loss,acc: 0.753866, 80.08% Target domain: tr_loss-3.759803, tr_acc-73.33%\n",
      "100,000c5dFalset10:76.25%:80.00% | 125,000c5dFalset10:76.25%:79.58%\n"
     ]
    },
    {
     "name": "stderr",
     "output_type": "stream",
     "text": [
      "\n",
      "epoch-199 lr=['0.0010000'], tr/val_loss:  0.002349/  3.133975, tr: 100.00%, val:  76.25%, val_best:  80.00%: 100%|██████████| 49/49 [00:10<00:00,  4.46it/s]"
     ]
    },
    {
     "name": "stdout",
     "output_type": "stream",
     "text": [
      "Domain loss,acc: 0.756667, 80.08% Target domain: tr_loss-3.773938, tr_acc-74.87%\n",
      "100,000c5dFalset10:76.25%:80.00% | 125,000c5dFalset10:75.83%:79.58%\n"
     ]
    },
    {
     "name": "stderr",
     "output_type": "stream",
     "text": [
      "\n",
      "epoch-200 lr=['0.0010000'], tr/val_loss:  0.002423/  3.153867, tr: 100.00%, val:  75.42%, val_best:  80.00%: 100%|██████████| 49/49 [00:10<00:00,  4.56it/s]"
     ]
    },
    {
     "name": "stdout",
     "output_type": "stream",
     "text": [
      "Domain loss,acc: 0.762684, 80.08% Target domain: tr_loss-3.803731, tr_acc-74.36%\n",
      "100,000c5dFalset10:75.42%:80.00% | 125,000c5dFalset10:75.83%:79.58%\n"
     ]
    },
    {
     "name": "stderr",
     "output_type": "stream",
     "text": [
      "\n",
      "epoch-201 lr=['0.0010000'], tr/val_loss:  0.002299/  3.133091, tr: 100.00%, val:  76.25%, val_best:  80.00%: 100%|██████████| 49/49 [00:10<00:00,  4.58it/s]"
     ]
    },
    {
     "name": "stdout",
     "output_type": "stream",
     "text": [
      "Domain loss,acc: 0.773255, 80.08% Target domain: tr_loss-3.857082, tr_acc-74.36%\n",
      "100,000c5dFalset10:76.25%:80.00% | 125,000c5dFalset10:76.25%:79.58%\n"
     ]
    },
    {
     "name": "stderr",
     "output_type": "stream",
     "text": [
      "\n",
      "epoch-202 lr=['0.0010000'], tr/val_loss:  0.002557/  3.142196, tr: 100.00%, val:  75.00%, val_best:  80.00%: 100%|██████████| 49/49 [00:10<00:00,  4.63it/s]"
     ]
    },
    {
     "name": "stdout",
     "output_type": "stream",
     "text": [
      "Domain loss,acc: 0.771127, 80.08% Target domain: tr_loss-3.845406, tr_acc-74.36%\n",
      "100,000c5dFalset10:75.00%:80.00% | 125,000c5dFalset10:75.83%:79.58%\n"
     ]
    },
    {
     "name": "stderr",
     "output_type": "stream",
     "text": [
      "\n",
      "epoch-203 lr=['0.0010000'], tr/val_loss:  0.002323/  3.148712, tr: 100.00%, val:  76.67%, val_best:  80.00%: 100%|██████████| 49/49 [00:10<00:00,  4.62it/s]"
     ]
    },
    {
     "name": "stdout",
     "output_type": "stream",
     "text": [
      "Domain loss,acc: 0.745383, 80.08% Target domain: tr_loss-3.717621, tr_acc-74.36%\n",
      "100,000c5dFalset10:76.67%:80.00% | 125,000c5dFalset10:76.25%:79.58%\n"
     ]
    },
    {
     "name": "stderr",
     "output_type": "stream",
     "text": [
      "\n",
      "epoch-204 lr=['0.0010000'], tr/val_loss:  0.002783/  3.160904, tr: 100.00%, val:  76.25%, val_best:  80.00%: 100%|██████████| 49/49 [00:10<00:00,  4.64it/s]"
     ]
    },
    {
     "name": "stdout",
     "output_type": "stream",
     "text": [
      "Domain loss,acc: 0.741715, 80.08% Target domain: tr_loss-3.697443, tr_acc-75.90%\n",
      "100,000c5dFalset10:76.25%:80.00% | 125,000c5dFalset10:76.67%:79.58%\n"
     ]
    },
    {
     "name": "stderr",
     "output_type": "stream",
     "text": [
      "\n",
      "epoch-205 lr=['0.0010000'], tr/val_loss:  0.002994/  3.162196, tr: 100.00%, val:  75.83%, val_best:  80.00%: 100%|██████████| 49/49 [00:11<00:00,  4.42it/s]"
     ]
    },
    {
     "name": "stdout",
     "output_type": "stream",
     "text": [
      "Domain loss,acc: 0.762797, 80.08% Target domain: tr_loss-3.802010, tr_acc-74.87%\n",
      "100,000c5dFalset10:75.83%:80.00% | 125,000c5dFalset10:75.83%:79.58%\n"
     ]
    },
    {
     "name": "stderr",
     "output_type": "stream",
     "text": [
      "\n",
      "epoch-206 lr=['0.0010000'], tr/val_loss:  0.002586/  3.146126, tr: 100.00%, val:  76.25%, val_best:  80.00%: 100%|██████████| 49/49 [00:11<00:00,  4.45it/s]"
     ]
    },
    {
     "name": "stdout",
     "output_type": "stream",
     "text": [
      "Domain loss,acc: 0.746918, 80.08% Target domain: tr_loss-3.724245, tr_acc-73.85%\n",
      "100,000c5dFalset10:76.25%:80.00% | 125,000c5dFalset10:75.00%:79.58%\n"
     ]
    },
    {
     "name": "stderr",
     "output_type": "stream",
     "text": [
      "\n",
      "epoch-207 lr=['0.0010000'], tr/val_loss:  0.002302/  3.163105, tr: 100.00%, val:  75.42%, val_best:  80.00%: 100%|██████████| 49/49 [00:11<00:00,  4.31it/s]"
     ]
    },
    {
     "name": "stdout",
     "output_type": "stream",
     "text": [
      "Domain loss,acc: 0.735821, 80.08% Target domain: tr_loss-3.669897, tr_acc-74.87%\n",
      "100,000c5dFalset10:75.42%:80.00% | 125,000c5dFalset10:75.00%:79.58%\n"
     ]
    },
    {
     "name": "stderr",
     "output_type": "stream",
     "text": [
      "\n",
      "epoch-208 lr=['0.0010000'], tr/val_loss:  0.002283/  3.164271, tr: 100.00%, val:  75.83%, val_best:  80.00%: 100%|██████████| 49/49 [00:10<00:00,  4.65it/s]"
     ]
    },
    {
     "name": "stdout",
     "output_type": "stream",
     "text": [
      "Domain loss,acc: 0.752990, 80.08% Target domain: tr_loss-3.755820, tr_acc-74.36%\n",
      "100,000c5dFalset10:75.83%:80.00% | 125,000c5dFalset10:76.25%:79.58%\n"
     ]
    },
    {
     "name": "stderr",
     "output_type": "stream",
     "text": [
      "\n",
      "epoch-209 lr=['0.0010000'], tr/val_loss:  0.002634/  3.153706, tr: 100.00%, val:  74.58%, val_best:  80.00%: 100%|██████████| 49/49 [00:10<00:00,  4.62it/s]"
     ]
    },
    {
     "name": "stdout",
     "output_type": "stream",
     "text": [
      "Domain loss,acc: 0.758211, 80.08% Target domain: tr_loss-3.780516, tr_acc-74.36%\n",
      "100,000c5dFalset10:74.58%:80.00% | 125,000c5dFalset10:74.58%:79.58%\n"
     ]
    },
    {
     "name": "stderr",
     "output_type": "stream",
     "text": [
      "\n",
      "epoch-210 lr=['0.0010000'], tr/val_loss:  0.002693/  3.168833, tr: 100.00%, val:  75.00%, val_best:  80.00%: 100%|██████████| 49/49 [00:10<00:00,  4.52it/s]"
     ]
    },
    {
     "name": "stdout",
     "output_type": "stream",
     "text": [
      "Domain loss,acc: 0.773318, 80.08% Target domain: tr_loss-3.855817, tr_acc-73.85%\n",
      "100,000c5dFalset10:75.00%:80.00% | 125,000c5dFalset10:75.42%:79.58%\n"
     ]
    },
    {
     "name": "stderr",
     "output_type": "stream",
     "text": [
      "\n",
      "epoch-211 lr=['0.0010000'], tr/val_loss:  0.002366/  3.150399, tr: 100.00%, val:  75.83%, val_best:  80.00%: 100%|██████████| 49/49 [00:10<00:00,  4.48it/s]"
     ]
    },
    {
     "name": "stdout",
     "output_type": "stream",
     "text": [
      "Domain loss,acc: 0.782351, 80.08% Target domain: tr_loss-3.902293, tr_acc-73.85%\n",
      "100,000c5dFalset10:75.83%:80.00% | 125,000c5dFalset10:76.67%:79.58%\n"
     ]
    },
    {
     "name": "stderr",
     "output_type": "stream",
     "text": [
      "\n",
      "epoch-212 lr=['0.0010000'], tr/val_loss:  0.002253/  3.158005, tr: 100.00%, val:  75.00%, val_best:  80.00%: 100%|██████████| 49/49 [00:10<00:00,  4.57it/s]"
     ]
    },
    {
     "name": "stdout",
     "output_type": "stream",
     "text": [
      "Domain loss,acc: 0.777243, 80.08% Target domain: tr_loss-3.877203, tr_acc-73.85%\n",
      "100,000c5dFalset10:75.00%:80.00% | 125,000c5dFalset10:75.00%:79.58%\n"
     ]
    },
    {
     "name": "stderr",
     "output_type": "stream",
     "text": [
      "\n",
      "epoch-213 lr=['0.0010000'], tr/val_loss:  0.002174/  3.173450, tr: 100.00%, val:  74.58%, val_best:  80.00%: 100%|██████████| 49/49 [00:10<00:00,  4.65it/s]"
     ]
    },
    {
     "name": "stdout",
     "output_type": "stream",
     "text": [
      "Domain loss,acc: 0.787891, 80.08% Target domain: tr_loss-3.930757, tr_acc-73.85%\n",
      "100,000c5dFalset10:74.58%:80.00% | 125,000c5dFalset10:75.42%:79.58%\n"
     ]
    },
    {
     "name": "stderr",
     "output_type": "stream",
     "text": [
      "\n",
      "epoch-214 lr=['0.0010000'], tr/val_loss:  0.002290/  3.179454, tr: 100.00%, val:  74.17%, val_best:  80.00%: 100%|██████████| 49/49 [00:10<00:00,  4.57it/s]"
     ]
    },
    {
     "name": "stdout",
     "output_type": "stream",
     "text": [
      "Domain loss,acc: 0.743095, 80.08% Target domain: tr_loss-3.706317, tr_acc-73.33%\n",
      "100,000c5dFalset10:74.17%:80.00% | 125,000c5dFalset10:75.42%:79.58%\n"
     ]
    },
    {
     "name": "stderr",
     "output_type": "stream",
     "text": [
      "\n",
      "epoch-215 lr=['0.0010000'], tr/val_loss:  0.002296/  3.167446, tr: 100.00%, val:  75.00%, val_best:  80.00%: 100%|██████████| 49/49 [00:10<00:00,  4.57it/s]"
     ]
    },
    {
     "name": "stdout",
     "output_type": "stream",
     "text": [
      "Domain loss,acc: 0.763185, 80.08% Target domain: tr_loss-3.806740, tr_acc-73.33%\n",
      "100,000c5dFalset10:75.00%:80.00% | 125,000c5dFalset10:75.00%:79.58%\n"
     ]
    },
    {
     "name": "stderr",
     "output_type": "stream",
     "text": [
      "\n",
      "epoch-216 lr=['0.0010000'], tr/val_loss:  0.002197/  3.174944, tr: 100.00%, val:  76.67%, val_best:  80.00%: 100%|██████████| 49/49 [00:10<00:00,  4.57it/s]"
     ]
    },
    {
     "name": "stdout",
     "output_type": "stream",
     "text": [
      "Domain loss,acc: 0.823482, 80.08% Target domain: tr_loss-4.108619, tr_acc-73.85%\n",
      "100,000c5dFalset10:76.67%:80.00% | 125,000c5dFalset10:74.17%:79.58%\n"
     ]
    },
    {
     "name": "stderr",
     "output_type": "stream",
     "text": [
      "\n",
      "epoch-217 lr=['0.0010000'], tr/val_loss:  0.002150/  3.172318, tr: 100.00%, val:  75.83%, val_best:  80.00%: 100%|██████████| 49/49 [00:10<00:00,  4.55it/s]"
     ]
    },
    {
     "name": "stdout",
     "output_type": "stream",
     "text": [
      "Domain loss,acc: 0.771802, 80.08% Target domain: tr_loss-3.850411, tr_acc-73.85%\n",
      "100,000c5dFalset10:75.83%:80.00% | 125,000c5dFalset10:74.17%:79.58%\n"
     ]
    },
    {
     "name": "stderr",
     "output_type": "stream",
     "text": [
      "\n",
      "epoch-218 lr=['0.0010000'], tr/val_loss:  0.002524/  3.174723, tr: 100.00%, val:  75.83%, val_best:  80.00%: 100%|██████████| 49/49 [00:10<00:00,  4.54it/s]"
     ]
    },
    {
     "name": "stdout",
     "output_type": "stream",
     "text": [
      "Domain loss,acc: 0.784433, 80.08% Target domain: tr_loss-3.912070, tr_acc-73.33%\n",
      "100,000c5dFalset10:75.83%:80.00% | 125,000c5dFalset10:74.17%:79.58%\n"
     ]
    },
    {
     "name": "stderr",
     "output_type": "stream",
     "text": [
      "\n",
      "epoch-219 lr=['0.0010000'], tr/val_loss:  0.002510/  3.172744, tr: 100.00%, val:  75.42%, val_best:  80.00%: 100%|██████████| 49/49 [00:10<00:00,  4.57it/s]"
     ]
    },
    {
     "name": "stdout",
     "output_type": "stream",
     "text": [
      "Domain loss,acc: 0.788993, 80.08% Target domain: tr_loss-3.934926, tr_acc-73.33%\n",
      "100,000c5dFalset10:75.42%:80.00% | 125,000c5dFalset10:76.25%:79.58%\n"
     ]
    },
    {
     "name": "stderr",
     "output_type": "stream",
     "text": [
      "\n",
      "epoch-220 lr=['0.0010000'], tr/val_loss:  0.002338/  3.184670, tr: 100.00%, val:  76.25%, val_best:  80.00%: 100%|██████████| 49/49 [00:10<00:00,  4.63it/s]"
     ]
    },
    {
     "name": "stdout",
     "output_type": "stream",
     "text": [
      "Domain loss,acc: 0.737518, 80.08% Target domain: tr_loss-3.678237, tr_acc-74.87%\n",
      "100,000c5dFalset10:76.25%:80.00% | 125,000c5dFalset10:74.58%:79.58%\n"
     ]
    },
    {
     "name": "stderr",
     "output_type": "stream",
     "text": [
      "\n",
      "epoch-221 lr=['0.0010000'], tr/val_loss:  0.001989/  3.199180, tr: 100.00%, val:  75.42%, val_best:  80.00%: 100%|██████████| 49/49 [00:10<00:00,  4.77it/s]"
     ]
    },
    {
     "name": "stdout",
     "output_type": "stream",
     "text": [
      "Domain loss,acc: 0.777459, 80.08% Target domain: tr_loss-3.879340, tr_acc-73.33%\n",
      "100,000c5dFalset10:75.42%:80.00% | 125,000c5dFalset10:75.00%:79.58%\n"
     ]
    },
    {
     "name": "stderr",
     "output_type": "stream",
     "text": [
      "\n",
      "epoch-222 lr=['0.0010000'], tr/val_loss:  0.002114/  3.197392, tr: 100.00%, val:  75.42%, val_best:  80.00%: 100%|██████████| 49/49 [00:09<00:00,  4.91it/s]"
     ]
    },
    {
     "name": "stdout",
     "output_type": "stream",
     "text": [
      "Domain loss,acc: 0.779742, 80.08% Target domain: tr_loss-3.890255, tr_acc-74.87%\n",
      "100,000c5dFalset10:75.42%:80.00% | 125,000c5dFalset10:75.83%:79.58%\n"
     ]
    },
    {
     "name": "stderr",
     "output_type": "stream",
     "text": [
      "\n",
      "epoch-223 lr=['0.0010000'], tr/val_loss:  0.002134/  3.206414, tr: 100.00%, val:  75.42%, val_best:  80.00%: 100%|██████████| 49/49 [00:10<00:00,  4.67it/s]"
     ]
    },
    {
     "name": "stdout",
     "output_type": "stream",
     "text": [
      "Domain loss,acc: 0.788417, 80.08% Target domain: tr_loss-3.933552, tr_acc-75.38%\n",
      "100,000c5dFalset10:75.42%:80.00% | 125,000c5dFalset10:76.25%:79.58%\n"
     ]
    },
    {
     "name": "stderr",
     "output_type": "stream",
     "text": [
      "\n",
      "epoch-224 lr=['0.0010000'], tr/val_loss:  0.001901/  3.198474, tr: 100.00%, val:  75.00%, val_best:  80.00%: 100%|██████████| 49/49 [00:10<00:00,  4.65it/s]"
     ]
    },
    {
     "name": "stdout",
     "output_type": "stream",
     "text": [
      "Domain loss,acc: 0.769517, 80.08% Target domain: tr_loss-3.839977, tr_acc-74.36%\n",
      "100,000c5dFalset10:75.00%:80.00% | 125,000c5dFalset10:74.58%:79.58%\n"
     ]
    },
    {
     "name": "stderr",
     "output_type": "stream",
     "text": [
      "\n",
      "epoch-225 lr=['0.0010000'], tr/val_loss:  0.002015/  3.214395, tr: 100.00%, val:  75.42%, val_best:  80.00%: 100%|██████████| 49/49 [00:10<00:00,  4.56it/s]"
     ]
    },
    {
     "name": "stdout",
     "output_type": "stream",
     "text": [
      "Domain loss,acc: 0.790812, 80.08% Target domain: tr_loss-3.945999, tr_acc-75.90%\n",
      "100,000c5dFalset10:75.42%:80.00% | 125,000c5dFalset10:75.42%:79.58%\n"
     ]
    },
    {
     "name": "stderr",
     "output_type": "stream",
     "text": [
      "\n",
      "epoch-226 lr=['0.0010000'], tr/val_loss:  0.001858/  3.211420, tr: 100.00%, val:  75.42%, val_best:  80.00%: 100%|██████████| 49/49 [00:11<00:00,  4.37it/s]"
     ]
    },
    {
     "name": "stdout",
     "output_type": "stream",
     "text": [
      "Domain loss,acc: 0.816799, 80.08% Target domain: tr_loss-4.076565, tr_acc-76.41%\n",
      "100,000c5dFalset10:75.42%:80.00% | 125,000c5dFalset10:75.83%:79.58%\n"
     ]
    },
    {
     "name": "stderr",
     "output_type": "stream",
     "text": [
      "\n",
      "epoch-227 lr=['0.0010000'], tr/val_loss:  0.001904/  3.210447, tr: 100.00%, val:  75.42%, val_best:  80.00%: 100%|██████████| 49/49 [00:09<00:00,  5.00it/s]"
     ]
    },
    {
     "name": "stdout",
     "output_type": "stream",
     "text": [
      "Domain loss,acc: 0.771020, 80.08% Target domain: tr_loss-3.847486, tr_acc-76.92%\n",
      "100,000c5dFalset10:75.42%:80.00% | 125,000c5dFalset10:77.08%:79.58%\n"
     ]
    },
    {
     "name": "stderr",
     "output_type": "stream",
     "text": [
      "\n",
      "epoch-228 lr=['0.0010000'], tr/val_loss:  0.002183/  3.208816, tr: 100.00%, val:  75.83%, val_best:  80.00%: 100%|██████████| 49/49 [00:10<00:00,  4.59it/s]"
     ]
    },
    {
     "name": "stdout",
     "output_type": "stream",
     "text": [
      "Domain loss,acc: 0.752884, 80.08% Target domain: tr_loss-3.755691, tr_acc-75.38%\n",
      "100,000c5dFalset10:75.83%:80.00% | 125,000c5dFalset10:74.17%:79.58%\n"
     ]
    },
    {
     "name": "stderr",
     "output_type": "stream",
     "text": [
      "\n",
      "epoch-229 lr=['0.0010000'], tr/val_loss:  0.002027/  3.197582, tr: 100.00%, val:  75.42%, val_best:  80.00%: 100%|██████████| 49/49 [00:11<00:00,  4.16it/s]"
     ]
    },
    {
     "name": "stdout",
     "output_type": "stream",
     "text": [
      "Domain loss,acc: 0.787103, 80.08% Target domain: tr_loss-3.927408, tr_acc-75.90%\n",
      "100,000c5dFalset10:75.42%:80.00% | 125,000c5dFalset10:75.42%:79.58%\n"
     ]
    },
    {
     "name": "stderr",
     "output_type": "stream",
     "text": [
      "\n",
      "epoch-230 lr=['0.0010000'], tr/val_loss:  0.002295/  3.193174, tr: 100.00%, val:  75.83%, val_best:  80.00%: 100%|██████████| 49/49 [00:11<00:00,  4.29it/s]"
     ]
    },
    {
     "name": "stdout",
     "output_type": "stream",
     "text": [
      "Domain loss,acc: 0.773472, 80.08% Target domain: tr_loss-3.858176, tr_acc-74.87%\n",
      "100,000c5dFalset10:75.83%:80.00% | 125,000c5dFalset10:75.42%:79.58%\n"
     ]
    },
    {
     "name": "stderr",
     "output_type": "stream",
     "text": [
      "\n",
      "epoch-231 lr=['0.0010000'], tr/val_loss:  0.002140/  3.191842, tr: 100.00%, val:  75.00%, val_best:  80.00%: 100%|██████████| 49/49 [00:10<00:00,  4.75it/s]"
     ]
    },
    {
     "name": "stdout",
     "output_type": "stream",
     "text": [
      "Domain loss,acc: 0.793504, 80.08% Target domain: tr_loss-3.958961, tr_acc-74.36%\n",
      "100,000c5dFalset10:75.00%:80.00% | 125,000c5dFalset10:75.42%:79.58%\n"
     ]
    },
    {
     "name": "stderr",
     "output_type": "stream",
     "text": [
      "\n",
      "epoch-232 lr=['0.0010000'], tr/val_loss:  0.002043/  3.180322, tr: 100.00%, val:  73.75%, val_best:  80.00%: 100%|██████████| 49/49 [00:10<00:00,  4.90it/s]"
     ]
    },
    {
     "name": "stdout",
     "output_type": "stream",
     "text": [
      "Domain loss,acc: 0.797476, 80.08% Target domain: tr_loss-3.979211, tr_acc-75.38%\n",
      "100,000c5dFalset10:73.75%:80.00% | 125,000c5dFalset10:75.42%:79.58%\n"
     ]
    },
    {
     "name": "stderr",
     "output_type": "stream",
     "text": [
      "\n",
      "epoch-233 lr=['0.0010000'], tr/val_loss:  0.002113/  3.202425, tr: 100.00%, val:  73.75%, val_best:  80.00%: 100%|██████████| 49/49 [00:09<00:00,  5.00it/s]"
     ]
    },
    {
     "name": "stdout",
     "output_type": "stream",
     "text": [
      "Domain loss,acc: 0.805296, 80.08% Target domain: tr_loss-4.018030, tr_acc-74.87%\n",
      "100,000c5dFalset10:73.75%:80.00% | 125,000c5dFalset10:76.25%:79.58%\n"
     ]
    },
    {
     "name": "stderr",
     "output_type": "stream",
     "text": [
      "\n",
      "epoch-234 lr=['0.0010000'], tr/val_loss:  0.001857/  3.186079, tr: 100.00%, val:  75.42%, val_best:  80.00%: 100%|██████████| 49/49 [00:10<00:00,  4.75it/s]"
     ]
    },
    {
     "name": "stdout",
     "output_type": "stream",
     "text": [
      "Domain loss,acc: 0.794411, 80.08% Target domain: tr_loss-3.964628, tr_acc-74.87%\n",
      "100,000c5dFalset10:75.42%:80.00% | 125,000c5dFalset10:76.67%:79.58%\n"
     ]
    },
    {
     "name": "stderr",
     "output_type": "stream",
     "text": [
      "\n",
      "epoch-235 lr=['0.0010000'], tr/val_loss:  0.002000/  3.214321, tr: 100.00%, val:  74.17%, val_best:  80.00%: 100%|██████████| 49/49 [00:10<00:00,  4.71it/s]"
     ]
    },
    {
     "name": "stdout",
     "output_type": "stream",
     "text": [
      "Domain loss,acc: 0.793502, 80.08% Target domain: tr_loss-3.959512, tr_acc-74.87%\n",
      "100,000c5dFalset10:74.17%:80.00% | 125,000c5dFalset10:76.67%:79.58%\n"
     ]
    },
    {
     "name": "stderr",
     "output_type": "stream",
     "text": [
      "\n",
      "epoch-236 lr=['0.0010000'], tr/val_loss:  0.001932/  3.206959, tr: 100.00%, val:  73.75%, val_best:  80.00%: 100%|██████████| 49/49 [00:10<00:00,  4.71it/s]"
     ]
    },
    {
     "name": "stdout",
     "output_type": "stream",
     "text": [
      "Domain loss,acc: 0.816740, 80.08% Target domain: tr_loss-4.075971, tr_acc-75.38%\n",
      "100,000c5dFalset10:73.75%:80.00% | 125,000c5dFalset10:77.08%:79.58%\n"
     ]
    },
    {
     "name": "stderr",
     "output_type": "stream",
     "text": [
      "\n",
      "epoch-237 lr=['0.0010000'], tr/val_loss:  0.001948/  3.197231, tr: 100.00%, val:  74.58%, val_best:  80.00%: 100%|██████████| 49/49 [00:10<00:00,  4.67it/s]"
     ]
    },
    {
     "name": "stdout",
     "output_type": "stream",
     "text": [
      "Domain loss,acc: 0.814459, 80.08% Target domain: tr_loss-4.064499, tr_acc-75.90%\n",
      "100,000c5dFalset10:74.58%:80.00% | 125,000c5dFalset10:76.25%:79.58%\n"
     ]
    },
    {
     "name": "stderr",
     "output_type": "stream",
     "text": [
      "\n",
      "epoch-238 lr=['0.0010000'], tr/val_loss:  0.002388/  3.181045, tr: 100.00%, val:  75.42%, val_best:  80.00%: 100%|██████████| 49/49 [00:10<00:00,  4.63it/s]"
     ]
    },
    {
     "name": "stdout",
     "output_type": "stream",
     "text": [
      "Domain loss,acc: 0.776322, 80.08% Target domain: tr_loss-3.872056, tr_acc-75.90%\n",
      "100,000c5dFalset10:75.42%:80.00% | 125,000c5dFalset10:77.50%:79.58%\n"
     ]
    },
    {
     "name": "stderr",
     "output_type": "stream",
     "text": [
      "\n",
      "epoch-239 iter_acc: 100.00%, lr=['0.0010000'], iter_loss:  0.001636, val_best:  80.00%:  98%|█████████▊| 48/49 [00:07<00:00,  7.71it/s]"
     ]
    }
   ],
   "source": [
    "### my_snn control board (Gesture) ########################\n",
    "decay = 0.25 # 0.875 0.25 0.125 0.75 0.5\n",
    "# nda 0.25 # ottt 0.5\n",
    "const2 = False # trace 할거면 True, 안할거면 False\n",
    "\n",
    "unique_name = 'main' ## 이거 설정하면 새로운 경로에 모두 save\n",
    "run_name = 'main' ## 이거 설정하면 새로운 경로에 모두 save\n",
    "\n",
    "if const2 == True:\n",
    "    const2 = decay\n",
    "else:\n",
    "    const2 = 0.0\n",
    "\n",
    "wandb.init(project= f'my_snn {unique_name}',save_code=True)\n",
    "\n",
    "my_snn_system(  devices = \"5\",\n",
    "                single_step = True, # True # False\n",
    "                unique_name = run_name,\n",
    "                my_seed = 42,\n",
    "                TIME = 10, # dvscifar 10 # ottt 6 or 10 # nda 10  # 제작하는 dvs에서 TIME넘거나 적으면 자르거나 PADDING함\n",
    "                BATCH = 16, # batch norm 할거면 2이상으로 해야함   # nda 256   #  ottt 128\n",
    "                IMAGE_SIZE = 128, # dvscifar 48 # MNIST 28 # CIFAR10 32 # PMNIST 28 #NMNIST 34 # GESTURE 128\n",
    "                # dvsgesture 128, dvs_cifar2 128, nmnist 34, n_caltech101 180,240, n_tidigits 64, heidelberg 700, \n",
    "                #pmnist는 28로 해야 됨. 나머지는 바꿔도 돌아는 감.\n",
    "\n",
    "                # DVS_CIFAR10 할거면 time 10으로 해라\n",
    "                which_data = 'DVS_GESTURE_TONIC',\n",
    "# 'CIFAR100' 'CIFAR10' 'MNIST' 'FASHION_MNIST' 'DVS_CIFAR10' 'PMNIST'아직\n",
    "# 'DVS_GESTURE', 'DVS_GESTURE_TONIC','DVS_CIFAR10_2','NMNIST','NMNIST_TONIC','CIFAR10','N_CALTECH101','n_tidigits','heidelberg'\n",
    "                # CLASS_NUM = 10,\n",
    "                data_path = '/data2', # YOU NEED TO CHANGE THIS\n",
    "                rate_coding = False, # True # False\n",
    "                lif_layer_v_init = 0.0,\n",
    "                lif_layer_v_decay = decay,\n",
    "                lif_layer_v_threshold = 0.720291189014991, # 1.3102821334243646,  # 10000이상으로 하면 NDA LIF 씀. #nda 0.5  #ottt 1.0\n",
    "                lif_layer_v_reset = 10000, # 10000이상은 hardreset (내 LIF쓰기는 함 ㅇㅇ)\n",
    "                lif_layer_sg_width = 3.555718888923306, # 2.570969004857107 # sigmoid류에서는 alpha값 4.0, rectangle류에서는 width값 0.5\n",
    "\n",
    "                # synapse_conv_in_channels = IMAGE_PIXEL_CHANNEL,\n",
    "                synapse_conv_kernel_size = 3,\n",
    "                synapse_conv_stride = 1,\n",
    "                synapse_conv_padding = 1,\n",
    "                synapse_conv_trace_const1 = 1, # 현재 trace구할 때 현재 spike에 곱해지는 상수. 걍 1로 두셈.\n",
    "                synapse_conv_trace_const2 = const2, # 현재 trace구할 때 직전 trace에 곱해지는 상수. lif_layer_v_decay와 같게 할 것을 추천\n",
    "\n",
    "                # synapse_fc_out_features = CLASS_NUM,\n",
    "                synapse_fc_trace_const1 = 1, # 현재 trace구할 때 현재 spike에 곱해지는 상수. 걍 1로 두셈.\n",
    "                synapse_fc_trace_const2 = const2, # 현재 trace구할 때 직전 trace에 곱해지는 상수. lif_layer_v_decay와 같게 할 것을 추천\n",
    "\n",
    "                pre_trained = False, # True # False\n",
    "                convTrue_fcFalse = False, # True # False\n",
    "\n",
    "                # 'P' for average pooling, 'D' for (1,1) aver pooling, 'M' for maxpooling, 'L' for linear classifier, [  ] for residual block\n",
    "                # conv에서 10000 이상은 depth-wise separable (BPTT만 지원), 20000이상은 depth-wise (BPTT만 지원)\n",
    "                # cfg = [64, 64],\n",
    "                # cfg = [64, 124, 64, 124],\n",
    "                # cfg = ['M','M',512], \n",
    "                # cfg = [512], \n",
    "                # cfg = ['M', 'M', 64, 128, 'P', 128, 'P'], \n",
    "                # cfg = ['M','M',512],\n",
    "                # cfg = ['M',200],\n",
    "                # cfg = [200,200],\n",
    "                # cfg = ['M','M',200,200],\n",
    "                cfg = ([200],[200],[200],[2]), # (feature extractor, classifier, domain adapter, # of domain)\n",
    "                # cfg = (['M','M',200],[200],[200],[2]), # (feature extractor, classifier, domain adapter, # of domain)\n",
    "                # cfg = ['M',200,200],\n",
    "                # cfg = ['M','M',1024,512,256,128,64],\n",
    "                # cfg = [200,200],\n",
    "                # cfg = [12], #fc\n",
    "                # cfg = [12, 'M', 48, 'M', 12], \n",
    "                # cfg = [64,[64,64],64], # 끝에 linear classifier 하나 자동으로 붙습니다\n",
    "                # cfg = [64, 128, 'P', 256, 256, 'P', 512, 512, 'P', 512, 512, 'D'], #ottt\n",
    "                # cfg = [64, 128, 'P', 256, 256, 'P', 512, 512, 'P', 512, 512], \n",
    "                # cfg = [64, 128, 'M', 256, 256, 'M', 512, 512, 'M', 512, 512], \n",
    "                # cfg = [64, 'P', 128, 'P', 256, 256, 'P', 512, 512, 512, 512, 'D'], # nda\n",
    "                # cfg = [64, 'P', 128, 'P', 256, 256, 'P', 512, 512, 512, 512], # nda 128pixel\n",
    "                # cfg = [64, 'P', 128, 'P', 256, 256, 'P', 512, 512, 512, 512, 'L', 4096, 4096],\n",
    "                # cfg = [20001,10001], # depthwise, separable\n",
    "                # cfg = [64,20064,10001], # vanilla conv, depthwise, separable\n",
    "                # cfg = [8, 'P', 8, 'P', 8, 'P', 8,'P', 8, 'P'],\n",
    "                # cfg = [],        \n",
    "                \n",
    "                net_print = True, # True # False # True로 하길 추천\n",
    "                weight_count_print = False, # True # False\n",
    "                \n",
    "                pre_trained_path = f\"net_save/save_now_net_weights_{unique_name}.pth\",\n",
    "                learning_rate = 0.001, #0.1 bptt, #0.01 ottt, # default 0.001  # ottt 0.1 # nda 0.001 # 0.00936191669529645\n",
    "                epoch_num = 300,\n",
    "                verbose_interval = 999999999, #이거 걍 건들지마셈 #숫자 크게 하면 꺼짐 #걍 중간중간 iter에서 끊어서 출력\n",
    "                validation_interval =  999999999,#999999999, #이거 걍 건들지마셈 #숫자 크게 하면 에포크 마지막 iter 때 val 함\n",
    "\n",
    "                tdBN_on = False,  # True # False\n",
    "                BN_on = False,  # True # False\n",
    "                \n",
    "                surrogate = 'hard_sigmoid', # 'sigmoid' 'rectangle' 'rough_rectangle' 'hard_sigmoid'\n",
    "                \n",
    "                gradient_verbose = False,  # True # False  # weight gradient 각 layer마다 띄워줌\n",
    "\n",
    "                BPTT_on = False,  # True # False # True이면 BPTT, False이면 OTTT  # depthwise, separable은 BPTT만 가능\n",
    "                optimizer_what = 'SGD', # 'SGD' 'Adam', 'RMSprop'\n",
    "                scheduler_name = 'no', # 'no' 'StepLR' 'ExponentialLR' 'ReduceLROnPlateau' 'CosineAnnealingLR' 'OneCycleLR'\n",
    "                \n",
    "                ddp_on = False,   # True # False \n",
    "                # 지원 DATASET: cifar10, mnist\n",
    "\n",
    "                nda_net = False,   # True # False\n",
    "\n",
    "                domain_il_epoch = 0, # over 0, then domain il mode on # pmnist 쓸거면 HLOP 코드보고 더 디벨롭하셈. 지금 개발 hold함.\n",
    "                \n",
    "                dvs_clipping = 5, #일반적으로 1 또는 2 # 100ms때는 5 # 숫자만큼 크면 spike 아니면 걍 0\n",
    "                # gesture, cifar-dvs2, nmnist, ncaltech101\n",
    "                # gesture: 100_000c1-5, 25_000c5, 10_000c5, 1_000c5, 1_000_000c5\n",
    "\n",
    "                dvs_duration = 100_000, # 0 아니면 time sampling # dvs number sampling OR time sampling # gesture, cifar-dvs2, nmnist, ncaltech101\n",
    "                # 있는 데이터들 #gesture 100_000 25_000 10_000 1_000 1_000_000 #nmnist 10000 #nmnist_tonic 10_000 25_000\n",
    "                # 한 숫자가 1us인듯 (spikingjelly코드에서)\n",
    "                # 한 장에 50 timestep만 생산함. 싫으면 my_snn/trying/spikingjelly_dvsgesture의__init__.py 를 참고해봐\n",
    "                # nmnist 5_000us, gesture는 100_000us, 25_000us\n",
    "\n",
    "                OTTT_sWS_on = False, # True # False # BPTT끄고, CONV에만 적용됨.\n",
    "\n",
    "                DFA_on = False, # True # False # residual은 dfa지원안함.\n",
    "                OTTT_input_trace_on = False, # True # False # 맨 처음 input에 trace 적용\n",
    "                \n",
    "                e_transport_swap = 0, # 1 이상이면 해당 숫자 에포크만큼 val_acc_best가 변화가 없으면 e_transport scheme (BP vs DFA) swap\n",
    "                e_transport_swap_tr = 0, # 1 이상이면 해당 숫자 에포크만큼 tr_acc_best가 변화가 없으면 e_transport scheme (BP vs DFA) swap\n",
    "                e_transport_swap_coin = 1, # swap할 수 있는 coin 개수\n",
    "\n",
    "                drop_rate = 0, # drop_rate만큼 0으로 만듦. ex) 0.2면 activation의 20%를 0으로 만듦.\n",
    "\n",
    "                exclude_class = True, # True # False # gesture에서 10번째 클래스 제외\n",
    "\n",
    "                merge_polarities = False, # True # False # tonic dvs dataset 에서 polarities 합치기\n",
    "                denoise_on = False, # True # False # &&&&&&&&&&&&&&&&&&&&&&&&&&&&&&&&&&&&&&&&&&&&&&&&&&&&&&&\n",
    "\n",
    "                I_wanna_sweep_at_this_epoch = -1, # 지정 에포크에서 BP와 DFA를 바꿔줌. -1이면 실행 안함.\n",
    "                # dvs_duration_domain=[(100_000,5,False),(125_000,5,False),(150_000,5,False),],\n",
    "                # dvs_duration_domain=[(40_000,4,False),(50_000,4,False),(60_000,4,False),],\n",
    "                # [duration, clipping, denoise_on]\n",
    "                dvs_duration_domain=[(125_000,5,False)],\n",
    "                dvs_relative_timestep = False, # True # False \n",
    "                \n",
    "                extra_train_dataset = 0,\n",
    "\n",
    "                num_workers = 2, # local wsl에서는 2가 맞고, 서버에서는 4가 좋더라.\n",
    "                chaching_on = True, # True # False # only for certain datasets (gesture_tonic, nmnist_tonic)\n",
    "                pin_memory = True, # True # False \n",
    "\n",
    "                UDA_on = True, # True # False\n",
    "                UDA_data = (125_000,5,False), # (duration, clipping, denoise_on)\n",
    "                src_trg_ratio = 4, # (1이상의 정수) src data와 trg data의 개수 비율 (대략적으로)\n",
    "                adapter_loss_weight = 1.0, # 1.0  # adapter loss의 힘. # 이걸 0으로하면 src only learning.\n",
    "                alpha_uda = 1.0, # GRL의 alpha값\n",
    "                UDA_start_epoch = 0, # UDA를 시작하는 에포크\n",
    "\n",
    "                temporal_filter = 1, # 1이면 아무것도 안함. 한타임스텝에 쑤셔 넣을 window개수. \n",
    "                initial_pooling = 4, # 1이면 pooling 안함. 2의 승수만 입력하셈. log2를 취해서 pooling할 window size를 결정함.\n",
    "                ) \n",
    "\n",
    "# num_workers = 4 * num_GPU (or 8, 16, 2 * num_GPU)\n",
    "# entry * batch_size * num_worker = num_GPU * GPU_throughtput\n",
    "# num_workers = batch_size / num_GPU\n",
    "# num_workers = batch_size / num_CPU\n",
    "\n",
    "# sigmoid와 BN이 있어야 잘된다.\n",
    "# average pooling  \n",
    "# 이 낫다. \n",
    "\n",
    "# nda에서는 decay = 0.25, threshold = 0.5, width =1, surrogate = rectangle, batch = 256, tdBN = True\n",
    "## OTTT 에서는 decay = 0.5, threshold = 1.0, surrogate = sigmoid, batch = 128, BN = True\n",
    "\n",
    "\n",
    "# DDP 실행 코드0\n",
    "'''\n",
    "ddp_on 키고, gpu 개수 만큼 batch size 나눠줘\n",
    "CUDA_VISIBLE_DEVICES=0,1,2,3,4,5 python -m torch.distributed.launch --nproc_per_node=6 main_ddp.py\n",
    "CUDA_VISIBLE_DEVICES=1,2,3 python -m torch.distributed.launch --nproc_per_node=3 main_ddp.py\n",
    "CUDA_VISIBLE_DEVICES=0,1,2,3 python -m torch.distributed.launch --nproc_per_node=4 main_ddp.py\n",
    "'''\n",
    "\n"
   ]
  },
  {
   "cell_type": "code",
   "execution_count": null,
   "metadata": {},
   "outputs": [],
   "source": [
    "# # sweep 하는 코드, 위 셀 주석처리 해야 됨.\n",
    "\n",
    "# # 이런 워닝 뜨는 거는 걍 너가 main 안에서  wandb.config.update(hyperparameters)할 때 물려서임. 어차피 근데 sweep에서 지정한 걸로 덮어짐 \n",
    "# # wandb: WARNING Config item 'BATCH' was locked by 'sweep' (ignored update).\n",
    "\n",
    "# unique_name_hyper = 'main'\n",
    "# run_name = 'main'\n",
    "# sweep_configuration = {\n",
    "#     'method': 'random', # 'random', 'bayes'\n",
    "#     'name': f'my_snn_sweep{datetime.datetime.now().strftime(\"%Y%m%d_%H%M%S\")}',\n",
    "#     'metric': {'goal': 'maximize', 'name': 'val_acc_best'},\n",
    "#     'parameters': \n",
    "#     {\n",
    "#         \"learning_rate\": {\"values\": [0.001]}, #0.00936191669529645\n",
    "#         \"BATCH\": {\"values\": [16]},\n",
    "#         \"decay\": {\"values\": [0.25]},\n",
    "#         \"IMAGE_SIZE\": {\"values\": [128]},\n",
    "#         \"TIME\": {\"values\": [10]},\n",
    "#         \"epoch_num\": {\"values\": [200]},\n",
    "#         \"dvs_duration\": {\"values\": [25_000,50_000,100_000]},\n",
    "#         \"dvs_clipping\": {\"values\": [1,2,3,4,5]},\n",
    "#         \"which_data\": {\"values\": ['DVS_GESTURE_TONIC']},\n",
    "#         \"OTTT_sWS_on\": {\"values\": [False]},\n",
    "#         \"const2\": {\"values\": [False]},\n",
    "#         \"surrogate\": {\"values\": ['hard_sigmoid']},\n",
    "#         \"DFA_on\": {\"values\": [False]},\n",
    "#         \"OTTT_input_trace_on\": {\"values\": [False]},\n",
    "#         \"cfg\": {\"values\": [['M','M',200,200]]},\n",
    "#         \"e_transport_swap\": {\"values\": [0]},\n",
    "#         \"e_transport_swap_tr\": {\"values\": [0]},\n",
    "#         \"drop_rate\": {\"values\": [0.0]}, # \"drop_rate\": {\"values\": [0.25,0.5,0.75]}, #\"drop_rate\": {\"min\": 0.25, \"max\": 0.75},\n",
    "#         \"exclude_class\": {\"values\": [True]},\n",
    "#         \"merge_polarities\": {\"values\": [False]},\n",
    "#         \"lif_layer_v_reset\": {\"values\": [10000]},\n",
    "#         \"lif_layer_sg_width\": {\"values\": [3.555718888923306]},\n",
    "#         \"e_transport_swap_coin\": {\"values\": [1]},\n",
    "#         \"lif_layer_v_threshold\": {\"values\": [0.720291189014991]},\n",
    "#         \"scheduler_name\": {\"values\": ['no']},  # 'no' 'StepLR' 'ExponentialLR' 'ReduceLROnPlateau' 'CosineAnnealingLR' 'OneCycleLR'\n",
    "#         \"denoise_on\": {\"values\": [True,False]}, \n",
    "#         \"I_wanna_sweep_at_this_epoch\": {\"values\": [-1]}, \n",
    "#         \"dvs_duration_domain\": {\"values\": [[]]}, \n",
    "#         \"dvs_relative_timestep\": {\"values\": [[False]]}, \n",
    "#         \"extra_train_dataset\": {\"values\": [0]}, \n",
    "#      }\n",
    "# }\n",
    "\n",
    "# def hyper_iter():\n",
    "#     ### my_snn control board ########################\n",
    "#     unique_name = unique_name_hyper ## 이거 설정하면 새로운 경로에 모두 save\n",
    "    \n",
    "#     wandb.init(save_code = True)\n",
    "#     learning_rate  =  wandb.config.learning_rate\n",
    "#     BATCH  =  wandb.config.BATCH\n",
    "#     decay  =  wandb.config.decay\n",
    "#     IMAGE_SIZE  =  wandb.config.IMAGE_SIZE\n",
    "#     TIME  =  wandb.config.TIME\n",
    "#     epoch_num  =  wandb.config.epoch_num \n",
    "#     dvs_duration  =  wandb.config.dvs_duration\n",
    "#     dvs_clipping  =  wandb.config.dvs_clipping\n",
    "#     which_data  =  wandb.config.which_data\n",
    "#     OTTT_sWS_on  =  wandb.config.OTTT_sWS_on\n",
    "#     const2  =  wandb.config.const2\n",
    "#     surrogate  =  wandb.config.surrogate\n",
    "#     DFA_on  =  wandb.config.DFA_on\n",
    "#     OTTT_input_trace_on  =  wandb.config.OTTT_input_trace_on\n",
    "#     cfg  =  wandb.config.cfg\n",
    "#     e_transport_swap  =  wandb.config.e_transport_swap\n",
    "#     e_transport_swap_tr  =  wandb.config.e_transport_swap_tr\n",
    "#     drop_rate  =  wandb.config.drop_rate\n",
    "#     exclude_class  =  wandb.config.exclude_class\n",
    "#     merge_polarities  =  wandb.config.merge_polarities\n",
    "#     lif_layer_v_reset  =  wandb.config.lif_layer_v_reset\n",
    "#     lif_layer_sg_width  =  wandb.config.lif_layer_sg_width\n",
    "#     e_transport_swap_coin  =  wandb.config.e_transport_swap_coin\n",
    "#     lif_layer_v_threshold  =  wandb.config.lif_layer_v_threshold\n",
    "#     scheduler_name  =  wandb.config.scheduler_name\n",
    "#     denoise_on  =  wandb.config.denoise_on\n",
    "#     I_wanna_sweep_at_this_epoch  =  wandb.config.I_wanna_sweep_at_this_epoch\n",
    "#     dvs_duration_domain  =  wandb.config.dvs_duration_domain\n",
    "#     dvs_relative_timestep  =  wandb.config.dvs_relative_timestep\n",
    "#     extra_train_dataset  =  wandb.config.extra_train_dataset\n",
    "#     if const2 == True:\n",
    "#         const2 = decay\n",
    "#     else:\n",
    "#         const2 = 0.0\n",
    "\n",
    "#     my_snn_system(  devices = \"5\",\n",
    "#                 single_step = True, # True # False\n",
    "#                 unique_name = run_name,\n",
    "#                 my_seed = 42,\n",
    "#                 TIME = TIME , # dvscifar 10 # ottt 6 or 10 # nda 10  # 제작하는 dvs에서 TIME넘거나 적으면 자르거나 PADDING함\n",
    "#                 BATCH = BATCH, # batch norm 할거면 2이상으로 해야함   # nda 256   #  ottt 128\n",
    "#                 IMAGE_SIZE = IMAGE_SIZE, # dvscifar 48 # MNIST 28 # CIFAR10 32 # PMNIST 28 #NMNIST 34 # GESTURE 128\n",
    "#                 # dvsgesture 128, dvs_cifar2 128, nmnist 34, n_caltech101 180,240, n_tidigits 64, heidelberg 700, \n",
    "#                 #pmnist는 28로 해야 됨. 나머지는 바꿔도 돌아는 감.\n",
    "\n",
    "#                 # DVS_CIFAR10 할거면 time 10으로 해라\n",
    "#                 which_data = which_data,\n",
    "# # 'CIFAR100' 'CIFAR10' 'MNIST' 'FASHION_MNIST' 'DVS_CIFAR10' 'PMNIST'아직\n",
    "# # 'DVS_GESTURE', 'DVS_GESTURE_TONIC','DVS_CIFAR10_2','NMNIST','NMNIST_TONIC','N_CALTECH101','n_tidigits','heidelberg'\n",
    "#                 # CLASS_NUM = 10,\n",
    "#                 data_path = '/data2', # YOU NEED TO CHANGE THIS\n",
    "#                 rate_coding = False, # True # False\n",
    "#                 lif_layer_v_init = 0.0,\n",
    "#                 lif_layer_v_decay = decay,\n",
    "#                 lif_layer_v_threshold = lif_layer_v_threshold,  # 10000이상으로 하면 NDA LIF 씀. #nda 0.5  #ottt 1.0\n",
    "#                 lif_layer_v_reset = lif_layer_v_reset, # 10000이상은 hardreset (내 LIF쓰기는 함 ㅇㅇ)\n",
    "#                 lif_layer_sg_width = lif_layer_sg_width, # # surrogate sigmoid 쓸 때는 의미없음\n",
    "\n",
    "#                 # synapse_conv_in_channels = IMAGE_PIXEL_CHANNEL,\n",
    "#                 synapse_conv_kernel_size = 3,\n",
    "#                 synapse_conv_stride = 1,\n",
    "#                 synapse_conv_padding = 1,\n",
    "#                 synapse_conv_trace_const1 = 1, # 현재 trace구할 때 현재 spike에 곱해지는 상수. 걍 1로 두셈.\n",
    "#                 synapse_conv_trace_const2 = const2, # 현재 trace구할 때 직전 trace에 곱해지는 상수. lif_layer_v_decay와 같게 할 것을 추천\n",
    "\n",
    "#                 # synapse_fc_out_features = CLASS_NUM,\n",
    "#                 synapse_fc_trace_const1 = 1, # 현재 trace구할 때 현재 spike에 곱해지는 상수. 걍 1로 두셈.\n",
    "#                 synapse_fc_trace_const2 = const2, # 현재 trace구할 때 직전 trace에 곱해지는 상수. lif_layer_v_decay와 같게 할 것을 추천\n",
    "\n",
    "#                 pre_trained = False, # True # False\n",
    "#                 convTrue_fcFalse = False, # True # False\n",
    "\n",
    "#                 # 'P' for average pooling, 'D' for (1,1) aver pooling, 'M' for maxpooling, 'L' for linear classifier, [  ] for residual block\n",
    "#                 # conv에서 10000 이상은 depth-wise separable (BPTT만 지원), 20000이상은 depth-wise (BPTT만 지원)\n",
    "#                 # cfg = [64, 64],\n",
    "#                 # cfg = [64, 124, 64, 124],\n",
    "#                 # cfg = ['M','M',512], \n",
    "#                 # cfg = [512], \n",
    "#                 # cfg = ['M', 'M', 64, 128, 'P', 128, 'P'], \n",
    "#                 # cfg = ['M','M',200,200],\n",
    "#                 # cfg = [200,200],\n",
    "#                 cfg = cfg,\n",
    "#                 # cfg = [12], #fc\n",
    "#                 # cfg = [12, 'M', 48, 'M', 12], \n",
    "#                 # cfg = [64,[64,64],64], # 끝에 linear classifier 하나 자동으로 붙습니다\n",
    "#                 # cfg = [64, 128, 'P', 256, 256, 'P', 512, 512, 'P', 512, 512, 'D'], #ottt\n",
    "#                 # cfg = [64, 128, 'P', 256, 256, 'P', 512, 512, 'P', 512, 512], \n",
    "#                 # cfg = [64, 128, 'M', 256, 256, 'M', 512, 512, 'M', 512, 512], \n",
    "#                 # cfg = [64, 'P', 128, 'P', 256, 256, 'P', 512, 512, 512, 512, 'D'], # nda\n",
    "#                 # cfg = [64, 'P', 128, 'P', 256, 256, 'P', 512, 512, 512, 512], # nda 128pixel\n",
    "#                 # cfg = [64, 'P', 128, 'P', 256, 256, 'P', 512, 512, 512, 512, 'L', 4096, 4096],\n",
    "#                 # cfg = [20001,10001], # depthwise, separable\n",
    "#                 # cfg = [64,20064,10001], # vanilla conv, depthwise, separable\n",
    "#                 # cfg = [8, 'P', 8, 'P', 8, 'P', 8,'P', 8, 'P'],\n",
    "#                 # cfg = [], \n",
    "                \n",
    "#                 net_print = True, # True # False # True로 하길 추천\n",
    "#                 weight_count_print = False, # True # False\n",
    "                \n",
    "#                 pre_trained_path = f\"net_save/save_now_net_weights_{unique_name}.pth\",\n",
    "#                 learning_rate = learning_rate, # default 0.001  # ottt 0.1 # nda 0.001 \n",
    "#                 epoch_num = epoch_num,\n",
    "#                 verbose_interval = 999999999, #숫자 크게 하면 꺼짐 #걍 중간중간 iter에서 끊어서 출력\n",
    "#                 validation_interval =  999999999,#999999999, #숫자 크게 하면 에포크 마지막 iter 때 val 함\n",
    "\n",
    "#                 tdBN_on = False,  # True # False\n",
    "#                 BN_on = False,  # True # False\n",
    "                \n",
    "#                 surrogate = surrogate, # 'rectangle' 'sigmoid' 'rough_rectangle'\n",
    "                \n",
    "#                 gradient_verbose = False,  # True # False  # weight gradient 각 layer마다 띄워줌\n",
    "\n",
    "#                 BPTT_on = False,  # True # False # True이면 BPTT, False이면 OTTT  # depthwise, separable은 BPTT만 가능\n",
    "#                 optimizer_what = 'SGD', # 'SGD' 'Adam', 'RMSprop'\n",
    "#                 scheduler_name = scheduler_name, # 'no' 'StepLR' 'ExponentialLR' 'ReduceLROnPlateau' 'CosineAnnealingLR' 'OneCycleLR'\n",
    "                \n",
    "#                 ddp_on = False,   # True # False \n",
    "#                 # 지원 DATASET: cifar10, mnist\n",
    "\n",
    "#                 nda_net = False,   # True # False\n",
    "\n",
    "#                 domain_il_epoch = 0, # over 0, then domain il mode on # pmnist 쓸거면 HLOP 코드보고 더 디벨롭하셈. 지금 개발 hold함.\n",
    "                \n",
    "#                 dvs_clipping = dvs_clipping, # 숫자만큼 크면 spike 아니면 걍 0\n",
    "#                 # gesture, cifar-dvs2, nmnist, ncaltech101\n",
    "\n",
    "#                 dvs_duration = dvs_duration, # 0 아니면 time sampling # dvs number sampling OR time sampling # gesture, cifar-dvs2, nmnist, ncaltech101\n",
    "#                 # 있는 데이터들 #gesture 100_000 25_000 10_000 1_000 1_000_000 #nmnist 10000 #nmnist_tonic 10_000 25_000\n",
    "#                 # 한 숫자가 1us인듯 (spikingjelly코드에서)\n",
    "#                 # 한 장에 50 timestep만 생산함. 싫으면 my_snn/trying/spikingjelly_dvsgesture의__init__.py 를 참고해봐\n",
    "\n",
    "#                 OTTT_sWS_on = OTTT_sWS_on, # True # False # BPTT끄고, CONV에만 적용됨.\n",
    "\n",
    "#                 DFA_on = DFA_on, # True # False # residual은 dfa지원안함.\n",
    "#                 OTTT_input_trace_on = OTTT_input_trace_on, # True # False # 맨 처음 input에 trace 적용\n",
    "                 \n",
    "#                 e_transport_swap = e_transport_swap, # 1 이상이면 해당 숫자 에포크만큼 val_acc_best가 변화가 없으면 e_transport scheme (BP vs DFA) swap\n",
    "#                 e_transport_swap_tr = e_transport_swap_tr, # 1 이상이면 해당 숫자 에포크만큼 tr_acc_best가 변화가 없으면 e_transport scheme (BP vs DFA) swap\n",
    "#                 e_transport_swap_coin = e_transport_swap_coin, # swap할 수 있는 coin 개수\n",
    "                    \n",
    "#                 drop_rate = drop_rate,\n",
    "\n",
    "#                 exclude_class = exclude_class, # True # False # gesture에서 10번째 클래스 제외\n",
    "\n",
    "#                 merge_polarities = merge_polarities, # True # False # tonic dvs dataset 에서 polarities 합치기\n",
    "#                 denoise_on = denoise_on,\n",
    "\n",
    "#                 I_wanna_sweep_at_this_epoch = I_wanna_sweep_at_this_epoch,\n",
    "#                 dvs_duration_domain = dvs_duration_domain,\n",
    "#                 dvs_relative_timestep = dvs_relative_timestep, # True # False \n",
    "\n",
    "#                 extra_train_dataset = extra_train_dataset,\n",
    "\n",
    "#                 num_workers = 2,\n",
    "#                 chaching_on = True,\n",
    "#                 pin_memory = True, # True # False\n",
    "#                     ) \n",
    "#     # sigmoid와 BN이 있어야 잘된다.\n",
    "#     # average pooling\n",
    "#     # 이 낫다. \n",
    "    \n",
    "#     # nda에서는 decay = 0.25, threshold = 0.5, width =1, surrogate = rectangle, batch = 256, tdBN = True\n",
    "#     ## OTTT 에서는 decay = 0.5, threshold = 1.0, surrogate = sigmoid, batch = 128, BN = True\n",
    "\n",
    "# sweep_id = wandb.sweep(sweep=sweep_configuration, project=f'my_snn {unique_name_hyper}')\n",
    "# wandb.agent(sweep_id, function=hyper_iter, count=10000, project=f'my_snn {unique_name_hyper}')\n"
   ]
  },
  {
   "cell_type": "code",
   "execution_count": null,
   "metadata": {},
   "outputs": [
    {
     "data": {
      "application/vnd.jupyter.widget-view+json": {
       "model_id": "b40c138efd0f4fcfbcc5d6be9f6f0abd",
       "version_major": 2,
       "version_minor": 0
      },
      "text/plain": [
       "VBox(children=(Label(value='2.991 MB of 2.991 MB uploaded (0.332 MB deduped)\\r'), FloatProgress(value=1.0, max…"
      ]
     },
     "metadata": {},
     "output_type": "display_data"
    },
    {
     "data": {
      "text/html": [
       "W&B sync reduced upload amount by 9.7%"
      ],
      "text/plain": [
       "<IPython.core.display.HTML object>"
      ]
     },
     "metadata": {},
     "output_type": "display_data"
    },
    {
     "data": {
      "text/html": [
       "<style>\n",
       "    table.wandb td:nth-child(1) { padding: 0 10px; text-align: left ; width: auto;} td:nth-child(2) {text-align: left ; width: 100%}\n",
       "    .wandb-row { display: flex; flex-direction: row; flex-wrap: wrap; justify-content: flex-start; width: 100% }\n",
       "    .wandb-col { display: flex; flex-direction: column; flex-basis: 100%; flex: 1; padding: 10px; }\n",
       "    </style>\n",
       "<div class=\"wandb-row\"><div class=\"wandb-col\"><h3>Run history:</h3><br/><table class=\"wandb\"><tr><td>DFA_flag</td><td>▁▁▁▁▁▁▁▁▁▁▁▁▁▁▁▁▁▁▁▁▁▁▁▁▁▁▁▁▁▁▁▁▁▁▁▁▁▁▁▁</td></tr><tr><td>epoch</td><td>▁▁▁▂▂▂▂▂▂▃▃▃▃▃▄▄▄▄▄▄▅▅▅▅▅▅▆▆▆▆▆▇▇▇▇▇▇███</td></tr><tr><td>iter_acc</td><td>▂▃▇█▄██▂▄█▇▄██▃▅█▁▄██▅██▄▆█▅▅█▇▆▅█▃▄█▂▄█</td></tr><tr><td>summary_val_acc</td><td>▁▄▇▇▇█▇▇▇▇█▇▇█▇▇▇███▇▇█▇▇▇▇██████▇▇██▇▇▇</td></tr><tr><td>tr_acc</td><td>▁▆██████████████████████████████████████</td></tr><tr><td>tr_epoch_loss</td><td>█▄▃▁▁▁▁▁▁▁▁▁▁▁▁▁▁▁▁▁▁▁▁▁▁▁▁▁▁▁▁▁▁▁▁▁▁▁▁▁</td></tr><tr><td>val_acc_best</td><td>▁▄▆▇▇███████████████████████████████████</td></tr><tr><td>val_acc_now</td><td>▁▄▇▇▇█▇▇▇▇█▇▇█▇▇▇███▇▇█▇▇▇▇██████▇▇██▇▇▇</td></tr><tr><td>val_acc_now_set[1]</td><td>▁▂▆▆▇▆▇▇▇▇▇▇▇▇▇█▇█▇███▇▇▇▇███▇██▇███▇▇█▇</td></tr><tr><td>val_acc_now_set[1]_best</td><td>▁▄▆▇▇▇▇▇▇▇▇▇▇▇▇█████████████████████████</td></tr><tr><td>val_loss</td><td>▂▁▁▃▄▄▄▅▅▅▅▆▆▆▆▆▆▆▆▇▇▇▇▇▇▇▇▇▇▇██████████</td></tr></table><br/></div><div class=\"wandb-col\"><h3>Run summary:</h3><br/><table class=\"wandb\"><tr><td>DFA_flag</td><td>0.0</td></tr><tr><td>epoch</td><td>299</td></tr><tr><td>iter_acc</td><td>1.0</td></tr><tr><td>tr_acc</td><td>1.0</td></tr><tr><td>tr_epoch_loss</td><td>0.00224</td></tr><tr><td>val_acc_best</td><td>0.77917</td></tr><tr><td>val_acc_now</td><td>0.74583</td></tr><tr><td>val_acc_now_set[1]</td><td>0.75</td></tr><tr><td>val_acc_now_set[1]_best</td><td>0.77917</td></tr><tr><td>val_loss</td><td>3.28539</td></tr></table><br/></div></div>"
      ],
      "text/plain": [
       "<IPython.core.display.HTML object>"
      ]
     },
     "metadata": {},
     "output_type": "display_data"
    },
    {
     "data": {
      "text/html": [
       " View run <strong style=\"color:#cdcd00\">robust-snow-6580</strong> at: <a href='https://wandb.ai/bhkim003-seoul-national-university/my_snn%20main/runs/mfiupih0' target=\"_blank\">https://wandb.ai/bhkim003-seoul-national-university/my_snn%20main/runs/mfiupih0</a><br/> View project at: <a href='https://wandb.ai/bhkim003-seoul-national-university/my_snn%20main' target=\"_blank\">https://wandb.ai/bhkim003-seoul-national-university/my_snn%20main</a><br/>Synced 7 W&B file(s), 0 media file(s), 9 artifact file(s) and 1 other file(s)"
      ],
      "text/plain": [
       "<IPython.core.display.HTML object>"
      ]
     },
     "metadata": {},
     "output_type": "display_data"
    },
    {
     "data": {
      "text/html": [
       "Find logs at: <code>./wandb/run-20241022_182329-mfiupih0/logs</code>"
      ],
      "text/plain": [
       "<IPython.core.display.HTML object>"
      ]
     },
     "metadata": {},
     "output_type": "display_data"
    },
    {
     "data": {
      "text/html": [
       "The new W&B backend becomes opt-out in version 0.18.0; try it out with `wandb.require(\"core\")`! See https://wandb.me/wandb-core for more information."
      ],
      "text/plain": [
       "<IPython.core.display.HTML object>"
      ]
     },
     "metadata": {},
     "output_type": "display_data"
    }
   ],
   "source": [
    "wandb.finish() "
   ]
  },
  {
   "cell_type": "code",
   "execution_count": null,
   "metadata": {},
   "outputs": [],
   "source": [
    "# import numpy as np\n",
    "# import matplotlib.pyplot as plt\n",
    "# import json\n",
    "# run_name = 'main_FINAL_TEST'\n",
    "\n",
    "# unique_name = run_name\n",
    "# def pad_array_to_match_length(array1, array2):\n",
    "#     if len(array1) > len(array2):\n",
    "#         padded_array2 = np.pad(array2, (0, len(array1) - len(array2)), 'constant')\n",
    "#         return array1, padded_array2\n",
    "#     elif len(array2) > len(array1):\n",
    "#         padded_array1 = np.pad(array1, (0, len(array2) - len(array1)), 'constant')\n",
    "#         return padded_array1, array2\n",
    "#     else:\n",
    "#         return array1, array2\n",
    "# def load_hyperparameters(filename=f'result_save/hyperparameters_{unique_name}.json'):\n",
    "#     with open(filename, 'r') as f:\n",
    "#         return json.load(f)\n",
    "    \n",
    "\n",
    "\n",
    "\n",
    "\n",
    "# current_time = '20240628_110116'\n",
    "# base_name = f'{current_time}'\n",
    "# iter_acc_file_name = f'result_save/{base_name}_iter_acc_array_{unique_name}.npy'\n",
    "# val_acc_file_name = f'result_save/{base_name}_val_acc_now_array_{unique_name}.npy'\n",
    "# hyperparameters_file_name = f'result_save/{base_name}_hyperparameters_{unique_name}.json'\n",
    "\n",
    "# ### if you want to just see most recent train and val acc###########################\n",
    "# iter_acc_file_name = f'result_save/iter_acc_array_{unique_name}.npy'\n",
    "# tr_acc_file_name = f'result_save/tr_acc_array_{unique_name}.npy'\n",
    "# val_acc_file_name = f'result_save/val_acc_now_array_{unique_name}.npy'\n",
    "# hyperparameters_file_name = f'result_save/hyperparameters_{unique_name}.json'\n",
    "\n",
    "# loaded_iter_acc_array = np.load(iter_acc_file_name)*100\n",
    "# loaded_tr_acc_array = np.load(tr_acc_file_name)*100\n",
    "# loaded_val_acc_array = np.load(val_acc_file_name)*100\n",
    "# hyperparameters = load_hyperparameters(hyperparameters_file_name)\n",
    "\n",
    "# loaded_iter_acc_array, loaded_val_acc_array = pad_array_to_match_length(loaded_iter_acc_array, loaded_val_acc_array)\n",
    "# loaded_iter_acc_array, loaded_tr_acc_array = pad_array_to_match_length(loaded_iter_acc_array, loaded_tr_acc_array)\n",
    "# loaded_val_acc_array, loaded_tr_acc_array = pad_array_to_match_length(loaded_val_acc_array, loaded_tr_acc_array)\n",
    "\n",
    "# top_iter_acc = np.max(loaded_iter_acc_array)\n",
    "# top_tr_acc = np.max(loaded_tr_acc_array)\n",
    "# top_val_acc = np.max(loaded_val_acc_array)\n",
    "\n",
    "# which_data = hyperparameters['which_data']\n",
    "# BPTT_on = hyperparameters['BPTT_on']\n",
    "# current_epoch = hyperparameters['current epoch']\n",
    "# surrogate = hyperparameters['surrogate']\n",
    "# cfg = hyperparameters['cfg']\n",
    "# tdBN_on = hyperparameters['tdBN_on']\n",
    "# BN_on = hyperparameters['BN_on']\n",
    "\n",
    "\n",
    "# iterations = np.arange(len(loaded_iter_acc_array))\n",
    "\n",
    "# # 그래프 그리기\n",
    "# plt.figure(figsize=(10, 5))\n",
    "# plt.plot(iterations, loaded_iter_acc_array, label='Iter Accuracy', color='g', alpha=0.2)\n",
    "# plt.plot(iterations, loaded_tr_acc_array, label='Training Accuracy', color='b')\n",
    "# plt.plot(iterations, loaded_val_acc_array, label='Validation Accuracy', color='r')\n",
    "\n",
    "# # # 텍스트 추가\n",
    "# # plt.text(0.05, 0.95, f'Top Training Accuracy: {100*top_iter_acc:.2f}%', transform=plt.gca().transAxes, fontsize=12, verticalalignment='top', horizontalalignment='left', color='blue')\n",
    "# # plt.text(0.05, 0.90, f'Top Validation Accuracy: {100*top_val_acc:.2f}%', transform=plt.gca().transAxes, fontsize=12, verticalalignment='top', horizontalalignment='left', color='red')\n",
    "# # 텍스트 추가\n",
    "# plt.text(0.5, 0.10, f'Top Training Accuracy: {top_tr_acc:.2f}%', transform=plt.gca().transAxes, fontsize=12, verticalalignment='top', horizontalalignment='center', color='blue')\n",
    "# plt.text(0.5, 0.05, f'Top Validation Accuracy: {top_val_acc:.2f}%', transform=plt.gca().transAxes, fontsize=12, verticalalignment='top', horizontalalignment='center', color='red')\n",
    "\n",
    "# plt.xlabel('Iterations')\n",
    "# plt.ylabel('Accuracy [%]')\n",
    "\n",
    "# # 그래프 제목에 하이퍼파라미터 정보 추가\n",
    "# title = f'Training and Validation Accuracy over Iterations\\n\\nData: {which_data}, BPTT: {\"On\" if BPTT_on else \"Off\"}, Current Epoch: {current_epoch}, Surrogate: {surrogate},\\nCFG: {cfg}, tdBN: {\"On\" if tdBN_on else \"Off\"}, BN: {\"On\" if BN_on else \"Off\"}'\n",
    "\n",
    "# plt.title(title)\n",
    "\n",
    "# plt.legend(loc='lower right')\n",
    "# plt.xlim(0)  # x축을 0부터 시작\n",
    "# plt.grid(True)\n",
    "# plt.show()"
   ]
  }
 ],
 "metadata": {
  "kernelspec": {
   "display_name": "aedat2",
   "language": "python",
   "name": "python3"
  },
  "language_info": {
   "codemirror_mode": {
    "name": "ipython",
    "version": 3
   },
   "file_extension": ".py",
   "mimetype": "text/x-python",
   "name": "python",
   "nbconvert_exporter": "python",
   "pygments_lexer": "ipython3",
   "version": "3.8.18"
  }
 },
 "nbformat": 4,
 "nbformat_minor": 2
}
