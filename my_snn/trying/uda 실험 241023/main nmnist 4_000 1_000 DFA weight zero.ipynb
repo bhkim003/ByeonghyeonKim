{
 "cells": [
  {
   "cell_type": "code",
   "execution_count": 1,
   "metadata": {},
   "outputs": [
    {
     "name": "stderr",
     "output_type": "stream",
     "text": [
      "/tmp/ipykernel_6464/1506272096.py:46: DeprecationWarning: The module snntorch.spikevision is deprecated. For loading neuromorphic datasets, we recommend using the Tonic project: https://github.com/neuromorphs/tonic\n",
      "  from snntorch.spikevision import spikedata\n"
     ]
    },
    {
     "data": {
      "image/png": "[encoded data removed]",
      "text/plain": [
       "<Figure size 800x600 with 2 Axes>"
      ]
     },
     "metadata": {},
     "output_type": "display_data"
    }
   ],
   "source": [
    "import sys\n",
    "import os\n",
    "import argparse\n",
    "import torch\n",
    "import torch.nn as nn \n",
    "import torch.nn.functional as F\n",
    "import torch.backends.cudnn as cudnn\n",
    "import torch.optim as optim\n",
    "import torch.optim.lr_scheduler as lr_scheduler\n",
    "from torch.utils.data import Dataset, DataLoader\n",
    "\n",
    "import torchvision\n",
    "import torchvision.datasets\n",
    "import torchvision.transforms as transforms\n",
    "\n",
    "import numpy as np\n",
    "import matplotlib.pyplot as plt\n",
    "\n",
    "import time\n",
    "\n",
    "from snntorch import spikegen\n",
    "import matplotlib.pyplot as plt\n",
    "import snntorch.spikeplot as splt\n",
    "from IPython.display import HTML\n",
    "\n",
    "from tqdm import tqdm\n",
    "\n",
    "from apex.parallel import DistributedDataParallel as DDP\n",
    "\n",
    "import random\n",
    "import datetime\n",
    "\n",
    "import json\n",
    "\n",
    "from sklearn.utils import shuffle\n",
    "\n",
    "''' 레퍼런스\n",
    "https://spikingjelly.readthedocs.io/zh-cn/0.0.0.0.4/spikingjelly.datasets.html#module-spikingjelly.datasets\n",
    "https://github.com/GorkaAbad/Sneaky-Spikes/blob/main/datasets.py\n",
    "https://github.com/GorkaAbad/Sneaky-Spikes/blob/main/how_to.md\n",
    "https://github.com/nmi-lab/torchneuromorphic\n",
    "https://snntorch.readthedocs.io/en/latest/snntorch.spikevision.spikedata.html#shd\n",
    "'''\n",
    "\n",
    "import snntorch\n",
    "from snntorch.spikevision import spikedata\n",
    "\n",
    "import modules.spikingjelly;\n",
    "from modules.spikingjelly.datasets.dvs128_gesture import DVS128Gesture\n",
    "from modules.spikingjelly.datasets.cifar10_dvs import CIFAR10DVS\n",
    "from modules.spikingjelly.datasets.n_mnist import NMNIST\n",
    "# from modules.spikingjelly.datasets.es_imagenet import ESImageNet\n",
    "from modules.spikingjelly.datasets import split_to_train_test_set\n",
    "from modules.spikingjelly.datasets.n_caltech101 import NCaltech101\n",
    "from modules.spikingjelly.datasets import pad_sequence_collate, padded_sequence_mask\n",
    "\n",
    "import modules.torchneuromorphic as torchneuromorphic\n",
    "\n",
    "import wandb\n",
    "\n",
    "from torchviz import make_dot\n",
    "import graphviz\n",
    "from turtle import shape\n"
   ]
  },
  {
   "cell_type": "code",
   "execution_count": 2,
   "metadata": {},
   "outputs": [],
   "source": [
    "import apex"
   ]
  },
  {
   "cell_type": "code",
   "execution_count": 3,
   "metadata": {},
   "outputs": [],
   "source": [
    "# my module import\n",
    "from modules import *\n",
    "\n",
    "# modules 폴더에 새모듈.py 만들면\n",
    "# modules/__init__py 파일에 form .새모듈 import * 하셈\n",
    "# 그리고 새모듈.py에서 from modules.새모듈 import * 하셈\n"
   ]
  },
  {
   "cell_type": "code",
   "execution_count": 4,
   "metadata": {},
   "outputs": [],
   "source": [
    "\n",
    "\n",
    "def my_snn_system(devices = \"0,1,2,3\",\n",
    "                    single_step = False, # True # False\n",
    "                    unique_name = 'main',\n",
    "                    my_seed = 42,\n",
    "                    TIME = 10,\n",
    "                    BATCH = 256,\n",
    "                    IMAGE_SIZE = 32,\n",
    "                    which_data = 'CIFAR10',\n",
    "                    # CLASS_NUM = 10,\n",
    "                    data_path = '/data2',\n",
    "                    rate_coding = True,\n",
    "    \n",
    "                    lif_layer_v_init = 0.0,\n",
    "                    lif_layer_v_decay = 0.6,\n",
    "                    lif_layer_v_threshold = 1.2,\n",
    "                    lif_layer_v_reset = 0.0,\n",
    "                    lif_layer_sg_width = 1,\n",
    "\n",
    "                    # synapse_conv_in_channels = IMAGE_PIXEL_CHANNEL,\n",
    "                    synapse_conv_kernel_size = 3,\n",
    "                    synapse_conv_stride = 1,\n",
    "                    synapse_conv_padding = 1,\n",
    "                    synapse_conv_trace_const1 = 1,\n",
    "                    synapse_conv_trace_const2 = 0.6,\n",
    "\n",
    "                    # synapse_fc_out_features = CLASS_NUM,\n",
    "                    synapse_fc_trace_const1 = 1,\n",
    "                    synapse_fc_trace_const2 = 0.6,\n",
    "\n",
    "                    pre_trained = False,\n",
    "                    convTrue_fcFalse = True,\n",
    "                    cfg = [64, 64],\n",
    "                    net_print = False, # True # False\n",
    "                    weight_count_print = False, # True # False\n",
    "                    pre_trained_path = \"net_save/save_now_net.pth\",\n",
    "                    learning_rate = 0.0001,\n",
    "                    epoch_num = 200,\n",
    "                    verbose_interval = 100, #숫자 크게 하면 꺼짐\n",
    "                    validation_interval = 10, #숫자 크게 하면 꺼짐\n",
    "                    tdBN_on = False,\n",
    "                    BN_on = False,\n",
    "\n",
    "                    surrogate = 'sigmoid',\n",
    "\n",
    "                    gradient_verbose = False,\n",
    "\n",
    "                    BPTT_on = False,\n",
    "\n",
    "                    optimizer_what = 'SGD', # 'SGD' 'Adam', 'RMSprop'\n",
    "                    scheduler_name = 'no',\n",
    "                    \n",
    "                    ddp_on = True,\n",
    "\n",
    "                    nda_net = False,\n",
    "                    \n",
    "                    domain_il_epoch = 0, # over 0, then domain il mode on\n",
    "\n",
    "                    dvs_clipping = 1, \n",
    "                    dvs_duration = 25_000,\n",
    "\n",
    "                    OTTT_sWS_on = True, # True # False\n",
    "\n",
    "                    DFA_on = False, # True # False\n",
    "                    OTTT_input_trace_on = False, # True # False\n",
    "                    \n",
    "                    e_transport_swap = 5, # 1 이상이면 해당 숫자 에포크만큼 val_acc_best가 변화가 없으면 e_transport scheme (BP vs DFA) swap\n",
    "                    e_transport_swap_tr = 0, # 1 이상이면 해당 숫자 에포크만큼 val_acc_best가 변화가 없으면 e_transport scheme (BP vs DFA) swap\n",
    "                    e_transport_swap_coin = 0, # swap할 수 있는 coin 개수\n",
    "\n",
    "                    drop_rate = 0.5, \n",
    "\n",
    "                    exclude_class = True, # True # False # gesture에서 10번째 클래스 제외\n",
    "\n",
    "                    merge_polarities = True, # True # False # tonic dvs dataset 에서 polarities 합치기\n",
    "                    denoise_on = True, \n",
    "                    dvs_relative_timestep = True, \n",
    "                    \n",
    "                    I_wanna_sweep_at_this_epoch = -1,\n",
    "                    dvs_duration_domain = [(25_000,1,False)],\n",
    "\n",
    "                    extra_train_dataset = 0,\n",
    "\n",
    "                    num_workers = 2,\n",
    "                    chaching_on = False,\n",
    "                    pin_memory = True, # True # False\n",
    "                    \n",
    "                    UDA_on = False, # True # False\n",
    "                    UDA_data = (25_000,1,False), # (duration, clipping, denoise_on)\n",
    "                    src_trg_ratio = 1,\n",
    "                    adapter_loss_weight = 1.0, # 1.0  # adapter loss의 힘.\n",
    "                    alpha_uda = 1.0,\n",
    "                    UDA_start_epoch = 0, # UDA를 시작하는 에포크  (참고로 0 epoch부터 있다.)\n",
    "\n",
    "                    temporal_filter = 1, \n",
    "                    initial_pooling = 1,\n",
    "                    ):\n",
    "    ## hyperparameter check #############################################################\n",
    "    if OTTT_sWS_on == True:\n",
    "        assert BPTT_on == False and tdBN_on == False and BN_on == False\n",
    "        if convTrue_fcFalse == False:\n",
    "            assert single_step == True\n",
    "    if single_step == True:\n",
    "        assert BPTT_on == False and tdBN_on == False \n",
    "    if tdBN_on == True:\n",
    "        assert BPTT_on == True\n",
    "    if pre_trained == True:\n",
    "        print('\\n\\n')\n",
    "        print(\"Caution! pre_trained is True\\n\\n\"*3)    \n",
    "    if DFA_on == True:\n",
    "        assert single_step == True and BPTT_on == False \n",
    "        # assert single_step == True and BPTT_on == False and any(isinstance(item, list) for item in cfg) == False\n",
    "    if OTTT_input_trace_on == True:\n",
    "        assert BPTT_on == False and single_step == True\n",
    "    if UDA_on == True:\n",
    "        assert single_step == True and BPTT_on == False and I_wanna_sweep_at_this_epoch == -1 and (e_transport_swap_coin == 0 or (e_transport_swap == 0 and e_transport_swap_tr == 0)) and isinstance(cfg, tuple) == True and extra_train_dataset == 0\n",
    "    if temporal_filter > 1:\n",
    "        assert convTrue_fcFalse == False\n",
    "    if initial_pooling > 1:\n",
    "        pass\n",
    "    if extra_train_dataset > 0:\n",
    "        assert which_data != 'NMNIST_TONIC'\n",
    "    ######################################################################################\n",
    "\n",
    "\n",
    "    ## 함수 내 모든 로컬 변수 저장 ########################################################\n",
    "    hyperparameters = locals()\n",
    "    hyperparameters['current epoch'] = 0\n",
    "    ######################################################################################\n",
    "    \n",
    "    args_gpu = None\n",
    "    ## DDP settting ######################################################################\n",
    "    if (ddp_on == True):\n",
    "        parser = argparse.ArgumentParser(description='my_snn CIFAR10 Training')\n",
    "\n",
    "        # # local_rank는 command line에서 따로 줄 필요는 없지만, 선언은 필요\n",
    "        parser.add_argument(\"--local_rank\", default=0, type=int)\n",
    "\n",
    "        args = parser.parse_args() # 이거 적어줘야됨. parser argument선언하고\n",
    "\n",
    "        args.gpu = args.local_rank\n",
    "        args_gpu = args.gpu\n",
    "        torch.cuda.set_device(args.gpu)\n",
    "        torch.distributed.init_process_group(backend=\"nccl\", init_method=\"env://\")\n",
    "        args.world_size = torch.distributed.get_world_size()\n",
    "    #######################################################################################\n",
    "\n",
    "\n",
    "    ## wandb 세팅 ###################################################################\n",
    "    current_time = datetime.datetime.now().strftime(\"%Y%m%d_%H%M%S\")\n",
    "    if (ddp_on == True and torch.distributed.get_rank() != 0):\n",
    "        wandb.finish()\n",
    "    if (ddp_on == False or torch.distributed.get_rank() == 0):\n",
    "        wandb.config.update(hyperparameters)\n",
    "        wandb.run.name = f'lr_{learning_rate}_{unique_name}_{which_data}_tstep{TIME}'\n",
    "        wandb.define_metric(\"summary_val_acc\", summary=\"max\")\n",
    "        wandb.run.log_code(\".\", \n",
    "                            include_fn=lambda path: path.endswith(\".py\") or path.endswith(\".ipynb\"),\n",
    "                            exclude_fn=lambda path: 'logs/' in path or 'net_save/' in path or 'result_save/' in path or 'trying/' in path or 'wandb/' in path or 'private/' in path or '.git/' in path or 'tonic' in path or 'torchneuromorphic' in path or 'spikingjelly' in path \n",
    "                            )\n",
    "    ###################################################################################\n",
    "\n",
    "\n",
    "\n",
    "    ## gpu setting ##################################################################################################################\n",
    "    os.environ[\"CUDA_DEVICE_ORDER\"]=\"PCI_BUS_ID\" \n",
    "    os.environ[\"CUDA_VISIBLE_DEVICES\"]= devices\n",
    "    ###################################################################################################################################\n",
    "\n",
    "\n",
    "    ## seed setting ##################################################################################################################\n",
    "    seed_assign(my_seed)\n",
    "    ###################################################################################################################################\n",
    "    \n",
    "\n",
    "    ## data_loader 가져오기 ##################################################################################################################\n",
    "    # data loader, pixel channel, class num\n",
    "    train_data_split_indices = []\n",
    "    train_loader, test_loader, synapse_conv_in_channels, CLASS_NUM, train_data_count = data_loader(\n",
    "            which_data,\n",
    "            data_path, \n",
    "            rate_coding, \n",
    "            BATCH, \n",
    "            IMAGE_SIZE,\n",
    "            ddp_on,\n",
    "            TIME*temporal_filter, # temporal_filter가 곱해짐.\n",
    "            dvs_clipping,\n",
    "            dvs_duration,\n",
    "            exclude_class,\n",
    "            merge_polarities,\n",
    "            denoise_on,\n",
    "            my_seed,\n",
    "            extra_train_dataset,\n",
    "            num_workers,\n",
    "            chaching_on,\n",
    "            pin_memory,\n",
    "            train_data_split_indices,) \n",
    "    test_loader_domain_set = []\n",
    "    test_loader_domain_set.append(test_loader)  \n",
    "    synapse_fc_out_features = CLASS_NUM\n",
    "    if UDA_on == True:\n",
    "        train_loader = None\n",
    "\n",
    "        # pin_memory_breaker = torch.arange(0, 1) #이거 주석 하면 느리고, 이거 주석 안 하면 빠름. NN결과는 같음. 뭐가 문제야..? 아마 torch를 건드리면서 pin_memory에 문제를 일으키는 거 같기는 하다. 이걸 주석 해제하거나, pin_memory를 False로 하는 거나 속도와 cpu 점유가 비슷하다.\n",
    "        indices= list(range(train_data_count))\n",
    "        random.shuffle(indices)\n",
    "        train_data_split_indices_source = indices[:math.ceil(train_data_count * (src_trg_ratio / (src_trg_ratio + 1)))]\n",
    "        train_data_split_indices_target = indices[math.ceil(train_data_count * (src_trg_ratio / (src_trg_ratio + 1))):]\n",
    "        train_loader, _, synapse_conv_in_channels, CLASS_NUM, train_data_count_src = data_loader(\n",
    "                which_data,\n",
    "                data_path, \n",
    "                rate_coding, \n",
    "                BATCH, \n",
    "                IMAGE_SIZE,\n",
    "                ddp_on,\n",
    "                TIME*temporal_filter, # temporal_filter가 곱해짐.\n",
    "                dvs_clipping,\n",
    "                dvs_duration,\n",
    "                exclude_class,\n",
    "                merge_polarities,\n",
    "                denoise_on,\n",
    "                my_seed,\n",
    "                extra_train_dataset,\n",
    "                num_workers,\n",
    "                chaching_on,\n",
    "                pin_memory,\n",
    "                train_data_split_indices_source,\n",
    "                )\n",
    "        \n",
    "        train_loader_target, _, synapse_conv_in_channels, CLASS_NUM, train_data_count_trg = data_loader(\n",
    "                which_data,\n",
    "                data_path, \n",
    "                rate_coding, \n",
    "                BATCH, \n",
    "                IMAGE_SIZE,\n",
    "                ddp_on,\n",
    "                TIME*temporal_filter,\n",
    "                UDA_data[1],  # dvs_clipping,\n",
    "                UDA_data[0],   # dvs_duration,\n",
    "                exclude_class,\n",
    "                merge_polarities,\n",
    "                UDA_data[2], # denoise_on,\n",
    "                my_seed,\n",
    "                extra_train_dataset,\n",
    "                num_workers,\n",
    "                chaching_on,\n",
    "                pin_memory,\n",
    "                train_data_split_indices_target,\n",
    "                )\n",
    "        print('\\n','src img count',train_data_count_src,'trg img count',train_data_count_trg,'\\n')\n",
    "    ###########################################################################################################################################\n",
    "    \n",
    "    ## 다른 dvs duration domain을 validation set으로 불러오기 ##############################################################\n",
    "    dvs_duration_domain_temp = []\n",
    "    train_data_split_indices = []\n",
    "    if len(dvs_duration_domain) > 0:\n",
    "        for domain in dvs_duration_domain:\n",
    "            target_domain_timestep = (dvs_duration*TIME)//domain[0] if dvs_relative_timestep == True else TIME\n",
    "            dvs_duration_domain_temp.append(domain + (target_domain_timestep,))\n",
    "            train_loader_domain, test_loader_domain, synapse_conv_in_channels_domain, CLASS_NUM_domain, train_data_count = data_loader(\n",
    "                    which_data,\n",
    "                    data_path, \n",
    "                    rate_coding, \n",
    "                    BATCH, \n",
    "                    IMAGE_SIZE,\n",
    "                    ddp_on,\n",
    "                    target_domain_timestep*temporal_filter,\n",
    "                    domain[1], # dvs_clipping\n",
    "                    domain[0], # dvs_duration\n",
    "                    exclude_class,\n",
    "                    merge_polarities,\n",
    "                    domain[2], # denoise_on \n",
    "                    my_seed,\n",
    "                    extra_train_dataset,\n",
    "                    num_workers,\n",
    "                    chaching_on,\n",
    "                    pin_memory,\n",
    "                    train_data_split_indices,)\n",
    "            test_loader_domain_set.append(test_loader_domain)\n",
    "        dvs_duration_domain = dvs_duration_domain_temp\n",
    "    ######################################################################################################################\n",
    "    \n",
    "    ## parameter number calculator (안 중요함) ##################################################################################################################\n",
    "    params_num = 0\n",
    "    img_size = IMAGE_SIZE//initial_pooling\n",
    "    bias_param = 1 # 1 or 0\n",
    "    classifier_making = False\n",
    "    if (UDA_on == True):\n",
    "        print(\"In UDA mode, No parameter number calculation yet.\")\n",
    "        pass\n",
    "    else: \n",
    "        if (convTrue_fcFalse == True):\n",
    "            past_kernel = synapse_conv_in_channels\n",
    "            for kernel in cfg:\n",
    "                if (classifier_making == False):\n",
    "                    if (type(kernel) == list):\n",
    "                        for residual_kernel in kernel:\n",
    "                            if (residual_kernel >= 10000 and residual_kernel < 20000): # separable\n",
    "                                residual_kernel -= 10000\n",
    "                                params_num += (synapse_conv_kernel_size**2 + bias_param) * past_kernel\n",
    "                                params_num += (1**2 * past_kernel + bias_param) * residual_kernel\n",
    "                                past_kernel = residual_kernel  \n",
    "                            elif (residual_kernel >= 20000 and residual_kernel < 30000): # depthwise\n",
    "                                residual_kernel -= 20000\n",
    "                                # 'past_kernel' should be same with 'kernel'\n",
    "                                params_num += (synapse_conv_kernel_size**2 + bias_param) * past_kernel\n",
    "                                past_kernel = residual_kernel  \n",
    "                            else:\n",
    "                                params_num += residual_kernel * ((synapse_conv_kernel_size**2) * past_kernel + bias_param)\n",
    "                                past_kernel = residual_kernel\n",
    "                    elif (kernel == 'P' or kernel == 'M'):\n",
    "                        img_size = img_size // 2\n",
    "                    elif (kernel == 'D'):\n",
    "                        img_size = 1\n",
    "                    elif (kernel == 'L'):\n",
    "                        classifier_making = True\n",
    "                        past_kernel = past_kernel * (img_size**2)\n",
    "                    else:\n",
    "                        if (kernel >= 10000 and kernel < 20000): # separable\n",
    "                            kernel -= 10000\n",
    "                            params_num += (synapse_conv_kernel_size**2 + bias_param) * past_kernel\n",
    "                            params_num += (1**2 * past_kernel + bias_param) * kernel\n",
    "                            past_kernel = kernel  \n",
    "                        elif (kernel >= 20000 and kernel < 30000): # depthwise\n",
    "                            kernel -= 20000\n",
    "                            # 'past_kernel' should be same with 'kernel'\n",
    "                            params_num += (synapse_conv_kernel_size**2 + bias_param) * past_kernel\n",
    "                            past_kernel = kernel  \n",
    "                        else:\n",
    "                            params_num += kernel * (synapse_conv_kernel_size**2 * past_kernel + bias_param)\n",
    "                            past_kernel = kernel    \n",
    "                else: # classifier making\n",
    "                    params_num += (past_kernel + bias_param) * kernel\n",
    "                    past_kernel = kernel\n",
    "            \n",
    "            \n",
    "            if classifier_making == False:\n",
    "                past_kernel = past_kernel*img_size*img_size\n",
    "\n",
    "            params_num += (past_kernel + bias_param) * synapse_fc_out_features\n",
    "        else:\n",
    "            in_channel_compute_temp = synapse_conv_in_channels * temporal_filter\n",
    "            past_in_channel = in_channel_compute_temp*img_size*img_size\n",
    "            for in_channel in cfg:\n",
    "                if (type(in_channel) == list):\n",
    "                    for residual_in_channel in in_channel:\n",
    "                        params_num += (past_in_channel + bias_param) * residual_in_channel\n",
    "                        past_in_channel = residual_in_channel\n",
    "                elif (in_channel == 'P' or in_channel == 'M'):\n",
    "                    img_size = img_size // 2\n",
    "                    past_in_channel = in_channel_compute_temp*img_size*img_size\n",
    "                else:\n",
    "                    params_num += (past_in_channel + bias_param) * in_channel\n",
    "                    past_in_channel = in_channel\n",
    "            params_num += (past_in_channel + bias_param) * synapse_fc_out_features\n",
    "    ###########################################################################################################################################\n",
    "\n",
    "\n",
    "    device = torch.device(\"cuda\" if torch.cuda.is_available() else \"cpu\")\n",
    "    print(f\"\\ndevice ==> {device}\\n\")\n",
    "    if device == \"cpu\":\n",
    "        print(\"=\"*50,\"\\n[WARNING]\\n[WARNING]\\n[WARNING]\\n: cpu mode\\n\\n\",\"=\"*50)\n",
    "\n",
    "    ### network setting #######################################################################################################################\n",
    "    if (convTrue_fcFalse == False):\n",
    "        if (single_step == False):\n",
    "            net = MY_SNN_FC(cfg, synapse_conv_in_channels*temporal_filter, IMAGE_SIZE//initial_pooling, synapse_fc_out_features,\n",
    "                        synapse_fc_trace_const1, synapse_fc_trace_const2, \n",
    "                        lif_layer_v_init, lif_layer_v_decay, \n",
    "                        lif_layer_v_threshold, lif_layer_v_reset,\n",
    "                        lif_layer_sg_width,\n",
    "                        tdBN_on,\n",
    "                        BN_on, TIME,\n",
    "                        surrogate,\n",
    "                        BPTT_on,\n",
    "                        DFA_on,\n",
    "                        drop_rate,\n",
    "                        UDA_on,\n",
    "                        alpha_uda).to(device)\n",
    "        else:\n",
    "            net = MY_SNN_FC_sstep(cfg, synapse_conv_in_channels*temporal_filter, IMAGE_SIZE//initial_pooling, synapse_fc_out_features,\n",
    "                        synapse_fc_trace_const1, synapse_fc_trace_const2, \n",
    "                        lif_layer_v_init, lif_layer_v_decay, \n",
    "                        lif_layer_v_threshold, lif_layer_v_reset,\n",
    "                        lif_layer_sg_width,\n",
    "                        tdBN_on,\n",
    "                        BN_on, TIME,\n",
    "                        surrogate,\n",
    "                        BPTT_on,\n",
    "                        DFA_on,\n",
    "                        OTTT_sWS_on,\n",
    "                        drop_rate,\n",
    "                        UDA_on,\n",
    "                        alpha_uda).to(device)\n",
    "    else:\n",
    "        if (single_step == False):\n",
    "            net = MY_SNN_CONV(cfg, synapse_conv_in_channels, IMAGE_SIZE//initial_pooling,\n",
    "                        synapse_conv_kernel_size, synapse_conv_stride, \n",
    "                        synapse_conv_padding, synapse_conv_trace_const1, \n",
    "                        synapse_conv_trace_const2, \n",
    "                        lif_layer_v_init, lif_layer_v_decay, \n",
    "                        lif_layer_v_threshold, lif_layer_v_reset,\n",
    "                        lif_layer_sg_width,\n",
    "                        synapse_fc_out_features, synapse_fc_trace_const1, synapse_fc_trace_const2,\n",
    "                        tdBN_on,\n",
    "                        BN_on, TIME,\n",
    "                        surrogate,\n",
    "                        BPTT_on,\n",
    "                        OTTT_sWS_on,\n",
    "                        DFA_on,\n",
    "                        drop_rate,\n",
    "                        UDA_on,\n",
    "                        alpha_uda).to(device)\n",
    "        else:\n",
    "            net = MY_SNN_CONV_sstep(cfg, synapse_conv_in_channels, IMAGE_SIZE//initial_pooling,\n",
    "                        synapse_conv_kernel_size, synapse_conv_stride, \n",
    "                        synapse_conv_padding, synapse_conv_trace_const1, \n",
    "                        synapse_conv_trace_const2, \n",
    "                        lif_layer_v_init, lif_layer_v_decay, \n",
    "                        lif_layer_v_threshold, lif_layer_v_reset,\n",
    "                        lif_layer_sg_width,\n",
    "                        synapse_fc_out_features, synapse_fc_trace_const1, synapse_fc_trace_const2,\n",
    "                        tdBN_on,\n",
    "                        BN_on, TIME,\n",
    "                        surrogate,\n",
    "                        BPTT_on,\n",
    "                        OTTT_sWS_on,\n",
    "                        DFA_on,\n",
    "                        drop_rate,\n",
    "                        UDA_on,\n",
    "                        alpha_uda).to(device)\n",
    "    if (nda_net == True):\n",
    "        net = VGG(cfg = cfg, num_classes=10, batch_norm = tdBN_on, in_c = synapse_conv_in_channels, \n",
    "                    lif_layer_v_threshold=lif_layer_v_threshold, lif_layer_v_decay=lif_layer_v_decay, lif_layer_sg_width=lif_layer_sg_width)\n",
    "        net.T = TIME\n",
    "\n",
    "    if ddp_on == False:\n",
    "        net = torch.nn.DataParallel(net) \n",
    "    \n",
    "    if pre_trained == True:\n",
    "        net.load_state_dict(torch.load(pre_trained_path))\n",
    "    \n",
    "    if ddp_on == True:\n",
    "        device = args.gpu\n",
    "        net = net.to(args.gpu)\n",
    "        net = DDP(net, delay_allreduce=True)\n",
    "\n",
    "    net = net.to(device)\n",
    "    if (net_print == True):\n",
    "        if ddp_on == False or torch.distributed.get_rank() == 0:\n",
    "            print(net)    \n",
    "    ####################################################################################################################################\n",
    "    \n",
    "\n",
    "    ## wandb logging ###########################################\n",
    "    if ddp_on == False or torch.distributed.get_rank() == 0:\n",
    "        wandb.watch(net, log=\"all\", log_freq = 10) #gradient, parameter logging해줌\n",
    "    ############################################################\n",
    "\n",
    "    ## param num and memory estimation except BN with MY own calculation some lines above ##########################################\n",
    "    if ddp_on == False or torch.distributed.get_rank() == 0:\n",
    "        real_param_num = sum(p.numel() for p in net.parameters() if p.requires_grad)\n",
    "        if (weight_count_print == True):\n",
    "            for name, param in net.named_parameters():\n",
    "                if param.requires_grad:\n",
    "                    print(f'Layer: {name} | Number of parameters: {param.numel()}')\n",
    "        # Batch norm 있으면 아래 두 개 서로 다를 수 있음.\n",
    "        # assert real_param_num == params_num, f'parameter number is not same. real_param_num: {real_param_num}, params_num: {params_num}'    \n",
    "        print('='*50)\n",
    "        print(f\"My Num of PARAMS: {params_num:,}, system's param_num : {real_param_num:,}\")\n",
    "        memory = params_num / 8 / 1024 / 1024 # MB\n",
    "        precision = 32\n",
    "        memory = memory * precision \n",
    "        print(f\"Memory: {memory:.2f}MiB at {precision}-bit\")\n",
    "        print('='*50)\n",
    "    ##############################################################################################################################\n",
    "\n",
    "\n",
    "\n",
    "    ## criterion ########################################## # loss 구해주는 친구\n",
    "    criterion = nn.CrossEntropyLoss().to(device)\n",
    "    if (OTTT_sWS_on == True):\n",
    "        # criterion = nn.CrossEntropyLoss().to(device)\n",
    "        criterion = lambda y_t, target_t: ((1 - 0.05) * F.cross_entropy(y_t, target_t) + 0.05 * F.mse_loss(y_t, F.one_hot(target_t, CLASS_NUM).float())) / TIME \n",
    "        if which_data == 'DVS_GESTURE':\n",
    "            criterion = lambda y_t, target_t: ((1 - 0.001) * F.cross_entropy(y_t, target_t) + 0.001 * F.mse_loss(y_t, F.one_hot(target_t, CLASS_NUM).float())) / TIME \n",
    "    ####################################################\n",
    "    \n",
    "\n",
    "\n",
    "\n",
    "    ## optimizer, scheduler ########################################################################\n",
    "    if(optimizer_what == 'SGD'):\n",
    "        # optimizer = optim.SGD(net.parameters(), lr=learning_rate, momentum=0.9)\n",
    "        optimizer = optim.SGD(net.parameters(), lr=learning_rate, momentum=0.9, weight_decay=0)\n",
    "    elif(optimizer_what == 'Adam'):\n",
    "        optimizer = torch.optim.Adam(net.parameters(), lr=learning_rate)\n",
    "        # optimizer = torch.optim.Adam(net.parameters(), lr=0.00001)\n",
    "        # optimizer = torch.optim.Adam(net.parameters(), lr=learning_rate/256 * BATCH, weight_decay=1e-4)\n",
    "        # optimizer = optim.Adam(net.parameters(), lr=learning_rate, weight_decay=0, betas=(0.9, 0.999))\n",
    "    elif(optimizer_what == 'RMSprop'):\n",
    "        pass\n",
    "\n",
    "\n",
    "    if (scheduler_name == 'StepLR'):\n",
    "        scheduler = lr_scheduler.StepLR(optimizer, step_size=10, gamma=0.1)\n",
    "    elif (scheduler_name == 'ExponentialLR'):\n",
    "        scheduler = lr_scheduler.ExponentialLR(optimizer, gamma=0.95)\n",
    "    elif (scheduler_name == 'ReduceLROnPlateau'):\n",
    "        scheduler = lr_scheduler.ReduceLROnPlateau(optimizer, mode='min', factor=0.1, patience=10)\n",
    "    elif (scheduler_name == 'CosineAnnealingLR'):\n",
    "        # scheduler = lr_scheduler.CosineAnnealingLR(optimizer, eta_min=0, T_max=50)\n",
    "        scheduler = torch.optim.lr_scheduler.CosineAnnealingLR(optimizer, eta_min=0, T_max=epoch_num)\n",
    "    elif (scheduler_name == 'OneCycleLR'):\n",
    "        scheduler = lr_scheduler.OneCycleLR(optimizer, max_lr=0.1, steps_per_epoch=len(train_loader), epochs=epoch_num)\n",
    "    else:\n",
    "        pass # 'no' scheduler\n",
    "    ## optimizer, scheduler ########################################################################\n",
    "\n",
    "\n",
    "    tr_acc = 0\n",
    "    tr_correct = 0\n",
    "    tr_total = 0\n",
    "    tr_acc_best = 0\n",
    "    tr_epoch_loss_temp = 0\n",
    "    tr_epoch_loss = 0\n",
    "    val_acc_best = 0\n",
    "    val_acc_now = 0\n",
    "    val_loss = 0\n",
    "    elapsed_time_val = 0\n",
    "    no_val_best_growth_count = 0\n",
    "    no_tr_best_growth_count = 0\n",
    "    iter_acc_array = np.array([])\n",
    "    tr_acc_array = np.array([])\n",
    "    val_acc_now_array = np.array([])\n",
    "    DFA_current = DFA_on\n",
    "    DFA_toggle = False\n",
    "    DFA_flag = 1.0 if DFA_current == True else 0.0\n",
    "    DFA_BP_toggle_trial = 0\n",
    "    iter_of_val = False\n",
    "    tr_acc_target = 0\n",
    "    tr_correct_target = 0\n",
    "    tr_total_target = 0\n",
    "    tr_acc_best_target = 0\n",
    "    tr_epoch_loss_temp_target = 0\n",
    "    tr_epoch_loss_target = 0\n",
    "    tr_epoch_loss_temp_domain = 0\n",
    "    tr_epoch_loss_domain = 0\n",
    "    tr_acc_domain = 0\n",
    "    tr_correct_domain = 0\n",
    "    tr_total_domain = 0\n",
    "    val_acc_now_set_past = [0 for _ in range(len(dvs_duration_domain)+1)]\n",
    "    val_acc_now_set = [0 for _ in range(len(dvs_duration_domain)+1)]\n",
    "    val_acc_now_set_best = [0 for _ in range(len(dvs_duration_domain)+1)]\n",
    "    #======== EPOCH START ==========================================================================================\n",
    "    for epoch in range(epoch_num):\n",
    "        if (I_wanna_sweep_at_this_epoch == epoch):\n",
    "            net = BP_DFA_SWAP(net, convTrue_fcFalse, single_step, ddp_on, args_gpu)\n",
    "            no_val_best_growth_count = 0\n",
    "            DFA_current = not DFA_current\n",
    "            DFA_toggle = True\n",
    "            DFA_BP_toggle_trial = DFA_BP_toggle_trial + 1\n",
    "        else:\n",
    "            if (e_transport_swap > 0 or e_transport_swap_tr > 0):\n",
    "                assert not (e_transport_swap > 0 and e_transport_swap_tr > 0)\n",
    "                if e_transport_swap > 0 and no_val_best_growth_count == e_transport_swap :\n",
    "                    if DFA_BP_toggle_trial < e_transport_swap_coin:\n",
    "                        net = BP_DFA_SWAP(net, convTrue_fcFalse, single_step, ddp_on, args_gpu)\n",
    "                        no_val_best_growth_count = 0\n",
    "                        DFA_current = not DFA_current\n",
    "                        DFA_toggle = True\n",
    "                        DFA_BP_toggle_trial = DFA_BP_toggle_trial + 1\n",
    "                if e_transport_swap_tr > 0 and no_tr_best_growth_count == e_transport_swap_tr:\n",
    "                    if DFA_BP_toggle_trial < e_transport_swap_coin:\n",
    "                        net = BP_DFA_SWAP(net, convTrue_fcFalse, single_step, ddp_on, args_gpu)\n",
    "                        no_tr_best_growth_count = 0\n",
    "                        DFA_current = not DFA_current\n",
    "                        DFA_toggle = True\n",
    "                        DFA_BP_toggle_trial = DFA_BP_toggle_trial + 1\n",
    "\n",
    "        if ddp_on == False or torch.distributed.get_rank() == 0:\n",
    "            # print('EPOCH', epoch)\n",
    "            pass\n",
    "        epoch_start_time = time.time()\n",
    "\n",
    "        # if (domain_il_epoch>0 and which_data == 'PMNIST'):\n",
    "        #     k = epoch // domain_il_epoch\n",
    "        #     xtrain=data[k]['train']['x']\n",
    "        #     ytrain=data[k]['train']['y']\n",
    "        #     xtest =data[k]['test']['x']\n",
    "        #     ytest =data[k]['test']['y']\n",
    "\n",
    "        ####### iterator : input_loading & tqdm을 통한 progress_bar 생성###################\n",
    "        iterator = enumerate(train_loader, 0)\n",
    "        if (UDA_on == True):\n",
    "            iterator_target = enumerate(train_loader_target, 0)\n",
    "\n",
    "        if ddp_on == False or torch.distributed.get_rank() == 0:  \n",
    "            iterator = tqdm(iterator, total=len(train_loader), desc='train', dynamic_ncols=True, position=0, leave=True)\n",
    "        ##################################################################################   \n",
    "        \n",
    "        #### validation_interval이 batch size보다 작을 시 validation_interval을 batch size로 맞춰줌#############\n",
    "        validation_interval2 = validation_interval\n",
    "        if (validation_interval > len(train_loader)):\n",
    "            validation_interval2 = len(train_loader)\n",
    "        ##################################################################################################\n",
    "\n",
    "\n",
    "        ###### ITERATION START ##########################################################################################################\n",
    "        i = 0\n",
    "        target_done = False\n",
    "        for i, data in iterator:\n",
    "            UDA_FSM = 0\n",
    "            while (UDA_FSM < 2): # 0: source, 1: target, 2: done\n",
    "                if UDA_on == True:\n",
    "                    if UDA_FSM == 0:\n",
    "                        net.UDA_adapter_on = True # net.UDA_adapter_on 와 net.UDA_classifier_on은 그냥 flag임. 이번에 loss값을 backward할 건지 말 건지 ㅇㅇ\n",
    "                        net.UDA_classifier_on = True\n",
    "                        if target_done == True:\n",
    "                            UDA_FSM = 2 # 2--> target 안함\n",
    "                        elif (i)%(len(train_loader)//len(train_loader_target)) == 0: # 일정 주기로 src/trg 도메인 어댑트\n",
    "                            net.UDA_adapter_on = True\n",
    "                            UDA_FSM = 1 # 1--> target 함 !!! target 할 때만 source도 domain adapt할거면 net.UDA_adapter_on을 False로 잘 조정\n",
    "                        elif i == len(train_loader) - 1 and target_done == False:\n",
    "                            net.UDA_adapter_on = True\n",
    "                            UDA_FSM = 1\n",
    "                        else: \n",
    "                            UDA_FSM = 2\n",
    "                    elif UDA_FSM == 1:\n",
    "                        net.UDA_adapter_on = True\n",
    "                        net.UDA_classifier_on = False\n",
    "                        tgt_idx, data = next(iterator_target)\n",
    "                        target_done = True if tgt_idx == len(train_loader_target) - 1 else False\n",
    "                        if i == len(train_loader) - 1 and target_done == False:\n",
    "                            UDA_FSM = 1\n",
    "                        else: \n",
    "                            UDA_FSM = 2\n",
    "                    else:\n",
    "                        assert False\n",
    "                else:\n",
    "                    UDA_FSM = 2\n",
    "\n",
    "                iter_one_train_time_start = time.time()\n",
    "\n",
    "                net.train() # train 모드로 바꿔줘야함\n",
    "\n",
    "                ### data loading & semi-pre-processing ################################################################################\n",
    "                if len(data) == 2:\n",
    "                    inputs, labels = data\n",
    "                    # 처리 로직 작성\n",
    "                elif len(data) == 3:\n",
    "                    inputs, labels, x_len = data\n",
    "                    # print('x_len',x_len)\n",
    "                    # mask = padded_sequence_mask(x_len)\n",
    "                    # max_time_step = x_len.max()\n",
    "                    # min_time_step = x_len.min()\n",
    "                else:\n",
    "                    assert False, 'data length is not 2 or 3'\n",
    "                #######################################################################################################################\n",
    "                    \n",
    "                ## batch 크기 ######################################\n",
    "                real_batch = labels.size(0)\n",
    "                ###########################################################\n",
    "\n",
    "                # 차원 전처리\n",
    "                ###########################################################################################################################        \n",
    "                if (which_data == 'n_tidigits'):\n",
    "                    inputs = inputs.permute(0, 1, 3, 2, 4)\n",
    "                    labels = labels[:, 0, :]\n",
    "                    labels = torch.argmax(labels, dim=1)\n",
    "                elif (which_data == 'heidelberg'):\n",
    "                    inputs = inputs.view(5, 1000, 1, 700, 1)\n",
    "                    print(\"\\n\\n\\n경고!!!! heidelberg 이거 타임스텝이랑 채널 잘 바꿔줘라!!!\\n\\n\\n\\n\")\n",
    "                # print('inputs',inputs.size(),'\\nlabels',labels.size())\n",
    "                # print(labels)\n",
    "\n",
    "                if (which_data == 'DVS_CIFAR10' or which_data == 'DVS_GESTURE' or which_data == 'DVS_GESTURE_TONIC' or which_data == 'DVS_CIFAR10_2' or which_data == 'NMNIST' or which_data == 'NMNIST_TONIC' or which_data == 'N_CALTECH101' or which_data == 'n_tidigits' or which_data == 'heidelberg'):\n",
    "                    inputs = inputs.permute(1, 0, 2, 3, 4)\n",
    "                elif rate_coding == True :\n",
    "                    inputs = spikegen.rate(inputs, num_steps=TIME)\n",
    "                else :\n",
    "                    inputs = inputs.repeat(TIME, 1, 1, 1, 1)\n",
    "                # inputs: [Time, Batch, Channel, Height, Width]  \n",
    "                    \n",
    "                ## initial pooling #######################################################################\n",
    "                if (initial_pooling > 1):\n",
    "                    pool = nn.MaxPool2d(kernel_size=2)\n",
    "                    num_pooling_layers = int(math.log2(initial_pooling))\n",
    "                    # Time, Batch, Channel 차원은 그대로 두고, Height, Width 차원에 대해서만 pooling 적용\n",
    "                    shape_temp = inputs.shape\n",
    "                    inputs = inputs.reshape(shape_temp[0]*shape_temp[1], shape_temp[2], shape_temp[3], shape_temp[4])\n",
    "                    for _ in range(num_pooling_layers):\n",
    "                        inputs = pool(inputs)\n",
    "                    inputs = inputs.reshape(shape_temp[0], shape_temp[1], shape_temp[2], shape_temp[3]//initial_pooling, shape_temp[4]//initial_pooling)\n",
    "                ## initial pooling #######################################################################\n",
    "                ## temporal filtering ####################################################################\n",
    "                shape_temp = inputs.shape\n",
    "                if (temporal_filter > 1):\n",
    "                    slice_bucket = []\n",
    "                    for t_temp in range(TIME):\n",
    "                        start = t_temp * temporal_filter\n",
    "                        end = start + temporal_filter\n",
    "                        slice_concat = torch.movedim(inputs[start:end], 0, 1).reshape(shape_temp[1],shape_temp[2],shape_temp[3],-1)\n",
    "                        slice_bucket.append(slice_concat)\n",
    "                    inputs = torch.stack(slice_bucket, dim=0)\n",
    "                ## temporal filtering ####################################################################\n",
    "                ####################################################################################################################### \n",
    "                    \n",
    "                \n",
    "                # # dvs 데이터 시각화 코드 (확인 필요할 시 써라)\n",
    "                # ##############################################################################################\n",
    "                # dvs_visualization(inputs, labels, TIME, BATCH, my_seed)\n",
    "                # #####################################################################################################\n",
    "\n",
    "                ## to (device) #######################################\n",
    "                inputs = inputs.to(device)\n",
    "                labels = labels.to(device)\n",
    "                ###########################################################\n",
    "\n",
    "                ## gradient 초기화 #######################################\n",
    "                optimizer.zero_grad()\n",
    "                ###########################################################\n",
    "                \n",
    "                ## DVS gesture에서 other label자리 매꾸기 ###############\n",
    "                if (which_data == 'DVS_GESTURE'):\n",
    "                    labels[labels>2] -= 1\n",
    "                #######################################################         \n",
    "                                \n",
    "                if merge_polarities == True:\n",
    "                    inputs = inputs[:,:,0,:,:]\n",
    "\n",
    "                if single_step == False:\n",
    "                    # net에 넣어줄때는 batch가 젤 앞 차원으로 와야함. # dataparallel때매##############################\n",
    "                    # inputs: [Time, Batch, Channel, Height, Width]   \n",
    "                    inputs = inputs.permute(1, 0, 2, 3, 4) # net에 넣어줄때는 batch가 젤 앞 차원으로 와야함. # dataparallel때매\n",
    "                    # inputs: [Batch, Time, Channel, Height, Width] \n",
    "                    #################################################################################################\n",
    "                else:\n",
    "                    labels = labels.repeat(TIME, 1)\n",
    "                    ## first input도 ottt trace 적용하기 위한 코드 (validation 시에는 필요X) ##########################\n",
    "                    if OTTT_input_trace_on == True:\n",
    "                        spike = inputs\n",
    "                        trace = torch.full_like(spike, fill_value = 0.0, dtype = torch.float, requires_grad=False)\n",
    "                        inputs = []\n",
    "                        for t in range(TIME):\n",
    "                            trace[t] = trace[t-1]*synapse_conv_trace_const2 + spike[t]*synapse_conv_trace_const1\n",
    "                            inputs += [[spike[t], trace[t]]]\n",
    "                    ##################################################################################################\n",
    "\n",
    "\n",
    "                if single_step == False:\n",
    "                    ### input --> net --> output #####################################################\n",
    "                    outputs = net(inputs)\n",
    "                    ##################################################################################\n",
    "                    ## loss, backward ##########################################\n",
    "                    iter_loss = criterion(outputs, labels)\n",
    "                    iter_loss.backward()\n",
    "                    ############################################################\n",
    "                    ## weight 업데이트!! ##################################\n",
    "                    optimizer.step()\n",
    "                    ################################################################\n",
    "                else:\n",
    "                    if UDA_on == False:\n",
    "                        outputs_all = []\n",
    "                        iter_loss = 0.0\n",
    "                        for t in range(TIME):\n",
    "                            ### input[t] --> net --> output_one_time #########################################\n",
    "                            outputs_one_time = net(inputs[t])\n",
    "                            ##################################################################################\n",
    "                            one_time_loss = criterion(outputs_one_time, labels[t].contiguous())\n",
    "                            one_time_loss.backward() # one_time backward\n",
    "                            iter_loss += one_time_loss.data\n",
    "                            outputs_all.append(outputs_one_time.detach())\n",
    "                        optimizer.step() # full step time update\n",
    "                        outputs_all = torch.stack(outputs_all, dim=1)\n",
    "                        outputs = outputs_all.mean(1) # ottt꺼 쓸때\n",
    "                        labels = labels[0]\n",
    "                        iter_loss /= TIME\n",
    "                    else:\n",
    "                        ## 근데 생각해보니까 걍 target에서 classifier만 backward 안 해주면 되는 거 아니냐\n",
    "\n",
    "                        iter_loss_domain = 0.0\n",
    "                        outputs_all = []\n",
    "                        outputs_all_domain = []\n",
    "                        iter_loss = 0.0\n",
    "\n",
    "                        if net.UDA_classifier_on == True:\n",
    "                            domain_labels = torch.full((TIME, real_batch), 1).to(device)\n",
    "                        else:\n",
    "                            domain_labels = torch.full((TIME, real_batch), 0).to(device)\n",
    "                            \n",
    "                        for t in range(TIME):\n",
    "                            ### input[t] --> net --> output_one_time #########################################\n",
    "                            outputs_one_time, UDA_adpater_out = net(inputs[t])\n",
    "\n",
    "                            one_time_loss_classifier = criterion(outputs_one_time, labels[t].contiguous())\n",
    "                            one_time_loss_domain = criterion(UDA_adpater_out, domain_labels[t].contiguous())\n",
    "                            one_time_loss_backward = torch.tensor(0.0).to(device)\n",
    "                            if net.UDA_adapter_on == True and epoch >= UDA_start_epoch:\n",
    "                                one_time_loss_backward += one_time_loss_domain * adapter_loss_weight\n",
    "                            else:\n",
    "                                one_time_loss_backward += one_time_loss_domain * 0.0\n",
    "                            if net.UDA_classifier_on == True:\n",
    "                                one_time_loss_backward += one_time_loss_classifier\n",
    "                            else:\n",
    "                                one_time_loss_backward += one_time_loss_classifier * 0.0\n",
    "                            one_time_loss_backward.backward() # one_time backward\n",
    "                            iter_loss += one_time_loss_classifier.data\n",
    "                            iter_loss_domain += one_time_loss_domain.data\n",
    "                            outputs_all.append(outputs_one_time.detach())\n",
    "                            outputs_all_domain.append(UDA_adpater_out.detach())\n",
    "                            ##################################################################################\n",
    "                        if one_time_loss_backward != 0.0:\n",
    "                            optimizer.step() # full step time update\n",
    "                        outputs_all = torch.stack(outputs_all, dim=1)\n",
    "                        outputs = outputs_all.mean(1) # ottt꺼 쓸때\n",
    "                        labels = labels[0]\n",
    "                        outputs_all_domain = torch.stack(outputs_all_domain, dim=1)\n",
    "                        outputs_domain = outputs_all_domain.mean(1) # ottt꺼 쓸때\n",
    "                        domain_labels = domain_labels[0]\n",
    "                        iter_loss /= TIME\n",
    "                        iter_loss_domain /= TIME\n",
    "\n",
    "                if UDA_on == False:\n",
    "                    tr_epoch_loss_temp += iter_loss.data/len(train_loader)\n",
    "                else: \n",
    "                    if (net.UDA_classifier_on == True):\n",
    "                        tr_epoch_loss_temp += iter_loss.data/(len(train_loader)*src_trg_ratio/(src_trg_ratio+1))\n",
    "                    else:\n",
    "                        tr_epoch_loss_temp_target += iter_loss.data/(len(train_loader)*1/(src_trg_ratio+1))\n",
    "                    tr_epoch_loss_temp_domain += iter_loss.data/len(train_loader)\n",
    "\n",
    "                ## net 그림 출력해보기 #################################################################\n",
    "                # print('시각화')\n",
    "                # make_dot(outputs, params=dict(list(net.named_parameters()))).render(\"net_torchviz\", format=\"png\")\n",
    "                # return 0\n",
    "                ##################################################################################\n",
    "\n",
    "                #### batch 어긋남 방지 ###############################################\n",
    "                assert real_batch == outputs.size(0), f'batch size is not same. real_batch: {real_batch}, outputs.size(0): {outputs.size(0)}'\n",
    "                #######################################################################\n",
    "                \n",
    "\n",
    "                if UDA_on == False:\n",
    "                    ####### training accruacy save for print ###############################\n",
    "                    _, predicted = torch.max(outputs.data, 1)\n",
    "                    total = real_batch\n",
    "                    correct = (predicted == labels).sum().item()\n",
    "                    iter_acc = correct / total\n",
    "                    tr_total += total\n",
    "                    tr_correct += correct\n",
    "                    if i % verbose_interval == verbose_interval-1:\n",
    "                        if ddp_on == False or torch.distributed.get_rank() == 0:\n",
    "                            print(f'{epoch}-{i} training acc: {100 * iter_acc:.2f}%, lr={[f\"{lr}\" for lr in (param_group[\"lr\"] for param_group in optimizer.param_groups)]}, val_acc: {100 * val_acc_now:.2f}%')\n",
    "                    iter_acc_string = f'epoch-{epoch:<3} iter_acc:{100 * iter_acc:7.2f}%, lr={[f\"{lr:9.7f}\" for lr in (param_group[\"lr\"] for param_group in optimizer.param_groups)]}'\n",
    "                    iter_acc_string2 = f'epoch-{epoch:<3} lr={[f\"{lr:9.7f}\" for lr in (param_group[\"lr\"] for param_group in optimizer.param_groups)]}'\n",
    "                    ################################################################\n",
    "                else:\n",
    "                    ####### training accruacy save for print ###############################\n",
    "                    _, predicted = torch.max(outputs.data, 1)\n",
    "                    _, predicted_domain = torch.max(outputs_domain.data, 1)\n",
    "                    total = real_batch\n",
    "                    correct = (predicted == labels).sum().item()\n",
    "                    correct_domain = (predicted_domain == domain_labels).sum().item()\n",
    "                    iter_acc = correct / total\n",
    "                    iter_acc_domain = correct_domain / total\n",
    "                    if (net.UDA_classifier_on == True):\n",
    "                        tr_total += total\n",
    "                        tr_correct += correct\n",
    "                    else:\n",
    "                        tr_total_target += total\n",
    "                        tr_correct_target += correct\n",
    "                    tr_correct_domain += correct_domain\n",
    "                    tr_total_domain += total\n",
    "\n",
    "                    if i % verbose_interval == verbose_interval-1:\n",
    "                        if ddp_on == False or torch.distributed.get_rank() == 0:\n",
    "                            print(f'{epoch}-{i} training acc: {100 * iter_acc:.2f}%, lr={[f\"{lr}\" for lr in (param_group[\"lr\"] for param_group in optimizer.param_groups)]}, val_acc: {100 * val_acc_now:.2f}%')\n",
    "                    iter_acc_string = f'epoch-{epoch:<3} iter_acc:{100 * iter_acc:7.2f}%, lr={[f\"{lr:9.7f}\" for lr in (param_group[\"lr\"] for param_group in optimizer.param_groups)]}'\n",
    "                    iter_acc_string2 = f'epoch-{epoch:<3} lr={[f\"{lr:9.7f}\" for lr in (param_group[\"lr\"] for param_group in optimizer.param_groups)]}'\n",
    "                    ################################################################\n",
    "\n",
    "\n",
    "\n",
    "\n",
    "            iter_one_train_time_end = time.time()\n",
    "            elapsed_time = iter_one_train_time_end - iter_one_train_time_start  # 실행 시간 계산\n",
    "\n",
    "            if (i % verbose_interval == verbose_interval-1):\n",
    "                if ddp_on == False or torch.distributed.get_rank() == 0:\n",
    "                    print(f\"iter_one_train_time: {elapsed_time} seconds, last one_val_time: {elapsed_time_val} seconds\\n\")\n",
    "            \n",
    "            ##### validation ##################################################################################################################################\n",
    "            if i % validation_interval2 == validation_interval2-1 :\n",
    "                iter_one_val_time_start = time.time()\n",
    "                tr_acc = tr_correct/tr_total\n",
    "                tr_correct = 0\n",
    "                tr_total = 0\n",
    "                if UDA_on == True:\n",
    "                    tr_acc_target = tr_correct_target/tr_total_target\n",
    "                    tr_correct_target = 0\n",
    "                    tr_total_target = 0\n",
    "                    tr_acc_domain = tr_correct_domain/tr_total_domain\n",
    "                    tr_correct_domain = 0\n",
    "                    tr_total_domain = 0\n",
    "\n",
    "                domain_index = 0\n",
    "                val_loss_set = []\n",
    "                val_acc_now_set = []\n",
    "                while True:\n",
    "                    val_loss = 0\n",
    "                    correct_val = 0\n",
    "                    total_val = 0\n",
    "                    test_loader = test_loader_domain_set[domain_index]\n",
    "                    domain_index = domain_index + 1\n",
    "\n",
    "                    with torch.no_grad():\n",
    "                        net.eval() # eval 모드로 바꿔줘야함 \n",
    "                        for data_val in test_loader:\n",
    "                            ## data_val loading & semi-pre-processing ##########################################################\n",
    "                            if len(data_val) == 2:\n",
    "                                inputs_val, labels_val = data_val\n",
    "                                # 처리 로직 작성\n",
    "                            elif len(data_val) == 3:\n",
    "                                inputs_val, labels_val, x_len = data_val\n",
    "                                # print('x_len',x_len)\n",
    "                                # mask = padded_sequence_mask(x_len)\n",
    "                                # max_time_step = x_len.max()\n",
    "                                # min_time_step = x_len.min()\n",
    "                                # B, T, *spatial_dims = inputs_val.shape\n",
    "                            else:\n",
    "                                assert False, 'data_val length is not 2 or 3'\n",
    "\n",
    "                            if (which_data == 'DVS_CIFAR10' or which_data == 'DVS_GESTURE' or which_data == 'DVS_GESTURE_TONIC' or which_data == 'DVS_CIFAR10_2' or which_data == 'NMNIST' or which_data == 'NMNIST_TONIC' or which_data == 'N_CALTECH101' or which_data == 'n_tidigits' or which_data == 'heidelberg'):\n",
    "                                inputs_val = inputs_val.permute(1, 0, 2, 3, 4)\n",
    "                            elif rate_coding == True :\n",
    "                                inputs_val = spikegen.rate(inputs_val, num_steps=TIME)\n",
    "                            else :\n",
    "                                inputs_val = inputs_val.repeat(TIME, 1, 1, 1, 1)\n",
    "                            # inputs_val: [Time, Batch, Channel, Height, Width]  \n",
    "                            ###################################################################################################\n",
    "                            \n",
    "                            ## initial pooling #######################################################################\n",
    "                            if (initial_pooling > 1):\n",
    "                                pool = nn.MaxPool2d(kernel_size=2)\n",
    "                                num_pooling_layers = int(math.log2(initial_pooling))\n",
    "                                # Time, Batch, Channel 차원은 그대로 두고, Height, Width 차원에 대해서만 pooling 적용\n",
    "                                shape_temp = inputs_val.shape\n",
    "                                inputs_val = inputs_val.reshape(shape_temp[0]*shape_temp[1], shape_temp[2], shape_temp[3], shape_temp[4])\n",
    "                                for _ in range(num_pooling_layers):\n",
    "                                    inputs_val = pool(inputs_val)\n",
    "                                inputs_val = inputs_val.reshape(shape_temp[0], shape_temp[1], shape_temp[2], shape_temp[3]//initial_pooling, shape_temp[4]//initial_pooling)\n",
    "                            ## initial pooling #######################################################################\n",
    "\n",
    "                            ## temporal filtering ####################################################################\n",
    "                            shape_temp = inputs_val.shape\n",
    "                            if (temporal_filter > 1):\n",
    "                                slice_bucket = []\n",
    "                                for t_temp in range(TIME):\n",
    "                                    start = t_temp * temporal_filter\n",
    "                                    end = start + temporal_filter\n",
    "                                    slice_concat = torch.movedim(inputs_val[start:end], 0, 1).reshape(shape_temp[1],shape_temp[2],shape_temp[3],-1)\n",
    "                                    slice_bucket.append(slice_concat)\n",
    "                                inputs_val = torch.stack(slice_bucket, dim=0)\n",
    "                            ## temporal filtering ####################################################################\n",
    "                            \n",
    "                            inputs_val = inputs_val.to(device)\n",
    "                            labels_val = labels_val.to(device)\n",
    "                            real_batch = labels_val.size(0)\n",
    "                            \n",
    "                            ## DVS gesture에서 other label자리 매꾸기 ###############\n",
    "                            if (which_data == 'DVS_GESTURE'):\n",
    "                                labels_val[labels_val>2] -= 1\n",
    "                            #######################################################\n",
    "                            \n",
    "                            if merge_polarities == True:\n",
    "                                inputs_val = inputs_val[:,:,0,:,:]\n",
    "\n",
    "                            ## network 연산 시작 ############################################################################################################\n",
    "                            if single_step == False:\n",
    "                                outputs = net(inputs_val.permute(1, 0, 2, 3, 4)) #inputs_val: [Batch, Time, Channel, Height, Width]  \n",
    "                                val_loss_val += criterion(outputs, labels_val)/len(test_loader)\n",
    "                            else:\n",
    "                                outputs_all = []\n",
    "                                for t in range(TIME):\n",
    "                                    outputs = net(inputs_val[t])\n",
    "                                    if UDA_on == True:\n",
    "                                        outputs = outputs[0] # classifier의 output만 사용.\n",
    "                                    val_loss_temp = criterion(outputs, labels_val)\n",
    "                                    outputs_all.append(outputs.detach())\n",
    "                                    val_loss += (val_loss_temp.data/TIME)/len(test_loader)\n",
    "                                outputs_all = torch.stack(outputs_all, dim=1)\n",
    "                                outputs = outputs_all.mean(1)\n",
    "                            val_loss_set.append(val_loss)\n",
    "                            #################################################################################################################################\n",
    "\n",
    "                            _, predicted = torch.max(outputs.data, 1)\n",
    "                            total_val += real_batch\n",
    "                            assert real_batch == outputs.size(0), f'batch size is not same. real_batch: {real_batch}, outputs.size(0): {outputs.size(0)}'\n",
    "                            correct_val += (predicted == labels_val).sum().item()\n",
    "\n",
    "                        val_acc_now = correct_val / total_val\n",
    "                        # print(f'{epoch}-{i} validation acc: {100 * val_acc_now:.2f}%, lr={[f\"{lr:.10f}\" for lr in (param_group[\"lr\"] for param_group in optimizer.param_groups)]}')\n",
    "                        val_acc_now_set.append(val_acc_now)\n",
    "\n",
    "                    if domain_index == len(dvs_duration_domain) + 1:\n",
    "                        break\n",
    "\n",
    "                val_loss = val_loss_set[0]\n",
    "                val_acc_now = val_acc_now_set[0]\n",
    "\n",
    "                iter_one_val_time_end = time.time()\n",
    "                elapsed_time_val = iter_one_val_time_end - iter_one_val_time_start  # 실행 시간 계산\n",
    "                # print(f\"iter_one_val_time: {elapsed_time_val} seconds\")\n",
    "\n",
    "                # network save\n",
    "                if val_acc_best < val_acc_now:\n",
    "                    val_acc_best = val_acc_now\n",
    "                    if ddp_on == False or torch.distributed.get_rank() == 0:\n",
    "                        # wandb 키면 state_dict아닌거는 저장 안됨\n",
    "                        torch.save(net.state_dict(), f\"net_save/save_now_net_weights_{unique_name}.pth\")\n",
    "                        # torch.save(net, f\"net_save/save_now_net_{unique_name}.pth\")\n",
    "                        # torch.save(net.module.state_dict(), f\"net_save/save_now_net_weights2_{unique_name}.pth\")\n",
    "                        # torch.save(net.module, f\"net_save/save_now_net2_{unique_name}.pth\")\n",
    "                    no_val_best_growth_count = 0\n",
    "                else:\n",
    "                    no_val_best_growth_count = no_val_best_growth_count + 1\n",
    "\n",
    "                if tr_acc_best < tr_acc:\n",
    "                    tr_acc_best = tr_acc\n",
    "                    no_tr_best_growth_count = 0\n",
    "                else:\n",
    "                    no_tr_best_growth_count = no_tr_best_growth_count + 1\n",
    "\n",
    "                tr_epoch_loss = tr_epoch_loss_temp\n",
    "                tr_epoch_loss_temp = 0\n",
    "                tr_epoch_loss_target = tr_epoch_loss_temp_target \n",
    "                tr_epoch_loss_temp_target = 0\n",
    "                tr_epoch_loss_domain = tr_epoch_loss_temp_domain\n",
    "                tr_epoch_loss_temp_domain = 0\n",
    "                if (UDA_on == True):\n",
    "                    print(f\"Domain loss,acc: {tr_epoch_loss_domain:.6f}, {100 * tr_acc_domain:.2f}% Target domain: tr_loss-{tr_epoch_loss_target:.6f}, tr_acc-{100 * tr_acc_target:.2f}%\")\n",
    "\n",
    "                if DFA_toggle == True:\n",
    "                    DFA_flag = 1.0 - DFA_flag\n",
    "                    DFA_toggle = False\n",
    "\n",
    "                iter_of_val = True\n",
    "            ####################################################################################################################################################\n",
    "            \n",
    "            ## progress bar update ############################################################################################################\n",
    "            if ddp_on == False or torch.distributed.get_rank() == 0:\n",
    "                if iter_of_val == False:\n",
    "                    iterator.set_description(f\"{iter_acc_string}, iter_loss:{iter_loss:10.6f}, val_best:{100 * val_acc_best:7.2f}%\")  \n",
    "                else:\n",
    "                    iterator.set_description(f\"{iter_acc_string2}, tr/val_loss:{tr_epoch_loss:10.6f}/{val_loss:10.6f}, tr:{100 * tr_acc:7.2f}%, val:{100 * val_acc_now:7.2f}%, val_best:{100 * val_acc_best:7.2f}%\")  \n",
    "\n",
    "                    if len(dvs_duration_domain) > 0:\n",
    "                        dvs_duration_full = [(dvs_duration, dvs_clipping, denoise_on, TIME)] + dvs_duration_domain\n",
    "                        val_acc_now_set_best = [max(past, now) for past, now in zip(val_acc_now_set_past, val_acc_now_set)]\n",
    "                        print(\" | \".join(f\"{dvs_duration_full[d_count][0]:,}c{dvs_duration_full[d_count][1]}d{dvs_duration_full[d_count][2]}t{dvs_duration_full[d_count][3]}:{val_acc_now_set[d_count]*100:.2f}%:{val_acc_now_set_best[d_count]*100:.2f}%\" for d_count in range(len(val_acc_now_set))))\n",
    "                        val_acc_now_set_past = val_acc_now_set_best\n",
    "                    iter_of_val = False\n",
    "            \n",
    "            ####################################################################################################################################\n",
    "            \n",
    "            ## wandb logging ############################################################################################################\n",
    "            if ddp_on == False or torch.distributed.get_rank() == 0:\n",
    "                wandb.log({\"iter_acc\": iter_acc})\n",
    "                wandb.log({\"tr_acc\": tr_acc})\n",
    "                wandb.log({\"val_acc_now\": val_acc_now})\n",
    "                wandb.log({\"val_acc_best\": val_acc_best})\n",
    "                wandb.log({\"summary_val_acc\": val_acc_now})\n",
    "                wandb.log({\"epoch\": epoch})\n",
    "                wandb.log({\"DFA_flag\": DFA_flag}) # DFA mode 바뀌자 마자 바뀌는 게 아니고 validation 한번 했을 때 바뀜.\n",
    "                wandb.log({\"val_loss\": val_loss}) \n",
    "                wandb.log({\"tr_epoch_loss\": tr_epoch_loss})   \n",
    "                if len(val_acc_now_set) > 1:\n",
    "                    wandb.log({\"val_acc_now_set[1]\": val_acc_now_set[1]}) \n",
    "                    wandb.log({\"val_acc_now_set[1]_best\": val_acc_now_set_best[1]}) \n",
    "            ####################################################################################################################################\n",
    "            \n",
    "            \n",
    "            ## accuray 로컬에 저장 하기 위한 코드 #####################################################################################\n",
    "            iter_acc_array = np.append(iter_acc_array, iter_acc)\n",
    "            tr_acc_array = np.append(tr_acc_array, tr_acc)\n",
    "            val_acc_now_array = np.append(val_acc_now_array, val_acc_now)\n",
    "            base_name = f'{current_time}'\n",
    "            ####################################################################################################################\n",
    "            \n",
    "            iter_acc_file_name_time = f'result_save/{base_name}_iter_acc_array_{unique_name}.npy'\n",
    "            tr_acc_file_name_time = f'result_save/{base_name}_tr_acc_array_{unique_name}.npy'\n",
    "            val_acc_file_name_time = f'result_save/{base_name}_val_acc_now_array_{unique_name}.npy'\n",
    "            hyperparameters_file_name_time = f'result_save/{base_name}_hyperparameters_{unique_name}.json'\n",
    "\n",
    "            hyperparameters['current epoch'] = epoch\n",
    "\n",
    "            ### accuracy 세이브: 덮어쓰기 하기 싫으면 주석 풀어서 사용 (시간마다 새로 쓰기) 비추천 ########################\n",
    "            # if ddp_on == False or torch.distributed.get_rank() == 0:\n",
    "            #     np.save(iter_acc_file_name_time, iter_acc_array)\n",
    "\n",
    "\n",
    "            #     np.save(tr_acc_file_name_time, iter_acc_array)\n",
    "            #     np.save(val_acc_file_name_time, val_acc_now_array)\n",
    "            #     with open(hyperparameters_file_name_time, 'w') as f:\n",
    "            #         json.dump(hyperparameters, f, indent=4)\n",
    "            #########################################################################################################\n",
    "\n",
    "            ## accuracy 세이브 ###########################################################################################\n",
    "            if ddp_on == False or torch.distributed.get_rank() == 0:\n",
    "                np.save(f'result_save/iter_acc_array_{unique_name}.npy', iter_acc_array)\n",
    "                np.save(f'result_save/tr_acc_array_{unique_name}.npy', tr_acc_array)\n",
    "                np.save(f'result_save/val_acc_now_array_{unique_name}.npy', val_acc_now_array)\n",
    "                with open(f'result_save/hyperparameters_{unique_name}.json', 'w') as f:\n",
    "                    json.dump(hyperparameters, f, indent=4)\n",
    "            ##########################################################################################################\n",
    "            # iterator.update(1)\n",
    "        ###### ITERATION END ##########################################################################################################\n",
    "                \n",
    "\n",
    "        ## scheduler update #############################################################################\n",
    "        if (scheduler_name != 'no'):\n",
    "            if (scheduler_name == 'ReduceLROnPlateau'):\n",
    "                scheduler.step(val_loss)\n",
    "            else:\n",
    "                scheduler.step()\n",
    "        #################################################################################################\n",
    "        \n",
    "        # 실행 시간 계산\n",
    "        epoch_time_end = time.time()\n",
    "        # print(f\"epoch_time: {epoch_time_end - epoch_start_time} seconds\\n\") \n",
    "    #======== EPOCH END ==========================================================================================\n"
   ]
  },
  {
   "cell_type": "code",
   "execution_count": 5,
   "metadata": {},
   "outputs": [
    {
     "name": "stderr",
     "output_type": "stream",
     "text": [
      "Failed to detect the name of this notebook, you can set it manually with the WANDB_NOTEBOOK_NAME environment variable to enable code saving.\n",
      "\u001b[34m\u001b[1mwandb\u001b[0m: Currently logged in as: \u001b[33mbhkim003\u001b[0m (\u001b[33mbhkim003-seoul-national-university\u001b[0m). Use \u001b[1m`wandb login --relogin`\u001b[0m to force relogin\n"
     ]
    },
    {
     "data": {
      "text/html": [
       "wandb version 0.18.5 is available!  To upgrade, please run:\n",
       " $ pip install wandb --upgrade"
      ],
      "text/plain": [
       "<IPython.core.display.HTML object>"
      ]
     },
     "metadata": {},
     "output_type": "display_data"
    },
    {
     "data": {
      "text/html": [
       "Tracking run with wandb version 0.17.5"
      ],
      "text/plain": [
       "<IPython.core.display.HTML object>"
      ]
     },
     "metadata": {},
     "output_type": "display_data"
    },
    {
     "data": {
      "text/html": [
       "Run data is saved locally in <code>/nfs/home/bhkim003/github_folder/ByeonghyeonKim/my_snn/wandb/run-20241023_030710-hvm9tp2d</code>"
      ],
      "text/plain": [
       "<IPython.core.display.HTML object>"
      ]
     },
     "metadata": {},
     "output_type": "display_data"
    },
    {
     "data": {
      "text/html": [
       "Syncing run <strong><a href='https://wandb.ai/bhkim003-seoul-national-university/my_snn%20main/runs/hvm9tp2d' target=\"_blank\">youthful-planet-6630</a></strong> to <a href='https://wandb.ai/bhkim003-seoul-national-university/my_snn%20main' target=\"_blank\">Weights & Biases</a> (<a href='https://wandb.me/run' target=\"_blank\">docs</a>)<br/>"
      ],
      "text/plain": [
       "<IPython.core.display.HTML object>"
      ]
     },
     "metadata": {},
     "output_type": "display_data"
    },
    {
     "data": {
      "text/html": [
       " View project at <a href='https://wandb.ai/bhkim003-seoul-national-university/my_snn%20main' target=\"_blank\">https://wandb.ai/bhkim003-seoul-national-university/my_snn%20main</a>"
      ],
      "text/plain": [
       "<IPython.core.display.HTML object>"
      ]
     },
     "metadata": {},
     "output_type": "display_data"
    },
    {
     "data": {
      "text/html": [
       " View run at <a href='https://wandb.ai/bhkim003-seoul-national-university/my_snn%20main/runs/hvm9tp2d' target=\"_blank\">https://wandb.ai/bhkim003-seoul-national-university/my_snn%20main/runs/hvm9tp2d</a>"
      ],
      "text/plain": [
       "<IPython.core.display.HTML object>"
      ]
     },
     "metadata": {},
     "output_type": "display_data"
    },
    {
     "name": "stdout",
     "output_type": "stream",
     "text": [
      "dataset_hash = 792a1f1e2c737d3b5e7bf29b3ff6991e\n",
      "cache path exists\n",
      "dataset_hash = 792a1f1e2c737d3b5e7bf29b3ff6991e\n",
      "cache path exists\n",
      "dataset_hash = 7a37155e73dfde145613403f4b7d2262\n",
      "cache path exists\n",
      "\n",
      " src img count 48000 trg img count 12000 \n",
      "\n",
      "dataset_hash = 7a37155e73dfde145613403f4b7d2262\n",
      "cache path exists\n",
      "In UDA mode, No parameter number calculation yet.\n",
      "\n",
      "device ==> cuda\n",
      "\n",
      "DataParallel(\n",
      "  (module): MY_SNN_FC_sstep(\n",
      "    (UDA_feature_layers): MY_Sequential(\n",
      "      (0): DimChanger_for_FC_sstep()\n",
      "      (1): SYNAPSE_FC_trace_sstep()\n",
      "      (2): LIF_layer_trace_sstep()\n",
      "      (3): Feedback_Receiver()\n",
      "      (DFA_top): Top_Gradient()\n",
      "    )\n",
      "    (UDA_classifier_layers): MY_Sequential(\n",
      "      (0): SYNAPSE_FC_trace_sstep()\n",
      "      (1): LIF_layer_trace_sstep()\n",
      "      (2): Feedback_Receiver()\n",
      "      (3): SYNAPSE_FC_trace_sstep()\n",
      "      (DFA_top): Top_Gradient()\n",
      "    )\n",
      "    (UDA_adapter_layers): MY_Sequential(\n",
      "      (0): Gradient_Reversal_Layer()\n",
      "      (1): SYNAPSE_FC_trace_sstep()\n",
      "      (2): LIF_layer_trace_sstep()\n",
      "      (3): Feedback_Receiver()\n",
      "      (4): SYNAPSE_FC_trace_sstep()\n",
      "      (DFA_top): Top_Gradient()\n",
      "    )\n",
      "  )\n",
      ")\n",
      "==================================================\n",
      "My Num of PARAMS: 0, system's param_num : 198,612\n",
      "Memory: 0.00MiB at 32-bit\n",
      "==================================================\n"
     ]
    },
    {
     "name": "stderr",
     "output_type": "stream",
     "text": [
      "epoch-0   lr=['0.0010000'], tr/val_loss:  1.894368/  0.778873, tr:  62.22%, val:  89.79%, val_best:  89.79%: 100%|██████████| 375/375 [01:11<00:00,  5.23it/s]"
     ]
    },
    {
     "name": "stdout",
     "output_type": "stream",
     "text": [
      "Domain loss,acc: 2.093253, 39.66% Target domain: tr_loss-2.888792, tr_acc-11.18%\n",
      "4,000c1dFalset10:89.79%:89.79% | 1,000c1dFalset10:14.58%:14.58%\n"
     ]
    },
    {
     "name": "stderr",
     "output_type": "stream",
     "text": [
      "\n",
      "epoch-1   lr=['0.0010000'], tr/val_loss:  0.833571/  0.543913, tr:  90.89%, val:  93.05%, val_best:  93.05%: 100%|██████████| 375/375 [01:11<00:00,  5.27it/s]"
     ]
    },
    {
     "name": "stdout",
     "output_type": "stream",
     "text": [
      "Domain loss,acc: 1.237315, 26.38% Target domain: tr_loss-2.852290, tr_acc-18.64%\n",
      "4,000c1dFalset10:93.05%:93.05% | 1,000c1dFalset10:30.46%:30.46%\n"
     ]
    },
    {
     "name": "stderr",
     "output_type": "stream",
     "text": [
      "\n",
      "epoch-2   lr=['0.0010000'], tr/val_loss:  0.651118/  0.458380, tr:  93.32%, val:  94.27%, val_best:  94.27%: 100%|██████████| 375/375 [01:10<00:00,  5.30it/s]"
     ]
    },
    {
     "name": "stdout",
     "output_type": "stream",
     "text": [
      "Domain loss,acc: 1.087278, 28.54% Target domain: tr_loss-2.831919, tr_acc-32.15%\n",
      "4,000c1dFalset10:94.27%:94.27% | 1,000c1dFalset10:41.72%:41.72%\n"
     ]
    },
    {
     "name": "stderr",
     "output_type": "stream",
     "text": [
      "\n",
      "epoch-3   lr=['0.0010000'], tr/val_loss:  0.565958/  0.410775, tr:  94.41%, val:  95.06%, val_best:  95.06%: 100%|██████████| 375/375 [01:11<00:00,  5.21it/s]"
     ]
    },
    {
     "name": "stdout",
     "output_type": "stream",
     "text": [
      "Domain loss,acc: 1.020044, 29.95% Target domain: tr_loss-2.836386, tr_acc-39.18%\n",
      "4,000c1dFalset10:95.06%:95.06% | 1,000c1dFalset10:45.42%:45.42%\n"
     ]
    },
    {
     "name": "stderr",
     "output_type": "stream",
     "text": [
      "\n",
      "epoch-4   lr=['0.0010000'], tr/val_loss:  0.513909/  0.384047, tr:  95.05%, val:  95.41%, val_best:  95.41%: 100%|██████████| 375/375 [01:10<00:00,  5.34it/s]"
     ]
    },
    {
     "name": "stdout",
     "output_type": "stream",
     "text": [
      "Domain loss,acc: 0.976729, 31.59% Target domain: tr_loss-2.828010, tr_acc-43.63%\n",
      "4,000c1dFalset10:95.41%:95.41% | 1,000c1dFalset10:47.87%:47.87%\n"
     ]
    },
    {
     "name": "stderr",
     "output_type": "stream",
     "text": [
      "\n",
      "epoch-5   lr=['0.0010000'], tr/val_loss:  0.480013/  0.369392, tr:  95.49%, val:  95.75%, val_best:  95.75%: 100%|██████████| 375/375 [01:11<00:00,  5.27it/s]"
     ]
    },
    {
     "name": "stdout",
     "output_type": "stream",
     "text": [
      "Domain loss,acc: 0.952470, 33.03% Target domain: tr_loss-2.842299, tr_acc-45.86%\n",
      "4,000c1dFalset10:95.75%:95.75% | 1,000c1dFalset10:51.32%:51.32%\n"
     ]
    },
    {
     "name": "stderr",
     "output_type": "stream",
     "text": [
      "\n",
      "epoch-6   lr=['0.0010000'], tr/val_loss:  0.455856/  0.350822, tr:  95.77%, val:  95.87%, val_best:  95.87%: 100%|██████████| 375/375 [01:12<00:00,  5.16it/s]"
     ]
    },
    {
     "name": "stdout",
     "output_type": "stream",
     "text": [
      "Domain loss,acc: 0.933049, 32.91% Target domain: tr_loss-2.841822, tr_acc-47.89%\n",
      "4,000c1dFalset10:95.87%:95.87% | 1,000c1dFalset10:54.00%:54.00%\n"
     ]
    },
    {
     "name": "stderr",
     "output_type": "stream",
     "text": [
      "\n",
      "epoch-7   lr=['0.0010000'], tr/val_loss:  0.435814/  0.334948, tr:  96.06%, val:  96.15%, val_best:  96.15%: 100%|██████████| 375/375 [01:10<00:00,  5.30it/s]"
     ]
    },
    {
     "name": "stdout",
     "output_type": "stream",
     "text": [
      "Domain loss,acc: 0.918390, 33.65% Target domain: tr_loss-2.848697, tr_acc-49.08%\n",
      "4,000c1dFalset10:96.15%:96.15% | 1,000c1dFalset10:53.71%:54.00%\n"
     ]
    },
    {
     "name": "stderr",
     "output_type": "stream",
     "text": [
      "\n",
      "epoch-8   lr=['0.0010000'], tr/val_loss:  0.420075/  0.327372, tr:  96.20%, val:  96.25%, val_best:  96.25%: 100%|██████████| 375/375 [01:12<00:00,  5.20it/s]"
     ]
    },
    {
     "name": "stdout",
     "output_type": "stream",
     "text": [
      "Domain loss,acc: 0.906665, 33.19% Target domain: tr_loss-2.853025, tr_acc-50.42%\n",
      "4,000c1dFalset10:96.25%:96.25% | 1,000c1dFalset10:54.58%:54.58%\n"
     ]
    },
    {
     "name": "stderr",
     "output_type": "stream",
     "text": [
      "\n",
      "epoch-9   lr=['0.0010000'], tr/val_loss:  0.406571/  0.322507, tr:  96.35%, val:  96.15%, val_best:  96.25%: 100%|██████████| 375/375 [01:14<00:00,  5.04it/s]"
     ]
    },
    {
     "name": "stdout",
     "output_type": "stream",
     "text": [
      "Domain loss,acc: 0.897209, 32.98% Target domain: tr_loss-2.859761, tr_acc-50.90%\n",
      "4,000c1dFalset10:96.15%:96.25% | 1,000c1dFalset10:54.17%:54.58%\n"
     ]
    },
    {
     "name": "stderr",
     "output_type": "stream",
     "text": [
      "\n",
      "epoch-10  lr=['0.0010000'], tr/val_loss:  0.393457/  0.313534, tr:  96.53%, val:  96.54%, val_best:  96.54%: 100%|██████████| 375/375 [01:13<00:00,  5.13it/s]"
     ]
    },
    {
     "name": "stdout",
     "output_type": "stream",
     "text": [
      "Domain loss,acc: 0.890725, 32.74% Target domain: tr_loss-2.879797, tr_acc-51.83%\n",
      "4,000c1dFalset10:96.54%:96.54% | 1,000c1dFalset10:55.57%:55.57%\n"
     ]
    },
    {
     "name": "stderr",
     "output_type": "stream",
     "text": [
      "\n",
      "epoch-11  lr=['0.0010000'], tr/val_loss:  0.384729/  0.304840, tr:  96.66%, val:  96.61%, val_best:  96.61%: 100%|██████████| 375/375 [01:14<00:00,  5.02it/s]"
     ]
    },
    {
     "name": "stdout",
     "output_type": "stream",
     "text": [
      "Domain loss,acc: 0.882561, 32.33% Target domain: tr_loss-2.873893, tr_acc-52.22%\n",
      "4,000c1dFalset10:96.61%:96.61% | 1,000c1dFalset10:56.05%:56.05%\n"
     ]
    },
    {
     "name": "stderr",
     "output_type": "stream",
     "text": [
      "\n",
      "epoch-12  lr=['0.0010000'], tr/val_loss:  0.375195/  0.299006, tr:  96.76%, val:  96.66%, val_best:  96.66%: 100%|██████████| 375/375 [01:14<00:00,  5.03it/s]"
     ]
    },
    {
     "name": "stdout",
     "output_type": "stream",
     "text": [
      "Domain loss,acc: 0.879751, 33.04% Target domain: tr_loss-2.897975, tr_acc-52.62%\n",
      "4,000c1dFalset10:96.66%:96.66% | 1,000c1dFalset10:56.05%:56.05%\n"
     ]
    },
    {
     "name": "stderr",
     "output_type": "stream",
     "text": [
      "\n",
      "epoch-13  lr=['0.0010000'], tr/val_loss:  0.366752/  0.296558, tr:  96.88%, val:  96.77%, val_best:  96.77%: 100%|██████████| 375/375 [01:15<00:00,  4.98it/s]"
     ]
    },
    {
     "name": "stdout",
     "output_type": "stream",
     "text": [
      "Domain loss,acc: 0.874908, 32.33% Target domain: tr_loss-2.907531, tr_acc-52.44%\n",
      "4,000c1dFalset10:96.77%:96.77% | 1,000c1dFalset10:58.25%:58.25%\n"
     ]
    },
    {
     "name": "stderr",
     "output_type": "stream",
     "text": [
      "\n",
      "epoch-14  lr=['0.0010000'], tr/val_loss:  0.360786/  0.293673, tr:  96.91%, val:  96.91%, val_best:  96.91%: 100%|██████████| 375/375 [01:13<00:00,  5.09it/s]"
     ]
    },
    {
     "name": "stdout",
     "output_type": "stream",
     "text": [
      "Domain loss,acc: 0.867285, 33.20% Target domain: tr_loss-2.893281, tr_acc-53.94%\n",
      "4,000c1dFalset10:96.91%:96.91% | 1,000c1dFalset10:59.79%:59.79%\n"
     ]
    },
    {
     "name": "stderr",
     "output_type": "stream",
     "text": [
      "\n",
      "epoch-15  lr=['0.0010000'], tr/val_loss:  0.353243/  0.288375, tr:  97.05%, val:  96.95%, val_best:  96.95%: 100%|██████████| 375/375 [01:16<00:00,  4.93it/s]"
     ]
    },
    {
     "name": "stdout",
     "output_type": "stream",
     "text": [
      "Domain loss,acc: 0.861531, 32.80% Target domain: tr_loss-2.894686, tr_acc-54.27%\n",
      "4,000c1dFalset10:96.95%:96.95% | 1,000c1dFalset10:57.36%:59.79%\n"
     ]
    },
    {
     "name": "stderr",
     "output_type": "stream",
     "text": [
      "\n",
      "epoch-16  lr=['0.0010000'], tr/val_loss:  0.347066/  0.285388, tr:  97.10%, val:  96.81%, val_best:  96.95%: 100%|██████████| 375/375 [01:15<00:00,  4.95it/s]"
     ]
    },
    {
     "name": "stdout",
     "output_type": "stream",
     "text": [
      "Domain loss,acc: 0.861484, 32.71% Target domain: tr_loss-2.919160, tr_acc-54.17%\n",
      "4,000c1dFalset10:96.81%:96.95% | 1,000c1dFalset10:60.67%:60.67%\n"
     ]
    },
    {
     "name": "stderr",
     "output_type": "stream",
     "text": [
      "\n",
      "epoch-17  lr=['0.0010000'], tr/val_loss:  0.341409/  0.279959, tr:  97.21%, val:  96.91%, val_best:  96.95%: 100%|██████████| 375/375 [01:15<00:00,  4.96it/s]"
     ]
    },
    {
     "name": "stdout",
     "output_type": "stream",
     "text": [
      "Domain loss,acc: 0.857233, 32.86% Target domain: tr_loss-2.920527, tr_acc-54.37%\n",
      "4,000c1dFalset10:96.91%:96.95% | 1,000c1dFalset10:61.32%:61.32%\n"
     ]
    },
    {
     "name": "stderr",
     "output_type": "stream",
     "text": [
      "\n",
      "epoch-18  lr=['0.0010000'], tr/val_loss:  0.335778/  0.276260, tr:  97.29%, val:  96.87%, val_best:  96.95%: 100%|██████████| 375/375 [01:16<00:00,  4.92it/s]"
     ]
    },
    {
     "name": "stdout",
     "output_type": "stream",
     "text": [
      "Domain loss,acc: 0.854906, 32.60% Target domain: tr_loss-2.931417, tr_acc-54.67%\n",
      "4,000c1dFalset10:96.87%:96.95% | 1,000c1dFalset10:58.96%:61.32%\n"
     ]
    },
    {
     "name": "stderr",
     "output_type": "stream",
     "text": [
      "\n",
      "epoch-19  lr=['0.0010000'], tr/val_loss:  0.330261/  0.276478, tr:  97.34%, val:  96.87%, val_best:  96.95%: 100%|██████████| 375/375 [01:14<00:00,  5.04it/s]"
     ]
    },
    {
     "name": "stdout",
     "output_type": "stream",
     "text": [
      "Domain loss,acc: 0.847750, 32.57% Target domain: tr_loss-2.917707, tr_acc-55.48%\n",
      "4,000c1dFalset10:96.87%:96.95% | 1,000c1dFalset10:56.55%:61.32%\n"
     ]
    },
    {
     "name": "stderr",
     "output_type": "stream",
     "text": [
      "\n",
      "epoch-20  lr=['0.0010000'], tr/val_loss:  0.325426/  0.271340, tr:  97.40%, val:  97.12%, val_best:  97.12%: 100%|██████████| 375/375 [01:15<00:00,  4.99it/s]"
     ]
    },
    {
     "name": "stdout",
     "output_type": "stream",
     "text": [
      "Domain loss,acc: 0.848485, 32.56% Target domain: tr_loss-2.940723, tr_acc-55.08%\n",
      "4,000c1dFalset10:97.12%:97.12% | 1,000c1dFalset10:60.17%:61.32%\n"
     ]
    },
    {
     "name": "stderr",
     "output_type": "stream",
     "text": [
      "\n",
      "epoch-21  lr=['0.0010000'], tr/val_loss:  0.322073/  0.267685, tr:  97.48%, val:  97.05%, val_best:  97.12%: 100%|██████████| 375/375 [01:14<00:00,  5.06it/s]"
     ]
    },
    {
     "name": "stdout",
     "output_type": "stream",
     "text": [
      "Domain loss,acc: 0.846488, 32.61% Target domain: tr_loss-2.944151, tr_acc-55.32%\n",
      "4,000c1dFalset10:97.05%:97.12% | 1,000c1dFalset10:60.48%:61.32%\n"
     ]
    },
    {
     "name": "stderr",
     "output_type": "stream",
     "text": [
      "\n",
      "epoch-22  lr=['0.0010000'], tr/val_loss:  0.317691/  0.269203, tr:  97.55%, val:  97.01%, val_best:  97.12%: 100%|██████████| 375/375 [01:16<00:00,  4.90it/s]"
     ]
    },
    {
     "name": "stdout",
     "output_type": "stream",
     "text": [
      "Domain loss,acc: 0.845345, 32.18% Target domain: tr_loss-2.955961, tr_acc-55.04%\n",
      "4,000c1dFalset10:97.01%:97.12% | 1,000c1dFalset10:61.54%:61.54%\n"
     ]
    },
    {
     "name": "stderr",
     "output_type": "stream",
     "text": [
      "\n",
      "epoch-23  lr=['0.0010000'], tr/val_loss:  0.313450/  0.264485, tr:  97.65%, val:  97.13%, val_best:  97.13%: 100%|██████████| 375/375 [01:15<00:00,  4.97it/s]"
     ]
    },
    {
     "name": "stdout",
     "output_type": "stream",
     "text": [
      "Domain loss,acc: 0.842056, 31.90% Target domain: tr_loss-2.956482, tr_acc-55.33%\n",
      "4,000c1dFalset10:97.13%:97.13% | 1,000c1dFalset10:59.76%:61.54%\n"
     ]
    },
    {
     "name": "stderr",
     "output_type": "stream",
     "text": [
      "\n",
      "epoch-24  lr=['0.0010000'], tr/val_loss:  0.310758/  0.265412, tr:  97.59%, val:  97.14%, val_best:  97.14%: 100%|██████████| 375/375 [01:17<00:00,  4.84it/s]"
     ]
    },
    {
     "name": "stdout",
     "output_type": "stream",
     "text": [
      "Domain loss,acc: 0.843767, 32.02% Target domain: tr_loss-2.975803, tr_acc-55.27%\n",
      "4,000c1dFalset10:97.14%:97.14% | 1,000c1dFalset10:60.87%:61.54%\n"
     ]
    },
    {
     "name": "stderr",
     "output_type": "stream",
     "text": [
      "\n",
      "epoch-25  lr=['0.0010000'], tr/val_loss:  0.306511/  0.263164, tr:  97.66%, val:  97.08%, val_best:  97.14%: 100%|██████████| 375/375 [01:16<00:00,  4.91it/s]"
     ]
    },
    {
     "name": "stdout",
     "output_type": "stream",
     "text": [
      "Domain loss,acc: 0.838952, 32.22% Target domain: tr_loss-2.968714, tr_acc-55.57%\n",
      "4,000c1dFalset10:97.08%:97.14% | 1,000c1dFalset10:62.01%:62.01%\n"
     ]
    },
    {
     "name": "stderr",
     "output_type": "stream",
     "text": [
      "\n",
      "epoch-26  lr=['0.0010000'], tr/val_loss:  0.303970/  0.262457, tr:  97.74%, val:  97.13%, val_best:  97.14%: 100%|██████████| 375/375 [01:15<00:00,  4.96it/s]"
     ]
    },
    {
     "name": "stdout",
     "output_type": "stream",
     "text": [
      "Domain loss,acc: 0.835555, 32.01% Target domain: tr_loss-2.961893, tr_acc-56.31%\n",
      "4,000c1dFalset10:97.13%:97.14% | 1,000c1dFalset10:61.40%:62.01%\n"
     ]
    },
    {
     "name": "stderr",
     "output_type": "stream",
     "text": [
      "\n",
      "epoch-27  lr=['0.0010000'], tr/val_loss:  0.300723/  0.263278, tr:  97.79%, val:  97.09%, val_best:  97.14%: 100%|██████████| 375/375 [01:16<00:00,  4.92it/s]"
     ]
    },
    {
     "name": "stdout",
     "output_type": "stream",
     "text": [
      "Domain loss,acc: 0.831287, 32.27% Target domain: tr_loss-2.953541, tr_acc-56.60%\n",
      "4,000c1dFalset10:97.09%:97.14% | 1,000c1dFalset10:60.19%:62.01%\n"
     ]
    },
    {
     "name": "stderr",
     "output_type": "stream",
     "text": [
      "\n",
      "epoch-28  lr=['0.0010000'], tr/val_loss:  0.297021/  0.261454, tr:  97.81%, val:  97.13%, val_best:  97.14%: 100%|██████████| 375/375 [01:16<00:00,  4.90it/s]"
     ]
    },
    {
     "name": "stdout",
     "output_type": "stream",
     "text": [
      "Domain loss,acc: 0.831574, 32.20% Target domain: tr_loss-2.969788, tr_acc-56.38%\n",
      "4,000c1dFalset10:97.13%:97.14% | 1,000c1dFalset10:61.62%:62.01%\n"
     ]
    },
    {
     "name": "stderr",
     "output_type": "stream",
     "text": [
      "\n",
      "epoch-29  lr=['0.0010000'], tr/val_loss:  0.295282/  0.257768, tr:  97.86%, val:  97.30%, val_best:  97.30%: 100%|██████████| 375/375 [01:14<00:00,  5.03it/s]"
     ]
    },
    {
     "name": "stdout",
     "output_type": "stream",
     "text": [
      "Domain loss,acc: 0.831327, 31.86% Target domain: tr_loss-2.975509, tr_acc-56.39%\n",
      "4,000c1dFalset10:97.30%:97.30% | 1,000c1dFalset10:63.95%:63.95%\n"
     ]
    },
    {
     "name": "stderr",
     "output_type": "stream",
     "text": [
      "\n",
      "epoch-30  lr=['0.0010000'], tr/val_loss:  0.291917/  0.259285, tr:  97.89%, val:  97.26%, val_best:  97.30%: 100%|██████████| 375/375 [01:15<00:00,  4.97it/s]"
     ]
    },
    {
     "name": "stdout",
     "output_type": "stream",
     "text": [
      "Domain loss,acc: 0.826569, 32.71% Target domain: tr_loss-2.965177, tr_acc-56.81%\n",
      "4,000c1dFalset10:97.26%:97.30% | 1,000c1dFalset10:59.54%:63.95%\n"
     ]
    },
    {
     "name": "stderr",
     "output_type": "stream",
     "text": [
      "\n",
      "epoch-31  lr=['0.0010000'], tr/val_loss:  0.288759/  0.256997, tr:  97.96%, val:  97.27%, val_best:  97.30%: 100%|██████████| 375/375 [01:16<00:00,  4.87it/s]"
     ]
    },
    {
     "name": "stdout",
     "output_type": "stream",
     "text": [
      "Domain loss,acc: 0.827941, 32.86% Target domain: tr_loss-2.984671, tr_acc-56.69%\n",
      "4,000c1dFalset10:97.27%:97.30% | 1,000c1dFalset10:61.23%:63.95%\n"
     ]
    },
    {
     "name": "stderr",
     "output_type": "stream",
     "text": [
      "\n",
      "epoch-32  lr=['0.0010000'], tr/val_loss:  0.287152/  0.253569, tr:  97.97%, val:  97.49%, val_best:  97.49%: 100%|██████████| 375/375 [01:16<00:00,  4.89it/s]"
     ]
    },
    {
     "name": "stdout",
     "output_type": "stream",
     "text": [
      "Domain loss,acc: 0.822489, 33.00% Target domain: tr_loss-2.963837, tr_acc-57.52%\n",
      "4,000c1dFalset10:97.49%:97.49% | 1,000c1dFalset10:62.32%:63.95%\n"
     ]
    },
    {
     "name": "stderr",
     "output_type": "stream",
     "text": [
      "\n",
      "epoch-33  lr=['0.0010000'], tr/val_loss:  0.284701/  0.252518, tr:  98.01%, val:  97.36%, val_best:  97.49%: 100%|██████████| 375/375 [01:15<00:00,  4.97it/s]"
     ]
    },
    {
     "name": "stdout",
     "output_type": "stream",
     "text": [
      "Domain loss,acc: 0.823214, 33.07% Target domain: tr_loss-2.977265, tr_acc-57.21%\n",
      "4,000c1dFalset10:97.36%:97.49% | 1,000c1dFalset10:61.78%:63.95%\n"
     ]
    },
    {
     "name": "stderr",
     "output_type": "stream",
     "text": [
      "\n",
      "epoch-34  lr=['0.0010000'], tr/val_loss:  0.282341/  0.253680, tr:  97.99%, val:  97.34%, val_best:  97.49%: 100%|██████████| 375/375 [01:16<00:00,  4.90it/s]"
     ]
    },
    {
     "name": "stdout",
     "output_type": "stream",
     "text": [
      "Domain loss,acc: 0.815625, 33.65% Target domain: tr_loss-2.948765, tr_acc-57.91%\n",
      "4,000c1dFalset10:97.34%:97.49% | 1,000c1dFalset10:62.87%:63.95%\n"
     ]
    },
    {
     "name": "stderr",
     "output_type": "stream",
     "text": [
      "\n",
      "epoch-35  lr=['0.0010000'], tr/val_loss:  0.280201/  0.251507, tr:  98.03%, val:  97.27%, val_best:  97.49%: 100%|██████████| 375/375 [01:15<00:00,  4.99it/s]"
     ]
    },
    {
     "name": "stdout",
     "output_type": "stream",
     "text": [
      "Domain loss,acc: 0.819743, 33.07% Target domain: tr_loss-2.977909, tr_acc-57.28%\n",
      "4,000c1dFalset10:97.27%:97.49% | 1,000c1dFalset10:63.17%:63.95%\n"
     ]
    },
    {
     "name": "stderr",
     "output_type": "stream",
     "text": [
      "\n",
      "epoch-36  lr=['0.0010000'], tr/val_loss:  0.278054/  0.248435, tr:  98.05%, val:  97.40%, val_best:  97.49%: 100%|██████████| 375/375 [01:17<00:00,  4.85it/s]"
     ]
    },
    {
     "name": "stdout",
     "output_type": "stream",
     "text": [
      "Domain loss,acc: 0.814863, 33.34% Target domain: tr_loss-2.962100, tr_acc-57.77%\n",
      "4,000c1dFalset10:97.40%:97.49% | 1,000c1dFalset10:59.08%:63.95%\n"
     ]
    },
    {
     "name": "stderr",
     "output_type": "stream",
     "text": [
      "\n",
      "epoch-37  lr=['0.0010000'], tr/val_loss:  0.275688/  0.247383, tr:  98.10%, val:  97.49%, val_best:  97.49%: 100%|██████████| 375/375 [01:16<00:00,  4.89it/s]"
     ]
    },
    {
     "name": "stdout",
     "output_type": "stream",
     "text": [
      "Domain loss,acc: 0.817476, 33.20% Target domain: tr_loss-2.984627, tr_acc-57.40%\n",
      "4,000c1dFalset10:97.49%:97.49% | 1,000c1dFalset10:65.67%:65.67%\n"
     ]
    },
    {
     "name": "stderr",
     "output_type": "stream",
     "text": [
      "\n",
      "epoch-38  lr=['0.0010000'], tr/val_loss:  0.273602/  0.249434, tr:  98.15%, val:  97.39%, val_best:  97.49%: 100%|██████████| 375/375 [01:15<00:00,  4.95it/s]"
     ]
    },
    {
     "name": "stdout",
     "output_type": "stream",
     "text": [
      "Domain loss,acc: 0.813549, 33.70% Target domain: tr_loss-2.973342, tr_acc-57.90%\n",
      "4,000c1dFalset10:97.39%:97.49% | 1,000c1dFalset10:64.65%:65.67%\n"
     ]
    },
    {
     "name": "stderr",
     "output_type": "stream",
     "text": [
      "\n",
      "epoch-39  lr=['0.0010000'], tr/val_loss:  0.271921/  0.246422, tr:  98.12%, val:  97.44%, val_best:  97.49%: 100%|██████████| 375/375 [01:15<00:00,  4.98it/s]"
     ]
    },
    {
     "name": "stdout",
     "output_type": "stream",
     "text": [
      "Domain loss,acc: 0.804500, 33.55% Target domain: tr_loss-2.934813, tr_acc-58.47%\n",
      "4,000c1dFalset10:97.44%:97.49% | 1,000c1dFalset10:59.88%:65.67%\n"
     ]
    },
    {
     "name": "stderr",
     "output_type": "stream",
     "text": [
      "\n",
      "epoch-40  lr=['0.0010000'], tr/val_loss:  0.269720/  0.247768, tr:  98.15%, val:  97.42%, val_best:  97.49%: 100%|██████████| 375/375 [01:16<00:00,  4.93it/s]"
     ]
    },
    {
     "name": "stdout",
     "output_type": "stream",
     "text": [
      "Domain loss,acc: 0.812571, 33.46% Target domain: tr_loss-2.983976, tr_acc-57.68%\n",
      "4,000c1dFalset10:97.42%:97.49% | 1,000c1dFalset10:62.31%:65.67%\n"
     ]
    },
    {
     "name": "stderr",
     "output_type": "stream",
     "text": [
      "\n",
      "epoch-41  lr=['0.0010000'], tr/val_loss:  0.267397/  0.245838, tr:  98.23%, val:  97.43%, val_best:  97.49%: 100%|██████████| 375/375 [01:17<00:00,  4.83it/s]"
     ]
    },
    {
     "name": "stdout",
     "output_type": "stream",
     "text": [
      "Domain loss,acc: 0.808886, 33.75% Target domain: tr_loss-2.974842, tr_acc-58.02%\n",
      "4,000c1dFalset10:97.43%:97.49% | 1,000c1dFalset10:60.83%:65.67%\n"
     ]
    },
    {
     "name": "stderr",
     "output_type": "stream",
     "text": [
      "\n",
      "epoch-42  lr=['0.0010000'], tr/val_loss:  0.266725/  0.242925, tr:  98.24%, val:  97.63%, val_best:  97.63%: 100%|██████████| 375/375 [01:15<00:00,  4.98it/s]"
     ]
    },
    {
     "name": "stdout",
     "output_type": "stream",
     "text": [
      "Domain loss,acc: 0.809866, 33.50% Target domain: tr_loss-2.982430, tr_acc-57.98%\n",
      "4,000c1dFalset10:97.63%:97.63% | 1,000c1dFalset10:65.90%:65.90%\n"
     ]
    },
    {
     "name": "stderr",
     "output_type": "stream",
     "text": [
      "\n",
      "epoch-43  lr=['0.0010000'], tr/val_loss:  0.264575/  0.248283, tr:  98.28%, val:  97.40%, val_best:  97.63%: 100%|██████████| 375/375 [01:16<00:00,  4.88it/s]"
     ]
    },
    {
     "name": "stdout",
     "output_type": "stream",
     "text": [
      "Domain loss,acc: 0.806628, 33.97% Target domain: tr_loss-2.974841, tr_acc-58.74%\n",
      "4,000c1dFalset10:97.40%:97.63% | 1,000c1dFalset10:63.74%:65.90%\n"
     ]
    },
    {
     "name": "stderr",
     "output_type": "stream",
     "text": [
      "\n",
      "epoch-44  lr=['0.0010000'], tr/val_loss:  0.263274/  0.246190, tr:  98.24%, val:  97.51%, val_best:  97.63%: 100%|██████████| 375/375 [01:15<00:00,  4.94it/s]"
     ]
    },
    {
     "name": "stdout",
     "output_type": "stream",
     "text": [
      "Domain loss,acc: 0.808090, 33.69% Target domain: tr_loss-2.987351, tr_acc-58.21%\n",
      "4,000c1dFalset10:97.51%:97.63% | 1,000c1dFalset10:61.60%:65.90%\n"
     ]
    },
    {
     "name": "stderr",
     "output_type": "stream",
     "text": [
      "\n",
      "epoch-45  lr=['0.0010000'], tr/val_loss:  0.261951/  0.243786, tr:  98.25%, val:  97.40%, val_best:  97.63%: 100%|██████████| 375/375 [01:16<00:00,  4.92it/s]"
     ]
    },
    {
     "name": "stdout",
     "output_type": "stream",
     "text": [
      "Domain loss,acc: 0.803095, 33.42% Target domain: tr_loss-2.967672, tr_acc-58.99%\n",
      "4,000c1dFalset10:97.40%:97.63% | 1,000c1dFalset10:61.55%:65.90%\n"
     ]
    },
    {
     "name": "stderr",
     "output_type": "stream",
     "text": [
      "\n",
      "epoch-46  lr=['0.0010000'], tr/val_loss:  0.259538/  0.243833, tr:  98.28%, val:  97.40%, val_best:  97.63%: 100%|██████████| 375/375 [01:16<00:00,  4.89it/s]"
     ]
    },
    {
     "name": "stdout",
     "output_type": "stream",
     "text": [
      "Domain loss,acc: 0.802025, 33.34% Target domain: tr_loss-2.971975, tr_acc-58.51%\n",
      "4,000c1dFalset10:97.40%:97.63% | 1,000c1dFalset10:64.95%:65.90%\n"
     ]
    },
    {
     "name": "stderr",
     "output_type": "stream",
     "text": [
      "\n",
      "epoch-47  lr=['0.0010000'], tr/val_loss:  0.257954/  0.243231, tr:  98.27%, val:  97.52%, val_best:  97.63%: 100%|██████████| 375/375 [01:16<00:00,  4.93it/s]"
     ]
    },
    {
     "name": "stdout",
     "output_type": "stream",
     "text": [
      "Domain loss,acc: 0.800460, 33.48% Target domain: tr_loss-2.970484, tr_acc-58.81%\n",
      "4,000c1dFalset10:97.52%:97.63% | 1,000c1dFalset10:64.36%:65.90%\n"
     ]
    },
    {
     "name": "stderr",
     "output_type": "stream",
     "text": [
      "\n",
      "epoch-48  lr=['0.0010000'], tr/val_loss:  0.256952/  0.241052, tr:  98.34%, val:  97.49%, val_best:  97.63%: 100%|██████████| 375/375 [01:16<00:00,  4.93it/s]"
     ]
    },
    {
     "name": "stdout",
     "output_type": "stream",
     "text": [
      "Domain loss,acc: 0.800867, 32.93% Target domain: tr_loss-2.976529, tr_acc-59.15%\n",
      "4,000c1dFalset10:97.49%:97.63% | 1,000c1dFalset10:63.89%:65.90%\n"
     ]
    },
    {
     "name": "stderr",
     "output_type": "stream",
     "text": [
      "\n",
      "epoch-49  lr=['0.0010000'], tr/val_loss:  0.256085/  0.243672, tr:  98.32%, val:  97.50%, val_best:  97.63%: 100%|██████████| 375/375 [01:15<00:00,  4.95it/s]"
     ]
    },
    {
     "name": "stdout",
     "output_type": "stream",
     "text": [
      "Domain loss,acc: 0.797429, 33.63% Target domain: tr_loss-2.962802, tr_acc-59.85%\n",
      "4,000c1dFalset10:97.50%:97.63% | 1,000c1dFalset10:62.67%:65.90%\n"
     ]
    },
    {
     "name": "stderr",
     "output_type": "stream",
     "text": [
      "\n",
      "epoch-50  lr=['0.0010000'], tr/val_loss:  0.253300/  0.242217, tr:  98.34%, val:  97.40%, val_best:  97.63%: 100%|██████████| 375/375 [01:16<00:00,  4.89it/s]"
     ]
    },
    {
     "name": "stdout",
     "output_type": "stream",
     "text": [
      "Domain loss,acc: 0.796841, 33.43% Target domain: tr_loss-2.971004, tr_acc-59.51%\n",
      "4,000c1dFalset10:97.40%:97.63% | 1,000c1dFalset10:63.17%:65.90%\n"
     ]
    },
    {
     "name": "stderr",
     "output_type": "stream",
     "text": [
      "\n",
      "epoch-51  lr=['0.0010000'], tr/val_loss:  0.252541/  0.240550, tr:  98.35%, val:  97.52%, val_best:  97.63%: 100%|██████████| 375/375 [01:15<00:00,  4.95it/s]"
     ]
    },
    {
     "name": "stdout",
     "output_type": "stream",
     "text": [
      "Domain loss,acc: 0.796756, 33.17% Target domain: tr_loss-2.973616, tr_acc-59.46%\n",
      "4,000c1dFalset10:97.52%:97.63% | 1,000c1dFalset10:64.72%:65.90%\n"
     ]
    },
    {
     "name": "stderr",
     "output_type": "stream",
     "text": [
      "\n",
      "epoch-52  lr=['0.0010000'], tr/val_loss:  0.250894/  0.239270, tr:  98.38%, val:  97.58%, val_best:  97.63%: 100%|██████████| 375/375 [01:15<00:00,  4.97it/s]"
     ]
    },
    {
     "name": "stdout",
     "output_type": "stream",
     "text": [
      "Domain loss,acc: 0.796685, 33.09% Target domain: tr_loss-2.979849, tr_acc-59.51%\n",
      "4,000c1dFalset10:97.58%:97.63% | 1,000c1dFalset10:65.28%:65.90%\n"
     ]
    },
    {
     "name": "stderr",
     "output_type": "stream",
     "text": [
      "\n",
      "epoch-53  lr=['0.0010000'], tr/val_loss:  0.248709/  0.240027, tr:  98.43%, val:  97.45%, val_best:  97.63%: 100%|██████████| 375/375 [01:17<00:00,  4.86it/s]"
     ]
    },
    {
     "name": "stdout",
     "output_type": "stream",
     "text": [
      "Domain loss,acc: 0.790162, 33.32% Target domain: tr_loss-2.955977, tr_acc-60.42%\n",
      "4,000c1dFalset10:97.45%:97.63% | 1,000c1dFalset10:62.95%:65.90%\n"
     ]
    },
    {
     "name": "stderr",
     "output_type": "stream",
     "text": [
      "\n",
      "epoch-54  lr=['0.0010000'], tr/val_loss:  0.247975/  0.242494, tr:  98.40%, val:  97.43%, val_best:  97.63%: 100%|██████████| 375/375 [01:15<00:00,  4.96it/s]"
     ]
    },
    {
     "name": "stdout",
     "output_type": "stream",
     "text": [
      "Domain loss,acc: 0.790657, 33.34% Target domain: tr_loss-2.961385, tr_acc-60.18%\n",
      "4,000c1dFalset10:97.43%:97.63% | 1,000c1dFalset10:63.53%:65.90%\n"
     ]
    },
    {
     "name": "stderr",
     "output_type": "stream",
     "text": [
      "\n",
      "epoch-55  lr=['0.0010000'], tr/val_loss:  0.246919/  0.241175, tr:  98.45%, val:  97.52%, val_best:  97.63%: 100%|██████████| 375/375 [01:16<00:00,  4.90it/s]"
     ]
    },
    {
     "name": "stdout",
     "output_type": "stream",
     "text": [
      "Domain loss,acc: 0.791752, 32.92% Target domain: tr_loss-2.971083, tr_acc-59.92%\n",
      "4,000c1dFalset10:97.52%:97.63% | 1,000c1dFalset10:62.42%:65.90%\n"
     ]
    },
    {
     "name": "stderr",
     "output_type": "stream",
     "text": [
      "\n",
      "epoch-56  lr=['0.0010000'], tr/val_loss:  0.246142/  0.240283, tr:  98.47%, val:  97.36%, val_best:  97.63%: 100%|██████████| 375/375 [01:17<00:00,  4.83it/s]"
     ]
    },
    {
     "name": "stdout",
     "output_type": "stream",
     "text": [
      "Domain loss,acc: 0.791345, 33.00% Target domain: tr_loss-2.972155, tr_acc-60.11%\n",
      "4,000c1dFalset10:97.36%:97.63% | 1,000c1dFalset10:62.35%:65.90%\n"
     ]
    },
    {
     "name": "stderr",
     "output_type": "stream",
     "text": [
      "\n",
      "epoch-57  lr=['0.0010000'], tr/val_loss:  0.243733/  0.239887, tr:  98.47%, val:  97.55%, val_best:  97.63%: 100%|██████████| 375/375 [01:13<00:00,  5.07it/s]"
     ]
    },
    {
     "name": "stdout",
     "output_type": "stream",
     "text": [
      "Domain loss,acc: 0.793404, 33.02% Target domain: tr_loss-2.992090, tr_acc-59.41%\n",
      "4,000c1dFalset10:97.55%:97.63% | 1,000c1dFalset10:63.70%:65.90%\n"
     ]
    },
    {
     "name": "stderr",
     "output_type": "stream",
     "text": [
      "\n",
      "epoch-58  lr=['0.0010000'], tr/val_loss:  0.242437/  0.242969, tr:  98.47%, val:  97.55%, val_best:  97.63%: 100%|██████████| 375/375 [01:15<00:00,  4.96it/s]"
     ]
    },
    {
     "name": "stdout",
     "output_type": "stream",
     "text": [
      "Domain loss,acc: 0.791811, 32.74% Target domain: tr_loss-2.989307, tr_acc-59.54%\n",
      "4,000c1dFalset10:97.55%:97.63% | 1,000c1dFalset10:65.37%:65.90%\n"
     ]
    },
    {
     "name": "stderr",
     "output_type": "stream",
     "text": [
      "\n",
      "epoch-59  lr=['0.0010000'], tr/val_loss:  0.242480/  0.240904, tr:  98.45%, val:  97.55%, val_best:  97.63%: 100%|██████████| 375/375 [01:15<00:00,  4.98it/s]"
     ]
    },
    {
     "name": "stdout",
     "output_type": "stream",
     "text": [
      "Domain loss,acc: 0.791054, 32.83% Target domain: tr_loss-2.985349, tr_acc-59.45%\n",
      "4,000c1dFalset10:97.55%:97.63% | 1,000c1dFalset10:63.65%:65.90%\n"
     ]
    },
    {
     "name": "stderr",
     "output_type": "stream",
     "text": [
      "\n",
      "epoch-60  lr=['0.0010000'], tr/val_loss:  0.240878/  0.242766, tr:  98.47%, val:  97.46%, val_best:  97.63%: 100%|██████████| 375/375 [01:18<00:00,  4.80it/s]"
     ]
    },
    {
     "name": "stdout",
     "output_type": "stream",
     "text": [
      "Domain loss,acc: 0.786119, 32.55% Target domain: tr_loss-2.967087, tr_acc-60.28%\n",
      "4,000c1dFalset10:97.46%:97.63% | 1,000c1dFalset10:64.20%:65.90%\n"
     ]
    },
    {
     "name": "stderr",
     "output_type": "stream",
     "text": [
      "\n",
      "epoch-61  lr=['0.0010000'], tr/val_loss:  0.239150/  0.240610, tr:  98.50%, val:  97.56%, val_best:  97.63%: 100%|██████████| 375/375 [01:16<00:00,  4.90it/s]"
     ]
    },
    {
     "name": "stdout",
     "output_type": "stream",
     "text": [
      "Domain loss,acc: 0.788255, 32.40% Target domain: tr_loss-2.984671, tr_acc-59.72%\n",
      "4,000c1dFalset10:97.56%:97.63% | 1,000c1dFalset10:64.90%:65.90%\n"
     ]
    },
    {
     "name": "stderr",
     "output_type": "stream",
     "text": [
      "\n",
      "epoch-62  lr=['0.0010000'], tr/val_loss:  0.237313/  0.241929, tr:  98.53%, val:  97.53%, val_best:  97.63%: 100%|██████████| 375/375 [01:17<00:00,  4.87it/s]"
     ]
    },
    {
     "name": "stdout",
     "output_type": "stream",
     "text": [
      "Domain loss,acc: 0.784531, 32.38% Target domain: tr_loss-2.973403, tr_acc-60.30%\n",
      "4,000c1dFalset10:97.53%:97.63% | 1,000c1dFalset10:65.01%:65.90%\n"
     ]
    },
    {
     "name": "stderr",
     "output_type": "stream",
     "text": [
      "\n",
      "epoch-63  lr=['0.0010000'], tr/val_loss:  0.236892/  0.241149, tr:  98.53%, val:  97.55%, val_best:  97.63%: 100%|██████████| 375/375 [01:15<00:00,  4.96it/s]"
     ]
    },
    {
     "name": "stdout",
     "output_type": "stream",
     "text": [
      "Domain loss,acc: 0.787936, 31.64% Target domain: tr_loss-2.992112, tr_acc-59.70%\n",
      "4,000c1dFalset10:97.55%:97.63% | 1,000c1dFalset10:65.02%:65.90%\n"
     ]
    },
    {
     "name": "stderr",
     "output_type": "stream",
     "text": [
      "\n",
      "epoch-64  lr=['0.0010000'], tr/val_loss:  0.235876/  0.242447, tr:  98.57%, val:  97.51%, val_best:  97.63%: 100%|██████████| 375/375 [01:18<00:00,  4.75s/it]"
     ]
    },
    {
     "name": "stdout",
     "output_type": "stream",
     "text": [
      "Domain loss,acc: 0.788326, 32.06% Target domain: tr_loss-2.998127, tr_acc-59.78%\n",
      "4,000c1dFalset10:97.51%:97.63% | 1,000c1dFalset10:61.15%:65.90%\n"
     ]
    },
    {
     "name": "stderr",
     "output_type": "stream",
     "text": [
      "epoch-64  lr=['0.0010000'], tr/val_loss:  0.235876/  0.242447, tr:  98.57%, val:  97.51%, val_best:  97.63%: 100%|██████████| 375/375 [01:18<00:00,  4.78it/s]\n",
      "epoch-65  lr=['0.0010000'], tr/val_loss:  0.236088/  0.240457, tr:  98.58%, val:  97.63%, val_best:  97.63%: 100%|██████████| 375/375 [01:16<00:00,  4.88it/s]"
     ]
    },
    {
     "name": "stdout",
     "output_type": "stream",
     "text": [
      "Domain loss,acc: 0.784502, 31.89% Target domain: tr_loss-2.978162, tr_acc-60.27%\n",
      "4,000c1dFalset10:97.63%:97.63% | 1,000c1dFalset10:65.75%:65.90%\n"
     ]
    },
    {
     "name": "stderr",
     "output_type": "stream",
     "text": [
      "\n",
      "epoch-66  lr=['0.0010000'], tr/val_loss:  0.235260/  0.240064, tr:  98.58%, val:  97.52%, val_best:  97.63%: 100%|██████████| 375/375 [01:15<00:00,  4.96it/s]"
     ]
    },
    {
     "name": "stdout",
     "output_type": "stream",
     "text": [
      "Domain loss,acc: 0.783154, 31.92% Target domain: tr_loss-2.974730, tr_acc-60.58%\n",
      "4,000c1dFalset10:97.52%:97.63% | 1,000c1dFalset10:66.20%:66.20%\n"
     ]
    },
    {
     "name": "stderr",
     "output_type": "stream",
     "text": [
      "\n",
      "epoch-67  lr=['0.0010000'], tr/val_loss:  0.233559/  0.239053, tr:  98.55%, val:  97.54%, val_best:  97.63%: 100%|██████████| 375/375 [01:15<00:00,  4.97it/s]"
     ]
    },
    {
     "name": "stdout",
     "output_type": "stream",
     "text": [
      "Domain loss,acc: 0.784397, 31.95% Target domain: tr_loss-2.987752, tr_acc-60.34%\n",
      "4,000c1dFalset10:97.54%:97.63% | 1,000c1dFalset10:67.07%:67.07%\n"
     ]
    },
    {
     "name": "stderr",
     "output_type": "stream",
     "text": [
      "\n",
      "epoch-68  lr=['0.0010000'], tr/val_loss:  0.232514/  0.239369, tr:  98.59%, val:  97.59%, val_best:  97.63%: 100%|██████████| 375/375 [01:16<00:00,  4.91it/s]"
     ]
    },
    {
     "name": "stdout",
     "output_type": "stream",
     "text": [
      "Domain loss,acc: 0.783305, 31.50% Target domain: tr_loss-2.986469, tr_acc-60.65%\n",
      "4,000c1dFalset10:97.59%:97.63% | 1,000c1dFalset10:62.35%:67.07%\n"
     ]
    },
    {
     "name": "stderr",
     "output_type": "stream",
     "text": [
      "\n",
      "epoch-69  lr=['0.0010000'], tr/val_loss:  0.231891/  0.237710, tr:  98.55%, val:  97.63%, val_best:  97.63%: 100%|██████████| 375/375 [01:17<00:00,  4.82it/s]"
     ]
    },
    {
     "name": "stdout",
     "output_type": "stream",
     "text": [
      "Domain loss,acc: 0.782777, 31.81% Target domain: tr_loss-2.986323, tr_acc-60.33%\n",
      "4,000c1dFalset10:97.63%:97.63% | 1,000c1dFalset10:65.19%:67.07%\n"
     ]
    },
    {
     "name": "stderr",
     "output_type": "stream",
     "text": [
      "\n",
      "epoch-70  lr=['0.0010000'], tr/val_loss:  0.230974/  0.236349, tr:  98.63%, val:  97.80%, val_best:  97.80%: 100%|██████████| 375/375 [01:16<00:00,  4.93it/s]"
     ]
    },
    {
     "name": "stdout",
     "output_type": "stream",
     "text": [
      "Domain loss,acc: 0.779664, 31.45% Target domain: tr_loss-2.974423, tr_acc-60.37%\n",
      "4,000c1dFalset10:97.80%:97.80% | 1,000c1dFalset10:63.32%:67.07%\n"
     ]
    },
    {
     "name": "stderr",
     "output_type": "stream",
     "text": [
      "\n",
      "epoch-71  lr=['0.0010000'], tr/val_loss:  0.229518/  0.238125, tr:  98.63%, val:  97.50%, val_best:  97.80%: 100%|██████████| 375/375 [01:17<00:00,  4.82it/s]"
     ]
    },
    {
     "name": "stdout",
     "output_type": "stream",
     "text": [
      "Domain loss,acc: 0.779566, 31.38% Target domain: tr_loss-2.979760, tr_acc-60.40%\n",
      "4,000c1dFalset10:97.50%:97.80% | 1,000c1dFalset10:62.48%:67.07%\n"
     ]
    },
    {
     "name": "stderr",
     "output_type": "stream",
     "text": [
      "\n",
      "epoch-72  lr=['0.0010000'], tr/val_loss:  0.228805/  0.236804, tr:  98.60%, val:  97.81%, val_best:  97.81%: 100%|██████████| 375/375 [01:16<00:00,  4.88it/s]"
     ]
    },
    {
     "name": "stdout",
     "output_type": "stream",
     "text": [
      "Domain loss,acc: 0.778114, 31.23% Target domain: tr_loss-2.975350, tr_acc-60.81%\n",
      "4,000c1dFalset10:97.81%:97.81% | 1,000c1dFalset10:61.79%:67.07%\n"
     ]
    },
    {
     "name": "stderr",
     "output_type": "stream",
     "text": [
      "\n",
      "epoch-73  lr=['0.0010000'], tr/val_loss:  0.227983/  0.236602, tr:  98.63%, val:  97.65%, val_best:  97.81%: 100%|██████████| 375/375 [01:16<00:00,  4.90it/s]"
     ]
    },
    {
     "name": "stdout",
     "output_type": "stream",
     "text": [
      "Domain loss,acc: 0.780062, 31.25% Target domain: tr_loss-2.988379, tr_acc-60.25%\n",
      "4,000c1dFalset10:97.65%:97.81% | 1,000c1dFalset10:63.25%:67.07%\n"
     ]
    },
    {
     "name": "stderr",
     "output_type": "stream",
     "text": [
      "\n",
      "epoch-74  lr=['0.0010000'], tr/val_loss:  0.226856/  0.237067, tr:  98.63%, val:  97.66%, val_best:  97.81%: 100%|██████████| 375/375 [01:18<00:00,  4.77it/s]"
     ]
    },
    {
     "name": "stdout",
     "output_type": "stream",
     "text": [
      "Domain loss,acc: 0.778629, 31.20% Target domain: tr_loss-2.985721, tr_acc-60.23%\n",
      "4,000c1dFalset10:97.66%:97.81% | 1,000c1dFalset10:64.76%:67.07%\n"
     ]
    },
    {
     "name": "stderr",
     "output_type": "stream",
     "text": [
      "\n",
      "epoch-75  lr=['0.0010000'], tr/val_loss:  0.225446/  0.238391, tr:  98.65%, val:  97.51%, val_best:  97.81%: 100%|██████████| 375/375 [01:16<00:00,  4.91it/s]"
     ]
    },
    {
     "name": "stdout",
     "output_type": "stream",
     "text": [
      "Domain loss,acc: 0.778647, 30.98% Target domain: tr_loss-2.991449, tr_acc-60.42%\n",
      "4,000c1dFalset10:97.51%:97.81% | 1,000c1dFalset10:63.36%:67.07%\n"
     ]
    },
    {
     "name": "stderr",
     "output_type": "stream",
     "text": [
      "\n",
      "epoch-76  lr=['0.0010000'], tr/val_loss:  0.225288/  0.237295, tr:  98.72%, val:  97.67%, val_best:  97.81%: 100%|██████████| 375/375 [01:16<00:00,  4.90it/s]"
     ]
    },
    {
     "name": "stdout",
     "output_type": "stream",
     "text": [
      "Domain loss,acc: 0.776748, 30.91% Target domain: tr_loss-2.982589, tr_acc-60.38%\n",
      "4,000c1dFalset10:97.67%:97.81% | 1,000c1dFalset10:65.61%:67.07%\n"
     ]
    },
    {
     "name": "stderr",
     "output_type": "stream",
     "text": [
      "\n",
      "epoch-77  lr=['0.0010000'], tr/val_loss:  0.225250/  0.237280, tr:  98.65%, val:  97.58%, val_best:  97.81%: 100%|██████████| 375/375 [01:17<00:00,  4.86it/s]"
     ]
    },
    {
     "name": "stdout",
     "output_type": "stream",
     "text": [
      "Domain loss,acc: 0.780257, 30.90% Target domain: tr_loss-3.000285, tr_acc-60.62%\n",
      "4,000c1dFalset10:97.58%:97.81% | 1,000c1dFalset10:62.91%:67.07%\n"
     ]
    },
    {
     "name": "stderr",
     "output_type": "stream",
     "text": [
      "\n",
      "epoch-78  lr=['0.0010000'], tr/val_loss:  0.223986/  0.235129, tr:  98.68%, val:  97.63%, val_best:  97.81%: 100%|██████████| 375/375 [01:16<00:00,  4.91it/s]"
     ]
    },
    {
     "name": "stdout",
     "output_type": "stream",
     "text": [
      "Domain loss,acc: 0.774755, 30.83% Target domain: tr_loss-2.977832, tr_acc-60.74%\n",
      "4,000c1dFalset10:97.63%:97.81% | 1,000c1dFalset10:64.30%:67.07%\n"
     ]
    },
    {
     "name": "stderr",
     "output_type": "stream",
     "text": [
      "\n",
      "epoch-79  lr=['0.0010000'], tr/val_loss:  0.223635/  0.238224, tr:  98.67%, val:  97.64%, val_best:  97.81%: 100%|██████████| 375/375 [01:17<00:00,  4.72s/it]"
     ]
    },
    {
     "name": "stdout",
     "output_type": "stream",
     "text": [
      "Domain loss,acc: 0.776904, 30.94% Target domain: tr_loss-2.989980, tr_acc-60.56%\n",
      "4,000c1dFalset10:97.64%:97.81% | 1,000c1dFalset10:62.84%:67.07%\n"
     ]
    },
    {
     "name": "stderr",
     "output_type": "stream",
     "text": [
      "epoch-79  lr=['0.0010000'], tr/val_loss:  0.223635/  0.238224, tr:  98.67%, val:  97.64%, val_best:  97.81%: 100%|██████████| 375/375 [01:17<00:00,  4.85it/s]\n",
      "epoch-80  lr=['0.0010000'], tr/val_loss:  0.221791/  0.237730, tr:  98.71%, val:  97.66%, val_best:  97.81%: 100%|██████████| 375/375 [01:16<00:00,  4.88it/s]"
     ]
    },
    {
     "name": "stdout",
     "output_type": "stream",
     "text": [
      "Domain loss,acc: 0.775995, 30.96% Target domain: tr_loss-2.992811, tr_acc-60.42%\n",
      "4,000c1dFalset10:97.66%:97.81% | 1,000c1dFalset10:63.73%:67.07%\n"
     ]
    },
    {
     "name": "stderr",
     "output_type": "stream",
     "text": [
      "\n",
      "epoch-81  lr=['0.0010000'], tr/val_loss:  0.221526/  0.235202, tr:  98.73%, val:  97.70%, val_best:  97.81%: 100%|██████████| 375/375 [01:17<00:00,  4.82it/s]"
     ]
    },
    {
     "name": "stdout",
     "output_type": "stream",
     "text": [
      "Domain loss,acc: 0.772724, 30.48% Target domain: tr_loss-2.977515, tr_acc-61.09%\n",
      "4,000c1dFalset10:97.70%:97.81% | 1,000c1dFalset10:63.42%:67.07%\n"
     ]
    },
    {
     "name": "stderr",
     "output_type": "stream",
     "text": [
      "\n",
      "epoch-82  lr=['0.0010000'], tr/val_loss:  0.221202/  0.234969, tr:  98.74%, val:  97.68%, val_best:  97.81%: 100%|██████████| 375/375 [01:16<00:00,  4.89it/s]"
     ]
    },
    {
     "name": "stdout",
     "output_type": "stream",
     "text": [
      "Domain loss,acc: 0.771924, 31.01% Target domain: tr_loss-2.974812, tr_acc-60.99%\n",
      "4,000c1dFalset10:97.68%:97.81% | 1,000c1dFalset10:65.22%:67.07%\n"
     ]
    },
    {
     "name": "stderr",
     "output_type": "stream",
     "text": [
      "\n",
      "epoch-83  lr=['0.0010000'], tr/val_loss:  0.220362/  0.237273, tr:  98.71%, val:  97.71%, val_best:  97.81%: 100%|██████████| 375/375 [01:18<00:00,  4.81it/s]"
     ]
    },
    {
     "name": "stdout",
     "output_type": "stream",
     "text": [
      "Domain loss,acc: 0.773235, 30.46% Target domain: tr_loss-2.984728, tr_acc-60.46%\n",
      "4,000c1dFalset10:97.71%:97.81% | 1,000c1dFalset10:64.74%:67.07%\n"
     ]
    },
    {
     "name": "stderr",
     "output_type": "stream",
     "text": [
      "\n",
      "epoch-84  lr=['0.0010000'], tr/val_loss:  0.219763/  0.234648, tr:  98.71%, val:  97.68%, val_best:  97.81%: 100%|██████████| 375/375 [01:16<00:00,  4.91it/s]"
     ]
    },
    {
     "name": "stdout",
     "output_type": "stream",
     "text": [
      "Domain loss,acc: 0.775572, 30.73% Target domain: tr_loss-2.998809, tr_acc-60.77%\n",
      "4,000c1dFalset10:97.68%:97.81% | 1,000c1dFalset10:66.65%:67.07%\n"
     ]
    },
    {
     "name": "stderr",
     "output_type": "stream",
     "text": [
      "\n",
      "epoch-85  lr=['0.0010000'], tr/val_loss:  0.218857/  0.234410, tr:  98.79%, val:  97.74%, val_best:  97.81%: 100%|██████████| 375/375 [01:15<00:00,  4.99it/s]"
     ]
    },
    {
     "name": "stdout",
     "output_type": "stream",
     "text": [
      "Domain loss,acc: 0.770835, 30.86% Target domain: tr_loss-2.978751, tr_acc-61.27%\n",
      "4,000c1dFalset10:97.74%:97.81% | 1,000c1dFalset10:62.66%:67.07%\n"
     ]
    },
    {
     "name": "stderr",
     "output_type": "stream",
     "text": [
      "\n",
      "epoch-86  lr=['0.0010000'], tr/val_loss:  0.218364/  0.233658, tr:  98.76%, val:  97.76%, val_best:  97.81%: 100%|██████████| 375/375 [01:15<00:00,  4.94it/s]"
     ]
    },
    {
     "name": "stdout",
     "output_type": "stream",
     "text": [
      "Domain loss,acc: 0.774006, 30.94% Target domain: tr_loss-2.996575, tr_acc-61.08%\n",
      "4,000c1dFalset10:97.76%:97.81% | 1,000c1dFalset10:64.95%:67.07%\n"
     ]
    },
    {
     "name": "stderr",
     "output_type": "stream",
     "text": [
      "\n",
      "epoch-87  lr=['0.0010000'], tr/val_loss:  0.216832/  0.233945, tr:  98.75%, val:  97.65%, val_best:  97.81%: 100%|██████████| 375/375 [01:17<00:00,  4.86it/s]"
     ]
    },
    {
     "name": "stdout",
     "output_type": "stream",
     "text": [
      "Domain loss,acc: 0.769270, 31.23% Target domain: tr_loss-2.979020, tr_acc-61.27%\n",
      "4,000c1dFalset10:97.65%:97.81% | 1,000c1dFalset10:62.47%:67.07%\n"
     ]
    },
    {
     "name": "stderr",
     "output_type": "stream",
     "text": [
      "\n",
      "epoch-88  lr=['0.0010000'], tr/val_loss:  0.216631/  0.235381, tr:  98.79%, val:  97.59%, val_best:  97.81%: 100%|██████████| 375/375 [01:17<00:00,  4.79s/it]"
     ]
    },
    {
     "name": "stdout",
     "output_type": "stream",
     "text": [
      "Domain loss,acc: 0.772768, 30.76% Target domain: tr_loss-2.997315, tr_acc-60.93%\n",
      "4,000c1dFalset10:97.59%:97.81% | 1,000c1dFalset10:64.33%:67.07%\n"
     ]
    },
    {
     "name": "stderr",
     "output_type": "stream",
     "text": [
      "epoch-88  lr=['0.0010000'], tr/val_loss:  0.216631/  0.235381, tr:  98.79%, val:  97.59%, val_best:  97.81%: 100%|██████████| 375/375 [01:17<00:00,  4.83it/s]\n",
      "epoch-89  lr=['0.0010000'], tr/val_loss:  0.214834/  0.232744, tr:  98.82%, val:  97.73%, val_best:  97.81%: 100%|██████████| 375/375 [01:16<00:00,  4.87it/s]"
     ]
    },
    {
     "name": "stdout",
     "output_type": "stream",
     "text": [
      "Domain loss,acc: 0.768425, 30.96% Target domain: tr_loss-2.982790, tr_acc-60.78%\n",
      "4,000c1dFalset10:97.73%:97.81% | 1,000c1dFalset10:62.57%:67.07%\n"
     ]
    },
    {
     "name": "stderr",
     "output_type": "stream",
     "text": [
      "\n",
      "epoch-90  lr=['0.0010000'], tr/val_loss:  0.214771/  0.235783, tr:  98.79%, val:  97.80%, val_best:  97.81%: 100%|██████████| 375/375 [01:17<00:00,  4.82it/s]"
     ]
    },
    {
     "name": "stdout",
     "output_type": "stream",
     "text": [
      "Domain loss,acc: 0.774256, 31.00% Target domain: tr_loss-3.012194, tr_acc-60.72%\n",
      "4,000c1dFalset10:97.80%:97.81% | 1,000c1dFalset10:61.61%:67.07%\n"
     ]
    },
    {
     "name": "stderr",
     "output_type": "stream",
     "text": [
      "\n",
      "epoch-91  lr=['0.0010000'], tr/val_loss:  0.213455/  0.234103, tr:  98.82%, val:  97.85%, val_best:  97.85%: 100%|██████████| 375/375 [01:17<00:00,  4.82it/s]"
     ]
    },
    {
     "name": "stdout",
     "output_type": "stream",
     "text": [
      "Domain loss,acc: 0.767251, 30.53% Target domain: tr_loss-2.982436, tr_acc-61.53%\n",
      "4,000c1dFalset10:97.85%:97.85% | 1,000c1dFalset10:67.12%:67.12%\n"
     ]
    },
    {
     "name": "stderr",
     "output_type": "stream",
     "text": [
      "\n",
      "epoch-92  lr=['0.0010000'], tr/val_loss:  0.214056/  0.237421, tr:  98.81%, val:  97.69%, val_best:  97.85%: 100%|██████████| 375/375 [01:17<00:00,  4.83it/s]"
     ]
    },
    {
     "name": "stdout",
     "output_type": "stream",
     "text": [
      "Domain loss,acc: 0.770114, 31.01% Target domain: tr_loss-2.994350, tr_acc-61.31%\n",
      "4,000c1dFalset10:97.69%:97.85% | 1,000c1dFalset10:64.53%:67.12%\n"
     ]
    },
    {
     "name": "stderr",
     "output_type": "stream",
     "text": [
      "\n",
      "epoch-93  lr=['0.0010000'], tr/val_loss:  0.213115/  0.233734, tr:  98.79%, val:  97.78%, val_best:  97.85%: 100%|██████████| 375/375 [01:16<00:00,  4.87it/s]"
     ]
    },
    {
     "name": "stdout",
     "output_type": "stream",
     "text": [
      "Domain loss,acc: 0.770503, 30.83% Target domain: tr_loss-3.000051, tr_acc-60.95%\n",
      "4,000c1dFalset10:97.78%:97.85% | 1,000c1dFalset10:63.07%:67.12%\n"
     ]
    },
    {
     "name": "stderr",
     "output_type": "stream",
     "text": [
      "\n",
      "epoch-94  lr=['0.0010000'], tr/val_loss:  0.211884/  0.232506, tr:  98.80%, val:  97.83%, val_best:  97.85%: 100%|██████████| 375/375 [01:17<00:00,  4.78s/it]"
     ]
    },
    {
     "name": "stdout",
     "output_type": "stream",
     "text": [
      "Domain loss,acc: 0.770229, 30.74% Target domain: tr_loss-3.003605, tr_acc-61.29%\n",
      "4,000c1dFalset10:97.83%:97.85% | 1,000c1dFalset10:64.93%:67.12%\n"
     ]
    },
    {
     "name": "stderr",
     "output_type": "stream",
     "text": [
      "epoch-94  lr=['0.0010000'], tr/val_loss:  0.211884/  0.232506, tr:  98.80%, val:  97.83%, val_best:  97.85%: 100%|██████████| 375/375 [01:17<00:00,  4.84it/s]\n",
      "epoch-95  lr=['0.0010000'], tr/val_loss:  0.211077/  0.233103, tr:  98.86%, val:  97.81%, val_best:  97.85%: 100%|██████████| 375/375 [01:16<00:00,  4.92it/s]"
     ]
    },
    {
     "name": "stdout",
     "output_type": "stream",
     "text": [
      "Domain loss,acc: 0.767228, 30.93% Target domain: tr_loss-2.991838, tr_acc-61.62%\n",
      "4,000c1dFalset10:97.81%:97.85% | 1,000c1dFalset10:65.02%:67.12%\n"
     ]
    },
    {
     "name": "stderr",
     "output_type": "stream",
     "text": [
      "\n",
      "epoch-96  lr=['0.0010000'], tr/val_loss:  0.210539/  0.232443, tr:  98.85%, val:  97.92%, val_best:  97.92%: 100%|██████████| 375/375 [01:17<00:00,  4.84it/s]"
     ]
    },
    {
     "name": "stdout",
     "output_type": "stream",
     "text": [
      "Domain loss,acc: 0.766593, 30.73% Target domain: tr_loss-2.990807, tr_acc-61.42%\n",
      "4,000c1dFalset10:97.92%:97.92% | 1,000c1dFalset10:64.02%:67.12%\n"
     ]
    },
    {
     "name": "stderr",
     "output_type": "stream",
     "text": [
      "\n",
      "epoch-97  lr=['0.0010000'], tr/val_loss:  0.209817/  0.233032, tr:  98.84%, val:  97.76%, val_best:  97.92%: 100%|██████████| 375/375 [01:17<00:00,  4.85it/s]"
     ]
    },
    {
     "name": "stdout",
     "output_type": "stream",
     "text": [
      "Domain loss,acc: 0.763508, 30.70% Target domain: tr_loss-2.978271, tr_acc-61.68%\n",
      "4,000c1dFalset10:97.76%:97.92% | 1,000c1dFalset10:65.00%:67.12%\n"
     ]
    },
    {
     "name": "stderr",
     "output_type": "stream",
     "text": [
      "\n",
      "epoch-98  lr=['0.0010000'], tr/val_loss:  0.209356/  0.234025, tr:  98.85%, val:  97.71%, val_best:  97.92%: 100%|██████████| 375/375 [01:16<00:00,  4.92it/s]"
     ]
    },
    {
     "name": "stdout",
     "output_type": "stream",
     "text": [
      "Domain loss,acc: 0.767932, 30.80% Target domain: tr_loss-3.002236, tr_acc-60.99%\n",
      "4,000c1dFalset10:97.71%:97.92% | 1,000c1dFalset10:65.72%:67.12%\n"
     ]
    },
    {
     "name": "stderr",
     "output_type": "stream",
     "text": [
      "\n",
      "epoch-99  lr=['0.0010000'], tr/val_loss:  0.208270/  0.233444, tr:  98.84%, val:  97.79%, val_best:  97.92%: 100%|██████████| 375/375 [01:17<00:00,  4.87it/s]"
     ]
    },
    {
     "name": "stdout",
     "output_type": "stream",
     "text": [
      "Domain loss,acc: 0.765143, 31.20% Target domain: tr_loss-2.992633, tr_acc-61.39%\n",
      "4,000c1dFalset10:97.79%:97.92% | 1,000c1dFalset10:66.87%:67.12%\n"
     ]
    },
    {
     "name": "stderr",
     "output_type": "stream",
     "text": [
      "\n",
      "epoch-100 lr=['0.0010000'], tr/val_loss:  0.208023/  0.234859, tr:  98.87%, val:  97.83%, val_best:  97.92%: 100%|██████████| 375/375 [01:16<00:00,  4.91it/s]"
     ]
    },
    {
     "name": "stdout",
     "output_type": "stream",
     "text": [
      "Domain loss,acc: 0.763557, 30.80% Target domain: tr_loss-2.985694, tr_acc-61.86%\n",
      "4,000c1dFalset10:97.83%:97.92% | 1,000c1dFalset10:63.20%:67.12%\n"
     ]
    },
    {
     "name": "stderr",
     "output_type": "stream",
     "text": [
      "\n",
      "epoch-101 lr=['0.0010000'], tr/val_loss:  0.206895/  0.232941, tr:  98.90%, val:  97.81%, val_best:  97.92%: 100%|██████████| 375/375 [01:17<00:00,  4.86it/s]"
     ]
    },
    {
     "name": "stdout",
     "output_type": "stream",
     "text": [
      "Domain loss,acc: 0.764429, 30.50% Target domain: tr_loss-2.994560, tr_acc-61.38%\n",
      "4,000c1dFalset10:97.81%:97.92% | 1,000c1dFalset10:66.85%:67.12%\n"
     ]
    },
    {
     "name": "stderr",
     "output_type": "stream",
     "text": [
      "\n",
      "epoch-102 lr=['0.0010000'], tr/val_loss:  0.205745/  0.237446, tr:  98.89%, val:  97.81%, val_best:  97.92%: 100%|██████████| 375/375 [01:17<00:00,  4.86it/s]"
     ]
    },
    {
     "name": "stdout",
     "output_type": "stream",
     "text": [
      "Domain loss,acc: 0.768712, 30.65% Target domain: tr_loss-3.020577, tr_acc-61.15%\n",
      "4,000c1dFalset10:97.81%:97.92% | 1,000c1dFalset10:68.41%:68.41%\n"
     ]
    },
    {
     "name": "stderr",
     "output_type": "stream",
     "text": [
      "\n",
      "epoch-103 lr=['0.0010000'], tr/val_loss:  0.205581/  0.237961, tr:  98.91%, val:  97.80%, val_best:  97.92%: 100%|██████████| 375/375 [01:16<00:00,  4.91it/s]"
     ]
    },
    {
     "name": "stdout",
     "output_type": "stream",
     "text": [
      "Domain loss,acc: 0.764010, 30.75% Target domain: tr_loss-2.997728, tr_acc-61.62%\n",
      "4,000c1dFalset10:97.80%:97.92% | 1,000c1dFalset10:67.82%:68.41%\n"
     ]
    },
    {
     "name": "stderr",
     "output_type": "stream",
     "text": [
      "\n",
      "epoch-104 lr=['0.0010000'], tr/val_loss:  0.205560/  0.233311, tr:  98.92%, val:  97.85%, val_best:  97.92%: 100%|██████████| 375/375 [01:15<00:00,  4.95it/s]"
     ]
    },
    {
     "name": "stdout",
     "output_type": "stream",
     "text": [
      "Domain loss,acc: 0.764022, 31.16% Target domain: tr_loss-2.997870, tr_acc-61.80%\n",
      "4,000c1dFalset10:97.85%:97.92% | 1,000c1dFalset10:64.88%:68.41%\n"
     ]
    },
    {
     "name": "stderr",
     "output_type": "stream",
     "text": [
      "\n",
      "epoch-105 lr=['0.0010000'], tr/val_loss:  0.204961/  0.234314, tr:  98.91%, val:  97.80%, val_best:  97.92%: 100%|██████████| 375/375 [01:16<00:00,  4.88it/s]"
     ]
    },
    {
     "name": "stdout",
     "output_type": "stream",
     "text": [
      "Domain loss,acc: 0.763670, 30.47% Target domain: tr_loss-2.998504, tr_acc-61.72%\n",
      "4,000c1dFalset10:97.80%:97.92% | 1,000c1dFalset10:64.47%:68.41%\n"
     ]
    },
    {
     "name": "stderr",
     "output_type": "stream",
     "text": [
      "\n",
      "epoch-106 lr=['0.0010000'], tr/val_loss:  0.204747/  0.235203, tr:  98.90%, val:  97.84%, val_best:  97.92%: 100%|██████████| 375/375 [01:18<00:00,  4.78it/s]"
     ]
    },
    {
     "name": "stdout",
     "output_type": "stream",
     "text": [
      "Domain loss,acc: 0.763633, 31.06% Target domain: tr_loss-2.999178, tr_acc-61.90%\n",
      "4,000c1dFalset10:97.84%:97.92% | 1,000c1dFalset10:67.93%:68.41%\n"
     ]
    },
    {
     "name": "stderr",
     "output_type": "stream",
     "text": [
      "\n",
      "epoch-107 lr=['0.0010000'], tr/val_loss:  0.203575/  0.234907, tr:  98.95%, val:  97.77%, val_best:  97.92%: 100%|██████████| 375/375 [01:28<00:00,  4.25it/s]"
     ]
    },
    {
     "name": "stdout",
     "output_type": "stream",
     "text": [
      "Domain loss,acc: 0.762670, 30.99% Target domain: tr_loss-2.999048, tr_acc-61.75%\n",
      "4,000c1dFalset10:97.77%:97.92% | 1,000c1dFalset10:66.40%:68.41%\n"
     ]
    },
    {
     "name": "stderr",
     "output_type": "stream",
     "text": [
      "\n",
      "epoch-108 lr=['0.0010000'], tr/val_loss:  0.202653/  0.237600, tr:  98.97%, val:  97.90%, val_best:  97.92%: 100%|██████████| 375/375 [01:17<00:00,  4.84it/s]"
     ]
    },
    {
     "name": "stdout",
     "output_type": "stream",
     "text": [
      "Domain loss,acc: 0.758698, 30.59% Target domain: tr_loss-2.982878, tr_acc-62.58%\n",
      "4,000c1dFalset10:97.90%:97.92% | 1,000c1dFalset10:63.23%:68.41%\n"
     ]
    },
    {
     "name": "stderr",
     "output_type": "stream",
     "text": [
      "\n",
      "epoch-109 lr=['0.0010000'], tr/val_loss:  0.201919/  0.232953, tr:  98.94%, val:  97.85%, val_best:  97.92%: 100%|██████████| 375/375 [01:18<00:00,  4.77it/s]"
     ]
    },
    {
     "name": "stdout",
     "output_type": "stream",
     "text": [
      "Domain loss,acc: 0.762068, 30.75% Target domain: tr_loss-3.002665, tr_acc-61.90%\n",
      "4,000c1dFalset10:97.85%:97.92% | 1,000c1dFalset10:65.05%:68.41%\n"
     ]
    },
    {
     "name": "stderr",
     "output_type": "stream",
     "text": [
      "\n",
      "epoch-110 lr=['0.0010000'], tr/val_loss:  0.201719/  0.235937, tr:  98.96%, val:  97.74%, val_best:  97.92%: 100%|██████████| 375/375 [01:17<00:00,  4.85it/s]"
     ]
    },
    {
     "name": "stdout",
     "output_type": "stream",
     "text": [
      "Domain loss,acc: 0.763885, 30.70% Target domain: tr_loss-3.012548, tr_acc-62.12%\n",
      "4,000c1dFalset10:97.74%:97.92% | 1,000c1dFalset10:68.73%:68.73%\n"
     ]
    },
    {
     "name": "stderr",
     "output_type": "stream",
     "text": [
      "\n",
      "epoch-111 lr=['0.0010000'], tr/val_loss:  0.201286/  0.233215, tr:  98.97%, val:  97.96%, val_best:  97.96%: 100%|██████████| 375/375 [01:19<00:00,  4.74it/s]"
     ]
    },
    {
     "name": "stdout",
     "output_type": "stream",
     "text": [
      "Domain loss,acc: 0.757834, 30.55% Target domain: tr_loss-2.984028, tr_acc-62.58%\n",
      "4,000c1dFalset10:97.96%:97.96% | 1,000c1dFalset10:66.24%:68.73%\n"
     ]
    },
    {
     "name": "stderr",
     "output_type": "stream",
     "text": [
      "\n",
      "epoch-112 lr=['0.0010000'], tr/val_loss:  0.201307/  0.231467, tr:  98.97%, val:  97.99%, val_best:  97.99%: 100%|██████████| 375/375 [01:16<00:00,  4.91it/s]"
     ]
    },
    {
     "name": "stdout",
     "output_type": "stream",
     "text": [
      "Domain loss,acc: 0.764087, 30.68% Target domain: tr_loss-3.015208, tr_acc-61.92%\n",
      "4,000c1dFalset10:97.99%:97.99% | 1,000c1dFalset10:66.17%:68.73%\n"
     ]
    },
    {
     "name": "stderr",
     "output_type": "stream",
     "text": [
      "\n",
      "epoch-113 lr=['0.0010000'], tr/val_loss:  0.200716/  0.236845, tr:  98.92%, val:  97.89%, val_best:  97.99%: 100%|██████████| 375/375 [01:17<00:00,  4.85it/s]"
     ]
    },
    {
     "name": "stdout",
     "output_type": "stream",
     "text": [
      "Domain loss,acc: 0.759871, 31.02% Target domain: tr_loss-2.996493, tr_acc-62.72%\n",
      "4,000c1dFalset10:97.89%:97.99% | 1,000c1dFalset10:66.31%:68.73%\n"
     ]
    },
    {
     "name": "stderr",
     "output_type": "stream",
     "text": [
      "\n",
      "epoch-114 lr=['0.0010000'], tr/val_loss:  0.199690/  0.234650, tr:  98.95%, val:  97.85%, val_best:  97.99%: 100%|██████████| 375/375 [01:16<00:00,  4.89it/s]"
     ]
    },
    {
     "name": "stdout",
     "output_type": "stream",
     "text": [
      "Domain loss,acc: 0.756032, 30.73% Target domain: tr_loss-2.981400, tr_acc-62.84%\n",
      "4,000c1dFalset10:97.85%:97.99% | 1,000c1dFalset10:61.33%:68.73%\n"
     ]
    },
    {
     "name": "stderr",
     "output_type": "stream",
     "text": [
      "\n",
      "epoch-115 lr=['0.0010000'], tr/val_loss:  0.198669/  0.237059, tr:  99.03%, val:  97.90%, val_best:  97.99%: 100%|██████████| 375/375 [01:17<00:00,  4.83it/s]"
     ]
    },
    {
     "name": "stdout",
     "output_type": "stream",
     "text": [
      "Domain loss,acc: 0.762646, 30.54% Target domain: tr_loss-3.018553, tr_acc-62.08%\n",
      "4,000c1dFalset10:97.90%:97.99% | 1,000c1dFalset10:66.76%:68.73%\n"
     ]
    },
    {
     "name": "stderr",
     "output_type": "stream",
     "text": [
      "\n",
      "epoch-116 lr=['0.0010000'], tr/val_loss:  0.198988/  0.234222, tr:  98.95%, val:  97.83%, val_best:  97.99%: 100%|██████████| 375/375 [01:17<00:00,  4.86it/s]"
     ]
    },
    {
     "name": "stdout",
     "output_type": "stream",
     "text": [
      "Domain loss,acc: 0.759844, 30.71% Target domain: tr_loss-3.003267, tr_acc-62.28%\n",
      "4,000c1dFalset10:97.83%:97.99% | 1,000c1dFalset10:64.86%:68.73%\n"
     ]
    },
    {
     "name": "stderr",
     "output_type": "stream",
     "text": [
      "\n",
      "epoch-117 lr=['0.0010000'], tr/val_loss:  0.197825/  0.234274, tr:  98.99%, val:  97.79%, val_best:  97.99%: 100%|██████████| 375/375 [01:17<00:00,  4.86it/s]"
     ]
    },
    {
     "name": "stdout",
     "output_type": "stream",
     "text": [
      "Domain loss,acc: 0.760032, 29.82% Target domain: tr_loss-3.008860, tr_acc-62.30%\n",
      "4,000c1dFalset10:97.79%:97.99% | 1,000c1dFalset10:69.58%:69.58%\n"
     ]
    },
    {
     "name": "stderr",
     "output_type": "stream",
     "text": [
      "\n",
      "epoch-118 lr=['0.0010000'], tr/val_loss:  0.197692/  0.233223, tr:  98.99%, val:  97.95%, val_best:  97.99%: 100%|██████████| 375/375 [01:18<00:00,  4.77it/s]"
     ]
    },
    {
     "name": "stdout",
     "output_type": "stream",
     "text": [
      "Domain loss,acc: 0.761424, 30.36% Target domain: tr_loss-3.016352, tr_acc-62.52%\n",
      "4,000c1dFalset10:97.95%:97.99% | 1,000c1dFalset10:67.20%:69.58%\n"
     ]
    },
    {
     "name": "stderr",
     "output_type": "stream",
     "text": [
      "\n",
      "epoch-119 lr=['0.0010000'], tr/val_loss:  0.197702/  0.233238, tr:  99.06%, val:  97.86%, val_best:  97.99%: 100%|██████████| 375/375 [01:16<00:00,  4.89it/s]"
     ]
    },
    {
     "name": "stdout",
     "output_type": "stream",
     "text": [
      "Domain loss,acc: 0.759523, 30.07% Target domain: tr_loss-3.006806, tr_acc-62.47%\n",
      "4,000c1dFalset10:97.86%:97.99% | 1,000c1dFalset10:64.03%:69.58%\n"
     ]
    },
    {
     "name": "stderr",
     "output_type": "stream",
     "text": [
      "\n",
      "epoch-120 lr=['0.0010000'], tr/val_loss:  0.197285/  0.234829, tr:  99.01%, val:  97.71%, val_best:  97.99%: 100%|██████████| 375/375 [01:18<00:00,  4.80it/s]"
     ]
    },
    {
     "name": "stdout",
     "output_type": "stream",
     "text": [
      "Domain loss,acc: 0.762517, 30.29% Target domain: tr_loss-3.023444, tr_acc-62.09%\n",
      "4,000c1dFalset10:97.71%:97.99% | 1,000c1dFalset10:65.95%:69.58%\n"
     ]
    },
    {
     "name": "stderr",
     "output_type": "stream",
     "text": [
      "\n",
      "epoch-121 lr=['0.0010000'], tr/val_loss:  0.196479/  0.234038, tr:  99.04%, val:  97.87%, val_best:  97.99%: 100%|██████████| 375/375 [01:18<00:00,  4.80it/s]"
     ]
    },
    {
     "name": "stdout",
     "output_type": "stream",
     "text": [
      "Domain loss,acc: 0.764684, 30.31% Target domain: tr_loss-3.037502, tr_acc-62.22%\n",
      "4,000c1dFalset10:97.87%:97.99% | 1,000c1dFalset10:67.82%:69.58%\n"
     ]
    },
    {
     "name": "stderr",
     "output_type": "stream",
     "text": [
      "\n",
      "epoch-122 lr=['0.0010000'], tr/val_loss:  0.195669/  0.235086, tr:  99.06%, val:  97.83%, val_best:  97.99%: 100%|██████████| 375/375 [01:29<00:00,  4.20it/s]"
     ]
    },
    {
     "name": "stdout",
     "output_type": "stream",
     "text": [
      "Domain loss,acc: 0.760252, 29.91% Target domain: tr_loss-3.018587, tr_acc-62.52%\n",
      "4,000c1dFalset10:97.83%:97.99% | 1,000c1dFalset10:67.11%:69.58%\n"
     ]
    },
    {
     "name": "stderr",
     "output_type": "stream",
     "text": [
      "\n",
      "epoch-123 lr=['0.0010000'], tr/val_loss:  0.195210/  0.233143, tr:  99.03%, val:  97.87%, val_best:  97.99%: 100%|██████████| 375/375 [01:16<00:00,  4.91it/s]"
     ]
    },
    {
     "name": "stdout",
     "output_type": "stream",
     "text": [
      "Domain loss,acc: 0.762186, 29.93% Target domain: tr_loss-3.030092, tr_acc-62.50%\n",
      "4,000c1dFalset10:97.87%:97.99% | 1,000c1dFalset10:68.55%:69.58%\n"
     ]
    },
    {
     "name": "stderr",
     "output_type": "stream",
     "text": [
      "\n",
      "epoch-124 lr=['0.0010000'], tr/val_loss:  0.194513/  0.235963, tr:  99.08%, val:  97.86%, val_best:  97.99%: 100%|██████████| 375/375 [01:19<00:00,  4.71it/s]"
     ]
    },
    {
     "name": "stdout",
     "output_type": "stream",
     "text": [
      "Domain loss,acc: 0.759922, 29.90% Target domain: tr_loss-3.021558, tr_acc-62.68%\n",
      "4,000c1dFalset10:97.86%:97.99% | 1,000c1dFalset10:63.50%:69.58%\n"
     ]
    },
    {
     "name": "stderr",
     "output_type": "stream",
     "text": [
      "\n",
      "epoch-125 lr=['0.0010000'], tr/val_loss:  0.193468/  0.235171, tr:  99.06%, val:  97.72%, val_best:  97.99%: 100%|██████████| 375/375 [01:16<00:00,  4.88it/s]"
     ]
    },
    {
     "name": "stdout",
     "output_type": "stream",
     "text": [
      "Domain loss,acc: 0.759610, 30.11% Target domain: tr_loss-3.024176, tr_acc-62.92%\n",
      "4,000c1dFalset10:97.72%:97.99% | 1,000c1dFalset10:69.33%:69.58%\n"
     ]
    },
    {
     "name": "stderr",
     "output_type": "stream",
     "text": [
      "\n",
      "epoch-126 lr=['0.0010000'], tr/val_loss:  0.193641/  0.234396, tr:  99.09%, val:  97.83%, val_best:  97.99%: 100%|██████████| 375/375 [01:17<00:00,  4.83it/s]"
     ]
    },
    {
     "name": "stdout",
     "output_type": "stream",
     "text": [
      "Domain loss,acc: 0.766615, 30.52% Target domain: tr_loss-3.058511, tr_acc-62.23%\n",
      "4,000c1dFalset10:97.83%:97.99% | 1,000c1dFalset10:68.21%:69.58%\n"
     ]
    },
    {
     "name": "stderr",
     "output_type": "stream",
     "text": [
      "\n",
      "epoch-127 lr=['0.0010000'], tr/val_loss:  0.193489/  0.233639, tr:  99.06%, val:  97.95%, val_best:  97.99%: 100%|██████████| 375/375 [01:17<00:00,  4.84it/s]"
     ]
    },
    {
     "name": "stdout",
     "output_type": "stream",
     "text": [
      "Domain loss,acc: 0.763842, 30.14% Target domain: tr_loss-3.045254, tr_acc-62.42%\n",
      "4,000c1dFalset10:97.95%:97.99% | 1,000c1dFalset10:67.44%:69.58%\n"
     ]
    },
    {
     "name": "stderr",
     "output_type": "stream",
     "text": [
      "\n",
      "epoch-128 lr=['0.0010000'], tr/val_loss:  0.192834/  0.234665, tr:  99.05%, val:  97.81%, val_best:  97.99%: 100%|██████████| 375/375 [01:21<00:00,  4.62it/s]"
     ]
    },
    {
     "name": "stdout",
     "output_type": "stream",
     "text": [
      "Domain loss,acc: 0.766336, 30.43% Target domain: tr_loss-3.060348, tr_acc-61.88%\n",
      "4,000c1dFalset10:97.81%:97.99% | 1,000c1dFalset10:66.02%:69.58%\n"
     ]
    },
    {
     "name": "stderr",
     "output_type": "stream",
     "text": [
      "\n",
      "epoch-129 lr=['0.0010000'], tr/val_loss:  0.193073/  0.236840, tr:  99.08%, val:  97.93%, val_best:  97.99%: 100%|██████████| 375/375 [02:05<00:00,  2.99it/s]"
     ]
    },
    {
     "name": "stdout",
     "output_type": "stream",
     "text": [
      "Domain loss,acc: 0.763671, 30.36% Target domain: tr_loss-3.046057, tr_acc-62.71%\n",
      "4,000c1dFalset10:97.93%:97.99% | 1,000c1dFalset10:66.55%:69.58%\n"
     ]
    },
    {
     "name": "stderr",
     "output_type": "stream",
     "text": [
      "\n",
      "epoch-130 lr=['0.0010000'], tr/val_loss:  0.191375/  0.236110, tr:  99.08%, val:  97.85%, val_best:  97.99%: 100%|██████████| 375/375 [01:26<00:00,  4.34it/s]"
     ]
    },
    {
     "name": "stdout",
     "output_type": "stream",
     "text": [
      "Domain loss,acc: 0.756723, 30.94% Target domain: tr_loss-3.018117, tr_acc-63.36%\n",
      "4,000c1dFalset10:97.85%:97.99% | 1,000c1dFalset10:68.37%:69.58%\n"
     ]
    },
    {
     "name": "stderr",
     "output_type": "stream",
     "text": [
      "\n",
      "epoch-131 lr=['0.0010000'], tr/val_loss:  0.192056/  0.237169, tr:  99.10%, val:  97.83%, val_best:  97.99%: 100%|██████████| 375/375 [01:16<00:00,  4.92it/s]"
     ]
    },
    {
     "name": "stdout",
     "output_type": "stream",
     "text": [
      "Domain loss,acc: 0.760902, 30.90% Target domain: tr_loss-3.036284, tr_acc-62.80%\n",
      "4,000c1dFalset10:97.83%:97.99% | 1,000c1dFalset10:66.81%:69.58%\n"
     ]
    },
    {
     "name": "stderr",
     "output_type": "stream",
     "text": [
      "\n",
      "epoch-132 lr=['0.0010000'], tr/val_loss:  0.191412/  0.237300, tr:  99.09%, val:  97.88%, val_best:  97.99%: 100%|██████████| 375/375 [01:18<00:00,  4.80it/s]"
     ]
    },
    {
     "name": "stdout",
     "output_type": "stream",
     "text": [
      "Domain loss,acc: 0.759889, 30.59% Target domain: tr_loss-3.033796, tr_acc-62.78%\n",
      "4,000c1dFalset10:97.88%:97.99% | 1,000c1dFalset10:68.65%:69.58%\n"
     ]
    },
    {
     "name": "stderr",
     "output_type": "stream",
     "text": [
      "\n",
      "epoch-133 lr=['0.0010000'], tr/val_loss:  0.190501/  0.235204, tr:  99.13%, val:  97.88%, val_best:  97.99%: 100%|██████████| 375/375 [01:18<00:00,  4.72s/it]"
     ]
    },
    {
     "name": "stdout",
     "output_type": "stream",
     "text": [
      "Domain loss,acc: 0.759829, 30.65% Target domain: tr_loss-3.037139, tr_acc-63.08%\n",
      "4,000c1dFalset10:97.88%:97.99% | 1,000c1dFalset10:67.17%:69.58%\n"
     ]
    },
    {
     "name": "stderr",
     "output_type": "stream",
     "text": [
      "epoch-133 lr=['0.0010000'], tr/val_loss:  0.190501/  0.235204, tr:  99.13%, val:  97.88%, val_best:  97.99%: 100%|██████████| 375/375 [01:18<00:00,  4.77it/s]\n",
      "epoch-134 lr=['0.0010000'], tr/val_loss:  0.190624/  0.238847, tr:  99.10%, val:  97.87%, val_best:  97.99%: 100%|██████████| 375/375 [01:17<00:00,  4.84it/s]"
     ]
    },
    {
     "name": "stdout",
     "output_type": "stream",
     "text": [
      "Domain loss,acc: 0.764037, 30.76% Target domain: tr_loss-3.057689, tr_acc-62.38%\n",
      "4,000c1dFalset10:97.87%:97.99% | 1,000c1dFalset10:64.93%:69.58%\n"
     ]
    },
    {
     "name": "stderr",
     "output_type": "stream",
     "text": [
      "\n",
      "epoch-135 lr=['0.0010000'], tr/val_loss:  0.189914/  0.234895, tr:  99.09%, val:  97.94%, val_best:  97.99%: 100%|██████████| 375/375 [01:18<00:00,  4.76it/s]"
     ]
    },
    {
     "name": "stdout",
     "output_type": "stream",
     "text": [
      "Domain loss,acc: 0.766680, 30.75% Target domain: tr_loss-3.073745, tr_acc-62.08%\n",
      "4,000c1dFalset10:97.94%:97.99% | 1,000c1dFalset10:66.50%:69.58%\n"
     ]
    },
    {
     "name": "stderr",
     "output_type": "stream",
     "text": [
      "\n",
      "epoch-136 lr=['0.0010000'], tr/val_loss:  0.189362/  0.236104, tr:  99.11%, val:  97.97%, val_best:  97.99%: 100%|██████████| 375/375 [01:17<00:00,  4.86it/s]"
     ]
    },
    {
     "name": "stdout",
     "output_type": "stream",
     "text": [
      "Domain loss,acc: 0.763333, 30.98% Target domain: tr_loss-3.059216, tr_acc-62.24%\n",
      "4,000c1dFalset10:97.97%:97.99% | 1,000c1dFalset10:68.72%:69.58%\n"
     ]
    },
    {
     "name": "stderr",
     "output_type": "stream",
     "text": [
      "\n",
      "epoch-137 lr=['0.0010000'], tr/val_loss:  0.188858/  0.237042, tr:  99.11%, val:  97.93%, val_best:  97.99%: 100%|██████████| 375/375 [01:17<00:00,  4.81it/s]"
     ]
    },
    {
     "name": "stdout",
     "output_type": "stream",
     "text": [
      "Domain loss,acc: 0.761344, 30.93% Target domain: tr_loss-3.051285, tr_acc-62.78%\n",
      "4,000c1dFalset10:97.93%:97.99% | 1,000c1dFalset10:66.38%:69.58%\n"
     ]
    },
    {
     "name": "stderr",
     "output_type": "stream",
     "text": [
      "\n",
      "epoch-138 lr=['0.0010000'], tr/val_loss:  0.188455/  0.239941, tr:  99.15%, val:  97.88%, val_best:  97.99%: 100%|██████████| 375/375 [01:18<00:00,  4.77it/s]"
     ]
    },
    {
     "name": "stdout",
     "output_type": "stream",
     "text": [
      "Domain loss,acc: 0.763049, 30.94% Target domain: tr_loss-3.061430, tr_acc-62.48%\n",
      "4,000c1dFalset10:97.88%:97.99% | 1,000c1dFalset10:67.57%:69.58%\n"
     ]
    },
    {
     "name": "stderr",
     "output_type": "stream",
     "text": [
      "\n",
      "epoch-139 lr=['0.0010000'], tr/val_loss:  0.188302/  0.235451, tr:  99.11%, val:  97.95%, val_best:  97.99%: 100%|██████████| 375/375 [01:17<00:00,  4.86it/s]"
     ]
    },
    {
     "name": "stdout",
     "output_type": "stream",
     "text": [
      "Domain loss,acc: 0.764379, 30.91% Target domain: tr_loss-3.068687, tr_acc-62.52%\n",
      "4,000c1dFalset10:97.95%:97.99% | 1,000c1dFalset10:66.56%:69.58%\n"
     ]
    },
    {
     "name": "stderr",
     "output_type": "stream",
     "text": [
      "\n",
      "epoch-140 lr=['0.0010000'], tr/val_loss:  0.187333/  0.238382, tr:  99.14%, val:  97.93%, val_best:  97.99%: 100%|██████████| 375/375 [01:16<00:00,  4.91it/s]"
     ]
    },
    {
     "name": "stdout",
     "output_type": "stream",
     "text": [
      "Domain loss,acc: 0.764854, 30.93% Target domain: tr_loss-3.074941, tr_acc-62.62%\n",
      "4,000c1dFalset10:97.93%:97.99% | 1,000c1dFalset10:66.54%:69.58%\n"
     ]
    },
    {
     "name": "stderr",
     "output_type": "stream",
     "text": [
      "\n",
      "epoch-141 lr=['0.0010000'], tr/val_loss:  0.187927/  0.235821, tr:  99.10%, val:  97.95%, val_best:  97.99%: 100%|██████████| 375/375 [01:17<00:00,  4.65s/it]"
     ]
    },
    {
     "name": "stdout",
     "output_type": "stream",
     "text": [
      "Domain loss,acc: 0.764523, 30.92% Target domain: tr_loss-3.070905, tr_acc-62.64%\n",
      "4,000c1dFalset10:97.95%:97.99% | 1,000c1dFalset10:65.56%:69.58%\n"
     ]
    },
    {
     "name": "stderr",
     "output_type": "stream",
     "text": [
      "epoch-141 lr=['0.0010000'], tr/val_loss:  0.187927/  0.235821, tr:  99.10%, val:  97.95%, val_best:  97.99%: 100%|██████████| 375/375 [01:17<00:00,  4.83it/s]\n",
      "epoch-142 lr=['0.0010000'], tr/val_loss:  0.187308/  0.240536, tr:  99.16%, val:  97.86%, val_best:  97.99%: 100%|██████████| 375/375 [01:17<00:00,  4.86it/s]"
     ]
    },
    {
     "name": "stdout",
     "output_type": "stream",
     "text": [
      "Domain loss,acc: 0.764719, 31.02% Target domain: tr_loss-3.074363, tr_acc-62.14%\n",
      "4,000c1dFalset10:97.86%:97.99% | 1,000c1dFalset10:69.01%:69.58%\n"
     ]
    },
    {
     "name": "stderr",
     "output_type": "stream",
     "text": [
      "\n",
      "epoch-143 lr=['0.0010000'], tr/val_loss:  0.186739/  0.238202, tr:  99.15%, val:  97.91%, val_best:  97.99%: 100%|██████████| 375/375 [01:16<00:00,  4.88it/s]"
     ]
    },
    {
     "name": "stdout",
     "output_type": "stream",
     "text": [
      "Domain loss,acc: 0.765371, 30.79% Target domain: tr_loss-3.079896, tr_acc-62.15%\n",
      "4,000c1dFalset10:97.91%:97.99% | 1,000c1dFalset10:68.52%:69.58%\n"
     ]
    },
    {
     "name": "stderr",
     "output_type": "stream",
     "text": [
      "\n",
      "epoch-144 lr=['0.0010000'], tr/val_loss:  0.187447/  0.239154, tr:  99.16%, val:  97.95%, val_best:  97.99%: 100%|██████████| 375/375 [01:18<00:00,  4.78it/s]"
     ]
    },
    {
     "name": "stdout",
     "output_type": "stream",
     "text": [
      "Domain loss,acc: 0.763623, 31.26% Target domain: tr_loss-3.068328, tr_acc-62.78%\n",
      "4,000c1dFalset10:97.95%:97.99% | 1,000c1dFalset10:63.86%:69.58%\n"
     ]
    },
    {
     "name": "stderr",
     "output_type": "stream",
     "text": [
      "\n",
      "epoch-145 lr=['0.0010000'], tr/val_loss:  0.186273/  0.240450, tr:  99.16%, val:  98.05%, val_best:  98.05%: 100%|██████████| 375/375 [01:17<00:00,  4.86it/s]"
     ]
    },
    {
     "name": "stdout",
     "output_type": "stream",
     "text": [
      "Domain loss,acc: 0.764314, 30.84% Target domain: tr_loss-3.076474, tr_acc-62.25%\n",
      "4,000c1dFalset10:98.05%:98.05% | 1,000c1dFalset10:67.57%:69.58%\n"
     ]
    },
    {
     "name": "stderr",
     "output_type": "stream",
     "text": [
      "\n",
      "epoch-146 lr=['0.0010000'], tr/val_loss:  0.186379/  0.240633, tr:  99.14%, val:  97.87%, val_best:  98.05%: 100%|██████████| 375/375 [01:18<00:00,  4.78it/s]"
     ]
    },
    {
     "name": "stdout",
     "output_type": "stream",
     "text": [
      "Domain loss,acc: 0.763403, 31.23% Target domain: tr_loss-3.071506, tr_acc-62.89%\n",
      "4,000c1dFalset10:97.87%:98.05% | 1,000c1dFalset10:62.47%:69.58%\n"
     ]
    },
    {
     "name": "stderr",
     "output_type": "stream",
     "text": [
      "\n",
      "epoch-147 lr=['0.0010000'], tr/val_loss:  0.186115/  0.239682, tr:  99.17%, val:  97.94%, val_best:  98.05%: 100%|██████████| 375/375 [01:18<00:00,  4.80it/s]"
     ]
    },
    {
     "name": "stdout",
     "output_type": "stream",
     "text": [
      "Domain loss,acc: 0.767562, 31.00% Target domain: tr_loss-3.093345, tr_acc-62.42%\n",
      "4,000c1dFalset10:97.94%:98.05% | 1,000c1dFalset10:63.08%:69.58%\n"
     ]
    },
    {
     "name": "stderr",
     "output_type": "stream",
     "text": [
      "\n",
      "epoch-148 lr=['0.0010000'], tr/val_loss:  0.185284/  0.239011, tr:  99.17%, val:  97.87%, val_best:  98.05%: 100%|██████████| 375/375 [01:17<00:00,  4.81it/s]"
     ]
    },
    {
     "name": "stdout",
     "output_type": "stream",
     "text": [
      "Domain loss,acc: 0.766843, 31.32% Target domain: tr_loss-3.093078, tr_acc-62.13%\n",
      "4,000c1dFalset10:97.87%:98.05% | 1,000c1dFalset10:66.46%:69.58%\n"
     ]
    },
    {
     "name": "stderr",
     "output_type": "stream",
     "text": [
      "\n",
      "epoch-149 lr=['0.0010000'], tr/val_loss:  0.185292/  0.240059, tr:  99.15%, val:  97.97%, val_best:  98.05%: 100%|██████████| 375/375 [01:17<00:00,  4.87it/s]"
     ]
    },
    {
     "name": "stdout",
     "output_type": "stream",
     "text": [
      "Domain loss,acc: 0.765712, 31.36% Target domain: tr_loss-3.087389, tr_acc-62.52%\n",
      "4,000c1dFalset10:97.97%:98.05% | 1,000c1dFalset10:66.76%:69.58%\n"
     ]
    },
    {
     "name": "stderr",
     "output_type": "stream",
     "text": [
      "\n",
      "epoch-150 lr=['0.0010000'], tr/val_loss:  0.184989/  0.241292, tr:  99.15%, val:  97.87%, val_best:  98.05%: 100%|██████████| 375/375 [01:22<00:00,  4.75s/it]"
     ]
    },
    {
     "name": "stdout",
     "output_type": "stream",
     "text": [
      "Domain loss,acc: 0.765221, 31.08% Target domain: tr_loss-3.086153, tr_acc-62.46%\n",
      "4,000c1dFalset10:97.87%:98.05% | 1,000c1dFalset10:65.52%:69.58%\n"
     ]
    },
    {
     "name": "stderr",
     "output_type": "stream",
     "text": [
      "epoch-150 lr=['0.0010000'], tr/val_loss:  0.184989/  0.241292, tr:  99.15%, val:  97.87%, val_best:  98.05%: 100%|██████████| 375/375 [01:22<00:00,  4.53it/s]\n",
      "epoch-151 lr=['0.0010000'], tr/val_loss:  0.184649/  0.240286, tr:  99.17%, val:  97.95%, val_best:  98.05%: 100%|██████████| 375/375 [01:20<00:00,  4.66it/s]"
     ]
    },
    {
     "name": "stdout",
     "output_type": "stream",
     "text": [
      "Domain loss,acc: 0.766606, 31.08% Target domain: tr_loss-3.094436, tr_acc-62.42%\n",
      "4,000c1dFalset10:97.95%:98.05% | 1,000c1dFalset10:66.41%:69.58%\n"
     ]
    },
    {
     "name": "stderr",
     "output_type": "stream",
     "text": [
      "\n",
      "epoch-152 lr=['0.0010000'], tr/val_loss:  0.183991/  0.239675, tr:  99.19%, val:  98.04%, val_best:  98.05%: 100%|██████████| 375/375 [01:19<00:00,  4.72it/s]"
     ]
    },
    {
     "name": "stdout",
     "output_type": "stream",
     "text": [
      "Domain loss,acc: 0.763000, 31.26% Target domain: tr_loss-3.079038, tr_acc-62.94%\n",
      "4,000c1dFalset10:98.04%:98.05% | 1,000c1dFalset10:68.27%:69.58%\n"
     ]
    },
    {
     "name": "stderr",
     "output_type": "stream",
     "text": [
      "\n",
      "epoch-153 lr=['0.0010000'], tr/val_loss:  0.184120/  0.239940, tr:  99.16%, val:  97.89%, val_best:  98.05%: 100%|██████████| 375/375 [01:22<00:00,  4.73s/it]"
     ]
    },
    {
     "name": "stdout",
     "output_type": "stream",
     "text": [
      "Domain loss,acc: 0.769105, 31.08% Target domain: tr_loss-3.109041, tr_acc-62.10%\n",
      "4,000c1dFalset10:97.89%:98.05% | 1,000c1dFalset10:67.74%:69.58%\n"
     ]
    },
    {
     "name": "stderr",
     "output_type": "stream",
     "text": [
      "epoch-153 lr=['0.0010000'], tr/val_loss:  0.184120/  0.239940, tr:  99.16%, val:  97.89%, val_best:  98.05%: 100%|██████████| 375/375 [01:22<00:00,  4.56it/s]\n",
      "epoch-154 lr=['0.0010000'], tr/val_loss:  0.183417/  0.238636, tr:  99.18%, val:  97.90%, val_best:  98.05%: 100%|██████████| 375/375 [01:16<00:00,  4.88it/s]"
     ]
    },
    {
     "name": "stdout",
     "output_type": "stream",
     "text": [
      "Domain loss,acc: 0.762742, 31.42% Target domain: tr_loss-3.080042, tr_acc-63.20%\n",
      "4,000c1dFalset10:97.90%:98.05% | 1,000c1dFalset10:64.04%:69.58%\n"
     ]
    },
    {
     "name": "stderr",
     "output_type": "stream",
     "text": [
      "\n",
      "epoch-155 lr=['0.0010000'], tr/val_loss:  0.183423/  0.240586, tr:  99.17%, val:  97.99%, val_best:  98.05%: 100%|██████████| 375/375 [01:19<00:00,  4.73it/s]"
     ]
    },
    {
     "name": "stdout",
     "output_type": "stream",
     "text": [
      "Domain loss,acc: 0.771181, 31.35% Target domain: tr_loss-3.122217, tr_acc-62.04%\n",
      "4,000c1dFalset10:97.99%:98.05% | 1,000c1dFalset10:68.95%:69.58%\n"
     ]
    },
    {
     "name": "stderr",
     "output_type": "stream",
     "text": [
      "\n",
      "epoch-156 lr=['0.0010000'], tr/val_loss:  0.182518/  0.243321, tr:  99.15%, val:  97.84%, val_best:  98.05%: 100%|██████████| 375/375 [01:18<00:00,  4.78it/s]"
     ]
    },
    {
     "name": "stdout",
     "output_type": "stream",
     "text": [
      "Domain loss,acc: 0.767034, 31.01% Target domain: tr_loss-3.105100, tr_acc-62.42%\n",
      "4,000c1dFalset10:97.84%:98.05% | 1,000c1dFalset10:64.72%:69.58%\n"
     ]
    },
    {
     "name": "stderr",
     "output_type": "stream",
     "text": [
      "\n",
      "epoch-157 lr=['0.0010000'], tr/val_loss:  0.182670/  0.240762, tr:  99.18%, val:  97.94%, val_best:  98.05%: 100%|██████████| 375/375 [01:17<00:00,  4.84it/s]"
     ]
    },
    {
     "name": "stdout",
     "output_type": "stream",
     "text": [
      "Domain loss,acc: 0.771931, 31.66% Target domain: tr_loss-3.128977, tr_acc-61.97%\n",
      "4,000c1dFalset10:97.94%:98.05% | 1,000c1dFalset10:68.09%:69.58%\n"
     ]
    },
    {
     "name": "stderr",
     "output_type": "stream",
     "text": [
      "\n",
      "epoch-158 lr=['0.0010000'], tr/val_loss:  0.181995/  0.240466, tr:  99.21%, val:  97.84%, val_best:  98.05%: 100%|██████████| 375/375 [01:17<00:00,  4.81it/s]"
     ]
    },
    {
     "name": "stdout",
     "output_type": "stream",
     "text": [
      "Domain loss,acc: 0.769513, 30.71% Target domain: tr_loss-3.119586, tr_acc-62.36%\n",
      "4,000c1dFalset10:97.84%:98.05% | 1,000c1dFalset10:64.80%:69.58%\n"
     ]
    },
    {
     "name": "stderr",
     "output_type": "stream",
     "text": [
      "\n",
      "epoch-159 lr=['0.0010000'], tr/val_loss:  0.181988/  0.241840, tr:  99.19%, val:  97.78%, val_best:  98.05%: 100%|██████████| 375/375 [01:18<00:00,  4.77it/s]"
     ]
    },
    {
     "name": "stdout",
     "output_type": "stream",
     "text": [
      "Domain loss,acc: 0.770447, 31.32% Target domain: tr_loss-3.124282, tr_acc-62.32%\n",
      "4,000c1dFalset10:97.78%:98.05% | 1,000c1dFalset10:67.61%:69.58%\n"
     ]
    },
    {
     "name": "stderr",
     "output_type": "stream",
     "text": [
      "\n",
      "epoch-160 lr=['0.0010000'], tr/val_loss:  0.181351/  0.240304, tr:  99.24%, val:  97.87%, val_best:  98.05%: 100%|██████████| 375/375 [01:19<00:00,  4.75it/s]"
     ]
    },
    {
     "name": "stdout",
     "output_type": "stream",
     "text": [
      "Domain loss,acc: 0.769251, 30.89% Target domain: tr_loss-3.120848, tr_acc-62.57%\n",
      "4,000c1dFalset10:97.87%:98.05% | 1,000c1dFalset10:65.90%:69.58%\n"
     ]
    },
    {
     "name": "stderr",
     "output_type": "stream",
     "text": [
      "\n",
      "epoch-161 lr=['0.0010000'], tr/val_loss:  0.180906/  0.242254, tr:  99.21%, val:  98.02%, val_best:  98.05%: 100%|██████████| 375/375 [01:17<00:00,  4.82it/s]"
     ]
    },
    {
     "name": "stdout",
     "output_type": "stream",
     "text": [
      "Domain loss,acc: 0.770542, 31.11% Target domain: tr_loss-3.129085, tr_acc-62.37%\n",
      "4,000c1dFalset10:98.02%:98.05% | 1,000c1dFalset10:66.90%:69.58%\n"
     ]
    },
    {
     "name": "stderr",
     "output_type": "stream",
     "text": [
      "\n",
      "epoch-162 lr=['0.0010000'], tr/val_loss:  0.181432/  0.239426, tr:  99.22%, val:  97.84%, val_best:  98.05%: 100%|██████████| 375/375 [01:19<00:00,  4.73it/s]"
     ]
    },
    {
     "name": "stdout",
     "output_type": "stream",
     "text": [
      "Domain loss,acc: 0.769823, 31.03% Target domain: tr_loss-3.123392, tr_acc-63.01%\n",
      "4,000c1dFalset10:97.84%:98.05% | 1,000c1dFalset10:66.77%:69.58%\n"
     ]
    },
    {
     "name": "stderr",
     "output_type": "stream",
     "text": [
      "\n",
      "epoch-163 lr=['0.0010000'], tr/val_loss:  0.180340/  0.238693, tr:  99.19%, val:  98.00%, val_best:  98.05%: 100%|██████████| 375/375 [01:19<00:00,  4.74it/s]"
     ]
    },
    {
     "name": "stdout",
     "output_type": "stream",
     "text": [
      "Domain loss,acc: 0.773094, 30.76% Target domain: tr_loss-3.144110, tr_acc-62.04%\n",
      "4,000c1dFalset10:98.00%:98.05% | 1,000c1dFalset10:67.43%:69.58%\n"
     ]
    },
    {
     "name": "stderr",
     "output_type": "stream",
     "text": [
      "\n",
      "epoch-164 lr=['0.0010000'], tr/val_loss:  0.180396/  0.241085, tr:  99.23%, val:  97.76%, val_best:  98.05%: 100%|██████████| 375/375 [01:19<00:00,  4.72s/it]"
     ]
    },
    {
     "name": "stdout",
     "output_type": "stream",
     "text": [
      "Domain loss,acc: 0.770006, 31.28% Target domain: tr_loss-3.128446, tr_acc-62.68%\n",
      "4,000c1dFalset10:97.76%:98.05% | 1,000c1dFalset10:65.59%:69.58%\n"
     ]
    },
    {
     "name": "stderr",
     "output_type": "stream",
     "text": [
      "epoch-164 lr=['0.0010000'], tr/val_loss:  0.180396/  0.241085, tr:  99.23%, val:  97.76%, val_best:  98.05%: 100%|██████████| 375/375 [01:19<00:00,  4.72it/s]\n",
      "epoch-165 lr=['0.0010000'], tr/val_loss:  0.179862/  0.239947, tr:  99.22%, val:  97.93%, val_best:  98.05%: 100%|██████████| 375/375 [01:20<00:00,  4.73s/it]"
     ]
    },
    {
     "name": "stdout",
     "output_type": "stream",
     "text": [
      "Domain loss,acc: 0.772852, 31.09% Target domain: tr_loss-3.144811, tr_acc-62.20%\n",
      "4,000c1dFalset10:97.93%:98.05% | 1,000c1dFalset10:68.85%:69.58%\n"
     ]
    },
    {
     "name": "stderr",
     "output_type": "stream",
     "text": [
      "epoch-165 lr=['0.0010000'], tr/val_loss:  0.179862/  0.239947, tr:  99.22%, val:  97.93%, val_best:  98.05%: 100%|██████████| 375/375 [01:20<00:00,  4.65it/s]\n",
      "epoch-166 lr=['0.0010000'], tr/val_loss:  0.179853/  0.241915, tr:  99.24%, val:  97.87%, val_best:  98.05%: 100%|██████████| 375/375 [01:17<00:00,  4.82it/s]"
     ]
    },
    {
     "name": "stdout",
     "output_type": "stream",
     "text": [
      "Domain loss,acc: 0.773199, 30.97% Target domain: tr_loss-3.146580, tr_acc-62.42%\n",
      "4,000c1dFalset10:97.87%:98.05% | 1,000c1dFalset10:67.34%:69.58%\n"
     ]
    },
    {
     "name": "stderr",
     "output_type": "stream",
     "text": [
      "\n",
      "epoch-167 lr=['0.0010000'], tr/val_loss:  0.179492/  0.242068, tr:  99.23%, val:  97.81%, val_best:  98.05%: 100%|██████████| 375/375 [01:19<00:00,  4.70it/s]"
     ]
    },
    {
     "name": "stdout",
     "output_type": "stream",
     "text": [
      "Domain loss,acc: 0.773142, 31.23% Target domain: tr_loss-3.147738, tr_acc-62.15%\n",
      "4,000c1dFalset10:97.81%:98.05% | 1,000c1dFalset10:68.09%:69.58%\n"
     ]
    },
    {
     "name": "stderr",
     "output_type": "stream",
     "text": [
      "\n",
      "epoch-168 lr=['0.0010000'], tr/val_loss:  0.178698/  0.238676, tr:  99.25%, val:  97.95%, val_best:  98.05%: 100%|██████████| 375/375 [01:17<00:00,  4.82it/s]"
     ]
    },
    {
     "name": "stdout",
     "output_type": "stream",
     "text": [
      "Domain loss,acc: 0.767194, 31.12% Target domain: tr_loss-3.121176, tr_acc-63.05%\n",
      "4,000c1dFalset10:97.95%:98.05% | 1,000c1dFalset10:65.59%:69.58%\n"
     ]
    },
    {
     "name": "stderr",
     "output_type": "stream",
     "text": [
      "\n",
      "epoch-169 lr=['0.0010000'], tr/val_loss:  0.178380/  0.242012, tr:  99.25%, val:  97.85%, val_best:  98.05%: 100%|██████████| 375/375 [01:23<00:00,  4.51it/s]"
     ]
    },
    {
     "name": "stdout",
     "output_type": "stream",
     "text": [
      "Domain loss,acc: 0.772559, 30.89% Target domain: tr_loss-3.149274, tr_acc-62.61%\n",
      "4,000c1dFalset10:97.85%:98.05% | 1,000c1dFalset10:66.02%:69.58%\n"
     ]
    },
    {
     "name": "stderr",
     "output_type": "stream",
     "text": [
      "\n",
      "epoch-170 lr=['0.0010000'], tr/val_loss:  0.178820/  0.239536, tr:  99.22%, val:  97.90%, val_best:  98.05%: 100%|██████████| 375/375 [01:20<00:00,  4.78s/it]"
     ]
    },
    {
     "name": "stdout",
     "output_type": "stream",
     "text": [
      "Domain loss,acc: 0.772170, 31.08% Target domain: tr_loss-3.145571, tr_acc-62.42%\n",
      "4,000c1dFalset10:97.90%:98.05% | 1,000c1dFalset10:67.84%:69.58%\n"
     ]
    },
    {
     "name": "stderr",
     "output_type": "stream",
     "text": [
      "epoch-170 lr=['0.0010000'], tr/val_loss:  0.178820/  0.239536, tr:  99.22%, val:  97.90%, val_best:  98.05%: 100%|██████████| 375/375 [01:20<00:00,  4.65it/s]\n",
      "epoch-171 lr=['0.0010000'], tr/val_loss:  0.178010/  0.240150, tr:  99.26%, val:  97.85%, val_best:  98.05%: 100%|██████████| 375/375 [01:19<00:00,  4.73it/s]"
     ]
    },
    {
     "name": "stdout",
     "output_type": "stream",
     "text": [
      "Domain loss,acc: 0.771344, 30.94% Target domain: tr_loss-3.144678, tr_acc-62.34%\n",
      "4,000c1dFalset10:97.85%:98.05% | 1,000c1dFalset10:66.73%:69.58%\n"
     ]
    },
    {
     "name": "stderr",
     "output_type": "stream",
     "text": [
      "\n",
      "epoch-172 lr=['0.0010000'], tr/val_loss:  0.178160/  0.240838, tr:  99.21%, val:  97.89%, val_best:  98.05%: 100%|██████████| 375/375 [01:19<00:00,  4.74it/s]"
     ]
    },
    {
     "name": "stdout",
     "output_type": "stream",
     "text": [
      "Domain loss,acc: 0.773637, 31.04% Target domain: tr_loss-3.155547, tr_acc-62.42%\n",
      "4,000c1dFalset10:97.89%:98.05% | 1,000c1dFalset10:67.88%:69.58%\n"
     ]
    },
    {
     "name": "stderr",
     "output_type": "stream",
     "text": [
      "\n",
      "epoch-173 lr=['0.0010000'], tr/val_loss:  0.177441/  0.241310, tr:  99.28%, val:  97.99%, val_best:  98.05%: 100%|██████████| 375/375 [01:19<00:00,  4.72it/s]"
     ]
    },
    {
     "name": "stdout",
     "output_type": "stream",
     "text": [
      "Domain loss,acc: 0.770864, 31.07% Target domain: tr_loss-3.144554, tr_acc-62.61%\n",
      "4,000c1dFalset10:97.99%:98.05% | 1,000c1dFalset10:68.52%:69.58%\n"
     ]
    },
    {
     "name": "stderr",
     "output_type": "stream",
     "text": [
      "\n",
      "epoch-174 lr=['0.0010000'], tr/val_loss:  0.177091/  0.243462, tr:  99.24%, val:  97.91%, val_best:  98.05%: 100%|██████████| 375/375 [01:19<00:00,  4.79s/it]"
     ]
    },
    {
     "name": "stdout",
     "output_type": "stream",
     "text": [
      "Domain loss,acc: 0.771582, 30.98% Target domain: tr_loss-3.149546, tr_acc-62.50%\n",
      "4,000c1dFalset10:97.91%:98.05% | 1,000c1dFalset10:64.92%:69.58%\n"
     ]
    },
    {
     "name": "stderr",
     "output_type": "stream",
     "text": [
      "epoch-174 lr=['0.0010000'], tr/val_loss:  0.177091/  0.243462, tr:  99.24%, val:  97.91%, val_best:  98.05%: 100%|██████████| 375/375 [01:19<00:00,  4.71it/s]\n",
      "epoch-175 lr=['0.0010000'], tr/val_loss:  0.177246/  0.241485, tr:  99.25%, val:  97.90%, val_best:  98.05%: 100%|██████████| 375/375 [01:17<00:00,  4.84it/s]"
     ]
    },
    {
     "name": "stdout",
     "output_type": "stream",
     "text": [
      "Domain loss,acc: 0.770440, 30.99% Target domain: tr_loss-3.143215, tr_acc-62.48%\n",
      "4,000c1dFalset10:97.90%:98.05% | 1,000c1dFalset10:65.86%:69.58%\n"
     ]
    },
    {
     "name": "stderr",
     "output_type": "stream",
     "text": [
      "\n",
      "epoch-176 lr=['0.0010000'], tr/val_loss:  0.177230/  0.241439, tr:  99.26%, val:  97.93%, val_best:  98.05%: 100%|██████████| 375/375 [01:17<00:00,  4.86it/s]"
     ]
    },
    {
     "name": "stdout",
     "output_type": "stream",
     "text": [
      "Domain loss,acc: 0.775828, 31.08% Target domain: tr_loss-3.170219, tr_acc-61.91%\n",
      "4,000c1dFalset10:97.93%:98.05% | 1,000c1dFalset10:67.27%:69.58%\n"
     ]
    },
    {
     "name": "stderr",
     "output_type": "stream",
     "text": [
      "\n",
      "epoch-177 lr=['0.0010000'], tr/val_loss:  0.176116/  0.241263, tr:  99.27%, val:  97.88%, val_best:  98.05%: 100%|██████████| 375/375 [01:19<00:00,  4.69it/s]"
     ]
    },
    {
     "name": "stdout",
     "output_type": "stream",
     "text": [
      "Domain loss,acc: 0.773690, 31.12% Target domain: tr_loss-3.163991, tr_acc-62.51%\n",
      "4,000c1dFalset10:97.88%:98.05% | 1,000c1dFalset10:67.41%:69.58%\n"
     ]
    },
    {
     "name": "stderr",
     "output_type": "stream",
     "text": [
      "\n",
      "epoch-178 lr=['0.0010000'], tr/val_loss:  0.175898/  0.242099, tr:  99.25%, val:  97.94%, val_best:  98.05%: 100%|██████████| 375/375 [01:18<00:00,  4.76it/s]"
     ]
    },
    {
     "name": "stdout",
     "output_type": "stream",
     "text": [
      "Domain loss,acc: 0.776930, 30.85% Target domain: tr_loss-3.181054, tr_acc-62.08%\n",
      "4,000c1dFalset10:97.94%:98.05% | 1,000c1dFalset10:62.29%:69.58%\n"
     ]
    },
    {
     "name": "stderr",
     "output_type": "stream",
     "text": [
      "\n",
      "epoch-179 lr=['0.0010000'], tr/val_loss:  0.175490/  0.241953, tr:  99.28%, val:  97.93%, val_best:  98.05%: 100%|██████████| 375/375 [01:17<00:00,  4.81it/s]"
     ]
    },
    {
     "name": "stdout",
     "output_type": "stream",
     "text": [
      "Domain loss,acc: 0.775506, 30.73% Target domain: tr_loss-3.175573, tr_acc-62.15%\n",
      "4,000c1dFalset10:97.93%:98.05% | 1,000c1dFalset10:66.07%:69.58%\n"
     ]
    },
    {
     "name": "stderr",
     "output_type": "stream",
     "text": [
      "\n",
      "epoch-180 lr=['0.0010000'], tr/val_loss:  0.175299/  0.239895, tr:  99.28%, val:  97.93%, val_best:  98.05%: 100%|██████████| 375/375 [01:19<00:00,  4.73it/s]"
     ]
    },
    {
     "name": "stdout",
     "output_type": "stream",
     "text": [
      "Domain loss,acc: 0.772929, 30.90% Target domain: tr_loss-3.163450, tr_acc-62.25%\n",
      "4,000c1dFalset10:97.93%:98.05% | 1,000c1dFalset10:67.68%:69.58%\n"
     ]
    },
    {
     "name": "stderr",
     "output_type": "stream",
     "text": [
      "\n",
      "epoch-181 lr=['0.0010000'], tr/val_loss:  0.175326/  0.241404, tr:  99.26%, val:  97.95%, val_best:  98.05%: 100%|██████████| 375/375 [01:25<00:00,  4.36it/s]"
     ]
    },
    {
     "name": "stdout",
     "output_type": "stream",
     "text": [
      "Domain loss,acc: 0.772349, 31.25% Target domain: tr_loss-3.160439, tr_acc-62.58%\n",
      "4,000c1dFalset10:97.95%:98.05% | 1,000c1dFalset10:64.65%:69.58%\n"
     ]
    },
    {
     "name": "stderr",
     "output_type": "stream",
     "text": [
      "\n",
      "epoch-182 lr=['0.0010000'], tr/val_loss:  0.174699/  0.240890, tr:  99.26%, val:  98.04%, val_best:  98.05%: 100%|██████████| 375/375 [01:19<00:00,  4.73it/s]"
     ]
    },
    {
     "name": "stdout",
     "output_type": "stream",
     "text": [
      "Domain loss,acc: 0.776169, 30.66% Target domain: tr_loss-3.182050, tr_acc-62.22%\n",
      "4,000c1dFalset10:98.04%:98.05% | 1,000c1dFalset10:67.17%:69.58%\n"
     ]
    },
    {
     "name": "stderr",
     "output_type": "stream",
     "text": [
      "\n",
      "epoch-183 lr=['0.0010000'], tr/val_loss:  0.175452/  0.244763, tr:  99.28%, val:  97.79%, val_best:  98.05%: 100%|██████████| 375/375 [01:19<00:00,  4.74it/s]"
     ]
    },
    {
     "name": "stdout",
     "output_type": "stream",
     "text": [
      "Domain loss,acc: 0.774662, 30.86% Target domain: tr_loss-3.171505, tr_acc-62.53%\n",
      "4,000c1dFalset10:97.79%:98.05% | 1,000c1dFalset10:68.57%:69.58%\n"
     ]
    },
    {
     "name": "stderr",
     "output_type": "stream",
     "text": [
      "\n",
      "epoch-184 lr=['0.0010000'], tr/val_loss:  0.175533/  0.241844, tr:  99.28%, val:  97.95%, val_best:  98.05%: 100%|██████████| 375/375 [01:17<00:00,  4.84it/s]"
     ]
    },
    {
     "name": "stdout",
     "output_type": "stream",
     "text": [
      "Domain loss,acc: 0.774033, 30.73% Target domain: tr_loss-3.168037, tr_acc-62.62%\n",
      "4,000c1dFalset10:97.95%:98.05% | 1,000c1dFalset10:68.01%:69.58%\n"
     ]
    },
    {
     "name": "stderr",
     "output_type": "stream",
     "text": [
      "\n",
      "epoch-185 lr=['0.0010000'], tr/val_loss:  0.174329/  0.245089, tr:  99.28%, val:  97.81%, val_best:  98.05%: 100%|██████████| 375/375 [01:21<00:00,  4.60it/s]"
     ]
    },
    {
     "name": "stdout",
     "output_type": "stream",
     "text": [
      "Domain loss,acc: 0.780496, 30.58% Target domain: tr_loss-3.205164, tr_acc-61.98%\n",
      "4,000c1dFalset10:97.81%:98.05% | 1,000c1dFalset10:66.05%:69.58%\n"
     ]
    },
    {
     "name": "stderr",
     "output_type": "stream",
     "text": [
      "\n",
      "epoch-186 lr=['0.0010000'], tr/val_loss:  0.174823/  0.242045, tr:  99.29%, val:  97.95%, val_best:  98.05%: 100%|██████████| 375/375 [01:18<00:00,  4.75it/s]"
     ]
    },
    {
     "name": "stdout",
     "output_type": "stream",
     "text": [
      "Domain loss,acc: 0.774226, 30.84% Target domain: tr_loss-3.171838, tr_acc-62.36%\n",
      "4,000c1dFalset10:97.95%:98.05% | 1,000c1dFalset10:66.57%:69.58%\n"
     ]
    },
    {
     "name": "stderr",
     "output_type": "stream",
     "text": [
      "\n",
      "epoch-187 lr=['0.0010000'], tr/val_loss:  0.173987/  0.244527, tr:  99.29%, val:  97.93%, val_best:  98.05%: 100%|██████████| 375/375 [01:18<00:00,  4.76it/s]"
     ]
    },
    {
     "name": "stdout",
     "output_type": "stream",
     "text": [
      "Domain loss,acc: 0.778347, 31.00% Target domain: tr_loss-3.195788, tr_acc-62.09%\n",
      "4,000c1dFalset10:97.93%:98.05% | 1,000c1dFalset10:70.46%:70.46%\n"
     ]
    },
    {
     "name": "stderr",
     "output_type": "stream",
     "text": [
      "\n",
      "epoch-188 lr=['0.0010000'], tr/val_loss:  0.174388/  0.239968, tr:  99.29%, val:  97.95%, val_best:  98.05%: 100%|██████████| 375/375 [01:18<00:00,  4.76it/s]"
     ]
    },
    {
     "name": "stdout",
     "output_type": "stream",
     "text": [
      "Domain loss,acc: 0.774717, 30.66% Target domain: tr_loss-3.176034, tr_acc-62.89%\n",
      "4,000c1dFalset10:97.95%:98.05% | 1,000c1dFalset10:65.50%:70.46%\n"
     ]
    },
    {
     "name": "stderr",
     "output_type": "stream",
     "text": [
      "\n",
      "epoch-189 lr=['0.0010000'], tr/val_loss:  0.174175/  0.244489, tr:  99.29%, val:  97.84%, val_best:  98.05%: 100%|██████████| 375/375 [01:19<00:00,  4.74it/s]"
     ]
    },
    {
     "name": "stdout",
     "output_type": "stream",
     "text": [
      "Domain loss,acc: 0.780270, 30.68% Target domain: tr_loss-3.204648, tr_acc-61.98%\n",
      "4,000c1dFalset10:97.84%:98.05% | 1,000c1dFalset10:67.87%:70.46%\n"
     ]
    },
    {
     "name": "stderr",
     "output_type": "stream",
     "text": [
      "\n",
      "epoch-190 lr=['0.0010000'], tr/val_loss:  0.173200/  0.243524, tr:  99.30%, val:  97.82%, val_best:  98.05%: 100%|██████████| 375/375 [01:19<00:00,  4.74it/s]"
     ]
    },
    {
     "name": "stdout",
     "output_type": "stream",
     "text": [
      "Domain loss,acc: 0.778109, 30.93% Target domain: tr_loss-3.197743, tr_acc-62.03%\n",
      "4,000c1dFalset10:97.82%:98.05% | 1,000c1dFalset10:68.87%:70.46%\n"
     ]
    },
    {
     "name": "stderr",
     "output_type": "stream",
     "text": [
      "\n",
      "epoch-191 lr=['0.0010000'], tr/val_loss:  0.173269/  0.244031, tr:  99.31%, val:  97.86%, val_best:  98.05%: 100%|██████████| 375/375 [01:19<00:00,  4.75it/s]"
     ]
    },
    {
     "name": "stdout",
     "output_type": "stream",
     "text": [
      "Domain loss,acc: 0.778469, 31.11% Target domain: tr_loss-3.199269, tr_acc-62.37%\n",
      "4,000c1dFalset10:97.86%:98.05% | 1,000c1dFalset10:66.39%:70.46%\n"
     ]
    },
    {
     "name": "stderr",
     "output_type": "stream",
     "text": [
      "\n",
      "epoch-192 lr=['0.0010000'], tr/val_loss:  0.173459/  0.246042, tr:  99.32%, val:  97.95%, val_best:  98.05%: 100%|██████████| 375/375 [01:19<00:00,  4.74it/s]"
     ]
    },
    {
     "name": "stdout",
     "output_type": "stream",
     "text": [
      "Domain loss,acc: 0.779529, 31.21% Target domain: tr_loss-3.203808, tr_acc-62.04%\n",
      "4,000c1dFalset10:97.95%:98.05% | 1,000c1dFalset10:67.05%:70.46%\n"
     ]
    },
    {
     "name": "stderr",
     "output_type": "stream",
     "text": [
      "\n",
      "epoch-193 lr=['0.0010000'], tr/val_loss:  0.172660/  0.242505, tr:  99.33%, val:  97.90%, val_best:  98.05%: 100%|██████████| 375/375 [01:19<00:00,  4.74it/s]"
     ]
    },
    {
     "name": "stdout",
     "output_type": "stream",
     "text": [
      "Domain loss,acc: 0.778246, 30.89% Target domain: tr_loss-3.200591, tr_acc-62.22%\n",
      "4,000c1dFalset10:97.90%:98.05% | 1,000c1dFalset10:66.43%:70.46%\n"
     ]
    },
    {
     "name": "stderr",
     "output_type": "stream",
     "text": [
      "\n",
      "epoch-194 lr=['0.0010000'], tr/val_loss:  0.172759/  0.245882, tr:  99.32%, val:  98.00%, val_best:  98.05%: 100%|██████████| 375/375 [01:18<00:00,  4.79it/s]"
     ]
    },
    {
     "name": "stdout",
     "output_type": "stream",
     "text": [
      "Domain loss,acc: 0.775053, 30.89% Target domain: tr_loss-3.184229, tr_acc-62.52%\n",
      "4,000c1dFalset10:98.00%:98.05% | 1,000c1dFalset10:64.41%:70.46%\n"
     ]
    },
    {
     "name": "stderr",
     "output_type": "stream",
     "text": [
      "\n",
      "epoch-195 lr=['0.0010000'], tr/val_loss:  0.172906/  0.243809, tr:  99.31%, val:  97.86%, val_best:  98.05%: 100%|██████████| 375/375 [01:19<00:00,  4.72it/s]"
     ]
    },
    {
     "name": "stdout",
     "output_type": "stream",
     "text": [
      "Domain loss,acc: 0.776502, 30.65% Target domain: tr_loss-3.190886, tr_acc-62.50%\n",
      "4,000c1dFalset10:97.86%:98.05% | 1,000c1dFalset10:65.69%:70.46%\n"
     ]
    },
    {
     "name": "stderr",
     "output_type": "stream",
     "text": [
      "\n",
      "epoch-196 lr=['0.0010000'], tr/val_loss:  0.172163/  0.245824, tr:  99.33%, val:  97.92%, val_best:  98.05%: 100%|██████████| 375/375 [01:19<00:00,  4.75it/s]"
     ]
    },
    {
     "name": "stdout",
     "output_type": "stream",
     "text": [
      "Domain loss,acc: 0.774790, 30.96% Target domain: tr_loss-3.185298, tr_acc-62.41%\n",
      "4,000c1dFalset10:97.92%:98.05% | 1,000c1dFalset10:67.27%:70.46%\n"
     ]
    },
    {
     "name": "stderr",
     "output_type": "stream",
     "text": [
      "\n",
      "epoch-197 lr=['0.0010000'], tr/val_loss:  0.172358/  0.245864, tr:  99.32%, val:  97.92%, val_best:  98.05%: 100%|██████████| 375/375 [01:19<00:00,  4.73it/s]"
     ]
    },
    {
     "name": "stdout",
     "output_type": "stream",
     "text": [
      "Domain loss,acc: 0.776070, 30.79% Target domain: tr_loss-3.190916, tr_acc-62.98%\n",
      "4,000c1dFalset10:97.92%:98.05% | 1,000c1dFalset10:65.54%:70.46%\n"
     ]
    },
    {
     "name": "stderr",
     "output_type": "stream",
     "text": [
      "\n",
      "epoch-198 lr=['0.0010000'], tr/val_loss:  0.171751/  0.246101, tr:  99.33%, val:  98.01%, val_best:  98.05%: 100%|██████████| 375/375 [01:18<00:00,  4.76it/s]"
     ]
    },
    {
     "name": "stdout",
     "output_type": "stream",
     "text": [
      "Domain loss,acc: 0.775842, 31.02% Target domain: tr_loss-3.192204, tr_acc-62.61%\n",
      "4,000c1dFalset10:98.01%:98.05% | 1,000c1dFalset10:66.08%:70.46%\n"
     ]
    },
    {
     "name": "stderr",
     "output_type": "stream",
     "text": [
      "\n",
      "epoch-199 lr=['0.0010000'], tr/val_loss:  0.171611/  0.244225, tr:  99.32%, val:  97.99%, val_best:  98.05%: 100%|██████████| 375/375 [01:19<00:00,  4.74s/it]"
     ]
    },
    {
     "name": "stdout",
     "output_type": "stream",
     "text": [
      "Domain loss,acc: 0.777254, 30.95% Target domain: tr_loss-3.199825, tr_acc-62.38%\n",
      "4,000c1dFalset10:97.99%:98.05% | 1,000c1dFalset10:67.34%:70.46%\n"
     ]
    },
    {
     "name": "stderr",
     "output_type": "stream",
     "text": [
      "epoch-199 lr=['0.0010000'], tr/val_loss:  0.171611/  0.244225, tr:  99.32%, val:  97.99%, val_best:  98.05%: 100%|██████████| 375/375 [01:19<00:00,  4.70it/s]\n",
      "epoch-200 lr=['0.0010000'], tr/val_loss:  0.171759/  0.245522, tr:  99.36%, val:  97.96%, val_best:  98.05%: 100%|██████████| 375/375 [01:20<00:00,  4.68it/s]"
     ]
    },
    {
     "name": "stdout",
     "output_type": "stream",
     "text": [
      "Domain loss,acc: 0.777406, 30.68% Target domain: tr_loss-3.199992, tr_acc-62.54%\n",
      "4,000c1dFalset10:97.96%:98.05% | 1,000c1dFalset10:67.79%:70.46%\n"
     ]
    },
    {
     "name": "stderr",
     "output_type": "stream",
     "text": [
      "\n",
      "epoch-201 lr=['0.0010000'], tr/val_loss:  0.170862/  0.248141, tr:  99.34%, val:  97.77%, val_best:  98.05%: 100%|██████████| 375/375 [01:19<00:00,  4.73it/s]"
     ]
    },
    {
     "name": "stdout",
     "output_type": "stream",
     "text": [
      "Domain loss,acc: 0.778289, 30.92% Target domain: tr_loss-3.208001, tr_acc-62.68%\n",
      "4,000c1dFalset10:97.77%:98.05% | 1,000c1dFalset10:63.89%:70.46%\n"
     ]
    },
    {
     "name": "stderr",
     "output_type": "stream",
     "text": [
      "\n",
      "epoch-202 lr=['0.0010000'], tr/val_loss:  0.170727/  0.244870, tr:  99.31%, val:  97.89%, val_best:  98.05%: 100%|██████████| 375/375 [01:18<00:00,  4.78it/s]"
     ]
    },
    {
     "name": "stdout",
     "output_type": "stream",
     "text": [
      "Domain loss,acc: 0.777767, 31.00% Target domain: tr_loss-3.205931, tr_acc-62.48%\n",
      "4,000c1dFalset10:97.89%:98.05% | 1,000c1dFalset10:67.10%:70.46%\n"
     ]
    },
    {
     "name": "stderr",
     "output_type": "stream",
     "text": [
      "\n",
      "epoch-203 lr=['0.0010000'], tr/val_loss:  0.170119/  0.244636, tr:  99.36%, val:  98.01%, val_best:  98.05%: 100%|██████████| 375/375 [01:17<00:00,  4.86it/s]"
     ]
    },
    {
     "name": "stdout",
     "output_type": "stream",
     "text": [
      "Domain loss,acc: 0.775193, 30.82% Target domain: tr_loss-3.195485, tr_acc-62.58%\n",
      "4,000c1dFalset10:98.01%:98.05% | 1,000c1dFalset10:66.30%:70.46%\n"
     ]
    },
    {
     "name": "stderr",
     "output_type": "stream",
     "text": [
      "\n",
      "epoch-204 lr=['0.0010000'], tr/val_loss:  0.170375/  0.248323, tr:  99.34%, val:  97.95%, val_best:  98.05%: 100%|██████████| 375/375 [01:19<00:00,  4.70it/s]"
     ]
    },
    {
     "name": "stdout",
     "output_type": "stream",
     "text": [
      "Domain loss,acc: 0.782747, 30.94% Target domain: tr_loss-3.232234, tr_acc-61.78%\n",
      "4,000c1dFalset10:97.95%:98.05% | 1,000c1dFalset10:66.87%:70.46%\n"
     ]
    },
    {
     "name": "stderr",
     "output_type": "stream",
     "text": [
      "\n",
      "epoch-205 lr=['0.0010000'], tr/val_loss:  0.169491/  0.245150, tr:  99.35%, val:  97.88%, val_best:  98.05%: 100%|██████████| 375/375 [01:19<00:00,  4.70it/s]"
     ]
    },
    {
     "name": "stdout",
     "output_type": "stream",
     "text": [
      "Domain loss,acc: 0.776857, 31.16% Target domain: tr_loss-3.206316, tr_acc-62.49%\n",
      "4,000c1dFalset10:97.88%:98.05% | 1,000c1dFalset10:68.82%:70.46%\n"
     ]
    },
    {
     "name": "stderr",
     "output_type": "stream",
     "text": [
      "\n",
      "epoch-206 lr=['0.0010000'], tr/val_loss:  0.169582/  0.246712, tr:  99.35%, val:  97.91%, val_best:  98.05%: 100%|██████████| 375/375 [01:19<00:00,  4.72it/s]"
     ]
    },
    {
     "name": "stdout",
     "output_type": "stream",
     "text": [
      "Domain loss,acc: 0.778353, 30.81% Target domain: tr_loss-3.213439, tr_acc-62.48%\n",
      "4,000c1dFalset10:97.91%:98.05% | 1,000c1dFalset10:68.54%:70.46%\n"
     ]
    },
    {
     "name": "stderr",
     "output_type": "stream",
     "text": [
      "\n",
      "epoch-207 lr=['0.0010000'], tr/val_loss:  0.169187/  0.245493, tr:  99.35%, val:  97.95%, val_best:  98.05%: 100%|██████████| 375/375 [01:19<00:00,  4.72it/s]"
     ]
    },
    {
     "name": "stdout",
     "output_type": "stream",
     "text": [
      "Domain loss,acc: 0.778580, 31.02% Target domain: tr_loss-3.216147, tr_acc-62.43%\n",
      "4,000c1dFalset10:97.95%:98.05% | 1,000c1dFalset10:68.81%:70.46%\n"
     ]
    },
    {
     "name": "stderr",
     "output_type": "stream",
     "text": [
      "\n",
      "epoch-208 lr=['0.0010000'], tr/val_loss:  0.168933/  0.245753, tr:  99.37%, val:  97.91%, val_best:  98.05%: 100%|██████████| 375/375 [01:19<00:00,  4.74it/s]"
     ]
    },
    {
     "name": "stdout",
     "output_type": "stream",
     "text": [
      "Domain loss,acc: 0.774804, 30.83% Target domain: tr_loss-3.198292, tr_acc-62.79%\n",
      "4,000c1dFalset10:97.91%:98.05% | 1,000c1dFalset10:65.22%:70.46%\n"
     ]
    },
    {
     "name": "stderr",
     "output_type": "stream",
     "text": [
      "\n",
      "epoch-209 lr=['0.0010000'], tr/val_loss:  0.168610/  0.247393, tr:  99.34%, val:  97.99%, val_best:  98.05%: 100%|██████████| 375/375 [01:24<00:00,  4.46it/s]"
     ]
    },
    {
     "name": "stdout",
     "output_type": "stream",
     "text": [
      "Domain loss,acc: 0.781404, 30.86% Target domain: tr_loss-3.232582, tr_acc-62.21%\n",
      "4,000c1dFalset10:97.99%:98.05% | 1,000c1dFalset10:67.94%:70.46%\n"
     ]
    },
    {
     "name": "stderr",
     "output_type": "stream",
     "text": [
      "\n",
      "epoch-210 lr=['0.0010000'], tr/val_loss:  0.168471/  0.247704, tr:  99.37%, val:  97.93%, val_best:  98.05%: 100%|██████████| 375/375 [01:20<00:00,  4.67it/s]"
     ]
    },
    {
     "name": "stdout",
     "output_type": "stream",
     "text": [
      "Domain loss,acc: 0.777026, 30.80% Target domain: tr_loss-3.211244, tr_acc-62.71%\n",
      "4,000c1dFalset10:97.93%:98.05% | 1,000c1dFalset10:67.06%:70.46%\n"
     ]
    },
    {
     "name": "stderr",
     "output_type": "stream",
     "text": [
      "\n",
      "epoch-211 lr=['0.0010000'], tr/val_loss:  0.168535/  0.245876, tr:  99.36%, val:  97.91%, val_best:  98.05%: 100%|██████████| 375/375 [01:18<00:00,  4.76it/s]"
     ]
    },
    {
     "name": "stdout",
     "output_type": "stream",
     "text": [
      "Domain loss,acc: 0.774137, 31.06% Target domain: tr_loss-3.196547, tr_acc-62.81%\n",
      "4,000c1dFalset10:97.91%:98.05% | 1,000c1dFalset10:66.53%:70.46%\n"
     ]
    },
    {
     "name": "stderr",
     "output_type": "stream",
     "text": [
      "\n",
      "epoch-212 lr=['0.0010000'], tr/val_loss:  0.168640/  0.246195, tr:  99.35%, val:  97.90%, val_best:  98.05%: 100%|██████████| 375/375 [01:20<00:00,  4.65it/s]"
     ]
    },
    {
     "name": "stdout",
     "output_type": "stream",
     "text": [
      "Domain loss,acc: 0.780337, 30.97% Target domain: tr_loss-3.227124, tr_acc-62.52%\n",
      "4,000c1dFalset10:97.90%:98.05% | 1,000c1dFalset10:64.51%:70.46%\n"
     ]
    },
    {
     "name": "stderr",
     "output_type": "stream",
     "text": [
      "\n",
      "epoch-213 lr=['0.0010000'], tr/val_loss:  0.168523/  0.244728, tr:  99.34%, val:  98.06%, val_best:  98.06%: 100%|██████████| 375/375 [01:19<00:00,  4.74it/s]"
     ]
    },
    {
     "name": "stdout",
     "output_type": "stream",
     "text": [
      "Domain loss,acc: 0.776350, 31.22% Target domain: tr_loss-3.207657, tr_acc-62.82%\n",
      "4,000c1dFalset10:98.06%:98.06% | 1,000c1dFalset10:63.81%:70.46%\n"
     ]
    },
    {
     "name": "stderr",
     "output_type": "stream",
     "text": [
      "\n",
      "epoch-214 lr=['0.0010000'], tr/val_loss:  0.167726/  0.245851, tr:  99.35%, val:  97.99%, val_best:  98.06%: 100%|██████████| 375/375 [01:19<00:00,  4.70it/s]"
     ]
    },
    {
     "name": "stdout",
     "output_type": "stream",
     "text": [
      "Domain loss,acc: 0.782591, 30.70% Target domain: tr_loss-3.242049, tr_acc-62.05%\n",
      "4,000c1dFalset10:97.99%:98.06% | 1,000c1dFalset10:67.95%:70.46%\n"
     ]
    },
    {
     "name": "stderr",
     "output_type": "stream",
     "text": [
      "\n",
      "epoch-215 lr=['0.0010000'], tr/val_loss:  0.167652/  0.247165, tr:  99.35%, val:  98.05%, val_best:  98.06%: 100%|██████████| 375/375 [01:18<00:00,  4.77it/s]"
     ]
    },
    {
     "name": "stdout",
     "output_type": "stream",
     "text": [
      "Domain loss,acc: 0.779572, 31.09% Target domain: tr_loss-3.227251, tr_acc-62.58%\n",
      "4,000c1dFalset10:98.05%:98.06% | 1,000c1dFalset10:68.69%:70.46%\n"
     ]
    },
    {
     "name": "stderr",
     "output_type": "stream",
     "text": [
      "\n",
      "epoch-216 lr=['0.0010000'], tr/val_loss:  0.167413/  0.245946, tr:  99.39%, val:  98.01%, val_best:  98.06%: 100%|██████████| 375/375 [01:19<00:00,  4.71it/s]"
     ]
    },
    {
     "name": "stdout",
     "output_type": "stream",
     "text": [
      "Domain loss,acc: 0.776901, 31.18% Target domain: tr_loss-3.214855, tr_acc-62.75%\n",
      "4,000c1dFalset10:98.01%:98.06% | 1,000c1dFalset10:65.93%:70.46%\n"
     ]
    },
    {
     "name": "stderr",
     "output_type": "stream",
     "text": [
      "\n",
      "epoch-217 lr=['0.0010000'], tr/val_loss:  0.167263/  0.245169, tr:  99.35%, val:  98.08%, val_best:  98.08%: 100%|██████████| 375/375 [01:18<00:00,  4.81it/s]"
     ]
    },
    {
     "name": "stdout",
     "output_type": "stream",
     "text": [
      "Domain loss,acc: 0.777212, 31.23% Target domain: tr_loss-3.217004, tr_acc-62.69%\n",
      "4,000c1dFalset10:98.08%:98.08% | 1,000c1dFalset10:65.92%:70.46%\n"
     ]
    },
    {
     "name": "stderr",
     "output_type": "stream",
     "text": [
      "\n",
      "epoch-218 lr=['0.0010000'], tr/val_loss:  0.166736/  0.245988, tr:  99.37%, val:  97.99%, val_best:  98.08%: 100%|██████████| 375/375 [01:19<00:00,  4.70it/s]"
     ]
    },
    {
     "name": "stdout",
     "output_type": "stream",
     "text": [
      "Domain loss,acc: 0.780118, 31.05% Target domain: tr_loss-3.233647, tr_acc-62.39%\n",
      "4,000c1dFalset10:97.99%:98.08% | 1,000c1dFalset10:65.66%:70.46%\n"
     ]
    },
    {
     "name": "stderr",
     "output_type": "stream",
     "text": [
      "\n",
      "epoch-219 lr=['0.0010000'], tr/val_loss:  0.167102/  0.245991, tr:  99.35%, val:  98.04%, val_best:  98.08%: 100%|██████████| 375/375 [01:19<00:00,  4.71it/s]"
     ]
    },
    {
     "name": "stdout",
     "output_type": "stream",
     "text": [
      "Domain loss,acc: 0.776706, 31.11% Target domain: tr_loss-3.215124, tr_acc-62.74%\n",
      "4,000c1dFalset10:98.04%:98.08% | 1,000c1dFalset10:66.88%:70.46%\n"
     ]
    },
    {
     "name": "stderr",
     "output_type": "stream",
     "text": [
      "\n",
      "epoch-220 lr=['0.0010000'], tr/val_loss:  0.166154/  0.246664, tr:  99.38%, val:  97.94%, val_best:  98.08%: 100%|██████████| 375/375 [01:16<00:00,  4.88it/s]"
     ]
    },
    {
     "name": "stdout",
     "output_type": "stream",
     "text": [
      "Domain loss,acc: 0.781801, 31.32% Target domain: tr_loss-3.244390, tr_acc-62.51%\n",
      "4,000c1dFalset10:97.94%:98.08% | 1,000c1dFalset10:66.89%:70.46%\n"
     ]
    },
    {
     "name": "stderr",
     "output_type": "stream",
     "text": [
      "\n",
      "epoch-221 lr=['0.0010000'], tr/val_loss:  0.166118/  0.247389, tr:  99.38%, val:  97.94%, val_best:  98.08%: 100%|██████████| 375/375 [01:18<00:00,  4.77it/s]"
     ]
    },
    {
     "name": "stdout",
     "output_type": "stream",
     "text": [
      "Domain loss,acc: 0.770425, 31.23% Target domain: tr_loss-3.187650, tr_acc-63.52%\n",
      "4,000c1dFalset10:97.94%:98.08% | 1,000c1dFalset10:64.71%:70.46%\n"
     ]
    },
    {
     "name": "stderr",
     "output_type": "stream",
     "text": [
      "\n",
      "epoch-222 lr=['0.0010000'], tr/val_loss:  0.165673/  0.245617, tr:  99.38%, val:  97.95%, val_best:  98.08%: 100%|██████████| 375/375 [01:20<00:00,  4.67it/s]"
     ]
    },
    {
     "name": "stdout",
     "output_type": "stream",
     "text": [
      "Domain loss,acc: 0.774429, 31.02% Target domain: tr_loss-3.209454, tr_acc-63.17%\n",
      "4,000c1dFalset10:97.95%:98.08% | 1,000c1dFalset10:63.65%:70.46%\n"
     ]
    },
    {
     "name": "stderr",
     "output_type": "stream",
     "text": [
      "\n",
      "epoch-223 lr=['0.0010000'], tr/val_loss:  0.165676/  0.246535, tr:  99.38%, val:  97.96%, val_best:  98.08%: 100%|██████████| 375/375 [01:21<00:00,  4.78s/it]"
     ]
    },
    {
     "name": "stdout",
     "output_type": "stream",
     "text": [
      "Domain loss,acc: 0.779940, 31.02% Target domain: tr_loss-3.236996, tr_acc-62.94%\n",
      "4,000c1dFalset10:97.96%:98.08% | 1,000c1dFalset10:67.28%:70.46%\n"
     ]
    },
    {
     "name": "stderr",
     "output_type": "stream",
     "text": [
      "epoch-223 lr=['0.0010000'], tr/val_loss:  0.165676/  0.246535, tr:  99.38%, val:  97.96%, val_best:  98.08%: 100%|██████████| 375/375 [01:21<00:00,  4.57it/s]\n",
      "epoch-224 lr=['0.0010000'], tr/val_loss:  0.165282/  0.247054, tr:  99.36%, val:  98.01%, val_best:  98.08%: 100%|██████████| 375/375 [01:24<00:00,  4.77s/it]"
     ]
    },
    {
     "name": "stdout",
     "output_type": "stream",
     "text": [
      "Domain loss,acc: 0.776211, 31.46% Target domain: tr_loss-3.219930, tr_acc-62.98%\n",
      "4,000c1dFalset10:98.01%:98.08% | 1,000c1dFalset10:66.20%:70.46%\n"
     ]
    },
    {
     "name": "stderr",
     "output_type": "stream",
     "text": [
      "epoch-224 lr=['0.0010000'], tr/val_loss:  0.165282/  0.247054, tr:  99.36%, val:  98.01%, val_best:  98.08%: 100%|██████████| 375/375 [01:24<00:00,  4.45it/s]\n",
      "epoch-225 lr=['0.0010000'], tr/val_loss:  0.164917/  0.248798, tr:  99.36%, val:  97.97%, val_best:  98.08%: 100%|██████████| 375/375 [01:27<00:00,  4.30it/s]"
     ]
    },
    {
     "name": "stdout",
     "output_type": "stream",
     "text": [
      "Domain loss,acc: 0.777363, 31.16% Target domain: tr_loss-3.227149, tr_acc-62.98%\n",
      "4,000c1dFalset10:97.97%:98.08% | 1,000c1dFalset10:68.99%:70.46%\n"
     ]
    },
    {
     "name": "stderr",
     "output_type": "stream",
     "text": [
      "\n",
      "epoch-226 lr=['0.0010000'], tr/val_loss:  0.164804/  0.248214, tr:  99.36%, val:  97.96%, val_best:  98.08%: 100%|██████████| 375/375 [01:21<00:00,  4.65s/it]"
     ]
    },
    {
     "name": "stdout",
     "output_type": "stream",
     "text": [
      "Domain loss,acc: 0.778625, 31.53% Target domain: tr_loss-3.233909, tr_acc-62.82%\n",
      "4,000c1dFalset10:97.96%:98.08% | 1,000c1dFalset10:66.65%:70.46%\n"
     ]
    },
    {
     "name": "stderr",
     "output_type": "stream",
     "text": [
      "epoch-226 lr=['0.0010000'], tr/val_loss:  0.164804/  0.248214, tr:  99.36%, val:  97.96%, val_best:  98.08%: 100%|██████████| 375/375 [01:21<00:00,  4.58it/s]\n",
      "epoch-227 lr=['0.0010000'], tr/val_loss:  0.164704/  0.247842, tr:  99.37%, val:  97.97%, val_best:  98.08%: 100%|██████████| 375/375 [01:21<00:00,  4.79s/it]"
     ]
    },
    {
     "name": "stdout",
     "output_type": "stream",
     "text": [
      "Domain loss,acc: 0.779243, 31.66% Target domain: tr_loss-3.237401, tr_acc-63.15%\n",
      "4,000c1dFalset10:97.97%:98.08% | 1,000c1dFalset10:67.27%:70.46%\n"
     ]
    },
    {
     "name": "stderr",
     "output_type": "stream",
     "text": [
      "epoch-227 lr=['0.0010000'], tr/val_loss:  0.164704/  0.247842, tr:  99.37%, val:  97.97%, val_best:  98.08%: 100%|██████████| 375/375 [01:21<00:00,  4.60it/s]\n",
      "epoch-228 lr=['0.0010000'], tr/val_loss:  0.164142/  0.248997, tr:  99.38%, val:  97.90%, val_best:  98.08%: 100%|██████████| 375/375 [01:21<00:00,  4.63it/s]"
     ]
    },
    {
     "name": "stdout",
     "output_type": "stream",
     "text": [
      "Domain loss,acc: 0.778660, 31.34% Target domain: tr_loss-3.236734, tr_acc-63.15%\n",
      "4,000c1dFalset10:97.90%:98.08% | 1,000c1dFalset10:66.18%:70.46%\n"
     ]
    },
    {
     "name": "stderr",
     "output_type": "stream",
     "text": [
      "\n",
      "epoch-229 lr=['0.0010000'], tr/val_loss:  0.164503/  0.248264, tr:  99.37%, val:  98.01%, val_best:  98.08%: 100%|██████████| 375/375 [01:17<00:00,  4.83it/s]"
     ]
    },
    {
     "name": "stdout",
     "output_type": "stream",
     "text": [
      "Domain loss,acc: 0.777293, 31.05% Target domain: tr_loss-3.228454, tr_acc-63.13%\n",
      "4,000c1dFalset10:98.01%:98.08% | 1,000c1dFalset10:67.65%:70.46%\n"
     ]
    },
    {
     "name": "stderr",
     "output_type": "stream",
     "text": [
      "\n",
      "epoch-230 lr=['0.0010000'], tr/val_loss:  0.163538/  0.247721, tr:  99.40%, val:  97.92%, val_best:  98.08%: 100%|██████████| 375/375 [01:18<00:00,  4.77it/s]"
     ]
    },
    {
     "name": "stdout",
     "output_type": "stream",
     "text": [
      "Domain loss,acc: 0.780311, 31.20% Target domain: tr_loss-3.247400, tr_acc-62.58%\n",
      "4,000c1dFalset10:97.92%:98.08% | 1,000c1dFalset10:66.70%:70.46%\n"
     ]
    },
    {
     "name": "stderr",
     "output_type": "stream",
     "text": [
      "\n",
      "epoch-231 lr=['0.0010000'], tr/val_loss:  0.164333/  0.248413, tr:  99.38%, val:  98.00%, val_best:  98.08%: 100%|██████████| 375/375 [01:19<00:00,  4.70it/s]"
     ]
    },
    {
     "name": "stdout",
     "output_type": "stream",
     "text": [
      "Domain loss,acc: 0.783043, 31.30% Target domain: tr_loss-3.257885, tr_acc-62.29%\n",
      "4,000c1dFalset10:98.00%:98.08% | 1,000c1dFalset10:67.55%:70.46%\n"
     ]
    },
    {
     "name": "stderr",
     "output_type": "stream",
     "text": [
      "\n",
      "epoch-232 lr=['0.0010000'], tr/val_loss:  0.163395/  0.250185, tr:  99.38%, val:  97.92%, val_best:  98.08%: 100%|██████████| 375/375 [01:20<00:00,  4.68it/s]"
     ]
    },
    {
     "name": "stdout",
     "output_type": "stream",
     "text": [
      "Domain loss,acc: 0.777910, 31.36% Target domain: tr_loss-3.235969, tr_acc-62.92%\n",
      "4,000c1dFalset10:97.92%:98.08% | 1,000c1dFalset10:65.94%:70.46%\n"
     ]
    },
    {
     "name": "stderr",
     "output_type": "stream",
     "text": [
      "\n",
      "epoch-233 lr=['0.0010000'], tr/val_loss:  0.163438/  0.249680, tr:  99.38%, val:  97.97%, val_best:  98.08%: 100%|██████████| 375/375 [01:19<00:00,  4.72it/s]"
     ]
    },
    {
     "name": "stdout",
     "output_type": "stream",
     "text": [
      "Domain loss,acc: 0.779405, 31.54% Target domain: tr_loss-3.243274, tr_acc-62.79%\n",
      "4,000c1dFalset10:97.97%:98.08% | 1,000c1dFalset10:69.75%:70.46%\n"
     ]
    },
    {
     "name": "stderr",
     "output_type": "stream",
     "text": [
      "\n",
      "epoch-234 lr=['0.0010000'], tr/val_loss:  0.163288/  0.247295, tr:  99.37%, val:  97.95%, val_best:  98.08%: 100%|██████████| 375/375 [01:20<00:00,  4.68it/s]"
     ]
    },
    {
     "name": "stdout",
     "output_type": "stream",
     "text": [
      "Domain loss,acc: 0.782020, 31.48% Target domain: tr_loss-3.256948, tr_acc-62.61%\n",
      "4,000c1dFalset10:97.95%:98.08% | 1,000c1dFalset10:65.93%:70.46%\n"
     ]
    },
    {
     "name": "stderr",
     "output_type": "stream",
     "text": [
      "\n",
      "epoch-235 lr=['0.0010000'], tr/val_loss:  0.162484/  0.246969, tr:  99.39%, val:  98.02%, val_best:  98.08%: 100%|██████████| 375/375 [01:18<00:00,  4.78it/s]"
     ]
    },
    {
     "name": "stdout",
     "output_type": "stream",
     "text": [
      "Domain loss,acc: 0.777098, 31.38% Target domain: tr_loss-3.235553, tr_acc-62.80%\n",
      "4,000c1dFalset10:98.02%:98.08% | 1,000c1dFalset10:67.45%:70.46%\n"
     ]
    },
    {
     "name": "stderr",
     "output_type": "stream",
     "text": [
      "\n",
      "epoch-236 lr=['0.0010000'], tr/val_loss:  0.162891/  0.248396, tr:  99.40%, val:  97.94%, val_best:  98.08%: 100%|██████████| 375/375 [01:19<00:00,  4.69it/s]"
     ]
    },
    {
     "name": "stdout",
     "output_type": "stream",
     "text": [
      "Domain loss,acc: 0.782721, 31.24% Target domain: tr_loss-3.262046, tr_acc-62.53%\n",
      "4,000c1dFalset10:97.94%:98.08% | 1,000c1dFalset10:67.73%:70.46%\n"
     ]
    },
    {
     "name": "stderr",
     "output_type": "stream",
     "text": [
      "\n",
      "epoch-237 lr=['0.0010000'], tr/val_loss:  0.162088/  0.249973, tr:  99.40%, val:  98.01%, val_best:  98.08%: 100%|██████████| 375/375 [01:18<00:00,  4.76it/s]"
     ]
    },
    {
     "name": "stdout",
     "output_type": "stream",
     "text": [
      "Domain loss,acc: 0.779658, 31.50% Target domain: tr_loss-3.249939, tr_acc-62.84%\n",
      "4,000c1dFalset10:98.01%:98.08% | 1,000c1dFalset10:67.65%:70.46%\n"
     ]
    },
    {
     "name": "stderr",
     "output_type": "stream",
     "text": [
      "\n",
      "epoch-238 lr=['0.0010000'], tr/val_loss:  0.162200/  0.250275, tr:  99.40%, val:  97.85%, val_best:  98.08%: 100%|██████████| 375/375 [01:19<00:00,  4.75it/s]"
     ]
    },
    {
     "name": "stdout",
     "output_type": "stream",
     "text": [
      "Domain loss,acc: 0.781663, 31.25% Target domain: tr_loss-3.259511, tr_acc-62.59%\n",
      "4,000c1dFalset10:97.85%:98.08% | 1,000c1dFalset10:64.72%:70.46%\n"
     ]
    },
    {
     "name": "stderr",
     "output_type": "stream",
     "text": [
      "\n",
      "epoch-239 lr=['0.0010000'], tr/val_loss:  0.162704/  0.249009, tr:  99.38%, val:  97.98%, val_best:  98.08%: 100%|██████████| 375/375 [01:18<00:00,  4.80it/s]"
     ]
    },
    {
     "name": "stdout",
     "output_type": "stream",
     "text": [
      "Domain loss,acc: 0.782706, 31.53% Target domain: tr_loss-3.262713, tr_acc-62.48%\n",
      "4,000c1dFalset10:97.98%:98.08% | 1,000c1dFalset10:66.70%:70.46%\n"
     ]
    },
    {
     "name": "stderr",
     "output_type": "stream",
     "text": [
      "\n",
      "epoch-240 lr=['0.0010000'], tr/val_loss:  0.162111/  0.249096, tr:  99.42%, val:  98.04%, val_best:  98.08%: 100%|██████████| 375/375 [01:20<00:00,  4.64it/s]"
     ]
    },
    {
     "name": "stdout",
     "output_type": "stream",
     "text": [
      "Domain loss,acc: 0.783324, 31.61% Target domain: tr_loss-3.268175, tr_acc-62.65%\n",
      "4,000c1dFalset10:98.04%:98.08% | 1,000c1dFalset10:65.55%:70.46%\n"
     ]
    },
    {
     "name": "stderr",
     "output_type": "stream",
     "text": [
      "\n",
      "epoch-241 lr=['0.0010000'], tr/val_loss:  0.161910/  0.252190, tr:  99.41%, val:  97.95%, val_best:  98.08%: 100%|██████████| 375/375 [01:20<00:00,  4.66it/s]"
     ]
    },
    {
     "name": "stdout",
     "output_type": "stream",
     "text": [
      "Domain loss,acc: 0.783098, 31.74% Target domain: tr_loss-3.267851, tr_acc-62.53%\n",
      "4,000c1dFalset10:97.95%:98.08% | 1,000c1dFalset10:67.49%:70.46%\n"
     ]
    },
    {
     "name": "stderr",
     "output_type": "stream",
     "text": [
      "\n",
      "epoch-242 lr=['0.0010000'], tr/val_loss:  0.161383/  0.250660, tr:  99.38%, val:  97.98%, val_best:  98.08%: 100%|██████████| 375/375 [01:19<00:00,  4.71it/s]"
     ]
    },
    {
     "name": "stdout",
     "output_type": "stream",
     "text": [
      "Domain loss,acc: 0.781816, 31.56% Target domain: tr_loss-3.263547, tr_acc-62.68%\n",
      "4,000c1dFalset10:97.98%:98.08% | 1,000c1dFalset10:64.89%:70.46%\n"
     ]
    },
    {
     "name": "stderr",
     "output_type": "stream",
     "text": [
      "\n",
      "epoch-243 lr=['0.0010000'], tr/val_loss:  0.161352/  0.249838, tr:  99.38%, val:  97.96%, val_best:  98.08%: 100%|██████████| 375/375 [01:19<00:00,  4.74it/s]"
     ]
    },
    {
     "name": "stdout",
     "output_type": "stream",
     "text": [
      "Domain loss,acc: 0.786458, 31.58% Target domain: tr_loss-3.286886, tr_acc-62.11%\n",
      "4,000c1dFalset10:97.96%:98.08% | 1,000c1dFalset10:66.51%:70.46%\n"
     ]
    },
    {
     "name": "stderr",
     "output_type": "stream",
     "text": [
      "\n",
      "epoch-244 lr=['0.0010000'], tr/val_loss:  0.160525/  0.250746, tr:  99.41%, val:  98.04%, val_best:  98.08%: 100%|██████████| 375/375 [01:19<00:00,  4.74it/s]"
     ]
    },
    {
     "name": "stdout",
     "output_type": "stream",
     "text": [
      "Domain loss,acc: 0.783030, 31.65% Target domain: tr_loss-3.273046, tr_acc-62.74%\n",
      "4,000c1dFalset10:98.04%:98.08% | 1,000c1dFalset10:69.02%:70.46%\n"
     ]
    },
    {
     "name": "stderr",
     "output_type": "stream",
     "text": [
      "\n",
      "epoch-245 lr=['0.0010000'], tr/val_loss:  0.161016/  0.250507, tr:  99.43%, val:  97.96%, val_best:  98.08%: 100%|██████████| 375/375 [01:18<00:00,  4.77it/s]"
     ]
    },
    {
     "name": "stdout",
     "output_type": "stream",
     "text": [
      "Domain loss,acc: 0.786163, 31.77% Target domain: tr_loss-3.286752, tr_acc-62.52%\n",
      "4,000c1dFalset10:97.96%:98.08% | 1,000c1dFalset10:66.46%:70.46%\n"
     ]
    },
    {
     "name": "stderr",
     "output_type": "stream",
     "text": [
      "\n",
      "epoch-246 lr=['0.0010000'], tr/val_loss:  0.160566/  0.248693, tr:  99.40%, val:  98.06%, val_best:  98.08%: 100%|██████████| 375/375 [01:38<00:00,  3.83it/s]"
     ]
    },
    {
     "name": "stdout",
     "output_type": "stream",
     "text": [
      "Domain loss,acc: 0.784991, 31.28% Target domain: tr_loss-3.282689, tr_acc-62.63%\n",
      "4,000c1dFalset10:98.06%:98.08% | 1,000c1dFalset10:67.00%:70.46%\n"
     ]
    },
    {
     "name": "stderr",
     "output_type": "stream",
     "text": [
      "\n",
      "epoch-247 lr=['0.0010000'], tr/val_loss:  0.160245/  0.251745, tr:  99.43%, val:  98.01%, val_best:  98.08%: 100%|██████████| 375/375 [01:19<00:00,  4.72it/s]"
     ]
    },
    {
     "name": "stdout",
     "output_type": "stream",
     "text": [
      "Domain loss,acc: 0.785790, 31.57% Target domain: tr_loss-3.287969, tr_acc-62.27%\n",
      "4,000c1dFalset10:98.01%:98.08% | 1,000c1dFalset10:68.87%:70.46%\n"
     ]
    },
    {
     "name": "stderr",
     "output_type": "stream",
     "text": [
      "\n",
      "epoch-248 lr=['0.0010000'], tr/val_loss:  0.160686/  0.253699, tr:  99.40%, val:  97.99%, val_best:  98.08%: 100%|██████████| 375/375 [01:23<00:00,  4.48it/s]"
     ]
    },
    {
     "name": "stdout",
     "output_type": "stream",
     "text": [
      "Domain loss,acc: 0.784652, 31.72% Target domain: tr_loss-3.280517, tr_acc-62.80%\n",
      "4,000c1dFalset10:97.99%:98.08% | 1,000c1dFalset10:67.34%:70.46%\n"
     ]
    },
    {
     "name": "stderr",
     "output_type": "stream",
     "text": [
      "\n",
      "epoch-249 lr=['0.0010000'], tr/val_loss:  0.159683/  0.250050, tr:  99.43%, val:  98.08%, val_best:  98.08%: 100%|██████████| 375/375 [01:21<00:00,  4.61it/s]"
     ]
    },
    {
     "name": "stdout",
     "output_type": "stream",
     "text": [
      "Domain loss,acc: 0.788143, 31.72% Target domain: tr_loss-3.301984, tr_acc-62.23%\n",
      "4,000c1dFalset10:98.08%:98.08% | 1,000c1dFalset10:67.62%:70.46%\n"
     ]
    },
    {
     "name": "stderr",
     "output_type": "stream",
     "text": [
      "\n",
      "epoch-250 lr=['0.0010000'], tr/val_loss:  0.160756/  0.249930, tr:  99.42%, val:  98.13%, val_best:  98.13%: 100%|██████████| 375/375 [01:18<00:00,  4.54s/it]"
     ]
    },
    {
     "name": "stdout",
     "output_type": "stream",
     "text": [
      "Domain loss,acc: 0.787499, 31.47% Target domain: tr_loss-3.294473, tr_acc-62.72%\n",
      "4,000c1dFalset10:98.13%:98.13% | 1,000c1dFalset10:67.88%:70.46%\n"
     ]
    },
    {
     "name": "stderr",
     "output_type": "stream",
     "text": [
      "epoch-250 lr=['0.0010000'], tr/val_loss:  0.160756/  0.249930, tr:  99.42%, val:  98.13%, val_best:  98.13%: 100%|██████████| 375/375 [01:18<00:00,  4.75it/s]\n",
      "epoch-251 lr=['0.0010000'], tr/val_loss:  0.159069/  0.254227, tr:  99.46%, val:  98.02%, val_best:  98.13%: 100%|██████████| 375/375 [01:21<00:00,  4.63it/s]"
     ]
    },
    {
     "name": "stdout",
     "output_type": "stream",
     "text": [
      "Domain loss,acc: 0.784397, 31.26% Target domain: tr_loss-3.285709, tr_acc-62.86%\n",
      "4,000c1dFalset10:98.02%:98.13% | 1,000c1dFalset10:66.66%:70.46%\n"
     ]
    },
    {
     "name": "stderr",
     "output_type": "stream",
     "text": [
      "\n",
      "epoch-252 lr=['0.0010000'], tr/val_loss:  0.159768/  0.250073, tr:  99.45%, val:  98.03%, val_best:  98.13%: 100%|██████████| 375/375 [01:20<00:00,  4.71s/it]"
     ]
    },
    {
     "name": "stdout",
     "output_type": "stream",
     "text": [
      "Domain loss,acc: 0.785767, 31.57% Target domain: tr_loss-3.289761, tr_acc-62.63%\n",
      "4,000c1dFalset10:98.03%:98.13% | 1,000c1dFalset10:67.07%:70.46%\n"
     ]
    },
    {
     "name": "stderr",
     "output_type": "stream",
     "text": [
      "epoch-252 lr=['0.0010000'], tr/val_loss:  0.159768/  0.250073, tr:  99.45%, val:  98.03%, val_best:  98.13%: 100%|██████████| 375/375 [01:21<00:00,  4.63it/s]\n",
      "epoch-253 lr=['0.0010000'], tr/val_loss:  0.159234/  0.253287, tr:  99.44%, val:  98.08%, val_best:  98.13%: 100%|██████████| 375/375 [01:23<00:00,  4.73s/it]"
     ]
    },
    {
     "name": "stdout",
     "output_type": "stream",
     "text": [
      "Domain loss,acc: 0.790243, 31.63% Target domain: tr_loss-3.314277, tr_acc-62.13%\n",
      "4,000c1dFalset10:98.08%:98.13% | 1,000c1dFalset10:67.36%:70.46%\n"
     ]
    },
    {
     "name": "stderr",
     "output_type": "stream",
     "text": [
      "epoch-253 lr=['0.0010000'], tr/val_loss:  0.159234/  0.253287, tr:  99.44%, val:  98.08%, val_best:  98.13%: 100%|██████████| 375/375 [01:23<00:00,  4.48it/s]\n",
      "epoch-254 lr=['0.0010000'], tr/val_loss:  0.158903/  0.251116, tr:  99.46%, val:  97.99%, val_best:  98.13%: 100%|██████████| 375/375 [01:20<00:00,  4.72s/it]"
     ]
    },
    {
     "name": "stdout",
     "output_type": "stream",
     "text": [
      "Domain loss,acc: 0.785485, 31.66% Target domain: tr_loss-3.291813, tr_acc-62.75%\n",
      "4,000c1dFalset10:97.99%:98.13% | 1,000c1dFalset10:67.58%:70.46%\n"
     ]
    },
    {
     "name": "stderr",
     "output_type": "stream",
     "text": [
      "epoch-254 lr=['0.0010000'], tr/val_loss:  0.158903/  0.251116, tr:  99.46%, val:  97.99%, val_best:  98.13%: 100%|██████████| 375/375 [01:20<00:00,  4.64it/s]\n",
      "epoch-255 lr=['0.0010000'], tr/val_loss:  0.157927/  0.250843, tr:  99.47%, val:  97.99%, val_best:  98.13%: 100%|██████████| 375/375 [01:18<00:00,  4.76it/s]"
     ]
    },
    {
     "name": "stdout",
     "output_type": "stream",
     "text": [
      "Domain loss,acc: 0.780127, 31.69% Target domain: tr_loss-3.268926, tr_acc-63.27%\n",
      "4,000c1dFalset10:97.99%:98.13% | 1,000c1dFalset10:65.54%:70.46%\n"
     ]
    },
    {
     "name": "stderr",
     "output_type": "stream",
     "text": [
      "\n",
      "epoch-256 lr=['0.0010000'], tr/val_loss:  0.158601/  0.250407, tr:  99.45%, val:  98.01%, val_best:  98.13%: 100%|██████████| 375/375 [01:19<00:00,  4.71s/it]"
     ]
    },
    {
     "name": "stdout",
     "output_type": "stream",
     "text": [
      "Domain loss,acc: 0.788797, 31.72% Target domain: tr_loss-3.309579, tr_acc-62.34%\n",
      "4,000c1dFalset10:98.01%:98.13% | 1,000c1dFalset10:66.25%:70.46%\n"
     ]
    },
    {
     "name": "stderr",
     "output_type": "stream",
     "text": [
      "epoch-256 lr=['0.0010000'], tr/val_loss:  0.158601/  0.250407, tr:  99.45%, val:  98.01%, val_best:  98.13%: 100%|██████████| 375/375 [01:19<00:00,  4.72it/s]\n",
      "epoch-257 lr=['0.0010000'], tr/val_loss:  0.158665/  0.252144, tr:  99.45%, val:  98.05%, val_best:  98.13%: 100%|██████████| 375/375 [01:18<00:00,  4.75it/s]"
     ]
    },
    {
     "name": "stdout",
     "output_type": "stream",
     "text": [
      "Domain loss,acc: 0.789814, 31.79% Target domain: tr_loss-3.314411, tr_acc-62.23%\n",
      "4,000c1dFalset10:98.05%:98.13% | 1,000c1dFalset10:68.71%:70.46%\n"
     ]
    },
    {
     "name": "stderr",
     "output_type": "stream",
     "text": [
      "\n",
      "epoch-258 lr=['0.0010000'], tr/val_loss:  0.158474/  0.253931, tr:  99.44%, val:  97.98%, val_best:  98.13%: 100%|██████████| 375/375 [01:20<00:00,  4.84s/it]"
     ]
    },
    {
     "name": "stdout",
     "output_type": "stream",
     "text": [
      "Domain loss,acc: 0.782877, 31.62% Target domain: tr_loss-3.280488, tr_acc-63.13%\n",
      "4,000c1dFalset10:97.98%:98.13% | 1,000c1dFalset10:66.51%:70.46%\n"
     ]
    },
    {
     "name": "stderr",
     "output_type": "stream",
     "text": [
      "epoch-258 lr=['0.0010000'], tr/val_loss:  0.158474/  0.253931, tr:  99.44%, val:  97.98%, val_best:  98.13%: 100%|██████████| 375/375 [01:20<00:00,  4.67it/s]\n",
      "epoch-259 lr=['0.0010000'], tr/val_loss:  0.157829/  0.253253, tr:  99.47%, val:  98.00%, val_best:  98.13%: 100%|██████████| 375/375 [01:20<00:00,  4.66it/s]"
     ]
    },
    {
     "name": "stdout",
     "output_type": "stream",
     "text": [
      "Domain loss,acc: 0.786175, 31.70% Target domain: tr_loss-3.299561, tr_acc-62.47%\n",
      "4,000c1dFalset10:98.00%:98.13% | 1,000c1dFalset10:69.54%:70.46%\n"
     ]
    },
    {
     "name": "stderr",
     "output_type": "stream",
     "text": [
      "\n",
      "epoch-260 lr=['0.0010000'], tr/val_loss:  0.158344/  0.249711, tr:  99.47%, val:  98.12%, val_best:  98.13%: 100%|██████████| 375/375 [01:25<00:00,  4.36it/s]"
     ]
    },
    {
     "name": "stdout",
     "output_type": "stream",
     "text": [
      "Domain loss,acc: 0.788627, 31.89% Target domain: tr_loss-3.309761, tr_acc-62.70%\n",
      "4,000c1dFalset10:98.12%:98.13% | 1,000c1dFalset10:67.02%:70.46%\n"
     ]
    },
    {
     "name": "stderr",
     "output_type": "stream",
     "text": [
      "\n",
      "epoch-261 lr=['0.0010000'], tr/val_loss:  0.158746/  0.252995, tr:  99.46%, val:  98.00%, val_best:  98.13%: 100%|██████████| 375/375 [01:24<00:00,  4.46it/s]"
     ]
    },
    {
     "name": "stdout",
     "output_type": "stream",
     "text": [
      "Domain loss,acc: 0.790948, 31.33% Target domain: tr_loss-3.319756, tr_acc-62.26%\n",
      "4,000c1dFalset10:98.00%:98.13% | 1,000c1dFalset10:65.98%:70.46%\n"
     ]
    },
    {
     "name": "stderr",
     "output_type": "stream",
     "text": [
      "\n",
      "epoch-262 lr=['0.0010000'], tr/val_loss:  0.157902/  0.253056, tr:  99.45%, val:  98.02%, val_best:  98.13%: 100%|██████████| 375/375 [01:20<00:00,  4.64it/s]"
     ]
    },
    {
     "name": "stdout",
     "output_type": "stream",
     "text": [
      "Domain loss,acc: 0.786742, 31.78% Target domain: tr_loss-3.302103, tr_acc-63.11%\n",
      "4,000c1dFalset10:98.02%:98.13% | 1,000c1dFalset10:65.73%:70.46%\n"
     ]
    },
    {
     "name": "stderr",
     "output_type": "stream",
     "text": [
      "\n",
      "epoch-263 lr=['0.0010000'], tr/val_loss:  0.157867/  0.254377, tr:  99.48%, val:  97.99%, val_best:  98.13%: 100%|██████████| 375/375 [01:22<00:00,  4.72s/it]"
     ]
    },
    {
     "name": "stdout",
     "output_type": "stream",
     "text": [
      "Domain loss,acc: 0.786586, 31.81% Target domain: tr_loss-3.301461, tr_acc-62.98%\n",
      "4,000c1dFalset10:97.99%:98.13% | 1,000c1dFalset10:65.90%:70.46%\n"
     ]
    },
    {
     "name": "stderr",
     "output_type": "stream",
     "text": [
      "epoch-263 lr=['0.0010000'], tr/val_loss:  0.157867/  0.254377, tr:  99.48%, val:  97.99%, val_best:  98.13%: 100%|██████████| 375/375 [01:22<00:00,  4.55it/s]\n",
      "epoch-264 lr=['0.0010000'], tr/val_loss:  0.157704/  0.251327, tr:  99.45%, val:  97.95%, val_best:  98.13%: 100%|██████████| 375/375 [01:20<00:00,  4.65it/s]"
     ]
    },
    {
     "name": "stdout",
     "output_type": "stream",
     "text": [
      "Domain loss,acc: 0.787934, 31.82% Target domain: tr_loss-3.308856, tr_acc-62.96%\n",
      "4,000c1dFalset10:97.95%:98.13% | 1,000c1dFalset10:68.97%:70.46%\n"
     ]
    },
    {
     "name": "stderr",
     "output_type": "stream",
     "text": [
      "\n",
      "epoch-265 lr=['0.0010000'], tr/val_loss:  0.157123/  0.251993, tr:  99.45%, val:  97.95%, val_best:  98.13%: 100%|██████████| 375/375 [01:21<00:00,  4.65s/it]"
     ]
    },
    {
     "name": "stdout",
     "output_type": "stream",
     "text": [
      "Domain loss,acc: 0.785176, 32.00% Target domain: tr_loss-3.297385, tr_acc-62.91%\n",
      "4,000c1dFalset10:97.95%:98.13% | 1,000c1dFalset10:66.38%:70.46%\n"
     ]
    },
    {
     "name": "stderr",
     "output_type": "stream",
     "text": [
      "epoch-265 lr=['0.0010000'], tr/val_loss:  0.157123/  0.251993, tr:  99.45%, val:  97.95%, val_best:  98.13%: 100%|██████████| 375/375 [01:21<00:00,  4.60it/s]\n",
      "epoch-266 lr=['0.0010000'], tr/val_loss:  0.157487/  0.251133, tr:  99.49%, val:  98.06%, val_best:  98.13%: 100%|██████████| 375/375 [01:19<00:00,  4.72it/s]"
     ]
    },
    {
     "name": "stdout",
     "output_type": "stream",
     "text": [
      "Domain loss,acc: 0.793541, 31.97% Target domain: tr_loss-3.337760, tr_acc-62.18%\n",
      "4,000c1dFalset10:98.06%:98.13% | 1,000c1dFalset10:68.01%:70.46%\n"
     ]
    },
    {
     "name": "stderr",
     "output_type": "stream",
     "text": [
      "\n",
      "epoch-267 lr=['0.0010000'], tr/val_loss:  0.156587/  0.252276, tr:  99.50%, val:  98.11%, val_best:  98.13%: 100%|██████████| 375/375 [01:19<00:00,  4.73it/s]"
     ]
    },
    {
     "name": "stdout",
     "output_type": "stream",
     "text": [
      "Domain loss,acc: 0.791308, 31.91% Target domain: tr_loss-3.330190, tr_acc-62.75%\n",
      "4,000c1dFalset10:98.11%:98.13% | 1,000c1dFalset10:67.86%:70.46%\n"
     ]
    },
    {
     "name": "stderr",
     "output_type": "stream",
     "text": [
      "\n",
      "epoch-268 lr=['0.0010000'], tr/val_loss:  0.155848/  0.252221, tr:  99.48%, val:  97.95%, val_best:  98.13%: 100%|██████████| 375/375 [01:19<00:00,  4.74s/it]"
     ]
    },
    {
     "name": "stdout",
     "output_type": "stream",
     "text": [
      "Domain loss,acc: 0.786101, 31.86% Target domain: tr_loss-3.307116, tr_acc-63.03%\n",
      "4,000c1dFalset10:97.95%:98.13% | 1,000c1dFalset10:68.59%:70.46%\n"
     ]
    },
    {
     "name": "stderr",
     "output_type": "stream",
     "text": [
      "epoch-268 lr=['0.0010000'], tr/val_loss:  0.155848/  0.252221, tr:  99.48%, val:  97.95%, val_best:  98.13%: 100%|██████████| 375/375 [01:19<00:00,  4.73it/s]\n",
      "epoch-269 lr=['0.0010000'], tr/val_loss:  0.156423/  0.252029, tr:  99.50%, val:  98.00%, val_best:  98.13%: 100%|██████████| 375/375 [01:19<00:00,  4.69s/it]"
     ]
    },
    {
     "name": "stdout",
     "output_type": "stream",
     "text": [
      "Domain loss,acc: 0.785423, 31.76% Target domain: tr_loss-3.301422, tr_acc-63.18%\n",
      "4,000c1dFalset10:98.00%:98.13% | 1,000c1dFalset10:67.31%:70.46%\n"
     ]
    },
    {
     "name": "stderr",
     "output_type": "stream",
     "text": [
      "epoch-269 lr=['0.0010000'], tr/val_loss:  0.156423/  0.252029, tr:  99.50%, val:  98.00%, val_best:  98.13%: 100%|██████████| 375/375 [01:20<00:00,  4.68it/s]\n",
      "epoch-270 lr=['0.0010000'], tr/val_loss:  0.156938/  0.252336, tr:  99.46%, val:  98.02%, val_best:  98.13%: 100%|██████████| 375/375 [01:18<00:00,  4.67s/it]"
     ]
    },
    {
     "name": "stdout",
     "output_type": "stream",
     "text": [
      "Domain loss,acc: 0.790815, 31.99% Target domain: tr_loss-3.326323, tr_acc-62.91%\n",
      "4,000c1dFalset10:98.02%:98.13% | 1,000c1dFalset10:67.78%:70.46%\n"
     ]
    },
    {
     "name": "stderr",
     "output_type": "stream",
     "text": [
      "epoch-270 lr=['0.0010000'], tr/val_loss:  0.156938/  0.252336, tr:  99.46%, val:  98.02%, val_best:  98.13%: 100%|██████████| 375/375 [01:18<00:00,  4.76it/s]\n",
      "epoch-271 lr=['0.0010000'], tr/val_loss:  0.155735/  0.253008, tr:  99.50%, val:  97.98%, val_best:  98.13%: 100%|██████████| 375/375 [01:21<00:00,  4.62it/s]"
     ]
    },
    {
     "name": "stdout",
     "output_type": "stream",
     "text": [
      "Domain loss,acc: 0.788519, 32.06% Target domain: tr_loss-3.319654, tr_acc-63.11%\n",
      "4,000c1dFalset10:97.98%:98.13% | 1,000c1dFalset10:67.69%:70.46%\n"
     ]
    },
    {
     "name": "stderr",
     "output_type": "stream",
     "text": [
      "\n",
      "epoch-272 lr=['0.0010000'], tr/val_loss:  0.156528/  0.252467, tr:  99.50%, val:  98.07%, val_best:  98.13%: 100%|██████████| 375/375 [01:19<00:00,  4.71it/s]"
     ]
    },
    {
     "name": "stdout",
     "output_type": "stream",
     "text": [
      "Domain loss,acc: 0.792002, 32.22% Target domain: tr_loss-3.333898, tr_acc-62.68%\n",
      "4,000c1dFalset10:98.07%:98.13% | 1,000c1dFalset10:68.10%:70.46%\n"
     ]
    },
    {
     "name": "stderr",
     "output_type": "stream",
     "text": [
      "\n",
      "epoch-273 lr=['0.0010000'], tr/val_loss:  0.155612/  0.255176, tr:  99.47%, val:  97.86%, val_best:  98.13%: 100%|██████████| 375/375 [01:19<00:00,  4.74it/s]"
     ]
    },
    {
     "name": "stdout",
     "output_type": "stream",
     "text": [
      "Domain loss,acc: 0.788224, 31.83% Target domain: tr_loss-3.318671, tr_acc-63.31%\n",
      "4,000c1dFalset10:97.86%:98.13% | 1,000c1dFalset10:66.66%:70.46%\n"
     ]
    },
    {
     "name": "stderr",
     "output_type": "stream",
     "text": [
      "\n",
      "epoch-274 lr=['0.0010000'], tr/val_loss:  0.155719/  0.256016, tr:  99.50%, val:  97.93%, val_best:  98.13%: 100%|██████████| 375/375 [01:19<00:00,  4.72it/s]"
     ]
    },
    {
     "name": "stdout",
     "output_type": "stream",
     "text": [
      "Domain loss,acc: 0.791323, 31.64% Target domain: tr_loss-3.333735, tr_acc-62.83%\n",
      "4,000c1dFalset10:97.93%:98.13% | 1,000c1dFalset10:64.33%:70.46%\n"
     ]
    },
    {
     "name": "stderr",
     "output_type": "stream",
     "text": [
      "\n",
      "epoch-275 lr=['0.0010000'], tr/val_loss:  0.155828/  0.254238, tr:  99.49%, val:  98.01%, val_best:  98.13%: 100%|██████████| 375/375 [01:26<00:00,  4.33it/s]"
     ]
    },
    {
     "name": "stdout",
     "output_type": "stream",
     "text": [
      "Domain loss,acc: 0.789781, 31.81% Target domain: tr_loss-3.325596, tr_acc-63.30%\n",
      "4,000c1dFalset10:98.01%:98.13% | 1,000c1dFalset10:64.95%:70.46%\n"
     ]
    },
    {
     "name": "stderr",
     "output_type": "stream",
     "text": [
      "\n",
      "epoch-276 lr=['0.0010000'], tr/val_loss:  0.155560/  0.258484, tr:  99.50%, val:  97.99%, val_best:  98.13%: 100%|██████████| 375/375 [01:20<00:00,  4.63it/s]"
     ]
    },
    {
     "name": "stdout",
     "output_type": "stream",
     "text": [
      "Domain loss,acc: 0.792860, 31.42% Target domain: tr_loss-3.342059, tr_acc-62.73%\n",
      "4,000c1dFalset10:97.99%:98.13% | 1,000c1dFalset10:68.83%:70.46%\n"
     ]
    },
    {
     "name": "stderr",
     "output_type": "stream",
     "text": [
      "\n",
      "epoch-277 lr=['0.0010000'], tr/val_loss:  0.154486/  0.257883, tr:  99.51%, val:  97.98%, val_best:  98.13%: 100%|██████████| 375/375 [01:19<00:00,  4.73it/s]"
     ]
    },
    {
     "name": "stdout",
     "output_type": "stream",
     "text": [
      "Domain loss,acc: 0.788806, 31.77% Target domain: tr_loss-3.326085, tr_acc-63.00%\n",
      "4,000c1dFalset10:97.98%:98.13% | 1,000c1dFalset10:68.80%:70.46%\n"
     ]
    },
    {
     "name": "stderr",
     "output_type": "stream",
     "text": [
      "\n",
      "epoch-278 lr=['0.0010000'], tr/val_loss:  0.154992/  0.257097, tr:  99.52%, val:  98.03%, val_best:  98.13%: 100%|██████████| 375/375 [01:19<00:00,  4.73it/s]"
     ]
    },
    {
     "name": "stdout",
     "output_type": "stream",
     "text": [
      "Domain loss,acc: 0.793959, 31.81% Target domain: tr_loss-3.349829, tr_acc-62.66%\n",
      "4,000c1dFalset10:98.03%:98.13% | 1,000c1dFalset10:68.18%:70.46%\n"
     ]
    },
    {
     "name": "stderr",
     "output_type": "stream",
     "text": [
      "\n",
      "epoch-279 lr=['0.0010000'], tr/val_loss:  0.154034/  0.254445, tr:  99.52%, val:  98.11%, val_best:  98.13%: 100%|██████████| 375/375 [01:19<00:00,  4.74it/s]"
     ]
    },
    {
     "name": "stdout",
     "output_type": "stream",
     "text": [
      "Domain loss,acc: 0.787497, 31.87% Target domain: tr_loss-3.321350, tr_acc-63.31%\n",
      "4,000c1dFalset10:98.11%:98.13% | 1,000c1dFalset10:63.45%:70.46%\n"
     ]
    },
    {
     "name": "stderr",
     "output_type": "stream",
     "text": [
      "\n",
      "epoch-280 lr=['0.0010000'], tr/val_loss:  0.154571/  0.257087, tr:  99.52%, val:  98.01%, val_best:  98.13%: 100%|██████████| 375/375 [01:22<00:00,  4.57it/s]"
     ]
    },
    {
     "name": "stdout",
     "output_type": "stream",
     "text": [
      "Domain loss,acc: 0.795851, 31.91% Target domain: tr_loss-3.360971, tr_acc-62.68%\n",
      "4,000c1dFalset10:98.01%:98.13% | 1,000c1dFalset10:65.21%:70.46%\n"
     ]
    },
    {
     "name": "stderr",
     "output_type": "stream",
     "text": [
      "\n",
      "epoch-281 lr=['0.0010000'], tr/val_loss:  0.155157/  0.256724, tr:  99.50%, val:  98.00%, val_best:  98.13%: 100%|██████████| 375/375 [01:19<00:00,  4.70it/s]"
     ]
    },
    {
     "name": "stdout",
     "output_type": "stream",
     "text": [
      "Domain loss,acc: 0.790694, 31.86% Target domain: tr_loss-3.332841, tr_acc-63.46%\n",
      "4,000c1dFalset10:98.00%:98.13% | 1,000c1dFalset10:66.94%:70.46%\n"
     ]
    },
    {
     "name": "stderr",
     "output_type": "stream",
     "text": [
      "\n",
      "epoch-282 lr=['0.0010000'], tr/val_loss:  0.153975/  0.255956, tr:  99.48%, val:  98.00%, val_best:  98.13%: 100%|██████████| 375/375 [01:18<00:00,  4.77it/s]"
     ]
    },
    {
     "name": "stdout",
     "output_type": "stream",
     "text": [
      "Domain loss,acc: 0.793176, 31.77% Target domain: tr_loss-3.349981, tr_acc-63.08%\n",
      "4,000c1dFalset10:98.00%:98.13% | 1,000c1dFalset10:67.59%:70.46%\n"
     ]
    },
    {
     "name": "stderr",
     "output_type": "stream",
     "text": [
      "\n",
      "epoch-283 lr=['0.0010000'], tr/val_loss:  0.154138/  0.256187, tr:  99.51%, val:  98.01%, val_best:  98.13%: 100%|██████████| 375/375 [01:20<00:00,  4.68it/s]"
     ]
    },
    {
     "name": "stdout",
     "output_type": "stream",
     "text": [
      "Domain loss,acc: 0.796671, 31.76% Target domain: tr_loss-3.366807, tr_acc-63.04%\n",
      "4,000c1dFalset10:98.01%:98.13% | 1,000c1dFalset10:67.74%:70.46%\n"
     ]
    },
    {
     "name": "stderr",
     "output_type": "stream",
     "text": [
      "\n",
      "epoch-284 lr=['0.0010000'], tr/val_loss:  0.153799/  0.257586, tr:  99.53%, val:  98.04%, val_best:  98.13%: 100%|██████████| 375/375 [01:21<00:00,  4.74s/it]"
     ]
    },
    {
     "name": "stdout",
     "output_type": "stream",
     "text": [
      "Domain loss,acc: 0.794053, 31.84% Target domain: tr_loss-3.355069, tr_acc-62.91%\n",
      "4,000c1dFalset10:98.04%:98.13% | 1,000c1dFalset10:69.57%:70.46%\n"
     ]
    },
    {
     "name": "stderr",
     "output_type": "stream",
     "text": [
      "epoch-284 lr=['0.0010000'], tr/val_loss:  0.153799/  0.257586, tr:  99.53%, val:  98.04%, val_best:  98.13%: 100%|██████████| 375/375 [01:21<00:00,  4.61it/s]\n",
      "epoch-285 lr=['0.0010000'], tr/val_loss:  0.154025/  0.258887, tr:  99.51%, val:  97.98%, val_best:  98.13%: 100%|██████████| 375/375 [01:20<00:00,  4.67it/s]"
     ]
    },
    {
     "name": "stdout",
     "output_type": "stream",
     "text": [
      "Domain loss,acc: 0.795736, 31.47% Target domain: tr_loss-3.362577, tr_acc-62.99%\n",
      "4,000c1dFalset10:97.98%:98.13% | 1,000c1dFalset10:68.13%:70.46%\n"
     ]
    },
    {
     "name": "stderr",
     "output_type": "stream",
     "text": [
      "\n",
      "epoch-286 lr=['0.0010000'], tr/val_loss:  0.153477/  0.258678, tr:  99.52%, val:  97.86%, val_best:  98.13%: 100%|██████████| 375/375 [02:18<00:00,  2.72it/s]"
     ]
    },
    {
     "name": "stdout",
     "output_type": "stream",
     "text": [
      "Domain loss,acc: 0.794411, 31.96% Target domain: tr_loss-3.358145, tr_acc-63.12%\n",
      "4,000c1dFalset10:97.86%:98.13% | 1,000c1dFalset10:68.45%:70.46%\n"
     ]
    },
    {
     "name": "stderr",
     "output_type": "stream",
     "text": [
      "\n",
      "epoch-287 lr=['0.0010000'], tr/val_loss:  0.153116/  0.255767, tr:  99.54%, val:  98.08%, val_best:  98.13%: 100%|██████████| 375/375 [02:29<00:00,  2.51it/s]"
     ]
    },
    {
     "name": "stdout",
     "output_type": "stream",
     "text": [
      "Domain loss,acc: 0.793731, 31.67% Target domain: tr_loss-3.356190, tr_acc-63.14%\n",
      "4,000c1dFalset10:98.08%:98.13% | 1,000c1dFalset10:66.93%:70.46%\n"
     ]
    },
    {
     "name": "stderr",
     "output_type": "stream",
     "text": [
      "\n",
      "epoch-288 lr=['0.0010000'], tr/val_loss:  0.152744/  0.258003, tr:  99.51%, val:  98.04%, val_best:  98.13%: 100%|██████████| 375/375 [01:20<00:00,  4.66it/s]"
     ]
    },
    {
     "name": "stdout",
     "output_type": "stream",
     "text": [
      "Domain loss,acc: 0.795107, 31.54% Target domain: tr_loss-3.364561, tr_acc-63.42%\n",
      "4,000c1dFalset10:98.04%:98.13% | 1,000c1dFalset10:68.32%:70.46%\n"
     ]
    },
    {
     "name": "stderr",
     "output_type": "stream",
     "text": [
      "\n",
      "epoch-289 lr=['0.0010000'], tr/val_loss:  0.153025/  0.255199, tr:  99.50%, val:  98.13%, val_best:  98.13%: 100%|██████████| 375/375 [01:20<00:00,  4.65it/s]"
     ]
    },
    {
     "name": "stdout",
     "output_type": "stream",
     "text": [
      "Domain loss,acc: 0.793933, 31.72% Target domain: tr_loss-3.357560, tr_acc-63.39%\n",
      "4,000c1dFalset10:98.13%:98.13% | 1,000c1dFalset10:69.72%:70.46%\n"
     ]
    },
    {
     "name": "stderr",
     "output_type": "stream",
     "text": [
      "\n",
      "epoch-290 lr=['0.0010000'], tr/val_loss:  0.152880/  0.256206, tr:  99.51%, val:  98.02%, val_best:  98.13%: 100%|██████████| 375/375 [01:20<00:00,  4.67it/s]"
     ]
    },
    {
     "name": "stdout",
     "output_type": "stream",
     "text": [
      "Domain loss,acc: 0.796805, 32.14% Target domain: tr_loss-3.372506, tr_acc-63.04%\n",
      "4,000c1dFalset10:98.02%:98.13% | 1,000c1dFalset10:68.84%:70.46%\n"
     ]
    },
    {
     "name": "stderr",
     "output_type": "stream",
     "text": [
      "\n",
      "epoch-291 lr=['0.0010000'], tr/val_loss:  0.151792/  0.254379, tr:  99.53%, val:  98.06%, val_best:  98.13%: 100%|██████████| 375/375 [01:19<00:00,  4.74s/it]"
     ]
    },
    {
     "name": "stdout",
     "output_type": "stream",
     "text": [
      "Domain loss,acc: 0.796542, 31.82% Target domain: tr_loss-3.375543, tr_acc-62.83%\n",
      "4,000c1dFalset10:98.06%:98.13% | 1,000c1dFalset10:66.03%:70.46%\n"
     ]
    },
    {
     "name": "stderr",
     "output_type": "stream",
     "text": [
      "epoch-291 lr=['0.0010000'], tr/val_loss:  0.151792/  0.254379, tr:  99.53%, val:  98.06%, val_best:  98.13%: 100%|██████████| 375/375 [01:19<00:00,  4.74it/s]\n",
      "epoch-292 lr=['0.0010000'], tr/val_loss:  0.152541/  0.256150, tr:  99.51%, val:  98.06%, val_best:  98.13%: 100%|██████████| 375/375 [01:19<00:00,  4.73it/s]"
     ]
    },
    {
     "name": "stdout",
     "output_type": "stream",
     "text": [
      "Domain loss,acc: 0.797049, 32.34% Target domain: tr_loss-3.375083, tr_acc-63.09%\n",
      "4,000c1dFalset10:98.06%:98.13% | 1,000c1dFalset10:67.55%:70.46%\n"
     ]
    },
    {
     "name": "stderr",
     "output_type": "stream",
     "text": [
      "\n",
      "epoch-293 lr=['0.0010000'], tr/val_loss:  0.152441/  0.257256, tr:  99.51%, val:  97.90%, val_best:  98.13%: 100%|██████████| 375/375 [01:19<00:00,  4.71it/s]"
     ]
    },
    {
     "name": "stdout",
     "output_type": "stream",
     "text": [
      "Domain loss,acc: 0.796252, 31.77% Target domain: tr_loss-3.371494, tr_acc-63.18%\n",
      "4,000c1dFalset10:97.90%:98.13% | 1,000c1dFalset10:64.99%:70.46%\n"
     ]
    },
    {
     "name": "stderr",
     "output_type": "stream",
     "text": [
      "\n",
      "epoch-294 lr=['0.0010000'], tr/val_loss:  0.151926/  0.255356, tr:  99.52%, val:  98.04%, val_best:  98.13%: 100%|██████████| 375/375 [01:56<00:00,  3.22it/s]"
     ]
    },
    {
     "name": "stdout",
     "output_type": "stream",
     "text": [
      "Domain loss,acc: 0.799677, 31.89% Target domain: tr_loss-3.390682, tr_acc-62.85%\n",
      "4,000c1dFalset10:98.04%:98.13% | 1,000c1dFalset10:67.80%:70.46%\n"
     ]
    },
    {
     "name": "stderr",
     "output_type": "stream",
     "text": [
      "\n",
      "epoch-295 lr=['0.0010000'], tr/val_loss:  0.152526/  0.257158, tr:  99.51%, val:  98.02%, val_best:  98.13%: 100%|██████████| 375/375 [01:21<00:00,  4.61it/s]"
     ]
    },
    {
     "name": "stdout",
     "output_type": "stream",
     "text": [
      "Domain loss,acc: 0.798668, 32.12% Target domain: tr_loss-3.383236, tr_acc-63.10%\n",
      "4,000c1dFalset10:98.02%:98.13% | 1,000c1dFalset10:66.48%:70.46%\n"
     ]
    },
    {
     "name": "stderr",
     "output_type": "stream",
     "text": [
      "\n",
      "epoch-296 lr=['0.0010000'], tr/val_loss:  0.151822/  0.257275, tr:  99.52%, val:  98.00%, val_best:  98.13%: 100%|██████████| 375/375 [01:20<00:00,  4.65it/s]"
     ]
    },
    {
     "name": "stdout",
     "output_type": "stream",
     "text": [
      "Domain loss,acc: 0.797957, 31.59% Target domain: tr_loss-3.382499, tr_acc-63.00%\n",
      "4,000c1dFalset10:98.00%:98.13% | 1,000c1dFalset10:65.82%:70.46%\n"
     ]
    },
    {
     "name": "stderr",
     "output_type": "stream",
     "text": [
      "\n",
      "epoch-297 lr=['0.0010000'], tr/val_loss:  0.151847/  0.258039, tr:  99.53%, val:  98.03%, val_best:  98.13%: 100%|██████████| 375/375 [01:19<00:00,  4.71it/s]"
     ]
    },
    {
     "name": "stdout",
     "output_type": "stream",
     "text": [
      "Domain loss,acc: 0.797181, 31.75% Target domain: tr_loss-3.378521, tr_acc-63.40%\n",
      "4,000c1dFalset10:98.03%:98.13% | 1,000c1dFalset10:67.53%:70.46%\n"
     ]
    },
    {
     "name": "stderr",
     "output_type": "stream",
     "text": [
      "\n",
      "epoch-298 lr=['0.0010000'], tr/val_loss:  0.151629/  0.258357, tr:  99.53%, val:  97.99%, val_best:  98.13%: 100%|██████████| 375/375 [01:19<00:00,  4.72it/s]"
     ]
    },
    {
     "name": "stdout",
     "output_type": "stream",
     "text": [
      "Domain loss,acc: 0.797799, 31.76% Target domain: tr_loss-3.382486, tr_acc-63.24%\n",
      "4,000c1dFalset10:97.99%:98.13% | 1,000c1dFalset10:67.80%:70.46%\n"
     ]
    },
    {
     "name": "stderr",
     "output_type": "stream",
     "text": [
      "\n",
      "epoch-299 lr=['0.0010000'], tr/val_loss:  0.151323/  0.257653, tr:  99.50%, val:  97.94%, val_best:  98.13%: 100%|██████████| 375/375 [01:20<00:00,  4.65it/s]"
     ]
    },
    {
     "name": "stdout",
     "output_type": "stream",
     "text": [
      "Domain loss,acc: 0.795687, 31.73% Target domain: tr_loss-3.373146, tr_acc-63.32%\n",
      "4,000c1dFalset10:97.94%:98.13% | 1,000c1dFalset10:66.26%:70.46%\n"
     ]
    },
    {
     "name": "stderr",
     "output_type": "stream",
     "text": [
      "\n"
     ]
    },
    {
     "data": {
      "text/plain": [
       "'\\nddp_on 키고, gpu 개수 만큼 batch size 나눠줘\\nCUDA_VISIBLE_DEVICES=0,1,2,3,4,5 python -m torch.distributed.launch --nproc_per_node=6 main_ddp.py\\nCUDA_VISIBLE_DEVICES=1,2,3 python -m torch.distributed.launch --nproc_per_node=3 main_ddp.py\\nCUDA_VISIBLE_DEVICES=0,1,2,3 python -m torch.distributed.launch --nproc_per_node=4 main_ddp.py\\n'"
      ]
     },
     "execution_count": 5,
     "metadata": {},
     "output_type": "execute_result"
    }
   ],
   "source": [
    "### my_snn control board (Gesture) ########################\n",
    "decay = 0.25 # 0.875 0.25 0.125 0.75 0.5\n",
    "# nda 0.25 # ottt 0.5\n",
    "const2 = False # trace 할거면 True, 안할거면 False\n",
    "\n",
    "unique_name = 'main' ## 이거 설정하면 새로운 경로에 모두 save\n",
    "run_name = 'main' ## 이거 설정하면 새로운 경로에 모두 save\n",
    "\n",
    "if const2 == True:\n",
    "    const2 = decay\n",
    "else:\n",
    "    const2 = 0.0\n",
    "\n",
    "wandb.init(project= f'my_snn {unique_name}',save_code=True)\n",
    "\n",
    "my_snn_system(  devices = \"2\",\n",
    "                single_step = True, # True # False\n",
    "                unique_name = run_name,\n",
    "                my_seed = 42,\n",
    "                TIME = 10, # dvscifar 10 # ottt 6 or 10 # nda 10  # 제작하는 dvs에서 TIME넘거나 적으면 자르거나 PADDING함\n",
    "                BATCH = 128, # batch norm 할거면 2이상으로 해야함   # nda 256   #  ottt 128\n",
    "                IMAGE_SIZE = 34, # dvscifar 48 # MNIST 28 # CIFAR10 32 # PMNIST 28 #NMNIST 34 # GESTURE 128\n",
    "                # dvsgesture 128, dvs_cifar2 128, nmnist 34, n_caltech101 180,240, n_tidigits 64, heidelberg 700, \n",
    "                #pmnist는 28로 해야 됨. 나머지는 바꿔도 돌아는 감.\n",
    "\n",
    "                # DVS_CIFAR10 할거면 time 10으로 해라\n",
    "                which_data = 'NMNIST_TONIC',\n",
    "# 'CIFAR100' 'CIFAR10' 'MNIST' 'FASHION_MNIST' 'DVS_CIFAR10' 'PMNIST'아직\n",
    "# 'DVS_GESTURE', 'DVS_GESTURE_TONIC','DVS_CIFAR10_2','NMNIST','NMNIST_TONIC','CIFAR10','N_CALTECH101','n_tidigits','heidelberg'\n",
    "                # CLASS_NUM = 10,\n",
    "                data_path = '/data2', # YOU NEED TO CHANGE THIS\n",
    "                rate_coding = False, # True # False\n",
    "                lif_layer_v_init = 0.0,\n",
    "                lif_layer_v_decay = decay,\n",
    "                lif_layer_v_threshold = 0.720291189014991, # 1.3102821334243646,  # 10000이상으로 하면 NDA LIF 씀. #nda 0.5  #ottt 1.0\n",
    "                lif_layer_v_reset = 10000, # 10000이상은 hardreset (내 LIF쓰기는 함 ㅇㅇ)\n",
    "                lif_layer_sg_width = 3.555718888923306, # 2.570969004857107 # sigmoid류에서는 alpha값 4.0, rectangle류에서는 width값 0.5\n",
    "\n",
    "                # synapse_conv_in_channels = IMAGE_PIXEL_CHANNEL,\n",
    "                synapse_conv_kernel_size = 3,\n",
    "                synapse_conv_stride = 1,\n",
    "                synapse_conv_padding = 1,\n",
    "                synapse_conv_trace_const1 = 1, # 현재 trace구할 때 현재 spike에 곱해지는 상수. 걍 1로 두셈.\n",
    "                synapse_conv_trace_const2 = const2, # 현재 trace구할 때 직전 trace에 곱해지는 상수. lif_layer_v_decay와 같게 할 것을 추천\n",
    "\n",
    "                # synapse_fc_out_features = CLASS_NUM,\n",
    "                synapse_fc_trace_const1 = 1, # 현재 trace구할 때 현재 spike에 곱해지는 상수. 걍 1로 두셈.\n",
    "                synapse_fc_trace_const2 = const2, # 현재 trace구할 때 직전 trace에 곱해지는 상수. lif_layer_v_decay와 같게 할 것을 추천\n",
    "\n",
    "                pre_trained = False, # True # False\n",
    "                convTrue_fcFalse = False, # True # False\n",
    "\n",
    "                # 'P' for average pooling, 'D' for (1,1) aver pooling, 'M' for maxpooling, 'L' for linear classifier, [  ] for residual block\n",
    "                # conv에서 10000 이상은 depth-wise separable (BPTT만 지원), 20000이상은 depth-wise (BPTT만 지원)\n",
    "                # cfg = [64, 64],\n",
    "                # cfg = [64, 124, 64, 124],\n",
    "                # cfg = ['M','M',512], \n",
    "                # cfg = [512], \n",
    "                # cfg = ['M', 'M', 64, 128, 'P', 128, 'P'], \n",
    "                # cfg = ['M','M',512],\n",
    "                # cfg = ['M',200],\n",
    "                # cfg = [200,200],\n",
    "                # cfg = ['M','M',200,200],\n",
    "                cfg = ([200],[200],[200],[2]), # (feature extractor, classifier, domain adapter, # of domain)\n",
    "                # cfg = (['M','M',200],[200],[200],[2]), # (feature extractor, classifier, domain adapter, # of domain)\n",
    "                # cfg = ['M',200,200],\n",
    "                # cfg = ['M','M',1024,512,256,128,64],\n",
    "                # cfg = [200,200],\n",
    "                # cfg = [12], #fc\n",
    "                # cfg = [12, 'M', 48, 'M', 12], \n",
    "                # cfg = [64,[64,64],64], # 끝에 linear classifier 하나 자동으로 붙습니다\n",
    "                # cfg = [64, 128, 'P', 256, 256, 'P', 512, 512, 'P', 512, 512, 'D'], #ottt\n",
    "                # cfg = [64, 128, 'P', 256, 256, 'P', 512, 512, 'P', 512, 512], \n",
    "                # cfg = [64, 128, 'M', 256, 256, 'M', 512, 512, 'M', 512, 512], \n",
    "                # cfg = [64, 'P', 128, 'P', 256, 256, 'P', 512, 512, 512, 512, 'D'], # nda\n",
    "                # cfg = [64, 'P', 128, 'P', 256, 256, 'P', 512, 512, 512, 512], # nda 128pixel\n",
    "                # cfg = [64, 'P', 128, 'P', 256, 256, 'P', 512, 512, 512, 512, 'L', 4096, 4096],\n",
    "                # cfg = [20001,10001], # depthwise, separable\n",
    "                # cfg = [64,20064,10001], # vanilla conv, depthwise, separable\n",
    "                # cfg = [8, 'P', 8, 'P', 8, 'P', 8,'P', 8, 'P'],\n",
    "                # cfg = [],        \n",
    "                \n",
    "                net_print = True, # True # False # True로 하길 추천\n",
    "                weight_count_print = False, # True # False\n",
    "                \n",
    "                pre_trained_path = f\"net_save/save_now_net_weights_{unique_name}.pth\",\n",
    "                learning_rate = 0.001, #0.1 bptt, #0.01 ottt, # default 0.001  # ottt 0.1 # nda 0.001 # 0.00936191669529645\n",
    "                epoch_num = 300,\n",
    "                verbose_interval = 999999999, #이거 걍 건들지마셈 #숫자 크게 하면 꺼짐 #걍 중간중간 iter에서 끊어서 출력\n",
    "                validation_interval =  999999999,#999999999, #이거 걍 건들지마셈 #숫자 크게 하면 에포크 마지막 iter 때 val 함\n",
    "\n",
    "                tdBN_on = False,  # True # False\n",
    "                BN_on = False,  # True # False\n",
    "                \n",
    "                surrogate = 'hard_sigmoid', # 'sigmoid' 'rectangle' 'rough_rectangle' 'hard_sigmoid'\n",
    "                \n",
    "                gradient_verbose = False,  # True # False  # weight gradient 각 layer마다 띄워줌\n",
    "\n",
    "                BPTT_on = False,  # True # False # True이면 BPTT, False이면 OTTT  # depthwise, separable은 BPTT만 가능\n",
    "                optimizer_what = 'SGD', # 'SGD' 'Adam', 'RMSprop'\n",
    "                scheduler_name = 'no', # 'no' 'StepLR' 'ExponentialLR' 'ReduceLROnPlateau' 'CosineAnnealingLR' 'OneCycleLR'\n",
    "                \n",
    "                ddp_on = False,   # True # False \n",
    "                # 지원 DATASET: cifar10, mnist\n",
    "\n",
    "                nda_net = False,   # True # False\n",
    "\n",
    "                domain_il_epoch = 0, # over 0, then domain il mode on # pmnist 쓸거면 HLOP 코드보고 더 디벨롭하셈. 지금 개발 hold함.\n",
    "                \n",
    "                dvs_clipping = 1, #일반적으로 1 또는 2 # 100ms때는 5 # 숫자만큼 크면 spike 아니면 걍 0\n",
    "                # gesture, cifar-dvs2, nmnist, ncaltech101\n",
    "                # gesture: 100_000c1-5, 25_000c5, 10_000c5, 1_000c5, 1_000_000c5\n",
    "\n",
    "                dvs_duration = 4_000, # 0 아니면 time sampling # dvs number sampling OR time sampling # gesture, cifar-dvs2, nmnist, ncaltech101\n",
    "                # 있는 데이터들 #gesture 100_000 25_000 10_000 1_000 1_000_000 #nmnist 10000 #nmnist_tonic 10_000 25_000\n",
    "                # 한 숫자가 1us인듯 (spikingjelly코드에서)\n",
    "                # 한 장에 50 timestep만 생산함. 싫으면 my_snn/trying/spikingjelly_dvsgesture의__init__.py 를 참고해봐\n",
    "                # nmnist 5_000us, gesture는 100_000us, 25_000us\n",
    "\n",
    "                OTTT_sWS_on = False, # True # False # BPTT끄고, CONV에만 적용됨.\n",
    "\n",
    "                DFA_on = True, # True # False # residual은 dfa지원안함.\n",
    "                OTTT_input_trace_on = False, # True # False # 맨 처음 input에 trace 적용\n",
    "                \n",
    "                e_transport_swap = 0, # 1 이상이면 해당 숫자 에포크만큼 val_acc_best가 변화가 없으면 e_transport scheme (BP vs DFA) swap\n",
    "                e_transport_swap_tr = 0, # 1 이상이면 해당 숫자 에포크만큼 tr_acc_best가 변화가 없으면 e_transport scheme (BP vs DFA) swap\n",
    "                e_transport_swap_coin = 1, # swap할 수 있는 coin 개수\n",
    "\n",
    "                drop_rate = 0, # drop_rate만큼 0으로 만듦. ex) 0.2면 activation의 20%를 0으로 만듦.\n",
    "\n",
    "                exclude_class = True, # True # False # gesture에서 10번째 클래스 제외\n",
    "\n",
    "                merge_polarities = False, # True # False # tonic dvs dataset 에서 polarities 합치기\n",
    "                denoise_on = False, # True # False # &&&&&&&&&&&&&&&&&&&&&&&&&&&&&&&&&&&&&&&&&&&&&&&&&&&&&&&\n",
    "\n",
    "                I_wanna_sweep_at_this_epoch = -1, # 지정 에포크에서 BP와 DFA를 바꿔줌. -1이면 실행 안함.\n",
    "                # dvs_duration_domain=[(100_000,5,False),(125_000,5,False),(150_000,5,False),],\n",
    "                # dvs_duration_domain=[(40_000,4,False),(50_000,4,False),(60_000,4,False),],\n",
    "                # [duration, clipping, denoise_on]\n",
    "                dvs_duration_domain=[(1000,1,False)],\n",
    "                dvs_relative_timestep = False, # True # False \n",
    "                \n",
    "                extra_train_dataset = 0,\n",
    "\n",
    "                num_workers = 2, # local wsl에서는 2가 맞고, 서버에서는 4가 좋더라.\n",
    "                chaching_on = True, # True # False # only for certain datasets (gesture_tonic, nmnist_tonic)\n",
    "                pin_memory = True, # True # False \n",
    "\n",
    "                UDA_on = True, # True # False\n",
    "                UDA_data = (1000,1,False), # (duration, clipping, denoise_on)\n",
    "                src_trg_ratio = 4, # (1이상의 정수) src data와 trg data의 개수 비율 (대략적으로)\n",
    "                adapter_loss_weight = 0.0, # 1.0  # adapter loss의 힘. # 이걸 0으로하면 src only learning.\n",
    "                alpha_uda = 1.0, # GRL의 alpha값\n",
    "                UDA_start_epoch = 0, # UDA를 시작하는 에포크\n",
    "\n",
    "                temporal_filter = 1, # 1이면 아무것도 안함. 한타임스텝에 쑤셔 넣을 window개수. \n",
    "                initial_pooling = 2, # 1이면 pooling 안함. 2의 승수만 입력하셈. log2를 취해서 pooling할 window size를 결정함.\n",
    "                ) \n",
    "\n",
    "# num_workers = 4 * num_GPU (or 8, 16, 2 * num_GPU)\n",
    "# entry * batch_size * num_worker = num_GPU * GPU_throughtput\n",
    "# num_workers = batch_size / num_GPU\n",
    "# num_workers = batch_size / num_CPU\n",
    "\n",
    "# sigmoid와 BN이 있어야 잘된다.\n",
    "# average pooling  \n",
    "# 이 낫다. \n",
    "\n",
    "# nda에서는 decay = 0.25, threshold = 0.5, width =1, surrogate = rectangle, batch = 256, tdBN = True\n",
    "## OTTT 에서는 decay = 0.5, threshold = 1.0, surrogate = sigmoid, batch = 128, BN = True\n",
    "\n",
    "\n",
    "# DDP 실행 코드0\n",
    "'''\n",
    "ddp_on 키고, gpu 개수 만큼 batch size 나눠줘\n",
    "CUDA_VISIBLE_DEVICES=0,1,2,3,4,5 python -m torch.distributed.launch --nproc_per_node=6 main_ddp.py\n",
    "CUDA_VISIBLE_DEVICES=1,2,3 python -m torch.distributed.launch --nproc_per_node=3 main_ddp.py\n",
    "CUDA_VISIBLE_DEVICES=0,1,2,3 python -m torch.distributed.launch --nproc_per_node=4 main_ddp.py\n",
    "'''\n",
    "\n"
   ]
  },
  {
   "cell_type": "code",
   "execution_count": 6,
   "metadata": {},
   "outputs": [],
   "source": [
    "# # sweep 하는 코드, 위 셀 주석처리 해야 됨.\n",
    "\n",
    "# # 이런 워닝 뜨는 거는 걍 너가 main 안에서  wandb.config.update(hyperparameters)할 때 물려서임. 어차피 근데 sweep에서 지정한 걸로 덮어짐 \n",
    "# # wandb: WARNING Config item 'BATCH' was locked by 'sweep' (ignored update).\n",
    "\n",
    "# unique_name_hyper = 'main'\n",
    "# run_name = 'main'\n",
    "# sweep_configuration = {\n",
    "#     'method': 'random', # 'random', 'bayes'\n",
    "#     'name': f'my_snn_sweep{datetime.datetime.now().strftime(\"%Y%m%d_%H%M%S\")}',\n",
    "#     'metric': {'goal': 'maximize', 'name': 'val_acc_best'},\n",
    "#     'parameters': \n",
    "#     {\n",
    "#         \"learning_rate\": {\"values\": [0.001]}, #0.00936191669529645\n",
    "#         \"BATCH\": {\"values\": [16]},\n",
    "#         \"decay\": {\"values\": [0.25]},\n",
    "#         \"IMAGE_SIZE\": {\"values\": [128]},\n",
    "#         \"TIME\": {\"values\": [10]},\n",
    "#         \"epoch_num\": {\"values\": [200]},\n",
    "#         \"dvs_duration\": {\"values\": [25_000,50_000,100_000]},\n",
    "#         \"dvs_clipping\": {\"values\": [1,2,3,4,5]},\n",
    "#         \"which_data\": {\"values\": ['DVS_GESTURE_TONIC']},\n",
    "#         \"OTTT_sWS_on\": {\"values\": [False]},\n",
    "#         \"const2\": {\"values\": [False]},\n",
    "#         \"surrogate\": {\"values\": ['hard_sigmoid']},\n",
    "#         \"DFA_on\": {\"values\": [False]},\n",
    "#         \"OTTT_input_trace_on\": {\"values\": [False]},\n",
    "#         \"cfg\": {\"values\": [['M','M',200,200]]},\n",
    "#         \"e_transport_swap\": {\"values\": [0]},\n",
    "#         \"e_transport_swap_tr\": {\"values\": [0]},\n",
    "#         \"drop_rate\": {\"values\": [0.0]}, # \"drop_rate\": {\"values\": [0.25,0.5,0.75]}, #\"drop_rate\": {\"min\": 0.25, \"max\": 0.75},\n",
    "#         \"exclude_class\": {\"values\": [True]},\n",
    "#         \"merge_polarities\": {\"values\": [False]},\n",
    "#         \"lif_layer_v_reset\": {\"values\": [10000]},\n",
    "#         \"lif_layer_sg_width\": {\"values\": [3.555718888923306]},\n",
    "#         \"e_transport_swap_coin\": {\"values\": [1]},\n",
    "#         \"lif_layer_v_threshold\": {\"values\": [0.720291189014991]},\n",
    "#         \"scheduler_name\": {\"values\": ['no']},  # 'no' 'StepLR' 'ExponentialLR' 'ReduceLROnPlateau' 'CosineAnnealingLR' 'OneCycleLR'\n",
    "#         \"denoise_on\": {\"values\": [True,False]}, \n",
    "#         \"I_wanna_sweep_at_this_epoch\": {\"values\": [-1]}, \n",
    "#         \"dvs_duration_domain\": {\"values\": [[]]}, \n",
    "#         \"dvs_relative_timestep\": {\"values\": [[False]]}, \n",
    "#         \"extra_train_dataset\": {\"values\": [0]}, \n",
    "#      }\n",
    "# }\n",
    "\n",
    "# def hyper_iter():\n",
    "#     ### my_snn control board ########################\n",
    "#     unique_name = unique_name_hyper ## 이거 설정하면 새로운 경로에 모두 save\n",
    "    \n",
    "#     wandb.init(save_code = True)\n",
    "#     learning_rate  =  wandb.config.learning_rate\n",
    "#     BATCH  =  wandb.config.BATCH\n",
    "#     decay  =  wandb.config.decay\n",
    "#     IMAGE_SIZE  =  wandb.config.IMAGE_SIZE\n",
    "#     TIME  =  wandb.config.TIME\n",
    "#     epoch_num  =  wandb.config.epoch_num \n",
    "#     dvs_duration  =  wandb.config.dvs_duration\n",
    "#     dvs_clipping  =  wandb.config.dvs_clipping\n",
    "#     which_data  =  wandb.config.which_data\n",
    "#     OTTT_sWS_on  =  wandb.config.OTTT_sWS_on\n",
    "#     const2  =  wandb.config.const2\n",
    "#     surrogate  =  wandb.config.surrogate\n",
    "#     DFA_on  =  wandb.config.DFA_on\n",
    "#     OTTT_input_trace_on  =  wandb.config.OTTT_input_trace_on\n",
    "#     cfg  =  wandb.config.cfg\n",
    "#     e_transport_swap  =  wandb.config.e_transport_swap\n",
    "#     e_transport_swap_tr  =  wandb.config.e_transport_swap_tr\n",
    "#     drop_rate  =  wandb.config.drop_rate\n",
    "#     exclude_class  =  wandb.config.exclude_class\n",
    "#     merge_polarities  =  wandb.config.merge_polarities\n",
    "#     lif_layer_v_reset  =  wandb.config.lif_layer_v_reset\n",
    "#     lif_layer_sg_width  =  wandb.config.lif_layer_sg_width\n",
    "#     e_transport_swap_coin  =  wandb.config.e_transport_swap_coin\n",
    "#     lif_layer_v_threshold  =  wandb.config.lif_layer_v_threshold\n",
    "#     scheduler_name  =  wandb.config.scheduler_name\n",
    "#     denoise_on  =  wandb.config.denoise_on\n",
    "#     I_wanna_sweep_at_this_epoch  =  wandb.config.I_wanna_sweep_at_this_epoch\n",
    "#     dvs_duration_domain  =  wandb.config.dvs_duration_domain\n",
    "#     dvs_relative_timestep  =  wandb.config.dvs_relative_timestep\n",
    "#     extra_train_dataset  =  wandb.config.extra_train_dataset\n",
    "#     if const2 == True:\n",
    "#         const2 = decay\n",
    "#     else:\n",
    "#         const2 = 0.0\n",
    "\n",
    "#     my_snn_system(  devices = \"5\",\n",
    "#                 single_step = True, # True # False\n",
    "#                 unique_name = run_name,\n",
    "#                 my_seed = 42,\n",
    "#                 TIME = TIME , # dvscifar 10 # ottt 6 or 10 # nda 10  # 제작하는 dvs에서 TIME넘거나 적으면 자르거나 PADDING함\n",
    "#                 BATCH = BATCH, # batch norm 할거면 2이상으로 해야함   # nda 256   #  ottt 128\n",
    "#                 IMAGE_SIZE = IMAGE_SIZE, # dvscifar 48 # MNIST 28 # CIFAR10 32 # PMNIST 28 #NMNIST 34 # GESTURE 128\n",
    "#                 # dvsgesture 128, dvs_cifar2 128, nmnist 34, n_caltech101 180,240, n_tidigits 64, heidelberg 700, \n",
    "#                 #pmnist는 28로 해야 됨. 나머지는 바꿔도 돌아는 감.\n",
    "\n",
    "#                 # DVS_CIFAR10 할거면 time 10으로 해라\n",
    "#                 which_data = which_data,\n",
    "# # 'CIFAR100' 'CIFAR10' 'MNIST' 'FASHION_MNIST' 'DVS_CIFAR10' 'PMNIST'아직\n",
    "# # 'DVS_GESTURE', 'DVS_GESTURE_TONIC','DVS_CIFAR10_2','NMNIST','NMNIST_TONIC','N_CALTECH101','n_tidigits','heidelberg'\n",
    "#                 # CLASS_NUM = 10,\n",
    "#                 data_path = '/data2', # YOU NEED TO CHANGE THIS\n",
    "#                 rate_coding = False, # True # False\n",
    "#                 lif_layer_v_init = 0.0,\n",
    "#                 lif_layer_v_decay = decay,\n",
    "#                 lif_layer_v_threshold = lif_layer_v_threshold,  # 10000이상으로 하면 NDA LIF 씀. #nda 0.5  #ottt 1.0\n",
    "#                 lif_layer_v_reset = lif_layer_v_reset, # 10000이상은 hardreset (내 LIF쓰기는 함 ㅇㅇ)\n",
    "#                 lif_layer_sg_width = lif_layer_sg_width, # # surrogate sigmoid 쓸 때는 의미없음\n",
    "\n",
    "#                 # synapse_conv_in_channels = IMAGE_PIXEL_CHANNEL,\n",
    "#                 synapse_conv_kernel_size = 3,\n",
    "#                 synapse_conv_stride = 1,\n",
    "#                 synapse_conv_padding = 1,\n",
    "#                 synapse_conv_trace_const1 = 1, # 현재 trace구할 때 현재 spike에 곱해지는 상수. 걍 1로 두셈.\n",
    "#                 synapse_conv_trace_const2 = const2, # 현재 trace구할 때 직전 trace에 곱해지는 상수. lif_layer_v_decay와 같게 할 것을 추천\n",
    "\n",
    "#                 # synapse_fc_out_features = CLASS_NUM,\n",
    "#                 synapse_fc_trace_const1 = 1, # 현재 trace구할 때 현재 spike에 곱해지는 상수. 걍 1로 두셈.\n",
    "#                 synapse_fc_trace_const2 = const2, # 현재 trace구할 때 직전 trace에 곱해지는 상수. lif_layer_v_decay와 같게 할 것을 추천\n",
    "\n",
    "#                 pre_trained = False, # True # False\n",
    "#                 convTrue_fcFalse = False, # True # False\n",
    "\n",
    "#                 # 'P' for average pooling, 'D' for (1,1) aver pooling, 'M' for maxpooling, 'L' for linear classifier, [  ] for residual block\n",
    "#                 # conv에서 10000 이상은 depth-wise separable (BPTT만 지원), 20000이상은 depth-wise (BPTT만 지원)\n",
    "#                 # cfg = [64, 64],\n",
    "#                 # cfg = [64, 124, 64, 124],\n",
    "#                 # cfg = ['M','M',512], \n",
    "#                 # cfg = [512], \n",
    "#                 # cfg = ['M', 'M', 64, 128, 'P', 128, 'P'], \n",
    "#                 # cfg = ['M','M',200,200],\n",
    "#                 # cfg = [200,200],\n",
    "#                 cfg = cfg,\n",
    "#                 # cfg = [12], #fc\n",
    "#                 # cfg = [12, 'M', 48, 'M', 12], \n",
    "#                 # cfg = [64,[64,64],64], # 끝에 linear classifier 하나 자동으로 붙습니다\n",
    "#                 # cfg = [64, 128, 'P', 256, 256, 'P', 512, 512, 'P', 512, 512, 'D'], #ottt\n",
    "#                 # cfg = [64, 128, 'P', 256, 256, 'P', 512, 512, 'P', 512, 512], \n",
    "#                 # cfg = [64, 128, 'M', 256, 256, 'M', 512, 512, 'M', 512, 512], \n",
    "#                 # cfg = [64, 'P', 128, 'P', 256, 256, 'P', 512, 512, 512, 512, 'D'], # nda\n",
    "#                 # cfg = [64, 'P', 128, 'P', 256, 256, 'P', 512, 512, 512, 512], # nda 128pixel\n",
    "#                 # cfg = [64, 'P', 128, 'P', 256, 256, 'P', 512, 512, 512, 512, 'L', 4096, 4096],\n",
    "#                 # cfg = [20001,10001], # depthwise, separable\n",
    "#                 # cfg = [64,20064,10001], # vanilla conv, depthwise, separable\n",
    "#                 # cfg = [8, 'P', 8, 'P', 8, 'P', 8,'P', 8, 'P'],\n",
    "#                 # cfg = [], \n",
    "                \n",
    "#                 net_print = True, # True # False # True로 하길 추천\n",
    "#                 weight_count_print = False, # True # False\n",
    "                \n",
    "#                 pre_trained_path = f\"net_save/save_now_net_weights_{unique_name}.pth\",\n",
    "#                 learning_rate = learning_rate, # default 0.001  # ottt 0.1 # nda 0.001 \n",
    "#                 epoch_num = epoch_num,\n",
    "#                 verbose_interval = 999999999, #숫자 크게 하면 꺼짐 #걍 중간중간 iter에서 끊어서 출력\n",
    "#                 validation_interval =  999999999,#999999999, #숫자 크게 하면 에포크 마지막 iter 때 val 함\n",
    "\n",
    "#                 tdBN_on = False,  # True # False\n",
    "#                 BN_on = False,  # True # False\n",
    "                \n",
    "#                 surrogate = surrogate, # 'rectangle' 'sigmoid' 'rough_rectangle'\n",
    "                \n",
    "#                 gradient_verbose = False,  # True # False  # weight gradient 각 layer마다 띄워줌\n",
    "\n",
    "#                 BPTT_on = False,  # True # False # True이면 BPTT, False이면 OTTT  # depthwise, separable은 BPTT만 가능\n",
    "#                 optimizer_what = 'SGD', # 'SGD' 'Adam', 'RMSprop'\n",
    "#                 scheduler_name = scheduler_name, # 'no' 'StepLR' 'ExponentialLR' 'ReduceLROnPlateau' 'CosineAnnealingLR' 'OneCycleLR'\n",
    "                \n",
    "#                 ddp_on = False,   # True # False \n",
    "#                 # 지원 DATASET: cifar10, mnist\n",
    "\n",
    "#                 nda_net = False,   # True # False\n",
    "\n",
    "#                 domain_il_epoch = 0, # over 0, then domain il mode on # pmnist 쓸거면 HLOP 코드보고 더 디벨롭하셈. 지금 개발 hold함.\n",
    "                \n",
    "#                 dvs_clipping = dvs_clipping, # 숫자만큼 크면 spike 아니면 걍 0\n",
    "#                 # gesture, cifar-dvs2, nmnist, ncaltech101\n",
    "\n",
    "#                 dvs_duration = dvs_duration, # 0 아니면 time sampling # dvs number sampling OR time sampling # gesture, cifar-dvs2, nmnist, ncaltech101\n",
    "#                 # 있는 데이터들 #gesture 100_000 25_000 10_000 1_000 1_000_000 #nmnist 10000 #nmnist_tonic 10_000 25_000\n",
    "#                 # 한 숫자가 1us인듯 (spikingjelly코드에서)\n",
    "#                 # 한 장에 50 timestep만 생산함. 싫으면 my_snn/trying/spikingjelly_dvsgesture의__init__.py 를 참고해봐\n",
    "\n",
    "#                 OTTT_sWS_on = OTTT_sWS_on, # True # False # BPTT끄고, CONV에만 적용됨.\n",
    "\n",
    "#                 DFA_on = DFA_on, # True # False # residual은 dfa지원안함.\n",
    "#                 OTTT_input_trace_on = OTTT_input_trace_on, # True # False # 맨 처음 input에 trace 적용\n",
    "                 \n",
    "#                 e_transport_swap = e_transport_swap, # 1 이상이면 해당 숫자 에포크만큼 val_acc_best가 변화가 없으면 e_transport scheme (BP vs DFA) swap\n",
    "#                 e_transport_swap_tr = e_transport_swap_tr, # 1 이상이면 해당 숫자 에포크만큼 tr_acc_best가 변화가 없으면 e_transport scheme (BP vs DFA) swap\n",
    "#                 e_transport_swap_coin = e_transport_swap_coin, # swap할 수 있는 coin 개수\n",
    "                    \n",
    "#                 drop_rate = drop_rate,\n",
    "\n",
    "#                 exclude_class = exclude_class, # True # False # gesture에서 10번째 클래스 제외\n",
    "\n",
    "#                 merge_polarities = merge_polarities, # True # False # tonic dvs dataset 에서 polarities 합치기\n",
    "#                 denoise_on = denoise_on,\n",
    "\n",
    "#                 I_wanna_sweep_at_this_epoch = I_wanna_sweep_at_this_epoch,\n",
    "#                 dvs_duration_domain = dvs_duration_domain,\n",
    "#                 dvs_relative_timestep = dvs_relative_timestep, # True # False \n",
    "\n",
    "#                 extra_train_dataset = extra_train_dataset,\n",
    "\n",
    "#                 num_workers = 2,\n",
    "#                 chaching_on = True,\n",
    "#                 pin_memory = True, # True # False\n",
    "#                     ) \n",
    "#     # sigmoid와 BN이 있어야 잘된다.\n",
    "#     # average pooling\n",
    "#     # 이 낫다. \n",
    "    \n",
    "#     # nda에서는 decay = 0.25, threshold = 0.5, width =1, surrogate = rectangle, batch = 256, tdBN = True\n",
    "#     ## OTTT 에서는 decay = 0.5, threshold = 1.0, surrogate = sigmoid, batch = 128, BN = True\n",
    "\n",
    "# sweep_id = wandb.sweep(sweep=sweep_configuration, project=f'my_snn {unique_name_hyper}')\n",
    "# wandb.agent(sweep_id, function=hyper_iter, count=10000, project=f'my_snn {unique_name_hyper}')\n"
   ]
  },
  {
   "cell_type": "code",
   "execution_count": 7,
   "metadata": {},
   "outputs": [
    {
     "data": {
      "application/vnd.jupyter.widget-view+json": {
       "model_id": "e6002174050d41d8ba4601c6e3694c43",
       "version_major": 2,
       "version_minor": 0
      },
      "text/plain": [
       "VBox(children=(Label(value='8.444 MB of 8.444 MB uploaded (3.861 MB deduped)\\r'), FloatProgress(value=1.0, max…"
      ]
     },
     "metadata": {},
     "output_type": "display_data"
    },
    {
     "data": {
      "text/html": [
       "W&B sync reduced upload amount by 39.6%"
      ],
      "text/plain": [
       "<IPython.core.display.HTML object>"
      ]
     },
     "metadata": {},
     "output_type": "display_data"
    },
    {
     "data": {
      "text/html": [
       "<style>\n",
       "    table.wandb td:nth-child(1) { padding: 0 10px; text-align: left ; width: auto;} td:nth-child(2) {text-align: left ; width: 100%}\n",
       "    .wandb-row { display: flex; flex-direction: row; flex-wrap: wrap; justify-content: flex-start; width: 100% }\n",
       "    .wandb-col { display: flex; flex-direction: column; flex-basis: 100%; flex: 1; padding: 10px; }\n",
       "    </style>\n",
       "<div class=\"wandb-row\"><div class=\"wandb-col\"><h3>Run history:</h3><br/><table class=\"wandb\"><tr><td>DFA_flag</td><td>▁▁▁▁▁▁▁▁▁▁▁▁▁▁▁▁▁▁▁▁▁▁▁▁▁▁▁▁▁▁▁▁▁▁▁▁▁▁▁▁</td></tr><tr><td>epoch</td><td>▁▁▁▂▂▂▂▂▂▃▃▃▃▃▃▄▄▄▄▄▅▅▅▅▅▅▆▆▆▆▆▇▇▇▇▇▇███</td></tr><tr><td>iter_acc</td><td>▁▇███████▄▄▃█▃████████▄██▄▄█████████▄▄▄▄</td></tr><tr><td>summary_val_acc</td><td>▁▅▆▇▇▇▇▇▇▇▇▇████████████████████████████</td></tr><tr><td>tr_acc</td><td>▁▅▆▆▇▇▇▇▇▇▇▇▇▇██████████████████████████</td></tr><tr><td>tr_epoch_loss</td><td>█▄▃▃▂▂▂▂▂▂▂▂▂▂▂▂▁▁▁▁▁▁▁▁▁▁▁▁▁▁▁▁▁▁▁▁▁▁▁▁</td></tr><tr><td>val_acc_best</td><td>▁▅▆▇▇▇▇▇▇▇██████████████████████████████</td></tr><tr><td>val_acc_now</td><td>▁▅▆▇▇▇▇▇▇▇▇▇████████████████████████████</td></tr><tr><td>val_acc_now_set[1]</td><td>▁▅▆▆▆▇▇▇▇█▇▇█▇▇▇██▇█▇▇██▇█▇▇▇▇▇█▇█▇▇█▇█▇</td></tr><tr><td>val_acc_now_set[1]_best</td><td>▁▅▆▆▇▇▇▇▇▇▇▇▇▇██████████████████████████</td></tr><tr><td>val_loss</td><td>█▃▂▂▂▁▁▁▁▁▁▁▁▁▁▁▁▁▁▁▁▁▁▁▁▁▁▁▁▁▁▁▁▁▁▁▁▂▂▂</td></tr></table><br/></div><div class=\"wandb-col\"><h3>Run summary:</h3><br/><table class=\"wandb\"><tr><td>DFA_flag</td><td>1.0</td></tr><tr><td>epoch</td><td>299</td></tr><tr><td>iter_acc</td><td>1.0</td></tr><tr><td>tr_acc</td><td>0.99504</td></tr><tr><td>tr_epoch_loss</td><td>0.15132</td></tr><tr><td>val_acc_best</td><td>0.9813</td></tr><tr><td>val_acc_now</td><td>0.9794</td></tr><tr><td>val_acc_now_set[1]</td><td>0.6626</td></tr><tr><td>val_acc_now_set[1]_best</td><td>0.7046</td></tr><tr><td>val_loss</td><td>0.25765</td></tr></table><br/></div></div>"
      ],
      "text/plain": [
       "<IPython.core.display.HTML object>"
      ]
     },
     "metadata": {},
     "output_type": "display_data"
    },
    {
     "data": {
      "text/html": [
       " View run <strong style=\"color:#cdcd00\">youthful-planet-6630</strong> at: <a href='https://wandb.ai/bhkim003-seoul-national-university/my_snn%20main/runs/hvm9tp2d' target=\"_blank\">https://wandb.ai/bhkim003-seoul-national-university/my_snn%20main/runs/hvm9tp2d</a><br/> View project at: <a href='https://wandb.ai/bhkim003-seoul-national-university/my_snn%20main' target=\"_blank\">https://wandb.ai/bhkim003-seoul-national-university/my_snn%20main</a><br/>Synced 7 W&B file(s), 0 media file(s), 31 artifact file(s) and 1 other file(s)"
      ],
      "text/plain": [
       "<IPython.core.display.HTML object>"
      ]
     },
     "metadata": {},
     "output_type": "display_data"
    },
    {
     "data": {
      "text/html": [
       "Find logs at: <code>./wandb/run-20241023_030710-hvm9tp2d/logs</code>"
      ],
      "text/plain": [
       "<IPython.core.display.HTML object>"
      ]
     },
     "metadata": {},
     "output_type": "display_data"
    },
    {
     "data": {
      "text/html": [
       "The new W&B backend becomes opt-out in version 0.18.0; try it out with `wandb.require(\"core\")`! See https://wandb.me/wandb-core for more information."
      ],
      "text/plain": [
       "<IPython.core.display.HTML object>"
      ]
     },
     "metadata": {},
     "output_type": "display_data"
    }
   ],
   "source": [
    "wandb.finish() "
   ]
  },
  {
   "cell_type": "code",
   "execution_count": 8,
   "metadata": {},
   "outputs": [],
   "source": [
    "# import numpy as np\n",
    "# import matplotlib.pyplot as plt\n",
    "# import json\n",
    "# run_name = 'main_FINAL_TEST'\n",
    "\n",
    "# unique_name = run_name\n",
    "# def pad_array_to_match_length(array1, array2):\n",
    "#     if len(array1) > len(array2):\n",
    "#         padded_array2 = np.pad(array2, (0, len(array1) - len(array2)), 'constant')\n",
    "#         return array1, padded_array2\n",
    "#     elif len(array2) > len(array1):\n",
    "#         padded_array1 = np.pad(array1, (0, len(array2) - len(array1)), 'constant')\n",
    "#         return padded_array1, array2\n",
    "#     else:\n",
    "#         return array1, array2\n",
    "# def load_hyperparameters(filename=f'result_save/hyperparameters_{unique_name}.json'):\n",
    "#     with open(filename, 'r') as f:\n",
    "#         return json.load(f)\n",
    "    \n",
    "\n",
    "\n",
    "\n",
    "\n",
    "# current_time = '20240628_110116'\n",
    "# base_name = f'{current_time}'\n",
    "# iter_acc_file_name = f'result_save/{base_name}_iter_acc_array_{unique_name}.npy'\n",
    "# val_acc_file_name = f'result_save/{base_name}_val_acc_now_array_{unique_name}.npy'\n",
    "# hyperparameters_file_name = f'result_save/{base_name}_hyperparameters_{unique_name}.json'\n",
    "\n",
    "# ### if you want to just see most recent train and val acc###########################\n",
    "# iter_acc_file_name = f'result_save/iter_acc_array_{unique_name}.npy'\n",
    "# tr_acc_file_name = f'result_save/tr_acc_array_{unique_name}.npy'\n",
    "# val_acc_file_name = f'result_save/val_acc_now_array_{unique_name}.npy'\n",
    "# hyperparameters_file_name = f'result_save/hyperparameters_{unique_name}.json'\n",
    "\n",
    "# loaded_iter_acc_array = np.load(iter_acc_file_name)*100\n",
    "# loaded_tr_acc_array = np.load(tr_acc_file_name)*100\n",
    "# loaded_val_acc_array = np.load(val_acc_file_name)*100\n",
    "# hyperparameters = load_hyperparameters(hyperparameters_file_name)\n",
    "\n",
    "# loaded_iter_acc_array, loaded_val_acc_array = pad_array_to_match_length(loaded_iter_acc_array, loaded_val_acc_array)\n",
    "# loaded_iter_acc_array, loaded_tr_acc_array = pad_array_to_match_length(loaded_iter_acc_array, loaded_tr_acc_array)\n",
    "# loaded_val_acc_array, loaded_tr_acc_array = pad_array_to_match_length(loaded_val_acc_array, loaded_tr_acc_array)\n",
    "\n",
    "# top_iter_acc = np.max(loaded_iter_acc_array)\n",
    "# top_tr_acc = np.max(loaded_tr_acc_array)\n",
    "# top_val_acc = np.max(loaded_val_acc_array)\n",
    "\n",
    "# which_data = hyperparameters['which_data']\n",
    "# BPTT_on = hyperparameters['BPTT_on']\n",
    "# current_epoch = hyperparameters['current epoch']\n",
    "# surrogate = hyperparameters['surrogate']\n",
    "# cfg = hyperparameters['cfg']\n",
    "# tdBN_on = hyperparameters['tdBN_on']\n",
    "# BN_on = hyperparameters['BN_on']\n",
    "\n",
    "\n",
    "# iterations = np.arange(len(loaded_iter_acc_array))\n",
    "\n",
    "# # 그래프 그리기\n",
    "# plt.figure(figsize=(10, 5))\n",
    "# plt.plot(iterations, loaded_iter_acc_array, label='Iter Accuracy', color='g', alpha=0.2)\n",
    "# plt.plot(iterations, loaded_tr_acc_array, label='Training Accuracy', color='b')\n",
    "# plt.plot(iterations, loaded_val_acc_array, label='Validation Accuracy', color='r')\n",
    "\n",
    "# # # 텍스트 추가\n",
    "# # plt.text(0.05, 0.95, f'Top Training Accuracy: {100*top_iter_acc:.2f}%', transform=plt.gca().transAxes, fontsize=12, verticalalignment='top', horizontalalignment='left', color='blue')\n",
    "# # plt.text(0.05, 0.90, f'Top Validation Accuracy: {100*top_val_acc:.2f}%', transform=plt.gca().transAxes, fontsize=12, verticalalignment='top', horizontalalignment='left', color='red')\n",
    "# # 텍스트 추가\n",
    "# plt.text(0.5, 0.10, f'Top Training Accuracy: {top_tr_acc:.2f}%', transform=plt.gca().transAxes, fontsize=12, verticalalignment='top', horizontalalignment='center', color='blue')\n",
    "# plt.text(0.5, 0.05, f'Top Validation Accuracy: {top_val_acc:.2f}%', transform=plt.gca().transAxes, fontsize=12, verticalalignment='top', horizontalalignment='center', color='red')\n",
    "\n",
    "# plt.xlabel('Iterations')\n",
    "# plt.ylabel('Accuracy [%]')\n",
    "\n",
    "# # 그래프 제목에 하이퍼파라미터 정보 추가\n",
    "# title = f'Training and Validation Accuracy over Iterations\\n\\nData: {which_data}, BPTT: {\"On\" if BPTT_on else \"Off\"}, Current Epoch: {current_epoch}, Surrogate: {surrogate},\\nCFG: {cfg}, tdBN: {\"On\" if tdBN_on else \"Off\"}, BN: {\"On\" if BN_on else \"Off\"}'\n",
    "\n",
    "# plt.title(title)\n",
    "\n",
    "# plt.legend(loc='lower right')\n",
    "# plt.xlim(0)  # x축을 0부터 시작\n",
    "# plt.grid(True)\n",
    "# plt.show()"
   ]
  }
 ],
 "metadata": {
  "kernelspec": {
   "display_name": "aedat2",
   "language": "python",
   "name": "python3"
  },
  "language_info": {
   "codemirror_mode": {
    "name": "ipython",
    "version": 3
   },
   "file_extension": ".py",
   "mimetype": "text/x-python",
   "name": "python",
   "nbconvert_exporter": "python",
   "pygments_lexer": "ipython3",
   "version": "3.8.18"
  }
 },
 "nbformat": 4,
 "nbformat_minor": 2
}
