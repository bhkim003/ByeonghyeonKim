{
 "cells": [
  {
   "cell_type": "code",
   "execution_count": 1,
   "metadata": {},
   "outputs": [
    {
     "name": "stderr",
     "output_type": "stream",
     "text": [
      "/tmp/ipykernel_15829/1506272096.py:46: DeprecationWarning: The module snntorch.spikevision is deprecated. For loading neuromorphic datasets, we recommend using the Tonic project: https://github.com/neuromorphs/tonic\n",
      "  from snntorch.spikevision import spikedata\n"
     ]
    },
    {
     "data": {
      "image/png": "[encoded data removed]",
      "text/plain": [
       "<Figure size 800x600 with 2 Axes>"
      ]
     },
     "metadata": {},
     "output_type": "display_data"
    }
   ],
   "source": [
    "import sys\n",
    "import os\n",
    "import argparse\n",
    "import torch\n",
    "import torch.nn as nn \n",
    "import torch.nn.functional as F\n",
    "import torch.backends.cudnn as cudnn\n",
    "import torch.optim as optim\n",
    "import torch.optim.lr_scheduler as lr_scheduler\n",
    "from torch.utils.data import Dataset, DataLoader\n",
    "\n",
    "import torchvision\n",
    "import torchvision.datasets\n",
    "import torchvision.transforms as transforms\n",
    "\n",
    "import numpy as np\n",
    "import matplotlib.pyplot as plt\n",
    "\n",
    "import time\n",
    "\n",
    "from snntorch import spikegen\n",
    "import matplotlib.pyplot as plt\n",
    "import snntorch.spikeplot as splt\n",
    "from IPython.display import HTML\n",
    "\n",
    "from tqdm import tqdm\n",
    "\n",
    "from apex.parallel import DistributedDataParallel as DDP\n",
    "\n",
    "import random\n",
    "import datetime\n",
    "\n",
    "import json\n",
    "\n",
    "from sklearn.utils import shuffle\n",
    "\n",
    "''' 레퍼런스\n",
    "https://spikingjelly.readthedocs.io/zh-cn/0.0.0.0.4/spikingjelly.datasets.html#module-spikingjelly.datasets\n",
    "https://github.com/GorkaAbad/Sneaky-Spikes/blob/main/datasets.py\n",
    "https://github.com/GorkaAbad/Sneaky-Spikes/blob/main/how_to.md\n",
    "https://github.com/nmi-lab/torchneuromorphic\n",
    "https://snntorch.readthedocs.io/en/latest/snntorch.spikevision.spikedata.html#shd\n",
    "'''\n",
    "\n",
    "import snntorch\n",
    "from snntorch.spikevision import spikedata\n",
    "\n",
    "import modules.spikingjelly;\n",
    "from modules.spikingjelly.datasets.dvs128_gesture import DVS128Gesture\n",
    "from modules.spikingjelly.datasets.cifar10_dvs import CIFAR10DVS\n",
    "from modules.spikingjelly.datasets.n_mnist import NMNIST\n",
    "# from modules.spikingjelly.datasets.es_imagenet import ESImageNet\n",
    "from modules.spikingjelly.datasets import split_to_train_test_set\n",
    "from modules.spikingjelly.datasets.n_caltech101 import NCaltech101\n",
    "from modules.spikingjelly.datasets import pad_sequence_collate, padded_sequence_mask\n",
    "\n",
    "import modules.torchneuromorphic as torchneuromorphic\n",
    "\n",
    "import wandb\n",
    "\n",
    "from torchviz import make_dot\n",
    "import graphviz\n",
    "from turtle import shape\n"
   ]
  },
  {
   "cell_type": "code",
   "execution_count": 2,
   "metadata": {},
   "outputs": [],
   "source": [
    "import apex"
   ]
  },
  {
   "cell_type": "code",
   "execution_count": 3,
   "metadata": {},
   "outputs": [],
   "source": [
    "# my module import\n",
    "from modules import *\n",
    "\n",
    "# modules 폴더에 새모듈.py 만들면\n",
    "# modules/__init__py 파일에 form .새모듈 import * 하셈\n",
    "# 그리고 새모듈.py에서 from modules.새모듈 import * 하셈\n"
   ]
  },
  {
   "cell_type": "code",
   "execution_count": 4,
   "metadata": {},
   "outputs": [],
   "source": [
    "\n",
    "\n",
    "def my_snn_system(devices = \"0,1,2,3\",\n",
    "                    single_step = False, # True # False\n",
    "                    unique_name = 'main',\n",
    "                    my_seed = 42,\n",
    "                    TIME = 10,\n",
    "                    BATCH = 256,\n",
    "                    IMAGE_SIZE = 32,\n",
    "                    which_data = 'CIFAR10',\n",
    "                    # CLASS_NUM = 10,\n",
    "                    data_path = '/data2',\n",
    "                    rate_coding = True,\n",
    "    \n",
    "                    lif_layer_v_init = 0.0,\n",
    "                    lif_layer_v_decay = 0.6,\n",
    "                    lif_layer_v_threshold = 1.2,\n",
    "                    lif_layer_v_reset = 0.0,\n",
    "                    lif_layer_sg_width = 1,\n",
    "\n",
    "                    # synapse_conv_in_channels = IMAGE_PIXEL_CHANNEL,\n",
    "                    synapse_conv_kernel_size = 3,\n",
    "                    synapse_conv_stride = 1,\n",
    "                    synapse_conv_padding = 1,\n",
    "                    synapse_conv_trace_const1 = 1,\n",
    "                    synapse_conv_trace_const2 = 0.6,\n",
    "\n",
    "                    # synapse_fc_out_features = CLASS_NUM,\n",
    "                    synapse_fc_trace_const1 = 1,\n",
    "                    synapse_fc_trace_const2 = 0.6,\n",
    "\n",
    "                    pre_trained = False,\n",
    "                    convTrue_fcFalse = True,\n",
    "                    cfg = [64, 64],\n",
    "                    net_print = False, # True # False\n",
    "                    weight_count_print = False, # True # False\n",
    "                    pre_trained_path = \"net_save/save_now_net.pth\",\n",
    "                    learning_rate = 0.0001,\n",
    "                    epoch_num = 200,\n",
    "                    verbose_interval = 100, #숫자 크게 하면 꺼짐\n",
    "                    validation_interval = 10, #숫자 크게 하면 꺼짐\n",
    "                    tdBN_on = False,\n",
    "                    BN_on = False,\n",
    "\n",
    "                    surrogate = 'sigmoid',\n",
    "\n",
    "                    gradient_verbose = False,\n",
    "\n",
    "                    BPTT_on = False,\n",
    "\n",
    "                    optimizer_what = 'SGD', # 'SGD' 'Adam', 'RMSprop'\n",
    "                    scheduler_name = 'no',\n",
    "                    \n",
    "                    ddp_on = True,\n",
    "\n",
    "                    nda_net = False,\n",
    "                    \n",
    "                    domain_il_epoch = 0, # over 0, then domain il mode on\n",
    "\n",
    "                    dvs_clipping = 1, \n",
    "                    dvs_duration = 25_000,\n",
    "\n",
    "                    OTTT_sWS_on = True, # True # False\n",
    "\n",
    "                    DFA_on = False, # True # False\n",
    "                    OTTT_input_trace_on = False, # True # False\n",
    "                    \n",
    "                    e_transport_swap = 5, # 1 이상이면 해당 숫자 에포크만큼 val_acc_best가 변화가 없으면 e_transport scheme (BP vs DFA) swap\n",
    "                    e_transport_swap_tr = 0, # 1 이상이면 해당 숫자 에포크만큼 val_acc_best가 변화가 없으면 e_transport scheme (BP vs DFA) swap\n",
    "                    e_transport_swap_coin = 0, # swap할 수 있는 coin 개수\n",
    "\n",
    "                    drop_rate = 0.5, \n",
    "\n",
    "                    exclude_class = True, # True # False # gesture에서 10번째 클래스 제외\n",
    "\n",
    "                    merge_polarities = True, # True # False # tonic dvs dataset 에서 polarities 합치기\n",
    "                    denoise_on = True, \n",
    "                    dvs_relative_timestep = True, \n",
    "                    \n",
    "                    I_wanna_sweep_at_this_epoch = -1,\n",
    "                    dvs_duration_domain = [(25_000,1,False)],\n",
    "\n",
    "                    extra_train_dataset = 0,\n",
    "\n",
    "                    num_workers = 2,\n",
    "                    chaching_on = False,\n",
    "                    pin_memory = True, # True # False\n",
    "                    \n",
    "                    UDA_on = False, # True # False\n",
    "                    UDA_data = (25_000,1,False), # (duration, clipping, denoise_on)\n",
    "                    src_trg_ratio = 1,\n",
    "                    adapter_loss_weight = 1.0, # 1.0  # adapter loss의 힘.\n",
    "                    alpha_uda = 1.0,\n",
    "                    UDA_start_epoch = 0, # UDA를 시작하는 에포크  (참고로 0 epoch부터 있다.)\n",
    "\n",
    "                    temporal_filter = 1, \n",
    "                    initial_pooling = 1,\n",
    "                    ):\n",
    "    ## hyperparameter check #############################################################\n",
    "    if OTTT_sWS_on == True:\n",
    "        assert BPTT_on == False and tdBN_on == False and BN_on == False\n",
    "        if convTrue_fcFalse == False:\n",
    "            assert single_step == True\n",
    "    if single_step == True:\n",
    "        assert BPTT_on == False and tdBN_on == False \n",
    "    if tdBN_on == True:\n",
    "        assert BPTT_on == True\n",
    "    if pre_trained == True:\n",
    "        print('\\n\\n')\n",
    "        print(\"Caution! pre_trained is True\\n\\n\"*3)    \n",
    "    if DFA_on == True:\n",
    "        assert single_step == True and BPTT_on == False \n",
    "        # assert single_step == True and BPTT_on == False and any(isinstance(item, list) for item in cfg) == False\n",
    "    if OTTT_input_trace_on == True:\n",
    "        assert BPTT_on == False and single_step == True\n",
    "    if UDA_on == True:\n",
    "        assert single_step == True and BPTT_on == False and I_wanna_sweep_at_this_epoch == -1 and (e_transport_swap_coin == 0 or (e_transport_swap == 0 and e_transport_swap_tr == 0)) and isinstance(cfg, tuple) == True and extra_train_dataset == 0\n",
    "    if temporal_filter > 1:\n",
    "        assert convTrue_fcFalse == False\n",
    "    if initial_pooling > 1:\n",
    "        pass\n",
    "    if extra_train_dataset > 0:\n",
    "        assert which_data != 'NMNIST_TONIC'\n",
    "    ######################################################################################\n",
    "\n",
    "\n",
    "    ## 함수 내 모든 로컬 변수 저장 ########################################################\n",
    "    hyperparameters = locals()\n",
    "    hyperparameters['current epoch'] = 0\n",
    "    ######################################################################################\n",
    "    \n",
    "    args_gpu = None\n",
    "    ## DDP settting ######################################################################\n",
    "    if (ddp_on == True):\n",
    "        parser = argparse.ArgumentParser(description='my_snn CIFAR10 Training')\n",
    "\n",
    "        # # local_rank는 command line에서 따로 줄 필요는 없지만, 선언은 필요\n",
    "        parser.add_argument(\"--local_rank\", default=0, type=int)\n",
    "\n",
    "        args = parser.parse_args() # 이거 적어줘야됨. parser argument선언하고\n",
    "\n",
    "        args.gpu = args.local_rank\n",
    "        args_gpu = args.gpu\n",
    "        torch.cuda.set_device(args.gpu)\n",
    "        torch.distributed.init_process_group(backend=\"nccl\", init_method=\"env://\")\n",
    "        args.world_size = torch.distributed.get_world_size()\n",
    "    #######################################################################################\n",
    "\n",
    "\n",
    "    ## wandb 세팅 ###################################################################\n",
    "    current_time = datetime.datetime.now().strftime(\"%Y%m%d_%H%M%S\")\n",
    "    if (ddp_on == True and torch.distributed.get_rank() != 0):\n",
    "        wandb.finish()\n",
    "    if (ddp_on == False or torch.distributed.get_rank() == 0):\n",
    "        wandb.config.update(hyperparameters)\n",
    "        wandb.run.name = f'lr_{learning_rate}_{unique_name}_{which_data}_tstep{TIME}'\n",
    "        wandb.define_metric(\"summary_val_acc\", summary=\"max\")\n",
    "        wandb.run.log_code(\".\", \n",
    "                            include_fn=lambda path: path.endswith(\".py\") or path.endswith(\".ipynb\"),\n",
    "                            exclude_fn=lambda path: 'logs/' in path or 'net_save/' in path or 'result_save/' in path or 'trying/' in path or 'wandb/' in path or 'private/' in path or '.git/' in path or 'tonic' in path or 'torchneuromorphic' in path or 'spikingjelly' in path \n",
    "                            )\n",
    "    ###################################################################################\n",
    "\n",
    "\n",
    "\n",
    "    ## gpu setting ##################################################################################################################\n",
    "    os.environ[\"CUDA_DEVICE_ORDER\"]=\"PCI_BUS_ID\" \n",
    "    os.environ[\"CUDA_VISIBLE_DEVICES\"]= devices\n",
    "    ###################################################################################################################################\n",
    "\n",
    "\n",
    "    ## seed setting ##################################################################################################################\n",
    "    seed_assign(my_seed)\n",
    "    ###################################################################################################################################\n",
    "    \n",
    "\n",
    "    ## data_loader 가져오기 ##################################################################################################################\n",
    "    # data loader, pixel channel, class num\n",
    "    train_data_split_indices = []\n",
    "    train_loader, test_loader, synapse_conv_in_channels, CLASS_NUM, train_data_count = data_loader(\n",
    "            which_data,\n",
    "            data_path, \n",
    "            rate_coding, \n",
    "            BATCH, \n",
    "            IMAGE_SIZE,\n",
    "            ddp_on,\n",
    "            TIME*temporal_filter, # temporal_filter가 곱해짐.\n",
    "            dvs_clipping,\n",
    "            dvs_duration,\n",
    "            exclude_class,\n",
    "            merge_polarities,\n",
    "            denoise_on,\n",
    "            my_seed,\n",
    "            extra_train_dataset,\n",
    "            num_workers,\n",
    "            chaching_on,\n",
    "            pin_memory,\n",
    "            train_data_split_indices,) \n",
    "    test_loader_domain_set = []\n",
    "    test_loader_domain_set.append(test_loader)  \n",
    "    synapse_fc_out_features = CLASS_NUM\n",
    "    if UDA_on == True:\n",
    "        train_loader = None\n",
    "\n",
    "        # pin_memory_breaker = torch.arange(0, 1) #이거 주석 하면 느리고, 이거 주석 안 하면 빠름. NN결과는 같음. 뭐가 문제야..? 아마 torch를 건드리면서 pin_memory에 문제를 일으키는 거 같기는 하다. 이걸 주석 해제하거나, pin_memory를 False로 하는 거나 속도와 cpu 점유가 비슷하다.\n",
    "        indices= list(range(train_data_count))\n",
    "        random.shuffle(indices)\n",
    "        train_data_split_indices_source = indices[:math.ceil(train_data_count * (src_trg_ratio / (src_trg_ratio + 1)))]\n",
    "        train_data_split_indices_target = indices[math.ceil(train_data_count * (src_trg_ratio / (src_trg_ratio + 1))):]\n",
    "        train_loader, _, synapse_conv_in_channels, CLASS_NUM, train_data_count_src = data_loader(\n",
    "                which_data,\n",
    "                data_path, \n",
    "                rate_coding, \n",
    "                BATCH, \n",
    "                IMAGE_SIZE,\n",
    "                ddp_on,\n",
    "                TIME*temporal_filter, # temporal_filter가 곱해짐.\n",
    "                dvs_clipping,\n",
    "                dvs_duration,\n",
    "                exclude_class,\n",
    "                merge_polarities,\n",
    "                denoise_on,\n",
    "                my_seed,\n",
    "                extra_train_dataset,\n",
    "                num_workers,\n",
    "                chaching_on,\n",
    "                pin_memory,\n",
    "                train_data_split_indices_source,\n",
    "                )\n",
    "        \n",
    "        train_loader_target, _, synapse_conv_in_channels, CLASS_NUM, train_data_count_trg = data_loader(\n",
    "                which_data,\n",
    "                data_path, \n",
    "                rate_coding, \n",
    "                BATCH, \n",
    "                IMAGE_SIZE,\n",
    "                ddp_on,\n",
    "                TIME*temporal_filter,\n",
    "                UDA_data[1],  # dvs_clipping,\n",
    "                UDA_data[0],   # dvs_duration,\n",
    "                exclude_class,\n",
    "                merge_polarities,\n",
    "                UDA_data[2], # denoise_on,\n",
    "                my_seed,\n",
    "                extra_train_dataset,\n",
    "                num_workers,\n",
    "                chaching_on,\n",
    "                pin_memory,\n",
    "                train_data_split_indices_target,\n",
    "                )\n",
    "        print('\\n','src img count',train_data_count_src,'trg img count',train_data_count_trg,'\\n')\n",
    "    ###########################################################################################################################################\n",
    "    \n",
    "    ## 다른 dvs duration domain을 validation set으로 불러오기 ##############################################################\n",
    "    dvs_duration_domain_temp = []\n",
    "    train_data_split_indices = []\n",
    "    if len(dvs_duration_domain) > 0:\n",
    "        for domain in dvs_duration_domain:\n",
    "            target_domain_timestep = (dvs_duration*TIME)//domain[0] if dvs_relative_timestep == True else TIME\n",
    "            dvs_duration_domain_temp.append(domain + (target_domain_timestep,))\n",
    "            train_loader_domain, test_loader_domain, synapse_conv_in_channels_domain, CLASS_NUM_domain, train_data_count = data_loader(\n",
    "                    which_data,\n",
    "                    data_path, \n",
    "                    rate_coding, \n",
    "                    BATCH, \n",
    "                    IMAGE_SIZE,\n",
    "                    ddp_on,\n",
    "                    target_domain_timestep*temporal_filter,\n",
    "                    domain[1], # dvs_clipping\n",
    "                    domain[0], # dvs_duration\n",
    "                    exclude_class,\n",
    "                    merge_polarities,\n",
    "                    domain[2], # denoise_on \n",
    "                    my_seed,\n",
    "                    extra_train_dataset,\n",
    "                    num_workers,\n",
    "                    chaching_on,\n",
    "                    pin_memory,\n",
    "                    train_data_split_indices,)\n",
    "            test_loader_domain_set.append(test_loader_domain)\n",
    "        dvs_duration_domain = dvs_duration_domain_temp\n",
    "    ######################################################################################################################\n",
    "    \n",
    "    ## parameter number calculator (안 중요함) ##################################################################################################################\n",
    "    params_num = 0\n",
    "    img_size = IMAGE_SIZE//initial_pooling\n",
    "    bias_param = 1 # 1 or 0\n",
    "    classifier_making = False\n",
    "    if (UDA_on == True):\n",
    "        print(\"In UDA mode, No parameter number calculation yet.\")\n",
    "        pass\n",
    "    else: \n",
    "        if (convTrue_fcFalse == True):\n",
    "            past_kernel = synapse_conv_in_channels\n",
    "            for kernel in cfg:\n",
    "                if (classifier_making == False):\n",
    "                    if (type(kernel) == list):\n",
    "                        for residual_kernel in kernel:\n",
    "                            if (residual_kernel >= 10000 and residual_kernel < 20000): # separable\n",
    "                                residual_kernel -= 10000\n",
    "                                params_num += (synapse_conv_kernel_size**2 + bias_param) * past_kernel\n",
    "                                params_num += (1**2 * past_kernel + bias_param) * residual_kernel\n",
    "                                past_kernel = residual_kernel  \n",
    "                            elif (residual_kernel >= 20000 and residual_kernel < 30000): # depthwise\n",
    "                                residual_kernel -= 20000\n",
    "                                # 'past_kernel' should be same with 'kernel'\n",
    "                                params_num += (synapse_conv_kernel_size**2 + bias_param) * past_kernel\n",
    "                                past_kernel = residual_kernel  \n",
    "                            else:\n",
    "                                params_num += residual_kernel * ((synapse_conv_kernel_size**2) * past_kernel + bias_param)\n",
    "                                past_kernel = residual_kernel\n",
    "                    elif (kernel == 'P' or kernel == 'M'):\n",
    "                        img_size = img_size // 2\n",
    "                    elif (kernel == 'D'):\n",
    "                        img_size = 1\n",
    "                    elif (kernel == 'L'):\n",
    "                        classifier_making = True\n",
    "                        past_kernel = past_kernel * (img_size**2)\n",
    "                    else:\n",
    "                        if (kernel >= 10000 and kernel < 20000): # separable\n",
    "                            kernel -= 10000\n",
    "                            params_num += (synapse_conv_kernel_size**2 + bias_param) * past_kernel\n",
    "                            params_num += (1**2 * past_kernel + bias_param) * kernel\n",
    "                            past_kernel = kernel  \n",
    "                        elif (kernel >= 20000 and kernel < 30000): # depthwise\n",
    "                            kernel -= 20000\n",
    "                            # 'past_kernel' should be same with 'kernel'\n",
    "                            params_num += (synapse_conv_kernel_size**2 + bias_param) * past_kernel\n",
    "                            past_kernel = kernel  \n",
    "                        else:\n",
    "                            params_num += kernel * (synapse_conv_kernel_size**2 * past_kernel + bias_param)\n",
    "                            past_kernel = kernel    \n",
    "                else: # classifier making\n",
    "                    params_num += (past_kernel + bias_param) * kernel\n",
    "                    past_kernel = kernel\n",
    "            \n",
    "            \n",
    "            if classifier_making == False:\n",
    "                past_kernel = past_kernel*img_size*img_size\n",
    "\n",
    "            params_num += (past_kernel + bias_param) * synapse_fc_out_features\n",
    "        else:\n",
    "            in_channel_compute_temp = synapse_conv_in_channels * temporal_filter\n",
    "            past_in_channel = in_channel_compute_temp*img_size*img_size\n",
    "            for in_channel in cfg:\n",
    "                if (type(in_channel) == list):\n",
    "                    for residual_in_channel in in_channel:\n",
    "                        params_num += (past_in_channel + bias_param) * residual_in_channel\n",
    "                        past_in_channel = residual_in_channel\n",
    "                elif (in_channel == 'P' or in_channel == 'M'):\n",
    "                    img_size = img_size // 2\n",
    "                    past_in_channel = in_channel_compute_temp*img_size*img_size\n",
    "                else:\n",
    "                    params_num += (past_in_channel + bias_param) * in_channel\n",
    "                    past_in_channel = in_channel\n",
    "            params_num += (past_in_channel + bias_param) * synapse_fc_out_features\n",
    "    ###########################################################################################################################################\n",
    "\n",
    "\n",
    "    device = torch.device(\"cuda\" if torch.cuda.is_available() else \"cpu\")\n",
    "    print(f\"\\ndevice ==> {device}\\n\")\n",
    "    if device == \"cpu\":\n",
    "        print(\"=\"*50,\"\\n[WARNING]\\n[WARNING]\\n[WARNING]\\n: cpu mode\\n\\n\",\"=\"*50)\n",
    "\n",
    "    ### network setting #######################################################################################################################\n",
    "    if (convTrue_fcFalse == False):\n",
    "        if (single_step == False):\n",
    "            net = MY_SNN_FC(cfg, synapse_conv_in_channels*temporal_filter, IMAGE_SIZE//initial_pooling, synapse_fc_out_features,\n",
    "                        synapse_fc_trace_const1, synapse_fc_trace_const2, \n",
    "                        lif_layer_v_init, lif_layer_v_decay, \n",
    "                        lif_layer_v_threshold, lif_layer_v_reset,\n",
    "                        lif_layer_sg_width,\n",
    "                        tdBN_on,\n",
    "                        BN_on, TIME,\n",
    "                        surrogate,\n",
    "                        BPTT_on,\n",
    "                        DFA_on,\n",
    "                        drop_rate,\n",
    "                        UDA_on,\n",
    "                        alpha_uda).to(device)\n",
    "        else:\n",
    "            net = MY_SNN_FC_sstep(cfg, synapse_conv_in_channels*temporal_filter, IMAGE_SIZE//initial_pooling, synapse_fc_out_features,\n",
    "                        synapse_fc_trace_const1, synapse_fc_trace_const2, \n",
    "                        lif_layer_v_init, lif_layer_v_decay, \n",
    "                        lif_layer_v_threshold, lif_layer_v_reset,\n",
    "                        lif_layer_sg_width,\n",
    "                        tdBN_on,\n",
    "                        BN_on, TIME,\n",
    "                        surrogate,\n",
    "                        BPTT_on,\n",
    "                        DFA_on,\n",
    "                        OTTT_sWS_on,\n",
    "                        drop_rate,\n",
    "                        UDA_on,\n",
    "                        alpha_uda).to(device)\n",
    "    else:\n",
    "        if (single_step == False):\n",
    "            net = MY_SNN_CONV(cfg, synapse_conv_in_channels, IMAGE_SIZE//initial_pooling,\n",
    "                        synapse_conv_kernel_size, synapse_conv_stride, \n",
    "                        synapse_conv_padding, synapse_conv_trace_const1, \n",
    "                        synapse_conv_trace_const2, \n",
    "                        lif_layer_v_init, lif_layer_v_decay, \n",
    "                        lif_layer_v_threshold, lif_layer_v_reset,\n",
    "                        lif_layer_sg_width,\n",
    "                        synapse_fc_out_features, synapse_fc_trace_const1, synapse_fc_trace_const2,\n",
    "                        tdBN_on,\n",
    "                        BN_on, TIME,\n",
    "                        surrogate,\n",
    "                        BPTT_on,\n",
    "                        OTTT_sWS_on,\n",
    "                        DFA_on,\n",
    "                        drop_rate,\n",
    "                        UDA_on,\n",
    "                        alpha_uda).to(device)\n",
    "        else:\n",
    "            net = MY_SNN_CONV_sstep(cfg, synapse_conv_in_channels, IMAGE_SIZE//initial_pooling,\n",
    "                        synapse_conv_kernel_size, synapse_conv_stride, \n",
    "                        synapse_conv_padding, synapse_conv_trace_const1, \n",
    "                        synapse_conv_trace_const2, \n",
    "                        lif_layer_v_init, lif_layer_v_decay, \n",
    "                        lif_layer_v_threshold, lif_layer_v_reset,\n",
    "                        lif_layer_sg_width,\n",
    "                        synapse_fc_out_features, synapse_fc_trace_const1, synapse_fc_trace_const2,\n",
    "                        tdBN_on,\n",
    "                        BN_on, TIME,\n",
    "                        surrogate,\n",
    "                        BPTT_on,\n",
    "                        OTTT_sWS_on,\n",
    "                        DFA_on,\n",
    "                        drop_rate,\n",
    "                        UDA_on,\n",
    "                        alpha_uda).to(device)\n",
    "    if (nda_net == True):\n",
    "        net = VGG(cfg = cfg, num_classes=10, batch_norm = tdBN_on, in_c = synapse_conv_in_channels, \n",
    "                    lif_layer_v_threshold=lif_layer_v_threshold, lif_layer_v_decay=lif_layer_v_decay, lif_layer_sg_width=lif_layer_sg_width)\n",
    "        net.T = TIME\n",
    "\n",
    "    if ddp_on == False:\n",
    "        net = torch.nn.DataParallel(net) \n",
    "    \n",
    "    if pre_trained == True:\n",
    "        net.load_state_dict(torch.load(pre_trained_path))\n",
    "    \n",
    "    if ddp_on == True:\n",
    "        device = args.gpu\n",
    "        net = net.to(args.gpu)\n",
    "        net = DDP(net, delay_allreduce=True)\n",
    "\n",
    "    net = net.to(device)\n",
    "    if (net_print == True):\n",
    "        if ddp_on == False or torch.distributed.get_rank() == 0:\n",
    "            print(net)    \n",
    "    ####################################################################################################################################\n",
    "    \n",
    "\n",
    "    ## wandb logging ###########################################\n",
    "    if ddp_on == False or torch.distributed.get_rank() == 0:\n",
    "        wandb.watch(net, log=\"all\", log_freq = 10) #gradient, parameter logging해줌\n",
    "    ############################################################\n",
    "\n",
    "    ## param num and memory estimation except BN with MY own calculation some lines above ##########################################\n",
    "    if ddp_on == False or torch.distributed.get_rank() == 0:\n",
    "        real_param_num = sum(p.numel() for p in net.parameters() if p.requires_grad)\n",
    "        if (weight_count_print == True):\n",
    "            for name, param in net.named_parameters():\n",
    "                if param.requires_grad:\n",
    "                    print(f'Layer: {name} | Number of parameters: {param.numel()}')\n",
    "        # Batch norm 있으면 아래 두 개 서로 다를 수 있음.\n",
    "        # assert real_param_num == params_num, f'parameter number is not same. real_param_num: {real_param_num}, params_num: {params_num}'    \n",
    "        print('='*50)\n",
    "        print(f\"My Num of PARAMS: {params_num:,}, system's param_num : {real_param_num:,}\")\n",
    "        memory = params_num / 8 / 1024 / 1024 # MB\n",
    "        precision = 32\n",
    "        memory = memory * precision \n",
    "        print(f\"Memory: {memory:.2f}MiB at {precision}-bit\")\n",
    "        print('='*50)\n",
    "    ##############################################################################################################################\n",
    "\n",
    "\n",
    "\n",
    "    ## criterion ########################################## # loss 구해주는 친구\n",
    "    criterion = nn.CrossEntropyLoss().to(device)\n",
    "    if (OTTT_sWS_on == True):\n",
    "        # criterion = nn.CrossEntropyLoss().to(device)\n",
    "        criterion = lambda y_t, target_t: ((1 - 0.05) * F.cross_entropy(y_t, target_t) + 0.05 * F.mse_loss(y_t, F.one_hot(target_t, CLASS_NUM).float())) / TIME \n",
    "        if which_data == 'DVS_GESTURE':\n",
    "            criterion = lambda y_t, target_t: ((1 - 0.001) * F.cross_entropy(y_t, target_t) + 0.001 * F.mse_loss(y_t, F.one_hot(target_t, CLASS_NUM).float())) / TIME \n",
    "    ####################################################\n",
    "    \n",
    "\n",
    "\n",
    "\n",
    "    ## optimizer, scheduler ########################################################################\n",
    "    if(optimizer_what == 'SGD'):\n",
    "        # optimizer = optim.SGD(net.parameters(), lr=learning_rate, momentum=0.9)\n",
    "        optimizer = optim.SGD(net.parameters(), lr=learning_rate, momentum=0.9, weight_decay=0)\n",
    "    elif(optimizer_what == 'Adam'):\n",
    "        optimizer = torch.optim.Adam(net.parameters(), lr=learning_rate)\n",
    "        # optimizer = torch.optim.Adam(net.parameters(), lr=0.00001)\n",
    "        # optimizer = torch.optim.Adam(net.parameters(), lr=learning_rate/256 * BATCH, weight_decay=1e-4)\n",
    "        # optimizer = optim.Adam(net.parameters(), lr=learning_rate, weight_decay=0, betas=(0.9, 0.999))\n",
    "    elif(optimizer_what == 'RMSprop'):\n",
    "        pass\n",
    "\n",
    "\n",
    "    if (scheduler_name == 'StepLR'):\n",
    "        scheduler = lr_scheduler.StepLR(optimizer, step_size=10, gamma=0.1)\n",
    "    elif (scheduler_name == 'ExponentialLR'):\n",
    "        scheduler = lr_scheduler.ExponentialLR(optimizer, gamma=0.95)\n",
    "    elif (scheduler_name == 'ReduceLROnPlateau'):\n",
    "        scheduler = lr_scheduler.ReduceLROnPlateau(optimizer, mode='min', factor=0.1, patience=10)\n",
    "    elif (scheduler_name == 'CosineAnnealingLR'):\n",
    "        # scheduler = lr_scheduler.CosineAnnealingLR(optimizer, eta_min=0, T_max=50)\n",
    "        scheduler = torch.optim.lr_scheduler.CosineAnnealingLR(optimizer, eta_min=0, T_max=epoch_num)\n",
    "    elif (scheduler_name == 'OneCycleLR'):\n",
    "        scheduler = lr_scheduler.OneCycleLR(optimizer, max_lr=0.1, steps_per_epoch=len(train_loader), epochs=epoch_num)\n",
    "    else:\n",
    "        pass # 'no' scheduler\n",
    "    ## optimizer, scheduler ########################################################################\n",
    "\n",
    "\n",
    "    tr_acc = 0\n",
    "    tr_correct = 0\n",
    "    tr_total = 0\n",
    "    tr_acc_best = 0\n",
    "    tr_epoch_loss_temp = 0\n",
    "    tr_epoch_loss = 0\n",
    "    val_acc_best = 0\n",
    "    val_acc_now = 0\n",
    "    val_loss = 0\n",
    "    elapsed_time_val = 0\n",
    "    no_val_best_growth_count = 0\n",
    "    no_tr_best_growth_count = 0\n",
    "    iter_acc_array = np.array([])\n",
    "    tr_acc_array = np.array([])\n",
    "    val_acc_now_array = np.array([])\n",
    "    DFA_current = DFA_on\n",
    "    DFA_toggle = False\n",
    "    DFA_flag = 1.0 if DFA_current == True else 0.0\n",
    "    DFA_BP_toggle_trial = 0\n",
    "    iter_of_val = False\n",
    "    tr_acc_target = 0\n",
    "    tr_correct_target = 0\n",
    "    tr_total_target = 0\n",
    "    tr_acc_best_target = 0\n",
    "    tr_epoch_loss_temp_target = 0\n",
    "    tr_epoch_loss_target = 0\n",
    "    tr_epoch_loss_temp_domain = 0\n",
    "    tr_epoch_loss_domain = 0\n",
    "    tr_acc_domain = 0\n",
    "    tr_correct_domain = 0\n",
    "    tr_total_domain = 0\n",
    "    val_acc_now_set_past = [0 for _ in range(len(dvs_duration_domain)+1)]\n",
    "    val_acc_now_set = [0 for _ in range(len(dvs_duration_domain)+1)]\n",
    "    val_acc_now_set_best = [0 for _ in range(len(dvs_duration_domain)+1)]\n",
    "    #======== EPOCH START ==========================================================================================\n",
    "    for epoch in range(epoch_num):\n",
    "        if (I_wanna_sweep_at_this_epoch == epoch):\n",
    "            net = BP_DFA_SWAP(net, convTrue_fcFalse, single_step, ddp_on, args_gpu)\n",
    "            no_val_best_growth_count = 0\n",
    "            DFA_current = not DFA_current\n",
    "            DFA_toggle = True\n",
    "            DFA_BP_toggle_trial = DFA_BP_toggle_trial + 1\n",
    "        else:\n",
    "            if (e_transport_swap > 0 or e_transport_swap_tr > 0):\n",
    "                assert not (e_transport_swap > 0 and e_transport_swap_tr > 0)\n",
    "                if e_transport_swap > 0 and no_val_best_growth_count == e_transport_swap :\n",
    "                    if DFA_BP_toggle_trial < e_transport_swap_coin:\n",
    "                        net = BP_DFA_SWAP(net, convTrue_fcFalse, single_step, ddp_on, args_gpu)\n",
    "                        no_val_best_growth_count = 0\n",
    "                        DFA_current = not DFA_current\n",
    "                        DFA_toggle = True\n",
    "                        DFA_BP_toggle_trial = DFA_BP_toggle_trial + 1\n",
    "                if e_transport_swap_tr > 0 and no_tr_best_growth_count == e_transport_swap_tr:\n",
    "                    if DFA_BP_toggle_trial < e_transport_swap_coin:\n",
    "                        net = BP_DFA_SWAP(net, convTrue_fcFalse, single_step, ddp_on, args_gpu)\n",
    "                        no_tr_best_growth_count = 0\n",
    "                        DFA_current = not DFA_current\n",
    "                        DFA_toggle = True\n",
    "                        DFA_BP_toggle_trial = DFA_BP_toggle_trial + 1\n",
    "\n",
    "        if ddp_on == False or torch.distributed.get_rank() == 0:\n",
    "            # print('EPOCH', epoch)\n",
    "            pass\n",
    "        epoch_start_time = time.time()\n",
    "\n",
    "        # if (domain_il_epoch>0 and which_data == 'PMNIST'):\n",
    "        #     k = epoch // domain_il_epoch\n",
    "        #     xtrain=data[k]['train']['x']\n",
    "        #     ytrain=data[k]['train']['y']\n",
    "        #     xtest =data[k]['test']['x']\n",
    "        #     ytest =data[k]['test']['y']\n",
    "\n",
    "        ####### iterator : input_loading & tqdm을 통한 progress_bar 생성###################\n",
    "        iterator = enumerate(train_loader, 0)\n",
    "        if (UDA_on == True):\n",
    "            iterator_target = enumerate(train_loader_target, 0)\n",
    "\n",
    "        if ddp_on == False or torch.distributed.get_rank() == 0:  \n",
    "            iterator = tqdm(iterator, total=len(train_loader), desc='train', dynamic_ncols=True, position=0, leave=True)\n",
    "        ##################################################################################   \n",
    "        \n",
    "        #### validation_interval이 batch size보다 작을 시 validation_interval을 batch size로 맞춰줌#############\n",
    "        validation_interval2 = validation_interval\n",
    "        if (validation_interval > len(train_loader)):\n",
    "            validation_interval2 = len(train_loader)\n",
    "        ##################################################################################################\n",
    "\n",
    "\n",
    "        ###### ITERATION START ##########################################################################################################\n",
    "        i = 0\n",
    "        target_done = False\n",
    "        for i, data in iterator:\n",
    "            UDA_FSM = 0\n",
    "            while (UDA_FSM < 2): # 0: source, 1: target, 2: done\n",
    "                if UDA_on == True:\n",
    "                    if UDA_FSM == 0:\n",
    "                        net.UDA_adapter_on = True # net.UDA_adapter_on 와 net.UDA_classifier_on은 그냥 flag임. 이번에 loss값을 backward할 건지 말 건지 ㅇㅇ\n",
    "                        net.UDA_classifier_on = True\n",
    "                        if target_done == True:\n",
    "                            UDA_FSM = 2 # 2--> target 안함\n",
    "                        elif (i)%(len(train_loader)//len(train_loader_target)) == 0: # 일정 주기로 src/trg 도메인 어댑트\n",
    "                            net.UDA_adapter_on = True\n",
    "                            UDA_FSM = 1 # 1--> target 함 !!! target 할 때만 source도 domain adapt할거면 net.UDA_adapter_on을 False로 잘 조정\n",
    "                        elif i == len(train_loader) - 1 and target_done == False:\n",
    "                            net.UDA_adapter_on = True\n",
    "                            UDA_FSM = 1\n",
    "                        else: \n",
    "                            UDA_FSM = 2\n",
    "                    elif UDA_FSM == 1:\n",
    "                        net.UDA_adapter_on = True\n",
    "                        net.UDA_classifier_on = False\n",
    "                        tgt_idx, data = next(iterator_target)\n",
    "                        target_done = True if tgt_idx == len(train_loader_target) - 1 else False\n",
    "                        if i == len(train_loader) - 1 and target_done == False:\n",
    "                            UDA_FSM = 1\n",
    "                        else: \n",
    "                            UDA_FSM = 2\n",
    "                    else:\n",
    "                        assert False\n",
    "                else:\n",
    "                    UDA_FSM = 2\n",
    "\n",
    "                iter_one_train_time_start = time.time()\n",
    "\n",
    "                net.train() # train 모드로 바꿔줘야함\n",
    "\n",
    "                ### data loading & semi-pre-processing ################################################################################\n",
    "                if len(data) == 2:\n",
    "                    inputs, labels = data\n",
    "                    # 처리 로직 작성\n",
    "                elif len(data) == 3:\n",
    "                    inputs, labels, x_len = data\n",
    "                    # print('x_len',x_len)\n",
    "                    # mask = padded_sequence_mask(x_len)\n",
    "                    # max_time_step = x_len.max()\n",
    "                    # min_time_step = x_len.min()\n",
    "                else:\n",
    "                    assert False, 'data length is not 2 or 3'\n",
    "                #######################################################################################################################\n",
    "                    \n",
    "                ## batch 크기 ######################################\n",
    "                real_batch = labels.size(0)\n",
    "                ###########################################################\n",
    "\n",
    "                # 차원 전처리\n",
    "                ###########################################################################################################################        \n",
    "                if (which_data == 'n_tidigits'):\n",
    "                    inputs = inputs.permute(0, 1, 3, 2, 4)\n",
    "                    labels = labels[:, 0, :]\n",
    "                    labels = torch.argmax(labels, dim=1)\n",
    "                elif (which_data == 'heidelberg'):\n",
    "                    inputs = inputs.view(5, 1000, 1, 700, 1)\n",
    "                    print(\"\\n\\n\\n경고!!!! heidelberg 이거 타임스텝이랑 채널 잘 바꿔줘라!!!\\n\\n\\n\\n\")\n",
    "                # print('inputs',inputs.size(),'\\nlabels',labels.size())\n",
    "                # print(labels)\n",
    "\n",
    "                if (which_data == 'DVS_CIFAR10' or which_data == 'DVS_GESTURE' or which_data == 'DVS_GESTURE_TONIC' or which_data == 'DVS_CIFAR10_2' or which_data == 'NMNIST' or which_data == 'NMNIST_TONIC' or which_data == 'N_CALTECH101' or which_data == 'n_tidigits' or which_data == 'heidelberg'):\n",
    "                    inputs = inputs.permute(1, 0, 2, 3, 4)\n",
    "                elif rate_coding == True :\n",
    "                    inputs = spikegen.rate(inputs, num_steps=TIME)\n",
    "                else :\n",
    "                    inputs = inputs.repeat(TIME, 1, 1, 1, 1)\n",
    "                # inputs: [Time, Batch, Channel, Height, Width]  \n",
    "                    \n",
    "                ## initial pooling #######################################################################\n",
    "                if (initial_pooling > 1):\n",
    "                    pool = nn.MaxPool2d(kernel_size=2)\n",
    "                    num_pooling_layers = int(math.log2(initial_pooling))\n",
    "                    # Time, Batch, Channel 차원은 그대로 두고, Height, Width 차원에 대해서만 pooling 적용\n",
    "                    shape_temp = inputs.shape\n",
    "                    inputs = inputs.reshape(shape_temp[0]*shape_temp[1], shape_temp[2], shape_temp[3], shape_temp[4])\n",
    "                    for _ in range(num_pooling_layers):\n",
    "                        inputs = pool(inputs)\n",
    "                    inputs = inputs.reshape(shape_temp[0], shape_temp[1], shape_temp[2], shape_temp[3]//initial_pooling, shape_temp[4]//initial_pooling)\n",
    "                ## initial pooling #######################################################################\n",
    "                ## temporal filtering ####################################################################\n",
    "                shape_temp = inputs.shape\n",
    "                if (temporal_filter > 1):\n",
    "                    slice_bucket = []\n",
    "                    for t_temp in range(TIME):\n",
    "                        start = t_temp * temporal_filter\n",
    "                        end = start + temporal_filter\n",
    "                        slice_concat = torch.movedim(inputs[start:end], 0, 1).reshape(shape_temp[1],shape_temp[2],shape_temp[3],-1)\n",
    "                        slice_bucket.append(slice_concat)\n",
    "                    inputs = torch.stack(slice_bucket, dim=0)\n",
    "                ## temporal filtering ####################################################################\n",
    "                ####################################################################################################################### \n",
    "                    \n",
    "                \n",
    "                # # dvs 데이터 시각화 코드 (확인 필요할 시 써라)\n",
    "                # ##############################################################################################\n",
    "                # dvs_visualization(inputs, labels, TIME, BATCH, my_seed)\n",
    "                # #####################################################################################################\n",
    "\n",
    "                ## to (device) #######################################\n",
    "                inputs = inputs.to(device)\n",
    "                labels = labels.to(device)\n",
    "                ###########################################################\n",
    "\n",
    "                ## gradient 초기화 #######################################\n",
    "                optimizer.zero_grad()\n",
    "                ###########################################################\n",
    "                \n",
    "                ## DVS gesture에서 other label자리 매꾸기 ###############\n",
    "                if (which_data == 'DVS_GESTURE'):\n",
    "                    labels[labels>2] -= 1\n",
    "                #######################################################         \n",
    "                                \n",
    "                if merge_polarities == True:\n",
    "                    inputs = inputs[:,:,0,:,:]\n",
    "\n",
    "                if single_step == False:\n",
    "                    # net에 넣어줄때는 batch가 젤 앞 차원으로 와야함. # dataparallel때매##############################\n",
    "                    # inputs: [Time, Batch, Channel, Height, Width]   \n",
    "                    inputs = inputs.permute(1, 0, 2, 3, 4) # net에 넣어줄때는 batch가 젤 앞 차원으로 와야함. # dataparallel때매\n",
    "                    # inputs: [Batch, Time, Channel, Height, Width] \n",
    "                    #################################################################################################\n",
    "                else:\n",
    "                    labels = labels.repeat(TIME, 1)\n",
    "                    ## first input도 ottt trace 적용하기 위한 코드 (validation 시에는 필요X) ##########################\n",
    "                    if OTTT_input_trace_on == True:\n",
    "                        spike = inputs\n",
    "                        trace = torch.full_like(spike, fill_value = 0.0, dtype = torch.float, requires_grad=False)\n",
    "                        inputs = []\n",
    "                        for t in range(TIME):\n",
    "                            trace[t] = trace[t-1]*synapse_conv_trace_const2 + spike[t]*synapse_conv_trace_const1\n",
    "                            inputs += [[spike[t], trace[t]]]\n",
    "                    ##################################################################################################\n",
    "\n",
    "\n",
    "                if single_step == False:\n",
    "                    ### input --> net --> output #####################################################\n",
    "                    outputs = net(inputs)\n",
    "                    ##################################################################################\n",
    "                    ## loss, backward ##########################################\n",
    "                    iter_loss = criterion(outputs, labels)\n",
    "                    iter_loss.backward()\n",
    "                    ############################################################\n",
    "                    ## weight 업데이트!! ##################################\n",
    "                    optimizer.step()\n",
    "                    ################################################################\n",
    "                else:\n",
    "                    if UDA_on == False:\n",
    "                        outputs_all = []\n",
    "                        iter_loss = 0.0\n",
    "                        for t in range(TIME):\n",
    "                            ### input[t] --> net --> output_one_time #########################################\n",
    "                            outputs_one_time = net(inputs[t])\n",
    "                            ##################################################################################\n",
    "                            one_time_loss = criterion(outputs_one_time, labels[t].contiguous())\n",
    "                            one_time_loss.backward() # one_time backward\n",
    "                            iter_loss += one_time_loss.data\n",
    "                            outputs_all.append(outputs_one_time.detach())\n",
    "                        optimizer.step() # full step time update\n",
    "                        outputs_all = torch.stack(outputs_all, dim=1)\n",
    "                        outputs = outputs_all.mean(1) # ottt꺼 쓸때\n",
    "                        labels = labels[0]\n",
    "                        iter_loss /= TIME\n",
    "                    else:\n",
    "                        ## 근데 생각해보니까 걍 target에서 classifier만 backward 안 해주면 되는 거 아니냐\n",
    "\n",
    "                        iter_loss_domain = 0.0\n",
    "                        outputs_all = []\n",
    "                        outputs_all_domain = []\n",
    "                        iter_loss = 0.0\n",
    "\n",
    "                        if net.UDA_classifier_on == True:\n",
    "                            domain_labels = torch.full((TIME, real_batch), 1).to(device)\n",
    "                        else:\n",
    "                            domain_labels = torch.full((TIME, real_batch), 0).to(device)\n",
    "                            \n",
    "                        for t in range(TIME):\n",
    "                            ### input[t] --> net --> output_one_time #########################################\n",
    "                            outputs_one_time, UDA_adpater_out = net(inputs[t])\n",
    "\n",
    "                            one_time_loss_classifier = criterion(outputs_one_time, labels[t].contiguous())\n",
    "                            one_time_loss_domain = criterion(UDA_adpater_out, domain_labels[t].contiguous())\n",
    "                            one_time_loss_backward = torch.tensor(0.0).to(device)\n",
    "                            if net.UDA_adapter_on == True and epoch >= UDA_start_epoch:\n",
    "                                one_time_loss_backward += one_time_loss_domain * adapter_loss_weight\n",
    "                            else:\n",
    "                                one_time_loss_backward += one_time_loss_domain * 0.0\n",
    "                            if net.UDA_classifier_on == True:\n",
    "                                one_time_loss_backward += one_time_loss_classifier\n",
    "                            else:\n",
    "                                one_time_loss_backward += one_time_loss_classifier * 0.0\n",
    "                            one_time_loss_backward.backward() # one_time backward\n",
    "                            iter_loss += one_time_loss_classifier.data\n",
    "                            iter_loss_domain += one_time_loss_domain.data\n",
    "                            outputs_all.append(outputs_one_time.detach())\n",
    "                            outputs_all_domain.append(UDA_adpater_out.detach())\n",
    "                            ##################################################################################\n",
    "                        if one_time_loss_backward != 0.0:\n",
    "                            optimizer.step() # full step time update\n",
    "                        outputs_all = torch.stack(outputs_all, dim=1)\n",
    "                        outputs = outputs_all.mean(1) # ottt꺼 쓸때\n",
    "                        labels = labels[0]\n",
    "                        outputs_all_domain = torch.stack(outputs_all_domain, dim=1)\n",
    "                        outputs_domain = outputs_all_domain.mean(1) # ottt꺼 쓸때\n",
    "                        domain_labels = domain_labels[0]\n",
    "                        iter_loss /= TIME\n",
    "                        iter_loss_domain /= TIME\n",
    "\n",
    "                if UDA_on == False:\n",
    "                    tr_epoch_loss_temp += iter_loss.data/len(train_loader)\n",
    "                else: \n",
    "                    if (net.UDA_classifier_on == True):\n",
    "                        tr_epoch_loss_temp += iter_loss.data/(len(train_loader)*src_trg_ratio/(src_trg_ratio+1))\n",
    "                    else:\n",
    "                        tr_epoch_loss_temp_target += iter_loss.data/(len(train_loader)*1/(src_trg_ratio+1))\n",
    "                    tr_epoch_loss_temp_domain += iter_loss.data/len(train_loader)\n",
    "\n",
    "                ## net 그림 출력해보기 #################################################################\n",
    "                # print('시각화')\n",
    "                # make_dot(outputs, params=dict(list(net.named_parameters()))).render(\"net_torchviz\", format=\"png\")\n",
    "                # return 0\n",
    "                ##################################################################################\n",
    "\n",
    "                #### batch 어긋남 방지 ###############################################\n",
    "                assert real_batch == outputs.size(0), f'batch size is not same. real_batch: {real_batch}, outputs.size(0): {outputs.size(0)}'\n",
    "                #######################################################################\n",
    "                \n",
    "\n",
    "                if UDA_on == False:\n",
    "                    ####### training accruacy save for print ###############################\n",
    "                    _, predicted = torch.max(outputs.data, 1)\n",
    "                    total = real_batch\n",
    "                    correct = (predicted == labels).sum().item()\n",
    "                    iter_acc = correct / total\n",
    "                    tr_total += total\n",
    "                    tr_correct += correct\n",
    "                    if i % verbose_interval == verbose_interval-1:\n",
    "                        if ddp_on == False or torch.distributed.get_rank() == 0:\n",
    "                            print(f'{epoch}-{i} training acc: {100 * iter_acc:.2f}%, lr={[f\"{lr}\" for lr in (param_group[\"lr\"] for param_group in optimizer.param_groups)]}, val_acc: {100 * val_acc_now:.2f}%')\n",
    "                    iter_acc_string = f'epoch-{epoch:<3} iter_acc:{100 * iter_acc:7.2f}%, lr={[f\"{lr:9.7f}\" for lr in (param_group[\"lr\"] for param_group in optimizer.param_groups)]}'\n",
    "                    iter_acc_string2 = f'epoch-{epoch:<3} lr={[f\"{lr:9.7f}\" for lr in (param_group[\"lr\"] for param_group in optimizer.param_groups)]}'\n",
    "                    ################################################################\n",
    "                else:\n",
    "                    ####### training accruacy save for print ###############################\n",
    "                    _, predicted = torch.max(outputs.data, 1)\n",
    "                    _, predicted_domain = torch.max(outputs_domain.data, 1)\n",
    "                    total = real_batch\n",
    "                    correct = (predicted == labels).sum().item()\n",
    "                    correct_domain = (predicted_domain == domain_labels).sum().item()\n",
    "                    iter_acc = correct / total\n",
    "                    iter_acc_domain = correct_domain / total\n",
    "                    if (net.UDA_classifier_on == True):\n",
    "                        tr_total += total\n",
    "                        tr_correct += correct\n",
    "                    else:\n",
    "                        tr_total_target += total\n",
    "                        tr_correct_target += correct\n",
    "                    tr_correct_domain += correct_domain\n",
    "                    tr_total_domain += total\n",
    "\n",
    "                    if i % verbose_interval == verbose_interval-1:\n",
    "                        if ddp_on == False or torch.distributed.get_rank() == 0:\n",
    "                            print(f'{epoch}-{i} training acc: {100 * iter_acc:.2f}%, lr={[f\"{lr}\" for lr in (param_group[\"lr\"] for param_group in optimizer.param_groups)]}, val_acc: {100 * val_acc_now:.2f}%')\n",
    "                    iter_acc_string = f'epoch-{epoch:<3} iter_acc:{100 * iter_acc:7.2f}%, lr={[f\"{lr:9.7f}\" for lr in (param_group[\"lr\"] for param_group in optimizer.param_groups)]}'\n",
    "                    iter_acc_string2 = f'epoch-{epoch:<3} lr={[f\"{lr:9.7f}\" for lr in (param_group[\"lr\"] for param_group in optimizer.param_groups)]}'\n",
    "                    ################################################################\n",
    "\n",
    "\n",
    "\n",
    "\n",
    "            iter_one_train_time_end = time.time()\n",
    "            elapsed_time = iter_one_train_time_end - iter_one_train_time_start  # 실행 시간 계산\n",
    "\n",
    "            if (i % verbose_interval == verbose_interval-1):\n",
    "                if ddp_on == False or torch.distributed.get_rank() == 0:\n",
    "                    print(f\"iter_one_train_time: {elapsed_time} seconds, last one_val_time: {elapsed_time_val} seconds\\n\")\n",
    "            \n",
    "            ##### validation ##################################################################################################################################\n",
    "            if i % validation_interval2 == validation_interval2-1 :\n",
    "                iter_one_val_time_start = time.time()\n",
    "                tr_acc = tr_correct/tr_total\n",
    "                tr_correct = 0\n",
    "                tr_total = 0\n",
    "                if UDA_on == True:\n",
    "                    tr_acc_target = tr_correct_target/tr_total_target\n",
    "                    tr_correct_target = 0\n",
    "                    tr_total_target = 0\n",
    "                    tr_acc_domain = tr_correct_domain/tr_total_domain\n",
    "                    tr_correct_domain = 0\n",
    "                    tr_total_domain = 0\n",
    "\n",
    "                domain_index = 0\n",
    "                val_loss_set = []\n",
    "                val_acc_now_set = []\n",
    "                while True:\n",
    "                    val_loss = 0\n",
    "                    correct_val = 0\n",
    "                    total_val = 0\n",
    "                    test_loader = test_loader_domain_set[domain_index]\n",
    "                    domain_index = domain_index + 1\n",
    "\n",
    "                    with torch.no_grad():\n",
    "                        net.eval() # eval 모드로 바꿔줘야함 \n",
    "                        for data_val in test_loader:\n",
    "                            ## data_val loading & semi-pre-processing ##########################################################\n",
    "                            if len(data_val) == 2:\n",
    "                                inputs_val, labels_val = data_val\n",
    "                                # 처리 로직 작성\n",
    "                            elif len(data_val) == 3:\n",
    "                                inputs_val, labels_val, x_len = data_val\n",
    "                                # print('x_len',x_len)\n",
    "                                # mask = padded_sequence_mask(x_len)\n",
    "                                # max_time_step = x_len.max()\n",
    "                                # min_time_step = x_len.min()\n",
    "                                # B, T, *spatial_dims = inputs_val.shape\n",
    "                            else:\n",
    "                                assert False, 'data_val length is not 2 or 3'\n",
    "\n",
    "                            if (which_data == 'DVS_CIFAR10' or which_data == 'DVS_GESTURE' or which_data == 'DVS_GESTURE_TONIC' or which_data == 'DVS_CIFAR10_2' or which_data == 'NMNIST' or which_data == 'NMNIST_TONIC' or which_data == 'N_CALTECH101' or which_data == 'n_tidigits' or which_data == 'heidelberg'):\n",
    "                                inputs_val = inputs_val.permute(1, 0, 2, 3, 4)\n",
    "                            elif rate_coding == True :\n",
    "                                inputs_val = spikegen.rate(inputs_val, num_steps=TIME)\n",
    "                            else :\n",
    "                                inputs_val = inputs_val.repeat(TIME, 1, 1, 1, 1)\n",
    "                            # inputs_val: [Time, Batch, Channel, Height, Width]  \n",
    "                            ###################################################################################################\n",
    "                            \n",
    "                            ## initial pooling #######################################################################\n",
    "                            if (initial_pooling > 1):\n",
    "                                pool = nn.MaxPool2d(kernel_size=2)\n",
    "                                num_pooling_layers = int(math.log2(initial_pooling))\n",
    "                                # Time, Batch, Channel 차원은 그대로 두고, Height, Width 차원에 대해서만 pooling 적용\n",
    "                                shape_temp = inputs_val.shape\n",
    "                                inputs_val = inputs_val.reshape(shape_temp[0]*shape_temp[1], shape_temp[2], shape_temp[3], shape_temp[4])\n",
    "                                for _ in range(num_pooling_layers):\n",
    "                                    inputs_val = pool(inputs_val)\n",
    "                                inputs_val = inputs_val.reshape(shape_temp[0], shape_temp[1], shape_temp[2], shape_temp[3]//initial_pooling, shape_temp[4]//initial_pooling)\n",
    "                            ## initial pooling #######################################################################\n",
    "\n",
    "                            ## temporal filtering ####################################################################\n",
    "                            shape_temp = inputs_val.shape\n",
    "                            if (temporal_filter > 1):\n",
    "                                slice_bucket = []\n",
    "                                for t_temp in range(TIME):\n",
    "                                    start = t_temp * temporal_filter\n",
    "                                    end = start + temporal_filter\n",
    "                                    slice_concat = torch.movedim(inputs_val[start:end], 0, 1).reshape(shape_temp[1],shape_temp[2],shape_temp[3],-1)\n",
    "                                    slice_bucket.append(slice_concat)\n",
    "                                inputs_val = torch.stack(slice_bucket, dim=0)\n",
    "                            ## temporal filtering ####################################################################\n",
    "                            \n",
    "                            inputs_val = inputs_val.to(device)\n",
    "                            labels_val = labels_val.to(device)\n",
    "                            real_batch = labels_val.size(0)\n",
    "                            \n",
    "                            ## DVS gesture에서 other label자리 매꾸기 ###############\n",
    "                            if (which_data == 'DVS_GESTURE'):\n",
    "                                labels_val[labels_val>2] -= 1\n",
    "                            #######################################################\n",
    "                            \n",
    "                            if merge_polarities == True:\n",
    "                                inputs_val = inputs_val[:,:,0,:,:]\n",
    "\n",
    "                            ## network 연산 시작 ############################################################################################################\n",
    "                            if single_step == False:\n",
    "                                outputs = net(inputs_val.permute(1, 0, 2, 3, 4)) #inputs_val: [Batch, Time, Channel, Height, Width]  \n",
    "                                val_loss_val += criterion(outputs, labels_val)/len(test_loader)\n",
    "                            else:\n",
    "                                outputs_all = []\n",
    "                                for t in range(TIME):\n",
    "                                    outputs = net(inputs_val[t])\n",
    "                                    if UDA_on == True:\n",
    "                                        outputs = outputs[0] # classifier의 output만 사용.\n",
    "                                    val_loss_temp = criterion(outputs, labels_val)\n",
    "                                    outputs_all.append(outputs.detach())\n",
    "                                    val_loss += (val_loss_temp.data/TIME)/len(test_loader)\n",
    "                                outputs_all = torch.stack(outputs_all, dim=1)\n",
    "                                outputs = outputs_all.mean(1)\n",
    "                            val_loss_set.append(val_loss)\n",
    "                            #################################################################################################################################\n",
    "\n",
    "                            _, predicted = torch.max(outputs.data, 1)\n",
    "                            total_val += real_batch\n",
    "                            assert real_batch == outputs.size(0), f'batch size is not same. real_batch: {real_batch}, outputs.size(0): {outputs.size(0)}'\n",
    "                            correct_val += (predicted == labels_val).sum().item()\n",
    "\n",
    "                        val_acc_now = correct_val / total_val\n",
    "                        # print(f'{epoch}-{i} validation acc: {100 * val_acc_now:.2f}%, lr={[f\"{lr:.10f}\" for lr in (param_group[\"lr\"] for param_group in optimizer.param_groups)]}')\n",
    "                        val_acc_now_set.append(val_acc_now)\n",
    "\n",
    "                    if domain_index == len(dvs_duration_domain) + 1:\n",
    "                        break\n",
    "\n",
    "                val_loss = val_loss_set[0]\n",
    "                val_acc_now = val_acc_now_set[0]\n",
    "\n",
    "                iter_one_val_time_end = time.time()\n",
    "                elapsed_time_val = iter_one_val_time_end - iter_one_val_time_start  # 실행 시간 계산\n",
    "                # print(f\"iter_one_val_time: {elapsed_time_val} seconds\")\n",
    "\n",
    "                # network save\n",
    "                if val_acc_best < val_acc_now:\n",
    "                    val_acc_best = val_acc_now\n",
    "                    if ddp_on == False or torch.distributed.get_rank() == 0:\n",
    "                        # wandb 키면 state_dict아닌거는 저장 안됨\n",
    "                        torch.save(net.state_dict(), f\"net_save/save_now_net_weights_{unique_name}.pth\")\n",
    "                        # torch.save(net, f\"net_save/save_now_net_{unique_name}.pth\")\n",
    "                        # torch.save(net.module.state_dict(), f\"net_save/save_now_net_weights2_{unique_name}.pth\")\n",
    "                        # torch.save(net.module, f\"net_save/save_now_net2_{unique_name}.pth\")\n",
    "                    no_val_best_growth_count = 0\n",
    "                else:\n",
    "                    no_val_best_growth_count = no_val_best_growth_count + 1\n",
    "\n",
    "                if tr_acc_best < tr_acc:\n",
    "                    tr_acc_best = tr_acc\n",
    "                    no_tr_best_growth_count = 0\n",
    "                else:\n",
    "                    no_tr_best_growth_count = no_tr_best_growth_count + 1\n",
    "\n",
    "                tr_epoch_loss = tr_epoch_loss_temp\n",
    "                tr_epoch_loss_temp = 0\n",
    "                tr_epoch_loss_target = tr_epoch_loss_temp_target \n",
    "                tr_epoch_loss_temp_target = 0\n",
    "                tr_epoch_loss_domain = tr_epoch_loss_temp_domain\n",
    "                tr_epoch_loss_temp_domain = 0\n",
    "                if (UDA_on == True):\n",
    "                    print(f\"Domain loss,acc: {tr_epoch_loss_domain:.6f}, {100 * tr_acc_domain:.2f}% Target domain: tr_loss-{tr_epoch_loss_target:.6f}, tr_acc-{100 * tr_acc_target:.2f}%\")\n",
    "\n",
    "                if DFA_toggle == True:\n",
    "                    DFA_flag = 1.0 - DFA_flag\n",
    "                    DFA_toggle = False\n",
    "\n",
    "                iter_of_val = True\n",
    "            ####################################################################################################################################################\n",
    "            \n",
    "            ## progress bar update ############################################################################################################\n",
    "            if ddp_on == False or torch.distributed.get_rank() == 0:\n",
    "                if iter_of_val == False:\n",
    "                    iterator.set_description(f\"{iter_acc_string}, iter_loss:{iter_loss:10.6f}, val_best:{100 * val_acc_best:7.2f}%\")  \n",
    "                else:\n",
    "                    iterator.set_description(f\"{iter_acc_string2}, tr/val_loss:{tr_epoch_loss:10.6f}/{val_loss:10.6f}, tr:{100 * tr_acc:7.2f}%, val:{100 * val_acc_now:7.2f}%, val_best:{100 * val_acc_best:7.2f}%\")  \n",
    "\n",
    "                    if len(dvs_duration_domain) > 0:\n",
    "                        dvs_duration_full = [(dvs_duration, dvs_clipping, denoise_on, TIME)] + dvs_duration_domain\n",
    "                        val_acc_now_set_best = [max(past, now) for past, now in zip(val_acc_now_set_past, val_acc_now_set)]\n",
    "                        print(\" | \".join(f\"{dvs_duration_full[d_count][0]:,}c{dvs_duration_full[d_count][1]}d{dvs_duration_full[d_count][2]}t{dvs_duration_full[d_count][3]}:{val_acc_now_set[d_count]*100:.2f}%:{val_acc_now_set_best[d_count]*100:.2f}%\" for d_count in range(len(val_acc_now_set))))\n",
    "                        val_acc_now_set_past = val_acc_now_set_best\n",
    "                    iter_of_val = False\n",
    "            \n",
    "            ####################################################################################################################################\n",
    "            \n",
    "            ## wandb logging ############################################################################################################\n",
    "            if ddp_on == False or torch.distributed.get_rank() == 0:\n",
    "                wandb.log({\"iter_acc\": iter_acc})\n",
    "                wandb.log({\"tr_acc\": tr_acc})\n",
    "                wandb.log({\"val_acc_now\": val_acc_now})\n",
    "                wandb.log({\"val_acc_best\": val_acc_best})\n",
    "                wandb.log({\"summary_val_acc\": val_acc_now})\n",
    "                wandb.log({\"epoch\": epoch})\n",
    "                wandb.log({\"DFA_flag\": DFA_flag}) # DFA mode 바뀌자 마자 바뀌는 게 아니고 validation 한번 했을 때 바뀜.\n",
    "                wandb.log({\"val_loss\": val_loss}) \n",
    "                wandb.log({\"tr_epoch_loss\": tr_epoch_loss})   \n",
    "                if len(val_acc_now_set) > 1:\n",
    "                    wandb.log({\"val_acc_now_set[1]\": val_acc_now_set[1]}) \n",
    "                    wandb.log({\"val_acc_now_set[1]_best\": val_acc_now_set_best[1]}) \n",
    "            ####################################################################################################################################\n",
    "            \n",
    "            \n",
    "            ## accuray 로컬에 저장 하기 위한 코드 #####################################################################################\n",
    "            iter_acc_array = np.append(iter_acc_array, iter_acc)\n",
    "            tr_acc_array = np.append(tr_acc_array, tr_acc)\n",
    "            val_acc_now_array = np.append(val_acc_now_array, val_acc_now)\n",
    "            base_name = f'{current_time}'\n",
    "            ####################################################################################################################\n",
    "            \n",
    "            iter_acc_file_name_time = f'result_save/{base_name}_iter_acc_array_{unique_name}.npy'\n",
    "            tr_acc_file_name_time = f'result_save/{base_name}_tr_acc_array_{unique_name}.npy'\n",
    "            val_acc_file_name_time = f'result_save/{base_name}_val_acc_now_array_{unique_name}.npy'\n",
    "            hyperparameters_file_name_time = f'result_save/{base_name}_hyperparameters_{unique_name}.json'\n",
    "\n",
    "            hyperparameters['current epoch'] = epoch\n",
    "\n",
    "            ### accuracy 세이브: 덮어쓰기 하기 싫으면 주석 풀어서 사용 (시간마다 새로 쓰기) 비추천 ########################\n",
    "            # if ddp_on == False or torch.distributed.get_rank() == 0:\n",
    "            #     np.save(iter_acc_file_name_time, iter_acc_array)\n",
    "\n",
    "\n",
    "            #     np.save(tr_acc_file_name_time, iter_acc_array)\n",
    "            #     np.save(val_acc_file_name_time, val_acc_now_array)\n",
    "            #     with open(hyperparameters_file_name_time, 'w') as f:\n",
    "            #         json.dump(hyperparameters, f, indent=4)\n",
    "            #########################################################################################################\n",
    "\n",
    "            ## accuracy 세이브 ###########################################################################################\n",
    "            if ddp_on == False or torch.distributed.get_rank() == 0:\n",
    "                np.save(f'result_save/iter_acc_array_{unique_name}.npy', iter_acc_array)\n",
    "                np.save(f'result_save/tr_acc_array_{unique_name}.npy', tr_acc_array)\n",
    "                np.save(f'result_save/val_acc_now_array_{unique_name}.npy', val_acc_now_array)\n",
    "                with open(f'result_save/hyperparameters_{unique_name}.json', 'w') as f:\n",
    "                    json.dump(hyperparameters, f, indent=4)\n",
    "            ##########################################################################################################\n",
    "            # iterator.update(1)\n",
    "        ###### ITERATION END ##########################################################################################################\n",
    "                \n",
    "\n",
    "        ## scheduler update #############################################################################\n",
    "        if (scheduler_name != 'no'):\n",
    "            if (scheduler_name == 'ReduceLROnPlateau'):\n",
    "                scheduler.step(val_loss)\n",
    "            else:\n",
    "                scheduler.step()\n",
    "        #################################################################################################\n",
    "        \n",
    "        # 실행 시간 계산\n",
    "        epoch_time_end = time.time()\n",
    "        # print(f\"epoch_time: {epoch_time_end - epoch_start_time} seconds\\n\") \n",
    "    #======== EPOCH END ==========================================================================================\n"
   ]
  },
  {
   "cell_type": "code",
   "execution_count": 5,
   "metadata": {},
   "outputs": [
    {
     "name": "stderr",
     "output_type": "stream",
     "text": [
      "Failed to detect the name of this notebook, you can set it manually with the WANDB_NOTEBOOK_NAME environment variable to enable code saving.\n",
      "\u001b[34m\u001b[1mwandb\u001b[0m: Currently logged in as: \u001b[33mbhkim003\u001b[0m (\u001b[33mbhkim003-seoul-national-university\u001b[0m). Use \u001b[1m`wandb login --relogin`\u001b[0m to force relogin\n"
     ]
    },
    {
     "data": {
      "text/html": [
       "wandb version 0.18.5 is available!  To upgrade, please run:\n",
       " $ pip install wandb --upgrade"
      ],
      "text/plain": [
       "<IPython.core.display.HTML object>"
      ]
     },
     "metadata": {},
     "output_type": "display_data"
    },
    {
     "data": {
      "text/html": [
       "Tracking run with wandb version 0.17.5"
      ],
      "text/plain": [
       "<IPython.core.display.HTML object>"
      ]
     },
     "metadata": {},
     "output_type": "display_data"
    },
    {
     "data": {
      "text/html": [
       "Run data is saved locally in <code>/nfs/home/bhkim003/github_folder/ByeonghyeonKim/my_snn/wandb/run-20241023_031753-nf2l29qt</code>"
      ],
      "text/plain": [
       "<IPython.core.display.HTML object>"
      ]
     },
     "metadata": {},
     "output_type": "display_data"
    },
    {
     "data": {
      "text/html": [
       "Syncing run <strong><a href='https://wandb.ai/bhkim003-seoul-national-university/my_snn%20main/runs/nf2l29qt' target=\"_blank\">rosy-galaxy-6631</a></strong> to <a href='https://wandb.ai/bhkim003-seoul-national-university/my_snn%20main' target=\"_blank\">Weights & Biases</a> (<a href='https://wandb.me/run' target=\"_blank\">docs</a>)<br/>"
      ],
      "text/plain": [
       "<IPython.core.display.HTML object>"
      ]
     },
     "metadata": {},
     "output_type": "display_data"
    },
    {
     "data": {
      "text/html": [
       " View project at <a href='https://wandb.ai/bhkim003-seoul-national-university/my_snn%20main' target=\"_blank\">https://wandb.ai/bhkim003-seoul-national-university/my_snn%20main</a>"
      ],
      "text/plain": [
       "<IPython.core.display.HTML object>"
      ]
     },
     "metadata": {},
     "output_type": "display_data"
    },
    {
     "data": {
      "text/html": [
       " View run at <a href='https://wandb.ai/bhkim003-seoul-national-university/my_snn%20main/runs/nf2l29qt' target=\"_blank\">https://wandb.ai/bhkim003-seoul-national-university/my_snn%20main/runs/nf2l29qt</a>"
      ],
      "text/plain": [
       "<IPython.core.display.HTML object>"
      ]
     },
     "metadata": {},
     "output_type": "display_data"
    },
    {
     "name": "stdout",
     "output_type": "stream",
     "text": [
      "dataset_hash = 792a1f1e2c737d3b5e7bf29b3ff6991e\n",
      "cache path exists\n",
      "dataset_hash = 792a1f1e2c737d3b5e7bf29b3ff6991e\n",
      "cache path exists\n",
      "dataset_hash = 7a37155e73dfde145613403f4b7d2262\n",
      "cache path exists\n",
      "\n",
      " src img count 48000 trg img count 12000 \n",
      "\n",
      "dataset_hash = 7a37155e73dfde145613403f4b7d2262\n",
      "cache path exists\n",
      "In UDA mode, No parameter number calculation yet.\n",
      "\n",
      "device ==> cuda\n",
      "\n",
      "DataParallel(\n",
      "  (module): MY_SNN_FC_sstep(\n",
      "    (UDA_feature_layers): MY_Sequential(\n",
      "      (0): DimChanger_for_FC_sstep()\n",
      "      (1): SYNAPSE_FC_trace_sstep()\n",
      "      (2): LIF_layer_trace_sstep()\n",
      "      (3): Feedback_Receiver()\n",
      "      (DFA_top): Top_Gradient()\n",
      "    )\n",
      "    (UDA_classifier_layers): MY_Sequential(\n",
      "      (0): SYNAPSE_FC_trace_sstep()\n",
      "      (1): LIF_layer_trace_sstep()\n",
      "      (2): Feedback_Receiver()\n",
      "      (3): SYNAPSE_FC_trace_sstep()\n",
      "      (DFA_top): Top_Gradient()\n",
      "    )\n",
      "    (UDA_adapter_layers): MY_Sequential(\n",
      "      (0): Gradient_Reversal_Layer()\n",
      "      (1): SYNAPSE_FC_trace_sstep()\n",
      "      (2): LIF_layer_trace_sstep()\n",
      "      (3): Feedback_Receiver()\n",
      "      (4): SYNAPSE_FC_trace_sstep()\n",
      "      (DFA_top): Top_Gradient()\n",
      "    )\n",
      "  )\n",
      ")\n",
      "==================================================\n",
      "My Num of PARAMS: 0, system's param_num : 198,612\n",
      "Memory: 0.00MiB at 32-bit\n",
      "==================================================\n"
     ]
    },
    {
     "name": "stderr",
     "output_type": "stream",
     "text": [
      "epoch-0   lr=['0.0010000'], tr/val_loss:  1.859004/  0.768950, tr:  63.60%, val:  90.10%, val_best:  90.10%: 100%|██████████| 375/375 [01:17<00:00,  4.87it/s]"
     ]
    },
    {
     "name": "stdout",
     "output_type": "stream",
     "text": [
      "Domain loss,acc: 2.064907, 90.90% Target domain: tr_loss-2.888520, tr_acc-11.19%\n",
      "4,000c1dFalset10:90.10%:90.10% | 1,000c1dFalset10:14.92%:14.92%\n"
     ]
    },
    {
     "name": "stderr",
     "output_type": "stream",
     "text": [
      "\n",
      "epoch-1   lr=['0.0010000'], tr/val_loss:  0.825005/  0.542287, tr:  91.06%, val:  93.14%, val_best:  93.14%: 100%|██████████| 375/375 [01:14<00:00,  5.04it/s]"
     ]
    },
    {
     "name": "stdout",
     "output_type": "stream",
     "text": [
      "Domain loss,acc: 1.230328, 98.58% Target domain: tr_loss-2.851618, tr_acc-19.12%\n",
      "4,000c1dFalset10:93.14%:93.14% | 1,000c1dFalset10:30.71%:30.71%\n"
     ]
    },
    {
     "name": "stderr",
     "output_type": "stream",
     "text": [
      "\n",
      "epoch-2   lr=['0.0010000'], tr/val_loss:  0.648277/  0.456898, tr:  93.36%, val:  94.34%, val_best:  94.34%: 100%|██████████| 375/375 [01:15<00:00,  4.96it/s]"
     ]
    },
    {
     "name": "stdout",
     "output_type": "stream",
     "text": [
      "Domain loss,acc: 1.084786, 99.12% Target domain: tr_loss-2.830822, tr_acc-32.15%\n",
      "4,000c1dFalset10:94.34%:94.34% | 1,000c1dFalset10:41.73%:41.73%\n"
     ]
    },
    {
     "name": "stderr",
     "output_type": "stream",
     "text": [
      "\n",
      "epoch-3   lr=['0.0010000'], tr/val_loss:  0.565378/  0.411133, tr:  94.44%, val:  95.04%, val_best:  95.04%: 100%|██████████| 375/375 [01:16<00:00,  4.93it/s]"
     ]
    },
    {
     "name": "stdout",
     "output_type": "stream",
     "text": [
      "Domain loss,acc: 1.018949, 99.22% Target domain: tr_loss-2.833233, tr_acc-39.23%\n",
      "4,000c1dFalset10:95.04%:95.04% | 1,000c1dFalset10:45.81%:45.81%\n"
     ]
    },
    {
     "name": "stderr",
     "output_type": "stream",
     "text": [
      "\n",
      "epoch-4   lr=['0.0010000'], tr/val_loss:  0.513787/  0.383816, tr:  95.08%, val:  95.54%, val_best:  95.54%: 100%|██████████| 375/375 [01:15<00:00,  4.95it/s]"
     ]
    },
    {
     "name": "stdout",
     "output_type": "stream",
     "text": [
      "Domain loss,acc: 0.976069, 99.32% Target domain: tr_loss-2.825197, tr_acc-43.80%\n",
      "4,000c1dFalset10:95.54%:95.54% | 1,000c1dFalset10:48.26%:48.26%\n"
     ]
    },
    {
     "name": "stderr",
     "output_type": "stream",
     "text": [
      "\n",
      "epoch-5   lr=['0.0010000'], tr/val_loss:  0.479620/  0.369784, tr:  95.46%, val:  95.70%, val_best:  95.70%: 100%|██████████| 375/375 [01:15<00:00,  4.96it/s]"
     ]
    },
    {
     "name": "stdout",
     "output_type": "stream",
     "text": [
      "Domain loss,acc: 0.950235, 99.30% Target domain: tr_loss-2.832700, tr_acc-46.03%\n",
      "4,000c1dFalset10:95.70%:95.70% | 1,000c1dFalset10:51.89%:51.89%\n"
     ]
    },
    {
     "name": "stderr",
     "output_type": "stream",
     "text": [
      "\n",
      "epoch-6   lr=['0.0010000'], tr/val_loss:  0.455774/  0.351337, tr:  95.80%, val:  95.84%, val_best:  95.84%: 100%|██████████| 375/375 [01:16<00:00,  4.88it/s]"
     ]
    },
    {
     "name": "stdout",
     "output_type": "stream",
     "text": [
      "Domain loss,acc: 0.930937, 99.39% Target domain: tr_loss-2.831593, tr_acc-48.20%\n",
      "4,000c1dFalset10:95.84%:95.84% | 1,000c1dFalset10:54.00%:54.00%\n"
     ]
    },
    {
     "name": "stderr",
     "output_type": "stream",
     "text": [
      "\n",
      "epoch-7   lr=['0.0010000'], tr/val_loss:  0.435196/  0.335755, tr:  96.04%, val:  96.28%, val_best:  96.28%: 100%|██████████| 375/375 [01:16<00:00,  4.90it/s]"
     ]
    },
    {
     "name": "stdout",
     "output_type": "stream",
     "text": [
      "Domain loss,acc: 0.916218, 99.38% Target domain: tr_loss-2.840305, tr_acc-49.66%\n",
      "4,000c1dFalset10:96.28%:96.28% | 1,000c1dFalset10:54.41%:54.41%\n"
     ]
    },
    {
     "name": "stderr",
     "output_type": "stream",
     "text": [
      "\n",
      "epoch-8   lr=['0.0010000'], tr/val_loss:  0.419925/  0.327999, tr:  96.20%, val:  96.12%, val_best:  96.28%: 100%|██████████| 375/375 [01:17<00:00,  4.85it/s]"
     ]
    },
    {
     "name": "stdout",
     "output_type": "stream",
     "text": [
      "Domain loss,acc: 0.903549, 99.36% Target domain: tr_loss-2.838048, tr_acc-51.07%\n",
      "4,000c1dFalset10:96.12%:96.28% | 1,000c1dFalset10:55.18%:55.18%\n"
     ]
    },
    {
     "name": "stderr",
     "output_type": "stream",
     "text": [
      "\n",
      "epoch-9   lr=['0.0010000'], tr/val_loss:  0.406384/  0.320863, tr:  96.36%, val:  96.21%, val_best:  96.28%: 100%|██████████| 375/375 [01:17<00:00,  4.85it/s]"
     ]
    },
    {
     "name": "stdout",
     "output_type": "stream",
     "text": [
      "Domain loss,acc: 0.893960, 99.41% Target domain: tr_loss-2.844266, tr_acc-51.84%\n",
      "4,000c1dFalset10:96.21%:96.28% | 1,000c1dFalset10:54.87%:55.18%\n"
     ]
    },
    {
     "name": "stderr",
     "output_type": "stream",
     "text": [
      "\n",
      "epoch-10  lr=['0.0010000'], tr/val_loss:  0.394259/  0.312500, tr:  96.52%, val:  96.57%, val_best:  96.57%: 100%|██████████| 375/375 [01:16<00:00,  4.90it/s]"
     ]
    },
    {
     "name": "stdout",
     "output_type": "stream",
     "text": [
      "Domain loss,acc: 0.888262, 99.39% Target domain: tr_loss-2.864273, tr_acc-52.21%\n",
      "4,000c1dFalset10:96.57%:96.57% | 1,000c1dFalset10:55.98%:55.98%\n"
     ]
    },
    {
     "name": "stderr",
     "output_type": "stream",
     "text": [
      "\n",
      "epoch-11  lr=['0.0010000'], tr/val_loss:  0.384700/  0.304561, tr:  96.68%, val:  96.61%, val_best:  96.61%: 100%|██████████| 375/375 [01:15<00:00,  4.97it/s]"
     ]
    },
    {
     "name": "stdout",
     "output_type": "stream",
     "text": [
      "Domain loss,acc: 0.878594, 99.41% Target domain: tr_loss-2.854173, tr_acc-52.50%\n",
      "4,000c1dFalset10:96.61%:96.61% | 1,000c1dFalset10:56.91%:56.91%\n"
     ]
    },
    {
     "name": "stderr",
     "output_type": "stream",
     "text": [
      "\n",
      "epoch-12  lr=['0.0010000'], tr/val_loss:  0.374751/  0.299051, tr:  96.79%, val:  96.58%, val_best:  96.61%: 100%|██████████| 375/375 [01:16<00:00,  4.91it/s]"
     ]
    },
    {
     "name": "stdout",
     "output_type": "stream",
     "text": [
      "Domain loss,acc: 0.876756, 99.40% Target domain: tr_loss-2.884778, tr_acc-52.56%\n",
      "4,000c1dFalset10:96.58%:96.61% | 1,000c1dFalset10:56.85%:56.91%\n"
     ]
    },
    {
     "name": "stderr",
     "output_type": "stream",
     "text": [
      "\n",
      "epoch-13  lr=['0.0010000'], tr/val_loss:  0.366635/  0.297867, tr:  96.86%, val:  96.96%, val_best:  96.96%: 100%|██████████| 375/375 [01:17<00:00,  4.82it/s]"
     ]
    },
    {
     "name": "stdout",
     "output_type": "stream",
     "text": [
      "Domain loss,acc: 0.872763, 99.43% Target domain: tr_loss-2.897270, tr_acc-52.99%\n",
      "4,000c1dFalset10:96.96%:96.96% | 1,000c1dFalset10:58.75%:58.75%\n"
     ]
    },
    {
     "name": "stderr",
     "output_type": "stream",
     "text": [
      "\n",
      "epoch-14  lr=['0.0010000'], tr/val_loss:  0.361116/  0.293615, tr:  96.93%, val:  96.82%, val_best:  96.96%: 100%|██████████| 375/375 [01:17<00:00,  4.86it/s]"
     ]
    },
    {
     "name": "stdout",
     "output_type": "stream",
     "text": [
      "Domain loss,acc: 0.866005, 99.44% Target domain: tr_loss-2.885564, tr_acc-53.69%\n",
      "4,000c1dFalset10:96.82%:96.96% | 1,000c1dFalset10:59.70%:59.70%\n"
     ]
    },
    {
     "name": "stderr",
     "output_type": "stream",
     "text": [
      "\n",
      "epoch-15  lr=['0.0010000'], tr/val_loss:  0.353930/  0.289975, tr:  97.05%, val:  96.98%, val_best:  96.98%: 100%|██████████| 375/375 [01:18<00:00,  4.76it/s]"
     ]
    },
    {
     "name": "stdout",
     "output_type": "stream",
     "text": [
      "Domain loss,acc: 0.860399, 99.45% Target domain: tr_loss-2.886276, tr_acc-54.55%\n",
      "4,000c1dFalset10:96.98%:96.98% | 1,000c1dFalset10:58.47%:59.70%\n"
     ]
    },
    {
     "name": "stderr",
     "output_type": "stream",
     "text": [
      "\n",
      "epoch-16  lr=['0.0010000'], tr/val_loss:  0.348199/  0.287534, tr:  97.10%, val:  96.86%, val_best:  96.98%: 100%|██████████| 375/375 [01:16<00:00,  4.90it/s]"
     ]
    },
    {
     "name": "stdout",
     "output_type": "stream",
     "text": [
      "Domain loss,acc: 0.861907, 99.46% Target domain: tr_loss-2.916736, tr_acc-53.84%\n",
      "4,000c1dFalset10:96.86%:96.98% | 1,000c1dFalset10:60.89%:60.89%\n"
     ]
    },
    {
     "name": "stderr",
     "output_type": "stream",
     "text": [
      "\n",
      "epoch-17  lr=['0.0010000'], tr/val_loss:  0.341788/  0.279579, tr:  97.23%, val:  96.97%, val_best:  96.98%: 100%|██████████| 375/375 [01:16<00:00,  4.88it/s]"
     ]
    },
    {
     "name": "stdout",
     "output_type": "stream",
     "text": [
      "Domain loss,acc: 0.855985, 99.44% Target domain: tr_loss-2.912777, tr_acc-54.27%\n",
      "4,000c1dFalset10:96.97%:96.98% | 1,000c1dFalset10:61.35%:61.35%\n"
     ]
    },
    {
     "name": "stderr",
     "output_type": "stream",
     "text": [
      "\n",
      "epoch-18  lr=['0.0010000'], tr/val_loss:  0.336614/  0.277193, tr:  97.35%, val:  96.90%, val_best:  96.98%: 100%|██████████| 375/375 [01:17<00:00,  4.86it/s]"
     ]
    },
    {
     "name": "stdout",
     "output_type": "stream",
     "text": [
      "Domain loss,acc: 0.851643, 99.43% Target domain: tr_loss-2.911760, tr_acc-54.66%\n",
      "4,000c1dFalset10:96.90%:96.98% | 1,000c1dFalset10:59.02%:61.35%\n"
     ]
    },
    {
     "name": "stderr",
     "output_type": "stream",
     "text": [
      "\n",
      "epoch-19  lr=['0.0010000'], tr/val_loss:  0.331046/  0.276035, tr:  97.36%, val:  96.94%, val_best:  96.98%: 100%|██████████| 375/375 [01:16<00:00,  4.91it/s]"
     ]
    },
    {
     "name": "stdout",
     "output_type": "stream",
     "text": [
      "Domain loss,acc: 0.846692, 99.47% Target domain: tr_loss-2.909274, tr_acc-55.38%\n",
      "4,000c1dFalset10:96.94%:96.98% | 1,000c1dFalset10:57.90%:61.35%\n"
     ]
    },
    {
     "name": "stderr",
     "output_type": "stream",
     "text": [
      "\n",
      "epoch-20  lr=['0.0010000'], tr/val_loss:  0.326453/  0.272463, tr:  97.48%, val:  97.02%, val_best:  97.02%: 100%|██████████| 375/375 [01:16<00:00,  4.91it/s]"
     ]
    },
    {
     "name": "stdout",
     "output_type": "stream",
     "text": [
      "Domain loss,acc: 0.847233, 99.46% Target domain: tr_loss-2.930357, tr_acc-54.89%\n",
      "4,000c1dFalset10:97.02%:97.02% | 1,000c1dFalset10:61.23%:61.35%\n"
     ]
    },
    {
     "name": "stderr",
     "output_type": "stream",
     "text": [
      "\n",
      "epoch-21  lr=['0.0010000'], tr/val_loss:  0.322030/  0.269521, tr:  97.47%, val:  97.08%, val_best:  97.08%: 100%|██████████| 375/375 [01:16<00:00,  4.88it/s]"
     ]
    },
    {
     "name": "stdout",
     "output_type": "stream",
     "text": [
      "Domain loss,acc: 0.845038, 99.48% Target domain: tr_loss-2.937070, tr_acc-55.47%\n",
      "4,000c1dFalset10:97.08%:97.08% | 1,000c1dFalset10:60.65%:61.35%\n"
     ]
    },
    {
     "name": "stderr",
     "output_type": "stream",
     "text": [
      "\n",
      "epoch-22  lr=['0.0010000'], tr/val_loss:  0.318153/  0.268012, tr:  97.58%, val:  97.20%, val_best:  97.20%: 100%|██████████| 375/375 [01:18<00:00,  4.78it/s]"
     ]
    },
    {
     "name": "stdout",
     "output_type": "stream",
     "text": [
      "Domain loss,acc: 0.842510, 99.49% Target domain: tr_loss-2.939938, tr_acc-55.51%\n",
      "4,000c1dFalset10:97.20%:97.20% | 1,000c1dFalset10:61.00%:61.35%\n"
     ]
    },
    {
     "name": "stderr",
     "output_type": "stream",
     "text": [
      "\n",
      "epoch-23  lr=['0.0010000'], tr/val_loss:  0.313440/  0.264036, tr:  97.62%, val:  97.31%, val_best:  97.31%: 100%|██████████| 375/375 [01:17<00:00,  4.82it/s]"
     ]
    },
    {
     "name": "stdout",
     "output_type": "stream",
     "text": [
      "Domain loss,acc: 0.840276, 99.46% Target domain: tr_loss-2.947623, tr_acc-55.55%\n",
      "4,000c1dFalset10:97.31%:97.31% | 1,000c1dFalset10:60.42%:61.35%\n"
     ]
    },
    {
     "name": "stderr",
     "output_type": "stream",
     "text": [
      "\n",
      "epoch-24  lr=['0.0010000'], tr/val_loss:  0.311070/  0.264809, tr:  97.64%, val:  97.22%, val_best:  97.31%: 100%|██████████| 375/375 [01:17<00:00,  4.81it/s]"
     ]
    },
    {
     "name": "stdout",
     "output_type": "stream",
     "text": [
      "Domain loss,acc: 0.840439, 99.48% Target domain: tr_loss-2.957914, tr_acc-55.73%\n",
      "4,000c1dFalset10:97.22%:97.31% | 1,000c1dFalset10:60.89%:61.35%\n"
     ]
    },
    {
     "name": "stderr",
     "output_type": "stream",
     "text": [
      "\n",
      "epoch-25  lr=['0.0010000'], tr/val_loss:  0.307945/  0.262241, tr:  97.67%, val:  97.20%, val_best:  97.31%: 100%|██████████| 375/375 [01:18<00:00,  4.79it/s]"
     ]
    },
    {
     "name": "stdout",
     "output_type": "stream",
     "text": [
      "Domain loss,acc: 0.838194, 99.49% Target domain: tr_loss-2.959189, tr_acc-55.60%\n",
      "4,000c1dFalset10:97.20%:97.31% | 1,000c1dFalset10:62.13%:62.13%\n"
     ]
    },
    {
     "name": "stderr",
     "output_type": "stream",
     "text": [
      "\n",
      "epoch-26  lr=['0.0010000'], tr/val_loss:  0.305040/  0.260423, tr:  97.75%, val:  97.25%, val_best:  97.31%: 100%|██████████| 375/375 [01:17<00:00,  4.86it/s]"
     ]
    },
    {
     "name": "stdout",
     "output_type": "stream",
     "text": [
      "Domain loss,acc: 0.837609, 99.47% Target domain: tr_loss-2.967882, tr_acc-55.93%\n",
      "4,000c1dFalset10:97.25%:97.31% | 1,000c1dFalset10:61.00%:62.13%\n"
     ]
    },
    {
     "name": "stderr",
     "output_type": "stream",
     "text": [
      "\n",
      "epoch-27  lr=['0.0010000'], tr/val_loss:  0.300982/  0.262104, tr:  97.81%, val:  97.24%, val_best:  97.31%: 100%|██████████| 375/375 [01:18<00:00,  4.78it/s]"
     ]
    },
    {
     "name": "stdout",
     "output_type": "stream",
     "text": [
      "Domain loss,acc: 0.835600, 99.48% Target domain: tr_loss-2.974075, tr_acc-56.53%\n",
      "4,000c1dFalset10:97.24%:97.31% | 1,000c1dFalset10:60.39%:62.13%\n"
     ]
    },
    {
     "name": "stderr",
     "output_type": "stream",
     "text": [
      "\n",
      "epoch-28  lr=['0.0010000'], tr/val_loss:  0.297099/  0.261395, tr:  97.78%, val:  97.16%, val_best:  97.31%: 100%|██████████| 375/375 [01:17<00:00,  4.83it/s]"
     ]
    },
    {
     "name": "stdout",
     "output_type": "stream",
     "text": [
      "Domain loss,acc: 0.833611, 99.50% Target domain: tr_loss-2.979659, tr_acc-56.12%\n",
      "4,000c1dFalset10:97.16%:97.31% | 1,000c1dFalset10:61.12%:62.13%\n"
     ]
    },
    {
     "name": "stderr",
     "output_type": "stream",
     "text": [
      "\n",
      "epoch-29  lr=['0.0010000'], tr/val_loss:  0.295355/  0.257211, tr:  97.88%, val:  97.30%, val_best:  97.31%: 100%|██████████| 375/375 [01:17<00:00,  4.84it/s]"
     ]
    },
    {
     "name": "stdout",
     "output_type": "stream",
     "text": [
      "Domain loss,acc: 0.834912, 99.47% Target domain: tr_loss-2.993140, tr_acc-56.00%\n",
      "4,000c1dFalset10:97.30%:97.31% | 1,000c1dFalset10:63.49%:63.49%\n"
     ]
    },
    {
     "name": "stderr",
     "output_type": "stream",
     "text": [
      "\n",
      "epoch-30  lr=['0.0010000'], tr/val_loss:  0.291723/  0.259796, tr:  97.88%, val:  97.27%, val_best:  97.31%: 100%|██████████| 375/375 [01:17<00:00,  4.85it/s]"
     ]
    },
    {
     "name": "stdout",
     "output_type": "stream",
     "text": [
      "Domain loss,acc: 0.830199, 99.49% Target domain: tr_loss-2.984100, tr_acc-56.58%\n",
      "4,000c1dFalset10:97.27%:97.31% | 1,000c1dFalset10:59.29%:63.49%\n"
     ]
    },
    {
     "name": "stderr",
     "output_type": "stream",
     "text": [
      "\n",
      "epoch-31  lr=['0.0010000'], tr/val_loss:  0.289028/  0.257797, tr:  97.90%, val:  97.32%, val_best:  97.32%: 100%|██████████| 375/375 [01:17<00:00,  4.85it/s]"
     ]
    },
    {
     "name": "stdout",
     "output_type": "stream",
     "text": [
      "Domain loss,acc: 0.833772, 99.50% Target domain: tr_loss-3.012749, tr_acc-55.77%\n",
      "4,000c1dFalset10:97.32%:97.32% | 1,000c1dFalset10:60.09%:63.49%\n"
     ]
    },
    {
     "name": "stderr",
     "output_type": "stream",
     "text": [
      "\n",
      "epoch-32  lr=['0.0010000'], tr/val_loss:  0.287558/  0.253708, tr:  97.96%, val:  97.42%, val_best:  97.42%: 100%|██████████| 375/375 [01:17<00:00,  4.85it/s]"
     ]
    },
    {
     "name": "stdout",
     "output_type": "stream",
     "text": [
      "Domain loss,acc: 0.828596, 99.52% Target domain: tr_loss-2.992747, tr_acc-56.83%\n",
      "4,000c1dFalset10:97.42%:97.42% | 1,000c1dFalset10:62.03%:63.49%\n"
     ]
    },
    {
     "name": "stderr",
     "output_type": "stream",
     "text": [
      "\n",
      "epoch-33  lr=['0.0010000'], tr/val_loss:  0.285242/  0.252682, tr:  97.97%, val:  97.28%, val_best:  97.42%: 100%|██████████| 375/375 [01:17<00:00,  4.86it/s]"
     ]
    },
    {
     "name": "stdout",
     "output_type": "stream",
     "text": [
      "Domain loss,acc: 0.829817, 99.50% Target domain: tr_loss-3.008116, tr_acc-56.74%\n",
      "4,000c1dFalset10:97.28%:97.42% | 1,000c1dFalset10:61.65%:63.49%\n"
     ]
    },
    {
     "name": "stderr",
     "output_type": "stream",
     "text": [
      "\n",
      "epoch-34  lr=['0.0010000'], tr/val_loss:  0.282149/  0.255237, tr:  98.01%, val:  97.32%, val_best:  97.42%: 100%|██████████| 375/375 [01:18<00:00,  4.75it/s]"
     ]
    },
    {
     "name": "stdout",
     "output_type": "stream",
     "text": [
      "Domain loss,acc: 0.826518, 99.50% Target domain: tr_loss-3.003996, tr_acc-57.07%\n",
      "4,000c1dFalset10:97.32%:97.42% | 1,000c1dFalset10:62.59%:63.49%\n"
     ]
    },
    {
     "name": "stderr",
     "output_type": "stream",
     "text": [
      "\n",
      "epoch-35  lr=['0.0010000'], tr/val_loss:  0.280306/  0.252881, tr:  98.00%, val:  97.28%, val_best:  97.42%: 100%|██████████| 375/375 [01:16<00:00,  4.88it/s]"
     ]
    },
    {
     "name": "stdout",
     "output_type": "stream",
     "text": [
      "Domain loss,acc: 0.828878, 99.49% Target domain: tr_loss-3.023168, tr_acc-56.82%\n",
      "4,000c1dFalset10:97.28%:97.42% | 1,000c1dFalset10:62.41%:63.49%\n"
     ]
    },
    {
     "name": "stderr",
     "output_type": "stream",
     "text": [
      "\n",
      "epoch-36  lr=['0.0010000'], tr/val_loss:  0.278366/  0.248078, tr:  98.06%, val:  97.43%, val_best:  97.43%: 100%|██████████| 375/375 [01:18<00:00,  4.76it/s]"
     ]
    },
    {
     "name": "stdout",
     "output_type": "stream",
     "text": [
      "Domain loss,acc: 0.825689, 99.51% Target domain: tr_loss-3.014981, tr_acc-56.91%\n",
      "4,000c1dFalset10:97.43%:97.43% | 1,000c1dFalset10:58.76%:63.49%\n"
     ]
    },
    {
     "name": "stderr",
     "output_type": "stream",
     "text": [
      "\n",
      "epoch-37  lr=['0.0010000'], tr/val_loss:  0.275454/  0.247490, tr:  98.14%, val:  97.53%, val_best:  97.53%: 100%|██████████| 375/375 [01:18<00:00,  4.80it/s]"
     ]
    },
    {
     "name": "stdout",
     "output_type": "stream",
     "text": [
      "Domain loss,acc: 0.829096, 99.51% Target domain: tr_loss-3.043661, tr_acc-56.60%\n",
      "4,000c1dFalset10:97.53%:97.53% | 1,000c1dFalset10:64.59%:64.59%\n"
     ]
    },
    {
     "name": "stderr",
     "output_type": "stream",
     "text": [
      "\n",
      "epoch-38  lr=['0.0010000'], tr/val_loss:  0.273559/  0.249887, tr:  98.13%, val:  97.49%, val_best:  97.53%: 100%|██████████| 375/375 [01:16<00:00,  4.93it/s]"
     ]
    },
    {
     "name": "stdout",
     "output_type": "stream",
     "text": [
      "Domain loss,acc: 0.825059, 99.50% Target domain: tr_loss-3.031058, tr_acc-57.20%\n",
      "4,000c1dFalset10:97.49%:97.53% | 1,000c1dFalset10:62.21%:64.59%\n"
     ]
    },
    {
     "name": "stderr",
     "output_type": "stream",
     "text": [
      "\n",
      "epoch-39  lr=['0.0010000'], tr/val_loss:  0.272188/  0.247695, tr:  98.12%, val:  97.42%, val_best:  97.53%: 100%|██████████| 375/375 [01:24<00:00,  4.43it/s]"
     ]
    },
    {
     "name": "stdout",
     "output_type": "stream",
     "text": [
      "Domain loss,acc: 0.819894, 99.52% Target domain: tr_loss-3.010714, tr_acc-57.51%\n",
      "4,000c1dFalset10:97.42%:97.53% | 1,000c1dFalset10:57.42%:64.59%\n"
     ]
    },
    {
     "name": "stderr",
     "output_type": "stream",
     "text": [
      "\n",
      "epoch-40  lr=['0.0010000'], tr/val_loss:  0.270118/  0.245771, tr:  98.15%, val:  97.52%, val_best:  97.53%: 100%|██████████| 375/375 [01:19<00:00,  4.73it/s]"
     ]
    },
    {
     "name": "stdout",
     "output_type": "stream",
     "text": [
      "Domain loss,acc: 0.826718, 99.50% Target domain: tr_loss-3.053118, tr_acc-56.93%\n",
      "4,000c1dFalset10:97.52%:97.53% | 1,000c1dFalset10:61.72%:64.59%\n"
     ]
    },
    {
     "name": "stderr",
     "output_type": "stream",
     "text": [
      "\n",
      "epoch-41  lr=['0.0010000'], tr/val_loss:  0.267437/  0.245422, tr:  98.21%, val:  97.56%, val_best:  97.56%: 100%|██████████| 375/375 [01:19<00:00,  4.74it/s]"
     ]
    },
    {
     "name": "stdout",
     "output_type": "stream",
     "text": [
      "Domain loss,acc: 0.820184, 99.52% Target domain: tr_loss-3.031171, tr_acc-57.29%\n",
      "4,000c1dFalset10:97.56%:97.56% | 1,000c1dFalset10:61.08%:64.59%\n"
     ]
    },
    {
     "name": "stderr",
     "output_type": "stream",
     "text": [
      "\n",
      "epoch-42  lr=['0.0010000'], tr/val_loss:  0.267008/  0.243537, tr:  98.22%, val:  97.66%, val_best:  97.66%: 100%|██████████| 375/375 [01:17<00:00,  4.82it/s]"
     ]
    },
    {
     "name": "stdout",
     "output_type": "stream",
     "text": [
      "Domain loss,acc: 0.817505, 99.51% Target domain: tr_loss-3.019497, tr_acc-57.70%\n",
      "4,000c1dFalset10:97.66%:97.66% | 1,000c1dFalset10:64.66%:64.66%\n"
     ]
    },
    {
     "name": "stderr",
     "output_type": "stream",
     "text": [
      "\n",
      "epoch-43  lr=['0.0010000'], tr/val_loss:  0.264360/  0.246714, tr:  98.23%, val:  97.34%, val_best:  97.66%: 100%|██████████| 375/375 [01:18<00:00,  4.95s/it]"
     ]
    },
    {
     "name": "stdout",
     "output_type": "stream",
     "text": [
      "Domain loss,acc: 0.817858, 99.51% Target domain: tr_loss-3.031850, tr_acc-57.76%\n",
      "4,000c1dFalset10:97.34%:97.66% | 1,000c1dFalset10:62.31%:64.66%\n"
     ]
    },
    {
     "name": "stderr",
     "output_type": "stream",
     "text": [
      "epoch-43  lr=['0.0010000'], tr/val_loss:  0.264360/  0.246714, tr:  98.23%, val:  97.34%, val_best:  97.66%: 100%|██████████| 375/375 [01:18<00:00,  4.79it/s]\n",
      "epoch-44  lr=['0.0010000'], tr/val_loss:  0.263599/  0.245600, tr:  98.26%, val:  97.59%, val_best:  97.66%: 100%|██████████| 375/375 [01:17<00:00,  4.81it/s]"
     ]
    },
    {
     "name": "stdout",
     "output_type": "stream",
     "text": [
      "Domain loss,acc: 0.819135, 99.52% Target domain: tr_loss-3.041281, tr_acc-57.68%\n",
      "4,000c1dFalset10:97.59%:97.66% | 1,000c1dFalset10:61.70%:64.66%\n"
     ]
    },
    {
     "name": "stderr",
     "output_type": "stream",
     "text": [
      "\n",
      "epoch-45  lr=['0.0010000'], tr/val_loss:  0.261625/  0.243618, tr:  98.24%, val:  97.50%, val_best:  97.66%: 100%|██████████| 375/375 [01:19<00:00,  4.75it/s]"
     ]
    },
    {
     "name": "stdout",
     "output_type": "stream",
     "text": [
      "Domain loss,acc: 0.814233, 99.50% Target domain: tr_loss-3.024665, tr_acc-58.06%\n",
      "4,000c1dFalset10:97.50%:97.66% | 1,000c1dFalset10:60.08%:64.66%\n"
     ]
    },
    {
     "name": "stderr",
     "output_type": "stream",
     "text": [
      "\n",
      "epoch-46  lr=['0.0010000'], tr/val_loss:  0.259656/  0.243208, tr:  98.31%, val:  97.49%, val_best:  97.66%: 100%|██████████| 375/375 [01:19<00:00,  4.71it/s]"
     ]
    },
    {
     "name": "stdout",
     "output_type": "stream",
     "text": [
      "Domain loss,acc: 0.813526, 99.50% Target domain: tr_loss-3.029005, tr_acc-57.99%\n",
      "4,000c1dFalset10:97.49%:97.66% | 1,000c1dFalset10:64.60%:64.66%\n"
     ]
    },
    {
     "name": "stderr",
     "output_type": "stream",
     "text": [
      "\n",
      "epoch-47  lr=['0.0010000'], tr/val_loss:  0.258638/  0.242602, tr:  98.29%, val:  97.57%, val_best:  97.66%: 100%|██████████| 375/375 [01:15<00:00,  4.95it/s]"
     ]
    },
    {
     "name": "stdout",
     "output_type": "stream",
     "text": [
      "Domain loss,acc: 0.814432, 99.50% Target domain: tr_loss-3.037610, tr_acc-57.95%\n",
      "4,000c1dFalset10:97.57%:97.66% | 1,000c1dFalset10:62.99%:64.66%\n"
     ]
    },
    {
     "name": "stderr",
     "output_type": "stream",
     "text": [
      "\n",
      "epoch-48  lr=['0.0010000'], tr/val_loss:  0.256744/  0.240764, tr:  98.33%, val:  97.65%, val_best:  97.66%: 100%|██████████| 375/375 [01:17<00:00,  4.84it/s]"
     ]
    },
    {
     "name": "stdout",
     "output_type": "stream",
     "text": [
      "Domain loss,acc: 0.813570, 99.52% Target domain: tr_loss-3.040878, tr_acc-58.09%\n",
      "4,000c1dFalset10:97.65%:97.66% | 1,000c1dFalset10:62.34%:64.66%\n"
     ]
    },
    {
     "name": "stderr",
     "output_type": "stream",
     "text": [
      "\n",
      "epoch-49  lr=['0.0010000'], tr/val_loss:  0.255964/  0.241652, tr:  98.29%, val:  97.55%, val_best:  97.66%: 100%|██████████| 375/375 [01:17<00:00,  4.87it/s]"
     ]
    },
    {
     "name": "stdout",
     "output_type": "stream",
     "text": [
      "Domain loss,acc: 0.808870, 99.49% Target domain: tr_loss-3.020493, tr_acc-58.63%\n",
      "4,000c1dFalset10:97.55%:97.66% | 1,000c1dFalset10:61.60%:64.66%\n"
     ]
    },
    {
     "name": "stderr",
     "output_type": "stream",
     "text": [
      "\n",
      "epoch-50  lr=['0.0010000'], tr/val_loss:  0.253349/  0.242305, tr:  98.36%, val:  97.56%, val_best:  97.66%: 100%|██████████| 375/375 [01:17<00:00,  4.82it/s]"
     ]
    },
    {
     "name": "stdout",
     "output_type": "stream",
     "text": [
      "Domain loss,acc: 0.810614, 99.50% Target domain: tr_loss-3.039677, tr_acc-58.27%\n",
      "4,000c1dFalset10:97.56%:97.66% | 1,000c1dFalset10:61.72%:64.66%\n"
     ]
    },
    {
     "name": "stderr",
     "output_type": "stream",
     "text": [
      "\n",
      "epoch-51  lr=['0.0010000'], tr/val_loss:  0.252297/  0.240139, tr:  98.38%, val:  97.60%, val_best:  97.66%: 100%|██████████| 375/375 [01:17<00:00,  4.86it/s]"
     ]
    },
    {
     "name": "stdout",
     "output_type": "stream",
     "text": [
      "Domain loss,acc: 0.809772, 99.52% Target domain: tr_loss-3.039676, tr_acc-58.27%\n",
      "4,000c1dFalset10:97.60%:97.66% | 1,000c1dFalset10:63.10%:64.66%\n"
     ]
    },
    {
     "name": "stderr",
     "output_type": "stream",
     "text": [
      "\n",
      "epoch-52  lr=['0.0010000'], tr/val_loss:  0.251168/  0.239194, tr:  98.41%, val:  97.57%, val_best:  97.66%: 100%|██████████| 375/375 [01:19<00:00,  4.73it/s]"
     ]
    },
    {
     "name": "stdout",
     "output_type": "stream",
     "text": [
      "Domain loss,acc: 0.810772, 99.53% Target domain: tr_loss-3.049188, tr_acc-57.95%\n",
      "4,000c1dFalset10:97.57%:97.66% | 1,000c1dFalset10:63.13%:64.66%\n"
     ]
    },
    {
     "name": "stderr",
     "output_type": "stream",
     "text": [
      "\n",
      "epoch-53  lr=['0.0010000'], tr/val_loss:  0.249230/  0.239673, tr:  98.45%, val:  97.63%, val_best:  97.66%: 100%|██████████| 375/375 [01:17<00:00,  4.86it/s]"
     ]
    },
    {
     "name": "stdout",
     "output_type": "stream",
     "text": [
      "Domain loss,acc: 0.804402, 99.53% Target domain: tr_loss-3.025092, tr_acc-58.79%\n",
      "4,000c1dFalset10:97.63%:97.66% | 1,000c1dFalset10:61.22%:64.66%\n"
     ]
    },
    {
     "name": "stderr",
     "output_type": "stream",
     "text": [
      "\n",
      "epoch-54  lr=['0.0010000'], tr/val_loss:  0.247857/  0.239840, tr:  98.44%, val:  97.53%, val_best:  97.66%: 100%|██████████| 375/375 [01:18<00:00,  4.78it/s]"
     ]
    },
    {
     "name": "stdout",
     "output_type": "stream",
     "text": [
      "Domain loss,acc: 0.804530, 99.50% Target domain: tr_loss-3.031219, tr_acc-58.63%\n",
      "4,000c1dFalset10:97.53%:97.66% | 1,000c1dFalset10:62.76%:64.66%\n"
     ]
    },
    {
     "name": "stderr",
     "output_type": "stream",
     "text": [
      "\n",
      "epoch-55  lr=['0.0010000'], tr/val_loss:  0.247474/  0.239279, tr:  98.45%, val:  97.59%, val_best:  97.66%: 100%|██████████| 375/375 [01:17<00:00,  4.84it/s]"
     ]
    },
    {
     "name": "stdout",
     "output_type": "stream",
     "text": [
      "Domain loss,acc: 0.809220, 99.51% Target domain: tr_loss-3.056204, tr_acc-57.93%\n",
      "4,000c1dFalset10:97.59%:97.66% | 1,000c1dFalset10:60.81%:64.66%\n"
     ]
    },
    {
     "name": "stderr",
     "output_type": "stream",
     "text": [
      "\n",
      "epoch-56  lr=['0.0010000'], tr/val_loss:  0.245808/  0.238445, tr:  98.45%, val:  97.53%, val_best:  97.66%: 100%|██████████| 375/375 [01:18<00:00,  4.77it/s]"
     ]
    },
    {
     "name": "stdout",
     "output_type": "stream",
     "text": [
      "Domain loss,acc: 0.803384, 99.51% Target domain: tr_loss-3.033692, tr_acc-58.83%\n",
      "4,000c1dFalset10:97.53%:97.66% | 1,000c1dFalset10:61.33%:64.66%\n"
     ]
    },
    {
     "name": "stderr",
     "output_type": "stream",
     "text": [
      "\n",
      "epoch-57  lr=['0.0010000'], tr/val_loss:  0.244512/  0.237872, tr:  98.45%, val:  97.57%, val_best:  97.66%: 100%|██████████| 375/375 [01:17<00:00,  4.84it/s]"
     ]
    },
    {
     "name": "stdout",
     "output_type": "stream",
     "text": [
      "Domain loss,acc: 0.806484, 99.52% Target domain: tr_loss-3.054374, tr_acc-58.17%\n",
      "4,000c1dFalset10:97.57%:97.66% | 1,000c1dFalset10:63.76%:64.66%\n"
     ]
    },
    {
     "name": "stderr",
     "output_type": "stream",
     "text": [
      "\n",
      "epoch-58  lr=['0.0010000'], tr/val_loss:  0.243555/  0.241009, tr:  98.47%, val:  97.62%, val_best:  97.66%: 100%|██████████| 375/375 [01:18<00:00,  4.78it/s]"
     ]
    },
    {
     "name": "stdout",
     "output_type": "stream",
     "text": [
      "Domain loss,acc: 0.804258, 99.52% Target domain: tr_loss-3.047071, tr_acc-58.53%\n",
      "4,000c1dFalset10:97.62%:97.66% | 1,000c1dFalset10:64.10%:64.66%\n"
     ]
    },
    {
     "name": "stderr",
     "output_type": "stream",
     "text": [
      "\n",
      "epoch-59  lr=['0.0010000'], tr/val_loss:  0.242629/  0.237789, tr:  98.49%, val:  97.66%, val_best:  97.66%: 100%|██████████| 375/375 [01:18<00:00,  4.76it/s]"
     ]
    },
    {
     "name": "stdout",
     "output_type": "stream",
     "text": [
      "Domain loss,acc: 0.801803, 99.52% Target domain: tr_loss-3.038500, tr_acc-58.64%\n",
      "4,000c1dFalset10:97.66%:97.66% | 1,000c1dFalset10:63.91%:64.66%\n"
     ]
    },
    {
     "name": "stderr",
     "output_type": "stream",
     "text": [
      "\n",
      "epoch-60  lr=['0.0010000'], tr/val_loss:  0.241590/  0.239485, tr:  98.50%, val:  97.58%, val_best:  97.66%: 100%|██████████| 375/375 [01:17<00:00,  4.97s/it]"
     ]
    },
    {
     "name": "stdout",
     "output_type": "stream",
     "text": [
      "Domain loss,acc: 0.797762, 99.52% Target domain: tr_loss-3.022449, tr_acc-59.26%\n",
      "4,000c1dFalset10:97.58%:97.66% | 1,000c1dFalset10:64.23%:64.66%\n"
     ]
    },
    {
     "name": "stderr",
     "output_type": "stream",
     "text": [
      "epoch-60  lr=['0.0010000'], tr/val_loss:  0.241590/  0.239485, tr:  98.50%, val:  97.58%, val_best:  97.66%: 100%|██████████| 375/375 [01:17<00:00,  4.84it/s]\n",
      "epoch-61  lr=['0.0010000'], tr/val_loss:  0.240405/  0.236285, tr:  98.51%, val:  97.58%, val_best:  97.66%: 100%|██████████| 375/375 [01:17<00:00,  4.81it/s]"
     ]
    },
    {
     "name": "stdout",
     "output_type": "stream",
     "text": [
      "Domain loss,acc: 0.803557, 99.51% Target domain: tr_loss-3.056165, tr_acc-58.51%\n",
      "4,000c1dFalset10:97.58%:97.66% | 1,000c1dFalset10:62.85%:64.66%\n"
     ]
    },
    {
     "name": "stderr",
     "output_type": "stream",
     "text": [
      "\n",
      "epoch-62  lr=['0.0010000'], tr/val_loss:  0.238539/  0.239394, tr:  98.55%, val:  97.58%, val_best:  97.66%: 100%|██████████| 375/375 [01:22<00:00,  4.53it/s]"
     ]
    },
    {
     "name": "stdout",
     "output_type": "stream",
     "text": [
      "Domain loss,acc: 0.798781, 99.53% Target domain: tr_loss-3.039749, tr_acc-59.20%\n",
      "4,000c1dFalset10:97.58%:97.66% | 1,000c1dFalset10:63.54%:64.66%\n"
     ]
    },
    {
     "name": "stderr",
     "output_type": "stream",
     "text": [
      "\n",
      "epoch-63  lr=['0.0010000'], tr/val_loss:  0.238294/  0.239304, tr:  98.53%, val:  97.63%, val_best:  97.66%: 100%|██████████| 375/375 [01:18<00:00,  4.78it/s]"
     ]
    },
    {
     "name": "stdout",
     "output_type": "stream",
     "text": [
      "Domain loss,acc: 0.803317, 99.53% Target domain: tr_loss-3.063411, tr_acc-58.11%\n",
      "4,000c1dFalset10:97.63%:97.66% | 1,000c1dFalset10:64.94%:64.94%\n"
     ]
    },
    {
     "name": "stderr",
     "output_type": "stream",
     "text": [
      "\n",
      "epoch-64  lr=['0.0010000'], tr/val_loss:  0.236785/  0.243223, tr:  98.51%, val:  97.56%, val_best:  97.66%: 100%|██████████| 375/375 [01:18<00:00,  4.80it/s]"
     ]
    },
    {
     "name": "stdout",
     "output_type": "stream",
     "text": [
      "Domain loss,acc: 0.799837, 99.52% Target domain: tr_loss-3.052045, tr_acc-59.13%\n",
      "4,000c1dFalset10:97.56%:97.66% | 1,000c1dFalset10:59.61%:64.94%\n"
     ]
    },
    {
     "name": "stderr",
     "output_type": "stream",
     "text": [
      "\n",
      "epoch-65  lr=['0.0010000'], tr/val_loss:  0.236357/  0.238190, tr:  98.58%, val:  97.61%, val_best:  97.66%: 100%|██████████| 375/375 [01:17<00:00,  4.83it/s]"
     ]
    },
    {
     "name": "stdout",
     "output_type": "stream",
     "text": [
      "Domain loss,acc: 0.799738, 99.52% Target domain: tr_loss-3.053263, tr_acc-58.78%\n",
      "4,000c1dFalset10:97.61%:97.66% | 1,000c1dFalset10:64.61%:64.94%\n"
     ]
    },
    {
     "name": "stderr",
     "output_type": "stream",
     "text": [
      "\n",
      "epoch-66  lr=['0.0010000'], tr/val_loss:  0.235671/  0.240334, tr:  98.57%, val:  97.49%, val_best:  97.66%: 100%|██████████| 375/375 [01:16<00:00,  4.93it/s]"
     ]
    },
    {
     "name": "stdout",
     "output_type": "stream",
     "text": [
      "Domain loss,acc: 0.796814, 99.54% Target domain: tr_loss-3.041385, tr_acc-59.42%\n",
      "4,000c1dFalset10:97.49%:97.66% | 1,000c1dFalset10:65.03%:65.03%\n"
     ]
    },
    {
     "name": "stderr",
     "output_type": "stream",
     "text": [
      "\n",
      "epoch-67  lr=['0.0010000'], tr/val_loss:  0.234473/  0.240372, tr:  98.61%, val:  97.70%, val_best:  97.70%: 100%|██████████| 375/375 [01:17<00:00,  4.82it/s]"
     ]
    },
    {
     "name": "stdout",
     "output_type": "stream",
     "text": [
      "Domain loss,acc: 0.798112, 99.52% Target domain: tr_loss-3.052671, tr_acc-58.86%\n",
      "4,000c1dFalset10:97.70%:97.70% | 1,000c1dFalset10:65.15%:65.15%\n"
     ]
    },
    {
     "name": "stderr",
     "output_type": "stream",
     "text": [
      "\n",
      "epoch-68  lr=['0.0010000'], tr/val_loss:  0.232965/  0.239497, tr:  98.62%, val:  97.60%, val_best:  97.70%: 100%|██████████| 375/375 [01:18<00:00,  4.75it/s]"
     ]
    },
    {
     "name": "stdout",
     "output_type": "stream",
     "text": [
      "Domain loss,acc: 0.796897, 99.54% Target domain: tr_loss-3.052625, tr_acc-59.28%\n",
      "4,000c1dFalset10:97.60%:97.70% | 1,000c1dFalset10:59.99%:65.15%\n"
     ]
    },
    {
     "name": "stderr",
     "output_type": "stream",
     "text": [
      "\n",
      "epoch-69  lr=['0.0010000'], tr/val_loss:  0.233012/  0.237925, tr:  98.64%, val:  97.68%, val_best:  97.70%: 100%|██████████| 375/375 [01:17<00:00,  4.82it/s]"
     ]
    },
    {
     "name": "stdout",
     "output_type": "stream",
     "text": [
      "Domain loss,acc: 0.798434, 99.53% Target domain: tr_loss-3.060125, tr_acc-58.96%\n",
      "4,000c1dFalset10:97.68%:97.70% | 1,000c1dFalset10:63.32%:65.15%\n"
     ]
    },
    {
     "name": "stderr",
     "output_type": "stream",
     "text": [
      "\n",
      "epoch-70  lr=['0.0010000'], tr/val_loss:  0.232103/  0.236044, tr:  98.60%, val:  97.79%, val_best:  97.79%: 100%|██████████| 375/375 [01:18<00:00,  4.79it/s]"
     ]
    },
    {
     "name": "stdout",
     "output_type": "stream",
     "text": [
      "Domain loss,acc: 0.795636, 99.53% Target domain: tr_loss-3.049768, tr_acc-59.48%\n",
      "4,000c1dFalset10:97.79%:97.79% | 1,000c1dFalset10:62.79%:65.15%\n"
     ]
    },
    {
     "name": "stderr",
     "output_type": "stream",
     "text": [
      "\n",
      "epoch-71  lr=['0.0010000'], tr/val_loss:  0.229763/  0.238076, tr:  98.61%, val:  97.55%, val_best:  97.79%: 100%|██████████| 375/375 [01:19<00:00,  4.74it/s]"
     ]
    },
    {
     "name": "stdout",
     "output_type": "stream",
     "text": [
      "Domain loss,acc: 0.794506, 99.52% Target domain: tr_loss-3.053477, tr_acc-59.07%\n",
      "4,000c1dFalset10:97.55%:97.79% | 1,000c1dFalset10:60.55%:65.15%\n"
     ]
    },
    {
     "name": "stderr",
     "output_type": "stream",
     "text": [
      "\n",
      "epoch-72  lr=['0.0010000'], tr/val_loss:  0.229551/  0.237848, tr:  98.63%, val:  97.81%, val_best:  97.81%: 100%|██████████| 375/375 [01:18<00:00,  4.80it/s]"
     ]
    },
    {
     "name": "stdout",
     "output_type": "stream",
     "text": [
      "Domain loss,acc: 0.794263, 99.52% Target domain: tr_loss-3.053113, tr_acc-59.31%\n",
      "4,000c1dFalset10:97.81%:97.81% | 1,000c1dFalset10:62.98%:65.15%\n"
     ]
    },
    {
     "name": "stderr",
     "output_type": "stream",
     "text": [
      "\n",
      "epoch-73  lr=['0.0010000'], tr/val_loss:  0.229049/  0.238111, tr:  98.64%, val:  97.63%, val_best:  97.81%: 100%|██████████| 375/375 [01:18<00:00,  4.75it/s]"
     ]
    },
    {
     "name": "stdout",
     "output_type": "stream",
     "text": [
      "Domain loss,acc: 0.795176, 99.52% Target domain: tr_loss-3.059685, tr_acc-59.27%\n",
      "4,000c1dFalset10:97.63%:97.81% | 1,000c1dFalset10:61.58%:65.15%\n"
     ]
    },
    {
     "name": "stderr",
     "output_type": "stream",
     "text": [
      "\n",
      "epoch-74  lr=['0.0010000'], tr/val_loss:  0.227248/  0.240695, tr:  98.66%, val:  97.68%, val_best:  97.81%: 100%|██████████| 375/375 [01:17<00:00,  4.85it/s]"
     ]
    },
    {
     "name": "stdout",
     "output_type": "stream",
     "text": [
      "Domain loss,acc: 0.795590, 99.53% Target domain: tr_loss-3.068959, tr_acc-59.16%\n",
      "4,000c1dFalset10:97.68%:97.81% | 1,000c1dFalset10:64.28%:65.15%\n"
     ]
    },
    {
     "name": "stderr",
     "output_type": "stream",
     "text": [
      "\n",
      "epoch-75  lr=['0.0010000'], tr/val_loss:  0.226712/  0.238700, tr:  98.63%, val:  97.62%, val_best:  97.81%: 100%|██████████| 375/375 [01:17<00:00,  4.84it/s]"
     ]
    },
    {
     "name": "stdout",
     "output_type": "stream",
     "text": [
      "Domain loss,acc: 0.793399, 99.53% Target domain: tr_loss-3.060151, tr_acc-59.72%\n",
      "4,000c1dFalset10:97.62%:97.81% | 1,000c1dFalset10:62.56%:65.15%\n"
     ]
    },
    {
     "name": "stderr",
     "output_type": "stream",
     "text": [
      "\n",
      "epoch-76  lr=['0.0010000'], tr/val_loss:  0.225963/  0.237287, tr:  98.67%, val:  97.78%, val_best:  97.81%: 100%|██████████| 375/375 [01:17<00:00,  4.84it/s]"
     ]
    },
    {
     "name": "stdout",
     "output_type": "stream",
     "text": [
      "Domain loss,acc: 0.791631, 99.53% Target domain: tr_loss-3.054304, tr_acc-59.47%\n",
      "4,000c1dFalset10:97.78%:97.81% | 1,000c1dFalset10:65.03%:65.15%\n"
     ]
    },
    {
     "name": "stderr",
     "output_type": "stream",
     "text": [
      "\n",
      "epoch-77  lr=['0.0010000'], tr/val_loss:  0.224728/  0.237951, tr:  98.66%, val:  97.69%, val_best:  97.81%: 100%|██████████| 375/375 [01:18<00:00,  4.76it/s]"
     ]
    },
    {
     "name": "stdout",
     "output_type": "stream",
     "text": [
      "Domain loss,acc: 0.791758, 99.55% Target domain: tr_loss-3.059876, tr_acc-60.23%\n",
      "4,000c1dFalset10:97.69%:97.81% | 1,000c1dFalset10:62.25%:65.15%\n"
     ]
    },
    {
     "name": "stderr",
     "output_type": "stream",
     "text": [
      "\n",
      "epoch-78  lr=['0.0010000'], tr/val_loss:  0.223860/  0.237142, tr:  98.67%, val:  97.84%, val_best:  97.84%: 100%|██████████| 375/375 [01:18<00:00,  4.79it/s]"
     ]
    },
    {
     "name": "stdout",
     "output_type": "stream",
     "text": [
      "Domain loss,acc: 0.787744, 99.52% Target domain: tr_loss-3.043282, tr_acc-59.98%\n",
      "4,000c1dFalset10:97.84%:97.84% | 1,000c1dFalset10:63.41%:65.15%\n"
     ]
    },
    {
     "name": "stderr",
     "output_type": "stream",
     "text": [
      "\n",
      "epoch-79  lr=['0.0010000'], tr/val_loss:  0.223351/  0.237049, tr:  98.68%, val:  97.69%, val_best:  97.84%: 100%|██████████| 375/375 [01:19<00:00,  4.72it/s]"
     ]
    },
    {
     "name": "stdout",
     "output_type": "stream",
     "text": [
      "Domain loss,acc: 0.788003, 99.54% Target domain: tr_loss-3.046613, tr_acc-60.35%\n",
      "4,000c1dFalset10:97.69%:97.84% | 1,000c1dFalset10:62.21%:65.15%\n"
     ]
    },
    {
     "name": "stderr",
     "output_type": "stream",
     "text": [
      "\n",
      "epoch-80  lr=['0.0010000'], tr/val_loss:  0.221812/  0.236525, tr:  98.73%, val:  97.69%, val_best:  97.84%: 100%|██████████| 375/375 [01:18<00:00,  4.75it/s]"
     ]
    },
    {
     "name": "stdout",
     "output_type": "stream",
     "text": [
      "Domain loss,acc: 0.789637, 99.53% Target domain: tr_loss-3.060939, tr_acc-59.67%\n",
      "4,000c1dFalset10:97.69%:97.84% | 1,000c1dFalset10:63.59%:65.15%\n"
     ]
    },
    {
     "name": "stderr",
     "output_type": "stream",
     "text": [
      "\n",
      "epoch-81  lr=['0.0010000'], tr/val_loss:  0.221871/  0.238151, tr:  98.71%, val:  97.83%, val_best:  97.84%: 100%|██████████| 375/375 [01:18<00:00,  4.79it/s]"
     ]
    },
    {
     "name": "stdout",
     "output_type": "stream",
     "text": [
      "Domain loss,acc: 0.783887, 99.56% Target domain: tr_loss-3.031950, tr_acc-60.62%\n",
      "4,000c1dFalset10:97.83%:97.84% | 1,000c1dFalset10:63.74%:65.15%\n"
     ]
    },
    {
     "name": "stderr",
     "output_type": "stream",
     "text": [
      "\n",
      "epoch-82  lr=['0.0010000'], tr/val_loss:  0.221044/  0.237874, tr:  98.70%, val:  97.74%, val_best:  97.84%: 100%|██████████| 375/375 [01:19<00:00,  4.74it/s]"
     ]
    },
    {
     "name": "stdout",
     "output_type": "stream",
     "text": [
      "Domain loss,acc: 0.785353, 99.53% Target domain: tr_loss-3.042593, tr_acc-60.44%\n",
      "4,000c1dFalset10:97.74%:97.84% | 1,000c1dFalset10:64.99%:65.15%\n"
     ]
    },
    {
     "name": "stderr",
     "output_type": "stream",
     "text": [
      "\n",
      "epoch-83  lr=['0.0010000'], tr/val_loss:  0.219974/  0.239251, tr:  98.73%, val:  97.88%, val_best:  97.88%: 100%|██████████| 375/375 [01:18<00:00,  4.78it/s]"
     ]
    },
    {
     "name": "stdout",
     "output_type": "stream",
     "text": [
      "Domain loss,acc: 0.785505, 99.53% Target domain: tr_loss-3.047632, tr_acc-60.26%\n",
      "4,000c1dFalset10:97.88%:97.88% | 1,000c1dFalset10:63.12%:65.15%\n"
     ]
    },
    {
     "name": "stderr",
     "output_type": "stream",
     "text": [
      "\n",
      "epoch-84  lr=['0.0010000'], tr/val_loss:  0.219158/  0.236357, tr:  98.77%, val:  97.79%, val_best:  97.88%: 100%|██████████| 375/375 [01:18<00:00,  4.79it/s]"
     ]
    },
    {
     "name": "stdout",
     "output_type": "stream",
     "text": [
      "Domain loss,acc: 0.788949, 99.54% Target domain: tr_loss-3.068116, tr_acc-60.12%\n",
      "4,000c1dFalset10:97.79%:97.88% | 1,000c1dFalset10:65.96%:65.96%\n"
     ]
    },
    {
     "name": "stderr",
     "output_type": "stream",
     "text": [
      "\n",
      "epoch-85  lr=['0.0010000'], tr/val_loss:  0.218126/  0.237417, tr:  98.74%, val:  97.69%, val_best:  97.88%: 100%|██████████| 375/375 [01:17<00:00,  4.85it/s]"
     ]
    },
    {
     "name": "stdout",
     "output_type": "stream",
     "text": [
      "Domain loss,acc: 0.780478, 99.56% Target domain: tr_loss-3.029885, tr_acc-60.98%\n",
      "4,000c1dFalset10:97.69%:97.88% | 1,000c1dFalset10:61.67%:65.96%\n"
     ]
    },
    {
     "name": "stderr",
     "output_type": "stream",
     "text": [
      "\n",
      "epoch-86  lr=['0.0010000'], tr/val_loss:  0.217849/  0.236207, tr:  98.71%, val:  97.78%, val_best:  97.88%: 100%|██████████| 375/375 [01:20<00:00,  4.68it/s]"
     ]
    },
    {
     "name": "stdout",
     "output_type": "stream",
     "text": [
      "Domain loss,acc: 0.785090, 99.54% Target domain: tr_loss-3.054055, tr_acc-60.38%\n",
      "4,000c1dFalset10:97.78%:97.88% | 1,000c1dFalset10:64.26%:65.96%\n"
     ]
    },
    {
     "name": "stderr",
     "output_type": "stream",
     "text": [
      "\n",
      "epoch-87  lr=['0.0010000'], tr/val_loss:  0.216971/  0.236897, tr:  98.77%, val:  97.73%, val_best:  97.88%: 100%|██████████| 375/375 [01:17<00:00,  4.83it/s]"
     ]
    },
    {
     "name": "stdout",
     "output_type": "stream",
     "text": [
      "Domain loss,acc: 0.781602, 99.54% Target domain: tr_loss-3.040127, tr_acc-60.88%\n",
      "4,000c1dFalset10:97.73%:97.88% | 1,000c1dFalset10:63.17%:65.96%\n"
     ]
    },
    {
     "name": "stderr",
     "output_type": "stream",
     "text": [
      "\n",
      "epoch-88  lr=['0.0010000'], tr/val_loss:  0.216880/  0.235671, tr:  98.78%, val:  97.79%, val_best:  97.88%: 100%|██████████| 375/375 [01:18<00:00,  4.76it/s]"
     ]
    },
    {
     "name": "stdout",
     "output_type": "stream",
     "text": [
      "Domain loss,acc: 0.783515, 99.56% Target domain: tr_loss-3.050053, tr_acc-60.78%\n",
      "4,000c1dFalset10:97.79%:97.88% | 1,000c1dFalset10:62.88%:65.96%\n"
     ]
    },
    {
     "name": "stderr",
     "output_type": "stream",
     "text": [
      "\n",
      "epoch-89  lr=['0.0010000'], tr/val_loss:  0.215838/  0.234561, tr:  98.79%, val:  97.86%, val_best:  97.88%: 100%|██████████| 375/375 [01:18<00:00,  4.79it/s]"
     ]
    },
    {
     "name": "stdout",
     "output_type": "stream",
     "text": [
      "Domain loss,acc: 0.780378, 99.55% Target domain: tr_loss-3.038540, tr_acc-61.08%\n",
      "4,000c1dFalset10:97.86%:97.88% | 1,000c1dFalset10:62.89%:65.96%\n"
     ]
    },
    {
     "name": "stderr",
     "output_type": "stream",
     "text": [
      "\n",
      "epoch-90  lr=['0.0010000'], tr/val_loss:  0.215996/  0.236668, tr:  98.82%, val:  97.83%, val_best:  97.88%: 100%|██████████| 375/375 [01:17<00:00,  4.84it/s]"
     ]
    },
    {
     "name": "stdout",
     "output_type": "stream",
     "text": [
      "Domain loss,acc: 0.783342, 99.53% Target domain: tr_loss-3.052727, tr_acc-60.74%\n",
      "4,000c1dFalset10:97.83%:97.88% | 1,000c1dFalset10:60.64%:65.96%\n"
     ]
    },
    {
     "name": "stderr",
     "output_type": "stream",
     "text": [
      "\n",
      "epoch-91  lr=['0.0010000'], tr/val_loss:  0.214474/  0.236238, tr:  98.80%, val:  97.85%, val_best:  97.88%: 100%|██████████| 375/375 [01:19<00:00,  4.73it/s]"
     ]
    },
    {
     "name": "stdout",
     "output_type": "stream",
     "text": [
      "Domain loss,acc: 0.778428, 99.55% Target domain: tr_loss-3.034242, tr_acc-61.22%\n",
      "4,000c1dFalset10:97.85%:97.88% | 1,000c1dFalset10:65.65%:65.96%\n"
     ]
    },
    {
     "name": "stderr",
     "output_type": "stream",
     "text": [
      "\n",
      "epoch-92  lr=['0.0010000'], tr/val_loss:  0.214935/  0.238830, tr:  98.81%, val:  97.79%, val_best:  97.88%: 100%|██████████| 375/375 [01:18<00:00,  4.80it/s]"
     ]
    },
    {
     "name": "stdout",
     "output_type": "stream",
     "text": [
      "Domain loss,acc: 0.779627, 99.52% Target domain: tr_loss-3.038391, tr_acc-61.18%\n",
      "4,000c1dFalset10:97.79%:97.88% | 1,000c1dFalset10:62.95%:65.96%\n"
     ]
    },
    {
     "name": "stderr",
     "output_type": "stream",
     "text": [
      "\n",
      "epoch-93  lr=['0.0010000'], tr/val_loss:  0.214405/  0.236363, tr:  98.79%, val:  97.88%, val_best:  97.88%: 100%|██████████| 375/375 [01:16<00:00,  4.89it/s]"
     ]
    },
    {
     "name": "stdout",
     "output_type": "stream",
     "text": [
      "Domain loss,acc: 0.780847, 99.56% Target domain: tr_loss-3.046615, tr_acc-60.72%\n",
      "4,000c1dFalset10:97.88%:97.88% | 1,000c1dFalset10:62.54%:65.96%\n"
     ]
    },
    {
     "name": "stderr",
     "output_type": "stream",
     "text": [
      "\n",
      "epoch-94  lr=['0.0010000'], tr/val_loss:  0.212516/  0.235599, tr:  98.84%, val:  97.72%, val_best:  97.88%: 100%|██████████| 375/375 [01:17<00:00,  4.83it/s]"
     ]
    },
    {
     "name": "stdout",
     "output_type": "stream",
     "text": [
      "Domain loss,acc: 0.777662, 99.53% Target domain: tr_loss-3.038244, tr_acc-60.84%\n",
      "4,000c1dFalset10:97.72%:97.88% | 1,000c1dFalset10:64.43%:65.96%\n"
     ]
    },
    {
     "name": "stderr",
     "output_type": "stream",
     "text": [
      "\n",
      "epoch-95  lr=['0.0010000'], tr/val_loss:  0.212765/  0.235001, tr:  98.82%, val:  97.86%, val_best:  97.88%: 100%|██████████| 375/375 [01:18<00:00,  4.78it/s]"
     ]
    },
    {
     "name": "stdout",
     "output_type": "stream",
     "text": [
      "Domain loss,acc: 0.777273, 99.56% Target domain: tr_loss-3.035305, tr_acc-61.22%\n",
      "4,000c1dFalset10:97.86%:97.88% | 1,000c1dFalset10:64.70%:65.96%\n"
     ]
    },
    {
     "name": "stderr",
     "output_type": "stream",
     "text": [
      "\n",
      "epoch-96  lr=['0.0010000'], tr/val_loss:  0.212418/  0.235919, tr:  98.84%, val:  97.83%, val_best:  97.88%: 100%|██████████| 375/375 [01:16<00:00,  4.88it/s]"
     ]
    },
    {
     "name": "stdout",
     "output_type": "stream",
     "text": [
      "Domain loss,acc: 0.775963, 99.55% Target domain: tr_loss-3.030148, tr_acc-61.23%\n",
      "4,000c1dFalset10:97.83%:97.88% | 1,000c1dFalset10:64.78%:65.96%\n"
     ]
    },
    {
     "name": "stderr",
     "output_type": "stream",
     "text": [
      "\n",
      "epoch-97  lr=['0.0010000'], tr/val_loss:  0.211445/  0.237410, tr:  98.80%, val:  97.80%, val_best:  97.88%: 100%|██████████| 375/375 [01:18<00:00,  4.75it/s]"
     ]
    },
    {
     "name": "stdout",
     "output_type": "stream",
     "text": [
      "Domain loss,acc: 0.776377, 99.55% Target domain: tr_loss-3.036106, tr_acc-61.38%\n",
      "4,000c1dFalset10:97.80%:97.88% | 1,000c1dFalset10:65.51%:65.96%\n"
     ]
    },
    {
     "name": "stderr",
     "output_type": "stream",
     "text": [
      "\n",
      "epoch-98  lr=['0.0010000'], tr/val_loss:  0.210555/  0.236473, tr:  98.83%, val:  97.75%, val_best:  97.88%: 100%|██████████| 375/375 [01:18<00:00,  4.79it/s]"
     ]
    },
    {
     "name": "stdout",
     "output_type": "stream",
     "text": [
      "Domain loss,acc: 0.775503, 99.58% Target domain: tr_loss-3.035296, tr_acc-61.35%\n",
      "4,000c1dFalset10:97.75%:97.88% | 1,000c1dFalset10:66.62%:66.62%\n"
     ]
    },
    {
     "name": "stderr",
     "output_type": "stream",
     "text": [
      "\n",
      "epoch-99  lr=['0.0010000'], tr/val_loss:  0.210365/  0.235628, tr:  98.83%, val:  97.84%, val_best:  97.88%: 100%|██████████| 375/375 [01:18<00:00,  4.79it/s]"
     ]
    },
    {
     "name": "stdout",
     "output_type": "stream",
     "text": [
      "Domain loss,acc: 0.772465, 99.56% Target domain: tr_loss-3.020869, tr_acc-61.49%\n",
      "4,000c1dFalset10:97.84%:97.88% | 1,000c1dFalset10:65.92%:66.62%\n"
     ]
    },
    {
     "name": "stderr",
     "output_type": "stream",
     "text": [
      "\n",
      "epoch-100 lr=['0.0010000'], tr/val_loss:  0.209529/  0.237260, tr:  98.85%, val:  97.89%, val_best:  97.89%: 100%|██████████| 375/375 [01:19<00:00,  4.74it/s]"
     ]
    },
    {
     "name": "stdout",
     "output_type": "stream",
     "text": [
      "Domain loss,acc: 0.770806, 99.58% Target domain: tr_loss-3.015913, tr_acc-61.59%\n",
      "4,000c1dFalset10:97.89%:97.89% | 1,000c1dFalset10:63.78%:66.62%\n"
     ]
    },
    {
     "name": "stderr",
     "output_type": "stream",
     "text": [
      "\n",
      "epoch-101 lr=['0.0010000'], tr/val_loss:  0.209112/  0.237593, tr:  98.84%, val:  97.78%, val_best:  97.89%: 100%|██████████| 375/375 [01:18<00:00,  4.78it/s]"
     ]
    },
    {
     "name": "stdout",
     "output_type": "stream",
     "text": [
      "Domain loss,acc: 0.773664, 99.57% Target domain: tr_loss-3.031870, tr_acc-61.68%\n",
      "4,000c1dFalset10:97.78%:97.89% | 1,000c1dFalset10:67.48%:67.48%\n"
     ]
    },
    {
     "name": "stderr",
     "output_type": "stream",
     "text": [
      "\n",
      "epoch-102 lr=['0.0010000'], tr/val_loss:  0.208433/  0.239079, tr:  98.86%, val:  97.85%, val_best:  97.89%: 100%|██████████| 375/375 [01:18<00:00,  4.80it/s]"
     ]
    },
    {
     "name": "stdout",
     "output_type": "stream",
     "text": [
      "Domain loss,acc: 0.774321, 99.58% Target domain: tr_loss-3.037874, tr_acc-61.53%\n",
      "4,000c1dFalset10:97.85%:97.89% | 1,000c1dFalset10:68.30%:68.30%\n"
     ]
    },
    {
     "name": "stderr",
     "output_type": "stream",
     "text": [
      "\n",
      "epoch-103 lr=['0.0010000'], tr/val_loss:  0.207482/  0.238875, tr:  98.86%, val:  97.83%, val_best:  97.89%: 100%|██████████| 375/375 [01:17<00:00,  4.84it/s]"
     ]
    },
    {
     "name": "stdout",
     "output_type": "stream",
     "text": [
      "Domain loss,acc: 0.771304, 99.57% Target domain: tr_loss-3.026595, tr_acc-62.08%\n",
      "4,000c1dFalset10:97.83%:97.89% | 1,000c1dFalset10:67.70%:68.30%\n"
     ]
    },
    {
     "name": "stderr",
     "output_type": "stream",
     "text": [
      "\n",
      "epoch-104 lr=['0.0010000'], tr/val_loss:  0.207383/  0.238080, tr:  98.90%, val:  97.88%, val_best:  97.89%: 100%|██████████| 375/375 [01:19<00:00,  4.92s/it]"
     ]
    },
    {
     "name": "stdout",
     "output_type": "stream",
     "text": [
      "Domain loss,acc: 0.770070, 99.57% Target domain: tr_loss-3.020822, tr_acc-62.08%\n",
      "4,000c1dFalset10:97.88%:97.89% | 1,000c1dFalset10:65.21%:68.30%\n"
     ]
    },
    {
     "name": "stderr",
     "output_type": "stream",
     "text": [
      "epoch-104 lr=['0.0010000'], tr/val_loss:  0.207383/  0.238080, tr:  98.90%, val:  97.88%, val_best:  97.89%: 100%|██████████| 375/375 [01:19<00:00,  4.72it/s]\n",
      "epoch-105 lr=['0.0010000'], tr/val_loss:  0.206655/  0.237133, tr:  98.86%, val:  97.76%, val_best:  97.89%: 100%|██████████| 375/375 [01:19<00:00,  4.74it/s]"
     ]
    },
    {
     "name": "stdout",
     "output_type": "stream",
     "text": [
      "Domain loss,acc: 0.771604, 99.53% Target domain: tr_loss-3.031401, tr_acc-61.82%\n",
      "4,000c1dFalset10:97.76%:97.89% | 1,000c1dFalset10:65.26%:68.30%\n"
     ]
    },
    {
     "name": "stderr",
     "output_type": "stream",
     "text": [
      "\n",
      "epoch-106 lr=['0.0010000'], tr/val_loss:  0.207018/  0.236791, tr:  98.86%, val:  97.92%, val_best:  97.92%: 100%|██████████| 375/375 [01:18<00:00,  4.75it/s]"
     ]
    },
    {
     "name": "stdout",
     "output_type": "stream",
     "text": [
      "Domain loss,acc: 0.772338, 99.56% Target domain: tr_loss-3.033616, tr_acc-61.82%\n",
      "4,000c1dFalset10:97.92%:97.92% | 1,000c1dFalset10:67.38%:68.30%\n"
     ]
    },
    {
     "name": "stderr",
     "output_type": "stream",
     "text": [
      "\n",
      "epoch-107 lr=['0.0010000'], tr/val_loss:  0.205962/  0.237144, tr:  98.91%, val:  97.84%, val_best:  97.92%: 100%|██████████| 375/375 [01:19<00:00,  4.73it/s]"
     ]
    },
    {
     "name": "stdout",
     "output_type": "stream",
     "text": [
      "Domain loss,acc: 0.770460, 99.56% Target domain: tr_loss-3.028449, tr_acc-61.86%\n",
      "4,000c1dFalset10:97.84%:97.92% | 1,000c1dFalset10:65.26%:68.30%\n"
     ]
    },
    {
     "name": "stderr",
     "output_type": "stream",
     "text": [
      "\n",
      "epoch-108 lr=['0.0010000'], tr/val_loss:  0.204909/  0.239202, tr:  98.93%, val:  97.93%, val_best:  97.93%: 100%|██████████| 375/375 [01:19<00:00,  4.74it/s]"
     ]
    },
    {
     "name": "stdout",
     "output_type": "stream",
     "text": [
      "Domain loss,acc: 0.769633, 99.57% Target domain: tr_loss-3.028531, tr_acc-61.91%\n",
      "4,000c1dFalset10:97.93%:97.93% | 1,000c1dFalset10:64.11%:68.30%\n"
     ]
    },
    {
     "name": "stderr",
     "output_type": "stream",
     "text": [
      "\n",
      "epoch-109 lr=['0.0010000'], tr/val_loss:  0.204645/  0.235337, tr:  98.91%, val:  97.79%, val_best:  97.93%: 100%|██████████| 375/375 [01:19<00:00,  5.00s/it]"
     ]
    },
    {
     "name": "stdout",
     "output_type": "stream",
     "text": [
      "Domain loss,acc: 0.771942, 99.56% Target domain: tr_loss-3.041129, tr_acc-61.78%\n",
      "4,000c1dFalset10:97.79%:97.93% | 1,000c1dFalset10:64.13%:68.30%\n"
     ]
    },
    {
     "name": "stderr",
     "output_type": "stream",
     "text": [
      "epoch-109 lr=['0.0010000'], tr/val_loss:  0.204645/  0.235337, tr:  98.91%, val:  97.79%, val_best:  97.93%: 100%|██████████| 375/375 [01:19<00:00,  4.71it/s]\n",
      "epoch-110 lr=['0.0010000'], tr/val_loss:  0.203995/  0.235805, tr:  98.91%, val:  97.82%, val_best:  97.93%: 100%|██████████| 375/375 [01:18<00:00,  4.79it/s]"
     ]
    },
    {
     "name": "stdout",
     "output_type": "stream",
     "text": [
      "Domain loss,acc: 0.773193, 99.56% Target domain: tr_loss-3.049984, tr_acc-61.88%\n",
      "4,000c1dFalset10:97.82%:97.93% | 1,000c1dFalset10:66.76%:68.30%\n"
     ]
    },
    {
     "name": "stderr",
     "output_type": "stream",
     "text": [
      "\n",
      "epoch-111 lr=['0.0010000'], tr/val_loss:  0.204540/  0.235583, tr:  98.92%, val:  97.90%, val_best:  97.93%: 100%|██████████| 375/375 [01:18<00:00,  4.78it/s]"
     ]
    },
    {
     "name": "stdout",
     "output_type": "stream",
     "text": [
      "Domain loss,acc: 0.771335, 99.55% Target domain: tr_loss-3.038517, tr_acc-61.72%\n",
      "4,000c1dFalset10:97.90%:97.93% | 1,000c1dFalset10:66.51%:68.30%\n"
     ]
    },
    {
     "name": "stderr",
     "output_type": "stream",
     "text": [
      "\n",
      "epoch-112 lr=['0.0010000'], tr/val_loss:  0.202727/  0.233693, tr:  98.92%, val:  97.92%, val_best:  97.93%: 100%|██████████| 375/375 [01:16<00:00,  4.88it/s]"
     ]
    },
    {
     "name": "stdout",
     "output_type": "stream",
     "text": [
      "Domain loss,acc: 0.770921, 99.58% Target domain: tr_loss-3.043694, tr_acc-61.99%\n",
      "4,000c1dFalset10:97.92%:97.93% | 1,000c1dFalset10:65.20%:68.30%\n"
     ]
    },
    {
     "name": "stderr",
     "output_type": "stream",
     "text": [
      "\n",
      "epoch-113 lr=['0.0010000'], tr/val_loss:  0.201994/  0.238048, tr:  98.92%, val:  97.76%, val_best:  97.93%: 100%|█████████▉| 374/375 [01:21<00:00,  7.50it/s]"
     ]
    },
    {
     "name": "stdout",
     "output_type": "stream",
     "text": [
      "Domain loss,acc: 0.769668, 99.58% Target domain: tr_loss-3.040362, tr_acc-61.82%\n",
      "4,000c1dFalset10:97.76%:97.93% | 1,000c1dFalset10:65.63%:68.30%\n"
     ]
    },
    {
     "name": "stderr",
     "output_type": "stream",
     "text": [
      "epoch-113 lr=['0.0010000'], tr/val_loss:  0.201994/  0.238048, tr:  98.92%, val:  97.76%, val_best:  97.93%: 100%|██████████| 375/375 [01:21<00:00,  4.58it/s]\n",
      "epoch-114 lr=['0.0010000'], tr/val_loss:  0.202190/  0.237038, tr:  98.92%, val:  97.96%, val_best:  97.96%: 100%|██████████| 375/375 [01:20<00:00,  4.68it/s]"
     ]
    },
    {
     "name": "stdout",
     "output_type": "stream",
     "text": [
      "Domain loss,acc: 0.764675, 99.56% Target domain: tr_loss-3.014613, tr_acc-62.52%\n",
      "4,000c1dFalset10:97.96%:97.96% | 1,000c1dFalset10:61.15%:68.30%\n"
     ]
    },
    {
     "name": "stderr",
     "output_type": "stream",
     "text": [
      "\n",
      "epoch-115 lr=['0.0010000'], tr/val_loss:  0.201255/  0.241410, tr:  98.98%, val:  97.81%, val_best:  97.96%: 100%|██████████| 375/375 [01:43<00:00,  3.63it/s]"
     ]
    },
    {
     "name": "stdout",
     "output_type": "stream",
     "text": [
      "Domain loss,acc: 0.771964, 99.55% Target domain: tr_loss-3.054800, tr_acc-61.61%\n",
      "4,000c1dFalset10:97.81%:97.96% | 1,000c1dFalset10:65.17%:68.30%\n"
     ]
    },
    {
     "name": "stderr",
     "output_type": "stream",
     "text": [
      "\n",
      "epoch-116 lr=['0.0010000'], tr/val_loss:  0.201161/  0.237035, tr:  98.93%, val:  97.80%, val_best:  97.96%: 100%|██████████| 375/375 [01:18<00:00,  4.80it/s]"
     ]
    },
    {
     "name": "stdout",
     "output_type": "stream",
     "text": [
      "Domain loss,acc: 0.767449, 99.55% Target domain: tr_loss-3.032598, tr_acc-61.97%\n",
      "4,000c1dFalset10:97.80%:97.96% | 1,000c1dFalset10:64.29%:68.30%\n"
     ]
    },
    {
     "name": "stderr",
     "output_type": "stream",
     "text": [
      "\n",
      "epoch-117 lr=['0.0010000'], tr/val_loss:  0.199958/  0.236076, tr:  98.98%, val:  97.81%, val_best:  97.96%: 100%|██████████| 375/375 [01:19<00:00,  4.74it/s]"
     ]
    },
    {
     "name": "stdout",
     "output_type": "stream",
     "text": [
      "Domain loss,acc: 0.764926, 99.55% Target domain: tr_loss-3.024799, tr_acc-62.46%\n",
      "4,000c1dFalset10:97.81%:97.96% | 1,000c1dFalset10:68.33%:68.33%\n"
     ]
    },
    {
     "name": "stderr",
     "output_type": "stream",
     "text": [
      "\n",
      "epoch-118 lr=['0.0010000'], tr/val_loss:  0.199909/  0.238135, tr:  98.95%, val:  97.93%, val_best:  97.96%: 100%|██████████| 375/375 [01:17<00:00,  4.84it/s]"
     ]
    },
    {
     "name": "stdout",
     "output_type": "stream",
     "text": [
      "Domain loss,acc: 0.766688, 99.56% Target domain: tr_loss-3.033808, tr_acc-62.32%\n",
      "4,000c1dFalset10:97.93%:97.96% | 1,000c1dFalset10:66.80%:68.33%\n"
     ]
    },
    {
     "name": "stderr",
     "output_type": "stream",
     "text": [
      "\n",
      "epoch-119 lr=['0.0010000'], tr/val_loss:  0.199393/  0.236761, tr:  98.96%, val:  97.91%, val_best:  97.96%: 100%|██████████| 375/375 [01:17<00:00,  4.83it/s]"
     ]
    },
    {
     "name": "stdout",
     "output_type": "stream",
     "text": [
      "Domain loss,acc: 0.763748, 99.58% Target domain: tr_loss-3.021172, tr_acc-62.57%\n",
      "4,000c1dFalset10:97.91%:97.96% | 1,000c1dFalset10:64.03%:68.33%\n"
     ]
    },
    {
     "name": "stderr",
     "output_type": "stream",
     "text": [
      "\n",
      "epoch-120 lr=['0.0010000'], tr/val_loss:  0.199257/  0.236454, tr:  98.99%, val:  97.99%, val_best:  97.99%: 100%|██████████| 375/375 [01:17<00:00,  4.84it/s]"
     ]
    },
    {
     "name": "stdout",
     "output_type": "stream",
     "text": [
      "Domain loss,acc: 0.769044, 99.55% Target domain: tr_loss-3.048189, tr_acc-61.76%\n",
      "4,000c1dFalset10:97.99%:97.99% | 1,000c1dFalset10:65.05%:68.33%\n"
     ]
    },
    {
     "name": "stderr",
     "output_type": "stream",
     "text": [
      "\n",
      "epoch-121 lr=['0.0010000'], tr/val_loss:  0.198902/  0.237818, tr:  99.01%, val:  97.88%, val_best:  97.99%: 100%|██████████| 375/375 [01:19<00:00,  4.74it/s]"
     ]
    },
    {
     "name": "stdout",
     "output_type": "stream",
     "text": [
      "Domain loss,acc: 0.771367, 99.57% Target domain: tr_loss-3.061230, tr_acc-61.82%\n",
      "4,000c1dFalset10:97.88%:97.99% | 1,000c1dFalset10:67.36%:68.33%\n"
     ]
    },
    {
     "name": "stderr",
     "output_type": "stream",
     "text": [
      "\n",
      "epoch-122 lr=['0.0010000'], tr/val_loss:  0.198158/  0.238851, tr:  99.01%, val:  97.92%, val_best:  97.99%: 100%|██████████| 375/375 [01:26<00:00,  4.34it/s]"
     ]
    },
    {
     "name": "stdout",
     "output_type": "stream",
     "text": [
      "Domain loss,acc: 0.766384, 99.57% Target domain: tr_loss-3.039289, tr_acc-62.12%\n",
      "4,000c1dFalset10:97.92%:97.99% | 1,000c1dFalset10:66.37%:68.33%\n"
     ]
    },
    {
     "name": "stderr",
     "output_type": "stream",
     "text": [
      "\n",
      "epoch-123 lr=['0.0010000'], tr/val_loss:  0.197875/  0.236488, tr:  99.03%, val:  97.98%, val_best:  97.99%: 100%|██████████| 375/375 [01:23<00:00,  4.49it/s]"
     ]
    },
    {
     "name": "stdout",
     "output_type": "stream",
     "text": [
      "Domain loss,acc: 0.766843, 99.60% Target domain: tr_loss-3.042712, tr_acc-62.03%\n",
      "4,000c1dFalset10:97.98%:97.99% | 1,000c1dFalset10:66.76%:68.33%\n"
     ]
    },
    {
     "name": "stderr",
     "output_type": "stream",
     "text": [
      "\n",
      "epoch-124 lr=['0.0010000'], tr/val_loss:  0.197609/  0.240331, tr:  98.99%, val:  97.96%, val_best:  97.99%: 100%|██████████| 375/375 [01:21<00:00,  4.62it/s]"
     ]
    },
    {
     "name": "stdout",
     "output_type": "stream",
     "text": [
      "Domain loss,acc: 0.764308, 99.57% Target domain: tr_loss-3.031101, tr_acc-62.46%\n",
      "4,000c1dFalset10:97.96%:97.99% | 1,000c1dFalset10:63.43%:68.33%\n"
     ]
    },
    {
     "name": "stderr",
     "output_type": "stream",
     "text": [
      "\n",
      "epoch-125 lr=['0.0010000'], tr/val_loss:  0.196991/  0.237147, tr:  99.00%, val:  97.87%, val_best:  97.99%: 100%|██████████| 375/375 [01:19<00:00,  4.69it/s]"
     ]
    },
    {
     "name": "stdout",
     "output_type": "stream",
     "text": [
      "Domain loss,acc: 0.764042, 99.59% Target domain: tr_loss-3.032243, tr_acc-62.26%\n",
      "4,000c1dFalset10:97.87%:97.99% | 1,000c1dFalset10:67.38%:68.33%\n"
     ]
    },
    {
     "name": "stderr",
     "output_type": "stream",
     "text": [
      "\n",
      "epoch-126 lr=['0.0010000'], tr/val_loss:  0.196273/  0.236038, tr:  99.02%, val:  97.91%, val_best:  97.99%: 100%|██████████| 375/375 [01:20<00:00,  4.63it/s]"
     ]
    },
    {
     "name": "stdout",
     "output_type": "stream",
     "text": [
      "Domain loss,acc: 0.767833, 99.59% Target domain: tr_loss-3.054069, tr_acc-61.73%\n",
      "4,000c1dFalset10:97.91%:97.99% | 1,000c1dFalset10:68.39%:68.39%\n"
     ]
    },
    {
     "name": "stderr",
     "output_type": "stream",
     "text": [
      "\n",
      "epoch-127 lr=['0.0010000'], tr/val_loss:  0.195864/  0.236873, tr:  99.00%, val:  97.90%, val_best:  97.99%: 100%|██████████| 375/375 [01:20<00:00,  4.63it/s]"
     ]
    },
    {
     "name": "stdout",
     "output_type": "stream",
     "text": [
      "Domain loss,acc: 0.766347, 99.58% Target domain: tr_loss-3.048279, tr_acc-61.89%\n",
      "4,000c1dFalset10:97.90%:97.99% | 1,000c1dFalset10:67.24%:68.39%\n"
     ]
    },
    {
     "name": "stderr",
     "output_type": "stream",
     "text": [
      "\n",
      "epoch-128 lr=['0.0010000'], tr/val_loss:  0.196152/  0.236676, tr:  99.03%, val:  97.81%, val_best:  97.99%: 100%|██████████| 375/375 [01:19<00:00,  4.99s/it]"
     ]
    },
    {
     "name": "stdout",
     "output_type": "stream",
     "text": [
      "Domain loss,acc: 0.766469, 99.59% Target domain: tr_loss-3.047738, tr_acc-62.08%\n",
      "4,000c1dFalset10:97.81%:97.99% | 1,000c1dFalset10:65.46%:68.39%\n"
     ]
    },
    {
     "name": "stderr",
     "output_type": "stream",
     "text": [
      "epoch-128 lr=['0.0010000'], tr/val_loss:  0.196152/  0.236676, tr:  99.03%, val:  97.81%, val_best:  97.99%: 100%|██████████| 375/375 [01:19<00:00,  4.73it/s]\n",
      "epoch-129 lr=['0.0010000'], tr/val_loss:  0.195452/  0.238636, tr:  99.00%, val:  97.99%, val_best:  97.99%: 100%|██████████| 375/375 [01:18<00:00,  4.80it/s]"
     ]
    },
    {
     "name": "stdout",
     "output_type": "stream",
     "text": [
      "Domain loss,acc: 0.762007, 99.60% Target domain: tr_loss-3.028228, tr_acc-62.55%\n",
      "4,000c1dFalset10:97.99%:97.99% | 1,000c1dFalset10:66.77%:68.39%\n"
     ]
    },
    {
     "name": "stderr",
     "output_type": "stream",
     "text": [
      "\n",
      "epoch-130 lr=['0.0010000'], tr/val_loss:  0.193841/  0.237466, tr:  99.11%, val:  97.88%, val_best:  97.99%: 100%|██████████| 375/375 [01:23<00:00,  4.49it/s]"
     ]
    },
    {
     "name": "stdout",
     "output_type": "stream",
     "text": [
      "Domain loss,acc: 0.757720, 99.58% Target domain: tr_loss-3.013234, tr_acc-63.06%\n",
      "4,000c1dFalset10:97.88%:97.99% | 1,000c1dFalset10:67.26%:68.39%\n"
     ]
    },
    {
     "name": "stderr",
     "output_type": "stream",
     "text": [
      "\n",
      "epoch-131 lr=['0.0010000'], tr/val_loss:  0.194584/  0.238062, tr:  99.05%, val:  97.87%, val_best:  97.99%: 100%|██████████| 375/375 [01:20<00:00,  4.67it/s]"
     ]
    },
    {
     "name": "stdout",
     "output_type": "stream",
     "text": [
      "Domain loss,acc: 0.764293, 99.57% Target domain: tr_loss-3.043123, tr_acc-62.24%\n",
      "4,000c1dFalset10:97.87%:97.99% | 1,000c1dFalset10:66.67%:68.39%\n"
     ]
    },
    {
     "name": "stderr",
     "output_type": "stream",
     "text": [
      "\n",
      "epoch-132 lr=['0.0010000'], tr/val_loss:  0.194091/  0.238072, tr:  99.06%, val:  97.96%, val_best:  97.99%: 100%|██████████| 375/375 [01:21<00:00,  4.87s/it]"
     ]
    },
    {
     "name": "stdout",
     "output_type": "stream",
     "text": [
      "Domain loss,acc: 0.760033, 99.58% Target domain: tr_loss-3.023800, tr_acc-62.45%\n",
      "4,000c1dFalset10:97.96%:97.99% | 1,000c1dFalset10:68.20%:68.39%\n"
     ]
    },
    {
     "name": "stderr",
     "output_type": "stream",
     "text": [
      "epoch-132 lr=['0.0010000'], tr/val_loss:  0.194091/  0.238072, tr:  99.06%, val:  97.96%, val_best:  97.99%: 100%|██████████| 375/375 [01:22<00:00,  4.57it/s]\n",
      "epoch-133 lr=['0.0010000'], tr/val_loss:  0.193199/  0.237130, tr:  99.09%, val:  97.90%, val_best:  97.99%: 100%|██████████| 375/375 [01:22<00:00,  4.97s/it]"
     ]
    },
    {
     "name": "stdout",
     "output_type": "stream",
     "text": [
      "Domain loss,acc: 0.761378, 99.59% Target domain: tr_loss-3.034091, tr_acc-62.44%\n",
      "4,000c1dFalset10:97.90%:97.99% | 1,000c1dFalset10:67.32%:68.39%\n"
     ]
    },
    {
     "name": "stderr",
     "output_type": "stream",
     "text": [
      "epoch-133 lr=['0.0010000'], tr/val_loss:  0.193199/  0.237130, tr:  99.09%, val:  97.90%, val_best:  97.99%: 100%|██████████| 375/375 [01:22<00:00,  4.54it/s]\n",
      "epoch-134 lr=['0.0010000'], tr/val_loss:  0.193004/  0.239276, tr:  99.06%, val:  97.83%, val_best:  97.99%: 100%|██████████| 375/375 [01:21<00:00,  4.62it/s]"
     ]
    },
    {
     "name": "stdout",
     "output_type": "stream",
     "text": [
      "Domain loss,acc: 0.762229, 99.58% Target domain: tr_loss-3.039134, tr_acc-62.14%\n",
      "4,000c1dFalset10:97.83%:97.99% | 1,000c1dFalset10:65.89%:68.39%\n"
     ]
    },
    {
     "name": "stderr",
     "output_type": "stream",
     "text": [
      "\n",
      "epoch-135 lr=['0.0010000'], tr/val_loss:  0.192539/  0.236916, tr:  99.08%, val:  97.97%, val_best:  97.99%: 100%|██████████| 375/375 [01:19<00:00,  4.69it/s]"
     ]
    },
    {
     "name": "stdout",
     "output_type": "stream",
     "text": [
      "Domain loss,acc: 0.764582, 99.57% Target domain: tr_loss-3.052753, tr_acc-62.14%\n",
      "4,000c1dFalset10:97.97%:97.99% | 1,000c1dFalset10:66.32%:68.39%\n"
     ]
    },
    {
     "name": "stderr",
     "output_type": "stream",
     "text": [
      "\n",
      "epoch-136 lr=['0.0010000'], tr/val_loss:  0.192433/  0.238080, tr:  99.07%, val:  97.95%, val_best:  97.99%: 100%|██████████| 375/375 [01:20<00:00,  4.67it/s]"
     ]
    },
    {
     "name": "stdout",
     "output_type": "stream",
     "text": [
      "Domain loss,acc: 0.760440, 99.58% Target domain: tr_loss-3.032469, tr_acc-62.33%\n",
      "4,000c1dFalset10:97.95%:97.99% | 1,000c1dFalset10:68.37%:68.39%\n"
     ]
    },
    {
     "name": "stderr",
     "output_type": "stream",
     "text": [
      "\n",
      "epoch-137 lr=['0.0010000'], tr/val_loss:  0.192246/  0.238044, tr:  99.05%, val:  97.85%, val_best:  97.99%: 100%|██████████| 375/375 [01:18<00:00,  4.79it/s]"
     ]
    },
    {
     "name": "stdout",
     "output_type": "stream",
     "text": [
      "Domain loss,acc: 0.759406, 99.60% Target domain: tr_loss-3.028046, tr_acc-62.92%\n",
      "4,000c1dFalset10:97.85%:97.99% | 1,000c1dFalset10:66.53%:68.39%\n"
     ]
    },
    {
     "name": "stderr",
     "output_type": "stream",
     "text": [
      "\n",
      "epoch-138 lr=['0.0010000'], tr/val_loss:  0.191784/  0.238499, tr:  99.12%, val:  97.97%, val_best:  97.99%: 100%|██████████| 375/375 [01:19<00:00,  4.69it/s]"
     ]
    },
    {
     "name": "stdout",
     "output_type": "stream",
     "text": [
      "Domain loss,acc: 0.760058, 99.61% Target domain: tr_loss-3.033150, tr_acc-62.47%\n",
      "4,000c1dFalset10:97.97%:97.99% | 1,000c1dFalset10:65.61%:68.39%\n"
     ]
    },
    {
     "name": "stderr",
     "output_type": "stream",
     "text": [
      "\n",
      "epoch-139 lr=['0.0010000'], tr/val_loss:  0.191135/  0.238915, tr:  99.08%, val:  97.94%, val_best:  97.99%: 100%|██████████| 375/375 [01:19<00:00,  4.72it/s]"
     ]
    },
    {
     "name": "stdout",
     "output_type": "stream",
     "text": [
      "Domain loss,acc: 0.763195, 99.61% Target domain: tr_loss-3.051435, tr_acc-62.46%\n",
      "4,000c1dFalset10:97.94%:97.99% | 1,000c1dFalset10:67.28%:68.39%\n"
     ]
    },
    {
     "name": "stderr",
     "output_type": "stream",
     "text": [
      "\n",
      "epoch-140 lr=['0.0010000'], tr/val_loss:  0.190712/  0.238652, tr:  99.12%, val:  97.92%, val_best:  97.99%: 100%|██████████| 375/375 [01:19<00:00,  4.70it/s]"
     ]
    },
    {
     "name": "stdout",
     "output_type": "stream",
     "text": [
      "Domain loss,acc: 0.763872, 99.59% Target domain: tr_loss-3.056516, tr_acc-62.02%\n",
      "4,000c1dFalset10:97.92%:97.99% | 1,000c1dFalset10:66.43%:68.39%\n"
     ]
    },
    {
     "name": "stderr",
     "output_type": "stream",
     "text": [
      "\n",
      "epoch-141 lr=['0.0010000'], tr/val_loss:  0.189832/  0.234902, tr:  99.12%, val:  98.01%, val_best:  98.01%: 100%|██████████| 375/375 [01:20<00:00,  4.94s/it]"
     ]
    },
    {
     "name": "stdout",
     "output_type": "stream",
     "text": [
      "Domain loss,acc: 0.761104, 99.58% Target domain: tr_loss-3.046192, tr_acc-62.52%\n",
      "4,000c1dFalset10:98.01%:98.01% | 1,000c1dFalset10:65.45%:68.39%\n"
     ]
    },
    {
     "name": "stderr",
     "output_type": "stream",
     "text": [
      "epoch-141 lr=['0.0010000'], tr/val_loss:  0.189832/  0.234902, tr:  99.12%, val:  98.01%, val_best:  98.01%: 100%|██████████| 375/375 [01:20<00:00,  4.66it/s]\n",
      "epoch-142 lr=['0.0010000'], tr/val_loss:  0.190007/  0.238542, tr:  99.14%, val:  97.89%, val_best:  98.01%: 100%|██████████| 375/375 [01:21<00:00,  4.57it/s]"
     ]
    },
    {
     "name": "stdout",
     "output_type": "stream",
     "text": [
      "Domain loss,acc: 0.765292, 99.60% Target domain: tr_loss-3.066428, tr_acc-62.38%\n",
      "4,000c1dFalset10:97.89%:98.01% | 1,000c1dFalset10:67.06%:68.39%\n"
     ]
    },
    {
     "name": "stderr",
     "output_type": "stream",
     "text": [
      "\n",
      "epoch-143 lr=['0.0010000'], tr/val_loss:  0.189308/  0.236978, tr:  99.11%, val:  98.00%, val_best:  98.01%: 100%|██████████| 375/375 [01:18<00:00,  4.79it/s]"
     ]
    },
    {
     "name": "stdout",
     "output_type": "stream",
     "text": [
      "Domain loss,acc: 0.765112, 99.58% Target domain: tr_loss-3.068329, tr_acc-61.71%\n",
      "4,000c1dFalset10:98.00%:98.01% | 1,000c1dFalset10:68.42%:68.42%\n"
     ]
    },
    {
     "name": "stderr",
     "output_type": "stream",
     "text": [
      "\n",
      "epoch-144 lr=['0.0010000'], tr/val_loss:  0.189398/  0.238523, tr:  99.11%, val:  97.88%, val_best:  98.01%: 100%|██████████| 375/375 [01:19<00:00,  4.72it/s]"
     ]
    },
    {
     "name": "stdout",
     "output_type": "stream",
     "text": [
      "Domain loss,acc: 0.765295, 99.56% Target domain: tr_loss-3.068882, tr_acc-62.32%\n",
      "4,000c1dFalset10:97.88%:98.01% | 1,000c1dFalset10:64.28%:68.42%\n"
     ]
    },
    {
     "name": "stderr",
     "output_type": "stream",
     "text": [
      "\n",
      "epoch-145 lr=['0.0010000'], tr/val_loss:  0.189150/  0.239733, tr:  99.12%, val:  98.01%, val_best:  98.01%: 100%|██████████| 375/375 [01:18<00:00,  4.80it/s]"
     ]
    },
    {
     "name": "stdout",
     "output_type": "stream",
     "text": [
      "Domain loss,acc: 0.767375, 99.60% Target domain: tr_loss-3.080275, tr_acc-61.69%\n",
      "4,000c1dFalset10:98.01%:98.01% | 1,000c1dFalset10:68.21%:68.42%\n"
     ]
    },
    {
     "name": "stderr",
     "output_type": "stream",
     "text": [
      "\n",
      "epoch-146 lr=['0.0010000'], tr/val_loss:  0.188894/  0.236679, tr:  99.10%, val:  98.03%, val_best:  98.03%: 100%|██████████| 375/375 [01:18<00:00,  4.64s/it]"
     ]
    },
    {
     "name": "stdout",
     "output_type": "stream",
     "text": [
      "Domain loss,acc: 0.764210, 99.61% Target domain: tr_loss-3.065474, tr_acc-62.14%\n",
      "4,000c1dFalset10:98.03%:98.03% | 1,000c1dFalset10:62.58%:68.42%\n"
     ]
    },
    {
     "name": "stderr",
     "output_type": "stream",
     "text": [
      "epoch-146 lr=['0.0010000'], tr/val_loss:  0.188894/  0.236679, tr:  99.10%, val:  98.03%, val_best:  98.03%: 100%|██████████| 375/375 [01:18<00:00,  4.78it/s]\n",
      "epoch-147 lr=['0.0010000'], tr/val_loss:  0.188263/  0.238542, tr:  99.12%, val:  98.05%, val_best:  98.05%: 100%|██████████| 375/375 [01:17<00:00,  4.81it/s]"
     ]
    },
    {
     "name": "stdout",
     "output_type": "stream",
     "text": [
      "Domain loss,acc: 0.765505, 99.58% Target domain: tr_loss-3.074475, tr_acc-62.10%\n",
      "4,000c1dFalset10:98.05%:98.05% | 1,000c1dFalset10:62.92%:68.42%\n"
     ]
    },
    {
     "name": "stderr",
     "output_type": "stream",
     "text": [
      "\n",
      "epoch-148 lr=['0.0010000'], tr/val_loss:  0.187021/  0.237276, tr:  99.14%, val:  97.92%, val_best:  98.05%: 100%|██████████| 375/375 [01:19<00:00,  4.70it/s]"
     ]
    },
    {
     "name": "stdout",
     "output_type": "stream",
     "text": [
      "Domain loss,acc: 0.766059, 99.59% Target domain: tr_loss-3.082209, tr_acc-62.19%\n",
      "4,000c1dFalset10:97.92%:98.05% | 1,000c1dFalset10:66.48%:68.42%\n"
     ]
    },
    {
     "name": "stderr",
     "output_type": "stream",
     "text": [
      "\n",
      "epoch-149 lr=['0.0010000'], tr/val_loss:  0.186888/  0.237851, tr:  99.14%, val:  97.95%, val_best:  98.05%: 100%|██████████| 375/375 [01:19<00:00,  4.72it/s]"
     ]
    },
    {
     "name": "stdout",
     "output_type": "stream",
     "text": [
      "Domain loss,acc: 0.764952, 99.59% Target domain: tr_loss-3.077212, tr_acc-61.96%\n",
      "4,000c1dFalset10:97.95%:98.05% | 1,000c1dFalset10:66.99%:68.42%\n"
     ]
    },
    {
     "name": "stderr",
     "output_type": "stream",
     "text": [
      "\n",
      "epoch-150 lr=['0.0010000'], tr/val_loss:  0.187054/  0.238536, tr:  99.14%, val:  97.93%, val_best:  98.05%: 100%|██████████| 375/375 [01:19<00:00,  5.08s/it]"
     ]
    },
    {
     "name": "stdout",
     "output_type": "stream",
     "text": [
      "Domain loss,acc: 0.765437, 99.59% Target domain: tr_loss-3.078965, tr_acc-62.13%\n",
      "4,000c1dFalset10:97.93%:98.05% | 1,000c1dFalset10:64.24%:68.42%\n"
     ]
    },
    {
     "name": "stderr",
     "output_type": "stream",
     "text": [
      "epoch-150 lr=['0.0010000'], tr/val_loss:  0.187054/  0.238536, tr:  99.14%, val:  97.93%, val_best:  98.05%: 100%|██████████| 375/375 [01:19<00:00,  4.73it/s]\n",
      "epoch-151 lr=['0.0010000'], tr/val_loss:  0.186014/  0.239213, tr:  99.18%, val:  97.86%, val_best:  98.05%: 100%|██████████| 375/375 [01:19<00:00,  4.69it/s]"
     ]
    },
    {
     "name": "stdout",
     "output_type": "stream",
     "text": [
      "Domain loss,acc: 0.765890, 99.60% Target domain: tr_loss-3.085392, tr_acc-61.97%\n",
      "4,000c1dFalset10:97.86%:98.05% | 1,000c1dFalset10:65.13%:68.42%\n"
     ]
    },
    {
     "name": "stderr",
     "output_type": "stream",
     "text": [
      "\n",
      "epoch-152 lr=['0.0010000'], tr/val_loss:  0.186017/  0.236842, tr:  99.17%, val:  98.00%, val_best:  98.05%: 100%|██████████| 375/375 [01:19<00:00,  4.72it/s]"
     ]
    },
    {
     "name": "stdout",
     "output_type": "stream",
     "text": [
      "Domain loss,acc: 0.762051, 99.57% Target domain: tr_loss-3.066185, tr_acc-62.69%\n",
      "4,000c1dFalset10:98.00%:98.05% | 1,000c1dFalset10:68.68%:68.68%\n"
     ]
    },
    {
     "name": "stderr",
     "output_type": "stream",
     "text": [
      "\n",
      "epoch-153 lr=['0.0010000'], tr/val_loss:  0.186272/  0.238758, tr:  99.14%, val:  97.92%, val_best:  98.05%: 100%|██████████| 375/375 [01:20<00:00,  4.64it/s]"
     ]
    },
    {
     "name": "stdout",
     "output_type": "stream",
     "text": [
      "Domain loss,acc: 0.767352, 99.61% Target domain: tr_loss-3.091672, tr_acc-62.15%\n",
      "4,000c1dFalset10:97.92%:98.05% | 1,000c1dFalset10:66.92%:68.68%\n"
     ]
    },
    {
     "name": "stderr",
     "output_type": "stream",
     "text": [
      "\n",
      "epoch-154 lr=['0.0010000'], tr/val_loss:  0.185020/  0.236466, tr:  99.17%, val:  98.00%, val_best:  98.05%: 100%|██████████| 375/375 [01:19<00:00,  4.69it/s]"
     ]
    },
    {
     "name": "stdout",
     "output_type": "stream",
     "text": [
      "Domain loss,acc: 0.761860, 99.61% Target domain: tr_loss-3.069224, tr_acc-62.68%\n",
      "4,000c1dFalset10:98.00%:98.05% | 1,000c1dFalset10:63.70%:68.68%\n"
     ]
    },
    {
     "name": "stderr",
     "output_type": "stream",
     "text": [
      "\n",
      "epoch-155 lr=['0.0010000'], tr/val_loss:  0.184451/  0.239504, tr:  99.15%, val:  98.02%, val_best:  98.05%: 100%|██████████| 375/375 [01:18<00:00,  4.79it/s]"
     ]
    },
    {
     "name": "stdout",
     "output_type": "stream",
     "text": [
      "Domain loss,acc: 0.765165, 99.59% Target domain: tr_loss-3.088024, tr_acc-62.26%\n",
      "4,000c1dFalset10:98.02%:98.05% | 1,000c1dFalset10:68.50%:68.68%\n"
     ]
    },
    {
     "name": "stderr",
     "output_type": "stream",
     "text": [
      "\n",
      "epoch-156 lr=['0.0010000'], tr/val_loss:  0.184177/  0.240759, tr:  99.17%, val:  97.90%, val_best:  98.05%: 100%|██████████| 375/375 [01:18<00:00,  4.76it/s]"
     ]
    },
    {
     "name": "stdout",
     "output_type": "stream",
     "text": [
      "Domain loss,acc: 0.765306, 99.58% Target domain: tr_loss-3.089825, tr_acc-61.84%\n",
      "4,000c1dFalset10:97.90%:98.05% | 1,000c1dFalset10:64.78%:68.68%\n"
     ]
    },
    {
     "name": "stderr",
     "output_type": "stream",
     "text": [
      "\n",
      "epoch-157 lr=['0.0010000'], tr/val_loss:  0.184004/  0.239032, tr:  99.19%, val:  97.99%, val_best:  98.05%: 100%|██████████| 375/375 [01:19<00:00,  4.72it/s]"
     ]
    },
    {
     "name": "stdout",
     "output_type": "stream",
     "text": [
      "Domain loss,acc: 0.767258, 99.60% Target domain: tr_loss-3.100277, tr_acc-62.14%\n",
      "4,000c1dFalset10:97.99%:98.05% | 1,000c1dFalset10:66.37%:68.68%\n"
     ]
    },
    {
     "name": "stderr",
     "output_type": "stream",
     "text": [
      "\n",
      "epoch-158 lr=['0.0010000'], tr/val_loss:  0.184038/  0.239328, tr:  99.16%, val:  97.95%, val_best:  98.05%: 100%|██████████| 375/375 [01:20<00:00,  4.67it/s]"
     ]
    },
    {
     "name": "stdout",
     "output_type": "stream",
     "text": [
      "Domain loss,acc: 0.766633, 99.60% Target domain: tr_loss-3.097012, tr_acc-62.23%\n",
      "4,000c1dFalset10:97.95%:98.05% | 1,000c1dFalset10:65.80%:68.68%\n"
     ]
    },
    {
     "name": "stderr",
     "output_type": "stream",
     "text": [
      "\n",
      "epoch-159 lr=['0.0010000'], tr/val_loss:  0.183279/  0.241001, tr:  99.19%, val:  97.97%, val_best:  98.05%: 100%|██████████| 375/375 [01:22<00:00,  4.55it/s]"
     ]
    },
    {
     "name": "stdout",
     "output_type": "stream",
     "text": [
      "Domain loss,acc: 0.765241, 99.59% Target domain: tr_loss-3.093088, tr_acc-62.40%\n",
      "4,000c1dFalset10:97.97%:98.05% | 1,000c1dFalset10:66.46%:68.68%\n"
     ]
    },
    {
     "name": "stderr",
     "output_type": "stream",
     "text": [
      "\n",
      "epoch-160 lr=['0.0010000'], tr/val_loss:  0.183468/  0.239787, tr:  99.20%, val:  97.96%, val_best:  98.05%: 100%|██████████| 375/375 [01:19<00:00,  4.69it/s]"
     ]
    },
    {
     "name": "stdout",
     "output_type": "stream",
     "text": [
      "Domain loss,acc: 0.763952, 99.61% Target domain: tr_loss-3.085887, tr_acc-62.65%\n",
      "4,000c1dFalset10:97.96%:98.05% | 1,000c1dFalset10:65.88%:68.68%\n"
     ]
    },
    {
     "name": "stderr",
     "output_type": "stream",
     "text": [
      "\n",
      "epoch-161 lr=['0.0010000'], tr/val_loss:  0.182748/  0.240592, tr:  99.21%, val:  98.10%, val_best:  98.10%: 100%|██████████| 375/375 [01:19<00:00,  4.71it/s]"
     ]
    },
    {
     "name": "stdout",
     "output_type": "stream",
     "text": [
      "Domain loss,acc: 0.766770, 99.59% Target domain: tr_loss-3.102861, tr_acc-62.23%\n",
      "4,000c1dFalset10:98.10%:98.10% | 1,000c1dFalset10:67.23%:68.68%\n"
     ]
    },
    {
     "name": "stderr",
     "output_type": "stream",
     "text": [
      "\n",
      "epoch-162 lr=['0.0010000'], tr/val_loss:  0.182010/  0.239629, tr:  99.22%, val:  97.88%, val_best:  98.10%: 100%|██████████| 375/375 [01:20<00:00,  4.66it/s]"
     ]
    },
    {
     "name": "stdout",
     "output_type": "stream",
     "text": [
      "Domain loss,acc: 0.762946, 99.59% Target domain: tr_loss-3.086690, tr_acc-62.82%\n",
      "4,000c1dFalset10:97.88%:98.10% | 1,000c1dFalset10:66.61%:68.68%\n"
     ]
    },
    {
     "name": "stderr",
     "output_type": "stream",
     "text": [
      "\n",
      "epoch-163 lr=['0.0010000'], tr/val_loss:  0.182282/  0.239799, tr:  99.18%, val:  98.02%, val_best:  98.10%: 100%|██████████| 375/375 [01:20<00:00,  4.68it/s]"
     ]
    },
    {
     "name": "stdout",
     "output_type": "stream",
     "text": [
      "Domain loss,acc: 0.767123, 99.60% Target domain: tr_loss-3.106485, tr_acc-62.04%\n",
      "4,000c1dFalset10:98.02%:98.10% | 1,000c1dFalset10:66.91%:68.68%\n"
     ]
    },
    {
     "name": "stderr",
     "output_type": "stream",
     "text": [
      "\n",
      "epoch-164 lr=['0.0010000'], tr/val_loss:  0.182034/  0.241007, tr:  99.21%, val:  97.94%, val_best:  98.10%: 100%|██████████| 375/375 [01:18<00:00,  4.75it/s]"
     ]
    },
    {
     "name": "stdout",
     "output_type": "stream",
     "text": [
      "Domain loss,acc: 0.766175, 99.61% Target domain: tr_loss-3.102737, tr_acc-62.55%\n",
      "4,000c1dFalset10:97.94%:98.10% | 1,000c1dFalset10:65.59%:68.68%\n"
     ]
    },
    {
     "name": "stderr",
     "output_type": "stream",
     "text": [
      "\n",
      "epoch-165 lr=['0.0010000'], tr/val_loss:  0.181480/  0.239972, tr:  99.18%, val:  97.96%, val_best:  98.10%: 100%|██████████| 375/375 [01:20<00:00,  4.67it/s]"
     ]
    },
    {
     "name": "stdout",
     "output_type": "stream",
     "text": [
      "Domain loss,acc: 0.767676, 99.59% Target domain: tr_loss-3.112460, tr_acc-62.14%\n",
      "4,000c1dFalset10:97.96%:98.10% | 1,000c1dFalset10:67.60%:68.68%\n"
     ]
    },
    {
     "name": "stderr",
     "output_type": "stream",
     "text": [
      "\n",
      "epoch-166 lr=['0.0010000'], tr/val_loss:  0.180435/  0.240036, tr:  99.22%, val:  97.88%, val_best:  98.10%: 100%|██████████| 375/375 [01:20<00:00,  4.65it/s]"
     ]
    },
    {
     "name": "stdout",
     "output_type": "stream",
     "text": [
      "Domain loss,acc: 0.767151, 99.61% Target domain: tr_loss-3.114014, tr_acc-62.38%\n",
      "4,000c1dFalset10:97.88%:98.10% | 1,000c1dFalset10:65.81%:68.68%\n"
     ]
    },
    {
     "name": "stderr",
     "output_type": "stream",
     "text": [
      "\n",
      "epoch-167 lr=['0.0010000'], tr/val_loss:  0.181155/  0.239977, tr:  99.22%, val:  97.90%, val_best:  98.10%: 100%|██████████| 375/375 [01:20<00:00,  4.68it/s]"
     ]
    },
    {
     "name": "stdout",
     "output_type": "stream",
     "text": [
      "Domain loss,acc: 0.771404, 99.59% Target domain: tr_loss-3.132401, tr_acc-62.08%\n",
      "4,000c1dFalset10:97.90%:98.10% | 1,000c1dFalset10:68.05%:68.68%\n"
     ]
    },
    {
     "name": "stderr",
     "output_type": "stream",
     "text": [
      "\n",
      "epoch-168 lr=['0.0010000'], tr/val_loss:  0.179768/  0.240528, tr:  99.23%, val:  97.93%, val_best:  98.10%: 100%|██████████| 375/375 [01:19<00:00,  5.12s/it]"
     ]
    },
    {
     "name": "stdout",
     "output_type": "stream",
     "text": [
      "Domain loss,acc: 0.762394, 99.59% Target domain: tr_loss-3.092902, tr_acc-62.72%\n",
      "4,000c1dFalset10:97.93%:98.10% | 1,000c1dFalset10:64.30%:68.68%\n"
     ]
    },
    {
     "name": "stderr",
     "output_type": "stream",
     "text": [
      "epoch-168 lr=['0.0010000'], tr/val_loss:  0.179768/  0.240528, tr:  99.23%, val:  97.93%, val_best:  98.10%: 100%|██████████| 375/375 [01:19<00:00,  4.70it/s]\n",
      "epoch-169 lr=['0.0010000'], tr/val_loss:  0.179515/  0.240668, tr:  99.25%, val:  97.95%, val_best:  98.10%: 100%|██████████| 375/375 [01:19<00:00,  4.72it/s]"
     ]
    },
    {
     "name": "stdout",
     "output_type": "stream",
     "text": [
      "Domain loss,acc: 0.768810, 99.61% Target domain: tr_loss-3.125991, tr_acc-62.29%\n",
      "4,000c1dFalset10:97.95%:98.10% | 1,000c1dFalset10:65.25%:68.68%\n"
     ]
    },
    {
     "name": "stderr",
     "output_type": "stream",
     "text": [
      "\n",
      "epoch-170 lr=['0.0010000'], tr/val_loss:  0.179418/  0.240452, tr:  99.25%, val:  97.99%, val_best:  98.10%: 100%|██████████| 375/375 [01:20<00:00,  4.68it/s]"
     ]
    },
    {
     "name": "stdout",
     "output_type": "stream",
     "text": [
      "Domain loss,acc: 0.768050, 99.59% Target domain: tr_loss-3.122579, tr_acc-62.37%\n",
      "4,000c1dFalset10:97.99%:98.10% | 1,000c1dFalset10:67.62%:68.68%\n"
     ]
    },
    {
     "name": "stderr",
     "output_type": "stream",
     "text": [
      "\n",
      "epoch-171 lr=['0.0010000'], tr/val_loss:  0.179219/  0.240770, tr:  99.24%, val:  98.07%, val_best:  98.10%: 100%|██████████| 375/375 [01:21<00:00,  4.63it/s]"
     ]
    },
    {
     "name": "stdout",
     "output_type": "stream",
     "text": [
      "Domain loss,acc: 0.769121, 99.59% Target domain: tr_loss-3.128730, tr_acc-61.98%\n",
      "4,000c1dFalset10:98.07%:98.10% | 1,000c1dFalset10:65.83%:68.68%\n"
     ]
    },
    {
     "name": "stderr",
     "output_type": "stream",
     "text": [
      "\n",
      "epoch-172 lr=['0.0010000'], tr/val_loss:  0.179323/  0.241735, tr:  99.26%, val:  97.99%, val_best:  98.10%: 100%|██████████| 375/375 [01:19<00:00,  4.71it/s]"
     ]
    },
    {
     "name": "stdout",
     "output_type": "stream",
     "text": [
      "Domain loss,acc: 0.771783, 99.60% Target domain: tr_loss-3.141622, tr_acc-62.20%\n",
      "4,000c1dFalset10:97.99%:98.10% | 1,000c1dFalset10:68.55%:68.68%\n"
     ]
    },
    {
     "name": "stderr",
     "output_type": "stream",
     "text": [
      "\n",
      "epoch-173 lr=['0.0010000'], tr/val_loss:  0.178821/  0.240750, tr:  99.22%, val:  98.01%, val_best:  98.10%: 100%|██████████| 375/375 [01:19<00:00,  4.71it/s]"
     ]
    },
    {
     "name": "stdout",
     "output_type": "stream",
     "text": [
      "Domain loss,acc: 0.768333, 99.62% Target domain: tr_loss-3.126382, tr_acc-62.40%\n",
      "4,000c1dFalset10:98.01%:98.10% | 1,000c1dFalset10:68.06%:68.68%\n"
     ]
    },
    {
     "name": "stderr",
     "output_type": "stream",
     "text": [
      "\n",
      "epoch-174 lr=['0.0010000'], tr/val_loss:  0.178313/  0.241817, tr:  99.28%, val:  97.93%, val_best:  98.10%: 100%|██████████| 375/375 [01:19<00:00,  4.87s/it]"
     ]
    },
    {
     "name": "stdout",
     "output_type": "stream",
     "text": [
      "Domain loss,acc: 0.771217, 99.61% Target domain: tr_loss-3.142834, tr_acc-62.07%\n",
      "4,000c1dFalset10:97.93%:98.10% | 1,000c1dFalset10:64.73%:68.68%\n"
     ]
    },
    {
     "name": "stderr",
     "output_type": "stream",
     "text": [
      "epoch-174 lr=['0.0010000'], tr/val_loss:  0.178313/  0.241817, tr:  99.28%, val:  97.93%, val_best:  98.10%: 100%|██████████| 375/375 [01:19<00:00,  4.72it/s]\n",
      "epoch-175 lr=['0.0010000'], tr/val_loss:  0.178114/  0.241519, tr:  99.29%, val:  97.98%, val_best:  98.10%: 100%|██████████| 375/375 [01:20<00:00,  4.64it/s]"
     ]
    },
    {
     "name": "stdout",
     "output_type": "stream",
     "text": [
      "Domain loss,acc: 0.770816, 99.62% Target domain: tr_loss-3.141624, tr_acc-62.02%\n",
      "4,000c1dFalset10:97.98%:98.10% | 1,000c1dFalset10:65.69%:68.68%\n"
     ]
    },
    {
     "name": "stderr",
     "output_type": "stream",
     "text": [
      "\n",
      "epoch-176 lr=['0.0010000'], tr/val_loss:  0.177335/  0.240551, tr:  99.28%, val:  97.79%, val_best:  98.10%: 100%|██████████| 375/375 [01:20<00:00,  4.67it/s]"
     ]
    },
    {
     "name": "stdout",
     "output_type": "stream",
     "text": [
      "Domain loss,acc: 0.771563, 99.58% Target domain: tr_loss-3.148477, tr_acc-61.69%\n",
      "4,000c1dFalset10:97.79%:98.10% | 1,000c1dFalset10:67.38%:68.68%\n"
     ]
    },
    {
     "name": "stderr",
     "output_type": "stream",
     "text": [
      "\n",
      "epoch-177 lr=['0.0010000'], tr/val_loss:  0.177285/  0.242792, tr:  99.27%, val:  97.77%, val_best:  98.10%: 100%|██████████| 375/375 [01:20<00:00,  4.67it/s]"
     ]
    },
    {
     "name": "stdout",
     "output_type": "stream",
     "text": [
      "Domain loss,acc: 0.768561, 99.60% Target domain: tr_loss-3.133668, tr_acc-62.32%\n",
      "4,000c1dFalset10:97.77%:98.10% | 1,000c1dFalset10:65.09%:68.68%\n"
     ]
    },
    {
     "name": "stderr",
     "output_type": "stream",
     "text": [
      "\n",
      "epoch-178 lr=['0.0010000'], tr/val_loss:  0.177417/  0.244060, tr:  99.28%, val:  97.90%, val_best:  98.10%: 100%|██████████| 375/375 [01:19<00:00,  4.69it/s]"
     ]
    },
    {
     "name": "stdout",
     "output_type": "stream",
     "text": [
      "Domain loss,acc: 0.770979, 99.60% Target domain: tr_loss-3.145227, tr_acc-61.78%\n",
      "4,000c1dFalset10:97.90%:98.10% | 1,000c1dFalset10:62.50%:68.68%\n"
     ]
    },
    {
     "name": "stderr",
     "output_type": "stream",
     "text": [
      "\n",
      "epoch-179 lr=['0.0010000'], tr/val_loss:  0.176834/  0.242115, tr:  99.27%, val:  97.95%, val_best:  98.10%: 100%|██████████| 375/375 [01:19<00:00,  4.70it/s]"
     ]
    },
    {
     "name": "stdout",
     "output_type": "stream",
     "text": [
      "Domain loss,acc: 0.772592, 99.61% Target domain: tr_loss-3.155626, tr_acc-61.78%\n",
      "4,000c1dFalset10:97.95%:98.10% | 1,000c1dFalset10:65.89%:68.68%\n"
     ]
    },
    {
     "name": "stderr",
     "output_type": "stream",
     "text": [
      "\n",
      "epoch-180 lr=['0.0010000'], tr/val_loss:  0.175797/  0.242794, tr:  99.27%, val:  97.86%, val_best:  98.10%: 100%|██████████| 375/375 [01:20<00:00,  4.68it/s]"
     ]
    },
    {
     "name": "stdout",
     "output_type": "stream",
     "text": [
      "Domain loss,acc: 0.767666, 99.62% Target domain: tr_loss-3.135144, tr_acc-62.12%\n",
      "4,000c1dFalset10:97.86%:98.10% | 1,000c1dFalset10:66.98%:68.68%\n"
     ]
    },
    {
     "name": "stderr",
     "output_type": "stream",
     "text": [
      "\n",
      "epoch-181 lr=['0.0010000'], tr/val_loss:  0.175952/  0.242349, tr:  99.26%, val:  97.94%, val_best:  98.10%: 100%|██████████| 375/375 [01:19<00:00,  4.71it/s]"
     ]
    },
    {
     "name": "stdout",
     "output_type": "stream",
     "text": [
      "Domain loss,acc: 0.769473, 99.60% Target domain: tr_loss-3.143558, tr_acc-62.08%\n",
      "4,000c1dFalset10:97.94%:98.10% | 1,000c1dFalset10:62.99%:68.68%\n"
     ]
    },
    {
     "name": "stderr",
     "output_type": "stream",
     "text": [
      "\n",
      "epoch-182 lr=['0.0010000'], tr/val_loss:  0.175391/  0.241557, tr:  99.29%, val:  98.11%, val_best:  98.11%: 100%|██████████| 375/375 [01:19<00:00,  4.73it/s]"
     ]
    },
    {
     "name": "stdout",
     "output_type": "stream",
     "text": [
      "Domain loss,acc: 0.769422, 99.59% Target domain: tr_loss-3.145550, tr_acc-62.26%\n",
      "4,000c1dFalset10:98.11%:98.11% | 1,000c1dFalset10:66.46%:68.68%\n"
     ]
    },
    {
     "name": "stderr",
     "output_type": "stream",
     "text": [
      "\n",
      "epoch-183 lr=['0.0010000'], tr/val_loss:  0.175870/  0.243543, tr:  99.29%, val:  97.95%, val_best:  98.11%: 100%|██████████| 375/375 [01:19<00:00,  4.95s/it]"
     ]
    },
    {
     "name": "stdout",
     "output_type": "stream",
     "text": [
      "Domain loss,acc: 0.771858, 99.61% Target domain: tr_loss-3.155811, tr_acc-61.97%\n",
      "4,000c1dFalset10:97.95%:98.11% | 1,000c1dFalset10:67.03%:68.68%\n"
     ]
    },
    {
     "name": "stderr",
     "output_type": "stream",
     "text": [
      "epoch-183 lr=['0.0010000'], tr/val_loss:  0.175870/  0.243543, tr:  99.29%, val:  97.95%, val_best:  98.11%: 100%|██████████| 375/375 [01:19<00:00,  4.73it/s]\n",
      "epoch-184 lr=['0.0010000'], tr/val_loss:  0.175597/  0.243550, tr:  99.25%, val:  97.98%, val_best:  98.11%: 100%|██████████| 375/375 [01:20<00:00,  4.96s/it]"
     ]
    },
    {
     "name": "stdout",
     "output_type": "stream",
     "text": [
      "Domain loss,acc: 0.769503, 99.62% Target domain: tr_loss-3.145122, tr_acc-62.18%\n",
      "4,000c1dFalset10:97.98%:98.11% | 1,000c1dFalset10:69.01%:69.01%\n"
     ]
    },
    {
     "name": "stderr",
     "output_type": "stream",
     "text": [
      "epoch-184 lr=['0.0010000'], tr/val_loss:  0.175597/  0.243550, tr:  99.25%, val:  97.98%, val_best:  98.11%: 100%|██████████| 375/375 [01:20<00:00,  4.66it/s]\n",
      "epoch-185 lr=['0.0010000'], tr/val_loss:  0.174547/  0.246034, tr:  99.29%, val:  97.79%, val_best:  98.11%: 100%|██████████| 375/375 [01:19<00:00,  4.70it/s]"
     ]
    },
    {
     "name": "stdout",
     "output_type": "stream",
     "text": [
      "Domain loss,acc: 0.772034, 99.60% Target domain: tr_loss-3.161981, tr_acc-61.78%\n",
      "4,000c1dFalset10:97.79%:98.11% | 1,000c1dFalset10:65.59%:69.01%\n"
     ]
    },
    {
     "name": "stderr",
     "output_type": "stream",
     "text": [
      "\n",
      "epoch-186 lr=['0.0010000'], tr/val_loss:  0.174953/  0.241740, tr:  99.30%, val:  98.03%, val_best:  98.11%: 100%|██████████| 375/375 [01:20<00:00,  4.66it/s]"
     ]
    },
    {
     "name": "stdout",
     "output_type": "stream",
     "text": [
      "Domain loss,acc: 0.768595, 99.61% Target domain: tr_loss-3.143161, tr_acc-61.98%\n",
      "4,000c1dFalset10:98.03%:98.11% | 1,000c1dFalset10:65.03%:69.01%\n"
     ]
    },
    {
     "name": "stderr",
     "output_type": "stream",
     "text": [
      "\n",
      "epoch-187 lr=['0.0010000'], tr/val_loss:  0.174247/  0.244030, tr:  99.29%, val:  97.90%, val_best:  98.11%: 100%|██████████| 375/375 [01:21<00:00,  4.62it/s]"
     ]
    },
    {
     "name": "stdout",
     "output_type": "stream",
     "text": [
      "Domain loss,acc: 0.773545, 99.61% Target domain: tr_loss-3.170741, tr_acc-61.27%\n",
      "4,000c1dFalset10:97.90%:98.11% | 1,000c1dFalset10:69.51%:69.51%\n"
     ]
    },
    {
     "name": "stderr",
     "output_type": "stream",
     "text": [
      "\n",
      "epoch-188 lr=['0.0010000'], tr/val_loss:  0.174551/  0.240802, tr:  99.26%, val:  98.00%, val_best:  98.11%: 100%|██████████| 375/375 [01:19<00:00,  4.72it/s]"
     ]
    },
    {
     "name": "stdout",
     "output_type": "stream",
     "text": [
      "Domain loss,acc: 0.768369, 99.61% Target domain: tr_loss-3.143640, tr_acc-62.26%\n",
      "4,000c1dFalset10:98.00%:98.11% | 1,000c1dFalset10:65.77%:69.51%\n"
     ]
    },
    {
     "name": "stderr",
     "output_type": "stream",
     "text": [
      "\n",
      "epoch-189 lr=['0.0010000'], tr/val_loss:  0.173756/  0.244575, tr:  99.28%, val:  97.95%, val_best:  98.11%: 100%|██████████| 375/375 [01:20<00:00,  4.65it/s]"
     ]
    },
    {
     "name": "stdout",
     "output_type": "stream",
     "text": [
      "Domain loss,acc: 0.771824, 99.61% Target domain: tr_loss-3.164093, tr_acc-62.12%\n",
      "4,000c1dFalset10:97.95%:98.11% | 1,000c1dFalset10:66.94%:69.51%\n"
     ]
    },
    {
     "name": "stderr",
     "output_type": "stream",
     "text": [
      "\n",
      "epoch-190 lr=['0.0010000'], tr/val_loss:  0.173768/  0.242376, tr:  99.28%, val:  98.03%, val_best:  98.11%: 100%|██████████| 375/375 [01:19<00:00,  4.73it/s]"
     ]
    },
    {
     "name": "stdout",
     "output_type": "stream",
     "text": [
      "Domain loss,acc: 0.771752, 99.61% Target domain: tr_loss-3.163690, tr_acc-61.76%\n",
      "4,000c1dFalset10:98.03%:98.11% | 1,000c1dFalset10:68.58%:69.51%\n"
     ]
    },
    {
     "name": "stderr",
     "output_type": "stream",
     "text": [
      "\n",
      "epoch-191 lr=['0.0010000'], tr/val_loss:  0.172518/  0.244214, tr:  99.30%, val:  97.92%, val_best:  98.11%: 100%|██████████| 375/375 [01:22<00:00,  4.53it/s]"
     ]
    },
    {
     "name": "stdout",
     "output_type": "stream",
     "text": [
      "Domain loss,acc: 0.771273, 99.61% Target domain: tr_loss-3.166294, tr_acc-62.23%\n",
      "4,000c1dFalset10:97.92%:98.11% | 1,000c1dFalset10:68.05%:69.51%\n"
     ]
    },
    {
     "name": "stderr",
     "output_type": "stream",
     "text": [
      "\n",
      "epoch-192 lr=['0.0010000'], tr/val_loss:  0.173090/  0.244510, tr:  99.33%, val:  98.05%, val_best:  98.11%: 100%|██████████| 375/375 [01:20<00:00,  4.68it/s]"
     ]
    },
    {
     "name": "stdout",
     "output_type": "stream",
     "text": [
      "Domain loss,acc: 0.770303, 99.61% Target domain: tr_loss-3.159155, tr_acc-62.28%\n",
      "4,000c1dFalset10:98.05%:98.11% | 1,000c1dFalset10:66.15%:69.51%\n"
     ]
    },
    {
     "name": "stderr",
     "output_type": "stream",
     "text": [
      "\n",
      "epoch-193 lr=['0.0010000'], tr/val_loss:  0.172652/  0.243603, tr:  99.32%, val:  97.91%, val_best:  98.11%: 100%|██████████| 375/375 [01:20<00:00,  4.68it/s]"
     ]
    },
    {
     "name": "stdout",
     "output_type": "stream",
     "text": [
      "Domain loss,acc: 0.774828, 99.62% Target domain: tr_loss-3.183527, tr_acc-61.63%\n",
      "4,000c1dFalset10:97.91%:98.11% | 1,000c1dFalset10:66.46%:69.51%\n"
     ]
    },
    {
     "name": "stderr",
     "output_type": "stream",
     "text": [
      "\n",
      "epoch-194 lr=['0.0010000'], tr/val_loss:  0.172906/  0.244699, tr:  99.30%, val:  98.01%, val_best:  98.11%: 100%|██████████| 375/375 [01:20<00:00,  4.65it/s]"
     ]
    },
    {
     "name": "stdout",
     "output_type": "stream",
     "text": [
      "Domain loss,acc: 0.772539, 99.62% Target domain: tr_loss-3.171076, tr_acc-61.98%\n",
      "4,000c1dFalset10:98.01%:98.11% | 1,000c1dFalset10:65.45%:69.51%\n"
     ]
    },
    {
     "name": "stderr",
     "output_type": "stream",
     "text": [
      "\n",
      "epoch-195 lr=['0.0010000'], tr/val_loss:  0.172899/  0.244178, tr:  99.34%, val:  97.91%, val_best:  98.11%: 100%|██████████| 375/375 [01:20<00:00,  4.64it/s]"
     ]
    },
    {
     "name": "stdout",
     "output_type": "stream",
     "text": [
      "Domain loss,acc: 0.770455, 99.61% Target domain: tr_loss-3.160678, tr_acc-61.92%\n",
      "4,000c1dFalset10:97.91%:98.11% | 1,000c1dFalset10:66.07%:69.51%\n"
     ]
    },
    {
     "name": "stderr",
     "output_type": "stream",
     "text": [
      "\n",
      "epoch-196 lr=['0.0010000'], tr/val_loss:  0.171481/  0.244442, tr:  99.34%, val:  97.98%, val_best:  98.11%: 100%|██████████| 375/375 [01:20<00:00,  4.67it/s]"
     ]
    },
    {
     "name": "stdout",
     "output_type": "stream",
     "text": [
      "Domain loss,acc: 0.769679, 99.62% Target domain: tr_loss-3.162472, tr_acc-62.09%\n",
      "4,000c1dFalset10:97.98%:98.11% | 1,000c1dFalset10:67.02%:69.51%\n"
     ]
    },
    {
     "name": "stderr",
     "output_type": "stream",
     "text": [
      "\n",
      "epoch-197 lr=['0.0010000'], tr/val_loss:  0.172100/  0.245061, tr:  99.34%, val:  97.83%, val_best:  98.11%: 100%|██████████| 375/375 [01:21<00:00,  4.62it/s]"
     ]
    },
    {
     "name": "stdout",
     "output_type": "stream",
     "text": [
      "Domain loss,acc: 0.770686, 99.63% Target domain: tr_loss-3.165029, tr_acc-62.23%\n",
      "4,000c1dFalset10:97.83%:98.11% | 1,000c1dFalset10:65.06%:69.51%\n"
     ]
    },
    {
     "name": "stderr",
     "output_type": "stream",
     "text": [
      "\n",
      "epoch-198 lr=['0.0010000'], tr/val_loss:  0.171208/  0.245462, tr:  99.36%, val:  98.02%, val_best:  98.11%: 100%|██████████| 375/375 [01:21<00:00,  4.60it/s]"
     ]
    },
    {
     "name": "stdout",
     "output_type": "stream",
     "text": [
      "Domain loss,acc: 0.770575, 99.63% Target domain: tr_loss-3.168047, tr_acc-61.98%\n",
      "4,000c1dFalset10:98.02%:98.11% | 1,000c1dFalset10:65.73%:69.51%\n"
     ]
    },
    {
     "name": "stderr",
     "output_type": "stream",
     "text": [
      "\n",
      "epoch-199 lr=['0.0010000'], tr/val_loss:  0.171607/  0.244383, tr:  99.33%, val:  98.00%, val_best:  98.11%: 100%|██████████| 375/375 [01:19<00:00,  4.72it/s]"
     ]
    },
    {
     "name": "stdout",
     "output_type": "stream",
     "text": [
      "Domain loss,acc: 0.772060, 99.63% Target domain: tr_loss-3.173871, tr_acc-61.98%\n",
      "4,000c1dFalset10:98.00%:98.11% | 1,000c1dFalset10:66.59%:69.51%\n"
     ]
    },
    {
     "name": "stderr",
     "output_type": "stream",
     "text": [
      "\n",
      "epoch-200 lr=['0.0010000'], tr/val_loss:  0.170272/  0.243349, tr:  99.35%, val:  98.02%, val_best:  98.11%: 100%|██████████| 375/375 [01:19<00:00,  4.72it/s]"
     ]
    },
    {
     "name": "stdout",
     "output_type": "stream",
     "text": [
      "Domain loss,acc: 0.772079, 99.63% Target domain: tr_loss-3.179308, tr_acc-61.92%\n",
      "4,000c1dFalset10:98.02%:98.11% | 1,000c1dFalset10:66.67%:69.51%\n"
     ]
    },
    {
     "name": "stderr",
     "output_type": "stream",
     "text": [
      "\n",
      "epoch-201 lr=['0.0010000'], tr/val_loss:  0.171264/  0.245462, tr:  99.34%, val:  97.85%, val_best:  98.11%: 100%|██████████| 375/375 [01:21<00:00,  4.58it/s]"
     ]
    },
    {
     "name": "stdout",
     "output_type": "stream",
     "text": [
      "Domain loss,acc: 0.769654, 99.62% Target domain: tr_loss-3.163213, tr_acc-62.49%\n",
      "4,000c1dFalset10:97.85%:98.11% | 1,000c1dFalset10:63.77%:69.51%\n"
     ]
    },
    {
     "name": "stderr",
     "output_type": "stream",
     "text": [
      "\n",
      "epoch-202 lr=['0.0010000'], tr/val_loss:  0.169754/  0.243031, tr:  99.37%, val:  97.98%, val_best:  98.11%: 100%|██████████| 375/375 [01:21<00:00,  4.62it/s]"
     ]
    },
    {
     "name": "stdout",
     "output_type": "stream",
     "text": [
      "Domain loss,acc: 0.770011, 99.60% Target domain: tr_loss-3.171039, tr_acc-61.91%\n",
      "4,000c1dFalset10:97.98%:98.11% | 1,000c1dFalset10:67.47%:69.51%\n"
     ]
    },
    {
     "name": "stderr",
     "output_type": "stream",
     "text": [
      "\n",
      "epoch-203 lr=['0.0010000'], tr/val_loss:  0.170689/  0.244519, tr:  99.34%, val:  98.04%, val_best:  98.11%: 100%|██████████| 375/375 [01:22<00:00,  4.56it/s]"
     ]
    },
    {
     "name": "stdout",
     "output_type": "stream",
     "text": [
      "Domain loss,acc: 0.770284, 99.62% Target domain: tr_loss-3.168662, tr_acc-62.30%\n",
      "4,000c1dFalset10:98.04%:98.11% | 1,000c1dFalset10:65.49%:69.51%\n"
     ]
    },
    {
     "name": "stderr",
     "output_type": "stream",
     "text": [
      "\n",
      "epoch-204 lr=['0.0010000'], tr/val_loss:  0.170523/  0.246860, tr:  99.35%, val:  97.98%, val_best:  98.11%: 100%|██████████| 375/375 [01:21<00:00,  4.60it/s]"
     ]
    },
    {
     "name": "stdout",
     "output_type": "stream",
     "text": [
      "Domain loss,acc: 0.771808, 99.60% Target domain: tr_loss-3.176948, tr_acc-62.09%\n",
      "4,000c1dFalset10:97.98%:98.11% | 1,000c1dFalset10:66.38%:69.51%\n"
     ]
    },
    {
     "name": "stderr",
     "output_type": "stream",
     "text": [
      "\n",
      "epoch-205 lr=['0.0010000'], tr/val_loss:  0.169661/  0.245542, tr:  99.33%, val:  97.97%, val_best:  98.11%: 100%|██████████| 375/375 [01:20<00:00,  4.68it/s]"
     ]
    },
    {
     "name": "stdout",
     "output_type": "stream",
     "text": [
      "Domain loss,acc: 0.769940, 99.61% Target domain: tr_loss-3.171056, tr_acc-62.20%\n",
      "4,000c1dFalset10:97.97%:98.11% | 1,000c1dFalset10:67.84%:69.51%\n"
     ]
    },
    {
     "name": "stderr",
     "output_type": "stream",
     "text": [
      "\n",
      "epoch-206 lr=['0.0010000'], tr/val_loss:  0.169285/  0.244385, tr:  99.36%, val:  97.99%, val_best:  98.11%: 100%|██████████| 375/375 [01:21<00:00,  4.59it/s]"
     ]
    },
    {
     "name": "stdout",
     "output_type": "stream",
     "text": [
      "Domain loss,acc: 0.770496, 99.62% Target domain: tr_loss-3.175338, tr_acc-62.15%\n",
      "4,000c1dFalset10:97.99%:98.11% | 1,000c1dFalset10:65.36%:69.51%\n"
     ]
    },
    {
     "name": "stderr",
     "output_type": "stream",
     "text": [
      "\n",
      "epoch-207 lr=['0.0010000'], tr/val_loss:  0.169621/  0.246716, tr:  99.33%, val:  98.03%, val_best:  98.11%: 100%|██████████| 375/375 [01:20<00:00,  4.64it/s]"
     ]
    },
    {
     "name": "stdout",
     "output_type": "stream",
     "text": [
      "Domain loss,acc: 0.770401, 99.62% Target domain: tr_loss-3.173521, tr_acc-62.30%\n",
      "4,000c1dFalset10:98.03%:98.11% | 1,000c1dFalset10:67.62%:69.51%\n"
     ]
    },
    {
     "name": "stderr",
     "output_type": "stream",
     "text": [
      "\n",
      "epoch-208 lr=['0.0010000'], tr/val_loss:  0.169511/  0.245428, tr:  99.35%, val:  97.91%, val_best:  98.11%: 100%|██████████| 375/375 [01:20<00:00,  4.66it/s]"
     ]
    },
    {
     "name": "stdout",
     "output_type": "stream",
     "text": [
      "Domain loss,acc: 0.770392, 99.63% Target domain: tr_loss-3.173918, tr_acc-62.18%\n",
      "4,000c1dFalset10:97.91%:98.11% | 1,000c1dFalset10:66.42%:69.51%\n"
     ]
    },
    {
     "name": "stderr",
     "output_type": "stream",
     "text": [
      "\n",
      "epoch-209 lr=['0.0010000'], tr/val_loss:  0.168476/  0.246432, tr:  99.37%, val:  97.96%, val_best:  98.11%: 100%|██████████| 375/375 [01:19<00:00,  4.71it/s]"
     ]
    },
    {
     "name": "stdout",
     "output_type": "stream",
     "text": [
      "Domain loss,acc: 0.772249, 99.61% Target domain: tr_loss-3.187343, tr_acc-62.12%\n",
      "4,000c1dFalset10:97.96%:98.11% | 1,000c1dFalset10:67.69%:69.51%\n"
     ]
    },
    {
     "name": "stderr",
     "output_type": "stream",
     "text": [
      "\n",
      "epoch-210 lr=['0.0010000'], tr/val_loss:  0.168618/  0.246996, tr:  99.34%, val:  98.03%, val_best:  98.11%: 100%|██████████| 375/375 [01:45<00:00,  3.57it/s]"
     ]
    },
    {
     "name": "stdout",
     "output_type": "stream",
     "text": [
      "Domain loss,acc: 0.773206, 99.61% Target domain: tr_loss-3.191559, tr_acc-61.86%\n",
      "4,000c1dFalset10:98.03%:98.11% | 1,000c1dFalset10:67.71%:69.51%\n"
     ]
    },
    {
     "name": "stderr",
     "output_type": "stream",
     "text": [
      "\n",
      "epoch-211 lr=['0.0010000'], tr/val_loss:  0.168913/  0.244403, tr:  99.33%, val:  97.94%, val_best:  98.11%: 100%|██████████| 375/375 [01:20<00:00,  4.67it/s]"
     ]
    },
    {
     "name": "stdout",
     "output_type": "stream",
     "text": [
      "Domain loss,acc: 0.768173, 99.64% Target domain: tr_loss-3.165210, tr_acc-62.56%\n",
      "4,000c1dFalset10:97.94%:98.11% | 1,000c1dFalset10:65.93%:69.51%\n"
     ]
    },
    {
     "name": "stderr",
     "output_type": "stream",
     "text": [
      "\n",
      "epoch-212 lr=['0.0010000'], tr/val_loss:  0.168570/  0.243728, tr:  99.33%, val:  97.95%, val_best:  98.11%: 100%|██████████| 375/375 [01:20<00:00,  4.65it/s]"
     ]
    },
    {
     "name": "stdout",
     "output_type": "stream",
     "text": [
      "Domain loss,acc: 0.772869, 99.63% Target domain: tr_loss-3.190062, tr_acc-62.46%\n",
      "4,000c1dFalset10:97.95%:98.11% | 1,000c1dFalset10:65.23%:69.51%\n"
     ]
    },
    {
     "name": "stderr",
     "output_type": "stream",
     "text": [
      "\n",
      "epoch-213 lr=['0.0010000'], tr/val_loss:  0.167875/  0.243932, tr:  99.36%, val:  97.94%, val_best:  98.11%: 100%|██████████| 375/375 [01:21<00:00,  4.62it/s]"
     ]
    },
    {
     "name": "stdout",
     "output_type": "stream",
     "text": [
      "Domain loss,acc: 0.767142, 99.64% Target domain: tr_loss-3.164211, tr_acc-62.93%\n",
      "4,000c1dFalset10:97.94%:98.11% | 1,000c1dFalset10:63.87%:69.51%\n"
     ]
    },
    {
     "name": "stderr",
     "output_type": "stream",
     "text": [
      "\n",
      "epoch-214 lr=['0.0010000'], tr/val_loss:  0.167905/  0.244537, tr:  99.37%, val:  97.93%, val_best:  98.11%: 100%|██████████| 375/375 [01:19<00:00,  4.73it/s]"
     ]
    },
    {
     "name": "stdout",
     "output_type": "stream",
     "text": [
      "Domain loss,acc: 0.771687, 99.61% Target domain: tr_loss-3.186817, tr_acc-62.48%\n",
      "4,000c1dFalset10:97.93%:98.11% | 1,000c1dFalset10:68.14%:69.51%\n"
     ]
    },
    {
     "name": "stderr",
     "output_type": "stream",
     "text": [
      "\n",
      "epoch-215 lr=['0.0010000'], tr/val_loss:  0.167734/  0.245230, tr:  99.38%, val:  97.96%, val_best:  98.11%: 100%|██████████| 375/375 [01:20<00:00,  4.64it/s]"
     ]
    },
    {
     "name": "stdout",
     "output_type": "stream",
     "text": [
      "Domain loss,acc: 0.772840, 99.61% Target domain: tr_loss-3.193265, tr_acc-62.43%\n",
      "4,000c1dFalset10:97.96%:98.11% | 1,000c1dFalset10:69.14%:69.51%\n"
     ]
    },
    {
     "name": "stderr",
     "output_type": "stream",
     "text": [
      "\n",
      "epoch-216 lr=['0.0010000'], tr/val_loss:  0.167128/  0.245182, tr:  99.41%, val:  98.03%, val_best:  98.11%: 100%|██████████| 375/375 [01:19<00:00,  4.70it/s]"
     ]
    },
    {
     "name": "stdout",
     "output_type": "stream",
     "text": [
      "Domain loss,acc: 0.766352, 99.64% Target domain: tr_loss-3.163250, tr_acc-62.72%\n",
      "4,000c1dFalset10:98.03%:98.11% | 1,000c1dFalset10:64.20%:69.51%\n"
     ]
    },
    {
     "name": "stderr",
     "output_type": "stream",
     "text": [
      "\n",
      "epoch-217 lr=['0.0010000'], tr/val_loss:  0.167105/  0.245546, tr:  99.37%, val:  98.01%, val_best:  98.11%: 100%|██████████| 375/375 [01:22<00:00,  4.87s/it]"
     ]
    },
    {
     "name": "stdout",
     "output_type": "stream",
     "text": [
      "Domain loss,acc: 0.769082, 99.63% Target domain: tr_loss-3.176990, tr_acc-62.48%\n",
      "4,000c1dFalset10:98.01%:98.11% | 1,000c1dFalset10:65.79%:69.51%\n"
     ]
    },
    {
     "name": "stderr",
     "output_type": "stream",
     "text": [
      "epoch-217 lr=['0.0010000'], tr/val_loss:  0.167105/  0.245546, tr:  99.37%, val:  98.01%, val_best:  98.11%: 100%|██████████| 375/375 [01:22<00:00,  4.54it/s]\n",
      "epoch-218 lr=['0.0010000'], tr/val_loss:  0.167165/  0.245555, tr:  99.38%, val:  97.94%, val_best:  98.11%: 100%|██████████| 375/375 [01:27<00:00,  4.29it/s]"
     ]
    },
    {
     "name": "stdout",
     "output_type": "stream",
     "text": [
      "Domain loss,acc: 0.773373, 99.64% Target domain: tr_loss-3.198205, tr_acc-62.08%\n",
      "4,000c1dFalset10:97.94%:98.11% | 1,000c1dFalset10:65.94%:69.51%\n"
     ]
    },
    {
     "name": "stderr",
     "output_type": "stream",
     "text": [
      "\n",
      "epoch-219 lr=['0.0010000'], tr/val_loss:  0.166452/  0.245985, tr:  99.39%, val:  97.99%, val_best:  98.11%: 100%|██████████| 375/375 [01:24<00:00,  4.92s/it]"
     ]
    },
    {
     "name": "stdout",
     "output_type": "stream",
     "text": [
      "Domain loss,acc: 0.770283, 99.62% Target domain: tr_loss-3.185608, tr_acc-62.44%\n",
      "4,000c1dFalset10:97.99%:98.11% | 1,000c1dFalset10:67.49%:69.51%\n"
     ]
    },
    {
     "name": "stderr",
     "output_type": "stream",
     "text": [
      "epoch-219 lr=['0.0010000'], tr/val_loss:  0.166452/  0.245985, tr:  99.39%, val:  97.99%, val_best:  98.11%: 100%|██████████| 375/375 [01:24<00:00,  4.42it/s]\n",
      "epoch-220 lr=['0.0010000'], tr/val_loss:  0.166188/  0.247232, tr:  99.40%, val:  97.97%, val_best:  98.11%: 100%|██████████| 375/375 [01:28<00:00,  4.24it/s]"
     ]
    },
    {
     "name": "stdout",
     "output_type": "stream",
     "text": [
      "Domain loss,acc: 0.772981, 99.62% Target domain: tr_loss-3.200148, tr_acc-62.12%\n",
      "4,000c1dFalset10:97.97%:98.11% | 1,000c1dFalset10:67.77%:69.51%\n"
     ]
    },
    {
     "name": "stderr",
     "output_type": "stream",
     "text": [
      "\n",
      "epoch-221 lr=['0.0010000'], tr/val_loss:  0.166000/  0.247969, tr:  99.38%, val:  98.02%, val_best:  98.11%: 100%|██████████| 375/375 [01:25<00:00,  4.39it/s]"
     ]
    },
    {
     "name": "stdout",
     "output_type": "stream",
     "text": [
      "Domain loss,acc: 0.766640, 99.65% Target domain: tr_loss-3.169202, tr_acc-63.03%\n",
      "4,000c1dFalset10:98.02%:98.11% | 1,000c1dFalset10:64.06%:69.51%\n"
     ]
    },
    {
     "name": "stderr",
     "output_type": "stream",
     "text": [
      "\n",
      "epoch-222 lr=['0.0010000'], tr/val_loss:  0.167160/  0.247535, tr:  99.39%, val:  97.90%, val_best:  98.11%: 100%|██████████| 375/375 [01:24<00:00,  4.43it/s]"
     ]
    },
    {
     "name": "stdout",
     "output_type": "stream",
     "text": [
      "Domain loss,acc: 0.772618, 99.61% Target domain: tr_loss-3.194452, tr_acc-62.61%\n",
      "4,000c1dFalset10:97.90%:98.11% | 1,000c1dFalset10:64.63%:69.51%\n"
     ]
    },
    {
     "name": "stderr",
     "output_type": "stream",
     "text": [
      "\n",
      "epoch-223 lr=['0.0010000'], tr/val_loss:  0.165686/  0.248674, tr:  99.37%, val:  98.02%, val_best:  98.11%: 100%|██████████| 375/375 [01:22<00:00,  4.53it/s]"
     ]
    },
    {
     "name": "stdout",
     "output_type": "stream",
     "text": [
      "Domain loss,acc: 0.771432, 99.66% Target domain: tr_loss-3.194415, tr_acc-62.61%\n",
      "4,000c1dFalset10:98.02%:98.11% | 1,000c1dFalset10:68.23%:69.51%\n"
     ]
    },
    {
     "name": "stderr",
     "output_type": "stream",
     "text": [
      "\n",
      "epoch-224 lr=['0.0010000'], tr/val_loss:  0.165641/  0.246255, tr:  99.40%, val:  98.06%, val_best:  98.11%: 100%|██████████| 375/375 [01:21<00:00,  4.60it/s]"
     ]
    },
    {
     "name": "stdout",
     "output_type": "stream",
     "text": [
      "Domain loss,acc: 0.771259, 99.62% Target domain: tr_loss-3.193731, tr_acc-62.72%\n",
      "4,000c1dFalset10:98.06%:98.11% | 1,000c1dFalset10:66.42%:69.51%\n"
     ]
    },
    {
     "name": "stderr",
     "output_type": "stream",
     "text": [
      "\n",
      "epoch-225 lr=['0.0010000'], tr/val_loss:  0.165679/  0.248946, tr:  99.41%, val:  97.94%, val_best:  98.11%: 100%|██████████| 375/375 [01:26<00:00,  4.34it/s]"
     ]
    },
    {
     "name": "stdout",
     "output_type": "stream",
     "text": [
      "Domain loss,acc: 0.772984, 99.65% Target domain: tr_loss-3.202204, tr_acc-62.35%\n",
      "4,000c1dFalset10:97.94%:98.11% | 1,000c1dFalset10:69.04%:69.51%\n"
     ]
    },
    {
     "name": "stderr",
     "output_type": "stream",
     "text": [
      "\n",
      "epoch-226 lr=['0.0010000'], tr/val_loss:  0.165531/  0.247076, tr:  99.40%, val:  98.04%, val_best:  98.11%: 100%|██████████| 375/375 [01:21<00:00,  4.61it/s]"
     ]
    },
    {
     "name": "stdout",
     "output_type": "stream",
     "text": [
      "Domain loss,acc: 0.769840, 99.63% Target domain: tr_loss-3.187077, tr_acc-62.73%\n",
      "4,000c1dFalset10:98.04%:98.11% | 1,000c1dFalset10:66.29%:69.51%\n"
     ]
    },
    {
     "name": "stderr",
     "output_type": "stream",
     "text": [
      "\n",
      "epoch-227 lr=['0.0010000'], tr/val_loss:  0.164935/  0.249626, tr:  99.39%, val:  97.93%, val_best:  98.11%: 100%|██████████| 375/375 [01:21<00:00,  4.61it/s]"
     ]
    },
    {
     "name": "stdout",
     "output_type": "stream",
     "text": [
      "Domain loss,acc: 0.771238, 99.61% Target domain: tr_loss-3.196448, tr_acc-62.72%\n",
      "4,000c1dFalset10:97.93%:98.11% | 1,000c1dFalset10:67.75%:69.51%\n"
     ]
    },
    {
     "name": "stderr",
     "output_type": "stream",
     "text": [
      "\n",
      "epoch-228 lr=['0.0010000'], tr/val_loss:  0.164842/  0.249797, tr:  99.39%, val:  97.91%, val_best:  98.11%: 100%|██████████| 375/375 [01:27<00:00,  4.31it/s]"
     ]
    },
    {
     "name": "stdout",
     "output_type": "stream",
     "text": [
      "Domain loss,acc: 0.772264, 99.64% Target domain: tr_loss-3.201953, tr_acc-62.62%\n",
      "4,000c1dFalset10:97.91%:98.11% | 1,000c1dFalset10:66.27%:69.51%\n"
     ]
    },
    {
     "name": "stderr",
     "output_type": "stream",
     "text": [
      "\n",
      "epoch-229 lr=['0.0010000'], tr/val_loss:  0.164636/  0.250496, tr:  99.41%, val:  97.83%, val_best:  98.11%: 100%|██████████| 375/375 [01:26<00:00,  4.34it/s]"
     ]
    },
    {
     "name": "stdout",
     "output_type": "stream",
     "text": [
      "Domain loss,acc: 0.772487, 99.64% Target domain: tr_loss-3.203892, tr_acc-62.72%\n",
      "4,000c1dFalset10:97.83%:98.11% | 1,000c1dFalset10:66.95%:69.51%\n"
     ]
    },
    {
     "name": "stderr",
     "output_type": "stream",
     "text": [
      "\n",
      "epoch-230 lr=['0.0010000'], tr/val_loss:  0.164312/  0.248562, tr:  99.42%, val:  98.00%, val_best:  98.11%: 100%|██████████| 375/375 [01:24<00:00,  4.46it/s]"
     ]
    },
    {
     "name": "stdout",
     "output_type": "stream",
     "text": [
      "Domain loss,acc: 0.774776, 99.61% Target domain: tr_loss-3.216632, tr_acc-62.42%\n",
      "4,000c1dFalset10:98.00%:98.11% | 1,000c1dFalset10:66.35%:69.51%\n"
     ]
    },
    {
     "name": "stderr",
     "output_type": "stream",
     "text": [
      "\n",
      "epoch-231 lr=['0.0010000'], tr/val_loss:  0.164244/  0.250756, tr:  99.40%, val:  97.88%, val_best:  98.11%: 100%|██████████| 375/375 [01:20<00:00,  4.67it/s]"
     ]
    },
    {
     "name": "stdout",
     "output_type": "stream",
     "text": [
      "Domain loss,acc: 0.774566, 99.63% Target domain: tr_loss-3.215849, tr_acc-62.33%\n",
      "4,000c1dFalset10:97.88%:98.11% | 1,000c1dFalset10:67.39%:69.51%\n"
     ]
    },
    {
     "name": "stderr",
     "output_type": "stream",
     "text": [
      "\n",
      "epoch-232 lr=['0.0010000'], tr/val_loss:  0.163794/  0.252384, tr:  99.41%, val:  97.93%, val_best:  98.11%: 100%|██████████| 375/375 [01:24<00:00,  4.44it/s]"
     ]
    },
    {
     "name": "stdout",
     "output_type": "stream",
     "text": [
      "Domain loss,acc: 0.772909, 99.65% Target domain: tr_loss-3.209372, tr_acc-62.92%\n",
      "4,000c1dFalset10:97.93%:98.11% | 1,000c1dFalset10:66.96%:69.51%\n"
     ]
    },
    {
     "name": "stderr",
     "output_type": "stream",
     "text": [
      "\n",
      "epoch-233 lr=['0.0010000'], tr/val_loss:  0.163843/  0.250801, tr:  99.40%, val:  97.89%, val_best:  98.11%: 100%|██████████| 375/375 [01:20<00:00,  4.67it/s]"
     ]
    },
    {
     "name": "stdout",
     "output_type": "stream",
     "text": [
      "Domain loss,acc: 0.770965, 99.64% Target domain: tr_loss-3.199456, tr_acc-62.95%\n",
      "4,000c1dFalset10:97.89%:98.11% | 1,000c1dFalset10:68.78%:69.51%\n"
     ]
    },
    {
     "name": "stderr",
     "output_type": "stream",
     "text": [
      "\n",
      "epoch-234 lr=['0.0010000'], tr/val_loss:  0.164367/  0.249410, tr:  99.37%, val:  97.99%, val_best:  98.11%: 100%|██████████| 375/375 [01:19<00:00,  4.69it/s]"
     ]
    },
    {
     "name": "stdout",
     "output_type": "stream",
     "text": [
      "Domain loss,acc: 0.773821, 99.64% Target domain: tr_loss-3.211640, tr_acc-63.18%\n",
      "4,000c1dFalset10:97.99%:98.11% | 1,000c1dFalset10:66.23%:69.51%\n"
     ]
    },
    {
     "name": "stderr",
     "output_type": "stream",
     "text": [
      "\n",
      "epoch-235 lr=['0.0010000'], tr/val_loss:  0.163074/  0.250565, tr:  99.42%, val:  97.99%, val_best:  98.11%: 100%|██████████| 375/375 [01:19<00:00,  4.71it/s]"
     ]
    },
    {
     "name": "stdout",
     "output_type": "stream",
     "text": [
      "Domain loss,acc: 0.771406, 99.63% Target domain: tr_loss-3.204738, tr_acc-63.05%\n",
      "4,000c1dFalset10:97.99%:98.11% | 1,000c1dFalset10:68.63%:69.51%\n"
     ]
    },
    {
     "name": "stderr",
     "output_type": "stream",
     "text": [
      "\n",
      "epoch-236 lr=['0.0010000'], tr/val_loss:  0.163364/  0.252561, tr:  99.41%, val:  97.94%, val_best:  98.11%: 100%|██████████| 375/375 [01:22<00:00,  4.53it/s]"
     ]
    },
    {
     "name": "stdout",
     "output_type": "stream",
     "text": [
      "Domain loss,acc: 0.774506, 99.65% Target domain: tr_loss-3.219076, tr_acc-62.78%\n",
      "4,000c1dFalset10:97.94%:98.11% | 1,000c1dFalset10:68.23%:69.51%\n"
     ]
    },
    {
     "name": "stderr",
     "output_type": "stream",
     "text": [
      "\n",
      "epoch-237 lr=['0.0010000'], tr/val_loss:  0.162624/  0.251129, tr:  99.42%, val:  98.01%, val_best:  98.11%: 100%|██████████| 375/375 [01:46<00:00,  3.52it/s]"
     ]
    },
    {
     "name": "stdout",
     "output_type": "stream",
     "text": [
      "Domain loss,acc: 0.776019, 99.65% Target domain: tr_loss-3.229598, tr_acc-62.74%\n",
      "4,000c1dFalset10:98.01%:98.11% | 1,000c1dFalset10:67.11%:69.51%\n"
     ]
    },
    {
     "name": "stderr",
     "output_type": "stream",
     "text": [
      "\n",
      "epoch-238 lr=['0.0010000'], tr/val_loss:  0.162825/  0.252592, tr:  99.42%, val:  97.85%, val_best:  98.11%: 100%|██████████| 375/375 [01:21<00:00,  4.62it/s]"
     ]
    },
    {
     "name": "stdout",
     "output_type": "stream",
     "text": [
      "Domain loss,acc: 0.776312, 99.63% Target domain: tr_loss-3.230257, tr_acc-62.41%\n",
      "4,000c1dFalset10:97.85%:98.11% | 1,000c1dFalset10:66.46%:69.51%\n"
     ]
    },
    {
     "name": "stderr",
     "output_type": "stream",
     "text": [
      "\n",
      "epoch-239 lr=['0.0010000'], tr/val_loss:  0.162733/  0.250123, tr:  99.40%, val:  97.96%, val_best:  98.11%: 100%|██████████| 375/375 [01:20<00:00,  4.66it/s]"
     ]
    },
    {
     "name": "stdout",
     "output_type": "stream",
     "text": [
      "Domain loss,acc: 0.772996, 99.62% Target domain: tr_loss-3.214052, tr_acc-62.90%\n",
      "4,000c1dFalset10:97.96%:98.11% | 1,000c1dFalset10:66.69%:69.51%\n"
     ]
    },
    {
     "name": "stderr",
     "output_type": "stream",
     "text": [
      "\n",
      "epoch-240 lr=['0.0010000'], tr/val_loss:  0.162143/  0.251859, tr:  99.41%, val:  97.98%, val_best:  98.11%: 100%|██████████| 375/375 [01:19<00:00,  4.69it/s]"
     ]
    },
    {
     "name": "stdout",
     "output_type": "stream",
     "text": [
      "Domain loss,acc: 0.777321, 99.63% Target domain: tr_loss-3.238030, tr_acc-62.39%\n",
      "4,000c1dFalset10:97.98%:98.11% | 1,000c1dFalset10:65.97%:69.51%\n"
     ]
    },
    {
     "name": "stderr",
     "output_type": "stream",
     "text": [
      "\n",
      "epoch-241 lr=['0.0010000'], tr/val_loss:  0.161553/  0.250749, tr:  99.40%, val:  97.96%, val_best:  98.11%: 100%|██████████| 375/375 [01:20<00:00,  4.64it/s]"
     ]
    },
    {
     "name": "stdout",
     "output_type": "stream",
     "text": [
      "Domain loss,acc: 0.775621, 99.66% Target domain: tr_loss-3.231889, tr_acc-62.74%\n",
      "4,000c1dFalset10:97.96%:98.11% | 1,000c1dFalset10:67.32%:69.51%\n"
     ]
    },
    {
     "name": "stderr",
     "output_type": "stream",
     "text": [
      "\n",
      "epoch-242 lr=['0.0010000'], tr/val_loss:  0.161524/  0.250880, tr:  99.41%, val:  97.94%, val_best:  98.11%: 100%|██████████| 375/375 [01:20<00:00,  4.64it/s]"
     ]
    },
    {
     "name": "stdout",
     "output_type": "stream",
     "text": [
      "Domain loss,acc: 0.774198, 99.66% Target domain: tr_loss-3.224894, tr_acc-63.00%\n",
      "4,000c1dFalset10:97.94%:98.11% | 1,000c1dFalset10:65.94%:69.51%\n"
     ]
    },
    {
     "name": "stderr",
     "output_type": "stream",
     "text": [
      "\n",
      "epoch-243 lr=['0.0010000'], tr/val_loss:  0.161615/  0.251234, tr:  99.39%, val:  97.94%, val_best:  98.11%: 100%|██████████| 375/375 [01:20<00:00,  4.67it/s]"
     ]
    },
    {
     "name": "stdout",
     "output_type": "stream",
     "text": [
      "Domain loss,acc: 0.776753, 99.63% Target domain: tr_loss-3.237305, tr_acc-62.89%\n",
      "4,000c1dFalset10:97.94%:98.11% | 1,000c1dFalset10:66.86%:69.51%\n"
     ]
    },
    {
     "name": "stderr",
     "output_type": "stream",
     "text": [
      "\n",
      "epoch-244 lr=['0.0010000'], tr/val_loss:  0.161221/  0.250029, tr:  99.41%, val:  98.02%, val_best:  98.11%: 100%|██████████| 375/375 [01:21<00:00,  4.62it/s]"
     ]
    },
    {
     "name": "stdout",
     "output_type": "stream",
     "text": [
      "Domain loss,acc: 0.776191, 99.60% Target domain: tr_loss-3.236065, tr_acc-62.92%\n",
      "4,000c1dFalset10:98.02%:98.11% | 1,000c1dFalset10:69.13%:69.51%\n"
     ]
    },
    {
     "name": "stderr",
     "output_type": "stream",
     "text": [
      "\n",
      "epoch-245 lr=['0.0010000'], tr/val_loss:  0.160908/  0.251372, tr:  99.43%, val:  97.95%, val_best:  98.11%: 100%|██████████| 375/375 [01:21<00:00,  4.59it/s]"
     ]
    },
    {
     "name": "stdout",
     "output_type": "stream",
     "text": [
      "Domain loss,acc: 0.777628, 99.64% Target domain: tr_loss-3.244503, tr_acc-62.93%\n",
      "4,000c1dFalset10:97.95%:98.11% | 1,000c1dFalset10:66.11%:69.51%\n"
     ]
    },
    {
     "name": "stderr",
     "output_type": "stream",
     "text": [
      "\n",
      "epoch-246 lr=['0.0010000'], tr/val_loss:  0.161031/  0.252647, tr:  99.43%, val:  98.03%, val_best:  98.11%: 100%|██████████| 375/375 [01:20<00:00,  4.65it/s]"
     ]
    },
    {
     "name": "stdout",
     "output_type": "stream",
     "text": [
      "Domain loss,acc: 0.778363, 99.64% Target domain: tr_loss-3.247692, tr_acc-62.65%\n",
      "4,000c1dFalset10:98.03%:98.11% | 1,000c1dFalset10:67.29%:69.51%\n"
     ]
    },
    {
     "name": "stderr",
     "output_type": "stream",
     "text": [
      "\n",
      "epoch-247 lr=['0.0010000'], tr/val_loss:  0.161794/  0.253435, tr:  99.41%, val:  97.89%, val_best:  98.11%: 100%|██████████| 375/375 [01:21<00:00,  4.61it/s]"
     ]
    },
    {
     "name": "stdout",
     "output_type": "stream",
     "text": [
      "Domain loss,acc: 0.779964, 99.65% Target domain: tr_loss-3.252645, tr_acc-62.62%\n",
      "4,000c1dFalset10:97.89%:98.11% | 1,000c1dFalset10:68.64%:69.51%\n"
     ]
    },
    {
     "name": "stderr",
     "output_type": "stream",
     "text": [
      "\n",
      "epoch-248 lr=['0.0010000'], tr/val_loss:  0.161002/  0.252450, tr:  99.40%, val:  97.82%, val_best:  98.11%: 100%|██████████| 375/375 [01:19<00:00,  4.82s/it]"
     ]
    },
    {
     "name": "stdout",
     "output_type": "stream",
     "text": [
      "Domain loss,acc: 0.778945, 99.64% Target domain: tr_loss-3.250716, tr_acc-62.82%\n",
      "4,000c1dFalset10:97.82%:98.11% | 1,000c1dFalset10:66.87%:69.51%\n"
     ]
    },
    {
     "name": "stderr",
     "output_type": "stream",
     "text": [
      "epoch-248 lr=['0.0010000'], tr/val_loss:  0.161002/  0.252450, tr:  99.40%, val:  97.82%, val_best:  98.11%: 100%|██████████| 375/375 [01:19<00:00,  4.69it/s]\n",
      "epoch-249 lr=['0.0010000'], tr/val_loss:  0.160864/  0.252772, tr:  99.42%, val:  97.90%, val_best:  98.11%: 100%|██████████| 375/375 [01:20<00:00,  4.67it/s]"
     ]
    },
    {
     "name": "stdout",
     "output_type": "stream",
     "text": [
      "Domain loss,acc: 0.782078, 99.64% Target domain: tr_loss-3.266933, tr_acc-62.45%\n",
      "4,000c1dFalset10:97.90%:98.11% | 1,000c1dFalset10:68.42%:69.51%\n"
     ]
    },
    {
     "name": "stderr",
     "output_type": "stream",
     "text": [
      "\n",
      "epoch-250 lr=['0.0010000'], tr/val_loss:  0.160847/  0.250814, tr:  99.42%, val:  97.95%, val_best:  98.11%: 100%|██████████| 375/375 [01:21<00:00,  4.62it/s]"
     ]
    },
    {
     "name": "stdout",
     "output_type": "stream",
     "text": [
      "Domain loss,acc: 0.778305, 99.65% Target domain: tr_loss-3.248136, tr_acc-62.99%\n",
      "4,000c1dFalset10:97.95%:98.11% | 1,000c1dFalset10:67.28%:69.51%\n"
     ]
    },
    {
     "name": "stderr",
     "output_type": "stream",
     "text": [
      "\n",
      "epoch-251 lr=['0.0010000'], tr/val_loss:  0.160355/  0.253736, tr:  99.44%, val:  97.98%, val_best:  98.11%: 100%|██████████| 375/375 [01:20<00:00,  4.68it/s]"
     ]
    },
    {
     "name": "stdout",
     "output_type": "stream",
     "text": [
      "Domain loss,acc: 0.780674, 99.64% Target domain: tr_loss-3.261949, tr_acc-62.79%\n",
      "4,000c1dFalset10:97.98%:98.11% | 1,000c1dFalset10:67.70%:69.51%\n"
     ]
    },
    {
     "name": "stderr",
     "output_type": "stream",
     "text": [
      "\n",
      "epoch-252 lr=['0.0010000'], tr/val_loss:  0.160191/  0.252107, tr:  99.43%, val:  97.93%, val_best:  98.11%: 100%|██████████| 375/375 [01:19<00:00,  4.73it/s]"
     ]
    },
    {
     "name": "stdout",
     "output_type": "stream",
     "text": [
      "Domain loss,acc: 0.778999, 99.61% Target domain: tr_loss-3.254229, tr_acc-62.74%\n",
      "4,000c1dFalset10:97.93%:98.11% | 1,000c1dFalset10:66.52%:69.51%\n"
     ]
    },
    {
     "name": "stderr",
     "output_type": "stream",
     "text": [
      "\n",
      "epoch-253 lr=['0.0010000'], tr/val_loss:  0.160217/  0.254545, tr:  99.43%, val:  97.83%, val_best:  98.11%: 100%|██████████| 375/375 [01:20<00:00,  4.63it/s]"
     ]
    },
    {
     "name": "stdout",
     "output_type": "stream",
     "text": [
      "Domain loss,acc: 0.782253, 99.65% Target domain: tr_loss-3.270400, tr_acc-62.59%\n",
      "4,000c1dFalset10:97.83%:98.11% | 1,000c1dFalset10:68.31%:69.51%\n"
     ]
    },
    {
     "name": "stderr",
     "output_type": "stream",
     "text": [
      "\n",
      "epoch-254 lr=['0.0010000'], tr/val_loss:  0.159210/  0.249933, tr:  99.42%, val:  97.95%, val_best:  98.11%: 100%|██████████| 375/375 [01:21<00:00,  4.62it/s]"
     ]
    },
    {
     "name": "stdout",
     "output_type": "stream",
     "text": [
      "Domain loss,acc: 0.776879, 99.62% Target domain: tr_loss-3.247556, tr_acc-63.31%\n",
      "4,000c1dFalset10:97.95%:98.11% | 1,000c1dFalset10:66.65%:69.51%\n"
     ]
    },
    {
     "name": "stderr",
     "output_type": "stream",
     "text": [
      "\n",
      "epoch-255 lr=['0.0010000'], tr/val_loss:  0.159588/  0.254058, tr:  99.42%, val:  97.86%, val_best:  98.11%: 100%|██████████| 375/375 [01:20<00:00,  4.67it/s]"
     ]
    },
    {
     "name": "stdout",
     "output_type": "stream",
     "text": [
      "Domain loss,acc: 0.775468, 99.65% Target domain: tr_loss-3.238989, tr_acc-63.40%\n",
      "4,000c1dFalset10:97.86%:98.11% | 1,000c1dFalset10:66.44%:69.51%\n"
     ]
    },
    {
     "name": "stderr",
     "output_type": "stream",
     "text": [
      "\n",
      "epoch-256 lr=['0.0010000'], tr/val_loss:  0.159401/  0.251777, tr:  99.45%, val:  97.86%, val_best:  98.11%: 100%|██████████| 375/375 [01:21<00:00,  4.63it/s]"
     ]
    },
    {
     "name": "stdout",
     "output_type": "stream",
     "text": [
      "Domain loss,acc: 0.781594, 99.66% Target domain: tr_loss-3.270367, tr_acc-62.50%\n",
      "4,000c1dFalset10:97.86%:98.11% | 1,000c1dFalset10:66.92%:69.51%\n"
     ]
    },
    {
     "name": "stderr",
     "output_type": "stream",
     "text": [
      "\n",
      "epoch-257 lr=['0.0010000'], tr/val_loss:  0.159524/  0.251776, tr:  99.43%, val:  97.96%, val_best:  98.11%: 100%|██████████| 375/375 [01:21<00:00,  4.62it/s]"
     ]
    },
    {
     "name": "stdout",
     "output_type": "stream",
     "text": [
      "Domain loss,acc: 0.781064, 99.66% Target domain: tr_loss-3.267223, tr_acc-62.94%\n",
      "4,000c1dFalset10:97.96%:98.11% | 1,000c1dFalset10:68.53%:69.51%\n"
     ]
    },
    {
     "name": "stderr",
     "output_type": "stream",
     "text": [
      "\n",
      "epoch-258 lr=['0.0010000'], tr/val_loss:  0.158851/  0.253702, tr:  99.45%, val:  97.83%, val_best:  98.11%: 100%|██████████| 375/375 [01:21<00:00,  4.61it/s]"
     ]
    },
    {
     "name": "stdout",
     "output_type": "stream",
     "text": [
      "Domain loss,acc: 0.778911, 99.65% Target domain: tr_loss-3.259147, tr_acc-63.07%\n",
      "4,000c1dFalset10:97.83%:98.11% | 1,000c1dFalset10:65.76%:69.51%\n"
     ]
    },
    {
     "name": "stderr",
     "output_type": "stream",
     "text": [
      "\n",
      "epoch-259 lr=['0.0010000'], tr/val_loss:  0.158398/  0.252638, tr:  99.47%, val:  97.84%, val_best:  98.11%: 100%|██████████| 375/375 [01:21<00:00,  4.59it/s]"
     ]
    },
    {
     "name": "stdout",
     "output_type": "stream",
     "text": [
      "Domain loss,acc: 0.779254, 99.63% Target domain: tr_loss-3.262680, tr_acc-63.02%\n",
      "4,000c1dFalset10:97.84%:98.11% | 1,000c1dFalset10:67.66%:69.51%\n"
     ]
    },
    {
     "name": "stderr",
     "output_type": "stream",
     "text": [
      "\n",
      "epoch-260 lr=['0.0010000'], tr/val_loss:  0.159170/  0.252624, tr:  99.45%, val:  97.91%, val_best:  98.11%: 100%|██████████| 375/375 [01:23<00:00,  4.51it/s]"
     ]
    },
    {
     "name": "stdout",
     "output_type": "stream",
     "text": [
      "Domain loss,acc: 0.783791, 99.65% Target domain: tr_loss-3.282277, tr_acc-62.52%\n",
      "4,000c1dFalset10:97.91%:98.11% | 1,000c1dFalset10:67.61%:69.51%\n"
     ]
    },
    {
     "name": "stderr",
     "output_type": "stream",
     "text": [
      "\n",
      "epoch-261 lr=['0.0010000'], tr/val_loss:  0.158806/  0.255479, tr:  99.43%, val:  97.93%, val_best:  98.11%: 100%|██████████| 375/375 [01:19<00:00,  4.71it/s]"
     ]
    },
    {
     "name": "stdout",
     "output_type": "stream",
     "text": [
      "Domain loss,acc: 0.781824, 99.65% Target domain: tr_loss-3.273894, tr_acc-62.72%\n",
      "4,000c1dFalset10:97.93%:98.11% | 1,000c1dFalset10:67.11%:69.51%\n"
     ]
    },
    {
     "name": "stderr",
     "output_type": "stream",
     "text": [
      "\n",
      "epoch-262 lr=['0.0010000'], tr/val_loss:  0.157818/  0.254149, tr:  99.46%, val:  97.93%, val_best:  98.11%: 100%|██████████| 375/375 [01:20<00:00,  4.66it/s]"
     ]
    },
    {
     "name": "stdout",
     "output_type": "stream",
     "text": [
      "Domain loss,acc: 0.780361, 99.66% Target domain: tr_loss-3.270537, tr_acc-63.00%\n",
      "4,000c1dFalset10:97.93%:98.11% | 1,000c1dFalset10:66.29%:69.51%\n"
     ]
    },
    {
     "name": "stderr",
     "output_type": "stream",
     "text": [
      "\n",
      "epoch-263 lr=['0.0010000'], tr/val_loss:  0.158221/  0.254037, tr:  99.44%, val:  97.88%, val_best:  98.11%: 100%|██████████| 375/375 [01:21<00:00,  4.63it/s]"
     ]
    },
    {
     "name": "stdout",
     "output_type": "stream",
     "text": [
      "Domain loss,acc: 0.779602, 99.67% Target domain: tr_loss-3.265125, tr_acc-63.07%\n",
      "4,000c1dFalset10:97.88%:98.11% | 1,000c1dFalset10:65.58%:69.51%\n"
     ]
    },
    {
     "name": "stderr",
     "output_type": "stream",
     "text": [
      "\n",
      "epoch-264 lr=['0.0010000'], tr/val_loss:  0.157648/  0.251310, tr:  99.46%, val:  97.96%, val_best:  98.11%: 100%|██████████| 375/375 [01:21<00:00,  4.58it/s]"
     ]
    },
    {
     "name": "stdout",
     "output_type": "stream",
     "text": [
      "Domain loss,acc: 0.784598, 99.67% Target domain: tr_loss-3.292399, tr_acc-63.01%\n",
      "4,000c1dFalset10:97.96%:98.11% | 1,000c1dFalset10:67.85%:69.51%\n"
     ]
    },
    {
     "name": "stderr",
     "output_type": "stream",
     "text": [
      "\n",
      "epoch-265 lr=['0.0010000'], tr/val_loss:  0.157370/  0.254511, tr:  99.47%, val:  97.89%, val_best:  98.11%: 100%|██████████| 375/375 [01:22<00:00,  4.57it/s]"
     ]
    },
    {
     "name": "stdout",
     "output_type": "stream",
     "text": [
      "Domain loss,acc: 0.779393, 99.63% Target domain: tr_loss-3.267487, tr_acc-63.16%\n",
      "4,000c1dFalset10:97.89%:98.11% | 1,000c1dFalset10:67.52%:69.51%\n"
     ]
    },
    {
     "name": "stderr",
     "output_type": "stream",
     "text": [
      "\n",
      "epoch-266 lr=['0.0010000'], tr/val_loss:  0.157385/  0.253677, tr:  99.44%, val:  98.02%, val_best:  98.11%: 100%|██████████| 375/375 [01:20<00:00,  4.66it/s]"
     ]
    },
    {
     "name": "stdout",
     "output_type": "stream",
     "text": [
      "Domain loss,acc: 0.784548, 99.63% Target domain: tr_loss-3.293204, tr_acc-62.54%\n",
      "4,000c1dFalset10:98.02%:98.11% | 1,000c1dFalset10:68.50%:69.51%\n"
     ]
    },
    {
     "name": "stderr",
     "output_type": "stream",
     "text": [
      "\n",
      "epoch-267 lr=['0.0010000'], tr/val_loss:  0.157583/  0.253579, tr:  99.46%, val:  97.89%, val_best:  98.11%: 100%|██████████| 375/375 [01:21<00:00,  4.59it/s]"
     ]
    },
    {
     "name": "stdout",
     "output_type": "stream",
     "text": [
      "Domain loss,acc: 0.784804, 99.66% Target domain: tr_loss-3.293688, tr_acc-62.73%\n",
      "4,000c1dFalset10:97.89%:98.11% | 1,000c1dFalset10:68.23%:69.51%\n"
     ]
    },
    {
     "name": "stderr",
     "output_type": "stream",
     "text": [
      "\n",
      "epoch-268 lr=['0.0010000'], tr/val_loss:  0.156624/  0.254879, tr:  99.46%, val:  97.99%, val_best:  98.11%: 100%|██████████| 375/375 [01:20<00:00,  4.66it/s]"
     ]
    },
    {
     "name": "stdout",
     "output_type": "stream",
     "text": [
      "Domain loss,acc: 0.779533, 99.66% Target domain: tr_loss-3.271167, tr_acc-63.37%\n",
      "4,000c1dFalset10:97.99%:98.11% | 1,000c1dFalset10:68.05%:69.51%\n"
     ]
    },
    {
     "name": "stderr",
     "output_type": "stream",
     "text": [
      "\n",
      "epoch-269 lr=['0.0010000'], tr/val_loss:  0.156346/  0.254950, tr:  99.49%, val:  97.93%, val_best:  98.11%: 100%|██████████| 375/375 [01:21<00:00,  4.61it/s]"
     ]
    },
    {
     "name": "stdout",
     "output_type": "stream",
     "text": [
      "Domain loss,acc: 0.779325, 99.64% Target domain: tr_loss-3.271241, tr_acc-63.38%\n",
      "4,000c1dFalset10:97.93%:98.11% | 1,000c1dFalset10:66.85%:69.51%\n"
     ]
    },
    {
     "name": "stderr",
     "output_type": "stream",
     "text": [
      "\n",
      "epoch-270 lr=['0.0010000'], tr/val_loss:  0.156193/  0.253089, tr:  99.47%, val:  98.00%, val_best:  98.11%: 100%|██████████| 375/375 [01:20<00:00,  4.66it/s]"
     ]
    },
    {
     "name": "stdout",
     "output_type": "stream",
     "text": [
      "Domain loss,acc: 0.785314, 99.63% Target domain: tr_loss-3.301795, tr_acc-62.66%\n",
      "4,000c1dFalset10:98.00%:98.11% | 1,000c1dFalset10:67.53%:69.51%\n"
     ]
    },
    {
     "name": "stderr",
     "output_type": "stream",
     "text": [
      "\n",
      "epoch-271 lr=['0.0010000'], tr/val_loss:  0.156598/  0.252737, tr:  99.47%, val:  98.01%, val_best:  98.11%: 100%|██████████| 375/375 [01:22<00:00,  4.57it/s]"
     ]
    },
    {
     "name": "stdout",
     "output_type": "stream",
     "text": [
      "Domain loss,acc: 0.783082, 99.65% Target domain: tr_loss-3.289016, tr_acc-62.90%\n",
      "4,000c1dFalset10:98.01%:98.11% | 1,000c1dFalset10:67.28%:69.51%\n"
     ]
    },
    {
     "name": "stderr",
     "output_type": "stream",
     "text": [
      "\n",
      "epoch-272 lr=['0.0010000'], tr/val_loss:  0.156636/  0.254613, tr:  99.45%, val:  97.94%, val_best:  98.11%: 100%|██████████| 375/375 [01:21<00:00,  4.59it/s]"
     ]
    },
    {
     "name": "stdout",
     "output_type": "stream",
     "text": [
      "Domain loss,acc: 0.789008, 99.64% Target domain: tr_loss-3.318497, tr_acc-62.20%\n",
      "4,000c1dFalset10:97.94%:98.11% | 1,000c1dFalset10:67.33%:69.51%\n"
     ]
    },
    {
     "name": "stderr",
     "output_type": "stream",
     "text": [
      "\n",
      "epoch-273 lr=['0.0010000'], tr/val_loss:  0.155710/  0.253810, tr:  99.47%, val:  97.99%, val_best:  98.11%: 100%|██████████| 375/375 [01:19<00:00,  4.71it/s]"
     ]
    },
    {
     "name": "stdout",
     "output_type": "stream",
     "text": [
      "Domain loss,acc: 0.781651, 99.64% Target domain: tr_loss-3.285416, tr_acc-62.92%\n",
      "4,000c1dFalset10:97.99%:98.11% | 1,000c1dFalset10:66.79%:69.51%\n"
     ]
    },
    {
     "name": "stderr",
     "output_type": "stream",
     "text": [
      "\n",
      "epoch-274 lr=['0.0010000'], tr/val_loss:  0.155870/  0.254900, tr:  99.48%, val:  97.95%, val_best:  98.11%: 100%|██████████| 375/375 [01:23<00:00,  4.92s/it]"
     ]
    },
    {
     "name": "stdout",
     "output_type": "stream",
     "text": [
      "Domain loss,acc: 0.784974, 99.66% Target domain: tr_loss-3.301389, tr_acc-62.84%\n",
      "4,000c1dFalset10:97.95%:98.11% | 1,000c1dFalset10:64.71%:69.51%\n"
     ]
    },
    {
     "name": "stderr",
     "output_type": "stream",
     "text": [
      "epoch-274 lr=['0.0010000'], tr/val_loss:  0.155870/  0.254900, tr:  99.48%, val:  97.95%, val_best:  98.11%: 100%|██████████| 375/375 [01:23<00:00,  4.50it/s]\n",
      "epoch-275 lr=['0.0010000'], tr/val_loss:  0.155706/  0.253975, tr:  99.45%, val:  97.91%, val_best:  98.11%: 100%|██████████| 375/375 [01:19<00:00,  4.74it/s]"
     ]
    },
    {
     "name": "stdout",
     "output_type": "stream",
     "text": [
      "Domain loss,acc: 0.785560, 99.64% Target domain: tr_loss-3.304977, tr_acc-62.80%\n",
      "4,000c1dFalset10:97.91%:98.11% | 1,000c1dFalset10:66.62%:69.51%\n"
     ]
    },
    {
     "name": "stderr",
     "output_type": "stream",
     "text": [
      "\n",
      "epoch-276 lr=['0.0010000'], tr/val_loss:  0.155827/  0.260766, tr:  99.46%, val:  97.86%, val_best:  98.11%: 100%|██████████| 375/375 [01:22<00:00,  4.90s/it]"
     ]
    },
    {
     "name": "stdout",
     "output_type": "stream",
     "text": [
      "Domain loss,acc: 0.788173, 99.67% Target domain: tr_loss-3.317558, tr_acc-62.59%\n",
      "4,000c1dFalset10:97.86%:98.11% | 1,000c1dFalset10:70.00%:70.00%\n"
     ]
    },
    {
     "name": "stderr",
     "output_type": "stream",
     "text": [
      "epoch-276 lr=['0.0010000'], tr/val_loss:  0.155827/  0.260766, tr:  99.46%, val:  97.86%, val_best:  98.11%: 100%|██████████| 375/375 [01:22<00:00,  4.53it/s]\n",
      "epoch-277 lr=['0.0010000'], tr/val_loss:  0.155504/  0.258149, tr:  99.51%, val:  97.98%, val_best:  98.11%: 100%|██████████| 375/375 [01:21<00:00,  4.60it/s]"
     ]
    },
    {
     "name": "stdout",
     "output_type": "stream",
     "text": [
      "Domain loss,acc: 0.781247, 99.64% Target domain: tr_loss-3.284220, tr_acc-63.12%\n",
      "4,000c1dFalset10:97.98%:98.11% | 1,000c1dFalset10:68.45%:70.00%\n"
     ]
    },
    {
     "name": "stderr",
     "output_type": "stream",
     "text": [
      "\n",
      "epoch-278 lr=['0.0010000'], tr/val_loss:  0.155049/  0.256571, tr:  99.49%, val:  97.88%, val_best:  98.11%: 100%|██████████| 375/375 [01:20<00:00,  4.64it/s]"
     ]
    },
    {
     "name": "stdout",
     "output_type": "stream",
     "text": [
      "Domain loss,acc: 0.787565, 99.64% Target domain: tr_loss-3.317627, tr_acc-62.75%\n",
      "4,000c1dFalset10:97.88%:98.11% | 1,000c1dFalset10:68.31%:70.00%\n"
     ]
    },
    {
     "name": "stderr",
     "output_type": "stream",
     "text": [
      "\n",
      "epoch-279 lr=['0.0010000'], tr/val_loss:  0.155116/  0.256002, tr:  99.48%, val:  97.94%, val_best:  98.11%: 100%|██████████| 375/375 [01:21<00:00,  4.85s/it]"
     ]
    },
    {
     "name": "stdout",
     "output_type": "stream",
     "text": [
      "Domain loss,acc: 0.783577, 99.65% Target domain: tr_loss-3.297422, tr_acc-63.14%\n",
      "4,000c1dFalset10:97.94%:98.11% | 1,000c1dFalset10:64.13%:70.00%\n"
     ]
    },
    {
     "name": "stderr",
     "output_type": "stream",
     "text": [
      "epoch-279 lr=['0.0010000'], tr/val_loss:  0.155116/  0.256002, tr:  99.48%, val:  97.94%, val_best:  98.11%: 100%|██████████| 375/375 [01:21<00:00,  4.61it/s]\n",
      "epoch-280 lr=['0.0010000'], tr/val_loss:  0.155123/  0.255292, tr:  99.47%, val:  97.93%, val_best:  98.11%: 100%|██████████| 375/375 [01:21<00:00,  4.62it/s]"
     ]
    },
    {
     "name": "stdout",
     "output_type": "stream",
     "text": [
      "Domain loss,acc: 0.790835, 99.65% Target domain: tr_loss-3.333681, tr_acc-62.53%\n",
      "4,000c1dFalset10:97.93%:98.11% | 1,000c1dFalset10:65.96%:70.00%\n"
     ]
    },
    {
     "name": "stderr",
     "output_type": "stream",
     "text": [
      "\n",
      "epoch-281 lr=['0.0010000'], tr/val_loss:  0.154475/  0.255080, tr:  99.48%, val:  97.93%, val_best:  98.11%: 100%|██████████| 375/375 [01:21<00:00,  4.61it/s]"
     ]
    },
    {
     "name": "stdout",
     "output_type": "stream",
     "text": [
      "Domain loss,acc: 0.786375, 99.65% Target domain: tr_loss-3.313976, tr_acc-63.03%\n",
      "4,000c1dFalset10:97.93%:98.11% | 1,000c1dFalset10:66.76%:70.00%\n"
     ]
    },
    {
     "name": "stderr",
     "output_type": "stream",
     "text": [
      "\n",
      "epoch-282 lr=['0.0010000'], tr/val_loss:  0.154457/  0.256999, tr:  99.50%, val:  97.98%, val_best:  98.11%: 100%|██████████| 375/375 [01:21<00:00,  4.62it/s]"
     ]
    },
    {
     "name": "stdout",
     "output_type": "stream",
     "text": [
      "Domain loss,acc: 0.788208, 99.67% Target domain: tr_loss-3.323212, tr_acc-62.68%\n",
      "4,000c1dFalset10:97.98%:98.11% | 1,000c1dFalset10:66.06%:70.00%\n"
     ]
    },
    {
     "name": "stderr",
     "output_type": "stream",
     "text": [
      "\n",
      "epoch-283 lr=['0.0010000'], tr/val_loss:  0.154344/  0.256701, tr:  99.45%, val:  97.93%, val_best:  98.11%: 100%|██████████| 375/375 [01:21<00:00,  4.61it/s]"
     ]
    },
    {
     "name": "stdout",
     "output_type": "stream",
     "text": [
      "Domain loss,acc: 0.790879, 99.65% Target domain: tr_loss-3.337015, tr_acc-62.87%\n",
      "4,000c1dFalset10:97.93%:98.11% | 1,000c1dFalset10:66.03%:70.00%\n"
     ]
    },
    {
     "name": "stderr",
     "output_type": "stream",
     "text": [
      "\n",
      "epoch-284 lr=['0.0010000'], tr/val_loss:  0.153674/  0.256762, tr:  99.51%, val:  97.99%, val_best:  98.11%: 100%|██████████| 375/375 [01:23<00:00,  4.52it/s]"
     ]
    },
    {
     "name": "stdout",
     "output_type": "stream",
     "text": [
      "Domain loss,acc: 0.790107, 99.67% Target domain: tr_loss-3.335836, tr_acc-62.37%\n",
      "4,000c1dFalset10:97.99%:98.11% | 1,000c1dFalset10:69.34%:70.00%\n"
     ]
    },
    {
     "name": "stderr",
     "output_type": "stream",
     "text": [
      "\n",
      "epoch-285 lr=['0.0010000'], tr/val_loss:  0.154537/  0.258127, tr:  99.50%, val:  98.02%, val_best:  98.11%: 100%|██████████| 375/375 [01:21<00:00,  4.59it/s]"
     ]
    },
    {
     "name": "stdout",
     "output_type": "stream",
     "text": [
      "Domain loss,acc: 0.792596, 99.65% Target domain: tr_loss-3.344828, tr_acc-62.26%\n",
      "4,000c1dFalset10:98.02%:98.11% | 1,000c1dFalset10:67.01%:70.00%\n"
     ]
    },
    {
     "name": "stderr",
     "output_type": "stream",
     "text": [
      "\n",
      "epoch-286 lr=['0.0010000'], tr/val_loss:  0.154150/  0.256951, tr:  99.47%, val:  97.97%, val_best:  98.11%: 100%|██████████| 375/375 [02:13<00:00,  2.82it/s]"
     ]
    },
    {
     "name": "stdout",
     "output_type": "stream",
     "text": [
      "Domain loss,acc: 0.787525, 99.66% Target domain: tr_loss-3.321027, tr_acc-62.90%\n",
      "4,000c1dFalset10:97.97%:98.11% | 1,000c1dFalset10:67.15%:70.00%\n"
     ]
    },
    {
     "name": "stderr",
     "output_type": "stream",
     "text": [
      "\n",
      "epoch-287 lr=['0.0010000'], tr/val_loss:  0.153708/  0.256897, tr:  99.50%, val:  98.03%, val_best:  98.11%: 100%|██████████| 375/375 [01:19<00:00,  4.71it/s]"
     ]
    },
    {
     "name": "stdout",
     "output_type": "stream",
     "text": [
      "Domain loss,acc: 0.791642, 99.64% Target domain: tr_loss-3.343381, tr_acc-62.61%\n",
      "4,000c1dFalset10:98.03%:98.11% | 1,000c1dFalset10:66.59%:70.00%\n"
     ]
    },
    {
     "name": "stderr",
     "output_type": "stream",
     "text": [
      "\n",
      "epoch-288 lr=['0.0010000'], tr/val_loss:  0.153297/  0.258824, tr:  99.51%, val:  97.98%, val_best:  98.11%: 100%|██████████| 375/375 [01:18<00:00,  4.75it/s]"
     ]
    },
    {
     "name": "stdout",
     "output_type": "stream",
     "text": [
      "Domain loss,acc: 0.792184, 99.65% Target domain: tr_loss-3.347735, tr_acc-62.50%\n",
      "4,000c1dFalset10:97.98%:98.11% | 1,000c1dFalset10:68.16%:70.00%\n"
     ]
    },
    {
     "name": "stderr",
     "output_type": "stream",
     "text": [
      "\n",
      "epoch-289 lr=['0.0010000'], tr/val_loss:  0.153237/  0.257210, tr:  99.49%, val:  98.03%, val_best:  98.11%: 100%|██████████| 375/375 [01:17<00:00,  4.82it/s]"
     ]
    },
    {
     "name": "stdout",
     "output_type": "stream",
     "text": [
      "Domain loss,acc: 0.792387, 99.67% Target domain: tr_loss-3.348986, tr_acc-62.41%\n",
      "4,000c1dFalset10:98.03%:98.11% | 1,000c1dFalset10:67.85%:70.00%\n"
     ]
    },
    {
     "name": "stderr",
     "output_type": "stream",
     "text": [
      "\n",
      "epoch-290 lr=['0.0010000'], tr/val_loss:  0.153233/  0.256371, tr:  99.47%, val:  98.07%, val_best:  98.11%: 100%|██████████| 375/375 [01:18<00:00,  4.79it/s]"
     ]
    },
    {
     "name": "stdout",
     "output_type": "stream",
     "text": [
      "Domain loss,acc: 0.790056, 99.65% Target domain: tr_loss-3.337349, tr_acc-62.32%\n",
      "4,000c1dFalset10:98.07%:98.11% | 1,000c1dFalset10:68.45%:70.00%\n"
     ]
    },
    {
     "name": "stderr",
     "output_type": "stream",
     "text": [
      "\n",
      "epoch-291 lr=['0.0010000'], tr/val_loss:  0.152114/  0.257974, tr:  99.52%, val:  97.97%, val_best:  98.11%: 100%|██████████| 375/375 [01:17<00:00,  4.87it/s]"
     ]
    },
    {
     "name": "stdout",
     "output_type": "stream",
     "text": [
      "Domain loss,acc: 0.792694, 99.63% Target domain: tr_loss-3.355018, tr_acc-62.11%\n",
      "4,000c1dFalset10:97.97%:98.11% | 1,000c1dFalset10:65.93%:70.00%\n"
     ]
    },
    {
     "name": "stderr",
     "output_type": "stream",
     "text": [
      "\n",
      "epoch-292 lr=['0.0010000'], tr/val_loss:  0.152773/  0.256919, tr:  99.50%, val:  98.08%, val_best:  98.11%: 100%|██████████| 375/375 [01:18<00:00,  4.79s/it]"
     ]
    },
    {
     "name": "stdout",
     "output_type": "stream",
     "text": [
      "Domain loss,acc: 0.790597, 99.66% Target domain: tr_loss-3.341897, tr_acc-62.71%\n",
      "4,000c1dFalset10:98.08%:98.11% | 1,000c1dFalset10:66.36%:70.00%\n"
     ]
    },
    {
     "name": "stderr",
     "output_type": "stream",
     "text": [
      "epoch-292 lr=['0.0010000'], tr/val_loss:  0.152773/  0.256919, tr:  99.50%, val:  98.08%, val_best:  98.11%: 100%|██████████| 375/375 [01:18<00:00,  4.77it/s]\n",
      "epoch-293 lr=['0.0010000'], tr/val_loss:  0.152565/  0.258323, tr:  99.51%, val:  98.06%, val_best:  98.11%: 100%|██████████| 375/375 [01:17<00:00,  4.85it/s]"
     ]
    },
    {
     "name": "stdout",
     "output_type": "stream",
     "text": [
      "Domain loss,acc: 0.789447, 99.66% Target domain: tr_loss-3.336974, tr_acc-62.90%\n",
      "4,000c1dFalset10:98.06%:98.11% | 1,000c1dFalset10:64.99%:70.00%\n"
     ]
    },
    {
     "name": "stderr",
     "output_type": "stream",
     "text": [
      "\n",
      "epoch-294 lr=['0.0010000'], tr/val_loss:  0.151942/  0.259100, tr:  99.51%, val:  98.06%, val_best:  98.11%: 100%|██████████| 375/375 [01:17<00:00,  4.85it/s]"
     ]
    },
    {
     "name": "stdout",
     "output_type": "stream",
     "text": [
      "Domain loss,acc: 0.793262, 99.65% Target domain: tr_loss-3.358547, tr_acc-62.38%\n",
      "4,000c1dFalset10:98.06%:98.11% | 1,000c1dFalset10:66.72%:70.00%\n"
     ]
    },
    {
     "name": "stderr",
     "output_type": "stream",
     "text": [
      "\n",
      "epoch-295 lr=['0.0010000'], tr/val_loss:  0.151712/  0.259704, tr:  99.51%, val:  97.94%, val_best:  98.11%: 100%|██████████| 375/375 [01:16<00:00,  4.91it/s]"
     ]
    },
    {
     "name": "stdout",
     "output_type": "stream",
     "text": [
      "Domain loss,acc: 0.792401, 99.67% Target domain: tr_loss-3.355160, tr_acc-62.81%\n",
      "4,000c1dFalset10:97.94%:98.11% | 1,000c1dFalset10:65.26%:70.00%\n"
     ]
    },
    {
     "name": "stderr",
     "output_type": "stream",
     "text": [
      "\n",
      "epoch-296 lr=['0.0010000'], tr/val_loss:  0.151834/  0.258455, tr:  99.53%, val:  98.05%, val_best:  98.11%: 100%|██████████| 375/375 [01:17<00:00,  4.83it/s]"
     ]
    },
    {
     "name": "stdout",
     "output_type": "stream",
     "text": [
      "Domain loss,acc: 0.793233, 99.63% Target domain: tr_loss-3.358825, tr_acc-62.23%\n",
      "4,000c1dFalset10:98.05%:98.11% | 1,000c1dFalset10:66.06%:70.00%\n"
     ]
    },
    {
     "name": "stderr",
     "output_type": "stream",
     "text": [
      "\n",
      "epoch-297 lr=['0.0010000'], tr/val_loss:  0.151874/  0.261702, tr:  99.49%, val:  97.91%, val_best:  98.11%: 100%|██████████| 375/375 [01:18<00:00,  4.79it/s]"
     ]
    },
    {
     "name": "stdout",
     "output_type": "stream",
     "text": [
      "Domain loss,acc: 0.791378, 99.66% Target domain: tr_loss-3.349396, tr_acc-62.70%\n",
      "4,000c1dFalset10:97.91%:98.11% | 1,000c1dFalset10:66.28%:70.00%\n"
     ]
    },
    {
     "name": "stderr",
     "output_type": "stream",
     "text": [
      "\n",
      "epoch-298 lr=['0.0010000'], tr/val_loss:  0.151281/  0.261005, tr:  99.53%, val:  97.98%, val_best:  98.11%: 100%|██████████| 375/375 [01:17<00:00,  4.87it/s]"
     ]
    },
    {
     "name": "stdout",
     "output_type": "stream",
     "text": [
      "Domain loss,acc: 0.794060, 99.67% Target domain: tr_loss-3.365178, tr_acc-62.60%\n",
      "4,000c1dFalset10:97.98%:98.11% | 1,000c1dFalset10:67.79%:70.00%\n"
     ]
    },
    {
     "name": "stderr",
     "output_type": "stream",
     "text": [
      "\n",
      "epoch-299 lr=['0.0010000'], tr/val_loss:  0.151938/  0.260737, tr:  99.53%, val:  97.99%, val_best:  98.11%: 100%|██████████| 375/375 [01:17<00:00,  4.82it/s]"
     ]
    },
    {
     "name": "stdout",
     "output_type": "stream",
     "text": [
      "Domain loss,acc: 0.793505, 99.65% Target domain: tr_loss-3.359776, tr_acc-62.59%\n",
      "4,000c1dFalset10:97.99%:98.11% | 1,000c1dFalset10:67.12%:70.00%\n"
     ]
    },
    {
     "name": "stderr",
     "output_type": "stream",
     "text": [
      "\n"
     ]
    },
    {
     "data": {
      "text/plain": [
       "'\\nddp_on 키고, gpu 개수 만큼 batch size 나눠줘\\nCUDA_VISIBLE_DEVICES=0,1,2,3,4,5 python -m torch.distributed.launch --nproc_per_node=6 main_ddp.py\\nCUDA_VISIBLE_DEVICES=1,2,3 python -m torch.distributed.launch --nproc_per_node=3 main_ddp.py\\nCUDA_VISIBLE_DEVICES=0,1,2,3 python -m torch.distributed.launch --nproc_per_node=4 main_ddp.py\\n'"
      ]
     },
     "execution_count": 5,
     "metadata": {},
     "output_type": "execute_result"
    }
   ],
   "source": [
    "### my_snn control board (Gesture) ########################\n",
    "decay = 0.25 # 0.875 0.25 0.125 0.75 0.5\n",
    "# nda 0.25 # ottt 0.5\n",
    "const2 = False # trace 할거면 True, 안할거면 False\n",
    "\n",
    "unique_name = 'main' ## 이거 설정하면 새로운 경로에 모두 save\n",
    "run_name = 'main' ## 이거 설정하면 새로운 경로에 모두 save\n",
    "\n",
    "if const2 == True:\n",
    "    const2 = decay\n",
    "else:\n",
    "    const2 = 0.0\n",
    "\n",
    "wandb.init(project= f'my_snn {unique_name}',save_code=True)\n",
    "\n",
    "my_snn_system(  devices = \"3\",\n",
    "                single_step = True, # True # False\n",
    "                unique_name = run_name,\n",
    "                my_seed = 42,\n",
    "                TIME = 10, # dvscifar 10 # ottt 6 or 10 # nda 10  # 제작하는 dvs에서 TIME넘거나 적으면 자르거나 PADDING함\n",
    "                BATCH = 128, # batch norm 할거면 2이상으로 해야함   # nda 256   #  ottt 128\n",
    "                IMAGE_SIZE = 34, # dvscifar 48 # MNIST 28 # CIFAR10 32 # PMNIST 28 #NMNIST 34 # GESTURE 128\n",
    "                # dvsgesture 128, dvs_cifar2 128, nmnist 34, n_caltech101 180,240, n_tidigits 64, heidelberg 700, \n",
    "                #pmnist는 28로 해야 됨. 나머지는 바꿔도 돌아는 감.\n",
    "\n",
    "                # DVS_CIFAR10 할거면 time 10으로 해라\n",
    "                which_data = 'NMNIST_TONIC',\n",
    "# 'CIFAR100' 'CIFAR10' 'MNIST' 'FASHION_MNIST' 'DVS_CIFAR10' 'PMNIST'아직\n",
    "# 'DVS_GESTURE', 'DVS_GESTURE_TONIC','DVS_CIFAR10_2','NMNIST','NMNIST_TONIC','CIFAR10','N_CALTECH101','n_tidigits','heidelberg'\n",
    "                # CLASS_NUM = 10,\n",
    "                data_path = '/data2', # YOU NEED TO CHANGE THIS\n",
    "                rate_coding = False, # True # False\n",
    "                lif_layer_v_init = 0.0,\n",
    "                lif_layer_v_decay = decay,\n",
    "                lif_layer_v_threshold = 0.720291189014991, # 1.3102821334243646,  # 10000이상으로 하면 NDA LIF 씀. #nda 0.5  #ottt 1.0\n",
    "                lif_layer_v_reset = 10000, # 10000이상은 hardreset (내 LIF쓰기는 함 ㅇㅇ)\n",
    "                lif_layer_sg_width = 3.555718888923306, # 2.570969004857107 # sigmoid류에서는 alpha값 4.0, rectangle류에서는 width값 0.5\n",
    "\n",
    "                # synapse_conv_in_channels = IMAGE_PIXEL_CHANNEL,\n",
    "                synapse_conv_kernel_size = 3,\n",
    "                synapse_conv_stride = 1,\n",
    "                synapse_conv_padding = 1,\n",
    "                synapse_conv_trace_const1 = 1, # 현재 trace구할 때 현재 spike에 곱해지는 상수. 걍 1로 두셈.\n",
    "                synapse_conv_trace_const2 = const2, # 현재 trace구할 때 직전 trace에 곱해지는 상수. lif_layer_v_decay와 같게 할 것을 추천\n",
    "\n",
    "                # synapse_fc_out_features = CLASS_NUM,\n",
    "                synapse_fc_trace_const1 = 1, # 현재 trace구할 때 현재 spike에 곱해지는 상수. 걍 1로 두셈.\n",
    "                synapse_fc_trace_const2 = const2, # 현재 trace구할 때 직전 trace에 곱해지는 상수. lif_layer_v_decay와 같게 할 것을 추천\n",
    "\n",
    "                pre_trained = False, # True # False\n",
    "                convTrue_fcFalse = False, # True # False\n",
    "\n",
    "                # 'P' for average pooling, 'D' for (1,1) aver pooling, 'M' for maxpooling, 'L' for linear classifier, [  ] for residual block\n",
    "                # conv에서 10000 이상은 depth-wise separable (BPTT만 지원), 20000이상은 depth-wise (BPTT만 지원)\n",
    "                # cfg = [64, 64],\n",
    "                # cfg = [64, 124, 64, 124],\n",
    "                # cfg = ['M','M',512], \n",
    "                # cfg = [512], \n",
    "                # cfg = ['M', 'M', 64, 128, 'P', 128, 'P'], \n",
    "                # cfg = ['M','M',512],\n",
    "                # cfg = ['M',200],\n",
    "                # cfg = [200,200],\n",
    "                # cfg = ['M','M',200,200],\n",
    "                cfg = ([200],[200],[200],[2]), # (feature extractor, classifier, domain adapter, # of domain)\n",
    "                # cfg = (['M','M',200],[200],[200],[2]), # (feature extractor, classifier, domain adapter, # of domain)\n",
    "                # cfg = ['M',200,200],\n",
    "                # cfg = ['M','M',1024,512,256,128,64],\n",
    "                # cfg = [200,200],\n",
    "                # cfg = [12], #fc\n",
    "                # cfg = [12, 'M', 48, 'M', 12], \n",
    "                # cfg = [64,[64,64],64], # 끝에 linear classifier 하나 자동으로 붙습니다\n",
    "                # cfg = [64, 128, 'P', 256, 256, 'P', 512, 512, 'P', 512, 512, 'D'], #ottt\n",
    "                # cfg = [64, 128, 'P', 256, 256, 'P', 512, 512, 'P', 512, 512], \n",
    "                # cfg = [64, 128, 'M', 256, 256, 'M', 512, 512, 'M', 512, 512], \n",
    "                # cfg = [64, 'P', 128, 'P', 256, 256, 'P', 512, 512, 512, 512, 'D'], # nda\n",
    "                # cfg = [64, 'P', 128, 'P', 256, 256, 'P', 512, 512, 512, 512], # nda 128pixel\n",
    "                # cfg = [64, 'P', 128, 'P', 256, 256, 'P', 512, 512, 512, 512, 'L', 4096, 4096],\n",
    "                # cfg = [20001,10001], # depthwise, separable\n",
    "                # cfg = [64,20064,10001], # vanilla conv, depthwise, separable\n",
    "                # cfg = [8, 'P', 8, 'P', 8, 'P', 8,'P', 8, 'P'],\n",
    "                # cfg = [],        \n",
    "                \n",
    "                net_print = True, # True # False # True로 하길 추천\n",
    "                weight_count_print = False, # True # False\n",
    "                \n",
    "                pre_trained_path = f\"net_save/save_now_net_weights_{unique_name}.pth\",\n",
    "                learning_rate = 0.001, #0.1 bptt, #0.01 ottt, # default 0.001  # ottt 0.1 # nda 0.001 # 0.00936191669529645\n",
    "                epoch_num = 300,\n",
    "                verbose_interval = 999999999, #이거 걍 건들지마셈 #숫자 크게 하면 꺼짐 #걍 중간중간 iter에서 끊어서 출력\n",
    "                validation_interval =  999999999,#999999999, #이거 걍 건들지마셈 #숫자 크게 하면 에포크 마지막 iter 때 val 함\n",
    "\n",
    "                tdBN_on = False,  # True # False\n",
    "                BN_on = False,  # True # False\n",
    "                \n",
    "                surrogate = 'hard_sigmoid', # 'sigmoid' 'rectangle' 'rough_rectangle' 'hard_sigmoid'\n",
    "                \n",
    "                gradient_verbose = False,  # True # False  # weight gradient 각 layer마다 띄워줌\n",
    "\n",
    "                BPTT_on = False,  # True # False # True이면 BPTT, False이면 OTTT  # depthwise, separable은 BPTT만 가능\n",
    "                optimizer_what = 'SGD', # 'SGD' 'Adam', 'RMSprop'\n",
    "                scheduler_name = 'no', # 'no' 'StepLR' 'ExponentialLR' 'ReduceLROnPlateau' 'CosineAnnealingLR' 'OneCycleLR'\n",
    "                \n",
    "                ddp_on = False,   # True # False \n",
    "                # 지원 DATASET: cifar10, mnist\n",
    "\n",
    "                nda_net = False,   # True # False\n",
    "\n",
    "                domain_il_epoch = 0, # over 0, then domain il mode on # pmnist 쓸거면 HLOP 코드보고 더 디벨롭하셈. 지금 개발 hold함.\n",
    "                \n",
    "                dvs_clipping = 1, #일반적으로 1 또는 2 # 100ms때는 5 # 숫자만큼 크면 spike 아니면 걍 0\n",
    "                # gesture, cifar-dvs2, nmnist, ncaltech101\n",
    "                # gesture: 100_000c1-5, 25_000c5, 10_000c5, 1_000c5, 1_000_000c5\n",
    "\n",
    "                dvs_duration = 4_000, # 0 아니면 time sampling # dvs number sampling OR time sampling # gesture, cifar-dvs2, nmnist, ncaltech101\n",
    "                # 있는 데이터들 #gesture 100_000 25_000 10_000 1_000 1_000_000 #nmnist 10000 #nmnist_tonic 10_000 25_000\n",
    "                # 한 숫자가 1us인듯 (spikingjelly코드에서)\n",
    "                # 한 장에 50 timestep만 생산함. 싫으면 my_snn/trying/spikingjelly_dvsgesture의__init__.py 를 참고해봐\n",
    "                # nmnist 5_000us, gesture는 100_000us, 25_000us\n",
    "\n",
    "                OTTT_sWS_on = False, # True # False # BPTT끄고, CONV에만 적용됨.\n",
    "\n",
    "                DFA_on = True, # True # False # residual은 dfa지원안함.\n",
    "                OTTT_input_trace_on = False, # True # False # 맨 처음 input에 trace 적용\n",
    "                \n",
    "                e_transport_swap = 0, # 1 이상이면 해당 숫자 에포크만큼 val_acc_best가 변화가 없으면 e_transport scheme (BP vs DFA) swap\n",
    "                e_transport_swap_tr = 0, # 1 이상이면 해당 숫자 에포크만큼 tr_acc_best가 변화가 없으면 e_transport scheme (BP vs DFA) swap\n",
    "                e_transport_swap_coin = 1, # swap할 수 있는 coin 개수\n",
    "\n",
    "                drop_rate = 0, # drop_rate만큼 0으로 만듦. ex) 0.2면 activation의 20%를 0으로 만듦.\n",
    "\n",
    "                exclude_class = True, # True # False # gesture에서 10번째 클래스 제외\n",
    "\n",
    "                merge_polarities = False, # True # False # tonic dvs dataset 에서 polarities 합치기\n",
    "                denoise_on = False, # True # False # &&&&&&&&&&&&&&&&&&&&&&&&&&&&&&&&&&&&&&&&&&&&&&&&&&&&&&&\n",
    "\n",
    "                I_wanna_sweep_at_this_epoch = -1, # 지정 에포크에서 BP와 DFA를 바꿔줌. -1이면 실행 안함.\n",
    "                # dvs_duration_domain=[(100_000,5,False),(125_000,5,False),(150_000,5,False),],\n",
    "                # dvs_duration_domain=[(40_000,4,False),(50_000,4,False),(60_000,4,False),],\n",
    "                # [duration, clipping, denoise_on]\n",
    "                dvs_duration_domain=[(1000,1,False)],\n",
    "                dvs_relative_timestep = False, # True # False \n",
    "                \n",
    "                extra_train_dataset = 0,\n",
    "\n",
    "                num_workers = 2, # local wsl에서는 2가 맞고, 서버에서는 4가 좋더라.\n",
    "                chaching_on = True, # True # False # only for certain datasets (gesture_tonic, nmnist_tonic)\n",
    "                pin_memory = True, # True # False \n",
    "\n",
    "                UDA_on = True, # True # False\n",
    "                UDA_data = (1000,1,False), # (duration, clipping, denoise_on)\n",
    "                src_trg_ratio = 4, # (1이상의 정수) src data와 trg data의 개수 비율 (대략적으로)\n",
    "                adapter_loss_weight = 1.0, # 1.0  # adapter loss의 힘. # 이걸 0으로하면 src only learning.\n",
    "                alpha_uda = 0.0, # GRL의 alpha값\n",
    "                UDA_start_epoch = 0, # UDA를 시작하는 에포크\n",
    "\n",
    "                temporal_filter = 1, # 1이면 아무것도 안함. 한타임스텝에 쑤셔 넣을 window개수. \n",
    "                initial_pooling = 2, # 1이면 pooling 안함. 2의 승수만 입력하셈. log2를 취해서 pooling할 window size를 결정함.\n",
    "                ) \n",
    "\n",
    "# num_workers = 4 * num_GPU (or 8, 16, 2 * num_GPU)\n",
    "# entry * batch_size * num_worker = num_GPU * GPU_throughtput\n",
    "# num_workers = batch_size / num_GPU\n",
    "# num_workers = batch_size / num_CPU\n",
    "\n",
    "# sigmoid와 BN이 있어야 잘된다.\n",
    "# average pooling  \n",
    "# 이 낫다. \n",
    "\n",
    "# nda에서는 decay = 0.25, threshold = 0.5, width =1, surrogate = rectangle, batch = 256, tdBN = True\n",
    "## OTTT 에서는 decay = 0.5, threshold = 1.0, surrogate = sigmoid, batch = 128, BN = True\n",
    "\n",
    "\n",
    "# DDP 실행 코드0\n",
    "'''\n",
    "ddp_on 키고, gpu 개수 만큼 batch size 나눠줘\n",
    "CUDA_VISIBLE_DEVICES=0,1,2,3,4,5 python -m torch.distributed.launch --nproc_per_node=6 main_ddp.py\n",
    "CUDA_VISIBLE_DEVICES=1,2,3 python -m torch.distributed.launch --nproc_per_node=3 main_ddp.py\n",
    "CUDA_VISIBLE_DEVICES=0,1,2,3 python -m torch.distributed.launch --nproc_per_node=4 main_ddp.py\n",
    "'''\n",
    "\n"
   ]
  },
  {
   "cell_type": "code",
   "execution_count": 6,
   "metadata": {},
   "outputs": [],
   "source": [
    "# # sweep 하는 코드, 위 셀 주석처리 해야 됨.\n",
    "\n",
    "# # 이런 워닝 뜨는 거는 걍 너가 main 안에서  wandb.config.update(hyperparameters)할 때 물려서임. 어차피 근데 sweep에서 지정한 걸로 덮어짐 \n",
    "# # wandb: WARNING Config item 'BATCH' was locked by 'sweep' (ignored update).\n",
    "\n",
    "# unique_name_hyper = 'main'\n",
    "# run_name = 'main'\n",
    "# sweep_configuration = {\n",
    "#     'method': 'random', # 'random', 'bayes'\n",
    "#     'name': f'my_snn_sweep{datetime.datetime.now().strftime(\"%Y%m%d_%H%M%S\")}',\n",
    "#     'metric': {'goal': 'maximize', 'name': 'val_acc_best'},\n",
    "#     'parameters': \n",
    "#     {\n",
    "#         \"learning_rate\": {\"values\": [0.001]}, #0.00936191669529645\n",
    "#         \"BATCH\": {\"values\": [16]},\n",
    "#         \"decay\": {\"values\": [0.25]},\n",
    "#         \"IMAGE_SIZE\": {\"values\": [128]},\n",
    "#         \"TIME\": {\"values\": [10]},\n",
    "#         \"epoch_num\": {\"values\": [200]},\n",
    "#         \"dvs_duration\": {\"values\": [25_000,50_000,100_000]},\n",
    "#         \"dvs_clipping\": {\"values\": [1,2,3,4,5]},\n",
    "#         \"which_data\": {\"values\": ['DVS_GESTURE_TONIC']},\n",
    "#         \"OTTT_sWS_on\": {\"values\": [False]},\n",
    "#         \"const2\": {\"values\": [False]},\n",
    "#         \"surrogate\": {\"values\": ['hard_sigmoid']},\n",
    "#         \"DFA_on\": {\"values\": [False]},\n",
    "#         \"OTTT_input_trace_on\": {\"values\": [False]},\n",
    "#         \"cfg\": {\"values\": [['M','M',200,200]]},\n",
    "#         \"e_transport_swap\": {\"values\": [0]},\n",
    "#         \"e_transport_swap_tr\": {\"values\": [0]},\n",
    "#         \"drop_rate\": {\"values\": [0.0]}, # \"drop_rate\": {\"values\": [0.25,0.5,0.75]}, #\"drop_rate\": {\"min\": 0.25, \"max\": 0.75},\n",
    "#         \"exclude_class\": {\"values\": [True]},\n",
    "#         \"merge_polarities\": {\"values\": [False]},\n",
    "#         \"lif_layer_v_reset\": {\"values\": [10000]},\n",
    "#         \"lif_layer_sg_width\": {\"values\": [3.555718888923306]},\n",
    "#         \"e_transport_swap_coin\": {\"values\": [1]},\n",
    "#         \"lif_layer_v_threshold\": {\"values\": [0.720291189014991]},\n",
    "#         \"scheduler_name\": {\"values\": ['no']},  # 'no' 'StepLR' 'ExponentialLR' 'ReduceLROnPlateau' 'CosineAnnealingLR' 'OneCycleLR'\n",
    "#         \"denoise_on\": {\"values\": [True,False]}, \n",
    "#         \"I_wanna_sweep_at_this_epoch\": {\"values\": [-1]}, \n",
    "#         \"dvs_duration_domain\": {\"values\": [[]]}, \n",
    "#         \"dvs_relative_timestep\": {\"values\": [[False]]}, \n",
    "#         \"extra_train_dataset\": {\"values\": [0]}, \n",
    "#      }\n",
    "# }\n",
    "\n",
    "# def hyper_iter():\n",
    "#     ### my_snn control board ########################\n",
    "#     unique_name = unique_name_hyper ## 이거 설정하면 새로운 경로에 모두 save\n",
    "    \n",
    "#     wandb.init(save_code = True)\n",
    "#     learning_rate  =  wandb.config.learning_rate\n",
    "#     BATCH  =  wandb.config.BATCH\n",
    "#     decay  =  wandb.config.decay\n",
    "#     IMAGE_SIZE  =  wandb.config.IMAGE_SIZE\n",
    "#     TIME  =  wandb.config.TIME\n",
    "#     epoch_num  =  wandb.config.epoch_num \n",
    "#     dvs_duration  =  wandb.config.dvs_duration\n",
    "#     dvs_clipping  =  wandb.config.dvs_clipping\n",
    "#     which_data  =  wandb.config.which_data\n",
    "#     OTTT_sWS_on  =  wandb.config.OTTT_sWS_on\n",
    "#     const2  =  wandb.config.const2\n",
    "#     surrogate  =  wandb.config.surrogate\n",
    "#     DFA_on  =  wandb.config.DFA_on\n",
    "#     OTTT_input_trace_on  =  wandb.config.OTTT_input_trace_on\n",
    "#     cfg  =  wandb.config.cfg\n",
    "#     e_transport_swap  =  wandb.config.e_transport_swap\n",
    "#     e_transport_swap_tr  =  wandb.config.e_transport_swap_tr\n",
    "#     drop_rate  =  wandb.config.drop_rate\n",
    "#     exclude_class  =  wandb.config.exclude_class\n",
    "#     merge_polarities  =  wandb.config.merge_polarities\n",
    "#     lif_layer_v_reset  =  wandb.config.lif_layer_v_reset\n",
    "#     lif_layer_sg_width  =  wandb.config.lif_layer_sg_width\n",
    "#     e_transport_swap_coin  =  wandb.config.e_transport_swap_coin\n",
    "#     lif_layer_v_threshold  =  wandb.config.lif_layer_v_threshold\n",
    "#     scheduler_name  =  wandb.config.scheduler_name\n",
    "#     denoise_on  =  wandb.config.denoise_on\n",
    "#     I_wanna_sweep_at_this_epoch  =  wandb.config.I_wanna_sweep_at_this_epoch\n",
    "#     dvs_duration_domain  =  wandb.config.dvs_duration_domain\n",
    "#     dvs_relative_timestep  =  wandb.config.dvs_relative_timestep\n",
    "#     extra_train_dataset  =  wandb.config.extra_train_dataset\n",
    "#     if const2 == True:\n",
    "#         const2 = decay\n",
    "#     else:\n",
    "#         const2 = 0.0\n",
    "\n",
    "#     my_snn_system(  devices = \"5\",\n",
    "#                 single_step = True, # True # False\n",
    "#                 unique_name = run_name,\n",
    "#                 my_seed = 42,\n",
    "#                 TIME = TIME , # dvscifar 10 # ottt 6 or 10 # nda 10  # 제작하는 dvs에서 TIME넘거나 적으면 자르거나 PADDING함\n",
    "#                 BATCH = BATCH, # batch norm 할거면 2이상으로 해야함   # nda 256   #  ottt 128\n",
    "#                 IMAGE_SIZE = IMAGE_SIZE, # dvscifar 48 # MNIST 28 # CIFAR10 32 # PMNIST 28 #NMNIST 34 # GESTURE 128\n",
    "#                 # dvsgesture 128, dvs_cifar2 128, nmnist 34, n_caltech101 180,240, n_tidigits 64, heidelberg 700, \n",
    "#                 #pmnist는 28로 해야 됨. 나머지는 바꿔도 돌아는 감.\n",
    "\n",
    "#                 # DVS_CIFAR10 할거면 time 10으로 해라\n",
    "#                 which_data = which_data,\n",
    "# # 'CIFAR100' 'CIFAR10' 'MNIST' 'FASHION_MNIST' 'DVS_CIFAR10' 'PMNIST'아직\n",
    "# # 'DVS_GESTURE', 'DVS_GESTURE_TONIC','DVS_CIFAR10_2','NMNIST','NMNIST_TONIC','N_CALTECH101','n_tidigits','heidelberg'\n",
    "#                 # CLASS_NUM = 10,\n",
    "#                 data_path = '/data2', # YOU NEED TO CHANGE THIS\n",
    "#                 rate_coding = False, # True # False\n",
    "#                 lif_layer_v_init = 0.0,\n",
    "#                 lif_layer_v_decay = decay,\n",
    "#                 lif_layer_v_threshold = lif_layer_v_threshold,  # 10000이상으로 하면 NDA LIF 씀. #nda 0.5  #ottt 1.0\n",
    "#                 lif_layer_v_reset = lif_layer_v_reset, # 10000이상은 hardreset (내 LIF쓰기는 함 ㅇㅇ)\n",
    "#                 lif_layer_sg_width = lif_layer_sg_width, # # surrogate sigmoid 쓸 때는 의미없음\n",
    "\n",
    "#                 # synapse_conv_in_channels = IMAGE_PIXEL_CHANNEL,\n",
    "#                 synapse_conv_kernel_size = 3,\n",
    "#                 synapse_conv_stride = 1,\n",
    "#                 synapse_conv_padding = 1,\n",
    "#                 synapse_conv_trace_const1 = 1, # 현재 trace구할 때 현재 spike에 곱해지는 상수. 걍 1로 두셈.\n",
    "#                 synapse_conv_trace_const2 = const2, # 현재 trace구할 때 직전 trace에 곱해지는 상수. lif_layer_v_decay와 같게 할 것을 추천\n",
    "\n",
    "#                 # synapse_fc_out_features = CLASS_NUM,\n",
    "#                 synapse_fc_trace_const1 = 1, # 현재 trace구할 때 현재 spike에 곱해지는 상수. 걍 1로 두셈.\n",
    "#                 synapse_fc_trace_const2 = const2, # 현재 trace구할 때 직전 trace에 곱해지는 상수. lif_layer_v_decay와 같게 할 것을 추천\n",
    "\n",
    "#                 pre_trained = False, # True # False\n",
    "#                 convTrue_fcFalse = False, # True # False\n",
    "\n",
    "#                 # 'P' for average pooling, 'D' for (1,1) aver pooling, 'M' for maxpooling, 'L' for linear classifier, [  ] for residual block\n",
    "#                 # conv에서 10000 이상은 depth-wise separable (BPTT만 지원), 20000이상은 depth-wise (BPTT만 지원)\n",
    "#                 # cfg = [64, 64],\n",
    "#                 # cfg = [64, 124, 64, 124],\n",
    "#                 # cfg = ['M','M',512], \n",
    "#                 # cfg = [512], \n",
    "#                 # cfg = ['M', 'M', 64, 128, 'P', 128, 'P'], \n",
    "#                 # cfg = ['M','M',200,200],\n",
    "#                 # cfg = [200,200],\n",
    "#                 cfg = cfg,\n",
    "#                 # cfg = [12], #fc\n",
    "#                 # cfg = [12, 'M', 48, 'M', 12], \n",
    "#                 # cfg = [64,[64,64],64], # 끝에 linear classifier 하나 자동으로 붙습니다\n",
    "#                 # cfg = [64, 128, 'P', 256, 256, 'P', 512, 512, 'P', 512, 512, 'D'], #ottt\n",
    "#                 # cfg = [64, 128, 'P', 256, 256, 'P', 512, 512, 'P', 512, 512], \n",
    "#                 # cfg = [64, 128, 'M', 256, 256, 'M', 512, 512, 'M', 512, 512], \n",
    "#                 # cfg = [64, 'P', 128, 'P', 256, 256, 'P', 512, 512, 512, 512, 'D'], # nda\n",
    "#                 # cfg = [64, 'P', 128, 'P', 256, 256, 'P', 512, 512, 512, 512], # nda 128pixel\n",
    "#                 # cfg = [64, 'P', 128, 'P', 256, 256, 'P', 512, 512, 512, 512, 'L', 4096, 4096],\n",
    "#                 # cfg = [20001,10001], # depthwise, separable\n",
    "#                 # cfg = [64,20064,10001], # vanilla conv, depthwise, separable\n",
    "#                 # cfg = [8, 'P', 8, 'P', 8, 'P', 8,'P', 8, 'P'],\n",
    "#                 # cfg = [], \n",
    "                \n",
    "#                 net_print = True, # True # False # True로 하길 추천\n",
    "#                 weight_count_print = False, # True # False\n",
    "                \n",
    "#                 pre_trained_path = f\"net_save/save_now_net_weights_{unique_name}.pth\",\n",
    "#                 learning_rate = learning_rate, # default 0.001  # ottt 0.1 # nda 0.001 \n",
    "#                 epoch_num = epoch_num,\n",
    "#                 verbose_interval = 999999999, #숫자 크게 하면 꺼짐 #걍 중간중간 iter에서 끊어서 출력\n",
    "#                 validation_interval =  999999999,#999999999, #숫자 크게 하면 에포크 마지막 iter 때 val 함\n",
    "\n",
    "#                 tdBN_on = False,  # True # False\n",
    "#                 BN_on = False,  # True # False\n",
    "                \n",
    "#                 surrogate = surrogate, # 'rectangle' 'sigmoid' 'rough_rectangle'\n",
    "                \n",
    "#                 gradient_verbose = False,  # True # False  # weight gradient 각 layer마다 띄워줌\n",
    "\n",
    "#                 BPTT_on = False,  # True # False # True이면 BPTT, False이면 OTTT  # depthwise, separable은 BPTT만 가능\n",
    "#                 optimizer_what = 'SGD', # 'SGD' 'Adam', 'RMSprop'\n",
    "#                 scheduler_name = scheduler_name, # 'no' 'StepLR' 'ExponentialLR' 'ReduceLROnPlateau' 'CosineAnnealingLR' 'OneCycleLR'\n",
    "                \n",
    "#                 ddp_on = False,   # True # False \n",
    "#                 # 지원 DATASET: cifar10, mnist\n",
    "\n",
    "#                 nda_net = False,   # True # False\n",
    "\n",
    "#                 domain_il_epoch = 0, # over 0, then domain il mode on # pmnist 쓸거면 HLOP 코드보고 더 디벨롭하셈. 지금 개발 hold함.\n",
    "                \n",
    "#                 dvs_clipping = dvs_clipping, # 숫자만큼 크면 spike 아니면 걍 0\n",
    "#                 # gesture, cifar-dvs2, nmnist, ncaltech101\n",
    "\n",
    "#                 dvs_duration = dvs_duration, # 0 아니면 time sampling # dvs number sampling OR time sampling # gesture, cifar-dvs2, nmnist, ncaltech101\n",
    "#                 # 있는 데이터들 #gesture 100_000 25_000 10_000 1_000 1_000_000 #nmnist 10000 #nmnist_tonic 10_000 25_000\n",
    "#                 # 한 숫자가 1us인듯 (spikingjelly코드에서)\n",
    "#                 # 한 장에 50 timestep만 생산함. 싫으면 my_snn/trying/spikingjelly_dvsgesture의__init__.py 를 참고해봐\n",
    "\n",
    "#                 OTTT_sWS_on = OTTT_sWS_on, # True # False # BPTT끄고, CONV에만 적용됨.\n",
    "\n",
    "#                 DFA_on = DFA_on, # True # False # residual은 dfa지원안함.\n",
    "#                 OTTT_input_trace_on = OTTT_input_trace_on, # True # False # 맨 처음 input에 trace 적용\n",
    "                 \n",
    "#                 e_transport_swap = e_transport_swap, # 1 이상이면 해당 숫자 에포크만큼 val_acc_best가 변화가 없으면 e_transport scheme (BP vs DFA) swap\n",
    "#                 e_transport_swap_tr = e_transport_swap_tr, # 1 이상이면 해당 숫자 에포크만큼 tr_acc_best가 변화가 없으면 e_transport scheme (BP vs DFA) swap\n",
    "#                 e_transport_swap_coin = e_transport_swap_coin, # swap할 수 있는 coin 개수\n",
    "                    \n",
    "#                 drop_rate = drop_rate,\n",
    "\n",
    "#                 exclude_class = exclude_class, # True # False # gesture에서 10번째 클래스 제외\n",
    "\n",
    "#                 merge_polarities = merge_polarities, # True # False # tonic dvs dataset 에서 polarities 합치기\n",
    "#                 denoise_on = denoise_on,\n",
    "\n",
    "#                 I_wanna_sweep_at_this_epoch = I_wanna_sweep_at_this_epoch,\n",
    "#                 dvs_duration_domain = dvs_duration_domain,\n",
    "#                 dvs_relative_timestep = dvs_relative_timestep, # True # False \n",
    "\n",
    "#                 extra_train_dataset = extra_train_dataset,\n",
    "\n",
    "#                 num_workers = 2,\n",
    "#                 chaching_on = True,\n",
    "#                 pin_memory = True, # True # False\n",
    "#                     ) \n",
    "#     # sigmoid와 BN이 있어야 잘된다.\n",
    "#     # average pooling\n",
    "#     # 이 낫다. \n",
    "    \n",
    "#     # nda에서는 decay = 0.25, threshold = 0.5, width =1, surrogate = rectangle, batch = 256, tdBN = True\n",
    "#     ## OTTT 에서는 decay = 0.5, threshold = 1.0, surrogate = sigmoid, batch = 128, BN = True\n",
    "\n",
    "# sweep_id = wandb.sweep(sweep=sweep_configuration, project=f'my_snn {unique_name_hyper}')\n",
    "# wandb.agent(sweep_id, function=hyper_iter, count=10000, project=f'my_snn {unique_name_hyper}')\n"
   ]
  },
  {
   "cell_type": "code",
   "execution_count": 7,
   "metadata": {},
   "outputs": [
    {
     "data": {
      "application/vnd.jupyter.widget-view+json": {
       "model_id": "4a579f4119fd4e708ce5814e7316ddf0",
       "version_major": 2,
       "version_minor": 0
      },
      "text/plain": [
       "VBox(children=(Label(value='4.037 MB of 4.037 MB uploaded\\r'), FloatProgress(value=1.0, max=1.0)))"
      ]
     },
     "metadata": {},
     "output_type": "display_data"
    },
    {
     "data": {
      "text/html": [
       "<style>\n",
       "    table.wandb td:nth-child(1) { padding: 0 10px; text-align: left ; width: auto;} td:nth-child(2) {text-align: left ; width: 100%}\n",
       "    .wandb-row { display: flex; flex-direction: row; flex-wrap: wrap; justify-content: flex-start; width: 100% }\n",
       "    .wandb-col { display: flex; flex-direction: column; flex-basis: 100%; flex: 1; padding: 10px; }\n",
       "    </style>\n",
       "<div class=\"wandb-row\"><div class=\"wandb-col\"><h3>Run history:</h3><br/><table class=\"wandb\"><tr><td>DFA_flag</td><td>▁▁▁▁▁▁▁▁▁▁▁▁▁▁▁▁▁▁▁▁▁▁▁▁▁▁▁▁▁▁▁▁▁▁▁▁▁▁▁▁</td></tr><tr><td>epoch</td><td>▁▁▁▂▂▂▂▂▂▃▃▃▃▃▃▄▄▄▄▄▅▅▅▅▅▅▆▆▆▆▆▇▇▇▇▇▇███</td></tr><tr><td>iter_acc</td><td>▁▇███████▄▄▃█▄████████▄██▄▃█████████▄▄▄▅</td></tr><tr><td>summary_val_acc</td><td>▁▅▆▇▇▇▇▇▇█▇█████████████████████████████</td></tr><tr><td>tr_acc</td><td>▁▅▆▆▇▇▇▇▇▇▇▇▇▇▇▇████████████████████████</td></tr><tr><td>tr_epoch_loss</td><td>█▄▃▃▂▂▂▂▂▂▂▂▂▂▂▂▁▁▁▁▁▁▁▁▁▁▁▁▁▁▁▁▁▁▁▁▁▁▁▁</td></tr><tr><td>val_acc_best</td><td>▁▅▆▇▇▇▇▇▇▇██████████████████████████████</td></tr><tr><td>val_acc_now</td><td>▁▅▆▇▇▇▇▇▇█▇█████████████████████████████</td></tr><tr><td>val_acc_now_set[1]</td><td>▁▅▆▆▆▇▆▇▇▇▇▇▇▇▇▇████▇▇██▇█▇▇▇███▇█▇▇█▇█▇</td></tr><tr><td>val_acc_now_set[1]_best</td><td>▁▅▆▆▇▇▇▇▇▇▇▇▇▇██████████████████████████</td></tr><tr><td>val_loss</td><td>█▃▂▂▁▁▁▁▁▁▁▁▁▁▁▁▁▁▁▁▁▁▁▁▁▁▁▁▁▁▁▁▁▁▁▁▁▁▂▂</td></tr></table><br/></div><div class=\"wandb-col\"><h3>Run summary:</h3><br/><table class=\"wandb\"><tr><td>DFA_flag</td><td>1.0</td></tr><tr><td>epoch</td><td>299</td></tr><tr><td>iter_acc</td><td>1.0</td></tr><tr><td>tr_acc</td><td>0.99527</td></tr><tr><td>tr_epoch_loss</td><td>0.15194</td></tr><tr><td>val_acc_best</td><td>0.9811</td></tr><tr><td>val_acc_now</td><td>0.9799</td></tr><tr><td>val_acc_now_set[1]</td><td>0.6712</td></tr><tr><td>val_acc_now_set[1]_best</td><td>0.7</td></tr><tr><td>val_loss</td><td>0.26074</td></tr></table><br/></div></div>"
      ],
      "text/plain": [
       "<IPython.core.display.HTML object>"
      ]
     },
     "metadata": {},
     "output_type": "display_data"
    },
    {
     "data": {
      "text/html": [
       " View run <strong style=\"color:#cdcd00\">rosy-galaxy-6631</strong> at: <a href='https://wandb.ai/bhkim003-seoul-national-university/my_snn%20main/runs/nf2l29qt' target=\"_blank\">https://wandb.ai/bhkim003-seoul-national-university/my_snn%20main/runs/nf2l29qt</a><br/> View project at: <a href='https://wandb.ai/bhkim003-seoul-national-university/my_snn%20main' target=\"_blank\">https://wandb.ai/bhkim003-seoul-national-university/my_snn%20main</a><br/>Synced 7 W&B file(s), 0 media file(s), 0 artifact file(s) and 1 other file(s)"
      ],
      "text/plain": [
       "<IPython.core.display.HTML object>"
      ]
     },
     "metadata": {},
     "output_type": "display_data"
    },
    {
     "data": {
      "text/html": [
       "Find logs at: <code>./wandb/run-20241023_031753-nf2l29qt/logs</code>"
      ],
      "text/plain": [
       "<IPython.core.display.HTML object>"
      ]
     },
     "metadata": {},
     "output_type": "display_data"
    },
    {
     "data": {
      "text/html": [
       "The new W&B backend becomes opt-out in version 0.18.0; try it out with `wandb.require(\"core\")`! See https://wandb.me/wandb-core for more information."
      ],
      "text/plain": [
       "<IPython.core.display.HTML object>"
      ]
     },
     "metadata": {},
     "output_type": "display_data"
    }
   ],
   "source": [
    "wandb.finish() "
   ]
  },
  {
   "cell_type": "code",
   "execution_count": 8,
   "metadata": {},
   "outputs": [],
   "source": [
    "# import numpy as np\n",
    "# import matplotlib.pyplot as plt\n",
    "# import json\n",
    "# run_name = 'main_FINAL_TEST'\n",
    "\n",
    "# unique_name = run_name\n",
    "# def pad_array_to_match_length(array1, array2):\n",
    "#     if len(array1) > len(array2):\n",
    "#         padded_array2 = np.pad(array2, (0, len(array1) - len(array2)), 'constant')\n",
    "#         return array1, padded_array2\n",
    "#     elif len(array2) > len(array1):\n",
    "#         padded_array1 = np.pad(array1, (0, len(array2) - len(array1)), 'constant')\n",
    "#         return padded_array1, array2\n",
    "#     else:\n",
    "#         return array1, array2\n",
    "# def load_hyperparameters(filename=f'result_save/hyperparameters_{unique_name}.json'):\n",
    "#     with open(filename, 'r') as f:\n",
    "#         return json.load(f)\n",
    "    \n",
    "\n",
    "\n",
    "\n",
    "\n",
    "# current_time = '20240628_110116'\n",
    "# base_name = f'{current_time}'\n",
    "# iter_acc_file_name = f'result_save/{base_name}_iter_acc_array_{unique_name}.npy'\n",
    "# val_acc_file_name = f'result_save/{base_name}_val_acc_now_array_{unique_name}.npy'\n",
    "# hyperparameters_file_name = f'result_save/{base_name}_hyperparameters_{unique_name}.json'\n",
    "\n",
    "# ### if you want to just see most recent train and val acc###########################\n",
    "# iter_acc_file_name = f'result_save/iter_acc_array_{unique_name}.npy'\n",
    "# tr_acc_file_name = f'result_save/tr_acc_array_{unique_name}.npy'\n",
    "# val_acc_file_name = f'result_save/val_acc_now_array_{unique_name}.npy'\n",
    "# hyperparameters_file_name = f'result_save/hyperparameters_{unique_name}.json'\n",
    "\n",
    "# loaded_iter_acc_array = np.load(iter_acc_file_name)*100\n",
    "# loaded_tr_acc_array = np.load(tr_acc_file_name)*100\n",
    "# loaded_val_acc_array = np.load(val_acc_file_name)*100\n",
    "# hyperparameters = load_hyperparameters(hyperparameters_file_name)\n",
    "\n",
    "# loaded_iter_acc_array, loaded_val_acc_array = pad_array_to_match_length(loaded_iter_acc_array, loaded_val_acc_array)\n",
    "# loaded_iter_acc_array, loaded_tr_acc_array = pad_array_to_match_length(loaded_iter_acc_array, loaded_tr_acc_array)\n",
    "# loaded_val_acc_array, loaded_tr_acc_array = pad_array_to_match_length(loaded_val_acc_array, loaded_tr_acc_array)\n",
    "\n",
    "# top_iter_acc = np.max(loaded_iter_acc_array)\n",
    "# top_tr_acc = np.max(loaded_tr_acc_array)\n",
    "# top_val_acc = np.max(loaded_val_acc_array)\n",
    "\n",
    "# which_data = hyperparameters['which_data']\n",
    "# BPTT_on = hyperparameters['BPTT_on']\n",
    "# current_epoch = hyperparameters['current epoch']\n",
    "# surrogate = hyperparameters['surrogate']\n",
    "# cfg = hyperparameters['cfg']\n",
    "# tdBN_on = hyperparameters['tdBN_on']\n",
    "# BN_on = hyperparameters['BN_on']\n",
    "\n",
    "\n",
    "# iterations = np.arange(len(loaded_iter_acc_array))\n",
    "\n",
    "# # 그래프 그리기\n",
    "# plt.figure(figsize=(10, 5))\n",
    "# plt.plot(iterations, loaded_iter_acc_array, label='Iter Accuracy', color='g', alpha=0.2)\n",
    "# plt.plot(iterations, loaded_tr_acc_array, label='Training Accuracy', color='b')\n",
    "# plt.plot(iterations, loaded_val_acc_array, label='Validation Accuracy', color='r')\n",
    "\n",
    "# # # 텍스트 추가\n",
    "# # plt.text(0.05, 0.95, f'Top Training Accuracy: {100*top_iter_acc:.2f}%', transform=plt.gca().transAxes, fontsize=12, verticalalignment='top', horizontalalignment='left', color='blue')\n",
    "# # plt.text(0.05, 0.90, f'Top Validation Accuracy: {100*top_val_acc:.2f}%', transform=plt.gca().transAxes, fontsize=12, verticalalignment='top', horizontalalignment='left', color='red')\n",
    "# # 텍스트 추가\n",
    "# plt.text(0.5, 0.10, f'Top Training Accuracy: {top_tr_acc:.2f}%', transform=plt.gca().transAxes, fontsize=12, verticalalignment='top', horizontalalignment='center', color='blue')\n",
    "# plt.text(0.5, 0.05, f'Top Validation Accuracy: {top_val_acc:.2f}%', transform=plt.gca().transAxes, fontsize=12, verticalalignment='top', horizontalalignment='center', color='red')\n",
    "\n",
    "# plt.xlabel('Iterations')\n",
    "# plt.ylabel('Accuracy [%]')\n",
    "\n",
    "# # 그래프 제목에 하이퍼파라미터 정보 추가\n",
    "# title = f'Training and Validation Accuracy over Iterations\\n\\nData: {which_data}, BPTT: {\"On\" if BPTT_on else \"Off\"}, Current Epoch: {current_epoch}, Surrogate: {surrogate},\\nCFG: {cfg}, tdBN: {\"On\" if tdBN_on else \"Off\"}, BN: {\"On\" if BN_on else \"Off\"}'\n",
    "\n",
    "# plt.title(title)\n",
    "\n",
    "# plt.legend(loc='lower right')\n",
    "# plt.xlim(0)  # x축을 0부터 시작\n",
    "# plt.grid(True)\n",
    "# plt.show()"
   ]
  }
 ],
 "metadata": {
  "kernelspec": {
   "display_name": "aedat2",
   "language": "python",
   "name": "python3"
  },
  "language_info": {
   "codemirror_mode": {
    "name": "ipython",
    "version": 3
   },
   "file_extension": ".py",
   "mimetype": "text/x-python",
   "name": "python",
   "nbconvert_exporter": "python",
   "pygments_lexer": "ipython3",
   "version": "3.8.18"
  }
 },
 "nbformat": 4,
 "nbformat_minor": 2
}
