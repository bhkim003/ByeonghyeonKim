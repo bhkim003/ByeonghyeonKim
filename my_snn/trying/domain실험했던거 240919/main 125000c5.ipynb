{
 "cells": [
  {
   "cell_type": "code",
   "execution_count": 1,
   "metadata": {},
   "outputs": [],
   "source": [
    "# Copyright (c) 2024 Byeonghyeon Kim \n",
    "# github site: https://github.com/bhkim003/ByeonghyeonKim\n",
    "# email: bhkim003@snu.ac.kr\n",
    " \n",
    "# Permission is hereby granted, free of charge, to any person obtaining a copy of\n",
    "# this software and associated documentation files (the \"Software\"), to deal in\n",
    "# the Software without restriction, including without limitation the rights to\n",
    "# use, copy, modify, merge, publish, distribute, sublicense, and/or sell copies of\n",
    "# the Software, and to permit persons to whom the Software is furnished to do so,\n",
    "# subject to the following conditions:\n",
    " \n",
    "# The above copyright notice and this permission notice shall be included in all\n",
    "# copies or substantial portions of the Software.\n",
    " \n",
    "# THE SOFTWARE IS PROVIDED \"AS IS\", WITHOUT WARRANTY OF ANY KIND, EXPRESS OR\n",
    "# IMPLIED, INCLUDING BUT NOT LIMITED TO THE WARRANTIES OF MERCHANTABILITY, FITNESS\n",
    "# FOR A PARTICULAR PURPOSE AND NONINFRINGEMENT. IN NO EVENT SHALL THE AUTHORS OR\n",
    "# COPYRIGHT HOLDERS BE LIABLE FOR ANY CLAIM, DAMAGES OR OTHER LIABILITY, WHETHER\n",
    "# IN AN ACTION OF CONTRACT, TORT OR OTHERWISE, ARISING FROM, OUT OF OR IN\n",
    "# CONNECTION WITH THE SOFTWARE OR THE USE OR OTHER DEALINGS IN THE SOFTWARE.\n"
   ]
  },
  {
   "cell_type": "code",
   "execution_count": 2,
   "metadata": {},
   "outputs": [
    {
     "name": "stderr",
     "output_type": "stream",
     "text": [
      "/tmp/ipykernel_2994/3914466541.py:46: DeprecationWarning: The module snntorch.spikevision is deprecated. For loading neuromorphic datasets, we recommend using the Tonic project: https://github.com/neuromorphs/tonic\n",
      "  from snntorch.spikevision import spikedata\n"
     ]
    }
   ],
   "source": [
    "import sys\n",
    "import os\n",
    "import argparse\n",
    "import torch\n",
    "import torch.nn as nn\n",
    "import torch.nn.functional as F\n",
    "import torch.backends.cudnn as cudnn\n",
    "import torch.optim as optim\n",
    "import torch.optim.lr_scheduler as lr_scheduler\n",
    "from torch.utils.data import Dataset, DataLoader\n",
    "\n",
    "import torchvision\n",
    "import torchvision.datasets\n",
    "import torchvision.transforms as transforms\n",
    "\n",
    "import numpy as np\n",
    "import matplotlib.pyplot as plt\n",
    "\n",
    "import time\n",
    "\n",
    "from snntorch import spikegen\n",
    "import matplotlib.pyplot as plt\n",
    "import snntorch.spikeplot as splt\n",
    "from IPython.display import HTML\n",
    "\n",
    "from tqdm import tqdm\n",
    "\n",
    "from apex.parallel import DistributedDataParallel as DDP\n",
    "\n",
    "import random\n",
    "import datetime\n",
    "\n",
    "import json\n",
    "\n",
    "from sklearn.utils import shuffle\n",
    "\n",
    "''' 레퍼런스\n",
    "https://spikingjelly.readthedocs.io/zh-cn/0.0.0.0.4/spikingjelly.datasets.html#module-spikingjelly.datasets\n",
    "https://github.com/GorkaAbad/Sneaky-Spikes/blob/main/datasets.py\n",
    "https://github.com/GorkaAbad/Sneaky-Spikes/blob/main/how_to.md\n",
    "https://github.com/nmi-lab/torchneuromorphic\n",
    "https://snntorch.readthedocs.io/en/latest/snntorch.spikevision.spikedata.html#shd\n",
    "'''\n",
    "\n",
    "import snntorch\n",
    "from snntorch.spikevision import spikedata\n",
    "\n",
    "from spikingjelly.datasets.dvs128_gesture import DVS128Gesture\n",
    "from spikingjelly.datasets.cifar10_dvs import CIFAR10DVS\n",
    "from spikingjelly.datasets.n_mnist import NMNIST\n",
    "# from spikingjelly.datasets.es_imagenet import ESImageNet\n",
    "from spikingjelly.datasets import split_to_train_test_set\n",
    "from spikingjelly.datasets.n_caltech101 import NCaltech101\n",
    "from spikingjelly.datasets import pad_sequence_collate, padded_sequence_mask\n",
    "\n",
    "import torchneuromorphic\n",
    "\n",
    "import wandb\n",
    "\n",
    "from torchviz import make_dot\n",
    "import graphviz"
   ]
  },
  {
   "cell_type": "code",
   "execution_count": 3,
   "metadata": {},
   "outputs": [
    {
     "data": {
      "image/png": "[encoded data removed]",
      "text/plain": [
       "<Figure size 800x600 with 2 Axes>"
      ]
     },
     "metadata": {},
     "output_type": "display_data"
    }
   ],
   "source": [
    "# my module import\n",
    "from modules import *\n",
    "\n",
    "# modules 폴더에 새모듈.py 만들면\n",
    "# modules/__init__py 파일에 form .새모듈 import * 하셈\n",
    "# 그리고 새모듈.py에서 from modules.새모듈 import * 하셈\n"
   ]
  },
  {
   "cell_type": "code",
   "execution_count": 4,
   "metadata": {},
   "outputs": [],
   "source": [
    "def my_snn_system(devices = \"0,1,2,3\",\n",
    "                    single_step = False, # True # False\n",
    "                    unique_name = 'main',\n",
    "                    my_seed = 42,\n",
    "                    TIME = 10,\n",
    "                    BATCH = 256,\n",
    "                    IMAGE_SIZE = 32,\n",
    "                    which_data = 'CIFAR10',\n",
    "                    # CLASS_NUM = 10,\n",
    "                    data_path = '/data2',\n",
    "                    rate_coding = True,\n",
    "    \n",
    "                    lif_layer_v_init = 0.0,\n",
    "                    lif_layer_v_decay = 0.6,\n",
    "                    lif_layer_v_threshold = 1.2,\n",
    "                    lif_layer_v_reset = 0.0,\n",
    "                    lif_layer_sg_width = 1,\n",
    "\n",
    "                    # synapse_conv_in_channels = IMAGE_PIXEL_CHANNEL,\n",
    "                    synapse_conv_kernel_size = 3,\n",
    "                    synapse_conv_stride = 1,\n",
    "                    synapse_conv_padding = 1,\n",
    "                    synapse_conv_trace_const1 = 1,\n",
    "                    synapse_conv_trace_const2 = 0.6,\n",
    "\n",
    "                    # synapse_fc_out_features = CLASS_NUM,\n",
    "                    synapse_fc_trace_const1 = 1,\n",
    "                    synapse_fc_trace_const2 = 0.6,\n",
    "\n",
    "                    pre_trained = False,\n",
    "                    convTrue_fcFalse = True,\n",
    "                    cfg = [64, 64],\n",
    "                    net_print = False, # True # False\n",
    "                    weight_count_print = False, # True # False\n",
    "                    pre_trained_path = \"net_save/save_now_net.pth\",\n",
    "                    learning_rate = 0.0001,\n",
    "                    epoch_num = 200,\n",
    "                    verbose_interval = 100, #숫자 크게 하면 꺼짐\n",
    "                    validation_interval = 10, #숫자 크게 하면 꺼짐\n",
    "                    tdBN_on = False,\n",
    "                    BN_on = False,\n",
    "\n",
    "                    surrogate = 'sigmoid',\n",
    "\n",
    "                    gradient_verbose = False,\n",
    "\n",
    "                    BPTT_on = False,\n",
    "\n",
    "                    optimizer_what = 'SGD', # 'SGD' 'Adam', 'RMSprop'\n",
    "                    scheduler_name = 'no',\n",
    "                    \n",
    "                    ddp_on = True,\n",
    "\n",
    "                    nda_net = False,\n",
    "                    \n",
    "                    domain_il_epoch = 0, # over 0, then domain il mode on\n",
    "\n",
    "                    dvs_clipping = 1, \n",
    "                    dvs_duration = 10005,\n",
    "\n",
    "                    OTTT_sWS_on = True, # True # False\n",
    "\n",
    "                    DFA_on = False, # True # False\n",
    "                    OTTT_input_trace_on = False, # True # False\n",
    "                 \n",
    "                    e_transport_swap = 5, # 1 이상이면 해당 숫자 에포크만큼 val_acc_best가 변화가 없으면 e_transport scheme (BP vs DFA) swap\n",
    "                    e_transport_swap_tr = 0, # 1 이상이면 해당 숫자 에포크만큼 val_acc_best가 변화가 없으면 e_transport scheme (BP vs DFA) swap\n",
    "                    e_transport_swap_coin = 0, # swap할 수 있는 coin 개수\n",
    "\n",
    "                    drop_rate = 0.5, \n",
    "\n",
    "                    exclude_class = True, # True # False # gesture에서 10번째 클래스 제외\n",
    "\n",
    "                    merge_polarities = True, # True # False # tonic dvs dataset 에서 polarities 합치기\n",
    "                    denoise_on = True, \n",
    "\n",
    "                    I_wanna_sweep_at_this_epoch = -1,\n",
    "                    dvs_duration_domain = [],\n",
    "\n",
    "                    extra_train_dataset = 0,\n",
    "\n",
    "                    num_workers = 2,\n",
    "                    chaching_on = False,\n",
    "                    pin_memory = True, # True # False\n",
    "                  ):\n",
    "    ## hyperparameter check #############################################################\n",
    "    if OTTT_sWS_on == True:\n",
    "        assert BPTT_on == False and tdBN_on == False and BN_on == False\n",
    "        if convTrue_fcFalse == False:\n",
    "            assert single_step == True\n",
    "    if single_step == True:\n",
    "        assert BPTT_on == False and tdBN_on == False \n",
    "    if tdBN_on == True:\n",
    "        assert BPTT_on == True\n",
    "    if pre_trained == True:\n",
    "        print('\\n\\n')\n",
    "        print(\"Caution! pre_trained is True\\n\\n\"*3)    \n",
    "    if DFA_on == True:\n",
    "        assert single_step == True and BPTT_on == False and any(isinstance(item, list) for item in cfg) == False\n",
    "    if OTTT_input_trace_on == True:\n",
    "        assert BPTT_on == False and single_step == True\n",
    "    ######################################################################################\n",
    "\n",
    "\n",
    "    ## 함수 내 모든 로컬 변수 저장 ########################################################\n",
    "    hyperparameters = locals()\n",
    "    hyperparameters['current epoch'] = 0\n",
    "    ######################################################################################\n",
    "    \n",
    "    args_gpu = None\n",
    "    ## DDP settting ######################################################################\n",
    "    if (ddp_on == True):\n",
    "        parser = argparse.ArgumentParser(description='my_snn CIFAR10 Training')\n",
    "\n",
    "        # # local_rank는 command line에서 따로 줄 필요는 없지만, 선언은 필요\n",
    "        parser.add_argument(\"--local_rank\", default=0, type=int)\n",
    "\n",
    "        args = parser.parse_args() # 이거 적어줘야됨. parser argument선언하고\n",
    "\n",
    "        args.gpu = args.local_rank\n",
    "        args_gpu = args.gpu\n",
    "        torch.cuda.set_device(args.gpu)\n",
    "        torch.distributed.init_process_group(backend=\"nccl\", init_method=\"env://\")\n",
    "        args.world_size = torch.distributed.get_world_size()\n",
    "    #######################################################################################\n",
    "\n",
    "\n",
    "    ## wandb 세팅 ###################################################################\n",
    "    current_time = datetime.datetime.now().strftime(\"%Y%m%d_%H%M%S\")\n",
    "    if (ddp_on == True and torch.distributed.get_rank() != 0):\n",
    "        wandb.finish()\n",
    "    if (ddp_on == False or torch.distributed.get_rank() == 0):\n",
    "        wandb.config.update(hyperparameters)\n",
    "        wandb.run.name = f'lr_{learning_rate}_{unique_name}_{which_data}_tstep{TIME}'\n",
    "        wandb.define_metric(\"summary_val_acc\", summary=\"max\")\n",
    "        wandb.run.log_code(\".\", \n",
    "                           include_fn=lambda path: path.endswith(\".py\") or path.endswith(\".ipynb\"),\n",
    "                           exclude_fn=lambda path: 'logs/' in path or 'net_save/' in path or 'result_save/' in path or 'trying/' in path or 'wandb/' in path or 'private/' in path\n",
    "                           )\n",
    "    ###################################################################################\n",
    "\n",
    "\n",
    "\n",
    "    ## gpu setting ##################################################################################################################\n",
    "    os.environ[\"CUDA_DEVICE_ORDER\"]=\"PCI_BUS_ID\" \n",
    "    os.environ[\"CUDA_VISIBLE_DEVICES\"]= devices\n",
    "    ###################################################################################################################################\n",
    "\n",
    "\n",
    "    ## seed setting ##################################################################################################################\n",
    "    seed_assign(my_seed)\n",
    "    ###################################################################################################################################\n",
    "    \n",
    "\n",
    "    ## data_loader 가져오기 ##################################################################################################################\n",
    "    # data loader, pixel channel, class num\n",
    "    train_loader, test_loader, synapse_conv_in_channels, CLASS_NUM = data_loader(\n",
    "            which_data,\n",
    "            data_path, \n",
    "            rate_coding, \n",
    "            BATCH, \n",
    "            IMAGE_SIZE,\n",
    "            ddp_on,\n",
    "            TIME,\n",
    "            dvs_clipping,\n",
    "            dvs_duration,\n",
    "            exclude_class,\n",
    "            merge_polarities,\n",
    "            denoise_on,\n",
    "            my_seed,\n",
    "            extra_train_dataset,\n",
    "            num_workers,\n",
    "            chaching_on,\n",
    "            pin_memory)\n",
    "    synapse_fc_out_features = CLASS_NUM\n",
    "    test_loader_domain_set = []\n",
    "    test_loader_domain_set.append(test_loader)\n",
    "    ###########################################################################################################################################\n",
    "    \n",
    "    ## 다른 dvs duration domain을 validation set으로 불러오기 ##############################################################\n",
    "    if len(dvs_duration_domain) > 0:\n",
    "        for domain in dvs_duration_domain:\n",
    "            train_loader_domain, test_loader_domain, synapse_conv_in_channels_domain, CLASS_NUM_domain = data_loader(\n",
    "                    which_data,\n",
    "                    data_path, \n",
    "                    rate_coding, \n",
    "                    BATCH, \n",
    "                    IMAGE_SIZE,\n",
    "                    ddp_on,\n",
    "                    TIME,\n",
    "                    domain[1], # dvs_clipping\n",
    "                    domain[0], # dvs_duration\n",
    "                    exclude_class,\n",
    "                    merge_polarities,\n",
    "                    denoise_on,\n",
    "                    my_seed,\n",
    "                    extra_train_dataset,\n",
    "                    num_workers,\n",
    "                    chaching_on,\n",
    "                    pin_memory)\n",
    "            test_loader_domain_set.append(test_loader_domain)\n",
    "    ######################################################################################################################\n",
    "    \n",
    "    ## parameter number calculator (안 중요함) ##################################################################################################################\n",
    "    params_num = 0\n",
    "    img_size = IMAGE_SIZE \n",
    "    bias_param = 1 # 1 or 0\n",
    "    classifier_making = False\n",
    "    if (convTrue_fcFalse == True):\n",
    "        past_kernel = synapse_conv_in_channels\n",
    "        for kernel in cfg:\n",
    "            if (classifier_making == False):\n",
    "                if (type(kernel) == list):\n",
    "                    for residual_kernel in kernel:\n",
    "                        if (residual_kernel >= 10000 and residual_kernel < 20000): # separable\n",
    "                            residual_kernel -= 10000\n",
    "                            params_num += (synapse_conv_kernel_size**2 + bias_param) * past_kernel\n",
    "                            params_num += (1**2 * past_kernel + bias_param) * residual_kernel\n",
    "                            past_kernel = residual_kernel  \n",
    "                        elif (residual_kernel >= 20000 and residual_kernel < 30000): # depthwise\n",
    "                            residual_kernel -= 20000\n",
    "                            # 'past_kernel' should be same with 'kernel'\n",
    "                            params_num += (synapse_conv_kernel_size**2 + bias_param) * past_kernel\n",
    "                            past_kernel = residual_kernel  \n",
    "                        else:\n",
    "                            params_num += residual_kernel * ((synapse_conv_kernel_size**2) * past_kernel + bias_param)\n",
    "                            past_kernel = residual_kernel\n",
    "                elif (kernel == 'P' or kernel == 'M'):\n",
    "                    img_size = img_size // 2\n",
    "                elif (kernel == 'D'):\n",
    "                    img_size = 1\n",
    "                elif (kernel == 'L'):\n",
    "                    classifier_making = True\n",
    "                    past_kernel = past_kernel * (img_size**2)\n",
    "                else:\n",
    "                    if (kernel >= 10000 and kernel < 20000): # separable\n",
    "                        kernel -= 10000\n",
    "                        params_num += (synapse_conv_kernel_size**2 + bias_param) * past_kernel\n",
    "                        params_num += (1**2 * past_kernel + bias_param) * kernel\n",
    "                        past_kernel = kernel  \n",
    "                    elif (kernel >= 20000 and kernel < 30000): # depthwise\n",
    "                        kernel -= 20000\n",
    "                        # 'past_kernel' should be same with 'kernel'\n",
    "                        params_num += (synapse_conv_kernel_size**2 + bias_param) * past_kernel\n",
    "                        past_kernel = kernel  \n",
    "                    else:\n",
    "                        params_num += kernel * (synapse_conv_kernel_size**2 * past_kernel + bias_param)\n",
    "                        past_kernel = kernel    \n",
    "            else: # classifier making\n",
    "                params_num += (past_kernel + bias_param) * kernel\n",
    "                past_kernel = kernel\n",
    "        \n",
    "        \n",
    "        if classifier_making == False:\n",
    "            past_kernel = past_kernel*img_size*img_size\n",
    "\n",
    "        params_num += (past_kernel + bias_param) * synapse_fc_out_features\n",
    "    else:\n",
    "        past_in_channel = synapse_conv_in_channels*img_size*img_size\n",
    "        for in_channel in cfg:\n",
    "            if (type(in_channel) == list):\n",
    "                for residual_in_channel in in_channel:\n",
    "                    params_num += (past_in_channel + bias_param) * residual_in_channel\n",
    "                    past_in_channel = residual_in_channel\n",
    "            elif (in_channel == 'P' or in_channel == 'M'):\n",
    "                img_size = img_size // 2\n",
    "                past_in_channel = synapse_conv_in_channels*img_size*img_size\n",
    "            else:\n",
    "                params_num += (past_in_channel + bias_param) * in_channel\n",
    "                past_in_channel = in_channel\n",
    "        params_num += (past_in_channel + bias_param) * synapse_fc_out_features\n",
    "    ###########################################################################################################################################\n",
    "\n",
    "\n",
    "    device = torch.device(\"cuda\" if torch.cuda.is_available() else \"cpu\")\n",
    "\n",
    "    ### network setting #######################################################################################################################\n",
    "    if (convTrue_fcFalse == False):\n",
    "        if (single_step == False):\n",
    "            net = MY_SNN_FC(cfg, synapse_conv_in_channels, IMAGE_SIZE, synapse_fc_out_features,\n",
    "                        synapse_fc_trace_const1, synapse_fc_trace_const2, \n",
    "                        lif_layer_v_init, lif_layer_v_decay, \n",
    "                        lif_layer_v_threshold, lif_layer_v_reset,\n",
    "                        lif_layer_sg_width,\n",
    "                        tdBN_on,\n",
    "                        BN_on, TIME,\n",
    "                        surrogate,\n",
    "                        BPTT_on,\n",
    "                        DFA_on,\n",
    "                        drop_rate).to(device)\n",
    "        else:\n",
    "            net = MY_SNN_FC_sstep(cfg, synapse_conv_in_channels, IMAGE_SIZE, synapse_fc_out_features,\n",
    "                        synapse_fc_trace_const1, synapse_fc_trace_const2, \n",
    "                        lif_layer_v_init, lif_layer_v_decay, \n",
    "                        lif_layer_v_threshold, lif_layer_v_reset,\n",
    "                        lif_layer_sg_width,\n",
    "                        tdBN_on,\n",
    "                        BN_on, TIME,\n",
    "                        surrogate,\n",
    "                        BPTT_on,\n",
    "                        DFA_on,\n",
    "                        OTTT_sWS_on,\n",
    "                        drop_rate).to(device)\n",
    "    else:\n",
    "        if (single_step == False):\n",
    "            net = MY_SNN_CONV(cfg, synapse_conv_in_channels, IMAGE_SIZE,\n",
    "                        synapse_conv_kernel_size, synapse_conv_stride, \n",
    "                        synapse_conv_padding, synapse_conv_trace_const1, \n",
    "                        synapse_conv_trace_const2, \n",
    "                        lif_layer_v_init, lif_layer_v_decay, \n",
    "                        lif_layer_v_threshold, lif_layer_v_reset,\n",
    "                        lif_layer_sg_width,\n",
    "                        synapse_fc_out_features, synapse_fc_trace_const1, synapse_fc_trace_const2,\n",
    "                        tdBN_on,\n",
    "                        BN_on, TIME,\n",
    "                        surrogate,\n",
    "                        BPTT_on,\n",
    "                        OTTT_sWS_on,\n",
    "                        DFA_on,\n",
    "                        drop_rate).to(device)\n",
    "        else:\n",
    "            net = MY_SNN_CONV_sstep(cfg, synapse_conv_in_channels, IMAGE_SIZE,\n",
    "                        synapse_conv_kernel_size, synapse_conv_stride, \n",
    "                        synapse_conv_padding, synapse_conv_trace_const1, \n",
    "                        synapse_conv_trace_const2, \n",
    "                        lif_layer_v_init, lif_layer_v_decay, \n",
    "                        lif_layer_v_threshold, lif_layer_v_reset,\n",
    "                        lif_layer_sg_width,\n",
    "                        synapse_fc_out_features, synapse_fc_trace_const1, synapse_fc_trace_const2,\n",
    "                        tdBN_on,\n",
    "                        BN_on, TIME,\n",
    "                        surrogate,\n",
    "                        BPTT_on,\n",
    "                        OTTT_sWS_on,\n",
    "                        DFA_on,\n",
    "                        drop_rate).to(device)\n",
    "    if (nda_net == True):\n",
    "        net = VGG(cfg = cfg, num_classes=10, batch_norm = tdBN_on, in_c = synapse_conv_in_channels, \n",
    "                    lif_layer_v_threshold=lif_layer_v_threshold, lif_layer_v_decay=lif_layer_v_decay, lif_layer_sg_width=lif_layer_sg_width)\n",
    "        net.T = TIME\n",
    "\n",
    "    if ddp_on == False:\n",
    "        net = torch.nn.DataParallel(net) \n",
    "    \n",
    "    if pre_trained == True:\n",
    "        net.load_state_dict(torch.load(pre_trained_path))\n",
    "    \n",
    "    if ddp_on == True:\n",
    "        device = args.gpu\n",
    "        net = net.to(args.gpu)\n",
    "        net = DDP(net, delay_allreduce=True)\n",
    "\n",
    "    net = net.to(device)\n",
    "    if (net_print == True):\n",
    "        if ddp_on == False or torch.distributed.get_rank() == 0:\n",
    "            print(net)    \n",
    "    ####################################################################################################################################\n",
    "    \n",
    "\n",
    "    ## wandb logging ###########################################\n",
    "    if ddp_on == False or torch.distributed.get_rank() == 0:\n",
    "        wandb.watch(net, log=\"all\", log_freq = 10) #gradient, parameter logging해줌\n",
    "    ############################################################\n",
    "\n",
    "    ## param num and memory estimation except BN with MY own calculation some lines above ##########################################\n",
    "    if ddp_on == False or torch.distributed.get_rank() == 0:\n",
    "        real_param_num = sum(p.numel() for p in net.parameters() if p.requires_grad)\n",
    "        if (weight_count_print == True):\n",
    "            for name, param in net.named_parameters():\n",
    "                if param.requires_grad:\n",
    "                    print(f'Layer: {name} | Number of parameters: {param.numel()}')\n",
    "        # Batch norm 있으면 아래 두 개 서로 다를 수 있음.\n",
    "        # assert real_param_num == params_num, f'parameter number is not same. real_param_num: {real_param_num}, params_num: {params_num}'    \n",
    "        print('='*50)\n",
    "        print(f\"My Num of PARAMS: {params_num:,}, system's param_num : {real_param_num:,}\")\n",
    "        memory = params_num / 8 / 1024 / 1024 # MB\n",
    "        precision = 32\n",
    "        memory = memory * precision \n",
    "        print(f\"Memory: {memory:.2f}MiB at {precision}-bit\")\n",
    "        print('='*50)\n",
    "    ##############################################################################################################################\n",
    "\n",
    "\n",
    "\n",
    "    ## criterion ########################################## # loss 구해주는 친구\n",
    "    criterion = nn.CrossEntropyLoss().to(device)\n",
    "    if (OTTT_sWS_on == True):\n",
    "        # criterion = nn.CrossEntropyLoss().to(device)\n",
    "        criterion = lambda y_t, target_t: ((1 - 0.05) * F.cross_entropy(y_t, target_t) + 0.05 * F.mse_loss(y_t, F.one_hot(target_t, CLASS_NUM).float())) / TIME \n",
    "        if which_data == 'DVS_GESTURE':\n",
    "            criterion = lambda y_t, target_t: ((1 - 0.001) * F.cross_entropy(y_t, target_t) + 0.001 * F.mse_loss(y_t, F.one_hot(target_t, CLASS_NUM).float())) / TIME \n",
    "    ####################################################\n",
    "    \n",
    "\n",
    "\n",
    "\n",
    "    ## optimizer, scheduler ########################################################################\n",
    "    if(optimizer_what == 'SGD'):\n",
    "        # optimizer = optim.SGD(net.parameters(), lr=learning_rate, momentum=0.9)\n",
    "        optimizer = optim.SGD(net.parameters(), lr=learning_rate, momentum=0.9, weight_decay=0)\n",
    "    elif(optimizer_what == 'Adam'):\n",
    "        optimizer = torch.optim.Adam(net.parameters(), lr=learning_rate)\n",
    "        # optimizer = torch.optim.Adam(net.parameters(), lr=0.00001)\n",
    "        # optimizer = torch.optim.Adam(net.parameters(), lr=learning_rate/256 * BATCH, weight_decay=1e-4)\n",
    "        # optimizer = optim.Adam(net.parameters(), lr=learning_rate, weight_decay=0, betas=(0.9, 0.999))\n",
    "    elif(optimizer_what == 'RMSprop'):\n",
    "        pass\n",
    "\n",
    "\n",
    "    if (scheduler_name == 'StepLR'):\n",
    "        scheduler = lr_scheduler.StepLR(optimizer, step_size=10, gamma=0.1)\n",
    "    elif (scheduler_name == 'ExponentialLR'):\n",
    "        scheduler = lr_scheduler.ExponentialLR(optimizer, gamma=0.95)\n",
    "    elif (scheduler_name == 'ReduceLROnPlateau'):\n",
    "        scheduler = lr_scheduler.ReduceLROnPlateau(optimizer, mode='min', factor=0.1, patience=10)\n",
    "    elif (scheduler_name == 'CosineAnnealingLR'):\n",
    "        # scheduler = lr_scheduler.CosineAnnealingLR(optimizer, eta_min=0, T_max=50)\n",
    "        scheduler = torch.optim.lr_scheduler.CosineAnnealingLR(optimizer, eta_min=0, T_max=epoch_num)\n",
    "    elif (scheduler_name == 'OneCycleLR'):\n",
    "        scheduler = lr_scheduler.OneCycleLR(optimizer, max_lr=0.1, steps_per_epoch=len(train_loader), epochs=epoch_num)\n",
    "    else:\n",
    "        pass # 'no' scheduler\n",
    "    ## optimizer, scheduler ########################################################################\n",
    "\n",
    "\n",
    "    tr_acc = 0\n",
    "    tr_correct = 0\n",
    "    tr_total = 0\n",
    "    tr_acc_best = 0\n",
    "    tr_epoch_loss_temp = 0\n",
    "    tr_epoch_loss= 0\n",
    "    val_acc_best = 0\n",
    "    val_acc_now = 0\n",
    "    val_loss = 0\n",
    "    elapsed_time_val = 0\n",
    "    no_val_best_growth_count = 0\n",
    "    no_tr_best_growth_count = 0\n",
    "    iter_acc_array = np.array([])\n",
    "    tr_acc_array = np.array([])\n",
    "    val_acc_now_array = np.array([])\n",
    "    DFA_current = DFA_on\n",
    "    DFA_toggle = False\n",
    "    DFA_flag = 1.0 if DFA_current == True else 0.0\n",
    "    DFA_BP_toggle_trial = 0\n",
    "    iter_of_val = False\n",
    "    #======== EPOCH START ==========================================================================================\n",
    "    for epoch in range(epoch_num):\n",
    "        if (I_wanna_sweep_at_this_epoch == epoch):\n",
    "            net = BP_DFA_SWAP(net, convTrue_fcFalse, single_step, ddp_on, args_gpu)\n",
    "            no_val_best_growth_count = 0\n",
    "            DFA_current = not DFA_current\n",
    "            DFA_toggle = True\n",
    "            DFA_BP_toggle_trial = DFA_BP_toggle_trial + 1\n",
    "        else:\n",
    "            if (e_transport_swap > 0 or e_transport_swap_tr > 0):\n",
    "                assert not (e_transport_swap > 0 and e_transport_swap_tr > 0)\n",
    "                if e_transport_swap > 0 and no_val_best_growth_count == e_transport_swap :\n",
    "                    if DFA_BP_toggle_trial < e_transport_swap_coin:\n",
    "                        net = BP_DFA_SWAP(net, convTrue_fcFalse, single_step, ddp_on, args_gpu)\n",
    "                        no_val_best_growth_count = 0\n",
    "                        DFA_current = not DFA_current\n",
    "                        DFA_toggle = True\n",
    "                        DFA_BP_toggle_trial = DFA_BP_toggle_trial + 1\n",
    "                if e_transport_swap_tr > 0 and no_tr_best_growth_count == e_transport_swap_tr:\n",
    "                    if DFA_BP_toggle_trial < e_transport_swap_coin:\n",
    "                        net = BP_DFA_SWAP(net, convTrue_fcFalse, single_step, ddp_on, args_gpu)\n",
    "                        no_tr_best_growth_count = 0\n",
    "                        DFA_current = not DFA_current\n",
    "                        DFA_toggle = True\n",
    "                        DFA_BP_toggle_trial = DFA_BP_toggle_trial + 1\n",
    "\n",
    "        if ddp_on == False or torch.distributed.get_rank() == 0:\n",
    "            # print('EPOCH', epoch)\n",
    "            pass\n",
    "        epoch_start_time = time.time()\n",
    "\n",
    "        # if (domain_il_epoch>0 and which_data == 'PMNIST'):\n",
    "        #     k = epoch // domain_il_epoch\n",
    "        #     xtrain=data[k]['train']['x']\n",
    "        #     ytrain=data[k]['train']['y']\n",
    "        #     xtest =data[k]['test']['x']\n",
    "        #     ytest =data[k]['test']['y']\n",
    "\n",
    "        ####### iterator : input_loading & tqdm을 통한 progress_bar 생성###################\n",
    "        iterator = enumerate(train_loader, 0)\n",
    "        if ddp_on == False or torch.distributed.get_rank() == 0:  \n",
    "            iterator = tqdm(iterator, total=len(train_loader), desc='train', dynamic_ncols=True, position=0, leave=True)\n",
    "        ##################################################################################   \n",
    "        \n",
    "        #### validation_interval이 batch size보다 작을 시 validation_interval을 batch size로 맞춰줌#############\n",
    "        validation_interval2 = validation_interval\n",
    "        if (validation_interval > len(train_loader)):\n",
    "            validation_interval2 = len(train_loader)\n",
    "        ##################################################################################################\n",
    "\n",
    "\n",
    "        ###### ITERATION START ##########################################################################################################\n",
    "        for i, data in iterator:\n",
    "            iter_one_train_time_start = time.time()\n",
    "            net.train() # train 모드로 바꿔줘야함\n",
    "\n",
    "            ### data loading & semi-pre-processing ################################################################################\n",
    "            if len(data) == 2:\n",
    "                inputs, labels = data\n",
    "                # 처리 로직 작성\n",
    "            elif len(data) == 3:\n",
    "                inputs, labels, x_len = data\n",
    "                # print('x_len',x_len)\n",
    "                # mask = padded_sequence_mask(x_len)\n",
    "                # max_time_step = x_len.max()\n",
    "                # min_time_step = x_len.min()\n",
    "            else:\n",
    "                assert False, 'data length is not 2 or 3'\n",
    "            #######################################################################################################################\n",
    "                \n",
    "            ## batch 크기 ######################################\n",
    "            real_batch = labels.size(0)\n",
    "            ###########################################################\n",
    "\n",
    "            ###########################################################################################################################        \n",
    "            if (which_data == 'n_tidigits'):\n",
    "                inputs = inputs.permute(0, 1, 3, 2, 4)\n",
    "                labels = labels[:, 0, :]\n",
    "                labels = torch.argmax(labels, dim=1)\n",
    "            elif (which_data == 'heidelberg'):\n",
    "                inputs = inputs.view(5, 1000, 1, 700, 1)\n",
    "                print(\"\\n\\n\\n경고!!!! heidelberg 이거 타임스텝이랑 채널 잘 바꿔줘라!!!\\n\\n\\n\\n\")\n",
    "            # print('inputs',inputs.size(),'\\nlabels',labels.size())\n",
    "            # print(labels)\n",
    "                \n",
    "            if (which_data == 'DVS_CIFAR10' or which_data == 'DVS_GESTURE' or which_data == 'DVS_GESTURE_TONIC' or which_data == 'DVS_CIFAR10_2' or which_data == 'NMNIST' or which_data == 'NMNIST_TONIC' or which_data == 'N_CALTECH101' or which_data == 'n_tidigits' or which_data == 'heidelberg'):\n",
    "                inputs = inputs.permute(1, 0, 2, 3, 4)\n",
    "            elif rate_coding == True :\n",
    "                inputs = spikegen.rate(inputs, num_steps=TIME)\n",
    "            else :\n",
    "                inputs = inputs.repeat(TIME, 1, 1, 1, 1)\n",
    "            # inputs: [Time, Batch, Channel, Height, Width]  \n",
    "            ####################################################################################################################### \n",
    "                \n",
    "            \n",
    "            # # dvs 데이터 시각화 코드 (확인 필요할 시 써라)\n",
    "            # ##############################################################################################\n",
    "            # dvs_visualization(inputs, labels, TIME, BATCH, my_seed)\n",
    "            # #####################################################################################################\n",
    "\n",
    "            ## to (device) #######################################\n",
    "            inputs = inputs.to(device)\n",
    "            labels = labels.to(device)\n",
    "            ###########################################################\n",
    "\n",
    "\n",
    "            ## gradient 초기화 #######################################\n",
    "            optimizer.zero_grad()\n",
    "            ###########################################################\n",
    "            \n",
    "            ## DVS gesture에서 other label자리 매꾸기 ###############\n",
    "            if (which_data == 'DVS_GESTURE'):\n",
    "                labels[labels>2] -= 1\n",
    "            #######################################################         \n",
    "                               \n",
    "            if merge_polarities == True:\n",
    "                inputs = inputs[:,:,0,:,:]\n",
    "\n",
    "            if single_step == False:\n",
    "                # net에 넣어줄때는 batch가 젤 앞 차원으로 와야함. # dataparallel때매##############################\n",
    "                # inputs: [Time, Batch, Channel, Height, Width]   \n",
    "                inputs = inputs.permute(1, 0, 2, 3, 4) # net에 넣어줄때는 batch가 젤 앞 차원으로 와야함. # dataparallel때매\n",
    "                # inputs: [Batch, Time, Channel, Height, Width] \n",
    "                #################################################################################################\n",
    "            else:\n",
    "                labels = labels.repeat(TIME, 1)\n",
    "                ## first input도 ottt trace 적용하기 위한 코드 (validation 시에는 필요X) ##########################\n",
    "                if OTTT_input_trace_on == True:\n",
    "                    spike = inputs\n",
    "                    trace = torch.full_like(spike, fill_value = 0.0, dtype = torch.float, requires_grad=False)\n",
    "                    inputs = []\n",
    "                    for t in range(TIME):\n",
    "                        trace[t] = trace[t-1]*synapse_conv_trace_const2 + spike[t]*synapse_conv_trace_const1\n",
    "                        inputs += [[spike[t], trace[t]]]\n",
    "                ##################################################################################################\n",
    "\n",
    "\n",
    "            if single_step == False:\n",
    "                ### input --> net --> output #####################################################\n",
    "                outputs = net(inputs)\n",
    "                ##################################################################################\n",
    "                ## loss, backward ##########################################\n",
    "                iter_loss = criterion(outputs, labels)\n",
    "                iter_loss.backward()\n",
    "                ############################################################\n",
    "                ## weight 업데이트!! ##################################\n",
    "                optimizer.step()\n",
    "                ################################################################\n",
    "            else:\n",
    "                outputs_all = []\n",
    "                iter_loss = 0.0\n",
    "                for t in range(TIME):\n",
    "                    ### input[t] --> net --> output_one_time #########################################\n",
    "                    outputs_one_time = net(inputs[t])\n",
    "                    ##################################################################################\n",
    "                    one_time_loss = criterion(outputs_one_time, labels[t].contiguous())\n",
    "                    one_time_loss.backward() # one_time backward\n",
    "                    iter_loss += one_time_loss.data\n",
    "                    outputs_all.append(outputs_one_time.detach())\n",
    "                optimizer.step() # full step time update\n",
    "                outputs_all = torch.stack(outputs_all, dim=1)\n",
    "                outputs = outputs_all.mean(1) # ottt꺼 쓸때\n",
    "                labels = labels[0]\n",
    "                iter_loss /= TIME\n",
    "            tr_epoch_loss_temp += iter_loss.data/len(train_loader)\n",
    "\n",
    "            ## net 그림 출력해보기 #################################################################\n",
    "            # print('시각화')\n",
    "            # make_dot(outputs, params=dict(list(net.named_parameters()))).render(\"net_torchviz\", format=\"png\")\n",
    "            # return 0\n",
    "            ##################################################################################\n",
    "\n",
    "            #### batch 어긋남 방지 ###############################################\n",
    "            assert real_batch == outputs.size(0), f'batch size is not same. real_batch: {real_batch}, outputs.size(0): {outputs.size(0)}'\n",
    "            #######################################################################\n",
    "            \n",
    "\n",
    "            ####### training accruacy save for print ###############################\n",
    "            _, predicted = torch.max(outputs.data, 1)\n",
    "            total = real_batch\n",
    "            correct = (predicted == labels).sum().item()\n",
    "            iter_acc = correct / total\n",
    "            tr_total += total\n",
    "            tr_correct += correct\n",
    "            if i % verbose_interval == verbose_interval-1:\n",
    "                if ddp_on == False or torch.distributed.get_rank() == 0:\n",
    "                    print(f'{epoch}-{i} training acc: {100 * iter_acc:.2f}%, lr={[f\"{lr}\" for lr in (param_group[\"lr\"] for param_group in optimizer.param_groups)]}, val_acc: {100 * val_acc_now:.2f}%')\n",
    "            iter_acc_string = f'epoch-{epoch:<3} iter_acc:{100 * iter_acc:7.2f}%, lr={[f\"{lr:9.7f}\" for lr in (param_group[\"lr\"] for param_group in optimizer.param_groups)]}'\n",
    "            iter_acc_string2 = f'epoch-{epoch:<3} lr={[f\"{lr:9.7f}\" for lr in (param_group[\"lr\"] for param_group in optimizer.param_groups)]}'\n",
    "            ################################################################\n",
    "            \n",
    "\n",
    "\n",
    "\n",
    "\n",
    "            iter_one_train_time_end = time.time()\n",
    "            elapsed_time = iter_one_train_time_end - iter_one_train_time_start  # 실행 시간 계산\n",
    "\n",
    "            if (i % verbose_interval == verbose_interval-1):\n",
    "                if ddp_on == False or torch.distributed.get_rank() == 0:\n",
    "                    print(f\"iter_one_train_time: {elapsed_time} seconds, last one_val_time: {elapsed_time_val} seconds\\n\")\n",
    "                \n",
    "            ##### validation ##################################################################################################################################\n",
    "            if i % validation_interval2 == validation_interval2-1:\n",
    "                iter_one_val_time_start = time.time()\n",
    "                tr_acc = tr_correct/tr_total\n",
    "                tr_correct = 0\n",
    "                tr_total = 0\n",
    "                domain_index = 0\n",
    "                val_loss_set = []\n",
    "                val_acc_now_set = []\n",
    "                while True:\n",
    "                    val_loss = 0\n",
    "                    correct_val = 0\n",
    "                    total_val = 0\n",
    "                    test_loader = test_loader_domain_set[domain_index]\n",
    "                    domain_index = domain_index + 1\n",
    "\n",
    "                    with torch.no_grad():\n",
    "                        net.eval() # eval 모드로 바꿔줘야함 \n",
    "                        for data_val in test_loader:\n",
    "                            ## data_val loading & semi-pre-processing ##########################################################\n",
    "                            if len(data_val) == 2:\n",
    "                                inputs_val, labels_val = data_val\n",
    "                                # 처리 로직 작성\n",
    "                            elif len(data_val) == 3:\n",
    "                                inputs_val, labels_val, x_len = data_val\n",
    "                                # print('x_len',x_len)\n",
    "                                # mask = padded_sequence_mask(x_len)\n",
    "                                # max_time_step = x_len.max()\n",
    "                                # min_time_step = x_len.min()\n",
    "                                # B, T, *spatial_dims = inputs_val.shape\n",
    "                            else:\n",
    "                                assert False, 'data_val length is not 2 or 3'\n",
    "\n",
    "                            if (which_data == 'DVS_CIFAR10' or which_data == 'DVS_GESTURE' or which_data == 'DVS_GESTURE_TONIC' or which_data == 'DVS_CIFAR10_2' or which_data == 'NMNIST' or which_data == 'NMNIST_TONIC' or which_data == 'N_CALTECH101' or which_data == 'n_tidigits' or which_data == 'heidelberg'):\n",
    "                                inputs_val = inputs_val.permute(1, 0, 2, 3, 4)\n",
    "                            elif rate_coding == True :\n",
    "                                inputs_val = spikegen.rate(inputs_val, num_steps=TIME)\n",
    "                            else :\n",
    "                                inputs_val = inputs_val.repeat(TIME, 1, 1, 1, 1)\n",
    "                            # inputs_val: [Time, Batch, Channel, Height, Width]  \n",
    "                            ###################################################################################################\n",
    "\n",
    "                            inputs_val = inputs_val.to(device)\n",
    "                            labels_val = labels_val.to(device)\n",
    "                            real_batch = labels_val.size(0)\n",
    "                            \n",
    "                            ## DVS gesture에서 other label자리 매꾸기 ###############\n",
    "                            if (which_data == 'DVS_GESTURE'):\n",
    "                                labels_val[labels_val>2] -= 1\n",
    "                            #######################################################\n",
    "                            \n",
    "                            if merge_polarities == True:\n",
    "                                inputs_val = inputs_val[:,:,0,:,:]\n",
    "\n",
    "                            ## network 연산 시작 ############################################################################################################\n",
    "                            if single_step == False:\n",
    "                                outputs = net(inputs_val.permute(1, 0, 2, 3, 4)) #inputs_val: [Batch, Time, Channel, Height, Width]  \n",
    "                                val_loss_val += criterion(outputs, labels_val)/len(test_loader)\n",
    "                            else:\n",
    "                                outputs_all = []\n",
    "                                for t in range(TIME):\n",
    "                                    outputs = net(inputs_val[t])\n",
    "                                    val_loss_temp = criterion(outputs, labels_val)\n",
    "                                    outputs_all.append(outputs.detach())\n",
    "                                    val_loss += (val_loss_temp.data/TIME)/len(test_loader)\n",
    "                                outputs_all = torch.stack(outputs_all, dim=1)\n",
    "                                outputs = outputs_all.mean(1)\n",
    "                            val_loss_set.append(val_loss)\n",
    "                            #################################################################################################################################\n",
    "\n",
    "                            _, predicted = torch.max(outputs.data, 1)\n",
    "                            total_val += real_batch\n",
    "                            assert real_batch == outputs.size(0), f'batch size is not same. real_batch: {real_batch}, outputs.size(0): {outputs.size(0)}'\n",
    "                            correct_val += (predicted == labels_val).sum().item()\n",
    "\n",
    "                        val_acc_now = correct_val / total_val\n",
    "                        # print(f'{epoch}-{i} validation acc: {100 * val_acc_now:.2f}%, lr={[f\"{lr:.10f}\" for lr in (param_group[\"lr\"] for param_group in optimizer.param_groups)]}')\n",
    "                        val_acc_now_set.append(val_acc_now)\n",
    "\n",
    "                    if domain_index == len(dvs_duration_domain) + 1:\n",
    "                        break\n",
    "\n",
    "                val_loss = val_loss_set[0]\n",
    "                val_acc_now = val_acc_now_set[0]\n",
    "\n",
    "                iter_one_val_time_end = time.time()\n",
    "                elapsed_time_val = iter_one_val_time_end - iter_one_val_time_start  # 실행 시간 계산\n",
    "                # print(f\"iter_one_val_time: {elapsed_time_val} seconds\")\n",
    "\n",
    "                # network save\n",
    "                if val_acc_best < val_acc_now:\n",
    "                    val_acc_best = val_acc_now\n",
    "                    if ddp_on == False or torch.distributed.get_rank() == 0:\n",
    "                        # wandb 키면 state_dict아닌거는 저장 안됨\n",
    "                        torch.save(net.state_dict(), f\"net_save/save_now_net_weights_{unique_name}.pth\")\n",
    "                        # torch.save(net, f\"net_save/save_now_net_{unique_name}.pth\")\n",
    "                        # torch.save(net.module.state_dict(), f\"net_save/save_now_net_weights2_{unique_name}.pth\")\n",
    "                        # torch.save(net.module, f\"net_save/save_now_net2_{unique_name}.pth\")\n",
    "                    no_val_best_growth_count = 0\n",
    "                else:\n",
    "                    no_val_best_growth_count = no_val_best_growth_count + 1\n",
    "\n",
    "                if tr_acc_best < tr_acc:\n",
    "                    tr_acc_best = tr_acc\n",
    "                    no_tr_best_growth_count = 0\n",
    "                else:\n",
    "                    no_tr_best_growth_count = no_tr_best_growth_count + 1\n",
    "\n",
    "                tr_epoch_loss = tr_epoch_loss_temp\n",
    "                tr_epoch_loss_temp = 0\n",
    "\n",
    "                if DFA_toggle == True:\n",
    "                    DFA_flag = 1.0 - DFA_flag\n",
    "                    DFA_toggle = False\n",
    "\n",
    "                iter_of_val = True\n",
    "            ####################################################################################################################################################\n",
    "            \n",
    "            ## progress bar update ############################################################################################################\n",
    "            if ddp_on == False or torch.distributed.get_rank() == 0:\n",
    "                if iter_of_val == False:\n",
    "                    iterator.set_description(f\"{iter_acc_string}, iter_loss:{iter_loss:10.6f}, val_best:{100 * val_acc_best:7.2f}%\")  \n",
    "                else:\n",
    "                    iterator.set_description(f\"{iter_acc_string2}, tr/val_loss:{tr_epoch_loss:10.6f}/{val_loss:10.6f}, tr:{100 * tr_acc:7.2f}%, val:{100 * val_acc_now:7.2f}%, val_best:{100 * val_acc_best:7.2f}%\")  \n",
    "                    if len(dvs_duration_domain) > 0:\n",
    "                        dvs_duration_full = [(dvs_duration, dvs_clipping)] + dvs_duration_domain\n",
    "                        print(\" | \".join(f\"{dvs_duration_full[i][0]:,}c{dvs_duration_full[i][1]}:{val_acc_now_set[i]*100:.2f}%\" for i in range(len(val_acc_now_set))))\n",
    "                    iter_of_val = False\n",
    "            \n",
    "            ####################################################################################################################################\n",
    "            \n",
    "            ## wandb logging ############################################################################################################\n",
    "            if ddp_on == False or torch.distributed.get_rank() == 0:\n",
    "                wandb.log({\"iter_acc\": iter_acc})\n",
    "                wandb.log({\"tr_acc\": tr_acc})\n",
    "                wandb.log({\"val_acc_now\": val_acc_now})\n",
    "                wandb.log({\"val_acc_best\": val_acc_best})\n",
    "                wandb.log({\"summary_val_acc\": val_acc_now})\n",
    "                wandb.log({\"epoch\": epoch})\n",
    "                wandb.log({\"DFA_flag\": DFA_flag}) # DFA mode 바뀌자 마자 바뀌는 게 아니고 validation 한번 했을 때 바뀜.\n",
    "                wandb.log({\"val_loss\": val_loss}) \n",
    "                wandb.log({\"tr_epoch_loss\": tr_epoch_loss}) \n",
    "            ####################################################################################################################################\n",
    "            \n",
    "            \n",
    "            ## accuray 로컬에 저장 하기 위한 코드 #####################################################################################\n",
    "            iter_acc_array = np.append(iter_acc_array, iter_acc)\n",
    "            tr_acc_array = np.append(tr_acc_array, tr_acc)\n",
    "            val_acc_now_array = np.append(val_acc_now_array, val_acc_now)\n",
    "            base_name = f'{current_time}'\n",
    "            ####################################################################################################################\n",
    "            \n",
    "            iter_acc_file_name_time = f'result_save/{base_name}_iter_acc_array_{unique_name}.npy'\n",
    "            tr_acc_file_name_time = f'result_save/{base_name}_tr_acc_array_{unique_name}.npy'\n",
    "            val_acc_file_name_time = f'result_save/{base_name}_val_acc_now_array_{unique_name}.npy'\n",
    "            hyperparameters_file_name_time = f'result_save/{base_name}_hyperparameters_{unique_name}.json'\n",
    "\n",
    "            hyperparameters['current epoch'] = epoch\n",
    "\n",
    "            ### accuracy 세이브: 덮어쓰기 하기 싫으면 주석 풀어서 사용 (시간마다 새로 쓰기) 비추천 ########################\n",
    "            # if ddp_on == False or torch.distributed.get_rank() == 0:\n",
    "            #     np.save(iter_acc_file_name_time, iter_acc_array)\n",
    "\n",
    "\n",
    "            #     np.save(tr_acc_file_name_time, iter_acc_array)\n",
    "            #     np.save(val_acc_file_name_time, val_acc_now_array)\n",
    "            #     with open(hyperparameters_file_name_time, 'w') as f:\n",
    "            #         json.dump(hyperparameters, f, indent=4)\n",
    "            #########################################################################################################\n",
    "\n",
    "            ## accuracy 세이브 ###########################################################################################\n",
    "            if ddp_on == False or torch.distributed.get_rank() == 0:\n",
    "                np.save(f'result_save/iter_acc_array_{unique_name}.npy', iter_acc_array)\n",
    "                np.save(f'result_save/tr_acc_array_{unique_name}.npy', tr_acc_array)\n",
    "                np.save(f'result_save/val_acc_now_array_{unique_name}.npy', val_acc_now_array)\n",
    "                with open(f'result_save/hyperparameters_{unique_name}.json', 'w') as f:\n",
    "                    json.dump(hyperparameters, f, indent=4)\n",
    "            ##########################################################################################################\n",
    "        ###### ITERATION END ##########################################################################################################\n",
    "                \n",
    "\n",
    "        ## scheduler update #############################################################################\n",
    "        if (scheduler_name != 'no'):\n",
    "            if (scheduler_name == 'ReduceLROnPlateau'):\n",
    "                scheduler.step(val_loss)\n",
    "            else:\n",
    "                scheduler.step()\n",
    "        #################################################################################################\n",
    "        \n",
    "        # 실행 시간 계산\n",
    "        epoch_time_end = time.time()\n",
    "        # print(f\"epoch_time: {epoch_time_end - epoch_start_time} seconds\\n\") \n",
    "    #======== EPOCH END ==========================================================================================\n"
   ]
  },
  {
   "cell_type": "code",
   "execution_count": 5,
   "metadata": {},
   "outputs": [
    {
     "name": "stderr",
     "output_type": "stream",
     "text": [
      "Failed to detect the name of this notebook, you can set it manually with the WANDB_NOTEBOOK_NAME environment variable to enable code saving.\n",
      "\u001b[34m\u001b[1mwandb\u001b[0m: Currently logged in as: \u001b[33mbhkim003\u001b[0m (\u001b[33mbhkim003-seoul-national-university\u001b[0m). Use \u001b[1m`wandb login --relogin`\u001b[0m to force relogin\n"
     ]
    },
    {
     "data": {
      "text/html": [
       "wandb version 0.18.0 is available!  To upgrade, please run:\n",
       " $ pip install wandb --upgrade"
      ],
      "text/plain": [
       "<IPython.core.display.HTML object>"
      ]
     },
     "metadata": {},
     "output_type": "display_data"
    },
    {
     "data": {
      "text/html": [
       "Tracking run with wandb version 0.17.5"
      ],
      "text/plain": [
       "<IPython.core.display.HTML object>"
      ]
     },
     "metadata": {},
     "output_type": "display_data"
    },
    {
     "data": {
      "text/html": [
       "Run data is saved locally in <code>/nfs/home/bhkim003/github_folder/ByeonghyeonKim/my_snn/wandb/run-20240912_131048-d2qz1uhm</code>"
      ],
      "text/plain": [
       "<IPython.core.display.HTML object>"
      ]
     },
     "metadata": {},
     "output_type": "display_data"
    },
    {
     "data": {
      "text/html": [
       "Syncing run <strong><a href='https://wandb.ai/bhkim003-seoul-national-university/my_snn%20main/runs/d2qz1uhm' target=\"_blank\">still-sponge-5771</a></strong> to <a href='https://wandb.ai/bhkim003-seoul-national-university/my_snn%20main' target=\"_blank\">Weights & Biases</a> (<a href='https://wandb.me/run' target=\"_blank\">docs</a>)<br/>"
      ],
      "text/plain": [
       "<IPython.core.display.HTML object>"
      ]
     },
     "metadata": {},
     "output_type": "display_data"
    },
    {
     "data": {
      "text/html": [
       " View project at <a href='https://wandb.ai/bhkim003-seoul-national-university/my_snn%20main' target=\"_blank\">https://wandb.ai/bhkim003-seoul-national-university/my_snn%20main</a>"
      ],
      "text/plain": [
       "<IPython.core.display.HTML object>"
      ]
     },
     "metadata": {},
     "output_type": "display_data"
    },
    {
     "data": {
      "text/html": [
       " View run at <a href='https://wandb.ai/bhkim003-seoul-national-university/my_snn%20main/runs/d2qz1uhm' target=\"_blank\">https://wandb.ai/bhkim003-seoul-national-university/my_snn%20main/runs/d2qz1uhm</a>"
      ],
      "text/plain": [
       "<IPython.core.display.HTML object>"
      ]
     },
     "metadata": {},
     "output_type": "display_data"
    },
    {
     "name": "stdout",
     "output_type": "stream",
     "text": [
      "dataset_hash = a7ae209740a678b077996d6ed8170e70\n",
      "cache path exists\n",
      "\n",
      "we will exclude the 'other' class. dvsgestrue 10 classes' indices exist. \n",
      "\n",
      "dataset_hash = e4f53e6da8bea326220fd94e3b404107\n",
      "cache path exists\n",
      "\n",
      "we will exclude the 'other' class. dvsgestrue 10 classes' indices exist. \n",
      "\n",
      "dataset_hash = a7ae209740a678b077996d6ed8170e70\n",
      "cache path exists\n",
      "\n",
      "we will exclude the 'other' class. dvsgestrue 10 classes' indices exist. \n",
      "\n",
      "dataset_hash = 0f1b385530e98b3086243b4a1a0e3cbb\n",
      "cache path exists\n",
      "\n",
      "we will exclude the 'other' class. dvsgestrue 10 classes' indices exist. \n",
      "\n",
      "DataParallel(\n",
      "  (module): MY_SNN_FC_sstep(\n",
      "    (layers): MY_Sequential(\n",
      "      (0): MaxPool2d(kernel_size=2, stride=2, padding=0, dilation=1, ceil_mode=False)\n",
      "      (1): MaxPool2d(kernel_size=2, stride=2, padding=0, dilation=1, ceil_mode=False)\n",
      "      (2): DimChanger_for_FC_sstep()\n",
      "      (3): SYNAPSE_FC_trace_sstep()\n",
      "      (4): LIF_layer_trace_sstep()\n",
      "      (5): SYNAPSE_FC_trace_sstep()\n",
      "      (6): LIF_layer_trace_sstep()\n",
      "      (7): SYNAPSE_FC_trace_sstep()\n",
      "    )\n",
      "  )\n",
      ")\n",
      "==================================================\n",
      "My Num of PARAMS: 452,010, system's param_num : 452,010\n",
      "Memory: 1.72MiB at 32-bit\n",
      "==================================================\n"
     ]
    },
    {
     "name": "stderr",
     "output_type": "stream",
     "text": [
      "epoch-0   lr=['0.0010000'], tr/val_loss:  2.161797/  1.822540, tr:  22.17%, val:  47.08%, val_best:  47.08%: 100%|██████████| 62/62 [00:08<00:00,  7.14it/s]"
     ]
    },
    {
     "name": "stdout",
     "output_type": "stream",
     "text": [
      "125,000c5:47.08% | 100,000c5:45.83% | 125,000c5:47.08% | 150,000c5:43.75%\n"
     ]
    },
    {
     "name": "stderr",
     "output_type": "stream",
     "text": [
      "\n",
      "epoch-1   lr=['0.0010000'], tr/val_loss:  1.526200/  1.426643, tr:  51.89%, val:  57.92%, val_best:  57.92%: 100%|██████████| 62/62 [00:07<00:00,  8.01it/s]"
     ]
    },
    {
     "name": "stdout",
     "output_type": "stream",
     "text": [
      "125,000c5:57.92% | 100,000c5:62.92% | 125,000c5:57.92% | 150,000c5:61.25%\n"
     ]
    },
    {
     "name": "stderr",
     "output_type": "stream",
     "text": [
      "\n",
      "epoch-2   lr=['0.0010000'], tr/val_loss:  1.226906/  1.303767, tr:  65.17%, val:  67.08%, val_best:  67.08%: 100%|██████████| 62/62 [00:07<00:00,  7.76it/s]"
     ]
    },
    {
     "name": "stdout",
     "output_type": "stream",
     "text": [
      "125,000c5:67.08% | 100,000c5:65.42% | 125,000c5:67.08% | 150,000c5:66.67%\n"
     ]
    },
    {
     "name": "stderr",
     "output_type": "stream",
     "text": [
      "\n",
      "epoch-3   lr=['0.0010000'], tr/val_loss:  1.066374/  1.299314, tr:  70.28%, val:  64.17%, val_best:  67.08%: 100%|██████████| 62/62 [00:07<00:00,  8.31it/s]"
     ]
    },
    {
     "name": "stdout",
     "output_type": "stream",
     "text": [
      "125,000c5:64.17% | 100,000c5:60.83% | 125,000c5:64.17% | 150,000c5:63.33%\n"
     ]
    },
    {
     "name": "stderr",
     "output_type": "stream",
     "text": [
      "\n",
      "epoch-4   lr=['0.0010000'], tr/val_loss:  0.957604/  1.274650, tr:  74.46%, val:  63.75%, val_best:  67.08%: 100%|██████████| 62/62 [00:08<00:00,  7.60it/s]"
     ]
    },
    {
     "name": "stdout",
     "output_type": "stream",
     "text": [
      "125,000c5:63.75% | 100,000c5:61.67% | 125,000c5:63.75% | 150,000c5:67.92%\n"
     ]
    },
    {
     "name": "stderr",
     "output_type": "stream",
     "text": [
      "\n",
      "epoch-5   lr=['0.0010000'], tr/val_loss:  0.868946/  1.274651, tr:  77.63%, val:  66.25%, val_best:  67.08%: 100%|██████████| 62/62 [00:08<00:00,  7.69it/s]"
     ]
    },
    {
     "name": "stdout",
     "output_type": "stream",
     "text": [
      "125,000c5:66.25% | 100,000c5:66.67% | 125,000c5:66.25% | 150,000c5:64.17%\n"
     ]
    },
    {
     "name": "stderr",
     "output_type": "stream",
     "text": [
      "\n",
      "epoch-6   lr=['0.0010000'], tr/val_loss:  0.776607/  1.291232, tr:  83.96%, val:  61.67%, val_best:  67.08%: 100%|██████████| 62/62 [00:08<00:00,  7.52it/s]"
     ]
    },
    {
     "name": "stdout",
     "output_type": "stream",
     "text": [
      "125,000c5:61.67% | 100,000c5:64.17% | 125,000c5:61.67% | 150,000c5:57.50%\n"
     ]
    },
    {
     "name": "stderr",
     "output_type": "stream",
     "text": [
      "\n",
      "epoch-7   lr=['0.0010000'], tr/val_loss:  0.692313/  1.321760, tr:  86.52%, val:  70.83%, val_best:  70.83%: 100%|██████████| 62/62 [00:07<00:00,  7.82it/s]"
     ]
    },
    {
     "name": "stdout",
     "output_type": "stream",
     "text": [
      "125,000c5:70.83% | 100,000c5:70.42% | 125,000c5:70.83% | 150,000c5:67.50%\n"
     ]
    },
    {
     "name": "stderr",
     "output_type": "stream",
     "text": [
      "\n",
      "epoch-8   lr=['0.0010000'], tr/val_loss:  0.609948/  1.251887, tr:  91.62%, val:  74.58%, val_best:  74.58%: 100%|██████████| 62/62 [00:08<00:00,  7.72it/s]"
     ]
    },
    {
     "name": "stdout",
     "output_type": "stream",
     "text": [
      "125,000c5:74.58% | 100,000c5:72.50% | 125,000c5:74.58% | 150,000c5:71.67%\n"
     ]
    },
    {
     "name": "stderr",
     "output_type": "stream",
     "text": [
      "\n",
      "epoch-9   lr=['0.0010000'], tr/val_loss:  0.544331/  1.355147, tr:  91.83%, val:  62.08%, val_best:  74.58%: 100%|██████████| 62/62 [00:07<00:00,  8.03it/s]"
     ]
    },
    {
     "name": "stdout",
     "output_type": "stream",
     "text": [
      "125,000c5:62.08% | 100,000c5:65.00% | 125,000c5:62.08% | 150,000c5:60.42%\n"
     ]
    },
    {
     "name": "stderr",
     "output_type": "stream",
     "text": [
      "\n",
      "epoch-10  lr=['0.0010000'], tr/val_loss:  0.487424/  1.277304, tr:  94.69%, val:  71.67%, val_best:  74.58%: 100%|██████████| 62/62 [00:07<00:00,  7.87it/s]"
     ]
    },
    {
     "name": "stdout",
     "output_type": "stream",
     "text": [
      "125,000c5:71.67% | 100,000c5:73.33% | 125,000c5:71.67% | 150,000c5:65.83%\n"
     ]
    },
    {
     "name": "stderr",
     "output_type": "stream",
     "text": [
      "\n",
      "epoch-11  lr=['0.0010000'], tr/val_loss:  0.417553/  1.369064, tr:  94.69%, val:  71.67%, val_best:  74.58%: 100%|██████████| 62/62 [00:07<00:00,  7.92it/s]"
     ]
    },
    {
     "name": "stdout",
     "output_type": "stream",
     "text": [
      "125,000c5:71.67% | 100,000c5:70.83% | 125,000c5:71.67% | 150,000c5:70.00%\n"
     ]
    },
    {
     "name": "stderr",
     "output_type": "stream",
     "text": [
      "\n",
      "epoch-12  lr=['0.0010000'], tr/val_loss:  0.349035/  1.362556, tr:  97.55%, val:  74.58%, val_best:  74.58%: 100%|██████████| 62/62 [00:07<00:00,  7.82it/s]"
     ]
    },
    {
     "name": "stdout",
     "output_type": "stream",
     "text": [
      "125,000c5:74.58% | 100,000c5:72.92% | 125,000c5:74.58% | 150,000c5:72.08%\n"
     ]
    },
    {
     "name": "stderr",
     "output_type": "stream",
     "text": [
      "\n",
      "epoch-13  lr=['0.0010000'], tr/val_loss:  0.325867/  1.325476, tr:  97.96%, val:  77.92%, val_best:  77.92%: 100%|██████████| 62/62 [00:07<00:00,  8.07it/s]"
     ]
    },
    {
     "name": "stdout",
     "output_type": "stream",
     "text": [
      "125,000c5:77.92% | 100,000c5:78.75% | 125,000c5:77.92% | 150,000c5:76.25%\n"
     ]
    },
    {
     "name": "stderr",
     "output_type": "stream",
     "text": [
      "\n",
      "epoch-14  lr=['0.0010000'], tr/val_loss:  0.256321/  1.426160, tr:  99.59%, val:  76.67%, val_best:  77.92%: 100%|██████████| 62/62 [00:07<00:00,  7.92it/s]"
     ]
    },
    {
     "name": "stdout",
     "output_type": "stream",
     "text": [
      "125,000c5:76.67% | 100,000c5:77.08% | 125,000c5:76.67% | 150,000c5:70.83%\n"
     ]
    },
    {
     "name": "stderr",
     "output_type": "stream",
     "text": [
      "\n",
      "epoch-15  lr=['0.0010000'], tr/val_loss:  0.217997/  1.500336, tr:  99.28%, val:  73.75%, val_best:  77.92%: 100%|██████████| 62/62 [00:07<00:00,  7.89it/s]"
     ]
    },
    {
     "name": "stdout",
     "output_type": "stream",
     "text": [
      "125,000c5:73.75% | 100,000c5:73.33% | 125,000c5:73.75% | 150,000c5:65.00%\n"
     ]
    },
    {
     "name": "stderr",
     "output_type": "stream",
     "text": [
      "\n",
      "epoch-16  lr=['0.0010000'], tr/val_loss:  0.180805/  1.502186, tr:  99.80%, val:  77.92%, val_best:  77.92%: 100%|██████████| 62/62 [00:08<00:00,  7.75it/s]"
     ]
    },
    {
     "name": "stdout",
     "output_type": "stream",
     "text": [
      "125,000c5:77.92% | 100,000c5:80.83% | 125,000c5:77.92% | 150,000c5:74.58%\n"
     ]
    },
    {
     "name": "stderr",
     "output_type": "stream",
     "text": [
      "\n",
      "epoch-17  lr=['0.0010000'], tr/val_loss:  0.147317/  1.499174, tr: 100.00%, val:  80.00%, val_best:  80.00%: 100%|██████████| 62/62 [00:07<00:00,  8.12it/s]"
     ]
    },
    {
     "name": "stdout",
     "output_type": "stream",
     "text": [
      "125,000c5:80.00% | 100,000c5:79.58% | 125,000c5:80.00% | 150,000c5:75.00%\n"
     ]
    },
    {
     "name": "stderr",
     "output_type": "stream",
     "text": [
      "\n",
      "epoch-18  lr=['0.0010000'], tr/val_loss:  0.119803/  1.554903, tr: 100.00%, val:  80.00%, val_best:  80.00%: 100%|██████████| 62/62 [00:08<00:00,  7.61it/s]"
     ]
    },
    {
     "name": "stdout",
     "output_type": "stream",
     "text": [
      "125,000c5:80.00% | 100,000c5:78.33% | 125,000c5:80.00% | 150,000c5:72.50%\n"
     ]
    },
    {
     "name": "stderr",
     "output_type": "stream",
     "text": [
      "\n",
      "epoch-19  lr=['0.0010000'], tr/val_loss:  0.099042/  1.610722, tr: 100.00%, val:  78.33%, val_best:  80.00%: 100%|██████████| 62/62 [00:07<00:00,  7.88it/s]"
     ]
    },
    {
     "name": "stdout",
     "output_type": "stream",
     "text": [
      "125,000c5:78.33% | 100,000c5:79.17% | 125,000c5:78.33% | 150,000c5:73.75%\n"
     ]
    },
    {
     "name": "stderr",
     "output_type": "stream",
     "text": [
      "\n",
      "epoch-20  lr=['0.0010000'], tr/val_loss:  0.078933/  1.646052, tr: 100.00%, val:  75.00%, val_best:  80.00%: 100%|██████████| 62/62 [00:07<00:00,  8.10it/s]"
     ]
    },
    {
     "name": "stdout",
     "output_type": "stream",
     "text": [
      "125,000c5:75.00% | 100,000c5:78.75% | 125,000c5:75.00% | 150,000c5:72.08%\n"
     ]
    },
    {
     "name": "stderr",
     "output_type": "stream",
     "text": [
      "\n",
      "epoch-21  lr=['0.0010000'], tr/val_loss:  0.066207/  1.664177, tr: 100.00%, val:  80.83%, val_best:  80.83%: 100%|██████████| 62/62 [00:07<00:00,  7.88it/s]"
     ]
    },
    {
     "name": "stdout",
     "output_type": "stream",
     "text": [
      "125,000c5:80.83% | 100,000c5:80.83% | 125,000c5:80.83% | 150,000c5:77.50%\n"
     ]
    },
    {
     "name": "stderr",
     "output_type": "stream",
     "text": [
      "\n",
      "epoch-22  lr=['0.0010000'], tr/val_loss:  0.057435/  1.687011, tr: 100.00%, val:  81.25%, val_best:  81.25%: 100%|██████████| 62/62 [00:08<00:00,  7.53it/s]"
     ]
    },
    {
     "name": "stdout",
     "output_type": "stream",
     "text": [
      "125,000c5:81.25% | 100,000c5:80.83% | 125,000c5:81.25% | 150,000c5:74.17%\n"
     ]
    },
    {
     "name": "stderr",
     "output_type": "stream",
     "text": [
      "\n",
      "epoch-23  lr=['0.0010000'], tr/val_loss:  0.043678/  1.751642, tr: 100.00%, val:  78.75%, val_best:  81.25%: 100%|██████████| 62/62 [00:07<00:00,  8.07it/s]"
     ]
    },
    {
     "name": "stdout",
     "output_type": "stream",
     "text": [
      "125,000c5:78.75% | 100,000c5:80.83% | 125,000c5:78.75% | 150,000c5:74.58%\n"
     ]
    },
    {
     "name": "stderr",
     "output_type": "stream",
     "text": [
      "\n",
      "epoch-24  lr=['0.0010000'], tr/val_loss:  0.038164/  1.746877, tr: 100.00%, val:  79.58%, val_best:  81.25%: 100%|██████████| 62/62 [00:08<00:00,  7.69it/s]"
     ]
    },
    {
     "name": "stdout",
     "output_type": "stream",
     "text": [
      "125,000c5:79.58% | 100,000c5:81.25% | 125,000c5:79.58% | 150,000c5:76.25%\n"
     ]
    },
    {
     "name": "stderr",
     "output_type": "stream",
     "text": [
      "\n",
      "epoch-25  lr=['0.0010000'], tr/val_loss:  0.035559/  1.780042, tr: 100.00%, val:  79.58%, val_best:  81.25%: 100%|██████████| 62/62 [00:07<00:00,  7.90it/s]"
     ]
    },
    {
     "name": "stdout",
     "output_type": "stream",
     "text": [
      "125,000c5:79.58% | 100,000c5:79.58% | 125,000c5:79.58% | 150,000c5:75.83%\n"
     ]
    },
    {
     "name": "stderr",
     "output_type": "stream",
     "text": [
      "\n",
      "epoch-26  lr=['0.0010000'], tr/val_loss:  0.031032/  1.789599, tr: 100.00%, val:  80.00%, val_best:  81.25%: 100%|██████████| 62/62 [00:07<00:00,  7.79it/s]"
     ]
    },
    {
     "name": "stdout",
     "output_type": "stream",
     "text": [
      "125,000c5:80.00% | 100,000c5:81.25% | 125,000c5:80.00% | 150,000c5:74.17%\n"
     ]
    },
    {
     "name": "stderr",
     "output_type": "stream",
     "text": [
      "\n",
      "epoch-27  lr=['0.0010000'], tr/val_loss:  0.024623/  1.826798, tr: 100.00%, val:  78.75%, val_best:  81.25%: 100%|██████████| 62/62 [00:07<00:00,  8.03it/s]"
     ]
    },
    {
     "name": "stdout",
     "output_type": "stream",
     "text": [
      "125,000c5:78.75% | 100,000c5:79.58% | 125,000c5:78.75% | 150,000c5:74.17%\n"
     ]
    },
    {
     "name": "stderr",
     "output_type": "stream",
     "text": [
      "\n",
      "epoch-28  lr=['0.0010000'], tr/val_loss:  0.021718/  1.836145, tr: 100.00%, val:  80.42%, val_best:  81.25%: 100%|██████████| 62/62 [00:07<00:00,  7.80it/s]"
     ]
    },
    {
     "name": "stdout",
     "output_type": "stream",
     "text": [
      "125,000c5:80.42% | 100,000c5:80.00% | 125,000c5:80.42% | 150,000c5:74.17%\n"
     ]
    },
    {
     "name": "stderr",
     "output_type": "stream",
     "text": [
      "\n",
      "epoch-29  lr=['0.0010000'], tr/val_loss:  0.019797/  1.838404, tr: 100.00%, val:  81.67%, val_best:  81.67%: 100%|██████████| 62/62 [00:07<00:00,  7.85it/s]"
     ]
    },
    {
     "name": "stdout",
     "output_type": "stream",
     "text": [
      "125,000c5:81.67% | 100,000c5:79.58% | 125,000c5:81.67% | 150,000c5:75.83%\n"
     ]
    },
    {
     "name": "stderr",
     "output_type": "stream",
     "text": [
      "\n",
      "epoch-30  lr=['0.0010000'], tr/val_loss:  0.017008/  1.858635, tr: 100.00%, val:  80.83%, val_best:  81.67%: 100%|██████████| 62/62 [00:09<00:00,  6.43it/s]"
     ]
    },
    {
     "name": "stdout",
     "output_type": "stream",
     "text": [
      "125,000c5:80.83% | 100,000c5:79.58% | 125,000c5:80.83% | 150,000c5:76.25%\n"
     ]
    },
    {
     "name": "stderr",
     "output_type": "stream",
     "text": [
      "\n",
      "epoch-31  lr=['0.0010000'], tr/val_loss:  0.016067/  1.839206, tr: 100.00%, val:  82.92%, val_best:  82.92%: 100%|██████████| 62/62 [00:07<00:00,  8.03it/s]"
     ]
    },
    {
     "name": "stdout",
     "output_type": "stream",
     "text": [
      "125,000c5:82.92% | 100,000c5:79.17% | 125,000c5:82.92% | 150,000c5:77.08%\n"
     ]
    },
    {
     "name": "stderr",
     "output_type": "stream",
     "text": [
      "\n",
      "epoch-32  lr=['0.0010000'], tr/val_loss:  0.014554/  1.869310, tr: 100.00%, val:  82.08%, val_best:  82.92%: 100%|██████████| 62/62 [00:07<00:00,  7.77it/s]"
     ]
    },
    {
     "name": "stdout",
     "output_type": "stream",
     "text": [
      "125,000c5:82.08% | 100,000c5:79.17% | 125,000c5:82.08% | 150,000c5:76.67%\n"
     ]
    },
    {
     "name": "stderr",
     "output_type": "stream",
     "text": [
      "\n",
      "epoch-33  lr=['0.0010000'], tr/val_loss:  0.013489/  1.883575, tr: 100.00%, val:  82.50%, val_best:  82.92%: 100%|██████████| 62/62 [00:07<00:00,  8.00it/s]"
     ]
    },
    {
     "name": "stdout",
     "output_type": "stream",
     "text": [
      "125,000c5:82.50% | 100,000c5:80.00% | 125,000c5:82.50% | 150,000c5:75.83%\n"
     ]
    },
    {
     "name": "stderr",
     "output_type": "stream",
     "text": [
      "\n",
      "epoch-34  lr=['0.0010000'], tr/val_loss:  0.012416/  1.892268, tr: 100.00%, val:  82.08%, val_best:  82.92%: 100%|██████████| 62/62 [00:08<00:00,  7.75it/s]"
     ]
    },
    {
     "name": "stdout",
     "output_type": "stream",
     "text": [
      "125,000c5:82.08% | 100,000c5:80.00% | 125,000c5:82.08% | 150,000c5:75.00%\n"
     ]
    },
    {
     "name": "stderr",
     "output_type": "stream",
     "text": [
      "\n",
      "epoch-35  lr=['0.0010000'], tr/val_loss:  0.012894/  1.912642, tr: 100.00%, val:  82.92%, val_best:  82.92%: 100%|██████████| 62/62 [00:07<00:00,  8.10it/s]"
     ]
    },
    {
     "name": "stdout",
     "output_type": "stream",
     "text": [
      "125,000c5:82.92% | 100,000c5:80.83% | 125,000c5:82.92% | 150,000c5:74.58%\n"
     ]
    },
    {
     "name": "stderr",
     "output_type": "stream",
     "text": [
      "\n",
      "epoch-36  lr=['0.0010000'], tr/val_loss:  0.011133/  1.918387, tr: 100.00%, val:  82.08%, val_best:  82.92%: 100%|██████████| 62/62 [00:07<00:00,  8.01it/s]"
     ]
    },
    {
     "name": "stdout",
     "output_type": "stream",
     "text": [
      "125,000c5:82.08% | 100,000c5:79.17% | 125,000c5:82.08% | 150,000c5:76.25%\n"
     ]
    },
    {
     "name": "stderr",
     "output_type": "stream",
     "text": [
      "\n",
      "epoch-37  lr=['0.0010000'], tr/val_loss:  0.010291/  1.921932, tr: 100.00%, val:  82.50%, val_best:  82.92%: 100%|██████████| 62/62 [00:07<00:00,  7.86it/s]"
     ]
    },
    {
     "name": "stdout",
     "output_type": "stream",
     "text": [
      "125,000c5:82.50% | 100,000c5:80.42% | 125,000c5:82.50% | 150,000c5:75.83%\n"
     ]
    },
    {
     "name": "stderr",
     "output_type": "stream",
     "text": [
      "\n",
      "epoch-38  lr=['0.0010000'], tr/val_loss:  0.010043/  1.947246, tr: 100.00%, val:  81.67%, val_best:  82.92%: 100%|██████████| 62/62 [00:07<00:00,  7.76it/s]"
     ]
    },
    {
     "name": "stdout",
     "output_type": "stream",
     "text": [
      "125,000c5:81.67% | 100,000c5:80.00% | 125,000c5:81.67% | 150,000c5:75.00%\n"
     ]
    },
    {
     "name": "stderr",
     "output_type": "stream",
     "text": [
      "\n",
      "epoch-39  lr=['0.0010000'], tr/val_loss:  0.009019/  1.944865, tr: 100.00%, val:  80.42%, val_best:  82.92%: 100%|██████████| 62/62 [00:07<00:00,  7.80it/s]"
     ]
    },
    {
     "name": "stdout",
     "output_type": "stream",
     "text": [
      "125,000c5:80.42% | 100,000c5:79.17% | 125,000c5:80.42% | 150,000c5:77.08%\n"
     ]
    },
    {
     "name": "stderr",
     "output_type": "stream",
     "text": [
      "\n",
      "epoch-40  lr=['0.0010000'], tr/val_loss:  0.008215/  1.967376, tr: 100.00%, val:  81.67%, val_best:  82.92%: 100%|██████████| 62/62 [00:08<00:00,  7.73it/s]"
     ]
    },
    {
     "name": "stdout",
     "output_type": "stream",
     "text": [
      "125,000c5:81.67% | 100,000c5:80.00% | 125,000c5:81.67% | 150,000c5:76.67%\n"
     ]
    },
    {
     "name": "stderr",
     "output_type": "stream",
     "text": [
      "\n",
      "epoch-41  lr=['0.0010000'], tr/val_loss:  0.007483/  1.975884, tr: 100.00%, val:  82.92%, val_best:  82.92%: 100%|██████████| 62/62 [00:07<00:00,  7.92it/s]"
     ]
    },
    {
     "name": "stdout",
     "output_type": "stream",
     "text": [
      "125,000c5:82.92% | 100,000c5:80.83% | 125,000c5:82.92% | 150,000c5:75.83%\n"
     ]
    },
    {
     "name": "stderr",
     "output_type": "stream",
     "text": [
      "\n",
      "epoch-42  lr=['0.0010000'], tr/val_loss:  0.007423/  1.973783, tr: 100.00%, val:  81.67%, val_best:  82.92%: 100%|██████████| 62/62 [00:07<00:00,  8.05it/s]"
     ]
    },
    {
     "name": "stdout",
     "output_type": "stream",
     "text": [
      "125,000c5:81.67% | 100,000c5:80.00% | 125,000c5:81.67% | 150,000c5:75.42%\n"
     ]
    },
    {
     "name": "stderr",
     "output_type": "stream",
     "text": [
      "\n",
      "epoch-43  lr=['0.0010000'], tr/val_loss:  0.006854/  1.982641, tr: 100.00%, val:  82.50%, val_best:  82.92%: 100%|██████████| 62/62 [00:07<00:00,  7.85it/s]"
     ]
    },
    {
     "name": "stdout",
     "output_type": "stream",
     "text": [
      "125,000c5:82.50% | 100,000c5:80.83% | 125,000c5:82.50% | 150,000c5:75.42%\n"
     ]
    },
    {
     "name": "stderr",
     "output_type": "stream",
     "text": [
      "\n",
      "epoch-44  lr=['0.0010000'], tr/val_loss:  0.006529/  1.985528, tr: 100.00%, val:  81.67%, val_best:  82.92%: 100%|██████████| 62/62 [00:08<00:00,  7.63it/s]"
     ]
    },
    {
     "name": "stdout",
     "output_type": "stream",
     "text": [
      "125,000c5:81.67% | 100,000c5:81.25% | 125,000c5:81.67% | 150,000c5:75.83%\n"
     ]
    },
    {
     "name": "stderr",
     "output_type": "stream",
     "text": [
      "\n",
      "epoch-45  lr=['0.0010000'], tr/val_loss:  0.006615/  1.998709, tr: 100.00%, val:  82.50%, val_best:  82.92%: 100%|██████████| 62/62 [00:07<00:00,  7.96it/s]"
     ]
    },
    {
     "name": "stdout",
     "output_type": "stream",
     "text": [
      "125,000c5:82.50% | 100,000c5:80.00% | 125,000c5:82.50% | 150,000c5:75.42%\n"
     ]
    },
    {
     "name": "stderr",
     "output_type": "stream",
     "text": [
      "\n",
      "epoch-46  lr=['0.0010000'], tr/val_loss:  0.006102/  2.020504, tr: 100.00%, val:  82.50%, val_best:  82.92%: 100%|██████████| 62/62 [00:07<00:00,  7.78it/s]"
     ]
    },
    {
     "name": "stdout",
     "output_type": "stream",
     "text": [
      "125,000c5:82.50% | 100,000c5:79.58% | 125,000c5:82.50% | 150,000c5:76.25%\n"
     ]
    },
    {
     "name": "stderr",
     "output_type": "stream",
     "text": [
      "\n",
      "epoch-47  lr=['0.0010000'], tr/val_loss:  0.005717/  2.029821, tr: 100.00%, val:  82.92%, val_best:  82.92%: 100%|██████████| 62/62 [00:07<00:00,  7.84it/s]"
     ]
    },
    {
     "name": "stdout",
     "output_type": "stream",
     "text": [
      "125,000c5:82.92% | 100,000c5:79.58% | 125,000c5:82.92% | 150,000c5:76.67%\n"
     ]
    },
    {
     "name": "stderr",
     "output_type": "stream",
     "text": [
      "\n",
      "epoch-48  lr=['0.0010000'], tr/val_loss:  0.005657/  2.017584, tr: 100.00%, val:  82.08%, val_best:  82.92%: 100%|██████████| 62/62 [00:07<00:00,  7.86it/s]"
     ]
    },
    {
     "name": "stdout",
     "output_type": "stream",
     "text": [
      "125,000c5:82.08% | 100,000c5:80.00% | 125,000c5:82.08% | 150,000c5:77.50%\n"
     ]
    },
    {
     "name": "stderr",
     "output_type": "stream",
     "text": [
      "\n",
      "epoch-49  lr=['0.0010000'], tr/val_loss:  0.005497/  2.045713, tr: 100.00%, val:  81.25%, val_best:  82.92%: 100%|██████████| 62/62 [00:07<00:00,  7.97it/s]"
     ]
    },
    {
     "name": "stdout",
     "output_type": "stream",
     "text": [
      "125,000c5:81.25% | 100,000c5:80.42% | 125,000c5:81.25% | 150,000c5:77.08%\n"
     ]
    },
    {
     "name": "stderr",
     "output_type": "stream",
     "text": [
      "\n",
      "epoch-50  lr=['0.0010000'], tr/val_loss:  0.005074/  2.041327, tr: 100.00%, val:  82.08%, val_best:  82.92%: 100%|██████████| 62/62 [00:08<00:00,  7.73it/s]"
     ]
    },
    {
     "name": "stdout",
     "output_type": "stream",
     "text": [
      "125,000c5:82.08% | 100,000c5:79.17% | 125,000c5:82.08% | 150,000c5:77.08%\n"
     ]
    },
    {
     "name": "stderr",
     "output_type": "stream",
     "text": [
      "\n",
      "epoch-51  lr=['0.0010000'], tr/val_loss:  0.004800/  2.044519, tr: 100.00%, val:  82.08%, val_best:  82.92%: 100%|██████████| 62/62 [00:08<00:00,  7.74it/s]"
     ]
    },
    {
     "name": "stdout",
     "output_type": "stream",
     "text": [
      "125,000c5:82.08% | 100,000c5:78.75% | 125,000c5:82.08% | 150,000c5:77.50%\n"
     ]
    },
    {
     "name": "stderr",
     "output_type": "stream",
     "text": [
      "\n",
      "epoch-52  lr=['0.0010000'], tr/val_loss:  0.004660/  2.061254, tr: 100.00%, val:  81.25%, val_best:  82.92%: 100%|██████████| 62/62 [00:07<00:00,  7.76it/s]"
     ]
    },
    {
     "name": "stdout",
     "output_type": "stream",
     "text": [
      "125,000c5:81.25% | 100,000c5:79.17% | 125,000c5:81.25% | 150,000c5:77.08%\n"
     ]
    },
    {
     "name": "stderr",
     "output_type": "stream",
     "text": [
      "\n",
      "epoch-53  lr=['0.0010000'], tr/val_loss:  0.004496/  2.063738, tr: 100.00%, val:  80.42%, val_best:  82.92%: 100%|██████████| 62/62 [00:08<00:00,  7.69it/s]"
     ]
    },
    {
     "name": "stdout",
     "output_type": "stream",
     "text": [
      "125,000c5:80.42% | 100,000c5:79.17% | 125,000c5:80.42% | 150,000c5:77.08%\n"
     ]
    },
    {
     "name": "stderr",
     "output_type": "stream",
     "text": [
      "\n",
      "epoch-54  lr=['0.0010000'], tr/val_loss:  0.004390/  2.053270, tr: 100.00%, val:  81.67%, val_best:  82.92%: 100%|██████████| 62/62 [00:08<00:00,  7.64it/s]"
     ]
    },
    {
     "name": "stdout",
     "output_type": "stream",
     "text": [
      "125,000c5:81.67% | 100,000c5:79.58% | 125,000c5:81.67% | 150,000c5:77.08%\n"
     ]
    },
    {
     "name": "stderr",
     "output_type": "stream",
     "text": [
      "\n",
      "epoch-55  lr=['0.0010000'], tr/val_loss:  0.004341/  2.078583, tr: 100.00%, val:  81.25%, val_best:  82.92%: 100%|██████████| 62/62 [00:07<00:00,  7.88it/s]"
     ]
    },
    {
     "name": "stdout",
     "output_type": "stream",
     "text": [
      "125,000c5:81.25% | 100,000c5:79.58% | 125,000c5:81.25% | 150,000c5:77.92%\n"
     ]
    },
    {
     "name": "stderr",
     "output_type": "stream",
     "text": [
      "\n",
      "epoch-56  lr=['0.0010000'], tr/val_loss:  0.004014/  2.085003, tr: 100.00%, val:  81.25%, val_best:  82.92%: 100%|██████████| 62/62 [00:08<00:00,  7.59it/s]"
     ]
    },
    {
     "name": "stdout",
     "output_type": "stream",
     "text": [
      "125,000c5:81.25% | 100,000c5:79.17% | 125,000c5:81.25% | 150,000c5:77.50%\n"
     ]
    },
    {
     "name": "stderr",
     "output_type": "stream",
     "text": [
      "\n",
      "epoch-57  lr=['0.0010000'], tr/val_loss:  0.003879/  2.087694, tr: 100.00%, val:  81.67%, val_best:  82.92%: 100%|██████████| 62/62 [00:07<00:00,  7.90it/s]"
     ]
    },
    {
     "name": "stdout",
     "output_type": "stream",
     "text": [
      "125,000c5:81.67% | 100,000c5:78.75% | 125,000c5:81.67% | 150,000c5:77.92%\n"
     ]
    },
    {
     "name": "stderr",
     "output_type": "stream",
     "text": [
      "\n",
      "epoch-58  lr=['0.0010000'], tr/val_loss:  0.003805/  2.093536, tr: 100.00%, val:  81.25%, val_best:  82.92%: 100%|██████████| 62/62 [00:08<00:00,  7.72it/s]"
     ]
    },
    {
     "name": "stdout",
     "output_type": "stream",
     "text": [
      "125,000c5:81.25% | 100,000c5:78.33% | 125,000c5:81.25% | 150,000c5:77.92%\n"
     ]
    },
    {
     "name": "stderr",
     "output_type": "stream",
     "text": [
      "\n",
      "epoch-59  lr=['0.0010000'], tr/val_loss:  0.003638/  2.085660, tr: 100.00%, val:  81.67%, val_best:  82.92%: 100%|██████████| 62/62 [00:07<00:00,  7.82it/s]"
     ]
    },
    {
     "name": "stdout",
     "output_type": "stream",
     "text": [
      "125,000c5:81.67% | 100,000c5:78.75% | 125,000c5:81.67% | 150,000c5:77.50%\n"
     ]
    },
    {
     "name": "stderr",
     "output_type": "stream",
     "text": [
      "\n",
      "epoch-60  lr=['0.0010000'], tr/val_loss:  0.003647/  2.094283, tr: 100.00%, val:  81.25%, val_best:  82.92%: 100%|██████████| 62/62 [00:08<00:00,  7.66it/s]"
     ]
    },
    {
     "name": "stdout",
     "output_type": "stream",
     "text": [
      "125,000c5:81.25% | 100,000c5:79.17% | 125,000c5:81.25% | 150,000c5:77.50%\n"
     ]
    },
    {
     "name": "stderr",
     "output_type": "stream",
     "text": [
      "\n",
      "epoch-61  lr=['0.0010000'], tr/val_loss:  0.003502/  2.095282, tr: 100.00%, val:  81.25%, val_best:  82.92%: 100%|██████████| 62/62 [00:07<00:00,  7.88it/s]"
     ]
    },
    {
     "name": "stdout",
     "output_type": "stream",
     "text": [
      "125,000c5:81.25% | 100,000c5:78.75% | 125,000c5:81.25% | 150,000c5:76.25%\n"
     ]
    },
    {
     "name": "stderr",
     "output_type": "stream",
     "text": [
      "\n",
      "epoch-62  lr=['0.0010000'], tr/val_loss:  0.003399/  2.100370, tr: 100.00%, val:  81.67%, val_best:  82.92%: 100%|██████████| 62/62 [00:07<00:00,  7.90it/s]"
     ]
    },
    {
     "name": "stdout",
     "output_type": "stream",
     "text": [
      "125,000c5:81.67% | 100,000c5:79.58% | 125,000c5:81.67% | 150,000c5:78.33%\n"
     ]
    },
    {
     "name": "stderr",
     "output_type": "stream",
     "text": [
      "\n",
      "epoch-63  lr=['0.0010000'], tr/val_loss:  0.003346/  2.108954, tr: 100.00%, val:  82.50%, val_best:  82.92%: 100%|██████████| 62/62 [00:09<00:00,  6.40it/s]"
     ]
    },
    {
     "name": "stdout",
     "output_type": "stream",
     "text": [
      "125,000c5:82.50% | 100,000c5:80.00% | 125,000c5:82.50% | 150,000c5:77.50%\n"
     ]
    },
    {
     "name": "stderr",
     "output_type": "stream",
     "text": [
      "\n",
      "epoch-64  lr=['0.0010000'], tr/val_loss:  0.003223/  2.116595, tr: 100.00%, val:  82.08%, val_best:  82.92%: 100%|██████████| 62/62 [00:07<00:00,  7.82it/s]"
     ]
    },
    {
     "name": "stdout",
     "output_type": "stream",
     "text": [
      "125,000c5:82.08% | 100,000c5:79.17% | 125,000c5:82.08% | 150,000c5:77.08%\n"
     ]
    },
    {
     "name": "stderr",
     "output_type": "stream",
     "text": [
      "\n",
      "epoch-65  lr=['0.0010000'], tr/val_loss:  0.003096/  2.131482, tr: 100.00%, val:  82.08%, val_best:  82.92%: 100%|██████████| 62/62 [00:07<00:00,  8.00it/s]"
     ]
    },
    {
     "name": "stdout",
     "output_type": "stream",
     "text": [
      "125,000c5:82.08% | 100,000c5:79.58% | 125,000c5:82.08% | 150,000c5:76.67%\n"
     ]
    },
    {
     "name": "stderr",
     "output_type": "stream",
     "text": [
      "\n",
      "epoch-66  lr=['0.0010000'], tr/val_loss:  0.002989/  2.128659, tr: 100.00%, val:  81.67%, val_best:  82.92%: 100%|██████████| 62/62 [00:08<00:00,  7.63it/s]"
     ]
    },
    {
     "name": "stdout",
     "output_type": "stream",
     "text": [
      "125,000c5:81.67% | 100,000c5:80.00% | 125,000c5:81.67% | 150,000c5:76.25%\n"
     ]
    },
    {
     "name": "stderr",
     "output_type": "stream",
     "text": [
      "\n",
      "epoch-67  lr=['0.0010000'], tr/val_loss:  0.002885/  2.135132, tr: 100.00%, val:  82.08%, val_best:  82.92%: 100%|██████████| 62/62 [00:08<00:00,  7.71it/s]"
     ]
    },
    {
     "name": "stdout",
     "output_type": "stream",
     "text": [
      "125,000c5:82.08% | 100,000c5:77.92% | 125,000c5:82.08% | 150,000c5:77.08%\n"
     ]
    },
    {
     "name": "stderr",
     "output_type": "stream",
     "text": [
      "\n",
      "epoch-68  lr=['0.0010000'], tr/val_loss:  0.002812/  2.140261, tr: 100.00%, val:  82.08%, val_best:  82.92%: 100%|██████████| 62/62 [00:08<00:00,  7.50it/s]"
     ]
    },
    {
     "name": "stdout",
     "output_type": "stream",
     "text": [
      "125,000c5:82.08% | 100,000c5:78.75% | 125,000c5:82.08% | 150,000c5:76.67%\n"
     ]
    },
    {
     "name": "stderr",
     "output_type": "stream",
     "text": [
      "\n",
      "epoch-69  lr=['0.0010000'], tr/val_loss:  0.002824/  2.146555, tr: 100.00%, val:  81.67%, val_best:  82.92%: 100%|██████████| 62/62 [00:07<00:00,  7.86it/s]"
     ]
    },
    {
     "name": "stdout",
     "output_type": "stream",
     "text": [
      "125,000c5:81.67% | 100,000c5:78.75% | 125,000c5:81.67% | 150,000c5:77.50%\n"
     ]
    },
    {
     "name": "stderr",
     "output_type": "stream",
     "text": [
      "\n",
      "epoch-70  lr=['0.0010000'], tr/val_loss:  0.002834/  2.143196, tr: 100.00%, val:  82.08%, val_best:  82.92%: 100%|██████████| 62/62 [00:08<00:00,  7.59it/s]"
     ]
    },
    {
     "name": "stdout",
     "output_type": "stream",
     "text": [
      "125,000c5:82.08% | 100,000c5:79.17% | 125,000c5:82.08% | 150,000c5:76.67%\n"
     ]
    },
    {
     "name": "stderr",
     "output_type": "stream",
     "text": [
      "\n",
      "epoch-71  lr=['0.0010000'], tr/val_loss:  0.002775/  2.142148, tr: 100.00%, val:  82.08%, val_best:  82.92%: 100%|██████████| 62/62 [00:08<00:00,  7.50it/s]"
     ]
    },
    {
     "name": "stdout",
     "output_type": "stream",
     "text": [
      "125,000c5:82.08% | 100,000c5:78.75% | 125,000c5:82.08% | 150,000c5:77.08%\n"
     ]
    },
    {
     "name": "stderr",
     "output_type": "stream",
     "text": [
      "\n",
      "epoch-72  lr=['0.0010000'], tr/val_loss:  0.002666/  2.147281, tr: 100.00%, val:  82.08%, val_best:  82.92%: 100%|██████████| 62/62 [00:07<00:00,  7.76it/s]"
     ]
    },
    {
     "name": "stdout",
     "output_type": "stream",
     "text": [
      "125,000c5:82.08% | 100,000c5:78.75% | 125,000c5:82.08% | 150,000c5:77.92%\n"
     ]
    },
    {
     "name": "stderr",
     "output_type": "stream",
     "text": [
      "\n",
      "epoch-73  lr=['0.0010000'], tr/val_loss:  0.002637/  2.165124, tr: 100.00%, val:  82.08%, val_best:  82.92%: 100%|██████████| 62/62 [00:08<00:00,  7.41it/s]"
     ]
    },
    {
     "name": "stdout",
     "output_type": "stream",
     "text": [
      "125,000c5:82.08% | 100,000c5:79.58% | 125,000c5:82.08% | 150,000c5:77.50%\n"
     ]
    },
    {
     "name": "stderr",
     "output_type": "stream",
     "text": [
      "\n",
      "epoch-74  lr=['0.0010000'], tr/val_loss:  0.002568/  2.159259, tr: 100.00%, val:  81.67%, val_best:  82.92%: 100%|██████████| 62/62 [00:08<00:00,  7.31it/s]"
     ]
    },
    {
     "name": "stdout",
     "output_type": "stream",
     "text": [
      "125,000c5:81.67% | 100,000c5:80.00% | 125,000c5:81.67% | 150,000c5:77.08%\n"
     ]
    },
    {
     "name": "stderr",
     "output_type": "stream",
     "text": [
      "\n",
      "epoch-75  lr=['0.0010000'], tr/val_loss:  0.002434/  2.160413, tr: 100.00%, val:  81.67%, val_best:  82.92%: 100%|██████████| 62/62 [00:08<00:00,  7.73it/s]"
     ]
    },
    {
     "name": "stdout",
     "output_type": "stream",
     "text": [
      "125,000c5:81.67% | 100,000c5:80.00% | 125,000c5:81.67% | 150,000c5:77.50%\n"
     ]
    },
    {
     "name": "stderr",
     "output_type": "stream",
     "text": [
      "\n",
      "epoch-76  lr=['0.0010000'], tr/val_loss:  0.002433/  2.171557, tr: 100.00%, val:  80.42%, val_best:  82.92%: 100%|██████████| 62/62 [00:08<00:00,  7.26it/s]"
     ]
    },
    {
     "name": "stdout",
     "output_type": "stream",
     "text": [
      "125,000c5:80.42% | 100,000c5:80.83% | 125,000c5:80.42% | 150,000c5:77.92%\n"
     ]
    },
    {
     "name": "stderr",
     "output_type": "stream",
     "text": [
      "\n",
      "epoch-77  lr=['0.0010000'], tr/val_loss:  0.002396/  2.175400, tr: 100.00%, val:  81.67%, val_best:  82.92%: 100%|██████████| 62/62 [00:08<00:00,  7.39it/s]"
     ]
    },
    {
     "name": "stdout",
     "output_type": "stream",
     "text": [
      "125,000c5:81.67% | 100,000c5:79.58% | 125,000c5:81.67% | 150,000c5:77.50%\n"
     ]
    },
    {
     "name": "stderr",
     "output_type": "stream",
     "text": [
      "\n",
      "epoch-78  lr=['0.0010000'], tr/val_loss:  0.002353/  2.166620, tr: 100.00%, val:  80.42%, val_best:  82.92%: 100%|██████████| 62/62 [00:08<00:00,  7.34it/s]"
     ]
    },
    {
     "name": "stdout",
     "output_type": "stream",
     "text": [
      "125,000c5:80.42% | 100,000c5:80.00% | 125,000c5:80.42% | 150,000c5:77.50%\n"
     ]
    },
    {
     "name": "stderr",
     "output_type": "stream",
     "text": [
      "\n",
      "epoch-79  lr=['0.0010000'], tr/val_loss:  0.002323/  2.170834, tr: 100.00%, val:  82.50%, val_best:  82.92%: 100%|██████████| 62/62 [00:08<00:00,  7.47it/s]"
     ]
    },
    {
     "name": "stdout",
     "output_type": "stream",
     "text": [
      "125,000c5:82.50% | 100,000c5:79.58% | 125,000c5:82.50% | 150,000c5:77.92%\n"
     ]
    },
    {
     "name": "stderr",
     "output_type": "stream",
     "text": [
      "\n",
      "epoch-80  lr=['0.0010000'], tr/val_loss:  0.002197/  2.177044, tr: 100.00%, val:  81.67%, val_best:  82.92%: 100%|██████████| 62/62 [00:08<00:00,  7.37it/s]"
     ]
    },
    {
     "name": "stdout",
     "output_type": "stream",
     "text": [
      "125,000c5:81.67% | 100,000c5:80.00% | 125,000c5:81.67% | 150,000c5:77.92%\n"
     ]
    },
    {
     "name": "stderr",
     "output_type": "stream",
     "text": [
      "\n",
      "epoch-81  lr=['0.0010000'], tr/val_loss:  0.002195/  2.186610, tr: 100.00%, val:  81.67%, val_best:  82.92%: 100%|██████████| 62/62 [00:07<00:00,  7.76it/s]"
     ]
    },
    {
     "name": "stdout",
     "output_type": "stream",
     "text": [
      "125,000c5:81.67% | 100,000c5:80.00% | 125,000c5:81.67% | 150,000c5:78.33%\n"
     ]
    },
    {
     "name": "stderr",
     "output_type": "stream",
     "text": [
      "\n",
      "epoch-82  lr=['0.0010000'], tr/val_loss:  0.002242/  2.180852, tr: 100.00%, val:  81.25%, val_best:  82.92%: 100%|██████████| 62/62 [00:08<00:00,  7.26it/s]"
     ]
    },
    {
     "name": "stdout",
     "output_type": "stream",
     "text": [
      "125,000c5:81.25% | 100,000c5:80.00% | 125,000c5:81.25% | 150,000c5:77.92%\n"
     ]
    },
    {
     "name": "stderr",
     "output_type": "stream",
     "text": [
      "\n",
      "epoch-83  lr=['0.0010000'], tr/val_loss:  0.002144/  2.189001, tr: 100.00%, val:  81.25%, val_best:  82.92%: 100%|██████████| 62/62 [00:08<00:00,  7.72it/s]"
     ]
    },
    {
     "name": "stdout",
     "output_type": "stream",
     "text": [
      "125,000c5:81.25% | 100,000c5:80.00% | 125,000c5:81.25% | 150,000c5:78.75%\n"
     ]
    },
    {
     "name": "stderr",
     "output_type": "stream",
     "text": [
      "\n",
      "epoch-84  lr=['0.0010000'], tr/val_loss:  0.002141/  2.185213, tr: 100.00%, val:  80.83%, val_best:  82.92%: 100%|██████████| 62/62 [00:08<00:00,  7.28it/s]"
     ]
    },
    {
     "name": "stdout",
     "output_type": "stream",
     "text": [
      "125,000c5:80.83% | 100,000c5:79.17% | 125,000c5:80.83% | 150,000c5:78.33%\n"
     ]
    },
    {
     "name": "stderr",
     "output_type": "stream",
     "text": [
      "\n",
      "epoch-85  lr=['0.0010000'], tr/val_loss:  0.002093/  2.185842, tr: 100.00%, val:  82.08%, val_best:  82.92%: 100%|██████████| 62/62 [00:08<00:00,  7.52it/s]"
     ]
    },
    {
     "name": "stdout",
     "output_type": "stream",
     "text": [
      "125,000c5:82.08% | 100,000c5:78.33% | 125,000c5:82.08% | 150,000c5:78.33%\n"
     ]
    },
    {
     "name": "stderr",
     "output_type": "stream",
     "text": [
      "\n",
      "epoch-86  lr=['0.0010000'], tr/val_loss:  0.002154/  2.196538, tr: 100.00%, val:  81.67%, val_best:  82.92%: 100%|██████████| 62/62 [00:08<00:00,  7.30it/s]"
     ]
    },
    {
     "name": "stdout",
     "output_type": "stream",
     "text": [
      "125,000c5:81.67% | 100,000c5:79.17% | 125,000c5:81.67% | 150,000c5:78.33%\n"
     ]
    },
    {
     "name": "stderr",
     "output_type": "stream",
     "text": [
      "\n",
      "epoch-87  lr=['0.0010000'], tr/val_loss:  0.002058/  2.196653, tr: 100.00%, val:  81.67%, val_best:  82.92%: 100%|██████████| 62/62 [00:08<00:00,  7.41it/s]"
     ]
    },
    {
     "name": "stdout",
     "output_type": "stream",
     "text": [
      "125,000c5:81.67% | 100,000c5:78.75% | 125,000c5:81.67% | 150,000c5:78.33%\n"
     ]
    },
    {
     "name": "stderr",
     "output_type": "stream",
     "text": [
      "\n",
      "epoch-88  lr=['0.0010000'], tr/val_loss:  0.002043/  2.205681, tr: 100.00%, val:  80.83%, val_best:  82.92%: 100%|██████████| 62/62 [00:08<00:00,  7.35it/s]"
     ]
    },
    {
     "name": "stdout",
     "output_type": "stream",
     "text": [
      "125,000c5:80.83% | 100,000c5:79.17% | 125,000c5:80.83% | 150,000c5:78.33%\n"
     ]
    },
    {
     "name": "stderr",
     "output_type": "stream",
     "text": [
      "\n",
      "epoch-89  lr=['0.0010000'], tr/val_loss:  0.001999/  2.210764, tr: 100.00%, val:  82.08%, val_best:  82.92%: 100%|██████████| 62/62 [00:08<00:00,  7.43it/s]"
     ]
    },
    {
     "name": "stdout",
     "output_type": "stream",
     "text": [
      "125,000c5:82.08% | 100,000c5:79.17% | 125,000c5:82.08% | 150,000c5:78.75%\n"
     ]
    },
    {
     "name": "stderr",
     "output_type": "stream",
     "text": [
      "\n",
      "epoch-90  lr=['0.0010000'], tr/val_loss:  0.001985/  2.214352, tr: 100.00%, val:  82.08%, val_best:  82.92%: 100%|██████████| 62/62 [00:09<00:00,  6.87it/s]"
     ]
    },
    {
     "name": "stdout",
     "output_type": "stream",
     "text": [
      "125,000c5:82.08% | 100,000c5:79.58% | 125,000c5:82.08% | 150,000c5:78.33%\n"
     ]
    },
    {
     "name": "stderr",
     "output_type": "stream",
     "text": [
      "\n",
      "epoch-91  lr=['0.0010000'], tr/val_loss:  0.001910/  2.215424, tr: 100.00%, val:  82.08%, val_best:  82.92%: 100%|██████████| 62/62 [00:08<00:00,  7.13it/s]"
     ]
    },
    {
     "name": "stdout",
     "output_type": "stream",
     "text": [
      "125,000c5:82.08% | 100,000c5:79.17% | 125,000c5:82.08% | 150,000c5:78.33%\n"
     ]
    },
    {
     "name": "stderr",
     "output_type": "stream",
     "text": [
      "\n",
      "epoch-92  lr=['0.0010000'], tr/val_loss:  0.001890/  2.214398, tr: 100.00%, val:  82.08%, val_best:  82.92%: 100%|██████████| 62/62 [00:08<00:00,  6.99it/s]"
     ]
    },
    {
     "name": "stdout",
     "output_type": "stream",
     "text": [
      "125,000c5:82.08% | 100,000c5:78.75% | 125,000c5:82.08% | 150,000c5:78.33%\n"
     ]
    },
    {
     "name": "stderr",
     "output_type": "stream",
     "text": [
      "\n",
      "epoch-93  lr=['0.0010000'], tr/val_loss:  0.001868/  2.219250, tr: 100.00%, val:  82.08%, val_best:  82.92%: 100%|██████████| 62/62 [00:08<00:00,  7.13it/s]"
     ]
    },
    {
     "name": "stdout",
     "output_type": "stream",
     "text": [
      "125,000c5:82.08% | 100,000c5:79.58% | 125,000c5:82.08% | 150,000c5:78.75%\n"
     ]
    },
    {
     "name": "stderr",
     "output_type": "stream",
     "text": [
      "\n",
      "epoch-94  lr=['0.0010000'], tr/val_loss:  0.001787/  2.220853, tr: 100.00%, val:  82.50%, val_best:  82.92%: 100%|██████████| 62/62 [00:09<00:00,  6.89it/s]"
     ]
    },
    {
     "name": "stdout",
     "output_type": "stream",
     "text": [
      "125,000c5:82.50% | 100,000c5:78.75% | 125,000c5:82.50% | 150,000c5:77.92%\n"
     ]
    },
    {
     "name": "stderr",
     "output_type": "stream",
     "text": [
      "\n",
      "epoch-95  lr=['0.0010000'], tr/val_loss:  0.001732/  2.219939, tr: 100.00%, val:  82.50%, val_best:  82.92%: 100%|██████████| 62/62 [00:08<00:00,  6.98it/s]"
     ]
    },
    {
     "name": "stdout",
     "output_type": "stream",
     "text": [
      "125,000c5:82.50% | 100,000c5:79.17% | 125,000c5:82.50% | 150,000c5:78.33%\n"
     ]
    },
    {
     "name": "stderr",
     "output_type": "stream",
     "text": [
      "\n",
      "epoch-96  lr=['0.0010000'], tr/val_loss:  0.001743/  2.224438, tr: 100.00%, val:  82.50%, val_best:  82.92%: 100%|██████████| 62/62 [00:08<00:00,  7.48it/s]"
     ]
    },
    {
     "name": "stdout",
     "output_type": "stream",
     "text": [
      "125,000c5:82.50% | 100,000c5:80.00% | 125,000c5:82.50% | 150,000c5:78.33%\n"
     ]
    },
    {
     "name": "stderr",
     "output_type": "stream",
     "text": [
      "\n",
      "epoch-97  lr=['0.0010000'], tr/val_loss:  0.001710/  2.223793, tr: 100.00%, val:  82.92%, val_best:  82.92%: 100%|██████████| 62/62 [00:08<00:00,  7.37it/s]"
     ]
    },
    {
     "name": "stdout",
     "output_type": "stream",
     "text": [
      "125,000c5:82.92% | 100,000c5:79.58% | 125,000c5:82.92% | 150,000c5:78.33%\n"
     ]
    },
    {
     "name": "stderr",
     "output_type": "stream",
     "text": [
      "\n",
      "epoch-98  lr=['0.0010000'], tr/val_loss:  0.001714/  2.231659, tr: 100.00%, val:  81.67%, val_best:  82.92%: 100%|██████████| 62/62 [00:08<00:00,  7.41it/s]"
     ]
    },
    {
     "name": "stdout",
     "output_type": "stream",
     "text": [
      "125,000c5:81.67% | 100,000c5:78.75% | 125,000c5:81.67% | 150,000c5:78.33%\n"
     ]
    },
    {
     "name": "stderr",
     "output_type": "stream",
     "text": [
      "\n",
      "epoch-99  lr=['0.0010000'], tr/val_loss:  0.001630/  2.228818, tr: 100.00%, val:  82.08%, val_best:  82.92%: 100%|██████████| 62/62 [00:08<00:00,  7.38it/s]"
     ]
    },
    {
     "name": "stdout",
     "output_type": "stream",
     "text": [
      "125,000c5:82.08% | 100,000c5:79.58% | 125,000c5:82.08% | 150,000c5:78.75%\n"
     ]
    },
    {
     "name": "stderr",
     "output_type": "stream",
     "text": [
      "\n",
      "epoch-100 lr=['0.0010000'], tr/val_loss:  0.001633/  2.225350, tr: 100.00%, val:  82.50%, val_best:  82.92%: 100%|██████████| 62/62 [00:08<00:00,  7.26it/s]"
     ]
    },
    {
     "name": "stdout",
     "output_type": "stream",
     "text": [
      "125,000c5:82.50% | 100,000c5:79.17% | 125,000c5:82.50% | 150,000c5:78.75%\n"
     ]
    },
    {
     "name": "stderr",
     "output_type": "stream",
     "text": [
      "\n",
      "epoch-101 lr=['0.0010000'], tr/val_loss:  0.001569/  2.224074, tr: 100.00%, val:  82.92%, val_best:  82.92%: 100%|██████████| 62/62 [00:08<00:00,  7.13it/s]"
     ]
    },
    {
     "name": "stdout",
     "output_type": "stream",
     "text": [
      "125,000c5:82.92% | 100,000c5:78.75% | 125,000c5:82.92% | 150,000c5:77.92%\n"
     ]
    },
    {
     "name": "stderr",
     "output_type": "stream",
     "text": [
      "\n",
      "epoch-102 lr=['0.0010000'], tr/val_loss:  0.001549/  2.230838, tr: 100.00%, val:  82.92%, val_best:  82.92%: 100%|██████████| 62/62 [00:08<00:00,  7.22it/s]"
     ]
    },
    {
     "name": "stdout",
     "output_type": "stream",
     "text": [
      "125,000c5:82.92% | 100,000c5:78.75% | 125,000c5:82.92% | 150,000c5:78.33%\n"
     ]
    },
    {
     "name": "stderr",
     "output_type": "stream",
     "text": [
      "\n",
      "epoch-103 lr=['0.0010000'], tr/val_loss:  0.001566/  2.225879, tr: 100.00%, val:  81.67%, val_best:  82.92%: 100%|██████████| 62/62 [00:08<00:00,  7.24it/s]"
     ]
    },
    {
     "name": "stdout",
     "output_type": "stream",
     "text": [
      "125,000c5:81.67% | 100,000c5:79.17% | 125,000c5:81.67% | 150,000c5:78.75%\n"
     ]
    },
    {
     "name": "stderr",
     "output_type": "stream",
     "text": [
      "\n",
      "epoch-104 lr=['0.0010000'], tr/val_loss:  0.001521/  2.233835, tr: 100.00%, val:  82.08%, val_best:  82.92%: 100%|██████████| 62/62 [00:08<00:00,  7.23it/s]"
     ]
    },
    {
     "name": "stdout",
     "output_type": "stream",
     "text": [
      "125,000c5:82.08% | 100,000c5:79.58% | 125,000c5:82.08% | 150,000c5:78.75%\n"
     ]
    },
    {
     "name": "stderr",
     "output_type": "stream",
     "text": [
      "\n",
      "epoch-105 lr=['0.0010000'], tr/val_loss:  0.001516/  2.242206, tr: 100.00%, val:  82.50%, val_best:  82.92%: 100%|██████████| 62/62 [00:08<00:00,  7.24it/s]"
     ]
    },
    {
     "name": "stdout",
     "output_type": "stream",
     "text": [
      "125,000c5:82.50% | 100,000c5:79.17% | 125,000c5:82.50% | 150,000c5:78.75%\n"
     ]
    },
    {
     "name": "stderr",
     "output_type": "stream",
     "text": [
      "\n",
      "epoch-106 lr=['0.0010000'], tr/val_loss:  0.001539/  2.255534, tr: 100.00%, val:  82.08%, val_best:  82.92%: 100%|██████████| 62/62 [00:08<00:00,  7.37it/s]"
     ]
    },
    {
     "name": "stdout",
     "output_type": "stream",
     "text": [
      "125,000c5:82.08% | 100,000c5:79.17% | 125,000c5:82.08% | 150,000c5:77.92%\n"
     ]
    },
    {
     "name": "stderr",
     "output_type": "stream",
     "text": [
      "\n",
      "epoch-107 lr=['0.0010000'], tr/val_loss:  0.001512/  2.241440, tr: 100.00%, val:  82.50%, val_best:  82.92%: 100%|██████████| 62/62 [00:08<00:00,  7.59it/s]"
     ]
    },
    {
     "name": "stdout",
     "output_type": "stream",
     "text": [
      "125,000c5:82.50% | 100,000c5:79.17% | 125,000c5:82.50% | 150,000c5:78.75%\n"
     ]
    },
    {
     "name": "stderr",
     "output_type": "stream",
     "text": [
      "\n",
      "epoch-108 lr=['0.0010000'], tr/val_loss:  0.001502/  2.252694, tr: 100.00%, val:  82.08%, val_best:  82.92%: 100%|██████████| 62/62 [00:08<00:00,  7.20it/s]"
     ]
    },
    {
     "name": "stdout",
     "output_type": "stream",
     "text": [
      "125,000c5:82.08% | 100,000c5:79.17% | 125,000c5:82.08% | 150,000c5:78.75%\n"
     ]
    },
    {
     "name": "stderr",
     "output_type": "stream",
     "text": [
      "\n",
      "epoch-109 lr=['0.0010000'], tr/val_loss:  0.001506/  2.243193, tr: 100.00%, val:  83.33%, val_best:  83.33%: 100%|██████████| 62/62 [00:08<00:00,  7.40it/s]"
     ]
    },
    {
     "name": "stdout",
     "output_type": "stream",
     "text": [
      "125,000c5:83.33% | 100,000c5:78.75% | 125,000c5:83.33% | 150,000c5:77.92%\n"
     ]
    },
    {
     "name": "stderr",
     "output_type": "stream",
     "text": [
      "\n",
      "epoch-110 lr=['0.0010000'], tr/val_loss:  0.001466/  2.248968, tr: 100.00%, val:  83.33%, val_best:  83.33%: 100%|██████████| 62/62 [00:08<00:00,  7.29it/s]"
     ]
    },
    {
     "name": "stdout",
     "output_type": "stream",
     "text": [
      "125,000c5:83.33% | 100,000c5:79.58% | 125,000c5:83.33% | 150,000c5:78.33%\n"
     ]
    },
    {
     "name": "stderr",
     "output_type": "stream",
     "text": [
      "\n",
      "epoch-111 lr=['0.0010000'], tr/val_loss:  0.001501/  2.251749, tr: 100.00%, val:  83.75%, val_best:  83.75%: 100%|██████████| 62/62 [00:08<00:00,  7.40it/s]"
     ]
    },
    {
     "name": "stdout",
     "output_type": "stream",
     "text": [
      "125,000c5:83.75% | 100,000c5:79.17% | 125,000c5:83.75% | 150,000c5:77.92%\n"
     ]
    },
    {
     "name": "stderr",
     "output_type": "stream",
     "text": [
      "\n",
      "epoch-112 lr=['0.0010000'], tr/val_loss:  0.001422/  2.252719, tr: 100.00%, val:  82.92%, val_best:  83.75%: 100%|██████████| 62/62 [00:08<00:00,  7.46it/s]"
     ]
    },
    {
     "name": "stdout",
     "output_type": "stream",
     "text": [
      "125,000c5:82.92% | 100,000c5:80.00% | 125,000c5:82.92% | 150,000c5:77.92%\n"
     ]
    },
    {
     "name": "stderr",
     "output_type": "stream",
     "text": [
      "\n",
      "epoch-113 lr=['0.0010000'], tr/val_loss:  0.001400/  2.252910, tr: 100.00%, val:  83.33%, val_best:  83.75%: 100%|██████████| 62/62 [00:08<00:00,  7.39it/s]"
     ]
    },
    {
     "name": "stdout",
     "output_type": "stream",
     "text": [
      "125,000c5:83.33% | 100,000c5:80.00% | 125,000c5:83.33% | 150,000c5:77.50%\n"
     ]
    },
    {
     "name": "stderr",
     "output_type": "stream",
     "text": [
      "\n",
      "epoch-114 lr=['0.0010000'], tr/val_loss:  0.001373/  2.245469, tr: 100.00%, val:  82.92%, val_best:  83.75%: 100%|██████████| 62/62 [00:08<00:00,  7.47it/s]"
     ]
    },
    {
     "name": "stdout",
     "output_type": "stream",
     "text": [
      "125,000c5:82.92% | 100,000c5:79.58% | 125,000c5:82.92% | 150,000c5:77.92%\n"
     ]
    },
    {
     "name": "stderr",
     "output_type": "stream",
     "text": [
      "\n",
      "epoch-115 lr=['0.0010000'], tr/val_loss:  0.001373/  2.254199, tr: 100.00%, val:  83.75%, val_best:  83.75%: 100%|██████████| 62/62 [00:08<00:00,  7.36it/s]"
     ]
    },
    {
     "name": "stdout",
     "output_type": "stream",
     "text": [
      "125,000c5:83.75% | 100,000c5:79.17% | 125,000c5:83.75% | 150,000c5:77.92%\n"
     ]
    },
    {
     "name": "stderr",
     "output_type": "stream",
     "text": [
      "\n",
      "epoch-116 lr=['0.0010000'], tr/val_loss:  0.001339/  2.265479, tr: 100.00%, val:  82.50%, val_best:  83.75%: 100%|██████████| 62/62 [00:08<00:00,  7.23it/s]"
     ]
    },
    {
     "name": "stdout",
     "output_type": "stream",
     "text": [
      "125,000c5:82.50% | 100,000c5:79.17% | 125,000c5:82.50% | 150,000c5:77.92%\n"
     ]
    },
    {
     "name": "stderr",
     "output_type": "stream",
     "text": [
      "\n",
      "epoch-117 lr=['0.0010000'], tr/val_loss:  0.001311/  2.262643, tr: 100.00%, val:  82.92%, val_best:  83.75%: 100%|██████████| 62/62 [00:08<00:00,  7.39it/s]"
     ]
    },
    {
     "name": "stdout",
     "output_type": "stream",
     "text": [
      "125,000c5:82.92% | 100,000c5:79.58% | 125,000c5:82.92% | 150,000c5:78.33%\n"
     ]
    },
    {
     "name": "stderr",
     "output_type": "stream",
     "text": [
      "\n",
      "epoch-118 lr=['0.0010000'], tr/val_loss:  0.001304/  2.272342, tr: 100.00%, val:  82.92%, val_best:  83.75%: 100%|██████████| 62/62 [00:08<00:00,  7.36it/s]"
     ]
    },
    {
     "name": "stdout",
     "output_type": "stream",
     "text": [
      "125,000c5:82.92% | 100,000c5:79.58% | 125,000c5:82.92% | 150,000c5:77.92%\n"
     ]
    },
    {
     "name": "stderr",
     "output_type": "stream",
     "text": [
      "\n",
      "epoch-119 lr=['0.0010000'], tr/val_loss:  0.001275/  2.270079, tr: 100.00%, val:  82.92%, val_best:  83.75%: 100%|██████████| 62/62 [00:08<00:00,  7.60it/s]"
     ]
    },
    {
     "name": "stdout",
     "output_type": "stream",
     "text": [
      "125,000c5:82.92% | 100,000c5:80.00% | 125,000c5:82.92% | 150,000c5:79.17%\n"
     ]
    },
    {
     "name": "stderr",
     "output_type": "stream",
     "text": [
      "\n",
      "epoch-120 lr=['0.0010000'], tr/val_loss:  0.001267/  2.276217, tr: 100.00%, val:  83.33%, val_best:  83.75%: 100%|██████████| 62/62 [00:08<00:00,  7.31it/s]"
     ]
    },
    {
     "name": "stdout",
     "output_type": "stream",
     "text": [
      "125,000c5:83.33% | 100,000c5:79.17% | 125,000c5:83.33% | 150,000c5:78.33%\n"
     ]
    },
    {
     "name": "stderr",
     "output_type": "stream",
     "text": [
      "\n",
      "epoch-121 lr=['0.0010000'], tr/val_loss:  0.001258/  2.287671, tr: 100.00%, val:  82.92%, val_best:  83.75%: 100%|██████████| 62/62 [00:08<00:00,  7.29it/s]"
     ]
    },
    {
     "name": "stdout",
     "output_type": "stream",
     "text": [
      "125,000c5:82.92% | 100,000c5:79.58% | 125,000c5:82.92% | 150,000c5:78.75%\n"
     ]
    },
    {
     "name": "stderr",
     "output_type": "stream",
     "text": [
      "\n",
      "epoch-122 lr=['0.0010000'], tr/val_loss:  0.001282/  2.285072, tr: 100.00%, val:  82.92%, val_best:  83.75%: 100%|██████████| 62/62 [00:08<00:00,  7.46it/s]"
     ]
    },
    {
     "name": "stdout",
     "output_type": "stream",
     "text": [
      "125,000c5:82.92% | 100,000c5:80.00% | 125,000c5:82.92% | 150,000c5:78.33%\n"
     ]
    },
    {
     "name": "stderr",
     "output_type": "stream",
     "text": [
      "\n",
      "epoch-123 lr=['0.0010000'], tr/val_loss:  0.001240/  2.281542, tr: 100.00%, val:  82.92%, val_best:  83.75%: 100%|██████████| 62/62 [00:08<00:00,  7.67it/s]"
     ]
    },
    {
     "name": "stdout",
     "output_type": "stream",
     "text": [
      "125,000c5:82.92% | 100,000c5:80.42% | 125,000c5:82.92% | 150,000c5:78.33%\n"
     ]
    },
    {
     "name": "stderr",
     "output_type": "stream",
     "text": [
      "\n",
      "epoch-124 lr=['0.0010000'], tr/val_loss:  0.001249/  2.285134, tr: 100.00%, val:  82.50%, val_best:  83.75%: 100%|██████████| 62/62 [00:08<00:00,  7.37it/s]"
     ]
    },
    {
     "name": "stdout",
     "output_type": "stream",
     "text": [
      "125,000c5:82.50% | 100,000c5:80.42% | 125,000c5:82.50% | 150,000c5:78.33%\n"
     ]
    },
    {
     "name": "stderr",
     "output_type": "stream",
     "text": [
      "\n",
      "epoch-125 lr=['0.0010000'], tr/val_loss:  0.001237/  2.292948, tr: 100.00%, val:  83.33%, val_best:  83.75%: 100%|██████████| 62/62 [00:08<00:00,  7.53it/s]"
     ]
    },
    {
     "name": "stdout",
     "output_type": "stream",
     "text": [
      "125,000c5:83.33% | 100,000c5:80.42% | 125,000c5:83.33% | 150,000c5:77.92%\n"
     ]
    },
    {
     "name": "stderr",
     "output_type": "stream",
     "text": [
      "\n",
      "epoch-126 lr=['0.0010000'], tr/val_loss:  0.001183/  2.293787, tr: 100.00%, val:  82.92%, val_best:  83.75%: 100%|██████████| 62/62 [00:08<00:00,  7.29it/s]"
     ]
    },
    {
     "name": "stdout",
     "output_type": "stream",
     "text": [
      "125,000c5:82.92% | 100,000c5:80.42% | 125,000c5:82.92% | 150,000c5:77.92%\n"
     ]
    },
    {
     "name": "stderr",
     "output_type": "stream",
     "text": [
      "\n",
      "epoch-127 lr=['0.0010000'], tr/val_loss:  0.001180/  2.296187, tr: 100.00%, val:  83.33%, val_best:  83.75%: 100%|██████████| 62/62 [00:08<00:00,  7.52it/s]"
     ]
    },
    {
     "name": "stdout",
     "output_type": "stream",
     "text": [
      "125,000c5:83.33% | 100,000c5:80.42% | 125,000c5:83.33% | 150,000c5:78.33%\n"
     ]
    },
    {
     "name": "stderr",
     "output_type": "stream",
     "text": [
      "\n",
      "epoch-128 lr=['0.0010000'], tr/val_loss:  0.001176/  2.301729, tr: 100.00%, val:  82.50%, val_best:  83.75%: 100%|██████████| 62/62 [00:08<00:00,  7.46it/s]"
     ]
    },
    {
     "name": "stdout",
     "output_type": "stream",
     "text": [
      "125,000c5:82.50% | 100,000c5:80.42% | 125,000c5:82.50% | 150,000c5:78.33%\n"
     ]
    },
    {
     "name": "stderr",
     "output_type": "stream",
     "text": [
      "\n",
      "epoch-129 lr=['0.0010000'], tr/val_loss:  0.001188/  2.302033, tr: 100.00%, val:  82.92%, val_best:  83.75%: 100%|██████████| 62/62 [00:08<00:00,  7.39it/s]"
     ]
    },
    {
     "name": "stdout",
     "output_type": "stream",
     "text": [
      "125,000c5:82.92% | 100,000c5:80.00% | 125,000c5:82.92% | 150,000c5:78.33%\n"
     ]
    },
    {
     "name": "stderr",
     "output_type": "stream",
     "text": [
      "\n",
      "epoch-130 lr=['0.0010000'], tr/val_loss:  0.001192/  2.301584, tr: 100.00%, val:  82.92%, val_best:  83.75%: 100%|██████████| 62/62 [00:08<00:00,  7.28it/s]"
     ]
    },
    {
     "name": "stdout",
     "output_type": "stream",
     "text": [
      "125,000c5:82.92% | 100,000c5:80.42% | 125,000c5:82.92% | 150,000c5:78.75%\n"
     ]
    },
    {
     "name": "stderr",
     "output_type": "stream",
     "text": [
      "\n",
      "epoch-131 lr=['0.0010000'], tr/val_loss:  0.001169/  2.305149, tr: 100.00%, val:  82.50%, val_best:  83.75%: 100%|██████████| 62/62 [00:08<00:00,  7.30it/s]"
     ]
    },
    {
     "name": "stdout",
     "output_type": "stream",
     "text": [
      "125,000c5:82.50% | 100,000c5:80.42% | 125,000c5:82.50% | 150,000c5:78.33%\n"
     ]
    },
    {
     "name": "stderr",
     "output_type": "stream",
     "text": [
      "\n",
      "epoch-132 lr=['0.0010000'], tr/val_loss:  0.001173/  2.314002, tr: 100.00%, val:  82.08%, val_best:  83.75%: 100%|██████████| 62/62 [00:08<00:00,  7.37it/s]"
     ]
    },
    {
     "name": "stdout",
     "output_type": "stream",
     "text": [
      "125,000c5:82.08% | 100,000c5:80.00% | 125,000c5:82.08% | 150,000c5:78.33%\n"
     ]
    },
    {
     "name": "stderr",
     "output_type": "stream",
     "text": [
      "\n",
      "epoch-133 lr=['0.0010000'], tr/val_loss:  0.001113/  2.314664, tr: 100.00%, val:  82.50%, val_best:  83.75%: 100%|██████████| 62/62 [00:08<00:00,  7.36it/s]"
     ]
    },
    {
     "name": "stdout",
     "output_type": "stream",
     "text": [
      "125,000c5:82.50% | 100,000c5:80.42% | 125,000c5:82.50% | 150,000c5:78.33%\n"
     ]
    },
    {
     "name": "stderr",
     "output_type": "stream",
     "text": [
      "\n",
      "epoch-134 lr=['0.0010000'], tr/val_loss:  0.001165/  2.323159, tr: 100.00%, val:  82.92%, val_best:  83.75%: 100%|██████████| 62/62 [00:08<00:00,  7.30it/s]"
     ]
    },
    {
     "name": "stdout",
     "output_type": "stream",
     "text": [
      "125,000c5:82.92% | 100,000c5:80.00% | 125,000c5:82.92% | 150,000c5:78.33%\n"
     ]
    },
    {
     "name": "stderr",
     "output_type": "stream",
     "text": [
      "\n",
      "epoch-135 lr=['0.0010000'], tr/val_loss:  0.001110/  2.323490, tr: 100.00%, val:  83.33%, val_best:  83.75%: 100%|██████████| 62/62 [00:08<00:00,  7.35it/s]"
     ]
    },
    {
     "name": "stdout",
     "output_type": "stream",
     "text": [
      "125,000c5:83.33% | 100,000c5:80.42% | 125,000c5:83.33% | 150,000c5:77.92%\n"
     ]
    },
    {
     "name": "stderr",
     "output_type": "stream",
     "text": [
      "\n",
      "epoch-136 lr=['0.0010000'], tr/val_loss:  0.001092/  2.328896, tr: 100.00%, val:  83.33%, val_best:  83.75%: 100%|██████████| 62/62 [00:08<00:00,  7.16it/s]"
     ]
    },
    {
     "name": "stdout",
     "output_type": "stream",
     "text": [
      "125,000c5:83.33% | 100,000c5:80.42% | 125,000c5:83.33% | 150,000c5:78.75%\n"
     ]
    },
    {
     "name": "stderr",
     "output_type": "stream",
     "text": [
      "\n",
      "epoch-137 lr=['0.0010000'], tr/val_loss:  0.001094/  2.325770, tr: 100.00%, val:  83.33%, val_best:  83.75%: 100%|██████████| 62/62 [00:08<00:00,  7.40it/s]"
     ]
    },
    {
     "name": "stdout",
     "output_type": "stream",
     "text": [
      "125,000c5:83.33% | 100,000c5:80.42% | 125,000c5:83.33% | 150,000c5:78.75%\n"
     ]
    },
    {
     "name": "stderr",
     "output_type": "stream",
     "text": [
      "\n",
      "epoch-138 lr=['0.0010000'], tr/val_loss:  0.001060/  2.323738, tr: 100.00%, val:  83.75%, val_best:  83.75%: 100%|██████████| 62/62 [00:08<00:00,  7.31it/s]"
     ]
    },
    {
     "name": "stdout",
     "output_type": "stream",
     "text": [
      "125,000c5:83.75% | 100,000c5:80.83% | 125,000c5:83.75% | 150,000c5:78.33%\n"
     ]
    },
    {
     "name": "stderr",
     "output_type": "stream",
     "text": [
      "\n",
      "epoch-139 lr=['0.0010000'], tr/val_loss:  0.001050/  2.323873, tr: 100.00%, val:  83.33%, val_best:  83.75%: 100%|██████████| 62/62 [00:08<00:00,  7.36it/s]"
     ]
    },
    {
     "name": "stdout",
     "output_type": "stream",
     "text": [
      "125,000c5:83.33% | 100,000c5:80.00% | 125,000c5:83.33% | 150,000c5:77.50%\n"
     ]
    },
    {
     "name": "stderr",
     "output_type": "stream",
     "text": [
      "\n",
      "epoch-140 lr=['0.0010000'], tr/val_loss:  0.001044/  2.332016, tr: 100.00%, val:  83.75%, val_best:  83.75%: 100%|██████████| 62/62 [00:08<00:00,  7.30it/s]"
     ]
    },
    {
     "name": "stdout",
     "output_type": "stream",
     "text": [
      "125,000c5:83.75% | 100,000c5:80.83% | 125,000c5:83.75% | 150,000c5:77.50%\n"
     ]
    },
    {
     "name": "stderr",
     "output_type": "stream",
     "text": [
      "\n",
      "epoch-141 lr=['0.0010000'], tr/val_loss:  0.001046/  2.330803, tr: 100.00%, val:  82.92%, val_best:  83.75%: 100%|██████████| 62/62 [00:08<00:00,  7.37it/s]"
     ]
    },
    {
     "name": "stdout",
     "output_type": "stream",
     "text": [
      "125,000c5:82.92% | 100,000c5:80.42% | 125,000c5:82.92% | 150,000c5:77.92%\n"
     ]
    },
    {
     "name": "stderr",
     "output_type": "stream",
     "text": [
      "\n",
      "epoch-142 lr=['0.0010000'], tr/val_loss:  0.001035/  2.335819, tr: 100.00%, val:  83.33%, val_best:  83.75%: 100%|██████████| 62/62 [00:08<00:00,  7.17it/s]"
     ]
    },
    {
     "name": "stdout",
     "output_type": "stream",
     "text": [
      "125,000c5:83.33% | 100,000c5:80.83% | 125,000c5:83.33% | 150,000c5:77.92%\n"
     ]
    },
    {
     "name": "stderr",
     "output_type": "stream",
     "text": [
      "\n",
      "epoch-143 lr=['0.0010000'], tr/val_loss:  0.001032/  2.328244, tr: 100.00%, val:  83.75%, val_best:  83.75%: 100%|██████████| 62/62 [00:08<00:00,  7.71it/s]"
     ]
    },
    {
     "name": "stdout",
     "output_type": "stream",
     "text": [
      "125,000c5:83.75% | 100,000c5:80.83% | 125,000c5:83.75% | 150,000c5:78.75%\n"
     ]
    },
    {
     "name": "stderr",
     "output_type": "stream",
     "text": [
      "\n",
      "epoch-144 lr=['0.0010000'], tr/val_loss:  0.001040/  2.340747, tr: 100.00%, val:  83.33%, val_best:  83.75%: 100%|██████████| 62/62 [00:08<00:00,  7.26it/s]"
     ]
    },
    {
     "name": "stdout",
     "output_type": "stream",
     "text": [
      "125,000c5:83.33% | 100,000c5:80.83% | 125,000c5:83.33% | 150,000c5:78.33%\n"
     ]
    },
    {
     "name": "stderr",
     "output_type": "stream",
     "text": [
      "\n",
      "epoch-145 lr=['0.0010000'], tr/val_loss:  0.001048/  2.336047, tr: 100.00%, val:  83.75%, val_best:  83.75%: 100%|██████████| 62/62 [00:08<00:00,  7.26it/s]"
     ]
    },
    {
     "name": "stdout",
     "output_type": "stream",
     "text": [
      "125,000c5:83.75% | 100,000c5:80.42% | 125,000c5:83.75% | 150,000c5:78.33%\n"
     ]
    },
    {
     "name": "stderr",
     "output_type": "stream",
     "text": [
      "\n",
      "epoch-146 lr=['0.0010000'], tr/val_loss:  0.001031/  2.348197, tr: 100.00%, val:  83.75%, val_best:  83.75%: 100%|██████████| 62/62 [00:08<00:00,  7.23it/s]"
     ]
    },
    {
     "name": "stdout",
     "output_type": "stream",
     "text": [
      "125,000c5:83.75% | 100,000c5:80.42% | 125,000c5:83.75% | 150,000c5:77.92%\n"
     ]
    },
    {
     "name": "stderr",
     "output_type": "stream",
     "text": [
      "\n",
      "epoch-147 lr=['0.0010000'], tr/val_loss:  0.001004/  2.341266, tr: 100.00%, val:  83.33%, val_best:  83.75%: 100%|██████████| 62/62 [00:09<00:00,  6.73it/s]"
     ]
    },
    {
     "name": "stdout",
     "output_type": "stream",
     "text": [
      "125,000c5:83.33% | 100,000c5:80.42% | 125,000c5:83.33% | 150,000c5:77.92%\n"
     ]
    },
    {
     "name": "stderr",
     "output_type": "stream",
     "text": [
      "\n",
      "epoch-148 lr=['0.0010000'], tr/val_loss:  0.001025/  2.358040, tr: 100.00%, val:  83.33%, val_best:  83.75%: 100%|██████████| 62/62 [00:08<00:00,  7.38it/s]"
     ]
    },
    {
     "name": "stdout",
     "output_type": "stream",
     "text": [
      "125,000c5:83.33% | 100,000c5:80.42% | 125,000c5:83.33% | 150,000c5:77.50%\n"
     ]
    },
    {
     "name": "stderr",
     "output_type": "stream",
     "text": [
      "\n",
      "epoch-149 lr=['0.0010000'], tr/val_loss:  0.000981/  2.357055, tr: 100.00%, val:  83.33%, val_best:  83.75%: 100%|██████████| 62/62 [00:08<00:00,  7.58it/s]"
     ]
    },
    {
     "name": "stdout",
     "output_type": "stream",
     "text": [
      "125,000c5:83.33% | 100,000c5:80.42% | 125,000c5:83.33% | 150,000c5:78.75%\n"
     ]
    },
    {
     "name": "stderr",
     "output_type": "stream",
     "text": [
      "\n",
      "epoch-150 lr=['0.0010000'], tr/val_loss:  0.000966/  2.353313, tr: 100.00%, val:  83.33%, val_best:  83.75%: 100%|██████████| 62/62 [00:08<00:00,  7.34it/s]"
     ]
    },
    {
     "name": "stdout",
     "output_type": "stream",
     "text": [
      "125,000c5:83.33% | 100,000c5:80.42% | 125,000c5:83.33% | 150,000c5:78.33%\n"
     ]
    },
    {
     "name": "stderr",
     "output_type": "stream",
     "text": [
      "\n",
      "epoch-151 lr=['0.0010000'], tr/val_loss:  0.000983/  2.359561, tr: 100.00%, val:  83.33%, val_best:  83.75%: 100%|██████████| 62/62 [00:08<00:00,  7.39it/s]"
     ]
    },
    {
     "name": "stdout",
     "output_type": "stream",
     "text": [
      "125,000c5:83.33% | 100,000c5:80.42% | 125,000c5:83.33% | 150,000c5:78.33%\n"
     ]
    },
    {
     "name": "stderr",
     "output_type": "stream",
     "text": [
      "\n",
      "epoch-152 lr=['0.0010000'], tr/val_loss:  0.000964/  2.350947, tr: 100.00%, val:  83.33%, val_best:  83.75%: 100%|██████████| 62/62 [00:08<00:00,  7.38it/s]"
     ]
    },
    {
     "name": "stdout",
     "output_type": "stream",
     "text": [
      "125,000c5:83.33% | 100,000c5:80.00% | 125,000c5:83.33% | 150,000c5:77.92%\n"
     ]
    },
    {
     "name": "stderr",
     "output_type": "stream",
     "text": [
      "\n",
      "epoch-153 lr=['0.0010000'], tr/val_loss:  0.000955/  2.357137, tr: 100.00%, val:  83.33%, val_best:  83.75%: 100%|██████████| 62/62 [00:08<00:00,  7.38it/s]"
     ]
    },
    {
     "name": "stdout",
     "output_type": "stream",
     "text": [
      "125,000c5:83.33% | 100,000c5:80.42% | 125,000c5:83.33% | 150,000c5:77.92%\n"
     ]
    },
    {
     "name": "stderr",
     "output_type": "stream",
     "text": [
      "\n",
      "epoch-154 lr=['0.0010000'], tr/val_loss:  0.000977/  2.359703, tr: 100.00%, val:  83.33%, val_best:  83.75%: 100%|██████████| 62/62 [00:08<00:00,  7.21it/s]"
     ]
    },
    {
     "name": "stdout",
     "output_type": "stream",
     "text": [
      "125,000c5:83.33% | 100,000c5:80.42% | 125,000c5:83.33% | 150,000c5:78.33%\n"
     ]
    },
    {
     "name": "stderr",
     "output_type": "stream",
     "text": [
      "\n",
      "epoch-155 lr=['0.0010000'], tr/val_loss:  0.000946/  2.354652, tr: 100.00%, val:  83.33%, val_best:  83.75%: 100%|██████████| 62/62 [00:08<00:00,  7.26it/s]"
     ]
    },
    {
     "name": "stdout",
     "output_type": "stream",
     "text": [
      "125,000c5:83.33% | 100,000c5:80.42% | 125,000c5:83.33% | 150,000c5:78.33%\n"
     ]
    },
    {
     "name": "stderr",
     "output_type": "stream",
     "text": [
      "\n",
      "epoch-156 lr=['0.0010000'], tr/val_loss:  0.000946/  2.361990, tr: 100.00%, val:  83.33%, val_best:  83.75%: 100%|██████████| 62/62 [00:08<00:00,  7.21it/s]"
     ]
    },
    {
     "name": "stdout",
     "output_type": "stream",
     "text": [
      "125,000c5:83.33% | 100,000c5:80.83% | 125,000c5:83.33% | 150,000c5:78.33%\n"
     ]
    },
    {
     "name": "stderr",
     "output_type": "stream",
     "text": [
      "\n",
      "epoch-157 lr=['0.0010000'], tr/val_loss:  0.000948/  2.362035, tr: 100.00%, val:  82.92%, val_best:  83.75%: 100%|██████████| 62/62 [00:08<00:00,  7.17it/s]"
     ]
    },
    {
     "name": "stdout",
     "output_type": "stream",
     "text": [
      "125,000c5:82.92% | 100,000c5:80.42% | 125,000c5:82.92% | 150,000c5:77.50%\n"
     ]
    },
    {
     "name": "stderr",
     "output_type": "stream",
     "text": [
      "\n",
      "epoch-158 lr=['0.0010000'], tr/val_loss:  0.000940/  2.356149, tr: 100.00%, val:  83.75%, val_best:  83.75%: 100%|██████████| 62/62 [00:08<00:00,  7.10it/s]"
     ]
    },
    {
     "name": "stdout",
     "output_type": "stream",
     "text": [
      "125,000c5:83.75% | 100,000c5:80.42% | 125,000c5:83.75% | 150,000c5:78.33%\n"
     ]
    },
    {
     "name": "stderr",
     "output_type": "stream",
     "text": [
      "\n",
      "epoch-159 lr=['0.0010000'], tr/val_loss:  0.000940/  2.357558, tr: 100.00%, val:  83.75%, val_best:  83.75%: 100%|██████████| 62/62 [00:08<00:00,  7.38it/s]"
     ]
    },
    {
     "name": "stdout",
     "output_type": "stream",
     "text": [
      "125,000c5:83.75% | 100,000c5:81.67% | 125,000c5:83.75% | 150,000c5:77.92%\n"
     ]
    },
    {
     "name": "stderr",
     "output_type": "stream",
     "text": [
      "\n",
      "epoch-160 lr=['0.0010000'], tr/val_loss:  0.000975/  2.364538, tr: 100.00%, val:  83.75%, val_best:  83.75%: 100%|██████████| 62/62 [00:08<00:00,  7.29it/s]"
     ]
    },
    {
     "name": "stdout",
     "output_type": "stream",
     "text": [
      "125,000c5:83.75% | 100,000c5:80.83% | 125,000c5:83.75% | 150,000c5:78.33%\n"
     ]
    },
    {
     "name": "stderr",
     "output_type": "stream",
     "text": [
      "\n",
      "epoch-161 lr=['0.0010000'], tr/val_loss:  0.000946/  2.360508, tr: 100.00%, val:  83.33%, val_best:  83.75%: 100%|██████████| 62/62 [00:08<00:00,  7.54it/s]"
     ]
    },
    {
     "name": "stdout",
     "output_type": "stream",
     "text": [
      "125,000c5:83.33% | 100,000c5:80.83% | 125,000c5:83.33% | 150,000c5:78.33%\n"
     ]
    },
    {
     "name": "stderr",
     "output_type": "stream",
     "text": [
      "\n",
      "epoch-162 lr=['0.0010000'], tr/val_loss:  0.000912/  2.363540, tr: 100.00%, val:  84.17%, val_best:  84.17%: 100%|██████████| 62/62 [00:08<00:00,  7.12it/s]"
     ]
    },
    {
     "name": "stdout",
     "output_type": "stream",
     "text": [
      "125,000c5:84.17% | 100,000c5:80.42% | 125,000c5:84.17% | 150,000c5:78.33%\n"
     ]
    },
    {
     "name": "stderr",
     "output_type": "stream",
     "text": [
      "\n",
      "epoch-163 lr=['0.0010000'], tr/val_loss:  0.000932/  2.364249, tr: 100.00%, val:  84.17%, val_best:  84.17%: 100%|██████████| 62/62 [00:08<00:00,  7.29it/s]"
     ]
    },
    {
     "name": "stdout",
     "output_type": "stream",
     "text": [
      "125,000c5:84.17% | 100,000c5:80.00% | 125,000c5:84.17% | 150,000c5:77.50%\n"
     ]
    },
    {
     "name": "stderr",
     "output_type": "stream",
     "text": [
      "\n",
      "epoch-164 lr=['0.0010000'], tr/val_loss:  0.000915/  2.379558, tr: 100.00%, val:  84.17%, val_best:  84.17%: 100%|██████████| 62/62 [00:08<00:00,  7.30it/s]"
     ]
    },
    {
     "name": "stdout",
     "output_type": "stream",
     "text": [
      "125,000c5:84.17% | 100,000c5:80.42% | 125,000c5:84.17% | 150,000c5:77.50%\n"
     ]
    },
    {
     "name": "stderr",
     "output_type": "stream",
     "text": [
      "\n",
      "epoch-165 lr=['0.0010000'], tr/val_loss:  0.000883/  2.373436, tr: 100.00%, val:  84.17%, val_best:  84.17%: 100%|██████████| 62/62 [00:08<00:00,  7.45it/s]"
     ]
    },
    {
     "name": "stdout",
     "output_type": "stream",
     "text": [
      "125,000c5:84.17% | 100,000c5:80.83% | 125,000c5:84.17% | 150,000c5:78.75%\n"
     ]
    },
    {
     "name": "stderr",
     "output_type": "stream",
     "text": [
      "\n",
      "epoch-166 iter_acc: 100.00%, lr=['0.0010000'], iter_loss:  0.001166, val_best:  84.17%:  98%|█████████▊| 61/62 [00:04<00:00, 15.15it/s]"
     ]
    }
   ],
   "source": [
    "### my_snn control board (Gesture) ########################\n",
    "decay = 0.25 # 0.875 0.25 0.125 0.75 0.5\n",
    "# nda 0.25 # ottt 0.5\n",
    "const2 = False # trace 할거면 True, 안할거면 False\n",
    "\n",
    "unique_name = 'main' ## 이거 설정하면 새로운 경로에 모두 save\n",
    "run_name = 'main' ## 이거 설정하면 새로운 경로에 모두 save\n",
    "\n",
    "if const2 == True:\n",
    "    const2 = decay\n",
    "else:\n",
    "    const2 = 0.0\n",
    "\n",
    "wandb.init(project= f'my_snn {unique_name}',save_code=True)\n",
    "\n",
    "my_snn_system(  devices = \"4\",\n",
    "                single_step = True, # True # False\n",
    "                unique_name = run_name,\n",
    "                my_seed = 42,\n",
    "                TIME = 10, # dvscifar 10 # ottt 6 or 10 # nda 10  # 제작하는 dvs에서 TIME넘거나 적으면 자르거나 PADDING함\n",
    "                BATCH = 16, # batch norm 할거면 2이상으로 해야함   # nda 256   #  ottt 128\n",
    "                IMAGE_SIZE = 128, # dvscifar 48 # MNIST 28 # CIFAR10 32 # PMNIST 28 #NMNIST 34 # GESTURE 128\n",
    "                # dvsgesture 128, dvs_cifar2 128, nmnist 34, n_caltech101 180,240, n_tidigits 64, heidelberg 700, \n",
    "                #pmnist는 28로 해야 됨. 나머지는 바꿔도 돌아는 감.\n",
    "\n",
    "                # DVS_CIFAR10 할거면 time 10으로 해라\n",
    "                which_data = 'DVS_GESTURE_TONIC',\n",
    "# 'CIFAR100' 'CIFAR10' 'MNIST' 'FASHION_MNIST' 'DVS_CIFAR10' 'PMNIST'아직\n",
    "# 'DVS_GESTURE', 'DVS_GESTURE_TONIC','DVS_CIFAR10_2','NMNIST','CIFAR10','N_CALTECH101','n_tidigits','heidelberg'\n",
    "                # CLASS_NUM = 10,\n",
    "                data_path = '/data2', # YOU NEED TO CHANGE THIS\n",
    "                rate_coding = False, # True # False\n",
    "                lif_layer_v_init = 0.0,\n",
    "                lif_layer_v_decay = decay,\n",
    "                lif_layer_v_threshold = 0.720291189014991, # 1.3102821334243646,  # 10000이상으로 하면 NDA LIF 씀. #nda 0.5  #ottt 1.0\n",
    "                lif_layer_v_reset = 10000, # 10000이상은 hardreset (내 LIF쓰기는 함 ㅇㅇ)\n",
    "                lif_layer_sg_width = 3.555718888923306, # 2.570969004857107 # sigmoid류에서는 alpha값 4.0, rectangle류에서는 width값 0.5\n",
    "\n",
    "                # synapse_conv_in_channels = IMAGE_PIXEL_CHANNEL,\n",
    "                synapse_conv_kernel_size = 3,\n",
    "                synapse_conv_stride = 1,\n",
    "                synapse_conv_padding = 1,\n",
    "                synapse_conv_trace_const1 = 1, # 현재 trace구할 때 현재 spike에 곱해지는 상수. 걍 1로 두셈.\n",
    "                synapse_conv_trace_const2 = const2, # 현재 trace구할 때 직전 trace에 곱해지는 상수. lif_layer_v_decay와 같게 할 것을 추천\n",
    "\n",
    "                # synapse_fc_out_features = CLASS_NUM,\n",
    "                synapse_fc_trace_const1 = 1, # 현재 trace구할 때 현재 spike에 곱해지는 상수. 걍 1로 두셈.\n",
    "                synapse_fc_trace_const2 = const2, # 현재 trace구할 때 직전 trace에 곱해지는 상수. lif_layer_v_decay와 같게 할 것을 추천\n",
    "\n",
    "                pre_trained = False, # True # False\n",
    "                convTrue_fcFalse = False, # True # False\n",
    "\n",
    "                # 'P' for average pooling, 'D' for (1,1) aver pooling, 'M' for maxpooling, 'L' for linear classifier, [  ] for residual block\n",
    "                # conv에서 10000 이상은 depth-wise separable (BPTT만 지원), 20000이상은 depth-wise (BPTT만 지원)\n",
    "                # cfg = [64, 64],\n",
    "                # cfg = [64, 124, 64, 124],\n",
    "                # cfg = ['M','M',512], \n",
    "                # cfg = [512], \n",
    "                # cfg = ['M', 'M', 64, 128, 'P', 128, 'P'], \n",
    "                # cfg = ['M','M',512],\n",
    "                # cfg = ['M',200],\n",
    "                # cfg = [200,200],\n",
    "                cfg = ['M','M',200,200],\n",
    "                # cfg = ['M',200,200],\n",
    "                # cfg = ['M','M',1024,512,256,128,64],\n",
    "                # cfg = [200,200],\n",
    "                # cfg = [12], #fc\n",
    "                # cfg = [12, 'M', 48, 'M', 12], \n",
    "                # cfg = [64,[64,64],64], # 끝에 linear classifier 하나 자동으로 붙습니다\n",
    "                # cfg = [64, 128, 'P', 256, 256, 'P', 512, 512, 'P', 512, 512, 'D'], #ottt\n",
    "                # cfg = [64, 128, 'P', 256, 256, 'P', 512, 512, 'P', 512, 512], \n",
    "                # cfg = [64, 128, 'M', 256, 256, 'M', 512, 512, 'M', 512, 512], \n",
    "                # cfg = [64, 'P', 128, 'P', 256, 256, 'P', 512, 512, 512, 512, 'D'], # nda\n",
    "                # cfg = [64, 'P', 128, 'P', 256, 256, 'P', 512, 512, 512, 512], # nda 128pixel\n",
    "                # cfg = [64, 'P', 128, 'P', 256, 256, 'P', 512, 512, 512, 512, 'L', 4096, 4096],\n",
    "                # cfg = [20001,10001], # depthwise, separable\n",
    "                # cfg = [64,20064,10001], # vanilla conv, depthwise, separable\n",
    "                # cfg = [8, 'P', 8, 'P', 8, 'P', 8,'P', 8, 'P'],\n",
    "                # cfg = [],        \n",
    "                \n",
    "                net_print = True, # True # False # True로 하길 추천\n",
    "                weight_count_print = False, # True # False\n",
    "                \n",
    "                pre_trained_path = f\"net_save/save_now_net_weights_{unique_name}.pth\",\n",
    "                learning_rate = 0.001, #0.1 bptt, #0.01 ottt, # default 0.001  # ottt 0.1 # nda 0.001 # 0.00936191669529645\n",
    "                epoch_num = 200,\n",
    "                verbose_interval = 999999999, #이거 걍 건들지마셈 #숫자 크게 하면 꺼짐 #걍 중간중간 iter에서 끊어서 출력\n",
    "                validation_interval =  999999999,#999999999, #이거 걍 건들지마셈 #숫자 크게 하면 에포크 마지막 iter 때 val 함\n",
    "\n",
    "                tdBN_on = False,  # True # False\n",
    "                BN_on = False,  # True # False\n",
    "                \n",
    "                surrogate = 'hard_sigmoid', # 'sigmoid' 'rectangle' 'rough_rectangle' 'hard_sigmoid'\n",
    "                \n",
    "                gradient_verbose = False,  # True # False  # weight gradient 각 layer마다 띄워줌\n",
    "\n",
    "                BPTT_on = False,  # True # False # True이면 BPTT, False이면 OTTT  # depthwise, separable은 BPTT만 가능\n",
    "                optimizer_what = 'SGD', # 'SGD' 'Adam', 'RMSprop'\n",
    "                scheduler_name = 'no', # 'no' 'StepLR' 'ExponentialLR' 'ReduceLROnPlateau' 'CosineAnnealingLR' 'OneCycleLR'\n",
    "                \n",
    "                ddp_on = False,   # True # False \n",
    "                # 지원 DATASET: cifar10, mnist\n",
    "\n",
    "                nda_net = False,   # True # False\n",
    "\n",
    "                domain_il_epoch = 0, # over 0, then domain il mode on # pmnist 쓸거면 HLOP 코드보고 더 디벨롭하셈. 지금 개발 hold함.\n",
    "                \n",
    "                dvs_clipping = 5, #일반적으로 1 또는 2 # 100ms때는 5 # 숫자만큼 크면 spike 아니면 걍 0\n",
    "                # gesture, cifar-dvs2, nmnist, ncaltech101\n",
    "                # gesture: 100_000c1-5, 25_000c5, 10_000c5, 1_000c5, 1_000_000c5\n",
    "\n",
    "                dvs_duration = 125_000, # 0 아니면 time sampling # dvs number sampling OR time sampling # gesture, cifar-dvs2, nmnist, ncaltech101\n",
    "                # 있는 데이터들 #gesture 100_000 25_000 10_000 1_000 1_000_000 #nmnist 10000 #nmnist_tonic 10_000 25_000\n",
    "                # 한 숫자가 1us인듯 (spikingjelly코드에서)\n",
    "                # 한 장에 50 timestep만 생산함. 싫으면 my_snn/trying/spikingjelly_dvsgesture의__init__.py 를 참고해봐\n",
    "                # nmnist 5_000us, gesture는 100_000us, 25_000us\n",
    "\n",
    "                OTTT_sWS_on = False, # True # False # BPTT끄고, CONV에만 적용됨.\n",
    "\n",
    "                DFA_on = False, # True # False # residual은 dfa지원안함.\n",
    "                OTTT_input_trace_on = False, # True # False # 맨 처음 input에 trace 적용\n",
    "                 \n",
    "                e_transport_swap = 0, # 1 이상이면 해당 숫자 에포크만큼 val_acc_best가 변화가 없으면 e_transport scheme (BP vs DFA) swap\n",
    "                e_transport_swap_tr = 0, # 1 이상이면 해당 숫자 에포크만큼 tr_acc_best가 변화가 없으면 e_transport scheme (BP vs DFA) swap\n",
    "                e_transport_swap_coin = 1, # swap할 수 있는 coin 개수\n",
    "\n",
    "                drop_rate = 0, # drop_rate만큼 0으로 만듦. ex) 0.2면 activation의 20%를 0으로 만듦.\n",
    "\n",
    "                exclude_class = True, # True # False # gesture에서 10번째 클래스 제외\n",
    "\n",
    "                merge_polarities = False, # True # False # tonic dvs dataset 에서 polarities 합치기\n",
    "                denoise_on = False, # True # False\n",
    "\n",
    "                I_wanna_sweep_at_this_epoch = -1, # 지정 에포크에서 BP와 DFA를 바꿔줌. -1이면 실행 안함.\n",
    "                dvs_duration_domain=[(100_000,5),(125_000,5),(150_000,5),],\n",
    "                # dvs_duration_domain = [(10_000,1),(10_000,2),(10_000,3),(10_000,4),(10_000,5),\n",
    "                #                             (25_000,1),(25_000,2),(25_000,3),(25_000,4),(25_000,5),\n",
    "                #                             (50_000,1),(50_000,2),(50_000,3),(50_000,4),(50_000,5),\n",
    "                #                             (75_000,1),(75_000,2),(75_000,3),(75_000,4),(75_000,5),\n",
    "                #                             (100_000,1),(100_000,2),(100_000,3),(100_000,4),(100_000,5)], # domain adaptation할 때 사용할 dvs_duration 리스트\n",
    "                \n",
    "                extra_train_dataset = 0,\n",
    "\n",
    "                num_workers = 4,\n",
    "                chaching_on = True, # True # False # only for certain datasets (gesture_tonic, nmnist_tonic)\n",
    "                pin_memory = True, # True # False\n",
    "                ) \n",
    "\n",
    "# num_workers = 4 * num_GPU (or 8, 16, 2 * num_GPU)\n",
    "# entry * batch_size * num_worker = num_GPU * GPU_throughtput\n",
    "# num_workers = batch_size / num_GPU\n",
    "# num_workers = batch_size / num_CPU\n",
    "\n",
    "# sigmoid와 BN이 있어야 잘된다.\n",
    "# average pooling  \n",
    "# 이 낫다. \n",
    " \n",
    "# nda에서는 decay = 0.25, threshold = 0.5, width =1, surrogate = rectangle, batch = 256, tdBN = True\n",
    "## OTTT 에서는 decay = 0.5, threshold = 1.0, surrogate = sigmoid, batch = 128, BN = True\n",
    "\n",
    "\n",
    "# DDP 실행 코드0\n",
    "'''\n",
    "ddp_on 키고, gpu 개수 만큼 batch size 나눠줘\n",
    "CUDA_VISIBLE_DEVICES=0,1,2,3,4,5 python -m torch.distributed.launch --nproc_per_node=6 main_ddp.py\n",
    "CUDA_VISIBLE_DEVICES=1,2,3 python -m torch.distributed.launch --nproc_per_node=3 main_ddp.py\n",
    "CUDA_VISIBLE_DEVICES=0,1,2,3 python -m torch.distributed.launch --nproc_per_node=4 main_ddp.py\n",
    "'''\n"
   ]
  },
  {
   "cell_type": "code",
   "execution_count": null,
   "metadata": {},
   "outputs": [],
   "source": [
    "# # sweep 하는 코드, 위 셀 주석처리 해야 됨.\n",
    "\n",
    "# # 이런 워닝 뜨는 거는 걍 너가 main 안에서  wandb.config.update(hyperparameters)할 때 물려서임. 어차피 근데 sweep에서 지정한 걸로 덮어짐 \n",
    "# # wandb: WARNING Config item 'BATCH' was locked by 'sweep' (ignored update).\n",
    "\n",
    "# unique_name_hyper = 'main'\n",
    "# run_name = 'main'\n",
    "# sweep_configuration = {\n",
    "#     'method': 'bayes',\n",
    "#     'name': f'my_snn_sweep{datetime.datetime.now().strftime(\"%Y%m%d_%H%M%S\")}',\n",
    "#     'metric': {'goal': 'maximize', 'name': 'val_acc_best'},\n",
    "#     'parameters': \n",
    "#     {\n",
    "#         \"learning_rate\": {\"values\": [0.001]}, #0.00936191669529645\n",
    "#         \"BATCH\": {\"values\": [16]},\n",
    "#         \"decay\": {\"values\": [0.25,0.5,0.75]},\n",
    "#         \"IMAGE_SIZE\": {\"values\": [128]},\n",
    "#         \"TIME\": {\"values\": [10]},\n",
    "#         \"epoch_num\": {\"values\": [200]},\n",
    "#         \"dvs_duration\": {\"values\": [100_000]},\n",
    "#         \"dvs_clipping\": {\"values\": [1,2,3,4,5]},\n",
    "#         \"which_data\": {\"values\": ['DVS_GESTURE_TONIC']},\n",
    "#         \"OTTT_sWS_on\": {\"values\": [False]},\n",
    "#         \"const2\": {\"values\": [False]},\n",
    "#         \"surrogate\": {\"values\": ['hard_sigmoid']},\n",
    "#         \"DFA_on\": {\"values\": [False]},\n",
    "#         \"OTTT_input_trace_on\": {\"values\": [False]},\n",
    "#         \"cfg\": {\"values\": [['M','M',200,200]]},\n",
    "#         \"e_transport_swap\": {\"values\": [0]},\n",
    "#         \"e_transport_swap_tr\": {\"values\": [0]},\n",
    "#         \"drop_rate\": {\"values\": [0.0]}, # \"drop_rate\": {\"values\": [0.25,0.5,0.75]}, #\"drop_rate\": {\"min\": 0.25, \"max\": 0.75},\n",
    "#         \"exclude_class\": {\"values\": [True]},\n",
    "#         \"merge_polarities\": {\"values\": [False]},\n",
    "#         \"lif_layer_v_reset\": {\"values\": [0,10000]},\n",
    "#         \"lif_layer_sg_width\": {\"min\": 1.0, \"max\": 8.0},\n",
    "#         \"e_transport_swap_coin\": {\"values\": [1]},\n",
    "#         \"lif_layer_v_threshold\": {\"min\": 0.0, \"max\": 3.0},\n",
    "#         \"scheduler_name\": {\"values\": ['no']},  # 'no' 'StepLR' 'ExponentialLR' 'ReduceLROnPlateau' 'CosineAnnealingLR' 'OneCycleLR'\n",
    "#         \"denoise_on\": {\"values\": ['True']}, \n",
    "#         \"I_wanna_sweep_at_this_epoch\": {\"values\": [-1]}, \n",
    "#         \"dvs_duration_domain\": {\"values\": [[]]}, \n",
    "#         \"extra_train_dataset\": {\"values\": [0,1,2,3]}, \n",
    "#      }\n",
    "# }\n",
    "\n",
    "# def hyper_iter():\n",
    "#     ### my_snn control board ########################\n",
    "#     unique_name = unique_name_hyper ## 이거 설정하면 새로운 경로에 모두 save\n",
    "    \n",
    "#     wandb.init(save_code = True)\n",
    "#     learning_rate  =  wandb.config.learning_rate\n",
    "#     BATCH  =  wandb.config.BATCH\n",
    "#     decay  =  wandb.config.decay\n",
    "#     IMAGE_SIZE  =  wandb.config.IMAGE_SIZE\n",
    "#     TIME  =  wandb.config.TIME\n",
    "#     epoch_num  =  wandb.config.epoch_num \n",
    "#     dvs_duration  =  wandb.config.dvs_duration\n",
    "#     dvs_clipping  =  wandb.config.dvs_clipping\n",
    "#     which_data  =  wandb.config.which_data\n",
    "#     OTTT_sWS_on  =  wandb.config.OTTT_sWS_on\n",
    "#     const2  =  wandb.config.const2\n",
    "#     surrogate  =  wandb.config.surrogate\n",
    "#     DFA_on  =  wandb.config.DFA_on\n",
    "#     OTTT_input_trace_on  =  wandb.config.OTTT_input_trace_on\n",
    "#     cfg  =  wandb.config.cfg\n",
    "#     e_transport_swap  =  wandb.config.e_transport_swap\n",
    "#     e_transport_swap_tr  =  wandb.config.e_transport_swap_tr\n",
    "#     drop_rate  =  wandb.config.drop_rate\n",
    "#     exclude_class  =  wandb.config.exclude_class\n",
    "#     merge_polarities  =  wandb.config.merge_polarities\n",
    "#     lif_layer_v_reset  =  wandb.config.lif_layer_v_reset\n",
    "#     lif_layer_sg_width  =  wandb.config.lif_layer_sg_width\n",
    "#     e_transport_swap_coin  =  wandb.config.e_transport_swap_coin\n",
    "#     lif_layer_v_threshold  =  wandb.config.lif_layer_v_threshold\n",
    "#     scheduler_name  =  wandb.config.scheduler_name\n",
    "#     denoise_on  =  wandb.config.denoise_on\n",
    "#     I_wanna_sweep_at_this_epoch  =  wandb.config.I_wanna_sweep_at_this_epoch\n",
    "#     dvs_duration_domain  =  wandb.config.dvs_duration_domain\n",
    "#     extra_train_dataset  =  wandb.config.extra_train_dataset\n",
    "#     if const2 == True:\n",
    "#         const2 = decay\n",
    "#     else:\n",
    "#         const2 = 0.0\n",
    "\n",
    "#     my_snn_system(  devices = \"5\",\n",
    "#                 single_step = True, # True # False\n",
    "#                 unique_name = run_name,\n",
    "#                 my_seed = 42,\n",
    "#                 TIME = TIME , # dvscifar 10 # ottt 6 or 10 # nda 10  # 제작하는 dvs에서 TIME넘거나 적으면 자르거나 PADDING함\n",
    "#                 BATCH = BATCH, # batch norm 할거면 2이상으로 해야함   # nda 256   #  ottt 128\n",
    "#                 IMAGE_SIZE = IMAGE_SIZE, # dvscifar 48 # MNIST 28 # CIFAR10 32 # PMNIST 28 #NMNIST 34 # GESTURE 128\n",
    "#                 # dvsgesture 128, dvs_cifar2 128, nmnist 34, n_caltech101 180,240, n_tidigits 64, heidelberg 700, \n",
    "#                 #pmnist는 28로 해야 됨. 나머지는 바꿔도 돌아는 감.\n",
    "\n",
    "#                 # DVS_CIFAR10 할거면 time 10으로 해라\n",
    "#                 which_data = which_data,\n",
    "# # 'CIFAR100' 'CIFAR10' 'MNIST' 'FASHION_MNIST' 'DVS_CIFAR10' 'PMNIST'아직\n",
    "# # 'DVS_GESTURE', 'DVS_GESTURE_TONIC','DVS_CIFAR10_2','NMNIST','NMNIST_TONIC','N_CALTECH101','n_tidigits','heidelberg'\n",
    "#                 # CLASS_NUM = 10,\n",
    "#                 data_path = '/data2', # YOU NEED TO CHANGE THIS\n",
    "#                 rate_coding = False, # True # False\n",
    "#                 lif_layer_v_init = 0.0,\n",
    "#                 lif_layer_v_decay = decay,\n",
    "#                 lif_layer_v_threshold = lif_layer_v_threshold,  # 10000이상으로 하면 NDA LIF 씀. #nda 0.5  #ottt 1.0\n",
    "#                 lif_layer_v_reset = lif_layer_v_reset, # 10000이상은 hardreset (내 LIF쓰기는 함 ㅇㅇ)\n",
    "#                 lif_layer_sg_width = lif_layer_sg_width, # # surrogate sigmoid 쓸 때는 의미없음\n",
    "\n",
    "#                 # synapse_conv_in_channels = IMAGE_PIXEL_CHANNEL,\n",
    "#                 synapse_conv_kernel_size = 3,\n",
    "#                 synapse_conv_stride = 1,\n",
    "#                 synapse_conv_padding = 1,\n",
    "#                 synapse_conv_trace_const1 = 1, # 현재 trace구할 때 현재 spike에 곱해지는 상수. 걍 1로 두셈.\n",
    "#                 synapse_conv_trace_const2 = const2, # 현재 trace구할 때 직전 trace에 곱해지는 상수. lif_layer_v_decay와 같게 할 것을 추천\n",
    "\n",
    "#                 # synapse_fc_out_features = CLASS_NUM,\n",
    "#                 synapse_fc_trace_const1 = 1, # 현재 trace구할 때 현재 spike에 곱해지는 상수. 걍 1로 두셈.\n",
    "#                 synapse_fc_trace_const2 = const2, # 현재 trace구할 때 직전 trace에 곱해지는 상수. lif_layer_v_decay와 같게 할 것을 추천\n",
    "\n",
    "#                 pre_trained = False, # True # False\n",
    "#                 convTrue_fcFalse = False, # True # False\n",
    "\n",
    "#                 # 'P' for average pooling, 'D' for (1,1) aver pooling, 'M' for maxpooling, 'L' for linear classifier, [  ] for residual block\n",
    "#                 # conv에서 10000 이상은 depth-wise separable (BPTT만 지원), 20000이상은 depth-wise (BPTT만 지원)\n",
    "#                 # cfg = [64, 64],\n",
    "#                 # cfg = [64, 124, 64, 124],\n",
    "#                 # cfg = ['M','M',512], \n",
    "#                 # cfg = [512], \n",
    "#                 # cfg = ['M', 'M', 64, 128, 'P', 128, 'P'], \n",
    "#                 # cfg = ['M','M',200,200],\n",
    "#                 # cfg = [200,200],\n",
    "#                 cfg = cfg,\n",
    "#                 # cfg = [12], #fc\n",
    "#                 # cfg = [12, 'M', 48, 'M', 12], \n",
    "#                 # cfg = [64,[64,64],64], # 끝에 linear classifier 하나 자동으로 붙습니다\n",
    "#                 # cfg = [64, 128, 'P', 256, 256, 'P', 512, 512, 'P', 512, 512, 'D'], #ottt\n",
    "#                 # cfg = [64, 128, 'P', 256, 256, 'P', 512, 512, 'P', 512, 512], \n",
    "#                 # cfg = [64, 128, 'M', 256, 256, 'M', 512, 512, 'M', 512, 512], \n",
    "#                 # cfg = [64, 'P', 128, 'P', 256, 256, 'P', 512, 512, 512, 512, 'D'], # nda\n",
    "#                 # cfg = [64, 'P', 128, 'P', 256, 256, 'P', 512, 512, 512, 512], # nda 128pixel\n",
    "#                 # cfg = [64, 'P', 128, 'P', 256, 256, 'P', 512, 512, 512, 512, 'L', 4096, 4096],\n",
    "#                 # cfg = [20001,10001], # depthwise, separable\n",
    "#                 # cfg = [64,20064,10001], # vanilla conv, depthwise, separable\n",
    "#                 # cfg = [8, 'P', 8, 'P', 8, 'P', 8,'P', 8, 'P'],\n",
    "#                 # cfg = [], \n",
    "                \n",
    "#                 net_print = True, # True # False # True로 하길 추천\n",
    "#                 weight_count_print = False, # True # False\n",
    "                \n",
    "#                 pre_trained_path = f\"net_save/save_now_net_weights_{unique_name}.pth\",\n",
    "#                 learning_rate = learning_rate, # default 0.001  # ottt 0.1 # nda 0.001 \n",
    "#                 epoch_num = epoch_num,\n",
    "#                 verbose_interval = 999999999, #숫자 크게 하면 꺼짐 #걍 중간중간 iter에서 끊어서 출력\n",
    "#                 validation_interval =  999999999,#999999999, #숫자 크게 하면 에포크 마지막 iter 때 val 함\n",
    "\n",
    "#                 tdBN_on = False,  # True # False\n",
    "#                 BN_on = False,  # True # False\n",
    "                \n",
    "#                 surrogate = surrogate, # 'rectangle' 'sigmoid' 'rough_rectangle'\n",
    "                \n",
    "#                 gradient_verbose = False,  # True # False  # weight gradient 각 layer마다 띄워줌\n",
    "\n",
    "#                 BPTT_on = False,  # True # False # True이면 BPTT, False이면 OTTT  # depthwise, separable은 BPTT만 가능\n",
    "#                 optimizer_what = 'SGD', # 'SGD' 'Adam', 'RMSprop'\n",
    "#                 scheduler_name = scheduler_name, # 'no' 'StepLR' 'ExponentialLR' 'ReduceLROnPlateau' 'CosineAnnealingLR' 'OneCycleLR'\n",
    "                \n",
    "#                 ddp_on = False,   # True # False \n",
    "#                 # 지원 DATASET: cifar10, mnist\n",
    "\n",
    "#                 nda_net = False,   # True # False\n",
    "\n",
    "#                 domain_il_epoch = 0, # over 0, then domain il mode on # pmnist 쓸거면 HLOP 코드보고 더 디벨롭하셈. 지금 개발 hold함.\n",
    "                \n",
    "#                 dvs_clipping = dvs_clipping, # 숫자만큼 크면 spike 아니면 걍 0\n",
    "#                 # gesture, cifar-dvs2, nmnist, ncaltech101\n",
    "\n",
    "#                 dvs_duration = dvs_duration, # 0 아니면 time sampling # dvs number sampling OR time sampling # gesture, cifar-dvs2, nmnist, ncaltech101\n",
    "#                 # 있는 데이터들 #gesture 100_000 25_000 10_000 1_000 1_000_000 #nmnist 10000 #nmnist_tonic 10_000 25_000\n",
    "#                 # 한 숫자가 1us인듯 (spikingjelly코드에서)\n",
    "#                 # 한 장에 50 timestep만 생산함. 싫으면 my_snn/trying/spikingjelly_dvsgesture의__init__.py 를 참고해봐\n",
    "\n",
    "#                 OTTT_sWS_on = OTTT_sWS_on, # True # False # BPTT끄고, CONV에만 적용됨.\n",
    "\n",
    "#                 DFA_on = DFA_on, # True # False # residual은 dfa지원안함.\n",
    "#                 OTTT_input_trace_on = OTTT_input_trace_on, # True # False # 맨 처음 input에 trace 적용\n",
    "                 \n",
    "#                 e_transport_swap = e_transport_swap, # 1 이상이면 해당 숫자 에포크만큼 val_acc_best가 변화가 없으면 e_transport scheme (BP vs DFA) swap\n",
    "#                 e_transport_swap_tr = e_transport_swap_tr, # 1 이상이면 해당 숫자 에포크만큼 tr_acc_best가 변화가 없으면 e_transport scheme (BP vs DFA) swap\n",
    "#                 e_transport_swap_coin = e_transport_swap_coin, # swap할 수 있는 coin 개수\n",
    "                    \n",
    "#                 drop_rate = drop_rate,\n",
    "\n",
    "#                 exclude_class = exclude_class, # True # False # gesture에서 10번째 클래스 제외\n",
    "\n",
    "#                 merge_polarities = merge_polarities, # True # False # tonic dvs dataset 에서 polarities 합치기\n",
    "#                 denoise_on = denoise_on,\n",
    "\n",
    "#                 I_wanna_sweep_at_this_epoch = I_wanna_sweep_at_this_epoch,\n",
    "#                 dvs_duration_domain = dvs_duration_domain,\n",
    "\n",
    "#                 extra_train_dataset = extra_train_dataset,\n",
    "\n",
    "#                 num_workers = 4,\n",
    "#                 chaching_on = True,\n",
    "#                 pin_memory = True, # True # False\n",
    "#                     ) \n",
    "#     # sigmoid와 BN이 있어야 잘된다.\n",
    "#     # average pooling\n",
    "#     # 이 낫다. \n",
    "    \n",
    "#     # nda에서는 decay = 0.25, threshold = 0.5, width =1, surrogate = rectangle, batch = 256, tdBN = True\n",
    "#     ## OTTT 에서는 decay = 0.5, threshold = 1.0, surrogate = sigmoid, batch = 128, BN = True\n",
    "\n",
    "# sweep_id = wandb.sweep(sweep=sweep_configuration, project=f'my_snn {unique_name_hyper}')\n",
    "# wandb.agent(sweep_id, function=hyper_iter, count=10000, project=f'my_snn {unique_name_hyper}')\n"
   ]
  },
  {
   "cell_type": "code",
   "execution_count": null,
   "metadata": {},
   "outputs": [
    {
     "data": {
      "application/vnd.jupyter.widget-view+json": {
       "model_id": "3e415edad95f41c480d5f7d1e764f991",
       "version_major": 2,
       "version_minor": 0
      },
      "text/plain": [
       "VBox(children=(Label(value='6.051 MB of 6.051 MB uploaded (3.868 MB deduped)\\r'), FloatProgress(value=1.0, max…"
      ]
     },
     "metadata": {},
     "output_type": "display_data"
    },
    {
     "data": {
      "text/html": [
       "W&B sync reduced upload amount by 61.6%"
      ],
      "text/plain": [
       "<IPython.core.display.HTML object>"
      ]
     },
     "metadata": {},
     "output_type": "display_data"
    },
    {
     "data": {
      "text/html": [
       "<style>\n",
       "    table.wandb td:nth-child(1) { padding: 0 10px; text-align: left ; width: auto;} td:nth-child(2) {text-align: left ; width: 100%}\n",
       "    .wandb-row { display: flex; flex-direction: row; flex-wrap: wrap; justify-content: flex-start; width: 100% }\n",
       "    .wandb-col { display: flex; flex-direction: column; flex-basis: 100%; flex: 1; padding: 10px; }\n",
       "    </style>\n",
       "<div class=\"wandb-row\"><div class=\"wandb-col\"><h3>Run history:</h3><br/><table class=\"wandb\"><tr><td>DFA_flag</td><td>▁▁▁▁▁▁▁▁▁▁▁▁▁▁▁▁▁▁▁▁▁▁▁▁▁▁▁▁▁▁▁▁▁▁▁▁▁▁▁▁</td></tr><tr><td>epoch</td><td>▁▁▁▂▂▂▂▂▂▃▃▃▃▃▄▄▄▄▄▄▅▅▅▅▅▅▆▆▆▆▆▇▇▇▇▇▇███</td></tr><tr><td>iter_acc</td><td>▁▃██████████████████████████████████████</td></tr><tr><td>summary_val_acc</td><td>▁▃▂▅▆▇▇▇▇▇▇▇▇▇▇▇▇▇▇▇▇▇█▇█▇▇█████████████</td></tr><tr><td>tr_acc</td><td>▁▅▇█████████████████████████████████████</td></tr><tr><td>tr_epoch_loss</td><td>█▅▃▂▁▁▁▁▁▁▁▁▁▁▁▁▁▁▁▁▁▁▁▁▁▁▁▁▁▁▁▁▁▁▁▁▁▁▁▁</td></tr><tr><td>val_acc_best</td><td>▁▃▅▆▇▇▇▇▇▇▇▇▇▇▇▇▇▇▇▇▇▇██████████████████</td></tr><tr><td>val_acc_now</td><td>▁▃▂▅▆▇▇▇▇▇▇▇▇▇▇▇▇▇▇▇▇▇█▇█▇▇█████████████</td></tr><tr><td>val_loss</td><td>▂▁▂▂▃▄▅▅▅▅▆▆▆▆▆▇▇▇▇▇▇▇▇▇▇▇▇█████████████</td></tr></table><br/></div><div class=\"wandb-col\"><h3>Run summary:</h3><br/><table class=\"wandb\"><tr><td>DFA_flag</td><td>0.0</td></tr><tr><td>epoch</td><td>199</td></tr><tr><td>iter_acc</td><td>1.0</td></tr><tr><td>tr_acc</td><td>1.0</td></tr><tr><td>tr_epoch_loss</td><td>0.00069</td></tr><tr><td>val_acc_best</td><td>0.85</td></tr><tr><td>val_acc_now</td><td>0.83333</td></tr><tr><td>val_loss</td><td>2.39887</td></tr></table><br/></div></div>"
      ],
      "text/plain": [
       "<IPython.core.display.HTML object>"
      ]
     },
     "metadata": {},
     "output_type": "display_data"
    },
    {
     "data": {
      "text/html": [
       " View run <strong style=\"color:#cdcd00\">vital-hill-5766</strong> at: <a href='https://wandb.ai/bhkim003-seoul-national-university/my_snn%20main/runs/8p42s7qa' target=\"_blank\">https://wandb.ai/bhkim003-seoul-national-university/my_snn%20main/runs/8p42s7qa</a><br/> View project at: <a href='https://wandb.ai/bhkim003-seoul-national-university/my_snn%20main' target=\"_blank\">https://wandb.ai/bhkim003-seoul-national-university/my_snn%20main</a><br/>Synced 7 W&B file(s), 0 media file(s), 15 artifact file(s) and 1 other file(s)"
      ],
      "text/plain": [
       "<IPython.core.display.HTML object>"
      ]
     },
     "metadata": {},
     "output_type": "display_data"
    },
    {
     "data": {
      "text/html": [
       "Find logs at: <code>./wandb/run-20240912_113444-8p42s7qa/logs</code>"
      ],
      "text/plain": [
       "<IPython.core.display.HTML object>"
      ]
     },
     "metadata": {},
     "output_type": "display_data"
    },
    {
     "data": {
      "text/html": [
       "The new W&B backend becomes opt-out in version 0.18.0; try it out with `wandb.require(\"core\")`! See https://wandb.me/wandb-core for more information."
      ],
      "text/plain": [
       "<IPython.core.display.HTML object>"
      ]
     },
     "metadata": {},
     "output_type": "display_data"
    }
   ],
   "source": [
    "wandb.finish()"
   ]
  },
  {
   "cell_type": "code",
   "execution_count": null,
   "metadata": {},
   "outputs": [],
   "source": [
    "# import numpy as np\n",
    "# import matplotlib.pyplot as plt\n",
    "# import json\n",
    "# run_name = 'main_FINAL_TEST'\n",
    "\n",
    "# unique_name = run_name\n",
    "# def pad_array_to_match_length(array1, array2):\n",
    "#     if len(array1) > len(array2):\n",
    "#         padded_array2 = np.pad(array2, (0, len(array1) - len(array2)), 'constant')\n",
    "#         return array1, padded_array2\n",
    "#     elif len(array2) > len(array1):\n",
    "#         padded_array1 = np.pad(array1, (0, len(array2) - len(array1)), 'constant')\n",
    "#         return padded_array1, array2\n",
    "#     else:\n",
    "#         return array1, array2\n",
    "# def load_hyperparameters(filename=f'result_save/hyperparameters_{unique_name}.json'):\n",
    "#     with open(filename, 'r') as f:\n",
    "#         return json.load(f)\n",
    "    \n",
    "\n",
    "\n",
    "\n",
    "\n",
    "# current_time = '20240628_110116'\n",
    "# base_name = f'{current_time}'\n",
    "# iter_acc_file_name = f'result_save/{base_name}_iter_acc_array_{unique_name}.npy'\n",
    "# val_acc_file_name = f'result_save/{base_name}_val_acc_now_array_{unique_name}.npy'\n",
    "# hyperparameters_file_name = f'result_save/{base_name}_hyperparameters_{unique_name}.json'\n",
    "\n",
    "# ### if you want to just see most recent train and val acc###########################\n",
    "# iter_acc_file_name = f'result_save/iter_acc_array_{unique_name}.npy'\n",
    "# tr_acc_file_name = f'result_save/tr_acc_array_{unique_name}.npy'\n",
    "# val_acc_file_name = f'result_save/val_acc_now_array_{unique_name}.npy'\n",
    "# hyperparameters_file_name = f'result_save/hyperparameters_{unique_name}.json'\n",
    "\n",
    "# loaded_iter_acc_array = np.load(iter_acc_file_name)*100\n",
    "# loaded_tr_acc_array = np.load(tr_acc_file_name)*100\n",
    "# loaded_val_acc_array = np.load(val_acc_file_name)*100\n",
    "# hyperparameters = load_hyperparameters(hyperparameters_file_name)\n",
    "\n",
    "# loaded_iter_acc_array, loaded_val_acc_array = pad_array_to_match_length(loaded_iter_acc_array, loaded_val_acc_array)\n",
    "# loaded_iter_acc_array, loaded_tr_acc_array = pad_array_to_match_length(loaded_iter_acc_array, loaded_tr_acc_array)\n",
    "# loaded_val_acc_array, loaded_tr_acc_array = pad_array_to_match_length(loaded_val_acc_array, loaded_tr_acc_array)\n",
    "\n",
    "# top_iter_acc = np.max(loaded_iter_acc_array)\n",
    "# top_tr_acc = np.max(loaded_tr_acc_array)\n",
    "# top_val_acc = np.max(loaded_val_acc_array)\n",
    "\n",
    "# which_data = hyperparameters['which_data']\n",
    "# BPTT_on = hyperparameters['BPTT_on']\n",
    "# current_epoch = hyperparameters['current epoch']\n",
    "# surrogate = hyperparameters['surrogate']\n",
    "# cfg = hyperparameters['cfg']\n",
    "# tdBN_on = hyperparameters['tdBN_on']\n",
    "# BN_on = hyperparameters['BN_on']\n",
    "\n",
    "\n",
    "# iterations = np.arange(len(loaded_iter_acc_array))\n",
    "\n",
    "# # 그래프 그리기\n",
    "# plt.figure(figsize=(10, 5))\n",
    "# plt.plot(iterations, loaded_iter_acc_array, label='Iter Accuracy', color='g', alpha=0.2)\n",
    "# plt.plot(iterations, loaded_tr_acc_array, label='Training Accuracy', color='b')\n",
    "# plt.plot(iterations, loaded_val_acc_array, label='Validation Accuracy', color='r')\n",
    "\n",
    "# # # 텍스트 추가\n",
    "# # plt.text(0.05, 0.95, f'Top Training Accuracy: {100*top_iter_acc:.2f}%', transform=plt.gca().transAxes, fontsize=12, verticalalignment='top', horizontalalignment='left', color='blue')\n",
    "# # plt.text(0.05, 0.90, f'Top Validation Accuracy: {100*top_val_acc:.2f}%', transform=plt.gca().transAxes, fontsize=12, verticalalignment='top', horizontalalignment='left', color='red')\n",
    "# # 텍스트 추가\n",
    "# plt.text(0.5, 0.10, f'Top Training Accuracy: {top_tr_acc:.2f}%', transform=plt.gca().transAxes, fontsize=12, verticalalignment='top', horizontalalignment='center', color='blue')\n",
    "# plt.text(0.5, 0.05, f'Top Validation Accuracy: {top_val_acc:.2f}%', transform=plt.gca().transAxes, fontsize=12, verticalalignment='top', horizontalalignment='center', color='red')\n",
    "\n",
    "# plt.xlabel('Iterations')\n",
    "# plt.ylabel('Accuracy [%]')\n",
    "\n",
    "# # 그래프 제목에 하이퍼파라미터 정보 추가\n",
    "# title = f'Training and Validation Accuracy over Iterations\\n\\nData: {which_data}, BPTT: {\"On\" if BPTT_on else \"Off\"}, Current Epoch: {current_epoch}, Surrogate: {surrogate},\\nCFG: {cfg}, tdBN: {\"On\" if tdBN_on else \"Off\"}, BN: {\"On\" if BN_on else \"Off\"}'\n",
    "\n",
    "# plt.title(title)\n",
    "\n",
    "# plt.legend(loc='lower right')\n",
    "# plt.xlim(0)  # x축을 0부터 시작\n",
    "# plt.grid(True)\n",
    "# plt.show()"
   ]
  }
 ],
 "metadata": {
  "kernelspec": {
   "display_name": "nfs",
   "language": "python",
   "name": "python3"
  },
  "language_info": {
   "codemirror_mode": {
    "name": "ipython",
    "version": 3
   },
   "file_extension": ".py",
   "mimetype": "text/x-python",
   "name": "python",
   "nbconvert_exporter": "python",
   "pygments_lexer": "ipython3",
   "version": "3.8.18"
  }
 },
 "nbformat": 4,
 "nbformat_minor": 2
}
