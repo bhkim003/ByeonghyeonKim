{
 "cells": [
  {
   "cell_type": "code",
   "execution_count": 1,
   "metadata": {},
   "outputs": [],
   "source": [
    "# Copyright (c) 2024 Byeonghyeon Kim \n",
    "# github site: https://github.com/bhkim003/ByeonghyeonKim\n",
    "# email: bhkim003@snu.ac.kr\n",
    " \n",
    "# Permission is hereby granted, free of charge, to any person obtaining a copy of\n",
    "# this software and associated documentation files (the \"Software\"), to deal in\n",
    "# the Software without restriction, including without limitation the rights to\n",
    "# use, copy, modify, merge, publish, distribute, sublicense, and/or sell copies of\n",
    "# the Software, and to permit persons to whom the Software is furnished to do so,\n",
    "# subject to the following conditions:\n",
    " \n",
    "# The above copyright notice and this permission notice shall be included in all\n",
    "# copies or substantial portions of the Software.\n",
    " \n",
    "# THE SOFTWARE IS PROVIDED \"AS IS\", WITHOUT WARRANTY OF ANY KIND, EXPRESS OR\n",
    "# IMPLIED, INCLUDING BUT NOT LIMITED TO THE WARRANTIES OF MERCHANTABILITY, FITNESS\n",
    "# FOR A PARTICULAR PURPOSE AND NONINFRINGEMENT. IN NO EVENT SHALL THE AUTHORS OR\n",
    "# COPYRIGHT HOLDERS BE LIABLE FOR ANY CLAIM, DAMAGES OR OTHER LIABILITY, WHETHER\n",
    "# IN AN ACTION OF CONTRACT, TORT OR OTHERWISE, ARISING FROM, OUT OF OR IN\n",
    "# CONNECTION WITH THE SOFTWARE OR THE USE OR OTHER DEALINGS IN THE SOFTWARE.\n"
   ]
  },
  {
   "cell_type": "code",
   "execution_count": 2,
   "metadata": {},
   "outputs": [
    {
     "name": "stderr",
     "output_type": "stream",
     "text": [
      "/tmp/ipykernel_37468/652520392.py:46: DeprecationWarning: The module snntorch.spikevision is deprecated. For loading neuromorphic datasets, we recommend using the Tonic project: https://github.com/neuromorphs/tonic\n",
      "  from snntorch.spikevision import spikedata\n"
     ]
    }
   ],
   "source": [
    "import sys\n",
    "import os\n",
    "import argparse\n",
    "import torch\n",
    "import torch.nn as nn \n",
    "import torch.nn.functional as F\n",
    "import torch.backends.cudnn as cudnn\n",
    "import torch.optim as optim\n",
    "import torch.optim.lr_scheduler as lr_scheduler\n",
    "from torch.utils.data import Dataset, DataLoader\n",
    "\n",
    "import torchvision\n",
    "import torchvision.datasets\n",
    "import torchvision.transforms as transforms\n",
    "\n",
    "import numpy as np\n",
    "import matplotlib.pyplot as plt\n",
    "\n",
    "import time\n",
    "\n",
    "from snntorch import spikegen\n",
    "import matplotlib.pyplot as plt\n",
    "import snntorch.spikeplot as splt\n",
    "from IPython.display import HTML\n",
    "\n",
    "from tqdm import tqdm\n",
    "\n",
    "from apex.parallel import DistributedDataParallel as DDP\n",
    "\n",
    "import random\n",
    "import datetime\n",
    "\n",
    "import json\n",
    "\n",
    "from sklearn.utils import shuffle\n",
    "\n",
    "''' 레퍼런스\n",
    "https://spikingjelly.readthedocs.io/zh-cn/0.0.0.0.4/spikingjelly.datasets.html#module-spikingjelly.datasets\n",
    "https://github.com/GorkaAbad/Sneaky-Spikes/blob/main/datasets.py\n",
    "https://github.com/GorkaAbad/Sneaky-Spikes/blob/main/how_to.md\n",
    "https://github.com/nmi-lab/torchneuromorphic\n",
    "https://snntorch.readthedocs.io/en/latest/snntorch.spikevision.spikedata.html#shd\n",
    "'''\n",
    "\n",
    "import snntorch\n",
    "from snntorch.spikevision import spikedata\n",
    "\n",
    "from spikingjelly.datasets.dvs128_gesture import DVS128Gesture\n",
    "from spikingjelly.datasets.cifar10_dvs import CIFAR10DVS\n",
    "from spikingjelly.datasets.n_mnist import NMNIST\n",
    "# from spikingjelly.datasets.es_imagenet import ESImageNet\n",
    "from spikingjelly.datasets import split_to_train_test_set\n",
    "from spikingjelly.datasets.n_caltech101 import NCaltech101\n",
    "from spikingjelly.datasets import pad_sequence_collate, padded_sequence_mask\n",
    "\n",
    "import torchneuromorphic\n",
    "\n",
    "import wandb\n",
    "\n",
    "from torchviz import make_dot\n",
    "import graphviz"
   ]
  },
  {
   "cell_type": "code",
   "execution_count": 3,
   "metadata": {},
   "outputs": [],
   "source": [
    "import apex"
   ]
  },
  {
   "cell_type": "code",
   "execution_count": 4,
   "metadata": {},
   "outputs": [
    {
     "data": {
      "image/png": "[encoded data removed]",
      "text/plain": [
       "<Figure size 800x600 with 2 Axes>"
      ]
     },
     "metadata": {},
     "output_type": "display_data"
    }
   ],
   "source": [
    "# my module import\n",
    "from modules import *\n",
    "\n",
    "# modules 폴더에 새모듈.py 만들면\n",
    "# modules/__init__py 파일에 form .새모듈 import * 하셈\n",
    "# 그리고 새모듈.py에서 from modules.새모듈 import * 하셈\n"
   ]
  },
  {
   "cell_type": "code",
   "execution_count": 5,
   "metadata": {},
   "outputs": [],
   "source": [
    "from turtle import shape\n",
    "\n",
    "\n",
    "def my_snn_system(devices = \"0,1,2,3\",\n",
    "                    single_step = False, # True # False\n",
    "                    unique_name = 'main',\n",
    "                    my_seed = 42,\n",
    "                    TIME = 10,\n",
    "                    BATCH = 256,\n",
    "                    IMAGE_SIZE = 32,\n",
    "                    which_data = 'CIFAR10',\n",
    "                    # CLASS_NUM = 10,\n",
    "                    data_path = '/data2',\n",
    "                    rate_coding = True,\n",
    "    \n",
    "                    lif_layer_v_init = 0.0,\n",
    "                    lif_layer_v_decay = 0.6,\n",
    "                    lif_layer_v_threshold = 1.2,\n",
    "                    lif_layer_v_reset = 0.0,\n",
    "                    lif_layer_sg_width = 1,\n",
    "\n",
    "                    # synapse_conv_in_channels = IMAGE_PIXEL_CHANNEL,\n",
    "                    synapse_conv_kernel_size = 3,\n",
    "                    synapse_conv_stride = 1,\n",
    "                    synapse_conv_padding = 1,\n",
    "                    synapse_conv_trace_const1 = 1,\n",
    "                    synapse_conv_trace_const2 = 0.6,\n",
    "\n",
    "                    # synapse_fc_out_features = CLASS_NUM,\n",
    "                    synapse_fc_trace_const1 = 1,\n",
    "                    synapse_fc_trace_const2 = 0.6,\n",
    "\n",
    "                    pre_trained = False,\n",
    "                    convTrue_fcFalse = True,\n",
    "                    cfg = [64, 64],\n",
    "                    net_print = False, # True # False\n",
    "                    weight_count_print = False, # True # False\n",
    "                    pre_trained_path = \"net_save/save_now_net.pth\",\n",
    "                    learning_rate = 0.0001,\n",
    "                    epoch_num = 200,\n",
    "                    verbose_interval = 100, #숫자 크게 하면 꺼짐\n",
    "                    validation_interval = 10, #숫자 크게 하면 꺼짐\n",
    "                    tdBN_on = False,\n",
    "                    BN_on = False,\n",
    "\n",
    "                    surrogate = 'sigmoid',\n",
    "\n",
    "                    gradient_verbose = False,\n",
    "\n",
    "                    BPTT_on = False,\n",
    "\n",
    "                    optimizer_what = 'SGD', # 'SGD' 'Adam', 'RMSprop'\n",
    "                    scheduler_name = 'no',\n",
    "                    \n",
    "                    ddp_on = True,\n",
    "\n",
    "                    nda_net = False,\n",
    "                    \n",
    "                    domain_il_epoch = 0, # over 0, then domain il mode on\n",
    "\n",
    "                    dvs_clipping = 1, \n",
    "                    dvs_duration = 10005,\n",
    "\n",
    "                    OTTT_sWS_on = True, # True # False\n",
    "\n",
    "                    DFA_on = False, # True # False\n",
    "                    OTTT_input_trace_on = False, # True # False\n",
    "                 \n",
    "                    e_transport_swap = 5, # 1 이상이면 해당 숫자 에포크만큼 val_acc_best가 변화가 없으면 e_transport scheme (BP vs DFA) swap\n",
    "                    e_transport_swap_tr = 0, # 1 이상이면 해당 숫자 에포크만큼 val_acc_best가 변화가 없으면 e_transport scheme (BP vs DFA) swap\n",
    "                    e_transport_swap_coin = 0, # swap할 수 있는 coin 개수\n",
    "\n",
    "                    drop_rate = 0.5, \n",
    "\n",
    "                    exclude_class = True, # True # False # gesture에서 10번째 클래스 제외\n",
    "\n",
    "                    merge_polarities = True, # True # False # tonic dvs dataset 에서 polarities 합치기\n",
    "                    denoise_on = True, \n",
    "                    dvs_relative_timestep = True, \n",
    "                    \n",
    "                    I_wanna_sweep_at_this_epoch = -1,\n",
    "                    dvs_duration_domain = [],\n",
    "\n",
    "                    extra_train_dataset = 0,\n",
    "\n",
    "                    num_workers = 2,\n",
    "                    chaching_on = False,\n",
    "                    pin_memory = True, # True # False\n",
    "                    \n",
    "                    UDA_on = False, # True # False\n",
    "                    UDA_data = (25_000,1,False), # (duration, clipping, denoise_on)\n",
    "                    src_trg_ratio = 1,\n",
    "                    adapter_loss_weight = 1.0, # 1.0  # adapter loss의 힘.\n",
    "                    alpha_uda = 1.0,\n",
    "\n",
    "                    temporal_filter = 1, \n",
    "                    initial_pooling = 1,\n",
    "                  ):\n",
    "    ## hyperparameter check #############################################################\n",
    "    if OTTT_sWS_on == True:\n",
    "        assert BPTT_on == False and tdBN_on == False and BN_on == False\n",
    "        if convTrue_fcFalse == False:\n",
    "            assert single_step == True\n",
    "    if single_step == True:\n",
    "        assert BPTT_on == False and tdBN_on == False \n",
    "    if tdBN_on == True:\n",
    "        assert BPTT_on == True\n",
    "    if pre_trained == True:\n",
    "        print('\\n\\n')\n",
    "        print(\"Caution! pre_trained is True\\n\\n\"*3)    \n",
    "    if DFA_on == True:\n",
    "        assert single_step == True and BPTT_on == False and any(isinstance(item, list) for item in cfg) == False\n",
    "    if OTTT_input_trace_on == True:\n",
    "        assert BPTT_on == False and single_step == True\n",
    "    if UDA_on == True:\n",
    "        assert single_step == True and BPTT_on == False and I_wanna_sweep_at_this_epoch == -1 and (e_transport_swap_coin == 0 or (e_transport_swap == 0 and e_transport_swap_tr == 0)) and isinstance(cfg, tuple) == True\n",
    "    if temporal_filter > 1:\n",
    "        assert convTrue_fcFalse == False\n",
    "    if initial_pooling > 1:\n",
    "        pass\n",
    "    ######################################################################################\n",
    "\n",
    "\n",
    "    ## 함수 내 모든 로컬 변수 저장 ########################################################\n",
    "    hyperparameters = locals()\n",
    "    hyperparameters['current epoch'] = 0\n",
    "    ######################################################################################\n",
    "    \n",
    "    args_gpu = None\n",
    "    ## DDP settting ######################################################################\n",
    "    if (ddp_on == True):\n",
    "        parser = argparse.ArgumentParser(description='my_snn CIFAR10 Training')\n",
    "\n",
    "        # # local_rank는 command line에서 따로 줄 필요는 없지만, 선언은 필요\n",
    "        parser.add_argument(\"--local_rank\", default=0, type=int)\n",
    "\n",
    "        args = parser.parse_args() # 이거 적어줘야됨. parser argument선언하고\n",
    "\n",
    "        args.gpu = args.local_rank\n",
    "        args_gpu = args.gpu\n",
    "        torch.cuda.set_device(args.gpu)\n",
    "        torch.distributed.init_process_group(backend=\"nccl\", init_method=\"env://\")\n",
    "        args.world_size = torch.distributed.get_world_size()\n",
    "    #######################################################################################\n",
    "\n",
    "\n",
    "    ## wandb 세팅 ###################################################################\n",
    "    current_time = datetime.datetime.now().strftime(\"%Y%m%d_%H%M%S\")\n",
    "    if (ddp_on == True and torch.distributed.get_rank() != 0):\n",
    "        wandb.finish()\n",
    "    if (ddp_on == False or torch.distributed.get_rank() == 0):\n",
    "        wandb.config.update(hyperparameters)\n",
    "        wandb.run.name = f'lr_{learning_rate}_{unique_name}_{which_data}_tstep{TIME}'\n",
    "        wandb.define_metric(\"summary_val_acc\", summary=\"max\")\n",
    "        wandb.run.log_code(\".\", \n",
    "                           include_fn=lambda path: path.endswith(\".py\") or path.endswith(\".ipynb\"),\n",
    "                           exclude_fn=lambda path: 'logs/' in path or 'net_save/' in path or 'result_save/' in path or 'trying/' in path or 'wandb/' in path or 'private/' in path\n",
    "                           )\n",
    "    ###################################################################################\n",
    "\n",
    "\n",
    "\n",
    "    ## gpu setting ##################################################################################################################\n",
    "    os.environ[\"CUDA_DEVICE_ORDER\"]=\"PCI_BUS_ID\" \n",
    "    os.environ[\"CUDA_VISIBLE_DEVICES\"]= devices\n",
    "    ###################################################################################################################################\n",
    "\n",
    "\n",
    "    ## seed setting ##################################################################################################################\n",
    "    seed_assign(my_seed)\n",
    "    ###################################################################################################################################\n",
    "    \n",
    "\n",
    "    ## data_loader 가져오기 ##################################################################################################################\n",
    "    # data loader, pixel channel, class num\n",
    "    train_loader, test_loader, synapse_conv_in_channels, CLASS_NUM = data_loader(\n",
    "            which_data,\n",
    "            data_path, \n",
    "            rate_coding, \n",
    "            BATCH, \n",
    "            IMAGE_SIZE,\n",
    "            ddp_on,\n",
    "            TIME*temporal_filter, # temporal_filter가 곱해짐.\n",
    "            dvs_clipping,\n",
    "            dvs_duration,\n",
    "            exclude_class,\n",
    "            merge_polarities,\n",
    "            denoise_on,\n",
    "            my_seed,\n",
    "            extra_train_dataset,\n",
    "            num_workers,\n",
    "            chaching_on,\n",
    "            pin_memory,)\n",
    "    synapse_fc_out_features = CLASS_NUM\n",
    "    test_loader_domain_set = []\n",
    "    test_loader_domain_set.append(test_loader)  \n",
    "\n",
    "    if (UDA_on == True):\n",
    "        print('Target domain에 대한 validation set이 이 target domain의 test set이다.')\n",
    "        train_loader_target, _, synapse_conv_in_channels, CLASS_NUM = data_loader(\n",
    "                which_data,\n",
    "                data_path, \n",
    "                rate_coding, \n",
    "                BATCH, \n",
    "                IMAGE_SIZE,\n",
    "                ddp_on,\n",
    "                TIME*temporal_filter,\n",
    "                UDA_data[1],  # dvs_clipping,\n",
    "                UDA_data[0],   # dvs_duration,\n",
    "                exclude_class,\n",
    "                merge_polarities,\n",
    "                UDA_data[2], # denoise_on,\n",
    "                my_seed,\n",
    "                extra_train_dataset,\n",
    "                num_workers,\n",
    "                chaching_on,\n",
    "                pin_memory,)\n",
    "        synapse_fc_out_features = CLASS_NUM\n",
    "    ###########################################################################################################################################\n",
    "    \n",
    "    ## 다른 dvs duration domain을 validation set으로 불러오기 ##############################################################\n",
    "    dvs_duration_domain_temp = []\n",
    "    if len(dvs_duration_domain) > 0:\n",
    "        for domain in dvs_duration_domain:\n",
    "            target_domain_timestep = (dvs_duration*TIME)//domain[0] if dvs_relative_timestep == True else TIME\n",
    "            dvs_duration_domain_temp.append(domain + (target_domain_timestep,))\n",
    "            train_loader_domain, test_loader_domain, synapse_conv_in_channels_domain, CLASS_NUM_domain = data_loader(\n",
    "                    which_data,\n",
    "                    data_path, \n",
    "                    rate_coding, \n",
    "                    BATCH, \n",
    "                    IMAGE_SIZE,\n",
    "                    ddp_on,\n",
    "                    target_domain_timestep*temporal_filter,\n",
    "                    domain[1], # dvs_clipping\n",
    "                    domain[0], # dvs_duration\n",
    "                    exclude_class,\n",
    "                    merge_polarities,\n",
    "                    domain[2], # denoise_on \n",
    "                    my_seed,\n",
    "                    extra_train_dataset,\n",
    "                    num_workers,\n",
    "                    chaching_on,\n",
    "                    pin_memory,)\n",
    "            test_loader_domain_set.append(test_loader_domain)\n",
    "        dvs_duration_domain = dvs_duration_domain_temp\n",
    "    ######################################################################################################################\n",
    "    \n",
    "    ## parameter number calculator (안 중요함) ##################################################################################################################\n",
    "    params_num = 0\n",
    "    img_size = IMAGE_SIZE//initial_pooling\n",
    "    bias_param = 1 # 1 or 0\n",
    "    classifier_making = False\n",
    "    if (UDA_on == True):\n",
    "        print(\"In UDA mode, No parameter number calculation yet.\")\n",
    "        pass\n",
    "    else: \n",
    "        if (convTrue_fcFalse == True):\n",
    "            past_kernel = synapse_conv_in_channels\n",
    "            for kernel in cfg:\n",
    "                if (classifier_making == False):\n",
    "                    if (type(kernel) == list):\n",
    "                        for residual_kernel in kernel:\n",
    "                            if (residual_kernel >= 10000 and residual_kernel < 20000): # separable\n",
    "                                residual_kernel -= 10000\n",
    "                                params_num += (synapse_conv_kernel_size**2 + bias_param) * past_kernel\n",
    "                                params_num += (1**2 * past_kernel + bias_param) * residual_kernel\n",
    "                                past_kernel = residual_kernel  \n",
    "                            elif (residual_kernel >= 20000 and residual_kernel < 30000): # depthwise\n",
    "                                residual_kernel -= 20000\n",
    "                                # 'past_kernel' should be same with 'kernel'\n",
    "                                params_num += (synapse_conv_kernel_size**2 + bias_param) * past_kernel\n",
    "                                past_kernel = residual_kernel  \n",
    "                            else:\n",
    "                                params_num += residual_kernel * ((synapse_conv_kernel_size**2) * past_kernel + bias_param)\n",
    "                                past_kernel = residual_kernel\n",
    "                    elif (kernel == 'P' or kernel == 'M'):\n",
    "                        img_size = img_size // 2\n",
    "                    elif (kernel == 'D'):\n",
    "                        img_size = 1\n",
    "                    elif (kernel == 'L'):\n",
    "                        classifier_making = True\n",
    "                        past_kernel = past_kernel * (img_size**2)\n",
    "                    else:\n",
    "                        if (kernel >= 10000 and kernel < 20000): # separable\n",
    "                            kernel -= 10000\n",
    "                            params_num += (synapse_conv_kernel_size**2 + bias_param) * past_kernel\n",
    "                            params_num += (1**2 * past_kernel + bias_param) * kernel\n",
    "                            past_kernel = kernel  \n",
    "                        elif (kernel >= 20000 and kernel < 30000): # depthwise\n",
    "                            kernel -= 20000\n",
    "                            # 'past_kernel' should be same with 'kernel'\n",
    "                            params_num += (synapse_conv_kernel_size**2 + bias_param) * past_kernel\n",
    "                            past_kernel = kernel  \n",
    "                        else:\n",
    "                            params_num += kernel * (synapse_conv_kernel_size**2 * past_kernel + bias_param)\n",
    "                            past_kernel = kernel    \n",
    "                else: # classifier making\n",
    "                    params_num += (past_kernel + bias_param) * kernel\n",
    "                    past_kernel = kernel\n",
    "            \n",
    "            \n",
    "            if classifier_making == False:\n",
    "                past_kernel = past_kernel*img_size*img_size\n",
    "\n",
    "            params_num += (past_kernel + bias_param) * synapse_fc_out_features\n",
    "        else:\n",
    "            in_channel_compute_temp = synapse_conv_in_channels * temporal_filter\n",
    "            past_in_channel = in_channel_compute_temp*img_size*img_size\n",
    "            for in_channel in cfg:\n",
    "                if (type(in_channel) == list):\n",
    "                    for residual_in_channel in in_channel:\n",
    "                        params_num += (past_in_channel + bias_param) * residual_in_channel\n",
    "                        past_in_channel = residual_in_channel\n",
    "                elif (in_channel == 'P' or in_channel == 'M'):\n",
    "                    img_size = img_size // 2\n",
    "                    past_in_channel = in_channel_compute_temp*img_size*img_size\n",
    "                else:\n",
    "                    params_num += (past_in_channel + bias_param) * in_channel\n",
    "                    past_in_channel = in_channel\n",
    "            params_num += (past_in_channel + bias_param) * synapse_fc_out_features\n",
    "    ###########################################################################################################################################\n",
    "\n",
    "\n",
    "    device = torch.device(\"cuda\" if torch.cuda.is_available() else \"cpu\")\n",
    "    print(f\"\\ndevice ==> {device}\\n\")\n",
    "    if device == \"cpu\":\n",
    "        print(\"=\"*50,\"\\n[WARNING]\\n[WARNING]\\n[WARNING]\\n: cpu mode\\n\\n\",\"=\"*50)\n",
    "\n",
    "    ### network setting #######################################################################################################################\n",
    "    if (convTrue_fcFalse == False):\n",
    "        if (single_step == False):\n",
    "            net = MY_SNN_FC(cfg, synapse_conv_in_channels*temporal_filter, IMAGE_SIZE//initial_pooling, synapse_fc_out_features,\n",
    "                        synapse_fc_trace_const1, synapse_fc_trace_const2, \n",
    "                        lif_layer_v_init, lif_layer_v_decay, \n",
    "                        lif_layer_v_threshold, lif_layer_v_reset,\n",
    "                        lif_layer_sg_width,\n",
    "                        tdBN_on,\n",
    "                        BN_on, TIME,\n",
    "                        surrogate,\n",
    "                        BPTT_on,\n",
    "                        DFA_on,\n",
    "                        drop_rate,\n",
    "                        UDA_on,\n",
    "                        alpha_uda).to(device)\n",
    "        else:\n",
    "            net = MY_SNN_FC_sstep(cfg, synapse_conv_in_channels*temporal_filter, IMAGE_SIZE//initial_pooling, synapse_fc_out_features,\n",
    "                        synapse_fc_trace_const1, synapse_fc_trace_const2, \n",
    "                        lif_layer_v_init, lif_layer_v_decay, \n",
    "                        lif_layer_v_threshold, lif_layer_v_reset,\n",
    "                        lif_layer_sg_width,\n",
    "                        tdBN_on,\n",
    "                        BN_on, TIME,\n",
    "                        surrogate,\n",
    "                        BPTT_on,\n",
    "                        DFA_on,\n",
    "                        OTTT_sWS_on,\n",
    "                        drop_rate,\n",
    "                        UDA_on,\n",
    "                        alpha_uda).to(device)\n",
    "    else:\n",
    "        if (single_step == False):\n",
    "            net = MY_SNN_CONV(cfg, synapse_conv_in_channels, IMAGE_SIZE//initial_pooling,\n",
    "                        synapse_conv_kernel_size, synapse_conv_stride, \n",
    "                        synapse_conv_padding, synapse_conv_trace_const1, \n",
    "                        synapse_conv_trace_const2, \n",
    "                        lif_layer_v_init, lif_layer_v_decay, \n",
    "                        lif_layer_v_threshold, lif_layer_v_reset,\n",
    "                        lif_layer_sg_width,\n",
    "                        synapse_fc_out_features, synapse_fc_trace_const1, synapse_fc_trace_const2,\n",
    "                        tdBN_on,\n",
    "                        BN_on, TIME,\n",
    "                        surrogate,\n",
    "                        BPTT_on,\n",
    "                        OTTT_sWS_on,\n",
    "                        DFA_on,\n",
    "                        drop_rate,\n",
    "                        UDA_on,\n",
    "                        alpha_uda).to(device)\n",
    "        else:\n",
    "            net = MY_SNN_CONV_sstep(cfg, synapse_conv_in_channels, IMAGE_SIZE//initial_pooling,\n",
    "                        synapse_conv_kernel_size, synapse_conv_stride, \n",
    "                        synapse_conv_padding, synapse_conv_trace_const1, \n",
    "                        synapse_conv_trace_const2, \n",
    "                        lif_layer_v_init, lif_layer_v_decay, \n",
    "                        lif_layer_v_threshold, lif_layer_v_reset,\n",
    "                        lif_layer_sg_width,\n",
    "                        synapse_fc_out_features, synapse_fc_trace_const1, synapse_fc_trace_const2,\n",
    "                        tdBN_on,\n",
    "                        BN_on, TIME,\n",
    "                        surrogate,\n",
    "                        BPTT_on,\n",
    "                        OTTT_sWS_on,\n",
    "                        DFA_on,\n",
    "                        drop_rate,\n",
    "                        UDA_on,\n",
    "                        alpha_uda).to(device)\n",
    "    if (nda_net == True):\n",
    "        net = VGG(cfg = cfg, num_classes=10, batch_norm = tdBN_on, in_c = synapse_conv_in_channels, \n",
    "                    lif_layer_v_threshold=lif_layer_v_threshold, lif_layer_v_decay=lif_layer_v_decay, lif_layer_sg_width=lif_layer_sg_width)\n",
    "        net.T = TIME\n",
    "\n",
    "    if ddp_on == False:\n",
    "        net = torch.nn.DataParallel(net) \n",
    "    \n",
    "    if pre_trained == True:\n",
    "        net.load_state_dict(torch.load(pre_trained_path))\n",
    "    \n",
    "    if ddp_on == True:\n",
    "        device = args.gpu\n",
    "        net = net.to(args.gpu)\n",
    "        net = DDP(net, delay_allreduce=True)\n",
    "\n",
    "    net = net.to(device)\n",
    "    if (net_print == True):\n",
    "        if ddp_on == False or torch.distributed.get_rank() == 0:\n",
    "            print(net)    \n",
    "    ####################################################################################################################################\n",
    "    \n",
    "\n",
    "    ## wandb logging ###########################################\n",
    "    if ddp_on == False or torch.distributed.get_rank() == 0:\n",
    "        wandb.watch(net, log=\"all\", log_freq = 10) #gradient, parameter logging해줌\n",
    "    ############################################################\n",
    "\n",
    "    ## param num and memory estimation except BN with MY own calculation some lines above ##########################################\n",
    "    if ddp_on == False or torch.distributed.get_rank() == 0:\n",
    "        real_param_num = sum(p.numel() for p in net.parameters() if p.requires_grad)\n",
    "        if (weight_count_print == True):\n",
    "            for name, param in net.named_parameters():\n",
    "                if param.requires_grad:\n",
    "                    print(f'Layer: {name} | Number of parameters: {param.numel()}')\n",
    "        # Batch norm 있으면 아래 두 개 서로 다를 수 있음.\n",
    "        # assert real_param_num == params_num, f'parameter number is not same. real_param_num: {real_param_num}, params_num: {params_num}'    \n",
    "        print('='*50)\n",
    "        print(f\"My Num of PARAMS: {params_num:,}, system's param_num : {real_param_num:,}\")\n",
    "        memory = params_num / 8 / 1024 / 1024 # MB\n",
    "        precision = 32\n",
    "        memory = memory * precision \n",
    "        print(f\"Memory: {memory:.2f}MiB at {precision}-bit\")\n",
    "        print('='*50)\n",
    "    ##############################################################################################################################\n",
    "\n",
    "\n",
    "\n",
    "    ## criterion ########################################## # loss 구해주는 친구\n",
    "    criterion = nn.CrossEntropyLoss().to(device)\n",
    "    if (OTTT_sWS_on == True):\n",
    "        # criterion = nn.CrossEntropyLoss().to(device)\n",
    "        criterion = lambda y_t, target_t: ((1 - 0.05) * F.cross_entropy(y_t, target_t) + 0.05 * F.mse_loss(y_t, F.one_hot(target_t, CLASS_NUM).float())) / TIME \n",
    "        if which_data == 'DVS_GESTURE':\n",
    "            criterion = lambda y_t, target_t: ((1 - 0.001) * F.cross_entropy(y_t, target_t) + 0.001 * F.mse_loss(y_t, F.one_hot(target_t, CLASS_NUM).float())) / TIME \n",
    "    ####################################################\n",
    "    \n",
    "\n",
    "\n",
    "\n",
    "    ## optimizer, scheduler ########################################################################\n",
    "    if(optimizer_what == 'SGD'):\n",
    "        # optimizer = optim.SGD(net.parameters(), lr=learning_rate, momentum=0.9)\n",
    "        optimizer = optim.SGD(net.parameters(), lr=learning_rate, momentum=0.9, weight_decay=0)\n",
    "    elif(optimizer_what == 'Adam'):\n",
    "        optimizer = torch.optim.Adam(net.parameters(), lr=learning_rate)\n",
    "        # optimizer = torch.optim.Adam(net.parameters(), lr=0.00001)\n",
    "        # optimizer = torch.optim.Adam(net.parameters(), lr=learning_rate/256 * BATCH, weight_decay=1e-4)\n",
    "        # optimizer = optim.Adam(net.parameters(), lr=learning_rate, weight_decay=0, betas=(0.9, 0.999))\n",
    "    elif(optimizer_what == 'RMSprop'):\n",
    "        pass\n",
    "\n",
    "\n",
    "    if (scheduler_name == 'StepLR'):\n",
    "        scheduler = lr_scheduler.StepLR(optimizer, step_size=10, gamma=0.1)\n",
    "    elif (scheduler_name == 'ExponentialLR'):\n",
    "        scheduler = lr_scheduler.ExponentialLR(optimizer, gamma=0.95)\n",
    "    elif (scheduler_name == 'ReduceLROnPlateau'):\n",
    "        scheduler = lr_scheduler.ReduceLROnPlateau(optimizer, mode='min', factor=0.1, patience=10)\n",
    "    elif (scheduler_name == 'CosineAnnealingLR'):\n",
    "        # scheduler = lr_scheduler.CosineAnnealingLR(optimizer, eta_min=0, T_max=50)\n",
    "        scheduler = torch.optim.lr_scheduler.CosineAnnealingLR(optimizer, eta_min=0, T_max=epoch_num)\n",
    "    elif (scheduler_name == 'OneCycleLR'):\n",
    "        scheduler = lr_scheduler.OneCycleLR(optimizer, max_lr=0.1, steps_per_epoch=len(train_loader), epochs=epoch_num)\n",
    "    else:\n",
    "        pass # 'no' scheduler\n",
    "    ## optimizer, scheduler ########################################################################\n",
    "\n",
    "\n",
    "    tr_acc = 0\n",
    "    tr_correct = 0\n",
    "    tr_total = 0\n",
    "    tr_acc_best = 0\n",
    "    tr_epoch_loss_temp = 0\n",
    "    tr_epoch_loss = 0\n",
    "    val_acc_best = 0\n",
    "    val_acc_now = 0\n",
    "    val_loss = 0\n",
    "    elapsed_time_val = 0\n",
    "    no_val_best_growth_count = 0\n",
    "    no_tr_best_growth_count = 0\n",
    "    iter_acc_array = np.array([])\n",
    "    tr_acc_array = np.array([])\n",
    "    val_acc_now_array = np.array([])\n",
    "    DFA_current = DFA_on\n",
    "    DFA_toggle = False\n",
    "    DFA_flag = 1.0 if DFA_current == True else 0.0\n",
    "    DFA_BP_toggle_trial = 0\n",
    "    iter_of_val = False\n",
    "    tr_acc_target = 0\n",
    "    tr_correct_target = 0\n",
    "    tr_total_target = 0\n",
    "    tr_acc_best_target = 0\n",
    "    tr_epoch_loss_temp_target = 0\n",
    "    tr_epoch_loss_target = 0\n",
    "    tr_epoch_loss_temp_domain = 0\n",
    "    tr_epoch_loss_domain = 0\n",
    "    tr_acc_domain = 0\n",
    "    tr_correct_domain = 0\n",
    "    tr_total_domain = 0\n",
    "    #======== EPOCH START ==========================================================================================\n",
    "    for epoch in range(epoch_num):\n",
    "        if (I_wanna_sweep_at_this_epoch == epoch):\n",
    "            net = BP_DFA_SWAP(net, convTrue_fcFalse, single_step, ddp_on, args_gpu)\n",
    "            no_val_best_growth_count = 0\n",
    "            DFA_current = not DFA_current\n",
    "            DFA_toggle = True\n",
    "            DFA_BP_toggle_trial = DFA_BP_toggle_trial + 1\n",
    "        else:\n",
    "            if (e_transport_swap > 0 or e_transport_swap_tr > 0):\n",
    "                assert not (e_transport_swap > 0 and e_transport_swap_tr > 0)\n",
    "                if e_transport_swap > 0 and no_val_best_growth_count == e_transport_swap :\n",
    "                    if DFA_BP_toggle_trial < e_transport_swap_coin:\n",
    "                        net = BP_DFA_SWAP(net, convTrue_fcFalse, single_step, ddp_on, args_gpu)\n",
    "                        no_val_best_growth_count = 0\n",
    "                        DFA_current = not DFA_current\n",
    "                        DFA_toggle = True\n",
    "                        DFA_BP_toggle_trial = DFA_BP_toggle_trial + 1\n",
    "                if e_transport_swap_tr > 0 and no_tr_best_growth_count == e_transport_swap_tr:\n",
    "                    if DFA_BP_toggle_trial < e_transport_swap_coin:\n",
    "                        net = BP_DFA_SWAP(net, convTrue_fcFalse, single_step, ddp_on, args_gpu)\n",
    "                        no_tr_best_growth_count = 0\n",
    "                        DFA_current = not DFA_current\n",
    "                        DFA_toggle = True\n",
    "                        DFA_BP_toggle_trial = DFA_BP_toggle_trial + 1\n",
    "\n",
    "        if ddp_on == False or torch.distributed.get_rank() == 0:\n",
    "            # print('EPOCH', epoch)\n",
    "            pass\n",
    "        epoch_start_time = time.time()\n",
    "\n",
    "        # if (domain_il_epoch>0 and which_data == 'PMNIST'):\n",
    "        #     k = epoch // domain_il_epoch\n",
    "        #     xtrain=data[k]['train']['x']\n",
    "        #     ytrain=data[k]['train']['y']\n",
    "        #     xtest =data[k]['test']['x']\n",
    "        #     ytest =data[k]['test']['y']\n",
    "\n",
    "        ####### iterator : input_loading & tqdm을 통한 progress_bar 생성###################\n",
    "        iterator = enumerate(train_loader, 0)\n",
    "        if (UDA_on == True):\n",
    "            iterator_target = enumerate(train_loader_target, 0)\n",
    "\n",
    "        if ddp_on == False or torch.distributed.get_rank() == 0:  \n",
    "            iterator = tqdm(iterator, total=len(train_loader), desc='train', dynamic_ncols=True, position=0, leave=True)\n",
    "        ##################################################################################   \n",
    "        \n",
    "        #### validation_interval이 batch size보다 작을 시 validation_interval을 batch size로 맞춰줌#############\n",
    "        validation_interval2 = validation_interval\n",
    "        if (validation_interval > len(train_loader)):\n",
    "            validation_interval2 = len(train_loader)\n",
    "        ##################################################################################################\n",
    "\n",
    "\n",
    "        ###### ITERATION START ##########################################################################################################\n",
    "        for i, data in iterator:\n",
    "            if UDA_on == True:\n",
    "                if i % (src_trg_ratio+1) == 1: # target unlabeled fine tuning iteration\n",
    "                    data = next(iterator_target)[1]\n",
    "                    net.UDA_classifier_on = False\n",
    "                else:\n",
    "                    net.UDA_classifier_on = True\n",
    "            iter_one_train_time_start = time.time()\n",
    "            net.train() # train 모드로 바꿔줘야함\n",
    "\n",
    "            ### data loading & semi-pre-processing ################################################################################\n",
    "            if len(data) == 2:\n",
    "                inputs, labels = data\n",
    "                # 처리 로직 작성\n",
    "            elif len(data) == 3:\n",
    "                inputs, labels, x_len = data\n",
    "                # print('x_len',x_len)\n",
    "                # mask = padded_sequence_mask(x_len)\n",
    "                # max_time_step = x_len.max()\n",
    "                # min_time_step = x_len.min()\n",
    "            else:\n",
    "                assert False, 'data length is not 2 or 3'\n",
    "            #######################################################################################################################\n",
    "                \n",
    "            ## batch 크기 ######################################\n",
    "            real_batch = labels.size(0)\n",
    "            ###########################################################\n",
    "\n",
    "            # 차원 전처리\n",
    "            ###########################################################################################################################        \n",
    "            if (which_data == 'n_tidigits'):\n",
    "                inputs = inputs.permute(0, 1, 3, 2, 4)\n",
    "                labels = labels[:, 0, :]\n",
    "                labels = torch.argmax(labels, dim=1)\n",
    "            elif (which_data == 'heidelberg'):\n",
    "                inputs = inputs.view(5, 1000, 1, 700, 1)\n",
    "                print(\"\\n\\n\\n경고!!!! heidelberg 이거 타임스텝이랑 채널 잘 바꿔줘라!!!\\n\\n\\n\\n\")\n",
    "            # print('inputs',inputs.size(),'\\nlabels',labels.size())\n",
    "            # print(labels)\n",
    "                \n",
    "            if (which_data == 'DVS_CIFAR10' or which_data == 'DVS_GESTURE' or which_data == 'DVS_GESTURE_TONIC' or which_data == 'DVS_CIFAR10_2' or which_data == 'NMNIST' or which_data == 'NMNIST_TONIC' or which_data == 'N_CALTECH101' or which_data == 'n_tidigits' or which_data == 'heidelberg'):\n",
    "                inputs = inputs.permute(1, 0, 2, 3, 4)\n",
    "            elif rate_coding == True :\n",
    "                inputs = spikegen.rate(inputs, num_steps=TIME)\n",
    "            else :\n",
    "                inputs = inputs.repeat(TIME, 1, 1, 1, 1)\n",
    "            # inputs: [Time, Batch, Channel, Height, Width]  \n",
    "                \n",
    "            ## initial pooling #######################################################################\n",
    "            if (initial_pooling > 1):\n",
    "                pool = nn.MaxPool2d(kernel_size=2)\n",
    "                num_pooling_layers = int(math.log2(initial_pooling))\n",
    "                # Time, Batch, Channel 차원은 그대로 두고, Height, Width 차원에 대해서만 pooling 적용\n",
    "                shape_temp = inputs.shape\n",
    "                inputs = inputs.reshape(shape_temp[0]*shape_temp[1], shape_temp[2], shape_temp[3], shape_temp[4])\n",
    "                for _ in range(num_pooling_layers):\n",
    "                    inputs = pool(inputs)\n",
    "                inputs = inputs.reshape(shape_temp[0], shape_temp[1], shape_temp[2], shape_temp[3]//initial_pooling, shape_temp[4]//initial_pooling)\n",
    "            ## initial pooling #######################################################################\n",
    "            ## temporal filtering ####################################################################\n",
    "            shape_temp = inputs.shape\n",
    "            if (temporal_filter > 1):\n",
    "                slice_bucket = []\n",
    "                for t_temp in range(TIME):\n",
    "                    start = t_temp * temporal_filter\n",
    "                    end = start + temporal_filter\n",
    "                    slice_concat = torch.movedim(inputs[start:end], 0, 1).reshape(shape_temp[1],shape_temp[2],shape_temp[3],-1)\n",
    "                    slice_bucket.append(slice_concat)\n",
    "                inputs = torch.stack(slice_bucket, dim=0)\n",
    "            ## temporal filtering ####################################################################\n",
    "            ####################################################################################################################### \n",
    "                \n",
    "            \n",
    "            # # dvs 데이터 시각화 코드 (확인 필요할 시 써라)\n",
    "            # ##############################################################################################\n",
    "            # dvs_visualization(inputs, labels, TIME, BATCH, my_seed)\n",
    "            # #####################################################################################################\n",
    "\n",
    "            ## to (device) #######################################\n",
    "            inputs = inputs.to(device)\n",
    "            labels = labels.to(device)\n",
    "            ###########################################################\n",
    "\n",
    "\n",
    "            ## gradient 초기화 #######################################\n",
    "            optimizer.zero_grad()\n",
    "            ###########################################################\n",
    "            \n",
    "            ## DVS gesture에서 other label자리 매꾸기 ###############\n",
    "            if (which_data == 'DVS_GESTURE'):\n",
    "                labels[labels>2] -= 1\n",
    "            #######################################################         \n",
    "                               \n",
    "            if merge_polarities == True:\n",
    "                inputs = inputs[:,:,0,:,:]\n",
    "\n",
    "            if single_step == False:\n",
    "                # net에 넣어줄때는 batch가 젤 앞 차원으로 와야함. # dataparallel때매##############################\n",
    "                # inputs: [Time, Batch, Channel, Height, Width]   \n",
    "                inputs = inputs.permute(1, 0, 2, 3, 4) # net에 넣어줄때는 batch가 젤 앞 차원으로 와야함. # dataparallel때매\n",
    "                # inputs: [Batch, Time, Channel, Height, Width] \n",
    "                #################################################################################################\n",
    "            else:\n",
    "                labels = labels.repeat(TIME, 1)\n",
    "                ## first input도 ottt trace 적용하기 위한 코드 (validation 시에는 필요X) ##########################\n",
    "                if OTTT_input_trace_on == True:\n",
    "                    spike = inputs\n",
    "                    trace = torch.full_like(spike, fill_value = 0.0, dtype = torch.float, requires_grad=False)\n",
    "                    inputs = []\n",
    "                    for t in range(TIME):\n",
    "                        trace[t] = trace[t-1]*synapse_conv_trace_const2 + spike[t]*synapse_conv_trace_const1\n",
    "                        inputs += [[spike[t], trace[t]]]\n",
    "                ##################################################################################################\n",
    "\n",
    "\n",
    "            if single_step == False:\n",
    "                ### input --> net --> output #####################################################\n",
    "                outputs = net(inputs)\n",
    "                ##################################################################################\n",
    "                ## loss, backward ##########################################\n",
    "                iter_loss = criterion(outputs, labels)\n",
    "                iter_loss.backward()\n",
    "                ############################################################\n",
    "                ## weight 업데이트!! ##################################\n",
    "                optimizer.step()\n",
    "                ################################################################\n",
    "            else:\n",
    "                if UDA_on == False:\n",
    "                    outputs_all = []\n",
    "                    iter_loss = 0.0\n",
    "                    for t in range(TIME):\n",
    "                        ### input[t] --> net --> output_one_time #########################################\n",
    "                        outputs_one_time = net(inputs[t])\n",
    "                        ##################################################################################\n",
    "                        one_time_loss = criterion(outputs_one_time, labels[t].contiguous())\n",
    "                        one_time_loss.backward() # one_time backward\n",
    "                        iter_loss += one_time_loss.data\n",
    "                        outputs_all.append(outputs_one_time.detach())\n",
    "                    optimizer.step() # full step time update\n",
    "                    outputs_all = torch.stack(outputs_all, dim=1)\n",
    "                    outputs = outputs_all.mean(1) # ottt꺼 쓸때\n",
    "                    labels = labels[0]\n",
    "                    iter_loss /= TIME\n",
    "                else:\n",
    "                    ## 근데 생각해보니까 걍 target에서 classifier만 backward 안 해주면 되는 거 아니냐\n",
    "\n",
    "                    iter_loss_domain = 0.0\n",
    "                    outputs_all = []\n",
    "                    outputs_all_domain = []\n",
    "                    iter_loss = 0.0\n",
    "\n",
    "                    if net.UDA_classifier_on == True:\n",
    "                        domain_labels = torch.full((TIME, real_batch), 1).to(device)\n",
    "                    else:\n",
    "                        domain_labels = torch.full((TIME, real_batch), 0).to(device)\n",
    "                        \n",
    "                    for t in range(TIME):\n",
    "                        ### input[t] --> net --> output_one_time #########################################\n",
    "                        outputs_one_time, UDA_adpater_out = net(inputs[t])\n",
    "                        one_time_loss_classifier = criterion(outputs_one_time, labels[t].contiguous())\n",
    "                        one_time_loss_domain = criterion(UDA_adpater_out, domain_labels[t].contiguous())\n",
    "                        one_time_loss_backward = one_time_loss_domain * adapter_loss_weight\n",
    "                        if net.UDA_classifier_on == True:\n",
    "                            one_time_loss_backward += one_time_loss_classifier\n",
    "                        one_time_loss_backward.backward() # one_time backward\n",
    "                        iter_loss += one_time_loss_classifier.data\n",
    "                        iter_loss_domain += one_time_loss_domain.data\n",
    "                        outputs_all.append(outputs_one_time.detach())\n",
    "                        outputs_all_domain.append(UDA_adpater_out.detach())\n",
    "                        ##################################################################################\n",
    "                    optimizer.step() # full step time update\n",
    "                    outputs_all = torch.stack(outputs_all, dim=1)\n",
    "                    outputs = outputs_all.mean(1) # ottt꺼 쓸때\n",
    "                    labels = labels[0]\n",
    "                    outputs_all_domain = torch.stack(outputs_all_domain, dim=1)\n",
    "                    outputs_domain = outputs_all_domain.mean(1) # ottt꺼 쓸때\n",
    "                    domain_labels = domain_labels[0]\n",
    "                    iter_loss /= TIME\n",
    "                    iter_loss_domain /= TIME\n",
    "\n",
    "            if UDA_on == False:\n",
    "                tr_epoch_loss_temp += iter_loss.data/len(train_loader)\n",
    "            else: \n",
    "                if (net.UDA_classifier_on == True):\n",
    "                    tr_epoch_loss_temp += iter_loss.data/(len(train_loader)*src_trg_ratio/(src_trg_ratio+1))\n",
    "                else:\n",
    "                    tr_epoch_loss_temp_target += iter_loss.data/(len(train_loader)*1/(src_trg_ratio+1))\n",
    "                tr_epoch_loss_temp_domain += iter_loss.data/len(train_loader)\n",
    "\n",
    "            ## net 그림 출력해보기 #################################################################\n",
    "            # print('시각화')\n",
    "            # make_dot(outputs, params=dict(list(net.named_parameters()))).render(\"net_torchviz\", format=\"png\")\n",
    "            # return 0\n",
    "            ##################################################################################\n",
    "\n",
    "            #### batch 어긋남 방지 ###############################################\n",
    "            assert real_batch == outputs.size(0), f'batch size is not same. real_batch: {real_batch}, outputs.size(0): {outputs.size(0)}'\n",
    "            #######################################################################\n",
    "            \n",
    "\n",
    "            if UDA_on == False:\n",
    "                ####### training accruacy save for print ###############################\n",
    "                _, predicted = torch.max(outputs.data, 1)\n",
    "                total = real_batch\n",
    "                correct = (predicted == labels).sum().item()\n",
    "                iter_acc = correct / total\n",
    "                tr_total += total\n",
    "                tr_correct += correct\n",
    "                if i % verbose_interval == verbose_interval-1:\n",
    "                    if ddp_on == False or torch.distributed.get_rank() == 0:\n",
    "                        print(f'{epoch}-{i} training acc: {100 * iter_acc:.2f}%, lr={[f\"{lr}\" for lr in (param_group[\"lr\"] for param_group in optimizer.param_groups)]}, val_acc: {100 * val_acc_now:.2f}%')\n",
    "                iter_acc_string = f'epoch-{epoch:<3} iter_acc:{100 * iter_acc:7.2f}%, lr={[f\"{lr:9.7f}\" for lr in (param_group[\"lr\"] for param_group in optimizer.param_groups)]}'\n",
    "                iter_acc_string2 = f'epoch-{epoch:<3} lr={[f\"{lr:9.7f}\" for lr in (param_group[\"lr\"] for param_group in optimizer.param_groups)]}'\n",
    "                ################################################################\n",
    "            else:\n",
    "                ####### training accruacy save for print ###############################\n",
    "                _, predicted = torch.max(outputs.data, 1)\n",
    "                _, predicted_domain = torch.max(outputs_domain.data, 1)\n",
    "                total = real_batch\n",
    "                correct = (predicted == labels).sum().item()\n",
    "                correct_domain = (predicted_domain == domain_labels).sum().item()\n",
    "                iter_acc = correct / total\n",
    "                iter_acc_domain = correct_domain / total\n",
    "                if (net.UDA_classifier_on == True):\n",
    "                    tr_total += total\n",
    "                    tr_correct += correct\n",
    "                else:\n",
    "                    tr_total_target += total\n",
    "                    tr_correct_target += correct\n",
    "                tr_correct_domain += correct_domain\n",
    "                tr_total_domain += total\n",
    "\n",
    "                if i % verbose_interval == verbose_interval-1:\n",
    "                    if ddp_on == False or torch.distributed.get_rank() == 0:\n",
    "                        print(f'{epoch}-{i} training acc: {100 * iter_acc:.2f}%, lr={[f\"{lr}\" for lr in (param_group[\"lr\"] for param_group in optimizer.param_groups)]}, val_acc: {100 * val_acc_now:.2f}%')\n",
    "                iter_acc_string = f'epoch-{epoch:<3} iter_acc:{100 * iter_acc:7.2f}%, lr={[f\"{lr:9.7f}\" for lr in (param_group[\"lr\"] for param_group in optimizer.param_groups)]}'\n",
    "                iter_acc_string2 = f'epoch-{epoch:<3} lr={[f\"{lr:9.7f}\" for lr in (param_group[\"lr\"] for param_group in optimizer.param_groups)]}'\n",
    "                ################################################################\n",
    "\n",
    "            \n",
    "\n",
    "\n",
    "\n",
    "\n",
    "            iter_one_train_time_end = time.time()\n",
    "            elapsed_time = iter_one_train_time_end - iter_one_train_time_start  # 실행 시간 계산\n",
    "\n",
    "            if (i % verbose_interval == verbose_interval-1):\n",
    "                if ddp_on == False or torch.distributed.get_rank() == 0:\n",
    "                    print(f\"iter_one_train_time: {elapsed_time} seconds, last one_val_time: {elapsed_time_val} seconds\\n\")\n",
    "            \n",
    "            ##### validation ##################################################################################################################################\n",
    "            if i % validation_interval2 == validation_interval2-1:\n",
    "                iter_one_val_time_start = time.time()\n",
    "                tr_acc = tr_correct/tr_total\n",
    "                tr_correct = 0\n",
    "                tr_total = 0\n",
    "                if UDA_on == True:\n",
    "                    tr_acc_target = tr_correct_target/tr_total_target\n",
    "                    tr_correct_target = 0\n",
    "                    tr_total_target = 0\n",
    "                    tr_acc_domain = tr_correct_domain/tr_total_domain\n",
    "                    tr_correct_domain = 0\n",
    "                    tr_total_domain = 0\n",
    "\n",
    "                domain_index = 0\n",
    "                val_loss_set = []\n",
    "                val_acc_now_set = []\n",
    "                while True:\n",
    "                    val_loss = 0\n",
    "                    correct_val = 0\n",
    "                    total_val = 0\n",
    "                    test_loader = test_loader_domain_set[domain_index]\n",
    "                    domain_index = domain_index + 1\n",
    "\n",
    "                    with torch.no_grad():\n",
    "                        net.eval() # eval 모드로 바꿔줘야함 \n",
    "                        for data_val in test_loader:\n",
    "                            ## data_val loading & semi-pre-processing ##########################################################\n",
    "                            if len(data_val) == 2:\n",
    "                                inputs_val, labels_val = data_val\n",
    "                                # 처리 로직 작성\n",
    "                            elif len(data_val) == 3:\n",
    "                                inputs_val, labels_val, x_len = data_val\n",
    "                                # print('x_len',x_len)\n",
    "                                # mask = padded_sequence_mask(x_len)\n",
    "                                # max_time_step = x_len.max()\n",
    "                                # min_time_step = x_len.min()\n",
    "                                # B, T, *spatial_dims = inputs_val.shape\n",
    "                            else:\n",
    "                                assert False, 'data_val length is not 2 or 3'\n",
    "\n",
    "                            if (which_data == 'DVS_CIFAR10' or which_data == 'DVS_GESTURE' or which_data == 'DVS_GESTURE_TONIC' or which_data == 'DVS_CIFAR10_2' or which_data == 'NMNIST' or which_data == 'NMNIST_TONIC' or which_data == 'N_CALTECH101' or which_data == 'n_tidigits' or which_data == 'heidelberg'):\n",
    "                                inputs_val = inputs_val.permute(1, 0, 2, 3, 4)\n",
    "                            elif rate_coding == True :\n",
    "                                inputs_val = spikegen.rate(inputs_val, num_steps=TIME)\n",
    "                            else :\n",
    "                                inputs_val = inputs_val.repeat(TIME, 1, 1, 1, 1)\n",
    "                            # inputs_val: [Time, Batch, Channel, Height, Width]  \n",
    "                            ###################################################################################################\n",
    "                            \n",
    "                            ## initial pooling #######################################################################\n",
    "                            if (initial_pooling > 1):\n",
    "                                pool = nn.MaxPool2d(kernel_size=2)\n",
    "                                num_pooling_layers = int(math.log2(initial_pooling))\n",
    "                                # Time, Batch, Channel 차원은 그대로 두고, Height, Width 차원에 대해서만 pooling 적용\n",
    "                                shape_temp = inputs_val.shape\n",
    "                                inputs_val = inputs_val.reshape(shape_temp[0]*shape_temp[1], shape_temp[2], shape_temp[3], shape_temp[4])\n",
    "                                for _ in range(num_pooling_layers):\n",
    "                                    inputs_val = pool(inputs_val)\n",
    "                                inputs_val = inputs_val.reshape(shape_temp[0], shape_temp[1], shape_temp[2], shape_temp[3]//initial_pooling, shape_temp[4]//initial_pooling)\n",
    "                            ## initial pooling #######################################################################\n",
    "\n",
    "                            ## temporal filtering ####################################################################\n",
    "                            shape_temp = inputs_val.shape\n",
    "                            if (temporal_filter > 1):\n",
    "                                slice_bucket = []\n",
    "                                for t_temp in range(TIME):\n",
    "                                    start = t_temp * temporal_filter\n",
    "                                    end = start + temporal_filter\n",
    "                                    slice_concat = torch.movedim(inputs_val[start:end], 0, 1).reshape(shape_temp[1],shape_temp[2],shape_temp[3],-1)\n",
    "                                    slice_bucket.append(slice_concat)\n",
    "                                inputs_val = torch.stack(slice_bucket, dim=0)\n",
    "                            ## temporal filtering ####################################################################\n",
    "                            \n",
    "                            inputs_val = inputs_val.to(device)\n",
    "                            labels_val = labels_val.to(device)\n",
    "                            real_batch = labels_val.size(0)\n",
    "                            \n",
    "                            ## DVS gesture에서 other label자리 매꾸기 ###############\n",
    "                            if (which_data == 'DVS_GESTURE'):\n",
    "                                labels_val[labels_val>2] -= 1\n",
    "                            #######################################################\n",
    "                            \n",
    "                            if merge_polarities == True:\n",
    "                                inputs_val = inputs_val[:,:,0,:,:]\n",
    "\n",
    "                            ## network 연산 시작 ############################################################################################################\n",
    "                            if single_step == False:\n",
    "                                outputs = net(inputs_val.permute(1, 0, 2, 3, 4)) #inputs_val: [Batch, Time, Channel, Height, Width]  \n",
    "                                val_loss_val += criterion(outputs, labels_val)/len(test_loader)\n",
    "                            else:\n",
    "                                outputs_all = []\n",
    "                                if UDA_on == True:\n",
    "                                    net.UDA_classifier_on = True\n",
    "                                for t in range(TIME):\n",
    "                                    outputs = net(inputs_val[t])\n",
    "                                    if UDA_on == True:\n",
    "                                        outputs = outputs[0] # classifier의 output만 사용.\n",
    "                                    val_loss_temp = criterion(outputs, labels_val)\n",
    "                                    outputs_all.append(outputs.detach())\n",
    "                                    val_loss += (val_loss_temp.data/TIME)/len(test_loader)\n",
    "                                outputs_all = torch.stack(outputs_all, dim=1)\n",
    "                                outputs = outputs_all.mean(1)\n",
    "                            val_loss_set.append(val_loss)\n",
    "                            #################################################################################################################################\n",
    "\n",
    "                            _, predicted = torch.max(outputs.data, 1)\n",
    "                            total_val += real_batch\n",
    "                            assert real_batch == outputs.size(0), f'batch size is not same. real_batch: {real_batch}, outputs.size(0): {outputs.size(0)}'\n",
    "                            correct_val += (predicted == labels_val).sum().item()\n",
    "\n",
    "                        val_acc_now = correct_val / total_val\n",
    "                        # print(f'{epoch}-{i} validation acc: {100 * val_acc_now:.2f}%, lr={[f\"{lr:.10f}\" for lr in (param_group[\"lr\"] for param_group in optimizer.param_groups)]}')\n",
    "                        val_acc_now_set.append(val_acc_now)\n",
    "\n",
    "                    if domain_index == len(dvs_duration_domain) + 1:\n",
    "                        break\n",
    "\n",
    "                val_loss = val_loss_set[0]\n",
    "                val_acc_now = val_acc_now_set[0]\n",
    "\n",
    "                iter_one_val_time_end = time.time()\n",
    "                elapsed_time_val = iter_one_val_time_end - iter_one_val_time_start  # 실행 시간 계산\n",
    "                # print(f\"iter_one_val_time: {elapsed_time_val} seconds\")\n",
    "\n",
    "                # network save\n",
    "                if val_acc_best < val_acc_now:\n",
    "                    val_acc_best = val_acc_now\n",
    "                    if ddp_on == False or torch.distributed.get_rank() == 0:\n",
    "                        # wandb 키면 state_dict아닌거는 저장 안됨\n",
    "                        torch.save(net.state_dict(), f\"net_save/save_now_net_weights_{unique_name}.pth\")\n",
    "                        # torch.save(net, f\"net_save/save_now_net_{unique_name}.pth\")\n",
    "                        # torch.save(net.module.state_dict(), f\"net_save/save_now_net_weights2_{unique_name}.pth\")\n",
    "                        # torch.save(net.module, f\"net_save/save_now_net2_{unique_name}.pth\")\n",
    "                    no_val_best_growth_count = 0\n",
    "                else:\n",
    "                    no_val_best_growth_count = no_val_best_growth_count + 1\n",
    "\n",
    "                if tr_acc_best < tr_acc:\n",
    "                    tr_acc_best = tr_acc\n",
    "                    no_tr_best_growth_count = 0\n",
    "                else:\n",
    "                    no_tr_best_growth_count = no_tr_best_growth_count + 1\n",
    "\n",
    "                tr_epoch_loss = tr_epoch_loss_temp\n",
    "                tr_epoch_loss_temp = 0\n",
    "                tr_epoch_loss_target = tr_epoch_loss_temp_target \n",
    "                tr_epoch_loss_temp_target = 0\n",
    "                tr_epoch_loss_domain = tr_epoch_loss_temp_domain\n",
    "                tr_epoch_loss_temp_domain = 0\n",
    "                if (UDA_on == True):\n",
    "                    print(f\"Domain loss,acc: {tr_epoch_loss_domain:.6f}, {100 * tr_acc_domain:.2f}% Target domain: tr_loss-{tr_epoch_loss_target:.6f}, tr_acc-{100 * tr_acc_target:.2f}%\")\n",
    "\n",
    "                if DFA_toggle == True:\n",
    "                    DFA_flag = 1.0 - DFA_flag\n",
    "                    DFA_toggle = False\n",
    "\n",
    "                iter_of_val = True\n",
    "            ####################################################################################################################################################\n",
    "            \n",
    "            ## progress bar update ############################################################################################################\n",
    "            if ddp_on == False or torch.distributed.get_rank() == 0:\n",
    "                if iter_of_val == False:\n",
    "                    iterator.set_description(f\"{iter_acc_string}, iter_loss:{iter_loss:10.6f}, val_best:{100 * val_acc_best:7.2f}%\")  \n",
    "                else:\n",
    "                    iterator.set_description(f\"{iter_acc_string2}, tr/val_loss:{tr_epoch_loss:10.6f}/{val_loss:10.6f}, tr:{100 * tr_acc:7.2f}%, val:{100 * val_acc_now:7.2f}%, val_best:{100 * val_acc_best:7.2f}%\")  \n",
    "\n",
    "                    if len(dvs_duration_domain) > 0:\n",
    "                        dvs_duration_full = [(dvs_duration, dvs_clipping, denoise_on, TIME)] + dvs_duration_domain\n",
    "                        print(\" | \".join(f\"{dvs_duration_full[d_count][0]:,}c{dvs_duration_full[d_count][1]}d{dvs_duration_full[d_count][2]}t{dvs_duration_full[d_count][3]}:{val_acc_now_set[d_count]*100:.2f}%\" for d_count in range(len(val_acc_now_set))))\n",
    "                    iter_of_val = False\n",
    "            \n",
    "            ####################################################################################################################################\n",
    "            \n",
    "            ## wandb logging ############################################################################################################\n",
    "            if ddp_on == False or torch.distributed.get_rank() == 0:\n",
    "                wandb.log({\"iter_acc\": iter_acc})\n",
    "                wandb.log({\"tr_acc\": tr_acc})\n",
    "                wandb.log({\"val_acc_now\": val_acc_now})\n",
    "                wandb.log({\"val_acc_best\": val_acc_best})\n",
    "                wandb.log({\"summary_val_acc\": val_acc_now})\n",
    "                wandb.log({\"epoch\": epoch})\n",
    "                wandb.log({\"DFA_flag\": DFA_flag}) # DFA mode 바뀌자 마자 바뀌는 게 아니고 validation 한번 했을 때 바뀜.\n",
    "                wandb.log({\"val_loss\": val_loss}) \n",
    "                wandb.log({\"tr_epoch_loss\": tr_epoch_loss}) \n",
    "            ####################################################################################################################################\n",
    "            \n",
    "            \n",
    "            ## accuray 로컬에 저장 하기 위한 코드 #####################################################################################\n",
    "            iter_acc_array = np.append(iter_acc_array, iter_acc)\n",
    "            tr_acc_array = np.append(tr_acc_array, tr_acc)\n",
    "            val_acc_now_array = np.append(val_acc_now_array, val_acc_now)\n",
    "            base_name = f'{current_time}'\n",
    "            ####################################################################################################################\n",
    "            \n",
    "            iter_acc_file_name_time = f'result_save/{base_name}_iter_acc_array_{unique_name}.npy'\n",
    "            tr_acc_file_name_time = f'result_save/{base_name}_tr_acc_array_{unique_name}.npy'\n",
    "            val_acc_file_name_time = f'result_save/{base_name}_val_acc_now_array_{unique_name}.npy'\n",
    "            hyperparameters_file_name_time = f'result_save/{base_name}_hyperparameters_{unique_name}.json'\n",
    "\n",
    "            hyperparameters['current epoch'] = epoch\n",
    "\n",
    "            ### accuracy 세이브: 덮어쓰기 하기 싫으면 주석 풀어서 사용 (시간마다 새로 쓰기) 비추천 ########################\n",
    "            # if ddp_on == False or torch.distributed.get_rank() == 0:\n",
    "            #     np.save(iter_acc_file_name_time, iter_acc_array)\n",
    "\n",
    "\n",
    "            #     np.save(tr_acc_file_name_time, iter_acc_array)\n",
    "            #     np.save(val_acc_file_name_time, val_acc_now_array)\n",
    "            #     with open(hyperparameters_file_name_time, 'w') as f:\n",
    "            #         json.dump(hyperparameters, f, indent=4)\n",
    "            #########################################################################################################\n",
    "\n",
    "            ## accuracy 세이브 ###########################################################################################\n",
    "            if ddp_on == False or torch.distributed.get_rank() == 0:\n",
    "                np.save(f'result_save/iter_acc_array_{unique_name}.npy', iter_acc_array)\n",
    "                np.save(f'result_save/tr_acc_array_{unique_name}.npy', tr_acc_array)\n",
    "                np.save(f'result_save/val_acc_now_array_{unique_name}.npy', val_acc_now_array)\n",
    "                with open(f'result_save/hyperparameters_{unique_name}.json', 'w') as f:\n",
    "                    json.dump(hyperparameters, f, indent=4)\n",
    "            ##########################################################################################################\n",
    "        ###### ITERATION END ##########################################################################################################\n",
    "                \n",
    "\n",
    "        ## scheduler update #############################################################################\n",
    "        if (scheduler_name != 'no'):\n",
    "            if (scheduler_name == 'ReduceLROnPlateau'):\n",
    "                scheduler.step(val_loss)\n",
    "            else:\n",
    "                scheduler.step()\n",
    "        #################################################################################################\n",
    "        \n",
    "        # 실행 시간 계산\n",
    "        epoch_time_end = time.time()\n",
    "        # print(f\"epoch_time: {epoch_time_end - epoch_start_time} seconds\\n\") \n",
    "    #======== EPOCH END ==========================================================================================\n"
   ]
  },
  {
   "cell_type": "code",
   "execution_count": 6,
   "metadata": {},
   "outputs": [
    {
     "name": "stderr",
     "output_type": "stream",
     "text": [
      "Failed to detect the name of this notebook, you can set it manually with the WANDB_NOTEBOOK_NAME environment variable to enable code saving.\n",
      "\u001b[34m\u001b[1mwandb\u001b[0m: Currently logged in as: \u001b[33mbhkim003\u001b[0m (\u001b[33mbhkim003-seoul-national-university\u001b[0m). Use \u001b[1m`wandb login --relogin`\u001b[0m to force relogin\n"
     ]
    },
    {
     "data": {
      "text/html": [
       "wandb version 0.18.3 is available!  To upgrade, please run:\n",
       " $ pip install wandb --upgrade"
      ],
      "text/plain": [
       "<IPython.core.display.HTML object>"
      ]
     },
     "metadata": {},
     "output_type": "display_data"
    },
    {
     "data": {
      "text/html": [
       "Tracking run with wandb version 0.17.5"
      ],
      "text/plain": [
       "<IPython.core.display.HTML object>"
      ]
     },
     "metadata": {},
     "output_type": "display_data"
    },
    {
     "data": {
      "text/html": [
       "Run data is saved locally in <code>/nfs/home/bhkim003/github_folder/ByeonghyeonKim/my_snn/wandb/run-20241013_145030-jjx9tsxn</code>"
      ],
      "text/plain": [
       "<IPython.core.display.HTML object>"
      ]
     },
     "metadata": {},
     "output_type": "display_data"
    },
    {
     "data": {
      "text/html": [
       "Syncing run <strong><a href='https://wandb.ai/bhkim003-seoul-national-university/my_snn%20main/runs/jjx9tsxn' target=\"_blank\">usual-serenity-6185</a></strong> to <a href='https://wandb.ai/bhkim003-seoul-national-university/my_snn%20main' target=\"_blank\">Weights & Biases</a> (<a href='https://wandb.me/run' target=\"_blank\">docs</a>)<br/>"
      ],
      "text/plain": [
       "<IPython.core.display.HTML object>"
      ]
     },
     "metadata": {},
     "output_type": "display_data"
    },
    {
     "data": {
      "text/html": [
       " View project at <a href='https://wandb.ai/bhkim003-seoul-national-university/my_snn%20main' target=\"_blank\">https://wandb.ai/bhkim003-seoul-national-university/my_snn%20main</a>"
      ],
      "text/plain": [
       "<IPython.core.display.HTML object>"
      ]
     },
     "metadata": {},
     "output_type": "display_data"
    },
    {
     "data": {
      "text/html": [
       " View run at <a href='https://wandb.ai/bhkim003-seoul-national-university/my_snn%20main/runs/jjx9tsxn' target=\"_blank\">https://wandb.ai/bhkim003-seoul-national-university/my_snn%20main/runs/jjx9tsxn</a>"
      ],
      "text/plain": [
       "<IPython.core.display.HTML object>"
      ]
     },
     "metadata": {},
     "output_type": "display_data"
    },
    {
     "name": "stdout",
     "output_type": "stream",
     "text": [
      "dataset_hash = 19e3c0c6fea6cf048ee3898052ffd789\n",
      "cache path exists\n",
      "\n",
      "we will exclude the 'other' class. dvsgesture 10 classes' indices exist. \n",
      "\n",
      "Target domain에 대한 validation set이 이 target domain의 test set이다.\n",
      "dataset_hash = ae68f259f100b6cda93ea9e781befe73\n",
      "cache path exists\n",
      "\n",
      "we will exclude the 'other' class. dvsgesture 10 classes' indices exist. \n",
      "\n",
      "dataset_hash = ae68f259f100b6cda93ea9e781befe73\n",
      "cache path exists\n",
      "\n",
      "we will exclude the 'other' class. dvsgesture 10 classes' indices exist. \n",
      "\n",
      "In UDA mode, No parameter number calculation yet.\n",
      "\n",
      "device ==> cuda\n",
      "\n",
      "DataParallel(\n",
      "  (module): MY_SNN_FC_sstep(\n",
      "    (UDA_feature_layers): MY_Sequential(\n",
      "      (0): DimChanger_for_FC_sstep()\n",
      "      (1): SYNAPSE_FC_trace_sstep()\n",
      "      (2): LIF_layer_trace_sstep()\n",
      "    )\n",
      "    (UDA_classifier_layers): MY_Sequential(\n",
      "      (0): SYNAPSE_FC_trace_sstep()\n",
      "      (1): LIF_layer_trace_sstep()\n",
      "      (2): SYNAPSE_FC_trace_sstep()\n",
      "    )\n",
      "    (UDA_adapter_layers): MY_Sequential(\n",
      "      (0): Gradient_Reversal_Layer()\n",
      "      (1): SYNAPSE_FC_trace_sstep()\n",
      "      (2): LIF_layer_trace_sstep()\n",
      "      (3): SYNAPSE_FC_trace_sstep()\n",
      "    )\n",
      "  )\n",
      ")\n",
      "==================================================\n",
      "My Num of PARAMS: 0, system's param_num : 595,012\n",
      "Memory: 0.00MiB at 32-bit\n",
      "==================================================\n"
     ]
    },
    {
     "name": "stderr",
     "output_type": "stream",
     "text": [
      "epoch-0   lr=['0.0001000'], tr/val_loss:  2.302640/  2.298963, tr:   9.07%, val:  16.67%, val_best:  16.67%: 100%|██████████| 62/62 [00:26<00:00,  2.30it/s]"
     ]
    },
    {
     "name": "stdout",
     "output_type": "stream",
     "text": [
      "Domain loss,acc: 2.302747, 53.23% Target domain: tr_loss-2.302853, tr_acc-11.90%\n",
      "25,000c2dTruet10:16.67% | 25,000c3dFalset10:12.50%\n"
     ]
    },
    {
     "name": "stderr",
     "output_type": "stream",
     "text": [
      "\n",
      "epoch-1   lr=['0.0001000'], tr/val_loss:  2.285810/  2.279692, tr:  18.35%, val:  21.25%, val_best:  21.25%: 100%|██████████| 62/62 [00:25<00:00,  2.47it/s]"
     ]
    },
    {
     "name": "stdout",
     "output_type": "stream",
     "text": [
      "Domain loss,acc: 2.289371, 54.33% Target domain: tr_loss-2.292933, tr_acc-16.94%\n",
      "25,000c2dTruet10:21.25% | 25,000c3dFalset10:18.75%\n"
     ]
    },
    {
     "name": "stderr",
     "output_type": "stream",
     "text": [
      "\n",
      "epoch-2   lr=['0.0001000'], tr/val_loss:  2.240911/  2.240026, tr:  18.75%, val:  22.92%, val_best:  22.92%: 100%|██████████| 62/62 [00:25<00:00,  2.39it/s]"
     ]
    },
    {
     "name": "stdout",
     "output_type": "stream",
     "text": [
      "Domain loss,acc: 2.255291, 55.44% Target domain: tr_loss-2.269672, tr_acc-16.73%\n",
      "25,000c2dTruet10:22.92% | 25,000c3dFalset10:17.92%\n"
     ]
    },
    {
     "name": "stderr",
     "output_type": "stream",
     "text": [
      "\n",
      "epoch-3   lr=['0.0001000'], tr/val_loss:  2.201989/  2.201645, tr:  17.34%, val:  21.67%, val_best:  22.92%: 100%|██████████| 62/62 [00:25<00:00,  2.42it/s]"
     ]
    },
    {
     "name": "stdout",
     "output_type": "stream",
     "text": [
      "Domain loss,acc: 2.213023, 55.34% Target domain: tr_loss-2.224056, tr_acc-18.75%\n",
      "25,000c2dTruet10:21.67% | 25,000c3dFalset10:20.00%\n"
     ]
    },
    {
     "name": "stderr",
     "output_type": "stream",
     "text": [
      "\n",
      "epoch-4   lr=['0.0001000'], tr/val_loss:  2.160107/  2.153937, tr:  23.19%, val:  26.25%, val_best:  26.25%: 100%|██████████| 62/62 [00:25<00:00,  2.47it/s]"
     ]
    },
    {
     "name": "stdout",
     "output_type": "stream",
     "text": [
      "Domain loss,acc: 2.162891, 57.26% Target domain: tr_loss-2.165676, tr_acc-21.98%\n",
      "25,000c2dTruet10:26.25% | 25,000c3dFalset10:26.67%\n"
     ]
    },
    {
     "name": "stderr",
     "output_type": "stream",
     "text": [
      "\n",
      "epoch-5   lr=['0.0001000'], tr/val_loss:  2.096754/  2.087871, tr:  29.03%, val:  36.25%, val_best:  36.25%: 100%|██████████| 62/62 [00:25<00:00,  2.41it/s]"
     ]
    },
    {
     "name": "stdout",
     "output_type": "stream",
     "text": [
      "Domain loss,acc: 2.092597, 58.97% Target domain: tr_loss-2.088439, tr_acc-31.65%\n",
      "25,000c2dTruet10:36.25% | 25,000c3dFalset10:32.92%\n"
     ]
    },
    {
     "name": "stderr",
     "output_type": "stream",
     "text": [
      "\n",
      "epoch-6   lr=['0.0001000'], tr/val_loss:  2.020927/  2.015019, tr:  38.71%, val:  41.25%, val_best:  41.25%: 100%|██████████| 62/62 [00:25<00:00,  2.44it/s]"
     ]
    },
    {
     "name": "stdout",
     "output_type": "stream",
     "text": [
      "Domain loss,acc: 2.023290, 63.21% Target domain: tr_loss-2.025654, tr_acc-37.70%\n",
      "25,000c2dTruet10:41.25% | 25,000c3dFalset10:35.42%\n"
     ]
    },
    {
     "name": "stderr",
     "output_type": "stream",
     "text": [
      "\n",
      "epoch-7   lr=['0.0001000'], tr/val_loss:  1.896573/  1.932389, tr:  46.17%, val:  42.50%, val_best:  42.50%: 100%|██████████| 62/62 [00:25<00:00,  2.43it/s]"
     ]
    },
    {
     "name": "stdout",
     "output_type": "stream",
     "text": [
      "Domain loss,acc: 1.915242, 62.70% Target domain: tr_loss-1.933911, tr_acc-40.73%\n",
      "25,000c2dTruet10:42.50% | 25,000c3dFalset10:38.75%\n"
     ]
    },
    {
     "name": "stderr",
     "output_type": "stream",
     "text": [
      "\n",
      "epoch-8   lr=['0.0001000'], tr/val_loss:  1.800357/  1.865177, tr:  47.98%, val:  45.42%, val_best:  45.42%: 100%|██████████| 62/62 [00:25<00:00,  2.43it/s]"
     ]
    },
    {
     "name": "stdout",
     "output_type": "stream",
     "text": [
      "Domain loss,acc: 1.837695, 62.60% Target domain: tr_loss-1.875034, tr_acc-41.94%\n",
      "25,000c2dTruet10:45.42% | 25,000c3dFalset10:40.00%\n"
     ]
    },
    {
     "name": "stderr",
     "output_type": "stream",
     "text": [
      "\n",
      "epoch-9   lr=['0.0001000'], tr/val_loss:  1.714760/  1.812690, tr:  52.22%, val:  46.67%, val_best:  46.67%: 100%|██████████| 62/62 [00:25<00:00,  2.45it/s]"
     ]
    },
    {
     "name": "stdout",
     "output_type": "stream",
     "text": [
      "Domain loss,acc: 1.760009, 59.78% Target domain: tr_loss-1.805256, tr_acc-48.39%\n",
      "25,000c2dTruet10:46.67% | 25,000c3dFalset10:40.83%\n"
     ]
    },
    {
     "name": "stderr",
     "output_type": "stream",
     "text": [
      "\n",
      "epoch-10  lr=['0.0001000'], tr/val_loss:  1.630838/  1.753305, tr:  54.64%, val:  50.00%, val_best:  50.00%: 100%|██████████| 62/62 [00:25<00:00,  2.43it/s]"
     ]
    },
    {
     "name": "stdout",
     "output_type": "stream",
     "text": [
      "Domain loss,acc: 1.661139, 61.90% Target domain: tr_loss-1.691439, tr_acc-50.20%\n",
      "25,000c2dTruet10:50.00% | 25,000c3dFalset10:44.58%\n"
     ]
    },
    {
     "name": "stderr",
     "output_type": "stream",
     "text": [
      "\n",
      "epoch-11  lr=['0.0001000'], tr/val_loss:  1.572597/  1.688899, tr:  61.09%, val:  53.75%, val_best:  53.75%: 100%|██████████| 62/62 [00:25<00:00,  2.43it/s]"
     ]
    },
    {
     "name": "stdout",
     "output_type": "stream",
     "text": [
      "Domain loss,acc: 1.617680, 63.91% Target domain: tr_loss-1.662763, tr_acc-54.84%\n",
      "25,000c2dTruet10:53.75% | 25,000c3dFalset10:47.92%\n"
     ]
    },
    {
     "name": "stderr",
     "output_type": "stream",
     "text": [
      "\n",
      "epoch-12  lr=['0.0001000'], tr/val_loss:  1.492861/  1.624961, tr:  63.71%, val:  62.50%, val_best:  62.50%: 100%|██████████| 62/62 [00:25<00:00,  2.45it/s]"
     ]
    },
    {
     "name": "stdout",
     "output_type": "stream",
     "text": [
      "Domain loss,acc: 1.545229, 64.72% Target domain: tr_loss-1.597596, tr_acc-58.87%\n",
      "25,000c2dTruet10:62.50% | 25,000c3dFalset10:51.25%\n"
     ]
    },
    {
     "name": "stderr",
     "output_type": "stream",
     "text": [
      "\n",
      "epoch-13  lr=['0.0001000'], tr/val_loss:  1.453183/  1.584214, tr:  65.32%, val:  64.17%, val_best:  64.17%: 100%|██████████| 62/62 [00:25<00:00,  2.39it/s]"
     ]
    },
    {
     "name": "stdout",
     "output_type": "stream",
     "text": [
      "Domain loss,acc: 1.489742, 65.73% Target domain: tr_loss-1.526301, tr_acc-60.69%\n",
      "25,000c2dTruet10:64.17% | 25,000c3dFalset10:58.33%\n"
     ]
    },
    {
     "name": "stderr",
     "output_type": "stream",
     "text": [
      "\n",
      "epoch-14  lr=['0.0001000'], tr/val_loss:  1.356673/  1.557230, tr:  66.73%, val:  59.58%, val_best:  64.17%: 100%|██████████| 62/62 [00:25<00:00,  2.45it/s]"
     ]
    },
    {
     "name": "stdout",
     "output_type": "stream",
     "text": [
      "Domain loss,acc: 1.424449, 66.43% Target domain: tr_loss-1.492225, tr_acc-62.90%\n",
      "25,000c2dTruet10:59.58% | 25,000c3dFalset10:52.50%\n"
     ]
    },
    {
     "name": "stderr",
     "output_type": "stream",
     "text": [
      "\n",
      "epoch-15  lr=['0.0001000'], tr/val_loss:  1.357132/  1.511071, tr:  66.13%, val:  63.75%, val_best:  64.17%: 100%|██████████| 62/62 [00:25<00:00,  2.43it/s]"
     ]
    },
    {
     "name": "stdout",
     "output_type": "stream",
     "text": [
      "Domain loss,acc: 1.418424, 68.04% Target domain: tr_loss-1.479715, tr_acc-62.50%\n",
      "25,000c2dTruet10:63.75% | 25,000c3dFalset10:58.33%\n"
     ]
    },
    {
     "name": "stderr",
     "output_type": "stream",
     "text": [
      "\n",
      "epoch-16  lr=['0.0001000'], tr/val_loss:  1.296725/  1.471624, tr:  70.36%, val:  64.17%, val_best:  64.17%: 100%|██████████| 62/62 [00:25<00:00,  2.46it/s]"
     ]
    },
    {
     "name": "stdout",
     "output_type": "stream",
     "text": [
      "Domain loss,acc: 1.368122, 68.25% Target domain: tr_loss-1.439518, tr_acc-64.31%\n",
      "25,000c2dTruet10:64.17% | 25,000c3dFalset10:60.00%\n"
     ]
    },
    {
     "name": "stderr",
     "output_type": "stream",
     "text": [
      "\n",
      "epoch-17  lr=['0.0001000'], tr/val_loss:  1.258594/  1.448220, tr:  72.58%, val:  64.17%, val_best:  64.17%: 100%|██████████| 62/62 [00:25<00:00,  2.46it/s]"
     ]
    },
    {
     "name": "stdout",
     "output_type": "stream",
     "text": [
      "Domain loss,acc: 1.317981, 70.56% Target domain: tr_loss-1.377369, tr_acc-63.10%\n",
      "25,000c2dTruet10:64.17% | 25,000c3dFalset10:55.42%\n"
     ]
    },
    {
     "name": "stderr",
     "output_type": "stream",
     "text": [
      "\n",
      "epoch-18  lr=['0.0001000'], tr/val_loss:  1.234357/  1.417014, tr:  71.98%, val:  65.83%, val_best:  65.83%: 100%|██████████| 62/62 [00:24<00:00,  2.49it/s]"
     ]
    },
    {
     "name": "stdout",
     "output_type": "stream",
     "text": [
      "Domain loss,acc: 1.295615, 70.77% Target domain: tr_loss-1.356873, tr_acc-64.31%\n",
      "25,000c2dTruet10:65.83% | 25,000c3dFalset10:56.67%\n"
     ]
    },
    {
     "name": "stderr",
     "output_type": "stream",
     "text": [
      "\n",
      "epoch-19  lr=['0.0001000'], tr/val_loss:  1.222769/  1.395020, tr:  72.18%, val:  63.75%, val_best:  65.83%: 100%|██████████| 62/62 [00:25<00:00,  2.44it/s]"
     ]
    },
    {
     "name": "stdout",
     "output_type": "stream",
     "text": [
      "Domain loss,acc: 1.298640, 72.88% Target domain: tr_loss-1.374511, tr_acc-65.52%\n",
      "25,000c2dTruet10:63.75% | 25,000c3dFalset10:57.08%\n"
     ]
    },
    {
     "name": "stderr",
     "output_type": "stream",
     "text": [
      "\n",
      "epoch-20  lr=['0.0001000'], tr/val_loss:  1.160391/  1.380091, tr:  75.81%, val:  66.67%, val_best:  66.67%: 100%|██████████| 62/62 [00:25<00:00,  2.43it/s]"
     ]
    },
    {
     "name": "stdout",
     "output_type": "stream",
     "text": [
      "Domain loss,acc: 1.246046, 73.49% Target domain: tr_loss-1.331702, tr_acc-67.74%\n",
      "25,000c2dTruet10:66.67% | 25,000c3dFalset10:57.50%\n"
     ]
    },
    {
     "name": "stderr",
     "output_type": "stream",
     "text": [
      "\n",
      "epoch-21  lr=['0.0001000'], tr/val_loss:  1.159286/  1.340634, tr:  75.00%, val:  72.08%, val_best:  72.08%: 100%|██████████| 62/62 [00:24<00:00,  2.54it/s]"
     ]
    },
    {
     "name": "stdout",
     "output_type": "stream",
     "text": [
      "Domain loss,acc: 1.248350, 71.67% Target domain: tr_loss-1.337415, tr_acc-65.52%\n",
      "25,000c2dTruet10:72.08% | 25,000c3dFalset10:62.50%\n"
     ]
    },
    {
     "name": "stderr",
     "output_type": "stream",
     "text": [
      "\n",
      "epoch-22  lr=['0.0001000'], tr/val_loss:  1.102943/  1.319528, tr:  77.22%, val:  74.17%, val_best:  74.17%: 100%|██████████| 62/62 [00:25<00:00,  2.42it/s]"
     ]
    },
    {
     "name": "stdout",
     "output_type": "stream",
     "text": [
      "Domain loss,acc: 1.213912, 74.50% Target domain: tr_loss-1.324880, tr_acc-65.12%\n",
      "25,000c2dTruet10:74.17% | 25,000c3dFalset10:57.92%\n"
     ]
    },
    {
     "name": "stderr",
     "output_type": "stream",
     "text": [
      "\n",
      "epoch-23  lr=['0.0001000'], tr/val_loss:  1.106755/  1.324582, tr:  79.23%, val:  69.17%, val_best:  74.17%: 100%|██████████| 62/62 [00:25<00:00,  2.40it/s]"
     ]
    },
    {
     "name": "stdout",
     "output_type": "stream",
     "text": [
      "Domain loss,acc: 1.197116, 73.39% Target domain: tr_loss-1.287477, tr_acc-64.52%\n",
      "25,000c2dTruet10:69.17% | 25,000c3dFalset10:62.92%\n"
     ]
    },
    {
     "name": "stderr",
     "output_type": "stream",
     "text": [
      "\n",
      "epoch-24  lr=['0.0001000'], tr/val_loss:  1.068432/  1.291836, tr:  79.03%, val:  73.75%, val_best:  74.17%: 100%|██████████| 62/62 [00:25<00:00,  2.39it/s]"
     ]
    },
    {
     "name": "stdout",
     "output_type": "stream",
     "text": [
      "Domain loss,acc: 1.157591, 74.70% Target domain: tr_loss-1.246749, tr_acc-68.55%\n",
      "25,000c2dTruet10:73.75% | 25,000c3dFalset10:61.25%\n"
     ]
    },
    {
     "name": "stderr",
     "output_type": "stream",
     "text": [
      "\n",
      "epoch-25  lr=['0.0001000'], tr/val_loss:  1.068483/  1.290429, tr:  74.60%, val:  72.50%, val_best:  74.17%: 100%|██████████| 62/62 [00:24<00:00,  2.50it/s]"
     ]
    },
    {
     "name": "stdout",
     "output_type": "stream",
     "text": [
      "Domain loss,acc: 1.139488, 75.10% Target domain: tr_loss-1.210492, tr_acc-70.56%\n",
      "25,000c2dTruet10:72.50% | 25,000c3dFalset10:59.58%\n"
     ]
    },
    {
     "name": "stderr",
     "output_type": "stream",
     "text": [
      "\n",
      "epoch-26  lr=['0.0001000'], tr/val_loss:  1.036802/  1.272972, tr:  79.03%, val:  67.92%, val_best:  74.17%: 100%|██████████| 62/62 [00:25<00:00,  2.42it/s]"
     ]
    },
    {
     "name": "stdout",
     "output_type": "stream",
     "text": [
      "Domain loss,acc: 1.156692, 77.22% Target domain: tr_loss-1.276581, tr_acc-68.15%\n",
      "25,000c2dTruet10:67.92% | 25,000c3dFalset10:62.50%\n"
     ]
    },
    {
     "name": "stderr",
     "output_type": "stream",
     "text": [
      "\n",
      "epoch-27  lr=['0.0001000'], tr/val_loss:  1.003808/  1.247747, tr:  77.22%, val:  72.92%, val_best:  74.17%: 100%|██████████| 62/62 [00:24<00:00,  2.51it/s]"
     ]
    },
    {
     "name": "stdout",
     "output_type": "stream",
     "text": [
      "Domain loss,acc: 1.108338, 75.20% Target domain: tr_loss-1.212869, tr_acc-70.36%\n",
      "25,000c2dTruet10:72.92% | 25,000c3dFalset10:64.58%\n"
     ]
    },
    {
     "name": "stderr",
     "output_type": "stream",
     "text": [
      "\n",
      "epoch-28  lr=['0.0001000'], tr/val_loss:  1.001633/  1.248134, tr:  79.23%, val:  70.00%, val_best:  74.17%: 100%|██████████| 62/62 [00:25<00:00,  2.45it/s]"
     ]
    },
    {
     "name": "stdout",
     "output_type": "stream",
     "text": [
      "Domain loss,acc: 1.113676, 77.92% Target domain: tr_loss-1.225719, tr_acc-69.15%\n",
      "25,000c2dTruet10:70.00% | 25,000c3dFalset10:56.67%\n"
     ]
    },
    {
     "name": "stderr",
     "output_type": "stream",
     "text": [
      "\n",
      "epoch-29  lr=['0.0001000'], tr/val_loss:  0.988191/  1.254089, tr:  82.66%, val:  70.83%, val_best:  74.17%: 100%|██████████| 62/62 [00:24<00:00,  2.52it/s]"
     ]
    },
    {
     "name": "stdout",
     "output_type": "stream",
     "text": [
      "Domain loss,acc: 1.107614, 77.32% Target domain: tr_loss-1.227038, tr_acc-64.92%\n",
      "25,000c2dTruet10:70.83% | 25,000c3dFalset10:54.17%\n"
     ]
    },
    {
     "name": "stderr",
     "output_type": "stream",
     "text": [
      "\n",
      "epoch-30  lr=['0.0001000'], tr/val_loss:  0.985857/  1.222079, tr:  76.81%, val:  74.17%, val_best:  74.17%: 100%|██████████| 62/62 [00:25<00:00,  2.42it/s]"
     ]
    },
    {
     "name": "stdout",
     "output_type": "stream",
     "text": [
      "Domain loss,acc: 1.093421, 78.73% Target domain: tr_loss-1.200984, tr_acc-67.94%\n",
      "25,000c2dTruet10:74.17% | 25,000c3dFalset10:61.67%\n"
     ]
    },
    {
     "name": "stderr",
     "output_type": "stream",
     "text": [
      "\n",
      "epoch-31  lr=['0.0001000'], tr/val_loss:  0.994063/  1.210112, tr:  77.62%, val:  76.67%, val_best:  76.67%: 100%|██████████| 62/62 [00:25<00:00,  2.43it/s]"
     ]
    },
    {
     "name": "stdout",
     "output_type": "stream",
     "text": [
      "Domain loss,acc: 1.094540, 77.12% Target domain: tr_loss-1.195017, tr_acc-69.76%\n",
      "25,000c2dTruet10:76.67% | 25,000c3dFalset10:64.58%\n"
     ]
    },
    {
     "name": "stderr",
     "output_type": "stream",
     "text": [
      "\n",
      "epoch-32  lr=['0.0001000'], tr/val_loss:  0.919961/  1.209277, tr:  85.08%, val:  72.92%, val_best:  76.67%: 100%|██████████| 62/62 [00:25<00:00,  2.42it/s]"
     ]
    },
    {
     "name": "stdout",
     "output_type": "stream",
     "text": [
      "Domain loss,acc: 1.050385, 81.55% Target domain: tr_loss-1.180809, tr_acc-68.75%\n",
      "25,000c2dTruet10:72.92% | 25,000c3dFalset10:65.42%\n"
     ]
    },
    {
     "name": "stderr",
     "output_type": "stream",
     "text": [
      "\n",
      "epoch-33  lr=['0.0001000'], tr/val_loss:  0.908215/  1.205019, tr:  85.08%, val:  75.42%, val_best:  76.67%: 100%|██████████| 62/62 [00:25<00:00,  2.40it/s]"
     ]
    },
    {
     "name": "stdout",
     "output_type": "stream",
     "text": [
      "Domain loss,acc: 1.037393, 80.24% Target domain: tr_loss-1.166571, tr_acc-73.19%\n",
      "25,000c2dTruet10:75.42% | 25,000c3dFalset10:60.83%\n"
     ]
    },
    {
     "name": "stderr",
     "output_type": "stream",
     "text": [
      "\n",
      "epoch-34  lr=['0.0001000'], tr/val_loss:  0.920163/  1.211150, tr:  82.86%, val:  74.17%, val_best:  76.67%: 100%|██████████| 62/62 [00:25<00:00,  2.40it/s]"
     ]
    },
    {
     "name": "stdout",
     "output_type": "stream",
     "text": [
      "Domain loss,acc: 1.034152, 79.74% Target domain: tr_loss-1.148141, tr_acc-72.78%\n",
      "25,000c2dTruet10:74.17% | 25,000c3dFalset10:67.50%\n"
     ]
    },
    {
     "name": "stderr",
     "output_type": "stream",
     "text": [
      "\n",
      "epoch-35  lr=['0.0001000'], tr/val_loss:  0.902285/  1.187610, tr:  85.89%, val:  75.42%, val_best:  76.67%: 100%|██████████| 62/62 [00:26<00:00,  2.31it/s]"
     ]
    },
    {
     "name": "stdout",
     "output_type": "stream",
     "text": [
      "Domain loss,acc: 1.037968, 81.15% Target domain: tr_loss-1.173650, tr_acc-68.35%\n",
      "25,000c2dTruet10:75.42% | 25,000c3dFalset10:62.92%\n"
     ]
    },
    {
     "name": "stderr",
     "output_type": "stream",
     "text": [
      "\n",
      "epoch-36  lr=['0.0001000'], tr/val_loss:  0.872394/  1.178558, tr:  83.67%, val:  78.75%, val_best:  78.75%: 100%|██████████| 62/62 [00:25<00:00,  2.42it/s]"
     ]
    },
    {
     "name": "stdout",
     "output_type": "stream",
     "text": [
      "Domain loss,acc: 1.004303, 81.45% Target domain: tr_loss-1.136213, tr_acc-68.15%\n",
      "25,000c2dTruet10:78.75% | 25,000c3dFalset10:61.67%\n"
     ]
    },
    {
     "name": "stderr",
     "output_type": "stream",
     "text": [
      "\n",
      "epoch-37  lr=['0.0001000'], tr/val_loss:  0.890907/  1.176585, tr:  86.69%, val:  74.17%, val_best:  78.75%: 100%|██████████| 62/62 [00:24<00:00,  2.51it/s]"
     ]
    },
    {
     "name": "stdout",
     "output_type": "stream",
     "text": [
      "Domain loss,acc: 1.017230, 80.04% Target domain: tr_loss-1.143553, tr_acc-69.56%\n",
      "25,000c2dTruet10:74.17% | 25,000c3dFalset10:60.83%\n"
     ]
    },
    {
     "name": "stderr",
     "output_type": "stream",
     "text": [
      "\n",
      "epoch-38  lr=['0.0001000'], tr/val_loss:  0.869098/  1.164924, tr:  85.89%, val:  75.83%, val_best:  78.75%: 100%|██████████| 62/62 [00:25<00:00,  2.45it/s]"
     ]
    },
    {
     "name": "stdout",
     "output_type": "stream",
     "text": [
      "Domain loss,acc: 0.997952, 81.96% Target domain: tr_loss-1.126805, tr_acc-71.17%\n",
      "25,000c2dTruet10:75.83% | 25,000c3dFalset10:56.67%\n"
     ]
    },
    {
     "name": "stderr",
     "output_type": "stream",
     "text": [
      "\n",
      "epoch-39  lr=['0.0001000'], tr/val_loss:  0.864076/  1.173133, tr:  87.90%, val:  72.92%, val_best:  78.75%: 100%|██████████| 62/62 [00:25<00:00,  2.43it/s]"
     ]
    },
    {
     "name": "stdout",
     "output_type": "stream",
     "text": [
      "Domain loss,acc: 1.008541, 81.15% Target domain: tr_loss-1.153005, tr_acc-68.15%\n",
      "25,000c2dTruet10:72.92% | 25,000c3dFalset10:57.50%\n"
     ]
    },
    {
     "name": "stderr",
     "output_type": "stream",
     "text": [
      "\n",
      "epoch-40  lr=['0.0001000'], tr/val_loss:  0.870930/  1.152917, tr:  85.89%, val:  75.00%, val_best:  78.75%: 100%|██████████| 62/62 [00:25<00:00,  2.42it/s]"
     ]
    },
    {
     "name": "stdout",
     "output_type": "stream",
     "text": [
      "Domain loss,acc: 0.998652, 81.45% Target domain: tr_loss-1.126374, tr_acc-73.39%\n",
      "25,000c2dTruet10:75.00% | 25,000c3dFalset10:62.92%\n"
     ]
    },
    {
     "name": "stderr",
     "output_type": "stream",
     "text": [
      "\n",
      "epoch-41  lr=['0.0001000'], tr/val_loss:  0.864782/  1.162340, tr:  84.48%, val:  76.25%, val_best:  78.75%: 100%|██████████| 62/62 [00:25<00:00,  2.42it/s]"
     ]
    },
    {
     "name": "stdout",
     "output_type": "stream",
     "text": [
      "Domain loss,acc: 0.987233, 82.76% Target domain: tr_loss-1.109684, tr_acc-75.20%\n",
      "25,000c2dTruet10:76.25% | 25,000c3dFalset10:65.42%\n"
     ]
    },
    {
     "name": "stderr",
     "output_type": "stream",
     "text": [
      "\n",
      "epoch-42  lr=['0.0001000'], tr/val_loss:  0.833410/  1.150950, tr:  86.09%, val:  75.00%, val_best:  78.75%: 100%|██████████| 62/62 [00:25<00:00,  2.46it/s]"
     ]
    },
    {
     "name": "stdout",
     "output_type": "stream",
     "text": [
      "Domain loss,acc: 0.985581, 83.17% Target domain: tr_loss-1.137752, tr_acc-69.15%\n",
      "25,000c2dTruet10:75.00% | 25,000c3dFalset10:62.92%\n"
     ]
    },
    {
     "name": "stderr",
     "output_type": "stream",
     "text": [
      "\n",
      "epoch-43  lr=['0.0001000'], tr/val_loss:  0.853475/  1.144251, tr:  87.30%, val:  77.92%, val_best:  78.75%: 100%|██████████| 62/62 [00:25<00:00,  2.44it/s]"
     ]
    },
    {
     "name": "stdout",
     "output_type": "stream",
     "text": [
      "Domain loss,acc: 0.991726, 82.76% Target domain: tr_loss-1.129978, tr_acc-70.97%\n",
      "25,000c2dTruet10:77.92% | 25,000c3dFalset10:63.33%\n"
     ]
    },
    {
     "name": "stderr",
     "output_type": "stream",
     "text": [
      "\n",
      "epoch-44  lr=['0.0001000'], tr/val_loss:  0.815051/  1.137174, tr:  89.92%, val:  78.75%, val_best:  78.75%: 100%|██████████| 62/62 [00:25<00:00,  2.44it/s]"
     ]
    },
    {
     "name": "stdout",
     "output_type": "stream",
     "text": [
      "Domain loss,acc: 0.968306, 82.56% Target domain: tr_loss-1.121561, tr_acc-72.78%\n",
      "25,000c2dTruet10:78.75% | 25,000c3dFalset10:67.50%\n"
     ]
    },
    {
     "name": "stderr",
     "output_type": "stream",
     "text": [
      "\n",
      "epoch-45  lr=['0.0001000'], tr/val_loss:  0.819004/  1.141764, tr:  86.90%, val:  77.92%, val_best:  78.75%: 100%|██████████| 62/62 [00:24<00:00,  2.50it/s]"
     ]
    },
    {
     "name": "stdout",
     "output_type": "stream",
     "text": [
      "Domain loss,acc: 0.970633, 82.26% Target domain: tr_loss-1.122261, tr_acc-74.60%\n",
      "25,000c2dTruet10:77.92% | 25,000c3dFalset10:61.67%\n"
     ]
    },
    {
     "name": "stderr",
     "output_type": "stream",
     "text": [
      "\n",
      "epoch-46  lr=['0.0001000'], tr/val_loss:  0.828949/  1.129311, tr:  86.29%, val:  79.58%, val_best:  79.58%: 100%|██████████| 62/62 [00:25<00:00,  2.40it/s]"
     ]
    },
    {
     "name": "stdout",
     "output_type": "stream",
     "text": [
      "Domain loss,acc: 0.975691, 83.57% Target domain: tr_loss-1.122433, tr_acc-72.18%\n",
      "25,000c2dTruet10:79.58% | 25,000c3dFalset10:69.58%\n"
     ]
    },
    {
     "name": "stderr",
     "output_type": "stream",
     "text": [
      "\n",
      "epoch-47  lr=['0.0001000'], tr/val_loss:  0.788718/  1.116233, tr:  90.93%, val:  78.33%, val_best:  79.58%: 100%|██████████| 62/62 [00:25<00:00,  2.43it/s]"
     ]
    },
    {
     "name": "stdout",
     "output_type": "stream",
     "text": [
      "Domain loss,acc: 0.947643, 83.97% Target domain: tr_loss-1.106568, tr_acc-76.41%\n",
      "25,000c2dTruet10:78.33% | 25,000c3dFalset10:70.42%\n"
     ]
    },
    {
     "name": "stderr",
     "output_type": "stream",
     "text": [
      "\n",
      "epoch-48  lr=['0.0001000'], tr/val_loss:  0.800811/  1.134458, tr:  90.12%, val:  75.00%, val_best:  79.58%: 100%|██████████| 62/62 [00:24<00:00,  2.49it/s]"
     ]
    },
    {
     "name": "stdout",
     "output_type": "stream",
     "text": [
      "Domain loss,acc: 0.947961, 83.67% Target domain: tr_loss-1.095111, tr_acc-72.98%\n",
      "25,000c2dTruet10:75.00% | 25,000c3dFalset10:57.08%\n"
     ]
    },
    {
     "name": "stderr",
     "output_type": "stream",
     "text": [
      "\n",
      "epoch-49  lr=['0.0001000'], tr/val_loss:  0.766561/  1.115921, tr:  89.11%, val:  77.50%, val_best:  79.58%: 100%|██████████| 62/62 [00:25<00:00,  2.44it/s]"
     ]
    },
    {
     "name": "stdout",
     "output_type": "stream",
     "text": [
      "Domain loss,acc: 0.928757, 83.77% Target domain: tr_loss-1.090953, tr_acc-73.79%\n",
      "25,000c2dTruet10:77.50% | 25,000c3dFalset10:61.25%\n"
     ]
    },
    {
     "name": "stderr",
     "output_type": "stream",
     "text": [
      "\n",
      "epoch-50  lr=['0.0001000'], tr/val_loss:  0.759825/  1.115793, tr:  90.12%, val:  77.92%, val_best:  79.58%: 100%|██████████| 62/62 [00:26<00:00,  2.37it/s]"
     ]
    },
    {
     "name": "stdout",
     "output_type": "stream",
     "text": [
      "Domain loss,acc: 0.916515, 84.48% Target domain: tr_loss-1.073206, tr_acc-75.00%\n",
      "25,000c2dTruet10:77.92% | 25,000c3dFalset10:59.58%\n"
     ]
    },
    {
     "name": "stderr",
     "output_type": "stream",
     "text": [
      "\n",
      "epoch-51  lr=['0.0001000'], tr/val_loss:  0.767682/  1.105086, tr:  89.52%, val:  80.83%, val_best:  80.83%: 100%|██████████| 62/62 [00:25<00:00,  2.46it/s]"
     ]
    },
    {
     "name": "stdout",
     "output_type": "stream",
     "text": [
      "Domain loss,acc: 0.929342, 86.59% Target domain: tr_loss-1.091001, tr_acc-74.40%\n",
      "25,000c2dTruet10:80.83% | 25,000c3dFalset10:59.58%\n"
     ]
    },
    {
     "name": "stderr",
     "output_type": "stream",
     "text": [
      "\n",
      "epoch-52  lr=['0.0001000'], tr/val_loss:  0.749362/  1.089758, tr:  90.93%, val:  82.08%, val_best:  82.08%: 100%|██████████| 62/62 [00:25<00:00,  2.45it/s]"
     ]
    },
    {
     "name": "stdout",
     "output_type": "stream",
     "text": [
      "Domain loss,acc: 0.908921, 85.18% Target domain: tr_loss-1.068479, tr_acc-76.01%\n",
      "25,000c2dTruet10:82.08% | 25,000c3dFalset10:69.17%\n"
     ]
    },
    {
     "name": "stderr",
     "output_type": "stream",
     "text": [
      "\n",
      "epoch-53  lr=['0.0001000'], tr/val_loss:  0.775908/  1.086913, tr:  88.10%, val:  82.50%, val_best:  82.50%: 100%|██████████| 62/62 [00:25<00:00,  2.40it/s]"
     ]
    },
    {
     "name": "stdout",
     "output_type": "stream",
     "text": [
      "Domain loss,acc: 0.925592, 83.47% Target domain: tr_loss-1.075276, tr_acc-78.83%\n",
      "25,000c2dTruet10:82.50% | 25,000c3dFalset10:67.50%\n"
     ]
    },
    {
     "name": "stderr",
     "output_type": "stream",
     "text": [
      "\n",
      "epoch-54  lr=['0.0001000'], tr/val_loss:  0.722430/  1.092291, tr:  92.54%, val:  81.67%, val_best:  82.50%: 100%|██████████| 62/62 [00:25<00:00,  2.39it/s]"
     ]
    },
    {
     "name": "stdout",
     "output_type": "stream",
     "text": [
      "Domain loss,acc: 0.888772, 84.38% Target domain: tr_loss-1.055114, tr_acc-80.44%\n",
      "25,000c2dTruet10:81.67% | 25,000c3dFalset10:64.58%\n"
     ]
    },
    {
     "name": "stderr",
     "output_type": "stream",
     "text": [
      "\n",
      "epoch-55  lr=['0.0001000'], tr/val_loss:  0.720511/  1.070684, tr:  90.12%, val:  82.92%, val_best:  82.92%: 100%|██████████| 62/62 [00:25<00:00,  2.45it/s]"
     ]
    },
    {
     "name": "stdout",
     "output_type": "stream",
     "text": [
      "Domain loss,acc: 0.924520, 85.48% Target domain: tr_loss-1.128530, tr_acc-72.38%\n",
      "25,000c2dTruet10:82.92% | 25,000c3dFalset10:65.83%\n"
     ]
    },
    {
     "name": "stderr",
     "output_type": "stream",
     "text": [
      "\n",
      "epoch-56  lr=['0.0001000'], tr/val_loss:  0.725497/  1.089637, tr:  93.15%, val:  83.75%, val_best:  83.75%: 100%|██████████| 62/62 [00:25<00:00,  2.42it/s]"
     ]
    },
    {
     "name": "stdout",
     "output_type": "stream",
     "text": [
      "Domain loss,acc: 0.875164, 85.18% Target domain: tr_loss-1.024832, tr_acc-79.23%\n",
      "25,000c2dTruet10:83.75% | 25,000c3dFalset10:66.67%\n"
     ]
    },
    {
     "name": "stderr",
     "output_type": "stream",
     "text": [
      "\n",
      "epoch-57  lr=['0.0001000'], tr/val_loss:  0.699941/  1.069320, tr:  92.54%, val:  84.17%, val_best:  84.17%: 100%|██████████| 62/62 [00:24<00:00,  2.52it/s]"
     ]
    },
    {
     "name": "stdout",
     "output_type": "stream",
     "text": [
      "Domain loss,acc: 0.896855, 85.89% Target domain: tr_loss-1.093770, tr_acc-74.80%\n",
      "25,000c2dTruet10:84.17% | 25,000c3dFalset10:67.50%\n"
     ]
    },
    {
     "name": "stderr",
     "output_type": "stream",
     "text": [
      "\n",
      "epoch-58  lr=['0.0001000'], tr/val_loss:  0.696564/  1.079482, tr:  91.53%, val:  84.17%, val_best:  84.17%: 100%|██████████| 62/62 [00:25<00:00,  2.45it/s]"
     ]
    },
    {
     "name": "stdout",
     "output_type": "stream",
     "text": [
      "Domain loss,acc: 0.858649, 86.59% Target domain: tr_loss-1.020734, tr_acc-78.43%\n",
      "25,000c2dTruet10:84.17% | 25,000c3dFalset10:70.00%\n"
     ]
    },
    {
     "name": "stderr",
     "output_type": "stream",
     "text": [
      "\n",
      "epoch-59  lr=['0.0001000'], tr/val_loss:  0.698327/  1.094110, tr:  93.75%, val:  82.08%, val_best:  84.17%: 100%|██████████| 62/62 [00:25<00:00,  2.41it/s]"
     ]
    },
    {
     "name": "stdout",
     "output_type": "stream",
     "text": [
      "Domain loss,acc: 0.887481, 85.99% Target domain: tr_loss-1.076636, tr_acc-79.84%\n",
      "25,000c2dTruet10:82.08% | 25,000c3dFalset10:62.50%\n"
     ]
    },
    {
     "name": "stderr",
     "output_type": "stream",
     "text": [
      "\n",
      "epoch-60  lr=['0.0001000'], tr/val_loss:  0.691776/  1.077792, tr:  93.15%, val:  84.58%, val_best:  84.58%: 100%|██████████| 62/62 [00:25<00:00,  2.47it/s]"
     ]
    },
    {
     "name": "stdout",
     "output_type": "stream",
     "text": [
      "Domain loss,acc: 0.873892, 85.69% Target domain: tr_loss-1.056008, tr_acc-78.63%\n",
      "25,000c2dTruet10:84.58% | 25,000c3dFalset10:67.92%\n"
     ]
    },
    {
     "name": "stderr",
     "output_type": "stream",
     "text": [
      "\n",
      "epoch-61  lr=['0.0001000'], tr/val_loss:  0.669193/  1.079131, tr:  92.74%, val:  81.25%, val_best:  84.58%: 100%|██████████| 62/62 [00:25<00:00,  2.40it/s]"
     ]
    },
    {
     "name": "stdout",
     "output_type": "stream",
     "text": [
      "Domain loss,acc: 0.858488, 85.79% Target domain: tr_loss-1.047783, tr_acc-79.44%\n",
      "25,000c2dTruet10:81.25% | 25,000c3dFalset10:67.92%\n"
     ]
    },
    {
     "name": "stderr",
     "output_type": "stream",
     "text": [
      "\n",
      "epoch-62  lr=['0.0001000'], tr/val_loss:  0.669355/  1.077177, tr:  93.95%, val:  83.75%, val_best:  84.58%: 100%|██████████| 62/62 [00:25<00:00,  2.43it/s]"
     ]
    },
    {
     "name": "stdout",
     "output_type": "stream",
     "text": [
      "Domain loss,acc: 0.846362, 86.69% Target domain: tr_loss-1.023369, tr_acc-78.83%\n",
      "25,000c2dTruet10:83.75% | 25,000c3dFalset10:62.92%\n"
     ]
    },
    {
     "name": "stderr",
     "output_type": "stream",
     "text": [
      "\n",
      "epoch-63  lr=['0.0001000'], tr/val_loss:  0.676779/  1.066006, tr:  93.55%, val:  82.92%, val_best:  84.58%: 100%|██████████| 62/62 [00:25<00:00,  2.47it/s]"
     ]
    },
    {
     "name": "stdout",
     "output_type": "stream",
     "text": [
      "Domain loss,acc: 0.848586, 86.49% Target domain: tr_loss-1.020394, tr_acc-81.05%\n",
      "25,000c2dTruet10:82.92% | 25,000c3dFalset10:69.17%\n"
     ]
    },
    {
     "name": "stderr",
     "output_type": "stream",
     "text": [
      "\n",
      "epoch-64  lr=['0.0001000'], tr/val_loss:  0.672680/  1.052375, tr:  92.34%, val:  84.17%, val_best:  84.58%: 100%|██████████| 62/62 [00:24<00:00,  2.48it/s]"
     ]
    },
    {
     "name": "stdout",
     "output_type": "stream",
     "text": [
      "Domain loss,acc: 0.852778, 87.40% Target domain: tr_loss-1.032875, tr_acc-79.23%\n",
      "25,000c2dTruet10:84.17% | 25,000c3dFalset10:66.25%\n"
     ]
    },
    {
     "name": "stderr",
     "output_type": "stream",
     "text": [
      "\n",
      "epoch-65  lr=['0.0001000'], tr/val_loss:  0.643202/  1.058828, tr:  93.75%, val:  82.50%, val_best:  84.58%: 100%|██████████| 62/62 [00:25<00:00,  2.45it/s]"
     ]
    },
    {
     "name": "stdout",
     "output_type": "stream",
     "text": [
      "Domain loss,acc: 0.826689, 86.29% Target domain: tr_loss-1.010176, tr_acc-79.84%\n",
      "25,000c2dTruet10:82.50% | 25,000c3dFalset10:67.50%\n"
     ]
    },
    {
     "name": "stderr",
     "output_type": "stream",
     "text": [
      "\n",
      "epoch-66  lr=['0.0001000'], tr/val_loss:  0.634500/  1.051735, tr:  94.96%, val:  83.75%, val_best:  84.58%: 100%|██████████| 62/62 [00:25<00:00,  2.44it/s]"
     ]
    },
    {
     "name": "stdout",
     "output_type": "stream",
     "text": [
      "Domain loss,acc: 0.831417, 87.50% Target domain: tr_loss-1.028333, tr_acc-80.44%\n",
      "25,000c2dTruet10:83.75% | 25,000c3dFalset10:68.33%\n"
     ]
    },
    {
     "name": "stderr",
     "output_type": "stream",
     "text": [
      "\n",
      "epoch-67  lr=['0.0001000'], tr/val_loss:  0.648454/  1.043312, tr:  93.95%, val:  83.33%, val_best:  84.58%: 100%|██████████| 62/62 [00:25<00:00,  2.43it/s]"
     ]
    },
    {
     "name": "stdout",
     "output_type": "stream",
     "text": [
      "Domain loss,acc: 0.845490, 86.90% Target domain: tr_loss-1.042527, tr_acc-79.84%\n",
      "25,000c2dTruet10:83.33% | 25,000c3dFalset10:68.33%\n"
     ]
    },
    {
     "name": "stderr",
     "output_type": "stream",
     "text": [
      "\n",
      "epoch-68  lr=['0.0001000'], tr/val_loss:  0.631166/  1.040368, tr:  93.75%, val:  84.58%, val_best:  84.58%: 100%|██████████| 62/62 [00:25<00:00,  2.44it/s]"
     ]
    },
    {
     "name": "stdout",
     "output_type": "stream",
     "text": [
      "Domain loss,acc: 0.835116, 86.90% Target domain: tr_loss-1.039067, tr_acc-80.85%\n",
      "25,000c2dTruet10:84.58% | 25,000c3dFalset10:68.33%\n"
     ]
    },
    {
     "name": "stderr",
     "output_type": "stream",
     "text": [
      "\n",
      "epoch-69  lr=['0.0001000'], tr/val_loss:  0.604640/  1.032022, tr:  94.76%, val:  83.33%, val_best:  84.58%: 100%|██████████| 62/62 [00:25<00:00,  2.43it/s]"
     ]
    },
    {
     "name": "stdout",
     "output_type": "stream",
     "text": [
      "Domain loss,acc: 0.822738, 86.79% Target domain: tr_loss-1.040836, tr_acc-80.65%\n",
      "25,000c2dTruet10:83.33% | 25,000c3dFalset10:63.33%\n"
     ]
    },
    {
     "name": "stderr",
     "output_type": "stream",
     "text": [
      "\n",
      "epoch-70  lr=['0.0001000'], tr/val_loss:  0.608596/  1.024086, tr:  94.96%, val:  83.33%, val_best:  84.58%: 100%|██████████| 62/62 [00:25<00:00,  2.45it/s]"
     ]
    },
    {
     "name": "stdout",
     "output_type": "stream",
     "text": [
      "Domain loss,acc: 0.808907, 88.21% Target domain: tr_loss-1.009217, tr_acc-79.64%\n",
      "25,000c2dTruet10:83.33% | 25,000c3dFalset10:65.42%\n"
     ]
    },
    {
     "name": "stderr",
     "output_type": "stream",
     "text": [
      "\n",
      "epoch-71  lr=['0.0001000'], tr/val_loss:  0.615340/  1.037663, tr:  93.75%, val:  82.92%, val_best:  84.58%: 100%|██████████| 62/62 [00:25<00:00,  2.41it/s]"
     ]
    },
    {
     "name": "stdout",
     "output_type": "stream",
     "text": [
      "Domain loss,acc: 0.794574, 87.50% Target domain: tr_loss-0.973808, tr_acc-82.06%\n",
      "25,000c2dTruet10:82.92% | 25,000c3dFalset10:69.58%\n"
     ]
    },
    {
     "name": "stderr",
     "output_type": "stream",
     "text": [
      "\n",
      "epoch-72  lr=['0.0001000'], tr/val_loss:  0.620016/  1.045759, tr:  93.35%, val:  83.33%, val_best:  84.58%: 100%|██████████| 62/62 [00:25<00:00,  2.42it/s]"
     ]
    },
    {
     "name": "stdout",
     "output_type": "stream",
     "text": [
      "Domain loss,acc: 0.824990, 87.60% Target domain: tr_loss-1.029965, tr_acc-79.64%\n",
      "25,000c2dTruet10:83.33% | 25,000c3dFalset10:69.58%\n"
     ]
    },
    {
     "name": "stderr",
     "output_type": "stream",
     "text": [
      "\n",
      "epoch-73  lr=['0.0001000'], tr/val_loss:  0.586146/  1.031004, tr:  94.96%, val:  85.00%, val_best:  85.00%: 100%|██████████| 62/62 [00:25<00:00,  2.47it/s]"
     ]
    },
    {
     "name": "stdout",
     "output_type": "stream",
     "text": [
      "Domain loss,acc: 0.802586, 86.90% Target domain: tr_loss-1.019025, tr_acc-79.84%\n",
      "25,000c2dTruet10:85.00% | 25,000c3dFalset10:68.75%\n"
     ]
    },
    {
     "name": "stderr",
     "output_type": "stream",
     "text": [
      "\n",
      "epoch-74  lr=['0.0001000'], tr/val_loss:  0.570759/  1.053625, tr:  96.37%, val:  81.67%, val_best:  85.00%: 100%|██████████| 62/62 [00:25<00:00,  2.45it/s]"
     ]
    },
    {
     "name": "stdout",
     "output_type": "stream",
     "text": [
      "Domain loss,acc: 0.761200, 87.30% Target domain: tr_loss-0.951641, tr_acc-82.26%\n",
      "25,000c2dTruet10:81.67% | 25,000c3dFalset10:65.00%\n"
     ]
    },
    {
     "name": "stderr",
     "output_type": "stream",
     "text": [
      "\n",
      "epoch-75  lr=['0.0001000'], tr/val_loss:  0.594022/  1.030151, tr:  94.56%, val:  84.58%, val_best:  85.00%: 100%|██████████| 62/62 [00:25<00:00,  2.41it/s]"
     ]
    },
    {
     "name": "stdout",
     "output_type": "stream",
     "text": [
      "Domain loss,acc: 0.795764, 88.51% Target domain: tr_loss-0.997506, tr_acc-81.05%\n",
      "25,000c2dTruet10:84.58% | 25,000c3dFalset10:69.58%\n"
     ]
    },
    {
     "name": "stderr",
     "output_type": "stream",
     "text": [
      "\n",
      "epoch-76  lr=['0.0001000'], tr/val_loss:  0.570976/  1.042624, tr:  95.77%, val:  80.42%, val_best:  85.00%: 100%|██████████| 62/62 [00:25<00:00,  2.45it/s]"
     ]
    },
    {
     "name": "stdout",
     "output_type": "stream",
     "text": [
      "Domain loss,acc: 0.767130, 89.52% Target domain: tr_loss-0.963284, tr_acc-84.07%\n",
      "25,000c2dTruet10:80.42% | 25,000c3dFalset10:63.33%\n"
     ]
    },
    {
     "name": "stderr",
     "output_type": "stream",
     "text": [
      "\n",
      "epoch-77  lr=['0.0001000'], tr/val_loss:  0.561604/  1.026225, tr:  95.77%, val:  84.58%, val_best:  85.00%: 100%|██████████| 62/62 [00:25<00:00,  2.45it/s]"
     ]
    },
    {
     "name": "stdout",
     "output_type": "stream",
     "text": [
      "Domain loss,acc: 0.769856, 86.79% Target domain: tr_loss-0.978108, tr_acc-81.25%\n",
      "25,000c2dTruet10:84.58% | 25,000c3dFalset10:67.08%\n"
     ]
    },
    {
     "name": "stderr",
     "output_type": "stream",
     "text": [
      "\n",
      "epoch-78  lr=['0.0001000'], tr/val_loss:  0.567500/  1.020182, tr:  94.76%, val:  82.92%, val_best:  85.00%: 100%|██████████| 62/62 [00:25<00:00,  2.45it/s]"
     ]
    },
    {
     "name": "stdout",
     "output_type": "stream",
     "text": [
      "Domain loss,acc: 0.793126, 88.51% Target domain: tr_loss-1.018751, tr_acc-80.65%\n",
      "25,000c2dTruet10:82.92% | 25,000c3dFalset10:69.58%\n"
     ]
    },
    {
     "name": "stderr",
     "output_type": "stream",
     "text": [
      "\n",
      "epoch-79  lr=['0.0001000'], tr/val_loss:  0.583373/  1.010105, tr:  94.76%, val:  84.17%, val_best:  85.00%: 100%|██████████| 62/62 [00:25<00:00,  2.46it/s]"
     ]
    },
    {
     "name": "stdout",
     "output_type": "stream",
     "text": [
      "Domain loss,acc: 0.798396, 88.00% Target domain: tr_loss-1.013418, tr_acc-79.44%\n",
      "25,000c2dTruet10:84.17% | 25,000c3dFalset10:66.25%\n"
     ]
    },
    {
     "name": "stderr",
     "output_type": "stream",
     "text": [
      "\n",
      "epoch-80  lr=['0.0001000'], tr/val_loss:  0.547112/  1.003080, tr:  95.97%, val:  83.75%, val_best:  85.00%: 100%|██████████| 62/62 [00:24<00:00,  2.51it/s]"
     ]
    },
    {
     "name": "stdout",
     "output_type": "stream",
     "text": [
      "Domain loss,acc: 0.770754, 88.31% Target domain: tr_loss-0.994396, tr_acc-81.65%\n",
      "25,000c2dTruet10:83.75% | 25,000c3dFalset10:68.75%\n"
     ]
    },
    {
     "name": "stderr",
     "output_type": "stream",
     "text": [
      "\n",
      "epoch-81  lr=['0.0001000'], tr/val_loss:  0.528520/  1.003687, tr:  96.37%, val:  84.58%, val_best:  85.00%: 100%|██████████| 62/62 [00:25<00:00,  2.42it/s]"
     ]
    },
    {
     "name": "stdout",
     "output_type": "stream",
     "text": [
      "Domain loss,acc: 0.756617, 87.50% Target domain: tr_loss-0.984714, tr_acc-81.65%\n",
      "25,000c2dTruet10:84.58% | 25,000c3dFalset10:68.33%\n"
     ]
    },
    {
     "name": "stderr",
     "output_type": "stream",
     "text": [
      "\n",
      "epoch-82  lr=['0.0001000'], tr/val_loss:  0.548730/  1.014576, tr:  96.37%, val:  85.00%, val_best:  85.00%: 100%|██████████| 62/62 [00:25<00:00,  2.47it/s]"
     ]
    },
    {
     "name": "stdout",
     "output_type": "stream",
     "text": [
      "Domain loss,acc: 0.761016, 90.12% Target domain: tr_loss-0.973302, tr_acc-83.67%\n",
      "25,000c2dTruet10:85.00% | 25,000c3dFalset10:69.17%\n"
     ]
    },
    {
     "name": "stderr",
     "output_type": "stream",
     "text": [
      "\n",
      "epoch-83  lr=['0.0001000'], tr/val_loss:  0.541987/  1.014054, tr:  94.35%, val:  85.00%, val_best:  85.00%: 100%|██████████| 62/62 [00:25<00:00,  2.43it/s]"
     ]
    },
    {
     "name": "stdout",
     "output_type": "stream",
     "text": [
      "Domain loss,acc: 0.735660, 87.90% Target domain: tr_loss-0.929333, tr_acc-84.88%\n",
      "25,000c2dTruet10:85.00% | 25,000c3dFalset10:66.25%\n"
     ]
    },
    {
     "name": "stderr",
     "output_type": "stream",
     "text": [
      "\n",
      "epoch-84  lr=['0.0001000'], tr/val_loss:  0.527702/  1.010665, tr:  94.56%, val:  84.17%, val_best:  85.00%: 100%|██████████| 62/62 [00:24<00:00,  2.54it/s]"
     ]
    },
    {
     "name": "stdout",
     "output_type": "stream",
     "text": [
      "Domain loss,acc: 0.758810, 88.41% Target domain: tr_loss-0.989917, tr_acc-82.06%\n",
      "25,000c2dTruet10:84.17% | 25,000c3dFalset10:67.92%\n"
     ]
    },
    {
     "name": "stderr",
     "output_type": "stream",
     "text": [
      "\n",
      "epoch-85  lr=['0.0001000'], tr/val_loss:  0.541710/  1.005429, tr:  95.16%, val:  85.42%, val_best:  85.42%: 100%|██████████| 62/62 [00:25<00:00,  2.42it/s]"
     ]
    },
    {
     "name": "stdout",
     "output_type": "stream",
     "text": [
      "Domain loss,acc: 0.766528, 90.12% Target domain: tr_loss-0.991347, tr_acc-81.25%\n",
      "25,000c2dTruet10:85.42% | 25,000c3dFalset10:68.75%\n"
     ]
    },
    {
     "name": "stderr",
     "output_type": "stream",
     "text": [
      "\n",
      "epoch-86  lr=['0.0001000'], tr/val_loss:  0.545023/  1.009124, tr:  95.36%, val:  85.00%, val_best:  85.42%: 100%|██████████| 62/62 [00:25<00:00,  2.42it/s]"
     ]
    },
    {
     "name": "stdout",
     "output_type": "stream",
     "text": [
      "Domain loss,acc: 0.750181, 89.52% Target domain: tr_loss-0.955339, tr_acc-85.08%\n",
      "25,000c2dTruet10:85.00% | 25,000c3dFalset10:68.75%\n"
     ]
    },
    {
     "name": "stderr",
     "output_type": "stream",
     "text": [
      "\n",
      "epoch-87  lr=['0.0001000'], tr/val_loss:  0.513554/  0.991194, tr:  95.77%, val:  85.83%, val_best:  85.83%: 100%|██████████| 62/62 [00:24<00:00,  2.51it/s]"
     ]
    },
    {
     "name": "stdout",
     "output_type": "stream",
     "text": [
      "Domain loss,acc: 0.746461, 90.42% Target domain: tr_loss-0.979368, tr_acc-83.67%\n",
      "25,000c2dTruet10:85.83% | 25,000c3dFalset10:70.00%\n"
     ]
    },
    {
     "name": "stderr",
     "output_type": "stream",
     "text": [
      "\n",
      "epoch-88  lr=['0.0001000'], tr/val_loss:  0.508357/  1.008686, tr:  96.17%, val:  85.00%, val_best:  85.83%: 100%|██████████| 62/62 [00:25<00:00,  2.44it/s]"
     ]
    },
    {
     "name": "stdout",
     "output_type": "stream",
     "text": [
      "Domain loss,acc: 0.744120, 88.71% Target domain: tr_loss-0.979883, tr_acc-83.27%\n",
      "25,000c2dTruet10:85.00% | 25,000c3dFalset10:66.67%\n"
     ]
    },
    {
     "name": "stderr",
     "output_type": "stream",
     "text": [
      "\n",
      "epoch-89  lr=['0.0001000'], tr/val_loss:  0.496754/  0.978689, tr:  96.17%, val:  85.83%, val_best:  85.83%: 100%|██████████| 62/62 [00:25<00:00,  2.41it/s]"
     ]
    },
    {
     "name": "stdout",
     "output_type": "stream",
     "text": [
      "Domain loss,acc: 0.747131, 89.42% Target domain: tr_loss-0.997507, tr_acc-81.85%\n",
      "25,000c2dTruet10:85.83% | 25,000c3dFalset10:72.50%\n"
     ]
    },
    {
     "name": "stderr",
     "output_type": "stream",
     "text": [
      "\n",
      "epoch-90  lr=['0.0001000'], tr/val_loss:  0.484642/  0.994293, tr:  96.57%, val:  85.42%, val_best:  85.83%: 100%|██████████| 62/62 [00:25<00:00,  2.47it/s]"
     ]
    },
    {
     "name": "stdout",
     "output_type": "stream",
     "text": [
      "Domain loss,acc: 0.724001, 89.62% Target domain: tr_loss-0.963360, tr_acc-84.68%\n",
      "25,000c2dTruet10:85.42% | 25,000c3dFalset10:68.75%\n"
     ]
    },
    {
     "name": "stderr",
     "output_type": "stream",
     "text": [
      "\n",
      "epoch-91  lr=['0.0001000'], tr/val_loss:  0.502918/  0.995676, tr:  95.16%, val:  85.83%, val_best:  85.83%: 100%|██████████| 62/62 [00:26<00:00,  2.35it/s]"
     ]
    },
    {
     "name": "stdout",
     "output_type": "stream",
     "text": [
      "Domain loss,acc: 0.724502, 88.31% Target domain: tr_loss-0.946085, tr_acc-84.07%\n",
      "25,000c2dTruet10:85.83% | 25,000c3dFalset10:67.92%\n"
     ]
    },
    {
     "name": "stderr",
     "output_type": "stream",
     "text": [
      "\n",
      "epoch-92  lr=['0.0001000'], tr/val_loss:  0.449203/  0.993206, tr:  97.58%, val:  85.00%, val_best:  85.83%: 100%|██████████| 62/62 [00:25<00:00,  2.41it/s]"
     ]
    },
    {
     "name": "stdout",
     "output_type": "stream",
     "text": [
      "Domain loss,acc: 0.710690, 89.42% Target domain: tr_loss-0.972178, tr_acc-83.27%\n",
      "25,000c2dTruet10:85.00% | 25,000c3dFalset10:69.17%\n"
     ]
    },
    {
     "name": "stderr",
     "output_type": "stream",
     "text": [
      "\n",
      "epoch-93  lr=['0.0001000'], tr/val_loss:  0.478835/  0.981341, tr:  96.37%, val:  85.42%, val_best:  85.83%: 100%|██████████| 62/62 [00:25<00:00,  2.46it/s]"
     ]
    },
    {
     "name": "stdout",
     "output_type": "stream",
     "text": [
      "Domain loss,acc: 0.736430, 88.91% Target domain: tr_loss-0.994025, tr_acc-81.85%\n",
      "25,000c2dTruet10:85.42% | 25,000c3dFalset10:68.33%\n"
     ]
    },
    {
     "name": "stderr",
     "output_type": "stream",
     "text": [
      "\n",
      "epoch-94  lr=['0.0001000'], tr/val_loss:  0.477271/  0.997889, tr:  97.38%, val:  85.00%, val_best:  85.83%: 100%|██████████| 62/62 [00:25<00:00,  2.42it/s]"
     ]
    },
    {
     "name": "stdout",
     "output_type": "stream",
     "text": [
      "Domain loss,acc: 0.708746, 88.51% Target domain: tr_loss-0.940222, tr_acc-85.89%\n",
      "25,000c2dTruet10:85.00% | 25,000c3dFalset10:68.33%\n"
     ]
    },
    {
     "name": "stderr",
     "output_type": "stream",
     "text": [
      "\n",
      "epoch-95  lr=['0.0001000'], tr/val_loss:  0.450076/  0.984512, tr:  96.77%, val:  85.42%, val_best:  85.83%: 100%|██████████| 62/62 [00:25<00:00,  2.41it/s]"
     ]
    },
    {
     "name": "stdout",
     "output_type": "stream",
     "text": [
      "Domain loss,acc: 0.718257, 90.73% Target domain: tr_loss-0.986438, tr_acc-83.27%\n",
      "25,000c2dTruet10:85.42% | 25,000c3dFalset10:66.67%\n"
     ]
    },
    {
     "name": "stderr",
     "output_type": "stream",
     "text": [
      "\n",
      "epoch-96  lr=['0.0001000'], tr/val_loss:  0.453256/  0.974532, tr:  96.57%, val:  86.25%, val_best:  86.25%: 100%|██████████| 62/62 [00:25<00:00,  2.48it/s]"
     ]
    },
    {
     "name": "stdout",
     "output_type": "stream",
     "text": [
      "Domain loss,acc: 0.695263, 89.11% Target domain: tr_loss-0.937269, tr_acc-85.28%\n",
      "25,000c2dTruet10:86.25% | 25,000c3dFalset10:70.83%\n"
     ]
    },
    {
     "name": "stderr",
     "output_type": "stream",
     "text": [
      "\n",
      "epoch-97  lr=['0.0001000'], tr/val_loss:  0.443962/  0.988569, tr:  97.18%, val:  85.83%, val_best:  86.25%: 100%|██████████| 62/62 [00:25<00:00,  2.45it/s]"
     ]
    },
    {
     "name": "stdout",
     "output_type": "stream",
     "text": [
      "Domain loss,acc: 0.709580, 89.92% Target domain: tr_loss-0.975198, tr_acc-83.67%\n",
      "25,000c2dTruet10:85.83% | 25,000c3dFalset10:67.08%\n"
     ]
    },
    {
     "name": "stderr",
     "output_type": "stream",
     "text": [
      "\n",
      "epoch-98  lr=['0.0001000'], tr/val_loss:  0.434087/  0.976394, tr:  97.18%, val:  87.92%, val_best:  87.92%: 100%|██████████| 62/62 [00:25<00:00,  2.39it/s]"
     ]
    },
    {
     "name": "stdout",
     "output_type": "stream",
     "text": [
      "Domain loss,acc: 0.718143, 89.72% Target domain: tr_loss-1.002200, tr_acc-81.45%\n",
      "25,000c2dTruet10:87.92% | 25,000c3dFalset10:69.17%\n"
     ]
    },
    {
     "name": "stderr",
     "output_type": "stream",
     "text": [
      "\n",
      "epoch-99  lr=['0.0001000'], tr/val_loss:  0.416999/  0.992164, tr:  96.98%, val:  86.67%, val_best:  87.92%: 100%|██████████| 62/62 [00:25<00:00,  2.41it/s]"
     ]
    },
    {
     "name": "stdout",
     "output_type": "stream",
     "text": [
      "Domain loss,acc: 0.680519, 90.12% Target domain: tr_loss-0.944039, tr_acc-85.89%\n",
      "25,000c2dTruet10:86.67% | 25,000c3dFalset10:66.67%\n"
     ]
    },
    {
     "name": "stderr",
     "output_type": "stream",
     "text": [
      "\n",
      "epoch-100 lr=['0.0001000'], tr/val_loss:  0.438146/  0.987176, tr:  96.98%, val:  85.00%, val_best:  87.92%: 100%|██████████| 62/62 [00:25<00:00,  2.43it/s]"
     ]
    },
    {
     "name": "stdout",
     "output_type": "stream",
     "text": [
      "Domain loss,acc: 0.685540, 89.52% Target domain: tr_loss-0.932935, tr_acc-84.27%\n",
      "25,000c2dTruet10:85.00% | 25,000c3dFalset10:69.58%\n"
     ]
    },
    {
     "name": "stderr",
     "output_type": "stream",
     "text": [
      "\n",
      "epoch-101 lr=['0.0001000'], tr/val_loss:  0.416490/  0.986881, tr:  97.58%, val:  85.00%, val_best:  87.92%: 100%|██████████| 62/62 [00:25<00:00,  2.42it/s]"
     ]
    },
    {
     "name": "stdout",
     "output_type": "stream",
     "text": [
      "Domain loss,acc: 0.670184, 89.11% Target domain: tr_loss-0.923878, tr_acc-86.29%\n",
      "25,000c2dTruet10:85.00% | 25,000c3dFalset10:73.75%\n"
     ]
    },
    {
     "name": "stderr",
     "output_type": "stream",
     "text": [
      "\n",
      "epoch-102 lr=['0.0001000'], tr/val_loss:  0.431807/  0.981871, tr:  97.98%, val:  85.42%, val_best:  87.92%: 100%|██████████| 62/62 [00:25<00:00,  2.41it/s]"
     ]
    },
    {
     "name": "stdout",
     "output_type": "stream",
     "text": [
      "Domain loss,acc: 0.683376, 90.42% Target domain: tr_loss-0.934946, tr_acc-83.87%\n",
      "25,000c2dTruet10:85.42% | 25,000c3dFalset10:67.92%\n"
     ]
    },
    {
     "name": "stderr",
     "output_type": "stream",
     "text": [
      "\n",
      "epoch-103 lr=['0.0001000'], tr/val_loss:  0.430957/  0.982723, tr:  97.18%, val:  86.67%, val_best:  87.92%: 100%|██████████| 62/62 [00:25<00:00,  2.41it/s]"
     ]
    },
    {
     "name": "stdout",
     "output_type": "stream",
     "text": [
      "Domain loss,acc: 0.707657, 91.03% Target domain: tr_loss-0.984358, tr_acc-84.07%\n",
      "25,000c2dTruet10:86.67% | 25,000c3dFalset10:70.00%\n"
     ]
    },
    {
     "name": "stderr",
     "output_type": "stream",
     "text": [
      "\n",
      "epoch-104 lr=['0.0001000'], tr/val_loss:  0.421520/  0.980749, tr:  97.38%, val:  84.58%, val_best:  87.92%: 100%|██████████| 62/62 [00:25<00:00,  2.42it/s]"
     ]
    },
    {
     "name": "stdout",
     "output_type": "stream",
     "text": [
      "Domain loss,acc: 0.703441, 90.12% Target domain: tr_loss-0.985362, tr_acc-85.08%\n",
      "25,000c2dTruet10:84.58% | 25,000c3dFalset10:70.83%\n"
     ]
    },
    {
     "name": "stderr",
     "output_type": "stream",
     "text": [
      "\n",
      "epoch-105 lr=['0.0001000'], tr/val_loss:  0.411323/  0.974061, tr:  97.98%, val:  87.08%, val_best:  87.92%: 100%|██████████| 62/62 [00:24<00:00,  2.51it/s]"
     ]
    },
    {
     "name": "stdout",
     "output_type": "stream",
     "text": [
      "Domain loss,acc: 0.684136, 89.42% Target domain: tr_loss-0.956949, tr_acc-84.07%\n",
      "25,000c2dTruet10:87.08% | 25,000c3dFalset10:69.17%\n"
     ]
    },
    {
     "name": "stderr",
     "output_type": "stream",
     "text": [
      "\n",
      "epoch-106 lr=['0.0001000'], tr/val_loss:  0.403154/  0.989773, tr:  97.78%, val:  84.58%, val_best:  87.92%: 100%|██████████| 62/62 [00:25<00:00,  2.41it/s]"
     ]
    },
    {
     "name": "stdout",
     "output_type": "stream",
     "text": [
      "Domain loss,acc: 0.654903, 90.83% Target domain: tr_loss-0.906652, tr_acc-86.90%\n",
      "25,000c2dTruet10:84.58% | 25,000c3dFalset10:65.83%\n"
     ]
    },
    {
     "name": "stderr",
     "output_type": "stream",
     "text": [
      "\n",
      "epoch-107 lr=['0.0001000'], tr/val_loss:  0.378836/  0.988341, tr:  97.98%, val:  85.00%, val_best:  87.92%: 100%|██████████| 62/62 [00:25<00:00,  2.45it/s]"
     ]
    },
    {
     "name": "stdout",
     "output_type": "stream",
     "text": [
      "Domain loss,acc: 0.654974, 90.12% Target domain: tr_loss-0.931112, tr_acc-84.48%\n",
      "25,000c2dTruet10:85.00% | 25,000c3dFalset10:70.42%\n"
     ]
    },
    {
     "name": "stderr",
     "output_type": "stream",
     "text": [
      "\n",
      "epoch-108 lr=['0.0001000'], tr/val_loss:  0.399129/  0.986811, tr:  97.38%, val:  85.42%, val_best:  87.92%: 100%|██████████| 62/62 [00:25<00:00,  2.43it/s]"
     ]
    },
    {
     "name": "stdout",
     "output_type": "stream",
     "text": [
      "Domain loss,acc: 0.654217, 90.42% Target domain: tr_loss-0.909306, tr_acc-84.48%\n",
      "25,000c2dTruet10:85.42% | 25,000c3dFalset10:68.33%\n"
     ]
    },
    {
     "name": "stderr",
     "output_type": "stream",
     "text": [
      "\n",
      "epoch-109 lr=['0.0001000'], tr/val_loss:  0.377347/  0.966598, tr:  97.98%, val:  87.50%, val_best:  87.92%: 100%|██████████| 62/62 [00:24<00:00,  2.48it/s]"
     ]
    },
    {
     "name": "stdout",
     "output_type": "stream",
     "text": [
      "Domain loss,acc: 0.663710, 90.32% Target domain: tr_loss-0.950073, tr_acc-85.69%\n",
      "25,000c2dTruet10:87.50% | 25,000c3dFalset10:70.83%\n"
     ]
    },
    {
     "name": "stderr",
     "output_type": "stream",
     "text": [
      "\n",
      "epoch-110 lr=['0.0001000'], tr/val_loss:  0.369180/  0.965971, tr:  97.58%, val:  87.08%, val_best:  87.92%: 100%|██████████| 62/62 [00:25<00:00,  2.44it/s]"
     ]
    },
    {
     "name": "stdout",
     "output_type": "stream",
     "text": [
      "Domain loss,acc: 0.629432, 91.03% Target domain: tr_loss-0.889684, tr_acc-87.90%\n",
      "25,000c2dTruet10:87.08% | 25,000c3dFalset10:71.67%\n"
     ]
    },
    {
     "name": "stderr",
     "output_type": "stream",
     "text": [
      "\n",
      "epoch-111 lr=['0.0001000'], tr/val_loss:  0.388485/  0.969924, tr:  97.78%, val:  86.67%, val_best:  87.92%: 100%|██████████| 62/62 [00:24<00:00,  2.48it/s]"
     ]
    },
    {
     "name": "stdout",
     "output_type": "stream",
     "text": [
      "Domain loss,acc: 0.652552, 91.63% Target domain: tr_loss-0.916620, tr_acc-87.90%\n",
      "25,000c2dTruet10:86.67% | 25,000c3dFalset10:71.67%\n"
     ]
    },
    {
     "name": "stderr",
     "output_type": "stream",
     "text": [
      "\n",
      "epoch-112 lr=['0.0001000'], tr/val_loss:  0.365934/  0.988222, tr:  98.99%, val:  85.42%, val_best:  87.92%: 100%|██████████| 62/62 [00:24<00:00,  2.54it/s]"
     ]
    },
    {
     "name": "stdout",
     "output_type": "stream",
     "text": [
      "Domain loss,acc: 0.657659, 91.03% Target domain: tr_loss-0.949385, tr_acc-86.29%\n",
      "25,000c2dTruet10:85.42% | 25,000c3dFalset10:68.33%\n"
     ]
    },
    {
     "name": "stderr",
     "output_type": "stream",
     "text": [
      "\n",
      "epoch-113 lr=['0.0001000'], tr/val_loss:  0.382181/  0.985553, tr:  97.98%, val:  86.67%, val_best:  87.92%: 100%|██████████| 62/62 [00:24<00:00,  2.48it/s]"
     ]
    },
    {
     "name": "stdout",
     "output_type": "stream",
     "text": [
      "Domain loss,acc: 0.659169, 90.22% Target domain: tr_loss-0.936157, tr_acc-85.89%\n",
      "25,000c2dTruet10:86.67% | 25,000c3dFalset10:70.83%\n"
     ]
    },
    {
     "name": "stderr",
     "output_type": "stream",
     "text": [
      "\n",
      "epoch-114 lr=['0.0001000'], tr/val_loss:  0.335919/  0.974486, tr:  97.98%, val:  88.75%, val_best:  88.75%: 100%|██████████| 62/62 [00:24<00:00,  2.49it/s]"
     ]
    },
    {
     "name": "stdout",
     "output_type": "stream",
     "text": [
      "Domain loss,acc: 0.656028, 91.63% Target domain: tr_loss-0.976137, tr_acc-85.28%\n",
      "25,000c2dTruet10:88.75% | 25,000c3dFalset10:72.50%\n"
     ]
    },
    {
     "name": "stderr",
     "output_type": "stream",
     "text": [
      "\n",
      "epoch-115 lr=['0.0001000'], tr/val_loss:  0.353153/  0.977327, tr:  98.59%, val:  86.67%, val_best:  88.75%: 100%|██████████| 62/62 [00:25<00:00,  2.45it/s]"
     ]
    },
    {
     "name": "stdout",
     "output_type": "stream",
     "text": [
      "Domain loss,acc: 0.630525, 90.93% Target domain: tr_loss-0.907896, tr_acc-85.48%\n",
      "25,000c2dTruet10:86.67% | 25,000c3dFalset10:71.25%\n"
     ]
    },
    {
     "name": "stderr",
     "output_type": "stream",
     "text": [
      "\n",
      "epoch-116 lr=['0.0001000'], tr/val_loss:  0.361151/  0.982375, tr:  98.19%, val:  87.08%, val_best:  88.75%: 100%|██████████| 62/62 [00:25<00:00,  2.42it/s]"
     ]
    },
    {
     "name": "stdout",
     "output_type": "stream",
     "text": [
      "Domain loss,acc: 0.621852, 90.83% Target domain: tr_loss-0.882553, tr_acc-87.30%\n",
      "25,000c2dTruet10:87.08% | 25,000c3dFalset10:71.25%\n"
     ]
    },
    {
     "name": "stderr",
     "output_type": "stream",
     "text": [
      "\n",
      "epoch-117 lr=['0.0001000'], tr/val_loss:  0.366595/  0.971293, tr:  97.38%, val:  86.67%, val_best:  88.75%: 100%|██████████| 62/62 [00:24<00:00,  2.51it/s]"
     ]
    },
    {
     "name": "stdout",
     "output_type": "stream",
     "text": [
      "Domain loss,acc: 0.656263, 90.32% Target domain: tr_loss-0.945930, tr_acc-85.28%\n",
      "25,000c2dTruet10:86.67% | 25,000c3dFalset10:72.50%\n"
     ]
    },
    {
     "name": "stderr",
     "output_type": "stream",
     "text": [
      "\n",
      "epoch-118 lr=['0.0001000'], tr/val_loss:  0.338034/  0.976933, tr:  98.39%, val:  85.83%, val_best:  88.75%: 100%|██████████| 62/62 [00:25<00:00,  2.39it/s]"
     ]
    },
    {
     "name": "stdout",
     "output_type": "stream",
     "text": [
      "Domain loss,acc: 0.634397, 92.04% Target domain: tr_loss-0.930759, tr_acc-86.29%\n",
      "25,000c2dTruet10:85.83% | 25,000c3dFalset10:71.25%\n"
     ]
    },
    {
     "name": "stderr",
     "output_type": "stream",
     "text": [
      "\n",
      "epoch-119 lr=['0.0001000'], tr/val_loss:  0.343866/  0.972133, tr:  98.99%, val:  87.92%, val_best:  88.75%: 100%|██████████| 62/62 [00:25<00:00,  2.39it/s]"
     ]
    },
    {
     "name": "stdout",
     "output_type": "stream",
     "text": [
      "Domain loss,acc: 0.640345, 92.24% Target domain: tr_loss-0.936823, tr_acc-84.48%\n",
      "25,000c2dTruet10:87.92% | 25,000c3dFalset10:71.67%\n"
     ]
    },
    {
     "name": "stderr",
     "output_type": "stream",
     "text": [
      "\n",
      "epoch-120 lr=['0.0001000'], tr/val_loss:  0.343693/  0.975206, tr:  98.39%, val:  87.08%, val_best:  88.75%: 100%|██████████| 62/62 [00:25<00:00,  2.46it/s]"
     ]
    },
    {
     "name": "stdout",
     "output_type": "stream",
     "text": [
      "Domain loss,acc: 0.627810, 91.73% Target domain: tr_loss-0.911927, tr_acc-87.50%\n",
      "25,000c2dTruet10:87.08% | 25,000c3dFalset10:73.75%\n"
     ]
    },
    {
     "name": "stderr",
     "output_type": "stream",
     "text": [
      "\n",
      "epoch-121 lr=['0.0001000'], tr/val_loss:  0.357235/  0.983861, tr:  98.19%, val:  86.25%, val_best:  88.75%: 100%|██████████| 62/62 [00:25<00:00,  2.41it/s]"
     ]
    },
    {
     "name": "stdout",
     "output_type": "stream",
     "text": [
      "Domain loss,acc: 0.634471, 91.73% Target domain: tr_loss-0.911707, tr_acc-87.30%\n",
      "25,000c2dTruet10:86.25% | 25,000c3dFalset10:71.67%\n"
     ]
    },
    {
     "name": "stderr",
     "output_type": "stream",
     "text": [
      "\n",
      "epoch-122 lr=['0.0001000'], tr/val_loss:  0.352474/  0.980439, tr:  98.19%, val:  86.67%, val_best:  88.75%: 100%|██████████| 62/62 [00:25<00:00,  2.39it/s]"
     ]
    },
    {
     "name": "stdout",
     "output_type": "stream",
     "text": [
      "Domain loss,acc: 0.614688, 92.14% Target domain: tr_loss-0.876903, tr_acc-87.10%\n",
      "25,000c2dTruet10:86.67% | 25,000c3dFalset10:72.50%\n"
     ]
    },
    {
     "name": "stderr",
     "output_type": "stream",
     "text": [
      "\n",
      "epoch-123 lr=['0.0001000'], tr/val_loss:  0.334660/  0.971753, tr:  98.19%, val:  87.08%, val_best:  88.75%: 100%|██████████| 62/62 [00:24<00:00,  2.49it/s]"
     ]
    },
    {
     "name": "stdout",
     "output_type": "stream",
     "text": [
      "Domain loss,acc: 0.634094, 93.15% Target domain: tr_loss-0.933529, tr_acc-86.29%\n",
      "25,000c2dTruet10:87.08% | 25,000c3dFalset10:73.33%\n"
     ]
    },
    {
     "name": "stderr",
     "output_type": "stream",
     "text": [
      "\n",
      "epoch-124 lr=['0.0001000'], tr/val_loss:  0.331893/  0.972403, tr:  98.59%, val:  87.92%, val_best:  88.75%: 100%|██████████| 62/62 [00:25<00:00,  2.43it/s]"
     ]
    },
    {
     "name": "stdout",
     "output_type": "stream",
     "text": [
      "Domain loss,acc: 0.625419, 90.52% Target domain: tr_loss-0.918944, tr_acc-87.70%\n",
      "25,000c2dTruet10:87.92% | 25,000c3dFalset10:71.25%\n"
     ]
    },
    {
     "name": "stderr",
     "output_type": "stream",
     "text": [
      "\n",
      "epoch-125 lr=['0.0001000'], tr/val_loss:  0.327134/  0.982054, tr:  98.59%, val:  85.83%, val_best:  88.75%: 100%|██████████| 62/62 [00:24<00:00,  2.48it/s]"
     ]
    },
    {
     "name": "stdout",
     "output_type": "stream",
     "text": [
      "Domain loss,acc: 0.639996, 91.53% Target domain: tr_loss-0.952858, tr_acc-85.69%\n",
      "25,000c2dTruet10:85.83% | 25,000c3dFalset10:71.25%\n"
     ]
    },
    {
     "name": "stderr",
     "output_type": "stream",
     "text": [
      "\n",
      "epoch-126 lr=['0.0001000'], tr/val_loss:  0.305324/  0.969881, tr:  99.19%, val:  88.33%, val_best:  88.75%: 100%|██████████| 62/62 [00:25<00:00,  2.39it/s]"
     ]
    },
    {
     "name": "stdout",
     "output_type": "stream",
     "text": [
      "Domain loss,acc: 0.604878, 91.63% Target domain: tr_loss-0.904432, tr_acc-85.08%\n",
      "25,000c2dTruet10:88.33% | 25,000c3dFalset10:73.33%\n"
     ]
    },
    {
     "name": "stderr",
     "output_type": "stream",
     "text": [
      "\n",
      "epoch-127 lr=['0.0001000'], tr/val_loss:  0.317233/  0.969720, tr:  98.19%, val:  87.92%, val_best:  88.75%: 100%|██████████| 62/62 [00:25<00:00,  2.41it/s]"
     ]
    },
    {
     "name": "stdout",
     "output_type": "stream",
     "text": [
      "Domain loss,acc: 0.612802, 91.13% Target domain: tr_loss-0.908370, tr_acc-87.90%\n",
      "25,000c2dTruet10:87.92% | 25,000c3dFalset10:72.08%\n"
     ]
    },
    {
     "name": "stderr",
     "output_type": "stream",
     "text": [
      "\n",
      "epoch-128 lr=['0.0001000'], tr/val_loss:  0.297761/  0.969456, tr:  98.19%, val:  87.92%, val_best:  88.75%: 100%|██████████| 62/62 [00:25<00:00,  2.42it/s]"
     ]
    },
    {
     "name": "stdout",
     "output_type": "stream",
     "text": [
      "Domain loss,acc: 0.588377, 91.73% Target domain: tr_loss-0.878992, tr_acc-87.50%\n",
      "25,000c2dTruet10:87.92% | 25,000c3dFalset10:72.50%\n"
     ]
    },
    {
     "name": "stderr",
     "output_type": "stream",
     "text": [
      "\n",
      "epoch-129 lr=['0.0001000'], tr/val_loss:  0.319543/  0.973094, tr:  98.59%, val:  86.67%, val_best:  88.75%: 100%|██████████| 62/62 [00:25<00:00,  2.40it/s]"
     ]
    },
    {
     "name": "stdout",
     "output_type": "stream",
     "text": [
      "Domain loss,acc: 0.587221, 91.83% Target domain: tr_loss-0.854899, tr_acc-89.11%\n",
      "25,000c2dTruet10:86.67% | 25,000c3dFalset10:70.83%\n"
     ]
    },
    {
     "name": "stderr",
     "output_type": "stream",
     "text": [
      "\n",
      "epoch-130 lr=['0.0001000'], tr/val_loss:  0.301103/  0.988018, tr:  99.19%, val:  86.25%, val_best:  88.75%: 100%|██████████| 62/62 [00:25<00:00,  2.40it/s]"
     ]
    },
    {
     "name": "stdout",
     "output_type": "stream",
     "text": [
      "Domain loss,acc: 0.600463, 90.62% Target domain: tr_loss-0.899823, tr_acc-87.50%\n",
      "25,000c2dTruet10:86.25% | 25,000c3dFalset10:72.50%\n"
     ]
    },
    {
     "name": "stderr",
     "output_type": "stream",
     "text": [
      "\n",
      "epoch-131 lr=['0.0001000'], tr/val_loss:  0.305803/  0.987022, tr:  98.79%, val:  87.50%, val_best:  88.75%: 100%|██████████| 62/62 [00:25<00:00,  2.44it/s]"
     ]
    },
    {
     "name": "stdout",
     "output_type": "stream",
     "text": [
      "Domain loss,acc: 0.601417, 92.34% Target domain: tr_loss-0.897032, tr_acc-87.10%\n",
      "25,000c2dTruet10:87.50% | 25,000c3dFalset10:70.42%\n"
     ]
    },
    {
     "name": "stderr",
     "output_type": "stream",
     "text": [
      "\n",
      "epoch-132 lr=['0.0001000'], tr/val_loss:  0.300374/  0.984624, tr:  98.59%, val:  86.25%, val_best:  88.75%: 100%|██████████| 62/62 [00:25<00:00,  2.44it/s]"
     ]
    },
    {
     "name": "stdout",
     "output_type": "stream",
     "text": [
      "Domain loss,acc: 0.612521, 92.14% Target domain: tr_loss-0.924668, tr_acc-86.90%\n",
      "25,000c2dTruet10:86.25% | 25,000c3dFalset10:71.25%\n"
     ]
    },
    {
     "name": "stderr",
     "output_type": "stream",
     "text": [
      "\n",
      "epoch-133 lr=['0.0001000'], tr/val_loss:  0.282463/  0.975506, tr:  99.40%, val:  86.67%, val_best:  88.75%: 100%|██████████| 62/62 [00:25<00:00,  2.40it/s]"
     ]
    },
    {
     "name": "stdout",
     "output_type": "stream",
     "text": [
      "Domain loss,acc: 0.584013, 92.04% Target domain: tr_loss-0.885563, tr_acc-88.51%\n",
      "25,000c2dTruet10:86.67% | 25,000c3dFalset10:71.25%\n"
     ]
    },
    {
     "name": "stderr",
     "output_type": "stream",
     "text": [
      "\n",
      "epoch-134 lr=['0.0001000'], tr/val_loss:  0.297645/  0.970755, tr:  99.60%, val:  87.08%, val_best:  88.75%: 100%|██████████| 62/62 [00:25<00:00,  2.42it/s]"
     ]
    },
    {
     "name": "stdout",
     "output_type": "stream",
     "text": [
      "Domain loss,acc: 0.585946, 91.63% Target domain: tr_loss-0.874246, tr_acc-87.70%\n",
      "25,000c2dTruet10:87.08% | 25,000c3dFalset10:72.50%\n"
     ]
    },
    {
     "name": "stderr",
     "output_type": "stream",
     "text": [
      "\n",
      "epoch-135 lr=['0.0001000'], tr/val_loss:  0.303492/  0.991298, tr:  98.79%, val:  85.83%, val_best:  88.75%: 100%|██████████| 62/62 [00:25<00:00,  2.41it/s]"
     ]
    },
    {
     "name": "stdout",
     "output_type": "stream",
     "text": [
      "Domain loss,acc: 0.592415, 92.04% Target domain: tr_loss-0.881338, tr_acc-89.11%\n",
      "25,000c2dTruet10:85.83% | 25,000c3dFalset10:70.83%\n"
     ]
    },
    {
     "name": "stderr",
     "output_type": "stream",
     "text": [
      "\n",
      "epoch-136 lr=['0.0001000'], tr/val_loss:  0.283450/  0.982713, tr:  98.99%, val:  86.67%, val_best:  88.75%: 100%|██████████| 62/62 [00:25<00:00,  2.40it/s]"
     ]
    },
    {
     "name": "stdout",
     "output_type": "stream",
     "text": [
      "Domain loss,acc: 0.584113, 91.94% Target domain: tr_loss-0.884777, tr_acc-88.31%\n",
      "25,000c2dTruet10:86.67% | 25,000c3dFalset10:71.67%\n"
     ]
    },
    {
     "name": "stderr",
     "output_type": "stream",
     "text": [
      "\n",
      "epoch-137 lr=['0.0001000'], tr/val_loss:  0.273740/  0.983268, tr:  98.59%, val:  87.50%, val_best:  88.75%: 100%|██████████| 62/62 [00:25<00:00,  2.39it/s]"
     ]
    },
    {
     "name": "stdout",
     "output_type": "stream",
     "text": [
      "Domain loss,acc: 0.588030, 91.63% Target domain: tr_loss-0.902320, tr_acc-85.48%\n",
      "25,000c2dTruet10:87.50% | 25,000c3dFalset10:72.50%\n"
     ]
    },
    {
     "name": "stderr",
     "output_type": "stream",
     "text": [
      "\n",
      "epoch-138 lr=['0.0001000'], tr/val_loss:  0.273279/  0.990918, tr:  98.99%, val:  86.25%, val_best:  88.75%: 100%|██████████| 62/62 [00:25<00:00,  2.41it/s]"
     ]
    },
    {
     "name": "stdout",
     "output_type": "stream",
     "text": [
      "Domain loss,acc: 0.586360, 92.14% Target domain: tr_loss-0.899440, tr_acc-88.51%\n",
      "25,000c2dTruet10:86.25% | 25,000c3dFalset10:71.67%\n"
     ]
    },
    {
     "name": "stderr",
     "output_type": "stream",
     "text": [
      "\n",
      "epoch-139 lr=['0.0001000'], tr/val_loss:  0.274087/  0.972740, tr:  99.19%, val:  87.92%, val_best:  88.75%: 100%|██████████| 62/62 [00:25<00:00,  2.40it/s]"
     ]
    },
    {
     "name": "stdout",
     "output_type": "stream",
     "text": [
      "Domain loss,acc: 0.576882, 92.14% Target domain: tr_loss-0.879677, tr_acc-88.31%\n",
      "25,000c2dTruet10:87.92% | 25,000c3dFalset10:72.92%\n"
     ]
    },
    {
     "name": "stderr",
     "output_type": "stream",
     "text": [
      "\n",
      "epoch-140 lr=['0.0001000'], tr/val_loss:  0.255974/  0.972861, tr:  98.99%, val:  88.33%, val_best:  88.75%: 100%|██████████| 62/62 [00:25<00:00,  2.42it/s]"
     ]
    },
    {
     "name": "stdout",
     "output_type": "stream",
     "text": [
      "Domain loss,acc: 0.572878, 92.84% Target domain: tr_loss-0.889782, tr_acc-88.71%\n",
      "25,000c2dTruet10:88.33% | 25,000c3dFalset10:72.08%\n"
     ]
    },
    {
     "name": "stderr",
     "output_type": "stream",
     "text": [
      "\n",
      "epoch-141 lr=['0.0001000'], tr/val_loss:  0.267588/  0.992297, tr:  98.99%, val:  85.83%, val_best:  88.75%: 100%|██████████| 62/62 [00:25<00:00,  2.46it/s]"
     ]
    },
    {
     "name": "stdout",
     "output_type": "stream",
     "text": [
      "Domain loss,acc: 0.572158, 92.24% Target domain: tr_loss-0.876727, tr_acc-89.92%\n",
      "25,000c2dTruet10:85.83% | 25,000c3dFalset10:70.83%\n"
     ]
    },
    {
     "name": "stderr",
     "output_type": "stream",
     "text": [
      "\n",
      "epoch-142 lr=['0.0001000'], tr/val_loss:  0.263725/  0.979022, tr:  99.19%, val:  86.67%, val_best:  88.75%: 100%|██████████| 62/62 [00:25<00:00,  2.41it/s]"
     ]
    },
    {
     "name": "stdout",
     "output_type": "stream",
     "text": [
      "Domain loss,acc: 0.589355, 92.14% Target domain: tr_loss-0.914985, tr_acc-86.49%\n",
      "25,000c2dTruet10:86.67% | 25,000c3dFalset10:71.67%\n"
     ]
    },
    {
     "name": "stderr",
     "output_type": "stream",
     "text": [
      "\n",
      "epoch-143 lr=['0.0001000'], tr/val_loss:  0.252676/  0.984973, tr:  99.40%, val:  87.50%, val_best:  88.75%: 100%|██████████| 62/62 [00:25<00:00,  2.47it/s]"
     ]
    },
    {
     "name": "stdout",
     "output_type": "stream",
     "text": [
      "Domain loss,acc: 0.579179, 91.33% Target domain: tr_loss-0.905682, tr_acc-88.91%\n",
      "25,000c2dTruet10:87.50% | 25,000c3dFalset10:73.33%\n"
     ]
    },
    {
     "name": "stderr",
     "output_type": "stream",
     "text": [
      "\n",
      "epoch-144 lr=['0.0001000'], tr/val_loss:  0.266511/  0.984693, tr:  98.59%, val:  85.83%, val_best:  88.75%: 100%|██████████| 62/62 [00:25<00:00,  2.45it/s]"
     ]
    },
    {
     "name": "stdout",
     "output_type": "stream",
     "text": [
      "Domain loss,acc: 0.578816, 93.04% Target domain: tr_loss-0.891121, tr_acc-88.51%\n",
      "25,000c2dTruet10:85.83% | 25,000c3dFalset10:74.17%\n"
     ]
    },
    {
     "name": "stderr",
     "output_type": "stream",
     "text": [
      "\n",
      "epoch-145 lr=['0.0001000'], tr/val_loss:  0.262405/  0.983729, tr:  98.99%, val:  87.92%, val_best:  88.75%: 100%|██████████| 62/62 [00:25<00:00,  2.43it/s]"
     ]
    },
    {
     "name": "stdout",
     "output_type": "stream",
     "text": [
      "Domain loss,acc: 0.579208, 92.44% Target domain: tr_loss-0.896010, tr_acc-87.10%\n",
      "25,000c2dTruet10:87.92% | 25,000c3dFalset10:73.33%\n"
     ]
    },
    {
     "name": "stderr",
     "output_type": "stream",
     "text": [
      "\n",
      "epoch-146 lr=['0.0001000'], tr/val_loss:  0.244152/  0.986830, tr:  98.79%, val:  87.50%, val_best:  88.75%: 100%|██████████| 62/62 [00:26<00:00,  2.38it/s]"
     ]
    },
    {
     "name": "stdout",
     "output_type": "stream",
     "text": [
      "Domain loss,acc: 0.585988, 93.35% Target domain: tr_loss-0.927823, tr_acc-87.30%\n",
      "25,000c2dTruet10:87.50% | 25,000c3dFalset10:72.92%\n"
     ]
    },
    {
     "name": "stderr",
     "output_type": "stream",
     "text": [
      "\n",
      "epoch-147 lr=['0.0001000'], tr/val_loss:  0.255653/  0.961449, tr:  98.79%, val:  88.75%, val_best:  88.75%: 100%|██████████| 62/62 [00:25<00:00,  2.40it/s]"
     ]
    },
    {
     "name": "stdout",
     "output_type": "stream",
     "text": [
      "Domain loss,acc: 0.558184, 91.63% Target domain: tr_loss-0.860716, tr_acc-90.32%\n",
      "25,000c2dTruet10:88.75% | 25,000c3dFalset10:75.42%\n"
     ]
    },
    {
     "name": "stderr",
     "output_type": "stream",
     "text": [
      "\n",
      "epoch-148 lr=['0.0001000'], tr/val_loss:  0.238588/  0.969279, tr:  99.19%, val:  88.75%, val_best:  88.75%: 100%|██████████| 62/62 [00:25<00:00,  2.45it/s]"
     ]
    },
    {
     "name": "stdout",
     "output_type": "stream",
     "text": [
      "Domain loss,acc: 0.578612, 92.44% Target domain: tr_loss-0.918635, tr_acc-87.50%\n",
      "25,000c2dTruet10:88.75% | 25,000c3dFalset10:73.33%\n"
     ]
    },
    {
     "name": "stderr",
     "output_type": "stream",
     "text": [
      "\n",
      "epoch-149 lr=['0.0001000'], tr/val_loss:  0.230143/  0.999485, tr:  99.40%, val:  85.83%, val_best:  88.75%: 100%|██████████| 62/62 [00:25<00:00,  2.41it/s]"
     ]
    },
    {
     "name": "stdout",
     "output_type": "stream",
     "text": [
      "Domain loss,acc: 0.549742, 91.43% Target domain: tr_loss-0.869342, tr_acc-88.10%\n",
      "25,000c2dTruet10:85.83% | 25,000c3dFalset10:71.25%\n"
     ]
    },
    {
     "name": "stderr",
     "output_type": "stream",
     "text": [
      "\n",
      "epoch-150 lr=['0.0001000'], tr/val_loss:  0.237714/  0.982174, tr:  99.40%, val:  87.92%, val_best:  88.75%: 100%|██████████| 62/62 [00:25<00:00,  2.39it/s]"
     ]
    },
    {
     "name": "stdout",
     "output_type": "stream",
     "text": [
      "Domain loss,acc: 0.569059, 92.04% Target domain: tr_loss-0.900404, tr_acc-87.30%\n",
      "25,000c2dTruet10:87.92% | 25,000c3dFalset10:72.50%\n"
     ]
    },
    {
     "name": "stderr",
     "output_type": "stream",
     "text": [
      "\n",
      "epoch-151 lr=['0.0001000'], tr/val_loss:  0.229116/  0.986918, tr:  99.80%, val:  87.92%, val_best:  88.75%: 100%|██████████| 62/62 [00:26<00:00,  2.38it/s]"
     ]
    },
    {
     "name": "stdout",
     "output_type": "stream",
     "text": [
      "Domain loss,acc: 0.567076, 92.64% Target domain: tr_loss-0.905036, tr_acc-88.91%\n",
      "25,000c2dTruet10:87.92% | 25,000c3dFalset10:72.50%\n"
     ]
    },
    {
     "name": "stderr",
     "output_type": "stream",
     "text": [
      "\n",
      "epoch-152 lr=['0.0001000'], tr/val_loss:  0.227774/  0.985906, tr:  98.99%, val:  88.33%, val_best:  88.75%: 100%|██████████| 62/62 [00:25<00:00,  2.41it/s]"
     ]
    },
    {
     "name": "stdout",
     "output_type": "stream",
     "text": [
      "Domain loss,acc: 0.555189, 92.14% Target domain: tr_loss-0.882604, tr_acc-88.31%\n",
      "25,000c2dTruet10:88.33% | 25,000c3dFalset10:73.75%\n"
     ]
    },
    {
     "name": "stderr",
     "output_type": "stream",
     "text": [
      "\n",
      "epoch-153 lr=['0.0001000'], tr/val_loss:  0.238400/  0.975639, tr:  98.79%, val:  88.75%, val_best:  88.75%: 100%|██████████| 62/62 [00:25<00:00,  2.39it/s]"
     ]
    },
    {
     "name": "stdout",
     "output_type": "stream",
     "text": [
      "Domain loss,acc: 0.552867, 92.74% Target domain: tr_loss-0.867335, tr_acc-89.11%\n",
      "25,000c2dTruet10:88.75% | 25,000c3dFalset10:75.42%\n"
     ]
    },
    {
     "name": "stderr",
     "output_type": "stream",
     "text": [
      "\n",
      "epoch-154 lr=['0.0001000'], tr/val_loss:  0.219742/  0.986529, tr:  99.19%, val:  86.67%, val_best:  88.75%: 100%|██████████| 62/62 [00:26<00:00,  2.38it/s]"
     ]
    },
    {
     "name": "stdout",
     "output_type": "stream",
     "text": [
      "Domain loss,acc: 0.554285, 92.94% Target domain: tr_loss-0.888828, tr_acc-88.71%\n",
      "25,000c2dTruet10:86.67% | 25,000c3dFalset10:73.33%\n"
     ]
    },
    {
     "name": "stderr",
     "output_type": "stream",
     "text": [
      "\n",
      "epoch-155 lr=['0.0001000'], tr/val_loss:  0.219729/  0.979922, tr:  99.80%, val:  87.50%, val_best:  88.75%: 100%|██████████| 62/62 [00:25<00:00,  2.40it/s]"
     ]
    },
    {
     "name": "stdout",
     "output_type": "stream",
     "text": [
      "Domain loss,acc: 0.541530, 94.66% Target domain: tr_loss-0.863331, tr_acc-90.12%\n",
      "25,000c2dTruet10:87.50% | 25,000c3dFalset10:73.33%\n"
     ]
    },
    {
     "name": "stderr",
     "output_type": "stream",
     "text": [
      "\n",
      "epoch-156 lr=['0.0001000'], tr/val_loss:  0.215204/  0.988636, tr:  99.60%, val:  87.08%, val_best:  88.75%: 100%|██████████| 62/62 [00:24<00:00,  2.50it/s]"
     ]
    },
    {
     "name": "stdout",
     "output_type": "stream",
     "text": [
      "Domain loss,acc: 0.550046, 92.84% Target domain: tr_loss-0.884888, tr_acc-89.72%\n",
      "25,000c2dTruet10:87.08% | 25,000c3dFalset10:72.08%\n"
     ]
    },
    {
     "name": "stderr",
     "output_type": "stream",
     "text": [
      "\n",
      "epoch-157 lr=['0.0001000'], tr/val_loss:  0.217754/  0.991271, tr:  99.60%, val:  87.92%, val_best:  88.75%: 100%|██████████| 62/62 [00:25<00:00,  2.44it/s]"
     ]
    },
    {
     "name": "stdout",
     "output_type": "stream",
     "text": [
      "Domain loss,acc: 0.546867, 91.83% Target domain: tr_loss-0.875980, tr_acc-87.70%\n",
      "25,000c2dTruet10:87.92% | 25,000c3dFalset10:73.33%\n"
     ]
    },
    {
     "name": "stderr",
     "output_type": "stream",
     "text": [
      "\n",
      "epoch-158 lr=['0.0001000'], tr/val_loss:  0.211884/  0.993052, tr:  99.60%, val:  87.92%, val_best:  88.75%: 100%|██████████| 62/62 [00:25<00:00,  2.40it/s]"
     ]
    },
    {
     "name": "stdout",
     "output_type": "stream",
     "text": [
      "Domain loss,acc: 0.551899, 91.33% Target domain: tr_loss-0.891914, tr_acc-87.90%\n",
      "25,000c2dTruet10:87.92% | 25,000c3dFalset10:73.33%\n"
     ]
    },
    {
     "name": "stderr",
     "output_type": "stream",
     "text": [
      "\n",
      "epoch-159 lr=['0.0001000'], tr/val_loss:  0.217964/  0.981077, tr:  98.99%, val:  87.08%, val_best:  88.75%: 100%|██████████| 62/62 [00:25<00:00,  2.39it/s]"
     ]
    },
    {
     "name": "stdout",
     "output_type": "stream",
     "text": [
      "Domain loss,acc: 0.556367, 94.25% Target domain: tr_loss-0.894769, tr_acc-87.70%\n",
      "25,000c2dTruet10:87.08% | 25,000c3dFalset10:73.75%\n"
     ]
    },
    {
     "name": "stderr",
     "output_type": "stream",
     "text": [
      "\n",
      "epoch-160 lr=['0.0001000'], tr/val_loss:  0.217942/  0.991630, tr:  99.40%, val:  87.08%, val_best:  88.75%: 100%|██████████| 62/62 [00:25<00:00,  2.42it/s]"
     ]
    },
    {
     "name": "stdout",
     "output_type": "stream",
     "text": [
      "Domain loss,acc: 0.538630, 92.94% Target domain: tr_loss-0.859317, tr_acc-90.32%\n",
      "25,000c2dTruet10:87.08% | 25,000c3dFalset10:73.75%\n"
     ]
    },
    {
     "name": "stderr",
     "output_type": "stream",
     "text": [
      "\n",
      "epoch-161 lr=['0.0001000'], tr/val_loss:  0.213954/  0.981340, tr:  99.60%, val:  86.25%, val_best:  88.75%: 100%|██████████| 62/62 [00:25<00:00,  2.39it/s]"
     ]
    },
    {
     "name": "stdout",
     "output_type": "stream",
     "text": [
      "Domain loss,acc: 0.549110, 92.44% Target domain: tr_loss-0.884267, tr_acc-89.31%\n",
      "25,000c2dTruet10:86.25% | 25,000c3dFalset10:72.50%\n"
     ]
    },
    {
     "name": "stderr",
     "output_type": "stream",
     "text": [
      "\n",
      "epoch-162 lr=['0.0001000'], tr/val_loss:  0.196913/  0.988929, tr:  99.60%, val:  86.25%, val_best:  88.75%: 100%|██████████| 62/62 [00:25<00:00,  2.40it/s]"
     ]
    },
    {
     "name": "stdout",
     "output_type": "stream",
     "text": [
      "Domain loss,acc: 0.553438, 93.65% Target domain: tr_loss-0.909963, tr_acc-88.71%\n",
      "25,000c2dTruet10:86.25% | 25,000c3dFalset10:74.17%\n"
     ]
    },
    {
     "name": "stderr",
     "output_type": "stream",
     "text": [
      "\n",
      "epoch-163 lr=['0.0001000'], tr/val_loss:  0.210117/  0.974980, tr:  98.99%, val:  87.92%, val_best:  88.75%: 100%|██████████| 62/62 [00:25<00:00,  2.40it/s]"
     ]
    },
    {
     "name": "stdout",
     "output_type": "stream",
     "text": [
      "Domain loss,acc: 0.557802, 92.54% Target domain: tr_loss-0.905488, tr_acc-88.51%\n",
      "25,000c2dTruet10:87.92% | 25,000c3dFalset10:73.75%\n"
     ]
    },
    {
     "name": "stderr",
     "output_type": "stream",
     "text": [
      "\n",
      "epoch-164 lr=['0.0001000'], tr/val_loss:  0.207733/  0.986345, tr:  99.60%, val:  87.08%, val_best:  88.75%: 100%|██████████| 62/62 [00:25<00:00,  2.43it/s]"
     ]
    },
    {
     "name": "stdout",
     "output_type": "stream",
     "text": [
      "Domain loss,acc: 0.554580, 93.85% Target domain: tr_loss-0.901427, tr_acc-88.10%\n",
      "25,000c2dTruet10:87.08% | 25,000c3dFalset10:75.00%\n"
     ]
    },
    {
     "name": "stderr",
     "output_type": "stream",
     "text": [
      "\n",
      "epoch-165 lr=['0.0001000'], tr/val_loss:  0.199101/  0.991561, tr:  99.60%, val:  87.50%, val_best:  88.75%: 100%|██████████| 62/62 [00:25<00:00,  2.42it/s]"
     ]
    },
    {
     "name": "stdout",
     "output_type": "stream",
     "text": [
      "Domain loss,acc: 0.524429, 92.44% Target domain: tr_loss-0.849758, tr_acc-90.12%\n",
      "25,000c2dTruet10:87.50% | 25,000c3dFalset10:72.92%\n"
     ]
    },
    {
     "name": "stderr",
     "output_type": "stream",
     "text": [
      "\n",
      "epoch-166 lr=['0.0001000'], tr/val_loss:  0.207244/  1.001938, tr:  99.80%, val:  88.75%, val_best:  88.75%: 100%|██████████| 62/62 [00:25<00:00,  2.44it/s]"
     ]
    },
    {
     "name": "stdout",
     "output_type": "stream",
     "text": [
      "Domain loss,acc: 0.549553, 92.84% Target domain: tr_loss-0.891862, tr_acc-87.90%\n",
      "25,000c2dTruet10:88.75% | 25,000c3dFalset10:73.75%\n"
     ]
    },
    {
     "name": "stderr",
     "output_type": "stream",
     "text": [
      "\n",
      "epoch-167 lr=['0.0001000'], tr/val_loss:  0.190946/  0.991597, tr:  99.40%, val:  87.50%, val_best:  88.75%: 100%|██████████| 62/62 [00:24<00:00,  2.50it/s]"
     ]
    },
    {
     "name": "stdout",
     "output_type": "stream",
     "text": [
      "Domain loss,acc: 0.539715, 93.65% Target domain: tr_loss-0.888484, tr_acc-88.51%\n",
      "25,000c2dTruet10:87.50% | 25,000c3dFalset10:73.75%\n"
     ]
    },
    {
     "name": "stderr",
     "output_type": "stream",
     "text": [
      "\n",
      "epoch-168 lr=['0.0001000'], tr/val_loss:  0.187312/  0.987416, tr:  99.80%, val:  87.50%, val_best:  88.75%: 100%|██████████| 62/62 [00:24<00:00,  2.48it/s]"
     ]
    },
    {
     "name": "stdout",
     "output_type": "stream",
     "text": [
      "Domain loss,acc: 0.519032, 93.04% Target domain: tr_loss-0.850751, tr_acc-90.73%\n",
      "25,000c2dTruet10:87.50% | 25,000c3dFalset10:74.17%\n"
     ]
    },
    {
     "name": "stderr",
     "output_type": "stream",
     "text": [
      "\n",
      "epoch-169 lr=['0.0001000'], tr/val_loss:  0.188013/  0.986506, tr:  99.80%, val:  87.92%, val_best:  88.75%: 100%|██████████| 62/62 [00:25<00:00,  2.46it/s]"
     ]
    },
    {
     "name": "stdout",
     "output_type": "stream",
     "text": [
      "Domain loss,acc: 0.515275, 93.35% Target domain: tr_loss-0.842537, tr_acc-90.93%\n",
      "25,000c2dTruet10:87.92% | 25,000c3dFalset10:73.33%\n"
     ]
    },
    {
     "name": "stderr",
     "output_type": "stream",
     "text": [
      "\n",
      "epoch-170 lr=['0.0001000'], tr/val_loss:  0.193337/  0.981583, tr:  99.60%, val:  88.33%, val_best:  88.75%: 100%|██████████| 62/62 [00:25<00:00,  2.42it/s]"
     ]
    },
    {
     "name": "stdout",
     "output_type": "stream",
     "text": [
      "Domain loss,acc: 0.535301, 92.84% Target domain: tr_loss-0.877265, tr_acc-89.31%\n",
      "25,000c2dTruet10:88.33% | 25,000c3dFalset10:73.33%\n"
     ]
    },
    {
     "name": "stderr",
     "output_type": "stream",
     "text": [
      "\n",
      "epoch-171 lr=['0.0001000'], tr/val_loss:  0.187044/  0.998745, tr: 100.00%, val:  87.50%, val_best:  88.75%: 100%|██████████| 62/62 [00:25<00:00,  2.39it/s]"
     ]
    },
    {
     "name": "stdout",
     "output_type": "stream",
     "text": [
      "Domain loss,acc: 0.536770, 93.85% Target domain: tr_loss-0.886497, tr_acc-89.11%\n",
      "25,000c2dTruet10:87.50% | 25,000c3dFalset10:73.33%\n"
     ]
    },
    {
     "name": "stderr",
     "output_type": "stream",
     "text": [
      "\n",
      "epoch-172 lr=['0.0001000'], tr/val_loss:  0.202329/  1.001268, tr:  99.40%, val:  87.50%, val_best:  88.75%: 100%|██████████| 62/62 [00:25<00:00,  2.48it/s]"
     ]
    },
    {
     "name": "stdout",
     "output_type": "stream",
     "text": [
      "Domain loss,acc: 0.515521, 92.84% Target domain: tr_loss-0.828714, tr_acc-92.94%\n",
      "25,000c2dTruet10:87.50% | 25,000c3dFalset10:73.75%\n"
     ]
    },
    {
     "name": "stderr",
     "output_type": "stream",
     "text": [
      "\n",
      "epoch-173 lr=['0.0001000'], tr/val_loss:  0.176093/  1.010215, tr:  99.80%, val:  87.08%, val_best:  88.75%: 100%|██████████| 62/62 [00:24<00:00,  2.50it/s]"
     ]
    },
    {
     "name": "stdout",
     "output_type": "stream",
     "text": [
      "Domain loss,acc: 0.528790, 92.14% Target domain: tr_loss-0.881486, tr_acc-90.52%\n",
      "25,000c2dTruet10:87.08% | 25,000c3dFalset10:74.17%\n"
     ]
    },
    {
     "name": "stderr",
     "output_type": "stream",
     "text": [
      "\n",
      "epoch-174 lr=['0.0001000'], tr/val_loss:  0.173261/  1.011763, tr: 100.00%, val:  86.67%, val_best:  88.75%: 100%|██████████| 62/62 [00:25<00:00,  2.42it/s]"
     ]
    },
    {
     "name": "stdout",
     "output_type": "stream",
     "text": [
      "Domain loss,acc: 0.534534, 93.15% Target domain: tr_loss-0.895807, tr_acc-88.91%\n",
      "25,000c2dTruet10:86.67% | 25,000c3dFalset10:72.08%\n"
     ]
    },
    {
     "name": "stderr",
     "output_type": "stream",
     "text": [
      "\n",
      "epoch-175 lr=['0.0001000'], tr/val_loss:  0.180856/  1.012744, tr:  99.40%, val:  87.08%, val_best:  88.75%: 100%|██████████| 62/62 [00:25<00:00,  2.41it/s]"
     ]
    },
    {
     "name": "stdout",
     "output_type": "stream",
     "text": [
      "Domain loss,acc: 0.530490, 94.05% Target domain: tr_loss-0.880123, tr_acc-89.31%\n",
      "25,000c2dTruet10:87.08% | 25,000c3dFalset10:73.75%\n"
     ]
    },
    {
     "name": "stderr",
     "output_type": "stream",
     "text": [
      "\n",
      "epoch-176 lr=['0.0001000'], tr/val_loss:  0.163508/  0.990490, tr: 100.00%, val:  87.08%, val_best:  88.75%: 100%|██████████| 62/62 [00:25<00:00,  2.44it/s]"
     ]
    },
    {
     "name": "stdout",
     "output_type": "stream",
     "text": [
      "Domain loss,acc: 0.554591, 92.44% Target domain: tr_loss-0.945674, tr_acc-88.10%\n",
      "25,000c2dTruet10:87.08% | 25,000c3dFalset10:74.17%\n"
     ]
    },
    {
     "name": "stderr",
     "output_type": "stream",
     "text": [
      "\n",
      "epoch-177 lr=['0.0001000'], tr/val_loss:  0.167807/  0.994381, tr:  99.80%, val:  86.25%, val_best:  88.75%: 100%|██████████| 62/62 [00:26<00:00,  2.37it/s]"
     ]
    },
    {
     "name": "stdout",
     "output_type": "stream",
     "text": [
      "Domain loss,acc: 0.536515, 94.66% Target domain: tr_loss-0.905224, tr_acc-88.71%\n",
      "25,000c2dTruet10:86.25% | 25,000c3dFalset10:74.17%\n"
     ]
    },
    {
     "name": "stderr",
     "output_type": "stream",
     "text": [
      "\n",
      "epoch-178 lr=['0.0001000'], tr/val_loss:  0.170665/  1.006034, tr: 100.00%, val:  87.08%, val_best:  88.75%: 100%|██████████| 62/62 [00:25<00:00,  2.40it/s]"
     ]
    },
    {
     "name": "stdout",
     "output_type": "stream",
     "text": [
      "Domain loss,acc: 0.530081, 93.15% Target domain: tr_loss-0.889496, tr_acc-90.52%\n",
      "25,000c2dTruet10:87.08% | 25,000c3dFalset10:72.08%\n"
     ]
    },
    {
     "name": "stderr",
     "output_type": "stream",
     "text": [
      "\n",
      "epoch-179 lr=['0.0001000'], tr/val_loss:  0.159257/  0.995034, tr: 100.00%, val:  89.17%, val_best:  89.17%: 100%|██████████| 62/62 [00:25<00:00,  2.39it/s]"
     ]
    },
    {
     "name": "stdout",
     "output_type": "stream",
     "text": [
      "Domain loss,acc: 0.500088, 93.15% Target domain: tr_loss-0.840918, tr_acc-89.92%\n",
      "25,000c2dTruet10:89.17% | 25,000c3dFalset10:73.33%\n"
     ]
    },
    {
     "name": "stderr",
     "output_type": "stream",
     "text": [
      "\n",
      "epoch-180 lr=['0.0001000'], tr/val_loss:  0.156275/  0.995997, tr: 100.00%, val:  87.50%, val_best:  89.17%: 100%|██████████| 62/62 [00:24<00:00,  2.50it/s]"
     ]
    },
    {
     "name": "stdout",
     "output_type": "stream",
     "text": [
      "Domain loss,acc: 0.516204, 93.85% Target domain: tr_loss-0.876134, tr_acc-90.12%\n",
      "25,000c2dTruet10:87.50% | 25,000c3dFalset10:73.33%\n"
     ]
    },
    {
     "name": "stderr",
     "output_type": "stream",
     "text": [
      "\n",
      "epoch-181 lr=['0.0001000'], tr/val_loss:  0.157643/  0.997761, tr:  99.80%, val:  87.08%, val_best:  89.17%: 100%|██████████| 62/62 [00:25<00:00,  2.45it/s]"
     ]
    },
    {
     "name": "stdout",
     "output_type": "stream",
     "text": [
      "Domain loss,acc: 0.542073, 93.35% Target domain: tr_loss-0.926503, tr_acc-89.31%\n",
      "25,000c2dTruet10:87.08% | 25,000c3dFalset10:73.33%\n"
     ]
    },
    {
     "name": "stderr",
     "output_type": "stream",
     "text": [
      "\n",
      "epoch-182 lr=['0.0001000'], tr/val_loss:  0.166602/  1.008971, tr:  99.60%, val:  86.25%, val_best:  89.17%: 100%|██████████| 62/62 [00:25<00:00,  2.41it/s]"
     ]
    },
    {
     "name": "stdout",
     "output_type": "stream",
     "text": [
      "Domain loss,acc: 0.541704, 92.74% Target domain: tr_loss-0.916806, tr_acc-89.31%\n",
      "25,000c2dTruet10:86.25% | 25,000c3dFalset10:74.17%\n"
     ]
    },
    {
     "name": "stderr",
     "output_type": "stream",
     "text": [
      "\n",
      "epoch-183 lr=['0.0001000'], tr/val_loss:  0.154686/  1.008137, tr:  99.60%, val:  87.50%, val_best:  89.17%: 100%|██████████| 62/62 [00:24<00:00,  2.50it/s]"
     ]
    },
    {
     "name": "stdout",
     "output_type": "stream",
     "text": [
      "Domain loss,acc: 0.500822, 94.25% Target domain: tr_loss-0.846958, tr_acc-89.72%\n",
      "25,000c2dTruet10:87.50% | 25,000c3dFalset10:72.92%\n"
     ]
    },
    {
     "name": "stderr",
     "output_type": "stream",
     "text": [
      "\n",
      "epoch-184 lr=['0.0001000'], tr/val_loss:  0.155108/  1.000963, tr:  99.60%, val:  87.50%, val_best:  89.17%: 100%|██████████| 62/62 [00:25<00:00,  2.42it/s]"
     ]
    },
    {
     "name": "stdout",
     "output_type": "stream",
     "text": [
      "Domain loss,acc: 0.536497, 92.24% Target domain: tr_loss-0.917886, tr_acc-89.31%\n",
      "25,000c2dTruet10:87.50% | 25,000c3dFalset10:74.17%\n"
     ]
    },
    {
     "name": "stderr",
     "output_type": "stream",
     "text": [
      "\n",
      "epoch-185 lr=['0.0001000'], tr/val_loss:  0.156799/  1.010127, tr:  99.80%, val:  87.08%, val_best:  89.17%: 100%|██████████| 62/62 [00:25<00:00,  2.39it/s]"
     ]
    },
    {
     "name": "stdout",
     "output_type": "stream",
     "text": [
      "Domain loss,acc: 0.520426, 93.55% Target domain: tr_loss-0.884053, tr_acc-90.52%\n",
      "25,000c2dTruet10:87.08% | 25,000c3dFalset10:72.92%\n"
     ]
    },
    {
     "name": "stderr",
     "output_type": "stream",
     "text": [
      "\n",
      "epoch-186 lr=['0.0001000'], tr/val_loss:  0.154258/  1.012298, tr: 100.00%, val:  87.50%, val_best:  89.17%: 100%|██████████| 62/62 [00:25<00:00,  2.48it/s]"
     ]
    },
    {
     "name": "stdout",
     "output_type": "stream",
     "text": [
      "Domain loss,acc: 0.526480, 94.05% Target domain: tr_loss-0.898702, tr_acc-89.72%\n",
      "25,000c2dTruet10:87.50% | 25,000c3dFalset10:72.50%\n"
     ]
    },
    {
     "name": "stderr",
     "output_type": "stream",
     "text": [
      "\n",
      "epoch-187 lr=['0.0001000'], tr/val_loss:  0.139421/  1.016534, tr: 100.00%, val:  87.08%, val_best:  89.17%: 100%|██████████| 62/62 [00:25<00:00,  2.44it/s]"
     ]
    },
    {
     "name": "stdout",
     "output_type": "stream",
     "text": [
      "Domain loss,acc: 0.523394, 93.55% Target domain: tr_loss-0.907367, tr_acc-90.32%\n",
      "25,000c2dTruet10:87.08% | 25,000c3dFalset10:72.50%\n"
     ]
    },
    {
     "name": "stderr",
     "output_type": "stream",
     "text": [
      "\n",
      "epoch-188 lr=['0.0001000'], tr/val_loss:  0.167824/  1.007443, tr:  99.60%, val:  87.92%, val_best:  89.17%: 100%|██████████| 62/62 [00:25<00:00,  2.41it/s]"
     ]
    },
    {
     "name": "stdout",
     "output_type": "stream",
     "text": [
      "Domain loss,acc: 0.499522, 94.05% Target domain: tr_loss-0.831220, tr_acc-91.94%\n",
      "25,000c2dTruet10:87.92% | 25,000c3dFalset10:73.75%\n"
     ]
    },
    {
     "name": "stderr",
     "output_type": "stream",
     "text": [
      "\n",
      "epoch-189 lr=['0.0001000'], tr/val_loss:  0.141306/  1.009443, tr: 100.00%, val:  88.33%, val_best:  89.17%: 100%|██████████| 62/62 [00:25<00:00,  2.41it/s]"
     ]
    },
    {
     "name": "stdout",
     "output_type": "stream",
     "text": [
      "Domain loss,acc: 0.513384, 93.95% Target domain: tr_loss-0.885462, tr_acc-89.31%\n",
      "25,000c2dTruet10:88.33% | 25,000c3dFalset10:75.00%\n"
     ]
    },
    {
     "name": "stderr",
     "output_type": "stream",
     "text": [
      "\n",
      "epoch-190 lr=['0.0001000'], tr/val_loss:  0.138065/  1.023548, tr:  99.80%, val:  86.67%, val_best:  89.17%: 100%|██████████| 62/62 [00:25<00:00,  2.41it/s]"
     ]
    },
    {
     "name": "stdout",
     "output_type": "stream",
     "text": [
      "Domain loss,acc: 0.503981, 92.84% Target domain: tr_loss-0.869898, tr_acc-90.73%\n",
      "25,000c2dTruet10:86.67% | 25,000c3dFalset10:73.75%\n"
     ]
    },
    {
     "name": "stderr",
     "output_type": "stream",
     "text": [
      "\n",
      "epoch-191 lr=['0.0001000'], tr/val_loss:  0.149115/  1.009108, tr:  99.60%, val:  88.33%, val_best:  89.17%: 100%|██████████| 62/62 [00:25<00:00,  2.41it/s]"
     ]
    },
    {
     "name": "stdout",
     "output_type": "stream",
     "text": [
      "Domain loss,acc: 0.527115, 93.75% Target domain: tr_loss-0.905115, tr_acc-90.52%\n",
      "25,000c2dTruet10:88.33% | 25,000c3dFalset10:73.33%\n"
     ]
    },
    {
     "name": "stderr",
     "output_type": "stream",
     "text": [
      "\n",
      "epoch-192 lr=['0.0001000'], tr/val_loss:  0.136132/  1.013435, tr: 100.00%, val:  87.08%, val_best:  89.17%: 100%|██████████| 62/62 [00:25<00:00,  2.42it/s]"
     ]
    },
    {
     "name": "stdout",
     "output_type": "stream",
     "text": [
      "Domain loss,acc: 0.516535, 93.55% Target domain: tr_loss-0.896939, tr_acc-89.11%\n",
      "25,000c2dTruet10:87.08% | 25,000c3dFalset10:73.33%\n"
     ]
    },
    {
     "name": "stderr",
     "output_type": "stream",
     "text": [
      "\n",
      "epoch-193 lr=['0.0001000'], tr/val_loss:  0.149670/  0.993591, tr:  99.80%, val:  88.75%, val_best:  89.17%: 100%|██████████| 62/62 [00:25<00:00,  2.43it/s]"
     ]
    },
    {
     "name": "stdout",
     "output_type": "stream",
     "text": [
      "Domain loss,acc: 0.527754, 93.04% Target domain: tr_loss-0.905840, tr_acc-89.31%\n",
      "25,000c2dTruet10:88.75% | 25,000c3dFalset10:72.92%\n"
     ]
    },
    {
     "name": "stderr",
     "output_type": "stream",
     "text": [
      "\n",
      "epoch-194 lr=['0.0001000'], tr/val_loss:  0.138198/  1.016094, tr: 100.00%, val:  87.50%, val_best:  89.17%: 100%|██████████| 62/62 [00:25<00:00,  2.43it/s]"
     ]
    },
    {
     "name": "stdout",
     "output_type": "stream",
     "text": [
      "Domain loss,acc: 0.512479, 93.65% Target domain: tr_loss-0.886759, tr_acc-90.93%\n",
      "25,000c2dTruet10:87.50% | 25,000c3dFalset10:73.33%\n"
     ]
    },
    {
     "name": "stderr",
     "output_type": "stream",
     "text": [
      "\n",
      "epoch-195 lr=['0.0001000'], tr/val_loss:  0.139008/  1.010994, tr:  99.80%, val:  87.08%, val_best:  89.17%: 100%|██████████| 62/62 [00:25<00:00,  2.39it/s]"
     ]
    },
    {
     "name": "stdout",
     "output_type": "stream",
     "text": [
      "Domain loss,acc: 0.511921, 93.55% Target domain: tr_loss-0.884834, tr_acc-90.32%\n",
      "25,000c2dTruet10:87.08% | 25,000c3dFalset10:75.42%\n"
     ]
    },
    {
     "name": "stderr",
     "output_type": "stream",
     "text": [
      "\n",
      "epoch-196 lr=['0.0001000'], tr/val_loss:  0.141940/  1.011580, tr: 100.00%, val:  89.17%, val_best:  89.17%: 100%|██████████| 62/62 [00:25<00:00,  2.43it/s]"
     ]
    },
    {
     "name": "stdout",
     "output_type": "stream",
     "text": [
      "Domain loss,acc: 0.506634, 93.25% Target domain: tr_loss-0.871329, tr_acc-90.52%\n",
      "25,000c2dTruet10:89.17% | 25,000c3dFalset10:74.17%\n"
     ]
    },
    {
     "name": "stderr",
     "output_type": "stream",
     "text": [
      "\n",
      "epoch-197 lr=['0.0001000'], tr/val_loss:  0.130745/  1.018361, tr:  99.80%, val:  86.25%, val_best:  89.17%: 100%|██████████| 62/62 [00:25<00:00,  2.43it/s]"
     ]
    },
    {
     "name": "stdout",
     "output_type": "stream",
     "text": [
      "Domain loss,acc: 0.502401, 93.75% Target domain: tr_loss-0.874058, tr_acc-90.12%\n",
      "25,000c2dTruet10:86.25% | 25,000c3dFalset10:74.17%\n"
     ]
    },
    {
     "name": "stderr",
     "output_type": "stream",
     "text": [
      "\n",
      "epoch-198 lr=['0.0001000'], tr/val_loss:  0.143174/  1.001279, tr:  99.80%, val:  88.33%, val_best:  89.17%: 100%|██████████| 62/62 [00:25<00:00,  2.41it/s]"
     ]
    },
    {
     "name": "stdout",
     "output_type": "stream",
     "text": [
      "Domain loss,acc: 0.505064, 94.05% Target domain: tr_loss-0.866953, tr_acc-90.93%\n",
      "25,000c2dTruet10:88.33% | 25,000c3dFalset10:76.25%\n"
     ]
    },
    {
     "name": "stderr",
     "output_type": "stream",
     "text": [
      "\n",
      "epoch-199 lr=['0.0001000'], tr/val_loss:  0.136969/  1.017490, tr:  99.80%, val:  87.08%, val_best:  89.17%: 100%|██████████| 62/62 [00:25<00:00,  2.46it/s]"
     ]
    },
    {
     "name": "stdout",
     "output_type": "stream",
     "text": [
      "Domain loss,acc: 0.534260, 93.55% Target domain: tr_loss-0.931552, tr_acc-89.31%\n",
      "25,000c2dTruet10:87.08% | 25,000c3dFalset10:74.17%\n"
     ]
    },
    {
     "name": "stderr",
     "output_type": "stream",
     "text": [
      "\n",
      "epoch-200 lr=['0.0001000'], tr/val_loss:  0.138509/  1.030712, tr:  99.60%, val:  88.33%, val_best:  89.17%: 100%|██████████| 62/62 [00:25<00:00,  2.41it/s]"
     ]
    },
    {
     "name": "stdout",
     "output_type": "stream",
     "text": [
      "Domain loss,acc: 0.501405, 93.55% Target domain: tr_loss-0.864301, tr_acc-91.13%\n",
      "25,000c2dTruet10:88.33% | 25,000c3dFalset10:74.58%\n"
     ]
    },
    {
     "name": "stderr",
     "output_type": "stream",
     "text": [
      "\n",
      "epoch-201 lr=['0.0001000'], tr/val_loss:  0.122488/  1.015982, tr:  99.80%, val:  87.92%, val_best:  89.17%: 100%|██████████| 62/62 [00:25<00:00,  2.42it/s]"
     ]
    },
    {
     "name": "stdout",
     "output_type": "stream",
     "text": [
      "Domain loss,acc: 0.504084, 93.75% Target domain: tr_loss-0.885679, tr_acc-90.52%\n",
      "25,000c2dTruet10:87.92% | 25,000c3dFalset10:75.83%\n"
     ]
    },
    {
     "name": "stderr",
     "output_type": "stream",
     "text": [
      "\n",
      "epoch-202 lr=['0.0001000'], tr/val_loss:  0.123152/  1.019255, tr: 100.00%, val:  86.67%, val_best:  89.17%: 100%|██████████| 62/62 [00:25<00:00,  2.45it/s]"
     ]
    },
    {
     "name": "stdout",
     "output_type": "stream",
     "text": [
      "Domain loss,acc: 0.528729, 93.45% Target domain: tr_loss-0.934306, tr_acc-88.71%\n",
      "25,000c2dTruet10:86.67% | 25,000c3dFalset10:74.58%\n"
     ]
    },
    {
     "name": "stderr",
     "output_type": "stream",
     "text": [
      "\n",
      "epoch-203 lr=['0.0001000'], tr/val_loss:  0.125782/  1.028370, tr: 100.00%, val:  85.00%, val_best:  89.17%: 100%|██████████| 62/62 [00:25<00:00,  2.40it/s]"
     ]
    },
    {
     "name": "stdout",
     "output_type": "stream",
     "text": [
      "Domain loss,acc: 0.516764, 94.56% Target domain: tr_loss-0.907747, tr_acc-89.92%\n",
      "25,000c2dTruet10:85.00% | 25,000c3dFalset10:73.33%\n"
     ]
    },
    {
     "name": "stderr",
     "output_type": "stream",
     "text": [
      "\n",
      "epoch-204 lr=['0.0001000'], tr/val_loss:  0.123732/  1.016830, tr:  99.80%, val:  87.50%, val_best:  89.17%: 100%|██████████| 62/62 [00:25<00:00,  2.41it/s]"
     ]
    },
    {
     "name": "stdout",
     "output_type": "stream",
     "text": [
      "Domain loss,acc: 0.513561, 94.05% Target domain: tr_loss-0.903389, tr_acc-89.11%\n",
      "25,000c2dTruet10:87.50% | 25,000c3dFalset10:74.58%\n"
     ]
    },
    {
     "name": "stderr",
     "output_type": "stream",
     "text": [
      "\n",
      "epoch-205 lr=['0.0001000'], tr/val_loss:  0.125002/  1.027541, tr: 100.00%, val:  87.08%, val_best:  89.17%: 100%|██████████| 62/62 [00:25<00:00,  2.41it/s]"
     ]
    },
    {
     "name": "stdout",
     "output_type": "stream",
     "text": [
      "Domain loss,acc: 0.534278, 93.45% Target domain: tr_loss-0.943553, tr_acc-88.91%\n",
      "25,000c2dTruet10:87.08% | 25,000c3dFalset10:74.17%\n"
     ]
    },
    {
     "name": "stderr",
     "output_type": "stream",
     "text": [
      "\n",
      "epoch-206 lr=['0.0001000'], tr/val_loss:  0.119981/  1.026056, tr: 100.00%, val:  88.33%, val_best:  89.17%: 100%|██████████| 62/62 [00:26<00:00,  2.38it/s]"
     ]
    },
    {
     "name": "stdout",
     "output_type": "stream",
     "text": [
      "Domain loss,acc: 0.527873, 95.36% Target domain: tr_loss-0.935765, tr_acc-90.12%\n",
      "25,000c2dTruet10:88.33% | 25,000c3dFalset10:73.75%\n"
     ]
    },
    {
     "name": "stderr",
     "output_type": "stream",
     "text": [
      "\n",
      "epoch-207 lr=['0.0001000'], tr/val_loss:  0.127685/  1.027208, tr:  99.80%, val:  86.25%, val_best:  89.17%: 100%|██████████| 62/62 [00:25<00:00,  2.39it/s]"
     ]
    },
    {
     "name": "stdout",
     "output_type": "stream",
     "text": [
      "Domain loss,acc: 0.517194, 93.85% Target domain: tr_loss-0.906703, tr_acc-89.72%\n",
      "25,000c2dTruet10:86.25% | 25,000c3dFalset10:73.75%\n"
     ]
    },
    {
     "name": "stderr",
     "output_type": "stream",
     "text": [
      "\n",
      "epoch-208 lr=['0.0001000'], tr/val_loss:  0.123537/  1.017967, tr: 100.00%, val:  87.50%, val_best:  89.17%: 100%|██████████| 62/62 [00:25<00:00,  2.41it/s]"
     ]
    },
    {
     "name": "stdout",
     "output_type": "stream",
     "text": [
      "Domain loss,acc: 0.500780, 94.76% Target domain: tr_loss-0.878022, tr_acc-91.13%\n",
      "25,000c2dTruet10:87.50% | 25,000c3dFalset10:74.17%\n"
     ]
    },
    {
     "name": "stderr",
     "output_type": "stream",
     "text": [
      "\n",
      "epoch-209 lr=['0.0001000'], tr/val_loss:  0.111065/  1.015822, tr: 100.00%, val:  87.08%, val_best:  89.17%: 100%|██████████| 62/62 [00:25<00:00,  2.42it/s]"
     ]
    },
    {
     "name": "stdout",
     "output_type": "stream",
     "text": [
      "Domain loss,acc: 0.516589, 94.96% Target domain: tr_loss-0.922113, tr_acc-90.52%\n",
      "25,000c2dTruet10:87.08% | 25,000c3dFalset10:74.58%\n"
     ]
    },
    {
     "name": "stderr",
     "output_type": "stream",
     "text": [
      "\n",
      "epoch-210 lr=['0.0001000'], tr/val_loss:  0.116418/  1.016394, tr: 100.00%, val:  87.50%, val_best:  89.17%: 100%|██████████| 62/62 [00:25<00:00,  2.42it/s]"
     ]
    },
    {
     "name": "stdout",
     "output_type": "stream",
     "text": [
      "Domain loss,acc: 0.509835, 94.66% Target domain: tr_loss-0.903253, tr_acc-89.31%\n",
      "25,000c2dTruet10:87.50% | 25,000c3dFalset10:74.58%\n"
     ]
    },
    {
     "name": "stderr",
     "output_type": "stream",
     "text": [
      "\n",
      "epoch-211 lr=['0.0001000'], tr/val_loss:  0.118362/  1.037206, tr: 100.00%, val:  86.25%, val_best:  89.17%: 100%|██████████| 62/62 [00:25<00:00,  2.40it/s]"
     ]
    },
    {
     "name": "stdout",
     "output_type": "stream",
     "text": [
      "Domain loss,acc: 0.509056, 94.35% Target domain: tr_loss-0.899751, tr_acc-89.52%\n",
      "25,000c2dTruet10:86.25% | 25,000c3dFalset10:73.75%\n"
     ]
    },
    {
     "name": "stderr",
     "output_type": "stream",
     "text": [
      "\n",
      "epoch-212 lr=['0.0001000'], tr/val_loss:  0.114811/  1.020413, tr: 100.00%, val:  87.92%, val_best:  89.17%: 100%|██████████| 62/62 [00:24<00:00,  2.49it/s]"
     ]
    },
    {
     "name": "stdout",
     "output_type": "stream",
     "text": [
      "Domain loss,acc: 0.511175, 94.05% Target domain: tr_loss-0.907540, tr_acc-89.11%\n",
      "25,000c2dTruet10:87.92% | 25,000c3dFalset10:74.17%\n"
     ]
    },
    {
     "name": "stderr",
     "output_type": "stream",
     "text": [
      "\n",
      "epoch-213 lr=['0.0001000'], tr/val_loss:  0.114492/  1.032224, tr: 100.00%, val:  86.67%, val_best:  89.17%: 100%|██████████| 62/62 [00:24<00:00,  2.51it/s]"
     ]
    },
    {
     "name": "stdout",
     "output_type": "stream",
     "text": [
      "Domain loss,acc: 0.493885, 94.25% Target domain: tr_loss-0.873279, tr_acc-91.13%\n",
      "25,000c2dTruet10:86.67% | 25,000c3dFalset10:72.92%\n"
     ]
    },
    {
     "name": "stderr",
     "output_type": "stream",
     "text": [
      "\n",
      "epoch-214 lr=['0.0001000'], tr/val_loss:  0.113420/  1.027042, tr: 100.00%, val:  87.92%, val_best:  89.17%: 100%|██████████| 62/62 [00:25<00:00,  2.46it/s]"
     ]
    },
    {
     "name": "stdout",
     "output_type": "stream",
     "text": [
      "Domain loss,acc: 0.506401, 93.15% Target domain: tr_loss-0.899382, tr_acc-89.52%\n",
      "25,000c2dTruet10:87.92% | 25,000c3dFalset10:74.17%\n"
     ]
    },
    {
     "name": "stderr",
     "output_type": "stream",
     "text": [
      "\n",
      "epoch-215 lr=['0.0001000'], tr/val_loss:  0.114583/  1.032353, tr: 100.00%, val:  86.25%, val_best:  89.17%: 100%|██████████| 62/62 [00:24<00:00,  2.49it/s]"
     ]
    },
    {
     "name": "stdout",
     "output_type": "stream",
     "text": [
      "Domain loss,acc: 0.512799, 94.86% Target domain: tr_loss-0.911015, tr_acc-89.52%\n",
      "25,000c2dTruet10:86.25% | 25,000c3dFalset10:73.75%\n"
     ]
    },
    {
     "name": "stderr",
     "output_type": "stream",
     "text": [
      "\n",
      "epoch-216 lr=['0.0001000'], tr/val_loss:  0.117999/  1.038196, tr: 100.00%, val:  87.50%, val_best:  89.17%: 100%|██████████| 62/62 [00:25<00:00,  2.42it/s]"
     ]
    },
    {
     "name": "stdout",
     "output_type": "stream",
     "text": [
      "Domain loss,acc: 0.507016, 94.96% Target domain: tr_loss-0.896033, tr_acc-90.52%\n",
      "25,000c2dTruet10:87.50% | 25,000c3dFalset10:75.83%\n"
     ]
    },
    {
     "name": "stderr",
     "output_type": "stream",
     "text": [
      "\n",
      "epoch-217 lr=['0.0001000'], tr/val_loss:  0.111872/  1.027848, tr: 100.00%, val:  88.75%, val_best:  89.17%: 100%|██████████| 62/62 [00:25<00:00,  2.40it/s]"
     ]
    },
    {
     "name": "stdout",
     "output_type": "stream",
     "text": [
      "Domain loss,acc: 0.502995, 93.95% Target domain: tr_loss-0.894118, tr_acc-89.92%\n",
      "25,000c2dTruet10:88.75% | 25,000c3dFalset10:74.58%\n"
     ]
    },
    {
     "name": "stderr",
     "output_type": "stream",
     "text": [
      "\n",
      "epoch-218 lr=['0.0001000'], tr/val_loss:  0.107591/  1.035968, tr: 100.00%, val:  87.50%, val_best:  89.17%: 100%|██████████| 62/62 [00:25<00:00,  2.39it/s]"
     ]
    },
    {
     "name": "stdout",
     "output_type": "stream",
     "text": [
      "Domain loss,acc: 0.508692, 94.86% Target domain: tr_loss-0.909793, tr_acc-89.92%\n",
      "25,000c2dTruet10:87.50% | 25,000c3dFalset10:74.58%\n"
     ]
    },
    {
     "name": "stderr",
     "output_type": "stream",
     "text": [
      "\n",
      "epoch-219 lr=['0.0001000'], tr/val_loss:  0.110041/  1.025462, tr: 100.00%, val:  87.92%, val_best:  89.17%: 100%|██████████| 62/62 [00:25<00:00,  2.44it/s]"
     ]
    },
    {
     "name": "stdout",
     "output_type": "stream",
     "text": [
      "Domain loss,acc: 0.502027, 94.56% Target domain: tr_loss-0.894013, tr_acc-89.92%\n",
      "25,000c2dTruet10:87.92% | 25,000c3dFalset10:74.17%\n"
     ]
    },
    {
     "name": "stderr",
     "output_type": "stream",
     "text": [
      "\n",
      "epoch-220 lr=['0.0001000'], tr/val_loss:  0.107762/  1.031923, tr:  99.80%, val:  87.92%, val_best:  89.17%: 100%|██████████| 62/62 [00:25<00:00,  2.46it/s]"
     ]
    },
    {
     "name": "stdout",
     "output_type": "stream",
     "text": [
      "Domain loss,acc: 0.505809, 95.16% Target domain: tr_loss-0.903856, tr_acc-90.32%\n",
      "25,000c2dTruet10:87.92% | 25,000c3dFalset10:74.58%\n"
     ]
    },
    {
     "name": "stderr",
     "output_type": "stream",
     "text": [
      "\n",
      "epoch-221 lr=['0.0001000'], tr/val_loss:  0.110955/  1.030198, tr: 100.00%, val:  87.08%, val_best:  89.17%: 100%|██████████| 62/62 [00:24<00:00,  2.50it/s]"
     ]
    },
    {
     "name": "stdout",
     "output_type": "stream",
     "text": [
      "Domain loss,acc: 0.532813, 95.46% Target domain: tr_loss-0.954671, tr_acc-89.92%\n",
      "25,000c2dTruet10:87.08% | 25,000c3dFalset10:74.17%\n"
     ]
    },
    {
     "name": "stderr",
     "output_type": "stream",
     "text": [
      "\n",
      "epoch-222 lr=['0.0001000'], tr/val_loss:  0.098124/  1.012911, tr: 100.00%, val:  87.92%, val_best:  89.17%: 100%|██████████| 62/62 [00:25<00:00,  2.42it/s]"
     ]
    },
    {
     "name": "stdout",
     "output_type": "stream",
     "text": [
      "Domain loss,acc: 0.489800, 94.96% Target domain: tr_loss-0.881477, tr_acc-91.13%\n",
      "25,000c2dTruet10:87.92% | 25,000c3dFalset10:74.17%\n"
     ]
    },
    {
     "name": "stderr",
     "output_type": "stream",
     "text": [
      "\n",
      "epoch-223 lr=['0.0001000'], tr/val_loss:  0.099300/  1.019564, tr: 100.00%, val:  87.92%, val_best:  89.17%: 100%|██████████| 62/62 [00:25<00:00,  2.39it/s]"
     ]
    },
    {
     "name": "stdout",
     "output_type": "stream",
     "text": [
      "Domain loss,acc: 0.492895, 94.96% Target domain: tr_loss-0.886491, tr_acc-90.73%\n",
      "25,000c2dTruet10:87.92% | 25,000c3dFalset10:75.00%\n"
     ]
    },
    {
     "name": "stderr",
     "output_type": "stream",
     "text": [
      "\n",
      "epoch-224 lr=['0.0001000'], tr/val_loss:  0.106858/  1.034685, tr: 100.00%, val:  87.92%, val_best:  89.17%: 100%|██████████| 62/62 [00:25<00:00,  2.44it/s]"
     ]
    },
    {
     "name": "stdout",
     "output_type": "stream",
     "text": [
      "Domain loss,acc: 0.500798, 93.65% Target domain: tr_loss-0.894739, tr_acc-91.13%\n",
      "25,000c2dTruet10:87.92% | 25,000c3dFalset10:74.17%\n"
     ]
    },
    {
     "name": "stderr",
     "output_type": "stream",
     "text": [
      "\n",
      "epoch-225 lr=['0.0001000'], tr/val_loss:  0.108528/  1.039910, tr: 100.00%, val:  87.92%, val_best:  89.17%: 100%|██████████| 62/62 [00:25<00:00,  2.45it/s]"
     ]
    },
    {
     "name": "stdout",
     "output_type": "stream",
     "text": [
      "Domain loss,acc: 0.511275, 94.56% Target domain: tr_loss-0.914022, tr_acc-91.13%\n",
      "25,000c2dTruet10:87.92% | 25,000c3dFalset10:75.00%\n"
     ]
    },
    {
     "name": "stderr",
     "output_type": "stream",
     "text": [
      "\n",
      "epoch-226 lr=['0.0001000'], tr/val_loss:  0.106365/  1.040693, tr: 100.00%, val:  87.08%, val_best:  89.17%: 100%|██████████| 62/62 [00:25<00:00,  2.43it/s]"
     ]
    },
    {
     "name": "stdout",
     "output_type": "stream",
     "text": [
      "Domain loss,acc: 0.492877, 94.86% Target domain: tr_loss-0.879389, tr_acc-90.73%\n",
      "25,000c2dTruet10:87.08% | 25,000c3dFalset10:75.00%\n"
     ]
    },
    {
     "name": "stderr",
     "output_type": "stream",
     "text": [
      "\n",
      "epoch-227 lr=['0.0001000'], tr/val_loss:  0.102188/  1.032485, tr: 100.00%, val:  87.50%, val_best:  89.17%: 100%|██████████| 62/62 [00:25<00:00,  2.41it/s]"
     ]
    },
    {
     "name": "stdout",
     "output_type": "stream",
     "text": [
      "Domain loss,acc: 0.511161, 95.46% Target domain: tr_loss-0.920134, tr_acc-90.52%\n",
      "25,000c2dTruet10:87.50% | 25,000c3dFalset10:74.17%\n"
     ]
    },
    {
     "name": "stderr",
     "output_type": "stream",
     "text": [
      "\n",
      "epoch-228 lr=['0.0001000'], tr/val_loss:  0.098722/  1.039228, tr:  99.80%, val:  87.08%, val_best:  89.17%: 100%|██████████| 62/62 [00:25<00:00,  2.42it/s]"
     ]
    },
    {
     "name": "stdout",
     "output_type": "stream",
     "text": [
      "Domain loss,acc: 0.501750, 93.95% Target domain: tr_loss-0.904778, tr_acc-90.73%\n",
      "25,000c2dTruet10:87.08% | 25,000c3dFalset10:75.42%\n"
     ]
    },
    {
     "name": "stderr",
     "output_type": "stream",
     "text": [
      "\n",
      "epoch-229 lr=['0.0001000'], tr/val_loss:  0.097020/  1.039877, tr: 100.00%, val:  86.67%, val_best:  89.17%: 100%|██████████| 62/62 [00:25<00:00,  2.45it/s]"
     ]
    },
    {
     "name": "stdout",
     "output_type": "stream",
     "text": [
      "Domain loss,acc: 0.510510, 93.65% Target domain: tr_loss-0.924000, tr_acc-89.11%\n",
      "25,000c2dTruet10:86.67% | 25,000c3dFalset10:75.00%\n"
     ]
    },
    {
     "name": "stderr",
     "output_type": "stream",
     "text": [
      "\n",
      "epoch-230 lr=['0.0001000'], tr/val_loss:  0.101874/  1.040853, tr: 100.00%, val:  87.08%, val_best:  89.17%: 100%|██████████| 62/62 [00:25<00:00,  2.41it/s]"
     ]
    },
    {
     "name": "stdout",
     "output_type": "stream",
     "text": [
      "Domain loss,acc: 0.475084, 95.06% Target domain: tr_loss-0.848293, tr_acc-91.53%\n",
      "25,000c2dTruet10:87.08% | 25,000c3dFalset10:73.75%\n"
     ]
    },
    {
     "name": "stderr",
     "output_type": "stream",
     "text": [
      "\n",
      "epoch-231 lr=['0.0001000'], tr/val_loss:  0.106930/  1.037475, tr: 100.00%, val:  86.67%, val_best:  89.17%: 100%|██████████| 62/62 [00:25<00:00,  2.46it/s]"
     ]
    },
    {
     "name": "stdout",
     "output_type": "stream",
     "text": [
      "Domain loss,acc: 0.522444, 94.46% Target domain: tr_loss-0.937957, tr_acc-90.52%\n",
      "25,000c2dTruet10:86.67% | 25,000c3dFalset10:76.25%\n"
     ]
    },
    {
     "name": "stderr",
     "output_type": "stream",
     "text": [
      "\n",
      "epoch-232 lr=['0.0001000'], tr/val_loss:  0.091729/  1.048085, tr: 100.00%, val:  87.92%, val_best:  89.17%: 100%|██████████| 62/62 [00:25<00:00,  2.42it/s]"
     ]
    },
    {
     "name": "stdout",
     "output_type": "stream",
     "text": [
      "Domain loss,acc: 0.490746, 95.46% Target domain: tr_loss-0.889763, tr_acc-91.53%\n",
      "25,000c2dTruet10:87.92% | 25,000c3dFalset10:73.33%\n"
     ]
    },
    {
     "name": "stderr",
     "output_type": "stream",
     "text": [
      "\n",
      "epoch-233 lr=['0.0001000'], tr/val_loss:  0.091991/  1.042379, tr: 100.00%, val:  87.08%, val_best:  89.17%: 100%|██████████| 62/62 [00:25<00:00,  2.39it/s]"
     ]
    },
    {
     "name": "stdout",
     "output_type": "stream",
     "text": [
      "Domain loss,acc: 0.522059, 95.06% Target domain: tr_loss-0.952127, tr_acc-89.31%\n",
      "25,000c2dTruet10:87.08% | 25,000c3dFalset10:74.58%\n"
     ]
    },
    {
     "name": "stderr",
     "output_type": "stream",
     "text": [
      "\n",
      "epoch-234 lr=['0.0001000'], tr/val_loss:  0.092725/  1.039066, tr: 100.00%, val:  87.50%, val_best:  89.17%: 100%|██████████| 62/62 [00:24<00:00,  2.49it/s]"
     ]
    },
    {
     "name": "stdout",
     "output_type": "stream",
     "text": [
      "Domain loss,acc: 0.482754, 94.35% Target domain: tr_loss-0.872783, tr_acc-91.13%\n",
      "25,000c2dTruet10:87.50% | 25,000c3dFalset10:74.58%\n"
     ]
    },
    {
     "name": "stderr",
     "output_type": "stream",
     "text": [
      "\n",
      "epoch-235 lr=['0.0001000'], tr/val_loss:  0.086502/  1.052314, tr: 100.00%, val:  87.08%, val_best:  89.17%: 100%|██████████| 62/62 [00:25<00:00,  2.40it/s]"
     ]
    },
    {
     "name": "stdout",
     "output_type": "stream",
     "text": [
      "Domain loss,acc: 0.493797, 94.46% Target domain: tr_loss-0.901091, tr_acc-90.52%\n",
      "25,000c2dTruet10:87.08% | 25,000c3dFalset10:74.17%\n"
     ]
    },
    {
     "name": "stderr",
     "output_type": "stream",
     "text": [
      "\n",
      "epoch-236 lr=['0.0001000'], tr/val_loss:  0.091666/  1.056053, tr: 100.00%, val:  87.50%, val_best:  89.17%: 100%|██████████| 62/62 [00:25<00:00,  2.42it/s]"
     ]
    },
    {
     "name": "stdout",
     "output_type": "stream",
     "text": [
      "Domain loss,acc: 0.491851, 93.45% Target domain: tr_loss-0.892037, tr_acc-90.73%\n",
      "25,000c2dTruet10:87.50% | 25,000c3dFalset10:73.33%\n"
     ]
    },
    {
     "name": "stderr",
     "output_type": "stream",
     "text": [
      "\n",
      "epoch-237 lr=['0.0001000'], tr/val_loss:  0.088677/  1.046666, tr: 100.00%, val:  87.50%, val_best:  89.17%: 100%|██████████| 62/62 [00:25<00:00,  2.43it/s]"
     ]
    },
    {
     "name": "stdout",
     "output_type": "stream",
     "text": [
      "Domain loss,acc: 0.496382, 94.66% Target domain: tr_loss-0.904088, tr_acc-90.93%\n",
      "25,000c2dTruet10:87.50% | 25,000c3dFalset10:76.25%\n"
     ]
    },
    {
     "name": "stderr",
     "output_type": "stream",
     "text": [
      "\n",
      "epoch-238 lr=['0.0001000'], tr/val_loss:  0.080794/  1.048539, tr: 100.00%, val:  87.92%, val_best:  89.17%: 100%|██████████| 62/62 [00:25<00:00,  2.43it/s]"
     ]
    },
    {
     "name": "stdout",
     "output_type": "stream",
     "text": [
      "Domain loss,acc: 0.465234, 94.25% Target domain: tr_loss-0.849674, tr_acc-91.73%\n",
      "25,000c2dTruet10:87.92% | 25,000c3dFalset10:74.17%\n"
     ]
    },
    {
     "name": "stderr",
     "output_type": "stream",
     "text": [
      "\n",
      "epoch-239 lr=['0.0001000'], tr/val_loss:  0.088570/  1.035375, tr: 100.00%, val:  87.92%, val_best:  89.17%: 100%|██████████| 62/62 [00:25<00:00,  2.40it/s]"
     ]
    },
    {
     "name": "stdout",
     "output_type": "stream",
     "text": [
      "Domain loss,acc: 0.499686, 93.75% Target domain: tr_loss-0.910803, tr_acc-89.52%\n",
      "25,000c2dTruet10:87.92% | 25,000c3dFalset10:75.00%\n"
     ]
    },
    {
     "name": "stderr",
     "output_type": "stream",
     "text": [
      "\n",
      "epoch-240 lr=['0.0001000'], tr/val_loss:  0.091438/  1.034243, tr:  99.80%, val:  87.92%, val_best:  89.17%: 100%|██████████| 62/62 [00:25<00:00,  2.47it/s]"
     ]
    },
    {
     "name": "stdout",
     "output_type": "stream",
     "text": [
      "Domain loss,acc: 0.475825, 94.66% Target domain: tr_loss-0.860211, tr_acc-92.34%\n",
      "25,000c2dTruet10:87.92% | 25,000c3dFalset10:72.92%\n"
     ]
    },
    {
     "name": "stderr",
     "output_type": "stream",
     "text": [
      "\n",
      "epoch-241 lr=['0.0001000'], tr/val_loss:  0.084800/  1.040038, tr: 100.00%, val:  87.50%, val_best:  89.17%: 100%|██████████| 62/62 [00:25<00:00,  2.40it/s]"
     ]
    },
    {
     "name": "stdout",
     "output_type": "stream",
     "text": [
      "Domain loss,acc: 0.484231, 94.76% Target domain: tr_loss-0.883663, tr_acc-91.94%\n",
      "25,000c2dTruet10:87.50% | 25,000c3dFalset10:74.58%\n"
     ]
    },
    {
     "name": "stderr",
     "output_type": "stream",
     "text": [
      "\n",
      "epoch-242 lr=['0.0001000'], tr/val_loss:  0.087263/  1.059304, tr: 100.00%, val:  87.08%, val_best:  89.17%: 100%|██████████| 62/62 [00:25<00:00,  2.45it/s]"
     ]
    },
    {
     "name": "stdout",
     "output_type": "stream",
     "text": [
      "Domain loss,acc: 0.482442, 94.56% Target domain: tr_loss-0.877621, tr_acc-91.13%\n",
      "25,000c2dTruet10:87.08% | 25,000c3dFalset10:73.75%\n"
     ]
    },
    {
     "name": "stderr",
     "output_type": "stream",
     "text": [
      "\n",
      "epoch-243 lr=['0.0001000'], tr/val_loss:  0.086958/  1.057481, tr: 100.00%, val:  87.50%, val_best:  89.17%: 100%|██████████| 62/62 [00:26<00:00,  2.38it/s]"
     ]
    },
    {
     "name": "stdout",
     "output_type": "stream",
     "text": [
      "Domain loss,acc: 0.483649, 94.76% Target domain: tr_loss-0.880340, tr_acc-91.73%\n",
      "25,000c2dTruet10:87.50% | 25,000c3dFalset10:74.17%\n"
     ]
    },
    {
     "name": "stderr",
     "output_type": "stream",
     "text": [
      "\n",
      "epoch-244 lr=['0.0001000'], tr/val_loss:  0.082267/  1.045824, tr: 100.00%, val:  89.17%, val_best:  89.17%: 100%|██████████| 62/62 [00:25<00:00,  2.39it/s]"
     ]
    },
    {
     "name": "stdout",
     "output_type": "stream",
     "text": [
      "Domain loss,acc: 0.494402, 93.85% Target domain: tr_loss-0.906537, tr_acc-90.93%\n",
      "25,000c2dTruet10:89.17% | 25,000c3dFalset10:74.17%\n"
     ]
    },
    {
     "name": "stderr",
     "output_type": "stream",
     "text": [
      "\n",
      "epoch-245 lr=['0.0001000'], tr/val_loss:  0.083796/  1.086879, tr: 100.00%, val:  85.42%, val_best:  89.17%: 100%|██████████| 62/62 [00:25<00:00,  2.45it/s]"
     ]
    },
    {
     "name": "stdout",
     "output_type": "stream",
     "text": [
      "Domain loss,acc: 0.466472, 94.15% Target domain: tr_loss-0.849148, tr_acc-92.14%\n",
      "25,000c2dTruet10:85.42% | 25,000c3dFalset10:76.25%\n"
     ]
    },
    {
     "name": "stderr",
     "output_type": "stream",
     "text": [
      "\n",
      "epoch-246 lr=['0.0001000'], tr/val_loss:  0.078890/  1.065696, tr: 100.00%, val:  87.08%, val_best:  89.17%: 100%|██████████| 62/62 [00:25<00:00,  2.41it/s]"
     ]
    },
    {
     "name": "stdout",
     "output_type": "stream",
     "text": [
      "Domain loss,acc: 0.444327, 94.05% Target domain: tr_loss-0.809765, tr_acc-91.33%\n",
      "25,000c2dTruet10:87.08% | 25,000c3dFalset10:74.17%\n"
     ]
    },
    {
     "name": "stderr",
     "output_type": "stream",
     "text": [
      "\n",
      "epoch-247 lr=['0.0001000'], tr/val_loss:  0.092121/  1.069052, tr: 100.00%, val:  87.08%, val_best:  89.17%: 100%|██████████| 62/62 [00:25<00:00,  2.42it/s]"
     ]
    },
    {
     "name": "stdout",
     "output_type": "stream",
     "text": [
      "Domain loss,acc: 0.471217, 94.15% Target domain: tr_loss-0.850312, tr_acc-93.35%\n",
      "25,000c2dTruet10:87.08% | 25,000c3dFalset10:72.92%\n"
     ]
    },
    {
     "name": "stderr",
     "output_type": "stream",
     "text": [
      "\n",
      "epoch-248 lr=['0.0001000'], tr/val_loss:  0.079635/  1.073060, tr: 100.00%, val:  86.67%, val_best:  89.17%: 100%|██████████| 62/62 [00:25<00:00,  2.40it/s]"
     ]
    },
    {
     "name": "stdout",
     "output_type": "stream",
     "text": [
      "Domain loss,acc: 0.485290, 94.66% Target domain: tr_loss-0.890945, tr_acc-91.53%\n",
      "25,000c2dTruet10:86.67% | 25,000c3dFalset10:75.42%\n"
     ]
    },
    {
     "name": "stderr",
     "output_type": "stream",
     "text": [
      "\n",
      "epoch-249 lr=['0.0001000'], tr/val_loss:  0.077378/  1.051582, tr: 100.00%, val:  87.92%, val_best:  89.17%: 100%|██████████| 62/62 [00:26<00:00,  2.37it/s]"
     ]
    },
    {
     "name": "stdout",
     "output_type": "stream",
     "text": [
      "Domain loss,acc: 0.478697, 94.86% Target domain: tr_loss-0.880016, tr_acc-90.93%\n",
      "25,000c2dTruet10:87.92% | 25,000c3dFalset10:71.67%\n"
     ]
    },
    {
     "name": "stderr",
     "output_type": "stream",
     "text": [
      "\n",
      "epoch-250 lr=['0.0001000'], tr/val_loss:  0.082045/  1.055240, tr: 100.00%, val:  88.33%, val_best:  89.17%: 100%|██████████| 62/62 [00:25<00:00,  2.41it/s]"
     ]
    },
    {
     "name": "stdout",
     "output_type": "stream",
     "text": [
      "Domain loss,acc: 0.473116, 95.46% Target domain: tr_loss-0.864187, tr_acc-92.34%\n",
      "25,000c2dTruet10:88.33% | 25,000c3dFalset10:73.75%\n"
     ]
    },
    {
     "name": "stderr",
     "output_type": "stream",
     "text": [
      "\n",
      "epoch-251 lr=['0.0001000'], tr/val_loss:  0.081333/  1.059081, tr: 100.00%, val:  87.08%, val_best:  89.17%: 100%|██████████| 62/62 [00:25<00:00,  2.40it/s]"
     ]
    },
    {
     "name": "stdout",
     "output_type": "stream",
     "text": [
      "Domain loss,acc: 0.485923, 94.76% Target domain: tr_loss-0.890513, tr_acc-91.33%\n",
      "25,000c2dTruet10:87.08% | 25,000c3dFalset10:75.00%\n"
     ]
    },
    {
     "name": "stderr",
     "output_type": "stream",
     "text": [
      "\n",
      "epoch-252 lr=['0.0001000'], tr/val_loss:  0.070657/  1.067192, tr: 100.00%, val:  87.92%, val_best:  89.17%: 100%|██████████| 62/62 [00:25<00:00,  2.40it/s]"
     ]
    },
    {
     "name": "stdout",
     "output_type": "stream",
     "text": [
      "Domain loss,acc: 0.474012, 94.86% Target domain: tr_loss-0.877367, tr_acc-92.54%\n",
      "25,000c2dTruet10:87.92% | 25,000c3dFalset10:73.33%\n"
     ]
    },
    {
     "name": "stderr",
     "output_type": "stream",
     "text": [
      "\n",
      "epoch-253 lr=['0.0001000'], tr/val_loss:  0.081959/  1.068796, tr: 100.00%, val:  87.08%, val_best:  89.17%: 100%|██████████| 62/62 [00:25<00:00,  2.40it/s]"
     ]
    },
    {
     "name": "stdout",
     "output_type": "stream",
     "text": [
      "Domain loss,acc: 0.482153, 94.25% Target domain: tr_loss-0.882348, tr_acc-90.73%\n",
      "25,000c2dTruet10:87.08% | 25,000c3dFalset10:73.33%\n"
     ]
    },
    {
     "name": "stderr",
     "output_type": "stream",
     "text": [
      "\n",
      "epoch-254 lr=['0.0001000'], tr/val_loss:  0.081560/  1.063747, tr: 100.00%, val:  87.08%, val_best:  89.17%: 100%|██████████| 62/62 [00:25<00:00,  2.41it/s]"
     ]
    },
    {
     "name": "stdout",
     "output_type": "stream",
     "text": [
      "Domain loss,acc: 0.495026, 94.76% Target domain: tr_loss-0.908493, tr_acc-90.73%\n",
      "25,000c2dTruet10:87.08% | 25,000c3dFalset10:75.00%\n"
     ]
    },
    {
     "name": "stderr",
     "output_type": "stream",
     "text": [
      "\n",
      "epoch-255 lr=['0.0001000'], tr/val_loss:  0.078049/  1.075959, tr: 100.00%, val:  86.67%, val_best:  89.17%: 100%|██████████| 62/62 [00:25<00:00,  2.40it/s]"
     ]
    },
    {
     "name": "stdout",
     "output_type": "stream",
     "text": [
      "Domain loss,acc: 0.480177, 94.35% Target domain: tr_loss-0.882306, tr_acc-91.94%\n",
      "25,000c2dTruet10:86.67% | 25,000c3dFalset10:74.17%\n"
     ]
    },
    {
     "name": "stderr",
     "output_type": "stream",
     "text": [
      "\n",
      "epoch-256 lr=['0.0001000'], tr/val_loss:  0.072582/  1.070864, tr: 100.00%, val:  88.33%, val_best:  89.17%: 100%|██████████| 62/62 [00:25<00:00,  2.43it/s]"
     ]
    },
    {
     "name": "stdout",
     "output_type": "stream",
     "text": [
      "Domain loss,acc: 0.498310, 95.16% Target domain: tr_loss-0.924038, tr_acc-91.94%\n",
      "25,000c2dTruet10:88.33% | 25,000c3dFalset10:73.75%\n"
     ]
    },
    {
     "name": "stderr",
     "output_type": "stream",
     "text": [
      "\n",
      "epoch-257 lr=['0.0001000'], tr/val_loss:  0.079544/  1.061881, tr: 100.00%, val:  89.58%, val_best:  89.58%: 100%|██████████| 62/62 [00:25<00:00,  2.48it/s]"
     ]
    },
    {
     "name": "stdout",
     "output_type": "stream",
     "text": [
      "Domain loss,acc: 0.471398, 94.35% Target domain: tr_loss-0.863251, tr_acc-91.73%\n",
      "25,000c2dTruet10:89.58% | 25,000c3dFalset10:74.17%\n"
     ]
    },
    {
     "name": "stderr",
     "output_type": "stream",
     "text": [
      "\n",
      "epoch-258 lr=['0.0001000'], tr/val_loss:  0.078596/  1.082751, tr: 100.00%, val:  87.08%, val_best:  89.58%: 100%|██████████| 62/62 [00:26<00:00,  2.38it/s]"
     ]
    },
    {
     "name": "stdout",
     "output_type": "stream",
     "text": [
      "Domain loss,acc: 0.510307, 94.86% Target domain: tr_loss-0.942018, tr_acc-90.93%\n",
      "25,000c2dTruet10:87.08% | 25,000c3dFalset10:73.33%\n"
     ]
    },
    {
     "name": "stderr",
     "output_type": "stream",
     "text": [
      "\n",
      "epoch-259 lr=['0.0001000'], tr/val_loss:  0.076470/  1.079124, tr: 100.00%, val:  88.33%, val_best:  89.58%: 100%|██████████| 62/62 [00:25<00:00,  2.42it/s]"
     ]
    },
    {
     "name": "stdout",
     "output_type": "stream",
     "text": [
      "Domain loss,acc: 0.510363, 95.77% Target domain: tr_loss-0.944257, tr_acc-89.72%\n",
      "25,000c2dTruet10:88.33% | 25,000c3dFalset10:74.58%\n"
     ]
    },
    {
     "name": "stderr",
     "output_type": "stream",
     "text": [
      "\n",
      "epoch-260 lr=['0.0001000'], tr/val_loss:  0.077471/  1.076501, tr: 100.00%, val:  87.08%, val_best:  89.58%: 100%|██████████| 62/62 [00:25<00:00,  2.39it/s]"
     ]
    },
    {
     "name": "stdout",
     "output_type": "stream",
     "text": [
      "Domain loss,acc: 0.470070, 94.15% Target domain: tr_loss-0.862669, tr_acc-92.54%\n",
      "25,000c2dTruet10:87.08% | 25,000c3dFalset10:75.83%\n"
     ]
    },
    {
     "name": "stderr",
     "output_type": "stream",
     "text": [
      "\n",
      "epoch-261 lr=['0.0001000'], tr/val_loss:  0.064698/  1.064495, tr: 100.00%, val:  87.08%, val_best:  89.58%: 100%|██████████| 62/62 [00:25<00:00,  2.41it/s]"
     ]
    },
    {
     "name": "stdout",
     "output_type": "stream",
     "text": [
      "Domain loss,acc: 0.496311, 94.96% Target domain: tr_loss-0.927923, tr_acc-90.32%\n",
      "25,000c2dTruet10:87.08% | 25,000c3dFalset10:74.58%\n"
     ]
    },
    {
     "name": "stderr",
     "output_type": "stream",
     "text": [
      "\n",
      "epoch-262 lr=['0.0001000'], tr/val_loss:  0.070129/  1.065114, tr: 100.00%, val:  87.92%, val_best:  89.58%: 100%|██████████| 62/62 [00:25<00:00,  2.42it/s]"
     ]
    },
    {
     "name": "stdout",
     "output_type": "stream",
     "text": [
      "Domain loss,acc: 0.453869, 95.56% Target domain: tr_loss-0.837610, tr_acc-93.75%\n",
      "25,000c2dTruet10:87.92% | 25,000c3dFalset10:75.42%\n"
     ]
    },
    {
     "name": "stderr",
     "output_type": "stream",
     "text": [
      "\n",
      "epoch-263 lr=['0.0001000'], tr/val_loss:  0.072371/  1.069669, tr: 100.00%, val:  87.50%, val_best:  89.58%: 100%|██████████| 62/62 [00:26<00:00,  2.38it/s]"
     ]
    },
    {
     "name": "stdout",
     "output_type": "stream",
     "text": [
      "Domain loss,acc: 0.506067, 95.26% Target domain: tr_loss-0.939763, tr_acc-90.93%\n",
      "25,000c2dTruet10:87.50% | 25,000c3dFalset10:74.17%\n"
     ]
    },
    {
     "name": "stderr",
     "output_type": "stream",
     "text": [
      "\n",
      "epoch-264 lr=['0.0001000'], tr/val_loss:  0.071216/  1.074759, tr: 100.00%, val:  87.92%, val_best:  89.58%: 100%|██████████| 62/62 [00:25<00:00,  2.40it/s]"
     ]
    },
    {
     "name": "stdout",
     "output_type": "stream",
     "text": [
      "Domain loss,acc: 0.499255, 95.87% Target domain: tr_loss-0.927294, tr_acc-90.12%\n",
      "25,000c2dTruet10:87.92% | 25,000c3dFalset10:74.58%\n"
     ]
    },
    {
     "name": "stderr",
     "output_type": "stream",
     "text": [
      "\n",
      "epoch-265 lr=['0.0001000'], tr/val_loss:  0.068445/  1.077523, tr: 100.00%, val:  85.83%, val_best:  89.58%: 100%|██████████| 62/62 [00:25<00:00,  2.42it/s]"
     ]
    },
    {
     "name": "stdout",
     "output_type": "stream",
     "text": [
      "Domain loss,acc: 0.486606, 96.37% Target domain: tr_loss-0.904766, tr_acc-92.14%\n",
      "25,000c2dTruet10:85.83% | 25,000c3dFalset10:74.58%\n"
     ]
    },
    {
     "name": "stderr",
     "output_type": "stream",
     "text": [
      "\n",
      "epoch-266 lr=['0.0001000'], tr/val_loss:  0.070039/  1.086545, tr: 100.00%, val:  86.67%, val_best:  89.58%: 100%|██████████| 62/62 [00:25<00:00,  2.45it/s]"
     ]
    },
    {
     "name": "stdout",
     "output_type": "stream",
     "text": [
      "Domain loss,acc: 0.491981, 95.97% Target domain: tr_loss-0.913924, tr_acc-91.13%\n",
      "25,000c2dTruet10:86.67% | 25,000c3dFalset10:75.83%\n"
     ]
    },
    {
     "name": "stderr",
     "output_type": "stream",
     "text": [
      "\n",
      "epoch-267 lr=['0.0001000'], tr/val_loss:  0.070139/  1.089175, tr: 100.00%, val:  87.08%, val_best:  89.58%: 100%|██████████| 62/62 [00:25<00:00,  2.40it/s]"
     ]
    },
    {
     "name": "stdout",
     "output_type": "stream",
     "text": [
      "Domain loss,acc: 0.484330, 94.86% Target domain: tr_loss-0.898521, tr_acc-92.74%\n",
      "25,000c2dTruet10:87.08% | 25,000c3dFalset10:73.33%\n"
     ]
    },
    {
     "name": "stderr",
     "output_type": "stream",
     "text": [
      "\n",
      "epoch-268 lr=['0.0001000'], tr/val_loss:  0.074646/  1.087553, tr: 100.00%, val:  86.67%, val_best:  89.58%: 100%|██████████| 62/62 [00:25<00:00,  2.40it/s]"
     ]
    },
    {
     "name": "stdout",
     "output_type": "stream",
     "text": [
      "Domain loss,acc: 0.513108, 95.67% Target domain: tr_loss-0.951570, tr_acc-90.73%\n",
      "25,000c2dTruet10:86.67% | 25,000c3dFalset10:74.58%\n"
     ]
    },
    {
     "name": "stderr",
     "output_type": "stream",
     "text": [
      "\n",
      "epoch-269 lr=['0.0001000'], tr/val_loss:  0.071065/  1.077591, tr: 100.00%, val:  87.50%, val_best:  89.58%: 100%|██████████| 62/62 [00:25<00:00,  2.47it/s]"
     ]
    },
    {
     "name": "stdout",
     "output_type": "stream",
     "text": [
      "Domain loss,acc: 0.481183, 94.76% Target domain: tr_loss-0.891302, tr_acc-91.33%\n",
      "25,000c2dTruet10:87.50% | 25,000c3dFalset10:75.42%\n"
     ]
    },
    {
     "name": "stderr",
     "output_type": "stream",
     "text": [
      "\n",
      "epoch-270 lr=['0.0001000'], tr/val_loss:  0.065393/  1.070571, tr: 100.00%, val:  87.92%, val_best:  89.58%: 100%|██████████| 62/62 [00:25<00:00,  2.41it/s]"
     ]
    },
    {
     "name": "stdout",
     "output_type": "stream",
     "text": [
      "Domain loss,acc: 0.489336, 95.97% Target domain: tr_loss-0.913280, tr_acc-90.93%\n",
      "25,000c2dTruet10:87.92% | 25,000c3dFalset10:75.42%\n"
     ]
    },
    {
     "name": "stderr",
     "output_type": "stream",
     "text": [
      "\n",
      "epoch-271 lr=['0.0001000'], tr/val_loss:  0.066912/  1.075370, tr: 100.00%, val:  87.92%, val_best:  89.58%: 100%|██████████| 62/62 [00:25<00:00,  2.39it/s]"
     ]
    },
    {
     "name": "stdout",
     "output_type": "stream",
     "text": [
      "Domain loss,acc: 0.477499, 94.76% Target domain: tr_loss-0.888085, tr_acc-91.53%\n",
      "25,000c2dTruet10:87.92% | 25,000c3dFalset10:75.00%\n"
     ]
    },
    {
     "name": "stderr",
     "output_type": "stream",
     "text": [
      "\n",
      "epoch-272 lr=['0.0001000'], tr/val_loss:  0.070030/  1.077274, tr: 100.00%, val:  88.33%, val_best:  89.58%: 100%|██████████| 62/62 [00:25<00:00,  2.40it/s]"
     ]
    },
    {
     "name": "stdout",
     "output_type": "stream",
     "text": [
      "Domain loss,acc: 0.469445, 95.16% Target domain: tr_loss-0.868860, tr_acc-92.94%\n",
      "25,000c2dTruet10:88.33% | 25,000c3dFalset10:75.42%\n"
     ]
    },
    {
     "name": "stderr",
     "output_type": "stream",
     "text": [
      "\n",
      "epoch-273 lr=['0.0001000'], tr/val_loss:  0.064540/  1.081770, tr: 100.00%, val:  87.08%, val_best:  89.58%: 100%|██████████| 62/62 [00:26<00:00,  2.38it/s]"
     ]
    },
    {
     "name": "stdout",
     "output_type": "stream",
     "text": [
      "Domain loss,acc: 0.456467, 95.26% Target domain: tr_loss-0.848394, tr_acc-93.35%\n",
      "25,000c2dTruet10:87.08% | 25,000c3dFalset10:76.25%\n"
     ]
    },
    {
     "name": "stderr",
     "output_type": "stream",
     "text": [
      "\n",
      "epoch-274 lr=['0.0001000'], tr/val_loss:  0.069623/  1.090616, tr: 100.00%, val:  87.92%, val_best:  89.58%: 100%|██████████| 62/62 [00:25<00:00,  2.39it/s]"
     ]
    },
    {
     "name": "stdout",
     "output_type": "stream",
     "text": [
      "Domain loss,acc: 0.482454, 94.46% Target domain: tr_loss-0.895286, tr_acc-91.94%\n",
      "25,000c2dTruet10:87.92% | 25,000c3dFalset10:73.33%\n"
     ]
    },
    {
     "name": "stderr",
     "output_type": "stream",
     "text": [
      "\n",
      "epoch-275 lr=['0.0001000'], tr/val_loss:  0.067329/  1.106490, tr: 100.00%, val:  85.83%, val_best:  89.58%: 100%|██████████| 62/62 [00:25<00:00,  2.39it/s]"
     ]
    },
    {
     "name": "stdout",
     "output_type": "stream",
     "text": [
      "Domain loss,acc: 0.479429, 96.17% Target domain: tr_loss-0.891529, tr_acc-92.94%\n",
      "25,000c2dTruet10:85.83% | 25,000c3dFalset10:75.00%\n"
     ]
    },
    {
     "name": "stderr",
     "output_type": "stream",
     "text": [
      "\n",
      "epoch-276 lr=['0.0001000'], tr/val_loss:  0.065500/  1.075299, tr: 100.00%, val:  87.92%, val_best:  89.58%: 100%|██████████| 62/62 [00:26<00:00,  2.38it/s]"
     ]
    },
    {
     "name": "stdout",
     "output_type": "stream",
     "text": [
      "Domain loss,acc: 0.467450, 95.06% Target domain: tr_loss-0.869400, tr_acc-92.34%\n",
      "25,000c2dTruet10:87.92% | 25,000c3dFalset10:73.33%\n"
     ]
    },
    {
     "name": "stderr",
     "output_type": "stream",
     "text": [
      "\n",
      "epoch-277 lr=['0.0001000'], tr/val_loss:  0.067129/  1.071786, tr: 100.00%, val:  87.50%, val_best:  89.58%: 100%|██████████| 62/62 [00:25<00:00,  2.44it/s]"
     ]
    },
    {
     "name": "stdout",
     "output_type": "stream",
     "text": [
      "Domain loss,acc: 0.479217, 94.25% Target domain: tr_loss-0.891305, tr_acc-91.73%\n",
      "25,000c2dTruet10:87.50% | 25,000c3dFalset10:73.75%\n"
     ]
    },
    {
     "name": "stderr",
     "output_type": "stream",
     "text": [
      "\n",
      "epoch-278 lr=['0.0001000'], tr/val_loss:  0.065361/  1.089548, tr: 100.00%, val:  87.50%, val_best:  89.58%: 100%|██████████| 62/62 [00:26<00:00,  2.38it/s]"
     ]
    },
    {
     "name": "stdout",
     "output_type": "stream",
     "text": [
      "Domain loss,acc: 0.456290, 95.26% Target domain: tr_loss-0.847220, tr_acc-93.35%\n",
      "25,000c2dTruet10:87.50% | 25,000c3dFalset10:75.00%\n"
     ]
    },
    {
     "name": "stderr",
     "output_type": "stream",
     "text": [
      "\n",
      "epoch-279 lr=['0.0001000'], tr/val_loss:  0.055712/  1.090050, tr: 100.00%, val:  87.08%, val_best:  89.58%: 100%|██████████| 62/62 [00:25<00:00,  2.42it/s]"
     ]
    },
    {
     "name": "stdout",
     "output_type": "stream",
     "text": [
      "Domain loss,acc: 0.458026, 95.46% Target domain: tr_loss-0.860339, tr_acc-93.75%\n",
      "25,000c2dTruet10:87.08% | 25,000c3dFalset10:73.33%\n"
     ]
    },
    {
     "name": "stderr",
     "output_type": "stream",
     "text": [
      "\n",
      "epoch-280 lr=['0.0001000'], tr/val_loss:  0.064682/  1.084125, tr: 100.00%, val:  87.92%, val_best:  89.58%: 100%|██████████| 62/62 [00:25<00:00,  2.42it/s]"
     ]
    },
    {
     "name": "stdout",
     "output_type": "stream",
     "text": [
      "Domain loss,acc: 0.472852, 95.36% Target domain: tr_loss-0.881021, tr_acc-93.15%\n",
      "25,000c2dTruet10:87.92% | 25,000c3dFalset10:73.33%\n"
     ]
    },
    {
     "name": "stderr",
     "output_type": "stream",
     "text": [
      "\n",
      "epoch-281 lr=['0.0001000'], tr/val_loss:  0.060675/  1.087806, tr: 100.00%, val:  88.75%, val_best:  89.58%: 100%|██████████| 62/62 [00:24<00:00,  2.49it/s]"
     ]
    },
    {
     "name": "stdout",
     "output_type": "stream",
     "text": [
      "Domain loss,acc: 0.477425, 95.06% Target domain: tr_loss-0.894174, tr_acc-91.53%\n",
      "25,000c2dTruet10:88.75% | 25,000c3dFalset10:73.75%\n"
     ]
    },
    {
     "name": "stderr",
     "output_type": "stream",
     "text": [
      "\n",
      "epoch-282 lr=['0.0001000'], tr/val_loss:  0.064089/  1.087560, tr: 100.00%, val:  88.33%, val_best:  89.58%: 100%|██████████| 62/62 [00:26<00:00,  2.35it/s]"
     ]
    },
    {
     "name": "stdout",
     "output_type": "stream",
     "text": [
      "Domain loss,acc: 0.477819, 95.16% Target domain: tr_loss-0.891549, tr_acc-91.94%\n",
      "25,000c2dTruet10:88.33% | 25,000c3dFalset10:75.00%\n"
     ]
    },
    {
     "name": "stderr",
     "output_type": "stream",
     "text": [
      "\n",
      "epoch-283 lr=['0.0001000'], tr/val_loss:  0.064403/  1.098191, tr: 100.00%, val:  89.17%, val_best:  89.58%: 100%|██████████| 62/62 [00:26<00:00,  2.34it/s]"
     ]
    },
    {
     "name": "stdout",
     "output_type": "stream",
     "text": [
      "Domain loss,acc: 0.495606, 95.46% Target domain: tr_loss-0.926809, tr_acc-92.14%\n",
      "25,000c2dTruet10:89.17% | 25,000c3dFalset10:75.00%\n"
     ]
    },
    {
     "name": "stderr",
     "output_type": "stream",
     "text": [
      "\n",
      "epoch-284 lr=['0.0001000'], tr/val_loss:  0.060168/  1.094960, tr: 100.00%, val:  87.08%, val_best:  89.58%: 100%|██████████| 62/62 [00:25<00:00,  2.48it/s]"
     ]
    },
    {
     "name": "stdout",
     "output_type": "stream",
     "text": [
      "Domain loss,acc: 0.486941, 93.85% Target domain: tr_loss-0.913713, tr_acc-90.32%\n",
      "25,000c2dTruet10:87.08% | 25,000c3dFalset10:76.25%\n"
     ]
    },
    {
     "name": "stderr",
     "output_type": "stream",
     "text": [
      "\n",
      "epoch-285 lr=['0.0001000'], tr/val_loss:  0.065401/  1.111063, tr: 100.00%, val:  87.50%, val_best:  89.58%: 100%|██████████| 62/62 [00:24<00:00,  2.51it/s]"
     ]
    },
    {
     "name": "stdout",
     "output_type": "stream",
     "text": [
      "Domain loss,acc: 0.489845, 95.26% Target domain: tr_loss-0.914289, tr_acc-90.93%\n",
      "25,000c2dTruet10:87.50% | 25,000c3dFalset10:73.75%\n"
     ]
    },
    {
     "name": "stderr",
     "output_type": "stream",
     "text": [
      "\n",
      "epoch-286 lr=['0.0001000'], tr/val_loss:  0.057319/  1.102383, tr: 100.00%, val:  87.92%, val_best:  89.58%: 100%|██████████| 62/62 [00:25<00:00,  2.42it/s]"
     ]
    },
    {
     "name": "stdout",
     "output_type": "stream",
     "text": [
      "Domain loss,acc: 0.471731, 94.46% Target domain: tr_loss-0.886144, tr_acc-93.35%\n",
      "25,000c2dTruet10:87.92% | 25,000c3dFalset10:73.75%\n"
     ]
    },
    {
     "name": "stderr",
     "output_type": "stream",
     "text": [
      "\n",
      "epoch-287 lr=['0.0001000'], tr/val_loss:  0.058313/  1.102815, tr: 100.00%, val:  87.92%, val_best:  89.58%: 100%|██████████| 62/62 [00:24<00:00,  2.51it/s]"
     ]
    },
    {
     "name": "stdout",
     "output_type": "stream",
     "text": [
      "Domain loss,acc: 0.515754, 95.56% Target domain: tr_loss-0.973195, tr_acc-90.32%\n",
      "25,000c2dTruet10:87.92% | 25,000c3dFalset10:74.17%\n"
     ]
    },
    {
     "name": "stderr",
     "output_type": "stream",
     "text": [
      "\n",
      "epoch-288 lr=['0.0001000'], tr/val_loss:  0.052471/  1.100303, tr: 100.00%, val:  88.33%, val_best:  89.58%: 100%|██████████| 62/62 [00:25<00:00,  2.39it/s]"
     ]
    },
    {
     "name": "stdout",
     "output_type": "stream",
     "text": [
      "Domain loss,acc: 0.477426, 96.17% Target domain: tr_loss-0.902381, tr_acc-91.33%\n",
      "25,000c2dTruet10:88.33% | 25,000c3dFalset10:72.92%\n"
     ]
    },
    {
     "name": "stderr",
     "output_type": "stream",
     "text": [
      "\n",
      "epoch-289 lr=['0.0001000'], tr/val_loss:  0.061231/  1.104260, tr: 100.00%, val:  87.50%, val_best:  89.58%: 100%|██████████| 62/62 [00:25<00:00,  2.41it/s]"
     ]
    },
    {
     "name": "stdout",
     "output_type": "stream",
     "text": [
      "Domain loss,acc: 0.494978, 95.56% Target domain: tr_loss-0.928725, tr_acc-91.33%\n",
      "25,000c2dTruet10:87.50% | 25,000c3dFalset10:75.00%\n"
     ]
    },
    {
     "name": "stderr",
     "output_type": "stream",
     "text": [
      "\n",
      "epoch-290 lr=['0.0001000'], tr/val_loss:  0.056254/  1.099514, tr: 100.00%, val:  87.50%, val_best:  89.58%: 100%|██████████| 62/62 [00:26<00:00,  2.36it/s]"
     ]
    },
    {
     "name": "stdout",
     "output_type": "stream",
     "text": [
      "Domain loss,acc: 0.487171, 95.26% Target domain: tr_loss-0.918089, tr_acc-91.33%\n",
      "25,000c2dTruet10:87.50% | 25,000c3dFalset10:75.42%\n"
     ]
    },
    {
     "name": "stderr",
     "output_type": "stream",
     "text": [
      "\n",
      "epoch-291 lr=['0.0001000'], tr/val_loss:  0.058431/  1.108977, tr: 100.00%, val:  87.08%, val_best:  89.58%: 100%|██████████| 62/62 [00:25<00:00,  2.42it/s]"
     ]
    },
    {
     "name": "stdout",
     "output_type": "stream",
     "text": [
      "Domain loss,acc: 0.494745, 95.56% Target domain: tr_loss-0.931059, tr_acc-90.93%\n",
      "25,000c2dTruet10:87.08% | 25,000c3dFalset10:75.83%\n"
     ]
    },
    {
     "name": "stderr",
     "output_type": "stream",
     "text": [
      "\n",
      "epoch-292 lr=['0.0001000'], tr/val_loss:  0.063335/  1.113540, tr: 100.00%, val:  87.92%, val_best:  89.58%: 100%|██████████| 62/62 [00:25<00:00,  2.42it/s]"
     ]
    },
    {
     "name": "stdout",
     "output_type": "stream",
     "text": [
      "Domain loss,acc: 0.465104, 95.36% Target domain: tr_loss-0.866873, tr_acc-93.35%\n",
      "25,000c2dTruet10:87.92% | 25,000c3dFalset10:75.00%\n"
     ]
    },
    {
     "name": "stderr",
     "output_type": "stream",
     "text": [
      "\n",
      "epoch-293 lr=['0.0001000'], tr/val_loss:  0.055018/  1.097948, tr: 100.00%, val:  89.17%, val_best:  89.58%: 100%|██████████| 62/62 [00:26<00:00,  2.38it/s]"
     ]
    },
    {
     "name": "stdout",
     "output_type": "stream",
     "text": [
      "Domain loss,acc: 0.464799, 94.76% Target domain: tr_loss-0.874580, tr_acc-92.94%\n",
      "25,000c2dTruet10:89.17% | 25,000c3dFalset10:75.00%\n"
     ]
    },
    {
     "name": "stderr",
     "output_type": "stream",
     "text": [
      "\n",
      "epoch-294 lr=['0.0001000'], tr/val_loss:  0.056423/  1.100364, tr: 100.00%, val:  88.75%, val_best:  89.58%: 100%|██████████| 62/62 [00:25<00:00,  2.43it/s]"
     ]
    },
    {
     "name": "stdout",
     "output_type": "stream",
     "text": [
      "Domain loss,acc: 0.474699, 94.56% Target domain: tr_loss-0.892974, tr_acc-92.94%\n",
      "25,000c2dTruet10:88.75% | 25,000c3dFalset10:73.75%\n"
     ]
    },
    {
     "name": "stderr",
     "output_type": "stream",
     "text": [
      "\n",
      "epoch-295 lr=['0.0001000'], tr/val_loss:  0.053907/  1.110144, tr: 100.00%, val:  87.92%, val_best:  89.58%: 100%|██████████| 62/62 [00:25<00:00,  2.41it/s]"
     ]
    },
    {
     "name": "stdout",
     "output_type": "stream",
     "text": [
      "Domain loss,acc: 0.470892, 95.06% Target domain: tr_loss-0.887877, tr_acc-91.33%\n",
      "25,000c2dTruet10:87.92% | 25,000c3dFalset10:75.00%\n"
     ]
    },
    {
     "name": "stderr",
     "output_type": "stream",
     "text": [
      "\n",
      "epoch-296 lr=['0.0001000'], tr/val_loss:  0.049871/  1.118578, tr: 100.00%, val:  87.08%, val_best:  89.58%: 100%|██████████| 62/62 [00:25<00:00,  2.42it/s]"
     ]
    },
    {
     "name": "stdout",
     "output_type": "stream",
     "text": [
      "Domain loss,acc: 0.486870, 94.96% Target domain: tr_loss-0.923869, tr_acc-91.33%\n",
      "25,000c2dTruet10:87.08% | 25,000c3dFalset10:74.58%\n"
     ]
    },
    {
     "name": "stderr",
     "output_type": "stream",
     "text": [
      "\n",
      "epoch-297 lr=['0.0001000'], tr/val_loss:  0.055155/  1.115917, tr: 100.00%, val:  87.92%, val_best:  89.58%: 100%|██████████| 62/62 [00:25<00:00,  2.39it/s]"
     ]
    },
    {
     "name": "stdout",
     "output_type": "stream",
     "text": [
      "Domain loss,acc: 0.472346, 95.97% Target domain: tr_loss-0.889538, tr_acc-92.54%\n",
      "25,000c2dTruet10:87.92% | 25,000c3dFalset10:75.00%\n"
     ]
    },
    {
     "name": "stderr",
     "output_type": "stream",
     "text": [
      "\n",
      "epoch-298 lr=['0.0001000'], tr/val_loss:  0.050637/  1.112601, tr: 100.00%, val:  87.50%, val_best:  89.58%: 100%|██████████| 62/62 [00:25<00:00,  2.43it/s]"
     ]
    },
    {
     "name": "stdout",
     "output_type": "stream",
     "text": [
      "Domain loss,acc: 0.459198, 95.87% Target domain: tr_loss-0.867759, tr_acc-94.15%\n",
      "25,000c2dTruet10:87.50% | 25,000c3dFalset10:75.83%\n"
     ]
    },
    {
     "name": "stderr",
     "output_type": "stream",
     "text": [
      "\n",
      "epoch-299 lr=['0.0001000'], tr/val_loss:  0.058603/  1.107404, tr: 100.00%, val:  87.92%, val_best:  89.58%: 100%|██████████| 62/62 [00:24<00:00,  2.51it/s]"
     ]
    },
    {
     "name": "stdout",
     "output_type": "stream",
     "text": [
      "Domain loss,acc: 0.480756, 94.76% Target domain: tr_loss-0.902908, tr_acc-91.53%\n",
      "25,000c2dTruet10:87.92% | 25,000c3dFalset10:75.83%\n"
     ]
    },
    {
     "name": "stderr",
     "output_type": "stream",
     "text": [
      "\n"
     ]
    },
    {
     "data": {
      "text/plain": [
       "'\\nddp_on 키고, gpu 개수 만큼 batch size 나눠줘\\nCUDA_VISIBLE_DEVICES=0,1,2,3,4,5 python -m torch.distributed.launch --nproc_per_node=6 main_ddp.py\\nCUDA_VISIBLE_DEVICES=1,2,3 python -m torch.distributed.launch --nproc_per_node=3 main_ddp.py\\nCUDA_VISIBLE_DEVICES=0,1,2,3 python -m torch.distributed.launch --nproc_per_node=4 main_ddp.py\\n'"
      ]
     },
     "execution_count": 6,
     "metadata": {},
     "output_type": "execute_result"
    }
   ],
   "source": [
    "### my_snn control board (Gesture) ########################\n",
    "decay = 0.25 # 0.875 0.25 0.125 0.75 0.5\n",
    "# nda 0.25 # ottt 0.5\n",
    "const2 = False # trace 할거면 True, 안할거면 False\n",
    "\n",
    "unique_name = 'main' ## 이거 설정하면 새로운 경로에 모두 save\n",
    "run_name = 'main' ## 이거 설정하면 새로운 경로에 모두 save\n",
    "\n",
    "if const2 == True:\n",
    "    const2 = decay\n",
    "else:\n",
    "    const2 = 0.0\n",
    "\n",
    "wandb.init(project= f'my_snn {unique_name}',save_code=True)\n",
    "\n",
    "my_snn_system(  devices = \"3\",\n",
    "                single_step = True, # True # False\n",
    "                unique_name = run_name,\n",
    "                my_seed = 42,\n",
    "                TIME = 10, # dvscifar 10 # ottt 6 or 10 # nda 10  # 제작하는 dvs에서 TIME넘거나 적으면 자르거나 PADDING함\n",
    "                BATCH = 16, # batch norm 할거면 2이상으로 해야함   # nda 256   #  ottt 128\n",
    "                IMAGE_SIZE = 128, # dvscifar 48 # MNIST 28 # CIFAR10 32 # PMNIST 28 #NMNIST 34 # GESTURE 128\n",
    "                # dvsgesture 128, dvs_cifar2 128, nmnist 34, n_caltech101 180,240, n_tidigits 64, heidelberg 700, \n",
    "                #pmnist는 28로 해야 됨. 나머지는 바꿔도 돌아는 감.\n",
    "\n",
    "                # DVS_CIFAR10 할거면 time 10으로 해라\n",
    "                which_data = 'DVS_GESTURE_TONIC',\n",
    "# 'CIFAR100' 'CIFAR10' 'MNIST' 'FASHION_MNIST' 'DVS_CIFAR10' 'PMNIST'아직\n",
    "# 'DVS_GESTURE', 'DVS_GESTURE_TONIC','DVS_CIFAR10_2','NMNIST','NMNIST_TONIC','CIFAR10','N_CALTECH101','n_tidigits','heidelberg'\n",
    "                # CLASS_NUM = 10,\n",
    "                data_path = '/data2', # YOU NEED TO CHANGE THIS\n",
    "                rate_coding = False, # True # False\n",
    "                lif_layer_v_init = 0.0,\n",
    "                lif_layer_v_decay = decay,\n",
    "                lif_layer_v_threshold = 0.720291189014991, # 1.3102821334243646,  # 10000이상으로 하면 NDA LIF 씀. #nda 0.5  #ottt 1.0\n",
    "                lif_layer_v_reset = 10000, # 10000이상은 hardreset (내 LIF쓰기는 함 ㅇㅇ)\n",
    "                lif_layer_sg_width = 3.555718888923306, # 2.570969004857107 # sigmoid류에서는 alpha값 4.0, rectangle류에서는 width값 0.5\n",
    "\n",
    "                # synapse_conv_in_channels = IMAGE_PIXEL_CHANNEL,\n",
    "                synapse_conv_kernel_size = 3,\n",
    "                synapse_conv_stride = 1,\n",
    "                synapse_conv_padding = 1,\n",
    "                synapse_conv_trace_const1 = 1, # 현재 trace구할 때 현재 spike에 곱해지는 상수. 걍 1로 두셈.\n",
    "                synapse_conv_trace_const2 = const2, # 현재 trace구할 때 직전 trace에 곱해지는 상수. lif_layer_v_decay와 같게 할 것을 추천\n",
    "\n",
    "                # synapse_fc_out_features = CLASS_NUM,\n",
    "                synapse_fc_trace_const1 = 1, # 현재 trace구할 때 현재 spike에 곱해지는 상수. 걍 1로 두셈.\n",
    "                synapse_fc_trace_const2 = const2, # 현재 trace구할 때 직전 trace에 곱해지는 상수. lif_layer_v_decay와 같게 할 것을 추천\n",
    "\n",
    "                pre_trained = False, # True # False\n",
    "                convTrue_fcFalse = False, # True # False\n",
    "\n",
    "                # 'P' for average pooling, 'D' for (1,1) aver pooling, 'M' for maxpooling, 'L' for linear classifier, [  ] for residual block\n",
    "                # conv에서 10000 이상은 depth-wise separable (BPTT만 지원), 20000이상은 depth-wise (BPTT만 지원)\n",
    "                # cfg = [64, 64],\n",
    "                # cfg = [64, 124, 64, 124],\n",
    "                # cfg = ['M','M',512], \n",
    "                # cfg = [512], \n",
    "                # cfg = ['M', 'M', 64, 128, 'P', 128, 'P'], \n",
    "                # cfg = ['M','M',512],\n",
    "                # cfg = ['M',200],\n",
    "                # cfg = [200,200],\n",
    "                # cfg = ['M','M',200,200],\n",
    "                cfg = ([200],[200],[200],[2]), # (feature extractor, classifier, domain adapter, # of domain)\n",
    "                # cfg = (['M','M',200],[200],[200],[2]), # (feature extractor, classifier, domain adapter, # of domain)\n",
    "                # cfg = ['M',200,200],\n",
    "                # cfg = ['M','M',1024,512,256,128,64],\n",
    "                # cfg = [200,200],\n",
    "                # cfg = [12], #fc\n",
    "                # cfg = [12, 'M', 48, 'M', 12], \n",
    "                # cfg = [64,[64,64],64], # 끝에 linear classifier 하나 자동으로 붙습니다\n",
    "                # cfg = [64, 128, 'P', 256, 256, 'P', 512, 512, 'P', 512, 512, 'D'], #ottt\n",
    "                # cfg = [64, 128, 'P', 256, 256, 'P', 512, 512, 'P', 512, 512], \n",
    "                # cfg = [64, 128, 'M', 256, 256, 'M', 512, 512, 'M', 512, 512], \n",
    "                # cfg = [64, 'P', 128, 'P', 256, 256, 'P', 512, 512, 512, 512, 'D'], # nda\n",
    "                # cfg = [64, 'P', 128, 'P', 256, 256, 'P', 512, 512, 512, 512], # nda 128pixel\n",
    "                # cfg = [64, 'P', 128, 'P', 256, 256, 'P', 512, 512, 512, 512, 'L', 4096, 4096],\n",
    "                # cfg = [20001,10001], # depthwise, separable\n",
    "                # cfg = [64,20064,10001], # vanilla conv, depthwise, separable\n",
    "                # cfg = [8, 'P', 8, 'P', 8, 'P', 8,'P', 8, 'P'],\n",
    "                # cfg = [],        \n",
    "                \n",
    "                net_print = True, # True # False # True로 하길 추천\n",
    "                weight_count_print = False, # True # False\n",
    "                \n",
    "                pre_trained_path = f\"net_save/save_now_net_weights_{unique_name}.pth\",\n",
    "                learning_rate = 0.0001, #0.1 bptt, #0.01 ottt, # default 0.001  # ottt 0.1 # nda 0.001 # 0.00936191669529645\n",
    "                epoch_num = 300,\n",
    "                verbose_interval = 999999999, #이거 걍 건들지마셈 #숫자 크게 하면 꺼짐 #걍 중간중간 iter에서 끊어서 출력\n",
    "                validation_interval =  999999999,#999999999, #이거 걍 건들지마셈 #숫자 크게 하면 에포크 마지막 iter 때 val 함\n",
    "\n",
    "                tdBN_on = False,  # True # False\n",
    "                BN_on = False,  # True # False\n",
    "                \n",
    "                surrogate = 'hard_sigmoid', # 'sigmoid' 'rectangle' 'rough_rectangle' 'hard_sigmoid'\n",
    "                \n",
    "                gradient_verbose = False,  # True # False  # weight gradient 각 layer마다 띄워줌\n",
    "\n",
    "                BPTT_on = False,  # True # False # True이면 BPTT, False이면 OTTT  # depthwise, separable은 BPTT만 가능\n",
    "                optimizer_what = 'SGD', # 'SGD' 'Adam', 'RMSprop'\n",
    "                scheduler_name = 'no', # 'no' 'StepLR' 'ExponentialLR' 'ReduceLROnPlateau' 'CosineAnnealingLR' 'OneCycleLR'\n",
    "                \n",
    "                ddp_on = False,   # True # False \n",
    "                # 지원 DATASET: cifar10, mnist\n",
    "\n",
    "                nda_net = False,   # True # False\n",
    "\n",
    "                domain_il_epoch = 0, # over 0, then domain il mode on # pmnist 쓸거면 HLOP 코드보고 더 디벨롭하셈. 지금 개발 hold함.\n",
    "                \n",
    "                dvs_clipping = 2, #일반적으로 1 또는 2 # 100ms때는 5 # 숫자만큼 크면 spike 아니면 걍 0\n",
    "                # gesture, cifar-dvs2, nmnist, ncaltech101\n",
    "                # gesture: 100_000c1-5, 25_000c5, 10_000c5, 1_000c5, 1_000_000c5\n",
    "\n",
    "                dvs_duration = 25_000, # 0 아니면 time sampling # dvs number sampling OR time sampling # gesture, cifar-dvs2, nmnist, ncaltech101\n",
    "                # 있는 데이터들 #gesture 100_000 25_000 10_000 1_000 1_000_000 #nmnist 10000 #nmnist_tonic 10_000 25_000\n",
    "                # 한 숫자가 1us인듯 (spikingjelly코드에서)\n",
    "                # 한 장에 50 timestep만 생산함. 싫으면 my_snn/trying/spikingjelly_dvsgesture의__init__.py 를 참고해봐\n",
    "                # nmnist 5_000us, gesture는 100_000us, 25_000us\n",
    "\n",
    "                OTTT_sWS_on = False, # True # False # BPTT끄고, CONV에만 적용됨.\n",
    "\n",
    "                DFA_on = False, # True # False # residual은 dfa지원안함.\n",
    "                OTTT_input_trace_on = False, # True # False # 맨 처음 input에 trace 적용\n",
    "                 \n",
    "                e_transport_swap = 0, # 1 이상이면 해당 숫자 에포크만큼 val_acc_best가 변화가 없으면 e_transport scheme (BP vs DFA) swap\n",
    "                e_transport_swap_tr = 0, # 1 이상이면 해당 숫자 에포크만큼 tr_acc_best가 변화가 없으면 e_transport scheme (BP vs DFA) swap\n",
    "                e_transport_swap_coin = 1, # swap할 수 있는 coin 개수\n",
    "\n",
    "                drop_rate = 0, # drop_rate만큼 0으로 만듦. ex) 0.2면 activation의 20%를 0으로 만듦.\n",
    "\n",
    "                exclude_class = True, # True # False # gesture에서 10번째 클래스 제외\n",
    "\n",
    "                merge_polarities = False, # True # False # tonic dvs dataset 에서 polarities 합치기\n",
    "                denoise_on = True, # True # False\n",
    "\n",
    "                I_wanna_sweep_at_this_epoch = -1, # 지정 에포크에서 BP와 DFA를 바꿔줌. -1이면 실행 안함.\n",
    "                # dvs_duration_domain=[(100_000,5,False),(125_000,5,False),(150_000,5,False),],\n",
    "                # dvs_duration_domain=[(40_000,4,False),(50_000,4,False),(60_000,4,False),],\n",
    "                # [duration, clipping, denoise_on]\n",
    "                dvs_duration_domain=[(25_000,3,False)],\n",
    "                dvs_relative_timestep = False, # True # False \n",
    "                \n",
    "                extra_train_dataset = 0,\n",
    "\n",
    "                num_workers = 2, # local wsl에서는 2가 맞고, 서버에서는 4가 좋더라.\n",
    "                chaching_on = True, # True # False # only for certain datasets (gesture_tonic, nmnist_tonic)\n",
    "                pin_memory = True, # True # False \n",
    "\n",
    "                UDA_on = True, # True # False\n",
    "                UDA_data = (25_000,3,False), # (duration, clipping, denoise_on)\n",
    "                src_trg_ratio = 1, # (1이상의 정수) src data와 trg data의 개수 비율 (대략적으로)\n",
    "                adapter_loss_weight = 1.0, # 1.0  # adapter loss의 힘. # 이걸 0으로하면 src only learning.\n",
    "                alpha_uda = 0.0, # GRL의 alpha값\n",
    "\n",
    "                temporal_filter = 5, # 한타임스텝에 쑤셔 넣을 window개수. \n",
    "                initial_pooling = 8, # 1이면 pooling 안함. 2의 승수만 입력하셈. log2를 취해서 pooling할 window size를 결정함.\n",
    "                ) \n",
    "\n",
    "# num_workers = 4 * num_GPU (or 8, 16, 2 * num_GPU)\n",
    "# entry * batch_size * num_worker = num_GPU * GPU_throughtput\n",
    "# num_workers = batch_size / num_GPU\n",
    "# num_workers = batch_size / num_CPU\n",
    "\n",
    "# sigmoid와 BN이 있어야 잘된다.\n",
    "# average pooling  \n",
    "# 이 낫다. \n",
    " \n",
    "# nda에서는 decay = 0.25, threshold = 0.5, width =1, surrogate = rectangle, batch = 256, tdBN = True\n",
    "## OTTT 에서는 decay = 0.5, threshold = 1.0, surrogate = sigmoid, batch = 128, BN = True\n",
    "\n",
    "\n",
    "# DDP 실행 코드0\n",
    "'''\n",
    "ddp_on 키고, gpu 개수 만큼 batch size 나눠줘\n",
    "CUDA_VISIBLE_DEVICES=0,1,2,3,4,5 python -m torch.distributed.launch --nproc_per_node=6 main_ddp.py\n",
    "CUDA_VISIBLE_DEVICES=1,2,3 python -m torch.distributed.launch --nproc_per_node=3 main_ddp.py\n",
    "CUDA_VISIBLE_DEVICES=0,1,2,3 python -m torch.distributed.launch --nproc_per_node=4 main_ddp.py\n",
    "'''\n",
    "\n"
   ]
  },
  {
   "cell_type": "code",
   "execution_count": 7,
   "metadata": {},
   "outputs": [],
   "source": [
    "# # sweep 하는 코드, 위 셀 주석처리 해야 됨.\n",
    "\n",
    "# # 이런 워닝 뜨는 거는 걍 너가 main 안에서  wandb.config.update(hyperparameters)할 때 물려서임. 어차피 근데 sweep에서 지정한 걸로 덮어짐 \n",
    "# # wandb: WARNING Config item 'BATCH' was locked by 'sweep' (ignored update).\n",
    "\n",
    "# unique_name_hyper = 'main'\n",
    "# run_name = 'main'\n",
    "# sweep_configuration = {\n",
    "#     'method': 'random', # 'random', 'bayes'\n",
    "#     'name': f'my_snn_sweep{datetime.datetime.now().strftime(\"%Y%m%d_%H%M%S\")}',\n",
    "#     'metric': {'goal': 'maximize', 'name': 'val_acc_best'},\n",
    "#     'parameters': \n",
    "#     {\n",
    "#         \"learning_rate\": {\"values\": [0.001]}, #0.00936191669529645\n",
    "#         \"BATCH\": {\"values\": [16]},\n",
    "#         \"decay\": {\"values\": [0.25]},\n",
    "#         \"IMAGE_SIZE\": {\"values\": [128]},\n",
    "#         \"TIME\": {\"values\": [10]},\n",
    "#         \"epoch_num\": {\"values\": [200]},\n",
    "#         \"dvs_duration\": {\"values\": [25_000,50_000,100_000]},\n",
    "#         \"dvs_clipping\": {\"values\": [1,2,3,4,5]},\n",
    "#         \"which_data\": {\"values\": ['DVS_GESTURE_TONIC']},\n",
    "#         \"OTTT_sWS_on\": {\"values\": [False]},\n",
    "#         \"const2\": {\"values\": [False]},\n",
    "#         \"surrogate\": {\"values\": ['hard_sigmoid']},\n",
    "#         \"DFA_on\": {\"values\": [False]},\n",
    "#         \"OTTT_input_trace_on\": {\"values\": [False]},\n",
    "#         \"cfg\": {\"values\": [['M','M',200,200]]},\n",
    "#         \"e_transport_swap\": {\"values\": [0]},\n",
    "#         \"e_transport_swap_tr\": {\"values\": [0]},\n",
    "#         \"drop_rate\": {\"values\": [0.0]}, # \"drop_rate\": {\"values\": [0.25,0.5,0.75]}, #\"drop_rate\": {\"min\": 0.25, \"max\": 0.75},\n",
    "#         \"exclude_class\": {\"values\": [True]},\n",
    "#         \"merge_polarities\": {\"values\": [False]},\n",
    "#         \"lif_layer_v_reset\": {\"values\": [10000]},\n",
    "#         \"lif_layer_sg_width\": {\"values\": [3.555718888923306]},\n",
    "#         \"e_transport_swap_coin\": {\"values\": [1]},\n",
    "#         \"lif_layer_v_threshold\": {\"values\": [0.720291189014991]},\n",
    "#         \"scheduler_name\": {\"values\": ['no']},  # 'no' 'StepLR' 'ExponentialLR' 'ReduceLROnPlateau' 'CosineAnnealingLR' 'OneCycleLR'\n",
    "#         \"denoise_on\": {\"values\": [True,False]}, \n",
    "#         \"I_wanna_sweep_at_this_epoch\": {\"values\": [-1]}, \n",
    "#         \"dvs_duration_domain\": {\"values\": [[]]}, \n",
    "#         \"dvs_relative_timestep\": {\"values\": [[False]]}, \n",
    "#         \"extra_train_dataset\": {\"values\": [0]}, \n",
    "#      }\n",
    "# }\n",
    "\n",
    "# def hyper_iter():\n",
    "#     ### my_snn control board ########################\n",
    "#     unique_name = unique_name_hyper ## 이거 설정하면 새로운 경로에 모두 save\n",
    "    \n",
    "#     wandb.init(save_code = True)\n",
    "#     learning_rate  =  wandb.config.learning_rate\n",
    "#     BATCH  =  wandb.config.BATCH\n",
    "#     decay  =  wandb.config.decay\n",
    "#     IMAGE_SIZE  =  wandb.config.IMAGE_SIZE\n",
    "#     TIME  =  wandb.config.TIME\n",
    "#     epoch_num  =  wandb.config.epoch_num \n",
    "#     dvs_duration  =  wandb.config.dvs_duration\n",
    "#     dvs_clipping  =  wandb.config.dvs_clipping\n",
    "#     which_data  =  wandb.config.which_data\n",
    "#     OTTT_sWS_on  =  wandb.config.OTTT_sWS_on\n",
    "#     const2  =  wandb.config.const2\n",
    "#     surrogate  =  wandb.config.surrogate\n",
    "#     DFA_on  =  wandb.config.DFA_on\n",
    "#     OTTT_input_trace_on  =  wandb.config.OTTT_input_trace_on\n",
    "#     cfg  =  wandb.config.cfg\n",
    "#     e_transport_swap  =  wandb.config.e_transport_swap\n",
    "#     e_transport_swap_tr  =  wandb.config.e_transport_swap_tr\n",
    "#     drop_rate  =  wandb.config.drop_rate\n",
    "#     exclude_class  =  wandb.config.exclude_class\n",
    "#     merge_polarities  =  wandb.config.merge_polarities\n",
    "#     lif_layer_v_reset  =  wandb.config.lif_layer_v_reset\n",
    "#     lif_layer_sg_width  =  wandb.config.lif_layer_sg_width\n",
    "#     e_transport_swap_coin  =  wandb.config.e_transport_swap_coin\n",
    "#     lif_layer_v_threshold  =  wandb.config.lif_layer_v_threshold\n",
    "#     scheduler_name  =  wandb.config.scheduler_name\n",
    "#     denoise_on  =  wandb.config.denoise_on\n",
    "#     I_wanna_sweep_at_this_epoch  =  wandb.config.I_wanna_sweep_at_this_epoch\n",
    "#     dvs_duration_domain  =  wandb.config.dvs_duration_domain\n",
    "#     dvs_relative_timestep  =  wandb.config.dvs_relative_timestep\n",
    "#     extra_train_dataset  =  wandb.config.extra_train_dataset\n",
    "#     if const2 == True:\n",
    "#         const2 = decay\n",
    "#     else:\n",
    "#         const2 = 0.0\n",
    "\n",
    "#     my_snn_system(  devices = \"5\",\n",
    "#                 single_step = True, # True # False\n",
    "#                 unique_name = run_name,\n",
    "#                 my_seed = 42,\n",
    "#                 TIME = TIME , # dvscifar 10 # ottt 6 or 10 # nda 10  # 제작하는 dvs에서 TIME넘거나 적으면 자르거나 PADDING함\n",
    "#                 BATCH = BATCH, # batch norm 할거면 2이상으로 해야함   # nda 256   #  ottt 128\n",
    "#                 IMAGE_SIZE = IMAGE_SIZE, # dvscifar 48 # MNIST 28 # CIFAR10 32 # PMNIST 28 #NMNIST 34 # GESTURE 128\n",
    "#                 # dvsgesture 128, dvs_cifar2 128, nmnist 34, n_caltech101 180,240, n_tidigits 64, heidelberg 700, \n",
    "#                 #pmnist는 28로 해야 됨. 나머지는 바꿔도 돌아는 감.\n",
    "\n",
    "#                 # DVS_CIFAR10 할거면 time 10으로 해라\n",
    "#                 which_data = which_data,\n",
    "# # 'CIFAR100' 'CIFAR10' 'MNIST' 'FASHION_MNIST' 'DVS_CIFAR10' 'PMNIST'아직\n",
    "# # 'DVS_GESTURE', 'DVS_GESTURE_TONIC','DVS_CIFAR10_2','NMNIST','NMNIST_TONIC','N_CALTECH101','n_tidigits','heidelberg'\n",
    "#                 # CLASS_NUM = 10,\n",
    "#                 data_path = '/data2', # YOU NEED TO CHANGE THIS\n",
    "#                 rate_coding = False, # True # False\n",
    "#                 lif_layer_v_init = 0.0,\n",
    "#                 lif_layer_v_decay = decay,\n",
    "#                 lif_layer_v_threshold = lif_layer_v_threshold,  # 10000이상으로 하면 NDA LIF 씀. #nda 0.5  #ottt 1.0\n",
    "#                 lif_layer_v_reset = lif_layer_v_reset, # 10000이상은 hardreset (내 LIF쓰기는 함 ㅇㅇ)\n",
    "#                 lif_layer_sg_width = lif_layer_sg_width, # # surrogate sigmoid 쓸 때는 의미없음\n",
    "\n",
    "#                 # synapse_conv_in_channels = IMAGE_PIXEL_CHANNEL,\n",
    "#                 synapse_conv_kernel_size = 3,\n",
    "#                 synapse_conv_stride = 1,\n",
    "#                 synapse_conv_padding = 1,\n",
    "#                 synapse_conv_trace_const1 = 1, # 현재 trace구할 때 현재 spike에 곱해지는 상수. 걍 1로 두셈.\n",
    "#                 synapse_conv_trace_const2 = const2, # 현재 trace구할 때 직전 trace에 곱해지는 상수. lif_layer_v_decay와 같게 할 것을 추천\n",
    "\n",
    "#                 # synapse_fc_out_features = CLASS_NUM,\n",
    "#                 synapse_fc_trace_const1 = 1, # 현재 trace구할 때 현재 spike에 곱해지는 상수. 걍 1로 두셈.\n",
    "#                 synapse_fc_trace_const2 = const2, # 현재 trace구할 때 직전 trace에 곱해지는 상수. lif_layer_v_decay와 같게 할 것을 추천\n",
    "\n",
    "#                 pre_trained = False, # True # False\n",
    "#                 convTrue_fcFalse = False, # True # False\n",
    "\n",
    "#                 # 'P' for average pooling, 'D' for (1,1) aver pooling, 'M' for maxpooling, 'L' for linear classifier, [  ] for residual block\n",
    "#                 # conv에서 10000 이상은 depth-wise separable (BPTT만 지원), 20000이상은 depth-wise (BPTT만 지원)\n",
    "#                 # cfg = [64, 64],\n",
    "#                 # cfg = [64, 124, 64, 124],\n",
    "#                 # cfg = ['M','M',512], \n",
    "#                 # cfg = [512], \n",
    "#                 # cfg = ['M', 'M', 64, 128, 'P', 128, 'P'], \n",
    "#                 # cfg = ['M','M',200,200],\n",
    "#                 # cfg = [200,200],\n",
    "#                 cfg = cfg,\n",
    "#                 # cfg = [12], #fc\n",
    "#                 # cfg = [12, 'M', 48, 'M', 12], \n",
    "#                 # cfg = [64,[64,64],64], # 끝에 linear classifier 하나 자동으로 붙습니다\n",
    "#                 # cfg = [64, 128, 'P', 256, 256, 'P', 512, 512, 'P', 512, 512, 'D'], #ottt\n",
    "#                 # cfg = [64, 128, 'P', 256, 256, 'P', 512, 512, 'P', 512, 512], \n",
    "#                 # cfg = [64, 128, 'M', 256, 256, 'M', 512, 512, 'M', 512, 512], \n",
    "#                 # cfg = [64, 'P', 128, 'P', 256, 256, 'P', 512, 512, 512, 512, 'D'], # nda\n",
    "#                 # cfg = [64, 'P', 128, 'P', 256, 256, 'P', 512, 512, 512, 512], # nda 128pixel\n",
    "#                 # cfg = [64, 'P', 128, 'P', 256, 256, 'P', 512, 512, 512, 512, 'L', 4096, 4096],\n",
    "#                 # cfg = [20001,10001], # depthwise, separable\n",
    "#                 # cfg = [64,20064,10001], # vanilla conv, depthwise, separable\n",
    "#                 # cfg = [8, 'P', 8, 'P', 8, 'P', 8,'P', 8, 'P'],\n",
    "#                 # cfg = [], \n",
    "                \n",
    "#                 net_print = True, # True # False # True로 하길 추천\n",
    "#                 weight_count_print = False, # True # False\n",
    "                \n",
    "#                 pre_trained_path = f\"net_save/save_now_net_weights_{unique_name}.pth\",\n",
    "#                 learning_rate = learning_rate, # default 0.001  # ottt 0.1 # nda 0.001 \n",
    "#                 epoch_num = epoch_num,\n",
    "#                 verbose_interval = 999999999, #숫자 크게 하면 꺼짐 #걍 중간중간 iter에서 끊어서 출력\n",
    "#                 validation_interval =  999999999,#999999999, #숫자 크게 하면 에포크 마지막 iter 때 val 함\n",
    "\n",
    "#                 tdBN_on = False,  # True # False\n",
    "#                 BN_on = False,  # True # False\n",
    "                \n",
    "#                 surrogate = surrogate, # 'rectangle' 'sigmoid' 'rough_rectangle'\n",
    "                \n",
    "#                 gradient_verbose = False,  # True # False  # weight gradient 각 layer마다 띄워줌\n",
    "\n",
    "#                 BPTT_on = False,  # True # False # True이면 BPTT, False이면 OTTT  # depthwise, separable은 BPTT만 가능\n",
    "#                 optimizer_what = 'SGD', # 'SGD' 'Adam', 'RMSprop'\n",
    "#                 scheduler_name = scheduler_name, # 'no' 'StepLR' 'ExponentialLR' 'ReduceLROnPlateau' 'CosineAnnealingLR' 'OneCycleLR'\n",
    "                \n",
    "#                 ddp_on = False,   # True # False \n",
    "#                 # 지원 DATASET: cifar10, mnist\n",
    "\n",
    "#                 nda_net = False,   # True # False\n",
    "\n",
    "#                 domain_il_epoch = 0, # over 0, then domain il mode on # pmnist 쓸거면 HLOP 코드보고 더 디벨롭하셈. 지금 개발 hold함.\n",
    "                \n",
    "#                 dvs_clipping = dvs_clipping, # 숫자만큼 크면 spike 아니면 걍 0\n",
    "#                 # gesture, cifar-dvs2, nmnist, ncaltech101\n",
    "\n",
    "#                 dvs_duration = dvs_duration, # 0 아니면 time sampling # dvs number sampling OR time sampling # gesture, cifar-dvs2, nmnist, ncaltech101\n",
    "#                 # 있는 데이터들 #gesture 100_000 25_000 10_000 1_000 1_000_000 #nmnist 10000 #nmnist_tonic 10_000 25_000\n",
    "#                 # 한 숫자가 1us인듯 (spikingjelly코드에서)\n",
    "#                 # 한 장에 50 timestep만 생산함. 싫으면 my_snn/trying/spikingjelly_dvsgesture의__init__.py 를 참고해봐\n",
    "\n",
    "#                 OTTT_sWS_on = OTTT_sWS_on, # True # False # BPTT끄고, CONV에만 적용됨.\n",
    "\n",
    "#                 DFA_on = DFA_on, # True # False # residual은 dfa지원안함.\n",
    "#                 OTTT_input_trace_on = OTTT_input_trace_on, # True # False # 맨 처음 input에 trace 적용\n",
    "                 \n",
    "#                 e_transport_swap = e_transport_swap, # 1 이상이면 해당 숫자 에포크만큼 val_acc_best가 변화가 없으면 e_transport scheme (BP vs DFA) swap\n",
    "#                 e_transport_swap_tr = e_transport_swap_tr, # 1 이상이면 해당 숫자 에포크만큼 tr_acc_best가 변화가 없으면 e_transport scheme (BP vs DFA) swap\n",
    "#                 e_transport_swap_coin = e_transport_swap_coin, # swap할 수 있는 coin 개수\n",
    "                    \n",
    "#                 drop_rate = drop_rate,\n",
    "\n",
    "#                 exclude_class = exclude_class, # True # False # gesture에서 10번째 클래스 제외\n",
    "\n",
    "#                 merge_polarities = merge_polarities, # True # False # tonic dvs dataset 에서 polarities 합치기\n",
    "#                 denoise_on = denoise_on,\n",
    "\n",
    "#                 I_wanna_sweep_at_this_epoch = I_wanna_sweep_at_this_epoch,\n",
    "#                 dvs_duration_domain = dvs_duration_domain,\n",
    "#                 dvs_relative_timestep = dvs_relative_timestep, # True # False \n",
    "\n",
    "#                 extra_train_dataset = extra_train_dataset,\n",
    "\n",
    "#                 num_workers = 2,\n",
    "#                 chaching_on = True,\n",
    "#                 pin_memory = True, # True # False\n",
    "#                     ) \n",
    "#     # sigmoid와 BN이 있어야 잘된다.\n",
    "#     # average pooling\n",
    "#     # 이 낫다. \n",
    "    \n",
    "#     # nda에서는 decay = 0.25, threshold = 0.5, width =1, surrogate = rectangle, batch = 256, tdBN = True\n",
    "#     ## OTTT 에서는 decay = 0.5, threshold = 1.0, surrogate = sigmoid, batch = 128, BN = True\n",
    "\n",
    "# sweep_id = wandb.sweep(sweep=sweep_configuration, project=f'my_snn {unique_name_hyper}')\n",
    "# wandb.agent(sweep_id, function=hyper_iter, count=10000, project=f'my_snn {unique_name_hyper}')\n"
   ]
  },
  {
   "cell_type": "code",
   "execution_count": 8,
   "metadata": {},
   "outputs": [
    {
     "data": {
      "application/vnd.jupyter.widget-view+json": {
       "model_id": "89788b6bd00046668ebfa54411ec7c24",
       "version_major": 2,
       "version_minor": 0
      },
      "text/plain": [
       "VBox(children=(Label(value='25.293 MB of 25.293 MB uploaded (3.353 MB deduped)\\r'), FloatProgress(value=1.0, m…"
      ]
     },
     "metadata": {},
     "output_type": "display_data"
    },
    {
     "data": {
      "text/html": [
       "W&B sync reduced upload amount by 13.0%"
      ],
      "text/plain": [
       "<IPython.core.display.HTML object>"
      ]
     },
     "metadata": {},
     "output_type": "display_data"
    },
    {
     "data": {
      "text/html": [
       "<style>\n",
       "    table.wandb td:nth-child(1) { padding: 0 10px; text-align: left ; width: auto;} td:nth-child(2) {text-align: left ; width: 100%}\n",
       "    .wandb-row { display: flex; flex-direction: row; flex-wrap: wrap; justify-content: flex-start; width: 100% }\n",
       "    .wandb-col { display: flex; flex-direction: column; flex-basis: 100%; flex: 1; padding: 10px; }\n",
       "    </style>\n",
       "<div class=\"wandb-row\"><div class=\"wandb-col\"><h3>Run history:</h3><br/><table class=\"wandb\"><tr><td>DFA_flag</td><td>▁▁▁▁▁▁▁▁▁▁▁▁▁▁▁▁▁▁▁▁▁▁▁▁▁▁▁▁▁▁▁▁▁▁▁▁▁▁▁▁</td></tr><tr><td>epoch</td><td>▁▁▁▁▂▂▂▂▂▃▃▃▃▃▃▄▄▄▄▄▅▅▅▅▅▅▆▆▆▆▆▇▇▇▇▇▇███</td></tr><tr><td>iter_acc</td><td>▁▁▅▆▇▂▇▅▇▄▄▇▅▆▅▇▇█▇▇█▆▇▇█▇█▇███▅▇▇▇▇▇▇█▇</td></tr><tr><td>summary_val_acc</td><td>▁▃▅▆▆▇▇▇█▇██████████████████████████████</td></tr><tr><td>tr_acc</td><td>▁▃▅▆▇▇▇▇▇███████████████████████████████</td></tr><tr><td>tr_epoch_loss</td><td>█▇▅▄▄▄▃▃▃▃▃▃▂▂▂▂▂▂▂▂▂▂▁▁▁▁▁▁▁▁▁▁▁▁▁▁▁▁▁▁</td></tr><tr><td>val_acc_best</td><td>▁▃▅▆▇▇▇▇▇▇██████████████████████████████</td></tr><tr><td>val_acc_now</td><td>▁▃▅▆▆▇▇▇█▇██████████████████████████████</td></tr><tr><td>val_loss</td><td>█▆▄▃▂▂▂▂▂▁▁▁▁▁▁▁▁▁▁▁▁▁▁▁▁▁▁▁▁▁▁▁▂▁▂▂▂▂▂▂</td></tr></table><br/></div><div class=\"wandb-col\"><h3>Run summary:</h3><br/><table class=\"wandb\"><tr><td>DFA_flag</td><td>0.0</td></tr><tr><td>epoch</td><td>299</td></tr><tr><td>iter_acc</td><td>0.9375</td></tr><tr><td>tr_acc</td><td>1.0</td></tr><tr><td>tr_epoch_loss</td><td>0.0586</td></tr><tr><td>val_acc_best</td><td>0.89583</td></tr><tr><td>val_acc_now</td><td>0.87917</td></tr><tr><td>val_loss</td><td>1.1074</td></tr></table><br/></div></div>"
      ],
      "text/plain": [
       "<IPython.core.display.HTML object>"
      ]
     },
     "metadata": {},
     "output_type": "display_data"
    },
    {
     "data": {
      "text/html": [
       " View run <strong style=\"color:#cdcd00\">usual-serenity-6185</strong> at: <a href='https://wandb.ai/bhkim003-seoul-national-university/my_snn%20main/runs/jjx9tsxn' target=\"_blank\">https://wandb.ai/bhkim003-seoul-national-university/my_snn%20main/runs/jjx9tsxn</a><br/> View project at: <a href='https://wandb.ai/bhkim003-seoul-national-university/my_snn%20main' target=\"_blank\">https://wandb.ai/bhkim003-seoul-national-university/my_snn%20main</a><br/>Synced 7 W&B file(s), 0 media file(s), 17 artifact file(s) and 1 other file(s)"
      ],
      "text/plain": [
       "<IPython.core.display.HTML object>"
      ]
     },
     "metadata": {},
     "output_type": "display_data"
    },
    {
     "data": {
      "text/html": [
       "Find logs at: <code>./wandb/run-20241013_145030-jjx9tsxn/logs</code>"
      ],
      "text/plain": [
       "<IPython.core.display.HTML object>"
      ]
     },
     "metadata": {},
     "output_type": "display_data"
    },
    {
     "data": {
      "text/html": [
       "The new W&B backend becomes opt-out in version 0.18.0; try it out with `wandb.require(\"core\")`! See https://wandb.me/wandb-core for more information."
      ],
      "text/plain": [
       "<IPython.core.display.HTML object>"
      ]
     },
     "metadata": {},
     "output_type": "display_data"
    }
   ],
   "source": [
    "wandb.finish() "
   ]
  },
  {
   "cell_type": "code",
   "execution_count": 9,
   "metadata": {},
   "outputs": [],
   "source": [
    "# import numpy as np\n",
    "# import matplotlib.pyplot as plt\n",
    "# import json\n",
    "# run_name = 'main_FINAL_TEST'\n",
    "\n",
    "# unique_name = run_name\n",
    "# def pad_array_to_match_length(array1, array2):\n",
    "#     if len(array1) > len(array2):\n",
    "#         padded_array2 = np.pad(array2, (0, len(array1) - len(array2)), 'constant')\n",
    "#         return array1, padded_array2\n",
    "#     elif len(array2) > len(array1):\n",
    "#         padded_array1 = np.pad(array1, (0, len(array2) - len(array1)), 'constant')\n",
    "#         return padded_array1, array2\n",
    "#     else:\n",
    "#         return array1, array2\n",
    "# def load_hyperparameters(filename=f'result_save/hyperparameters_{unique_name}.json'):\n",
    "#     with open(filename, 'r') as f:\n",
    "#         return json.load(f)\n",
    "    \n",
    "\n",
    "\n",
    "\n",
    "\n",
    "# current_time = '20240628_110116'\n",
    "# base_name = f'{current_time}'\n",
    "# iter_acc_file_name = f'result_save/{base_name}_iter_acc_array_{unique_name}.npy'\n",
    "# val_acc_file_name = f'result_save/{base_name}_val_acc_now_array_{unique_name}.npy'\n",
    "# hyperparameters_file_name = f'result_save/{base_name}_hyperparameters_{unique_name}.json'\n",
    "\n",
    "# ### if you want to just see most recent train and val acc###########################\n",
    "# iter_acc_file_name = f'result_save/iter_acc_array_{unique_name}.npy'\n",
    "# tr_acc_file_name = f'result_save/tr_acc_array_{unique_name}.npy'\n",
    "# val_acc_file_name = f'result_save/val_acc_now_array_{unique_name}.npy'\n",
    "# hyperparameters_file_name = f'result_save/hyperparameters_{unique_name}.json'\n",
    "\n",
    "# loaded_iter_acc_array = np.load(iter_acc_file_name)*100\n",
    "# loaded_tr_acc_array = np.load(tr_acc_file_name)*100\n",
    "# loaded_val_acc_array = np.load(val_acc_file_name)*100\n",
    "# hyperparameters = load_hyperparameters(hyperparameters_file_name)\n",
    "\n",
    "# loaded_iter_acc_array, loaded_val_acc_array = pad_array_to_match_length(loaded_iter_acc_array, loaded_val_acc_array)\n",
    "# loaded_iter_acc_array, loaded_tr_acc_array = pad_array_to_match_length(loaded_iter_acc_array, loaded_tr_acc_array)\n",
    "# loaded_val_acc_array, loaded_tr_acc_array = pad_array_to_match_length(loaded_val_acc_array, loaded_tr_acc_array)\n",
    "\n",
    "# top_iter_acc = np.max(loaded_iter_acc_array)\n",
    "# top_tr_acc = np.max(loaded_tr_acc_array)\n",
    "# top_val_acc = np.max(loaded_val_acc_array)\n",
    "\n",
    "# which_data = hyperparameters['which_data']\n",
    "# BPTT_on = hyperparameters['BPTT_on']\n",
    "# current_epoch = hyperparameters['current epoch']\n",
    "# surrogate = hyperparameters['surrogate']\n",
    "# cfg = hyperparameters['cfg']\n",
    "# tdBN_on = hyperparameters['tdBN_on']\n",
    "# BN_on = hyperparameters['BN_on']\n",
    "\n",
    "\n",
    "# iterations = np.arange(len(loaded_iter_acc_array))\n",
    "\n",
    "# # 그래프 그리기\n",
    "# plt.figure(figsize=(10, 5))\n",
    "# plt.plot(iterations, loaded_iter_acc_array, label='Iter Accuracy', color='g', alpha=0.2)\n",
    "# plt.plot(iterations, loaded_tr_acc_array, label='Training Accuracy', color='b')\n",
    "# plt.plot(iterations, loaded_val_acc_array, label='Validation Accuracy', color='r')\n",
    "\n",
    "# # # 텍스트 추가\n",
    "# # plt.text(0.05, 0.95, f'Top Training Accuracy: {100*top_iter_acc:.2f}%', transform=plt.gca().transAxes, fontsize=12, verticalalignment='top', horizontalalignment='left', color='blue')\n",
    "# # plt.text(0.05, 0.90, f'Top Validation Accuracy: {100*top_val_acc:.2f}%', transform=plt.gca().transAxes, fontsize=12, verticalalignment='top', horizontalalignment='left', color='red')\n",
    "# # 텍스트 추가\n",
    "# plt.text(0.5, 0.10, f'Top Training Accuracy: {top_tr_acc:.2f}%', transform=plt.gca().transAxes, fontsize=12, verticalalignment='top', horizontalalignment='center', color='blue')\n",
    "# plt.text(0.5, 0.05, f'Top Validation Accuracy: {top_val_acc:.2f}%', transform=plt.gca().transAxes, fontsize=12, verticalalignment='top', horizontalalignment='center', color='red')\n",
    "\n",
    "# plt.xlabel('Iterations')\n",
    "# plt.ylabel('Accuracy [%]')\n",
    "\n",
    "# # 그래프 제목에 하이퍼파라미터 정보 추가\n",
    "# title = f'Training and Validation Accuracy over Iterations\\n\\nData: {which_data}, BPTT: {\"On\" if BPTT_on else \"Off\"}, Current Epoch: {current_epoch}, Surrogate: {surrogate},\\nCFG: {cfg}, tdBN: {\"On\" if tdBN_on else \"Off\"}, BN: {\"On\" if BN_on else \"Off\"}'\n",
    "\n",
    "# plt.title(title)\n",
    "\n",
    "# plt.legend(loc='lower right')\n",
    "# plt.xlim(0)  # x축을 0부터 시작\n",
    "# plt.grid(True)\n",
    "# plt.show()"
   ]
  }
 ],
 "metadata": {
  "kernelspec": {
   "display_name": "aedat2",
   "language": "python",
   "name": "python3"
  },
  "language_info": {
   "codemirror_mode": {
    "name": "ipython",
    "version": 3
   },
   "file_extension": ".py",
   "mimetype": "text/x-python",
   "name": "python",
   "nbconvert_exporter": "python",
   "pygments_lexer": "ipython3",
   "version": "3.8.18"
  }
 },
 "nbformat": 4,
 "nbformat_minor": 2
}
