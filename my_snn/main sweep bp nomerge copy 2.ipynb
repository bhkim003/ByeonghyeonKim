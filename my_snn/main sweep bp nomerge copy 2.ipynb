{
 "cells": [
  {
   "cell_type": "code",
   "execution_count": 1,
   "metadata": {},
   "outputs": [],
   "source": [
    "# Copyright (c) 2024 Byeonghyeon Kim \n",
    "# github site: https://github.com/bhkim003/ByeonghyeonKim\n",
    "# email: bhkim003@snu.ac.kr\n",
    " \n",
    "# Permission is hereby granted, free of charge, to any person obtaining a copy of\n",
    "# this software and associated documentation files (the \"Software\"), to deal in\n",
    "# the Software without restriction, including without limitation the rights to\n",
    "# use, copy, modify, merge, publish, distribute, sublicense, and/or sell copies of\n",
    "# the Software, and to permit persons to whom the Software is furnished to do so,\n",
    "# subject to the following conditions:\n",
    " \n",
    "# The above copyright notice and this permission notice shall be included in all\n",
    "# copies or substantial portions of the Software.\n",
    " \n",
    "# THE SOFTWARE IS PROVIDED \"AS IS\", WITHOUT WARRANTY OF ANY KIND, EXPRESS OR\n",
    "# IMPLIED, INCLUDING BUT NOT LIMITED TO THE WARRANTIES OF MERCHANTABILITY, FITNESS\n",
    "# FOR A PARTICULAR PURPOSE AND NONINFRINGEMENT. IN NO EVENT SHALL THE AUTHORS OR\n",
    "# COPYRIGHT HOLDERS BE LIABLE FOR ANY CLAIM, DAMAGES OR OTHER LIABILITY, WHETHER\n",
    "# IN AN ACTION OF CONTRACT, TORT OR OTHERWISE, ARISING FROM, OUT OF OR IN\n",
    "# CONNECTION WITH THE SOFTWARE OR THE USE OR OTHER DEALINGS IN THE SOFTWARE.\n"
   ]
  },
  {
   "cell_type": "code",
   "execution_count": 2,
   "metadata": {},
   "outputs": [
    {
     "name": "stderr",
     "output_type": "stream",
     "text": [
      "/tmp/ipykernel_24770/3914466541.py:46: DeprecationWarning: The module snntorch.spikevision is deprecated. For loading neuromorphic datasets, we recommend using the Tonic project: https://github.com/neuromorphs/tonic\n",
      "  from snntorch.spikevision import spikedata\n"
     ]
    }
   ],
   "source": [
    "import sys\n",
    "import os\n",
    "import argparse\n",
    "import torch\n",
    "import torch.nn as nn\n",
    "import torch.nn.functional as F\n",
    "import torch.backends.cudnn as cudnn\n",
    "import torch.optim as optim\n",
    "import torch.optim.lr_scheduler as lr_scheduler\n",
    "from torch.utils.data import Dataset, DataLoader\n",
    "\n",
    "import torchvision\n",
    "import torchvision.datasets\n",
    "import torchvision.transforms as transforms\n",
    "\n",
    "import numpy as np\n",
    "import matplotlib.pyplot as plt\n",
    "\n",
    "import time\n",
    "\n",
    "from snntorch import spikegen\n",
    "import matplotlib.pyplot as plt\n",
    "import snntorch.spikeplot as splt\n",
    "from IPython.display import HTML\n",
    "\n",
    "from tqdm import tqdm\n",
    "\n",
    "from apex.parallel import DistributedDataParallel as DDP\n",
    "\n",
    "import random\n",
    "import datetime\n",
    "\n",
    "import json\n",
    "\n",
    "from sklearn.utils import shuffle\n",
    "\n",
    "''' 레퍼런스\n",
    "https://spikingjelly.readthedocs.io/zh-cn/0.0.0.0.4/spikingjelly.datasets.html#module-spikingjelly.datasets\n",
    "https://github.com/GorkaAbad/Sneaky-Spikes/blob/main/datasets.py\n",
    "https://github.com/GorkaAbad/Sneaky-Spikes/blob/main/how_to.md\n",
    "https://github.com/nmi-lab/torchneuromorphic\n",
    "https://snntorch.readthedocs.io/en/latest/snntorch.spikevision.spikedata.html#shd\n",
    "'''\n",
    "\n",
    "import snntorch\n",
    "from snntorch.spikevision import spikedata\n",
    "\n",
    "from spikingjelly.datasets.dvs128_gesture import DVS128Gesture\n",
    "from spikingjelly.datasets.cifar10_dvs import CIFAR10DVS\n",
    "from spikingjelly.datasets.n_mnist import NMNIST\n",
    "# from spikingjelly.datasets.es_imagenet import ESImageNet\n",
    "from spikingjelly.datasets import split_to_train_test_set\n",
    "from spikingjelly.datasets.n_caltech101 import NCaltech101\n",
    "from spikingjelly.datasets import pad_sequence_collate, padded_sequence_mask\n",
    "\n",
    "import torchneuromorphic\n",
    "\n",
    "import wandb\n",
    "\n",
    "from torchviz import make_dot\n",
    "import graphviz"
   ]
  },
  {
   "cell_type": "code",
   "execution_count": 3,
   "metadata": {},
   "outputs": [
    {
     "data": {
      "image/png": "[encoded data removed]",
      "text/plain": [
       "<Figure size 800x600 with 2 Axes>"
      ]
     },
     "metadata": {},
     "output_type": "display_data"
    }
   ],
   "source": [
    "# my module import\n",
    "from modules import *\n",
    "\n",
    "# modules 폴더에 새모듈.py 만들면\n",
    "# modules/__init__py 파일에 form .새모듈 import * 하셈\n",
    "# 그리고 새모듈.py에서 from modules.새모듈 import * 하셈\n"
   ]
  },
  {
   "cell_type": "code",
   "execution_count": 4,
   "metadata": {},
   "outputs": [],
   "source": [
    "def my_snn_system(devices = \"0,1,2,3\",\n",
    "                    single_step = False, # True # False\n",
    "                    unique_name = 'main',\n",
    "                    my_seed = 42,\n",
    "                    TIME = 10,\n",
    "                    BATCH = 256,\n",
    "                    IMAGE_SIZE = 32,\n",
    "                    which_data = 'CIFAR10',\n",
    "                    # CLASS_NUM = 10,\n",
    "                    data_path = '/data2',\n",
    "                    rate_coding = True,\n",
    "    \n",
    "                    lif_layer_v_init = 0.0,\n",
    "                    lif_layer_v_decay = 0.6,\n",
    "                    lif_layer_v_threshold = 1.2,\n",
    "                    lif_layer_v_reset = 0.0,\n",
    "                    lif_layer_sg_width = 1,\n",
    "\n",
    "                    # synapse_conv_in_channels = IMAGE_PIXEL_CHANNEL,\n",
    "                    synapse_conv_kernel_size = 3,\n",
    "                    synapse_conv_stride = 1,\n",
    "                    synapse_conv_padding = 1,\n",
    "                    synapse_conv_trace_const1 = 1,\n",
    "                    synapse_conv_trace_const2 = 0.6,\n",
    "\n",
    "                    # synapse_fc_out_features = CLASS_NUM,\n",
    "                    synapse_fc_trace_const1 = 1,\n",
    "                    synapse_fc_trace_const2 = 0.6,\n",
    "\n",
    "                    pre_trained = False,\n",
    "                    convTrue_fcFalse = True,\n",
    "                    cfg = [64, 64],\n",
    "                    net_print = False, # True # False\n",
    "                    weight_count_print = False, # True # False\n",
    "                    pre_trained_path = \"net_save/save_now_net.pth\",\n",
    "                    learning_rate = 0.0001,\n",
    "                    epoch_num = 200,\n",
    "                    verbose_interval = 100, #숫자 크게 하면 꺼짐\n",
    "                    validation_interval = 10, #숫자 크게 하면 꺼짐\n",
    "                    tdBN_on = False,\n",
    "                    BN_on = False,\n",
    "\n",
    "                    surrogate = 'sigmoid',\n",
    "\n",
    "                    gradient_verbose = False,\n",
    "\n",
    "                    BPTT_on = False,\n",
    "\n",
    "                    optimizer_what = 'SGD', # 'SGD' 'Adam', 'RMSprop'\n",
    "                    scheduler_name = 'no',\n",
    "                    \n",
    "                    ddp_on = True,\n",
    "\n",
    "                    nda_net = False,\n",
    "                    \n",
    "                    domain_il_epoch = 0, # over 0, then domain il mode on\n",
    "\n",
    "                    dvs_clipping = 1, \n",
    "                    dvs_duration = 10005,\n",
    "\n",
    "                    OTTT_sWS_on = True, # True # False\n",
    "\n",
    "                    DFA_on = False, # True # False\n",
    "                    OTTT_input_trace_on = False, # True # False\n",
    "                 \n",
    "                    e_transport_swap = 5, # 1 이상이면 해당 숫자 에포크만큼 val_acc_best가 변화가 없으면 e_transport scheme (BP vs DFA) swap\n",
    "                    e_transport_swap_tr = 0, # 1 이상이면 해당 숫자 에포크만큼 val_acc_best가 변화가 없으면 e_transport scheme (BP vs DFA) swap\n",
    "\n",
    "                    drop_rate = 0.5, \n",
    "\n",
    "                    exclude_class = True, # True # False # gesture에서 10번째 클래스 제외\n",
    "\n",
    "                    merge_polarities = True, # True # False # tonic dvs dataset 에서 polarities 합치기\n",
    "                  ):\n",
    "    ## hyperparameter check #############################################################\n",
    "    if OTTT_sWS_on == True:\n",
    "        assert BPTT_on == False and tdBN_on == False and BN_on == False\n",
    "        if convTrue_fcFalse == False:\n",
    "            assert single_step == True\n",
    "    if single_step == True:\n",
    "        assert BPTT_on == False and tdBN_on == False \n",
    "    if tdBN_on == True:\n",
    "        assert BPTT_on == True\n",
    "    if pre_trained == True:\n",
    "        print('\\n\\n')\n",
    "        print(\"Caution! pre_trained is True\\n\\n\"*3)    \n",
    "    if DFA_on == True:\n",
    "        assert single_step == True and BPTT_on == False and any(isinstance(item, list) for item in cfg) == False\n",
    "    if OTTT_input_trace_on == True:\n",
    "        assert BPTT_on == False and single_step == True\n",
    "    ######################################################################################\n",
    "\n",
    "\n",
    "    ## 함수 내 모든 로컬 변수 저장 ########################################################\n",
    "    hyperparameters = locals()\n",
    "    hyperparameters['current epoch'] = 0\n",
    "    ######################################################################################\n",
    "    \n",
    "    args_gpu = None\n",
    "    ## DDP settting ######################################################################\n",
    "    if (ddp_on == True):\n",
    "        parser = argparse.ArgumentParser(description='my_snn CIFAR10 Training')\n",
    "\n",
    "        # # local_rank는 command line에서 따로 줄 필요는 없지만, 선언은 필요\n",
    "        parser.add_argument(\"--local_rank\", default=0, type=int)\n",
    "\n",
    "        args = parser.parse_args() # 이거 적어줘야됨. parser argument선언하고\n",
    "\n",
    "        args.gpu = args.local_rank\n",
    "        args_gpu = args.gpu\n",
    "        torch.cuda.set_device(args.gpu)\n",
    "        torch.distributed.init_process_group(backend=\"nccl\", init_method=\"env://\")\n",
    "        args.world_size = torch.distributed.get_world_size()\n",
    "    #######################################################################################\n",
    "\n",
    "\n",
    "    ## wandb 세팅 ###################################################################\n",
    "    current_time = datetime.datetime.now().strftime(\"%Y%m%d_%H%M%S\")\n",
    "    if (ddp_on == True and torch.distributed.get_rank() != 0):\n",
    "        wandb.finish()\n",
    "    if (ddp_on == False or torch.distributed.get_rank() == 0):\n",
    "        wandb.config.update(hyperparameters)\n",
    "        wandb.run.name = f'lr_{learning_rate}_{unique_name}_{which_data}_tstep{TIME}'\n",
    "        wandb.define_metric(\"summary_val_acc\", summary=\"max\")\n",
    "        wandb.run.log_code(\".\", \n",
    "                           include_fn=lambda path: path.endswith(\".py\") or path.endswith(\".ipynb\"),\n",
    "                           exclude_fn=lambda path: 'logs/' in path or 'net_save/' in path or 'result_save/' in path or 'trying/' in path or 'wandb/' in path or 'private/' in path\n",
    "                           )\n",
    "    ###################################################################################\n",
    "\n",
    "\n",
    "\n",
    "    ## gpu setting ##################################################################################################################\n",
    "    os.environ[\"CUDA_DEVICE_ORDER\"]=\"PCI_BUS_ID\" \n",
    "    os.environ[\"CUDA_VISIBLE_DEVICES\"]= devices\n",
    "    ###################################################################################################################################\n",
    "\n",
    "\n",
    "    ## seed setting ##################################################################################################################\n",
    "    seed_assign(my_seed)\n",
    "    ###################################################################################################################################\n",
    "    \n",
    "\n",
    "    ## data_loader 가져오기 ##################################################################################################################\n",
    "    # data loader, pixel channel, class num\n",
    "    train_loader, test_loader, synapse_conv_in_channels, CLASS_NUM = data_loader(\n",
    "            which_data,\n",
    "            data_path, \n",
    "            rate_coding, \n",
    "            BATCH, \n",
    "            IMAGE_SIZE,\n",
    "            ddp_on,\n",
    "            TIME,\n",
    "            dvs_clipping,\n",
    "            dvs_duration,\n",
    "            exclude_class,\n",
    "            merge_polarities)\n",
    "    synapse_fc_out_features = CLASS_NUM\n",
    "    ###########################################################################################################################################\n",
    "\n",
    "    \n",
    "    ## parameter number calculator (안 중요함) ##################################################################################################################\n",
    "    params_num = 0\n",
    "    img_size = IMAGE_SIZE \n",
    "    bias_param = 1 # 1 or 0\n",
    "    classifier_making = False\n",
    "    if (convTrue_fcFalse == True):\n",
    "        past_kernel = synapse_conv_in_channels\n",
    "        for kernel in cfg:\n",
    "            if (classifier_making == False):\n",
    "                if (type(kernel) == list):\n",
    "                    for residual_kernel in kernel:\n",
    "                        if (residual_kernel >= 10000 and residual_kernel < 20000): # separable\n",
    "                            residual_kernel -= 10000\n",
    "                            params_num += (synapse_conv_kernel_size**2 + bias_param) * past_kernel\n",
    "                            params_num += (1**2 * past_kernel + bias_param) * residual_kernel\n",
    "                            past_kernel = residual_kernel  \n",
    "                        elif (residual_kernel >= 20000 and residual_kernel < 30000): # depthwise\n",
    "                            residual_kernel -= 20000\n",
    "                            # 'past_kernel' should be same with 'kernel'\n",
    "                            params_num += (synapse_conv_kernel_size**2 + bias_param) * past_kernel\n",
    "                            past_kernel = residual_kernel  \n",
    "                        else:\n",
    "                            params_num += residual_kernel * ((synapse_conv_kernel_size**2) * past_kernel + bias_param)\n",
    "                            past_kernel = residual_kernel\n",
    "                elif (kernel == 'P' or kernel == 'M'):\n",
    "                    img_size = img_size // 2\n",
    "                elif (kernel == 'D'):\n",
    "                    img_size = 1\n",
    "                elif (kernel == 'L'):\n",
    "                    classifier_making = True\n",
    "                    past_kernel = past_kernel * (img_size**2)\n",
    "                else:\n",
    "                    if (kernel >= 10000 and kernel < 20000): # separable\n",
    "                        kernel -= 10000\n",
    "                        params_num += (synapse_conv_kernel_size**2 + bias_param) * past_kernel\n",
    "                        params_num += (1**2 * past_kernel + bias_param) * kernel\n",
    "                        past_kernel = kernel  \n",
    "                    elif (kernel >= 20000 and kernel < 30000): # depthwise\n",
    "                        kernel -= 20000\n",
    "                        # 'past_kernel' should be same with 'kernel'\n",
    "                        params_num += (synapse_conv_kernel_size**2 + bias_param) * past_kernel\n",
    "                        past_kernel = kernel  \n",
    "                    else:\n",
    "                        params_num += kernel * (synapse_conv_kernel_size**2 * past_kernel + bias_param)\n",
    "                        past_kernel = kernel    \n",
    "            else: # classifier making\n",
    "                params_num += (past_kernel + bias_param) * kernel\n",
    "                past_kernel = kernel\n",
    "        \n",
    "        \n",
    "        if classifier_making == False:\n",
    "            past_kernel = past_kernel*img_size*img_size\n",
    "\n",
    "        params_num += (past_kernel + bias_param) * synapse_fc_out_features\n",
    "    else:\n",
    "        past_in_channel = synapse_conv_in_channels*img_size*img_size\n",
    "        for in_channel in cfg:\n",
    "            if (type(in_channel) == list):\n",
    "                for residual_in_channel in in_channel:\n",
    "                    params_num += (past_in_channel + bias_param) * residual_in_channel\n",
    "                    past_in_channel = residual_in_channel\n",
    "            elif (in_channel == 'P' or in_channel == 'M'):\n",
    "                img_size = img_size // 2\n",
    "                past_in_channel = synapse_conv_in_channels*img_size*img_size\n",
    "            else:\n",
    "                params_num += (past_in_channel + bias_param) * in_channel\n",
    "                past_in_channel = in_channel\n",
    "        params_num += (past_in_channel + bias_param) * synapse_fc_out_features\n",
    "    ###########################################################################################################################################\n",
    "\n",
    "\n",
    "    device = torch.device(\"cuda\" if torch.cuda.is_available() else \"cpu\")\n",
    "\n",
    "    ### network setting #######################################################################################################################\n",
    "    if (convTrue_fcFalse == False):\n",
    "        if (single_step == False):\n",
    "            net = MY_SNN_FC(cfg, synapse_conv_in_channels, IMAGE_SIZE, synapse_fc_out_features,\n",
    "                        synapse_fc_trace_const1, synapse_fc_trace_const2, \n",
    "                        lif_layer_v_init, lif_layer_v_decay, \n",
    "                        lif_layer_v_threshold, lif_layer_v_reset,\n",
    "                        lif_layer_sg_width,\n",
    "                        tdBN_on,\n",
    "                        BN_on, TIME,\n",
    "                        surrogate,\n",
    "                        BPTT_on,\n",
    "                        DFA_on,\n",
    "                        drop_rate).to(device)\n",
    "        else:\n",
    "            net = MY_SNN_FC_sstep(cfg, synapse_conv_in_channels, IMAGE_SIZE, synapse_fc_out_features,\n",
    "                        synapse_fc_trace_const1, synapse_fc_trace_const2, \n",
    "                        lif_layer_v_init, lif_layer_v_decay, \n",
    "                        lif_layer_v_threshold, lif_layer_v_reset,\n",
    "                        lif_layer_sg_width,\n",
    "                        tdBN_on,\n",
    "                        BN_on, TIME,\n",
    "                        surrogate,\n",
    "                        BPTT_on,\n",
    "                        DFA_on,\n",
    "                        OTTT_sWS_on,\n",
    "                        drop_rate).to(device)\n",
    "    else:\n",
    "        if (single_step == False):\n",
    "            net = MY_SNN_CONV(cfg, synapse_conv_in_channels, IMAGE_SIZE,\n",
    "                        synapse_conv_kernel_size, synapse_conv_stride, \n",
    "                        synapse_conv_padding, synapse_conv_trace_const1, \n",
    "                        synapse_conv_trace_const2, \n",
    "                        lif_layer_v_init, lif_layer_v_decay, \n",
    "                        lif_layer_v_threshold, lif_layer_v_reset,\n",
    "                        lif_layer_sg_width,\n",
    "                        synapse_fc_out_features, synapse_fc_trace_const1, synapse_fc_trace_const2,\n",
    "                        tdBN_on,\n",
    "                        BN_on, TIME,\n",
    "                        surrogate,\n",
    "                        BPTT_on,\n",
    "                        OTTT_sWS_on,\n",
    "                        DFA_on,\n",
    "                        drop_rate).to(device)\n",
    "        else:\n",
    "            net = MY_SNN_CONV_sstep(cfg, synapse_conv_in_channels, IMAGE_SIZE,\n",
    "                        synapse_conv_kernel_size, synapse_conv_stride, \n",
    "                        synapse_conv_padding, synapse_conv_trace_const1, \n",
    "                        synapse_conv_trace_const2, \n",
    "                        lif_layer_v_init, lif_layer_v_decay, \n",
    "                        lif_layer_v_threshold, lif_layer_v_reset,\n",
    "                        lif_layer_sg_width,\n",
    "                        synapse_fc_out_features, synapse_fc_trace_const1, synapse_fc_trace_const2,\n",
    "                        tdBN_on,\n",
    "                        BN_on, TIME,\n",
    "                        surrogate,\n",
    "                        BPTT_on,\n",
    "                        OTTT_sWS_on,\n",
    "                        DFA_on,\n",
    "                        drop_rate).to(device)\n",
    "    if (nda_net == True):\n",
    "        net = VGG(cfg = cfg, num_classes=10, batch_norm = tdBN_on, in_c = synapse_conv_in_channels, \n",
    "                    lif_layer_v_threshold=lif_layer_v_threshold, lif_layer_v_decay=lif_layer_v_decay, lif_layer_sg_width=lif_layer_sg_width)\n",
    "        net.T = TIME\n",
    "    if ddp_on == False:\n",
    "        net = torch.nn.DataParallel(net) \n",
    "    \n",
    "    if pre_trained == True:\n",
    "        net.load_state_dict(torch.load(pre_trained_path))\n",
    "    \n",
    "    if ddp_on == True:\n",
    "        device = args.gpu\n",
    "        net = net.to(args.gpu)\n",
    "        net = DDP(net, delay_allreduce=True)\n",
    "\n",
    "    net = net.to(device)\n",
    "    if (net_print == True):\n",
    "        if ddp_on == False or torch.distributed.get_rank() == 0:\n",
    "            print(net)    \n",
    "    ####################################################################################################################################\n",
    "    \n",
    "\n",
    "    ## wandb logging ###########################################\n",
    "    if ddp_on == False or torch.distributed.get_rank() == 0:\n",
    "        wandb.watch(net, log=\"all\", log_freq = 10) #gradient, parameter logging해줌\n",
    "    ############################################################\n",
    "\n",
    "    ## param num and memory estimation except BN with MY own calculation some lines above ##########################################\n",
    "    if ddp_on == False or torch.distributed.get_rank() == 0:\n",
    "        real_param_num = sum(p.numel() for p in net.parameters() if p.requires_grad)\n",
    "        if (weight_count_print == True):\n",
    "            for name, param in net.named_parameters():\n",
    "                if param.requires_grad:\n",
    "                    print(f'Layer: {name} | Number of parameters: {param.numel()}')\n",
    "        # Batch norm 있으면 아래 두 개 서로 다를 수 있음.\n",
    "        # assert real_param_num == params_num, f'parameter number is not same. real_param_num: {real_param_num}, params_num: {params_num}'    \n",
    "        print('='*50)\n",
    "        print(f\"My Num of PARAMS: {params_num:,}, system's param_num : {real_param_num:,}\")\n",
    "        memory = params_num / 8 / 1024 / 1024 # MB\n",
    "        precision = 32\n",
    "        memory = memory * precision \n",
    "        print(f\"Memory: {memory:.2f}MiB at {precision}-bit\")\n",
    "        print('='*50)\n",
    "    ##############################################################################################################################\n",
    "\n",
    "\n",
    "\n",
    "    ## criterion ########################################## # loss 구해주는 친구\n",
    "    criterion = nn.CrossEntropyLoss().to(device)\n",
    "    if (OTTT_sWS_on == True):\n",
    "        # criterion = nn.CrossEntropyLoss().to(device)\n",
    "        criterion = lambda y_t, target_t: ((1 - 0.05) * F.cross_entropy(y_t, target_t) + 0.05 * F.mse_loss(y_t, F.one_hot(target_t, CLASS_NUM).float())) / TIME \n",
    "        if which_data == 'DVS_GESTURE':\n",
    "            criterion = lambda y_t, target_t: ((1 - 0.001) * F.cross_entropy(y_t, target_t) + 0.001 * F.mse_loss(y_t, F.one_hot(target_t, CLASS_NUM).float())) / TIME \n",
    "    ####################################################\n",
    "    \n",
    "\n",
    "\n",
    "\n",
    "    ## optimizer, scheduler ########################################################################\n",
    "    if(optimizer_what == 'SGD'):\n",
    "        # optimizer = optim.SGD(net.parameters(), lr=learning_rate, momentum=0.9)\n",
    "        optimizer = optim.SGD(net.parameters(), lr=learning_rate, momentum=0.9, weight_decay=0)\n",
    "    elif(optimizer_what == 'Adam'):\n",
    "        optimizer = torch.optim.Adam(net.parameters(), lr=learning_rate)\n",
    "        # optimizer = torch.optim.Adam(net.parameters(), lr=0.00001)\n",
    "        # optimizer = torch.optim.Adam(net.parameters(), lr=learning_rate/256 * BATCH, weight_decay=1e-4)\n",
    "        # optimizer = optim.Adam(net.parameters(), lr=learning_rate, weight_decay=0, betas=(0.9, 0.999))\n",
    "    elif(optimizer_what == 'RMSprop'):\n",
    "        pass\n",
    "\n",
    "\n",
    "    if (scheduler_name == 'StepLR'):\n",
    "        scheduler = lr_scheduler.StepLR(optimizer, step_size=10, gamma=0.1)\n",
    "    elif (scheduler_name == 'ExponentialLR'):\n",
    "        scheduler = lr_scheduler.ExponentialLR(optimizer, gamma=0.95)\n",
    "    elif (scheduler_name == 'ReduceLROnPlateau'):\n",
    "        scheduler = lr_scheduler.ReduceLROnPlateau(optimizer, mode='min', factor=0.1, patience=10)\n",
    "    elif (scheduler_name == 'CosineAnnealingLR'):\n",
    "        # scheduler = lr_scheduler.CosineAnnealingLR(optimizer, eta_min=0, T_max=50)\n",
    "        scheduler = torch.optim.lr_scheduler.CosineAnnealingLR(optimizer, eta_min=0, T_max=epoch_num)\n",
    "    elif (scheduler_name == 'OneCycleLR'):\n",
    "        scheduler = lr_scheduler.OneCycleLR(optimizer, max_lr=0.1, steps_per_epoch=len(train_loader), epochs=100)\n",
    "    else:\n",
    "        pass # 'no' scheduler\n",
    "    ## optimizer, scheduler ########################################################################\n",
    "\n",
    "\n",
    "    tr_acc = 0\n",
    "    tr_correct = 0\n",
    "    tr_total = 0\n",
    "    tr_acc_best = 0\n",
    "    tr_epoch_loss_temp = 0\n",
    "    tr_epoch_loss= 0\n",
    "    val_acc_best = 0\n",
    "    val_acc_now = 0\n",
    "    val_loss = 0\n",
    "    elapsed_time_val = 0\n",
    "    no_val_best_growth_count = 0\n",
    "    no_tr_best_growth_count = 0\n",
    "    iter_acc_array = np.array([])\n",
    "    tr_acc_array = np.array([])\n",
    "    val_acc_now_array = np.array([])\n",
    "    DFA_current = DFA_on\n",
    "    DFA_toggle = False\n",
    "    DFA_flag = 1.0 if DFA_current == True else 0.0\n",
    "    iter_of_val = False\n",
    "    #======== EPOCH START ==========================================================================================\n",
    "    for epoch in range(epoch_num):\n",
    "        if (e_transport_swap > 0 or e_transport_swap_tr > 0):\n",
    "            assert not (e_transport_swap > 0 and e_transport_swap_tr > 0)\n",
    "            if e_transport_swap > 0 and no_val_best_growth_count == e_transport_swap:\n",
    "                net = BP_DFA_SWAP(net, convTrue_fcFalse, single_step, ddp_on, args_gpu)\n",
    "                no_val_best_growth_count = 0\n",
    "                DFA_current = not DFA_current\n",
    "                DFA_toggle = True\n",
    "            if e_transport_swap_tr > 0 and no_tr_best_growth_count == e_transport_swap_tr:\n",
    "                net = BP_DFA_SWAP(net, convTrue_fcFalse, single_step, ddp_on, args_gpu)\n",
    "                no_tr_best_growth_count = 0\n",
    "                DFA_current = not DFA_current\n",
    "                DFA_toggle = True\n",
    "\n",
    "        if ddp_on == False or torch.distributed.get_rank() == 0:\n",
    "            # print('EPOCH', epoch)\n",
    "            pass\n",
    "        epoch_start_time = time.time()\n",
    "\n",
    "        # if (domain_il_epoch>0 and which_data == 'PMNIST'):\n",
    "        #     k = epoch // domain_il_epoch\n",
    "        #     xtrain=data[k]['train']['x']\n",
    "        #     ytrain=data[k]['train']['y']\n",
    "        #     xtest =data[k]['test']['x']\n",
    "        #     ytest =data[k]['test']['y']\n",
    "\n",
    "        \n",
    "        ####### iterator : input_loading & tqdm을 통한 progress_bar 생성###################\n",
    "        iterator = enumerate(train_loader, 0)\n",
    "        if ddp_on == False or torch.distributed.get_rank() == 0:  \n",
    "            iterator = tqdm(iterator, total=len(train_loader), desc='train', dynamic_ncols=True, position=0, leave=True)\n",
    "        ##################################################################################   \n",
    "        \n",
    "        #### validation_interval이 batch size보다 작을 시 validation_interval을 batch size로 맞춰줌#############\n",
    "        validation_interval2 = validation_interval\n",
    "        if (validation_interval > len(train_loader)):\n",
    "            validation_interval2 = len(train_loader)\n",
    "        ##################################################################################################\n",
    "\n",
    "\n",
    "        ###### ITERATION START ##########################################################################################################\n",
    "        for i, data in iterator:\n",
    "            iter_one_train_time_start = time.time()\n",
    "            net.train() # train 모드로 바꿔줘야함\n",
    "\n",
    "            ### data loading & semi-pre-processing ################################################################################\n",
    "            if len(data) == 2:\n",
    "                inputs, labels = data\n",
    "                # 처리 로직 작성\n",
    "            elif len(data) == 3:\n",
    "                inputs, labels, x_len = data\n",
    "                # print('x_len',x_len)\n",
    "                # mask = padded_sequence_mask(x_len)\n",
    "                # max_time_step = x_len.max()\n",
    "                # min_time_step = x_len.min()\n",
    "            ## batch 크기 ######################################\n",
    "            real_batch = labels.size(0)\n",
    "            ###########################################################\n",
    "\n",
    "            ###########################################################################################################################        \n",
    "            if (which_data == 'n_tidigits'):\n",
    "                inputs = inputs.permute(0, 1, 3, 2, 4)\n",
    "                labels = labels[:, 0, :]\n",
    "                labels = torch.argmax(labels, dim=1)\n",
    "            elif (which_data == 'heidelberg'):\n",
    "                inputs = inputs.view(5, 1000, 1, 700, 1)\n",
    "                print(\"\\n\\n\\n경고!!!! heidelberg 이거 타임스텝이랑 채널 잘 바꿔줘라!!!\\n\\n\\n\\n\")\n",
    "            # print('inputs',inputs.size(),'\\nlabels',labels.size())\n",
    "            # print(labels)\n",
    "                \n",
    "            if (which_data == 'DVS_CIFAR10' or which_data == 'DVS_GESTURE' or which_data == 'DVS_GESTURE_TONIC' or which_data == 'DVS_CIFAR10_2' or which_data == 'NMNIST' or which_data == 'NMNIST_TONIC' or which_data == 'N_CALTECH101' or which_data == 'n_tidigits' or which_data == 'heidelberg'):\n",
    "                inputs = inputs.permute(1, 0, 2, 3, 4)\n",
    "            elif rate_coding == True :\n",
    "                inputs = spikegen.rate(inputs, num_steps=TIME)\n",
    "            else :\n",
    "                inputs = inputs.repeat(TIME, 1, 1, 1, 1)\n",
    "            # inputs: [Time, Batch, Channel, Height, Width]  \n",
    "            ####################################################################################################################### \n",
    "                \n",
    "            \n",
    "            # # dvs 데이터 시각화 코드 (확인 필요할 시 써라)\n",
    "            # ##############################################################################################\n",
    "            # dvs_visualization(inputs, labels, TIME, BATCH, my_seed)\n",
    "            # #####################################################################################################\n",
    "\n",
    "            ## to (device) #######################################\n",
    "            inputs = inputs.to(device)\n",
    "            labels = labels.to(device)\n",
    "            ###########################################################\n",
    "\n",
    "\n",
    "            ## gradient 초기화 #######################################\n",
    "            optimizer.zero_grad()\n",
    "            ###########################################################\n",
    "            \n",
    "            ## DVS gesture에서 other label자리 매꾸기 ###############\n",
    "            if (which_data == 'DVS_GESTURE'):\n",
    "                labels[labels>2] -= 1\n",
    "            #######################################################\n",
    "\n",
    "            if single_step == False:\n",
    "                # net에 넣어줄때는 batch가 젤 앞 차원으로 와야함. # dataparallel때매##############################\n",
    "                # inputs: [Time, Batch, Channel, Height, Width]   \n",
    "                inputs = inputs.permute(1, 0, 2, 3, 4) # net에 넣어줄때는 batch가 젤 앞 차원으로 와야함. # dataparallel때매\n",
    "                # inputs: [Batch, Time, Channel, Height, Width] \n",
    "                #################################################################################################\n",
    "            else:\n",
    "                labels = labels.repeat(TIME, 1)\n",
    "                ## first input도 ottt trace 적용하기 위한 코드 (validation 시에는 필요X) ##########################\n",
    "                if OTTT_input_trace_on == True:\n",
    "                    spike = inputs\n",
    "                    trace = torch.full_like(spike, fill_value = 0.0, dtype = torch.float, requires_grad=False)\n",
    "                    inputs = []\n",
    "                    for t in range(TIME):\n",
    "                        trace[t] = trace[t-1]*synapse_conv_trace_const2 + spike[t]*synapse_conv_trace_const1\n",
    "                        inputs += [[spike[t], trace[t]]]\n",
    "                ##################################################################################################\n",
    "                        \n",
    "            if merge_polarities == True:\n",
    "                inputs = inputs[:,:,0,:,:]\n",
    "\n",
    "            if single_step == False:\n",
    "                ### input --> net --> output #####################################################\n",
    "                outputs = net(inputs)\n",
    "                ##################################################################################\n",
    "                ## loss, backward ##########################################\n",
    "                loss = criterion(outputs, labels)\n",
    "                loss.backward()\n",
    "                ############################################################\n",
    "                ## weight 업데이트!! ##################################\n",
    "                optimizer.step()\n",
    "                ################################################################\n",
    "            else:\n",
    "                outputs_all = []\n",
    "                loss = 0.0\n",
    "                for t in range(TIME):\n",
    "                    outputs_one_time = net(inputs[t])\n",
    "                    one_time_loss = criterion(outputs_one_time, labels[t].contiguous())\n",
    "                    one_time_loss.backward() # one_time backward\n",
    "                    loss += one_time_loss.data\n",
    "                    outputs_all.append(outputs_one_time.detach())\n",
    "                optimizer.step() # full step time update\n",
    "                outputs_all = torch.stack(outputs_all, dim=1)\n",
    "                outputs = outputs_all.mean(1) # ottt꺼 쓸때\n",
    "                labels = labels[0]\n",
    "                loss /= TIME\n",
    "            tr_epoch_loss_temp += loss.data/len(train_loader)\n",
    "\n",
    "            ## net 그림 출력해보기 #################################################################\n",
    "            # print('시각화')\n",
    "            # make_dot(outputs, params=dict(list(net.named_parameters()))).render(\"net_torchviz\", format=\"png\")\n",
    "            # return 0\n",
    "            ##################################################################################\n",
    "\n",
    "            #### batch 어긋남 방지 ###############################################\n",
    "            assert real_batch == outputs.size(0), f'batch size is not same. real_batch: {real_batch}, outputs.size(0): {outputs.size(0)}'\n",
    "            #######################################################################\n",
    "            \n",
    "\n",
    "            ####### training accruacy save for print ###############################\n",
    "            _, predicted = torch.max(outputs.data, 1)\n",
    "            total = real_batch\n",
    "            correct = (predicted == labels).sum().item()\n",
    "            iter_acc = correct / total\n",
    "            tr_total += total\n",
    "            tr_correct += correct\n",
    "            if i % verbose_interval == verbose_interval-1:\n",
    "                if ddp_on == False or torch.distributed.get_rank() == 0:\n",
    "                    print(f'{epoch}-{i} training acc: {100 * iter_acc:.2f}%, lr={[f\"{lr}\" for lr in (param_group[\"lr\"] for param_group in optimizer.param_groups)]}, val_acc: {100 * val_acc_now:.2f}%')\n",
    "            iter_acc_string = f'epoch-{epoch:<3} iter_acc:{100 * iter_acc:7.2f}%, lr={[f\"{lr:9.7f}\" for lr in (param_group[\"lr\"] for param_group in optimizer.param_groups)]}'\n",
    "            iter_acc_string2 = f'epoch-{epoch:<3} lr={[f\"{lr:9.7f}\" for lr in (param_group[\"lr\"] for param_group in optimizer.param_groups)]}'\n",
    "            ################################################################\n",
    "            \n",
    "\n",
    "\n",
    "\n",
    "\n",
    "            iter_one_train_time_end = time.time()\n",
    "            elapsed_time = iter_one_train_time_end - iter_one_train_time_start  # 실행 시간 계산\n",
    "\n",
    "            if (i % verbose_interval == verbose_interval-1):\n",
    "                if ddp_on == False or torch.distributed.get_rank() == 0:\n",
    "                    print(f\"iter_one_train_time: {elapsed_time} seconds, last one_val_time: {elapsed_time_val} seconds\\n\")\n",
    "\n",
    "            ##### validation ##################################################################################################################################\n",
    "            if i % validation_interval2 == validation_interval2-1:\n",
    "                iter_one_val_time_start = time.time()\n",
    "                tr_acc = tr_correct/tr_total\n",
    "                tr_correct = 0\n",
    "                tr_total = 0\n",
    "                val_loss = 0\n",
    "                correct = 0\n",
    "                total = 0\n",
    "                with torch.no_grad():\n",
    "                    net.eval() # eval 모드로 바꿔줘야함 \n",
    "                    for data in test_loader:\n",
    "                        ## data loading & semi-pre-processing ##########################################################\n",
    "                        if len(data) == 2:\n",
    "                            inputs, labels = data\n",
    "                            # 처리 로직 작성\n",
    "                        elif len(data) == 3:\n",
    "                            inputs, labels, x_len = data\n",
    "                            # print('x_len',x_len)\n",
    "                            # mask = padded_sequence_mask(x_len)\n",
    "                            # max_time_step = x_len.max()\n",
    "                            # min_time_step = x_len.min()\n",
    "                            # B, T, *spatial_dims = inputs.shape\n",
    "\n",
    "                        if (which_data == 'DVS_CIFAR10' or which_data == 'DVS_GESTURE' or which_data == 'DVS_GESTURE_TONIC' or which_data == 'DVS_CIFAR10_2' or which_data == 'NMNIST' or which_data == 'NMNIST_TONIC' or which_data == 'N_CALTECH101' or which_data == 'n_tidigits' or which_data == 'heidelberg'):\n",
    "                            inputs = inputs.permute(1, 0, 2, 3, 4)\n",
    "                        elif rate_coding == True :\n",
    "                            inputs = spikegen.rate(inputs, num_steps=TIME)\n",
    "                        else :\n",
    "                            inputs = inputs.repeat(TIME, 1, 1, 1, 1)\n",
    "                        # inputs: [Time, Batch, Channel, Height, Width]  \n",
    "                        ###################################################################################################\n",
    "\n",
    "                        inputs = inputs.to(device)\n",
    "                        labels = labels.to(device)\n",
    "                        real_batch = labels.size(0)\n",
    "                        \n",
    "                        ## DVS gesture에서 other label자리 매꾸기 ###############\n",
    "                        if (which_data == 'DVS_GESTURE'):\n",
    "                            labels[labels>2] -= 1\n",
    "                        #######################################################\n",
    "                        \n",
    "                        if merge_polarities == True:\n",
    "                            inputs = inputs[:,:,0,:,:]\n",
    "\n",
    "                        ## network 연산 시작 ############################################################################################################\n",
    "                        if single_step == False:\n",
    "                            outputs = net(inputs.permute(1, 0, 2, 3, 4)) #inputs: [Batch, Time, Channel, Height, Width]  \n",
    "                            val_loss += criterion(outputs, labels)\n",
    "                        else:\n",
    "                            outputs_all = []\n",
    "                            for t in range(TIME):\n",
    "                                outputs = net(inputs[t])\n",
    "                                val_loss_temp = criterion(outputs, labels)\n",
    "                                outputs_all.append(outputs.detach())\n",
    "                                val_loss += (val_loss_temp.data/TIME)/len(test_loader)\n",
    "                            outputs_all = torch.stack(outputs_all, dim=1)\n",
    "                            outputs = outputs_all.mean(1)\n",
    "                        #################################################################################################################################\n",
    "\n",
    "                        _, predicted = torch.max(outputs.data, 1)\n",
    "                        total += real_batch\n",
    "                        assert real_batch == outputs.size(0), f'batch size is not same. real_batch: {real_batch}, outputs.size(0): {outputs.size(0)}'\n",
    "                        correct += (predicted == labels).sum().item()\n",
    "\n",
    "                    val_acc_now = correct / total\n",
    "                    # print(f'{epoch}-{i} validation acc: {100 * val_acc_now:.2f}%, lr={[f\"{lr:.10f}\" for lr in (param_group[\"lr\"] for param_group in optimizer.param_groups)]}')\n",
    "\n",
    "                iter_one_val_time_end = time.time()\n",
    "                elapsed_time_val = iter_one_val_time_end - iter_one_val_time_start  # 실행 시간 계산\n",
    "                # print(f\"iter_one_val_time: {elapsed_time_val} seconds\")\n",
    "\n",
    "                # network save\n",
    "                if val_acc_best < val_acc_now:\n",
    "                    val_acc_best = val_acc_now\n",
    "                    if ddp_on == False or torch.distributed.get_rank() == 0:\n",
    "                        # wandb 키면 state_dict아닌거는 저장 안됨\n",
    "                        torch.save(net.state_dict(), f\"net_save/save_now_net_weights_{unique_name}.pth\")\n",
    "                        # torch.save(net, f\"net_save/save_now_net_{unique_name}.pth\")\n",
    "                        # torch.save(net.module.state_dict(), f\"net_save/save_now_net_weights2_{unique_name}.pth\")\n",
    "                        # torch.save(net.module, f\"net_save/save_now_net2_{unique_name}.pth\")\n",
    "                    no_val_best_growth_count = 0\n",
    "                else:\n",
    "                    no_val_best_growth_count = no_val_best_growth_count + 1\n",
    "\n",
    "                if tr_acc_best < tr_acc:\n",
    "                    tr_acc_best = tr_acc\n",
    "                    no_tr_best_growth_count = 0\n",
    "                else:\n",
    "                    no_tr_best_growth_count = no_tr_best_growth_count + 1\n",
    "\n",
    "                tr_epoch_loss = tr_epoch_loss_temp\n",
    "                tr_epoch_loss_temp = 0\n",
    "\n",
    "                if DFA_toggle == True:\n",
    "                    DFA_flag = 1.0 - DFA_flag\n",
    "                    DFA_toggle = False\n",
    "\n",
    "                iter_of_val = True\n",
    "            ####################################################################################################################################################\n",
    "            \n",
    "            ## progress bar update ############################################################################################################\n",
    "            if ddp_on == False or torch.distributed.get_rank() == 0:\n",
    "                if iter_of_val == False:\n",
    "                    iterator.set_description(f\"{iter_acc_string}, iter/last_val_loss:{loss:10.6f}/{val_loss:10.6f}, last tr:{100 * tr_acc:7.2f}%, last val:{100 * val_acc_now:7.2f}%, val_best:{100 * val_acc_best:7.2f}%\")  \n",
    "                else:\n",
    "                    iterator.set_description(f\"{iter_acc_string2}, tr/val_loss:{tr_epoch_loss:10.6f}/{val_loss:10.6f}, tr:{100 * tr_acc:7.2f}%, val:{100 * val_acc_now:7.2f}%, val_best:{100 * val_acc_best:7.2f}%\")  \n",
    "                    iter_of_val = False\n",
    "            ####################################################################################################################################\n",
    "            \n",
    "            ## wandb logging ############################################################################################################\n",
    "            if ddp_on == False or torch.distributed.get_rank() == 0:\n",
    "                wandb.log({\"iter_acc\": iter_acc})\n",
    "                wandb.log({\"tr_acc\": tr_acc})\n",
    "                wandb.log({\"val_acc_now\": val_acc_now})\n",
    "                wandb.log({\"val_acc_best\": val_acc_best})\n",
    "                wandb.log({\"summary_val_acc\": val_acc_now})\n",
    "                wandb.log({\"epoch\": epoch})\n",
    "                wandb.log({\"DFA_flag\": DFA_flag}) # DFA mode 바뀌자 마자 바뀌는 게 아니고 validation 한번 했을 때 바뀜.\n",
    "                wandb.log({\"val_loss\": val_loss}) \n",
    "                wandb.log({\"tr_epoch_loss\": tr_epoch_loss}) \n",
    "            ####################################################################################################################################\n",
    "            \n",
    "            \n",
    "            ## accuray 로컬에 저장 하기 위한 코드 #####################################################################################\n",
    "            iter_acc_array = np.append(iter_acc_array, iter_acc)\n",
    "            tr_acc_array = np.append(tr_acc_array, tr_acc)\n",
    "            val_acc_now_array = np.append(val_acc_now_array, val_acc_now)\n",
    "            base_name = f'{current_time}'\n",
    "            ####################################################################################################################\n",
    "            \n",
    "            iter_acc_file_name_time = f'result_save/{base_name}_iter_acc_array_{unique_name}.npy'\n",
    "            tr_acc_file_name_time = f'result_save/{base_name}_tr_acc_array_{unique_name}.npy'\n",
    "            val_acc_file_name_time = f'result_save/{base_name}_val_acc_now_array_{unique_name}.npy'\n",
    "            hyperparameters_file_name_time = f'result_save/{base_name}_hyperparameters_{unique_name}.json'\n",
    "\n",
    "            hyperparameters['current epoch'] = epoch\n",
    "\n",
    "            ### accuracy 세이브: 덮어쓰기 하기 싫으면 주석 풀어서 사용 (시간마다 새로 쓰기) 비추천 ########################\n",
    "            # if ddp_on == False or torch.distributed.get_rank() == 0:\n",
    "            #     np.save(iter_acc_file_name_time, iter_acc_array)\n",
    "            #     np.save(tr_acc_file_name_time, iter_acc_array)\n",
    "            #     np.save(val_acc_file_name_time, val_acc_now_array)\n",
    "            #     with open(hyperparameters_file_name_time, 'w') as f:\n",
    "            #         json.dump(hyperparameters, f, indent=4)\n",
    "            #########################################################################################################\n",
    "\n",
    "            ## accuracy 세이브 ###########################################################################################\n",
    "            if ddp_on == False or torch.distributed.get_rank() == 0:\n",
    "                np.save(f'result_save/iter_acc_array_{unique_name}.npy', iter_acc_array)\n",
    "                np.save(f'result_save/tr_acc_array_{unique_name}.npy', tr_acc_array)\n",
    "                np.save(f'result_save/val_acc_now_array_{unique_name}.npy', val_acc_now_array)\n",
    "                with open(f'result_save/hyperparameters_{unique_name}.json', 'w') as f:\n",
    "                    json.dump(hyperparameters, f, indent=4)\n",
    "            ##########################################################################################################\n",
    "        ###### ITERATION END ##########################################################################################################\n",
    "                \n",
    "\n",
    "        ## scheduler update #############################################################################\n",
    "        if (scheduler_name != 'no'):\n",
    "            if (scheduler_name == 'ReduceLROnPlateau'):\n",
    "                scheduler.step(val_loss)\n",
    "            else:\n",
    "                scheduler.step()\n",
    "        #################################################################################################\n",
    "        \n",
    "        # 실행 시간 계산\n",
    "        epoch_time_end = time.time()\n",
    "        # print(f\"epoch_time: {epoch_time_end - epoch_start_time} seconds\\n\") \n",
    "    #======== EPOCH END ==========================================================================================\n"
   ]
  },
  {
   "cell_type": "code",
   "execution_count": 5,
   "metadata": {},
   "outputs": [],
   "source": [
    "# ### my_snn control board (Gesture) ########################\n",
    "# decay = 0.25 # 0.875 0.25 0.125 0.75 0.5\n",
    "# # nda 0.25 # ottt 0.5\n",
    "# const2 = False # trace 할거면 True, 안할거면 False\n",
    "\n",
    "# unique_name = 'main' ## 이거 설정하면 새로운 경로에 모두 save\n",
    "# run_name = 'main' ## 이거 설정하면 새로운 경로에 모두 save\n",
    "\n",
    "# if const2 == True:\n",
    "#     const2 = decay\n",
    "# else:\n",
    "#     const2 = 0.0\n",
    "\n",
    "# wandb.init(project= f'my_snn {unique_name}',save_code=True)\n",
    "\n",
    "# my_snn_system(  devices = \"3\",\n",
    "#                 single_step = True, # True # False\n",
    "#                 unique_name = run_name,\n",
    "#                 my_seed = 42,\n",
    "#                 TIME = 10 , # dvscifar 10 # ottt 6 or 10 # nda 10  # 제작하는 dvs에서 TIME넘거나 적으면 자르거나 PADDING함\n",
    "#                 BATCH = 16, # batch norm 할거면 2이상으로 해야함   # nda 256   #  ottt 128\n",
    "#                 IMAGE_SIZE = 128, # dvscifar 48 # MNIST 28 # CIFAR10 32 # PMNIST 28 #NMNIST 34 # GESTURE 128\n",
    "#                 # dvsgesture 128, dvs_cifar2 128, nmnist 34, n_caltech101 180,240, n_tidigits 64, heidelberg 700, \n",
    "#                 #pmnist는 28로 해야 됨. 나머지는 바꿔도 돌아는 감.\n",
    "\n",
    "#                 # DVS_CIFAR10 할거면 time 10으로 해라\n",
    "#                 which_data = 'DVS_GESTURE_TONIC',\n",
    "# # 'CIFAR100' 'CIFAR10' 'MNIST' 'FASHION_MNIST' 'DVS_CIFAR10' 'PMNIST'아직\n",
    "# # 'DVS_GESTURE', 'DVS_GESTURE_TONIC','DVS_CIFAR10_2','NMNIST','NMNIST_TONIC','N_CALTECH101','n_tidigits','heidelberg'\n",
    "#                 # CLASS_NUM = 10,\n",
    "#                 data_path = '/data2', # YOU NEED TO CHANGE THIS\n",
    "#                 rate_coding = False, # True # False\n",
    "#                 lif_layer_v_init = 0.0,\n",
    "#                 lif_layer_v_decay = decay,\n",
    "#                 lif_layer_v_threshold = 1.0,  # 10000이상으로 하면 NDA LIF 씀. #nda 0.5  #ottt 1.0\n",
    "#                 lif_layer_v_reset = 0, # 10000이상은 hardreset (내 LIF쓰기는 함 ㅇㅇ)\n",
    "#                 lif_layer_sg_width = 0.5, # # surrogate sigmoid 쓸 때는 의미없음\n",
    "\n",
    "#                 # synapse_conv_in_channels = IMAGE_PIXEL_CHANNEL,\n",
    "#                 synapse_conv_kernel_size = 3,\n",
    "#                 synapse_conv_stride = 1,\n",
    "#                 synapse_conv_padding = 1,\n",
    "#                 synapse_conv_trace_const1 = 1, # 현재 trace구할 때 현재 spike에 곱해지는 상수. 걍 1로 두셈.\n",
    "#                 synapse_conv_trace_const2 = const2, # 현재 trace구할 때 직전 trace에 곱해지는 상수. lif_layer_v_decay와 같게 할 것을 추천\n",
    "\n",
    "#                 # synapse_fc_out_features = CLASS_NUM,\n",
    "#                 synapse_fc_trace_const1 = 1, # 현재 trace구할 때 현재 spike에 곱해지는 상수. 걍 1로 두셈.\n",
    "#                 synapse_fc_trace_const2 = const2, # 현재 trace구할 때 직전 trace에 곱해지는 상수. lif_layer_v_decay와 같게 할 것을 추천\n",
    "\n",
    "#                 pre_trained = False, # True # False\n",
    "#                 convTrue_fcFalse = False, # True # False\n",
    "\n",
    "#                 # 'P' for average pooling, 'D' for (1,1) aver pooling, 'M' for maxpooling, 'L' for linear classifier, [  ] for residual block\n",
    "#                 # conv에서 10000 이상은 depth-wise separable (BPTT만 지원), 20000이상은 depth-wise (BPTT만 지원)\n",
    "#                 # cfg = [64, 64],\n",
    "#                 # cfg = [64, 124, 64, 124],\n",
    "#                 # cfg = ['M','M',512], \n",
    "#                 # cfg = [512], \n",
    "#                 # cfg = ['M', 'M', 64, 128, 'P', 128, 'P'], \n",
    "#                 # cfg = ['M','M',512],\n",
    "#                 cfg = ['M','M',200,200],\n",
    "#                 # cfg = ['M','M',1024,512,256,128,64],\n",
    "#                 # cfg = [200,200],\n",
    "#                 # cfg = [12], #fc\n",
    "#                 # cfg = [12, 'M', 48, 'M', 12], \n",
    "#                 # cfg = [64,[64,64],64], # 끝에 linear classifier 하나 자동으로 붙습니다\n",
    "#                 # cfg = [64, 128, 'P', 256, 256, 'P', 512, 512, 'P', 512, 512, 'D'], #ottt\n",
    "#                 # cfg = [64, 128, 'P', 256, 256, 'P', 512, 512, 'P', 512, 512], \n",
    "#                 # cfg = [64, 128, 'M', 256, 256, 'M', 512, 512, 'M', 512, 512], \n",
    "#                 # cfg = [64, 'P', 128, 'P', 256, 256, 'P', 512, 512, 512, 512, 'D'], # nda\n",
    "#                 # cfg = [64, 'P', 128, 'P', 256, 256, 'P', 512, 512, 512, 512], # nda 128pixel\n",
    "#                 # cfg = [64, 'P', 128, 'P', 256, 256, 'P', 512, 512, 512, 512, 'L', 4096, 4096],\n",
    "#                 # cfg = [20001,10001], # depthwise, separable\n",
    "#                 # cfg = [64,20064,10001], # vanilla conv, depthwise, separable\n",
    "#                 # cfg = [8, 'P', 8, 'P', 8, 'P', 8,'P', 8, 'P'],\n",
    "#                 # cfg = [],        \n",
    "                \n",
    "#                 net_print = True, # True # False # True로 하길 추천\n",
    "#                 weight_count_print = False, # True # False\n",
    "                \n",
    "#                 pre_trained_path = f\"net_save/save_now_net_weights_{unique_name}.pth\",\n",
    "#                 learning_rate = 0.0002, # 0.001, # default 0.001  # ottt 0.1 # nda 0.001 \n",
    "#                 epoch_num = 1000,\n",
    "#                 verbose_interval = 999999999, #이거 걍 건들지마셈 #숫자 크게 하면 꺼짐 #걍 중간중간 iter에서 끊어서 출력\n",
    "#                 validation_interval =  999999999,#999999999, #이거 걍 건들지마셈 #숫자 크게 하면 에포크 마지막 iter 때 val 함\n",
    "\n",
    "#                 tdBN_on = False,  # True # False\n",
    "#                 BN_on = False,  # True # False\n",
    "                \n",
    "#                 surrogate = 'hard_sigmoid', # 'rectangle' 'sigmoid' 'rough_rectangle' 'hard_sigmoid'\n",
    "                \n",
    "#                 gradient_verbose = False,  # True # False  # weight gradient 각 layer마다 띄워줌\n",
    "\n",
    "#                 BPTT_on = False,  # True # False # True이면 BPTT, False이면 OTTT  # depthwise, separable은 BPTT만 가능\n",
    "#                 optimizer_what = 'SGD', # 'SGD' 'Adam', 'RMSprop'\n",
    "#                 scheduler_name = 'CosineAnnealingLR', # 'no' 'StepLR' 'ExponentialLR' 'ReduceLROnPlateau' 'CosineAnnealingLR' 'OneCycleLR'\n",
    "                \n",
    "#                 ddp_on = False,   # True # False \n",
    "#                 # 지원 DATASET: cifar10, mnist\n",
    "\n",
    "#                 nda_net = False,   # True # False\n",
    "\n",
    "#                 domain_il_epoch = 0, # over 0, then domain il mode on # pmnist 쓸거면 HLOP 코드보고 더 디벨롭하셈. 지금 개발 hold함.\n",
    "                \n",
    "#                 dvs_clipping = 2, # 숫자만큼 크면 spike 아니면 걍 0\n",
    "#                 # gesture, cifar-dvs2, nmnist, ncaltech101\n",
    "\n",
    "#                 dvs_duration = 100_000, # 0 아니면 time sampling # dvs number sampling OR time sampling # gesture, cifar-dvs2, nmnist, ncaltech101\n",
    "#                 # 있는 데이터들 #gesture 100_000 25_000 10_000 1_000 1_000_000 #nmnist 10000 #nmnist_tonic 10_000 25_000\n",
    "#                 # 한 숫자가 1us인듯 (spikingjelly코드에서)\n",
    "#                 # 한 장에 50 timestep만 생산함. 싫으면 my_snn/trying/spikingjelly_dvsgesture의__init__.py 를 참고해봐\n",
    "\n",
    "#                 OTTT_sWS_on = False, # True # False # BPTT끄고, CONV에만 적용됨.\n",
    "\n",
    "#                 DFA_on = False, # True # False # residual은 dfa지원안함.\n",
    "#                 OTTT_input_trace_on = False, # True # False # 맨 처음 input에 trace 적용\n",
    "                 \n",
    "#                 e_transport_swap = 0, # 1 이상이면 해당 숫자 에포크만큼 val_acc_best가 변화가 없으면 e_transport scheme (BP vs DFA) swap\n",
    "#                 e_transport_swap_tr = 0, # 1 이상이면 해당 숫자 에포크만큼 tr_acc_best가 변화가 없으면 e_transport scheme (BP vs DFA) swap\n",
    "                \n",
    "#                 drop_rate = 0.0, # drop_rate만큼 0으로 만듦. ex) 0.2면 activation의 20%를 0으로 만듦.\n",
    "\n",
    "#                 exclude_class = True, # True # False # gesture에서 10번째 클래스 제외\n",
    "\n",
    "#                 merge_polarities = False, # True # False # tonic dvs dataset 에서 polarities 합치기\n",
    "#                 ) \n",
    "# # sigmoid와 BN이 있어야 잘된다.\n",
    "# # average pooling  \n",
    "# # 이 낫다. \n",
    " \n",
    "# # nda에서는 decay = 0.25, threshold = 0.5, width =1, surrogate = rectangle, batch = 256, tdBN = True\n",
    "# ## OTTT 에서는 decay = 0.5, threshold = 1.0, surrogate = sigmoid, batch = 128, BN = True\n",
    "\n",
    "\n",
    "# # DDP 실행 코드\n",
    "# '''\n",
    "# ddp_on 키고, gpu 개수 만큼 batch size 나눠줘\n",
    "# CUDA_VISIBLE_DEVICES=0,1,2,3,4,5 python -m torch.distributed.launch --nproc_per_node=6 main_ddp.py\n",
    "# CUDA_VISIBLE_DEVICES=1,2,3 python -m torch.distributed.launch --nproc_per_node=3 main_ddp.py\n",
    "# CUDA_VISIBLE_DEVICES=0,1,2,3 python -m torch.distributed.launch --nproc_per_node=4 main_ddp.py\n",
    "# '''\n"
   ]
  },
  {
   "cell_type": "code",
   "execution_count": 6,
   "metadata": {},
   "outputs": [],
   "source": [
    "# ### my_snn control board (NMNIST) ########################\n",
    "# decay = 0.25 # 0.875 0.25 0.125 0.75 0.5\n",
    "# # nda 0.25 # ottt 0.5\n",
    "# const2 = False # trace 할거면 True, 안할거면 False\n",
    "\n",
    "# unique_name = 'main' ## 이거 설정하면 새로운 경로에 모두 save\n",
    "# run_name = 'main' ## 이거 설정하면 새로운 경로에 모두 save\n",
    "\n",
    "# if const2 == True:\n",
    "#     const2 = decay\n",
    "# else:\n",
    "#     const2 = 0.0\n",
    "\n",
    "# wandb.init(project= f'my_snn {unique_name}',save_code=True)\n",
    "\n",
    "# my_snn_system(  devices = \"4\",\n",
    "#                 single_step = True, # True # False\n",
    "#                 unique_name = run_name,\n",
    "#                 my_seed = 42,\n",
    "#                 TIME = 10 , # dvscifar 10 # ottt 6 or 10 # nda 10  # 제작하는 dvs에서 TIME넘거나 적으면 자르거나 PADDING함\n",
    "#                 BATCH = 128, # batch norm 할거면 2이상으로 해야함   # nda 256   #  ottt 128\n",
    "#                 IMAGE_SIZE = 34, # dvscifar 48 # MNIST 28 # CIFAR10 32 # PMNIST 28 #NMNIST 34 # GESTURE 128\n",
    "#                 # dvsgesture 128, dvs_cifar2 128, nmnist 34, n_caltech101 180,240, n_tidigits 64, heidelberg 700, \n",
    "#                 #pmnist는 28로 해야 됨. 나머지는 바꿔도 돌아는 감.\n",
    "\n",
    "#                 # DVS_CIFAR10 할거면 time 10으로 해라\n",
    "#                 which_data = 'NMNIST_TONIC',\n",
    "# # 'CIFAR100' 'CIFAR10' 'MNIST' 'FASHION_MNIST' 'DVS_CIFAR10' 'PMNIST'아직\n",
    "# # 'DVS_GESTURE', 'DVS_GESTURE_TONIC','DVS_CIFAR10_2','NMNIST','NMNIST_TONIC','N_CALTECH101','n_tidigits','heidelberg'\n",
    "#                 # CLASS_NUM = 10,\n",
    "#                 data_path = '/data2', # YOU NEED TO CHANGE THIS\n",
    "#                 rate_coding = False, # True # False\n",
    "#                 lif_layer_v_init = 0.0,\n",
    "#                 lif_layer_v_decay = decay,\n",
    "#                 lif_layer_v_threshold = 1.0,  # 10000이상으로 하면 NDA LIF 씀. #nda 0.5  #ottt 1.0\n",
    "#                 lif_layer_v_reset = 0, # 10000이상은 hardreset (내 LIF쓰기는 함 ㅇㅇ)\n",
    "#                 lif_layer_sg_width = 0.5, # # surrogate sigmoid 쓸 때는 의미없음\n",
    "\n",
    "#                 # synapse_conv_in_channels = IMAGE_PIXEL_CHANNEL,\n",
    "#                 synapse_conv_kernel_size = 3,\n",
    "#                 synapse_conv_stride = 1,\n",
    "#                 synapse_conv_padding = 1,\n",
    "#                 synapse_conv_trace_const1 = 1, # 현재 trace구할 때 현재 spike에 곱해지는 상수. 걍 1로 두셈.\n",
    "#                 synapse_conv_trace_const2 = const2, # 현재 trace구할 때 직전 trace에 곱해지는 상수. lif_layer_v_decay와 같게 할 것을 추천\n",
    "\n",
    "#                 # synapse_fc_out_features = CLASS_NUM,\n",
    "#                 synapse_fc_trace_const1 = 1, # 현재 trace구할 때 현재 spike에 곱해지는 상수. 걍 1로 두셈.\n",
    "#                 synapse_fc_trace_const2 = const2, # 현재 trace구할 때 직전 trace에 곱해지는 상수. lif_layer_v_decay와 같게 할 것을 추천\n",
    "\n",
    "#                 pre_trained = False, # True # False\n",
    "#                 convTrue_fcFalse = False, # True # False\n",
    "\n",
    "#                 # 'P' for average pooling, 'D' for (1,1) aver pooling, 'M' for maxpooling, 'L' for linear classifier, [  ] for residual block\n",
    "#                 # conv에서 10000 이상은 depth-wise separable (BPTT만 지원), 20000이상은 depth-wise (BPTT만 지원)\n",
    "#                 # cfg = [64, 64],\n",
    "#                 # cfg = [64, 124, 64, 124],\n",
    "#                 # cfg = ['M','M',512], \n",
    "#                 # cfg = [512], \n",
    "#                 # cfg = ['M', 'M', 64, 128, 'P', 128, 'P'], \n",
    "#                 # cfg = ['M','M',512],\n",
    "#                 # cfg = ['M','M',200,200],\n",
    "#                 # cfg = ['M','M',1024,512,256,128,64],\n",
    "#                 cfg = [200,200],\n",
    "#                 # cfg = [12], #fc\n",
    "#                 # cfg = [12, 'M', 48, 'M', 12], \n",
    "#                 # cfg = [64,[64,64],64], # 끝에 linear classifier 하나 자동으로 붙습니다\n",
    "#                 # cfg = [64, 128, 'P', 256, 256, 'P', 512, 512, 'P', 512, 512, 'D'], #ottt\n",
    "#                 # cfg = [64, 128, 'P', 256, 256, 'P', 512, 512, 'P', 512, 512], \n",
    "#                 # cfg = [64, 128, 'M', 256, 256, 'M', 512, 512, 'M', 512, 512], \n",
    "#                 # cfg = [64, 'P', 128, 'P', 256, 256, 'P', 512, 512, 512, 512, 'D'], # nda\n",
    "#                 # cfg = [64, 'P', 128, 'P', 256, 256, 'P', 512, 512, 512, 512], # nda 128pixel\n",
    "#                 # cfg = [64, 'P', 128, 'P', 256, 256, 'P', 512, 512, 512, 512, 'L', 4096, 4096],\n",
    "#                 # cfg = [20001,10001], # depthwise, separable\n",
    "#                 # cfg = [64,20064,10001], # vanilla conv, depthwise, separable\n",
    "#                 # cfg = [8, 'P', 8, 'P', 8, 'P', 8,'P', 8, 'P'],\n",
    "#                 # cfg = [],        \n",
    "                \n",
    "#                 net_print = True, # True # False # True로 하길 추천\n",
    "#                 weight_count_print = False, # True # False\n",
    "                \n",
    "#                 pre_trained_path = f\"net_save/save_now_net_weights_{unique_name}.pth\",\n",
    "#                 learning_rate = 0.009, # 0.001, # default 0.001  # ottt 0.1 # nda 0.001 \n",
    "#                 epoch_num = 300,\n",
    "#                 verbose_interval = 999999999, #이거 걍 건들지마셈 #숫자 크게 하면 꺼짐 #걍 중간중간 iter에서 끊어서 출력\n",
    "#                 validation_interval =  999999999,#999999999, #이거 걍 건들지마셈 #숫자 크게 하면 에포크 마지막 iter 때 val 함\n",
    "\n",
    "#                 tdBN_on = False,  # True # False\n",
    "#                 BN_on = False,  # True # False\n",
    "                \n",
    "#                 surrogate = 'hard_sigmoid', # 'rectangle' 'sigmoid' 'rough_rectangle' 'hard_sigmoid'\n",
    "                \n",
    "#                 gradient_verbose = False,  # True # False  # weight gradient 각 layer마다 띄워줌\n",
    "\n",
    "#                 BPTT_on = False,  # True # False # True이면 BPTT, False이면 OTTT  # depthwise, separable은 BPTT만 가능\n",
    "#                 optimizer_what = 'SGD', # 'SGD' 'Adam', 'RMSprop'\n",
    "#                 scheduler_name = 'CosineAnnealingLR', # 'no' 'StepLR' 'ExponentialLR' 'ReduceLROnPlateau' 'CosineAnnealingLR' 'OneCycleLR'\n",
    "                \n",
    "#                 ddp_on = False,   # True # False \n",
    "#                 # 지원 DATASET: cifar10, mnist\n",
    "\n",
    "#                 nda_net = False,   # True # False\n",
    "\n",
    "#                 domain_il_epoch = 0, # over 0, then domain il mode on # pmnist 쓸거면 HLOP 코드보고 더 디벨롭하셈. 지금 개발 hold함.\n",
    "                \n",
    "#                 dvs_clipping = 1, # 숫자만큼 크면 spike 아니면 걍 0\n",
    "#                 # gesture, cifar-dvs2, nmnist, ncaltech101\n",
    "\n",
    "#                 dvs_duration = 10_000, # 0 아니면 time sampling # dvs number sampling OR time sampling # gesture, cifar-dvs2, nmnist, ncaltech101\n",
    "#                 # 있는 데이터들 #gesture 100_000 25_000 10_000 1_000 1_000_000 #nmnist 10000 #nmnist_tonic 10_000 25_000\n",
    "#                 # 한 숫자가 1us인듯 (spikingjelly코드에서)\n",
    "#                 # 한 장에 50 timestep만 생산함. 싫으면 my_snn/trying/spikingjelly_dvsgesture의__init__.py 를 참고해봐\n",
    "\n",
    "#                 OTTT_sWS_on = False, # True # False # BPTT끄고, CONV에만 적용됨.\n",
    "\n",
    "#                 DFA_on = True, # True # False # residual은 dfa지원안함.\n",
    "#                 OTTT_input_trace_on = False, # True # False # 맨 처음 input에 trace 적용\n",
    "                 \n",
    "#                 e_transport_swap = 5, # 1 이상이면 해당 숫자 에포크만큼 val_acc_best가 변화가 없으면 e_transport scheme (BP vs DFA) swap\n",
    "#                 e_transport_swap_tr = 0, # 1 이상이면 해당 숫자 에포크만큼 tr_acc_best가 변화가 없으면 e_transport scheme (BP vs DFA) swap\n",
    "                \n",
    "#                 drop_rate = 0.0, # drop_rate만큼 0으로 만듦. ex) 0.2면 activation의 20%를 0으로 만듦.\n",
    "\n",
    "#                 exclude_class = True, # True # False # gesture에서 10번째 클래스 제외\n",
    "\n",
    "#                 merge_polarities = False, # True # False # tonic dvs dataset 에서 polarities 합치기\n",
    "#                 ) \n",
    "# # sigmoid와 BN이 있어야 잘된다.\n",
    "# # average pooling  \n",
    "# # 이 낫다. \n",
    " \n",
    "# # nda에서는 decay = 0.25, threshold = 0.5, width =1, surrogate = rectangle, batch = 256, tdBN = True\n",
    "# ## OTTT 에서는 decay = 0.5, threshold = 1.0, surrogate = sigmoid, batch = 128, BN = True\n",
    "\n",
    "\n",
    "# # DDP 실행 코드\n",
    "# '''\n",
    "# ddp_on 키고, gpu 개수 만큼 batch size 나눠줘\n",
    "# CUDA_VISIBLE_DEVICES=0,1,2,3,4,5 python -m torch.distributed.launch --nproc_per_node=6 main_ddp.py\n",
    "# CUDA_VISIBLE_DEVICES=1,2,3 python -m torch.distributed.launch --nproc_per_node=3 main_ddp.py\n",
    "# CUDA_VISIBLE_DEVICES=0,1,2,3 python -m torch.distributed.launch --nproc_per_node=4 main_ddp.py\n",
    "# '''\n"
   ]
  },
  {
   "cell_type": "code",
   "execution_count": 7,
   "metadata": {},
   "outputs": [
    {
     "name": "stderr",
     "output_type": "stream",
     "text": [
      "Failed to detect the name of this notebook, you can set it manually with the WANDB_NOTEBOOK_NAME environment variable to enable code saving.\n",
      "\u001b[34m\u001b[1mwandb\u001b[0m: Agent Starting Run: ytihhctm with config:\n",
      "\u001b[34m\u001b[1mwandb\u001b[0m: \tBATCH: 16\n",
      "\u001b[34m\u001b[1mwandb\u001b[0m: \tDFA_on: False\n",
      "\u001b[34m\u001b[1mwandb\u001b[0m: \tIMAGE_SIZE: 128\n",
      "\u001b[34m\u001b[1mwandb\u001b[0m: \tOTTT_input_trace_on: False\n",
      "\u001b[34m\u001b[1mwandb\u001b[0m: \tOTTT_sWS_on: False\n",
      "\u001b[34m\u001b[1mwandb\u001b[0m: \tTIME: 10\n",
      "\u001b[34m\u001b[1mwandb\u001b[0m: \tcfg: ['M', 'M', 200, 200]\n",
      "\u001b[34m\u001b[1mwandb\u001b[0m: \tconst2: False\n",
      "\u001b[34m\u001b[1mwandb\u001b[0m: \tdecay: 0.16908834196601286\n",
      "\u001b[34m\u001b[1mwandb\u001b[0m: \tdrop_rate: 0\n",
      "\u001b[34m\u001b[1mwandb\u001b[0m: \tdvs_clipping: 2\n",
      "\u001b[34m\u001b[1mwandb\u001b[0m: \tdvs_duration: 100000\n",
      "\u001b[34m\u001b[1mwandb\u001b[0m: \te_transport_swap: 0\n",
      "\u001b[34m\u001b[1mwandb\u001b[0m: \te_transport_swap_tr: 0\n",
      "\u001b[34m\u001b[1mwandb\u001b[0m: \tepoch_num: 60\n",
      "\u001b[34m\u001b[1mwandb\u001b[0m: \texclude_class: True\n",
      "\u001b[34m\u001b[1mwandb\u001b[0m: \tlearning_rate: 0.00936191669529645\n",
      "\u001b[34m\u001b[1mwandb\u001b[0m: \tmerge_polarities: False\n",
      "\u001b[34m\u001b[1mwandb\u001b[0m: \tsurrogate: hard_sigmoid\n",
      "\u001b[34m\u001b[1mwandb\u001b[0m: \twhich_data: DVS_GESTURE_TONIC\n",
      "Failed to detect the name of this notebook, you can set it manually with the WANDB_NOTEBOOK_NAME environment variable to enable code saving.\n",
      "\u001b[34m\u001b[1mwandb\u001b[0m: Currently logged in as: \u001b[33mbhkim003\u001b[0m (\u001b[33mbhkim003-seoul-national-university\u001b[0m). Use \u001b[1m`wandb login --relogin`\u001b[0m to force relogin\n"
     ]
    },
    {
     "data": {
      "text/html": [
       "wandb version 0.17.7 is available!  To upgrade, please run:\n",
       " $ pip install wandb --upgrade"
      ],
      "text/plain": [
       "<IPython.core.display.HTML object>"
      ]
     },
     "metadata": {},
     "output_type": "display_data"
    },
    {
     "data": {
      "text/html": [
       "Tracking run with wandb version 0.17.5"
      ],
      "text/plain": [
       "<IPython.core.display.HTML object>"
      ]
     },
     "metadata": {},
     "output_type": "display_data"
    },
    {
     "data": {
      "text/html": [
       "Run data is saved locally in <code>/nfs/home/bhkim003/github_folder/ByeonghyeonKim/my_snn/wandb/run-20240821_145448-ytihhctm</code>"
      ],
      "text/plain": [
       "<IPython.core.display.HTML object>"
      ]
     },
     "metadata": {},
     "output_type": "display_data"
    },
    {
     "data": {
      "text/html": [
       "Syncing run <strong><a href='https://wandb.ai/bhkim003-seoul-national-university/my_snn%20main/runs/ytihhctm' target=\"_blank\">sparkling-sweep-10</a></strong> to <a href='https://wandb.ai/bhkim003-seoul-national-university/my_snn%20main' target=\"_blank\">Weights & Biases</a> (<a href='https://wandb.me/run' target=\"_blank\">docs</a>)<br/>Sweep page: <a href='https://wandb.ai/bhkim003-seoul-national-university/my_snn%20main/sweeps/gqhgeaun' target=\"_blank\">https://wandb.ai/bhkim003-seoul-national-university/my_snn%20main/sweeps/gqhgeaun</a>"
      ],
      "text/plain": [
       "<IPython.core.display.HTML object>"
      ]
     },
     "metadata": {},
     "output_type": "display_data"
    },
    {
     "data": {
      "text/html": [
       " View project at <a href='https://wandb.ai/bhkim003-seoul-national-university/my_snn%20main' target=\"_blank\">https://wandb.ai/bhkim003-seoul-national-university/my_snn%20main</a>"
      ],
      "text/plain": [
       "<IPython.core.display.HTML object>"
      ]
     },
     "metadata": {},
     "output_type": "display_data"
    },
    {
     "data": {
      "text/html": [
       " View sweep at <a href='https://wandb.ai/bhkim003-seoul-national-university/my_snn%20main/sweeps/gqhgeaun' target=\"_blank\">https://wandb.ai/bhkim003-seoul-national-university/my_snn%20main/sweeps/gqhgeaun</a>"
      ],
      "text/plain": [
       "<IPython.core.display.HTML object>"
      ]
     },
     "metadata": {},
     "output_type": "display_data"
    },
    {
     "data": {
      "text/html": [
       " View run at <a href='https://wandb.ai/bhkim003-seoul-national-university/my_snn%20main/runs/ytihhctm' target=\"_blank\">https://wandb.ai/bhkim003-seoul-national-university/my_snn%20main/runs/ytihhctm</a>"
      ],
      "text/plain": [
       "<IPython.core.display.HTML object>"
      ]
     },
     "metadata": {},
     "output_type": "display_data"
    },
    {
     "name": "stderr",
     "output_type": "stream",
     "text": [
      "\u001b[34m\u001b[1mwandb\u001b[0m: \u001b[33mWARNING\u001b[0m Config item 'BATCH' was locked by 'sweep' (ignored update).\n",
      "\u001b[34m\u001b[1mwandb\u001b[0m: \u001b[33mWARNING\u001b[0m Config item 'IMAGE_SIZE' was locked by 'sweep' (ignored update).\n",
      "\u001b[34m\u001b[1mwandb\u001b[0m: \u001b[33mWARNING\u001b[0m Config item 'which_data' was locked by 'sweep' (ignored update).\n",
      "\u001b[34m\u001b[1mwandb\u001b[0m: \u001b[33mWARNING\u001b[0m Config item 'cfg' was locked by 'sweep' (ignored update).\n",
      "\u001b[34m\u001b[1mwandb\u001b[0m: \u001b[33mWARNING\u001b[0m Config item 'learning_rate' was locked by 'sweep' (ignored update).\n",
      "\u001b[34m\u001b[1mwandb\u001b[0m: \u001b[33mWARNING\u001b[0m Config item 'epoch_num' was locked by 'sweep' (ignored update).\n",
      "\u001b[34m\u001b[1mwandb\u001b[0m: \u001b[33mWARNING\u001b[0m Config item 'surrogate' was locked by 'sweep' (ignored update).\n",
      "\u001b[34m\u001b[1mwandb\u001b[0m: \u001b[33mWARNING\u001b[0m Config item 'dvs_clipping' was locked by 'sweep' (ignored update).\n",
      "\u001b[34m\u001b[1mwandb\u001b[0m: \u001b[33mWARNING\u001b[0m Config item 'dvs_duration' was locked by 'sweep' (ignored update).\n",
      "\u001b[34m\u001b[1mwandb\u001b[0m: \u001b[33mWARNING\u001b[0m Config item 'OTTT_sWS_on' was locked by 'sweep' (ignored update).\n",
      "\u001b[34m\u001b[1mwandb\u001b[0m: \u001b[33mWARNING\u001b[0m Config item 'DFA_on' was locked by 'sweep' (ignored update).\n",
      "\u001b[34m\u001b[1mwandb\u001b[0m: \u001b[33mWARNING\u001b[0m Config item 'OTTT_input_trace_on' was locked by 'sweep' (ignored update).\n",
      "\u001b[34m\u001b[1mwandb\u001b[0m: \u001b[33mWARNING\u001b[0m Config item 'e_transport_swap' was locked by 'sweep' (ignored update).\n",
      "\u001b[34m\u001b[1mwandb\u001b[0m: \u001b[33mWARNING\u001b[0m Config item 'e_transport_swap_tr' was locked by 'sweep' (ignored update).\n",
      "\u001b[34m\u001b[1mwandb\u001b[0m: \u001b[33mWARNING\u001b[0m Config item 'drop_rate' was locked by 'sweep' (ignored update).\n",
      "\u001b[34m\u001b[1mwandb\u001b[0m: \u001b[33mWARNING\u001b[0m Config item 'exclude_class' was locked by 'sweep' (ignored update).\n",
      "\u001b[34m\u001b[1mwandb\u001b[0m: \u001b[33mWARNING\u001b[0m Config item 'merge_polarities' was locked by 'sweep' (ignored update).\n",
      "\u001b[34m\u001b[1mwandb\u001b[0m: \u001b[33mWARNING\u001b[0m Config item 'TIME' was locked by 'sweep' (ignored update).\n"
     ]
    },
    {
     "name": "stdout",
     "output_type": "stream",
     "text": [
      "dataset_hash = 2bbd58b4e0d3c1e9ad501fad8a43feed\n",
      "cache path exists\n",
      "\n",
      "we will exclude the 'other' class. dvsgestrue 10 classes' indices exist. \n",
      "\n",
      "DataParallel(\n",
      "  (module): MY_SNN_FC_sstep(\n",
      "    (layers): MY_Sequential(\n",
      "      (0): MaxPool2d(kernel_size=2, stride=2, padding=0, dilation=1, ceil_mode=False)\n",
      "      (1): MaxPool2d(kernel_size=2, stride=2, padding=0, dilation=1, ceil_mode=False)\n",
      "      (2): DimChanger_for_FC_sstep()\n",
      "      (3): SYNAPSE_FC_trace_sstep()\n",
      "      (4): LIF_layer_trace_sstep()\n",
      "      (5): SYNAPSE_FC_trace_sstep()\n",
      "      (6): LIF_layer_trace_sstep()\n",
      "      (7): SYNAPSE_FC_trace_sstep()\n",
      "    )\n",
      "  )\n",
      ")\n",
      "==================================================\n",
      "My Num of PARAMS: 452,010, system's param_num : 452,010\n",
      "Memory: 1.72MiB at 32-bit\n",
      "==================================================\n"
     ]
    },
    {
     "name": "stderr",
     "output_type": "stream",
     "text": [
      "epoch-0   lr=['0.0093619'], tr/val_loss:  1.819673/  1.487573, tr:  37.49%, val:  54.58%, val_best:  54.58%: 100%|██████████| 62/62 [00:18<00:00,  3.27it/s]                                    \n",
      "epoch-1   lr=['0.0093555'], tr/val_loss:  1.151759/  1.268473, tr:  62.72%, val:  59.17%, val_best:  59.17%: 100%|██████████| 62/62 [00:17<00:00,  3.57it/s]                                    \n",
      "epoch-2   lr=['0.0093363'], tr/val_loss:  0.999885/  1.141434, tr:  65.78%, val:  63.33%, val_best:  63.33%: 100%|██████████| 62/62 [00:16<00:00,  3.84it/s]                                    \n",
      "epoch-3   lr=['0.0093043'], tr/val_loss:  0.898758/  1.148187, tr:  69.97%, val:  62.92%, val_best:  63.33%: 100%|██████████| 62/62 [00:20<00:00,  3.05it/s]                                    \n",
      "epoch-4   lr=['0.0092596'], tr/val_loss:  0.861251/  1.200719, tr:  69.15%, val:  62.08%, val_best:  63.33%: 100%|██████████| 62/62 [00:18<00:00,  3.41it/s]                                    \n",
      "epoch-5   lr=['0.0092024'], tr/val_loss:  0.836547/  1.284568, tr:  68.54%, val:  62.50%, val_best:  63.33%: 100%|██████████| 62/62 [29:55<00:00, 28.96s/it]                                       \n",
      "epoch-6   lr=['0.0091328'], tr/val_loss:  0.709718/  1.139222, tr:  74.36%, val:  62.50%, val_best:  63.33%: 100%|██████████| 62/62 [00:05<00:00, 12.09it/s]                                    \n",
      "epoch-7   lr=['0.0090510'], tr/val_loss:  0.680321/  1.255251, tr:  76.30%, val:  62.50%, val_best:  63.33%: 100%|██████████| 62/62 [00:05<00:00, 12.03it/s]                                    \n",
      "epoch-8   lr=['0.0089572'], tr/val_loss:  0.660481/  1.108069, tr:  76.81%, val:  67.50%, val_best:  67.50%: 100%|██████████| 62/62 [00:05<00:00, 10.90it/s]                                    \n",
      "epoch-9   lr=['0.0088517'], tr/val_loss:  0.499497/  1.262515, tr:  83.25%, val:  67.50%, val_best:  67.50%: 100%|██████████| 62/62 [00:05<00:00, 10.86it/s]                                    \n",
      "epoch-10  lr=['0.0087348'], tr/val_loss:  0.478872/  1.196808, tr:  84.68%, val:  67.92%, val_best:  67.92%: 100%|██████████| 62/62 [00:06<00:00, 10.08it/s]                                    \n",
      "epoch-11  lr=['0.0086067'], tr/val_loss:  0.454214/  1.246756, tr:  84.07%, val:  71.67%, val_best:  71.67%: 100%|██████████| 62/62 [00:09<00:00,  6.84it/s]                                    \n",
      "epoch-12  lr=['0.0084679'], tr/val_loss:  0.469920/  1.221041, tr:  86.31%, val:  73.75%, val_best:  73.75%: 100%|██████████| 62/62 [00:09<00:00,  6.41it/s]                                    \n",
      "epoch-13  lr=['0.0083187'], tr/val_loss:  0.402100/  1.274892, tr:  90.50%, val:  74.58%, val_best:  74.58%: 100%|██████████| 62/62 [00:09<00:00,  6.56it/s]                                    \n",
      "epoch-14  lr=['0.0081596'], tr/val_loss:  0.326920/  1.306645, tr:  92.95%, val:  73.75%, val_best:  74.58%: 100%|██████████| 62/62 [00:08<00:00,  7.11it/s]                                    \n",
      "epoch-15  lr=['0.0079909'], tr/val_loss:  0.334767/  1.331694, tr:  91.73%, val:  71.67%, val_best:  74.58%: 100%|██████████| 62/62 [00:08<00:00,  7.44it/s]                                    \n",
      "epoch-16  lr=['0.0078131'], tr/val_loss:  0.270440/  1.495942, tr:  94.59%, val:  70.83%, val_best:  74.58%: 100%|██████████| 62/62 [00:06<00:00,  9.80it/s]                                    \n",
      "epoch-17  lr=['0.0076268'], tr/val_loss:  0.250073/  1.394166, tr:  95.91%, val:  75.42%, val_best:  75.42%: 100%|██████████| 62/62 [00:06<00:00,  9.89it/s]                                    \n",
      "epoch-18  lr=['0.0074324'], tr/val_loss:  0.237938/  1.434960, tr:  94.89%, val:  77.50%, val_best:  77.50%: 100%|██████████| 62/62 [00:05<00:00, 10.92it/s]                                    \n",
      "epoch-19  lr=['0.0072304'], tr/val_loss:  0.182702/  1.480600, tr:  97.55%, val:  79.58%, val_best:  79.58%: 100%|██████████| 62/62 [00:05<00:00, 10.86it/s]                                    \n",
      "epoch-20  lr=['0.0070214'], tr/val_loss:  0.143832/  1.662166, tr:  99.39%, val:  78.75%, val_best:  79.58%: 100%|██████████| 62/62 [00:06<00:00, 10.17it/s]                                    \n",
      "epoch-21  lr=['0.0068061'], tr/val_loss:  0.110224/  1.750771, tr:  99.90%, val:  75.42%, val_best:  79.58%: 100%|██████████| 62/62 [00:06<00:00,  9.89it/s]                                    \n",
      "epoch-22  lr=['0.0065849'], tr/val_loss:  0.125948/  1.640857, tr:  97.96%, val:  76.67%, val_best:  79.58%: 100%|██████████| 62/62 [00:05<00:00, 11.21it/s]                                    \n",
      "epoch-23  lr=['0.0063585'], tr/val_loss:  0.098369/  1.671747, tr:  99.59%, val:  79.17%, val_best:  79.58%: 100%|██████████| 62/62 [00:05<00:00, 11.47it/s]                                    \n",
      "epoch-24  lr=['0.0061275'], tr/val_loss:  0.071857/  1.801936, tr: 100.00%, val:  75.83%, val_best:  79.58%: 100%|██████████| 62/62 [00:05<00:00, 10.50it/s]                                    \n",
      "epoch-25  lr=['0.0058925'], tr/val_loss:  0.058695/  1.850891, tr: 100.00%, val:  75.42%, val_best:  79.58%: 100%|██████████| 62/62 [00:05<00:00, 10.69it/s]                                    \n",
      "epoch-26  lr=['0.0056542'], tr/val_loss:  0.043399/  1.841967, tr: 100.00%, val:  77.50%, val_best:  79.58%: 100%|██████████| 62/62 [00:05<00:00, 11.07it/s]                                    \n",
      "epoch-27  lr=['0.0054132'], tr/val_loss:  0.035881/  1.881483, tr: 100.00%, val:  78.75%, val_best:  79.58%: 100%|██████████| 62/62 [00:08<00:00,  7.36it/s]                                    \n",
      "epoch-28  lr=['0.0051703'], tr/val_loss:  0.033238/  1.922455, tr: 100.00%, val:  77.92%, val_best:  79.58%: 100%|██████████| 62/62 [00:08<00:00,  7.25it/s]                                    \n",
      "epoch-29  lr=['0.0049259'], tr/val_loss:  0.029553/  1.952862, tr: 100.00%, val:  78.75%, val_best:  79.58%: 100%|██████████| 62/62 [00:09<00:00,  6.64it/s]                                    \n",
      "epoch-30  lr=['0.0046810'], tr/val_loss:  0.024162/  2.007992, tr: 100.00%, val:  78.33%, val_best:  79.58%: 100%|██████████| 62/62 [00:11<00:00,  5.22it/s]                                    \n",
      "epoch-31  lr=['0.0044360'], tr/val_loss:  0.019122/  2.023271, tr: 100.00%, val:  78.75%, val_best:  79.58%: 100%|██████████| 62/62 [00:09<00:00,  6.55it/s]                                    \n",
      "epoch-32  lr=['0.0041917'], tr/val_loss:  0.014373/  2.041924, tr: 100.00%, val:  78.33%, val_best:  79.58%: 100%|██████████| 62/62 [00:10<00:00,  5.67it/s]                                    \n",
      "epoch-33  lr=['0.0039487'], tr/val_loss:  0.011689/  2.060633, tr: 100.00%, val:  78.75%, val_best:  79.58%: 100%|██████████| 62/62 [00:05<00:00, 10.90it/s]                                    \n",
      "epoch-34  lr=['0.0037077'], tr/val_loss:  0.010061/  2.075048, tr: 100.00%, val:  77.50%, val_best:  79.58%: 100%|██████████| 62/62 [00:05<00:00, 10.90it/s]                                    \n",
      "epoch-35  lr=['0.0034694'], tr/val_loss:  0.008814/  2.078130, tr: 100.00%, val:  79.17%, val_best:  79.58%: 100%|██████████| 62/62 [00:11<00:00,  5.50it/s]                                    \n",
      "epoch-36  lr=['0.0032345'], tr/val_loss:  0.008104/  2.123824, tr: 100.00%, val:  78.75%, val_best:  79.58%: 100%|██████████| 62/62 [00:06<00:00, 10.01it/s]                                    \n",
      "epoch-37  lr=['0.0030035'], tr/val_loss:  0.007915/  2.119753, tr: 100.00%, val:  78.33%, val_best:  79.58%: 100%|██████████| 62/62 [00:06<00:00,  9.89it/s]                                    \n",
      "epoch-38  lr=['0.0027770'], tr/val_loss:  0.007343/  2.149195, tr: 100.00%, val:  77.92%, val_best:  79.58%: 100%|██████████| 62/62 [00:06<00:00, 10.30it/s]                                    \n",
      "epoch-39  lr=['0.0025558'], tr/val_loss:  0.006960/  2.148889, tr: 100.00%, val:  78.33%, val_best:  79.58%: 100%|██████████| 62/62 [00:06<00:00,  9.64it/s]                                    \n",
      "epoch-40  lr=['0.0023405'], tr/val_loss:  0.006225/  2.154871, tr: 100.00%, val:  78.75%, val_best:  79.58%: 100%|██████████| 62/62 [00:08<00:00,  6.95it/s]                                    \n",
      "epoch-41  lr=['0.0021315'], tr/val_loss:  0.005649/  2.139378, tr: 100.00%, val:  78.33%, val_best:  79.58%: 100%|██████████| 62/62 [00:09<00:00,  6.70it/s]                                    \n",
      "epoch-42  lr=['0.0019296'], tr/val_loss:  0.005362/  2.160072, tr: 100.00%, val:  78.33%, val_best:  79.58%: 100%|██████████| 62/62 [00:09<00:00,  6.26it/s]                                    \n",
      "epoch-43  lr=['0.0017351'], tr/val_loss:  0.005110/  2.170080, tr: 100.00%, val:  78.33%, val_best:  79.58%: 100%|██████████| 62/62 [00:06<00:00,  9.69it/s]                                    \n",
      "epoch-44  lr=['0.0015488'], tr/val_loss:  0.004954/  2.177884, tr: 100.00%, val:  78.33%, val_best:  79.58%: 100%|██████████| 62/62 [00:06<00:00,  9.18it/s]                                    \n",
      "epoch-45  lr=['0.0013710'], tr/val_loss:  0.005257/  2.169493, tr: 100.00%, val:  78.75%, val_best:  79.58%: 100%|██████████| 62/62 [00:05<00:00, 12.02it/s]                                    \n",
      "epoch-46  lr=['0.0012023'], tr/val_loss:  0.004720/  2.176350, tr: 100.00%, val:  77.92%, val_best:  79.58%: 100%|██████████| 62/62 [00:06<00:00, 10.31it/s]                                    \n",
      "epoch-47  lr=['0.0010432'], tr/val_loss:  0.004741/  2.194203, tr: 100.00%, val:  78.75%, val_best:  79.58%: 100%|██████████| 62/62 [00:06<00:00, 10.33it/s]                                    \n",
      "epoch-48  lr=['0.0008940'], tr/val_loss:  0.004474/  2.188439, tr: 100.00%, val:  78.75%, val_best:  79.58%: 100%|██████████| 62/62 [00:06<00:00, 10.21it/s]                                    \n",
      "epoch-49  lr=['0.0007552'], tr/val_loss:  0.004341/  2.190256, tr: 100.00%, val:  78.75%, val_best:  79.58%: 100%|██████████| 62/62 [00:05<00:00, 10.81it/s]                                    \n",
      "epoch-50  lr=['0.0006271'], tr/val_loss:  0.004550/  2.187111, tr: 100.00%, val:  78.75%, val_best:  79.58%: 100%|██████████| 62/62 [00:06<00:00,  9.99it/s]                                    \n",
      "epoch-51  lr=['0.0005102'], tr/val_loss:  0.004150/  2.185285, tr: 100.00%, val:  78.75%, val_best:  79.58%: 100%|██████████| 62/62 [00:06<00:00, 10.24it/s]                                    \n",
      "epoch-52  lr=['0.0004047'], tr/val_loss:  0.004163/  2.186557, tr: 100.00%, val:  79.17%, val_best:  79.58%: 100%|██████████| 62/62 [00:05<00:00, 10.35it/s]                                    \n",
      "epoch-53  lr=['0.0003109'], tr/val_loss:  0.004122/  2.186256, tr: 100.00%, val:  79.58%, val_best:  79.58%: 100%|██████████| 62/62 [00:06<00:00,  9.91it/s]                                    \n",
      "epoch-54  lr=['0.0002291'], tr/val_loss:  0.003989/  2.188827, tr: 100.00%, val:  79.58%, val_best:  79.58%: 100%|██████████| 62/62 [00:05<00:00, 10.55it/s]                                    \n",
      "epoch-55  lr=['0.0001595'], tr/val_loss:  0.003942/  2.188455, tr: 100.00%, val:  79.58%, val_best:  79.58%: 100%|██████████| 62/62 [00:06<00:00,  9.05it/s]                                    \n",
      "epoch-56  lr=['0.0001023'], tr/val_loss:  0.004179/  2.193136, tr: 100.00%, val:  79.58%, val_best:  79.58%: 100%|██████████| 62/62 [00:12<00:00,  4.77it/s]                                    \n",
      "epoch-57  lr=['0.0000576'], tr/val_loss:  0.003959/  2.190904, tr: 100.00%, val:  79.58%, val_best:  79.58%: 100%|██████████| 62/62 [00:10<00:00,  5.85it/s]                                    \n",
      "epoch-58  lr=['0.0000256'], tr/val_loss:  0.004179/  2.191636, tr: 100.00%, val:  79.58%, val_best:  79.58%: 100%|██████████| 62/62 [00:11<00:00,  5.41it/s]                                    \n",
      "epoch-59  lr=['0.0000064'], tr/val_loss:  0.004037/  2.191370, tr: 100.00%, val:  79.58%, val_best:  79.58%: 100%|██████████| 62/62 [00:07<00:00,  8.05it/s]                                    \n"
     ]
    },
    {
     "data": {
      "application/vnd.jupyter.widget-view+json": {
       "model_id": "b5ee6f4c425942f68abe827f5306aa0c",
       "version_major": 2,
       "version_minor": 0
      },
      "text/plain": [
       "VBox(children=(Label(value='7.431 MB of 7.431 MB uploaded (2.242 MB deduped)\\r'), FloatProgress(value=1.0, max…"
      ]
     },
     "metadata": {},
     "output_type": "display_data"
    },
    {
     "data": {
      "text/html": [
       "W&B sync reduced upload amount by 29.6%"
      ],
      "text/plain": [
       "<IPython.core.display.HTML object>"
      ]
     },
     "metadata": {},
     "output_type": "display_data"
    },
    {
     "data": {
      "text/html": [
       "<style>\n",
       "    table.wandb td:nth-child(1) { padding: 0 10px; text-align: left ; width: auto;} td:nth-child(2) {text-align: left ; width: 100%}\n",
       "    .wandb-row { display: flex; flex-direction: row; flex-wrap: wrap; justify-content: flex-start; width: 100% }\n",
       "    .wandb-col { display: flex; flex-direction: column; flex-basis: 100%; flex: 1; padding: 10px; }\n",
       "    </style>\n",
       "<div class=\"wandb-row\"><div class=\"wandb-col\"><h3>Run history:</h3><br/><table class=\"wandb\"><tr><td>DFA_flag</td><td>▁▁▁▁▁▁▁▁▁▁▁▁▁▁▁▁▁▁▁▁▁▁▁▁▁▁▁▁▁▁▁▁▁▁▁▁▁▁▁▁</td></tr><tr><td>epoch</td><td>▁▁▁▁▂▂▂▂▂▃▃▃▃▃▃▄▄▄▄▄▅▅▅▅▅▆▆▆▆▆▆▇▇▇▇▇████</td></tr><tr><td>iter_acc</td><td>▁▅▅▅▅▄▆▇▆▇▇▇▇███████████████████████████</td></tr><tr><td>summary_val_acc</td><td>▁▆▇▇▆▆▇▇▇▇▇▇████████████████████████████</td></tr><tr><td>tr_acc</td><td>▁▄▆▆▆▆▆▇▇▇██████████████████████████████</td></tr><tr><td>tr_epoch_loss</td><td>▁█▅▄▄▄▄▃▃▃▂▂▂▂▂▁▁▁▁▁▁▁▁▁▁▁▁▁▁▁▁▁▁▁▁▁▁▁▁▁</td></tr><tr><td>val_acc_best</td><td>▁▆▇▇▇▇▇▇▇▇██████████████████████████████</td></tr><tr><td>val_acc_now</td><td>▁▆▇▇▆▆▇▇▇▇▇▇████████████████████████████</td></tr><tr><td>val_loss</td><td>▁▆▅▅▅▅▅▅▅▅▅▆▅▆▆▆▆▇▇▇▇▇██████████████████</td></tr></table><br/></div><div class=\"wandb-col\"><h3>Run summary:</h3><br/><table class=\"wandb\"><tr><td>DFA_flag</td><td>0.0</td></tr><tr><td>epoch</td><td>59</td></tr><tr><td>iter_acc</td><td>1.0</td></tr><tr><td>tr_acc</td><td>1.0</td></tr><tr><td>tr_epoch_loss</td><td>0.00404</td></tr><tr><td>val_acc_best</td><td>0.79583</td></tr><tr><td>val_acc_now</td><td>0.79583</td></tr><tr><td>val_loss</td><td>2.19137</td></tr></table><br/></div></div>"
      ],
      "text/plain": [
       "<IPython.core.display.HTML object>"
      ]
     },
     "metadata": {},
     "output_type": "display_data"
    },
    {
     "data": {
      "text/html": [
       " View run <strong style=\"color:#cdcd00\">sparkling-sweep-10</strong> at: <a href='https://wandb.ai/bhkim003-seoul-national-university/my_snn%20main/runs/ytihhctm' target=\"_blank\">https://wandb.ai/bhkim003-seoul-national-university/my_snn%20main/runs/ytihhctm</a><br/> View project at: <a href='https://wandb.ai/bhkim003-seoul-national-university/my_snn%20main' target=\"_blank\">https://wandb.ai/bhkim003-seoul-national-university/my_snn%20main</a><br/>Synced 7 W&B file(s), 0 media file(s), 14 artifact file(s) and 1 other file(s)"
      ],
      "text/plain": [
       "<IPython.core.display.HTML object>"
      ]
     },
     "metadata": {},
     "output_type": "display_data"
    },
    {
     "data": {
      "text/html": [
       "Find logs at: <code>./wandb/run-20240821_145448-ytihhctm/logs</code>"
      ],
      "text/plain": [
       "<IPython.core.display.HTML object>"
      ]
     },
     "metadata": {},
     "output_type": "display_data"
    },
    {
     "data": {
      "text/html": [
       "The new W&B backend becomes opt-out in version 0.18.0; try it out with `wandb.require(\"core\")`! See https://wandb.me/wandb-core for more information."
      ],
      "text/plain": [
       "<IPython.core.display.HTML object>"
      ]
     },
     "metadata": {},
     "output_type": "display_data"
    },
    {
     "name": "stderr",
     "output_type": "stream",
     "text": [
      "\u001b[34m\u001b[1mwandb\u001b[0m: Agent Starting Run: 2fuxlpns with config:\n",
      "\u001b[34m\u001b[1mwandb\u001b[0m: \tBATCH: 16\n",
      "\u001b[34m\u001b[1mwandb\u001b[0m: \tDFA_on: False\n",
      "\u001b[34m\u001b[1mwandb\u001b[0m: \tIMAGE_SIZE: 128\n",
      "\u001b[34m\u001b[1mwandb\u001b[0m: \tOTTT_input_trace_on: False\n",
      "\u001b[34m\u001b[1mwandb\u001b[0m: \tOTTT_sWS_on: False\n",
      "\u001b[34m\u001b[1mwandb\u001b[0m: \tTIME: 10\n",
      "\u001b[34m\u001b[1mwandb\u001b[0m: \tcfg: ['M', 'M', 200, 200]\n",
      "\u001b[34m\u001b[1mwandb\u001b[0m: \tconst2: False\n",
      "\u001b[34m\u001b[1mwandb\u001b[0m: \tdecay: 0.3642670546462743\n",
      "\u001b[34m\u001b[1mwandb\u001b[0m: \tdrop_rate: 0\n",
      "\u001b[34m\u001b[1mwandb\u001b[0m: \tdvs_clipping: 2\n",
      "\u001b[34m\u001b[1mwandb\u001b[0m: \tdvs_duration: 100000\n",
      "\u001b[34m\u001b[1mwandb\u001b[0m: \te_transport_swap: 0\n",
      "\u001b[34m\u001b[1mwandb\u001b[0m: \te_transport_swap_tr: 0\n",
      "\u001b[34m\u001b[1mwandb\u001b[0m: \tepoch_num: 60\n",
      "\u001b[34m\u001b[1mwandb\u001b[0m: \texclude_class: True\n",
      "\u001b[34m\u001b[1mwandb\u001b[0m: \tlearning_rate: 0.00936191669529645\n",
      "\u001b[34m\u001b[1mwandb\u001b[0m: \tmerge_polarities: False\n",
      "\u001b[34m\u001b[1mwandb\u001b[0m: \tsurrogate: hard_sigmoid\n",
      "\u001b[34m\u001b[1mwandb\u001b[0m: \twhich_data: DVS_GESTURE_TONIC\n",
      "Failed to detect the name of this notebook, you can set it manually with the WANDB_NOTEBOOK_NAME environment variable to enable code saving.\n"
     ]
    },
    {
     "data": {
      "text/html": [
       "wandb version 0.17.7 is available!  To upgrade, please run:\n",
       " $ pip install wandb --upgrade"
      ],
      "text/plain": [
       "<IPython.core.display.HTML object>"
      ]
     },
     "metadata": {},
     "output_type": "display_data"
    },
    {
     "data": {
      "text/html": [
       "Tracking run with wandb version 0.17.5"
      ],
      "text/plain": [
       "<IPython.core.display.HTML object>"
      ]
     },
     "metadata": {},
     "output_type": "display_data"
    },
    {
     "data": {
      "text/html": [
       "Run data is saved locally in <code>/nfs/home/bhkim003/github_folder/ByeonghyeonKim/my_snn/wandb/run-20240821_153327-2fuxlpns</code>"
      ],
      "text/plain": [
       "<IPython.core.display.HTML object>"
      ]
     },
     "metadata": {},
     "output_type": "display_data"
    },
    {
     "data": {
      "text/html": [
       "Syncing run <strong><a href='https://wandb.ai/bhkim003-seoul-national-university/my_snn%20main/runs/2fuxlpns' target=\"_blank\">northern-sweep-20</a></strong> to <a href='https://wandb.ai/bhkim003-seoul-national-university/my_snn%20main' target=\"_blank\">Weights & Biases</a> (<a href='https://wandb.me/run' target=\"_blank\">docs</a>)<br/>Sweep page: <a href='https://wandb.ai/bhkim003-seoul-national-university/my_snn%20main/sweeps/gqhgeaun' target=\"_blank\">https://wandb.ai/bhkim003-seoul-national-university/my_snn%20main/sweeps/gqhgeaun</a>"
      ],
      "text/plain": [
       "<IPython.core.display.HTML object>"
      ]
     },
     "metadata": {},
     "output_type": "display_data"
    },
    {
     "data": {
      "text/html": [
       " View project at <a href='https://wandb.ai/bhkim003-seoul-national-university/my_snn%20main' target=\"_blank\">https://wandb.ai/bhkim003-seoul-national-university/my_snn%20main</a>"
      ],
      "text/plain": [
       "<IPython.core.display.HTML object>"
      ]
     },
     "metadata": {},
     "output_type": "display_data"
    },
    {
     "data": {
      "text/html": [
       " View sweep at <a href='https://wandb.ai/bhkim003-seoul-national-university/my_snn%20main/sweeps/gqhgeaun' target=\"_blank\">https://wandb.ai/bhkim003-seoul-national-university/my_snn%20main/sweeps/gqhgeaun</a>"
      ],
      "text/plain": [
       "<IPython.core.display.HTML object>"
      ]
     },
     "metadata": {},
     "output_type": "display_data"
    },
    {
     "data": {
      "text/html": [
       " View run at <a href='https://wandb.ai/bhkim003-seoul-national-university/my_snn%20main/runs/2fuxlpns' target=\"_blank\">https://wandb.ai/bhkim003-seoul-national-university/my_snn%20main/runs/2fuxlpns</a>"
      ],
      "text/plain": [
       "<IPython.core.display.HTML object>"
      ]
     },
     "metadata": {},
     "output_type": "display_data"
    },
    {
     "name": "stderr",
     "output_type": "stream",
     "text": [
      "\u001b[34m\u001b[1mwandb\u001b[0m: \u001b[33mWARNING\u001b[0m Config item 'BATCH' was locked by 'sweep' (ignored update).\n",
      "\u001b[34m\u001b[1mwandb\u001b[0m: \u001b[33mWARNING\u001b[0m Config item 'IMAGE_SIZE' was locked by 'sweep' (ignored update).\n",
      "\u001b[34m\u001b[1mwandb\u001b[0m: \u001b[33mWARNING\u001b[0m Config item 'which_data' was locked by 'sweep' (ignored update).\n",
      "\u001b[34m\u001b[1mwandb\u001b[0m: \u001b[33mWARNING\u001b[0m Config item 'cfg' was locked by 'sweep' (ignored update).\n",
      "\u001b[34m\u001b[1mwandb\u001b[0m: \u001b[33mWARNING\u001b[0m Config item 'learning_rate' was locked by 'sweep' (ignored update).\n",
      "\u001b[34m\u001b[1mwandb\u001b[0m: \u001b[33mWARNING\u001b[0m Config item 'epoch_num' was locked by 'sweep' (ignored update).\n",
      "\u001b[34m\u001b[1mwandb\u001b[0m: \u001b[33mWARNING\u001b[0m Config item 'surrogate' was locked by 'sweep' (ignored update).\n",
      "\u001b[34m\u001b[1mwandb\u001b[0m: \u001b[33mWARNING\u001b[0m Config item 'dvs_clipping' was locked by 'sweep' (ignored update).\n",
      "\u001b[34m\u001b[1mwandb\u001b[0m: \u001b[33mWARNING\u001b[0m Config item 'dvs_duration' was locked by 'sweep' (ignored update).\n",
      "\u001b[34m\u001b[1mwandb\u001b[0m: \u001b[33mWARNING\u001b[0m Config item 'OTTT_sWS_on' was locked by 'sweep' (ignored update).\n",
      "\u001b[34m\u001b[1mwandb\u001b[0m: \u001b[33mWARNING\u001b[0m Config item 'DFA_on' was locked by 'sweep' (ignored update).\n",
      "\u001b[34m\u001b[1mwandb\u001b[0m: \u001b[33mWARNING\u001b[0m Config item 'OTTT_input_trace_on' was locked by 'sweep' (ignored update).\n",
      "\u001b[34m\u001b[1mwandb\u001b[0m: \u001b[33mWARNING\u001b[0m Config item 'e_transport_swap' was locked by 'sweep' (ignored update).\n",
      "\u001b[34m\u001b[1mwandb\u001b[0m: \u001b[33mWARNING\u001b[0m Config item 'e_transport_swap_tr' was locked by 'sweep' (ignored update).\n",
      "\u001b[34m\u001b[1mwandb\u001b[0m: \u001b[33mWARNING\u001b[0m Config item 'drop_rate' was locked by 'sweep' (ignored update).\n",
      "\u001b[34m\u001b[1mwandb\u001b[0m: \u001b[33mWARNING\u001b[0m Config item 'exclude_class' was locked by 'sweep' (ignored update).\n",
      "\u001b[34m\u001b[1mwandb\u001b[0m: \u001b[33mWARNING\u001b[0m Config item 'merge_polarities' was locked by 'sweep' (ignored update).\n",
      "\u001b[34m\u001b[1mwandb\u001b[0m: \u001b[33mWARNING\u001b[0m Config item 'TIME' was locked by 'sweep' (ignored update).\n"
     ]
    },
    {
     "name": "stdout",
     "output_type": "stream",
     "text": [
      "dataset_hash = 2bbd58b4e0d3c1e9ad501fad8a43feed\n",
      "cache path exists\n",
      "\n",
      "we will exclude the 'other' class. dvsgestrue 10 classes' indices exist. \n",
      "\n",
      "DataParallel(\n",
      "  (module): MY_SNN_FC_sstep(\n",
      "    (layers): MY_Sequential(\n",
      "      (0): MaxPool2d(kernel_size=2, stride=2, padding=0, dilation=1, ceil_mode=False)\n",
      "      (1): MaxPool2d(kernel_size=2, stride=2, padding=0, dilation=1, ceil_mode=False)\n",
      "      (2): DimChanger_for_FC_sstep()\n",
      "      (3): SYNAPSE_FC_trace_sstep()\n",
      "      (4): LIF_layer_trace_sstep()\n",
      "      (5): SYNAPSE_FC_trace_sstep()\n",
      "      (6): LIF_layer_trace_sstep()\n",
      "      (7): SYNAPSE_FC_trace_sstep()\n",
      "    )\n",
      "  )\n",
      ")\n",
      "==================================================\n",
      "My Num of PARAMS: 452,010, system's param_num : 452,010\n",
      "Memory: 1.72MiB at 32-bit\n",
      "==================================================\n"
     ]
    },
    {
     "name": "stderr",
     "output_type": "stream",
     "text": [
      "epoch-0   lr=['0.0093619'], tr/val_loss:  1.758189/  1.427192, tr:  39.53%, val:  53.33%, val_best:  53.33%: 100%|██████████| 62/62 [00:08<00:00,  7.05it/s]                                    \n",
      "epoch-1   lr=['0.0093555'], tr/val_loss:  1.121025/  1.242541, tr:  63.43%, val:  58.75%, val_best:  58.75%: 100%|██████████| 62/62 [00:10<00:00,  6.08it/s]                                    \n",
      "epoch-2   lr=['0.0093363'], tr/val_loss:  0.958778/  1.105981, tr:  66.60%, val:  65.00%, val_best:  65.00%: 100%|██████████| 62/62 [00:09<00:00,  6.77it/s]                                    \n",
      "epoch-3   lr=['0.0093043'], tr/val_loss:  0.848399/  1.087034, tr:  70.89%, val:  65.83%, val_best:  65.83%: 100%|██████████| 62/62 [00:10<00:00,  5.91it/s]                                    \n",
      "epoch-4   lr=['0.0092596'], tr/val_loss:  0.819738/  1.107875, tr:  70.89%, val:  64.17%, val_best:  65.83%: 100%|██████████| 62/62 [00:05<00:00, 10.77it/s]                                    \n",
      "epoch-5   lr=['0.0092024'], tr/val_loss:  0.813708/  1.282576, tr:  69.46%, val:  60.00%, val_best:  65.83%: 100%|██████████| 62/62 [00:05<00:00, 11.37it/s]                                    \n",
      "epoch-6   lr=['0.0091328'], tr/val_loss:  0.684846/  1.123192, tr:  74.97%, val:  63.75%, val_best:  65.83%: 100%|██████████| 62/62 [00:05<00:00, 11.29it/s]                                    \n",
      "epoch-7   lr=['0.0090510'], tr/val_loss:  0.648737/  1.211978, tr:  76.30%, val:  61.25%, val_best:  65.83%: 100%|██████████| 62/62 [00:06<00:00, 10.02it/s]                                    \n",
      "epoch-8   lr=['0.0089572'], tr/val_loss:  0.607351/  1.135658, tr:  76.40%, val:  66.25%, val_best:  66.25%: 100%|██████████| 62/62 [00:05<00:00, 11.09it/s]                                    \n",
      "epoch-9   lr=['0.0088517'], tr/val_loss:  0.471260/  1.326384, tr:  83.66%, val:  65.00%, val_best:  66.25%: 100%|██████████| 62/62 [00:05<00:00, 10.49it/s]                                    \n",
      "epoch-10  lr=['0.0087348'], tr/val_loss:  0.475310/  1.194957, tr:  83.86%, val:  67.92%, val_best:  67.92%: 100%|██████████| 62/62 [00:05<00:00, 11.20it/s]                                    \n",
      "epoch-11  lr=['0.0086067'], tr/val_loss:  0.430384/  1.348066, tr:  84.47%, val:  68.33%, val_best:  68.33%: 100%|██████████| 62/62 [00:05<00:00, 10.89it/s]                                    \n",
      "epoch-12  lr=['0.0084679'], tr/val_loss:  0.446747/  1.292076, tr:  84.58%, val:  71.25%, val_best:  71.25%: 100%|██████████| 62/62 [00:10<00:00,  5.66it/s]                                    \n",
      "epoch-13  lr=['0.0083187'], tr/val_loss:  0.387504/  1.374143, tr:  90.30%, val:  67.50%, val_best:  71.25%: 100%|██████████| 62/62 [00:09<00:00,  6.30it/s]                                    \n",
      "epoch-14  lr=['0.0081596'], tr/val_loss:  0.310560/  1.283792, tr:  91.62%, val:  75.83%, val_best:  75.83%: 100%|██████████| 62/62 [00:11<00:00,  5.63it/s]                                    \n",
      "epoch-15  lr=['0.0079909'], tr/val_loss:  0.299187/  1.367990, tr:  92.65%, val:  74.17%, val_best:  75.83%: 100%|██████████| 62/62 [00:09<00:00,  6.28it/s]                                    \n",
      "epoch-16  lr=['0.0078131'], tr/val_loss:  0.264495/  1.458375, tr:  94.08%, val:  71.67%, val_best:  75.83%: 100%|██████████| 62/62 [00:09<00:00,  6.36it/s]                                    \n",
      "epoch-17  lr=['0.0076268'], tr/val_loss:  0.250258/  1.393332, tr:  94.89%, val:  75.00%, val_best:  75.83%: 100%|██████████| 62/62 [00:12<00:00,  4.90it/s]                                    \n",
      "epoch-18  lr=['0.0074324'], tr/val_loss:  0.253149/  1.334759, tr:  93.56%, val:  76.67%, val_best:  76.67%: 100%|██████████| 62/62 [00:08<00:00,  7.14it/s]                                    \n",
      "epoch-19  lr=['0.0072304'], tr/val_loss:  0.174573/  1.521255, tr:  97.96%, val:  75.00%, val_best:  76.67%: 100%|██████████| 62/62 [00:10<00:00,  6.15it/s]                                    \n",
      "epoch-20  lr=['0.0070214'], tr/val_loss:  0.154202/  1.533363, tr:  98.47%, val:  76.67%, val_best:  76.67%: 100%|██████████| 62/62 [00:09<00:00,  6.26it/s]                                    \n",
      "epoch-21  lr=['0.0068061'], tr/val_loss:  0.112503/  1.693756, tr:  99.80%, val:  74.17%, val_best:  76.67%: 100%|██████████| 62/62 [00:11<00:00,  5.48it/s]                                    \n",
      "epoch-22  lr=['0.0065849'], tr/val_loss:  0.124284/  1.508918, tr:  98.47%, val:  77.92%, val_best:  77.92%: 100%|██████████| 62/62 [00:10<00:00,  5.75it/s]                                    \n",
      "epoch-23  lr=['0.0063585'], tr/val_loss:  0.110711/  1.626433, tr:  99.59%, val:  77.92%, val_best:  77.92%: 100%|██████████| 62/62 [00:10<00:00,  5.97it/s]                                    \n",
      "epoch-24  lr=['0.0061275'], tr/val_loss:  0.070286/  1.683288, tr: 100.00%, val:  77.92%, val_best:  77.92%: 100%|██████████| 62/62 [00:11<00:00,  5.50it/s]                                    \n",
      "epoch-25  lr=['0.0058925'], tr/val_loss:  0.066801/  1.666150, tr:  99.90%, val:  78.33%, val_best:  78.33%: 100%|██████████| 62/62 [00:10<00:00,  6.11it/s]                                    \n",
      "epoch-26  lr=['0.0056542'], tr/val_loss:  0.048914/  1.676689, tr: 100.00%, val:  80.83%, val_best:  80.83%: 100%|██████████| 62/62 [00:10<00:00,  5.99it/s]                                    \n",
      "epoch-27  lr=['0.0054132'], tr/val_loss:  0.045981/  1.796676, tr: 100.00%, val:  78.33%, val_best:  80.83%: 100%|██████████| 62/62 [00:11<00:00,  5.20it/s]                                    \n",
      "epoch-28  lr=['0.0051703'], tr/val_loss:  0.050537/  1.823426, tr:  99.90%, val:  78.75%, val_best:  80.83%: 100%|██████████| 62/62 [00:09<00:00,  6.57it/s]                                    \n",
      "epoch-29  lr=['0.0049259'], tr/val_loss:  0.036348/  1.803269, tr: 100.00%, val:  77.92%, val_best:  80.83%: 100%|██████████| 62/62 [00:10<00:00,  6.05it/s]                                    \n",
      "epoch-30  lr=['0.0046810'], tr/val_loss:  0.025882/  1.802672, tr: 100.00%, val:  79.58%, val_best:  80.83%: 100%|██████████| 62/62 [00:11<00:00,  5.58it/s]                                    \n",
      "epoch-31  lr=['0.0044360'], tr/val_loss:  0.022375/  1.871312, tr: 100.00%, val:  78.75%, val_best:  80.83%: 100%|██████████| 62/62 [00:09<00:00,  6.54it/s]                                    \n",
      "epoch-32  lr=['0.0041917'], tr/val_loss:  0.019635/  1.907209, tr: 100.00%, val:  77.92%, val_best:  80.83%: 100%|██████████| 62/62 [00:10<00:00,  6.05it/s]                                    \n",
      "epoch-33  lr=['0.0039487'], tr/val_loss:  0.015772/  1.907947, tr: 100.00%, val:  77.50%, val_best:  80.83%: 100%|██████████| 62/62 [00:09<00:00,  6.37it/s]                                    \n",
      "epoch-34  lr=['0.0037077'], tr/val_loss:  0.012434/  1.915914, tr: 100.00%, val:  78.75%, val_best:  80.83%: 100%|██████████| 62/62 [00:12<00:00,  4.99it/s]                                    \n",
      "epoch-35  lr=['0.0034694'], tr/val_loss:  0.010623/  1.917898, tr: 100.00%, val:  78.33%, val_best:  80.83%: 100%|██████████| 62/62 [00:05<00:00, 10.99it/s]                                    \n",
      "epoch-36  lr=['0.0032345'], tr/val_loss:  0.009348/  1.954894, tr: 100.00%, val:  79.17%, val_best:  80.83%: 100%|██████████| 62/62 [00:06<00:00,  9.59it/s]                                    \n",
      "epoch-37  lr=['0.0030035'], tr/val_loss:  0.009005/  1.959058, tr: 100.00%, val:  79.58%, val_best:  80.83%: 100%|██████████| 62/62 [00:05<00:00, 10.50it/s]                                    \n",
      "epoch-38  lr=['0.0027770'], tr/val_loss:  0.008143/  1.963629, tr: 100.00%, val:  79.58%, val_best:  80.83%: 100%|██████████| 62/62 [00:06<00:00,  9.21it/s]                                    \n",
      "epoch-39  lr=['0.0025558'], tr/val_loss:  0.007377/  1.974016, tr: 100.00%, val:  79.58%, val_best:  80.83%: 100%|██████████| 62/62 [00:10<00:00,  6.16it/s]                                    \n",
      "epoch-40  lr=['0.0023405'], tr/val_loss:  0.006831/  1.988360, tr: 100.00%, val:  79.17%, val_best:  80.83%: 100%|██████████| 62/62 [00:10<00:00,  6.03it/s]                                    \n",
      "epoch-41  lr=['0.0021315'], tr/val_loss:  0.006951/  1.989610, tr: 100.00%, val:  79.17%, val_best:  80.83%: 100%|██████████| 62/62 [00:10<00:00,  5.97it/s]                                    \n",
      "epoch-42  lr=['0.0019296'], tr/val_loss:  0.006335/  1.991551, tr: 100.00%, val:  79.17%, val_best:  80.83%: 100%|██████████| 62/62 [00:10<00:00,  5.90it/s]                                    \n",
      "epoch-43  lr=['0.0017351'], tr/val_loss:  0.006169/  2.001601, tr: 100.00%, val:  79.58%, val_best:  80.83%: 100%|██████████| 62/62 [00:11<00:00,  5.17it/s]                                    \n",
      "epoch-44  lr=['0.0015488'], tr/val_loss:  0.005386/  2.012401, tr: 100.00%, val:  79.17%, val_best:  80.83%: 100%|██████████| 62/62 [00:10<00:00,  5.92it/s]                                    \n",
      "epoch-45  lr=['0.0013710'], tr/val_loss:  0.005166/  2.010019, tr: 100.00%, val:  79.17%, val_best:  80.83%: 100%|██████████| 62/62 [00:10<00:00,  5.84it/s]                                    \n",
      "epoch-46  lr=['0.0012023'], tr/val_loss:  0.005362/  2.017381, tr: 100.00%, val:  78.75%, val_best:  80.83%: 100%|██████████| 62/62 [00:12<00:00,  5.16it/s]                                    \n",
      "epoch-47  lr=['0.0010432'], tr/val_loss:  0.005210/  2.017117, tr: 100.00%, val:  79.58%, val_best:  80.83%: 100%|██████████| 62/62 [00:10<00:00,  6.13it/s]                                    \n",
      "epoch-48  lr=['0.0008940'], tr/val_loss:  0.005165/  2.025778, tr: 100.00%, val:  79.17%, val_best:  80.83%: 100%|██████████| 62/62 [00:11<00:00,  5.43it/s]                                    \n",
      "epoch-49  lr=['0.0007552'], tr/val_loss:  0.004589/  2.031168, tr: 100.00%, val:  80.00%, val_best:  80.83%: 100%|██████████| 62/62 [00:08<00:00,  6.91it/s]                                    \n",
      "epoch-50  lr=['0.0006271'], tr/val_loss:  0.004658/  2.022295, tr: 100.00%, val:  80.00%, val_best:  80.83%: 100%|██████████| 62/62 [00:05<00:00, 10.78it/s]                                    \n",
      "epoch-51  lr=['0.0005102'], tr/val_loss:  0.004663/  2.033039, tr: 100.00%, val:  80.00%, val_best:  80.83%: 100%|██████████| 62/62 [00:06<00:00,  9.45it/s]                                    \n",
      "epoch-52  lr=['0.0004047'], tr/val_loss:  0.004556/  2.026772, tr: 100.00%, val:  80.00%, val_best:  80.83%: 100%|██████████| 62/62 [00:05<00:00, 11.26it/s]                                    \n",
      "epoch-53  lr=['0.0003109'], tr/val_loss:  0.004308/  2.027908, tr: 100.00%, val:  80.00%, val_best:  80.83%: 100%|██████████| 62/62 [00:06<00:00, 10.04it/s]                                    \n",
      "epoch-54  lr=['0.0002291'], tr/val_loss:  0.004443/  2.029042, tr: 100.00%, val:  79.58%, val_best:  80.83%: 100%|██████████| 62/62 [00:06<00:00,  9.54it/s]                                    \n",
      "epoch-55  lr=['0.0001595'], tr/val_loss:  0.004235/  2.027117, tr: 100.00%, val:  79.58%, val_best:  80.83%: 100%|██████████| 62/62 [00:08<00:00,  6.98it/s]                                    \n",
      "epoch-56  lr=['0.0001023'], tr/val_loss:  0.004092/  2.025608, tr: 100.00%, val:  79.58%, val_best:  80.83%: 100%|██████████| 62/62 [00:08<00:00,  7.36it/s]                                    \n",
      "epoch-57  lr=['0.0000576'], tr/val_loss:  0.004143/  2.023968, tr: 100.00%, val:  79.58%, val_best:  80.83%: 100%|██████████| 62/62 [00:10<00:00,  6.18it/s]                                    \n",
      "epoch-58  lr=['0.0000256'], tr/val_loss:  0.004130/  2.025469, tr: 100.00%, val:  79.58%, val_best:  80.83%: 100%|██████████| 62/62 [00:11<00:00,  5.29it/s]                                    \n",
      "epoch-59  lr=['0.0000064'], tr/val_loss:  0.004239/  2.024744, tr: 100.00%, val:  79.58%, val_best:  80.83%: 100%|██████████| 62/62 [00:11<00:00,  5.37it/s]                                    \n"
     ]
    },
    {
     "data": {
      "application/vnd.jupyter.widget-view+json": {
       "model_id": "671053d5b52f4f08a9913f72197b00f8",
       "version_major": 2,
       "version_minor": 0
      },
      "text/plain": [
       "VBox(children=(Label(value='7.667 MB of 7.667 MB uploaded (2.586 MB deduped)\\r'), FloatProgress(value=1.0, max…"
      ]
     },
     "metadata": {},
     "output_type": "display_data"
    },
    {
     "data": {
      "text/html": [
       "W&B sync reduced upload amount by 33.2%"
      ],
      "text/plain": [
       "<IPython.core.display.HTML object>"
      ]
     },
     "metadata": {},
     "output_type": "display_data"
    },
    {
     "data": {
      "text/html": [
       "<style>\n",
       "    table.wandb td:nth-child(1) { padding: 0 10px; text-align: left ; width: auto;} td:nth-child(2) {text-align: left ; width: 100%}\n",
       "    .wandb-row { display: flex; flex-direction: row; flex-wrap: wrap; justify-content: flex-start; width: 100% }\n",
       "    .wandb-col { display: flex; flex-direction: column; flex-basis: 100%; flex: 1; padding: 10px; }\n",
       "    </style>\n",
       "<div class=\"wandb-row\"><div class=\"wandb-col\"><h3>Run history:</h3><br/><table class=\"wandb\"><tr><td>DFA_flag</td><td>▁▁▁▁▁▁▁▁▁▁▁▁▁▁▁▁▁▁▁▁▁▁▁▁▁▁▁▁▁▁▁▁▁▁▁▁▁▁▁▁</td></tr><tr><td>epoch</td><td>▁▁▁▁▂▂▂▂▂▃▃▃▃▃▃▄▄▄▄▄▅▅▅▅▅▆▆▆▆▆▆▇▇▇▇▇████</td></tr><tr><td>iter_acc</td><td>▁▅▆▅▆▄▅▇▅▆█▇▇███████████████████████████</td></tr><tr><td>summary_val_acc</td><td>▁▆▇▇▆▇▇▇▇▇█▇▇▇██████████████████████████</td></tr><tr><td>tr_acc</td><td>▁▄▆▆▆▆▆▇▇▇▇█████████████████████████████</td></tr><tr><td>tr_epoch_loss</td><td>▁█▅▄▄▄▃▃▃▃▂▂▂▂▂▁▁▁▁▁▁▁▁▁▁▁▁▁▁▁▁▁▁▁▁▁▁▁▁▁</td></tr><tr><td>val_acc_best</td><td>▁▆▇▇▇▇▇▇▇▇██████████████████████████████</td></tr><tr><td>val_acc_now</td><td>▁▆▇▇▆▇▇▇▇▇█▇▇▇██████████████████████████</td></tr><tr><td>val_loss</td><td>▁▆▅▅▅▅▅▆▆▅▅▆▆▆▆▆▇▇▇▇▇▇██████████████████</td></tr></table><br/></div><div class=\"wandb-col\"><h3>Run summary:</h3><br/><table class=\"wandb\"><tr><td>DFA_flag</td><td>0.0</td></tr><tr><td>epoch</td><td>59</td></tr><tr><td>iter_acc</td><td>1.0</td></tr><tr><td>tr_acc</td><td>1.0</td></tr><tr><td>tr_epoch_loss</td><td>0.00424</td></tr><tr><td>val_acc_best</td><td>0.80833</td></tr><tr><td>val_acc_now</td><td>0.79583</td></tr><tr><td>val_loss</td><td>2.02474</td></tr></table><br/></div></div>"
      ],
      "text/plain": [
       "<IPython.core.display.HTML object>"
      ]
     },
     "metadata": {},
     "output_type": "display_data"
    },
    {
     "data": {
      "text/html": [
       " View run <strong style=\"color:#cdcd00\">northern-sweep-20</strong> at: <a href='https://wandb.ai/bhkim003-seoul-national-university/my_snn%20main/runs/2fuxlpns' target=\"_blank\">https://wandb.ai/bhkim003-seoul-national-university/my_snn%20main/runs/2fuxlpns</a><br/> View project at: <a href='https://wandb.ai/bhkim003-seoul-national-university/my_snn%20main' target=\"_blank\">https://wandb.ai/bhkim003-seoul-national-university/my_snn%20main</a><br/>Synced 7 W&B file(s), 0 media file(s), 14 artifact file(s) and 1 other file(s)"
      ],
      "text/plain": [
       "<IPython.core.display.HTML object>"
      ]
     },
     "metadata": {},
     "output_type": "display_data"
    },
    {
     "data": {
      "text/html": [
       "Find logs at: <code>./wandb/run-20240821_153327-2fuxlpns/logs</code>"
      ],
      "text/plain": [
       "<IPython.core.display.HTML object>"
      ]
     },
     "metadata": {},
     "output_type": "display_data"
    },
    {
     "data": {
      "text/html": [
       "The new W&B backend becomes opt-out in version 0.18.0; try it out with `wandb.require(\"core\")`! See https://wandb.me/wandb-core for more information."
      ],
      "text/plain": [
       "<IPython.core.display.HTML object>"
      ]
     },
     "metadata": {},
     "output_type": "display_data"
    },
    {
     "name": "stderr",
     "output_type": "stream",
     "text": [
      "\u001b[34m\u001b[1mwandb\u001b[0m: Agent Starting Run: qf054px5 with config:\n",
      "\u001b[34m\u001b[1mwandb\u001b[0m: \tBATCH: 16\n",
      "\u001b[34m\u001b[1mwandb\u001b[0m: \tDFA_on: False\n",
      "\u001b[34m\u001b[1mwandb\u001b[0m: \tIMAGE_SIZE: 128\n",
      "\u001b[34m\u001b[1mwandb\u001b[0m: \tOTTT_input_trace_on: False\n",
      "\u001b[34m\u001b[1mwandb\u001b[0m: \tOTTT_sWS_on: False\n",
      "\u001b[34m\u001b[1mwandb\u001b[0m: \tTIME: 10\n",
      "\u001b[34m\u001b[1mwandb\u001b[0m: \tcfg: ['M', 'M', 200, 200]\n",
      "\u001b[34m\u001b[1mwandb\u001b[0m: \tconst2: False\n",
      "\u001b[34m\u001b[1mwandb\u001b[0m: \tdecay: 0.009706368824084112\n",
      "\u001b[34m\u001b[1mwandb\u001b[0m: \tdrop_rate: 0\n",
      "\u001b[34m\u001b[1mwandb\u001b[0m: \tdvs_clipping: 2\n",
      "\u001b[34m\u001b[1mwandb\u001b[0m: \tdvs_duration: 100000\n",
      "\u001b[34m\u001b[1mwandb\u001b[0m: \te_transport_swap: 0\n",
      "\u001b[34m\u001b[1mwandb\u001b[0m: \te_transport_swap_tr: 0\n",
      "\u001b[34m\u001b[1mwandb\u001b[0m: \tepoch_num: 60\n",
      "\u001b[34m\u001b[1mwandb\u001b[0m: \texclude_class: True\n",
      "\u001b[34m\u001b[1mwandb\u001b[0m: \tlearning_rate: 0.00936191669529645\n",
      "\u001b[34m\u001b[1mwandb\u001b[0m: \tmerge_polarities: False\n",
      "\u001b[34m\u001b[1mwandb\u001b[0m: \tsurrogate: hard_sigmoid\n",
      "\u001b[34m\u001b[1mwandb\u001b[0m: \twhich_data: DVS_GESTURE_TONIC\n",
      "Failed to detect the name of this notebook, you can set it manually with the WANDB_NOTEBOOK_NAME environment variable to enable code saving.\n"
     ]
    },
    {
     "data": {
      "text/html": [
       "wandb version 0.17.7 is available!  To upgrade, please run:\n",
       " $ pip install wandb --upgrade"
      ],
      "text/plain": [
       "<IPython.core.display.HTML object>"
      ]
     },
     "metadata": {},
     "output_type": "display_data"
    },
    {
     "data": {
      "text/html": [
       "Tracking run with wandb version 0.17.5"
      ],
      "text/plain": [
       "<IPython.core.display.HTML object>"
      ]
     },
     "metadata": {},
     "output_type": "display_data"
    },
    {
     "data": {
      "text/html": [
       "Run data is saved locally in <code>/nfs/home/bhkim003/github_folder/ByeonghyeonKim/my_snn/wandb/run-20240821_154307-qf054px5</code>"
      ],
      "text/plain": [
       "<IPython.core.display.HTML object>"
      ]
     },
     "metadata": {},
     "output_type": "display_data"
    },
    {
     "data": {
      "text/html": [
       "Syncing run <strong><a href='https://wandb.ai/bhkim003-seoul-national-university/my_snn%20main/runs/qf054px5' target=\"_blank\">splendid-sweep-23</a></strong> to <a href='https://wandb.ai/bhkim003-seoul-national-university/my_snn%20main' target=\"_blank\">Weights & Biases</a> (<a href='https://wandb.me/run' target=\"_blank\">docs</a>)<br/>Sweep page: <a href='https://wandb.ai/bhkim003-seoul-national-university/my_snn%20main/sweeps/gqhgeaun' target=\"_blank\">https://wandb.ai/bhkim003-seoul-national-university/my_snn%20main/sweeps/gqhgeaun</a>"
      ],
      "text/plain": [
       "<IPython.core.display.HTML object>"
      ]
     },
     "metadata": {},
     "output_type": "display_data"
    },
    {
     "data": {
      "text/html": [
       " View project at <a href='https://wandb.ai/bhkim003-seoul-national-university/my_snn%20main' target=\"_blank\">https://wandb.ai/bhkim003-seoul-national-university/my_snn%20main</a>"
      ],
      "text/plain": [
       "<IPython.core.display.HTML object>"
      ]
     },
     "metadata": {},
     "output_type": "display_data"
    },
    {
     "data": {
      "text/html": [
       " View sweep at <a href='https://wandb.ai/bhkim003-seoul-national-university/my_snn%20main/sweeps/gqhgeaun' target=\"_blank\">https://wandb.ai/bhkim003-seoul-national-university/my_snn%20main/sweeps/gqhgeaun</a>"
      ],
      "text/plain": [
       "<IPython.core.display.HTML object>"
      ]
     },
     "metadata": {},
     "output_type": "display_data"
    },
    {
     "data": {
      "text/html": [
       " View run at <a href='https://wandb.ai/bhkim003-seoul-national-university/my_snn%20main/runs/qf054px5' target=\"_blank\">https://wandb.ai/bhkim003-seoul-national-university/my_snn%20main/runs/qf054px5</a>"
      ],
      "text/plain": [
       "<IPython.core.display.HTML object>"
      ]
     },
     "metadata": {},
     "output_type": "display_data"
    },
    {
     "name": "stderr",
     "output_type": "stream",
     "text": [
      "\u001b[34m\u001b[1mwandb\u001b[0m: \u001b[33mWARNING\u001b[0m Config item 'BATCH' was locked by 'sweep' (ignored update).\n",
      "\u001b[34m\u001b[1mwandb\u001b[0m: \u001b[33mWARNING\u001b[0m Config item 'IMAGE_SIZE' was locked by 'sweep' (ignored update).\n",
      "\u001b[34m\u001b[1mwandb\u001b[0m: \u001b[33mWARNING\u001b[0m Config item 'which_data' was locked by 'sweep' (ignored update).\n",
      "\u001b[34m\u001b[1mwandb\u001b[0m: \u001b[33mWARNING\u001b[0m Config item 'cfg' was locked by 'sweep' (ignored update).\n",
      "\u001b[34m\u001b[1mwandb\u001b[0m: \u001b[33mWARNING\u001b[0m Config item 'learning_rate' was locked by 'sweep' (ignored update).\n",
      "\u001b[34m\u001b[1mwandb\u001b[0m: \u001b[33mWARNING\u001b[0m Config item 'epoch_num' was locked by 'sweep' (ignored update).\n",
      "\u001b[34m\u001b[1mwandb\u001b[0m: \u001b[33mWARNING\u001b[0m Config item 'surrogate' was locked by 'sweep' (ignored update).\n",
      "\u001b[34m\u001b[1mwandb\u001b[0m: \u001b[33mWARNING\u001b[0m Config item 'dvs_clipping' was locked by 'sweep' (ignored update).\n",
      "\u001b[34m\u001b[1mwandb\u001b[0m: \u001b[33mWARNING\u001b[0m Config item 'dvs_duration' was locked by 'sweep' (ignored update).\n",
      "\u001b[34m\u001b[1mwandb\u001b[0m: \u001b[33mWARNING\u001b[0m Config item 'OTTT_sWS_on' was locked by 'sweep' (ignored update).\n",
      "\u001b[34m\u001b[1mwandb\u001b[0m: \u001b[33mWARNING\u001b[0m Config item 'DFA_on' was locked by 'sweep' (ignored update).\n",
      "\u001b[34m\u001b[1mwandb\u001b[0m: \u001b[33mWARNING\u001b[0m Config item 'OTTT_input_trace_on' was locked by 'sweep' (ignored update).\n",
      "\u001b[34m\u001b[1mwandb\u001b[0m: \u001b[33mWARNING\u001b[0m Config item 'e_transport_swap' was locked by 'sweep' (ignored update).\n",
      "\u001b[34m\u001b[1mwandb\u001b[0m: \u001b[33mWARNING\u001b[0m Config item 'e_transport_swap_tr' was locked by 'sweep' (ignored update).\n",
      "\u001b[34m\u001b[1mwandb\u001b[0m: \u001b[33mWARNING\u001b[0m Config item 'drop_rate' was locked by 'sweep' (ignored update).\n",
      "\u001b[34m\u001b[1mwandb\u001b[0m: \u001b[33mWARNING\u001b[0m Config item 'exclude_class' was locked by 'sweep' (ignored update).\n",
      "\u001b[34m\u001b[1mwandb\u001b[0m: \u001b[33mWARNING\u001b[0m Config item 'merge_polarities' was locked by 'sweep' (ignored update).\n",
      "\u001b[34m\u001b[1mwandb\u001b[0m: \u001b[33mWARNING\u001b[0m Config item 'TIME' was locked by 'sweep' (ignored update).\n"
     ]
    },
    {
     "name": "stdout",
     "output_type": "stream",
     "text": [
      "dataset_hash = 2bbd58b4e0d3c1e9ad501fad8a43feed\n",
      "cache path exists\n",
      "\n",
      "we will exclude the 'other' class. dvsgestrue 10 classes' indices exist. \n",
      "\n",
      "DataParallel(\n",
      "  (module): MY_SNN_FC_sstep(\n",
      "    (layers): MY_Sequential(\n",
      "      (0): MaxPool2d(kernel_size=2, stride=2, padding=0, dilation=1, ceil_mode=False)\n",
      "      (1): MaxPool2d(kernel_size=2, stride=2, padding=0, dilation=1, ceil_mode=False)\n",
      "      (2): DimChanger_for_FC_sstep()\n",
      "      (3): SYNAPSE_FC_trace_sstep()\n",
      "      (4): LIF_layer_trace_sstep()\n",
      "      (5): SYNAPSE_FC_trace_sstep()\n",
      "      (6): LIF_layer_trace_sstep()\n",
      "      (7): SYNAPSE_FC_trace_sstep()\n",
      "    )\n",
      "  )\n",
      ")\n",
      "==================================================\n",
      "My Num of PARAMS: 452,010, system's param_num : 452,010\n",
      "Memory: 1.72MiB at 32-bit\n",
      "==================================================\n"
     ]
    },
    {
     "name": "stderr",
     "output_type": "stream",
     "text": [
      "epoch-0   lr=['0.0093619'], tr/val_loss:  1.860477/  1.509396, tr:  36.47%, val:  55.42%, val_best:  55.42%: 100%|██████████| 62/62 [00:11<00:00,  5.60it/s]                                    \n",
      "epoch-1   lr=['0.0093555'], tr/val_loss:  1.183684/  1.299954, tr:  62.82%, val:  60.83%, val_best:  60.83%: 100%|██████████| 62/62 [00:09<00:00,  6.65it/s]                                    \n",
      "epoch-2   lr=['0.0093363'], tr/val_loss:  1.022759/  1.154931, tr:  66.19%, val:  66.67%, val_best:  66.67%: 100%|██████████| 62/62 [00:12<00:00,  5.16it/s]                                    \n",
      "epoch-3   lr=['0.0093043'], tr/val_loss:  0.923874/  1.152470, tr:  69.25%, val:  65.00%, val_best:  66.67%: 100%|██████████| 62/62 [00:05<00:00, 11.64it/s]                                    \n",
      "epoch-4   lr=['0.0092596'], tr/val_loss:  0.890620/  1.205493, tr:  69.87%, val:  64.17%, val_best:  66.67%: 100%|██████████| 62/62 [00:05<00:00, 11.62it/s]                                    \n",
      "epoch-5   lr=['0.0092024'], tr/val_loss:  0.849556/  1.323747, tr:  69.77%, val:  60.42%, val_best:  66.67%: 100%|██████████| 62/62 [00:05<00:00, 10.74it/s]                                    \n",
      "epoch-6   lr=['0.0091328'], tr/val_loss:  0.767343/  1.177976, tr:  72.11%, val:  63.75%, val_best:  66.67%: 100%|██████████| 62/62 [00:06<00:00,  9.98it/s]                                    \n",
      "epoch-7   lr=['0.0090510'], tr/val_loss:  0.718584/  1.256564, tr:  74.26%, val:  61.67%, val_best:  66.67%: 100%|██████████| 62/62 [00:05<00:00, 10.91it/s]                                    \n",
      "epoch-8   lr=['0.0089572'], tr/val_loss:  0.705792/  1.116651, tr:  76.20%, val:  68.75%, val_best:  68.75%: 100%|██████████| 62/62 [00:06<00:00,  9.63it/s]                                    \n",
      "epoch-9   lr=['0.0088517'], tr/val_loss:  0.545312/  1.329032, tr:  83.35%, val:  69.17%, val_best:  69.17%: 100%|██████████| 62/62 [00:05<00:00, 11.92it/s]                                    \n",
      "epoch-10  lr=['0.0087348'], tr/val_loss:  0.526395/  1.180515, tr:  82.84%, val:  70.83%, val_best:  70.83%: 100%|██████████| 62/62 [00:05<00:00, 11.85it/s]                                    \n",
      "epoch-11  lr=['0.0086067'], tr/val_loss:  0.514905/  1.278688, tr:  82.33%, val:  71.67%, val_best:  71.67%: 100%|██████████| 62/62 [00:05<00:00, 11.95it/s]                                    \n",
      "epoch-12  lr=['0.0084679'], tr/val_loss:  0.513774/  1.196909, tr:  85.29%, val:  75.00%, val_best:  75.00%: 100%|██████████| 62/62 [00:05<00:00, 10.85it/s]                                    \n",
      "epoch-13  lr=['0.0083187'], tr/val_loss:  0.448934/  1.263457, tr:  87.95%, val:  71.67%, val_best:  75.00%: 100%|██████████| 62/62 [00:05<00:00, 10.79it/s]                                    \n",
      "epoch-14  lr=['0.0081596'], tr/val_loss:  0.384842/  1.366453, tr:  89.68%, val:  71.67%, val_best:  75.00%: 100%|██████████| 62/62 [00:07<00:00,  8.54it/s]                                    \n",
      "epoch-15  lr=['0.0079909'], tr/val_loss:  0.362406/  1.342247, tr:  92.34%, val:  72.50%, val_best:  75.00%: 100%|██████████| 62/62 [00:08<00:00,  7.00it/s]                                    \n",
      "epoch-16  lr=['0.0078131'], tr/val_loss:  0.337623/  1.583996, tr:  91.42%, val:  70.00%, val_best:  75.00%: 100%|██████████| 62/62 [00:07<00:00,  7.80it/s]                                    \n",
      "epoch-17  lr=['0.0076268'], tr/val_loss:  0.329413/  1.459110, tr:  93.77%, val:  73.75%, val_best:  75.00%: 100%|██████████| 62/62 [00:09<00:00,  6.87it/s]                                    \n",
      "epoch-18  lr=['0.0074324'], tr/val_loss:  0.306424/  1.422486, tr:  94.08%, val:  78.75%, val_best:  78.75%: 100%|██████████| 62/62 [00:07<00:00,  8.45it/s]                                    \n",
      "epoch-19  lr=['0.0072304'], tr/val_loss:  0.243230/  1.544197, tr:  96.73%, val:  74.58%, val_best:  78.75%: 100%|██████████| 62/62 [00:09<00:00,  6.58it/s]                                    \n",
      "epoch-20  lr=['0.0070214'], tr/val_loss:  0.192287/  1.681888, tr:  99.08%, val:  74.17%, val_best:  78.75%: 100%|██████████| 62/62 [00:09<00:00,  6.39it/s]                                    \n",
      "epoch-21  lr=['0.0068061'], tr/val_loss:  0.154251/  1.793751, tr:  99.59%, val:  77.92%, val_best:  78.75%: 100%|██████████| 62/62 [00:09<00:00,  6.69it/s]                                    \n",
      "epoch-22  lr=['0.0065849'], tr/val_loss:  0.152133/  1.755252, tr:  97.96%, val:  77.50%, val_best:  78.75%: 100%|██████████| 62/62 [00:05<00:00, 11.01it/s]                                    \n",
      "epoch-23  lr=['0.0063585'], tr/val_loss:  0.125499/  1.813300, tr:  99.49%, val:  78.75%, val_best:  78.75%: 100%|██████████| 62/62 [00:06<00:00,  9.03it/s]                                    \n",
      "epoch-24  lr=['0.0061275'], tr/val_loss:  0.115230/  1.977892, tr:  99.59%, val:  75.00%, val_best:  78.75%: 100%|██████████| 62/62 [00:05<00:00, 10.38it/s]                                    \n",
      "epoch-25  lr=['0.0058925'], tr/val_loss:  0.094121/  1.913852, tr:  99.80%, val:  78.33%, val_best:  78.75%: 100%|██████████| 62/62 [00:05<00:00, 10.55it/s]                                    \n",
      "epoch-26  lr=['0.0056542'], tr/val_loss:  0.066822/  1.965442, tr:  99.90%, val:  81.25%, val_best:  81.25%: 100%|██████████| 62/62 [00:06<00:00, 10.31it/s]                                    \n",
      "epoch-27  lr=['0.0054132'], tr/val_loss:  0.052642/  2.091664, tr: 100.00%, val:  78.75%, val_best:  81.25%: 100%|██████████| 62/62 [00:08<00:00,  7.18it/s]                                    \n",
      "epoch-28  lr=['0.0051703'], tr/val_loss:  0.049493/  2.151831, tr: 100.00%, val:  78.33%, val_best:  81.25%: 100%|██████████| 62/62 [00:11<00:00,  5.26it/s]                                    \n",
      "epoch-29  lr=['0.0049259'], tr/val_loss:  0.055009/  2.113349, tr: 100.00%, val:  80.42%, val_best:  81.25%: 100%|██████████| 62/62 [00:10<00:00,  5.80it/s]                                    \n",
      "epoch-30  lr=['0.0046810'], tr/val_loss:  0.034169/  2.144169, tr: 100.00%, val:  80.83%, val_best:  81.25%: 100%|██████████| 62/62 [00:08<00:00,  7.46it/s]                                    \n",
      "epoch-31  lr=['0.0044360'], tr/val_loss:  0.031826/  2.192697, tr: 100.00%, val:  79.58%, val_best:  81.25%: 100%|██████████| 62/62 [00:10<00:00,  6.15it/s]                                    \n",
      "epoch-32  lr=['0.0041917'], tr/val_loss:  0.044322/  2.201484, tr: 100.00%, val:  80.42%, val_best:  81.25%: 100%|██████████| 62/62 [00:06<00:00, 10.11it/s]                                    \n",
      "epoch-33  lr=['0.0039487'], tr/val_loss:  0.022351/  2.224596, tr: 100.00%, val:  79.58%, val_best:  81.25%: 100%|██████████| 62/62 [00:05<00:00, 10.79it/s]                                    \n",
      "epoch-34  lr=['0.0037077'], tr/val_loss:  0.018667/  2.278656, tr: 100.00%, val:  79.58%, val_best:  81.25%: 100%|██████████| 62/62 [00:05<00:00, 11.07it/s]                                    \n",
      "epoch-35  lr=['0.0034694'], tr/val_loss:  0.015355/  2.294649, tr: 100.00%, val:  80.00%, val_best:  81.25%: 100%|██████████| 62/62 [00:05<00:00, 10.42it/s]                                    \n",
      "epoch-36  lr=['0.0032345'], tr/val_loss:  0.013228/  2.315982, tr: 100.00%, val:  80.42%, val_best:  81.25%: 100%|██████████| 62/62 [00:10<00:00,  6.03it/s]                                    \n",
      "epoch-37  lr=['0.0030035'], tr/val_loss:  0.012561/  2.313416, tr: 100.00%, val:  80.83%, val_best:  81.25%: 100%|██████████| 62/62 [00:10<00:00,  5.78it/s]                                    \n",
      "epoch-38  lr=['0.0027770'], tr/val_loss:  0.010431/  2.370369, tr: 100.00%, val:  80.00%, val_best:  81.25%: 100%|██████████| 62/62 [00:09<00:00,  6.47it/s]                                    \n",
      "epoch-39  lr=['0.0025558'], tr/val_loss:  0.010515/  2.363904, tr: 100.00%, val:  80.00%, val_best:  81.25%: 100%|██████████| 62/62 [00:09<00:00,  6.40it/s]                                    \n",
      "epoch-40  lr=['0.0023405'], tr/val_loss:  0.009596/  2.370491, tr: 100.00%, val:  80.00%, val_best:  81.25%: 100%|██████████| 62/62 [00:07<00:00,  7.95it/s]                                    \n",
      "epoch-41  lr=['0.0021315'], tr/val_loss:  0.008841/  2.377731, tr: 100.00%, val:  80.00%, val_best:  81.25%: 100%|██████████| 62/62 [00:10<00:00,  5.72it/s]                                    \n",
      "epoch-42  lr=['0.0019296'], tr/val_loss:  0.007902/  2.390522, tr: 100.00%, val:  80.42%, val_best:  81.25%: 100%|██████████| 62/62 [00:09<00:00,  6.61it/s]                                    \n",
      "epoch-43  lr=['0.0017351'], tr/val_loss:  0.007414/  2.411337, tr: 100.00%, val:  80.42%, val_best:  81.25%: 100%|██████████| 62/62 [00:09<00:00,  6.34it/s]                                    \n",
      "epoch-44  lr=['0.0015488'], tr/val_loss:  0.006578/  2.414025, tr: 100.00%, val:  80.83%, val_best:  81.25%: 100%|██████████| 62/62 [00:10<00:00,  6.16it/s]                                    \n",
      "epoch-45  lr=['0.0013710'], tr/val_loss:  0.006753/  2.423384, tr: 100.00%, val:  80.00%, val_best:  81.25%: 100%|██████████| 62/62 [00:07<00:00,  8.05it/s]                                    \n",
      "epoch-46  lr=['0.0012023'], tr/val_loss:  0.006314/  2.441826, tr: 100.00%, val:  80.83%, val_best:  81.25%: 100%|██████████| 62/62 [00:09<00:00,  6.49it/s]                                    \n",
      "epoch-47  lr=['0.0010432'], tr/val_loss:  0.006377/  2.444510, tr: 100.00%, val:  80.00%, val_best:  81.25%: 100%|██████████| 62/62 [00:08<00:00,  7.37it/s]                                    \n",
      "epoch-48  lr=['0.0008940'], tr/val_loss:  0.005911/  2.439009, tr: 100.00%, val:  80.42%, val_best:  81.25%: 100%|██████████| 62/62 [00:09<00:00,  6.86it/s]                                    \n",
      "epoch-49  lr=['0.0007552'], tr/val_loss:  0.005749/  2.457073, tr: 100.00%, val:  80.42%, val_best:  81.25%: 100%|██████████| 62/62 [00:09<00:00,  6.49it/s]                                    \n",
      "epoch-50  lr=['0.0006271'], tr/val_loss:  0.005734/  2.455623, tr: 100.00%, val:  80.00%, val_best:  81.25%: 100%|██████████| 62/62 [00:09<00:00,  6.63it/s]                                    \n",
      "epoch-51  lr=['0.0005102'], tr/val_loss:  0.005399/  2.452535, tr: 100.00%, val:  80.00%, val_best:  81.25%: 100%|██████████| 62/62 [00:10<00:00,  6.07it/s]                                    \n",
      "epoch-52  lr=['0.0004047'], tr/val_loss:  0.005676/  2.462011, tr: 100.00%, val:  80.00%, val_best:  81.25%: 100%|██████████| 62/62 [00:11<00:00,  5.59it/s]                                    \n",
      "epoch-53  lr=['0.0003109'], tr/val_loss:  0.005210/  2.457785, tr: 100.00%, val:  80.42%, val_best:  81.25%: 100%|██████████| 62/62 [00:09<00:00,  6.73it/s]                                    \n",
      "epoch-54  lr=['0.0002291'], tr/val_loss:  0.005397/  2.458472, tr: 100.00%, val:  80.00%, val_best:  81.25%: 100%|██████████| 62/62 [00:07<00:00,  8.16it/s]                                    \n",
      "epoch-55  lr=['0.0001595'], tr/val_loss:  0.005428/  2.458160, tr: 100.00%, val:  80.00%, val_best:  81.25%: 100%|██████████| 62/62 [00:10<00:00,  6.08it/s]                                    \n",
      "epoch-56  lr=['0.0001023'], tr/val_loss:  0.005391/  2.458890, tr: 100.00%, val:  80.00%, val_best:  81.25%: 100%|██████████| 62/62 [00:09<00:00,  6.38it/s]                                    \n",
      "epoch-57  lr=['0.0000576'], tr/val_loss:  0.005342/  2.457374, tr: 100.00%, val:  80.00%, val_best:  81.25%: 100%|██████████| 62/62 [00:09<00:00,  6.62it/s]                                    \n",
      "epoch-58  lr=['0.0000256'], tr/val_loss:  0.005198/  2.457233, tr: 100.00%, val:  80.00%, val_best:  81.25%: 100%|██████████| 62/62 [00:09<00:00,  6.65it/s]                                    \n",
      "epoch-59  lr=['0.0000064'], tr/val_loss:  0.005171/  2.457377, tr: 100.00%, val:  80.00%, val_best:  81.25%: 100%|██████████| 62/62 [00:08<00:00,  7.30it/s]                                    \n"
     ]
    },
    {
     "data": {
      "application/vnd.jupyter.widget-view+json": {
       "model_id": "77963b6c3d2e4546a422d8a68c2e810e",
       "version_major": 2,
       "version_minor": 0
      },
      "text/plain": [
       "VBox(children=(Label(value='4.945 MB of 4.945 MB uploaded\\r'), FloatProgress(value=1.0, max=1.0)))"
      ]
     },
     "metadata": {},
     "output_type": "display_data"
    },
    {
     "data": {
      "text/html": [
       "<style>\n",
       "    table.wandb td:nth-child(1) { padding: 0 10px; text-align: left ; width: auto;} td:nth-child(2) {text-align: left ; width: 100%}\n",
       "    .wandb-row { display: flex; flex-direction: row; flex-wrap: wrap; justify-content: flex-start; width: 100% }\n",
       "    .wandb-col { display: flex; flex-direction: column; flex-basis: 100%; flex: 1; padding: 10px; }\n",
       "    </style>\n",
       "<div class=\"wandb-row\"><div class=\"wandb-col\"><h3>Run history:</h3><br/><table class=\"wandb\"><tr><td>DFA_flag</td><td>▁▁▁▁▁▁▁▁▁▁▁▁▁▁▁▁▁▁▁▁▁▁▁▁▁▁▁▁▁▁▁▁▁▁▁▁▁▁▁▁</td></tr><tr><td>epoch</td><td>▁▁▁▁▂▂▂▂▂▃▃▃▃▃▃▄▄▄▄▄▅▅▅▅▅▆▆▆▆▆▆▇▇▇▇▇████</td></tr><tr><td>iter_acc</td><td>▁▄▆▅▄▅▆▆▆▆█▆▆███████████████████████████</td></tr><tr><td>summary_val_acc</td><td>▁▆▇▇▆▆▇▇▇▇▇▇▇▇▇█████████████████████████</td></tr><tr><td>tr_acc</td><td>▁▄▆▆▆▆▆▇▇▇▇▇████████████████████████████</td></tr><tr><td>tr_epoch_loss</td><td>▁█▅▄▄▄▄▃▃▃▂▂▂▂▂▂▁▁▁▁▁▁▁▁▁▁▁▁▁▁▁▁▁▁▁▁▁▁▁▁</td></tr><tr><td>val_acc_best</td><td>▁▆▇▇▇▇▇▇▇▇▇▇▇███████████████████████████</td></tr><tr><td>val_acc_now</td><td>▁▆▇▇▆▆▇▇▇▇▇▇▇▇▇█████████████████████████</td></tr><tr><td>val_loss</td><td>▁▅▄▄▅▄▄▅▅▄▅▆▅▅▆▆▆▆▇▇▇▇▇▇████████████████</td></tr></table><br/></div><div class=\"wandb-col\"><h3>Run summary:</h3><br/><table class=\"wandb\"><tr><td>DFA_flag</td><td>0.0</td></tr><tr><td>epoch</td><td>59</td></tr><tr><td>iter_acc</td><td>1.0</td></tr><tr><td>tr_acc</td><td>1.0</td></tr><tr><td>tr_epoch_loss</td><td>0.00517</td></tr><tr><td>val_acc_best</td><td>0.8125</td></tr><tr><td>val_acc_now</td><td>0.8</td></tr><tr><td>val_loss</td><td>2.45738</td></tr></table><br/></div></div>"
      ],
      "text/plain": [
       "<IPython.core.display.HTML object>"
      ]
     },
     "metadata": {},
     "output_type": "display_data"
    },
    {
     "data": {
      "text/html": [
       " View run <strong style=\"color:#cdcd00\">splendid-sweep-23</strong> at: <a href='https://wandb.ai/bhkim003-seoul-national-university/my_snn%20main/runs/qf054px5' target=\"_blank\">https://wandb.ai/bhkim003-seoul-national-university/my_snn%20main/runs/qf054px5</a><br/> View project at: <a href='https://wandb.ai/bhkim003-seoul-national-university/my_snn%20main' target=\"_blank\">https://wandb.ai/bhkim003-seoul-national-university/my_snn%20main</a><br/>Synced 7 W&B file(s), 0 media file(s), 0 artifact file(s) and 1 other file(s)"
      ],
      "text/plain": [
       "<IPython.core.display.HTML object>"
      ]
     },
     "metadata": {},
     "output_type": "display_data"
    },
    {
     "data": {
      "text/html": [
       "Find logs at: <code>./wandb/run-20240821_154307-qf054px5/logs</code>"
      ],
      "text/plain": [
       "<IPython.core.display.HTML object>"
      ]
     },
     "metadata": {},
     "output_type": "display_data"
    },
    {
     "data": {
      "text/html": [
       "The new W&B backend becomes opt-out in version 0.18.0; try it out with `wandb.require(\"core\")`! See https://wandb.me/wandb-core for more information."
      ],
      "text/plain": [
       "<IPython.core.display.HTML object>"
      ]
     },
     "metadata": {},
     "output_type": "display_data"
    },
    {
     "name": "stderr",
     "output_type": "stream",
     "text": [
      "\u001b[34m\u001b[1mwandb\u001b[0m: Agent Starting Run: 82s64127 with config:\n",
      "\u001b[34m\u001b[1mwandb\u001b[0m: \tBATCH: 16\n",
      "\u001b[34m\u001b[1mwandb\u001b[0m: \tDFA_on: False\n",
      "\u001b[34m\u001b[1mwandb\u001b[0m: \tIMAGE_SIZE: 128\n",
      "\u001b[34m\u001b[1mwandb\u001b[0m: \tOTTT_input_trace_on: False\n",
      "\u001b[34m\u001b[1mwandb\u001b[0m: \tOTTT_sWS_on: False\n",
      "\u001b[34m\u001b[1mwandb\u001b[0m: \tTIME: 10\n",
      "\u001b[34m\u001b[1mwandb\u001b[0m: \tcfg: ['M', 'M', 200, 200]\n",
      "\u001b[34m\u001b[1mwandb\u001b[0m: \tconst2: False\n",
      "\u001b[34m\u001b[1mwandb\u001b[0m: \tdecay: 0.07904553170966606\n",
      "\u001b[34m\u001b[1mwandb\u001b[0m: \tdrop_rate: 0\n",
      "\u001b[34m\u001b[1mwandb\u001b[0m: \tdvs_clipping: 2\n",
      "\u001b[34m\u001b[1mwandb\u001b[0m: \tdvs_duration: 100000\n",
      "\u001b[34m\u001b[1mwandb\u001b[0m: \te_transport_swap: 0\n",
      "\u001b[34m\u001b[1mwandb\u001b[0m: \te_transport_swap_tr: 0\n",
      "\u001b[34m\u001b[1mwandb\u001b[0m: \tepoch_num: 60\n",
      "\u001b[34m\u001b[1mwandb\u001b[0m: \texclude_class: True\n",
      "\u001b[34m\u001b[1mwandb\u001b[0m: \tlearning_rate: 0.00936191669529645\n",
      "\u001b[34m\u001b[1mwandb\u001b[0m: \tmerge_polarities: False\n",
      "\u001b[34m\u001b[1mwandb\u001b[0m: \tsurrogate: hard_sigmoid\n",
      "\u001b[34m\u001b[1mwandb\u001b[0m: \twhich_data: DVS_GESTURE_TONIC\n",
      "Failed to detect the name of this notebook, you can set it manually with the WANDB_NOTEBOOK_NAME environment variable to enable code saving.\n"
     ]
    },
    {
     "data": {
      "text/html": [
       "wandb version 0.17.7 is available!  To upgrade, please run:\n",
       " $ pip install wandb --upgrade"
      ],
      "text/plain": [
       "<IPython.core.display.HTML object>"
      ]
     },
     "metadata": {},
     "output_type": "display_data"
    },
    {
     "data": {
      "text/html": [
       "Tracking run with wandb version 0.17.5"
      ],
      "text/plain": [
       "<IPython.core.display.HTML object>"
      ]
     },
     "metadata": {},
     "output_type": "display_data"
    },
    {
     "data": {
      "text/html": [
       "Run data is saved locally in <code>/nfs/home/bhkim003/github_folder/ByeonghyeonKim/my_snn/wandb/run-20240821_155152-82s64127</code>"
      ],
      "text/plain": [
       "<IPython.core.display.HTML object>"
      ]
     },
     "metadata": {},
     "output_type": "display_data"
    },
    {
     "data": {
      "text/html": [
       "Syncing run <strong><a href='https://wandb.ai/bhkim003-seoul-national-university/my_snn%20main/runs/82s64127' target=\"_blank\">floral-sweep-26</a></strong> to <a href='https://wandb.ai/bhkim003-seoul-national-university/my_snn%20main' target=\"_blank\">Weights & Biases</a> (<a href='https://wandb.me/run' target=\"_blank\">docs</a>)<br/>Sweep page: <a href='https://wandb.ai/bhkim003-seoul-national-university/my_snn%20main/sweeps/gqhgeaun' target=\"_blank\">https://wandb.ai/bhkim003-seoul-national-university/my_snn%20main/sweeps/gqhgeaun</a>"
      ],
      "text/plain": [
       "<IPython.core.display.HTML object>"
      ]
     },
     "metadata": {},
     "output_type": "display_data"
    },
    {
     "data": {
      "text/html": [
       " View project at <a href='https://wandb.ai/bhkim003-seoul-national-university/my_snn%20main' target=\"_blank\">https://wandb.ai/bhkim003-seoul-national-university/my_snn%20main</a>"
      ],
      "text/plain": [
       "<IPython.core.display.HTML object>"
      ]
     },
     "metadata": {},
     "output_type": "display_data"
    },
    {
     "data": {
      "text/html": [
       " View sweep at <a href='https://wandb.ai/bhkim003-seoul-national-university/my_snn%20main/sweeps/gqhgeaun' target=\"_blank\">https://wandb.ai/bhkim003-seoul-national-university/my_snn%20main/sweeps/gqhgeaun</a>"
      ],
      "text/plain": [
       "<IPython.core.display.HTML object>"
      ]
     },
     "metadata": {},
     "output_type": "display_data"
    },
    {
     "data": {
      "text/html": [
       " View run at <a href='https://wandb.ai/bhkim003-seoul-national-university/my_snn%20main/runs/82s64127' target=\"_blank\">https://wandb.ai/bhkim003-seoul-national-university/my_snn%20main/runs/82s64127</a>"
      ],
      "text/plain": [
       "<IPython.core.display.HTML object>"
      ]
     },
     "metadata": {},
     "output_type": "display_data"
    },
    {
     "name": "stderr",
     "output_type": "stream",
     "text": [
      "\u001b[34m\u001b[1mwandb\u001b[0m: \u001b[33mWARNING\u001b[0m Config item 'BATCH' was locked by 'sweep' (ignored update).\n",
      "\u001b[34m\u001b[1mwandb\u001b[0m: \u001b[33mWARNING\u001b[0m Config item 'IMAGE_SIZE' was locked by 'sweep' (ignored update).\n",
      "\u001b[34m\u001b[1mwandb\u001b[0m: \u001b[33mWARNING\u001b[0m Config item 'which_data' was locked by 'sweep' (ignored update).\n",
      "\u001b[34m\u001b[1mwandb\u001b[0m: \u001b[33mWARNING\u001b[0m Config item 'cfg' was locked by 'sweep' (ignored update).\n",
      "\u001b[34m\u001b[1mwandb\u001b[0m: \u001b[33mWARNING\u001b[0m Config item 'learning_rate' was locked by 'sweep' (ignored update).\n",
      "\u001b[34m\u001b[1mwandb\u001b[0m: \u001b[33mWARNING\u001b[0m Config item 'epoch_num' was locked by 'sweep' (ignored update).\n",
      "\u001b[34m\u001b[1mwandb\u001b[0m: \u001b[33mWARNING\u001b[0m Config item 'surrogate' was locked by 'sweep' (ignored update).\n",
      "\u001b[34m\u001b[1mwandb\u001b[0m: \u001b[33mWARNING\u001b[0m Config item 'dvs_clipping' was locked by 'sweep' (ignored update).\n",
      "\u001b[34m\u001b[1mwandb\u001b[0m: \u001b[33mWARNING\u001b[0m Config item 'dvs_duration' was locked by 'sweep' (ignored update).\n",
      "\u001b[34m\u001b[1mwandb\u001b[0m: \u001b[33mWARNING\u001b[0m Config item 'OTTT_sWS_on' was locked by 'sweep' (ignored update).\n",
      "\u001b[34m\u001b[1mwandb\u001b[0m: \u001b[33mWARNING\u001b[0m Config item 'DFA_on' was locked by 'sweep' (ignored update).\n",
      "\u001b[34m\u001b[1mwandb\u001b[0m: \u001b[33mWARNING\u001b[0m Config item 'OTTT_input_trace_on' was locked by 'sweep' (ignored update).\n",
      "\u001b[34m\u001b[1mwandb\u001b[0m: \u001b[33mWARNING\u001b[0m Config item 'e_transport_swap' was locked by 'sweep' (ignored update).\n",
      "\u001b[34m\u001b[1mwandb\u001b[0m: \u001b[33mWARNING\u001b[0m Config item 'e_transport_swap_tr' was locked by 'sweep' (ignored update).\n",
      "\u001b[34m\u001b[1mwandb\u001b[0m: \u001b[33mWARNING\u001b[0m Config item 'drop_rate' was locked by 'sweep' (ignored update).\n",
      "\u001b[34m\u001b[1mwandb\u001b[0m: \u001b[33mWARNING\u001b[0m Config item 'exclude_class' was locked by 'sweep' (ignored update).\n",
      "\u001b[34m\u001b[1mwandb\u001b[0m: \u001b[33mWARNING\u001b[0m Config item 'merge_polarities' was locked by 'sweep' (ignored update).\n",
      "\u001b[34m\u001b[1mwandb\u001b[0m: \u001b[33mWARNING\u001b[0m Config item 'TIME' was locked by 'sweep' (ignored update).\n"
     ]
    },
    {
     "name": "stdout",
     "output_type": "stream",
     "text": [
      "dataset_hash = 2bbd58b4e0d3c1e9ad501fad8a43feed\n",
      "cache path exists\n",
      "\n",
      "we will exclude the 'other' class. dvsgestrue 10 classes' indices exist. \n",
      "\n",
      "DataParallel(\n",
      "  (module): MY_SNN_FC_sstep(\n",
      "    (layers): MY_Sequential(\n",
      "      (0): MaxPool2d(kernel_size=2, stride=2, padding=0, dilation=1, ceil_mode=False)\n",
      "      (1): MaxPool2d(kernel_size=2, stride=2, padding=0, dilation=1, ceil_mode=False)\n",
      "      (2): DimChanger_for_FC_sstep()\n",
      "      (3): SYNAPSE_FC_trace_sstep()\n",
      "      (4): LIF_layer_trace_sstep()\n",
      "      (5): SYNAPSE_FC_trace_sstep()\n",
      "      (6): LIF_layer_trace_sstep()\n",
      "      (7): SYNAPSE_FC_trace_sstep()\n",
      "    )\n",
      "  )\n",
      ")\n",
      "==================================================\n",
      "My Num of PARAMS: 452,010, system's param_num : 452,010\n",
      "Memory: 1.72MiB at 32-bit\n",
      "==================================================\n"
     ]
    },
    {
     "name": "stderr",
     "output_type": "stream",
     "text": [
      "epoch-0   lr=['0.0093619'], tr/val_loss:  1.842116/  1.504129, tr:  37.18%, val:  55.00%, val_best:  55.00%: 100%|██████████| 62/62 [00:09<00:00,  6.67it/s]                                    \n",
      "epoch-1   lr=['0.0093555'], tr/val_loss:  1.168859/  1.292933, tr:  62.10%, val:  58.75%, val_best:  58.75%: 100%|██████████| 62/62 [00:08<00:00,  7.56it/s]                                    \n",
      "epoch-2   lr=['0.0093363'], tr/val_loss:  1.012504/  1.166335, tr:  65.68%, val:  63.75%, val_best:  63.75%: 100%|██████████| 62/62 [00:08<00:00,  7.32it/s]                                    \n",
      "epoch-3   lr=['0.0093043'], tr/val_loss:  0.915482/  1.140507, tr:  68.64%, val:  64.58%, val_best:  64.58%: 100%|██████████| 62/62 [00:05<00:00, 11.25it/s]                                    \n",
      "epoch-4   lr=['0.0092596'], tr/val_loss:  0.877901/  1.189494, tr:  69.77%, val:  64.17%, val_best:  64.58%: 100%|██████████| 62/62 [00:05<00:00, 10.78it/s]                                    \n",
      "epoch-5   lr=['0.0092024'], tr/val_loss:  0.840479/  1.281381, tr:  69.87%, val:  62.50%, val_best:  64.58%: 100%|██████████| 62/62 [00:05<00:00, 10.87it/s]                                    \n",
      "epoch-6   lr=['0.0091328'], tr/val_loss:  0.741117/  1.165008, tr:  74.26%, val:  62.50%, val_best:  64.58%: 100%|██████████| 62/62 [00:08<00:00,  6.90it/s]                                    \n",
      "epoch-7   lr=['0.0090510'], tr/val_loss:  0.688641/  1.260482, tr:  76.00%, val:  62.50%, val_best:  64.58%: 100%|██████████| 62/62 [00:08<00:00,  7.58it/s]                                    \n",
      "epoch-8   lr=['0.0089572'], tr/val_loss:  0.678309/  1.110138, tr:  76.51%, val:  65.42%, val_best:  65.42%: 100%|██████████| 62/62 [00:16<00:00,  3.75it/s]                                    \n",
      "epoch-9   lr=['0.0088517'], tr/val_loss:  0.522958/  1.295259, tr:  82.53%, val:  68.33%, val_best:  68.33%: 100%|██████████| 62/62 [00:11<00:00,  5.41it/s]                                    \n",
      "epoch-10  lr=['0.0087348'], tr/val_loss:  0.508522/  1.189067, tr:  84.17%, val:  70.00%, val_best:  70.00%: 100%|██████████| 62/62 [00:08<00:00,  6.94it/s]                                    \n",
      "epoch-11  lr=['0.0086067'], tr/val_loss:  0.489478/  1.222469, tr:  82.84%, val:  72.50%, val_best:  72.50%: 100%|██████████| 62/62 [00:08<00:00,  6.94it/s]                                    \n",
      "epoch-12  lr=['0.0084679'], tr/val_loss:  0.484416/  1.226486, tr:  83.76%, val:  75.00%, val_best:  75.00%: 100%|██████████| 62/62 [00:06<00:00,  9.70it/s]                                    \n",
      "epoch-13  lr=['0.0083187'], tr/val_loss:  0.414053/  1.234216, tr:  89.38%, val:  74.17%, val_best:  75.00%: 100%|██████████| 62/62 [00:05<00:00, 11.01it/s]                                    \n",
      "epoch-14  lr=['0.0081596'], tr/val_loss:  0.351784/  1.284742, tr:  91.22%, val:  75.42%, val_best:  75.42%: 100%|██████████| 62/62 [00:05<00:00, 10.63it/s]                                    \n",
      "epoch-15  lr=['0.0079909'], tr/val_loss:  0.330897/  1.307218, tr:  93.56%, val:  73.75%, val_best:  75.42%: 100%|██████████| 62/62 [00:07<00:00,  8.60it/s]                                    \n",
      "epoch-16  lr=['0.0078131'], tr/val_loss:  0.295870/  1.539794, tr:  93.36%, val:  72.08%, val_best:  75.42%: 100%|██████████| 62/62 [00:10<00:00,  5.74it/s]                                    \n",
      "epoch-17  lr=['0.0076268'], tr/val_loss:  0.260489/  1.453311, tr:  95.51%, val:  75.00%, val_best:  75.42%: 100%|██████████| 62/62 [00:09<00:00,  6.26it/s]                                    \n",
      "epoch-18  lr=['0.0074324'], tr/val_loss:  0.256057/  1.405168, tr:  95.51%, val:  75.83%, val_best:  75.83%: 100%|██████████| 62/62 [00:09<00:00,  6.62it/s]                                    \n",
      "epoch-19  lr=['0.0072304'], tr/val_loss:  0.203999/  1.494887, tr:  98.16%, val:  77.92%, val_best:  77.92%: 100%|██████████| 62/62 [00:08<00:00,  7.22it/s]                                    \n",
      "epoch-20  lr=['0.0070214'], tr/val_loss:  0.148955/  1.669891, tr:  99.18%, val:  77.50%, val_best:  77.92%: 100%|██████████| 62/62 [00:10<00:00,  6.05it/s]                                    \n",
      "epoch-21  lr=['0.0068061'], tr/val_loss:  0.116160/  1.771302, tr:  99.90%, val:  76.67%, val_best:  77.92%: 100%|██████████| 62/62 [2:13:47<00:00, 129.47s/it]                                        \n",
      "epoch-22  lr=['0.0065849'], tr/val_loss:  0.126251/  1.710299, tr:  98.26%, val:  79.58%, val_best:  79.58%: 100%|██████████| 62/62 [00:05<00:00, 11.02it/s]                                    \n",
      "epoch-23  lr=['0.0063585'], tr/val_loss:  0.134475/  1.716425, tr:  99.69%, val:  79.17%, val_best:  79.58%: 100%|██████████| 62/62 [00:05<00:00, 10.62it/s]                                    \n",
      "epoch-24  lr=['0.0061275'], tr/val_loss:  0.090800/  1.914558, tr: 100.00%, val:  75.42%, val_best:  79.58%: 100%|██████████| 62/62 [00:06<00:00,  9.50it/s]                                    \n",
      "epoch-25  lr=['0.0058925'], tr/val_loss:  0.078793/  1.852309, tr: 100.00%, val:  76.25%, val_best:  79.58%: 100%|██████████| 62/62 [00:05<00:00, 10.71it/s]                                    \n",
      "epoch-26  lr=['0.0056542'], tr/val_loss:  0.050942/  1.904986, tr: 100.00%, val:  80.42%, val_best:  80.42%: 100%|██████████| 62/62 [00:06<00:00, 10.10it/s]                                    \n",
      "epoch-27  lr=['0.0054132'], tr/val_loss:  0.042148/  1.983820, tr: 100.00%, val:  77.50%, val_best:  80.42%: 100%|██████████| 62/62 [00:06<00:00, 10.16it/s]                                    \n",
      "epoch-28  lr=['0.0051703'], tr/val_loss:  0.040128/  1.980945, tr: 100.00%, val:  77.08%, val_best:  80.42%: 100%|██████████| 62/62 [00:05<00:00, 10.43it/s]                                    \n",
      "epoch-29  lr=['0.0049259'], tr/val_loss:  0.040444/  2.002841, tr: 100.00%, val:  80.00%, val_best:  80.42%: 100%|██████████| 62/62 [00:05<00:00, 11.33it/s]                                    \n",
      "epoch-30  lr=['0.0046810'], tr/val_loss:  0.029415/  2.006444, tr: 100.00%, val:  78.75%, val_best:  80.42%: 100%|██████████| 62/62 [00:05<00:00, 11.56it/s]                                    \n",
      "epoch-31  lr=['0.0044360'], tr/val_loss:  0.025881/  2.093237, tr: 100.00%, val:  77.50%, val_best:  80.42%: 100%|██████████| 62/62 [00:05<00:00, 10.34it/s]                                    \n",
      "epoch-32  lr=['0.0041917'], tr/val_loss:  0.020553/  2.081984, tr: 100.00%, val:  79.58%, val_best:  80.42%: 100%|██████████| 62/62 [00:06<00:00,  9.93it/s]                                    \n",
      "epoch-33  lr=['0.0039487'], tr/val_loss:  0.017554/  2.133082, tr: 100.00%, val:  79.58%, val_best:  80.42%: 100%|██████████| 62/62 [00:06<00:00,  9.77it/s]                                    \n",
      "epoch-34  lr=['0.0037077'], tr/val_loss:  0.015944/  2.162824, tr: 100.00%, val:  79.58%, val_best:  80.42%: 100%|██████████| 62/62 [00:05<00:00, 11.31it/s]                                    \n",
      "epoch-35  lr=['0.0034694'], tr/val_loss:  0.013538/  2.189904, tr: 100.00%, val:  79.58%, val_best:  80.42%: 100%|██████████| 62/62 [00:05<00:00, 10.60it/s]                                    \n",
      "epoch-36  lr=['0.0032345'], tr/val_loss:  0.011287/  2.213381, tr: 100.00%, val:  79.17%, val_best:  80.42%: 100%|██████████| 62/62 [00:06<00:00,  9.74it/s]                                    \n",
      "epoch-37  lr=['0.0030035'], tr/val_loss:  0.009653/  2.219905, tr: 100.00%, val:  80.83%, val_best:  80.83%: 100%|██████████| 62/62 [00:05<00:00, 10.55it/s]                                    \n",
      "epoch-38  lr=['0.0027770'], tr/val_loss:  0.008372/  2.239878, tr: 100.00%, val:  79.58%, val_best:  80.83%: 100%|██████████| 62/62 [00:05<00:00, 11.01it/s]                                    \n",
      "epoch-39  lr=['0.0025558'], tr/val_loss:  0.008108/  2.271053, tr: 100.00%, val:  79.17%, val_best:  80.83%: 100%|██████████| 62/62 [00:05<00:00, 12.24it/s]                                    \n",
      "epoch-40  lr=['0.0023405'], tr/val_loss:  0.007069/  2.253914, tr: 100.00%, val:  78.75%, val_best:  80.83%: 100%|██████████| 62/62 [00:05<00:00, 12.40it/s]                                    \n",
      "epoch-41  lr=['0.0021315'], tr/val_loss:  0.007687/  2.259059, tr: 100.00%, val:  80.00%, val_best:  80.83%: 100%|██████████| 62/62 [00:05<00:00, 12.09it/s]                                    \n",
      "epoch-42  lr=['0.0019296'], tr/val_loss:  0.006479/  2.269094, tr: 100.00%, val:  80.00%, val_best:  80.83%: 100%|██████████| 62/62 [00:05<00:00, 12.15it/s]                                    \n",
      "epoch-43  lr=['0.0017351'], tr/val_loss:  0.006406/  2.278036, tr: 100.00%, val:  80.00%, val_best:  80.83%: 100%|██████████| 62/62 [00:05<00:00, 11.24it/s]                                    \n",
      "epoch-44  lr=['0.0015488'], tr/val_loss:  0.005715/  2.274181, tr: 100.00%, val:  80.42%, val_best:  80.83%: 100%|██████████| 62/62 [00:06<00:00, 10.21it/s]                                    \n",
      "epoch-45  lr=['0.0013710'], tr/val_loss:  0.005517/  2.284571, tr: 100.00%, val:  80.83%, val_best:  80.83%: 100%|██████████| 62/62 [00:06<00:00,  9.71it/s]                                    \n",
      "epoch-46  lr=['0.0012023'], tr/val_loss:  0.005270/  2.292351, tr: 100.00%, val:  79.58%, val_best:  80.83%: 100%|██████████| 62/62 [00:06<00:00, 10.06it/s]                                    \n",
      "epoch-47  lr=['0.0010432'], tr/val_loss:  0.005289/  2.296763, tr: 100.00%, val:  79.58%, val_best:  80.83%: 100%|██████████| 62/62 [00:05<00:00, 10.97it/s]                                    \n",
      "epoch-48  lr=['0.0008940'], tr/val_loss:  0.005143/  2.313907, tr: 100.00%, val:  79.58%, val_best:  80.83%: 100%|██████████| 62/62 [00:06<00:00, 10.14it/s]                                    \n",
      "epoch-49  lr=['0.0007552'], tr/val_loss:  0.004896/  2.312304, tr: 100.00%, val:  79.58%, val_best:  80.83%: 100%|██████████| 62/62 [00:05<00:00, 11.21it/s]                                    \n",
      "epoch-50  lr=['0.0006271'], tr/val_loss:  0.005042/  2.313014, tr: 100.00%, val:  80.00%, val_best:  80.83%: 100%|██████████| 62/62 [00:05<00:00, 11.17it/s]                                    \n",
      "epoch-51  lr=['0.0005102'], tr/val_loss:  0.004899/  2.313388, tr: 100.00%, val:  80.42%, val_best:  80.83%: 100%|██████████| 62/62 [00:05<00:00, 10.90it/s]                                    \n",
      "epoch-52  lr=['0.0004047'], tr/val_loss:  0.004853/  2.317308, tr: 100.00%, val:  80.42%, val_best:  80.83%: 100%|██████████| 62/62 [00:06<00:00,  9.55it/s]                                    \n",
      "epoch-53  lr=['0.0003109'], tr/val_loss:  0.004679/  2.321883, tr: 100.00%, val:  80.00%, val_best:  80.83%: 100%|██████████| 62/62 [00:05<00:00, 10.82it/s]                                    \n",
      "epoch-54  lr=['0.0002291'], tr/val_loss:  0.004741/  2.322090, tr: 100.00%, val:  80.00%, val_best:  80.83%: 100%|██████████| 62/62 [00:06<00:00, 10.08it/s]                                    \n",
      "epoch-55  lr=['0.0001595'], tr/val_loss:  0.004634/  2.326666, tr: 100.00%, val:  80.00%, val_best:  80.83%: 100%|██████████| 62/62 [00:06<00:00,  9.82it/s]                                    \n",
      "epoch-56  lr=['0.0001023'], tr/val_loss:  0.004575/  2.327838, tr: 100.00%, val:  80.00%, val_best:  80.83%: 100%|██████████| 62/62 [00:05<00:00, 11.80it/s]                                    \n",
      "epoch-57  lr=['0.0000576'], tr/val_loss:  0.004486/  2.324682, tr: 100.00%, val:  80.00%, val_best:  80.83%: 100%|██████████| 62/62 [00:05<00:00, 11.48it/s]                                    \n",
      "epoch-58  lr=['0.0000256'], tr/val_loss:  0.004473/  2.325015, tr: 100.00%, val:  80.00%, val_best:  80.83%: 100%|██████████| 62/62 [00:05<00:00, 10.60it/s]                                    \n",
      "epoch-59  lr=['0.0000064'], tr/val_loss:  0.004516/  2.325028, tr: 100.00%, val:  80.00%, val_best:  80.83%: 100%|██████████| 62/62 [00:05<00:00, 10.64it/s]                                    \n"
     ]
    },
    {
     "data": {
      "application/vnd.jupyter.widget-view+json": {
       "model_id": "a15f27769574414ab70a9f37f753c0a0",
       "version_major": 2,
       "version_minor": 0
      },
      "text/plain": [
       "VBox(children=(Label(value='4.943 MB of 4.943 MB uploaded\\r'), FloatProgress(value=1.0, max=1.0)))"
      ]
     },
     "metadata": {},
     "output_type": "display_data"
    },
    {
     "data": {
      "text/html": [
       "<style>\n",
       "    table.wandb td:nth-child(1) { padding: 0 10px; text-align: left ; width: auto;} td:nth-child(2) {text-align: left ; width: 100%}\n",
       "    .wandb-row { display: flex; flex-direction: row; flex-wrap: wrap; justify-content: flex-start; width: 100% }\n",
       "    .wandb-col { display: flex; flex-direction: column; flex-basis: 100%; flex: 1; padding: 10px; }\n",
       "    </style>\n",
       "<div class=\"wandb-row\"><div class=\"wandb-col\"><h3>Run history:</h3><br/><table class=\"wandb\"><tr><td>DFA_flag</td><td>▁▁▁▁▁▁▁▁▁▁▁▁▁▁▁▁▁▁▁▁▁▁▁▁▁▁▁▁▁▁▁▁▁▁▁▁▁▁▁▁</td></tr><tr><td>epoch</td><td>▁▁▁▁▂▂▂▂▂▃▃▃▃▃▃▄▄▄▄▄▅▅▅▅▅▆▆▆▆▆▆▇▇▇▇▇████</td></tr><tr><td>iter_acc</td><td>▁▅▆▆▅▅▅▇▆▆█▇▇███████████████████████████</td></tr><tr><td>summary_val_acc</td><td>▁▆▇▇▆▆▇▇▇▇█▇▇███████████████████████████</td></tr><tr><td>tr_acc</td><td>▁▄▆▆▆▆▆▇▇▇▇█████████████████████████████</td></tr><tr><td>tr_epoch_loss</td><td>▁█▅▄▄▄▄▃▃▃▂▂▂▂▂▁▂▁▁▁▁▁▁▁▁▁▁▁▁▁▁▁▁▁▁▁▁▁▁▁</td></tr><tr><td>val_acc_best</td><td>▁▆▇▇▇▇▇▇▇▇██████████████████████████████</td></tr><tr><td>val_acc_now</td><td>▁▆▇▇▆▆▇▇▇▇█▇▇███████████████████████████</td></tr><tr><td>val_loss</td><td>▁▆▅▄▅▅▄▅▅▅▅▆▅▅▆▆▆▇▇▇▇▇▇█████████████████</td></tr></table><br/></div><div class=\"wandb-col\"><h3>Run summary:</h3><br/><table class=\"wandb\"><tr><td>DFA_flag</td><td>0.0</td></tr><tr><td>epoch</td><td>59</td></tr><tr><td>iter_acc</td><td>1.0</td></tr><tr><td>tr_acc</td><td>1.0</td></tr><tr><td>tr_epoch_loss</td><td>0.00452</td></tr><tr><td>val_acc_best</td><td>0.80833</td></tr><tr><td>val_acc_now</td><td>0.8</td></tr><tr><td>val_loss</td><td>2.32503</td></tr></table><br/></div></div>"
      ],
      "text/plain": [
       "<IPython.core.display.HTML object>"
      ]
     },
     "metadata": {},
     "output_type": "display_data"
    },
    {
     "data": {
      "text/html": [
       " View run <strong style=\"color:#cdcd00\">floral-sweep-26</strong> at: <a href='https://wandb.ai/bhkim003-seoul-national-university/my_snn%20main/runs/82s64127' target=\"_blank\">https://wandb.ai/bhkim003-seoul-national-university/my_snn%20main/runs/82s64127</a><br/> View project at: <a href='https://wandb.ai/bhkim003-seoul-national-university/my_snn%20main' target=\"_blank\">https://wandb.ai/bhkim003-seoul-national-university/my_snn%20main</a><br/>Synced 7 W&B file(s), 0 media file(s), 0 artifact file(s) and 1 other file(s)"
      ],
      "text/plain": [
       "<IPython.core.display.HTML object>"
      ]
     },
     "metadata": {},
     "output_type": "display_data"
    },
    {
     "data": {
      "text/html": [
       "Find logs at: <code>./wandb/run-20240821_155152-82s64127/logs</code>"
      ],
      "text/plain": [
       "<IPython.core.display.HTML object>"
      ]
     },
     "metadata": {},
     "output_type": "display_data"
    },
    {
     "data": {
      "text/html": [
       "The new W&B backend becomes opt-out in version 0.18.0; try it out with `wandb.require(\"core\")`! See https://wandb.me/wandb-core for more information."
      ],
      "text/plain": [
       "<IPython.core.display.HTML object>"
      ]
     },
     "metadata": {},
     "output_type": "display_data"
    },
    {
     "name": "stderr",
     "output_type": "stream",
     "text": [
      "\u001b[34m\u001b[1mwandb\u001b[0m: Agent Starting Run: gnmf9tip with config:\n",
      "\u001b[34m\u001b[1mwandb\u001b[0m: \tBATCH: 16\n",
      "\u001b[34m\u001b[1mwandb\u001b[0m: \tDFA_on: False\n",
      "\u001b[34m\u001b[1mwandb\u001b[0m: \tIMAGE_SIZE: 128\n",
      "\u001b[34m\u001b[1mwandb\u001b[0m: \tOTTT_input_trace_on: False\n",
      "\u001b[34m\u001b[1mwandb\u001b[0m: \tOTTT_sWS_on: False\n",
      "\u001b[34m\u001b[1mwandb\u001b[0m: \tTIME: 10\n",
      "\u001b[34m\u001b[1mwandb\u001b[0m: \tcfg: ['M', 'M', 200, 200]\n",
      "\u001b[34m\u001b[1mwandb\u001b[0m: \tconst2: False\n",
      "\u001b[34m\u001b[1mwandb\u001b[0m: \tdecay: 0.15956257173059188\n",
      "\u001b[34m\u001b[1mwandb\u001b[0m: \tdrop_rate: 0\n",
      "\u001b[34m\u001b[1mwandb\u001b[0m: \tdvs_clipping: 2\n",
      "\u001b[34m\u001b[1mwandb\u001b[0m: \tdvs_duration: 100000\n",
      "\u001b[34m\u001b[1mwandb\u001b[0m: \te_transport_swap: 0\n",
      "\u001b[34m\u001b[1mwandb\u001b[0m: \te_transport_swap_tr: 0\n",
      "\u001b[34m\u001b[1mwandb\u001b[0m: \tepoch_num: 60\n",
      "\u001b[34m\u001b[1mwandb\u001b[0m: \texclude_class: True\n",
      "\u001b[34m\u001b[1mwandb\u001b[0m: \tlearning_rate: 0.00936191669529645\n",
      "\u001b[34m\u001b[1mwandb\u001b[0m: \tmerge_polarities: False\n",
      "\u001b[34m\u001b[1mwandb\u001b[0m: \tsurrogate: hard_sigmoid\n",
      "\u001b[34m\u001b[1mwandb\u001b[0m: \twhich_data: DVS_GESTURE_TONIC\n",
      "Failed to detect the name of this notebook, you can set it manually with the WANDB_NOTEBOOK_NAME environment variable to enable code saving.\n"
     ]
    },
    {
     "data": {
      "text/html": [
       "wandb version 0.17.7 is available!  To upgrade, please run:\n",
       " $ pip install wandb --upgrade"
      ],
      "text/plain": [
       "<IPython.core.display.HTML object>"
      ]
     },
     "metadata": {},
     "output_type": "display_data"
    },
    {
     "data": {
      "text/html": [
       "Tracking run with wandb version 0.17.5"
      ],
      "text/plain": [
       "<IPython.core.display.HTML object>"
      ]
     },
     "metadata": {},
     "output_type": "display_data"
    },
    {
     "data": {
      "text/html": [
       "Run data is saved locally in <code>/nfs/home/bhkim003/github_folder/ByeonghyeonKim/my_snn/wandb/run-20240821_181249-gnmf9tip</code>"
      ],
      "text/plain": [
       "<IPython.core.display.HTML object>"
      ]
     },
     "metadata": {},
     "output_type": "display_data"
    },
    {
     "data": {
      "text/html": [
       "Syncing run <strong><a href='https://wandb.ai/bhkim003-seoul-national-university/my_snn%20main/runs/gnmf9tip' target=\"_blank\">grateful-sweep-61</a></strong> to <a href='https://wandb.ai/bhkim003-seoul-national-university/my_snn%20main' target=\"_blank\">Weights & Biases</a> (<a href='https://wandb.me/run' target=\"_blank\">docs</a>)<br/>Sweep page: <a href='https://wandb.ai/bhkim003-seoul-national-university/my_snn%20main/sweeps/gqhgeaun' target=\"_blank\">https://wandb.ai/bhkim003-seoul-national-university/my_snn%20main/sweeps/gqhgeaun</a>"
      ],
      "text/plain": [
       "<IPython.core.display.HTML object>"
      ]
     },
     "metadata": {},
     "output_type": "display_data"
    },
    {
     "data": {
      "text/html": [
       " View project at <a href='https://wandb.ai/bhkim003-seoul-national-university/my_snn%20main' target=\"_blank\">https://wandb.ai/bhkim003-seoul-national-university/my_snn%20main</a>"
      ],
      "text/plain": [
       "<IPython.core.display.HTML object>"
      ]
     },
     "metadata": {},
     "output_type": "display_data"
    },
    {
     "data": {
      "text/html": [
       " View sweep at <a href='https://wandb.ai/bhkim003-seoul-national-university/my_snn%20main/sweeps/gqhgeaun' target=\"_blank\">https://wandb.ai/bhkim003-seoul-national-university/my_snn%20main/sweeps/gqhgeaun</a>"
      ],
      "text/plain": [
       "<IPython.core.display.HTML object>"
      ]
     },
     "metadata": {},
     "output_type": "display_data"
    },
    {
     "data": {
      "text/html": [
       " View run at <a href='https://wandb.ai/bhkim003-seoul-national-university/my_snn%20main/runs/gnmf9tip' target=\"_blank\">https://wandb.ai/bhkim003-seoul-national-university/my_snn%20main/runs/gnmf9tip</a>"
      ],
      "text/plain": [
       "<IPython.core.display.HTML object>"
      ]
     },
     "metadata": {},
     "output_type": "display_data"
    },
    {
     "name": "stderr",
     "output_type": "stream",
     "text": [
      "\u001b[34m\u001b[1mwandb\u001b[0m: \u001b[33mWARNING\u001b[0m Config item 'BATCH' was locked by 'sweep' (ignored update).\n",
      "\u001b[34m\u001b[1mwandb\u001b[0m: \u001b[33mWARNING\u001b[0m Config item 'IMAGE_SIZE' was locked by 'sweep' (ignored update).\n",
      "\u001b[34m\u001b[1mwandb\u001b[0m: \u001b[33mWARNING\u001b[0m Config item 'which_data' was locked by 'sweep' (ignored update).\n",
      "\u001b[34m\u001b[1mwandb\u001b[0m: \u001b[33mWARNING\u001b[0m Config item 'cfg' was locked by 'sweep' (ignored update).\n",
      "\u001b[34m\u001b[1mwandb\u001b[0m: \u001b[33mWARNING\u001b[0m Config item 'learning_rate' was locked by 'sweep' (ignored update).\n",
      "\u001b[34m\u001b[1mwandb\u001b[0m: \u001b[33mWARNING\u001b[0m Config item 'epoch_num' was locked by 'sweep' (ignored update).\n",
      "\u001b[34m\u001b[1mwandb\u001b[0m: \u001b[33mWARNING\u001b[0m Config item 'surrogate' was locked by 'sweep' (ignored update).\n",
      "\u001b[34m\u001b[1mwandb\u001b[0m: \u001b[33mWARNING\u001b[0m Config item 'dvs_clipping' was locked by 'sweep' (ignored update).\n",
      "\u001b[34m\u001b[1mwandb\u001b[0m: \u001b[33mWARNING\u001b[0m Config item 'dvs_duration' was locked by 'sweep' (ignored update).\n",
      "\u001b[34m\u001b[1mwandb\u001b[0m: \u001b[33mWARNING\u001b[0m Config item 'OTTT_sWS_on' was locked by 'sweep' (ignored update).\n",
      "\u001b[34m\u001b[1mwandb\u001b[0m: \u001b[33mWARNING\u001b[0m Config item 'DFA_on' was locked by 'sweep' (ignored update).\n",
      "\u001b[34m\u001b[1mwandb\u001b[0m: \u001b[33mWARNING\u001b[0m Config item 'OTTT_input_trace_on' was locked by 'sweep' (ignored update).\n",
      "\u001b[34m\u001b[1mwandb\u001b[0m: \u001b[33mWARNING\u001b[0m Config item 'e_transport_swap' was locked by 'sweep' (ignored update).\n",
      "\u001b[34m\u001b[1mwandb\u001b[0m: \u001b[33mWARNING\u001b[0m Config item 'e_transport_swap_tr' was locked by 'sweep' (ignored update).\n",
      "\u001b[34m\u001b[1mwandb\u001b[0m: \u001b[33mWARNING\u001b[0m Config item 'drop_rate' was locked by 'sweep' (ignored update).\n",
      "\u001b[34m\u001b[1mwandb\u001b[0m: \u001b[33mWARNING\u001b[0m Config item 'exclude_class' was locked by 'sweep' (ignored update).\n",
      "\u001b[34m\u001b[1mwandb\u001b[0m: \u001b[33mWARNING\u001b[0m Config item 'merge_polarities' was locked by 'sweep' (ignored update).\n",
      "\u001b[34m\u001b[1mwandb\u001b[0m: \u001b[33mWARNING\u001b[0m Config item 'TIME' was locked by 'sweep' (ignored update).\n"
     ]
    },
    {
     "name": "stdout",
     "output_type": "stream",
     "text": [
      "dataset_hash = 2bbd58b4e0d3c1e9ad501fad8a43feed\n",
      "cache path exists\n",
      "\n",
      "we will exclude the 'other' class. dvsgestrue 10 classes' indices exist. \n",
      "\n",
      "DataParallel(\n",
      "  (module): MY_SNN_FC_sstep(\n",
      "    (layers): MY_Sequential(\n",
      "      (0): MaxPool2d(kernel_size=2, stride=2, padding=0, dilation=1, ceil_mode=False)\n",
      "      (1): MaxPool2d(kernel_size=2, stride=2, padding=0, dilation=1, ceil_mode=False)\n",
      "      (2): DimChanger_for_FC_sstep()\n",
      "      (3): SYNAPSE_FC_trace_sstep()\n",
      "      (4): LIF_layer_trace_sstep()\n",
      "      (5): SYNAPSE_FC_trace_sstep()\n",
      "      (6): LIF_layer_trace_sstep()\n",
      "      (7): SYNAPSE_FC_trace_sstep()\n",
      "    )\n",
      "  )\n",
      ")\n",
      "==================================================\n",
      "My Num of PARAMS: 452,010, system's param_num : 452,010\n",
      "Memory: 1.72MiB at 32-bit\n",
      "==================================================\n"
     ]
    },
    {
     "name": "stderr",
     "output_type": "stream",
     "text": [
      "epoch-0   lr=['0.0093619'], tr/val_loss:  1.822709/  1.488951, tr:  37.28%, val:  55.00%, val_best:  55.00%: 100%|██████████| 62/62 [00:05<00:00, 10.90it/s]                                    \n",
      "epoch-1   lr=['0.0093555'], tr/val_loss:  1.150683/  1.294113, tr:  63.02%, val:  58.75%, val_best:  58.75%: 100%|██████████| 62/62 [00:05<00:00, 11.47it/s]                                    \n",
      "epoch-2   lr=['0.0093363'], tr/val_loss:  0.995719/  1.143146, tr:  65.68%, val:  62.92%, val_best:  62.92%: 100%|██████████| 62/62 [00:05<00:00, 12.15it/s]                                    \n",
      "epoch-3   lr=['0.0093043'], tr/val_loss:  0.901442/  1.143391, tr:  68.85%, val:  64.17%, val_best:  64.17%: 100%|██████████| 62/62 [00:05<00:00, 12.01it/s]                                    \n",
      "epoch-4   lr=['0.0092596'], tr/val_loss:  0.867377/  1.191634, tr:  69.77%, val:  64.17%, val_best:  64.17%: 100%|██████████| 62/62 [00:05<00:00, 12.28it/s]                                    \n",
      "epoch-5   lr=['0.0092024'], tr/val_loss:  0.825132/  1.282224, tr:  69.25%, val:  63.33%, val_best:  64.17%: 100%|██████████| 62/62 [00:05<00:00, 11.15it/s]                                    \n",
      "epoch-6   lr=['0.0091328'], tr/val_loss:  0.714631/  1.188790, tr:  74.36%, val:  63.33%, val_best:  64.17%: 100%|██████████| 62/62 [00:06<00:00,  9.58it/s]                                    \n",
      "epoch-7   lr=['0.0090510'], tr/val_loss:  0.684346/  1.305953, tr:  75.18%, val:  60.42%, val_best:  64.17%: 100%|██████████| 62/62 [00:05<00:00, 10.57it/s]                                    \n",
      "epoch-8   lr=['0.0089572'], tr/val_loss:  0.681509/  1.102583, tr:  76.40%, val:  67.50%, val_best:  67.50%: 100%|██████████| 62/62 [00:05<00:00, 11.78it/s]                                    \n",
      "epoch-9   lr=['0.0088517'], tr/val_loss:  0.502539/  1.274377, tr:  83.15%, val:  68.33%, val_best:  68.33%: 100%|██████████| 62/62 [00:06<00:00, 10.14it/s]                                    \n",
      "epoch-10  lr=['0.0087348'], tr/val_loss:  0.492100/  1.216077, tr:  84.98%, val:  67.50%, val_best:  68.33%: 100%|██████████| 62/62 [00:05<00:00, 10.53it/s]                                    \n",
      "epoch-11  lr=['0.0086067'], tr/val_loss:  0.460416/  1.239167, tr:  83.66%, val:  73.33%, val_best:  73.33%: 100%|██████████| 62/62 [00:05<00:00, 11.40it/s]                                    \n",
      "epoch-12  lr=['0.0084679'], tr/val_loss:  0.450615/  1.256298, tr:  85.60%, val:  73.33%, val_best:  73.33%: 100%|██████████| 62/62 [00:06<00:00,  9.68it/s]                                    \n",
      "epoch-13  lr=['0.0083187'], tr/val_loss:  0.397611/  1.288960, tr:  89.89%, val:  71.25%, val_best:  73.33%: 100%|██████████| 62/62 [00:06<00:00, 10.28it/s]                                    \n",
      "epoch-14  lr=['0.0081596'], tr/val_loss:  0.325351/  1.276590, tr:  92.44%, val:  73.75%, val_best:  73.75%: 100%|██████████| 62/62 [00:05<00:00, 10.66it/s]                                    \n",
      "epoch-15  lr=['0.0079909'], tr/val_loss:  0.307149/  1.340590, tr:  93.67%, val:  77.08%, val_best:  77.08%: 100%|██████████| 62/62 [00:05<00:00, 10.49it/s]                                    \n",
      "epoch-16  lr=['0.0078131'], tr/val_loss:  0.270210/  1.598932, tr:  94.18%, val:  72.92%, val_best:  77.08%: 100%|██████████| 62/62 [00:05<00:00, 10.56it/s]                                    \n",
      "epoch-17  lr=['0.0076268'], tr/val_loss:  0.260292/  1.432094, tr:  95.30%, val:  74.17%, val_best:  77.08%: 100%|██████████| 62/62 [00:06<00:00, 10.16it/s]                                    \n",
      "epoch-18  lr=['0.0074324'], tr/val_loss:  0.237153/  1.384150, tr:  95.30%, val:  79.17%, val_best:  79.17%: 100%|██████████| 62/62 [00:05<00:00, 10.79it/s]                                    \n",
      "epoch-19  lr=['0.0072304'], tr/val_loss:  0.195524/  1.489195, tr:  97.14%, val:  78.33%, val_best:  79.17%: 100%|██████████| 62/62 [00:05<00:00, 10.84it/s]                                    \n",
      "epoch-20  lr=['0.0070214'], tr/val_loss:  0.145910/  1.644158, tr:  99.28%, val:  75.83%, val_best:  79.17%: 100%|██████████| 62/62 [00:05<00:00, 10.74it/s]                                    \n",
      "epoch-21  lr=['0.0068061'], tr/val_loss:  0.112937/  1.711794, tr:  99.90%, val:  77.92%, val_best:  79.17%: 100%|██████████| 62/62 [00:05<00:00, 11.19it/s]                                    \n",
      "epoch-22  lr=['0.0065849'], tr/val_loss:  0.113562/  1.686209, tr:  98.57%, val:  77.50%, val_best:  79.17%: 100%|██████████| 62/62 [00:06<00:00, 10.04it/s]                                    \n",
      "epoch-23  lr=['0.0063585'], tr/val_loss:  0.094985/  1.695343, tr:  99.69%, val:  78.33%, val_best:  79.17%: 100%|██████████| 62/62 [00:05<00:00, 10.85it/s]                                    \n",
      "epoch-24  lr=['0.0061275'], tr/val_loss:  0.063385/  1.814815, tr: 100.00%, val:  77.50%, val_best:  79.17%: 100%|██████████| 62/62 [00:05<00:00, 10.80it/s]                                    \n",
      "epoch-25  lr=['0.0058925'], tr/val_loss:  0.056950/  1.817134, tr: 100.00%, val:  78.33%, val_best:  79.17%: 100%|██████████| 62/62 [00:06<00:00,  9.71it/s]                                    \n",
      "epoch-26  lr=['0.0056542'], tr/val_loss:  0.040379/  1.830772, tr: 100.00%, val:  80.83%, val_best:  80.83%: 100%|██████████| 62/62 [00:05<00:00, 10.80it/s]                                    \n",
      "epoch-27  lr=['0.0054132'], tr/val_loss:  0.035652/  1.886406, tr: 100.00%, val:  79.58%, val_best:  80.83%: 100%|██████████| 62/62 [00:05<00:00, 10.61it/s]                                    \n",
      "epoch-28  lr=['0.0051703'], tr/val_loss:  0.038502/  1.941063, tr: 100.00%, val:  79.58%, val_best:  80.83%: 100%|██████████| 62/62 [00:05<00:00, 10.73it/s]                                    \n",
      "epoch-29  lr=['0.0049259'], tr/val_loss:  0.032672/  1.950359, tr: 100.00%, val:  80.42%, val_best:  80.83%: 100%|██████████| 62/62 [00:05<00:00, 10.88it/s]                                    \n",
      "epoch-30  lr=['0.0046810'], tr/val_loss:  0.024073/  2.008008, tr: 100.00%, val:  80.83%, val_best:  80.83%: 100%|██████████| 62/62 [00:06<00:00, 10.33it/s]                                    \n",
      "epoch-31  lr=['0.0044360'], tr/val_loss:  0.022023/  1.984745, tr: 100.00%, val:  80.42%, val_best:  80.83%: 100%|██████████| 62/62 [00:05<00:00, 10.43it/s]                                    \n",
      "epoch-32  lr=['0.0041917'], tr/val_loss:  0.019560/  2.006117, tr: 100.00%, val:  81.25%, val_best:  81.25%: 100%|██████████| 62/62 [00:05<00:00, 10.39it/s]                                    \n",
      "epoch-33  lr=['0.0039487'], tr/val_loss:  0.013552/  2.066322, tr: 100.00%, val:  80.83%, val_best:  81.25%: 100%|██████████| 62/62 [00:05<00:00, 11.28it/s]                                    \n",
      "epoch-34  lr=['0.0037077'], tr/val_loss:  0.012096/  2.061826, tr: 100.00%, val:  80.42%, val_best:  81.25%: 100%|██████████| 62/62 [00:05<00:00, 10.59it/s]                                    \n",
      "epoch-35  lr=['0.0034694'], tr/val_loss:  0.010997/  2.084693, tr: 100.00%, val:  80.00%, val_best:  81.25%: 100%|██████████| 62/62 [00:06<00:00, 10.08it/s]                                    \n",
      "epoch-36  lr=['0.0032345'], tr/val_loss:  0.009445/  2.091461, tr: 100.00%, val:  80.42%, val_best:  81.25%: 100%|██████████| 62/62 [00:05<00:00, 11.53it/s]                                    \n",
      "epoch-37  lr=['0.0030035'], tr/val_loss:  0.009070/  2.111361, tr: 100.00%, val:  80.83%, val_best:  81.25%: 100%|██████████| 62/62 [00:05<00:00, 10.42it/s]                                    \n",
      "epoch-38  lr=['0.0027770'], tr/val_loss:  0.007629/  2.125912, tr: 100.00%, val:  80.42%, val_best:  81.25%: 100%|██████████| 62/62 [00:06<00:00,  9.90it/s]                                    \n",
      "epoch-39  lr=['0.0025558'], tr/val_loss:  0.007463/  2.134750, tr: 100.00%, val:  80.00%, val_best:  81.25%: 100%|██████████| 62/62 [00:06<00:00, 10.29it/s]                                    \n",
      "epoch-40  lr=['0.0023405'], tr/val_loss:  0.007244/  2.147803, tr: 100.00%, val:  80.42%, val_best:  81.25%: 100%|██████████| 62/62 [00:05<00:00, 10.74it/s]                                    \n",
      "epoch-41  lr=['0.0021315'], tr/val_loss:  0.006441/  2.140245, tr: 100.00%, val:  80.42%, val_best:  81.25%: 100%|██████████| 62/62 [00:06<00:00, 10.19it/s]                                    \n",
      "epoch-42  lr=['0.0019296'], tr/val_loss:  0.005815/  2.143407, tr: 100.00%, val:  79.58%, val_best:  81.25%: 100%|██████████| 62/62 [00:05<00:00, 11.56it/s]                                    \n",
      "epoch-43  lr=['0.0017351'], tr/val_loss:  0.005752/  2.147055, tr: 100.00%, val:  80.42%, val_best:  81.25%: 100%|██████████| 62/62 [00:05<00:00, 11.00it/s]                                    \n",
      "epoch-44  lr=['0.0015488'], tr/val_loss:  0.005660/  2.169261, tr: 100.00%, val:  80.00%, val_best:  81.25%: 100%|██████████| 62/62 [00:05<00:00, 11.38it/s]                                    \n",
      "epoch-45  lr=['0.0013710'], tr/val_loss:  0.005409/  2.166209, tr: 100.00%, val:  80.42%, val_best:  81.25%: 100%|██████████| 62/62 [00:05<00:00, 11.73it/s]                                    \n",
      "epoch-46  lr=['0.0012023'], tr/val_loss:  0.005086/  2.176708, tr: 100.00%, val:  79.58%, val_best:  81.25%: 100%|██████████| 62/62 [00:05<00:00, 10.45it/s]                                    \n",
      "epoch-47  lr=['0.0010432'], tr/val_loss:  0.005145/  2.184717, tr: 100.00%, val:  79.58%, val_best:  81.25%: 100%|██████████| 62/62 [00:05<00:00, 10.61it/s]                                    \n",
      "epoch-48  lr=['0.0008940'], tr/val_loss:  0.005110/  2.187852, tr: 100.00%, val:  79.58%, val_best:  81.25%: 100%|██████████| 62/62 [00:05<00:00, 11.12it/s]                                    \n",
      "epoch-49  lr=['0.0007552'], tr/val_loss:  0.004734/  2.187432, tr: 100.00%, val:  80.83%, val_best:  81.25%: 100%|██████████| 62/62 [00:05<00:00, 10.74it/s]                                    \n",
      "epoch-50  lr=['0.0006271'], tr/val_loss:  0.004892/  2.195172, tr: 100.00%, val:  80.42%, val_best:  81.25%: 100%|██████████| 62/62 [00:05<00:00, 10.54it/s]                                    \n",
      "epoch-51  lr=['0.0005102'], tr/val_loss:  0.004721/  2.194037, tr: 100.00%, val:  80.42%, val_best:  81.25%: 100%|██████████| 62/62 [00:05<00:00, 11.65it/s]                                    \n",
      "epoch-52  lr=['0.0004047'], tr/val_loss:  0.004648/  2.188950, tr: 100.00%, val:  80.42%, val_best:  81.25%: 100%|██████████| 62/62 [00:05<00:00, 10.63it/s]                                    \n",
      "epoch-53  lr=['0.0003109'], tr/val_loss:  0.004599/  2.192814, tr: 100.00%, val:  80.42%, val_best:  81.25%: 100%|██████████| 62/62 [00:05<00:00, 10.80it/s]                                    \n",
      "epoch-54  lr=['0.0002291'], tr/val_loss:  0.004654/  2.195167, tr: 100.00%, val:  80.42%, val_best:  81.25%: 100%|██████████| 62/62 [00:05<00:00, 11.43it/s]                                    \n",
      "epoch-55  lr=['0.0001595'], tr/val_loss:  0.004478/  2.194421, tr: 100.00%, val:  80.42%, val_best:  81.25%: 100%|██████████| 62/62 [00:05<00:00, 10.51it/s]                                    \n",
      "epoch-56  lr=['0.0001023'], tr/val_loss:  0.004517/  2.195795, tr: 100.00%, val:  80.42%, val_best:  81.25%: 100%|██████████| 62/62 [00:05<00:00, 11.18it/s]                                    \n",
      "epoch-57  lr=['0.0000576'], tr/val_loss:  0.004556/  2.193299, tr: 100.00%, val:  80.42%, val_best:  81.25%: 100%|██████████| 62/62 [00:06<00:00,  9.99it/s]                                    \n",
      "epoch-58  lr=['0.0000256'], tr/val_loss:  0.004525/  2.195075, tr: 100.00%, val:  80.42%, val_best:  81.25%: 100%|██████████| 62/62 [00:06<00:00,  8.92it/s]                                    \n",
      "epoch-59  lr=['0.0000064'], tr/val_loss:  0.004696/  2.194995, tr: 100.00%, val:  80.42%, val_best:  81.25%: 100%|██████████| 62/62 [00:06<00:00, 10.04it/s]                                    \n"
     ]
    },
    {
     "data": {
      "application/vnd.jupyter.widget-view+json": {
       "model_id": "5b59ff236c0c497ca5d9b22bbba5bdb2",
       "version_major": 2,
       "version_minor": 0
      },
      "text/plain": [
       "VBox(children=(Label(value='4.956 MB of 4.956 MB uploaded\\r'), FloatProgress(value=1.0, max=1.0)))"
      ]
     },
     "metadata": {},
     "output_type": "display_data"
    },
    {
     "data": {
      "text/html": [
       "<style>\n",
       "    table.wandb td:nth-child(1) { padding: 0 10px; text-align: left ; width: auto;} td:nth-child(2) {text-align: left ; width: 100%}\n",
       "    .wandb-row { display: flex; flex-direction: row; flex-wrap: wrap; justify-content: flex-start; width: 100% }\n",
       "    .wandb-col { display: flex; flex-direction: column; flex-basis: 100%; flex: 1; padding: 10px; }\n",
       "    </style>\n",
       "<div class=\"wandb-row\"><div class=\"wandb-col\"><h3>Run history:</h3><br/><table class=\"wandb\"><tr><td>DFA_flag</td><td>▁▁▁▁▁▁▁▁▁▁▁▁▁▁▁▁▁▁▁▁▁▁▁▁▁▁▁▁▁▁▁▁▁▁▁▁▁▁▁▁</td></tr><tr><td>epoch</td><td>▁▁▁▁▂▂▂▂▂▃▃▃▃▃▃▄▄▄▄▄▅▅▅▅▅▆▆▆▆▆▆▇▇▇▇▇████</td></tr><tr><td>iter_acc</td><td>▁▅▆▅▅▅▅▇▆▇█▇▇███████████████████████████</td></tr><tr><td>summary_val_acc</td><td>▁▆▆▇▆▆▇▇▇▇▇▇▇███████████████████████████</td></tr><tr><td>tr_acc</td><td>▁▄▆▆▆▆▆▇▇▇▇█████████████████████████████</td></tr><tr><td>tr_epoch_loss</td><td>▁█▅▄▄▄▄▃▃▃▂▂▂▂▂▁▁▁▁▁▁▁▁▁▁▁▁▁▁▁▁▁▁▁▁▁▁▁▁▁</td></tr><tr><td>val_acc_best</td><td>▁▆▆▇▇▇▇▇▇▇▇█████████████████████████████</td></tr><tr><td>val_acc_now</td><td>▁▆▆▇▆▆▇▇▇▇▇▇▇███████████████████████████</td></tr><tr><td>val_loss</td><td>▁▆▅▅▅▅▅▅▅▅▅▆▆▆▆▆▆▇▇▇▇▇▇█████████████████</td></tr></table><br/></div><div class=\"wandb-col\"><h3>Run summary:</h3><br/><table class=\"wandb\"><tr><td>DFA_flag</td><td>0.0</td></tr><tr><td>epoch</td><td>59</td></tr><tr><td>iter_acc</td><td>1.0</td></tr><tr><td>tr_acc</td><td>1.0</td></tr><tr><td>tr_epoch_loss</td><td>0.0047</td></tr><tr><td>val_acc_best</td><td>0.8125</td></tr><tr><td>val_acc_now</td><td>0.80417</td></tr><tr><td>val_loss</td><td>2.19499</td></tr></table><br/></div></div>"
      ],
      "text/plain": [
       "<IPython.core.display.HTML object>"
      ]
     },
     "metadata": {},
     "output_type": "display_data"
    },
    {
     "data": {
      "text/html": [
       " View run <strong style=\"color:#cdcd00\">grateful-sweep-61</strong> at: <a href='https://wandb.ai/bhkim003-seoul-national-university/my_snn%20main/runs/gnmf9tip' target=\"_blank\">https://wandb.ai/bhkim003-seoul-national-university/my_snn%20main/runs/gnmf9tip</a><br/> View project at: <a href='https://wandb.ai/bhkim003-seoul-national-university/my_snn%20main' target=\"_blank\">https://wandb.ai/bhkim003-seoul-national-university/my_snn%20main</a><br/>Synced 7 W&B file(s), 0 media file(s), 0 artifact file(s) and 1 other file(s)"
      ],
      "text/plain": [
       "<IPython.core.display.HTML object>"
      ]
     },
     "metadata": {},
     "output_type": "display_data"
    },
    {
     "data": {
      "text/html": [
       "Find logs at: <code>./wandb/run-20240821_181249-gnmf9tip/logs</code>"
      ],
      "text/plain": [
       "<IPython.core.display.HTML object>"
      ]
     },
     "metadata": {},
     "output_type": "display_data"
    },
    {
     "data": {
      "text/html": [
       "The new W&B backend becomes opt-out in version 0.18.0; try it out with `wandb.require(\"core\")`! See https://wandb.me/wandb-core for more information."
      ],
      "text/plain": [
       "<IPython.core.display.HTML object>"
      ]
     },
     "metadata": {},
     "output_type": "display_data"
    },
    {
     "name": "stderr",
     "output_type": "stream",
     "text": [
      "\u001b[34m\u001b[1mwandb\u001b[0m: Agent Starting Run: v69chf93 with config:\n",
      "\u001b[34m\u001b[1mwandb\u001b[0m: \tBATCH: 16\n",
      "\u001b[34m\u001b[1mwandb\u001b[0m: \tDFA_on: False\n",
      "\u001b[34m\u001b[1mwandb\u001b[0m: \tIMAGE_SIZE: 128\n",
      "\u001b[34m\u001b[1mwandb\u001b[0m: \tOTTT_input_trace_on: False\n",
      "\u001b[34m\u001b[1mwandb\u001b[0m: \tOTTT_sWS_on: False\n",
      "\u001b[34m\u001b[1mwandb\u001b[0m: \tTIME: 10\n",
      "\u001b[34m\u001b[1mwandb\u001b[0m: \tcfg: ['M', 'M', 200, 200]\n",
      "\u001b[34m\u001b[1mwandb\u001b[0m: \tconst2: False\n",
      "\u001b[34m\u001b[1mwandb\u001b[0m: \tdecay: 0.2181705854360615\n",
      "\u001b[34m\u001b[1mwandb\u001b[0m: \tdrop_rate: 0\n",
      "\u001b[34m\u001b[1mwandb\u001b[0m: \tdvs_clipping: 2\n",
      "\u001b[34m\u001b[1mwandb\u001b[0m: \tdvs_duration: 100000\n",
      "\u001b[34m\u001b[1mwandb\u001b[0m: \te_transport_swap: 0\n",
      "\u001b[34m\u001b[1mwandb\u001b[0m: \te_transport_swap_tr: 0\n",
      "\u001b[34m\u001b[1mwandb\u001b[0m: \tepoch_num: 60\n",
      "\u001b[34m\u001b[1mwandb\u001b[0m: \texclude_class: True\n",
      "\u001b[34m\u001b[1mwandb\u001b[0m: \tlearning_rate: 0.00936191669529645\n",
      "\u001b[34m\u001b[1mwandb\u001b[0m: \tmerge_polarities: False\n",
      "\u001b[34m\u001b[1mwandb\u001b[0m: \tsurrogate: hard_sigmoid\n",
      "\u001b[34m\u001b[1mwandb\u001b[0m: \twhich_data: DVS_GESTURE_TONIC\n",
      "Failed to detect the name of this notebook, you can set it manually with the WANDB_NOTEBOOK_NAME environment variable to enable code saving.\n"
     ]
    },
    {
     "data": {
      "text/html": [
       "wandb version 0.17.7 is available!  To upgrade, please run:\n",
       " $ pip install wandb --upgrade"
      ],
      "text/plain": [
       "<IPython.core.display.HTML object>"
      ]
     },
     "metadata": {},
     "output_type": "display_data"
    },
    {
     "data": {
      "text/html": [
       "Tracking run with wandb version 0.17.5"
      ],
      "text/plain": [
       "<IPython.core.display.HTML object>"
      ]
     },
     "metadata": {},
     "output_type": "display_data"
    },
    {
     "data": {
      "text/html": [
       "Run data is saved locally in <code>/nfs/home/bhkim003/github_folder/ByeonghyeonKim/my_snn/wandb/run-20240821_181906-v69chf93</code>"
      ],
      "text/plain": [
       "<IPython.core.display.HTML object>"
      ]
     },
     "metadata": {},
     "output_type": "display_data"
    },
    {
     "data": {
      "text/html": [
       "Syncing run <strong><a href='https://wandb.ai/bhkim003-seoul-national-university/my_snn%20main/runs/v69chf93' target=\"_blank\">splendid-sweep-64</a></strong> to <a href='https://wandb.ai/bhkim003-seoul-national-university/my_snn%20main' target=\"_blank\">Weights & Biases</a> (<a href='https://wandb.me/run' target=\"_blank\">docs</a>)<br/>Sweep page: <a href='https://wandb.ai/bhkim003-seoul-national-university/my_snn%20main/sweeps/gqhgeaun' target=\"_blank\">https://wandb.ai/bhkim003-seoul-national-university/my_snn%20main/sweeps/gqhgeaun</a>"
      ],
      "text/plain": [
       "<IPython.core.display.HTML object>"
      ]
     },
     "metadata": {},
     "output_type": "display_data"
    },
    {
     "data": {
      "text/html": [
       " View project at <a href='https://wandb.ai/bhkim003-seoul-national-university/my_snn%20main' target=\"_blank\">https://wandb.ai/bhkim003-seoul-national-university/my_snn%20main</a>"
      ],
      "text/plain": [
       "<IPython.core.display.HTML object>"
      ]
     },
     "metadata": {},
     "output_type": "display_data"
    },
    {
     "data": {
      "text/html": [
       " View sweep at <a href='https://wandb.ai/bhkim003-seoul-national-university/my_snn%20main/sweeps/gqhgeaun' target=\"_blank\">https://wandb.ai/bhkim003-seoul-national-university/my_snn%20main/sweeps/gqhgeaun</a>"
      ],
      "text/plain": [
       "<IPython.core.display.HTML object>"
      ]
     },
     "metadata": {},
     "output_type": "display_data"
    },
    {
     "data": {
      "text/html": [
       " View run at <a href='https://wandb.ai/bhkim003-seoul-national-university/my_snn%20main/runs/v69chf93' target=\"_blank\">https://wandb.ai/bhkim003-seoul-national-university/my_snn%20main/runs/v69chf93</a>"
      ],
      "text/plain": [
       "<IPython.core.display.HTML object>"
      ]
     },
     "metadata": {},
     "output_type": "display_data"
    },
    {
     "name": "stderr",
     "output_type": "stream",
     "text": [
      "\u001b[34m\u001b[1mwandb\u001b[0m: \u001b[33mWARNING\u001b[0m Config item 'BATCH' was locked by 'sweep' (ignored update).\n",
      "\u001b[34m\u001b[1mwandb\u001b[0m: \u001b[33mWARNING\u001b[0m Config item 'IMAGE_SIZE' was locked by 'sweep' (ignored update).\n",
      "\u001b[34m\u001b[1mwandb\u001b[0m: \u001b[33mWARNING\u001b[0m Config item 'which_data' was locked by 'sweep' (ignored update).\n",
      "\u001b[34m\u001b[1mwandb\u001b[0m: \u001b[33mWARNING\u001b[0m Config item 'cfg' was locked by 'sweep' (ignored update).\n",
      "\u001b[34m\u001b[1mwandb\u001b[0m: \u001b[33mWARNING\u001b[0m Config item 'learning_rate' was locked by 'sweep' (ignored update).\n",
      "\u001b[34m\u001b[1mwandb\u001b[0m: \u001b[33mWARNING\u001b[0m Config item 'epoch_num' was locked by 'sweep' (ignored update).\n",
      "\u001b[34m\u001b[1mwandb\u001b[0m: \u001b[33mWARNING\u001b[0m Config item 'surrogate' was locked by 'sweep' (ignored update).\n",
      "\u001b[34m\u001b[1mwandb\u001b[0m: \u001b[33mWARNING\u001b[0m Config item 'dvs_clipping' was locked by 'sweep' (ignored update).\n",
      "\u001b[34m\u001b[1mwandb\u001b[0m: \u001b[33mWARNING\u001b[0m Config item 'dvs_duration' was locked by 'sweep' (ignored update).\n",
      "\u001b[34m\u001b[1mwandb\u001b[0m: \u001b[33mWARNING\u001b[0m Config item 'OTTT_sWS_on' was locked by 'sweep' (ignored update).\n",
      "\u001b[34m\u001b[1mwandb\u001b[0m: \u001b[33mWARNING\u001b[0m Config item 'DFA_on' was locked by 'sweep' (ignored update).\n",
      "\u001b[34m\u001b[1mwandb\u001b[0m: \u001b[33mWARNING\u001b[0m Config item 'OTTT_input_trace_on' was locked by 'sweep' (ignored update).\n",
      "\u001b[34m\u001b[1mwandb\u001b[0m: \u001b[33mWARNING\u001b[0m Config item 'e_transport_swap' was locked by 'sweep' (ignored update).\n",
      "\u001b[34m\u001b[1mwandb\u001b[0m: \u001b[33mWARNING\u001b[0m Config item 'e_transport_swap_tr' was locked by 'sweep' (ignored update).\n",
      "\u001b[34m\u001b[1mwandb\u001b[0m: \u001b[33mWARNING\u001b[0m Config item 'drop_rate' was locked by 'sweep' (ignored update).\n",
      "\u001b[34m\u001b[1mwandb\u001b[0m: \u001b[33mWARNING\u001b[0m Config item 'exclude_class' was locked by 'sweep' (ignored update).\n",
      "\u001b[34m\u001b[1mwandb\u001b[0m: \u001b[33mWARNING\u001b[0m Config item 'merge_polarities' was locked by 'sweep' (ignored update).\n",
      "\u001b[34m\u001b[1mwandb\u001b[0m: \u001b[33mWARNING\u001b[0m Config item 'TIME' was locked by 'sweep' (ignored update).\n"
     ]
    },
    {
     "name": "stdout",
     "output_type": "stream",
     "text": [
      "dataset_hash = 2bbd58b4e0d3c1e9ad501fad8a43feed\n",
      "cache path exists\n",
      "\n",
      "we will exclude the 'other' class. dvsgestrue 10 classes' indices exist. \n",
      "\n",
      "DataParallel(\n",
      "  (module): MY_SNN_FC_sstep(\n",
      "    (layers): MY_Sequential(\n",
      "      (0): MaxPool2d(kernel_size=2, stride=2, padding=0, dilation=1, ceil_mode=False)\n",
      "      (1): MaxPool2d(kernel_size=2, stride=2, padding=0, dilation=1, ceil_mode=False)\n",
      "      (2): DimChanger_for_FC_sstep()\n",
      "      (3): SYNAPSE_FC_trace_sstep()\n",
      "      (4): LIF_layer_trace_sstep()\n",
      "      (5): SYNAPSE_FC_trace_sstep()\n",
      "      (6): LIF_layer_trace_sstep()\n",
      "      (7): SYNAPSE_FC_trace_sstep()\n",
      "    )\n",
      "  )\n",
      ")\n",
      "==================================================\n",
      "My Num of PARAMS: 452,010, system's param_num : 452,010\n",
      "Memory: 1.72MiB at 32-bit\n",
      "==================================================\n"
     ]
    },
    {
     "name": "stderr",
     "output_type": "stream",
     "text": [
      "epoch-0   lr=['0.0093619'], tr/val_loss:  1.805878/  1.469516, tr:  37.28%, val:  55.00%, val_best:  55.00%: 100%|██████████| 62/62 [00:06<00:00, 10.06it/s]                                    \n",
      "epoch-1   lr=['0.0093555'], tr/val_loss:  1.145248/  1.288323, tr:  63.23%, val:  59.58%, val_best:  59.58%: 100%|██████████| 62/62 [00:05<00:00, 11.47it/s]                                    \n",
      "epoch-2   lr=['0.0093363'], tr/val_loss:  0.995541/  1.158167, tr:  65.37%, val:  64.17%, val_best:  64.17%: 100%|██████████| 62/62 [00:04<00:00, 12.57it/s]                                    \n",
      "epoch-3   lr=['0.0093043'], tr/val_loss:  0.892187/  1.118340, tr:  68.95%, val:  63.75%, val_best:  64.17%: 100%|██████████| 62/62 [00:05<00:00, 11.95it/s]                                    \n",
      "epoch-4   lr=['0.0092596'], tr/val_loss:  0.837334/  1.188606, tr:  70.79%, val:  63.33%, val_best:  64.17%: 100%|██████████| 62/62 [00:04<00:00, 12.61it/s]                                    \n",
      "epoch-5   lr=['0.0092024'], tr/val_loss:  0.809716/  1.290980, tr:  70.07%, val:  60.83%, val_best:  64.17%: 100%|██████████| 62/62 [00:06<00:00,  9.89it/s]                                    \n",
      "epoch-6   lr=['0.0091328'], tr/val_loss:  0.697884/  1.199862, tr:  74.97%, val:  62.50%, val_best:  64.17%: 100%|██████████| 62/62 [00:05<00:00, 10.63it/s]                                    \n",
      "epoch-7   lr=['0.0090510'], tr/val_loss:  0.663021/  1.242038, tr:  76.30%, val:  61.25%, val_best:  64.17%: 100%|██████████| 62/62 [00:05<00:00, 10.93it/s]                                    \n",
      "epoch-8   lr=['0.0089572'], tr/val_loss:  0.638822/  1.133223, tr:  77.32%, val:  66.67%, val_best:  66.67%: 100%|██████████| 62/62 [00:05<00:00, 10.49it/s]                                    \n",
      "epoch-9   lr=['0.0088517'], tr/val_loss:  0.481147/  1.250615, tr:  82.43%, val:  70.83%, val_best:  70.83%: 100%|██████████| 62/62 [00:06<00:00,  9.70it/s]                                    \n",
      "epoch-10  lr=['0.0087348'], tr/val_loss:  0.480531/  1.222370, tr:  84.68%, val:  68.33%, val_best:  70.83%: 100%|██████████| 62/62 [00:06<00:00, 10.32it/s]                                    \n",
      "epoch-11  lr=['0.0086067'], tr/val_loss:  0.452682/  1.283334, tr:  84.98%, val:  72.08%, val_best:  72.08%: 100%|██████████| 62/62 [00:06<00:00, 10.01it/s]                                    \n",
      "epoch-12  lr=['0.0084679'], tr/val_loss:  0.466022/  1.208007, tr:  84.98%, val:  74.17%, val_best:  74.17%: 100%|██████████| 62/62 [00:05<00:00, 11.51it/s]                                    \n",
      "epoch-13  lr=['0.0083187'], tr/val_loss:  0.387250/  1.361724, tr:  90.70%, val:  70.00%, val_best:  74.17%: 100%|██████████| 62/62 [00:05<00:00, 11.15it/s]                                    \n",
      "epoch-14  lr=['0.0081596'], tr/val_loss:  0.323568/  1.291602, tr:  92.95%, val:  73.33%, val_best:  74.17%: 100%|██████████| 62/62 [00:06<00:00, 10.27it/s]                                    \n",
      "epoch-15  lr=['0.0079909'], tr/val_loss:  0.315859/  1.364263, tr:  92.44%, val:  78.75%, val_best:  78.75%: 100%|██████████| 62/62 [00:05<00:00, 10.75it/s]                                    \n",
      "epoch-16  lr=['0.0078131'], tr/val_loss:  0.263856/  1.468302, tr:  95.10%, val:  75.83%, val_best:  78.75%: 100%|██████████| 62/62 [00:05<00:00, 10.49it/s]                                    \n",
      "epoch-17  lr=['0.0076268'], tr/val_loss:  0.242509/  1.397315, tr:  95.71%, val:  72.08%, val_best:  78.75%: 100%|██████████| 62/62 [00:06<00:00, 10.32it/s]                                    \n",
      "epoch-18  lr=['0.0074324'], tr/val_loss:  0.273087/  1.344104, tr:  92.85%, val:  78.75%, val_best:  78.75%: 100%|██████████| 62/62 [00:05<00:00, 11.18it/s]                                    \n",
      "epoch-19  lr=['0.0072304'], tr/val_loss:  0.184440/  1.460911, tr:  98.57%, val:  77.92%, val_best:  78.75%: 100%|██████████| 62/62 [00:05<00:00, 11.02it/s]                                    \n",
      "epoch-20  lr=['0.0070214'], tr/val_loss:  0.144692/  1.564891, tr:  98.98%, val:  79.17%, val_best:  79.17%: 100%|██████████| 62/62 [00:05<00:00, 10.73it/s]                                    \n",
      "epoch-21  lr=['0.0068061'], tr/val_loss:  0.104424/  1.646866, tr: 100.00%, val:  76.25%, val_best:  79.17%: 100%|██████████| 62/62 [00:05<00:00, 10.36it/s]                                    \n",
      "epoch-22  lr=['0.0065849'], tr/val_loss:  0.108707/  1.631306, tr:  98.88%, val:  78.75%, val_best:  79.17%: 100%|██████████| 62/62 [00:05<00:00, 10.54it/s]                                    \n",
      "epoch-23  lr=['0.0063585'], tr/val_loss:  0.104256/  1.682621, tr:  99.69%, val:  79.17%, val_best:  79.17%: 100%|██████████| 62/62 [00:05<00:00, 10.34it/s]                                    \n",
      "epoch-24  lr=['0.0061275'], tr/val_loss:  0.072740/  1.800287, tr:  99.90%, val:  76.67%, val_best:  79.17%: 100%|██████████| 62/62 [00:05<00:00, 10.36it/s]                                    \n",
      "epoch-25  lr=['0.0058925'], tr/val_loss:  0.064224/  1.774900, tr:  99.90%, val:  79.17%, val_best:  79.17%: 100%|██████████| 62/62 [00:05<00:00, 10.37it/s]                                    \n",
      "epoch-26  lr=['0.0056542'], tr/val_loss:  0.050119/  1.769373, tr: 100.00%, val:  80.83%, val_best:  80.83%: 100%|██████████| 62/62 [00:05<00:00, 11.13it/s]                                    \n",
      "epoch-27  lr=['0.0054132'], tr/val_loss:  0.044729/  1.829451, tr: 100.00%, val:  82.08%, val_best:  82.08%: 100%|██████████| 62/62 [00:05<00:00, 10.42it/s]                                    \n",
      "epoch-28  lr=['0.0051703'], tr/val_loss:  0.035255/  1.844884, tr: 100.00%, val:  79.17%, val_best:  82.08%: 100%|██████████| 62/62 [00:05<00:00, 11.08it/s]                                    \n",
      "epoch-29  lr=['0.0049259'], tr/val_loss:  0.033568/  1.888233, tr: 100.00%, val:  82.08%, val_best:  82.08%: 100%|██████████| 62/62 [00:06<00:00, 10.12it/s]                                    \n",
      "epoch-30  lr=['0.0046810'], tr/val_loss:  0.033262/  1.881711, tr: 100.00%, val:  80.42%, val_best:  82.08%: 100%|██████████| 62/62 [00:05<00:00, 10.41it/s]                                    \n",
      "epoch-31  lr=['0.0044360'], tr/val_loss:  0.023764/  1.917613, tr: 100.00%, val:  80.42%, val_best:  82.08%: 100%|██████████| 62/62 [00:06<00:00, 10.21it/s]                                    \n",
      "epoch-32  lr=['0.0041917'], tr/val_loss:  0.018064/  1.956027, tr: 100.00%, val:  79.58%, val_best:  82.08%: 100%|██████████| 62/62 [00:05<00:00, 11.59it/s]                                    \n",
      "epoch-33  lr=['0.0039487'], tr/val_loss:  0.013465/  1.965704, tr: 100.00%, val:  79.58%, val_best:  82.08%: 100%|██████████| 62/62 [00:05<00:00, 10.70it/s]                                    \n",
      "epoch-34  lr=['0.0037077'], tr/val_loss:  0.012725/  1.979864, tr: 100.00%, val:  81.67%, val_best:  82.08%: 100%|██████████| 62/62 [00:06<00:00,  9.96it/s]                                    \n",
      "epoch-35  lr=['0.0034694'], tr/val_loss:  0.011323/  2.005493, tr: 100.00%, val:  82.08%, val_best:  82.08%: 100%|██████████| 62/62 [00:05<00:00, 11.12it/s]                                    \n",
      "epoch-36  lr=['0.0032345'], tr/val_loss:  0.010187/  1.999980, tr: 100.00%, val:  81.67%, val_best:  82.08%: 100%|██████████| 62/62 [00:06<00:00,  9.79it/s]                                    \n",
      "epoch-37  lr=['0.0030035'], tr/val_loss:  0.009063/  2.012486, tr: 100.00%, val:  81.67%, val_best:  82.08%: 100%|██████████| 62/62 [00:05<00:00, 10.45it/s]                                    \n",
      "epoch-38  lr=['0.0027770'], tr/val_loss:  0.008211/  2.044747, tr: 100.00%, val:  82.50%, val_best:  82.50%: 100%|██████████| 62/62 [00:06<00:00, 10.28it/s]                                    \n",
      "epoch-39  lr=['0.0025558'], tr/val_loss:  0.007578/  2.039439, tr: 100.00%, val:  81.25%, val_best:  82.50%: 100%|██████████| 62/62 [00:05<00:00, 10.69it/s]                                    \n",
      "epoch-40  lr=['0.0023405'], tr/val_loss:  0.006644/  2.065414, tr: 100.00%, val:  81.25%, val_best:  82.50%: 100%|██████████| 62/62 [00:05<00:00, 10.43it/s]                                    \n",
      "epoch-41  lr=['0.0021315'], tr/val_loss:  0.006027/  2.070087, tr: 100.00%, val:  81.67%, val_best:  82.50%: 100%|██████████| 62/62 [00:05<00:00, 10.98it/s]                                    \n",
      "epoch-42  lr=['0.0019296'], tr/val_loss:  0.005414/  2.063615, tr: 100.00%, val:  81.25%, val_best:  82.50%: 100%|██████████| 62/62 [00:05<00:00, 10.73it/s]                                    \n",
      "epoch-43  lr=['0.0017351'], tr/val_loss:  0.005326/  2.080906, tr: 100.00%, val:  81.67%, val_best:  82.50%: 100%|██████████| 62/62 [00:05<00:00, 12.20it/s]                                    \n",
      "epoch-44  lr=['0.0015488'], tr/val_loss:  0.005253/  2.092540, tr: 100.00%, val:  81.25%, val_best:  82.50%: 100%|██████████| 62/62 [00:05<00:00, 11.91it/s]                                    \n",
      "epoch-45  lr=['0.0013710'], tr/val_loss:  0.004813/  2.095272, tr: 100.00%, val:  80.83%, val_best:  82.50%: 100%|██████████| 62/62 [00:05<00:00, 12.20it/s]                                    \n",
      "epoch-46  lr=['0.0012023'], tr/val_loss:  0.004820/  2.094726, tr: 100.00%, val:  80.83%, val_best:  82.50%: 100%|██████████| 62/62 [00:05<00:00, 11.86it/s]                                    \n",
      "epoch-47  lr=['0.0010432'], tr/val_loss:  0.004850/  2.092252, tr: 100.00%, val:  81.25%, val_best:  82.50%: 100%|██████████| 62/62 [00:06<00:00, 10.14it/s]                                    \n",
      "epoch-48  lr=['0.0008940'], tr/val_loss:  0.004566/  2.106650, tr: 100.00%, val:  80.83%, val_best:  82.50%: 100%|██████████| 62/62 [00:05<00:00, 11.32it/s]                                    \n",
      "epoch-49  lr=['0.0007552'], tr/val_loss:  0.004340/  2.114610, tr: 100.00%, val:  80.42%, val_best:  82.50%: 100%|██████████| 62/62 [00:05<00:00, 11.18it/s]                                    \n",
      "epoch-50  lr=['0.0006271'], tr/val_loss:  0.004416/  2.113489, tr: 100.00%, val:  80.83%, val_best:  82.50%: 100%|██████████| 62/62 [00:05<00:00, 11.37it/s]                                    \n",
      "epoch-51  lr=['0.0005102'], tr/val_loss:  0.004256/  2.114573, tr: 100.00%, val:  80.83%, val_best:  82.50%: 100%|██████████| 62/62 [00:05<00:00, 11.42it/s]                                    \n",
      "epoch-52  lr=['0.0004047'], tr/val_loss:  0.004206/  2.117210, tr: 100.00%, val:  80.83%, val_best:  82.50%: 100%|██████████| 62/62 [00:05<00:00, 11.69it/s]                                    \n",
      "epoch-53  lr=['0.0003109'], tr/val_loss:  0.004239/  2.118109, tr: 100.00%, val:  80.83%, val_best:  82.50%: 100%|██████████| 62/62 [00:05<00:00, 12.29it/s]                                    \n",
      "epoch-54  lr=['0.0002291'], tr/val_loss:  0.004251/  2.114739, tr: 100.00%, val:  81.25%, val_best:  82.50%: 100%|██████████| 62/62 [00:05<00:00, 11.77it/s]                                    \n",
      "epoch-55  lr=['0.0001595'], tr/val_loss:  0.004055/  2.118068, tr: 100.00%, val:  81.25%, val_best:  82.50%: 100%|██████████| 62/62 [00:04<00:00, 12.41it/s]                                    \n",
      "epoch-56  lr=['0.0001023'], tr/val_loss:  0.003996/  2.117695, tr: 100.00%, val:  81.67%, val_best:  82.50%: 100%|██████████| 62/62 [00:05<00:00, 12.28it/s]                                    \n",
      "epoch-57  lr=['0.0000576'], tr/val_loss:  0.003986/  2.118403, tr: 100.00%, val:  81.67%, val_best:  82.50%: 100%|██████████| 62/62 [00:05<00:00, 11.81it/s]                                    \n",
      "epoch-58  lr=['0.0000256'], tr/val_loss:  0.003927/  2.118453, tr: 100.00%, val:  81.67%, val_best:  82.50%: 100%|██████████| 62/62 [00:05<00:00, 11.80it/s]                                    \n",
      "epoch-59  lr=['0.0000064'], tr/val_loss:  0.004059/  2.118463, tr: 100.00%, val:  81.67%, val_best:  82.50%: 100%|██████████| 62/62 [00:05<00:00, 12.10it/s]                                    \n"
     ]
    },
    {
     "data": {
      "application/vnd.jupyter.widget-view+json": {
       "model_id": "2c3102ac112b4c87a969ffb8703c40fc",
       "version_major": 2,
       "version_minor": 0
      },
      "text/plain": [
       "VBox(children=(Label(value='4.956 MB of 4.956 MB uploaded\\r'), FloatProgress(value=1.0, max=1.0)))"
      ]
     },
     "metadata": {},
     "output_type": "display_data"
    },
    {
     "data": {
      "text/html": [
       "<style>\n",
       "    table.wandb td:nth-child(1) { padding: 0 10px; text-align: left ; width: auto;} td:nth-child(2) {text-align: left ; width: 100%}\n",
       "    .wandb-row { display: flex; flex-direction: row; flex-wrap: wrap; justify-content: flex-start; width: 100% }\n",
       "    .wandb-col { display: flex; flex-direction: column; flex-basis: 100%; flex: 1; padding: 10px; }\n",
       "    </style>\n",
       "<div class=\"wandb-row\"><div class=\"wandb-col\"><h3>Run history:</h3><br/><table class=\"wandb\"><tr><td>DFA_flag</td><td>▁▁▁▁▁▁▁▁▁▁▁▁▁▁▁▁▁▁▁▁▁▁▁▁▁▁▁▁▁▁▁▁▁▁▁▁▁▁▁▁</td></tr><tr><td>epoch</td><td>▁▁▁▁▂▂▂▂▂▃▃▃▃▃▃▄▄▄▄▄▅▅▅▅▅▆▆▆▆▆▆▇▇▇▇▇████</td></tr><tr><td>iter_acc</td><td>▁▅▆▅▆▅▅▇▆▇█▇▇███████████████████████████</td></tr><tr><td>summary_val_acc</td><td>▁▆▆▆▆▆▇▇▇▇▇▇▇███████████████████████████</td></tr><tr><td>tr_acc</td><td>▁▄▆▆▆▆▆▇▇▇██████████████████████████████</td></tr><tr><td>tr_epoch_loss</td><td>▁█▅▄▄▄▃▃▃▃▂▂▂▂▂▁▁▁▁▁▁▁▁▁▁▁▁▁▁▁▁▁▁▁▁▁▁▁▁▁</td></tr><tr><td>val_acc_best</td><td>▁▆▆▆▆▆▇▇▇▇▇█████████████████████████████</td></tr><tr><td>val_acc_now</td><td>▁▆▆▆▆▆▇▇▇▇▇▇▇███████████████████████████</td></tr><tr><td>val_loss</td><td>▁▆▅▅▅▅▅▅▅▅▅▆▆▆▆▆▇▇▇▇▇▇▇█████████████████</td></tr></table><br/></div><div class=\"wandb-col\"><h3>Run summary:</h3><br/><table class=\"wandb\"><tr><td>DFA_flag</td><td>0.0</td></tr><tr><td>epoch</td><td>59</td></tr><tr><td>iter_acc</td><td>1.0</td></tr><tr><td>tr_acc</td><td>1.0</td></tr><tr><td>tr_epoch_loss</td><td>0.00406</td></tr><tr><td>val_acc_best</td><td>0.825</td></tr><tr><td>val_acc_now</td><td>0.81667</td></tr><tr><td>val_loss</td><td>2.11846</td></tr></table><br/></div></div>"
      ],
      "text/plain": [
       "<IPython.core.display.HTML object>"
      ]
     },
     "metadata": {},
     "output_type": "display_data"
    },
    {
     "data": {
      "text/html": [
       " View run <strong style=\"color:#cdcd00\">splendid-sweep-64</strong> at: <a href='https://wandb.ai/bhkim003-seoul-national-university/my_snn%20main/runs/v69chf93' target=\"_blank\">https://wandb.ai/bhkim003-seoul-national-university/my_snn%20main/runs/v69chf93</a><br/> View project at: <a href='https://wandb.ai/bhkim003-seoul-national-university/my_snn%20main' target=\"_blank\">https://wandb.ai/bhkim003-seoul-national-university/my_snn%20main</a><br/>Synced 7 W&B file(s), 0 media file(s), 0 artifact file(s) and 1 other file(s)"
      ],
      "text/plain": [
       "<IPython.core.display.HTML object>"
      ]
     },
     "metadata": {},
     "output_type": "display_data"
    },
    {
     "data": {
      "text/html": [
       "Find logs at: <code>./wandb/run-20240821_181906-v69chf93/logs</code>"
      ],
      "text/plain": [
       "<IPython.core.display.HTML object>"
      ]
     },
     "metadata": {},
     "output_type": "display_data"
    },
    {
     "data": {
      "text/html": [
       "The new W&B backend becomes opt-out in version 0.18.0; try it out with `wandb.require(\"core\")`! See https://wandb.me/wandb-core for more information."
      ],
      "text/plain": [
       "<IPython.core.display.HTML object>"
      ]
     },
     "metadata": {},
     "output_type": "display_data"
    },
    {
     "name": "stderr",
     "output_type": "stream",
     "text": [
      "\u001b[34m\u001b[1mwandb\u001b[0m: Agent Starting Run: ob070fbm with config:\n",
      "\u001b[34m\u001b[1mwandb\u001b[0m: \tBATCH: 16\n",
      "\u001b[34m\u001b[1mwandb\u001b[0m: \tDFA_on: False\n",
      "\u001b[34m\u001b[1mwandb\u001b[0m: \tIMAGE_SIZE: 128\n",
      "\u001b[34m\u001b[1mwandb\u001b[0m: \tOTTT_input_trace_on: False\n",
      "\u001b[34m\u001b[1mwandb\u001b[0m: \tOTTT_sWS_on: False\n",
      "\u001b[34m\u001b[1mwandb\u001b[0m: \tTIME: 10\n",
      "\u001b[34m\u001b[1mwandb\u001b[0m: \tcfg: ['M', 'M', 200, 200]\n",
      "\u001b[34m\u001b[1mwandb\u001b[0m: \tconst2: False\n",
      "\u001b[34m\u001b[1mwandb\u001b[0m: \tdecay: 0.24092475292143856\n",
      "\u001b[34m\u001b[1mwandb\u001b[0m: \tdrop_rate: 0\n",
      "\u001b[34m\u001b[1mwandb\u001b[0m: \tdvs_clipping: 2\n",
      "\u001b[34m\u001b[1mwandb\u001b[0m: \tdvs_duration: 100000\n",
      "\u001b[34m\u001b[1mwandb\u001b[0m: \te_transport_swap: 0\n",
      "\u001b[34m\u001b[1mwandb\u001b[0m: \te_transport_swap_tr: 0\n",
      "\u001b[34m\u001b[1mwandb\u001b[0m: \tepoch_num: 60\n",
      "\u001b[34m\u001b[1mwandb\u001b[0m: \texclude_class: True\n",
      "\u001b[34m\u001b[1mwandb\u001b[0m: \tlearning_rate: 0.00936191669529645\n",
      "\u001b[34m\u001b[1mwandb\u001b[0m: \tmerge_polarities: False\n",
      "\u001b[34m\u001b[1mwandb\u001b[0m: \tsurrogate: hard_sigmoid\n",
      "\u001b[34m\u001b[1mwandb\u001b[0m: \twhich_data: DVS_GESTURE_TONIC\n",
      "Failed to detect the name of this notebook, you can set it manually with the WANDB_NOTEBOOK_NAME environment variable to enable code saving.\n"
     ]
    },
    {
     "data": {
      "text/html": [
       "wandb version 0.17.7 is available!  To upgrade, please run:\n",
       " $ pip install wandb --upgrade"
      ],
      "text/plain": [
       "<IPython.core.display.HTML object>"
      ]
     },
     "metadata": {},
     "output_type": "display_data"
    },
    {
     "data": {
      "text/html": [
       "Tracking run with wandb version 0.17.5"
      ],
      "text/plain": [
       "<IPython.core.display.HTML object>"
      ]
     },
     "metadata": {},
     "output_type": "display_data"
    },
    {
     "data": {
      "text/html": [
       "Run data is saved locally in <code>/nfs/home/bhkim003/github_folder/ByeonghyeonKim/my_snn/wandb/run-20240821_182514-ob070fbm</code>"
      ],
      "text/plain": [
       "<IPython.core.display.HTML object>"
      ]
     },
     "metadata": {},
     "output_type": "display_data"
    },
    {
     "data": {
      "text/html": [
       "Syncing run <strong><a href='https://wandb.ai/bhkim003-seoul-national-university/my_snn%20main/runs/ob070fbm' target=\"_blank\">light-sweep-67</a></strong> to <a href='https://wandb.ai/bhkim003-seoul-national-university/my_snn%20main' target=\"_blank\">Weights & Biases</a> (<a href='https://wandb.me/run' target=\"_blank\">docs</a>)<br/>Sweep page: <a href='https://wandb.ai/bhkim003-seoul-national-university/my_snn%20main/sweeps/gqhgeaun' target=\"_blank\">https://wandb.ai/bhkim003-seoul-national-university/my_snn%20main/sweeps/gqhgeaun</a>"
      ],
      "text/plain": [
       "<IPython.core.display.HTML object>"
      ]
     },
     "metadata": {},
     "output_type": "display_data"
    },
    {
     "data": {
      "text/html": [
       " View project at <a href='https://wandb.ai/bhkim003-seoul-national-university/my_snn%20main' target=\"_blank\">https://wandb.ai/bhkim003-seoul-national-university/my_snn%20main</a>"
      ],
      "text/plain": [
       "<IPython.core.display.HTML object>"
      ]
     },
     "metadata": {},
     "output_type": "display_data"
    },
    {
     "data": {
      "text/html": [
       " View sweep at <a href='https://wandb.ai/bhkim003-seoul-national-university/my_snn%20main/sweeps/gqhgeaun' target=\"_blank\">https://wandb.ai/bhkim003-seoul-national-university/my_snn%20main/sweeps/gqhgeaun</a>"
      ],
      "text/plain": [
       "<IPython.core.display.HTML object>"
      ]
     },
     "metadata": {},
     "output_type": "display_data"
    },
    {
     "data": {
      "text/html": [
       " View run at <a href='https://wandb.ai/bhkim003-seoul-national-university/my_snn%20main/runs/ob070fbm' target=\"_blank\">https://wandb.ai/bhkim003-seoul-national-university/my_snn%20main/runs/ob070fbm</a>"
      ],
      "text/plain": [
       "<IPython.core.display.HTML object>"
      ]
     },
     "metadata": {},
     "output_type": "display_data"
    },
    {
     "name": "stderr",
     "output_type": "stream",
     "text": [
      "\u001b[34m\u001b[1mwandb\u001b[0m: \u001b[33mWARNING\u001b[0m Config item 'BATCH' was locked by 'sweep' (ignored update).\n",
      "\u001b[34m\u001b[1mwandb\u001b[0m: \u001b[33mWARNING\u001b[0m Config item 'IMAGE_SIZE' was locked by 'sweep' (ignored update).\n",
      "\u001b[34m\u001b[1mwandb\u001b[0m: \u001b[33mWARNING\u001b[0m Config item 'which_data' was locked by 'sweep' (ignored update).\n",
      "\u001b[34m\u001b[1mwandb\u001b[0m: \u001b[33mWARNING\u001b[0m Config item 'cfg' was locked by 'sweep' (ignored update).\n",
      "\u001b[34m\u001b[1mwandb\u001b[0m: \u001b[33mWARNING\u001b[0m Config item 'learning_rate' was locked by 'sweep' (ignored update).\n",
      "\u001b[34m\u001b[1mwandb\u001b[0m: \u001b[33mWARNING\u001b[0m Config item 'epoch_num' was locked by 'sweep' (ignored update).\n",
      "\u001b[34m\u001b[1mwandb\u001b[0m: \u001b[33mWARNING\u001b[0m Config item 'surrogate' was locked by 'sweep' (ignored update).\n",
      "\u001b[34m\u001b[1mwandb\u001b[0m: \u001b[33mWARNING\u001b[0m Config item 'dvs_clipping' was locked by 'sweep' (ignored update).\n",
      "\u001b[34m\u001b[1mwandb\u001b[0m: \u001b[33mWARNING\u001b[0m Config item 'dvs_duration' was locked by 'sweep' (ignored update).\n",
      "\u001b[34m\u001b[1mwandb\u001b[0m: \u001b[33mWARNING\u001b[0m Config item 'OTTT_sWS_on' was locked by 'sweep' (ignored update).\n",
      "\u001b[34m\u001b[1mwandb\u001b[0m: \u001b[33mWARNING\u001b[0m Config item 'DFA_on' was locked by 'sweep' (ignored update).\n",
      "\u001b[34m\u001b[1mwandb\u001b[0m: \u001b[33mWARNING\u001b[0m Config item 'OTTT_input_trace_on' was locked by 'sweep' (ignored update).\n",
      "\u001b[34m\u001b[1mwandb\u001b[0m: \u001b[33mWARNING\u001b[0m Config item 'e_transport_swap' was locked by 'sweep' (ignored update).\n",
      "\u001b[34m\u001b[1mwandb\u001b[0m: \u001b[33mWARNING\u001b[0m Config item 'e_transport_swap_tr' was locked by 'sweep' (ignored update).\n",
      "\u001b[34m\u001b[1mwandb\u001b[0m: \u001b[33mWARNING\u001b[0m Config item 'drop_rate' was locked by 'sweep' (ignored update).\n",
      "\u001b[34m\u001b[1mwandb\u001b[0m: \u001b[33mWARNING\u001b[0m Config item 'exclude_class' was locked by 'sweep' (ignored update).\n",
      "\u001b[34m\u001b[1mwandb\u001b[0m: \u001b[33mWARNING\u001b[0m Config item 'merge_polarities' was locked by 'sweep' (ignored update).\n",
      "\u001b[34m\u001b[1mwandb\u001b[0m: \u001b[33mWARNING\u001b[0m Config item 'TIME' was locked by 'sweep' (ignored update).\n"
     ]
    },
    {
     "name": "stdout",
     "output_type": "stream",
     "text": [
      "dataset_hash = 2bbd58b4e0d3c1e9ad501fad8a43feed\n",
      "cache path exists\n",
      "\n",
      "we will exclude the 'other' class. dvsgestrue 10 classes' indices exist. \n",
      "\n",
      "DataParallel(\n",
      "  (module): MY_SNN_FC_sstep(\n",
      "    (layers): MY_Sequential(\n",
      "      (0): MaxPool2d(kernel_size=2, stride=2, padding=0, dilation=1, ceil_mode=False)\n",
      "      (1): MaxPool2d(kernel_size=2, stride=2, padding=0, dilation=1, ceil_mode=False)\n",
      "      (2): DimChanger_for_FC_sstep()\n",
      "      (3): SYNAPSE_FC_trace_sstep()\n",
      "      (4): LIF_layer_trace_sstep()\n",
      "      (5): SYNAPSE_FC_trace_sstep()\n",
      "      (6): LIF_layer_trace_sstep()\n",
      "      (7): SYNAPSE_FC_trace_sstep()\n",
      "    )\n",
      "  )\n",
      ")\n",
      "==================================================\n",
      "My Num of PARAMS: 452,010, system's param_num : 452,010\n",
      "Memory: 1.72MiB at 32-bit\n",
      "==================================================\n"
     ]
    },
    {
     "name": "stderr",
     "output_type": "stream",
     "text": [
      "epoch-0   lr=['0.0093619'], tr/val_loss:  1.798767/  1.466548, tr:  37.39%, val:  54.17%, val_best:  54.17%: 100%|██████████| 62/62 [00:05<00:00, 12.24it/s]                                    \n",
      "epoch-1   lr=['0.0093555'], tr/val_loss:  1.144352/  1.262781, tr:  63.13%, val:  58.75%, val_best:  58.75%: 100%|██████████| 62/62 [00:05<00:00, 11.88it/s]                                    \n",
      "epoch-2   lr=['0.0093363'], tr/val_loss:  0.990350/  1.143251, tr:  65.58%, val:  63.75%, val_best:  63.75%: 100%|██████████| 62/62 [00:04<00:00, 12.42it/s]                                    \n",
      "epoch-3   lr=['0.0093043'], tr/val_loss:  0.881448/  1.095420, tr:  69.77%, val:  66.25%, val_best:  66.25%: 100%|██████████| 62/62 [00:04<00:00, 13.17it/s]                                    \n",
      "epoch-4   lr=['0.0092596'], tr/val_loss:  0.833629/  1.197848, tr:  70.99%, val:  61.25%, val_best:  66.25%: 100%|██████████| 62/62 [00:04<00:00, 12.75it/s]                                    \n",
      "epoch-5   lr=['0.0092024'], tr/val_loss:  0.822995/  1.286544, tr:  69.77%, val:  61.67%, val_best:  66.25%: 100%|██████████| 62/62 [00:04<00:00, 13.46it/s]                                    \n",
      "epoch-6   lr=['0.0091328'], tr/val_loss:  0.698118/  1.146397, tr:  75.18%, val:  63.33%, val_best:  66.25%: 100%|██████████| 62/62 [00:04<00:00, 12.57it/s]                                    \n",
      "epoch-7   lr=['0.0090510'], tr/val_loss:  0.666767/  1.216186, tr:  76.40%, val:  60.83%, val_best:  66.25%: 100%|██████████| 62/62 [00:05<00:00, 11.95it/s]                                    \n",
      "epoch-8   lr=['0.0089572'], tr/val_loss:  0.636664/  1.085985, tr:  77.22%, val:  68.75%, val_best:  68.75%: 100%|██████████| 62/62 [00:05<00:00, 12.19it/s]                                    \n",
      "epoch-9   lr=['0.0088517'], tr/val_loss:  0.488965/  1.247712, tr:  82.53%, val:  70.42%, val_best:  70.42%: 100%|██████████| 62/62 [00:05<00:00, 11.28it/s]                                    \n",
      "epoch-10  lr=['0.0087348'], tr/val_loss:  0.477387/  1.208915, tr:  84.58%, val:  68.33%, val_best:  70.42%: 100%|██████████| 62/62 [00:05<00:00, 12.10it/s]                                    \n",
      "epoch-11  lr=['0.0086067'], tr/val_loss:  0.457403/  1.285157, tr:  84.47%, val:  70.00%, val_best:  70.42%: 100%|██████████| 62/62 [00:05<00:00, 11.78it/s]                                    \n",
      "epoch-12  lr=['0.0084679'], tr/val_loss:  0.459713/  1.176351, tr:  85.70%, val:  75.00%, val_best:  75.00%: 100%|██████████| 62/62 [00:05<00:00, 11.68it/s]                                    \n",
      "epoch-13  lr=['0.0083187'], tr/val_loss:  0.390772/  1.339326, tr:  89.99%, val:  69.58%, val_best:  75.00%: 100%|██████████| 62/62 [00:05<00:00, 11.37it/s]                                    \n",
      "epoch-14  lr=['0.0081596'], tr/val_loss:  0.321024/  1.308301, tr:  92.24%, val:  73.33%, val_best:  75.00%: 100%|██████████| 62/62 [00:05<00:00, 12.16it/s]                                    \n",
      "epoch-15  lr=['0.0079909'], tr/val_loss:  0.349435/  1.293915, tr:  90.70%, val:  72.50%, val_best:  75.00%: 100%|██████████| 62/62 [00:05<00:00, 11.62it/s]                                    \n",
      "epoch-16  lr=['0.0078131'], tr/val_loss:  0.267909/  1.500783, tr:  94.99%, val:  70.83%, val_best:  75.00%: 100%|██████████| 62/62 [00:05<00:00, 11.83it/s]                                    \n",
      "epoch-17  lr=['0.0076268'], tr/val_loss:  0.249038/  1.373763, tr:  95.81%, val:  75.00%, val_best:  75.00%: 100%|██████████| 62/62 [00:05<00:00, 11.92it/s]                                    \n",
      "epoch-18  lr=['0.0074324'], tr/val_loss:  0.256814/  1.384628, tr:  94.18%, val:  77.08%, val_best:  77.08%: 100%|██████████| 62/62 [00:05<00:00, 11.68it/s]                                    \n",
      "epoch-19  lr=['0.0072304'], tr/val_loss:  0.168241/  1.455615, tr:  98.37%, val:  79.17%, val_best:  79.17%: 100%|██████████| 62/62 [00:05<00:00, 11.84it/s]                                    \n",
      "epoch-20  lr=['0.0070214'], tr/val_loss:  0.145773/  1.607973, tr:  98.88%, val:  75.83%, val_best:  79.17%: 100%|██████████| 62/62 [00:05<00:00, 11.61it/s]                                    \n",
      "epoch-21  lr=['0.0068061'], tr/val_loss:  0.106458/  1.697640, tr:  99.49%, val:  75.00%, val_best:  79.17%: 100%|██████████| 62/62 [00:05<00:00, 12.22it/s]                                    \n",
      "epoch-22  lr=['0.0065849'], tr/val_loss:  0.121642/  1.638687, tr:  98.37%, val:  77.08%, val_best:  79.17%: 100%|██████████| 62/62 [00:05<00:00, 11.78it/s]                                    \n",
      "epoch-23  lr=['0.0063585'], tr/val_loss:  0.097247/  1.711652, tr:  99.80%, val:  79.58%, val_best:  79.58%: 100%|██████████| 62/62 [00:05<00:00, 12.32it/s]                                    \n",
      "epoch-24  lr=['0.0061275'], tr/val_loss:  0.069348/  1.824084, tr: 100.00%, val:  74.58%, val_best:  79.58%: 100%|██████████| 62/62 [00:05<00:00, 12.13it/s]                                    \n",
      "epoch-25  lr=['0.0058925'], tr/val_loss:  0.057151/  1.819047, tr: 100.00%, val:  76.67%, val_best:  79.58%: 100%|██████████| 62/62 [00:05<00:00, 11.53it/s]                                    \n",
      "epoch-26  lr=['0.0056542'], tr/val_loss:  0.044167/  1.800606, tr: 100.00%, val:  81.25%, val_best:  81.25%: 100%|██████████| 62/62 [00:05<00:00, 11.99it/s]                                    \n",
      "epoch-27  lr=['0.0054132'], tr/val_loss:  0.037736/  1.909367, tr: 100.00%, val:  79.17%, val_best:  81.25%: 100%|██████████| 62/62 [00:05<00:00, 11.93it/s]                                    \n",
      "epoch-28  lr=['0.0051703'], tr/val_loss:  0.031627/  1.942242, tr: 100.00%, val:  78.33%, val_best:  81.25%: 100%|██████████| 62/62 [00:05<00:00, 12.04it/s]                                    \n",
      "epoch-29  lr=['0.0049259'], tr/val_loss:  0.030810/  1.951732, tr: 100.00%, val:  80.42%, val_best:  81.25%: 100%|██████████| 62/62 [00:05<00:00, 11.76it/s]                                    \n",
      "epoch-30  lr=['0.0046810'], tr/val_loss:  0.024657/  1.968018, tr: 100.00%, val:  80.00%, val_best:  81.25%: 100%|██████████| 62/62 [00:05<00:00, 11.99it/s]                                    \n",
      "epoch-31  lr=['0.0044360'], tr/val_loss:  0.023156/  2.023134, tr: 100.00%, val:  80.00%, val_best:  81.25%: 100%|██████████| 62/62 [00:05<00:00, 12.00it/s]                                    \n",
      "epoch-32  lr=['0.0041917'], tr/val_loss:  0.016711/  2.046104, tr: 100.00%, val:  81.67%, val_best:  81.67%: 100%|██████████| 62/62 [00:05<00:00, 12.01it/s]                                    \n",
      "epoch-33  lr=['0.0039487'], tr/val_loss:  0.012822/  2.066941, tr: 100.00%, val:  80.83%, val_best:  81.67%: 100%|██████████| 62/62 [00:05<00:00, 12.03it/s]                                    \n",
      "epoch-34  lr=['0.0037077'], tr/val_loss:  0.010905/  2.068656, tr: 100.00%, val:  80.00%, val_best:  81.67%: 100%|██████████| 62/62 [00:05<00:00, 11.97it/s]                                    \n",
      "epoch-35  lr=['0.0034694'], tr/val_loss:  0.009809/  2.081175, tr: 100.00%, val:  80.42%, val_best:  81.67%: 100%|██████████| 62/62 [00:05<00:00, 12.25it/s]                                    \n",
      "epoch-36  lr=['0.0032345'], tr/val_loss:  0.009306/  2.093993, tr: 100.00%, val:  82.08%, val_best:  82.08%: 100%|██████████| 62/62 [00:05<00:00, 12.19it/s]                                    \n",
      "epoch-37  lr=['0.0030035'], tr/val_loss:  0.008435/  2.103125, tr: 100.00%, val:  80.42%, val_best:  82.08%: 100%|██████████| 62/62 [00:05<00:00, 11.53it/s]                                    \n",
      "epoch-38  lr=['0.0027770'], tr/val_loss:  0.007762/  2.094998, tr: 100.00%, val:  80.00%, val_best:  82.08%: 100%|██████████| 62/62 [00:04<00:00, 12.70it/s]                                    \n",
      "epoch-39  lr=['0.0025558'], tr/val_loss:  0.007892/  2.115350, tr: 100.00%, val:  80.00%, val_best:  82.08%: 100%|██████████| 62/62 [00:05<00:00, 12.17it/s]                                    \n",
      "epoch-40  lr=['0.0023405'], tr/val_loss:  0.007343/  2.149517, tr: 100.00%, val:  80.00%, val_best:  82.08%: 100%|██████████| 62/62 [00:05<00:00, 11.75it/s]                                    \n",
      "epoch-41  lr=['0.0021315'], tr/val_loss:  0.006471/  2.158494, tr: 100.00%, val:  80.83%, val_best:  82.08%: 100%|██████████| 62/62 [00:05<00:00, 11.88it/s]                                    \n",
      "epoch-42  lr=['0.0019296'], tr/val_loss:  0.006137/  2.171282, tr: 100.00%, val:  80.00%, val_best:  82.08%: 100%|██████████| 62/62 [00:05<00:00, 11.74it/s]                                    \n",
      "epoch-43  lr=['0.0017351'], tr/val_loss:  0.005604/  2.160804, tr: 100.00%, val:  79.58%, val_best:  82.08%: 100%|██████████| 62/62 [00:05<00:00, 12.02it/s]                                    \n",
      "epoch-44  lr=['0.0015488'], tr/val_loss:  0.005318/  2.165582, tr: 100.00%, val:  79.58%, val_best:  82.08%: 100%|██████████| 62/62 [00:05<00:00, 12.27it/s]                                    \n",
      "epoch-45  lr=['0.0013710'], tr/val_loss:  0.005615/  2.168898, tr: 100.00%, val:  79.17%, val_best:  82.08%: 100%|██████████| 62/62 [00:05<00:00, 11.69it/s]                                    \n",
      "epoch-46  lr=['0.0012023'], tr/val_loss:  0.004906/  2.176129, tr: 100.00%, val:  78.75%, val_best:  82.08%: 100%|██████████| 62/62 [00:05<00:00, 12.17it/s]                                    \n",
      "epoch-47  lr=['0.0010432'], tr/val_loss:  0.005008/  2.172858, tr: 100.00%, val:  79.58%, val_best:  82.08%: 100%|██████████| 62/62 [00:05<00:00, 11.75it/s]                                    \n",
      "epoch-48  lr=['0.0008940'], tr/val_loss:  0.004948/  2.177608, tr: 100.00%, val:  79.17%, val_best:  82.08%: 100%|██████████| 62/62 [00:05<00:00, 11.56it/s]                                    \n",
      "epoch-49  lr=['0.0007552'], tr/val_loss:  0.004872/  2.185116, tr: 100.00%, val:  80.00%, val_best:  82.08%: 100%|██████████| 62/62 [00:05<00:00, 11.41it/s]                                    \n",
      "epoch-50  lr=['0.0006271'], tr/val_loss:  0.004588/  2.186457, tr: 100.00%, val:  79.17%, val_best:  82.08%: 100%|██████████| 62/62 [00:05<00:00, 11.70it/s]                                    \n",
      "epoch-51  lr=['0.0005102'], tr/val_loss:  0.004617/  2.182416, tr: 100.00%, val:  79.58%, val_best:  82.08%: 100%|██████████| 62/62 [00:05<00:00, 11.81it/s]                                    \n",
      "epoch-52  lr=['0.0004047'], tr/val_loss:  0.004387/  2.189111, tr: 100.00%, val:  79.58%, val_best:  82.08%: 100%|██████████| 62/62 [00:05<00:00, 11.59it/s]                                    \n",
      "epoch-53  lr=['0.0003109'], tr/val_loss:  0.004541/  2.186617, tr: 100.00%, val:  79.58%, val_best:  82.08%: 100%|██████████| 62/62 [00:05<00:00, 12.25it/s]                                    \n",
      "epoch-54  lr=['0.0002291'], tr/val_loss:  0.004246/  2.186940, tr: 100.00%, val:  79.58%, val_best:  82.08%: 100%|██████████| 62/62 [00:05<00:00, 11.85it/s]                                    \n",
      "epoch-55  lr=['0.0001595'], tr/val_loss:  0.004093/  2.193165, tr: 100.00%, val:  79.58%, val_best:  82.08%: 100%|██████████| 62/62 [00:05<00:00, 12.35it/s]                                    \n",
      "epoch-56  lr=['0.0001023'], tr/val_loss:  0.004143/  2.190648, tr: 100.00%, val:  79.17%, val_best:  82.08%: 100%|██████████| 62/62 [00:05<00:00, 11.91it/s]                                    \n",
      "epoch-57  lr=['0.0000576'], tr/val_loss:  0.004155/  2.190385, tr: 100.00%, val:  79.17%, val_best:  82.08%: 100%|██████████| 62/62 [00:04<00:00, 12.52it/s]                                    \n",
      "epoch-58  lr=['0.0000256'], tr/val_loss:  0.004099/  2.190627, tr: 100.00%, val:  79.17%, val_best:  82.08%: 100%|██████████| 62/62 [00:05<00:00, 12.33it/s]                                    \n",
      "epoch-59  lr=['0.0000064'], tr/val_loss:  0.004186/  2.190818, tr: 100.00%, val:  79.17%, val_best:  82.08%: 100%|██████████| 62/62 [00:05<00:00, 12.07it/s]                                    \n"
     ]
    },
    {
     "data": {
      "application/vnd.jupyter.widget-view+json": {
       "model_id": "854ebe673b9343d79dacb401812f8923",
       "version_major": 2,
       "version_minor": 0
      },
      "text/plain": [
       "VBox(children=(Label(value='4.956 MB of 4.956 MB uploaded\\r'), FloatProgress(value=1.0, max=1.0)))"
      ]
     },
     "metadata": {},
     "output_type": "display_data"
    },
    {
     "data": {
      "text/html": [
       "<style>\n",
       "    table.wandb td:nth-child(1) { padding: 0 10px; text-align: left ; width: auto;} td:nth-child(2) {text-align: left ; width: 100%}\n",
       "    .wandb-row { display: flex; flex-direction: row; flex-wrap: wrap; justify-content: flex-start; width: 100% }\n",
       "    .wandb-col { display: flex; flex-direction: column; flex-basis: 100%; flex: 1; padding: 10px; }\n",
       "    </style>\n",
       "<div class=\"wandb-row\"><div class=\"wandb-col\"><h3>Run history:</h3><br/><table class=\"wandb\"><tr><td>DFA_flag</td><td>▁▁▁▁▁▁▁▁▁▁▁▁▁▁▁▁▁▁▁▁▁▁▁▁▁▁▁▁▁▁▁▁▁▁▁▁▁▁▁▁</td></tr><tr><td>epoch</td><td>▁▁▁▁▂▂▂▂▂▃▃▃▃▃▃▄▄▄▄▄▅▅▅▅▅▆▆▆▆▆▆▇▇▇▇▇████</td></tr><tr><td>iter_acc</td><td>▁▅▆▅▇▅▆▇▆▇▇▇▇███████████████████████████</td></tr><tr><td>summary_val_acc</td><td>▁▆▆▇▆▆▇▇▇▇▇▇▇█▇█████████████████████████</td></tr><tr><td>tr_acc</td><td>▁▄▆▆▆▆▆▇▇▇▇█████████████████████████████</td></tr><tr><td>tr_epoch_loss</td><td>▁█▅▄▄▄▃▃▃▃▂▂▂▂▂▁▁▁▁▁▁▁▁▁▁▁▁▁▁▁▁▁▁▁▁▁▁▁▁▁</td></tr><tr><td>val_acc_best</td><td>▁▆▆▇▇▇▇▇▇▇▇▇▇███████████████████████████</td></tr><tr><td>val_acc_now</td><td>▁▆▆▇▆▆▇▇▇▇▇▇▇█▇█████████████████████████</td></tr><tr><td>val_loss</td><td>▁▆▅▄▅▅▄▅▅▅▅▆▅▆▆▆▆▇▇▇▇▇██████████████████</td></tr></table><br/></div><div class=\"wandb-col\"><h3>Run summary:</h3><br/><table class=\"wandb\"><tr><td>DFA_flag</td><td>0.0</td></tr><tr><td>epoch</td><td>59</td></tr><tr><td>iter_acc</td><td>1.0</td></tr><tr><td>tr_acc</td><td>1.0</td></tr><tr><td>tr_epoch_loss</td><td>0.00419</td></tr><tr><td>val_acc_best</td><td>0.82083</td></tr><tr><td>val_acc_now</td><td>0.79167</td></tr><tr><td>val_loss</td><td>2.19082</td></tr></table><br/></div></div>"
      ],
      "text/plain": [
       "<IPython.core.display.HTML object>"
      ]
     },
     "metadata": {},
     "output_type": "display_data"
    },
    {
     "data": {
      "text/html": [
       " View run <strong style=\"color:#cdcd00\">light-sweep-67</strong> at: <a href='https://wandb.ai/bhkim003-seoul-national-university/my_snn%20main/runs/ob070fbm' target=\"_blank\">https://wandb.ai/bhkim003-seoul-national-university/my_snn%20main/runs/ob070fbm</a><br/> View project at: <a href='https://wandb.ai/bhkim003-seoul-national-university/my_snn%20main' target=\"_blank\">https://wandb.ai/bhkim003-seoul-national-university/my_snn%20main</a><br/>Synced 7 W&B file(s), 0 media file(s), 0 artifact file(s) and 1 other file(s)"
      ],
      "text/plain": [
       "<IPython.core.display.HTML object>"
      ]
     },
     "metadata": {},
     "output_type": "display_data"
    },
    {
     "data": {
      "text/html": [
       "Find logs at: <code>./wandb/run-20240821_182514-ob070fbm/logs</code>"
      ],
      "text/plain": [
       "<IPython.core.display.HTML object>"
      ]
     },
     "metadata": {},
     "output_type": "display_data"
    },
    {
     "data": {
      "text/html": [
       "The new W&B backend becomes opt-out in version 0.18.0; try it out with `wandb.require(\"core\")`! See https://wandb.me/wandb-core for more information."
      ],
      "text/plain": [
       "<IPython.core.display.HTML object>"
      ]
     },
     "metadata": {},
     "output_type": "display_data"
    },
    {
     "name": "stderr",
     "output_type": "stream",
     "text": [
      "\u001b[34m\u001b[1mwandb\u001b[0m: Agent Starting Run: fqhh8ctg with config:\n",
      "\u001b[34m\u001b[1mwandb\u001b[0m: \tBATCH: 16\n",
      "\u001b[34m\u001b[1mwandb\u001b[0m: \tDFA_on: False\n",
      "\u001b[34m\u001b[1mwandb\u001b[0m: \tIMAGE_SIZE: 128\n",
      "\u001b[34m\u001b[1mwandb\u001b[0m: \tOTTT_input_trace_on: False\n",
      "\u001b[34m\u001b[1mwandb\u001b[0m: \tOTTT_sWS_on: False\n",
      "\u001b[34m\u001b[1mwandb\u001b[0m: \tTIME: 10\n",
      "\u001b[34m\u001b[1mwandb\u001b[0m: \tcfg: ['M', 'M', 200, 200]\n",
      "\u001b[34m\u001b[1mwandb\u001b[0m: \tconst2: False\n",
      "\u001b[34m\u001b[1mwandb\u001b[0m: \tdecay: 0.08714476552526498\n",
      "\u001b[34m\u001b[1mwandb\u001b[0m: \tdrop_rate: 0\n",
      "\u001b[34m\u001b[1mwandb\u001b[0m: \tdvs_clipping: 2\n",
      "\u001b[34m\u001b[1mwandb\u001b[0m: \tdvs_duration: 100000\n",
      "\u001b[34m\u001b[1mwandb\u001b[0m: \te_transport_swap: 0\n",
      "\u001b[34m\u001b[1mwandb\u001b[0m: \te_transport_swap_tr: 0\n",
      "\u001b[34m\u001b[1mwandb\u001b[0m: \tepoch_num: 60\n",
      "\u001b[34m\u001b[1mwandb\u001b[0m: \texclude_class: True\n",
      "\u001b[34m\u001b[1mwandb\u001b[0m: \tlearning_rate: 0.00936191669529645\n",
      "\u001b[34m\u001b[1mwandb\u001b[0m: \tmerge_polarities: False\n",
      "\u001b[34m\u001b[1mwandb\u001b[0m: \tsurrogate: hard_sigmoid\n",
      "\u001b[34m\u001b[1mwandb\u001b[0m: \twhich_data: DVS_GESTURE_TONIC\n",
      "Failed to detect the name of this notebook, you can set it manually with the WANDB_NOTEBOOK_NAME environment variable to enable code saving.\n"
     ]
    },
    {
     "data": {
      "text/html": [
       "wandb version 0.17.7 is available!  To upgrade, please run:\n",
       " $ pip install wandb --upgrade"
      ],
      "text/plain": [
       "<IPython.core.display.HTML object>"
      ]
     },
     "metadata": {},
     "output_type": "display_data"
    },
    {
     "data": {
      "text/html": [
       "Tracking run with wandb version 0.17.5"
      ],
      "text/plain": [
       "<IPython.core.display.HTML object>"
      ]
     },
     "metadata": {},
     "output_type": "display_data"
    },
    {
     "data": {
      "text/html": [
       "Run data is saved locally in <code>/nfs/home/bhkim003/github_folder/ByeonghyeonKim/my_snn/wandb/run-20240821_183055-fqhh8ctg</code>"
      ],
      "text/plain": [
       "<IPython.core.display.HTML object>"
      ]
     },
     "metadata": {},
     "output_type": "display_data"
    },
    {
     "data": {
      "text/html": [
       "Syncing run <strong><a href='https://wandb.ai/bhkim003-seoul-national-university/my_snn%20main/runs/fqhh8ctg' target=\"_blank\">splendid-sweep-69</a></strong> to <a href='https://wandb.ai/bhkim003-seoul-national-university/my_snn%20main' target=\"_blank\">Weights & Biases</a> (<a href='https://wandb.me/run' target=\"_blank\">docs</a>)<br/>Sweep page: <a href='https://wandb.ai/bhkim003-seoul-national-university/my_snn%20main/sweeps/gqhgeaun' target=\"_blank\">https://wandb.ai/bhkim003-seoul-national-university/my_snn%20main/sweeps/gqhgeaun</a>"
      ],
      "text/plain": [
       "<IPython.core.display.HTML object>"
      ]
     },
     "metadata": {},
     "output_type": "display_data"
    },
    {
     "data": {
      "text/html": [
       " View project at <a href='https://wandb.ai/bhkim003-seoul-national-university/my_snn%20main' target=\"_blank\">https://wandb.ai/bhkim003-seoul-national-university/my_snn%20main</a>"
      ],
      "text/plain": [
       "<IPython.core.display.HTML object>"
      ]
     },
     "metadata": {},
     "output_type": "display_data"
    },
    {
     "data": {
      "text/html": [
       " View sweep at <a href='https://wandb.ai/bhkim003-seoul-national-university/my_snn%20main/sweeps/gqhgeaun' target=\"_blank\">https://wandb.ai/bhkim003-seoul-national-university/my_snn%20main/sweeps/gqhgeaun</a>"
      ],
      "text/plain": [
       "<IPython.core.display.HTML object>"
      ]
     },
     "metadata": {},
     "output_type": "display_data"
    },
    {
     "data": {
      "text/html": [
       " View run at <a href='https://wandb.ai/bhkim003-seoul-national-university/my_snn%20main/runs/fqhh8ctg' target=\"_blank\">https://wandb.ai/bhkim003-seoul-national-university/my_snn%20main/runs/fqhh8ctg</a>"
      ],
      "text/plain": [
       "<IPython.core.display.HTML object>"
      ]
     },
     "metadata": {},
     "output_type": "display_data"
    },
    {
     "name": "stderr",
     "output_type": "stream",
     "text": [
      "\u001b[34m\u001b[1mwandb\u001b[0m: \u001b[33mWARNING\u001b[0m Config item 'BATCH' was locked by 'sweep' (ignored update).\n",
      "\u001b[34m\u001b[1mwandb\u001b[0m: \u001b[33mWARNING\u001b[0m Config item 'IMAGE_SIZE' was locked by 'sweep' (ignored update).\n",
      "\u001b[34m\u001b[1mwandb\u001b[0m: \u001b[33mWARNING\u001b[0m Config item 'which_data' was locked by 'sweep' (ignored update).\n",
      "\u001b[34m\u001b[1mwandb\u001b[0m: \u001b[33mWARNING\u001b[0m Config item 'cfg' was locked by 'sweep' (ignored update).\n",
      "\u001b[34m\u001b[1mwandb\u001b[0m: \u001b[33mWARNING\u001b[0m Config item 'learning_rate' was locked by 'sweep' (ignored update).\n",
      "\u001b[34m\u001b[1mwandb\u001b[0m: \u001b[33mWARNING\u001b[0m Config item 'epoch_num' was locked by 'sweep' (ignored update).\n",
      "\u001b[34m\u001b[1mwandb\u001b[0m: \u001b[33mWARNING\u001b[0m Config item 'surrogate' was locked by 'sweep' (ignored update).\n",
      "\u001b[34m\u001b[1mwandb\u001b[0m: \u001b[33mWARNING\u001b[0m Config item 'dvs_clipping' was locked by 'sweep' (ignored update).\n",
      "\u001b[34m\u001b[1mwandb\u001b[0m: \u001b[33mWARNING\u001b[0m Config item 'dvs_duration' was locked by 'sweep' (ignored update).\n",
      "\u001b[34m\u001b[1mwandb\u001b[0m: \u001b[33mWARNING\u001b[0m Config item 'OTTT_sWS_on' was locked by 'sweep' (ignored update).\n",
      "\u001b[34m\u001b[1mwandb\u001b[0m: \u001b[33mWARNING\u001b[0m Config item 'DFA_on' was locked by 'sweep' (ignored update).\n",
      "\u001b[34m\u001b[1mwandb\u001b[0m: \u001b[33mWARNING\u001b[0m Config item 'OTTT_input_trace_on' was locked by 'sweep' (ignored update).\n",
      "\u001b[34m\u001b[1mwandb\u001b[0m: \u001b[33mWARNING\u001b[0m Config item 'e_transport_swap' was locked by 'sweep' (ignored update).\n",
      "\u001b[34m\u001b[1mwandb\u001b[0m: \u001b[33mWARNING\u001b[0m Config item 'e_transport_swap_tr' was locked by 'sweep' (ignored update).\n",
      "\u001b[34m\u001b[1mwandb\u001b[0m: \u001b[33mWARNING\u001b[0m Config item 'drop_rate' was locked by 'sweep' (ignored update).\n",
      "\u001b[34m\u001b[1mwandb\u001b[0m: \u001b[33mWARNING\u001b[0m Config item 'exclude_class' was locked by 'sweep' (ignored update).\n",
      "\u001b[34m\u001b[1mwandb\u001b[0m: \u001b[33mWARNING\u001b[0m Config item 'merge_polarities' was locked by 'sweep' (ignored update).\n",
      "\u001b[34m\u001b[1mwandb\u001b[0m: \u001b[33mWARNING\u001b[0m Config item 'TIME' was locked by 'sweep' (ignored update).\n"
     ]
    },
    {
     "name": "stdout",
     "output_type": "stream",
     "text": [
      "dataset_hash = 2bbd58b4e0d3c1e9ad501fad8a43feed\n",
      "cache path exists\n",
      "\n",
      "we will exclude the 'other' class. dvsgestrue 10 classes' indices exist. \n",
      "\n",
      "DataParallel(\n",
      "  (module): MY_SNN_FC_sstep(\n",
      "    (layers): MY_Sequential(\n",
      "      (0): MaxPool2d(kernel_size=2, stride=2, padding=0, dilation=1, ceil_mode=False)\n",
      "      (1): MaxPool2d(kernel_size=2, stride=2, padding=0, dilation=1, ceil_mode=False)\n",
      "      (2): DimChanger_for_FC_sstep()\n",
      "      (3): SYNAPSE_FC_trace_sstep()\n",
      "      (4): LIF_layer_trace_sstep()\n",
      "      (5): SYNAPSE_FC_trace_sstep()\n",
      "      (6): LIF_layer_trace_sstep()\n",
      "      (7): SYNAPSE_FC_trace_sstep()\n",
      "    )\n",
      "  )\n",
      ")\n",
      "==================================================\n",
      "My Num of PARAMS: 452,010, system's param_num : 452,010\n",
      "Memory: 1.72MiB at 32-bit\n",
      "==================================================\n"
     ]
    },
    {
     "name": "stderr",
     "output_type": "stream",
     "text": [
      "epoch-0   lr=['0.0093619'], tr/val_loss:  1.839418/  1.497076, tr:  36.77%, val:  56.67%, val_best:  56.67%: 100%|██████████| 62/62 [00:05<00:00, 11.36it/s]                                    \n",
      "epoch-1   lr=['0.0093555'], tr/val_loss:  1.166010/  1.284096, tr:  62.00%, val:  59.17%, val_best:  59.17%: 100%|██████████| 62/62 [00:05<00:00, 11.22it/s]                                    \n",
      "epoch-2   lr=['0.0093363'], tr/val_loss:  1.018445/  1.157586, tr:  65.58%, val:  64.17%, val_best:  64.17%: 100%|██████████| 62/62 [00:05<00:00, 12.14it/s]                                    \n",
      "epoch-3   lr=['0.0093043'], tr/val_loss:  0.925115/  1.145441, tr:  68.03%, val:  64.58%, val_best:  64.58%: 100%|██████████| 62/62 [00:05<00:00, 12.05it/s]                                    \n",
      "epoch-4   lr=['0.0092596'], tr/val_loss:  0.871768/  1.194620, tr:  69.66%, val:  64.17%, val_best:  64.58%: 100%|██████████| 62/62 [00:05<00:00, 11.65it/s]                                    \n",
      "epoch-5   lr=['0.0092024'], tr/val_loss:  0.832780/  1.297328, tr:  68.85%, val:  63.33%, val_best:  64.58%: 100%|██████████| 62/62 [00:04<00:00, 12.62it/s]                                    \n",
      "epoch-6   lr=['0.0091328'], tr/val_loss:  0.731787/  1.193038, tr:  74.16%, val:  63.33%, val_best:  64.58%: 100%|██████████| 62/62 [00:05<00:00, 12.02it/s]                                    \n",
      "epoch-7   lr=['0.0090510'], tr/val_loss:  0.681615/  1.289849, tr:  76.30%, val:  63.75%, val_best:  64.58%: 100%|██████████| 62/62 [00:05<00:00, 11.54it/s]                                    \n",
      "epoch-8   lr=['0.0089572'], tr/val_loss:  0.669712/  1.119380, tr:  77.22%, val:  67.50%, val_best:  67.50%: 100%|██████████| 62/62 [00:05<00:00, 11.33it/s]                                    \n",
      "epoch-9   lr=['0.0088517'], tr/val_loss:  0.524662/  1.288291, tr:  82.64%, val:  69.58%, val_best:  69.58%: 100%|██████████| 62/62 [00:05<00:00, 11.55it/s]                                    \n",
      "epoch-10  lr=['0.0087348'], tr/val_loss:  0.497910/  1.226382, tr:  84.47%, val:  70.00%, val_best:  70.00%: 100%|██████████| 62/62 [00:05<00:00, 10.63it/s]                                    \n",
      "epoch-11  lr=['0.0086067'], tr/val_loss:  0.475408/  1.317942, tr:  83.45%, val:  68.75%, val_best:  70.00%: 100%|██████████| 62/62 [00:05<00:00, 11.09it/s]                                    \n",
      "epoch-12  lr=['0.0084679'], tr/val_loss:  0.477893/  1.242090, tr:  83.66%, val:  75.42%, val_best:  75.42%: 100%|██████████| 62/62 [00:05<00:00, 11.99it/s]                                    \n",
      "epoch-13  lr=['0.0083187'], tr/val_loss:  0.428967/  1.284584, tr:  89.79%, val:  73.75%, val_best:  75.42%: 100%|██████████| 62/62 [00:05<00:00, 11.25it/s]                                    \n",
      "epoch-14  lr=['0.0081596'], tr/val_loss:  0.348728/  1.340121, tr:  91.73%, val:  75.83%, val_best:  75.83%: 100%|██████████| 62/62 [00:05<00:00, 11.78it/s]                                    \n",
      "epoch-15  lr=['0.0079909'], tr/val_loss:  0.325051/  1.347864, tr:  92.65%, val:  72.92%, val_best:  75.83%: 100%|██████████| 62/62 [00:05<00:00, 11.52it/s]                                    \n",
      "epoch-16  lr=['0.0078131'], tr/val_loss:  0.300629/  1.574761, tr:  92.54%, val:  72.50%, val_best:  75.83%: 100%|██████████| 62/62 [00:05<00:00, 11.39it/s]                                    \n",
      "epoch-17  lr=['0.0076268'], tr/val_loss:  0.279298/  1.476177, tr:  95.20%, val:  73.75%, val_best:  75.83%: 100%|██████████| 62/62 [00:05<00:00, 11.34it/s]                                    \n",
      "epoch-18  lr=['0.0074324'], tr/val_loss:  0.249342/  1.430222, tr:  95.40%, val:  75.42%, val_best:  75.83%: 100%|██████████| 62/62 [00:05<00:00, 10.84it/s]                                    \n",
      "epoch-19  lr=['0.0072304'], tr/val_loss:  0.206315/  1.597538, tr:  96.94%, val:  75.00%, val_best:  75.83%: 100%|██████████| 62/62 [00:05<00:00, 11.70it/s]                                    \n",
      "epoch-20  lr=['0.0070214'], tr/val_loss:  0.154949/  1.699043, tr:  99.39%, val:  77.08%, val_best:  77.08%: 100%|██████████| 62/62 [00:05<00:00, 12.15it/s]                                    \n",
      "epoch-21  lr=['0.0068061'], tr/val_loss:  0.115946/  1.782554, tr:  99.69%, val:  76.25%, val_best:  77.08%: 100%|██████████| 62/62 [00:05<00:00, 11.81it/s]                                    \n",
      "epoch-22  lr=['0.0065849'], tr/val_loss:  0.126173/  1.730869, tr:  98.16%, val:  75.83%, val_best:  77.08%: 100%|██████████| 62/62 [00:05<00:00, 11.27it/s]                                    \n",
      "epoch-23  lr=['0.0063585'], tr/val_loss:  0.103838/  1.798433, tr:  99.90%, val:  79.17%, val_best:  79.17%: 100%|██████████| 62/62 [00:04<00:00, 12.51it/s]                                    \n",
      "epoch-24  lr=['0.0061275'], tr/val_loss:  0.074360/  2.007333, tr: 100.00%, val:  73.33%, val_best:  79.17%: 100%|██████████| 62/62 [00:05<00:00, 11.67it/s]                                    \n",
      "epoch-25  lr=['0.0058925'], tr/val_loss:  0.071931/  1.920592, tr:  99.90%, val:  75.42%, val_best:  79.17%: 100%|██████████| 62/62 [00:05<00:00, 11.98it/s]                                    \n",
      "epoch-26  lr=['0.0056542'], tr/val_loss:  0.051415/  1.980735, tr: 100.00%, val:  79.58%, val_best:  79.58%: 100%|██████████| 62/62 [00:05<00:00, 11.58it/s]                                    \n",
      "epoch-27  lr=['0.0054132'], tr/val_loss:  0.045863/  2.010419, tr: 100.00%, val:  78.33%, val_best:  79.58%: 100%|██████████| 62/62 [00:05<00:00, 11.18it/s]                                    \n",
      "epoch-28  lr=['0.0051703'], tr/val_loss:  0.035445/  2.076386, tr: 100.00%, val:  78.33%, val_best:  79.58%: 100%|██████████| 62/62 [00:05<00:00, 11.44it/s]                                    \n",
      "epoch-29  lr=['0.0049259'], tr/val_loss:  0.032880/  2.087394, tr: 100.00%, val:  79.58%, val_best:  79.58%: 100%|██████████| 62/62 [00:05<00:00, 11.63it/s]                                    \n",
      "epoch-30  lr=['0.0046810'], tr/val_loss:  0.029903/  2.111744, tr: 100.00%, val:  80.00%, val_best:  80.00%: 100%|██████████| 62/62 [00:05<00:00, 11.45it/s]                                    \n",
      "epoch-31  lr=['0.0044360'], tr/val_loss:  0.023224/  2.113023, tr: 100.00%, val:  80.42%, val_best:  80.42%: 100%|██████████| 62/62 [00:05<00:00, 12.17it/s]                                    \n",
      "epoch-32  lr=['0.0041917'], tr/val_loss:  0.024494/  2.156420, tr: 100.00%, val:  78.33%, val_best:  80.42%: 100%|██████████| 62/62 [00:05<00:00, 11.86it/s]                                    \n",
      "epoch-33  lr=['0.0039487'], tr/val_loss:  0.014902/  2.184513, tr: 100.00%, val:  80.42%, val_best:  80.42%: 100%|██████████| 62/62 [00:05<00:00, 11.99it/s]                                    \n",
      "epoch-34  lr=['0.0037077'], tr/val_loss:  0.012771/  2.194158, tr: 100.00%, val:  80.00%, val_best:  80.42%: 100%|██████████| 62/62 [00:05<00:00, 11.13it/s]                                    \n",
      "epoch-35  lr=['0.0034694'], tr/val_loss:  0.011606/  2.216668, tr: 100.00%, val:  80.83%, val_best:  80.83%: 100%|██████████| 62/62 [00:05<00:00, 11.54it/s]                                    \n",
      "epoch-36  lr=['0.0032345'], tr/val_loss:  0.010570/  2.254611, tr: 100.00%, val:  79.58%, val_best:  80.83%: 100%|██████████| 62/62 [00:05<00:00, 11.13it/s]                                    \n",
      "epoch-37  lr=['0.0030035'], tr/val_loss:  0.009996/  2.247833, tr: 100.00%, val:  80.42%, val_best:  80.83%: 100%|██████████| 62/62 [00:05<00:00, 11.33it/s]                                    \n",
      "epoch-38  lr=['0.0027770'], tr/val_loss:  0.008257/  2.274238, tr: 100.00%, val:  81.67%, val_best:  81.67%: 100%|██████████| 62/62 [00:05<00:00, 12.00it/s]                                    \n",
      "epoch-39  lr=['0.0025558'], tr/val_loss:  0.007797/  2.299951, tr: 100.00%, val:  80.83%, val_best:  81.67%: 100%|██████████| 62/62 [00:05<00:00, 11.07it/s]                                    \n",
      "epoch-40  lr=['0.0023405'], tr/val_loss:  0.006939/  2.285140, tr: 100.00%, val:  80.42%, val_best:  81.67%: 100%|██████████| 62/62 [00:05<00:00, 11.71it/s]                                    \n",
      "epoch-41  lr=['0.0021315'], tr/val_loss:  0.006803/  2.311238, tr: 100.00%, val:  80.00%, val_best:  81.67%: 100%|██████████| 62/62 [00:05<00:00, 11.70it/s]                                    \n",
      "epoch-42  lr=['0.0019296'], tr/val_loss:  0.006013/  2.338933, tr: 100.00%, val:  80.00%, val_best:  81.67%: 100%|██████████| 62/62 [00:05<00:00, 11.24it/s]                                    \n",
      "epoch-43  lr=['0.0017351'], tr/val_loss:  0.006077/  2.336736, tr: 100.00%, val:  80.00%, val_best:  81.67%: 100%|██████████| 62/62 [00:05<00:00, 11.44it/s]                                    \n",
      "epoch-44  lr=['0.0015488'], tr/val_loss:  0.006166/  2.338347, tr: 100.00%, val:  80.00%, val_best:  81.67%: 100%|██████████| 62/62 [00:05<00:00, 11.66it/s]                                    \n",
      "epoch-45  lr=['0.0013710'], tr/val_loss:  0.005884/  2.336285, tr: 100.00%, val:  81.25%, val_best:  81.67%: 100%|██████████| 62/62 [00:05<00:00, 11.11it/s]                                    \n",
      "epoch-46  lr=['0.0012023'], tr/val_loss:  0.005490/  2.334440, tr: 100.00%, val:  80.83%, val_best:  81.67%: 100%|██████████| 62/62 [00:05<00:00, 10.84it/s]                                    \n",
      "epoch-47  lr=['0.0010432'], tr/val_loss:  0.006643/  2.348813, tr: 100.00%, val:  79.58%, val_best:  81.67%: 100%|██████████| 62/62 [00:05<00:00, 11.91it/s]                                    \n",
      "epoch-48  lr=['0.0008940'], tr/val_loss:  0.005981/  2.367653, tr: 100.00%, val:  80.00%, val_best:  81.67%: 100%|██████████| 62/62 [00:05<00:00, 11.00it/s]                                    \n",
      "epoch-49  lr=['0.0007552'], tr/val_loss:  0.005168/  2.374669, tr: 100.00%, val:  80.42%, val_best:  81.67%: 100%|██████████| 62/62 [00:05<00:00, 11.18it/s]                                    \n",
      "epoch-50  lr=['0.0006271'], tr/val_loss:  0.005205/  2.369417, tr: 100.00%, val:  80.42%, val_best:  81.67%: 100%|██████████| 62/62 [00:05<00:00, 11.50it/s]                                    \n",
      "epoch-51  lr=['0.0005102'], tr/val_loss:  0.005116/  2.368228, tr: 100.00%, val:  80.42%, val_best:  81.67%: 100%|██████████| 62/62 [00:05<00:00, 11.76it/s]                                    \n",
      "epoch-52  lr=['0.0004047'], tr/val_loss:  0.004727/  2.366314, tr: 100.00%, val:  80.42%, val_best:  81.67%: 100%|██████████| 62/62 [00:05<00:00, 12.14it/s]                                    \n",
      "epoch-53  lr=['0.0003109'], tr/val_loss:  0.004486/  2.367723, tr: 100.00%, val:  80.42%, val_best:  81.67%: 100%|██████████| 62/62 [00:05<00:00, 11.31it/s]                                    \n",
      "epoch-54  lr=['0.0002291'], tr/val_loss:  0.004898/  2.368918, tr: 100.00%, val:  80.42%, val_best:  81.67%: 100%|██████████| 62/62 [00:05<00:00, 11.80it/s]                                    \n",
      "epoch-55  lr=['0.0001595'], tr/val_loss:  0.004458/  2.370983, tr: 100.00%, val:  80.42%, val_best:  81.67%: 100%|██████████| 62/62 [00:04<00:00, 12.42it/s]                                    \n",
      "epoch-56  lr=['0.0001023'], tr/val_loss:  0.004365/  2.373147, tr: 100.00%, val:  80.42%, val_best:  81.67%: 100%|██████████| 62/62 [00:05<00:00, 12.16it/s]                                    \n",
      "epoch-57  lr=['0.0000576'], tr/val_loss:  0.004273/  2.372083, tr: 100.00%, val:  80.42%, val_best:  81.67%: 100%|██████████| 62/62 [00:05<00:00, 12.09it/s]                                    \n",
      "epoch-58  lr=['0.0000256'], tr/val_loss:  0.004240/  2.372276, tr: 100.00%, val:  80.42%, val_best:  81.67%: 100%|██████████| 62/62 [00:05<00:00, 12.22it/s]                                    \n",
      "epoch-59  lr=['0.0000064'], tr/val_loss:  0.004483/  2.372289, tr: 100.00%, val:  80.42%, val_best:  81.67%: 100%|██████████| 62/62 [00:05<00:00, 12.05it/s]                                    \n"
     ]
    },
    {
     "data": {
      "application/vnd.jupyter.widget-view+json": {
       "model_id": "b5833391f29c4f15af1bab4323517acd",
       "version_major": 2,
       "version_minor": 0
      },
      "text/plain": [
       "VBox(children=(Label(value='4.956 MB of 4.956 MB uploaded\\r'), FloatProgress(value=1.0, max=1.0)))"
      ]
     },
     "metadata": {},
     "output_type": "display_data"
    },
    {
     "data": {
      "text/html": [
       "<style>\n",
       "    table.wandb td:nth-child(1) { padding: 0 10px; text-align: left ; width: auto;} td:nth-child(2) {text-align: left ; width: 100%}\n",
       "    .wandb-row { display: flex; flex-direction: row; flex-wrap: wrap; justify-content: flex-start; width: 100% }\n",
       "    .wandb-col { display: flex; flex-direction: column; flex-basis: 100%; flex: 1; padding: 10px; }\n",
       "    </style>\n",
       "<div class=\"wandb-row\"><div class=\"wandb-col\"><h3>Run history:</h3><br/><table class=\"wandb\"><tr><td>DFA_flag</td><td>▁▁▁▁▁▁▁▁▁▁▁▁▁▁▁▁▁▁▁▁▁▁▁▁▁▁▁▁▁▁▁▁▁▁▁▁▁▁▁▁</td></tr><tr><td>epoch</td><td>▁▁▁▁▂▂▂▂▂▃▃▃▃▃▃▄▄▄▄▄▅▅▅▅▅▆▆▆▆▆▆▇▇▇▇▇████</td></tr><tr><td>iter_acc</td><td>▁▅▆▅▅▅▆▇▆▆█▇▇███████████████████████████</td></tr><tr><td>summary_val_acc</td><td>▁▆▆▇▆▆▇▇▇▇▇▇▇▇█▇█▇██████████████████████</td></tr><tr><td>tr_acc</td><td>▁▄▆▆▆▆▆▇▇▇▇▇████████████████████████████</td></tr><tr><td>tr_epoch_loss</td><td>▁█▅▅▄▄▄▃▃▃▂▂▂▂▂▁▁▁▁▁▁▁▁▁▁▁▁▁▁▁▁▁▁▁▁▁▁▁▁▁</td></tr><tr><td>val_acc_best</td><td>▁▆▆▇▇▇▇▇▇▇▇▇▇▇██████████████████████████</td></tr><tr><td>val_acc_now</td><td>▁▆▆▇▆▆▇▇▇▇▇▇▇▇█▇█▇██████████████████████</td></tr><tr><td>val_loss</td><td>▁▅▄▄▅▅▄▅▅▅▅▆▅▆▆▆▆▇▇▇▇▇▇▇████████████████</td></tr></table><br/></div><div class=\"wandb-col\"><h3>Run summary:</h3><br/><table class=\"wandb\"><tr><td>DFA_flag</td><td>0.0</td></tr><tr><td>epoch</td><td>59</td></tr><tr><td>iter_acc</td><td>1.0</td></tr><tr><td>tr_acc</td><td>1.0</td></tr><tr><td>tr_epoch_loss</td><td>0.00448</td></tr><tr><td>val_acc_best</td><td>0.81667</td></tr><tr><td>val_acc_now</td><td>0.80417</td></tr><tr><td>val_loss</td><td>2.37229</td></tr></table><br/></div></div>"
      ],
      "text/plain": [
       "<IPython.core.display.HTML object>"
      ]
     },
     "metadata": {},
     "output_type": "display_data"
    },
    {
     "data": {
      "text/html": [
       " View run <strong style=\"color:#cdcd00\">splendid-sweep-69</strong> at: <a href='https://wandb.ai/bhkim003-seoul-national-university/my_snn%20main/runs/fqhh8ctg' target=\"_blank\">https://wandb.ai/bhkim003-seoul-national-university/my_snn%20main/runs/fqhh8ctg</a><br/> View project at: <a href='https://wandb.ai/bhkim003-seoul-national-university/my_snn%20main' target=\"_blank\">https://wandb.ai/bhkim003-seoul-national-university/my_snn%20main</a><br/>Synced 7 W&B file(s), 0 media file(s), 0 artifact file(s) and 1 other file(s)"
      ],
      "text/plain": [
       "<IPython.core.display.HTML object>"
      ]
     },
     "metadata": {},
     "output_type": "display_data"
    },
    {
     "data": {
      "text/html": [
       "Find logs at: <code>./wandb/run-20240821_183055-fqhh8ctg/logs</code>"
      ],
      "text/plain": [
       "<IPython.core.display.HTML object>"
      ]
     },
     "metadata": {},
     "output_type": "display_data"
    },
    {
     "data": {
      "text/html": [
       "The new W&B backend becomes opt-out in version 0.18.0; try it out with `wandb.require(\"core\")`! See https://wandb.me/wandb-core for more information."
      ],
      "text/plain": [
       "<IPython.core.display.HTML object>"
      ]
     },
     "metadata": {},
     "output_type": "display_data"
    },
    {
     "name": "stderr",
     "output_type": "stream",
     "text": [
      "\u001b[34m\u001b[1mwandb\u001b[0m: Agent Starting Run: y8kbe7cp with config:\n",
      "\u001b[34m\u001b[1mwandb\u001b[0m: \tBATCH: 16\n",
      "\u001b[34m\u001b[1mwandb\u001b[0m: \tDFA_on: False\n",
      "\u001b[34m\u001b[1mwandb\u001b[0m: \tIMAGE_SIZE: 128\n",
      "\u001b[34m\u001b[1mwandb\u001b[0m: \tOTTT_input_trace_on: False\n",
      "\u001b[34m\u001b[1mwandb\u001b[0m: \tOTTT_sWS_on: False\n",
      "\u001b[34m\u001b[1mwandb\u001b[0m: \tTIME: 10\n",
      "\u001b[34m\u001b[1mwandb\u001b[0m: \tcfg: ['M', 'M', 200, 200]\n",
      "\u001b[34m\u001b[1mwandb\u001b[0m: \tconst2: False\n",
      "\u001b[34m\u001b[1mwandb\u001b[0m: \tdecay: 0.09251885944105524\n",
      "\u001b[34m\u001b[1mwandb\u001b[0m: \tdrop_rate: 0\n",
      "\u001b[34m\u001b[1mwandb\u001b[0m: \tdvs_clipping: 2\n",
      "\u001b[34m\u001b[1mwandb\u001b[0m: \tdvs_duration: 100000\n",
      "\u001b[34m\u001b[1mwandb\u001b[0m: \te_transport_swap: 0\n",
      "\u001b[34m\u001b[1mwandb\u001b[0m: \te_transport_swap_tr: 0\n",
      "\u001b[34m\u001b[1mwandb\u001b[0m: \tepoch_num: 60\n",
      "\u001b[34m\u001b[1mwandb\u001b[0m: \texclude_class: True\n",
      "\u001b[34m\u001b[1mwandb\u001b[0m: \tlearning_rate: 0.00936191669529645\n",
      "\u001b[34m\u001b[1mwandb\u001b[0m: \tmerge_polarities: False\n",
      "\u001b[34m\u001b[1mwandb\u001b[0m: \tsurrogate: hard_sigmoid\n",
      "\u001b[34m\u001b[1mwandb\u001b[0m: \twhich_data: DVS_GESTURE_TONIC\n",
      "Failed to detect the name of this notebook, you can set it manually with the WANDB_NOTEBOOK_NAME environment variable to enable code saving.\n"
     ]
    },
    {
     "data": {
      "text/html": [
       "wandb version 0.17.7 is available!  To upgrade, please run:\n",
       " $ pip install wandb --upgrade"
      ],
      "text/plain": [
       "<IPython.core.display.HTML object>"
      ]
     },
     "metadata": {},
     "output_type": "display_data"
    },
    {
     "data": {
      "text/html": [
       "Tracking run with wandb version 0.17.5"
      ],
      "text/plain": [
       "<IPython.core.display.HTML object>"
      ]
     },
     "metadata": {},
     "output_type": "display_data"
    },
    {
     "data": {
      "text/html": [
       "Run data is saved locally in <code>/nfs/home/bhkim003/github_folder/ByeonghyeonKim/my_snn/wandb/run-20240821_183646-y8kbe7cp</code>"
      ],
      "text/plain": [
       "<IPython.core.display.HTML object>"
      ]
     },
     "metadata": {},
     "output_type": "display_data"
    },
    {
     "data": {
      "text/html": [
       "Syncing run <strong><a href='https://wandb.ai/bhkim003-seoul-national-university/my_snn%20main/runs/y8kbe7cp' target=\"_blank\">charmed-sweep-71</a></strong> to <a href='https://wandb.ai/bhkim003-seoul-national-university/my_snn%20main' target=\"_blank\">Weights & Biases</a> (<a href='https://wandb.me/run' target=\"_blank\">docs</a>)<br/>Sweep page: <a href='https://wandb.ai/bhkim003-seoul-national-university/my_snn%20main/sweeps/gqhgeaun' target=\"_blank\">https://wandb.ai/bhkim003-seoul-national-university/my_snn%20main/sweeps/gqhgeaun</a>"
      ],
      "text/plain": [
       "<IPython.core.display.HTML object>"
      ]
     },
     "metadata": {},
     "output_type": "display_data"
    },
    {
     "data": {
      "text/html": [
       " View project at <a href='https://wandb.ai/bhkim003-seoul-national-university/my_snn%20main' target=\"_blank\">https://wandb.ai/bhkim003-seoul-national-university/my_snn%20main</a>"
      ],
      "text/plain": [
       "<IPython.core.display.HTML object>"
      ]
     },
     "metadata": {},
     "output_type": "display_data"
    },
    {
     "data": {
      "text/html": [
       " View sweep at <a href='https://wandb.ai/bhkim003-seoul-national-university/my_snn%20main/sweeps/gqhgeaun' target=\"_blank\">https://wandb.ai/bhkim003-seoul-national-university/my_snn%20main/sweeps/gqhgeaun</a>"
      ],
      "text/plain": [
       "<IPython.core.display.HTML object>"
      ]
     },
     "metadata": {},
     "output_type": "display_data"
    },
    {
     "data": {
      "text/html": [
       " View run at <a href='https://wandb.ai/bhkim003-seoul-national-university/my_snn%20main/runs/y8kbe7cp' target=\"_blank\">https://wandb.ai/bhkim003-seoul-national-university/my_snn%20main/runs/y8kbe7cp</a>"
      ],
      "text/plain": [
       "<IPython.core.display.HTML object>"
      ]
     },
     "metadata": {},
     "output_type": "display_data"
    },
    {
     "name": "stderr",
     "output_type": "stream",
     "text": [
      "\u001b[34m\u001b[1mwandb\u001b[0m: \u001b[33mWARNING\u001b[0m Config item 'BATCH' was locked by 'sweep' (ignored update).\n",
      "\u001b[34m\u001b[1mwandb\u001b[0m: \u001b[33mWARNING\u001b[0m Config item 'IMAGE_SIZE' was locked by 'sweep' (ignored update).\n",
      "\u001b[34m\u001b[1mwandb\u001b[0m: \u001b[33mWARNING\u001b[0m Config item 'which_data' was locked by 'sweep' (ignored update).\n",
      "\u001b[34m\u001b[1mwandb\u001b[0m: \u001b[33mWARNING\u001b[0m Config item 'cfg' was locked by 'sweep' (ignored update).\n",
      "\u001b[34m\u001b[1mwandb\u001b[0m: \u001b[33mWARNING\u001b[0m Config item 'learning_rate' was locked by 'sweep' (ignored update).\n",
      "\u001b[34m\u001b[1mwandb\u001b[0m: \u001b[33mWARNING\u001b[0m Config item 'epoch_num' was locked by 'sweep' (ignored update).\n",
      "\u001b[34m\u001b[1mwandb\u001b[0m: \u001b[33mWARNING\u001b[0m Config item 'surrogate' was locked by 'sweep' (ignored update).\n",
      "\u001b[34m\u001b[1mwandb\u001b[0m: \u001b[33mWARNING\u001b[0m Config item 'dvs_clipping' was locked by 'sweep' (ignored update).\n",
      "\u001b[34m\u001b[1mwandb\u001b[0m: \u001b[33mWARNING\u001b[0m Config item 'dvs_duration' was locked by 'sweep' (ignored update).\n",
      "\u001b[34m\u001b[1mwandb\u001b[0m: \u001b[33mWARNING\u001b[0m Config item 'OTTT_sWS_on' was locked by 'sweep' (ignored update).\n",
      "\u001b[34m\u001b[1mwandb\u001b[0m: \u001b[33mWARNING\u001b[0m Config item 'DFA_on' was locked by 'sweep' (ignored update).\n",
      "\u001b[34m\u001b[1mwandb\u001b[0m: \u001b[33mWARNING\u001b[0m Config item 'OTTT_input_trace_on' was locked by 'sweep' (ignored update).\n",
      "\u001b[34m\u001b[1mwandb\u001b[0m: \u001b[33mWARNING\u001b[0m Config item 'e_transport_swap' was locked by 'sweep' (ignored update).\n",
      "\u001b[34m\u001b[1mwandb\u001b[0m: \u001b[33mWARNING\u001b[0m Config item 'e_transport_swap_tr' was locked by 'sweep' (ignored update).\n",
      "\u001b[34m\u001b[1mwandb\u001b[0m: \u001b[33mWARNING\u001b[0m Config item 'drop_rate' was locked by 'sweep' (ignored update).\n",
      "\u001b[34m\u001b[1mwandb\u001b[0m: \u001b[33mWARNING\u001b[0m Config item 'exclude_class' was locked by 'sweep' (ignored update).\n",
      "\u001b[34m\u001b[1mwandb\u001b[0m: \u001b[33mWARNING\u001b[0m Config item 'merge_polarities' was locked by 'sweep' (ignored update).\n",
      "\u001b[34m\u001b[1mwandb\u001b[0m: \u001b[33mWARNING\u001b[0m Config item 'TIME' was locked by 'sweep' (ignored update).\n"
     ]
    },
    {
     "name": "stdout",
     "output_type": "stream",
     "text": [
      "dataset_hash = 2bbd58b4e0d3c1e9ad501fad8a43feed\n",
      "cache path exists\n",
      "\n",
      "we will exclude the 'other' class. dvsgestrue 10 classes' indices exist. \n",
      "\n",
      "DataParallel(\n",
      "  (module): MY_SNN_FC_sstep(\n",
      "    (layers): MY_Sequential(\n",
      "      (0): MaxPool2d(kernel_size=2, stride=2, padding=0, dilation=1, ceil_mode=False)\n",
      "      (1): MaxPool2d(kernel_size=2, stride=2, padding=0, dilation=1, ceil_mode=False)\n",
      "      (2): DimChanger_for_FC_sstep()\n",
      "      (3): SYNAPSE_FC_trace_sstep()\n",
      "      (4): LIF_layer_trace_sstep()\n",
      "      (5): SYNAPSE_FC_trace_sstep()\n",
      "      (6): LIF_layer_trace_sstep()\n",
      "      (7): SYNAPSE_FC_trace_sstep()\n",
      "    )\n",
      "  )\n",
      ")\n",
      "==================================================\n",
      "My Num of PARAMS: 452,010, system's param_num : 452,010\n",
      "Memory: 1.72MiB at 32-bit\n",
      "==================================================\n"
     ]
    },
    {
     "name": "stderr",
     "output_type": "stream",
     "text": [
      "epoch-0   lr=['0.0093619'], tr/val_loss:  1.838852/  1.499027, tr:  36.98%, val:  55.00%, val_best:  55.00%: 100%|██████████| 62/62 [00:05<00:00, 11.39it/s]                                    \n",
      "epoch-1   lr=['0.0093555'], tr/val_loss:  1.163135/  1.274265, tr:  62.92%, val:  60.00%, val_best:  60.00%: 100%|██████████| 62/62 [00:05<00:00, 11.30it/s]                                    \n",
      "epoch-2   lr=['0.0093363'], tr/val_loss:  1.009997/  1.161100, tr:  65.37%, val:  62.50%, val_best:  62.50%: 100%|██████████| 62/62 [00:05<00:00, 11.78it/s]                                    \n",
      "epoch-3   lr=['0.0093043'], tr/val_loss:  0.918540/  1.137610, tr:  68.44%, val:  63.33%, val_best:  63.33%: 100%|██████████| 62/62 [00:05<00:00, 12.16it/s]                                    \n",
      "epoch-4   lr=['0.0092596'], tr/val_loss:  0.870161/  1.195349, tr:  69.66%, val:  63.75%, val_best:  63.75%: 100%|██████████| 62/62 [00:04<00:00, 12.66it/s]                                    \n",
      "epoch-5   lr=['0.0092024'], tr/val_loss:  0.837013/  1.273379, tr:  68.85%, val:  64.17%, val_best:  64.17%: 100%|██████████| 62/62 [00:05<00:00, 11.66it/s]                                    \n",
      "epoch-6   lr=['0.0091328'], tr/val_loss:  0.728057/  1.192953, tr:  73.24%, val:  62.92%, val_best:  64.17%: 100%|██████████| 62/62 [00:05<00:00, 11.75it/s]                                    \n",
      "epoch-7   lr=['0.0090510'], tr/val_loss:  0.699339/  1.277049, tr:  75.28%, val:  60.42%, val_best:  64.17%: 100%|██████████| 62/62 [00:05<00:00, 11.72it/s]                                    \n",
      "epoch-8   lr=['0.0089572'], tr/val_loss:  0.674666/  1.102549, tr:  77.12%, val:  67.08%, val_best:  67.08%: 100%|██████████| 62/62 [00:05<00:00, 11.91it/s]                                    \n",
      "epoch-9   lr=['0.0088517'], tr/val_loss:  0.525356/  1.277789, tr:  82.43%, val:  68.75%, val_best:  68.75%: 100%|██████████| 62/62 [00:05<00:00, 11.39it/s]                                    \n",
      "epoch-10  lr=['0.0087348'], tr/val_loss:  0.509215/  1.182359, tr:  83.76%, val:  67.92%, val_best:  68.75%: 100%|██████████| 62/62 [00:05<00:00, 11.63it/s]                                    \n",
      "epoch-11  lr=['0.0086067'], tr/val_loss:  0.484576/  1.274364, tr:  83.45%, val:  70.83%, val_best:  70.83%: 100%|██████████| 62/62 [00:05<00:00, 11.64it/s]                                    \n",
      "epoch-12  lr=['0.0084679'], tr/val_loss:  0.480163/  1.228178, tr:  83.15%, val:  74.17%, val_best:  74.17%: 100%|██████████| 62/62 [00:05<00:00, 11.86it/s]                                    \n",
      "epoch-13  lr=['0.0083187'], tr/val_loss:  0.418128/  1.274961, tr:  90.30%, val:  72.50%, val_best:  74.17%: 100%|██████████| 62/62 [00:05<00:00, 12.24it/s]                                    \n",
      "epoch-14  lr=['0.0081596'], tr/val_loss:  0.355927/  1.285680, tr:  91.93%, val:  73.75%, val_best:  74.17%: 100%|██████████| 62/62 [00:05<00:00, 11.76it/s]                                    \n",
      "epoch-15  lr=['0.0079909'], tr/val_loss:  0.326850/  1.307383, tr:  93.67%, val:  74.58%, val_best:  74.58%: 100%|██████████| 62/62 [00:05<00:00, 12.17it/s]                                    \n",
      "epoch-16  lr=['0.0078131'], tr/val_loss:  0.290860/  1.557832, tr:  93.97%, val:  72.92%, val_best:  74.58%: 100%|██████████| 62/62 [04:15<00:00,  4.12s/it]                                    \n",
      "epoch-17  lr=['0.0076268'], tr/val_loss:  0.286763/  1.389862, tr:  94.89%, val:  73.33%, val_best:  74.58%: 100%|██████████| 62/62 [00:05<00:00, 12.16it/s]                                    \n",
      "epoch-18  lr=['0.0074324'], tr/val_loss:  0.250163/  1.406150, tr:  94.89%, val:  76.25%, val_best:  76.25%: 100%|██████████| 62/62 [00:05<00:00, 11.60it/s]                                    \n",
      "epoch-19  lr=['0.0072304'], tr/val_loss:  0.208160/  1.503453, tr:  96.83%, val:  77.92%, val_best:  77.92%: 100%|██████████| 62/62 [00:05<00:00, 11.82it/s]                                    \n",
      "epoch-20  lr=['0.0070214'], tr/val_loss:  0.168536/  1.565878, tr:  99.08%, val:  77.92%, val_best:  77.92%: 100%|██████████| 62/62 [00:04<00:00, 12.84it/s]                                    \n",
      "epoch-21  lr=['0.0068061'], tr/val_loss:  0.123453/  1.711827, tr:  99.59%, val:  76.67%, val_best:  77.92%: 100%|██████████| 62/62 [00:06<00:00,  9.42it/s]                                    \n",
      "epoch-22  lr=['0.0065849'], tr/val_loss:  0.128709/  1.653242, tr:  98.37%, val:  78.75%, val_best:  78.75%: 100%|██████████| 62/62 [00:06<00:00, 10.32it/s]                                    \n",
      "epoch-23  lr=['0.0063585'], tr/val_loss:  0.108984/  1.742920, tr:  99.90%, val:  79.17%, val_best:  79.17%: 100%|██████████| 62/62 [00:05<00:00, 10.70it/s]                                    \n",
      "epoch-24  lr=['0.0061275'], tr/val_loss:  0.081854/  1.908017, tr: 100.00%, val:  77.08%, val_best:  79.17%: 100%|██████████| 62/62 [00:06<00:00,  9.52it/s]                                    \n",
      "epoch-25  lr=['0.0058925'], tr/val_loss:  0.079809/  1.855881, tr:  99.59%, val:  77.50%, val_best:  79.17%: 100%|██████████| 62/62 [00:05<00:00, 10.87it/s]                                    \n",
      "epoch-26  lr=['0.0056542'], tr/val_loss:  0.053997/  1.887357, tr: 100.00%, val:  80.42%, val_best:  80.42%: 100%|██████████| 62/62 [00:05<00:00, 10.53it/s]                                    \n",
      "epoch-27  lr=['0.0054132'], tr/val_loss:  0.041725/  1.922020, tr: 100.00%, val:  80.42%, val_best:  80.42%: 100%|██████████| 62/62 [00:05<00:00, 10.98it/s]                                    \n",
      "epoch-28  lr=['0.0051703'], tr/val_loss:  0.042099/  1.970280, tr: 100.00%, val:  80.83%, val_best:  80.83%: 100%|██████████| 62/62 [00:05<00:00, 11.64it/s]                                    \n",
      "epoch-29  lr=['0.0049259'], tr/val_loss:  0.034753/  1.996901, tr: 100.00%, val:  81.25%, val_best:  81.25%: 100%|██████████| 62/62 [00:05<00:00, 10.70it/s]                                    \n",
      "epoch-30  lr=['0.0046810'], tr/val_loss:  0.027212/  2.027930, tr: 100.00%, val:  81.25%, val_best:  81.25%: 100%|██████████| 62/62 [00:05<00:00, 11.32it/s]                                    \n",
      "epoch-31  lr=['0.0044360'], tr/val_loss:  0.027386/  2.057188, tr: 100.00%, val:  80.42%, val_best:  81.25%: 100%|██████████| 62/62 [00:05<00:00, 10.37it/s]                                    \n",
      "epoch-32  lr=['0.0041917'], tr/val_loss:  0.023974/  2.089741, tr: 100.00%, val:  82.08%, val_best:  82.08%: 100%|██████████| 62/62 [00:05<00:00, 11.56it/s]                                    \n",
      "epoch-33  lr=['0.0039487'], tr/val_loss:  0.017377/  2.112673, tr: 100.00%, val:  81.67%, val_best:  82.08%: 100%|██████████| 62/62 [00:05<00:00, 10.98it/s]                                    \n",
      "epoch-34  lr=['0.0037077'], tr/val_loss:  0.015542/  2.095636, tr: 100.00%, val:  80.83%, val_best:  82.08%: 100%|██████████| 62/62 [00:05<00:00, 10.72it/s]                                    \n",
      "epoch-35  lr=['0.0034694'], tr/val_loss:  0.012591/  2.144871, tr: 100.00%, val:  81.25%, val_best:  82.08%: 100%|██████████| 62/62 [00:05<00:00, 10.99it/s]                                    \n",
      "epoch-36  lr=['0.0032345'], tr/val_loss:  0.011037/  2.146987, tr: 100.00%, val:  81.25%, val_best:  82.08%: 100%|██████████| 62/62 [00:05<00:00, 10.84it/s]                                    \n",
      "epoch-37  lr=['0.0030035'], tr/val_loss:  0.010237/  2.173797, tr: 100.00%, val:  80.83%, val_best:  82.08%: 100%|██████████| 62/62 [00:05<00:00, 10.76it/s]                                    \n",
      "epoch-38  lr=['0.0027770'], tr/val_loss:  0.008748/  2.215587, tr: 100.00%, val:  81.67%, val_best:  82.08%: 100%|██████████| 62/62 [00:05<00:00, 10.72it/s]                                    \n",
      "epoch-39  lr=['0.0025558'], tr/val_loss:  0.007828/  2.225226, tr: 100.00%, val:  79.58%, val_best:  82.08%: 100%|██████████| 62/62 [00:05<00:00, 11.62it/s]                                    \n",
      "epoch-40  lr=['0.0023405'], tr/val_loss:  0.007303/  2.232217, tr: 100.00%, val:  81.25%, val_best:  82.08%: 100%|██████████| 62/62 [00:05<00:00, 11.38it/s]                                    \n",
      "epoch-41  lr=['0.0021315'], tr/val_loss:  0.007025/  2.226572, tr: 100.00%, val:  80.83%, val_best:  82.08%: 100%|██████████| 62/62 [00:05<00:00, 11.09it/s]                                    \n",
      "epoch-42  lr=['0.0019296'], tr/val_loss:  0.006307/  2.246125, tr: 100.00%, val:  81.25%, val_best:  82.08%: 100%|██████████| 62/62 [00:06<00:00, 10.02it/s]                                    \n",
      "epoch-43  lr=['0.0017351'], tr/val_loss:  0.006336/  2.256728, tr: 100.00%, val:  80.42%, val_best:  82.08%: 100%|██████████| 62/62 [00:05<00:00, 10.76it/s]                                    \n",
      "epoch-44  lr=['0.0015488'], tr/val_loss:  0.005981/  2.250573, tr: 100.00%, val:  81.67%, val_best:  82.08%: 100%|██████████| 62/62 [00:05<00:00, 10.99it/s]                                    \n",
      "epoch-45  lr=['0.0013710'], tr/val_loss:  0.005287/  2.252158, tr: 100.00%, val:  82.08%, val_best:  82.08%: 100%|██████████| 62/62 [00:05<00:00, 11.02it/s]                                    \n",
      "epoch-46  lr=['0.0012023'], tr/val_loss:  0.005508/  2.267173, tr: 100.00%, val:  81.67%, val_best:  82.08%: 100%|██████████| 62/62 [00:07<00:00,  8.23it/s]                                    \n",
      "epoch-47  lr=['0.0010432'], tr/val_loss:  0.005355/  2.270142, tr: 100.00%, val:  82.08%, val_best:  82.08%: 100%|██████████| 62/62 [00:06<00:00, 10.28it/s]                                    \n",
      "epoch-48  lr=['0.0008940'], tr/val_loss:  0.005133/  2.269905, tr: 100.00%, val:  81.67%, val_best:  82.08%: 100%|██████████| 62/62 [00:06<00:00, 10.10it/s]                                    \n",
      "epoch-49  lr=['0.0007552'], tr/val_loss:  0.004888/  2.270701, tr: 100.00%, val:  81.25%, val_best:  82.08%: 100%|██████████| 62/62 [00:05<00:00, 10.46it/s]                                    \n",
      "epoch-50  lr=['0.0006271'], tr/val_loss:  0.005093/  2.268974, tr: 100.00%, val:  81.25%, val_best:  82.08%: 100%|██████████| 62/62 [00:05<00:00, 11.02it/s]                                    \n",
      "epoch-51  lr=['0.0005102'], tr/val_loss:  0.004990/  2.275349, tr: 100.00%, val:  81.25%, val_best:  82.08%: 100%|██████████| 62/62 [00:05<00:00, 10.98it/s]                                    \n",
      "epoch-52  lr=['0.0004047'], tr/val_loss:  0.004764/  2.275448, tr: 100.00%, val:  81.25%, val_best:  82.08%: 100%|██████████| 62/62 [00:05<00:00, 11.12it/s]                                    \n",
      "epoch-53  lr=['0.0003109'], tr/val_loss:  0.004714/  2.278803, tr: 100.00%, val:  81.67%, val_best:  82.08%: 100%|██████████| 62/62 [00:05<00:00, 11.69it/s]                                    \n",
      "epoch-54  lr=['0.0002291'], tr/val_loss:  0.004817/  2.280590, tr: 100.00%, val:  81.67%, val_best:  82.08%: 100%|██████████| 62/62 [00:05<00:00, 11.51it/s]                                    \n",
      "epoch-55  lr=['0.0001595'], tr/val_loss:  0.004665/  2.281782, tr: 100.00%, val:  81.67%, val_best:  82.08%: 100%|██████████| 62/62 [00:05<00:00, 11.18it/s]                                    \n",
      "epoch-56  lr=['0.0001023'], tr/val_loss:  0.004772/  2.281441, tr: 100.00%, val:  81.67%, val_best:  82.08%: 100%|██████████| 62/62 [00:05<00:00, 10.82it/s]                                    \n",
      "epoch-57  lr=['0.0000576'], tr/val_loss:  0.004671/  2.283296, tr: 100.00%, val:  81.67%, val_best:  82.08%: 100%|██████████| 62/62 [00:05<00:00, 10.41it/s]                                    \n",
      "epoch-58  lr=['0.0000256'], tr/val_loss:  0.004613/  2.283080, tr: 100.00%, val:  81.67%, val_best:  82.08%: 100%|██████████| 62/62 [00:06<00:00, 10.26it/s]                                    \n",
      "epoch-59  lr=['0.0000064'], tr/val_loss:  0.004755/  2.282904, tr: 100.00%, val:  81.67%, val_best:  82.08%: 100%|██████████| 62/62 [00:05<00:00, 10.48it/s]                                    \n"
     ]
    },
    {
     "data": {
      "application/vnd.jupyter.widget-view+json": {
       "model_id": "19238f4c213445e9a438f792dea80a59",
       "version_major": 2,
       "version_minor": 0
      },
      "text/plain": [
       "VBox(children=(Label(value='4.956 MB of 4.956 MB uploaded\\r'), FloatProgress(value=1.0, max=1.0)))"
      ]
     },
     "metadata": {},
     "output_type": "display_data"
    },
    {
     "data": {
      "text/html": [
       "<style>\n",
       "    table.wandb td:nth-child(1) { padding: 0 10px; text-align: left ; width: auto;} td:nth-child(2) {text-align: left ; width: 100%}\n",
       "    .wandb-row { display: flex; flex-direction: row; flex-wrap: wrap; justify-content: flex-start; width: 100% }\n",
       "    .wandb-col { display: flex; flex-direction: column; flex-basis: 100%; flex: 1; padding: 10px; }\n",
       "    </style>\n",
       "<div class=\"wandb-row\"><div class=\"wandb-col\"><h3>Run history:</h3><br/><table class=\"wandb\"><tr><td>DFA_flag</td><td>▁▁▁▁▁▁▁▁▁▁▁▁▁▁▁▁▁▁▁▁▁▁▁▁▁▁▁▁▁▁▁▁▁▁▁▁▁▁▁▁</td></tr><tr><td>epoch</td><td>▁▁▁▁▂▂▂▂▂▃▃▃▃▃▃▄▄▄▄▄▅▅▅▅▅▆▆▆▆▆▆▇▇▇▇▇████</td></tr><tr><td>iter_acc</td><td>▁▅▆▅▅▅▅▇▆▇██▇███████████████████████████</td></tr><tr><td>summary_val_acc</td><td>▁▆▆▆▆▆▇▇▇▇▇▇▇███████████████████████████</td></tr><tr><td>tr_acc</td><td>▁▄▆▆▆▆▆▇▇▇▇█████████████████████████████</td></tr><tr><td>tr_epoch_loss</td><td>▁█▅▄▄▄▄▃▃▃▂▂▂▂▂▁▁▁▁▁▁▁▁▁▁▁▁▁▁▁▁▁▁▁▁▁▁▁▁▁</td></tr><tr><td>val_acc_best</td><td>▁▆▆▆▆▆▇▇▇▇▇▇▇███████████████████████████</td></tr><tr><td>val_acc_now</td><td>▁▆▆▆▆▆▇▇▇▇▇▇▇███████████████████████████</td></tr><tr><td>val_loss</td><td>▁▆▅▄▅▅▄▅▅▅▅▆▅▆▆▆▆▇▇▇▇▇▇▇████████████████</td></tr></table><br/></div><div class=\"wandb-col\"><h3>Run summary:</h3><br/><table class=\"wandb\"><tr><td>DFA_flag</td><td>0.0</td></tr><tr><td>epoch</td><td>59</td></tr><tr><td>iter_acc</td><td>1.0</td></tr><tr><td>tr_acc</td><td>1.0</td></tr><tr><td>tr_epoch_loss</td><td>0.00475</td></tr><tr><td>val_acc_best</td><td>0.82083</td></tr><tr><td>val_acc_now</td><td>0.81667</td></tr><tr><td>val_loss</td><td>2.2829</td></tr></table><br/></div></div>"
      ],
      "text/plain": [
       "<IPython.core.display.HTML object>"
      ]
     },
     "metadata": {},
     "output_type": "display_data"
    },
    {
     "data": {
      "text/html": [
       " View run <strong style=\"color:#cdcd00\">charmed-sweep-71</strong> at: <a href='https://wandb.ai/bhkim003-seoul-national-university/my_snn%20main/runs/y8kbe7cp' target=\"_blank\">https://wandb.ai/bhkim003-seoul-national-university/my_snn%20main/runs/y8kbe7cp</a><br/> View project at: <a href='https://wandb.ai/bhkim003-seoul-national-university/my_snn%20main' target=\"_blank\">https://wandb.ai/bhkim003-seoul-national-university/my_snn%20main</a><br/>Synced 7 W&B file(s), 0 media file(s), 0 artifact file(s) and 1 other file(s)"
      ],
      "text/plain": [
       "<IPython.core.display.HTML object>"
      ]
     },
     "metadata": {},
     "output_type": "display_data"
    },
    {
     "data": {
      "text/html": [
       "Find logs at: <code>./wandb/run-20240821_183646-y8kbe7cp/logs</code>"
      ],
      "text/plain": [
       "<IPython.core.display.HTML object>"
      ]
     },
     "metadata": {},
     "output_type": "display_data"
    },
    {
     "data": {
      "text/html": [
       "The new W&B backend becomes opt-out in version 0.18.0; try it out with `wandb.require(\"core\")`! See https://wandb.me/wandb-core for more information."
      ],
      "text/plain": [
       "<IPython.core.display.HTML object>"
      ]
     },
     "metadata": {},
     "output_type": "display_data"
    },
    {
     "name": "stderr",
     "output_type": "stream",
     "text": [
      "\u001b[34m\u001b[1mwandb\u001b[0m: Agent Starting Run: 2g6mthtn with config:\n",
      "\u001b[34m\u001b[1mwandb\u001b[0m: \tBATCH: 16\n",
      "\u001b[34m\u001b[1mwandb\u001b[0m: \tDFA_on: False\n",
      "\u001b[34m\u001b[1mwandb\u001b[0m: \tIMAGE_SIZE: 128\n",
      "\u001b[34m\u001b[1mwandb\u001b[0m: \tOTTT_input_trace_on: False\n",
      "\u001b[34m\u001b[1mwandb\u001b[0m: \tOTTT_sWS_on: False\n",
      "\u001b[34m\u001b[1mwandb\u001b[0m: \tTIME: 10\n",
      "\u001b[34m\u001b[1mwandb\u001b[0m: \tcfg: ['M', 'M', 200, 200]\n",
      "\u001b[34m\u001b[1mwandb\u001b[0m: \tconst2: False\n",
      "\u001b[34m\u001b[1mwandb\u001b[0m: \tdecay: 0.15317287994331452\n",
      "\u001b[34m\u001b[1mwandb\u001b[0m: \tdrop_rate: 0\n",
      "\u001b[34m\u001b[1mwandb\u001b[0m: \tdvs_clipping: 2\n",
      "\u001b[34m\u001b[1mwandb\u001b[0m: \tdvs_duration: 100000\n",
      "\u001b[34m\u001b[1mwandb\u001b[0m: \te_transport_swap: 0\n",
      "\u001b[34m\u001b[1mwandb\u001b[0m: \te_transport_swap_tr: 0\n",
      "\u001b[34m\u001b[1mwandb\u001b[0m: \tepoch_num: 60\n",
      "\u001b[34m\u001b[1mwandb\u001b[0m: \texclude_class: True\n",
      "\u001b[34m\u001b[1mwandb\u001b[0m: \tlearning_rate: 0.00936191669529645\n",
      "\u001b[34m\u001b[1mwandb\u001b[0m: \tmerge_polarities: False\n",
      "\u001b[34m\u001b[1mwandb\u001b[0m: \tsurrogate: hard_sigmoid\n",
      "\u001b[34m\u001b[1mwandb\u001b[0m: \twhich_data: DVS_GESTURE_TONIC\n",
      "Failed to detect the name of this notebook, you can set it manually with the WANDB_NOTEBOOK_NAME environment variable to enable code saving.\n"
     ]
    },
    {
     "data": {
      "text/html": [
       "wandb version 0.17.7 is available!  To upgrade, please run:\n",
       " $ pip install wandb --upgrade"
      ],
      "text/plain": [
       "<IPython.core.display.HTML object>"
      ]
     },
     "metadata": {},
     "output_type": "display_data"
    },
    {
     "data": {
      "text/html": [
       "Tracking run with wandb version 0.17.5"
      ],
      "text/plain": [
       "<IPython.core.display.HTML object>"
      ]
     },
     "metadata": {},
     "output_type": "display_data"
    },
    {
     "data": {
      "text/html": [
       "Run data is saved locally in <code>/nfs/home/bhkim003/github_folder/ByeonghyeonKim/my_snn/wandb/run-20240821_184700-2g6mthtn</code>"
      ],
      "text/plain": [
       "<IPython.core.display.HTML object>"
      ]
     },
     "metadata": {},
     "output_type": "display_data"
    },
    {
     "data": {
      "text/html": [
       "Syncing run <strong><a href='https://wandb.ai/bhkim003-seoul-national-university/my_snn%20main/runs/2g6mthtn' target=\"_blank\">absurd-sweep-74</a></strong> to <a href='https://wandb.ai/bhkim003-seoul-national-university/my_snn%20main' target=\"_blank\">Weights & Biases</a> (<a href='https://wandb.me/run' target=\"_blank\">docs</a>)<br/>Sweep page: <a href='https://wandb.ai/bhkim003-seoul-national-university/my_snn%20main/sweeps/gqhgeaun' target=\"_blank\">https://wandb.ai/bhkim003-seoul-national-university/my_snn%20main/sweeps/gqhgeaun</a>"
      ],
      "text/plain": [
       "<IPython.core.display.HTML object>"
      ]
     },
     "metadata": {},
     "output_type": "display_data"
    },
    {
     "data": {
      "text/html": [
       " View project at <a href='https://wandb.ai/bhkim003-seoul-national-university/my_snn%20main' target=\"_blank\">https://wandb.ai/bhkim003-seoul-national-university/my_snn%20main</a>"
      ],
      "text/plain": [
       "<IPython.core.display.HTML object>"
      ]
     },
     "metadata": {},
     "output_type": "display_data"
    },
    {
     "data": {
      "text/html": [
       " View sweep at <a href='https://wandb.ai/bhkim003-seoul-national-university/my_snn%20main/sweeps/gqhgeaun' target=\"_blank\">https://wandb.ai/bhkim003-seoul-national-university/my_snn%20main/sweeps/gqhgeaun</a>"
      ],
      "text/plain": [
       "<IPython.core.display.HTML object>"
      ]
     },
     "metadata": {},
     "output_type": "display_data"
    },
    {
     "data": {
      "text/html": [
       " View run at <a href='https://wandb.ai/bhkim003-seoul-national-university/my_snn%20main/runs/2g6mthtn' target=\"_blank\">https://wandb.ai/bhkim003-seoul-national-university/my_snn%20main/runs/2g6mthtn</a>"
      ],
      "text/plain": [
       "<IPython.core.display.HTML object>"
      ]
     },
     "metadata": {},
     "output_type": "display_data"
    },
    {
     "name": "stderr",
     "output_type": "stream",
     "text": [
      "\u001b[34m\u001b[1mwandb\u001b[0m: \u001b[33mWARNING\u001b[0m Config item 'BATCH' was locked by 'sweep' (ignored update).\n",
      "\u001b[34m\u001b[1mwandb\u001b[0m: \u001b[33mWARNING\u001b[0m Config item 'IMAGE_SIZE' was locked by 'sweep' (ignored update).\n",
      "\u001b[34m\u001b[1mwandb\u001b[0m: \u001b[33mWARNING\u001b[0m Config item 'which_data' was locked by 'sweep' (ignored update).\n",
      "\u001b[34m\u001b[1mwandb\u001b[0m: \u001b[33mWARNING\u001b[0m Config item 'cfg' was locked by 'sweep' (ignored update).\n",
      "\u001b[34m\u001b[1mwandb\u001b[0m: \u001b[33mWARNING\u001b[0m Config item 'learning_rate' was locked by 'sweep' (ignored update).\n",
      "\u001b[34m\u001b[1mwandb\u001b[0m: \u001b[33mWARNING\u001b[0m Config item 'epoch_num' was locked by 'sweep' (ignored update).\n",
      "\u001b[34m\u001b[1mwandb\u001b[0m: \u001b[33mWARNING\u001b[0m Config item 'surrogate' was locked by 'sweep' (ignored update).\n",
      "\u001b[34m\u001b[1mwandb\u001b[0m: \u001b[33mWARNING\u001b[0m Config item 'dvs_clipping' was locked by 'sweep' (ignored update).\n",
      "\u001b[34m\u001b[1mwandb\u001b[0m: \u001b[33mWARNING\u001b[0m Config item 'dvs_duration' was locked by 'sweep' (ignored update).\n",
      "\u001b[34m\u001b[1mwandb\u001b[0m: \u001b[33mWARNING\u001b[0m Config item 'OTTT_sWS_on' was locked by 'sweep' (ignored update).\n",
      "\u001b[34m\u001b[1mwandb\u001b[0m: \u001b[33mWARNING\u001b[0m Config item 'DFA_on' was locked by 'sweep' (ignored update).\n",
      "\u001b[34m\u001b[1mwandb\u001b[0m: \u001b[33mWARNING\u001b[0m Config item 'OTTT_input_trace_on' was locked by 'sweep' (ignored update).\n",
      "\u001b[34m\u001b[1mwandb\u001b[0m: \u001b[33mWARNING\u001b[0m Config item 'e_transport_swap' was locked by 'sweep' (ignored update).\n",
      "\u001b[34m\u001b[1mwandb\u001b[0m: \u001b[33mWARNING\u001b[0m Config item 'e_transport_swap_tr' was locked by 'sweep' (ignored update).\n",
      "\u001b[34m\u001b[1mwandb\u001b[0m: \u001b[33mWARNING\u001b[0m Config item 'drop_rate' was locked by 'sweep' (ignored update).\n",
      "\u001b[34m\u001b[1mwandb\u001b[0m: \u001b[33mWARNING\u001b[0m Config item 'exclude_class' was locked by 'sweep' (ignored update).\n",
      "\u001b[34m\u001b[1mwandb\u001b[0m: \u001b[33mWARNING\u001b[0m Config item 'merge_polarities' was locked by 'sweep' (ignored update).\n",
      "\u001b[34m\u001b[1mwandb\u001b[0m: \u001b[33mWARNING\u001b[0m Config item 'TIME' was locked by 'sweep' (ignored update).\n"
     ]
    },
    {
     "name": "stdout",
     "output_type": "stream",
     "text": [
      "dataset_hash = 2bbd58b4e0d3c1e9ad501fad8a43feed\n",
      "cache path exists\n",
      "\n",
      "we will exclude the 'other' class. dvsgestrue 10 classes' indices exist. \n",
      "\n",
      "DataParallel(\n",
      "  (module): MY_SNN_FC_sstep(\n",
      "    (layers): MY_Sequential(\n",
      "      (0): MaxPool2d(kernel_size=2, stride=2, padding=0, dilation=1, ceil_mode=False)\n",
      "      (1): MaxPool2d(kernel_size=2, stride=2, padding=0, dilation=1, ceil_mode=False)\n",
      "      (2): DimChanger_for_FC_sstep()\n",
      "      (3): SYNAPSE_FC_trace_sstep()\n",
      "      (4): LIF_layer_trace_sstep()\n",
      "      (5): SYNAPSE_FC_trace_sstep()\n",
      "      (6): LIF_layer_trace_sstep()\n",
      "      (7): SYNAPSE_FC_trace_sstep()\n",
      "    )\n",
      "  )\n",
      ")\n",
      "==================================================\n",
      "My Num of PARAMS: 452,010, system's param_num : 452,010\n",
      "Memory: 1.72MiB at 32-bit\n",
      "==================================================\n"
     ]
    },
    {
     "name": "stderr",
     "output_type": "stream",
     "text": [
      "epoch-0   lr=['0.0093619'], tr/val_loss:  1.822670/  1.488149, tr:  37.49%, val:  54.17%, val_best:  54.17%: 100%|██████████| 62/62 [00:06<00:00,  9.16it/s]                                    \n",
      "epoch-1   lr=['0.0093555'], tr/val_loss:  1.155878/  1.280226, tr:  62.41%, val:  59.17%, val_best:  59.17%: 100%|██████████| 62/62 [00:05<00:00, 10.72it/s]                                    \n",
      "epoch-2   lr=['0.0093363'], tr/val_loss:  0.994795/  1.164395, tr:  65.68%, val:  64.17%, val_best:  64.17%: 100%|██████████| 62/62 [00:05<00:00, 11.09it/s]                                    \n",
      "epoch-3   lr=['0.0093043'], tr/val_loss:  0.908820/  1.136057, tr:  68.54%, val:  64.17%, val_best:  64.17%: 100%|██████████| 62/62 [00:05<00:00, 11.02it/s]                                    \n",
      "epoch-4   lr=['0.0092596'], tr/val_loss:  0.864123/  1.214893, tr:  69.36%, val:  62.50%, val_best:  64.17%: 100%|██████████| 62/62 [00:05<00:00, 11.58it/s]                                    \n",
      "epoch-5   lr=['0.0092024'], tr/val_loss:  0.826604/  1.295293, tr:  68.44%, val:  62.50%, val_best:  64.17%: 100%|██████████| 62/62 [00:05<00:00, 10.73it/s]                                    \n",
      "epoch-6   lr=['0.0091328'], tr/val_loss:  0.714085/  1.173830, tr:  74.57%, val:  62.50%, val_best:  64.17%: 100%|██████████| 62/62 [00:05<00:00, 11.52it/s]                                    \n",
      "epoch-7   lr=['0.0090510'], tr/val_loss:  0.684925/  1.330572, tr:  75.59%, val:  59.58%, val_best:  64.17%: 100%|██████████| 62/62 [00:05<00:00, 10.64it/s]                                    \n",
      "epoch-8   lr=['0.0089572'], tr/val_loss:  0.672871/  1.130153, tr:  76.20%, val:  67.50%, val_best:  67.50%: 100%|██████████| 62/62 [00:06<00:00, 10.22it/s]                                    \n",
      "epoch-9   lr=['0.0088517'], tr/val_loss:  0.501978/  1.272377, tr:  83.25%, val:  72.08%, val_best:  72.08%: 100%|██████████| 62/62 [00:05<00:00, 11.82it/s]                                    \n",
      "epoch-10  lr=['0.0087348'], tr/val_loss:  0.491609/  1.181273, tr:  85.19%, val:  66.67%, val_best:  72.08%: 100%|██████████| 62/62 [00:05<00:00, 12.06it/s]                                    \n",
      "epoch-11  lr=['0.0086067'], tr/val_loss:  0.475686/  1.238215, tr:  84.17%, val:  71.67%, val_best:  72.08%: 100%|██████████| 62/62 [00:05<00:00, 12.14it/s]                                    \n",
      "epoch-12  lr=['0.0084679'], tr/val_loss:  0.458876/  1.192949, tr:  85.39%, val:  76.67%, val_best:  76.67%: 100%|██████████| 62/62 [00:05<00:00, 12.19it/s]                                    \n",
      "epoch-13  lr=['0.0083187'], tr/val_loss:  0.408749/  1.215766, tr:  90.60%, val:  75.00%, val_best:  76.67%: 100%|██████████| 62/62 [00:05<00:00, 12.24it/s]                                    \n",
      "epoch-14  lr=['0.0081596'], tr/val_loss:  0.334976/  1.316932, tr:  91.62%, val:  72.50%, val_best:  76.67%: 100%|██████████| 62/62 [00:04<00:00, 12.77it/s]                                    \n",
      "epoch-15  lr=['0.0079909'], tr/val_loss:  0.325702/  1.304849, tr:  92.13%, val:  76.25%, val_best:  76.67%: 100%|██████████| 62/62 [00:05<00:00, 10.69it/s]                                    \n",
      "epoch-16  lr=['0.0078131'], tr/val_loss:  0.278411/  1.544253, tr:  94.08%, val:  72.92%, val_best:  76.67%: 100%|██████████| 62/62 [00:05<00:00, 10.40it/s]                                    \n",
      "epoch-17  lr=['0.0076268'], tr/val_loss:  0.265054/  1.378639, tr:  94.89%, val:  74.17%, val_best:  76.67%: 100%|██████████| 62/62 [00:07<00:00,  8.16it/s]                                    \n",
      "epoch-18  lr=['0.0074324'], tr/val_loss:  0.253276/  1.340886, tr:  94.38%, val:  77.08%, val_best:  77.08%: 100%|██████████| 62/62 [00:04<00:00, 12.45it/s]                                    \n",
      "epoch-19  lr=['0.0072304'], tr/val_loss:  0.186866/  1.473366, tr:  97.55%, val:  78.75%, val_best:  78.75%: 100%|██████████| 62/62 [00:05<00:00, 11.73it/s]                                    \n",
      "epoch-20  lr=['0.0070214'], tr/val_loss:  0.148901/  1.598249, tr:  99.08%, val:  76.67%, val_best:  78.75%: 100%|██████████| 62/62 [00:05<00:00, 10.93it/s]                                    \n",
      "epoch-21  lr=['0.0068061'], tr/val_loss:  0.108159/  1.694165, tr:  99.59%, val:  78.33%, val_best:  78.75%: 100%|██████████| 62/62 [00:07<00:00,  8.59it/s]                                    \n",
      "epoch-22  lr=['0.0065849'], tr/val_loss:  0.128191/  1.625541, tr:  98.16%, val:  78.33%, val_best:  78.75%: 100%|██████████| 62/62 [00:09<00:00,  6.68it/s]                                    \n",
      "epoch-23  lr=['0.0063585'], tr/val_loss:  0.097673/  1.629236, tr:  99.80%, val:  79.58%, val_best:  79.58%: 100%|██████████| 62/62 [00:06<00:00,  9.50it/s]                                    \n",
      "epoch-24  lr=['0.0061275'], tr/val_loss:  0.082359/  1.868354, tr: 100.00%, val:  74.58%, val_best:  79.58%: 100%|██████████| 62/62 [00:06<00:00,  9.36it/s]                                    \n",
      "epoch-25  lr=['0.0058925'], tr/val_loss:  0.069498/  1.817909, tr:  99.90%, val:  75.42%, val_best:  79.58%: 100%|██████████| 62/62 [00:07<00:00,  8.37it/s]                                    \n",
      "epoch-26  lr=['0.0056542'], tr/val_loss:  0.052321/  1.769239, tr: 100.00%, val:  81.67%, val_best:  81.67%: 100%|██████████| 62/62 [00:09<00:00,  6.36it/s]                                    \n",
      "epoch-27  lr=['0.0054132'], tr/val_loss:  0.043501/  1.889586, tr: 100.00%, val:  78.33%, val_best:  81.67%: 100%|██████████| 62/62 [00:08<00:00,  7.44it/s]                                    \n",
      "epoch-28  lr=['0.0051703'], tr/val_loss:  0.039875/  1.932964, tr: 100.00%, val:  78.75%, val_best:  81.67%: 100%|██████████| 62/62 [00:06<00:00,  9.88it/s]                                    \n",
      "epoch-29  lr=['0.0049259'], tr/val_loss:  0.033587/  1.912095, tr: 100.00%, val:  80.42%, val_best:  81.67%: 100%|██████████| 62/62 [00:05<00:00, 11.09it/s]                                    \n",
      "epoch-30  lr=['0.0046810'], tr/val_loss:  0.030955/  1.973147, tr: 100.00%, val:  80.00%, val_best:  81.67%: 100%|██████████| 62/62 [00:05<00:00, 10.56it/s]                                    \n",
      "epoch-31  lr=['0.0044360'], tr/val_loss:  0.022552/  1.974074, tr: 100.00%, val:  79.58%, val_best:  81.67%: 100%|██████████| 62/62 [00:05<00:00, 10.65it/s]                                    \n",
      "epoch-32  lr=['0.0041917'], tr/val_loss:  0.018077/  2.050834, tr: 100.00%, val:  78.33%, val_best:  81.67%: 100%|██████████| 62/62 [00:05<00:00, 11.32it/s]                                    \n",
      "epoch-33  lr=['0.0039487'], tr/val_loss:  0.016248/  2.046666, tr: 100.00%, val:  80.42%, val_best:  81.67%: 100%|██████████| 62/62 [00:05<00:00, 11.43it/s]                                    \n",
      "epoch-34  lr=['0.0037077'], tr/val_loss:  0.013610/  2.063287, tr: 100.00%, val:  79.58%, val_best:  81.67%: 100%|██████████| 62/62 [00:05<00:00, 10.76it/s]                                    \n",
      "epoch-35  lr=['0.0034694'], tr/val_loss:  0.010792/  2.082161, tr: 100.00%, val:  80.83%, val_best:  81.67%: 100%|██████████| 62/62 [00:05<00:00, 10.35it/s]                                    \n",
      "epoch-36  lr=['0.0032345'], tr/val_loss:  0.009467/  2.089265, tr: 100.00%, val:  80.83%, val_best:  81.67%: 100%|██████████| 62/62 [00:06<00:00, 10.22it/s]                                    \n",
      "epoch-37  lr=['0.0030035'], tr/val_loss:  0.009265/  2.081446, tr: 100.00%, val:  80.42%, val_best:  81.67%: 100%|██████████| 62/62 [00:05<00:00, 10.89it/s]                                    \n",
      "epoch-38  lr=['0.0027770'], tr/val_loss:  0.007906/  2.099309, tr: 100.00%, val:  80.83%, val_best:  81.67%: 100%|██████████| 62/62 [00:06<00:00, 10.28it/s]                                    \n",
      "epoch-39  lr=['0.0025558'], tr/val_loss:  0.006706/  2.103262, tr: 100.00%, val:  80.42%, val_best:  81.67%: 100%|██████████| 62/62 [00:05<00:00, 10.85it/s]                                    \n",
      "epoch-40  lr=['0.0023405'], tr/val_loss:  0.006630/  2.127387, tr: 100.00%, val:  80.00%, val_best:  81.67%: 100%|██████████| 62/62 [00:05<00:00, 11.09it/s]                                    \n",
      "epoch-41  lr=['0.0021315'], tr/val_loss:  0.006294/  2.141833, tr: 100.00%, val:  79.58%, val_best:  81.67%: 100%|██████████| 62/62 [00:05<00:00, 11.41it/s]                                    \n",
      "epoch-42  lr=['0.0019296'], tr/val_loss:  0.005643/  2.129545, tr: 100.00%, val:  80.00%, val_best:  81.67%: 100%|██████████| 62/62 [00:05<00:00, 10.68it/s]                                    \n",
      "epoch-43  lr=['0.0017351'], tr/val_loss:  0.005575/  2.137050, tr: 100.00%, val:  80.00%, val_best:  81.67%: 100%|██████████| 62/62 [00:05<00:00, 10.88it/s]                                    \n",
      "epoch-44  lr=['0.0015488'], tr/val_loss:  0.005175/  2.154794, tr: 100.00%, val:  80.00%, val_best:  81.67%: 100%|██████████| 62/62 [00:05<00:00, 11.05it/s]                                    \n",
      "epoch-45  lr=['0.0013710'], tr/val_loss:  0.005387/  2.154392, tr: 100.00%, val:  80.42%, val_best:  81.67%: 100%|██████████| 62/62 [00:05<00:00, 11.40it/s]                                    \n",
      "epoch-46  lr=['0.0012023'], tr/val_loss:  0.004677/  2.155895, tr: 100.00%, val:  80.00%, val_best:  81.67%: 100%|██████████| 62/62 [00:05<00:00, 10.93it/s]                                    \n",
      "epoch-47  lr=['0.0010432'], tr/val_loss:  0.004853/  2.169014, tr: 100.00%, val:  80.00%, val_best:  81.67%: 100%|██████████| 62/62 [00:05<00:00, 10.84it/s]                                    \n",
      "epoch-48  lr=['0.0008940'], tr/val_loss:  0.004736/  2.165359, tr: 100.00%, val:  80.00%, val_best:  81.67%: 100%|██████████| 62/62 [00:05<00:00, 11.04it/s]                                    \n",
      "epoch-49  lr=['0.0007552'], tr/val_loss:  0.004818/  2.172445, tr: 100.00%, val:  79.58%, val_best:  81.67%: 100%|██████████| 62/62 [00:05<00:00, 11.33it/s]                                    \n",
      "epoch-50  lr=['0.0006271'], tr/val_loss:  0.004595/  2.180665, tr: 100.00%, val:  80.42%, val_best:  81.67%: 100%|██████████| 62/62 [00:05<00:00, 10.73it/s]                                    \n",
      "epoch-51  lr=['0.0005102'], tr/val_loss:  0.004435/  2.188017, tr: 100.00%, val:  80.00%, val_best:  81.67%: 100%|██████████| 62/62 [00:05<00:00, 10.60it/s]                                    \n",
      "epoch-52  lr=['0.0004047'], tr/val_loss:  0.004353/  2.195269, tr: 100.00%, val:  80.00%, val_best:  81.67%: 100%|██████████| 62/62 [00:05<00:00, 10.95it/s]                                    \n",
      "epoch-53  lr=['0.0003109'], tr/val_loss:  0.004340/  2.192203, tr: 100.00%, val:  80.00%, val_best:  81.67%: 100%|██████████| 62/62 [00:05<00:00, 10.79it/s]                                    \n",
      "epoch-54  lr=['0.0002291'], tr/val_loss:  0.004188/  2.196963, tr: 100.00%, val:  80.42%, val_best:  81.67%: 100%|██████████| 62/62 [00:06<00:00, 10.17it/s]                                    \n",
      "epoch-55  lr=['0.0001595'], tr/val_loss:  0.004104/  2.199690, tr: 100.00%, val:  80.42%, val_best:  81.67%: 100%|██████████| 62/62 [00:05<00:00, 10.98it/s]                                    \n",
      "epoch-56  lr=['0.0001023'], tr/val_loss:  0.004247/  2.198423, tr: 100.00%, val:  80.42%, val_best:  81.67%: 100%|██████████| 62/62 [00:05<00:00, 10.77it/s]                                    \n",
      "epoch-57  lr=['0.0000576'], tr/val_loss:  0.004166/  2.199768, tr: 100.00%, val:  80.42%, val_best:  81.67%: 100%|██████████| 62/62 [00:05<00:00, 10.66it/s]                                    \n",
      "epoch-58  lr=['0.0000256'], tr/val_loss:  0.004115/  2.199290, tr: 100.00%, val:  80.42%, val_best:  81.67%: 100%|██████████| 62/62 [00:05<00:00, 10.41it/s]                                    \n",
      "epoch-59  lr=['0.0000064'], tr/val_loss:  0.004140/  2.199413, tr: 100.00%, val:  80.42%, val_best:  81.67%: 100%|██████████| 62/62 [00:06<00:00, 10.13it/s]                                    \n"
     ]
    },
    {
     "data": {
      "application/vnd.jupyter.widget-view+json": {
       "model_id": "10b1526b027a4b6899dd3515ba85216a",
       "version_major": 2,
       "version_minor": 0
      },
      "text/plain": [
       "VBox(children=(Label(value='4.956 MB of 4.956 MB uploaded\\r'), FloatProgress(value=1.0, max=1.0)))"
      ]
     },
     "metadata": {},
     "output_type": "display_data"
    },
    {
     "data": {
      "text/html": [
       "<style>\n",
       "    table.wandb td:nth-child(1) { padding: 0 10px; text-align: left ; width: auto;} td:nth-child(2) {text-align: left ; width: 100%}\n",
       "    .wandb-row { display: flex; flex-direction: row; flex-wrap: wrap; justify-content: flex-start; width: 100% }\n",
       "    .wandb-col { display: flex; flex-direction: column; flex-basis: 100%; flex: 1; padding: 10px; }\n",
       "    </style>\n",
       "<div class=\"wandb-row\"><div class=\"wandb-col\"><h3>Run history:</h3><br/><table class=\"wandb\"><tr><td>DFA_flag</td><td>▁▁▁▁▁▁▁▁▁▁▁▁▁▁▁▁▁▁▁▁▁▁▁▁▁▁▁▁▁▁▁▁▁▁▁▁▁▁▁▁</td></tr><tr><td>epoch</td><td>▁▁▁▁▂▂▂▂▂▃▃▃▃▃▃▄▄▄▄▄▅▅▅▅▅▆▆▆▆▆▆▇▇▇▇▇████</td></tr><tr><td>iter_acc</td><td>▁▅▆▆▅▅▆▇▆▆▇▇▇███████████████████████████</td></tr><tr><td>summary_val_acc</td><td>▁▆▆▆▆▆▇▇▇█▇▇▇████▇██████████████████████</td></tr><tr><td>tr_acc</td><td>▁▄▆▆▆▆▆▇▇▇▇█████████████████████████████</td></tr><tr><td>tr_epoch_loss</td><td>▁█▅▄▄▄▄▃▃▃▂▂▂▂▂▁▁▁▁▁▁▁▁▁▁▁▁▁▁▁▁▁▁▁▁▁▁▁▁▁</td></tr><tr><td>val_acc_best</td><td>▁▆▆▆▆▆▇▇▇███████████████████████████████</td></tr><tr><td>val_acc_now</td><td>▁▆▆▆▆▆▇▇▇█▇▇▇████▇██████████████████████</td></tr><tr><td>val_loss</td><td>▁▆▅▅▅▅▅▅▅▅▅▆▅▆▆▆▆▇▇▇▇▇██████████████████</td></tr></table><br/></div><div class=\"wandb-col\"><h3>Run summary:</h3><br/><table class=\"wandb\"><tr><td>DFA_flag</td><td>0.0</td></tr><tr><td>epoch</td><td>59</td></tr><tr><td>iter_acc</td><td>1.0</td></tr><tr><td>tr_acc</td><td>1.0</td></tr><tr><td>tr_epoch_loss</td><td>0.00414</td></tr><tr><td>val_acc_best</td><td>0.81667</td></tr><tr><td>val_acc_now</td><td>0.80417</td></tr><tr><td>val_loss</td><td>2.19941</td></tr></table><br/></div></div>"
      ],
      "text/plain": [
       "<IPython.core.display.HTML object>"
      ]
     },
     "metadata": {},
     "output_type": "display_data"
    },
    {
     "data": {
      "text/html": [
       " View run <strong style=\"color:#cdcd00\">absurd-sweep-74</strong> at: <a href='https://wandb.ai/bhkim003-seoul-national-university/my_snn%20main/runs/2g6mthtn' target=\"_blank\">https://wandb.ai/bhkim003-seoul-national-university/my_snn%20main/runs/2g6mthtn</a><br/> View project at: <a href='https://wandb.ai/bhkim003-seoul-national-university/my_snn%20main' target=\"_blank\">https://wandb.ai/bhkim003-seoul-national-university/my_snn%20main</a><br/>Synced 7 W&B file(s), 0 media file(s), 0 artifact file(s) and 1 other file(s)"
      ],
      "text/plain": [
       "<IPython.core.display.HTML object>"
      ]
     },
     "metadata": {},
     "output_type": "display_data"
    },
    {
     "data": {
      "text/html": [
       "Find logs at: <code>./wandb/run-20240821_184700-2g6mthtn/logs</code>"
      ],
      "text/plain": [
       "<IPython.core.display.HTML object>"
      ]
     },
     "metadata": {},
     "output_type": "display_data"
    },
    {
     "data": {
      "text/html": [
       "The new W&B backend becomes opt-out in version 0.18.0; try it out with `wandb.require(\"core\")`! See https://wandb.me/wandb-core for more information."
      ],
      "text/plain": [
       "<IPython.core.display.HTML object>"
      ]
     },
     "metadata": {},
     "output_type": "display_data"
    },
    {
     "name": "stderr",
     "output_type": "stream",
     "text": [
      "\u001b[34m\u001b[1mwandb\u001b[0m: Agent Starting Run: zizni5du with config:\n",
      "\u001b[34m\u001b[1mwandb\u001b[0m: \tBATCH: 16\n",
      "\u001b[34m\u001b[1mwandb\u001b[0m: \tDFA_on: False\n",
      "\u001b[34m\u001b[1mwandb\u001b[0m: \tIMAGE_SIZE: 128\n",
      "\u001b[34m\u001b[1mwandb\u001b[0m: \tOTTT_input_trace_on: False\n",
      "\u001b[34m\u001b[1mwandb\u001b[0m: \tOTTT_sWS_on: False\n",
      "\u001b[34m\u001b[1mwandb\u001b[0m: \tTIME: 10\n",
      "\u001b[34m\u001b[1mwandb\u001b[0m: \tcfg: ['M', 'M', 200, 200]\n",
      "\u001b[34m\u001b[1mwandb\u001b[0m: \tconst2: False\n",
      "\u001b[34m\u001b[1mwandb\u001b[0m: \tdecay: 0.07377304659363593\n",
      "\u001b[34m\u001b[1mwandb\u001b[0m: \tdrop_rate: 0\n",
      "\u001b[34m\u001b[1mwandb\u001b[0m: \tdvs_clipping: 2\n",
      "\u001b[34m\u001b[1mwandb\u001b[0m: \tdvs_duration: 100000\n",
      "\u001b[34m\u001b[1mwandb\u001b[0m: \te_transport_swap: 0\n",
      "\u001b[34m\u001b[1mwandb\u001b[0m: \te_transport_swap_tr: 0\n",
      "\u001b[34m\u001b[1mwandb\u001b[0m: \tepoch_num: 60\n",
      "\u001b[34m\u001b[1mwandb\u001b[0m: \texclude_class: True\n",
      "\u001b[34m\u001b[1mwandb\u001b[0m: \tlearning_rate: 0.00936191669529645\n",
      "\u001b[34m\u001b[1mwandb\u001b[0m: \tmerge_polarities: False\n",
      "\u001b[34m\u001b[1mwandb\u001b[0m: \tsurrogate: hard_sigmoid\n",
      "\u001b[34m\u001b[1mwandb\u001b[0m: \twhich_data: DVS_GESTURE_TONIC\n",
      "Failed to detect the name of this notebook, you can set it manually with the WANDB_NOTEBOOK_NAME environment variable to enable code saving.\n"
     ]
    },
    {
     "data": {
      "text/html": [
       "wandb version 0.17.7 is available!  To upgrade, please run:\n",
       " $ pip install wandb --upgrade"
      ],
      "text/plain": [
       "<IPython.core.display.HTML object>"
      ]
     },
     "metadata": {},
     "output_type": "display_data"
    },
    {
     "data": {
      "text/html": [
       "Tracking run with wandb version 0.17.5"
      ],
      "text/plain": [
       "<IPython.core.display.HTML object>"
      ]
     },
     "metadata": {},
     "output_type": "display_data"
    },
    {
     "data": {
      "text/html": [
       "Run data is saved locally in <code>/nfs/home/bhkim003/github_folder/ByeonghyeonKim/my_snn/wandb/run-20240821_185336-zizni5du</code>"
      ],
      "text/plain": [
       "<IPython.core.display.HTML object>"
      ]
     },
     "metadata": {},
     "output_type": "display_data"
    },
    {
     "data": {
      "text/html": [
       "Syncing run <strong><a href='https://wandb.ai/bhkim003-seoul-national-university/my_snn%20main/runs/zizni5du' target=\"_blank\">fearless-sweep-77</a></strong> to <a href='https://wandb.ai/bhkim003-seoul-national-university/my_snn%20main' target=\"_blank\">Weights & Biases</a> (<a href='https://wandb.me/run' target=\"_blank\">docs</a>)<br/>Sweep page: <a href='https://wandb.ai/bhkim003-seoul-national-university/my_snn%20main/sweeps/gqhgeaun' target=\"_blank\">https://wandb.ai/bhkim003-seoul-national-university/my_snn%20main/sweeps/gqhgeaun</a>"
      ],
      "text/plain": [
       "<IPython.core.display.HTML object>"
      ]
     },
     "metadata": {},
     "output_type": "display_data"
    },
    {
     "data": {
      "text/html": [
       " View project at <a href='https://wandb.ai/bhkim003-seoul-national-university/my_snn%20main' target=\"_blank\">https://wandb.ai/bhkim003-seoul-national-university/my_snn%20main</a>"
      ],
      "text/plain": [
       "<IPython.core.display.HTML object>"
      ]
     },
     "metadata": {},
     "output_type": "display_data"
    },
    {
     "data": {
      "text/html": [
       " View sweep at <a href='https://wandb.ai/bhkim003-seoul-national-university/my_snn%20main/sweeps/gqhgeaun' target=\"_blank\">https://wandb.ai/bhkim003-seoul-national-university/my_snn%20main/sweeps/gqhgeaun</a>"
      ],
      "text/plain": [
       "<IPython.core.display.HTML object>"
      ]
     },
     "metadata": {},
     "output_type": "display_data"
    },
    {
     "data": {
      "text/html": [
       " View run at <a href='https://wandb.ai/bhkim003-seoul-national-university/my_snn%20main/runs/zizni5du' target=\"_blank\">https://wandb.ai/bhkim003-seoul-national-university/my_snn%20main/runs/zizni5du</a>"
      ],
      "text/plain": [
       "<IPython.core.display.HTML object>"
      ]
     },
     "metadata": {},
     "output_type": "display_data"
    },
    {
     "name": "stderr",
     "output_type": "stream",
     "text": [
      "\u001b[34m\u001b[1mwandb\u001b[0m: \u001b[33mWARNING\u001b[0m Config item 'BATCH' was locked by 'sweep' (ignored update).\n",
      "\u001b[34m\u001b[1mwandb\u001b[0m: \u001b[33mWARNING\u001b[0m Config item 'IMAGE_SIZE' was locked by 'sweep' (ignored update).\n",
      "\u001b[34m\u001b[1mwandb\u001b[0m: \u001b[33mWARNING\u001b[0m Config item 'which_data' was locked by 'sweep' (ignored update).\n",
      "\u001b[34m\u001b[1mwandb\u001b[0m: \u001b[33mWARNING\u001b[0m Config item 'cfg' was locked by 'sweep' (ignored update).\n",
      "\u001b[34m\u001b[1mwandb\u001b[0m: \u001b[33mWARNING\u001b[0m Config item 'learning_rate' was locked by 'sweep' (ignored update).\n",
      "\u001b[34m\u001b[1mwandb\u001b[0m: \u001b[33mWARNING\u001b[0m Config item 'epoch_num' was locked by 'sweep' (ignored update).\n",
      "\u001b[34m\u001b[1mwandb\u001b[0m: \u001b[33mWARNING\u001b[0m Config item 'surrogate' was locked by 'sweep' (ignored update).\n",
      "\u001b[34m\u001b[1mwandb\u001b[0m: \u001b[33mWARNING\u001b[0m Config item 'dvs_clipping' was locked by 'sweep' (ignored update).\n",
      "\u001b[34m\u001b[1mwandb\u001b[0m: \u001b[33mWARNING\u001b[0m Config item 'dvs_duration' was locked by 'sweep' (ignored update).\n",
      "\u001b[34m\u001b[1mwandb\u001b[0m: \u001b[33mWARNING\u001b[0m Config item 'OTTT_sWS_on' was locked by 'sweep' (ignored update).\n",
      "\u001b[34m\u001b[1mwandb\u001b[0m: \u001b[33mWARNING\u001b[0m Config item 'DFA_on' was locked by 'sweep' (ignored update).\n",
      "\u001b[34m\u001b[1mwandb\u001b[0m: \u001b[33mWARNING\u001b[0m Config item 'OTTT_input_trace_on' was locked by 'sweep' (ignored update).\n",
      "\u001b[34m\u001b[1mwandb\u001b[0m: \u001b[33mWARNING\u001b[0m Config item 'e_transport_swap' was locked by 'sweep' (ignored update).\n",
      "\u001b[34m\u001b[1mwandb\u001b[0m: \u001b[33mWARNING\u001b[0m Config item 'e_transport_swap_tr' was locked by 'sweep' (ignored update).\n",
      "\u001b[34m\u001b[1mwandb\u001b[0m: \u001b[33mWARNING\u001b[0m Config item 'drop_rate' was locked by 'sweep' (ignored update).\n",
      "\u001b[34m\u001b[1mwandb\u001b[0m: \u001b[33mWARNING\u001b[0m Config item 'exclude_class' was locked by 'sweep' (ignored update).\n",
      "\u001b[34m\u001b[1mwandb\u001b[0m: \u001b[33mWARNING\u001b[0m Config item 'merge_polarities' was locked by 'sweep' (ignored update).\n",
      "\u001b[34m\u001b[1mwandb\u001b[0m: \u001b[33mWARNING\u001b[0m Config item 'TIME' was locked by 'sweep' (ignored update).\n"
     ]
    },
    {
     "name": "stdout",
     "output_type": "stream",
     "text": [
      "dataset_hash = 2bbd58b4e0d3c1e9ad501fad8a43feed\n",
      "cache path exists\n",
      "\n",
      "we will exclude the 'other' class. dvsgestrue 10 classes' indices exist. \n",
      "\n",
      "DataParallel(\n",
      "  (module): MY_SNN_FC_sstep(\n",
      "    (layers): MY_Sequential(\n",
      "      (0): MaxPool2d(kernel_size=2, stride=2, padding=0, dilation=1, ceil_mode=False)\n",
      "      (1): MaxPool2d(kernel_size=2, stride=2, padding=0, dilation=1, ceil_mode=False)\n",
      "      (2): DimChanger_for_FC_sstep()\n",
      "      (3): SYNAPSE_FC_trace_sstep()\n",
      "      (4): LIF_layer_trace_sstep()\n",
      "      (5): SYNAPSE_FC_trace_sstep()\n",
      "      (6): LIF_layer_trace_sstep()\n",
      "      (7): SYNAPSE_FC_trace_sstep()\n",
      "    )\n",
      "  )\n",
      ")\n",
      "==================================================\n",
      "My Num of PARAMS: 452,010, system's param_num : 452,010\n",
      "Memory: 1.72MiB at 32-bit\n",
      "==================================================\n"
     ]
    },
    {
     "name": "stderr",
     "output_type": "stream",
     "text": [
      "epoch-0   lr=['0.0093619'], tr/val_loss:  1.843627/  1.499845, tr:  37.18%, val:  55.42%, val_best:  55.42%: 100%|██████████| 62/62 [00:06<00:00,  9.69it/s]                                    \n",
      "epoch-1   lr=['0.0093555'], tr/val_loss:  1.167583/  1.274325, tr:  62.41%, val:  59.58%, val_best:  59.58%: 100%|██████████| 62/62 [00:06<00:00,  9.71it/s]                                    \n",
      "epoch-2   lr=['0.0093363'], tr/val_loss:  1.016640/  1.161760, tr:  65.17%, val:  64.58%, val_best:  64.58%: 100%|██████████| 62/62 [00:05<00:00, 10.39it/s]                                    \n",
      "epoch-3   lr=['0.0093043'], tr/val_loss:  0.933582/  1.151203, tr:  67.72%, val:  63.75%, val_best:  64.58%: 100%|██████████| 62/62 [00:06<00:00,  9.65it/s]                                    \n",
      "epoch-4   lr=['0.0092596'], tr/val_loss:  0.876175/  1.208645, tr:  69.97%, val:  63.33%, val_best:  64.58%: 100%|██████████| 62/62 [00:05<00:00, 10.55it/s]                                    \n",
      "epoch-5   lr=['0.0092024'], tr/val_loss:  0.831264/  1.299163, tr:  70.28%, val:  61.67%, val_best:  64.58%: 100%|██████████| 62/62 [00:05<00:00, 10.41it/s]                                    \n",
      "epoch-6   lr=['0.0091328'], tr/val_loss:  0.734080/  1.168616, tr:  74.06%, val:  63.75%, val_best:  64.58%: 100%|██████████| 62/62 [00:06<00:00,  9.55it/s]                                    \n",
      "epoch-7   lr=['0.0090510'], tr/val_loss:  0.678936/  1.302089, tr:  75.59%, val:  61.67%, val_best:  64.58%: 100%|██████████| 62/62 [00:05<00:00, 11.03it/s]                                    \n",
      "epoch-8   lr=['0.0089572'], tr/val_loss:  0.678919/  1.145523, tr:  77.02%, val:  67.50%, val_best:  67.50%: 100%|██████████| 62/62 [00:06<00:00,  9.87it/s]                                    \n",
      "epoch-9   lr=['0.0088517'], tr/val_loss:  0.527588/  1.292229, tr:  82.23%, val:  69.58%, val_best:  69.58%: 100%|██████████| 62/62 [00:05<00:00, 11.22it/s]                                    \n",
      "epoch-10  lr=['0.0087348'], tr/val_loss:  0.513844/  1.194425, tr:  83.55%, val:  69.58%, val_best:  69.58%: 100%|██████████| 62/62 [00:05<00:00, 11.68it/s]                                    \n",
      "epoch-11  lr=['0.0086067'], tr/val_loss:  0.480426/  1.327326, tr:  84.37%, val:  70.00%, val_best:  70.00%: 100%|██████████| 62/62 [00:05<00:00, 11.95it/s]                                    \n",
      "epoch-12  lr=['0.0084679'], tr/val_loss:  0.480746/  1.233544, tr:  82.84%, val:  74.17%, val_best:  74.17%: 100%|██████████| 62/62 [00:04<00:00, 12.59it/s]                                    \n",
      "epoch-13  lr=['0.0083187'], tr/val_loss:  0.414131/  1.300900, tr:  89.89%, val:  72.08%, val_best:  74.17%: 100%|██████████| 62/62 [00:05<00:00, 11.32it/s]                                    \n",
      "epoch-14  lr=['0.0081596'], tr/val_loss:  0.353843/  1.362135, tr:  91.52%, val:  74.17%, val_best:  74.17%: 100%|██████████| 62/62 [00:05<00:00, 10.61it/s]                                    \n",
      "epoch-15  lr=['0.0079909'], tr/val_loss:  0.341619/  1.340990, tr:  92.95%, val:  72.92%, val_best:  74.17%: 100%|██████████| 62/62 [00:04<00:00, 12.57it/s]                                    \n",
      "epoch-16  lr=['0.0078131'], tr/val_loss:  0.309707/  1.584844, tr:  92.95%, val:  70.00%, val_best:  74.17%: 100%|██████████| 62/62 [00:04<00:00, 12.48it/s]                                    \n",
      "epoch-17  lr=['0.0076268'], tr/val_loss:  0.279818/  1.451140, tr:  95.51%, val:  73.75%, val_best:  74.17%: 100%|██████████| 62/62 [00:05<00:00, 12.38it/s]                                    \n",
      "epoch-18  lr=['0.0074324'], tr/val_loss:  0.258744/  1.451338, tr:  95.51%, val:  77.50%, val_best:  77.50%: 100%|██████████| 62/62 [00:05<00:00, 12.15it/s]                                    \n",
      "epoch-19  lr=['0.0072304'], tr/val_loss:  0.212575/  1.515181, tr:  98.57%, val:  79.17%, val_best:  79.17%: 100%|██████████| 62/62 [00:05<00:00, 11.09it/s]                                    \n",
      "epoch-20  lr=['0.0070214'], tr/val_loss:  0.153078/  1.630914, tr:  99.39%, val:  75.42%, val_best:  79.17%: 100%|██████████| 62/62 [00:05<00:00, 10.64it/s]                                    \n",
      "epoch-21  lr=['0.0068061'], tr/val_loss:  0.122536/  1.738325, tr:  99.80%, val:  78.33%, val_best:  79.17%: 100%|██████████| 62/62 [00:05<00:00, 10.70it/s]                                    \n",
      "epoch-22  lr=['0.0065849'], tr/val_loss:  0.122117/  1.711826, tr:  98.47%, val:  78.75%, val_best:  79.17%: 100%|██████████| 62/62 [00:05<00:00, 10.88it/s]                                    \n",
      "epoch-23  lr=['0.0063585'], tr/val_loss:  0.106778/  1.805029, tr: 100.00%, val:  77.92%, val_best:  79.17%: 100%|██████████| 62/62 [00:06<00:00, 10.06it/s]                                    \n",
      "epoch-24  lr=['0.0061275'], tr/val_loss:  0.082171/  1.925376, tr: 100.00%, val:  75.42%, val_best:  79.17%: 100%|██████████| 62/62 [00:05<00:00, 11.02it/s]                                    \n",
      "epoch-25  lr=['0.0058925'], tr/val_loss:  0.063972/  1.946074, tr: 100.00%, val:  76.67%, val_best:  79.17%: 100%|██████████| 62/62 [00:05<00:00, 11.13it/s]                                    \n",
      "epoch-26  lr=['0.0056542'], tr/val_loss:  0.049165/  1.971350, tr: 100.00%, val:  80.42%, val_best:  80.42%: 100%|██████████| 62/62 [00:06<00:00,  9.99it/s]                                    \n",
      "epoch-27  lr=['0.0054132'], tr/val_loss:  0.039529/  2.055197, tr: 100.00%, val:  80.00%, val_best:  80.42%: 100%|██████████| 62/62 [00:05<00:00, 10.47it/s]                                    \n",
      "epoch-28  lr=['0.0051703'], tr/val_loss:  0.035655/  2.070311, tr: 100.00%, val:  79.58%, val_best:  80.42%: 100%|██████████| 62/62 [00:06<00:00, 10.18it/s]                                    \n",
      "epoch-29  lr=['0.0049259'], tr/val_loss:  0.036159/  2.123188, tr: 100.00%, val:  79.17%, val_best:  80.42%: 100%|██████████| 62/62 [00:05<00:00, 10.70it/s]                                    \n",
      "epoch-30  lr=['0.0046810'], tr/val_loss:  0.030783/  2.108449, tr: 100.00%, val:  80.00%, val_best:  80.42%: 100%|██████████| 62/62 [00:05<00:00, 10.43it/s]                                    \n",
      "epoch-31  lr=['0.0044360'], tr/val_loss:  0.020819/  2.136559, tr: 100.00%, val:  77.92%, val_best:  80.42%: 100%|██████████| 62/62 [00:05<00:00, 10.58it/s]                                    \n",
      "epoch-32  lr=['0.0041917'], tr/val_loss:  0.020425/  2.159120, tr: 100.00%, val:  79.58%, val_best:  80.42%: 100%|██████████| 62/62 [00:06<00:00,  8.94it/s]                                    \n",
      "epoch-33  lr=['0.0039487'], tr/val_loss:  0.014581/  2.186593, tr: 100.00%, val:  80.42%, val_best:  80.42%: 100%|██████████| 62/62 [00:05<00:00, 10.75it/s]                                    \n",
      "epoch-34  lr=['0.0037077'], tr/val_loss:  0.012902/  2.237668, tr: 100.00%, val:  80.00%, val_best:  80.42%: 100%|██████████| 62/62 [00:05<00:00, 11.38it/s]                                    \n",
      "epoch-35  lr=['0.0034694'], tr/val_loss:  0.010794/  2.246744, tr: 100.00%, val:  79.58%, val_best:  80.42%: 100%|██████████| 62/62 [00:06<00:00,  9.94it/s]                                    \n",
      "epoch-36  lr=['0.0032345'], tr/val_loss:  0.011702/  2.277071, tr: 100.00%, val:  79.58%, val_best:  80.42%: 100%|██████████| 62/62 [00:05<00:00, 11.32it/s]                                    \n",
      "epoch-37  lr=['0.0030035'], tr/val_loss:  0.009626/  2.273965, tr: 100.00%, val:  80.42%, val_best:  80.42%: 100%|██████████| 62/62 [00:06<00:00, 10.01it/s]                                    \n",
      "epoch-38  lr=['0.0027770'], tr/val_loss:  0.008453/  2.294217, tr: 100.00%, val:  80.00%, val_best:  80.42%: 100%|██████████| 62/62 [00:06<00:00, 10.08it/s]                                    \n",
      "epoch-39  lr=['0.0025558'], tr/val_loss:  0.008321/  2.297405, tr: 100.00%, val:  80.83%, val_best:  80.83%: 100%|██████████| 62/62 [00:05<00:00, 10.37it/s]                                    \n",
      "epoch-40  lr=['0.0023405'], tr/val_loss:  0.006858/  2.316851, tr: 100.00%, val:  80.42%, val_best:  80.83%: 100%|██████████| 62/62 [00:05<00:00, 10.76it/s]                                    \n",
      "epoch-41  lr=['0.0021315'], tr/val_loss:  0.007510/  2.335883, tr: 100.00%, val:  80.42%, val_best:  80.83%: 100%|██████████| 62/62 [00:06<00:00, 10.12it/s]                                    \n",
      "epoch-42  lr=['0.0019296'], tr/val_loss:  0.006803/  2.328189, tr: 100.00%, val:  81.25%, val_best:  81.25%: 100%|██████████| 62/62 [00:05<00:00, 11.31it/s]                                    \n",
      "epoch-43  lr=['0.0017351'], tr/val_loss:  0.006447/  2.348486, tr: 100.00%, val:  80.00%, val_best:  81.25%: 100%|██████████| 62/62 [00:06<00:00,  9.95it/s]                                    \n",
      "epoch-44  lr=['0.0015488'], tr/val_loss:  0.006158/  2.348482, tr: 100.00%, val:  80.83%, val_best:  81.25%: 100%|██████████| 62/62 [00:05<00:00, 11.00it/s]                                    \n",
      "epoch-45  lr=['0.0013710'], tr/val_loss:  0.005550/  2.354271, tr: 100.00%, val:  81.25%, val_best:  81.25%: 100%|██████████| 62/62 [00:05<00:00, 11.23it/s]                                    \n",
      "epoch-46  lr=['0.0012023'], tr/val_loss:  0.005547/  2.357572, tr: 100.00%, val:  80.42%, val_best:  81.25%: 100%|██████████| 62/62 [00:05<00:00, 10.94it/s]                                    \n",
      "epoch-47  lr=['0.0010432'], tr/val_loss:  0.005316/  2.371202, tr: 100.00%, val:  80.83%, val_best:  81.25%: 100%|██████████| 62/62 [00:06<00:00,  9.98it/s]                                    \n",
      "epoch-48  lr=['0.0008940'], tr/val_loss:  0.005126/  2.370981, tr: 100.00%, val:  80.42%, val_best:  81.25%: 100%|██████████| 62/62 [00:06<00:00, 10.25it/s]                                    \n",
      "epoch-49  lr=['0.0007552'], tr/val_loss:  0.004899/  2.372353, tr: 100.00%, val:  80.42%, val_best:  81.25%: 100%|██████████| 62/62 [00:06<00:00, 10.12it/s]                                    \n",
      "epoch-50  lr=['0.0006271'], tr/val_loss:  0.005009/  2.368315, tr: 100.00%, val:  80.42%, val_best:  81.25%: 100%|██████████| 62/62 [00:05<00:00, 11.07it/s]                                    \n",
      "epoch-51  lr=['0.0005102'], tr/val_loss:  0.004985/  2.378250, tr: 100.00%, val:  80.83%, val_best:  81.25%: 100%|██████████| 62/62 [00:05<00:00, 11.13it/s]                                    \n",
      "epoch-52  lr=['0.0004047'], tr/val_loss:  0.004685/  2.375986, tr: 100.00%, val:  80.83%, val_best:  81.25%: 100%|██████████| 62/62 [00:06<00:00, 10.26it/s]                                    \n",
      "epoch-53  lr=['0.0003109'], tr/val_loss:  0.004663/  2.378552, tr: 100.00%, val:  80.83%, val_best:  81.25%: 100%|██████████| 62/62 [00:05<00:00, 10.76it/s]                                    \n",
      "epoch-54  lr=['0.0002291'], tr/val_loss:  0.004650/  2.385365, tr: 100.00%, val:  80.83%, val_best:  81.25%: 100%|██████████| 62/62 [00:05<00:00, 10.56it/s]                                    \n",
      "epoch-55  lr=['0.0001595'], tr/val_loss:  0.004421/  2.385958, tr: 100.00%, val:  80.83%, val_best:  81.25%: 100%|██████████| 62/62 [00:05<00:00, 11.32it/s]                                    \n",
      "epoch-56  lr=['0.0001023'], tr/val_loss:  0.004586/  2.385401, tr: 100.00%, val:  80.83%, val_best:  81.25%: 100%|██████████| 62/62 [00:05<00:00, 11.03it/s]                                    \n",
      "epoch-57  lr=['0.0000576'], tr/val_loss:  0.004440/  2.383332, tr: 100.00%, val:  80.83%, val_best:  81.25%: 100%|██████████| 62/62 [00:05<00:00, 10.49it/s]                                    \n",
      "epoch-58  lr=['0.0000256'], tr/val_loss:  0.004414/  2.380080, tr: 100.00%, val:  80.83%, val_best:  81.25%: 100%|██████████| 62/62 [00:06<00:00, 10.07it/s]                                    \n",
      "epoch-59  lr=['0.0000064'], tr/val_loss:  0.004537/  2.379552, tr: 100.00%, val:  80.83%, val_best:  81.25%: 100%|██████████| 62/62 [00:05<00:00, 10.97it/s]                                    \n"
     ]
    },
    {
     "data": {
      "application/vnd.jupyter.widget-view+json": {
       "model_id": "f2632517870747a48c8ca926887a7c36",
       "version_major": 2,
       "version_minor": 0
      },
      "text/plain": [
       "VBox(children=(Label(value='4.956 MB of 4.956 MB uploaded\\r'), FloatProgress(value=1.0, max=1.0)))"
      ]
     },
     "metadata": {},
     "output_type": "display_data"
    },
    {
     "data": {
      "text/html": [
       "<style>\n",
       "    table.wandb td:nth-child(1) { padding: 0 10px; text-align: left ; width: auto;} td:nth-child(2) {text-align: left ; width: 100%}\n",
       "    .wandb-row { display: flex; flex-direction: row; flex-wrap: wrap; justify-content: flex-start; width: 100% }\n",
       "    .wandb-col { display: flex; flex-direction: column; flex-basis: 100%; flex: 1; padding: 10px; }\n",
       "    </style>\n",
       "<div class=\"wandb-row\"><div class=\"wandb-col\"><h3>Run history:</h3><br/><table class=\"wandb\"><tr><td>DFA_flag</td><td>▁▁▁▁▁▁▁▁▁▁▁▁▁▁▁▁▁▁▁▁▁▁▁▁▁▁▁▁▁▁▁▁▁▁▁▁▁▁▁▁</td></tr><tr><td>epoch</td><td>▁▁▁▁▂▂▂▂▂▃▃▃▃▃▃▄▄▄▄▄▅▅▅▅▅▆▆▆▆▆▆▇▇▇▇▇████</td></tr><tr><td>iter_acc</td><td>▁▅▅▅▅▅▅▇▆▇█▇▇███████████████████████████</td></tr><tr><td>summary_val_acc</td><td>▁▆▇▇▆▇▇▇▇▇▇▇▇███████████████████████████</td></tr><tr><td>tr_acc</td><td>▁▄▆▆▆▆▆▇▇▇▇█████████████████████████████</td></tr><tr><td>tr_epoch_loss</td><td>▁█▅▅▄▄▄▃▃▃▂▂▂▂▂▁▁▁▁▁▁▁▁▁▁▁▁▁▁▁▁▁▁▁▁▁▁▁▁▁</td></tr><tr><td>val_acc_best</td><td>▁▆▇▇▇▇▇▇▇▇▇▇▇███████████████████████████</td></tr><tr><td>val_acc_now</td><td>▁▆▇▇▆▇▇▇▇▇▇▇▇███████████████████████████</td></tr><tr><td>val_loss</td><td>▁▅▄▄▅▄▄▅▅▅▅▆▅▅▆▆▆▇▇▇▇▇▇█████████████████</td></tr></table><br/></div><div class=\"wandb-col\"><h3>Run summary:</h3><br/><table class=\"wandb\"><tr><td>DFA_flag</td><td>0.0</td></tr><tr><td>epoch</td><td>59</td></tr><tr><td>iter_acc</td><td>1.0</td></tr><tr><td>tr_acc</td><td>1.0</td></tr><tr><td>tr_epoch_loss</td><td>0.00454</td></tr><tr><td>val_acc_best</td><td>0.8125</td></tr><tr><td>val_acc_now</td><td>0.80833</td></tr><tr><td>val_loss</td><td>2.37955</td></tr></table><br/></div></div>"
      ],
      "text/plain": [
       "<IPython.core.display.HTML object>"
      ]
     },
     "metadata": {},
     "output_type": "display_data"
    },
    {
     "data": {
      "text/html": [
       " View run <strong style=\"color:#cdcd00\">fearless-sweep-77</strong> at: <a href='https://wandb.ai/bhkim003-seoul-national-university/my_snn%20main/runs/zizni5du' target=\"_blank\">https://wandb.ai/bhkim003-seoul-national-university/my_snn%20main/runs/zizni5du</a><br/> View project at: <a href='https://wandb.ai/bhkim003-seoul-national-university/my_snn%20main' target=\"_blank\">https://wandb.ai/bhkim003-seoul-national-university/my_snn%20main</a><br/>Synced 7 W&B file(s), 0 media file(s), 0 artifact file(s) and 1 other file(s)"
      ],
      "text/plain": [
       "<IPython.core.display.HTML object>"
      ]
     },
     "metadata": {},
     "output_type": "display_data"
    },
    {
     "data": {
      "text/html": [
       "Find logs at: <code>./wandb/run-20240821_185336-zizni5du/logs</code>"
      ],
      "text/plain": [
       "<IPython.core.display.HTML object>"
      ]
     },
     "metadata": {},
     "output_type": "display_data"
    },
    {
     "data": {
      "text/html": [
       "The new W&B backend becomes opt-out in version 0.18.0; try it out with `wandb.require(\"core\")`! See https://wandb.me/wandb-core for more information."
      ],
      "text/plain": [
       "<IPython.core.display.HTML object>"
      ]
     },
     "metadata": {},
     "output_type": "display_data"
    },
    {
     "name": "stderr",
     "output_type": "stream",
     "text": [
      "\u001b[34m\u001b[1mwandb\u001b[0m: Sweep Agent: Waiting for job.\n",
      "\u001b[34m\u001b[1mwandb\u001b[0m: Job received.\n",
      "\u001b[34m\u001b[1mwandb\u001b[0m: Agent Starting Run: nr229ff6 with config:\n",
      "\u001b[34m\u001b[1mwandb\u001b[0m: \tBATCH: 16\n",
      "\u001b[34m\u001b[1mwandb\u001b[0m: \tDFA_on: False\n",
      "\u001b[34m\u001b[1mwandb\u001b[0m: \tIMAGE_SIZE: 128\n",
      "\u001b[34m\u001b[1mwandb\u001b[0m: \tOTTT_input_trace_on: False\n",
      "\u001b[34m\u001b[1mwandb\u001b[0m: \tOTTT_sWS_on: False\n",
      "\u001b[34m\u001b[1mwandb\u001b[0m: \tTIME: 10\n",
      "\u001b[34m\u001b[1mwandb\u001b[0m: \tcfg: ['M', 'M', 200, 200]\n",
      "\u001b[34m\u001b[1mwandb\u001b[0m: \tconst2: False\n",
      "\u001b[34m\u001b[1mwandb\u001b[0m: \tdecay: 0.08187766517208486\n",
      "\u001b[34m\u001b[1mwandb\u001b[0m: \tdrop_rate: 0\n",
      "\u001b[34m\u001b[1mwandb\u001b[0m: \tdvs_clipping: 2\n",
      "\u001b[34m\u001b[1mwandb\u001b[0m: \tdvs_duration: 100000\n",
      "\u001b[34m\u001b[1mwandb\u001b[0m: \te_transport_swap: 0\n",
      "\u001b[34m\u001b[1mwandb\u001b[0m: \te_transport_swap_tr: 0\n",
      "\u001b[34m\u001b[1mwandb\u001b[0m: \tepoch_num: 60\n",
      "\u001b[34m\u001b[1mwandb\u001b[0m: \texclude_class: True\n",
      "\u001b[34m\u001b[1mwandb\u001b[0m: \tlearning_rate: 0.00936191669529645\n",
      "\u001b[34m\u001b[1mwandb\u001b[0m: \tmerge_polarities: False\n",
      "\u001b[34m\u001b[1mwandb\u001b[0m: \tsurrogate: hard_sigmoid\n",
      "\u001b[34m\u001b[1mwandb\u001b[0m: \twhich_data: DVS_GESTURE_TONIC\n",
      "Failed to detect the name of this notebook, you can set it manually with the WANDB_NOTEBOOK_NAME environment variable to enable code saving.\n"
     ]
    },
    {
     "data": {
      "text/html": [
       "wandb version 0.17.7 is available!  To upgrade, please run:\n",
       " $ pip install wandb --upgrade"
      ],
      "text/plain": [
       "<IPython.core.display.HTML object>"
      ]
     },
     "metadata": {},
     "output_type": "display_data"
    },
    {
     "data": {
      "text/html": [
       "Tracking run with wandb version 0.17.5"
      ],
      "text/plain": [
       "<IPython.core.display.HTML object>"
      ]
     },
     "metadata": {},
     "output_type": "display_data"
    },
    {
     "data": {
      "text/html": [
       "Run data is saved locally in <code>/nfs/home/bhkim003/github_folder/ByeonghyeonKim/my_snn/wandb/run-20240821_190012-nr229ff6</code>"
      ],
      "text/plain": [
       "<IPython.core.display.HTML object>"
      ]
     },
     "metadata": {},
     "output_type": "display_data"
    },
    {
     "data": {
      "text/html": [
       "Syncing run <strong><a href='https://wandb.ai/bhkim003-seoul-national-university/my_snn%20main/runs/nr229ff6' target=\"_blank\">avid-sweep-80</a></strong> to <a href='https://wandb.ai/bhkim003-seoul-national-university/my_snn%20main' target=\"_blank\">Weights & Biases</a> (<a href='https://wandb.me/run' target=\"_blank\">docs</a>)<br/>Sweep page: <a href='https://wandb.ai/bhkim003-seoul-national-university/my_snn%20main/sweeps/gqhgeaun' target=\"_blank\">https://wandb.ai/bhkim003-seoul-national-university/my_snn%20main/sweeps/gqhgeaun</a>"
      ],
      "text/plain": [
       "<IPython.core.display.HTML object>"
      ]
     },
     "metadata": {},
     "output_type": "display_data"
    },
    {
     "data": {
      "text/html": [
       " View project at <a href='https://wandb.ai/bhkim003-seoul-national-university/my_snn%20main' target=\"_blank\">https://wandb.ai/bhkim003-seoul-national-university/my_snn%20main</a>"
      ],
      "text/plain": [
       "<IPython.core.display.HTML object>"
      ]
     },
     "metadata": {},
     "output_type": "display_data"
    },
    {
     "data": {
      "text/html": [
       " View sweep at <a href='https://wandb.ai/bhkim003-seoul-national-university/my_snn%20main/sweeps/gqhgeaun' target=\"_blank\">https://wandb.ai/bhkim003-seoul-national-university/my_snn%20main/sweeps/gqhgeaun</a>"
      ],
      "text/plain": [
       "<IPython.core.display.HTML object>"
      ]
     },
     "metadata": {},
     "output_type": "display_data"
    },
    {
     "data": {
      "text/html": [
       " View run at <a href='https://wandb.ai/bhkim003-seoul-national-university/my_snn%20main/runs/nr229ff6' target=\"_blank\">https://wandb.ai/bhkim003-seoul-national-university/my_snn%20main/runs/nr229ff6</a>"
      ],
      "text/plain": [
       "<IPython.core.display.HTML object>"
      ]
     },
     "metadata": {},
     "output_type": "display_data"
    },
    {
     "name": "stderr",
     "output_type": "stream",
     "text": [
      "\u001b[34m\u001b[1mwandb\u001b[0m: \u001b[33mWARNING\u001b[0m Config item 'BATCH' was locked by 'sweep' (ignored update).\n",
      "\u001b[34m\u001b[1mwandb\u001b[0m: \u001b[33mWARNING\u001b[0m Config item 'IMAGE_SIZE' was locked by 'sweep' (ignored update).\n",
      "\u001b[34m\u001b[1mwandb\u001b[0m: \u001b[33mWARNING\u001b[0m Config item 'which_data' was locked by 'sweep' (ignored update).\n",
      "\u001b[34m\u001b[1mwandb\u001b[0m: \u001b[33mWARNING\u001b[0m Config item 'cfg' was locked by 'sweep' (ignored update).\n",
      "\u001b[34m\u001b[1mwandb\u001b[0m: \u001b[33mWARNING\u001b[0m Config item 'learning_rate' was locked by 'sweep' (ignored update).\n",
      "\u001b[34m\u001b[1mwandb\u001b[0m: \u001b[33mWARNING\u001b[0m Config item 'epoch_num' was locked by 'sweep' (ignored update).\n",
      "\u001b[34m\u001b[1mwandb\u001b[0m: \u001b[33mWARNING\u001b[0m Config item 'surrogate' was locked by 'sweep' (ignored update).\n",
      "\u001b[34m\u001b[1mwandb\u001b[0m: \u001b[33mWARNING\u001b[0m Config item 'dvs_clipping' was locked by 'sweep' (ignored update).\n",
      "\u001b[34m\u001b[1mwandb\u001b[0m: \u001b[33mWARNING\u001b[0m Config item 'dvs_duration' was locked by 'sweep' (ignored update).\n",
      "\u001b[34m\u001b[1mwandb\u001b[0m: \u001b[33mWARNING\u001b[0m Config item 'OTTT_sWS_on' was locked by 'sweep' (ignored update).\n",
      "\u001b[34m\u001b[1mwandb\u001b[0m: \u001b[33mWARNING\u001b[0m Config item 'DFA_on' was locked by 'sweep' (ignored update).\n",
      "\u001b[34m\u001b[1mwandb\u001b[0m: \u001b[33mWARNING\u001b[0m Config item 'OTTT_input_trace_on' was locked by 'sweep' (ignored update).\n",
      "\u001b[34m\u001b[1mwandb\u001b[0m: \u001b[33mWARNING\u001b[0m Config item 'e_transport_swap' was locked by 'sweep' (ignored update).\n",
      "\u001b[34m\u001b[1mwandb\u001b[0m: \u001b[33mWARNING\u001b[0m Config item 'e_transport_swap_tr' was locked by 'sweep' (ignored update).\n",
      "\u001b[34m\u001b[1mwandb\u001b[0m: \u001b[33mWARNING\u001b[0m Config item 'drop_rate' was locked by 'sweep' (ignored update).\n",
      "\u001b[34m\u001b[1mwandb\u001b[0m: \u001b[33mWARNING\u001b[0m Config item 'exclude_class' was locked by 'sweep' (ignored update).\n",
      "\u001b[34m\u001b[1mwandb\u001b[0m: \u001b[33mWARNING\u001b[0m Config item 'merge_polarities' was locked by 'sweep' (ignored update).\n",
      "\u001b[34m\u001b[1mwandb\u001b[0m: \u001b[33mWARNING\u001b[0m Config item 'TIME' was locked by 'sweep' (ignored update).\n"
     ]
    },
    {
     "name": "stdout",
     "output_type": "stream",
     "text": [
      "dataset_hash = 2bbd58b4e0d3c1e9ad501fad8a43feed\n",
      "cache path exists\n",
      "\n",
      "we will exclude the 'other' class. dvsgestrue 10 classes' indices exist. \n",
      "\n",
      "DataParallel(\n",
      "  (module): MY_SNN_FC_sstep(\n",
      "    (layers): MY_Sequential(\n",
      "      (0): MaxPool2d(kernel_size=2, stride=2, padding=0, dilation=1, ceil_mode=False)\n",
      "      (1): MaxPool2d(kernel_size=2, stride=2, padding=0, dilation=1, ceil_mode=False)\n",
      "      (2): DimChanger_for_FC_sstep()\n",
      "      (3): SYNAPSE_FC_trace_sstep()\n",
      "      (4): LIF_layer_trace_sstep()\n",
      "      (5): SYNAPSE_FC_trace_sstep()\n",
      "      (6): LIF_layer_trace_sstep()\n",
      "      (7): SYNAPSE_FC_trace_sstep()\n",
      "    )\n",
      "  )\n",
      ")\n",
      "==================================================\n",
      "My Num of PARAMS: 452,010, system's param_num : 452,010\n",
      "Memory: 1.72MiB at 32-bit\n",
      "==================================================\n"
     ]
    },
    {
     "name": "stderr",
     "output_type": "stream",
     "text": [
      "epoch-0   lr=['0.0093619'], tr/val_loss:  1.841891/  1.498038, tr:  36.67%, val:  56.25%, val_best:  56.25%: 100%|██████████| 62/62 [00:06<00:00,  9.80it/s]                                    \n",
      "epoch-1   lr=['0.0093555'], tr/val_loss:  1.168567/  1.286910, tr:  63.13%, val:  60.00%, val_best:  60.00%: 100%|██████████| 62/62 [00:05<00:00, 10.82it/s]                                    \n",
      "epoch-2   lr=['0.0093363'], tr/val_loss:  1.009702/  1.175235, tr:  65.68%, val:  62.50%, val_best:  62.50%: 100%|██████████| 62/62 [00:05<00:00, 11.30it/s]                                    \n",
      "epoch-3   lr=['0.0093043'], tr/val_loss:  0.914729/  1.145131, tr:  68.64%, val:  62.50%, val_best:  62.50%: 100%|██████████| 62/62 [00:06<00:00,  9.65it/s]                                    \n",
      "epoch-4   lr=['0.0092596'], tr/val_loss:  0.877525/  1.209931, tr:  69.25%, val:  61.67%, val_best:  62.50%: 100%|██████████| 62/62 [00:05<00:00, 11.92it/s]                                    \n",
      "epoch-5   lr=['0.0092024'], tr/val_loss:  0.838004/  1.267324, tr:  69.36%, val:  63.33%, val_best:  63.33%: 100%|██████████| 62/62 [00:05<00:00, 10.99it/s]                                    \n",
      "epoch-6   lr=['0.0091328'], tr/val_loss:  0.735510/  1.173367, tr:  73.85%, val:  63.75%, val_best:  63.75%: 100%|██████████| 62/62 [00:05<00:00, 10.50it/s]                                    \n",
      "epoch-7   lr=['0.0090510'], tr/val_loss:  0.686334/  1.244145, tr:  76.00%, val:  62.08%, val_best:  63.75%: 100%|██████████| 62/62 [00:06<00:00, 10.12it/s]                                    \n",
      "epoch-8   lr=['0.0089572'], tr/val_loss:  0.674180/  1.098297, tr:  77.32%, val:  70.00%, val_best:  70.00%: 100%|██████████| 62/62 [00:05<00:00, 12.18it/s]                                    \n",
      "epoch-9   lr=['0.0088517'], tr/val_loss:  0.520700/  1.280512, tr:  82.64%, val:  71.67%, val_best:  71.67%: 100%|██████████| 62/62 [00:05<00:00, 12.14it/s]                                    \n",
      "epoch-10  lr=['0.0087348'], tr/val_loss:  0.509703/  1.181393, tr:  84.47%, val:  70.00%, val_best:  71.67%: 100%|██████████| 62/62 [00:05<00:00, 11.98it/s]                                    \n",
      "epoch-11  lr=['0.0086067'], tr/val_loss:  0.493988/  1.315290, tr:  84.37%, val:  68.33%, val_best:  71.67%: 100%|██████████| 62/62 [00:04<00:00, 12.49it/s]                                    \n",
      "epoch-12  lr=['0.0084679'], tr/val_loss:  0.488905/  1.204383, tr:  82.94%, val:  73.33%, val_best:  73.33%: 100%|██████████| 62/62 [00:06<00:00, 10.16it/s]                                    \n",
      "epoch-13  lr=['0.0083187'], tr/val_loss:  0.427362/  1.275168, tr:  89.17%, val:  70.83%, val_best:  73.33%: 100%|██████████| 62/62 [00:05<00:00, 11.08it/s]                                    \n",
      "epoch-14  lr=['0.0081596'], tr/val_loss:  0.354331/  1.341841, tr:  91.52%, val:  75.42%, val_best:  75.42%: 100%|██████████| 62/62 [00:05<00:00, 11.70it/s]                                    \n",
      "epoch-15  lr=['0.0079909'], tr/val_loss:  0.330777/  1.358041, tr:  93.56%, val:  73.75%, val_best:  75.42%: 100%|██████████| 62/62 [00:05<00:00, 11.39it/s]                                    \n",
      "epoch-16  lr=['0.0078131'], tr/val_loss:  0.302808/  1.591245, tr:  93.26%, val:  71.67%, val_best:  75.42%: 100%|██████████| 62/62 [00:05<00:00, 11.94it/s]                                    \n",
      "epoch-17  lr=['0.0076268'], tr/val_loss:  0.276321/  1.394394, tr:  94.89%, val:  74.58%, val_best:  75.42%: 100%|██████████| 62/62 [00:05<00:00, 11.42it/s]                                    \n",
      "epoch-18  lr=['0.0074324'], tr/val_loss:  0.260658/  1.437144, tr:  94.79%, val:  75.00%, val_best:  75.42%: 100%|██████████| 62/62 [00:06<00:00,  9.91it/s]                                    \n",
      "epoch-19  lr=['0.0072304'], tr/val_loss:  0.222291/  1.541977, tr:  96.63%, val:  78.75%, val_best:  78.75%: 100%|██████████| 62/62 [00:06<00:00,  9.90it/s]                                    \n",
      "epoch-20  lr=['0.0070214'], tr/val_loss:  0.160021/  1.619895, tr:  98.98%, val:  77.92%, val_best:  78.75%: 100%|██████████| 62/62 [00:06<00:00,  9.92it/s]                                    \n",
      "epoch-21  lr=['0.0068061'], tr/val_loss:  0.123610/  1.744593, tr:  99.59%, val:  77.50%, val_best:  78.75%: 100%|██████████| 62/62 [00:05<00:00, 10.61it/s]                                    \n",
      "epoch-22  lr=['0.0065849'], tr/val_loss:  0.129540/  1.694884, tr:  98.47%, val:  77.50%, val_best:  78.75%: 100%|██████████| 62/62 [00:05<00:00, 11.40it/s]                                    \n",
      "epoch-23  lr=['0.0063585'], tr/val_loss:  0.120581/  1.708034, tr:  99.80%, val:  78.33%, val_best:  78.75%: 100%|██████████| 62/62 [00:05<00:00, 10.72it/s]                                    \n",
      "epoch-24  lr=['0.0061275'], tr/val_loss:  0.090321/  1.917097, tr:  99.90%, val:  75.83%, val_best:  78.75%: 100%|██████████| 62/62 [00:05<00:00, 11.18it/s]                                    \n",
      "epoch-25  lr=['0.0058925'], tr/val_loss:  0.068921/  1.864239, tr:  99.80%, val:  79.17%, val_best:  79.17%: 100%|██████████| 62/62 [00:05<00:00, 10.38it/s]                                    \n",
      "epoch-26  lr=['0.0056542'], tr/val_loss:  0.050662/  1.886552, tr: 100.00%, val:  79.58%, val_best:  79.58%: 100%|██████████| 62/62 [00:06<00:00, 10.08it/s]                                    \n",
      "epoch-27  lr=['0.0054132'], tr/val_loss:  0.044643/  1.952799, tr: 100.00%, val:  80.42%, val_best:  80.42%: 100%|██████████| 62/62 [00:05<00:00, 11.11it/s]                                    \n",
      "epoch-28  lr=['0.0051703'], tr/val_loss:  0.040595/  1.964389, tr: 100.00%, val:  80.00%, val_best:  80.42%: 100%|██████████| 62/62 [00:05<00:00, 10.42it/s]                                    \n",
      "epoch-29  lr=['0.0049259'], tr/val_loss:  0.036790/  2.025687, tr: 100.00%, val:  81.67%, val_best:  81.67%: 100%|██████████| 62/62 [00:05<00:00, 11.57it/s]                                    \n",
      "epoch-30  lr=['0.0046810'], tr/val_loss:  0.039059/  2.013005, tr: 100.00%, val:  80.42%, val_best:  81.67%: 100%|██████████| 62/62 [00:05<00:00, 10.92it/s]                                    \n",
      "epoch-31  lr=['0.0044360'], tr/val_loss:  0.030333/  2.082124, tr: 100.00%, val:  80.00%, val_best:  81.67%: 100%|██████████| 62/62 [00:05<00:00, 10.60it/s]                                    \n",
      "epoch-32  lr=['0.0041917'], tr/val_loss:  0.026128/  2.124386, tr: 100.00%, val:  79.17%, val_best:  81.67%: 100%|██████████| 62/62 [00:05<00:00, 10.65it/s]                                    \n",
      "epoch-33  lr=['0.0039487'], tr/val_loss:  0.016980/  2.141032, tr: 100.00%, val:  80.00%, val_best:  81.67%: 100%|██████████| 62/62 [00:05<00:00, 10.90it/s]                                    \n",
      "epoch-34  lr=['0.0037077'], tr/val_loss:  0.014227/  2.150134, tr: 100.00%, val:  79.58%, val_best:  81.67%: 100%|██████████| 62/62 [00:05<00:00, 11.09it/s]                                    \n",
      "epoch-35  lr=['0.0034694'], tr/val_loss:  0.011821/  2.186347, tr: 100.00%, val:  79.58%, val_best:  81.67%: 100%|██████████| 62/62 [00:05<00:00, 10.39it/s]                                    \n",
      "epoch-36  lr=['0.0032345'], tr/val_loss:  0.010353/  2.219308, tr: 100.00%, val:  80.00%, val_best:  81.67%: 100%|██████████| 62/62 [00:05<00:00, 11.33it/s]                                    \n",
      "epoch-37  lr=['0.0030035'], tr/val_loss:  0.009355/  2.231802, tr: 100.00%, val:  80.42%, val_best:  81.67%: 100%|██████████| 62/62 [00:05<00:00, 10.60it/s]                                    \n",
      "epoch-38  lr=['0.0027770'], tr/val_loss:  0.007633/  2.249121, tr: 100.00%, val:  80.83%, val_best:  81.67%: 100%|██████████| 62/62 [00:05<00:00, 10.84it/s]                                    \n",
      "epoch-39  lr=['0.0025558'], tr/val_loss:  0.007937/  2.275949, tr: 100.00%, val:  80.42%, val_best:  81.67%: 100%|██████████| 62/62 [00:05<00:00, 10.92it/s]                                    \n",
      "epoch-40  lr=['0.0023405'], tr/val_loss:  0.007628/  2.280048, tr: 100.00%, val:  80.42%, val_best:  81.67%: 100%|██████████| 62/62 [00:05<00:00, 10.74it/s]                                    \n",
      "epoch-41  lr=['0.0021315'], tr/val_loss:  0.007361/  2.297150, tr: 100.00%, val:  80.42%, val_best:  81.67%: 100%|██████████| 62/62 [00:05<00:00, 10.85it/s]                                    \n",
      "epoch-42  lr=['0.0019296'], tr/val_loss:  0.006373/  2.309008, tr: 100.00%, val:  80.83%, val_best:  81.67%: 100%|██████████| 62/62 [00:06<00:00, 10.26it/s]                                    \n",
      "epoch-43  lr=['0.0017351'], tr/val_loss:  0.006528/  2.311673, tr: 100.00%, val:  80.42%, val_best:  81.67%: 100%|██████████| 62/62 [00:05<00:00, 10.41it/s]                                    \n",
      "epoch-44  lr=['0.0015488'], tr/val_loss:  0.005755/  2.321931, tr: 100.00%, val:  80.00%, val_best:  81.67%: 100%|██████████| 62/62 [00:05<00:00, 10.74it/s]                                    \n",
      "epoch-45  lr=['0.0013710'], tr/val_loss:  0.005801/  2.318291, tr: 100.00%, val:  81.67%, val_best:  81.67%: 100%|██████████| 62/62 [00:05<00:00, 10.81it/s]                                    \n",
      "epoch-46  lr=['0.0012023'], tr/val_loss:  0.005522/  2.331965, tr: 100.00%, val:  80.42%, val_best:  81.67%: 100%|██████████| 62/62 [00:05<00:00, 10.49it/s]                                    \n",
      "epoch-47  lr=['0.0010432'], tr/val_loss:  0.005496/  2.344357, tr: 100.00%, val:  80.42%, val_best:  81.67%: 100%|██████████| 62/62 [00:05<00:00, 10.87it/s]                                    \n",
      "epoch-48  lr=['0.0008940'], tr/val_loss:  0.005321/  2.346204, tr: 100.00%, val:  80.83%, val_best:  81.67%: 100%|██████████| 62/62 [00:06<00:00, 10.00it/s]                                    \n",
      "epoch-49  lr=['0.0007552'], tr/val_loss:  0.005333/  2.351970, tr: 100.00%, val:  80.83%, val_best:  81.67%: 100%|██████████| 62/62 [00:05<00:00, 10.92it/s]                                    \n",
      "epoch-50  lr=['0.0006271'], tr/val_loss:  0.005189/  2.362229, tr: 100.00%, val:  80.83%, val_best:  81.67%: 100%|██████████| 62/62 [00:05<00:00, 10.61it/s]                                    \n",
      "epoch-51  lr=['0.0005102'], tr/val_loss:  0.005154/  2.362528, tr: 100.00%, val:  80.42%, val_best:  81.67%: 100%|██████████| 62/62 [00:05<00:00, 10.82it/s]                                    \n",
      "epoch-52  lr=['0.0004047'], tr/val_loss:  0.004822/  2.369300, tr: 100.00%, val:  80.42%, val_best:  81.67%: 100%|██████████| 62/62 [00:05<00:00, 10.87it/s]                                    \n",
      "epoch-53  lr=['0.0003109'], tr/val_loss:  0.004649/  2.369990, tr: 100.00%, val:  80.00%, val_best:  81.67%: 100%|██████████| 62/62 [00:05<00:00, 10.41it/s]                                    \n",
      "epoch-54  lr=['0.0002291'], tr/val_loss:  0.004973/  2.365372, tr: 100.00%, val:  80.42%, val_best:  81.67%: 100%|██████████| 62/62 [00:05<00:00, 10.89it/s]                                    \n",
      "epoch-55  lr=['0.0001595'], tr/val_loss:  0.004613/  2.363759, tr: 100.00%, val:  80.00%, val_best:  81.67%: 100%|██████████| 62/62 [00:05<00:00, 10.48it/s]                                    \n",
      "epoch-56  lr=['0.0001023'], tr/val_loss:  0.004672/  2.365544, tr: 100.00%, val:  80.00%, val_best:  81.67%: 100%|██████████| 62/62 [00:06<00:00, 10.23it/s]                                    \n",
      "epoch-57  lr=['0.0000576'], tr/val_loss:  0.004505/  2.365465, tr: 100.00%, val:  80.00%, val_best:  81.67%: 100%|██████████| 62/62 [00:05<00:00, 11.25it/s]                                    \n",
      "epoch-58  lr=['0.0000256'], tr/val_loss:  0.004471/  2.365546, tr: 100.00%, val:  80.00%, val_best:  81.67%: 100%|██████████| 62/62 [00:05<00:00, 10.61it/s]                                    \n",
      "epoch-59  lr=['0.0000064'], tr/val_loss:  0.004575/  2.365573, tr: 100.00%, val:  80.00%, val_best:  81.67%: 100%|██████████| 62/62 [00:05<00:00, 10.56it/s]                                    \n"
     ]
    },
    {
     "data": {
      "application/vnd.jupyter.widget-view+json": {
       "model_id": "476f9ce156054b3d9b42d54c00a0d45f",
       "version_major": 2,
       "version_minor": 0
      },
      "text/plain": [
       "VBox(children=(Label(value='7.784 MB of 7.784 MB uploaded (2.363 MB deduped)\\r'), FloatProgress(value=1.0, max…"
      ]
     },
     "metadata": {},
     "output_type": "display_data"
    },
    {
     "data": {
      "text/html": [
       "W&B sync reduced upload amount by 29.8%"
      ],
      "text/plain": [
       "<IPython.core.display.HTML object>"
      ]
     },
     "metadata": {},
     "output_type": "display_data"
    },
    {
     "data": {
      "text/html": [
       "<style>\n",
       "    table.wandb td:nth-child(1) { padding: 0 10px; text-align: left ; width: auto;} td:nth-child(2) {text-align: left ; width: 100%}\n",
       "    .wandb-row { display: flex; flex-direction: row; flex-wrap: wrap; justify-content: flex-start; width: 100% }\n",
       "    .wandb-col { display: flex; flex-direction: column; flex-basis: 100%; flex: 1; padding: 10px; }\n",
       "    </style>\n",
       "<div class=\"wandb-row\"><div class=\"wandb-col\"><h3>Run history:</h3><br/><table class=\"wandb\"><tr><td>DFA_flag</td><td>▁▁▁▁▁▁▁▁▁▁▁▁▁▁▁▁▁▁▁▁▁▁▁▁▁▁▁▁▁▁▁▁▁▁▁▁▁▁▁▁</td></tr><tr><td>epoch</td><td>▁▁▁▁▂▂▂▂▂▃▃▃▃▃▃▄▄▄▄▄▅▅▅▅▅▆▆▆▆▆▆▇▇▇▇▇████</td></tr><tr><td>iter_acc</td><td>▁▅▆▅▅▅▅▇▆▇▇▇▇███████████████████████████</td></tr><tr><td>summary_val_acc</td><td>▁▆▆▆▆▆▇▇▇▇▇▇▇███████████████████████████</td></tr><tr><td>tr_acc</td><td>▁▄▆▆▆▆▆▇▇▇▇█████████████████████████████</td></tr><tr><td>tr_epoch_loss</td><td>▁█▅▄▄▄▄▃▃▃▂▂▂▂▂▁▁▁▁▁▁▁▁▁▁▁▁▁▁▁▁▁▁▁▁▁▁▁▁▁</td></tr><tr><td>val_acc_best</td><td>▁▆▆▆▆▆▇▇▇▇▇▇▇███████████████████████████</td></tr><tr><td>val_acc_now</td><td>▁▆▆▆▆▆▇▇▇▇▇▇▇███████████████████████████</td></tr><tr><td>val_loss</td><td>▁▅▄▄▅▄▄▅▅▅▅▆▅▆▆▆▆▇▇▇▇▇▇▇▇███████████████</td></tr></table><br/></div><div class=\"wandb-col\"><h3>Run summary:</h3><br/><table class=\"wandb\"><tr><td>DFA_flag</td><td>0.0</td></tr><tr><td>epoch</td><td>59</td></tr><tr><td>iter_acc</td><td>1.0</td></tr><tr><td>tr_acc</td><td>1.0</td></tr><tr><td>tr_epoch_loss</td><td>0.00458</td></tr><tr><td>val_acc_best</td><td>0.81667</td></tr><tr><td>val_acc_now</td><td>0.8</td></tr><tr><td>val_loss</td><td>2.36557</td></tr></table><br/></div></div>"
      ],
      "text/plain": [
       "<IPython.core.display.HTML object>"
      ]
     },
     "metadata": {},
     "output_type": "display_data"
    },
    {
     "data": {
      "text/html": [
       " View run <strong style=\"color:#cdcd00\">avid-sweep-80</strong> at: <a href='https://wandb.ai/bhkim003-seoul-national-university/my_snn%20main/runs/nr229ff6' target=\"_blank\">https://wandb.ai/bhkim003-seoul-national-university/my_snn%20main/runs/nr229ff6</a><br/> View project at: <a href='https://wandb.ai/bhkim003-seoul-national-university/my_snn%20main' target=\"_blank\">https://wandb.ai/bhkim003-seoul-national-university/my_snn%20main</a><br/>Synced 7 W&B file(s), 0 media file(s), 14 artifact file(s) and 1 other file(s)"
      ],
      "text/plain": [
       "<IPython.core.display.HTML object>"
      ]
     },
     "metadata": {},
     "output_type": "display_data"
    },
    {
     "data": {
      "text/html": [
       "Find logs at: <code>./wandb/run-20240821_190012-nr229ff6/logs</code>"
      ],
      "text/plain": [
       "<IPython.core.display.HTML object>"
      ]
     },
     "metadata": {},
     "output_type": "display_data"
    },
    {
     "data": {
      "text/html": [
       "The new W&B backend becomes opt-out in version 0.18.0; try it out with `wandb.require(\"core\")`! See https://wandb.me/wandb-core for more information."
      ],
      "text/plain": [
       "<IPython.core.display.HTML object>"
      ]
     },
     "metadata": {},
     "output_type": "display_data"
    },
    {
     "name": "stderr",
     "output_type": "stream",
     "text": [
      "\u001b[34m\u001b[1mwandb\u001b[0m: Sweep Agent: Waiting for job.\n",
      "\u001b[34m\u001b[1mwandb\u001b[0m: Job received.\n",
      "\u001b[34m\u001b[1mwandb\u001b[0m: Agent Starting Run: hz1bq2st with config:\n",
      "\u001b[34m\u001b[1mwandb\u001b[0m: \tBATCH: 16\n",
      "\u001b[34m\u001b[1mwandb\u001b[0m: \tDFA_on: False\n",
      "\u001b[34m\u001b[1mwandb\u001b[0m: \tIMAGE_SIZE: 128\n",
      "\u001b[34m\u001b[1mwandb\u001b[0m: \tOTTT_input_trace_on: False\n",
      "\u001b[34m\u001b[1mwandb\u001b[0m: \tOTTT_sWS_on: False\n",
      "\u001b[34m\u001b[1mwandb\u001b[0m: \tTIME: 10\n",
      "\u001b[34m\u001b[1mwandb\u001b[0m: \tcfg: ['M', 'M', 200, 200]\n",
      "\u001b[34m\u001b[1mwandb\u001b[0m: \tconst2: False\n",
      "\u001b[34m\u001b[1mwandb\u001b[0m: \tdecay: 0.09233836324770892\n",
      "\u001b[34m\u001b[1mwandb\u001b[0m: \tdrop_rate: 0\n",
      "\u001b[34m\u001b[1mwandb\u001b[0m: \tdvs_clipping: 2\n",
      "\u001b[34m\u001b[1mwandb\u001b[0m: \tdvs_duration: 100000\n",
      "\u001b[34m\u001b[1mwandb\u001b[0m: \te_transport_swap: 0\n",
      "\u001b[34m\u001b[1mwandb\u001b[0m: \te_transport_swap_tr: 0\n",
      "\u001b[34m\u001b[1mwandb\u001b[0m: \tepoch_num: 60\n",
      "\u001b[34m\u001b[1mwandb\u001b[0m: \texclude_class: True\n",
      "\u001b[34m\u001b[1mwandb\u001b[0m: \tlearning_rate: 0.00936191669529645\n",
      "\u001b[34m\u001b[1mwandb\u001b[0m: \tmerge_polarities: False\n",
      "\u001b[34m\u001b[1mwandb\u001b[0m: \tsurrogate: hard_sigmoid\n",
      "\u001b[34m\u001b[1mwandb\u001b[0m: \twhich_data: DVS_GESTURE_TONIC\n",
      "Failed to detect the name of this notebook, you can set it manually with the WANDB_NOTEBOOK_NAME environment variable to enable code saving.\n"
     ]
    },
    {
     "data": {
      "text/html": [
       "wandb version 0.17.7 is available!  To upgrade, please run:\n",
       " $ pip install wandb --upgrade"
      ],
      "text/plain": [
       "<IPython.core.display.HTML object>"
      ]
     },
     "metadata": {},
     "output_type": "display_data"
    },
    {
     "data": {
      "text/html": [
       "Tracking run with wandb version 0.17.5"
      ],
      "text/plain": [
       "<IPython.core.display.HTML object>"
      ]
     },
     "metadata": {},
     "output_type": "display_data"
    },
    {
     "data": {
      "text/html": [
       "Run data is saved locally in <code>/nfs/home/bhkim003/github_folder/ByeonghyeonKim/my_snn/wandb/run-20240821_190636-hz1bq2st</code>"
      ],
      "text/plain": [
       "<IPython.core.display.HTML object>"
      ]
     },
     "metadata": {},
     "output_type": "display_data"
    },
    {
     "data": {
      "text/html": [
       "Syncing run <strong><a href='https://wandb.ai/bhkim003-seoul-national-university/my_snn%20main/runs/hz1bq2st' target=\"_blank\">super-sweep-83</a></strong> to <a href='https://wandb.ai/bhkim003-seoul-national-university/my_snn%20main' target=\"_blank\">Weights & Biases</a> (<a href='https://wandb.me/run' target=\"_blank\">docs</a>)<br/>Sweep page: <a href='https://wandb.ai/bhkim003-seoul-national-university/my_snn%20main/sweeps/gqhgeaun' target=\"_blank\">https://wandb.ai/bhkim003-seoul-national-university/my_snn%20main/sweeps/gqhgeaun</a>"
      ],
      "text/plain": [
       "<IPython.core.display.HTML object>"
      ]
     },
     "metadata": {},
     "output_type": "display_data"
    },
    {
     "data": {
      "text/html": [
       " View project at <a href='https://wandb.ai/bhkim003-seoul-national-university/my_snn%20main' target=\"_blank\">https://wandb.ai/bhkim003-seoul-national-university/my_snn%20main</a>"
      ],
      "text/plain": [
       "<IPython.core.display.HTML object>"
      ]
     },
     "metadata": {},
     "output_type": "display_data"
    },
    {
     "data": {
      "text/html": [
       " View sweep at <a href='https://wandb.ai/bhkim003-seoul-national-university/my_snn%20main/sweeps/gqhgeaun' target=\"_blank\">https://wandb.ai/bhkim003-seoul-national-university/my_snn%20main/sweeps/gqhgeaun</a>"
      ],
      "text/plain": [
       "<IPython.core.display.HTML object>"
      ]
     },
     "metadata": {},
     "output_type": "display_data"
    },
    {
     "data": {
      "text/html": [
       " View run at <a href='https://wandb.ai/bhkim003-seoul-national-university/my_snn%20main/runs/hz1bq2st' target=\"_blank\">https://wandb.ai/bhkim003-seoul-national-university/my_snn%20main/runs/hz1bq2st</a>"
      ],
      "text/plain": [
       "<IPython.core.display.HTML object>"
      ]
     },
     "metadata": {},
     "output_type": "display_data"
    },
    {
     "name": "stderr",
     "output_type": "stream",
     "text": [
      "\u001b[34m\u001b[1mwandb\u001b[0m: \u001b[33mWARNING\u001b[0m Config item 'BATCH' was locked by 'sweep' (ignored update).\n",
      "\u001b[34m\u001b[1mwandb\u001b[0m: \u001b[33mWARNING\u001b[0m Config item 'IMAGE_SIZE' was locked by 'sweep' (ignored update).\n",
      "\u001b[34m\u001b[1mwandb\u001b[0m: \u001b[33mWARNING\u001b[0m Config item 'which_data' was locked by 'sweep' (ignored update).\n",
      "\u001b[34m\u001b[1mwandb\u001b[0m: \u001b[33mWARNING\u001b[0m Config item 'cfg' was locked by 'sweep' (ignored update).\n",
      "\u001b[34m\u001b[1mwandb\u001b[0m: \u001b[33mWARNING\u001b[0m Config item 'learning_rate' was locked by 'sweep' (ignored update).\n",
      "\u001b[34m\u001b[1mwandb\u001b[0m: \u001b[33mWARNING\u001b[0m Config item 'epoch_num' was locked by 'sweep' (ignored update).\n",
      "\u001b[34m\u001b[1mwandb\u001b[0m: \u001b[33mWARNING\u001b[0m Config item 'surrogate' was locked by 'sweep' (ignored update).\n",
      "\u001b[34m\u001b[1mwandb\u001b[0m: \u001b[33mWARNING\u001b[0m Config item 'dvs_clipping' was locked by 'sweep' (ignored update).\n",
      "\u001b[34m\u001b[1mwandb\u001b[0m: \u001b[33mWARNING\u001b[0m Config item 'dvs_duration' was locked by 'sweep' (ignored update).\n",
      "\u001b[34m\u001b[1mwandb\u001b[0m: \u001b[33mWARNING\u001b[0m Config item 'OTTT_sWS_on' was locked by 'sweep' (ignored update).\n",
      "\u001b[34m\u001b[1mwandb\u001b[0m: \u001b[33mWARNING\u001b[0m Config item 'DFA_on' was locked by 'sweep' (ignored update).\n",
      "\u001b[34m\u001b[1mwandb\u001b[0m: \u001b[33mWARNING\u001b[0m Config item 'OTTT_input_trace_on' was locked by 'sweep' (ignored update).\n",
      "\u001b[34m\u001b[1mwandb\u001b[0m: \u001b[33mWARNING\u001b[0m Config item 'e_transport_swap' was locked by 'sweep' (ignored update).\n",
      "\u001b[34m\u001b[1mwandb\u001b[0m: \u001b[33mWARNING\u001b[0m Config item 'e_transport_swap_tr' was locked by 'sweep' (ignored update).\n",
      "\u001b[34m\u001b[1mwandb\u001b[0m: \u001b[33mWARNING\u001b[0m Config item 'drop_rate' was locked by 'sweep' (ignored update).\n",
      "\u001b[34m\u001b[1mwandb\u001b[0m: \u001b[33mWARNING\u001b[0m Config item 'exclude_class' was locked by 'sweep' (ignored update).\n",
      "\u001b[34m\u001b[1mwandb\u001b[0m: \u001b[33mWARNING\u001b[0m Config item 'merge_polarities' was locked by 'sweep' (ignored update).\n",
      "\u001b[34m\u001b[1mwandb\u001b[0m: \u001b[33mWARNING\u001b[0m Config item 'TIME' was locked by 'sweep' (ignored update).\n"
     ]
    },
    {
     "name": "stdout",
     "output_type": "stream",
     "text": [
      "dataset_hash = 2bbd58b4e0d3c1e9ad501fad8a43feed\n",
      "cache path exists\n",
      "\n",
      "we will exclude the 'other' class. dvsgestrue 10 classes' indices exist. \n",
      "\n",
      "DataParallel(\n",
      "  (module): MY_SNN_FC_sstep(\n",
      "    (layers): MY_Sequential(\n",
      "      (0): MaxPool2d(kernel_size=2, stride=2, padding=0, dilation=1, ceil_mode=False)\n",
      "      (1): MaxPool2d(kernel_size=2, stride=2, padding=0, dilation=1, ceil_mode=False)\n",
      "      (2): DimChanger_for_FC_sstep()\n",
      "      (3): SYNAPSE_FC_trace_sstep()\n",
      "      (4): LIF_layer_trace_sstep()\n",
      "      (5): SYNAPSE_FC_trace_sstep()\n",
      "      (6): LIF_layer_trace_sstep()\n",
      "      (7): SYNAPSE_FC_trace_sstep()\n",
      "    )\n",
      "  )\n",
      ")\n",
      "==================================================\n",
      "My Num of PARAMS: 452,010, system's param_num : 452,010\n",
      "Memory: 1.72MiB at 32-bit\n",
      "==================================================\n"
     ]
    },
    {
     "name": "stderr",
     "output_type": "stream",
     "text": [
      "epoch-0   lr=['0.0093619'], tr/val_loss:  1.838930/  1.499085, tr:  36.98%, val:  54.58%, val_best:  54.58%: 100%|██████████| 62/62 [00:06<00:00,  9.62it/s]                                    \n",
      "epoch-1   lr=['0.0093555'], tr/val_loss:  1.162062/  1.277103, tr:  62.21%, val:  60.00%, val_best:  60.00%: 100%|██████████| 62/62 [00:05<00:00, 10.34it/s]                                    \n",
      "epoch-2   lr=['0.0093363'], tr/val_loss:  1.012129/  1.157628, tr:  65.68%, val:  63.33%, val_best:  63.33%: 100%|██████████| 62/62 [00:06<00:00, 10.08it/s]                                    \n",
      "epoch-3   lr=['0.0093043'], tr/val_loss:  0.916598/  1.152984, tr:  69.36%, val:  64.58%, val_best:  64.58%: 100%|██████████| 62/62 [00:06<00:00,  9.10it/s]                                    \n",
      "epoch-4   lr=['0.0092596'], tr/val_loss:  0.876079/  1.217717, tr:  69.97%, val:  63.75%, val_best:  64.58%: 100%|██████████| 62/62 [00:05<00:00, 10.56it/s]                                    \n",
      "epoch-5   lr=['0.0092024'], tr/val_loss:  0.849032/  1.286719, tr:  67.82%, val:  62.50%, val_best:  64.58%: 100%|██████████| 62/62 [00:05<00:00, 10.36it/s]                                    \n",
      "epoch-6   lr=['0.0091328'], tr/val_loss:  0.731004/  1.177051, tr:  74.36%, val:  63.33%, val_best:  64.58%: 100%|██████████| 62/62 [00:05<00:00, 10.67it/s]                                    \n",
      "epoch-7   lr=['0.0090510'], tr/val_loss:  0.688213/  1.262207, tr:  76.30%, val:  64.58%, val_best:  64.58%: 100%|██████████| 62/62 [00:05<00:00, 11.07it/s]                                    \n",
      "epoch-8   lr=['0.0089572'], tr/val_loss:  0.684038/  1.115264, tr:  76.40%, val:  69.58%, val_best:  69.58%: 100%|██████████| 62/62 [00:05<00:00, 10.83it/s]                                    \n",
      "epoch-9   lr=['0.0088517'], tr/val_loss:  0.527214/  1.276637, tr:  82.53%, val:  68.75%, val_best:  69.58%: 100%|██████████| 62/62 [00:05<00:00, 10.72it/s]                                    \n",
      "epoch-10  lr=['0.0087348'], tr/val_loss:  0.503990/  1.212400, tr:  84.37%, val:  68.33%, val_best:  69.58%: 100%|██████████| 62/62 [00:05<00:00, 11.91it/s]                                    \n",
      "epoch-11  lr=['0.0086067'], tr/val_loss:  0.491929/  1.254551, tr:  82.53%, val:  72.92%, val_best:  72.92%: 100%|██████████| 62/62 [00:05<00:00, 11.34it/s]                                    \n",
      "epoch-12  lr=['0.0084679'], tr/val_loss:  0.484651/  1.206679, tr:  84.37%, val:  76.67%, val_best:  76.67%: 100%|██████████| 62/62 [00:05<00:00, 10.84it/s]                                    \n",
      "epoch-13  lr=['0.0083187'], tr/val_loss:  0.421282/  1.277279, tr:  88.97%, val:  70.83%, val_best:  76.67%: 100%|██████████| 62/62 [00:05<00:00, 11.17it/s]                                    \n",
      "epoch-14  lr=['0.0081596'], tr/val_loss:  0.350588/  1.345136, tr:  91.01%, val:  73.33%, val_best:  76.67%: 100%|██████████| 62/62 [00:05<00:00, 12.05it/s]                                    \n",
      "epoch-15  lr=['0.0079909'], tr/val_loss:  0.339065/  1.328785, tr:  92.13%, val:  72.50%, val_best:  76.67%: 100%|██████████| 62/62 [00:05<00:00, 11.51it/s]                                    \n",
      "epoch-16  lr=['0.0078131'], tr/val_loss:  0.288965/  1.601631, tr:  93.97%, val:  70.83%, val_best:  76.67%: 100%|██████████| 62/62 [00:05<00:00, 10.63it/s]                                    \n",
      "epoch-17  lr=['0.0076268'], tr/val_loss:  0.281036/  1.391416, tr:  93.87%, val:  72.92%, val_best:  76.67%: 100%|██████████| 62/62 [00:06<00:00,  9.90it/s]                                    \n",
      "epoch-18  lr=['0.0074324'], tr/val_loss:  0.252577/  1.405507, tr:  94.79%, val:  77.92%, val_best:  77.92%: 100%|██████████| 62/62 [00:05<00:00, 10.57it/s]                                    \n",
      "epoch-19  lr=['0.0072304'], tr/val_loss:  0.200470/  1.504115, tr:  96.83%, val:  75.42%, val_best:  77.92%: 100%|██████████| 62/62 [00:06<00:00,  9.42it/s]                                    \n",
      "epoch-20  lr=['0.0070214'], tr/val_loss:  0.154286/  1.663365, tr:  99.08%, val:  76.67%, val_best:  77.92%: 100%|██████████| 62/62 [00:05<00:00, 10.91it/s]                                    \n",
      "epoch-21  lr=['0.0068061'], tr/val_loss:  0.118776/  1.773092, tr:  99.90%, val:  77.92%, val_best:  77.92%: 100%|██████████| 62/62 [00:05<00:00, 10.54it/s]                                    \n",
      "epoch-22  lr=['0.0065849'], tr/val_loss:  0.131524/  1.692121, tr:  98.67%, val:  79.17%, val_best:  79.17%: 100%|██████████| 62/62 [00:06<00:00,  9.71it/s]                                    \n",
      "epoch-23  lr=['0.0063585'], tr/val_loss:  0.096194/  1.741979, tr: 100.00%, val:  79.17%, val_best:  79.17%: 100%|██████████| 62/62 [00:05<00:00, 10.82it/s]                                    \n",
      "epoch-24  lr=['0.0061275'], tr/val_loss:  0.076286/  1.992571, tr: 100.00%, val:  74.17%, val_best:  79.17%: 100%|██████████| 62/62 [00:05<00:00, 10.55it/s]                                    \n",
      "epoch-25  lr=['0.0058925'], tr/val_loss:  0.077916/  1.868472, tr:  99.80%, val:  77.92%, val_best:  79.17%: 100%|██████████| 62/62 [00:06<00:00, 10.03it/s]                                    \n",
      "epoch-26  lr=['0.0056542'], tr/val_loss:  0.058658/  1.855920, tr: 100.00%, val:  79.58%, val_best:  79.58%: 100%|██████████| 62/62 [00:05<00:00, 10.39it/s]                                    \n",
      "epoch-27  lr=['0.0054132'], tr/val_loss:  0.045084/  1.989142, tr: 100.00%, val:  77.92%, val_best:  79.58%: 100%|██████████| 62/62 [00:05<00:00, 10.44it/s]                                    \n",
      "epoch-28  lr=['0.0051703'], tr/val_loss:  0.034911/  1.998658, tr: 100.00%, val:  79.58%, val_best:  79.58%: 100%|██████████| 62/62 [00:05<00:00, 11.11it/s]                                    \n",
      "epoch-29  lr=['0.0049259'], tr/val_loss:  0.038865/  2.051480, tr: 100.00%, val:  80.00%, val_best:  80.00%: 100%|██████████| 62/62 [00:05<00:00, 10.43it/s]                                    \n",
      "epoch-30  lr=['0.0046810'], tr/val_loss:  0.033688/  2.038438, tr: 100.00%, val:  81.25%, val_best:  81.25%: 100%|██████████| 62/62 [00:05<00:00, 11.30it/s]                                    \n",
      "epoch-31  lr=['0.0044360'], tr/val_loss:  0.025571/  2.058563, tr: 100.00%, val:  80.42%, val_best:  81.25%: 100%|██████████| 62/62 [00:05<00:00, 10.96it/s]                                    \n",
      "epoch-32  lr=['0.0041917'], tr/val_loss:  0.031673/  2.124604, tr: 100.00%, val:  78.75%, val_best:  81.25%: 100%|██████████| 62/62 [00:05<00:00, 10.88it/s]                                    \n",
      "epoch-33  lr=['0.0039487'], tr/val_loss:  0.017860/  2.140039, tr: 100.00%, val:  78.75%, val_best:  81.25%: 100%|██████████| 62/62 [00:06<00:00,  9.92it/s]                                    \n",
      "epoch-34  lr=['0.0037077'], tr/val_loss:  0.015873/  2.164762, tr: 100.00%, val:  78.75%, val_best:  81.25%: 100%|██████████| 62/62 [00:05<00:00, 11.50it/s]                                    \n",
      "epoch-35  lr=['0.0034694'], tr/val_loss:  0.012343/  2.190509, tr: 100.00%, val:  80.00%, val_best:  81.25%: 100%|██████████| 62/62 [00:05<00:00, 10.54it/s]                                    \n",
      "epoch-36  lr=['0.0032345'], tr/val_loss:  0.011942/  2.214247, tr: 100.00%, val:  80.83%, val_best:  81.25%: 100%|██████████| 62/62 [00:05<00:00, 10.68it/s]                                    \n",
      "epoch-37  lr=['0.0030035'], tr/val_loss:  0.010183/  2.219924, tr: 100.00%, val:  80.00%, val_best:  81.25%: 100%|██████████| 62/62 [00:05<00:00, 11.50it/s]                                    \n",
      "epoch-38  lr=['0.0027770'], tr/val_loss:  0.008339/  2.242546, tr: 100.00%, val:  80.42%, val_best:  81.25%: 100%|██████████| 62/62 [00:05<00:00, 10.53it/s]                                    \n",
      "epoch-39  lr=['0.0025558'], tr/val_loss:  0.008766/  2.253971, tr: 100.00%, val:  80.42%, val_best:  81.25%: 100%|██████████| 62/62 [00:06<00:00, 10.28it/s]                                    \n",
      "epoch-40  lr=['0.0023405'], tr/val_loss:  0.007351/  2.257311, tr: 100.00%, val:  81.25%, val_best:  81.25%: 100%|██████████| 62/62 [00:06<00:00, 10.25it/s]                                    \n",
      "epoch-41  lr=['0.0021315'], tr/val_loss:  0.006554/  2.282273, tr: 100.00%, val:  81.67%, val_best:  81.67%: 100%|██████████| 62/62 [00:05<00:00, 11.81it/s]                                    \n",
      "epoch-42  lr=['0.0019296'], tr/val_loss:  0.006396/  2.295218, tr: 100.00%, val:  80.83%, val_best:  81.67%: 100%|██████████| 62/62 [00:05<00:00, 10.94it/s]                                    \n",
      "epoch-43  lr=['0.0017351'], tr/val_loss:  0.005864/  2.307000, tr: 100.00%, val:  81.25%, val_best:  81.67%: 100%|██████████| 62/62 [00:05<00:00, 11.71it/s]                                    \n",
      "epoch-44  lr=['0.0015488'], tr/val_loss:  0.005696/  2.303082, tr: 100.00%, val:  80.42%, val_best:  81.67%: 100%|██████████| 62/62 [00:06<00:00, 10.24it/s]                                    \n",
      "epoch-45  lr=['0.0013710'], tr/val_loss:  0.005716/  2.315489, tr: 100.00%, val:  80.83%, val_best:  81.67%: 100%|██████████| 62/62 [00:05<00:00, 10.38it/s]                                    \n",
      "epoch-46  lr=['0.0012023'], tr/val_loss:  0.005665/  2.326755, tr: 100.00%, val:  80.42%, val_best:  81.67%: 100%|██████████| 62/62 [00:05<00:00, 11.31it/s]                                    \n",
      "epoch-47  lr=['0.0010432'], tr/val_loss:  0.005418/  2.313931, tr: 100.00%, val:  80.42%, val_best:  81.67%: 100%|██████████| 62/62 [00:05<00:00, 10.55it/s]                                    \n",
      "epoch-48  lr=['0.0008940'], tr/val_loss:  0.005562/  2.320118, tr: 100.00%, val:  80.83%, val_best:  81.67%: 100%|██████████| 62/62 [00:05<00:00, 11.12it/s]                                    \n",
      "epoch-49  lr=['0.0007552'], tr/val_loss:  0.005065/  2.320044, tr: 100.00%, val:  80.83%, val_best:  81.67%: 100%|██████████| 62/62 [00:05<00:00, 10.97it/s]                                    \n",
      "epoch-50  lr=['0.0006271'], tr/val_loss:  0.005259/  2.313862, tr: 100.00%, val:  80.42%, val_best:  81.67%: 100%|██████████| 62/62 [00:05<00:00, 10.46it/s]                                    \n",
      "epoch-51  lr=['0.0005102'], tr/val_loss:  0.005053/  2.322189, tr: 100.00%, val:  80.83%, val_best:  81.67%: 100%|██████████| 62/62 [00:05<00:00, 11.35it/s]                                    \n",
      "epoch-52  lr=['0.0004047'], tr/val_loss:  0.004969/  2.320856, tr: 100.00%, val:  80.83%, val_best:  81.67%: 100%|██████████| 62/62 [00:05<00:00, 10.38it/s]                                    \n",
      "epoch-53  lr=['0.0003109'], tr/val_loss:  0.004875/  2.320853, tr: 100.00%, val:  80.42%, val_best:  81.67%: 100%|██████████| 62/62 [00:05<00:00, 10.53it/s]                                    \n",
      "epoch-54  lr=['0.0002291'], tr/val_loss:  0.004721/  2.320588, tr: 100.00%, val:  80.83%, val_best:  81.67%: 100%|██████████| 62/62 [00:05<00:00, 10.65it/s]                                    \n",
      "epoch-55  lr=['0.0001595'], tr/val_loss:  0.004668/  2.315742, tr: 100.00%, val:  80.83%, val_best:  81.67%: 100%|██████████| 62/62 [00:06<00:00, 10.20it/s]                                    \n",
      "epoch-56  lr=['0.0001023'], tr/val_loss:  0.004712/  2.318475, tr: 100.00%, val:  80.83%, val_best:  81.67%: 100%|██████████| 62/62 [00:05<00:00, 11.15it/s]                                    \n",
      "epoch-57  lr=['0.0000576'], tr/val_loss:  0.004619/  2.317369, tr: 100.00%, val:  80.83%, val_best:  81.67%: 100%|██████████| 62/62 [00:05<00:00, 11.20it/s]                                    \n",
      "epoch-58  lr=['0.0000256'], tr/val_loss:  0.004588/  2.318152, tr: 100.00%, val:  80.83%, val_best:  81.67%: 100%|██████████| 62/62 [00:05<00:00, 10.55it/s]                                    \n",
      "epoch-59  lr=['0.0000064'], tr/val_loss:  0.004628/  2.318167, tr: 100.00%, val:  80.83%, val_best:  81.67%: 100%|██████████| 62/62 [00:06<00:00, 10.04it/s]                                    \n"
     ]
    },
    {
     "data": {
      "application/vnd.jupyter.widget-view+json": {
       "model_id": "1dd8271d53974f5cb54a15ac35f4ed8f",
       "version_major": 2,
       "version_minor": 0
      },
      "text/plain": [
       "VBox(children=(Label(value='5.127 MB of 5.127 MB uploaded\\r'), FloatProgress(value=1.0, max=1.0)))"
      ]
     },
     "metadata": {},
     "output_type": "display_data"
    },
    {
     "data": {
      "text/html": [
       "<style>\n",
       "    table.wandb td:nth-child(1) { padding: 0 10px; text-align: left ; width: auto;} td:nth-child(2) {text-align: left ; width: 100%}\n",
       "    .wandb-row { display: flex; flex-direction: row; flex-wrap: wrap; justify-content: flex-start; width: 100% }\n",
       "    .wandb-col { display: flex; flex-direction: column; flex-basis: 100%; flex: 1; padding: 10px; }\n",
       "    </style>\n",
       "<div class=\"wandb-row\"><div class=\"wandb-col\"><h3>Run history:</h3><br/><table class=\"wandb\"><tr><td>DFA_flag</td><td>▁▁▁▁▁▁▁▁▁▁▁▁▁▁▁▁▁▁▁▁▁▁▁▁▁▁▁▁▁▁▁▁▁▁▁▁▁▁▁▁</td></tr><tr><td>epoch</td><td>▁▁▁▁▂▂▂▂▂▃▃▃▃▃▃▄▄▄▄▄▅▅▅▅▅▆▆▆▆▆▆▇▇▇▇▇████</td></tr><tr><td>iter_acc</td><td>▁▅▆▅▅▅▅▇▆▆▇▇▇███████████████████████████</td></tr><tr><td>summary_val_acc</td><td>▁▆▆▇▆▆▇▇▇█▇▇▇▇██████████████████████████</td></tr><tr><td>tr_acc</td><td>▁▄▆▆▆▆▆▇▇▇▇█████████████████████████████</td></tr><tr><td>tr_epoch_loss</td><td>▁█▅▄▄▄▄▃▃▃▂▂▂▂▂▂▁▁▁▁▁▁▁▁▁▁▁▁▁▁▁▁▁▁▁▁▁▁▁▁</td></tr><tr><td>val_acc_best</td><td>▁▆▆▇▇▇▇▇▇███████████████████████████████</td></tr><tr><td>val_acc_now</td><td>▁▆▆▇▆▆▇▇▇█▇▇▇▇██████████████████████████</td></tr><tr><td>val_loss</td><td>▁▆▄▄▅▅▄▅▅▅▅▆▅▆▆▆▆▇▇▇▇▇▇█████████████████</td></tr></table><br/></div><div class=\"wandb-col\"><h3>Run summary:</h3><br/><table class=\"wandb\"><tr><td>DFA_flag</td><td>0.0</td></tr><tr><td>epoch</td><td>59</td></tr><tr><td>iter_acc</td><td>1.0</td></tr><tr><td>tr_acc</td><td>1.0</td></tr><tr><td>tr_epoch_loss</td><td>0.00463</td></tr><tr><td>val_acc_best</td><td>0.81667</td></tr><tr><td>val_acc_now</td><td>0.80833</td></tr><tr><td>val_loss</td><td>2.31817</td></tr></table><br/></div></div>"
      ],
      "text/plain": [
       "<IPython.core.display.HTML object>"
      ]
     },
     "metadata": {},
     "output_type": "display_data"
    },
    {
     "data": {
      "text/html": [
       " View run <strong style=\"color:#cdcd00\">super-sweep-83</strong> at: <a href='https://wandb.ai/bhkim003-seoul-national-university/my_snn%20main/runs/hz1bq2st' target=\"_blank\">https://wandb.ai/bhkim003-seoul-national-university/my_snn%20main/runs/hz1bq2st</a><br/> View project at: <a href='https://wandb.ai/bhkim003-seoul-national-university/my_snn%20main' target=\"_blank\">https://wandb.ai/bhkim003-seoul-national-university/my_snn%20main</a><br/>Synced 7 W&B file(s), 0 media file(s), 0 artifact file(s) and 1 other file(s)"
      ],
      "text/plain": [
       "<IPython.core.display.HTML object>"
      ]
     },
     "metadata": {},
     "output_type": "display_data"
    },
    {
     "data": {
      "text/html": [
       "Find logs at: <code>./wandb/run-20240821_190636-hz1bq2st/logs</code>"
      ],
      "text/plain": [
       "<IPython.core.display.HTML object>"
      ]
     },
     "metadata": {},
     "output_type": "display_data"
    },
    {
     "data": {
      "text/html": [
       "The new W&B backend becomes opt-out in version 0.18.0; try it out with `wandb.require(\"core\")`! See https://wandb.me/wandb-core for more information."
      ],
      "text/plain": [
       "<IPython.core.display.HTML object>"
      ]
     },
     "metadata": {},
     "output_type": "display_data"
    },
    {
     "name": "stderr",
     "output_type": "stream",
     "text": [
      "\u001b[34m\u001b[1mwandb\u001b[0m: Sweep Agent: Waiting for job.\n",
      "\u001b[34m\u001b[1mwandb\u001b[0m: Job received.\n",
      "\u001b[34m\u001b[1mwandb\u001b[0m: Agent Starting Run: 6z5lrs1m with config:\n",
      "\u001b[34m\u001b[1mwandb\u001b[0m: \tBATCH: 16\n",
      "\u001b[34m\u001b[1mwandb\u001b[0m: \tDFA_on: False\n",
      "\u001b[34m\u001b[1mwandb\u001b[0m: \tIMAGE_SIZE: 128\n",
      "\u001b[34m\u001b[1mwandb\u001b[0m: \tOTTT_input_trace_on: False\n",
      "\u001b[34m\u001b[1mwandb\u001b[0m: \tOTTT_sWS_on: False\n",
      "\u001b[34m\u001b[1mwandb\u001b[0m: \tTIME: 10\n",
      "\u001b[34m\u001b[1mwandb\u001b[0m: \tcfg: ['M', 'M', 200, 200]\n",
      "\u001b[34m\u001b[1mwandb\u001b[0m: \tconst2: False\n",
      "\u001b[34m\u001b[1mwandb\u001b[0m: \tdecay: 0.1911325154654396\n",
      "\u001b[34m\u001b[1mwandb\u001b[0m: \tdrop_rate: 0\n",
      "\u001b[34m\u001b[1mwandb\u001b[0m: \tdvs_clipping: 2\n",
      "\u001b[34m\u001b[1mwandb\u001b[0m: \tdvs_duration: 100000\n",
      "\u001b[34m\u001b[1mwandb\u001b[0m: \te_transport_swap: 0\n",
      "\u001b[34m\u001b[1mwandb\u001b[0m: \te_transport_swap_tr: 0\n",
      "\u001b[34m\u001b[1mwandb\u001b[0m: \tepoch_num: 60\n",
      "\u001b[34m\u001b[1mwandb\u001b[0m: \texclude_class: True\n",
      "\u001b[34m\u001b[1mwandb\u001b[0m: \tlearning_rate: 0.00936191669529645\n",
      "\u001b[34m\u001b[1mwandb\u001b[0m: \tmerge_polarities: False\n",
      "\u001b[34m\u001b[1mwandb\u001b[0m: \tsurrogate: hard_sigmoid\n",
      "\u001b[34m\u001b[1mwandb\u001b[0m: \twhich_data: DVS_GESTURE_TONIC\n",
      "Failed to detect the name of this notebook, you can set it manually with the WANDB_NOTEBOOK_NAME environment variable to enable code saving.\n"
     ]
    },
    {
     "data": {
      "text/html": [
       "wandb version 0.17.7 is available!  To upgrade, please run:\n",
       " $ pip install wandb --upgrade"
      ],
      "text/plain": [
       "<IPython.core.display.HTML object>"
      ]
     },
     "metadata": {},
     "output_type": "display_data"
    },
    {
     "data": {
      "text/html": [
       "Tracking run with wandb version 0.17.5"
      ],
      "text/plain": [
       "<IPython.core.display.HTML object>"
      ]
     },
     "metadata": {},
     "output_type": "display_data"
    },
    {
     "data": {
      "text/html": [
       "Run data is saved locally in <code>/nfs/home/bhkim003/github_folder/ByeonghyeonKim/my_snn/wandb/run-20240821_191306-6z5lrs1m</code>"
      ],
      "text/plain": [
       "<IPython.core.display.HTML object>"
      ]
     },
     "metadata": {},
     "output_type": "display_data"
    },
    {
     "data": {
      "text/html": [
       "Syncing run <strong><a href='https://wandb.ai/bhkim003-seoul-national-university/my_snn%20main/runs/6z5lrs1m' target=\"_blank\">whole-sweep-86</a></strong> to <a href='https://wandb.ai/bhkim003-seoul-national-university/my_snn%20main' target=\"_blank\">Weights & Biases</a> (<a href='https://wandb.me/run' target=\"_blank\">docs</a>)<br/>Sweep page: <a href='https://wandb.ai/bhkim003-seoul-national-university/my_snn%20main/sweeps/gqhgeaun' target=\"_blank\">https://wandb.ai/bhkim003-seoul-national-university/my_snn%20main/sweeps/gqhgeaun</a>"
      ],
      "text/plain": [
       "<IPython.core.display.HTML object>"
      ]
     },
     "metadata": {},
     "output_type": "display_data"
    },
    {
     "data": {
      "text/html": [
       " View project at <a href='https://wandb.ai/bhkim003-seoul-national-university/my_snn%20main' target=\"_blank\">https://wandb.ai/bhkim003-seoul-national-university/my_snn%20main</a>"
      ],
      "text/plain": [
       "<IPython.core.display.HTML object>"
      ]
     },
     "metadata": {},
     "output_type": "display_data"
    },
    {
     "data": {
      "text/html": [
       " View sweep at <a href='https://wandb.ai/bhkim003-seoul-national-university/my_snn%20main/sweeps/gqhgeaun' target=\"_blank\">https://wandb.ai/bhkim003-seoul-national-university/my_snn%20main/sweeps/gqhgeaun</a>"
      ],
      "text/plain": [
       "<IPython.core.display.HTML object>"
      ]
     },
     "metadata": {},
     "output_type": "display_data"
    },
    {
     "data": {
      "text/html": [
       " View run at <a href='https://wandb.ai/bhkim003-seoul-national-university/my_snn%20main/runs/6z5lrs1m' target=\"_blank\">https://wandb.ai/bhkim003-seoul-national-university/my_snn%20main/runs/6z5lrs1m</a>"
      ],
      "text/plain": [
       "<IPython.core.display.HTML object>"
      ]
     },
     "metadata": {},
     "output_type": "display_data"
    },
    {
     "name": "stderr",
     "output_type": "stream",
     "text": [
      "\u001b[34m\u001b[1mwandb\u001b[0m: \u001b[33mWARNING\u001b[0m Config item 'BATCH' was locked by 'sweep' (ignored update).\n",
      "\u001b[34m\u001b[1mwandb\u001b[0m: \u001b[33mWARNING\u001b[0m Config item 'IMAGE_SIZE' was locked by 'sweep' (ignored update).\n",
      "\u001b[34m\u001b[1mwandb\u001b[0m: \u001b[33mWARNING\u001b[0m Config item 'which_data' was locked by 'sweep' (ignored update).\n",
      "\u001b[34m\u001b[1mwandb\u001b[0m: \u001b[33mWARNING\u001b[0m Config item 'cfg' was locked by 'sweep' (ignored update).\n",
      "\u001b[34m\u001b[1mwandb\u001b[0m: \u001b[33mWARNING\u001b[0m Config item 'learning_rate' was locked by 'sweep' (ignored update).\n",
      "\u001b[34m\u001b[1mwandb\u001b[0m: \u001b[33mWARNING\u001b[0m Config item 'epoch_num' was locked by 'sweep' (ignored update).\n",
      "\u001b[34m\u001b[1mwandb\u001b[0m: \u001b[33mWARNING\u001b[0m Config item 'surrogate' was locked by 'sweep' (ignored update).\n",
      "\u001b[34m\u001b[1mwandb\u001b[0m: \u001b[33mWARNING\u001b[0m Config item 'dvs_clipping' was locked by 'sweep' (ignored update).\n",
      "\u001b[34m\u001b[1mwandb\u001b[0m: \u001b[33mWARNING\u001b[0m Config item 'dvs_duration' was locked by 'sweep' (ignored update).\n",
      "\u001b[34m\u001b[1mwandb\u001b[0m: \u001b[33mWARNING\u001b[0m Config item 'OTTT_sWS_on' was locked by 'sweep' (ignored update).\n",
      "\u001b[34m\u001b[1mwandb\u001b[0m: \u001b[33mWARNING\u001b[0m Config item 'DFA_on' was locked by 'sweep' (ignored update).\n",
      "\u001b[34m\u001b[1mwandb\u001b[0m: \u001b[33mWARNING\u001b[0m Config item 'OTTT_input_trace_on' was locked by 'sweep' (ignored update).\n",
      "\u001b[34m\u001b[1mwandb\u001b[0m: \u001b[33mWARNING\u001b[0m Config item 'e_transport_swap' was locked by 'sweep' (ignored update).\n",
      "\u001b[34m\u001b[1mwandb\u001b[0m: \u001b[33mWARNING\u001b[0m Config item 'e_transport_swap_tr' was locked by 'sweep' (ignored update).\n",
      "\u001b[34m\u001b[1mwandb\u001b[0m: \u001b[33mWARNING\u001b[0m Config item 'drop_rate' was locked by 'sweep' (ignored update).\n",
      "\u001b[34m\u001b[1mwandb\u001b[0m: \u001b[33mWARNING\u001b[0m Config item 'exclude_class' was locked by 'sweep' (ignored update).\n",
      "\u001b[34m\u001b[1mwandb\u001b[0m: \u001b[33mWARNING\u001b[0m Config item 'merge_polarities' was locked by 'sweep' (ignored update).\n",
      "\u001b[34m\u001b[1mwandb\u001b[0m: \u001b[33mWARNING\u001b[0m Config item 'TIME' was locked by 'sweep' (ignored update).\n"
     ]
    },
    {
     "name": "stdout",
     "output_type": "stream",
     "text": [
      "dataset_hash = 2bbd58b4e0d3c1e9ad501fad8a43feed\n",
      "cache path exists\n",
      "\n",
      "we will exclude the 'other' class. dvsgestrue 10 classes' indices exist. \n",
      "\n",
      "DataParallel(\n",
      "  (module): MY_SNN_FC_sstep(\n",
      "    (layers): MY_Sequential(\n",
      "      (0): MaxPool2d(kernel_size=2, stride=2, padding=0, dilation=1, ceil_mode=False)\n",
      "      (1): MaxPool2d(kernel_size=2, stride=2, padding=0, dilation=1, ceil_mode=False)\n",
      "      (2): DimChanger_for_FC_sstep()\n",
      "      (3): SYNAPSE_FC_trace_sstep()\n",
      "      (4): LIF_layer_trace_sstep()\n",
      "      (5): SYNAPSE_FC_trace_sstep()\n",
      "      (6): LIF_layer_trace_sstep()\n",
      "      (7): SYNAPSE_FC_trace_sstep()\n",
      "    )\n",
      "  )\n",
      ")\n",
      "==================================================\n",
      "My Num of PARAMS: 452,010, system's param_num : 452,010\n",
      "Memory: 1.72MiB at 32-bit\n",
      "==================================================\n"
     ]
    },
    {
     "name": "stderr",
     "output_type": "stream",
     "text": [
      "epoch-0   lr=['0.0093619'], tr/val_loss:  1.813578/  1.484215, tr:  37.28%, val:  55.83%, val_best:  55.83%: 100%|██████████| 62/62 [00:06<00:00,  9.49it/s]                                    \n",
      "epoch-1   lr=['0.0093555'], tr/val_loss:  1.151931/  1.284205, tr:  63.02%, val:  58.33%, val_best:  58.33%: 100%|██████████| 62/62 [00:05<00:00, 10.71it/s]                                    \n",
      "epoch-2   lr=['0.0093363'], tr/val_loss:  1.002118/  1.143901, tr:  65.17%, val:  65.00%, val_best:  65.00%: 100%|██████████| 62/62 [00:06<00:00, 10.20it/s]                                    \n",
      "epoch-3   lr=['0.0093043'], tr/val_loss:  0.896866/  1.153078, tr:  69.05%, val:  63.33%, val_best:  65.00%: 100%|██████████| 62/62 [00:05<00:00, 11.01it/s]                                    \n",
      "epoch-4   lr=['0.0092596'], tr/val_loss:  0.847232/  1.197307, tr:  70.28%, val:  62.92%, val_best:  65.00%: 100%|██████████| 62/62 [00:06<00:00, 10.06it/s]                                    \n",
      "epoch-5   lr=['0.0092024'], tr/val_loss:  0.816882/  1.313942, tr:  69.77%, val:  62.08%, val_best:  65.00%: 100%|██████████| 62/62 [00:06<00:00,  9.72it/s]                                    \n",
      "epoch-6   lr=['0.0091328'], tr/val_loss:  0.711591/  1.164979, tr:  74.97%, val:  63.33%, val_best:  65.00%: 100%|██████████| 62/62 [00:05<00:00, 11.36it/s]                                    \n",
      "epoch-7   lr=['0.0090510'], tr/val_loss:  0.665585/  1.289789, tr:  76.10%, val:  62.92%, val_best:  65.00%: 100%|██████████| 62/62 [00:05<00:00, 11.54it/s]                                    \n",
      "epoch-8   lr=['0.0089572'], tr/val_loss:  0.669591/  1.140909, tr:  75.79%, val:  65.42%, val_best:  65.42%: 100%|██████████| 62/62 [00:05<00:00, 11.47it/s]                                    \n",
      "epoch-9   lr=['0.0088517'], tr/val_loss:  0.498271/  1.291547, tr:  83.45%, val:  67.50%, val_best:  67.50%: 100%|██████████| 62/62 [00:05<00:00, 11.63it/s]                                    \n",
      "epoch-10  lr=['0.0087348'], tr/val_loss:  0.486011/  1.237892, tr:  84.88%, val:  69.58%, val_best:  69.58%: 100%|██████████| 62/62 [00:05<00:00, 11.42it/s]                                    \n",
      "epoch-11  lr=['0.0086067'], tr/val_loss:  0.472483/  1.257601, tr:  83.55%, val:  72.50%, val_best:  72.50%: 100%|██████████| 62/62 [00:05<00:00, 10.89it/s]                                    \n",
      "epoch-12  lr=['0.0084679'], tr/val_loss:  0.462320/  1.223934, tr:  86.93%, val:  75.00%, val_best:  75.00%: 100%|██████████| 62/62 [00:05<00:00, 11.57it/s]                                    \n",
      "epoch-13  lr=['0.0083187'], tr/val_loss:  0.390296/  1.281463, tr:  89.99%, val:  73.33%, val_best:  75.00%: 100%|██████████| 62/62 [00:05<00:00, 11.14it/s]                                    \n",
      "epoch-14  lr=['0.0081596'], tr/val_loss:  0.315553/  1.317229, tr:  93.16%, val:  69.58%, val_best:  75.00%: 100%|██████████| 62/62 [00:05<00:00, 12.18it/s]                                    \n",
      "epoch-15  lr=['0.0079909'], tr/val_loss:  0.318354/  1.336105, tr:  92.65%, val:  75.83%, val_best:  75.83%: 100%|██████████| 62/62 [00:05<00:00, 10.37it/s]                                    \n",
      "epoch-16  lr=['0.0078131'], tr/val_loss:  0.270338/  1.544503, tr:  94.89%, val:  72.08%, val_best:  75.83%: 100%|██████████| 62/62 [00:05<00:00, 10.70it/s]                                    \n",
      "epoch-17  lr=['0.0076268'], tr/val_loss:  0.257585/  1.406178, tr:  95.10%, val:  75.00%, val_best:  75.83%: 100%|██████████| 62/62 [00:06<00:00,  9.71it/s]                                    \n",
      "epoch-18  lr=['0.0074324'], tr/val_loss:  0.229361/  1.374340, tr:  95.30%, val:  77.92%, val_best:  77.92%: 100%|██████████| 62/62 [00:06<00:00,  9.80it/s]                                    \n",
      "epoch-19  lr=['0.0072304'], tr/val_loss:  0.170771/  1.506159, tr:  98.47%, val:  76.25%, val_best:  77.92%: 100%|██████████| 62/62 [00:05<00:00, 10.50it/s]                                    \n",
      "epoch-20  lr=['0.0070214'], tr/val_loss:  0.147972/  1.598467, tr:  99.18%, val:  77.92%, val_best:  77.92%: 100%|██████████| 62/62 [00:06<00:00, 10.16it/s]                                    \n",
      "epoch-21  lr=['0.0068061'], tr/val_loss:  0.111774/  1.653167, tr:  99.80%, val:  78.33%, val_best:  78.33%: 100%|██████████| 62/62 [00:06<00:00,  9.14it/s]                                    \n",
      "epoch-22  lr=['0.0065849'], tr/val_loss:  0.118102/  1.594007, tr:  98.67%, val:  78.75%, val_best:  78.75%: 100%|██████████| 62/62 [00:05<00:00, 10.98it/s]                                    \n",
      "epoch-23  lr=['0.0063585'], tr/val_loss:  0.085151/  1.687172, tr: 100.00%, val:  79.58%, val_best:  79.58%: 100%|██████████| 62/62 [00:05<00:00, 11.06it/s]                                    \n",
      "epoch-24  lr=['0.0061275'], tr/val_loss:  0.066966/  1.793002, tr:  99.90%, val:  76.25%, val_best:  79.58%: 100%|██████████| 62/62 [00:05<00:00, 11.18it/s]                                    \n",
      "epoch-25  lr=['0.0058925'], tr/val_loss:  0.065114/  1.809616, tr: 100.00%, val:  80.83%, val_best:  80.83%: 100%|██████████| 62/62 [00:05<00:00, 10.59it/s]                                    \n",
      "epoch-26  lr=['0.0056542'], tr/val_loss:  0.044540/  1.789732, tr: 100.00%, val:  82.50%, val_best:  82.50%: 100%|██████████| 62/62 [00:05<00:00, 11.09it/s]                                    \n",
      "epoch-27  lr=['0.0054132'], tr/val_loss:  0.038176/  1.834981, tr: 100.00%, val:  80.83%, val_best:  82.50%: 100%|██████████| 62/62 [00:06<00:00, 10.29it/s]                                    \n",
      "epoch-28  lr=['0.0051703'], tr/val_loss:  0.034977/  1.899221, tr: 100.00%, val:  80.83%, val_best:  82.50%: 100%|██████████| 62/62 [00:05<00:00, 10.95it/s]                                    \n",
      "epoch-29  lr=['0.0049259'], tr/val_loss:  0.034272/  1.901337, tr:  99.90%, val:  79.17%, val_best:  82.50%: 100%|██████████| 62/62 [00:05<00:00, 10.94it/s]                                    \n",
      "epoch-30  lr=['0.0046810'], tr/val_loss:  0.025601/  1.924624, tr: 100.00%, val:  80.83%, val_best:  82.50%: 100%|██████████| 62/62 [00:05<00:00, 10.69it/s]                                    \n",
      "epoch-31  lr=['0.0044360'], tr/val_loss:  0.021368/  1.948387, tr: 100.00%, val:  81.25%, val_best:  82.50%: 100%|██████████| 62/62 [00:06<00:00, 10.22it/s]                                    \n",
      "epoch-32  lr=['0.0041917'], tr/val_loss:  0.020956/  1.968485, tr: 100.00%, val:  80.42%, val_best:  82.50%: 100%|██████████| 62/62 [00:05<00:00, 10.90it/s]                                    \n",
      "epoch-33  lr=['0.0039487'], tr/val_loss:  0.014672/  2.005267, tr: 100.00%, val:  80.00%, val_best:  82.50%: 100%|██████████| 62/62 [00:05<00:00, 10.79it/s]                                    \n",
      "epoch-34  lr=['0.0037077'], tr/val_loss:  0.012703/  2.005361, tr: 100.00%, val:  81.25%, val_best:  82.50%: 100%|██████████| 62/62 [00:06<00:00,  9.73it/s]                                    \n",
      "epoch-35  lr=['0.0034694'], tr/val_loss:  0.011777/  2.034698, tr: 100.00%, val:  81.67%, val_best:  82.50%: 100%|██████████| 62/62 [00:05<00:00, 11.11it/s]                                    \n",
      "epoch-36  lr=['0.0032345'], tr/val_loss:  0.010250/  2.045756, tr: 100.00%, val:  80.00%, val_best:  82.50%: 100%|██████████| 62/62 [00:05<00:00, 10.41it/s]                                    \n",
      "epoch-37  lr=['0.0030035'], tr/val_loss:  0.008512/  2.032074, tr: 100.00%, val:  80.83%, val_best:  82.50%: 100%|██████████| 62/62 [00:05<00:00, 11.19it/s]                                    \n",
      "epoch-38  lr=['0.0027770'], tr/val_loss:  0.008201/  2.068699, tr: 100.00%, val:  80.00%, val_best:  82.50%: 100%|██████████| 62/62 [00:06<00:00, 10.02it/s]                                    \n",
      "epoch-39  lr=['0.0025558'], tr/val_loss:  0.007541/  2.071023, tr: 100.00%, val:  80.00%, val_best:  82.50%: 100%|██████████| 62/62 [00:05<00:00, 11.21it/s]                                    \n",
      "epoch-40  lr=['0.0023405'], tr/val_loss:  0.006969/  2.084983, tr: 100.00%, val:  81.25%, val_best:  82.50%: 100%|██████████| 62/62 [00:05<00:00, 11.43it/s]                                    \n",
      "epoch-41  lr=['0.0021315'], tr/val_loss:  0.007530/  2.091023, tr: 100.00%, val:  81.25%, val_best:  82.50%: 100%|██████████| 62/62 [00:05<00:00, 10.38it/s]                                    \n",
      "epoch-42  lr=['0.0019296'], tr/val_loss:  0.006062/  2.087588, tr: 100.00%, val:  81.67%, val_best:  82.50%: 100%|██████████| 62/62 [00:05<00:00, 11.51it/s]                                    \n",
      "epoch-43  lr=['0.0017351'], tr/val_loss:  0.005536/  2.090728, tr: 100.00%, val:  81.67%, val_best:  82.50%: 100%|██████████| 62/62 [00:05<00:00, 11.36it/s]                                    \n",
      "epoch-44  lr=['0.0015488'], tr/val_loss:  0.005290/  2.105622, tr: 100.00%, val:  82.08%, val_best:  82.50%: 100%|██████████| 62/62 [00:06<00:00, 10.06it/s]                                    \n",
      "epoch-45  lr=['0.0013710'], tr/val_loss:  0.005173/  2.103038, tr: 100.00%, val:  80.83%, val_best:  82.50%: 100%|██████████| 62/62 [00:05<00:00, 11.52it/s]                                    \n",
      "epoch-46  lr=['0.0012023'], tr/val_loss:  0.004630/  2.113466, tr: 100.00%, val:  80.42%, val_best:  82.50%: 100%|██████████| 62/62 [00:06<00:00, 10.28it/s]                                    \n",
      "epoch-47  lr=['0.0010432'], tr/val_loss:  0.004751/  2.113222, tr: 100.00%, val:  82.50%, val_best:  82.50%: 100%|██████████| 62/62 [00:05<00:00, 11.56it/s]                                    \n",
      "epoch-48  lr=['0.0008940'], tr/val_loss:  0.004683/  2.115258, tr: 100.00%, val:  82.50%, val_best:  82.50%: 100%|██████████| 62/62 [00:05<00:00, 11.24it/s]                                    \n",
      "epoch-49  lr=['0.0007552'], tr/val_loss:  0.004502/  2.121211, tr: 100.00%, val:  81.25%, val_best:  82.50%: 100%|██████████| 62/62 [00:05<00:00, 11.44it/s]                                    \n",
      "epoch-50  lr=['0.0006271'], tr/val_loss:  0.004426/  2.118858, tr: 100.00%, val:  80.83%, val_best:  82.50%: 100%|██████████| 62/62 [00:05<00:00, 10.42it/s]                                    \n",
      "epoch-51  lr=['0.0005102'], tr/val_loss:  0.004362/  2.114388, tr: 100.00%, val:  81.25%, val_best:  82.50%: 100%|██████████| 62/62 [00:06<00:00,  9.87it/s]                                    \n",
      "epoch-52  lr=['0.0004047'], tr/val_loss:  0.004165/  2.112362, tr: 100.00%, val:  81.67%, val_best:  82.50%: 100%|██████████| 62/62 [00:05<00:00, 10.84it/s]                                    \n",
      "epoch-53  lr=['0.0003109'], tr/val_loss:  0.004119/  2.111820, tr: 100.00%, val:  82.08%, val_best:  82.50%: 100%|██████████| 62/62 [00:05<00:00, 10.39it/s]                                    \n",
      "epoch-54  lr=['0.0002291'], tr/val_loss:  0.004142/  2.115168, tr: 100.00%, val:  82.08%, val_best:  82.50%: 100%|██████████| 62/62 [00:05<00:00, 10.63it/s]                                    \n",
      "epoch-55  lr=['0.0001595'], tr/val_loss:  0.004028/  2.113459, tr: 100.00%, val:  82.08%, val_best:  82.50%: 100%|██████████| 62/62 [00:05<00:00, 10.48it/s]                                    \n",
      "epoch-56  lr=['0.0001023'], tr/val_loss:  0.004110/  2.113932, tr: 100.00%, val:  82.08%, val_best:  82.50%: 100%|██████████| 62/62 [00:05<00:00, 10.74it/s]                                    \n",
      "epoch-57  lr=['0.0000576'], tr/val_loss:  0.004048/  2.113965, tr: 100.00%, val:  82.08%, val_best:  82.50%: 100%|██████████| 62/62 [00:06<00:00,  9.70it/s]                                    \n",
      "epoch-58  lr=['0.0000256'], tr/val_loss:  0.003990/  2.115490, tr: 100.00%, val:  82.08%, val_best:  82.50%: 100%|██████████| 62/62 [00:05<00:00, 10.88it/s]                                    \n",
      "epoch-59  lr=['0.0000064'], tr/val_loss:  0.004134/  2.115638, tr: 100.00%, val:  82.08%, val_best:  82.50%: 100%|██████████| 62/62 [00:05<00:00, 11.42it/s]                                    \n"
     ]
    },
    {
     "data": {
      "application/vnd.jupyter.widget-view+json": {
       "model_id": "b3a955d42b0646f1992d161d3cafc7bf",
       "version_major": 2,
       "version_minor": 0
      },
      "text/plain": [
       "VBox(children=(Label(value='5.127 MB of 5.127 MB uploaded\\r'), FloatProgress(value=1.0, max=1.0)))"
      ]
     },
     "metadata": {},
     "output_type": "display_data"
    },
    {
     "data": {
      "text/html": [
       "<style>\n",
       "    table.wandb td:nth-child(1) { padding: 0 10px; text-align: left ; width: auto;} td:nth-child(2) {text-align: left ; width: 100%}\n",
       "    .wandb-row { display: flex; flex-direction: row; flex-wrap: wrap; justify-content: flex-start; width: 100% }\n",
       "    .wandb-col { display: flex; flex-direction: column; flex-basis: 100%; flex: 1; padding: 10px; }\n",
       "    </style>\n",
       "<div class=\"wandb-row\"><div class=\"wandb-col\"><h3>Run history:</h3><br/><table class=\"wandb\"><tr><td>DFA_flag</td><td>▁▁▁▁▁▁▁▁▁▁▁▁▁▁▁▁▁▁▁▁▁▁▁▁▁▁▁▁▁▁▁▁▁▁▁▁▁▁▁▁</td></tr><tr><td>epoch</td><td>▁▁▁▁▂▂▂▂▂▃▃▃▃▃▃▄▄▄▄▄▅▅▅▅▅▆▆▆▆▆▆▇▇▇▇▇████</td></tr><tr><td>iter_acc</td><td>▁▅▅▅▅▅▆▇▆▇█▇▇███▇███████████████████████</td></tr><tr><td>summary_val_acc</td><td>▁▆▇▆▆▆▇▇▇▇▇▇▇▇██████████████████████████</td></tr><tr><td>tr_acc</td><td>▁▄▆▆▆▆▆▇▇▇██████████████████████████████</td></tr><tr><td>tr_epoch_loss</td><td>▁█▅▄▄▄▄▃▃▃▂▂▂▂▂▁▁▁▁▁▁▁▁▁▁▁▁▁▁▁▁▁▁▁▁▁▁▁▁▁</td></tr><tr><td>val_acc_best</td><td>▁▆▇▇▇▇▇▇▇▇▇▇▇███████████████████████████</td></tr><tr><td>val_acc_now</td><td>▁▆▇▆▆▆▇▇▇▇▇▇▇▇██████████████████████████</td></tr><tr><td>val_loss</td><td>▁▆▅▅▅▅▅▅▅▅▅▆▆▆▆▆▇▇▇▇▇▇▇█████████████████</td></tr></table><br/></div><div class=\"wandb-col\"><h3>Run summary:</h3><br/><table class=\"wandb\"><tr><td>DFA_flag</td><td>0.0</td></tr><tr><td>epoch</td><td>59</td></tr><tr><td>iter_acc</td><td>1.0</td></tr><tr><td>tr_acc</td><td>1.0</td></tr><tr><td>tr_epoch_loss</td><td>0.00413</td></tr><tr><td>val_acc_best</td><td>0.825</td></tr><tr><td>val_acc_now</td><td>0.82083</td></tr><tr><td>val_loss</td><td>2.11564</td></tr></table><br/></div></div>"
      ],
      "text/plain": [
       "<IPython.core.display.HTML object>"
      ]
     },
     "metadata": {},
     "output_type": "display_data"
    },
    {
     "data": {
      "text/html": [
       " View run <strong style=\"color:#cdcd00\">whole-sweep-86</strong> at: <a href='https://wandb.ai/bhkim003-seoul-national-university/my_snn%20main/runs/6z5lrs1m' target=\"_blank\">https://wandb.ai/bhkim003-seoul-national-university/my_snn%20main/runs/6z5lrs1m</a><br/> View project at: <a href='https://wandb.ai/bhkim003-seoul-national-university/my_snn%20main' target=\"_blank\">https://wandb.ai/bhkim003-seoul-national-university/my_snn%20main</a><br/>Synced 7 W&B file(s), 0 media file(s), 0 artifact file(s) and 1 other file(s)"
      ],
      "text/plain": [
       "<IPython.core.display.HTML object>"
      ]
     },
     "metadata": {},
     "output_type": "display_data"
    },
    {
     "data": {
      "text/html": [
       "Find logs at: <code>./wandb/run-20240821_191306-6z5lrs1m/logs</code>"
      ],
      "text/plain": [
       "<IPython.core.display.HTML object>"
      ]
     },
     "metadata": {},
     "output_type": "display_data"
    },
    {
     "data": {
      "text/html": [
       "The new W&B backend becomes opt-out in version 0.18.0; try it out with `wandb.require(\"core\")`! See https://wandb.me/wandb-core for more information."
      ],
      "text/plain": [
       "<IPython.core.display.HTML object>"
      ]
     },
     "metadata": {},
     "output_type": "display_data"
    },
    {
     "name": "stderr",
     "output_type": "stream",
     "text": [
      "\u001b[34m\u001b[1mwandb\u001b[0m: Sweep Agent: Waiting for job.\n",
      "\u001b[34m\u001b[1mwandb\u001b[0m: Job received.\n",
      "\u001b[34m\u001b[1mwandb\u001b[0m: Agent Starting Run: pkw4u89d with config:\n",
      "\u001b[34m\u001b[1mwandb\u001b[0m: \tBATCH: 16\n",
      "\u001b[34m\u001b[1mwandb\u001b[0m: \tDFA_on: False\n",
      "\u001b[34m\u001b[1mwandb\u001b[0m: \tIMAGE_SIZE: 128\n",
      "\u001b[34m\u001b[1mwandb\u001b[0m: \tOTTT_input_trace_on: False\n",
      "\u001b[34m\u001b[1mwandb\u001b[0m: \tOTTT_sWS_on: False\n",
      "\u001b[34m\u001b[1mwandb\u001b[0m: \tTIME: 10\n",
      "\u001b[34m\u001b[1mwandb\u001b[0m: \tcfg: ['M', 'M', 200, 200]\n",
      "\u001b[34m\u001b[1mwandb\u001b[0m: \tconst2: False\n",
      "\u001b[34m\u001b[1mwandb\u001b[0m: \tdecay: 0.24299460816493235\n",
      "\u001b[34m\u001b[1mwandb\u001b[0m: \tdrop_rate: 0\n",
      "\u001b[34m\u001b[1mwandb\u001b[0m: \tdvs_clipping: 2\n",
      "\u001b[34m\u001b[1mwandb\u001b[0m: \tdvs_duration: 100000\n",
      "\u001b[34m\u001b[1mwandb\u001b[0m: \te_transport_swap: 0\n",
      "\u001b[34m\u001b[1mwandb\u001b[0m: \te_transport_swap_tr: 0\n",
      "\u001b[34m\u001b[1mwandb\u001b[0m: \tepoch_num: 60\n",
      "\u001b[34m\u001b[1mwandb\u001b[0m: \texclude_class: True\n",
      "\u001b[34m\u001b[1mwandb\u001b[0m: \tlearning_rate: 0.00936191669529645\n",
      "\u001b[34m\u001b[1mwandb\u001b[0m: \tmerge_polarities: False\n",
      "\u001b[34m\u001b[1mwandb\u001b[0m: \tsurrogate: hard_sigmoid\n",
      "\u001b[34m\u001b[1mwandb\u001b[0m: \twhich_data: DVS_GESTURE_TONIC\n",
      "Failed to detect the name of this notebook, you can set it manually with the WANDB_NOTEBOOK_NAME environment variable to enable code saving.\n"
     ]
    },
    {
     "data": {
      "text/html": [
       "wandb version 0.17.7 is available!  To upgrade, please run:\n",
       " $ pip install wandb --upgrade"
      ],
      "text/plain": [
       "<IPython.core.display.HTML object>"
      ]
     },
     "metadata": {},
     "output_type": "display_data"
    },
    {
     "data": {
      "text/html": [
       "Tracking run with wandb version 0.17.5"
      ],
      "text/plain": [
       "<IPython.core.display.HTML object>"
      ]
     },
     "metadata": {},
     "output_type": "display_data"
    },
    {
     "data": {
      "text/html": [
       "Run data is saved locally in <code>/nfs/home/bhkim003/github_folder/ByeonghyeonKim/my_snn/wandb/run-20240821_191931-pkw4u89d</code>"
      ],
      "text/plain": [
       "<IPython.core.display.HTML object>"
      ]
     },
     "metadata": {},
     "output_type": "display_data"
    },
    {
     "data": {
      "text/html": [
       "Syncing run <strong><a href='https://wandb.ai/bhkim003-seoul-national-university/my_snn%20main/runs/pkw4u89d' target=\"_blank\">wild-sweep-89</a></strong> to <a href='https://wandb.ai/bhkim003-seoul-national-university/my_snn%20main' target=\"_blank\">Weights & Biases</a> (<a href='https://wandb.me/run' target=\"_blank\">docs</a>)<br/>Sweep page: <a href='https://wandb.ai/bhkim003-seoul-national-university/my_snn%20main/sweeps/gqhgeaun' target=\"_blank\">https://wandb.ai/bhkim003-seoul-national-university/my_snn%20main/sweeps/gqhgeaun</a>"
      ],
      "text/plain": [
       "<IPython.core.display.HTML object>"
      ]
     },
     "metadata": {},
     "output_type": "display_data"
    },
    {
     "data": {
      "text/html": [
       " View project at <a href='https://wandb.ai/bhkim003-seoul-national-university/my_snn%20main' target=\"_blank\">https://wandb.ai/bhkim003-seoul-national-university/my_snn%20main</a>"
      ],
      "text/plain": [
       "<IPython.core.display.HTML object>"
      ]
     },
     "metadata": {},
     "output_type": "display_data"
    },
    {
     "data": {
      "text/html": [
       " View sweep at <a href='https://wandb.ai/bhkim003-seoul-national-university/my_snn%20main/sweeps/gqhgeaun' target=\"_blank\">https://wandb.ai/bhkim003-seoul-national-university/my_snn%20main/sweeps/gqhgeaun</a>"
      ],
      "text/plain": [
       "<IPython.core.display.HTML object>"
      ]
     },
     "metadata": {},
     "output_type": "display_data"
    },
    {
     "data": {
      "text/html": [
       " View run at <a href='https://wandb.ai/bhkim003-seoul-national-university/my_snn%20main/runs/pkw4u89d' target=\"_blank\">https://wandb.ai/bhkim003-seoul-national-university/my_snn%20main/runs/pkw4u89d</a>"
      ],
      "text/plain": [
       "<IPython.core.display.HTML object>"
      ]
     },
     "metadata": {},
     "output_type": "display_data"
    },
    {
     "name": "stderr",
     "output_type": "stream",
     "text": [
      "\u001b[34m\u001b[1mwandb\u001b[0m: \u001b[33mWARNING\u001b[0m Config item 'BATCH' was locked by 'sweep' (ignored update).\n",
      "\u001b[34m\u001b[1mwandb\u001b[0m: \u001b[33mWARNING\u001b[0m Config item 'IMAGE_SIZE' was locked by 'sweep' (ignored update).\n",
      "\u001b[34m\u001b[1mwandb\u001b[0m: \u001b[33mWARNING\u001b[0m Config item 'which_data' was locked by 'sweep' (ignored update).\n",
      "\u001b[34m\u001b[1mwandb\u001b[0m: \u001b[33mWARNING\u001b[0m Config item 'cfg' was locked by 'sweep' (ignored update).\n",
      "\u001b[34m\u001b[1mwandb\u001b[0m: \u001b[33mWARNING\u001b[0m Config item 'learning_rate' was locked by 'sweep' (ignored update).\n",
      "\u001b[34m\u001b[1mwandb\u001b[0m: \u001b[33mWARNING\u001b[0m Config item 'epoch_num' was locked by 'sweep' (ignored update).\n",
      "\u001b[34m\u001b[1mwandb\u001b[0m: \u001b[33mWARNING\u001b[0m Config item 'surrogate' was locked by 'sweep' (ignored update).\n",
      "\u001b[34m\u001b[1mwandb\u001b[0m: \u001b[33mWARNING\u001b[0m Config item 'dvs_clipping' was locked by 'sweep' (ignored update).\n",
      "\u001b[34m\u001b[1mwandb\u001b[0m: \u001b[33mWARNING\u001b[0m Config item 'dvs_duration' was locked by 'sweep' (ignored update).\n",
      "\u001b[34m\u001b[1mwandb\u001b[0m: \u001b[33mWARNING\u001b[0m Config item 'OTTT_sWS_on' was locked by 'sweep' (ignored update).\n",
      "\u001b[34m\u001b[1mwandb\u001b[0m: \u001b[33mWARNING\u001b[0m Config item 'DFA_on' was locked by 'sweep' (ignored update).\n",
      "\u001b[34m\u001b[1mwandb\u001b[0m: \u001b[33mWARNING\u001b[0m Config item 'OTTT_input_trace_on' was locked by 'sweep' (ignored update).\n",
      "\u001b[34m\u001b[1mwandb\u001b[0m: \u001b[33mWARNING\u001b[0m Config item 'e_transport_swap' was locked by 'sweep' (ignored update).\n",
      "\u001b[34m\u001b[1mwandb\u001b[0m: \u001b[33mWARNING\u001b[0m Config item 'e_transport_swap_tr' was locked by 'sweep' (ignored update).\n",
      "\u001b[34m\u001b[1mwandb\u001b[0m: \u001b[33mWARNING\u001b[0m Config item 'drop_rate' was locked by 'sweep' (ignored update).\n",
      "\u001b[34m\u001b[1mwandb\u001b[0m: \u001b[33mWARNING\u001b[0m Config item 'exclude_class' was locked by 'sweep' (ignored update).\n",
      "\u001b[34m\u001b[1mwandb\u001b[0m: \u001b[33mWARNING\u001b[0m Config item 'merge_polarities' was locked by 'sweep' (ignored update).\n",
      "\u001b[34m\u001b[1mwandb\u001b[0m: \u001b[33mWARNING\u001b[0m Config item 'TIME' was locked by 'sweep' (ignored update).\n"
     ]
    },
    {
     "name": "stdout",
     "output_type": "stream",
     "text": [
      "dataset_hash = 2bbd58b4e0d3c1e9ad501fad8a43feed\n",
      "cache path exists\n",
      "\n",
      "we will exclude the 'other' class. dvsgestrue 10 classes' indices exist. \n",
      "\n",
      "DataParallel(\n",
      "  (module): MY_SNN_FC_sstep(\n",
      "    (layers): MY_Sequential(\n",
      "      (0): MaxPool2d(kernel_size=2, stride=2, padding=0, dilation=1, ceil_mode=False)\n",
      "      (1): MaxPool2d(kernel_size=2, stride=2, padding=0, dilation=1, ceil_mode=False)\n",
      "      (2): DimChanger_for_FC_sstep()\n",
      "      (3): SYNAPSE_FC_trace_sstep()\n",
      "      (4): LIF_layer_trace_sstep()\n",
      "      (5): SYNAPSE_FC_trace_sstep()\n",
      "      (6): LIF_layer_trace_sstep()\n",
      "      (7): SYNAPSE_FC_trace_sstep()\n",
      "    )\n",
      "  )\n",
      ")\n",
      "==================================================\n",
      "My Num of PARAMS: 452,010, system's param_num : 452,010\n",
      "Memory: 1.72MiB at 32-bit\n",
      "==================================================\n"
     ]
    },
    {
     "name": "stderr",
     "output_type": "stream",
     "text": [
      "epoch-0   lr=['0.0093619'], tr/val_loss:  1.798463/  1.466092, tr:  37.39%, val:  53.75%, val_best:  53.75%: 100%|██████████| 62/62 [00:07<00:00,  8.13it/s]                                    \n",
      "epoch-1   lr=['0.0093555'], tr/val_loss:  1.145546/  1.277506, tr:  62.92%, val:  59.58%, val_best:  59.58%: 100%|██████████| 62/62 [00:05<00:00, 10.93it/s]                                    \n",
      "epoch-2   lr=['0.0093363'], tr/val_loss:  0.994264/  1.135832, tr:  65.37%, val:  63.33%, val_best:  63.33%: 100%|██████████| 62/62 [00:06<00:00,  9.64it/s]                                    \n",
      "epoch-3   lr=['0.0093043'], tr/val_loss:  0.882168/  1.100112, tr:  70.28%, val:  66.25%, val_best:  66.25%: 100%|██████████| 62/62 [00:06<00:00, 10.22it/s]                                    \n",
      "epoch-4   lr=['0.0092596'], tr/val_loss:  0.833059/  1.195289, tr:  71.40%, val:  61.25%, val_best:  66.25%: 100%|██████████| 62/62 [00:06<00:00,  9.68it/s]                                    \n",
      "epoch-5   lr=['0.0092024'], tr/val_loss:  0.815756/  1.278984, tr:  69.66%, val:  60.83%, val_best:  66.25%: 100%|██████████| 62/62 [00:06<00:00, 10.19it/s]                                    \n",
      "epoch-6   lr=['0.0091328'], tr/val_loss:  0.696387/  1.148635, tr:  74.57%, val:  61.25%, val_best:  66.25%: 100%|██████████| 62/62 [00:05<00:00, 11.87it/s]                                    \n",
      "epoch-7   lr=['0.0090510'], tr/val_loss:  0.667829/  1.262896, tr:  75.28%, val:  60.42%, val_best:  66.25%: 100%|██████████| 62/62 [00:05<00:00, 11.58it/s]                                    \n",
      "epoch-8   lr=['0.0089572'], tr/val_loss:  0.645995/  1.112491, tr:  76.81%, val:  67.92%, val_best:  67.92%: 100%|██████████| 62/62 [00:05<00:00, 11.78it/s]                                    \n",
      "epoch-9   lr=['0.0088517'], tr/val_loss:  0.483706/  1.236545, tr:  83.25%, val:  70.83%, val_best:  70.83%: 100%|██████████| 62/62 [00:05<00:00, 11.59it/s]                                    \n",
      "epoch-10  lr=['0.0087348'], tr/val_loss:  0.479629/  1.222726, tr:  84.68%, val:  66.67%, val_best:  70.83%: 100%|██████████| 62/62 [00:05<00:00, 12.25it/s]                                    \n",
      "epoch-11  lr=['0.0086067'], tr/val_loss:  0.462332/  1.280947, tr:  83.25%, val:  70.42%, val_best:  70.83%: 100%|██████████| 62/62 [00:05<00:00, 11.71it/s]                                    \n",
      "epoch-12  lr=['0.0084679'], tr/val_loss:  0.466069/  1.219352, tr:  85.39%, val:  73.33%, val_best:  73.33%: 100%|██████████| 62/62 [00:05<00:00, 12.28it/s]                                    \n",
      "epoch-13  lr=['0.0083187'], tr/val_loss:  0.380224/  1.311062, tr:  90.30%, val:  72.50%, val_best:  73.33%: 100%|██████████| 62/62 [00:04<00:00, 12.45it/s]                                    \n",
      "epoch-14  lr=['0.0081596'], tr/val_loss:  0.322819/  1.305625, tr:  93.26%, val:  72.50%, val_best:  73.33%: 100%|██████████| 62/62 [00:05<00:00, 10.36it/s]                                    \n",
      "epoch-15  lr=['0.0079909'], tr/val_loss:  0.331941/  1.358405, tr:  92.24%, val:  73.75%, val_best:  73.75%: 100%|██████████| 62/62 [00:06<00:00,  9.77it/s]                                    \n",
      "epoch-16  lr=['0.0078131'], tr/val_loss:  0.257450/  1.493271, tr:  95.40%, val:  71.25%, val_best:  73.75%: 100%|██████████| 62/62 [00:05<00:00, 10.93it/s]                                    \n",
      "epoch-17  lr=['0.0076268'], tr/val_loss:  0.240003/  1.427569, tr:  95.61%, val:  73.75%, val_best:  73.75%: 100%|██████████| 62/62 [00:06<00:00,  9.98it/s]                                    \n",
      "epoch-18  lr=['0.0074324'], tr/val_loss:  0.247761/  1.357162, tr:  93.97%, val:  80.83%, val_best:  80.83%: 100%|██████████| 62/62 [00:05<00:00, 11.82it/s]                                    \n",
      "epoch-19  lr=['0.0072304'], tr/val_loss:  0.190008/  1.481729, tr:  97.55%, val:  80.83%, val_best:  80.83%: 100%|██████████| 62/62 [00:06<00:00, 10.29it/s]                                    \n",
      "epoch-20  lr=['0.0070214'], tr/val_loss:  0.138701/  1.586486, tr:  99.18%, val:  76.67%, val_best:  80.83%: 100%|██████████| 62/62 [00:06<00:00, 10.10it/s]                                    \n",
      "epoch-21  lr=['0.0068061'], tr/val_loss:  0.104980/  1.713191, tr: 100.00%, val:  77.50%, val_best:  80.83%: 100%|██████████| 62/62 [00:05<00:00, 10.68it/s]                                    \n",
      "epoch-22  lr=['0.0065849'], tr/val_loss:  0.120247/  1.654366, tr:  97.96%, val:  78.75%, val_best:  80.83%: 100%|██████████| 62/62 [00:05<00:00, 10.56it/s]                                    \n",
      "epoch-23  lr=['0.0063585'], tr/val_loss:  0.098569/  1.691519, tr:  99.49%, val:  79.58%, val_best:  80.83%: 100%|██████████| 62/62 [00:05<00:00, 10.70it/s]                                    \n",
      "epoch-24  lr=['0.0061275'], tr/val_loss:  0.070603/  1.813273, tr: 100.00%, val:  78.33%, val_best:  80.83%: 100%|██████████| 62/62 [00:05<00:00, 10.69it/s]                                    \n",
      "epoch-25  lr=['0.0058925'], tr/val_loss:  0.063334/  1.815688, tr:  99.90%, val:  77.92%, val_best:  80.83%: 100%|██████████| 62/62 [00:06<00:00,  9.57it/s]                                    \n",
      "epoch-26  lr=['0.0056542'], tr/val_loss:  0.046182/  1.786268, tr: 100.00%, val:  80.83%, val_best:  80.83%: 100%|██████████| 62/62 [00:05<00:00, 11.42it/s]                                    \n",
      "epoch-27  lr=['0.0054132'], tr/val_loss:  0.036007/  1.882502, tr: 100.00%, val:  81.25%, val_best:  81.25%: 100%|██████████| 62/62 [00:06<00:00,  9.20it/s]                                    \n",
      "epoch-28  lr=['0.0051703'], tr/val_loss:  0.034871/  1.924268, tr: 100.00%, val:  79.17%, val_best:  81.25%: 100%|██████████| 62/62 [00:05<00:00, 11.17it/s]                                    \n",
      "epoch-29  lr=['0.0049259'], tr/val_loss:  0.033607/  1.941264, tr: 100.00%, val:  78.75%, val_best:  81.25%: 100%|██████████| 62/62 [00:06<00:00, 10.30it/s]                                    \n",
      "epoch-30  lr=['0.0046810'], tr/val_loss:  0.027049/  1.922212, tr: 100.00%, val:  81.25%, val_best:  81.25%: 100%|██████████| 62/62 [00:06<00:00,  9.98it/s]                                    \n",
      "epoch-31  lr=['0.0044360'], tr/val_loss:  0.020927/  1.981812, tr: 100.00%, val:  81.25%, val_best:  81.25%: 100%|██████████| 62/62 [00:05<00:00, 10.75it/s]                                    \n",
      "epoch-32  lr=['0.0041917'], tr/val_loss:  0.017658/  1.982155, tr: 100.00%, val:  80.83%, val_best:  81.25%: 100%|██████████| 62/62 [00:05<00:00, 10.84it/s]                                    \n",
      "epoch-33  lr=['0.0039487'], tr/val_loss:  0.013497/  2.019310, tr: 100.00%, val:  79.58%, val_best:  81.25%: 100%|██████████| 62/62 [00:05<00:00, 11.06it/s]                                    \n",
      "epoch-34  lr=['0.0037077'], tr/val_loss:  0.011645/  2.012734, tr: 100.00%, val:  80.42%, val_best:  81.25%: 100%|██████████| 62/62 [00:05<00:00, 10.50it/s]                                    \n",
      "epoch-35  lr=['0.0034694'], tr/val_loss:  0.011263/  2.051985, tr: 100.00%, val:  79.17%, val_best:  81.25%: 100%|██████████| 62/62 [00:05<00:00, 11.13it/s]                                    \n",
      "epoch-36  lr=['0.0032345'], tr/val_loss:  0.009851/  2.098970, tr: 100.00%, val:  78.75%, val_best:  81.25%: 100%|██████████| 62/62 [00:05<00:00, 11.30it/s]                                    \n",
      "epoch-37  lr=['0.0030035'], tr/val_loss:  0.009858/  2.079578, tr: 100.00%, val:  80.42%, val_best:  81.25%: 100%|██████████| 62/62 [00:05<00:00, 10.44it/s]                                    \n",
      "epoch-38  lr=['0.0027770'], tr/val_loss:  0.006945/  2.103891, tr: 100.00%, val:  80.42%, val_best:  81.25%: 100%|██████████| 62/62 [00:05<00:00, 10.62it/s]                                    \n",
      "epoch-39  lr=['0.0025558'], tr/val_loss:  0.007138/  2.110258, tr: 100.00%, val:  80.00%, val_best:  81.25%: 100%|██████████| 62/62 [00:06<00:00, 10.28it/s]                                    \n",
      "epoch-40  lr=['0.0023405'], tr/val_loss:  0.006321/  2.116297, tr: 100.00%, val:  80.00%, val_best:  81.25%: 100%|██████████| 62/62 [00:06<00:00,  9.95it/s]                                    \n",
      "epoch-41  lr=['0.0021315'], tr/val_loss:  0.005647/  2.118553, tr: 100.00%, val:  80.83%, val_best:  81.25%: 100%|██████████| 62/62 [00:05<00:00, 10.51it/s]                                    \n",
      "epoch-42  lr=['0.0019296'], tr/val_loss:  0.005417/  2.134101, tr: 100.00%, val:  80.83%, val_best:  81.25%: 100%|██████████| 62/62 [00:05<00:00, 11.27it/s]                                    \n",
      "epoch-43  lr=['0.0017351'], tr/val_loss:  0.005067/  2.126281, tr: 100.00%, val:  81.25%, val_best:  81.25%: 100%|██████████| 62/62 [00:06<00:00,  9.74it/s]                                    \n",
      "epoch-44  lr=['0.0015488'], tr/val_loss:  0.005121/  2.138199, tr: 100.00%, val:  81.25%, val_best:  81.25%: 100%|██████████| 62/62 [00:05<00:00, 10.86it/s]                                    \n",
      "epoch-45  lr=['0.0013710'], tr/val_loss:  0.004904/  2.148812, tr: 100.00%, val:  81.25%, val_best:  81.25%: 100%|██████████| 62/62 [00:05<00:00, 10.61it/s]                                    \n",
      "epoch-46  lr=['0.0012023'], tr/val_loss:  0.005316/  2.147963, tr: 100.00%, val:  81.25%, val_best:  81.25%: 100%|██████████| 62/62 [00:06<00:00, 10.21it/s]                                    \n",
      "epoch-47  lr=['0.0010432'], tr/val_loss:  0.004588/  2.152510, tr: 100.00%, val:  80.83%, val_best:  81.25%: 100%|██████████| 62/62 [00:06<00:00, 10.16it/s]                                    \n",
      "epoch-48  lr=['0.0008940'], tr/val_loss:  0.004795/  2.145551, tr: 100.00%, val:  81.25%, val_best:  81.25%: 100%|██████████| 62/62 [00:05<00:00, 11.36it/s]                                    \n",
      "epoch-49  lr=['0.0007552'], tr/val_loss:  0.004369/  2.146039, tr: 100.00%, val:  81.25%, val_best:  81.25%: 100%|██████████| 62/62 [00:06<00:00,  9.61it/s]                                    \n",
      "epoch-50  lr=['0.0006271'], tr/val_loss:  0.004599/  2.156109, tr: 100.00%, val:  80.83%, val_best:  81.25%: 100%|██████████| 62/62 [00:05<00:00, 10.39it/s]                                    \n",
      "epoch-51  lr=['0.0005102'], tr/val_loss:  0.004726/  2.153133, tr: 100.00%, val:  80.83%, val_best:  81.25%: 100%|██████████| 62/62 [00:05<00:00, 11.08it/s]                                    \n",
      "epoch-52  lr=['0.0004047'], tr/val_loss:  0.004274/  2.153652, tr: 100.00%, val:  80.83%, val_best:  81.25%: 100%|██████████| 62/62 [00:05<00:00, 10.45it/s]                                    \n",
      "epoch-53  lr=['0.0003109'], tr/val_loss:  0.004392/  2.159123, tr: 100.00%, val:  80.83%, val_best:  81.25%: 100%|██████████| 62/62 [00:05<00:00, 11.69it/s]                                    \n",
      "epoch-54  lr=['0.0002291'], tr/val_loss:  0.004358/  2.154656, tr: 100.00%, val:  80.83%, val_best:  81.25%: 100%|██████████| 62/62 [00:06<00:00, 10.24it/s]                                    \n",
      "epoch-55  lr=['0.0001595'], tr/val_loss:  0.004154/  2.158223, tr: 100.00%, val:  80.83%, val_best:  81.25%: 100%|██████████| 62/62 [00:05<00:00, 10.60it/s]                                    \n",
      "epoch-56  lr=['0.0001023'], tr/val_loss:  0.004214/  2.156624, tr: 100.00%, val:  80.83%, val_best:  81.25%: 100%|██████████| 62/62 [00:05<00:00, 10.55it/s]                                    \n",
      "epoch-57  lr=['0.0000576'], tr/val_loss:  0.004116/  2.157155, tr: 100.00%, val:  80.83%, val_best:  81.25%: 100%|██████████| 62/62 [00:06<00:00, 10.19it/s]                                    \n",
      "epoch-58  lr=['0.0000256'], tr/val_loss:  0.004031/  2.156251, tr: 100.00%, val:  80.83%, val_best:  81.25%: 100%|██████████| 62/62 [00:05<00:00, 10.64it/s]                                    \n",
      "epoch-59  lr=['0.0000064'], tr/val_loss:  0.004113/  2.156271, tr: 100.00%, val:  80.83%, val_best:  81.25%: 100%|██████████| 62/62 [00:05<00:00, 11.60it/s]                                    \n"
     ]
    },
    {
     "data": {
      "application/vnd.jupyter.widget-view+json": {
       "model_id": "e11300c36eb84dc1a619c8c1909d989d",
       "version_major": 2,
       "version_minor": 0
      },
      "text/plain": [
       "VBox(children=(Label(value='5.127 MB of 5.127 MB uploaded\\r'), FloatProgress(value=1.0, max=1.0)))"
      ]
     },
     "metadata": {},
     "output_type": "display_data"
    },
    {
     "data": {
      "text/html": [
       "<style>\n",
       "    table.wandb td:nth-child(1) { padding: 0 10px; text-align: left ; width: auto;} td:nth-child(2) {text-align: left ; width: 100%}\n",
       "    .wandb-row { display: flex; flex-direction: row; flex-wrap: wrap; justify-content: flex-start; width: 100% }\n",
       "    .wandb-col { display: flex; flex-direction: column; flex-basis: 100%; flex: 1; padding: 10px; }\n",
       "    </style>\n",
       "<div class=\"wandb-row\"><div class=\"wandb-col\"><h3>Run history:</h3><br/><table class=\"wandb\"><tr><td>DFA_flag</td><td>▁▁▁▁▁▁▁▁▁▁▁▁▁▁▁▁▁▁▁▁▁▁▁▁▁▁▁▁▁▁▁▁▁▁▁▁▁▁▁▁</td></tr><tr><td>epoch</td><td>▁▁▁▁▂▂▂▂▂▃▃▃▃▃▃▄▄▄▄▄▅▅▅▅▅▆▆▆▆▆▆▇▇▇▇▇████</td></tr><tr><td>iter_acc</td><td>▁▅▅▅▅▅▆▇▆▇█▇▇███████████████████████████</td></tr><tr><td>summary_val_acc</td><td>▁▆▆▇▆▆▇▇▇▇▇▇▇███████████████████████████</td></tr><tr><td>tr_acc</td><td>▁▄▆▆▆▆▆▇▇▇██████████████████████████████</td></tr><tr><td>tr_epoch_loss</td><td>▁█▅▄▄▄▄▃▃▃▂▂▂▂▂▁▁▁▁▁▁▁▁▁▁▁▁▁▁▁▁▁▁▁▁▁▁▁▁▁</td></tr><tr><td>val_acc_best</td><td>▁▆▆▇▇▇▇▇▇▇▇▇▇███████████████████████████</td></tr><tr><td>val_acc_now</td><td>▁▆▆▇▆▆▇▇▇▇▇▇▇███████████████████████████</td></tr><tr><td>val_loss</td><td>▁▆▅▅▅▅▅▅▅▅▅▆▆▆▆▆▆▇▇▇▇▇▇█████████████████</td></tr></table><br/></div><div class=\"wandb-col\"><h3>Run summary:</h3><br/><table class=\"wandb\"><tr><td>DFA_flag</td><td>0.0</td></tr><tr><td>epoch</td><td>59</td></tr><tr><td>iter_acc</td><td>1.0</td></tr><tr><td>tr_acc</td><td>1.0</td></tr><tr><td>tr_epoch_loss</td><td>0.00411</td></tr><tr><td>val_acc_best</td><td>0.8125</td></tr><tr><td>val_acc_now</td><td>0.80833</td></tr><tr><td>val_loss</td><td>2.15627</td></tr></table><br/></div></div>"
      ],
      "text/plain": [
       "<IPython.core.display.HTML object>"
      ]
     },
     "metadata": {},
     "output_type": "display_data"
    },
    {
     "data": {
      "text/html": [
       " View run <strong style=\"color:#cdcd00\">wild-sweep-89</strong> at: <a href='https://wandb.ai/bhkim003-seoul-national-university/my_snn%20main/runs/pkw4u89d' target=\"_blank\">https://wandb.ai/bhkim003-seoul-national-university/my_snn%20main/runs/pkw4u89d</a><br/> View project at: <a href='https://wandb.ai/bhkim003-seoul-national-university/my_snn%20main' target=\"_blank\">https://wandb.ai/bhkim003-seoul-national-university/my_snn%20main</a><br/>Synced 7 W&B file(s), 0 media file(s), 0 artifact file(s) and 1 other file(s)"
      ],
      "text/plain": [
       "<IPython.core.display.HTML object>"
      ]
     },
     "metadata": {},
     "output_type": "display_data"
    },
    {
     "data": {
      "text/html": [
       "Find logs at: <code>./wandb/run-20240821_191931-pkw4u89d/logs</code>"
      ],
      "text/plain": [
       "<IPython.core.display.HTML object>"
      ]
     },
     "metadata": {},
     "output_type": "display_data"
    },
    {
     "data": {
      "text/html": [
       "The new W&B backend becomes opt-out in version 0.18.0; try it out with `wandb.require(\"core\")`! See https://wandb.me/wandb-core for more information."
      ],
      "text/plain": [
       "<IPython.core.display.HTML object>"
      ]
     },
     "metadata": {},
     "output_type": "display_data"
    },
    {
     "name": "stderr",
     "output_type": "stream",
     "text": [
      "\u001b[34m\u001b[1mwandb\u001b[0m: Sweep Agent: Waiting for job.\n",
      "\u001b[34m\u001b[1mwandb\u001b[0m: Job received.\n",
      "\u001b[34m\u001b[1mwandb\u001b[0m: Agent Starting Run: q5cctzma with config:\n",
      "\u001b[34m\u001b[1mwandb\u001b[0m: \tBATCH: 16\n",
      "\u001b[34m\u001b[1mwandb\u001b[0m: \tDFA_on: False\n",
      "\u001b[34m\u001b[1mwandb\u001b[0m: \tIMAGE_SIZE: 128\n",
      "\u001b[34m\u001b[1mwandb\u001b[0m: \tOTTT_input_trace_on: False\n",
      "\u001b[34m\u001b[1mwandb\u001b[0m: \tOTTT_sWS_on: False\n",
      "\u001b[34m\u001b[1mwandb\u001b[0m: \tTIME: 10\n",
      "\u001b[34m\u001b[1mwandb\u001b[0m: \tcfg: ['M', 'M', 200, 200]\n",
      "\u001b[34m\u001b[1mwandb\u001b[0m: \tconst2: False\n",
      "\u001b[34m\u001b[1mwandb\u001b[0m: \tdecay: 0.046515102261701594\n",
      "\u001b[34m\u001b[1mwandb\u001b[0m: \tdrop_rate: 0\n",
      "\u001b[34m\u001b[1mwandb\u001b[0m: \tdvs_clipping: 2\n",
      "\u001b[34m\u001b[1mwandb\u001b[0m: \tdvs_duration: 100000\n",
      "\u001b[34m\u001b[1mwandb\u001b[0m: \te_transport_swap: 0\n",
      "\u001b[34m\u001b[1mwandb\u001b[0m: \te_transport_swap_tr: 0\n",
      "\u001b[34m\u001b[1mwandb\u001b[0m: \tepoch_num: 60\n",
      "\u001b[34m\u001b[1mwandb\u001b[0m: \texclude_class: True\n",
      "\u001b[34m\u001b[1mwandb\u001b[0m: \tlearning_rate: 0.00936191669529645\n",
      "\u001b[34m\u001b[1mwandb\u001b[0m: \tmerge_polarities: False\n",
      "\u001b[34m\u001b[1mwandb\u001b[0m: \tsurrogate: hard_sigmoid\n",
      "\u001b[34m\u001b[1mwandb\u001b[0m: \twhich_data: DVS_GESTURE_TONIC\n",
      "Failed to detect the name of this notebook, you can set it manually with the WANDB_NOTEBOOK_NAME environment variable to enable code saving.\n"
     ]
    },
    {
     "data": {
      "text/html": [
       "wandb version 0.17.7 is available!  To upgrade, please run:\n",
       " $ pip install wandb --upgrade"
      ],
      "text/plain": [
       "<IPython.core.display.HTML object>"
      ]
     },
     "metadata": {},
     "output_type": "display_data"
    },
    {
     "data": {
      "text/html": [
       "Tracking run with wandb version 0.17.5"
      ],
      "text/plain": [
       "<IPython.core.display.HTML object>"
      ]
     },
     "metadata": {},
     "output_type": "display_data"
    },
    {
     "data": {
      "text/html": [
       "Run data is saved locally in <code>/nfs/home/bhkim003/github_folder/ByeonghyeonKim/my_snn/wandb/run-20240821_192600-q5cctzma</code>"
      ],
      "text/plain": [
       "<IPython.core.display.HTML object>"
      ]
     },
     "metadata": {},
     "output_type": "display_data"
    },
    {
     "data": {
      "text/html": [
       "Syncing run <strong><a href='https://wandb.ai/bhkim003-seoul-national-university/my_snn%20main/runs/q5cctzma' target=\"_blank\">jumping-sweep-92</a></strong> to <a href='https://wandb.ai/bhkim003-seoul-national-university/my_snn%20main' target=\"_blank\">Weights & Biases</a> (<a href='https://wandb.me/run' target=\"_blank\">docs</a>)<br/>Sweep page: <a href='https://wandb.ai/bhkim003-seoul-national-university/my_snn%20main/sweeps/gqhgeaun' target=\"_blank\">https://wandb.ai/bhkim003-seoul-national-university/my_snn%20main/sweeps/gqhgeaun</a>"
      ],
      "text/plain": [
       "<IPython.core.display.HTML object>"
      ]
     },
     "metadata": {},
     "output_type": "display_data"
    },
    {
     "data": {
      "text/html": [
       " View project at <a href='https://wandb.ai/bhkim003-seoul-national-university/my_snn%20main' target=\"_blank\">https://wandb.ai/bhkim003-seoul-national-university/my_snn%20main</a>"
      ],
      "text/plain": [
       "<IPython.core.display.HTML object>"
      ]
     },
     "metadata": {},
     "output_type": "display_data"
    },
    {
     "data": {
      "text/html": [
       " View sweep at <a href='https://wandb.ai/bhkim003-seoul-national-university/my_snn%20main/sweeps/gqhgeaun' target=\"_blank\">https://wandb.ai/bhkim003-seoul-national-university/my_snn%20main/sweeps/gqhgeaun</a>"
      ],
      "text/plain": [
       "<IPython.core.display.HTML object>"
      ]
     },
     "metadata": {},
     "output_type": "display_data"
    },
    {
     "data": {
      "text/html": [
       " View run at <a href='https://wandb.ai/bhkim003-seoul-national-university/my_snn%20main/runs/q5cctzma' target=\"_blank\">https://wandb.ai/bhkim003-seoul-national-university/my_snn%20main/runs/q5cctzma</a>"
      ],
      "text/plain": [
       "<IPython.core.display.HTML object>"
      ]
     },
     "metadata": {},
     "output_type": "display_data"
    },
    {
     "name": "stderr",
     "output_type": "stream",
     "text": [
      "\u001b[34m\u001b[1mwandb\u001b[0m: \u001b[33mWARNING\u001b[0m Config item 'BATCH' was locked by 'sweep' (ignored update).\n",
      "\u001b[34m\u001b[1mwandb\u001b[0m: \u001b[33mWARNING\u001b[0m Config item 'IMAGE_SIZE' was locked by 'sweep' (ignored update).\n",
      "\u001b[34m\u001b[1mwandb\u001b[0m: \u001b[33mWARNING\u001b[0m Config item 'which_data' was locked by 'sweep' (ignored update).\n",
      "\u001b[34m\u001b[1mwandb\u001b[0m: \u001b[33mWARNING\u001b[0m Config item 'cfg' was locked by 'sweep' (ignored update).\n",
      "\u001b[34m\u001b[1mwandb\u001b[0m: \u001b[33mWARNING\u001b[0m Config item 'learning_rate' was locked by 'sweep' (ignored update).\n",
      "\u001b[34m\u001b[1mwandb\u001b[0m: \u001b[33mWARNING\u001b[0m Config item 'epoch_num' was locked by 'sweep' (ignored update).\n",
      "\u001b[34m\u001b[1mwandb\u001b[0m: \u001b[33mWARNING\u001b[0m Config item 'surrogate' was locked by 'sweep' (ignored update).\n",
      "\u001b[34m\u001b[1mwandb\u001b[0m: \u001b[33mWARNING\u001b[0m Config item 'dvs_clipping' was locked by 'sweep' (ignored update).\n",
      "\u001b[34m\u001b[1mwandb\u001b[0m: \u001b[33mWARNING\u001b[0m Config item 'dvs_duration' was locked by 'sweep' (ignored update).\n",
      "\u001b[34m\u001b[1mwandb\u001b[0m: \u001b[33mWARNING\u001b[0m Config item 'OTTT_sWS_on' was locked by 'sweep' (ignored update).\n",
      "\u001b[34m\u001b[1mwandb\u001b[0m: \u001b[33mWARNING\u001b[0m Config item 'DFA_on' was locked by 'sweep' (ignored update).\n",
      "\u001b[34m\u001b[1mwandb\u001b[0m: \u001b[33mWARNING\u001b[0m Config item 'OTTT_input_trace_on' was locked by 'sweep' (ignored update).\n",
      "\u001b[34m\u001b[1mwandb\u001b[0m: \u001b[33mWARNING\u001b[0m Config item 'e_transport_swap' was locked by 'sweep' (ignored update).\n",
      "\u001b[34m\u001b[1mwandb\u001b[0m: \u001b[33mWARNING\u001b[0m Config item 'e_transport_swap_tr' was locked by 'sweep' (ignored update).\n",
      "\u001b[34m\u001b[1mwandb\u001b[0m: \u001b[33mWARNING\u001b[0m Config item 'drop_rate' was locked by 'sweep' (ignored update).\n",
      "\u001b[34m\u001b[1mwandb\u001b[0m: \u001b[33mWARNING\u001b[0m Config item 'exclude_class' was locked by 'sweep' (ignored update).\n",
      "\u001b[34m\u001b[1mwandb\u001b[0m: \u001b[33mWARNING\u001b[0m Config item 'merge_polarities' was locked by 'sweep' (ignored update).\n",
      "\u001b[34m\u001b[1mwandb\u001b[0m: \u001b[33mWARNING\u001b[0m Config item 'TIME' was locked by 'sweep' (ignored update).\n"
     ]
    },
    {
     "name": "stdout",
     "output_type": "stream",
     "text": [
      "dataset_hash = 2bbd58b4e0d3c1e9ad501fad8a43feed\n",
      "cache path exists\n",
      "\n",
      "we will exclude the 'other' class. dvsgestrue 10 classes' indices exist. \n",
      "\n",
      "DataParallel(\n",
      "  (module): MY_SNN_FC_sstep(\n",
      "    (layers): MY_Sequential(\n",
      "      (0): MaxPool2d(kernel_size=2, stride=2, padding=0, dilation=1, ceil_mode=False)\n",
      "      (1): MaxPool2d(kernel_size=2, stride=2, padding=0, dilation=1, ceil_mode=False)\n",
      "      (2): DimChanger_for_FC_sstep()\n",
      "      (3): SYNAPSE_FC_trace_sstep()\n",
      "      (4): LIF_layer_trace_sstep()\n",
      "      (5): SYNAPSE_FC_trace_sstep()\n",
      "      (6): LIF_layer_trace_sstep()\n",
      "      (7): SYNAPSE_FC_trace_sstep()\n",
      "    )\n",
      "  )\n",
      ")\n",
      "==================================================\n",
      "My Num of PARAMS: 452,010, system's param_num : 452,010\n",
      "Memory: 1.72MiB at 32-bit\n",
      "==================================================\n"
     ]
    },
    {
     "name": "stderr",
     "output_type": "stream",
     "text": [
      "epoch-0   lr=['0.0093619'], tr/val_loss:  1.850601/  1.502211, tr:  37.39%, val:  54.58%, val_best:  54.58%: 100%|██████████| 62/62 [00:06<00:00, 10.11it/s]                                    \n",
      "epoch-1   lr=['0.0093555'], tr/val_loss:  1.174815/  1.284823, tr:  62.51%, val:  59.17%, val_best:  59.17%: 100%|██████████| 62/62 [00:05<00:00, 10.79it/s]                                    \n",
      "epoch-2   lr=['0.0093363'], tr/val_loss:  1.020048/  1.148384, tr:  65.17%, val:  66.25%, val_best:  66.25%: 100%|██████████| 62/62 [00:05<00:00, 10.47it/s]                                    \n",
      "epoch-3   lr=['0.0093043'], tr/val_loss:  0.925312/  1.135890, tr:  68.23%, val:  63.75%, val_best:  66.25%: 100%|██████████| 62/62 [00:06<00:00,  9.89it/s]                                    \n",
      "epoch-4   lr=['0.0092596'], tr/val_loss:  0.882529/  1.193140, tr:  69.05%, val:  63.75%, val_best:  66.25%: 100%|██████████| 62/62 [00:05<00:00, 10.82it/s]                                    \n",
      "epoch-5   lr=['0.0092024'], tr/val_loss:  0.838690/  1.305709, tr:  70.48%, val:  62.08%, val_best:  66.25%: 100%|██████████| 62/62 [00:04<00:00, 12.46it/s]                                    \n",
      "epoch-6   lr=['0.0091328'], tr/val_loss:  0.753442/  1.187564, tr:  73.44%, val:  63.33%, val_best:  66.25%: 100%|██████████| 62/62 [00:05<00:00, 11.79it/s]                                    \n",
      "epoch-7   lr=['0.0090510'], tr/val_loss:  0.712842/  1.280025, tr:  75.08%, val:  62.92%, val_best:  66.25%: 100%|██████████| 62/62 [00:04<00:00, 12.47it/s]                                    \n",
      "epoch-8   lr=['0.0089572'], tr/val_loss:  0.697545/  1.104533, tr:  76.40%, val:  67.08%, val_best:  67.08%: 100%|██████████| 62/62 [00:05<00:00, 11.82it/s]                                    \n",
      "epoch-9   lr=['0.0088517'], tr/val_loss:  0.535914/  1.276037, tr:  82.12%, val:  70.00%, val_best:  70.00%: 100%|██████████| 62/62 [00:04<00:00, 13.19it/s]                                    \n",
      "epoch-10  lr=['0.0087348'], tr/val_loss:  0.509533/  1.174242, tr:  84.68%, val:  69.58%, val_best:  70.00%: 100%|██████████| 62/62 [00:05<00:00, 11.51it/s]                                    \n",
      "epoch-11  lr=['0.0086067'], tr/val_loss:  0.494656/  1.320001, tr:  83.04%, val:  67.92%, val_best:  70.00%: 100%|██████████| 62/62 [00:05<00:00, 11.63it/s]                                    \n",
      "epoch-12  lr=['0.0084679'], tr/val_loss:  0.498751/  1.222099, tr:  83.66%, val:  73.75%, val_best:  73.75%: 100%|██████████| 62/62 [00:05<00:00, 11.81it/s]                                    \n",
      "epoch-13  lr=['0.0083187'], tr/val_loss:  0.423487/  1.286088, tr:  89.68%, val:  70.42%, val_best:  73.75%: 100%|██████████| 62/62 [00:05<00:00, 11.47it/s]                                    \n",
      "epoch-14  lr=['0.0081596'], tr/val_loss:  0.370316/  1.329116, tr:  91.11%, val:  71.67%, val_best:  73.75%: 100%|██████████| 62/62 [00:06<00:00, 10.16it/s]                                    \n",
      "epoch-15  lr=['0.0079909'], tr/val_loss:  0.355263/  1.326329, tr:  92.54%, val:  75.83%, val_best:  75.83%: 100%|██████████| 62/62 [00:06<00:00, 10.13it/s]                                    \n",
      "epoch-16  lr=['0.0078131'], tr/val_loss:  0.297664/  1.531085, tr:  93.46%, val:  71.67%, val_best:  75.83%: 100%|██████████| 62/62 [00:05<00:00, 11.14it/s]                                    \n",
      "epoch-17  lr=['0.0076268'], tr/val_loss:  0.287390/  1.448733, tr:  94.59%, val:  74.17%, val_best:  75.83%: 100%|██████████| 62/62 [00:06<00:00, 10.23it/s]                                    \n",
      "epoch-18  lr=['0.0074324'], tr/val_loss:  0.272639/  1.439373, tr:  94.59%, val:  77.92%, val_best:  77.92%: 100%|██████████| 62/62 [00:05<00:00, 10.86it/s]                                    \n",
      "epoch-19  lr=['0.0072304'], tr/val_loss:  0.223753/  1.537998, tr:  97.75%, val:  75.83%, val_best:  77.92%: 100%|██████████| 62/62 [00:05<00:00, 11.34it/s]                                    \n",
      "epoch-20  lr=['0.0070214'], tr/val_loss:  0.164520/  1.620465, tr:  99.28%, val:  75.83%, val_best:  77.92%: 100%|██████████| 62/62 [00:05<00:00, 10.51it/s]                                    \n",
      "epoch-21  lr=['0.0068061'], tr/val_loss:  0.129832/  1.702665, tr:  99.90%, val:  76.25%, val_best:  77.92%: 100%|██████████| 62/62 [00:06<00:00, 10.32it/s]                                    \n",
      "epoch-22  lr=['0.0065849'], tr/val_loss:  0.144014/  1.670827, tr:  97.65%, val:  76.67%, val_best:  77.92%: 100%|██████████| 62/62 [00:06<00:00,  9.65it/s]                                    \n",
      "epoch-23  lr=['0.0063585'], tr/val_loss:  0.129215/  1.699049, tr:  99.69%, val:  80.00%, val_best:  80.00%: 100%|██████████| 62/62 [00:05<00:00, 10.73it/s]                                    \n",
      "epoch-24  lr=['0.0061275'], tr/val_loss:  0.090718/  1.899998, tr:  99.90%, val:  75.42%, val_best:  80.00%: 100%|██████████| 62/62 [00:05<00:00, 10.64it/s]                                    \n",
      "epoch-25  lr=['0.0058925'], tr/val_loss:  0.071837/  1.870812, tr:  99.90%, val:  76.67%, val_best:  80.00%: 100%|██████████| 62/62 [00:06<00:00,  9.58it/s]                                    \n",
      "epoch-26  lr=['0.0056542'], tr/val_loss:  0.055873/  1.899829, tr: 100.00%, val:  80.00%, val_best:  80.00%: 100%|██████████| 62/62 [00:05<00:00, 10.71it/s]                                    \n",
      "epoch-27  lr=['0.0054132'], tr/val_loss:  0.045811/  1.959579, tr: 100.00%, val:  78.33%, val_best:  80.00%: 100%|██████████| 62/62 [00:06<00:00, 10.26it/s]                                    \n",
      "epoch-28  lr=['0.0051703'], tr/val_loss:  0.038645/  2.013355, tr: 100.00%, val:  78.33%, val_best:  80.00%: 100%|██████████| 62/62 [00:05<00:00, 11.06it/s]                                    \n",
      "epoch-29  lr=['0.0049259'], tr/val_loss:  0.032693/  2.075871, tr: 100.00%, val:  79.17%, val_best:  80.00%: 100%|██████████| 62/62 [00:06<00:00, 10.10it/s]                                    \n",
      "epoch-30  lr=['0.0046810'], tr/val_loss:  0.025891/  2.104652, tr: 100.00%, val:  80.00%, val_best:  80.00%: 100%|██████████| 62/62 [00:05<00:00, 11.00it/s]                                    \n",
      "epoch-31  lr=['0.0044360'], tr/val_loss:  0.026499/  2.130895, tr: 100.00%, val:  77.92%, val_best:  80.00%: 100%|██████████| 62/62 [00:05<00:00, 10.93it/s]                                    \n",
      "epoch-32  lr=['0.0041917'], tr/val_loss:  0.019321/  2.149420, tr: 100.00%, val:  78.33%, val_best:  80.00%: 100%|██████████| 62/62 [00:05<00:00, 10.74it/s]                                    \n",
      "epoch-33  lr=['0.0039487'], tr/val_loss:  0.015632/  2.161047, tr: 100.00%, val:  80.00%, val_best:  80.00%: 100%|██████████| 62/62 [00:05<00:00, 11.42it/s]                                    \n",
      "epoch-34  lr=['0.0037077'], tr/val_loss:  0.014267/  2.188773, tr: 100.00%, val:  78.75%, val_best:  80.00%: 100%|██████████| 62/62 [00:05<00:00, 11.17it/s]                                    \n",
      "epoch-35  lr=['0.0034694'], tr/val_loss:  0.011980/  2.214150, tr: 100.00%, val:  79.17%, val_best:  80.00%: 100%|██████████| 62/62 [00:05<00:00, 11.02it/s]                                    \n",
      "epoch-36  lr=['0.0032345'], tr/val_loss:  0.011574/  2.244336, tr: 100.00%, val:  80.42%, val_best:  80.42%: 100%|██████████| 62/62 [00:05<00:00, 10.49it/s]                                    \n",
      "epoch-37  lr=['0.0030035'], tr/val_loss:  0.010459/  2.269647, tr: 100.00%, val:  79.17%, val_best:  80.42%: 100%|██████████| 62/62 [00:06<00:00, 10.25it/s]                                    \n",
      "epoch-38  lr=['0.0027770'], tr/val_loss:  0.008597/  2.291007, tr: 100.00%, val:  79.58%, val_best:  80.42%: 100%|██████████| 62/62 [00:05<00:00, 11.27it/s]                                    \n",
      "epoch-39  lr=['0.0025558'], tr/val_loss:  0.008589/  2.306479, tr: 100.00%, val:  79.58%, val_best:  80.42%: 100%|██████████| 62/62 [00:05<00:00, 11.49it/s]                                    \n",
      "epoch-40  lr=['0.0023405'], tr/val_loss:  0.008057/  2.299632, tr: 100.00%, val:  79.58%, val_best:  80.42%: 100%|██████████| 62/62 [00:05<00:00, 11.17it/s]                                    \n",
      "epoch-41  lr=['0.0021315'], tr/val_loss:  0.007379/  2.310692, tr: 100.00%, val:  79.17%, val_best:  80.42%: 100%|██████████| 62/62 [00:05<00:00, 11.16it/s]                                    \n",
      "epoch-42  lr=['0.0019296'], tr/val_loss:  0.006716/  2.323779, tr: 100.00%, val:  79.17%, val_best:  80.42%: 100%|██████████| 62/62 [00:05<00:00, 11.60it/s]                                    \n",
      "epoch-43  lr=['0.0017351'], tr/val_loss:  0.006479/  2.314177, tr: 100.00%, val:  79.58%, val_best:  80.42%: 100%|██████████| 62/62 [00:05<00:00, 10.63it/s]                                    \n",
      "epoch-44  lr=['0.0015488'], tr/val_loss:  0.006172/  2.314905, tr: 100.00%, val:  79.17%, val_best:  80.42%: 100%|██████████| 62/62 [00:06<00:00,  9.65it/s]                                    \n",
      "epoch-45  lr=['0.0013710'], tr/val_loss:  0.005629/  2.334002, tr: 100.00%, val:  79.17%, val_best:  80.42%: 100%|██████████| 62/62 [00:05<00:00, 10.59it/s]                                    \n",
      "epoch-46  lr=['0.0012023'], tr/val_loss:  0.005350/  2.335979, tr: 100.00%, val:  79.17%, val_best:  80.42%: 100%|██████████| 62/62 [00:06<00:00, 10.18it/s]                                    \n",
      "epoch-47  lr=['0.0010432'], tr/val_loss:  0.005851/  2.336113, tr: 100.00%, val:  79.17%, val_best:  80.42%: 100%|██████████| 62/62 [00:06<00:00, 10.28it/s]                                    \n",
      "epoch-48  lr=['0.0008940'], tr/val_loss:  0.005840/  2.336814, tr: 100.00%, val:  79.17%, val_best:  80.42%: 100%|██████████| 62/62 [00:06<00:00, 10.27it/s]                                    \n",
      "epoch-49  lr=['0.0007552'], tr/val_loss:  0.005464/  2.341422, tr: 100.00%, val:  79.17%, val_best:  80.42%: 100%|██████████| 62/62 [00:05<00:00, 11.04it/s]                                    \n",
      "epoch-50  lr=['0.0006271'], tr/val_loss:  0.005456/  2.347549, tr: 100.00%, val:  79.17%, val_best:  80.42%: 100%|██████████| 62/62 [00:05<00:00, 10.70it/s]                                    \n",
      "epoch-51  lr=['0.0005102'], tr/val_loss:  0.005437/  2.353995, tr: 100.00%, val:  79.17%, val_best:  80.42%: 100%|██████████| 62/62 [00:05<00:00, 11.25it/s]                                    \n",
      "epoch-52  lr=['0.0004047'], tr/val_loss:  0.005163/  2.358435, tr: 100.00%, val:  79.17%, val_best:  80.42%: 100%|██████████| 62/62 [00:05<00:00, 11.02it/s]                                    \n",
      "epoch-53  lr=['0.0003109'], tr/val_loss:  0.005100/  2.361427, tr: 100.00%, val:  79.17%, val_best:  80.42%: 100%|██████████| 62/62 [00:05<00:00, 10.81it/s]                                    \n",
      "epoch-54  lr=['0.0002291'], tr/val_loss:  0.005010/  2.362034, tr: 100.00%, val:  79.17%, val_best:  80.42%: 100%|██████████| 62/62 [00:05<00:00, 10.60it/s]                                    \n",
      "epoch-55  lr=['0.0001595'], tr/val_loss:  0.004941/  2.365939, tr: 100.00%, val:  79.17%, val_best:  80.42%: 100%|██████████| 62/62 [00:05<00:00, 10.57it/s]                                    \n",
      "epoch-56  lr=['0.0001023'], tr/val_loss:  0.004964/  2.366172, tr: 100.00%, val:  79.17%, val_best:  80.42%: 100%|██████████| 62/62 [00:05<00:00, 10.68it/s]                                    \n",
      "epoch-57  lr=['0.0000576'], tr/val_loss:  0.004879/  2.366069, tr: 100.00%, val:  79.17%, val_best:  80.42%: 100%|██████████| 62/62 [00:05<00:00, 11.60it/s]                                    \n",
      "epoch-58  lr=['0.0000256'], tr/val_loss:  0.004841/  2.365433, tr: 100.00%, val:  79.17%, val_best:  80.42%: 100%|██████████| 62/62 [00:05<00:00, 10.69it/s]                                    \n",
      "epoch-59  lr=['0.0000064'], tr/val_loss:  0.004931/  2.365448, tr: 100.00%, val:  79.17%, val_best:  80.42%: 100%|██████████| 62/62 [00:05<00:00, 11.05it/s]                                    \n"
     ]
    },
    {
     "data": {
      "application/vnd.jupyter.widget-view+json": {
       "model_id": "6ae05c688f7849e19a5087280a531767",
       "version_major": 2,
       "version_minor": 0
      },
      "text/plain": [
       "VBox(children=(Label(value='5.127 MB of 5.127 MB uploaded\\r'), FloatProgress(value=1.0, max=1.0)))"
      ]
     },
     "metadata": {},
     "output_type": "display_data"
    },
    {
     "data": {
      "text/html": [
       "<style>\n",
       "    table.wandb td:nth-child(1) { padding: 0 10px; text-align: left ; width: auto;} td:nth-child(2) {text-align: left ; width: 100%}\n",
       "    .wandb-row { display: flex; flex-direction: row; flex-wrap: wrap; justify-content: flex-start; width: 100% }\n",
       "    .wandb-col { display: flex; flex-direction: column; flex-basis: 100%; flex: 1; padding: 10px; }\n",
       "    </style>\n",
       "<div class=\"wandb-row\"><div class=\"wandb-col\"><h3>Run history:</h3><br/><table class=\"wandb\"><tr><td>DFA_flag</td><td>▁▁▁▁▁▁▁▁▁▁▁▁▁▁▁▁▁▁▁▁▁▁▁▁▁▁▁▁▁▁▁▁▁▁▁▁▁▁▁▁</td></tr><tr><td>epoch</td><td>▁▁▁▁▂▂▂▂▂▃▃▃▃▃▃▄▄▄▄▄▅▅▅▅▅▆▆▆▆▆▆▇▇▇▇▇████</td></tr><tr><td>iter_acc</td><td>▁▄▅▅▆▅▆▆▆▆█▇▇███████████████████████████</td></tr><tr><td>summary_val_acc</td><td>▁▆▇▇▆▇▇▇▇▇▇▇▇███████████████████████████</td></tr><tr><td>tr_acc</td><td>▁▄▆▆▆▆▆▇▇▇▇█████████████████████████████</td></tr><tr><td>tr_epoch_loss</td><td>▁█▅▅▄▄▄▃▃▃▂▂▂▂▂▂▁▁▁▁▁▁▁▁▁▁▁▁▁▁▁▁▁▁▁▁▁▁▁▁</td></tr><tr><td>val_acc_best</td><td>▁▆▇▇▇▇▇▇▇▇▇█████████████████████████████</td></tr><tr><td>val_acc_now</td><td>▁▆▇▇▆▇▇▇▇▇▇▇▇███████████████████████████</td></tr><tr><td>val_loss</td><td>▁▅▄▄▅▅▄▅▅▅▅▆▅▆▆▆▆▇▇▇▇▇▇▇████████████████</td></tr></table><br/></div><div class=\"wandb-col\"><h3>Run summary:</h3><br/><table class=\"wandb\"><tr><td>DFA_flag</td><td>0.0</td></tr><tr><td>epoch</td><td>59</td></tr><tr><td>iter_acc</td><td>1.0</td></tr><tr><td>tr_acc</td><td>1.0</td></tr><tr><td>tr_epoch_loss</td><td>0.00493</td></tr><tr><td>val_acc_best</td><td>0.80417</td></tr><tr><td>val_acc_now</td><td>0.79167</td></tr><tr><td>val_loss</td><td>2.36545</td></tr></table><br/></div></div>"
      ],
      "text/plain": [
       "<IPython.core.display.HTML object>"
      ]
     },
     "metadata": {},
     "output_type": "display_data"
    },
    {
     "data": {
      "text/html": [
       " View run <strong style=\"color:#cdcd00\">jumping-sweep-92</strong> at: <a href='https://wandb.ai/bhkim003-seoul-national-university/my_snn%20main/runs/q5cctzma' target=\"_blank\">https://wandb.ai/bhkim003-seoul-national-university/my_snn%20main/runs/q5cctzma</a><br/> View project at: <a href='https://wandb.ai/bhkim003-seoul-national-university/my_snn%20main' target=\"_blank\">https://wandb.ai/bhkim003-seoul-national-university/my_snn%20main</a><br/>Synced 7 W&B file(s), 0 media file(s), 0 artifact file(s) and 1 other file(s)"
      ],
      "text/plain": [
       "<IPython.core.display.HTML object>"
      ]
     },
     "metadata": {},
     "output_type": "display_data"
    },
    {
     "data": {
      "text/html": [
       "Find logs at: <code>./wandb/run-20240821_192600-q5cctzma/logs</code>"
      ],
      "text/plain": [
       "<IPython.core.display.HTML object>"
      ]
     },
     "metadata": {},
     "output_type": "display_data"
    },
    {
     "data": {
      "text/html": [
       "The new W&B backend becomes opt-out in version 0.18.0; try it out with `wandb.require(\"core\")`! See https://wandb.me/wandb-core for more information."
      ],
      "text/plain": [
       "<IPython.core.display.HTML object>"
      ]
     },
     "metadata": {},
     "output_type": "display_data"
    },
    {
     "name": "stderr",
     "output_type": "stream",
     "text": [
      "\u001b[34m\u001b[1mwandb\u001b[0m: Sweep Agent: Waiting for job.\n",
      "\u001b[34m\u001b[1mwandb\u001b[0m: Job received.\n",
      "\u001b[34m\u001b[1mwandb\u001b[0m: Agent Starting Run: libmmf42 with config:\n",
      "\u001b[34m\u001b[1mwandb\u001b[0m: \tBATCH: 16\n",
      "\u001b[34m\u001b[1mwandb\u001b[0m: \tDFA_on: False\n",
      "\u001b[34m\u001b[1mwandb\u001b[0m: \tIMAGE_SIZE: 128\n",
      "\u001b[34m\u001b[1mwandb\u001b[0m: \tOTTT_input_trace_on: False\n",
      "\u001b[34m\u001b[1mwandb\u001b[0m: \tOTTT_sWS_on: False\n",
      "\u001b[34m\u001b[1mwandb\u001b[0m: \tTIME: 10\n",
      "\u001b[34m\u001b[1mwandb\u001b[0m: \tcfg: ['M', 'M', 200, 200]\n",
      "\u001b[34m\u001b[1mwandb\u001b[0m: \tconst2: False\n",
      "\u001b[34m\u001b[1mwandb\u001b[0m: \tdecay: 0.10241348024902584\n",
      "\u001b[34m\u001b[1mwandb\u001b[0m: \tdrop_rate: 0\n",
      "\u001b[34m\u001b[1mwandb\u001b[0m: \tdvs_clipping: 2\n",
      "\u001b[34m\u001b[1mwandb\u001b[0m: \tdvs_duration: 100000\n",
      "\u001b[34m\u001b[1mwandb\u001b[0m: \te_transport_swap: 0\n",
      "\u001b[34m\u001b[1mwandb\u001b[0m: \te_transport_swap_tr: 0\n",
      "\u001b[34m\u001b[1mwandb\u001b[0m: \tepoch_num: 60\n",
      "\u001b[34m\u001b[1mwandb\u001b[0m: \texclude_class: True\n",
      "\u001b[34m\u001b[1mwandb\u001b[0m: \tlearning_rate: 0.00936191669529645\n",
      "\u001b[34m\u001b[1mwandb\u001b[0m: \tmerge_polarities: False\n",
      "\u001b[34m\u001b[1mwandb\u001b[0m: \tsurrogate: hard_sigmoid\n",
      "\u001b[34m\u001b[1mwandb\u001b[0m: \twhich_data: DVS_GESTURE_TONIC\n",
      "Failed to detect the name of this notebook, you can set it manually with the WANDB_NOTEBOOK_NAME environment variable to enable code saving.\n"
     ]
    },
    {
     "data": {
      "text/html": [
       "wandb version 0.17.7 is available!  To upgrade, please run:\n",
       " $ pip install wandb --upgrade"
      ],
      "text/plain": [
       "<IPython.core.display.HTML object>"
      ]
     },
     "metadata": {},
     "output_type": "display_data"
    },
    {
     "data": {
      "text/html": [
       "Tracking run with wandb version 0.17.5"
      ],
      "text/plain": [
       "<IPython.core.display.HTML object>"
      ]
     },
     "metadata": {},
     "output_type": "display_data"
    },
    {
     "data": {
      "text/html": [
       "Run data is saved locally in <code>/nfs/home/bhkim003/github_folder/ByeonghyeonKim/my_snn/wandb/run-20240821_193223-libmmf42</code>"
      ],
      "text/plain": [
       "<IPython.core.display.HTML object>"
      ]
     },
     "metadata": {},
     "output_type": "display_data"
    },
    {
     "data": {
      "text/html": [
       "Syncing run <strong><a href='https://wandb.ai/bhkim003-seoul-national-university/my_snn%20main/runs/libmmf42' target=\"_blank\">blooming-sweep-95</a></strong> to <a href='https://wandb.ai/bhkim003-seoul-national-university/my_snn%20main' target=\"_blank\">Weights & Biases</a> (<a href='https://wandb.me/run' target=\"_blank\">docs</a>)<br/>Sweep page: <a href='https://wandb.ai/bhkim003-seoul-national-university/my_snn%20main/sweeps/gqhgeaun' target=\"_blank\">https://wandb.ai/bhkim003-seoul-national-university/my_snn%20main/sweeps/gqhgeaun</a>"
      ],
      "text/plain": [
       "<IPython.core.display.HTML object>"
      ]
     },
     "metadata": {},
     "output_type": "display_data"
    },
    {
     "data": {
      "text/html": [
       " View project at <a href='https://wandb.ai/bhkim003-seoul-national-university/my_snn%20main' target=\"_blank\">https://wandb.ai/bhkim003-seoul-national-university/my_snn%20main</a>"
      ],
      "text/plain": [
       "<IPython.core.display.HTML object>"
      ]
     },
     "metadata": {},
     "output_type": "display_data"
    },
    {
     "data": {
      "text/html": [
       " View sweep at <a href='https://wandb.ai/bhkim003-seoul-national-university/my_snn%20main/sweeps/gqhgeaun' target=\"_blank\">https://wandb.ai/bhkim003-seoul-national-university/my_snn%20main/sweeps/gqhgeaun</a>"
      ],
      "text/plain": [
       "<IPython.core.display.HTML object>"
      ]
     },
     "metadata": {},
     "output_type": "display_data"
    },
    {
     "data": {
      "text/html": [
       " View run at <a href='https://wandb.ai/bhkim003-seoul-national-university/my_snn%20main/runs/libmmf42' target=\"_blank\">https://wandb.ai/bhkim003-seoul-national-university/my_snn%20main/runs/libmmf42</a>"
      ],
      "text/plain": [
       "<IPython.core.display.HTML object>"
      ]
     },
     "metadata": {},
     "output_type": "display_data"
    },
    {
     "name": "stderr",
     "output_type": "stream",
     "text": [
      "\u001b[34m\u001b[1mwandb\u001b[0m: \u001b[33mWARNING\u001b[0m Config item 'BATCH' was locked by 'sweep' (ignored update).\n",
      "\u001b[34m\u001b[1mwandb\u001b[0m: \u001b[33mWARNING\u001b[0m Config item 'IMAGE_SIZE' was locked by 'sweep' (ignored update).\n",
      "\u001b[34m\u001b[1mwandb\u001b[0m: \u001b[33mWARNING\u001b[0m Config item 'which_data' was locked by 'sweep' (ignored update).\n",
      "\u001b[34m\u001b[1mwandb\u001b[0m: \u001b[33mWARNING\u001b[0m Config item 'cfg' was locked by 'sweep' (ignored update).\n",
      "\u001b[34m\u001b[1mwandb\u001b[0m: \u001b[33mWARNING\u001b[0m Config item 'learning_rate' was locked by 'sweep' (ignored update).\n",
      "\u001b[34m\u001b[1mwandb\u001b[0m: \u001b[33mWARNING\u001b[0m Config item 'epoch_num' was locked by 'sweep' (ignored update).\n",
      "\u001b[34m\u001b[1mwandb\u001b[0m: \u001b[33mWARNING\u001b[0m Config item 'surrogate' was locked by 'sweep' (ignored update).\n",
      "\u001b[34m\u001b[1mwandb\u001b[0m: \u001b[33mWARNING\u001b[0m Config item 'dvs_clipping' was locked by 'sweep' (ignored update).\n",
      "\u001b[34m\u001b[1mwandb\u001b[0m: \u001b[33mWARNING\u001b[0m Config item 'dvs_duration' was locked by 'sweep' (ignored update).\n",
      "\u001b[34m\u001b[1mwandb\u001b[0m: \u001b[33mWARNING\u001b[0m Config item 'OTTT_sWS_on' was locked by 'sweep' (ignored update).\n",
      "\u001b[34m\u001b[1mwandb\u001b[0m: \u001b[33mWARNING\u001b[0m Config item 'DFA_on' was locked by 'sweep' (ignored update).\n",
      "\u001b[34m\u001b[1mwandb\u001b[0m: \u001b[33mWARNING\u001b[0m Config item 'OTTT_input_trace_on' was locked by 'sweep' (ignored update).\n",
      "\u001b[34m\u001b[1mwandb\u001b[0m: \u001b[33mWARNING\u001b[0m Config item 'e_transport_swap' was locked by 'sweep' (ignored update).\n",
      "\u001b[34m\u001b[1mwandb\u001b[0m: \u001b[33mWARNING\u001b[0m Config item 'e_transport_swap_tr' was locked by 'sweep' (ignored update).\n",
      "\u001b[34m\u001b[1mwandb\u001b[0m: \u001b[33mWARNING\u001b[0m Config item 'drop_rate' was locked by 'sweep' (ignored update).\n",
      "\u001b[34m\u001b[1mwandb\u001b[0m: \u001b[33mWARNING\u001b[0m Config item 'exclude_class' was locked by 'sweep' (ignored update).\n",
      "\u001b[34m\u001b[1mwandb\u001b[0m: \u001b[33mWARNING\u001b[0m Config item 'merge_polarities' was locked by 'sweep' (ignored update).\n",
      "\u001b[34m\u001b[1mwandb\u001b[0m: \u001b[33mWARNING\u001b[0m Config item 'TIME' was locked by 'sweep' (ignored update).\n"
     ]
    },
    {
     "name": "stdout",
     "output_type": "stream",
     "text": [
      "dataset_hash = 2bbd58b4e0d3c1e9ad501fad8a43feed\n",
      "cache path exists\n",
      "\n",
      "we will exclude the 'other' class. dvsgestrue 10 classes' indices exist. \n",
      "\n",
      "DataParallel(\n",
      "  (module): MY_SNN_FC_sstep(\n",
      "    (layers): MY_Sequential(\n",
      "      (0): MaxPool2d(kernel_size=2, stride=2, padding=0, dilation=1, ceil_mode=False)\n",
      "      (1): MaxPool2d(kernel_size=2, stride=2, padding=0, dilation=1, ceil_mode=False)\n",
      "      (2): DimChanger_for_FC_sstep()\n",
      "      (3): SYNAPSE_FC_trace_sstep()\n",
      "      (4): LIF_layer_trace_sstep()\n",
      "      (5): SYNAPSE_FC_trace_sstep()\n",
      "      (6): LIF_layer_trace_sstep()\n",
      "      (7): SYNAPSE_FC_trace_sstep()\n",
      "    )\n",
      "  )\n",
      ")\n",
      "==================================================\n",
      "My Num of PARAMS: 452,010, system's param_num : 452,010\n",
      "Memory: 1.72MiB at 32-bit\n",
      "==================================================\n"
     ]
    },
    {
     "name": "stderr",
     "output_type": "stream",
     "text": [
      "epoch-0   lr=['0.0093619'], tr/val_loss:  1.838143/  1.501168, tr:  36.87%, val:  55.00%, val_best:  55.00%: 100%|██████████| 62/62 [00:06<00:00, 10.12it/s]                                    \n",
      "epoch-1   lr=['0.0093555'], tr/val_loss:  1.163881/  1.287374, tr:  62.61%, val:  60.83%, val_best:  60.83%: 100%|██████████| 62/62 [00:05<00:00, 10.39it/s]                                    \n",
      "epoch-2   lr=['0.0093363'], tr/val_loss:  1.006082/  1.166636, tr:  65.47%, val:  62.92%, val_best:  62.92%: 100%|██████████| 62/62 [00:06<00:00, 10.09it/s]                                    \n",
      "epoch-3   lr=['0.0093043'], tr/val_loss:  0.924445/  1.133593, tr:  67.82%, val:  64.17%, val_best:  64.17%: 100%|██████████| 62/62 [00:05<00:00, 10.74it/s]                                    \n",
      "epoch-4   lr=['0.0092596'], tr/val_loss:  0.870104/  1.214220, tr:  70.68%, val:  62.92%, val_best:  64.17%: 100%|██████████| 62/62 [00:05<00:00, 11.58it/s]                                    \n",
      "epoch-5   lr=['0.0092024'], tr/val_loss:  0.835591/  1.254365, tr:  68.13%, val:  63.75%, val_best:  64.17%: 100%|██████████| 62/62 [00:05<00:00, 11.36it/s]                                    \n",
      "epoch-6   lr=['0.0091328'], tr/val_loss:  0.731821/  1.180882, tr:  73.03%, val:  62.92%, val_best:  64.17%: 100%|██████████| 62/62 [00:05<00:00, 10.60it/s]                                    \n",
      "epoch-7   lr=['0.0090510'], tr/val_loss:  0.682332/  1.252916, tr:  77.02%, val:  60.42%, val_best:  64.17%: 100%|██████████| 62/62 [00:05<00:00, 11.50it/s]                                    \n",
      "epoch-8   lr=['0.0089572'], tr/val_loss:  0.668927/  1.140387, tr:  77.32%, val:  66.67%, val_best:  66.67%: 100%|██████████| 62/62 [00:05<00:00, 11.84it/s]                                    \n",
      "epoch-9   lr=['0.0088517'], tr/val_loss:  0.523668/  1.275601, tr:  82.53%, val:  70.83%, val_best:  70.83%: 100%|██████████| 62/62 [00:05<00:00, 11.23it/s]                                    \n",
      "epoch-10  lr=['0.0087348'], tr/val_loss:  0.505826/  1.212938, tr:  84.17%, val:  68.33%, val_best:  70.83%: 100%|██████████| 62/62 [00:05<00:00, 11.67it/s]                                    \n",
      "epoch-11  lr=['0.0086067'], tr/val_loss:  0.482737/  1.280683, tr:  83.25%, val:  69.17%, val_best:  70.83%: 100%|██████████| 62/62 [00:05<00:00, 11.62it/s]                                    \n",
      "epoch-12  lr=['0.0084679'], tr/val_loss:  0.476649/  1.220232, tr:  85.19%, val:  73.75%, val_best:  73.75%: 100%|██████████| 62/62 [00:05<00:00, 12.13it/s]                                    \n",
      "epoch-13  lr=['0.0083187'], tr/val_loss:  0.424057/  1.258146, tr:  90.40%, val:  74.17%, val_best:  74.17%: 100%|██████████| 62/62 [00:05<00:00, 11.19it/s]                                    \n",
      "epoch-14  lr=['0.0081596'], tr/val_loss:  0.346288/  1.343891, tr:  92.13%, val:  74.58%, val_best:  74.58%: 100%|██████████| 62/62 [00:05<00:00, 10.43it/s]                                    \n",
      "epoch-15  lr=['0.0079909'], tr/val_loss:  0.322999/  1.309669, tr:  93.77%, val:  77.92%, val_best:  77.92%: 100%|██████████| 62/62 [00:05<00:00, 10.81it/s]                                    \n",
      "epoch-16  lr=['0.0078131'], tr/val_loss:  0.276360/  1.534940, tr:  94.28%, val:  74.58%, val_best:  77.92%: 100%|██████████| 62/62 [00:05<00:00, 10.37it/s]                                    \n",
      "epoch-17  lr=['0.0076268'], tr/val_loss:  0.256243/  1.446868, tr:  95.30%, val:  75.42%, val_best:  77.92%: 100%|██████████| 62/62 [00:05<00:00, 10.49it/s]                                    \n",
      "epoch-18  lr=['0.0074324'], tr/val_loss:  0.257351/  1.386007, tr:  93.67%, val:  76.67%, val_best:  77.92%: 100%|██████████| 62/62 [00:06<00:00, 10.13it/s]                                    \n",
      "epoch-19  lr=['0.0072304'], tr/val_loss:  0.190255/  1.529295, tr:  97.04%, val:  77.08%, val_best:  77.92%: 100%|██████████| 62/62 [00:05<00:00, 10.79it/s]                                    \n",
      "epoch-20  lr=['0.0070214'], tr/val_loss:  0.143337/  1.570153, tr:  99.18%, val:  79.17%, val_best:  79.17%: 100%|██████████| 62/62 [00:05<00:00, 10.66it/s]                                    \n",
      "epoch-21  lr=['0.0068061'], tr/val_loss:  0.114696/  1.761084, tr: 100.00%, val:  77.92%, val_best:  79.17%: 100%|██████████| 62/62 [00:05<00:00, 11.33it/s]                                    \n",
      "epoch-22  lr=['0.0065849'], tr/val_loss:  0.123956/  1.740780, tr:  98.37%, val:  78.33%, val_best:  79.17%: 100%|██████████| 62/62 [00:06<00:00, 10.14it/s]                                    \n",
      "epoch-23  lr=['0.0063585'], tr/val_loss:  0.098383/  1.744622, tr: 100.00%, val:  81.25%, val_best:  81.25%: 100%|██████████| 62/62 [00:05<00:00, 10.77it/s]                                    \n",
      "epoch-24  lr=['0.0061275'], tr/val_loss:  0.075707/  1.896880, tr: 100.00%, val:  77.08%, val_best:  81.25%: 100%|██████████| 62/62 [00:05<00:00, 11.03it/s]                                    \n",
      "epoch-25  lr=['0.0058925'], tr/val_loss:  0.071197/  1.867545, tr:  99.80%, val:  79.17%, val_best:  81.25%: 100%|██████████| 62/62 [00:05<00:00, 11.03it/s]                                    \n",
      "epoch-26  lr=['0.0056542'], tr/val_loss:  0.048961/  1.889963, tr: 100.00%, val:  80.83%, val_best:  81.25%: 100%|██████████| 62/62 [00:05<00:00, 10.84it/s]                                    \n",
      "epoch-27  lr=['0.0054132'], tr/val_loss:  0.039344/  1.955519, tr: 100.00%, val:  79.17%, val_best:  81.25%: 100%|██████████| 62/62 [00:05<00:00, 11.10it/s]                                    \n",
      "epoch-28  lr=['0.0051703'], tr/val_loss:  0.036757/  1.952749, tr: 100.00%, val:  80.00%, val_best:  81.25%: 100%|██████████| 62/62 [00:06<00:00,  9.86it/s]                                    \n",
      "epoch-29  lr=['0.0049259'], tr/val_loss:  0.035055/  1.993629, tr: 100.00%, val:  80.00%, val_best:  81.25%: 100%|██████████| 62/62 [00:05<00:00, 11.64it/s]                                    \n",
      "epoch-30  lr=['0.0046810'], tr/val_loss:  0.033178/  2.014925, tr: 100.00%, val:  80.00%, val_best:  81.25%: 100%|██████████| 62/62 [00:06<00:00, 10.32it/s]                                    \n",
      "epoch-31  lr=['0.0044360'], tr/val_loss:  0.026329/  2.002328, tr: 100.00%, val:  80.00%, val_best:  81.25%: 100%|██████████| 62/62 [00:05<00:00, 11.31it/s]                                    \n",
      "epoch-32  lr=['0.0041917'], tr/val_loss:  0.021790/  2.087784, tr: 100.00%, val:  80.83%, val_best:  81.25%: 100%|██████████| 62/62 [00:05<00:00, 10.57it/s]                                    \n",
      "epoch-33  lr=['0.0039487'], tr/val_loss:  0.015534/  2.106358, tr: 100.00%, val:  79.17%, val_best:  81.25%: 100%|██████████| 62/62 [00:06<00:00,  9.95it/s]                                    \n",
      "epoch-34  lr=['0.0037077'], tr/val_loss:  0.013854/  2.141850, tr: 100.00%, val:  79.17%, val_best:  81.25%: 100%|██████████| 62/62 [00:05<00:00, 11.41it/s]                                    \n",
      "epoch-35  lr=['0.0034694'], tr/val_loss:  0.011221/  2.159861, tr: 100.00%, val:  80.00%, val_best:  81.25%: 100%|██████████| 62/62 [00:05<00:00, 11.63it/s]                                    \n",
      "epoch-36  lr=['0.0032345'], tr/val_loss:  0.010841/  2.170801, tr: 100.00%, val:  80.00%, val_best:  81.25%: 100%|██████████| 62/62 [00:06<00:00,  9.99it/s]                                    \n",
      "epoch-37  lr=['0.0030035'], tr/val_loss:  0.008854/  2.176439, tr: 100.00%, val:  79.17%, val_best:  81.25%: 100%|██████████| 62/62 [00:05<00:00, 10.72it/s]                                    \n",
      "epoch-38  lr=['0.0027770'], tr/val_loss:  0.007787/  2.215892, tr: 100.00%, val:  79.58%, val_best:  81.25%: 100%|██████████| 62/62 [00:06<00:00,  9.82it/s]                                    \n",
      "epoch-39  lr=['0.0025558'], tr/val_loss:  0.007271/  2.221817, tr: 100.00%, val:  79.17%, val_best:  81.25%: 100%|██████████| 62/62 [00:05<00:00, 10.81it/s]                                    \n",
      "epoch-40  lr=['0.0023405'], tr/val_loss:  0.006478/  2.230828, tr: 100.00%, val:  79.58%, val_best:  81.25%: 100%|██████████| 62/62 [00:05<00:00, 11.43it/s]                                    \n",
      "epoch-41  lr=['0.0021315'], tr/val_loss:  0.006809/  2.229983, tr: 100.00%, val:  78.75%, val_best:  81.25%: 100%|██████████| 62/62 [00:05<00:00, 10.60it/s]                                    \n",
      "epoch-42  lr=['0.0019296'], tr/val_loss:  0.005898/  2.245785, tr: 100.00%, val:  79.17%, val_best:  81.25%: 100%|██████████| 62/62 [00:05<00:00, 10.48it/s]                                    \n",
      "epoch-43  lr=['0.0017351'], tr/val_loss:  0.006150/  2.247265, tr: 100.00%, val:  79.17%, val_best:  81.25%: 100%|██████████| 62/62 [00:05<00:00, 10.84it/s]                                    \n",
      "epoch-44  lr=['0.0015488'], tr/val_loss:  0.005817/  2.254669, tr: 100.00%, val:  79.58%, val_best:  81.25%: 100%|██████████| 62/62 [00:05<00:00, 11.07it/s]                                    \n",
      "epoch-45  lr=['0.0013710'], tr/val_loss:  0.005465/  2.263462, tr: 100.00%, val:  78.75%, val_best:  81.25%: 100%|██████████| 62/62 [00:05<00:00, 10.51it/s]                                    \n",
      "epoch-46  lr=['0.0012023'], tr/val_loss:  0.005451/  2.274994, tr: 100.00%, val:  79.17%, val_best:  81.25%: 100%|██████████| 62/62 [00:05<00:00, 10.46it/s]                                    \n",
      "epoch-47  lr=['0.0010432'], tr/val_loss:  0.005221/  2.286619, tr: 100.00%, val:  79.17%, val_best:  81.25%: 100%|██████████| 62/62 [00:05<00:00, 11.42it/s]                                    \n",
      "epoch-48  lr=['0.0008940'], tr/val_loss:  0.004951/  2.283261, tr: 100.00%, val:  79.58%, val_best:  81.25%: 100%|██████████| 62/62 [00:05<00:00, 10.49it/s]                                    \n",
      "epoch-49  lr=['0.0007552'], tr/val_loss:  0.004833/  2.286133, tr: 100.00%, val:  80.00%, val_best:  81.25%: 100%|██████████| 62/62 [00:06<00:00, 10.01it/s]                                    \n",
      "epoch-50  lr=['0.0006271'], tr/val_loss:  0.004923/  2.299025, tr: 100.00%, val:  79.58%, val_best:  81.25%: 100%|██████████| 62/62 [00:05<00:00, 10.57it/s]                                    \n",
      "epoch-51  lr=['0.0005102'], tr/val_loss:  0.004858/  2.296091, tr: 100.00%, val:  80.00%, val_best:  81.25%: 100%|██████████| 62/62 [00:06<00:00,  9.81it/s]                                    \n",
      "epoch-52  lr=['0.0004047'], tr/val_loss:  0.004808/  2.297310, tr: 100.00%, val:  80.00%, val_best:  81.25%: 100%|██████████| 62/62 [00:05<00:00, 10.94it/s]                                    \n",
      "epoch-53  lr=['0.0003109'], tr/val_loss:  0.004656/  2.294809, tr: 100.00%, val:  80.00%, val_best:  81.25%: 100%|██████████| 62/62 [00:06<00:00, 10.09it/s]                                    \n",
      "epoch-54  lr=['0.0002291'], tr/val_loss:  0.004849/  2.294992, tr: 100.00%, val:  80.00%, val_best:  81.25%: 100%|██████████| 62/62 [00:05<00:00, 10.72it/s]                                    \n",
      "epoch-55  lr=['0.0001595'], tr/val_loss:  0.004525/  2.299230, tr: 100.00%, val:  80.00%, val_best:  81.25%: 100%|██████████| 62/62 [00:05<00:00, 10.84it/s]                                    \n",
      "epoch-56  lr=['0.0001023'], tr/val_loss:  0.004503/  2.297957, tr: 100.00%, val:  80.00%, val_best:  81.25%: 100%|██████████| 62/62 [00:05<00:00, 10.67it/s]                                    \n",
      "epoch-57  lr=['0.0000576'], tr/val_loss:  0.004477/  2.299699, tr: 100.00%, val:  80.00%, val_best:  81.25%: 100%|██████████| 62/62 [00:05<00:00, 10.69it/s]                                    \n",
      "epoch-58  lr=['0.0000256'], tr/val_loss:  0.004428/  2.300508, tr: 100.00%, val:  80.00%, val_best:  81.25%: 100%|██████████| 62/62 [00:06<00:00,  9.97it/s]                                    \n",
      "epoch-59  lr=['0.0000064'], tr/val_loss:  0.004502/  2.300541, tr: 100.00%, val:  80.00%, val_best:  81.25%: 100%|██████████| 62/62 [00:08<00:00,  7.04it/s]                                    \n"
     ]
    },
    {
     "data": {
      "application/vnd.jupyter.widget-view+json": {
       "model_id": "cc3d5459212142868e36509973ba1d63",
       "version_major": 2,
       "version_minor": 0
      },
      "text/plain": [
       "VBox(children=(Label(value='5.127 MB of 5.127 MB uploaded\\r'), FloatProgress(value=1.0, max=1.0)))"
      ]
     },
     "metadata": {},
     "output_type": "display_data"
    },
    {
     "data": {
      "text/html": [
       "<style>\n",
       "    table.wandb td:nth-child(1) { padding: 0 10px; text-align: left ; width: auto;} td:nth-child(2) {text-align: left ; width: 100%}\n",
       "    .wandb-row { display: flex; flex-direction: row; flex-wrap: wrap; justify-content: flex-start; width: 100% }\n",
       "    .wandb-col { display: flex; flex-direction: column; flex-basis: 100%; flex: 1; padding: 10px; }\n",
       "    </style>\n",
       "<div class=\"wandb-row\"><div class=\"wandb-col\"><h3>Run history:</h3><br/><table class=\"wandb\"><tr><td>DFA_flag</td><td>▁▁▁▁▁▁▁▁▁▁▁▁▁▁▁▁▁▁▁▁▁▁▁▁▁▁▁▁▁▁▁▁▁▁▁▁▁▁▁▁</td></tr><tr><td>epoch</td><td>▁▁▁▁▂▂▂▂▂▃▃▃▃▃▃▄▄▄▄▄▅▅▅▅▅▆▆▆▆▆▆▇▇▇▇▇████</td></tr><tr><td>iter_acc</td><td>▁▅▆▆▅▅▅▇▆▆██▇███████████████████████████</td></tr><tr><td>summary_val_acc</td><td>▁▆▆▇▆▆▇▇▇▇▇▇▇███████████████████████████</td></tr><tr><td>tr_acc</td><td>▁▄▆▆▆▆▆▇▇▇▇█████████████████████████████</td></tr><tr><td>tr_epoch_loss</td><td>▁█▅▅▄▄▄▃▃▃▂▂▂▂▂▁▁▁▁▁▁▁▁▁▁▁▁▁▁▁▁▁▁▁▁▁▁▁▁▁</td></tr><tr><td>val_acc_best</td><td>▁▆▆▇▇▇▇▇▇▇▇█████████████████████████████</td></tr><tr><td>val_acc_now</td><td>▁▆▆▇▆▆▇▇▇▇▇▇▇███████████████████████████</td></tr><tr><td>val_loss</td><td>▁▆▅▄▅▅▄▅▅▅▅▆▅▆▆▆▆▇▇▇▇▇▇█████████████████</td></tr></table><br/></div><div class=\"wandb-col\"><h3>Run summary:</h3><br/><table class=\"wandb\"><tr><td>DFA_flag</td><td>0.0</td></tr><tr><td>epoch</td><td>59</td></tr><tr><td>iter_acc</td><td>1.0</td></tr><tr><td>tr_acc</td><td>1.0</td></tr><tr><td>tr_epoch_loss</td><td>0.0045</td></tr><tr><td>val_acc_best</td><td>0.8125</td></tr><tr><td>val_acc_now</td><td>0.8</td></tr><tr><td>val_loss</td><td>2.30054</td></tr></table><br/></div></div>"
      ],
      "text/plain": [
       "<IPython.core.display.HTML object>"
      ]
     },
     "metadata": {},
     "output_type": "display_data"
    },
    {
     "data": {
      "text/html": [
       " View run <strong style=\"color:#cdcd00\">blooming-sweep-95</strong> at: <a href='https://wandb.ai/bhkim003-seoul-national-university/my_snn%20main/runs/libmmf42' target=\"_blank\">https://wandb.ai/bhkim003-seoul-national-university/my_snn%20main/runs/libmmf42</a><br/> View project at: <a href='https://wandb.ai/bhkim003-seoul-national-university/my_snn%20main' target=\"_blank\">https://wandb.ai/bhkim003-seoul-national-university/my_snn%20main</a><br/>Synced 7 W&B file(s), 0 media file(s), 0 artifact file(s) and 1 other file(s)"
      ],
      "text/plain": [
       "<IPython.core.display.HTML object>"
      ]
     },
     "metadata": {},
     "output_type": "display_data"
    },
    {
     "data": {
      "text/html": [
       "Find logs at: <code>./wandb/run-20240821_193223-libmmf42/logs</code>"
      ],
      "text/plain": [
       "<IPython.core.display.HTML object>"
      ]
     },
     "metadata": {},
     "output_type": "display_data"
    },
    {
     "data": {
      "text/html": [
       "The new W&B backend becomes opt-out in version 0.18.0; try it out with `wandb.require(\"core\")`! See https://wandb.me/wandb-core for more information."
      ],
      "text/plain": [
       "<IPython.core.display.HTML object>"
      ]
     },
     "metadata": {},
     "output_type": "display_data"
    },
    {
     "name": "stderr",
     "output_type": "stream",
     "text": [
      "\u001b[34m\u001b[1mwandb\u001b[0m: Sweep Agent: Waiting for job.\n",
      "\u001b[34m\u001b[1mwandb\u001b[0m: Job received.\n",
      "\u001b[34m\u001b[1mwandb\u001b[0m: Agent Starting Run: zwtuebaj with config:\n",
      "\u001b[34m\u001b[1mwandb\u001b[0m: \tBATCH: 16\n",
      "\u001b[34m\u001b[1mwandb\u001b[0m: \tDFA_on: False\n",
      "\u001b[34m\u001b[1mwandb\u001b[0m: \tIMAGE_SIZE: 128\n",
      "\u001b[34m\u001b[1mwandb\u001b[0m: \tOTTT_input_trace_on: False\n",
      "\u001b[34m\u001b[1mwandb\u001b[0m: \tOTTT_sWS_on: False\n",
      "\u001b[34m\u001b[1mwandb\u001b[0m: \tTIME: 10\n",
      "\u001b[34m\u001b[1mwandb\u001b[0m: \tcfg: ['M', 'M', 200, 200]\n",
      "\u001b[34m\u001b[1mwandb\u001b[0m: \tconst2: False\n",
      "\u001b[34m\u001b[1mwandb\u001b[0m: \tdecay: 0.039324142819663746\n",
      "\u001b[34m\u001b[1mwandb\u001b[0m: \tdrop_rate: 0\n",
      "\u001b[34m\u001b[1mwandb\u001b[0m: \tdvs_clipping: 2\n",
      "\u001b[34m\u001b[1mwandb\u001b[0m: \tdvs_duration: 100000\n",
      "\u001b[34m\u001b[1mwandb\u001b[0m: \te_transport_swap: 0\n",
      "\u001b[34m\u001b[1mwandb\u001b[0m: \te_transport_swap_tr: 0\n",
      "\u001b[34m\u001b[1mwandb\u001b[0m: \tepoch_num: 60\n",
      "\u001b[34m\u001b[1mwandb\u001b[0m: \texclude_class: True\n",
      "\u001b[34m\u001b[1mwandb\u001b[0m: \tlearning_rate: 0.00936191669529645\n",
      "\u001b[34m\u001b[1mwandb\u001b[0m: \tmerge_polarities: False\n",
      "\u001b[34m\u001b[1mwandb\u001b[0m: \tsurrogate: hard_sigmoid\n",
      "\u001b[34m\u001b[1mwandb\u001b[0m: \twhich_data: DVS_GESTURE_TONIC\n",
      "Failed to detect the name of this notebook, you can set it manually with the WANDB_NOTEBOOK_NAME environment variable to enable code saving.\n"
     ]
    },
    {
     "data": {
      "text/html": [
       "wandb version 0.17.7 is available!  To upgrade, please run:\n",
       " $ pip install wandb --upgrade"
      ],
      "text/plain": [
       "<IPython.core.display.HTML object>"
      ]
     },
     "metadata": {},
     "output_type": "display_data"
    },
    {
     "data": {
      "text/html": [
       "Tracking run with wandb version 0.17.5"
      ],
      "text/plain": [
       "<IPython.core.display.HTML object>"
      ]
     },
     "metadata": {},
     "output_type": "display_data"
    },
    {
     "data": {
      "text/html": [
       "Run data is saved locally in <code>/nfs/home/bhkim003/github_folder/ByeonghyeonKim/my_snn/wandb/run-20240821_193852-zwtuebaj</code>"
      ],
      "text/plain": [
       "<IPython.core.display.HTML object>"
      ]
     },
     "metadata": {},
     "output_type": "display_data"
    },
    {
     "data": {
      "text/html": [
       "Syncing run <strong><a href='https://wandb.ai/bhkim003-seoul-national-university/my_snn%20main/runs/zwtuebaj' target=\"_blank\">dainty-sweep-98</a></strong> to <a href='https://wandb.ai/bhkim003-seoul-national-university/my_snn%20main' target=\"_blank\">Weights & Biases</a> (<a href='https://wandb.me/run' target=\"_blank\">docs</a>)<br/>Sweep page: <a href='https://wandb.ai/bhkim003-seoul-national-university/my_snn%20main/sweeps/gqhgeaun' target=\"_blank\">https://wandb.ai/bhkim003-seoul-national-university/my_snn%20main/sweeps/gqhgeaun</a>"
      ],
      "text/plain": [
       "<IPython.core.display.HTML object>"
      ]
     },
     "metadata": {},
     "output_type": "display_data"
    },
    {
     "data": {
      "text/html": [
       " View project at <a href='https://wandb.ai/bhkim003-seoul-national-university/my_snn%20main' target=\"_blank\">https://wandb.ai/bhkim003-seoul-national-university/my_snn%20main</a>"
      ],
      "text/plain": [
       "<IPython.core.display.HTML object>"
      ]
     },
     "metadata": {},
     "output_type": "display_data"
    },
    {
     "data": {
      "text/html": [
       " View sweep at <a href='https://wandb.ai/bhkim003-seoul-national-university/my_snn%20main/sweeps/gqhgeaun' target=\"_blank\">https://wandb.ai/bhkim003-seoul-national-university/my_snn%20main/sweeps/gqhgeaun</a>"
      ],
      "text/plain": [
       "<IPython.core.display.HTML object>"
      ]
     },
     "metadata": {},
     "output_type": "display_data"
    },
    {
     "data": {
      "text/html": [
       " View run at <a href='https://wandb.ai/bhkim003-seoul-national-university/my_snn%20main/runs/zwtuebaj' target=\"_blank\">https://wandb.ai/bhkim003-seoul-national-university/my_snn%20main/runs/zwtuebaj</a>"
      ],
      "text/plain": [
       "<IPython.core.display.HTML object>"
      ]
     },
     "metadata": {},
     "output_type": "display_data"
    },
    {
     "name": "stderr",
     "output_type": "stream",
     "text": [
      "\u001b[34m\u001b[1mwandb\u001b[0m: \u001b[33mWARNING\u001b[0m Config item 'BATCH' was locked by 'sweep' (ignored update).\n",
      "\u001b[34m\u001b[1mwandb\u001b[0m: \u001b[33mWARNING\u001b[0m Config item 'IMAGE_SIZE' was locked by 'sweep' (ignored update).\n",
      "\u001b[34m\u001b[1mwandb\u001b[0m: \u001b[33mWARNING\u001b[0m Config item 'which_data' was locked by 'sweep' (ignored update).\n",
      "\u001b[34m\u001b[1mwandb\u001b[0m: \u001b[33mWARNING\u001b[0m Config item 'cfg' was locked by 'sweep' (ignored update).\n",
      "\u001b[34m\u001b[1mwandb\u001b[0m: \u001b[33mWARNING\u001b[0m Config item 'learning_rate' was locked by 'sweep' (ignored update).\n",
      "\u001b[34m\u001b[1mwandb\u001b[0m: \u001b[33mWARNING\u001b[0m Config item 'epoch_num' was locked by 'sweep' (ignored update).\n",
      "\u001b[34m\u001b[1mwandb\u001b[0m: \u001b[33mWARNING\u001b[0m Config item 'surrogate' was locked by 'sweep' (ignored update).\n",
      "\u001b[34m\u001b[1mwandb\u001b[0m: \u001b[33mWARNING\u001b[0m Config item 'dvs_clipping' was locked by 'sweep' (ignored update).\n",
      "\u001b[34m\u001b[1mwandb\u001b[0m: \u001b[33mWARNING\u001b[0m Config item 'dvs_duration' was locked by 'sweep' (ignored update).\n",
      "\u001b[34m\u001b[1mwandb\u001b[0m: \u001b[33mWARNING\u001b[0m Config item 'OTTT_sWS_on' was locked by 'sweep' (ignored update).\n",
      "\u001b[34m\u001b[1mwandb\u001b[0m: \u001b[33mWARNING\u001b[0m Config item 'DFA_on' was locked by 'sweep' (ignored update).\n",
      "\u001b[34m\u001b[1mwandb\u001b[0m: \u001b[33mWARNING\u001b[0m Config item 'OTTT_input_trace_on' was locked by 'sweep' (ignored update).\n",
      "\u001b[34m\u001b[1mwandb\u001b[0m: \u001b[33mWARNING\u001b[0m Config item 'e_transport_swap' was locked by 'sweep' (ignored update).\n",
      "\u001b[34m\u001b[1mwandb\u001b[0m: \u001b[33mWARNING\u001b[0m Config item 'e_transport_swap_tr' was locked by 'sweep' (ignored update).\n",
      "\u001b[34m\u001b[1mwandb\u001b[0m: \u001b[33mWARNING\u001b[0m Config item 'drop_rate' was locked by 'sweep' (ignored update).\n",
      "\u001b[34m\u001b[1mwandb\u001b[0m: \u001b[33mWARNING\u001b[0m Config item 'exclude_class' was locked by 'sweep' (ignored update).\n",
      "\u001b[34m\u001b[1mwandb\u001b[0m: \u001b[33mWARNING\u001b[0m Config item 'merge_polarities' was locked by 'sweep' (ignored update).\n",
      "\u001b[34m\u001b[1mwandb\u001b[0m: \u001b[33mWARNING\u001b[0m Config item 'TIME' was locked by 'sweep' (ignored update).\n"
     ]
    },
    {
     "name": "stdout",
     "output_type": "stream",
     "text": [
      "dataset_hash = 2bbd58b4e0d3c1e9ad501fad8a43feed\n",
      "cache path exists\n",
      "\n",
      "we will exclude the 'other' class. dvsgestrue 10 classes' indices exist. \n",
      "\n",
      "DataParallel(\n",
      "  (module): MY_SNN_FC_sstep(\n",
      "    (layers): MY_Sequential(\n",
      "      (0): MaxPool2d(kernel_size=2, stride=2, padding=0, dilation=1, ceil_mode=False)\n",
      "      (1): MaxPool2d(kernel_size=2, stride=2, padding=0, dilation=1, ceil_mode=False)\n",
      "      (2): DimChanger_for_FC_sstep()\n",
      "      (3): SYNAPSE_FC_trace_sstep()\n",
      "      (4): LIF_layer_trace_sstep()\n",
      "      (5): SYNAPSE_FC_trace_sstep()\n",
      "      (6): LIF_layer_trace_sstep()\n",
      "      (7): SYNAPSE_FC_trace_sstep()\n",
      "    )\n",
      "  )\n",
      ")\n",
      "==================================================\n",
      "My Num of PARAMS: 452,010, system's param_num : 452,010\n",
      "Memory: 1.72MiB at 32-bit\n",
      "==================================================\n"
     ]
    },
    {
     "name": "stderr",
     "output_type": "stream",
     "text": [
      "epoch-0   lr=['0.0093619'], tr/val_loss:  1.851608/  1.501996, tr:  37.08%, val:  55.00%, val_best:  55.00%: 100%|██████████| 62/62 [00:17<00:00,  3.50it/s]                                    \n",
      "epoch-1   lr=['0.0093555'], tr/val_loss:  1.178517/  1.287336, tr:  63.23%, val:  59.17%, val_best:  59.17%: 100%|██████████| 62/62 [00:17<00:00,  3.61it/s]                                    \n",
      "epoch-2   lr=['0.0093363'], tr/val_loss:  1.021032/  1.154820, tr:  65.68%, val:  65.83%, val_best:  65.83%: 100%|██████████| 62/62 [00:17<00:00,  3.57it/s]                                    \n",
      "epoch-3   lr=['0.0093043'], tr/val_loss:  0.930343/  1.160819, tr:  67.82%, val:  65.00%, val_best:  65.83%: 100%|██████████| 62/62 [00:19<00:00,  3.15it/s]                                    \n",
      "epoch-4   lr=['0.0092596'], tr/val_loss:  0.889791/  1.208554, tr:  69.05%, val:  63.75%, val_best:  65.83%: 100%|██████████| 62/62 [00:10<00:00,  5.86it/s]                                    \n",
      "epoch-5   lr=['0.0092024'], tr/val_loss:  0.845366/  1.300452, tr:  69.46%, val:  61.67%, val_best:  65.83%: 100%|██████████| 62/62 [00:06<00:00,  9.80it/s]                                    \n",
      "epoch-6   lr=['0.0091328'], tr/val_loss:  0.749487/  1.191124, tr:  72.83%, val:  64.58%, val_best:  65.83%: 100%|██████████| 62/62 [00:05<00:00, 11.42it/s]                                    \n",
      "epoch-7   lr=['0.0090510'], tr/val_loss:  0.708036/  1.264432, tr:  75.18%, val:  60.42%, val_best:  65.83%: 100%|██████████| 62/62 [00:05<00:00, 10.75it/s]                                    \n",
      "epoch-8   lr=['0.0089572'], tr/val_loss:  0.704924/  1.132579, tr:  76.20%, val:  66.25%, val_best:  66.25%: 100%|██████████| 62/62 [00:04<00:00, 12.85it/s]                                    \n",
      "epoch-9   lr=['0.0088517'], tr/val_loss:  0.538569/  1.346124, tr:  82.02%, val:  69.17%, val_best:  69.17%: 100%|██████████| 62/62 [00:05<00:00, 11.39it/s]                                    \n",
      "epoch-10  lr=['0.0087348'], tr/val_loss:  0.517231/  1.212887, tr:  83.76%, val:  70.42%, val_best:  70.42%: 100%|██████████| 62/62 [00:06<00:00,  9.41it/s]                                    \n",
      "epoch-11  lr=['0.0086067'], tr/val_loss:  0.516743/  1.261325, tr:  81.92%, val:  70.83%, val_best:  70.83%: 100%|██████████| 62/62 [00:10<00:00,  6.13it/s]                                    \n",
      "epoch-12  lr=['0.0084679'], tr/val_loss:  0.496773/  1.204394, tr:  84.68%, val:  72.50%, val_best:  72.50%: 100%|██████████| 62/62 [00:19<00:00,  3.23it/s]                                    \n",
      "epoch-13  lr=['0.0083187'], tr/val_loss:  0.434977/  1.282016, tr:  90.40%, val:  71.67%, val_best:  72.50%: 100%|██████████| 62/62 [00:21<00:00,  2.84it/s]                                    \n",
      "epoch-14  lr=['0.0081596'], tr/val_loss:  0.365096/  1.360968, tr:  90.30%, val:  72.92%, val_best:  72.92%: 100%|██████████| 62/62 [00:23<00:00,  2.66it/s]                                    \n",
      "epoch-15  lr=['0.0079909'], tr/val_loss:  0.350627/  1.393980, tr:  91.62%, val:  71.67%, val_best:  72.92%: 100%|██████████| 62/62 [00:19<00:00,  3.11it/s]                                    \n",
      "epoch-16  lr=['0.0078131'], tr/val_loss:  0.300365/  1.592921, tr:  93.16%, val:  70.42%, val_best:  72.92%: 100%|██████████| 62/62 [00:23<00:00,  2.66it/s]                                    \n",
      "epoch-17  lr=['0.0076268'], tr/val_loss:  0.289050/  1.479581, tr:  94.99%, val:  74.17%, val_best:  74.17%: 100%|██████████| 62/62 [00:23<00:00,  2.67it/s]                                    \n",
      "epoch-18  lr=['0.0074324'], tr/val_loss:  0.265544/  1.481477, tr:  95.61%, val:  75.83%, val_best:  75.83%: 100%|██████████| 62/62 [00:19<00:00,  3.21it/s]                                    \n",
      "epoch-19  lr=['0.0072304'], tr/val_loss:  0.224911/  1.560543, tr:  97.96%, val:  76.67%, val_best:  76.67%: 100%|██████████| 62/62 [00:17<00:00,  3.61it/s]                                    \n",
      "epoch-20  lr=['0.0070214'], tr/val_loss:  0.168518/  1.656015, tr:  99.18%, val:  75.83%, val_best:  76.67%: 100%|██████████| 62/62 [00:26<00:00,  2.33it/s]                                    \n",
      "epoch-21  lr=['0.0068061'], tr/val_loss:  0.135395/  1.753067, tr:  99.90%, val:  77.50%, val_best:  77.50%: 100%|██████████| 62/62 [00:17<00:00,  3.57it/s]                                    \n",
      "epoch-22  lr=['0.0065849'], tr/val_loss:  0.148965/  1.737268, tr:  97.55%, val:  76.25%, val_best:  77.50%: 100%|██████████| 62/62 [00:08<00:00,  7.49it/s]                                    \n",
      "epoch-23  lr=['0.0063585'], tr/val_loss:  0.117172/  1.800132, tr:  99.80%, val:  78.33%, val_best:  78.33%: 100%|██████████| 62/62 [00:06<00:00,  9.95it/s]                                    \n",
      "epoch-24  lr=['0.0061275'], tr/val_loss:  0.097723/  1.919007, tr:  99.90%, val:  75.83%, val_best:  78.33%: 100%|██████████| 62/62 [00:07<00:00,  8.83it/s]                                    \n",
      "epoch-25  lr=['0.0058925'], tr/val_loss:  0.085806/  1.901733, tr:  99.69%, val:  76.67%, val_best:  78.33%: 100%|██████████| 62/62 [00:05<00:00, 10.48it/s]                                    \n",
      "epoch-26  lr=['0.0056542'], tr/val_loss:  0.061359/  1.929033, tr: 100.00%, val:  80.00%, val_best:  80.00%: 100%|██████████| 62/62 [00:06<00:00,  9.77it/s]                                    \n",
      "epoch-27  lr=['0.0054132'], tr/val_loss:  0.049825/  2.015997, tr: 100.00%, val:  79.17%, val_best:  80.00%: 100%|██████████| 62/62 [00:10<00:00,  5.71it/s]                                    \n",
      "epoch-28  lr=['0.0051703'], tr/val_loss:  0.043404/  2.071718, tr: 100.00%, val:  80.42%, val_best:  80.42%: 100%|██████████| 62/62 [00:19<00:00,  3.20it/s]                                    \n",
      "epoch-29  lr=['0.0049259'], tr/val_loss:  0.036670/  2.078717, tr: 100.00%, val:  79.17%, val_best:  80.42%: 100%|██████████| 62/62 [00:19<00:00,  3.11it/s]                                    \n",
      "epoch-30  lr=['0.0046810'], tr/val_loss:  0.027029/  2.156734, tr: 100.00%, val:  78.75%, val_best:  80.42%: 100%|██████████| 62/62 [00:18<00:00,  3.43it/s]                                    \n",
      "epoch-31  lr=['0.0044360'], tr/val_loss:  0.023054/  2.150559, tr: 100.00%, val:  78.75%, val_best:  80.42%: 100%|██████████| 62/62 [00:21<00:00,  2.95it/s]                                    \n",
      "epoch-32  lr=['0.0041917'], tr/val_loss:  0.023621/  2.213048, tr: 100.00%, val:  79.17%, val_best:  80.42%: 100%|██████████| 62/62 [00:20<00:00,  2.99it/s]                                    \n",
      "epoch-33  lr=['0.0039487'], tr/val_loss:  0.014826/  2.216018, tr: 100.00%, val:  79.17%, val_best:  80.42%: 100%|██████████| 62/62 [00:17<00:00,  3.62it/s]                                    \n",
      "epoch-34  lr=['0.0037077'], tr/val_loss:  0.014543/  2.240885, tr: 100.00%, val:  77.92%, val_best:  80.42%: 100%|██████████| 62/62 [00:20<00:00,  3.08it/s]                                    \n",
      "epoch-35  lr=['0.0034694'], tr/val_loss:  0.013386/  2.275742, tr: 100.00%, val:  78.75%, val_best:  80.42%: 100%|██████████| 62/62 [00:19<00:00,  3.23it/s]                                    \n",
      "epoch-36  lr=['0.0032345'], tr/val_loss:  0.012013/  2.306428, tr: 100.00%, val:  79.58%, val_best:  80.42%: 100%|██████████| 62/62 [00:21<00:00,  2.94it/s]                                    \n",
      "epoch-37  lr=['0.0030035'], tr/val_loss:  0.010389/  2.294358, tr: 100.00%, val:  80.42%, val_best:  80.42%: 100%|██████████| 62/62 [00:18<00:00,  3.28it/s]                                    \n",
      "epoch-38  lr=['0.0027770'], tr/val_loss:  0.009420/  2.327360, tr: 100.00%, val:  80.00%, val_best:  80.42%: 100%|██████████| 62/62 [00:19<00:00,  3.19it/s]                                    \n",
      "epoch-39  lr=['0.0025558'], tr/val_loss:  0.008639/  2.330922, tr: 100.00%, val:  80.83%, val_best:  80.83%: 100%|██████████| 62/62 [00:18<00:00,  3.40it/s]                                    \n",
      "epoch-40  lr=['0.0023405'], tr/val_loss:  0.007548/  2.347311, tr: 100.00%, val:  79.58%, val_best:  80.83%: 100%|██████████| 62/62 [00:18<00:00,  3.42it/s]                                    \n",
      "epoch-41  lr=['0.0021315'], tr/val_loss:  0.006826/  2.359808, tr: 100.00%, val:  79.17%, val_best:  80.83%: 100%|██████████| 62/62 [00:19<00:00,  3.17it/s]                                    \n",
      "epoch-42  lr=['0.0019296'], tr/val_loss:  0.006618/  2.372341, tr: 100.00%, val:  81.25%, val_best:  81.25%: 100%|██████████| 62/62 [00:16<00:00,  3.67it/s]                                    \n",
      "epoch-43  lr=['0.0017351'], tr/val_loss:  0.005907/  2.380348, tr: 100.00%, val:  80.42%, val_best:  81.25%: 100%|██████████| 62/62 [00:19<00:00,  3.22it/s]                                    \n",
      "epoch-44  lr=['0.0015488'], tr/val_loss:  0.006211/  2.385885, tr: 100.00%, val:  80.83%, val_best:  81.25%: 100%|██████████| 62/62 [00:20<00:00,  3.05it/s]                                    \n",
      "epoch-45  lr=['0.0013710'], tr/val_loss:  0.006289/  2.389306, tr: 100.00%, val:  80.42%, val_best:  81.25%: 100%|██████████| 62/62 [00:19<00:00,  3.20it/s]                                    \n",
      "epoch-46  lr=['0.0012023'], tr/val_loss:  0.005510/  2.400760, tr: 100.00%, val:  80.83%, val_best:  81.25%: 100%|██████████| 62/62 [00:19<00:00,  3.11it/s]                                    \n",
      "epoch-47  lr=['0.0010432'], tr/val_loss:  0.005499/  2.403815, tr: 100.00%, val:  80.42%, val_best:  81.25%: 100%|██████████| 62/62 [00:24<00:00,  2.58it/s]                                    \n",
      "epoch-48  lr=['0.0008940'], tr/val_loss:  0.005219/  2.411544, tr: 100.00%, val:  80.83%, val_best:  81.25%: 100%|██████████| 62/62 [00:20<00:00,  3.03it/s]                                    \n",
      "epoch-49  lr=['0.0007552'], tr/val_loss:  0.005347/  2.400066, tr: 100.00%, val:  80.83%, val_best:  81.25%: 100%|██████████| 62/62 [00:18<00:00,  3.42it/s]                                    \n",
      "epoch-50  lr=['0.0006271'], tr/val_loss:  0.005025/  2.408709, tr: 100.00%, val:  80.00%, val_best:  81.25%: 100%|██████████| 62/62 [00:19<00:00,  3.14it/s]                                    \n",
      "epoch-51  lr=['0.0005102'], tr/val_loss:  0.005009/  2.405871, tr: 100.00%, val:  80.00%, val_best:  81.25%: 100%|██████████| 62/62 [00:19<00:00,  3.23it/s]                                    \n",
      "epoch-52  lr=['0.0004047'], tr/val_loss:  0.004710/  2.409950, tr: 100.00%, val:  80.00%, val_best:  81.25%: 100%|██████████| 62/62 [00:17<00:00,  3.59it/s]                                    \n",
      "epoch-53  lr=['0.0003109'], tr/val_loss:  0.004699/  2.411685, tr: 100.00%, val:  80.00%, val_best:  81.25%: 100%|██████████| 62/62 [00:18<00:00,  3.43it/s]                                    \n",
      "epoch-54  lr=['0.0002291'], tr/val_loss:  0.004780/  2.407343, tr: 100.00%, val:  80.00%, val_best:  81.25%: 100%|██████████| 62/62 [00:22<00:00,  2.79it/s]                                    \n",
      "epoch-55  lr=['0.0001595'], tr/val_loss:  0.004503/  2.407308, tr: 100.00%, val:  80.00%, val_best:  81.25%: 100%|██████████| 62/62 [00:20<00:00,  3.02it/s]                                    \n",
      "epoch-56  lr=['0.0001023'], tr/val_loss:  0.004675/  2.407243, tr: 100.00%, val:  80.00%, val_best:  81.25%: 100%|██████████| 62/62 [00:19<00:00,  3.23it/s]                                    \n",
      "epoch-57  lr=['0.0000576'], tr/val_loss:  0.004497/  2.407575, tr: 100.00%, val:  80.00%, val_best:  81.25%: 100%|██████████| 62/62 [00:21<00:00,  2.89it/s]                                    \n",
      "epoch-58  lr=['0.0000256'], tr/val_loss:  0.004508/  2.404423, tr: 100.00%, val:  80.00%, val_best:  81.25%: 100%|██████████| 62/62 [00:21<00:00,  2.94it/s]                                    \n",
      "epoch-59  lr=['0.0000064'], tr/val_loss:  0.004595/  2.409095, tr: 100.00%, val:  80.00%, val_best:  81.25%: 100%|██████████| 62/62 [00:21<00:00,  2.95it/s]                                    \n"
     ]
    },
    {
     "data": {
      "application/vnd.jupyter.widget-view+json": {
       "model_id": "3cd8786eac5148e48b1bbef17e7a0729",
       "version_major": 2,
       "version_minor": 0
      },
      "text/plain": [
       "VBox(children=(Label(value='5.127 MB of 5.127 MB uploaded\\r'), FloatProgress(value=1.0, max=1.0)))"
      ]
     },
     "metadata": {},
     "output_type": "display_data"
    },
    {
     "data": {
      "text/html": [
       "<style>\n",
       "    table.wandb td:nth-child(1) { padding: 0 10px; text-align: left ; width: auto;} td:nth-child(2) {text-align: left ; width: 100%}\n",
       "    .wandb-row { display: flex; flex-direction: row; flex-wrap: wrap; justify-content: flex-start; width: 100% }\n",
       "    .wandb-col { display: flex; flex-direction: column; flex-basis: 100%; flex: 1; padding: 10px; }\n",
       "    </style>\n",
       "<div class=\"wandb-row\"><div class=\"wandb-col\"><h3>Run history:</h3><br/><table class=\"wandb\"><tr><td>DFA_flag</td><td>▁▁▁▁▁▁▁▁▁▁▁▁▁▁▁▁▁▁▁▁▁▁▁▁▁▁▁▁▁▁▁▁▁▁▁▁▁▁▁▁</td></tr><tr><td>epoch</td><td>▁▁▁▁▂▂▂▂▂▃▃▃▃▃▃▄▄▄▄▄▅▅▅▅▅▆▆▆▆▆▆▇▇▇▇▇████</td></tr><tr><td>iter_acc</td><td>▁▄▆▅▄▅▅▆▆▆▇▇▇███████████████████████████</td></tr><tr><td>summary_val_acc</td><td>▁▆▇▇▆▇▇▇▇▇▇▇▇███████████████████████████</td></tr><tr><td>tr_acc</td><td>▁▄▆▆▆▆▆▇▇▇▇█████████████████████████████</td></tr><tr><td>tr_epoch_loss</td><td>▁█▅▅▄▄▄▃▃▃▂▂▂▂▂▂▁▁▁▁▁▁▁▁▁▁▁▁▁▁▁▁▁▁▁▁▁▁▁▁</td></tr><tr><td>val_acc_best</td><td>▁▆▇▇▇▇▇▇▇▇▇▇▇███████████████████████████</td></tr><tr><td>val_acc_now</td><td>▁▆▇▇▆▇▇▇▇▇▇▇▇███████████████████████████</td></tr><tr><td>val_loss</td><td>▁▅▄▄▅▄▄▅▅▄▅▆▅▆▆▆▆▇▇▇▇▇▇█████████████████</td></tr></table><br/></div><div class=\"wandb-col\"><h3>Run summary:</h3><br/><table class=\"wandb\"><tr><td>DFA_flag</td><td>0.0</td></tr><tr><td>epoch</td><td>59</td></tr><tr><td>iter_acc</td><td>1.0</td></tr><tr><td>tr_acc</td><td>1.0</td></tr><tr><td>tr_epoch_loss</td><td>0.00459</td></tr><tr><td>val_acc_best</td><td>0.8125</td></tr><tr><td>val_acc_now</td><td>0.8</td></tr><tr><td>val_loss</td><td>2.40909</td></tr></table><br/></div></div>"
      ],
      "text/plain": [
       "<IPython.core.display.HTML object>"
      ]
     },
     "metadata": {},
     "output_type": "display_data"
    },
    {
     "data": {
      "text/html": [
       " View run <strong style=\"color:#cdcd00\">dainty-sweep-98</strong> at: <a href='https://wandb.ai/bhkim003-seoul-national-university/my_snn%20main/runs/zwtuebaj' target=\"_blank\">https://wandb.ai/bhkim003-seoul-national-university/my_snn%20main/runs/zwtuebaj</a><br/> View project at: <a href='https://wandb.ai/bhkim003-seoul-national-university/my_snn%20main' target=\"_blank\">https://wandb.ai/bhkim003-seoul-national-university/my_snn%20main</a><br/>Synced 7 W&B file(s), 0 media file(s), 0 artifact file(s) and 1 other file(s)"
      ],
      "text/plain": [
       "<IPython.core.display.HTML object>"
      ]
     },
     "metadata": {},
     "output_type": "display_data"
    },
    {
     "data": {
      "text/html": [
       "Find logs at: <code>./wandb/run-20240821_193852-zwtuebaj/logs</code>"
      ],
      "text/plain": [
       "<IPython.core.display.HTML object>"
      ]
     },
     "metadata": {},
     "output_type": "display_data"
    },
    {
     "data": {
      "text/html": [
       "The new W&B backend becomes opt-out in version 0.18.0; try it out with `wandb.require(\"core\")`! See https://wandb.me/wandb-core for more information."
      ],
      "text/plain": [
       "<IPython.core.display.HTML object>"
      ]
     },
     "metadata": {},
     "output_type": "display_data"
    },
    {
     "name": "stderr",
     "output_type": "stream",
     "text": [
      "\u001b[34m\u001b[1mwandb\u001b[0m: Sweep Agent: Waiting for job.\n",
      "\u001b[34m\u001b[1mwandb\u001b[0m: Job received.\n",
      "\u001b[34m\u001b[1mwandb\u001b[0m: Agent Starting Run: 2uo5tjzt with config:\n",
      "\u001b[34m\u001b[1mwandb\u001b[0m: \tBATCH: 16\n",
      "\u001b[34m\u001b[1mwandb\u001b[0m: \tDFA_on: False\n",
      "\u001b[34m\u001b[1mwandb\u001b[0m: \tIMAGE_SIZE: 128\n",
      "\u001b[34m\u001b[1mwandb\u001b[0m: \tOTTT_input_trace_on: False\n",
      "\u001b[34m\u001b[1mwandb\u001b[0m: \tOTTT_sWS_on: False\n",
      "\u001b[34m\u001b[1mwandb\u001b[0m: \tTIME: 10\n",
      "\u001b[34m\u001b[1mwandb\u001b[0m: \tcfg: ['M', 'M', 200, 200]\n",
      "\u001b[34m\u001b[1mwandb\u001b[0m: \tconst2: False\n",
      "\u001b[34m\u001b[1mwandb\u001b[0m: \tdecay: 0.2136764034206501\n",
      "\u001b[34m\u001b[1mwandb\u001b[0m: \tdrop_rate: 0\n",
      "\u001b[34m\u001b[1mwandb\u001b[0m: \tdvs_clipping: 2\n",
      "\u001b[34m\u001b[1mwandb\u001b[0m: \tdvs_duration: 100000\n",
      "\u001b[34m\u001b[1mwandb\u001b[0m: \te_transport_swap: 0\n",
      "\u001b[34m\u001b[1mwandb\u001b[0m: \te_transport_swap_tr: 0\n",
      "\u001b[34m\u001b[1mwandb\u001b[0m: \tepoch_num: 60\n",
      "\u001b[34m\u001b[1mwandb\u001b[0m: \texclude_class: True\n",
      "\u001b[34m\u001b[1mwandb\u001b[0m: \tlearning_rate: 0.00936191669529645\n",
      "\u001b[34m\u001b[1mwandb\u001b[0m: \tmerge_polarities: False\n",
      "\u001b[34m\u001b[1mwandb\u001b[0m: \tsurrogate: hard_sigmoid\n",
      "\u001b[34m\u001b[1mwandb\u001b[0m: \twhich_data: DVS_GESTURE_TONIC\n",
      "Failed to detect the name of this notebook, you can set it manually with the WANDB_NOTEBOOK_NAME environment variable to enable code saving.\n"
     ]
    },
    {
     "data": {
      "text/html": [
       "wandb version 0.17.7 is available!  To upgrade, please run:\n",
       " $ pip install wandb --upgrade"
      ],
      "text/plain": [
       "<IPython.core.display.HTML object>"
      ]
     },
     "metadata": {},
     "output_type": "display_data"
    },
    {
     "data": {
      "text/html": [
       "Tracking run with wandb version 0.17.5"
      ],
      "text/plain": [
       "<IPython.core.display.HTML object>"
      ]
     },
     "metadata": {},
     "output_type": "display_data"
    },
    {
     "data": {
      "text/html": [
       "Run data is saved locally in <code>/nfs/home/bhkim003/github_folder/ByeonghyeonKim/my_snn/wandb/run-20240821_195623-2uo5tjzt</code>"
      ],
      "text/plain": [
       "<IPython.core.display.HTML object>"
      ]
     },
     "metadata": {},
     "output_type": "display_data"
    },
    {
     "data": {
      "text/html": [
       "Syncing run <strong><a href='https://wandb.ai/bhkim003-seoul-national-university/my_snn%20main/runs/2uo5tjzt' target=\"_blank\">colorful-sweep-101</a></strong> to <a href='https://wandb.ai/bhkim003-seoul-national-university/my_snn%20main' target=\"_blank\">Weights & Biases</a> (<a href='https://wandb.me/run' target=\"_blank\">docs</a>)<br/>Sweep page: <a href='https://wandb.ai/bhkim003-seoul-national-university/my_snn%20main/sweeps/gqhgeaun' target=\"_blank\">https://wandb.ai/bhkim003-seoul-national-university/my_snn%20main/sweeps/gqhgeaun</a>"
      ],
      "text/plain": [
       "<IPython.core.display.HTML object>"
      ]
     },
     "metadata": {},
     "output_type": "display_data"
    },
    {
     "data": {
      "text/html": [
       " View project at <a href='https://wandb.ai/bhkim003-seoul-national-university/my_snn%20main' target=\"_blank\">https://wandb.ai/bhkim003-seoul-national-university/my_snn%20main</a>"
      ],
      "text/plain": [
       "<IPython.core.display.HTML object>"
      ]
     },
     "metadata": {},
     "output_type": "display_data"
    },
    {
     "data": {
      "text/html": [
       " View sweep at <a href='https://wandb.ai/bhkim003-seoul-national-university/my_snn%20main/sweeps/gqhgeaun' target=\"_blank\">https://wandb.ai/bhkim003-seoul-national-university/my_snn%20main/sweeps/gqhgeaun</a>"
      ],
      "text/plain": [
       "<IPython.core.display.HTML object>"
      ]
     },
     "metadata": {},
     "output_type": "display_data"
    },
    {
     "data": {
      "text/html": [
       " View run at <a href='https://wandb.ai/bhkim003-seoul-national-university/my_snn%20main/runs/2uo5tjzt' target=\"_blank\">https://wandb.ai/bhkim003-seoul-national-university/my_snn%20main/runs/2uo5tjzt</a>"
      ],
      "text/plain": [
       "<IPython.core.display.HTML object>"
      ]
     },
     "metadata": {},
     "output_type": "display_data"
    },
    {
     "name": "stderr",
     "output_type": "stream",
     "text": [
      "\u001b[34m\u001b[1mwandb\u001b[0m: \u001b[33mWARNING\u001b[0m Config item 'BATCH' was locked by 'sweep' (ignored update).\n",
      "\u001b[34m\u001b[1mwandb\u001b[0m: \u001b[33mWARNING\u001b[0m Config item 'IMAGE_SIZE' was locked by 'sweep' (ignored update).\n",
      "\u001b[34m\u001b[1mwandb\u001b[0m: \u001b[33mWARNING\u001b[0m Config item 'which_data' was locked by 'sweep' (ignored update).\n",
      "\u001b[34m\u001b[1mwandb\u001b[0m: \u001b[33mWARNING\u001b[0m Config item 'cfg' was locked by 'sweep' (ignored update).\n",
      "\u001b[34m\u001b[1mwandb\u001b[0m: \u001b[33mWARNING\u001b[0m Config item 'learning_rate' was locked by 'sweep' (ignored update).\n",
      "\u001b[34m\u001b[1mwandb\u001b[0m: \u001b[33mWARNING\u001b[0m Config item 'epoch_num' was locked by 'sweep' (ignored update).\n",
      "\u001b[34m\u001b[1mwandb\u001b[0m: \u001b[33mWARNING\u001b[0m Config item 'surrogate' was locked by 'sweep' (ignored update).\n",
      "\u001b[34m\u001b[1mwandb\u001b[0m: \u001b[33mWARNING\u001b[0m Config item 'dvs_clipping' was locked by 'sweep' (ignored update).\n",
      "\u001b[34m\u001b[1mwandb\u001b[0m: \u001b[33mWARNING\u001b[0m Config item 'dvs_duration' was locked by 'sweep' (ignored update).\n",
      "\u001b[34m\u001b[1mwandb\u001b[0m: \u001b[33mWARNING\u001b[0m Config item 'OTTT_sWS_on' was locked by 'sweep' (ignored update).\n",
      "\u001b[34m\u001b[1mwandb\u001b[0m: \u001b[33mWARNING\u001b[0m Config item 'DFA_on' was locked by 'sweep' (ignored update).\n",
      "\u001b[34m\u001b[1mwandb\u001b[0m: \u001b[33mWARNING\u001b[0m Config item 'OTTT_input_trace_on' was locked by 'sweep' (ignored update).\n",
      "\u001b[34m\u001b[1mwandb\u001b[0m: \u001b[33mWARNING\u001b[0m Config item 'e_transport_swap' was locked by 'sweep' (ignored update).\n",
      "\u001b[34m\u001b[1mwandb\u001b[0m: \u001b[33mWARNING\u001b[0m Config item 'e_transport_swap_tr' was locked by 'sweep' (ignored update).\n",
      "\u001b[34m\u001b[1mwandb\u001b[0m: \u001b[33mWARNING\u001b[0m Config item 'drop_rate' was locked by 'sweep' (ignored update).\n",
      "\u001b[34m\u001b[1mwandb\u001b[0m: \u001b[33mWARNING\u001b[0m Config item 'exclude_class' was locked by 'sweep' (ignored update).\n",
      "\u001b[34m\u001b[1mwandb\u001b[0m: \u001b[33mWARNING\u001b[0m Config item 'merge_polarities' was locked by 'sweep' (ignored update).\n",
      "\u001b[34m\u001b[1mwandb\u001b[0m: \u001b[33mWARNING\u001b[0m Config item 'TIME' was locked by 'sweep' (ignored update).\n"
     ]
    },
    {
     "name": "stdout",
     "output_type": "stream",
     "text": [
      "dataset_hash = 2bbd58b4e0d3c1e9ad501fad8a43feed\n",
      "cache path exists\n",
      "\n",
      "we will exclude the 'other' class. dvsgestrue 10 classes' indices exist. \n",
      "\n",
      "DataParallel(\n",
      "  (module): MY_SNN_FC_sstep(\n",
      "    (layers): MY_Sequential(\n",
      "      (0): MaxPool2d(kernel_size=2, stride=2, padding=0, dilation=1, ceil_mode=False)\n",
      "      (1): MaxPool2d(kernel_size=2, stride=2, padding=0, dilation=1, ceil_mode=False)\n",
      "      (2): DimChanger_for_FC_sstep()\n",
      "      (3): SYNAPSE_FC_trace_sstep()\n",
      "      (4): LIF_layer_trace_sstep()\n",
      "      (5): SYNAPSE_FC_trace_sstep()\n",
      "      (6): LIF_layer_trace_sstep()\n",
      "      (7): SYNAPSE_FC_trace_sstep()\n",
      "    )\n",
      "  )\n",
      ")\n",
      "==================================================\n",
      "My Num of PARAMS: 452,010, system's param_num : 452,010\n",
      "Memory: 1.72MiB at 32-bit\n",
      "==================================================\n"
     ]
    },
    {
     "name": "stderr",
     "output_type": "stream",
     "text": [
      "epoch-0   lr=['0.0093619'], tr/val_loss:  1.805482/  1.474880, tr:  37.18%, val:  54.58%, val_best:  54.58%: 100%|██████████| 62/62 [00:15<00:00,  3.91it/s]                                    \n",
      "epoch-1   lr=['0.0093555'], tr/val_loss:  1.145533/  1.298463, tr:  62.82%, val:  58.75%, val_best:  58.75%: 100%|██████████| 62/62 [00:18<00:00,  3.40it/s]                                    \n",
      "epoch-2   lr=['0.0093363'], tr/val_loss:  0.993004/  1.146050, tr:  65.07%, val:  63.33%, val_best:  63.33%: 100%|██████████| 62/62 [00:16<00:00,  3.76it/s]                                    \n",
      "epoch-3   lr=['0.0093043'], tr/val_loss:  0.894939/  1.116572, tr:  69.46%, val:  64.17%, val_best:  64.17%: 100%|██████████| 62/62 [00:20<00:00,  2.97it/s]                                    \n",
      "epoch-4   lr=['0.0092596'], tr/val_loss:  0.839340/  1.190977, tr:  70.48%, val:  62.92%, val_best:  64.17%: 100%|██████████| 62/62 [00:20<00:00,  3.06it/s]                                    \n",
      "epoch-5   lr=['0.0092024'], tr/val_loss:  0.813287/  1.327681, tr:  68.95%, val:  60.83%, val_best:  64.17%: 100%|██████████| 62/62 [00:11<00:00,  5.56it/s]                                    \n",
      "epoch-6   lr=['0.0091328'], tr/val_loss:  0.703566/  1.186482, tr:  74.97%, val:  61.67%, val_best:  64.17%: 100%|██████████| 62/62 [00:05<00:00, 11.98it/s]                                    \n",
      "epoch-7   lr=['0.0090510'], tr/val_loss:  0.669480/  1.229102, tr:  75.79%, val:  59.17%, val_best:  64.17%: 100%|██████████| 62/62 [00:04<00:00, 12.44it/s]                                    \n",
      "epoch-8   lr=['0.0089572'], tr/val_loss:  0.648996/  1.114548, tr:  76.61%, val:  67.50%, val_best:  67.50%: 100%|██████████| 62/62 [00:05<00:00, 11.36it/s]                                    \n",
      "epoch-9   lr=['0.0088517'], tr/val_loss:  0.486073/  1.252112, tr:  82.74%, val:  70.42%, val_best:  70.42%: 100%|██████████| 62/62 [00:05<00:00, 11.01it/s]                                    \n",
      "epoch-10  lr=['0.0087348'], tr/val_loss:  0.474380/  1.218094, tr:  85.29%, val:  68.33%, val_best:  70.42%: 100%|██████████| 62/62 [00:07<00:00,  8.12it/s]                                    \n",
      "epoch-11  iter_acc:  81.25%, lr=['0.0086067'], iter/last_val_loss:  0.478720/  1.218094, last tr:  85.29%, last val:  68.33%, val_best:  70.42%:   8%|▊         | 5/62 [00:02<00:20,  2.81it/s]"
     ]
    }
   ],
   "source": [
    "# sweep 하는 코드, 위 셀 주석처리 해야 됨.\n",
    "\n",
    "# 이런 워닝 뜨는 거는 걍 너가 main 안에서  wandb.config.update(hyperparameters)할 때 물려서임. 어차피 근데 sweep에서 지정한 걸로 덮어짐 \n",
    "# wandb: WARNING Config item 'BATCH' was locked by 'sweep' (ignored update).\n",
    "\n",
    "unique_name_hyper = 'main'\n",
    "run_name = 'main'\n",
    "sweep_configuration = {\n",
    "    'method': 'bayes',\n",
    "    'name': f'my_snn_sweep{datetime.datetime.now().strftime(\"%Y%m%d_%H%M%S\")}',\n",
    "    'metric': {'goal': 'maximize', 'name': 'val_acc_best'},\n",
    "    'parameters': \n",
    "    {\n",
    "        \"learning_rate\": {\"values\": [0.00936191669529645]}, #0.00936191669529645\n",
    "        \"BATCH\": {\"values\": [16]},\n",
    "        \"decay\": {\"min\": 0.1, \"max\": 0.9},\n",
    "        \"IMAGE_SIZE\": {\"values\": [128]},\n",
    "        \"TIME\": {\"values\": [10]},\n",
    "        \"epoch_num\": {\"values\": [60]},\n",
    "        \"dvs_duration\": {\"values\": [100_000]},\n",
    "        \"dvs_clipping\": {\"values\": [2]},\n",
    "        \"which_data\": {\"values\": ['DVS_GESTURE_TONIC']},\n",
    "        \"OTTT_sWS_on\": {\"values\": [False]},\n",
    "        \"const2\": {\"values\": [False]},\n",
    "        \"surrogate\": {\"values\": ['hard_sigmoid']},\n",
    "        \"DFA_on\": {\"values\": [False]},\n",
    "        \"OTTT_input_trace_on\": {\"values\": [False]},\n",
    "        \"cfg\": {\"values\": [['M','M',200,200]]},\n",
    "        \"e_transport_swap\": {\"values\": [0]},\n",
    "        \"e_transport_swap_tr\": {\"values\": [0]},\n",
    "        \"drop_rate\": {\"values\": [0.0]}, # \"drop_rate\": {\"values\": [0.25,0.5,0.75]}, #\"drop_rate\": {\"min\": 0.25, \"max\": 0.75},\n",
    "        \"exclude_class\": {\"values\": [True]},\n",
    "        \"merge_polarities\": {\"values\": [False]},\n",
    "     }\n",
    "}\n",
    "\n",
    "def hyper_iter():\n",
    "    ### my_snn control board ########################\n",
    "    unique_name = unique_name_hyper ## 이거 설정하면 새로운 경로에 모두 save\n",
    "    \n",
    "    wandb.init(save_code = True)\n",
    "    learning_rate  =  wandb.config.learning_rate\n",
    "    BATCH  =  wandb.config.BATCH\n",
    "    decay  =  wandb.config.decay\n",
    "    IMAGE_SIZE  =  wandb.config.IMAGE_SIZE\n",
    "    TIME  =  wandb.config.TIME\n",
    "    epoch_num  =  wandb.config.epoch_num \n",
    "    dvs_duration  =  wandb.config.dvs_duration\n",
    "    dvs_clipping  =  wandb.config.dvs_clipping\n",
    "    which_data  =  wandb.config.which_data\n",
    "    OTTT_sWS_on  =  wandb.config.OTTT_sWS_on\n",
    "    const2  =  wandb.config.const2\n",
    "    surrogate  =  wandb.config.surrogate\n",
    "    DFA_on  =  wandb.config.DFA_on\n",
    "    OTTT_input_trace_on  =  wandb.config.OTTT_input_trace_on\n",
    "    cfg  =  wandb.config.cfg\n",
    "    e_transport_swap  =  wandb.config.e_transport_swap\n",
    "    e_transport_swap_tr  =  wandb.config.e_transport_swap_tr\n",
    "    drop_rate  =  wandb.config.drop_rate\n",
    "    exclude_class  =  wandb.config.exclude_class\n",
    "    merge_polarities  =  wandb.config.merge_polarities\n",
    "    if const2 == True:\n",
    "        const2 = decay\n",
    "    else:\n",
    "        const2 = 0.0\n",
    "\n",
    "    my_snn_system(  devices = \"3\",\n",
    "                single_step = True, # True # False\n",
    "                unique_name = run_name,\n",
    "                my_seed = 42,\n",
    "                TIME = TIME , # dvscifar 10 # ottt 6 or 10 # nda 10  # 제작하는 dvs에서 TIME넘거나 적으면 자르거나 PADDING함\n",
    "                BATCH = BATCH, # batch norm 할거면 2이상으로 해야함   # nda 256   #  ottt 128\n",
    "                IMAGE_SIZE = IMAGE_SIZE, # dvscifar 48 # MNIST 28 # CIFAR10 32 # PMNIST 28 #NMNIST 34 # GESTURE 128\n",
    "                # dvsgesture 128, dvs_cifar2 128, nmnist 34, n_caltech101 180,240, n_tidigits 64, heidelberg 700, \n",
    "                #pmnist는 28로 해야 됨. 나머지는 바꿔도 돌아는 감.\n",
    "\n",
    "                # DVS_CIFAR10 할거면 time 10으로 해라\n",
    "                which_data = which_data,\n",
    "# 'CIFAR100' 'CIFAR10' 'MNIST' 'FASHION_MNIST' 'DVS_CIFAR10' 'PMNIST'아직\n",
    "# 'DVS_GESTURE', 'DVS_GESTURE_TONIC','DVS_CIFAR10_2','NMNIST','NMNIST_TONIC','N_CALTECH101','n_tidigits','heidelberg'\n",
    "                # CLASS_NUM = 10,\n",
    "                data_path = '/data2', # YOU NEED TO CHANGE THIS\n",
    "                rate_coding = False, # True # False\n",
    "                lif_layer_v_init = 0.0,\n",
    "                lif_layer_v_decay = decay,\n",
    "                lif_layer_v_threshold = 1.0,  # 10000이상으로 하면 NDA LIF 씀. #nda 0.5  #ottt 1.0\n",
    "                lif_layer_v_reset = 0, # 10000이상은 hardreset (내 LIF쓰기는 함 ㅇㅇ)\n",
    "                lif_layer_sg_width = 0.5, # # surrogate sigmoid 쓸 때는 의미없음\n",
    "\n",
    "                # synapse_conv_in_channels = IMAGE_PIXEL_CHANNEL,\n",
    "                synapse_conv_kernel_size = 3,\n",
    "                synapse_conv_stride = 1,\n",
    "                synapse_conv_padding = 1,\n",
    "                synapse_conv_trace_const1 = 1, # 현재 trace구할 때 현재 spike에 곱해지는 상수. 걍 1로 두셈.\n",
    "                synapse_conv_trace_const2 = const2, # 현재 trace구할 때 직전 trace에 곱해지는 상수. lif_layer_v_decay와 같게 할 것을 추천\n",
    "\n",
    "                # synapse_fc_out_features = CLASS_NUM,\n",
    "                synapse_fc_trace_const1 = 1, # 현재 trace구할 때 현재 spike에 곱해지는 상수. 걍 1로 두셈.\n",
    "                synapse_fc_trace_const2 = const2, # 현재 trace구할 때 직전 trace에 곱해지는 상수. lif_layer_v_decay와 같게 할 것을 추천\n",
    "\n",
    "                pre_trained = False, # True # False\n",
    "                convTrue_fcFalse = False, # True # False\n",
    "\n",
    "                # 'P' for average pooling, 'D' for (1,1) aver pooling, 'M' for maxpooling, 'L' for linear classifier, [  ] for residual block\n",
    "                # conv에서 10000 이상은 depth-wise separable (BPTT만 지원), 20000이상은 depth-wise (BPTT만 지원)\n",
    "                # cfg = [64, 64],\n",
    "                # cfg = [64, 124, 64, 124],\n",
    "                # cfg = ['M','M',512], \n",
    "                # cfg = [512], \n",
    "                # cfg = ['M', 'M', 64, 128, 'P', 128, 'P'], \n",
    "                # cfg = ['M','M',200,200],\n",
    "                # cfg = [200,200],\n",
    "                cfg = cfg,\n",
    "                # cfg = [12], #fc\n",
    "                # cfg = [12, 'M', 48, 'M', 12], \n",
    "                # cfg = [64,[64,64],64], # 끝에 linear classifier 하나 자동으로 붙습니다\n",
    "                # cfg = [64, 128, 'P', 256, 256, 'P', 512, 512, 'P', 512, 512, 'D'], #ottt\n",
    "                # cfg = [64, 128, 'P', 256, 256, 'P', 512, 512, 'P', 512, 512], \n",
    "                # cfg = [64, 128, 'M', 256, 256, 'M', 512, 512, 'M', 512, 512], \n",
    "                # cfg = [64, 'P', 128, 'P', 256, 256, 'P', 512, 512, 512, 512, 'D'], # nda\n",
    "                # cfg = [64, 'P', 128, 'P', 256, 256, 'P', 512, 512, 512, 512], # nda 128pixel\n",
    "                # cfg = [64, 'P', 128, 'P', 256, 256, 'P', 512, 512, 512, 512, 'L', 4096, 4096],\n",
    "                # cfg = [20001,10001], # depthwise, separable\n",
    "                # cfg = [64,20064,10001], # vanilla conv, depthwise, separable\n",
    "                # cfg = [8, 'P', 8, 'P', 8, 'P', 8,'P', 8, 'P'],\n",
    "                # cfg = [], \n",
    "                \n",
    "                net_print = True, # True # False # True로 하길 추천\n",
    "                weight_count_print = False, # True # False\n",
    "                \n",
    "                pre_trained_path = f\"net_save/save_now_net_weights_{unique_name}.pth\",\n",
    "                learning_rate = learning_rate, # default 0.001  # ottt 0.1 # nda 0.001 \n",
    "                epoch_num = epoch_num,\n",
    "                verbose_interval = 999999999, #숫자 크게 하면 꺼짐 #걍 중간중간 iter에서 끊어서 출력\n",
    "                validation_interval =  999999999,#999999999, #숫자 크게 하면 에포크 마지막 iter 때 val 함\n",
    "\n",
    "                tdBN_on = False,  # True # False\n",
    "                BN_on = False,  # True # False\n",
    "                \n",
    "                surrogate = surrogate, # 'rectangle' 'sigmoid' 'rough_rectangle'\n",
    "                \n",
    "                gradient_verbose = False,  # True # False  # weight gradient 각 layer마다 띄워줌\n",
    "\n",
    "                BPTT_on = False,  # True # False # True이면 BPTT, False이면 OTTT  # depthwise, separable은 BPTT만 가능\n",
    "                optimizer_what = 'SGD', # 'SGD' 'Adam', 'RMSprop'\n",
    "                scheduler_name = 'CosineAnnealingLR', # 'no' 'StepLR' 'ExponentialLR' 'ReduceLROnPlateau' 'CosineAnnealingLR' 'OneCycleLR'\n",
    "                \n",
    "                ddp_on = False,   # True # False \n",
    "                # 지원 DATASET: cifar10, mnist\n",
    "\n",
    "                nda_net = False,   # True # False\n",
    "\n",
    "                domain_il_epoch = 0, # over 0, then domain il mode on # pmnist 쓸거면 HLOP 코드보고 더 디벨롭하셈. 지금 개발 hold함.\n",
    "                \n",
    "                dvs_clipping = dvs_clipping, # 숫자만큼 크면 spike 아니면 걍 0\n",
    "                # gesture, cifar-dvs2, nmnist, ncaltech101\n",
    "\n",
    "                dvs_duration = dvs_duration, # 0 아니면 time sampling # dvs number sampling OR time sampling # gesture, cifar-dvs2, nmnist, ncaltech101\n",
    "                # 있는 데이터들 #gesture 100_000 25_000 10_000 1_000 1_000_000 #nmnist 10000 #nmnist_tonic 10_000 25_000\n",
    "                # 한 숫자가 1us인듯 (spikingjelly코드에서)\n",
    "                # 한 장에 50 timestep만 생산함. 싫으면 my_snn/trying/spikingjelly_dvsgesture의__init__.py 를 참고해봐\n",
    "\n",
    "                OTTT_sWS_on = OTTT_sWS_on, # True # False # BPTT끄고, CONV에만 적용됨.\n",
    "\n",
    "                DFA_on = DFA_on, # True # False # residual은 dfa지원안함.\n",
    "                OTTT_input_trace_on = OTTT_input_trace_on, # True # False # 맨 처음 input에 trace 적용\n",
    "                 \n",
    "                e_transport_swap = e_transport_swap, # 1 이상이면 해당 숫자 에포크만큼 val_acc_best가 변화가 없으면 e_transport scheme (BP vs DFA) swap\n",
    "                e_transport_swap_tr = e_transport_swap_tr, # 1 이상이면 해당 숫자 에포크만큼 tr_acc_best가 변화가 없으면 e_transport scheme (BP vs DFA) swap\n",
    "                    \n",
    "                drop_rate = drop_rate,\n",
    "\n",
    "                exclude_class = exclude_class, # True # False # gesture에서 10번째 클래스 제외\n",
    "\n",
    "                merge_polarities = merge_polarities, # True # False # tonic dvs dataset 에서 polarities 합치기\n",
    "                    ) \n",
    "    # sigmoid와 BN이 있어야 잘된다.\n",
    "    # average pooling\n",
    "    # 이 낫다. \n",
    "    \n",
    "    # nda에서는 decay = 0.25, threshold = 0.5, width =1, surrogate = rectangle, batch = 256, tdBN = True\n",
    "    ## OTTT 에서는 decay = 0.5, threshold = 1.0, surrogate = sigmoid, batch = 128, BN = True\n",
    "\n",
    "\n",
    "sweep_id = 'bv8kzfu6'\n",
    "wandb.agent(sweep_id, function=hyper_iter, count=10000, project=f'my_snn {unique_name_hyper}')\n"
   ]
  },
  {
   "cell_type": "code",
   "execution_count": null,
   "metadata": {},
   "outputs": [],
   "source": [
    "wandb.finish()"
   ]
  },
  {
   "cell_type": "code",
   "execution_count": null,
   "metadata": {},
   "outputs": [],
   "source": [
    "# import numpy as np\n",
    "# import matplotlib.pyplot as plt\n",
    "# import json\n",
    "# run_name = 'main_FINAL_TEST'\n",
    "\n",
    "# unique_name = run_name\n",
    "# def pad_array_to_match_length(array1, array2):\n",
    "#     if len(array1) > len(array2):\n",
    "#         padded_array2 = np.pad(array2, (0, len(array1) - len(array2)), 'constant')\n",
    "#         return array1, padded_array2\n",
    "#     elif len(array2) > len(array1):\n",
    "#         padded_array1 = np.pad(array1, (0, len(array2) - len(array1)), 'constant')\n",
    "#         return padded_array1, array2\n",
    "#     else:\n",
    "#         return array1, array2\n",
    "# def load_hyperparameters(filename=f'result_save/hyperparameters_{unique_name}.json'):\n",
    "#     with open(filename, 'r') as f:\n",
    "#         return json.load(f)\n",
    "    \n",
    "\n",
    "\n",
    "\n",
    "\n",
    "# current_time = '20240628_110116'\n",
    "# base_name = f'{current_time}'\n",
    "# iter_acc_file_name = f'result_save/{base_name}_iter_acc_array_{unique_name}.npy'\n",
    "# val_acc_file_name = f'result_save/{base_name}_val_acc_now_array_{unique_name}.npy'\n",
    "# hyperparameters_file_name = f'result_save/{base_name}_hyperparameters_{unique_name}.json'\n",
    "\n",
    "# ### if you want to just see most recent train and val acc###########################\n",
    "# iter_acc_file_name = f'result_save/iter_acc_array_{unique_name}.npy'\n",
    "# tr_acc_file_name = f'result_save/tr_acc_array_{unique_name}.npy'\n",
    "# val_acc_file_name = f'result_save/val_acc_now_array_{unique_name}.npy'\n",
    "# hyperparameters_file_name = f'result_save/hyperparameters_{unique_name}.json'\n",
    "\n",
    "# loaded_iter_acc_array = np.load(iter_acc_file_name)*100\n",
    "# loaded_tr_acc_array = np.load(tr_acc_file_name)*100\n",
    "# loaded_val_acc_array = np.load(val_acc_file_name)*100\n",
    "# hyperparameters = load_hyperparameters(hyperparameters_file_name)\n",
    "\n",
    "# loaded_iter_acc_array, loaded_val_acc_array = pad_array_to_match_length(loaded_iter_acc_array, loaded_val_acc_array)\n",
    "# loaded_iter_acc_array, loaded_tr_acc_array = pad_array_to_match_length(loaded_iter_acc_array, loaded_tr_acc_array)\n",
    "# loaded_val_acc_array, loaded_tr_acc_array = pad_array_to_match_length(loaded_val_acc_array, loaded_tr_acc_array)\n",
    "\n",
    "# top_iter_acc = np.max(loaded_iter_acc_array)\n",
    "# top_tr_acc = np.max(loaded_tr_acc_array)\n",
    "# top_val_acc = np.max(loaded_val_acc_array)\n",
    "\n",
    "# which_data = hyperparameters['which_data']\n",
    "# BPTT_on = hyperparameters['BPTT_on']\n",
    "# current_epoch = hyperparameters['current epoch']\n",
    "# surrogate = hyperparameters['surrogate']\n",
    "# cfg = hyperparameters['cfg']\n",
    "# tdBN_on = hyperparameters['tdBN_on']\n",
    "# BN_on = hyperparameters['BN_on']\n",
    "\n",
    "\n",
    "# iterations = np.arange(len(loaded_iter_acc_array))\n",
    "\n",
    "# # 그래프 그리기\n",
    "# plt.figure(figsize=(10, 5))\n",
    "# plt.plot(iterations, loaded_iter_acc_array, label='Iter Accuracy', color='g', alpha=0.2)\n",
    "# plt.plot(iterations, loaded_tr_acc_array, label='Training Accuracy', color='b')\n",
    "# plt.plot(iterations, loaded_val_acc_array, label='Validation Accuracy', color='r')\n",
    "\n",
    "# # # 텍스트 추가\n",
    "# # plt.text(0.05, 0.95, f'Top Training Accuracy: {100*top_iter_acc:.2f}%', transform=plt.gca().transAxes, fontsize=12, verticalalignment='top', horizontalalignment='left', color='blue')\n",
    "# # plt.text(0.05, 0.90, f'Top Validation Accuracy: {100*top_val_acc:.2f}%', transform=plt.gca().transAxes, fontsize=12, verticalalignment='top', horizontalalignment='left', color='red')\n",
    "# # 텍스트 추가\n",
    "# plt.text(0.5, 0.10, f'Top Training Accuracy: {top_tr_acc:.2f}%', transform=plt.gca().transAxes, fontsize=12, verticalalignment='top', horizontalalignment='center', color='blue')\n",
    "# plt.text(0.5, 0.05, f'Top Validation Accuracy: {top_val_acc:.2f}%', transform=plt.gca().transAxes, fontsize=12, verticalalignment='top', horizontalalignment='center', color='red')\n",
    "\n",
    "# plt.xlabel('Iterations')\n",
    "# plt.ylabel('Accuracy [%]')\n",
    "\n",
    "# # 그래프 제목에 하이퍼파라미터 정보 추가\n",
    "# title = f'Training and Validation Accuracy over Iterations\\n\\nData: {which_data}, BPTT: {\"On\" if BPTT_on else \"Off\"}, Current Epoch: {current_epoch}, Surrogate: {surrogate},\\nCFG: {cfg}, tdBN: {\"On\" if tdBN_on else \"Off\"}, BN: {\"On\" if BN_on else \"Off\"}'\n",
    "\n",
    "# plt.title(title)\n",
    "\n",
    "# plt.legend(loc='lower right')\n",
    "# plt.xlim(0)  # x축을 0부터 시작\n",
    "# plt.grid(True)\n",
    "# plt.show()"
   ]
  }
 ],
 "metadata": {
  "kernelspec": {
   "display_name": "nfs",
   "language": "python",
   "name": "python3"
  },
  "language_info": {
   "codemirror_mode": {
    "name": "ipython",
    "version": 3
   },
   "file_extension": ".py",
   "mimetype": "text/x-python",
   "name": "python",
   "nbconvert_exporter": "python",
   "pygments_lexer": "ipython3",
   "version": "3.8.18"
  }
 },
 "nbformat": 4,
 "nbformat_minor": 2
}
