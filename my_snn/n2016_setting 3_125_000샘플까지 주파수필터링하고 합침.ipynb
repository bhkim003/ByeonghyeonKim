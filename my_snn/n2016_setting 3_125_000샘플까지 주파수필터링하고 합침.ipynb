{
 "cells": [
  {
   "cell_type": "code",
   "execution_count": 18,
   "metadata": {},
   "outputs": [],
   "source": [
    "import numpy as np\n",
    "import matplotlib.pyplot as plt\n",
    "from scipy import io\n",
    "import os\n",
    "from collections import Counter\n",
    "import random\n",
    "import torch\n",
    "import torch.nn as nn\n",
    "import torch.optim as optim\n",
    "from torch.utils.data import DataLoader\n",
    "from torch.utils.data import Dataset\n",
    "from scipy.signal import butter, filtfilt\n",
    "\n",
    "def seed_assign(seed):\n",
    "    torch.manual_seed(seed)\n",
    "    torch.cuda.manual_seed(seed)\n",
    "    torch.cuda.manual_seed_all(seed)\n",
    "    np.random.seed(seed)\n",
    "    random.seed(seed)\n"
   ]
  },
  {
   "cell_type": "code",
   "execution_count": 19,
   "metadata": {},
   "outputs": [],
   "source": [
    "data_path = '/data2/spike_sorting/neuropixels_choi'\n",
    "filename = [\"/set1/20141202_all_es\", \"/set2/20150924_1_e\", \"/set3/20150601_all_s\", \"/set4/20150924_1_GT\"]"
   ]
  },
  {
   "cell_type": "code",
   "execution_count": 20,
   "metadata": {},
   "outputs": [],
   "source": [
    "index = 2\n",
    "ground_truth_path = data_path+filename[index]+'_gtTimes.mat'"
   ]
  },
  {
   "cell_type": "code",
   "execution_count": 21,
   "metadata": {},
   "outputs": [],
   "source": [
    "# 근데 prob파일에 129번째 채널이 없네?\n"
   ]
  },
  {
   "cell_type": "markdown",
   "metadata": {},
   "source": [
    "## Merge"
   ]
  },
  {
   "cell_type": "code",
   "execution_count": 22,
   "metadata": {},
   "outputs": [],
   "source": [
    "width = 1_500_000\n",
    "max_iter = 5\n",
    "n_channel = 129\n",
    "n_unit = 7 if index != 2 else 8 # set2는 예외적으로 unit 8개다.\n",
    "frequency = 25_000\n",
    "my_seed = 42\n",
    "seed_assign(my_seed)"
   ]
  },
  {
   "cell_type": "code",
   "execution_count": 23,
   "metadata": {},
   "outputs": [],
   "source": [
    "# 3,125,000 샘플만 쓸래. # 현실시간 125s = 3,125,000 / 25000Hz"
   ]
  },
  {
   "cell_type": "code",
   "execution_count": 24,
   "metadata": {},
   "outputs": [],
   "source": [
    "sample_num_limit = 3_125_000"
   ]
  },
  {
   "cell_type": "code",
   "execution_count": 25,
   "metadata": {},
   "outputs": [
    {
     "name": "stdout",
     "output_type": "stream",
     "text": [
      "dict_keys(['__header__', '__version__', '__globals__', 'raw_data'])\n",
      "dict_keys(['__header__', '__version__', '__globals__', 'raw_data'])\n",
      "dict_keys(['__header__', '__version__', '__globals__', 'raw_data'])\n",
      "dict_keys(['__header__', '__version__', '__globals__', 'raw_data'])\n",
      "dict_keys(['__header__', '__version__', '__globals__', 'raw_data'])\n",
      "(129, 3125000)\n",
      "int16\n"
     ]
    }
   ],
   "source": [
    "all_waveforms = []\n",
    "for i in range(max_iter):\n",
    "    start_index = i * width + 1  # 현재 반복에서 시작 인덱스 계산\n",
    "    end_index = (i + 1) * width  # 현재 반복에서 끝 인덱스 계산\n",
    "    \n",
    "    current_dataset = f\"{data_path}{filename[index]}_start{start_index}_end{end_index}.mat\"\n",
    "    mat1 = io.loadmat(current_dataset)\n",
    "    all_waveforms.append(mat1['raw_data'])\n",
    "    print(mat1.keys())\n",
    "merged_waveform = np.concatenate(all_waveforms, axis=1)[:, :sample_num_limit]\n",
    "print(merged_waveform.shape)\n",
    "print(mat1['raw_data'].dtype)\n"
   ]
  },
  {
   "cell_type": "code",
   "execution_count": 26,
   "metadata": {},
   "outputs": [
    {
     "name": "stdout",
     "output_type": "stream",
     "text": [
      "unit 0 스파이크 튄 gttime (2,)\n",
      "unit 1 스파이크 튄 gttime (9,)\n",
      "unit 2 스파이크 튄 gttime (34,)\n",
      "unit 3 스파이크 튄 gttime (0,)\n",
      "unit 4 스파이크 튄 gttime (2,)\n",
      "unit 5 스파이크 튄 gttime (31,)\n",
      "unit 6 스파이크 튄 gttime (37,)\n",
      "unit 7 스파이크 튄 gttime (279,)\n",
      "unit 0 연관 ch (12,)\n",
      "unit 1 연관 ch (9,)\n",
      "unit 2 연관 ch (11,)\n",
      "unit 3 연관 ch (12,)\n",
      "unit 4 연관 ch (13,)\n",
      "unit 5 연관 ch (12,)\n",
      "unit 6 연관 ch (14,)\n",
      "unit 7 연관 ch (11,)\n",
      "유닛 개수 (8,)\n"
     ]
    }
   ],
   "source": [
    "ground_truth_path = data_path+filename[index]+'_gtTimes.mat'\n",
    "\n",
    "mat1 = io.loadmat(ground_truth_path)\n",
    "spike_times_int_all_units = []\n",
    "for i in range(n_unit):\n",
    "    temp = mat1['gtTimes'][0][i][:,0]\n",
    "    temp = temp[temp < sample_num_limit]\n",
    "    spike_times_int_all_units.append(temp)\n",
    "    print('unit', i, '스파이크 튄 gttime', temp.shape)\n",
    "\n",
    "spike_chans_int_all_units = []\n",
    "for i in range(n_unit):\n",
    "    spike_chans_int_all_units.append(mat1['gtChans'][0][i][:,0])\n",
    "    print('unit', i,'연관 ch', mat1['gtChans'][0][i][:,0].shape)\n",
    "    \n",
    "print('유닛 개수', mat1['gtTimes'][0].shape)"
   ]
  },
  {
   "cell_type": "code",
   "execution_count": 27,
   "metadata": {},
   "outputs": [
    {
     "name": "stdout",
     "output_type": "stream",
     "text": [
      "129\n",
      "(3125000,)\n"
     ]
    }
   ],
   "source": [
    "print(len(merged_waveform))\n",
    "print(merged_waveform[0].shape)"
   ]
  },
  {
   "cell_type": "code",
   "execution_count": 28,
   "metadata": {},
   "outputs": [
    {
     "name": "stdout",
     "output_type": "stream",
     "text": [
      "8\n",
      "(2,)\n"
     ]
    }
   ],
   "source": [
    "print(len(spike_times_int_all_units))\n",
    "print(spike_times_int_all_units[0].shape) # 0번째 unit의 spike time"
   ]
  },
  {
   "cell_type": "code",
   "execution_count": 29,
   "metadata": {},
   "outputs": [
    {
     "name": "stdout",
     "output_type": "stream",
     "text": [
      "모든 채널의 모든 스파이크 개수 합 394\n"
     ]
    }
   ],
   "source": [
    "total_spike = 0\n",
    "for i in range(n_unit):\n",
    "    total_spike += spike_times_int_all_units[i].shape[0]\n",
    "print('모든 채널의 모든 스파이크 개수 합', total_spike)"
   ]
  },
  {
   "cell_type": "code",
   "execution_count": 30,
   "metadata": {},
   "outputs": [
    {
     "name": "stdout",
     "output_type": "stream",
     "text": [
      "총 유닛 8\n",
      "[28 27 26 24 23 22 60 55 56 57 58 59]\n",
      "[ 77  68 100  79  78  67  66  99 111]\n",
      "[29 30 17 18 19 62 63 64 50 51 52]\n",
      "[ 94  95  96  83  84 125 126 127 128 114 115 116]\n",
      "[ 75  76  77  69  70  74 106 107 108 109 101 102 103]\n",
      "[ 75  76  77  68  69  70 107 108 109 100 101 102]\n",
      "[ 76  77  68  69  70 108 109 100 101 102  78  67  99 111]\n",
      "[ 92  86  87  88  90  91 124 119 120 122 123]\n"
     ]
    }
   ],
   "source": [
    "print('총 유닛',len(spike_chans_int_all_units))\n",
    "for i in spike_chans_int_all_units:\n",
    "    print(i)\n",
    "# 유닛별 잘 나오는 channel"
   ]
  },
  {
   "cell_type": "code",
   "execution_count": 31,
   "metadata": {},
   "outputs": [],
   "source": [
    "merged_waveform = merged_waveform/256"
   ]
  },
  {
   "cell_type": "code",
   "execution_count": 32,
   "metadata": {},
   "outputs": [],
   "source": [
    "# Bandpass filter 함수\n",
    "def bandpass_filter(data, lowcut, highcut, fs, order=4):\n",
    "    nyquist = 0.5 * fs  # Nyquist frequency\n",
    "    low = lowcut / nyquist\n",
    "    high = highcut / nyquist\n",
    "    \n",
    "    # Butterworth 필터 설계\n",
    "    b, a = butter(order, [low, high], btype='band')\n",
    "    \n",
    "    # 필터링 적용\n",
    "    filtered_data = filtfilt(b, a, data)\n",
    "    return filtered_data\n"
   ]
  },
  {
   "cell_type": "code",
   "execution_count": 33,
   "metadata": {},
   "outputs": [
    {
     "name": "stdout",
     "output_type": "stream",
     "text": [
      "(129, 3125000)\n"
     ]
    }
   ],
   "source": [
    "# bandpass filter 적용\n",
    "lowcut = 300.0  # 필터의 낮은 주파수 (Hz)\n",
    "highcut = 6000.0  # 필터의 높은 주파수 (Hz)\n",
    "\n",
    "for i in range(merged_waveform.shape[0]):\n",
    "    merged_waveform[i] = bandpass_filter(merged_waveform[i], lowcut, highcut, frequency)\n",
    "print(merged_waveform.shape)\n"
   ]
  },
  {
   "cell_type": "code",
   "execution_count": 34,
   "metadata": {},
   "outputs": [],
   "source": [
    "np.save(f\"{data_path}{filename[index]}_merged_{sample_num_limit}_limit.npy\", merged_waveform)"
   ]
  }
 ],
 "metadata": {
  "kernelspec": {
   "display_name": "aedat2",
   "language": "python",
   "name": "python3"
  },
  "language_info": {
   "codemirror_mode": {
    "name": "ipython",
    "version": 3
   },
   "file_extension": ".py",
   "mimetype": "text/x-python",
   "name": "python",
   "nbconvert_exporter": "python",
   "pygments_lexer": "ipython3",
   "version": "3.8.18"
  }
 },
 "nbformat": 4,
 "nbformat_minor": 2
}
