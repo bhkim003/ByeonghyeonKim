{
 "cells": [
  {
   "cell_type": "code",
   "execution_count": 1,
   "metadata": {},
   "outputs": [],
   "source": [
    "# Copyright (c) 2024 Byeonghyeon Kim \n",
    "# github site: https://github.com/bhkim003/ByeonghyeonKim\n",
    "# email: bhkim003@snu.ac.kr\n",
    " \n",
    "# Permission is hereby granted, free of charge, to any person obtaining a copy of\n",
    "# this software and associated documentation files (the \"Software\"), to deal in\n",
    "# the Software without restriction, including without limitation the rights to\n",
    "# use, copy, modify, merge, publish, distribute, sublicense, and/or sell copies of\n",
    "# the Software, and to permit persons to whom the Software is furnished to do so,\n",
    "# subject to the following conditions:\n",
    " \n",
    "# The above copyright notice and this permission notice shall be included in all\n",
    "# copies or substantial portions of the Software.\n",
    " \n",
    "# THE SOFTWARE IS PROVIDED \"AS IS\", WITHOUT WARRANTY OF ANY KIND, EXPRESS OR\n",
    "# IMPLIED, INCLUDING BUT NOT LIMITED TO THE WARRANTIES OF MERCHANTABILITY, FITNESS\n",
    "# FOR A PARTICULAR PURPOSE AND NONINFRINGEMENT. IN NO EVENT SHALL THE AUTHORS OR\n",
    "# COPYRIGHT HOLDERS BE LIABLE FOR ANY CLAIM, DAMAGES OR OTHER LIABILITY, WHETHER\n",
    "# IN AN ACTION OF CONTRACT, TORT OR OTHERWISE, ARISING FROM, OUT OF OR IN\n",
    "# CONNECTION WITH THE SOFTWARE OR THE USE OR OTHER DEALINGS IN THE SOFTWARE.\n"
   ]
  },
  {
   "cell_type": "code",
   "execution_count": 2,
   "metadata": {},
   "outputs": [
    {
     "name": "stderr",
     "output_type": "stream",
     "text": [
      "/tmp/ipykernel_39808/3914466541.py:46: DeprecationWarning: The module snntorch.spikevision is deprecated. For loading neuromorphic datasets, we recommend using the Tonic project: https://github.com/neuromorphs/tonic\n",
      "  from snntorch.spikevision import spikedata\n"
     ]
    }
   ],
   "source": [
    "import sys\n",
    "import os\n",
    "import argparse\n",
    "import torch\n",
    "import torch.nn as nn\n",
    "import torch.nn.functional as F\n",
    "import torch.backends.cudnn as cudnn\n",
    "import torch.optim as optim\n",
    "import torch.optim.lr_scheduler as lr_scheduler\n",
    "from torch.utils.data import Dataset, DataLoader\n",
    "\n",
    "import torchvision\n",
    "import torchvision.datasets\n",
    "import torchvision.transforms as transforms\n",
    "\n",
    "import numpy as np\n",
    "import matplotlib.pyplot as plt\n",
    "\n",
    "import time\n",
    "\n",
    "from snntorch import spikegen\n",
    "import matplotlib.pyplot as plt\n",
    "import snntorch.spikeplot as splt\n",
    "from IPython.display import HTML\n",
    "\n",
    "from tqdm import tqdm\n",
    "\n",
    "from apex.parallel import DistributedDataParallel as DDP\n",
    "\n",
    "import random\n",
    "import datetime\n",
    "\n",
    "import json\n",
    "\n",
    "from sklearn.utils import shuffle\n",
    "\n",
    "''' 레퍼런스\n",
    "https://spikingjelly.readthedocs.io/zh-cn/0.0.0.0.4/spikingjelly.datasets.html#module-spikingjelly.datasets\n",
    "https://github.com/GorkaAbad/Sneaky-Spikes/blob/main/datasets.py\n",
    "https://github.com/GorkaAbad/Sneaky-Spikes/blob/main/how_to.md\n",
    "https://github.com/nmi-lab/torchneuromorphic\n",
    "https://snntorch.readthedocs.io/en/latest/snntorch.spikevision.spikedata.html#shd\n",
    "'''\n",
    "\n",
    "import snntorch\n",
    "from snntorch.spikevision import spikedata\n",
    "\n",
    "from spikingjelly.datasets.dvs128_gesture import DVS128Gesture\n",
    "from spikingjelly.datasets.cifar10_dvs import CIFAR10DVS\n",
    "from spikingjelly.datasets.n_mnist import NMNIST\n",
    "# from spikingjelly.datasets.es_imagenet import ESImageNet\n",
    "from spikingjelly.datasets import split_to_train_test_set\n",
    "from spikingjelly.datasets.n_caltech101 import NCaltech101\n",
    "from spikingjelly.datasets import pad_sequence_collate, padded_sequence_mask\n",
    "\n",
    "import torchneuromorphic\n",
    "\n",
    "import wandb\n",
    "\n",
    "from torchviz import make_dot\n",
    "import graphviz"
   ]
  },
  {
   "cell_type": "code",
   "execution_count": 3,
   "metadata": {},
   "outputs": [
    {
     "data": {
      "image/png": "[encoded data removed]",
      "text/plain": [
       "<Figure size 800x600 with 2 Axes>"
      ]
     },
     "metadata": {},
     "output_type": "display_data"
    }
   ],
   "source": [
    "# my module import\n",
    "from modules import *\n",
    "\n",
    "# modules 폴더에 새모듈.py 만들면\n",
    "# modules/__init__py 파일에 form .새모듈 import * 하셈\n",
    "# 그리고 새모듈.py에서 from modules.새모듈 import * 하셈\n"
   ]
  },
  {
   "cell_type": "code",
   "execution_count": 4,
   "metadata": {},
   "outputs": [],
   "source": [
    "def my_snn_system(devices = \"0,1,2,3\",\n",
    "                    single_step = False, # True # False\n",
    "                    unique_name = 'main',\n",
    "                    my_seed = 42,\n",
    "                    TIME = 10,\n",
    "                    BATCH = 256,\n",
    "                    IMAGE_SIZE = 32,\n",
    "                    which_data = 'CIFAR10',\n",
    "                    # CLASS_NUM = 10,\n",
    "                    data_path = '/data2',\n",
    "                    rate_coding = True,\n",
    "    \n",
    "                    lif_layer_v_init = 0.0,\n",
    "                    lif_layer_v_decay = 0.6,\n",
    "                    lif_layer_v_threshold = 1.2,\n",
    "                    lif_layer_v_reset = 0.0,\n",
    "                    lif_layer_sg_width = 1,\n",
    "\n",
    "                    # synapse_conv_in_channels = IMAGE_PIXEL_CHANNEL,\n",
    "                    synapse_conv_kernel_size = 3,\n",
    "                    synapse_conv_stride = 1,\n",
    "                    synapse_conv_padding = 1,\n",
    "                    synapse_conv_trace_const1 = 1,\n",
    "                    synapse_conv_trace_const2 = 0.6,\n",
    "\n",
    "                    # synapse_fc_out_features = CLASS_NUM,\n",
    "                    synapse_fc_trace_const1 = 1,\n",
    "                    synapse_fc_trace_const2 = 0.6,\n",
    "\n",
    "                    pre_trained = False,\n",
    "                    convTrue_fcFalse = True,\n",
    "                    cfg = [64, 64],\n",
    "                    net_print = False, # True # False\n",
    "                    weight_count_print = False, # True # False\n",
    "                    pre_trained_path = \"net_save/save_now_net.pth\",\n",
    "                    learning_rate = 0.0001,\n",
    "                    epoch_num = 200,\n",
    "                    verbose_interval = 100, #숫자 크게 하면 꺼짐\n",
    "                    validation_interval = 10, #숫자 크게 하면 꺼짐\n",
    "                    tdBN_on = False,\n",
    "                    BN_on = False,\n",
    "\n",
    "                    surrogate = 'sigmoid',\n",
    "\n",
    "                    gradient_verbose = False,\n",
    "\n",
    "                    BPTT_on = False,\n",
    "\n",
    "                    optimizer_what = 'SGD', # 'SGD' 'Adam', 'RMSprop'\n",
    "                    scheduler_name = 'no',\n",
    "                    \n",
    "                    ddp_on = True,\n",
    "\n",
    "                    nda_net = False,\n",
    "                    \n",
    "                    domain_il_epoch = 0, # over 0, then domain il mode on\n",
    "\n",
    "                    dvs_clipping = 1, \n",
    "                    dvs_duration = 10005,\n",
    "\n",
    "                    OTTT_sWS_on = True, # True # False\n",
    "\n",
    "                    DFA_on = False, # True # False\n",
    "                    OTTT_input_trace_on = False, # True # False\n",
    "                 \n",
    "                    e_transport_swap = 5, # 1 이상이면 해당 숫자 에포크만큼 val_acc_best가 변화가 없으면 e_transport scheme (BP vs DFA) swap\n",
    "                    e_transport_swap_tr = 0, # 1 이상이면 해당 숫자 에포크만큼 val_acc_best가 변화가 없으면 e_transport scheme (BP vs DFA) swap\n",
    "                    e_transport_swap_coin = 0, # swap할 수 있는 coin 개수\n",
    "\n",
    "                    drop_rate = 0.5, \n",
    "\n",
    "                    exclude_class = True, # True # False # gesture에서 10번째 클래스 제외\n",
    "\n",
    "                    merge_polarities = True, # True # False # tonic dvs dataset 에서 polarities 합치기\n",
    "                    denoise_on = True, \n",
    "\n",
    "                    I_wanna_sweep_at_this_epoch = -1,\n",
    "                    dvs_duration_domain = [],\n",
    "\n",
    "                    extra_train_dataset = 0,\n",
    "                  ):\n",
    "    ## hyperparameter check #############################################################\n",
    "    if OTTT_sWS_on == True:\n",
    "        assert BPTT_on == False and tdBN_on == False and BN_on == False\n",
    "        if convTrue_fcFalse == False:\n",
    "            assert single_step == True\n",
    "    if single_step == True:\n",
    "        assert BPTT_on == False and tdBN_on == False \n",
    "    if tdBN_on == True:\n",
    "        assert BPTT_on == True\n",
    "    if pre_trained == True:\n",
    "        print('\\n\\n')\n",
    "        print(\"Caution! pre_trained is True\\n\\n\"*3)    \n",
    "    if DFA_on == True:\n",
    "        assert single_step == True and BPTT_on == False and any(isinstance(item, list) for item in cfg) == False\n",
    "    if OTTT_input_trace_on == True:\n",
    "        assert BPTT_on == False and single_step == True\n",
    "    ######################################################################################\n",
    "\n",
    "\n",
    "    ## 함수 내 모든 로컬 변수 저장 ########################################################\n",
    "    hyperparameters = locals()\n",
    "    hyperparameters['current epoch'] = 0\n",
    "    ######################################################################################\n",
    "    \n",
    "    args_gpu = None\n",
    "    ## DDP settting ######################################################################\n",
    "    if (ddp_on == True):\n",
    "        parser = argparse.ArgumentParser(description='my_snn CIFAR10 Training')\n",
    "\n",
    "        # # local_rank는 command line에서 따로 줄 필요는 없지만, 선언은 필요\n",
    "        parser.add_argument(\"--local_rank\", default=0, type=int)\n",
    "\n",
    "        args = parser.parse_args() # 이거 적어줘야됨. parser argument선언하고\n",
    "\n",
    "        args.gpu = args.local_rank\n",
    "        args_gpu = args.gpu\n",
    "        torch.cuda.set_device(args.gpu)\n",
    "        torch.distributed.init_process_group(backend=\"nccl\", init_method=\"env://\")\n",
    "        args.world_size = torch.distributed.get_world_size()\n",
    "    #######################################################################################\n",
    "\n",
    "\n",
    "    ## wandb 세팅 ###################################################################\n",
    "    current_time = datetime.datetime.now().strftime(\"%Y%m%d_%H%M%S\")\n",
    "    if (ddp_on == True and torch.distributed.get_rank() != 0):\n",
    "        wandb.finish()\n",
    "    if (ddp_on == False or torch.distributed.get_rank() == 0):\n",
    "        wandb.config.update(hyperparameters)\n",
    "        wandb.run.name = f'lr_{learning_rate}_{unique_name}_{which_data}_tstep{TIME}'\n",
    "        wandb.define_metric(\"summary_val_acc\", summary=\"max\")\n",
    "        wandb.run.log_code(\".\", \n",
    "                           include_fn=lambda path: path.endswith(\".py\") or path.endswith(\".ipynb\"),\n",
    "                           exclude_fn=lambda path: 'logs/' in path or 'net_save/' in path or 'result_save/' in path or 'trying/' in path or 'wandb/' in path or 'private/' in path\n",
    "                           )\n",
    "    ###################################################################################\n",
    "\n",
    "\n",
    "\n",
    "    ## gpu setting ##################################################################################################################\n",
    "    os.environ[\"CUDA_DEVICE_ORDER\"]=\"PCI_BUS_ID\" \n",
    "    os.environ[\"CUDA_VISIBLE_DEVICES\"]= devices\n",
    "    ###################################################################################################################################\n",
    "\n",
    "\n",
    "    ## seed setting ##################################################################################################################\n",
    "    seed_assign(my_seed)\n",
    "    ###################################################################################################################################\n",
    "    \n",
    "\n",
    "    ## data_loader 가져오기 ##################################################################################################################\n",
    "    # data loader, pixel channel, class num\n",
    "    train_loader, test_loader, synapse_conv_in_channels, CLASS_NUM = data_loader(\n",
    "            which_data,\n",
    "            data_path, \n",
    "            rate_coding, \n",
    "            BATCH, \n",
    "            IMAGE_SIZE,\n",
    "            ddp_on,\n",
    "            TIME,\n",
    "            dvs_clipping,\n",
    "            dvs_duration,\n",
    "            exclude_class,\n",
    "            merge_polarities,\n",
    "            denoise_on,\n",
    "            my_seed,\n",
    "            extra_train_dataset,)\n",
    "    synapse_fc_out_features = CLASS_NUM\n",
    "    test_loader_domain_set = []\n",
    "    test_loader_domain_set.append(test_loader)\n",
    "    ###########################################################################################################################################\n",
    "    \n",
    "    ## 다른 dvs duration domain을 validation set으로 불러오기 ##############################################################\n",
    "    if len(dvs_duration_domain) > 0:\n",
    "        for domain in dvs_duration_domain:\n",
    "            train_loader_domain, test_loader_domain, synapse_conv_in_channels_domain, CLASS_NUM_domain = data_loader(\n",
    "                    which_data,\n",
    "                    data_path, \n",
    "                    rate_coding, \n",
    "                    BATCH, \n",
    "                    IMAGE_SIZE,\n",
    "                    ddp_on,\n",
    "                    TIME,\n",
    "                    dvs_clipping,\n",
    "                    domain,\n",
    "                    exclude_class,\n",
    "                    merge_polarities,\n",
    "                    denoise_on,\n",
    "                    my_seed,\n",
    "                    extra_train_dataset,)\n",
    "            test_loader_domain_set.append(test_loader_domain)\n",
    "    ######################################################################################################################\n",
    "    \n",
    "    ## parameter number calculator (안 중요함) ##################################################################################################################\n",
    "    params_num = 0\n",
    "    img_size = IMAGE_SIZE \n",
    "    bias_param = 1 # 1 or 0\n",
    "    classifier_making = False\n",
    "    if (convTrue_fcFalse == True):\n",
    "        past_kernel = synapse_conv_in_channels\n",
    "        for kernel in cfg:\n",
    "            if (classifier_making == False):\n",
    "                if (type(kernel) == list):\n",
    "                    for residual_kernel in kernel:\n",
    "                        if (residual_kernel >= 10000 and residual_kernel < 20000): # separable\n",
    "                            residual_kernel -= 10000\n",
    "                            params_num += (synapse_conv_kernel_size**2 + bias_param) * past_kernel\n",
    "                            params_num += (1**2 * past_kernel + bias_param) * residual_kernel\n",
    "                            past_kernel = residual_kernel  \n",
    "                        elif (residual_kernel >= 20000 and residual_kernel < 30000): # depthwise\n",
    "                            residual_kernel -= 20000\n",
    "                            # 'past_kernel' should be same with 'kernel'\n",
    "                            params_num += (synapse_conv_kernel_size**2 + bias_param) * past_kernel\n",
    "                            past_kernel = residual_kernel  \n",
    "                        else:\n",
    "                            params_num += residual_kernel * ((synapse_conv_kernel_size**2) * past_kernel + bias_param)\n",
    "                            past_kernel = residual_kernel\n",
    "                elif (kernel == 'P' or kernel == 'M'):\n",
    "                    img_size = img_size // 2\n",
    "                elif (kernel == 'D'):\n",
    "                    img_size = 1\n",
    "                elif (kernel == 'L'):\n",
    "                    classifier_making = True\n",
    "                    past_kernel = past_kernel * (img_size**2)\n",
    "                else:\n",
    "                    if (kernel >= 10000 and kernel < 20000): # separable\n",
    "                        kernel -= 10000\n",
    "                        params_num += (synapse_conv_kernel_size**2 + bias_param) * past_kernel\n",
    "                        params_num += (1**2 * past_kernel + bias_param) * kernel\n",
    "                        past_kernel = kernel  \n",
    "                    elif (kernel >= 20000 and kernel < 30000): # depthwise\n",
    "                        kernel -= 20000\n",
    "                        # 'past_kernel' should be same with 'kernel'\n",
    "                        params_num += (synapse_conv_kernel_size**2 + bias_param) * past_kernel\n",
    "                        past_kernel = kernel  \n",
    "                    else:\n",
    "                        params_num += kernel * (synapse_conv_kernel_size**2 * past_kernel + bias_param)\n",
    "                        past_kernel = kernel    \n",
    "            else: # classifier making\n",
    "                params_num += (past_kernel + bias_param) * kernel\n",
    "                past_kernel = kernel\n",
    "        \n",
    "        \n",
    "        if classifier_making == False:\n",
    "            past_kernel = past_kernel*img_size*img_size\n",
    "\n",
    "        params_num += (past_kernel + bias_param) * synapse_fc_out_features\n",
    "    else:\n",
    "        past_in_channel = synapse_conv_in_channels*img_size*img_size\n",
    "        for in_channel in cfg:\n",
    "            if (type(in_channel) == list):\n",
    "                for residual_in_channel in in_channel:\n",
    "                    params_num += (past_in_channel + bias_param) * residual_in_channel\n",
    "                    past_in_channel = residual_in_channel\n",
    "            elif (in_channel == 'P' or in_channel == 'M'):\n",
    "                img_size = img_size // 2\n",
    "                past_in_channel = synapse_conv_in_channels*img_size*img_size\n",
    "            else:\n",
    "                params_num += (past_in_channel + bias_param) * in_channel\n",
    "                past_in_channel = in_channel\n",
    "        params_num += (past_in_channel + bias_param) * synapse_fc_out_features\n",
    "    ###########################################################################################################################################\n",
    "\n",
    "\n",
    "    device = torch.device(\"cuda\" if torch.cuda.is_available() else \"cpu\")\n",
    "\n",
    "    ### network setting #######################################################################################################################\n",
    "    if (convTrue_fcFalse == False):\n",
    "        if (single_step == False):\n",
    "            net = MY_SNN_FC(cfg, synapse_conv_in_channels, IMAGE_SIZE, synapse_fc_out_features,\n",
    "                        synapse_fc_trace_const1, synapse_fc_trace_const2, \n",
    "                        lif_layer_v_init, lif_layer_v_decay, \n",
    "                        lif_layer_v_threshold, lif_layer_v_reset,\n",
    "                        lif_layer_sg_width,\n",
    "                        tdBN_on,\n",
    "                        BN_on, TIME,\n",
    "                        surrogate,\n",
    "                        BPTT_on,\n",
    "                        DFA_on,\n",
    "                        drop_rate).to(device)\n",
    "        else:\n",
    "            net = MY_SNN_FC_sstep(cfg, synapse_conv_in_channels, IMAGE_SIZE, synapse_fc_out_features,\n",
    "                        synapse_fc_trace_const1, synapse_fc_trace_const2, \n",
    "                        lif_layer_v_init, lif_layer_v_decay, \n",
    "                        lif_layer_v_threshold, lif_layer_v_reset,\n",
    "                        lif_layer_sg_width,\n",
    "                        tdBN_on,\n",
    "                        BN_on, TIME,\n",
    "                        surrogate,\n",
    "                        BPTT_on,\n",
    "                        DFA_on,\n",
    "                        OTTT_sWS_on,\n",
    "                        drop_rate).to(device)\n",
    "    else:\n",
    "        if (single_step == False):\n",
    "            net = MY_SNN_CONV(cfg, synapse_conv_in_channels, IMAGE_SIZE,\n",
    "                        synapse_conv_kernel_size, synapse_conv_stride, \n",
    "                        synapse_conv_padding, synapse_conv_trace_const1, \n",
    "                        synapse_conv_trace_const2, \n",
    "                        lif_layer_v_init, lif_layer_v_decay, \n",
    "                        lif_layer_v_threshold, lif_layer_v_reset,\n",
    "                        lif_layer_sg_width,\n",
    "                        synapse_fc_out_features, synapse_fc_trace_const1, synapse_fc_trace_const2,\n",
    "                        tdBN_on,\n",
    "                        BN_on, TIME,\n",
    "                        surrogate,\n",
    "                        BPTT_on,\n",
    "                        OTTT_sWS_on,\n",
    "                        DFA_on,\n",
    "                        drop_rate).to(device)\n",
    "        else:\n",
    "            net = MY_SNN_CONV_sstep(cfg, synapse_conv_in_channels, IMAGE_SIZE,\n",
    "                        synapse_conv_kernel_size, synapse_conv_stride, \n",
    "                        synapse_conv_padding, synapse_conv_trace_const1, \n",
    "                        synapse_conv_trace_const2, \n",
    "                        lif_layer_v_init, lif_layer_v_decay, \n",
    "                        lif_layer_v_threshold, lif_layer_v_reset,\n",
    "                        lif_layer_sg_width,\n",
    "                        synapse_fc_out_features, synapse_fc_trace_const1, synapse_fc_trace_const2,\n",
    "                        tdBN_on,\n",
    "                        BN_on, TIME,\n",
    "                        surrogate,\n",
    "                        BPTT_on,\n",
    "                        OTTT_sWS_on,\n",
    "                        DFA_on,\n",
    "                        drop_rate).to(device)\n",
    "    if (nda_net == True):\n",
    "        net = VGG(cfg = cfg, num_classes=10, batch_norm = tdBN_on, in_c = synapse_conv_in_channels, \n",
    "                    lif_layer_v_threshold=lif_layer_v_threshold, lif_layer_v_decay=lif_layer_v_decay, lif_layer_sg_width=lif_layer_sg_width)\n",
    "        net.T = TIME\n",
    "    if ddp_on == False:\n",
    "        net = torch.nn.DataParallel(net) \n",
    "    \n",
    "    if pre_trained == True:\n",
    "        net.load_state_dict(torch.load(pre_trained_path))\n",
    "    \n",
    "    if ddp_on == True:\n",
    "        device = args.gpu\n",
    "        net = net.to(args.gpu)\n",
    "        net = DDP(net, delay_allreduce=True)\n",
    "\n",
    "    net = net.to(device)\n",
    "    if (net_print == True):\n",
    "        if ddp_on == False or torch.distributed.get_rank() == 0:\n",
    "            print(net)    \n",
    "    ####################################################################################################################################\n",
    "    \n",
    "\n",
    "    ## wandb logging ###########################################\n",
    "    if ddp_on == False or torch.distributed.get_rank() == 0:\n",
    "        wandb.watch(net, log=\"all\", log_freq = 10) #gradient, parameter logging해줌\n",
    "    ############################################################\n",
    "\n",
    "    ## param num and memory estimation except BN with MY own calculation some lines above ##########################################\n",
    "    if ddp_on == False or torch.distributed.get_rank() == 0:\n",
    "        real_param_num = sum(p.numel() for p in net.parameters() if p.requires_grad)\n",
    "        if (weight_count_print == True):\n",
    "            for name, param in net.named_parameters():\n",
    "                if param.requires_grad:\n",
    "                    print(f'Layer: {name} | Number of parameters: {param.numel()}')\n",
    "        # Batch norm 있으면 아래 두 개 서로 다를 수 있음.\n",
    "        # assert real_param_num == params_num, f'parameter number is not same. real_param_num: {real_param_num}, params_num: {params_num}'    \n",
    "        print('='*50)\n",
    "        print(f\"My Num of PARAMS: {params_num:,}, system's param_num : {real_param_num:,}\")\n",
    "        memory = params_num / 8 / 1024 / 1024 # MB\n",
    "        precision = 32\n",
    "        memory = memory * precision \n",
    "        print(f\"Memory: {memory:.2f}MiB at {precision}-bit\")\n",
    "        print('='*50)\n",
    "    ##############################################################################################################################\n",
    "\n",
    "\n",
    "\n",
    "    ## criterion ########################################## # loss 구해주는 친구\n",
    "    criterion = nn.CrossEntropyLoss().to(device)\n",
    "    if (OTTT_sWS_on == True):\n",
    "        # criterion = nn.CrossEntropyLoss().to(device)\n",
    "        criterion = lambda y_t, target_t: ((1 - 0.05) * F.cross_entropy(y_t, target_t) + 0.05 * F.mse_loss(y_t, F.one_hot(target_t, CLASS_NUM).float())) / TIME \n",
    "        if which_data == 'DVS_GESTURE':\n",
    "            criterion = lambda y_t, target_t: ((1 - 0.001) * F.cross_entropy(y_t, target_t) + 0.001 * F.mse_loss(y_t, F.one_hot(target_t, CLASS_NUM).float())) / TIME \n",
    "    ####################################################\n",
    "    \n",
    "\n",
    "\n",
    "\n",
    "    ## optimizer, scheduler ########################################################################\n",
    "    if(optimizer_what == 'SGD'):\n",
    "        # optimizer = optim.SGD(net.parameters(), lr=learning_rate, momentum=0.9)\n",
    "        optimizer = optim.SGD(net.parameters(), lr=learning_rate, momentum=0.9, weight_decay=0)\n",
    "    elif(optimizer_what == 'Adam'):\n",
    "        optimizer = torch.optim.Adam(net.parameters(), lr=learning_rate)\n",
    "        # optimizer = torch.optim.Adam(net.parameters(), lr=0.00001)\n",
    "        # optimizer = torch.optim.Adam(net.parameters(), lr=learning_rate/256 * BATCH, weight_decay=1e-4)\n",
    "        # optimizer = optim.Adam(net.parameters(), lr=learning_rate, weight_decay=0, betas=(0.9, 0.999))\n",
    "    elif(optimizer_what == 'RMSprop'):\n",
    "        pass\n",
    "\n",
    "\n",
    "    if (scheduler_name == 'StepLR'):\n",
    "        scheduler = lr_scheduler.StepLR(optimizer, step_size=10, gamma=0.1)\n",
    "    elif (scheduler_name == 'ExponentialLR'):\n",
    "        scheduler = lr_scheduler.ExponentialLR(optimizer, gamma=0.95)\n",
    "    elif (scheduler_name == 'ReduceLROnPlateau'):\n",
    "        scheduler = lr_scheduler.ReduceLROnPlateau(optimizer, mode='min', factor=0.1, patience=10)\n",
    "    elif (scheduler_name == 'CosineAnnealingLR'):\n",
    "        # scheduler = lr_scheduler.CosineAnnealingLR(optimizer, eta_min=0, T_max=50)\n",
    "        scheduler = torch.optim.lr_scheduler.CosineAnnealingLR(optimizer, eta_min=0, T_max=epoch_num)\n",
    "    elif (scheduler_name == 'OneCycleLR'):\n",
    "        scheduler = lr_scheduler.OneCycleLR(optimizer, max_lr=0.1, steps_per_epoch=len(train_loader), epochs=epoch_num)\n",
    "    else:\n",
    "        pass # 'no' scheduler\n",
    "    ## optimizer, scheduler ########################################################################\n",
    "\n",
    "\n",
    "    tr_acc = 0\n",
    "    tr_correct = 0\n",
    "    tr_total = 0\n",
    "    tr_acc_best = 0\n",
    "    tr_epoch_loss_temp = 0\n",
    "    tr_epoch_loss= 0\n",
    "    val_acc_best = 0\n",
    "    val_acc_now = 0\n",
    "    val_loss = 0\n",
    "    elapsed_time_val = 0\n",
    "    no_val_best_growth_count = 0\n",
    "    no_tr_best_growth_count = 0\n",
    "    iter_acc_array = np.array([])\n",
    "    tr_acc_array = np.array([])\n",
    "    val_acc_now_array = np.array([])\n",
    "    DFA_current = DFA_on\n",
    "    DFA_toggle = False\n",
    "    DFA_flag = 1.0 if DFA_current == True else 0.0\n",
    "    DFA_BP_toggle_trial = 0\n",
    "    iter_of_val = False\n",
    "    #======== EPOCH START ==========================================================================================\n",
    "    for epoch in range(epoch_num):\n",
    "        if (I_wanna_sweep_at_this_epoch == epoch):\n",
    "            net = BP_DFA_SWAP(net, convTrue_fcFalse, single_step, ddp_on, args_gpu)\n",
    "            no_val_best_growth_count = 0\n",
    "            DFA_current = not DFA_current\n",
    "            DFA_toggle = True\n",
    "            DFA_BP_toggle_trial = DFA_BP_toggle_trial + 1\n",
    "        else:\n",
    "            if (e_transport_swap > 0 or e_transport_swap_tr > 0):\n",
    "                assert not (e_transport_swap > 0 and e_transport_swap_tr > 0)\n",
    "                if e_transport_swap > 0 and no_val_best_growth_count == e_transport_swap :\n",
    "                    if DFA_BP_toggle_trial < e_transport_swap_coin:\n",
    "                        net = BP_DFA_SWAP(net, convTrue_fcFalse, single_step, ddp_on, args_gpu)\n",
    "                        no_val_best_growth_count = 0\n",
    "                        DFA_current = not DFA_current\n",
    "                        DFA_toggle = True\n",
    "                        DFA_BP_toggle_trial = DFA_BP_toggle_trial + 1\n",
    "                if e_transport_swap_tr > 0 and no_tr_best_growth_count == e_transport_swap_tr:\n",
    "                    if DFA_BP_toggle_trial < e_transport_swap_coin:\n",
    "                        net = BP_DFA_SWAP(net, convTrue_fcFalse, single_step, ddp_on, args_gpu)\n",
    "                        no_tr_best_growth_count = 0\n",
    "                        DFA_current = not DFA_current\n",
    "                        DFA_toggle = True\n",
    "                        DFA_BP_toggle_trial = DFA_BP_toggle_trial + 1\n",
    "\n",
    "        if ddp_on == False or torch.distributed.get_rank() == 0:\n",
    "            # print('EPOCH', epoch)\n",
    "            pass\n",
    "        epoch_start_time = time.time()\n",
    "\n",
    "        # if (domain_il_epoch>0 and which_data == 'PMNIST'):\n",
    "        #     k = epoch // domain_il_epoch\n",
    "        #     xtrain=data[k]['train']['x']\n",
    "        #     ytrain=data[k]['train']['y']\n",
    "        #     xtest =data[k]['test']['x']\n",
    "        #     ytest =data[k]['test']['y']\n",
    "\n",
    "        ####### iterator : input_loading & tqdm을 통한 progress_bar 생성###################\n",
    "        iterator = enumerate(train_loader, 0)\n",
    "        if ddp_on == False or torch.distributed.get_rank() == 0:  \n",
    "            iterator = tqdm(iterator, total=len(train_loader), desc='train', dynamic_ncols=True, position=0, leave=True)\n",
    "        ##################################################################################   \n",
    "        \n",
    "        #### validation_interval이 batch size보다 작을 시 validation_interval을 batch size로 맞춰줌#############\n",
    "        validation_interval2 = validation_interval\n",
    "        if (validation_interval > len(train_loader)):\n",
    "            validation_interval2 = len(train_loader)\n",
    "        ##################################################################################################\n",
    "\n",
    "\n",
    "        ###### ITERATION START ##########################################################################################################\n",
    "        for i, data in iterator:\n",
    "            iter_one_train_time_start = time.time()\n",
    "            net.train() # train 모드로 바꿔줘야함\n",
    "\n",
    "            ### data loading & semi-pre-processing ################################################################################\n",
    "            if len(data) == 2:\n",
    "                inputs, labels = data\n",
    "                # 처리 로직 작성\n",
    "            elif len(data) == 3:\n",
    "                inputs, labels, x_len = data\n",
    "                # print('x_len',x_len)\n",
    "                # mask = padded_sequence_mask(x_len)\n",
    "                # max_time_step = x_len.max()\n",
    "                # min_time_step = x_len.min()\n",
    "            else:\n",
    "                assert False, 'data length is not 2 or 3'\n",
    "            #######################################################################################################################\n",
    "                \n",
    "            ## batch 크기 ######################################\n",
    "            real_batch = labels.size(0)\n",
    "            ###########################################################\n",
    "\n",
    "            ###########################################################################################################################        \n",
    "            if (which_data == 'n_tidigits'):\n",
    "                inputs = inputs.permute(0, 1, 3, 2, 4)\n",
    "                labels = labels[:, 0, :]\n",
    "                labels = torch.argmax(labels, dim=1)\n",
    "            elif (which_data == 'heidelberg'):\n",
    "                inputs = inputs.view(5, 1000, 1, 700, 1)\n",
    "                print(\"\\n\\n\\n경고!!!! heidelberg 이거 타임스텝이랑 채널 잘 바꿔줘라!!!\\n\\n\\n\\n\")\n",
    "            # print('inputs',inputs.size(),'\\nlabels',labels.size())\n",
    "            # print(labels)\n",
    "                \n",
    "            if (which_data == 'DVS_CIFAR10' or which_data == 'DVS_GESTURE' or which_data == 'DVS_GESTURE_TONIC' or which_data == 'DVS_CIFAR10_2' or which_data == 'NMNIST' or which_data == 'NMNIST_TONIC' or which_data == 'N_CALTECH101' or which_data == 'n_tidigits' or which_data == 'heidelberg'):\n",
    "                inputs = inputs.permute(1, 0, 2, 3, 4)\n",
    "            elif rate_coding == True :\n",
    "                inputs = spikegen.rate(inputs, num_steps=TIME)\n",
    "            else :\n",
    "                inputs = inputs.repeat(TIME, 1, 1, 1, 1)\n",
    "            # inputs: [Time, Batch, Channel, Height, Width]  \n",
    "            ####################################################################################################################### \n",
    "                \n",
    "            \n",
    "            # # dvs 데이터 시각화 코드 (확인 필요할 시 써라)\n",
    "            # ##############################################################################################\n",
    "            # dvs_visualization(inputs, labels, TIME, BATCH, my_seed)\n",
    "            # #####################################################################################################\n",
    "\n",
    "            ## to (device) #######################################\n",
    "            inputs = inputs.to(device)\n",
    "            labels = labels.to(device)\n",
    "            ###########################################################\n",
    "\n",
    "\n",
    "            ## gradient 초기화 #######################################\n",
    "            optimizer.zero_grad()\n",
    "            ###########################################################\n",
    "            \n",
    "            ## DVS gesture에서 other label자리 매꾸기 ###############\n",
    "            if (which_data == 'DVS_GESTURE'):\n",
    "                labels[labels>2] -= 1\n",
    "            #######################################################         \n",
    "                               \n",
    "            if merge_polarities == True:\n",
    "                inputs = inputs[:,:,0,:,:]\n",
    "\n",
    "            if single_step == False:\n",
    "                # net에 넣어줄때는 batch가 젤 앞 차원으로 와야함. # dataparallel때매##############################\n",
    "                # inputs: [Time, Batch, Channel, Height, Width]   \n",
    "                inputs = inputs.permute(1, 0, 2, 3, 4) # net에 넣어줄때는 batch가 젤 앞 차원으로 와야함. # dataparallel때매\n",
    "                # inputs: [Batch, Time, Channel, Height, Width] \n",
    "                #################################################################################################\n",
    "            else:\n",
    "                labels = labels.repeat(TIME, 1)\n",
    "                ## first input도 ottt trace 적용하기 위한 코드 (validation 시에는 필요X) ##########################\n",
    "                if OTTT_input_trace_on == True:\n",
    "                    spike = inputs\n",
    "                    trace = torch.full_like(spike, fill_value = 0.0, dtype = torch.float, requires_grad=False)\n",
    "                    inputs = []\n",
    "                    for t in range(TIME):\n",
    "                        trace[t] = trace[t-1]*synapse_conv_trace_const2 + spike[t]*synapse_conv_trace_const1\n",
    "                        inputs += [[spike[t], trace[t]]]\n",
    "                ##################################################################################################\n",
    "\n",
    "\n",
    "            if single_step == False:\n",
    "                ### input --> net --> output #####################################################\n",
    "                outputs = net(inputs)\n",
    "                ##################################################################################\n",
    "                ## loss, backward ##########################################\n",
    "                iter_loss = criterion(outputs, labels)\n",
    "                iter_loss.backward()\n",
    "                ############################################################\n",
    "                ## weight 업데이트!! ##################################\n",
    "                optimizer.step()\n",
    "                ################################################################\n",
    "            else:\n",
    "                outputs_all = []\n",
    "                iter_loss = 0.0\n",
    "                for t in range(TIME):\n",
    "                    ### input[t] --> net --> output_one_time #########################################\n",
    "                    outputs_one_time = net(inputs[t])\n",
    "                    ##################################################################################\n",
    "                    one_time_loss = criterion(outputs_one_time, labels[t].contiguous())\n",
    "                    one_time_loss.backward() # one_time backward\n",
    "                    iter_loss += one_time_loss.data\n",
    "                    outputs_all.append(outputs_one_time.detach())\n",
    "                optimizer.step() # full step time update\n",
    "                outputs_all = torch.stack(outputs_all, dim=1)\n",
    "                outputs = outputs_all.mean(1) # ottt꺼 쓸때\n",
    "                labels = labels[0]\n",
    "                iter_loss /= TIME\n",
    "            tr_epoch_loss_temp += iter_loss.data/len(train_loader)\n",
    "\n",
    "            ## net 그림 출력해보기 #################################################################\n",
    "            # print('시각화')\n",
    "            # make_dot(outputs, params=dict(list(net.named_parameters()))).render(\"net_torchviz\", format=\"png\")\n",
    "            # return 0\n",
    "            ##################################################################################\n",
    "\n",
    "            #### batch 어긋남 방지 ###############################################\n",
    "            assert real_batch == outputs.size(0), f'batch size is not same. real_batch: {real_batch}, outputs.size(0): {outputs.size(0)}'\n",
    "            #######################################################################\n",
    "            \n",
    "\n",
    "            ####### training accruacy save for print ###############################\n",
    "            _, predicted = torch.max(outputs.data, 1)\n",
    "            total = real_batch\n",
    "            correct = (predicted == labels).sum().item()\n",
    "            iter_acc = correct / total\n",
    "            tr_total += total\n",
    "            tr_correct += correct\n",
    "            if i % verbose_interval == verbose_interval-1:\n",
    "                if ddp_on == False or torch.distributed.get_rank() == 0:\n",
    "                    print(f'{epoch}-{i} training acc: {100 * iter_acc:.2f}%, lr={[f\"{lr}\" for lr in (param_group[\"lr\"] for param_group in optimizer.param_groups)]}, val_acc: {100 * val_acc_now:.2f}%')\n",
    "            iter_acc_string = f'epoch-{epoch:<3} iter_acc:{100 * iter_acc:7.2f}%, lr={[f\"{lr:9.7f}\" for lr in (param_group[\"lr\"] for param_group in optimizer.param_groups)]}'\n",
    "            iter_acc_string2 = f'epoch-{epoch:<3} lr={[f\"{lr:9.7f}\" for lr in (param_group[\"lr\"] for param_group in optimizer.param_groups)]}'\n",
    "            ################################################################\n",
    "            \n",
    "\n",
    "\n",
    "\n",
    "\n",
    "            iter_one_train_time_end = time.time()\n",
    "            elapsed_time = iter_one_train_time_end - iter_one_train_time_start  # 실행 시간 계산\n",
    "\n",
    "            if (i % verbose_interval == verbose_interval-1):\n",
    "                if ddp_on == False or torch.distributed.get_rank() == 0:\n",
    "                    print(f\"iter_one_train_time: {elapsed_time} seconds, last one_val_time: {elapsed_time_val} seconds\\n\")\n",
    "                \n",
    "            ##### validation ##################################################################################################################################\n",
    "            if i % validation_interval2 == validation_interval2-1:\n",
    "                iter_one_val_time_start = time.time()\n",
    "                tr_acc = tr_correct/tr_total\n",
    "                tr_correct = 0\n",
    "                tr_total = 0\n",
    "                domain_index = 0\n",
    "                val_loss_set = []\n",
    "                val_acc_now_set = []\n",
    "                while True:\n",
    "                    val_loss = 0\n",
    "                    correct_val = 0\n",
    "                    total_val = 0\n",
    "                    test_loader = test_loader_domain_set[domain_index]\n",
    "                    domain_index = domain_index + 1\n",
    "\n",
    "                    with torch.no_grad():\n",
    "                        net.eval() # eval 모드로 바꿔줘야함 \n",
    "                        for data_val in test_loader:\n",
    "                            ## data_val loading & semi-pre-processing ##########################################################\n",
    "                            if len(data_val) == 2:\n",
    "                                inputs_val, labels_val = data_val\n",
    "                                # 처리 로직 작성\n",
    "                            elif len(data_val) == 3:\n",
    "                                inputs_val, labels_val, x_len = data_val\n",
    "                                # print('x_len',x_len)\n",
    "                                # mask = padded_sequence_mask(x_len)\n",
    "                                # max_time_step = x_len.max()\n",
    "                                # min_time_step = x_len.min()\n",
    "                                # B, T, *spatial_dims = inputs_val.shape\n",
    "                            else:\n",
    "                                assert False, 'data_val length is not 2 or 3'\n",
    "\n",
    "                            if (which_data == 'DVS_CIFAR10' or which_data == 'DVS_GESTURE' or which_data == 'DVS_GESTURE_TONIC' or which_data == 'DVS_CIFAR10_2' or which_data == 'NMNIST' or which_data == 'NMNIST_TONIC' or which_data == 'N_CALTECH101' or which_data == 'n_tidigits' or which_data == 'heidelberg'):\n",
    "                                inputs_val = inputs_val.permute(1, 0, 2, 3, 4)\n",
    "                            elif rate_coding == True :\n",
    "                                inputs_val = spikegen.rate(inputs_val, num_steps=TIME)\n",
    "                            else :\n",
    "                                inputs_val = inputs_val.repeat(TIME, 1, 1, 1, 1)\n",
    "                            # inputs_val: [Time, Batch, Channel, Height, Width]  \n",
    "                            ###################################################################################################\n",
    "\n",
    "                            inputs_val = inputs_val.to(device)\n",
    "                            labels_val = labels_val.to(device)\n",
    "                            real_batch = labels_val.size(0)\n",
    "                            \n",
    "                            ## DVS gesture에서 other label자리 매꾸기 ###############\n",
    "                            if (which_data == 'DVS_GESTURE'):\n",
    "                                labels_val[labels_val>2] -= 1\n",
    "                            #######################################################\n",
    "                            \n",
    "                            if merge_polarities == True:\n",
    "                                inputs_val = inputs_val[:,:,0,:,:]\n",
    "\n",
    "                            ## network 연산 시작 ############################################################################################################\n",
    "                            if single_step == False:\n",
    "                                outputs = net(inputs_val.permute(1, 0, 2, 3, 4)) #inputs_val: [Batch, Time, Channel, Height, Width]  \n",
    "                                val_loss_val += criterion(outputs, labels_val)/len(test_loader)\n",
    "                            else:\n",
    "                                outputs_all = []\n",
    "                                for t in range(TIME):\n",
    "                                    outputs = net(inputs_val[t])\n",
    "                                    val_loss_temp = criterion(outputs, labels_val)\n",
    "                                    outputs_all.append(outputs.detach())\n",
    "                                    val_loss += (val_loss_temp.data/TIME)/len(test_loader)\n",
    "                                outputs_all = torch.stack(outputs_all, dim=1)\n",
    "                                outputs = outputs_all.mean(1)\n",
    "                            val_loss_set.append(val_loss)\n",
    "                            #################################################################################################################################\n",
    "\n",
    "                            _, predicted = torch.max(outputs.data, 1)\n",
    "                            total_val += real_batch\n",
    "                            assert real_batch == outputs.size(0), f'batch size is not same. real_batch: {real_batch}, outputs.size(0): {outputs.size(0)}'\n",
    "                            correct_val += (predicted == labels_val).sum().item()\n",
    "\n",
    "                        val_acc_now = correct_val / total_val\n",
    "                        # print(f'{epoch}-{i} validation acc: {100 * val_acc_now:.2f}%, lr={[f\"{lr:.10f}\" for lr in (param_group[\"lr\"] for param_group in optimizer.param_groups)]}')\n",
    "                        val_acc_now_set.append(val_acc_now)\n",
    "\n",
    "                    if domain_index == len(dvs_duration_domain) + 1:\n",
    "                        break\n",
    "\n",
    "                val_loss = val_loss_set[0]\n",
    "                val_acc_now = val_acc_now_set[0]\n",
    "\n",
    "                iter_one_val_time_end = time.time()\n",
    "                elapsed_time_val = iter_one_val_time_end - iter_one_val_time_start  # 실행 시간 계산\n",
    "                # print(f\"iter_one_val_time: {elapsed_time_val} seconds\")\n",
    "\n",
    "                # network save\n",
    "                if val_acc_best < val_acc_now:\n",
    "                    val_acc_best = val_acc_now\n",
    "                    if ddp_on == False or torch.distributed.get_rank() == 0:\n",
    "                        # wandb 키면 state_dict아닌거는 저장 안됨\n",
    "                        torch.save(net.state_dict(), f\"net_save/save_now_net_weights_{unique_name}.pth\")\n",
    "                        # torch.save(net, f\"net_save/save_now_net_{unique_name}.pth\")\n",
    "                        # torch.save(net.module.state_dict(), f\"net_save/save_now_net_weights2_{unique_name}.pth\")\n",
    "                        # torch.save(net.module, f\"net_save/save_now_net2_{unique_name}.pth\")\n",
    "                    no_val_best_growth_count = 0\n",
    "                else:\n",
    "                    no_val_best_growth_count = no_val_best_growth_count + 1\n",
    "\n",
    "                if tr_acc_best < tr_acc:\n",
    "                    tr_acc_best = tr_acc\n",
    "                    no_tr_best_growth_count = 0\n",
    "                else:\n",
    "                    no_tr_best_growth_count = no_tr_best_growth_count + 1\n",
    "\n",
    "                tr_epoch_loss = tr_epoch_loss_temp\n",
    "                tr_epoch_loss_temp = 0\n",
    "\n",
    "                if DFA_toggle == True:\n",
    "                    DFA_flag = 1.0 - DFA_flag\n",
    "                    DFA_toggle = False\n",
    "\n",
    "                iter_of_val = True\n",
    "            ####################################################################################################################################################\n",
    "            \n",
    "            ## progress bar update ############################################################################################################\n",
    "            if ddp_on == False or torch.distributed.get_rank() == 0:\n",
    "                if iter_of_val == False:\n",
    "                    iterator.set_description(f\"{iter_acc_string}, iter_loss:{iter_loss:10.6f}, val_best:{100 * val_acc_best:7.2f}%\")  \n",
    "                else:\n",
    "                    iterator.set_description(f\"{iter_acc_string2}, tr/val_loss:{tr_epoch_loss:10.6f}/{val_loss:10.6f}, tr:{100 * tr_acc:7.2f}%, val:{100 * val_acc_now:7.2f}%, val_best:{100 * val_acc_best:7.2f}%\")  \n",
    "                    if len(dvs_duration_domain) > 0:\n",
    "                        dvs_duration_full = [dvs_duration] + dvs_duration_domain\n",
    "                        print(\" | \".join(f\"{dvs_duration_full[i]:,}:{val_acc_now_set[i]*100:.2f}%\" for i in range(len(val_acc_now_set))))\n",
    "                    iter_of_val = False\n",
    "            \n",
    "            ####################################################################################################################################\n",
    "            \n",
    "            ## wandb logging ############################################################################################################\n",
    "            if ddp_on == False or torch.distributed.get_rank() == 0:\n",
    "                wandb.log({\"iter_acc\": iter_acc})\n",
    "                wandb.log({\"tr_acc\": tr_acc})\n",
    "                wandb.log({\"val_acc_now\": val_acc_now})\n",
    "                wandb.log({\"val_acc_best\": val_acc_best})\n",
    "                wandb.log({\"summary_val_acc\": val_acc_now})\n",
    "                wandb.log({\"epoch\": epoch})\n",
    "                wandb.log({\"DFA_flag\": DFA_flag}) # DFA mode 바뀌자 마자 바뀌는 게 아니고 validation 한번 했을 때 바뀜.\n",
    "                wandb.log({\"val_loss\": val_loss}) \n",
    "                wandb.log({\"tr_epoch_loss\": tr_epoch_loss}) \n",
    "            ####################################################################################################################################\n",
    "            \n",
    "            \n",
    "            ## accuray 로컬에 저장 하기 위한 코드 #####################################################################################\n",
    "            iter_acc_array = np.append(iter_acc_array, iter_acc)\n",
    "            tr_acc_array = np.append(tr_acc_array, tr_acc)\n",
    "            val_acc_now_array = np.append(val_acc_now_array, val_acc_now)\n",
    "            base_name = f'{current_time}'\n",
    "            ####################################################################################################################\n",
    "            \n",
    "            iter_acc_file_name_time = f'result_save/{base_name}_iter_acc_array_{unique_name}.npy'\n",
    "            tr_acc_file_name_time = f'result_save/{base_name}_tr_acc_array_{unique_name}.npy'\n",
    "            val_acc_file_name_time = f'result_save/{base_name}_val_acc_now_array_{unique_name}.npy'\n",
    "            hyperparameters_file_name_time = f'result_save/{base_name}_hyperparameters_{unique_name}.json'\n",
    "\n",
    "            hyperparameters['current epoch'] = epoch\n",
    "\n",
    "            ### accuracy 세이브: 덮어쓰기 하기 싫으면 주석 풀어서 사용 (시간마다 새로 쓰기) 비추천 ########################\n",
    "            # if ddp_on == False or torch.distributed.get_rank() == 0:\n",
    "            #     np.save(iter_acc_file_name_time, iter_acc_array)\n",
    "            #     np.save(tr_acc_file_name_time, iter_acc_array)\n",
    "            #     np.save(val_acc_file_name_time, val_acc_now_array)\n",
    "            #     with open(hyperparameters_file_name_time, 'w') as f:\n",
    "            #         json.dump(hyperparameters, f, indent=4)\n",
    "            #########################################################################################################\n",
    "\n",
    "            ## accuracy 세이브 ###########################################################################################\n",
    "            if ddp_on == False or torch.distributed.get_rank() == 0:\n",
    "                np.save(f'result_save/iter_acc_array_{unique_name}.npy', iter_acc_array)\n",
    "                np.save(f'result_save/tr_acc_array_{unique_name}.npy', tr_acc_array)\n",
    "                np.save(f'result_save/val_acc_now_array_{unique_name}.npy', val_acc_now_array)\n",
    "                with open(f'result_save/hyperparameters_{unique_name}.json', 'w') as f:\n",
    "                    json.dump(hyperparameters, f, indent=4)\n",
    "            ##########################################################################################################\n",
    "        ###### ITERATION END ##########################################################################################################\n",
    "                \n",
    "\n",
    "        ## scheduler update #############################################################################\n",
    "        if (scheduler_name != 'no'):\n",
    "            if (scheduler_name == 'ReduceLROnPlateau'):\n",
    "                scheduler.step(val_loss)\n",
    "            else:\n",
    "                scheduler.step()\n",
    "        #################################################################################################\n",
    "        \n",
    "        # 실행 시간 계산\n",
    "        epoch_time_end = time.time()\n",
    "        # print(f\"epoch_time: {epoch_time_end - epoch_start_time} seconds\\n\") \n",
    "    #======== EPOCH END ==========================================================================================\n"
   ]
  },
  {
   "cell_type": "code",
   "execution_count": 5,
   "metadata": {},
   "outputs": [
    {
     "name": "stderr",
     "output_type": "stream",
     "text": [
      "Failed to detect the name of this notebook, you can set it manually with the WANDB_NOTEBOOK_NAME environment variable to enable code saving.\n",
      "\u001b[34m\u001b[1mwandb\u001b[0m: Currently logged in as: \u001b[33mbhkim003\u001b[0m (\u001b[33mbhkim003-seoul-national-university\u001b[0m). Use \u001b[1m`wandb login --relogin`\u001b[0m to force relogin\n"
     ]
    },
    {
     "data": {
      "text/html": [
       "wandb version 0.17.9 is available!  To upgrade, please run:\n",
       " $ pip install wandb --upgrade"
      ],
      "text/plain": [
       "<IPython.core.display.HTML object>"
      ]
     },
     "metadata": {},
     "output_type": "display_data"
    },
    {
     "data": {
      "text/html": [
       "Tracking run with wandb version 0.17.5"
      ],
      "text/plain": [
       "<IPython.core.display.HTML object>"
      ]
     },
     "metadata": {},
     "output_type": "display_data"
    },
    {
     "data": {
      "text/html": [
       "Run data is saved locally in <code>/nfs/home/bhkim003/github_folder/ByeonghyeonKim/my_snn/wandb/run-20240908_230230-r8kxerko</code>"
      ],
      "text/plain": [
       "<IPython.core.display.HTML object>"
      ]
     },
     "metadata": {},
     "output_type": "display_data"
    },
    {
     "data": {
      "text/html": [
       "Syncing run <strong><a href='https://wandb.ai/bhkim003-seoul-national-university/my_snn%20main/runs/r8kxerko' target=\"_blank\">graceful-feather-5492</a></strong> to <a href='https://wandb.ai/bhkim003-seoul-national-university/my_snn%20main' target=\"_blank\">Weights & Biases</a> (<a href='https://wandb.me/run' target=\"_blank\">docs</a>)<br/>"
      ],
      "text/plain": [
       "<IPython.core.display.HTML object>"
      ]
     },
     "metadata": {},
     "output_type": "display_data"
    },
    {
     "data": {
      "text/html": [
       " View project at <a href='https://wandb.ai/bhkim003-seoul-national-university/my_snn%20main' target=\"_blank\">https://wandb.ai/bhkim003-seoul-national-university/my_snn%20main</a>"
      ],
      "text/plain": [
       "<IPython.core.display.HTML object>"
      ]
     },
     "metadata": {},
     "output_type": "display_data"
    },
    {
     "data": {
      "text/html": [
       " View run at <a href='https://wandb.ai/bhkim003-seoul-national-university/my_snn%20main/runs/r8kxerko' target=\"_blank\">https://wandb.ai/bhkim003-seoul-national-university/my_snn%20main/runs/r8kxerko</a>"
      ],
      "text/plain": [
       "<IPython.core.display.HTML object>"
      ]
     },
     "metadata": {},
     "output_type": "display_data"
    },
    {
     "name": "stdout",
     "output_type": "stream",
     "text": [
      "dataset_hash = d592c6461ca1b8f7d04dcafd9aaa6a58\n",
      "cache path exists\n",
      "\n",
      "we will exclude the 'other' class. dvsgestrue 10 classes' indices exist. \n",
      "\n",
      "dataset_hash = d592c6461ca1b8f7d04dcafd9aaa6a58\n",
      "cache path exists\n",
      "\n",
      "we will exclude the 'other' class. dvsgestrue 10 classes' indices exist. \n",
      "\n",
      "dataset_hash = 278588870fb08b59a8c0781e22c5101c\n",
      "cache path exists\n",
      "\n",
      "we will exclude the 'other' class. dvsgestrue 10 classes' indices exist. \n",
      "\n",
      "dataset_hash = 37352dbbe82babbf75912435afa3a81c\n",
      "cache path doesn't exist\n",
      "\n",
      "we will exclude the 'other' class. dvsgestrue 10 classes' indices exist. \n",
      "\n",
      "dataset_hash = fff0a228e18447c3a0d34921dc999fdc\n",
      "cache path exists\n",
      "\n",
      "we will exclude the 'other' class. dvsgestrue 10 classes' indices exist. \n",
      "\n",
      "dataset_hash = 7a3b0d3c31c6cf4a0122822ffd404803\n",
      "cache path exists\n",
      "\n",
      "we will exclude the 'other' class. dvsgestrue 10 classes' indices exist. \n",
      "\n",
      "dataset_hash = c1dc276c1f4bd401dbaf1855ebbd510d\n",
      "cache path exists\n",
      "\n",
      "we will exclude the 'other' class. dvsgestrue 10 classes' indices exist. \n",
      "\n",
      "DataParallel(\n",
      "  (module): MY_SNN_FC_sstep(\n",
      "    (layers): MY_Sequential(\n",
      "      (0): MaxPool2d(kernel_size=2, stride=2, padding=0, dilation=1, ceil_mode=False)\n",
      "      (1): MaxPool2d(kernel_size=2, stride=2, padding=0, dilation=1, ceil_mode=False)\n",
      "      (2): DimChanger_for_FC_sstep()\n",
      "      (3): SYNAPSE_FC_trace_sstep()\n",
      "      (4): LIF_layer_trace_sstep()\n",
      "      (5): Feedback_Receiver()\n",
      "      (6): SYNAPSE_FC_trace_sstep()\n",
      "      (7): LIF_layer_trace_sstep()\n",
      "      (8): Feedback_Receiver()\n",
      "      (9): SYNAPSE_FC_trace_sstep()\n",
      "      (DFA_top): Top_Gradient()\n",
      "    )\n",
      "  )\n",
      ")\n",
      "==================================================\n",
      "My Num of PARAMS: 452,010, system's param_num : 452,010\n",
      "Memory: 1.72MiB at 32-bit\n",
      "==================================================\n"
     ]
    },
    {
     "name": "stderr",
     "output_type": "stream",
     "text": [
      "epoch-0   lr=['0.0050000'], tr/val_loss:  2.066036/  1.679999, tr:  20.74%, val:  42.92%, val_best:  42.92%: 100%|██████████| 62/62 [00:30<00:00,  2.01it/s]"
     ]
    },
    {
     "name": "stdout",
     "output_type": "stream",
     "text": [
      "5,000:42.92% | 5,000:42.92% | 10,000:40.00% | 25,000:36.67% | 50,000:34.58% | 75,000:36.67% | 100,000:36.25%\n"
     ]
    },
    {
     "name": "stderr",
     "output_type": "stream",
     "text": [
      "\n",
      "epoch-1   lr=['0.0050000'], tr/val_loss:  1.457589/  1.620977, tr:  45.35%, val:  41.25%, val_best:  42.92%: 100%|██████████| 62/62 [00:10<00:00,  5.83it/s]"
     ]
    },
    {
     "name": "stdout",
     "output_type": "stream",
     "text": [
      "5,000:41.25% | 5,000:41.25% | 10,000:34.58% | 25,000:27.08% | 50,000:22.92% | 75,000:20.00% | 100,000:20.00%\n"
     ]
    },
    {
     "name": "stderr",
     "output_type": "stream",
     "text": [
      "\n",
      "epoch-2   lr=['0.0050000'], tr/val_loss:  1.156471/  1.283231, tr:  60.37%, val:  59.58%, val_best:  59.58%: 100%|██████████| 62/62 [00:10<00:00,  6.02it/s]"
     ]
    },
    {
     "name": "stdout",
     "output_type": "stream",
     "text": [
      "5,000:59.58% | 5,000:59.58% | 10,000:56.25% | 25,000:50.42% | 50,000:44.58% | 75,000:40.42% | 100,000:37.08%\n"
     ]
    },
    {
     "name": "stderr",
     "output_type": "stream",
     "text": [
      "\n",
      "epoch-3   lr=['0.0050000'], tr/val_loss:  0.948519/  1.549149, tr:  68.64%, val:  54.58%, val_best:  59.58%: 100%|██████████| 62/62 [00:10<00:00,  5.86it/s]"
     ]
    },
    {
     "name": "stdout",
     "output_type": "stream",
     "text": [
      "5,000:54.58% | 5,000:54.58% | 10,000:51.25% | 25,000:49.17% | 50,000:46.25% | 75,000:40.42% | 100,000:37.50%\n"
     ]
    },
    {
     "name": "stderr",
     "output_type": "stream",
     "text": [
      "\n",
      "epoch-4   lr=['0.0050000'], tr/val_loss:  0.778500/  1.385166, tr:  77.83%, val:  61.25%, val_best:  61.25%: 100%|██████████| 62/62 [00:10<00:00,  6.00it/s]"
     ]
    },
    {
     "name": "stdout",
     "output_type": "stream",
     "text": [
      "5,000:61.25% | 5,000:61.25% | 10,000:57.50% | 25,000:51.25% | 50,000:42.92% | 75,000:40.42% | 100,000:39.58%\n"
     ]
    },
    {
     "name": "stderr",
     "output_type": "stream",
     "text": [
      "\n",
      "epoch-5   lr=['0.0050000'], tr/val_loss:  0.603442/  1.634281, tr:  86.21%, val:  55.00%, val_best:  61.25%: 100%|██████████| 62/62 [00:10<00:00,  6.01it/s]"
     ]
    },
    {
     "name": "stdout",
     "output_type": "stream",
     "text": [
      "5,000:55.00% | 5,000:55.00% | 10,000:51.67% | 25,000:42.92% | 50,000:37.50% | 75,000:35.83% | 100,000:33.33%\n"
     ]
    },
    {
     "name": "stderr",
     "output_type": "stream",
     "text": [
      "\n",
      "epoch-6   lr=['0.0050000'], tr/val_loss:  0.462849/  1.724041, tr:  89.89%, val:  55.00%, val_best:  61.25%: 100%|██████████| 62/62 [00:10<00:00,  6.06it/s]"
     ]
    },
    {
     "name": "stdout",
     "output_type": "stream",
     "text": [
      "5,000:55.00% | 5,000:55.00% | 10,000:54.17% | 25,000:45.42% | 50,000:39.58% | 75,000:35.42% | 100,000:33.33%\n"
     ]
    },
    {
     "name": "stderr",
     "output_type": "stream",
     "text": [
      "\n",
      "epoch-7   lr=['0.0050000'], tr/val_loss:  0.334780/  1.848098, tr:  94.99%, val:  57.50%, val_best:  61.25%: 100%|██████████| 62/62 [00:10<00:00,  5.85it/s]"
     ]
    },
    {
     "name": "stdout",
     "output_type": "stream",
     "text": [
      "5,000:57.50% | 5,000:57.50% | 10,000:59.17% | 25,000:51.25% | 50,000:46.67% | 75,000:45.42% | 100,000:40.42%\n"
     ]
    },
    {
     "name": "stderr",
     "output_type": "stream",
     "text": [
      "\n",
      "epoch-8   lr=['0.0050000'], tr/val_loss:  0.229440/  1.957009, tr:  98.06%, val:  58.75%, val_best:  61.25%: 100%|██████████| 62/62 [00:12<00:00,  5.07it/s]"
     ]
    },
    {
     "name": "stdout",
     "output_type": "stream",
     "text": [
      "5,000:58.75% | 5,000:58.75% | 10,000:59.17% | 25,000:54.58% | 50,000:52.08% | 75,000:48.33% | 100,000:42.92%\n"
     ]
    },
    {
     "name": "stderr",
     "output_type": "stream",
     "text": [
      "\n",
      "epoch-9   lr=['0.0050000'], tr/val_loss:  0.168311/  2.096264, tr:  99.39%, val:  60.00%, val_best:  61.25%: 100%|██████████| 62/62 [00:13<00:00,  4.54it/s]"
     ]
    },
    {
     "name": "stdout",
     "output_type": "stream",
     "text": [
      "5,000:60.00% | 5,000:60.00% | 10,000:56.25% | 25,000:52.92% | 50,000:48.33% | 75,000:43.33% | 100,000:40.83%\n"
     ]
    },
    {
     "name": "stderr",
     "output_type": "stream",
     "text": [
      "\n",
      "epoch-10  lr=['0.0050000'], tr/val_loss:  0.114104/  2.156714, tr:  99.80%, val:  57.92%, val_best:  61.25%: 100%|██████████| 62/62 [00:12<00:00,  4.98it/s]"
     ]
    },
    {
     "name": "stdout",
     "output_type": "stream",
     "text": [
      "5,000:57.92% | 5,000:57.92% | 10,000:60.00% | 25,000:54.58% | 50,000:46.67% | 75,000:42.08% | 100,000:42.08%\n"
     ]
    },
    {
     "name": "stderr",
     "output_type": "stream",
     "text": [
      "\n",
      "epoch-11  lr=['0.0050000'], tr/val_loss:  0.083182/  2.245266, tr:  99.90%, val:  60.00%, val_best:  61.25%: 100%|██████████| 62/62 [00:18<00:00,  3.28it/s]"
     ]
    },
    {
     "name": "stdout",
     "output_type": "stream",
     "text": [
      "5,000:60.00% | 5,000:60.00% | 10,000:59.17% | 25,000:54.17% | 50,000:48.33% | 75,000:46.25% | 100,000:42.92%\n"
     ]
    },
    {
     "name": "stderr",
     "output_type": "stream",
     "text": [
      "\n",
      "epoch-12  lr=['0.0050000'], tr/val_loss:  0.064409/  2.322124, tr:  99.90%, val:  60.42%, val_best:  61.25%: 100%|██████████| 62/62 [00:35<00:00,  1.74it/s]"
     ]
    },
    {
     "name": "stdout",
     "output_type": "stream",
     "text": [
      "5,000:60.42% | 5,000:60.42% | 10,000:60.42% | 25,000:55.42% | 50,000:49.58% | 75,000:47.92% | 100,000:43.33%\n"
     ]
    },
    {
     "name": "stderr",
     "output_type": "stream",
     "text": [
      "\n",
      "epoch-13  lr=['0.0050000'], tr/val_loss:  0.053344/  2.437114, tr:  99.90%, val:  59.58%, val_best:  61.25%: 100%|██████████| 62/62 [00:53<00:00,  1.15it/s]"
     ]
    },
    {
     "name": "stdout",
     "output_type": "stream",
     "text": [
      "5,000:59.58% | 5,000:59.58% | 10,000:59.58% | 25,000:52.92% | 50,000:50.83% | 75,000:47.92% | 100,000:43.75%\n"
     ]
    },
    {
     "name": "stderr",
     "output_type": "stream",
     "text": [
      "\n",
      "epoch-14  lr=['0.0050000'], tr/val_loss:  0.040314/  2.430722, tr:  99.90%, val:  60.83%, val_best:  61.25%: 100%|██████████| 62/62 [01:00<00:00,  1.02it/s]"
     ]
    },
    {
     "name": "stdout",
     "output_type": "stream",
     "text": [
      "5,000:60.83% | 5,000:60.83% | 10,000:58.33% | 25,000:52.08% | 50,000:48.33% | 75,000:45.42% | 100,000:43.33%\n"
     ]
    },
    {
     "name": "stderr",
     "output_type": "stream",
     "text": [
      "\n",
      "epoch-15  lr=['0.0050000'], tr/val_loss:  0.035402/  2.532351, tr:  99.90%, val:  60.00%, val_best:  61.25%: 100%|██████████| 62/62 [01:00<00:00,  1.03it/s]"
     ]
    },
    {
     "name": "stdout",
     "output_type": "stream",
     "text": [
      "5,000:60.00% | 5,000:60.00% | 10,000:58.75% | 25,000:54.17% | 50,000:48.33% | 75,000:44.17% | 100,000:43.75%\n"
     ]
    },
    {
     "name": "stderr",
     "output_type": "stream",
     "text": [
      "\n",
      "epoch-16  lr=['0.0050000'], tr/val_loss:  0.029030/  2.580115, tr:  99.90%, val:  62.08%, val_best:  62.08%: 100%|██████████| 62/62 [01:02<00:00,  1.01s/it]"
     ]
    },
    {
     "name": "stdout",
     "output_type": "stream",
     "text": [
      "5,000:62.08% | 5,000:62.08% | 10,000:59.17% | 25,000:53.75% | 50,000:47.50% | 75,000:44.58% | 100,000:43.75%\n"
     ]
    },
    {
     "name": "stderr",
     "output_type": "stream",
     "text": [
      "\n",
      "epoch-17  lr=['0.0050000'], tr/val_loss:  0.027695/  2.630178, tr:  99.90%, val:  60.42%, val_best:  62.08%: 100%|██████████| 62/62 [00:51<00:00,  1.20it/s]"
     ]
    },
    {
     "name": "stdout",
     "output_type": "stream",
     "text": [
      "5,000:60.42% | 5,000:60.42% | 10,000:58.75% | 25,000:55.83% | 50,000:50.00% | 75,000:47.08% | 100,000:43.33%\n"
     ]
    },
    {
     "name": "stderr",
     "output_type": "stream",
     "text": [
      "\n",
      "epoch-18  lr=['0.0050000'], tr/val_loss:  0.022399/  2.663553, tr: 100.00%, val:  60.42%, val_best:  62.08%: 100%|██████████| 62/62 [00:51<00:00,  1.20it/s]"
     ]
    },
    {
     "name": "stdout",
     "output_type": "stream",
     "text": [
      "5,000:60.42% | 5,000:60.42% | 10,000:60.42% | 25,000:54.58% | 50,000:48.33% | 75,000:45.00% | 100,000:40.83%\n"
     ]
    },
    {
     "name": "stderr",
     "output_type": "stream",
     "text": [
      "\n",
      "epoch-19  lr=['0.0050000'], tr/val_loss:  0.021628/  2.670065, tr:  99.90%, val:  60.00%, val_best:  62.08%: 100%|██████████| 62/62 [01:03<00:00,  1.02s/it]"
     ]
    },
    {
     "name": "stdout",
     "output_type": "stream",
     "text": [
      "5,000:60.00% | 5,000:60.00% | 10,000:59.17% | 25,000:54.17% | 50,000:50.42% | 75,000:44.58% | 100,000:40.83%\n"
     ]
    },
    {
     "name": "stderr",
     "output_type": "stream",
     "text": [
      "\n",
      "epoch-20  lr=['0.0050000'], tr/val_loss:  0.018395/  2.747245, tr:  99.90%, val:  62.50%, val_best:  62.50%: 100%|██████████| 62/62 [01:01<00:00,  1.01it/s]"
     ]
    },
    {
     "name": "stdout",
     "output_type": "stream",
     "text": [
      "5,000:62.50% | 5,000:62.50% | 10,000:59.17% | 25,000:55.42% | 50,000:50.83% | 75,000:46.67% | 100,000:44.17%\n"
     ]
    },
    {
     "name": "stderr",
     "output_type": "stream",
     "text": [
      "\n",
      "epoch-21  lr=['0.0050000'], tr/val_loss:  0.017433/  2.756324, tr:  99.90%, val:  61.67%, val_best:  62.50%: 100%|██████████| 62/62 [00:55<00:00,  1.11it/s]"
     ]
    },
    {
     "name": "stdout",
     "output_type": "stream",
     "text": [
      "5,000:61.67% | 5,000:61.67% | 10,000:59.58% | 25,000:53.33% | 50,000:50.00% | 75,000:46.25% | 100,000:43.75%\n"
     ]
    },
    {
     "name": "stderr",
     "output_type": "stream",
     "text": [
      "\n",
      "epoch-22  lr=['0.0050000'], tr/val_loss:  0.015684/  2.777768, tr:  99.90%, val:  60.42%, val_best:  62.50%:  98%|█████████▊| 61/62 [00:57<00:00,  5.09it/s]"
     ]
    },
    {
     "name": "stdout",
     "output_type": "stream",
     "text": [
      "5,000:60.42% | 5,000:60.42% | 10,000:58.33% | 25,000:53.75% | 50,000:49.17% | 75,000:43.33% | 100,000:42.92%\n"
     ]
    },
    {
     "name": "stderr",
     "output_type": "stream",
     "text": [
      "epoch-22  lr=['0.0050000'], tr/val_loss:  0.015684/  2.777768, tr:  99.90%, val:  60.42%, val_best:  62.50%: 100%|██████████| 62/62 [00:58<00:00,  1.06it/s]\n",
      "epoch-23  lr=['0.0050000'], tr/val_loss:  0.013813/  2.813873, tr: 100.00%, val:  60.42%, val_best:  62.50%: 100%|██████████| 62/62 [00:56<00:00,  1.10it/s]"
     ]
    },
    {
     "name": "stdout",
     "output_type": "stream",
     "text": [
      "5,000:60.42% | 5,000:60.42% | 10,000:60.00% | 25,000:52.92% | 50,000:47.92% | 75,000:44.17% | 100,000:42.92%\n"
     ]
    },
    {
     "name": "stderr",
     "output_type": "stream",
     "text": [
      "\n",
      "epoch-24  lr=['0.0050000'], tr/val_loss:  0.012910/  2.849965, tr: 100.00%, val:  60.42%, val_best:  62.50%: 100%|██████████| 62/62 [00:57<00:00,  1.07it/s]"
     ]
    },
    {
     "name": "stdout",
     "output_type": "stream",
     "text": [
      "5,000:60.42% | 5,000:60.42% | 10,000:59.58% | 25,000:52.50% | 50,000:47.50% | 75,000:46.25% | 100,000:42.50%\n"
     ]
    },
    {
     "name": "stderr",
     "output_type": "stream",
     "text": [
      "\n",
      "epoch-25  lr=['0.0050000'], tr/val_loss:  0.011654/  2.896277, tr: 100.00%, val:  60.00%, val_best:  62.50%: 100%|██████████| 62/62 [00:53<00:00,  1.16it/s]"
     ]
    },
    {
     "name": "stdout",
     "output_type": "stream",
     "text": [
      "5,000:60.00% | 5,000:60.00% | 10,000:59.58% | 25,000:52.92% | 50,000:49.58% | 75,000:43.75% | 100,000:42.50%\n"
     ]
    },
    {
     "name": "stderr",
     "output_type": "stream",
     "text": [
      "\n",
      "epoch-26  lr=['0.0050000'], tr/val_loss:  0.011387/  2.860926, tr: 100.00%, val:  59.58%, val_best:  62.50%: 100%|██████████| 62/62 [00:52<00:00,  1.19it/s]"
     ]
    },
    {
     "name": "stdout",
     "output_type": "stream",
     "text": [
      "5,000:59.58% | 5,000:59.58% | 10,000:60.00% | 25,000:52.92% | 50,000:48.33% | 75,000:45.00% | 100,000:42.92%\n"
     ]
    },
    {
     "name": "stderr",
     "output_type": "stream",
     "text": [
      "\n",
      "epoch-27  lr=['0.0050000'], tr/val_loss:  0.009783/  2.912643, tr:  99.90%, val:  60.83%, val_best:  62.50%:  97%|█████████▋| 60/62 [00:55<00:00,  2.65it/s]"
     ]
    },
    {
     "name": "stdout",
     "output_type": "stream",
     "text": [
      "5,000:60.83% | 5,000:60.83% | 10,000:60.42% | 25,000:54.17% | 50,000:50.00% | 75,000:45.83% | 100,000:43.75%\n"
     ]
    },
    {
     "name": "stderr",
     "output_type": "stream",
     "text": [
      "epoch-27  lr=['0.0050000'], tr/val_loss:  0.009783/  2.912643, tr:  99.90%, val:  60.83%, val_best:  62.50%: 100%|██████████| 62/62 [00:56<00:00,  1.11it/s]\n",
      "epoch-28  lr=['0.0050000'], tr/val_loss:  0.009576/  2.907191, tr: 100.00%, val:  60.42%, val_best:  62.50%: 100%|██████████| 62/62 [00:59<00:00,  1.03it/s]"
     ]
    },
    {
     "name": "stdout",
     "output_type": "stream",
     "text": [
      "5,000:60.42% | 5,000:60.42% | 10,000:59.58% | 25,000:52.50% | 50,000:50.42% | 75,000:45.00% | 100,000:44.17%\n"
     ]
    },
    {
     "name": "stderr",
     "output_type": "stream",
     "text": [
      "\n",
      "epoch-29  lr=['0.0050000'], tr/val_loss:  0.008742/  2.913867, tr: 100.00%, val:  60.00%, val_best:  62.50%: 100%|██████████| 62/62 [00:51<00:00,  1.20it/s]"
     ]
    },
    {
     "name": "stdout",
     "output_type": "stream",
     "text": [
      "5,000:60.00% | 5,000:60.00% | 10,000:60.00% | 25,000:52.92% | 50,000:48.75% | 75,000:45.00% | 100,000:44.58%\n"
     ]
    },
    {
     "name": "stderr",
     "output_type": "stream",
     "text": [
      "\n",
      "epoch-30  lr=['0.0050000'], tr/val_loss:  0.009019/  2.938818, tr: 100.00%, val:  58.33%, val_best:  62.50%: 100%|██████████| 62/62 [00:53<00:00,  1.15it/s]"
     ]
    },
    {
     "name": "stdout",
     "output_type": "stream",
     "text": [
      "5,000:58.33% | 5,000:58.33% | 10,000:60.00% | 25,000:52.92% | 50,000:48.75% | 75,000:45.00% | 100,000:44.58%\n"
     ]
    },
    {
     "name": "stderr",
     "output_type": "stream",
     "text": [
      "\n",
      "epoch-31  lr=['0.0050000'], tr/val_loss:  0.007704/  2.939853, tr: 100.00%, val:  58.75%, val_best:  62.50%: 100%|██████████| 62/62 [00:57<00:00,  1.08it/s]"
     ]
    },
    {
     "name": "stdout",
     "output_type": "stream",
     "text": [
      "5,000:58.75% | 5,000:58.75% | 10,000:58.75% | 25,000:54.17% | 50,000:48.75% | 75,000:46.25% | 100,000:43.75%\n"
     ]
    },
    {
     "name": "stderr",
     "output_type": "stream",
     "text": [
      "\n",
      "epoch-32  lr=['0.0050000'], tr/val_loss:  0.008333/  2.978520, tr: 100.00%, val:  60.42%, val_best:  62.50%: 100%|██████████| 62/62 [00:53<00:00,  1.15it/s]"
     ]
    },
    {
     "name": "stdout",
     "output_type": "stream",
     "text": [
      "5,000:60.42% | 5,000:60.42% | 10,000:60.42% | 25,000:52.08% | 50,000:48.33% | 75,000:44.17% | 100,000:42.92%\n"
     ]
    },
    {
     "name": "stderr",
     "output_type": "stream",
     "text": [
      "\n",
      "epoch-33  lr=['0.0050000'], tr/val_loss:  0.008221/  2.966965, tr: 100.00%, val:  59.17%, val_best:  62.50%: 100%|██████████| 62/62 [00:56<00:00,  1.10it/s]"
     ]
    },
    {
     "name": "stdout",
     "output_type": "stream",
     "text": [
      "5,000:59.17% | 5,000:59.17% | 10,000:60.42% | 25,000:52.92% | 50,000:49.58% | 75,000:43.33% | 100,000:44.58%\n"
     ]
    },
    {
     "name": "stderr",
     "output_type": "stream",
     "text": [
      "\n",
      "epoch-34  lr=['0.0050000'], tr/val_loss:  0.007244/  2.986199, tr: 100.00%, val:  58.33%, val_best:  62.50%: 100%|██████████| 62/62 [00:55<00:00,  1.11it/s]"
     ]
    },
    {
     "name": "stdout",
     "output_type": "stream",
     "text": [
      "5,000:58.33% | 5,000:58.33% | 10,000:60.83% | 25,000:53.33% | 50,000:49.17% | 75,000:44.58% | 100,000:42.08%\n"
     ]
    },
    {
     "name": "stderr",
     "output_type": "stream",
     "text": [
      "\n",
      "epoch-35  lr=['0.0050000'], tr/val_loss:  0.007637/  3.009285, tr: 100.00%, val:  60.00%, val_best:  62.50%: 100%|██████████| 62/62 [00:54<00:00,  1.14it/s]"
     ]
    },
    {
     "name": "stdout",
     "output_type": "stream",
     "text": [
      "5,000:60.00% | 5,000:60.00% | 10,000:59.58% | 25,000:53.75% | 50,000:48.75% | 75,000:44.17% | 100,000:42.50%\n"
     ]
    },
    {
     "name": "stderr",
     "output_type": "stream",
     "text": [
      "\n",
      "epoch-36  lr=['0.0050000'], tr/val_loss:  0.007053/  3.031529, tr: 100.00%, val:  58.75%, val_best:  62.50%: 100%|██████████| 62/62 [00:57<00:00,  1.09it/s]"
     ]
    },
    {
     "name": "stdout",
     "output_type": "stream",
     "text": [
      "5,000:58.75% | 5,000:58.75% | 10,000:60.00% | 25,000:54.17% | 50,000:50.00% | 75,000:44.58% | 100,000:44.58%\n"
     ]
    },
    {
     "name": "stderr",
     "output_type": "stream",
     "text": [
      "\n",
      "epoch-37  lr=['0.0050000'], tr/val_loss:  0.007167/  3.019692, tr: 100.00%, val:  58.33%, val_best:  62.50%: 100%|██████████| 62/62 [00:54<00:00,  1.14it/s]"
     ]
    },
    {
     "name": "stdout",
     "output_type": "stream",
     "text": [
      "5,000:58.33% | 5,000:58.33% | 10,000:60.00% | 25,000:52.92% | 50,000:49.17% | 75,000:43.75% | 100,000:44.58%\n"
     ]
    },
    {
     "name": "stderr",
     "output_type": "stream",
     "text": [
      "\n",
      "epoch-38  lr=['0.0050000'], tr/val_loss:  0.005720/  3.034615, tr: 100.00%, val:  59.58%, val_best:  62.50%: 100%|██████████| 62/62 [00:46<00:00,  1.32it/s]"
     ]
    },
    {
     "name": "stdout",
     "output_type": "stream",
     "text": [
      "5,000:59.58% | 5,000:59.58% | 10,000:60.42% | 25,000:53.33% | 50,000:49.17% | 75,000:43.75% | 100,000:44.17%\n"
     ]
    },
    {
     "name": "stderr",
     "output_type": "stream",
     "text": [
      "\n",
      "epoch-39  lr=['0.0050000'], tr/val_loss:  0.005486/  3.052997, tr: 100.00%, val:  60.00%, val_best:  62.50%: 100%|██████████| 62/62 [00:53<00:00,  1.15it/s]"
     ]
    },
    {
     "name": "stdout",
     "output_type": "stream",
     "text": [
      "5,000:60.00% | 5,000:60.00% | 10,000:62.08% | 25,000:53.75% | 50,000:50.42% | 75,000:44.58% | 100,000:43.75%\n"
     ]
    },
    {
     "name": "stderr",
     "output_type": "stream",
     "text": [
      "\n",
      "epoch-40  lr=['0.0050000'], tr/val_loss:  0.005657/  3.069560, tr: 100.00%, val:  59.17%, val_best:  62.50%: 100%|██████████| 62/62 [00:56<00:00,  1.10it/s]"
     ]
    },
    {
     "name": "stdout",
     "output_type": "stream",
     "text": [
      "5,000:59.17% | 5,000:59.17% | 10,000:62.08% | 25,000:52.92% | 50,000:49.17% | 75,000:43.75% | 100,000:43.33%\n"
     ]
    },
    {
     "name": "stderr",
     "output_type": "stream",
     "text": [
      "\n",
      "epoch-41  lr=['0.0050000'], tr/val_loss:  0.005097/  3.067531, tr: 100.00%, val:  58.33%, val_best:  62.50%: 100%|██████████| 62/62 [00:53<00:00,  1.15it/s]"
     ]
    },
    {
     "name": "stdout",
     "output_type": "stream",
     "text": [
      "5,000:58.33% | 5,000:58.33% | 10,000:60.83% | 25,000:52.08% | 50,000:48.75% | 75,000:43.33% | 100,000:43.33%\n"
     ]
    },
    {
     "name": "stderr",
     "output_type": "stream",
     "text": [
      "\n",
      "epoch-42  lr=['0.0050000'], tr/val_loss:  0.004786/  3.078245, tr: 100.00%, val:  58.75%, val_best:  62.50%: 100%|██████████| 62/62 [00:50<00:00,  1.24it/s]"
     ]
    },
    {
     "name": "stdout",
     "output_type": "stream",
     "text": [
      "5,000:58.75% | 5,000:58.75% | 10,000:60.83% | 25,000:52.50% | 50,000:49.58% | 75,000:42.92% | 100,000:43.75%\n"
     ]
    },
    {
     "name": "stderr",
     "output_type": "stream",
     "text": [
      "\n",
      "epoch-43  lr=['0.0050000'], tr/val_loss:  0.004817/  3.082888, tr: 100.00%, val:  58.33%, val_best:  62.50%: 100%|██████████| 62/62 [00:53<00:00,  1.16it/s]"
     ]
    },
    {
     "name": "stdout",
     "output_type": "stream",
     "text": [
      "5,000:58.33% | 5,000:58.33% | 10,000:60.83% | 25,000:52.92% | 50,000:50.00% | 75,000:44.17% | 100,000:44.17%\n"
     ]
    },
    {
     "name": "stderr",
     "output_type": "stream",
     "text": [
      "\n",
      "epoch-44  lr=['0.0050000'], tr/val_loss:  0.004411/  3.102796, tr: 100.00%, val:  60.42%, val_best:  62.50%: 100%|██████████| 62/62 [00:58<00:00,  1.07it/s]"
     ]
    },
    {
     "name": "stdout",
     "output_type": "stream",
     "text": [
      "5,000:60.42% | 5,000:60.42% | 10,000:60.83% | 25,000:52.92% | 50,000:49.17% | 75,000:43.33% | 100,000:44.17%\n"
     ]
    },
    {
     "name": "stderr",
     "output_type": "stream",
     "text": [
      "\n",
      "epoch-45  lr=['0.0050000'], tr/val_loss:  0.004604/  3.102339, tr: 100.00%, val:  58.75%, val_best:  62.50%: 100%|██████████| 62/62 [00:49<00:00,  1.24it/s]"
     ]
    },
    {
     "name": "stdout",
     "output_type": "stream",
     "text": [
      "5,000:58.75% | 5,000:58.75% | 10,000:61.25% | 25,000:52.08% | 50,000:49.17% | 75,000:43.75% | 100,000:42.92%\n"
     ]
    },
    {
     "name": "stderr",
     "output_type": "stream",
     "text": [
      "\n",
      "epoch-46  lr=['0.0050000'], tr/val_loss:  0.004772/  3.138582, tr: 100.00%, val:  58.75%, val_best:  62.50%: 100%|██████████| 62/62 [00:48<00:00,  1.27it/s]"
     ]
    },
    {
     "name": "stdout",
     "output_type": "stream",
     "text": [
      "5,000:58.75% | 5,000:58.75% | 10,000:60.42% | 25,000:51.67% | 50,000:49.17% | 75,000:43.33% | 100,000:43.33%\n"
     ]
    },
    {
     "name": "stderr",
     "output_type": "stream",
     "text": [
      "\n",
      "epoch-47  lr=['0.0050000'], tr/val_loss:  0.004462/  3.117099, tr: 100.00%, val:  59.17%, val_best:  62.50%: 100%|██████████| 62/62 [00:47<00:00,  1.31it/s]"
     ]
    },
    {
     "name": "stdout",
     "output_type": "stream",
     "text": [
      "5,000:59.17% | 5,000:59.17% | 10,000:61.25% | 25,000:52.08% | 50,000:48.75% | 75,000:42.92% | 100,000:42.08%\n"
     ]
    },
    {
     "name": "stderr",
     "output_type": "stream",
     "text": [
      "\n",
      "epoch-48  lr=['0.0050000'], tr/val_loss:  0.003962/  3.131863, tr: 100.00%, val:  59.17%, val_best:  62.50%: 100%|██████████| 62/62 [01:01<00:00,  1.02it/s]"
     ]
    },
    {
     "name": "stdout",
     "output_type": "stream",
     "text": [
      "5,000:59.17% | 5,000:59.17% | 10,000:60.83% | 25,000:52.08% | 50,000:49.58% | 75,000:43.33% | 100,000:42.92%\n"
     ]
    },
    {
     "name": "stderr",
     "output_type": "stream",
     "text": [
      "\n",
      "epoch-49  lr=['0.0050000'], tr/val_loss:  0.003645/  3.154881, tr: 100.00%, val:  59.58%, val_best:  62.50%: 100%|██████████| 62/62 [00:50<00:00,  1.23it/s]"
     ]
    },
    {
     "name": "stdout",
     "output_type": "stream",
     "text": [
      "5,000:59.58% | 5,000:59.58% | 10,000:60.42% | 25,000:52.50% | 50,000:48.75% | 75,000:43.33% | 100,000:43.75%\n"
     ]
    },
    {
     "name": "stderr",
     "output_type": "stream",
     "text": [
      "\n",
      "epoch-50  lr=['0.0050000'], tr/val_loss:  0.003598/  3.163515, tr: 100.00%, val:  59.58%, val_best:  62.50%: 100%|██████████| 62/62 [00:46<00:00,  1.32it/s]"
     ]
    },
    {
     "name": "stdout",
     "output_type": "stream",
     "text": [
      "5,000:59.58% | 5,000:59.58% | 10,000:60.83% | 25,000:52.50% | 50,000:48.75% | 75,000:43.33% | 100,000:42.92%\n"
     ]
    },
    {
     "name": "stderr",
     "output_type": "stream",
     "text": [
      "\n",
      "epoch-51  lr=['0.0050000'], tr/val_loss:  0.003593/  3.169835, tr: 100.00%, val:  59.58%, val_best:  62.50%: 100%|██████████| 62/62 [00:48<00:00,  1.27it/s]"
     ]
    },
    {
     "name": "stdout",
     "output_type": "stream",
     "text": [
      "5,000:59.58% | 5,000:59.58% | 10,000:61.67% | 25,000:52.50% | 50,000:48.75% | 75,000:44.58% | 100,000:43.33%\n"
     ]
    },
    {
     "name": "stderr",
     "output_type": "stream",
     "text": [
      "\n",
      "epoch-52  lr=['0.0050000'], tr/val_loss:  0.003309/  3.163171, tr: 100.00%, val:  60.00%, val_best:  62.50%: 100%|██████████| 62/62 [00:53<00:00,  1.17it/s]"
     ]
    },
    {
     "name": "stdout",
     "output_type": "stream",
     "text": [
      "5,000:60.00% | 5,000:60.00% | 10,000:60.83% | 25,000:52.50% | 50,000:49.58% | 75,000:43.75% | 100,000:43.33%\n"
     ]
    },
    {
     "name": "stderr",
     "output_type": "stream",
     "text": [
      "\n",
      "epoch-53  lr=['0.0050000'], tr/val_loss:  0.003243/  3.180140, tr: 100.00%, val:  59.17%, val_best:  62.50%: 100%|██████████| 62/62 [00:54<00:00,  1.13it/s]"
     ]
    },
    {
     "name": "stdout",
     "output_type": "stream",
     "text": [
      "5,000:59.17% | 5,000:59.17% | 10,000:61.25% | 25,000:52.92% | 50,000:48.33% | 75,000:42.08% | 100,000:43.75%\n"
     ]
    },
    {
     "name": "stderr",
     "output_type": "stream",
     "text": [
      "\n",
      "epoch-54  lr=['0.0050000'], tr/val_loss:  0.003284/  3.196915, tr: 100.00%, val:  58.75%, val_best:  62.50%: 100%|██████████| 62/62 [00:57<00:00,  1.07it/s]"
     ]
    },
    {
     "name": "stdout",
     "output_type": "stream",
     "text": [
      "5,000:58.75% | 5,000:58.75% | 10,000:61.25% | 25,000:53.75% | 50,000:48.33% | 75,000:42.92% | 100,000:43.33%\n"
     ]
    },
    {
     "name": "stderr",
     "output_type": "stream",
     "text": [
      "\n",
      "epoch-55  lr=['0.0050000'], tr/val_loss:  0.003269/  3.218157, tr: 100.00%, val:  58.33%, val_best:  62.50%: 100%|██████████| 62/62 [00:57<00:00,  1.07it/s]"
     ]
    },
    {
     "name": "stdout",
     "output_type": "stream",
     "text": [
      "5,000:58.33% | 5,000:58.33% | 10,000:61.25% | 25,000:53.33% | 50,000:50.00% | 75,000:42.92% | 100,000:42.08%\n"
     ]
    },
    {
     "name": "stderr",
     "output_type": "stream",
     "text": [
      "\n",
      "epoch-56  lr=['0.0050000'], tr/val_loss:  0.003276/  3.232527, tr: 100.00%, val:  57.92%, val_best:  62.50%: 100%|██████████| 62/62 [01:00<00:00,  1.03it/s]"
     ]
    },
    {
     "name": "stdout",
     "output_type": "stream",
     "text": [
      "5,000:57.92% | 5,000:57.92% | 10,000:61.25% | 25,000:52.92% | 50,000:48.33% | 75,000:43.75% | 100,000:43.33%\n"
     ]
    },
    {
     "name": "stderr",
     "output_type": "stream",
     "text": [
      "\n",
      "epoch-57  lr=['0.0050000'], tr/val_loss:  0.002947/  3.254259, tr: 100.00%, val:  59.17%, val_best:  62.50%: 100%|██████████| 62/62 [00:47<00:00,  1.31it/s]"
     ]
    },
    {
     "name": "stdout",
     "output_type": "stream",
     "text": [
      "5,000:59.17% | 5,000:59.17% | 10,000:60.42% | 25,000:53.33% | 50,000:49.58% | 75,000:45.00% | 100,000:43.33%\n"
     ]
    },
    {
     "name": "stderr",
     "output_type": "stream",
     "text": [
      "\n",
      "epoch-58  lr=['0.0050000'], tr/val_loss:  0.002678/  3.248602, tr: 100.00%, val:  57.50%, val_best:  62.50%: 100%|██████████| 62/62 [00:50<00:00,  1.22it/s]"
     ]
    },
    {
     "name": "stdout",
     "output_type": "stream",
     "text": [
      "5,000:57.50% | 5,000:57.50% | 10,000:60.42% | 25,000:52.50% | 50,000:50.00% | 75,000:44.17% | 100,000:42.92%\n"
     ]
    },
    {
     "name": "stderr",
     "output_type": "stream",
     "text": [
      "\n",
      "epoch-59  lr=['0.0050000'], tr/val_loss:  0.002816/  3.251162, tr: 100.00%, val:  57.50%, val_best:  62.50%: 100%|██████████| 62/62 [00:59<00:00,  1.04it/s]"
     ]
    },
    {
     "name": "stdout",
     "output_type": "stream",
     "text": [
      "5,000:57.50% | 5,000:57.50% | 10,000:60.83% | 25,000:52.92% | 50,000:49.58% | 75,000:44.58% | 100,000:43.33%\n"
     ]
    },
    {
     "name": "stderr",
     "output_type": "stream",
     "text": [
      "\n",
      "epoch-60  lr=['0.0050000'], tr/val_loss:  0.002738/  3.258775, tr: 100.00%, val:  58.75%, val_best:  62.50%: 100%|██████████| 62/62 [00:58<00:00,  1.07it/s]"
     ]
    },
    {
     "name": "stdout",
     "output_type": "stream",
     "text": [
      "5,000:58.75% | 5,000:58.75% | 10,000:60.42% | 25,000:53.33% | 50,000:49.58% | 75,000:43.75% | 100,000:42.08%\n"
     ]
    },
    {
     "name": "stderr",
     "output_type": "stream",
     "text": [
      "\n",
      "epoch-61  lr=['0.0050000'], tr/val_loss:  0.002557/  3.247659, tr: 100.00%, val:  59.17%, val_best:  62.50%: 100%|██████████| 62/62 [00:50<00:00,  1.23it/s]"
     ]
    },
    {
     "name": "stdout",
     "output_type": "stream",
     "text": [
      "5,000:59.17% | 5,000:59.17% | 10,000:61.25% | 25,000:52.92% | 50,000:49.58% | 75,000:45.00% | 100,000:42.50%\n"
     ]
    },
    {
     "name": "stderr",
     "output_type": "stream",
     "text": [
      "\n",
      "epoch-62  lr=['0.0050000'], tr/val_loss:  0.002589/  3.283318, tr: 100.00%, val:  59.58%, val_best:  62.50%: 100%|██████████| 62/62 [00:50<00:00,  1.22it/s]"
     ]
    },
    {
     "name": "stdout",
     "output_type": "stream",
     "text": [
      "5,000:59.58% | 5,000:59.58% | 10,000:61.67% | 25,000:53.33% | 50,000:50.42% | 75,000:45.00% | 100,000:42.92%\n"
     ]
    },
    {
     "name": "stderr",
     "output_type": "stream",
     "text": [
      "\n",
      "epoch-63  lr=['0.0050000'], tr/val_loss:  0.002172/  3.300558, tr: 100.00%, val:  59.17%, val_best:  62.50%: 100%|██████████| 62/62 [00:57<00:00,  1.08it/s]"
     ]
    },
    {
     "name": "stdout",
     "output_type": "stream",
     "text": [
      "5,000:59.17% | 5,000:59.17% | 10,000:61.25% | 25,000:54.17% | 50,000:50.42% | 75,000:45.42% | 100,000:43.33%\n"
     ]
    },
    {
     "name": "stderr",
     "output_type": "stream",
     "text": [
      "\n",
      "epoch-64  lr=['0.0050000'], tr/val_loss:  0.002225/  3.297839, tr: 100.00%, val:  57.92%, val_best:  62.50%: 100%|██████████| 62/62 [00:50<00:00,  1.23it/s]"
     ]
    },
    {
     "name": "stdout",
     "output_type": "stream",
     "text": [
      "5,000:57.92% | 5,000:57.92% | 10,000:59.58% | 25,000:54.17% | 50,000:49.58% | 75,000:44.17% | 100,000:43.75%\n"
     ]
    },
    {
     "name": "stderr",
     "output_type": "stream",
     "text": [
      "\n",
      "epoch-65  lr=['0.0050000'], tr/val_loss:  0.002142/  3.296615, tr: 100.00%, val:  58.33%, val_best:  62.50%: 100%|██████████| 62/62 [00:52<00:00,  1.17it/s]"
     ]
    },
    {
     "name": "stdout",
     "output_type": "stream",
     "text": [
      "5,000:58.33% | 5,000:58.33% | 10,000:60.83% | 25,000:53.33% | 50,000:49.58% | 75,000:45.00% | 100,000:44.17%\n"
     ]
    },
    {
     "name": "stderr",
     "output_type": "stream",
     "text": [
      "\n",
      "epoch-66  lr=['0.0050000'], tr/val_loss:  0.001772/  3.298622, tr: 100.00%, val:  58.75%, val_best:  62.50%: 100%|██████████| 62/62 [00:53<00:00,  1.16it/s]"
     ]
    },
    {
     "name": "stdout",
     "output_type": "stream",
     "text": [
      "5,000:58.75% | 5,000:58.75% | 10,000:60.00% | 25,000:53.75% | 50,000:49.58% | 75,000:45.00% | 100,000:44.17%\n"
     ]
    },
    {
     "name": "stderr",
     "output_type": "stream",
     "text": [
      "\n",
      "epoch-67  lr=['0.0050000'], tr/val_loss:  0.001880/  3.305740, tr: 100.00%, val:  58.33%, val_best:  62.50%: 100%|██████████| 62/62 [00:44<00:00,  7.28s/it]"
     ]
    },
    {
     "name": "stdout",
     "output_type": "stream",
     "text": [
      "5,000:58.33% | 5,000:58.33% | 10,000:60.83% | 25,000:53.75% | 50,000:49.17% | 75,000:43.33% | 100,000:43.75%\n"
     ]
    },
    {
     "name": "stderr",
     "output_type": "stream",
     "text": [
      "epoch-67  lr=['0.0050000'], tr/val_loss:  0.001880/  3.305740, tr: 100.00%, val:  58.33%, val_best:  62.50%: 100%|██████████| 62/62 [00:44<00:00,  1.40it/s]\n",
      "epoch-68  lr=['0.0050000'], tr/val_loss:  0.002016/  3.298975, tr: 100.00%, val:  58.33%, val_best:  62.50%: 100%|██████████| 62/62 [00:50<00:00,  1.22it/s]"
     ]
    },
    {
     "name": "stdout",
     "output_type": "stream",
     "text": [
      "5,000:58.33% | 5,000:58.33% | 10,000:60.83% | 25,000:53.33% | 50,000:49.58% | 75,000:44.58% | 100,000:44.17%\n"
     ]
    },
    {
     "name": "stderr",
     "output_type": "stream",
     "text": [
      "\n",
      "epoch-69  lr=['0.0050000'], tr/val_loss:  0.002350/  3.306603, tr: 100.00%, val:  57.50%, val_best:  62.50%: 100%|██████████| 62/62 [00:58<00:00,  1.05it/s]"
     ]
    },
    {
     "name": "stdout",
     "output_type": "stream",
     "text": [
      "5,000:57.50% | 5,000:57.50% | 10,000:60.83% | 25,000:53.33% | 50,000:48.75% | 75,000:43.75% | 100,000:44.17%\n"
     ]
    },
    {
     "name": "stderr",
     "output_type": "stream",
     "text": [
      "\n",
      "epoch-70  lr=['0.0050000'], tr/val_loss:  0.002206/  3.307622, tr: 100.00%, val:  57.92%, val_best:  62.50%: 100%|██████████| 62/62 [00:52<00:00,  1.19it/s]"
     ]
    },
    {
     "name": "stdout",
     "output_type": "stream",
     "text": [
      "5,000:57.92% | 5,000:57.92% | 10,000:61.25% | 25,000:53.75% | 50,000:49.17% | 75,000:43.33% | 100,000:44.17%\n"
     ]
    },
    {
     "name": "stderr",
     "output_type": "stream",
     "text": [
      "\n",
      "epoch-71  lr=['0.0050000'], tr/val_loss:  0.001959/  3.315637, tr: 100.00%, val:  57.92%, val_best:  62.50%: 100%|██████████| 62/62 [00:54<00:00,  1.13it/s]"
     ]
    },
    {
     "name": "stdout",
     "output_type": "stream",
     "text": [
      "5,000:57.92% | 5,000:57.92% | 10,000:61.67% | 25,000:52.92% | 50,000:48.33% | 75,000:44.17% | 100,000:43.33%\n"
     ]
    },
    {
     "name": "stderr",
     "output_type": "stream",
     "text": [
      "\n",
      "epoch-72  lr=['0.0050000'], tr/val_loss:  0.001867/  3.329571, tr: 100.00%, val:  60.00%, val_best:  62.50%: 100%|██████████| 62/62 [00:53<00:00,  1.16it/s]"
     ]
    },
    {
     "name": "stdout",
     "output_type": "stream",
     "text": [
      "5,000:60.00% | 5,000:60.00% | 10,000:61.25% | 25,000:52.50% | 50,000:49.17% | 75,000:43.75% | 100,000:44.17%\n"
     ]
    },
    {
     "name": "stderr",
     "output_type": "stream",
     "text": [
      "\n",
      "epoch-73  lr=['0.0050000'], tr/val_loss:  0.002001/  3.332764, tr: 100.00%, val:  57.50%, val_best:  62.50%: 100%|██████████| 62/62 [00:51<00:00,  1.21it/s]"
     ]
    },
    {
     "name": "stdout",
     "output_type": "stream",
     "text": [
      "5,000:57.50% | 5,000:57.50% | 10,000:60.42% | 25,000:52.92% | 50,000:48.75% | 75,000:43.33% | 100,000:44.17%\n"
     ]
    },
    {
     "name": "stderr",
     "output_type": "stream",
     "text": [
      "\n",
      "epoch-74  lr=['0.0050000'], tr/val_loss:  0.002202/  3.324929, tr: 100.00%, val:  58.33%, val_best:  62.50%: 100%|██████████| 62/62 [00:48<00:00,  1.29it/s]"
     ]
    },
    {
     "name": "stdout",
     "output_type": "stream",
     "text": [
      "5,000:58.33% | 5,000:58.33% | 10,000:60.42% | 25,000:52.92% | 50,000:49.58% | 75,000:43.75% | 100,000:42.92%\n"
     ]
    },
    {
     "name": "stderr",
     "output_type": "stream",
     "text": [
      "\n",
      "epoch-75  lr=['0.0050000'], tr/val_loss:  0.001697/  3.334060, tr: 100.00%, val:  57.92%, val_best:  62.50%: 100%|██████████| 62/62 [00:52<00:00,  1.19it/s]"
     ]
    },
    {
     "name": "stdout",
     "output_type": "stream",
     "text": [
      "5,000:57.92% | 5,000:57.92% | 10,000:60.42% | 25,000:53.33% | 50,000:49.58% | 75,000:43.75% | 100,000:43.75%\n"
     ]
    },
    {
     "name": "stderr",
     "output_type": "stream",
     "text": [
      "\n",
      "epoch-76  lr=['0.0050000'], tr/val_loss:  0.002051/  3.333287, tr: 100.00%, val:  58.33%, val_best:  62.50%: 100%|██████████| 62/62 [00:51<00:00,  1.19it/s]"
     ]
    },
    {
     "name": "stdout",
     "output_type": "stream",
     "text": [
      "5,000:58.33% | 5,000:58.33% | 10,000:60.42% | 25,000:53.75% | 50,000:48.75% | 75,000:43.75% | 100,000:44.17%\n"
     ]
    },
    {
     "name": "stderr",
     "output_type": "stream",
     "text": [
      "\n",
      "epoch-77  lr=['0.0050000'], tr/val_loss:  0.002032/  3.353230, tr: 100.00%, val:  58.75%, val_best:  62.50%: 100%|██████████| 62/62 [00:43<00:00,  1.42it/s]"
     ]
    },
    {
     "name": "stdout",
     "output_type": "stream",
     "text": [
      "5,000:58.75% | 5,000:58.75% | 10,000:60.00% | 25,000:53.33% | 50,000:49.17% | 75,000:44.58% | 100,000:44.58%\n"
     ]
    },
    {
     "name": "stderr",
     "output_type": "stream",
     "text": [
      "\n",
      "epoch-78  lr=['0.0050000'], tr/val_loss:  0.001718/  3.351753, tr: 100.00%, val:  58.33%, val_best:  62.50%: 100%|██████████| 62/62 [00:55<00:00,  1.13it/s]"
     ]
    },
    {
     "name": "stdout",
     "output_type": "stream",
     "text": [
      "5,000:58.33% | 5,000:58.33% | 10,000:61.67% | 25,000:53.33% | 50,000:48.75% | 75,000:43.75% | 100,000:44.17%\n"
     ]
    },
    {
     "name": "stderr",
     "output_type": "stream",
     "text": [
      "\n",
      "epoch-79  lr=['0.0050000'], tr/val_loss:  0.001527/  3.363075, tr: 100.00%, val:  57.92%, val_best:  62.50%: 100%|██████████| 62/62 [00:51<00:00,  1.21it/s]"
     ]
    },
    {
     "name": "stdout",
     "output_type": "stream",
     "text": [
      "5,000:57.92% | 5,000:57.92% | 10,000:60.83% | 25,000:52.50% | 50,000:49.58% | 75,000:43.33% | 100,000:44.58%\n"
     ]
    },
    {
     "name": "stderr",
     "output_type": "stream",
     "text": [
      "\n",
      "epoch-80  lr=['0.0050000'], tr/val_loss:  0.001644/  3.355751, tr: 100.00%, val:  58.33%, val_best:  62.50%: 100%|██████████| 62/62 [00:51<00:00,  1.21it/s]"
     ]
    },
    {
     "name": "stdout",
     "output_type": "stream",
     "text": [
      "5,000:58.33% | 5,000:58.33% | 10,000:60.83% | 25,000:52.92% | 50,000:49.58% | 75,000:44.58% | 100,000:44.58%\n"
     ]
    },
    {
     "name": "stderr",
     "output_type": "stream",
     "text": [
      "\n",
      "epoch-81  lr=['0.0050000'], tr/val_loss:  0.001677/  3.364356, tr: 100.00%, val:  58.75%, val_best:  62.50%: 100%|██████████| 62/62 [01:07<00:00,  1.10s/it]"
     ]
    },
    {
     "name": "stdout",
     "output_type": "stream",
     "text": [
      "5,000:58.75% | 5,000:58.75% | 10,000:60.83% | 25,000:52.08% | 50,000:49.58% | 75,000:44.58% | 100,000:44.58%\n"
     ]
    },
    {
     "name": "stderr",
     "output_type": "stream",
     "text": [
      "\n",
      "epoch-82  lr=['0.0050000'], tr/val_loss:  0.001313/  3.368781, tr: 100.00%, val:  59.17%, val_best:  62.50%: 100%|██████████| 62/62 [01:02<00:00,  1.01s/it]"
     ]
    },
    {
     "name": "stdout",
     "output_type": "stream",
     "text": [
      "5,000:59.17% | 5,000:59.17% | 10,000:61.25% | 25,000:52.08% | 50,000:49.17% | 75,000:44.58% | 100,000:44.58%\n"
     ]
    },
    {
     "name": "stderr",
     "output_type": "stream",
     "text": [
      "\n",
      "epoch-83  lr=['0.0050000'], tr/val_loss:  0.001191/  3.377268, tr: 100.00%, val:  58.75%, val_best:  62.50%: 100%|██████████| 62/62 [00:54<00:00,  1.13it/s]"
     ]
    },
    {
     "name": "stdout",
     "output_type": "stream",
     "text": [
      "5,000:58.75% | 5,000:58.75% | 10,000:60.42% | 25,000:52.08% | 50,000:49.17% | 75,000:45.42% | 100,000:44.58%\n"
     ]
    },
    {
     "name": "stderr",
     "output_type": "stream",
     "text": [
      "\n",
      "epoch-84  lr=['0.0050000'], tr/val_loss:  0.001650/  3.380139, tr: 100.00%, val:  58.33%, val_best:  62.50%: 100%|██████████| 62/62 [00:52<00:00,  1.19it/s]"
     ]
    },
    {
     "name": "stdout",
     "output_type": "stream",
     "text": [
      "5,000:58.33% | 5,000:58.33% | 10,000:61.25% | 25,000:52.92% | 50,000:49.17% | 75,000:45.00% | 100,000:44.17%\n"
     ]
    },
    {
     "name": "stderr",
     "output_type": "stream",
     "text": [
      "\n",
      "epoch-85  lr=['0.0050000'], tr/val_loss:  0.001372/  3.388839, tr: 100.00%, val:  58.33%, val_best:  62.50%: 100%|██████████| 62/62 [00:59<00:00,  1.04it/s]"
     ]
    },
    {
     "name": "stdout",
     "output_type": "stream",
     "text": [
      "5,000:58.33% | 5,000:58.33% | 10,000:61.25% | 25,000:52.08% | 50,000:50.00% | 75,000:44.58% | 100,000:44.17%\n"
     ]
    },
    {
     "name": "stderr",
     "output_type": "stream",
     "text": [
      "\n",
      "epoch-86  lr=['0.0050000'], tr/val_loss:  0.001500/  3.385011, tr: 100.00%, val:  58.75%, val_best:  62.50%: 100%|██████████| 62/62 [00:52<00:00,  1.17it/s]"
     ]
    },
    {
     "name": "stdout",
     "output_type": "stream",
     "text": [
      "5,000:58.75% | 5,000:58.75% | 10,000:60.83% | 25,000:52.50% | 50,000:50.00% | 75,000:44.17% | 100,000:43.75%\n"
     ]
    },
    {
     "name": "stderr",
     "output_type": "stream",
     "text": [
      "\n",
      "epoch-87  lr=['0.0050000'], tr/val_loss:  0.001320/  3.396491, tr: 100.00%, val:  57.92%, val_best:  62.50%: 100%|██████████| 62/62 [00:53<00:00,  1.15it/s]"
     ]
    },
    {
     "name": "stdout",
     "output_type": "stream",
     "text": [
      "5,000:57.92% | 5,000:57.92% | 10,000:60.83% | 25,000:52.50% | 50,000:50.00% | 75,000:45.42% | 100,000:44.58%\n"
     ]
    },
    {
     "name": "stderr",
     "output_type": "stream",
     "text": [
      "\n",
      "epoch-88  lr=['0.0050000'], tr/val_loss:  0.001165/  3.399654, tr: 100.00%, val:  57.92%, val_best:  62.50%: 100%|██████████| 62/62 [00:57<00:00,  1.08it/s]"
     ]
    },
    {
     "name": "stdout",
     "output_type": "stream",
     "text": [
      "5,000:57.92% | 5,000:57.92% | 10,000:61.67% | 25,000:52.92% | 50,000:50.83% | 75,000:44.58% | 100,000:44.17%\n"
     ]
    },
    {
     "name": "stderr",
     "output_type": "stream",
     "text": [
      "\n",
      "epoch-89  lr=['0.0050000'], tr/val_loss:  0.001215/  3.406385, tr: 100.00%, val:  58.33%, val_best:  62.50%: 100%|██████████| 62/62 [00:52<00:00,  1.18it/s]"
     ]
    },
    {
     "name": "stdout",
     "output_type": "stream",
     "text": [
      "5,000:58.33% | 5,000:58.33% | 10,000:61.25% | 25,000:53.33% | 50,000:50.42% | 75,000:43.75% | 100,000:44.58%\n"
     ]
    },
    {
     "name": "stderr",
     "output_type": "stream",
     "text": [
      "\n",
      "epoch-90  lr=['0.0050000'], tr/val_loss:  0.001097/  3.418433, tr: 100.00%, val:  58.33%, val_best:  62.50%: 100%|██████████| 62/62 [00:46<00:00,  1.33it/s]"
     ]
    },
    {
     "name": "stdout",
     "output_type": "stream",
     "text": [
      "5,000:58.33% | 5,000:58.33% | 10,000:61.67% | 25,000:53.33% | 50,000:49.58% | 75,000:44.17% | 100,000:44.58%\n"
     ]
    },
    {
     "name": "stderr",
     "output_type": "stream",
     "text": [
      "\n",
      "epoch-91  lr=['0.0050000'], tr/val_loss:  0.001019/  3.427351, tr: 100.00%, val:  58.33%, val_best:  62.50%: 100%|██████████| 62/62 [00:53<00:00,  1.16it/s]"
     ]
    },
    {
     "name": "stdout",
     "output_type": "stream",
     "text": [
      "5,000:58.33% | 5,000:58.33% | 10,000:61.25% | 25,000:53.75% | 50,000:50.00% | 75,000:45.42% | 100,000:45.00%\n"
     ]
    },
    {
     "name": "stderr",
     "output_type": "stream",
     "text": [
      "\n",
      "epoch-92  lr=['0.0050000'], tr/val_loss:  0.001143/  3.433672, tr: 100.00%, val:  58.75%, val_best:  62.50%: 100%|██████████| 62/62 [00:55<00:00,  1.11it/s]"
     ]
    },
    {
     "name": "stdout",
     "output_type": "stream",
     "text": [
      "5,000:58.75% | 5,000:58.75% | 10,000:61.25% | 25,000:53.33% | 50,000:50.00% | 75,000:45.42% | 100,000:45.00%\n"
     ]
    },
    {
     "name": "stderr",
     "output_type": "stream",
     "text": [
      "\n",
      "epoch-93  lr=['0.0050000'], tr/val_loss:  0.001093/  3.449556, tr: 100.00%, val:  58.75%, val_best:  62.50%: 100%|██████████| 62/62 [00:54<00:00,  1.15it/s]"
     ]
    },
    {
     "name": "stdout",
     "output_type": "stream",
     "text": [
      "5,000:58.75% | 5,000:58.75% | 10,000:61.67% | 25,000:52.92% | 50,000:50.42% | 75,000:44.58% | 100,000:45.00%\n"
     ]
    },
    {
     "name": "stderr",
     "output_type": "stream",
     "text": [
      "\n",
      "epoch-94  lr=['0.0050000'], tr/val_loss:  0.001344/  3.444926, tr: 100.00%, val:  58.75%, val_best:  62.50%: 100%|██████████| 62/62 [00:46<00:00,  1.32it/s]"
     ]
    },
    {
     "name": "stdout",
     "output_type": "stream",
     "text": [
      "5,000:58.75% | 5,000:58.75% | 10,000:61.25% | 25,000:52.50% | 50,000:50.00% | 75,000:44.58% | 100,000:45.00%\n"
     ]
    },
    {
     "name": "stderr",
     "output_type": "stream",
     "text": [
      "\n",
      "epoch-95  lr=['0.0050000'], tr/val_loss:  0.000966/  3.446091, tr: 100.00%, val:  58.75%, val_best:  62.50%: 100%|██████████| 62/62 [00:51<00:00,  1.20it/s]"
     ]
    },
    {
     "name": "stdout",
     "output_type": "stream",
     "text": [
      "5,000:58.75% | 5,000:58.75% | 10,000:60.83% | 25,000:53.33% | 50,000:48.75% | 75,000:44.58% | 100,000:45.00%\n"
     ]
    },
    {
     "name": "stderr",
     "output_type": "stream",
     "text": [
      "\n",
      "epoch-96  lr=['0.0050000'], tr/val_loss:  0.000955/  3.441005, tr: 100.00%, val:  59.17%, val_best:  62.50%: 100%|██████████| 62/62 [00:54<00:00, 10.77s/it]"
     ]
    },
    {
     "name": "stdout",
     "output_type": "stream",
     "text": [
      "5,000:59.17% | 5,000:59.17% | 10,000:61.25% | 25,000:53.75% | 50,000:49.58% | 75,000:44.58% | 100,000:45.83%\n"
     ]
    },
    {
     "name": "stderr",
     "output_type": "stream",
     "text": [
      "epoch-96  lr=['0.0050000'], tr/val_loss:  0.000955/  3.441005, tr: 100.00%, val:  59.17%, val_best:  62.50%: 100%|██████████| 62/62 [00:54<00:00,  1.14it/s]\n",
      "epoch-97  lr=['0.0050000'], tr/val_loss:  0.000859/  3.453172, tr: 100.00%, val:  59.17%, val_best:  62.50%: 100%|██████████| 62/62 [00:55<00:00,  1.11it/s]"
     ]
    },
    {
     "name": "stdout",
     "output_type": "stream",
     "text": [
      "5,000:59.17% | 5,000:59.17% | 10,000:60.83% | 25,000:53.75% | 50,000:49.58% | 75,000:44.58% | 100,000:45.42%\n"
     ]
    },
    {
     "name": "stderr",
     "output_type": "stream",
     "text": [
      "\n",
      "epoch-98  lr=['0.0050000'], tr/val_loss:  0.001287/  3.458786, tr: 100.00%, val:  58.75%, val_best:  62.50%: 100%|██████████| 62/62 [00:54<00:00,  1.14it/s]"
     ]
    },
    {
     "name": "stdout",
     "output_type": "stream",
     "text": [
      "5,000:58.75% | 5,000:58.75% | 10,000:61.25% | 25,000:53.75% | 50,000:49.58% | 75,000:45.00% | 100,000:45.42%\n"
     ]
    },
    {
     "name": "stderr",
     "output_type": "stream",
     "text": [
      "\n",
      "epoch-99  lr=['0.0050000'], tr/val_loss:  0.001046/  3.459527, tr: 100.00%, val:  59.17%, val_best:  62.50%: 100%|██████████| 62/62 [00:49<00:00,  1.26it/s]"
     ]
    },
    {
     "name": "stdout",
     "output_type": "stream",
     "text": [
      "5,000:59.17% | 5,000:59.17% | 10,000:61.25% | 25,000:53.75% | 50,000:49.17% | 75,000:44.58% | 100,000:45.42%\n"
     ]
    },
    {
     "name": "stderr",
     "output_type": "stream",
     "text": [
      "\n",
      "epoch-100 lr=['0.0050000'], tr/val_loss:  0.001101/  3.451997, tr: 100.00%, val:  59.17%, val_best:  62.50%: 100%|██████████| 62/62 [00:53<00:00,  1.17it/s]"
     ]
    },
    {
     "name": "stdout",
     "output_type": "stream",
     "text": [
      "5,000:59.17% | 5,000:59.17% | 10,000:60.83% | 25,000:52.92% | 50,000:50.00% | 75,000:44.17% | 100,000:44.58%\n"
     ]
    },
    {
     "name": "stderr",
     "output_type": "stream",
     "text": [
      "\n",
      "epoch-101 lr=['0.0050000'], tr/val_loss:  0.001257/  3.461963, tr: 100.00%, val:  60.00%, val_best:  62.50%: 100%|██████████| 62/62 [00:51<00:00,  1.20it/s]"
     ]
    },
    {
     "name": "stdout",
     "output_type": "stream",
     "text": [
      "5,000:60.00% | 5,000:60.00% | 10,000:61.25% | 25,000:53.33% | 50,000:49.17% | 75,000:45.42% | 100,000:45.42%\n"
     ]
    },
    {
     "name": "stderr",
     "output_type": "stream",
     "text": [
      "\n",
      "epoch-102 lr=['0.0050000'], tr/val_loss:  0.001390/  3.466340, tr: 100.00%, val:  59.58%, val_best:  62.50%: 100%|██████████| 62/62 [00:51<00:00,  1.20it/s]"
     ]
    },
    {
     "name": "stdout",
     "output_type": "stream",
     "text": [
      "5,000:59.58% | 5,000:59.58% | 10,000:61.67% | 25,000:53.75% | 50,000:48.75% | 75,000:45.83% | 100,000:45.42%\n"
     ]
    },
    {
     "name": "stderr",
     "output_type": "stream",
     "text": [
      "\n",
      "epoch-103 lr=['0.0050000'], tr/val_loss:  0.001201/  3.478316, tr: 100.00%, val:  59.17%, val_best:  62.50%: 100%|██████████| 62/62 [00:24<00:00,  2.50it/s]"
     ]
    },
    {
     "name": "stdout",
     "output_type": "stream",
     "text": [
      "5,000:59.17% | 5,000:59.17% | 10,000:60.00% | 25,000:53.75% | 50,000:49.58% | 75,000:45.83% | 100,000:45.83%\n"
     ]
    },
    {
     "name": "stderr",
     "output_type": "stream",
     "text": [
      "\n",
      "epoch-104 lr=['0.0050000'], tr/val_loss:  0.000951/  3.479528, tr: 100.00%, val:  59.58%, val_best:  62.50%: 100%|██████████| 62/62 [00:15<00:00,  4.09it/s]"
     ]
    },
    {
     "name": "stdout",
     "output_type": "stream",
     "text": [
      "5,000:59.58% | 5,000:59.58% | 10,000:60.00% | 25,000:53.75% | 50,000:48.75% | 75,000:45.00% | 100,000:43.33%\n"
     ]
    },
    {
     "name": "stderr",
     "output_type": "stream",
     "text": [
      "\n",
      "epoch-105 lr=['0.0050000'], tr/val_loss:  0.001146/  3.489331, tr: 100.00%, val:  59.58%, val_best:  62.50%: 100%|██████████| 62/62 [00:14<00:00,  4.25it/s]"
     ]
    },
    {
     "name": "stdout",
     "output_type": "stream",
     "text": [
      "5,000:59.58% | 5,000:59.58% | 10,000:60.83% | 25,000:53.33% | 50,000:48.75% | 75,000:45.83% | 100,000:44.58%\n"
     ]
    },
    {
     "name": "stderr",
     "output_type": "stream",
     "text": [
      "\n",
      "epoch-106 lr=['0.0050000'], tr/val_loss:  0.001373/  3.492722, tr: 100.00%, val:  58.75%, val_best:  62.50%: 100%|██████████| 62/62 [00:16<00:00,  3.86it/s]"
     ]
    },
    {
     "name": "stdout",
     "output_type": "stream",
     "text": [
      "5,000:58.75% | 5,000:58.75% | 10,000:60.00% | 25,000:53.33% | 50,000:49.17% | 75,000:45.42% | 100,000:45.42%\n"
     ]
    },
    {
     "name": "stderr",
     "output_type": "stream",
     "text": [
      "\n",
      "epoch-107 lr=['0.0050000'], tr/val_loss:  0.001204/  3.485203, tr: 100.00%, val:  59.17%, val_best:  62.50%: 100%|██████████| 62/62 [00:14<00:00,  4.19it/s]"
     ]
    },
    {
     "name": "stdout",
     "output_type": "stream",
     "text": [
      "5,000:59.17% | 5,000:59.17% | 10,000:61.25% | 25,000:53.75% | 50,000:50.00% | 75,000:45.83% | 100,000:45.00%\n"
     ]
    },
    {
     "name": "stderr",
     "output_type": "stream",
     "text": [
      "\n",
      "epoch-108 lr=['0.0050000'], tr/val_loss:  0.000792/  3.491001, tr: 100.00%, val:  59.58%, val_best:  62.50%: 100%|██████████| 62/62 [00:14<00:00,  4.15it/s]"
     ]
    },
    {
     "name": "stdout",
     "output_type": "stream",
     "text": [
      "5,000:59.58% | 5,000:59.58% | 10,000:60.83% | 25,000:54.58% | 50,000:48.33% | 75,000:45.83% | 100,000:45.00%\n"
     ]
    },
    {
     "name": "stderr",
     "output_type": "stream",
     "text": [
      "\n",
      "epoch-109 lr=['0.0050000'], tr/val_loss:  0.000782/  3.505345, tr: 100.00%, val:  60.00%, val_best:  62.50%: 100%|██████████| 62/62 [00:14<00:00,  4.17it/s]"
     ]
    },
    {
     "name": "stdout",
     "output_type": "stream",
     "text": [
      "5,000:60.00% | 5,000:60.00% | 10,000:60.83% | 25,000:53.75% | 50,000:48.75% | 75,000:45.83% | 100,000:44.17%\n"
     ]
    },
    {
     "name": "stderr",
     "output_type": "stream",
     "text": [
      "\n",
      "epoch-110 lr=['0.0050000'], tr/val_loss:  0.000794/  3.497190, tr: 100.00%, val:  59.58%, val_best:  62.50%: 100%|██████████| 62/62 [00:14<00:00,  4.35it/s]"
     ]
    },
    {
     "name": "stdout",
     "output_type": "stream",
     "text": [
      "5,000:59.58% | 5,000:59.58% | 10,000:60.42% | 25,000:53.75% | 50,000:48.33% | 75,000:45.83% | 100,000:44.58%\n"
     ]
    },
    {
     "name": "stderr",
     "output_type": "stream",
     "text": [
      "\n",
      "epoch-111 lr=['0.0050000'], tr/val_loss:  0.000695/  3.505363, tr: 100.00%, val:  59.58%, val_best:  62.50%: 100%|██████████| 62/62 [00:14<00:00,  4.34it/s]"
     ]
    },
    {
     "name": "stdout",
     "output_type": "stream",
     "text": [
      "5,000:59.58% | 5,000:59.58% | 10,000:60.42% | 25,000:52.92% | 50,000:48.75% | 75,000:45.83% | 100,000:44.58%\n"
     ]
    },
    {
     "name": "stderr",
     "output_type": "stream",
     "text": [
      "\n",
      "epoch-112 lr=['0.0050000'], tr/val_loss:  0.000758/  3.502053, tr: 100.00%, val:  59.17%, val_best:  62.50%: 100%|██████████| 62/62 [00:15<00:00,  4.06it/s]"
     ]
    },
    {
     "name": "stdout",
     "output_type": "stream",
     "text": [
      "5,000:59.17% | 5,000:59.17% | 10,000:60.83% | 25,000:53.75% | 50,000:48.75% | 75,000:45.83% | 100,000:45.42%\n"
     ]
    },
    {
     "name": "stderr",
     "output_type": "stream",
     "text": [
      "\n",
      "epoch-113 lr=['0.0050000'], tr/val_loss:  0.000741/  3.506026, tr: 100.00%, val:  59.58%, val_best:  62.50%:  98%|█████████▊| 61/62 [00:14<00:00, 10.57it/s]"
     ]
    },
    {
     "name": "stdout",
     "output_type": "stream",
     "text": [
      "5,000:59.58% | 5,000:59.58% | 10,000:60.42% | 25,000:54.17% | 50,000:49.58% | 75,000:45.83% | 100,000:44.58%\n"
     ]
    },
    {
     "name": "stderr",
     "output_type": "stream",
     "text": [
      "epoch-113 lr=['0.0050000'], tr/val_loss:  0.000741/  3.506026, tr: 100.00%, val:  59.58%, val_best:  62.50%: 100%|██████████| 62/62 [00:16<00:00,  3.87it/s]\n",
      "epoch-114 lr=['0.0050000'], tr/val_loss:  0.000719/  3.511466, tr: 100.00%, val:  59.17%, val_best:  62.50%: 100%|██████████| 62/62 [00:48<00:00,  1.27it/s]"
     ]
    },
    {
     "name": "stdout",
     "output_type": "stream",
     "text": [
      "5,000:59.17% | 5,000:59.17% | 10,000:60.42% | 25,000:53.75% | 50,000:48.75% | 75,000:45.83% | 100,000:45.00%\n"
     ]
    },
    {
     "name": "stderr",
     "output_type": "stream",
     "text": [
      "\n",
      "epoch-115 lr=['0.0050000'], tr/val_loss:  0.000671/  3.509888, tr: 100.00%, val:  59.58%, val_best:  62.50%: 100%|██████████| 62/62 [00:55<00:00,  1.12it/s]"
     ]
    },
    {
     "name": "stdout",
     "output_type": "stream",
     "text": [
      "5,000:59.58% | 5,000:59.58% | 10,000:60.42% | 25,000:54.17% | 50,000:48.75% | 75,000:45.42% | 100,000:43.75%\n"
     ]
    },
    {
     "name": "stderr",
     "output_type": "stream",
     "text": [
      "\n",
      "epoch-116 lr=['0.0050000'], tr/val_loss:  0.000684/  3.518875, tr: 100.00%, val:  58.75%, val_best:  62.50%: 100%|██████████| 62/62 [00:48<00:00,  1.28it/s]"
     ]
    },
    {
     "name": "stdout",
     "output_type": "stream",
     "text": [
      "5,000:58.75% | 5,000:58.75% | 10,000:60.42% | 25,000:53.33% | 50,000:49.17% | 75,000:44.58% | 100,000:45.00%\n"
     ]
    },
    {
     "name": "stderr",
     "output_type": "stream",
     "text": [
      "\n",
      "epoch-117 lr=['0.0050000'], tr/val_loss:  0.000626/  3.517506, tr: 100.00%, val:  58.75%, val_best:  62.50%: 100%|██████████| 62/62 [00:54<00:00,  1.14it/s]"
     ]
    },
    {
     "name": "stdout",
     "output_type": "stream",
     "text": [
      "5,000:58.75% | 5,000:58.75% | 10,000:60.42% | 25,000:53.33% | 50,000:49.17% | 75,000:45.42% | 100,000:44.58%\n"
     ]
    },
    {
     "name": "stderr",
     "output_type": "stream",
     "text": [
      "\n",
      "epoch-118 lr=['0.0050000'], tr/val_loss:  0.000568/  3.523948, tr: 100.00%, val:  58.75%, val_best:  62.50%: 100%|██████████| 62/62 [00:43<00:00,  1.42it/s]"
     ]
    },
    {
     "name": "stdout",
     "output_type": "stream",
     "text": [
      "5,000:58.75% | 5,000:58.75% | 10,000:60.42% | 25,000:52.92% | 50,000:48.75% | 75,000:45.00% | 100,000:44.58%\n"
     ]
    },
    {
     "name": "stderr",
     "output_type": "stream",
     "text": [
      "\n",
      "epoch-119 lr=['0.0050000'], tr/val_loss:  0.000606/  3.526566, tr: 100.00%, val:  58.75%, val_best:  62.50%: 100%|██████████| 62/62 [00:54<00:00,  1.14it/s]"
     ]
    },
    {
     "name": "stdout",
     "output_type": "stream",
     "text": [
      "5,000:58.75% | 5,000:58.75% | 10,000:60.42% | 25,000:52.92% | 50,000:49.17% | 75,000:45.00% | 100,000:43.75%\n"
     ]
    },
    {
     "name": "stderr",
     "output_type": "stream",
     "text": [
      "\n",
      "epoch-120 lr=['0.0050000'], tr/val_loss:  0.000709/  3.527358, tr: 100.00%, val:  58.33%, val_best:  62.50%: 100%|██████████| 62/62 [00:48<00:00,  1.27it/s]"
     ]
    },
    {
     "name": "stdout",
     "output_type": "stream",
     "text": [
      "5,000:58.33% | 5,000:58.33% | 10,000:60.42% | 25,000:53.33% | 50,000:49.58% | 75,000:45.42% | 100,000:45.00%\n"
     ]
    },
    {
     "name": "stderr",
     "output_type": "stream",
     "text": [
      "\n",
      "epoch-121 lr=['0.0050000'], tr/val_loss:  0.000735/  3.529313, tr: 100.00%, val:  58.75%, val_best:  62.50%: 100%|██████████| 62/62 [00:49<00:00,  1.25it/s]"
     ]
    },
    {
     "name": "stdout",
     "output_type": "stream",
     "text": [
      "5,000:58.75% | 5,000:58.75% | 10,000:60.83% | 25,000:53.33% | 50,000:49.17% | 75,000:45.00% | 100,000:45.00%\n"
     ]
    },
    {
     "name": "stderr",
     "output_type": "stream",
     "text": [
      "\n",
      "epoch-122 lr=['0.0050000'], tr/val_loss:  0.000749/  3.527071, tr: 100.00%, val:  58.75%, val_best:  62.50%: 100%|██████████| 62/62 [00:47<00:00,  1.31it/s]"
     ]
    },
    {
     "name": "stdout",
     "output_type": "stream",
     "text": [
      "5,000:58.75% | 5,000:58.75% | 10,000:60.42% | 25,000:53.33% | 50,000:49.17% | 75,000:45.83% | 100,000:45.42%\n"
     ]
    },
    {
     "name": "stderr",
     "output_type": "stream",
     "text": [
      "\n",
      "epoch-123 lr=['0.0050000'], tr/val_loss:  0.000855/  3.561149, tr: 100.00%, val:  58.75%, val_best:  62.50%: 100%|██████████| 62/62 [00:50<00:00,  1.24it/s]"
     ]
    },
    {
     "name": "stdout",
     "output_type": "stream",
     "text": [
      "5,000:58.75% | 5,000:58.75% | 10,000:60.00% | 25,000:52.92% | 50,000:48.75% | 75,000:46.25% | 100,000:44.17%\n"
     ]
    },
    {
     "name": "stderr",
     "output_type": "stream",
     "text": [
      "\n",
      "epoch-124 lr=['0.0050000'], tr/val_loss:  0.000708/  3.538757, tr: 100.00%, val:  58.75%, val_best:  62.50%: 100%|██████████| 62/62 [00:49<00:00,  1.25it/s]"
     ]
    },
    {
     "name": "stdout",
     "output_type": "stream",
     "text": [
      "5,000:58.75% | 5,000:58.75% | 10,000:60.42% | 25,000:54.17% | 50,000:49.17% | 75,000:45.83% | 100,000:45.00%\n"
     ]
    },
    {
     "name": "stderr",
     "output_type": "stream",
     "text": [
      "\n",
      "epoch-125 lr=['0.0050000'], tr/val_loss:  0.000693/  3.542416, tr: 100.00%, val:  58.75%, val_best:  62.50%: 100%|██████████| 62/62 [00:52<00:00,  1.17it/s]"
     ]
    },
    {
     "name": "stdout",
     "output_type": "stream",
     "text": [
      "5,000:58.75% | 5,000:58.75% | 10,000:60.00% | 25,000:53.75% | 50,000:49.17% | 75,000:45.42% | 100,000:44.58%\n"
     ]
    },
    {
     "name": "stderr",
     "output_type": "stream",
     "text": [
      "\n",
      "epoch-126 lr=['0.0050000'], tr/val_loss:  0.000670/  3.552124, tr: 100.00%, val:  58.75%, val_best:  62.50%: 100%|██████████| 62/62 [00:55<00:00,  1.12it/s]"
     ]
    },
    {
     "name": "stdout",
     "output_type": "stream",
     "text": [
      "5,000:58.75% | 5,000:58.75% | 10,000:60.83% | 25,000:53.33% | 50,000:49.17% | 75,000:45.83% | 100,000:44.58%\n"
     ]
    },
    {
     "name": "stderr",
     "output_type": "stream",
     "text": [
      "\n",
      "epoch-127 lr=['0.0050000'], tr/val_loss:  0.000700/  3.563562, tr: 100.00%, val:  58.75%, val_best:  62.50%: 100%|██████████| 62/62 [00:49<00:00,  1.26it/s]"
     ]
    },
    {
     "name": "stdout",
     "output_type": "stream",
     "text": [
      "5,000:58.75% | 5,000:58.75% | 10,000:60.83% | 25,000:52.92% | 50,000:49.17% | 75,000:45.42% | 100,000:45.42%\n"
     ]
    },
    {
     "name": "stderr",
     "output_type": "stream",
     "text": [
      "\n",
      "epoch-128 lr=['0.0050000'], tr/val_loss:  0.000701/  3.564762, tr: 100.00%, val:  58.75%, val_best:  62.50%: 100%|██████████| 62/62 [00:51<00:00,  1.21it/s]"
     ]
    },
    {
     "name": "stdout",
     "output_type": "stream",
     "text": [
      "5,000:58.75% | 5,000:58.75% | 10,000:60.83% | 25,000:52.92% | 50,000:49.17% | 75,000:45.83% | 100,000:45.00%\n"
     ]
    },
    {
     "name": "stderr",
     "output_type": "stream",
     "text": [
      "\n",
      "epoch-129 lr=['0.0050000'], tr/val_loss:  0.000903/  3.544092, tr: 100.00%, val:  57.92%, val_best:  62.50%: 100%|██████████| 62/62 [00:49<00:00,  1.24it/s]"
     ]
    },
    {
     "name": "stdout",
     "output_type": "stream",
     "text": [
      "5,000:57.92% | 5,000:57.92% | 10,000:61.67% | 25,000:53.33% | 50,000:49.17% | 75,000:45.42% | 100,000:45.00%\n"
     ]
    },
    {
     "name": "stderr",
     "output_type": "stream",
     "text": [
      "\n",
      "epoch-130 lr=['0.0050000'], tr/val_loss:  0.000643/  3.544071, tr: 100.00%, val:  57.92%, val_best:  62.50%: 100%|██████████| 62/62 [00:44<00:00,  1.39it/s]"
     ]
    },
    {
     "name": "stdout",
     "output_type": "stream",
     "text": [
      "5,000:57.92% | 5,000:57.92% | 10,000:61.67% | 25,000:52.92% | 50,000:49.58% | 75,000:45.42% | 100,000:45.00%\n"
     ]
    },
    {
     "name": "stderr",
     "output_type": "stream",
     "text": [
      "\n",
      "epoch-131 lr=['0.0050000'], tr/val_loss:  0.000696/  3.557553, tr: 100.00%, val:  58.33%, val_best:  62.50%: 100%|██████████| 62/62 [01:00<00:00,  1.03it/s]"
     ]
    },
    {
     "name": "stdout",
     "output_type": "stream",
     "text": [
      "5,000:58.33% | 5,000:58.33% | 10,000:60.83% | 25,000:52.92% | 50,000:49.58% | 75,000:45.83% | 100,000:44.58%\n"
     ]
    },
    {
     "name": "stderr",
     "output_type": "stream",
     "text": [
      "\n",
      "epoch-132 lr=['0.0050000'], tr/val_loss:  0.000986/  3.561621, tr: 100.00%, val:  57.92%, val_best:  62.50%: 100%|██████████| 62/62 [00:56<00:00,  1.10it/s]"
     ]
    },
    {
     "name": "stdout",
     "output_type": "stream",
     "text": [
      "5,000:57.92% | 5,000:57.92% | 10,000:61.25% | 25,000:53.33% | 50,000:48.75% | 75,000:45.42% | 100,000:45.00%\n"
     ]
    },
    {
     "name": "stderr",
     "output_type": "stream",
     "text": [
      "\n",
      "epoch-133 lr=['0.0050000'], tr/val_loss:  0.000864/  3.571724, tr: 100.00%, val:  58.75%, val_best:  62.50%: 100%|██████████| 62/62 [00:50<00:00,  6.62s/it]"
     ]
    },
    {
     "name": "stdout",
     "output_type": "stream",
     "text": [
      "5,000:58.75% | 5,000:58.75% | 10,000:61.25% | 25,000:52.92% | 50,000:49.17% | 75,000:45.83% | 100,000:44.58%\n"
     ]
    },
    {
     "name": "stderr",
     "output_type": "stream",
     "text": [
      "epoch-133 lr=['0.0050000'], tr/val_loss:  0.000864/  3.571724, tr: 100.00%, val:  58.75%, val_best:  62.50%: 100%|██████████| 62/62 [00:50<00:00,  1.23it/s]\n",
      "epoch-134 lr=['0.0050000'], tr/val_loss:  0.000954/  3.564120, tr: 100.00%, val:  58.33%, val_best:  62.50%: 100%|██████████| 62/62 [00:52<00:00,  1.18it/s]"
     ]
    },
    {
     "name": "stdout",
     "output_type": "stream",
     "text": [
      "5,000:58.33% | 5,000:58.33% | 10,000:61.25% | 25,000:53.33% | 50,000:49.17% | 75,000:45.83% | 100,000:45.00%\n"
     ]
    },
    {
     "name": "stderr",
     "output_type": "stream",
     "text": [
      "\n",
      "epoch-135 lr=['0.0050000'], tr/val_loss:  0.001386/  3.577530, tr: 100.00%, val:  58.33%, val_best:  62.50%: 100%|██████████| 62/62 [00:53<00:00,  1.16it/s]"
     ]
    },
    {
     "name": "stdout",
     "output_type": "stream",
     "text": [
      "5,000:58.33% | 5,000:58.33% | 10,000:61.25% | 25,000:53.33% | 50,000:48.75% | 75,000:45.83% | 100,000:44.58%\n"
     ]
    },
    {
     "name": "stderr",
     "output_type": "stream",
     "text": [
      "\n",
      "epoch-136 lr=['0.0050000'], tr/val_loss:  0.000697/  3.587011, tr: 100.00%, val:  58.75%, val_best:  62.50%: 100%|██████████| 62/62 [00:50<00:00,  1.23it/s]"
     ]
    },
    {
     "name": "stdout",
     "output_type": "stream",
     "text": [
      "5,000:58.75% | 5,000:58.75% | 10,000:61.25% | 25,000:53.33% | 50,000:48.75% | 75,000:46.25% | 100,000:44.58%\n"
     ]
    },
    {
     "name": "stderr",
     "output_type": "stream",
     "text": [
      "\n",
      "epoch-137 lr=['0.0050000'], tr/val_loss:  0.000874/  3.576441, tr: 100.00%, val:  58.75%, val_best:  62.50%: 100%|██████████| 62/62 [00:47<00:00,  1.30it/s]"
     ]
    },
    {
     "name": "stdout",
     "output_type": "stream",
     "text": [
      "5,000:58.75% | 5,000:58.75% | 10,000:60.42% | 25,000:52.92% | 50,000:48.75% | 75,000:45.42% | 100,000:45.00%\n"
     ]
    },
    {
     "name": "stderr",
     "output_type": "stream",
     "text": [
      "\n",
      "epoch-138 lr=['0.0050000'], tr/val_loss:  0.000875/  3.580920, tr: 100.00%, val:  58.33%, val_best:  62.50%: 100%|██████████| 62/62 [00:51<00:00,  1.20it/s]"
     ]
    },
    {
     "name": "stdout",
     "output_type": "stream",
     "text": [
      "5,000:58.33% | 5,000:58.33% | 10,000:60.42% | 25,000:52.50% | 50,000:48.75% | 75,000:44.58% | 100,000:44.58%\n"
     ]
    },
    {
     "name": "stderr",
     "output_type": "stream",
     "text": [
      "\n",
      "epoch-139 lr=['0.0050000'], tr/val_loss:  0.000964/  3.589332, tr: 100.00%, val:  58.75%, val_best:  62.50%: 100%|██████████| 62/62 [00:57<00:00,  1.08it/s]"
     ]
    },
    {
     "name": "stdout",
     "output_type": "stream",
     "text": [
      "5,000:58.75% | 5,000:58.75% | 10,000:60.83% | 25,000:52.92% | 50,000:49.17% | 75,000:45.42% | 100,000:44.58%\n"
     ]
    },
    {
     "name": "stderr",
     "output_type": "stream",
     "text": [
      "\n",
      "epoch-140 lr=['0.0050000'], tr/val_loss:  0.000670/  3.592388, tr: 100.00%, val:  58.75%, val_best:  62.50%: 100%|██████████| 62/62 [00:53<00:00,  1.15it/s]"
     ]
    },
    {
     "name": "stdout",
     "output_type": "stream",
     "text": [
      "5,000:58.75% | 5,000:58.75% | 10,000:60.42% | 25,000:52.50% | 50,000:49.17% | 75,000:45.00% | 100,000:44.17%\n"
     ]
    },
    {
     "name": "stderr",
     "output_type": "stream",
     "text": [
      "\n",
      "epoch-141 lr=['0.0050000'], tr/val_loss:  0.000991/  3.594111, tr: 100.00%, val:  58.33%, val_best:  62.50%: 100%|██████████| 62/62 [00:42<00:00,  1.47it/s]"
     ]
    },
    {
     "name": "stdout",
     "output_type": "stream",
     "text": [
      "5,000:58.33% | 5,000:58.33% | 10,000:60.83% | 25,000:53.75% | 50,000:49.17% | 75,000:45.42% | 100,000:44.58%\n"
     ]
    },
    {
     "name": "stderr",
     "output_type": "stream",
     "text": [
      "\n",
      "epoch-142 lr=['0.0050000'], tr/val_loss:  0.000601/  3.606235, tr: 100.00%, val:  58.75%, val_best:  62.50%: 100%|██████████| 62/62 [00:44<00:00,  1.38it/s]"
     ]
    },
    {
     "name": "stdout",
     "output_type": "stream",
     "text": [
      "5,000:58.75% | 5,000:58.75% | 10,000:61.25% | 25,000:52.92% | 50,000:49.17% | 75,000:45.00% | 100,000:45.00%\n"
     ]
    },
    {
     "name": "stderr",
     "output_type": "stream",
     "text": [
      "\n",
      "epoch-143 lr=['0.0050000'], tr/val_loss:  0.000599/  3.608197, tr: 100.00%, val:  58.33%, val_best:  62.50%: 100%|██████████| 62/62 [00:46<00:00,  1.33it/s]"
     ]
    },
    {
     "name": "stdout",
     "output_type": "stream",
     "text": [
      "5,000:58.33% | 5,000:58.33% | 10,000:61.25% | 25,000:52.50% | 50,000:49.17% | 75,000:45.00% | 100,000:44.58%\n"
     ]
    },
    {
     "name": "stderr",
     "output_type": "stream",
     "text": [
      "\n",
      "epoch-144 lr=['0.0050000'], tr/val_loss:  0.000597/  3.606023, tr: 100.00%, val:  57.92%, val_best:  62.50%: 100%|██████████| 62/62 [00:55<00:00,  1.12it/s]"
     ]
    },
    {
     "name": "stdout",
     "output_type": "stream",
     "text": [
      "5,000:57.92% | 5,000:57.92% | 10,000:61.25% | 25,000:52.50% | 50,000:49.17% | 75,000:45.00% | 100,000:44.58%\n"
     ]
    },
    {
     "name": "stderr",
     "output_type": "stream",
     "text": [
      "\n",
      "epoch-145 lr=['0.0050000'], tr/val_loss:  0.000848/  3.613090, tr: 100.00%, val:  58.33%, val_best:  62.50%: 100%|██████████| 62/62 [00:54<00:00,  1.14it/s]"
     ]
    },
    {
     "name": "stdout",
     "output_type": "stream",
     "text": [
      "5,000:58.33% | 5,000:58.33% | 10,000:60.83% | 25,000:52.08% | 50,000:48.75% | 75,000:44.58% | 100,000:44.58%\n"
     ]
    },
    {
     "name": "stderr",
     "output_type": "stream",
     "text": [
      "\n",
      "epoch-146 lr=['0.0050000'], tr/val_loss:  0.000535/  3.621493, tr: 100.00%, val:  58.75%, val_best:  62.50%: 100%|██████████| 62/62 [00:52<00:00,  1.18it/s]"
     ]
    },
    {
     "name": "stdout",
     "output_type": "stream",
     "text": [
      "5,000:58.75% | 5,000:58.75% | 10,000:61.25% | 25,000:52.50% | 50,000:48.75% | 75,000:45.83% | 100,000:44.58%\n"
     ]
    },
    {
     "name": "stderr",
     "output_type": "stream",
     "text": [
      "\n",
      "epoch-147 lr=['0.0050000'], tr/val_loss:  0.000501/  3.614857, tr: 100.00%, val:  59.17%, val_best:  62.50%: 100%|██████████| 62/62 [00:55<00:00,  1.12it/s]"
     ]
    },
    {
     "name": "stdout",
     "output_type": "stream",
     "text": [
      "5,000:59.17% | 5,000:59.17% | 10,000:60.83% | 25,000:52.50% | 50,000:48.75% | 75,000:45.83% | 100,000:44.58%\n"
     ]
    },
    {
     "name": "stderr",
     "output_type": "stream",
     "text": [
      "\n",
      "epoch-148 lr=['0.0050000'], tr/val_loss:  0.000571/  3.612205, tr: 100.00%, val:  59.17%, val_best:  62.50%: 100%|██████████| 62/62 [00:50<00:00,  1.23it/s]"
     ]
    },
    {
     "name": "stdout",
     "output_type": "stream",
     "text": [
      "5,000:59.17% | 5,000:59.17% | 10,000:61.25% | 25,000:52.50% | 50,000:48.75% | 75,000:45.83% | 100,000:45.00%\n"
     ]
    },
    {
     "name": "stderr",
     "output_type": "stream",
     "text": [
      "\n",
      "epoch-149 lr=['0.0050000'], tr/val_loss:  0.000592/  3.598219, tr: 100.00%, val:  59.17%, val_best:  62.50%: 100%|██████████| 62/62 [00:46<00:00,  1.34it/s]"
     ]
    },
    {
     "name": "stdout",
     "output_type": "stream",
     "text": [
      "5,000:59.17% | 5,000:59.17% | 10,000:60.83% | 25,000:52.92% | 50,000:48.33% | 75,000:45.42% | 100,000:44.58%\n"
     ]
    },
    {
     "name": "stderr",
     "output_type": "stream",
     "text": [
      "\n",
      "epoch-150 lr=['0.0050000'], tr/val_loss:  0.000492/  3.595500, tr: 100.00%, val:  59.17%, val_best:  62.50%: 100%|██████████| 62/62 [00:56<00:00,  1.10it/s]"
     ]
    },
    {
     "name": "stdout",
     "output_type": "stream",
     "text": [
      "5,000:59.17% | 5,000:59.17% | 10,000:60.42% | 25,000:52.50% | 50,000:49.17% | 75,000:45.00% | 100,000:44.58%\n"
     ]
    },
    {
     "name": "stderr",
     "output_type": "stream",
     "text": [
      "\n",
      "epoch-151 lr=['0.0050000'], tr/val_loss:  0.000490/  3.607410, tr: 100.00%, val:  59.17%, val_best:  62.50%: 100%|██████████| 62/62 [00:51<00:00,  1.21it/s]"
     ]
    },
    {
     "name": "stdout",
     "output_type": "stream",
     "text": [
      "5,000:59.17% | 5,000:59.17% | 10,000:60.42% | 25,000:52.50% | 50,000:49.17% | 75,000:46.25% | 100,000:44.58%\n"
     ]
    },
    {
     "name": "stderr",
     "output_type": "stream",
     "text": [
      "\n",
      "epoch-152 lr=['0.0050000'], tr/val_loss:  0.000517/  3.608948, tr: 100.00%, val:  58.75%, val_best:  62.50%: 100%|██████████| 62/62 [00:48<00:00,  1.27it/s]"
     ]
    },
    {
     "name": "stdout",
     "output_type": "stream",
     "text": [
      "5,000:58.75% | 5,000:58.75% | 10,000:60.42% | 25,000:52.92% | 50,000:49.17% | 75,000:45.42% | 100,000:45.00%\n"
     ]
    },
    {
     "name": "stderr",
     "output_type": "stream",
     "text": [
      "\n",
      "epoch-153 lr=['0.0050000'], tr/val_loss:  0.000496/  3.608968, tr: 100.00%, val:  59.58%, val_best:  62.50%: 100%|██████████| 62/62 [01:00<00:00,  1.02it/s]"
     ]
    },
    {
     "name": "stdout",
     "output_type": "stream",
     "text": [
      "5,000:59.58% | 5,000:59.58% | 10,000:59.58% | 25,000:53.75% | 50,000:49.58% | 75,000:45.42% | 100,000:44.17%\n"
     ]
    },
    {
     "name": "stderr",
     "output_type": "stream",
     "text": [
      "\n",
      "epoch-154 lr=['0.0050000'], tr/val_loss:  0.000469/  3.616869, tr: 100.00%, val:  59.17%, val_best:  62.50%: 100%|██████████| 62/62 [00:45<00:00,  1.37it/s]"
     ]
    },
    {
     "name": "stdout",
     "output_type": "stream",
     "text": [
      "5,000:59.17% | 5,000:59.17% | 10,000:61.25% | 25,000:53.33% | 50,000:49.58% | 75,000:45.83% | 100,000:44.58%\n"
     ]
    },
    {
     "name": "stderr",
     "output_type": "stream",
     "text": [
      "\n",
      "epoch-155 lr=['0.0050000'], tr/val_loss:  0.000481/  3.620005, tr: 100.00%, val:  59.17%, val_best:  62.50%: 100%|██████████| 62/62 [00:48<00:00,  1.28it/s]"
     ]
    },
    {
     "name": "stdout",
     "output_type": "stream",
     "text": [
      "5,000:59.17% | 5,000:59.17% | 10,000:60.83% | 25,000:53.75% | 50,000:49.17% | 75,000:45.83% | 100,000:44.17%\n"
     ]
    },
    {
     "name": "stderr",
     "output_type": "stream",
     "text": [
      "\n",
      "epoch-156 lr=['0.0050000'], tr/val_loss:  0.000470/  3.622889, tr: 100.00%, val:  58.75%, val_best:  62.50%: 100%|██████████| 62/62 [00:52<00:00,  1.18it/s]"
     ]
    },
    {
     "name": "stdout",
     "output_type": "stream",
     "text": [
      "5,000:58.75% | 5,000:58.75% | 10,000:60.83% | 25,000:53.75% | 50,000:49.58% | 75,000:46.25% | 100,000:45.00%\n"
     ]
    },
    {
     "name": "stderr",
     "output_type": "stream",
     "text": [
      "\n",
      "epoch-157 lr=['0.0050000'], tr/val_loss:  0.000499/  3.631481, tr: 100.00%, val:  59.58%, val_best:  62.50%: 100%|██████████| 62/62 [00:43<00:00,  1.42it/s]"
     ]
    },
    {
     "name": "stdout",
     "output_type": "stream",
     "text": [
      "5,000:59.58% | 5,000:59.58% | 10,000:60.83% | 25,000:53.33% | 50,000:49.58% | 75,000:45.42% | 100,000:45.00%\n"
     ]
    },
    {
     "name": "stderr",
     "output_type": "stream",
     "text": [
      "\n",
      "epoch-158 lr=['0.0050000'], tr/val_loss:  0.000516/  3.639661, tr: 100.00%, val:  59.17%, val_best:  62.50%: 100%|██████████| 62/62 [00:53<00:00,  1.16it/s]"
     ]
    },
    {
     "name": "stdout",
     "output_type": "stream",
     "text": [
      "5,000:59.17% | 5,000:59.17% | 10,000:60.42% | 25,000:53.33% | 50,000:49.58% | 75,000:44.58% | 100,000:45.00%\n"
     ]
    },
    {
     "name": "stderr",
     "output_type": "stream",
     "text": [
      "\n",
      "epoch-159 lr=['0.0050000'], tr/val_loss:  0.000442/  3.636705, tr: 100.00%, val:  59.58%, val_best:  62.50%: 100%|██████████| 62/62 [00:57<00:00,  1.08it/s]"
     ]
    },
    {
     "name": "stdout",
     "output_type": "stream",
     "text": [
      "5,000:59.58% | 5,000:59.58% | 10,000:60.00% | 25,000:53.33% | 50,000:49.58% | 75,000:45.00% | 100,000:45.00%\n"
     ]
    },
    {
     "name": "stderr",
     "output_type": "stream",
     "text": [
      "\n",
      "epoch-160 lr=['0.0050000'], tr/val_loss:  0.000449/  3.643957, tr: 100.00%, val:  59.58%, val_best:  62.50%: 100%|██████████| 62/62 [00:42<00:00,  1.45it/s]"
     ]
    },
    {
     "name": "stdout",
     "output_type": "stream",
     "text": [
      "5,000:59.58% | 5,000:59.58% | 10,000:60.42% | 25,000:53.33% | 50,000:49.17% | 75,000:44.58% | 100,000:45.00%\n"
     ]
    },
    {
     "name": "stderr",
     "output_type": "stream",
     "text": [
      "\n",
      "epoch-161 lr=['0.0050000'], tr/val_loss:  0.000800/  3.646382, tr: 100.00%, val:  58.75%, val_best:  62.50%: 100%|██████████| 62/62 [00:53<00:00,  1.16it/s]"
     ]
    },
    {
     "name": "stdout",
     "output_type": "stream",
     "text": [
      "5,000:58.75% | 5,000:58.75% | 10,000:60.83% | 25,000:52.92% | 50,000:49.58% | 75,000:45.00% | 100,000:45.00%\n"
     ]
    },
    {
     "name": "stderr",
     "output_type": "stream",
     "text": [
      "\n",
      "epoch-162 lr=['0.0050000'], tr/val_loss:  0.000495/  3.656044, tr: 100.00%, val:  59.17%, val_best:  62.50%: 100%|██████████| 62/62 [00:55<00:00,  1.12it/s]"
     ]
    },
    {
     "name": "stdout",
     "output_type": "stream",
     "text": [
      "5,000:59.17% | 5,000:59.17% | 10,000:60.42% | 25,000:53.33% | 50,000:49.58% | 75,000:44.58% | 100,000:45.00%\n"
     ]
    },
    {
     "name": "stderr",
     "output_type": "stream",
     "text": [
      "\n",
      "epoch-163 lr=['0.0050000'], tr/val_loss:  0.000394/  3.654128, tr: 100.00%, val:  58.75%, val_best:  62.50%: 100%|██████████| 62/62 [00:51<00:00,  1.21it/s]"
     ]
    },
    {
     "name": "stdout",
     "output_type": "stream",
     "text": [
      "5,000:58.75% | 5,000:58.75% | 10,000:60.42% | 25,000:53.33% | 50,000:49.58% | 75,000:45.00% | 100,000:44.58%\n"
     ]
    },
    {
     "name": "stderr",
     "output_type": "stream",
     "text": [
      "\n",
      "epoch-164 lr=['0.0050000'], tr/val_loss:  0.000380/  3.654028, tr: 100.00%, val:  58.75%, val_best:  62.50%: 100%|██████████| 62/62 [00:50<00:00,  1.24it/s]"
     ]
    },
    {
     "name": "stdout",
     "output_type": "stream",
     "text": [
      "5,000:58.75% | 5,000:58.75% | 10,000:60.42% | 25,000:53.33% | 50,000:49.58% | 75,000:45.00% | 100,000:44.58%\n"
     ]
    },
    {
     "name": "stderr",
     "output_type": "stream",
     "text": [
      "\n",
      "epoch-165 lr=['0.0050000'], tr/val_loss:  0.000393/  3.659400, tr: 100.00%, val:  58.75%, val_best:  62.50%: 100%|██████████| 62/62 [00:53<00:00,  1.16it/s]"
     ]
    },
    {
     "name": "stdout",
     "output_type": "stream",
     "text": [
      "5,000:58.75% | 5,000:58.75% | 10,000:60.42% | 25,000:53.75% | 50,000:49.58% | 75,000:44.58% | 100,000:45.00%\n"
     ]
    },
    {
     "name": "stderr",
     "output_type": "stream",
     "text": [
      "\n",
      "epoch-166 lr=['0.0050000'], tr/val_loss:  0.000365/  3.663397, tr: 100.00%, val:  58.75%, val_best:  62.50%: 100%|██████████| 62/62 [00:46<00:00,  1.33it/s]"
     ]
    },
    {
     "name": "stdout",
     "output_type": "stream",
     "text": [
      "5,000:58.75% | 5,000:58.75% | 10,000:60.42% | 25,000:53.33% | 50,000:49.58% | 75,000:44.58% | 100,000:45.00%\n"
     ]
    },
    {
     "name": "stderr",
     "output_type": "stream",
     "text": [
      "\n",
      "epoch-167 lr=['0.0050000'], tr/val_loss:  0.000363/  3.675149, tr: 100.00%, val:  58.33%, val_best:  62.50%: 100%|██████████| 62/62 [00:47<00:00,  1.31it/s]"
     ]
    },
    {
     "name": "stdout",
     "output_type": "stream",
     "text": [
      "5,000:58.33% | 5,000:58.33% | 10,000:60.42% | 25,000:53.75% | 50,000:48.75% | 75,000:44.17% | 100,000:45.42%\n"
     ]
    },
    {
     "name": "stderr",
     "output_type": "stream",
     "text": [
      "\n",
      "epoch-168 lr=['0.0050000'], tr/val_loss:  0.000410/  3.677058, tr: 100.00%, val:  58.75%, val_best:  62.50%: 100%|██████████| 62/62 [00:55<00:00,  1.12it/s]"
     ]
    },
    {
     "name": "stdout",
     "output_type": "stream",
     "text": [
      "5,000:58.75% | 5,000:58.75% | 10,000:60.42% | 25,000:53.33% | 50,000:48.75% | 75,000:44.58% | 100,000:45.42%\n"
     ]
    },
    {
     "name": "stderr",
     "output_type": "stream",
     "text": [
      "\n",
      "epoch-169 lr=['0.0050000'], tr/val_loss:  0.000422/  3.675184, tr: 100.00%, val:  58.33%, val_best:  62.50%: 100%|██████████| 62/62 [00:52<00:00,  1.18it/s]"
     ]
    },
    {
     "name": "stdout",
     "output_type": "stream",
     "text": [
      "5,000:58.33% | 5,000:58.33% | 10,000:60.00% | 25,000:53.75% | 50,000:48.75% | 75,000:44.58% | 100,000:44.58%\n"
     ]
    },
    {
     "name": "stderr",
     "output_type": "stream",
     "text": [
      "\n",
      "epoch-170 lr=['0.0050000'], tr/val_loss:  0.000411/  3.677013, tr: 100.00%, val:  58.33%, val_best:  62.50%: 100%|██████████| 62/62 [00:46<00:00,  1.33it/s]"
     ]
    },
    {
     "name": "stdout",
     "output_type": "stream",
     "text": [
      "5,000:58.33% | 5,000:58.33% | 10,000:60.00% | 25,000:53.33% | 50,000:48.75% | 75,000:44.58% | 100,000:44.58%\n"
     ]
    },
    {
     "name": "stderr",
     "output_type": "stream",
     "text": [
      "\n",
      "epoch-171 lr=['0.0050000'], tr/val_loss:  0.000362/  3.673478, tr: 100.00%, val:  58.33%, val_best:  62.50%: 100%|██████████| 62/62 [00:56<00:00,  1.09it/s]"
     ]
    },
    {
     "name": "stdout",
     "output_type": "stream",
     "text": [
      "5,000:58.33% | 5,000:58.33% | 10,000:60.42% | 25,000:53.33% | 50,000:48.75% | 75,000:44.58% | 100,000:45.00%\n"
     ]
    },
    {
     "name": "stderr",
     "output_type": "stream",
     "text": [
      "\n",
      "epoch-172 lr=['0.0050000'], tr/val_loss:  0.000373/  3.684090, tr: 100.00%, val:  58.75%, val_best:  62.50%: 100%|██████████| 62/62 [00:51<00:00,  1.20it/s]"
     ]
    },
    {
     "name": "stdout",
     "output_type": "stream",
     "text": [
      "5,000:58.75% | 5,000:58.75% | 10,000:60.42% | 25,000:53.75% | 50,000:49.17% | 75,000:44.17% | 100,000:45.00%\n"
     ]
    },
    {
     "name": "stderr",
     "output_type": "stream",
     "text": [
      "\n",
      "epoch-173 lr=['0.0050000'], tr/val_loss:  0.000374/  3.679123, tr: 100.00%, val:  58.75%, val_best:  62.50%: 100%|██████████| 62/62 [00:54<00:00,  1.14it/s]"
     ]
    },
    {
     "name": "stdout",
     "output_type": "stream",
     "text": [
      "5,000:58.75% | 5,000:58.75% | 10,000:60.00% | 25,000:53.33% | 50,000:49.17% | 75,000:44.17% | 100,000:45.42%\n"
     ]
    },
    {
     "name": "stderr",
     "output_type": "stream",
     "text": [
      "\n",
      "epoch-174 lr=['0.0050000'], tr/val_loss:  0.000671/  3.676653, tr: 100.00%, val:  58.33%, val_best:  62.50%: 100%|██████████| 62/62 [00:49<00:00,  1.25it/s]"
     ]
    },
    {
     "name": "stdout",
     "output_type": "stream",
     "text": [
      "5,000:58.33% | 5,000:58.33% | 10,000:60.42% | 25,000:53.75% | 50,000:49.58% | 75,000:44.17% | 100,000:45.00%\n"
     ]
    },
    {
     "name": "stderr",
     "output_type": "stream",
     "text": [
      "\n",
      "epoch-175 lr=['0.0050000'], tr/val_loss:  0.000334/  3.675587, tr: 100.00%, val:  58.75%, val_best:  62.50%: 100%|██████████| 62/62 [00:58<00:00,  1.06it/s]"
     ]
    },
    {
     "name": "stdout",
     "output_type": "stream",
     "text": [
      "5,000:58.75% | 5,000:58.75% | 10,000:60.42% | 25,000:53.33% | 50,000:49.58% | 75,000:44.58% | 100,000:45.00%\n"
     ]
    },
    {
     "name": "stderr",
     "output_type": "stream",
     "text": [
      "\n",
      "epoch-176 lr=['0.0050000'], tr/val_loss:  0.000305/  3.674444, tr: 100.00%, val:  58.75%, val_best:  62.50%: 100%|██████████| 62/62 [00:51<00:00,  1.20it/s]"
     ]
    },
    {
     "name": "stdout",
     "output_type": "stream",
     "text": [
      "5,000:58.75% | 5,000:58.75% | 10,000:60.83% | 25,000:53.75% | 50,000:49.58% | 75,000:44.58% | 100,000:45.00%\n"
     ]
    },
    {
     "name": "stderr",
     "output_type": "stream",
     "text": [
      "\n",
      "epoch-177 lr=['0.0050000'], tr/val_loss:  0.000316/  3.676168, tr: 100.00%, val:  58.75%, val_best:  62.50%: 100%|██████████| 62/62 [00:52<00:00,  1.17it/s]"
     ]
    },
    {
     "name": "stdout",
     "output_type": "stream",
     "text": [
      "5,000:58.75% | 5,000:58.75% | 10,000:60.83% | 25,000:53.33% | 50,000:49.17% | 75,000:44.58% | 100,000:45.00%\n"
     ]
    },
    {
     "name": "stderr",
     "output_type": "stream",
     "text": [
      "\n",
      "epoch-178 lr=['0.0050000'], tr/val_loss:  0.000315/  3.681974, tr: 100.00%, val:  58.75%, val_best:  62.50%: 100%|██████████| 62/62 [00:52<00:00,  1.19it/s]"
     ]
    },
    {
     "name": "stdout",
     "output_type": "stream",
     "text": [
      "5,000:58.75% | 5,000:58.75% | 10,000:61.25% | 25,000:53.33% | 50,000:49.17% | 75,000:44.58% | 100,000:45.42%\n"
     ]
    },
    {
     "name": "stderr",
     "output_type": "stream",
     "text": [
      "\n",
      "epoch-179 lr=['0.0050000'], tr/val_loss:  0.000325/  3.686043, tr: 100.00%, val:  58.75%, val_best:  62.50%: 100%|██████████| 62/62 [00:46<00:00,  1.32it/s]"
     ]
    },
    {
     "name": "stdout",
     "output_type": "stream",
     "text": [
      "5,000:58.75% | 5,000:58.75% | 10,000:61.25% | 25,000:53.33% | 50,000:49.17% | 75,000:44.58% | 100,000:45.00%\n"
     ]
    },
    {
     "name": "stderr",
     "output_type": "stream",
     "text": [
      "\n",
      "epoch-180 lr=['0.0050000'], tr/val_loss:  0.000313/  3.688452, tr: 100.00%, val:  58.75%, val_best:  62.50%: 100%|██████████| 62/62 [00:51<00:00,  1.20it/s]"
     ]
    },
    {
     "name": "stdout",
     "output_type": "stream",
     "text": [
      "5,000:58.75% | 5,000:58.75% | 10,000:60.83% | 25,000:52.92% | 50,000:49.58% | 75,000:44.58% | 100,000:45.00%\n"
     ]
    },
    {
     "name": "stderr",
     "output_type": "stream",
     "text": [
      "\n",
      "epoch-181 lr=['0.0050000'], tr/val_loss:  0.000313/  3.687170, tr: 100.00%, val:  58.75%, val_best:  62.50%: 100%|██████████| 62/62 [01:00<00:00,  1.02it/s]"
     ]
    },
    {
     "name": "stdout",
     "output_type": "stream",
     "text": [
      "5,000:58.75% | 5,000:58.75% | 10,000:60.83% | 25,000:52.92% | 50,000:49.58% | 75,000:45.00% | 100,000:45.42%\n"
     ]
    },
    {
     "name": "stderr",
     "output_type": "stream",
     "text": [
      "\n",
      "epoch-182 lr=['0.0050000'], tr/val_loss:  0.000311/  3.692699, tr: 100.00%, val:  58.75%, val_best:  62.50%: 100%|██████████| 62/62 [00:49<00:00,  1.25it/s]"
     ]
    },
    {
     "name": "stdout",
     "output_type": "stream",
     "text": [
      "5,000:58.75% | 5,000:58.75% | 10,000:60.42% | 25,000:53.75% | 50,000:49.58% | 75,000:45.00% | 100,000:45.42%\n"
     ]
    },
    {
     "name": "stderr",
     "output_type": "stream",
     "text": [
      "\n",
      "epoch-183 lr=['0.0050000'], tr/val_loss:  0.000313/  3.691372, tr: 100.00%, val:  58.33%, val_best:  62.50%: 100%|██████████| 62/62 [00:57<00:00,  1.08it/s]"
     ]
    },
    {
     "name": "stdout",
     "output_type": "stream",
     "text": [
      "5,000:58.33% | 5,000:58.33% | 10,000:60.42% | 25,000:53.33% | 50,000:49.58% | 75,000:45.42% | 100,000:45.83%\n"
     ]
    },
    {
     "name": "stderr",
     "output_type": "stream",
     "text": [
      "\n",
      "epoch-184 lr=['0.0050000'], tr/val_loss:  0.000346/  3.688481, tr: 100.00%, val:  58.33%, val_best:  62.50%: 100%|██████████| 62/62 [00:50<00:00,  1.23it/s]"
     ]
    },
    {
     "name": "stdout",
     "output_type": "stream",
     "text": [
      "5,000:58.33% | 5,000:58.33% | 10,000:60.42% | 25,000:54.17% | 50,000:49.58% | 75,000:45.00% | 100,000:45.83%\n"
     ]
    },
    {
     "name": "stderr",
     "output_type": "stream",
     "text": [
      "\n",
      "epoch-185 lr=['0.0050000'], tr/val_loss:  0.000371/  3.695398, tr: 100.00%, val:  58.33%, val_best:  62.50%: 100%|██████████| 62/62 [00:53<00:00,  1.16it/s]"
     ]
    },
    {
     "name": "stdout",
     "output_type": "stream",
     "text": [
      "5,000:58.33% | 5,000:58.33% | 10,000:60.83% | 25,000:53.33% | 50,000:49.58% | 75,000:44.58% | 100,000:45.42%\n"
     ]
    },
    {
     "name": "stderr",
     "output_type": "stream",
     "text": [
      "\n",
      "epoch-186 lr=['0.0050000'], tr/val_loss:  0.000415/  3.701771, tr: 100.00%, val:  58.33%, val_best:  62.50%: 100%|██████████| 62/62 [00:54<00:00,  1.14it/s]"
     ]
    },
    {
     "name": "stdout",
     "output_type": "stream",
     "text": [
      "5,000:58.33% | 5,000:58.33% | 10,000:60.83% | 25,000:53.33% | 50,000:49.58% | 75,000:45.42% | 100,000:45.42%\n"
     ]
    },
    {
     "name": "stderr",
     "output_type": "stream",
     "text": [
      "\n",
      "epoch-187 lr=['0.0050000'], tr/val_loss:  0.000380/  3.702207, tr: 100.00%, val:  58.33%, val_best:  62.50%: 100%|██████████| 62/62 [00:51<00:00,  1.20it/s]"
     ]
    },
    {
     "name": "stdout",
     "output_type": "stream",
     "text": [
      "5,000:58.33% | 5,000:58.33% | 10,000:60.83% | 25,000:52.92% | 50,000:49.58% | 75,000:45.00% | 100,000:45.42%\n"
     ]
    },
    {
     "name": "stderr",
     "output_type": "stream",
     "text": [
      "\n",
      "epoch-188 lr=['0.0050000'], tr/val_loss:  0.000339/  3.709522, tr: 100.00%, val:  58.33%, val_best:  62.50%: 100%|██████████| 62/62 [00:54<00:00,  1.15it/s]"
     ]
    },
    {
     "name": "stdout",
     "output_type": "stream",
     "text": [
      "5,000:58.33% | 5,000:58.33% | 10,000:60.00% | 25,000:53.33% | 50,000:49.58% | 75,000:45.00% | 100,000:45.00%\n"
     ]
    },
    {
     "name": "stderr",
     "output_type": "stream",
     "text": [
      "\n",
      "epoch-189 lr=['0.0050000'], tr/val_loss:  0.000341/  3.713303, tr: 100.00%, val:  58.33%, val_best:  62.50%: 100%|██████████| 62/62 [00:46<00:00,  1.34it/s]"
     ]
    },
    {
     "name": "stdout",
     "output_type": "stream",
     "text": [
      "5,000:58.33% | 5,000:58.33% | 10,000:60.42% | 25,000:52.92% | 50,000:49.58% | 75,000:44.17% | 100,000:45.00%\n"
     ]
    },
    {
     "name": "stderr",
     "output_type": "stream",
     "text": [
      "\n",
      "epoch-190 lr=['0.0050000'], tr/val_loss:  0.000333/  3.713449, tr: 100.00%, val:  58.33%, val_best:  62.50%: 100%|██████████| 62/62 [00:54<00:00,  1.14it/s]"
     ]
    },
    {
     "name": "stdout",
     "output_type": "stream",
     "text": [
      "5,000:58.33% | 5,000:58.33% | 10,000:60.00% | 25,000:53.75% | 50,000:49.58% | 75,000:44.17% | 100,000:45.00%\n"
     ]
    },
    {
     "name": "stderr",
     "output_type": "stream",
     "text": [
      "\n",
      "epoch-191 lr=['0.0050000'], tr/val_loss:  0.000365/  3.717650, tr: 100.00%, val:  58.33%, val_best:  62.50%: 100%|██████████| 62/62 [00:49<00:00,  1.25it/s]"
     ]
    },
    {
     "name": "stdout",
     "output_type": "stream",
     "text": [
      "5,000:58.33% | 5,000:58.33% | 10,000:60.83% | 25,000:53.33% | 50,000:49.58% | 75,000:44.17% | 100,000:45.00%\n"
     ]
    },
    {
     "name": "stderr",
     "output_type": "stream",
     "text": [
      "\n",
      "epoch-192 lr=['0.0050000'], tr/val_loss:  0.000595/  3.714245, tr: 100.00%, val:  58.33%, val_best:  62.50%: 100%|██████████| 62/62 [00:54<00:00,  1.14it/s]"
     ]
    },
    {
     "name": "stdout",
     "output_type": "stream",
     "text": [
      "5,000:58.33% | 5,000:58.33% | 10,000:61.25% | 25,000:52.92% | 50,000:49.58% | 75,000:44.58% | 100,000:44.58%\n"
     ]
    },
    {
     "name": "stderr",
     "output_type": "stream",
     "text": [
      "\n",
      "epoch-193 lr=['0.0050000'], tr/val_loss:  0.000726/  3.698962, tr: 100.00%, val:  58.75%, val_best:  62.50%: 100%|██████████| 62/62 [01:00<00:00,  1.03it/s]"
     ]
    },
    {
     "name": "stdout",
     "output_type": "stream",
     "text": [
      "5,000:58.75% | 5,000:58.75% | 10,000:60.83% | 25,000:53.75% | 50,000:49.58% | 75,000:44.58% | 100,000:44.17%\n"
     ]
    },
    {
     "name": "stderr",
     "output_type": "stream",
     "text": [
      "\n",
      "epoch-194 lr=['0.0050000'], tr/val_loss:  0.000848/  3.716343, tr: 100.00%, val:  58.33%, val_best:  62.50%: 100%|██████████| 62/62 [00:52<00:00,  1.19it/s]"
     ]
    },
    {
     "name": "stdout",
     "output_type": "stream",
     "text": [
      "5,000:58.33% | 5,000:58.33% | 10,000:61.25% | 25,000:53.33% | 50,000:49.17% | 75,000:44.58% | 100,000:44.58%\n"
     ]
    },
    {
     "name": "stderr",
     "output_type": "stream",
     "text": [
      "\n",
      "epoch-195 lr=['0.0050000'], tr/val_loss:  0.000704/  3.732486, tr: 100.00%, val:  57.92%, val_best:  62.50%: 100%|██████████| 62/62 [00:50<00:00,  1.23it/s]"
     ]
    },
    {
     "name": "stdout",
     "output_type": "stream",
     "text": [
      "5,000:57.92% | 5,000:57.92% | 10,000:60.83% | 25,000:52.92% | 50,000:49.58% | 75,000:45.42% | 100,000:45.42%\n"
     ]
    },
    {
     "name": "stderr",
     "output_type": "stream",
     "text": [
      "\n",
      "epoch-196 lr=['0.0050000'], tr/val_loss:  0.000537/  3.729261, tr: 100.00%, val:  58.33%, val_best:  62.50%: 100%|██████████| 62/62 [00:54<00:00,  1.14it/s]"
     ]
    },
    {
     "name": "stdout",
     "output_type": "stream",
     "text": [
      "5,000:58.33% | 5,000:58.33% | 10,000:61.25% | 25,000:53.33% | 50,000:49.17% | 75,000:44.58% | 100,000:44.17%\n"
     ]
    },
    {
     "name": "stderr",
     "output_type": "stream",
     "text": [
      "\n",
      "epoch-197 lr=['0.0050000'], tr/val_loss:  0.000500/  3.727464, tr: 100.00%, val:  58.33%, val_best:  62.50%: 100%|██████████| 62/62 [00:56<00:00,  1.10it/s]"
     ]
    },
    {
     "name": "stdout",
     "output_type": "stream",
     "text": [
      "5,000:58.33% | 5,000:58.33% | 10,000:61.25% | 25,000:53.33% | 50,000:49.58% | 75,000:44.58% | 100,000:44.58%\n"
     ]
    },
    {
     "name": "stderr",
     "output_type": "stream",
     "text": [
      "\n",
      "epoch-198 lr=['0.0050000'], tr/val_loss:  0.000422/  3.731935, tr: 100.00%, val:  58.75%, val_best:  62.50%: 100%|██████████| 62/62 [00:54<00:00,  1.14it/s]"
     ]
    },
    {
     "name": "stdout",
     "output_type": "stream",
     "text": [
      "5,000:58.75% | 5,000:58.75% | 10,000:61.67% | 25,000:53.33% | 50,000:49.58% | 75,000:44.58% | 100,000:43.75%\n"
     ]
    },
    {
     "name": "stderr",
     "output_type": "stream",
     "text": [
      "\n",
      "epoch-199 lr=['0.0050000'], tr/val_loss:  0.000536/  3.728956, tr: 100.00%, val:  58.75%, val_best:  62.50%: 100%|██████████| 62/62 [00:50<00:00,  1.24it/s]"
     ]
    },
    {
     "name": "stdout",
     "output_type": "stream",
     "text": [
      "5,000:58.75% | 5,000:58.75% | 10,000:61.67% | 25,000:52.50% | 50,000:49.58% | 75,000:44.17% | 100,000:44.17%\n"
     ]
    },
    {
     "name": "stderr",
     "output_type": "stream",
     "text": [
      "\n",
      "epoch-200 lr=['0.0050000'], tr/val_loss:  0.000436/  3.741322, tr: 100.00%, val:  58.75%, val_best:  62.50%: 100%|██████████| 62/62 [00:57<00:00,  1.08it/s]"
     ]
    },
    {
     "name": "stdout",
     "output_type": "stream",
     "text": [
      "5,000:58.75% | 5,000:58.75% | 10,000:61.25% | 25,000:52.92% | 50,000:49.58% | 75,000:44.58% | 100,000:44.58%\n"
     ]
    },
    {
     "name": "stderr",
     "output_type": "stream",
     "text": [
      "\n",
      "epoch-201 lr=['0.0050000'], tr/val_loss:  0.000440/  3.733328, tr: 100.00%, val:  58.33%, val_best:  62.50%: 100%|██████████| 62/62 [00:49<00:00,  1.26it/s]"
     ]
    },
    {
     "name": "stdout",
     "output_type": "stream",
     "text": [
      "5,000:58.33% | 5,000:58.33% | 10,000:61.25% | 25,000:52.92% | 50,000:49.58% | 75,000:45.00% | 100,000:45.00%\n"
     ]
    },
    {
     "name": "stderr",
     "output_type": "stream",
     "text": [
      "\n",
      "epoch-202 lr=['0.0050000'], tr/val_loss:  0.000661/  3.740561, tr: 100.00%, val:  58.75%, val_best:  62.50%: 100%|██████████| 62/62 [00:56<00:00,  1.11it/s]"
     ]
    },
    {
     "name": "stdout",
     "output_type": "stream",
     "text": [
      "5,000:58.75% | 5,000:58.75% | 10,000:61.25% | 25,000:52.92% | 50,000:49.17% | 75,000:45.00% | 100,000:45.42%\n"
     ]
    },
    {
     "name": "stderr",
     "output_type": "stream",
     "text": [
      "\n",
      "epoch-203 lr=['0.0050000'], tr/val_loss:  0.000439/  3.728715, tr: 100.00%, val:  58.75%, val_best:  62.50%: 100%|██████████| 62/62 [00:49<00:00,  1.26it/s]"
     ]
    },
    {
     "name": "stdout",
     "output_type": "stream",
     "text": [
      "5,000:58.75% | 5,000:58.75% | 10,000:61.25% | 25,000:52.50% | 50,000:49.17% | 75,000:45.00% | 100,000:45.83%\n"
     ]
    },
    {
     "name": "stderr",
     "output_type": "stream",
     "text": [
      "\n",
      "epoch-204 lr=['0.0050000'], tr/val_loss:  0.000358/  3.733588, tr: 100.00%, val:  58.33%, val_best:  62.50%: 100%|██████████| 62/62 [00:52<00:00,  1.17it/s]"
     ]
    },
    {
     "name": "stdout",
     "output_type": "stream",
     "text": [
      "5,000:58.33% | 5,000:58.33% | 10,000:60.42% | 25,000:52.92% | 50,000:49.58% | 75,000:43.75% | 100,000:45.83%\n"
     ]
    },
    {
     "name": "stderr",
     "output_type": "stream",
     "text": [
      "\n",
      "epoch-205 lr=['0.0050000'], tr/val_loss:  0.000370/  3.745918, tr: 100.00%, val:  58.33%, val_best:  62.50%: 100%|██████████| 62/62 [00:52<00:00,  1.18it/s]"
     ]
    },
    {
     "name": "stdout",
     "output_type": "stream",
     "text": [
      "5,000:58.33% | 5,000:58.33% | 10,000:60.42% | 25,000:53.33% | 50,000:49.58% | 75,000:43.75% | 100,000:45.00%\n"
     ]
    },
    {
     "name": "stderr",
     "output_type": "stream",
     "text": [
      "\n",
      "epoch-206 lr=['0.0050000'], tr/val_loss:  0.000364/  3.746511, tr: 100.00%, val:  58.75%, val_best:  62.50%: 100%|██████████| 62/62 [00:57<00:00,  1.09it/s]"
     ]
    },
    {
     "name": "stdout",
     "output_type": "stream",
     "text": [
      "5,000:58.75% | 5,000:58.75% | 10,000:60.42% | 25,000:53.33% | 50,000:49.58% | 75,000:44.17% | 100,000:45.00%\n"
     ]
    },
    {
     "name": "stderr",
     "output_type": "stream",
     "text": [
      "\n",
      "epoch-207 lr=['0.0050000'], tr/val_loss:  0.000346/  3.746827, tr: 100.00%, val:  58.75%, val_best:  62.50%: 100%|██████████| 62/62 [00:53<00:00,  1.17it/s]"
     ]
    },
    {
     "name": "stdout",
     "output_type": "stream",
     "text": [
      "5,000:58.75% | 5,000:58.75% | 10,000:60.42% | 25,000:53.75% | 50,000:50.00% | 75,000:43.75% | 100,000:45.00%\n"
     ]
    },
    {
     "name": "stderr",
     "output_type": "stream",
     "text": [
      "\n",
      "epoch-208 lr=['0.0050000'], tr/val_loss:  0.000470/  3.738088, tr: 100.00%, val:  57.92%, val_best:  62.50%: 100%|██████████| 62/62 [01:03<00:00,  1.02s/it]"
     ]
    },
    {
     "name": "stdout",
     "output_type": "stream",
     "text": [
      "5,000:57.92% | 5,000:57.92% | 10,000:60.42% | 25,000:53.75% | 50,000:50.00% | 75,000:44.58% | 100,000:45.42%\n"
     ]
    },
    {
     "name": "stderr",
     "output_type": "stream",
     "text": [
      "\n",
      "epoch-209 lr=['0.0050000'], tr/val_loss:  0.000316/  3.730965, tr: 100.00%, val:  58.75%, val_best:  62.50%: 100%|██████████| 62/62 [00:51<00:00,  1.20it/s]"
     ]
    },
    {
     "name": "stdout",
     "output_type": "stream",
     "text": [
      "5,000:58.75% | 5,000:58.75% | 10,000:60.83% | 25,000:53.33% | 50,000:49.58% | 75,000:44.17% | 100,000:45.00%\n"
     ]
    },
    {
     "name": "stderr",
     "output_type": "stream",
     "text": [
      "\n",
      "epoch-210 lr=['0.0050000'], tr/val_loss:  0.000296/  3.742388, tr: 100.00%, val:  58.33%, val_best:  62.50%: 100%|██████████| 62/62 [00:46<00:00,  1.32it/s]"
     ]
    },
    {
     "name": "stdout",
     "output_type": "stream",
     "text": [
      "5,000:58.33% | 5,000:58.33% | 10,000:61.25% | 25,000:53.33% | 50,000:49.58% | 75,000:45.00% | 100,000:45.00%\n"
     ]
    },
    {
     "name": "stderr",
     "output_type": "stream",
     "text": [
      "\n",
      "epoch-211 lr=['0.0050000'], tr/val_loss:  0.000318/  3.745691, tr: 100.00%, val:  57.92%, val_best:  62.50%: 100%|██████████| 62/62 [00:52<00:00,  1.18it/s]"
     ]
    },
    {
     "name": "stdout",
     "output_type": "stream",
     "text": [
      "5,000:57.92% | 5,000:57.92% | 10,000:61.25% | 25,000:53.33% | 50,000:50.00% | 75,000:45.42% | 100,000:45.42%\n"
     ]
    },
    {
     "name": "stderr",
     "output_type": "stream",
     "text": [
      "\n",
      "epoch-212 lr=['0.0050000'], tr/val_loss:  0.000586/  3.747854, tr: 100.00%, val:  58.33%, val_best:  62.50%: 100%|██████████| 62/62 [00:52<00:00,  1.18it/s]"
     ]
    },
    {
     "name": "stdout",
     "output_type": "stream",
     "text": [
      "5,000:58.33% | 5,000:58.33% | 10,000:61.25% | 25,000:53.75% | 50,000:49.58% | 75,000:45.00% | 100,000:44.58%\n"
     ]
    },
    {
     "name": "stderr",
     "output_type": "stream",
     "text": [
      "\n",
      "epoch-213 lr=['0.0050000'], tr/val_loss:  0.000323/  3.738546, tr: 100.00%, val:  58.33%, val_best:  62.50%: 100%|██████████| 62/62 [00:46<00:00,  1.32it/s]"
     ]
    },
    {
     "name": "stdout",
     "output_type": "stream",
     "text": [
      "5,000:58.33% | 5,000:58.33% | 10,000:60.83% | 25,000:53.75% | 50,000:49.58% | 75,000:45.00% | 100,000:44.58%\n"
     ]
    },
    {
     "name": "stderr",
     "output_type": "stream",
     "text": [
      "\n",
      "epoch-214 lr=['0.0050000'], tr/val_loss:  0.000376/  3.750757, tr: 100.00%, val:  58.33%, val_best:  62.50%: 100%|██████████| 62/62 [00:50<00:00,  1.23it/s]"
     ]
    },
    {
     "name": "stdout",
     "output_type": "stream",
     "text": [
      "5,000:58.33% | 5,000:58.33% | 10,000:61.25% | 25,000:54.58% | 50,000:49.58% | 75,000:45.00% | 100,000:44.58%\n"
     ]
    },
    {
     "name": "stderr",
     "output_type": "stream",
     "text": [
      "\n",
      "epoch-215 lr=['0.0050000'], tr/val_loss:  0.000321/  3.748666, tr: 100.00%, val:  58.75%, val_best:  62.50%: 100%|██████████| 62/62 [00:46<00:00,  1.35it/s]"
     ]
    },
    {
     "name": "stdout",
     "output_type": "stream",
     "text": [
      "5,000:58.75% | 5,000:58.75% | 10,000:61.67% | 25,000:54.58% | 50,000:49.58% | 75,000:45.42% | 100,000:43.75%\n"
     ]
    },
    {
     "name": "stderr",
     "output_type": "stream",
     "text": [
      "\n",
      "epoch-216 lr=['0.0050000'], tr/val_loss:  0.000403/  3.753300, tr: 100.00%, val:  58.33%, val_best:  62.50%: 100%|██████████| 62/62 [00:51<00:00,  1.21it/s]"
     ]
    },
    {
     "name": "stdout",
     "output_type": "stream",
     "text": [
      "5,000:58.33% | 5,000:58.33% | 10,000:60.00% | 25,000:54.17% | 50,000:49.58% | 75,000:45.00% | 100,000:43.75%\n"
     ]
    },
    {
     "name": "stderr",
     "output_type": "stream",
     "text": [
      "\n",
      "epoch-217 lr=['0.0050000'], tr/val_loss:  0.000338/  3.755747, tr: 100.00%, val:  58.75%, val_best:  62.50%: 100%|██████████| 62/62 [00:48<00:00,  1.27it/s]"
     ]
    },
    {
     "name": "stdout",
     "output_type": "stream",
     "text": [
      "5,000:58.75% | 5,000:58.75% | 10,000:60.42% | 25,000:54.58% | 50,000:49.58% | 75,000:45.42% | 100,000:44.17%\n"
     ]
    },
    {
     "name": "stderr",
     "output_type": "stream",
     "text": [
      "\n",
      "epoch-218 lr=['0.0050000'], tr/val_loss:  0.000309/  3.758970, tr: 100.00%, val:  59.17%, val_best:  62.50%: 100%|██████████| 62/62 [00:53<00:00,  1.15it/s]"
     ]
    },
    {
     "name": "stdout",
     "output_type": "stream",
     "text": [
      "5,000:59.17% | 5,000:59.17% | 10,000:60.83% | 25,000:54.58% | 50,000:49.58% | 75,000:45.42% | 100,000:43.75%\n"
     ]
    },
    {
     "name": "stderr",
     "output_type": "stream",
     "text": [
      "\n",
      "epoch-219 lr=['0.0050000'], tr/val_loss:  0.000285/  3.762132, tr: 100.00%, val:  58.75%, val_best:  62.50%: 100%|██████████| 62/62 [00:53<00:00,  1.16it/s]"
     ]
    },
    {
     "name": "stdout",
     "output_type": "stream",
     "text": [
      "5,000:58.75% | 5,000:58.75% | 10,000:61.25% | 25,000:54.58% | 50,000:49.58% | 75,000:45.00% | 100,000:44.17%\n"
     ]
    },
    {
     "name": "stderr",
     "output_type": "stream",
     "text": [
      "\n",
      "epoch-220 lr=['0.0050000'], tr/val_loss:  0.000303/  3.766817, tr: 100.00%, val:  58.75%, val_best:  62.50%: 100%|██████████| 62/62 [00:51<00:00,  1.21it/s]"
     ]
    },
    {
     "name": "stdout",
     "output_type": "stream",
     "text": [
      "5,000:58.75% | 5,000:58.75% | 10,000:60.83% | 25,000:54.58% | 50,000:49.17% | 75,000:45.00% | 100,000:43.75%\n"
     ]
    },
    {
     "name": "stderr",
     "output_type": "stream",
     "text": [
      "\n",
      "epoch-221 lr=['0.0050000'], tr/val_loss:  0.000265/  3.772047, tr: 100.00%, val:  58.33%, val_best:  62.50%: 100%|██████████| 62/62 [00:48<00:00,  1.29it/s]"
     ]
    },
    {
     "name": "stdout",
     "output_type": "stream",
     "text": [
      "5,000:58.33% | 5,000:58.33% | 10,000:60.42% | 25,000:54.17% | 50,000:49.17% | 75,000:45.00% | 100,000:43.75%\n"
     ]
    },
    {
     "name": "stderr",
     "output_type": "stream",
     "text": [
      "\n",
      "epoch-222 lr=['0.0050000'], tr/val_loss:  0.000286/  3.779039, tr: 100.00%, val:  59.58%, val_best:  62.50%: 100%|██████████| 62/62 [00:50<00:00,  1.24it/s]"
     ]
    },
    {
     "name": "stdout",
     "output_type": "stream",
     "text": [
      "5,000:59.58% | 5,000:59.58% | 10,000:60.42% | 25,000:54.17% | 50,000:48.75% | 75,000:45.42% | 100,000:43.33%\n"
     ]
    },
    {
     "name": "stderr",
     "output_type": "stream",
     "text": [
      "\n",
      "epoch-223 lr=['0.0050000'], tr/val_loss:  0.000255/  3.776967, tr: 100.00%, val:  59.17%, val_best:  62.50%: 100%|██████████| 62/62 [00:44<00:00,  1.38it/s]"
     ]
    },
    {
     "name": "stdout",
     "output_type": "stream",
     "text": [
      "5,000:59.17% | 5,000:59.17% | 10,000:60.42% | 25,000:54.17% | 50,000:49.17% | 75,000:46.67% | 100,000:43.75%\n"
     ]
    },
    {
     "name": "stderr",
     "output_type": "stream",
     "text": [
      "\n",
      "epoch-224 lr=['0.0050000'], tr/val_loss:  0.000320/  3.772740, tr: 100.00%, val:  59.17%, val_best:  62.50%: 100%|██████████| 62/62 [00:45<00:00,  1.37it/s]"
     ]
    },
    {
     "name": "stdout",
     "output_type": "stream",
     "text": [
      "5,000:59.17% | 5,000:59.17% | 10,000:60.42% | 25,000:54.58% | 50,000:49.17% | 75,000:45.83% | 100,000:43.75%\n"
     ]
    },
    {
     "name": "stderr",
     "output_type": "stream",
     "text": [
      "\n",
      "epoch-225 lr=['0.0050000'], tr/val_loss:  0.000322/  3.772177, tr: 100.00%, val:  59.17%, val_best:  62.50%: 100%|██████████| 62/62 [00:49<00:00,  1.25it/s]"
     ]
    },
    {
     "name": "stdout",
     "output_type": "stream",
     "text": [
      "5,000:59.17% | 5,000:59.17% | 10,000:60.42% | 25,000:53.75% | 50,000:49.17% | 75,000:46.25% | 100,000:43.75%\n"
     ]
    },
    {
     "name": "stderr",
     "output_type": "stream",
     "text": [
      "\n",
      "epoch-226 lr=['0.0050000'], tr/val_loss:  0.000264/  3.778603, tr: 100.00%, val:  59.17%, val_best:  62.50%: 100%|██████████| 62/62 [00:49<00:00,  1.24it/s]"
     ]
    },
    {
     "name": "stdout",
     "output_type": "stream",
     "text": [
      "5,000:59.17% | 5,000:59.17% | 10,000:60.00% | 25,000:53.75% | 50,000:49.17% | 75,000:45.42% | 100,000:43.75%\n"
     ]
    },
    {
     "name": "stderr",
     "output_type": "stream",
     "text": [
      "\n",
      "epoch-227 lr=['0.0050000'], tr/val_loss:  0.000282/  3.782388, tr: 100.00%, val:  59.17%, val_best:  62.50%: 100%|██████████| 62/62 [00:49<00:00,  1.26it/s]"
     ]
    },
    {
     "name": "stdout",
     "output_type": "stream",
     "text": [
      "5,000:59.17% | 5,000:59.17% | 10,000:60.42% | 25,000:53.75% | 50,000:49.17% | 75,000:45.42% | 100,000:44.58%\n"
     ]
    },
    {
     "name": "stderr",
     "output_type": "stream",
     "text": [
      "\n",
      "epoch-228 lr=['0.0050000'], tr/val_loss:  0.000290/  3.779541, tr: 100.00%, val:  58.75%, val_best:  62.50%: 100%|██████████| 62/62 [00:52<00:00,  1.18it/s]"
     ]
    },
    {
     "name": "stdout",
     "output_type": "stream",
     "text": [
      "5,000:58.75% | 5,000:58.75% | 10,000:60.42% | 25,000:53.75% | 50,000:49.17% | 75,000:45.42% | 100,000:44.17%\n"
     ]
    },
    {
     "name": "stderr",
     "output_type": "stream",
     "text": [
      "\n",
      "epoch-229 lr=['0.0050000'], tr/val_loss:  0.000429/  3.791005, tr: 100.00%, val:  58.33%, val_best:  62.50%: 100%|██████████| 62/62 [00:53<00:00,  1.17it/s]"
     ]
    },
    {
     "name": "stdout",
     "output_type": "stream",
     "text": [
      "5,000:58.33% | 5,000:58.33% | 10,000:60.42% | 25,000:54.17% | 50,000:48.75% | 75,000:44.58% | 100,000:44.17%\n"
     ]
    },
    {
     "name": "stderr",
     "output_type": "stream",
     "text": [
      "\n",
      "epoch-230 lr=['0.0050000'], tr/val_loss:  0.000319/  3.797757, tr: 100.00%, val:  58.75%, val_best:  62.50%: 100%|██████████| 62/62 [00:48<00:00,  1.27it/s]"
     ]
    },
    {
     "name": "stdout",
     "output_type": "stream",
     "text": [
      "5,000:58.75% | 5,000:58.75% | 10,000:60.42% | 25,000:53.33% | 50,000:48.75% | 75,000:45.00% | 100,000:43.75%\n"
     ]
    },
    {
     "name": "stderr",
     "output_type": "stream",
     "text": [
      "\n",
      "epoch-231 lr=['0.0050000'], tr/val_loss:  0.000267/  3.798030, tr: 100.00%, val:  58.33%, val_best:  62.50%: 100%|██████████| 62/62 [00:50<00:00,  1.23it/s]"
     ]
    },
    {
     "name": "stdout",
     "output_type": "stream",
     "text": [
      "5,000:58.33% | 5,000:58.33% | 10,000:60.42% | 25,000:53.33% | 50,000:48.75% | 75,000:45.42% | 100,000:43.75%\n"
     ]
    },
    {
     "name": "stderr",
     "output_type": "stream",
     "text": [
      "\n",
      "epoch-232 lr=['0.0050000'], tr/val_loss:  0.000255/  3.797945, tr: 100.00%, val:  58.75%, val_best:  62.50%: 100%|██████████| 62/62 [00:58<00:00,  1.06it/s]"
     ]
    },
    {
     "name": "stdout",
     "output_type": "stream",
     "text": [
      "5,000:58.75% | 5,000:58.75% | 10,000:60.42% | 25,000:54.17% | 50,000:48.75% | 75,000:45.42% | 100,000:43.75%\n"
     ]
    },
    {
     "name": "stderr",
     "output_type": "stream",
     "text": [
      "\n",
      "epoch-233 lr=['0.0050000'], tr/val_loss:  0.000238/  3.797966, tr: 100.00%, val:  58.75%, val_best:  62.50%: 100%|██████████| 62/62 [00:53<00:00,  1.17it/s]"
     ]
    },
    {
     "name": "stdout",
     "output_type": "stream",
     "text": [
      "5,000:58.75% | 5,000:58.75% | 10,000:60.00% | 25,000:54.17% | 50,000:48.75% | 75,000:45.00% | 100,000:43.75%\n"
     ]
    },
    {
     "name": "stderr",
     "output_type": "stream",
     "text": [
      "\n",
      "epoch-234 lr=['0.0050000'], tr/val_loss:  0.000237/  3.799960, tr: 100.00%, val:  58.75%, val_best:  62.50%: 100%|██████████| 62/62 [00:43<00:00,  1.43it/s]"
     ]
    },
    {
     "name": "stdout",
     "output_type": "stream",
     "text": [
      "5,000:58.75% | 5,000:58.75% | 10,000:60.42% | 25,000:54.17% | 50,000:48.75% | 75,000:44.58% | 100,000:44.17%\n"
     ]
    },
    {
     "name": "stderr",
     "output_type": "stream",
     "text": [
      "\n",
      "epoch-235 lr=['0.0050000'], tr/val_loss:  0.000244/  3.799435, tr: 100.00%, val:  58.75%, val_best:  62.50%: 100%|██████████| 62/62 [00:50<00:00,  1.23it/s]"
     ]
    },
    {
     "name": "stdout",
     "output_type": "stream",
     "text": [
      "5,000:58.75% | 5,000:58.75% | 10,000:60.42% | 25,000:53.75% | 50,000:48.75% | 75,000:45.00% | 100,000:44.17%\n"
     ]
    },
    {
     "name": "stderr",
     "output_type": "stream",
     "text": [
      "\n",
      "epoch-236 lr=['0.0050000'], tr/val_loss:  0.000241/  3.802443, tr: 100.00%, val:  58.75%, val_best:  62.50%: 100%|██████████| 62/62 [00:54<00:00,  1.14it/s]"
     ]
    },
    {
     "name": "stdout",
     "output_type": "stream",
     "text": [
      "5,000:58.75% | 5,000:58.75% | 10,000:60.42% | 25,000:53.75% | 50,000:48.75% | 75,000:45.00% | 100,000:44.17%\n"
     ]
    },
    {
     "name": "stderr",
     "output_type": "stream",
     "text": [
      "\n",
      "epoch-237 lr=['0.0050000'], tr/val_loss:  0.000254/  3.798576, tr: 100.00%, val:  58.33%, val_best:  62.50%: 100%|██████████| 62/62 [00:53<00:00,  1.16it/s]"
     ]
    },
    {
     "name": "stdout",
     "output_type": "stream",
     "text": [
      "5,000:58.33% | 5,000:58.33% | 10,000:60.42% | 25,000:53.75% | 50,000:48.75% | 75,000:45.00% | 100,000:44.17%\n"
     ]
    },
    {
     "name": "stderr",
     "output_type": "stream",
     "text": [
      "\n",
      "epoch-238 lr=['0.0050000'], tr/val_loss:  0.000247/  3.806952, tr: 100.00%, val:  58.33%, val_best:  62.50%: 100%|██████████| 62/62 [00:55<00:00,  1.11it/s]"
     ]
    },
    {
     "name": "stdout",
     "output_type": "stream",
     "text": [
      "5,000:58.33% | 5,000:58.33% | 10,000:60.42% | 25,000:53.33% | 50,000:48.75% | 75,000:44.58% | 100,000:44.17%\n"
     ]
    },
    {
     "name": "stderr",
     "output_type": "stream",
     "text": [
      "\n",
      "epoch-239 lr=['0.0050000'], tr/val_loss:  0.000238/  3.806201, tr: 100.00%, val:  58.33%, val_best:  62.50%: 100%|██████████| 62/62 [00:58<00:00,  1.06it/s]"
     ]
    },
    {
     "name": "stdout",
     "output_type": "stream",
     "text": [
      "5,000:58.33% | 5,000:58.33% | 10,000:60.42% | 25,000:53.75% | 50,000:48.75% | 75,000:45.00% | 100,000:44.17%\n"
     ]
    },
    {
     "name": "stderr",
     "output_type": "stream",
     "text": [
      "\n",
      "epoch-240 lr=['0.0050000'], tr/val_loss:  0.000295/  3.815746, tr: 100.00%, val:  58.33%, val_best:  62.50%: 100%|██████████| 62/62 [00:48<00:00,  1.27it/s]"
     ]
    },
    {
     "name": "stdout",
     "output_type": "stream",
     "text": [
      "5,000:58.33% | 5,000:58.33% | 10,000:60.42% | 25,000:53.33% | 50,000:48.75% | 75,000:45.00% | 100,000:44.58%\n"
     ]
    },
    {
     "name": "stderr",
     "output_type": "stream",
     "text": [
      "\n",
      "epoch-241 lr=['0.0050000'], tr/val_loss:  0.000322/  3.815666, tr: 100.00%, val:  58.33%, val_best:  62.50%: 100%|██████████| 62/62 [00:52<00:00,  1.18it/s]"
     ]
    },
    {
     "name": "stdout",
     "output_type": "stream",
     "text": [
      "5,000:58.33% | 5,000:58.33% | 10,000:60.83% | 25,000:53.75% | 50,000:48.75% | 75,000:45.83% | 100,000:44.17%\n"
     ]
    },
    {
     "name": "stderr",
     "output_type": "stream",
     "text": [
      "\n",
      "epoch-242 lr=['0.0050000'], tr/val_loss:  0.000244/  3.814740, tr: 100.00%, val:  58.33%, val_best:  62.50%: 100%|██████████| 62/62 [00:54<00:00,  1.14it/s]"
     ]
    },
    {
     "name": "stdout",
     "output_type": "stream",
     "text": [
      "5,000:58.33% | 5,000:58.33% | 10,000:60.83% | 25,000:53.75% | 50,000:48.75% | 75,000:45.42% | 100,000:44.17%\n"
     ]
    },
    {
     "name": "stderr",
     "output_type": "stream",
     "text": [
      "\n",
      "epoch-243 lr=['0.0050000'], tr/val_loss:  0.000233/  3.812222, tr: 100.00%, val:  58.33%, val_best:  62.50%: 100%|██████████| 62/62 [00:53<00:00,  1.16it/s]"
     ]
    },
    {
     "name": "stdout",
     "output_type": "stream",
     "text": [
      "5,000:58.33% | 5,000:58.33% | 10,000:60.42% | 25,000:53.75% | 50,000:48.75% | 75,000:45.00% | 100,000:43.75%\n"
     ]
    },
    {
     "name": "stderr",
     "output_type": "stream",
     "text": [
      "\n",
      "epoch-244 lr=['0.0050000'], tr/val_loss:  0.000274/  3.816328, tr: 100.00%, val:  58.33%, val_best:  62.50%: 100%|██████████| 62/62 [00:51<00:00,  1.20it/s]"
     ]
    },
    {
     "name": "stdout",
     "output_type": "stream",
     "text": [
      "5,000:58.33% | 5,000:58.33% | 10,000:60.42% | 25,000:53.75% | 50,000:48.75% | 75,000:45.00% | 100,000:43.75%\n"
     ]
    },
    {
     "name": "stderr",
     "output_type": "stream",
     "text": [
      "\n",
      "epoch-245 lr=['0.0050000'], tr/val_loss:  0.000253/  3.808520, tr: 100.00%, val:  58.33%, val_best:  62.50%: 100%|██████████| 62/62 [00:52<00:00,  1.18it/s]"
     ]
    },
    {
     "name": "stdout",
     "output_type": "stream",
     "text": [
      "5,000:58.33% | 5,000:58.33% | 10,000:60.42% | 25,000:53.75% | 50,000:48.75% | 75,000:45.42% | 100,000:44.17%\n"
     ]
    },
    {
     "name": "stderr",
     "output_type": "stream",
     "text": [
      "\n",
      "epoch-246 lr=['0.0050000'], tr/val_loss:  0.000257/  3.820604, tr: 100.00%, val:  58.33%, val_best:  62.50%: 100%|██████████| 62/62 [00:56<00:00,  1.10it/s]"
     ]
    },
    {
     "name": "stdout",
     "output_type": "stream",
     "text": [
      "5,000:58.33% | 5,000:58.33% | 10,000:60.42% | 25,000:53.75% | 50,000:48.75% | 75,000:45.42% | 100,000:44.58%\n"
     ]
    },
    {
     "name": "stderr",
     "output_type": "stream",
     "text": [
      "\n",
      "epoch-247 lr=['0.0050000'], tr/val_loss:  0.000260/  3.815435, tr: 100.00%, val:  58.75%, val_best:  62.50%: 100%|██████████| 62/62 [00:48<00:00,  1.27it/s]"
     ]
    },
    {
     "name": "stdout",
     "output_type": "stream",
     "text": [
      "5,000:58.75% | 5,000:58.75% | 10,000:60.00% | 25,000:53.75% | 50,000:48.75% | 75,000:45.83% | 100,000:44.58%\n"
     ]
    },
    {
     "name": "stderr",
     "output_type": "stream",
     "text": [
      "\n",
      "epoch-248 lr=['0.0050000'], tr/val_loss:  0.000254/  3.821501, tr: 100.00%, val:  58.33%, val_best:  62.50%: 100%|██████████| 62/62 [00:48<00:00,  1.29it/s]"
     ]
    },
    {
     "name": "stdout",
     "output_type": "stream",
     "text": [
      "5,000:58.33% | 5,000:58.33% | 10,000:60.83% | 25,000:53.75% | 50,000:48.75% | 75,000:45.42% | 100,000:44.58%\n"
     ]
    },
    {
     "name": "stderr",
     "output_type": "stream",
     "text": [
      "\n",
      "epoch-249 lr=['0.0050000'], tr/val_loss:  0.000258/  3.819738, tr: 100.00%, val:  58.75%, val_best:  62.50%: 100%|██████████| 62/62 [00:47<00:00,  1.30it/s]"
     ]
    },
    {
     "name": "stdout",
     "output_type": "stream",
     "text": [
      "5,000:58.75% | 5,000:58.75% | 10,000:60.42% | 25,000:54.17% | 50,000:48.75% | 75,000:45.42% | 100,000:44.58%\n"
     ]
    },
    {
     "name": "stderr",
     "output_type": "stream",
     "text": [
      "\n",
      "epoch-250 lr=['0.0050000'], tr/val_loss:  0.000250/  3.823871, tr: 100.00%, val:  58.75%, val_best:  62.50%: 100%|██████████| 62/62 [00:47<00:00,  1.31it/s]"
     ]
    },
    {
     "name": "stdout",
     "output_type": "stream",
     "text": [
      "5,000:58.75% | 5,000:58.75% | 10,000:60.00% | 25,000:54.17% | 50,000:48.75% | 75,000:45.00% | 100,000:45.00%\n"
     ]
    },
    {
     "name": "stderr",
     "output_type": "stream",
     "text": [
      "\n",
      "epoch-251 lr=['0.0050000'], tr/val_loss:  0.000443/  3.817826, tr: 100.00%, val:  58.33%, val_best:  62.50%: 100%|██████████| 62/62 [00:53<00:00,  9.02s/it]"
     ]
    },
    {
     "name": "stdout",
     "output_type": "stream",
     "text": [
      "5,000:58.33% | 5,000:58.33% | 10,000:60.00% | 25,000:53.33% | 50,000:49.17% | 75,000:45.00% | 100,000:45.00%\n"
     ]
    },
    {
     "name": "stderr",
     "output_type": "stream",
     "text": [
      "epoch-251 lr=['0.0050000'], tr/val_loss:  0.000443/  3.817826, tr: 100.00%, val:  58.33%, val_best:  62.50%: 100%|██████████| 62/62 [00:53<00:00,  1.16it/s]\n",
      "epoch-252 lr=['0.0050000'], tr/val_loss:  0.000424/  3.815203, tr: 100.00%, val:  59.17%, val_best:  62.50%: 100%|██████████| 62/62 [00:43<00:00,  1.43it/s]"
     ]
    },
    {
     "name": "stdout",
     "output_type": "stream",
     "text": [
      "5,000:59.17% | 5,000:59.17% | 10,000:60.00% | 25,000:53.75% | 50,000:48.75% | 75,000:45.00% | 100,000:44.58%\n"
     ]
    },
    {
     "name": "stderr",
     "output_type": "stream",
     "text": [
      "\n",
      "epoch-253 lr=['0.0050000'], tr/val_loss:  0.000318/  3.825090, tr: 100.00%, val:  58.33%, val_best:  62.50%: 100%|██████████| 62/62 [00:53<00:00,  1.15it/s]"
     ]
    },
    {
     "name": "stdout",
     "output_type": "stream",
     "text": [
      "5,000:58.33% | 5,000:58.33% | 10,000:60.42% | 25,000:53.75% | 50,000:49.17% | 75,000:45.00% | 100,000:44.58%\n"
     ]
    },
    {
     "name": "stderr",
     "output_type": "stream",
     "text": [
      "\n",
      "epoch-254 lr=['0.0050000'], tr/val_loss:  0.000557/  3.833449, tr: 100.00%, val:  58.33%, val_best:  62.50%: 100%|██████████| 62/62 [00:51<00:00,  1.20it/s]"
     ]
    },
    {
     "name": "stdout",
     "output_type": "stream",
     "text": [
      "5,000:58.33% | 5,000:58.33% | 10,000:60.42% | 25,000:54.17% | 50,000:48.75% | 75,000:44.58% | 100,000:44.58%\n"
     ]
    },
    {
     "name": "stderr",
     "output_type": "stream",
     "text": [
      "\n",
      "epoch-255 lr=['0.0050000'], tr/val_loss:  0.000226/  3.832186, tr: 100.00%, val:  58.75%, val_best:  62.50%: 100%|██████████| 62/62 [00:48<00:00,  1.27it/s]"
     ]
    },
    {
     "name": "stdout",
     "output_type": "stream",
     "text": [
      "5,000:58.75% | 5,000:58.75% | 10,000:60.00% | 25,000:54.17% | 50,000:48.75% | 75,000:44.58% | 100,000:44.58%\n"
     ]
    },
    {
     "name": "stderr",
     "output_type": "stream",
     "text": [
      "\n",
      "epoch-256 lr=['0.0050000'], tr/val_loss:  0.000236/  3.838701, tr: 100.00%, val:  58.75%, val_best:  62.50%: 100%|██████████| 62/62 [00:51<00:00,  1.21it/s]"
     ]
    },
    {
     "name": "stdout",
     "output_type": "stream",
     "text": [
      "5,000:58.75% | 5,000:58.75% | 10,000:60.00% | 25,000:54.17% | 50,000:48.75% | 75,000:44.58% | 100,000:45.00%\n"
     ]
    },
    {
     "name": "stderr",
     "output_type": "stream",
     "text": [
      "\n",
      "epoch-257 lr=['0.0050000'], tr/val_loss:  0.000221/  3.837615, tr: 100.00%, val:  58.75%, val_best:  62.50%: 100%|██████████| 62/62 [00:57<00:00,  1.08it/s]"
     ]
    },
    {
     "name": "stdout",
     "output_type": "stream",
     "text": [
      "5,000:58.75% | 5,000:58.75% | 10,000:60.42% | 25,000:54.17% | 50,000:48.75% | 75,000:45.00% | 100,000:45.00%\n"
     ]
    },
    {
     "name": "stderr",
     "output_type": "stream",
     "text": [
      "\n",
      "epoch-258 lr=['0.0050000'], tr/val_loss:  0.000213/  3.831202, tr: 100.00%, val:  58.75%, val_best:  62.50%: 100%|██████████| 62/62 [00:55<00:00,  1.11it/s]"
     ]
    },
    {
     "name": "stdout",
     "output_type": "stream",
     "text": [
      "5,000:58.75% | 5,000:58.75% | 10,000:60.00% | 25,000:54.17% | 50,000:48.75% | 75,000:45.00% | 100,000:44.58%\n"
     ]
    },
    {
     "name": "stderr",
     "output_type": "stream",
     "text": [
      "\n",
      "epoch-259 lr=['0.0050000'], tr/val_loss:  0.000213/  3.834825, tr: 100.00%, val:  58.75%, val_best:  62.50%: 100%|██████████| 62/62 [00:48<00:00,  1.28it/s]"
     ]
    },
    {
     "name": "stdout",
     "output_type": "stream",
     "text": [
      "5,000:58.75% | 5,000:58.75% | 10,000:60.00% | 25,000:54.58% | 50,000:48.75% | 75,000:44.58% | 100,000:44.58%\n"
     ]
    },
    {
     "name": "stderr",
     "output_type": "stream",
     "text": [
      "\n",
      "epoch-260 lr=['0.0050000'], tr/val_loss:  0.000211/  3.839359, tr: 100.00%, val:  59.17%, val_best:  62.50%: 100%|██████████| 62/62 [00:53<00:00,  1.17it/s]"
     ]
    },
    {
     "name": "stdout",
     "output_type": "stream",
     "text": [
      "5,000:59.17% | 5,000:59.17% | 10,000:60.00% | 25,000:54.58% | 50,000:48.75% | 75,000:45.00% | 100,000:44.58%\n"
     ]
    },
    {
     "name": "stderr",
     "output_type": "stream",
     "text": [
      "\n",
      "epoch-261 lr=['0.0050000'], tr/val_loss:  0.000209/  3.842959, tr: 100.00%, val:  58.75%, val_best:  62.50%: 100%|██████████| 62/62 [00:46<00:00,  1.34it/s]"
     ]
    },
    {
     "name": "stdout",
     "output_type": "stream",
     "text": [
      "5,000:58.75% | 5,000:58.75% | 10,000:60.00% | 25,000:54.17% | 50,000:48.75% | 75,000:45.00% | 100,000:44.58%\n"
     ]
    },
    {
     "name": "stderr",
     "output_type": "stream",
     "text": [
      "\n",
      "epoch-262 lr=['0.0050000'], tr/val_loss:  0.000207/  3.835612, tr: 100.00%, val:  58.33%, val_best:  62.50%: 100%|██████████| 62/62 [00:47<00:00,  1.31it/s]"
     ]
    },
    {
     "name": "stdout",
     "output_type": "stream",
     "text": [
      "5,000:58.33% | 5,000:58.33% | 10,000:59.58% | 25,000:54.17% | 50,000:48.75% | 75,000:45.00% | 100,000:44.17%\n"
     ]
    },
    {
     "name": "stderr",
     "output_type": "stream",
     "text": [
      "\n",
      "epoch-263 lr=['0.0050000'], tr/val_loss:  0.000195/  3.838791, tr: 100.00%, val:  58.75%, val_best:  62.50%:  97%|█████████▋| 60/62 [00:41<00:00,  9.14it/s]"
     ]
    },
    {
     "name": "stdout",
     "output_type": "stream",
     "text": [
      "5,000:58.75% | 5,000:58.75% | 10,000:59.58% | 25,000:53.75% | 50,000:48.75% | 75,000:45.00% | 100,000:45.00%\n"
     ]
    },
    {
     "name": "stderr",
     "output_type": "stream",
     "text": [
      "epoch-263 lr=['0.0050000'], tr/val_loss:  0.000195/  3.838791, tr: 100.00%, val:  58.75%, val_best:  62.50%: 100%|██████████| 62/62 [00:42<00:00,  1.47it/s]\n",
      "epoch-264 lr=['0.0050000'], tr/val_loss:  0.000194/  3.838398, tr: 100.00%, val:  58.75%, val_best:  62.50%: 100%|██████████| 62/62 [00:46<00:00,  1.34it/s]"
     ]
    },
    {
     "name": "stdout",
     "output_type": "stream",
     "text": [
      "5,000:58.75% | 5,000:58.75% | 10,000:60.00% | 25,000:53.75% | 50,000:48.75% | 75,000:45.00% | 100,000:45.00%\n"
     ]
    },
    {
     "name": "stderr",
     "output_type": "stream",
     "text": [
      "\n",
      "epoch-265 lr=['0.0050000'], tr/val_loss:  0.000199/  3.839678, tr: 100.00%, val:  58.75%, val_best:  62.50%: 100%|██████████| 62/62 [00:47<00:00,  1.30it/s]"
     ]
    },
    {
     "name": "stdout",
     "output_type": "stream",
     "text": [
      "5,000:58.75% | 5,000:58.75% | 10,000:59.58% | 25,000:53.75% | 50,000:48.75% | 75,000:45.00% | 100,000:45.00%\n"
     ]
    },
    {
     "name": "stderr",
     "output_type": "stream",
     "text": [
      "\n",
      "epoch-266 lr=['0.0050000'], tr/val_loss:  0.000189/  3.840585, tr: 100.00%, val:  58.75%, val_best:  62.50%: 100%|██████████| 62/62 [00:56<00:00,  1.09it/s]"
     ]
    },
    {
     "name": "stdout",
     "output_type": "stream",
     "text": [
      "5,000:58.75% | 5,000:58.75% | 10,000:59.58% | 25,000:54.17% | 50,000:48.75% | 75,000:45.00% | 100,000:45.00%\n"
     ]
    },
    {
     "name": "stderr",
     "output_type": "stream",
     "text": [
      "\n",
      "epoch-267 lr=['0.0050000'], tr/val_loss:  0.000195/  3.838042, tr: 100.00%, val:  59.17%, val_best:  62.50%: 100%|██████████| 62/62 [00:50<00:00,  1.24it/s]"
     ]
    },
    {
     "name": "stdout",
     "output_type": "stream",
     "text": [
      "5,000:59.17% | 5,000:59.17% | 10,000:59.58% | 25,000:53.75% | 50,000:48.75% | 75,000:45.00% | 100,000:45.42%\n"
     ]
    },
    {
     "name": "stderr",
     "output_type": "stream",
     "text": [
      "\n",
      "epoch-268 lr=['0.0050000'], tr/val_loss:  0.000199/  3.845579, tr: 100.00%, val:  58.33%, val_best:  62.50%: 100%|██████████| 62/62 [00:55<00:00,  1.12it/s]"
     ]
    },
    {
     "name": "stdout",
     "output_type": "stream",
     "text": [
      "5,000:58.33% | 5,000:58.33% | 10,000:59.58% | 25,000:53.75% | 50,000:48.75% | 75,000:45.00% | 100,000:45.00%\n"
     ]
    },
    {
     "name": "stderr",
     "output_type": "stream",
     "text": [
      "\n",
      "epoch-269 lr=['0.0050000'], tr/val_loss:  0.000189/  3.845941, tr: 100.00%, val:  58.33%, val_best:  62.50%: 100%|██████████| 62/62 [00:56<00:00,  1.10it/s]"
     ]
    },
    {
     "name": "stdout",
     "output_type": "stream",
     "text": [
      "5,000:58.33% | 5,000:58.33% | 10,000:59.58% | 25,000:54.17% | 50,000:48.75% | 75,000:44.58% | 100,000:45.00%\n"
     ]
    },
    {
     "name": "stderr",
     "output_type": "stream",
     "text": [
      "\n",
      "epoch-270 lr=['0.0050000'], tr/val_loss:  0.000206/  3.851923, tr: 100.00%, val:  58.33%, val_best:  62.50%: 100%|██████████| 62/62 [00:57<00:00,  1.08it/s]"
     ]
    },
    {
     "name": "stdout",
     "output_type": "stream",
     "text": [
      "5,000:58.33% | 5,000:58.33% | 10,000:60.00% | 25,000:53.75% | 50,000:48.75% | 75,000:44.58% | 100,000:44.58%\n"
     ]
    },
    {
     "name": "stderr",
     "output_type": "stream",
     "text": [
      "\n",
      "epoch-271 lr=['0.0050000'], tr/val_loss:  0.000188/  3.852272, tr: 100.00%, val:  58.33%, val_best:  62.50%: 100%|██████████| 62/62 [00:53<00:00,  1.16it/s]"
     ]
    },
    {
     "name": "stdout",
     "output_type": "stream",
     "text": [
      "5,000:58.33% | 5,000:58.33% | 10,000:59.58% | 25,000:53.33% | 50,000:48.75% | 75,000:45.00% | 100,000:44.58%\n"
     ]
    },
    {
     "name": "stderr",
     "output_type": "stream",
     "text": [
      "\n",
      "epoch-272 lr=['0.0050000'], tr/val_loss:  0.000181/  3.851135, tr: 100.00%, val:  58.33%, val_best:  62.50%: 100%|██████████| 62/62 [00:48<00:00,  1.27it/s]"
     ]
    },
    {
     "name": "stdout",
     "output_type": "stream",
     "text": [
      "5,000:58.33% | 5,000:58.33% | 10,000:60.00% | 25,000:53.33% | 50,000:48.75% | 75,000:45.00% | 100,000:45.00%\n"
     ]
    },
    {
     "name": "stderr",
     "output_type": "stream",
     "text": [
      "\n",
      "epoch-273 lr=['0.0050000'], tr/val_loss:  0.000194/  3.850540, tr: 100.00%, val:  58.33%, val_best:  62.50%: 100%|██████████| 62/62 [00:47<00:00,  1.29it/s]"
     ]
    },
    {
     "name": "stdout",
     "output_type": "stream",
     "text": [
      "5,000:58.33% | 5,000:58.33% | 10,000:60.00% | 25,000:53.33% | 50,000:48.75% | 75,000:45.00% | 100,000:45.00%\n"
     ]
    },
    {
     "name": "stderr",
     "output_type": "stream",
     "text": [
      "\n",
      "epoch-274 lr=['0.0050000'], tr/val_loss:  0.000192/  3.852951, tr: 100.00%, val:  58.33%, val_best:  62.50%: 100%|██████████| 62/62 [00:46<00:00,  1.34it/s]"
     ]
    },
    {
     "name": "stdout",
     "output_type": "stream",
     "text": [
      "5,000:58.33% | 5,000:58.33% | 10,000:60.00% | 25,000:53.33% | 50,000:48.75% | 75,000:45.00% | 100,000:45.00%\n"
     ]
    },
    {
     "name": "stderr",
     "output_type": "stream",
     "text": [
      "\n",
      "epoch-275 lr=['0.0050000'], tr/val_loss:  0.000181/  3.850488, tr: 100.00%, val:  58.33%, val_best:  62.50%: 100%|██████████| 62/62 [01:00<00:00,  1.03it/s]"
     ]
    },
    {
     "name": "stdout",
     "output_type": "stream",
     "text": [
      "5,000:58.33% | 5,000:58.33% | 10,000:59.58% | 25,000:53.33% | 50,000:48.75% | 75,000:44.58% | 100,000:45.00%\n"
     ]
    },
    {
     "name": "stderr",
     "output_type": "stream",
     "text": [
      "\n",
      "epoch-276 lr=['0.0050000'], tr/val_loss:  0.000174/  3.852462, tr: 100.00%, val:  58.33%, val_best:  62.50%: 100%|██████████| 62/62 [00:47<00:00,  1.32it/s]"
     ]
    },
    {
     "name": "stdout",
     "output_type": "stream",
     "text": [
      "5,000:58.33% | 5,000:58.33% | 10,000:59.58% | 25,000:53.33% | 50,000:49.17% | 75,000:44.58% | 100,000:45.00%\n"
     ]
    },
    {
     "name": "stderr",
     "output_type": "stream",
     "text": [
      "\n",
      "epoch-277 lr=['0.0050000'], tr/val_loss:  0.000190/  3.859326, tr: 100.00%, val:  58.33%, val_best:  62.50%: 100%|██████████| 62/62 [00:56<00:00,  1.09it/s]"
     ]
    },
    {
     "name": "stdout",
     "output_type": "stream",
     "text": [
      "5,000:58.33% | 5,000:58.33% | 10,000:59.58% | 25,000:53.33% | 50,000:49.17% | 75,000:45.00% | 100,000:45.42%\n"
     ]
    },
    {
     "name": "stderr",
     "output_type": "stream",
     "text": [
      "\n",
      "epoch-278 lr=['0.0050000'], tr/val_loss:  0.000181/  3.858713, tr: 100.00%, val:  58.33%, val_best:  62.50%: 100%|██████████| 62/62 [00:52<00:00,  1.18it/s]"
     ]
    },
    {
     "name": "stdout",
     "output_type": "stream",
     "text": [
      "5,000:58.33% | 5,000:58.33% | 10,000:60.00% | 25,000:53.75% | 50,000:49.17% | 75,000:44.58% | 100,000:45.00%\n"
     ]
    },
    {
     "name": "stderr",
     "output_type": "stream",
     "text": [
      "\n",
      "epoch-279 lr=['0.0050000'], tr/val_loss:  0.000180/  3.856282, tr: 100.00%, val:  58.33%, val_best:  62.50%: 100%|██████████| 62/62 [00:52<00:00,  1.18it/s]"
     ]
    },
    {
     "name": "stdout",
     "output_type": "stream",
     "text": [
      "5,000:58.33% | 5,000:58.33% | 10,000:60.00% | 25,000:53.75% | 50,000:49.17% | 75,000:45.00% | 100,000:45.42%\n"
     ]
    },
    {
     "name": "stderr",
     "output_type": "stream",
     "text": [
      "\n",
      "epoch-280 lr=['0.0050000'], tr/val_loss:  0.000175/  3.859189, tr: 100.00%, val:  58.33%, val_best:  62.50%: 100%|██████████| 62/62 [00:54<00:00,  1.15it/s]"
     ]
    },
    {
     "name": "stdout",
     "output_type": "stream",
     "text": [
      "5,000:58.33% | 5,000:58.33% | 10,000:60.42% | 25,000:53.75% | 50,000:48.75% | 75,000:45.00% | 100,000:45.42%\n"
     ]
    },
    {
     "name": "stderr",
     "output_type": "stream",
     "text": [
      "\n",
      "epoch-281 lr=['0.0050000'], tr/val_loss:  0.000177/  3.859407, tr: 100.00%, val:  58.33%, val_best:  62.50%: 100%|██████████| 62/62 [00:47<00:00,  1.31it/s]"
     ]
    },
    {
     "name": "stdout",
     "output_type": "stream",
     "text": [
      "5,000:58.33% | 5,000:58.33% | 10,000:60.00% | 25,000:53.75% | 50,000:48.75% | 75,000:45.00% | 100,000:45.42%\n"
     ]
    },
    {
     "name": "stderr",
     "output_type": "stream",
     "text": [
      "\n",
      "epoch-282 lr=['0.0050000'], tr/val_loss:  0.000183/  3.860722, tr: 100.00%, val:  58.33%, val_best:  62.50%: 100%|██████████| 62/62 [00:56<00:00,  1.11it/s]"
     ]
    },
    {
     "name": "stdout",
     "output_type": "stream",
     "text": [
      "5,000:58.33% | 5,000:58.33% | 10,000:60.00% | 25,000:53.75% | 50,000:48.75% | 75,000:45.00% | 100,000:45.42%\n"
     ]
    },
    {
     "name": "stderr",
     "output_type": "stream",
     "text": [
      "\n",
      "epoch-283 lr=['0.0050000'], tr/val_loss:  0.000188/  3.862341, tr: 100.00%, val:  58.33%, val_best:  62.50%: 100%|██████████| 62/62 [00:51<00:00,  1.21it/s]"
     ]
    },
    {
     "name": "stdout",
     "output_type": "stream",
     "text": [
      "5,000:58.33% | 5,000:58.33% | 10,000:60.42% | 25,000:53.75% | 50,000:48.75% | 75,000:45.00% | 100,000:45.42%\n"
     ]
    },
    {
     "name": "stderr",
     "output_type": "stream",
     "text": [
      "\n",
      "epoch-284 lr=['0.0050000'], tr/val_loss:  0.000175/  3.861361, tr: 100.00%, val:  58.33%, val_best:  62.50%: 100%|██████████| 62/62 [00:52<00:00,  1.18it/s]"
     ]
    },
    {
     "name": "stdout",
     "output_type": "stream",
     "text": [
      "5,000:58.33% | 5,000:58.33% | 10,000:60.42% | 25,000:53.75% | 50,000:48.75% | 75,000:45.00% | 100,000:45.42%\n"
     ]
    },
    {
     "name": "stderr",
     "output_type": "stream",
     "text": [
      "\n",
      "epoch-285 lr=['0.0050000'], tr/val_loss:  0.000164/  3.862132, tr: 100.00%, val:  58.33%, val_best:  62.50%: 100%|██████████| 62/62 [00:50<00:00,  1.22it/s]"
     ]
    },
    {
     "name": "stdout",
     "output_type": "stream",
     "text": [
      "5,000:58.33% | 5,000:58.33% | 10,000:60.42% | 25,000:53.33% | 50,000:48.75% | 75,000:44.58% | 100,000:45.00%\n"
     ]
    },
    {
     "name": "stderr",
     "output_type": "stream",
     "text": [
      "\n",
      "epoch-286 lr=['0.0050000'], tr/val_loss:  0.000165/  3.859370, tr: 100.00%, val:  58.33%, val_best:  62.50%: 100%|██████████| 62/62 [00:50<00:00,  1.23it/s]"
     ]
    },
    {
     "name": "stdout",
     "output_type": "stream",
     "text": [
      "5,000:58.33% | 5,000:58.33% | 10,000:60.42% | 25,000:53.33% | 50,000:48.75% | 75,000:44.58% | 100,000:45.42%\n"
     ]
    },
    {
     "name": "stderr",
     "output_type": "stream",
     "text": [
      "\n",
      "epoch-287 lr=['0.0050000'], tr/val_loss:  0.000187/  3.858870, tr: 100.00%, val:  58.33%, val_best:  62.50%: 100%|██████████| 62/62 [00:47<00:00,  1.30it/s]"
     ]
    },
    {
     "name": "stdout",
     "output_type": "stream",
     "text": [
      "5,000:58.33% | 5,000:58.33% | 10,000:60.42% | 25,000:53.33% | 50,000:48.75% | 75,000:44.58% | 100,000:45.00%\n"
     ]
    },
    {
     "name": "stderr",
     "output_type": "stream",
     "text": [
      "\n",
      "epoch-288 lr=['0.0050000'], tr/val_loss:  0.000176/  3.856729, tr: 100.00%, val:  58.33%, val_best:  62.50%: 100%|██████████| 62/62 [00:51<00:00,  1.21it/s]"
     ]
    },
    {
     "name": "stdout",
     "output_type": "stream",
     "text": [
      "5,000:58.33% | 5,000:58.33% | 10,000:60.42% | 25,000:53.33% | 50,000:48.75% | 75,000:44.58% | 100,000:45.00%\n"
     ]
    },
    {
     "name": "stderr",
     "output_type": "stream",
     "text": [
      "\n",
      "epoch-289 lr=['0.0050000'], tr/val_loss:  0.000167/  3.854508, tr: 100.00%, val:  58.33%, val_best:  62.50%: 100%|██████████| 62/62 [00:54<00:00,  1.15it/s]"
     ]
    },
    {
     "name": "stdout",
     "output_type": "stream",
     "text": [
      "5,000:58.33% | 5,000:58.33% | 10,000:60.42% | 25,000:53.33% | 50,000:49.17% | 75,000:45.00% | 100,000:45.00%\n"
     ]
    },
    {
     "name": "stderr",
     "output_type": "stream",
     "text": [
      "\n",
      "epoch-290 lr=['0.0050000'], tr/val_loss:  0.000172/  3.855789, tr: 100.00%, val:  58.33%, val_best:  62.50%: 100%|██████████| 62/62 [00:51<00:00,  1.21it/s]"
     ]
    },
    {
     "name": "stdout",
     "output_type": "stream",
     "text": [
      "5,000:58.33% | 5,000:58.33% | 10,000:60.42% | 25,000:53.33% | 50,000:48.75% | 75,000:45.00% | 100,000:45.00%\n"
     ]
    },
    {
     "name": "stderr",
     "output_type": "stream",
     "text": [
      "\n",
      "epoch-291 lr=['0.0050000'], tr/val_loss:  0.000170/  3.858519, tr: 100.00%, val:  58.33%, val_best:  62.50%: 100%|██████████| 62/62 [00:52<00:00,  1.18it/s]"
     ]
    },
    {
     "name": "stdout",
     "output_type": "stream",
     "text": [
      "5,000:58.33% | 5,000:58.33% | 10,000:60.42% | 25,000:53.75% | 50,000:48.33% | 75,000:45.00% | 100,000:45.00%\n"
     ]
    },
    {
     "name": "stderr",
     "output_type": "stream",
     "text": [
      "\n",
      "epoch-292 lr=['0.0050000'], tr/val_loss:  0.000178/  3.860334, tr: 100.00%, val:  58.33%, val_best:  62.50%: 100%|██████████| 62/62 [00:48<00:00,  1.29it/s]"
     ]
    },
    {
     "name": "stdout",
     "output_type": "stream",
     "text": [
      "5,000:58.33% | 5,000:58.33% | 10,000:60.42% | 25,000:53.33% | 50,000:48.75% | 75,000:45.00% | 100,000:45.42%\n"
     ]
    },
    {
     "name": "stderr",
     "output_type": "stream",
     "text": [
      "\n",
      "epoch-293 lr=['0.0050000'], tr/val_loss:  0.000161/  3.860220, tr: 100.00%, val:  58.33%, val_best:  62.50%: 100%|██████████| 62/62 [00:56<00:00,  1.09it/s]"
     ]
    },
    {
     "name": "stdout",
     "output_type": "stream",
     "text": [
      "5,000:58.33% | 5,000:58.33% | 10,000:60.42% | 25,000:53.33% | 50,000:48.75% | 75,000:44.58% | 100,000:45.00%\n"
     ]
    },
    {
     "name": "stderr",
     "output_type": "stream",
     "text": [
      "\n",
      "epoch-294 lr=['0.0050000'], tr/val_loss:  0.000181/  3.869244, tr: 100.00%, val:  58.33%, val_best:  62.50%: 100%|██████████| 62/62 [00:55<00:00,  1.12it/s]"
     ]
    },
    {
     "name": "stdout",
     "output_type": "stream",
     "text": [
      "5,000:58.33% | 5,000:58.33% | 10,000:60.42% | 25,000:53.33% | 50,000:48.33% | 75,000:44.58% | 100,000:45.00%\n"
     ]
    },
    {
     "name": "stderr",
     "output_type": "stream",
     "text": [
      "\n",
      "epoch-295 lr=['0.0050000'], tr/val_loss:  0.000172/  3.869129, tr: 100.00%, val:  58.33%, val_best:  62.50%: 100%|██████████| 62/62 [00:49<00:00,  1.24it/s]"
     ]
    },
    {
     "name": "stdout",
     "output_type": "stream",
     "text": [
      "5,000:58.33% | 5,000:58.33% | 10,000:60.42% | 25,000:53.33% | 50,000:48.33% | 75,000:44.58% | 100,000:45.42%\n"
     ]
    },
    {
     "name": "stderr",
     "output_type": "stream",
     "text": [
      "\n",
      "epoch-296 lr=['0.0050000'], tr/val_loss:  0.000178/  3.868184, tr: 100.00%, val:  58.33%, val_best:  62.50%: 100%|██████████| 62/62 [00:56<00:00,  1.10it/s]"
     ]
    },
    {
     "name": "stdout",
     "output_type": "stream",
     "text": [
      "5,000:58.33% | 5,000:58.33% | 10,000:60.42% | 25,000:53.75% | 50,000:48.33% | 75,000:44.58% | 100,000:44.58%\n"
     ]
    },
    {
     "name": "stderr",
     "output_type": "stream",
     "text": [
      "\n",
      "epoch-297 lr=['0.0050000'], tr/val_loss:  0.000168/  3.869963, tr: 100.00%, val:  58.33%, val_best:  62.50%: 100%|██████████| 62/62 [00:54<00:00,  1.14it/s]"
     ]
    },
    {
     "name": "stdout",
     "output_type": "stream",
     "text": [
      "5,000:58.33% | 5,000:58.33% | 10,000:60.42% | 25,000:53.75% | 50,000:48.75% | 75,000:44.58% | 100,000:44.58%\n"
     ]
    },
    {
     "name": "stderr",
     "output_type": "stream",
     "text": [
      "\n",
      "epoch-298 lr=['0.0050000'], tr/val_loss:  0.000169/  3.870131, tr: 100.00%, val:  58.33%, val_best:  62.50%: 100%|██████████| 62/62 [00:44<00:00,  1.41it/s]"
     ]
    },
    {
     "name": "stdout",
     "output_type": "stream",
     "text": [
      "5,000:58.33% | 5,000:58.33% | 10,000:60.00% | 25,000:53.75% | 50,000:48.75% | 75,000:44.58% | 100,000:44.58%\n"
     ]
    },
    {
     "name": "stderr",
     "output_type": "stream",
     "text": [
      "\n",
      "epoch-299 lr=['0.0050000'], tr/val_loss:  0.000190/  3.869390, tr: 100.00%, val:  58.33%, val_best:  62.50%: 100%|██████████| 62/62 [00:49<00:00,  1.26it/s]"
     ]
    },
    {
     "name": "stdout",
     "output_type": "stream",
     "text": [
      "5,000:58.33% | 5,000:58.33% | 10,000:60.00% | 25,000:53.33% | 50,000:48.33% | 75,000:44.58% | 100,000:44.58%\n"
     ]
    },
    {
     "name": "stderr",
     "output_type": "stream",
     "text": [
      "\n"
     ]
    },
    {
     "data": {
      "text/plain": [
       "'\\nddp_on 키고, gpu 개수 만큼 batch size 나눠줘\\nCUDA_VISIBLE_DEVICES=0,1,2,3,4,5 python -m torch.distributed.launch --nproc_per_node=6 main_ddp.py\\nCUDA_VISIBLE_DEVICES=1,2,3 python -m torch.distributed.launch --nproc_per_node=3 main_ddp.py\\nCUDA_VISIBLE_DEVICES=0,1,2,3 python -m torch.distributed.launch --nproc_per_node=4 main_ddp.py\\n'"
      ]
     },
     "execution_count": 5,
     "metadata": {},
     "output_type": "execute_result"
    }
   ],
   "source": [
    "### my_snn control board (Gesture) ########################\n",
    "decay = 0.5 # 0.875 0.25 0.125 0.75 0.5\n",
    "# nda 0.25 # ottt 0.5\n",
    "const2 = False # trace 할거면 True, 안할거면 False\n",
    "\n",
    "unique_name = 'main' ## 이거 설정하면 새로운 경로에 모두 save\n",
    "run_name = 'main' ## 이거 설정하면 새로운 경로에 모두 save\n",
    "\n",
    "if const2 == True:\n",
    "    const2 = decay\n",
    "else:\n",
    "    const2 = 0.0\n",
    "\n",
    "wandb.init(project= f'my_snn {unique_name}',save_code=True)\n",
    "\n",
    "my_snn_system(  devices = \"3\",\n",
    "                single_step = True, # True # False\n",
    "                unique_name = run_name,\n",
    "                my_seed = 42,\n",
    "                TIME = 10 , # dvscifar 10 # ottt 6 or 10 # nda 10  # 제작하는 dvs에서 TIME넘거나 적으면 자르거나 PADDING함\n",
    "                BATCH = 16, # batch norm 할거면 2이상으로 해야함   # nda 256   #  ottt 128\n",
    "                IMAGE_SIZE = 128, # dvscifar 48 # MNIST 28 # CIFAR10 32 # PMNIST 28 #NMNIST 34 # GESTURE 128\n",
    "                # dvsgesture 128, dvs_cifar2 128, nmnist 34, n_caltech101 180,240, n_tidigits 64, heidelberg 700, \n",
    "                #pmnist는 28로 해야 됨. 나머지는 바꿔도 돌아는 감.\n",
    "\n",
    "                # DVS_CIFAR10 할거면 time 10으로 해라\n",
    "                which_data = 'DVS_GESTURE_TONIC',\n",
    "# 'CIFAR100' 'CIFAR10' 'MNIST' 'FASHION_MNIST' 'DVS_CIFAR10' 'PMNIST'아직\n",
    "# 'DVS_GESTURE', 'DVS_GESTURE_TONIC','DVS_CIFAR10_2','NMNIST','NMNIST_TONIC','N_CALTECH101','n_tidigits','heidelberg'\n",
    "                # CLASS_NUM = 10,\n",
    "                data_path = '/data2', # YOU NEED TO CHANGE THIS\n",
    "                rate_coding = False, # True # False\n",
    "                lif_layer_v_init = 0.0,\n",
    "                lif_layer_v_decay = decay,\n",
    "                lif_layer_v_threshold = 1.2, # 1.3102821334243646,  # 10000이상으로 하면 NDA LIF 씀. #nda 0.5  #ottt 1.0\n",
    "                lif_layer_v_reset = 0, # 10000이상은 hardreset (내 LIF쓰기는 함 ㅇㅇ)\n",
    "                lif_layer_sg_width = 2.5, # 2.570969004857107 # sigmoid류에서는 alpha값 4.0, rectangle류에서는 width값 0.5\n",
    "\n",
    "                # synapse_conv_in_channels = IMAGE_PIXEL_CHANNEL,\n",
    "                synapse_conv_kernel_size = 3,\n",
    "                synapse_conv_stride = 1,\n",
    "                synapse_conv_padding = 1,\n",
    "                synapse_conv_trace_const1 = 1, # 현재 trace구할 때 현재 spike에 곱해지는 상수. 걍 1로 두셈.\n",
    "                synapse_conv_trace_const2 = const2, # 현재 trace구할 때 직전 trace에 곱해지는 상수. lif_layer_v_decay와 같게 할 것을 추천\n",
    "\n",
    "                # synapse_fc_out_features = CLASS_NUM,\n",
    "                synapse_fc_trace_const1 = 1, # 현재 trace구할 때 현재 spike에 곱해지는 상수. 걍 1로 두셈.\n",
    "                synapse_fc_trace_const2 = const2, # 현재 trace구할 때 직전 trace에 곱해지는 상수. lif_layer_v_decay와 같게 할 것을 추천\n",
    "\n",
    "                pre_trained = False, # True # False\n",
    "                convTrue_fcFalse = False, # True # False\n",
    "\n",
    "                # 'P' for average pooling, 'D' for (1,1) aver pooling, 'M' for maxpooling, 'L' for linear classifier, [  ] for residual block\n",
    "                # conv에서 10000 이상은 depth-wise separable (BPTT만 지원), 20000이상은 depth-wise (BPTT만 지원)\n",
    "                # cfg = [64, 64],\n",
    "                # cfg = [64, 124, 64, 124],\n",
    "                # cfg = ['M','M',512], \n",
    "                # cfg = [512], \n",
    "                # cfg = ['M', 'M', 64, 128, 'P', 128, 'P'], \n",
    "                # cfg = ['M','M',512],\n",
    "                # cfg = ['M',200],\n",
    "                # cfg = [200,200],\n",
    "                cfg = ['M','M',200,200],\n",
    "                # cfg = ['M','M',1024,512,256,128,64],\n",
    "                # cfg = [200,200],\n",
    "                # cfg = [12], #fc\n",
    "                # cfg = [12, 'M', 48, 'M', 12], \n",
    "                # cfg = [64,[64,64],64], # 끝에 linear classifier 하나 자동으로 붙습니다\n",
    "                # cfg = [64, 128, 'P', 256, 256, 'P', 512, 512, 'P', 512, 512, 'D'], #ottt\n",
    "                # cfg = [64, 128, 'P', 256, 256, 'P', 512, 512, 'P', 512, 512], \n",
    "                # cfg = [64, 128, 'M', 256, 256, 'M', 512, 512, 'M', 512, 512], \n",
    "                # cfg = [64, 'P', 128, 'P', 256, 256, 'P', 512, 512, 512, 512, 'D'], # nda\n",
    "                # cfg = [64, 'P', 128, 'P', 256, 256, 'P', 512, 512, 512, 512], # nda 128pixel\n",
    "                # cfg = [64, 'P', 128, 'P', 256, 256, 'P', 512, 512, 512, 512, 'L', 4096, 4096],\n",
    "                # cfg = [20001,10001], # depthwise, separable\n",
    "                # cfg = [64,20064,10001], # vanilla conv, depthwise, separable\n",
    "                # cfg = [8, 'P', 8, 'P', 8, 'P', 8,'P', 8, 'P'],\n",
    "                # cfg = [],        \n",
    "                \n",
    "                net_print = True, # True # False # True로 하길 추천\n",
    "                weight_count_print = False, # True # False\n",
    "                \n",
    "                pre_trained_path = f\"net_save/save_now_net_weights_{unique_name}.pth\",\n",
    "                learning_rate = 0.005, #0.1 bptt, #0.01 ottt, # default 0.001  # ottt 0.1 # nda 0.001 # 0.00936191669529645\n",
    "                epoch_num = 300,\n",
    "                verbose_interval = 999999999, #이거 걍 건들지마셈 #숫자 크게 하면 꺼짐 #걍 중간중간 iter에서 끊어서 출력\n",
    "                validation_interval =  999999999,#999999999, #이거 걍 건들지마셈 #숫자 크게 하면 에포크 마지막 iter 때 val 함\n",
    "\n",
    "                tdBN_on = False,  # True # False\n",
    "                BN_on = False,  # True # False\n",
    "                \n",
    "                surrogate = 'hard_sigmoid', # 'sigmoid' 'rectangle' 'rough_rectangle' 'hard_sigmoid'\n",
    "                \n",
    "                gradient_verbose = False,  # True # False  # weight gradient 각 layer마다 띄워줌\n",
    "\n",
    "                BPTT_on = False,  # True # False # True이면 BPTT, False이면 OTTT  # depthwise, separable은 BPTT만 가능\n",
    "                optimizer_what = 'SGD', # 'SGD' 'Adam', 'RMSprop'\n",
    "                scheduler_name = 'no', # 'no' 'StepLR' 'ExponentialLR' 'ReduceLROnPlateau' 'CosineAnnealingLR' 'OneCycleLR'\n",
    "                \n",
    "                ddp_on = False,   # True # False \n",
    "                # 지원 DATASET: cifar10, mnist\n",
    "\n",
    "                nda_net = False,   # True # False\n",
    "\n",
    "                domain_il_epoch = 0, # over 0, then domain il mode on # pmnist 쓸거면 HLOP 코드보고 더 디벨롭하셈. 지금 개발 hold함.\n",
    "                \n",
    "                dvs_clipping = 1, #일반적으로 1 또는 2 # 100ms때는 5 # 숫자만큼 크면 spike 아니면 걍 0\n",
    "                # gesture, cifar-dvs2, nmnist, ncaltech101\n",
    "\n",
    "                dvs_duration = 5_000, # 0 아니면 time sampling # dvs number sampling OR time sampling # gesture, cifar-dvs2, nmnist, ncaltech101\n",
    "                # 있는 데이터들 #gesture 100_000 25_000 10_000 1_000 1_000_000 #nmnist 10000 #nmnist_tonic 10_000 25_000\n",
    "                # 한 숫자가 1us인듯 (spikingjelly코드에서)\n",
    "                # 한 장에 50 timestep만 생산함. 싫으면 my_snn/trying/spikingjelly_dvsgesture의__init__.py 를 참고해봐\n",
    "                # nmnist 5_000us, gesture는 100_000us, 25_000us\n",
    "\n",
    "                OTTT_sWS_on = False, # True # False # BPTT끄고, CONV에만 적용됨.\n",
    "\n",
    "                DFA_on = True, # True # False # residual은 dfa지원안함.\n",
    "                OTTT_input_trace_on = False, # True # False # 맨 처음 input에 trace 적용\n",
    "                 \n",
    "                e_transport_swap = 0, # 1 이상이면 해당 숫자 에포크만큼 val_acc_best가 변화가 없으면 e_transport scheme (BP vs DFA) swap\n",
    "                e_transport_swap_tr = 0, # 1 이상이면 해당 숫자 에포크만큼 tr_acc_best가 변화가 없으면 e_transport scheme (BP vs DFA) swap\n",
    "                e_transport_swap_coin = 1, # swap할 수 있는 coin 개수\n",
    "\n",
    "                drop_rate = 0, # drop_rate만큼 0으로 만듦. ex) 0.2면 activation의 20%를 0으로 만듦.\n",
    "\n",
    "                exclude_class = True, # True # False # gesture에서 10번째 클래스 제외\n",
    "\n",
    "                merge_polarities = False, # True # False # tonic dvs dataset 에서 polarities 합치기\n",
    "                denoise_on = True, # True # False\n",
    "\n",
    "                I_wanna_sweep_at_this_epoch = -1, # 지정 에포크에서 BP와 DFA를 바꿔줌. -1이면 실행 안함.\n",
    "                dvs_duration_domain = [5_000,10_000,25_000,50_000,75_000,100_000], # domain adaptation할 때 사용할 dvs_duration 리스트\n",
    "                \n",
    "                extra_train_dataset = 0,\n",
    "                ) \n",
    "# sigmoid와 BN이 있어야 잘된다.\n",
    "# average pooling  \n",
    "# 이 낫다. \n",
    " \n",
    "# nda에서는 decay = 0.25, threshold = 0.5, width =1, surrogate = rectangle, batch = 256, tdBN = True\n",
    "## OTTT 에서는 decay = 0.5, threshold = 1.0, surrogate = sigmoid, batch = 128, BN = True\n",
    "\n",
    "\n",
    "# DDP 실행 코드\n",
    "'''\n",
    "ddp_on 키고, gpu 개수 만큼 batch size 나눠줘\n",
    "CUDA_VISIBLE_DEVICES=0,1,2,3,4,5 python -m torch.distributed.launch --nproc_per_node=6 main_ddp.py\n",
    "CUDA_VISIBLE_DEVICES=1,2,3 python -m torch.distributed.launch --nproc_per_node=3 main_ddp.py\n",
    "CUDA_VISIBLE_DEVICES=0,1,2,3 python -m torch.distributed.launch --nproc_per_node=4 main_ddp.py\n",
    "'''\n"
   ]
  },
  {
   "cell_type": "code",
   "execution_count": 6,
   "metadata": {},
   "outputs": [],
   "source": [
    "# # sweep 하는 코드, 위 셀 주석처리 해야 됨.\n",
    "\n",
    "# # 이런 워닝 뜨는 거는 걍 너가 main 안에서  wandb.config.update(hyperparameters)할 때 물려서임. 어차피 근데 sweep에서 지정한 걸로 덮어짐 \n",
    "# # wandb: WARNING Config item 'BATCH' was locked by 'sweep' (ignored update).\n",
    "\n",
    "# unique_name_hyper = 'main'\n",
    "# run_name = 'main'\n",
    "# sweep_configuration = {\n",
    "#     'method': 'bayes',\n",
    "#     'name': f'my_snn_sweep{datetime.datetime.now().strftime(\"%Y%m%d_%H%M%S\")}',\n",
    "#     'metric': {'goal': 'maximize', 'name': 'val_acc_best'},\n",
    "#     'parameters': \n",
    "#     {\n",
    "#         \"learning_rate\": {\"values\": [0.001]}, #0.00936191669529645\n",
    "#         \"BATCH\": {\"values\": [16]},\n",
    "#         \"decay\": {\"values\": [0.25,0.5,0.75]},\n",
    "#         \"IMAGE_SIZE\": {\"values\": [128]},\n",
    "#         \"TIME\": {\"values\": [10]},\n",
    "#         \"epoch_num\": {\"values\": [200]},\n",
    "#         \"dvs_duration\": {\"values\": [100_000]},\n",
    "#         \"dvs_clipping\": {\"values\": [1,2,3,4,5]},\n",
    "#         \"which_data\": {\"values\": ['DVS_GESTURE_TONIC']},\n",
    "#         \"OTTT_sWS_on\": {\"values\": [False]},\n",
    "#         \"const2\": {\"values\": [False]},\n",
    "#         \"surrogate\": {\"values\": ['hard_sigmoid']},\n",
    "#         \"DFA_on\": {\"values\": [False]},\n",
    "#         \"OTTT_input_trace_on\": {\"values\": [False]},\n",
    "#         \"cfg\": {\"values\": [['M','M',200,200]]},\n",
    "#         \"e_transport_swap\": {\"values\": [0]},\n",
    "#         \"e_transport_swap_tr\": {\"values\": [0]},\n",
    "#         \"drop_rate\": {\"values\": [0.0]}, # \"drop_rate\": {\"values\": [0.25,0.5,0.75]}, #\"drop_rate\": {\"min\": 0.25, \"max\": 0.75},\n",
    "#         \"exclude_class\": {\"values\": [True]},\n",
    "#         \"merge_polarities\": {\"values\": [False]},\n",
    "#         \"lif_layer_v_reset\": {\"values\": [0,10000]},\n",
    "#         \"lif_layer_sg_width\": {\"min\": 1.0, \"max\": 8.0},\n",
    "#         \"e_transport_swap_coin\": {\"values\": [1]},\n",
    "#         \"lif_layer_v_threshold\": {\"min\": 0.0, \"max\": 3.0},\n",
    "#         \"scheduler_name\": {\"values\": ['no']},  # 'no' 'StepLR' 'ExponentialLR' 'ReduceLROnPlateau' 'CosineAnnealingLR' 'OneCycleLR'\n",
    "#         \"denoise_on\": {\"values\": ['True']}, \n",
    "#         \"I_wanna_sweep_at_this_epoch\": {\"values\": [-1]}, \n",
    "#         \"dvs_duration_domain\": {\"values\": [[]]}, \n",
    "#         \"extra_train_dataset\": {\"values\": [0,1,2,3]}, \n",
    "#      }\n",
    "# }\n",
    "\n",
    "# def hyper_iter():\n",
    "#     ### my_snn control board ########################\n",
    "#     unique_name = unique_name_hyper ## 이거 설정하면 새로운 경로에 모두 save\n",
    "    \n",
    "#     wandb.init(save_code = True)\n",
    "#     learning_rate  =  wandb.config.learning_rate\n",
    "#     BATCH  =  wandb.config.BATCH\n",
    "#     decay  =  wandb.config.decay\n",
    "#     IMAGE_SIZE  =  wandb.config.IMAGE_SIZE\n",
    "#     TIME  =  wandb.config.TIME\n",
    "#     epoch_num  =  wandb.config.epoch_num \n",
    "#     dvs_duration  =  wandb.config.dvs_duration\n",
    "#     dvs_clipping  =  wandb.config.dvs_clipping\n",
    "#     which_data  =  wandb.config.which_data\n",
    "#     OTTT_sWS_on  =  wandb.config.OTTT_sWS_on\n",
    "#     const2  =  wandb.config.const2\n",
    "#     surrogate  =  wandb.config.surrogate\n",
    "#     DFA_on  =  wandb.config.DFA_on\n",
    "#     OTTT_input_trace_on  =  wandb.config.OTTT_input_trace_on\n",
    "#     cfg  =  wandb.config.cfg\n",
    "#     e_transport_swap  =  wandb.config.e_transport_swap\n",
    "#     e_transport_swap_tr  =  wandb.config.e_transport_swap_tr\n",
    "#     drop_rate  =  wandb.config.drop_rate\n",
    "#     exclude_class  =  wandb.config.exclude_class\n",
    "#     merge_polarities  =  wandb.config.merge_polarities\n",
    "#     lif_layer_v_reset  =  wandb.config.lif_layer_v_reset\n",
    "#     lif_layer_sg_width  =  wandb.config.lif_layer_sg_width\n",
    "#     e_transport_swap_coin  =  wandb.config.e_transport_swap_coin\n",
    "#     lif_layer_v_threshold  =  wandb.config.lif_layer_v_threshold\n",
    "#     scheduler_name  =  wandb.config.scheduler_name\n",
    "#     denoise_on  =  wandb.config.denoise_on\n",
    "#     I_wanna_sweep_at_this_epoch  =  wandb.config.I_wanna_sweep_at_this_epoch\n",
    "#     dvs_duration_domain  =  wandb.config.dvs_duration_domain\n",
    "#     extra_train_dataset  =  wandb.config.extra_train_dataset\n",
    "#     if const2 == True:\n",
    "#         const2 = decay\n",
    "#     else:\n",
    "#         const2 = 0.0\n",
    "\n",
    "#     my_snn_system(  devices = \"5\",\n",
    "#                 single_step = True, # True # False\n",
    "#                 unique_name = run_name,\n",
    "#                 my_seed = 42,\n",
    "#                 TIME = TIME , # dvscifar 10 # ottt 6 or 10 # nda 10  # 제작하는 dvs에서 TIME넘거나 적으면 자르거나 PADDING함\n",
    "#                 BATCH = BATCH, # batch norm 할거면 2이상으로 해야함   # nda 256   #  ottt 128\n",
    "#                 IMAGE_SIZE = IMAGE_SIZE, # dvscifar 48 # MNIST 28 # CIFAR10 32 # PMNIST 28 #NMNIST 34 # GESTURE 128\n",
    "#                 # dvsgesture 128, dvs_cifar2 128, nmnist 34, n_caltech101 180,240, n_tidigits 64, heidelberg 700, \n",
    "#                 #pmnist는 28로 해야 됨. 나머지는 바꿔도 돌아는 감.\n",
    "\n",
    "#                 # DVS_CIFAR10 할거면 time 10으로 해라\n",
    "#                 which_data = which_data,\n",
    "# # 'CIFAR100' 'CIFAR10' 'MNIST' 'FASHION_MNIST' 'DVS_CIFAR10' 'PMNIST'아직\n",
    "# # 'DVS_GESTURE', 'DVS_GESTURE_TONIC','DVS_CIFAR10_2','NMNIST','NMNIST_TONIC','N_CALTECH101','n_tidigits','heidelberg'\n",
    "#                 # CLASS_NUM = 10,\n",
    "#                 data_path = '/data2', # YOU NEED TO CHANGE THIS\n",
    "#                 rate_coding = False, # True # False\n",
    "#                 lif_layer_v_init = 0.0,\n",
    "#                 lif_layer_v_decay = decay,\n",
    "#                 lif_layer_v_threshold = lif_layer_v_threshold,  # 10000이상으로 하면 NDA LIF 씀. #nda 0.5  #ottt 1.0\n",
    "#                 lif_layer_v_reset = lif_layer_v_reset, # 10000이상은 hardreset (내 LIF쓰기는 함 ㅇㅇ)\n",
    "#                 lif_layer_sg_width = lif_layer_sg_width, # # surrogate sigmoid 쓸 때는 의미없음\n",
    "\n",
    "#                 # synapse_conv_in_channels = IMAGE_PIXEL_CHANNEL,\n",
    "#                 synapse_conv_kernel_size = 3,\n",
    "#                 synapse_conv_stride = 1,\n",
    "#                 synapse_conv_padding = 1,\n",
    "#                 synapse_conv_trace_const1 = 1, # 현재 trace구할 때 현재 spike에 곱해지는 상수. 걍 1로 두셈.\n",
    "#                 synapse_conv_trace_const2 = const2, # 현재 trace구할 때 직전 trace에 곱해지는 상수. lif_layer_v_decay와 같게 할 것을 추천\n",
    "\n",
    "#                 # synapse_fc_out_features = CLASS_NUM,\n",
    "#                 synapse_fc_trace_const1 = 1, # 현재 trace구할 때 현재 spike에 곱해지는 상수. 걍 1로 두셈.\n",
    "#                 synapse_fc_trace_const2 = const2, # 현재 trace구할 때 직전 trace에 곱해지는 상수. lif_layer_v_decay와 같게 할 것을 추천\n",
    "\n",
    "#                 pre_trained = False, # True # False\n",
    "#                 convTrue_fcFalse = False, # True # False\n",
    "\n",
    "#                 # 'P' for average pooling, 'D' for (1,1) aver pooling, 'M' for maxpooling, 'L' for linear classifier, [  ] for residual block\n",
    "#                 # conv에서 10000 이상은 depth-wise separable (BPTT만 지원), 20000이상은 depth-wise (BPTT만 지원)\n",
    "#                 # cfg = [64, 64],\n",
    "#                 # cfg = [64, 124, 64, 124],\n",
    "#                 # cfg = ['M','M',512], \n",
    "#                 # cfg = [512], \n",
    "#                 # cfg = ['M', 'M', 64, 128, 'P', 128, 'P'], \n",
    "#                 # cfg = ['M','M',200,200],\n",
    "#                 # cfg = [200,200],\n",
    "#                 cfg = cfg,\n",
    "#                 # cfg = [12], #fc\n",
    "#                 # cfg = [12, 'M', 48, 'M', 12], \n",
    "#                 # cfg = [64,[64,64],64], # 끝에 linear classifier 하나 자동으로 붙습니다\n",
    "#                 # cfg = [64, 128, 'P', 256, 256, 'P', 512, 512, 'P', 512, 512, 'D'], #ottt\n",
    "#                 # cfg = [64, 128, 'P', 256, 256, 'P', 512, 512, 'P', 512, 512], \n",
    "#                 # cfg = [64, 128, 'M', 256, 256, 'M', 512, 512, 'M', 512, 512], \n",
    "#                 # cfg = [64, 'P', 128, 'P', 256, 256, 'P', 512, 512, 512, 512, 'D'], # nda\n",
    "#                 # cfg = [64, 'P', 128, 'P', 256, 256, 'P', 512, 512, 512, 512], # nda 128pixel\n",
    "#                 # cfg = [64, 'P', 128, 'P', 256, 256, 'P', 512, 512, 512, 512, 'L', 4096, 4096],\n",
    "#                 # cfg = [20001,10001], # depthwise, separable\n",
    "#                 # cfg = [64,20064,10001], # vanilla conv, depthwise, separable\n",
    "#                 # cfg = [8, 'P', 8, 'P', 8, 'P', 8,'P', 8, 'P'],\n",
    "#                 # cfg = [], \n",
    "                \n",
    "#                 net_print = True, # True # False # True로 하길 추천\n",
    "#                 weight_count_print = False, # True # False\n",
    "                \n",
    "#                 pre_trained_path = f\"net_save/save_now_net_weights_{unique_name}.pth\",\n",
    "#                 learning_rate = learning_rate, # default 0.001  # ottt 0.1 # nda 0.001 \n",
    "#                 epoch_num = epoch_num,\n",
    "#                 verbose_interval = 999999999, #숫자 크게 하면 꺼짐 #걍 중간중간 iter에서 끊어서 출력\n",
    "#                 validation_interval =  999999999,#999999999, #숫자 크게 하면 에포크 마지막 iter 때 val 함\n",
    "\n",
    "#                 tdBN_on = False,  # True # False\n",
    "#                 BN_on = False,  # True # False\n",
    "                \n",
    "#                 surrogate = surrogate, # 'rectangle' 'sigmoid' 'rough_rectangle'\n",
    "                \n",
    "#                 gradient_verbose = False,  # True # False  # weight gradient 각 layer마다 띄워줌\n",
    "\n",
    "#                 BPTT_on = False,  # True # False # True이면 BPTT, False이면 OTTT  # depthwise, separable은 BPTT만 가능\n",
    "#                 optimizer_what = 'SGD', # 'SGD' 'Adam', 'RMSprop'\n",
    "#                 scheduler_name = scheduler_name, # 'no' 'StepLR' 'ExponentialLR' 'ReduceLROnPlateau' 'CosineAnnealingLR' 'OneCycleLR'\n",
    "                \n",
    "#                 ddp_on = False,   # True # False \n",
    "#                 # 지원 DATASET: cifar10, mnist\n",
    "\n",
    "#                 nda_net = False,   # True # False\n",
    "\n",
    "#                 domain_il_epoch = 0, # over 0, then domain il mode on # pmnist 쓸거면 HLOP 코드보고 더 디벨롭하셈. 지금 개발 hold함.\n",
    "                \n",
    "#                 dvs_clipping = dvs_clipping, # 숫자만큼 크면 spike 아니면 걍 0\n",
    "#                 # gesture, cifar-dvs2, nmnist, ncaltech101\n",
    "\n",
    "#                 dvs_duration = dvs_duration, # 0 아니면 time sampling # dvs number sampling OR time sampling # gesture, cifar-dvs2, nmnist, ncaltech101\n",
    "#                 # 있는 데이터들 #gesture 100_000 25_000 10_000 1_000 1_000_000 #nmnist 10000 #nmnist_tonic 10_000 25_000\n",
    "#                 # 한 숫자가 1us인듯 (spikingjelly코드에서)\n",
    "#                 # 한 장에 50 timestep만 생산함. 싫으면 my_snn/trying/spikingjelly_dvsgesture의__init__.py 를 참고해봐\n",
    "\n",
    "#                 OTTT_sWS_on = OTTT_sWS_on, # True # False # BPTT끄고, CONV에만 적용됨.\n",
    "\n",
    "#                 DFA_on = DFA_on, # True # False # residual은 dfa지원안함.\n",
    "#                 OTTT_input_trace_on = OTTT_input_trace_on, # True # False # 맨 처음 input에 trace 적용\n",
    "                 \n",
    "#                 e_transport_swap = e_transport_swap, # 1 이상이면 해당 숫자 에포크만큼 val_acc_best가 변화가 없으면 e_transport scheme (BP vs DFA) swap\n",
    "#                 e_transport_swap_tr = e_transport_swap_tr, # 1 이상이면 해당 숫자 에포크만큼 tr_acc_best가 변화가 없으면 e_transport scheme (BP vs DFA) swap\n",
    "#                 e_transport_swap_coin = e_transport_swap_coin, # swap할 수 있는 coin 개수\n",
    "                    \n",
    "#                 drop_rate = drop_rate,\n",
    "\n",
    "#                 exclude_class = exclude_class, # True # False # gesture에서 10번째 클래스 제외\n",
    "\n",
    "#                 merge_polarities = merge_polarities, # True # False # tonic dvs dataset 에서 polarities 합치기\n",
    "#                 denoise_on = denoise_on,\n",
    "\n",
    "#                 I_wanna_sweep_at_this_epoch = I_wanna_sweep_at_this_epoch,\n",
    "#                 dvs_duration_domain = dvs_duration_domain,\n",
    "\n",
    "#                 extra_train_dataset = extra_train_dataset,\n",
    "#                     ) \n",
    "#     # sigmoid와 BN이 있어야 잘된다.\n",
    "#     # average pooling\n",
    "#     # 이 낫다. \n",
    "    \n",
    "#     # nda에서는 decay = 0.25, threshold = 0.5, width =1, surrogate = rectangle, batch = 256, tdBN = True\n",
    "#     ## OTTT 에서는 decay = 0.5, threshold = 1.0, surrogate = sigmoid, batch = 128, BN = True\n",
    "\n",
    "# sweep_id = wandb.sweep(sweep=sweep_configuration, project=f'my_snn {unique_name_hyper}')\n",
    "# wandb.agent(sweep_id, function=hyper_iter, count=10000, project=f'my_snn {unique_name_hyper}')\n"
   ]
  },
  {
   "cell_type": "code",
   "execution_count": 7,
   "metadata": {},
   "outputs": [
    {
     "data": {
      "application/vnd.jupyter.widget-view+json": {
       "model_id": "71f28eeae65543ed8f380ffd028e9a95",
       "version_major": 2,
       "version_minor": 0
      },
      "text/plain": [
       "VBox(children=(Label(value='7.785 MB of 7.785 MB uploaded (3.879 MB deduped)\\r'), FloatProgress(value=1.0, max…"
      ]
     },
     "metadata": {},
     "output_type": "display_data"
    },
    {
     "data": {
      "text/html": [
       "W&B sync reduced upload amount by 46.9%"
      ],
      "text/plain": [
       "<IPython.core.display.HTML object>"
      ]
     },
     "metadata": {},
     "output_type": "display_data"
    },
    {
     "data": {
      "text/html": [
       "<style>\n",
       "    table.wandb td:nth-child(1) { padding: 0 10px; text-align: left ; width: auto;} td:nth-child(2) {text-align: left ; width: 100%}\n",
       "    .wandb-row { display: flex; flex-direction: row; flex-wrap: wrap; justify-content: flex-start; width: 100% }\n",
       "    .wandb-col { display: flex; flex-direction: column; flex-basis: 100%; flex: 1; padding: 10px; }\n",
       "    </style>\n",
       "<div class=\"wandb-row\"><div class=\"wandb-col\"><h3>Run history:</h3><br/><table class=\"wandb\"><tr><td>DFA_flag</td><td>▁▁▁▁▁▁▁▁▁▁▁▁▁▁▁▁▁▁▁▁▁▁▁▁▁▁▁▁▁▁▁▁▁▁▁▁▁▁▁▁</td></tr><tr><td>epoch</td><td>▁▁▁▁▂▂▂▂▂▃▃▃▃▃▃▄▄▄▄▄▅▅▅▅▅▅▆▆▆▆▆▇▇▇▇▇▇███</td></tr><tr><td>iter_acc</td><td>▁███████████████████████████████████████</td></tr><tr><td>summary_val_acc</td><td>▁▄███▆██▆▄▆▅▅▆▆▆▆▆▅▅▆▇▆▆▆▅▅▅▆▆▆▆▅▆▆▆▅▅▅▅</td></tr><tr><td>tr_acc</td><td>▁▇██████████████████████████████████████</td></tr><tr><td>tr_epoch_loss</td><td>█▃▁▁▁▁▁▁▁▁▁▁▁▁▁▁▁▁▁▁▁▁▁▁▁▁▁▁▁▁▁▁▁▁▁▁▁▁▁▁</td></tr><tr><td>val_acc_best</td><td>▁▅▅█████████████████████████████████████</td></tr><tr><td>val_acc_now</td><td>▁▄███▆██▆▄▆▅▅▆▆▆▆▆▅▅▆▇▆▆▆▅▅▅▆▆▆▆▅▆▆▆▅▅▅▅</td></tr><tr><td>val_loss</td><td>▁▂▄▅▅▆▆▆▆▆▆▇▇▇▇▇▇▇▇▇▇▇▇▇▇███████████████</td></tr></table><br/></div><div class=\"wandb-col\"><h3>Run summary:</h3><br/><table class=\"wandb\"><tr><td>DFA_flag</td><td>1.0</td></tr><tr><td>epoch</td><td>299</td></tr><tr><td>iter_acc</td><td>1.0</td></tr><tr><td>tr_acc</td><td>1.0</td></tr><tr><td>tr_epoch_loss</td><td>0.00019</td></tr><tr><td>val_acc_best</td><td>0.625</td></tr><tr><td>val_acc_now</td><td>0.58333</td></tr><tr><td>val_loss</td><td>3.86939</td></tr></table><br/></div></div>"
      ],
      "text/plain": [
       "<IPython.core.display.HTML object>"
      ]
     },
     "metadata": {},
     "output_type": "display_data"
    },
    {
     "data": {
      "text/html": [
       " View run <strong style=\"color:#cdcd00\">graceful-feather-5492</strong> at: <a href='https://wandb.ai/bhkim003-seoul-national-university/my_snn%20main/runs/r8kxerko' target=\"_blank\">https://wandb.ai/bhkim003-seoul-national-university/my_snn%20main/runs/r8kxerko</a><br/> View project at: <a href='https://wandb.ai/bhkim003-seoul-national-university/my_snn%20main' target=\"_blank\">https://wandb.ai/bhkim003-seoul-national-university/my_snn%20main</a><br/>Synced 7 W&B file(s), 0 media file(s), 16 artifact file(s) and 1 other file(s)"
      ],
      "text/plain": [
       "<IPython.core.display.HTML object>"
      ]
     },
     "metadata": {},
     "output_type": "display_data"
    },
    {
     "data": {
      "text/html": [
       "Find logs at: <code>./wandb/run-20240908_230230-r8kxerko/logs</code>"
      ],
      "text/plain": [
       "<IPython.core.display.HTML object>"
      ]
     },
     "metadata": {},
     "output_type": "display_data"
    },
    {
     "data": {
      "text/html": [
       "The new W&B backend becomes opt-out in version 0.18.0; try it out with `wandb.require(\"core\")`! See https://wandb.me/wandb-core for more information."
      ],
      "text/plain": [
       "<IPython.core.display.HTML object>"
      ]
     },
     "metadata": {},
     "output_type": "display_data"
    }
   ],
   "source": [
    "wandb.finish()"
   ]
  },
  {
   "cell_type": "code",
   "execution_count": 8,
   "metadata": {},
   "outputs": [],
   "source": [
    "# import numpy as np\n",
    "# import matplotlib.pyplot as plt\n",
    "# import json\n",
    "# run_name = 'main_FINAL_TEST'\n",
    "\n",
    "# unique_name = run_name\n",
    "# def pad_array_to_match_length(array1, array2):\n",
    "#     if len(array1) > len(array2):\n",
    "#         padded_array2 = np.pad(array2, (0, len(array1) - len(array2)), 'constant')\n",
    "#         return array1, padded_array2\n",
    "#     elif len(array2) > len(array1):\n",
    "#         padded_array1 = np.pad(array1, (0, len(array2) - len(array1)), 'constant')\n",
    "#         return padded_array1, array2\n",
    "#     else:\n",
    "#         return array1, array2\n",
    "# def load_hyperparameters(filename=f'result_save/hyperparameters_{unique_name}.json'):\n",
    "#     with open(filename, 'r') as f:\n",
    "#         return json.load(f)\n",
    "    \n",
    "\n",
    "\n",
    "\n",
    "\n",
    "# current_time = '20240628_110116'\n",
    "# base_name = f'{current_time}'\n",
    "# iter_acc_file_name = f'result_save/{base_name}_iter_acc_array_{unique_name}.npy'\n",
    "# val_acc_file_name = f'result_save/{base_name}_val_acc_now_array_{unique_name}.npy'\n",
    "# hyperparameters_file_name = f'result_save/{base_name}_hyperparameters_{unique_name}.json'\n",
    "\n",
    "# ### if you want to just see most recent train and val acc###########################\n",
    "# iter_acc_file_name = f'result_save/iter_acc_array_{unique_name}.npy'\n",
    "# tr_acc_file_name = f'result_save/tr_acc_array_{unique_name}.npy'\n",
    "# val_acc_file_name = f'result_save/val_acc_now_array_{unique_name}.npy'\n",
    "# hyperparameters_file_name = f'result_save/hyperparameters_{unique_name}.json'\n",
    "\n",
    "# loaded_iter_acc_array = np.load(iter_acc_file_name)*100\n",
    "# loaded_tr_acc_array = np.load(tr_acc_file_name)*100\n",
    "# loaded_val_acc_array = np.load(val_acc_file_name)*100\n",
    "# hyperparameters = load_hyperparameters(hyperparameters_file_name)\n",
    "\n",
    "# loaded_iter_acc_array, loaded_val_acc_array = pad_array_to_match_length(loaded_iter_acc_array, loaded_val_acc_array)\n",
    "# loaded_iter_acc_array, loaded_tr_acc_array = pad_array_to_match_length(loaded_iter_acc_array, loaded_tr_acc_array)\n",
    "# loaded_val_acc_array, loaded_tr_acc_array = pad_array_to_match_length(loaded_val_acc_array, loaded_tr_acc_array)\n",
    "\n",
    "# top_iter_acc = np.max(loaded_iter_acc_array)\n",
    "# top_tr_acc = np.max(loaded_tr_acc_array)\n",
    "# top_val_acc = np.max(loaded_val_acc_array)\n",
    "\n",
    "# which_data = hyperparameters['which_data']\n",
    "# BPTT_on = hyperparameters['BPTT_on']\n",
    "# current_epoch = hyperparameters['current epoch']\n",
    "# surrogate = hyperparameters['surrogate']\n",
    "# cfg = hyperparameters['cfg']\n",
    "# tdBN_on = hyperparameters['tdBN_on']\n",
    "# BN_on = hyperparameters['BN_on']\n",
    "\n",
    "\n",
    "# iterations = np.arange(len(loaded_iter_acc_array))\n",
    "\n",
    "# # 그래프 그리기\n",
    "# plt.figure(figsize=(10, 5))\n",
    "# plt.plot(iterations, loaded_iter_acc_array, label='Iter Accuracy', color='g', alpha=0.2)\n",
    "# plt.plot(iterations, loaded_tr_acc_array, label='Training Accuracy', color='b')\n",
    "# plt.plot(iterations, loaded_val_acc_array, label='Validation Accuracy', color='r')\n",
    "\n",
    "# # # 텍스트 추가\n",
    "# # plt.text(0.05, 0.95, f'Top Training Accuracy: {100*top_iter_acc:.2f}%', transform=plt.gca().transAxes, fontsize=12, verticalalignment='top', horizontalalignment='left', color='blue')\n",
    "# # plt.text(0.05, 0.90, f'Top Validation Accuracy: {100*top_val_acc:.2f}%', transform=plt.gca().transAxes, fontsize=12, verticalalignment='top', horizontalalignment='left', color='red')\n",
    "# # 텍스트 추가\n",
    "# plt.text(0.5, 0.10, f'Top Training Accuracy: {top_tr_acc:.2f}%', transform=plt.gca().transAxes, fontsize=12, verticalalignment='top', horizontalalignment='center', color='blue')\n",
    "# plt.text(0.5, 0.05, f'Top Validation Accuracy: {top_val_acc:.2f}%', transform=plt.gca().transAxes, fontsize=12, verticalalignment='top', horizontalalignment='center', color='red')\n",
    "\n",
    "# plt.xlabel('Iterations')\n",
    "# plt.ylabel('Accuracy [%]')\n",
    "\n",
    "# # 그래프 제목에 하이퍼파라미터 정보 추가\n",
    "# title = f'Training and Validation Accuracy over Iterations\\n\\nData: {which_data}, BPTT: {\"On\" if BPTT_on else \"Off\"}, Current Epoch: {current_epoch}, Surrogate: {surrogate},\\nCFG: {cfg}, tdBN: {\"On\" if tdBN_on else \"Off\"}, BN: {\"On\" if BN_on else \"Off\"}'\n",
    "\n",
    "# plt.title(title)\n",
    "\n",
    "# plt.legend(loc='lower right')\n",
    "# plt.xlim(0)  # x축을 0부터 시작\n",
    "# plt.grid(True)\n",
    "# plt.show()"
   ]
  }
 ],
 "metadata": {
  "kernelspec": {
   "display_name": "nfs",
   "language": "python",
   "name": "python3"
  },
  "language_info": {
   "codemirror_mode": {
    "name": "ipython",
    "version": 3
   },
   "file_extension": ".py",
   "mimetype": "text/x-python",
   "name": "python",
   "nbconvert_exporter": "python",
   "pygments_lexer": "ipython3",
   "version": "3.8.18"
  }
 },
 "nbformat": 4,
 "nbformat_minor": 2
}
