{
 "cells": [
  {
   "cell_type": "code",
   "execution_count": 1,
   "metadata": {},
   "outputs": [],
   "source": [
    "# BATCH:256\n",
    "# batch_size:256\n",
    "# data_path:\"/data2\"\n",
    "# decay:0.7834769413661389\n",
    "# EPOCH:20\n",
    "# hard_reset:true\n",
    "# IMAGE_SIZE:32\n",
    "# learning_rate:0.007176761798504128\n",
    "# pre_spike_weight:5.165214142219577\n",
    "# rate_coding:true\n",
    "# TIME_STEP:9\n",
    "# time_step:9\n",
    "# v_decay:0.7834769413661389\n",
    "# v_reset:0\n",
    "# v_threshold:1\n",
    "# which_data:\"CIFAR10\"\n",
    "\n",
    "\n",
    "# BATCH:256\n",
    "# batch_size:256\n",
    "# data_path:\"/data2\"\n",
    "# decay:0.38993471232202725\n",
    "# EPOCH:20\n",
    "# hard_reset:true\n",
    "# IMAGE_SIZE:28\n",
    "# learning_rate:0.06285718352377828\n",
    "# pre_spike_weight:6.21970124592063\n",
    "# rate_coding:true\n",
    "# TIME_STEP:16\n",
    "# time_step:16\n",
    "# v_decay:0.38993471232202725\n",
    "# v_reset:0\n",
    "# v_threshold:1\n",
    "# which_data:\"MNIST\"\n",
    "\n",
    "# BATCH:64\n",
    "# batch_size:64\n",
    "# data_path:\"/data2\"\n",
    "# decay:0.9266077968579136\n",
    "# EPOCH:20\n",
    "# hard_reset:true\n",
    "# IMAGE_SIZE:28\n",
    "# learning_rate:0.07732456724854177\n",
    "# pre_spike_weight:1.5377416716615555\n",
    "# rate_coding:true\n",
    "# TIME_STEP:7\n",
    "# time_step:7\n",
    "# v_decay:0.9266077968579136\n",
    "# v_reset:0\n",
    "# v_threshold:1\n",
    "# which_data:\"FASHION_MNIST\""
   ]
  },
  {
   "cell_type": "code",
   "execution_count": 2,
   "metadata": {},
   "outputs": [],
   "source": [
    "# Copyright (c) 2024 Byeonghyeon Kim \n",
    "# github site: https://github.com/bhkim003/ByeonghyeonKim\n",
    "# email: bhkim003@snu.ac.kr\n",
    " \n",
    "# Permission is hereby granted, free of charge, to any person obtaining a copy of\n",
    "# this software and associated documentation files (the \"Software\"), to deal in\n",
    "# the Software without restriction, including without limitation the rights to\n",
    "# use, copy, modify, merge, publish, distribute, sublicense, and/or sell copies of\n",
    "# the Software, and to permit persons to whom the Software is furnished to do so,\n",
    "# subject to the following conditions:\n",
    " \n",
    "# The above copyright notice and this permission notice shall be included in all\n",
    "# copies or substantial portions of the Software.\n",
    " \n",
    "# THE SOFTWARE IS PROVIDED \"AS IS\", WITHOUT WARRANTY OF ANY KIND, EXPRESS OR\n",
    "# IMPLIED, INCLUDING BUT NOT LIMITED TO THE WARRANTIES OF MERCHANTABILITY, FITNESS\n",
    "# FOR A PARTICULAR PURPOSE AND NONINFRINGEMENT. IN NO EVENT SHALL THE AUTHORS OR\n",
    "# COPYRIGHT HOLDERS BE LIABLE FOR ANY CLAIM, DAMAGES OR OTHER LIABILITY, WHETHER\n",
    "# IN AN ACTION OF CONTRACT, TORT OR OTHERWISE, ARISING FROM, OUT OF OR IN\n",
    "# CONNECTION WITH THE SOFTWARE OR THE USE OR OTHER DEALINGS IN THE SOFTWARE.\n"
   ]
  },
  {
   "cell_type": "code",
   "execution_count": 3,
   "metadata": {},
   "outputs": [],
   "source": [
    "import sys\n",
    "import os\n",
    "import torch\n",
    "import torch.nn as nn\n",
    "import torch.nn.functional as F\n",
    "import torch.backends.cudnn as cudnn\n",
    "import torch.optim as optim\n",
    "import torch.optim.lr_scheduler as lr_scheduler\n",
    "from torch.utils.data import Dataset, DataLoader\n",
    "\n",
    "import torchvision\n",
    "import torchvision.datasets\n",
    "import torchvision.transforms as transforms\n",
    "\n",
    "import numpy as np\n",
    "import matplotlib.pyplot as plt\n",
    "\n",
    "\n",
    "from snntorch import spikegen\n",
    "\n",
    " \n",
    "import wandb"
   ]
  },
  {
   "cell_type": "code",
   "execution_count": 4,
   "metadata": {},
   "outputs": [
    {
     "data": {
      "image/png": "[encoded data removed]",
      "text/plain": [
       "<Figure size 800x600 with 2 Axes>"
      ]
     },
     "metadata": {},
     "output_type": "display_data"
    }
   ],
   "source": [
    "# my module import\n",
    "from modules import *"
   ]
  },
  {
   "cell_type": "code",
   "execution_count": 5,
   "metadata": {},
   "outputs": [],
   "source": [
    "    \n",
    "class RESERVOIR(nn.Module):\n",
    "    def __init__ (self, TIME_STEP=8, in_spike_size=28, in_channel=1, receptive_size=3, v_init=0, v_decay=0.6, v_threshold=1, v_reset=0, hard_reset=True, pre_spike_weight=1,\n",
    "                  FC_RESERVOIR=False):\n",
    "        super(RESERVOIR, self).__init__()\n",
    "        self.TIME_STEP = TIME_STEP\n",
    "        self.in_spike_size = in_spike_size\n",
    "        self.in_channel = in_channel\n",
    "        self.receptive_size = receptive_size #3\n",
    "        self.v_init = v_init\n",
    "        self.v_decay = v_decay\n",
    "        self.v_threshold = v_threshold\n",
    "        self.v_reset = v_reset\n",
    "        self.hard_reset = hard_reset\n",
    "        self.pre_spike_weight = pre_spike_weight\n",
    "        self.FC_RESERVOIR = FC_RESERVOIR\n",
    "\n",
    "        self.out_channel = 1\n",
    "\n",
    "        # 파라미터 \n",
    "        if self.FC_RESERVOIR == True:\n",
    "            self.reservoir = nn.Linear(in_features=self.in_channel*self.in_spike_size*self.in_spike_size, out_features=self.in_channel*self.in_spike_size*self.in_spike_size, bias=True)\n",
    "        else:\n",
    "            self.reservoir = nn.Conv2d(in_channels=self.in_channel, out_channels=self.in_channel, \n",
    "                                            kernel_size=self.receptive_size, \n",
    "                                            stride=1, padding=1, groups=self.in_channel)\n",
    "\n",
    "        # kaiming 초기화\n",
    "        nn.init.kaiming_normal_(self.reservoir.weight, mode='fan_out', nonlinearity='relu')\n",
    "        nn.init.constant_(self.reservoir.bias, 0)\n",
    "\n",
    "        # membrane potential 초기화\n",
    "        self.v = torch.full((self.in_channel, self.in_spike_size, self.in_spike_size), fill_value=self.v_init, requires_grad=False)\n",
    "\n",
    "        \n",
    "    def forward(self, pre_spike):    \n",
    "        # pre_spike [TIME_STEP, batch_size, in_channel, in_spike_size, in_spike_size]\n",
    "\n",
    "        v = torch.full_like(pre_spike[0], fill_value=self.v_init, requires_grad=False)\n",
    "        post_spike = torch.zeros_like(pre_spike[0], requires_grad=False)\n",
    "        # v [batch_size, in_channel, in_spike_size, in_spike_size]\n",
    "        # recurrent [batch_size, in_channel, in_spike_size, in_spike_size]\n",
    "\n",
    "        # timestep 안 맞으면 종료\n",
    "        assert pre_spike.size(0) == self.TIME_STEP, f\"Time step mismatch: {pre_spike.size(0)} vs {self.TIME_STEP}\"\n",
    "\n",
    "        output = []\n",
    "        for t in range (self.TIME_STEP):\n",
    "            # depthwise conv reservoir: pre_spike[t] [batch_size, in_channel, in_spike_size, in_spike_size]\n",
    "            # fc conv reservoir: pre_spike[t] [batch_size, in_channel*in_spike_size*in_spike_size]\n",
    "            input_current = self.pre_spike_weight * pre_spike[t]\n",
    "                \n",
    "            recurrent_current = self.reservoir(post_spike)\n",
    "            current = input_current + recurrent_current\n",
    "            # current [batch_size, in_channel, in_spike_size, in_spike_size] # kernel size 3이니까 사이즈 유지\n",
    "            \n",
    "            # decay and itegrate\n",
    "            v = v*self.v_decay + current\n",
    "\n",
    "            # post spike\n",
    "            post_spike = (v >= self.v_threshold).float()\n",
    "\n",
    "            output.append(post_spike)\n",
    "            \n",
    "            #reset\n",
    "            if self.hard_reset: # hard reset\n",
    "                v = (1 - post_spike)*v + post_spike*self.v_reset \n",
    "            else: # soft reset\n",
    "                v = v - post_spike*self.v_threshold\n",
    "\n",
    "        output = torch.stack(output, dim=0)\n",
    "        return output"
   ]
  },
  {
   "cell_type": "code",
   "execution_count": 6,
   "metadata": {},
   "outputs": [],
   "source": [
    "class RESERVOIR_NET(nn.Module):\n",
    "    def __init__(self, TIME_STEP=8, CLASS_NUM=10, in_spike_size=28, in_channel=1, receptive_size=3, v_init=0, v_decay=0.6, v_threshold=1, v_reset=0, hard_reset=True, pre_spike_weight=1,\n",
    "                 no_reservoir = False, FC_RESERVOIR=False):\n",
    "        super(RESERVOIR_NET, self).__init__()\n",
    "        self.TIME_STEP = TIME_STEP\n",
    "        self.no_reservoir = no_reservoir\n",
    "        self.FC_RESERVOIR = FC_RESERVOIR\n",
    "\n",
    "        if self.no_reservoir == False:\n",
    "            self.reservoir = RESERVOIR(TIME_STEP = self.TIME_STEP, in_spike_size=in_spike_size, in_channel=in_channel, receptive_size=receptive_size, v_init=v_init, v_decay=v_decay, v_threshold=v_threshold, v_reset=v_reset, hard_reset=hard_reset, pre_spike_weight=pre_spike_weight,\n",
    "                                       FC_RESERVOIR=FC_RESERVOIR)\n",
    "        \n",
    "        self.classifier = nn.Linear(in_features=in_channel*in_spike_size*in_spike_size, out_features=CLASS_NUM)\n",
    "\n",
    "    def forward(self, x):\n",
    "        assert self.TIME_STEP == x.size(1), f\"Time step mismatch: {x.size(1)} vs {self.TIME_STEP}\"\n",
    "\n",
    "        # x size [batch_size, TIME_STEP, in_channel, in_spike_size, in_spike_size]\n",
    "        x = x.permute(1,0,2,3,4)\n",
    "        # x size [TIME_STEP, batch_size, in_channel, in_spike_size, in_spike_size]\n",
    "\n",
    "        if (self.FC_RESERVOIR == True):\n",
    "            x = x.reshape(x.size(0), x.size(1), -1)\n",
    "\n",
    "        if self.no_reservoir == False:\n",
    "            with torch.no_grad():\n",
    "                x = self.reservoir(x) # reservoir weight는 학습 안함\n",
    "\n",
    "        T, B, *spatial_dims = x.shape\n",
    "\n",
    "        x = x.reshape(T * B, -1) # time,batch 축은 합쳐서 FC에 삽입\n",
    "\n",
    "        x = self.classifier(x)\n",
    "\n",
    "        x = x.view(T , B, -1).contiguous() \n",
    "        \n",
    "        x = x.mean(dim=0)\n",
    "        return x"
   ]
  },
  {
   "cell_type": "code",
   "execution_count": 7,
   "metadata": {},
   "outputs": [],
   "source": [
    "def data_loader(which_data, data_path, rate_coding, BATCH, IMAGE_SIZE, TIME, dvs_duration, dvs_clipping):\n",
    "    if which_data == 'MNIST':\n",
    "        if rate_coding :\n",
    "            transform = transforms.Compose([transforms.Resize((IMAGE_SIZE, IMAGE_SIZE)),\n",
    "                                        transforms.ToTensor(),\n",
    "                                        transforms.Normalize((0,), (1,))])\n",
    "        else : \n",
    "            transform = transforms.Compose([transforms.Resize((IMAGE_SIZE, IMAGE_SIZE)),\n",
    "                                    transforms.ToTensor(),\n",
    "                                    transforms.Normalize((0.5,),(0.5))])\n",
    "\n",
    "        trainset = torchvision.datasets.MNIST(root=data_path,\n",
    "                                            train=True,\n",
    "                                            download=True,\n",
    "                                            transform=transform)\n",
    "\n",
    "\n",
    "        testset = torchvision.datasets.MNIST(root=data_path,\n",
    "                                            train=False,\n",
    "                                            download=True,\n",
    "                                            transform=transform)\n",
    "\n",
    "        train_loader = DataLoader(trainset,\n",
    "                                batch_size =BATCH,\n",
    "                                shuffle = True,\n",
    "                                num_workers =2)\n",
    "        test_loader = DataLoader(testset,\n",
    "                                batch_size =BATCH,\n",
    "                                shuffle = False,\n",
    "                                num_workers =2)\n",
    "        synapse_conv_in_channels = 1\n",
    "        CLASS_NUM = 10\n",
    "\n",
    "\n",
    "    \n",
    "\n",
    "    elif (which_data == 'CIFAR10'):\n",
    "\n",
    "        if rate_coding :\n",
    "            # transform_train = transforms.Compose([transforms.Resize((IMAGE_SIZE, IMAGE_SIZE)),\n",
    "            #                                     transforms.RandomHorizontalFlip(),\n",
    "            #                                     transforms.ToTensor()])\n",
    "\n",
    "            # transform_test = transforms.Compose([transforms.Resize((IMAGE_SIZE, IMAGE_SIZE)),\n",
    "            #                                     transforms.ToTensor()])\n",
    "            \n",
    "            transform_train = transforms.Compose([transforms.Resize((IMAGE_SIZE, IMAGE_SIZE)),\n",
    "                                                transforms.RandomHorizontalFlip(),\n",
    "                                                transforms.ToTensor()])\n",
    "                                            # transforms.Normalize((0.4914, 0.4822, 0.4465), (0.2023, 0.1994, 0.2010))\n",
    "\n",
    "            transform_test = transforms.Compose([transforms.Resize((IMAGE_SIZE, IMAGE_SIZE)),\n",
    "                                                transforms.ToTensor()])\n",
    "        \n",
    "        else :\n",
    "            # transform_train = transforms.Compose([transforms.Resize((IMAGE_SIZE, IMAGE_SIZE)),\n",
    "            #                                     transforms.RandomHorizontalFlip(),\n",
    "            #                                     transforms.ToTensor(),\n",
    "            #                                     transforms.Normalize((0.4914, 0.4822, 0.4465), (0.247, 0.243, 0.261))])\n",
    "            #                                 # transforms.Normalize((0.4914, 0.4822, 0.4465), (0.2023, 0.1994, 0.2010))\n",
    "\n",
    "            # transform_test = transforms.Compose([transforms.Resize((IMAGE_SIZE, IMAGE_SIZE)),\n",
    "            #                                     transforms.ToTensor(),\n",
    "            #                                     transforms.Normalize((0.4914, 0.4822, 0.4465), (0.247, 0.243, 0.261)),])\n",
    "            #                                 # transforms.Normalize((0.4914, 0.4822, 0.4465), (0.2023, 0.1994, 0.2010))\n",
    "            \n",
    "            # assert IMAGE_SIZE == 32, 'OTTT랑 맞짱뜰 때는 32로 ㄱ'\n",
    "            transform_train = transforms.Compose([\n",
    "                transforms.RandomCrop(IMAGE_SIZE, padding=4),\n",
    "                transforms.RandomHorizontalFlip(),\n",
    "                transforms.ToTensor(),\n",
    "                transforms.Normalize((0.4914, 0.4822, 0.4465),\n",
    "                                    (0.2023, 0.1994, 0.2010)),\n",
    "            ])\n",
    "            transform_test = transforms.Compose([\n",
    "                transforms.ToTensor(),\n",
    "                transforms.Normalize((0.4914, 0.4822, 0.4465),\n",
    "                                    (0.2023, 0.1994, 0.2010)),\n",
    "            ])\n",
    "\n",
    "        trainset = torchvision.datasets.CIFAR10(root=data_path,\n",
    "                                            train=True,\n",
    "                                            download=True,\n",
    "                                            transform=transform_train)\n",
    "\n",
    "\n",
    "        testset = torchvision.datasets.CIFAR10(root=data_path,\n",
    "                                            train=False,\n",
    "                                            download=True,\n",
    "                                            transform=transform_test)\n",
    "        \n",
    "        \n",
    "        train_loader = DataLoader(trainset,\n",
    "                                batch_size =BATCH,\n",
    "                                shuffle = True,\n",
    "                                num_workers =2)\n",
    "        test_loader = DataLoader(testset,\n",
    "                                batch_size =BATCH,\n",
    "                                shuffle = False,\n",
    "                                num_workers =2)\n",
    "        \n",
    "        synapse_conv_in_channels = 3\n",
    "        CLASS_NUM = 10\n",
    "        '''\n",
    "        classes = ('plane', 'car', 'bird', 'cat', 'deer',\n",
    "                'dog', 'frog', 'horse', 'ship', 'truck') \n",
    "        '''\n",
    "\n",
    "\n",
    "    elif (which_data == 'FASHION_MNIST'):\n",
    "\n",
    "        if rate_coding :\n",
    "            transform = transforms.Compose([transforms.Resize((IMAGE_SIZE, IMAGE_SIZE)),\n",
    "                                    transforms.ToTensor()])\n",
    "        else : \n",
    "            transform = transforms.Compose([transforms.Resize((IMAGE_SIZE, IMAGE_SIZE)),\n",
    "                                    transforms.ToTensor(),\n",
    "                                    transforms.Normalize((0.5,),(0.5))])\n",
    "\n",
    "        trainset = torchvision.datasets.FashionMNIST(root=data_path,\n",
    "                                            train=True,\n",
    "                                            download=True,\n",
    "                                            transform=transform)\n",
    "\n",
    "\n",
    "        testset = torchvision.datasets.FashionMNIST(root=data_path,\n",
    "                                            train=False,\n",
    "                                            download=True,\n",
    "                                            transform=transform)\n",
    "\n",
    "        train_loader = DataLoader(trainset,\n",
    "                                batch_size =BATCH,\n",
    "                                shuffle = True,\n",
    "                                num_workers =2)\n",
    "        test_loader = DataLoader(testset,\n",
    "                                batch_size =BATCH,\n",
    "                                shuffle = False,\n",
    "                                num_workers =2)\n",
    "        synapse_conv_in_channels = 1\n",
    "        CLASS_NUM = 10\n",
    "    elif (which_data == 'DVS_GESTURE'):\n",
    "        data_dir = data_path + '/gesture'\n",
    "        transform = None\n",
    "\n",
    "        # # spikingjelly.datasets.dvs128_gesture.DVS128Gesture(root: str, train: bool, use_frame=True, frames_num=10, split_by='number', normalization='max')\n",
    "       \n",
    "        #https://spikingjelly.readthedocs.io/zh-cn/latest/activation_based_en/neuromorphic_datasets.html\n",
    "        # 10ms마다 1개의 timestep하고 싶으면 위의 주소 참고. 근데 timestep이 각각 좀 다를 거임.\n",
    "\n",
    "        \n",
    "        if dvs_duration > 0:\n",
    "            resize_shape = (IMAGE_SIZE, IMAGE_SIZE)\n",
    "            train_data = CustomDVS128Gesture(\n",
    "                data_dir, train=True, data_type='frame',  split_by='time',  duration=dvs_duration, resize_shape=resize_shape, dvs_clipping=dvs_clipping, dvs_duration_copy=dvs_duration, TIME=TIME)\n",
    "            test_data = CustomDVS128Gesture(\n",
    "                data_dir, train=False, data_type='frame',  split_by='time',  duration=dvs_duration, resize_shape=resize_shape, dvs_clipping=dvs_clipping, dvs_duration_copy=dvs_duration, TIME=TIME)\n",
    "\n",
    "        else:\n",
    "            train_data = CustomDVS128Gesture(\n",
    "                data_dir, train=True, data_type='frame', split_by='number', frames_number=TIME, resize_shape=resize_shape, dvs_clipping=dvs_clipping, dvs_duration_copy=dvs_duration, TIME=TIME)\n",
    "            test_data = CustomDVS128Gesture(data_dir, train=False,\n",
    "                                            data_type='frame', split_by='number', frames_number=TIME, resize_shape=resize_shape, dvs_clipping=dvs_clipping, dvs_duration_copy=dvs_duration, TIME=TIME)\n",
    "        \n",
    "        exclude_class = 10\n",
    "        train_indices = [i for i, (_, target) in enumerate(train_data) if target != exclude_class]\n",
    "        test_indices = [i for i, (_, target) in enumerate(test_data) if target != exclude_class]\n",
    "    \n",
    "        # SubsetRandomSampler 생성\n",
    "        train_sampler = SubsetRandomSampler(train_indices)\n",
    "        test_sampler = SequentialSampler(test_indices)\n",
    "\n",
    "        # ([B, T, 2, 128, 128]) \n",
    "        train_loader = torch.utils.data.DataLoader(dataset=train_data, batch_size=BATCH, num_workers=2, sampler=train_sampler, collate_fn=pad_sequence_collate)\n",
    "        test_loader = torch.utils.data.DataLoader(dataset=test_data, batch_size=BATCH, num_workers=2, sampler=test_sampler, collate_fn=pad_sequence_collate)\n",
    "        synapse_conv_in_channels = 2\n",
    "        CLASS_NUM = 10\n",
    "        # mapping = { 0 :'Hand Clapping'  1 :'Right Hand Wave'2 :'Left Hand Wave' 3 :'Right Arm CW'   4 :'Right Arm CCW'  5 :'Left Arm CW'    6 :'Left Arm CCW'   7 :'Arm Roll'       8 :'Air Drums'      9 :'Air Guitar'     10:'Other'}\n",
    "\n",
    "\n",
    "    else:\n",
    "        assert False, 'wrong dataset name'\n",
    "\n",
    "\n",
    "    \n",
    "    return train_loader, test_loader, synapse_conv_in_channels, CLASS_NUM"
   ]
  },
  {
   "cell_type": "code",
   "execution_count": 8,
   "metadata": {},
   "outputs": [],
   "source": [
    "def train(model, train_loader, criterion, optimizer, device, rate_coding, TIME_STEP, which_data):\n",
    "    model.train()\n",
    "    running_loss = 0.0\n",
    "    correct = 0\n",
    "    total = 0\n",
    "    iterator = enumerate(train_loader, 0)\n",
    "    for i, data in iterator:\n",
    "    # for i, (inputs, labels) in enumerate(train_loader):\n",
    "        if len(data) == 2:\n",
    "            inputs, labels = data\n",
    "            # 처리 로직 작성\n",
    "        elif len(data) == 3:\n",
    "            inputs, labels, x_len = data\n",
    "\n",
    "        inputs, labels = inputs.to(device), labels.to(device)\n",
    "\n",
    "        # if rate_coding == True:\n",
    "        #     inputs = spikegen.rate(inputs, num_steps=TIME_STEP)\n",
    "        # else:\n",
    "        #     inputs = inputs.repeat(TIME_STEP, 1, 1, 1, 1)\n",
    "        \n",
    "\n",
    "        ###########################################################################################################################        \n",
    "        if (which_data == 'n_tidigits'):\n",
    "            inputs = inputs.permute(0, 1, 3, 2, 4)\n",
    "            labels = labels[:, 0, :]\n",
    "            labels = torch.argmax(labels, dim=1)\n",
    "        elif (which_data == 'heidelberg'):\n",
    "            inputs = inputs.view(5, 1000, 1, 700, 1)\n",
    "            print(\"\\n\\n\\n경고!!!! heidelberg 이거 타임스텝이랑 채널 잘 바꿔줘라!!!\\n\\n\\n\\n\")\n",
    "        # print('inputs',inputs.size(),'\\nlabels',labels.size())\n",
    "        # print(labels)\n",
    "            \n",
    "        if (which_data == 'DVS_CIFAR10' or which_data == 'DVS_GESTURE' or which_data == 'DVS_CIFAR10_2' or which_data == 'NMNIST' or which_data == 'N_CALTECH101' or which_data == 'n_tidigits' or which_data == 'heidelberg'):\n",
    "            inputs = inputs.permute(1, 0, 2, 3, 4)\n",
    "        elif rate_coding == True :\n",
    "            inputs = spikegen.rate(inputs, num_steps=TIME_STEP)\n",
    "        else :\n",
    "            inputs = inputs.repeat(TIME_STEP, 1, 1, 1, 1)\n",
    "        # inputs: [Time, Batch, Channel, Height, Width]  \n",
    "        ####################################################################################################################### \n",
    "\n",
    "        \n",
    "        \n",
    "        \n",
    "        \n",
    "        inputs = inputs.permute(1, 0, 2, 3, 4)\n",
    "        optimizer.zero_grad()\n",
    "        outputs = model(inputs)\n",
    "        loss = criterion(outputs, labels)\n",
    "        loss.backward()\n",
    "        optimizer.step()\n",
    "        running_loss += loss.item()\n",
    "        _, predicted = torch.max(outputs.data, 1)\n",
    "        total += labels.size(0)\n",
    "        iter_correct = (predicted == labels).sum().item()\n",
    "        correct += iter_correct\n",
    "        # if i % 100 == 99:\n",
    "        # print(f\"[{i+1}] loss: {running_loss / 100:.3f}\")\n",
    "        # running_loss = 0.0\n",
    "        iter_accuracy = 100 * iter_correct / labels.size(0)\n",
    "        wandb.log({\"iter_accuracy\": iter_accuracy})\n",
    "    tr_accuracy = 100 * correct / total         \n",
    "    wandb.log({\"tr_accuracy\": tr_accuracy})\n",
    "    print(f\"Train Accuracy: {tr_accuracy:.2f}%\")\n",
    "    \n",
    "def test(model, test_loader, criterion, device, rate_coding, TIME_STEP, which_data):\n",
    "    model.eval()\n",
    "    correct = 0\n",
    "    total = 0\n",
    "    test_loss = 0.0\n",
    "    iterator = enumerate(test_loader, 0)\n",
    "    with torch.no_grad():\n",
    "        for i, data in iterator:\n",
    "        # for inputs, labels in test_loader:\n",
    "            if len(data) == 2:\n",
    "                inputs, labels = data\n",
    "                # 처리 로직 작성\n",
    "            elif len(data) == 3:\n",
    "                inputs, labels, x_len = data\n",
    "                \n",
    "            inputs, labels = inputs.to(device), labels.to(device)\n",
    "\n",
    "            # if rate_coding == True:\n",
    "            #     inputs = spikegen.rate(inputs, num_steps=TIME_STEP)\n",
    "            # else:\n",
    "            #     inputs = inputs.repeat(TIME_STEP, 1, 1, 1, 1)\n",
    "\n",
    "        \n",
    "\n",
    "            ###########################################################################################################################        \n",
    "            if (which_data == 'n_tidigits'):\n",
    "                inputs = inputs.permute(0, 1, 3, 2, 4)\n",
    "                labels = labels[:, 0, :]\n",
    "                labels = torch.argmax(labels, dim=1)\n",
    "            elif (which_data == 'heidelberg'):\n",
    "                inputs = inputs.view(5, 1000, 1, 700, 1)\n",
    "                print(\"\\n\\n\\n경고!!!! heidelberg 이거 타임스텝이랑 채널 잘 바꿔줘라!!!\\n\\n\\n\\n\")\n",
    "            # print('inputs',inputs.size(),'\\nlabels',labels.size())\n",
    "            # print(labels)\n",
    "                \n",
    "            if (which_data == 'DVS_CIFAR10' or which_data == 'DVS_GESTURE' or which_data == 'DVS_CIFAR10_2' or which_data == 'NMNIST' or which_data == 'N_CALTECH101' or which_data == 'n_tidigits' or which_data == 'heidelberg'):\n",
    "                inputs = inputs.permute(1, 0, 2, 3, 4)\n",
    "            elif rate_coding == True :\n",
    "                inputs = spikegen.rate(inputs, num_steps=TIME_STEP)\n",
    "            else :\n",
    "                inputs = inputs.repeat(TIME_STEP, 1, 1, 1, 1)\n",
    "            # inputs: [Time, Batch, Channel, Height, Width]  \n",
    "            ####################################################################################################################### \n",
    "\n",
    "        \n",
    "\n",
    "\n",
    "            inputs = inputs.permute(1, 0, 2, 3, 4)\n",
    "        \n",
    "            outputs = model(inputs)\n",
    "            loss = criterion(outputs, labels)\n",
    "            test_loss += loss.item()\n",
    "            _, predicted = torch.max(outputs.data, 1)\n",
    "            total += labels.size(0)\n",
    "            correct += (predicted == labels).sum().item()\n",
    "    val_accuracy = 100 * correct / total\n",
    "    wandb.log({\"val_accuracy\": val_accuracy})\n",
    "    print(f\"Test loss: {test_loss / len(test_loader):.3f}, Val Accuracy: {val_accuracy:.2f}%\")\n"
   ]
  },
  {
   "cell_type": "code",
   "execution_count": 9,
   "metadata": {},
   "outputs": [],
   "source": [
    "def main(data_path='/data2', which_data='MNIST', gpu = '3',learning_rate = 0.0001, BATCH=5, IMAGE_SIZE=28, TIME_STEP=8, EPOCH=10, rate_coding=True, v_decay= 0.6,\n",
    "v_threshold=1, v_reset=0, hard_reset=True, pre_spike_weight=1, dvs_duration=1000000, dvs_clipping=True, no_reservoir = False, FC_RESERVOIR=False):\n",
    "    os.environ[\"CUDA_VISIBLE_DEVICES\"]= gpu\n",
    "    # run = wandb.init(project=f'reservoir')\n",
    "\n",
    "    hyperparameters = locals()\n",
    "\n",
    "    wandb.config.update(hyperparameters)\n",
    "    wandb.run.name = f'{which_data}_sweeprun_epoch{EPOCH}'\n",
    "    wandb.run.log_code(\".\", include_fn=lambda path: path.endswith(\".py\") or path.endswith(\".ipynb\"))\n",
    "\n",
    "    train_loader, test_loader, in_channel, CLASS_NUM = data_loader(\n",
    "        which_data=which_data, data_path=data_path, rate_coding=rate_coding, BATCH=BATCH, IMAGE_SIZE=IMAGE_SIZE, TIME=TIME_STEP, dvs_duration=dvs_duration, dvs_clipping=dvs_clipping)\n",
    "\n",
    "    device = torch.device('cuda' if torch.cuda.is_available() else 'cpu')\n",
    "    net = RESERVOIR_NET(TIME_STEP=TIME_STEP, CLASS_NUM=CLASS_NUM, in_spike_size=IMAGE_SIZE, in_channel=in_channel, receptive_size=3, v_init=0, v_decay=v_decay, v_threshold=v_threshold, v_reset=v_reset, hard_reset=hard_reset, pre_spike_weight=pre_spike_weight, \n",
    "                            no_reservoir = no_reservoir, FC_RESERVOIR=FC_RESERVOIR)\n",
    "    net = net.to(device)\n",
    "    wandb.watch(net, log=\"all\", log_freq = 1) #gradient, parameter logging해줌\n",
    "\n",
    "    criterion = nn.CrossEntropyLoss()\n",
    "    # optimizer = optim.Adam(net.parameters(), lr=learning_rate)\n",
    "    optimizer = optim.SGD(net.parameters(), lr=learning_rate, momentum=0.9, weight_decay=0)\n",
    "\n",
    "    print(net)\n",
    "\n",
    "    for epoch in range(EPOCH):\n",
    "        print(f\"Epoch {epoch+1}\")\n",
    "        train(net, train_loader, criterion, optimizer, device, rate_coding, TIME_STEP, which_data)\n",
    "        test(net, test_loader, criterion, device, rate_coding, TIME_STEP, which_data)\n",
    "        wandb.log({\"epoch\": epoch})\n",
    "        # torch.save(net.state_dict(), 'net_save/reservoir_net.pth')\n",
    "        # artifact = wandb.Artifact('model', type='model')\n",
    "        # artifact.add_file('net_save/reservoir_net.pth')\n",
    "        # run.log_artifact(artifact)\n"
   ]
  },
  {
   "cell_type": "code",
   "execution_count": 10,
   "metadata": {},
   "outputs": [],
   "source": [
    "# # sweep 하기 싫을 때\n",
    "# wandb.init(project=f'reservoir')\n",
    "# main(data_path='/data2', which_data='CIFAR10', gpu = '3', learning_rate = 0.0072, BATCH=256, IMAGE_SIZE=32, TIME_STEP=9, EPOCH=50, rate_coding=True, v_decay= 0.78,\n",
    "# v_threshold=1, v_reset=0, hard_reset=True, pre_spike_weight=5.0, dvs_duration=1000000, dvs_clipping=True, no_reservoir = False, FC_RESERVOIR=False)"
   ]
  },
  {
   "cell_type": "code",
   "execution_count": 11,
   "metadata": {},
   "outputs": [
    {
     "name": "stderr",
     "output_type": "stream",
     "text": [
      "Failed to detect the name of this notebook, you can set it manually with the WANDB_NOTEBOOK_NAME environment variable to enable code saving.\n"
     ]
    },
    {
     "name": "stdout",
     "output_type": "stream",
     "text": [
      "Create sweep with ID: sxt07a51\n",
      "Sweep URL: https://wandb.ai/bhkim003-seoul-national-university/reservoir/sweeps/sxt07a51\n"
     ]
    },
    {
     "name": "stderr",
     "output_type": "stream",
     "text": [
      "\u001b[34m\u001b[1mwandb\u001b[0m: Agent Starting Run: 4hf9343k with config:\n",
      "\u001b[34m\u001b[1mwandb\u001b[0m: \tEPOCH: 20\n",
      "\u001b[34m\u001b[1mwandb\u001b[0m: \tFC_RESERVOIR: True\n",
      "\u001b[34m\u001b[1mwandb\u001b[0m: \tIMAGE_SIZE: 48\n",
      "\u001b[34m\u001b[1mwandb\u001b[0m: \tbatch_size: 16\n",
      "\u001b[34m\u001b[1mwandb\u001b[0m: \tdata_path: /data2\n",
      "\u001b[34m\u001b[1mwandb\u001b[0m: \tdecay: 0.6740985954392293\n",
      "\u001b[34m\u001b[1mwandb\u001b[0m: \tdvs_clipping: True\n",
      "\u001b[34m\u001b[1mwandb\u001b[0m: \tdvs_duration: 100000\n",
      "\u001b[34m\u001b[1mwandb\u001b[0m: \tlearning_rate: 0.05547339875693387\n",
      "\u001b[34m\u001b[1mwandb\u001b[0m: \tno_reservoir: True\n",
      "\u001b[34m\u001b[1mwandb\u001b[0m: \tpre_spike_weight: 1.727411919624344\n",
      "\u001b[34m\u001b[1mwandb\u001b[0m: \trate_coding: False\n",
      "\u001b[34m\u001b[1mwandb\u001b[0m: \ttime_step: 5\n",
      "\u001b[34m\u001b[1mwandb\u001b[0m: \twhich_data: DVS_GESTURE\n",
      "Failed to detect the name of this notebook, you can set it manually with the WANDB_NOTEBOOK_NAME environment variable to enable code saving.\n",
      "\u001b[34m\u001b[1mwandb\u001b[0m: Currently logged in as: \u001b[33mbhkim003\u001b[0m (\u001b[33mbhkim003-seoul-national-university\u001b[0m). Use \u001b[1m`wandb login --relogin`\u001b[0m to force relogin\n"
     ]
    },
    {
     "data": {
      "text/html": [
       "Tracking run with wandb version 0.17.5"
      ],
      "text/plain": [
       "<IPython.core.display.HTML object>"
      ]
     },
     "metadata": {},
     "output_type": "display_data"
    },
    {
     "data": {
      "text/html": [
       "Run data is saved locally in <code>/nfs/home/bhkim003/github_folder/ByeonghyeonKim/my_snn/wandb/run-20240726_142958-4hf9343k</code>"
      ],
      "text/plain": [
       "<IPython.core.display.HTML object>"
      ]
     },
     "metadata": {},
     "output_type": "display_data"
    },
    {
     "data": {
      "text/html": [
       "Syncing run <strong><a href='https://wandb.ai/bhkim003-seoul-national-university/reservoir/runs/4hf9343k' target=\"_blank\">dandy-sweep-1</a></strong> to <a href='https://wandb.ai/bhkim003-seoul-national-university/reservoir' target=\"_blank\">Weights & Biases</a> (<a href='https://wandb.me/run' target=\"_blank\">docs</a>)<br/>Sweep page: <a href='https://wandb.ai/bhkim003-seoul-national-university/reservoir/sweeps/sxt07a51' target=\"_blank\">https://wandb.ai/bhkim003-seoul-national-university/reservoir/sweeps/sxt07a51</a>"
      ],
      "text/plain": [
       "<IPython.core.display.HTML object>"
      ]
     },
     "metadata": {},
     "output_type": "display_data"
    },
    {
     "data": {
      "text/html": [
       " View project at <a href='https://wandb.ai/bhkim003-seoul-national-university/reservoir' target=\"_blank\">https://wandb.ai/bhkim003-seoul-national-university/reservoir</a>"
      ],
      "text/plain": [
       "<IPython.core.display.HTML object>"
      ]
     },
     "metadata": {},
     "output_type": "display_data"
    },
    {
     "data": {
      "text/html": [
       " View sweep at <a href='https://wandb.ai/bhkim003-seoul-national-university/reservoir/sweeps/sxt07a51' target=\"_blank\">https://wandb.ai/bhkim003-seoul-national-university/reservoir/sweeps/sxt07a51</a>"
      ],
      "text/plain": [
       "<IPython.core.display.HTML object>"
      ]
     },
     "metadata": {},
     "output_type": "display_data"
    },
    {
     "data": {
      "text/html": [
       " View run at <a href='https://wandb.ai/bhkim003-seoul-national-university/reservoir/runs/4hf9343k' target=\"_blank\">https://wandb.ai/bhkim003-seoul-national-university/reservoir/runs/4hf9343k</a>"
      ],
      "text/plain": [
       "<IPython.core.display.HTML object>"
      ]
     },
     "metadata": {},
     "output_type": "display_data"
    },
    {
     "name": "stderr",
     "output_type": "stream",
     "text": [
      "\u001b[34m\u001b[1mwandb\u001b[0m: \u001b[33mWARNING\u001b[0m Config item 'data_path' was locked by 'sweep' (ignored update).\n",
      "\u001b[34m\u001b[1mwandb\u001b[0m: \u001b[33mWARNING\u001b[0m Config item 'which_data' was locked by 'sweep' (ignored update).\n",
      "\u001b[34m\u001b[1mwandb\u001b[0m: \u001b[33mWARNING\u001b[0m Config item 'learning_rate' was locked by 'sweep' (ignored update).\n",
      "\u001b[34m\u001b[1mwandb\u001b[0m: \u001b[33mWARNING\u001b[0m Config item 'IMAGE_SIZE' was locked by 'sweep' (ignored update).\n",
      "\u001b[34m\u001b[1mwandb\u001b[0m: \u001b[33mWARNING\u001b[0m Config item 'EPOCH' was locked by 'sweep' (ignored update).\n",
      "\u001b[34m\u001b[1mwandb\u001b[0m: \u001b[33mWARNING\u001b[0m Config item 'rate_coding' was locked by 'sweep' (ignored update).\n",
      "\u001b[34m\u001b[1mwandb\u001b[0m: \u001b[33mWARNING\u001b[0m Config item 'pre_spike_weight' was locked by 'sweep' (ignored update).\n",
      "\u001b[34m\u001b[1mwandb\u001b[0m: \u001b[33mWARNING\u001b[0m Config item 'dvs_duration' was locked by 'sweep' (ignored update).\n",
      "\u001b[34m\u001b[1mwandb\u001b[0m: \u001b[33mWARNING\u001b[0m Config item 'dvs_clipping' was locked by 'sweep' (ignored update).\n",
      "\u001b[34m\u001b[1mwandb\u001b[0m: \u001b[33mWARNING\u001b[0m Config item 'no_reservoir' was locked by 'sweep' (ignored update).\n",
      "\u001b[34m\u001b[1mwandb\u001b[0m: \u001b[33mWARNING\u001b[0m Config item 'FC_RESERVOIR' was locked by 'sweep' (ignored update).\n"
     ]
    },
    {
     "name": "stdout",
     "output_type": "stream",
     "text": [
      "The directory [/data2/gesture/duration_100000] already exists.\n",
      "The directory [/data2/gesture/duration_100000] already exists.\n",
      "RESERVOIR_NET(\n",
      "  (classifier): Linear(in_features=4608, out_features=10, bias=True)\n",
      ")\n",
      "Epoch 1\n",
      "Train Accuracy: 44.25%\n",
      "Test loss: 4.612, Val Accuracy: 51.14%\n",
      "Epoch 2\n",
      "Train Accuracy: 68.92%\n",
      "Test loss: 4.719, Val Accuracy: 46.21%\n",
      "Epoch 3\n",
      "Train Accuracy: 77.46%\n",
      "Test loss: 2.386, Val Accuracy: 57.20%\n",
      "Epoch 4\n",
      "Train Accuracy: 89.15%\n",
      "Test loss: 3.833, Val Accuracy: 45.83%\n",
      "Epoch 5\n",
      "Train Accuracy: 88.96%\n",
      "Test loss: 1.974, Val Accuracy: 63.26%\n",
      "Epoch 6\n",
      "Train Accuracy: 98.14%\n",
      "Test loss: 2.050, Val Accuracy: 60.98%\n",
      "Epoch 7\n",
      "Train Accuracy: 99.63%\n",
      "Test loss: 1.701, Val Accuracy: 62.50%\n",
      "Epoch 8\n",
      "Train Accuracy: 99.81%\n",
      "Test loss: 1.728, Val Accuracy: 63.64%\n",
      "Epoch 9\n",
      "Train Accuracy: 100.00%\n",
      "Test loss: 1.804, Val Accuracy: 63.26%\n",
      "Epoch 10\n",
      "Train Accuracy: 100.00%\n",
      "Test loss: 1.796, Val Accuracy: 64.77%\n",
      "Epoch 11\n",
      "Train Accuracy: 100.00%\n",
      "Test loss: 1.782, Val Accuracy: 63.64%\n",
      "Epoch 12\n",
      "Train Accuracy: 100.00%\n",
      "Test loss: 1.782, Val Accuracy: 64.02%\n",
      "Epoch 13\n",
      "Train Accuracy: 100.00%\n",
      "Test loss: 1.788, Val Accuracy: 64.39%\n",
      "Epoch 14\n",
      "Train Accuracy: 100.00%\n",
      "Test loss: 1.787, Val Accuracy: 64.39%\n",
      "Epoch 15\n",
      "Train Accuracy: 100.00%\n",
      "Test loss: 1.779, Val Accuracy: 64.02%\n",
      "Epoch 16\n",
      "Train Accuracy: 100.00%\n",
      "Test loss: 1.784, Val Accuracy: 64.77%\n",
      "Epoch 17\n",
      "Train Accuracy: 100.00%\n",
      "Test loss: 1.780, Val Accuracy: 65.15%\n",
      "Epoch 18\n",
      "Train Accuracy: 100.00%\n",
      "Test loss: 1.783, Val Accuracy: 65.15%\n",
      "Epoch 19\n",
      "Train Accuracy: 100.00%\n",
      "Test loss: 1.777, Val Accuracy: 64.77%\n",
      "Epoch 20\n",
      "Train Accuracy: 100.00%\n",
      "Test loss: 1.787, Val Accuracy: 64.77%\n"
     ]
    },
    {
     "data": {
      "application/vnd.jupyter.widget-view+json": {
       "model_id": "a76f36663fb54faeab45222182cdebca",
       "version_major": 2,
       "version_minor": 0
      },
      "text/plain": [
       "VBox(children=(Label(value='20.893 MB of 20.893 MB uploaded (20.755 MB deduped)\\r'), FloatProgress(value=1.0, …"
      ]
     },
     "metadata": {},
     "output_type": "display_data"
    },
    {
     "data": {
      "text/html": [
       "W&B sync reduced upload amount by 99.1%"
      ],
      "text/plain": [
       "<IPython.core.display.HTML object>"
      ]
     },
     "metadata": {},
     "output_type": "display_data"
    },
    {
     "data": {
      "text/html": [
       "<style>\n",
       "    table.wandb td:nth-child(1) { padding: 0 10px; text-align: left ; width: auto;} td:nth-child(2) {text-align: left ; width: 100%}\n",
       "    .wandb-row { display: flex; flex-direction: row; flex-wrap: wrap; justify-content: flex-start; width: 100% }\n",
       "    .wandb-col { display: flex; flex-direction: column; flex-basis: 100%; flex: 1; padding: 10px; }\n",
       "    </style>\n",
       "<div class=\"wandb-row\"><div class=\"wandb-col\"><h3>Run history:</h3><br/><table class=\"wandb\"><tr><td>epoch</td><td>▁▁▂▂▂▃▃▄▄▄▅▅▅▆▆▇▇▇██</td></tr><tr><td>iter_accuracy</td><td>▁▄▅▅█▆█▆▇▅██████████████████████████████</td></tr><tr><td>tr_accuracy</td><td>▁▄▅▇▇███████████████</td></tr><tr><td>val_accuracy</td><td>▃▁▅▁▇▆▇▇▇█▇█████████</td></tr></table><br/></div><div class=\"wandb-col\"><h3>Run summary:</h3><br/><table class=\"wandb\"><tr><td>epoch</td><td>19</td></tr><tr><td>iter_accuracy</td><td>100.0</td></tr><tr><td>tr_accuracy</td><td>100.0</td></tr><tr><td>val_accuracy</td><td>64.77273</td></tr></table><br/></div></div>"
      ],
      "text/plain": [
       "<IPython.core.display.HTML object>"
      ]
     },
     "metadata": {},
     "output_type": "display_data"
    },
    {
     "data": {
      "text/html": [
       " View run <strong style=\"color:#cdcd00\">dandy-sweep-1</strong> at: <a href='https://wandb.ai/bhkim003-seoul-national-university/reservoir/runs/4hf9343k' target=\"_blank\">https://wandb.ai/bhkim003-seoul-national-university/reservoir/runs/4hf9343k</a><br/> View project at: <a href='https://wandb.ai/bhkim003-seoul-national-university/reservoir' target=\"_blank\">https://wandb.ai/bhkim003-seoul-national-university/reservoir</a><br/>Synced 7 W&B file(s), 0 media file(s), 33 artifact file(s) and 1 other file(s)"
      ],
      "text/plain": [
       "<IPython.core.display.HTML object>"
      ]
     },
     "metadata": {},
     "output_type": "display_data"
    },
    {
     "data": {
      "text/html": [
       "Find logs at: <code>./wandb/run-20240726_142958-4hf9343k/logs</code>"
      ],
      "text/plain": [
       "<IPython.core.display.HTML object>"
      ]
     },
     "metadata": {},
     "output_type": "display_data"
    },
    {
     "data": {
      "text/html": [
       "The new W&B backend becomes opt-out in version 0.18.0; try it out with `wandb.require(\"core\")`! See https://wandb.me/wandb-core for more information."
      ],
      "text/plain": [
       "<IPython.core.display.HTML object>"
      ]
     },
     "metadata": {},
     "output_type": "display_data"
    },
    {
     "name": "stderr",
     "output_type": "stream",
     "text": [
      "\u001b[34m\u001b[1mwandb\u001b[0m: Agent Starting Run: wa37w5q6 with config:\n",
      "\u001b[34m\u001b[1mwandb\u001b[0m: \tEPOCH: 20\n",
      "\u001b[34m\u001b[1mwandb\u001b[0m: \tFC_RESERVOIR: True\n",
      "\u001b[34m\u001b[1mwandb\u001b[0m: \tIMAGE_SIZE: 128\n",
      "\u001b[34m\u001b[1mwandb\u001b[0m: \tbatch_size: 32\n",
      "\u001b[34m\u001b[1mwandb\u001b[0m: \tdata_path: /data2\n",
      "\u001b[34m\u001b[1mwandb\u001b[0m: \tdecay: 0.8690162552626626\n",
      "\u001b[34m\u001b[1mwandb\u001b[0m: \tdvs_clipping: True\n",
      "\u001b[34m\u001b[1mwandb\u001b[0m: \tdvs_duration: 100000\n",
      "\u001b[34m\u001b[1mwandb\u001b[0m: \tlearning_rate: 0.045639693271154864\n",
      "\u001b[34m\u001b[1mwandb\u001b[0m: \tno_reservoir: False\n",
      "\u001b[34m\u001b[1mwandb\u001b[0m: \tpre_spike_weight: 6.159923164713908\n",
      "\u001b[34m\u001b[1mwandb\u001b[0m: \trate_coding: True\n",
      "\u001b[34m\u001b[1mwandb\u001b[0m: \ttime_step: 6\n",
      "\u001b[34m\u001b[1mwandb\u001b[0m: \twhich_data: DVS_GESTURE\n",
      "Failed to detect the name of this notebook, you can set it manually with the WANDB_NOTEBOOK_NAME environment variable to enable code saving.\n"
     ]
    },
    {
     "data": {
      "text/html": [
       "Tracking run with wandb version 0.17.5"
      ],
      "text/plain": [
       "<IPython.core.display.HTML object>"
      ]
     },
     "metadata": {},
     "output_type": "display_data"
    },
    {
     "data": {
      "text/html": [
       "Run data is saved locally in <code>/nfs/home/bhkim003/github_folder/ByeonghyeonKim/my_snn/wandb/run-20240726_144458-wa37w5q6</code>"
      ],
      "text/plain": [
       "<IPython.core.display.HTML object>"
      ]
     },
     "metadata": {},
     "output_type": "display_data"
    },
    {
     "data": {
      "text/html": [
       "Syncing run <strong><a href='https://wandb.ai/bhkim003-seoul-national-university/reservoir/runs/wa37w5q6' target=\"_blank\">silvery-sweep-2</a></strong> to <a href='https://wandb.ai/bhkim003-seoul-national-university/reservoir' target=\"_blank\">Weights & Biases</a> (<a href='https://wandb.me/run' target=\"_blank\">docs</a>)<br/>Sweep page: <a href='https://wandb.ai/bhkim003-seoul-national-university/reservoir/sweeps/sxt07a51' target=\"_blank\">https://wandb.ai/bhkim003-seoul-national-university/reservoir/sweeps/sxt07a51</a>"
      ],
      "text/plain": [
       "<IPython.core.display.HTML object>"
      ]
     },
     "metadata": {},
     "output_type": "display_data"
    },
    {
     "data": {
      "text/html": [
       " View project at <a href='https://wandb.ai/bhkim003-seoul-national-university/reservoir' target=\"_blank\">https://wandb.ai/bhkim003-seoul-national-university/reservoir</a>"
      ],
      "text/plain": [
       "<IPython.core.display.HTML object>"
      ]
     },
     "metadata": {},
     "output_type": "display_data"
    },
    {
     "data": {
      "text/html": [
       " View sweep at <a href='https://wandb.ai/bhkim003-seoul-national-university/reservoir/sweeps/sxt07a51' target=\"_blank\">https://wandb.ai/bhkim003-seoul-national-university/reservoir/sweeps/sxt07a51</a>"
      ],
      "text/plain": [
       "<IPython.core.display.HTML object>"
      ]
     },
     "metadata": {},
     "output_type": "display_data"
    },
    {
     "data": {
      "text/html": [
       " View run at <a href='https://wandb.ai/bhkim003-seoul-national-university/reservoir/runs/wa37w5q6' target=\"_blank\">https://wandb.ai/bhkim003-seoul-national-university/reservoir/runs/wa37w5q6</a>"
      ],
      "text/plain": [
       "<IPython.core.display.HTML object>"
      ]
     },
     "metadata": {},
     "output_type": "display_data"
    },
    {
     "name": "stderr",
     "output_type": "stream",
     "text": [
      "\u001b[34m\u001b[1mwandb\u001b[0m: \u001b[33mWARNING\u001b[0m Config item 'data_path' was locked by 'sweep' (ignored update).\n",
      "\u001b[34m\u001b[1mwandb\u001b[0m: \u001b[33mWARNING\u001b[0m Config item 'which_data' was locked by 'sweep' (ignored update).\n",
      "\u001b[34m\u001b[1mwandb\u001b[0m: \u001b[33mWARNING\u001b[0m Config item 'learning_rate' was locked by 'sweep' (ignored update).\n",
      "\u001b[34m\u001b[1mwandb\u001b[0m: \u001b[33mWARNING\u001b[0m Config item 'IMAGE_SIZE' was locked by 'sweep' (ignored update).\n",
      "\u001b[34m\u001b[1mwandb\u001b[0m: \u001b[33mWARNING\u001b[0m Config item 'EPOCH' was locked by 'sweep' (ignored update).\n",
      "\u001b[34m\u001b[1mwandb\u001b[0m: \u001b[33mWARNING\u001b[0m Config item 'rate_coding' was locked by 'sweep' (ignored update).\n",
      "\u001b[34m\u001b[1mwandb\u001b[0m: \u001b[33mWARNING\u001b[0m Config item 'pre_spike_weight' was locked by 'sweep' (ignored update).\n",
      "\u001b[34m\u001b[1mwandb\u001b[0m: \u001b[33mWARNING\u001b[0m Config item 'dvs_duration' was locked by 'sweep' (ignored update).\n",
      "\u001b[34m\u001b[1mwandb\u001b[0m: \u001b[33mWARNING\u001b[0m Config item 'dvs_clipping' was locked by 'sweep' (ignored update).\n",
      "\u001b[34m\u001b[1mwandb\u001b[0m: \u001b[33mWARNING\u001b[0m Config item 'no_reservoir' was locked by 'sweep' (ignored update).\n",
      "\u001b[34m\u001b[1mwandb\u001b[0m: \u001b[33mWARNING\u001b[0m Config item 'FC_RESERVOIR' was locked by 'sweep' (ignored update).\n"
     ]
    },
    {
     "name": "stdout",
     "output_type": "stream",
     "text": [
      "The directory [/data2/gesture/duration_100000] already exists.\n",
      "The directory [/data2/gesture/duration_100000] already exists.\n",
      "RESERVOIR_NET(\n",
      "  (reservoir): RESERVOIR(\n",
      "    (reservoir): Linear(in_features=32768, out_features=32768, bias=True)\n",
      "  )\n",
      "  (classifier): Linear(in_features=32768, out_features=10, bias=True)\n",
      ")\n",
      "Epoch 1\n",
      "Train Accuracy: 44.62%\n",
      "Test loss: 7.844, Val Accuracy: 48.11%\n",
      "Epoch 2\n",
      "Train Accuracy: 69.48%\n",
      "Test loss: 5.123, Val Accuracy: 54.55%\n",
      "Epoch 3\n",
      "Train Accuracy: 85.71%\n",
      "Test loss: 3.609, Val Accuracy: 58.71%\n",
      "Epoch 4\n",
      "Train Accuracy: 89.52%\n",
      "Test loss: 4.923, Val Accuracy: 57.58%\n",
      "Epoch 5\n",
      "Train Accuracy: 93.60%\n",
      "Test loss: 2.927, Val Accuracy: 62.50%\n",
      "Epoch 6\n",
      "Train Accuracy: 97.50%\n",
      "Test loss: 3.735, Val Accuracy: 56.44%\n",
      "Epoch 7\n",
      "Train Accuracy: 98.52%\n",
      "Test loss: 2.863, Val Accuracy: 60.61%\n",
      "Epoch 8\n",
      "Train Accuracy: 99.72%\n",
      "Test loss: 2.968, Val Accuracy: 62.12%\n",
      "Epoch 9\n",
      "Train Accuracy: 99.44%\n",
      "Test loss: 3.492, Val Accuracy: 56.06%\n",
      "Epoch 10\n",
      "Train Accuracy: 99.91%\n",
      "Test loss: 2.888, Val Accuracy: 63.64%\n",
      "Epoch 11\n",
      "Train Accuracy: 100.00%\n",
      "Test loss: 2.837, Val Accuracy: 63.64%\n",
      "Epoch 12\n",
      "Train Accuracy: 100.00%\n",
      "Test loss: 2.834, Val Accuracy: 62.88%\n",
      "Epoch 13\n",
      "Train Accuracy: 100.00%\n",
      "Test loss: 2.836, Val Accuracy: 63.26%\n",
      "Epoch 14\n",
      "Train Accuracy: 100.00%\n",
      "Test loss: 2.836, Val Accuracy: 63.26%\n",
      "Epoch 15\n",
      "Train Accuracy: 100.00%\n",
      "Test loss: 2.834, Val Accuracy: 63.26%\n",
      "Epoch 16\n",
      "Train Accuracy: 100.00%\n",
      "Test loss: 2.839, Val Accuracy: 63.64%\n",
      "Epoch 17\n",
      "Train Accuracy: 100.00%\n",
      "Test loss: 2.833, Val Accuracy: 63.26%\n",
      "Epoch 18\n",
      "Train Accuracy: 100.00%\n",
      "Test loss: 2.836, Val Accuracy: 63.26%\n",
      "Epoch 19\n",
      "Train Accuracy: 100.00%\n",
      "Test loss: 2.834, Val Accuracy: 63.26%\n",
      "Epoch 20\n",
      "Train Accuracy: 100.00%\n",
      "Test loss: 2.833, Val Accuracy: 63.64%\n"
     ]
    },
    {
     "data": {
      "application/vnd.jupyter.widget-view+json": {
       "model_id": "5fde278ee80945beb9cd01654a2a09f4",
       "version_major": 2,
       "version_minor": 0
      },
      "text/plain": [
       "VBox(children=(Label(value='20.952 MB of 20.952 MB uploaded (20.699 MB deduped)\\r'), FloatProgress(value=1.0, …"
      ]
     },
     "metadata": {},
     "output_type": "display_data"
    },
    {
     "data": {
      "text/html": [
       "W&B sync reduced upload amount by 98.5%"
      ],
      "text/plain": [
       "<IPython.core.display.HTML object>"
      ]
     },
     "metadata": {},
     "output_type": "display_data"
    },
    {
     "data": {
      "text/html": [
       "<style>\n",
       "    table.wandb td:nth-child(1) { padding: 0 10px; text-align: left ; width: auto;} td:nth-child(2) {text-align: left ; width: 100%}\n",
       "    .wandb-row { display: flex; flex-direction: row; flex-wrap: wrap; justify-content: flex-start; width: 100% }\n",
       "    .wandb-col { display: flex; flex-direction: column; flex-basis: 100%; flex: 1; padding: 10px; }\n",
       "    </style>\n",
       "<div class=\"wandb-row\"><div class=\"wandb-col\"><h3>Run history:</h3><br/><table class=\"wandb\"><tr><td>epoch</td><td>▁▁▂▂▂▃▃▄▄▄▅▅▅▆▆▇▇▇██</td></tr><tr><td>iter_accuracy</td><td>▁▃▅▅▆▇▇▇█▇██████████████████████████████</td></tr><tr><td>tr_accuracy</td><td>▁▄▆▇▇███████████████</td></tr><tr><td>val_accuracy</td><td>▁▄▆▅▇▅▇▇▅███████████</td></tr></table><br/></div><div class=\"wandb-col\"><h3>Run summary:</h3><br/><table class=\"wandb\"><tr><td>epoch</td><td>19</td></tr><tr><td>iter_accuracy</td><td>100.0</td></tr><tr><td>tr_accuracy</td><td>100.0</td></tr><tr><td>val_accuracy</td><td>63.63636</td></tr></table><br/></div></div>"
      ],
      "text/plain": [
       "<IPython.core.display.HTML object>"
      ]
     },
     "metadata": {},
     "output_type": "display_data"
    },
    {
     "data": {
      "text/html": [
       " View run <strong style=\"color:#cdcd00\">silvery-sweep-2</strong> at: <a href='https://wandb.ai/bhkim003-seoul-national-university/reservoir/runs/wa37w5q6' target=\"_blank\">https://wandb.ai/bhkim003-seoul-national-university/reservoir/runs/wa37w5q6</a><br/> View project at: <a href='https://wandb.ai/bhkim003-seoul-national-university/reservoir' target=\"_blank\">https://wandb.ai/bhkim003-seoul-national-university/reservoir</a><br/>Synced 7 W&B file(s), 0 media file(s), 32 artifact file(s) and 1 other file(s)"
      ],
      "text/plain": [
       "<IPython.core.display.HTML object>"
      ]
     },
     "metadata": {},
     "output_type": "display_data"
    },
    {
     "data": {
      "text/html": [
       "Find logs at: <code>./wandb/run-20240726_144458-wa37w5q6/logs</code>"
      ],
      "text/plain": [
       "<IPython.core.display.HTML object>"
      ]
     },
     "metadata": {},
     "output_type": "display_data"
    },
    {
     "data": {
      "text/html": [
       "The new W&B backend becomes opt-out in version 0.18.0; try it out with `wandb.require(\"core\")`! See https://wandb.me/wandb-core for more information."
      ],
      "text/plain": [
       "<IPython.core.display.HTML object>"
      ]
     },
     "metadata": {},
     "output_type": "display_data"
    },
    {
     "name": "stderr",
     "output_type": "stream",
     "text": [
      "\u001b[34m\u001b[1mwandb\u001b[0m: Agent Starting Run: ttbyradd with config:\n",
      "\u001b[34m\u001b[1mwandb\u001b[0m: \tEPOCH: 20\n",
      "\u001b[34m\u001b[1mwandb\u001b[0m: \tFC_RESERVOIR: True\n",
      "\u001b[34m\u001b[1mwandb\u001b[0m: \tIMAGE_SIZE: 32\n",
      "\u001b[34m\u001b[1mwandb\u001b[0m: \tbatch_size: 64\n",
      "\u001b[34m\u001b[1mwandb\u001b[0m: \tdata_path: /data2\n",
      "\u001b[34m\u001b[1mwandb\u001b[0m: \tdecay: 0.5556530188550081\n",
      "\u001b[34m\u001b[1mwandb\u001b[0m: \tdvs_clipping: True\n",
      "\u001b[34m\u001b[1mwandb\u001b[0m: \tdvs_duration: 100000\n",
      "\u001b[34m\u001b[1mwandb\u001b[0m: \tlearning_rate: 0.004276273809677299\n",
      "\u001b[34m\u001b[1mwandb\u001b[0m: \tno_reservoir: True\n",
      "\u001b[34m\u001b[1mwandb\u001b[0m: \tpre_spike_weight: 2.1346743930260854\n",
      "\u001b[34m\u001b[1mwandb\u001b[0m: \trate_coding: True\n",
      "\u001b[34m\u001b[1mwandb\u001b[0m: \ttime_step: 7\n",
      "\u001b[34m\u001b[1mwandb\u001b[0m: \twhich_data: DVS_GESTURE\n",
      "Failed to detect the name of this notebook, you can set it manually with the WANDB_NOTEBOOK_NAME environment variable to enable code saving.\n"
     ]
    },
    {
     "data": {
      "text/html": [
       "Tracking run with wandb version 0.17.5"
      ],
      "text/plain": [
       "<IPython.core.display.HTML object>"
      ]
     },
     "metadata": {},
     "output_type": "display_data"
    },
    {
     "data": {
      "text/html": [
       "Run data is saved locally in <code>/nfs/home/bhkim003/github_folder/ByeonghyeonKim/my_snn/wandb/run-20240726_165830-ttbyradd</code>"
      ],
      "text/plain": [
       "<IPython.core.display.HTML object>"
      ]
     },
     "metadata": {},
     "output_type": "display_data"
    },
    {
     "data": {
      "text/html": [
       "Syncing run <strong><a href='https://wandb.ai/bhkim003-seoul-national-university/reservoir/runs/ttbyradd' target=\"_blank\">woven-sweep-3</a></strong> to <a href='https://wandb.ai/bhkim003-seoul-national-university/reservoir' target=\"_blank\">Weights & Biases</a> (<a href='https://wandb.me/run' target=\"_blank\">docs</a>)<br/>Sweep page: <a href='https://wandb.ai/bhkim003-seoul-national-university/reservoir/sweeps/sxt07a51' target=\"_blank\">https://wandb.ai/bhkim003-seoul-national-university/reservoir/sweeps/sxt07a51</a>"
      ],
      "text/plain": [
       "<IPython.core.display.HTML object>"
      ]
     },
     "metadata": {},
     "output_type": "display_data"
    },
    {
     "data": {
      "text/html": [
       " View project at <a href='https://wandb.ai/bhkim003-seoul-national-university/reservoir' target=\"_blank\">https://wandb.ai/bhkim003-seoul-national-university/reservoir</a>"
      ],
      "text/plain": [
       "<IPython.core.display.HTML object>"
      ]
     },
     "metadata": {},
     "output_type": "display_data"
    },
    {
     "data": {
      "text/html": [
       " View sweep at <a href='https://wandb.ai/bhkim003-seoul-national-university/reservoir/sweeps/sxt07a51' target=\"_blank\">https://wandb.ai/bhkim003-seoul-national-university/reservoir/sweeps/sxt07a51</a>"
      ],
      "text/plain": [
       "<IPython.core.display.HTML object>"
      ]
     },
     "metadata": {},
     "output_type": "display_data"
    },
    {
     "data": {
      "text/html": [
       " View run at <a href='https://wandb.ai/bhkim003-seoul-national-university/reservoir/runs/ttbyradd' target=\"_blank\">https://wandb.ai/bhkim003-seoul-national-university/reservoir/runs/ttbyradd</a>"
      ],
      "text/plain": [
       "<IPython.core.display.HTML object>"
      ]
     },
     "metadata": {},
     "output_type": "display_data"
    },
    {
     "name": "stderr",
     "output_type": "stream",
     "text": [
      "\u001b[34m\u001b[1mwandb\u001b[0m: \u001b[33mWARNING\u001b[0m Config item 'data_path' was locked by 'sweep' (ignored update).\n",
      "\u001b[34m\u001b[1mwandb\u001b[0m: \u001b[33mWARNING\u001b[0m Config item 'which_data' was locked by 'sweep' (ignored update).\n",
      "\u001b[34m\u001b[1mwandb\u001b[0m: \u001b[33mWARNING\u001b[0m Config item 'learning_rate' was locked by 'sweep' (ignored update).\n",
      "\u001b[34m\u001b[1mwandb\u001b[0m: \u001b[33mWARNING\u001b[0m Config item 'IMAGE_SIZE' was locked by 'sweep' (ignored update).\n",
      "\u001b[34m\u001b[1mwandb\u001b[0m: \u001b[33mWARNING\u001b[0m Config item 'EPOCH' was locked by 'sweep' (ignored update).\n",
      "\u001b[34m\u001b[1mwandb\u001b[0m: \u001b[33mWARNING\u001b[0m Config item 'rate_coding' was locked by 'sweep' (ignored update).\n",
      "\u001b[34m\u001b[1mwandb\u001b[0m: \u001b[33mWARNING\u001b[0m Config item 'pre_spike_weight' was locked by 'sweep' (ignored update).\n",
      "\u001b[34m\u001b[1mwandb\u001b[0m: \u001b[33mWARNING\u001b[0m Config item 'dvs_duration' was locked by 'sweep' (ignored update).\n",
      "\u001b[34m\u001b[1mwandb\u001b[0m: \u001b[33mWARNING\u001b[0m Config item 'dvs_clipping' was locked by 'sweep' (ignored update).\n",
      "\u001b[34m\u001b[1mwandb\u001b[0m: \u001b[33mWARNING\u001b[0m Config item 'no_reservoir' was locked by 'sweep' (ignored update).\n",
      "\u001b[34m\u001b[1mwandb\u001b[0m: \u001b[33mWARNING\u001b[0m Config item 'FC_RESERVOIR' was locked by 'sweep' (ignored update).\n"
     ]
    },
    {
     "name": "stdout",
     "output_type": "stream",
     "text": [
      "The directory [/data2/gesture/duration_100000] already exists.\n",
      "The directory [/data2/gesture/duration_100000] already exists.\n",
      "RESERVOIR_NET(\n",
      "  (classifier): Linear(in_features=2048, out_features=10, bias=True)\n",
      ")\n",
      "Epoch 1\n",
      "Train Accuracy: 23.38%\n",
      "Test loss: 1.952, Val Accuracy: 36.36%\n",
      "Epoch 2\n",
      "Train Accuracy: 46.57%\n",
      "Test loss: 1.603, Val Accuracy: 45.45%\n",
      "Epoch 3\n",
      "Train Accuracy: 54.45%\n",
      "Test loss: 1.546, Val Accuracy: 51.14%\n",
      "Epoch 4\n",
      "Train Accuracy: 58.72%\n",
      "Test loss: 1.417, Val Accuracy: 50.00%\n",
      "Epoch 5\n",
      "Train Accuracy: 63.36%\n",
      "Test loss: 1.403, Val Accuracy: 54.17%\n",
      "Epoch 6\n",
      "Train Accuracy: 62.89%\n",
      "Test loss: 1.344, Val Accuracy: 53.41%\n",
      "Epoch 7\n",
      "Train Accuracy: 68.65%\n",
      "Test loss: 1.306, Val Accuracy: 56.82%\n",
      "Epoch 8\n",
      "Train Accuracy: 69.20%\n",
      "Test loss: 1.322, Val Accuracy: 54.92%\n",
      "Epoch 9\n",
      "Train Accuracy: 72.17%\n",
      "Test loss: 1.302, Val Accuracy: 58.33%\n",
      "Epoch 10\n",
      "Train Accuracy: 72.82%\n",
      "Test loss: 1.271, Val Accuracy: 56.82%\n",
      "Epoch 11\n",
      "Train Accuracy: 74.03%\n",
      "Test loss: 1.254, Val Accuracy: 60.61%\n",
      "Epoch 12\n",
      "Train Accuracy: 76.07%\n",
      "Test loss: 1.268, Val Accuracy: 60.23%\n",
      "Epoch 13\n",
      "Train Accuracy: 77.74%\n",
      "Test loss: 1.224, Val Accuracy: 59.85%\n",
      "Epoch 14\n",
      "Train Accuracy: 78.85%\n",
      "Test loss: 1.210, Val Accuracy: 60.61%\n",
      "Epoch 15\n",
      "Train Accuracy: 78.57%\n",
      "Test loss: 1.217, Val Accuracy: 60.98%\n",
      "Epoch 16\n",
      "Train Accuracy: 80.06%\n",
      "Test loss: 1.187, Val Accuracy: 64.77%\n",
      "Epoch 17\n",
      "Train Accuracy: 81.08%\n",
      "Test loss: 1.178, Val Accuracy: 62.88%\n",
      "Epoch 18\n",
      "Train Accuracy: 81.91%\n",
      "Test loss: 1.187, Val Accuracy: 61.36%\n",
      "Epoch 19\n",
      "Train Accuracy: 83.21%\n",
      "Test loss: 1.194, Val Accuracy: 64.39%\n",
      "Epoch 20\n",
      "Train Accuracy: 83.02%\n",
      "Test loss: 1.169, Val Accuracy: 64.77%\n"
     ]
    },
    {
     "data": {
      "application/vnd.jupyter.widget-view+json": {
       "model_id": "cd84d42222b944298574d327181c7582",
       "version_major": 2,
       "version_minor": 0
      },
      "text/plain": [
       "VBox(children=(Label(value='0.581 MB of 0.581 MB uploaded\\r'), FloatProgress(value=1.0, max=1.0)))"
      ]
     },
     "metadata": {},
     "output_type": "display_data"
    },
    {
     "data": {
      "text/html": [
       "<style>\n",
       "    table.wandb td:nth-child(1) { padding: 0 10px; text-align: left ; width: auto;} td:nth-child(2) {text-align: left ; width: 100%}\n",
       "    .wandb-row { display: flex; flex-direction: row; flex-wrap: wrap; justify-content: flex-start; width: 100% }\n",
       "    .wandb-col { display: flex; flex-direction: column; flex-basis: 100%; flex: 1; padding: 10px; }\n",
       "    </style>\n",
       "<div class=\"wandb-row\"><div class=\"wandb-col\"><h3>Run history:</h3><br/><table class=\"wandb\"><tr><td>epoch</td><td>▁▁▂▂▂▃▃▄▄▄▅▅▅▆▆▇▇▇██</td></tr><tr><td>iter_accuracy</td><td>▁▂▃▃▅▆▆▅▅▆▆▅▆▇▆▆▆█▅▆▇▇▇▇▇▇▆██▆▇██▇▇▆▇█▇▇</td></tr><tr><td>tr_accuracy</td><td>▁▄▅▅▆▆▆▆▇▇▇▇▇▇▇█████</td></tr><tr><td>val_accuracy</td><td>▁▃▅▄▅▅▆▆▆▆▇▇▇▇▇██▇██</td></tr></table><br/></div><div class=\"wandb-col\"><h3>Run summary:</h3><br/><table class=\"wandb\"><tr><td>epoch</td><td>19</td></tr><tr><td>iter_accuracy</td><td>77.77778</td></tr><tr><td>tr_accuracy</td><td>83.02412</td></tr><tr><td>val_accuracy</td><td>64.77273</td></tr></table><br/></div></div>"
      ],
      "text/plain": [
       "<IPython.core.display.HTML object>"
      ]
     },
     "metadata": {},
     "output_type": "display_data"
    },
    {
     "data": {
      "text/html": [
       " View run <strong style=\"color:#cdcd00\">woven-sweep-3</strong> at: <a href='https://wandb.ai/bhkim003-seoul-national-university/reservoir/runs/ttbyradd' target=\"_blank\">https://wandb.ai/bhkim003-seoul-national-university/reservoir/runs/ttbyradd</a><br/> View project at: <a href='https://wandb.ai/bhkim003-seoul-national-university/reservoir' target=\"_blank\">https://wandb.ai/bhkim003-seoul-national-university/reservoir</a><br/>Synced 7 W&B file(s), 0 media file(s), 0 artifact file(s) and 1 other file(s)"
      ],
      "text/plain": [
       "<IPython.core.display.HTML object>"
      ]
     },
     "metadata": {},
     "output_type": "display_data"
    },
    {
     "data": {
      "text/html": [
       "Find logs at: <code>./wandb/run-20240726_165830-ttbyradd/logs</code>"
      ],
      "text/plain": [
       "<IPython.core.display.HTML object>"
      ]
     },
     "metadata": {},
     "output_type": "display_data"
    },
    {
     "data": {
      "text/html": [
       "The new W&B backend becomes opt-out in version 0.18.0; try it out with `wandb.require(\"core\")`! See https://wandb.me/wandb-core for more information."
      ],
      "text/plain": [
       "<IPython.core.display.HTML object>"
      ]
     },
     "metadata": {},
     "output_type": "display_data"
    },
    {
     "name": "stderr",
     "output_type": "stream",
     "text": [
      "\u001b[34m\u001b[1mwandb\u001b[0m: Sweep Agent: Waiting for job.\n",
      "\u001b[34m\u001b[1mwandb\u001b[0m: Job received.\n",
      "\u001b[34m\u001b[1mwandb\u001b[0m: Agent Starting Run: cu34ykbc with config:\n",
      "\u001b[34m\u001b[1mwandb\u001b[0m: \tEPOCH: 20\n",
      "\u001b[34m\u001b[1mwandb\u001b[0m: \tFC_RESERVOIR: True\n",
      "\u001b[34m\u001b[1mwandb\u001b[0m: \tIMAGE_SIZE: 32\n",
      "\u001b[34m\u001b[1mwandb\u001b[0m: \tbatch_size: 256\n",
      "\u001b[34m\u001b[1mwandb\u001b[0m: \tdata_path: /data2\n",
      "\u001b[34m\u001b[1mwandb\u001b[0m: \tdecay: 0.9743858223456344\n",
      "\u001b[34m\u001b[1mwandb\u001b[0m: \tdvs_clipping: True\n",
      "\u001b[34m\u001b[1mwandb\u001b[0m: \tdvs_duration: 100000\n",
      "\u001b[34m\u001b[1mwandb\u001b[0m: \tlearning_rate: 0.03792103463829028\n",
      "\u001b[34m\u001b[1mwandb\u001b[0m: \tno_reservoir: True\n",
      "\u001b[34m\u001b[1mwandb\u001b[0m: \tpre_spike_weight: 0.9625781791957606\n",
      "\u001b[34m\u001b[1mwandb\u001b[0m: \trate_coding: True\n",
      "\u001b[34m\u001b[1mwandb\u001b[0m: \ttime_step: 8\n",
      "\u001b[34m\u001b[1mwandb\u001b[0m: \twhich_data: DVS_GESTURE\n",
      "Failed to detect the name of this notebook, you can set it manually with the WANDB_NOTEBOOK_NAME environment variable to enable code saving.\n"
     ]
    },
    {
     "data": {
      "text/html": [
       "Tracking run with wandb version 0.17.5"
      ],
      "text/plain": [
       "<IPython.core.display.HTML object>"
      ]
     },
     "metadata": {},
     "output_type": "display_data"
    },
    {
     "data": {
      "text/html": [
       "Run data is saved locally in <code>/nfs/home/bhkim003/github_folder/ByeonghyeonKim/my_snn/wandb/run-20240726_171256-cu34ykbc</code>"
      ],
      "text/plain": [
       "<IPython.core.display.HTML object>"
      ]
     },
     "metadata": {},
     "output_type": "display_data"
    },
    {
     "data": {
      "text/html": [
       "Syncing run <strong><a href='https://wandb.ai/bhkim003-seoul-national-university/reservoir/runs/cu34ykbc' target=\"_blank\">kind-sweep-4</a></strong> to <a href='https://wandb.ai/bhkim003-seoul-national-university/reservoir' target=\"_blank\">Weights & Biases</a> (<a href='https://wandb.me/run' target=\"_blank\">docs</a>)<br/>Sweep page: <a href='https://wandb.ai/bhkim003-seoul-national-university/reservoir/sweeps/sxt07a51' target=\"_blank\">https://wandb.ai/bhkim003-seoul-national-university/reservoir/sweeps/sxt07a51</a>"
      ],
      "text/plain": [
       "<IPython.core.display.HTML object>"
      ]
     },
     "metadata": {},
     "output_type": "display_data"
    },
    {
     "data": {
      "text/html": [
       " View project at <a href='https://wandb.ai/bhkim003-seoul-national-university/reservoir' target=\"_blank\">https://wandb.ai/bhkim003-seoul-national-university/reservoir</a>"
      ],
      "text/plain": [
       "<IPython.core.display.HTML object>"
      ]
     },
     "metadata": {},
     "output_type": "display_data"
    },
    {
     "data": {
      "text/html": [
       " View sweep at <a href='https://wandb.ai/bhkim003-seoul-national-university/reservoir/sweeps/sxt07a51' target=\"_blank\">https://wandb.ai/bhkim003-seoul-national-university/reservoir/sweeps/sxt07a51</a>"
      ],
      "text/plain": [
       "<IPython.core.display.HTML object>"
      ]
     },
     "metadata": {},
     "output_type": "display_data"
    },
    {
     "data": {
      "text/html": [
       " View run at <a href='https://wandb.ai/bhkim003-seoul-national-university/reservoir/runs/cu34ykbc' target=\"_blank\">https://wandb.ai/bhkim003-seoul-national-university/reservoir/runs/cu34ykbc</a>"
      ],
      "text/plain": [
       "<IPython.core.display.HTML object>"
      ]
     },
     "metadata": {},
     "output_type": "display_data"
    },
    {
     "name": "stderr",
     "output_type": "stream",
     "text": [
      "\u001b[34m\u001b[1mwandb\u001b[0m: \u001b[33mWARNING\u001b[0m Config item 'data_path' was locked by 'sweep' (ignored update).\n",
      "\u001b[34m\u001b[1mwandb\u001b[0m: \u001b[33mWARNING\u001b[0m Config item 'which_data' was locked by 'sweep' (ignored update).\n",
      "\u001b[34m\u001b[1mwandb\u001b[0m: \u001b[33mWARNING\u001b[0m Config item 'learning_rate' was locked by 'sweep' (ignored update).\n",
      "\u001b[34m\u001b[1mwandb\u001b[0m: \u001b[33mWARNING\u001b[0m Config item 'IMAGE_SIZE' was locked by 'sweep' (ignored update).\n",
      "\u001b[34m\u001b[1mwandb\u001b[0m: \u001b[33mWARNING\u001b[0m Config item 'EPOCH' was locked by 'sweep' (ignored update).\n",
      "\u001b[34m\u001b[1mwandb\u001b[0m: \u001b[33mWARNING\u001b[0m Config item 'rate_coding' was locked by 'sweep' (ignored update).\n",
      "\u001b[34m\u001b[1mwandb\u001b[0m: \u001b[33mWARNING\u001b[0m Config item 'pre_spike_weight' was locked by 'sweep' (ignored update).\n",
      "\u001b[34m\u001b[1mwandb\u001b[0m: \u001b[33mWARNING\u001b[0m Config item 'dvs_duration' was locked by 'sweep' (ignored update).\n",
      "\u001b[34m\u001b[1mwandb\u001b[0m: \u001b[33mWARNING\u001b[0m Config item 'dvs_clipping' was locked by 'sweep' (ignored update).\n",
      "\u001b[34m\u001b[1mwandb\u001b[0m: \u001b[33mWARNING\u001b[0m Config item 'no_reservoir' was locked by 'sweep' (ignored update).\n",
      "\u001b[34m\u001b[1mwandb\u001b[0m: \u001b[33mWARNING\u001b[0m Config item 'FC_RESERVOIR' was locked by 'sweep' (ignored update).\n"
     ]
    },
    {
     "name": "stdout",
     "output_type": "stream",
     "text": [
      "The directory [/data2/gesture/duration_100000] already exists.\n",
      "The directory [/data2/gesture/duration_100000] already exists.\n",
      "RESERVOIR_NET(\n",
      "  (classifier): Linear(in_features=2048, out_features=10, bias=True)\n",
      ")\n",
      "Epoch 1\n",
      "Train Accuracy: 18.74%\n",
      "Test loss: 1.749, Val Accuracy: 38.64%\n",
      "Epoch 2\n",
      "Train Accuracy: 48.24%\n",
      "Test loss: 2.029, Val Accuracy: 48.11%\n",
      "Epoch 3\n",
      "Train Accuracy: 55.47%\n",
      "Test loss: 1.457, Val Accuracy: 51.89%\n",
      "Epoch 4\n",
      "Train Accuracy: 63.27%\n",
      "Test loss: 1.855, Val Accuracy: 53.41%\n",
      "Epoch 5\n",
      "Train Accuracy: 65.68%\n",
      "Test loss: 1.457, Val Accuracy: 53.03%\n",
      "Epoch 6\n",
      "Train Accuracy: 68.00%\n",
      "Test loss: 1.509, Val Accuracy: 59.09%\n",
      "Epoch 7\n",
      "Train Accuracy: 74.95%\n",
      "Test loss: 1.416, Val Accuracy: 55.30%\n",
      "Epoch 8\n",
      "Train Accuracy: 76.99%\n",
      "Test loss: 1.474, Val Accuracy: 62.88%\n",
      "Epoch 9\n",
      "Train Accuracy: 76.44%\n",
      "Test loss: 1.359, Val Accuracy: 62.12%\n",
      "Epoch 10\n",
      "Train Accuracy: 79.78%\n",
      "Test loss: 1.584, Val Accuracy: 69.32%\n",
      "Epoch 11\n",
      "Train Accuracy: 80.71%\n",
      "Test loss: 1.311, Val Accuracy: 64.39%\n",
      "Epoch 12\n",
      "Train Accuracy: 84.79%\n",
      "Test loss: 1.397, Val Accuracy: 66.67%\n",
      "Epoch 13\n",
      "Train Accuracy: 85.90%\n",
      "Test loss: 1.393, Val Accuracy: 66.67%\n",
      "Epoch 14\n",
      "Train Accuracy: 87.76%\n",
      "Test loss: 1.441, Val Accuracy: 68.18%\n",
      "Epoch 15\n",
      "Train Accuracy: 87.38%\n",
      "Test loss: 1.325, Val Accuracy: 65.53%\n",
      "Epoch 16\n",
      "Train Accuracy: 87.66%\n",
      "Test loss: 1.277, Val Accuracy: 68.56%\n",
      "Epoch 17\n",
      "Train Accuracy: 88.40%\n",
      "Test loss: 1.417, Val Accuracy: 65.15%\n",
      "Epoch 18\n",
      "Train Accuracy: 88.59%\n",
      "Test loss: 1.470, Val Accuracy: 67.42%\n",
      "Epoch 19\n",
      "Train Accuracy: 88.59%\n",
      "Test loss: 1.299, Val Accuracy: 68.94%\n",
      "Epoch 20\n",
      "Train Accuracy: 91.09%\n",
      "Test loss: 1.388, Val Accuracy: 67.80%\n"
     ]
    },
    {
     "data": {
      "application/vnd.jupyter.widget-view+json": {
       "model_id": "db73531bc78c46c6aeda05012f2aebb9",
       "version_major": 2,
       "version_minor": 0
      },
      "text/plain": [
       "VBox(children=(Label(value='0.581 MB of 0.581 MB uploaded\\r'), FloatProgress(value=1.0, max=1.0)))"
      ]
     },
     "metadata": {},
     "output_type": "display_data"
    },
    {
     "data": {
      "text/html": [
       "<style>\n",
       "    table.wandb td:nth-child(1) { padding: 0 10px; text-align: left ; width: auto;} td:nth-child(2) {text-align: left ; width: 100%}\n",
       "    .wandb-row { display: flex; flex-direction: row; flex-wrap: wrap; justify-content: flex-start; width: 100% }\n",
       "    .wandb-col { display: flex; flex-direction: column; flex-basis: 100%; flex: 1; padding: 10px; }\n",
       "    </style>\n",
       "<div class=\"wandb-row\"><div class=\"wandb-col\"><h3>Run history:</h3><br/><table class=\"wandb\"><tr><td>epoch</td><td>▁▁▂▂▂▃▃▄▄▄▅▅▅▆▆▇▇▇██</td></tr><tr><td>iter_accuracy</td><td>▁▂▄▄▄▅▅▅▅▆▅▆▇▇▇▇▆▇▇▇▇▇▇▇█▇█▇█▇██▇███▇███</td></tr><tr><td>tr_accuracy</td><td>▁▄▅▅▆▆▆▇▇▇▇▇▇███████</td></tr><tr><td>val_accuracy</td><td>▁▃▄▄▄▆▅▇▆█▇▇▇█▇█▇███</td></tr></table><br/></div><div class=\"wandb-col\"><h3>Run summary:</h3><br/><table class=\"wandb\"><tr><td>epoch</td><td>19</td></tr><tr><td>iter_accuracy</td><td>92.59259</td></tr><tr><td>tr_accuracy</td><td>91.09462</td></tr><tr><td>val_accuracy</td><td>67.80303</td></tr></table><br/></div></div>"
      ],
      "text/plain": [
       "<IPython.core.display.HTML object>"
      ]
     },
     "metadata": {},
     "output_type": "display_data"
    },
    {
     "data": {
      "text/html": [
       " View run <strong style=\"color:#cdcd00\">kind-sweep-4</strong> at: <a href='https://wandb.ai/bhkim003-seoul-national-university/reservoir/runs/cu34ykbc' target=\"_blank\">https://wandb.ai/bhkim003-seoul-national-university/reservoir/runs/cu34ykbc</a><br/> View project at: <a href='https://wandb.ai/bhkim003-seoul-national-university/reservoir' target=\"_blank\">https://wandb.ai/bhkim003-seoul-national-university/reservoir</a><br/>Synced 7 W&B file(s), 0 media file(s), 0 artifact file(s) and 1 other file(s)"
      ],
      "text/plain": [
       "<IPython.core.display.HTML object>"
      ]
     },
     "metadata": {},
     "output_type": "display_data"
    },
    {
     "data": {
      "text/html": [
       "Find logs at: <code>./wandb/run-20240726_171256-cu34ykbc/logs</code>"
      ],
      "text/plain": [
       "<IPython.core.display.HTML object>"
      ]
     },
     "metadata": {},
     "output_type": "display_data"
    },
    {
     "data": {
      "text/html": [
       "The new W&B backend becomes opt-out in version 0.18.0; try it out with `wandb.require(\"core\")`! See https://wandb.me/wandb-core for more information."
      ],
      "text/plain": [
       "<IPython.core.display.HTML object>"
      ]
     },
     "metadata": {},
     "output_type": "display_data"
    },
    {
     "name": "stderr",
     "output_type": "stream",
     "text": [
      "\u001b[34m\u001b[1mwandb\u001b[0m: Sweep Agent: Waiting for job.\n",
      "\u001b[34m\u001b[1mwandb\u001b[0m: Job received.\n",
      "\u001b[34m\u001b[1mwandb\u001b[0m: Agent Starting Run: 51uwbbem with config:\n",
      "\u001b[34m\u001b[1mwandb\u001b[0m: \tEPOCH: 20\n",
      "\u001b[34m\u001b[1mwandb\u001b[0m: \tFC_RESERVOIR: True\n",
      "\u001b[34m\u001b[1mwandb\u001b[0m: \tIMAGE_SIZE: 48\n",
      "\u001b[34m\u001b[1mwandb\u001b[0m: \tbatch_size: 128\n",
      "\u001b[34m\u001b[1mwandb\u001b[0m: \tdata_path: /data2\n",
      "\u001b[34m\u001b[1mwandb\u001b[0m: \tdecay: 0.8559067510249495\n",
      "\u001b[34m\u001b[1mwandb\u001b[0m: \tdvs_clipping: True\n",
      "\u001b[34m\u001b[1mwandb\u001b[0m: \tdvs_duration: 100000\n",
      "\u001b[34m\u001b[1mwandb\u001b[0m: \tlearning_rate: 0.09723766838059417\n",
      "\u001b[34m\u001b[1mwandb\u001b[0m: \tno_reservoir: False\n",
      "\u001b[34m\u001b[1mwandb\u001b[0m: \tpre_spike_weight: 0.6022544115808328\n",
      "\u001b[34m\u001b[1mwandb\u001b[0m: \trate_coding: False\n",
      "\u001b[34m\u001b[1mwandb\u001b[0m: \ttime_step: 8\n",
      "\u001b[34m\u001b[1mwandb\u001b[0m: \twhich_data: DVS_GESTURE\n",
      "Failed to detect the name of this notebook, you can set it manually with the WANDB_NOTEBOOK_NAME environment variable to enable code saving.\n"
     ]
    },
    {
     "data": {
      "text/html": [
       "Tracking run with wandb version 0.17.5"
      ],
      "text/plain": [
       "<IPython.core.display.HTML object>"
      ]
     },
     "metadata": {},
     "output_type": "display_data"
    },
    {
     "data": {
      "text/html": [
       "Run data is saved locally in <code>/nfs/home/bhkim003/github_folder/ByeonghyeonKim/my_snn/wandb/run-20240726_172921-51uwbbem</code>"
      ],
      "text/plain": [
       "<IPython.core.display.HTML object>"
      ]
     },
     "metadata": {},
     "output_type": "display_data"
    },
    {
     "data": {
      "text/html": [
       "Syncing run <strong><a href='https://wandb.ai/bhkim003-seoul-national-university/reservoir/runs/51uwbbem' target=\"_blank\">frosty-sweep-5</a></strong> to <a href='https://wandb.ai/bhkim003-seoul-national-university/reservoir' target=\"_blank\">Weights & Biases</a> (<a href='https://wandb.me/run' target=\"_blank\">docs</a>)<br/>Sweep page: <a href='https://wandb.ai/bhkim003-seoul-national-university/reservoir/sweeps/sxt07a51' target=\"_blank\">https://wandb.ai/bhkim003-seoul-national-university/reservoir/sweeps/sxt07a51</a>"
      ],
      "text/plain": [
       "<IPython.core.display.HTML object>"
      ]
     },
     "metadata": {},
     "output_type": "display_data"
    },
    {
     "data": {
      "text/html": [
       " View project at <a href='https://wandb.ai/bhkim003-seoul-national-university/reservoir' target=\"_blank\">https://wandb.ai/bhkim003-seoul-national-university/reservoir</a>"
      ],
      "text/plain": [
       "<IPython.core.display.HTML object>"
      ]
     },
     "metadata": {},
     "output_type": "display_data"
    },
    {
     "data": {
      "text/html": [
       " View sweep at <a href='https://wandb.ai/bhkim003-seoul-national-university/reservoir/sweeps/sxt07a51' target=\"_blank\">https://wandb.ai/bhkim003-seoul-national-university/reservoir/sweeps/sxt07a51</a>"
      ],
      "text/plain": [
       "<IPython.core.display.HTML object>"
      ]
     },
     "metadata": {},
     "output_type": "display_data"
    },
    {
     "data": {
      "text/html": [
       " View run at <a href='https://wandb.ai/bhkim003-seoul-national-university/reservoir/runs/51uwbbem' target=\"_blank\">https://wandb.ai/bhkim003-seoul-national-university/reservoir/runs/51uwbbem</a>"
      ],
      "text/plain": [
       "<IPython.core.display.HTML object>"
      ]
     },
     "metadata": {},
     "output_type": "display_data"
    },
    {
     "name": "stderr",
     "output_type": "stream",
     "text": [
      "\u001b[34m\u001b[1mwandb\u001b[0m: \u001b[33mWARNING\u001b[0m Config item 'data_path' was locked by 'sweep' (ignored update).\n",
      "\u001b[34m\u001b[1mwandb\u001b[0m: \u001b[33mWARNING\u001b[0m Config item 'which_data' was locked by 'sweep' (ignored update).\n",
      "\u001b[34m\u001b[1mwandb\u001b[0m: \u001b[33mWARNING\u001b[0m Config item 'learning_rate' was locked by 'sweep' (ignored update).\n",
      "\u001b[34m\u001b[1mwandb\u001b[0m: \u001b[33mWARNING\u001b[0m Config item 'IMAGE_SIZE' was locked by 'sweep' (ignored update).\n",
      "\u001b[34m\u001b[1mwandb\u001b[0m: \u001b[33mWARNING\u001b[0m Config item 'EPOCH' was locked by 'sweep' (ignored update).\n",
      "\u001b[34m\u001b[1mwandb\u001b[0m: \u001b[33mWARNING\u001b[0m Config item 'rate_coding' was locked by 'sweep' (ignored update).\n",
      "\u001b[34m\u001b[1mwandb\u001b[0m: \u001b[33mWARNING\u001b[0m Config item 'pre_spike_weight' was locked by 'sweep' (ignored update).\n",
      "\u001b[34m\u001b[1mwandb\u001b[0m: \u001b[33mWARNING\u001b[0m Config item 'dvs_duration' was locked by 'sweep' (ignored update).\n",
      "\u001b[34m\u001b[1mwandb\u001b[0m: \u001b[33mWARNING\u001b[0m Config item 'dvs_clipping' was locked by 'sweep' (ignored update).\n",
      "\u001b[34m\u001b[1mwandb\u001b[0m: \u001b[33mWARNING\u001b[0m Config item 'no_reservoir' was locked by 'sweep' (ignored update).\n",
      "\u001b[34m\u001b[1mwandb\u001b[0m: \u001b[33mWARNING\u001b[0m Config item 'FC_RESERVOIR' was locked by 'sweep' (ignored update).\n"
     ]
    },
    {
     "name": "stdout",
     "output_type": "stream",
     "text": [
      "The directory [/data2/gesture/duration_100000] already exists.\n",
      "The directory [/data2/gesture/duration_100000] already exists.\n",
      "RESERVOIR_NET(\n",
      "  (reservoir): RESERVOIR(\n",
      "    (reservoir): Linear(in_features=4608, out_features=4608, bias=True)\n",
      "  )\n",
      "  (classifier): Linear(in_features=4608, out_features=10, bias=True)\n",
      ")\n",
      "Epoch 1\n",
      "Train Accuracy: 30.71%\n",
      "Test loss: 1.710, Val Accuracy: 45.08%\n",
      "Epoch 2\n",
      "Train Accuracy: 57.61%\n",
      "Test loss: 1.263, Val Accuracy: 54.92%\n",
      "Epoch 3\n",
      "Train Accuracy: 70.96%\n",
      "Test loss: 1.275, Val Accuracy: 57.95%\n",
      "Epoch 4\n",
      "Train Accuracy: 77.18%\n",
      "Test loss: 1.223, Val Accuracy: 59.09%\n",
      "Epoch 5\n",
      "Train Accuracy: 79.96%\n",
      "Test loss: 1.183, Val Accuracy: 58.71%\n",
      "Epoch 6\n",
      "Train Accuracy: 82.93%\n",
      "Test loss: 1.130, Val Accuracy: 64.77%\n",
      "Epoch 7\n",
      "Train Accuracy: 89.89%\n",
      "Test loss: 1.158, Val Accuracy: 67.42%\n",
      "Epoch 8\n",
      "Train Accuracy: 94.06%\n",
      "Test loss: 1.201, Val Accuracy: 67.05%\n",
      "Epoch 9\n",
      "Train Accuracy: 94.71%\n",
      "Test loss: 1.242, Val Accuracy: 67.42%\n",
      "Epoch 10\n",
      "Train Accuracy: 95.83%\n",
      "Test loss: 1.228, Val Accuracy: 65.15%\n",
      "Epoch 11\n",
      "Train Accuracy: 95.18%\n",
      "Test loss: 1.192, Val Accuracy: 64.02%\n",
      "Epoch 12\n",
      "Train Accuracy: 96.66%\n",
      "Test loss: 1.058, Val Accuracy: 67.42%\n",
      "Epoch 13\n",
      "Train Accuracy: 98.24%\n",
      "Test loss: 1.217, Val Accuracy: 69.32%\n",
      "Epoch 14\n",
      "Train Accuracy: 98.33%\n",
      "Test loss: 1.229, Val Accuracy: 70.08%\n",
      "Epoch 15\n",
      "Train Accuracy: 98.79%\n",
      "Test loss: 1.228, Val Accuracy: 68.94%\n",
      "Epoch 16\n",
      "Train Accuracy: 99.26%\n",
      "Test loss: 1.136, Val Accuracy: 70.08%\n",
      "Epoch 17\n",
      "Train Accuracy: 98.98%\n",
      "Test loss: 1.345, Val Accuracy: 67.05%\n",
      "Epoch 18\n",
      "Train Accuracy: 99.54%\n",
      "Test loss: 1.206, Val Accuracy: 70.08%\n",
      "Epoch 19\n",
      "Train Accuracy: 99.54%\n",
      "Test loss: 1.112, Val Accuracy: 71.21%\n",
      "Epoch 20\n",
      "Train Accuracy: 99.44%\n",
      "Test loss: 1.220, Val Accuracy: 68.18%\n"
     ]
    },
    {
     "data": {
      "application/vnd.jupyter.widget-view+json": {
       "model_id": "4be661e9219746b8a0adba7734fe55ab",
       "version_major": 2,
       "version_minor": 0
      },
      "text/plain": [
       "VBox(children=(Label(value='0.581 MB of 0.581 MB uploaded\\r'), FloatProgress(value=1.0, max=1.0)))"
      ]
     },
     "metadata": {},
     "output_type": "display_data"
    },
    {
     "data": {
      "text/html": [
       "<style>\n",
       "    table.wandb td:nth-child(1) { padding: 0 10px; text-align: left ; width: auto;} td:nth-child(2) {text-align: left ; width: 100%}\n",
       "    .wandb-row { display: flex; flex-direction: row; flex-wrap: wrap; justify-content: flex-start; width: 100% }\n",
       "    .wandb-col { display: flex; flex-direction: column; flex-basis: 100%; flex: 1; padding: 10px; }\n",
       "    </style>\n",
       "<div class=\"wandb-row\"><div class=\"wandb-col\"><h3>Run history:</h3><br/><table class=\"wandb\"><tr><td>epoch</td><td>▁▁▂▂▂▃▃▄▄▄▅▅▅▆▆▇▇▇██</td></tr><tr><td>iter_accuracy</td><td>▁▃▄▅▅▅▅▆▅▆▆▇▇▇▇▇██▇█████████████████████</td></tr><tr><td>tr_accuracy</td><td>▁▄▅▆▆▆▇▇████████████</td></tr><tr><td>val_accuracy</td><td>▁▄▄▅▅▆▇▇▇▆▆▇▇█▇█▇██▇</td></tr></table><br/></div><div class=\"wandb-col\"><h3>Run summary:</h3><br/><table class=\"wandb\"><tr><td>epoch</td><td>19</td></tr><tr><td>iter_accuracy</td><td>100.0</td></tr><tr><td>tr_accuracy</td><td>99.44341</td></tr><tr><td>val_accuracy</td><td>68.18182</td></tr></table><br/></div></div>"
      ],
      "text/plain": [
       "<IPython.core.display.HTML object>"
      ]
     },
     "metadata": {},
     "output_type": "display_data"
    },
    {
     "data": {
      "text/html": [
       " View run <strong style=\"color:#cdcd00\">frosty-sweep-5</strong> at: <a href='https://wandb.ai/bhkim003-seoul-national-university/reservoir/runs/51uwbbem' target=\"_blank\">https://wandb.ai/bhkim003-seoul-national-university/reservoir/runs/51uwbbem</a><br/> View project at: <a href='https://wandb.ai/bhkim003-seoul-national-university/reservoir' target=\"_blank\">https://wandb.ai/bhkim003-seoul-national-university/reservoir</a><br/>Synced 7 W&B file(s), 0 media file(s), 0 artifact file(s) and 1 other file(s)"
      ],
      "text/plain": [
       "<IPython.core.display.HTML object>"
      ]
     },
     "metadata": {},
     "output_type": "display_data"
    },
    {
     "data": {
      "text/html": [
       "Find logs at: <code>./wandb/run-20240726_172921-51uwbbem/logs</code>"
      ],
      "text/plain": [
       "<IPython.core.display.HTML object>"
      ]
     },
     "metadata": {},
     "output_type": "display_data"
    },
    {
     "data": {
      "text/html": [
       "The new W&B backend becomes opt-out in version 0.18.0; try it out with `wandb.require(\"core\")`! See https://wandb.me/wandb-core for more information."
      ],
      "text/plain": [
       "<IPython.core.display.HTML object>"
      ]
     },
     "metadata": {},
     "output_type": "display_data"
    },
    {
     "name": "stderr",
     "output_type": "stream",
     "text": [
      "\u001b[34m\u001b[1mwandb\u001b[0m: Sweep Agent: Waiting for job.\n",
      "\u001b[34m\u001b[1mwandb\u001b[0m: Job received.\n",
      "\u001b[34m\u001b[1mwandb\u001b[0m: Agent Starting Run: to6dr1ft with config:\n",
      "\u001b[34m\u001b[1mwandb\u001b[0m: \tEPOCH: 20\n",
      "\u001b[34m\u001b[1mwandb\u001b[0m: \tFC_RESERVOIR: True\n",
      "\u001b[34m\u001b[1mwandb\u001b[0m: \tIMAGE_SIZE: 32\n",
      "\u001b[34m\u001b[1mwandb\u001b[0m: \tbatch_size: 256\n",
      "\u001b[34m\u001b[1mwandb\u001b[0m: \tdata_path: /data2\n",
      "\u001b[34m\u001b[1mwandb\u001b[0m: \tdecay: 0.6790656144412819\n",
      "\u001b[34m\u001b[1mwandb\u001b[0m: \tdvs_clipping: True\n",
      "\u001b[34m\u001b[1mwandb\u001b[0m: \tdvs_duration: 100000\n",
      "\u001b[34m\u001b[1mwandb\u001b[0m: \tlearning_rate: 0.06241633084178439\n",
      "\u001b[34m\u001b[1mwandb\u001b[0m: \tno_reservoir: True\n",
      "\u001b[34m\u001b[1mwandb\u001b[0m: \tpre_spike_weight: 4.213042369989743\n",
      "\u001b[34m\u001b[1mwandb\u001b[0m: \trate_coding: False\n",
      "\u001b[34m\u001b[1mwandb\u001b[0m: \ttime_step: 8\n",
      "\u001b[34m\u001b[1mwandb\u001b[0m: \twhich_data: DVS_GESTURE\n",
      "Failed to detect the name of this notebook, you can set it manually with the WANDB_NOTEBOOK_NAME environment variable to enable code saving.\n"
     ]
    },
    {
     "data": {
      "text/html": [
       "Tracking run with wandb version 0.17.5"
      ],
      "text/plain": [
       "<IPython.core.display.HTML object>"
      ]
     },
     "metadata": {},
     "output_type": "display_data"
    },
    {
     "data": {
      "text/html": [
       "Run data is saved locally in <code>/nfs/home/bhkim003/github_folder/ByeonghyeonKim/my_snn/wandb/run-20240726_174448-to6dr1ft</code>"
      ],
      "text/plain": [
       "<IPython.core.display.HTML object>"
      ]
     },
     "metadata": {},
     "output_type": "display_data"
    },
    {
     "data": {
      "text/html": [
       "Syncing run <strong><a href='https://wandb.ai/bhkim003-seoul-national-university/reservoir/runs/to6dr1ft' target=\"_blank\">flowing-sweep-6</a></strong> to <a href='https://wandb.ai/bhkim003-seoul-national-university/reservoir' target=\"_blank\">Weights & Biases</a> (<a href='https://wandb.me/run' target=\"_blank\">docs</a>)<br/>Sweep page: <a href='https://wandb.ai/bhkim003-seoul-national-university/reservoir/sweeps/sxt07a51' target=\"_blank\">https://wandb.ai/bhkim003-seoul-national-university/reservoir/sweeps/sxt07a51</a>"
      ],
      "text/plain": [
       "<IPython.core.display.HTML object>"
      ]
     },
     "metadata": {},
     "output_type": "display_data"
    },
    {
     "data": {
      "text/html": [
       " View project at <a href='https://wandb.ai/bhkim003-seoul-national-university/reservoir' target=\"_blank\">https://wandb.ai/bhkim003-seoul-national-university/reservoir</a>"
      ],
      "text/plain": [
       "<IPython.core.display.HTML object>"
      ]
     },
     "metadata": {},
     "output_type": "display_data"
    },
    {
     "data": {
      "text/html": [
       " View sweep at <a href='https://wandb.ai/bhkim003-seoul-national-university/reservoir/sweeps/sxt07a51' target=\"_blank\">https://wandb.ai/bhkim003-seoul-national-university/reservoir/sweeps/sxt07a51</a>"
      ],
      "text/plain": [
       "<IPython.core.display.HTML object>"
      ]
     },
     "metadata": {},
     "output_type": "display_data"
    },
    {
     "data": {
      "text/html": [
       " View run at <a href='https://wandb.ai/bhkim003-seoul-national-university/reservoir/runs/to6dr1ft' target=\"_blank\">https://wandb.ai/bhkim003-seoul-national-university/reservoir/runs/to6dr1ft</a>"
      ],
      "text/plain": [
       "<IPython.core.display.HTML object>"
      ]
     },
     "metadata": {},
     "output_type": "display_data"
    },
    {
     "name": "stderr",
     "output_type": "stream",
     "text": [
      "\u001b[34m\u001b[1mwandb\u001b[0m: \u001b[33mWARNING\u001b[0m Config item 'data_path' was locked by 'sweep' (ignored update).\n",
      "\u001b[34m\u001b[1mwandb\u001b[0m: \u001b[33mWARNING\u001b[0m Config item 'which_data' was locked by 'sweep' (ignored update).\n",
      "\u001b[34m\u001b[1mwandb\u001b[0m: \u001b[33mWARNING\u001b[0m Config item 'learning_rate' was locked by 'sweep' (ignored update).\n",
      "\u001b[34m\u001b[1mwandb\u001b[0m: \u001b[33mWARNING\u001b[0m Config item 'IMAGE_SIZE' was locked by 'sweep' (ignored update).\n",
      "\u001b[34m\u001b[1mwandb\u001b[0m: \u001b[33mWARNING\u001b[0m Config item 'EPOCH' was locked by 'sweep' (ignored update).\n",
      "\u001b[34m\u001b[1mwandb\u001b[0m: \u001b[33mWARNING\u001b[0m Config item 'rate_coding' was locked by 'sweep' (ignored update).\n",
      "\u001b[34m\u001b[1mwandb\u001b[0m: \u001b[33mWARNING\u001b[0m Config item 'pre_spike_weight' was locked by 'sweep' (ignored update).\n",
      "\u001b[34m\u001b[1mwandb\u001b[0m: \u001b[33mWARNING\u001b[0m Config item 'dvs_duration' was locked by 'sweep' (ignored update).\n",
      "\u001b[34m\u001b[1mwandb\u001b[0m: \u001b[33mWARNING\u001b[0m Config item 'dvs_clipping' was locked by 'sweep' (ignored update).\n",
      "\u001b[34m\u001b[1mwandb\u001b[0m: \u001b[33mWARNING\u001b[0m Config item 'no_reservoir' was locked by 'sweep' (ignored update).\n",
      "\u001b[34m\u001b[1mwandb\u001b[0m: \u001b[33mWARNING\u001b[0m Config item 'FC_RESERVOIR' was locked by 'sweep' (ignored update).\n"
     ]
    },
    {
     "name": "stdout",
     "output_type": "stream",
     "text": [
      "The directory [/data2/gesture/duration_100000] already exists.\n",
      "The directory [/data2/gesture/duration_100000] already exists.\n",
      "RESERVOIR_NET(\n",
      "  (classifier): Linear(in_features=2048, out_features=10, bias=True)\n",
      ")\n",
      "Epoch 1\n",
      "Train Accuracy: 18.09%\n",
      "Test loss: 1.741, Val Accuracy: 37.50%\n",
      "Epoch 2\n",
      "Train Accuracy: 48.24%\n",
      "Test loss: 1.717, Val Accuracy: 45.83%\n",
      "Epoch 3\n",
      "Train Accuracy: 56.77%\n",
      "Test loss: 2.214, Val Accuracy: 57.95%\n",
      "Epoch 4\n",
      "Train Accuracy: 65.40%\n",
      "Test loss: 1.396, Val Accuracy: 54.92%\n",
      "Epoch 5\n",
      "Train Accuracy: 70.69%\n",
      "Test loss: 1.494, Val Accuracy: 53.79%\n",
      "Epoch 6\n",
      "Train Accuracy: 72.26%\n",
      "Test loss: 1.641, Val Accuracy: 59.85%\n",
      "Epoch 7\n",
      "Train Accuracy: 76.07%\n",
      "Test loss: 1.230, Val Accuracy: 58.71%\n",
      "Epoch 8\n",
      "Train Accuracy: 80.43%\n",
      "Test loss: 1.500, Val Accuracy: 67.80%\n",
      "Epoch 9\n",
      "Train Accuracy: 84.14%\n",
      "Test loss: 1.355, Val Accuracy: 63.26%\n",
      "Epoch 10\n",
      "Train Accuracy: 87.01%\n",
      "Test loss: 1.270, Val Accuracy: 68.94%\n",
      "Epoch 11\n",
      "Train Accuracy: 88.03%\n",
      "Test loss: 1.514, Val Accuracy: 69.70%\n",
      "Epoch 12\n",
      "Train Accuracy: 89.05%\n",
      "Test loss: 1.144, Val Accuracy: 68.94%\n",
      "Epoch 13\n",
      "Train Accuracy: 90.54%\n",
      "Test loss: 1.587, Val Accuracy: 65.53%\n",
      "Epoch 14\n",
      "Train Accuracy: 89.24%\n",
      "Test loss: 1.231, Val Accuracy: 67.80%\n",
      "Epoch 15\n",
      "Train Accuracy: 91.37%\n",
      "Test loss: 1.497, Val Accuracy: 67.80%\n",
      "Epoch 16\n",
      "Train Accuracy: 92.76%\n",
      "Test loss: 1.350, Val Accuracy: 67.05%\n",
      "Epoch 17\n",
      "Train Accuracy: 92.49%\n",
      "Test loss: 1.505, Val Accuracy: 70.08%\n",
      "Epoch 18\n",
      "Train Accuracy: 94.34%\n",
      "Test loss: 1.448, Val Accuracy: 66.67%\n",
      "Epoch 19\n",
      "Train Accuracy: 94.62%\n",
      "Test loss: 1.268, Val Accuracy: 67.80%\n",
      "Epoch 20\n",
      "Train Accuracy: 96.01%\n",
      "Test loss: 1.489, Val Accuracy: 67.80%\n"
     ]
    },
    {
     "data": {
      "application/vnd.jupyter.widget-view+json": {
       "model_id": "e3cabf63b12a4a4e8b12d250fb6f9d98",
       "version_major": 2,
       "version_minor": 0
      },
      "text/plain": [
       "VBox(children=(Label(value='0.581 MB of 0.581 MB uploaded\\r'), FloatProgress(value=1.0, max=1.0)))"
      ]
     },
     "metadata": {},
     "output_type": "display_data"
    },
    {
     "data": {
      "text/html": [
       "<style>\n",
       "    table.wandb td:nth-child(1) { padding: 0 10px; text-align: left ; width: auto;} td:nth-child(2) {text-align: left ; width: 100%}\n",
       "    .wandb-row { display: flex; flex-direction: row; flex-wrap: wrap; justify-content: flex-start; width: 100% }\n",
       "    .wandb-col { display: flex; flex-direction: column; flex-basis: 100%; flex: 1; padding: 10px; }\n",
       "    </style>\n",
       "<div class=\"wandb-row\"><div class=\"wandb-col\"><h3>Run history:</h3><br/><table class=\"wandb\"><tr><td>epoch</td><td>▁▁▂▂▂▃▃▄▄▄▅▅▅▆▆▇▇▇██</td></tr><tr><td>iter_accuracy</td><td>▁▂▃▄▅▄▆▆▆▆▅▆▇▇▆▇▇▇▇▇▇▇▇▇█▇▇█████████████</td></tr><tr><td>tr_accuracy</td><td>▁▄▄▅▆▆▆▇▇▇▇▇█▇██████</td></tr><tr><td>val_accuracy</td><td>▁▃▅▅▅▆▆█▇███▇██▇█▇██</td></tr></table><br/></div><div class=\"wandb-col\"><h3>Run summary:</h3><br/><table class=\"wandb\"><tr><td>epoch</td><td>19</td></tr><tr><td>iter_accuracy</td><td>96.2963</td></tr><tr><td>tr_accuracy</td><td>96.01113</td></tr><tr><td>val_accuracy</td><td>67.80303</td></tr></table><br/></div></div>"
      ],
      "text/plain": [
       "<IPython.core.display.HTML object>"
      ]
     },
     "metadata": {},
     "output_type": "display_data"
    },
    {
     "data": {
      "text/html": [
       " View run <strong style=\"color:#cdcd00\">flowing-sweep-6</strong> at: <a href='https://wandb.ai/bhkim003-seoul-national-university/reservoir/runs/to6dr1ft' target=\"_blank\">https://wandb.ai/bhkim003-seoul-national-university/reservoir/runs/to6dr1ft</a><br/> View project at: <a href='https://wandb.ai/bhkim003-seoul-national-university/reservoir' target=\"_blank\">https://wandb.ai/bhkim003-seoul-national-university/reservoir</a><br/>Synced 7 W&B file(s), 0 media file(s), 0 artifact file(s) and 1 other file(s)"
      ],
      "text/plain": [
       "<IPython.core.display.HTML object>"
      ]
     },
     "metadata": {},
     "output_type": "display_data"
    },
    {
     "data": {
      "text/html": [
       "Find logs at: <code>./wandb/run-20240726_174448-to6dr1ft/logs</code>"
      ],
      "text/plain": [
       "<IPython.core.display.HTML object>"
      ]
     },
     "metadata": {},
     "output_type": "display_data"
    },
    {
     "data": {
      "text/html": [
       "The new W&B backend becomes opt-out in version 0.18.0; try it out with `wandb.require(\"core\")`! See https://wandb.me/wandb-core for more information."
      ],
      "text/plain": [
       "<IPython.core.display.HTML object>"
      ]
     },
     "metadata": {},
     "output_type": "display_data"
    },
    {
     "name": "stderr",
     "output_type": "stream",
     "text": [
      "\u001b[34m\u001b[1mwandb\u001b[0m: Sweep Agent: Waiting for job.\n",
      "\u001b[34m\u001b[1mwandb\u001b[0m: Job received.\n",
      "\u001b[34m\u001b[1mwandb\u001b[0m: Agent Starting Run: e85udzks with config:\n",
      "\u001b[34m\u001b[1mwandb\u001b[0m: \tEPOCH: 20\n",
      "\u001b[34m\u001b[1mwandb\u001b[0m: \tFC_RESERVOIR: True\n",
      "\u001b[34m\u001b[1mwandb\u001b[0m: \tIMAGE_SIZE: 32\n",
      "\u001b[34m\u001b[1mwandb\u001b[0m: \tbatch_size: 256\n",
      "\u001b[34m\u001b[1mwandb\u001b[0m: \tdata_path: /data2\n",
      "\u001b[34m\u001b[1mwandb\u001b[0m: \tdecay: 0.8833315310057414\n",
      "\u001b[34m\u001b[1mwandb\u001b[0m: \tdvs_clipping: True\n",
      "\u001b[34m\u001b[1mwandb\u001b[0m: \tdvs_duration: 100000\n",
      "\u001b[34m\u001b[1mwandb\u001b[0m: \tlearning_rate: 0.07517382002769767\n",
      "\u001b[34m\u001b[1mwandb\u001b[0m: \tno_reservoir: False\n",
      "\u001b[34m\u001b[1mwandb\u001b[0m: \tpre_spike_weight: 2.870413881604266\n",
      "\u001b[34m\u001b[1mwandb\u001b[0m: \trate_coding: False\n",
      "\u001b[34m\u001b[1mwandb\u001b[0m: \ttime_step: 8\n",
      "\u001b[34m\u001b[1mwandb\u001b[0m: \twhich_data: DVS_GESTURE\n",
      "Failed to detect the name of this notebook, you can set it manually with the WANDB_NOTEBOOK_NAME environment variable to enable code saving.\n"
     ]
    },
    {
     "data": {
      "text/html": [
       "Tracking run with wandb version 0.17.5"
      ],
      "text/plain": [
       "<IPython.core.display.HTML object>"
      ]
     },
     "metadata": {},
     "output_type": "display_data"
    },
    {
     "data": {
      "text/html": [
       "Run data is saved locally in <code>/nfs/home/bhkim003/github_folder/ByeonghyeonKim/my_snn/wandb/run-20240726_180147-e85udzks</code>"
      ],
      "text/plain": [
       "<IPython.core.display.HTML object>"
      ]
     },
     "metadata": {},
     "output_type": "display_data"
    },
    {
     "data": {
      "text/html": [
       "Syncing run <strong><a href='https://wandb.ai/bhkim003-seoul-national-university/reservoir/runs/e85udzks' target=\"_blank\">frosty-sweep-7</a></strong> to <a href='https://wandb.ai/bhkim003-seoul-national-university/reservoir' target=\"_blank\">Weights & Biases</a> (<a href='https://wandb.me/run' target=\"_blank\">docs</a>)<br/>Sweep page: <a href='https://wandb.ai/bhkim003-seoul-national-university/reservoir/sweeps/sxt07a51' target=\"_blank\">https://wandb.ai/bhkim003-seoul-national-university/reservoir/sweeps/sxt07a51</a>"
      ],
      "text/plain": [
       "<IPython.core.display.HTML object>"
      ]
     },
     "metadata": {},
     "output_type": "display_data"
    },
    {
     "data": {
      "text/html": [
       " View project at <a href='https://wandb.ai/bhkim003-seoul-national-university/reservoir' target=\"_blank\">https://wandb.ai/bhkim003-seoul-national-university/reservoir</a>"
      ],
      "text/plain": [
       "<IPython.core.display.HTML object>"
      ]
     },
     "metadata": {},
     "output_type": "display_data"
    },
    {
     "data": {
      "text/html": [
       " View sweep at <a href='https://wandb.ai/bhkim003-seoul-national-university/reservoir/sweeps/sxt07a51' target=\"_blank\">https://wandb.ai/bhkim003-seoul-national-university/reservoir/sweeps/sxt07a51</a>"
      ],
      "text/plain": [
       "<IPython.core.display.HTML object>"
      ]
     },
     "metadata": {},
     "output_type": "display_data"
    },
    {
     "data": {
      "text/html": [
       " View run at <a href='https://wandb.ai/bhkim003-seoul-national-university/reservoir/runs/e85udzks' target=\"_blank\">https://wandb.ai/bhkim003-seoul-national-university/reservoir/runs/e85udzks</a>"
      ],
      "text/plain": [
       "<IPython.core.display.HTML object>"
      ]
     },
     "metadata": {},
     "output_type": "display_data"
    },
    {
     "name": "stderr",
     "output_type": "stream",
     "text": [
      "\u001b[34m\u001b[1mwandb\u001b[0m: \u001b[33mWARNING\u001b[0m Config item 'data_path' was locked by 'sweep' (ignored update).\n",
      "\u001b[34m\u001b[1mwandb\u001b[0m: \u001b[33mWARNING\u001b[0m Config item 'which_data' was locked by 'sweep' (ignored update).\n",
      "\u001b[34m\u001b[1mwandb\u001b[0m: \u001b[33mWARNING\u001b[0m Config item 'learning_rate' was locked by 'sweep' (ignored update).\n",
      "\u001b[34m\u001b[1mwandb\u001b[0m: \u001b[33mWARNING\u001b[0m Config item 'IMAGE_SIZE' was locked by 'sweep' (ignored update).\n",
      "\u001b[34m\u001b[1mwandb\u001b[0m: \u001b[33mWARNING\u001b[0m Config item 'EPOCH' was locked by 'sweep' (ignored update).\n",
      "\u001b[34m\u001b[1mwandb\u001b[0m: \u001b[33mWARNING\u001b[0m Config item 'rate_coding' was locked by 'sweep' (ignored update).\n",
      "\u001b[34m\u001b[1mwandb\u001b[0m: \u001b[33mWARNING\u001b[0m Config item 'pre_spike_weight' was locked by 'sweep' (ignored update).\n",
      "\u001b[34m\u001b[1mwandb\u001b[0m: \u001b[33mWARNING\u001b[0m Config item 'dvs_duration' was locked by 'sweep' (ignored update).\n",
      "\u001b[34m\u001b[1mwandb\u001b[0m: \u001b[33mWARNING\u001b[0m Config item 'dvs_clipping' was locked by 'sweep' (ignored update).\n",
      "\u001b[34m\u001b[1mwandb\u001b[0m: \u001b[33mWARNING\u001b[0m Config item 'no_reservoir' was locked by 'sweep' (ignored update).\n",
      "\u001b[34m\u001b[1mwandb\u001b[0m: \u001b[33mWARNING\u001b[0m Config item 'FC_RESERVOIR' was locked by 'sweep' (ignored update).\n"
     ]
    },
    {
     "name": "stdout",
     "output_type": "stream",
     "text": [
      "The directory [/data2/gesture/duration_100000] already exists.\n",
      "The directory [/data2/gesture/duration_100000] already exists.\n",
      "RESERVOIR_NET(\n",
      "  (reservoir): RESERVOIR(\n",
      "    (reservoir): Linear(in_features=2048, out_features=2048, bias=True)\n",
      "  )\n",
      "  (classifier): Linear(in_features=2048, out_features=10, bias=True)\n",
      ")\n",
      "Epoch 1\n",
      "Train Accuracy: 22.73%\n",
      "Test loss: 1.849, Val Accuracy: 43.56%\n",
      "Epoch 2\n",
      "Train Accuracy: 49.07%\n",
      "Test loss: 2.449, Val Accuracy: 37.50%\n",
      "Epoch 3\n",
      "Train Accuracy: 55.47%\n",
      "Test loss: 2.407, Val Accuracy: 51.14%\n",
      "Epoch 4\n",
      "Train Accuracy: 60.67%\n",
      "Test loss: 2.716, Val Accuracy: 46.59%\n",
      "Epoch 5\n",
      "Train Accuracy: 59.93%\n",
      "Test loss: 1.073, Val Accuracy: 49.24%\n",
      "Epoch 6\n",
      "Train Accuracy: 63.45%\n",
      "Test loss: 1.473, Val Accuracy: 51.14%\n",
      "Epoch 7\n",
      "Train Accuracy: 70.13%\n",
      "Test loss: 3.273, Val Accuracy: 54.17%\n",
      "Epoch 8\n",
      "Train Accuracy: 71.99%\n",
      "Test loss: 2.473, Val Accuracy: 51.52%\n",
      "Epoch 9\n",
      "Train Accuracy: 76.90%\n",
      "Test loss: 0.951, Val Accuracy: 60.61%\n",
      "Epoch 10\n",
      "Train Accuracy: 80.52%\n",
      "Test loss: 2.505, Val Accuracy: 56.44%\n",
      "Epoch 11\n",
      "Train Accuracy: 86.73%\n",
      "Test loss: 1.537, Val Accuracy: 68.18%\n",
      "Epoch 12\n",
      "Train Accuracy: 89.15%\n",
      "Test loss: 1.581, Val Accuracy: 59.85%\n",
      "Epoch 13\n",
      "Train Accuracy: 88.22%\n",
      "Test loss: 1.626, Val Accuracy: 59.47%\n",
      "Epoch 14\n",
      "Train Accuracy: 91.00%\n",
      "Test loss: 2.086, Val Accuracy: 55.68%\n",
      "Epoch 15\n",
      "Train Accuracy: 88.96%\n",
      "Test loss: 1.587, Val Accuracy: 66.67%\n",
      "Epoch 16\n",
      "Train Accuracy: 91.93%\n",
      "Test loss: 1.566, Val Accuracy: 63.64%\n",
      "Epoch 17\n",
      "Train Accuracy: 94.53%\n",
      "Test loss: 1.741, Val Accuracy: 71.59%\n",
      "Epoch 18\n",
      "Train Accuracy: 93.88%\n",
      "Test loss: 1.637, Val Accuracy: 57.95%\n",
      "Epoch 19\n",
      "Train Accuracy: 93.97%\n",
      "Test loss: 1.527, Val Accuracy: 69.32%\n",
      "Epoch 20\n",
      "Train Accuracy: 96.29%\n",
      "Test loss: 1.960, Val Accuracy: 67.80%\n"
     ]
    },
    {
     "data": {
      "application/vnd.jupyter.widget-view+json": {
       "model_id": "4f4bfc171af04836b1b3b97a542573b4",
       "version_major": 2,
       "version_minor": 0
      },
      "text/plain": [
       "VBox(children=(Label(value='0.581 MB of 0.581 MB uploaded\\r'), FloatProgress(value=1.0, max=1.0)))"
      ]
     },
     "metadata": {},
     "output_type": "display_data"
    },
    {
     "data": {
      "text/html": [
       "<style>\n",
       "    table.wandb td:nth-child(1) { padding: 0 10px; text-align: left ; width: auto;} td:nth-child(2) {text-align: left ; width: 100%}\n",
       "    .wandb-row { display: flex; flex-direction: row; flex-wrap: wrap; justify-content: flex-start; width: 100% }\n",
       "    .wandb-col { display: flex; flex-direction: column; flex-basis: 100%; flex: 1; padding: 10px; }\n",
       "    </style>\n",
       "<div class=\"wandb-row\"><div class=\"wandb-col\"><h3>Run history:</h3><br/><table class=\"wandb\"><tr><td>epoch</td><td>▁▁▂▂▂▃▃▄▄▄▅▅▅▆▆▇▇▇██</td></tr><tr><td>iter_accuracy</td><td>▁▂▃▄▄▅▅▅▅▅▅▅▆▆▆▆▆▆▆▇▇▇▇▇▇▇▇▇▇▇▇█▇███▇███</td></tr><tr><td>tr_accuracy</td><td>▁▄▄▅▅▅▆▆▆▆▇▇▇▇▇█████</td></tr><tr><td>val_accuracy</td><td>▂▁▄▃▃▄▄▄▆▅▇▆▆▅▇▆█▅█▇</td></tr></table><br/></div><div class=\"wandb-col\"><h3>Run summary:</h3><br/><table class=\"wandb\"><tr><td>epoch</td><td>19</td></tr><tr><td>iter_accuracy</td><td>100.0</td></tr><tr><td>tr_accuracy</td><td>96.28942</td></tr><tr><td>val_accuracy</td><td>67.80303</td></tr></table><br/></div></div>"
      ],
      "text/plain": [
       "<IPython.core.display.HTML object>"
      ]
     },
     "metadata": {},
     "output_type": "display_data"
    },
    {
     "data": {
      "text/html": [
       " View run <strong style=\"color:#cdcd00\">frosty-sweep-7</strong> at: <a href='https://wandb.ai/bhkim003-seoul-national-university/reservoir/runs/e85udzks' target=\"_blank\">https://wandb.ai/bhkim003-seoul-national-university/reservoir/runs/e85udzks</a><br/> View project at: <a href='https://wandb.ai/bhkim003-seoul-national-university/reservoir' target=\"_blank\">https://wandb.ai/bhkim003-seoul-national-university/reservoir</a><br/>Synced 7 W&B file(s), 0 media file(s), 0 artifact file(s) and 1 other file(s)"
      ],
      "text/plain": [
       "<IPython.core.display.HTML object>"
      ]
     },
     "metadata": {},
     "output_type": "display_data"
    },
    {
     "data": {
      "text/html": [
       "Find logs at: <code>./wandb/run-20240726_180147-e85udzks/logs</code>"
      ],
      "text/plain": [
       "<IPython.core.display.HTML object>"
      ]
     },
     "metadata": {},
     "output_type": "display_data"
    },
    {
     "data": {
      "text/html": [
       "The new W&B backend becomes opt-out in version 0.18.0; try it out with `wandb.require(\"core\")`! See https://wandb.me/wandb-core for more information."
      ],
      "text/plain": [
       "<IPython.core.display.HTML object>"
      ]
     },
     "metadata": {},
     "output_type": "display_data"
    },
    {
     "name": "stderr",
     "output_type": "stream",
     "text": [
      "\u001b[34m\u001b[1mwandb\u001b[0m: Agent Starting Run: 4l83tkzk with config:\n",
      "\u001b[34m\u001b[1mwandb\u001b[0m: \tEPOCH: 20\n",
      "\u001b[34m\u001b[1mwandb\u001b[0m: \tFC_RESERVOIR: True\n",
      "\u001b[34m\u001b[1mwandb\u001b[0m: \tIMAGE_SIZE: 32\n",
      "\u001b[34m\u001b[1mwandb\u001b[0m: \tbatch_size: 256\n",
      "\u001b[34m\u001b[1mwandb\u001b[0m: \tdata_path: /data2\n",
      "\u001b[34m\u001b[1mwandb\u001b[0m: \tdecay: 0.5801692881306519\n",
      "\u001b[34m\u001b[1mwandb\u001b[0m: \tdvs_clipping: True\n",
      "\u001b[34m\u001b[1mwandb\u001b[0m: \tdvs_duration: 100000\n",
      "\u001b[34m\u001b[1mwandb\u001b[0m: \tlearning_rate: 0.08799609541614789\n",
      "\u001b[34m\u001b[1mwandb\u001b[0m: \tno_reservoir: True\n",
      "\u001b[34m\u001b[1mwandb\u001b[0m: \tpre_spike_weight: 0.56033835265122\n",
      "\u001b[34m\u001b[1mwandb\u001b[0m: \trate_coding: True\n",
      "\u001b[34m\u001b[1mwandb\u001b[0m: \ttime_step: 8\n",
      "\u001b[34m\u001b[1mwandb\u001b[0m: \twhich_data: DVS_GESTURE\n",
      "Failed to detect the name of this notebook, you can set it manually with the WANDB_NOTEBOOK_NAME environment variable to enable code saving.\n"
     ]
    },
    {
     "data": {
      "text/html": [
       "Tracking run with wandb version 0.17.5"
      ],
      "text/plain": [
       "<IPython.core.display.HTML object>"
      ]
     },
     "metadata": {},
     "output_type": "display_data"
    },
    {
     "data": {
      "text/html": [
       "Run data is saved locally in <code>/nfs/home/bhkim003/github_folder/ByeonghyeonKim/my_snn/wandb/run-20240726_181824-4l83tkzk</code>"
      ],
      "text/plain": [
       "<IPython.core.display.HTML object>"
      ]
     },
     "metadata": {},
     "output_type": "display_data"
    },
    {
     "data": {
      "text/html": [
       "Syncing run <strong><a href='https://wandb.ai/bhkim003-seoul-national-university/reservoir/runs/4l83tkzk' target=\"_blank\">vague-sweep-8</a></strong> to <a href='https://wandb.ai/bhkim003-seoul-national-university/reservoir' target=\"_blank\">Weights & Biases</a> (<a href='https://wandb.me/run' target=\"_blank\">docs</a>)<br/>Sweep page: <a href='https://wandb.ai/bhkim003-seoul-national-university/reservoir/sweeps/sxt07a51' target=\"_blank\">https://wandb.ai/bhkim003-seoul-national-university/reservoir/sweeps/sxt07a51</a>"
      ],
      "text/plain": [
       "<IPython.core.display.HTML object>"
      ]
     },
     "metadata": {},
     "output_type": "display_data"
    },
    {
     "data": {
      "text/html": [
       " View project at <a href='https://wandb.ai/bhkim003-seoul-national-university/reservoir' target=\"_blank\">https://wandb.ai/bhkim003-seoul-national-university/reservoir</a>"
      ],
      "text/plain": [
       "<IPython.core.display.HTML object>"
      ]
     },
     "metadata": {},
     "output_type": "display_data"
    },
    {
     "data": {
      "text/html": [
       " View sweep at <a href='https://wandb.ai/bhkim003-seoul-national-university/reservoir/sweeps/sxt07a51' target=\"_blank\">https://wandb.ai/bhkim003-seoul-national-university/reservoir/sweeps/sxt07a51</a>"
      ],
      "text/plain": [
       "<IPython.core.display.HTML object>"
      ]
     },
     "metadata": {},
     "output_type": "display_data"
    },
    {
     "data": {
      "text/html": [
       " View run at <a href='https://wandb.ai/bhkim003-seoul-national-university/reservoir/runs/4l83tkzk' target=\"_blank\">https://wandb.ai/bhkim003-seoul-national-university/reservoir/runs/4l83tkzk</a>"
      ],
      "text/plain": [
       "<IPython.core.display.HTML object>"
      ]
     },
     "metadata": {},
     "output_type": "display_data"
    },
    {
     "name": "stderr",
     "output_type": "stream",
     "text": [
      "\u001b[34m\u001b[1mwandb\u001b[0m: \u001b[33mWARNING\u001b[0m Config item 'data_path' was locked by 'sweep' (ignored update).\n",
      "\u001b[34m\u001b[1mwandb\u001b[0m: \u001b[33mWARNING\u001b[0m Config item 'which_data' was locked by 'sweep' (ignored update).\n",
      "\u001b[34m\u001b[1mwandb\u001b[0m: \u001b[33mWARNING\u001b[0m Config item 'learning_rate' was locked by 'sweep' (ignored update).\n",
      "\u001b[34m\u001b[1mwandb\u001b[0m: \u001b[33mWARNING\u001b[0m Config item 'IMAGE_SIZE' was locked by 'sweep' (ignored update).\n",
      "\u001b[34m\u001b[1mwandb\u001b[0m: \u001b[33mWARNING\u001b[0m Config item 'EPOCH' was locked by 'sweep' (ignored update).\n",
      "\u001b[34m\u001b[1mwandb\u001b[0m: \u001b[33mWARNING\u001b[0m Config item 'rate_coding' was locked by 'sweep' (ignored update).\n",
      "\u001b[34m\u001b[1mwandb\u001b[0m: \u001b[33mWARNING\u001b[0m Config item 'pre_spike_weight' was locked by 'sweep' (ignored update).\n",
      "\u001b[34m\u001b[1mwandb\u001b[0m: \u001b[33mWARNING\u001b[0m Config item 'dvs_duration' was locked by 'sweep' (ignored update).\n",
      "\u001b[34m\u001b[1mwandb\u001b[0m: \u001b[33mWARNING\u001b[0m Config item 'dvs_clipping' was locked by 'sweep' (ignored update).\n",
      "\u001b[34m\u001b[1mwandb\u001b[0m: \u001b[33mWARNING\u001b[0m Config item 'no_reservoir' was locked by 'sweep' (ignored update).\n",
      "\u001b[34m\u001b[1mwandb\u001b[0m: \u001b[33mWARNING\u001b[0m Config item 'FC_RESERVOIR' was locked by 'sweep' (ignored update).\n"
     ]
    },
    {
     "name": "stdout",
     "output_type": "stream",
     "text": [
      "The directory [/data2/gesture/duration_100000] already exists.\n",
      "The directory [/data2/gesture/duration_100000] already exists.\n",
      "RESERVOIR_NET(\n",
      "  (classifier): Linear(in_features=2048, out_features=10, bias=True)\n",
      ")\n",
      "Epoch 1\n",
      "Train Accuracy: 23.19%\n",
      "Test loss: 1.875, Val Accuracy: 42.05%\n",
      "Epoch 2\n",
      "Train Accuracy: 53.15%\n",
      "Test loss: 1.595, Val Accuracy: 48.86%\n",
      "Epoch 3\n",
      "Train Accuracy: 61.22%\n",
      "Test loss: 1.901, Val Accuracy: 50.76%\n",
      "Epoch 4\n",
      "Train Accuracy: 65.31%\n",
      "Test loss: 1.553, Val Accuracy: 54.92%\n",
      "Epoch 5\n",
      "Train Accuracy: 70.78%\n",
      "Test loss: 1.582, Val Accuracy: 55.68%\n",
      "Epoch 6\n",
      "Train Accuracy: 77.18%\n",
      "Test loss: 1.090, Val Accuracy: 67.42%\n",
      "Epoch 7\n",
      "Train Accuracy: 82.10%\n",
      "Test loss: 1.662, Val Accuracy: 62.88%\n",
      "Epoch 8\n",
      "Train Accuracy: 82.84%\n",
      "Test loss: 1.344, Val Accuracy: 66.29%\n",
      "Epoch 9\n",
      "Train Accuracy: 83.77%\n",
      "Test loss: 1.186, Val Accuracy: 65.15%\n",
      "Epoch 10\n",
      "Train Accuracy: 85.44%\n",
      "Test loss: 1.911, Val Accuracy: 64.77%\n",
      "Epoch 11\n",
      "Train Accuracy: 86.55%\n",
      "Test loss: 0.931, Val Accuracy: 65.91%\n",
      "Epoch 12\n",
      "Train Accuracy: 89.33%\n",
      "Test loss: 1.284, Val Accuracy: 67.42%\n",
      "Epoch 13\n",
      "Train Accuracy: 89.33%\n",
      "Test loss: 1.710, Val Accuracy: 68.56%\n",
      "Epoch 14\n",
      "Train Accuracy: 90.91%\n",
      "Test loss: 1.203, Val Accuracy: 68.18%\n",
      "Epoch 15\n",
      "Train Accuracy: 91.93%\n",
      "Test loss: 1.574, Val Accuracy: 65.91%\n",
      "Epoch 16\n",
      "Train Accuracy: 91.37%\n",
      "Test loss: 1.603, Val Accuracy: 64.39%\n",
      "Epoch 17\n",
      "Train Accuracy: 93.60%\n",
      "Test loss: 1.428, Val Accuracy: 66.67%\n",
      "Epoch 18\n",
      "Train Accuracy: 95.73%\n",
      "Test loss: 1.448, Val Accuracy: 66.29%\n",
      "Epoch 19\n",
      "Train Accuracy: 97.12%\n",
      "Test loss: 1.653, Val Accuracy: 68.94%\n",
      "Epoch 20\n",
      "Train Accuracy: 96.38%\n",
      "Test loss: 1.294, Val Accuracy: 67.80%\n"
     ]
    },
    {
     "data": {
      "application/vnd.jupyter.widget-view+json": {
       "model_id": "af0678795d1d4020afc467527dbfa4ea",
       "version_major": 2,
       "version_minor": 0
      },
      "text/plain": [
       "VBox(children=(Label(value='0.581 MB of 0.581 MB uploaded\\r'), FloatProgress(value=1.0, max=1.0)))"
      ]
     },
     "metadata": {},
     "output_type": "display_data"
    },
    {
     "data": {
      "text/html": [
       "<style>\n",
       "    table.wandb td:nth-child(1) { padding: 0 10px; text-align: left ; width: auto;} td:nth-child(2) {text-align: left ; width: 100%}\n",
       "    .wandb-row { display: flex; flex-direction: row; flex-wrap: wrap; justify-content: flex-start; width: 100% }\n",
       "    .wandb-col { display: flex; flex-direction: column; flex-basis: 100%; flex: 1; padding: 10px; }\n",
       "    </style>\n",
       "<div class=\"wandb-row\"><div class=\"wandb-col\"><h3>Run history:</h3><br/><table class=\"wandb\"><tr><td>epoch</td><td>▁▁▂▂▂▃▃▄▄▄▅▅▅▆▆▇▇▇██</td></tr><tr><td>iter_accuracy</td><td>▁▂▄▅▅▅▅▆▅▆▆▇▇▇▇▇▇▇▇▇▇▇▇▇▇▇▇▇▇██▇▇███████</td></tr><tr><td>tr_accuracy</td><td>▁▄▅▅▆▆▇▇▇▇▇▇▇▇█▇████</td></tr><tr><td>val_accuracy</td><td>▁▃▃▄▅█▆▇▇▇▇███▇▇▇▇██</td></tr></table><br/></div><div class=\"wandb-col\"><h3>Run summary:</h3><br/><table class=\"wandb\"><tr><td>epoch</td><td>19</td></tr><tr><td>iter_accuracy</td><td>98.14815</td></tr><tr><td>tr_accuracy</td><td>96.38219</td></tr><tr><td>val_accuracy</td><td>67.80303</td></tr></table><br/></div></div>"
      ],
      "text/plain": [
       "<IPython.core.display.HTML object>"
      ]
     },
     "metadata": {},
     "output_type": "display_data"
    },
    {
     "data": {
      "text/html": [
       " View run <strong style=\"color:#cdcd00\">vague-sweep-8</strong> at: <a href='https://wandb.ai/bhkim003-seoul-national-university/reservoir/runs/4l83tkzk' target=\"_blank\">https://wandb.ai/bhkim003-seoul-national-university/reservoir/runs/4l83tkzk</a><br/> View project at: <a href='https://wandb.ai/bhkim003-seoul-national-university/reservoir' target=\"_blank\">https://wandb.ai/bhkim003-seoul-national-university/reservoir</a><br/>Synced 7 W&B file(s), 0 media file(s), 0 artifact file(s) and 1 other file(s)"
      ],
      "text/plain": [
       "<IPython.core.display.HTML object>"
      ]
     },
     "metadata": {},
     "output_type": "display_data"
    },
    {
     "data": {
      "text/html": [
       "Find logs at: <code>./wandb/run-20240726_181824-4l83tkzk/logs</code>"
      ],
      "text/plain": [
       "<IPython.core.display.HTML object>"
      ]
     },
     "metadata": {},
     "output_type": "display_data"
    },
    {
     "data": {
      "text/html": [
       "The new W&B backend becomes opt-out in version 0.18.0; try it out with `wandb.require(\"core\")`! See https://wandb.me/wandb-core for more information."
      ],
      "text/plain": [
       "<IPython.core.display.HTML object>"
      ]
     },
     "metadata": {},
     "output_type": "display_data"
    },
    {
     "name": "stderr",
     "output_type": "stream",
     "text": [
      "\u001b[34m\u001b[1mwandb\u001b[0m: Agent Starting Run: khegi3ys with config:\n",
      "\u001b[34m\u001b[1mwandb\u001b[0m: \tEPOCH: 20\n",
      "\u001b[34m\u001b[1mwandb\u001b[0m: \tFC_RESERVOIR: True\n",
      "\u001b[34m\u001b[1mwandb\u001b[0m: \tIMAGE_SIZE: 16\n",
      "\u001b[34m\u001b[1mwandb\u001b[0m: \tbatch_size: 256\n",
      "\u001b[34m\u001b[1mwandb\u001b[0m: \tdata_path: /data2\n",
      "\u001b[34m\u001b[1mwandb\u001b[0m: \tdecay: 0.8981989595623758\n",
      "\u001b[34m\u001b[1mwandb\u001b[0m: \tdvs_clipping: True\n",
      "\u001b[34m\u001b[1mwandb\u001b[0m: \tdvs_duration: 100000\n",
      "\u001b[34m\u001b[1mwandb\u001b[0m: \tlearning_rate: 0.07026589312713895\n",
      "\u001b[34m\u001b[1mwandb\u001b[0m: \tno_reservoir: True\n",
      "\u001b[34m\u001b[1mwandb\u001b[0m: \tpre_spike_weight: 0.5169247674618501\n",
      "\u001b[34m\u001b[1mwandb\u001b[0m: \trate_coding: True\n",
      "\u001b[34m\u001b[1mwandb\u001b[0m: \ttime_step: 7\n",
      "\u001b[34m\u001b[1mwandb\u001b[0m: \twhich_data: DVS_GESTURE\n",
      "Failed to detect the name of this notebook, you can set it manually with the WANDB_NOTEBOOK_NAME environment variable to enable code saving.\n"
     ]
    },
    {
     "data": {
      "text/html": [
       "Tracking run with wandb version 0.17.5"
      ],
      "text/plain": [
       "<IPython.core.display.HTML object>"
      ]
     },
     "metadata": {},
     "output_type": "display_data"
    },
    {
     "data": {
      "text/html": [
       "Run data is saved locally in <code>/nfs/home/bhkim003/github_folder/ByeonghyeonKim/my_snn/wandb/run-20240726_183456-khegi3ys</code>"
      ],
      "text/plain": [
       "<IPython.core.display.HTML object>"
      ]
     },
     "metadata": {},
     "output_type": "display_data"
    },
    {
     "data": {
      "text/html": [
       "Syncing run <strong><a href='https://wandb.ai/bhkim003-seoul-national-university/reservoir/runs/khegi3ys' target=\"_blank\">peach-sweep-9</a></strong> to <a href='https://wandb.ai/bhkim003-seoul-national-university/reservoir' target=\"_blank\">Weights & Biases</a> (<a href='https://wandb.me/run' target=\"_blank\">docs</a>)<br/>Sweep page: <a href='https://wandb.ai/bhkim003-seoul-national-university/reservoir/sweeps/sxt07a51' target=\"_blank\">https://wandb.ai/bhkim003-seoul-national-university/reservoir/sweeps/sxt07a51</a>"
      ],
      "text/plain": [
       "<IPython.core.display.HTML object>"
      ]
     },
     "metadata": {},
     "output_type": "display_data"
    },
    {
     "data": {
      "text/html": [
       " View project at <a href='https://wandb.ai/bhkim003-seoul-national-university/reservoir' target=\"_blank\">https://wandb.ai/bhkim003-seoul-national-university/reservoir</a>"
      ],
      "text/plain": [
       "<IPython.core.display.HTML object>"
      ]
     },
     "metadata": {},
     "output_type": "display_data"
    },
    {
     "data": {
      "text/html": [
       " View sweep at <a href='https://wandb.ai/bhkim003-seoul-national-university/reservoir/sweeps/sxt07a51' target=\"_blank\">https://wandb.ai/bhkim003-seoul-national-university/reservoir/sweeps/sxt07a51</a>"
      ],
      "text/plain": [
       "<IPython.core.display.HTML object>"
      ]
     },
     "metadata": {},
     "output_type": "display_data"
    },
    {
     "data": {
      "text/html": [
       " View run at <a href='https://wandb.ai/bhkim003-seoul-national-university/reservoir/runs/khegi3ys' target=\"_blank\">https://wandb.ai/bhkim003-seoul-national-university/reservoir/runs/khegi3ys</a>"
      ],
      "text/plain": [
       "<IPython.core.display.HTML object>"
      ]
     },
     "metadata": {},
     "output_type": "display_data"
    },
    {
     "name": "stderr",
     "output_type": "stream",
     "text": [
      "\u001b[34m\u001b[1mwandb\u001b[0m: \u001b[33mWARNING\u001b[0m Config item 'data_path' was locked by 'sweep' (ignored update).\n",
      "\u001b[34m\u001b[1mwandb\u001b[0m: \u001b[33mWARNING\u001b[0m Config item 'which_data' was locked by 'sweep' (ignored update).\n",
      "\u001b[34m\u001b[1mwandb\u001b[0m: \u001b[33mWARNING\u001b[0m Config item 'learning_rate' was locked by 'sweep' (ignored update).\n",
      "\u001b[34m\u001b[1mwandb\u001b[0m: \u001b[33mWARNING\u001b[0m Config item 'IMAGE_SIZE' was locked by 'sweep' (ignored update).\n",
      "\u001b[34m\u001b[1mwandb\u001b[0m: \u001b[33mWARNING\u001b[0m Config item 'EPOCH' was locked by 'sweep' (ignored update).\n",
      "\u001b[34m\u001b[1mwandb\u001b[0m: \u001b[33mWARNING\u001b[0m Config item 'rate_coding' was locked by 'sweep' (ignored update).\n",
      "\u001b[34m\u001b[1mwandb\u001b[0m: \u001b[33mWARNING\u001b[0m Config item 'pre_spike_weight' was locked by 'sweep' (ignored update).\n",
      "\u001b[34m\u001b[1mwandb\u001b[0m: \u001b[33mWARNING\u001b[0m Config item 'dvs_duration' was locked by 'sweep' (ignored update).\n",
      "\u001b[34m\u001b[1mwandb\u001b[0m: \u001b[33mWARNING\u001b[0m Config item 'dvs_clipping' was locked by 'sweep' (ignored update).\n",
      "\u001b[34m\u001b[1mwandb\u001b[0m: \u001b[33mWARNING\u001b[0m Config item 'no_reservoir' was locked by 'sweep' (ignored update).\n",
      "\u001b[34m\u001b[1mwandb\u001b[0m: \u001b[33mWARNING\u001b[0m Config item 'FC_RESERVOIR' was locked by 'sweep' (ignored update).\n"
     ]
    },
    {
     "name": "stdout",
     "output_type": "stream",
     "text": [
      "The directory [/data2/gesture/duration_100000] already exists.\n",
      "The directory [/data2/gesture/duration_100000] already exists.\n",
      "RESERVOIR_NET(\n",
      "  (classifier): Linear(in_features=512, out_features=10, bias=True)\n",
      ")\n",
      "Epoch 1\n",
      "Train Accuracy: 17.35%\n",
      "Test loss: 2.166, Val Accuracy: 26.52%\n",
      "Epoch 2\n",
      "Train Accuracy: 34.97%\n",
      "Test loss: 1.860, Val Accuracy: 47.73%\n",
      "Epoch 3\n",
      "Train Accuracy: 52.04%\n",
      "Test loss: 1.629, Val Accuracy: 49.24%\n",
      "Epoch 4\n",
      "Train Accuracy: 56.03%\n",
      "Test loss: 1.582, Val Accuracy: 50.00%\n",
      "Epoch 5\n",
      "Train Accuracy: 58.91%\n",
      "Test loss: 1.711, Val Accuracy: 50.76%\n",
      "Epoch 6\n",
      "Train Accuracy: 62.89%\n",
      "Test loss: 1.660, Val Accuracy: 51.89%\n",
      "Epoch 7\n",
      "Train Accuracy: 64.84%\n",
      "Test loss: 1.480, Val Accuracy: 53.41%\n",
      "Epoch 8\n",
      "Train Accuracy: 69.94%\n",
      "Test loss: 1.486, Val Accuracy: 56.06%\n",
      "Epoch 9\n",
      "Train Accuracy: 67.72%\n",
      "Test loss: 1.557, Val Accuracy: 53.41%\n",
      "Epoch 10\n",
      "Train Accuracy: 71.34%\n",
      "Test loss: 1.422, Val Accuracy: 57.20%\n",
      "Epoch 11\n",
      "Train Accuracy: 70.04%\n",
      "Test loss: 1.457, Val Accuracy: 58.71%\n",
      "Epoch 12\n",
      "Train Accuracy: 71.43%\n",
      "Test loss: 1.326, Val Accuracy: 57.95%\n",
      "Epoch 13\n",
      "Train Accuracy: 73.01%\n",
      "Test loss: 1.554, Val Accuracy: 58.71%\n",
      "Epoch 14\n",
      "Train Accuracy: 75.05%\n",
      "Test loss: 1.330, Val Accuracy: 60.61%\n",
      "Epoch 15\n",
      "Train Accuracy: 76.25%\n",
      "Test loss: 1.229, Val Accuracy: 60.23%\n",
      "Epoch 16\n",
      "Train Accuracy: 77.92%\n",
      "Test loss: 1.490, Val Accuracy: 60.23%\n",
      "Epoch 17\n",
      "Train Accuracy: 78.94%\n",
      "Test loss: 1.345, Val Accuracy: 57.58%\n",
      "Epoch 18\n",
      "Train Accuracy: 80.06%\n",
      "Test loss: 1.282, Val Accuracy: 60.61%\n",
      "Epoch 19\n",
      "Train Accuracy: 78.39%\n",
      "Test loss: 1.342, Val Accuracy: 60.23%\n",
      "Epoch 20\n",
      "Train Accuracy: 80.06%\n",
      "Test loss: 1.362, Val Accuracy: 58.33%\n"
     ]
    },
    {
     "data": {
      "application/vnd.jupyter.widget-view+json": {
       "model_id": "065cdd4b62b6436d83f1737962ed363d",
       "version_major": 2,
       "version_minor": 0
      },
      "text/plain": [
       "VBox(children=(Label(value='0.581 MB of 0.581 MB uploaded\\r'), FloatProgress(value=1.0, max=1.0)))"
      ]
     },
     "metadata": {},
     "output_type": "display_data"
    },
    {
     "data": {
      "text/html": [
       "<style>\n",
       "    table.wandb td:nth-child(1) { padding: 0 10px; text-align: left ; width: auto;} td:nth-child(2) {text-align: left ; width: 100%}\n",
       "    .wandb-row { display: flex; flex-direction: row; flex-wrap: wrap; justify-content: flex-start; width: 100% }\n",
       "    .wandb-col { display: flex; flex-direction: column; flex-basis: 100%; flex: 1; padding: 10px; }\n",
       "    </style>\n",
       "<div class=\"wandb-row\"><div class=\"wandb-col\"><h3>Run history:</h3><br/><table class=\"wandb\"><tr><td>epoch</td><td>▁▁▂▂▂▃▃▄▄▄▅▅▅▆▆▇▇▇██</td></tr><tr><td>iter_accuracy</td><td>▁▂▃▄▅▅▆▅▆▅▆▆▇▆▇▇▇▆▇▇▇▆▇▇▇▇▇▇▇█▇██▇█▇█▇█▇</td></tr><tr><td>tr_accuracy</td><td>▁▃▅▅▆▆▆▇▇▇▇▇▇▇██████</td></tr><tr><td>val_accuracy</td><td>▁▅▆▆▆▆▇▇▇▇█▇████▇███</td></tr></table><br/></div><div class=\"wandb-col\"><h3>Run summary:</h3><br/><table class=\"wandb\"><tr><td>epoch</td><td>19</td></tr><tr><td>iter_accuracy</td><td>75.92593</td></tr><tr><td>tr_accuracy</td><td>80.05566</td></tr><tr><td>val_accuracy</td><td>58.33333</td></tr></table><br/></div></div>"
      ],
      "text/plain": [
       "<IPython.core.display.HTML object>"
      ]
     },
     "metadata": {},
     "output_type": "display_data"
    },
    {
     "data": {
      "text/html": [
       " View run <strong style=\"color:#cdcd00\">peach-sweep-9</strong> at: <a href='https://wandb.ai/bhkim003-seoul-national-university/reservoir/runs/khegi3ys' target=\"_blank\">https://wandb.ai/bhkim003-seoul-national-university/reservoir/runs/khegi3ys</a><br/> View project at: <a href='https://wandb.ai/bhkim003-seoul-national-university/reservoir' target=\"_blank\">https://wandb.ai/bhkim003-seoul-national-university/reservoir</a><br/>Synced 7 W&B file(s), 0 media file(s), 0 artifact file(s) and 1 other file(s)"
      ],
      "text/plain": [
       "<IPython.core.display.HTML object>"
      ]
     },
     "metadata": {},
     "output_type": "display_data"
    },
    {
     "data": {
      "text/html": [
       "Find logs at: <code>./wandb/run-20240726_183456-khegi3ys/logs</code>"
      ],
      "text/plain": [
       "<IPython.core.display.HTML object>"
      ]
     },
     "metadata": {},
     "output_type": "display_data"
    },
    {
     "data": {
      "text/html": [
       "The new W&B backend becomes opt-out in version 0.18.0; try it out with `wandb.require(\"core\")`! See https://wandb.me/wandb-core for more information."
      ],
      "text/plain": [
       "<IPython.core.display.HTML object>"
      ]
     },
     "metadata": {},
     "output_type": "display_data"
    },
    {
     "name": "stderr",
     "output_type": "stream",
     "text": [
      "\u001b[34m\u001b[1mwandb\u001b[0m: Agent Starting Run: 1bbilfej with config:\n",
      "\u001b[34m\u001b[1mwandb\u001b[0m: \tEPOCH: 20\n",
      "\u001b[34m\u001b[1mwandb\u001b[0m: \tFC_RESERVOIR: True\n",
      "\u001b[34m\u001b[1mwandb\u001b[0m: \tIMAGE_SIZE: 128\n",
      "\u001b[34m\u001b[1mwandb\u001b[0m: \tbatch_size: 128\n",
      "\u001b[34m\u001b[1mwandb\u001b[0m: \tdata_path: /data2\n",
      "\u001b[34m\u001b[1mwandb\u001b[0m: \tdecay: 0.8913605529398918\n",
      "\u001b[34m\u001b[1mwandb\u001b[0m: \tdvs_clipping: True\n",
      "\u001b[34m\u001b[1mwandb\u001b[0m: \tdvs_duration: 100000\n",
      "\u001b[34m\u001b[1mwandb\u001b[0m: \tlearning_rate: 0.096065055641277\n",
      "\u001b[34m\u001b[1mwandb\u001b[0m: \tno_reservoir: True\n",
      "\u001b[34m\u001b[1mwandb\u001b[0m: \tpre_spike_weight: 0.631116649774595\n",
      "\u001b[34m\u001b[1mwandb\u001b[0m: \trate_coding: False\n",
      "\u001b[34m\u001b[1mwandb\u001b[0m: \ttime_step: 7\n",
      "\u001b[34m\u001b[1mwandb\u001b[0m: \twhich_data: DVS_GESTURE\n",
      "Failed to detect the name of this notebook, you can set it manually with the WANDB_NOTEBOOK_NAME environment variable to enable code saving.\n"
     ]
    },
    {
     "data": {
      "text/html": [
       "Tracking run with wandb version 0.17.5"
      ],
      "text/plain": [
       "<IPython.core.display.HTML object>"
      ]
     },
     "metadata": {},
     "output_type": "display_data"
    },
    {
     "data": {
      "text/html": [
       "Run data is saved locally in <code>/nfs/home/bhkim003/github_folder/ByeonghyeonKim/my_snn/wandb/run-20240726_185100-1bbilfej</code>"
      ],
      "text/plain": [
       "<IPython.core.display.HTML object>"
      ]
     },
     "metadata": {},
     "output_type": "display_data"
    },
    {
     "data": {
      "text/html": [
       "Syncing run <strong><a href='https://wandb.ai/bhkim003-seoul-national-university/reservoir/runs/1bbilfej' target=\"_blank\">devout-sweep-10</a></strong> to <a href='https://wandb.ai/bhkim003-seoul-national-university/reservoir' target=\"_blank\">Weights & Biases</a> (<a href='https://wandb.me/run' target=\"_blank\">docs</a>)<br/>Sweep page: <a href='https://wandb.ai/bhkim003-seoul-national-university/reservoir/sweeps/sxt07a51' target=\"_blank\">https://wandb.ai/bhkim003-seoul-national-university/reservoir/sweeps/sxt07a51</a>"
      ],
      "text/plain": [
       "<IPython.core.display.HTML object>"
      ]
     },
     "metadata": {},
     "output_type": "display_data"
    },
    {
     "data": {
      "text/html": [
       " View project at <a href='https://wandb.ai/bhkim003-seoul-national-university/reservoir' target=\"_blank\">https://wandb.ai/bhkim003-seoul-national-university/reservoir</a>"
      ],
      "text/plain": [
       "<IPython.core.display.HTML object>"
      ]
     },
     "metadata": {},
     "output_type": "display_data"
    },
    {
     "data": {
      "text/html": [
       " View sweep at <a href='https://wandb.ai/bhkim003-seoul-national-university/reservoir/sweeps/sxt07a51' target=\"_blank\">https://wandb.ai/bhkim003-seoul-national-university/reservoir/sweeps/sxt07a51</a>"
      ],
      "text/plain": [
       "<IPython.core.display.HTML object>"
      ]
     },
     "metadata": {},
     "output_type": "display_data"
    },
    {
     "data": {
      "text/html": [
       " View run at <a href='https://wandb.ai/bhkim003-seoul-national-university/reservoir/runs/1bbilfej' target=\"_blank\">https://wandb.ai/bhkim003-seoul-national-university/reservoir/runs/1bbilfej</a>"
      ],
      "text/plain": [
       "<IPython.core.display.HTML object>"
      ]
     },
     "metadata": {},
     "output_type": "display_data"
    },
    {
     "name": "stderr",
     "output_type": "stream",
     "text": [
      "\u001b[34m\u001b[1mwandb\u001b[0m: \u001b[33mWARNING\u001b[0m Config item 'data_path' was locked by 'sweep' (ignored update).\n",
      "\u001b[34m\u001b[1mwandb\u001b[0m: \u001b[33mWARNING\u001b[0m Config item 'which_data' was locked by 'sweep' (ignored update).\n",
      "\u001b[34m\u001b[1mwandb\u001b[0m: \u001b[33mWARNING\u001b[0m Config item 'learning_rate' was locked by 'sweep' (ignored update).\n",
      "\u001b[34m\u001b[1mwandb\u001b[0m: \u001b[33mWARNING\u001b[0m Config item 'IMAGE_SIZE' was locked by 'sweep' (ignored update).\n",
      "\u001b[34m\u001b[1mwandb\u001b[0m: \u001b[33mWARNING\u001b[0m Config item 'EPOCH' was locked by 'sweep' (ignored update).\n",
      "\u001b[34m\u001b[1mwandb\u001b[0m: \u001b[33mWARNING\u001b[0m Config item 'rate_coding' was locked by 'sweep' (ignored update).\n",
      "\u001b[34m\u001b[1mwandb\u001b[0m: \u001b[33mWARNING\u001b[0m Config item 'pre_spike_weight' was locked by 'sweep' (ignored update).\n",
      "\u001b[34m\u001b[1mwandb\u001b[0m: \u001b[33mWARNING\u001b[0m Config item 'dvs_duration' was locked by 'sweep' (ignored update).\n",
      "\u001b[34m\u001b[1mwandb\u001b[0m: \u001b[33mWARNING\u001b[0m Config item 'dvs_clipping' was locked by 'sweep' (ignored update).\n",
      "\u001b[34m\u001b[1mwandb\u001b[0m: \u001b[33mWARNING\u001b[0m Config item 'no_reservoir' was locked by 'sweep' (ignored update).\n",
      "\u001b[34m\u001b[1mwandb\u001b[0m: \u001b[33mWARNING\u001b[0m Config item 'FC_RESERVOIR' was locked by 'sweep' (ignored update).\n"
     ]
    },
    {
     "name": "stdout",
     "output_type": "stream",
     "text": [
      "The directory [/data2/gesture/duration_100000] already exists.\n",
      "The directory [/data2/gesture/duration_100000] already exists.\n",
      "RESERVOIR_NET(\n",
      "  (classifier): Linear(in_features=32768, out_features=10, bias=True)\n",
      ")\n",
      "Epoch 1\n",
      "Train Accuracy: 37.38%\n",
      "Test loss: 6.377, Val Accuracy: 30.30%\n",
      "Epoch 2\n",
      "Train Accuracy: 49.26%\n",
      "Test loss: 3.946, Val Accuracy: 46.21%\n",
      "Epoch 3\n",
      "Train Accuracy: 70.41%\n",
      "Test loss: 3.890, Val Accuracy: 55.30%\n",
      "Epoch 4\n",
      "Train Accuracy: 81.54%\n",
      "Test loss: 3.489, Val Accuracy: 54.17%\n",
      "Epoch 5\n",
      "Train Accuracy: 83.95%\n",
      "Test loss: 2.410, Val Accuracy: 61.36%\n",
      "Epoch 6\n",
      "Train Accuracy: 92.58%\n",
      "Test loss: 5.397, Val Accuracy: 58.33%\n",
      "Epoch 7\n",
      "Train Accuracy: 95.18%\n",
      "Test loss: 6.818, Val Accuracy: 60.61%\n",
      "Epoch 8\n",
      "Train Accuracy: 95.64%\n",
      "Test loss: 3.517, Val Accuracy: 63.26%\n",
      "Epoch 9\n",
      "Train Accuracy: 97.87%\n",
      "Test loss: 2.831, Val Accuracy: 65.53%\n",
      "Epoch 10\n",
      "Train Accuracy: 99.17%\n",
      "Test loss: 3.326, Val Accuracy: 66.29%\n",
      "Epoch 11\n",
      "Train Accuracy: 99.35%\n",
      "Test loss: 2.598, Val Accuracy: 65.91%\n",
      "Epoch 12\n",
      "Train Accuracy: 100.00%\n",
      "Test loss: 2.270, Val Accuracy: 66.67%\n",
      "Epoch 13\n",
      "Train Accuracy: 100.00%\n",
      "Test loss: 2.316, Val Accuracy: 66.29%\n",
      "Epoch 14\n",
      "Train Accuracy: 100.00%\n",
      "Test loss: 2.427, Val Accuracy: 65.53%\n",
      "Epoch 15\n",
      "Train Accuracy: 100.00%\n",
      "Test loss: 2.515, Val Accuracy: 64.77%\n",
      "Epoch 16\n",
      "Train Accuracy: 100.00%\n",
      "Test loss: 2.597, Val Accuracy: 64.77%\n",
      "Epoch 17\n",
      "Train Accuracy: 100.00%\n",
      "Test loss: 2.632, Val Accuracy: 65.53%\n",
      "Epoch 18\n",
      "Train Accuracy: 100.00%\n",
      "Test loss: 2.653, Val Accuracy: 65.53%\n",
      "Epoch 19\n",
      "Train Accuracy: 100.00%\n",
      "Test loss: 2.673, Val Accuracy: 65.53%\n",
      "Epoch 20\n",
      "Train Accuracy: 100.00%\n",
      "Test loss: 2.687, Val Accuracy: 65.15%\n"
     ]
    },
    {
     "data": {
      "application/vnd.jupyter.widget-view+json": {
       "model_id": "7d764d82ba6249f8b90fb8c7248de220",
       "version_major": 2,
       "version_minor": 0
      },
      "text/plain": [
       "VBox(children=(Label(value='0.581 MB of 0.581 MB uploaded\\r'), FloatProgress(value=1.0, max=1.0)))"
      ]
     },
     "metadata": {},
     "output_type": "display_data"
    },
    {
     "data": {
      "text/html": [
       "<style>\n",
       "    table.wandb td:nth-child(1) { padding: 0 10px; text-align: left ; width: auto;} td:nth-child(2) {text-align: left ; width: 100%}\n",
       "    .wandb-row { display: flex; flex-direction: row; flex-wrap: wrap; justify-content: flex-start; width: 100% }\n",
       "    .wandb-col { display: flex; flex-direction: column; flex-basis: 100%; flex: 1; padding: 10px; }\n",
       "    </style>\n",
       "<div class=\"wandb-row\"><div class=\"wandb-col\"><h3>Run history:</h3><br/><table class=\"wandb\"><tr><td>epoch</td><td>▁▁▂▂▂▃▃▄▄▄▅▅▅▆▆▇▇▇██</td></tr><tr><td>iter_accuracy</td><td>▁▃▂▄▆▅▆▇▆▇█▇▇▇▇█████████████████████████</td></tr><tr><td>tr_accuracy</td><td>▁▂▅▆▆▇▇█████████████</td></tr><tr><td>val_accuracy</td><td>▁▄▆▆▇▆▇▇████████████</td></tr></table><br/></div><div class=\"wandb-col\"><h3>Run summary:</h3><br/><table class=\"wandb\"><tr><td>epoch</td><td>19</td></tr><tr><td>iter_accuracy</td><td>100.0</td></tr><tr><td>tr_accuracy</td><td>100.0</td></tr><tr><td>val_accuracy</td><td>65.15152</td></tr></table><br/></div></div>"
      ],
      "text/plain": [
       "<IPython.core.display.HTML object>"
      ]
     },
     "metadata": {},
     "output_type": "display_data"
    },
    {
     "data": {
      "text/html": [
       " View run <strong style=\"color:#cdcd00\">devout-sweep-10</strong> at: <a href='https://wandb.ai/bhkim003-seoul-national-university/reservoir/runs/1bbilfej' target=\"_blank\">https://wandb.ai/bhkim003-seoul-national-university/reservoir/runs/1bbilfej</a><br/> View project at: <a href='https://wandb.ai/bhkim003-seoul-national-university/reservoir' target=\"_blank\">https://wandb.ai/bhkim003-seoul-national-university/reservoir</a><br/>Synced 7 W&B file(s), 0 media file(s), 0 artifact file(s) and 1 other file(s)"
      ],
      "text/plain": [
       "<IPython.core.display.HTML object>"
      ]
     },
     "metadata": {},
     "output_type": "display_data"
    },
    {
     "data": {
      "text/html": [
       "Find logs at: <code>./wandb/run-20240726_185100-1bbilfej/logs</code>"
      ],
      "text/plain": [
       "<IPython.core.display.HTML object>"
      ]
     },
     "metadata": {},
     "output_type": "display_data"
    },
    {
     "data": {
      "text/html": [
       "The new W&B backend becomes opt-out in version 0.18.0; try it out with `wandb.require(\"core\")`! See https://wandb.me/wandb-core for more information."
      ],
      "text/plain": [
       "<IPython.core.display.HTML object>"
      ]
     },
     "metadata": {},
     "output_type": "display_data"
    },
    {
     "name": "stderr",
     "output_type": "stream",
     "text": [
      "\u001b[34m\u001b[1mwandb\u001b[0m: Agent Starting Run: mpwma4b5 with config:\n",
      "\u001b[34m\u001b[1mwandb\u001b[0m: \tEPOCH: 20\n",
      "\u001b[34m\u001b[1mwandb\u001b[0m: \tFC_RESERVOIR: True\n",
      "\u001b[34m\u001b[1mwandb\u001b[0m: \tIMAGE_SIZE: 16\n",
      "\u001b[34m\u001b[1mwandb\u001b[0m: \tbatch_size: 256\n",
      "\u001b[34m\u001b[1mwandb\u001b[0m: \tdata_path: /data2\n",
      "\u001b[34m\u001b[1mwandb\u001b[0m: \tdecay: 0.576204481489534\n",
      "\u001b[34m\u001b[1mwandb\u001b[0m: \tdvs_clipping: True\n",
      "\u001b[34m\u001b[1mwandb\u001b[0m: \tdvs_duration: 100000\n",
      "\u001b[34m\u001b[1mwandb\u001b[0m: \tlearning_rate: 0.09056504549466568\n",
      "\u001b[34m\u001b[1mwandb\u001b[0m: \tno_reservoir: False\n",
      "\u001b[34m\u001b[1mwandb\u001b[0m: \tpre_spike_weight: 1.4616597715898365\n",
      "\u001b[34m\u001b[1mwandb\u001b[0m: \trate_coding: False\n",
      "\u001b[34m\u001b[1mwandb\u001b[0m: \ttime_step: 7\n",
      "\u001b[34m\u001b[1mwandb\u001b[0m: \twhich_data: DVS_GESTURE\n",
      "Failed to detect the name of this notebook, you can set it manually with the WANDB_NOTEBOOK_NAME environment variable to enable code saving.\n"
     ]
    },
    {
     "data": {
      "text/html": [
       "Tracking run with wandb version 0.17.5"
      ],
      "text/plain": [
       "<IPython.core.display.HTML object>"
      ]
     },
     "metadata": {},
     "output_type": "display_data"
    },
    {
     "data": {
      "text/html": [
       "Run data is saved locally in <code>/nfs/home/bhkim003/github_folder/ByeonghyeonKim/my_snn/wandb/run-20240726_191144-mpwma4b5</code>"
      ],
      "text/plain": [
       "<IPython.core.display.HTML object>"
      ]
     },
     "metadata": {},
     "output_type": "display_data"
    },
    {
     "data": {
      "text/html": [
       "Syncing run <strong><a href='https://wandb.ai/bhkim003-seoul-national-university/reservoir/runs/mpwma4b5' target=\"_blank\">celestial-sweep-11</a></strong> to <a href='https://wandb.ai/bhkim003-seoul-national-university/reservoir' target=\"_blank\">Weights & Biases</a> (<a href='https://wandb.me/run' target=\"_blank\">docs</a>)<br/>Sweep page: <a href='https://wandb.ai/bhkim003-seoul-national-university/reservoir/sweeps/sxt07a51' target=\"_blank\">https://wandb.ai/bhkim003-seoul-national-university/reservoir/sweeps/sxt07a51</a>"
      ],
      "text/plain": [
       "<IPython.core.display.HTML object>"
      ]
     },
     "metadata": {},
     "output_type": "display_data"
    },
    {
     "data": {
      "text/html": [
       " View project at <a href='https://wandb.ai/bhkim003-seoul-national-university/reservoir' target=\"_blank\">https://wandb.ai/bhkim003-seoul-national-university/reservoir</a>"
      ],
      "text/plain": [
       "<IPython.core.display.HTML object>"
      ]
     },
     "metadata": {},
     "output_type": "display_data"
    },
    {
     "data": {
      "text/html": [
       " View sweep at <a href='https://wandb.ai/bhkim003-seoul-national-university/reservoir/sweeps/sxt07a51' target=\"_blank\">https://wandb.ai/bhkim003-seoul-national-university/reservoir/sweeps/sxt07a51</a>"
      ],
      "text/plain": [
       "<IPython.core.display.HTML object>"
      ]
     },
     "metadata": {},
     "output_type": "display_data"
    },
    {
     "data": {
      "text/html": [
       " View run at <a href='https://wandb.ai/bhkim003-seoul-national-university/reservoir/runs/mpwma4b5' target=\"_blank\">https://wandb.ai/bhkim003-seoul-national-university/reservoir/runs/mpwma4b5</a>"
      ],
      "text/plain": [
       "<IPython.core.display.HTML object>"
      ]
     },
     "metadata": {},
     "output_type": "display_data"
    },
    {
     "name": "stderr",
     "output_type": "stream",
     "text": [
      "\u001b[34m\u001b[1mwandb\u001b[0m: \u001b[33mWARNING\u001b[0m Config item 'data_path' was locked by 'sweep' (ignored update).\n",
      "\u001b[34m\u001b[1mwandb\u001b[0m: \u001b[33mWARNING\u001b[0m Config item 'which_data' was locked by 'sweep' (ignored update).\n",
      "\u001b[34m\u001b[1mwandb\u001b[0m: \u001b[33mWARNING\u001b[0m Config item 'learning_rate' was locked by 'sweep' (ignored update).\n",
      "\u001b[34m\u001b[1mwandb\u001b[0m: \u001b[33mWARNING\u001b[0m Config item 'IMAGE_SIZE' was locked by 'sweep' (ignored update).\n",
      "\u001b[34m\u001b[1mwandb\u001b[0m: \u001b[33mWARNING\u001b[0m Config item 'EPOCH' was locked by 'sweep' (ignored update).\n",
      "\u001b[34m\u001b[1mwandb\u001b[0m: \u001b[33mWARNING\u001b[0m Config item 'rate_coding' was locked by 'sweep' (ignored update).\n",
      "\u001b[34m\u001b[1mwandb\u001b[0m: \u001b[33mWARNING\u001b[0m Config item 'pre_spike_weight' was locked by 'sweep' (ignored update).\n",
      "\u001b[34m\u001b[1mwandb\u001b[0m: \u001b[33mWARNING\u001b[0m Config item 'dvs_duration' was locked by 'sweep' (ignored update).\n",
      "\u001b[34m\u001b[1mwandb\u001b[0m: \u001b[33mWARNING\u001b[0m Config item 'dvs_clipping' was locked by 'sweep' (ignored update).\n",
      "\u001b[34m\u001b[1mwandb\u001b[0m: \u001b[33mWARNING\u001b[0m Config item 'no_reservoir' was locked by 'sweep' (ignored update).\n",
      "\u001b[34m\u001b[1mwandb\u001b[0m: \u001b[33mWARNING\u001b[0m Config item 'FC_RESERVOIR' was locked by 'sweep' (ignored update).\n"
     ]
    },
    {
     "name": "stdout",
     "output_type": "stream",
     "text": [
      "The directory [/data2/gesture/duration_100000] already exists.\n",
      "The directory [/data2/gesture/duration_100000] already exists.\n",
      "RESERVOIR_NET(\n",
      "  (reservoir): RESERVOIR(\n",
      "    (reservoir): Linear(in_features=512, out_features=512, bias=True)\n",
      "  )\n",
      "  (classifier): Linear(in_features=512, out_features=10, bias=True)\n",
      ")\n",
      "Epoch 1\n",
      "Train Accuracy: 15.77%\n",
      "Test loss: 2.251, Val Accuracy: 19.70%\n",
      "Epoch 2\n",
      "Train Accuracy: 31.17%\n",
      "Test loss: 1.747, Val Accuracy: 47.35%\n",
      "Epoch 3\n",
      "Train Accuracy: 51.30%\n",
      "Test loss: 1.803, Val Accuracy: 40.53%\n",
      "Epoch 4\n",
      "Train Accuracy: 53.99%\n",
      "Test loss: 1.482, Val Accuracy: 46.59%\n",
      "Epoch 5\n",
      "Train Accuracy: 56.49%\n",
      "Test loss: 1.782, Val Accuracy: 52.65%\n",
      "Epoch 6\n",
      "Train Accuracy: 64.01%\n",
      "Test loss: 1.535, Val Accuracy: 51.52%\n",
      "Epoch 7\n",
      "Train Accuracy: 63.17%\n",
      "Test loss: 1.523, Val Accuracy: 50.76%\n",
      "Epoch 8\n",
      "Train Accuracy: 65.68%\n",
      "Test loss: 1.544, Val Accuracy: 54.55%\n",
      "Epoch 9\n",
      "Train Accuracy: 71.52%\n",
      "Test loss: 1.447, Val Accuracy: 57.20%\n",
      "Epoch 10\n",
      "Train Accuracy: 72.54%\n",
      "Test loss: 1.358, Val Accuracy: 55.30%\n",
      "Epoch 11\n",
      "Train Accuracy: 74.30%\n",
      "Test loss: 1.530, Val Accuracy: 54.92%\n",
      "Epoch 12\n",
      "Train Accuracy: 71.99%\n",
      "Test loss: 1.419, Val Accuracy: 57.58%\n",
      "Epoch 13\n",
      "Train Accuracy: 75.97%\n",
      "Test loss: 1.366, Val Accuracy: 58.71%\n",
      "Epoch 14\n",
      "Train Accuracy: 77.27%\n",
      "Test loss: 1.581, Val Accuracy: 58.71%\n",
      "Epoch 15\n",
      "Train Accuracy: 75.32%\n",
      "Test loss: 1.343, Val Accuracy: 59.85%\n",
      "Epoch 16\n",
      "Train Accuracy: 79.22%\n",
      "Test loss: 1.339, Val Accuracy: 59.85%\n",
      "Epoch 17\n",
      "Train Accuracy: 79.22%\n",
      "Test loss: 1.484, Val Accuracy: 60.23%\n",
      "Epoch 18\n",
      "Train Accuracy: 78.57%\n",
      "Test loss: 1.280, Val Accuracy: 58.71%\n",
      "Epoch 19\n",
      "Train Accuracy: 78.48%\n",
      "Test loss: 1.276, Val Accuracy: 58.33%\n",
      "Epoch 20\n",
      "Train Accuracy: 81.82%\n",
      "Test loss: 1.350, Val Accuracy: 61.74%\n"
     ]
    },
    {
     "data": {
      "application/vnd.jupyter.widget-view+json": {
       "model_id": "d424681f1f664e3aabbaf85d13fa3bb9",
       "version_major": 2,
       "version_minor": 0
      },
      "text/plain": [
       "VBox(children=(Label(value='21.855 MB of 21.855 MB uploaded (21.006 MB deduped)\\r'), FloatProgress(value=1.0, …"
      ]
     },
     "metadata": {},
     "output_type": "display_data"
    },
    {
     "data": {
      "text/html": [
       "W&B sync reduced upload amount by 95.8%"
      ],
      "text/plain": [
       "<IPython.core.display.HTML object>"
      ]
     },
     "metadata": {},
     "output_type": "display_data"
    },
    {
     "data": {
      "text/html": [
       "<style>\n",
       "    table.wandb td:nth-child(1) { padding: 0 10px; text-align: left ; width: auto;} td:nth-child(2) {text-align: left ; width: 100%}\n",
       "    .wandb-row { display: flex; flex-direction: row; flex-wrap: wrap; justify-content: flex-start; width: 100% }\n",
       "    .wandb-col { display: flex; flex-direction: column; flex-basis: 100%; flex: 1; padding: 10px; }\n",
       "    </style>\n",
       "<div class=\"wandb-row\"><div class=\"wandb-col\"><h3>Run history:</h3><br/><table class=\"wandb\"><tr><td>epoch</td><td>▁▁▂▂▂▃▃▄▄▄▅▅▅▆▆▇▇▇██</td></tr><tr><td>iter_accuracy</td><td>▁▂▂▃▆▄▅▅▆▅▆▆▆▆▆▇▇▇▇▇▇▇▇▇█▇█▇▇███▇██▇████</td></tr><tr><td>tr_accuracy</td><td>▁▃▅▅▅▆▆▆▇▇▇▇▇█▇█████</td></tr><tr><td>val_accuracy</td><td>▁▆▄▅▆▆▆▇▇▇▇▇▇▇███▇▇█</td></tr></table><br/></div><div class=\"wandb-col\"><h3>Run summary:</h3><br/><table class=\"wandb\"><tr><td>epoch</td><td>19</td></tr><tr><td>iter_accuracy</td><td>83.33333</td></tr><tr><td>tr_accuracy</td><td>81.81818</td></tr><tr><td>val_accuracy</td><td>61.74242</td></tr></table><br/></div></div>"
      ],
      "text/plain": [
       "<IPython.core.display.HTML object>"
      ]
     },
     "metadata": {},
     "output_type": "display_data"
    },
    {
     "data": {
      "text/html": [
       " View run <strong style=\"color:#cdcd00\">celestial-sweep-11</strong> at: <a href='https://wandb.ai/bhkim003-seoul-national-university/reservoir/runs/mpwma4b5' target=\"_blank\">https://wandb.ai/bhkim003-seoul-national-university/reservoir/runs/mpwma4b5</a><br/> View project at: <a href='https://wandb.ai/bhkim003-seoul-national-university/reservoir' target=\"_blank\">https://wandb.ai/bhkim003-seoul-national-university/reservoir</a><br/>Synced 7 W&B file(s), 0 media file(s), 36 artifact file(s) and 1 other file(s)"
      ],
      "text/plain": [
       "<IPython.core.display.HTML object>"
      ]
     },
     "metadata": {},
     "output_type": "display_data"
    },
    {
     "data": {
      "text/html": [
       "Find logs at: <code>./wandb/run-20240726_191144-mpwma4b5/logs</code>"
      ],
      "text/plain": [
       "<IPython.core.display.HTML object>"
      ]
     },
     "metadata": {},
     "output_type": "display_data"
    },
    {
     "data": {
      "text/html": [
       "The new W&B backend becomes opt-out in version 0.18.0; try it out with `wandb.require(\"core\")`! See https://wandb.me/wandb-core for more information."
      ],
      "text/plain": [
       "<IPython.core.display.HTML object>"
      ]
     },
     "metadata": {},
     "output_type": "display_data"
    },
    {
     "name": "stderr",
     "output_type": "stream",
     "text": [
      "\u001b[34m\u001b[1mwandb\u001b[0m: Agent Starting Run: av8r07yw with config:\n",
      "\u001b[34m\u001b[1mwandb\u001b[0m: \tEPOCH: 20\n",
      "\u001b[34m\u001b[1mwandb\u001b[0m: \tFC_RESERVOIR: True\n",
      "\u001b[34m\u001b[1mwandb\u001b[0m: \tIMAGE_SIZE: 48\n",
      "\u001b[34m\u001b[1mwandb\u001b[0m: \tbatch_size: 128\n",
      "\u001b[34m\u001b[1mwandb\u001b[0m: \tdata_path: /data2\n",
      "\u001b[34m\u001b[1mwandb\u001b[0m: \tdecay: 0.6782306033941309\n",
      "\u001b[34m\u001b[1mwandb\u001b[0m: \tdvs_clipping: True\n",
      "\u001b[34m\u001b[1mwandb\u001b[0m: \tdvs_duration: 100000\n",
      "\u001b[34m\u001b[1mwandb\u001b[0m: \tlearning_rate: 0.03530038023684128\n",
      "\u001b[34m\u001b[1mwandb\u001b[0m: \tno_reservoir: False\n",
      "\u001b[34m\u001b[1mwandb\u001b[0m: \tpre_spike_weight: 0.7038956464291648\n",
      "\u001b[34m\u001b[1mwandb\u001b[0m: \trate_coding: True\n",
      "\u001b[34m\u001b[1mwandb\u001b[0m: \ttime_step: 6\n",
      "\u001b[34m\u001b[1mwandb\u001b[0m: \twhich_data: DVS_GESTURE\n",
      "Failed to detect the name of this notebook, you can set it manually with the WANDB_NOTEBOOK_NAME environment variable to enable code saving.\n"
     ]
    },
    {
     "data": {
      "text/html": [
       "Tracking run with wandb version 0.17.5"
      ],
      "text/plain": [
       "<IPython.core.display.HTML object>"
      ]
     },
     "metadata": {},
     "output_type": "display_data"
    },
    {
     "data": {
      "text/html": [
       "Run data is saved locally in <code>/nfs/home/bhkim003/github_folder/ByeonghyeonKim/my_snn/wandb/run-20240726_192745-av8r07yw</code>"
      ],
      "text/plain": [
       "<IPython.core.display.HTML object>"
      ]
     },
     "metadata": {},
     "output_type": "display_data"
    },
    {
     "data": {
      "text/html": [
       "Syncing run <strong><a href='https://wandb.ai/bhkim003-seoul-national-university/reservoir/runs/av8r07yw' target=\"_blank\">brisk-sweep-12</a></strong> to <a href='https://wandb.ai/bhkim003-seoul-national-university/reservoir' target=\"_blank\">Weights & Biases</a> (<a href='https://wandb.me/run' target=\"_blank\">docs</a>)<br/>Sweep page: <a href='https://wandb.ai/bhkim003-seoul-national-university/reservoir/sweeps/sxt07a51' target=\"_blank\">https://wandb.ai/bhkim003-seoul-national-university/reservoir/sweeps/sxt07a51</a>"
      ],
      "text/plain": [
       "<IPython.core.display.HTML object>"
      ]
     },
     "metadata": {},
     "output_type": "display_data"
    },
    {
     "data": {
      "text/html": [
       " View project at <a href='https://wandb.ai/bhkim003-seoul-national-university/reservoir' target=\"_blank\">https://wandb.ai/bhkim003-seoul-national-university/reservoir</a>"
      ],
      "text/plain": [
       "<IPython.core.display.HTML object>"
      ]
     },
     "metadata": {},
     "output_type": "display_data"
    },
    {
     "data": {
      "text/html": [
       " View sweep at <a href='https://wandb.ai/bhkim003-seoul-national-university/reservoir/sweeps/sxt07a51' target=\"_blank\">https://wandb.ai/bhkim003-seoul-national-university/reservoir/sweeps/sxt07a51</a>"
      ],
      "text/plain": [
       "<IPython.core.display.HTML object>"
      ]
     },
     "metadata": {},
     "output_type": "display_data"
    },
    {
     "data": {
      "text/html": [
       " View run at <a href='https://wandb.ai/bhkim003-seoul-national-university/reservoir/runs/av8r07yw' target=\"_blank\">https://wandb.ai/bhkim003-seoul-national-university/reservoir/runs/av8r07yw</a>"
      ],
      "text/plain": [
       "<IPython.core.display.HTML object>"
      ]
     },
     "metadata": {},
     "output_type": "display_data"
    },
    {
     "name": "stderr",
     "output_type": "stream",
     "text": [
      "\u001b[34m\u001b[1mwandb\u001b[0m: \u001b[33mWARNING\u001b[0m Config item 'data_path' was locked by 'sweep' (ignored update).\n",
      "\u001b[34m\u001b[1mwandb\u001b[0m: \u001b[33mWARNING\u001b[0m Config item 'which_data' was locked by 'sweep' (ignored update).\n",
      "\u001b[34m\u001b[1mwandb\u001b[0m: \u001b[33mWARNING\u001b[0m Config item 'learning_rate' was locked by 'sweep' (ignored update).\n",
      "\u001b[34m\u001b[1mwandb\u001b[0m: \u001b[33mWARNING\u001b[0m Config item 'IMAGE_SIZE' was locked by 'sweep' (ignored update).\n",
      "\u001b[34m\u001b[1mwandb\u001b[0m: \u001b[33mWARNING\u001b[0m Config item 'EPOCH' was locked by 'sweep' (ignored update).\n",
      "\u001b[34m\u001b[1mwandb\u001b[0m: \u001b[33mWARNING\u001b[0m Config item 'rate_coding' was locked by 'sweep' (ignored update).\n",
      "\u001b[34m\u001b[1mwandb\u001b[0m: \u001b[33mWARNING\u001b[0m Config item 'pre_spike_weight' was locked by 'sweep' (ignored update).\n",
      "\u001b[34m\u001b[1mwandb\u001b[0m: \u001b[33mWARNING\u001b[0m Config item 'dvs_duration' was locked by 'sweep' (ignored update).\n",
      "\u001b[34m\u001b[1mwandb\u001b[0m: \u001b[33mWARNING\u001b[0m Config item 'dvs_clipping' was locked by 'sweep' (ignored update).\n",
      "\u001b[34m\u001b[1mwandb\u001b[0m: \u001b[33mWARNING\u001b[0m Config item 'no_reservoir' was locked by 'sweep' (ignored update).\n",
      "\u001b[34m\u001b[1mwandb\u001b[0m: \u001b[33mWARNING\u001b[0m Config item 'FC_RESERVOIR' was locked by 'sweep' (ignored update).\n"
     ]
    },
    {
     "name": "stdout",
     "output_type": "stream",
     "text": [
      "The directory [/data2/gesture/duration_100000] already exists.\n",
      "The directory [/data2/gesture/duration_100000] already exists.\n",
      "RESERVOIR_NET(\n",
      "  (reservoir): RESERVOIR(\n",
      "    (reservoir): Linear(in_features=4608, out_features=4608, bias=True)\n",
      "  )\n",
      "  (classifier): Linear(in_features=4608, out_features=10, bias=True)\n",
      ")\n",
      "Epoch 1\n",
      "Train Accuracy: 21.80%\n",
      "Test loss: 1.828, Val Accuracy: 40.53%\n",
      "Epoch 2\n",
      "Train Accuracy: 50.46%\n",
      "Test loss: 1.630, Val Accuracy: 45.83%\n",
      "Epoch 3\n",
      "Train Accuracy: 60.95%\n",
      "Test loss: 1.489, Val Accuracy: 49.62%\n",
      "Epoch 4\n",
      "Train Accuracy: 66.88%\n",
      "Test loss: 1.378, Val Accuracy: 51.52%\n",
      "Epoch 5\n",
      "Train Accuracy: 74.58%\n",
      "Test loss: 1.337, Val Accuracy: 58.71%\n",
      "Epoch 6\n",
      "Train Accuracy: 77.83%\n",
      "Test loss: 1.313, Val Accuracy: 59.85%\n",
      "Epoch 7\n",
      "Train Accuracy: 79.31%\n",
      "Test loss: 1.235, Val Accuracy: 64.39%\n",
      "Epoch 8\n",
      "Train Accuracy: 83.40%\n",
      "Test loss: 1.276, Val Accuracy: 57.95%\n",
      "Epoch 9\n",
      "Train Accuracy: 84.88%\n",
      "Test loss: 1.188, Val Accuracy: 65.15%\n",
      "Epoch 10\n",
      "Train Accuracy: 88.78%\n",
      "Test loss: 1.257, Val Accuracy: 64.77%\n",
      "Epoch 11\n",
      "Train Accuracy: 88.50%\n",
      "Test loss: 1.187, Val Accuracy: 63.64%\n",
      "Epoch 12\n",
      "Train Accuracy: 90.07%\n",
      "Test loss: 1.229, Val Accuracy: 64.77%\n",
      "Epoch 13\n",
      "Train Accuracy: 91.56%\n",
      "Test loss: 1.207, Val Accuracy: 65.53%\n",
      "Epoch 14\n",
      "Train Accuracy: 92.49%\n",
      "Test loss: 1.152, Val Accuracy: 67.05%\n",
      "Epoch 15\n",
      "Train Accuracy: 92.86%\n",
      "Test loss: 1.206, Val Accuracy: 64.77%\n",
      "Epoch 16\n",
      "Train Accuracy: 93.97%\n",
      "Test loss: 1.163, Val Accuracy: 67.05%\n",
      "Epoch 17\n",
      "Train Accuracy: 94.06%\n",
      "Test loss: 1.176, Val Accuracy: 65.53%\n",
      "Epoch 18\n",
      "Train Accuracy: 95.08%\n",
      "Test loss: 1.135, Val Accuracy: 67.05%\n",
      "Epoch 19\n",
      "Train Accuracy: 95.36%\n",
      "Test loss: 1.206, Val Accuracy: 65.91%\n",
      "Epoch 20\n",
      "Train Accuracy: 96.20%\n",
      "Test loss: 1.129, Val Accuracy: 67.42%\n"
     ]
    },
    {
     "data": {
      "application/vnd.jupyter.widget-view+json": {
       "model_id": "97a40b814a914e26a37d1865f5f5034f",
       "version_major": 2,
       "version_minor": 0
      },
      "text/plain": [
       "VBox(children=(Label(value='0.313 MB of 0.313 MB uploaded\\r'), FloatProgress(value=1.0, max=1.0)))"
      ]
     },
     "metadata": {},
     "output_type": "display_data"
    },
    {
     "data": {
      "text/html": [
       "<style>\n",
       "    table.wandb td:nth-child(1) { padding: 0 10px; text-align: left ; width: auto;} td:nth-child(2) {text-align: left ; width: 100%}\n",
       "    .wandb-row { display: flex; flex-direction: row; flex-wrap: wrap; justify-content: flex-start; width: 100% }\n",
       "    .wandb-col { display: flex; flex-direction: column; flex-basis: 100%; flex: 1; padding: 10px; }\n",
       "    </style>\n",
       "<div class=\"wandb-row\"><div class=\"wandb-col\"><h3>Run history:</h3><br/><table class=\"wandb\"><tr><td>epoch</td><td>▁▁▂▂▂▃▃▄▄▄▅▅▅▆▆▇▇▇██</td></tr><tr><td>iter_accuracy</td><td>▁▁▄▄▅▄▅▆▇▆▇▆▆▆▇▇▇▇▇▇▇▇▇▇█▇██████████████</td></tr><tr><td>tr_accuracy</td><td>▁▄▅▅▆▆▆▇▇▇▇▇████████</td></tr><tr><td>val_accuracy</td><td>▁▂▃▄▆▆▇▆▇▇▇▇██▇█████</td></tr></table><br/></div><div class=\"wandb-col\"><h3>Run summary:</h3><br/><table class=\"wandb\"><tr><td>epoch</td><td>19</td></tr><tr><td>iter_accuracy</td><td>94.44444</td></tr><tr><td>tr_accuracy</td><td>96.19666</td></tr><tr><td>val_accuracy</td><td>67.42424</td></tr></table><br/></div></div>"
      ],
      "text/plain": [
       "<IPython.core.display.HTML object>"
      ]
     },
     "metadata": {},
     "output_type": "display_data"
    },
    {
     "data": {
      "text/html": [
       " View run <strong style=\"color:#cdcd00\">brisk-sweep-12</strong> at: <a href='https://wandb.ai/bhkim003-seoul-national-university/reservoir/runs/av8r07yw' target=\"_blank\">https://wandb.ai/bhkim003-seoul-national-university/reservoir/runs/av8r07yw</a><br/> View project at: <a href='https://wandb.ai/bhkim003-seoul-national-university/reservoir' target=\"_blank\">https://wandb.ai/bhkim003-seoul-national-university/reservoir</a><br/>Synced 7 W&B file(s), 0 media file(s), 0 artifact file(s) and 1 other file(s)"
      ],
      "text/plain": [
       "<IPython.core.display.HTML object>"
      ]
     },
     "metadata": {},
     "output_type": "display_data"
    },
    {
     "data": {
      "text/html": [
       "Find logs at: <code>./wandb/run-20240726_192745-av8r07yw/logs</code>"
      ],
      "text/plain": [
       "<IPython.core.display.HTML object>"
      ]
     },
     "metadata": {},
     "output_type": "display_data"
    },
    {
     "data": {
      "text/html": [
       "The new W&B backend becomes opt-out in version 0.18.0; try it out with `wandb.require(\"core\")`! See https://wandb.me/wandb-core for more information."
      ],
      "text/plain": [
       "<IPython.core.display.HTML object>"
      ]
     },
     "metadata": {},
     "output_type": "display_data"
    },
    {
     "name": "stderr",
     "output_type": "stream",
     "text": [
      "\u001b[34m\u001b[1mwandb\u001b[0m: Agent Starting Run: eqvg1pcw with config:\n",
      "\u001b[34m\u001b[1mwandb\u001b[0m: \tEPOCH: 20\n",
      "\u001b[34m\u001b[1mwandb\u001b[0m: \tFC_RESERVOIR: True\n",
      "\u001b[34m\u001b[1mwandb\u001b[0m: \tIMAGE_SIZE: 48\n",
      "\u001b[34m\u001b[1mwandb\u001b[0m: \tbatch_size: 64\n",
      "\u001b[34m\u001b[1mwandb\u001b[0m: \tdata_path: /data2\n",
      "\u001b[34m\u001b[1mwandb\u001b[0m: \tdecay: 0.7162001023744953\n",
      "\u001b[34m\u001b[1mwandb\u001b[0m: \tdvs_clipping: True\n",
      "\u001b[34m\u001b[1mwandb\u001b[0m: \tdvs_duration: 100000\n",
      "\u001b[34m\u001b[1mwandb\u001b[0m: \tlearning_rate: 0.06538796996712694\n",
      "\u001b[34m\u001b[1mwandb\u001b[0m: \tno_reservoir: True\n",
      "\u001b[34m\u001b[1mwandb\u001b[0m: \tpre_spike_weight: 9.006998530923227\n",
      "\u001b[34m\u001b[1mwandb\u001b[0m: \trate_coding: False\n",
      "\u001b[34m\u001b[1mwandb\u001b[0m: \ttime_step: 4\n",
      "\u001b[34m\u001b[1mwandb\u001b[0m: \twhich_data: DVS_GESTURE\n",
      "Failed to detect the name of this notebook, you can set it manually with the WANDB_NOTEBOOK_NAME environment variable to enable code saving.\n"
     ]
    },
    {
     "data": {
      "text/html": [
       "Tracking run with wandb version 0.17.5"
      ],
      "text/plain": [
       "<IPython.core.display.HTML object>"
      ]
     },
     "metadata": {},
     "output_type": "display_data"
    },
    {
     "data": {
      "text/html": [
       "Run data is saved locally in <code>/nfs/home/bhkim003/github_folder/ByeonghyeonKim/my_snn/wandb/run-20240726_194259-eqvg1pcw</code>"
      ],
      "text/plain": [
       "<IPython.core.display.HTML object>"
      ]
     },
     "metadata": {},
     "output_type": "display_data"
    },
    {
     "data": {
      "text/html": [
       "Syncing run <strong><a href='https://wandb.ai/bhkim003-seoul-national-university/reservoir/runs/eqvg1pcw' target=\"_blank\">blooming-sweep-13</a></strong> to <a href='https://wandb.ai/bhkim003-seoul-national-university/reservoir' target=\"_blank\">Weights & Biases</a> (<a href='https://wandb.me/run' target=\"_blank\">docs</a>)<br/>Sweep page: <a href='https://wandb.ai/bhkim003-seoul-national-university/reservoir/sweeps/sxt07a51' target=\"_blank\">https://wandb.ai/bhkim003-seoul-national-university/reservoir/sweeps/sxt07a51</a>"
      ],
      "text/plain": [
       "<IPython.core.display.HTML object>"
      ]
     },
     "metadata": {},
     "output_type": "display_data"
    },
    {
     "data": {
      "text/html": [
       " View project at <a href='https://wandb.ai/bhkim003-seoul-national-university/reservoir' target=\"_blank\">https://wandb.ai/bhkim003-seoul-national-university/reservoir</a>"
      ],
      "text/plain": [
       "<IPython.core.display.HTML object>"
      ]
     },
     "metadata": {},
     "output_type": "display_data"
    },
    {
     "data": {
      "text/html": [
       " View sweep at <a href='https://wandb.ai/bhkim003-seoul-national-university/reservoir/sweeps/sxt07a51' target=\"_blank\">https://wandb.ai/bhkim003-seoul-national-university/reservoir/sweeps/sxt07a51</a>"
      ],
      "text/plain": [
       "<IPython.core.display.HTML object>"
      ]
     },
     "metadata": {},
     "output_type": "display_data"
    },
    {
     "data": {
      "text/html": [
       " View run at <a href='https://wandb.ai/bhkim003-seoul-national-university/reservoir/runs/eqvg1pcw' target=\"_blank\">https://wandb.ai/bhkim003-seoul-national-university/reservoir/runs/eqvg1pcw</a>"
      ],
      "text/plain": [
       "<IPython.core.display.HTML object>"
      ]
     },
     "metadata": {},
     "output_type": "display_data"
    },
    {
     "name": "stderr",
     "output_type": "stream",
     "text": [
      "\u001b[34m\u001b[1mwandb\u001b[0m: \u001b[33mWARNING\u001b[0m Config item 'data_path' was locked by 'sweep' (ignored update).\n",
      "\u001b[34m\u001b[1mwandb\u001b[0m: \u001b[33mWARNING\u001b[0m Config item 'which_data' was locked by 'sweep' (ignored update).\n",
      "\u001b[34m\u001b[1mwandb\u001b[0m: \u001b[33mWARNING\u001b[0m Config item 'learning_rate' was locked by 'sweep' (ignored update).\n",
      "\u001b[34m\u001b[1mwandb\u001b[0m: \u001b[33mWARNING\u001b[0m Config item 'IMAGE_SIZE' was locked by 'sweep' (ignored update).\n",
      "\u001b[34m\u001b[1mwandb\u001b[0m: \u001b[33mWARNING\u001b[0m Config item 'EPOCH' was locked by 'sweep' (ignored update).\n",
      "\u001b[34m\u001b[1mwandb\u001b[0m: \u001b[33mWARNING\u001b[0m Config item 'rate_coding' was locked by 'sweep' (ignored update).\n",
      "\u001b[34m\u001b[1mwandb\u001b[0m: \u001b[33mWARNING\u001b[0m Config item 'pre_spike_weight' was locked by 'sweep' (ignored update).\n",
      "\u001b[34m\u001b[1mwandb\u001b[0m: \u001b[33mWARNING\u001b[0m Config item 'dvs_duration' was locked by 'sweep' (ignored update).\n",
      "\u001b[34m\u001b[1mwandb\u001b[0m: \u001b[33mWARNING\u001b[0m Config item 'dvs_clipping' was locked by 'sweep' (ignored update).\n",
      "\u001b[34m\u001b[1mwandb\u001b[0m: \u001b[33mWARNING\u001b[0m Config item 'no_reservoir' was locked by 'sweep' (ignored update).\n",
      "\u001b[34m\u001b[1mwandb\u001b[0m: \u001b[33mWARNING\u001b[0m Config item 'FC_RESERVOIR' was locked by 'sweep' (ignored update).\n"
     ]
    },
    {
     "name": "stdout",
     "output_type": "stream",
     "text": [
      "The directory [/data2/gesture/duration_100000] already exists.\n",
      "The directory [/data2/gesture/duration_100000] already exists.\n",
      "RESERVOIR_NET(\n",
      "  (classifier): Linear(in_features=4608, out_features=10, bias=True)\n",
      ")\n",
      "Epoch 1\n",
      "Train Accuracy: 35.71%\n",
      "Test loss: 2.299, Val Accuracy: 41.67%\n",
      "Epoch 2\n",
      "Train Accuracy: 66.60%\n",
      "Test loss: 1.711, Val Accuracy: 47.73%\n",
      "Epoch 3\n",
      "Train Accuracy: 82.37%\n",
      "Test loss: 1.238, Val Accuracy: 58.71%\n",
      "Epoch 4\n",
      "Train Accuracy: 92.95%\n",
      "Test loss: 1.855, Val Accuracy: 50.00%\n",
      "Epoch 5\n",
      "Train Accuracy: 94.81%\n",
      "Test loss: 1.307, Val Accuracy: 61.74%\n",
      "Epoch 6\n",
      "Train Accuracy: 98.89%\n",
      "Test loss: 1.325, Val Accuracy: 61.74%\n",
      "Epoch 7\n",
      "Train Accuracy: 99.81%\n",
      "Test loss: 1.273, Val Accuracy: 61.36%\n",
      "Epoch 8\n",
      "Train Accuracy: 100.00%\n",
      "Test loss: 1.326, Val Accuracy: 62.88%\n",
      "Epoch 9\n",
      "Train Accuracy: 100.00%\n",
      "Test loss: 1.112, Val Accuracy: 64.77%\n",
      "Epoch 10\n",
      "Train Accuracy: 100.00%\n",
      "Test loss: 1.201, Val Accuracy: 65.53%\n",
      "Epoch 11\n",
      "Train Accuracy: 100.00%\n",
      "Test loss: 1.311, Val Accuracy: 61.74%\n",
      "Epoch 12\n",
      "Train Accuracy: 100.00%\n",
      "Test loss: 1.300, Val Accuracy: 63.64%\n",
      "Epoch 13\n",
      "Train Accuracy: 100.00%\n",
      "Test loss: 1.280, Val Accuracy: 64.77%\n",
      "Epoch 14\n",
      "Train Accuracy: 100.00%\n",
      "Test loss: 1.281, Val Accuracy: 64.02%\n",
      "Epoch 15\n",
      "Train Accuracy: 100.00%\n",
      "Test loss: 1.263, Val Accuracy: 64.77%\n",
      "Epoch 16\n",
      "Train Accuracy: 100.00%\n",
      "Test loss: 1.309, Val Accuracy: 62.88%\n",
      "Epoch 17\n",
      "Train Accuracy: 100.00%\n",
      "Test loss: 1.309, Val Accuracy: 63.64%\n",
      "Epoch 18\n",
      "Train Accuracy: 100.00%\n",
      "Test loss: 1.358, Val Accuracy: 62.88%\n",
      "Epoch 19\n",
      "Train Accuracy: 100.00%\n",
      "Test loss: 1.296, Val Accuracy: 63.64%\n",
      "Epoch 20\n",
      "Train Accuracy: 100.00%\n",
      "Test loss: 1.316, Val Accuracy: 63.26%\n"
     ]
    },
    {
     "data": {
      "application/vnd.jupyter.widget-view+json": {
       "model_id": "135da542a97a4cbe8f580bee4f33d271",
       "version_major": 2,
       "version_minor": 0
      },
      "text/plain": [
       "VBox(children=(Label(value='0.313 MB of 0.313 MB uploaded\\r'), FloatProgress(value=1.0, max=1.0)))"
      ]
     },
     "metadata": {},
     "output_type": "display_data"
    },
    {
     "data": {
      "text/html": [
       "<style>\n",
       "    table.wandb td:nth-child(1) { padding: 0 10px; text-align: left ; width: auto;} td:nth-child(2) {text-align: left ; width: 100%}\n",
       "    .wandb-row { display: flex; flex-direction: row; flex-wrap: wrap; justify-content: flex-start; width: 100% }\n",
       "    .wandb-col { display: flex; flex-direction: column; flex-basis: 100%; flex: 1; padding: 10px; }\n",
       "    </style>\n",
       "<div class=\"wandb-row\"><div class=\"wandb-col\"><h3>Run history:</h3><br/><table class=\"wandb\"><tr><td>epoch</td><td>▁▁▂▂▂▃▃▄▄▄▅▅▅▆▆▇▇▇██</td></tr><tr><td>iter_accuracy</td><td>▁▂▄▅▄▇▇▇█▇██████████████████████████████</td></tr><tr><td>tr_accuracy</td><td>▁▄▆▇▇███████████████</td></tr><tr><td>val_accuracy</td><td>▁▃▆▃▇▇▇▇██▇▇███▇▇▇▇▇</td></tr></table><br/></div><div class=\"wandb-col\"><h3>Run summary:</h3><br/><table class=\"wandb\"><tr><td>epoch</td><td>19</td></tr><tr><td>iter_accuracy</td><td>100.0</td></tr><tr><td>tr_accuracy</td><td>100.0</td></tr><tr><td>val_accuracy</td><td>63.25758</td></tr></table><br/></div></div>"
      ],
      "text/plain": [
       "<IPython.core.display.HTML object>"
      ]
     },
     "metadata": {},
     "output_type": "display_data"
    },
    {
     "data": {
      "text/html": [
       " View run <strong style=\"color:#cdcd00\">blooming-sweep-13</strong> at: <a href='https://wandb.ai/bhkim003-seoul-national-university/reservoir/runs/eqvg1pcw' target=\"_blank\">https://wandb.ai/bhkim003-seoul-national-university/reservoir/runs/eqvg1pcw</a><br/> View project at: <a href='https://wandb.ai/bhkim003-seoul-national-university/reservoir' target=\"_blank\">https://wandb.ai/bhkim003-seoul-national-university/reservoir</a><br/>Synced 7 W&B file(s), 0 media file(s), 0 artifact file(s) and 1 other file(s)"
      ],
      "text/plain": [
       "<IPython.core.display.HTML object>"
      ]
     },
     "metadata": {},
     "output_type": "display_data"
    },
    {
     "data": {
      "text/html": [
       "Find logs at: <code>./wandb/run-20240726_194259-eqvg1pcw/logs</code>"
      ],
      "text/plain": [
       "<IPython.core.display.HTML object>"
      ]
     },
     "metadata": {},
     "output_type": "display_data"
    },
    {
     "data": {
      "text/html": [
       "The new W&B backend becomes opt-out in version 0.18.0; try it out with `wandb.require(\"core\")`! See https://wandb.me/wandb-core for more information."
      ],
      "text/plain": [
       "<IPython.core.display.HTML object>"
      ]
     },
     "metadata": {},
     "output_type": "display_data"
    },
    {
     "name": "stderr",
     "output_type": "stream",
     "text": [
      "\u001b[34m\u001b[1mwandb\u001b[0m: Sweep Agent: Waiting for job.\n",
      "\u001b[34m\u001b[1mwandb\u001b[0m: Job received.\n",
      "\u001b[34m\u001b[1mwandb\u001b[0m: Agent Starting Run: nt4425nb with config:\n",
      "\u001b[34m\u001b[1mwandb\u001b[0m: \tEPOCH: 20\n",
      "\u001b[34m\u001b[1mwandb\u001b[0m: \tFC_RESERVOIR: True\n",
      "\u001b[34m\u001b[1mwandb\u001b[0m: \tIMAGE_SIZE: 128\n",
      "\u001b[34m\u001b[1mwandb\u001b[0m: \tbatch_size: 256\n",
      "\u001b[34m\u001b[1mwandb\u001b[0m: \tdata_path: /data2\n",
      "\u001b[34m\u001b[1mwandb\u001b[0m: \tdecay: 0.2659872044408107\n",
      "\u001b[34m\u001b[1mwandb\u001b[0m: \tdvs_clipping: True\n",
      "\u001b[34m\u001b[1mwandb\u001b[0m: \tdvs_duration: 100000\n",
      "\u001b[34m\u001b[1mwandb\u001b[0m: \tlearning_rate: 0.0014329652343655496\n",
      "\u001b[34m\u001b[1mwandb\u001b[0m: \tno_reservoir: True\n",
      "\u001b[34m\u001b[1mwandb\u001b[0m: \tpre_spike_weight: 4.962917615311547\n",
      "\u001b[34m\u001b[1mwandb\u001b[0m: \trate_coding: True\n",
      "\u001b[34m\u001b[1mwandb\u001b[0m: \ttime_step: 8\n",
      "\u001b[34m\u001b[1mwandb\u001b[0m: \twhich_data: DVS_GESTURE\n",
      "Failed to detect the name of this notebook, you can set it manually with the WANDB_NOTEBOOK_NAME environment variable to enable code saving.\n"
     ]
    },
    {
     "data": {
      "text/html": [
       "Tracking run with wandb version 0.17.5"
      ],
      "text/plain": [
       "<IPython.core.display.HTML object>"
      ]
     },
     "metadata": {},
     "output_type": "display_data"
    },
    {
     "data": {
      "text/html": [
       "Run data is saved locally in <code>/nfs/home/bhkim003/github_folder/ByeonghyeonKim/my_snn/wandb/run-20240726_195800-nt4425nb</code>"
      ],
      "text/plain": [
       "<IPython.core.display.HTML object>"
      ]
     },
     "metadata": {},
     "output_type": "display_data"
    },
    {
     "data": {
      "text/html": [
       "Syncing run <strong><a href='https://wandb.ai/bhkim003-seoul-national-university/reservoir/runs/nt4425nb' target=\"_blank\">feasible-sweep-14</a></strong> to <a href='https://wandb.ai/bhkim003-seoul-national-university/reservoir' target=\"_blank\">Weights & Biases</a> (<a href='https://wandb.me/run' target=\"_blank\">docs</a>)<br/>Sweep page: <a href='https://wandb.ai/bhkim003-seoul-national-university/reservoir/sweeps/sxt07a51' target=\"_blank\">https://wandb.ai/bhkim003-seoul-national-university/reservoir/sweeps/sxt07a51</a>"
      ],
      "text/plain": [
       "<IPython.core.display.HTML object>"
      ]
     },
     "metadata": {},
     "output_type": "display_data"
    },
    {
     "data": {
      "text/html": [
       " View project at <a href='https://wandb.ai/bhkim003-seoul-national-university/reservoir' target=\"_blank\">https://wandb.ai/bhkim003-seoul-national-university/reservoir</a>"
      ],
      "text/plain": [
       "<IPython.core.display.HTML object>"
      ]
     },
     "metadata": {},
     "output_type": "display_data"
    },
    {
     "data": {
      "text/html": [
       " View sweep at <a href='https://wandb.ai/bhkim003-seoul-national-university/reservoir/sweeps/sxt07a51' target=\"_blank\">https://wandb.ai/bhkim003-seoul-national-university/reservoir/sweeps/sxt07a51</a>"
      ],
      "text/plain": [
       "<IPython.core.display.HTML object>"
      ]
     },
     "metadata": {},
     "output_type": "display_data"
    },
    {
     "data": {
      "text/html": [
       " View run at <a href='https://wandb.ai/bhkim003-seoul-national-university/reservoir/runs/nt4425nb' target=\"_blank\">https://wandb.ai/bhkim003-seoul-national-university/reservoir/runs/nt4425nb</a>"
      ],
      "text/plain": [
       "<IPython.core.display.HTML object>"
      ]
     },
     "metadata": {},
     "output_type": "display_data"
    },
    {
     "name": "stderr",
     "output_type": "stream",
     "text": [
      "\u001b[34m\u001b[1mwandb\u001b[0m: \u001b[33mWARNING\u001b[0m Config item 'data_path' was locked by 'sweep' (ignored update).\n",
      "\u001b[34m\u001b[1mwandb\u001b[0m: \u001b[33mWARNING\u001b[0m Config item 'which_data' was locked by 'sweep' (ignored update).\n",
      "\u001b[34m\u001b[1mwandb\u001b[0m: \u001b[33mWARNING\u001b[0m Config item 'learning_rate' was locked by 'sweep' (ignored update).\n",
      "\u001b[34m\u001b[1mwandb\u001b[0m: \u001b[33mWARNING\u001b[0m Config item 'IMAGE_SIZE' was locked by 'sweep' (ignored update).\n",
      "\u001b[34m\u001b[1mwandb\u001b[0m: \u001b[33mWARNING\u001b[0m Config item 'EPOCH' was locked by 'sweep' (ignored update).\n",
      "\u001b[34m\u001b[1mwandb\u001b[0m: \u001b[33mWARNING\u001b[0m Config item 'rate_coding' was locked by 'sweep' (ignored update).\n",
      "\u001b[34m\u001b[1mwandb\u001b[0m: \u001b[33mWARNING\u001b[0m Config item 'pre_spike_weight' was locked by 'sweep' (ignored update).\n",
      "\u001b[34m\u001b[1mwandb\u001b[0m: \u001b[33mWARNING\u001b[0m Config item 'dvs_duration' was locked by 'sweep' (ignored update).\n",
      "\u001b[34m\u001b[1mwandb\u001b[0m: \u001b[33mWARNING\u001b[0m Config item 'dvs_clipping' was locked by 'sweep' (ignored update).\n",
      "\u001b[34m\u001b[1mwandb\u001b[0m: \u001b[33mWARNING\u001b[0m Config item 'no_reservoir' was locked by 'sweep' (ignored update).\n",
      "\u001b[34m\u001b[1mwandb\u001b[0m: \u001b[33mWARNING\u001b[0m Config item 'FC_RESERVOIR' was locked by 'sweep' (ignored update).\n"
     ]
    },
    {
     "name": "stdout",
     "output_type": "stream",
     "text": [
      "The directory [/data2/gesture/duration_100000] already exists.\n",
      "The directory [/data2/gesture/duration_100000] already exists.\n",
      "RESERVOIR_NET(\n",
      "  (classifier): Linear(in_features=32768, out_features=10, bias=True)\n",
      ")\n",
      "Epoch 1\n",
      "Train Accuracy: 14.19%\n",
      "Test loss: 2.154, Val Accuracy: 25.00%\n",
      "Epoch 2\n",
      "Train Accuracy: 30.33%\n",
      "Test loss: 2.017, Val Accuracy: 40.91%\n",
      "Epoch 3\n",
      "Train Accuracy: 49.91%\n",
      "Test loss: 1.500, Val Accuracy: 49.24%\n",
      "Epoch 4\n",
      "Train Accuracy: 60.30%\n",
      "Test loss: 1.493, Val Accuracy: 51.14%\n",
      "Epoch 5\n",
      "Train Accuracy: 59.74%\n",
      "Test loss: 1.708, Val Accuracy: 48.48%\n",
      "Epoch 6\n",
      "Train Accuracy: 61.41%\n",
      "Test loss: 1.742, Val Accuracy: 49.24%\n",
      "Epoch 7\n",
      "Train Accuracy: 63.82%\n",
      "Test loss: 1.536, Val Accuracy: 53.41%\n",
      "Epoch 8\n",
      "Train Accuracy: 68.09%\n",
      "Test loss: 1.470, Val Accuracy: 56.44%\n",
      "Epoch 9\n",
      "Train Accuracy: 69.29%\n",
      "Test loss: 1.550, Val Accuracy: 59.85%\n",
      "Epoch 10\n",
      "Train Accuracy: 71.52%\n",
      "Test loss: 1.532, Val Accuracy: 54.55%\n",
      "Epoch 11\n",
      "Train Accuracy: 72.36%\n",
      "Test loss: 1.498, Val Accuracy: 53.03%\n",
      "Epoch 12\n",
      "Train Accuracy: 74.77%\n",
      "Test loss: 1.460, Val Accuracy: 59.09%\n",
      "Epoch 13\n",
      "Train Accuracy: 76.35%\n",
      "Test loss: 1.428, Val Accuracy: 60.23%\n",
      "Epoch 14\n",
      "Train Accuracy: 75.05%\n",
      "Test loss: 1.429, Val Accuracy: 59.47%\n",
      "Epoch 15\n",
      "Train Accuracy: 75.32%\n",
      "Test loss: 1.425, Val Accuracy: 60.98%\n",
      "Epoch 16\n",
      "Train Accuracy: 79.13%\n",
      "Test loss: 1.414, Val Accuracy: 61.74%\n",
      "Epoch 17\n",
      "Train Accuracy: 79.68%\n",
      "Test loss: 1.422, Val Accuracy: 63.64%\n",
      "Epoch 18\n",
      "Train Accuracy: 80.61%\n",
      "Test loss: 1.407, Val Accuracy: 63.64%\n",
      "Epoch 19\n",
      "Train Accuracy: 80.98%\n",
      "Test loss: 1.340, Val Accuracy: 64.39%\n",
      "Epoch 20\n",
      "Train Accuracy: 81.17%\n",
      "Test loss: 1.340, Val Accuracy: 61.36%\n"
     ]
    },
    {
     "data": {
      "application/vnd.jupyter.widget-view+json": {
       "model_id": "d3987103b5f14bcf85bc35fac3b17b96",
       "version_major": 2,
       "version_minor": 0
      },
      "text/plain": [
       "VBox(children=(Label(value='0.313 MB of 0.313 MB uploaded\\r'), FloatProgress(value=1.0, max=1.0)))"
      ]
     },
     "metadata": {},
     "output_type": "display_data"
    },
    {
     "data": {
      "text/html": [
       "<style>\n",
       "    table.wandb td:nth-child(1) { padding: 0 10px; text-align: left ; width: auto;} td:nth-child(2) {text-align: left ; width: 100%}\n",
       "    .wandb-row { display: flex; flex-direction: row; flex-wrap: wrap; justify-content: flex-start; width: 100% }\n",
       "    .wandb-col { display: flex; flex-direction: column; flex-basis: 100%; flex: 1; padding: 10px; }\n",
       "    </style>\n",
       "<div class=\"wandb-row\"><div class=\"wandb-col\"><h3>Run history:</h3><br/><table class=\"wandb\"><tr><td>epoch</td><td>▁▁▂▂▂▃▃▄▄▄▅▅▅▆▆▇▇▇██</td></tr><tr><td>iter_accuracy</td><td>▁▃▃▄▄▅▅▆▅▆▅▆▆▆▆▆▆▆▆▆▇▇▇▇▇▇▇▇▇▇▇▇▇▇▇▇▇▇▇█</td></tr><tr><td>tr_accuracy</td><td>▁▃▅▆▆▆▆▇▇▇▇▇▇▇▇█████</td></tr><tr><td>val_accuracy</td><td>▁▄▅▆▅▅▆▇▇▆▆▇▇▇▇████▇</td></tr></table><br/></div><div class=\"wandb-col\"><h3>Run summary:</h3><br/><table class=\"wandb\"><tr><td>epoch</td><td>19</td></tr><tr><td>iter_accuracy</td><td>88.88889</td></tr><tr><td>tr_accuracy</td><td>81.16883</td></tr><tr><td>val_accuracy</td><td>61.36364</td></tr></table><br/></div></div>"
      ],
      "text/plain": [
       "<IPython.core.display.HTML object>"
      ]
     },
     "metadata": {},
     "output_type": "display_data"
    },
    {
     "data": {
      "text/html": [
       " View run <strong style=\"color:#cdcd00\">feasible-sweep-14</strong> at: <a href='https://wandb.ai/bhkim003-seoul-national-university/reservoir/runs/nt4425nb' target=\"_blank\">https://wandb.ai/bhkim003-seoul-national-university/reservoir/runs/nt4425nb</a><br/> View project at: <a href='https://wandb.ai/bhkim003-seoul-national-university/reservoir' target=\"_blank\">https://wandb.ai/bhkim003-seoul-national-university/reservoir</a><br/>Synced 7 W&B file(s), 0 media file(s), 0 artifact file(s) and 1 other file(s)"
      ],
      "text/plain": [
       "<IPython.core.display.HTML object>"
      ]
     },
     "metadata": {},
     "output_type": "display_data"
    },
    {
     "data": {
      "text/html": [
       "Find logs at: <code>./wandb/run-20240726_195800-nt4425nb/logs</code>"
      ],
      "text/plain": [
       "<IPython.core.display.HTML object>"
      ]
     },
     "metadata": {},
     "output_type": "display_data"
    },
    {
     "data": {
      "text/html": [
       "The new W&B backend becomes opt-out in version 0.18.0; try it out with `wandb.require(\"core\")`! See https://wandb.me/wandb-core for more information."
      ],
      "text/plain": [
       "<IPython.core.display.HTML object>"
      ]
     },
     "metadata": {},
     "output_type": "display_data"
    },
    {
     "name": "stderr",
     "output_type": "stream",
     "text": [
      "\u001b[34m\u001b[1mwandb\u001b[0m: Agent Starting Run: i4h32b3c with config:\n",
      "\u001b[34m\u001b[1mwandb\u001b[0m: \tEPOCH: 20\n",
      "\u001b[34m\u001b[1mwandb\u001b[0m: \tFC_RESERVOIR: True\n",
      "\u001b[34m\u001b[1mwandb\u001b[0m: \tIMAGE_SIZE: 128\n",
      "\u001b[34m\u001b[1mwandb\u001b[0m: \tbatch_size: 256\n",
      "\u001b[34m\u001b[1mwandb\u001b[0m: \tdata_path: /data2\n",
      "\u001b[34m\u001b[1mwandb\u001b[0m: \tdecay: 0.6574236302650368\n",
      "\u001b[34m\u001b[1mwandb\u001b[0m: \tdvs_clipping: True\n",
      "\u001b[34m\u001b[1mwandb\u001b[0m: \tdvs_duration: 100000\n",
      "\u001b[34m\u001b[1mwandb\u001b[0m: \tlearning_rate: 0.07030066242512521\n",
      "\u001b[34m\u001b[1mwandb\u001b[0m: \tno_reservoir: False\n",
      "\u001b[34m\u001b[1mwandb\u001b[0m: \tpre_spike_weight: 7.174177844601864\n",
      "\u001b[34m\u001b[1mwandb\u001b[0m: \trate_coding: True\n",
      "\u001b[34m\u001b[1mwandb\u001b[0m: \ttime_step: 8\n",
      "\u001b[34m\u001b[1mwandb\u001b[0m: \twhich_data: DVS_GESTURE\n",
      "Failed to detect the name of this notebook, you can set it manually with the WANDB_NOTEBOOK_NAME environment variable to enable code saving.\n"
     ]
    },
    {
     "data": {
      "text/html": [
       "Tracking run with wandb version 0.17.5"
      ],
      "text/plain": [
       "<IPython.core.display.HTML object>"
      ]
     },
     "metadata": {},
     "output_type": "display_data"
    },
    {
     "data": {
      "text/html": [
       "Run data is saved locally in <code>/nfs/home/bhkim003/github_folder/ByeonghyeonKim/my_snn/wandb/run-20240726_202205-i4h32b3c</code>"
      ],
      "text/plain": [
       "<IPython.core.display.HTML object>"
      ]
     },
     "metadata": {},
     "output_type": "display_data"
    },
    {
     "data": {
      "text/html": [
       "Syncing run <strong><a href='https://wandb.ai/bhkim003-seoul-national-university/reservoir/runs/i4h32b3c' target=\"_blank\">deft-sweep-15</a></strong> to <a href='https://wandb.ai/bhkim003-seoul-national-university/reservoir' target=\"_blank\">Weights & Biases</a> (<a href='https://wandb.me/run' target=\"_blank\">docs</a>)<br/>Sweep page: <a href='https://wandb.ai/bhkim003-seoul-national-university/reservoir/sweeps/sxt07a51' target=\"_blank\">https://wandb.ai/bhkim003-seoul-national-university/reservoir/sweeps/sxt07a51</a>"
      ],
      "text/plain": [
       "<IPython.core.display.HTML object>"
      ]
     },
     "metadata": {},
     "output_type": "display_data"
    },
    {
     "data": {
      "text/html": [
       " View project at <a href='https://wandb.ai/bhkim003-seoul-national-university/reservoir' target=\"_blank\">https://wandb.ai/bhkim003-seoul-national-university/reservoir</a>"
      ],
      "text/plain": [
       "<IPython.core.display.HTML object>"
      ]
     },
     "metadata": {},
     "output_type": "display_data"
    },
    {
     "data": {
      "text/html": [
       " View sweep at <a href='https://wandb.ai/bhkim003-seoul-national-university/reservoir/sweeps/sxt07a51' target=\"_blank\">https://wandb.ai/bhkim003-seoul-national-university/reservoir/sweeps/sxt07a51</a>"
      ],
      "text/plain": [
       "<IPython.core.display.HTML object>"
      ]
     },
     "metadata": {},
     "output_type": "display_data"
    },
    {
     "data": {
      "text/html": [
       " View run at <a href='https://wandb.ai/bhkim003-seoul-national-university/reservoir/runs/i4h32b3c' target=\"_blank\">https://wandb.ai/bhkim003-seoul-national-university/reservoir/runs/i4h32b3c</a>"
      ],
      "text/plain": [
       "<IPython.core.display.HTML object>"
      ]
     },
     "metadata": {},
     "output_type": "display_data"
    },
    {
     "name": "stderr",
     "output_type": "stream",
     "text": [
      "\u001b[34m\u001b[1mwandb\u001b[0m: \u001b[33mWARNING\u001b[0m Config item 'data_path' was locked by 'sweep' (ignored update).\n",
      "\u001b[34m\u001b[1mwandb\u001b[0m: \u001b[33mWARNING\u001b[0m Config item 'which_data' was locked by 'sweep' (ignored update).\n",
      "\u001b[34m\u001b[1mwandb\u001b[0m: \u001b[33mWARNING\u001b[0m Config item 'learning_rate' was locked by 'sweep' (ignored update).\n",
      "\u001b[34m\u001b[1mwandb\u001b[0m: \u001b[33mWARNING\u001b[0m Config item 'IMAGE_SIZE' was locked by 'sweep' (ignored update).\n",
      "\u001b[34m\u001b[1mwandb\u001b[0m: \u001b[33mWARNING\u001b[0m Config item 'EPOCH' was locked by 'sweep' (ignored update).\n",
      "\u001b[34m\u001b[1mwandb\u001b[0m: \u001b[33mWARNING\u001b[0m Config item 'rate_coding' was locked by 'sweep' (ignored update).\n",
      "\u001b[34m\u001b[1mwandb\u001b[0m: \u001b[33mWARNING\u001b[0m Config item 'pre_spike_weight' was locked by 'sweep' (ignored update).\n",
      "\u001b[34m\u001b[1mwandb\u001b[0m: \u001b[33mWARNING\u001b[0m Config item 'dvs_duration' was locked by 'sweep' (ignored update).\n",
      "\u001b[34m\u001b[1mwandb\u001b[0m: \u001b[33mWARNING\u001b[0m Config item 'dvs_clipping' was locked by 'sweep' (ignored update).\n",
      "\u001b[34m\u001b[1mwandb\u001b[0m: \u001b[33mWARNING\u001b[0m Config item 'no_reservoir' was locked by 'sweep' (ignored update).\n",
      "\u001b[34m\u001b[1mwandb\u001b[0m: \u001b[33mWARNING\u001b[0m Config item 'FC_RESERVOIR' was locked by 'sweep' (ignored update).\n"
     ]
    },
    {
     "name": "stdout",
     "output_type": "stream",
     "text": [
      "The directory [/data2/gesture/duration_100000] already exists.\n",
      "The directory [/data2/gesture/duration_100000] already exists.\n",
      "RESERVOIR_NET(\n",
      "  (reservoir): RESERVOIR(\n",
      "    (reservoir): Linear(in_features=32768, out_features=32768, bias=True)\n",
      "  )\n",
      "  (classifier): Linear(in_features=32768, out_features=10, bias=True)\n",
      ")\n",
      "Epoch 1\n",
      "Train Accuracy: 23.47%\n",
      "Test loss: 15.185, Val Accuracy: 28.79%\n",
      "Epoch 2\n",
      "Train Accuracy: 41.09%\n",
      "Test loss: 14.063, Val Accuracy: 32.20%\n",
      "Epoch 3\n",
      "Train Accuracy: 45.08%\n",
      "Test loss: 13.652, Val Accuracy: 46.21%\n",
      "Epoch 4\n",
      "Train Accuracy: 56.96%\n",
      "Test loss: 8.270, Val Accuracy: 51.14%\n",
      "Epoch 5\n",
      "Train Accuracy: 69.76%\n",
      "Test loss: 5.948, Val Accuracy: 58.71%\n",
      "Epoch 6\n",
      "Train Accuracy: 75.70%\n",
      "Test loss: 7.994, Val Accuracy: 63.26%\n",
      "Epoch 7\n",
      "Train Accuracy: 80.43%\n",
      "Test loss: 4.744, Val Accuracy: 62.50%\n",
      "Epoch 8\n",
      "Train Accuracy: 84.32%\n",
      "Test loss: 3.094, Val Accuracy: 59.85%\n",
      "Epoch 9\n",
      "Train Accuracy: 84.69%\n",
      "Test loss: 2.990, Val Accuracy: 62.50%\n",
      "Epoch 10\n",
      "Train Accuracy: 85.44%\n",
      "Test loss: 3.461, Val Accuracy: 60.23%\n",
      "Epoch 11\n",
      "Train Accuracy: 91.28%\n",
      "Test loss: 3.995, Val Accuracy: 59.47%\n",
      "Epoch 12\n",
      "Train Accuracy: 94.99%\n",
      "Test loss: 4.077, Val Accuracy: 58.71%\n",
      "Epoch 13\n",
      "Train Accuracy: 96.29%\n",
      "Test loss: 2.929, Val Accuracy: 64.02%\n",
      "Epoch 14\n",
      "Train Accuracy: 96.38%\n",
      "Test loss: 3.329, Val Accuracy: 59.09%\n",
      "Epoch 15\n",
      "Train Accuracy: 97.31%\n",
      "Test loss: 4.600, Val Accuracy: 64.02%\n",
      "Epoch 16\n",
      "Train Accuracy: 98.33%\n",
      "Test loss: 2.617, Val Accuracy: 68.94%\n",
      "Epoch 17\n",
      "Train Accuracy: 99.63%\n",
      "Test loss: 2.321, Val Accuracy: 71.97%\n",
      "Epoch 18\n",
      "Train Accuracy: 99.17%\n",
      "Test loss: 3.611, Val Accuracy: 69.32%\n",
      "Epoch 19\n",
      "Train Accuracy: 99.81%\n",
      "Test loss: 4.251, Val Accuracy: 64.77%\n",
      "Epoch 20\n",
      "Train Accuracy: 98.79%\n",
      "Test loss: 3.615, Val Accuracy: 65.15%\n"
     ]
    },
    {
     "data": {
      "application/vnd.jupyter.widget-view+json": {
       "model_id": "43900059be1e4af0b1b8d8bbf86bffd9",
       "version_major": 2,
       "version_minor": 0
      },
      "text/plain": [
       "VBox(children=(Label(value='21.431 MB of 21.431 MB uploaded (21.054 MB deduped)\\r'), FloatProgress(value=1.0, …"
      ]
     },
     "metadata": {},
     "output_type": "display_data"
    },
    {
     "data": {
      "text/html": [
       "W&B sync reduced upload amount by 98.0%"
      ],
      "text/plain": [
       "<IPython.core.display.HTML object>"
      ]
     },
     "metadata": {},
     "output_type": "display_data"
    },
    {
     "data": {
      "text/html": [
       "<style>\n",
       "    table.wandb td:nth-child(1) { padding: 0 10px; text-align: left ; width: auto;} td:nth-child(2) {text-align: left ; width: 100%}\n",
       "    .wandb-row { display: flex; flex-direction: row; flex-wrap: wrap; justify-content: flex-start; width: 100% }\n",
       "    .wandb-col { display: flex; flex-direction: column; flex-basis: 100%; flex: 1; padding: 10px; }\n",
       "    </style>\n",
       "<div class=\"wandb-row\"><div class=\"wandb-col\"><h3>Run history:</h3><br/><table class=\"wandb\"><tr><td>epoch</td><td>▁▁▂▂▂▃▃▄▄▄▅▅▅▆▆▇▇▇██</td></tr><tr><td>iter_accuracy</td><td>▁▂▂▄▃▄▄▄▆▆▆▆▇▆▇▇▇▇▆▇▇█▇█▇███████████████</td></tr><tr><td>tr_accuracy</td><td>▁▃▃▄▅▆▆▇▇▇▇█████████</td></tr><tr><td>val_accuracy</td><td>▁▂▄▅▆▇▆▆▆▆▆▆▇▆▇███▇▇</td></tr></table><br/></div><div class=\"wandb-col\"><h3>Run summary:</h3><br/><table class=\"wandb\"><tr><td>epoch</td><td>19</td></tr><tr><td>iter_accuracy</td><td>100.0</td></tr><tr><td>tr_accuracy</td><td>98.79406</td></tr><tr><td>val_accuracy</td><td>65.15152</td></tr></table><br/></div></div>"
      ],
      "text/plain": [
       "<IPython.core.display.HTML object>"
      ]
     },
     "metadata": {},
     "output_type": "display_data"
    },
    {
     "data": {
      "text/html": [
       " View run <strong style=\"color:#cdcd00\">deft-sweep-15</strong> at: <a href='https://wandb.ai/bhkim003-seoul-national-university/reservoir/runs/i4h32b3c' target=\"_blank\">https://wandb.ai/bhkim003-seoul-national-university/reservoir/runs/i4h32b3c</a><br/> View project at: <a href='https://wandb.ai/bhkim003-seoul-national-university/reservoir' target=\"_blank\">https://wandb.ai/bhkim003-seoul-national-university/reservoir</a><br/>Synced 7 W&B file(s), 0 media file(s), 36 artifact file(s) and 1 other file(s)"
      ],
      "text/plain": [
       "<IPython.core.display.HTML object>"
      ]
     },
     "metadata": {},
     "output_type": "display_data"
    },
    {
     "data": {
      "text/html": [
       "Find logs at: <code>./wandb/run-20240726_202205-i4h32b3c/logs</code>"
      ],
      "text/plain": [
       "<IPython.core.display.HTML object>"
      ]
     },
     "metadata": {},
     "output_type": "display_data"
    },
    {
     "data": {
      "text/html": [
       "The new W&B backend becomes opt-out in version 0.18.0; try it out with `wandb.require(\"core\")`! See https://wandb.me/wandb-core for more information."
      ],
      "text/plain": [
       "<IPython.core.display.HTML object>"
      ]
     },
     "metadata": {},
     "output_type": "display_data"
    },
    {
     "name": "stderr",
     "output_type": "stream",
     "text": [
      "\u001b[34m\u001b[1mwandb\u001b[0m: Agent Starting Run: owg2h9z2 with config:\n",
      "\u001b[34m\u001b[1mwandb\u001b[0m: \tEPOCH: 20\n",
      "\u001b[34m\u001b[1mwandb\u001b[0m: \tFC_RESERVOIR: True\n",
      "\u001b[34m\u001b[1mwandb\u001b[0m: \tIMAGE_SIZE: 128\n",
      "\u001b[34m\u001b[1mwandb\u001b[0m: \tbatch_size: 16\n",
      "\u001b[34m\u001b[1mwandb\u001b[0m: \tdata_path: /data2\n",
      "\u001b[34m\u001b[1mwandb\u001b[0m: \tdecay: 0.5005877424466041\n",
      "\u001b[34m\u001b[1mwandb\u001b[0m: \tdvs_clipping: True\n",
      "\u001b[34m\u001b[1mwandb\u001b[0m: \tdvs_duration: 100000\n",
      "\u001b[34m\u001b[1mwandb\u001b[0m: \tlearning_rate: 0.06888534143574691\n",
      "\u001b[34m\u001b[1mwandb\u001b[0m: \tno_reservoir: True\n",
      "\u001b[34m\u001b[1mwandb\u001b[0m: \tpre_spike_weight: 3.8228207920651047\n",
      "\u001b[34m\u001b[1mwandb\u001b[0m: \trate_coding: True\n",
      "\u001b[34m\u001b[1mwandb\u001b[0m: \ttime_step: 8\n",
      "\u001b[34m\u001b[1mwandb\u001b[0m: \twhich_data: DVS_GESTURE\n",
      "Failed to detect the name of this notebook, you can set it manually with the WANDB_NOTEBOOK_NAME environment variable to enable code saving.\n"
     ]
    },
    {
     "data": {
      "text/html": [
       "Tracking run with wandb version 0.17.5"
      ],
      "text/plain": [
       "<IPython.core.display.HTML object>"
      ]
     },
     "metadata": {},
     "output_type": "display_data"
    },
    {
     "data": {
      "text/html": [
       "Run data is saved locally in <code>/nfs/home/bhkim003/github_folder/ByeonghyeonKim/my_snn/wandb/run-20240726_210110-owg2h9z2</code>"
      ],
      "text/plain": [
       "<IPython.core.display.HTML object>"
      ]
     },
     "metadata": {},
     "output_type": "display_data"
    },
    {
     "data": {
      "text/html": [
       "Syncing run <strong><a href='https://wandb.ai/bhkim003-seoul-national-university/reservoir/runs/owg2h9z2' target=\"_blank\">classic-sweep-16</a></strong> to <a href='https://wandb.ai/bhkim003-seoul-national-university/reservoir' target=\"_blank\">Weights & Biases</a> (<a href='https://wandb.me/run' target=\"_blank\">docs</a>)<br/>Sweep page: <a href='https://wandb.ai/bhkim003-seoul-national-university/reservoir/sweeps/sxt07a51' target=\"_blank\">https://wandb.ai/bhkim003-seoul-national-university/reservoir/sweeps/sxt07a51</a>"
      ],
      "text/plain": [
       "<IPython.core.display.HTML object>"
      ]
     },
     "metadata": {},
     "output_type": "display_data"
    },
    {
     "data": {
      "text/html": [
       " View project at <a href='https://wandb.ai/bhkim003-seoul-national-university/reservoir' target=\"_blank\">https://wandb.ai/bhkim003-seoul-national-university/reservoir</a>"
      ],
      "text/plain": [
       "<IPython.core.display.HTML object>"
      ]
     },
     "metadata": {},
     "output_type": "display_data"
    },
    {
     "data": {
      "text/html": [
       " View sweep at <a href='https://wandb.ai/bhkim003-seoul-national-university/reservoir/sweeps/sxt07a51' target=\"_blank\">https://wandb.ai/bhkim003-seoul-national-university/reservoir/sweeps/sxt07a51</a>"
      ],
      "text/plain": [
       "<IPython.core.display.HTML object>"
      ]
     },
     "metadata": {},
     "output_type": "display_data"
    },
    {
     "data": {
      "text/html": [
       " View run at <a href='https://wandb.ai/bhkim003-seoul-national-university/reservoir/runs/owg2h9z2' target=\"_blank\">https://wandb.ai/bhkim003-seoul-national-university/reservoir/runs/owg2h9z2</a>"
      ],
      "text/plain": [
       "<IPython.core.display.HTML object>"
      ]
     },
     "metadata": {},
     "output_type": "display_data"
    },
    {
     "name": "stderr",
     "output_type": "stream",
     "text": [
      "\u001b[34m\u001b[1mwandb\u001b[0m: \u001b[33mWARNING\u001b[0m Config item 'data_path' was locked by 'sweep' (ignored update).\n",
      "\u001b[34m\u001b[1mwandb\u001b[0m: \u001b[33mWARNING\u001b[0m Config item 'which_data' was locked by 'sweep' (ignored update).\n",
      "\u001b[34m\u001b[1mwandb\u001b[0m: \u001b[33mWARNING\u001b[0m Config item 'learning_rate' was locked by 'sweep' (ignored update).\n",
      "\u001b[34m\u001b[1mwandb\u001b[0m: \u001b[33mWARNING\u001b[0m Config item 'IMAGE_SIZE' was locked by 'sweep' (ignored update).\n",
      "\u001b[34m\u001b[1mwandb\u001b[0m: \u001b[33mWARNING\u001b[0m Config item 'EPOCH' was locked by 'sweep' (ignored update).\n",
      "\u001b[34m\u001b[1mwandb\u001b[0m: \u001b[33mWARNING\u001b[0m Config item 'rate_coding' was locked by 'sweep' (ignored update).\n",
      "\u001b[34m\u001b[1mwandb\u001b[0m: \u001b[33mWARNING\u001b[0m Config item 'pre_spike_weight' was locked by 'sweep' (ignored update).\n",
      "\u001b[34m\u001b[1mwandb\u001b[0m: \u001b[33mWARNING\u001b[0m Config item 'dvs_duration' was locked by 'sweep' (ignored update).\n",
      "\u001b[34m\u001b[1mwandb\u001b[0m: \u001b[33mWARNING\u001b[0m Config item 'dvs_clipping' was locked by 'sweep' (ignored update).\n",
      "\u001b[34m\u001b[1mwandb\u001b[0m: \u001b[33mWARNING\u001b[0m Config item 'no_reservoir' was locked by 'sweep' (ignored update).\n",
      "\u001b[34m\u001b[1mwandb\u001b[0m: \u001b[33mWARNING\u001b[0m Config item 'FC_RESERVOIR' was locked by 'sweep' (ignored update).\n"
     ]
    },
    {
     "name": "stdout",
     "output_type": "stream",
     "text": [
      "The directory [/data2/gesture/duration_100000] already exists.\n",
      "The directory [/data2/gesture/duration_100000] already exists.\n",
      "RESERVOIR_NET(\n",
      "  (classifier): Linear(in_features=32768, out_features=10, bias=True)\n",
      ")\n",
      "Epoch 1\n",
      "Train Accuracy: 49.81%\n",
      "Test loss: 6.313, Val Accuracy: 59.47%\n",
      "Epoch 2\n",
      "Train Accuracy: 72.08%\n",
      "Test loss: 16.736, Val Accuracy: 45.08%\n",
      "Epoch 3\n",
      "Train Accuracy: 79.50%\n",
      "Test loss: 5.818, Val Accuracy: 67.05%\n",
      "Epoch 4\n",
      "Train Accuracy: 90.26%\n",
      "Test loss: 5.591, Val Accuracy: 70.08%\n",
      "Epoch 5\n",
      "Train Accuracy: 89.42%\n",
      "Test loss: 6.699, Val Accuracy: 66.67%\n",
      "Epoch 6\n",
      "Train Accuracy: 96.01%\n",
      "Test loss: 8.014, Val Accuracy: 63.26%\n",
      "Epoch 7\n",
      "Train Accuracy: 94.81%\n",
      "Test loss: 6.220, Val Accuracy: 64.02%\n",
      "Epoch 8\n",
      "Train Accuracy: 96.94%\n",
      "Test loss: 5.376, Val Accuracy: 68.18%\n",
      "Epoch 9\n",
      "Train Accuracy: 98.70%\n",
      "Test loss: 6.996, Val Accuracy: 63.64%\n",
      "Epoch 10\n",
      "Train Accuracy: 99.35%\n",
      "Test loss: 5.766, Val Accuracy: 66.67%\n",
      "Epoch 11\n",
      "Train Accuracy: 99.91%\n",
      "Test loss: 5.852, Val Accuracy: 64.77%\n",
      "Epoch 12\n",
      "Train Accuracy: 100.00%\n",
      "Test loss: 5.352, Val Accuracy: 64.77%\n",
      "Epoch 13\n",
      "Train Accuracy: 100.00%\n",
      "Test loss: 5.293, Val Accuracy: 64.39%\n",
      "Epoch 14\n",
      "Train Accuracy: 100.00%\n",
      "Test loss: 5.291, Val Accuracy: 64.39%\n",
      "Epoch 15\n",
      "Train Accuracy: 100.00%\n",
      "Test loss: 5.288, Val Accuracy: 64.39%\n",
      "Epoch 16\n",
      "Train Accuracy: 100.00%\n",
      "Test loss: 5.286, Val Accuracy: 64.77%\n",
      "Epoch 17\n",
      "Train Accuracy: 100.00%\n",
      "Test loss: 5.284, Val Accuracy: 64.77%\n",
      "Epoch 18\n",
      "Train Accuracy: 100.00%\n",
      "Test loss: 5.284, Val Accuracy: 64.77%\n",
      "Epoch 19\n",
      "Train Accuracy: 100.00%\n",
      "Test loss: 5.283, Val Accuracy: 64.77%\n",
      "Epoch 20\n",
      "Train Accuracy: 100.00%\n",
      "Test loss: 5.283, Val Accuracy: 64.77%\n"
     ]
    },
    {
     "data": {
      "application/vnd.jupyter.widget-view+json": {
       "model_id": "12375ae6c1464604af584de46e09b33c",
       "version_major": 2,
       "version_minor": 0
      },
      "text/plain": [
       "VBox(children=(Label(value='0.313 MB of 0.313 MB uploaded\\r'), FloatProgress(value=1.0, max=1.0)))"
      ]
     },
     "metadata": {},
     "output_type": "display_data"
    },
    {
     "data": {
      "text/html": [
       "<style>\n",
       "    table.wandb td:nth-child(1) { padding: 0 10px; text-align: left ; width: auto;} td:nth-child(2) {text-align: left ; width: 100%}\n",
       "    .wandb-row { display: flex; flex-direction: row; flex-wrap: wrap; justify-content: flex-start; width: 100% }\n",
       "    .wandb-col { display: flex; flex-direction: column; flex-basis: 100%; flex: 1; padding: 10px; }\n",
       "    </style>\n",
       "<div class=\"wandb-row\"><div class=\"wandb-col\"><h3>Run history:</h3><br/><table class=\"wandb\"><tr><td>epoch</td><td>▁▁▂▂▂▃▃▄▄▄▅▅▅▆▆▇▇▇██</td></tr><tr><td>iter_accuracy</td><td>▂▁▆▆▃▅█▆▅▇██▇▇▆▇████████████████████████</td></tr><tr><td>tr_accuracy</td><td>▁▄▅▇▇▇▇█████████████</td></tr><tr><td>val_accuracy</td><td>▅▁▇█▇▆▆▇▆▇▇▇▆▆▆▇▇▇▇▇</td></tr></table><br/></div><div class=\"wandb-col\"><h3>Run summary:</h3><br/><table class=\"wandb\"><tr><td>epoch</td><td>19</td></tr><tr><td>iter_accuracy</td><td>100.0</td></tr><tr><td>tr_accuracy</td><td>100.0</td></tr><tr><td>val_accuracy</td><td>64.77273</td></tr></table><br/></div></div>"
      ],
      "text/plain": [
       "<IPython.core.display.HTML object>"
      ]
     },
     "metadata": {},
     "output_type": "display_data"
    },
    {
     "data": {
      "text/html": [
       " View run <strong style=\"color:#cdcd00\">classic-sweep-16</strong> at: <a href='https://wandb.ai/bhkim003-seoul-national-university/reservoir/runs/owg2h9z2' target=\"_blank\">https://wandb.ai/bhkim003-seoul-national-university/reservoir/runs/owg2h9z2</a><br/> View project at: <a href='https://wandb.ai/bhkim003-seoul-national-university/reservoir' target=\"_blank\">https://wandb.ai/bhkim003-seoul-national-university/reservoir</a><br/>Synced 7 W&B file(s), 0 media file(s), 0 artifact file(s) and 1 other file(s)"
      ],
      "text/plain": [
       "<IPython.core.display.HTML object>"
      ]
     },
     "metadata": {},
     "output_type": "display_data"
    },
    {
     "data": {
      "text/html": [
       "Find logs at: <code>./wandb/run-20240726_210110-owg2h9z2/logs</code>"
      ],
      "text/plain": [
       "<IPython.core.display.HTML object>"
      ]
     },
     "metadata": {},
     "output_type": "display_data"
    },
    {
     "data": {
      "text/html": [
       "The new W&B backend becomes opt-out in version 0.18.0; try it out with `wandb.require(\"core\")`! See https://wandb.me/wandb-core for more information."
      ],
      "text/plain": [
       "<IPython.core.display.HTML object>"
      ]
     },
     "metadata": {},
     "output_type": "display_data"
    },
    {
     "name": "stderr",
     "output_type": "stream",
     "text": [
      "\u001b[34m\u001b[1mwandb\u001b[0m: Agent Starting Run: 725hi74f with config:\n",
      "\u001b[34m\u001b[1mwandb\u001b[0m: \tEPOCH: 20\n",
      "\u001b[34m\u001b[1mwandb\u001b[0m: \tFC_RESERVOIR: True\n",
      "\u001b[34m\u001b[1mwandb\u001b[0m: \tIMAGE_SIZE: 48\n",
      "\u001b[34m\u001b[1mwandb\u001b[0m: \tbatch_size: 128\n",
      "\u001b[34m\u001b[1mwandb\u001b[0m: \tdata_path: /data2\n",
      "\u001b[34m\u001b[1mwandb\u001b[0m: \tdecay: 0.7233050226049862\n",
      "\u001b[34m\u001b[1mwandb\u001b[0m: \tdvs_clipping: True\n",
      "\u001b[34m\u001b[1mwandb\u001b[0m: \tdvs_duration: 100000\n",
      "\u001b[34m\u001b[1mwandb\u001b[0m: \tlearning_rate: 0.09887958479950248\n",
      "\u001b[34m\u001b[1mwandb\u001b[0m: \tno_reservoir: False\n",
      "\u001b[34m\u001b[1mwandb\u001b[0m: \tpre_spike_weight: 1.29661191469215\n",
      "\u001b[34m\u001b[1mwandb\u001b[0m: \trate_coding: False\n",
      "\u001b[34m\u001b[1mwandb\u001b[0m: \ttime_step: 4\n",
      "\u001b[34m\u001b[1mwandb\u001b[0m: \twhich_data: DVS_GESTURE\n",
      "Failed to detect the name of this notebook, you can set it manually with the WANDB_NOTEBOOK_NAME environment variable to enable code saving.\n"
     ]
    },
    {
     "data": {
      "text/html": [
       "Tracking run with wandb version 0.17.5"
      ],
      "text/plain": [
       "<IPython.core.display.HTML object>"
      ]
     },
     "metadata": {},
     "output_type": "display_data"
    },
    {
     "data": {
      "text/html": [
       "Run data is saved locally in <code>/nfs/home/bhkim003/github_folder/ByeonghyeonKim/my_snn/wandb/run-20240726_212135-725hi74f</code>"
      ],
      "text/plain": [
       "<IPython.core.display.HTML object>"
      ]
     },
     "metadata": {},
     "output_type": "display_data"
    },
    {
     "data": {
      "text/html": [
       "Syncing run <strong><a href='https://wandb.ai/bhkim003-seoul-national-university/reservoir/runs/725hi74f' target=\"_blank\">prime-sweep-17</a></strong> to <a href='https://wandb.ai/bhkim003-seoul-national-university/reservoir' target=\"_blank\">Weights & Biases</a> (<a href='https://wandb.me/run' target=\"_blank\">docs</a>)<br/>Sweep page: <a href='https://wandb.ai/bhkim003-seoul-national-university/reservoir/sweeps/sxt07a51' target=\"_blank\">https://wandb.ai/bhkim003-seoul-national-university/reservoir/sweeps/sxt07a51</a>"
      ],
      "text/plain": [
       "<IPython.core.display.HTML object>"
      ]
     },
     "metadata": {},
     "output_type": "display_data"
    },
    {
     "data": {
      "text/html": [
       " View project at <a href='https://wandb.ai/bhkim003-seoul-national-university/reservoir' target=\"_blank\">https://wandb.ai/bhkim003-seoul-national-university/reservoir</a>"
      ],
      "text/plain": [
       "<IPython.core.display.HTML object>"
      ]
     },
     "metadata": {},
     "output_type": "display_data"
    },
    {
     "data": {
      "text/html": [
       " View sweep at <a href='https://wandb.ai/bhkim003-seoul-national-university/reservoir/sweeps/sxt07a51' target=\"_blank\">https://wandb.ai/bhkim003-seoul-national-university/reservoir/sweeps/sxt07a51</a>"
      ],
      "text/plain": [
       "<IPython.core.display.HTML object>"
      ]
     },
     "metadata": {},
     "output_type": "display_data"
    },
    {
     "data": {
      "text/html": [
       " View run at <a href='https://wandb.ai/bhkim003-seoul-national-university/reservoir/runs/725hi74f' target=\"_blank\">https://wandb.ai/bhkim003-seoul-national-university/reservoir/runs/725hi74f</a>"
      ],
      "text/plain": [
       "<IPython.core.display.HTML object>"
      ]
     },
     "metadata": {},
     "output_type": "display_data"
    },
    {
     "name": "stderr",
     "output_type": "stream",
     "text": [
      "\u001b[34m\u001b[1mwandb\u001b[0m: \u001b[33mWARNING\u001b[0m Config item 'data_path' was locked by 'sweep' (ignored update).\n",
      "\u001b[34m\u001b[1mwandb\u001b[0m: \u001b[33mWARNING\u001b[0m Config item 'which_data' was locked by 'sweep' (ignored update).\n",
      "\u001b[34m\u001b[1mwandb\u001b[0m: \u001b[33mWARNING\u001b[0m Config item 'learning_rate' was locked by 'sweep' (ignored update).\n",
      "\u001b[34m\u001b[1mwandb\u001b[0m: \u001b[33mWARNING\u001b[0m Config item 'IMAGE_SIZE' was locked by 'sweep' (ignored update).\n",
      "\u001b[34m\u001b[1mwandb\u001b[0m: \u001b[33mWARNING\u001b[0m Config item 'EPOCH' was locked by 'sweep' (ignored update).\n",
      "\u001b[34m\u001b[1mwandb\u001b[0m: \u001b[33mWARNING\u001b[0m Config item 'rate_coding' was locked by 'sweep' (ignored update).\n",
      "\u001b[34m\u001b[1mwandb\u001b[0m: \u001b[33mWARNING\u001b[0m Config item 'pre_spike_weight' was locked by 'sweep' (ignored update).\n",
      "\u001b[34m\u001b[1mwandb\u001b[0m: \u001b[33mWARNING\u001b[0m Config item 'dvs_duration' was locked by 'sweep' (ignored update).\n",
      "\u001b[34m\u001b[1mwandb\u001b[0m: \u001b[33mWARNING\u001b[0m Config item 'dvs_clipping' was locked by 'sweep' (ignored update).\n",
      "\u001b[34m\u001b[1mwandb\u001b[0m: \u001b[33mWARNING\u001b[0m Config item 'no_reservoir' was locked by 'sweep' (ignored update).\n",
      "\u001b[34m\u001b[1mwandb\u001b[0m: \u001b[33mWARNING\u001b[0m Config item 'FC_RESERVOIR' was locked by 'sweep' (ignored update).\n"
     ]
    },
    {
     "name": "stdout",
     "output_type": "stream",
     "text": [
      "The directory [/data2/gesture/duration_100000] already exists.\n",
      "The directory [/data2/gesture/duration_100000] already exists.\n",
      "RESERVOIR_NET(\n",
      "  (reservoir): RESERVOIR(\n",
      "    (reservoir): Linear(in_features=4608, out_features=4608, bias=True)\n",
      "  )\n",
      "  (classifier): Linear(in_features=4608, out_features=10, bias=True)\n",
      ")\n",
      "Epoch 1\n",
      "Train Accuracy: 34.51%\n",
      "Test loss: 1.880, Val Accuracy: 43.94%\n",
      "Epoch 2\n",
      "Train Accuracy: 63.17%\n",
      "Test loss: 2.054, Val Accuracy: 48.48%\n",
      "Epoch 3\n",
      "Train Accuracy: 77.92%\n",
      "Test loss: 1.566, Val Accuracy: 50.76%\n",
      "Epoch 4\n",
      "Train Accuracy: 85.62%\n",
      "Test loss: 2.214, Val Accuracy: 44.70%\n",
      "Epoch 5\n",
      "Train Accuracy: 89.80%\n",
      "Test loss: 1.188, Val Accuracy: 65.15%\n",
      "Epoch 6\n",
      "Train Accuracy: 93.88%\n",
      "Test loss: 1.503, Val Accuracy: 59.47%\n",
      "Epoch 7\n",
      "Train Accuracy: 97.68%\n",
      "Test loss: 1.604, Val Accuracy: 55.30%\n",
      "Epoch 8\n",
      "Train Accuracy: 99.35%\n",
      "Test loss: 1.364, Val Accuracy: 61.36%\n",
      "Epoch 9\n",
      "Train Accuracy: 99.81%\n",
      "Test loss: 1.292, Val Accuracy: 64.02%\n",
      "Epoch 10\n",
      "Train Accuracy: 100.00%\n",
      "Test loss: 1.569, Val Accuracy: 59.85%\n",
      "Epoch 11\n",
      "Train Accuracy: 100.00%\n",
      "Test loss: 1.355, Val Accuracy: 62.88%\n",
      "Epoch 12\n",
      "Train Accuracy: 100.00%\n",
      "Test loss: 1.434, Val Accuracy: 60.23%\n",
      "Epoch 13\n",
      "Train Accuracy: 100.00%\n",
      "Test loss: 1.357, Val Accuracy: 63.64%\n",
      "Epoch 14\n",
      "Train Accuracy: 100.00%\n",
      "Test loss: 1.405, Val Accuracy: 61.74%\n",
      "Epoch 15\n",
      "Train Accuracy: 100.00%\n",
      "Test loss: 1.456, Val Accuracy: 62.12%\n",
      "Epoch 16\n",
      "Train Accuracy: 100.00%\n",
      "Test loss: 1.407, Val Accuracy: 61.74%\n",
      "Epoch 17\n",
      "Train Accuracy: 100.00%\n",
      "Test loss: 1.304, Val Accuracy: 63.26%\n",
      "Epoch 18\n",
      "Train Accuracy: 100.00%\n",
      "Test loss: 1.506, Val Accuracy: 61.36%\n",
      "Epoch 19\n",
      "Train Accuracy: 100.00%\n",
      "Test loss: 1.316, Val Accuracy: 62.88%\n",
      "Epoch 20\n",
      "Train Accuracy: 100.00%\n",
      "Test loss: 1.509, Val Accuracy: 61.74%\n"
     ]
    },
    {
     "data": {
      "application/vnd.jupyter.widget-view+json": {
       "model_id": "90ee7f4446a44608ba457444111086af",
       "version_major": 2,
       "version_minor": 0
      },
      "text/plain": [
       "VBox(children=(Label(value='0.006 MB of 0.006 MB uploaded\\r'), FloatProgress(value=1.0, max=1.0)))"
      ]
     },
     "metadata": {},
     "output_type": "display_data"
    },
    {
     "data": {
      "text/html": [
       "<style>\n",
       "    table.wandb td:nth-child(1) { padding: 0 10px; text-align: left ; width: auto;} td:nth-child(2) {text-align: left ; width: 100%}\n",
       "    .wandb-row { display: flex; flex-direction: row; flex-wrap: wrap; justify-content: flex-start; width: 100% }\n",
       "    .wandb-col { display: flex; flex-direction: column; flex-basis: 100%; flex: 1; padding: 10px; }\n",
       "    </style>\n",
       "<div class=\"wandb-row\"><div class=\"wandb-col\"><h3>Run history:</h3><br/><table class=\"wandb\"><tr><td>epoch</td><td>▁▁▂▂▂▃▃▄▄▄▅▅▅▆▆▇▇▇██</td></tr><tr><td>iter_accuracy</td><td>▁▂▄▄▆▆▆▇▇▇▇█████████████████████████████</td></tr><tr><td>tr_accuracy</td><td>▁▄▆▆▇▇██████████████</td></tr><tr><td>val_accuracy</td><td>▁▃▃▁█▆▅▇█▆▇▆█▇▇▇▇▇▇▇</td></tr></table><br/></div><div class=\"wandb-col\"><h3>Run summary:</h3><br/><table class=\"wandb\"><tr><td>epoch</td><td>19</td></tr><tr><td>iter_accuracy</td><td>100.0</td></tr><tr><td>tr_accuracy</td><td>100.0</td></tr><tr><td>val_accuracy</td><td>61.74242</td></tr></table><br/></div></div>"
      ],
      "text/plain": [
       "<IPython.core.display.HTML object>"
      ]
     },
     "metadata": {},
     "output_type": "display_data"
    },
    {
     "data": {
      "text/html": [
       " View run <strong style=\"color:#cdcd00\">prime-sweep-17</strong> at: <a href='https://wandb.ai/bhkim003-seoul-national-university/reservoir/runs/725hi74f' target=\"_blank\">https://wandb.ai/bhkim003-seoul-national-university/reservoir/runs/725hi74f</a><br/> View project at: <a href='https://wandb.ai/bhkim003-seoul-national-university/reservoir' target=\"_blank\">https://wandb.ai/bhkim003-seoul-national-university/reservoir</a><br/>Synced 7 W&B file(s), 0 media file(s), 0 artifact file(s) and 1 other file(s)"
      ],
      "text/plain": [
       "<IPython.core.display.HTML object>"
      ]
     },
     "metadata": {},
     "output_type": "display_data"
    },
    {
     "data": {
      "text/html": [
       "Find logs at: <code>./wandb/run-20240726_212135-725hi74f/logs</code>"
      ],
      "text/plain": [
       "<IPython.core.display.HTML object>"
      ]
     },
     "metadata": {},
     "output_type": "display_data"
    },
    {
     "data": {
      "text/html": [
       "The new W&B backend becomes opt-out in version 0.18.0; try it out with `wandb.require(\"core\")`! See https://wandb.me/wandb-core for more information."
      ],
      "text/plain": [
       "<IPython.core.display.HTML object>"
      ]
     },
     "metadata": {},
     "output_type": "display_data"
    },
    {
     "name": "stderr",
     "output_type": "stream",
     "text": [
      "\u001b[34m\u001b[1mwandb\u001b[0m: Agent Starting Run: tl108w9o with config:\n",
      "\u001b[34m\u001b[1mwandb\u001b[0m: \tEPOCH: 20\n",
      "\u001b[34m\u001b[1mwandb\u001b[0m: \tFC_RESERVOIR: True\n",
      "\u001b[34m\u001b[1mwandb\u001b[0m: \tIMAGE_SIZE: 48\n",
      "\u001b[34m\u001b[1mwandb\u001b[0m: \tbatch_size: 128\n",
      "\u001b[34m\u001b[1mwandb\u001b[0m: \tdata_path: /data2\n",
      "\u001b[34m\u001b[1mwandb\u001b[0m: \tdecay: 0.6328640665731314\n",
      "\u001b[34m\u001b[1mwandb\u001b[0m: \tdvs_clipping: True\n",
      "\u001b[34m\u001b[1mwandb\u001b[0m: \tdvs_duration: 100000\n",
      "\u001b[34m\u001b[1mwandb\u001b[0m: \tlearning_rate: 0.02774431520083744\n",
      "\u001b[34m\u001b[1mwandb\u001b[0m: \tno_reservoir: True\n",
      "\u001b[34m\u001b[1mwandb\u001b[0m: \tpre_spike_weight: 3.750236394656167\n",
      "\u001b[34m\u001b[1mwandb\u001b[0m: \trate_coding: False\n",
      "\u001b[34m\u001b[1mwandb\u001b[0m: \ttime_step: 6\n",
      "\u001b[34m\u001b[1mwandb\u001b[0m: \twhich_data: DVS_GESTURE\n",
      "Failed to detect the name of this notebook, you can set it manually with the WANDB_NOTEBOOK_NAME environment variable to enable code saving.\n"
     ]
    },
    {
     "data": {
      "text/html": [
       "Tracking run with wandb version 0.17.5"
      ],
      "text/plain": [
       "<IPython.core.display.HTML object>"
      ]
     },
     "metadata": {},
     "output_type": "display_data"
    },
    {
     "data": {
      "text/html": [
       "Run data is saved locally in <code>/nfs/home/bhkim003/github_folder/ByeonghyeonKim/my_snn/wandb/run-20240726_213649-tl108w9o</code>"
      ],
      "text/plain": [
       "<IPython.core.display.HTML object>"
      ]
     },
     "metadata": {},
     "output_type": "display_data"
    },
    {
     "data": {
      "text/html": [
       "Syncing run <strong><a href='https://wandb.ai/bhkim003-seoul-national-university/reservoir/runs/tl108w9o' target=\"_blank\">whole-sweep-18</a></strong> to <a href='https://wandb.ai/bhkim003-seoul-national-university/reservoir' target=\"_blank\">Weights & Biases</a> (<a href='https://wandb.me/run' target=\"_blank\">docs</a>)<br/>Sweep page: <a href='https://wandb.ai/bhkim003-seoul-national-university/reservoir/sweeps/sxt07a51' target=\"_blank\">https://wandb.ai/bhkim003-seoul-national-university/reservoir/sweeps/sxt07a51</a>"
      ],
      "text/plain": [
       "<IPython.core.display.HTML object>"
      ]
     },
     "metadata": {},
     "output_type": "display_data"
    },
    {
     "data": {
      "text/html": [
       " View project at <a href='https://wandb.ai/bhkim003-seoul-national-university/reservoir' target=\"_blank\">https://wandb.ai/bhkim003-seoul-national-university/reservoir</a>"
      ],
      "text/plain": [
       "<IPython.core.display.HTML object>"
      ]
     },
     "metadata": {},
     "output_type": "display_data"
    },
    {
     "data": {
      "text/html": [
       " View sweep at <a href='https://wandb.ai/bhkim003-seoul-national-university/reservoir/sweeps/sxt07a51' target=\"_blank\">https://wandb.ai/bhkim003-seoul-national-university/reservoir/sweeps/sxt07a51</a>"
      ],
      "text/plain": [
       "<IPython.core.display.HTML object>"
      ]
     },
     "metadata": {},
     "output_type": "display_data"
    },
    {
     "data": {
      "text/html": [
       " View run at <a href='https://wandb.ai/bhkim003-seoul-national-university/reservoir/runs/tl108w9o' target=\"_blank\">https://wandb.ai/bhkim003-seoul-national-university/reservoir/runs/tl108w9o</a>"
      ],
      "text/plain": [
       "<IPython.core.display.HTML object>"
      ]
     },
     "metadata": {},
     "output_type": "display_data"
    },
    {
     "name": "stderr",
     "output_type": "stream",
     "text": [
      "\u001b[34m\u001b[1mwandb\u001b[0m: \u001b[33mWARNING\u001b[0m Config item 'data_path' was locked by 'sweep' (ignored update).\n",
      "\u001b[34m\u001b[1mwandb\u001b[0m: \u001b[33mWARNING\u001b[0m Config item 'which_data' was locked by 'sweep' (ignored update).\n",
      "\u001b[34m\u001b[1mwandb\u001b[0m: \u001b[33mWARNING\u001b[0m Config item 'learning_rate' was locked by 'sweep' (ignored update).\n",
      "\u001b[34m\u001b[1mwandb\u001b[0m: \u001b[33mWARNING\u001b[0m Config item 'IMAGE_SIZE' was locked by 'sweep' (ignored update).\n",
      "\u001b[34m\u001b[1mwandb\u001b[0m: \u001b[33mWARNING\u001b[0m Config item 'EPOCH' was locked by 'sweep' (ignored update).\n",
      "\u001b[34m\u001b[1mwandb\u001b[0m: \u001b[33mWARNING\u001b[0m Config item 'rate_coding' was locked by 'sweep' (ignored update).\n",
      "\u001b[34m\u001b[1mwandb\u001b[0m: \u001b[33mWARNING\u001b[0m Config item 'pre_spike_weight' was locked by 'sweep' (ignored update).\n",
      "\u001b[34m\u001b[1mwandb\u001b[0m: \u001b[33mWARNING\u001b[0m Config item 'dvs_duration' was locked by 'sweep' (ignored update).\n",
      "\u001b[34m\u001b[1mwandb\u001b[0m: \u001b[33mWARNING\u001b[0m Config item 'dvs_clipping' was locked by 'sweep' (ignored update).\n",
      "\u001b[34m\u001b[1mwandb\u001b[0m: \u001b[33mWARNING\u001b[0m Config item 'no_reservoir' was locked by 'sweep' (ignored update).\n",
      "\u001b[34m\u001b[1mwandb\u001b[0m: \u001b[33mWARNING\u001b[0m Config item 'FC_RESERVOIR' was locked by 'sweep' (ignored update).\n"
     ]
    },
    {
     "name": "stdout",
     "output_type": "stream",
     "text": [
      "The directory [/data2/gesture/duration_100000] already exists.\n",
      "The directory [/data2/gesture/duration_100000] already exists.\n",
      "RESERVOIR_NET(\n",
      "  (classifier): Linear(in_features=4608, out_features=10, bias=True)\n",
      ")\n",
      "Epoch 1\n",
      "Train Accuracy: 32.10%\n",
      "Test loss: 1.693, Val Accuracy: 41.67%\n",
      "Epoch 2\n",
      "Train Accuracy: 56.49%\n",
      "Test loss: 1.411, Val Accuracy: 48.11%\n",
      "Epoch 3\n",
      "Train Accuracy: 67.72%\n",
      "Test loss: 1.416, Val Accuracy: 49.62%\n",
      "Epoch 4\n",
      "Train Accuracy: 71.06%\n",
      "Test loss: 1.549, Val Accuracy: 57.58%\n",
      "Epoch 5\n",
      "Train Accuracy: 74.03%\n",
      "Test loss: 1.366, Val Accuracy: 59.09%\n",
      "Epoch 6\n",
      "Train Accuracy: 82.00%\n",
      "Test loss: 1.380, Val Accuracy: 62.12%\n",
      "Epoch 7\n",
      "Train Accuracy: 87.11%\n",
      "Test loss: 1.340, Val Accuracy: 66.29%\n",
      "Epoch 8\n",
      "Train Accuracy: 91.47%\n",
      "Test loss: 1.193, Val Accuracy: 68.56%\n",
      "Epoch 9\n",
      "Train Accuracy: 93.41%\n",
      "Test loss: 1.220, Val Accuracy: 69.70%\n",
      "Epoch 10\n",
      "Train Accuracy: 95.83%\n",
      "Test loss: 1.505, Val Accuracy: 65.91%\n",
      "Epoch 11\n",
      "Train Accuracy: 97.31%\n",
      "Test loss: 1.299, Val Accuracy: 67.80%\n",
      "Epoch 12\n",
      "Train Accuracy: 97.77%\n",
      "Test loss: 1.362, Val Accuracy: 65.53%\n",
      "Epoch 13\n",
      "Train Accuracy: 97.96%\n",
      "Test loss: 1.277, Val Accuracy: 67.80%\n",
      "Epoch 14\n",
      "Train Accuracy: 98.14%\n",
      "Test loss: 1.126, Val Accuracy: 65.15%\n",
      "Epoch 15\n",
      "Train Accuracy: 98.61%\n",
      "Test loss: 1.413, Val Accuracy: 68.18%\n",
      "Epoch 16\n",
      "Train Accuracy: 99.26%\n",
      "Test loss: 1.229, Val Accuracy: 68.94%\n",
      "Epoch 17\n",
      "Train Accuracy: 99.63%\n",
      "Test loss: 1.270, Val Accuracy: 68.94%\n",
      "Epoch 18\n",
      "Train Accuracy: 99.54%\n",
      "Test loss: 1.288, Val Accuracy: 67.05%\n",
      "Epoch 19\n",
      "Train Accuracy: 99.54%\n",
      "Test loss: 1.341, Val Accuracy: 68.56%\n",
      "Epoch 20\n",
      "Train Accuracy: 99.91%\n",
      "Test loss: 1.259, Val Accuracy: 68.18%\n"
     ]
    },
    {
     "data": {
      "application/vnd.jupyter.widget-view+json": {
       "model_id": "595d35680f464143a812ec66b36f5d3a",
       "version_major": 2,
       "version_minor": 0
      },
      "text/plain": [
       "VBox(children=(Label(value='0.313 MB of 0.313 MB uploaded\\r'), FloatProgress(value=1.0, max=1.0)))"
      ]
     },
     "metadata": {},
     "output_type": "display_data"
    },
    {
     "data": {
      "text/html": [
       "<style>\n",
       "    table.wandb td:nth-child(1) { padding: 0 10px; text-align: left ; width: auto;} td:nth-child(2) {text-align: left ; width: 100%}\n",
       "    .wandb-row { display: flex; flex-direction: row; flex-wrap: wrap; justify-content: flex-start; width: 100% }\n",
       "    .wandb-col { display: flex; flex-direction: column; flex-basis: 100%; flex: 1; padding: 10px; }\n",
       "    </style>\n",
       "<div class=\"wandb-row\"><div class=\"wandb-col\"><h3>Run history:</h3><br/><table class=\"wandb\"><tr><td>epoch</td><td>▁▁▂▂▂▃▃▄▄▄▅▅▅▆▆▇▇▇██</td></tr><tr><td>iter_accuracy</td><td>▁▂▄▄▅▄▅▅▆▆▆▇▆▇▇▇▇███████████████████████</td></tr><tr><td>tr_accuracy</td><td>▁▄▅▅▅▆▇▇▇███████████</td></tr><tr><td>val_accuracy</td><td>▁▃▃▅▅▆▇██▇█▇█▇███▇██</td></tr></table><br/></div><div class=\"wandb-col\"><h3>Run summary:</h3><br/><table class=\"wandb\"><tr><td>epoch</td><td>19</td></tr><tr><td>iter_accuracy</td><td>100.0</td></tr><tr><td>tr_accuracy</td><td>99.90724</td></tr><tr><td>val_accuracy</td><td>68.18182</td></tr></table><br/></div></div>"
      ],
      "text/plain": [
       "<IPython.core.display.HTML object>"
      ]
     },
     "metadata": {},
     "output_type": "display_data"
    },
    {
     "data": {
      "text/html": [
       " View run <strong style=\"color:#cdcd00\">whole-sweep-18</strong> at: <a href='https://wandb.ai/bhkim003-seoul-national-university/reservoir/runs/tl108w9o' target=\"_blank\">https://wandb.ai/bhkim003-seoul-national-university/reservoir/runs/tl108w9o</a><br/> View project at: <a href='https://wandb.ai/bhkim003-seoul-national-university/reservoir' target=\"_blank\">https://wandb.ai/bhkim003-seoul-national-university/reservoir</a><br/>Synced 7 W&B file(s), 0 media file(s), 0 artifact file(s) and 1 other file(s)"
      ],
      "text/plain": [
       "<IPython.core.display.HTML object>"
      ]
     },
     "metadata": {},
     "output_type": "display_data"
    },
    {
     "data": {
      "text/html": [
       "Find logs at: <code>./wandb/run-20240726_213649-tl108w9o/logs</code>"
      ],
      "text/plain": [
       "<IPython.core.display.HTML object>"
      ]
     },
     "metadata": {},
     "output_type": "display_data"
    },
    {
     "data": {
      "text/html": [
       "The new W&B backend becomes opt-out in version 0.18.0; try it out with `wandb.require(\"core\")`! See https://wandb.me/wandb-core for more information."
      ],
      "text/plain": [
       "<IPython.core.display.HTML object>"
      ]
     },
     "metadata": {},
     "output_type": "display_data"
    },
    {
     "name": "stderr",
     "output_type": "stream",
     "text": [
      "\u001b[34m\u001b[1mwandb\u001b[0m: Agent Starting Run: psv1ohzz with config:\n",
      "\u001b[34m\u001b[1mwandb\u001b[0m: \tEPOCH: 20\n",
      "\u001b[34m\u001b[1mwandb\u001b[0m: \tFC_RESERVOIR: True\n",
      "\u001b[34m\u001b[1mwandb\u001b[0m: \tIMAGE_SIZE: 48\n",
      "\u001b[34m\u001b[1mwandb\u001b[0m: \tbatch_size: 128\n",
      "\u001b[34m\u001b[1mwandb\u001b[0m: \tdata_path: /data2\n",
      "\u001b[34m\u001b[1mwandb\u001b[0m: \tdecay: 0.6865489563619572\n",
      "\u001b[34m\u001b[1mwandb\u001b[0m: \tdvs_clipping: True\n",
      "\u001b[34m\u001b[1mwandb\u001b[0m: \tdvs_duration: 100000\n",
      "\u001b[34m\u001b[1mwandb\u001b[0m: \tlearning_rate: 0.01788143597300052\n",
      "\u001b[34m\u001b[1mwandb\u001b[0m: \tno_reservoir: False\n",
      "\u001b[34m\u001b[1mwandb\u001b[0m: \tpre_spike_weight: 4.705602089366033\n",
      "\u001b[34m\u001b[1mwandb\u001b[0m: \trate_coding: True\n",
      "\u001b[34m\u001b[1mwandb\u001b[0m: \ttime_step: 5\n",
      "\u001b[34m\u001b[1mwandb\u001b[0m: \twhich_data: DVS_GESTURE\n",
      "Failed to detect the name of this notebook, you can set it manually with the WANDB_NOTEBOOK_NAME environment variable to enable code saving.\n"
     ]
    },
    {
     "data": {
      "text/html": [
       "Tracking run with wandb version 0.17.5"
      ],
      "text/plain": [
       "<IPython.core.display.HTML object>"
      ]
     },
     "metadata": {},
     "output_type": "display_data"
    },
    {
     "data": {
      "text/html": [
       "Run data is saved locally in <code>/nfs/home/bhkim003/github_folder/ByeonghyeonKim/my_snn/wandb/run-20240726_215151-psv1ohzz</code>"
      ],
      "text/plain": [
       "<IPython.core.display.HTML object>"
      ]
     },
     "metadata": {},
     "output_type": "display_data"
    },
    {
     "data": {
      "text/html": [
       "Syncing run <strong><a href='https://wandb.ai/bhkim003-seoul-national-university/reservoir/runs/psv1ohzz' target=\"_blank\">sleek-sweep-19</a></strong> to <a href='https://wandb.ai/bhkim003-seoul-national-university/reservoir' target=\"_blank\">Weights & Biases</a> (<a href='https://wandb.me/run' target=\"_blank\">docs</a>)<br/>Sweep page: <a href='https://wandb.ai/bhkim003-seoul-national-university/reservoir/sweeps/sxt07a51' target=\"_blank\">https://wandb.ai/bhkim003-seoul-national-university/reservoir/sweeps/sxt07a51</a>"
      ],
      "text/plain": [
       "<IPython.core.display.HTML object>"
      ]
     },
     "metadata": {},
     "output_type": "display_data"
    },
    {
     "data": {
      "text/html": [
       " View project at <a href='https://wandb.ai/bhkim003-seoul-national-university/reservoir' target=\"_blank\">https://wandb.ai/bhkim003-seoul-national-university/reservoir</a>"
      ],
      "text/plain": [
       "<IPython.core.display.HTML object>"
      ]
     },
     "metadata": {},
     "output_type": "display_data"
    },
    {
     "data": {
      "text/html": [
       " View sweep at <a href='https://wandb.ai/bhkim003-seoul-national-university/reservoir/sweeps/sxt07a51' target=\"_blank\">https://wandb.ai/bhkim003-seoul-national-university/reservoir/sweeps/sxt07a51</a>"
      ],
      "text/plain": [
       "<IPython.core.display.HTML object>"
      ]
     },
     "metadata": {},
     "output_type": "display_data"
    },
    {
     "data": {
      "text/html": [
       " View run at <a href='https://wandb.ai/bhkim003-seoul-national-university/reservoir/runs/psv1ohzz' target=\"_blank\">https://wandb.ai/bhkim003-seoul-national-university/reservoir/runs/psv1ohzz</a>"
      ],
      "text/plain": [
       "<IPython.core.display.HTML object>"
      ]
     },
     "metadata": {},
     "output_type": "display_data"
    },
    {
     "name": "stderr",
     "output_type": "stream",
     "text": [
      "\u001b[34m\u001b[1mwandb\u001b[0m: \u001b[33mWARNING\u001b[0m Config item 'data_path' was locked by 'sweep' (ignored update).\n",
      "\u001b[34m\u001b[1mwandb\u001b[0m: \u001b[33mWARNING\u001b[0m Config item 'which_data' was locked by 'sweep' (ignored update).\n",
      "\u001b[34m\u001b[1mwandb\u001b[0m: \u001b[33mWARNING\u001b[0m Config item 'learning_rate' was locked by 'sweep' (ignored update).\n",
      "\u001b[34m\u001b[1mwandb\u001b[0m: \u001b[33mWARNING\u001b[0m Config item 'IMAGE_SIZE' was locked by 'sweep' (ignored update).\n",
      "\u001b[34m\u001b[1mwandb\u001b[0m: \u001b[33mWARNING\u001b[0m Config item 'EPOCH' was locked by 'sweep' (ignored update).\n",
      "\u001b[34m\u001b[1mwandb\u001b[0m: \u001b[33mWARNING\u001b[0m Config item 'rate_coding' was locked by 'sweep' (ignored update).\n",
      "\u001b[34m\u001b[1mwandb\u001b[0m: \u001b[33mWARNING\u001b[0m Config item 'pre_spike_weight' was locked by 'sweep' (ignored update).\n",
      "\u001b[34m\u001b[1mwandb\u001b[0m: \u001b[33mWARNING\u001b[0m Config item 'dvs_duration' was locked by 'sweep' (ignored update).\n",
      "\u001b[34m\u001b[1mwandb\u001b[0m: \u001b[33mWARNING\u001b[0m Config item 'dvs_clipping' was locked by 'sweep' (ignored update).\n",
      "\u001b[34m\u001b[1mwandb\u001b[0m: \u001b[33mWARNING\u001b[0m Config item 'no_reservoir' was locked by 'sweep' (ignored update).\n",
      "\u001b[34m\u001b[1mwandb\u001b[0m: \u001b[33mWARNING\u001b[0m Config item 'FC_RESERVOIR' was locked by 'sweep' (ignored update).\n"
     ]
    },
    {
     "name": "stdout",
     "output_type": "stream",
     "text": [
      "The directory [/data2/gesture/duration_100000] already exists.\n",
      "The directory [/data2/gesture/duration_100000] already exists.\n",
      "RESERVOIR_NET(\n",
      "  (reservoir): RESERVOIR(\n",
      "    (reservoir): Linear(in_features=4608, out_features=4608, bias=True)\n",
      "  )\n",
      "  (classifier): Linear(in_features=4608, out_features=10, bias=True)\n",
      ")\n",
      "Epoch 1\n",
      "Train Accuracy: 29.68%\n",
      "Test loss: 1.587, Val Accuracy: 42.42%\n",
      "Epoch 2\n",
      "Train Accuracy: 53.06%\n",
      "Test loss: 1.436, Val Accuracy: 46.59%\n",
      "Epoch 3\n",
      "Train Accuracy: 62.89%\n",
      "Test loss: 1.276, Val Accuracy: 53.79%\n",
      "Epoch 4\n",
      "Train Accuracy: 70.69%\n",
      "Test loss: 1.351, Val Accuracy: 59.85%\n",
      "Epoch 5\n",
      "Train Accuracy: 77.46%\n",
      "Test loss: 1.357, Val Accuracy: 61.36%\n",
      "Epoch 6\n",
      "Train Accuracy: 80.89%\n",
      "Test loss: 1.154, Val Accuracy: 65.53%\n",
      "Epoch 7\n",
      "Train Accuracy: 87.11%\n",
      "Test loss: 1.204, Val Accuracy: 62.12%\n",
      "Epoch 8\n",
      "Train Accuracy: 91.74%\n",
      "Test loss: 1.315, Val Accuracy: 58.71%\n",
      "Epoch 9\n",
      "Train Accuracy: 92.67%\n",
      "Test loss: 1.338, Val Accuracy: 57.20%\n",
      "Epoch 10\n",
      "Train Accuracy: 93.88%\n",
      "Test loss: 1.531, Val Accuracy: 59.85%\n",
      "Epoch 11\n",
      "Train Accuracy: 95.55%\n",
      "Test loss: 1.234, Val Accuracy: 64.39%\n",
      "Epoch 12\n",
      "Train Accuracy: 96.75%\n",
      "Test loss: 1.250, Val Accuracy: 60.98%\n",
      "Epoch 13\n",
      "Train Accuracy: 97.68%\n",
      "Test loss: 1.205, Val Accuracy: 60.98%\n",
      "Epoch 14\n",
      "Train Accuracy: 97.59%\n",
      "Test loss: 1.164, Val Accuracy: 66.67%\n",
      "Epoch 15\n",
      "Train Accuracy: 98.42%\n",
      "Test loss: 1.180, Val Accuracy: 60.61%\n",
      "Epoch 16\n",
      "Train Accuracy: 98.61%\n",
      "Test loss: 1.213, Val Accuracy: 61.74%\n",
      "Epoch 17\n",
      "Train Accuracy: 98.79%\n",
      "Test loss: 1.236, Val Accuracy: 65.91%\n",
      "Epoch 18\n",
      "Train Accuracy: 98.89%\n",
      "Test loss: 1.192, Val Accuracy: 68.18%\n",
      "Epoch 19\n",
      "Train Accuracy: 99.17%\n",
      "Test loss: 1.269, Val Accuracy: 62.12%\n",
      "Epoch 20\n",
      "Train Accuracy: 99.26%\n",
      "Test loss: 1.341, Val Accuracy: 64.39%\n"
     ]
    },
    {
     "data": {
      "application/vnd.jupyter.widget-view+json": {
       "model_id": "e090ffa366334625a9f885ee590deae4",
       "version_major": 2,
       "version_minor": 0
      },
      "text/plain": [
       "VBox(children=(Label(value='21.511 MB of 21.511 MB uploaded (21.071 MB deduped)\\r'), FloatProgress(value=1.0, …"
      ]
     },
     "metadata": {},
     "output_type": "display_data"
    },
    {
     "data": {
      "text/html": [
       "W&B sync reduced upload amount by 97.7%"
      ],
      "text/plain": [
       "<IPython.core.display.HTML object>"
      ]
     },
     "metadata": {},
     "output_type": "display_data"
    },
    {
     "data": {
      "text/html": [
       "<style>\n",
       "    table.wandb td:nth-child(1) { padding: 0 10px; text-align: left ; width: auto;} td:nth-child(2) {text-align: left ; width: 100%}\n",
       "    .wandb-row { display: flex; flex-direction: row; flex-wrap: wrap; justify-content: flex-start; width: 100% }\n",
       "    .wandb-col { display: flex; flex-direction: column; flex-basis: 100%; flex: 1; padding: 10px; }\n",
       "    </style>\n",
       "<div class=\"wandb-row\"><div class=\"wandb-col\"><h3>Run history:</h3><br/><table class=\"wandb\"><tr><td>epoch</td><td>▁▁▂▂▂▃▃▄▄▄▅▅▅▆▆▇▇▇██</td></tr><tr><td>iter_accuracy</td><td>▁▃▄▃▄▅▆▆▅▇▆▆▆▇█▇▇█▇▇▇███████████████████</td></tr><tr><td>tr_accuracy</td><td>▁▃▄▅▆▆▇▇▇▇██████████</td></tr><tr><td>val_accuracy</td><td>▁▂▄▆▆▇▆▅▅▆▇▆▆█▆▆▇█▆▇</td></tr></table><br/></div><div class=\"wandb-col\"><h3>Run summary:</h3><br/><table class=\"wandb\"><tr><td>epoch</td><td>19</td></tr><tr><td>iter_accuracy</td><td>100.0</td></tr><tr><td>tr_accuracy</td><td>99.25788</td></tr><tr><td>val_accuracy</td><td>64.39394</td></tr></table><br/></div></div>"
      ],
      "text/plain": [
       "<IPython.core.display.HTML object>"
      ]
     },
     "metadata": {},
     "output_type": "display_data"
    },
    {
     "data": {
      "text/html": [
       " View run <strong style=\"color:#cdcd00\">sleek-sweep-19</strong> at: <a href='https://wandb.ai/bhkim003-seoul-national-university/reservoir/runs/psv1ohzz' target=\"_blank\">https://wandb.ai/bhkim003-seoul-national-university/reservoir/runs/psv1ohzz</a><br/> View project at: <a href='https://wandb.ai/bhkim003-seoul-national-university/reservoir' target=\"_blank\">https://wandb.ai/bhkim003-seoul-national-university/reservoir</a><br/>Synced 7 W&B file(s), 0 media file(s), 36 artifact file(s) and 1 other file(s)"
      ],
      "text/plain": [
       "<IPython.core.display.HTML object>"
      ]
     },
     "metadata": {},
     "output_type": "display_data"
    },
    {
     "data": {
      "text/html": [
       "Find logs at: <code>./wandb/run-20240726_215151-psv1ohzz/logs</code>"
      ],
      "text/plain": [
       "<IPython.core.display.HTML object>"
      ]
     },
     "metadata": {},
     "output_type": "display_data"
    },
    {
     "data": {
      "text/html": [
       "The new W&B backend becomes opt-out in version 0.18.0; try it out with `wandb.require(\"core\")`! See https://wandb.me/wandb-core for more information."
      ],
      "text/plain": [
       "<IPython.core.display.HTML object>"
      ]
     },
     "metadata": {},
     "output_type": "display_data"
    },
    {
     "name": "stderr",
     "output_type": "stream",
     "text": [
      "\u001b[34m\u001b[1mwandb\u001b[0m: Sweep Agent: Waiting for job.\n",
      "\u001b[34m\u001b[1mwandb\u001b[0m: Job received.\n",
      "\u001b[34m\u001b[1mwandb\u001b[0m: Agent Starting Run: 27yvblao with config:\n",
      "\u001b[34m\u001b[1mwandb\u001b[0m: \tEPOCH: 20\n",
      "\u001b[34m\u001b[1mwandb\u001b[0m: \tFC_RESERVOIR: True\n",
      "\u001b[34m\u001b[1mwandb\u001b[0m: \tIMAGE_SIZE: 128\n",
      "\u001b[34m\u001b[1mwandb\u001b[0m: \tbatch_size: 32\n",
      "\u001b[34m\u001b[1mwandb\u001b[0m: \tdata_path: /data2\n",
      "\u001b[34m\u001b[1mwandb\u001b[0m: \tdecay: 0.7563691532519725\n",
      "\u001b[34m\u001b[1mwandb\u001b[0m: \tdvs_clipping: True\n",
      "\u001b[34m\u001b[1mwandb\u001b[0m: \tdvs_duration: 100000\n",
      "\u001b[34m\u001b[1mwandb\u001b[0m: \tlearning_rate: 0.03352794935950817\n",
      "\u001b[34m\u001b[1mwandb\u001b[0m: \tno_reservoir: False\n",
      "\u001b[34m\u001b[1mwandb\u001b[0m: \tpre_spike_weight: 6.823660148845965\n",
      "\u001b[34m\u001b[1mwandb\u001b[0m: \trate_coding: False\n",
      "\u001b[34m\u001b[1mwandb\u001b[0m: \ttime_step: 7\n",
      "\u001b[34m\u001b[1mwandb\u001b[0m: \twhich_data: DVS_GESTURE\n",
      "Failed to detect the name of this notebook, you can set it manually with the WANDB_NOTEBOOK_NAME environment variable to enable code saving.\n"
     ]
    },
    {
     "data": {
      "text/html": [
       "Tracking run with wandb version 0.17.5"
      ],
      "text/plain": [
       "<IPython.core.display.HTML object>"
      ]
     },
     "metadata": {},
     "output_type": "display_data"
    },
    {
     "data": {
      "text/html": [
       "Run data is saved locally in <code>/nfs/home/bhkim003/github_folder/ByeonghyeonKim/my_snn/wandb/run-20240726_220710-27yvblao</code>"
      ],
      "text/plain": [
       "<IPython.core.display.HTML object>"
      ]
     },
     "metadata": {},
     "output_type": "display_data"
    },
    {
     "data": {
      "text/html": [
       "Syncing run <strong><a href='https://wandb.ai/bhkim003-seoul-national-university/reservoir/runs/27yvblao' target=\"_blank\">playful-sweep-20</a></strong> to <a href='https://wandb.ai/bhkim003-seoul-national-university/reservoir' target=\"_blank\">Weights & Biases</a> (<a href='https://wandb.me/run' target=\"_blank\">docs</a>)<br/>Sweep page: <a href='https://wandb.ai/bhkim003-seoul-national-university/reservoir/sweeps/sxt07a51' target=\"_blank\">https://wandb.ai/bhkim003-seoul-national-university/reservoir/sweeps/sxt07a51</a>"
      ],
      "text/plain": [
       "<IPython.core.display.HTML object>"
      ]
     },
     "metadata": {},
     "output_type": "display_data"
    },
    {
     "data": {
      "text/html": [
       " View project at <a href='https://wandb.ai/bhkim003-seoul-national-university/reservoir' target=\"_blank\">https://wandb.ai/bhkim003-seoul-national-university/reservoir</a>"
      ],
      "text/plain": [
       "<IPython.core.display.HTML object>"
      ]
     },
     "metadata": {},
     "output_type": "display_data"
    },
    {
     "data": {
      "text/html": [
       " View sweep at <a href='https://wandb.ai/bhkim003-seoul-national-university/reservoir/sweeps/sxt07a51' target=\"_blank\">https://wandb.ai/bhkim003-seoul-national-university/reservoir/sweeps/sxt07a51</a>"
      ],
      "text/plain": [
       "<IPython.core.display.HTML object>"
      ]
     },
     "metadata": {},
     "output_type": "display_data"
    },
    {
     "data": {
      "text/html": [
       " View run at <a href='https://wandb.ai/bhkim003-seoul-national-university/reservoir/runs/27yvblao' target=\"_blank\">https://wandb.ai/bhkim003-seoul-national-university/reservoir/runs/27yvblao</a>"
      ],
      "text/plain": [
       "<IPython.core.display.HTML object>"
      ]
     },
     "metadata": {},
     "output_type": "display_data"
    },
    {
     "name": "stderr",
     "output_type": "stream",
     "text": [
      "\u001b[34m\u001b[1mwandb\u001b[0m: \u001b[33mWARNING\u001b[0m Config item 'data_path' was locked by 'sweep' (ignored update).\n",
      "\u001b[34m\u001b[1mwandb\u001b[0m: \u001b[33mWARNING\u001b[0m Config item 'which_data' was locked by 'sweep' (ignored update).\n",
      "\u001b[34m\u001b[1mwandb\u001b[0m: \u001b[33mWARNING\u001b[0m Config item 'learning_rate' was locked by 'sweep' (ignored update).\n",
      "\u001b[34m\u001b[1mwandb\u001b[0m: \u001b[33mWARNING\u001b[0m Config item 'IMAGE_SIZE' was locked by 'sweep' (ignored update).\n",
      "\u001b[34m\u001b[1mwandb\u001b[0m: \u001b[33mWARNING\u001b[0m Config item 'EPOCH' was locked by 'sweep' (ignored update).\n",
      "\u001b[34m\u001b[1mwandb\u001b[0m: \u001b[33mWARNING\u001b[0m Config item 'rate_coding' was locked by 'sweep' (ignored update).\n",
      "\u001b[34m\u001b[1mwandb\u001b[0m: \u001b[33mWARNING\u001b[0m Config item 'pre_spike_weight' was locked by 'sweep' (ignored update).\n",
      "\u001b[34m\u001b[1mwandb\u001b[0m: \u001b[33mWARNING\u001b[0m Config item 'dvs_duration' was locked by 'sweep' (ignored update).\n",
      "\u001b[34m\u001b[1mwandb\u001b[0m: \u001b[33mWARNING\u001b[0m Config item 'dvs_clipping' was locked by 'sweep' (ignored update).\n",
      "\u001b[34m\u001b[1mwandb\u001b[0m: \u001b[33mWARNING\u001b[0m Config item 'no_reservoir' was locked by 'sweep' (ignored update).\n",
      "\u001b[34m\u001b[1mwandb\u001b[0m: \u001b[33mWARNING\u001b[0m Config item 'FC_RESERVOIR' was locked by 'sweep' (ignored update).\n"
     ]
    },
    {
     "name": "stdout",
     "output_type": "stream",
     "text": [
      "The directory [/data2/gesture/duration_100000] already exists.\n",
      "The directory [/data2/gesture/duration_100000] already exists.\n",
      "RESERVOIR_NET(\n",
      "  (reservoir): RESERVOIR(\n",
      "    (reservoir): Linear(in_features=32768, out_features=32768, bias=True)\n",
      "  )\n",
      "  (classifier): Linear(in_features=32768, out_features=10, bias=True)\n",
      ")\n",
      "Epoch 1\n",
      "Train Accuracy: 44.43%\n",
      "Test loss: 3.829, Val Accuracy: 50.38%\n",
      "Epoch 2\n",
      "Train Accuracy: 72.26%\n",
      "Test loss: 5.295, Val Accuracy: 51.52%\n",
      "Epoch 3\n",
      "Train Accuracy: 78.39%\n",
      "Test loss: 4.229, Val Accuracy: 60.23%\n",
      "Epoch 4\n",
      "Train Accuracy: 84.88%\n",
      "Test loss: 4.019, Val Accuracy: 58.71%\n",
      "Epoch 5\n",
      "Train Accuracy: 90.07%\n",
      "Test loss: 2.490, Val Accuracy: 60.98%\n",
      "Epoch 6\n",
      "Train Accuracy: 97.87%\n",
      "Test loss: 2.123, Val Accuracy: 65.15%\n",
      "Epoch 7\n",
      "Train Accuracy: 99.35%\n",
      "Test loss: 1.852, Val Accuracy: 69.70%\n",
      "Epoch 8\n",
      "Train Accuracy: 99.26%\n",
      "Test loss: 2.537, Val Accuracy: 64.39%\n",
      "Epoch 9\n",
      "Train Accuracy: 100.00%\n",
      "Test loss: 2.086, Val Accuracy: 66.67%\n",
      "Epoch 10\n",
      "Train Accuracy: 100.00%\n",
      "Test loss: 2.026, Val Accuracy: 69.32%\n",
      "Epoch 11\n",
      "Train Accuracy: 100.00%\n",
      "Test loss: 1.991, Val Accuracy: 69.32%\n",
      "Epoch 12\n",
      "Train Accuracy: 100.00%\n",
      "Test loss: 1.995, Val Accuracy: 69.32%\n",
      "Epoch 13\n",
      "Train Accuracy: 100.00%\n",
      "Test loss: 1.992, Val Accuracy: 69.32%\n",
      "Epoch 14\n",
      "Train Accuracy: 100.00%\n",
      "Test loss: 1.988, Val Accuracy: 69.32%\n",
      "Epoch 15\n",
      "Train Accuracy: 100.00%\n",
      "Test loss: 1.987, Val Accuracy: 68.94%\n",
      "Epoch 16\n",
      "Train Accuracy: 100.00%\n",
      "Test loss: 1.986, Val Accuracy: 68.94%\n",
      "Epoch 17\n",
      "Train Accuracy: 100.00%\n",
      "Test loss: 1.985, Val Accuracy: 69.32%\n",
      "Epoch 18\n",
      "Train Accuracy: 100.00%\n",
      "Test loss: 1.985, Val Accuracy: 69.32%\n",
      "Epoch 19\n",
      "Train Accuracy: 100.00%\n",
      "Test loss: 1.983, Val Accuracy: 69.32%\n",
      "Epoch 20\n",
      "Train Accuracy: 100.00%\n",
      "Test loss: 1.979, Val Accuracy: 68.94%\n"
     ]
    },
    {
     "data": {
      "application/vnd.jupyter.widget-view+json": {
       "model_id": "34a04b7f3a6a4f0e8a4f6bab71ba4560",
       "version_major": 2,
       "version_minor": 0
      },
      "text/plain": [
       "VBox(children=(Label(value='21.688 MB of 21.688 MB uploaded (21.065 MB deduped)\\r'), FloatProgress(value=1.0, …"
      ]
     },
     "metadata": {},
     "output_type": "display_data"
    },
    {
     "data": {
      "text/html": [
       "W&B sync reduced upload amount by 96.8%"
      ],
      "text/plain": [
       "<IPython.core.display.HTML object>"
      ]
     },
     "metadata": {},
     "output_type": "display_data"
    },
    {
     "data": {
      "text/html": [
       "<style>\n",
       "    table.wandb td:nth-child(1) { padding: 0 10px; text-align: left ; width: auto;} td:nth-child(2) {text-align: left ; width: 100%}\n",
       "    .wandb-row { display: flex; flex-direction: row; flex-wrap: wrap; justify-content: flex-start; width: 100% }\n",
       "    .wandb-col { display: flex; flex-direction: column; flex-basis: 100%; flex: 1; padding: 10px; }\n",
       "    </style>\n",
       "<div class=\"wandb-row\"><div class=\"wandb-col\"><h3>Run history:</h3><br/><table class=\"wandb\"><tr><td>epoch</td><td>▁▁▂▂▂▃▃▄▄▄▅▅▅▆▆▇▇▇██</td></tr><tr><td>iter_accuracy</td><td>▁▁▅▄▆▇▆▆▇▇████▇█████████████████████████</td></tr><tr><td>tr_accuracy</td><td>▁▅▅▆▇███████████████</td></tr><tr><td>val_accuracy</td><td>▁▁▅▄▅▆█▆▇███████████</td></tr></table><br/></div><div class=\"wandb-col\"><h3>Run summary:</h3><br/><table class=\"wandb\"><tr><td>epoch</td><td>19</td></tr><tr><td>iter_accuracy</td><td>100.0</td></tr><tr><td>tr_accuracy</td><td>100.0</td></tr><tr><td>val_accuracy</td><td>68.93939</td></tr></table><br/></div></div>"
      ],
      "text/plain": [
       "<IPython.core.display.HTML object>"
      ]
     },
     "metadata": {},
     "output_type": "display_data"
    },
    {
     "data": {
      "text/html": [
       " View run <strong style=\"color:#cdcd00\">playful-sweep-20</strong> at: <a href='https://wandb.ai/bhkim003-seoul-national-university/reservoir/runs/27yvblao' target=\"_blank\">https://wandb.ai/bhkim003-seoul-national-university/reservoir/runs/27yvblao</a><br/> View project at: <a href='https://wandb.ai/bhkim003-seoul-national-university/reservoir' target=\"_blank\">https://wandb.ai/bhkim003-seoul-national-university/reservoir</a><br/>Synced 7 W&B file(s), 0 media file(s), 36 artifact file(s) and 1 other file(s)"
      ],
      "text/plain": [
       "<IPython.core.display.HTML object>"
      ]
     },
     "metadata": {},
     "output_type": "display_data"
    },
    {
     "data": {
      "text/html": [
       "Find logs at: <code>./wandb/run-20240726_220710-27yvblao/logs</code>"
      ],
      "text/plain": [
       "<IPython.core.display.HTML object>"
      ]
     },
     "metadata": {},
     "output_type": "display_data"
    },
    {
     "data": {
      "text/html": [
       "The new W&B backend becomes opt-out in version 0.18.0; try it out with `wandb.require(\"core\")`! See https://wandb.me/wandb-core for more information."
      ],
      "text/plain": [
       "<IPython.core.display.HTML object>"
      ]
     },
     "metadata": {},
     "output_type": "display_data"
    },
    {
     "name": "stderr",
     "output_type": "stream",
     "text": [
      "\u001b[34m\u001b[1mwandb\u001b[0m: Agent Starting Run: 9lzweo02 with config:\n",
      "\u001b[34m\u001b[1mwandb\u001b[0m: \tEPOCH: 20\n",
      "\u001b[34m\u001b[1mwandb\u001b[0m: \tFC_RESERVOIR: True\n",
      "\u001b[34m\u001b[1mwandb\u001b[0m: \tIMAGE_SIZE: 48\n",
      "\u001b[34m\u001b[1mwandb\u001b[0m: \tbatch_size: 16\n",
      "\u001b[34m\u001b[1mwandb\u001b[0m: \tdata_path: /data2\n",
      "\u001b[34m\u001b[1mwandb\u001b[0m: \tdecay: 0.4122643903972408\n",
      "\u001b[34m\u001b[1mwandb\u001b[0m: \tdvs_clipping: True\n",
      "\u001b[34m\u001b[1mwandb\u001b[0m: \tdvs_duration: 100000\n",
      "\u001b[34m\u001b[1mwandb\u001b[0m: \tlearning_rate: 0.08126748888887031\n",
      "\u001b[34m\u001b[1mwandb\u001b[0m: \tno_reservoir: False\n",
      "\u001b[34m\u001b[1mwandb\u001b[0m: \tpre_spike_weight: 2.692594149436373\n",
      "\u001b[34m\u001b[1mwandb\u001b[0m: \trate_coding: True\n",
      "\u001b[34m\u001b[1mwandb\u001b[0m: \ttime_step: 5\n",
      "\u001b[34m\u001b[1mwandb\u001b[0m: \twhich_data: DVS_GESTURE\n",
      "Failed to detect the name of this notebook, you can set it manually with the WANDB_NOTEBOOK_NAME environment variable to enable code saving.\n"
     ]
    },
    {
     "data": {
      "text/html": [
       "Tracking run with wandb version 0.17.5"
      ],
      "text/plain": [
       "<IPython.core.display.HTML object>"
      ]
     },
     "metadata": {},
     "output_type": "display_data"
    },
    {
     "data": {
      "text/html": [
       "Run data is saved locally in <code>/nfs/home/bhkim003/github_folder/ByeonghyeonKim/my_snn/wandb/run-20240727_002024-9lzweo02</code>"
      ],
      "text/plain": [
       "<IPython.core.display.HTML object>"
      ]
     },
     "metadata": {},
     "output_type": "display_data"
    },
    {
     "data": {
      "text/html": [
       "Syncing run <strong><a href='https://wandb.ai/bhkim003-seoul-national-university/reservoir/runs/9lzweo02' target=\"_blank\">brisk-sweep-21</a></strong> to <a href='https://wandb.ai/bhkim003-seoul-national-university/reservoir' target=\"_blank\">Weights & Biases</a> (<a href='https://wandb.me/run' target=\"_blank\">docs</a>)<br/>Sweep page: <a href='https://wandb.ai/bhkim003-seoul-national-university/reservoir/sweeps/sxt07a51' target=\"_blank\">https://wandb.ai/bhkim003-seoul-national-university/reservoir/sweeps/sxt07a51</a>"
      ],
      "text/plain": [
       "<IPython.core.display.HTML object>"
      ]
     },
     "metadata": {},
     "output_type": "display_data"
    },
    {
     "data": {
      "text/html": [
       " View project at <a href='https://wandb.ai/bhkim003-seoul-national-university/reservoir' target=\"_blank\">https://wandb.ai/bhkim003-seoul-national-university/reservoir</a>"
      ],
      "text/plain": [
       "<IPython.core.display.HTML object>"
      ]
     },
     "metadata": {},
     "output_type": "display_data"
    },
    {
     "data": {
      "text/html": [
       " View sweep at <a href='https://wandb.ai/bhkim003-seoul-national-university/reservoir/sweeps/sxt07a51' target=\"_blank\">https://wandb.ai/bhkim003-seoul-national-university/reservoir/sweeps/sxt07a51</a>"
      ],
      "text/plain": [
       "<IPython.core.display.HTML object>"
      ]
     },
     "metadata": {},
     "output_type": "display_data"
    },
    {
     "data": {
      "text/html": [
       " View run at <a href='https://wandb.ai/bhkim003-seoul-national-university/reservoir/runs/9lzweo02' target=\"_blank\">https://wandb.ai/bhkim003-seoul-national-university/reservoir/runs/9lzweo02</a>"
      ],
      "text/plain": [
       "<IPython.core.display.HTML object>"
      ]
     },
     "metadata": {},
     "output_type": "display_data"
    },
    {
     "name": "stderr",
     "output_type": "stream",
     "text": [
      "\u001b[34m\u001b[1mwandb\u001b[0m: \u001b[33mWARNING\u001b[0m Config item 'data_path' was locked by 'sweep' (ignored update).\n",
      "\u001b[34m\u001b[1mwandb\u001b[0m: \u001b[33mWARNING\u001b[0m Config item 'which_data' was locked by 'sweep' (ignored update).\n",
      "\u001b[34m\u001b[1mwandb\u001b[0m: \u001b[33mWARNING\u001b[0m Config item 'learning_rate' was locked by 'sweep' (ignored update).\n",
      "\u001b[34m\u001b[1mwandb\u001b[0m: \u001b[33mWARNING\u001b[0m Config item 'IMAGE_SIZE' was locked by 'sweep' (ignored update).\n",
      "\u001b[34m\u001b[1mwandb\u001b[0m: \u001b[33mWARNING\u001b[0m Config item 'EPOCH' was locked by 'sweep' (ignored update).\n",
      "\u001b[34m\u001b[1mwandb\u001b[0m: \u001b[33mWARNING\u001b[0m Config item 'rate_coding' was locked by 'sweep' (ignored update).\n",
      "\u001b[34m\u001b[1mwandb\u001b[0m: \u001b[33mWARNING\u001b[0m Config item 'pre_spike_weight' was locked by 'sweep' (ignored update).\n",
      "\u001b[34m\u001b[1mwandb\u001b[0m: \u001b[33mWARNING\u001b[0m Config item 'dvs_duration' was locked by 'sweep' (ignored update).\n",
      "\u001b[34m\u001b[1mwandb\u001b[0m: \u001b[33mWARNING\u001b[0m Config item 'dvs_clipping' was locked by 'sweep' (ignored update).\n",
      "\u001b[34m\u001b[1mwandb\u001b[0m: \u001b[33mWARNING\u001b[0m Config item 'no_reservoir' was locked by 'sweep' (ignored update).\n",
      "\u001b[34m\u001b[1mwandb\u001b[0m: \u001b[33mWARNING\u001b[0m Config item 'FC_RESERVOIR' was locked by 'sweep' (ignored update).\n"
     ]
    },
    {
     "name": "stdout",
     "output_type": "stream",
     "text": [
      "The directory [/data2/gesture/duration_100000] already exists.\n",
      "The directory [/data2/gesture/duration_100000] already exists.\n",
      "RESERVOIR_NET(\n",
      "  (reservoir): RESERVOIR(\n",
      "    (reservoir): Linear(in_features=4608, out_features=4608, bias=True)\n",
      "  )\n",
      "  (classifier): Linear(in_features=4608, out_features=10, bias=True)\n",
      ")\n",
      "Epoch 1\n",
      "Train Accuracy: 34.97%\n",
      "Test loss: 6.277, Val Accuracy: 52.27%\n",
      "Epoch 2\n",
      "Train Accuracy: 71.24%\n",
      "Test loss: 7.264, Val Accuracy: 46.21%\n",
      "Epoch 3\n",
      "Train Accuracy: 76.44%\n",
      "Test loss: 9.493, Val Accuracy: 48.48%\n",
      "Epoch 4\n",
      "Train Accuracy: 82.19%\n",
      "Test loss: 5.057, Val Accuracy: 55.68%\n",
      "Epoch 5\n",
      "Train Accuracy: 87.20%\n",
      "Test loss: 4.233, Val Accuracy: 62.12%\n",
      "Epoch 6\n",
      "Train Accuracy: 93.78%\n",
      "Test loss: 5.816, Val Accuracy: 54.92%\n",
      "Epoch 7\n",
      "Train Accuracy: 93.32%\n",
      "Test loss: 4.078, Val Accuracy: 62.50%\n",
      "Epoch 8\n",
      "Train Accuracy: 98.70%\n",
      "Test loss: 5.334, Val Accuracy: 58.33%\n",
      "Epoch 9\n",
      "Train Accuracy: 99.35%\n",
      "Test loss: 4.719, Val Accuracy: 59.09%\n",
      "Epoch 10\n",
      "Train Accuracy: 99.17%\n",
      "Test loss: 3.568, Val Accuracy: 63.26%\n",
      "Epoch 11\n",
      "Train Accuracy: 98.24%\n",
      "Test loss: 6.398, Val Accuracy: 53.41%\n",
      "Epoch 12\n",
      "Train Accuracy: 99.72%\n",
      "Test loss: 3.684, Val Accuracy: 65.15%\n",
      "Epoch 13\n",
      "Train Accuracy: 100.00%\n",
      "Test loss: 3.535, Val Accuracy: 63.26%\n",
      "Epoch 14\n",
      "Train Accuracy: 100.00%\n",
      "Test loss: 3.488, Val Accuracy: 63.26%\n",
      "Epoch 15\n",
      "Train Accuracy: 100.00%\n",
      "Test loss: 3.442, Val Accuracy: 63.64%\n",
      "Epoch 16\n",
      "Train Accuracy: 100.00%\n",
      "Test loss: 3.430, Val Accuracy: 63.64%\n",
      "Epoch 17\n",
      "Train Accuracy: 100.00%\n",
      "Test loss: 3.420, Val Accuracy: 63.64%\n",
      "Epoch 18\n",
      "Train Accuracy: 100.00%\n",
      "Test loss: 3.410, Val Accuracy: 63.64%\n",
      "Epoch 19\n",
      "Train Accuracy: 100.00%\n",
      "Test loss: 3.410, Val Accuracy: 64.02%\n",
      "Epoch 20\n",
      "Train Accuracy: 100.00%\n",
      "Test loss: 3.397, Val Accuracy: 64.02%\n"
     ]
    },
    {
     "data": {
      "application/vnd.jupyter.widget-view+json": {
       "model_id": "bf8dd9ea85d847f6946b39617ce7c11f",
       "version_major": 2,
       "version_minor": 0
      },
      "text/plain": [
       "VBox(children=(Label(value='0.192 MB of 0.192 MB uploaded\\r'), FloatProgress(value=1.0, max=1.0)))"
      ]
     },
     "metadata": {},
     "output_type": "display_data"
    },
    {
     "data": {
      "text/html": [
       "<style>\n",
       "    table.wandb td:nth-child(1) { padding: 0 10px; text-align: left ; width: auto;} td:nth-child(2) {text-align: left ; width: 100%}\n",
       "    .wandb-row { display: flex; flex-direction: row; flex-wrap: wrap; justify-content: flex-start; width: 100% }\n",
       "    .wandb-col { display: flex; flex-direction: column; flex-basis: 100%; flex: 1; padding: 10px; }\n",
       "    </style>\n",
       "<div class=\"wandb-row\"><div class=\"wandb-col\"><h3>Run history:</h3><br/><table class=\"wandb\"><tr><td>epoch</td><td>▁▁▂▂▂▃▃▄▄▄▅▅▅▆▆▇▇▇██</td></tr><tr><td>iter_accuracy</td><td>▁▄▇▆▅▇▇▆█▇█▇█▆███████▇██████████████████</td></tr><tr><td>tr_accuracy</td><td>▁▅▅▆▇▇▇█████████████</td></tr><tr><td>val_accuracy</td><td>▃▁▂▅▇▄▇▅▆▇▄█▇▇▇▇▇▇██</td></tr></table><br/></div><div class=\"wandb-col\"><h3>Run summary:</h3><br/><table class=\"wandb\"><tr><td>epoch</td><td>19</td></tr><tr><td>iter_accuracy</td><td>100.0</td></tr><tr><td>tr_accuracy</td><td>100.0</td></tr><tr><td>val_accuracy</td><td>64.01515</td></tr></table><br/></div></div>"
      ],
      "text/plain": [
       "<IPython.core.display.HTML object>"
      ]
     },
     "metadata": {},
     "output_type": "display_data"
    },
    {
     "data": {
      "text/html": [
       " View run <strong style=\"color:#cdcd00\">brisk-sweep-21</strong> at: <a href='https://wandb.ai/bhkim003-seoul-national-university/reservoir/runs/9lzweo02' target=\"_blank\">https://wandb.ai/bhkim003-seoul-national-university/reservoir/runs/9lzweo02</a><br/> View project at: <a href='https://wandb.ai/bhkim003-seoul-national-university/reservoir' target=\"_blank\">https://wandb.ai/bhkim003-seoul-national-university/reservoir</a><br/>Synced 7 W&B file(s), 0 media file(s), 0 artifact file(s) and 1 other file(s)"
      ],
      "text/plain": [
       "<IPython.core.display.HTML object>"
      ]
     },
     "metadata": {},
     "output_type": "display_data"
    },
    {
     "data": {
      "text/html": [
       "Find logs at: <code>./wandb/run-20240727_002024-9lzweo02/logs</code>"
      ],
      "text/plain": [
       "<IPython.core.display.HTML object>"
      ]
     },
     "metadata": {},
     "output_type": "display_data"
    },
    {
     "data": {
      "text/html": [
       "The new W&B backend becomes opt-out in version 0.18.0; try it out with `wandb.require(\"core\")`! See https://wandb.me/wandb-core for more information."
      ],
      "text/plain": [
       "<IPython.core.display.HTML object>"
      ]
     },
     "metadata": {},
     "output_type": "display_data"
    },
    {
     "name": "stderr",
     "output_type": "stream",
     "text": [
      "\u001b[34m\u001b[1mwandb\u001b[0m: Sweep Agent: Waiting for job.\n",
      "\u001b[34m\u001b[1mwandb\u001b[0m: Job received.\n",
      "\u001b[34m\u001b[1mwandb\u001b[0m: Agent Starting Run: 5r9r5ohe with config:\n",
      "\u001b[34m\u001b[1mwandb\u001b[0m: \tEPOCH: 20\n",
      "\u001b[34m\u001b[1mwandb\u001b[0m: \tFC_RESERVOIR: True\n",
      "\u001b[34m\u001b[1mwandb\u001b[0m: \tIMAGE_SIZE: 128\n",
      "\u001b[34m\u001b[1mwandb\u001b[0m: \tbatch_size: 256\n",
      "\u001b[34m\u001b[1mwandb\u001b[0m: \tdata_path: /data2\n",
      "\u001b[34m\u001b[1mwandb\u001b[0m: \tdecay: 0.8807479328738474\n",
      "\u001b[34m\u001b[1mwandb\u001b[0m: \tdvs_clipping: True\n",
      "\u001b[34m\u001b[1mwandb\u001b[0m: \tdvs_duration: 100000\n",
      "\u001b[34m\u001b[1mwandb\u001b[0m: \tlearning_rate: 0.09294563203905\n",
      "\u001b[34m\u001b[1mwandb\u001b[0m: \tno_reservoir: False\n",
      "\u001b[34m\u001b[1mwandb\u001b[0m: \tpre_spike_weight: 3.7381989059415552\n",
      "\u001b[34m\u001b[1mwandb\u001b[0m: \trate_coding: True\n",
      "\u001b[34m\u001b[1mwandb\u001b[0m: \ttime_step: 4\n",
      "\u001b[34m\u001b[1mwandb\u001b[0m: \twhich_data: DVS_GESTURE\n",
      "Failed to detect the name of this notebook, you can set it manually with the WANDB_NOTEBOOK_NAME environment variable to enable code saving.\n"
     ]
    },
    {
     "data": {
      "text/html": [
       "Tracking run with wandb version 0.17.5"
      ],
      "text/plain": [
       "<IPython.core.display.HTML object>"
      ]
     },
     "metadata": {},
     "output_type": "display_data"
    },
    {
     "data": {
      "text/html": [
       "Run data is saved locally in <code>/nfs/home/bhkim003/github_folder/ByeonghyeonKim/my_snn/wandb/run-20240727_003558-5r9r5ohe</code>"
      ],
      "text/plain": [
       "<IPython.core.display.HTML object>"
      ]
     },
     "metadata": {},
     "output_type": "display_data"
    },
    {
     "data": {
      "text/html": [
       "Syncing run <strong><a href='https://wandb.ai/bhkim003-seoul-national-university/reservoir/runs/5r9r5ohe' target=\"_blank\">scarlet-sweep-22</a></strong> to <a href='https://wandb.ai/bhkim003-seoul-national-university/reservoir' target=\"_blank\">Weights & Biases</a> (<a href='https://wandb.me/run' target=\"_blank\">docs</a>)<br/>Sweep page: <a href='https://wandb.ai/bhkim003-seoul-national-university/reservoir/sweeps/sxt07a51' target=\"_blank\">https://wandb.ai/bhkim003-seoul-national-university/reservoir/sweeps/sxt07a51</a>"
      ],
      "text/plain": [
       "<IPython.core.display.HTML object>"
      ]
     },
     "metadata": {},
     "output_type": "display_data"
    },
    {
     "data": {
      "text/html": [
       " View project at <a href='https://wandb.ai/bhkim003-seoul-national-university/reservoir' target=\"_blank\">https://wandb.ai/bhkim003-seoul-national-university/reservoir</a>"
      ],
      "text/plain": [
       "<IPython.core.display.HTML object>"
      ]
     },
     "metadata": {},
     "output_type": "display_data"
    },
    {
     "data": {
      "text/html": [
       " View sweep at <a href='https://wandb.ai/bhkim003-seoul-national-university/reservoir/sweeps/sxt07a51' target=\"_blank\">https://wandb.ai/bhkim003-seoul-national-university/reservoir/sweeps/sxt07a51</a>"
      ],
      "text/plain": [
       "<IPython.core.display.HTML object>"
      ]
     },
     "metadata": {},
     "output_type": "display_data"
    },
    {
     "data": {
      "text/html": [
       " View run at <a href='https://wandb.ai/bhkim003-seoul-national-university/reservoir/runs/5r9r5ohe' target=\"_blank\">https://wandb.ai/bhkim003-seoul-national-university/reservoir/runs/5r9r5ohe</a>"
      ],
      "text/plain": [
       "<IPython.core.display.HTML object>"
      ]
     },
     "metadata": {},
     "output_type": "display_data"
    },
    {
     "name": "stderr",
     "output_type": "stream",
     "text": [
      "\u001b[34m\u001b[1mwandb\u001b[0m: \u001b[33mWARNING\u001b[0m Config item 'data_path' was locked by 'sweep' (ignored update).\n",
      "\u001b[34m\u001b[1mwandb\u001b[0m: \u001b[33mWARNING\u001b[0m Config item 'which_data' was locked by 'sweep' (ignored update).\n",
      "\u001b[34m\u001b[1mwandb\u001b[0m: \u001b[33mWARNING\u001b[0m Config item 'learning_rate' was locked by 'sweep' (ignored update).\n",
      "\u001b[34m\u001b[1mwandb\u001b[0m: \u001b[33mWARNING\u001b[0m Config item 'IMAGE_SIZE' was locked by 'sweep' (ignored update).\n",
      "\u001b[34m\u001b[1mwandb\u001b[0m: \u001b[33mWARNING\u001b[0m Config item 'EPOCH' was locked by 'sweep' (ignored update).\n",
      "\u001b[34m\u001b[1mwandb\u001b[0m: \u001b[33mWARNING\u001b[0m Config item 'rate_coding' was locked by 'sweep' (ignored update).\n",
      "\u001b[34m\u001b[1mwandb\u001b[0m: \u001b[33mWARNING\u001b[0m Config item 'pre_spike_weight' was locked by 'sweep' (ignored update).\n",
      "\u001b[34m\u001b[1mwandb\u001b[0m: \u001b[33mWARNING\u001b[0m Config item 'dvs_duration' was locked by 'sweep' (ignored update).\n",
      "\u001b[34m\u001b[1mwandb\u001b[0m: \u001b[33mWARNING\u001b[0m Config item 'dvs_clipping' was locked by 'sweep' (ignored update).\n",
      "\u001b[34m\u001b[1mwandb\u001b[0m: \u001b[33mWARNING\u001b[0m Config item 'no_reservoir' was locked by 'sweep' (ignored update).\n",
      "\u001b[34m\u001b[1mwandb\u001b[0m: \u001b[33mWARNING\u001b[0m Config item 'FC_RESERVOIR' was locked by 'sweep' (ignored update).\n"
     ]
    },
    {
     "name": "stdout",
     "output_type": "stream",
     "text": [
      "The directory [/data2/gesture/duration_100000] already exists.\n",
      "The directory [/data2/gesture/duration_100000] already exists.\n",
      "RESERVOIR_NET(\n",
      "  (reservoir): RESERVOIR(\n",
      "    (reservoir): Linear(in_features=32768, out_features=32768, bias=True)\n",
      "  )\n",
      "  (classifier): Linear(in_features=32768, out_features=10, bias=True)\n",
      ")\n",
      "Epoch 1\n",
      "Train Accuracy: 20.78%\n",
      "Test loss: 18.475, Val Accuracy: 22.73%\n",
      "Epoch 2\n",
      "Train Accuracy: 32.28%\n",
      "Test loss: 19.971, Val Accuracy: 31.06%\n",
      "Epoch 3\n",
      "Train Accuracy: 53.15%\n",
      "Test loss: 15.308, Val Accuracy: 33.71%\n",
      "Epoch 4\n",
      "Train Accuracy: 61.69%\n",
      "Test loss: 16.554, Val Accuracy: 48.48%\n",
      "Epoch 5\n",
      "Train Accuracy: 69.48%\n",
      "Test loss: 6.196, Val Accuracy: 48.11%\n",
      "Epoch 6\n",
      "Train Accuracy: 76.35%\n",
      "Test loss: 10.305, Val Accuracy: 60.98%\n",
      "Epoch 7\n",
      "Train Accuracy: 80.98%\n",
      "Test loss: 7.953, Val Accuracy: 50.00%\n",
      "Epoch 8\n",
      "Train Accuracy: 83.77%\n",
      "Test loss: 7.316, Val Accuracy: 58.71%\n",
      "Epoch 9\n",
      "Train Accuracy: 89.98%\n",
      "Test loss: 7.323, Val Accuracy: 56.82%\n",
      "Epoch 10\n",
      "Train Accuracy: 92.58%\n",
      "Test loss: 6.548, Val Accuracy: 59.85%\n",
      "Epoch 11\n",
      "Train Accuracy: 97.12%\n",
      "Test loss: 6.218, Val Accuracy: 60.61%\n",
      "Epoch 12\n",
      "Train Accuracy: 97.22%\n",
      "Test loss: 5.614, Val Accuracy: 62.50%\n",
      "Epoch 13\n",
      "Train Accuracy: 98.98%\n",
      "Test loss: 5.626, Val Accuracy: 61.74%\n",
      "Epoch 14\n",
      "Train Accuracy: 99.26%\n",
      "Test loss: 5.243, Val Accuracy: 64.77%\n",
      "Epoch 15\n",
      "Train Accuracy: 99.26%\n",
      "Test loss: 5.273, Val Accuracy: 66.29%\n",
      "Epoch 16\n",
      "Train Accuracy: 99.72%\n",
      "Test loss: 5.873, Val Accuracy: 65.91%\n",
      "Epoch 17\n",
      "Train Accuracy: 99.91%\n",
      "Test loss: 5.832, Val Accuracy: 65.15%\n",
      "Epoch 18\n",
      "Train Accuracy: 100.00%\n",
      "Test loss: 5.836, Val Accuracy: 65.53%\n",
      "Epoch 19\n",
      "Train Accuracy: 100.00%\n",
      "Test loss: 5.812, Val Accuracy: 65.91%\n",
      "Epoch 20\n",
      "Train Accuracy: 100.00%\n",
      "Test loss: 5.794, Val Accuracy: 65.53%\n"
     ]
    },
    {
     "data": {
      "application/vnd.jupyter.widget-view+json": {
       "model_id": "3eecfb8163874b42849dbe607160937b",
       "version_major": 2,
       "version_minor": 0
      },
      "text/plain": [
       "VBox(children=(Label(value='0.192 MB of 0.192 MB uploaded\\r'), FloatProgress(value=1.0, max=1.0)))"
      ]
     },
     "metadata": {},
     "output_type": "display_data"
    },
    {
     "data": {
      "text/html": [
       "<style>\n",
       "    table.wandb td:nth-child(1) { padding: 0 10px; text-align: left ; width: auto;} td:nth-child(2) {text-align: left ; width: 100%}\n",
       "    .wandb-row { display: flex; flex-direction: row; flex-wrap: wrap; justify-content: flex-start; width: 100% }\n",
       "    .wandb-col { display: flex; flex-direction: column; flex-basis: 100%; flex: 1; padding: 10px; }\n",
       "    </style>\n",
       "<div class=\"wandb-row\"><div class=\"wandb-col\"><h3>Run history:</h3><br/><table class=\"wandb\"><tr><td>epoch</td><td>▁▁▂▂▂▃▃▄▄▄▅▅▅▆▆▇▇▇██</td></tr><tr><td>iter_accuracy</td><td>▁▂▂▃▃▅▅▅▆▅▆▆▇▇▇▇▇▇█▇████████████████████</td></tr><tr><td>tr_accuracy</td><td>▁▂▄▅▅▆▆▇▇▇██████████</td></tr><tr><td>val_accuracy</td><td>▁▂▃▅▅▇▅▇▆▇▇▇▇███████</td></tr></table><br/></div><div class=\"wandb-col\"><h3>Run summary:</h3><br/><table class=\"wandb\"><tr><td>epoch</td><td>19</td></tr><tr><td>iter_accuracy</td><td>100.0</td></tr><tr><td>tr_accuracy</td><td>100.0</td></tr><tr><td>val_accuracy</td><td>65.5303</td></tr></table><br/></div></div>"
      ],
      "text/plain": [
       "<IPython.core.display.HTML object>"
      ]
     },
     "metadata": {},
     "output_type": "display_data"
    },
    {
     "data": {
      "text/html": [
       " View run <strong style=\"color:#cdcd00\">scarlet-sweep-22</strong> at: <a href='https://wandb.ai/bhkim003-seoul-national-university/reservoir/runs/5r9r5ohe' target=\"_blank\">https://wandb.ai/bhkim003-seoul-national-university/reservoir/runs/5r9r5ohe</a><br/> View project at: <a href='https://wandb.ai/bhkim003-seoul-national-university/reservoir' target=\"_blank\">https://wandb.ai/bhkim003-seoul-national-university/reservoir</a><br/>Synced 7 W&B file(s), 0 media file(s), 0 artifact file(s) and 1 other file(s)"
      ],
      "text/plain": [
       "<IPython.core.display.HTML object>"
      ]
     },
     "metadata": {},
     "output_type": "display_data"
    },
    {
     "data": {
      "text/html": [
       "Find logs at: <code>./wandb/run-20240727_003558-5r9r5ohe/logs</code>"
      ],
      "text/plain": [
       "<IPython.core.display.HTML object>"
      ]
     },
     "metadata": {},
     "output_type": "display_data"
    },
    {
     "data": {
      "text/html": [
       "The new W&B backend becomes opt-out in version 0.18.0; try it out with `wandb.require(\"core\")`! See https://wandb.me/wandb-core for more information."
      ],
      "text/plain": [
       "<IPython.core.display.HTML object>"
      ]
     },
     "metadata": {},
     "output_type": "display_data"
    },
    {
     "name": "stderr",
     "output_type": "stream",
     "text": [
      "\u001b[34m\u001b[1mwandb\u001b[0m: Agent Starting Run: 4iruolld with config:\n",
      "\u001b[34m\u001b[1mwandb\u001b[0m: \tEPOCH: 20\n",
      "\u001b[34m\u001b[1mwandb\u001b[0m: \tFC_RESERVOIR: True\n",
      "\u001b[34m\u001b[1mwandb\u001b[0m: \tIMAGE_SIZE: 128\n",
      "\u001b[34m\u001b[1mwandb\u001b[0m: \tbatch_size: 128\n",
      "\u001b[34m\u001b[1mwandb\u001b[0m: \tdata_path: /data2\n",
      "\u001b[34m\u001b[1mwandb\u001b[0m: \tdecay: 0.4103587347918811\n",
      "\u001b[34m\u001b[1mwandb\u001b[0m: \tdvs_clipping: True\n",
      "\u001b[34m\u001b[1mwandb\u001b[0m: \tdvs_duration: 100000\n",
      "\u001b[34m\u001b[1mwandb\u001b[0m: \tlearning_rate: 0.012338173264345524\n",
      "\u001b[34m\u001b[1mwandb\u001b[0m: \tno_reservoir: True\n",
      "\u001b[34m\u001b[1mwandb\u001b[0m: \tpre_spike_weight: 9.023504959789864\n",
      "\u001b[34m\u001b[1mwandb\u001b[0m: \trate_coding: True\n",
      "\u001b[34m\u001b[1mwandb\u001b[0m: \ttime_step: 8\n",
      "\u001b[34m\u001b[1mwandb\u001b[0m: \twhich_data: DVS_GESTURE\n",
      "Failed to detect the name of this notebook, you can set it manually with the WANDB_NOTEBOOK_NAME environment variable to enable code saving.\n"
     ]
    },
    {
     "data": {
      "text/html": [
       "Tracking run with wandb version 0.17.5"
      ],
      "text/plain": [
       "<IPython.core.display.HTML object>"
      ]
     },
     "metadata": {},
     "output_type": "display_data"
    },
    {
     "data": {
      "text/html": [
       "Run data is saved locally in <code>/nfs/home/bhkim003/github_folder/ByeonghyeonKim/my_snn/wandb/run-20240727_011425-4iruolld</code>"
      ],
      "text/plain": [
       "<IPython.core.display.HTML object>"
      ]
     },
     "metadata": {},
     "output_type": "display_data"
    },
    {
     "data": {
      "text/html": [
       "Syncing run <strong><a href='https://wandb.ai/bhkim003-seoul-national-university/reservoir/runs/4iruolld' target=\"_blank\">tough-sweep-23</a></strong> to <a href='https://wandb.ai/bhkim003-seoul-national-university/reservoir' target=\"_blank\">Weights & Biases</a> (<a href='https://wandb.me/run' target=\"_blank\">docs</a>)<br/>Sweep page: <a href='https://wandb.ai/bhkim003-seoul-national-university/reservoir/sweeps/sxt07a51' target=\"_blank\">https://wandb.ai/bhkim003-seoul-national-university/reservoir/sweeps/sxt07a51</a>"
      ],
      "text/plain": [
       "<IPython.core.display.HTML object>"
      ]
     },
     "metadata": {},
     "output_type": "display_data"
    },
    {
     "data": {
      "text/html": [
       " View project at <a href='https://wandb.ai/bhkim003-seoul-national-university/reservoir' target=\"_blank\">https://wandb.ai/bhkim003-seoul-national-university/reservoir</a>"
      ],
      "text/plain": [
       "<IPython.core.display.HTML object>"
      ]
     },
     "metadata": {},
     "output_type": "display_data"
    },
    {
     "data": {
      "text/html": [
       " View sweep at <a href='https://wandb.ai/bhkim003-seoul-national-university/reservoir/sweeps/sxt07a51' target=\"_blank\">https://wandb.ai/bhkim003-seoul-national-university/reservoir/sweeps/sxt07a51</a>"
      ],
      "text/plain": [
       "<IPython.core.display.HTML object>"
      ]
     },
     "metadata": {},
     "output_type": "display_data"
    },
    {
     "data": {
      "text/html": [
       " View run at <a href='https://wandb.ai/bhkim003-seoul-national-university/reservoir/runs/4iruolld' target=\"_blank\">https://wandb.ai/bhkim003-seoul-national-university/reservoir/runs/4iruolld</a>"
      ],
      "text/plain": [
       "<IPython.core.display.HTML object>"
      ]
     },
     "metadata": {},
     "output_type": "display_data"
    },
    {
     "name": "stderr",
     "output_type": "stream",
     "text": [
      "\u001b[34m\u001b[1mwandb\u001b[0m: \u001b[33mWARNING\u001b[0m Config item 'data_path' was locked by 'sweep' (ignored update).\n",
      "\u001b[34m\u001b[1mwandb\u001b[0m: \u001b[33mWARNING\u001b[0m Config item 'which_data' was locked by 'sweep' (ignored update).\n",
      "\u001b[34m\u001b[1mwandb\u001b[0m: \u001b[33mWARNING\u001b[0m Config item 'learning_rate' was locked by 'sweep' (ignored update).\n",
      "\u001b[34m\u001b[1mwandb\u001b[0m: \u001b[33mWARNING\u001b[0m Config item 'IMAGE_SIZE' was locked by 'sweep' (ignored update).\n",
      "\u001b[34m\u001b[1mwandb\u001b[0m: \u001b[33mWARNING\u001b[0m Config item 'EPOCH' was locked by 'sweep' (ignored update).\n",
      "\u001b[34m\u001b[1mwandb\u001b[0m: \u001b[33mWARNING\u001b[0m Config item 'rate_coding' was locked by 'sweep' (ignored update).\n",
      "\u001b[34m\u001b[1mwandb\u001b[0m: \u001b[33mWARNING\u001b[0m Config item 'pre_spike_weight' was locked by 'sweep' (ignored update).\n",
      "\u001b[34m\u001b[1mwandb\u001b[0m: \u001b[33mWARNING\u001b[0m Config item 'dvs_duration' was locked by 'sweep' (ignored update).\n",
      "\u001b[34m\u001b[1mwandb\u001b[0m: \u001b[33mWARNING\u001b[0m Config item 'dvs_clipping' was locked by 'sweep' (ignored update).\n",
      "\u001b[34m\u001b[1mwandb\u001b[0m: \u001b[33mWARNING\u001b[0m Config item 'no_reservoir' was locked by 'sweep' (ignored update).\n",
      "\u001b[34m\u001b[1mwandb\u001b[0m: \u001b[33mWARNING\u001b[0m Config item 'FC_RESERVOIR' was locked by 'sweep' (ignored update).\n"
     ]
    },
    {
     "name": "stdout",
     "output_type": "stream",
     "text": [
      "The directory [/data2/gesture/duration_100000] already exists.\n",
      "The directory [/data2/gesture/duration_100000] already exists.\n",
      "RESERVOIR_NET(\n",
      "  (classifier): Linear(in_features=32768, out_features=10, bias=True)\n",
      ")\n",
      "Epoch 1\n",
      "Train Accuracy: 37.94%\n",
      "Test loss: 2.249, Val Accuracy: 51.52%\n",
      "Epoch 2\n",
      "Train Accuracy: 62.62%\n",
      "Test loss: 1.434, Val Accuracy: 59.85%\n",
      "Epoch 3\n",
      "Train Accuracy: 78.01%\n",
      "Test loss: 0.956, Val Accuracy: 62.50%\n",
      "Epoch 4\n",
      "Train Accuracy: 80.89%\n",
      "Test loss: 1.035, Val Accuracy: 63.26%\n",
      "Epoch 5\n",
      "Train Accuracy: 84.32%\n",
      "Test loss: 1.174, Val Accuracy: 64.39%\n",
      "Epoch 6\n",
      "Train Accuracy: 88.68%\n",
      "Test loss: 1.092, Val Accuracy: 64.77%\n",
      "Epoch 7\n",
      "Train Accuracy: 94.25%\n",
      "Test loss: 0.955, Val Accuracy: 66.29%\n",
      "Epoch 8\n",
      "Train Accuracy: 95.36%\n",
      "Test loss: 1.219, Val Accuracy: 69.32%\n",
      "Epoch 9\n",
      "Train Accuracy: 96.38%\n",
      "Test loss: 1.000, Val Accuracy: 71.97%\n",
      "Epoch 10\n",
      "Train Accuracy: 97.22%\n",
      "Test loss: 1.197, Val Accuracy: 71.97%\n",
      "Epoch 11\n",
      "Train Accuracy: 97.96%\n",
      "Test loss: 1.048, Val Accuracy: 70.45%\n",
      "Epoch 12\n",
      "Train Accuracy: 98.52%\n",
      "Test loss: 1.115, Val Accuracy: 70.83%\n",
      "Epoch 13\n",
      "Train Accuracy: 98.61%\n",
      "Test loss: 1.085, Val Accuracy: 70.83%\n",
      "Epoch 14\n",
      "Train Accuracy: 99.07%\n",
      "Test loss: 1.116, Val Accuracy: 70.45%\n",
      "Epoch 15\n",
      "Train Accuracy: 99.54%\n",
      "Test loss: 1.144, Val Accuracy: 70.08%\n",
      "Epoch 16\n",
      "Train Accuracy: 99.44%\n",
      "Test loss: 1.123, Val Accuracy: 68.18%\n",
      "Epoch 17\n",
      "Train Accuracy: 99.72%\n",
      "Test loss: 1.126, Val Accuracy: 68.18%\n",
      "Epoch 18\n",
      "Train Accuracy: 99.91%\n",
      "Test loss: 1.139, Val Accuracy: 68.94%\n",
      "Epoch 19\n",
      "Train Accuracy: 99.81%\n",
      "Test loss: 1.139, Val Accuracy: 70.08%\n",
      "Epoch 20\n",
      "Train Accuracy: 99.81%\n",
      "Test loss: 1.115, Val Accuracy: 68.94%\n"
     ]
    },
    {
     "data": {
      "application/vnd.jupyter.widget-view+json": {
       "model_id": "62e75b9d5af7406a87d625b61f4a6cd7",
       "version_major": 2,
       "version_minor": 0
      },
      "text/plain": [
       "VBox(children=(Label(value='0.192 MB of 0.192 MB uploaded\\r'), FloatProgress(value=1.0, max=1.0)))"
      ]
     },
     "metadata": {},
     "output_type": "display_data"
    },
    {
     "data": {
      "text/html": [
       "<style>\n",
       "    table.wandb td:nth-child(1) { padding: 0 10px; text-align: left ; width: auto;} td:nth-child(2) {text-align: left ; width: 100%}\n",
       "    .wandb-row { display: flex; flex-direction: row; flex-wrap: wrap; justify-content: flex-start; width: 100% }\n",
       "    .wandb-col { display: flex; flex-direction: column; flex-basis: 100%; flex: 1; padding: 10px; }\n",
       "    </style>\n",
       "<div class=\"wandb-row\"><div class=\"wandb-col\"><h3>Run history:</h3><br/><table class=\"wandb\"><tr><td>epoch</td><td>▁▁▂▂▂▃▃▄▄▄▅▅▅▆▆▇▇▇██</td></tr><tr><td>iter_accuracy</td><td>▁▄▅▅▆▆▆▆▇▇▇█████████████████████████████</td></tr><tr><td>tr_accuracy</td><td>▁▄▆▆▆▇▇▇████████████</td></tr><tr><td>val_accuracy</td><td>▁▄▅▅▅▆▆▇██▇██▇▇▇▇▇▇▇</td></tr></table><br/></div><div class=\"wandb-col\"><h3>Run summary:</h3><br/><table class=\"wandb\"><tr><td>epoch</td><td>19</td></tr><tr><td>iter_accuracy</td><td>100.0</td></tr><tr><td>tr_accuracy</td><td>99.81447</td></tr><tr><td>val_accuracy</td><td>68.93939</td></tr></table><br/></div></div>"
      ],
      "text/plain": [
       "<IPython.core.display.HTML object>"
      ]
     },
     "metadata": {},
     "output_type": "display_data"
    },
    {
     "data": {
      "text/html": [
       " View run <strong style=\"color:#cdcd00\">tough-sweep-23</strong> at: <a href='https://wandb.ai/bhkim003-seoul-national-university/reservoir/runs/4iruolld' target=\"_blank\">https://wandb.ai/bhkim003-seoul-national-university/reservoir/runs/4iruolld</a><br/> View project at: <a href='https://wandb.ai/bhkim003-seoul-national-university/reservoir' target=\"_blank\">https://wandb.ai/bhkim003-seoul-national-university/reservoir</a><br/>Synced 7 W&B file(s), 0 media file(s), 0 artifact file(s) and 1 other file(s)"
      ],
      "text/plain": [
       "<IPython.core.display.HTML object>"
      ]
     },
     "metadata": {},
     "output_type": "display_data"
    },
    {
     "data": {
      "text/html": [
       "Find logs at: <code>./wandb/run-20240727_011425-4iruolld/logs</code>"
      ],
      "text/plain": [
       "<IPython.core.display.HTML object>"
      ]
     },
     "metadata": {},
     "output_type": "display_data"
    },
    {
     "data": {
      "text/html": [
       "The new W&B backend becomes opt-out in version 0.18.0; try it out with `wandb.require(\"core\")`! See https://wandb.me/wandb-core for more information."
      ],
      "text/plain": [
       "<IPython.core.display.HTML object>"
      ]
     },
     "metadata": {},
     "output_type": "display_data"
    },
    {
     "name": "stderr",
     "output_type": "stream",
     "text": [
      "\u001b[34m\u001b[1mwandb\u001b[0m: Agent Starting Run: l1bfjawp with config:\n",
      "\u001b[34m\u001b[1mwandb\u001b[0m: \tEPOCH: 20\n",
      "\u001b[34m\u001b[1mwandb\u001b[0m: \tFC_RESERVOIR: True\n",
      "\u001b[34m\u001b[1mwandb\u001b[0m: \tIMAGE_SIZE: 16\n",
      "\u001b[34m\u001b[1mwandb\u001b[0m: \tbatch_size: 128\n",
      "\u001b[34m\u001b[1mwandb\u001b[0m: \tdata_path: /data2\n",
      "\u001b[34m\u001b[1mwandb\u001b[0m: \tdecay: 0.3651960863653029\n",
      "\u001b[34m\u001b[1mwandb\u001b[0m: \tdvs_clipping: True\n",
      "\u001b[34m\u001b[1mwandb\u001b[0m: \tdvs_duration: 100000\n",
      "\u001b[34m\u001b[1mwandb\u001b[0m: \tlearning_rate: 0.08873277940652792\n",
      "\u001b[34m\u001b[1mwandb\u001b[0m: \tno_reservoir: True\n",
      "\u001b[34m\u001b[1mwandb\u001b[0m: \tpre_spike_weight: 4.811372684080855\n",
      "\u001b[34m\u001b[1mwandb\u001b[0m: \trate_coding: False\n",
      "\u001b[34m\u001b[1mwandb\u001b[0m: \ttime_step: 8\n",
      "\u001b[34m\u001b[1mwandb\u001b[0m: \twhich_data: DVS_GESTURE\n",
      "Failed to detect the name of this notebook, you can set it manually with the WANDB_NOTEBOOK_NAME environment variable to enable code saving.\n"
     ]
    },
    {
     "data": {
      "text/html": [
       "Tracking run with wandb version 0.17.5"
      ],
      "text/plain": [
       "<IPython.core.display.HTML object>"
      ]
     },
     "metadata": {},
     "output_type": "display_data"
    },
    {
     "data": {
      "text/html": [
       "Run data is saved locally in <code>/nfs/home/bhkim003/github_folder/ByeonghyeonKim/my_snn/wandb/run-20240727_013512-l1bfjawp</code>"
      ],
      "text/plain": [
       "<IPython.core.display.HTML object>"
      ]
     },
     "metadata": {},
     "output_type": "display_data"
    },
    {
     "data": {
      "text/html": [
       "Syncing run <strong><a href='https://wandb.ai/bhkim003-seoul-national-university/reservoir/runs/l1bfjawp' target=\"_blank\">breezy-sweep-24</a></strong> to <a href='https://wandb.ai/bhkim003-seoul-national-university/reservoir' target=\"_blank\">Weights & Biases</a> (<a href='https://wandb.me/run' target=\"_blank\">docs</a>)<br/>Sweep page: <a href='https://wandb.ai/bhkim003-seoul-national-university/reservoir/sweeps/sxt07a51' target=\"_blank\">https://wandb.ai/bhkim003-seoul-national-university/reservoir/sweeps/sxt07a51</a>"
      ],
      "text/plain": [
       "<IPython.core.display.HTML object>"
      ]
     },
     "metadata": {},
     "output_type": "display_data"
    },
    {
     "data": {
      "text/html": [
       " View project at <a href='https://wandb.ai/bhkim003-seoul-national-university/reservoir' target=\"_blank\">https://wandb.ai/bhkim003-seoul-national-university/reservoir</a>"
      ],
      "text/plain": [
       "<IPython.core.display.HTML object>"
      ]
     },
     "metadata": {},
     "output_type": "display_data"
    },
    {
     "data": {
      "text/html": [
       " View sweep at <a href='https://wandb.ai/bhkim003-seoul-national-university/reservoir/sweeps/sxt07a51' target=\"_blank\">https://wandb.ai/bhkim003-seoul-national-university/reservoir/sweeps/sxt07a51</a>"
      ],
      "text/plain": [
       "<IPython.core.display.HTML object>"
      ]
     },
     "metadata": {},
     "output_type": "display_data"
    },
    {
     "data": {
      "text/html": [
       " View run at <a href='https://wandb.ai/bhkim003-seoul-national-university/reservoir/runs/l1bfjawp' target=\"_blank\">https://wandb.ai/bhkim003-seoul-national-university/reservoir/runs/l1bfjawp</a>"
      ],
      "text/plain": [
       "<IPython.core.display.HTML object>"
      ]
     },
     "metadata": {},
     "output_type": "display_data"
    },
    {
     "name": "stderr",
     "output_type": "stream",
     "text": [
      "\u001b[34m\u001b[1mwandb\u001b[0m: \u001b[33mWARNING\u001b[0m Config item 'data_path' was locked by 'sweep' (ignored update).\n",
      "\u001b[34m\u001b[1mwandb\u001b[0m: \u001b[33mWARNING\u001b[0m Config item 'which_data' was locked by 'sweep' (ignored update).\n",
      "\u001b[34m\u001b[1mwandb\u001b[0m: \u001b[33mWARNING\u001b[0m Config item 'learning_rate' was locked by 'sweep' (ignored update).\n",
      "\u001b[34m\u001b[1mwandb\u001b[0m: \u001b[33mWARNING\u001b[0m Config item 'IMAGE_SIZE' was locked by 'sweep' (ignored update).\n",
      "\u001b[34m\u001b[1mwandb\u001b[0m: \u001b[33mWARNING\u001b[0m Config item 'EPOCH' was locked by 'sweep' (ignored update).\n",
      "\u001b[34m\u001b[1mwandb\u001b[0m: \u001b[33mWARNING\u001b[0m Config item 'rate_coding' was locked by 'sweep' (ignored update).\n",
      "\u001b[34m\u001b[1mwandb\u001b[0m: \u001b[33mWARNING\u001b[0m Config item 'pre_spike_weight' was locked by 'sweep' (ignored update).\n",
      "\u001b[34m\u001b[1mwandb\u001b[0m: \u001b[33mWARNING\u001b[0m Config item 'dvs_duration' was locked by 'sweep' (ignored update).\n",
      "\u001b[34m\u001b[1mwandb\u001b[0m: \u001b[33mWARNING\u001b[0m Config item 'dvs_clipping' was locked by 'sweep' (ignored update).\n",
      "\u001b[34m\u001b[1mwandb\u001b[0m: \u001b[33mWARNING\u001b[0m Config item 'no_reservoir' was locked by 'sweep' (ignored update).\n",
      "\u001b[34m\u001b[1mwandb\u001b[0m: \u001b[33mWARNING\u001b[0m Config item 'FC_RESERVOIR' was locked by 'sweep' (ignored update).\n"
     ]
    },
    {
     "name": "stdout",
     "output_type": "stream",
     "text": [
      "The directory [/data2/gesture/duration_100000] already exists.\n",
      "The directory [/data2/gesture/duration_100000] already exists.\n",
      "RESERVOIR_NET(\n",
      "  (classifier): Linear(in_features=512, out_features=10, bias=True)\n",
      ")\n",
      "Epoch 1\n",
      "Train Accuracy: 22.82%\n",
      "Test loss: 1.676, Val Accuracy: 42.05%\n",
      "Epoch 2\n",
      "Train Accuracy: 50.19%\n",
      "Test loss: 1.498, Val Accuracy: 45.08%\n",
      "Epoch 3\n",
      "Train Accuracy: 59.93%\n",
      "Test loss: 1.480, Val Accuracy: 54.17%\n",
      "Epoch 4\n",
      "Train Accuracy: 65.40%\n",
      "Test loss: 1.361, Val Accuracy: 55.30%\n",
      "Epoch 5\n",
      "Train Accuracy: 69.20%\n",
      "Test loss: 1.345, Val Accuracy: 54.17%\n",
      "Epoch 6\n",
      "Train Accuracy: 71.99%\n",
      "Test loss: 1.186, Val Accuracy: 60.98%\n",
      "Epoch 7\n",
      "Train Accuracy: 74.77%\n",
      "Test loss: 1.218, Val Accuracy: 62.12%\n",
      "Epoch 8\n",
      "Train Accuracy: 76.90%\n",
      "Test loss: 1.417, Val Accuracy: 59.09%\n",
      "Epoch 9\n",
      "Train Accuracy: 78.85%\n",
      "Test loss: 1.220, Val Accuracy: 62.88%\n",
      "Epoch 10\n",
      "Train Accuracy: 79.87%\n",
      "Test loss: 1.197, Val Accuracy: 61.36%\n",
      "Epoch 11\n",
      "Train Accuracy: 81.35%\n",
      "Test loss: 1.207, Val Accuracy: 64.02%\n",
      "Epoch 12\n",
      "Train Accuracy: 83.40%\n",
      "Test loss: 1.213, Val Accuracy: 65.15%\n",
      "Epoch 13\n",
      "Train Accuracy: 83.95%\n",
      "Test loss: 1.342, Val Accuracy: 61.74%\n",
      "Epoch 14\n",
      "Train Accuracy: 83.77%\n",
      "Test loss: 1.109, Val Accuracy: 62.50%\n",
      "Epoch 15\n",
      "Train Accuracy: 84.14%\n",
      "Test loss: 1.288, Val Accuracy: 61.74%\n",
      "Epoch 16\n",
      "Train Accuracy: 86.55%\n",
      "Test loss: 1.298, Val Accuracy: 62.88%\n",
      "Epoch 17\n",
      "Train Accuracy: 85.71%\n",
      "Test loss: 1.098, Val Accuracy: 64.02%\n",
      "Epoch 18\n",
      "Train Accuracy: 85.71%\n",
      "Test loss: 1.231, Val Accuracy: 64.39%\n",
      "Epoch 19\n",
      "Train Accuracy: 87.29%\n",
      "Test loss: 1.206, Val Accuracy: 62.50%\n",
      "Epoch 20\n",
      "Train Accuracy: 88.03%\n",
      "Test loss: 1.262, Val Accuracy: 59.85%\n"
     ]
    },
    {
     "data": {
      "application/vnd.jupyter.widget-view+json": {
       "model_id": "8b7349f87ba145f88664e991defb7f63",
       "version_major": 2,
       "version_minor": 0
      },
      "text/plain": [
       "VBox(children=(Label(value='0.192 MB of 0.192 MB uploaded\\r'), FloatProgress(value=1.0, max=1.0)))"
      ]
     },
     "metadata": {},
     "output_type": "display_data"
    },
    {
     "data": {
      "text/html": [
       "<style>\n",
       "    table.wandb td:nth-child(1) { padding: 0 10px; text-align: left ; width: auto;} td:nth-child(2) {text-align: left ; width: 100%}\n",
       "    .wandb-row { display: flex; flex-direction: row; flex-wrap: wrap; justify-content: flex-start; width: 100% }\n",
       "    .wandb-col { display: flex; flex-direction: column; flex-basis: 100%; flex: 1; padding: 10px; }\n",
       "    </style>\n",
       "<div class=\"wandb-row\"><div class=\"wandb-col\"><h3>Run history:</h3><br/><table class=\"wandb\"><tr><td>epoch</td><td>▁▁▂▂▂▃▃▄▄▄▅▅▅▆▆▇▇▇██</td></tr><tr><td>iter_accuracy</td><td>▁▂▄▄▅▆▆▅▆▆▆▆▆▆▆▇▇▇▆▇▇█▇▇▇▇▇▇▇▆▇▇▇█▇▇█▇▇█</td></tr><tr><td>tr_accuracy</td><td>▁▄▅▆▆▆▇▇▇▇▇█████████</td></tr><tr><td>val_accuracy</td><td>▁▂▅▅▅▇▇▆▇▇██▇▇▇▇██▇▆</td></tr></table><br/></div><div class=\"wandb-col\"><h3>Run summary:</h3><br/><table class=\"wandb\"><tr><td>epoch</td><td>19</td></tr><tr><td>iter_accuracy</td><td>94.44444</td></tr><tr><td>tr_accuracy</td><td>88.0334</td></tr><tr><td>val_accuracy</td><td>59.84848</td></tr></table><br/></div></div>"
      ],
      "text/plain": [
       "<IPython.core.display.HTML object>"
      ]
     },
     "metadata": {},
     "output_type": "display_data"
    },
    {
     "data": {
      "text/html": [
       " View run <strong style=\"color:#cdcd00\">breezy-sweep-24</strong> at: <a href='https://wandb.ai/bhkim003-seoul-national-university/reservoir/runs/l1bfjawp' target=\"_blank\">https://wandb.ai/bhkim003-seoul-national-university/reservoir/runs/l1bfjawp</a><br/> View project at: <a href='https://wandb.ai/bhkim003-seoul-national-university/reservoir' target=\"_blank\">https://wandb.ai/bhkim003-seoul-national-university/reservoir</a><br/>Synced 7 W&B file(s), 0 media file(s), 0 artifact file(s) and 1 other file(s)"
      ],
      "text/plain": [
       "<IPython.core.display.HTML object>"
      ]
     },
     "metadata": {},
     "output_type": "display_data"
    },
    {
     "data": {
      "text/html": [
       "Find logs at: <code>./wandb/run-20240727_013512-l1bfjawp/logs</code>"
      ],
      "text/plain": [
       "<IPython.core.display.HTML object>"
      ]
     },
     "metadata": {},
     "output_type": "display_data"
    },
    {
     "data": {
      "text/html": [
       "The new W&B backend becomes opt-out in version 0.18.0; try it out with `wandb.require(\"core\")`! See https://wandb.me/wandb-core for more information."
      ],
      "text/plain": [
       "<IPython.core.display.HTML object>"
      ]
     },
     "metadata": {},
     "output_type": "display_data"
    },
    {
     "name": "stderr",
     "output_type": "stream",
     "text": [
      "\u001b[34m\u001b[1mwandb\u001b[0m: Agent Starting Run: ttl2yv2q with config:\n",
      "\u001b[34m\u001b[1mwandb\u001b[0m: \tEPOCH: 20\n",
      "\u001b[34m\u001b[1mwandb\u001b[0m: \tFC_RESERVOIR: True\n",
      "\u001b[34m\u001b[1mwandb\u001b[0m: \tIMAGE_SIZE: 32\n",
      "\u001b[34m\u001b[1mwandb\u001b[0m: \tbatch_size: 64\n",
      "\u001b[34m\u001b[1mwandb\u001b[0m: \tdata_path: /data2\n",
      "\u001b[34m\u001b[1mwandb\u001b[0m: \tdecay: 0.7798913704179237\n",
      "\u001b[34m\u001b[1mwandb\u001b[0m: \tdvs_clipping: True\n",
      "\u001b[34m\u001b[1mwandb\u001b[0m: \tdvs_duration: 100000\n",
      "\u001b[34m\u001b[1mwandb\u001b[0m: \tlearning_rate: 0.050514215383424856\n",
      "\u001b[34m\u001b[1mwandb\u001b[0m: \tno_reservoir: False\n",
      "\u001b[34m\u001b[1mwandb\u001b[0m: \tpre_spike_weight: 7.318676042191916\n",
      "\u001b[34m\u001b[1mwandb\u001b[0m: \trate_coding: True\n",
      "\u001b[34m\u001b[1mwandb\u001b[0m: \ttime_step: 4\n",
      "\u001b[34m\u001b[1mwandb\u001b[0m: \twhich_data: DVS_GESTURE\n",
      "Failed to detect the name of this notebook, you can set it manually with the WANDB_NOTEBOOK_NAME environment variable to enable code saving.\n"
     ]
    },
    {
     "data": {
      "text/html": [
       "Tracking run with wandb version 0.17.5"
      ],
      "text/plain": [
       "<IPython.core.display.HTML object>"
      ]
     },
     "metadata": {},
     "output_type": "display_data"
    },
    {
     "data": {
      "text/html": [
       "Run data is saved locally in <code>/nfs/home/bhkim003/github_folder/ByeonghyeonKim/my_snn/wandb/run-20240727_014905-ttl2yv2q</code>"
      ],
      "text/plain": [
       "<IPython.core.display.HTML object>"
      ]
     },
     "metadata": {},
     "output_type": "display_data"
    },
    {
     "data": {
      "text/html": [
       "Syncing run <strong><a href='https://wandb.ai/bhkim003-seoul-national-university/reservoir/runs/ttl2yv2q' target=\"_blank\">chocolate-sweep-25</a></strong> to <a href='https://wandb.ai/bhkim003-seoul-national-university/reservoir' target=\"_blank\">Weights & Biases</a> (<a href='https://wandb.me/run' target=\"_blank\">docs</a>)<br/>Sweep page: <a href='https://wandb.ai/bhkim003-seoul-national-university/reservoir/sweeps/sxt07a51' target=\"_blank\">https://wandb.ai/bhkim003-seoul-national-university/reservoir/sweeps/sxt07a51</a>"
      ],
      "text/plain": [
       "<IPython.core.display.HTML object>"
      ]
     },
     "metadata": {},
     "output_type": "display_data"
    },
    {
     "data": {
      "text/html": [
       " View project at <a href='https://wandb.ai/bhkim003-seoul-national-university/reservoir' target=\"_blank\">https://wandb.ai/bhkim003-seoul-national-university/reservoir</a>"
      ],
      "text/plain": [
       "<IPython.core.display.HTML object>"
      ]
     },
     "metadata": {},
     "output_type": "display_data"
    },
    {
     "data": {
      "text/html": [
       " View sweep at <a href='https://wandb.ai/bhkim003-seoul-national-university/reservoir/sweeps/sxt07a51' target=\"_blank\">https://wandb.ai/bhkim003-seoul-national-university/reservoir/sweeps/sxt07a51</a>"
      ],
      "text/plain": [
       "<IPython.core.display.HTML object>"
      ]
     },
     "metadata": {},
     "output_type": "display_data"
    },
    {
     "data": {
      "text/html": [
       " View run at <a href='https://wandb.ai/bhkim003-seoul-national-university/reservoir/runs/ttl2yv2q' target=\"_blank\">https://wandb.ai/bhkim003-seoul-national-university/reservoir/runs/ttl2yv2q</a>"
      ],
      "text/plain": [
       "<IPython.core.display.HTML object>"
      ]
     },
     "metadata": {},
     "output_type": "display_data"
    },
    {
     "name": "stderr",
     "output_type": "stream",
     "text": [
      "\u001b[34m\u001b[1mwandb\u001b[0m: \u001b[33mWARNING\u001b[0m Config item 'data_path' was locked by 'sweep' (ignored update).\n",
      "\u001b[34m\u001b[1mwandb\u001b[0m: \u001b[33mWARNING\u001b[0m Config item 'which_data' was locked by 'sweep' (ignored update).\n",
      "\u001b[34m\u001b[1mwandb\u001b[0m: \u001b[33mWARNING\u001b[0m Config item 'learning_rate' was locked by 'sweep' (ignored update).\n",
      "\u001b[34m\u001b[1mwandb\u001b[0m: \u001b[33mWARNING\u001b[0m Config item 'IMAGE_SIZE' was locked by 'sweep' (ignored update).\n",
      "\u001b[34m\u001b[1mwandb\u001b[0m: \u001b[33mWARNING\u001b[0m Config item 'EPOCH' was locked by 'sweep' (ignored update).\n",
      "\u001b[34m\u001b[1mwandb\u001b[0m: \u001b[33mWARNING\u001b[0m Config item 'rate_coding' was locked by 'sweep' (ignored update).\n",
      "\u001b[34m\u001b[1mwandb\u001b[0m: \u001b[33mWARNING\u001b[0m Config item 'pre_spike_weight' was locked by 'sweep' (ignored update).\n",
      "\u001b[34m\u001b[1mwandb\u001b[0m: \u001b[33mWARNING\u001b[0m Config item 'dvs_duration' was locked by 'sweep' (ignored update).\n",
      "\u001b[34m\u001b[1mwandb\u001b[0m: \u001b[33mWARNING\u001b[0m Config item 'dvs_clipping' was locked by 'sweep' (ignored update).\n",
      "\u001b[34m\u001b[1mwandb\u001b[0m: \u001b[33mWARNING\u001b[0m Config item 'no_reservoir' was locked by 'sweep' (ignored update).\n",
      "\u001b[34m\u001b[1mwandb\u001b[0m: \u001b[33mWARNING\u001b[0m Config item 'FC_RESERVOIR' was locked by 'sweep' (ignored update).\n"
     ]
    },
    {
     "name": "stdout",
     "output_type": "stream",
     "text": [
      "The directory [/data2/gesture/duration_100000] already exists.\n",
      "The directory [/data2/gesture/duration_100000] already exists.\n",
      "RESERVOIR_NET(\n",
      "  (reservoir): RESERVOIR(\n",
      "    (reservoir): Linear(in_features=2048, out_features=2048, bias=True)\n",
      "  )\n",
      "  (classifier): Linear(in_features=2048, out_features=10, bias=True)\n",
      ")\n",
      "Epoch 1\n",
      "Train Accuracy: 32.84%\n",
      "Test loss: 1.447, Val Accuracy: 44.70%\n",
      "Epoch 2\n",
      "Train Accuracy: 59.65%\n",
      "Test loss: 2.024, Val Accuracy: 49.24%\n",
      "Epoch 3\n",
      "Train Accuracy: 68.09%\n",
      "Test loss: 1.718, Val Accuracy: 51.14%\n",
      "Epoch 4\n",
      "Train Accuracy: 82.10%\n",
      "Test loss: 1.680, Val Accuracy: 56.44%\n",
      "Epoch 5\n",
      "Train Accuracy: 90.26%\n",
      "Test loss: 1.321, Val Accuracy: 64.77%\n",
      "Epoch 6\n",
      "Train Accuracy: 95.83%\n",
      "Test loss: 1.454, Val Accuracy: 58.33%\n",
      "Epoch 7\n",
      "Train Accuracy: 97.59%\n",
      "Test loss: 1.495, Val Accuracy: 57.95%\n",
      "Epoch 8\n",
      "Train Accuracy: 97.96%\n",
      "Test loss: 1.647, Val Accuracy: 59.47%\n",
      "Epoch 9\n",
      "Train Accuracy: 99.54%\n",
      "Test loss: 1.418, Val Accuracy: 59.47%\n",
      "Epoch 10\n",
      "Train Accuracy: 99.54%\n",
      "Test loss: 1.536, Val Accuracy: 60.98%\n",
      "Epoch 11\n",
      "Train Accuracy: 99.81%\n",
      "Test loss: 1.362, Val Accuracy: 60.23%\n",
      "Epoch 12\n",
      "Train Accuracy: 99.91%\n",
      "Test loss: 1.506, Val Accuracy: 60.61%\n",
      "Epoch 13\n",
      "Train Accuracy: 100.00%\n",
      "Test loss: 1.504, Val Accuracy: 61.74%\n",
      "Epoch 14\n",
      "Train Accuracy: 100.00%\n",
      "Test loss: 1.410, Val Accuracy: 60.23%\n",
      "Epoch 15\n",
      "Train Accuracy: 100.00%\n",
      "Test loss: 1.456, Val Accuracy: 59.85%\n",
      "Epoch 16\n",
      "Train Accuracy: 100.00%\n",
      "Test loss: 1.455, Val Accuracy: 62.12%\n",
      "Epoch 17\n",
      "Train Accuracy: 100.00%\n",
      "Test loss: 1.511, Val Accuracy: 61.36%\n",
      "Epoch 18\n",
      "Train Accuracy: 100.00%\n",
      "Test loss: 1.476, Val Accuracy: 61.74%\n",
      "Epoch 19\n",
      "Train Accuracy: 100.00%\n",
      "Test loss: 1.614, Val Accuracy: 61.36%\n",
      "Epoch 20\n",
      "Train Accuracy: 100.00%\n",
      "Test loss: 1.591, Val Accuracy: 61.36%\n"
     ]
    },
    {
     "data": {
      "application/vnd.jupyter.widget-view+json": {
       "model_id": "07174e2dea3a4a3ca1c5f4220f55f905",
       "version_major": 2,
       "version_minor": 0
      },
      "text/plain": [
       "VBox(children=(Label(value='0.192 MB of 0.192 MB uploaded\\r'), FloatProgress(value=1.0, max=1.0)))"
      ]
     },
     "metadata": {},
     "output_type": "display_data"
    },
    {
     "data": {
      "text/html": [
       "<style>\n",
       "    table.wandb td:nth-child(1) { padding: 0 10px; text-align: left ; width: auto;} td:nth-child(2) {text-align: left ; width: 100%}\n",
       "    .wandb-row { display: flex; flex-direction: row; flex-wrap: wrap; justify-content: flex-start; width: 100% }\n",
       "    .wandb-col { display: flex; flex-direction: column; flex-basis: 100%; flex: 1; padding: 10px; }\n",
       "    </style>\n",
       "<div class=\"wandb-row\"><div class=\"wandb-col\"><h3>Run history:</h3><br/><table class=\"wandb\"><tr><td>epoch</td><td>▁▁▂▂▂▃▃▄▄▄▅▅▅▆▆▇▇▇██</td></tr><tr><td>iter_accuracy</td><td>▁▄▄▅▅▅▆▆▇▇▇█████████████████████████████</td></tr><tr><td>tr_accuracy</td><td>▁▄▅▆▇███████████████</td></tr><tr><td>val_accuracy</td><td>▁▃▃▅█▆▆▆▆▇▆▇▇▆▆▇▇▇▇▇</td></tr></table><br/></div><div class=\"wandb-col\"><h3>Run summary:</h3><br/><table class=\"wandb\"><tr><td>epoch</td><td>19</td></tr><tr><td>iter_accuracy</td><td>100.0</td></tr><tr><td>tr_accuracy</td><td>100.0</td></tr><tr><td>val_accuracy</td><td>61.36364</td></tr></table><br/></div></div>"
      ],
      "text/plain": [
       "<IPython.core.display.HTML object>"
      ]
     },
     "metadata": {},
     "output_type": "display_data"
    },
    {
     "data": {
      "text/html": [
       " View run <strong style=\"color:#cdcd00\">chocolate-sweep-25</strong> at: <a href='https://wandb.ai/bhkim003-seoul-national-university/reservoir/runs/ttl2yv2q' target=\"_blank\">https://wandb.ai/bhkim003-seoul-national-university/reservoir/runs/ttl2yv2q</a><br/> View project at: <a href='https://wandb.ai/bhkim003-seoul-national-university/reservoir' target=\"_blank\">https://wandb.ai/bhkim003-seoul-national-university/reservoir</a><br/>Synced 7 W&B file(s), 0 media file(s), 0 artifact file(s) and 1 other file(s)"
      ],
      "text/plain": [
       "<IPython.core.display.HTML object>"
      ]
     },
     "metadata": {},
     "output_type": "display_data"
    },
    {
     "data": {
      "text/html": [
       "Find logs at: <code>./wandb/run-20240727_014905-ttl2yv2q/logs</code>"
      ],
      "text/plain": [
       "<IPython.core.display.HTML object>"
      ]
     },
     "metadata": {},
     "output_type": "display_data"
    },
    {
     "data": {
      "text/html": [
       "The new W&B backend becomes opt-out in version 0.18.0; try it out with `wandb.require(\"core\")`! See https://wandb.me/wandb-core for more information."
      ],
      "text/plain": [
       "<IPython.core.display.HTML object>"
      ]
     },
     "metadata": {},
     "output_type": "display_data"
    },
    {
     "name": "stderr",
     "output_type": "stream",
     "text": [
      "\u001b[34m\u001b[1mwandb\u001b[0m: Sweep Agent: Waiting for job.\n",
      "\u001b[34m\u001b[1mwandb\u001b[0m: Job received.\n",
      "\u001b[34m\u001b[1mwandb\u001b[0m: Agent Starting Run: lx0noc7o with config:\n",
      "\u001b[34m\u001b[1mwandb\u001b[0m: \tEPOCH: 20\n",
      "\u001b[34m\u001b[1mwandb\u001b[0m: \tFC_RESERVOIR: True\n",
      "\u001b[34m\u001b[1mwandb\u001b[0m: \tIMAGE_SIZE: 16\n",
      "\u001b[34m\u001b[1mwandb\u001b[0m: \tbatch_size: 128\n",
      "\u001b[34m\u001b[1mwandb\u001b[0m: \tdata_path: /data2\n",
      "\u001b[34m\u001b[1mwandb\u001b[0m: \tdecay: 0.7150045624850768\n",
      "\u001b[34m\u001b[1mwandb\u001b[0m: \tdvs_clipping: True\n",
      "\u001b[34m\u001b[1mwandb\u001b[0m: \tdvs_duration: 100000\n",
      "\u001b[34m\u001b[1mwandb\u001b[0m: \tlearning_rate: 0.08822955993065013\n",
      "\u001b[34m\u001b[1mwandb\u001b[0m: \tno_reservoir: False\n",
      "\u001b[34m\u001b[1mwandb\u001b[0m: \tpre_spike_weight: 2.835472015117097\n",
      "\u001b[34m\u001b[1mwandb\u001b[0m: \trate_coding: True\n",
      "\u001b[34m\u001b[1mwandb\u001b[0m: \ttime_step: 6\n",
      "\u001b[34m\u001b[1mwandb\u001b[0m: \twhich_data: DVS_GESTURE\n",
      "Failed to detect the name of this notebook, you can set it manually with the WANDB_NOTEBOOK_NAME environment variable to enable code saving.\n"
     ]
    },
    {
     "data": {
      "application/vnd.jupyter.widget-view+json": {
       "model_id": "d16273cc92f747dc9d1963956c9fc03e",
       "version_major": 2,
       "version_minor": 0
      },
      "text/plain": [
       "VBox(children=(Label(value='Waiting for wandb.init()...\\r'), FloatProgress(value=0.011113875778391957, max=1.0…"
      ]
     },
     "metadata": {},
     "output_type": "display_data"
    },
    {
     "data": {
      "text/html": [
       "Tracking run with wandb version 0.17.5"
      ],
      "text/plain": [
       "<IPython.core.display.HTML object>"
      ]
     },
     "metadata": {},
     "output_type": "display_data"
    },
    {
     "data": {
      "text/html": [
       "Run data is saved locally in <code>/nfs/home/bhkim003/github_folder/ByeonghyeonKim/my_snn/wandb/run-20240727_020310-lx0noc7o</code>"
      ],
      "text/plain": [
       "<IPython.core.display.HTML object>"
      ]
     },
     "metadata": {},
     "output_type": "display_data"
    },
    {
     "data": {
      "text/html": [
       "Syncing run <strong><a href='https://wandb.ai/bhkim003-seoul-national-university/reservoir/runs/lx0noc7o' target=\"_blank\">faithful-sweep-26</a></strong> to <a href='https://wandb.ai/bhkim003-seoul-national-university/reservoir' target=\"_blank\">Weights & Biases</a> (<a href='https://wandb.me/run' target=\"_blank\">docs</a>)<br/>Sweep page: <a href='https://wandb.ai/bhkim003-seoul-national-university/reservoir/sweeps/sxt07a51' target=\"_blank\">https://wandb.ai/bhkim003-seoul-national-university/reservoir/sweeps/sxt07a51</a>"
      ],
      "text/plain": [
       "<IPython.core.display.HTML object>"
      ]
     },
     "metadata": {},
     "output_type": "display_data"
    },
    {
     "data": {
      "text/html": [
       " View project at <a href='https://wandb.ai/bhkim003-seoul-national-university/reservoir' target=\"_blank\">https://wandb.ai/bhkim003-seoul-national-university/reservoir</a>"
      ],
      "text/plain": [
       "<IPython.core.display.HTML object>"
      ]
     },
     "metadata": {},
     "output_type": "display_data"
    },
    {
     "data": {
      "text/html": [
       " View sweep at <a href='https://wandb.ai/bhkim003-seoul-national-university/reservoir/sweeps/sxt07a51' target=\"_blank\">https://wandb.ai/bhkim003-seoul-national-university/reservoir/sweeps/sxt07a51</a>"
      ],
      "text/plain": [
       "<IPython.core.display.HTML object>"
      ]
     },
     "metadata": {},
     "output_type": "display_data"
    },
    {
     "data": {
      "text/html": [
       " View run at <a href='https://wandb.ai/bhkim003-seoul-national-university/reservoir/runs/lx0noc7o' target=\"_blank\">https://wandb.ai/bhkim003-seoul-national-university/reservoir/runs/lx0noc7o</a>"
      ],
      "text/plain": [
       "<IPython.core.display.HTML object>"
      ]
     },
     "metadata": {},
     "output_type": "display_data"
    },
    {
     "name": "stderr",
     "output_type": "stream",
     "text": [
      "\u001b[34m\u001b[1mwandb\u001b[0m: \u001b[33mWARNING\u001b[0m Config item 'data_path' was locked by 'sweep' (ignored update).\n",
      "\u001b[34m\u001b[1mwandb\u001b[0m: \u001b[33mWARNING\u001b[0m Config item 'which_data' was locked by 'sweep' (ignored update).\n",
      "\u001b[34m\u001b[1mwandb\u001b[0m: \u001b[33mWARNING\u001b[0m Config item 'learning_rate' was locked by 'sweep' (ignored update).\n",
      "\u001b[34m\u001b[1mwandb\u001b[0m: \u001b[33mWARNING\u001b[0m Config item 'IMAGE_SIZE' was locked by 'sweep' (ignored update).\n",
      "\u001b[34m\u001b[1mwandb\u001b[0m: \u001b[33mWARNING\u001b[0m Config item 'EPOCH' was locked by 'sweep' (ignored update).\n",
      "\u001b[34m\u001b[1mwandb\u001b[0m: \u001b[33mWARNING\u001b[0m Config item 'rate_coding' was locked by 'sweep' (ignored update).\n",
      "\u001b[34m\u001b[1mwandb\u001b[0m: \u001b[33mWARNING\u001b[0m Config item 'pre_spike_weight' was locked by 'sweep' (ignored update).\n",
      "\u001b[34m\u001b[1mwandb\u001b[0m: \u001b[33mWARNING\u001b[0m Config item 'dvs_duration' was locked by 'sweep' (ignored update).\n",
      "\u001b[34m\u001b[1mwandb\u001b[0m: \u001b[33mWARNING\u001b[0m Config item 'dvs_clipping' was locked by 'sweep' (ignored update).\n",
      "\u001b[34m\u001b[1mwandb\u001b[0m: \u001b[33mWARNING\u001b[0m Config item 'no_reservoir' was locked by 'sweep' (ignored update).\n",
      "\u001b[34m\u001b[1mwandb\u001b[0m: \u001b[33mWARNING\u001b[0m Config item 'FC_RESERVOIR' was locked by 'sweep' (ignored update).\n"
     ]
    },
    {
     "name": "stdout",
     "output_type": "stream",
     "text": [
      "The directory [/data2/gesture/duration_100000] already exists.\n",
      "The directory [/data2/gesture/duration_100000] already exists.\n",
      "RESERVOIR_NET(\n",
      "  (reservoir): RESERVOIR(\n",
      "    (reservoir): Linear(in_features=512, out_features=512, bias=True)\n",
      "  )\n",
      "  (classifier): Linear(in_features=512, out_features=10, bias=True)\n",
      ")\n",
      "Epoch 1\n",
      "Train Accuracy: 21.99%\n",
      "Test loss: 1.648, Val Accuracy: 37.12%\n",
      "Epoch 2\n",
      "Train Accuracy: 47.59%\n",
      "Test loss: 1.673, Val Accuracy: 39.39%\n",
      "Epoch 3\n",
      "Train Accuracy: 55.66%\n",
      "Test loss: 1.541, Val Accuracy: 48.86%\n",
      "Epoch 4\n",
      "Train Accuracy: 61.78%\n",
      "Test loss: 1.513, Val Accuracy: 51.14%\n",
      "Epoch 5\n",
      "Train Accuracy: 65.40%\n",
      "Test loss: 1.248, Val Accuracy: 56.06%\n",
      "Epoch 6\n",
      "Train Accuracy: 70.87%\n",
      "Test loss: 1.223, Val Accuracy: 55.68%\n",
      "Epoch 7\n",
      "Train Accuracy: 75.51%\n",
      "Test loss: 1.366, Val Accuracy: 53.79%\n",
      "Epoch 8\n",
      "Train Accuracy: 76.62%\n",
      "Test loss: 1.346, Val Accuracy: 57.95%\n",
      "Epoch 9\n",
      "Train Accuracy: 78.76%\n",
      "Test loss: 1.315, Val Accuracy: 58.71%\n",
      "Epoch 10\n",
      "Train Accuracy: 80.80%\n",
      "Test loss: 1.198, Val Accuracy: 58.33%\n",
      "Epoch 11\n",
      "Train Accuracy: 82.37%\n",
      "Test loss: 1.433, Val Accuracy: 60.23%\n",
      "Epoch 12\n",
      "Train Accuracy: 83.40%\n",
      "Test loss: 1.209, Val Accuracy: 60.61%\n",
      "Epoch 13\n",
      "Train Accuracy: 85.06%\n",
      "Test loss: 1.286, Val Accuracy: 60.61%\n",
      "Epoch 14\n",
      "Train Accuracy: 85.99%\n",
      "Test loss: 1.421, Val Accuracy: 59.47%\n",
      "Epoch 15\n",
      "Train Accuracy: 84.23%\n",
      "Test loss: 1.135, Val Accuracy: 57.58%\n",
      "Epoch 16\n",
      "Train Accuracy: 86.64%\n",
      "Test loss: 1.263, Val Accuracy: 58.71%\n",
      "Epoch 17\n",
      "Train Accuracy: 87.48%\n",
      "Test loss: 1.323, Val Accuracy: 59.47%\n",
      "Epoch 18\n",
      "Train Accuracy: 88.13%\n",
      "Test loss: 1.253, Val Accuracy: 59.47%\n",
      "Epoch 19\n",
      "Train Accuracy: 89.33%\n",
      "Test loss: 1.324, Val Accuracy: 60.98%\n",
      "Epoch 20\n",
      "Train Accuracy: 88.68%\n",
      "Test loss: 1.377, Val Accuracy: 60.23%\n"
     ]
    },
    {
     "data": {
      "application/vnd.jupyter.widget-view+json": {
       "model_id": "9ff7230f01c647c3a64cc7be53df5ace",
       "version_major": 2,
       "version_minor": 0
      },
      "text/plain": [
       "VBox(children=(Label(value='0.192 MB of 0.192 MB uploaded\\r'), FloatProgress(value=1.0, max=1.0)))"
      ]
     },
     "metadata": {},
     "output_type": "display_data"
    },
    {
     "data": {
      "text/html": [
       "<style>\n",
       "    table.wandb td:nth-child(1) { padding: 0 10px; text-align: left ; width: auto;} td:nth-child(2) {text-align: left ; width: 100%}\n",
       "    .wandb-row { display: flex; flex-direction: row; flex-wrap: wrap; justify-content: flex-start; width: 100% }\n",
       "    .wandb-col { display: flex; flex-direction: column; flex-basis: 100%; flex: 1; padding: 10px; }\n",
       "    </style>\n",
       "<div class=\"wandb-row\"><div class=\"wandb-col\"><h3>Run history:</h3><br/><table class=\"wandb\"><tr><td>epoch</td><td>▁▁▂▂▂▃▃▄▄▄▅▅▅▆▆▇▇▇██</td></tr><tr><td>iter_accuracy</td><td>▁▂▃▄▅▅▆▆▆▆▇▇▇▇▇▇▇▆▇▇▇██▇▇███▇██▇████████</td></tr><tr><td>tr_accuracy</td><td>▁▄▄▅▆▆▇▇▇▇▇▇██▇█████</td></tr><tr><td>val_accuracy</td><td>▁▂▄▅▇▆▆▇▇▇████▇▇████</td></tr></table><br/></div><div class=\"wandb-col\"><h3>Run summary:</h3><br/><table class=\"wandb\"><tr><td>epoch</td><td>19</td></tr><tr><td>iter_accuracy</td><td>87.03704</td></tr><tr><td>tr_accuracy</td><td>88.68275</td></tr><tr><td>val_accuracy</td><td>60.22727</td></tr></table><br/></div></div>"
      ],
      "text/plain": [
       "<IPython.core.display.HTML object>"
      ]
     },
     "metadata": {},
     "output_type": "display_data"
    },
    {
     "data": {
      "text/html": [
       " View run <strong style=\"color:#cdcd00\">faithful-sweep-26</strong> at: <a href='https://wandb.ai/bhkim003-seoul-national-university/reservoir/runs/lx0noc7o' target=\"_blank\">https://wandb.ai/bhkim003-seoul-national-university/reservoir/runs/lx0noc7o</a><br/> View project at: <a href='https://wandb.ai/bhkim003-seoul-national-university/reservoir' target=\"_blank\">https://wandb.ai/bhkim003-seoul-national-university/reservoir</a><br/>Synced 7 W&B file(s), 0 media file(s), 0 artifact file(s) and 1 other file(s)"
      ],
      "text/plain": [
       "<IPython.core.display.HTML object>"
      ]
     },
     "metadata": {},
     "output_type": "display_data"
    },
    {
     "data": {
      "text/html": [
       "Find logs at: <code>./wandb/run-20240727_020310-lx0noc7o/logs</code>"
      ],
      "text/plain": [
       "<IPython.core.display.HTML object>"
      ]
     },
     "metadata": {},
     "output_type": "display_data"
    },
    {
     "data": {
      "text/html": [
       "The new W&B backend becomes opt-out in version 0.18.0; try it out with `wandb.require(\"core\")`! See https://wandb.me/wandb-core for more information."
      ],
      "text/plain": [
       "<IPython.core.display.HTML object>"
      ]
     },
     "metadata": {},
     "output_type": "display_data"
    },
    {
     "name": "stderr",
     "output_type": "stream",
     "text": [
      "\u001b[34m\u001b[1mwandb\u001b[0m: Sweep Agent: Waiting for job.\n",
      "\u001b[34m\u001b[1mwandb\u001b[0m: Job received.\n",
      "\u001b[34m\u001b[1mwandb\u001b[0m: Agent Starting Run: q68v16sg with config:\n",
      "\u001b[34m\u001b[1mwandb\u001b[0m: \tEPOCH: 20\n",
      "\u001b[34m\u001b[1mwandb\u001b[0m: \tFC_RESERVOIR: True\n",
      "\u001b[34m\u001b[1mwandb\u001b[0m: \tIMAGE_SIZE: 48\n",
      "\u001b[34m\u001b[1mwandb\u001b[0m: \tbatch_size: 256\n",
      "\u001b[34m\u001b[1mwandb\u001b[0m: \tdata_path: /data2\n",
      "\u001b[34m\u001b[1mwandb\u001b[0m: \tdecay: 0.7615965393237909\n",
      "\u001b[34m\u001b[1mwandb\u001b[0m: \tdvs_clipping: True\n",
      "\u001b[34m\u001b[1mwandb\u001b[0m: \tdvs_duration: 100000\n",
      "\u001b[34m\u001b[1mwandb\u001b[0m: \tlearning_rate: 0.04721196732543512\n",
      "\u001b[34m\u001b[1mwandb\u001b[0m: \tno_reservoir: True\n",
      "\u001b[34m\u001b[1mwandb\u001b[0m: \tpre_spike_weight: 7.1462857013937\n",
      "\u001b[34m\u001b[1mwandb\u001b[0m: \trate_coding: True\n",
      "\u001b[34m\u001b[1mwandb\u001b[0m: \ttime_step: 8\n",
      "\u001b[34m\u001b[1mwandb\u001b[0m: \twhich_data: DVS_GESTURE\n",
      "Failed to detect the name of this notebook, you can set it manually with the WANDB_NOTEBOOK_NAME environment variable to enable code saving.\n"
     ]
    },
    {
     "data": {
      "application/vnd.jupyter.widget-view+json": {
       "model_id": "4168554e8ed84ae69dcb9214d6ede7d8",
       "version_major": 2,
       "version_minor": 0
      },
      "text/plain": [
       "VBox(children=(Label(value='Waiting for wandb.init()...\\r'), FloatProgress(value=0.011113568198763663, max=1.0…"
      ]
     },
     "metadata": {},
     "output_type": "display_data"
    },
    {
     "data": {
      "text/html": [
       "Tracking run with wandb version 0.17.5"
      ],
      "text/plain": [
       "<IPython.core.display.HTML object>"
      ]
     },
     "metadata": {},
     "output_type": "display_data"
    },
    {
     "data": {
      "text/html": [
       "Run data is saved locally in <code>/nfs/home/bhkim003/github_folder/ByeonghyeonKim/my_snn/wandb/run-20240727_021630-q68v16sg</code>"
      ],
      "text/plain": [
       "<IPython.core.display.HTML object>"
      ]
     },
     "metadata": {},
     "output_type": "display_data"
    },
    {
     "data": {
      "text/html": [
       "Syncing run <strong><a href='https://wandb.ai/bhkim003-seoul-national-university/reservoir/runs/q68v16sg' target=\"_blank\">serene-sweep-27</a></strong> to <a href='https://wandb.ai/bhkim003-seoul-national-university/reservoir' target=\"_blank\">Weights & Biases</a> (<a href='https://wandb.me/run' target=\"_blank\">docs</a>)<br/>Sweep page: <a href='https://wandb.ai/bhkim003-seoul-national-university/reservoir/sweeps/sxt07a51' target=\"_blank\">https://wandb.ai/bhkim003-seoul-national-university/reservoir/sweeps/sxt07a51</a>"
      ],
      "text/plain": [
       "<IPython.core.display.HTML object>"
      ]
     },
     "metadata": {},
     "output_type": "display_data"
    },
    {
     "data": {
      "text/html": [
       " View project at <a href='https://wandb.ai/bhkim003-seoul-national-university/reservoir' target=\"_blank\">https://wandb.ai/bhkim003-seoul-national-university/reservoir</a>"
      ],
      "text/plain": [
       "<IPython.core.display.HTML object>"
      ]
     },
     "metadata": {},
     "output_type": "display_data"
    },
    {
     "data": {
      "text/html": [
       " View sweep at <a href='https://wandb.ai/bhkim003-seoul-national-university/reservoir/sweeps/sxt07a51' target=\"_blank\">https://wandb.ai/bhkim003-seoul-national-university/reservoir/sweeps/sxt07a51</a>"
      ],
      "text/plain": [
       "<IPython.core.display.HTML object>"
      ]
     },
     "metadata": {},
     "output_type": "display_data"
    },
    {
     "data": {
      "text/html": [
       " View run at <a href='https://wandb.ai/bhkim003-seoul-national-university/reservoir/runs/q68v16sg' target=\"_blank\">https://wandb.ai/bhkim003-seoul-national-university/reservoir/runs/q68v16sg</a>"
      ],
      "text/plain": [
       "<IPython.core.display.HTML object>"
      ]
     },
     "metadata": {},
     "output_type": "display_data"
    },
    {
     "name": "stderr",
     "output_type": "stream",
     "text": [
      "\u001b[34m\u001b[1mwandb\u001b[0m: \u001b[33mWARNING\u001b[0m Config item 'data_path' was locked by 'sweep' (ignored update).\n",
      "\u001b[34m\u001b[1mwandb\u001b[0m: \u001b[33mWARNING\u001b[0m Config item 'which_data' was locked by 'sweep' (ignored update).\n",
      "\u001b[34m\u001b[1mwandb\u001b[0m: \u001b[33mWARNING\u001b[0m Config item 'learning_rate' was locked by 'sweep' (ignored update).\n",
      "\u001b[34m\u001b[1mwandb\u001b[0m: \u001b[33mWARNING\u001b[0m Config item 'IMAGE_SIZE' was locked by 'sweep' (ignored update).\n",
      "\u001b[34m\u001b[1mwandb\u001b[0m: \u001b[33mWARNING\u001b[0m Config item 'EPOCH' was locked by 'sweep' (ignored update).\n",
      "\u001b[34m\u001b[1mwandb\u001b[0m: \u001b[33mWARNING\u001b[0m Config item 'rate_coding' was locked by 'sweep' (ignored update).\n",
      "\u001b[34m\u001b[1mwandb\u001b[0m: \u001b[33mWARNING\u001b[0m Config item 'pre_spike_weight' was locked by 'sweep' (ignored update).\n",
      "\u001b[34m\u001b[1mwandb\u001b[0m: \u001b[33mWARNING\u001b[0m Config item 'dvs_duration' was locked by 'sweep' (ignored update).\n",
      "\u001b[34m\u001b[1mwandb\u001b[0m: \u001b[33mWARNING\u001b[0m Config item 'dvs_clipping' was locked by 'sweep' (ignored update).\n",
      "\u001b[34m\u001b[1mwandb\u001b[0m: \u001b[33mWARNING\u001b[0m Config item 'no_reservoir' was locked by 'sweep' (ignored update).\n",
      "\u001b[34m\u001b[1mwandb\u001b[0m: \u001b[33mWARNING\u001b[0m Config item 'FC_RESERVOIR' was locked by 'sweep' (ignored update).\n"
     ]
    },
    {
     "name": "stdout",
     "output_type": "stream",
     "text": [
      "The directory [/data2/gesture/duration_100000] already exists.\n",
      "The directory [/data2/gesture/duration_100000] already exists.\n",
      "RESERVOIR_NET(\n",
      "  (classifier): Linear(in_features=4608, out_features=10, bias=True)\n",
      ")\n",
      "Epoch 1\n",
      "Train Accuracy: 25.97%\n",
      "Test loss: 1.936, Val Accuracy: 41.67%\n",
      "Epoch 2\n",
      "Train Accuracy: 55.29%\n",
      "Test loss: 1.716, Val Accuracy: 53.03%\n",
      "Epoch 3\n",
      "Train Accuracy: 59.65%\n",
      "Test loss: 1.333, Val Accuracy: 55.30%\n",
      "Epoch 4\n",
      "Train Accuracy: 70.69%\n",
      "Test loss: 1.566, Val Accuracy: 58.71%\n",
      "Epoch 5\n",
      "Train Accuracy: 74.49%\n",
      "Test loss: 1.156, Val Accuracy: 59.85%\n",
      "Epoch 6\n",
      "Train Accuracy: 75.97%\n",
      "Test loss: 1.285, Val Accuracy: 59.85%\n",
      "Epoch 7\n",
      "Train Accuracy: 79.41%\n",
      "Test loss: 2.097, Val Accuracy: 65.15%\n",
      "Epoch 8\n",
      "Train Accuracy: 81.35%\n",
      "Test loss: 1.366, Val Accuracy: 62.12%\n",
      "Epoch 9\n",
      "Train Accuracy: 85.81%\n",
      "Test loss: 1.323, Val Accuracy: 68.18%\n",
      "Epoch 10\n",
      "Train Accuracy: 88.13%\n",
      "Test loss: 1.455, Val Accuracy: 64.02%\n",
      "Epoch 11\n",
      "Train Accuracy: 90.63%\n",
      "Test loss: 1.193, Val Accuracy: 68.94%\n",
      "Epoch 12\n",
      "Train Accuracy: 94.71%\n",
      "Test loss: 1.552, Val Accuracy: 69.32%\n",
      "Epoch 13\n",
      "Train Accuracy: 95.36%\n",
      "Test loss: 1.409, Val Accuracy: 65.91%\n",
      "Epoch 14\n",
      "Train Accuracy: 96.75%\n",
      "Test loss: 1.334, Val Accuracy: 71.97%\n",
      "Epoch 15\n",
      "Train Accuracy: 97.50%\n",
      "Test loss: 1.412, Val Accuracy: 70.45%\n",
      "Epoch 16\n",
      "Train Accuracy: 97.87%\n",
      "Test loss: 1.329, Val Accuracy: 70.83%\n",
      "Epoch 17\n",
      "Train Accuracy: 98.42%\n",
      "Test loss: 1.515, Val Accuracy: 70.45%\n",
      "Epoch 18\n",
      "Train Accuracy: 99.17%\n",
      "Test loss: 1.395, Val Accuracy: 73.11%\n",
      "Epoch 19\n",
      "Train Accuracy: 99.26%\n",
      "Test loss: 1.366, Val Accuracy: 73.11%\n",
      "Epoch 20\n",
      "Train Accuracy: 99.44%\n",
      "Test loss: 1.519, Val Accuracy: 71.21%\n"
     ]
    },
    {
     "data": {
      "application/vnd.jupyter.widget-view+json": {
       "model_id": "5dd692a9732442f0836b955ae83d91e6",
       "version_major": 2,
       "version_minor": 0
      },
      "text/plain": [
       "VBox(children=(Label(value='0.192 MB of 0.192 MB uploaded\\r'), FloatProgress(value=1.0, max=1.0)))"
      ]
     },
     "metadata": {},
     "output_type": "display_data"
    },
    {
     "data": {
      "text/html": [
       "<style>\n",
       "    table.wandb td:nth-child(1) { padding: 0 10px; text-align: left ; width: auto;} td:nth-child(2) {text-align: left ; width: 100%}\n",
       "    .wandb-row { display: flex; flex-direction: row; flex-wrap: wrap; justify-content: flex-start; width: 100% }\n",
       "    .wandb-col { display: flex; flex-direction: column; flex-basis: 100%; flex: 1; padding: 10px; }\n",
       "    </style>\n",
       "<div class=\"wandb-row\"><div class=\"wandb-col\"><h3>Run history:</h3><br/><table class=\"wandb\"><tr><td>epoch</td><td>▁▁▂▂▂▃▃▄▄▄▅▅▅▆▆▇▇▇██</td></tr><tr><td>iter_accuracy</td><td>▁▂▄▅▅▅▆▅▆▆▆▆▆▇▇▇▇▇█▇▇▇██████████████████</td></tr><tr><td>tr_accuracy</td><td>▁▄▄▅▆▆▆▆▇▇▇█████████</td></tr><tr><td>val_accuracy</td><td>▁▄▄▅▅▅▆▆▇▆▇▇▆█▇▇▇███</td></tr></table><br/></div><div class=\"wandb-col\"><h3>Run summary:</h3><br/><table class=\"wandb\"><tr><td>epoch</td><td>19</td></tr><tr><td>iter_accuracy</td><td>100.0</td></tr><tr><td>tr_accuracy</td><td>99.44341</td></tr><tr><td>val_accuracy</td><td>71.21212</td></tr></table><br/></div></div>"
      ],
      "text/plain": [
       "<IPython.core.display.HTML object>"
      ]
     },
     "metadata": {},
     "output_type": "display_data"
    },
    {
     "data": {
      "text/html": [
       " View run <strong style=\"color:#cdcd00\">serene-sweep-27</strong> at: <a href='https://wandb.ai/bhkim003-seoul-national-university/reservoir/runs/q68v16sg' target=\"_blank\">https://wandb.ai/bhkim003-seoul-national-university/reservoir/runs/q68v16sg</a><br/> View project at: <a href='https://wandb.ai/bhkim003-seoul-national-university/reservoir' target=\"_blank\">https://wandb.ai/bhkim003-seoul-national-university/reservoir</a><br/>Synced 7 W&B file(s), 0 media file(s), 0 artifact file(s) and 1 other file(s)"
      ],
      "text/plain": [
       "<IPython.core.display.HTML object>"
      ]
     },
     "metadata": {},
     "output_type": "display_data"
    },
    {
     "data": {
      "text/html": [
       "Find logs at: <code>./wandb/run-20240727_021630-q68v16sg/logs</code>"
      ],
      "text/plain": [
       "<IPython.core.display.HTML object>"
      ]
     },
     "metadata": {},
     "output_type": "display_data"
    },
    {
     "data": {
      "text/html": [
       "The new W&B backend becomes opt-out in version 0.18.0; try it out with `wandb.require(\"core\")`! See https://wandb.me/wandb-core for more information."
      ],
      "text/plain": [
       "<IPython.core.display.HTML object>"
      ]
     },
     "metadata": {},
     "output_type": "display_data"
    },
    {
     "name": "stderr",
     "output_type": "stream",
     "text": [
      "\u001b[34m\u001b[1mwandb\u001b[0m: Sweep Agent: Waiting for job.\n",
      "\u001b[34m\u001b[1mwandb\u001b[0m: Job received.\n",
      "\u001b[34m\u001b[1mwandb\u001b[0m: Agent Starting Run: g0af8m5g with config:\n",
      "\u001b[34m\u001b[1mwandb\u001b[0m: \tEPOCH: 20\n",
      "\u001b[34m\u001b[1mwandb\u001b[0m: \tFC_RESERVOIR: True\n",
      "\u001b[34m\u001b[1mwandb\u001b[0m: \tIMAGE_SIZE: 128\n",
      "\u001b[34m\u001b[1mwandb\u001b[0m: \tbatch_size: 256\n",
      "\u001b[34m\u001b[1mwandb\u001b[0m: \tdata_path: /data2\n",
      "\u001b[34m\u001b[1mwandb\u001b[0m: \tdecay: 0.9215690430295768\n",
      "\u001b[34m\u001b[1mwandb\u001b[0m: \tdvs_clipping: True\n",
      "\u001b[34m\u001b[1mwandb\u001b[0m: \tdvs_duration: 100000\n",
      "\u001b[34m\u001b[1mwandb\u001b[0m: \tlearning_rate: 0.04554728485705515\n",
      "\u001b[34m\u001b[1mwandb\u001b[0m: \tno_reservoir: False\n",
      "\u001b[34m\u001b[1mwandb\u001b[0m: \tpre_spike_weight: 6.368087526372907\n",
      "\u001b[34m\u001b[1mwandb\u001b[0m: \trate_coding: False\n",
      "\u001b[34m\u001b[1mwandb\u001b[0m: \ttime_step: 8\n",
      "\u001b[34m\u001b[1mwandb\u001b[0m: \twhich_data: DVS_GESTURE\n",
      "Failed to detect the name of this notebook, you can set it manually with the WANDB_NOTEBOOK_NAME environment variable to enable code saving.\n"
     ]
    },
    {
     "data": {
      "text/html": [
       "Tracking run with wandb version 0.17.5"
      ],
      "text/plain": [
       "<IPython.core.display.HTML object>"
      ]
     },
     "metadata": {},
     "output_type": "display_data"
    },
    {
     "data": {
      "text/html": [
       "Run data is saved locally in <code>/nfs/home/bhkim003/github_folder/ByeonghyeonKim/my_snn/wandb/run-20240727_023238-g0af8m5g</code>"
      ],
      "text/plain": [
       "<IPython.core.display.HTML object>"
      ]
     },
     "metadata": {},
     "output_type": "display_data"
    },
    {
     "data": {
      "text/html": [
       "Syncing run <strong><a href='https://wandb.ai/bhkim003-seoul-national-university/reservoir/runs/g0af8m5g' target=\"_blank\">vocal-sweep-28</a></strong> to <a href='https://wandb.ai/bhkim003-seoul-national-university/reservoir' target=\"_blank\">Weights & Biases</a> (<a href='https://wandb.me/run' target=\"_blank\">docs</a>)<br/>Sweep page: <a href='https://wandb.ai/bhkim003-seoul-national-university/reservoir/sweeps/sxt07a51' target=\"_blank\">https://wandb.ai/bhkim003-seoul-national-university/reservoir/sweeps/sxt07a51</a>"
      ],
      "text/plain": [
       "<IPython.core.display.HTML object>"
      ]
     },
     "metadata": {},
     "output_type": "display_data"
    },
    {
     "data": {
      "text/html": [
       " View project at <a href='https://wandb.ai/bhkim003-seoul-national-university/reservoir' target=\"_blank\">https://wandb.ai/bhkim003-seoul-national-university/reservoir</a>"
      ],
      "text/plain": [
       "<IPython.core.display.HTML object>"
      ]
     },
     "metadata": {},
     "output_type": "display_data"
    },
    {
     "data": {
      "text/html": [
       " View sweep at <a href='https://wandb.ai/bhkim003-seoul-national-university/reservoir/sweeps/sxt07a51' target=\"_blank\">https://wandb.ai/bhkim003-seoul-national-university/reservoir/sweeps/sxt07a51</a>"
      ],
      "text/plain": [
       "<IPython.core.display.HTML object>"
      ]
     },
     "metadata": {},
     "output_type": "display_data"
    },
    {
     "data": {
      "text/html": [
       " View run at <a href='https://wandb.ai/bhkim003-seoul-national-university/reservoir/runs/g0af8m5g' target=\"_blank\">https://wandb.ai/bhkim003-seoul-national-university/reservoir/runs/g0af8m5g</a>"
      ],
      "text/plain": [
       "<IPython.core.display.HTML object>"
      ]
     },
     "metadata": {},
     "output_type": "display_data"
    },
    {
     "name": "stderr",
     "output_type": "stream",
     "text": [
      "\u001b[34m\u001b[1mwandb\u001b[0m: \u001b[33mWARNING\u001b[0m Config item 'data_path' was locked by 'sweep' (ignored update).\n",
      "\u001b[34m\u001b[1mwandb\u001b[0m: \u001b[33mWARNING\u001b[0m Config item 'which_data' was locked by 'sweep' (ignored update).\n",
      "\u001b[34m\u001b[1mwandb\u001b[0m: \u001b[33mWARNING\u001b[0m Config item 'learning_rate' was locked by 'sweep' (ignored update).\n",
      "\u001b[34m\u001b[1mwandb\u001b[0m: \u001b[33mWARNING\u001b[0m Config item 'IMAGE_SIZE' was locked by 'sweep' (ignored update).\n",
      "\u001b[34m\u001b[1mwandb\u001b[0m: \u001b[33mWARNING\u001b[0m Config item 'EPOCH' was locked by 'sweep' (ignored update).\n",
      "\u001b[34m\u001b[1mwandb\u001b[0m: \u001b[33mWARNING\u001b[0m Config item 'rate_coding' was locked by 'sweep' (ignored update).\n",
      "\u001b[34m\u001b[1mwandb\u001b[0m: \u001b[33mWARNING\u001b[0m Config item 'pre_spike_weight' was locked by 'sweep' (ignored update).\n",
      "\u001b[34m\u001b[1mwandb\u001b[0m: \u001b[33mWARNING\u001b[0m Config item 'dvs_duration' was locked by 'sweep' (ignored update).\n",
      "\u001b[34m\u001b[1mwandb\u001b[0m: \u001b[33mWARNING\u001b[0m Config item 'dvs_clipping' was locked by 'sweep' (ignored update).\n",
      "\u001b[34m\u001b[1mwandb\u001b[0m: \u001b[33mWARNING\u001b[0m Config item 'no_reservoir' was locked by 'sweep' (ignored update).\n",
      "\u001b[34m\u001b[1mwandb\u001b[0m: \u001b[33mWARNING\u001b[0m Config item 'FC_RESERVOIR' was locked by 'sweep' (ignored update).\n"
     ]
    },
    {
     "name": "stdout",
     "output_type": "stream",
     "text": [
      "The directory [/data2/gesture/duration_100000] already exists.\n",
      "The directory [/data2/gesture/duration_100000] already exists.\n",
      "RESERVOIR_NET(\n",
      "  (reservoir): RESERVOIR(\n",
      "    (reservoir): Linear(in_features=32768, out_features=32768, bias=True)\n",
      "  )\n",
      "  (classifier): Linear(in_features=32768, out_features=10, bias=True)\n",
      ")\n",
      "Epoch 1\n",
      "Train Accuracy: 21.52%\n",
      "Test loss: 6.233, Val Accuracy: 35.23%\n",
      "Epoch 2\n",
      "Train Accuracy: 34.60%\n",
      "Test loss: 12.580, Val Accuracy: 26.52%\n",
      "Epoch 3\n",
      "Train Accuracy: 40.54%\n",
      "Test loss: 3.335, Val Accuracy: 46.59%\n",
      "Epoch 4\n",
      "Train Accuracy: 51.86%\n",
      "Test loss: 7.580, Val Accuracy: 45.45%\n",
      "Epoch 5\n",
      "Train Accuracy: 64.94%\n",
      "Test loss: 4.358, Val Accuracy: 48.11%\n",
      "Epoch 6\n",
      "Train Accuracy: 73.28%\n",
      "Test loss: 8.680, Val Accuracy: 60.61%\n",
      "Epoch 7\n",
      "Train Accuracy: 80.24%\n",
      "Test loss: 3.544, Val Accuracy: 61.74%\n",
      "Epoch 8\n",
      "Train Accuracy: 84.60%\n",
      "Test loss: 3.058, Val Accuracy: 56.82%\n",
      "Epoch 9\n",
      "Train Accuracy: 88.22%\n",
      "Test loss: 2.773, Val Accuracy: 61.74%\n",
      "Epoch 10\n",
      "Train Accuracy: 89.89%\n",
      "Test loss: 3.402, Val Accuracy: 62.88%\n",
      "Epoch 11\n",
      "Train Accuracy: 93.14%\n",
      "Test loss: 2.288, Val Accuracy: 68.18%\n",
      "Epoch 12\n",
      "Train Accuracy: 95.18%\n",
      "Test loss: 2.642, Val Accuracy: 66.67%\n",
      "Epoch 13\n",
      "Train Accuracy: 96.10%\n",
      "Test loss: 3.409, Val Accuracy: 68.94%\n",
      "Epoch 14\n",
      "Train Accuracy: 97.77%\n",
      "Test loss: 2.596, Val Accuracy: 71.59%\n",
      "Epoch 15\n",
      "Train Accuracy: 99.07%\n",
      "Test loss: 2.582, Val Accuracy: 73.48%\n",
      "Epoch 16\n",
      "Train Accuracy: 99.63%\n",
      "Test loss: 2.819, Val Accuracy: 71.21%\n",
      "Epoch 17\n",
      "Train Accuracy: 99.72%\n",
      "Test loss: 2.423, Val Accuracy: 71.21%\n",
      "Epoch 18\n",
      "Train Accuracy: 99.91%\n",
      "Test loss: 2.276, Val Accuracy: 72.35%\n",
      "Epoch 19\n",
      "Train Accuracy: 99.91%\n",
      "Test loss: 2.337, Val Accuracy: 70.83%\n",
      "Epoch 20\n",
      "Train Accuracy: 99.91%\n",
      "Test loss: 2.339, Val Accuracy: 71.97%\n"
     ]
    },
    {
     "data": {
      "application/vnd.jupyter.widget-view+json": {
       "model_id": "ba86f58e9eae498a93eddd848f6fa575",
       "version_major": 2,
       "version_minor": 0
      },
      "text/plain": [
       "VBox(children=(Label(value='0.192 MB of 0.192 MB uploaded\\r'), FloatProgress(value=1.0, max=1.0)))"
      ]
     },
     "metadata": {},
     "output_type": "display_data"
    },
    {
     "data": {
      "text/html": [
       "<style>\n",
       "    table.wandb td:nth-child(1) { padding: 0 10px; text-align: left ; width: auto;} td:nth-child(2) {text-align: left ; width: 100%}\n",
       "    .wandb-row { display: flex; flex-direction: row; flex-wrap: wrap; justify-content: flex-start; width: 100% }\n",
       "    .wandb-col { display: flex; flex-direction: column; flex-basis: 100%; flex: 1; padding: 10px; }\n",
       "    </style>\n",
       "<div class=\"wandb-row\"><div class=\"wandb-col\"><h3>Run history:</h3><br/><table class=\"wandb\"><tr><td>epoch</td><td>▁▁▂▂▂▃▃▄▄▄▅▅▅▆▆▇▇▇██</td></tr><tr><td>iter_accuracy</td><td>▁▂▃▃▃▄▄▅▅▅▅▆▆▆▇▇▇▇▇▇▇███████████████████</td></tr><tr><td>tr_accuracy</td><td>▁▂▃▄▅▆▆▇▇▇▇█████████</td></tr><tr><td>val_accuracy</td><td>▂▁▄▄▄▆▆▆▆▆▇▇▇███████</td></tr></table><br/></div><div class=\"wandb-col\"><h3>Run summary:</h3><br/><table class=\"wandb\"><tr><td>epoch</td><td>19</td></tr><tr><td>iter_accuracy</td><td>100.0</td></tr><tr><td>tr_accuracy</td><td>99.90724</td></tr><tr><td>val_accuracy</td><td>71.9697</td></tr></table><br/></div></div>"
      ],
      "text/plain": [
       "<IPython.core.display.HTML object>"
      ]
     },
     "metadata": {},
     "output_type": "display_data"
    },
    {
     "data": {
      "text/html": [
       " View run <strong style=\"color:#cdcd00\">vocal-sweep-28</strong> at: <a href='https://wandb.ai/bhkim003-seoul-national-university/reservoir/runs/g0af8m5g' target=\"_blank\">https://wandb.ai/bhkim003-seoul-national-university/reservoir/runs/g0af8m5g</a><br/> View project at: <a href='https://wandb.ai/bhkim003-seoul-national-university/reservoir' target=\"_blank\">https://wandb.ai/bhkim003-seoul-national-university/reservoir</a><br/>Synced 7 W&B file(s), 0 media file(s), 0 artifact file(s) and 1 other file(s)"
      ],
      "text/plain": [
       "<IPython.core.display.HTML object>"
      ]
     },
     "metadata": {},
     "output_type": "display_data"
    },
    {
     "data": {
      "text/html": [
       "Find logs at: <code>./wandb/run-20240727_023238-g0af8m5g/logs</code>"
      ],
      "text/plain": [
       "<IPython.core.display.HTML object>"
      ]
     },
     "metadata": {},
     "output_type": "display_data"
    },
    {
     "data": {
      "text/html": [
       "The new W&B backend becomes opt-out in version 0.18.0; try it out with `wandb.require(\"core\")`! See https://wandb.me/wandb-core for more information."
      ],
      "text/plain": [
       "<IPython.core.display.HTML object>"
      ]
     },
     "metadata": {},
     "output_type": "display_data"
    },
    {
     "name": "stderr",
     "output_type": "stream",
     "text": [
      "\u001b[34m\u001b[1mwandb\u001b[0m: Agent Starting Run: 5bnyf4ys with config:\n",
      "\u001b[34m\u001b[1mwandb\u001b[0m: \tEPOCH: 20\n",
      "\u001b[34m\u001b[1mwandb\u001b[0m: \tFC_RESERVOIR: True\n",
      "\u001b[34m\u001b[1mwandb\u001b[0m: \tIMAGE_SIZE: 128\n",
      "\u001b[34m\u001b[1mwandb\u001b[0m: \tbatch_size: 64\n",
      "\u001b[34m\u001b[1mwandb\u001b[0m: \tdata_path: /data2\n",
      "\u001b[34m\u001b[1mwandb\u001b[0m: \tdecay: 0.8965708493746389\n",
      "\u001b[34m\u001b[1mwandb\u001b[0m: \tdvs_clipping: True\n",
      "\u001b[34m\u001b[1mwandb\u001b[0m: \tdvs_duration: 100000\n",
      "\u001b[34m\u001b[1mwandb\u001b[0m: \tlearning_rate: 0.026515208540505267\n",
      "\u001b[34m\u001b[1mwandb\u001b[0m: \tno_reservoir: False\n",
      "\u001b[34m\u001b[1mwandb\u001b[0m: \tpre_spike_weight: 6.8145790802641555\n",
      "\u001b[34m\u001b[1mwandb\u001b[0m: \trate_coding: False\n",
      "\u001b[34m\u001b[1mwandb\u001b[0m: \ttime_step: 8\n",
      "\u001b[34m\u001b[1mwandb\u001b[0m: \twhich_data: DVS_GESTURE\n",
      "Failed to detect the name of this notebook, you can set it manually with the WANDB_NOTEBOOK_NAME environment variable to enable code saving.\n"
     ]
    },
    {
     "data": {
      "text/html": [
       "Tracking run with wandb version 0.17.5"
      ],
      "text/plain": [
       "<IPython.core.display.HTML object>"
      ]
     },
     "metadata": {},
     "output_type": "display_data"
    },
    {
     "data": {
      "text/html": [
       "Run data is saved locally in <code>/nfs/home/bhkim003/github_folder/ByeonghyeonKim/my_snn/wandb/run-20240727_030854-5bnyf4ys</code>"
      ],
      "text/plain": [
       "<IPython.core.display.HTML object>"
      ]
     },
     "metadata": {},
     "output_type": "display_data"
    },
    {
     "data": {
      "text/html": [
       "Syncing run <strong><a href='https://wandb.ai/bhkim003-seoul-national-university/reservoir/runs/5bnyf4ys' target=\"_blank\">woven-sweep-29</a></strong> to <a href='https://wandb.ai/bhkim003-seoul-national-university/reservoir' target=\"_blank\">Weights & Biases</a> (<a href='https://wandb.me/run' target=\"_blank\">docs</a>)<br/>Sweep page: <a href='https://wandb.ai/bhkim003-seoul-national-university/reservoir/sweeps/sxt07a51' target=\"_blank\">https://wandb.ai/bhkim003-seoul-national-university/reservoir/sweeps/sxt07a51</a>"
      ],
      "text/plain": [
       "<IPython.core.display.HTML object>"
      ]
     },
     "metadata": {},
     "output_type": "display_data"
    },
    {
     "data": {
      "text/html": [
       " View project at <a href='https://wandb.ai/bhkim003-seoul-national-university/reservoir' target=\"_blank\">https://wandb.ai/bhkim003-seoul-national-university/reservoir</a>"
      ],
      "text/plain": [
       "<IPython.core.display.HTML object>"
      ]
     },
     "metadata": {},
     "output_type": "display_data"
    },
    {
     "data": {
      "text/html": [
       " View sweep at <a href='https://wandb.ai/bhkim003-seoul-national-university/reservoir/sweeps/sxt07a51' target=\"_blank\">https://wandb.ai/bhkim003-seoul-national-university/reservoir/sweeps/sxt07a51</a>"
      ],
      "text/plain": [
       "<IPython.core.display.HTML object>"
      ]
     },
     "metadata": {},
     "output_type": "display_data"
    },
    {
     "data": {
      "text/html": [
       " View run at <a href='https://wandb.ai/bhkim003-seoul-national-university/reservoir/runs/5bnyf4ys' target=\"_blank\">https://wandb.ai/bhkim003-seoul-national-university/reservoir/runs/5bnyf4ys</a>"
      ],
      "text/plain": [
       "<IPython.core.display.HTML object>"
      ]
     },
     "metadata": {},
     "output_type": "display_data"
    },
    {
     "name": "stderr",
     "output_type": "stream",
     "text": [
      "\u001b[34m\u001b[1mwandb\u001b[0m: \u001b[33mWARNING\u001b[0m Config item 'data_path' was locked by 'sweep' (ignored update).\n",
      "\u001b[34m\u001b[1mwandb\u001b[0m: \u001b[33mWARNING\u001b[0m Config item 'which_data' was locked by 'sweep' (ignored update).\n",
      "\u001b[34m\u001b[1mwandb\u001b[0m: \u001b[33mWARNING\u001b[0m Config item 'learning_rate' was locked by 'sweep' (ignored update).\n",
      "\u001b[34m\u001b[1mwandb\u001b[0m: \u001b[33mWARNING\u001b[0m Config item 'IMAGE_SIZE' was locked by 'sweep' (ignored update).\n",
      "\u001b[34m\u001b[1mwandb\u001b[0m: \u001b[33mWARNING\u001b[0m Config item 'EPOCH' was locked by 'sweep' (ignored update).\n",
      "\u001b[34m\u001b[1mwandb\u001b[0m: \u001b[33mWARNING\u001b[0m Config item 'rate_coding' was locked by 'sweep' (ignored update).\n",
      "\u001b[34m\u001b[1mwandb\u001b[0m: \u001b[33mWARNING\u001b[0m Config item 'pre_spike_weight' was locked by 'sweep' (ignored update).\n",
      "\u001b[34m\u001b[1mwandb\u001b[0m: \u001b[33mWARNING\u001b[0m Config item 'dvs_duration' was locked by 'sweep' (ignored update).\n",
      "\u001b[34m\u001b[1mwandb\u001b[0m: \u001b[33mWARNING\u001b[0m Config item 'dvs_clipping' was locked by 'sweep' (ignored update).\n",
      "\u001b[34m\u001b[1mwandb\u001b[0m: \u001b[33mWARNING\u001b[0m Config item 'no_reservoir' was locked by 'sweep' (ignored update).\n",
      "\u001b[34m\u001b[1mwandb\u001b[0m: \u001b[33mWARNING\u001b[0m Config item 'FC_RESERVOIR' was locked by 'sweep' (ignored update).\n"
     ]
    },
    {
     "name": "stdout",
     "output_type": "stream",
     "text": [
      "The directory [/data2/gesture/duration_100000] already exists.\n",
      "The directory [/data2/gesture/duration_100000] already exists.\n",
      "RESERVOIR_NET(\n",
      "  (reservoir): RESERVOIR(\n",
      "    (reservoir): Linear(in_features=32768, out_features=32768, bias=True)\n",
      "  )\n",
      "  (classifier): Linear(in_features=32768, out_features=10, bias=True)\n",
      ")\n",
      "Epoch 1\n",
      "Train Accuracy: 43.78%\n",
      "Test loss: 2.174, Val Accuracy: 45.08%\n",
      "Epoch 2\n",
      "Train Accuracy: 64.47%\n",
      "Test loss: 1.865, Val Accuracy: 54.55%\n",
      "Epoch 3\n",
      "Train Accuracy: 80.61%\n",
      "Test loss: 1.756, Val Accuracy: 57.95%\n",
      "Epoch 4\n",
      "Train Accuracy: 88.22%\n",
      "Test loss: 1.355, Val Accuracy: 58.71%\n",
      "Epoch 5\n",
      "Train Accuracy: 92.30%\n",
      "Test loss: 2.348, Val Accuracy: 60.23%\n",
      "Epoch 6\n",
      "Train Accuracy: 96.47%\n",
      "Test loss: 1.600, Val Accuracy: 67.80%\n",
      "Epoch 7\n",
      "Train Accuracy: 99.63%\n",
      "Test loss: 1.285, Val Accuracy: 71.59%\n",
      "Epoch 8\n",
      "Train Accuracy: 99.72%\n",
      "Test loss: 1.155, Val Accuracy: 74.24%\n",
      "Epoch 9\n",
      "Train Accuracy: 100.00%\n",
      "Test loss: 0.989, Val Accuracy: 73.11%\n",
      "Epoch 10\n",
      "Train Accuracy: 100.00%\n",
      "Test loss: 1.564, Val Accuracy: 71.97%\n",
      "Epoch 11\n",
      "Train Accuracy: 100.00%\n",
      "Test loss: 1.194, Val Accuracy: 75.00%\n",
      "Epoch 12\n",
      "Train Accuracy: 100.00%\n",
      "Test loss: 1.276, Val Accuracy: 73.48%\n",
      "Epoch 13\n",
      "Train Accuracy: 100.00%\n",
      "Test loss: 1.260, Val Accuracy: 74.24%\n",
      "Epoch 14\n",
      "Train Accuracy: 100.00%\n",
      "Test loss: 1.245, Val Accuracy: 74.24%\n",
      "Epoch 15\n",
      "Train Accuracy: 100.00%\n",
      "Test loss: 1.277, Val Accuracy: 73.86%\n",
      "Epoch 16\n",
      "Train Accuracy: 100.00%\n",
      "Test loss: 1.252, Val Accuracy: 73.48%\n",
      "Epoch 17\n",
      "Train Accuracy: 100.00%\n",
      "Test loss: 1.282, Val Accuracy: 73.11%\n",
      "Epoch 18\n",
      "Train Accuracy: 100.00%\n",
      "Test loss: 1.275, Val Accuracy: 74.24%\n",
      "Epoch 19\n",
      "Train Accuracy: 100.00%\n",
      "Test loss: 1.270, Val Accuracy: 74.24%\n",
      "Epoch 20\n",
      "Train Accuracy: 100.00%\n",
      "Test loss: 1.265, Val Accuracy: 73.86%\n"
     ]
    },
    {
     "data": {
      "application/vnd.jupyter.widget-view+json": {
       "model_id": "bfea35cc3c0b406f9d7e055dbe77ef05",
       "version_major": 2,
       "version_minor": 0
      },
      "text/plain": [
       "VBox(children=(Label(value='0.192 MB of 0.192 MB uploaded\\r'), FloatProgress(value=1.0, max=1.0)))"
      ]
     },
     "metadata": {},
     "output_type": "display_data"
    },
    {
     "data": {
      "text/html": [
       "<style>\n",
       "    table.wandb td:nth-child(1) { padding: 0 10px; text-align: left ; width: auto;} td:nth-child(2) {text-align: left ; width: 100%}\n",
       "    .wandb-row { display: flex; flex-direction: row; flex-wrap: wrap; justify-content: flex-start; width: 100% }\n",
       "    .wandb-col { display: flex; flex-direction: column; flex-basis: 100%; flex: 1; padding: 10px; }\n",
       "    </style>\n",
       "<div class=\"wandb-row\"><div class=\"wandb-col\"><h3>Run history:</h3><br/><table class=\"wandb\"><tr><td>epoch</td><td>▁▁▂▂▂▃▃▄▄▄▅▅▅▆▆▇▇▇██</td></tr><tr><td>iter_accuracy</td><td>▁▃▃▅▅▇▇▇█▇▇█████████████████████████████</td></tr><tr><td>tr_accuracy</td><td>▁▄▆▇▇███████████████</td></tr><tr><td>val_accuracy</td><td>▁▃▄▄▅▆▇██▇██████████</td></tr></table><br/></div><div class=\"wandb-col\"><h3>Run summary:</h3><br/><table class=\"wandb\"><tr><td>epoch</td><td>19</td></tr><tr><td>iter_accuracy</td><td>100.0</td></tr><tr><td>tr_accuracy</td><td>100.0</td></tr><tr><td>val_accuracy</td><td>73.86364</td></tr></table><br/></div></div>"
      ],
      "text/plain": [
       "<IPython.core.display.HTML object>"
      ]
     },
     "metadata": {},
     "output_type": "display_data"
    },
    {
     "data": {
      "text/html": [
       " View run <strong style=\"color:#cdcd00\">woven-sweep-29</strong> at: <a href='https://wandb.ai/bhkim003-seoul-national-university/reservoir/runs/5bnyf4ys' target=\"_blank\">https://wandb.ai/bhkim003-seoul-national-university/reservoir/runs/5bnyf4ys</a><br/> View project at: <a href='https://wandb.ai/bhkim003-seoul-national-university/reservoir' target=\"_blank\">https://wandb.ai/bhkim003-seoul-national-university/reservoir</a><br/>Synced 7 W&B file(s), 0 media file(s), 0 artifact file(s) and 1 other file(s)"
      ],
      "text/plain": [
       "<IPython.core.display.HTML object>"
      ]
     },
     "metadata": {},
     "output_type": "display_data"
    },
    {
     "data": {
      "text/html": [
       "Find logs at: <code>./wandb/run-20240727_030854-5bnyf4ys/logs</code>"
      ],
      "text/plain": [
       "<IPython.core.display.HTML object>"
      ]
     },
     "metadata": {},
     "output_type": "display_data"
    },
    {
     "data": {
      "text/html": [
       "The new W&B backend becomes opt-out in version 0.18.0; try it out with `wandb.require(\"core\")`! See https://wandb.me/wandb-core for more information."
      ],
      "text/plain": [
       "<IPython.core.display.HTML object>"
      ]
     },
     "metadata": {},
     "output_type": "display_data"
    },
    {
     "name": "stderr",
     "output_type": "stream",
     "text": [
      "\u001b[34m\u001b[1mwandb\u001b[0m: Agent Starting Run: 0e5q44k5 with config:\n",
      "\u001b[34m\u001b[1mwandb\u001b[0m: \tEPOCH: 20\n",
      "\u001b[34m\u001b[1mwandb\u001b[0m: \tFC_RESERVOIR: True\n",
      "\u001b[34m\u001b[1mwandb\u001b[0m: \tIMAGE_SIZE: 128\n",
      "\u001b[34m\u001b[1mwandb\u001b[0m: \tbatch_size: 256\n",
      "\u001b[34m\u001b[1mwandb\u001b[0m: \tdata_path: /data2\n",
      "\u001b[34m\u001b[1mwandb\u001b[0m: \tdecay: 0.8945125063938529\n",
      "\u001b[34m\u001b[1mwandb\u001b[0m: \tdvs_clipping: True\n",
      "\u001b[34m\u001b[1mwandb\u001b[0m: \tdvs_duration: 100000\n",
      "\u001b[34m\u001b[1mwandb\u001b[0m: \tlearning_rate: 0.0241113129798685\n",
      "\u001b[34m\u001b[1mwandb\u001b[0m: \tno_reservoir: True\n",
      "\u001b[34m\u001b[1mwandb\u001b[0m: \tpre_spike_weight: 7.259714247820205\n",
      "\u001b[34m\u001b[1mwandb\u001b[0m: \trate_coding: False\n",
      "\u001b[34m\u001b[1mwandb\u001b[0m: \ttime_step: 8\n",
      "\u001b[34m\u001b[1mwandb\u001b[0m: \twhich_data: DVS_GESTURE\n",
      "Failed to detect the name of this notebook, you can set it manually with the WANDB_NOTEBOOK_NAME environment variable to enable code saving.\n"
     ]
    },
    {
     "data": {
      "text/html": [
       "Tracking run with wandb version 0.17.5"
      ],
      "text/plain": [
       "<IPython.core.display.HTML object>"
      ]
     },
     "metadata": {},
     "output_type": "display_data"
    },
    {
     "data": {
      "text/html": [
       "Run data is saved locally in <code>/nfs/home/bhkim003/github_folder/ByeonghyeonKim/my_snn/wandb/run-20240727_041729-0e5q44k5</code>"
      ],
      "text/plain": [
       "<IPython.core.display.HTML object>"
      ]
     },
     "metadata": {},
     "output_type": "display_data"
    },
    {
     "data": {
      "text/html": [
       "Syncing run <strong><a href='https://wandb.ai/bhkim003-seoul-national-university/reservoir/runs/0e5q44k5' target=\"_blank\">jumping-sweep-30</a></strong> to <a href='https://wandb.ai/bhkim003-seoul-national-university/reservoir' target=\"_blank\">Weights & Biases</a> (<a href='https://wandb.me/run' target=\"_blank\">docs</a>)<br/>Sweep page: <a href='https://wandb.ai/bhkim003-seoul-national-university/reservoir/sweeps/sxt07a51' target=\"_blank\">https://wandb.ai/bhkim003-seoul-national-university/reservoir/sweeps/sxt07a51</a>"
      ],
      "text/plain": [
       "<IPython.core.display.HTML object>"
      ]
     },
     "metadata": {},
     "output_type": "display_data"
    },
    {
     "data": {
      "text/html": [
       " View project at <a href='https://wandb.ai/bhkim003-seoul-national-university/reservoir' target=\"_blank\">https://wandb.ai/bhkim003-seoul-national-university/reservoir</a>"
      ],
      "text/plain": [
       "<IPython.core.display.HTML object>"
      ]
     },
     "metadata": {},
     "output_type": "display_data"
    },
    {
     "data": {
      "text/html": [
       " View sweep at <a href='https://wandb.ai/bhkim003-seoul-national-university/reservoir/sweeps/sxt07a51' target=\"_blank\">https://wandb.ai/bhkim003-seoul-national-university/reservoir/sweeps/sxt07a51</a>"
      ],
      "text/plain": [
       "<IPython.core.display.HTML object>"
      ]
     },
     "metadata": {},
     "output_type": "display_data"
    },
    {
     "data": {
      "text/html": [
       " View run at <a href='https://wandb.ai/bhkim003-seoul-national-university/reservoir/runs/0e5q44k5' target=\"_blank\">https://wandb.ai/bhkim003-seoul-national-university/reservoir/runs/0e5q44k5</a>"
      ],
      "text/plain": [
       "<IPython.core.display.HTML object>"
      ]
     },
     "metadata": {},
     "output_type": "display_data"
    },
    {
     "name": "stderr",
     "output_type": "stream",
     "text": [
      "\u001b[34m\u001b[1mwandb\u001b[0m: \u001b[33mWARNING\u001b[0m Config item 'data_path' was locked by 'sweep' (ignored update).\n",
      "\u001b[34m\u001b[1mwandb\u001b[0m: \u001b[33mWARNING\u001b[0m Config item 'which_data' was locked by 'sweep' (ignored update).\n",
      "\u001b[34m\u001b[1mwandb\u001b[0m: \u001b[33mWARNING\u001b[0m Config item 'learning_rate' was locked by 'sweep' (ignored update).\n",
      "\u001b[34m\u001b[1mwandb\u001b[0m: \u001b[33mWARNING\u001b[0m Config item 'IMAGE_SIZE' was locked by 'sweep' (ignored update).\n",
      "\u001b[34m\u001b[1mwandb\u001b[0m: \u001b[33mWARNING\u001b[0m Config item 'EPOCH' was locked by 'sweep' (ignored update).\n",
      "\u001b[34m\u001b[1mwandb\u001b[0m: \u001b[33mWARNING\u001b[0m Config item 'rate_coding' was locked by 'sweep' (ignored update).\n",
      "\u001b[34m\u001b[1mwandb\u001b[0m: \u001b[33mWARNING\u001b[0m Config item 'pre_spike_weight' was locked by 'sweep' (ignored update).\n",
      "\u001b[34m\u001b[1mwandb\u001b[0m: \u001b[33mWARNING\u001b[0m Config item 'dvs_duration' was locked by 'sweep' (ignored update).\n",
      "\u001b[34m\u001b[1mwandb\u001b[0m: \u001b[33mWARNING\u001b[0m Config item 'dvs_clipping' was locked by 'sweep' (ignored update).\n",
      "\u001b[34m\u001b[1mwandb\u001b[0m: \u001b[33mWARNING\u001b[0m Config item 'no_reservoir' was locked by 'sweep' (ignored update).\n",
      "\u001b[34m\u001b[1mwandb\u001b[0m: \u001b[33mWARNING\u001b[0m Config item 'FC_RESERVOIR' was locked by 'sweep' (ignored update).\n"
     ]
    },
    {
     "name": "stdout",
     "output_type": "stream",
     "text": [
      "The directory [/data2/gesture/duration_100000] already exists.\n",
      "The directory [/data2/gesture/duration_100000] already exists.\n",
      "RESERVOIR_NET(\n",
      "  (classifier): Linear(in_features=32768, out_features=10, bias=True)\n",
      ")\n",
      "Epoch 1\n",
      "Train Accuracy: 29.04%\n",
      "Test loss: 2.329, Val Accuracy: 45.45%\n",
      "Epoch 2\n",
      "Train Accuracy: 55.19%\n",
      "Test loss: 1.832, Val Accuracy: 56.44%\n",
      "Epoch 3\n",
      "Train Accuracy: 66.23%\n",
      "Test loss: 1.492, Val Accuracy: 59.09%\n",
      "Epoch 4\n",
      "Train Accuracy: 72.63%\n",
      "Test loss: 1.144, Val Accuracy: 66.29%\n",
      "Epoch 5\n",
      "Train Accuracy: 80.06%\n",
      "Test loss: 2.070, Val Accuracy: 66.29%\n",
      "Epoch 6\n",
      "Train Accuracy: 86.18%\n",
      "Test loss: 1.042, Val Accuracy: 62.88%\n",
      "Epoch 7\n",
      "Train Accuracy: 88.40%\n",
      "Test loss: 1.338, Val Accuracy: 67.05%\n",
      "Epoch 8\n",
      "Train Accuracy: 93.23%\n",
      "Test loss: 1.103, Val Accuracy: 68.94%\n",
      "Epoch 9\n",
      "Train Accuracy: 94.16%\n",
      "Test loss: 1.429, Val Accuracy: 70.08%\n",
      "Epoch 10\n",
      "Train Accuracy: 96.10%\n",
      "Test loss: 1.004, Val Accuracy: 66.67%\n",
      "Epoch 11\n",
      "Train Accuracy: 96.66%\n",
      "Test loss: 1.307, Val Accuracy: 67.42%\n",
      "Epoch 12\n",
      "Train Accuracy: 97.77%\n",
      "Test loss: 1.161, Val Accuracy: 68.94%\n",
      "Epoch 13\n",
      "Train Accuracy: 98.33%\n",
      "Test loss: 1.342, Val Accuracy: 68.18%\n",
      "Epoch 14\n",
      "Train Accuracy: 98.98%\n",
      "Test loss: 1.245, Val Accuracy: 71.59%\n",
      "Epoch 15\n",
      "Train Accuracy: 99.44%\n",
      "Test loss: 1.246, Val Accuracy: 70.45%\n",
      "Epoch 16\n",
      "Train Accuracy: 99.44%\n",
      "Test loss: 1.239, Val Accuracy: 70.83%\n",
      "Epoch 17\n",
      "Train Accuracy: 99.54%\n",
      "Test loss: 1.346, Val Accuracy: 70.08%\n",
      "Epoch 18\n",
      "Train Accuracy: 99.81%\n",
      "Test loss: 1.214, Val Accuracy: 70.83%\n",
      "Epoch 19\n",
      "Train Accuracy: 99.91%\n",
      "Test loss: 1.170, Val Accuracy: 68.56%\n",
      "Epoch 20\n",
      "Train Accuracy: 99.81%\n",
      "Test loss: 1.340, Val Accuracy: 70.08%\n"
     ]
    },
    {
     "data": {
      "application/vnd.jupyter.widget-view+json": {
       "model_id": "641229fb204c4f3c9b12f747ebf7116a",
       "version_major": 2,
       "version_minor": 0
      },
      "text/plain": [
       "VBox(children=(Label(value='0.192 MB of 0.192 MB uploaded\\r'), FloatProgress(value=1.0, max=1.0)))"
      ]
     },
     "metadata": {},
     "output_type": "display_data"
    },
    {
     "data": {
      "text/html": [
       "<style>\n",
       "    table.wandb td:nth-child(1) { padding: 0 10px; text-align: left ; width: auto;} td:nth-child(2) {text-align: left ; width: 100%}\n",
       "    .wandb-row { display: flex; flex-direction: row; flex-wrap: wrap; justify-content: flex-start; width: 100% }\n",
       "    .wandb-col { display: flex; flex-direction: column; flex-basis: 100%; flex: 1; padding: 10px; }\n",
       "    </style>\n",
       "<div class=\"wandb-row\"><div class=\"wandb-col\"><h3>Run history:</h3><br/><table class=\"wandb\"><tr><td>epoch</td><td>▁▁▂▂▂▃▃▄▄▄▅▅▅▆▆▇▇▇██</td></tr><tr><td>iter_accuracy</td><td>▁▃▅▅▆▅▆▆▆▆▇▇▇▇█▇▇███████████████████████</td></tr><tr><td>tr_accuracy</td><td>▁▄▅▅▆▇▇▇▇███████████</td></tr><tr><td>val_accuracy</td><td>▁▄▅▇▇▆▇▇█▇▇▇▇█████▇█</td></tr></table><br/></div><div class=\"wandb-col\"><h3>Run summary:</h3><br/><table class=\"wandb\"><tr><td>epoch</td><td>19</td></tr><tr><td>iter_accuracy</td><td>100.0</td></tr><tr><td>tr_accuracy</td><td>99.81447</td></tr><tr><td>val_accuracy</td><td>70.07576</td></tr></table><br/></div></div>"
      ],
      "text/plain": [
       "<IPython.core.display.HTML object>"
      ]
     },
     "metadata": {},
     "output_type": "display_data"
    },
    {
     "data": {
      "text/html": [
       " View run <strong style=\"color:#cdcd00\">jumping-sweep-30</strong> at: <a href='https://wandb.ai/bhkim003-seoul-national-university/reservoir/runs/0e5q44k5' target=\"_blank\">https://wandb.ai/bhkim003-seoul-national-university/reservoir/runs/0e5q44k5</a><br/> View project at: <a href='https://wandb.ai/bhkim003-seoul-national-university/reservoir' target=\"_blank\">https://wandb.ai/bhkim003-seoul-national-university/reservoir</a><br/>Synced 7 W&B file(s), 0 media file(s), 0 artifact file(s) and 1 other file(s)"
      ],
      "text/plain": [
       "<IPython.core.display.HTML object>"
      ]
     },
     "metadata": {},
     "output_type": "display_data"
    },
    {
     "data": {
      "text/html": [
       "Find logs at: <code>./wandb/run-20240727_041729-0e5q44k5/logs</code>"
      ],
      "text/plain": [
       "<IPython.core.display.HTML object>"
      ]
     },
     "metadata": {},
     "output_type": "display_data"
    },
    {
     "data": {
      "text/html": [
       "The new W&B backend becomes opt-out in version 0.18.0; try it out with `wandb.require(\"core\")`! See https://wandb.me/wandb-core for more information."
      ],
      "text/plain": [
       "<IPython.core.display.HTML object>"
      ]
     },
     "metadata": {},
     "output_type": "display_data"
    },
    {
     "name": "stderr",
     "output_type": "stream",
     "text": [
      "\u001b[34m\u001b[1mwandb\u001b[0m: Sweep Agent: Waiting for job.\n",
      "\u001b[34m\u001b[1mwandb\u001b[0m: Job received.\n",
      "\u001b[34m\u001b[1mwandb\u001b[0m: Agent Starting Run: t98a58v1 with config:\n",
      "\u001b[34m\u001b[1mwandb\u001b[0m: \tEPOCH: 20\n",
      "\u001b[34m\u001b[1mwandb\u001b[0m: \tFC_RESERVOIR: True\n",
      "\u001b[34m\u001b[1mwandb\u001b[0m: \tIMAGE_SIZE: 128\n",
      "\u001b[34m\u001b[1mwandb\u001b[0m: \tbatch_size: 128\n",
      "\u001b[34m\u001b[1mwandb\u001b[0m: \tdata_path: /data2\n",
      "\u001b[34m\u001b[1mwandb\u001b[0m: \tdecay: 0.823104789712981\n",
      "\u001b[34m\u001b[1mwandb\u001b[0m: \tdvs_clipping: True\n",
      "\u001b[34m\u001b[1mwandb\u001b[0m: \tdvs_duration: 100000\n",
      "\u001b[34m\u001b[1mwandb\u001b[0m: \tlearning_rate: 0.015270343520033296\n",
      "\u001b[34m\u001b[1mwandb\u001b[0m: \tno_reservoir: True\n",
      "\u001b[34m\u001b[1mwandb\u001b[0m: \tpre_spike_weight: 5.071241920874454\n",
      "\u001b[34m\u001b[1mwandb\u001b[0m: \trate_coding: True\n",
      "\u001b[34m\u001b[1mwandb\u001b[0m: \ttime_step: 8\n",
      "\u001b[34m\u001b[1mwandb\u001b[0m: \twhich_data: DVS_GESTURE\n",
      "Failed to detect the name of this notebook, you can set it manually with the WANDB_NOTEBOOK_NAME environment variable to enable code saving.\n"
     ]
    },
    {
     "data": {
      "text/html": [
       "Tracking run with wandb version 0.17.5"
      ],
      "text/plain": [
       "<IPython.core.display.HTML object>"
      ]
     },
     "metadata": {},
     "output_type": "display_data"
    },
    {
     "data": {
      "text/html": [
       "Run data is saved locally in <code>/nfs/home/bhkim003/github_folder/ByeonghyeonKim/my_snn/wandb/run-20240727_043957-t98a58v1</code>"
      ],
      "text/plain": [
       "<IPython.core.display.HTML object>"
      ]
     },
     "metadata": {},
     "output_type": "display_data"
    },
    {
     "data": {
      "text/html": [
       "Syncing run <strong><a href='https://wandb.ai/bhkim003-seoul-national-university/reservoir/runs/t98a58v1' target=\"_blank\">still-sweep-31</a></strong> to <a href='https://wandb.ai/bhkim003-seoul-national-university/reservoir' target=\"_blank\">Weights & Biases</a> (<a href='https://wandb.me/run' target=\"_blank\">docs</a>)<br/>Sweep page: <a href='https://wandb.ai/bhkim003-seoul-national-university/reservoir/sweeps/sxt07a51' target=\"_blank\">https://wandb.ai/bhkim003-seoul-national-university/reservoir/sweeps/sxt07a51</a>"
      ],
      "text/plain": [
       "<IPython.core.display.HTML object>"
      ]
     },
     "metadata": {},
     "output_type": "display_data"
    },
    {
     "data": {
      "text/html": [
       " View project at <a href='https://wandb.ai/bhkim003-seoul-national-university/reservoir' target=\"_blank\">https://wandb.ai/bhkim003-seoul-national-university/reservoir</a>"
      ],
      "text/plain": [
       "<IPython.core.display.HTML object>"
      ]
     },
     "metadata": {},
     "output_type": "display_data"
    },
    {
     "data": {
      "text/html": [
       " View sweep at <a href='https://wandb.ai/bhkim003-seoul-national-university/reservoir/sweeps/sxt07a51' target=\"_blank\">https://wandb.ai/bhkim003-seoul-national-university/reservoir/sweeps/sxt07a51</a>"
      ],
      "text/plain": [
       "<IPython.core.display.HTML object>"
      ]
     },
     "metadata": {},
     "output_type": "display_data"
    },
    {
     "data": {
      "text/html": [
       " View run at <a href='https://wandb.ai/bhkim003-seoul-national-university/reservoir/runs/t98a58v1' target=\"_blank\">https://wandb.ai/bhkim003-seoul-national-university/reservoir/runs/t98a58v1</a>"
      ],
      "text/plain": [
       "<IPython.core.display.HTML object>"
      ]
     },
     "metadata": {},
     "output_type": "display_data"
    },
    {
     "name": "stderr",
     "output_type": "stream",
     "text": [
      "\u001b[34m\u001b[1mwandb\u001b[0m: \u001b[33mWARNING\u001b[0m Config item 'data_path' was locked by 'sweep' (ignored update).\n",
      "\u001b[34m\u001b[1mwandb\u001b[0m: \u001b[33mWARNING\u001b[0m Config item 'which_data' was locked by 'sweep' (ignored update).\n",
      "\u001b[34m\u001b[1mwandb\u001b[0m: \u001b[33mWARNING\u001b[0m Config item 'learning_rate' was locked by 'sweep' (ignored update).\n",
      "\u001b[34m\u001b[1mwandb\u001b[0m: \u001b[33mWARNING\u001b[0m Config item 'IMAGE_SIZE' was locked by 'sweep' (ignored update).\n",
      "\u001b[34m\u001b[1mwandb\u001b[0m: \u001b[33mWARNING\u001b[0m Config item 'EPOCH' was locked by 'sweep' (ignored update).\n",
      "\u001b[34m\u001b[1mwandb\u001b[0m: \u001b[33mWARNING\u001b[0m Config item 'rate_coding' was locked by 'sweep' (ignored update).\n",
      "\u001b[34m\u001b[1mwandb\u001b[0m: \u001b[33mWARNING\u001b[0m Config item 'pre_spike_weight' was locked by 'sweep' (ignored update).\n",
      "\u001b[34m\u001b[1mwandb\u001b[0m: \u001b[33mWARNING\u001b[0m Config item 'dvs_duration' was locked by 'sweep' (ignored update).\n",
      "\u001b[34m\u001b[1mwandb\u001b[0m: \u001b[33mWARNING\u001b[0m Config item 'dvs_clipping' was locked by 'sweep' (ignored update).\n",
      "\u001b[34m\u001b[1mwandb\u001b[0m: \u001b[33mWARNING\u001b[0m Config item 'no_reservoir' was locked by 'sweep' (ignored update).\n",
      "\u001b[34m\u001b[1mwandb\u001b[0m: \u001b[33mWARNING\u001b[0m Config item 'FC_RESERVOIR' was locked by 'sweep' (ignored update).\n"
     ]
    },
    {
     "name": "stdout",
     "output_type": "stream",
     "text": [
      "The directory [/data2/gesture/duration_100000] already exists.\n",
      "The directory [/data2/gesture/duration_100000] already exists.\n",
      "RESERVOIR_NET(\n",
      "  (classifier): Linear(in_features=32768, out_features=10, bias=True)\n",
      ")\n",
      "Epoch 1\n",
      "Train Accuracy: 38.68%\n",
      "Test loss: 1.415, Val Accuracy: 53.03%\n",
      "Epoch 2\n",
      "Train Accuracy: 63.45%\n",
      "Test loss: 1.326, Val Accuracy: 57.58%\n",
      "Epoch 3\n",
      "Train Accuracy: 73.28%\n",
      "Test loss: 1.181, Val Accuracy: 61.36%\n",
      "Epoch 4\n",
      "Train Accuracy: 78.76%\n",
      "Test loss: 1.181, Val Accuracy: 58.33%\n",
      "Epoch 5\n",
      "Train Accuracy: 81.82%\n",
      "Test loss: 1.241, Val Accuracy: 64.39%\n",
      "Epoch 6\n",
      "Train Accuracy: 87.01%\n",
      "Test loss: 1.055, Val Accuracy: 64.77%\n",
      "Epoch 7\n",
      "Train Accuracy: 91.47%\n",
      "Test loss: 1.082, Val Accuracy: 64.77%\n",
      "Epoch 8\n",
      "Train Accuracy: 93.88%\n",
      "Test loss: 1.016, Val Accuracy: 66.29%\n",
      "Epoch 9\n",
      "Train Accuracy: 97.12%\n",
      "Test loss: 1.099, Val Accuracy: 71.21%\n",
      "Epoch 10\n",
      "Train Accuracy: 98.33%\n",
      "Test loss: 1.161, Val Accuracy: 70.45%\n",
      "Epoch 11\n",
      "Train Accuracy: 98.70%\n",
      "Test loss: 1.118, Val Accuracy: 69.32%\n",
      "Epoch 12\n",
      "Train Accuracy: 98.79%\n",
      "Test loss: 1.190, Val Accuracy: 70.83%\n",
      "Epoch 13\n",
      "Train Accuracy: 99.35%\n",
      "Test loss: 1.065, Val Accuracy: 72.73%\n",
      "Epoch 14\n",
      "Train Accuracy: 99.81%\n",
      "Test loss: 1.174, Val Accuracy: 70.45%\n",
      "Epoch 15\n",
      "Train Accuracy: 99.91%\n",
      "Test loss: 1.119, Val Accuracy: 67.80%\n",
      "Epoch 16\n",
      "Train Accuracy: 99.91%\n",
      "Test loss: 1.171, Val Accuracy: 71.59%\n",
      "Epoch 17\n",
      "Train Accuracy: 99.91%\n",
      "Test loss: 1.068, Val Accuracy: 70.45%\n",
      "Epoch 18\n",
      "Train Accuracy: 99.91%\n",
      "Test loss: 1.157, Val Accuracy: 69.32%\n",
      "Epoch 19\n",
      "Train Accuracy: 99.91%\n",
      "Test loss: 1.125, Val Accuracy: 71.21%\n",
      "Epoch 20\n",
      "Train Accuracy: 100.00%\n",
      "Test loss: 1.201, Val Accuracy: 69.32%\n"
     ]
    },
    {
     "data": {
      "application/vnd.jupyter.widget-view+json": {
       "model_id": "30d6c91da8f54011bb1dc3df354dbce1",
       "version_major": 2,
       "version_minor": 0
      },
      "text/plain": [
       "VBox(children=(Label(value='0.192 MB of 0.192 MB uploaded\\r'), FloatProgress(value=1.0, max=1.0)))"
      ]
     },
     "metadata": {},
     "output_type": "display_data"
    },
    {
     "data": {
      "text/html": [
       "<style>\n",
       "    table.wandb td:nth-child(1) { padding: 0 10px; text-align: left ; width: auto;} td:nth-child(2) {text-align: left ; width: 100%}\n",
       "    .wandb-row { display: flex; flex-direction: row; flex-wrap: wrap; justify-content: flex-start; width: 100% }\n",
       "    .wandb-col { display: flex; flex-direction: column; flex-basis: 100%; flex: 1; padding: 10px; }\n",
       "    </style>\n",
       "<div class=\"wandb-row\"><div class=\"wandb-col\"><h3>Run history:</h3><br/><table class=\"wandb\"><tr><td>epoch</td><td>▁▁▂▂▂▃▃▄▄▄▅▅▅▆▆▇▇▇██</td></tr><tr><td>iter_accuracy</td><td>▁▄▅▄▅▆▅▅▇▆▇▇▇▇▇█▇███████████████████████</td></tr><tr><td>tr_accuracy</td><td>▁▄▅▆▆▇▇▇████████████</td></tr><tr><td>val_accuracy</td><td>▁▃▄▃▅▅▅▆▇▇▇▇█▇▆█▇▇▇▇</td></tr></table><br/></div><div class=\"wandb-col\"><h3>Run summary:</h3><br/><table class=\"wandb\"><tr><td>epoch</td><td>19</td></tr><tr><td>iter_accuracy</td><td>100.0</td></tr><tr><td>tr_accuracy</td><td>100.0</td></tr><tr><td>val_accuracy</td><td>69.31818</td></tr></table><br/></div></div>"
      ],
      "text/plain": [
       "<IPython.core.display.HTML object>"
      ]
     },
     "metadata": {},
     "output_type": "display_data"
    },
    {
     "data": {
      "text/html": [
       " View run <strong style=\"color:#cdcd00\">still-sweep-31</strong> at: <a href='https://wandb.ai/bhkim003-seoul-national-university/reservoir/runs/t98a58v1' target=\"_blank\">https://wandb.ai/bhkim003-seoul-national-university/reservoir/runs/t98a58v1</a><br/> View project at: <a href='https://wandb.ai/bhkim003-seoul-national-university/reservoir' target=\"_blank\">https://wandb.ai/bhkim003-seoul-national-university/reservoir</a><br/>Synced 7 W&B file(s), 0 media file(s), 0 artifact file(s) and 1 other file(s)"
      ],
      "text/plain": [
       "<IPython.core.display.HTML object>"
      ]
     },
     "metadata": {},
     "output_type": "display_data"
    },
    {
     "data": {
      "text/html": [
       "Find logs at: <code>./wandb/run-20240727_043957-t98a58v1/logs</code>"
      ],
      "text/plain": [
       "<IPython.core.display.HTML object>"
      ]
     },
     "metadata": {},
     "output_type": "display_data"
    },
    {
     "data": {
      "text/html": [
       "The new W&B backend becomes opt-out in version 0.18.0; try it out with `wandb.require(\"core\")`! See https://wandb.me/wandb-core for more information."
      ],
      "text/plain": [
       "<IPython.core.display.HTML object>"
      ]
     },
     "metadata": {},
     "output_type": "display_data"
    },
    {
     "name": "stderr",
     "output_type": "stream",
     "text": [
      "\u001b[34m\u001b[1mwandb\u001b[0m: Agent Starting Run: 4j3zyaun with config:\n",
      "\u001b[34m\u001b[1mwandb\u001b[0m: \tEPOCH: 20\n",
      "\u001b[34m\u001b[1mwandb\u001b[0m: \tFC_RESERVOIR: True\n",
      "\u001b[34m\u001b[1mwandb\u001b[0m: \tIMAGE_SIZE: 128\n",
      "\u001b[34m\u001b[1mwandb\u001b[0m: \tbatch_size: 256\n",
      "\u001b[34m\u001b[1mwandb\u001b[0m: \tdata_path: /data2\n",
      "\u001b[34m\u001b[1mwandb\u001b[0m: \tdecay: 0.9853215260742598\n",
      "\u001b[34m\u001b[1mwandb\u001b[0m: \tdvs_clipping: True\n",
      "\u001b[34m\u001b[1mwandb\u001b[0m: \tdvs_duration: 100000\n",
      "\u001b[34m\u001b[1mwandb\u001b[0m: \tlearning_rate: 0.007352067767509232\n",
      "\u001b[34m\u001b[1mwandb\u001b[0m: \tno_reservoir: True\n",
      "\u001b[34m\u001b[1mwandb\u001b[0m: \tpre_spike_weight: 9.28561863920332\n",
      "\u001b[34m\u001b[1mwandb\u001b[0m: \trate_coding: False\n",
      "\u001b[34m\u001b[1mwandb\u001b[0m: \ttime_step: 8\n",
      "\u001b[34m\u001b[1mwandb\u001b[0m: \twhich_data: DVS_GESTURE\n",
      "Failed to detect the name of this notebook, you can set it manually with the WANDB_NOTEBOOK_NAME environment variable to enable code saving.\n"
     ]
    },
    {
     "data": {
      "text/html": [
       "Tracking run with wandb version 0.17.5"
      ],
      "text/plain": [
       "<IPython.core.display.HTML object>"
      ]
     },
     "metadata": {},
     "output_type": "display_data"
    },
    {
     "data": {
      "text/html": [
       "Run data is saved locally in <code>/nfs/home/bhkim003/github_folder/ByeonghyeonKim/my_snn/wandb/run-20240727_045938-4j3zyaun</code>"
      ],
      "text/plain": [
       "<IPython.core.display.HTML object>"
      ]
     },
     "metadata": {},
     "output_type": "display_data"
    },
    {
     "data": {
      "text/html": [
       "Syncing run <strong><a href='https://wandb.ai/bhkim003-seoul-national-university/reservoir/runs/4j3zyaun' target=\"_blank\">lucky-sweep-32</a></strong> to <a href='https://wandb.ai/bhkim003-seoul-national-university/reservoir' target=\"_blank\">Weights & Biases</a> (<a href='https://wandb.me/run' target=\"_blank\">docs</a>)<br/>Sweep page: <a href='https://wandb.ai/bhkim003-seoul-national-university/reservoir/sweeps/sxt07a51' target=\"_blank\">https://wandb.ai/bhkim003-seoul-national-university/reservoir/sweeps/sxt07a51</a>"
      ],
      "text/plain": [
       "<IPython.core.display.HTML object>"
      ]
     },
     "metadata": {},
     "output_type": "display_data"
    },
    {
     "data": {
      "text/html": [
       " View project at <a href='https://wandb.ai/bhkim003-seoul-national-university/reservoir' target=\"_blank\">https://wandb.ai/bhkim003-seoul-national-university/reservoir</a>"
      ],
      "text/plain": [
       "<IPython.core.display.HTML object>"
      ]
     },
     "metadata": {},
     "output_type": "display_data"
    },
    {
     "data": {
      "text/html": [
       " View sweep at <a href='https://wandb.ai/bhkim003-seoul-national-university/reservoir/sweeps/sxt07a51' target=\"_blank\">https://wandb.ai/bhkim003-seoul-national-university/reservoir/sweeps/sxt07a51</a>"
      ],
      "text/plain": [
       "<IPython.core.display.HTML object>"
      ]
     },
     "metadata": {},
     "output_type": "display_data"
    },
    {
     "data": {
      "text/html": [
       " View run at <a href='https://wandb.ai/bhkim003-seoul-national-university/reservoir/runs/4j3zyaun' target=\"_blank\">https://wandb.ai/bhkim003-seoul-national-university/reservoir/runs/4j3zyaun</a>"
      ],
      "text/plain": [
       "<IPython.core.display.HTML object>"
      ]
     },
     "metadata": {},
     "output_type": "display_data"
    },
    {
     "name": "stderr",
     "output_type": "stream",
     "text": [
      "\u001b[34m\u001b[1mwandb\u001b[0m: \u001b[33mWARNING\u001b[0m Config item 'data_path' was locked by 'sweep' (ignored update).\n",
      "\u001b[34m\u001b[1mwandb\u001b[0m: \u001b[33mWARNING\u001b[0m Config item 'which_data' was locked by 'sweep' (ignored update).\n",
      "\u001b[34m\u001b[1mwandb\u001b[0m: \u001b[33mWARNING\u001b[0m Config item 'learning_rate' was locked by 'sweep' (ignored update).\n",
      "\u001b[34m\u001b[1mwandb\u001b[0m: \u001b[33mWARNING\u001b[0m Config item 'IMAGE_SIZE' was locked by 'sweep' (ignored update).\n",
      "\u001b[34m\u001b[1mwandb\u001b[0m: \u001b[33mWARNING\u001b[0m Config item 'EPOCH' was locked by 'sweep' (ignored update).\n",
      "\u001b[34m\u001b[1mwandb\u001b[0m: \u001b[33mWARNING\u001b[0m Config item 'rate_coding' was locked by 'sweep' (ignored update).\n",
      "\u001b[34m\u001b[1mwandb\u001b[0m: \u001b[33mWARNING\u001b[0m Config item 'pre_spike_weight' was locked by 'sweep' (ignored update).\n",
      "\u001b[34m\u001b[1mwandb\u001b[0m: \u001b[33mWARNING\u001b[0m Config item 'dvs_duration' was locked by 'sweep' (ignored update).\n",
      "\u001b[34m\u001b[1mwandb\u001b[0m: \u001b[33mWARNING\u001b[0m Config item 'dvs_clipping' was locked by 'sweep' (ignored update).\n",
      "\u001b[34m\u001b[1mwandb\u001b[0m: \u001b[33mWARNING\u001b[0m Config item 'no_reservoir' was locked by 'sweep' (ignored update).\n",
      "\u001b[34m\u001b[1mwandb\u001b[0m: \u001b[33mWARNING\u001b[0m Config item 'FC_RESERVOIR' was locked by 'sweep' (ignored update).\n"
     ]
    },
    {
     "name": "stdout",
     "output_type": "stream",
     "text": [
      "The directory [/data2/gesture/duration_100000] already exists.\n",
      "The directory [/data2/gesture/duration_100000] already exists.\n",
      "RESERVOIR_NET(\n",
      "  (classifier): Linear(in_features=32768, out_features=10, bias=True)\n",
      ")\n",
      "Epoch 1\n",
      "Train Accuracy: 20.96%\n",
      "Test loss: 1.910, Val Accuracy: 47.73%\n",
      "Epoch 2\n",
      "Train Accuracy: 54.82%\n",
      "Test loss: 1.415, Val Accuracy: 50.00%\n",
      "Epoch 3\n",
      "Train Accuracy: 60.48%\n",
      "Test loss: 1.840, Val Accuracy: 48.48%\n",
      "Epoch 4\n",
      "Train Accuracy: 66.70%\n",
      "Test loss: 1.264, Val Accuracy: 59.09%\n",
      "Epoch 5\n",
      "Train Accuracy: 74.30%\n",
      "Test loss: 1.564, Val Accuracy: 62.12%\n",
      "Epoch 6\n",
      "Train Accuracy: 79.78%\n",
      "Test loss: 1.298, Val Accuracy: 65.53%\n",
      "Epoch 7\n",
      "Train Accuracy: 81.08%\n",
      "Test loss: 1.441, Val Accuracy: 62.50%\n",
      "Epoch 8\n",
      "Train Accuracy: 80.98%\n",
      "Test loss: 1.285, Val Accuracy: 65.15%\n",
      "Epoch 9\n",
      "Train Accuracy: 83.67%\n",
      "Test loss: 1.246, Val Accuracy: 64.02%\n",
      "Epoch 10\n",
      "Train Accuracy: 84.97%\n",
      "Test loss: 1.277, Val Accuracy: 66.29%\n",
      "Epoch 11\n",
      "Train Accuracy: 85.06%\n",
      "Test loss: 1.218, Val Accuracy: 67.42%\n",
      "Epoch 12\n",
      "Train Accuracy: 88.22%\n",
      "Test loss: 1.071, Val Accuracy: 63.64%\n",
      "Epoch 13\n",
      "Train Accuracy: 90.82%\n",
      "Test loss: 1.329, Val Accuracy: 69.70%\n",
      "Epoch 14\n",
      "Train Accuracy: 92.49%\n",
      "Test loss: 1.240, Val Accuracy: 68.94%\n",
      "Epoch 15\n",
      "Train Accuracy: 93.69%\n",
      "Test loss: 1.186, Val Accuracy: 69.32%\n",
      "Epoch 16\n",
      "Train Accuracy: 93.23%\n",
      "Test loss: 1.237, Val Accuracy: 68.94%\n",
      "Epoch 17\n",
      "Train Accuracy: 94.43%\n",
      "Test loss: 1.219, Val Accuracy: 69.32%\n",
      "Epoch 18\n",
      "Train Accuracy: 95.08%\n",
      "Test loss: 1.275, Val Accuracy: 68.18%\n",
      "Epoch 19\n",
      "Train Accuracy: 95.83%\n",
      "Test loss: 1.057, Val Accuracy: 70.08%\n",
      "Epoch 20\n",
      "Train Accuracy: 96.10%\n",
      "Test loss: 1.319, Val Accuracy: 68.94%\n"
     ]
    },
    {
     "data": {
      "application/vnd.jupyter.widget-view+json": {
       "model_id": "2939f3c8b9444ea1acdd1622800aaa71",
       "version_major": 2,
       "version_minor": 0
      },
      "text/plain": [
       "VBox(children=(Label(value='0.192 MB of 0.192 MB uploaded\\r'), FloatProgress(value=1.0, max=1.0)))"
      ]
     },
     "metadata": {},
     "output_type": "display_data"
    },
    {
     "data": {
      "text/html": [
       "<style>\n",
       "    table.wandb td:nth-child(1) { padding: 0 10px; text-align: left ; width: auto;} td:nth-child(2) {text-align: left ; width: 100%}\n",
       "    .wandb-row { display: flex; flex-direction: row; flex-wrap: wrap; justify-content: flex-start; width: 100% }\n",
       "    .wandb-col { display: flex; flex-direction: column; flex-basis: 100%; flex: 1; padding: 10px; }\n",
       "    </style>\n",
       "<div class=\"wandb-row\"><div class=\"wandb-col\"><h3>Run history:</h3><br/><table class=\"wandb\"><tr><td>epoch</td><td>▁▁▂▂▂▃▃▄▄▄▅▅▅▆▆▇▇▇██</td></tr><tr><td>iter_accuracy</td><td>▁▂▄▅▅▅▆▆▆▆▇▇▇▇▇▆▇▇▇▇▇▇▇▇████████████████</td></tr><tr><td>tr_accuracy</td><td>▁▄▅▅▆▆▇▇▇▇▇▇████████</td></tr><tr><td>val_accuracy</td><td>▁▂▁▅▆▇▆▆▆▇▇▆█████▇██</td></tr></table><br/></div><div class=\"wandb-col\"><h3>Run summary:</h3><br/><table class=\"wandb\"><tr><td>epoch</td><td>19</td></tr><tr><td>iter_accuracy</td><td>92.59259</td></tr><tr><td>tr_accuracy</td><td>96.1039</td></tr><tr><td>val_accuracy</td><td>68.93939</td></tr></table><br/></div></div>"
      ],
      "text/plain": [
       "<IPython.core.display.HTML object>"
      ]
     },
     "metadata": {},
     "output_type": "display_data"
    },
    {
     "data": {
      "text/html": [
       " View run <strong style=\"color:#cdcd00\">lucky-sweep-32</strong> at: <a href='https://wandb.ai/bhkim003-seoul-national-university/reservoir/runs/4j3zyaun' target=\"_blank\">https://wandb.ai/bhkim003-seoul-national-university/reservoir/runs/4j3zyaun</a><br/> View project at: <a href='https://wandb.ai/bhkim003-seoul-national-university/reservoir' target=\"_blank\">https://wandb.ai/bhkim003-seoul-national-university/reservoir</a><br/>Synced 7 W&B file(s), 0 media file(s), 0 artifact file(s) and 1 other file(s)"
      ],
      "text/plain": [
       "<IPython.core.display.HTML object>"
      ]
     },
     "metadata": {},
     "output_type": "display_data"
    },
    {
     "data": {
      "text/html": [
       "Find logs at: <code>./wandb/run-20240727_045938-4j3zyaun/logs</code>"
      ],
      "text/plain": [
       "<IPython.core.display.HTML object>"
      ]
     },
     "metadata": {},
     "output_type": "display_data"
    },
    {
     "data": {
      "text/html": [
       "The new W&B backend becomes opt-out in version 0.18.0; try it out with `wandb.require(\"core\")`! See https://wandb.me/wandb-core for more information."
      ],
      "text/plain": [
       "<IPython.core.display.HTML object>"
      ]
     },
     "metadata": {},
     "output_type": "display_data"
    },
    {
     "name": "stderr",
     "output_type": "stream",
     "text": [
      "\u001b[34m\u001b[1mwandb\u001b[0m: Agent Starting Run: 851v35qm with config:\n",
      "\u001b[34m\u001b[1mwandb\u001b[0m: \tEPOCH: 20\n",
      "\u001b[34m\u001b[1mwandb\u001b[0m: \tFC_RESERVOIR: True\n",
      "\u001b[34m\u001b[1mwandb\u001b[0m: \tIMAGE_SIZE: 128\n",
      "\u001b[34m\u001b[1mwandb\u001b[0m: \tbatch_size: 128\n",
      "\u001b[34m\u001b[1mwandb\u001b[0m: \tdata_path: /data2\n",
      "\u001b[34m\u001b[1mwandb\u001b[0m: \tdecay: 0.7881881571279432\n",
      "\u001b[34m\u001b[1mwandb\u001b[0m: \tdvs_clipping: True\n",
      "\u001b[34m\u001b[1mwandb\u001b[0m: \tdvs_duration: 100000\n",
      "\u001b[34m\u001b[1mwandb\u001b[0m: \tlearning_rate: 0.02833372598599332\n",
      "\u001b[34m\u001b[1mwandb\u001b[0m: \tno_reservoir: False\n",
      "\u001b[34m\u001b[1mwandb\u001b[0m: \tpre_spike_weight: 8.53454316709342\n",
      "\u001b[34m\u001b[1mwandb\u001b[0m: \trate_coding: True\n",
      "\u001b[34m\u001b[1mwandb\u001b[0m: \ttime_step: 7\n",
      "\u001b[34m\u001b[1mwandb\u001b[0m: \twhich_data: DVS_GESTURE\n",
      "Failed to detect the name of this notebook, you can set it manually with the WANDB_NOTEBOOK_NAME environment variable to enable code saving.\n"
     ]
    },
    {
     "data": {
      "text/html": [
       "Tracking run with wandb version 0.17.5"
      ],
      "text/plain": [
       "<IPython.core.display.HTML object>"
      ]
     },
     "metadata": {},
     "output_type": "display_data"
    },
    {
     "data": {
      "text/html": [
       "Run data is saved locally in <code>/nfs/home/bhkim003/github_folder/ByeonghyeonKim/my_snn/wandb/run-20240727_052242-851v35qm</code>"
      ],
      "text/plain": [
       "<IPython.core.display.HTML object>"
      ]
     },
     "metadata": {},
     "output_type": "display_data"
    },
    {
     "data": {
      "text/html": [
       "Syncing run <strong><a href='https://wandb.ai/bhkim003-seoul-national-university/reservoir/runs/851v35qm' target=\"_blank\">dulcet-sweep-33</a></strong> to <a href='https://wandb.ai/bhkim003-seoul-national-university/reservoir' target=\"_blank\">Weights & Biases</a> (<a href='https://wandb.me/run' target=\"_blank\">docs</a>)<br/>Sweep page: <a href='https://wandb.ai/bhkim003-seoul-national-university/reservoir/sweeps/sxt07a51' target=\"_blank\">https://wandb.ai/bhkim003-seoul-national-university/reservoir/sweeps/sxt07a51</a>"
      ],
      "text/plain": [
       "<IPython.core.display.HTML object>"
      ]
     },
     "metadata": {},
     "output_type": "display_data"
    },
    {
     "data": {
      "text/html": [
       " View project at <a href='https://wandb.ai/bhkim003-seoul-national-university/reservoir' target=\"_blank\">https://wandb.ai/bhkim003-seoul-national-university/reservoir</a>"
      ],
      "text/plain": [
       "<IPython.core.display.HTML object>"
      ]
     },
     "metadata": {},
     "output_type": "display_data"
    },
    {
     "data": {
      "text/html": [
       " View sweep at <a href='https://wandb.ai/bhkim003-seoul-national-university/reservoir/sweeps/sxt07a51' target=\"_blank\">https://wandb.ai/bhkim003-seoul-national-university/reservoir/sweeps/sxt07a51</a>"
      ],
      "text/plain": [
       "<IPython.core.display.HTML object>"
      ]
     },
     "metadata": {},
     "output_type": "display_data"
    },
    {
     "data": {
      "text/html": [
       " View run at <a href='https://wandb.ai/bhkim003-seoul-national-university/reservoir/runs/851v35qm' target=\"_blank\">https://wandb.ai/bhkim003-seoul-national-university/reservoir/runs/851v35qm</a>"
      ],
      "text/plain": [
       "<IPython.core.display.HTML object>"
      ]
     },
     "metadata": {},
     "output_type": "display_data"
    },
    {
     "name": "stderr",
     "output_type": "stream",
     "text": [
      "\u001b[34m\u001b[1mwandb\u001b[0m: \u001b[33mWARNING\u001b[0m Config item 'data_path' was locked by 'sweep' (ignored update).\n",
      "\u001b[34m\u001b[1mwandb\u001b[0m: \u001b[33mWARNING\u001b[0m Config item 'which_data' was locked by 'sweep' (ignored update).\n",
      "\u001b[34m\u001b[1mwandb\u001b[0m: \u001b[33mWARNING\u001b[0m Config item 'learning_rate' was locked by 'sweep' (ignored update).\n",
      "\u001b[34m\u001b[1mwandb\u001b[0m: \u001b[33mWARNING\u001b[0m Config item 'IMAGE_SIZE' was locked by 'sweep' (ignored update).\n",
      "\u001b[34m\u001b[1mwandb\u001b[0m: \u001b[33mWARNING\u001b[0m Config item 'EPOCH' was locked by 'sweep' (ignored update).\n",
      "\u001b[34m\u001b[1mwandb\u001b[0m: \u001b[33mWARNING\u001b[0m Config item 'rate_coding' was locked by 'sweep' (ignored update).\n",
      "\u001b[34m\u001b[1mwandb\u001b[0m: \u001b[33mWARNING\u001b[0m Config item 'pre_spike_weight' was locked by 'sweep' (ignored update).\n",
      "\u001b[34m\u001b[1mwandb\u001b[0m: \u001b[33mWARNING\u001b[0m Config item 'dvs_duration' was locked by 'sweep' (ignored update).\n",
      "\u001b[34m\u001b[1mwandb\u001b[0m: \u001b[33mWARNING\u001b[0m Config item 'dvs_clipping' was locked by 'sweep' (ignored update).\n",
      "\u001b[34m\u001b[1mwandb\u001b[0m: \u001b[33mWARNING\u001b[0m Config item 'no_reservoir' was locked by 'sweep' (ignored update).\n",
      "\u001b[34m\u001b[1mwandb\u001b[0m: \u001b[33mWARNING\u001b[0m Config item 'FC_RESERVOIR' was locked by 'sweep' (ignored update).\n"
     ]
    },
    {
     "name": "stdout",
     "output_type": "stream",
     "text": [
      "The directory [/data2/gesture/duration_100000] already exists.\n",
      "The directory [/data2/gesture/duration_100000] already exists.\n",
      "RESERVOIR_NET(\n",
      "  (reservoir): RESERVOIR(\n",
      "    (reservoir): Linear(in_features=32768, out_features=32768, bias=True)\n",
      "  )\n",
      "  (classifier): Linear(in_features=32768, out_features=10, bias=True)\n",
      ")\n",
      "Epoch 1\n",
      "Train Accuracy: 36.92%\n",
      "Test loss: 1.569, Val Accuracy: 56.06%\n",
      "Epoch 2\n",
      "Train Accuracy: 64.75%\n",
      "Test loss: 1.942, Val Accuracy: 53.41%\n",
      "Epoch 3\n",
      "Train Accuracy: 79.22%\n",
      "Test loss: 1.584, Val Accuracy: 58.71%\n",
      "Epoch 4\n",
      "Train Accuracy: 85.25%\n",
      "Test loss: 2.135, Val Accuracy: 60.23%\n",
      "Epoch 5\n",
      "Train Accuracy: 89.80%\n",
      "Test loss: 2.641, Val Accuracy: 64.39%\n",
      "Epoch 6\n",
      "Train Accuracy: 90.72%\n",
      "Test loss: 2.283, Val Accuracy: 64.77%\n",
      "Epoch 7\n",
      "Train Accuracy: 95.83%\n",
      "Test loss: 1.536, Val Accuracy: 63.26%\n",
      "Epoch 8\n",
      "Train Accuracy: 98.79%\n",
      "Test loss: 1.074, Val Accuracy: 64.39%\n",
      "Epoch 9\n",
      "Train Accuracy: 99.63%\n",
      "Test loss: 1.848, Val Accuracy: 67.05%\n",
      "Epoch 10\n",
      "Train Accuracy: 99.91%\n",
      "Test loss: 1.058, Val Accuracy: 68.18%\n",
      "Epoch 11\n",
      "Train Accuracy: 100.00%\n",
      "Test loss: 1.220, Val Accuracy: 70.08%\n",
      "Epoch 12\n",
      "Train Accuracy: 100.00%\n",
      "Test loss: 1.298, Val Accuracy: 68.94%\n",
      "Epoch 13\n",
      "Train Accuracy: 100.00%\n",
      "Test loss: 1.353, Val Accuracy: 68.56%\n",
      "Epoch 14\n",
      "Train Accuracy: 100.00%\n",
      "Test loss: 1.284, Val Accuracy: 70.45%\n",
      "Epoch 15\n",
      "Train Accuracy: 100.00%\n",
      "Test loss: 1.333, Val Accuracy: 68.94%\n",
      "Epoch 16\n",
      "Train Accuracy: 100.00%\n",
      "Test loss: 1.302, Val Accuracy: 69.70%\n",
      "Epoch 17\n",
      "Train Accuracy: 100.00%\n",
      "Test loss: 1.329, Val Accuracy: 68.18%\n",
      "Epoch 18\n",
      "Train Accuracy: 100.00%\n",
      "Test loss: 1.305, Val Accuracy: 69.70%\n",
      "Epoch 19\n",
      "Train Accuracy: 100.00%\n",
      "Test loss: 1.298, Val Accuracy: 69.70%\n",
      "Epoch 20\n",
      "Train Accuracy: 100.00%\n",
      "Test loss: 1.335, Val Accuracy: 68.94%\n"
     ]
    },
    {
     "data": {
      "application/vnd.jupyter.widget-view+json": {
       "model_id": "536384a551ef4c3db3df59004cc46334",
       "version_major": 2,
       "version_minor": 0
      },
      "text/plain": [
       "VBox(children=(Label(value='0.192 MB of 0.192 MB uploaded\\r'), FloatProgress(value=1.0, max=1.0)))"
      ]
     },
     "metadata": {},
     "output_type": "display_data"
    },
    {
     "data": {
      "text/html": [
       "<style>\n",
       "    table.wandb td:nth-child(1) { padding: 0 10px; text-align: left ; width: auto;} td:nth-child(2) {text-align: left ; width: 100%}\n",
       "    .wandb-row { display: flex; flex-direction: row; flex-wrap: wrap; justify-content: flex-start; width: 100% }\n",
       "    .wandb-col { display: flex; flex-direction: column; flex-basis: 100%; flex: 1; padding: 10px; }\n",
       "    </style>\n",
       "<div class=\"wandb-row\"><div class=\"wandb-col\"><h3>Run history:</h3><br/><table class=\"wandb\"><tr><td>epoch</td><td>▁▁▂▂▂▃▃▄▄▄▅▅▅▆▆▇▇▇██</td></tr><tr><td>iter_accuracy</td><td>▁▁▄▄▆▆▆▇▇▇▇█████████████████████████████</td></tr><tr><td>tr_accuracy</td><td>▁▄▆▆▇▇██████████████</td></tr><tr><td>val_accuracy</td><td>▂▁▃▄▆▆▅▆▇▇█▇▇█▇█▇██▇</td></tr></table><br/></div><div class=\"wandb-col\"><h3>Run summary:</h3><br/><table class=\"wandb\"><tr><td>epoch</td><td>19</td></tr><tr><td>iter_accuracy</td><td>100.0</td></tr><tr><td>tr_accuracy</td><td>100.0</td></tr><tr><td>val_accuracy</td><td>68.93939</td></tr></table><br/></div></div>"
      ],
      "text/plain": [
       "<IPython.core.display.HTML object>"
      ]
     },
     "metadata": {},
     "output_type": "display_data"
    },
    {
     "data": {
      "text/html": [
       " View run <strong style=\"color:#cdcd00\">dulcet-sweep-33</strong> at: <a href='https://wandb.ai/bhkim003-seoul-national-university/reservoir/runs/851v35qm' target=\"_blank\">https://wandb.ai/bhkim003-seoul-national-university/reservoir/runs/851v35qm</a><br/> View project at: <a href='https://wandb.ai/bhkim003-seoul-national-university/reservoir' target=\"_blank\">https://wandb.ai/bhkim003-seoul-national-university/reservoir</a><br/>Synced 7 W&B file(s), 0 media file(s), 0 artifact file(s) and 1 other file(s)"
      ],
      "text/plain": [
       "<IPython.core.display.HTML object>"
      ]
     },
     "metadata": {},
     "output_type": "display_data"
    },
    {
     "data": {
      "text/html": [
       "Find logs at: <code>./wandb/run-20240727_052242-851v35qm/logs</code>"
      ],
      "text/plain": [
       "<IPython.core.display.HTML object>"
      ]
     },
     "metadata": {},
     "output_type": "display_data"
    },
    {
     "data": {
      "text/html": [
       "The new W&B backend becomes opt-out in version 0.18.0; try it out with `wandb.require(\"core\")`! See https://wandb.me/wandb-core for more information."
      ],
      "text/plain": [
       "<IPython.core.display.HTML object>"
      ]
     },
     "metadata": {},
     "output_type": "display_data"
    },
    {
     "name": "stderr",
     "output_type": "stream",
     "text": [
      "\u001b[34m\u001b[1mwandb\u001b[0m: Sweep Agent: Waiting for job.\n",
      "\u001b[34m\u001b[1mwandb\u001b[0m: Job received.\n",
      "\u001b[34m\u001b[1mwandb\u001b[0m: Agent Starting Run: 65peq63f with config:\n",
      "\u001b[34m\u001b[1mwandb\u001b[0m: \tEPOCH: 20\n",
      "\u001b[34m\u001b[1mwandb\u001b[0m: \tFC_RESERVOIR: True\n",
      "\u001b[34m\u001b[1mwandb\u001b[0m: \tIMAGE_SIZE: 128\n",
      "\u001b[34m\u001b[1mwandb\u001b[0m: \tbatch_size: 64\n",
      "\u001b[34m\u001b[1mwandb\u001b[0m: \tdata_path: /data2\n",
      "\u001b[34m\u001b[1mwandb\u001b[0m: \tdecay: 0.8819411071291043\n",
      "\u001b[34m\u001b[1mwandb\u001b[0m: \tdvs_clipping: True\n",
      "\u001b[34m\u001b[1mwandb\u001b[0m: \tdvs_duration: 100000\n",
      "\u001b[34m\u001b[1mwandb\u001b[0m: \tlearning_rate: 0.01242074770078089\n",
      "\u001b[34m\u001b[1mwandb\u001b[0m: \tno_reservoir: True\n",
      "\u001b[34m\u001b[1mwandb\u001b[0m: \tpre_spike_weight: 9.993572877531136\n",
      "\u001b[34m\u001b[1mwandb\u001b[0m: \trate_coding: False\n",
      "\u001b[34m\u001b[1mwandb\u001b[0m: \ttime_step: 8\n",
      "\u001b[34m\u001b[1mwandb\u001b[0m: \twhich_data: DVS_GESTURE\n",
      "Failed to detect the name of this notebook, you can set it manually with the WANDB_NOTEBOOK_NAME environment variable to enable code saving.\n"
     ]
    },
    {
     "data": {
      "text/html": [
       "Tracking run with wandb version 0.17.5"
      ],
      "text/plain": [
       "<IPython.core.display.HTML object>"
      ]
     },
     "metadata": {},
     "output_type": "display_data"
    },
    {
     "data": {
      "text/html": [
       "Run data is saved locally in <code>/nfs/home/bhkim003/github_folder/ByeonghyeonKim/my_snn/wandb/run-20240727_060532-65peq63f</code>"
      ],
      "text/plain": [
       "<IPython.core.display.HTML object>"
      ]
     },
     "metadata": {},
     "output_type": "display_data"
    },
    {
     "data": {
      "text/html": [
       "Syncing run <strong><a href='https://wandb.ai/bhkim003-seoul-national-university/reservoir/runs/65peq63f' target=\"_blank\">northern-sweep-34</a></strong> to <a href='https://wandb.ai/bhkim003-seoul-national-university/reservoir' target=\"_blank\">Weights & Biases</a> (<a href='https://wandb.me/run' target=\"_blank\">docs</a>)<br/>Sweep page: <a href='https://wandb.ai/bhkim003-seoul-national-university/reservoir/sweeps/sxt07a51' target=\"_blank\">https://wandb.ai/bhkim003-seoul-national-university/reservoir/sweeps/sxt07a51</a>"
      ],
      "text/plain": [
       "<IPython.core.display.HTML object>"
      ]
     },
     "metadata": {},
     "output_type": "display_data"
    },
    {
     "data": {
      "text/html": [
       " View project at <a href='https://wandb.ai/bhkim003-seoul-national-university/reservoir' target=\"_blank\">https://wandb.ai/bhkim003-seoul-national-university/reservoir</a>"
      ],
      "text/plain": [
       "<IPython.core.display.HTML object>"
      ]
     },
     "metadata": {},
     "output_type": "display_data"
    },
    {
     "data": {
      "text/html": [
       " View sweep at <a href='https://wandb.ai/bhkim003-seoul-national-university/reservoir/sweeps/sxt07a51' target=\"_blank\">https://wandb.ai/bhkim003-seoul-national-university/reservoir/sweeps/sxt07a51</a>"
      ],
      "text/plain": [
       "<IPython.core.display.HTML object>"
      ]
     },
     "metadata": {},
     "output_type": "display_data"
    },
    {
     "data": {
      "text/html": [
       " View run at <a href='https://wandb.ai/bhkim003-seoul-national-university/reservoir/runs/65peq63f' target=\"_blank\">https://wandb.ai/bhkim003-seoul-national-university/reservoir/runs/65peq63f</a>"
      ],
      "text/plain": [
       "<IPython.core.display.HTML object>"
      ]
     },
     "metadata": {},
     "output_type": "display_data"
    },
    {
     "name": "stderr",
     "output_type": "stream",
     "text": [
      "\u001b[34m\u001b[1mwandb\u001b[0m: \u001b[33mWARNING\u001b[0m Config item 'data_path' was locked by 'sweep' (ignored update).\n",
      "\u001b[34m\u001b[1mwandb\u001b[0m: \u001b[33mWARNING\u001b[0m Config item 'which_data' was locked by 'sweep' (ignored update).\n",
      "\u001b[34m\u001b[1mwandb\u001b[0m: \u001b[33mWARNING\u001b[0m Config item 'learning_rate' was locked by 'sweep' (ignored update).\n",
      "\u001b[34m\u001b[1mwandb\u001b[0m: \u001b[33mWARNING\u001b[0m Config item 'IMAGE_SIZE' was locked by 'sweep' (ignored update).\n",
      "\u001b[34m\u001b[1mwandb\u001b[0m: \u001b[33mWARNING\u001b[0m Config item 'EPOCH' was locked by 'sweep' (ignored update).\n",
      "\u001b[34m\u001b[1mwandb\u001b[0m: \u001b[33mWARNING\u001b[0m Config item 'rate_coding' was locked by 'sweep' (ignored update).\n",
      "\u001b[34m\u001b[1mwandb\u001b[0m: \u001b[33mWARNING\u001b[0m Config item 'pre_spike_weight' was locked by 'sweep' (ignored update).\n",
      "\u001b[34m\u001b[1mwandb\u001b[0m: \u001b[33mWARNING\u001b[0m Config item 'dvs_duration' was locked by 'sweep' (ignored update).\n",
      "\u001b[34m\u001b[1mwandb\u001b[0m: \u001b[33mWARNING\u001b[0m Config item 'dvs_clipping' was locked by 'sweep' (ignored update).\n",
      "\u001b[34m\u001b[1mwandb\u001b[0m: \u001b[33mWARNING\u001b[0m Config item 'no_reservoir' was locked by 'sweep' (ignored update).\n",
      "\u001b[34m\u001b[1mwandb\u001b[0m: \u001b[33mWARNING\u001b[0m Config item 'FC_RESERVOIR' was locked by 'sweep' (ignored update).\n"
     ]
    },
    {
     "name": "stdout",
     "output_type": "stream",
     "text": [
      "The directory [/data2/gesture/duration_100000] already exists.\n",
      "The directory [/data2/gesture/duration_100000] already exists.\n",
      "RESERVOIR_NET(\n",
      "  (classifier): Linear(in_features=32768, out_features=10, bias=True)\n",
      ")\n",
      "Epoch 1\n",
      "Train Accuracy: 47.96%\n",
      "Test loss: 1.359, Val Accuracy: 53.79%\n",
      "Epoch 2\n",
      "Train Accuracy: 70.87%\n",
      "Test loss: 1.090, Val Accuracy: 63.26%\n",
      "Epoch 3\n",
      "Train Accuracy: 75.88%\n",
      "Test loss: 1.474, Val Accuracy: 61.74%\n",
      "Epoch 4\n",
      "Train Accuracy: 87.94%\n",
      "Test loss: 0.880, Val Accuracy: 70.08%\n",
      "Epoch 5\n",
      "Train Accuracy: 93.04%\n",
      "Test loss: 1.219, Val Accuracy: 61.36%\n",
      "Epoch 6\n",
      "Train Accuracy: 95.08%\n",
      "Test loss: 1.051, Val Accuracy: 69.32%\n",
      "Epoch 7\n",
      "Train Accuracy: 96.94%\n",
      "Test loss: 1.249, Val Accuracy: 65.15%\n",
      "Epoch 8\n",
      "Train Accuracy: 98.33%\n",
      "Test loss: 1.125, Val Accuracy: 69.70%\n",
      "Epoch 9\n",
      "Train Accuracy: 99.35%\n",
      "Test loss: 1.070, Val Accuracy: 69.70%\n",
      "Epoch 10\n",
      "Train Accuracy: 99.81%\n",
      "Test loss: 1.018, Val Accuracy: 69.70%\n",
      "Epoch 11\n",
      "Train Accuracy: 99.91%\n",
      "Test loss: 1.109, Val Accuracy: 69.70%\n",
      "Epoch 12\n",
      "Train Accuracy: 100.00%\n",
      "Test loss: 1.082, Val Accuracy: 72.35%\n",
      "Epoch 13\n",
      "Train Accuracy: 100.00%\n",
      "Test loss: 1.063, Val Accuracy: 70.45%\n",
      "Epoch 14\n",
      "Train Accuracy: 100.00%\n",
      "Test loss: 1.108, Val Accuracy: 71.21%\n",
      "Epoch 15\n",
      "Train Accuracy: 100.00%\n",
      "Test loss: 1.040, Val Accuracy: 69.70%\n",
      "Epoch 16\n",
      "Train Accuracy: 100.00%\n",
      "Test loss: 1.043, Val Accuracy: 70.83%\n",
      "Epoch 17\n",
      "Train Accuracy: 100.00%\n",
      "Test loss: 1.068, Val Accuracy: 69.32%\n",
      "Epoch 18\n",
      "Train Accuracy: 100.00%\n",
      "Test loss: 1.040, Val Accuracy: 70.83%\n",
      "Epoch 19\n",
      "Train Accuracy: 100.00%\n",
      "Test loss: 1.029, Val Accuracy: 70.83%\n",
      "Epoch 20\n",
      "Train Accuracy: 100.00%\n",
      "Test loss: 1.076, Val Accuracy: 69.32%\n"
     ]
    },
    {
     "data": {
      "application/vnd.jupyter.widget-view+json": {
       "model_id": "817ca308ec97496fbc8d891aaf668b3a",
       "version_major": 2,
       "version_minor": 0
      },
      "text/plain": [
       "VBox(children=(Label(value='0.192 MB of 0.192 MB uploaded\\r'), FloatProgress(value=1.0, max=1.0)))"
      ]
     },
     "metadata": {},
     "output_type": "display_data"
    },
    {
     "data": {
      "text/html": [
       "<style>\n",
       "    table.wandb td:nth-child(1) { padding: 0 10px; text-align: left ; width: auto;} td:nth-child(2) {text-align: left ; width: 100%}\n",
       "    .wandb-row { display: flex; flex-direction: row; flex-wrap: wrap; justify-content: flex-start; width: 100% }\n",
       "    .wandb-col { display: flex; flex-direction: column; flex-basis: 100%; flex: 1; padding: 10px; }\n",
       "    </style>\n",
       "<div class=\"wandb-row\"><div class=\"wandb-col\"><h3>Run history:</h3><br/><table class=\"wandb\"><tr><td>epoch</td><td>▁▁▂▂▂▃▃▄▄▄▅▅▅▆▆▇▇▇██</td></tr><tr><td>iter_accuracy</td><td>▁▃▄▅▅▅▅▇▆█▇█▇███████████████████████████</td></tr><tr><td>tr_accuracy</td><td>▁▄▅▆▇▇██████████████</td></tr><tr><td>val_accuracy</td><td>▁▅▄▇▄▇▅▇▇▇▇█▇█▇▇▇▇▇▇</td></tr></table><br/></div><div class=\"wandb-col\"><h3>Run summary:</h3><br/><table class=\"wandb\"><tr><td>epoch</td><td>19</td></tr><tr><td>iter_accuracy</td><td>100.0</td></tr><tr><td>tr_accuracy</td><td>100.0</td></tr><tr><td>val_accuracy</td><td>69.31818</td></tr></table><br/></div></div>"
      ],
      "text/plain": [
       "<IPython.core.display.HTML object>"
      ]
     },
     "metadata": {},
     "output_type": "display_data"
    },
    {
     "data": {
      "text/html": [
       " View run <strong style=\"color:#cdcd00\">northern-sweep-34</strong> at: <a href='https://wandb.ai/bhkim003-seoul-national-university/reservoir/runs/65peq63f' target=\"_blank\">https://wandb.ai/bhkim003-seoul-national-university/reservoir/runs/65peq63f</a><br/> View project at: <a href='https://wandb.ai/bhkim003-seoul-national-university/reservoir' target=\"_blank\">https://wandb.ai/bhkim003-seoul-national-university/reservoir</a><br/>Synced 7 W&B file(s), 0 media file(s), 0 artifact file(s) and 1 other file(s)"
      ],
      "text/plain": [
       "<IPython.core.display.HTML object>"
      ]
     },
     "metadata": {},
     "output_type": "display_data"
    },
    {
     "data": {
      "text/html": [
       "Find logs at: <code>./wandb/run-20240727_060532-65peq63f/logs</code>"
      ],
      "text/plain": [
       "<IPython.core.display.HTML object>"
      ]
     },
     "metadata": {},
     "output_type": "display_data"
    },
    {
     "data": {
      "text/html": [
       "The new W&B backend becomes opt-out in version 0.18.0; try it out with `wandb.require(\"core\")`! See https://wandb.me/wandb-core for more information."
      ],
      "text/plain": [
       "<IPython.core.display.HTML object>"
      ]
     },
     "metadata": {},
     "output_type": "display_data"
    },
    {
     "name": "stderr",
     "output_type": "stream",
     "text": [
      "\u001b[34m\u001b[1mwandb\u001b[0m: Sweep Agent: Waiting for job.\n",
      "\u001b[34m\u001b[1mwandb\u001b[0m: Job received.\n",
      "\u001b[34m\u001b[1mwandb\u001b[0m: Agent Starting Run: 1ic0mcf0 with config:\n",
      "\u001b[34m\u001b[1mwandb\u001b[0m: \tEPOCH: 20\n",
      "\u001b[34m\u001b[1mwandb\u001b[0m: \tFC_RESERVOIR: True\n",
      "\u001b[34m\u001b[1mwandb\u001b[0m: \tIMAGE_SIZE: 128\n",
      "\u001b[34m\u001b[1mwandb\u001b[0m: \tbatch_size: 256\n",
      "\u001b[34m\u001b[1mwandb\u001b[0m: \tdata_path: /data2\n",
      "\u001b[34m\u001b[1mwandb\u001b[0m: \tdecay: 0.6784041140163\n",
      "\u001b[34m\u001b[1mwandb\u001b[0m: \tdvs_clipping: True\n",
      "\u001b[34m\u001b[1mwandb\u001b[0m: \tdvs_duration: 100000\n",
      "\u001b[34m\u001b[1mwandb\u001b[0m: \tlearning_rate: 0.019000920254705157\n",
      "\u001b[34m\u001b[1mwandb\u001b[0m: \tno_reservoir: True\n",
      "\u001b[34m\u001b[1mwandb\u001b[0m: \tpre_spike_weight: 4.924288019753256\n",
      "\u001b[34m\u001b[1mwandb\u001b[0m: \trate_coding: True\n",
      "\u001b[34m\u001b[1mwandb\u001b[0m: \ttime_step: 8\n",
      "\u001b[34m\u001b[1mwandb\u001b[0m: \twhich_data: DVS_GESTURE\n",
      "Failed to detect the name of this notebook, you can set it manually with the WANDB_NOTEBOOK_NAME environment variable to enable code saving.\n"
     ]
    },
    {
     "data": {
      "text/html": [
       "Tracking run with wandb version 0.17.5"
      ],
      "text/plain": [
       "<IPython.core.display.HTML object>"
      ]
     },
     "metadata": {},
     "output_type": "display_data"
    },
    {
     "data": {
      "text/html": [
       "Run data is saved locally in <code>/nfs/home/bhkim003/github_folder/ByeonghyeonKim/my_snn/wandb/run-20240727_062528-1ic0mcf0</code>"
      ],
      "text/plain": [
       "<IPython.core.display.HTML object>"
      ]
     },
     "metadata": {},
     "output_type": "display_data"
    },
    {
     "data": {
      "text/html": [
       "Syncing run <strong><a href='https://wandb.ai/bhkim003-seoul-national-university/reservoir/runs/1ic0mcf0' target=\"_blank\">pleasant-sweep-35</a></strong> to <a href='https://wandb.ai/bhkim003-seoul-national-university/reservoir' target=\"_blank\">Weights & Biases</a> (<a href='https://wandb.me/run' target=\"_blank\">docs</a>)<br/>Sweep page: <a href='https://wandb.ai/bhkim003-seoul-national-university/reservoir/sweeps/sxt07a51' target=\"_blank\">https://wandb.ai/bhkim003-seoul-national-university/reservoir/sweeps/sxt07a51</a>"
      ],
      "text/plain": [
       "<IPython.core.display.HTML object>"
      ]
     },
     "metadata": {},
     "output_type": "display_data"
    },
    {
     "data": {
      "text/html": [
       " View project at <a href='https://wandb.ai/bhkim003-seoul-national-university/reservoir' target=\"_blank\">https://wandb.ai/bhkim003-seoul-national-university/reservoir</a>"
      ],
      "text/plain": [
       "<IPython.core.display.HTML object>"
      ]
     },
     "metadata": {},
     "output_type": "display_data"
    },
    {
     "data": {
      "text/html": [
       " View sweep at <a href='https://wandb.ai/bhkim003-seoul-national-university/reservoir/sweeps/sxt07a51' target=\"_blank\">https://wandb.ai/bhkim003-seoul-national-university/reservoir/sweeps/sxt07a51</a>"
      ],
      "text/plain": [
       "<IPython.core.display.HTML object>"
      ]
     },
     "metadata": {},
     "output_type": "display_data"
    },
    {
     "data": {
      "text/html": [
       " View run at <a href='https://wandb.ai/bhkim003-seoul-national-university/reservoir/runs/1ic0mcf0' target=\"_blank\">https://wandb.ai/bhkim003-seoul-national-university/reservoir/runs/1ic0mcf0</a>"
      ],
      "text/plain": [
       "<IPython.core.display.HTML object>"
      ]
     },
     "metadata": {},
     "output_type": "display_data"
    },
    {
     "name": "stderr",
     "output_type": "stream",
     "text": [
      "\u001b[34m\u001b[1mwandb\u001b[0m: \u001b[33mWARNING\u001b[0m Config item 'data_path' was locked by 'sweep' (ignored update).\n",
      "\u001b[34m\u001b[1mwandb\u001b[0m: \u001b[33mWARNING\u001b[0m Config item 'which_data' was locked by 'sweep' (ignored update).\n",
      "\u001b[34m\u001b[1mwandb\u001b[0m: \u001b[33mWARNING\u001b[0m Config item 'learning_rate' was locked by 'sweep' (ignored update).\n",
      "\u001b[34m\u001b[1mwandb\u001b[0m: \u001b[33mWARNING\u001b[0m Config item 'IMAGE_SIZE' was locked by 'sweep' (ignored update).\n",
      "\u001b[34m\u001b[1mwandb\u001b[0m: \u001b[33mWARNING\u001b[0m Config item 'EPOCH' was locked by 'sweep' (ignored update).\n",
      "\u001b[34m\u001b[1mwandb\u001b[0m: \u001b[33mWARNING\u001b[0m Config item 'rate_coding' was locked by 'sweep' (ignored update).\n",
      "\u001b[34m\u001b[1mwandb\u001b[0m: \u001b[33mWARNING\u001b[0m Config item 'pre_spike_weight' was locked by 'sweep' (ignored update).\n",
      "\u001b[34m\u001b[1mwandb\u001b[0m: \u001b[33mWARNING\u001b[0m Config item 'dvs_duration' was locked by 'sweep' (ignored update).\n",
      "\u001b[34m\u001b[1mwandb\u001b[0m: \u001b[33mWARNING\u001b[0m Config item 'dvs_clipping' was locked by 'sweep' (ignored update).\n",
      "\u001b[34m\u001b[1mwandb\u001b[0m: \u001b[33mWARNING\u001b[0m Config item 'no_reservoir' was locked by 'sweep' (ignored update).\n",
      "\u001b[34m\u001b[1mwandb\u001b[0m: \u001b[33mWARNING\u001b[0m Config item 'FC_RESERVOIR' was locked by 'sweep' (ignored update).\n"
     ]
    },
    {
     "name": "stdout",
     "output_type": "stream",
     "text": [
      "The directory [/data2/gesture/duration_100000] already exists.\n",
      "The directory [/data2/gesture/duration_100000] already exists.\n",
      "RESERVOIR_NET(\n",
      "  (classifier): Linear(in_features=32768, out_features=10, bias=True)\n",
      ")\n",
      "Epoch 1\n",
      "Train Accuracy: 28.29%\n",
      "Test loss: 1.527, Val Accuracy: 48.86%\n",
      "Epoch 2\n",
      "Train Accuracy: 60.95%\n",
      "Test loss: 1.406, Val Accuracy: 51.52%\n",
      "Epoch 3\n",
      "Train Accuracy: 69.29%\n",
      "Test loss: 1.877, Val Accuracy: 60.23%\n",
      "Epoch 4\n",
      "Train Accuracy: 74.86%\n",
      "Test loss: 1.264, Val Accuracy: 65.53%\n",
      "Epoch 5\n",
      "Train Accuracy: 78.39%\n",
      "Test loss: 1.284, Val Accuracy: 64.39%\n",
      "Epoch 6\n",
      "Train Accuracy: 85.44%\n",
      "Test loss: 1.151, Val Accuracy: 64.39%\n",
      "Epoch 7\n",
      "Train Accuracy: 87.38%\n",
      "Test loss: 1.202, Val Accuracy: 67.42%\n",
      "Epoch 8\n",
      "Train Accuracy: 89.70%\n",
      "Test loss: 0.998, Val Accuracy: 70.08%\n",
      "Epoch 9\n",
      "Train Accuracy: 91.09%\n",
      "Test loss: 1.370, Val Accuracy: 65.53%\n",
      "Epoch 10\n",
      "Train Accuracy: 93.41%\n",
      "Test loss: 1.134, Val Accuracy: 71.97%\n",
      "Epoch 11\n",
      "Train Accuracy: 95.27%\n",
      "Test loss: 1.215, Val Accuracy: 67.05%\n",
      "Epoch 12\n",
      "Train Accuracy: 96.85%\n",
      "Test loss: 1.073, Val Accuracy: 68.56%\n",
      "Epoch 13\n",
      "Train Accuracy: 96.20%\n",
      "Test loss: 1.331, Val Accuracy: 70.45%\n",
      "Epoch 14\n",
      "Train Accuracy: 96.57%\n",
      "Test loss: 1.172, Val Accuracy: 65.91%\n",
      "Epoch 15\n",
      "Train Accuracy: 98.05%\n",
      "Test loss: 1.416, Val Accuracy: 71.59%\n",
      "Epoch 16\n",
      "Train Accuracy: 97.87%\n",
      "Test loss: 1.158, Val Accuracy: 65.91%\n",
      "Epoch 17\n",
      "Train Accuracy: 99.07%\n",
      "Test loss: 1.399, Val Accuracy: 71.97%\n",
      "Epoch 18\n",
      "Train Accuracy: 98.98%\n",
      "Test loss: 1.392, Val Accuracy: 68.94%\n",
      "Epoch 19\n",
      "Train Accuracy: 99.26%\n",
      "Test loss: 1.183, Val Accuracy: 70.45%\n",
      "Epoch 20\n",
      "Train Accuracy: 99.54%\n",
      "Test loss: 1.494, Val Accuracy: 71.21%\n"
     ]
    },
    {
     "data": {
      "application/vnd.jupyter.widget-view+json": {
       "model_id": "405ed3c2280e4d2c97feb31cea6f623f",
       "version_major": 2,
       "version_minor": 0
      },
      "text/plain": [
       "VBox(children=(Label(value='0.192 MB of 0.192 MB uploaded\\r'), FloatProgress(value=1.0, max=1.0)))"
      ]
     },
     "metadata": {},
     "output_type": "display_data"
    },
    {
     "data": {
      "text/html": [
       "<style>\n",
       "    table.wandb td:nth-child(1) { padding: 0 10px; text-align: left ; width: auto;} td:nth-child(2) {text-align: left ; width: 100%}\n",
       "    .wandb-row { display: flex; flex-direction: row; flex-wrap: wrap; justify-content: flex-start; width: 100% }\n",
       "    .wandb-col { display: flex; flex-direction: column; flex-basis: 100%; flex: 1; padding: 10px; }\n",
       "    </style>\n",
       "<div class=\"wandb-row\"><div class=\"wandb-col\"><h3>Run history:</h3><br/><table class=\"wandb\"><tr><td>epoch</td><td>▁▁▂▂▂▃▃▄▄▄▅▅▅▆▆▇▇▇██</td></tr><tr><td>iter_accuracy</td><td>▁▂▅▅▅▆▆▆▆▆▇▇▇▇▇▇▇█▇█████████████████████</td></tr><tr><td>tr_accuracy</td><td>▁▄▅▆▆▇▇▇▇▇██████████</td></tr><tr><td>val_accuracy</td><td>▁▂▄▆▆▆▇▇▆█▇▇█▆█▆█▇██</td></tr></table><br/></div><div class=\"wandb-col\"><h3>Run summary:</h3><br/><table class=\"wandb\"><tr><td>epoch</td><td>19</td></tr><tr><td>iter_accuracy</td><td>100.0</td></tr><tr><td>tr_accuracy</td><td>99.53618</td></tr><tr><td>val_accuracy</td><td>71.21212</td></tr></table><br/></div></div>"
      ],
      "text/plain": [
       "<IPython.core.display.HTML object>"
      ]
     },
     "metadata": {},
     "output_type": "display_data"
    },
    {
     "data": {
      "text/html": [
       " View run <strong style=\"color:#cdcd00\">pleasant-sweep-35</strong> at: <a href='https://wandb.ai/bhkim003-seoul-national-university/reservoir/runs/1ic0mcf0' target=\"_blank\">https://wandb.ai/bhkim003-seoul-national-university/reservoir/runs/1ic0mcf0</a><br/> View project at: <a href='https://wandb.ai/bhkim003-seoul-national-university/reservoir' target=\"_blank\">https://wandb.ai/bhkim003-seoul-national-university/reservoir</a><br/>Synced 7 W&B file(s), 0 media file(s), 0 artifact file(s) and 1 other file(s)"
      ],
      "text/plain": [
       "<IPython.core.display.HTML object>"
      ]
     },
     "metadata": {},
     "output_type": "display_data"
    },
    {
     "data": {
      "text/html": [
       "Find logs at: <code>./wandb/run-20240727_062528-1ic0mcf0/logs</code>"
      ],
      "text/plain": [
       "<IPython.core.display.HTML object>"
      ]
     },
     "metadata": {},
     "output_type": "display_data"
    },
    {
     "data": {
      "text/html": [
       "The new W&B backend becomes opt-out in version 0.18.0; try it out with `wandb.require(\"core\")`! See https://wandb.me/wandb-core for more information."
      ],
      "text/plain": [
       "<IPython.core.display.HTML object>"
      ]
     },
     "metadata": {},
     "output_type": "display_data"
    },
    {
     "name": "stderr",
     "output_type": "stream",
     "text": [
      "\u001b[34m\u001b[1mwandb\u001b[0m: Agent Starting Run: 939obixg with config:\n",
      "\u001b[34m\u001b[1mwandb\u001b[0m: \tEPOCH: 20\n",
      "\u001b[34m\u001b[1mwandb\u001b[0m: \tFC_RESERVOIR: True\n",
      "\u001b[34m\u001b[1mwandb\u001b[0m: \tIMAGE_SIZE: 128\n",
      "\u001b[34m\u001b[1mwandb\u001b[0m: \tbatch_size: 256\n",
      "\u001b[34m\u001b[1mwandb\u001b[0m: \tdata_path: /data2\n",
      "\u001b[34m\u001b[1mwandb\u001b[0m: \tdecay: 0.7847828000917382\n",
      "\u001b[34m\u001b[1mwandb\u001b[0m: \tdvs_clipping: True\n",
      "\u001b[34m\u001b[1mwandb\u001b[0m: \tdvs_duration: 100000\n",
      "\u001b[34m\u001b[1mwandb\u001b[0m: \tlearning_rate: 0.021999879920099365\n",
      "\u001b[34m\u001b[1mwandb\u001b[0m: \tno_reservoir: False\n",
      "\u001b[34m\u001b[1mwandb\u001b[0m: \tpre_spike_weight: 9.93917294717059\n",
      "\u001b[34m\u001b[1mwandb\u001b[0m: \trate_coding: False\n",
      "\u001b[34m\u001b[1mwandb\u001b[0m: \ttime_step: 7\n",
      "\u001b[34m\u001b[1mwandb\u001b[0m: \twhich_data: DVS_GESTURE\n",
      "Failed to detect the name of this notebook, you can set it manually with the WANDB_NOTEBOOK_NAME environment variable to enable code saving.\n"
     ]
    },
    {
     "data": {
      "text/html": [
       "Tracking run with wandb version 0.17.5"
      ],
      "text/plain": [
       "<IPython.core.display.HTML object>"
      ]
     },
     "metadata": {},
     "output_type": "display_data"
    },
    {
     "data": {
      "text/html": [
       "Run data is saved locally in <code>/nfs/home/bhkim003/github_folder/ByeonghyeonKim/my_snn/wandb/run-20240727_064811-939obixg</code>"
      ],
      "text/plain": [
       "<IPython.core.display.HTML object>"
      ]
     },
     "metadata": {},
     "output_type": "display_data"
    },
    {
     "data": {
      "text/html": [
       "Syncing run <strong><a href='https://wandb.ai/bhkim003-seoul-national-university/reservoir/runs/939obixg' target=\"_blank\">hardy-sweep-36</a></strong> to <a href='https://wandb.ai/bhkim003-seoul-national-university/reservoir' target=\"_blank\">Weights & Biases</a> (<a href='https://wandb.me/run' target=\"_blank\">docs</a>)<br/>Sweep page: <a href='https://wandb.ai/bhkim003-seoul-national-university/reservoir/sweeps/sxt07a51' target=\"_blank\">https://wandb.ai/bhkim003-seoul-national-university/reservoir/sweeps/sxt07a51</a>"
      ],
      "text/plain": [
       "<IPython.core.display.HTML object>"
      ]
     },
     "metadata": {},
     "output_type": "display_data"
    },
    {
     "data": {
      "text/html": [
       " View project at <a href='https://wandb.ai/bhkim003-seoul-national-university/reservoir' target=\"_blank\">https://wandb.ai/bhkim003-seoul-national-university/reservoir</a>"
      ],
      "text/plain": [
       "<IPython.core.display.HTML object>"
      ]
     },
     "metadata": {},
     "output_type": "display_data"
    },
    {
     "data": {
      "text/html": [
       " View sweep at <a href='https://wandb.ai/bhkim003-seoul-national-university/reservoir/sweeps/sxt07a51' target=\"_blank\">https://wandb.ai/bhkim003-seoul-national-university/reservoir/sweeps/sxt07a51</a>"
      ],
      "text/plain": [
       "<IPython.core.display.HTML object>"
      ]
     },
     "metadata": {},
     "output_type": "display_data"
    },
    {
     "data": {
      "text/html": [
       " View run at <a href='https://wandb.ai/bhkim003-seoul-national-university/reservoir/runs/939obixg' target=\"_blank\">https://wandb.ai/bhkim003-seoul-national-university/reservoir/runs/939obixg</a>"
      ],
      "text/plain": [
       "<IPython.core.display.HTML object>"
      ]
     },
     "metadata": {},
     "output_type": "display_data"
    },
    {
     "name": "stderr",
     "output_type": "stream",
     "text": [
      "\u001b[34m\u001b[1mwandb\u001b[0m: \u001b[33mWARNING\u001b[0m Config item 'data_path' was locked by 'sweep' (ignored update).\n",
      "\u001b[34m\u001b[1mwandb\u001b[0m: \u001b[33mWARNING\u001b[0m Config item 'which_data' was locked by 'sweep' (ignored update).\n",
      "\u001b[34m\u001b[1mwandb\u001b[0m: \u001b[33mWARNING\u001b[0m Config item 'learning_rate' was locked by 'sweep' (ignored update).\n",
      "\u001b[34m\u001b[1mwandb\u001b[0m: \u001b[33mWARNING\u001b[0m Config item 'IMAGE_SIZE' was locked by 'sweep' (ignored update).\n",
      "\u001b[34m\u001b[1mwandb\u001b[0m: \u001b[33mWARNING\u001b[0m Config item 'EPOCH' was locked by 'sweep' (ignored update).\n",
      "\u001b[34m\u001b[1mwandb\u001b[0m: \u001b[33mWARNING\u001b[0m Config item 'rate_coding' was locked by 'sweep' (ignored update).\n",
      "\u001b[34m\u001b[1mwandb\u001b[0m: \u001b[33mWARNING\u001b[0m Config item 'pre_spike_weight' was locked by 'sweep' (ignored update).\n",
      "\u001b[34m\u001b[1mwandb\u001b[0m: \u001b[33mWARNING\u001b[0m Config item 'dvs_duration' was locked by 'sweep' (ignored update).\n",
      "\u001b[34m\u001b[1mwandb\u001b[0m: \u001b[33mWARNING\u001b[0m Config item 'dvs_clipping' was locked by 'sweep' (ignored update).\n",
      "\u001b[34m\u001b[1mwandb\u001b[0m: \u001b[33mWARNING\u001b[0m Config item 'no_reservoir' was locked by 'sweep' (ignored update).\n",
      "\u001b[34m\u001b[1mwandb\u001b[0m: \u001b[33mWARNING\u001b[0m Config item 'FC_RESERVOIR' was locked by 'sweep' (ignored update).\n"
     ]
    },
    {
     "name": "stdout",
     "output_type": "stream",
     "text": [
      "The directory [/data2/gesture/duration_100000] already exists.\n",
      "The directory [/data2/gesture/duration_100000] already exists.\n",
      "RESERVOIR_NET(\n",
      "  (reservoir): RESERVOIR(\n",
      "    (reservoir): Linear(in_features=32768, out_features=32768, bias=True)\n",
      "  )\n",
      "  (classifier): Linear(in_features=32768, out_features=10, bias=True)\n",
      ")\n",
      "Epoch 1\n",
      "Train Accuracy: 31.35%\n",
      "Test loss: 2.102, Val Accuracy: 46.97%\n",
      "Epoch 2\n",
      "Train Accuracy: 58.63%\n",
      "Test loss: 1.708, Val Accuracy: 52.65%\n",
      "Epoch 3\n",
      "Train Accuracy: 70.50%\n",
      "Test loss: 1.314, Val Accuracy: 61.36%\n",
      "Epoch 4\n",
      "Train Accuracy: 75.14%\n",
      "Test loss: 1.091, Val Accuracy: 64.02%\n",
      "Epoch 5\n",
      "Train Accuracy: 82.28%\n",
      "Test loss: 1.400, Val Accuracy: 57.95%\n",
      "Epoch 6\n",
      "Train Accuracy: 87.20%\n",
      "Test loss: 1.266, Val Accuracy: 59.85%\n",
      "Epoch 7\n",
      "Train Accuracy: 90.35%\n",
      "Test loss: 1.090, Val Accuracy: 60.23%\n",
      "Epoch 8\n",
      "Train Accuracy: 92.12%\n",
      "Test loss: 1.176, Val Accuracy: 63.26%\n",
      "Epoch 9\n",
      "Train Accuracy: 94.43%\n",
      "Test loss: 1.730, Val Accuracy: 64.77%\n",
      "Epoch 10\n",
      "Train Accuracy: 95.36%\n",
      "Test loss: 1.102, Val Accuracy: 65.15%\n",
      "Epoch 11\n",
      "Train Accuracy: 97.59%\n",
      "Test loss: 1.452, Val Accuracy: 63.26%\n",
      "Epoch 12\n",
      "Train Accuracy: 98.79%\n",
      "Test loss: 1.368, Val Accuracy: 67.80%\n",
      "Epoch 13\n",
      "Train Accuracy: 99.26%\n",
      "Test loss: 1.171, Val Accuracy: 67.80%\n",
      "Epoch 14\n",
      "Train Accuracy: 99.07%\n",
      "Test loss: 1.332, Val Accuracy: 66.29%\n",
      "Epoch 15\n",
      "Train Accuracy: 99.44%\n",
      "Test loss: 1.209, Val Accuracy: 69.70%\n",
      "Epoch 16\n",
      "Train Accuracy: 99.91%\n",
      "Test loss: 1.379, Val Accuracy: 68.18%\n",
      "Epoch 17\n",
      "Train Accuracy: 99.91%\n",
      "Test loss: 1.320, Val Accuracy: 69.70%\n",
      "Epoch 18\n",
      "Train Accuracy: 99.91%\n",
      "Test loss: 1.289, Val Accuracy: 68.56%\n",
      "Epoch 19\n",
      "Train Accuracy: 99.91%\n",
      "Test loss: 1.372, Val Accuracy: 67.42%\n",
      "Epoch 20\n",
      "Train Accuracy: 100.00%\n",
      "Test loss: 1.320, Val Accuracy: 67.05%\n"
     ]
    },
    {
     "data": {
      "application/vnd.jupyter.widget-view+json": {
       "model_id": "b375e434f0d743e391c23ca38cb1bf71",
       "version_major": 2,
       "version_minor": 0
      },
      "text/plain": [
       "VBox(children=(Label(value='0.192 MB of 0.192 MB uploaded\\r'), FloatProgress(value=1.0, max=1.0)))"
      ]
     },
     "metadata": {},
     "output_type": "display_data"
    },
    {
     "data": {
      "text/html": [
       "<style>\n",
       "    table.wandb td:nth-child(1) { padding: 0 10px; text-align: left ; width: auto;} td:nth-child(2) {text-align: left ; width: 100%}\n",
       "    .wandb-row { display: flex; flex-direction: row; flex-wrap: wrap; justify-content: flex-start; width: 100% }\n",
       "    .wandb-col { display: flex; flex-direction: column; flex-basis: 100%; flex: 1; padding: 10px; }\n",
       "    </style>\n",
       "<div class=\"wandb-row\"><div class=\"wandb-col\"><h3>Run history:</h3><br/><table class=\"wandb\"><tr><td>epoch</td><td>▁▁▂▂▂▃▃▄▄▄▅▅▅▆▆▇▇▇██</td></tr><tr><td>iter_accuracy</td><td>▁▃▅▄▅▆▆▇▆▇▇▇▇▇▇▇████████████████████████</td></tr><tr><td>tr_accuracy</td><td>▁▄▅▅▆▇▇▇▇███████████</td></tr><tr><td>val_accuracy</td><td>▁▃▅▆▄▅▅▆▆▇▆▇▇▇████▇▇</td></tr></table><br/></div><div class=\"wandb-col\"><h3>Run summary:</h3><br/><table class=\"wandb\"><tr><td>epoch</td><td>19</td></tr><tr><td>iter_accuracy</td><td>100.0</td></tr><tr><td>tr_accuracy</td><td>100.0</td></tr><tr><td>val_accuracy</td><td>67.04545</td></tr></table><br/></div></div>"
      ],
      "text/plain": [
       "<IPython.core.display.HTML object>"
      ]
     },
     "metadata": {},
     "output_type": "display_data"
    },
    {
     "data": {
      "text/html": [
       " View run <strong style=\"color:#cdcd00\">hardy-sweep-36</strong> at: <a href='https://wandb.ai/bhkim003-seoul-national-university/reservoir/runs/939obixg' target=\"_blank\">https://wandb.ai/bhkim003-seoul-national-university/reservoir/runs/939obixg</a><br/> View project at: <a href='https://wandb.ai/bhkim003-seoul-national-university/reservoir' target=\"_blank\">https://wandb.ai/bhkim003-seoul-national-university/reservoir</a><br/>Synced 7 W&B file(s), 0 media file(s), 0 artifact file(s) and 1 other file(s)"
      ],
      "text/plain": [
       "<IPython.core.display.HTML object>"
      ]
     },
     "metadata": {},
     "output_type": "display_data"
    },
    {
     "data": {
      "text/html": [
       "Find logs at: <code>./wandb/run-20240727_064811-939obixg/logs</code>"
      ],
      "text/plain": [
       "<IPython.core.display.HTML object>"
      ]
     },
     "metadata": {},
     "output_type": "display_data"
    },
    {
     "data": {
      "text/html": [
       "The new W&B backend becomes opt-out in version 0.18.0; try it out with `wandb.require(\"core\")`! See https://wandb.me/wandb-core for more information."
      ],
      "text/plain": [
       "<IPython.core.display.HTML object>"
      ]
     },
     "metadata": {},
     "output_type": "display_data"
    },
    {
     "name": "stderr",
     "output_type": "stream",
     "text": [
      "\u001b[34m\u001b[1mwandb\u001b[0m: Sweep Agent: Waiting for job.\n",
      "\u001b[34m\u001b[1mwandb\u001b[0m: Job received.\n",
      "\u001b[34m\u001b[1mwandb\u001b[0m: Agent Starting Run: hfxc3aad with config:\n",
      "\u001b[34m\u001b[1mwandb\u001b[0m: \tEPOCH: 20\n",
      "\u001b[34m\u001b[1mwandb\u001b[0m: \tFC_RESERVOIR: True\n",
      "\u001b[34m\u001b[1mwandb\u001b[0m: \tIMAGE_SIZE: 128\n",
      "\u001b[34m\u001b[1mwandb\u001b[0m: \tbatch_size: 256\n",
      "\u001b[34m\u001b[1mwandb\u001b[0m: \tdata_path: /data2\n",
      "\u001b[34m\u001b[1mwandb\u001b[0m: \tdecay: 0.8262980820747596\n",
      "\u001b[34m\u001b[1mwandb\u001b[0m: \tdvs_clipping: True\n",
      "\u001b[34m\u001b[1mwandb\u001b[0m: \tdvs_duration: 100000\n",
      "\u001b[34m\u001b[1mwandb\u001b[0m: \tlearning_rate: 0.016305536003862895\n",
      "\u001b[34m\u001b[1mwandb\u001b[0m: \tno_reservoir: False\n",
      "\u001b[34m\u001b[1mwandb\u001b[0m: \tpre_spike_weight: 8.484442645616781\n",
      "\u001b[34m\u001b[1mwandb\u001b[0m: \trate_coding: True\n",
      "\u001b[34m\u001b[1mwandb\u001b[0m: \ttime_step: 7\n",
      "\u001b[34m\u001b[1mwandb\u001b[0m: \twhich_data: DVS_GESTURE\n",
      "Failed to detect the name of this notebook, you can set it manually with the WANDB_NOTEBOOK_NAME environment variable to enable code saving.\n"
     ]
    },
    {
     "data": {
      "text/html": [
       "Tracking run with wandb version 0.17.5"
      ],
      "text/plain": [
       "<IPython.core.display.HTML object>"
      ]
     },
     "metadata": {},
     "output_type": "display_data"
    },
    {
     "data": {
      "text/html": [
       "Run data is saved locally in <code>/nfs/home/bhkim003/github_folder/ByeonghyeonKim/my_snn/wandb/run-20240727_072419-hfxc3aad</code>"
      ],
      "text/plain": [
       "<IPython.core.display.HTML object>"
      ]
     },
     "metadata": {},
     "output_type": "display_data"
    },
    {
     "data": {
      "text/html": [
       "Syncing run <strong><a href='https://wandb.ai/bhkim003-seoul-national-university/reservoir/runs/hfxc3aad' target=\"_blank\">vivid-sweep-37</a></strong> to <a href='https://wandb.ai/bhkim003-seoul-national-university/reservoir' target=\"_blank\">Weights & Biases</a> (<a href='https://wandb.me/run' target=\"_blank\">docs</a>)<br/>Sweep page: <a href='https://wandb.ai/bhkim003-seoul-national-university/reservoir/sweeps/sxt07a51' target=\"_blank\">https://wandb.ai/bhkim003-seoul-national-university/reservoir/sweeps/sxt07a51</a>"
      ],
      "text/plain": [
       "<IPython.core.display.HTML object>"
      ]
     },
     "metadata": {},
     "output_type": "display_data"
    },
    {
     "data": {
      "text/html": [
       " View project at <a href='https://wandb.ai/bhkim003-seoul-national-university/reservoir' target=\"_blank\">https://wandb.ai/bhkim003-seoul-national-university/reservoir</a>"
      ],
      "text/plain": [
       "<IPython.core.display.HTML object>"
      ]
     },
     "metadata": {},
     "output_type": "display_data"
    },
    {
     "data": {
      "text/html": [
       " View sweep at <a href='https://wandb.ai/bhkim003-seoul-national-university/reservoir/sweeps/sxt07a51' target=\"_blank\">https://wandb.ai/bhkim003-seoul-national-university/reservoir/sweeps/sxt07a51</a>"
      ],
      "text/plain": [
       "<IPython.core.display.HTML object>"
      ]
     },
     "metadata": {},
     "output_type": "display_data"
    },
    {
     "data": {
      "text/html": [
       " View run at <a href='https://wandb.ai/bhkim003-seoul-national-university/reservoir/runs/hfxc3aad' target=\"_blank\">https://wandb.ai/bhkim003-seoul-national-university/reservoir/runs/hfxc3aad</a>"
      ],
      "text/plain": [
       "<IPython.core.display.HTML object>"
      ]
     },
     "metadata": {},
     "output_type": "display_data"
    },
    {
     "name": "stderr",
     "output_type": "stream",
     "text": [
      "\u001b[34m\u001b[1mwandb\u001b[0m: \u001b[33mWARNING\u001b[0m Config item 'data_path' was locked by 'sweep' (ignored update).\n",
      "\u001b[34m\u001b[1mwandb\u001b[0m: \u001b[33mWARNING\u001b[0m Config item 'which_data' was locked by 'sweep' (ignored update).\n",
      "\u001b[34m\u001b[1mwandb\u001b[0m: \u001b[33mWARNING\u001b[0m Config item 'learning_rate' was locked by 'sweep' (ignored update).\n",
      "\u001b[34m\u001b[1mwandb\u001b[0m: \u001b[33mWARNING\u001b[0m Config item 'IMAGE_SIZE' was locked by 'sweep' (ignored update).\n",
      "\u001b[34m\u001b[1mwandb\u001b[0m: \u001b[33mWARNING\u001b[0m Config item 'EPOCH' was locked by 'sweep' (ignored update).\n",
      "\u001b[34m\u001b[1mwandb\u001b[0m: \u001b[33mWARNING\u001b[0m Config item 'rate_coding' was locked by 'sweep' (ignored update).\n",
      "\u001b[34m\u001b[1mwandb\u001b[0m: \u001b[33mWARNING\u001b[0m Config item 'pre_spike_weight' was locked by 'sweep' (ignored update).\n",
      "\u001b[34m\u001b[1mwandb\u001b[0m: \u001b[33mWARNING\u001b[0m Config item 'dvs_duration' was locked by 'sweep' (ignored update).\n",
      "\u001b[34m\u001b[1mwandb\u001b[0m: \u001b[33mWARNING\u001b[0m Config item 'dvs_clipping' was locked by 'sweep' (ignored update).\n",
      "\u001b[34m\u001b[1mwandb\u001b[0m: \u001b[33mWARNING\u001b[0m Config item 'no_reservoir' was locked by 'sweep' (ignored update).\n",
      "\u001b[34m\u001b[1mwandb\u001b[0m: \u001b[33mWARNING\u001b[0m Config item 'FC_RESERVOIR' was locked by 'sweep' (ignored update).\n"
     ]
    },
    {
     "name": "stdout",
     "output_type": "stream",
     "text": [
      "The directory [/data2/gesture/duration_100000] already exists.\n",
      "The directory [/data2/gesture/duration_100000] already exists.\n",
      "RESERVOIR_NET(\n",
      "  (reservoir): RESERVOIR(\n",
      "    (reservoir): Linear(in_features=32768, out_features=32768, bias=True)\n",
      "  )\n",
      "  (classifier): Linear(in_features=32768, out_features=10, bias=True)\n",
      ")\n",
      "Epoch 1\n",
      "Train Accuracy: 26.35%\n",
      "Test loss: 2.297, Val Accuracy: 44.70%\n",
      "Epoch 2\n",
      "Train Accuracy: 54.64%\n",
      "Test loss: 2.610, Val Accuracy: 53.41%\n",
      "Epoch 3\n",
      "Train Accuracy: 62.24%\n",
      "Test loss: 1.389, Val Accuracy: 58.33%\n",
      "Epoch 4\n",
      "Train Accuracy: 69.48%\n",
      "Test loss: 2.479, Val Accuracy: 54.92%\n",
      "Epoch 5\n",
      "Train Accuracy: 72.45%\n",
      "Test loss: 1.350, Val Accuracy: 56.06%\n",
      "Epoch 6\n",
      "Train Accuracy: 76.25%\n",
      "Test loss: 1.645, Val Accuracy: 56.82%\n",
      "Epoch 7\n",
      "Train Accuracy: 81.08%\n",
      "Test loss: 1.379, Val Accuracy: 62.12%\n",
      "Epoch 8\n",
      "Train Accuracy: 90.17%\n",
      "Test loss: 1.190, Val Accuracy: 64.39%\n",
      "Epoch 9\n",
      "Train Accuracy: 93.51%\n",
      "Test loss: 1.493, Val Accuracy: 68.18%\n",
      "Epoch 10\n",
      "Train Accuracy: 96.20%\n",
      "Test loss: 1.243, Val Accuracy: 62.88%\n",
      "Epoch 11\n",
      "Train Accuracy: 96.57%\n",
      "Test loss: 1.239, Val Accuracy: 67.80%\n",
      "Epoch 12\n",
      "Train Accuracy: 97.31%\n",
      "Test loss: 1.263, Val Accuracy: 66.67%\n",
      "Epoch 13\n",
      "Train Accuracy: 98.52%\n",
      "Test loss: 1.227, Val Accuracy: 64.77%\n",
      "Epoch 14\n",
      "Train Accuracy: 98.89%\n",
      "Test loss: 1.291, Val Accuracy: 67.80%\n",
      "Epoch 15\n",
      "Train Accuracy: 98.98%\n",
      "Test loss: 1.153, Val Accuracy: 66.67%\n",
      "Epoch 16\n",
      "Train Accuracy: 99.35%\n",
      "Test loss: 1.312, Val Accuracy: 69.32%\n",
      "Epoch 17\n",
      "Train Accuracy: 99.44%\n",
      "Test loss: 1.319, Val Accuracy: 66.67%\n",
      "Epoch 18\n",
      "Train Accuracy: 99.54%\n",
      "Test loss: 1.153, Val Accuracy: 71.59%\n",
      "Epoch 19\n",
      "Train Accuracy: 99.63%\n",
      "Test loss: 1.351, Val Accuracy: 66.67%\n",
      "Epoch 20\n",
      "Train Accuracy: 99.81%\n",
      "Test loss: 1.278, Val Accuracy: 68.56%\n"
     ]
    },
    {
     "data": {
      "application/vnd.jupyter.widget-view+json": {
       "model_id": "ef4dbf79e1324df89ff00718de275c75",
       "version_major": 2,
       "version_minor": 0
      },
      "text/plain": [
       "VBox(children=(Label(value='0.192 MB of 0.192 MB uploaded\\r'), FloatProgress(value=1.0, max=1.0)))"
      ]
     },
     "metadata": {},
     "output_type": "display_data"
    },
    {
     "data": {
      "text/html": [
       "<style>\n",
       "    table.wandb td:nth-child(1) { padding: 0 10px; text-align: left ; width: auto;} td:nth-child(2) {text-align: left ; width: 100%}\n",
       "    .wandb-row { display: flex; flex-direction: row; flex-wrap: wrap; justify-content: flex-start; width: 100% }\n",
       "    .wandb-col { display: flex; flex-direction: column; flex-basis: 100%; flex: 1; padding: 10px; }\n",
       "    </style>\n",
       "<div class=\"wandb-row\"><div class=\"wandb-col\"><h3>Run history:</h3><br/><table class=\"wandb\"><tr><td>epoch</td><td>▁▁▂▂▂▃▃▄▄▄▅▅▅▆▆▇▇▇██</td></tr><tr><td>iter_accuracy</td><td>▁▃▄▅▄▆▆▆▆▆▆▇▆▆▇▇▇▇██████████████████████</td></tr><tr><td>tr_accuracy</td><td>▁▄▄▅▅▆▆▇▇███████████</td></tr><tr><td>val_accuracy</td><td>▁▃▅▄▄▄▆▆▇▆▇▇▆▇▇▇▇█▇▇</td></tr></table><br/></div><div class=\"wandb-col\"><h3>Run summary:</h3><br/><table class=\"wandb\"><tr><td>epoch</td><td>19</td></tr><tr><td>iter_accuracy</td><td>98.14815</td></tr><tr><td>tr_accuracy</td><td>99.81447</td></tr><tr><td>val_accuracy</td><td>68.56061</td></tr></table><br/></div></div>"
      ],
      "text/plain": [
       "<IPython.core.display.HTML object>"
      ]
     },
     "metadata": {},
     "output_type": "display_data"
    },
    {
     "data": {
      "text/html": [
       " View run <strong style=\"color:#cdcd00\">vivid-sweep-37</strong> at: <a href='https://wandb.ai/bhkim003-seoul-national-university/reservoir/runs/hfxc3aad' target=\"_blank\">https://wandb.ai/bhkim003-seoul-national-university/reservoir/runs/hfxc3aad</a><br/> View project at: <a href='https://wandb.ai/bhkim003-seoul-national-university/reservoir' target=\"_blank\">https://wandb.ai/bhkim003-seoul-national-university/reservoir</a><br/>Synced 7 W&B file(s), 0 media file(s), 0 artifact file(s) and 1 other file(s)"
      ],
      "text/plain": [
       "<IPython.core.display.HTML object>"
      ]
     },
     "metadata": {},
     "output_type": "display_data"
    },
    {
     "data": {
      "text/html": [
       "Find logs at: <code>./wandb/run-20240727_072419-hfxc3aad/logs</code>"
      ],
      "text/plain": [
       "<IPython.core.display.HTML object>"
      ]
     },
     "metadata": {},
     "output_type": "display_data"
    },
    {
     "data": {
      "text/html": [
       "The new W&B backend becomes opt-out in version 0.18.0; try it out with `wandb.require(\"core\")`! See https://wandb.me/wandb-core for more information."
      ],
      "text/plain": [
       "<IPython.core.display.HTML object>"
      ]
     },
     "metadata": {},
     "output_type": "display_data"
    },
    {
     "name": "stderr",
     "output_type": "stream",
     "text": [
      "\u001b[34m\u001b[1mwandb\u001b[0m: Agent Starting Run: wonlz5d5 with config:\n",
      "\u001b[34m\u001b[1mwandb\u001b[0m: \tEPOCH: 20\n",
      "\u001b[34m\u001b[1mwandb\u001b[0m: \tFC_RESERVOIR: True\n",
      "\u001b[34m\u001b[1mwandb\u001b[0m: \tIMAGE_SIZE: 48\n",
      "\u001b[34m\u001b[1mwandb\u001b[0m: \tbatch_size: 256\n",
      "\u001b[34m\u001b[1mwandb\u001b[0m: \tdata_path: /data2\n",
      "\u001b[34m\u001b[1mwandb\u001b[0m: \tdecay: 0.7798709418525159\n",
      "\u001b[34m\u001b[1mwandb\u001b[0m: \tdvs_clipping: True\n",
      "\u001b[34m\u001b[1mwandb\u001b[0m: \tdvs_duration: 100000\n",
      "\u001b[34m\u001b[1mwandb\u001b[0m: \tlearning_rate: 0.011420172118045144\n",
      "\u001b[34m\u001b[1mwandb\u001b[0m: \tno_reservoir: False\n",
      "\u001b[34m\u001b[1mwandb\u001b[0m: \tpre_spike_weight: 4.161126670737186\n",
      "\u001b[34m\u001b[1mwandb\u001b[0m: \trate_coding: False\n",
      "\u001b[34m\u001b[1mwandb\u001b[0m: \ttime_step: 8\n",
      "\u001b[34m\u001b[1mwandb\u001b[0m: \twhich_data: DVS_GESTURE\n",
      "Failed to detect the name of this notebook, you can set it manually with the WANDB_NOTEBOOK_NAME environment variable to enable code saving.\n"
     ]
    },
    {
     "data": {
      "text/html": [
       "Tracking run with wandb version 0.17.5"
      ],
      "text/plain": [
       "<IPython.core.display.HTML object>"
      ]
     },
     "metadata": {},
     "output_type": "display_data"
    },
    {
     "data": {
      "text/html": [
       "Run data is saved locally in <code>/nfs/home/bhkim003/github_folder/ByeonghyeonKim/my_snn/wandb/run-20240727_080046-wonlz5d5</code>"
      ],
      "text/plain": [
       "<IPython.core.display.HTML object>"
      ]
     },
     "metadata": {},
     "output_type": "display_data"
    },
    {
     "data": {
      "text/html": [
       "Syncing run <strong><a href='https://wandb.ai/bhkim003-seoul-national-university/reservoir/runs/wonlz5d5' target=\"_blank\">desert-sweep-38</a></strong> to <a href='https://wandb.ai/bhkim003-seoul-national-university/reservoir' target=\"_blank\">Weights & Biases</a> (<a href='https://wandb.me/run' target=\"_blank\">docs</a>)<br/>Sweep page: <a href='https://wandb.ai/bhkim003-seoul-national-university/reservoir/sweeps/sxt07a51' target=\"_blank\">https://wandb.ai/bhkim003-seoul-national-university/reservoir/sweeps/sxt07a51</a>"
      ],
      "text/plain": [
       "<IPython.core.display.HTML object>"
      ]
     },
     "metadata": {},
     "output_type": "display_data"
    },
    {
     "data": {
      "text/html": [
       " View project at <a href='https://wandb.ai/bhkim003-seoul-national-university/reservoir' target=\"_blank\">https://wandb.ai/bhkim003-seoul-national-university/reservoir</a>"
      ],
      "text/plain": [
       "<IPython.core.display.HTML object>"
      ]
     },
     "metadata": {},
     "output_type": "display_data"
    },
    {
     "data": {
      "text/html": [
       " View sweep at <a href='https://wandb.ai/bhkim003-seoul-national-university/reservoir/sweeps/sxt07a51' target=\"_blank\">https://wandb.ai/bhkim003-seoul-national-university/reservoir/sweeps/sxt07a51</a>"
      ],
      "text/plain": [
       "<IPython.core.display.HTML object>"
      ]
     },
     "metadata": {},
     "output_type": "display_data"
    },
    {
     "data": {
      "text/html": [
       " View run at <a href='https://wandb.ai/bhkim003-seoul-national-university/reservoir/runs/wonlz5d5' target=\"_blank\">https://wandb.ai/bhkim003-seoul-national-university/reservoir/runs/wonlz5d5</a>"
      ],
      "text/plain": [
       "<IPython.core.display.HTML object>"
      ]
     },
     "metadata": {},
     "output_type": "display_data"
    },
    {
     "name": "stderr",
     "output_type": "stream",
     "text": [
      "\u001b[34m\u001b[1mwandb\u001b[0m: \u001b[33mWARNING\u001b[0m Config item 'data_path' was locked by 'sweep' (ignored update).\n",
      "\u001b[34m\u001b[1mwandb\u001b[0m: \u001b[33mWARNING\u001b[0m Config item 'which_data' was locked by 'sweep' (ignored update).\n",
      "\u001b[34m\u001b[1mwandb\u001b[0m: \u001b[33mWARNING\u001b[0m Config item 'learning_rate' was locked by 'sweep' (ignored update).\n",
      "\u001b[34m\u001b[1mwandb\u001b[0m: \u001b[33mWARNING\u001b[0m Config item 'IMAGE_SIZE' was locked by 'sweep' (ignored update).\n",
      "\u001b[34m\u001b[1mwandb\u001b[0m: \u001b[33mWARNING\u001b[0m Config item 'EPOCH' was locked by 'sweep' (ignored update).\n",
      "\u001b[34m\u001b[1mwandb\u001b[0m: \u001b[33mWARNING\u001b[0m Config item 'rate_coding' was locked by 'sweep' (ignored update).\n",
      "\u001b[34m\u001b[1mwandb\u001b[0m: \u001b[33mWARNING\u001b[0m Config item 'pre_spike_weight' was locked by 'sweep' (ignored update).\n",
      "\u001b[34m\u001b[1mwandb\u001b[0m: \u001b[33mWARNING\u001b[0m Config item 'dvs_duration' was locked by 'sweep' (ignored update).\n",
      "\u001b[34m\u001b[1mwandb\u001b[0m: \u001b[33mWARNING\u001b[0m Config item 'dvs_clipping' was locked by 'sweep' (ignored update).\n",
      "\u001b[34m\u001b[1mwandb\u001b[0m: \u001b[33mWARNING\u001b[0m Config item 'no_reservoir' was locked by 'sweep' (ignored update).\n",
      "\u001b[34m\u001b[1mwandb\u001b[0m: \u001b[33mWARNING\u001b[0m Config item 'FC_RESERVOIR' was locked by 'sweep' (ignored update).\n"
     ]
    },
    {
     "name": "stdout",
     "output_type": "stream",
     "text": [
      "The directory [/data2/gesture/duration_100000] already exists.\n",
      "The directory [/data2/gesture/duration_100000] already exists.\n",
      "RESERVOIR_NET(\n",
      "  (reservoir): RESERVOIR(\n",
      "    (reservoir): Linear(in_features=4608, out_features=4608, bias=True)\n",
      "  )\n",
      "  (classifier): Linear(in_features=4608, out_features=10, bias=True)\n",
      ")\n",
      "Epoch 1\n",
      "Train Accuracy: 16.88%\n",
      "Test loss: 2.300, Val Accuracy: 27.27%\n",
      "Epoch 2\n",
      "Train Accuracy: 41.56%\n",
      "Test loss: 1.584, Val Accuracy: 37.88%\n",
      "Epoch 3\n",
      "Train Accuracy: 48.42%\n",
      "Test loss: 1.616, Val Accuracy: 51.14%\n",
      "Epoch 4\n",
      "Train Accuracy: 56.40%\n",
      "Test loss: 1.818, Val Accuracy: 50.00%\n",
      "Epoch 5\n",
      "Train Accuracy: 60.11%\n",
      "Test loss: 1.530, Val Accuracy: 49.62%\n",
      "Epoch 6\n",
      "Train Accuracy: 64.84%\n",
      "Test loss: 1.639, Val Accuracy: 51.89%\n",
      "Epoch 7\n",
      "Train Accuracy: 67.07%\n",
      "Test loss: 1.387, Val Accuracy: 50.00%\n",
      "Epoch 8\n",
      "Train Accuracy: 69.67%\n",
      "Test loss: 1.854, Val Accuracy: 54.92%\n",
      "Epoch 9\n",
      "Train Accuracy: 71.34%\n",
      "Test loss: 1.330, Val Accuracy: 60.23%\n",
      "Epoch 10\n",
      "Train Accuracy: 75.70%\n",
      "Test loss: 1.639, Val Accuracy: 56.06%\n",
      "Epoch 11\n",
      "Train Accuracy: 72.45%\n",
      "Test loss: 1.367, Val Accuracy: 62.50%\n",
      "Epoch 12\n",
      "Train Accuracy: 76.72%\n",
      "Test loss: 1.450, Val Accuracy: 59.09%\n",
      "Epoch 13\n",
      "Train Accuracy: 81.54%\n",
      "Test loss: 1.298, Val Accuracy: 67.42%\n",
      "Epoch 14\n",
      "Train Accuracy: 81.82%\n",
      "Test loss: 1.557, Val Accuracy: 62.50%\n",
      "Epoch 15\n",
      "Train Accuracy: 81.26%\n",
      "Test loss: 1.347, Val Accuracy: 65.15%\n",
      "Epoch 16\n",
      "Train Accuracy: 86.36%\n",
      "Test loss: 1.347, Val Accuracy: 66.67%\n",
      "Epoch 17\n",
      "Train Accuracy: 88.31%\n",
      "Test loss: 1.397, Val Accuracy: 68.56%\n",
      "Epoch 18\n",
      "Train Accuracy: 86.92%\n",
      "Test loss: 1.307, Val Accuracy: 65.91%\n",
      "Epoch 19\n",
      "Train Accuracy: 85.90%\n",
      "Test loss: 1.291, Val Accuracy: 67.05%\n",
      "Epoch 20\n",
      "Train Accuracy: 89.70%\n",
      "Test loss: 1.347, Val Accuracy: 71.21%\n"
     ]
    },
    {
     "data": {
      "application/vnd.jupyter.widget-view+json": {
       "model_id": "d94ab08fc37648888e500cafeb58380a",
       "version_major": 2,
       "version_minor": 0
      },
      "text/plain": [
       "VBox(children=(Label(value='0.192 MB of 0.192 MB uploaded\\r'), FloatProgress(value=1.0, max=1.0)))"
      ]
     },
     "metadata": {},
     "output_type": "display_data"
    },
    {
     "data": {
      "text/html": [
       "<style>\n",
       "    table.wandb td:nth-child(1) { padding: 0 10px; text-align: left ; width: auto;} td:nth-child(2) {text-align: left ; width: 100%}\n",
       "    .wandb-row { display: flex; flex-direction: row; flex-wrap: wrap; justify-content: flex-start; width: 100% }\n",
       "    .wandb-col { display: flex; flex-direction: column; flex-basis: 100%; flex: 1; padding: 10px; }\n",
       "    </style>\n",
       "<div class=\"wandb-row\"><div class=\"wandb-col\"><h3>Run history:</h3><br/><table class=\"wandb\"><tr><td>epoch</td><td>▁▁▂▂▂▃▃▄▄▄▅▅▅▆▆▇▇▇██</td></tr><tr><td>iter_accuracy</td><td>▁▂▃▄▅▄▅▅▆▅▆▆▆▆▆▇▆▇▇▇▆▇▇▇▇▇▇▇▇██▇██▇█████</td></tr><tr><td>tr_accuracy</td><td>▁▃▄▅▅▆▆▆▆▇▆▇▇▇▇█████</td></tr><tr><td>val_accuracy</td><td>▁▃▅▅▅▅▅▅▆▆▇▆▇▇▇▇█▇▇█</td></tr></table><br/></div><div class=\"wandb-col\"><h3>Run summary:</h3><br/><table class=\"wandb\"><tr><td>epoch</td><td>19</td></tr><tr><td>iter_accuracy</td><td>90.74074</td></tr><tr><td>tr_accuracy</td><td>89.70315</td></tr><tr><td>val_accuracy</td><td>71.21212</td></tr></table><br/></div></div>"
      ],
      "text/plain": [
       "<IPython.core.display.HTML object>"
      ]
     },
     "metadata": {},
     "output_type": "display_data"
    },
    {
     "data": {
      "text/html": [
       " View run <strong style=\"color:#cdcd00\">desert-sweep-38</strong> at: <a href='https://wandb.ai/bhkim003-seoul-national-university/reservoir/runs/wonlz5d5' target=\"_blank\">https://wandb.ai/bhkim003-seoul-national-university/reservoir/runs/wonlz5d5</a><br/> View project at: <a href='https://wandb.ai/bhkim003-seoul-national-university/reservoir' target=\"_blank\">https://wandb.ai/bhkim003-seoul-national-university/reservoir</a><br/>Synced 7 W&B file(s), 0 media file(s), 0 artifact file(s) and 1 other file(s)"
      ],
      "text/plain": [
       "<IPython.core.display.HTML object>"
      ]
     },
     "metadata": {},
     "output_type": "display_data"
    },
    {
     "data": {
      "text/html": [
       "Find logs at: <code>./wandb/run-20240727_080046-wonlz5d5/logs</code>"
      ],
      "text/plain": [
       "<IPython.core.display.HTML object>"
      ]
     },
     "metadata": {},
     "output_type": "display_data"
    },
    {
     "data": {
      "text/html": [
       "The new W&B backend becomes opt-out in version 0.18.0; try it out with `wandb.require(\"core\")`! See https://wandb.me/wandb-core for more information."
      ],
      "text/plain": [
       "<IPython.core.display.HTML object>"
      ]
     },
     "metadata": {},
     "output_type": "display_data"
    },
    {
     "name": "stderr",
     "output_type": "stream",
     "text": [
      "\u001b[34m\u001b[1mwandb\u001b[0m: Agent Starting Run: oirxq7eb with config:\n",
      "\u001b[34m\u001b[1mwandb\u001b[0m: \tEPOCH: 20\n",
      "\u001b[34m\u001b[1mwandb\u001b[0m: \tFC_RESERVOIR: True\n",
      "\u001b[34m\u001b[1mwandb\u001b[0m: \tIMAGE_SIZE: 128\n",
      "\u001b[34m\u001b[1mwandb\u001b[0m: \tbatch_size: 128\n",
      "\u001b[34m\u001b[1mwandb\u001b[0m: \tdata_path: /data2\n",
      "\u001b[34m\u001b[1mwandb\u001b[0m: \tdecay: 0.8110790904473306\n",
      "\u001b[34m\u001b[1mwandb\u001b[0m: \tdvs_clipping: True\n",
      "\u001b[34m\u001b[1mwandb\u001b[0m: \tdvs_duration: 100000\n",
      "\u001b[34m\u001b[1mwandb\u001b[0m: \tlearning_rate: 0.05291099252872576\n",
      "\u001b[34m\u001b[1mwandb\u001b[0m: \tno_reservoir: True\n",
      "\u001b[34m\u001b[1mwandb\u001b[0m: \tpre_spike_weight: 7.420945304871901\n",
      "\u001b[34m\u001b[1mwandb\u001b[0m: \trate_coding: True\n",
      "\u001b[34m\u001b[1mwandb\u001b[0m: \ttime_step: 8\n",
      "\u001b[34m\u001b[1mwandb\u001b[0m: \twhich_data: DVS_GESTURE\n",
      "Failed to detect the name of this notebook, you can set it manually with the WANDB_NOTEBOOK_NAME environment variable to enable code saving.\n"
     ]
    },
    {
     "data": {
      "text/html": [
       "Tracking run with wandb version 0.17.5"
      ],
      "text/plain": [
       "<IPython.core.display.HTML object>"
      ]
     },
     "metadata": {},
     "output_type": "display_data"
    },
    {
     "data": {
      "text/html": [
       "Run data is saved locally in <code>/nfs/home/bhkim003/github_folder/ByeonghyeonKim/my_snn/wandb/run-20240727_081716-oirxq7eb</code>"
      ],
      "text/plain": [
       "<IPython.core.display.HTML object>"
      ]
     },
     "metadata": {},
     "output_type": "display_data"
    },
    {
     "data": {
      "text/html": [
       "Syncing run <strong><a href='https://wandb.ai/bhkim003-seoul-national-university/reservoir/runs/oirxq7eb' target=\"_blank\">magic-sweep-39</a></strong> to <a href='https://wandb.ai/bhkim003-seoul-national-university/reservoir' target=\"_blank\">Weights & Biases</a> (<a href='https://wandb.me/run' target=\"_blank\">docs</a>)<br/>Sweep page: <a href='https://wandb.ai/bhkim003-seoul-national-university/reservoir/sweeps/sxt07a51' target=\"_blank\">https://wandb.ai/bhkim003-seoul-national-university/reservoir/sweeps/sxt07a51</a>"
      ],
      "text/plain": [
       "<IPython.core.display.HTML object>"
      ]
     },
     "metadata": {},
     "output_type": "display_data"
    },
    {
     "data": {
      "text/html": [
       " View project at <a href='https://wandb.ai/bhkim003-seoul-national-university/reservoir' target=\"_blank\">https://wandb.ai/bhkim003-seoul-national-university/reservoir</a>"
      ],
      "text/plain": [
       "<IPython.core.display.HTML object>"
      ]
     },
     "metadata": {},
     "output_type": "display_data"
    },
    {
     "data": {
      "text/html": [
       " View sweep at <a href='https://wandb.ai/bhkim003-seoul-national-university/reservoir/sweeps/sxt07a51' target=\"_blank\">https://wandb.ai/bhkim003-seoul-national-university/reservoir/sweeps/sxt07a51</a>"
      ],
      "text/plain": [
       "<IPython.core.display.HTML object>"
      ]
     },
     "metadata": {},
     "output_type": "display_data"
    },
    {
     "data": {
      "text/html": [
       " View run at <a href='https://wandb.ai/bhkim003-seoul-national-university/reservoir/runs/oirxq7eb' target=\"_blank\">https://wandb.ai/bhkim003-seoul-national-university/reservoir/runs/oirxq7eb</a>"
      ],
      "text/plain": [
       "<IPython.core.display.HTML object>"
      ]
     },
     "metadata": {},
     "output_type": "display_data"
    },
    {
     "name": "stderr",
     "output_type": "stream",
     "text": [
      "\u001b[34m\u001b[1mwandb\u001b[0m: \u001b[33mWARNING\u001b[0m Config item 'data_path' was locked by 'sweep' (ignored update).\n",
      "\u001b[34m\u001b[1mwandb\u001b[0m: \u001b[33mWARNING\u001b[0m Config item 'which_data' was locked by 'sweep' (ignored update).\n",
      "\u001b[34m\u001b[1mwandb\u001b[0m: \u001b[33mWARNING\u001b[0m Config item 'learning_rate' was locked by 'sweep' (ignored update).\n",
      "\u001b[34m\u001b[1mwandb\u001b[0m: \u001b[33mWARNING\u001b[0m Config item 'IMAGE_SIZE' was locked by 'sweep' (ignored update).\n",
      "\u001b[34m\u001b[1mwandb\u001b[0m: \u001b[33mWARNING\u001b[0m Config item 'EPOCH' was locked by 'sweep' (ignored update).\n",
      "\u001b[34m\u001b[1mwandb\u001b[0m: \u001b[33mWARNING\u001b[0m Config item 'rate_coding' was locked by 'sweep' (ignored update).\n",
      "\u001b[34m\u001b[1mwandb\u001b[0m: \u001b[33mWARNING\u001b[0m Config item 'pre_spike_weight' was locked by 'sweep' (ignored update).\n",
      "\u001b[34m\u001b[1mwandb\u001b[0m: \u001b[33mWARNING\u001b[0m Config item 'dvs_duration' was locked by 'sweep' (ignored update).\n",
      "\u001b[34m\u001b[1mwandb\u001b[0m: \u001b[33mWARNING\u001b[0m Config item 'dvs_clipping' was locked by 'sweep' (ignored update).\n",
      "\u001b[34m\u001b[1mwandb\u001b[0m: \u001b[33mWARNING\u001b[0m Config item 'no_reservoir' was locked by 'sweep' (ignored update).\n",
      "\u001b[34m\u001b[1mwandb\u001b[0m: \u001b[33mWARNING\u001b[0m Config item 'FC_RESERVOIR' was locked by 'sweep' (ignored update).\n"
     ]
    },
    {
     "name": "stdout",
     "output_type": "stream",
     "text": [
      "The directory [/data2/gesture/duration_100000] already exists.\n",
      "The directory [/data2/gesture/duration_100000] already exists.\n",
      "RESERVOIR_NET(\n",
      "  (classifier): Linear(in_features=32768, out_features=10, bias=True)\n",
      ")\n",
      "Epoch 1\n",
      "Train Accuracy: 39.98%\n",
      "Test loss: 2.706, Val Accuracy: 39.02%\n",
      "Epoch 2\n",
      "Train Accuracy: 62.99%\n",
      "Test loss: 2.717, Val Accuracy: 58.33%\n",
      "Epoch 3\n",
      "Train Accuracy: 77.18%\n",
      "Test loss: 2.340, Val Accuracy: 57.20%\n",
      "Epoch 4\n",
      "Train Accuracy: 84.69%\n",
      "Test loss: 1.637, Val Accuracy: 63.26%\n",
      "Epoch 5\n",
      "Train Accuracy: 88.13%\n",
      "Test loss: 1.598, Val Accuracy: 67.05%\n",
      "Epoch 6\n",
      "Train Accuracy: 95.64%\n",
      "Test loss: 1.939, Val Accuracy: 67.42%\n",
      "Epoch 7\n",
      "Train Accuracy: 99.17%\n",
      "Test loss: 1.231, Val Accuracy: 71.97%\n",
      "Epoch 8\n",
      "Train Accuracy: 99.54%\n",
      "Test loss: 1.333, Val Accuracy: 72.73%\n",
      "Epoch 9\n",
      "Train Accuracy: 99.81%\n",
      "Test loss: 1.484, Val Accuracy: 70.08%\n",
      "Epoch 10\n",
      "Train Accuracy: 99.91%\n",
      "Test loss: 1.289, Val Accuracy: 71.97%\n",
      "Epoch 11\n",
      "Train Accuracy: 100.00%\n",
      "Test loss: 1.313, Val Accuracy: 72.35%\n",
      "Epoch 12\n",
      "Train Accuracy: 100.00%\n",
      "Test loss: 1.396, Val Accuracy: 73.48%\n",
      "Epoch 13\n",
      "Train Accuracy: 100.00%\n",
      "Test loss: 1.304, Val Accuracy: 71.97%\n",
      "Epoch 14\n",
      "Train Accuracy: 100.00%\n",
      "Test loss: 1.396, Val Accuracy: 71.97%\n",
      "Epoch 15\n",
      "Train Accuracy: 100.00%\n",
      "Test loss: 1.353, Val Accuracy: 72.35%\n",
      "Epoch 16\n",
      "Train Accuracy: 100.00%\n",
      "Test loss: 1.372, Val Accuracy: 72.35%\n",
      "Epoch 17\n",
      "Train Accuracy: 100.00%\n",
      "Test loss: 1.399, Val Accuracy: 71.97%\n",
      "Epoch 18\n",
      "Train Accuracy: 100.00%\n",
      "Test loss: 1.390, Val Accuracy: 71.21%\n",
      "Epoch 19\n",
      "Train Accuracy: 100.00%\n",
      "Test loss: 1.397, Val Accuracy: 71.59%\n",
      "Epoch 20\n",
      "Train Accuracy: 100.00%\n",
      "Test loss: 1.399, Val Accuracy: 72.35%\n"
     ]
    },
    {
     "data": {
      "application/vnd.jupyter.widget-view+json": {
       "model_id": "7bfdbb1af2b34a07906c17da7c08ab85",
       "version_major": 2,
       "version_minor": 0
      },
      "text/plain": [
       "VBox(children=(Label(value='0.192 MB of 0.192 MB uploaded\\r'), FloatProgress(value=1.0, max=1.0)))"
      ]
     },
     "metadata": {},
     "output_type": "display_data"
    },
    {
     "data": {
      "text/html": [
       "<style>\n",
       "    table.wandb td:nth-child(1) { padding: 0 10px; text-align: left ; width: auto;} td:nth-child(2) {text-align: left ; width: 100%}\n",
       "    .wandb-row { display: flex; flex-direction: row; flex-wrap: wrap; justify-content: flex-start; width: 100% }\n",
       "    .wandb-col { display: flex; flex-direction: column; flex-basis: 100%; flex: 1; padding: 10px; }\n",
       "    </style>\n",
       "<div class=\"wandb-row\"><div class=\"wandb-col\"><h3>Run history:</h3><br/><table class=\"wandb\"><tr><td>epoch</td><td>▁▁▂▂▂▃▃▄▄▄▅▅▅▆▆▇▇▇██</td></tr><tr><td>iter_accuracy</td><td>▁▃▄▅▆▆▆▇▇▇██████████████████████████████</td></tr><tr><td>tr_accuracy</td><td>▁▄▅▆▇▇██████████████</td></tr><tr><td>val_accuracy</td><td>▁▅▅▆▇▇██▇███████████</td></tr></table><br/></div><div class=\"wandb-col\"><h3>Run summary:</h3><br/><table class=\"wandb\"><tr><td>epoch</td><td>19</td></tr><tr><td>iter_accuracy</td><td>100.0</td></tr><tr><td>tr_accuracy</td><td>100.0</td></tr><tr><td>val_accuracy</td><td>72.34848</td></tr></table><br/></div></div>"
      ],
      "text/plain": [
       "<IPython.core.display.HTML object>"
      ]
     },
     "metadata": {},
     "output_type": "display_data"
    },
    {
     "data": {
      "text/html": [
       " View run <strong style=\"color:#cdcd00\">magic-sweep-39</strong> at: <a href='https://wandb.ai/bhkim003-seoul-national-university/reservoir/runs/oirxq7eb' target=\"_blank\">https://wandb.ai/bhkim003-seoul-national-university/reservoir/runs/oirxq7eb</a><br/> View project at: <a href='https://wandb.ai/bhkim003-seoul-national-university/reservoir' target=\"_blank\">https://wandb.ai/bhkim003-seoul-national-university/reservoir</a><br/>Synced 7 W&B file(s), 0 media file(s), 0 artifact file(s) and 1 other file(s)"
      ],
      "text/plain": [
       "<IPython.core.display.HTML object>"
      ]
     },
     "metadata": {},
     "output_type": "display_data"
    },
    {
     "data": {
      "text/html": [
       "Find logs at: <code>./wandb/run-20240727_081716-oirxq7eb/logs</code>"
      ],
      "text/plain": [
       "<IPython.core.display.HTML object>"
      ]
     },
     "metadata": {},
     "output_type": "display_data"
    },
    {
     "data": {
      "text/html": [
       "The new W&B backend becomes opt-out in version 0.18.0; try it out with `wandb.require(\"core\")`! See https://wandb.me/wandb-core for more information."
      ],
      "text/plain": [
       "<IPython.core.display.HTML object>"
      ]
     },
     "metadata": {},
     "output_type": "display_data"
    },
    {
     "name": "stderr",
     "output_type": "stream",
     "text": [
      "\u001b[34m\u001b[1mwandb\u001b[0m: Agent Starting Run: 53yodf1e with config:\n",
      "\u001b[34m\u001b[1mwandb\u001b[0m: \tEPOCH: 20\n",
      "\u001b[34m\u001b[1mwandb\u001b[0m: \tFC_RESERVOIR: True\n",
      "\u001b[34m\u001b[1mwandb\u001b[0m: \tIMAGE_SIZE: 128\n",
      "\u001b[34m\u001b[1mwandb\u001b[0m: \tbatch_size: 64\n",
      "\u001b[34m\u001b[1mwandb\u001b[0m: \tdata_path: /data2\n",
      "\u001b[34m\u001b[1mwandb\u001b[0m: \tdecay: 0.7108368723853135\n",
      "\u001b[34m\u001b[1mwandb\u001b[0m: \tdvs_clipping: True\n",
      "\u001b[34m\u001b[1mwandb\u001b[0m: \tdvs_duration: 100000\n",
      "\u001b[34m\u001b[1mwandb\u001b[0m: \tlearning_rate: 0.02584291792312376\n",
      "\u001b[34m\u001b[1mwandb\u001b[0m: \tno_reservoir: False\n",
      "\u001b[34m\u001b[1mwandb\u001b[0m: \tpre_spike_weight: 7.176242687141675\n",
      "\u001b[34m\u001b[1mwandb\u001b[0m: \trate_coding: False\n",
      "\u001b[34m\u001b[1mwandb\u001b[0m: \ttime_step: 8\n",
      "\u001b[34m\u001b[1mwandb\u001b[0m: \twhich_data: DVS_GESTURE\n",
      "Failed to detect the name of this notebook, you can set it manually with the WANDB_NOTEBOOK_NAME environment variable to enable code saving.\n"
     ]
    },
    {
     "data": {
      "application/vnd.jupyter.widget-view+json": {
       "model_id": "11b8aa71b1ae4599a2a9f6f262b52996",
       "version_major": 2,
       "version_minor": 0
      },
      "text/plain": [
       "VBox(children=(Label(value='Waiting for wandb.init()...\\r'), FloatProgress(value=0.011113640122736494, max=1.0…"
      ]
     },
     "metadata": {},
     "output_type": "display_data"
    },
    {
     "data": {
      "text/html": [
       "Tracking run with wandb version 0.17.5"
      ],
      "text/plain": [
       "<IPython.core.display.HTML object>"
      ]
     },
     "metadata": {},
     "output_type": "display_data"
    },
    {
     "data": {
      "text/html": [
       "Run data is saved locally in <code>/nfs/home/bhkim003/github_folder/ByeonghyeonKim/my_snn/wandb/run-20240727_083645-53yodf1e</code>"
      ],
      "text/plain": [
       "<IPython.core.display.HTML object>"
      ]
     },
     "metadata": {},
     "output_type": "display_data"
    },
    {
     "data": {
      "text/html": [
       "Syncing run <strong><a href='https://wandb.ai/bhkim003-seoul-national-university/reservoir/runs/53yodf1e' target=\"_blank\">pretty-sweep-40</a></strong> to <a href='https://wandb.ai/bhkim003-seoul-national-university/reservoir' target=\"_blank\">Weights & Biases</a> (<a href='https://wandb.me/run' target=\"_blank\">docs</a>)<br/>Sweep page: <a href='https://wandb.ai/bhkim003-seoul-national-university/reservoir/sweeps/sxt07a51' target=\"_blank\">https://wandb.ai/bhkim003-seoul-national-university/reservoir/sweeps/sxt07a51</a>"
      ],
      "text/plain": [
       "<IPython.core.display.HTML object>"
      ]
     },
     "metadata": {},
     "output_type": "display_data"
    },
    {
     "data": {
      "text/html": [
       " View project at <a href='https://wandb.ai/bhkim003-seoul-national-university/reservoir' target=\"_blank\">https://wandb.ai/bhkim003-seoul-national-university/reservoir</a>"
      ],
      "text/plain": [
       "<IPython.core.display.HTML object>"
      ]
     },
     "metadata": {},
     "output_type": "display_data"
    },
    {
     "data": {
      "text/html": [
       " View sweep at <a href='https://wandb.ai/bhkim003-seoul-national-university/reservoir/sweeps/sxt07a51' target=\"_blank\">https://wandb.ai/bhkim003-seoul-national-university/reservoir/sweeps/sxt07a51</a>"
      ],
      "text/plain": [
       "<IPython.core.display.HTML object>"
      ]
     },
     "metadata": {},
     "output_type": "display_data"
    },
    {
     "data": {
      "text/html": [
       " View run at <a href='https://wandb.ai/bhkim003-seoul-national-university/reservoir/runs/53yodf1e' target=\"_blank\">https://wandb.ai/bhkim003-seoul-national-university/reservoir/runs/53yodf1e</a>"
      ],
      "text/plain": [
       "<IPython.core.display.HTML object>"
      ]
     },
     "metadata": {},
     "output_type": "display_data"
    },
    {
     "name": "stderr",
     "output_type": "stream",
     "text": [
      "\u001b[34m\u001b[1mwandb\u001b[0m: \u001b[33mWARNING\u001b[0m Config item 'data_path' was locked by 'sweep' (ignored update).\n",
      "\u001b[34m\u001b[1mwandb\u001b[0m: \u001b[33mWARNING\u001b[0m Config item 'which_data' was locked by 'sweep' (ignored update).\n",
      "\u001b[34m\u001b[1mwandb\u001b[0m: \u001b[33mWARNING\u001b[0m Config item 'learning_rate' was locked by 'sweep' (ignored update).\n",
      "\u001b[34m\u001b[1mwandb\u001b[0m: \u001b[33mWARNING\u001b[0m Config item 'IMAGE_SIZE' was locked by 'sweep' (ignored update).\n",
      "\u001b[34m\u001b[1mwandb\u001b[0m: \u001b[33mWARNING\u001b[0m Config item 'EPOCH' was locked by 'sweep' (ignored update).\n",
      "\u001b[34m\u001b[1mwandb\u001b[0m: \u001b[33mWARNING\u001b[0m Config item 'rate_coding' was locked by 'sweep' (ignored update).\n",
      "\u001b[34m\u001b[1mwandb\u001b[0m: \u001b[33mWARNING\u001b[0m Config item 'pre_spike_weight' was locked by 'sweep' (ignored update).\n",
      "\u001b[34m\u001b[1mwandb\u001b[0m: \u001b[33mWARNING\u001b[0m Config item 'dvs_duration' was locked by 'sweep' (ignored update).\n",
      "\u001b[34m\u001b[1mwandb\u001b[0m: \u001b[33mWARNING\u001b[0m Config item 'dvs_clipping' was locked by 'sweep' (ignored update).\n",
      "\u001b[34m\u001b[1mwandb\u001b[0m: \u001b[33mWARNING\u001b[0m Config item 'no_reservoir' was locked by 'sweep' (ignored update).\n",
      "\u001b[34m\u001b[1mwandb\u001b[0m: \u001b[33mWARNING\u001b[0m Config item 'FC_RESERVOIR' was locked by 'sweep' (ignored update).\n"
     ]
    },
    {
     "name": "stdout",
     "output_type": "stream",
     "text": [
      "The directory [/data2/gesture/duration_100000] already exists.\n",
      "The directory [/data2/gesture/duration_100000] already exists.\n",
      "RESERVOIR_NET(\n",
      "  (reservoir): RESERVOIR(\n",
      "    (reservoir): Linear(in_features=32768, out_features=32768, bias=True)\n",
      "  )\n",
      "  (classifier): Linear(in_features=32768, out_features=10, bias=True)\n",
      ")\n",
      "Epoch 1\n",
      "Train Accuracy: 41.19%\n",
      "Test loss: 3.614, Val Accuracy: 51.89%\n",
      "Epoch 2\n",
      "Train Accuracy: 71.71%\n",
      "Test loss: 1.707, Val Accuracy: 66.29%\n",
      "Epoch 3\n",
      "Train Accuracy: 79.50%\n",
      "Test loss: 1.626, Val Accuracy: 67.80%\n",
      "Epoch 4\n",
      "Train Accuracy: 90.72%\n",
      "Test loss: 1.269, Val Accuracy: 70.08%\n",
      "Epoch 5\n",
      "Train Accuracy: 96.20%\n",
      "Test loss: 1.208, Val Accuracy: 68.18%\n",
      "Epoch 6\n",
      "Train Accuracy: 98.89%\n",
      "Test loss: 1.197, Val Accuracy: 63.26%\n",
      "Epoch 7\n",
      "Train Accuracy: 99.54%\n",
      "Test loss: 1.272, Val Accuracy: 73.48%\n",
      "Epoch 8\n",
      "Train Accuracy: 100.00%\n",
      "Test loss: 1.190, Val Accuracy: 73.86%\n",
      "Epoch 9\n",
      "Train Accuracy: 99.91%\n",
      "Test loss: 1.225, Val Accuracy: 71.21%\n",
      "Epoch 10\n",
      "Train Accuracy: 100.00%\n",
      "Test loss: 1.172, Val Accuracy: 71.97%\n",
      "Epoch 11\n",
      "Train Accuracy: 100.00%\n",
      "Test loss: 1.211, Val Accuracy: 72.35%\n",
      "Epoch 12\n",
      "Train Accuracy: 100.00%\n",
      "Test loss: 1.201, Val Accuracy: 70.83%\n",
      "Epoch 13\n",
      "Train Accuracy: 100.00%\n",
      "Test loss: 1.169, Val Accuracy: 71.59%\n",
      "Epoch 14\n",
      "Train Accuracy: 100.00%\n",
      "Test loss: 1.184, Val Accuracy: 73.48%\n",
      "Epoch 15\n",
      "Train Accuracy: 100.00%\n",
      "Test loss: 1.215, Val Accuracy: 73.11%\n",
      "Epoch 16\n",
      "Train Accuracy: 100.00%\n",
      "Test loss: 1.195, Val Accuracy: 73.11%\n",
      "Epoch 17\n",
      "Train Accuracy: 100.00%\n",
      "Test loss: 1.200, Val Accuracy: 73.11%\n",
      "Epoch 18\n",
      "Train Accuracy: 100.00%\n",
      "Test loss: 1.209, Val Accuracy: 73.11%\n",
      "Epoch 19\n",
      "Train Accuracy: 100.00%\n",
      "Test loss: 1.229, Val Accuracy: 73.48%\n",
      "Epoch 20\n",
      "Train Accuracy: 100.00%\n",
      "Test loss: 1.178, Val Accuracy: 73.86%\n"
     ]
    },
    {
     "data": {
      "application/vnd.jupyter.widget-view+json": {
       "model_id": "45f108b6965548b78be5cb727e729ea0",
       "version_major": 2,
       "version_minor": 0
      },
      "text/plain": [
       "VBox(children=(Label(value='0.192 MB of 0.192 MB uploaded\\r'), FloatProgress(value=1.0, max=1.0)))"
      ]
     },
     "metadata": {},
     "output_type": "display_data"
    },
    {
     "data": {
      "text/html": [
       "<style>\n",
       "    table.wandb td:nth-child(1) { padding: 0 10px; text-align: left ; width: auto;} td:nth-child(2) {text-align: left ; width: 100%}\n",
       "    .wandb-row { display: flex; flex-direction: row; flex-wrap: wrap; justify-content: flex-start; width: 100% }\n",
       "    .wandb-col { display: flex; flex-direction: column; flex-basis: 100%; flex: 1; padding: 10px; }\n",
       "    </style>\n",
       "<div class=\"wandb-row\"><div class=\"wandb-col\"><h3>Run history:</h3><br/><table class=\"wandb\"><tr><td>epoch</td><td>▁▁▂▂▂▃▃▄▄▄▅▅▅▆▆▇▇▇██</td></tr><tr><td>iter_accuracy</td><td>▁▂▅▅▆▆▇█▇███████████████████████████████</td></tr><tr><td>tr_accuracy</td><td>▁▅▆▇████████████████</td></tr><tr><td>val_accuracy</td><td>▁▆▆▇▆▅██▇▇█▇▇███████</td></tr></table><br/></div><div class=\"wandb-col\"><h3>Run summary:</h3><br/><table class=\"wandb\"><tr><td>epoch</td><td>19</td></tr><tr><td>iter_accuracy</td><td>100.0</td></tr><tr><td>tr_accuracy</td><td>100.0</td></tr><tr><td>val_accuracy</td><td>73.86364</td></tr></table><br/></div></div>"
      ],
      "text/plain": [
       "<IPython.core.display.HTML object>"
      ]
     },
     "metadata": {},
     "output_type": "display_data"
    },
    {
     "data": {
      "text/html": [
       " View run <strong style=\"color:#cdcd00\">pretty-sweep-40</strong> at: <a href='https://wandb.ai/bhkim003-seoul-national-university/reservoir/runs/53yodf1e' target=\"_blank\">https://wandb.ai/bhkim003-seoul-national-university/reservoir/runs/53yodf1e</a><br/> View project at: <a href='https://wandb.ai/bhkim003-seoul-national-university/reservoir' target=\"_blank\">https://wandb.ai/bhkim003-seoul-national-university/reservoir</a><br/>Synced 7 W&B file(s), 0 media file(s), 0 artifact file(s) and 1 other file(s)"
      ],
      "text/plain": [
       "<IPython.core.display.HTML object>"
      ]
     },
     "metadata": {},
     "output_type": "display_data"
    },
    {
     "data": {
      "text/html": [
       "Find logs at: <code>./wandb/run-20240727_083645-53yodf1e/logs</code>"
      ],
      "text/plain": [
       "<IPython.core.display.HTML object>"
      ]
     },
     "metadata": {},
     "output_type": "display_data"
    },
    {
     "data": {
      "text/html": [
       "The new W&B backend becomes opt-out in version 0.18.0; try it out with `wandb.require(\"core\")`! See https://wandb.me/wandb-core for more information."
      ],
      "text/plain": [
       "<IPython.core.display.HTML object>"
      ]
     },
     "metadata": {},
     "output_type": "display_data"
    },
    {
     "name": "stderr",
     "output_type": "stream",
     "text": [
      "\u001b[34m\u001b[1mwandb\u001b[0m: Sweep Agent: Waiting for job.\n",
      "\u001b[34m\u001b[1mwandb\u001b[0m: Job received.\n",
      "\u001b[34m\u001b[1mwandb\u001b[0m: Agent Starting Run: 71gzrti1 with config:\n",
      "\u001b[34m\u001b[1mwandb\u001b[0m: \tEPOCH: 20\n",
      "\u001b[34m\u001b[1mwandb\u001b[0m: \tFC_RESERVOIR: True\n",
      "\u001b[34m\u001b[1mwandb\u001b[0m: \tIMAGE_SIZE: 48\n",
      "\u001b[34m\u001b[1mwandb\u001b[0m: \tbatch_size: 256\n",
      "\u001b[34m\u001b[1mwandb\u001b[0m: \tdata_path: /data2\n",
      "\u001b[34m\u001b[1mwandb\u001b[0m: \tdecay: 0.8696964803039273\n",
      "\u001b[34m\u001b[1mwandb\u001b[0m: \tdvs_clipping: True\n",
      "\u001b[34m\u001b[1mwandb\u001b[0m: \tdvs_duration: 100000\n",
      "\u001b[34m\u001b[1mwandb\u001b[0m: \tlearning_rate: 0.009394480649582714\n",
      "\u001b[34m\u001b[1mwandb\u001b[0m: \tno_reservoir: True\n",
      "\u001b[34m\u001b[1mwandb\u001b[0m: \tpre_spike_weight: 5.342421218056964\n",
      "\u001b[34m\u001b[1mwandb\u001b[0m: \trate_coding: False\n",
      "\u001b[34m\u001b[1mwandb\u001b[0m: \ttime_step: 8\n",
      "\u001b[34m\u001b[1mwandb\u001b[0m: \twhich_data: DVS_GESTURE\n",
      "Failed to detect the name of this notebook, you can set it manually with the WANDB_NOTEBOOK_NAME environment variable to enable code saving.\n"
     ]
    },
    {
     "data": {
      "text/html": [
       "Tracking run with wandb version 0.17.5"
      ],
      "text/plain": [
       "<IPython.core.display.HTML object>"
      ]
     },
     "metadata": {},
     "output_type": "display_data"
    },
    {
     "data": {
      "text/html": [
       "Run data is saved locally in <code>/nfs/home/bhkim003/github_folder/ByeonghyeonKim/my_snn/wandb/run-20240727_094525-71gzrti1</code>"
      ],
      "text/plain": [
       "<IPython.core.display.HTML object>"
      ]
     },
     "metadata": {},
     "output_type": "display_data"
    },
    {
     "data": {
      "text/html": [
       "Syncing run <strong><a href='https://wandb.ai/bhkim003-seoul-national-university/reservoir/runs/71gzrti1' target=\"_blank\">sleek-sweep-41</a></strong> to <a href='https://wandb.ai/bhkim003-seoul-national-university/reservoir' target=\"_blank\">Weights & Biases</a> (<a href='https://wandb.me/run' target=\"_blank\">docs</a>)<br/>Sweep page: <a href='https://wandb.ai/bhkim003-seoul-national-university/reservoir/sweeps/sxt07a51' target=\"_blank\">https://wandb.ai/bhkim003-seoul-national-university/reservoir/sweeps/sxt07a51</a>"
      ],
      "text/plain": [
       "<IPython.core.display.HTML object>"
      ]
     },
     "metadata": {},
     "output_type": "display_data"
    },
    {
     "data": {
      "text/html": [
       " View project at <a href='https://wandb.ai/bhkim003-seoul-national-university/reservoir' target=\"_blank\">https://wandb.ai/bhkim003-seoul-national-university/reservoir</a>"
      ],
      "text/plain": [
       "<IPython.core.display.HTML object>"
      ]
     },
     "metadata": {},
     "output_type": "display_data"
    },
    {
     "data": {
      "text/html": [
       " View sweep at <a href='https://wandb.ai/bhkim003-seoul-national-university/reservoir/sweeps/sxt07a51' target=\"_blank\">https://wandb.ai/bhkim003-seoul-national-university/reservoir/sweeps/sxt07a51</a>"
      ],
      "text/plain": [
       "<IPython.core.display.HTML object>"
      ]
     },
     "metadata": {},
     "output_type": "display_data"
    },
    {
     "data": {
      "text/html": [
       " View run at <a href='https://wandb.ai/bhkim003-seoul-national-university/reservoir/runs/71gzrti1' target=\"_blank\">https://wandb.ai/bhkim003-seoul-national-university/reservoir/runs/71gzrti1</a>"
      ],
      "text/plain": [
       "<IPython.core.display.HTML object>"
      ]
     },
     "metadata": {},
     "output_type": "display_data"
    },
    {
     "name": "stderr",
     "output_type": "stream",
     "text": [
      "\u001b[34m\u001b[1mwandb\u001b[0m: \u001b[33mWARNING\u001b[0m Config item 'data_path' was locked by 'sweep' (ignored update).\n",
      "\u001b[34m\u001b[1mwandb\u001b[0m: \u001b[33mWARNING\u001b[0m Config item 'which_data' was locked by 'sweep' (ignored update).\n",
      "\u001b[34m\u001b[1mwandb\u001b[0m: \u001b[33mWARNING\u001b[0m Config item 'learning_rate' was locked by 'sweep' (ignored update).\n",
      "\u001b[34m\u001b[1mwandb\u001b[0m: \u001b[33mWARNING\u001b[0m Config item 'IMAGE_SIZE' was locked by 'sweep' (ignored update).\n",
      "\u001b[34m\u001b[1mwandb\u001b[0m: \u001b[33mWARNING\u001b[0m Config item 'EPOCH' was locked by 'sweep' (ignored update).\n",
      "\u001b[34m\u001b[1mwandb\u001b[0m: \u001b[33mWARNING\u001b[0m Config item 'rate_coding' was locked by 'sweep' (ignored update).\n",
      "\u001b[34m\u001b[1mwandb\u001b[0m: \u001b[33mWARNING\u001b[0m Config item 'pre_spike_weight' was locked by 'sweep' (ignored update).\n",
      "\u001b[34m\u001b[1mwandb\u001b[0m: \u001b[33mWARNING\u001b[0m Config item 'dvs_duration' was locked by 'sweep' (ignored update).\n",
      "\u001b[34m\u001b[1mwandb\u001b[0m: \u001b[33mWARNING\u001b[0m Config item 'dvs_clipping' was locked by 'sweep' (ignored update).\n",
      "\u001b[34m\u001b[1mwandb\u001b[0m: \u001b[33mWARNING\u001b[0m Config item 'no_reservoir' was locked by 'sweep' (ignored update).\n",
      "\u001b[34m\u001b[1mwandb\u001b[0m: \u001b[33mWARNING\u001b[0m Config item 'FC_RESERVOIR' was locked by 'sweep' (ignored update).\n"
     ]
    },
    {
     "name": "stdout",
     "output_type": "stream",
     "text": [
      "The directory [/data2/gesture/duration_100000] already exists.\n",
      "The directory [/data2/gesture/duration_100000] already exists.\n",
      "RESERVOIR_NET(\n",
      "  (classifier): Linear(in_features=4608, out_features=10, bias=True)\n",
      ")\n",
      "Epoch 1\n",
      "Train Accuracy: 16.51%\n",
      "Test loss: 2.065, Val Accuracy: 28.79%\n",
      "Epoch 2\n",
      "Train Accuracy: 39.80%\n",
      "Test loss: 1.654, Val Accuracy: 48.86%\n",
      "Epoch 3\n",
      "Train Accuracy: 49.81%\n",
      "Test loss: 1.707, Val Accuracy: 47.35%\n",
      "Epoch 4\n",
      "Train Accuracy: 58.63%\n",
      "Test loss: 1.498, Val Accuracy: 48.86%\n",
      "Epoch 5\n",
      "Train Accuracy: 61.60%\n",
      "Test loss: 1.612, Val Accuracy: 53.41%\n",
      "Epoch 6\n",
      "Train Accuracy: 61.78%\n",
      "Test loss: 1.482, Val Accuracy: 55.68%\n",
      "Epoch 7\n",
      "Train Accuracy: 69.02%\n",
      "Test loss: 1.519, Val Accuracy: 54.55%\n",
      "Epoch 8\n",
      "Train Accuracy: 72.82%\n",
      "Test loss: 1.444, Val Accuracy: 60.61%\n",
      "Epoch 9\n",
      "Train Accuracy: 73.93%\n",
      "Test loss: 1.415, Val Accuracy: 60.23%\n",
      "Epoch 10\n",
      "Train Accuracy: 75.79%\n",
      "Test loss: 1.446, Val Accuracy: 59.85%\n",
      "Epoch 11\n",
      "Train Accuracy: 79.13%\n",
      "Test loss: 1.488, Val Accuracy: 62.50%\n",
      "Epoch 12\n",
      "Train Accuracy: 79.68%\n",
      "Test loss: 1.367, Val Accuracy: 65.15%\n",
      "Epoch 13\n",
      "Train Accuracy: 80.52%\n",
      "Test loss: 1.343, Val Accuracy: 65.53%\n",
      "Epoch 14\n",
      "Train Accuracy: 81.26%\n",
      "Test loss: 1.511, Val Accuracy: 62.50%\n",
      "Epoch 15\n",
      "Train Accuracy: 83.02%\n",
      "Test loss: 1.414, Val Accuracy: 65.53%\n",
      "Epoch 16\n",
      "Train Accuracy: 82.28%\n",
      "Test loss: 1.349, Val Accuracy: 64.39%\n",
      "Epoch 17\n",
      "Train Accuracy: 84.23%\n",
      "Test loss: 1.254, Val Accuracy: 64.02%\n",
      "Epoch 18\n",
      "Train Accuracy: 86.36%\n",
      "Test loss: 1.494, Val Accuracy: 69.32%\n",
      "Epoch 19\n",
      "Train Accuracy: 85.06%\n",
      "Test loss: 1.423, Val Accuracy: 64.77%\n",
      "Epoch 20\n",
      "Train Accuracy: 86.83%\n",
      "Test loss: 1.232, Val Accuracy: 65.91%\n"
     ]
    },
    {
     "data": {
      "application/vnd.jupyter.widget-view+json": {
       "model_id": "751b9a4af550480eada2f741ef993cd4",
       "version_major": 2,
       "version_minor": 0
      },
      "text/plain": [
       "VBox(children=(Label(value='0.192 MB of 0.192 MB uploaded\\r'), FloatProgress(value=1.0, max=1.0)))"
      ]
     },
     "metadata": {},
     "output_type": "display_data"
    },
    {
     "data": {
      "text/html": [
       "<style>\n",
       "    table.wandb td:nth-child(1) { padding: 0 10px; text-align: left ; width: auto;} td:nth-child(2) {text-align: left ; width: 100%}\n",
       "    .wandb-row { display: flex; flex-direction: row; flex-wrap: wrap; justify-content: flex-start; width: 100% }\n",
       "    .wandb-col { display: flex; flex-direction: column; flex-basis: 100%; flex: 1; padding: 10px; }\n",
       "    </style>\n",
       "<div class=\"wandb-row\"><div class=\"wandb-col\"><h3>Run history:</h3><br/><table class=\"wandb\"><tr><td>epoch</td><td>▁▁▂▂▂▃▃▄▄▄▅▅▅▆▆▇▇▇██</td></tr><tr><td>iter_accuracy</td><td>▁▂▂▄▅▄▅▅▅▆▆▅▆▆▇▆▇▆▇▇▇▇█▇▇▇█▇██▇▇██▇█████</td></tr><tr><td>tr_accuracy</td><td>▁▃▄▅▅▆▆▇▇▇▇▇▇▇██████</td></tr><tr><td>val_accuracy</td><td>▁▄▄▄▅▆▅▆▆▆▇▇▇▇▇▇▇█▇▇</td></tr></table><br/></div><div class=\"wandb-col\"><h3>Run summary:</h3><br/><table class=\"wandb\"><tr><td>epoch</td><td>19</td></tr><tr><td>iter_accuracy</td><td>85.18519</td></tr><tr><td>tr_accuracy</td><td>86.82746</td></tr><tr><td>val_accuracy</td><td>65.90909</td></tr></table><br/></div></div>"
      ],
      "text/plain": [
       "<IPython.core.display.HTML object>"
      ]
     },
     "metadata": {},
     "output_type": "display_data"
    },
    {
     "data": {
      "text/html": [
       " View run <strong style=\"color:#cdcd00\">sleek-sweep-41</strong> at: <a href='https://wandb.ai/bhkim003-seoul-national-university/reservoir/runs/71gzrti1' target=\"_blank\">https://wandb.ai/bhkim003-seoul-national-university/reservoir/runs/71gzrti1</a><br/> View project at: <a href='https://wandb.ai/bhkim003-seoul-national-university/reservoir' target=\"_blank\">https://wandb.ai/bhkim003-seoul-national-university/reservoir</a><br/>Synced 7 W&B file(s), 0 media file(s), 0 artifact file(s) and 1 other file(s)"
      ],
      "text/plain": [
       "<IPython.core.display.HTML object>"
      ]
     },
     "metadata": {},
     "output_type": "display_data"
    },
    {
     "data": {
      "text/html": [
       "Find logs at: <code>./wandb/run-20240727_094525-71gzrti1/logs</code>"
      ],
      "text/plain": [
       "<IPython.core.display.HTML object>"
      ]
     },
     "metadata": {},
     "output_type": "display_data"
    },
    {
     "data": {
      "text/html": [
       "The new W&B backend becomes opt-out in version 0.18.0; try it out with `wandb.require(\"core\")`! See https://wandb.me/wandb-core for more information."
      ],
      "text/plain": [
       "<IPython.core.display.HTML object>"
      ]
     },
     "metadata": {},
     "output_type": "display_data"
    },
    {
     "name": "stderr",
     "output_type": "stream",
     "text": [
      "\u001b[34m\u001b[1mwandb\u001b[0m: Sweep Agent: Waiting for job.\n",
      "\u001b[34m\u001b[1mwandb\u001b[0m: Job received.\n",
      "\u001b[34m\u001b[1mwandb\u001b[0m: Agent Starting Run: om5wbawd with config:\n",
      "\u001b[34m\u001b[1mwandb\u001b[0m: \tEPOCH: 20\n",
      "\u001b[34m\u001b[1mwandb\u001b[0m: \tFC_RESERVOIR: True\n",
      "\u001b[34m\u001b[1mwandb\u001b[0m: \tIMAGE_SIZE: 48\n",
      "\u001b[34m\u001b[1mwandb\u001b[0m: \tbatch_size: 16\n",
      "\u001b[34m\u001b[1mwandb\u001b[0m: \tdata_path: /data2\n",
      "\u001b[34m\u001b[1mwandb\u001b[0m: \tdecay: 0.6752626480900693\n",
      "\u001b[34m\u001b[1mwandb\u001b[0m: \tdvs_clipping: True\n",
      "\u001b[34m\u001b[1mwandb\u001b[0m: \tdvs_duration: 100000\n",
      "\u001b[34m\u001b[1mwandb\u001b[0m: \tlearning_rate: 0.0015657045699496866\n",
      "\u001b[34m\u001b[1mwandb\u001b[0m: \tno_reservoir: False\n",
      "\u001b[34m\u001b[1mwandb\u001b[0m: \tpre_spike_weight: 8.792477645784023\n",
      "\u001b[34m\u001b[1mwandb\u001b[0m: \trate_coding: True\n",
      "\u001b[34m\u001b[1mwandb\u001b[0m: \ttime_step: 8\n",
      "\u001b[34m\u001b[1mwandb\u001b[0m: \twhich_data: DVS_GESTURE\n",
      "Failed to detect the name of this notebook, you can set it manually with the WANDB_NOTEBOOK_NAME environment variable to enable code saving.\n"
     ]
    },
    {
     "data": {
      "text/html": [
       "Tracking run with wandb version 0.17.5"
      ],
      "text/plain": [
       "<IPython.core.display.HTML object>"
      ]
     },
     "metadata": {},
     "output_type": "display_data"
    },
    {
     "data": {
      "text/html": [
       "Run data is saved locally in <code>/nfs/home/bhkim003/github_folder/ByeonghyeonKim/my_snn/wandb/run-20240727_100147-om5wbawd</code>"
      ],
      "text/plain": [
       "<IPython.core.display.HTML object>"
      ]
     },
     "metadata": {},
     "output_type": "display_data"
    },
    {
     "data": {
      "text/html": [
       "Syncing run <strong><a href='https://wandb.ai/bhkim003-seoul-national-university/reservoir/runs/om5wbawd' target=\"_blank\">hardy-sweep-42</a></strong> to <a href='https://wandb.ai/bhkim003-seoul-national-university/reservoir' target=\"_blank\">Weights & Biases</a> (<a href='https://wandb.me/run' target=\"_blank\">docs</a>)<br/>Sweep page: <a href='https://wandb.ai/bhkim003-seoul-national-university/reservoir/sweeps/sxt07a51' target=\"_blank\">https://wandb.ai/bhkim003-seoul-national-university/reservoir/sweeps/sxt07a51</a>"
      ],
      "text/plain": [
       "<IPython.core.display.HTML object>"
      ]
     },
     "metadata": {},
     "output_type": "display_data"
    },
    {
     "data": {
      "text/html": [
       " View project at <a href='https://wandb.ai/bhkim003-seoul-national-university/reservoir' target=\"_blank\">https://wandb.ai/bhkim003-seoul-national-university/reservoir</a>"
      ],
      "text/plain": [
       "<IPython.core.display.HTML object>"
      ]
     },
     "metadata": {},
     "output_type": "display_data"
    },
    {
     "data": {
      "text/html": [
       " View sweep at <a href='https://wandb.ai/bhkim003-seoul-national-university/reservoir/sweeps/sxt07a51' target=\"_blank\">https://wandb.ai/bhkim003-seoul-national-university/reservoir/sweeps/sxt07a51</a>"
      ],
      "text/plain": [
       "<IPython.core.display.HTML object>"
      ]
     },
     "metadata": {},
     "output_type": "display_data"
    },
    {
     "data": {
      "text/html": [
       " View run at <a href='https://wandb.ai/bhkim003-seoul-national-university/reservoir/runs/om5wbawd' target=\"_blank\">https://wandb.ai/bhkim003-seoul-national-university/reservoir/runs/om5wbawd</a>"
      ],
      "text/plain": [
       "<IPython.core.display.HTML object>"
      ]
     },
     "metadata": {},
     "output_type": "display_data"
    },
    {
     "name": "stderr",
     "output_type": "stream",
     "text": [
      "\u001b[34m\u001b[1mwandb\u001b[0m: \u001b[33mWARNING\u001b[0m Config item 'data_path' was locked by 'sweep' (ignored update).\n",
      "\u001b[34m\u001b[1mwandb\u001b[0m: \u001b[33mWARNING\u001b[0m Config item 'which_data' was locked by 'sweep' (ignored update).\n",
      "\u001b[34m\u001b[1mwandb\u001b[0m: \u001b[33mWARNING\u001b[0m Config item 'learning_rate' was locked by 'sweep' (ignored update).\n",
      "\u001b[34m\u001b[1mwandb\u001b[0m: \u001b[33mWARNING\u001b[0m Config item 'IMAGE_SIZE' was locked by 'sweep' (ignored update).\n",
      "\u001b[34m\u001b[1mwandb\u001b[0m: \u001b[33mWARNING\u001b[0m Config item 'EPOCH' was locked by 'sweep' (ignored update).\n",
      "\u001b[34m\u001b[1mwandb\u001b[0m: \u001b[33mWARNING\u001b[0m Config item 'rate_coding' was locked by 'sweep' (ignored update).\n",
      "\u001b[34m\u001b[1mwandb\u001b[0m: \u001b[33mWARNING\u001b[0m Config item 'pre_spike_weight' was locked by 'sweep' (ignored update).\n",
      "\u001b[34m\u001b[1mwandb\u001b[0m: \u001b[33mWARNING\u001b[0m Config item 'dvs_duration' was locked by 'sweep' (ignored update).\n",
      "\u001b[34m\u001b[1mwandb\u001b[0m: \u001b[33mWARNING\u001b[0m Config item 'dvs_clipping' was locked by 'sweep' (ignored update).\n",
      "\u001b[34m\u001b[1mwandb\u001b[0m: \u001b[33mWARNING\u001b[0m Config item 'no_reservoir' was locked by 'sweep' (ignored update).\n",
      "\u001b[34m\u001b[1mwandb\u001b[0m: \u001b[33mWARNING\u001b[0m Config item 'FC_RESERVOIR' was locked by 'sweep' (ignored update).\n"
     ]
    },
    {
     "name": "stdout",
     "output_type": "stream",
     "text": [
      "The directory [/data2/gesture/duration_100000] already exists.\n",
      "The directory [/data2/gesture/duration_100000] already exists.\n",
      "RESERVOIR_NET(\n",
      "  (reservoir): RESERVOIR(\n",
      "    (reservoir): Linear(in_features=4608, out_features=4608, bias=True)\n",
      "  )\n",
      "  (classifier): Linear(in_features=4608, out_features=10, bias=True)\n",
      ")\n",
      "Epoch 1\n",
      "Train Accuracy: 39.33%\n",
      "Test loss: 1.428, Val Accuracy: 44.70%\n",
      "Epoch 2\n",
      "Train Accuracy: 57.42%\n",
      "Test loss: 1.322, Val Accuracy: 51.89%\n",
      "Epoch 3\n",
      "Train Accuracy: 63.17%\n",
      "Test loss: 1.153, Val Accuracy: 60.98%\n",
      "Epoch 4\n",
      "Train Accuracy: 70.32%\n",
      "Test loss: 1.178, Val Accuracy: 54.55%\n",
      "Epoch 5\n",
      "Train Accuracy: 75.23%\n",
      "Test loss: 1.069, Val Accuracy: 61.74%\n",
      "Epoch 6\n",
      "Train Accuracy: 78.01%\n",
      "Test loss: 1.067, Val Accuracy: 62.12%\n",
      "Epoch 7\n",
      "Train Accuracy: 83.21%\n",
      "Test loss: 1.000, Val Accuracy: 68.18%\n",
      "Epoch 8\n",
      "Train Accuracy: 85.06%\n",
      "Test loss: 0.978, Val Accuracy: 70.83%\n",
      "Epoch 9\n",
      "Train Accuracy: 86.92%\n",
      "Test loss: 1.010, Val Accuracy: 67.05%\n",
      "Epoch 10\n",
      "Train Accuracy: 88.96%\n",
      "Test loss: 0.938, Val Accuracy: 68.18%\n",
      "Epoch 11\n",
      "Train Accuracy: 88.78%\n",
      "Test loss: 0.918, Val Accuracy: 70.08%\n",
      "Epoch 12\n",
      "Train Accuracy: 90.63%\n",
      "Test loss: 0.974, Val Accuracy: 70.08%\n",
      "Epoch 13\n",
      "Train Accuracy: 91.93%\n",
      "Test loss: 0.967, Val Accuracy: 67.42%\n",
      "Epoch 14\n",
      "Train Accuracy: 92.95%\n",
      "Test loss: 0.917, Val Accuracy: 70.83%\n",
      "Epoch 15\n",
      "Train Accuracy: 93.60%\n",
      "Test loss: 0.915, Val Accuracy: 67.05%\n",
      "Epoch 16\n",
      "Train Accuracy: 95.08%\n",
      "Test loss: 0.901, Val Accuracy: 71.59%\n",
      "Epoch 17\n",
      "Train Accuracy: 94.71%\n",
      "Test loss: 0.874, Val Accuracy: 70.45%\n",
      "Epoch 18\n",
      "Train Accuracy: 96.20%\n",
      "Test loss: 0.929, Val Accuracy: 65.91%\n",
      "Epoch 19\n",
      "Train Accuracy: 95.92%\n",
      "Test loss: 0.880, Val Accuracy: 70.08%\n",
      "Epoch 20\n",
      "Train Accuracy: 97.40%\n",
      "Test loss: 0.900, Val Accuracy: 72.35%\n"
     ]
    },
    {
     "data": {
      "application/vnd.jupyter.widget-view+json": {
       "model_id": "2b7106d2e06b4d9dadb931c747ecfa40",
       "version_major": 2,
       "version_minor": 0
      },
      "text/plain": [
       "VBox(children=(Label(value='0.192 MB of 0.192 MB uploaded\\r'), FloatProgress(value=1.0, max=1.0)))"
      ]
     },
     "metadata": {},
     "output_type": "display_data"
    },
    {
     "data": {
      "text/html": [
       "<style>\n",
       "    table.wandb td:nth-child(1) { padding: 0 10px; text-align: left ; width: auto;} td:nth-child(2) {text-align: left ; width: 100%}\n",
       "    .wandb-row { display: flex; flex-direction: row; flex-wrap: wrap; justify-content: flex-start; width: 100% }\n",
       "    .wandb-col { display: flex; flex-direction: column; flex-basis: 100%; flex: 1; padding: 10px; }\n",
       "    </style>\n",
       "<div class=\"wandb-row\"><div class=\"wandb-col\"><h3>Run history:</h3><br/><table class=\"wandb\"><tr><td>epoch</td><td>▁▁▂▂▂▃▃▄▄▄▅▅▅▆▆▇▇▇██</td></tr><tr><td>iter_accuracy</td><td>▁▃▃▅▂▃▆▂▅▅▆▇▅▇▇▇▆▄▇█▇▇▆▅█▇▇▇▇▇██▇▇▇▇█▇▇▆</td></tr><tr><td>tr_accuracy</td><td>▁▃▄▅▅▆▆▇▇▇▇▇▇▇██████</td></tr><tr><td>val_accuracy</td><td>▁▃▅▃▅▅▇█▇▇▇▇▇█▇██▆▇█</td></tr></table><br/></div><div class=\"wandb-col\"><h3>Run summary:</h3><br/><table class=\"wandb\"><tr><td>epoch</td><td>19</td></tr><tr><td>iter_accuracy</td><td>83.33333</td></tr><tr><td>tr_accuracy</td><td>97.4026</td></tr><tr><td>val_accuracy</td><td>72.34848</td></tr></table><br/></div></div>"
      ],
      "text/plain": [
       "<IPython.core.display.HTML object>"
      ]
     },
     "metadata": {},
     "output_type": "display_data"
    },
    {
     "data": {
      "text/html": [
       " View run <strong style=\"color:#cdcd00\">hardy-sweep-42</strong> at: <a href='https://wandb.ai/bhkim003-seoul-national-university/reservoir/runs/om5wbawd' target=\"_blank\">https://wandb.ai/bhkim003-seoul-national-university/reservoir/runs/om5wbawd</a><br/> View project at: <a href='https://wandb.ai/bhkim003-seoul-national-university/reservoir' target=\"_blank\">https://wandb.ai/bhkim003-seoul-national-university/reservoir</a><br/>Synced 7 W&B file(s), 0 media file(s), 0 artifact file(s) and 1 other file(s)"
      ],
      "text/plain": [
       "<IPython.core.display.HTML object>"
      ]
     },
     "metadata": {},
     "output_type": "display_data"
    },
    {
     "data": {
      "text/html": [
       "Find logs at: <code>./wandb/run-20240727_100147-om5wbawd/logs</code>"
      ],
      "text/plain": [
       "<IPython.core.display.HTML object>"
      ]
     },
     "metadata": {},
     "output_type": "display_data"
    },
    {
     "data": {
      "text/html": [
       "The new W&B backend becomes opt-out in version 0.18.0; try it out with `wandb.require(\"core\")`! See https://wandb.me/wandb-core for more information."
      ],
      "text/plain": [
       "<IPython.core.display.HTML object>"
      ]
     },
     "metadata": {},
     "output_type": "display_data"
    },
    {
     "name": "stderr",
     "output_type": "stream",
     "text": [
      "\u001b[34m\u001b[1mwandb\u001b[0m: Agent Starting Run: hnx19gzo with config:\n",
      "\u001b[34m\u001b[1mwandb\u001b[0m: \tEPOCH: 20\n",
      "\u001b[34m\u001b[1mwandb\u001b[0m: \tFC_RESERVOIR: True\n",
      "\u001b[34m\u001b[1mwandb\u001b[0m: \tIMAGE_SIZE: 48\n",
      "\u001b[34m\u001b[1mwandb\u001b[0m: \tbatch_size: 16\n",
      "\u001b[34m\u001b[1mwandb\u001b[0m: \tdata_path: /data2\n",
      "\u001b[34m\u001b[1mwandb\u001b[0m: \tdecay: 0.7728879366995032\n",
      "\u001b[34m\u001b[1mwandb\u001b[0m: \tdvs_clipping: True\n",
      "\u001b[34m\u001b[1mwandb\u001b[0m: \tdvs_duration: 100000\n",
      "\u001b[34m\u001b[1mwandb\u001b[0m: \tlearning_rate: 0.012029974110675709\n",
      "\u001b[34m\u001b[1mwandb\u001b[0m: \tno_reservoir: False\n",
      "\u001b[34m\u001b[1mwandb\u001b[0m: \tpre_spike_weight: 6.790828042186197\n",
      "\u001b[34m\u001b[1mwandb\u001b[0m: \trate_coding: True\n",
      "\u001b[34m\u001b[1mwandb\u001b[0m: \ttime_step: 8\n",
      "\u001b[34m\u001b[1mwandb\u001b[0m: \twhich_data: DVS_GESTURE\n",
      "Failed to detect the name of this notebook, you can set it manually with the WANDB_NOTEBOOK_NAME environment variable to enable code saving.\n"
     ]
    },
    {
     "data": {
      "text/html": [
       "Tracking run with wandb version 0.17.5"
      ],
      "text/plain": [
       "<IPython.core.display.HTML object>"
      ]
     },
     "metadata": {},
     "output_type": "display_data"
    },
    {
     "data": {
      "text/html": [
       "Run data is saved locally in <code>/nfs/home/bhkim003/github_folder/ByeonghyeonKim/my_snn/wandb/run-20240727_101621-hnx19gzo</code>"
      ],
      "text/plain": [
       "<IPython.core.display.HTML object>"
      ]
     },
     "metadata": {},
     "output_type": "display_data"
    },
    {
     "data": {
      "text/html": [
       "Syncing run <strong><a href='https://wandb.ai/bhkim003-seoul-national-university/reservoir/runs/hnx19gzo' target=\"_blank\">atomic-sweep-43</a></strong> to <a href='https://wandb.ai/bhkim003-seoul-national-university/reservoir' target=\"_blank\">Weights & Biases</a> (<a href='https://wandb.me/run' target=\"_blank\">docs</a>)<br/>Sweep page: <a href='https://wandb.ai/bhkim003-seoul-national-university/reservoir/sweeps/sxt07a51' target=\"_blank\">https://wandb.ai/bhkim003-seoul-national-university/reservoir/sweeps/sxt07a51</a>"
      ],
      "text/plain": [
       "<IPython.core.display.HTML object>"
      ]
     },
     "metadata": {},
     "output_type": "display_data"
    },
    {
     "data": {
      "text/html": [
       " View project at <a href='https://wandb.ai/bhkim003-seoul-national-university/reservoir' target=\"_blank\">https://wandb.ai/bhkim003-seoul-national-university/reservoir</a>"
      ],
      "text/plain": [
       "<IPython.core.display.HTML object>"
      ]
     },
     "metadata": {},
     "output_type": "display_data"
    },
    {
     "data": {
      "text/html": [
       " View sweep at <a href='https://wandb.ai/bhkim003-seoul-national-university/reservoir/sweeps/sxt07a51' target=\"_blank\">https://wandb.ai/bhkim003-seoul-national-university/reservoir/sweeps/sxt07a51</a>"
      ],
      "text/plain": [
       "<IPython.core.display.HTML object>"
      ]
     },
     "metadata": {},
     "output_type": "display_data"
    },
    {
     "data": {
      "text/html": [
       " View run at <a href='https://wandb.ai/bhkim003-seoul-national-university/reservoir/runs/hnx19gzo' target=\"_blank\">https://wandb.ai/bhkim003-seoul-national-university/reservoir/runs/hnx19gzo</a>"
      ],
      "text/plain": [
       "<IPython.core.display.HTML object>"
      ]
     },
     "metadata": {},
     "output_type": "display_data"
    },
    {
     "name": "stderr",
     "output_type": "stream",
     "text": [
      "\u001b[34m\u001b[1mwandb\u001b[0m: \u001b[33mWARNING\u001b[0m Config item 'data_path' was locked by 'sweep' (ignored update).\n",
      "\u001b[34m\u001b[1mwandb\u001b[0m: \u001b[33mWARNING\u001b[0m Config item 'which_data' was locked by 'sweep' (ignored update).\n",
      "\u001b[34m\u001b[1mwandb\u001b[0m: \u001b[33mWARNING\u001b[0m Config item 'learning_rate' was locked by 'sweep' (ignored update).\n",
      "\u001b[34m\u001b[1mwandb\u001b[0m: \u001b[33mWARNING\u001b[0m Config item 'IMAGE_SIZE' was locked by 'sweep' (ignored update).\n",
      "\u001b[34m\u001b[1mwandb\u001b[0m: \u001b[33mWARNING\u001b[0m Config item 'EPOCH' was locked by 'sweep' (ignored update).\n",
      "\u001b[34m\u001b[1mwandb\u001b[0m: \u001b[33mWARNING\u001b[0m Config item 'rate_coding' was locked by 'sweep' (ignored update).\n",
      "\u001b[34m\u001b[1mwandb\u001b[0m: \u001b[33mWARNING\u001b[0m Config item 'pre_spike_weight' was locked by 'sweep' (ignored update).\n",
      "\u001b[34m\u001b[1mwandb\u001b[0m: \u001b[33mWARNING\u001b[0m Config item 'dvs_duration' was locked by 'sweep' (ignored update).\n",
      "\u001b[34m\u001b[1mwandb\u001b[0m: \u001b[33mWARNING\u001b[0m Config item 'dvs_clipping' was locked by 'sweep' (ignored update).\n",
      "\u001b[34m\u001b[1mwandb\u001b[0m: \u001b[33mWARNING\u001b[0m Config item 'no_reservoir' was locked by 'sweep' (ignored update).\n",
      "\u001b[34m\u001b[1mwandb\u001b[0m: \u001b[33mWARNING\u001b[0m Config item 'FC_RESERVOIR' was locked by 'sweep' (ignored update).\n"
     ]
    },
    {
     "name": "stdout",
     "output_type": "stream",
     "text": [
      "The directory [/data2/gesture/duration_100000] already exists.\n",
      "The directory [/data2/gesture/duration_100000] already exists.\n",
      "RESERVOIR_NET(\n",
      "  (reservoir): RESERVOIR(\n",
      "    (reservoir): Linear(in_features=4608, out_features=4608, bias=True)\n",
      "  )\n",
      "  (classifier): Linear(in_features=4608, out_features=10, bias=True)\n",
      ")\n",
      "Epoch 1\n",
      "Train Accuracy: 40.26%\n",
      "Test loss: 1.803, Val Accuracy: 47.35%\n",
      "Epoch 2\n",
      "Train Accuracy: 67.25%\n",
      "Test loss: 1.609, Val Accuracy: 52.27%\n",
      "Epoch 3\n",
      "Train Accuracy: 78.76%\n",
      "Test loss: 1.084, Val Accuracy: 60.61%\n",
      "Epoch 4\n",
      "Train Accuracy: 89.98%\n",
      "Test loss: 1.265, Val Accuracy: 59.85%\n",
      "Epoch 5\n",
      "Train Accuracy: 84.42%\n",
      "Test loss: 1.178, Val Accuracy: 64.02%\n",
      "Epoch 6\n",
      "Train Accuracy: 93.60%\n",
      "Test loss: 0.957, Val Accuracy: 65.91%\n",
      "Epoch 7\n",
      "Train Accuracy: 96.75%\n",
      "Test loss: 0.879, Val Accuracy: 67.42%\n",
      "Epoch 8\n",
      "Train Accuracy: 99.44%\n",
      "Test loss: 0.878, Val Accuracy: 71.97%\n",
      "Epoch 9\n",
      "Train Accuracy: 100.00%\n",
      "Test loss: 0.843, Val Accuracy: 71.21%\n",
      "Epoch 10\n",
      "Train Accuracy: 100.00%\n",
      "Test loss: 0.874, Val Accuracy: 72.35%\n",
      "Epoch 11\n",
      "Train Accuracy: 100.00%\n",
      "Test loss: 0.828, Val Accuracy: 73.11%\n",
      "Epoch 12\n",
      "Train Accuracy: 100.00%\n",
      "Test loss: 0.842, Val Accuracy: 74.24%\n",
      "Epoch 13\n",
      "Train Accuracy: 100.00%\n",
      "Test loss: 0.853, Val Accuracy: 72.73%\n",
      "Epoch 14\n",
      "Train Accuracy: 100.00%\n",
      "Test loss: 0.886, Val Accuracy: 71.97%\n",
      "Epoch 15\n",
      "Train Accuracy: 100.00%\n",
      "Test loss: 0.857, Val Accuracy: 74.62%\n",
      "Epoch 16\n",
      "Train Accuracy: 100.00%\n",
      "Test loss: 0.873, Val Accuracy: 74.62%\n",
      "Epoch 17\n",
      "Train Accuracy: 100.00%\n",
      "Test loss: 0.841, Val Accuracy: 74.62%\n",
      "Epoch 18\n",
      "Train Accuracy: 100.00%\n",
      "Test loss: 0.843, Val Accuracy: 74.24%\n",
      "Epoch 19\n",
      "Train Accuracy: 100.00%\n",
      "Test loss: 0.834, Val Accuracy: 73.48%\n",
      "Epoch 20\n",
      "Train Accuracy: 100.00%\n",
      "Test loss: 0.843, Val Accuracy: 73.48%\n"
     ]
    },
    {
     "data": {
      "application/vnd.jupyter.widget-view+json": {
       "model_id": "5f5536a63fc848cfb8f558da7b7fcdf5",
       "version_major": 2,
       "version_minor": 0
      },
      "text/plain": [
       "VBox(children=(Label(value='0.192 MB of 0.192 MB uploaded\\r'), FloatProgress(value=1.0, max=1.0)))"
      ]
     },
     "metadata": {},
     "output_type": "display_data"
    },
    {
     "data": {
      "text/html": [
       "<style>\n",
       "    table.wandb td:nth-child(1) { padding: 0 10px; text-align: left ; width: auto;} td:nth-child(2) {text-align: left ; width: 100%}\n",
       "    .wandb-row { display: flex; flex-direction: row; flex-wrap: wrap; justify-content: flex-start; width: 100% }\n",
       "    .wandb-col { display: flex; flex-direction: column; flex-basis: 100%; flex: 1; padding: 10px; }\n",
       "    </style>\n",
       "<div class=\"wandb-row\"><div class=\"wandb-col\"><h3>Run history:</h3><br/><table class=\"wandb\"><tr><td>epoch</td><td>▁▁▂▂▂▃▃▄▄▄▅▅▅▆▆▇▇▇██</td></tr><tr><td>iter_accuracy</td><td>▃▁▅▆▇▆▇█▇▇▇▇▇▇██████████████████████████</td></tr><tr><td>tr_accuracy</td><td>▁▄▆▇▆▇██████████████</td></tr><tr><td>val_accuracy</td><td>▁▂▄▄▅▆▆▇▇▇███▇██████</td></tr></table><br/></div><div class=\"wandb-col\"><h3>Run summary:</h3><br/><table class=\"wandb\"><tr><td>epoch</td><td>19</td></tr><tr><td>iter_accuracy</td><td>100.0</td></tr><tr><td>tr_accuracy</td><td>100.0</td></tr><tr><td>val_accuracy</td><td>73.48485</td></tr></table><br/></div></div>"
      ],
      "text/plain": [
       "<IPython.core.display.HTML object>"
      ]
     },
     "metadata": {},
     "output_type": "display_data"
    },
    {
     "data": {
      "text/html": [
       " View run <strong style=\"color:#cdcd00\">atomic-sweep-43</strong> at: <a href='https://wandb.ai/bhkim003-seoul-national-university/reservoir/runs/hnx19gzo' target=\"_blank\">https://wandb.ai/bhkim003-seoul-national-university/reservoir/runs/hnx19gzo</a><br/> View project at: <a href='https://wandb.ai/bhkim003-seoul-national-university/reservoir' target=\"_blank\">https://wandb.ai/bhkim003-seoul-national-university/reservoir</a><br/>Synced 7 W&B file(s), 0 media file(s), 0 artifact file(s) and 1 other file(s)"
      ],
      "text/plain": [
       "<IPython.core.display.HTML object>"
      ]
     },
     "metadata": {},
     "output_type": "display_data"
    },
    {
     "data": {
      "text/html": [
       "Find logs at: <code>./wandb/run-20240727_101621-hnx19gzo/logs</code>"
      ],
      "text/plain": [
       "<IPython.core.display.HTML object>"
      ]
     },
     "metadata": {},
     "output_type": "display_data"
    },
    {
     "data": {
      "text/html": [
       "The new W&B backend becomes opt-out in version 0.18.0; try it out with `wandb.require(\"core\")`! See https://wandb.me/wandb-core for more information."
      ],
      "text/plain": [
       "<IPython.core.display.HTML object>"
      ]
     },
     "metadata": {},
     "output_type": "display_data"
    },
    {
     "name": "stderr",
     "output_type": "stream",
     "text": [
      "\u001b[34m\u001b[1mwandb\u001b[0m: Agent Starting Run: 87v8bs0z with config:\n",
      "\u001b[34m\u001b[1mwandb\u001b[0m: \tEPOCH: 20\n",
      "\u001b[34m\u001b[1mwandb\u001b[0m: \tFC_RESERVOIR: True\n",
      "\u001b[34m\u001b[1mwandb\u001b[0m: \tIMAGE_SIZE: 128\n",
      "\u001b[34m\u001b[1mwandb\u001b[0m: \tbatch_size: 16\n",
      "\u001b[34m\u001b[1mwandb\u001b[0m: \tdata_path: /data2\n",
      "\u001b[34m\u001b[1mwandb\u001b[0m: \tdecay: 0.482490290264372\n",
      "\u001b[34m\u001b[1mwandb\u001b[0m: \tdvs_clipping: True\n",
      "\u001b[34m\u001b[1mwandb\u001b[0m: \tdvs_duration: 100000\n",
      "\u001b[34m\u001b[1mwandb\u001b[0m: \tlearning_rate: 0.004923395209471632\n",
      "\u001b[34m\u001b[1mwandb\u001b[0m: \tno_reservoir: True\n",
      "\u001b[34m\u001b[1mwandb\u001b[0m: \tpre_spike_weight: 9.760388947591856\n",
      "\u001b[34m\u001b[1mwandb\u001b[0m: \trate_coding: True\n",
      "\u001b[34m\u001b[1mwandb\u001b[0m: \ttime_step: 8\n",
      "\u001b[34m\u001b[1mwandb\u001b[0m: \twhich_data: DVS_GESTURE\n",
      "Failed to detect the name of this notebook, you can set it manually with the WANDB_NOTEBOOK_NAME environment variable to enable code saving.\n"
     ]
    },
    {
     "data": {
      "text/html": [
       "Tracking run with wandb version 0.17.5"
      ],
      "text/plain": [
       "<IPython.core.display.HTML object>"
      ]
     },
     "metadata": {},
     "output_type": "display_data"
    },
    {
     "data": {
      "text/html": [
       "Run data is saved locally in <code>/nfs/home/bhkim003/github_folder/ByeonghyeonKim/my_snn/wandb/run-20240727_103100-87v8bs0z</code>"
      ],
      "text/plain": [
       "<IPython.core.display.HTML object>"
      ]
     },
     "metadata": {},
     "output_type": "display_data"
    },
    {
     "data": {
      "text/html": [
       "Syncing run <strong><a href='https://wandb.ai/bhkim003-seoul-national-university/reservoir/runs/87v8bs0z' target=\"_blank\">chocolate-sweep-44</a></strong> to <a href='https://wandb.ai/bhkim003-seoul-national-university/reservoir' target=\"_blank\">Weights & Biases</a> (<a href='https://wandb.me/run' target=\"_blank\">docs</a>)<br/>Sweep page: <a href='https://wandb.ai/bhkim003-seoul-national-university/reservoir/sweeps/sxt07a51' target=\"_blank\">https://wandb.ai/bhkim003-seoul-national-university/reservoir/sweeps/sxt07a51</a>"
      ],
      "text/plain": [
       "<IPython.core.display.HTML object>"
      ]
     },
     "metadata": {},
     "output_type": "display_data"
    },
    {
     "data": {
      "text/html": [
       " View project at <a href='https://wandb.ai/bhkim003-seoul-national-university/reservoir' target=\"_blank\">https://wandb.ai/bhkim003-seoul-national-university/reservoir</a>"
      ],
      "text/plain": [
       "<IPython.core.display.HTML object>"
      ]
     },
     "metadata": {},
     "output_type": "display_data"
    },
    {
     "data": {
      "text/html": [
       " View sweep at <a href='https://wandb.ai/bhkim003-seoul-national-university/reservoir/sweeps/sxt07a51' target=\"_blank\">https://wandb.ai/bhkim003-seoul-national-university/reservoir/sweeps/sxt07a51</a>"
      ],
      "text/plain": [
       "<IPython.core.display.HTML object>"
      ]
     },
     "metadata": {},
     "output_type": "display_data"
    },
    {
     "data": {
      "text/html": [
       " View run at <a href='https://wandb.ai/bhkim003-seoul-national-university/reservoir/runs/87v8bs0z' target=\"_blank\">https://wandb.ai/bhkim003-seoul-national-university/reservoir/runs/87v8bs0z</a>"
      ],
      "text/plain": [
       "<IPython.core.display.HTML object>"
      ]
     },
     "metadata": {},
     "output_type": "display_data"
    },
    {
     "name": "stderr",
     "output_type": "stream",
     "text": [
      "\u001b[34m\u001b[1mwandb\u001b[0m: \u001b[33mWARNING\u001b[0m Config item 'data_path' was locked by 'sweep' (ignored update).\n",
      "\u001b[34m\u001b[1mwandb\u001b[0m: \u001b[33mWARNING\u001b[0m Config item 'which_data' was locked by 'sweep' (ignored update).\n",
      "\u001b[34m\u001b[1mwandb\u001b[0m: \u001b[33mWARNING\u001b[0m Config item 'learning_rate' was locked by 'sweep' (ignored update).\n",
      "\u001b[34m\u001b[1mwandb\u001b[0m: \u001b[33mWARNING\u001b[0m Config item 'IMAGE_SIZE' was locked by 'sweep' (ignored update).\n",
      "\u001b[34m\u001b[1mwandb\u001b[0m: \u001b[33mWARNING\u001b[0m Config item 'EPOCH' was locked by 'sweep' (ignored update).\n",
      "\u001b[34m\u001b[1mwandb\u001b[0m: \u001b[33mWARNING\u001b[0m Config item 'rate_coding' was locked by 'sweep' (ignored update).\n",
      "\u001b[34m\u001b[1mwandb\u001b[0m: \u001b[33mWARNING\u001b[0m Config item 'pre_spike_weight' was locked by 'sweep' (ignored update).\n",
      "\u001b[34m\u001b[1mwandb\u001b[0m: \u001b[33mWARNING\u001b[0m Config item 'dvs_duration' was locked by 'sweep' (ignored update).\n",
      "\u001b[34m\u001b[1mwandb\u001b[0m: \u001b[33mWARNING\u001b[0m Config item 'dvs_clipping' was locked by 'sweep' (ignored update).\n",
      "\u001b[34m\u001b[1mwandb\u001b[0m: \u001b[33mWARNING\u001b[0m Config item 'no_reservoir' was locked by 'sweep' (ignored update).\n",
      "\u001b[34m\u001b[1mwandb\u001b[0m: \u001b[33mWARNING\u001b[0m Config item 'FC_RESERVOIR' was locked by 'sweep' (ignored update).\n"
     ]
    },
    {
     "name": "stdout",
     "output_type": "stream",
     "text": [
      "The directory [/data2/gesture/duration_100000] already exists.\n",
      "The directory [/data2/gesture/duration_100000] already exists.\n",
      "RESERVOIR_NET(\n",
      "  (classifier): Linear(in_features=32768, out_features=10, bias=True)\n",
      ")\n",
      "Epoch 1\n",
      "Train Accuracy: 53.43%\n",
      "Test loss: 1.102, Val Accuracy: 60.61%\n",
      "Epoch 2\n",
      "Train Accuracy: 79.41%\n",
      "Test loss: 1.103, Val Accuracy: 65.91%\n",
      "Epoch 3\n",
      "Train Accuracy: 88.50%\n",
      "Test loss: 1.063, Val Accuracy: 64.39%\n",
      "Epoch 4\n",
      "Train Accuracy: 93.23%\n",
      "Test loss: 0.957, Val Accuracy: 71.97%\n",
      "Epoch 5\n",
      "Train Accuracy: 97.68%\n",
      "Test loss: 0.877, Val Accuracy: 69.70%\n",
      "Epoch 6\n",
      "Train Accuracy: 99.44%\n",
      "Test loss: 0.855, Val Accuracy: 74.62%\n",
      "Epoch 7\n",
      "Train Accuracy: 99.81%\n",
      "Test loss: 0.896, Val Accuracy: 71.97%\n",
      "Epoch 8\n",
      "Train Accuracy: 99.91%\n",
      "Test loss: 0.878, Val Accuracy: 69.32%\n",
      "Epoch 9\n",
      "Train Accuracy: 100.00%\n",
      "Test loss: 0.896, Val Accuracy: 71.21%\n",
      "Epoch 10\n",
      "Train Accuracy: 100.00%\n",
      "Test loss: 0.869, Val Accuracy: 72.35%\n",
      "Epoch 11\n",
      "Train Accuracy: 100.00%\n",
      "Test loss: 0.895, Val Accuracy: 66.67%\n",
      "Epoch 12\n",
      "Train Accuracy: 100.00%\n",
      "Test loss: 0.881, Val Accuracy: 68.56%\n",
      "Epoch 13\n",
      "Train Accuracy: 100.00%\n",
      "Test loss: 0.931, Val Accuracy: 69.32%\n",
      "Epoch 14\n",
      "Train Accuracy: 100.00%\n",
      "Test loss: 0.890, Val Accuracy: 72.35%\n",
      "Epoch 15\n",
      "Train Accuracy: 100.00%\n",
      "Test loss: 0.905, Val Accuracy: 70.83%\n",
      "Epoch 16\n",
      "Train Accuracy: 100.00%\n",
      "Test loss: 0.933, Val Accuracy: 70.45%\n",
      "Epoch 17\n",
      "Train Accuracy: 100.00%\n",
      "Test loss: 0.898, Val Accuracy: 71.97%\n",
      "Epoch 18\n",
      "Train Accuracy: 100.00%\n",
      "Test loss: 0.932, Val Accuracy: 70.45%\n",
      "Epoch 19\n",
      "Train Accuracy: 100.00%\n",
      "Test loss: 0.906, Val Accuracy: 70.08%\n",
      "Epoch 20\n",
      "Train Accuracy: 100.00%\n",
      "Test loss: 0.947, Val Accuracy: 70.45%\n"
     ]
    },
    {
     "data": {
      "application/vnd.jupyter.widget-view+json": {
       "model_id": "f00f3668d8e64a1184dfd09205c8cf66",
       "version_major": 2,
       "version_minor": 0
      },
      "text/plain": [
       "VBox(children=(Label(value='0.192 MB of 0.192 MB uploaded\\r'), FloatProgress(value=1.0, max=1.0)))"
      ]
     },
     "metadata": {},
     "output_type": "display_data"
    },
    {
     "data": {
      "text/html": [
       "<style>\n",
       "    table.wandb td:nth-child(1) { padding: 0 10px; text-align: left ; width: auto;} td:nth-child(2) {text-align: left ; width: 100%}\n",
       "    .wandb-row { display: flex; flex-direction: row; flex-wrap: wrap; justify-content: flex-start; width: 100% }\n",
       "    .wandb-col { display: flex; flex-direction: column; flex-basis: 100%; flex: 1; padding: 10px; }\n",
       "    </style>\n",
       "<div class=\"wandb-row\"><div class=\"wandb-col\"><h3>Run history:</h3><br/><table class=\"wandb\"><tr><td>epoch</td><td>▁▁▂▂▂▃▃▄▄▄▅▅▅▆▆▇▇▇██</td></tr><tr><td>iter_accuracy</td><td>▅▁▂▃▆▅▇▇█▆██████████████████████████████</td></tr><tr><td>tr_accuracy</td><td>▁▅▆▇████████████████</td></tr><tr><td>val_accuracy</td><td>▁▄▃▇▆█▇▅▆▇▄▅▅▇▆▆▇▆▆▆</td></tr></table><br/></div><div class=\"wandb-col\"><h3>Run summary:</h3><br/><table class=\"wandb\"><tr><td>epoch</td><td>19</td></tr><tr><td>iter_accuracy</td><td>100.0</td></tr><tr><td>tr_accuracy</td><td>100.0</td></tr><tr><td>val_accuracy</td><td>70.45455</td></tr></table><br/></div></div>"
      ],
      "text/plain": [
       "<IPython.core.display.HTML object>"
      ]
     },
     "metadata": {},
     "output_type": "display_data"
    },
    {
     "data": {
      "text/html": [
       " View run <strong style=\"color:#cdcd00\">chocolate-sweep-44</strong> at: <a href='https://wandb.ai/bhkim003-seoul-national-university/reservoir/runs/87v8bs0z' target=\"_blank\">https://wandb.ai/bhkim003-seoul-national-university/reservoir/runs/87v8bs0z</a><br/> View project at: <a href='https://wandb.ai/bhkim003-seoul-national-university/reservoir' target=\"_blank\">https://wandb.ai/bhkim003-seoul-national-university/reservoir</a><br/>Synced 7 W&B file(s), 0 media file(s), 0 artifact file(s) and 1 other file(s)"
      ],
      "text/plain": [
       "<IPython.core.display.HTML object>"
      ]
     },
     "metadata": {},
     "output_type": "display_data"
    },
    {
     "data": {
      "text/html": [
       "Find logs at: <code>./wandb/run-20240727_103100-87v8bs0z/logs</code>"
      ],
      "text/plain": [
       "<IPython.core.display.HTML object>"
      ]
     },
     "metadata": {},
     "output_type": "display_data"
    },
    {
     "data": {
      "text/html": [
       "The new W&B backend becomes opt-out in version 0.18.0; try it out with `wandb.require(\"core\")`! See https://wandb.me/wandb-core for more information."
      ],
      "text/plain": [
       "<IPython.core.display.HTML object>"
      ]
     },
     "metadata": {},
     "output_type": "display_data"
    },
    {
     "name": "stderr",
     "output_type": "stream",
     "text": [
      "\u001b[34m\u001b[1mwandb\u001b[0m: Sweep Agent: Waiting for job.\n",
      "\u001b[34m\u001b[1mwandb\u001b[0m: Job received.\n",
      "\u001b[34m\u001b[1mwandb\u001b[0m: Agent Starting Run: hozl7tiz with config:\n",
      "\u001b[34m\u001b[1mwandb\u001b[0m: \tEPOCH: 20\n",
      "\u001b[34m\u001b[1mwandb\u001b[0m: \tFC_RESERVOIR: True\n",
      "\u001b[34m\u001b[1mwandb\u001b[0m: \tIMAGE_SIZE: 128\n",
      "\u001b[34m\u001b[1mwandb\u001b[0m: \tbatch_size: 128\n",
      "\u001b[34m\u001b[1mwandb\u001b[0m: \tdata_path: /data2\n",
      "\u001b[34m\u001b[1mwandb\u001b[0m: \tdecay: 0.9165102993718284\n",
      "\u001b[34m\u001b[1mwandb\u001b[0m: \tdvs_clipping: True\n",
      "\u001b[34m\u001b[1mwandb\u001b[0m: \tdvs_duration: 100000\n",
      "\u001b[34m\u001b[1mwandb\u001b[0m: \tlearning_rate: 0.02883423734000821\n",
      "\u001b[34m\u001b[1mwandb\u001b[0m: \tno_reservoir: True\n",
      "\u001b[34m\u001b[1mwandb\u001b[0m: \tpre_spike_weight: 2.2911179691448265\n",
      "\u001b[34m\u001b[1mwandb\u001b[0m: \trate_coding: True\n",
      "\u001b[34m\u001b[1mwandb\u001b[0m: \ttime_step: 8\n",
      "\u001b[34m\u001b[1mwandb\u001b[0m: \twhich_data: DVS_GESTURE\n",
      "Failed to detect the name of this notebook, you can set it manually with the WANDB_NOTEBOOK_NAME environment variable to enable code saving.\n"
     ]
    },
    {
     "data": {
      "text/html": [
       "Tracking run with wandb version 0.17.5"
      ],
      "text/plain": [
       "<IPython.core.display.HTML object>"
      ]
     },
     "metadata": {},
     "output_type": "display_data"
    },
    {
     "data": {
      "text/html": [
       "Run data is saved locally in <code>/nfs/home/bhkim003/github_folder/ByeonghyeonKim/my_snn/wandb/run-20240727_105043-hozl7tiz</code>"
      ],
      "text/plain": [
       "<IPython.core.display.HTML object>"
      ]
     },
     "metadata": {},
     "output_type": "display_data"
    },
    {
     "data": {
      "text/html": [
       "Syncing run <strong><a href='https://wandb.ai/bhkim003-seoul-national-university/reservoir/runs/hozl7tiz' target=\"_blank\">royal-sweep-45</a></strong> to <a href='https://wandb.ai/bhkim003-seoul-national-university/reservoir' target=\"_blank\">Weights & Biases</a> (<a href='https://wandb.me/run' target=\"_blank\">docs</a>)<br/>Sweep page: <a href='https://wandb.ai/bhkim003-seoul-national-university/reservoir/sweeps/sxt07a51' target=\"_blank\">https://wandb.ai/bhkim003-seoul-national-university/reservoir/sweeps/sxt07a51</a>"
      ],
      "text/plain": [
       "<IPython.core.display.HTML object>"
      ]
     },
     "metadata": {},
     "output_type": "display_data"
    },
    {
     "data": {
      "text/html": [
       " View project at <a href='https://wandb.ai/bhkim003-seoul-national-university/reservoir' target=\"_blank\">https://wandb.ai/bhkim003-seoul-national-university/reservoir</a>"
      ],
      "text/plain": [
       "<IPython.core.display.HTML object>"
      ]
     },
     "metadata": {},
     "output_type": "display_data"
    },
    {
     "data": {
      "text/html": [
       " View sweep at <a href='https://wandb.ai/bhkim003-seoul-national-university/reservoir/sweeps/sxt07a51' target=\"_blank\">https://wandb.ai/bhkim003-seoul-national-university/reservoir/sweeps/sxt07a51</a>"
      ],
      "text/plain": [
       "<IPython.core.display.HTML object>"
      ]
     },
     "metadata": {},
     "output_type": "display_data"
    },
    {
     "data": {
      "text/html": [
       " View run at <a href='https://wandb.ai/bhkim003-seoul-national-university/reservoir/runs/hozl7tiz' target=\"_blank\">https://wandb.ai/bhkim003-seoul-national-university/reservoir/runs/hozl7tiz</a>"
      ],
      "text/plain": [
       "<IPython.core.display.HTML object>"
      ]
     },
     "metadata": {},
     "output_type": "display_data"
    },
    {
     "name": "stderr",
     "output_type": "stream",
     "text": [
      "\u001b[34m\u001b[1mwandb\u001b[0m: \u001b[33mWARNING\u001b[0m Config item 'data_path' was locked by 'sweep' (ignored update).\n",
      "\u001b[34m\u001b[1mwandb\u001b[0m: \u001b[33mWARNING\u001b[0m Config item 'which_data' was locked by 'sweep' (ignored update).\n",
      "\u001b[34m\u001b[1mwandb\u001b[0m: \u001b[33mWARNING\u001b[0m Config item 'learning_rate' was locked by 'sweep' (ignored update).\n",
      "\u001b[34m\u001b[1mwandb\u001b[0m: \u001b[33mWARNING\u001b[0m Config item 'IMAGE_SIZE' was locked by 'sweep' (ignored update).\n",
      "\u001b[34m\u001b[1mwandb\u001b[0m: \u001b[33mWARNING\u001b[0m Config item 'EPOCH' was locked by 'sweep' (ignored update).\n",
      "\u001b[34m\u001b[1mwandb\u001b[0m: \u001b[33mWARNING\u001b[0m Config item 'rate_coding' was locked by 'sweep' (ignored update).\n",
      "\u001b[34m\u001b[1mwandb\u001b[0m: \u001b[33mWARNING\u001b[0m Config item 'pre_spike_weight' was locked by 'sweep' (ignored update).\n",
      "\u001b[34m\u001b[1mwandb\u001b[0m: \u001b[33mWARNING\u001b[0m Config item 'dvs_duration' was locked by 'sweep' (ignored update).\n",
      "\u001b[34m\u001b[1mwandb\u001b[0m: \u001b[33mWARNING\u001b[0m Config item 'dvs_clipping' was locked by 'sweep' (ignored update).\n",
      "\u001b[34m\u001b[1mwandb\u001b[0m: \u001b[33mWARNING\u001b[0m Config item 'no_reservoir' was locked by 'sweep' (ignored update).\n",
      "\u001b[34m\u001b[1mwandb\u001b[0m: \u001b[33mWARNING\u001b[0m Config item 'FC_RESERVOIR' was locked by 'sweep' (ignored update).\n"
     ]
    },
    {
     "name": "stdout",
     "output_type": "stream",
     "text": [
      "The directory [/data2/gesture/duration_100000] already exists.\n",
      "The directory [/data2/gesture/duration_100000] already exists.\n",
      "RESERVOIR_NET(\n",
      "  (classifier): Linear(in_features=32768, out_features=10, bias=True)\n",
      ")\n",
      "Epoch 1\n",
      "Train Accuracy: 39.15%\n",
      "Test loss: 1.364, Val Accuracy: 54.55%\n",
      "Epoch 2\n",
      "Train Accuracy: 67.07%\n",
      "Test loss: 1.145, Val Accuracy: 65.53%\n",
      "Epoch 3\n",
      "Train Accuracy: 81.73%\n",
      "Test loss: 1.290, Val Accuracy: 62.88%\n",
      "Epoch 4\n",
      "Train Accuracy: 87.57%\n",
      "Test loss: 1.481, Val Accuracy: 65.15%\n",
      "Epoch 5\n",
      "Train Accuracy: 91.56%\n",
      "Test loss: 1.531, Val Accuracy: 64.39%\n",
      "Epoch 6\n",
      "Train Accuracy: 97.22%\n",
      "Test loss: 1.483, Val Accuracy: 61.36%\n",
      "Epoch 7\n",
      "Train Accuracy: 97.68%\n",
      "Test loss: 1.372, Val Accuracy: 65.53%\n",
      "Epoch 8\n",
      "Train Accuracy: 99.17%\n",
      "Test loss: 1.031, Val Accuracy: 68.18%\n",
      "Epoch 9\n",
      "Train Accuracy: 99.81%\n",
      "Test loss: 1.221, Val Accuracy: 68.18%\n",
      "Epoch 10\n",
      "Train Accuracy: 99.81%\n",
      "Test loss: 1.135, Val Accuracy: 70.83%\n",
      "Epoch 11\n",
      "Train Accuracy: 99.91%\n",
      "Test loss: 1.174, Val Accuracy: 69.70%\n",
      "Epoch 12\n",
      "Train Accuracy: 99.91%\n",
      "Test loss: 1.350, Val Accuracy: 70.08%\n",
      "Epoch 13\n",
      "Train Accuracy: 99.91%\n",
      "Test loss: 1.245, Val Accuracy: 68.94%\n",
      "Epoch 14\n",
      "Train Accuracy: 100.00%\n",
      "Test loss: 1.109, Val Accuracy: 70.83%\n",
      "Epoch 15\n",
      "Train Accuracy: 100.00%\n",
      "Test loss: 1.352, Val Accuracy: 70.83%\n",
      "Epoch 16\n",
      "Train Accuracy: 100.00%\n",
      "Test loss: 1.214, Val Accuracy: 70.45%\n",
      "Epoch 17\n",
      "Train Accuracy: 100.00%\n",
      "Test loss: 1.249, Val Accuracy: 71.21%\n",
      "Epoch 18\n",
      "Train Accuracy: 100.00%\n",
      "Test loss: 1.249, Val Accuracy: 70.08%\n",
      "Epoch 19\n",
      "Train Accuracy: 100.00%\n",
      "Test loss: 1.258, Val Accuracy: 70.83%\n",
      "Epoch 20\n",
      "Train Accuracy: 100.00%\n",
      "Test loss: 1.245, Val Accuracy: 70.08%\n"
     ]
    },
    {
     "data": {
      "application/vnd.jupyter.widget-view+json": {
       "model_id": "d17c4e7abefe42179a6a761e59f01967",
       "version_major": 2,
       "version_minor": 0
      },
      "text/plain": [
       "VBox(children=(Label(value='0.192 MB of 0.192 MB uploaded\\r'), FloatProgress(value=1.0, max=1.0)))"
      ]
     },
     "metadata": {},
     "output_type": "display_data"
    },
    {
     "data": {
      "text/html": [
       "<style>\n",
       "    table.wandb td:nth-child(1) { padding: 0 10px; text-align: left ; width: auto;} td:nth-child(2) {text-align: left ; width: 100%}\n",
       "    .wandb-row { display: flex; flex-direction: row; flex-wrap: wrap; justify-content: flex-start; width: 100% }\n",
       "    .wandb-col { display: flex; flex-direction: column; flex-basis: 100%; flex: 1; padding: 10px; }\n",
       "    </style>\n",
       "<div class=\"wandb-row\"><div class=\"wandb-col\"><h3>Run history:</h3><br/><table class=\"wandb\"><tr><td>epoch</td><td>▁▁▂▂▂▃▃▄▄▄▅▅▅▆▆▇▇▇██</td></tr><tr><td>iter_accuracy</td><td>▁▃▃▅▆▇▇▆▇▇▇█▇███████████████████████████</td></tr><tr><td>tr_accuracy</td><td>▁▄▆▇▇███████████████</td></tr><tr><td>val_accuracy</td><td>▁▆▅▅▅▄▆▇▇█▇█▇███████</td></tr></table><br/></div><div class=\"wandb-col\"><h3>Run summary:</h3><br/><table class=\"wandb\"><tr><td>epoch</td><td>19</td></tr><tr><td>iter_accuracy</td><td>100.0</td></tr><tr><td>tr_accuracy</td><td>100.0</td></tr><tr><td>val_accuracy</td><td>70.07576</td></tr></table><br/></div></div>"
      ],
      "text/plain": [
       "<IPython.core.display.HTML object>"
      ]
     },
     "metadata": {},
     "output_type": "display_data"
    },
    {
     "data": {
      "text/html": [
       " View run <strong style=\"color:#cdcd00\">royal-sweep-45</strong> at: <a href='https://wandb.ai/bhkim003-seoul-national-university/reservoir/runs/hozl7tiz' target=\"_blank\">https://wandb.ai/bhkim003-seoul-national-university/reservoir/runs/hozl7tiz</a><br/> View project at: <a href='https://wandb.ai/bhkim003-seoul-national-university/reservoir' target=\"_blank\">https://wandb.ai/bhkim003-seoul-national-university/reservoir</a><br/>Synced 7 W&B file(s), 0 media file(s), 0 artifact file(s) and 1 other file(s)"
      ],
      "text/plain": [
       "<IPython.core.display.HTML object>"
      ]
     },
     "metadata": {},
     "output_type": "display_data"
    },
    {
     "data": {
      "text/html": [
       "Find logs at: <code>./wandb/run-20240727_105043-hozl7tiz/logs</code>"
      ],
      "text/plain": [
       "<IPython.core.display.HTML object>"
      ]
     },
     "metadata": {},
     "output_type": "display_data"
    },
    {
     "data": {
      "text/html": [
       "The new W&B backend becomes opt-out in version 0.18.0; try it out with `wandb.require(\"core\")`! See https://wandb.me/wandb-core for more information."
      ],
      "text/plain": [
       "<IPython.core.display.HTML object>"
      ]
     },
     "metadata": {},
     "output_type": "display_data"
    },
    {
     "name": "stderr",
     "output_type": "stream",
     "text": [
      "\u001b[34m\u001b[1mwandb\u001b[0m: Agent Starting Run: h60tw069 with config:\n",
      "\u001b[34m\u001b[1mwandb\u001b[0m: \tEPOCH: 20\n",
      "\u001b[34m\u001b[1mwandb\u001b[0m: \tFC_RESERVOIR: True\n",
      "\u001b[34m\u001b[1mwandb\u001b[0m: \tIMAGE_SIZE: 48\n",
      "\u001b[34m\u001b[1mwandb\u001b[0m: \tbatch_size: 16\n",
      "\u001b[34m\u001b[1mwandb\u001b[0m: \tdata_path: /data2\n",
      "\u001b[34m\u001b[1mwandb\u001b[0m: \tdecay: 0.7937625451625044\n",
      "\u001b[34m\u001b[1mwandb\u001b[0m: \tdvs_clipping: True\n",
      "\u001b[34m\u001b[1mwandb\u001b[0m: \tdvs_duration: 100000\n",
      "\u001b[34m\u001b[1mwandb\u001b[0m: \tlearning_rate: 0.01687388113287686\n",
      "\u001b[34m\u001b[1mwandb\u001b[0m: \tno_reservoir: True\n",
      "\u001b[34m\u001b[1mwandb\u001b[0m: \tpre_spike_weight: 7.489309338642218\n",
      "\u001b[34m\u001b[1mwandb\u001b[0m: \trate_coding: False\n",
      "\u001b[34m\u001b[1mwandb\u001b[0m: \ttime_step: 7\n",
      "\u001b[34m\u001b[1mwandb\u001b[0m: \twhich_data: DVS_GESTURE\n",
      "Failed to detect the name of this notebook, you can set it manually with the WANDB_NOTEBOOK_NAME environment variable to enable code saving.\n"
     ]
    },
    {
     "data": {
      "text/html": [
       "Tracking run with wandb version 0.17.5"
      ],
      "text/plain": [
       "<IPython.core.display.HTML object>"
      ]
     },
     "metadata": {},
     "output_type": "display_data"
    },
    {
     "data": {
      "text/html": [
       "Run data is saved locally in <code>/nfs/home/bhkim003/github_folder/ByeonghyeonKim/my_snn/wandb/run-20240727_111040-h60tw069</code>"
      ],
      "text/plain": [
       "<IPython.core.display.HTML object>"
      ]
     },
     "metadata": {},
     "output_type": "display_data"
    },
    {
     "data": {
      "text/html": [
       "Syncing run <strong><a href='https://wandb.ai/bhkim003-seoul-national-university/reservoir/runs/h60tw069' target=\"_blank\">swift-sweep-46</a></strong> to <a href='https://wandb.ai/bhkim003-seoul-national-university/reservoir' target=\"_blank\">Weights & Biases</a> (<a href='https://wandb.me/run' target=\"_blank\">docs</a>)<br/>Sweep page: <a href='https://wandb.ai/bhkim003-seoul-national-university/reservoir/sweeps/sxt07a51' target=\"_blank\">https://wandb.ai/bhkim003-seoul-national-university/reservoir/sweeps/sxt07a51</a>"
      ],
      "text/plain": [
       "<IPython.core.display.HTML object>"
      ]
     },
     "metadata": {},
     "output_type": "display_data"
    },
    {
     "data": {
      "text/html": [
       " View project at <a href='https://wandb.ai/bhkim003-seoul-national-university/reservoir' target=\"_blank\">https://wandb.ai/bhkim003-seoul-national-university/reservoir</a>"
      ],
      "text/plain": [
       "<IPython.core.display.HTML object>"
      ]
     },
     "metadata": {},
     "output_type": "display_data"
    },
    {
     "data": {
      "text/html": [
       " View sweep at <a href='https://wandb.ai/bhkim003-seoul-national-university/reservoir/sweeps/sxt07a51' target=\"_blank\">https://wandb.ai/bhkim003-seoul-national-university/reservoir/sweeps/sxt07a51</a>"
      ],
      "text/plain": [
       "<IPython.core.display.HTML object>"
      ]
     },
     "metadata": {},
     "output_type": "display_data"
    },
    {
     "data": {
      "text/html": [
       " View run at <a href='https://wandb.ai/bhkim003-seoul-national-university/reservoir/runs/h60tw069' target=\"_blank\">https://wandb.ai/bhkim003-seoul-national-university/reservoir/runs/h60tw069</a>"
      ],
      "text/plain": [
       "<IPython.core.display.HTML object>"
      ]
     },
     "metadata": {},
     "output_type": "display_data"
    },
    {
     "name": "stderr",
     "output_type": "stream",
     "text": [
      "\u001b[34m\u001b[1mwandb\u001b[0m: \u001b[33mWARNING\u001b[0m Config item 'data_path' was locked by 'sweep' (ignored update).\n",
      "\u001b[34m\u001b[1mwandb\u001b[0m: \u001b[33mWARNING\u001b[0m Config item 'which_data' was locked by 'sweep' (ignored update).\n",
      "\u001b[34m\u001b[1mwandb\u001b[0m: \u001b[33mWARNING\u001b[0m Config item 'learning_rate' was locked by 'sweep' (ignored update).\n",
      "\u001b[34m\u001b[1mwandb\u001b[0m: \u001b[33mWARNING\u001b[0m Config item 'IMAGE_SIZE' was locked by 'sweep' (ignored update).\n",
      "\u001b[34m\u001b[1mwandb\u001b[0m: \u001b[33mWARNING\u001b[0m Config item 'EPOCH' was locked by 'sweep' (ignored update).\n",
      "\u001b[34m\u001b[1mwandb\u001b[0m: \u001b[33mWARNING\u001b[0m Config item 'rate_coding' was locked by 'sweep' (ignored update).\n",
      "\u001b[34m\u001b[1mwandb\u001b[0m: \u001b[33mWARNING\u001b[0m Config item 'pre_spike_weight' was locked by 'sweep' (ignored update).\n",
      "\u001b[34m\u001b[1mwandb\u001b[0m: \u001b[33mWARNING\u001b[0m Config item 'dvs_duration' was locked by 'sweep' (ignored update).\n",
      "\u001b[34m\u001b[1mwandb\u001b[0m: \u001b[33mWARNING\u001b[0m Config item 'dvs_clipping' was locked by 'sweep' (ignored update).\n",
      "\u001b[34m\u001b[1mwandb\u001b[0m: \u001b[33mWARNING\u001b[0m Config item 'no_reservoir' was locked by 'sweep' (ignored update).\n",
      "\u001b[34m\u001b[1mwandb\u001b[0m: \u001b[33mWARNING\u001b[0m Config item 'FC_RESERVOIR' was locked by 'sweep' (ignored update).\n"
     ]
    },
    {
     "name": "stdout",
     "output_type": "stream",
     "text": [
      "The directory [/data2/gesture/duration_100000] already exists.\n",
      "The directory [/data2/gesture/duration_100000] already exists.\n",
      "RESERVOIR_NET(\n",
      "  (classifier): Linear(in_features=4608, out_features=10, bias=True)\n",
      ")\n",
      "Epoch 1\n",
      "Train Accuracy: 47.96%\n",
      "Test loss: 1.587, Val Accuracy: 52.27%\n",
      "Epoch 2\n",
      "Train Accuracy: 72.63%\n",
      "Test loss: 1.106, Val Accuracy: 64.39%\n",
      "Epoch 3\n",
      "Train Accuracy: 83.21%\n",
      "Test loss: 1.080, Val Accuracy: 66.67%\n",
      "Epoch 4\n",
      "Train Accuracy: 92.21%\n",
      "Test loss: 1.004, Val Accuracy: 68.56%\n",
      "Epoch 5\n",
      "Train Accuracy: 97.87%\n",
      "Test loss: 0.983, Val Accuracy: 67.05%\n",
      "Epoch 6\n",
      "Train Accuracy: 98.61%\n",
      "Test loss: 1.048, Val Accuracy: 66.29%\n",
      "Epoch 7\n",
      "Train Accuracy: 99.63%\n",
      "Test loss: 0.913, Val Accuracy: 70.83%\n",
      "Epoch 8\n",
      "Train Accuracy: 99.81%\n",
      "Test loss: 0.948, Val Accuracy: 70.08%\n",
      "Epoch 9\n",
      "Train Accuracy: 100.00%\n",
      "Test loss: 0.917, Val Accuracy: 70.45%\n",
      "Epoch 10\n",
      "Train Accuracy: 100.00%\n",
      "Test loss: 0.938, Val Accuracy: 70.45%\n",
      "Epoch 11\n",
      "Train Accuracy: 100.00%\n",
      "Test loss: 0.960, Val Accuracy: 69.70%\n",
      "Epoch 12\n",
      "Train Accuracy: 100.00%\n",
      "Test loss: 0.949, Val Accuracy: 70.08%\n",
      "Epoch 13\n",
      "Train Accuracy: 100.00%\n",
      "Test loss: 0.977, Val Accuracy: 69.32%\n",
      "Epoch 14\n",
      "Train Accuracy: 100.00%\n",
      "Test loss: 0.935, Val Accuracy: 69.70%\n",
      "Epoch 15\n",
      "Train Accuracy: 100.00%\n",
      "Test loss: 0.959, Val Accuracy: 68.94%\n",
      "Epoch 16\n",
      "Train Accuracy: 100.00%\n",
      "Test loss: 0.967, Val Accuracy: 71.97%\n",
      "Epoch 17\n",
      "Train Accuracy: 100.00%\n",
      "Test loss: 0.978, Val Accuracy: 70.08%\n",
      "Epoch 18\n",
      "Train Accuracy: 100.00%\n",
      "Test loss: 0.967, Val Accuracy: 70.83%\n",
      "Epoch 19\n",
      "Train Accuracy: 100.00%\n",
      "Test loss: 0.976, Val Accuracy: 70.83%\n",
      "Epoch 20\n",
      "Train Accuracy: 100.00%\n",
      "Test loss: 0.973, Val Accuracy: 69.32%\n"
     ]
    },
    {
     "data": {
      "application/vnd.jupyter.widget-view+json": {
       "model_id": "63bfd787c89046c8836f4ed203fc9902",
       "version_major": 2,
       "version_minor": 0
      },
      "text/plain": [
       "VBox(children=(Label(value='0.192 MB of 0.192 MB uploaded\\r'), FloatProgress(value=1.0, max=1.0)))"
      ]
     },
     "metadata": {},
     "output_type": "display_data"
    },
    {
     "data": {
      "text/html": [
       "<style>\n",
       "    table.wandb td:nth-child(1) { padding: 0 10px; text-align: left ; width: auto;} td:nth-child(2) {text-align: left ; width: 100%}\n",
       "    .wandb-row { display: flex; flex-direction: row; flex-wrap: wrap; justify-content: flex-start; width: 100% }\n",
       "    .wandb-col { display: flex; flex-direction: column; flex-basis: 100%; flex: 1; padding: 10px; }\n",
       "    </style>\n",
       "<div class=\"wandb-row\"><div class=\"wandb-col\"><h3>Run history:</h3><br/><table class=\"wandb\"><tr><td>epoch</td><td>▁▁▂▂▂▃▃▄▄▄▅▅▅▆▆▇▇▇██</td></tr><tr><td>iter_accuracy</td><td>▁▃▃▅▆▅▆▆█▇█▇████████████████████████████</td></tr><tr><td>tr_accuracy</td><td>▁▄▆▇████████████████</td></tr><tr><td>val_accuracy</td><td>▁▅▆▇▆▆█▇▇▇▇▇▇▇▇█▇██▇</td></tr></table><br/></div><div class=\"wandb-col\"><h3>Run summary:</h3><br/><table class=\"wandb\"><tr><td>epoch</td><td>19</td></tr><tr><td>iter_accuracy</td><td>100.0</td></tr><tr><td>tr_accuracy</td><td>100.0</td></tr><tr><td>val_accuracy</td><td>69.31818</td></tr></table><br/></div></div>"
      ],
      "text/plain": [
       "<IPython.core.display.HTML object>"
      ]
     },
     "metadata": {},
     "output_type": "display_data"
    },
    {
     "data": {
      "text/html": [
       " View run <strong style=\"color:#cdcd00\">swift-sweep-46</strong> at: <a href='https://wandb.ai/bhkim003-seoul-national-university/reservoir/runs/h60tw069' target=\"_blank\">https://wandb.ai/bhkim003-seoul-national-university/reservoir/runs/h60tw069</a><br/> View project at: <a href='https://wandb.ai/bhkim003-seoul-national-university/reservoir' target=\"_blank\">https://wandb.ai/bhkim003-seoul-national-university/reservoir</a><br/>Synced 7 W&B file(s), 0 media file(s), 0 artifact file(s) and 1 other file(s)"
      ],
      "text/plain": [
       "<IPython.core.display.HTML object>"
      ]
     },
     "metadata": {},
     "output_type": "display_data"
    },
    {
     "data": {
      "text/html": [
       "Find logs at: <code>./wandb/run-20240727_111040-h60tw069/logs</code>"
      ],
      "text/plain": [
       "<IPython.core.display.HTML object>"
      ]
     },
     "metadata": {},
     "output_type": "display_data"
    },
    {
     "data": {
      "text/html": [
       "The new W&B backend becomes opt-out in version 0.18.0; try it out with `wandb.require(\"core\")`! See https://wandb.me/wandb-core for more information."
      ],
      "text/plain": [
       "<IPython.core.display.HTML object>"
      ]
     },
     "metadata": {},
     "output_type": "display_data"
    },
    {
     "name": "stderr",
     "output_type": "stream",
     "text": [
      "\u001b[34m\u001b[1mwandb\u001b[0m: Sweep Agent: Waiting for job.\n",
      "\u001b[34m\u001b[1mwandb\u001b[0m: Job received.\n",
      "\u001b[34m\u001b[1mwandb\u001b[0m: Agent Starting Run: 0a332r0e with config:\n",
      "\u001b[34m\u001b[1mwandb\u001b[0m: \tEPOCH: 20\n",
      "\u001b[34m\u001b[1mwandb\u001b[0m: \tFC_RESERVOIR: True\n",
      "\u001b[34m\u001b[1mwandb\u001b[0m: \tIMAGE_SIZE: 128\n",
      "\u001b[34m\u001b[1mwandb\u001b[0m: \tbatch_size: 64\n",
      "\u001b[34m\u001b[1mwandb\u001b[0m: \tdata_path: /data2\n",
      "\u001b[34m\u001b[1mwandb\u001b[0m: \tdecay: 0.6426951305193274\n",
      "\u001b[34m\u001b[1mwandb\u001b[0m: \tdvs_clipping: True\n",
      "\u001b[34m\u001b[1mwandb\u001b[0m: \tdvs_duration: 100000\n",
      "\u001b[34m\u001b[1mwandb\u001b[0m: \tlearning_rate: 0.01825677783969336\n",
      "\u001b[34m\u001b[1mwandb\u001b[0m: \tno_reservoir: False\n",
      "\u001b[34m\u001b[1mwandb\u001b[0m: \tpre_spike_weight: 6.32436620093952\n",
      "\u001b[34m\u001b[1mwandb\u001b[0m: \trate_coding: False\n",
      "\u001b[34m\u001b[1mwandb\u001b[0m: \ttime_step: 8\n",
      "\u001b[34m\u001b[1mwandb\u001b[0m: \twhich_data: DVS_GESTURE\n",
      "Failed to detect the name of this notebook, you can set it manually with the WANDB_NOTEBOOK_NAME environment variable to enable code saving.\n"
     ]
    },
    {
     "data": {
      "text/html": [
       "Tracking run with wandb version 0.17.5"
      ],
      "text/plain": [
       "<IPython.core.display.HTML object>"
      ]
     },
     "metadata": {},
     "output_type": "display_data"
    },
    {
     "data": {
      "text/html": [
       "Run data is saved locally in <code>/nfs/home/bhkim003/github_folder/ByeonghyeonKim/my_snn/wandb/run-20240727_112443-0a332r0e</code>"
      ],
      "text/plain": [
       "<IPython.core.display.HTML object>"
      ]
     },
     "metadata": {},
     "output_type": "display_data"
    },
    {
     "data": {
      "text/html": [
       "Syncing run <strong><a href='https://wandb.ai/bhkim003-seoul-national-university/reservoir/runs/0a332r0e' target=\"_blank\">sleek-sweep-47</a></strong> to <a href='https://wandb.ai/bhkim003-seoul-national-university/reservoir' target=\"_blank\">Weights & Biases</a> (<a href='https://wandb.me/run' target=\"_blank\">docs</a>)<br/>Sweep page: <a href='https://wandb.ai/bhkim003-seoul-national-university/reservoir/sweeps/sxt07a51' target=\"_blank\">https://wandb.ai/bhkim003-seoul-national-university/reservoir/sweeps/sxt07a51</a>"
      ],
      "text/plain": [
       "<IPython.core.display.HTML object>"
      ]
     },
     "metadata": {},
     "output_type": "display_data"
    },
    {
     "data": {
      "text/html": [
       " View project at <a href='https://wandb.ai/bhkim003-seoul-national-university/reservoir' target=\"_blank\">https://wandb.ai/bhkim003-seoul-national-university/reservoir</a>"
      ],
      "text/plain": [
       "<IPython.core.display.HTML object>"
      ]
     },
     "metadata": {},
     "output_type": "display_data"
    },
    {
     "data": {
      "text/html": [
       " View sweep at <a href='https://wandb.ai/bhkim003-seoul-national-university/reservoir/sweeps/sxt07a51' target=\"_blank\">https://wandb.ai/bhkim003-seoul-national-university/reservoir/sweeps/sxt07a51</a>"
      ],
      "text/plain": [
       "<IPython.core.display.HTML object>"
      ]
     },
     "metadata": {},
     "output_type": "display_data"
    },
    {
     "data": {
      "text/html": [
       " View run at <a href='https://wandb.ai/bhkim003-seoul-national-university/reservoir/runs/0a332r0e' target=\"_blank\">https://wandb.ai/bhkim003-seoul-national-university/reservoir/runs/0a332r0e</a>"
      ],
      "text/plain": [
       "<IPython.core.display.HTML object>"
      ]
     },
     "metadata": {},
     "output_type": "display_data"
    },
    {
     "name": "stderr",
     "output_type": "stream",
     "text": [
      "\u001b[34m\u001b[1mwandb\u001b[0m: \u001b[33mWARNING\u001b[0m Config item 'data_path' was locked by 'sweep' (ignored update).\n",
      "\u001b[34m\u001b[1mwandb\u001b[0m: \u001b[33mWARNING\u001b[0m Config item 'which_data' was locked by 'sweep' (ignored update).\n",
      "\u001b[34m\u001b[1mwandb\u001b[0m: \u001b[33mWARNING\u001b[0m Config item 'learning_rate' was locked by 'sweep' (ignored update).\n",
      "\u001b[34m\u001b[1mwandb\u001b[0m: \u001b[33mWARNING\u001b[0m Config item 'IMAGE_SIZE' was locked by 'sweep' (ignored update).\n",
      "\u001b[34m\u001b[1mwandb\u001b[0m: \u001b[33mWARNING\u001b[0m Config item 'EPOCH' was locked by 'sweep' (ignored update).\n",
      "\u001b[34m\u001b[1mwandb\u001b[0m: \u001b[33mWARNING\u001b[0m Config item 'rate_coding' was locked by 'sweep' (ignored update).\n",
      "\u001b[34m\u001b[1mwandb\u001b[0m: \u001b[33mWARNING\u001b[0m Config item 'pre_spike_weight' was locked by 'sweep' (ignored update).\n",
      "\u001b[34m\u001b[1mwandb\u001b[0m: \u001b[33mWARNING\u001b[0m Config item 'dvs_duration' was locked by 'sweep' (ignored update).\n",
      "\u001b[34m\u001b[1mwandb\u001b[0m: \u001b[33mWARNING\u001b[0m Config item 'dvs_clipping' was locked by 'sweep' (ignored update).\n",
      "\u001b[34m\u001b[1mwandb\u001b[0m: \u001b[33mWARNING\u001b[0m Config item 'no_reservoir' was locked by 'sweep' (ignored update).\n",
      "\u001b[34m\u001b[1mwandb\u001b[0m: \u001b[33mWARNING\u001b[0m Config item 'FC_RESERVOIR' was locked by 'sweep' (ignored update).\n"
     ]
    },
    {
     "name": "stdout",
     "output_type": "stream",
     "text": [
      "The directory [/data2/gesture/duration_100000] already exists.\n",
      "The directory [/data2/gesture/duration_100000] already exists.\n",
      "RESERVOIR_NET(\n",
      "  (reservoir): RESERVOIR(\n",
      "    (reservoir): Linear(in_features=32768, out_features=32768, bias=True)\n",
      "  )\n",
      "  (classifier): Linear(in_features=32768, out_features=10, bias=True)\n",
      ")\n",
      "Epoch 1\n",
      "Train Accuracy: 45.08%\n",
      "Test loss: 1.377, Val Accuracy: 60.23%\n",
      "Epoch 2\n",
      "Train Accuracy: 71.80%\n",
      "Test loss: 1.481, Val Accuracy: 59.09%\n",
      "Epoch 3\n",
      "Train Accuracy: 78.29%\n",
      "Test loss: 1.475, Val Accuracy: 62.12%\n",
      "Epoch 4\n",
      "Train Accuracy: 88.50%\n",
      "Test loss: 1.058, Val Accuracy: 60.61%\n",
      "Epoch 5\n",
      "Train Accuracy: 94.90%\n",
      "Test loss: 1.113, Val Accuracy: 68.56%\n",
      "Epoch 6\n",
      "Train Accuracy: 98.52%\n",
      "Test loss: 1.132, Val Accuracy: 70.08%\n",
      "Epoch 7\n",
      "Train Accuracy: 98.98%\n",
      "Test loss: 1.083, Val Accuracy: 67.42%\n",
      "Epoch 8\n",
      "Train Accuracy: 100.00%\n",
      "Test loss: 0.947, Val Accuracy: 74.62%\n",
      "Epoch 9\n",
      "Train Accuracy: 100.00%\n",
      "Test loss: 1.107, Val Accuracy: 73.11%\n",
      "Epoch 10\n",
      "Train Accuracy: 100.00%\n",
      "Test loss: 1.115, Val Accuracy: 74.24%\n",
      "Epoch 11\n",
      "Train Accuracy: 100.00%\n",
      "Test loss: 1.132, Val Accuracy: 74.62%\n",
      "Epoch 12\n",
      "Train Accuracy: 100.00%\n",
      "Test loss: 1.044, Val Accuracy: 74.24%\n",
      "Epoch 13\n",
      "Train Accuracy: 100.00%\n",
      "Test loss: 1.072, Val Accuracy: 73.48%\n",
      "Epoch 14\n",
      "Train Accuracy: 100.00%\n",
      "Test loss: 1.039, Val Accuracy: 74.24%\n",
      "Epoch 15\n",
      "Train Accuracy: 100.00%\n",
      "Test loss: 1.130, Val Accuracy: 73.86%\n",
      "Epoch 16\n",
      "Train Accuracy: 100.00%\n",
      "Test loss: 1.053, Val Accuracy: 72.73%\n",
      "Epoch 17\n",
      "Train Accuracy: 100.00%\n",
      "Test loss: 1.037, Val Accuracy: 73.48%\n",
      "Epoch 18\n",
      "Train Accuracy: 100.00%\n",
      "Test loss: 1.056, Val Accuracy: 73.86%\n",
      "Epoch 19\n",
      "Train Accuracy: 100.00%\n",
      "Test loss: 1.101, Val Accuracy: 73.48%\n",
      "Epoch 20\n",
      "Train Accuracy: 100.00%\n",
      "Test loss: 1.099, Val Accuracy: 74.24%\n"
     ]
    },
    {
     "data": {
      "application/vnd.jupyter.widget-view+json": {
       "model_id": "c3b5b877baf0431ba59a25a275aa4823",
       "version_major": 2,
       "version_minor": 0
      },
      "text/plain": [
       "VBox(children=(Label(value='0.192 MB of 0.192 MB uploaded\\r'), FloatProgress(value=1.0, max=1.0)))"
      ]
     },
     "metadata": {},
     "output_type": "display_data"
    },
    {
     "data": {
      "text/html": [
       "<style>\n",
       "    table.wandb td:nth-child(1) { padding: 0 10px; text-align: left ; width: auto;} td:nth-child(2) {text-align: left ; width: 100%}\n",
       "    .wandb-row { display: flex; flex-direction: row; flex-wrap: wrap; justify-content: flex-start; width: 100% }\n",
       "    .wandb-col { display: flex; flex-direction: column; flex-basis: 100%; flex: 1; padding: 10px; }\n",
       "    </style>\n",
       "<div class=\"wandb-row\"><div class=\"wandb-col\"><h3>Run history:</h3><br/><table class=\"wandb\"><tr><td>epoch</td><td>▁▁▂▂▂▃▃▄▄▄▅▅▅▆▆▇▇▇██</td></tr><tr><td>iter_accuracy</td><td>▁▃▅▅▇▆▆▇█▇██████████████████████████████</td></tr><tr><td>tr_accuracy</td><td>▁▄▅▇▇███████████████</td></tr><tr><td>val_accuracy</td><td>▂▁▂▂▅▆▅█▇███▇██▇▇█▇█</td></tr></table><br/></div><div class=\"wandb-col\"><h3>Run summary:</h3><br/><table class=\"wandb\"><tr><td>epoch</td><td>19</td></tr><tr><td>iter_accuracy</td><td>100.0</td></tr><tr><td>tr_accuracy</td><td>100.0</td></tr><tr><td>val_accuracy</td><td>74.24242</td></tr></table><br/></div></div>"
      ],
      "text/plain": [
       "<IPython.core.display.HTML object>"
      ]
     },
     "metadata": {},
     "output_type": "display_data"
    },
    {
     "data": {
      "text/html": [
       " View run <strong style=\"color:#cdcd00\">sleek-sweep-47</strong> at: <a href='https://wandb.ai/bhkim003-seoul-national-university/reservoir/runs/0a332r0e' target=\"_blank\">https://wandb.ai/bhkim003-seoul-national-university/reservoir/runs/0a332r0e</a><br/> View project at: <a href='https://wandb.ai/bhkim003-seoul-national-university/reservoir' target=\"_blank\">https://wandb.ai/bhkim003-seoul-national-university/reservoir</a><br/>Synced 7 W&B file(s), 0 media file(s), 0 artifact file(s) and 1 other file(s)"
      ],
      "text/plain": [
       "<IPython.core.display.HTML object>"
      ]
     },
     "metadata": {},
     "output_type": "display_data"
    },
    {
     "data": {
      "text/html": [
       "Find logs at: <code>./wandb/run-20240727_112443-0a332r0e/logs</code>"
      ],
      "text/plain": [
       "<IPython.core.display.HTML object>"
      ]
     },
     "metadata": {},
     "output_type": "display_data"
    },
    {
     "data": {
      "text/html": [
       "The new W&B backend becomes opt-out in version 0.18.0; try it out with `wandb.require(\"core\")`! See https://wandb.me/wandb-core for more information."
      ],
      "text/plain": [
       "<IPython.core.display.HTML object>"
      ]
     },
     "metadata": {},
     "output_type": "display_data"
    },
    {
     "name": "stderr",
     "output_type": "stream",
     "text": [
      "\u001b[34m\u001b[1mwandb\u001b[0m: Agent Starting Run: en36po8v with config:\n",
      "\u001b[34m\u001b[1mwandb\u001b[0m: \tEPOCH: 20\n",
      "\u001b[34m\u001b[1mwandb\u001b[0m: \tFC_RESERVOIR: True\n",
      "\u001b[34m\u001b[1mwandb\u001b[0m: \tIMAGE_SIZE: 128\n",
      "\u001b[34m\u001b[1mwandb\u001b[0m: \tbatch_size: 16\n",
      "\u001b[34m\u001b[1mwandb\u001b[0m: \tdata_path: /data2\n",
      "\u001b[34m\u001b[1mwandb\u001b[0m: \tdecay: 0.9792531405728642\n",
      "\u001b[34m\u001b[1mwandb\u001b[0m: \tdvs_clipping: True\n",
      "\u001b[34m\u001b[1mwandb\u001b[0m: \tdvs_duration: 100000\n",
      "\u001b[34m\u001b[1mwandb\u001b[0m: \tlearning_rate: 0.010160623626323691\n",
      "\u001b[34m\u001b[1mwandb\u001b[0m: \tno_reservoir: True\n",
      "\u001b[34m\u001b[1mwandb\u001b[0m: \tpre_spike_weight: 6.068710872282449\n",
      "\u001b[34m\u001b[1mwandb\u001b[0m: \trate_coding: False\n",
      "\u001b[34m\u001b[1mwandb\u001b[0m: \ttime_step: 8\n",
      "\u001b[34m\u001b[1mwandb\u001b[0m: \twhich_data: DVS_GESTURE\n",
      "Failed to detect the name of this notebook, you can set it manually with the WANDB_NOTEBOOK_NAME environment variable to enable code saving.\n"
     ]
    },
    {
     "data": {
      "text/html": [
       "Tracking run with wandb version 0.17.5"
      ],
      "text/plain": [
       "<IPython.core.display.HTML object>"
      ]
     },
     "metadata": {},
     "output_type": "display_data"
    },
    {
     "data": {
      "text/html": [
       "Run data is saved locally in <code>/nfs/home/bhkim003/github_folder/ByeonghyeonKim/my_snn/wandb/run-20240727_123334-en36po8v</code>"
      ],
      "text/plain": [
       "<IPython.core.display.HTML object>"
      ]
     },
     "metadata": {},
     "output_type": "display_data"
    },
    {
     "data": {
      "text/html": [
       "Syncing run <strong><a href='https://wandb.ai/bhkim003-seoul-national-university/reservoir/runs/en36po8v' target=\"_blank\">resilient-sweep-48</a></strong> to <a href='https://wandb.ai/bhkim003-seoul-national-university/reservoir' target=\"_blank\">Weights & Biases</a> (<a href='https://wandb.me/run' target=\"_blank\">docs</a>)<br/>Sweep page: <a href='https://wandb.ai/bhkim003-seoul-national-university/reservoir/sweeps/sxt07a51' target=\"_blank\">https://wandb.ai/bhkim003-seoul-national-university/reservoir/sweeps/sxt07a51</a>"
      ],
      "text/plain": [
       "<IPython.core.display.HTML object>"
      ]
     },
     "metadata": {},
     "output_type": "display_data"
    },
    {
     "data": {
      "text/html": [
       " View project at <a href='https://wandb.ai/bhkim003-seoul-national-university/reservoir' target=\"_blank\">https://wandb.ai/bhkim003-seoul-national-university/reservoir</a>"
      ],
      "text/plain": [
       "<IPython.core.display.HTML object>"
      ]
     },
     "metadata": {},
     "output_type": "display_data"
    },
    {
     "data": {
      "text/html": [
       " View sweep at <a href='https://wandb.ai/bhkim003-seoul-national-university/reservoir/sweeps/sxt07a51' target=\"_blank\">https://wandb.ai/bhkim003-seoul-national-university/reservoir/sweeps/sxt07a51</a>"
      ],
      "text/plain": [
       "<IPython.core.display.HTML object>"
      ]
     },
     "metadata": {},
     "output_type": "display_data"
    },
    {
     "data": {
      "text/html": [
       " View run at <a href='https://wandb.ai/bhkim003-seoul-national-university/reservoir/runs/en36po8v' target=\"_blank\">https://wandb.ai/bhkim003-seoul-national-university/reservoir/runs/en36po8v</a>"
      ],
      "text/plain": [
       "<IPython.core.display.HTML object>"
      ]
     },
     "metadata": {},
     "output_type": "display_data"
    },
    {
     "name": "stderr",
     "output_type": "stream",
     "text": [
      "\u001b[34m\u001b[1mwandb\u001b[0m: \u001b[33mWARNING\u001b[0m Config item 'data_path' was locked by 'sweep' (ignored update).\n",
      "\u001b[34m\u001b[1mwandb\u001b[0m: \u001b[33mWARNING\u001b[0m Config item 'which_data' was locked by 'sweep' (ignored update).\n",
      "\u001b[34m\u001b[1mwandb\u001b[0m: \u001b[33mWARNING\u001b[0m Config item 'learning_rate' was locked by 'sweep' (ignored update).\n",
      "\u001b[34m\u001b[1mwandb\u001b[0m: \u001b[33mWARNING\u001b[0m Config item 'IMAGE_SIZE' was locked by 'sweep' (ignored update).\n",
      "\u001b[34m\u001b[1mwandb\u001b[0m: \u001b[33mWARNING\u001b[0m Config item 'EPOCH' was locked by 'sweep' (ignored update).\n",
      "\u001b[34m\u001b[1mwandb\u001b[0m: \u001b[33mWARNING\u001b[0m Config item 'rate_coding' was locked by 'sweep' (ignored update).\n",
      "\u001b[34m\u001b[1mwandb\u001b[0m: \u001b[33mWARNING\u001b[0m Config item 'pre_spike_weight' was locked by 'sweep' (ignored update).\n",
      "\u001b[34m\u001b[1mwandb\u001b[0m: \u001b[33mWARNING\u001b[0m Config item 'dvs_duration' was locked by 'sweep' (ignored update).\n",
      "\u001b[34m\u001b[1mwandb\u001b[0m: \u001b[33mWARNING\u001b[0m Config item 'dvs_clipping' was locked by 'sweep' (ignored update).\n",
      "\u001b[34m\u001b[1mwandb\u001b[0m: \u001b[33mWARNING\u001b[0m Config item 'no_reservoir' was locked by 'sweep' (ignored update).\n",
      "\u001b[34m\u001b[1mwandb\u001b[0m: \u001b[33mWARNING\u001b[0m Config item 'FC_RESERVOIR' was locked by 'sweep' (ignored update).\n"
     ]
    },
    {
     "name": "stdout",
     "output_type": "stream",
     "text": [
      "The directory [/data2/gesture/duration_100000] already exists.\n",
      "The directory [/data2/gesture/duration_100000] already exists.\n",
      "RESERVOIR_NET(\n",
      "  (classifier): Linear(in_features=32768, out_features=10, bias=True)\n",
      ")\n",
      "Epoch 1\n",
      "Train Accuracy: 53.06%\n",
      "Test loss: 1.240, Val Accuracy: 62.12%\n",
      "Epoch 2\n",
      "Train Accuracy: 74.21%\n",
      "Test loss: 1.304, Val Accuracy: 58.71%\n",
      "Epoch 3\n",
      "Train Accuracy: 90.07%\n",
      "Test loss: 0.964, Val Accuracy: 70.08%\n",
      "Epoch 4\n",
      "Train Accuracy: 97.22%\n",
      "Test loss: 1.029, Val Accuracy: 67.05%\n",
      "Epoch 5\n",
      "Train Accuracy: 98.42%\n",
      "Test loss: 0.996, Val Accuracy: 71.97%\n",
      "Epoch 6\n",
      "Train Accuracy: 99.91%\n",
      "Test loss: 0.917, Val Accuracy: 72.73%\n",
      "Epoch 7\n",
      "Train Accuracy: 100.00%\n",
      "Test loss: 0.913, Val Accuracy: 70.83%\n",
      "Epoch 8\n",
      "Train Accuracy: 100.00%\n",
      "Test loss: 0.946, Val Accuracy: 69.70%\n",
      "Epoch 9\n",
      "Train Accuracy: 100.00%\n",
      "Test loss: 0.893, Val Accuracy: 71.59%\n",
      "Epoch 10\n",
      "Train Accuracy: 100.00%\n",
      "Test loss: 0.961, Val Accuracy: 70.45%\n",
      "Epoch 11\n",
      "Train Accuracy: 100.00%\n",
      "Test loss: 0.939, Val Accuracy: 70.45%\n",
      "Epoch 12\n",
      "Train Accuracy: 100.00%\n",
      "Test loss: 0.942, Val Accuracy: 72.35%\n",
      "Epoch 13\n",
      "Train Accuracy: 100.00%\n",
      "Test loss: 0.947, Val Accuracy: 70.83%\n",
      "Epoch 14\n",
      "Train Accuracy: 100.00%\n",
      "Test loss: 0.960, Val Accuracy: 71.21%\n",
      "Epoch 15\n",
      "Train Accuracy: 100.00%\n",
      "Test loss: 0.944, Val Accuracy: 71.21%\n",
      "Epoch 16\n",
      "Train Accuracy: 100.00%\n",
      "Test loss: 0.939, Val Accuracy: 71.59%\n",
      "Epoch 17\n",
      "Train Accuracy: 100.00%\n",
      "Test loss: 0.932, Val Accuracy: 71.59%\n",
      "Epoch 18\n",
      "Train Accuracy: 100.00%\n",
      "Test loss: 0.973, Val Accuracy: 70.83%\n",
      "Epoch 19\n",
      "Train Accuracy: 100.00%\n",
      "Test loss: 0.972, Val Accuracy: 71.59%\n",
      "Epoch 20\n",
      "Train Accuracy: 100.00%\n",
      "Test loss: 0.961, Val Accuracy: 72.35%\n"
     ]
    },
    {
     "data": {
      "application/vnd.jupyter.widget-view+json": {
       "model_id": "40043db933634ab18053048dae875383",
       "version_major": 2,
       "version_minor": 0
      },
      "text/plain": [
       "VBox(children=(Label(value='0.192 MB of 0.192 MB uploaded\\r'), FloatProgress(value=1.0, max=1.0)))"
      ]
     },
     "metadata": {},
     "output_type": "display_data"
    },
    {
     "data": {
      "text/html": [
       "<style>\n",
       "    table.wandb td:nth-child(1) { padding: 0 10px; text-align: left ; width: auto;} td:nth-child(2) {text-align: left ; width: 100%}\n",
       "    .wandb-row { display: flex; flex-direction: row; flex-wrap: wrap; justify-content: flex-start; width: 100% }\n",
       "    .wandb-col { display: flex; flex-direction: column; flex-basis: 100%; flex: 1; padding: 10px; }\n",
       "    </style>\n",
       "<div class=\"wandb-row\"><div class=\"wandb-col\"><h3>Run history:</h3><br/><table class=\"wandb\"><tr><td>epoch</td><td>▁▁▂▂▂▃▃▄▄▄▅▅▅▆▆▇▇▇██</td></tr><tr><td>iter_accuracy</td><td>▁▁▅▅▆█▇█▆▇██████████████████████████████</td></tr><tr><td>tr_accuracy</td><td>▁▄▇█████████████████</td></tr><tr><td>val_accuracy</td><td>▃▁▇▅██▇▆▇▇▇█▇▇▇▇▇▇▇█</td></tr></table><br/></div><div class=\"wandb-col\"><h3>Run summary:</h3><br/><table class=\"wandb\"><tr><td>epoch</td><td>19</td></tr><tr><td>iter_accuracy</td><td>100.0</td></tr><tr><td>tr_accuracy</td><td>100.0</td></tr><tr><td>val_accuracy</td><td>72.34848</td></tr></table><br/></div></div>"
      ],
      "text/plain": [
       "<IPython.core.display.HTML object>"
      ]
     },
     "metadata": {},
     "output_type": "display_data"
    },
    {
     "data": {
      "text/html": [
       " View run <strong style=\"color:#cdcd00\">resilient-sweep-48</strong> at: <a href='https://wandb.ai/bhkim003-seoul-national-university/reservoir/runs/en36po8v' target=\"_blank\">https://wandb.ai/bhkim003-seoul-national-university/reservoir/runs/en36po8v</a><br/> View project at: <a href='https://wandb.ai/bhkim003-seoul-national-university/reservoir' target=\"_blank\">https://wandb.ai/bhkim003-seoul-national-university/reservoir</a><br/>Synced 7 W&B file(s), 0 media file(s), 0 artifact file(s) and 1 other file(s)"
      ],
      "text/plain": [
       "<IPython.core.display.HTML object>"
      ]
     },
     "metadata": {},
     "output_type": "display_data"
    },
    {
     "data": {
      "text/html": [
       "Find logs at: <code>./wandb/run-20240727_123334-en36po8v/logs</code>"
      ],
      "text/plain": [
       "<IPython.core.display.HTML object>"
      ]
     },
     "metadata": {},
     "output_type": "display_data"
    },
    {
     "data": {
      "text/html": [
       "The new W&B backend becomes opt-out in version 0.18.0; try it out with `wandb.require(\"core\")`! See https://wandb.me/wandb-core for more information."
      ],
      "text/plain": [
       "<IPython.core.display.HTML object>"
      ]
     },
     "metadata": {},
     "output_type": "display_data"
    },
    {
     "name": "stderr",
     "output_type": "stream",
     "text": [
      "\u001b[34m\u001b[1mwandb\u001b[0m: Agent Starting Run: dxjxcnya with config:\n",
      "\u001b[34m\u001b[1mwandb\u001b[0m: \tEPOCH: 20\n",
      "\u001b[34m\u001b[1mwandb\u001b[0m: \tFC_RESERVOIR: True\n",
      "\u001b[34m\u001b[1mwandb\u001b[0m: \tIMAGE_SIZE: 128\n",
      "\u001b[34m\u001b[1mwandb\u001b[0m: \tbatch_size: 32\n",
      "\u001b[34m\u001b[1mwandb\u001b[0m: \tdata_path: /data2\n",
      "\u001b[34m\u001b[1mwandb\u001b[0m: \tdecay: 0.6709089862265303\n",
      "\u001b[34m\u001b[1mwandb\u001b[0m: \tdvs_clipping: True\n",
      "\u001b[34m\u001b[1mwandb\u001b[0m: \tdvs_duration: 100000\n",
      "\u001b[34m\u001b[1mwandb\u001b[0m: \tlearning_rate: 0.027438434529933057\n",
      "\u001b[34m\u001b[1mwandb\u001b[0m: \tno_reservoir: False\n",
      "\u001b[34m\u001b[1mwandb\u001b[0m: \tpre_spike_weight: 7.697092022980748\n",
      "\u001b[34m\u001b[1mwandb\u001b[0m: \trate_coding: True\n",
      "\u001b[34m\u001b[1mwandb\u001b[0m: \ttime_step: 8\n",
      "\u001b[34m\u001b[1mwandb\u001b[0m: \twhich_data: DVS_GESTURE\n",
      "Failed to detect the name of this notebook, you can set it manually with the WANDB_NOTEBOOK_NAME environment variable to enable code saving.\n"
     ]
    },
    {
     "data": {
      "text/html": [
       "Tracking run with wandb version 0.17.5"
      ],
      "text/plain": [
       "<IPython.core.display.HTML object>"
      ]
     },
     "metadata": {},
     "output_type": "display_data"
    },
    {
     "data": {
      "text/html": [
       "Run data is saved locally in <code>/nfs/home/bhkim003/github_folder/ByeonghyeonKim/my_snn/wandb/run-20240727_125232-dxjxcnya</code>"
      ],
      "text/plain": [
       "<IPython.core.display.HTML object>"
      ]
     },
     "metadata": {},
     "output_type": "display_data"
    },
    {
     "data": {
      "text/html": [
       "Syncing run <strong><a href='https://wandb.ai/bhkim003-seoul-national-university/reservoir/runs/dxjxcnya' target=\"_blank\">polar-sweep-49</a></strong> to <a href='https://wandb.ai/bhkim003-seoul-national-university/reservoir' target=\"_blank\">Weights & Biases</a> (<a href='https://wandb.me/run' target=\"_blank\">docs</a>)<br/>Sweep page: <a href='https://wandb.ai/bhkim003-seoul-national-university/reservoir/sweeps/sxt07a51' target=\"_blank\">https://wandb.ai/bhkim003-seoul-national-university/reservoir/sweeps/sxt07a51</a>"
      ],
      "text/plain": [
       "<IPython.core.display.HTML object>"
      ]
     },
     "metadata": {},
     "output_type": "display_data"
    },
    {
     "data": {
      "text/html": [
       " View project at <a href='https://wandb.ai/bhkim003-seoul-national-university/reservoir' target=\"_blank\">https://wandb.ai/bhkim003-seoul-national-university/reservoir</a>"
      ],
      "text/plain": [
       "<IPython.core.display.HTML object>"
      ]
     },
     "metadata": {},
     "output_type": "display_data"
    },
    {
     "data": {
      "text/html": [
       " View sweep at <a href='https://wandb.ai/bhkim003-seoul-national-university/reservoir/sweeps/sxt07a51' target=\"_blank\">https://wandb.ai/bhkim003-seoul-national-university/reservoir/sweeps/sxt07a51</a>"
      ],
      "text/plain": [
       "<IPython.core.display.HTML object>"
      ]
     },
     "metadata": {},
     "output_type": "display_data"
    },
    {
     "data": {
      "text/html": [
       " View run at <a href='https://wandb.ai/bhkim003-seoul-national-university/reservoir/runs/dxjxcnya' target=\"_blank\">https://wandb.ai/bhkim003-seoul-national-university/reservoir/runs/dxjxcnya</a>"
      ],
      "text/plain": [
       "<IPython.core.display.HTML object>"
      ]
     },
     "metadata": {},
     "output_type": "display_data"
    },
    {
     "name": "stderr",
     "output_type": "stream",
     "text": [
      "\u001b[34m\u001b[1mwandb\u001b[0m: \u001b[33mWARNING\u001b[0m Config item 'data_path' was locked by 'sweep' (ignored update).\n",
      "\u001b[34m\u001b[1mwandb\u001b[0m: \u001b[33mWARNING\u001b[0m Config item 'which_data' was locked by 'sweep' (ignored update).\n",
      "\u001b[34m\u001b[1mwandb\u001b[0m: \u001b[33mWARNING\u001b[0m Config item 'learning_rate' was locked by 'sweep' (ignored update).\n",
      "\u001b[34m\u001b[1mwandb\u001b[0m: \u001b[33mWARNING\u001b[0m Config item 'IMAGE_SIZE' was locked by 'sweep' (ignored update).\n",
      "\u001b[34m\u001b[1mwandb\u001b[0m: \u001b[33mWARNING\u001b[0m Config item 'EPOCH' was locked by 'sweep' (ignored update).\n",
      "\u001b[34m\u001b[1mwandb\u001b[0m: \u001b[33mWARNING\u001b[0m Config item 'rate_coding' was locked by 'sweep' (ignored update).\n",
      "\u001b[34m\u001b[1mwandb\u001b[0m: \u001b[33mWARNING\u001b[0m Config item 'pre_spike_weight' was locked by 'sweep' (ignored update).\n",
      "\u001b[34m\u001b[1mwandb\u001b[0m: \u001b[33mWARNING\u001b[0m Config item 'dvs_duration' was locked by 'sweep' (ignored update).\n",
      "\u001b[34m\u001b[1mwandb\u001b[0m: \u001b[33mWARNING\u001b[0m Config item 'dvs_clipping' was locked by 'sweep' (ignored update).\n",
      "\u001b[34m\u001b[1mwandb\u001b[0m: \u001b[33mWARNING\u001b[0m Config item 'no_reservoir' was locked by 'sweep' (ignored update).\n",
      "\u001b[34m\u001b[1mwandb\u001b[0m: \u001b[33mWARNING\u001b[0m Config item 'FC_RESERVOIR' was locked by 'sweep' (ignored update).\n"
     ]
    },
    {
     "name": "stdout",
     "output_type": "stream",
     "text": [
      "The directory [/data2/gesture/duration_100000] already exists.\n",
      "The directory [/data2/gesture/duration_100000] already exists.\n",
      "RESERVOIR_NET(\n",
      "  (reservoir): RESERVOIR(\n",
      "    (reservoir): Linear(in_features=32768, out_features=32768, bias=True)\n",
      "  )\n",
      "  (classifier): Linear(in_features=32768, out_features=10, bias=True)\n",
      ")\n",
      "Epoch 1\n",
      "Train Accuracy: 42.67%\n",
      "Test loss: 4.045, Val Accuracy: 51.52%\n",
      "Epoch 2\n",
      "Train Accuracy: 71.61%\n",
      "Test loss: 2.942, Val Accuracy: 60.98%\n",
      "Epoch 3\n",
      "Train Accuracy: 82.28%\n",
      "Test loss: 2.446, Val Accuracy: 63.64%\n",
      "Epoch 4\n",
      "Train Accuracy: 88.03%\n",
      "Test loss: 2.249, Val Accuracy: 64.02%\n",
      "Epoch 5\n",
      "Train Accuracy: 95.36%\n",
      "Test loss: 1.937, Val Accuracy: 67.05%\n",
      "Epoch 6\n",
      "Train Accuracy: 98.14%\n",
      "Test loss: 1.542, Val Accuracy: 70.45%\n",
      "Epoch 7\n",
      "Train Accuracy: 99.72%\n",
      "Test loss: 1.591, Val Accuracy: 66.29%\n",
      "Epoch 8\n",
      "Train Accuracy: 100.00%\n",
      "Test loss: 1.649, Val Accuracy: 70.08%\n",
      "Epoch 9\n",
      "Train Accuracy: 100.00%\n",
      "Test loss: 1.480, Val Accuracy: 71.97%\n",
      "Epoch 10\n",
      "Train Accuracy: 100.00%\n",
      "Test loss: 1.521, Val Accuracy: 71.59%\n",
      "Epoch 11\n",
      "Train Accuracy: 100.00%\n",
      "Test loss: 1.522, Val Accuracy: 71.59%\n",
      "Epoch 12\n",
      "Train Accuracy: 100.00%\n",
      "Test loss: 1.525, Val Accuracy: 73.11%\n",
      "Epoch 13\n",
      "Train Accuracy: 100.00%\n",
      "Test loss: 1.514, Val Accuracy: 72.35%\n",
      "Epoch 14\n",
      "Train Accuracy: 100.00%\n",
      "Test loss: 1.522, Val Accuracy: 71.59%\n",
      "Epoch 15\n",
      "Train Accuracy: 100.00%\n",
      "Test loss: 1.528, Val Accuracy: 73.11%\n",
      "Epoch 16\n",
      "Train Accuracy: 100.00%\n",
      "Test loss: 1.519, Val Accuracy: 72.35%\n",
      "Epoch 17\n",
      "Train Accuracy: 100.00%\n",
      "Test loss: 1.525, Val Accuracy: 72.35%\n",
      "Epoch 18\n",
      "Train Accuracy: 100.00%\n",
      "Test loss: 1.519, Val Accuracy: 73.11%\n",
      "Epoch 19\n",
      "Train Accuracy: 100.00%\n",
      "Test loss: 1.526, Val Accuracy: 72.73%\n",
      "Epoch 20\n",
      "Train Accuracy: 100.00%\n",
      "Test loss: 1.530, Val Accuracy: 72.73%\n"
     ]
    },
    {
     "data": {
      "application/vnd.jupyter.widget-view+json": {
       "model_id": "b71aba6ca1504358aff349d0c97c08f8",
       "version_major": 2,
       "version_minor": 0
      },
      "text/plain": [
       "VBox(children=(Label(value='0.192 MB of 0.192 MB uploaded\\r'), FloatProgress(value=1.0, max=1.0)))"
      ]
     },
     "metadata": {},
     "output_type": "display_data"
    },
    {
     "data": {
      "text/html": [
       "<style>\n",
       "    table.wandb td:nth-child(1) { padding: 0 10px; text-align: left ; width: auto;} td:nth-child(2) {text-align: left ; width: 100%}\n",
       "    .wandb-row { display: flex; flex-direction: row; flex-wrap: wrap; justify-content: flex-start; width: 100% }\n",
       "    .wandb-col { display: flex; flex-direction: column; flex-basis: 100%; flex: 1; padding: 10px; }\n",
       "    </style>\n",
       "<div class=\"wandb-row\"><div class=\"wandb-col\"><h3>Run history:</h3><br/><table class=\"wandb\"><tr><td>epoch</td><td>▁▁▂▂▂▃▃▄▄▄▅▅▅▆▆▇▇▇██</td></tr><tr><td>iter_accuracy</td><td>▁▂▅▄▆▅▇█▇███████████████████████████████</td></tr><tr><td>tr_accuracy</td><td>▁▅▆▇▇███████████████</td></tr><tr><td>val_accuracy</td><td>▁▄▅▅▆▇▆▇████████████</td></tr></table><br/></div><div class=\"wandb-col\"><h3>Run summary:</h3><br/><table class=\"wandb\"><tr><td>epoch</td><td>19</td></tr><tr><td>iter_accuracy</td><td>100.0</td></tr><tr><td>tr_accuracy</td><td>100.0</td></tr><tr><td>val_accuracy</td><td>72.72727</td></tr></table><br/></div></div>"
      ],
      "text/plain": [
       "<IPython.core.display.HTML object>"
      ]
     },
     "metadata": {},
     "output_type": "display_data"
    },
    {
     "data": {
      "text/html": [
       " View run <strong style=\"color:#cdcd00\">polar-sweep-49</strong> at: <a href='https://wandb.ai/bhkim003-seoul-national-university/reservoir/runs/dxjxcnya' target=\"_blank\">https://wandb.ai/bhkim003-seoul-national-university/reservoir/runs/dxjxcnya</a><br/> View project at: <a href='https://wandb.ai/bhkim003-seoul-national-university/reservoir' target=\"_blank\">https://wandb.ai/bhkim003-seoul-national-university/reservoir</a><br/>Synced 7 W&B file(s), 0 media file(s), 0 artifact file(s) and 1 other file(s)"
      ],
      "text/plain": [
       "<IPython.core.display.HTML object>"
      ]
     },
     "metadata": {},
     "output_type": "display_data"
    },
    {
     "data": {
      "text/html": [
       "Find logs at: <code>./wandb/run-20240727_125232-dxjxcnya/logs</code>"
      ],
      "text/plain": [
       "<IPython.core.display.HTML object>"
      ]
     },
     "metadata": {},
     "output_type": "display_data"
    },
    {
     "data": {
      "text/html": [
       "The new W&B backend becomes opt-out in version 0.18.0; try it out with `wandb.require(\"core\")`! See https://wandb.me/wandb-core for more information."
      ],
      "text/plain": [
       "<IPython.core.display.HTML object>"
      ]
     },
     "metadata": {},
     "output_type": "display_data"
    },
    {
     "name": "stderr",
     "output_type": "stream",
     "text": [
      "\u001b[34m\u001b[1mwandb\u001b[0m: Agent Starting Run: d6njpn8h with config:\n",
      "\u001b[34m\u001b[1mwandb\u001b[0m: \tEPOCH: 20\n",
      "\u001b[34m\u001b[1mwandb\u001b[0m: \tFC_RESERVOIR: True\n",
      "\u001b[34m\u001b[1mwandb\u001b[0m: \tIMAGE_SIZE: 128\n",
      "\u001b[34m\u001b[1mwandb\u001b[0m: \tbatch_size: 128\n",
      "\u001b[34m\u001b[1mwandb\u001b[0m: \tdata_path: /data2\n",
      "\u001b[34m\u001b[1mwandb\u001b[0m: \tdecay: 0.938671603794081\n",
      "\u001b[34m\u001b[1mwandb\u001b[0m: \tdvs_clipping: True\n",
      "\u001b[34m\u001b[1mwandb\u001b[0m: \tdvs_duration: 100000\n",
      "\u001b[34m\u001b[1mwandb\u001b[0m: \tlearning_rate: 0.006971846672592674\n",
      "\u001b[34m\u001b[1mwandb\u001b[0m: \tno_reservoir: False\n",
      "\u001b[34m\u001b[1mwandb\u001b[0m: \tpre_spike_weight: 8.54329146900328\n",
      "\u001b[34m\u001b[1mwandb\u001b[0m: \trate_coding: True\n",
      "\u001b[34m\u001b[1mwandb\u001b[0m: \ttime_step: 8\n",
      "\u001b[34m\u001b[1mwandb\u001b[0m: \twhich_data: DVS_GESTURE\n",
      "Failed to detect the name of this notebook, you can set it manually with the WANDB_NOTEBOOK_NAME environment variable to enable code saving.\n"
     ]
    },
    {
     "data": {
      "text/html": [
       "Tracking run with wandb version 0.17.5"
      ],
      "text/plain": [
       "<IPython.core.display.HTML object>"
      ]
     },
     "metadata": {},
     "output_type": "display_data"
    },
    {
     "data": {
      "text/html": [
       "Run data is saved locally in <code>/nfs/home/bhkim003/github_folder/ByeonghyeonKim/my_snn/wandb/run-20240727_145506-d6njpn8h</code>"
      ],
      "text/plain": [
       "<IPython.core.display.HTML object>"
      ]
     },
     "metadata": {},
     "output_type": "display_data"
    },
    {
     "data": {
      "text/html": [
       "Syncing run <strong><a href='https://wandb.ai/bhkim003-seoul-national-university/reservoir/runs/d6njpn8h' target=\"_blank\">graceful-sweep-50</a></strong> to <a href='https://wandb.ai/bhkim003-seoul-national-university/reservoir' target=\"_blank\">Weights & Biases</a> (<a href='https://wandb.me/run' target=\"_blank\">docs</a>)<br/>Sweep page: <a href='https://wandb.ai/bhkim003-seoul-national-university/reservoir/sweeps/sxt07a51' target=\"_blank\">https://wandb.ai/bhkim003-seoul-national-university/reservoir/sweeps/sxt07a51</a>"
      ],
      "text/plain": [
       "<IPython.core.display.HTML object>"
      ]
     },
     "metadata": {},
     "output_type": "display_data"
    },
    {
     "data": {
      "text/html": [
       " View project at <a href='https://wandb.ai/bhkim003-seoul-national-university/reservoir' target=\"_blank\">https://wandb.ai/bhkim003-seoul-national-university/reservoir</a>"
      ],
      "text/plain": [
       "<IPython.core.display.HTML object>"
      ]
     },
     "metadata": {},
     "output_type": "display_data"
    },
    {
     "data": {
      "text/html": [
       " View sweep at <a href='https://wandb.ai/bhkim003-seoul-national-university/reservoir/sweeps/sxt07a51' target=\"_blank\">https://wandb.ai/bhkim003-seoul-national-university/reservoir/sweeps/sxt07a51</a>"
      ],
      "text/plain": [
       "<IPython.core.display.HTML object>"
      ]
     },
     "metadata": {},
     "output_type": "display_data"
    },
    {
     "data": {
      "text/html": [
       " View run at <a href='https://wandb.ai/bhkim003-seoul-national-university/reservoir/runs/d6njpn8h' target=\"_blank\">https://wandb.ai/bhkim003-seoul-national-university/reservoir/runs/d6njpn8h</a>"
      ],
      "text/plain": [
       "<IPython.core.display.HTML object>"
      ]
     },
     "metadata": {},
     "output_type": "display_data"
    },
    {
     "name": "stderr",
     "output_type": "stream",
     "text": [
      "\u001b[34m\u001b[1mwandb\u001b[0m: \u001b[33mWARNING\u001b[0m Config item 'data_path' was locked by 'sweep' (ignored update).\n",
      "\u001b[34m\u001b[1mwandb\u001b[0m: \u001b[33mWARNING\u001b[0m Config item 'which_data' was locked by 'sweep' (ignored update).\n",
      "\u001b[34m\u001b[1mwandb\u001b[0m: \u001b[33mWARNING\u001b[0m Config item 'learning_rate' was locked by 'sweep' (ignored update).\n",
      "\u001b[34m\u001b[1mwandb\u001b[0m: \u001b[33mWARNING\u001b[0m Config item 'IMAGE_SIZE' was locked by 'sweep' (ignored update).\n",
      "\u001b[34m\u001b[1mwandb\u001b[0m: \u001b[33mWARNING\u001b[0m Config item 'EPOCH' was locked by 'sweep' (ignored update).\n",
      "\u001b[34m\u001b[1mwandb\u001b[0m: \u001b[33mWARNING\u001b[0m Config item 'rate_coding' was locked by 'sweep' (ignored update).\n",
      "\u001b[34m\u001b[1mwandb\u001b[0m: \u001b[33mWARNING\u001b[0m Config item 'pre_spike_weight' was locked by 'sweep' (ignored update).\n",
      "\u001b[34m\u001b[1mwandb\u001b[0m: \u001b[33mWARNING\u001b[0m Config item 'dvs_duration' was locked by 'sweep' (ignored update).\n",
      "\u001b[34m\u001b[1mwandb\u001b[0m: \u001b[33mWARNING\u001b[0m Config item 'dvs_clipping' was locked by 'sweep' (ignored update).\n",
      "\u001b[34m\u001b[1mwandb\u001b[0m: \u001b[33mWARNING\u001b[0m Config item 'no_reservoir' was locked by 'sweep' (ignored update).\n",
      "\u001b[34m\u001b[1mwandb\u001b[0m: \u001b[33mWARNING\u001b[0m Config item 'FC_RESERVOIR' was locked by 'sweep' (ignored update).\n"
     ]
    },
    {
     "name": "stdout",
     "output_type": "stream",
     "text": [
      "The directory [/data2/gesture/duration_100000] already exists.\n",
      "The directory [/data2/gesture/duration_100000] already exists.\n",
      "RESERVOIR_NET(\n",
      "  (reservoir): RESERVOIR(\n",
      "    (reservoir): Linear(in_features=32768, out_features=32768, bias=True)\n",
      "  )\n",
      "  (classifier): Linear(in_features=32768, out_features=10, bias=True)\n",
      ")\n",
      "Epoch 1\n",
      "Train Accuracy: 33.49%\n",
      "Test loss: 1.711, Val Accuracy: 46.59%\n",
      "Epoch 2\n",
      "Train Accuracy: 56.59%\n",
      "Test loss: 1.616, Val Accuracy: 55.68%\n",
      "Epoch 3\n",
      "Train Accuracy: 68.74%\n",
      "Test loss: 1.793, Val Accuracy: 51.89%\n",
      "Epoch 4\n",
      "Train Accuracy: 72.54%\n",
      "Test loss: 1.731, Val Accuracy: 56.44%\n",
      "Epoch 5\n",
      "Train Accuracy: 76.35%\n",
      "Test loss: 1.549, Val Accuracy: 64.02%\n",
      "Epoch 6\n",
      "Train Accuracy: 84.60%\n",
      "Test loss: 1.156, Val Accuracy: 64.02%\n",
      "Epoch 7\n",
      "Train Accuracy: 89.70%\n",
      "Test loss: 1.054, Val Accuracy: 64.39%\n",
      "Epoch 8\n",
      "Train Accuracy: 90.72%\n",
      "Test loss: 0.928, Val Accuracy: 64.39%\n",
      "Epoch 9\n",
      "Train Accuracy: 93.78%\n",
      "Test loss: 1.141, Val Accuracy: 69.70%\n",
      "Epoch 10\n",
      "Train Accuracy: 95.64%\n",
      "Test loss: 1.228, Val Accuracy: 64.02%\n",
      "Epoch 11\n",
      "Train Accuracy: 96.57%\n",
      "Test loss: 1.007, Val Accuracy: 66.67%\n",
      "Epoch 12\n",
      "Train Accuracy: 97.59%\n",
      "Test loss: 1.105, Val Accuracy: 69.70%\n",
      "Epoch 13\n",
      "Train Accuracy: 98.24%\n",
      "Test loss: 1.002, Val Accuracy: 70.45%\n",
      "Epoch 14\n",
      "Train Accuracy: 98.33%\n",
      "Test loss: 1.057, Val Accuracy: 72.35%\n",
      "Epoch 15\n",
      "Train Accuracy: 99.07%\n",
      "Test loss: 1.088, Val Accuracy: 70.08%\n",
      "Epoch 16\n",
      "Train Accuracy: 99.07%\n",
      "Test loss: 1.039, Val Accuracy: 70.83%\n",
      "Epoch 17\n",
      "Train Accuracy: 98.89%\n",
      "Test loss: 1.076, Val Accuracy: 71.59%\n",
      "Epoch 18\n",
      "Train Accuracy: 99.54%\n",
      "Test loss: 1.131, Val Accuracy: 71.97%\n",
      "Epoch 19\n",
      "Train Accuracy: 99.54%\n",
      "Test loss: 1.088, Val Accuracy: 70.45%\n",
      "Epoch 20\n",
      "Train Accuracy: 99.63%\n",
      "Test loss: 1.102, Val Accuracy: 70.08%\n"
     ]
    },
    {
     "data": {
      "application/vnd.jupyter.widget-view+json": {
       "model_id": "03ecdb71c88e4d3e80389762278ac981",
       "version_major": 2,
       "version_minor": 0
      },
      "text/plain": [
       "VBox(children=(Label(value='0.326 MB of 0.326 MB uploaded\\r'), FloatProgress(value=1.0, max=1.0)))"
      ]
     },
     "metadata": {},
     "output_type": "display_data"
    },
    {
     "data": {
      "text/html": [
       "<style>\n",
       "    table.wandb td:nth-child(1) { padding: 0 10px; text-align: left ; width: auto;} td:nth-child(2) {text-align: left ; width: 100%}\n",
       "    .wandb-row { display: flex; flex-direction: row; flex-wrap: wrap; justify-content: flex-start; width: 100% }\n",
       "    .wandb-col { display: flex; flex-direction: column; flex-basis: 100%; flex: 1; padding: 10px; }\n",
       "    </style>\n",
       "<div class=\"wandb-row\"><div class=\"wandb-col\"><h3>Run history:</h3><br/><table class=\"wandb\"><tr><td>epoch</td><td>▁▁▂▂▂▃▃▄▄▄▅▅▅▆▆▇▇▇██</td></tr><tr><td>iter_accuracy</td><td>▁▄▄▅▅▆▅▅▅▆▇▇▇▇▇█▇▇██████████████████████</td></tr><tr><td>tr_accuracy</td><td>▁▃▅▅▆▆▇▇▇███████████</td></tr><tr><td>val_accuracy</td><td>▁▃▂▄▆▆▆▆▇▆▆▇▇█▇███▇▇</td></tr></table><br/></div><div class=\"wandb-col\"><h3>Run summary:</h3><br/><table class=\"wandb\"><tr><td>epoch</td><td>19</td></tr><tr><td>iter_accuracy</td><td>100.0</td></tr><tr><td>tr_accuracy</td><td>99.62894</td></tr><tr><td>val_accuracy</td><td>70.07576</td></tr></table><br/></div></div>"
      ],
      "text/plain": [
       "<IPython.core.display.HTML object>"
      ]
     },
     "metadata": {},
     "output_type": "display_data"
    },
    {
     "data": {
      "text/html": [
       " View run <strong style=\"color:#cdcd00\">graceful-sweep-50</strong> at: <a href='https://wandb.ai/bhkim003-seoul-national-university/reservoir/runs/d6njpn8h' target=\"_blank\">https://wandb.ai/bhkim003-seoul-national-university/reservoir/runs/d6njpn8h</a><br/> View project at: <a href='https://wandb.ai/bhkim003-seoul-national-university/reservoir' target=\"_blank\">https://wandb.ai/bhkim003-seoul-national-university/reservoir</a><br/>Synced 7 W&B file(s), 0 media file(s), 0 artifact file(s) and 1 other file(s)"
      ],
      "text/plain": [
       "<IPython.core.display.HTML object>"
      ]
     },
     "metadata": {},
     "output_type": "display_data"
    },
    {
     "data": {
      "text/html": [
       "Find logs at: <code>./wandb/run-20240727_145506-d6njpn8h/logs</code>"
      ],
      "text/plain": [
       "<IPython.core.display.HTML object>"
      ]
     },
     "metadata": {},
     "output_type": "display_data"
    },
    {
     "data": {
      "text/html": [
       "The new W&B backend becomes opt-out in version 0.18.0; try it out with `wandb.require(\"core\")`! See https://wandb.me/wandb-core for more information."
      ],
      "text/plain": [
       "<IPython.core.display.HTML object>"
      ]
     },
     "metadata": {},
     "output_type": "display_data"
    },
    {
     "name": "stderr",
     "output_type": "stream",
     "text": [
      "\u001b[34m\u001b[1mwandb\u001b[0m: Agent Starting Run: 7krdbrd6 with config:\n",
      "\u001b[34m\u001b[1mwandb\u001b[0m: \tEPOCH: 20\n",
      "\u001b[34m\u001b[1mwandb\u001b[0m: \tFC_RESERVOIR: True\n",
      "\u001b[34m\u001b[1mwandb\u001b[0m: \tIMAGE_SIZE: 128\n",
      "\u001b[34m\u001b[1mwandb\u001b[0m: \tbatch_size: 32\n",
      "\u001b[34m\u001b[1mwandb\u001b[0m: \tdata_path: /data2\n",
      "\u001b[34m\u001b[1mwandb\u001b[0m: \tdecay: 0.774183249436485\n",
      "\u001b[34m\u001b[1mwandb\u001b[0m: \tdvs_clipping: True\n",
      "\u001b[34m\u001b[1mwandb\u001b[0m: \tdvs_duration: 100000\n",
      "\u001b[34m\u001b[1mwandb\u001b[0m: \tlearning_rate: 0.003267926589242994\n",
      "\u001b[34m\u001b[1mwandb\u001b[0m: \tno_reservoir: True\n",
      "\u001b[34m\u001b[1mwandb\u001b[0m: \tpre_spike_weight: 9.922566507552228\n",
      "\u001b[34m\u001b[1mwandb\u001b[0m: \trate_coding: False\n",
      "\u001b[34m\u001b[1mwandb\u001b[0m: \ttime_step: 8\n",
      "\u001b[34m\u001b[1mwandb\u001b[0m: \twhich_data: DVS_GESTURE\n",
      "Failed to detect the name of this notebook, you can set it manually with the WANDB_NOTEBOOK_NAME environment variable to enable code saving.\n"
     ]
    },
    {
     "data": {
      "text/html": [
       "Tracking run with wandb version 0.17.5"
      ],
      "text/plain": [
       "<IPython.core.display.HTML object>"
      ]
     },
     "metadata": {},
     "output_type": "display_data"
    },
    {
     "data": {
      "text/html": [
       "Run data is saved locally in <code>/nfs/home/bhkim003/github_folder/ByeonghyeonKim/my_snn/wandb/run-20240727_153754-7krdbrd6</code>"
      ],
      "text/plain": [
       "<IPython.core.display.HTML object>"
      ]
     },
     "metadata": {},
     "output_type": "display_data"
    },
    {
     "data": {
      "text/html": [
       "Syncing run <strong><a href='https://wandb.ai/bhkim003-seoul-national-university/reservoir/runs/7krdbrd6' target=\"_blank\">clean-sweep-51</a></strong> to <a href='https://wandb.ai/bhkim003-seoul-national-university/reservoir' target=\"_blank\">Weights & Biases</a> (<a href='https://wandb.me/run' target=\"_blank\">docs</a>)<br/>Sweep page: <a href='https://wandb.ai/bhkim003-seoul-national-university/reservoir/sweeps/sxt07a51' target=\"_blank\">https://wandb.ai/bhkim003-seoul-national-university/reservoir/sweeps/sxt07a51</a>"
      ],
      "text/plain": [
       "<IPython.core.display.HTML object>"
      ]
     },
     "metadata": {},
     "output_type": "display_data"
    },
    {
     "data": {
      "text/html": [
       " View project at <a href='https://wandb.ai/bhkim003-seoul-national-university/reservoir' target=\"_blank\">https://wandb.ai/bhkim003-seoul-national-university/reservoir</a>"
      ],
      "text/plain": [
       "<IPython.core.display.HTML object>"
      ]
     },
     "metadata": {},
     "output_type": "display_data"
    },
    {
     "data": {
      "text/html": [
       " View sweep at <a href='https://wandb.ai/bhkim003-seoul-national-university/reservoir/sweeps/sxt07a51' target=\"_blank\">https://wandb.ai/bhkim003-seoul-national-university/reservoir/sweeps/sxt07a51</a>"
      ],
      "text/plain": [
       "<IPython.core.display.HTML object>"
      ]
     },
     "metadata": {},
     "output_type": "display_data"
    },
    {
     "data": {
      "text/html": [
       " View run at <a href='https://wandb.ai/bhkim003-seoul-national-university/reservoir/runs/7krdbrd6' target=\"_blank\">https://wandb.ai/bhkim003-seoul-national-university/reservoir/runs/7krdbrd6</a>"
      ],
      "text/plain": [
       "<IPython.core.display.HTML object>"
      ]
     },
     "metadata": {},
     "output_type": "display_data"
    },
    {
     "name": "stderr",
     "output_type": "stream",
     "text": [
      "\u001b[34m\u001b[1mwandb\u001b[0m: \u001b[33mWARNING\u001b[0m Config item 'data_path' was locked by 'sweep' (ignored update).\n",
      "\u001b[34m\u001b[1mwandb\u001b[0m: \u001b[33mWARNING\u001b[0m Config item 'which_data' was locked by 'sweep' (ignored update).\n",
      "\u001b[34m\u001b[1mwandb\u001b[0m: \u001b[33mWARNING\u001b[0m Config item 'learning_rate' was locked by 'sweep' (ignored update).\n",
      "\u001b[34m\u001b[1mwandb\u001b[0m: \u001b[33mWARNING\u001b[0m Config item 'IMAGE_SIZE' was locked by 'sweep' (ignored update).\n",
      "\u001b[34m\u001b[1mwandb\u001b[0m: \u001b[33mWARNING\u001b[0m Config item 'EPOCH' was locked by 'sweep' (ignored update).\n",
      "\u001b[34m\u001b[1mwandb\u001b[0m: \u001b[33mWARNING\u001b[0m Config item 'rate_coding' was locked by 'sweep' (ignored update).\n",
      "\u001b[34m\u001b[1mwandb\u001b[0m: \u001b[33mWARNING\u001b[0m Config item 'pre_spike_weight' was locked by 'sweep' (ignored update).\n",
      "\u001b[34m\u001b[1mwandb\u001b[0m: \u001b[33mWARNING\u001b[0m Config item 'dvs_duration' was locked by 'sweep' (ignored update).\n",
      "\u001b[34m\u001b[1mwandb\u001b[0m: \u001b[33mWARNING\u001b[0m Config item 'dvs_clipping' was locked by 'sweep' (ignored update).\n",
      "\u001b[34m\u001b[1mwandb\u001b[0m: \u001b[33mWARNING\u001b[0m Config item 'no_reservoir' was locked by 'sweep' (ignored update).\n",
      "\u001b[34m\u001b[1mwandb\u001b[0m: \u001b[33mWARNING\u001b[0m Config item 'FC_RESERVOIR' was locked by 'sweep' (ignored update).\n"
     ]
    },
    {
     "name": "stdout",
     "output_type": "stream",
     "text": [
      "The directory [/data2/gesture/duration_100000] already exists.\n",
      "The directory [/data2/gesture/duration_100000] already exists.\n",
      "RESERVOIR_NET(\n",
      "  (classifier): Linear(in_features=32768, out_features=10, bias=True)\n",
      ")\n",
      "Epoch 1\n",
      "Train Accuracy: 48.33%\n",
      "Test loss: 1.135, Val Accuracy: 59.47%\n",
      "Epoch 2\n",
      "Train Accuracy: 70.50%\n",
      "Test loss: 1.019, Val Accuracy: 68.18%\n",
      "Epoch 3\n",
      "Train Accuracy: 78.39%\n",
      "Test loss: 0.949, Val Accuracy: 66.67%\n",
      "Epoch 4\n",
      "Train Accuracy: 85.34%\n",
      "Test loss: 0.944, Val Accuracy: 63.64%\n",
      "Epoch 5\n",
      "Train Accuracy: 90.35%\n",
      "Test loss: 0.925, Val Accuracy: 65.15%\n",
      "Epoch 6\n",
      "Train Accuracy: 93.32%\n",
      "Test loss: 0.990, Val Accuracy: 63.26%\n",
      "Epoch 7\n",
      "Train Accuracy: 93.97%\n",
      "Test loss: 0.994, Val Accuracy: 65.91%\n",
      "Epoch 8\n",
      "Train Accuracy: 96.47%\n",
      "Test loss: 0.924, Val Accuracy: 71.59%\n",
      "Epoch 9\n",
      "Train Accuracy: 97.22%\n",
      "Test loss: 0.900, Val Accuracy: 68.56%\n",
      "Epoch 10\n",
      "Train Accuracy: 98.14%\n",
      "Test loss: 0.921, Val Accuracy: 71.97%\n",
      "Epoch 11\n",
      "Train Accuracy: 98.52%\n",
      "Test loss: 0.947, Val Accuracy: 70.08%\n",
      "Epoch 12\n",
      "Train Accuracy: 98.70%\n",
      "Test loss: 0.956, Val Accuracy: 70.45%\n",
      "Epoch 13\n",
      "Train Accuracy: 99.07%\n",
      "Test loss: 0.919, Val Accuracy: 70.45%\n",
      "Epoch 14\n",
      "Train Accuracy: 99.17%\n",
      "Test loss: 0.912, Val Accuracy: 70.08%\n",
      "Epoch 15\n",
      "Train Accuracy: 99.44%\n",
      "Test loss: 0.986, Val Accuracy: 71.97%\n",
      "Epoch 16\n",
      "Train Accuracy: 99.72%\n",
      "Test loss: 0.969, Val Accuracy: 70.08%\n",
      "Epoch 17\n",
      "Train Accuracy: 99.72%\n",
      "Test loss: 0.904, Val Accuracy: 70.45%\n",
      "Epoch 18\n",
      "Train Accuracy: 99.91%\n",
      "Test loss: 0.945, Val Accuracy: 71.59%\n",
      "Epoch 19\n",
      "Train Accuracy: 99.91%\n",
      "Test loss: 0.942, Val Accuracy: 72.35%\n",
      "Epoch 20\n",
      "Train Accuracy: 99.91%\n",
      "Test loss: 0.941, Val Accuracy: 71.97%\n"
     ]
    },
    {
     "data": {
      "application/vnd.jupyter.widget-view+json": {
       "model_id": "9ac0932ab582492dbafc34476757a83d",
       "version_major": 2,
       "version_minor": 0
      },
      "text/plain": [
       "VBox(children=(Label(value='0.326 MB of 0.326 MB uploaded\\r'), FloatProgress(value=1.0, max=1.0)))"
      ]
     },
     "metadata": {},
     "output_type": "display_data"
    },
    {
     "data": {
      "text/html": [
       "<style>\n",
       "    table.wandb td:nth-child(1) { padding: 0 10px; text-align: left ; width: auto;} td:nth-child(2) {text-align: left ; width: 100%}\n",
       "    .wandb-row { display: flex; flex-direction: row; flex-wrap: wrap; justify-content: flex-start; width: 100% }\n",
       "    .wandb-col { display: flex; flex-direction: column; flex-basis: 100%; flex: 1; padding: 10px; }\n",
       "    </style>\n",
       "<div class=\"wandb-row\"><div class=\"wandb-col\"><h3>Run history:</h3><br/><table class=\"wandb\"><tr><td>epoch</td><td>▁▁▂▂▂▃▃▄▄▄▅▅▅▆▆▇▇▇██</td></tr><tr><td>iter_accuracy</td><td>▁▃▅▄▆▆▇▆▇▆▆█▇████████▇██████████████████</td></tr><tr><td>tr_accuracy</td><td>▁▄▅▆▇▇▇█████████████</td></tr><tr><td>val_accuracy</td><td>▁▆▅▃▄▃▄█▆█▇▇▇▇█▇▇███</td></tr></table><br/></div><div class=\"wandb-col\"><h3>Run summary:</h3><br/><table class=\"wandb\"><tr><td>epoch</td><td>19</td></tr><tr><td>iter_accuracy</td><td>100.0</td></tr><tr><td>tr_accuracy</td><td>99.90724</td></tr><tr><td>val_accuracy</td><td>71.9697</td></tr></table><br/></div></div>"
      ],
      "text/plain": [
       "<IPython.core.display.HTML object>"
      ]
     },
     "metadata": {},
     "output_type": "display_data"
    },
    {
     "data": {
      "text/html": [
       " View run <strong style=\"color:#cdcd00\">clean-sweep-51</strong> at: <a href='https://wandb.ai/bhkim003-seoul-national-university/reservoir/runs/7krdbrd6' target=\"_blank\">https://wandb.ai/bhkim003-seoul-national-university/reservoir/runs/7krdbrd6</a><br/> View project at: <a href='https://wandb.ai/bhkim003-seoul-national-university/reservoir' target=\"_blank\">https://wandb.ai/bhkim003-seoul-national-university/reservoir</a><br/>Synced 7 W&B file(s), 0 media file(s), 0 artifact file(s) and 1 other file(s)"
      ],
      "text/plain": [
       "<IPython.core.display.HTML object>"
      ]
     },
     "metadata": {},
     "output_type": "display_data"
    },
    {
     "data": {
      "text/html": [
       "Find logs at: <code>./wandb/run-20240727_153754-7krdbrd6/logs</code>"
      ],
      "text/plain": [
       "<IPython.core.display.HTML object>"
      ]
     },
     "metadata": {},
     "output_type": "display_data"
    },
    {
     "data": {
      "text/html": [
       "The new W&B backend becomes opt-out in version 0.18.0; try it out with `wandb.require(\"core\")`! See https://wandb.me/wandb-core for more information."
      ],
      "text/plain": [
       "<IPython.core.display.HTML object>"
      ]
     },
     "metadata": {},
     "output_type": "display_data"
    },
    {
     "name": "stderr",
     "output_type": "stream",
     "text": [
      "\u001b[34m\u001b[1mwandb\u001b[0m: Agent Starting Run: 07jemade with config:\n",
      "\u001b[34m\u001b[1mwandb\u001b[0m: \tEPOCH: 20\n",
      "\u001b[34m\u001b[1mwandb\u001b[0m: \tFC_RESERVOIR: True\n",
      "\u001b[34m\u001b[1mwandb\u001b[0m: \tIMAGE_SIZE: 128\n",
      "\u001b[34m\u001b[1mwandb\u001b[0m: \tbatch_size: 32\n",
      "\u001b[34m\u001b[1mwandb\u001b[0m: \tdata_path: /data2\n",
      "\u001b[34m\u001b[1mwandb\u001b[0m: \tdecay: 0.959530628441344\n",
      "\u001b[34m\u001b[1mwandb\u001b[0m: \tdvs_clipping: True\n",
      "\u001b[34m\u001b[1mwandb\u001b[0m: \tdvs_duration: 100000\n",
      "\u001b[34m\u001b[1mwandb\u001b[0m: \tlearning_rate: 0.008114995837975139\n",
      "\u001b[34m\u001b[1mwandb\u001b[0m: \tno_reservoir: False\n",
      "\u001b[34m\u001b[1mwandb\u001b[0m: \tpre_spike_weight: 7.359368557913435\n",
      "\u001b[34m\u001b[1mwandb\u001b[0m: \trate_coding: True\n",
      "\u001b[34m\u001b[1mwandb\u001b[0m: \ttime_step: 8\n",
      "\u001b[34m\u001b[1mwandb\u001b[0m: \twhich_data: DVS_GESTURE\n",
      "Failed to detect the name of this notebook, you can set it manually with the WANDB_NOTEBOOK_NAME environment variable to enable code saving.\n"
     ]
    },
    {
     "data": {
      "text/html": [
       "Tracking run with wandb version 0.17.5"
      ],
      "text/plain": [
       "<IPython.core.display.HTML object>"
      ]
     },
     "metadata": {},
     "output_type": "display_data"
    },
    {
     "data": {
      "text/html": [
       "Run data is saved locally in <code>/nfs/home/bhkim003/github_folder/ByeonghyeonKim/my_snn/wandb/run-20240727_155701-07jemade</code>"
      ],
      "text/plain": [
       "<IPython.core.display.HTML object>"
      ]
     },
     "metadata": {},
     "output_type": "display_data"
    },
    {
     "data": {
      "text/html": [
       "Syncing run <strong><a href='https://wandb.ai/bhkim003-seoul-national-university/reservoir/runs/07jemade' target=\"_blank\">swept-sweep-52</a></strong> to <a href='https://wandb.ai/bhkim003-seoul-national-university/reservoir' target=\"_blank\">Weights & Biases</a> (<a href='https://wandb.me/run' target=\"_blank\">docs</a>)<br/>Sweep page: <a href='https://wandb.ai/bhkim003-seoul-national-university/reservoir/sweeps/sxt07a51' target=\"_blank\">https://wandb.ai/bhkim003-seoul-national-university/reservoir/sweeps/sxt07a51</a>"
      ],
      "text/plain": [
       "<IPython.core.display.HTML object>"
      ]
     },
     "metadata": {},
     "output_type": "display_data"
    },
    {
     "data": {
      "text/html": [
       " View project at <a href='https://wandb.ai/bhkim003-seoul-national-university/reservoir' target=\"_blank\">https://wandb.ai/bhkim003-seoul-national-university/reservoir</a>"
      ],
      "text/plain": [
       "<IPython.core.display.HTML object>"
      ]
     },
     "metadata": {},
     "output_type": "display_data"
    },
    {
     "data": {
      "text/html": [
       " View sweep at <a href='https://wandb.ai/bhkim003-seoul-national-university/reservoir/sweeps/sxt07a51' target=\"_blank\">https://wandb.ai/bhkim003-seoul-national-university/reservoir/sweeps/sxt07a51</a>"
      ],
      "text/plain": [
       "<IPython.core.display.HTML object>"
      ]
     },
     "metadata": {},
     "output_type": "display_data"
    },
    {
     "data": {
      "text/html": [
       " View run at <a href='https://wandb.ai/bhkim003-seoul-national-university/reservoir/runs/07jemade' target=\"_blank\">https://wandb.ai/bhkim003-seoul-national-university/reservoir/runs/07jemade</a>"
      ],
      "text/plain": [
       "<IPython.core.display.HTML object>"
      ]
     },
     "metadata": {},
     "output_type": "display_data"
    },
    {
     "name": "stderr",
     "output_type": "stream",
     "text": [
      "\u001b[34m\u001b[1mwandb\u001b[0m: \u001b[33mWARNING\u001b[0m Config item 'data_path' was locked by 'sweep' (ignored update).\n",
      "\u001b[34m\u001b[1mwandb\u001b[0m: \u001b[33mWARNING\u001b[0m Config item 'which_data' was locked by 'sweep' (ignored update).\n",
      "\u001b[34m\u001b[1mwandb\u001b[0m: \u001b[33mWARNING\u001b[0m Config item 'learning_rate' was locked by 'sweep' (ignored update).\n",
      "\u001b[34m\u001b[1mwandb\u001b[0m: \u001b[33mWARNING\u001b[0m Config item 'IMAGE_SIZE' was locked by 'sweep' (ignored update).\n",
      "\u001b[34m\u001b[1mwandb\u001b[0m: \u001b[33mWARNING\u001b[0m Config item 'EPOCH' was locked by 'sweep' (ignored update).\n",
      "\u001b[34m\u001b[1mwandb\u001b[0m: \u001b[33mWARNING\u001b[0m Config item 'rate_coding' was locked by 'sweep' (ignored update).\n",
      "\u001b[34m\u001b[1mwandb\u001b[0m: \u001b[33mWARNING\u001b[0m Config item 'pre_spike_weight' was locked by 'sweep' (ignored update).\n",
      "\u001b[34m\u001b[1mwandb\u001b[0m: \u001b[33mWARNING\u001b[0m Config item 'dvs_duration' was locked by 'sweep' (ignored update).\n",
      "\u001b[34m\u001b[1mwandb\u001b[0m: \u001b[33mWARNING\u001b[0m Config item 'dvs_clipping' was locked by 'sweep' (ignored update).\n",
      "\u001b[34m\u001b[1mwandb\u001b[0m: \u001b[33mWARNING\u001b[0m Config item 'no_reservoir' was locked by 'sweep' (ignored update).\n",
      "\u001b[34m\u001b[1mwandb\u001b[0m: \u001b[33mWARNING\u001b[0m Config item 'FC_RESERVOIR' was locked by 'sweep' (ignored update).\n"
     ]
    },
    {
     "name": "stdout",
     "output_type": "stream",
     "text": [
      "The directory [/data2/gesture/duration_100000] already exists.\n",
      "The directory [/data2/gesture/duration_100000] already exists.\n",
      "RESERVOIR_NET(\n",
      "  (reservoir): RESERVOIR(\n",
      "    (reservoir): Linear(in_features=32768, out_features=32768, bias=True)\n",
      "  )\n",
      "  (classifier): Linear(in_features=32768, out_features=10, bias=True)\n",
      ")\n",
      "Epoch 1\n",
      "Train Accuracy: 47.59%\n",
      "Test loss: 1.711, Val Accuracy: 56.44%\n",
      "Epoch 2\n",
      "Train Accuracy: 70.87%\n",
      "Test loss: 2.391, Val Accuracy: 42.80%\n",
      "Epoch 3\n",
      "Train Accuracy: 76.07%\n",
      "Test loss: 1.079, Val Accuracy: 68.94%\n",
      "Epoch 4\n",
      "Train Accuracy: 90.26%\n",
      "Test loss: 1.311, Val Accuracy: 63.26%\n",
      "Epoch 5\n",
      "Train Accuracy: 96.66%\n",
      "Test loss: 0.936, Val Accuracy: 71.21%\n",
      "Epoch 6\n",
      "Train Accuracy: 99.81%\n",
      "Test loss: 0.864, Val Accuracy: 73.11%\n",
      "Epoch 7\n",
      "Train Accuracy: 100.00%\n",
      "Test loss: 0.966, Val Accuracy: 70.83%\n",
      "Epoch 8\n",
      "Train Accuracy: 100.00%\n",
      "Test loss: 0.833, Val Accuracy: 72.73%\n",
      "Epoch 9\n",
      "Train Accuracy: 100.00%\n",
      "Test loss: 0.926, Val Accuracy: 71.97%\n",
      "Epoch 10\n",
      "Train Accuracy: 100.00%\n",
      "Test loss: 0.882, Val Accuracy: 72.73%\n",
      "Epoch 11\n",
      "Train Accuracy: 100.00%\n",
      "Test loss: 0.960, Val Accuracy: 74.24%\n",
      "Epoch 12\n",
      "Train Accuracy: 100.00%\n",
      "Test loss: 0.893, Val Accuracy: 72.73%\n",
      "Epoch 13\n",
      "Train Accuracy: 100.00%\n",
      "Test loss: 0.915, Val Accuracy: 71.21%\n",
      "Epoch 14\n",
      "Train Accuracy: 100.00%\n",
      "Test loss: 1.015, Val Accuracy: 70.08%\n",
      "Epoch 15\n",
      "Train Accuracy: 100.00%\n",
      "Test loss: 0.968, Val Accuracy: 71.97%\n",
      "Epoch 16\n",
      "Train Accuracy: 100.00%\n",
      "Test loss: 0.918, Val Accuracy: 71.59%\n",
      "Epoch 17\n",
      "Train Accuracy: 100.00%\n",
      "Test loss: 0.922, Val Accuracy: 72.73%\n",
      "Epoch 18\n",
      "Train Accuracy: 100.00%\n",
      "Test loss: 0.969, Val Accuracy: 71.97%\n",
      "Epoch 19\n",
      "Train Accuracy: 100.00%\n",
      "Test loss: 0.923, Val Accuracy: 72.35%\n",
      "Epoch 20\n",
      "Train Accuracy: 100.00%\n",
      "Test loss: 0.948, Val Accuracy: 71.21%\n"
     ]
    },
    {
     "data": {
      "application/vnd.jupyter.widget-view+json": {
       "model_id": "1c72bb70ac55426189cfdece3af6aa6e",
       "version_major": 2,
       "version_minor": 0
      },
      "text/plain": [
       "VBox(children=(Label(value='0.326 MB of 0.326 MB uploaded\\r'), FloatProgress(value=1.0, max=1.0)))"
      ]
     },
     "metadata": {},
     "output_type": "display_data"
    },
    {
     "data": {
      "text/html": [
       "<style>\n",
       "    table.wandb td:nth-child(1) { padding: 0 10px; text-align: left ; width: auto;} td:nth-child(2) {text-align: left ; width: 100%}\n",
       "    .wandb-row { display: flex; flex-direction: row; flex-wrap: wrap; justify-content: flex-start; width: 100% }\n",
       "    .wandb-col { display: flex; flex-direction: column; flex-basis: 100%; flex: 1; padding: 10px; }\n",
       "    </style>\n",
       "<div class=\"wandb-row\"><div class=\"wandb-col\"><h3>Run history:</h3><br/><table class=\"wandb\"><tr><td>epoch</td><td>▁▁▂▂▂▃▃▄▄▄▅▅▅▆▆▇▇▇██</td></tr><tr><td>iter_accuracy</td><td>▁▃▄▃▄▄█▆▇▇██████████████████████████████</td></tr><tr><td>tr_accuracy</td><td>▁▄▅▇████████████████</td></tr><tr><td>val_accuracy</td><td>▄▁▇▆▇█▇█▇███▇▇▇▇█▇█▇</td></tr></table><br/></div><div class=\"wandb-col\"><h3>Run summary:</h3><br/><table class=\"wandb\"><tr><td>epoch</td><td>19</td></tr><tr><td>iter_accuracy</td><td>100.0</td></tr><tr><td>tr_accuracy</td><td>100.0</td></tr><tr><td>val_accuracy</td><td>71.21212</td></tr></table><br/></div></div>"
      ],
      "text/plain": [
       "<IPython.core.display.HTML object>"
      ]
     },
     "metadata": {},
     "output_type": "display_data"
    },
    {
     "data": {
      "text/html": [
       " View run <strong style=\"color:#cdcd00\">swept-sweep-52</strong> at: <a href='https://wandb.ai/bhkim003-seoul-national-university/reservoir/runs/07jemade' target=\"_blank\">https://wandb.ai/bhkim003-seoul-national-university/reservoir/runs/07jemade</a><br/> View project at: <a href='https://wandb.ai/bhkim003-seoul-national-university/reservoir' target=\"_blank\">https://wandb.ai/bhkim003-seoul-national-university/reservoir</a><br/>Synced 7 W&B file(s), 0 media file(s), 0 artifact file(s) and 1 other file(s)"
      ],
      "text/plain": [
       "<IPython.core.display.HTML object>"
      ]
     },
     "metadata": {},
     "output_type": "display_data"
    },
    {
     "data": {
      "text/html": [
       "Find logs at: <code>./wandb/run-20240727_155701-07jemade/logs</code>"
      ],
      "text/plain": [
       "<IPython.core.display.HTML object>"
      ]
     },
     "metadata": {},
     "output_type": "display_data"
    },
    {
     "data": {
      "text/html": [
       "The new W&B backend becomes opt-out in version 0.18.0; try it out with `wandb.require(\"core\")`! See https://wandb.me/wandb-core for more information."
      ],
      "text/plain": [
       "<IPython.core.display.HTML object>"
      ]
     },
     "metadata": {},
     "output_type": "display_data"
    },
    {
     "name": "stderr",
     "output_type": "stream",
     "text": [
      "\u001b[34m\u001b[1mwandb\u001b[0m: Agent Starting Run: 34q28wfe with config:\n",
      "\u001b[34m\u001b[1mwandb\u001b[0m: \tEPOCH: 20\n",
      "\u001b[34m\u001b[1mwandb\u001b[0m: \tFC_RESERVOIR: True\n",
      "\u001b[34m\u001b[1mwandb\u001b[0m: \tIMAGE_SIZE: 48\n",
      "\u001b[34m\u001b[1mwandb\u001b[0m: \tbatch_size: 16\n",
      "\u001b[34m\u001b[1mwandb\u001b[0m: \tdata_path: /data2\n",
      "\u001b[34m\u001b[1mwandb\u001b[0m: \tdecay: 0.5702948889130401\n",
      "\u001b[34m\u001b[1mwandb\u001b[0m: \tdvs_clipping: True\n",
      "\u001b[34m\u001b[1mwandb\u001b[0m: \tdvs_duration: 100000\n",
      "\u001b[34m\u001b[1mwandb\u001b[0m: \tlearning_rate: 0.005563451528511571\n",
      "\u001b[34m\u001b[1mwandb\u001b[0m: \tno_reservoir: False\n",
      "\u001b[34m\u001b[1mwandb\u001b[0m: \tpre_spike_weight: 7.498849293215195\n",
      "\u001b[34m\u001b[1mwandb\u001b[0m: \trate_coding: False\n",
      "\u001b[34m\u001b[1mwandb\u001b[0m: \ttime_step: 8\n",
      "\u001b[34m\u001b[1mwandb\u001b[0m: \twhich_data: DVS_GESTURE\n",
      "Failed to detect the name of this notebook, you can set it manually with the WANDB_NOTEBOOK_NAME environment variable to enable code saving.\n"
     ]
    },
    {
     "data": {
      "text/html": [
       "Tracking run with wandb version 0.17.5"
      ],
      "text/plain": [
       "<IPython.core.display.HTML object>"
      ]
     },
     "metadata": {},
     "output_type": "display_data"
    },
    {
     "data": {
      "text/html": [
       "Run data is saved locally in <code>/nfs/home/bhkim003/github_folder/ByeonghyeonKim/my_snn/wandb/run-20240727_175832-34q28wfe</code>"
      ],
      "text/plain": [
       "<IPython.core.display.HTML object>"
      ]
     },
     "metadata": {},
     "output_type": "display_data"
    },
    {
     "data": {
      "text/html": [
       "Syncing run <strong><a href='https://wandb.ai/bhkim003-seoul-national-university/reservoir/runs/34q28wfe' target=\"_blank\">distinctive-sweep-53</a></strong> to <a href='https://wandb.ai/bhkim003-seoul-national-university/reservoir' target=\"_blank\">Weights & Biases</a> (<a href='https://wandb.me/run' target=\"_blank\">docs</a>)<br/>Sweep page: <a href='https://wandb.ai/bhkim003-seoul-national-university/reservoir/sweeps/sxt07a51' target=\"_blank\">https://wandb.ai/bhkim003-seoul-national-university/reservoir/sweeps/sxt07a51</a>"
      ],
      "text/plain": [
       "<IPython.core.display.HTML object>"
      ]
     },
     "metadata": {},
     "output_type": "display_data"
    },
    {
     "data": {
      "text/html": [
       " View project at <a href='https://wandb.ai/bhkim003-seoul-national-university/reservoir' target=\"_blank\">https://wandb.ai/bhkim003-seoul-national-university/reservoir</a>"
      ],
      "text/plain": [
       "<IPython.core.display.HTML object>"
      ]
     },
     "metadata": {},
     "output_type": "display_data"
    },
    {
     "data": {
      "text/html": [
       " View sweep at <a href='https://wandb.ai/bhkim003-seoul-national-university/reservoir/sweeps/sxt07a51' target=\"_blank\">https://wandb.ai/bhkim003-seoul-national-university/reservoir/sweeps/sxt07a51</a>"
      ],
      "text/plain": [
       "<IPython.core.display.HTML object>"
      ]
     },
     "metadata": {},
     "output_type": "display_data"
    },
    {
     "data": {
      "text/html": [
       " View run at <a href='https://wandb.ai/bhkim003-seoul-national-university/reservoir/runs/34q28wfe' target=\"_blank\">https://wandb.ai/bhkim003-seoul-national-university/reservoir/runs/34q28wfe</a>"
      ],
      "text/plain": [
       "<IPython.core.display.HTML object>"
      ]
     },
     "metadata": {},
     "output_type": "display_data"
    },
    {
     "name": "stderr",
     "output_type": "stream",
     "text": [
      "\u001b[34m\u001b[1mwandb\u001b[0m: \u001b[33mWARNING\u001b[0m Config item 'data_path' was locked by 'sweep' (ignored update).\n",
      "\u001b[34m\u001b[1mwandb\u001b[0m: \u001b[33mWARNING\u001b[0m Config item 'which_data' was locked by 'sweep' (ignored update).\n",
      "\u001b[34m\u001b[1mwandb\u001b[0m: \u001b[33mWARNING\u001b[0m Config item 'learning_rate' was locked by 'sweep' (ignored update).\n",
      "\u001b[34m\u001b[1mwandb\u001b[0m: \u001b[33mWARNING\u001b[0m Config item 'IMAGE_SIZE' was locked by 'sweep' (ignored update).\n",
      "\u001b[34m\u001b[1mwandb\u001b[0m: \u001b[33mWARNING\u001b[0m Config item 'EPOCH' was locked by 'sweep' (ignored update).\n",
      "\u001b[34m\u001b[1mwandb\u001b[0m: \u001b[33mWARNING\u001b[0m Config item 'rate_coding' was locked by 'sweep' (ignored update).\n",
      "\u001b[34m\u001b[1mwandb\u001b[0m: \u001b[33mWARNING\u001b[0m Config item 'pre_spike_weight' was locked by 'sweep' (ignored update).\n",
      "\u001b[34m\u001b[1mwandb\u001b[0m: \u001b[33mWARNING\u001b[0m Config item 'dvs_duration' was locked by 'sweep' (ignored update).\n",
      "\u001b[34m\u001b[1mwandb\u001b[0m: \u001b[33mWARNING\u001b[0m Config item 'dvs_clipping' was locked by 'sweep' (ignored update).\n",
      "\u001b[34m\u001b[1mwandb\u001b[0m: \u001b[33mWARNING\u001b[0m Config item 'no_reservoir' was locked by 'sweep' (ignored update).\n",
      "\u001b[34m\u001b[1mwandb\u001b[0m: \u001b[33mWARNING\u001b[0m Config item 'FC_RESERVOIR' was locked by 'sweep' (ignored update).\n"
     ]
    },
    {
     "name": "stdout",
     "output_type": "stream",
     "text": [
      "The directory [/data2/gesture/duration_100000] already exists.\n",
      "The directory [/data2/gesture/duration_100000] already exists.\n",
      "RESERVOIR_NET(\n",
      "  (reservoir): RESERVOIR(\n",
      "    (reservoir): Linear(in_features=4608, out_features=4608, bias=True)\n",
      "  )\n",
      "  (classifier): Linear(in_features=4608, out_features=10, bias=True)\n",
      ")\n",
      "Epoch 1\n",
      "Train Accuracy: 43.14%\n",
      "Test loss: 1.477, Val Accuracy: 53.79%\n",
      "Epoch 2\n",
      "Train Accuracy: 66.60%\n",
      "Test loss: 1.120, Val Accuracy: 60.23%\n",
      "Epoch 3\n",
      "Train Accuracy: 76.16%\n",
      "Test loss: 1.078, Val Accuracy: 59.09%\n",
      "Epoch 4\n",
      "Train Accuracy: 83.86%\n",
      "Test loss: 1.100, Val Accuracy: 60.98%\n",
      "Epoch 5\n",
      "Train Accuracy: 86.18%\n",
      "Test loss: 1.036, Val Accuracy: 60.23%\n",
      "Epoch 6\n",
      "Train Accuracy: 92.49%\n",
      "Test loss: 0.983, Val Accuracy: 68.94%\n",
      "Epoch 7\n",
      "Train Accuracy: 95.36%\n",
      "Test loss: 0.924, Val Accuracy: 65.53%\n",
      "Epoch 8\n",
      "Train Accuracy: 96.10%\n",
      "Test loss: 0.896, Val Accuracy: 68.18%\n",
      "Epoch 9\n",
      "Train Accuracy: 97.68%\n",
      "Test loss: 0.877, Val Accuracy: 69.32%\n",
      "Epoch 10\n",
      "Train Accuracy: 98.14%\n",
      "Test loss: 0.905, Val Accuracy: 67.80%\n",
      "Epoch 11\n",
      "Train Accuracy: 99.54%\n",
      "Test loss: 0.872, Val Accuracy: 69.70%\n",
      "Epoch 12\n",
      "Train Accuracy: 99.54%\n",
      "Test loss: 0.971, Val Accuracy: 69.70%\n",
      "Epoch 13\n",
      "Train Accuracy: 99.63%\n",
      "Test loss: 0.872, Val Accuracy: 69.32%\n",
      "Epoch 14\n",
      "Train Accuracy: 99.63%\n",
      "Test loss: 0.892, Val Accuracy: 68.56%\n",
      "Epoch 15\n",
      "Train Accuracy: 100.00%\n",
      "Test loss: 0.851, Val Accuracy: 69.32%\n",
      "Epoch 16\n",
      "Train Accuracy: 99.91%\n",
      "Test loss: 0.843, Val Accuracy: 71.59%\n",
      "Epoch 17\n",
      "Train Accuracy: 99.91%\n",
      "Test loss: 0.879, Val Accuracy: 70.83%\n",
      "Epoch 18\n",
      "Train Accuracy: 100.00%\n",
      "Test loss: 0.867, Val Accuracy: 70.08%\n",
      "Epoch 19\n",
      "Train Accuracy: 100.00%\n",
      "Test loss: 0.862, Val Accuracy: 71.59%\n",
      "Epoch 20\n",
      "Train Accuracy: 100.00%\n",
      "Test loss: 0.874, Val Accuracy: 71.21%\n"
     ]
    },
    {
     "data": {
      "application/vnd.jupyter.widget-view+json": {
       "model_id": "3c75d11b384a4e79a2a4778cfe4af3ad",
       "version_major": 2,
       "version_minor": 0
      },
      "text/plain": [
       "VBox(children=(Label(value='0.326 MB of 0.326 MB uploaded\\r'), FloatProgress(value=1.0, max=1.0)))"
      ]
     },
     "metadata": {},
     "output_type": "display_data"
    },
    {
     "data": {
      "text/html": [
       "<style>\n",
       "    table.wandb td:nth-child(1) { padding: 0 10px; text-align: left ; width: auto;} td:nth-child(2) {text-align: left ; width: 100%}\n",
       "    .wandb-row { display: flex; flex-direction: row; flex-wrap: wrap; justify-content: flex-start; width: 100% }\n",
       "    .wandb-col { display: flex; flex-direction: column; flex-basis: 100%; flex: 1; padding: 10px; }\n",
       "    </style>\n",
       "<div class=\"wandb-row\"><div class=\"wandb-col\"><h3>Run history:</h3><br/><table class=\"wandb\"><tr><td>epoch</td><td>▁▁▂▂▂▃▃▄▄▄▅▅▅▆▆▇▇▇██</td></tr><tr><td>iter_accuracy</td><td>▁▂▅▆▆▄▅▆▇▆▆██▇█▇████▇███████████████████</td></tr><tr><td>tr_accuracy</td><td>▁▄▅▆▆▇▇█████████████</td></tr><tr><td>val_accuracy</td><td>▁▄▃▄▄▇▆▇▇▇▇▇▇▇▇██▇██</td></tr></table><br/></div><div class=\"wandb-col\"><h3>Run summary:</h3><br/><table class=\"wandb\"><tr><td>epoch</td><td>19</td></tr><tr><td>iter_accuracy</td><td>100.0</td></tr><tr><td>tr_accuracy</td><td>100.0</td></tr><tr><td>val_accuracy</td><td>71.21212</td></tr></table><br/></div></div>"
      ],
      "text/plain": [
       "<IPython.core.display.HTML object>"
      ]
     },
     "metadata": {},
     "output_type": "display_data"
    },
    {
     "data": {
      "text/html": [
       " View run <strong style=\"color:#cdcd00\">distinctive-sweep-53</strong> at: <a href='https://wandb.ai/bhkim003-seoul-national-university/reservoir/runs/34q28wfe' target=\"_blank\">https://wandb.ai/bhkim003-seoul-national-university/reservoir/runs/34q28wfe</a><br/> View project at: <a href='https://wandb.ai/bhkim003-seoul-national-university/reservoir' target=\"_blank\">https://wandb.ai/bhkim003-seoul-national-university/reservoir</a><br/>Synced 7 W&B file(s), 0 media file(s), 0 artifact file(s) and 1 other file(s)"
      ],
      "text/plain": [
       "<IPython.core.display.HTML object>"
      ]
     },
     "metadata": {},
     "output_type": "display_data"
    },
    {
     "data": {
      "text/html": [
       "Find logs at: <code>./wandb/run-20240727_175832-34q28wfe/logs</code>"
      ],
      "text/plain": [
       "<IPython.core.display.HTML object>"
      ]
     },
     "metadata": {},
     "output_type": "display_data"
    },
    {
     "data": {
      "text/html": [
       "The new W&B backend becomes opt-out in version 0.18.0; try it out with `wandb.require(\"core\")`! See https://wandb.me/wandb-core for more information."
      ],
      "text/plain": [
       "<IPython.core.display.HTML object>"
      ]
     },
     "metadata": {},
     "output_type": "display_data"
    },
    {
     "name": "stderr",
     "output_type": "stream",
     "text": [
      "\u001b[34m\u001b[1mwandb\u001b[0m: Agent Starting Run: lqxkhf7y with config:\n",
      "\u001b[34m\u001b[1mwandb\u001b[0m: \tEPOCH: 20\n",
      "\u001b[34m\u001b[1mwandb\u001b[0m: \tFC_RESERVOIR: True\n",
      "\u001b[34m\u001b[1mwandb\u001b[0m: \tIMAGE_SIZE: 128\n",
      "\u001b[34m\u001b[1mwandb\u001b[0m: \tbatch_size: 16\n",
      "\u001b[34m\u001b[1mwandb\u001b[0m: \tdata_path: /data2\n",
      "\u001b[34m\u001b[1mwandb\u001b[0m: \tdecay: 0.6616691752823021\n",
      "\u001b[34m\u001b[1mwandb\u001b[0m: \tdvs_clipping: True\n",
      "\u001b[34m\u001b[1mwandb\u001b[0m: \tdvs_duration: 100000\n",
      "\u001b[34m\u001b[1mwandb\u001b[0m: \tlearning_rate: 0.014717084454543705\n",
      "\u001b[34m\u001b[1mwandb\u001b[0m: \tno_reservoir: False\n",
      "\u001b[34m\u001b[1mwandb\u001b[0m: \tpre_spike_weight: 6.649606932759275\n",
      "\u001b[34m\u001b[1mwandb\u001b[0m: \trate_coding: False\n",
      "\u001b[34m\u001b[1mwandb\u001b[0m: \ttime_step: 8\n",
      "\u001b[34m\u001b[1mwandb\u001b[0m: \twhich_data: DVS_GESTURE\n",
      "Failed to detect the name of this notebook, you can set it manually with the WANDB_NOTEBOOK_NAME environment variable to enable code saving.\n"
     ]
    },
    {
     "data": {
      "text/html": [
       "Tracking run with wandb version 0.17.5"
      ],
      "text/plain": [
       "<IPython.core.display.HTML object>"
      ]
     },
     "metadata": {},
     "output_type": "display_data"
    },
    {
     "data": {
      "text/html": [
       "Run data is saved locally in <code>/nfs/home/bhkim003/github_folder/ByeonghyeonKim/my_snn/wandb/run-20240727_181303-lqxkhf7y</code>"
      ],
      "text/plain": [
       "<IPython.core.display.HTML object>"
      ]
     },
     "metadata": {},
     "output_type": "display_data"
    },
    {
     "data": {
      "text/html": [
       "Syncing run <strong><a href='https://wandb.ai/bhkim003-seoul-national-university/reservoir/runs/lqxkhf7y' target=\"_blank\">colorful-sweep-54</a></strong> to <a href='https://wandb.ai/bhkim003-seoul-national-university/reservoir' target=\"_blank\">Weights & Biases</a> (<a href='https://wandb.me/run' target=\"_blank\">docs</a>)<br/>Sweep page: <a href='https://wandb.ai/bhkim003-seoul-national-university/reservoir/sweeps/sxt07a51' target=\"_blank\">https://wandb.ai/bhkim003-seoul-national-university/reservoir/sweeps/sxt07a51</a>"
      ],
      "text/plain": [
       "<IPython.core.display.HTML object>"
      ]
     },
     "metadata": {},
     "output_type": "display_data"
    },
    {
     "data": {
      "text/html": [
       " View project at <a href='https://wandb.ai/bhkim003-seoul-national-university/reservoir' target=\"_blank\">https://wandb.ai/bhkim003-seoul-national-university/reservoir</a>"
      ],
      "text/plain": [
       "<IPython.core.display.HTML object>"
      ]
     },
     "metadata": {},
     "output_type": "display_data"
    },
    {
     "data": {
      "text/html": [
       " View sweep at <a href='https://wandb.ai/bhkim003-seoul-national-university/reservoir/sweeps/sxt07a51' target=\"_blank\">https://wandb.ai/bhkim003-seoul-national-university/reservoir/sweeps/sxt07a51</a>"
      ],
      "text/plain": [
       "<IPython.core.display.HTML object>"
      ]
     },
     "metadata": {},
     "output_type": "display_data"
    },
    {
     "data": {
      "text/html": [
       " View run at <a href='https://wandb.ai/bhkim003-seoul-national-university/reservoir/runs/lqxkhf7y' target=\"_blank\">https://wandb.ai/bhkim003-seoul-national-university/reservoir/runs/lqxkhf7y</a>"
      ],
      "text/plain": [
       "<IPython.core.display.HTML object>"
      ]
     },
     "metadata": {},
     "output_type": "display_data"
    },
    {
     "name": "stderr",
     "output_type": "stream",
     "text": [
      "\u001b[34m\u001b[1mwandb\u001b[0m: \u001b[33mWARNING\u001b[0m Config item 'data_path' was locked by 'sweep' (ignored update).\n",
      "\u001b[34m\u001b[1mwandb\u001b[0m: \u001b[33mWARNING\u001b[0m Config item 'which_data' was locked by 'sweep' (ignored update).\n",
      "\u001b[34m\u001b[1mwandb\u001b[0m: \u001b[33mWARNING\u001b[0m Config item 'learning_rate' was locked by 'sweep' (ignored update).\n",
      "\u001b[34m\u001b[1mwandb\u001b[0m: \u001b[33mWARNING\u001b[0m Config item 'IMAGE_SIZE' was locked by 'sweep' (ignored update).\n",
      "\u001b[34m\u001b[1mwandb\u001b[0m: \u001b[33mWARNING\u001b[0m Config item 'EPOCH' was locked by 'sweep' (ignored update).\n",
      "\u001b[34m\u001b[1mwandb\u001b[0m: \u001b[33mWARNING\u001b[0m Config item 'rate_coding' was locked by 'sweep' (ignored update).\n",
      "\u001b[34m\u001b[1mwandb\u001b[0m: \u001b[33mWARNING\u001b[0m Config item 'pre_spike_weight' was locked by 'sweep' (ignored update).\n",
      "\u001b[34m\u001b[1mwandb\u001b[0m: \u001b[33mWARNING\u001b[0m Config item 'dvs_duration' was locked by 'sweep' (ignored update).\n",
      "\u001b[34m\u001b[1mwandb\u001b[0m: \u001b[33mWARNING\u001b[0m Config item 'dvs_clipping' was locked by 'sweep' (ignored update).\n",
      "\u001b[34m\u001b[1mwandb\u001b[0m: \u001b[33mWARNING\u001b[0m Config item 'no_reservoir' was locked by 'sweep' (ignored update).\n",
      "\u001b[34m\u001b[1mwandb\u001b[0m: \u001b[33mWARNING\u001b[0m Config item 'FC_RESERVOIR' was locked by 'sweep' (ignored update).\n"
     ]
    },
    {
     "name": "stdout",
     "output_type": "stream",
     "text": [
      "The directory [/data2/gesture/duration_100000] already exists.\n",
      "The directory [/data2/gesture/duration_100000] already exists.\n",
      "RESERVOIR_NET(\n",
      "  (reservoir): RESERVOIR(\n",
      "    (reservoir): Linear(in_features=32768, out_features=32768, bias=True)\n",
      "  )\n",
      "  (classifier): Linear(in_features=32768, out_features=10, bias=True)\n",
      ")\n",
      "Epoch 1\n",
      "Train Accuracy: 48.42%\n",
      "Test loss: 1.815, Val Accuracy: 67.80%\n",
      "Epoch 2\n",
      "Train Accuracy: 69.94%\n",
      "Test loss: 1.509, Val Accuracy: 64.02%\n",
      "Epoch 3\n",
      "Train Accuracy: 80.24%\n",
      "Test loss: 3.673, Val Accuracy: 62.50%\n",
      "Epoch 4\n",
      "Train Accuracy: 89.61%\n",
      "Test loss: 1.599, Val Accuracy: 62.88%\n",
      "Epoch 5\n",
      "Train Accuracy: 97.87%\n",
      "Test loss: 1.487, Val Accuracy: 73.86%\n",
      "Epoch 6\n",
      "Train Accuracy: 99.44%\n",
      "Test loss: 1.434, Val Accuracy: 68.56%\n",
      "Epoch 7\n",
      "Train Accuracy: 100.00%\n",
      "Test loss: 1.350, Val Accuracy: 71.59%\n",
      "Epoch 8\n",
      "Train Accuracy: 100.00%\n",
      "Test loss: 1.374, Val Accuracy: 70.45%\n",
      "Epoch 9\n",
      "Train Accuracy: 100.00%\n",
      "Test loss: 1.375, Val Accuracy: 68.56%\n",
      "Epoch 10\n",
      "Train Accuracy: 100.00%\n",
      "Test loss: 1.356, Val Accuracy: 69.32%\n",
      "Epoch 11\n",
      "Train Accuracy: 100.00%\n",
      "Test loss: 1.364, Val Accuracy: 69.32%\n",
      "Epoch 12\n",
      "Train Accuracy: 100.00%\n",
      "Test loss: 1.375, Val Accuracy: 69.32%\n",
      "Epoch 13\n",
      "Train Accuracy: 100.00%\n",
      "Test loss: 1.373, Val Accuracy: 68.56%\n",
      "Epoch 14\n",
      "Train Accuracy: 100.00%\n",
      "Test loss: 1.380, Val Accuracy: 69.32%\n",
      "Epoch 15\n",
      "Train Accuracy: 100.00%\n",
      "Test loss: 1.373, Val Accuracy: 69.32%\n",
      "Epoch 16\n",
      "Train Accuracy: 100.00%\n",
      "Test loss: 1.375, Val Accuracy: 69.32%\n",
      "Epoch 17\n",
      "Train Accuracy: 100.00%\n",
      "Test loss: 1.372, Val Accuracy: 70.08%\n",
      "Epoch 18\n",
      "Train Accuracy: 100.00%\n",
      "Test loss: 1.383, Val Accuracy: 68.94%\n",
      "Epoch 19\n",
      "Train Accuracy: 100.00%\n",
      "Test loss: 1.377, Val Accuracy: 69.70%\n",
      "Epoch 20\n",
      "Train Accuracy: 100.00%\n",
      "Test loss: 1.386, Val Accuracy: 69.70%\n"
     ]
    },
    {
     "data": {
      "application/vnd.jupyter.widget-view+json": {
       "model_id": "a1de0dfbc3a645a092c025b0d425e8ce",
       "version_major": 2,
       "version_minor": 0
      },
      "text/plain": [
       "VBox(children=(Label(value='0.326 MB of 0.326 MB uploaded\\r'), FloatProgress(value=1.0, max=1.0)))"
      ]
     },
     "metadata": {},
     "output_type": "display_data"
    },
    {
     "data": {
      "text/html": [
       "<style>\n",
       "    table.wandb td:nth-child(1) { padding: 0 10px; text-align: left ; width: auto;} td:nth-child(2) {text-align: left ; width: 100%}\n",
       "    .wandb-row { display: flex; flex-direction: row; flex-wrap: wrap; justify-content: flex-start; width: 100% }\n",
       "    .wandb-col { display: flex; flex-direction: column; flex-basis: 100%; flex: 1; padding: 10px; }\n",
       "    </style>\n",
       "<div class=\"wandb-row\"><div class=\"wandb-col\"><h3>Run history:</h3><br/><table class=\"wandb\"><tr><td>epoch</td><td>▁▁▂▂▂▃▃▄▄▄▅▅▅▆▆▇▇▇██</td></tr><tr><td>iter_accuracy</td><td>▂▁▅▆▆▆▇█████████████████████████████████</td></tr><tr><td>tr_accuracy</td><td>▁▄▅▇████████████████</td></tr><tr><td>val_accuracy</td><td>▄▂▁▁█▅▇▆▅▅▅▅▅▅▅▅▆▅▅▅</td></tr></table><br/></div><div class=\"wandb-col\"><h3>Run summary:</h3><br/><table class=\"wandb\"><tr><td>epoch</td><td>19</td></tr><tr><td>iter_accuracy</td><td>100.0</td></tr><tr><td>tr_accuracy</td><td>100.0</td></tr><tr><td>val_accuracy</td><td>69.69697</td></tr></table><br/></div></div>"
      ],
      "text/plain": [
       "<IPython.core.display.HTML object>"
      ]
     },
     "metadata": {},
     "output_type": "display_data"
    },
    {
     "data": {
      "text/html": [
       " View run <strong style=\"color:#cdcd00\">colorful-sweep-54</strong> at: <a href='https://wandb.ai/bhkim003-seoul-national-university/reservoir/runs/lqxkhf7y' target=\"_blank\">https://wandb.ai/bhkim003-seoul-national-university/reservoir/runs/lqxkhf7y</a><br/> View project at: <a href='https://wandb.ai/bhkim003-seoul-national-university/reservoir' target=\"_blank\">https://wandb.ai/bhkim003-seoul-national-university/reservoir</a><br/>Synced 7 W&B file(s), 0 media file(s), 0 artifact file(s) and 1 other file(s)"
      ],
      "text/plain": [
       "<IPython.core.display.HTML object>"
      ]
     },
     "metadata": {},
     "output_type": "display_data"
    },
    {
     "data": {
      "text/html": [
       "Find logs at: <code>./wandb/run-20240727_181303-lqxkhf7y/logs</code>"
      ],
      "text/plain": [
       "<IPython.core.display.HTML object>"
      ]
     },
     "metadata": {},
     "output_type": "display_data"
    },
    {
     "data": {
      "text/html": [
       "The new W&B backend becomes opt-out in version 0.18.0; try it out with `wandb.require(\"core\")`! See https://wandb.me/wandb-core for more information."
      ],
      "text/plain": [
       "<IPython.core.display.HTML object>"
      ]
     },
     "metadata": {},
     "output_type": "display_data"
    },
    {
     "name": "stderr",
     "output_type": "stream",
     "text": [
      "\u001b[34m\u001b[1mwandb\u001b[0m: Agent Starting Run: 2mq1pgy0 with config:\n",
      "\u001b[34m\u001b[1mwandb\u001b[0m: \tEPOCH: 20\n",
      "\u001b[34m\u001b[1mwandb\u001b[0m: \tFC_RESERVOIR: True\n",
      "\u001b[34m\u001b[1mwandb\u001b[0m: \tIMAGE_SIZE: 128\n",
      "\u001b[34m\u001b[1mwandb\u001b[0m: \tbatch_size: 16\n",
      "\u001b[34m\u001b[1mwandb\u001b[0m: \tdata_path: /data2\n",
      "\u001b[34m\u001b[1mwandb\u001b[0m: \tdecay: 0.970191775813814\n",
      "\u001b[34m\u001b[1mwandb\u001b[0m: \tdvs_clipping: True\n",
      "\u001b[34m\u001b[1mwandb\u001b[0m: \tdvs_duration: 100000\n",
      "\u001b[34m\u001b[1mwandb\u001b[0m: \tlearning_rate: 0.020261609517872713\n",
      "\u001b[34m\u001b[1mwandb\u001b[0m: \tno_reservoir: True\n",
      "\u001b[34m\u001b[1mwandb\u001b[0m: \tpre_spike_weight: 6.230195175680186\n",
      "\u001b[34m\u001b[1mwandb\u001b[0m: \trate_coding: False\n",
      "\u001b[34m\u001b[1mwandb\u001b[0m: \ttime_step: 8\n",
      "\u001b[34m\u001b[1mwandb\u001b[0m: \twhich_data: DVS_GESTURE\n",
      "Failed to detect the name of this notebook, you can set it manually with the WANDB_NOTEBOOK_NAME environment variable to enable code saving.\n"
     ]
    },
    {
     "data": {
      "text/html": [
       "Tracking run with wandb version 0.17.5"
      ],
      "text/plain": [
       "<IPython.core.display.HTML object>"
      ]
     },
     "metadata": {},
     "output_type": "display_data"
    },
    {
     "data": {
      "text/html": [
       "Run data is saved locally in <code>/nfs/home/bhkim003/github_folder/ByeonghyeonKim/my_snn/wandb/run-20240727_220938-2mq1pgy0</code>"
      ],
      "text/plain": [
       "<IPython.core.display.HTML object>"
      ]
     },
     "metadata": {},
     "output_type": "display_data"
    },
    {
     "data": {
      "text/html": [
       "Syncing run <strong><a href='https://wandb.ai/bhkim003-seoul-national-university/reservoir/runs/2mq1pgy0' target=\"_blank\">cosmic-sweep-55</a></strong> to <a href='https://wandb.ai/bhkim003-seoul-national-university/reservoir' target=\"_blank\">Weights & Biases</a> (<a href='https://wandb.me/run' target=\"_blank\">docs</a>)<br/>Sweep page: <a href='https://wandb.ai/bhkim003-seoul-national-university/reservoir/sweeps/sxt07a51' target=\"_blank\">https://wandb.ai/bhkim003-seoul-national-university/reservoir/sweeps/sxt07a51</a>"
      ],
      "text/plain": [
       "<IPython.core.display.HTML object>"
      ]
     },
     "metadata": {},
     "output_type": "display_data"
    },
    {
     "data": {
      "text/html": [
       " View project at <a href='https://wandb.ai/bhkim003-seoul-national-university/reservoir' target=\"_blank\">https://wandb.ai/bhkim003-seoul-national-university/reservoir</a>"
      ],
      "text/plain": [
       "<IPython.core.display.HTML object>"
      ]
     },
     "metadata": {},
     "output_type": "display_data"
    },
    {
     "data": {
      "text/html": [
       " View sweep at <a href='https://wandb.ai/bhkim003-seoul-national-university/reservoir/sweeps/sxt07a51' target=\"_blank\">https://wandb.ai/bhkim003-seoul-national-university/reservoir/sweeps/sxt07a51</a>"
      ],
      "text/plain": [
       "<IPython.core.display.HTML object>"
      ]
     },
     "metadata": {},
     "output_type": "display_data"
    },
    {
     "data": {
      "text/html": [
       " View run at <a href='https://wandb.ai/bhkim003-seoul-national-university/reservoir/runs/2mq1pgy0' target=\"_blank\">https://wandb.ai/bhkim003-seoul-national-university/reservoir/runs/2mq1pgy0</a>"
      ],
      "text/plain": [
       "<IPython.core.display.HTML object>"
      ]
     },
     "metadata": {},
     "output_type": "display_data"
    },
    {
     "name": "stderr",
     "output_type": "stream",
     "text": [
      "\u001b[34m\u001b[1mwandb\u001b[0m: \u001b[33mWARNING\u001b[0m Config item 'data_path' was locked by 'sweep' (ignored update).\n",
      "\u001b[34m\u001b[1mwandb\u001b[0m: \u001b[33mWARNING\u001b[0m Config item 'which_data' was locked by 'sweep' (ignored update).\n",
      "\u001b[34m\u001b[1mwandb\u001b[0m: \u001b[33mWARNING\u001b[0m Config item 'learning_rate' was locked by 'sweep' (ignored update).\n",
      "\u001b[34m\u001b[1mwandb\u001b[0m: \u001b[33mWARNING\u001b[0m Config item 'IMAGE_SIZE' was locked by 'sweep' (ignored update).\n",
      "\u001b[34m\u001b[1mwandb\u001b[0m: \u001b[33mWARNING\u001b[0m Config item 'EPOCH' was locked by 'sweep' (ignored update).\n",
      "\u001b[34m\u001b[1mwandb\u001b[0m: \u001b[33mWARNING\u001b[0m Config item 'rate_coding' was locked by 'sweep' (ignored update).\n",
      "\u001b[34m\u001b[1mwandb\u001b[0m: \u001b[33mWARNING\u001b[0m Config item 'pre_spike_weight' was locked by 'sweep' (ignored update).\n",
      "\u001b[34m\u001b[1mwandb\u001b[0m: \u001b[33mWARNING\u001b[0m Config item 'dvs_duration' was locked by 'sweep' (ignored update).\n",
      "\u001b[34m\u001b[1mwandb\u001b[0m: \u001b[33mWARNING\u001b[0m Config item 'dvs_clipping' was locked by 'sweep' (ignored update).\n",
      "\u001b[34m\u001b[1mwandb\u001b[0m: \u001b[33mWARNING\u001b[0m Config item 'no_reservoir' was locked by 'sweep' (ignored update).\n",
      "\u001b[34m\u001b[1mwandb\u001b[0m: \u001b[33mWARNING\u001b[0m Config item 'FC_RESERVOIR' was locked by 'sweep' (ignored update).\n"
     ]
    },
    {
     "name": "stdout",
     "output_type": "stream",
     "text": [
      "The directory [/data2/gesture/duration_100000] already exists.\n",
      "The directory [/data2/gesture/duration_100000] already exists.\n",
      "RESERVOIR_NET(\n",
      "  (classifier): Linear(in_features=32768, out_features=10, bias=True)\n",
      ")\n",
      "Epoch 1\n",
      "Train Accuracy: 49.54%\n",
      "Test loss: 4.482, Val Accuracy: 51.52%\n",
      "Epoch 2\n",
      "Train Accuracy: 70.96%\n",
      "Test loss: 2.839, Val Accuracy: 56.06%\n",
      "Epoch 3\n",
      "Train Accuracy: 88.50%\n",
      "Test loss: 2.513, Val Accuracy: 63.64%\n",
      "Epoch 4\n",
      "Train Accuracy: 84.42%\n",
      "Test loss: 3.017, Val Accuracy: 58.71%\n",
      "Epoch 5\n",
      "Train Accuracy: 92.67%\n",
      "Test loss: 1.660, Val Accuracy: 68.18%\n",
      "Epoch 6\n",
      "Train Accuracy: 95.92%\n",
      "Test loss: 2.538, Val Accuracy: 63.26%\n",
      "Epoch 7\n",
      "Train Accuracy: 98.98%\n",
      "Test loss: 1.746, Val Accuracy: 66.29%\n",
      "Epoch 8\n",
      "Train Accuracy: 100.00%\n",
      "Test loss: 1.713, Val Accuracy: 66.29%\n",
      "Epoch 9\n",
      "Train Accuracy: 100.00%\n",
      "Test loss: 1.735, Val Accuracy: 67.42%\n",
      "Epoch 10\n",
      "Train Accuracy: 100.00%\n",
      "Test loss: 1.721, Val Accuracy: 68.18%\n",
      "Epoch 11\n",
      "Train Accuracy: 100.00%\n",
      "Test loss: 1.729, Val Accuracy: 68.56%\n",
      "Epoch 12\n",
      "Train Accuracy: 100.00%\n",
      "Test loss: 1.729, Val Accuracy: 69.32%\n",
      "Epoch 13\n",
      "Train Accuracy: 100.00%\n",
      "Test loss: 1.719, Val Accuracy: 68.18%\n",
      "Epoch 14\n",
      "Train Accuracy: 100.00%\n",
      "Test loss: 1.723, Val Accuracy: 68.56%\n",
      "Epoch 15\n",
      "Train Accuracy: 100.00%\n",
      "Test loss: 1.732, Val Accuracy: 68.94%\n",
      "Epoch 16\n",
      "Train Accuracy: 100.00%\n",
      "Test loss: 1.723, Val Accuracy: 68.56%\n",
      "Epoch 17\n",
      "Train Accuracy: 100.00%\n",
      "Test loss: 1.731, Val Accuracy: 68.94%\n",
      "Epoch 18\n",
      "Train Accuracy: 100.00%\n",
      "Test loss: 1.732, Val Accuracy: 68.94%\n",
      "Epoch 19\n",
      "Train Accuracy: 100.00%\n",
      "Test loss: 1.733, Val Accuracy: 68.94%\n",
      "Epoch 20\n",
      "Train Accuracy: 100.00%\n",
      "Test loss: 1.732, Val Accuracy: 68.94%\n"
     ]
    },
    {
     "data": {
      "application/vnd.jupyter.widget-view+json": {
       "model_id": "ca8cd4e095254306a8ccfea419480ecb",
       "version_major": 2,
       "version_minor": 0
      },
      "text/plain": [
       "VBox(children=(Label(value='0.326 MB of 0.326 MB uploaded\\r'), FloatProgress(value=1.0, max=1.0)))"
      ]
     },
     "metadata": {},
     "output_type": "display_data"
    },
    {
     "data": {
      "text/html": [
       "<style>\n",
       "    table.wandb td:nth-child(1) { padding: 0 10px; text-align: left ; width: auto;} td:nth-child(2) {text-align: left ; width: 100%}\n",
       "    .wandb-row { display: flex; flex-direction: row; flex-wrap: wrap; justify-content: flex-start; width: 100% }\n",
       "    .wandb-col { display: flex; flex-direction: column; flex-basis: 100%; flex: 1; padding: 10px; }\n",
       "    </style>\n",
       "<div class=\"wandb-row\"><div class=\"wandb-col\"><h3>Run history:</h3><br/><table class=\"wandb\"><tr><td>epoch</td><td>▁▁▂▂▂▃▃▄▄▄▅▅▅▆▆▇▇▇██</td></tr><tr><td>iter_accuracy</td><td>▆▁▄▆▆▆▇▆▆██▇▇███████████████████████████</td></tr><tr><td>tr_accuracy</td><td>▁▄▆▆▇▇██████████████</td></tr><tr><td>val_accuracy</td><td>▁▃▆▄█▆▇▇▇███████████</td></tr></table><br/></div><div class=\"wandb-col\"><h3>Run summary:</h3><br/><table class=\"wandb\"><tr><td>epoch</td><td>19</td></tr><tr><td>iter_accuracy</td><td>100.0</td></tr><tr><td>tr_accuracy</td><td>100.0</td></tr><tr><td>val_accuracy</td><td>68.93939</td></tr></table><br/></div></div>"
      ],
      "text/plain": [
       "<IPython.core.display.HTML object>"
      ]
     },
     "metadata": {},
     "output_type": "display_data"
    },
    {
     "data": {
      "text/html": [
       " View run <strong style=\"color:#cdcd00\">cosmic-sweep-55</strong> at: <a href='https://wandb.ai/bhkim003-seoul-national-university/reservoir/runs/2mq1pgy0' target=\"_blank\">https://wandb.ai/bhkim003-seoul-national-university/reservoir/runs/2mq1pgy0</a><br/> View project at: <a href='https://wandb.ai/bhkim003-seoul-national-university/reservoir' target=\"_blank\">https://wandb.ai/bhkim003-seoul-national-university/reservoir</a><br/>Synced 7 W&B file(s), 0 media file(s), 0 artifact file(s) and 1 other file(s)"
      ],
      "text/plain": [
       "<IPython.core.display.HTML object>"
      ]
     },
     "metadata": {},
     "output_type": "display_data"
    },
    {
     "data": {
      "text/html": [
       "Find logs at: <code>./wandb/run-20240727_220938-2mq1pgy0/logs</code>"
      ],
      "text/plain": [
       "<IPython.core.display.HTML object>"
      ]
     },
     "metadata": {},
     "output_type": "display_data"
    },
    {
     "data": {
      "text/html": [
       "The new W&B backend becomes opt-out in version 0.18.0; try it out with `wandb.require(\"core\")`! See https://wandb.me/wandb-core for more information."
      ],
      "text/plain": [
       "<IPython.core.display.HTML object>"
      ]
     },
     "metadata": {},
     "output_type": "display_data"
    },
    {
     "name": "stderr",
     "output_type": "stream",
     "text": [
      "\u001b[34m\u001b[1mwandb\u001b[0m: Agent Starting Run: i3x0p5b3 with config:\n",
      "\u001b[34m\u001b[1mwandb\u001b[0m: \tEPOCH: 20\n",
      "\u001b[34m\u001b[1mwandb\u001b[0m: \tFC_RESERVOIR: True\n",
      "\u001b[34m\u001b[1mwandb\u001b[0m: \tIMAGE_SIZE: 128\n",
      "\u001b[34m\u001b[1mwandb\u001b[0m: \tbatch_size: 32\n",
      "\u001b[34m\u001b[1mwandb\u001b[0m: \tdata_path: /data2\n",
      "\u001b[34m\u001b[1mwandb\u001b[0m: \tdecay: 0.6219944239155876\n",
      "\u001b[34m\u001b[1mwandb\u001b[0m: \tdvs_clipping: True\n",
      "\u001b[34m\u001b[1mwandb\u001b[0m: \tdvs_duration: 100000\n",
      "\u001b[34m\u001b[1mwandb\u001b[0m: \tlearning_rate: 0.01499025280511161\n",
      "\u001b[34m\u001b[1mwandb\u001b[0m: \tno_reservoir: False\n",
      "\u001b[34m\u001b[1mwandb\u001b[0m: \tpre_spike_weight: 8.331531921661135\n",
      "\u001b[34m\u001b[1mwandb\u001b[0m: \trate_coding: True\n",
      "\u001b[34m\u001b[1mwandb\u001b[0m: \ttime_step: 8\n",
      "\u001b[34m\u001b[1mwandb\u001b[0m: \twhich_data: DVS_GESTURE\n",
      "Failed to detect the name of this notebook, you can set it manually with the WANDB_NOTEBOOK_NAME environment variable to enable code saving.\n"
     ]
    },
    {
     "data": {
      "text/html": [
       "Tracking run with wandb version 0.17.5"
      ],
      "text/plain": [
       "<IPython.core.display.HTML object>"
      ]
     },
     "metadata": {},
     "output_type": "display_data"
    },
    {
     "data": {
      "text/html": [
       "Run data is saved locally in <code>/nfs/home/bhkim003/github_folder/ByeonghyeonKim/my_snn/wandb/run-20240727_222906-i3x0p5b3</code>"
      ],
      "text/plain": [
       "<IPython.core.display.HTML object>"
      ]
     },
     "metadata": {},
     "output_type": "display_data"
    },
    {
     "data": {
      "text/html": [
       "Syncing run <strong><a href='https://wandb.ai/bhkim003-seoul-national-university/reservoir/runs/i3x0p5b3' target=\"_blank\">zesty-sweep-56</a></strong> to <a href='https://wandb.ai/bhkim003-seoul-national-university/reservoir' target=\"_blank\">Weights & Biases</a> (<a href='https://wandb.me/run' target=\"_blank\">docs</a>)<br/>Sweep page: <a href='https://wandb.ai/bhkim003-seoul-national-university/reservoir/sweeps/sxt07a51' target=\"_blank\">https://wandb.ai/bhkim003-seoul-national-university/reservoir/sweeps/sxt07a51</a>"
      ],
      "text/plain": [
       "<IPython.core.display.HTML object>"
      ]
     },
     "metadata": {},
     "output_type": "display_data"
    },
    {
     "data": {
      "text/html": [
       " View project at <a href='https://wandb.ai/bhkim003-seoul-national-university/reservoir' target=\"_blank\">https://wandb.ai/bhkim003-seoul-national-university/reservoir</a>"
      ],
      "text/plain": [
       "<IPython.core.display.HTML object>"
      ]
     },
     "metadata": {},
     "output_type": "display_data"
    },
    {
     "data": {
      "text/html": [
       " View sweep at <a href='https://wandb.ai/bhkim003-seoul-national-university/reservoir/sweeps/sxt07a51' target=\"_blank\">https://wandb.ai/bhkim003-seoul-national-university/reservoir/sweeps/sxt07a51</a>"
      ],
      "text/plain": [
       "<IPython.core.display.HTML object>"
      ]
     },
     "metadata": {},
     "output_type": "display_data"
    },
    {
     "data": {
      "text/html": [
       " View run at <a href='https://wandb.ai/bhkim003-seoul-national-university/reservoir/runs/i3x0p5b3' target=\"_blank\">https://wandb.ai/bhkim003-seoul-national-university/reservoir/runs/i3x0p5b3</a>"
      ],
      "text/plain": [
       "<IPython.core.display.HTML object>"
      ]
     },
     "metadata": {},
     "output_type": "display_data"
    },
    {
     "name": "stderr",
     "output_type": "stream",
     "text": [
      "\u001b[34m\u001b[1mwandb\u001b[0m: \u001b[33mWARNING\u001b[0m Config item 'data_path' was locked by 'sweep' (ignored update).\n",
      "\u001b[34m\u001b[1mwandb\u001b[0m: \u001b[33mWARNING\u001b[0m Config item 'which_data' was locked by 'sweep' (ignored update).\n",
      "\u001b[34m\u001b[1mwandb\u001b[0m: \u001b[33mWARNING\u001b[0m Config item 'learning_rate' was locked by 'sweep' (ignored update).\n",
      "\u001b[34m\u001b[1mwandb\u001b[0m: \u001b[33mWARNING\u001b[0m Config item 'IMAGE_SIZE' was locked by 'sweep' (ignored update).\n",
      "\u001b[34m\u001b[1mwandb\u001b[0m: \u001b[33mWARNING\u001b[0m Config item 'EPOCH' was locked by 'sweep' (ignored update).\n",
      "\u001b[34m\u001b[1mwandb\u001b[0m: \u001b[33mWARNING\u001b[0m Config item 'rate_coding' was locked by 'sweep' (ignored update).\n",
      "\u001b[34m\u001b[1mwandb\u001b[0m: \u001b[33mWARNING\u001b[0m Config item 'pre_spike_weight' was locked by 'sweep' (ignored update).\n",
      "\u001b[34m\u001b[1mwandb\u001b[0m: \u001b[33mWARNING\u001b[0m Config item 'dvs_duration' was locked by 'sweep' (ignored update).\n",
      "\u001b[34m\u001b[1mwandb\u001b[0m: \u001b[33mWARNING\u001b[0m Config item 'dvs_clipping' was locked by 'sweep' (ignored update).\n",
      "\u001b[34m\u001b[1mwandb\u001b[0m: \u001b[33mWARNING\u001b[0m Config item 'no_reservoir' was locked by 'sweep' (ignored update).\n",
      "\u001b[34m\u001b[1mwandb\u001b[0m: \u001b[33mWARNING\u001b[0m Config item 'FC_RESERVOIR' was locked by 'sweep' (ignored update).\n"
     ]
    },
    {
     "name": "stdout",
     "output_type": "stream",
     "text": [
      "The directory [/data2/gesture/duration_100000] already exists.\n",
      "The directory [/data2/gesture/duration_100000] already exists.\n",
      "RESERVOIR_NET(\n",
      "  (reservoir): RESERVOIR(\n",
      "    (reservoir): Linear(in_features=32768, out_features=32768, bias=True)\n",
      "  )\n",
      "  (classifier): Linear(in_features=32768, out_features=10, bias=True)\n",
      ")\n",
      "Epoch 1\n",
      "Train Accuracy: 47.31%\n",
      "Test loss: 1.513, Val Accuracy: 54.55%\n",
      "Epoch 2\n",
      "Train Accuracy: 74.68%\n",
      "Test loss: 1.738, Val Accuracy: 61.74%\n",
      "Epoch 3\n",
      "Train Accuracy: 84.60%\n",
      "Test loss: 1.110, Val Accuracy: 67.42%\n",
      "Epoch 4\n",
      "Train Accuracy: 96.38%\n",
      "Test loss: 1.091, Val Accuracy: 66.29%\n",
      "Epoch 5\n",
      "Train Accuracy: 99.54%\n",
      "Test loss: 1.032, Val Accuracy: 68.94%\n",
      "Epoch 6\n",
      "Train Accuracy: 99.72%\n",
      "Test loss: 1.051, Val Accuracy: 71.21%\n",
      "Epoch 7\n",
      "Train Accuracy: 99.91%\n",
      "Test loss: 0.891, Val Accuracy: 73.86%\n",
      "Epoch 8\n",
      "Train Accuracy: 100.00%\n",
      "Test loss: 1.024, Val Accuracy: 73.11%\n",
      "Epoch 9\n",
      "Train Accuracy: 100.00%\n",
      "Test loss: 0.952, Val Accuracy: 74.24%\n",
      "Epoch 10\n",
      "Train Accuracy: 100.00%\n",
      "Test loss: 0.979, Val Accuracy: 71.97%\n",
      "Epoch 11\n",
      "Train Accuracy: 100.00%\n",
      "Test loss: 1.009, Val Accuracy: 74.62%\n",
      "Epoch 12\n",
      "Train Accuracy: 100.00%\n",
      "Test loss: 1.015, Val Accuracy: 72.35%\n",
      "Epoch 13\n",
      "Train Accuracy: 100.00%\n",
      "Test loss: 0.961, Val Accuracy: 73.11%\n",
      "Epoch 14\n",
      "Train Accuracy: 100.00%\n",
      "Test loss: 1.013, Val Accuracy: 70.83%\n",
      "Epoch 15\n",
      "Train Accuracy: 100.00%\n",
      "Test loss: 0.981, Val Accuracy: 73.86%\n",
      "Epoch 16\n",
      "Train Accuracy: 100.00%\n",
      "Test loss: 0.984, Val Accuracy: 73.48%\n",
      "Epoch 17\n",
      "Train Accuracy: 100.00%\n",
      "Test loss: 0.988, Val Accuracy: 73.48%\n",
      "Epoch 18\n",
      "Train Accuracy: 100.00%\n",
      "Test loss: 1.019, Val Accuracy: 73.11%\n",
      "Epoch 19\n",
      "Train Accuracy: 100.00%\n",
      "Test loss: 1.016, Val Accuracy: 73.86%\n",
      "Epoch 20\n",
      "Train Accuracy: 100.00%\n",
      "Test loss: 0.985, Val Accuracy: 72.73%\n"
     ]
    },
    {
     "data": {
      "application/vnd.jupyter.widget-view+json": {
       "model_id": "649bcc1f30c54f66b27ab571f14d7d3a",
       "version_major": 2,
       "version_minor": 0
      },
      "text/plain": [
       "VBox(children=(Label(value='0.326 MB of 0.326 MB uploaded\\r'), FloatProgress(value=1.0, max=1.0)))"
      ]
     },
     "metadata": {},
     "output_type": "display_data"
    },
    {
     "data": {
      "text/html": [
       "<style>\n",
       "    table.wandb td:nth-child(1) { padding: 0 10px; text-align: left ; width: auto;} td:nth-child(2) {text-align: left ; width: 100%}\n",
       "    .wandb-row { display: flex; flex-direction: row; flex-wrap: wrap; justify-content: flex-start; width: 100% }\n",
       "    .wandb-col { display: flex; flex-direction: column; flex-basis: 100%; flex: 1; padding: 10px; }\n",
       "    </style>\n",
       "<div class=\"wandb-row\"><div class=\"wandb-col\"><h3>Run history:</h3><br/><table class=\"wandb\"><tr><td>epoch</td><td>▁▁▂▂▂▃▃▄▄▄▅▅▅▆▆▇▇▇██</td></tr><tr><td>iter_accuracy</td><td>▁▄▅▅████████████████████████████████████</td></tr><tr><td>tr_accuracy</td><td>▁▅▆█████████████████</td></tr><tr><td>val_accuracy</td><td>▁▄▅▅▆▇█▇█▇█▇▇▇███▇█▇</td></tr></table><br/></div><div class=\"wandb-col\"><h3>Run summary:</h3><br/><table class=\"wandb\"><tr><td>epoch</td><td>19</td></tr><tr><td>iter_accuracy</td><td>100.0</td></tr><tr><td>tr_accuracy</td><td>100.0</td></tr><tr><td>val_accuracy</td><td>72.72727</td></tr></table><br/></div></div>"
      ],
      "text/plain": [
       "<IPython.core.display.HTML object>"
      ]
     },
     "metadata": {},
     "output_type": "display_data"
    },
    {
     "data": {
      "text/html": [
       " View run <strong style=\"color:#cdcd00\">zesty-sweep-56</strong> at: <a href='https://wandb.ai/bhkim003-seoul-national-university/reservoir/runs/i3x0p5b3' target=\"_blank\">https://wandb.ai/bhkim003-seoul-national-university/reservoir/runs/i3x0p5b3</a><br/> View project at: <a href='https://wandb.ai/bhkim003-seoul-national-university/reservoir' target=\"_blank\">https://wandb.ai/bhkim003-seoul-national-university/reservoir</a><br/>Synced 7 W&B file(s), 0 media file(s), 0 artifact file(s) and 1 other file(s)"
      ],
      "text/plain": [
       "<IPython.core.display.HTML object>"
      ]
     },
     "metadata": {},
     "output_type": "display_data"
    },
    {
     "data": {
      "text/html": [
       "Find logs at: <code>./wandb/run-20240727_222906-i3x0p5b3/logs</code>"
      ],
      "text/plain": [
       "<IPython.core.display.HTML object>"
      ]
     },
     "metadata": {},
     "output_type": "display_data"
    },
    {
     "data": {
      "text/html": [
       "The new W&B backend becomes opt-out in version 0.18.0; try it out with `wandb.require(\"core\")`! See https://wandb.me/wandb-core for more information."
      ],
      "text/plain": [
       "<IPython.core.display.HTML object>"
      ]
     },
     "metadata": {},
     "output_type": "display_data"
    },
    {
     "name": "stderr",
     "output_type": "stream",
     "text": [
      "\u001b[34m\u001b[1mwandb\u001b[0m: Agent Starting Run: tchio3n4 with config:\n",
      "\u001b[34m\u001b[1mwandb\u001b[0m: \tEPOCH: 20\n",
      "\u001b[34m\u001b[1mwandb\u001b[0m: \tFC_RESERVOIR: True\n",
      "\u001b[34m\u001b[1mwandb\u001b[0m: \tIMAGE_SIZE: 128\n",
      "\u001b[34m\u001b[1mwandb\u001b[0m: \tbatch_size: 16\n",
      "\u001b[34m\u001b[1mwandb\u001b[0m: \tdata_path: /data2\n",
      "\u001b[34m\u001b[1mwandb\u001b[0m: \tdecay: 0.9349622729487356\n",
      "\u001b[34m\u001b[1mwandb\u001b[0m: \tdvs_clipping: True\n",
      "\u001b[34m\u001b[1mwandb\u001b[0m: \tdvs_duration: 100000\n",
      "\u001b[34m\u001b[1mwandb\u001b[0m: \tlearning_rate: 0.013656666743566567\n",
      "\u001b[34m\u001b[1mwandb\u001b[0m: \tno_reservoir: True\n",
      "\u001b[34m\u001b[1mwandb\u001b[0m: \tpre_spike_weight: 4.685117310078844\n",
      "\u001b[34m\u001b[1mwandb\u001b[0m: \trate_coding: True\n",
      "\u001b[34m\u001b[1mwandb\u001b[0m: \ttime_step: 8\n",
      "\u001b[34m\u001b[1mwandb\u001b[0m: \twhich_data: DVS_GESTURE\n",
      "Failed to detect the name of this notebook, you can set it manually with the WANDB_NOTEBOOK_NAME environment variable to enable code saving.\n"
     ]
    },
    {
     "data": {
      "text/html": [
       "Tracking run with wandb version 0.17.5"
      ],
      "text/plain": [
       "<IPython.core.display.HTML object>"
      ]
     },
     "metadata": {},
     "output_type": "display_data"
    },
    {
     "data": {
      "text/html": [
       "Run data is saved locally in <code>/nfs/home/bhkim003/github_folder/ByeonghyeonKim/my_snn/wandb/run-20240728_003202-tchio3n4</code>"
      ],
      "text/plain": [
       "<IPython.core.display.HTML object>"
      ]
     },
     "metadata": {},
     "output_type": "display_data"
    },
    {
     "data": {
      "text/html": [
       "Syncing run <strong><a href='https://wandb.ai/bhkim003-seoul-national-university/reservoir/runs/tchio3n4' target=\"_blank\">fancy-sweep-57</a></strong> to <a href='https://wandb.ai/bhkim003-seoul-national-university/reservoir' target=\"_blank\">Weights & Biases</a> (<a href='https://wandb.me/run' target=\"_blank\">docs</a>)<br/>Sweep page: <a href='https://wandb.ai/bhkim003-seoul-national-university/reservoir/sweeps/sxt07a51' target=\"_blank\">https://wandb.ai/bhkim003-seoul-national-university/reservoir/sweeps/sxt07a51</a>"
      ],
      "text/plain": [
       "<IPython.core.display.HTML object>"
      ]
     },
     "metadata": {},
     "output_type": "display_data"
    },
    {
     "data": {
      "text/html": [
       " View project at <a href='https://wandb.ai/bhkim003-seoul-national-university/reservoir' target=\"_blank\">https://wandb.ai/bhkim003-seoul-national-university/reservoir</a>"
      ],
      "text/plain": [
       "<IPython.core.display.HTML object>"
      ]
     },
     "metadata": {},
     "output_type": "display_data"
    },
    {
     "data": {
      "text/html": [
       " View sweep at <a href='https://wandb.ai/bhkim003-seoul-national-university/reservoir/sweeps/sxt07a51' target=\"_blank\">https://wandb.ai/bhkim003-seoul-national-university/reservoir/sweeps/sxt07a51</a>"
      ],
      "text/plain": [
       "<IPython.core.display.HTML object>"
      ]
     },
     "metadata": {},
     "output_type": "display_data"
    },
    {
     "data": {
      "text/html": [
       " View run at <a href='https://wandb.ai/bhkim003-seoul-national-university/reservoir/runs/tchio3n4' target=\"_blank\">https://wandb.ai/bhkim003-seoul-national-university/reservoir/runs/tchio3n4</a>"
      ],
      "text/plain": [
       "<IPython.core.display.HTML object>"
      ]
     },
     "metadata": {},
     "output_type": "display_data"
    },
    {
     "name": "stderr",
     "output_type": "stream",
     "text": [
      "\u001b[34m\u001b[1mwandb\u001b[0m: \u001b[33mWARNING\u001b[0m Config item 'data_path' was locked by 'sweep' (ignored update).\n",
      "\u001b[34m\u001b[1mwandb\u001b[0m: \u001b[33mWARNING\u001b[0m Config item 'which_data' was locked by 'sweep' (ignored update).\n",
      "\u001b[34m\u001b[1mwandb\u001b[0m: \u001b[33mWARNING\u001b[0m Config item 'learning_rate' was locked by 'sweep' (ignored update).\n",
      "\u001b[34m\u001b[1mwandb\u001b[0m: \u001b[33mWARNING\u001b[0m Config item 'IMAGE_SIZE' was locked by 'sweep' (ignored update).\n",
      "\u001b[34m\u001b[1mwandb\u001b[0m: \u001b[33mWARNING\u001b[0m Config item 'EPOCH' was locked by 'sweep' (ignored update).\n",
      "\u001b[34m\u001b[1mwandb\u001b[0m: \u001b[33mWARNING\u001b[0m Config item 'rate_coding' was locked by 'sweep' (ignored update).\n",
      "\u001b[34m\u001b[1mwandb\u001b[0m: \u001b[33mWARNING\u001b[0m Config item 'pre_spike_weight' was locked by 'sweep' (ignored update).\n",
      "\u001b[34m\u001b[1mwandb\u001b[0m: \u001b[33mWARNING\u001b[0m Config item 'dvs_duration' was locked by 'sweep' (ignored update).\n",
      "\u001b[34m\u001b[1mwandb\u001b[0m: \u001b[33mWARNING\u001b[0m Config item 'dvs_clipping' was locked by 'sweep' (ignored update).\n",
      "\u001b[34m\u001b[1mwandb\u001b[0m: \u001b[33mWARNING\u001b[0m Config item 'no_reservoir' was locked by 'sweep' (ignored update).\n",
      "\u001b[34m\u001b[1mwandb\u001b[0m: \u001b[33mWARNING\u001b[0m Config item 'FC_RESERVOIR' was locked by 'sweep' (ignored update).\n"
     ]
    },
    {
     "name": "stdout",
     "output_type": "stream",
     "text": [
      "The directory [/data2/gesture/duration_100000] already exists.\n",
      "The directory [/data2/gesture/duration_100000] already exists.\n",
      "RESERVOIR_NET(\n",
      "  (classifier): Linear(in_features=32768, out_features=10, bias=True)\n",
      ")\n",
      "Epoch 1\n",
      "Train Accuracy: 48.89%\n",
      "Test loss: 2.122, Val Accuracy: 59.47%\n",
      "Epoch 2\n",
      "Train Accuracy: 72.82%\n",
      "Test loss: 1.453, Val Accuracy: 66.29%\n",
      "Epoch 3\n",
      "Train Accuracy: 89.70%\n",
      "Test loss: 1.371, Val Accuracy: 62.88%\n",
      "Epoch 4\n",
      "Train Accuracy: 97.50%\n",
      "Test loss: 0.985, Val Accuracy: 69.70%\n",
      "Epoch 5\n",
      "Train Accuracy: 98.33%\n",
      "Test loss: 1.111, Val Accuracy: 68.56%\n",
      "Epoch 6\n",
      "Train Accuracy: 99.72%\n",
      "Test loss: 0.965, Val Accuracy: 70.83%\n",
      "Epoch 7\n",
      "Train Accuracy: 100.00%\n",
      "Test loss: 1.001, Val Accuracy: 70.45%\n",
      "Epoch 8\n",
      "Train Accuracy: 100.00%\n",
      "Test loss: 1.060, Val Accuracy: 68.94%\n",
      "Epoch 9\n",
      "Train Accuracy: 100.00%\n",
      "Test loss: 1.025, Val Accuracy: 70.45%\n",
      "Epoch 10\n",
      "Train Accuracy: 100.00%\n",
      "Test loss: 1.054, Val Accuracy: 70.83%\n",
      "Epoch 11\n",
      "Train Accuracy: 100.00%\n",
      "Test loss: 1.063, Val Accuracy: 70.45%\n",
      "Epoch 12\n",
      "Train Accuracy: 100.00%\n",
      "Test loss: 1.027, Val Accuracy: 71.59%\n",
      "Epoch 13\n",
      "Train Accuracy: 100.00%\n",
      "Test loss: 1.049, Val Accuracy: 70.83%\n",
      "Epoch 14\n",
      "Train Accuracy: 100.00%\n",
      "Test loss: 1.046, Val Accuracy: 69.70%\n",
      "Epoch 15\n",
      "Train Accuracy: 100.00%\n",
      "Test loss: 1.045, Val Accuracy: 71.21%\n",
      "Epoch 16\n",
      "Train Accuracy: 100.00%\n",
      "Test loss: 1.040, Val Accuracy: 70.45%\n",
      "Epoch 17\n",
      "Train Accuracy: 100.00%\n",
      "Test loss: 1.045, Val Accuracy: 70.08%\n",
      "Epoch 18\n",
      "Train Accuracy: 100.00%\n",
      "Test loss: 1.053, Val Accuracy: 70.45%\n",
      "Epoch 19\n",
      "Train Accuracy: 100.00%\n",
      "Test loss: 1.044, Val Accuracy: 70.83%\n",
      "Epoch 20\n",
      "Train Accuracy: 100.00%\n",
      "Test loss: 1.052, Val Accuracy: 70.45%\n"
     ]
    },
    {
     "data": {
      "application/vnd.jupyter.widget-view+json": {
       "model_id": "8fc4d9ce89b84bad8a1eb06c1f320ca9",
       "version_major": 2,
       "version_minor": 0
      },
      "text/plain": [
       "VBox(children=(Label(value='0.326 MB of 0.326 MB uploaded\\r'), FloatProgress(value=1.0, max=1.0)))"
      ]
     },
     "metadata": {},
     "output_type": "display_data"
    },
    {
     "data": {
      "text/html": [
       "<style>\n",
       "    table.wandb td:nth-child(1) { padding: 0 10px; text-align: left ; width: auto;} td:nth-child(2) {text-align: left ; width: 100%}\n",
       "    .wandb-row { display: flex; flex-direction: row; flex-wrap: wrap; justify-content: flex-start; width: 100% }\n",
       "    .wandb-col { display: flex; flex-direction: column; flex-basis: 100%; flex: 1; padding: 10px; }\n",
       "    </style>\n",
       "<div class=\"wandb-row\"><div class=\"wandb-col\"><h3>Run history:</h3><br/><table class=\"wandb\"><tr><td>epoch</td><td>▁▁▂▂▂▃▃▄▄▄▅▅▅▆▆▇▇▇██</td></tr><tr><td>iter_accuracy</td><td>▁▁▁▁▆▆███▆██████████████████████████████</td></tr><tr><td>tr_accuracy</td><td>▁▄▇█████████████████</td></tr><tr><td>val_accuracy</td><td>▁▅▃▇▆█▇▆▇█▇██▇█▇▇▇█▇</td></tr></table><br/></div><div class=\"wandb-col\"><h3>Run summary:</h3><br/><table class=\"wandb\"><tr><td>epoch</td><td>19</td></tr><tr><td>iter_accuracy</td><td>100.0</td></tr><tr><td>tr_accuracy</td><td>100.0</td></tr><tr><td>val_accuracy</td><td>70.45455</td></tr></table><br/></div></div>"
      ],
      "text/plain": [
       "<IPython.core.display.HTML object>"
      ]
     },
     "metadata": {},
     "output_type": "display_data"
    },
    {
     "data": {
      "text/html": [
       " View run <strong style=\"color:#cdcd00\">fancy-sweep-57</strong> at: <a href='https://wandb.ai/bhkim003-seoul-national-university/reservoir/runs/tchio3n4' target=\"_blank\">https://wandb.ai/bhkim003-seoul-national-university/reservoir/runs/tchio3n4</a><br/> View project at: <a href='https://wandb.ai/bhkim003-seoul-national-university/reservoir' target=\"_blank\">https://wandb.ai/bhkim003-seoul-national-university/reservoir</a><br/>Synced 7 W&B file(s), 0 media file(s), 0 artifact file(s) and 1 other file(s)"
      ],
      "text/plain": [
       "<IPython.core.display.HTML object>"
      ]
     },
     "metadata": {},
     "output_type": "display_data"
    },
    {
     "data": {
      "text/html": [
       "Find logs at: <code>./wandb/run-20240728_003202-tchio3n4/logs</code>"
      ],
      "text/plain": [
       "<IPython.core.display.HTML object>"
      ]
     },
     "metadata": {},
     "output_type": "display_data"
    },
    {
     "data": {
      "text/html": [
       "The new W&B backend becomes opt-out in version 0.18.0; try it out with `wandb.require(\"core\")`! See https://wandb.me/wandb-core for more information."
      ],
      "text/plain": [
       "<IPython.core.display.HTML object>"
      ]
     },
     "metadata": {},
     "output_type": "display_data"
    },
    {
     "name": "stderr",
     "output_type": "stream",
     "text": [
      "\u001b[34m\u001b[1mwandb\u001b[0m: Agent Starting Run: m26d2xbi with config:\n",
      "\u001b[34m\u001b[1mwandb\u001b[0m: \tEPOCH: 20\n",
      "\u001b[34m\u001b[1mwandb\u001b[0m: \tFC_RESERVOIR: True\n",
      "\u001b[34m\u001b[1mwandb\u001b[0m: \tIMAGE_SIZE: 128\n",
      "\u001b[34m\u001b[1mwandb\u001b[0m: \tbatch_size: 128\n",
      "\u001b[34m\u001b[1mwandb\u001b[0m: \tdata_path: /data2\n",
      "\u001b[34m\u001b[1mwandb\u001b[0m: \tdecay: 0.9196143623935266\n",
      "\u001b[34m\u001b[1mwandb\u001b[0m: \tdvs_clipping: True\n",
      "\u001b[34m\u001b[1mwandb\u001b[0m: \tdvs_duration: 100000\n",
      "\u001b[34m\u001b[1mwandb\u001b[0m: \tlearning_rate: 0.024135871042400947\n",
      "\u001b[34m\u001b[1mwandb\u001b[0m: \tno_reservoir: True\n",
      "\u001b[34m\u001b[1mwandb\u001b[0m: \tpre_spike_weight: 5.264884436871869\n",
      "\u001b[34m\u001b[1mwandb\u001b[0m: \trate_coding: True\n",
      "\u001b[34m\u001b[1mwandb\u001b[0m: \ttime_step: 8\n",
      "\u001b[34m\u001b[1mwandb\u001b[0m: \twhich_data: DVS_GESTURE\n",
      "Failed to detect the name of this notebook, you can set it manually with the WANDB_NOTEBOOK_NAME environment variable to enable code saving.\n"
     ]
    },
    {
     "data": {
      "text/html": [
       "Tracking run with wandb version 0.17.5"
      ],
      "text/plain": [
       "<IPython.core.display.HTML object>"
      ]
     },
     "metadata": {},
     "output_type": "display_data"
    },
    {
     "data": {
      "text/html": [
       "Run data is saved locally in <code>/nfs/home/bhkim003/github_folder/ByeonghyeonKim/my_snn/wandb/run-20240728_005120-m26d2xbi</code>"
      ],
      "text/plain": [
       "<IPython.core.display.HTML object>"
      ]
     },
     "metadata": {},
     "output_type": "display_data"
    },
    {
     "data": {
      "text/html": [
       "Syncing run <strong><a href='https://wandb.ai/bhkim003-seoul-national-university/reservoir/runs/m26d2xbi' target=\"_blank\">hopeful-sweep-58</a></strong> to <a href='https://wandb.ai/bhkim003-seoul-national-university/reservoir' target=\"_blank\">Weights & Biases</a> (<a href='https://wandb.me/run' target=\"_blank\">docs</a>)<br/>Sweep page: <a href='https://wandb.ai/bhkim003-seoul-national-university/reservoir/sweeps/sxt07a51' target=\"_blank\">https://wandb.ai/bhkim003-seoul-national-university/reservoir/sweeps/sxt07a51</a>"
      ],
      "text/plain": [
       "<IPython.core.display.HTML object>"
      ]
     },
     "metadata": {},
     "output_type": "display_data"
    },
    {
     "data": {
      "text/html": [
       " View project at <a href='https://wandb.ai/bhkim003-seoul-national-university/reservoir' target=\"_blank\">https://wandb.ai/bhkim003-seoul-national-university/reservoir</a>"
      ],
      "text/plain": [
       "<IPython.core.display.HTML object>"
      ]
     },
     "metadata": {},
     "output_type": "display_data"
    },
    {
     "data": {
      "text/html": [
       " View sweep at <a href='https://wandb.ai/bhkim003-seoul-national-university/reservoir/sweeps/sxt07a51' target=\"_blank\">https://wandb.ai/bhkim003-seoul-national-university/reservoir/sweeps/sxt07a51</a>"
      ],
      "text/plain": [
       "<IPython.core.display.HTML object>"
      ]
     },
     "metadata": {},
     "output_type": "display_data"
    },
    {
     "data": {
      "text/html": [
       " View run at <a href='https://wandb.ai/bhkim003-seoul-national-university/reservoir/runs/m26d2xbi' target=\"_blank\">https://wandb.ai/bhkim003-seoul-national-university/reservoir/runs/m26d2xbi</a>"
      ],
      "text/plain": [
       "<IPython.core.display.HTML object>"
      ]
     },
     "metadata": {},
     "output_type": "display_data"
    },
    {
     "name": "stderr",
     "output_type": "stream",
     "text": [
      "\u001b[34m\u001b[1mwandb\u001b[0m: \u001b[33mWARNING\u001b[0m Config item 'data_path' was locked by 'sweep' (ignored update).\n",
      "\u001b[34m\u001b[1mwandb\u001b[0m: \u001b[33mWARNING\u001b[0m Config item 'which_data' was locked by 'sweep' (ignored update).\n",
      "\u001b[34m\u001b[1mwandb\u001b[0m: \u001b[33mWARNING\u001b[0m Config item 'learning_rate' was locked by 'sweep' (ignored update).\n",
      "\u001b[34m\u001b[1mwandb\u001b[0m: \u001b[33mWARNING\u001b[0m Config item 'IMAGE_SIZE' was locked by 'sweep' (ignored update).\n",
      "\u001b[34m\u001b[1mwandb\u001b[0m: \u001b[33mWARNING\u001b[0m Config item 'EPOCH' was locked by 'sweep' (ignored update).\n",
      "\u001b[34m\u001b[1mwandb\u001b[0m: \u001b[33mWARNING\u001b[0m Config item 'rate_coding' was locked by 'sweep' (ignored update).\n",
      "\u001b[34m\u001b[1mwandb\u001b[0m: \u001b[33mWARNING\u001b[0m Config item 'pre_spike_weight' was locked by 'sweep' (ignored update).\n",
      "\u001b[34m\u001b[1mwandb\u001b[0m: \u001b[33mWARNING\u001b[0m Config item 'dvs_duration' was locked by 'sweep' (ignored update).\n",
      "\u001b[34m\u001b[1mwandb\u001b[0m: \u001b[33mWARNING\u001b[0m Config item 'dvs_clipping' was locked by 'sweep' (ignored update).\n",
      "\u001b[34m\u001b[1mwandb\u001b[0m: \u001b[33mWARNING\u001b[0m Config item 'no_reservoir' was locked by 'sweep' (ignored update).\n",
      "\u001b[34m\u001b[1mwandb\u001b[0m: \u001b[33mWARNING\u001b[0m Config item 'FC_RESERVOIR' was locked by 'sweep' (ignored update).\n"
     ]
    },
    {
     "name": "stdout",
     "output_type": "stream",
     "text": [
      "The directory [/data2/gesture/duration_100000] already exists.\n",
      "The directory [/data2/gesture/duration_100000] already exists.\n",
      "RESERVOIR_NET(\n",
      "  (classifier): Linear(in_features=32768, out_features=10, bias=True)\n",
      ")\n",
      "Epoch 1\n",
      "Train Accuracy: 42.58%\n",
      "Test loss: 1.753, Val Accuracy: 54.92%\n",
      "Epoch 2\n",
      "Train Accuracy: 69.02%\n",
      "Test loss: 1.475, Val Accuracy: 60.61%\n",
      "Epoch 3\n",
      "Train Accuracy: 78.57%\n",
      "Test loss: 1.136, Val Accuracy: 66.29%\n",
      "Epoch 4\n",
      "Train Accuracy: 83.86%\n",
      "Test loss: 1.158, Val Accuracy: 62.50%\n",
      "Epoch 5\n",
      "Train Accuracy: 89.52%\n",
      "Test loss: 1.212, Val Accuracy: 57.58%\n",
      "Epoch 6\n",
      "Train Accuracy: 93.69%\n",
      "Test loss: 1.206, Val Accuracy: 66.29%\n",
      "Epoch 7\n",
      "Train Accuracy: 95.92%\n",
      "Test loss: 1.212, Val Accuracy: 69.70%\n",
      "Epoch 8\n",
      "Train Accuracy: 98.98%\n",
      "Test loss: 1.108, Val Accuracy: 71.59%\n",
      "Epoch 9\n",
      "Train Accuracy: 99.44%\n",
      "Test loss: 1.049, Val Accuracy: 67.80%\n",
      "Epoch 10\n",
      "Train Accuracy: 99.72%\n",
      "Test loss: 1.189, Val Accuracy: 69.70%\n",
      "Epoch 11\n",
      "Train Accuracy: 99.91%\n",
      "Test loss: 1.191, Val Accuracy: 71.97%\n",
      "Epoch 12\n",
      "Train Accuracy: 99.91%\n",
      "Test loss: 1.137, Val Accuracy: 72.73%\n",
      "Epoch 13\n",
      "Train Accuracy: 100.00%\n",
      "Test loss: 1.191, Val Accuracy: 70.83%\n",
      "Epoch 14\n",
      "Train Accuracy: 100.00%\n",
      "Test loss: 1.223, Val Accuracy: 68.94%\n",
      "Epoch 15\n",
      "Train Accuracy: 100.00%\n",
      "Test loss: 1.181, Val Accuracy: 68.18%\n",
      "Epoch 16\n",
      "Train Accuracy: 100.00%\n",
      "Test loss: 1.190, Val Accuracy: 71.21%\n",
      "Epoch 17\n",
      "Train Accuracy: 100.00%\n",
      "Test loss: 1.248, Val Accuracy: 70.45%\n",
      "Epoch 18\n",
      "Train Accuracy: 100.00%\n",
      "Test loss: 1.210, Val Accuracy: 66.67%\n",
      "Epoch 19\n",
      "Train Accuracy: 100.00%\n",
      "Test loss: 1.190, Val Accuracy: 70.45%\n",
      "Epoch 20\n",
      "Train Accuracy: 100.00%\n",
      "Test loss: 1.230, Val Accuracy: 70.83%\n"
     ]
    },
    {
     "data": {
      "application/vnd.jupyter.widget-view+json": {
       "model_id": "2d29139a39974dd694e232ffc6b00ee5",
       "version_major": 2,
       "version_minor": 0
      },
      "text/plain": [
       "VBox(children=(Label(value='0.326 MB of 0.326 MB uploaded\\r'), FloatProgress(value=1.0, max=1.0)))"
      ]
     },
     "metadata": {},
     "output_type": "display_data"
    },
    {
     "data": {
      "text/html": [
       "<style>\n",
       "    table.wandb td:nth-child(1) { padding: 0 10px; text-align: left ; width: auto;} td:nth-child(2) {text-align: left ; width: 100%}\n",
       "    .wandb-row { display: flex; flex-direction: row; flex-wrap: wrap; justify-content: flex-start; width: 100% }\n",
       "    .wandb-col { display: flex; flex-direction: column; flex-basis: 100%; flex: 1; padding: 10px; }\n",
       "    </style>\n",
       "<div class=\"wandb-row\"><div class=\"wandb-col\"><h3>Run history:</h3><br/><table class=\"wandb\"><tr><td>epoch</td><td>▁▁▂▂▂▃▃▄▄▄▅▅▅▆▆▇▇▇██</td></tr><tr><td>iter_accuracy</td><td>▁▅▅▅▆▆▇▇▇▇▇▇▇███████████████████████████</td></tr><tr><td>tr_accuracy</td><td>▁▄▅▆▇▇██████████████</td></tr><tr><td>val_accuracy</td><td>▁▃▅▄▂▅▇█▆▇██▇▇▆▇▇▆▇▇</td></tr></table><br/></div><div class=\"wandb-col\"><h3>Run summary:</h3><br/><table class=\"wandb\"><tr><td>epoch</td><td>19</td></tr><tr><td>iter_accuracy</td><td>100.0</td></tr><tr><td>tr_accuracy</td><td>100.0</td></tr><tr><td>val_accuracy</td><td>70.83333</td></tr></table><br/></div></div>"
      ],
      "text/plain": [
       "<IPython.core.display.HTML object>"
      ]
     },
     "metadata": {},
     "output_type": "display_data"
    },
    {
     "data": {
      "text/html": [
       " View run <strong style=\"color:#cdcd00\">hopeful-sweep-58</strong> at: <a href='https://wandb.ai/bhkim003-seoul-national-university/reservoir/runs/m26d2xbi' target=\"_blank\">https://wandb.ai/bhkim003-seoul-national-university/reservoir/runs/m26d2xbi</a><br/> View project at: <a href='https://wandb.ai/bhkim003-seoul-national-university/reservoir' target=\"_blank\">https://wandb.ai/bhkim003-seoul-national-university/reservoir</a><br/>Synced 7 W&B file(s), 0 media file(s), 0 artifact file(s) and 1 other file(s)"
      ],
      "text/plain": [
       "<IPython.core.display.HTML object>"
      ]
     },
     "metadata": {},
     "output_type": "display_data"
    },
    {
     "data": {
      "text/html": [
       "Find logs at: <code>./wandb/run-20240728_005120-m26d2xbi/logs</code>"
      ],
      "text/plain": [
       "<IPython.core.display.HTML object>"
      ]
     },
     "metadata": {},
     "output_type": "display_data"
    },
    {
     "data": {
      "text/html": [
       "The new W&B backend becomes opt-out in version 0.18.0; try it out with `wandb.require(\"core\")`! See https://wandb.me/wandb-core for more information."
      ],
      "text/plain": [
       "<IPython.core.display.HTML object>"
      ]
     },
     "metadata": {},
     "output_type": "display_data"
    },
    {
     "name": "stderr",
     "output_type": "stream",
     "text": [
      "\u001b[34m\u001b[1mwandb\u001b[0m: Sweep Agent: Waiting for job.\n",
      "\u001b[34m\u001b[1mwandb\u001b[0m: Job received.\n",
      "\u001b[34m\u001b[1mwandb\u001b[0m: Agent Starting Run: cevgtcem with config:\n",
      "\u001b[34m\u001b[1mwandb\u001b[0m: \tEPOCH: 20\n",
      "\u001b[34m\u001b[1mwandb\u001b[0m: \tFC_RESERVOIR: True\n",
      "\u001b[34m\u001b[1mwandb\u001b[0m: \tIMAGE_SIZE: 32\n",
      "\u001b[34m\u001b[1mwandb\u001b[0m: \tbatch_size: 16\n",
      "\u001b[34m\u001b[1mwandb\u001b[0m: \tdata_path: /data2\n",
      "\u001b[34m\u001b[1mwandb\u001b[0m: \tdecay: 0.9330206408235568\n",
      "\u001b[34m\u001b[1mwandb\u001b[0m: \tdvs_clipping: True\n",
      "\u001b[34m\u001b[1mwandb\u001b[0m: \tdvs_duration: 100000\n",
      "\u001b[34m\u001b[1mwandb\u001b[0m: \tlearning_rate: 0.00036942237603951024\n",
      "\u001b[34m\u001b[1mwandb\u001b[0m: \tno_reservoir: False\n",
      "\u001b[34m\u001b[1mwandb\u001b[0m: \tpre_spike_weight: 6.853294252162794\n",
      "\u001b[34m\u001b[1mwandb\u001b[0m: \trate_coding: True\n",
      "\u001b[34m\u001b[1mwandb\u001b[0m: \ttime_step: 8\n",
      "\u001b[34m\u001b[1mwandb\u001b[0m: \twhich_data: DVS_GESTURE\n",
      "Failed to detect the name of this notebook, you can set it manually with the WANDB_NOTEBOOK_NAME environment variable to enable code saving.\n"
     ]
    },
    {
     "data": {
      "text/html": [
       "Tracking run with wandb version 0.17.5"
      ],
      "text/plain": [
       "<IPython.core.display.HTML object>"
      ]
     },
     "metadata": {},
     "output_type": "display_data"
    },
    {
     "data": {
      "text/html": [
       "Run data is saved locally in <code>/nfs/home/bhkim003/github_folder/ByeonghyeonKim/my_snn/wandb/run-20240728_011122-cevgtcem</code>"
      ],
      "text/plain": [
       "<IPython.core.display.HTML object>"
      ]
     },
     "metadata": {},
     "output_type": "display_data"
    },
    {
     "data": {
      "text/html": [
       "Syncing run <strong><a href='https://wandb.ai/bhkim003-seoul-national-university/reservoir/runs/cevgtcem' target=\"_blank\">fluent-sweep-59</a></strong> to <a href='https://wandb.ai/bhkim003-seoul-national-university/reservoir' target=\"_blank\">Weights & Biases</a> (<a href='https://wandb.me/run' target=\"_blank\">docs</a>)<br/>Sweep page: <a href='https://wandb.ai/bhkim003-seoul-national-university/reservoir/sweeps/sxt07a51' target=\"_blank\">https://wandb.ai/bhkim003-seoul-national-university/reservoir/sweeps/sxt07a51</a>"
      ],
      "text/plain": [
       "<IPython.core.display.HTML object>"
      ]
     },
     "metadata": {},
     "output_type": "display_data"
    },
    {
     "data": {
      "text/html": [
       " View project at <a href='https://wandb.ai/bhkim003-seoul-national-university/reservoir' target=\"_blank\">https://wandb.ai/bhkim003-seoul-national-university/reservoir</a>"
      ],
      "text/plain": [
       "<IPython.core.display.HTML object>"
      ]
     },
     "metadata": {},
     "output_type": "display_data"
    },
    {
     "data": {
      "text/html": [
       " View sweep at <a href='https://wandb.ai/bhkim003-seoul-national-university/reservoir/sweeps/sxt07a51' target=\"_blank\">https://wandb.ai/bhkim003-seoul-national-university/reservoir/sweeps/sxt07a51</a>"
      ],
      "text/plain": [
       "<IPython.core.display.HTML object>"
      ]
     },
     "metadata": {},
     "output_type": "display_data"
    },
    {
     "data": {
      "text/html": [
       " View run at <a href='https://wandb.ai/bhkim003-seoul-national-university/reservoir/runs/cevgtcem' target=\"_blank\">https://wandb.ai/bhkim003-seoul-national-university/reservoir/runs/cevgtcem</a>"
      ],
      "text/plain": [
       "<IPython.core.display.HTML object>"
      ]
     },
     "metadata": {},
     "output_type": "display_data"
    },
    {
     "name": "stderr",
     "output_type": "stream",
     "text": [
      "\u001b[34m\u001b[1mwandb\u001b[0m: \u001b[33mWARNING\u001b[0m Config item 'data_path' was locked by 'sweep' (ignored update).\n",
      "\u001b[34m\u001b[1mwandb\u001b[0m: \u001b[33mWARNING\u001b[0m Config item 'which_data' was locked by 'sweep' (ignored update).\n",
      "\u001b[34m\u001b[1mwandb\u001b[0m: \u001b[33mWARNING\u001b[0m Config item 'learning_rate' was locked by 'sweep' (ignored update).\n",
      "\u001b[34m\u001b[1mwandb\u001b[0m: \u001b[33mWARNING\u001b[0m Config item 'IMAGE_SIZE' was locked by 'sweep' (ignored update).\n",
      "\u001b[34m\u001b[1mwandb\u001b[0m: \u001b[33mWARNING\u001b[0m Config item 'EPOCH' was locked by 'sweep' (ignored update).\n",
      "\u001b[34m\u001b[1mwandb\u001b[0m: \u001b[33mWARNING\u001b[0m Config item 'rate_coding' was locked by 'sweep' (ignored update).\n",
      "\u001b[34m\u001b[1mwandb\u001b[0m: \u001b[33mWARNING\u001b[0m Config item 'pre_spike_weight' was locked by 'sweep' (ignored update).\n",
      "\u001b[34m\u001b[1mwandb\u001b[0m: \u001b[33mWARNING\u001b[0m Config item 'dvs_duration' was locked by 'sweep' (ignored update).\n",
      "\u001b[34m\u001b[1mwandb\u001b[0m: \u001b[33mWARNING\u001b[0m Config item 'dvs_clipping' was locked by 'sweep' (ignored update).\n",
      "\u001b[34m\u001b[1mwandb\u001b[0m: \u001b[33mWARNING\u001b[0m Config item 'no_reservoir' was locked by 'sweep' (ignored update).\n",
      "\u001b[34m\u001b[1mwandb\u001b[0m: \u001b[33mWARNING\u001b[0m Config item 'FC_RESERVOIR' was locked by 'sweep' (ignored update).\n"
     ]
    },
    {
     "name": "stdout",
     "output_type": "stream",
     "text": [
      "The directory [/data2/gesture/duration_100000] already exists.\n",
      "The directory [/data2/gesture/duration_100000] already exists.\n",
      "RESERVOIR_NET(\n",
      "  (reservoir): RESERVOIR(\n",
      "    (reservoir): Linear(in_features=2048, out_features=2048, bias=True)\n",
      "  )\n",
      "  (classifier): Linear(in_features=2048, out_features=10, bias=True)\n",
      ")\n",
      "Epoch 1\n",
      "Train Accuracy: 17.90%\n",
      "Test loss: 2.033, Val Accuracy: 34.47%\n",
      "Epoch 2\n",
      "Train Accuracy: 38.87%\n",
      "Test loss: 1.854, Val Accuracy: 44.32%\n",
      "Epoch 3\n",
      "Train Accuracy: 47.50%\n",
      "Test loss: 1.727, Val Accuracy: 45.45%\n",
      "Epoch 4\n",
      "Train Accuracy: 51.67%\n",
      "Test loss: 1.643, Val Accuracy: 45.45%\n",
      "Epoch 5\n",
      "Train Accuracy: 53.99%\n",
      "Test loss: 1.568, Val Accuracy: 50.76%\n",
      "Epoch 6\n",
      "Train Accuracy: 55.84%\n",
      "Test loss: 1.506, Val Accuracy: 52.65%\n",
      "Epoch 7\n",
      "Train Accuracy: 56.86%\n",
      "Test loss: 1.470, Val Accuracy: 51.14%\n",
      "Epoch 8\n",
      "Train Accuracy: 58.91%\n",
      "Test loss: 1.428, Val Accuracy: 53.79%\n",
      "Epoch 9\n",
      "Train Accuracy: 60.02%\n",
      "Test loss: 1.402, Val Accuracy: 54.92%\n",
      "Epoch 10\n",
      "Train Accuracy: 60.11%\n",
      "Test loss: 1.377, Val Accuracy: 52.65%\n",
      "Epoch 11\n",
      "Train Accuracy: 60.48%\n",
      "Test loss: 1.360, Val Accuracy: 56.44%\n",
      "Epoch 12\n",
      "Train Accuracy: 64.75%\n",
      "Test loss: 1.339, Val Accuracy: 55.68%\n",
      "Epoch 13\n",
      "Train Accuracy: 66.51%\n",
      "Test loss: 1.317, Val Accuracy: 54.17%\n",
      "Epoch 14\n",
      "Train Accuracy: 66.05%\n",
      "Test loss: 1.294, Val Accuracy: 54.92%\n",
      "Epoch 15\n",
      "Train Accuracy: 67.81%\n",
      "Test loss: 1.282, Val Accuracy: 57.95%\n",
      "Epoch 16\n",
      "Train Accuracy: 68.65%\n",
      "Test loss: 1.266, Val Accuracy: 57.95%\n",
      "Epoch 17\n",
      "Train Accuracy: 69.39%\n",
      "Test loss: 1.257, Val Accuracy: 55.68%\n",
      "Epoch 18\n",
      "Train Accuracy: 69.48%\n",
      "Test loss: 1.245, Val Accuracy: 56.82%\n",
      "Epoch 19\n",
      "Train Accuracy: 70.13%\n",
      "Test loss: 1.232, Val Accuracy: 59.47%\n",
      "Epoch 20\n",
      "Train Accuracy: 72.45%\n",
      "Test loss: 1.218, Val Accuracy: 61.36%\n"
     ]
    },
    {
     "data": {
      "application/vnd.jupyter.widget-view+json": {
       "model_id": "355ab132c1c9415c92eee9fefa9e7a82",
       "version_major": 2,
       "version_minor": 0
      },
      "text/plain": [
       "VBox(children=(Label(value='0.326 MB of 0.326 MB uploaded\\r'), FloatProgress(value=1.0, max=1.0)))"
      ]
     },
     "metadata": {},
     "output_type": "display_data"
    },
    {
     "data": {
      "text/html": [
       "<style>\n",
       "    table.wandb td:nth-child(1) { padding: 0 10px; text-align: left ; width: auto;} td:nth-child(2) {text-align: left ; width: 100%}\n",
       "    .wandb-row { display: flex; flex-direction: row; flex-wrap: wrap; justify-content: flex-start; width: 100% }\n",
       "    .wandb-col { display: flex; flex-direction: column; flex-basis: 100%; flex: 1; padding: 10px; }\n",
       "    </style>\n",
       "<div class=\"wandb-row\"><div class=\"wandb-col\"><h3>Run history:</h3><br/><table class=\"wandb\"><tr><td>epoch</td><td>▁▁▂▂▂▃▃▄▄▄▅▅▅▆▆▇▇▇██</td></tr><tr><td>iter_accuracy</td><td>▂▁▅▅▄▆▅▅▅▄▅▅▄▅▅▅▆▅▅▅▅▆▅▇▆▆▆▅▅▆▆▇▆▆▆▆▅▇▇█</td></tr><tr><td>tr_accuracy</td><td>▁▄▅▅▆▆▆▆▆▆▆▇▇▇▇█████</td></tr><tr><td>val_accuracy</td><td>▁▄▄▄▅▆▅▆▆▆▇▇▆▆▇▇▇▇██</td></tr></table><br/></div><div class=\"wandb-col\"><h3>Run summary:</h3><br/><table class=\"wandb\"><tr><td>epoch</td><td>19</td></tr><tr><td>iter_accuracy</td><td>100.0</td></tr><tr><td>tr_accuracy</td><td>72.44898</td></tr><tr><td>val_accuracy</td><td>61.36364</td></tr></table><br/></div></div>"
      ],
      "text/plain": [
       "<IPython.core.display.HTML object>"
      ]
     },
     "metadata": {},
     "output_type": "display_data"
    },
    {
     "data": {
      "text/html": [
       " View run <strong style=\"color:#cdcd00\">fluent-sweep-59</strong> at: <a href='https://wandb.ai/bhkim003-seoul-national-university/reservoir/runs/cevgtcem' target=\"_blank\">https://wandb.ai/bhkim003-seoul-national-university/reservoir/runs/cevgtcem</a><br/> View project at: <a href='https://wandb.ai/bhkim003-seoul-national-university/reservoir' target=\"_blank\">https://wandb.ai/bhkim003-seoul-national-university/reservoir</a><br/>Synced 7 W&B file(s), 0 media file(s), 0 artifact file(s) and 1 other file(s)"
      ],
      "text/plain": [
       "<IPython.core.display.HTML object>"
      ]
     },
     "metadata": {},
     "output_type": "display_data"
    },
    {
     "data": {
      "text/html": [
       "Find logs at: <code>./wandb/run-20240728_011122-cevgtcem/logs</code>"
      ],
      "text/plain": [
       "<IPython.core.display.HTML object>"
      ]
     },
     "metadata": {},
     "output_type": "display_data"
    },
    {
     "data": {
      "text/html": [
       "The new W&B backend becomes opt-out in version 0.18.0; try it out with `wandb.require(\"core\")`! See https://wandb.me/wandb-core for more information."
      ],
      "text/plain": [
       "<IPython.core.display.HTML object>"
      ]
     },
     "metadata": {},
     "output_type": "display_data"
    },
    {
     "name": "stderr",
     "output_type": "stream",
     "text": [
      "\u001b[34m\u001b[1mwandb\u001b[0m: Sweep Agent: Waiting for job.\n",
      "\u001b[34m\u001b[1mwandb\u001b[0m: Job received.\n",
      "\u001b[34m\u001b[1mwandb\u001b[0m: Agent Starting Run: mxgn5msf with config:\n",
      "\u001b[34m\u001b[1mwandb\u001b[0m: \tEPOCH: 20\n",
      "\u001b[34m\u001b[1mwandb\u001b[0m: \tFC_RESERVOIR: True\n",
      "\u001b[34m\u001b[1mwandb\u001b[0m: \tIMAGE_SIZE: 48\n",
      "\u001b[34m\u001b[1mwandb\u001b[0m: \tbatch_size: 16\n",
      "\u001b[34m\u001b[1mwandb\u001b[0m: \tdata_path: /data2\n",
      "\u001b[34m\u001b[1mwandb\u001b[0m: \tdecay: 0.6763390624466105\n",
      "\u001b[34m\u001b[1mwandb\u001b[0m: \tdvs_clipping: True\n",
      "\u001b[34m\u001b[1mwandb\u001b[0m: \tdvs_duration: 100000\n",
      "\u001b[34m\u001b[1mwandb\u001b[0m: \tlearning_rate: 0.09640296299009853\n",
      "\u001b[34m\u001b[1mwandb\u001b[0m: \tno_reservoir: True\n",
      "\u001b[34m\u001b[1mwandb\u001b[0m: \tpre_spike_weight: 9.561690431384632\n",
      "\u001b[34m\u001b[1mwandb\u001b[0m: \trate_coding: False\n",
      "\u001b[34m\u001b[1mwandb\u001b[0m: \ttime_step: 4\n",
      "\u001b[34m\u001b[1mwandb\u001b[0m: \twhich_data: DVS_GESTURE\n",
      "Failed to detect the name of this notebook, you can set it manually with the WANDB_NOTEBOOK_NAME environment variable to enable code saving.\n"
     ]
    },
    {
     "data": {
      "text/html": [
       "Tracking run with wandb version 0.17.5"
      ],
      "text/plain": [
       "<IPython.core.display.HTML object>"
      ]
     },
     "metadata": {},
     "output_type": "display_data"
    },
    {
     "data": {
      "text/html": [
       "Run data is saved locally in <code>/nfs/home/bhkim003/github_folder/ByeonghyeonKim/my_snn/wandb/run-20240728_012453-mxgn5msf</code>"
      ],
      "text/plain": [
       "<IPython.core.display.HTML object>"
      ]
     },
     "metadata": {},
     "output_type": "display_data"
    },
    {
     "data": {
      "text/html": [
       "Syncing run <strong><a href='https://wandb.ai/bhkim003-seoul-national-university/reservoir/runs/mxgn5msf' target=\"_blank\">effortless-sweep-60</a></strong> to <a href='https://wandb.ai/bhkim003-seoul-national-university/reservoir' target=\"_blank\">Weights & Biases</a> (<a href='https://wandb.me/run' target=\"_blank\">docs</a>)<br/>Sweep page: <a href='https://wandb.ai/bhkim003-seoul-national-university/reservoir/sweeps/sxt07a51' target=\"_blank\">https://wandb.ai/bhkim003-seoul-national-university/reservoir/sweeps/sxt07a51</a>"
      ],
      "text/plain": [
       "<IPython.core.display.HTML object>"
      ]
     },
     "metadata": {},
     "output_type": "display_data"
    },
    {
     "data": {
      "text/html": [
       " View project at <a href='https://wandb.ai/bhkim003-seoul-national-university/reservoir' target=\"_blank\">https://wandb.ai/bhkim003-seoul-national-university/reservoir</a>"
      ],
      "text/plain": [
       "<IPython.core.display.HTML object>"
      ]
     },
     "metadata": {},
     "output_type": "display_data"
    },
    {
     "data": {
      "text/html": [
       " View sweep at <a href='https://wandb.ai/bhkim003-seoul-national-university/reservoir/sweeps/sxt07a51' target=\"_blank\">https://wandb.ai/bhkim003-seoul-national-university/reservoir/sweeps/sxt07a51</a>"
      ],
      "text/plain": [
       "<IPython.core.display.HTML object>"
      ]
     },
     "metadata": {},
     "output_type": "display_data"
    },
    {
     "data": {
      "text/html": [
       " View run at <a href='https://wandb.ai/bhkim003-seoul-national-university/reservoir/runs/mxgn5msf' target=\"_blank\">https://wandb.ai/bhkim003-seoul-national-university/reservoir/runs/mxgn5msf</a>"
      ],
      "text/plain": [
       "<IPython.core.display.HTML object>"
      ]
     },
     "metadata": {},
     "output_type": "display_data"
    },
    {
     "name": "stderr",
     "output_type": "stream",
     "text": [
      "\u001b[34m\u001b[1mwandb\u001b[0m: \u001b[33mWARNING\u001b[0m Config item 'data_path' was locked by 'sweep' (ignored update).\n",
      "\u001b[34m\u001b[1mwandb\u001b[0m: \u001b[33mWARNING\u001b[0m Config item 'which_data' was locked by 'sweep' (ignored update).\n",
      "\u001b[34m\u001b[1mwandb\u001b[0m: \u001b[33mWARNING\u001b[0m Config item 'learning_rate' was locked by 'sweep' (ignored update).\n",
      "\u001b[34m\u001b[1mwandb\u001b[0m: \u001b[33mWARNING\u001b[0m Config item 'IMAGE_SIZE' was locked by 'sweep' (ignored update).\n",
      "\u001b[34m\u001b[1mwandb\u001b[0m: \u001b[33mWARNING\u001b[0m Config item 'EPOCH' was locked by 'sweep' (ignored update).\n",
      "\u001b[34m\u001b[1mwandb\u001b[0m: \u001b[33mWARNING\u001b[0m Config item 'rate_coding' was locked by 'sweep' (ignored update).\n",
      "\u001b[34m\u001b[1mwandb\u001b[0m: \u001b[33mWARNING\u001b[0m Config item 'pre_spike_weight' was locked by 'sweep' (ignored update).\n",
      "\u001b[34m\u001b[1mwandb\u001b[0m: \u001b[33mWARNING\u001b[0m Config item 'dvs_duration' was locked by 'sweep' (ignored update).\n",
      "\u001b[34m\u001b[1mwandb\u001b[0m: \u001b[33mWARNING\u001b[0m Config item 'dvs_clipping' was locked by 'sweep' (ignored update).\n",
      "\u001b[34m\u001b[1mwandb\u001b[0m: \u001b[33mWARNING\u001b[0m Config item 'no_reservoir' was locked by 'sweep' (ignored update).\n",
      "\u001b[34m\u001b[1mwandb\u001b[0m: \u001b[33mWARNING\u001b[0m Config item 'FC_RESERVOIR' was locked by 'sweep' (ignored update).\n"
     ]
    },
    {
     "name": "stdout",
     "output_type": "stream",
     "text": [
      "The directory [/data2/gesture/duration_100000] already exists.\n",
      "The directory [/data2/gesture/duration_100000] already exists.\n",
      "RESERVOIR_NET(\n",
      "  (classifier): Linear(in_features=4608, out_features=10, bias=True)\n",
      ")\n",
      "Epoch 1\n",
      "Train Accuracy: 40.54%\n",
      "Test loss: 8.932, Val Accuracy: 42.42%\n",
      "Epoch 2\n",
      "Train Accuracy: 71.24%\n",
      "Test loss: 8.979, Val Accuracy: 46.21%\n",
      "Epoch 3\n",
      "Train Accuracy: 78.20%\n",
      "Test loss: 7.426, Val Accuracy: 48.48%\n",
      "Epoch 4\n",
      "Train Accuracy: 85.81%\n",
      "Test loss: 6.337, Val Accuracy: 51.52%\n",
      "Epoch 5\n",
      "Train Accuracy: 92.86%\n",
      "Test loss: 5.101, Val Accuracy: 56.06%\n",
      "Epoch 6\n",
      "Train Accuracy: 95.92%\n",
      "Test loss: 4.519, Val Accuracy: 56.44%\n",
      "Epoch 7\n",
      "Train Accuracy: 98.42%\n",
      "Test loss: 5.252, Val Accuracy: 54.17%\n",
      "Epoch 8\n",
      "Train Accuracy: 99.91%\n",
      "Test loss: 4.334, Val Accuracy: 56.82%\n",
      "Epoch 9\n",
      "Train Accuracy: 100.00%\n",
      "Test loss: 4.539, Val Accuracy: 56.44%\n",
      "Epoch 10\n",
      "Train Accuracy: 100.00%\n",
      "Test loss: 4.496, Val Accuracy: 55.30%\n",
      "Epoch 11\n",
      "Train Accuracy: 100.00%\n",
      "Test loss: 4.482, Val Accuracy: 55.68%\n",
      "Epoch 12\n",
      "Train Accuracy: 100.00%\n",
      "Test loss: 4.475, Val Accuracy: 55.68%\n",
      "Epoch 13\n",
      "Train Accuracy: 100.00%\n",
      "Test loss: 4.471, Val Accuracy: 55.68%\n",
      "Epoch 14\n",
      "Train Accuracy: 100.00%\n",
      "Test loss: 4.463, Val Accuracy: 55.68%\n",
      "Epoch 15\n",
      "Train Accuracy: 100.00%\n",
      "Test loss: 4.455, Val Accuracy: 55.68%\n",
      "Epoch 16\n",
      "Train Accuracy: 100.00%\n",
      "Test loss: 4.452, Val Accuracy: 55.68%\n",
      "Epoch 17\n",
      "Train Accuracy: 100.00%\n",
      "Test loss: 4.442, Val Accuracy: 56.06%\n",
      "Epoch 18\n",
      "Train Accuracy: 100.00%\n",
      "Test loss: 4.439, Val Accuracy: 56.06%\n",
      "Epoch 19\n",
      "Train Accuracy: 100.00%\n",
      "Test loss: 4.434, Val Accuracy: 56.06%\n",
      "Epoch 20\n",
      "Train Accuracy: 100.00%\n",
      "Test loss: 4.431, Val Accuracy: 56.06%\n"
     ]
    },
    {
     "data": {
      "application/vnd.jupyter.widget-view+json": {
       "model_id": "a92eefb3c7104628ba0480fb234d05d6",
       "version_major": 2,
       "version_minor": 0
      },
      "text/plain": [
       "VBox(children=(Label(value='0.326 MB of 0.326 MB uploaded\\r'), FloatProgress(value=1.0, max=1.0)))"
      ]
     },
     "metadata": {},
     "output_type": "display_data"
    },
    {
     "data": {
      "text/html": [
       "<style>\n",
       "    table.wandb td:nth-child(1) { padding: 0 10px; text-align: left ; width: auto;} td:nth-child(2) {text-align: left ; width: 100%}\n",
       "    .wandb-row { display: flex; flex-direction: row; flex-wrap: wrap; justify-content: flex-start; width: 100% }\n",
       "    .wandb-col { display: flex; flex-direction: column; flex-basis: 100%; flex: 1; padding: 10px; }\n",
       "    </style>\n",
       "<div class=\"wandb-row\"><div class=\"wandb-col\"><h3>Run history:</h3><br/><table class=\"wandb\"><tr><td>epoch</td><td>▁▁▂▂▂▃▃▄▄▄▅▅▅▆▆▇▇▇██</td></tr><tr><td>iter_accuracy</td><td>▁▃▄▅▇▄▄▇▆███████████████████████████████</td></tr><tr><td>tr_accuracy</td><td>▁▅▅▆▇███████████████</td></tr><tr><td>val_accuracy</td><td>▁▃▄▅██▇██▇▇▇▇▇▇▇████</td></tr></table><br/></div><div class=\"wandb-col\"><h3>Run summary:</h3><br/><table class=\"wandb\"><tr><td>epoch</td><td>19</td></tr><tr><td>iter_accuracy</td><td>100.0</td></tr><tr><td>tr_accuracy</td><td>100.0</td></tr><tr><td>val_accuracy</td><td>56.06061</td></tr></table><br/></div></div>"
      ],
      "text/plain": [
       "<IPython.core.display.HTML object>"
      ]
     },
     "metadata": {},
     "output_type": "display_data"
    },
    {
     "data": {
      "text/html": [
       " View run <strong style=\"color:#cdcd00\">effortless-sweep-60</strong> at: <a href='https://wandb.ai/bhkim003-seoul-national-university/reservoir/runs/mxgn5msf' target=\"_blank\">https://wandb.ai/bhkim003-seoul-national-university/reservoir/runs/mxgn5msf</a><br/> View project at: <a href='https://wandb.ai/bhkim003-seoul-national-university/reservoir' target=\"_blank\">https://wandb.ai/bhkim003-seoul-national-university/reservoir</a><br/>Synced 7 W&B file(s), 0 media file(s), 0 artifact file(s) and 1 other file(s)"
      ],
      "text/plain": [
       "<IPython.core.display.HTML object>"
      ]
     },
     "metadata": {},
     "output_type": "display_data"
    },
    {
     "data": {
      "text/html": [
       "Find logs at: <code>./wandb/run-20240728_012453-mxgn5msf/logs</code>"
      ],
      "text/plain": [
       "<IPython.core.display.HTML object>"
      ]
     },
     "metadata": {},
     "output_type": "display_data"
    },
    {
     "data": {
      "text/html": [
       "The new W&B backend becomes opt-out in version 0.18.0; try it out with `wandb.require(\"core\")`! See https://wandb.me/wandb-core for more information."
      ],
      "text/plain": [
       "<IPython.core.display.HTML object>"
      ]
     },
     "metadata": {},
     "output_type": "display_data"
    },
    {
     "name": "stderr",
     "output_type": "stream",
     "text": [
      "\u001b[34m\u001b[1mwandb\u001b[0m: Sweep Agent: Waiting for job.\n",
      "\u001b[34m\u001b[1mwandb\u001b[0m: Job received.\n",
      "\u001b[34m\u001b[1mwandb\u001b[0m: Agent Starting Run: seyr0flz with config:\n",
      "\u001b[34m\u001b[1mwandb\u001b[0m: \tEPOCH: 20\n",
      "\u001b[34m\u001b[1mwandb\u001b[0m: \tFC_RESERVOIR: True\n",
      "\u001b[34m\u001b[1mwandb\u001b[0m: \tIMAGE_SIZE: 128\n",
      "\u001b[34m\u001b[1mwandb\u001b[0m: \tbatch_size: 128\n",
      "\u001b[34m\u001b[1mwandb\u001b[0m: \tdata_path: /data2\n",
      "\u001b[34m\u001b[1mwandb\u001b[0m: \tdecay: 0.8165852404993246\n",
      "\u001b[34m\u001b[1mwandb\u001b[0m: \tdvs_clipping: True\n",
      "\u001b[34m\u001b[1mwandb\u001b[0m: \tdvs_duration: 100000\n",
      "\u001b[34m\u001b[1mwandb\u001b[0m: \tlearning_rate: 0.02860769133443244\n",
      "\u001b[34m\u001b[1mwandb\u001b[0m: \tno_reservoir: False\n",
      "\u001b[34m\u001b[1mwandb\u001b[0m: \tpre_spike_weight: 3.0648967470551156\n",
      "\u001b[34m\u001b[1mwandb\u001b[0m: \trate_coding: False\n",
      "\u001b[34m\u001b[1mwandb\u001b[0m: \ttime_step: 8\n",
      "\u001b[34m\u001b[1mwandb\u001b[0m: \twhich_data: DVS_GESTURE\n",
      "Failed to detect the name of this notebook, you can set it manually with the WANDB_NOTEBOOK_NAME environment variable to enable code saving.\n"
     ]
    },
    {
     "data": {
      "application/vnd.jupyter.widget-view+json": {
       "model_id": "3499afcb5da742e99ea344d0c82147ad",
       "version_major": 2,
       "version_minor": 0
      },
      "text/plain": [
       "VBox(children=(Label(value='Waiting for wandb.init()...\\r'), FloatProgress(value=0.011113926178465287, max=1.0…"
      ]
     },
     "metadata": {},
     "output_type": "display_data"
    },
    {
     "data": {
      "text/html": [
       "Tracking run with wandb version 0.17.5"
      ],
      "text/plain": [
       "<IPython.core.display.HTML object>"
      ]
     },
     "metadata": {},
     "output_type": "display_data"
    },
    {
     "data": {
      "text/html": [
       "Run data is saved locally in <code>/nfs/home/bhkim003/github_folder/ByeonghyeonKim/my_snn/wandb/run-20240728_013837-seyr0flz</code>"
      ],
      "text/plain": [
       "<IPython.core.display.HTML object>"
      ]
     },
     "metadata": {},
     "output_type": "display_data"
    },
    {
     "data": {
      "text/html": [
       "Syncing run <strong><a href='https://wandb.ai/bhkim003-seoul-national-university/reservoir/runs/seyr0flz' target=\"_blank\">crisp-sweep-61</a></strong> to <a href='https://wandb.ai/bhkim003-seoul-national-university/reservoir' target=\"_blank\">Weights & Biases</a> (<a href='https://wandb.me/run' target=\"_blank\">docs</a>)<br/>Sweep page: <a href='https://wandb.ai/bhkim003-seoul-national-university/reservoir/sweeps/sxt07a51' target=\"_blank\">https://wandb.ai/bhkim003-seoul-national-university/reservoir/sweeps/sxt07a51</a>"
      ],
      "text/plain": [
       "<IPython.core.display.HTML object>"
      ]
     },
     "metadata": {},
     "output_type": "display_data"
    },
    {
     "data": {
      "text/html": [
       " View project at <a href='https://wandb.ai/bhkim003-seoul-national-university/reservoir' target=\"_blank\">https://wandb.ai/bhkim003-seoul-national-university/reservoir</a>"
      ],
      "text/plain": [
       "<IPython.core.display.HTML object>"
      ]
     },
     "metadata": {},
     "output_type": "display_data"
    },
    {
     "data": {
      "text/html": [
       " View sweep at <a href='https://wandb.ai/bhkim003-seoul-national-university/reservoir/sweeps/sxt07a51' target=\"_blank\">https://wandb.ai/bhkim003-seoul-national-university/reservoir/sweeps/sxt07a51</a>"
      ],
      "text/plain": [
       "<IPython.core.display.HTML object>"
      ]
     },
     "metadata": {},
     "output_type": "display_data"
    },
    {
     "data": {
      "text/html": [
       " View run at <a href='https://wandb.ai/bhkim003-seoul-national-university/reservoir/runs/seyr0flz' target=\"_blank\">https://wandb.ai/bhkim003-seoul-national-university/reservoir/runs/seyr0flz</a>"
      ],
      "text/plain": [
       "<IPython.core.display.HTML object>"
      ]
     },
     "metadata": {},
     "output_type": "display_data"
    },
    {
     "name": "stderr",
     "output_type": "stream",
     "text": [
      "\u001b[34m\u001b[1mwandb\u001b[0m: \u001b[33mWARNING\u001b[0m Config item 'data_path' was locked by 'sweep' (ignored update).\n",
      "\u001b[34m\u001b[1mwandb\u001b[0m: \u001b[33mWARNING\u001b[0m Config item 'which_data' was locked by 'sweep' (ignored update).\n",
      "\u001b[34m\u001b[1mwandb\u001b[0m: \u001b[33mWARNING\u001b[0m Config item 'learning_rate' was locked by 'sweep' (ignored update).\n",
      "\u001b[34m\u001b[1mwandb\u001b[0m: \u001b[33mWARNING\u001b[0m Config item 'IMAGE_SIZE' was locked by 'sweep' (ignored update).\n",
      "\u001b[34m\u001b[1mwandb\u001b[0m: \u001b[33mWARNING\u001b[0m Config item 'EPOCH' was locked by 'sweep' (ignored update).\n",
      "\u001b[34m\u001b[1mwandb\u001b[0m: \u001b[33mWARNING\u001b[0m Config item 'rate_coding' was locked by 'sweep' (ignored update).\n",
      "\u001b[34m\u001b[1mwandb\u001b[0m: \u001b[33mWARNING\u001b[0m Config item 'pre_spike_weight' was locked by 'sweep' (ignored update).\n",
      "\u001b[34m\u001b[1mwandb\u001b[0m: \u001b[33mWARNING\u001b[0m Config item 'dvs_duration' was locked by 'sweep' (ignored update).\n",
      "\u001b[34m\u001b[1mwandb\u001b[0m: \u001b[33mWARNING\u001b[0m Config item 'dvs_clipping' was locked by 'sweep' (ignored update).\n",
      "\u001b[34m\u001b[1mwandb\u001b[0m: \u001b[33mWARNING\u001b[0m Config item 'no_reservoir' was locked by 'sweep' (ignored update).\n",
      "\u001b[34m\u001b[1mwandb\u001b[0m: \u001b[33mWARNING\u001b[0m Config item 'FC_RESERVOIR' was locked by 'sweep' (ignored update).\n"
     ]
    },
    {
     "name": "stdout",
     "output_type": "stream",
     "text": [
      "The directory [/data2/gesture/duration_100000] already exists.\n",
      "The directory [/data2/gesture/duration_100000] already exists.\n",
      "RESERVOIR_NET(\n",
      "  (reservoir): RESERVOIR(\n",
      "    (reservoir): Linear(in_features=32768, out_features=32768, bias=True)\n",
      "  )\n",
      "  (classifier): Linear(in_features=32768, out_features=10, bias=True)\n",
      ")\n",
      "Epoch 1\n",
      "Train Accuracy: 34.60%\n",
      "Test loss: 1.884, Val Accuracy: 43.94%\n",
      "Epoch 2\n",
      "Train Accuracy: 64.84%\n",
      "Test loss: 2.334, Val Accuracy: 51.89%\n",
      "Epoch 3\n",
      "Train Accuracy: 71.80%\n",
      "Test loss: 2.375, Val Accuracy: 59.09%\n",
      "Epoch 4\n",
      "Train Accuracy: 83.58%\n",
      "Test loss: 1.266, Val Accuracy: 68.94%\n",
      "Epoch 5\n",
      "Train Accuracy: 90.72%\n",
      "Test loss: 1.202, Val Accuracy: 67.80%\n",
      "Epoch 6\n",
      "Train Accuracy: 94.71%\n",
      "Test loss: 1.025, Val Accuracy: 70.08%\n",
      "Epoch 7\n",
      "Train Accuracy: 95.36%\n",
      "Test loss: 1.164, Val Accuracy: 66.67%\n",
      "Epoch 8\n",
      "Train Accuracy: 98.79%\n",
      "Test loss: 1.840, Val Accuracy: 65.53%\n",
      "Epoch 9\n",
      "Train Accuracy: 99.44%\n",
      "Test loss: 1.122, Val Accuracy: 68.56%\n",
      "Epoch 10\n",
      "Train Accuracy: 99.81%\n",
      "Test loss: 1.179, Val Accuracy: 73.48%\n",
      "Epoch 11\n",
      "Train Accuracy: 100.00%\n",
      "Test loss: 1.200, Val Accuracy: 70.83%\n",
      "Epoch 12\n",
      "Train Accuracy: 100.00%\n",
      "Test loss: 1.208, Val Accuracy: 71.59%\n",
      "Epoch 13\n",
      "Train Accuracy: 100.00%\n",
      "Test loss: 1.310, Val Accuracy: 71.59%\n",
      "Epoch 14\n",
      "Train Accuracy: 100.00%\n",
      "Test loss: 1.240, Val Accuracy: 71.21%\n",
      "Epoch 15\n",
      "Train Accuracy: 100.00%\n",
      "Test loss: 1.242, Val Accuracy: 71.59%\n",
      "Epoch 16\n",
      "Train Accuracy: 100.00%\n",
      "Test loss: 1.246, Val Accuracy: 71.59%\n",
      "Epoch 17\n",
      "Train Accuracy: 100.00%\n",
      "Test loss: 1.219, Val Accuracy: 73.11%\n",
      "Epoch 18\n",
      "Train Accuracy: 100.00%\n",
      "Test loss: 1.227, Val Accuracy: 71.21%\n",
      "Epoch 19\n",
      "Train Accuracy: 100.00%\n",
      "Test loss: 1.254, Val Accuracy: 73.11%\n",
      "Epoch 20\n",
      "Train Accuracy: 100.00%\n",
      "Test loss: 1.263, Val Accuracy: 70.83%\n"
     ]
    },
    {
     "data": {
      "application/vnd.jupyter.widget-view+json": {
       "model_id": "4bbd242376be46bd896990f8ae0fb59d",
       "version_major": 2,
       "version_minor": 0
      },
      "text/plain": [
       "VBox(children=(Label(value='0.326 MB of 0.326 MB uploaded\\r'), FloatProgress(value=1.0, max=1.0)))"
      ]
     },
     "metadata": {},
     "output_type": "display_data"
    },
    {
     "data": {
      "text/html": [
       "<style>\n",
       "    table.wandb td:nth-child(1) { padding: 0 10px; text-align: left ; width: auto;} td:nth-child(2) {text-align: left ; width: 100%}\n",
       "    .wandb-row { display: flex; flex-direction: row; flex-wrap: wrap; justify-content: flex-start; width: 100% }\n",
       "    .wandb-col { display: flex; flex-direction: column; flex-basis: 100%; flex: 1; padding: 10px; }\n",
       "    </style>\n",
       "<div class=\"wandb-row\"><div class=\"wandb-col\"><h3>Run history:</h3><br/><table class=\"wandb\"><tr><td>epoch</td><td>▁▁▂▂▂▃▃▄▄▄▅▅▅▆▆▇▇▇██</td></tr><tr><td>iter_accuracy</td><td>▁▄▅▅▆▅▆▇▇▇▇█▇███████████████████████████</td></tr><tr><td>tr_accuracy</td><td>▁▄▅▆▇▇██████████████</td></tr><tr><td>val_accuracy</td><td>▁▃▅▇▇▇▆▆▇█▇██▇███▇█▇</td></tr></table><br/></div><div class=\"wandb-col\"><h3>Run summary:</h3><br/><table class=\"wandb\"><tr><td>epoch</td><td>19</td></tr><tr><td>iter_accuracy</td><td>100.0</td></tr><tr><td>tr_accuracy</td><td>100.0</td></tr><tr><td>val_accuracy</td><td>70.83333</td></tr></table><br/></div></div>"
      ],
      "text/plain": [
       "<IPython.core.display.HTML object>"
      ]
     },
     "metadata": {},
     "output_type": "display_data"
    },
    {
     "data": {
      "text/html": [
       " View run <strong style=\"color:#cdcd00\">crisp-sweep-61</strong> at: <a href='https://wandb.ai/bhkim003-seoul-national-university/reservoir/runs/seyr0flz' target=\"_blank\">https://wandb.ai/bhkim003-seoul-national-university/reservoir/runs/seyr0flz</a><br/> View project at: <a href='https://wandb.ai/bhkim003-seoul-national-university/reservoir' target=\"_blank\">https://wandb.ai/bhkim003-seoul-national-university/reservoir</a><br/>Synced 7 W&B file(s), 0 media file(s), 0 artifact file(s) and 1 other file(s)"
      ],
      "text/plain": [
       "<IPython.core.display.HTML object>"
      ]
     },
     "metadata": {},
     "output_type": "display_data"
    },
    {
     "data": {
      "text/html": [
       "Find logs at: <code>./wandb/run-20240728_013837-seyr0flz/logs</code>"
      ],
      "text/plain": [
       "<IPython.core.display.HTML object>"
      ]
     },
     "metadata": {},
     "output_type": "display_data"
    },
    {
     "data": {
      "text/html": [
       "The new W&B backend becomes opt-out in version 0.18.0; try it out with `wandb.require(\"core\")`! See https://wandb.me/wandb-core for more information."
      ],
      "text/plain": [
       "<IPython.core.display.HTML object>"
      ]
     },
     "metadata": {},
     "output_type": "display_data"
    },
    {
     "name": "stderr",
     "output_type": "stream",
     "text": [
      "\u001b[34m\u001b[1mwandb\u001b[0m: Sweep Agent: Waiting for job.\n",
      "\u001b[34m\u001b[1mwandb\u001b[0m: Job received.\n",
      "\u001b[34m\u001b[1mwandb\u001b[0m: Agent Starting Run: wc2euyte with config:\n",
      "\u001b[34m\u001b[1mwandb\u001b[0m: \tEPOCH: 20\n",
      "\u001b[34m\u001b[1mwandb\u001b[0m: \tFC_RESERVOIR: True\n",
      "\u001b[34m\u001b[1mwandb\u001b[0m: \tIMAGE_SIZE: 32\n",
      "\u001b[34m\u001b[1mwandb\u001b[0m: \tbatch_size: 256\n",
      "\u001b[34m\u001b[1mwandb\u001b[0m: \tdata_path: /data2\n",
      "\u001b[34m\u001b[1mwandb\u001b[0m: \tdecay: 0.9956471517142892\n",
      "\u001b[34m\u001b[1mwandb\u001b[0m: \tdvs_clipping: True\n",
      "\u001b[34m\u001b[1mwandb\u001b[0m: \tdvs_duration: 100000\n",
      "\u001b[34m\u001b[1mwandb\u001b[0m: \tlearning_rate: 0.007381573740998266\n",
      "\u001b[34m\u001b[1mwandb\u001b[0m: \tno_reservoir: True\n",
      "\u001b[34m\u001b[1mwandb\u001b[0m: \tpre_spike_weight: 1.405372794890188\n",
      "\u001b[34m\u001b[1mwandb\u001b[0m: \trate_coding: False\n",
      "\u001b[34m\u001b[1mwandb\u001b[0m: \ttime_step: 7\n",
      "\u001b[34m\u001b[1mwandb\u001b[0m: \twhich_data: DVS_GESTURE\n",
      "Failed to detect the name of this notebook, you can set it manually with the WANDB_NOTEBOOK_NAME environment variable to enable code saving.\n"
     ]
    },
    {
     "data": {
      "text/html": [
       "Tracking run with wandb version 0.17.5"
      ],
      "text/plain": [
       "<IPython.core.display.HTML object>"
      ]
     },
     "metadata": {},
     "output_type": "display_data"
    },
    {
     "data": {
      "text/html": [
       "Run data is saved locally in <code>/nfs/home/bhkim003/github_folder/ByeonghyeonKim/my_snn/wandb/run-20240728_022154-wc2euyte</code>"
      ],
      "text/plain": [
       "<IPython.core.display.HTML object>"
      ]
     },
     "metadata": {},
     "output_type": "display_data"
    },
    {
     "data": {
      "text/html": [
       "Syncing run <strong><a href='https://wandb.ai/bhkim003-seoul-national-university/reservoir/runs/wc2euyte' target=\"_blank\">apricot-sweep-62</a></strong> to <a href='https://wandb.ai/bhkim003-seoul-national-university/reservoir' target=\"_blank\">Weights & Biases</a> (<a href='https://wandb.me/run' target=\"_blank\">docs</a>)<br/>Sweep page: <a href='https://wandb.ai/bhkim003-seoul-national-university/reservoir/sweeps/sxt07a51' target=\"_blank\">https://wandb.ai/bhkim003-seoul-national-university/reservoir/sweeps/sxt07a51</a>"
      ],
      "text/plain": [
       "<IPython.core.display.HTML object>"
      ]
     },
     "metadata": {},
     "output_type": "display_data"
    },
    {
     "data": {
      "text/html": [
       " View project at <a href='https://wandb.ai/bhkim003-seoul-national-university/reservoir' target=\"_blank\">https://wandb.ai/bhkim003-seoul-national-university/reservoir</a>"
      ],
      "text/plain": [
       "<IPython.core.display.HTML object>"
      ]
     },
     "metadata": {},
     "output_type": "display_data"
    },
    {
     "data": {
      "text/html": [
       " View sweep at <a href='https://wandb.ai/bhkim003-seoul-national-university/reservoir/sweeps/sxt07a51' target=\"_blank\">https://wandb.ai/bhkim003-seoul-national-university/reservoir/sweeps/sxt07a51</a>"
      ],
      "text/plain": [
       "<IPython.core.display.HTML object>"
      ]
     },
     "metadata": {},
     "output_type": "display_data"
    },
    {
     "data": {
      "text/html": [
       " View run at <a href='https://wandb.ai/bhkim003-seoul-national-university/reservoir/runs/wc2euyte' target=\"_blank\">https://wandb.ai/bhkim003-seoul-national-university/reservoir/runs/wc2euyte</a>"
      ],
      "text/plain": [
       "<IPython.core.display.HTML object>"
      ]
     },
     "metadata": {},
     "output_type": "display_data"
    },
    {
     "name": "stderr",
     "output_type": "stream",
     "text": [
      "\u001b[34m\u001b[1mwandb\u001b[0m: \u001b[33mWARNING\u001b[0m Config item 'data_path' was locked by 'sweep' (ignored update).\n",
      "\u001b[34m\u001b[1mwandb\u001b[0m: \u001b[33mWARNING\u001b[0m Config item 'which_data' was locked by 'sweep' (ignored update).\n",
      "\u001b[34m\u001b[1mwandb\u001b[0m: \u001b[33mWARNING\u001b[0m Config item 'learning_rate' was locked by 'sweep' (ignored update).\n",
      "\u001b[34m\u001b[1mwandb\u001b[0m: \u001b[33mWARNING\u001b[0m Config item 'IMAGE_SIZE' was locked by 'sweep' (ignored update).\n",
      "\u001b[34m\u001b[1mwandb\u001b[0m: \u001b[33mWARNING\u001b[0m Config item 'EPOCH' was locked by 'sweep' (ignored update).\n",
      "\u001b[34m\u001b[1mwandb\u001b[0m: \u001b[33mWARNING\u001b[0m Config item 'rate_coding' was locked by 'sweep' (ignored update).\n",
      "\u001b[34m\u001b[1mwandb\u001b[0m: \u001b[33mWARNING\u001b[0m Config item 'pre_spike_weight' was locked by 'sweep' (ignored update).\n",
      "\u001b[34m\u001b[1mwandb\u001b[0m: \u001b[33mWARNING\u001b[0m Config item 'dvs_duration' was locked by 'sweep' (ignored update).\n",
      "\u001b[34m\u001b[1mwandb\u001b[0m: \u001b[33mWARNING\u001b[0m Config item 'dvs_clipping' was locked by 'sweep' (ignored update).\n",
      "\u001b[34m\u001b[1mwandb\u001b[0m: \u001b[33mWARNING\u001b[0m Config item 'no_reservoir' was locked by 'sweep' (ignored update).\n",
      "\u001b[34m\u001b[1mwandb\u001b[0m: \u001b[33mWARNING\u001b[0m Config item 'FC_RESERVOIR' was locked by 'sweep' (ignored update).\n"
     ]
    },
    {
     "name": "stdout",
     "output_type": "stream",
     "text": [
      "The directory [/data2/gesture/duration_100000] already exists.\n",
      "The directory [/data2/gesture/duration_100000] already exists.\n",
      "RESERVOIR_NET(\n",
      "  (classifier): Linear(in_features=2048, out_features=10, bias=True)\n",
      ")\n",
      "Epoch 1\n",
      "Train Accuracy: 15.49%\n",
      "Test loss: 2.223, Val Accuracy: 19.32%\n",
      "Epoch 2\n",
      "Train Accuracy: 19.85%\n",
      "Test loss: 2.098, Val Accuracy: 31.44%\n",
      "Epoch 3\n",
      "Train Accuracy: 35.71%\n",
      "Test loss: 1.825, Val Accuracy: 40.53%\n",
      "Epoch 4\n",
      "Train Accuracy: 51.39%\n",
      "Test loss: 1.798, Val Accuracy: 44.70%\n",
      "Epoch 5\n",
      "Train Accuracy: 52.97%\n",
      "Test loss: 1.793, Val Accuracy: 42.80%\n",
      "Epoch 6\n",
      "Train Accuracy: 52.78%\n",
      "Test loss: 1.654, Val Accuracy: 46.21%\n",
      "Epoch 7\n",
      "Train Accuracy: 56.12%\n",
      "Test loss: 1.598, Val Accuracy: 47.73%\n",
      "Epoch 8\n",
      "Train Accuracy: 60.67%\n",
      "Test loss: 1.560, Val Accuracy: 51.89%\n",
      "Epoch 9\n",
      "Train Accuracy: 63.17%\n",
      "Test loss: 1.661, Val Accuracy: 51.14%\n",
      "Epoch 10\n",
      "Train Accuracy: 63.54%\n",
      "Test loss: 1.704, Val Accuracy: 53.41%\n",
      "Epoch 11\n",
      "Train Accuracy: 64.47%\n",
      "Test loss: 1.677, Val Accuracy: 53.79%\n",
      "Epoch 12\n",
      "Train Accuracy: 64.94%\n",
      "Test loss: 1.497, Val Accuracy: 53.41%\n",
      "Epoch 13\n",
      "Train Accuracy: 67.07%\n",
      "Test loss: 1.464, Val Accuracy: 53.03%\n",
      "Epoch 14\n",
      "Train Accuracy: 68.27%\n",
      "Test loss: 1.533, Val Accuracy: 56.44%\n",
      "Epoch 15\n",
      "Train Accuracy: 70.22%\n",
      "Test loss: 1.507, Val Accuracy: 57.20%\n",
      "Epoch 16\n",
      "Train Accuracy: 71.61%\n",
      "Test loss: 1.502, Val Accuracy: 57.58%\n",
      "Epoch 17\n",
      "Train Accuracy: 72.08%\n",
      "Test loss: 1.590, Val Accuracy: 57.95%\n",
      "Epoch 18\n",
      "Train Accuracy: 71.71%\n",
      "Test loss: 1.565, Val Accuracy: 57.58%\n",
      "Epoch 19\n",
      "Train Accuracy: 73.10%\n",
      "Test loss: 1.489, Val Accuracy: 57.95%\n",
      "Epoch 20\n",
      "Train Accuracy: 75.14%\n",
      "Test loss: 1.458, Val Accuracy: 59.47%\n"
     ]
    },
    {
     "data": {
      "application/vnd.jupyter.widget-view+json": {
       "model_id": "4ff346eb778840a0939f251815fe982a",
       "version_major": 2,
       "version_minor": 0
      },
      "text/plain": [
       "VBox(children=(Label(value='0.326 MB of 0.326 MB uploaded\\r'), FloatProgress(value=1.0, max=1.0)))"
      ]
     },
     "metadata": {},
     "output_type": "display_data"
    },
    {
     "data": {
      "text/html": [
       "<style>\n",
       "    table.wandb td:nth-child(1) { padding: 0 10px; text-align: left ; width: auto;} td:nth-child(2) {text-align: left ; width: 100%}\n",
       "    .wandb-row { display: flex; flex-direction: row; flex-wrap: wrap; justify-content: flex-start; width: 100% }\n",
       "    .wandb-col { display: flex; flex-direction: column; flex-basis: 100%; flex: 1; padding: 10px; }\n",
       "    </style>\n",
       "<div class=\"wandb-row\"><div class=\"wandb-col\"><h3>Run history:</h3><br/><table class=\"wandb\"><tr><td>epoch</td><td>▁▁▂▂▂▃▃▄▄▄▅▅▅▆▆▇▇▇██</td></tr><tr><td>iter_accuracy</td><td>▁▂▂▂▄▄▄▅▅▅▅▅▆▆▆▆▇▆▆▆▆▆▇▆▇▇▆▇▇▇▇▇▇▇▇▇▇▇▇█</td></tr><tr><td>tr_accuracy</td><td>▁▂▃▅▅▅▆▆▇▇▇▇▇▇▇█████</td></tr><tr><td>val_accuracy</td><td>▁▃▅▅▅▆▆▇▇▇▇▇▇▇██████</td></tr></table><br/></div><div class=\"wandb-col\"><h3>Run summary:</h3><br/><table class=\"wandb\"><tr><td>epoch</td><td>19</td></tr><tr><td>iter_accuracy</td><td>81.48148</td></tr><tr><td>tr_accuracy</td><td>75.13915</td></tr><tr><td>val_accuracy</td><td>59.4697</td></tr></table><br/></div></div>"
      ],
      "text/plain": [
       "<IPython.core.display.HTML object>"
      ]
     },
     "metadata": {},
     "output_type": "display_data"
    },
    {
     "data": {
      "text/html": [
       " View run <strong style=\"color:#cdcd00\">apricot-sweep-62</strong> at: <a href='https://wandb.ai/bhkim003-seoul-national-university/reservoir/runs/wc2euyte' target=\"_blank\">https://wandb.ai/bhkim003-seoul-national-university/reservoir/runs/wc2euyte</a><br/> View project at: <a href='https://wandb.ai/bhkim003-seoul-national-university/reservoir' target=\"_blank\">https://wandb.ai/bhkim003-seoul-national-university/reservoir</a><br/>Synced 7 W&B file(s), 0 media file(s), 0 artifact file(s) and 1 other file(s)"
      ],
      "text/plain": [
       "<IPython.core.display.HTML object>"
      ]
     },
     "metadata": {},
     "output_type": "display_data"
    },
    {
     "data": {
      "text/html": [
       "Find logs at: <code>./wandb/run-20240728_022154-wc2euyte/logs</code>"
      ],
      "text/plain": [
       "<IPython.core.display.HTML object>"
      ]
     },
     "metadata": {},
     "output_type": "display_data"
    },
    {
     "data": {
      "text/html": [
       "The new W&B backend becomes opt-out in version 0.18.0; try it out with `wandb.require(\"core\")`! See https://wandb.me/wandb-core for more information."
      ],
      "text/plain": [
       "<IPython.core.display.HTML object>"
      ]
     },
     "metadata": {},
     "output_type": "display_data"
    },
    {
     "name": "stderr",
     "output_type": "stream",
     "text": [
      "\u001b[34m\u001b[1mwandb\u001b[0m: Agent Starting Run: nphw0cae with config:\n",
      "\u001b[34m\u001b[1mwandb\u001b[0m: \tEPOCH: 20\n",
      "\u001b[34m\u001b[1mwandb\u001b[0m: \tFC_RESERVOIR: True\n",
      "\u001b[34m\u001b[1mwandb\u001b[0m: \tIMAGE_SIZE: 48\n",
      "\u001b[34m\u001b[1mwandb\u001b[0m: \tbatch_size: 64\n",
      "\u001b[34m\u001b[1mwandb\u001b[0m: \tdata_path: /data2\n",
      "\u001b[34m\u001b[1mwandb\u001b[0m: \tdecay: 0.9643340735907426\n",
      "\u001b[34m\u001b[1mwandb\u001b[0m: \tdvs_clipping: True\n",
      "\u001b[34m\u001b[1mwandb\u001b[0m: \tdvs_duration: 100000\n",
      "\u001b[34m\u001b[1mwandb\u001b[0m: \tlearning_rate: 0.046152196153859466\n",
      "\u001b[34m\u001b[1mwandb\u001b[0m: \tno_reservoir: True\n",
      "\u001b[34m\u001b[1mwandb\u001b[0m: \tpre_spike_weight: 6.962447339496431\n",
      "\u001b[34m\u001b[1mwandb\u001b[0m: \trate_coding: False\n",
      "\u001b[34m\u001b[1mwandb\u001b[0m: \ttime_step: 4\n",
      "\u001b[34m\u001b[1mwandb\u001b[0m: \twhich_data: DVS_GESTURE\n",
      "Failed to detect the name of this notebook, you can set it manually with the WANDB_NOTEBOOK_NAME environment variable to enable code saving.\n"
     ]
    },
    {
     "data": {
      "text/html": [
       "Tracking run with wandb version 0.17.5"
      ],
      "text/plain": [
       "<IPython.core.display.HTML object>"
      ]
     },
     "metadata": {},
     "output_type": "display_data"
    },
    {
     "data": {
      "text/html": [
       "Run data is saved locally in <code>/nfs/home/bhkim003/github_folder/ByeonghyeonKim/my_snn/wandb/run-20240728_023744-nphw0cae</code>"
      ],
      "text/plain": [
       "<IPython.core.display.HTML object>"
      ]
     },
     "metadata": {},
     "output_type": "display_data"
    },
    {
     "data": {
      "text/html": [
       "Syncing run <strong><a href='https://wandb.ai/bhkim003-seoul-national-university/reservoir/runs/nphw0cae' target=\"_blank\">ancient-sweep-63</a></strong> to <a href='https://wandb.ai/bhkim003-seoul-national-university/reservoir' target=\"_blank\">Weights & Biases</a> (<a href='https://wandb.me/run' target=\"_blank\">docs</a>)<br/>Sweep page: <a href='https://wandb.ai/bhkim003-seoul-national-university/reservoir/sweeps/sxt07a51' target=\"_blank\">https://wandb.ai/bhkim003-seoul-national-university/reservoir/sweeps/sxt07a51</a>"
      ],
      "text/plain": [
       "<IPython.core.display.HTML object>"
      ]
     },
     "metadata": {},
     "output_type": "display_data"
    },
    {
     "data": {
      "text/html": [
       " View project at <a href='https://wandb.ai/bhkim003-seoul-national-university/reservoir' target=\"_blank\">https://wandb.ai/bhkim003-seoul-national-university/reservoir</a>"
      ],
      "text/plain": [
       "<IPython.core.display.HTML object>"
      ]
     },
     "metadata": {},
     "output_type": "display_data"
    },
    {
     "data": {
      "text/html": [
       " View sweep at <a href='https://wandb.ai/bhkim003-seoul-national-university/reservoir/sweeps/sxt07a51' target=\"_blank\">https://wandb.ai/bhkim003-seoul-national-university/reservoir/sweeps/sxt07a51</a>"
      ],
      "text/plain": [
       "<IPython.core.display.HTML object>"
      ]
     },
     "metadata": {},
     "output_type": "display_data"
    },
    {
     "data": {
      "text/html": [
       " View run at <a href='https://wandb.ai/bhkim003-seoul-national-university/reservoir/runs/nphw0cae' target=\"_blank\">https://wandb.ai/bhkim003-seoul-national-university/reservoir/runs/nphw0cae</a>"
      ],
      "text/plain": [
       "<IPython.core.display.HTML object>"
      ]
     },
     "metadata": {},
     "output_type": "display_data"
    },
    {
     "name": "stderr",
     "output_type": "stream",
     "text": [
      "\u001b[34m\u001b[1mwandb\u001b[0m: \u001b[33mWARNING\u001b[0m Config item 'data_path' was locked by 'sweep' (ignored update).\n",
      "\u001b[34m\u001b[1mwandb\u001b[0m: \u001b[33mWARNING\u001b[0m Config item 'which_data' was locked by 'sweep' (ignored update).\n",
      "\u001b[34m\u001b[1mwandb\u001b[0m: \u001b[33mWARNING\u001b[0m Config item 'learning_rate' was locked by 'sweep' (ignored update).\n",
      "\u001b[34m\u001b[1mwandb\u001b[0m: \u001b[33mWARNING\u001b[0m Config item 'IMAGE_SIZE' was locked by 'sweep' (ignored update).\n",
      "\u001b[34m\u001b[1mwandb\u001b[0m: \u001b[33mWARNING\u001b[0m Config item 'EPOCH' was locked by 'sweep' (ignored update).\n",
      "\u001b[34m\u001b[1mwandb\u001b[0m: \u001b[33mWARNING\u001b[0m Config item 'rate_coding' was locked by 'sweep' (ignored update).\n",
      "\u001b[34m\u001b[1mwandb\u001b[0m: \u001b[33mWARNING\u001b[0m Config item 'pre_spike_weight' was locked by 'sweep' (ignored update).\n",
      "\u001b[34m\u001b[1mwandb\u001b[0m: \u001b[33mWARNING\u001b[0m Config item 'dvs_duration' was locked by 'sweep' (ignored update).\n",
      "\u001b[34m\u001b[1mwandb\u001b[0m: \u001b[33mWARNING\u001b[0m Config item 'dvs_clipping' was locked by 'sweep' (ignored update).\n",
      "\u001b[34m\u001b[1mwandb\u001b[0m: \u001b[33mWARNING\u001b[0m Config item 'no_reservoir' was locked by 'sweep' (ignored update).\n",
      "\u001b[34m\u001b[1mwandb\u001b[0m: \u001b[33mWARNING\u001b[0m Config item 'FC_RESERVOIR' was locked by 'sweep' (ignored update).\n"
     ]
    },
    {
     "name": "stdout",
     "output_type": "stream",
     "text": [
      "The directory [/data2/gesture/duration_100000] already exists.\n",
      "The directory [/data2/gesture/duration_100000] already exists.\n",
      "RESERVOIR_NET(\n",
      "  (classifier): Linear(in_features=4608, out_features=10, bias=True)\n",
      ")\n",
      "Epoch 1\n",
      "Train Accuracy: 36.46%\n",
      "Test loss: 1.873, Val Accuracy: 40.91%\n",
      "Epoch 2\n",
      "Train Accuracy: 63.17%\n",
      "Test loss: 2.304, Val Accuracy: 43.18%\n",
      "Epoch 3\n",
      "Train Accuracy: 77.46%\n",
      "Test loss: 1.583, Val Accuracy: 50.38%\n",
      "Epoch 4\n",
      "Train Accuracy: 91.28%\n",
      "Test loss: 1.482, Val Accuracy: 59.09%\n",
      "Epoch 5\n",
      "Train Accuracy: 96.94%\n",
      "Test loss: 1.289, Val Accuracy: 62.50%\n",
      "Epoch 6\n",
      "Train Accuracy: 98.70%\n",
      "Test loss: 1.313, Val Accuracy: 60.61%\n",
      "Epoch 7\n",
      "Train Accuracy: 99.72%\n",
      "Test loss: 1.192, Val Accuracy: 65.53%\n",
      "Epoch 8\n",
      "Train Accuracy: 100.00%\n",
      "Test loss: 1.178, Val Accuracy: 62.12%\n",
      "Epoch 9\n",
      "Train Accuracy: 100.00%\n",
      "Test loss: 1.351, Val Accuracy: 62.12%\n",
      "Epoch 10\n",
      "Train Accuracy: 100.00%\n",
      "Test loss: 1.265, Val Accuracy: 61.74%\n",
      "Epoch 11\n",
      "Train Accuracy: 100.00%\n",
      "Test loss: 1.238, Val Accuracy: 62.12%\n",
      "Epoch 12\n",
      "Train Accuracy: 100.00%\n",
      "Test loss: 1.255, Val Accuracy: 62.12%\n",
      "Epoch 13\n",
      "Train Accuracy: 100.00%\n",
      "Test loss: 1.267, Val Accuracy: 63.26%\n",
      "Epoch 14\n",
      "Train Accuracy: 100.00%\n",
      "Test loss: 1.250, Val Accuracy: 62.12%\n",
      "Epoch 15\n",
      "Train Accuracy: 100.00%\n",
      "Test loss: 1.281, Val Accuracy: 62.88%\n",
      "Epoch 16\n",
      "Train Accuracy: 100.00%\n",
      "Test loss: 1.241, Val Accuracy: 64.02%\n",
      "Epoch 17\n",
      "Train Accuracy: 100.00%\n",
      "Test loss: 1.263, Val Accuracy: 61.74%\n",
      "Epoch 18\n",
      "Train Accuracy: 100.00%\n",
      "Test loss: 1.324, Val Accuracy: 62.88%\n",
      "Epoch 19\n",
      "Train Accuracy: 100.00%\n",
      "Test loss: 1.373, Val Accuracy: 62.12%\n",
      "Epoch 20\n",
      "Train Accuracy: 100.00%\n",
      "Test loss: 1.268, Val Accuracy: 63.64%\n"
     ]
    },
    {
     "data": {
      "application/vnd.jupyter.widget-view+json": {
       "model_id": "5ca392742c5049ea8223f0f7bb952fc8",
       "version_major": 2,
       "version_minor": 0
      },
      "text/plain": [
       "VBox(children=(Label(value='0.326 MB of 0.326 MB uploaded\\r'), FloatProgress(value=1.0, max=1.0)))"
      ]
     },
     "metadata": {},
     "output_type": "display_data"
    },
    {
     "data": {
      "text/html": [
       "<style>\n",
       "    table.wandb td:nth-child(1) { padding: 0 10px; text-align: left ; width: auto;} td:nth-child(2) {text-align: left ; width: 100%}\n",
       "    .wandb-row { display: flex; flex-direction: row; flex-wrap: wrap; justify-content: flex-start; width: 100% }\n",
       "    .wandb-col { display: flex; flex-direction: column; flex-basis: 100%; flex: 1; padding: 10px; }\n",
       "    </style>\n",
       "<div class=\"wandb-row\"><div class=\"wandb-col\"><h3>Run history:</h3><br/><table class=\"wandb\"><tr><td>epoch</td><td>▁▁▂▂▂▃▃▄▄▄▅▅▅▆▆▇▇▇██</td></tr><tr><td>iter_accuracy</td><td>▁▂▄▅▄▆▆▇█▇██████████████████████████████</td></tr><tr><td>tr_accuracy</td><td>▁▄▆▇████████████████</td></tr><tr><td>val_accuracy</td><td>▁▂▄▆▇▇█▇▇▇▇▇▇▇▇█▇▇▇▇</td></tr></table><br/></div><div class=\"wandb-col\"><h3>Run summary:</h3><br/><table class=\"wandb\"><tr><td>epoch</td><td>19</td></tr><tr><td>iter_accuracy</td><td>100.0</td></tr><tr><td>tr_accuracy</td><td>100.0</td></tr><tr><td>val_accuracy</td><td>63.63636</td></tr></table><br/></div></div>"
      ],
      "text/plain": [
       "<IPython.core.display.HTML object>"
      ]
     },
     "metadata": {},
     "output_type": "display_data"
    },
    {
     "data": {
      "text/html": [
       " View run <strong style=\"color:#cdcd00\">ancient-sweep-63</strong> at: <a href='https://wandb.ai/bhkim003-seoul-national-university/reservoir/runs/nphw0cae' target=\"_blank\">https://wandb.ai/bhkim003-seoul-national-university/reservoir/runs/nphw0cae</a><br/> View project at: <a href='https://wandb.ai/bhkim003-seoul-national-university/reservoir' target=\"_blank\">https://wandb.ai/bhkim003-seoul-national-university/reservoir</a><br/>Synced 7 W&B file(s), 0 media file(s), 0 artifact file(s) and 1 other file(s)"
      ],
      "text/plain": [
       "<IPython.core.display.HTML object>"
      ]
     },
     "metadata": {},
     "output_type": "display_data"
    },
    {
     "data": {
      "text/html": [
       "Find logs at: <code>./wandb/run-20240728_023744-nphw0cae/logs</code>"
      ],
      "text/plain": [
       "<IPython.core.display.HTML object>"
      ]
     },
     "metadata": {},
     "output_type": "display_data"
    },
    {
     "data": {
      "text/html": [
       "The new W&B backend becomes opt-out in version 0.18.0; try it out with `wandb.require(\"core\")`! See https://wandb.me/wandb-core for more information."
      ],
      "text/plain": [
       "<IPython.core.display.HTML object>"
      ]
     },
     "metadata": {},
     "output_type": "display_data"
    },
    {
     "name": "stderr",
     "output_type": "stream",
     "text": [
      "\u001b[34m\u001b[1mwandb\u001b[0m: Agent Starting Run: cywl9bai with config:\n",
      "\u001b[34m\u001b[1mwandb\u001b[0m: \tEPOCH: 20\n",
      "\u001b[34m\u001b[1mwandb\u001b[0m: \tFC_RESERVOIR: True\n",
      "\u001b[34m\u001b[1mwandb\u001b[0m: \tIMAGE_SIZE: 48\n",
      "\u001b[34m\u001b[1mwandb\u001b[0m: \tbatch_size: 256\n",
      "\u001b[34m\u001b[1mwandb\u001b[0m: \tdata_path: /data2\n",
      "\u001b[34m\u001b[1mwandb\u001b[0m: \tdecay: 0.7074559963782994\n",
      "\u001b[34m\u001b[1mwandb\u001b[0m: \tdvs_clipping: True\n",
      "\u001b[34m\u001b[1mwandb\u001b[0m: \tdvs_duration: 100000\n",
      "\u001b[34m\u001b[1mwandb\u001b[0m: \tlearning_rate: 0.0021997541679762067\n",
      "\u001b[34m\u001b[1mwandb\u001b[0m: \tno_reservoir: True\n",
      "\u001b[34m\u001b[1mwandb\u001b[0m: \tpre_spike_weight: 1.5634349106435388\n",
      "\u001b[34m\u001b[1mwandb\u001b[0m: \trate_coding: True\n",
      "\u001b[34m\u001b[1mwandb\u001b[0m: \ttime_step: 8\n",
      "\u001b[34m\u001b[1mwandb\u001b[0m: \twhich_data: DVS_GESTURE\n",
      "Failed to detect the name of this notebook, you can set it manually with the WANDB_NOTEBOOK_NAME environment variable to enable code saving.\n"
     ]
    },
    {
     "data": {
      "text/html": [
       "Tracking run with wandb version 0.17.5"
      ],
      "text/plain": [
       "<IPython.core.display.HTML object>"
      ]
     },
     "metadata": {},
     "output_type": "display_data"
    },
    {
     "data": {
      "text/html": [
       "Run data is saved locally in <code>/nfs/home/bhkim003/github_folder/ByeonghyeonKim/my_snn/wandb/run-20240728_025157-cywl9bai</code>"
      ],
      "text/plain": [
       "<IPython.core.display.HTML object>"
      ]
     },
     "metadata": {},
     "output_type": "display_data"
    },
    {
     "data": {
      "text/html": [
       "Syncing run <strong><a href='https://wandb.ai/bhkim003-seoul-national-university/reservoir/runs/cywl9bai' target=\"_blank\">pretty-sweep-64</a></strong> to <a href='https://wandb.ai/bhkim003-seoul-national-university/reservoir' target=\"_blank\">Weights & Biases</a> (<a href='https://wandb.me/run' target=\"_blank\">docs</a>)<br/>Sweep page: <a href='https://wandb.ai/bhkim003-seoul-national-university/reservoir/sweeps/sxt07a51' target=\"_blank\">https://wandb.ai/bhkim003-seoul-national-university/reservoir/sweeps/sxt07a51</a>"
      ],
      "text/plain": [
       "<IPython.core.display.HTML object>"
      ]
     },
     "metadata": {},
     "output_type": "display_data"
    },
    {
     "data": {
      "text/html": [
       " View project at <a href='https://wandb.ai/bhkim003-seoul-national-university/reservoir' target=\"_blank\">https://wandb.ai/bhkim003-seoul-national-university/reservoir</a>"
      ],
      "text/plain": [
       "<IPython.core.display.HTML object>"
      ]
     },
     "metadata": {},
     "output_type": "display_data"
    },
    {
     "data": {
      "text/html": [
       " View sweep at <a href='https://wandb.ai/bhkim003-seoul-national-university/reservoir/sweeps/sxt07a51' target=\"_blank\">https://wandb.ai/bhkim003-seoul-national-university/reservoir/sweeps/sxt07a51</a>"
      ],
      "text/plain": [
       "<IPython.core.display.HTML object>"
      ]
     },
     "metadata": {},
     "output_type": "display_data"
    },
    {
     "data": {
      "text/html": [
       " View run at <a href='https://wandb.ai/bhkim003-seoul-national-university/reservoir/runs/cywl9bai' target=\"_blank\">https://wandb.ai/bhkim003-seoul-national-university/reservoir/runs/cywl9bai</a>"
      ],
      "text/plain": [
       "<IPython.core.display.HTML object>"
      ]
     },
     "metadata": {},
     "output_type": "display_data"
    },
    {
     "name": "stderr",
     "output_type": "stream",
     "text": [
      "\u001b[34m\u001b[1mwandb\u001b[0m: \u001b[33mWARNING\u001b[0m Config item 'data_path' was locked by 'sweep' (ignored update).\n",
      "\u001b[34m\u001b[1mwandb\u001b[0m: \u001b[33mWARNING\u001b[0m Config item 'which_data' was locked by 'sweep' (ignored update).\n",
      "\u001b[34m\u001b[1mwandb\u001b[0m: \u001b[33mWARNING\u001b[0m Config item 'learning_rate' was locked by 'sweep' (ignored update).\n",
      "\u001b[34m\u001b[1mwandb\u001b[0m: \u001b[33mWARNING\u001b[0m Config item 'IMAGE_SIZE' was locked by 'sweep' (ignored update).\n",
      "\u001b[34m\u001b[1mwandb\u001b[0m: \u001b[33mWARNING\u001b[0m Config item 'EPOCH' was locked by 'sweep' (ignored update).\n",
      "\u001b[34m\u001b[1mwandb\u001b[0m: \u001b[33mWARNING\u001b[0m Config item 'rate_coding' was locked by 'sweep' (ignored update).\n",
      "\u001b[34m\u001b[1mwandb\u001b[0m: \u001b[33mWARNING\u001b[0m Config item 'pre_spike_weight' was locked by 'sweep' (ignored update).\n",
      "\u001b[34m\u001b[1mwandb\u001b[0m: \u001b[33mWARNING\u001b[0m Config item 'dvs_duration' was locked by 'sweep' (ignored update).\n",
      "\u001b[34m\u001b[1mwandb\u001b[0m: \u001b[33mWARNING\u001b[0m Config item 'dvs_clipping' was locked by 'sweep' (ignored update).\n",
      "\u001b[34m\u001b[1mwandb\u001b[0m: \u001b[33mWARNING\u001b[0m Config item 'no_reservoir' was locked by 'sweep' (ignored update).\n",
      "\u001b[34m\u001b[1mwandb\u001b[0m: \u001b[33mWARNING\u001b[0m Config item 'FC_RESERVOIR' was locked by 'sweep' (ignored update).\n"
     ]
    },
    {
     "name": "stdout",
     "output_type": "stream",
     "text": [
      "The directory [/data2/gesture/duration_100000] already exists.\n",
      "The directory [/data2/gesture/duration_100000] already exists.\n",
      "RESERVOIR_NET(\n",
      "  (classifier): Linear(in_features=4608, out_features=10, bias=True)\n",
      ")\n",
      "Epoch 1\n",
      "Train Accuracy: 13.91%\n",
      "Test loss: 2.252, Val Accuracy: 20.45%\n",
      "Epoch 2\n",
      "Train Accuracy: 19.39%\n",
      "Test loss: 2.225, Val Accuracy: 20.08%\n",
      "Epoch 3\n",
      "Train Accuracy: 23.10%\n",
      "Test loss: 1.945, Val Accuracy: 35.98%\n",
      "Epoch 4\n",
      "Train Accuracy: 39.70%\n",
      "Test loss: 1.758, Val Accuracy: 45.45%\n",
      "Epoch 5\n",
      "Train Accuracy: 53.06%\n",
      "Test loss: 1.756, Val Accuracy: 46.21%\n",
      "Epoch 6\n",
      "Train Accuracy: 53.99%\n",
      "Test loss: 1.771, Val Accuracy: 49.24%\n",
      "Epoch 7\n",
      "Train Accuracy: 54.17%\n",
      "Test loss: 1.777, Val Accuracy: 46.97%\n",
      "Epoch 8\n",
      "Train Accuracy: 55.84%\n",
      "Test loss: 1.632, Val Accuracy: 48.48%\n",
      "Epoch 9\n",
      "Train Accuracy: 58.72%\n",
      "Test loss: 1.585, Val Accuracy: 49.24%\n",
      "Epoch 10\n",
      "Train Accuracy: 60.58%\n",
      "Test loss: 1.625, Val Accuracy: 50.76%\n",
      "Epoch 11\n",
      "Train Accuracy: 61.87%\n",
      "Test loss: 1.661, Val Accuracy: 52.27%\n",
      "Epoch 12\n",
      "Train Accuracy: 63.17%\n",
      "Test loss: 1.600, Val Accuracy: 51.14%\n",
      "Epoch 13\n",
      "Train Accuracy: 61.78%\n",
      "Test loss: 1.555, Val Accuracy: 52.65%\n",
      "Epoch 14\n",
      "Train Accuracy: 63.91%\n",
      "Test loss: 1.553, Val Accuracy: 55.68%\n",
      "Epoch 15\n",
      "Train Accuracy: 65.31%\n",
      "Test loss: 1.567, Val Accuracy: 57.58%\n",
      "Epoch 16\n",
      "Train Accuracy: 65.49%\n",
      "Test loss: 1.564, Val Accuracy: 57.95%\n",
      "Epoch 17\n",
      "Train Accuracy: 66.79%\n",
      "Test loss: 1.539, Val Accuracy: 54.17%\n",
      "Epoch 18\n",
      "Train Accuracy: 67.63%\n",
      "Test loss: 1.498, Val Accuracy: 54.17%\n",
      "Epoch 19\n",
      "Train Accuracy: 68.83%\n",
      "Test loss: 1.485, Val Accuracy: 59.85%\n",
      "Epoch 20\n",
      "Train Accuracy: 69.29%\n",
      "Test loss: 1.468, Val Accuracy: 58.71%\n"
     ]
    },
    {
     "data": {
      "application/vnd.jupyter.widget-view+json": {
       "model_id": "b1591ee150de403e803ac7285030269b",
       "version_major": 2,
       "version_minor": 0
      },
      "text/plain": [
       "VBox(children=(Label(value='0.326 MB of 0.326 MB uploaded\\r'), FloatProgress(value=1.0, max=1.0)))"
      ]
     },
     "metadata": {},
     "output_type": "display_data"
    },
    {
     "data": {
      "text/html": [
       "<style>\n",
       "    table.wandb td:nth-child(1) { padding: 0 10px; text-align: left ; width: auto;} td:nth-child(2) {text-align: left ; width: 100%}\n",
       "    .wandb-row { display: flex; flex-direction: row; flex-wrap: wrap; justify-content: flex-start; width: 100% }\n",
       "    .wandb-col { display: flex; flex-direction: column; flex-basis: 100%; flex: 1; padding: 10px; }\n",
       "    </style>\n",
       "<div class=\"wandb-row\"><div class=\"wandb-col\"><h3>Run history:</h3><br/><table class=\"wandb\"><tr><td>epoch</td><td>▁▁▂▂▂▃▃▄▄▄▅▅▅▆▆▇▇▇██</td></tr><tr><td>iter_accuracy</td><td>▁▁▂▂▂▂▃▅▆▅▆▆▆▆▆▆▆▆▇▇▇▇▇▇▆▇▇██▇▇▇▇████▇██</td></tr><tr><td>tr_accuracy</td><td>▁▂▂▄▆▆▆▆▇▇▇▇▇▇▇█████</td></tr><tr><td>val_accuracy</td><td>▁▁▄▅▆▆▆▆▆▆▇▆▇▇██▇▇██</td></tr></table><br/></div><div class=\"wandb-col\"><h3>Run summary:</h3><br/><table class=\"wandb\"><tr><td>epoch</td><td>19</td></tr><tr><td>iter_accuracy</td><td>72.22222</td></tr><tr><td>tr_accuracy</td><td>69.29499</td></tr><tr><td>val_accuracy</td><td>58.71212</td></tr></table><br/></div></div>"
      ],
      "text/plain": [
       "<IPython.core.display.HTML object>"
      ]
     },
     "metadata": {},
     "output_type": "display_data"
    },
    {
     "data": {
      "text/html": [
       " View run <strong style=\"color:#cdcd00\">pretty-sweep-64</strong> at: <a href='https://wandb.ai/bhkim003-seoul-national-university/reservoir/runs/cywl9bai' target=\"_blank\">https://wandb.ai/bhkim003-seoul-national-university/reservoir/runs/cywl9bai</a><br/> View project at: <a href='https://wandb.ai/bhkim003-seoul-national-university/reservoir' target=\"_blank\">https://wandb.ai/bhkim003-seoul-national-university/reservoir</a><br/>Synced 7 W&B file(s), 0 media file(s), 0 artifact file(s) and 1 other file(s)"
      ],
      "text/plain": [
       "<IPython.core.display.HTML object>"
      ]
     },
     "metadata": {},
     "output_type": "display_data"
    },
    {
     "data": {
      "text/html": [
       "Find logs at: <code>./wandb/run-20240728_025157-cywl9bai/logs</code>"
      ],
      "text/plain": [
       "<IPython.core.display.HTML object>"
      ]
     },
     "metadata": {},
     "output_type": "display_data"
    },
    {
     "data": {
      "text/html": [
       "The new W&B backend becomes opt-out in version 0.18.0; try it out with `wandb.require(\"core\")`! See https://wandb.me/wandb-core for more information."
      ],
      "text/plain": [
       "<IPython.core.display.HTML object>"
      ]
     },
     "metadata": {},
     "output_type": "display_data"
    },
    {
     "name": "stderr",
     "output_type": "stream",
     "text": [
      "\u001b[34m\u001b[1mwandb\u001b[0m: Agent Starting Run: 95k8ki21 with config:\n",
      "\u001b[34m\u001b[1mwandb\u001b[0m: \tEPOCH: 20\n",
      "\u001b[34m\u001b[1mwandb\u001b[0m: \tFC_RESERVOIR: True\n",
      "\u001b[34m\u001b[1mwandb\u001b[0m: \tIMAGE_SIZE: 48\n",
      "\u001b[34m\u001b[1mwandb\u001b[0m: \tbatch_size: 16\n",
      "\u001b[34m\u001b[1mwandb\u001b[0m: \tdata_path: /data2\n",
      "\u001b[34m\u001b[1mwandb\u001b[0m: \tdecay: 0.27915661227619387\n",
      "\u001b[34m\u001b[1mwandb\u001b[0m: \tdvs_clipping: True\n",
      "\u001b[34m\u001b[1mwandb\u001b[0m: \tdvs_duration: 100000\n",
      "\u001b[34m\u001b[1mwandb\u001b[0m: \tlearning_rate: 0.0037746757101133417\n",
      "\u001b[34m\u001b[1mwandb\u001b[0m: \tno_reservoir: False\n",
      "\u001b[34m\u001b[1mwandb\u001b[0m: \tpre_spike_weight: 9.239329877922929\n",
      "\u001b[34m\u001b[1mwandb\u001b[0m: \trate_coding: False\n",
      "\u001b[34m\u001b[1mwandb\u001b[0m: \ttime_step: 7\n",
      "\u001b[34m\u001b[1mwandb\u001b[0m: \twhich_data: DVS_GESTURE\n",
      "Failed to detect the name of this notebook, you can set it manually with the WANDB_NOTEBOOK_NAME environment variable to enable code saving.\n"
     ]
    },
    {
     "data": {
      "text/html": [
       "Tracking run with wandb version 0.17.5"
      ],
      "text/plain": [
       "<IPython.core.display.HTML object>"
      ]
     },
     "metadata": {},
     "output_type": "display_data"
    },
    {
     "data": {
      "text/html": [
       "Run data is saved locally in <code>/nfs/home/bhkim003/github_folder/ByeonghyeonKim/my_snn/wandb/run-20240728_030817-95k8ki21</code>"
      ],
      "text/plain": [
       "<IPython.core.display.HTML object>"
      ]
     },
     "metadata": {},
     "output_type": "display_data"
    },
    {
     "data": {
      "text/html": [
       "Syncing run <strong><a href='https://wandb.ai/bhkim003-seoul-national-university/reservoir/runs/95k8ki21' target=\"_blank\">copper-sweep-65</a></strong> to <a href='https://wandb.ai/bhkim003-seoul-national-university/reservoir' target=\"_blank\">Weights & Biases</a> (<a href='https://wandb.me/run' target=\"_blank\">docs</a>)<br/>Sweep page: <a href='https://wandb.ai/bhkim003-seoul-national-university/reservoir/sweeps/sxt07a51' target=\"_blank\">https://wandb.ai/bhkim003-seoul-national-university/reservoir/sweeps/sxt07a51</a>"
      ],
      "text/plain": [
       "<IPython.core.display.HTML object>"
      ]
     },
     "metadata": {},
     "output_type": "display_data"
    },
    {
     "data": {
      "text/html": [
       " View project at <a href='https://wandb.ai/bhkim003-seoul-national-university/reservoir' target=\"_blank\">https://wandb.ai/bhkim003-seoul-national-university/reservoir</a>"
      ],
      "text/plain": [
       "<IPython.core.display.HTML object>"
      ]
     },
     "metadata": {},
     "output_type": "display_data"
    },
    {
     "data": {
      "text/html": [
       " View sweep at <a href='https://wandb.ai/bhkim003-seoul-national-university/reservoir/sweeps/sxt07a51' target=\"_blank\">https://wandb.ai/bhkim003-seoul-national-university/reservoir/sweeps/sxt07a51</a>"
      ],
      "text/plain": [
       "<IPython.core.display.HTML object>"
      ]
     },
     "metadata": {},
     "output_type": "display_data"
    },
    {
     "data": {
      "text/html": [
       " View run at <a href='https://wandb.ai/bhkim003-seoul-national-university/reservoir/runs/95k8ki21' target=\"_blank\">https://wandb.ai/bhkim003-seoul-national-university/reservoir/runs/95k8ki21</a>"
      ],
      "text/plain": [
       "<IPython.core.display.HTML object>"
      ]
     },
     "metadata": {},
     "output_type": "display_data"
    },
    {
     "name": "stderr",
     "output_type": "stream",
     "text": [
      "\u001b[34m\u001b[1mwandb\u001b[0m: \u001b[33mWARNING\u001b[0m Config item 'data_path' was locked by 'sweep' (ignored update).\n",
      "\u001b[34m\u001b[1mwandb\u001b[0m: \u001b[33mWARNING\u001b[0m Config item 'which_data' was locked by 'sweep' (ignored update).\n",
      "\u001b[34m\u001b[1mwandb\u001b[0m: \u001b[33mWARNING\u001b[0m Config item 'learning_rate' was locked by 'sweep' (ignored update).\n",
      "\u001b[34m\u001b[1mwandb\u001b[0m: \u001b[33mWARNING\u001b[0m Config item 'IMAGE_SIZE' was locked by 'sweep' (ignored update).\n",
      "\u001b[34m\u001b[1mwandb\u001b[0m: \u001b[33mWARNING\u001b[0m Config item 'EPOCH' was locked by 'sweep' (ignored update).\n",
      "\u001b[34m\u001b[1mwandb\u001b[0m: \u001b[33mWARNING\u001b[0m Config item 'rate_coding' was locked by 'sweep' (ignored update).\n",
      "\u001b[34m\u001b[1mwandb\u001b[0m: \u001b[33mWARNING\u001b[0m Config item 'pre_spike_weight' was locked by 'sweep' (ignored update).\n",
      "\u001b[34m\u001b[1mwandb\u001b[0m: \u001b[33mWARNING\u001b[0m Config item 'dvs_duration' was locked by 'sweep' (ignored update).\n",
      "\u001b[34m\u001b[1mwandb\u001b[0m: \u001b[33mWARNING\u001b[0m Config item 'dvs_clipping' was locked by 'sweep' (ignored update).\n",
      "\u001b[34m\u001b[1mwandb\u001b[0m: \u001b[33mWARNING\u001b[0m Config item 'no_reservoir' was locked by 'sweep' (ignored update).\n",
      "\u001b[34m\u001b[1mwandb\u001b[0m: \u001b[33mWARNING\u001b[0m Config item 'FC_RESERVOIR' was locked by 'sweep' (ignored update).\n"
     ]
    },
    {
     "name": "stdout",
     "output_type": "stream",
     "text": [
      "The directory [/data2/gesture/duration_100000] already exists.\n",
      "The directory [/data2/gesture/duration_100000] already exists.\n",
      "RESERVOIR_NET(\n",
      "  (reservoir): RESERVOIR(\n",
      "    (reservoir): Linear(in_features=4608, out_features=4608, bias=True)\n",
      "  )\n",
      "  (classifier): Linear(in_features=4608, out_features=10, bias=True)\n",
      ")\n",
      "Epoch 1\n",
      "Train Accuracy: 42.12%\n",
      "Test loss: 1.451, Val Accuracy: 51.52%\n",
      "Epoch 2\n",
      "Train Accuracy: 65.12%\n",
      "Test loss: 1.133, Val Accuracy: 55.30%\n",
      "Epoch 3\n",
      "Train Accuracy: 74.03%\n",
      "Test loss: 1.061, Val Accuracy: 57.58%\n",
      "Epoch 4\n",
      "Train Accuracy: 80.71%\n",
      "Test loss: 1.060, Val Accuracy: 64.02%\n",
      "Epoch 5\n",
      "Train Accuracy: 87.94%\n",
      "Test loss: 1.003, Val Accuracy: 66.67%\n",
      "Epoch 6\n",
      "Train Accuracy: 88.03%\n",
      "Test loss: 1.019, Val Accuracy: 65.91%\n",
      "Epoch 7\n",
      "Train Accuracy: 90.26%\n",
      "Test loss: 1.041, Val Accuracy: 62.50%\n",
      "Epoch 8\n",
      "Train Accuracy: 93.69%\n",
      "Test loss: 0.891, Val Accuracy: 68.94%\n",
      "Epoch 9\n",
      "Train Accuracy: 94.99%\n",
      "Test loss: 0.928, Val Accuracy: 67.42%\n",
      "Epoch 10\n",
      "Train Accuracy: 97.12%\n",
      "Test loss: 0.864, Val Accuracy: 71.21%\n",
      "Epoch 11\n",
      "Train Accuracy: 98.33%\n",
      "Test loss: 0.887, Val Accuracy: 70.45%\n",
      "Epoch 12\n",
      "Train Accuracy: 98.70%\n",
      "Test loss: 0.875, Val Accuracy: 69.70%\n",
      "Epoch 13\n",
      "Train Accuracy: 98.98%\n",
      "Test loss: 0.881, Val Accuracy: 69.70%\n",
      "Epoch 14\n",
      "Train Accuracy: 99.44%\n",
      "Test loss: 0.912, Val Accuracy: 71.59%\n",
      "Epoch 15\n",
      "Train Accuracy: 99.54%\n",
      "Test loss: 0.922, Val Accuracy: 70.08%\n",
      "Epoch 16\n",
      "Train Accuracy: 99.26%\n",
      "Test loss: 0.897, Val Accuracy: 73.86%\n",
      "Epoch 17\n",
      "Train Accuracy: 99.81%\n",
      "Test loss: 0.884, Val Accuracy: 70.08%\n",
      "Epoch 18\n",
      "Train Accuracy: 99.72%\n",
      "Test loss: 0.892, Val Accuracy: 70.83%\n",
      "Epoch 19\n",
      "Train Accuracy: 99.81%\n",
      "Test loss: 0.857, Val Accuracy: 74.24%\n",
      "Epoch 20\n",
      "Train Accuracy: 100.00%\n",
      "Test loss: 0.843, Val Accuracy: 71.59%\n"
     ]
    },
    {
     "data": {
      "application/vnd.jupyter.widget-view+json": {
       "model_id": "b7582873611b4f42a29c11c21db53bd9",
       "version_major": 2,
       "version_minor": 0
      },
      "text/plain": [
       "VBox(children=(Label(value='0.326 MB of 0.326 MB uploaded\\r'), FloatProgress(value=1.0, max=1.0)))"
      ]
     },
     "metadata": {},
     "output_type": "display_data"
    },
    {
     "data": {
      "text/html": [
       "<style>\n",
       "    table.wandb td:nth-child(1) { padding: 0 10px; text-align: left ; width: auto;} td:nth-child(2) {text-align: left ; width: 100%}\n",
       "    .wandb-row { display: flex; flex-direction: row; flex-wrap: wrap; justify-content: flex-start; width: 100% }\n",
       "    .wandb-col { display: flex; flex-direction: column; flex-basis: 100%; flex: 1; padding: 10px; }\n",
       "    </style>\n",
       "<div class=\"wandb-row\"><div class=\"wandb-col\"><h3>Run history:</h3><br/><table class=\"wandb\"><tr><td>epoch</td><td>▁▁▂▂▂▃▃▄▄▄▅▅▅▆▆▇▇▇██</td></tr><tr><td>iter_accuracy</td><td>▁▂▂▅▅▅▇▆█▇▇▇▇▇▇▇▇▅██▇██▇███▇█▇██████████</td></tr><tr><td>tr_accuracy</td><td>▁▄▅▆▇▇▇▇▇███████████</td></tr><tr><td>val_accuracy</td><td>▁▂▃▅▆▅▄▆▆▇▇▇▇▇▇█▇▇█▇</td></tr></table><br/></div><div class=\"wandb-col\"><h3>Run summary:</h3><br/><table class=\"wandb\"><tr><td>epoch</td><td>19</td></tr><tr><td>iter_accuracy</td><td>100.0</td></tr><tr><td>tr_accuracy</td><td>100.0</td></tr><tr><td>val_accuracy</td><td>71.59091</td></tr></table><br/></div></div>"
      ],
      "text/plain": [
       "<IPython.core.display.HTML object>"
      ]
     },
     "metadata": {},
     "output_type": "display_data"
    },
    {
     "data": {
      "text/html": [
       " View run <strong style=\"color:#cdcd00\">copper-sweep-65</strong> at: <a href='https://wandb.ai/bhkim003-seoul-national-university/reservoir/runs/95k8ki21' target=\"_blank\">https://wandb.ai/bhkim003-seoul-national-university/reservoir/runs/95k8ki21</a><br/> View project at: <a href='https://wandb.ai/bhkim003-seoul-national-university/reservoir' target=\"_blank\">https://wandb.ai/bhkim003-seoul-national-university/reservoir</a><br/>Synced 7 W&B file(s), 0 media file(s), 0 artifact file(s) and 1 other file(s)"
      ],
      "text/plain": [
       "<IPython.core.display.HTML object>"
      ]
     },
     "metadata": {},
     "output_type": "display_data"
    },
    {
     "data": {
      "text/html": [
       "Find logs at: <code>./wandb/run-20240728_030817-95k8ki21/logs</code>"
      ],
      "text/plain": [
       "<IPython.core.display.HTML object>"
      ]
     },
     "metadata": {},
     "output_type": "display_data"
    },
    {
     "data": {
      "text/html": [
       "The new W&B backend becomes opt-out in version 0.18.0; try it out with `wandb.require(\"core\")`! See https://wandb.me/wandb-core for more information."
      ],
      "text/plain": [
       "<IPython.core.display.HTML object>"
      ]
     },
     "metadata": {},
     "output_type": "display_data"
    },
    {
     "name": "stderr",
     "output_type": "stream",
     "text": [
      "\u001b[34m\u001b[1mwandb\u001b[0m: Agent Starting Run: w2556pq3 with config:\n",
      "\u001b[34m\u001b[1mwandb\u001b[0m: \tEPOCH: 20\n",
      "\u001b[34m\u001b[1mwandb\u001b[0m: \tFC_RESERVOIR: True\n",
      "\u001b[34m\u001b[1mwandb\u001b[0m: \tIMAGE_SIZE: 128\n",
      "\u001b[34m\u001b[1mwandb\u001b[0m: \tbatch_size: 32\n",
      "\u001b[34m\u001b[1mwandb\u001b[0m: \tdata_path: /data2\n",
      "\u001b[34m\u001b[1mwandb\u001b[0m: \tdecay: 0.42896554536185705\n",
      "\u001b[34m\u001b[1mwandb\u001b[0m: \tdvs_clipping: True\n",
      "\u001b[34m\u001b[1mwandb\u001b[0m: \tdvs_duration: 100000\n",
      "\u001b[34m\u001b[1mwandb\u001b[0m: \tlearning_rate: 0.014031734347562289\n",
      "\u001b[34m\u001b[1mwandb\u001b[0m: \tno_reservoir: True\n",
      "\u001b[34m\u001b[1mwandb\u001b[0m: \tpre_spike_weight: 8.29554503864772\n",
      "\u001b[34m\u001b[1mwandb\u001b[0m: \trate_coding: False\n",
      "\u001b[34m\u001b[1mwandb\u001b[0m: \ttime_step: 8\n",
      "\u001b[34m\u001b[1mwandb\u001b[0m: \twhich_data: DVS_GESTURE\n",
      "Failed to detect the name of this notebook, you can set it manually with the WANDB_NOTEBOOK_NAME environment variable to enable code saving.\n"
     ]
    },
    {
     "data": {
      "text/html": [
       "Tracking run with wandb version 0.17.5"
      ],
      "text/plain": [
       "<IPython.core.display.HTML object>"
      ]
     },
     "metadata": {},
     "output_type": "display_data"
    },
    {
     "data": {
      "text/html": [
       "Run data is saved locally in <code>/nfs/home/bhkim003/github_folder/ByeonghyeonKim/my_snn/wandb/run-20240728_032253-w2556pq3</code>"
      ],
      "text/plain": [
       "<IPython.core.display.HTML object>"
      ]
     },
     "metadata": {},
     "output_type": "display_data"
    },
    {
     "data": {
      "text/html": [
       "Syncing run <strong><a href='https://wandb.ai/bhkim003-seoul-national-university/reservoir/runs/w2556pq3' target=\"_blank\">warm-sweep-66</a></strong> to <a href='https://wandb.ai/bhkim003-seoul-national-university/reservoir' target=\"_blank\">Weights & Biases</a> (<a href='https://wandb.me/run' target=\"_blank\">docs</a>)<br/>Sweep page: <a href='https://wandb.ai/bhkim003-seoul-national-university/reservoir/sweeps/sxt07a51' target=\"_blank\">https://wandb.ai/bhkim003-seoul-national-university/reservoir/sweeps/sxt07a51</a>"
      ],
      "text/plain": [
       "<IPython.core.display.HTML object>"
      ]
     },
     "metadata": {},
     "output_type": "display_data"
    },
    {
     "data": {
      "text/html": [
       " View project at <a href='https://wandb.ai/bhkim003-seoul-national-university/reservoir' target=\"_blank\">https://wandb.ai/bhkim003-seoul-national-university/reservoir</a>"
      ],
      "text/plain": [
       "<IPython.core.display.HTML object>"
      ]
     },
     "metadata": {},
     "output_type": "display_data"
    },
    {
     "data": {
      "text/html": [
       " View sweep at <a href='https://wandb.ai/bhkim003-seoul-national-university/reservoir/sweeps/sxt07a51' target=\"_blank\">https://wandb.ai/bhkim003-seoul-national-university/reservoir/sweeps/sxt07a51</a>"
      ],
      "text/plain": [
       "<IPython.core.display.HTML object>"
      ]
     },
     "metadata": {},
     "output_type": "display_data"
    },
    {
     "data": {
      "text/html": [
       " View run at <a href='https://wandb.ai/bhkim003-seoul-national-university/reservoir/runs/w2556pq3' target=\"_blank\">https://wandb.ai/bhkim003-seoul-national-university/reservoir/runs/w2556pq3</a>"
      ],
      "text/plain": [
       "<IPython.core.display.HTML object>"
      ]
     },
     "metadata": {},
     "output_type": "display_data"
    },
    {
     "name": "stderr",
     "output_type": "stream",
     "text": [
      "\u001b[34m\u001b[1mwandb\u001b[0m: \u001b[33mWARNING\u001b[0m Config item 'data_path' was locked by 'sweep' (ignored update).\n",
      "\u001b[34m\u001b[1mwandb\u001b[0m: \u001b[33mWARNING\u001b[0m Config item 'which_data' was locked by 'sweep' (ignored update).\n",
      "\u001b[34m\u001b[1mwandb\u001b[0m: \u001b[33mWARNING\u001b[0m Config item 'learning_rate' was locked by 'sweep' (ignored update).\n",
      "\u001b[34m\u001b[1mwandb\u001b[0m: \u001b[33mWARNING\u001b[0m Config item 'IMAGE_SIZE' was locked by 'sweep' (ignored update).\n",
      "\u001b[34m\u001b[1mwandb\u001b[0m: \u001b[33mWARNING\u001b[0m Config item 'EPOCH' was locked by 'sweep' (ignored update).\n",
      "\u001b[34m\u001b[1mwandb\u001b[0m: \u001b[33mWARNING\u001b[0m Config item 'rate_coding' was locked by 'sweep' (ignored update).\n",
      "\u001b[34m\u001b[1mwandb\u001b[0m: \u001b[33mWARNING\u001b[0m Config item 'pre_spike_weight' was locked by 'sweep' (ignored update).\n",
      "\u001b[34m\u001b[1mwandb\u001b[0m: \u001b[33mWARNING\u001b[0m Config item 'dvs_duration' was locked by 'sweep' (ignored update).\n",
      "\u001b[34m\u001b[1mwandb\u001b[0m: \u001b[33mWARNING\u001b[0m Config item 'dvs_clipping' was locked by 'sweep' (ignored update).\n",
      "\u001b[34m\u001b[1mwandb\u001b[0m: \u001b[33mWARNING\u001b[0m Config item 'no_reservoir' was locked by 'sweep' (ignored update).\n",
      "\u001b[34m\u001b[1mwandb\u001b[0m: \u001b[33mWARNING\u001b[0m Config item 'FC_RESERVOIR' was locked by 'sweep' (ignored update).\n"
     ]
    },
    {
     "name": "stdout",
     "output_type": "stream",
     "text": [
      "The directory [/data2/gesture/duration_100000] already exists.\n",
      "The directory [/data2/gesture/duration_100000] already exists.\n",
      "RESERVOIR_NET(\n",
      "  (classifier): Linear(in_features=32768, out_features=10, bias=True)\n",
      ")\n",
      "Epoch 1\n",
      "Train Accuracy: 51.11%\n",
      "Test loss: 2.048, Val Accuracy: 50.38%\n",
      "Epoch 2\n",
      "Train Accuracy: 75.51%\n",
      "Test loss: 1.110, Val Accuracy: 61.36%\n",
      "Epoch 3\n",
      "Train Accuracy: 89.80%\n",
      "Test loss: 1.080, Val Accuracy: 64.77%\n",
      "Epoch 4\n",
      "Train Accuracy: 95.27%\n",
      "Test loss: 0.985, Val Accuracy: 66.29%\n",
      "Epoch 5\n",
      "Train Accuracy: 98.89%\n",
      "Test loss: 0.917, Val Accuracy: 67.42%\n",
      "Epoch 6\n",
      "Train Accuracy: 99.54%\n",
      "Test loss: 1.012, Val Accuracy: 69.70%\n",
      "Epoch 7\n",
      "Train Accuracy: 100.00%\n",
      "Test loss: 1.037, Val Accuracy: 68.94%\n",
      "Epoch 8\n",
      "Train Accuracy: 100.00%\n",
      "Test loss: 0.928, Val Accuracy: 69.32%\n",
      "Epoch 9\n",
      "Train Accuracy: 100.00%\n",
      "Test loss: 1.044, Val Accuracy: 69.70%\n",
      "Epoch 10\n",
      "Train Accuracy: 100.00%\n",
      "Test loss: 0.990, Val Accuracy: 68.94%\n",
      "Epoch 11\n",
      "Train Accuracy: 100.00%\n",
      "Test loss: 0.995, Val Accuracy: 69.32%\n",
      "Epoch 12\n",
      "Train Accuracy: 100.00%\n",
      "Test loss: 1.008, Val Accuracy: 71.59%\n",
      "Epoch 13\n",
      "Train Accuracy: 100.00%\n",
      "Test loss: 0.980, Val Accuracy: 70.83%\n",
      "Epoch 14\n",
      "Train Accuracy: 100.00%\n",
      "Test loss: 1.006, Val Accuracy: 70.45%\n",
      "Epoch 15\n",
      "Train Accuracy: 100.00%\n",
      "Test loss: 0.996, Val Accuracy: 69.32%\n",
      "Epoch 16\n",
      "Train Accuracy: 100.00%\n",
      "Test loss: 1.055, Val Accuracy: 69.32%\n",
      "Epoch 17\n",
      "Train Accuracy: 100.00%\n",
      "Test loss: 1.003, Val Accuracy: 70.83%\n",
      "Epoch 18\n",
      "Train Accuracy: 100.00%\n",
      "Test loss: 0.995, Val Accuracy: 70.08%\n",
      "Epoch 19\n",
      "Train Accuracy: 100.00%\n",
      "Test loss: 1.001, Val Accuracy: 70.83%\n",
      "Epoch 20\n",
      "Train Accuracy: 100.00%\n",
      "Test loss: 1.033, Val Accuracy: 70.08%\n"
     ]
    },
    {
     "data": {
      "application/vnd.jupyter.widget-view+json": {
       "model_id": "b30bb6cb4e6d4c54a0baa9c2f053d353",
       "version_major": 2,
       "version_minor": 0
      },
      "text/plain": [
       "VBox(children=(Label(value='0.326 MB of 0.326 MB uploaded\\r'), FloatProgress(value=1.0, max=1.0)))"
      ]
     },
     "metadata": {},
     "output_type": "display_data"
    },
    {
     "data": {
      "text/html": [
       "<style>\n",
       "    table.wandb td:nth-child(1) { padding: 0 10px; text-align: left ; width: auto;} td:nth-child(2) {text-align: left ; width: 100%}\n",
       "    .wandb-row { display: flex; flex-direction: row; flex-wrap: wrap; justify-content: flex-start; width: 100% }\n",
       "    .wandb-col { display: flex; flex-direction: column; flex-basis: 100%; flex: 1; padding: 10px; }\n",
       "    </style>\n",
       "<div class=\"wandb-row\"><div class=\"wandb-col\"><h3>Run history:</h3><br/><table class=\"wandb\"><tr><td>epoch</td><td>▁▁▂▂▂▃▃▄▄▄▅▅▅▆▆▇▇▇██</td></tr><tr><td>iter_accuracy</td><td>▁▂▅▄▅▇▇▇████████████████████████████████</td></tr><tr><td>tr_accuracy</td><td>▁▄▇▇████████████████</td></tr><tr><td>val_accuracy</td><td>▁▅▆▆▇▇▇▇▇▇▇███▇▇█▇█▇</td></tr></table><br/></div><div class=\"wandb-col\"><h3>Run summary:</h3><br/><table class=\"wandb\"><tr><td>epoch</td><td>19</td></tr><tr><td>iter_accuracy</td><td>100.0</td></tr><tr><td>tr_accuracy</td><td>100.0</td></tr><tr><td>val_accuracy</td><td>70.07576</td></tr></table><br/></div></div>"
      ],
      "text/plain": [
       "<IPython.core.display.HTML object>"
      ]
     },
     "metadata": {},
     "output_type": "display_data"
    },
    {
     "data": {
      "text/html": [
       " View run <strong style=\"color:#cdcd00\">warm-sweep-66</strong> at: <a href='https://wandb.ai/bhkim003-seoul-national-university/reservoir/runs/w2556pq3' target=\"_blank\">https://wandb.ai/bhkim003-seoul-national-university/reservoir/runs/w2556pq3</a><br/> View project at: <a href='https://wandb.ai/bhkim003-seoul-national-university/reservoir' target=\"_blank\">https://wandb.ai/bhkim003-seoul-national-university/reservoir</a><br/>Synced 7 W&B file(s), 0 media file(s), 0 artifact file(s) and 1 other file(s)"
      ],
      "text/plain": [
       "<IPython.core.display.HTML object>"
      ]
     },
     "metadata": {},
     "output_type": "display_data"
    },
    {
     "data": {
      "text/html": [
       "Find logs at: <code>./wandb/run-20240728_032253-w2556pq3/logs</code>"
      ],
      "text/plain": [
       "<IPython.core.display.HTML object>"
      ]
     },
     "metadata": {},
     "output_type": "display_data"
    },
    {
     "data": {
      "text/html": [
       "The new W&B backend becomes opt-out in version 0.18.0; try it out with `wandb.require(\"core\")`! See https://wandb.me/wandb-core for more information."
      ],
      "text/plain": [
       "<IPython.core.display.HTML object>"
      ]
     },
     "metadata": {},
     "output_type": "display_data"
    },
    {
     "name": "stderr",
     "output_type": "stream",
     "text": [
      "\u001b[34m\u001b[1mwandb\u001b[0m: Agent Starting Run: wzzo2zp1 with config:\n",
      "\u001b[34m\u001b[1mwandb\u001b[0m: \tEPOCH: 20\n",
      "\u001b[34m\u001b[1mwandb\u001b[0m: \tFC_RESERVOIR: True\n",
      "\u001b[34m\u001b[1mwandb\u001b[0m: \tIMAGE_SIZE: 16\n",
      "\u001b[34m\u001b[1mwandb\u001b[0m: \tbatch_size: 32\n",
      "\u001b[34m\u001b[1mwandb\u001b[0m: \tdata_path: /data2\n",
      "\u001b[34m\u001b[1mwandb\u001b[0m: \tdecay: 0.569694526923266\n",
      "\u001b[34m\u001b[1mwandb\u001b[0m: \tdvs_clipping: True\n",
      "\u001b[34m\u001b[1mwandb\u001b[0m: \tdvs_duration: 100000\n",
      "\u001b[34m\u001b[1mwandb\u001b[0m: \tlearning_rate: 0.02405407653211134\n",
      "\u001b[34m\u001b[1mwandb\u001b[0m: \tno_reservoir: False\n",
      "\u001b[34m\u001b[1mwandb\u001b[0m: \tpre_spike_weight: 5.30759466330344\n",
      "\u001b[34m\u001b[1mwandb\u001b[0m: \trate_coding: False\n",
      "\u001b[34m\u001b[1mwandb\u001b[0m: \ttime_step: 5\n",
      "\u001b[34m\u001b[1mwandb\u001b[0m: \twhich_data: DVS_GESTURE\n",
      "Failed to detect the name of this notebook, you can set it manually with the WANDB_NOTEBOOK_NAME environment variable to enable code saving.\n"
     ]
    },
    {
     "data": {
      "text/html": [
       "Tracking run with wandb version 0.17.5"
      ],
      "text/plain": [
       "<IPython.core.display.HTML object>"
      ]
     },
     "metadata": {},
     "output_type": "display_data"
    },
    {
     "data": {
      "text/html": [
       "Run data is saved locally in <code>/nfs/home/bhkim003/github_folder/ByeonghyeonKim/my_snn/wandb/run-20240728_034205-wzzo2zp1</code>"
      ],
      "text/plain": [
       "<IPython.core.display.HTML object>"
      ]
     },
     "metadata": {},
     "output_type": "display_data"
    },
    {
     "data": {
      "text/html": [
       "Syncing run <strong><a href='https://wandb.ai/bhkim003-seoul-national-university/reservoir/runs/wzzo2zp1' target=\"_blank\">glamorous-sweep-67</a></strong> to <a href='https://wandb.ai/bhkim003-seoul-national-university/reservoir' target=\"_blank\">Weights & Biases</a> (<a href='https://wandb.me/run' target=\"_blank\">docs</a>)<br/>Sweep page: <a href='https://wandb.ai/bhkim003-seoul-national-university/reservoir/sweeps/sxt07a51' target=\"_blank\">https://wandb.ai/bhkim003-seoul-national-university/reservoir/sweeps/sxt07a51</a>"
      ],
      "text/plain": [
       "<IPython.core.display.HTML object>"
      ]
     },
     "metadata": {},
     "output_type": "display_data"
    },
    {
     "data": {
      "text/html": [
       " View project at <a href='https://wandb.ai/bhkim003-seoul-national-university/reservoir' target=\"_blank\">https://wandb.ai/bhkim003-seoul-national-university/reservoir</a>"
      ],
      "text/plain": [
       "<IPython.core.display.HTML object>"
      ]
     },
     "metadata": {},
     "output_type": "display_data"
    },
    {
     "data": {
      "text/html": [
       " View sweep at <a href='https://wandb.ai/bhkim003-seoul-national-university/reservoir/sweeps/sxt07a51' target=\"_blank\">https://wandb.ai/bhkim003-seoul-national-university/reservoir/sweeps/sxt07a51</a>"
      ],
      "text/plain": [
       "<IPython.core.display.HTML object>"
      ]
     },
     "metadata": {},
     "output_type": "display_data"
    },
    {
     "data": {
      "text/html": [
       " View run at <a href='https://wandb.ai/bhkim003-seoul-national-university/reservoir/runs/wzzo2zp1' target=\"_blank\">https://wandb.ai/bhkim003-seoul-national-university/reservoir/runs/wzzo2zp1</a>"
      ],
      "text/plain": [
       "<IPython.core.display.HTML object>"
      ]
     },
     "metadata": {},
     "output_type": "display_data"
    },
    {
     "name": "stderr",
     "output_type": "stream",
     "text": [
      "\u001b[34m\u001b[1mwandb\u001b[0m: \u001b[33mWARNING\u001b[0m Config item 'data_path' was locked by 'sweep' (ignored update).\n",
      "\u001b[34m\u001b[1mwandb\u001b[0m: \u001b[33mWARNING\u001b[0m Config item 'which_data' was locked by 'sweep' (ignored update).\n",
      "\u001b[34m\u001b[1mwandb\u001b[0m: \u001b[33mWARNING\u001b[0m Config item 'learning_rate' was locked by 'sweep' (ignored update).\n",
      "\u001b[34m\u001b[1mwandb\u001b[0m: \u001b[33mWARNING\u001b[0m Config item 'IMAGE_SIZE' was locked by 'sweep' (ignored update).\n",
      "\u001b[34m\u001b[1mwandb\u001b[0m: \u001b[33mWARNING\u001b[0m Config item 'EPOCH' was locked by 'sweep' (ignored update).\n",
      "\u001b[34m\u001b[1mwandb\u001b[0m: \u001b[33mWARNING\u001b[0m Config item 'rate_coding' was locked by 'sweep' (ignored update).\n",
      "\u001b[34m\u001b[1mwandb\u001b[0m: \u001b[33mWARNING\u001b[0m Config item 'pre_spike_weight' was locked by 'sweep' (ignored update).\n",
      "\u001b[34m\u001b[1mwandb\u001b[0m: \u001b[33mWARNING\u001b[0m Config item 'dvs_duration' was locked by 'sweep' (ignored update).\n",
      "\u001b[34m\u001b[1mwandb\u001b[0m: \u001b[33mWARNING\u001b[0m Config item 'dvs_clipping' was locked by 'sweep' (ignored update).\n",
      "\u001b[34m\u001b[1mwandb\u001b[0m: \u001b[33mWARNING\u001b[0m Config item 'no_reservoir' was locked by 'sweep' (ignored update).\n",
      "\u001b[34m\u001b[1mwandb\u001b[0m: \u001b[33mWARNING\u001b[0m Config item 'FC_RESERVOIR' was locked by 'sweep' (ignored update).\n"
     ]
    },
    {
     "name": "stdout",
     "output_type": "stream",
     "text": [
      "The directory [/data2/gesture/duration_100000] already exists.\n",
      "The directory [/data2/gesture/duration_100000] already exists.\n",
      "RESERVOIR_NET(\n",
      "  (reservoir): RESERVOIR(\n",
      "    (reservoir): Linear(in_features=512, out_features=512, bias=True)\n",
      "  )\n",
      "  (classifier): Linear(in_features=512, out_features=10, bias=True)\n",
      ")\n",
      "Epoch 1\n",
      "Train Accuracy: 35.53%\n",
      "Test loss: 1.628, Val Accuracy: 42.05%\n",
      "Epoch 2\n",
      "Train Accuracy: 55.01%\n",
      "Test loss: 1.397, Val Accuracy: 48.48%\n",
      "Epoch 3\n",
      "Train Accuracy: 63.54%\n",
      "Test loss: 1.307, Val Accuracy: 46.97%\n",
      "Epoch 4\n",
      "Train Accuracy: 68.65%\n",
      "Test loss: 1.274, Val Accuracy: 50.38%\n",
      "Epoch 5\n",
      "Train Accuracy: 71.52%\n",
      "Test loss: 1.273, Val Accuracy: 54.55%\n",
      "Epoch 6\n",
      "Train Accuracy: 74.21%\n",
      "Test loss: 1.202, Val Accuracy: 57.20%\n",
      "Epoch 7\n",
      "Train Accuracy: 76.90%\n",
      "Test loss: 1.235, Val Accuracy: 53.79%\n",
      "Epoch 8\n",
      "Train Accuracy: 79.13%\n",
      "Test loss: 1.243, Val Accuracy: 53.79%\n",
      "Epoch 9\n",
      "Train Accuracy: 81.45%\n",
      "Test loss: 1.202, Val Accuracy: 56.06%\n",
      "Epoch 10\n",
      "Train Accuracy: 81.82%\n",
      "Test loss: 1.235, Val Accuracy: 54.55%\n",
      "Epoch 11\n",
      "Train Accuracy: 82.37%\n",
      "Test loss: 1.205, Val Accuracy: 54.92%\n",
      "Epoch 12\n",
      "Train Accuracy: 83.40%\n",
      "Test loss: 1.224, Val Accuracy: 55.30%\n",
      "Epoch 13\n",
      "Train Accuracy: 86.55%\n",
      "Test loss: 1.175, Val Accuracy: 54.55%\n",
      "Epoch 14\n",
      "Train Accuracy: 85.71%\n",
      "Test loss: 1.239, Val Accuracy: 53.79%\n",
      "Epoch 15\n",
      "Train Accuracy: 86.46%\n",
      "Test loss: 1.169, Val Accuracy: 56.06%\n",
      "Epoch 16\n",
      "Train Accuracy: 88.03%\n",
      "Test loss: 1.189, Val Accuracy: 51.89%\n",
      "Epoch 17\n",
      "Train Accuracy: 89.61%\n",
      "Test loss: 1.192, Val Accuracy: 56.44%\n",
      "Epoch 18\n",
      "Train Accuracy: 89.70%\n",
      "Test loss: 1.201, Val Accuracy: 55.68%\n",
      "Epoch 19\n",
      "Train Accuracy: 91.00%\n",
      "Test loss: 1.256, Val Accuracy: 53.03%\n",
      "Epoch 20\n",
      "Train Accuracy: 90.54%\n",
      "Test loss: 1.245, Val Accuracy: 54.92%\n"
     ]
    },
    {
     "data": {
      "application/vnd.jupyter.widget-view+json": {
       "model_id": "f4cfd9970ef6466cb399da8eba6921f9",
       "version_major": 2,
       "version_minor": 0
      },
      "text/plain": [
       "VBox(children=(Label(value='0.326 MB of 0.326 MB uploaded\\r'), FloatProgress(value=1.0, max=1.0)))"
      ]
     },
     "metadata": {},
     "output_type": "display_data"
    },
    {
     "data": {
      "text/html": [
       "<style>\n",
       "    table.wandb td:nth-child(1) { padding: 0 10px; text-align: left ; width: auto;} td:nth-child(2) {text-align: left ; width: 100%}\n",
       "    .wandb-row { display: flex; flex-direction: row; flex-wrap: wrap; justify-content: flex-start; width: 100% }\n",
       "    .wandb-col { display: flex; flex-direction: column; flex-basis: 100%; flex: 1; padding: 10px; }\n",
       "    </style>\n",
       "<div class=\"wandb-row\"><div class=\"wandb-col\"><h3>Run history:</h3><br/><table class=\"wandb\"><tr><td>epoch</td><td>▁▁▂▂▂▃▃▄▄▄▅▅▅▆▆▇▇▇██</td></tr><tr><td>iter_accuracy</td><td>▁▃▄▃▄▅▅▅▅▄▄▄▆▅▆▇▆▆▆▆▆▆▆▇▇▆▆▇▇▇▇▆█▇▇▇▇▇▇▇</td></tr><tr><td>tr_accuracy</td><td>▁▃▅▅▆▆▆▇▇▇▇▇▇▇▇█████</td></tr><tr><td>val_accuracy</td><td>▁▄▃▅▇█▆▆▇▇▇▇▇▆▇▆█▇▆▇</td></tr></table><br/></div><div class=\"wandb-col\"><h3>Run summary:</h3><br/><table class=\"wandb\"><tr><td>epoch</td><td>19</td></tr><tr><td>iter_accuracy</td><td>90.90909</td></tr><tr><td>tr_accuracy</td><td>90.53803</td></tr><tr><td>val_accuracy</td><td>54.92424</td></tr></table><br/></div></div>"
      ],
      "text/plain": [
       "<IPython.core.display.HTML object>"
      ]
     },
     "metadata": {},
     "output_type": "display_data"
    },
    {
     "data": {
      "text/html": [
       " View run <strong style=\"color:#cdcd00\">glamorous-sweep-67</strong> at: <a href='https://wandb.ai/bhkim003-seoul-national-university/reservoir/runs/wzzo2zp1' target=\"_blank\">https://wandb.ai/bhkim003-seoul-national-university/reservoir/runs/wzzo2zp1</a><br/> View project at: <a href='https://wandb.ai/bhkim003-seoul-national-university/reservoir' target=\"_blank\">https://wandb.ai/bhkim003-seoul-national-university/reservoir</a><br/>Synced 7 W&B file(s), 0 media file(s), 0 artifact file(s) and 1 other file(s)"
      ],
      "text/plain": [
       "<IPython.core.display.HTML object>"
      ]
     },
     "metadata": {},
     "output_type": "display_data"
    },
    {
     "data": {
      "text/html": [
       "Find logs at: <code>./wandb/run-20240728_034205-wzzo2zp1/logs</code>"
      ],
      "text/plain": [
       "<IPython.core.display.HTML object>"
      ]
     },
     "metadata": {},
     "output_type": "display_data"
    },
    {
     "data": {
      "text/html": [
       "The new W&B backend becomes opt-out in version 0.18.0; try it out with `wandb.require(\"core\")`! See https://wandb.me/wandb-core for more information."
      ],
      "text/plain": [
       "<IPython.core.display.HTML object>"
      ]
     },
     "metadata": {},
     "output_type": "display_data"
    },
    {
     "name": "stderr",
     "output_type": "stream",
     "text": [
      "\u001b[34m\u001b[1mwandb\u001b[0m: Agent Starting Run: d5r616jk with config:\n",
      "\u001b[34m\u001b[1mwandb\u001b[0m: \tEPOCH: 20\n",
      "\u001b[34m\u001b[1mwandb\u001b[0m: \tFC_RESERVOIR: True\n",
      "\u001b[34m\u001b[1mwandb\u001b[0m: \tIMAGE_SIZE: 48\n",
      "\u001b[34m\u001b[1mwandb\u001b[0m: \tbatch_size: 32\n",
      "\u001b[34m\u001b[1mwandb\u001b[0m: \tdata_path: /data2\n",
      "\u001b[34m\u001b[1mwandb\u001b[0m: \tdecay: 0.985507060885268\n",
      "\u001b[34m\u001b[1mwandb\u001b[0m: \tdvs_clipping: True\n",
      "\u001b[34m\u001b[1mwandb\u001b[0m: \tdvs_duration: 100000\n",
      "\u001b[34m\u001b[1mwandb\u001b[0m: \tlearning_rate: 0.0035270587346712136\n",
      "\u001b[34m\u001b[1mwandb\u001b[0m: \tno_reservoir: True\n",
      "\u001b[34m\u001b[1mwandb\u001b[0m: \tpre_spike_weight: 9.340982897654971\n",
      "\u001b[34m\u001b[1mwandb\u001b[0m: \trate_coding: True\n",
      "\u001b[34m\u001b[1mwandb\u001b[0m: \ttime_step: 5\n",
      "\u001b[34m\u001b[1mwandb\u001b[0m: \twhich_data: DVS_GESTURE\n",
      "Failed to detect the name of this notebook, you can set it manually with the WANDB_NOTEBOOK_NAME environment variable to enable code saving.\n"
     ]
    },
    {
     "data": {
      "text/html": [
       "Tracking run with wandb version 0.17.5"
      ],
      "text/plain": [
       "<IPython.core.display.HTML object>"
      ]
     },
     "metadata": {},
     "output_type": "display_data"
    },
    {
     "data": {
      "text/html": [
       "Run data is saved locally in <code>/nfs/home/bhkim003/github_folder/ByeonghyeonKim/my_snn/wandb/run-20240728_035517-d5r616jk</code>"
      ],
      "text/plain": [
       "<IPython.core.display.HTML object>"
      ]
     },
     "metadata": {},
     "output_type": "display_data"
    },
    {
     "data": {
      "text/html": [
       "Syncing run <strong><a href='https://wandb.ai/bhkim003-seoul-national-university/reservoir/runs/d5r616jk' target=\"_blank\">astral-sweep-68</a></strong> to <a href='https://wandb.ai/bhkim003-seoul-national-university/reservoir' target=\"_blank\">Weights & Biases</a> (<a href='https://wandb.me/run' target=\"_blank\">docs</a>)<br/>Sweep page: <a href='https://wandb.ai/bhkim003-seoul-national-university/reservoir/sweeps/sxt07a51' target=\"_blank\">https://wandb.ai/bhkim003-seoul-national-university/reservoir/sweeps/sxt07a51</a>"
      ],
      "text/plain": [
       "<IPython.core.display.HTML object>"
      ]
     },
     "metadata": {},
     "output_type": "display_data"
    },
    {
     "data": {
      "text/html": [
       " View project at <a href='https://wandb.ai/bhkim003-seoul-national-university/reservoir' target=\"_blank\">https://wandb.ai/bhkim003-seoul-national-university/reservoir</a>"
      ],
      "text/plain": [
       "<IPython.core.display.HTML object>"
      ]
     },
     "metadata": {},
     "output_type": "display_data"
    },
    {
     "data": {
      "text/html": [
       " View sweep at <a href='https://wandb.ai/bhkim003-seoul-national-university/reservoir/sweeps/sxt07a51' target=\"_blank\">https://wandb.ai/bhkim003-seoul-national-university/reservoir/sweeps/sxt07a51</a>"
      ],
      "text/plain": [
       "<IPython.core.display.HTML object>"
      ]
     },
     "metadata": {},
     "output_type": "display_data"
    },
    {
     "data": {
      "text/html": [
       " View run at <a href='https://wandb.ai/bhkim003-seoul-national-university/reservoir/runs/d5r616jk' target=\"_blank\">https://wandb.ai/bhkim003-seoul-national-university/reservoir/runs/d5r616jk</a>"
      ],
      "text/plain": [
       "<IPython.core.display.HTML object>"
      ]
     },
     "metadata": {},
     "output_type": "display_data"
    },
    {
     "name": "stderr",
     "output_type": "stream",
     "text": [
      "\u001b[34m\u001b[1mwandb\u001b[0m: \u001b[33mWARNING\u001b[0m Config item 'data_path' was locked by 'sweep' (ignored update).\n",
      "\u001b[34m\u001b[1mwandb\u001b[0m: \u001b[33mWARNING\u001b[0m Config item 'which_data' was locked by 'sweep' (ignored update).\n",
      "\u001b[34m\u001b[1mwandb\u001b[0m: \u001b[33mWARNING\u001b[0m Config item 'learning_rate' was locked by 'sweep' (ignored update).\n",
      "\u001b[34m\u001b[1mwandb\u001b[0m: \u001b[33mWARNING\u001b[0m Config item 'IMAGE_SIZE' was locked by 'sweep' (ignored update).\n",
      "\u001b[34m\u001b[1mwandb\u001b[0m: \u001b[33mWARNING\u001b[0m Config item 'EPOCH' was locked by 'sweep' (ignored update).\n",
      "\u001b[34m\u001b[1mwandb\u001b[0m: \u001b[33mWARNING\u001b[0m Config item 'rate_coding' was locked by 'sweep' (ignored update).\n",
      "\u001b[34m\u001b[1mwandb\u001b[0m: \u001b[33mWARNING\u001b[0m Config item 'pre_spike_weight' was locked by 'sweep' (ignored update).\n",
      "\u001b[34m\u001b[1mwandb\u001b[0m: \u001b[33mWARNING\u001b[0m Config item 'dvs_duration' was locked by 'sweep' (ignored update).\n",
      "\u001b[34m\u001b[1mwandb\u001b[0m: \u001b[33mWARNING\u001b[0m Config item 'dvs_clipping' was locked by 'sweep' (ignored update).\n",
      "\u001b[34m\u001b[1mwandb\u001b[0m: \u001b[33mWARNING\u001b[0m Config item 'no_reservoir' was locked by 'sweep' (ignored update).\n",
      "\u001b[34m\u001b[1mwandb\u001b[0m: \u001b[33mWARNING\u001b[0m Config item 'FC_RESERVOIR' was locked by 'sweep' (ignored update).\n"
     ]
    },
    {
     "name": "stdout",
     "output_type": "stream",
     "text": [
      "The directory [/data2/gesture/duration_100000] already exists.\n",
      "The directory [/data2/gesture/duration_100000] already exists.\n",
      "RESERVOIR_NET(\n",
      "  (classifier): Linear(in_features=4608, out_features=10, bias=True)\n",
      ")\n",
      "Epoch 1\n",
      "Train Accuracy: 35.71%\n",
      "Test loss: 1.525, Val Accuracy: 43.94%\n",
      "Epoch 2\n",
      "Train Accuracy: 57.33%\n",
      "Test loss: 1.321, Val Accuracy: 51.14%\n",
      "Epoch 3\n",
      "Train Accuracy: 69.02%\n",
      "Test loss: 1.262, Val Accuracy: 53.41%\n",
      "Epoch 4\n",
      "Train Accuracy: 74.30%\n",
      "Test loss: 1.196, Val Accuracy: 57.20%\n",
      "Epoch 5\n",
      "Train Accuracy: 77.09%\n",
      "Test loss: 1.151, Val Accuracy: 60.61%\n",
      "Epoch 6\n",
      "Train Accuracy: 83.30%\n",
      "Test loss: 1.179, Val Accuracy: 61.36%\n",
      "Epoch 7\n",
      "Train Accuracy: 84.97%\n",
      "Test loss: 1.130, Val Accuracy: 60.98%\n",
      "Epoch 8\n",
      "Train Accuracy: 87.20%\n",
      "Test loss: 1.095, Val Accuracy: 63.26%\n",
      "Epoch 9\n",
      "Train Accuracy: 88.87%\n",
      "Test loss: 1.138, Val Accuracy: 64.77%\n",
      "Epoch 10\n",
      "Train Accuracy: 90.63%\n",
      "Test loss: 1.046, Val Accuracy: 67.05%\n",
      "Epoch 11\n",
      "Train Accuracy: 92.02%\n",
      "Test loss: 1.042, Val Accuracy: 63.64%\n",
      "Epoch 12\n",
      "Train Accuracy: 92.86%\n",
      "Test loss: 1.052, Val Accuracy: 64.39%\n",
      "Epoch 13\n",
      "Train Accuracy: 93.78%\n",
      "Test loss: 1.180, Val Accuracy: 64.77%\n",
      "Epoch 14\n",
      "Train Accuracy: 94.90%\n",
      "Test loss: 1.042, Val Accuracy: 64.39%\n",
      "Epoch 15\n",
      "Train Accuracy: 95.73%\n",
      "Test loss: 1.031, Val Accuracy: 65.15%\n",
      "Epoch 16\n",
      "Train Accuracy: 96.20%\n",
      "Test loss: 1.021, Val Accuracy: 67.05%\n",
      "Epoch 17\n",
      "Train Accuracy: 97.12%\n",
      "Test loss: 1.044, Val Accuracy: 66.67%\n",
      "Epoch 18\n",
      "Train Accuracy: 96.75%\n",
      "Test loss: 1.038, Val Accuracy: 65.91%\n",
      "Epoch 19\n",
      "Train Accuracy: 96.94%\n",
      "Test loss: 1.046, Val Accuracy: 67.42%\n",
      "Epoch 20\n",
      "Train Accuracy: 97.96%\n",
      "Test loss: 1.035, Val Accuracy: 68.56%\n"
     ]
    },
    {
     "data": {
      "application/vnd.jupyter.widget-view+json": {
       "model_id": "10a851ad74964f26af20cae283063ed9",
       "version_major": 2,
       "version_minor": 0
      },
      "text/plain": [
       "VBox(children=(Label(value='0.326 MB of 0.326 MB uploaded\\r'), FloatProgress(value=1.0, max=1.0)))"
      ]
     },
     "metadata": {},
     "output_type": "display_data"
    },
    {
     "data": {
      "text/html": [
       "<style>\n",
       "    table.wandb td:nth-child(1) { padding: 0 10px; text-align: left ; width: auto;} td:nth-child(2) {text-align: left ; width: 100%}\n",
       "    .wandb-row { display: flex; flex-direction: row; flex-wrap: wrap; justify-content: flex-start; width: 100% }\n",
       "    .wandb-col { display: flex; flex-direction: column; flex-basis: 100%; flex: 1; padding: 10px; }\n",
       "    </style>\n",
       "<div class=\"wandb-row\"><div class=\"wandb-col\"><h3>Run history:</h3><br/><table class=\"wandb\"><tr><td>epoch</td><td>▁▁▂▂▂▃▃▄▄▄▅▅▅▆▆▇▇▇██</td></tr><tr><td>iter_accuracy</td><td>▁▃▅▄▅▅▅▆▇▅▆▇▇▇▇▆▇▇▇▇▇▇█▇▇█▇█▇███████▇███</td></tr><tr><td>tr_accuracy</td><td>▁▃▅▅▆▆▇▇▇▇▇▇████████</td></tr><tr><td>val_accuracy</td><td>▁▃▄▅▆▆▆▆▇█▇▇▇▇▇█▇▇██</td></tr></table><br/></div><div class=\"wandb-col\"><h3>Run summary:</h3><br/><table class=\"wandb\"><tr><td>epoch</td><td>19</td></tr><tr><td>iter_accuracy</td><td>100.0</td></tr><tr><td>tr_accuracy</td><td>97.95918</td></tr><tr><td>val_accuracy</td><td>68.56061</td></tr></table><br/></div></div>"
      ],
      "text/plain": [
       "<IPython.core.display.HTML object>"
      ]
     },
     "metadata": {},
     "output_type": "display_data"
    },
    {
     "data": {
      "text/html": [
       " View run <strong style=\"color:#cdcd00\">astral-sweep-68</strong> at: <a href='https://wandb.ai/bhkim003-seoul-national-university/reservoir/runs/d5r616jk' target=\"_blank\">https://wandb.ai/bhkim003-seoul-national-university/reservoir/runs/d5r616jk</a><br/> View project at: <a href='https://wandb.ai/bhkim003-seoul-national-university/reservoir' target=\"_blank\">https://wandb.ai/bhkim003-seoul-national-university/reservoir</a><br/>Synced 7 W&B file(s), 0 media file(s), 0 artifact file(s) and 1 other file(s)"
      ],
      "text/plain": [
       "<IPython.core.display.HTML object>"
      ]
     },
     "metadata": {},
     "output_type": "display_data"
    },
    {
     "data": {
      "text/html": [
       "Find logs at: <code>./wandb/run-20240728_035517-d5r616jk/logs</code>"
      ],
      "text/plain": [
       "<IPython.core.display.HTML object>"
      ]
     },
     "metadata": {},
     "output_type": "display_data"
    },
    {
     "data": {
      "text/html": [
       "The new W&B backend becomes opt-out in version 0.18.0; try it out with `wandb.require(\"core\")`! See https://wandb.me/wandb-core for more information."
      ],
      "text/plain": [
       "<IPython.core.display.HTML object>"
      ]
     },
     "metadata": {},
     "output_type": "display_data"
    },
    {
     "name": "stderr",
     "output_type": "stream",
     "text": [
      "\u001b[34m\u001b[1mwandb\u001b[0m: Agent Starting Run: onfa8eo8 with config:\n",
      "\u001b[34m\u001b[1mwandb\u001b[0m: \tEPOCH: 20\n",
      "\u001b[34m\u001b[1mwandb\u001b[0m: \tFC_RESERVOIR: True\n",
      "\u001b[34m\u001b[1mwandb\u001b[0m: \tIMAGE_SIZE: 128\n",
      "\u001b[34m\u001b[1mwandb\u001b[0m: \tbatch_size: 128\n",
      "\u001b[34m\u001b[1mwandb\u001b[0m: \tdata_path: /data2\n",
      "\u001b[34m\u001b[1mwandb\u001b[0m: \tdecay: 0.9077631825488026\n",
      "\u001b[34m\u001b[1mwandb\u001b[0m: \tdvs_clipping: True\n",
      "\u001b[34m\u001b[1mwandb\u001b[0m: \tdvs_duration: 100000\n",
      "\u001b[34m\u001b[1mwandb\u001b[0m: \tlearning_rate: 0.07267346694117106\n",
      "\u001b[34m\u001b[1mwandb\u001b[0m: \tno_reservoir: True\n",
      "\u001b[34m\u001b[1mwandb\u001b[0m: \tpre_spike_weight: 2.4570416921141343\n",
      "\u001b[34m\u001b[1mwandb\u001b[0m: \trate_coding: True\n",
      "\u001b[34m\u001b[1mwandb\u001b[0m: \ttime_step: 8\n",
      "\u001b[34m\u001b[1mwandb\u001b[0m: \twhich_data: DVS_GESTURE\n",
      "Failed to detect the name of this notebook, you can set it manually with the WANDB_NOTEBOOK_NAME environment variable to enable code saving.\n"
     ]
    },
    {
     "data": {
      "text/html": [
       "Tracking run with wandb version 0.17.5"
      ],
      "text/plain": [
       "<IPython.core.display.HTML object>"
      ]
     },
     "metadata": {},
     "output_type": "display_data"
    },
    {
     "data": {
      "text/html": [
       "Run data is saved locally in <code>/nfs/home/bhkim003/github_folder/ByeonghyeonKim/my_snn/wandb/run-20240728_040905-onfa8eo8</code>"
      ],
      "text/plain": [
       "<IPython.core.display.HTML object>"
      ]
     },
     "metadata": {},
     "output_type": "display_data"
    },
    {
     "data": {
      "text/html": [
       "Syncing run <strong><a href='https://wandb.ai/bhkim003-seoul-national-university/reservoir/runs/onfa8eo8' target=\"_blank\">legendary-sweep-69</a></strong> to <a href='https://wandb.ai/bhkim003-seoul-national-university/reservoir' target=\"_blank\">Weights & Biases</a> (<a href='https://wandb.me/run' target=\"_blank\">docs</a>)<br/>Sweep page: <a href='https://wandb.ai/bhkim003-seoul-national-university/reservoir/sweeps/sxt07a51' target=\"_blank\">https://wandb.ai/bhkim003-seoul-national-university/reservoir/sweeps/sxt07a51</a>"
      ],
      "text/plain": [
       "<IPython.core.display.HTML object>"
      ]
     },
     "metadata": {},
     "output_type": "display_data"
    },
    {
     "data": {
      "text/html": [
       " View project at <a href='https://wandb.ai/bhkim003-seoul-national-university/reservoir' target=\"_blank\">https://wandb.ai/bhkim003-seoul-national-university/reservoir</a>"
      ],
      "text/plain": [
       "<IPython.core.display.HTML object>"
      ]
     },
     "metadata": {},
     "output_type": "display_data"
    },
    {
     "data": {
      "text/html": [
       " View sweep at <a href='https://wandb.ai/bhkim003-seoul-national-university/reservoir/sweeps/sxt07a51' target=\"_blank\">https://wandb.ai/bhkim003-seoul-national-university/reservoir/sweeps/sxt07a51</a>"
      ],
      "text/plain": [
       "<IPython.core.display.HTML object>"
      ]
     },
     "metadata": {},
     "output_type": "display_data"
    },
    {
     "data": {
      "text/html": [
       " View run at <a href='https://wandb.ai/bhkim003-seoul-national-university/reservoir/runs/onfa8eo8' target=\"_blank\">https://wandb.ai/bhkim003-seoul-national-university/reservoir/runs/onfa8eo8</a>"
      ],
      "text/plain": [
       "<IPython.core.display.HTML object>"
      ]
     },
     "metadata": {},
     "output_type": "display_data"
    },
    {
     "name": "stderr",
     "output_type": "stream",
     "text": [
      "\u001b[34m\u001b[1mwandb\u001b[0m: \u001b[33mWARNING\u001b[0m Config item 'data_path' was locked by 'sweep' (ignored update).\n",
      "\u001b[34m\u001b[1mwandb\u001b[0m: \u001b[33mWARNING\u001b[0m Config item 'which_data' was locked by 'sweep' (ignored update).\n",
      "\u001b[34m\u001b[1mwandb\u001b[0m: \u001b[33mWARNING\u001b[0m Config item 'learning_rate' was locked by 'sweep' (ignored update).\n",
      "\u001b[34m\u001b[1mwandb\u001b[0m: \u001b[33mWARNING\u001b[0m Config item 'IMAGE_SIZE' was locked by 'sweep' (ignored update).\n",
      "\u001b[34m\u001b[1mwandb\u001b[0m: \u001b[33mWARNING\u001b[0m Config item 'EPOCH' was locked by 'sweep' (ignored update).\n",
      "\u001b[34m\u001b[1mwandb\u001b[0m: \u001b[33mWARNING\u001b[0m Config item 'rate_coding' was locked by 'sweep' (ignored update).\n",
      "\u001b[34m\u001b[1mwandb\u001b[0m: \u001b[33mWARNING\u001b[0m Config item 'pre_spike_weight' was locked by 'sweep' (ignored update).\n",
      "\u001b[34m\u001b[1mwandb\u001b[0m: \u001b[33mWARNING\u001b[0m Config item 'dvs_duration' was locked by 'sweep' (ignored update).\n",
      "\u001b[34m\u001b[1mwandb\u001b[0m: \u001b[33mWARNING\u001b[0m Config item 'dvs_clipping' was locked by 'sweep' (ignored update).\n",
      "\u001b[34m\u001b[1mwandb\u001b[0m: \u001b[33mWARNING\u001b[0m Config item 'no_reservoir' was locked by 'sweep' (ignored update).\n",
      "\u001b[34m\u001b[1mwandb\u001b[0m: \u001b[33mWARNING\u001b[0m Config item 'FC_RESERVOIR' was locked by 'sweep' (ignored update).\n"
     ]
    },
    {
     "name": "stdout",
     "output_type": "stream",
     "text": [
      "The directory [/data2/gesture/duration_100000] already exists.\n",
      "The directory [/data2/gesture/duration_100000] already exists.\n",
      "RESERVOIR_NET(\n",
      "  (classifier): Linear(in_features=32768, out_features=10, bias=True)\n",
      ")\n",
      "Epoch 1\n",
      "Train Accuracy: 39.52%\n",
      "Test loss: 2.196, Val Accuracy: 43.18%\n",
      "Epoch 2\n",
      "Train Accuracy: 59.65%\n",
      "Test loss: 3.667, Val Accuracy: 57.58%\n",
      "Epoch 3\n",
      "Train Accuracy: 69.02%\n",
      "Test loss: 3.090, Val Accuracy: 57.20%\n",
      "Epoch 4\n",
      "Train Accuracy: 78.66%\n",
      "Test loss: 3.314, Val Accuracy: 52.27%\n",
      "Epoch 5\n",
      "Train Accuracy: 85.25%\n",
      "Test loss: 2.098, Val Accuracy: 70.45%\n",
      "Epoch 6\n",
      "Train Accuracy: 90.82%\n",
      "Test loss: 2.182, Val Accuracy: 69.32%\n",
      "Epoch 7\n",
      "Train Accuracy: 95.55%\n",
      "Test loss: 2.069, Val Accuracy: 70.83%\n",
      "Epoch 8\n",
      "Train Accuracy: 98.33%\n",
      "Test loss: 1.678, Val Accuracy: 69.70%\n",
      "Epoch 9\n",
      "Train Accuracy: 99.81%\n",
      "Test loss: 1.560, Val Accuracy: 75.00%\n",
      "Epoch 10\n",
      "Train Accuracy: 99.91%\n",
      "Test loss: 2.070, Val Accuracy: 69.70%\n",
      "Epoch 11\n",
      "Train Accuracy: 99.91%\n",
      "Test loss: 1.962, Val Accuracy: 68.56%\n",
      "Epoch 12\n",
      "Train Accuracy: 99.91%\n",
      "Test loss: 1.838, Val Accuracy: 70.08%\n",
      "Epoch 13\n",
      "Train Accuracy: 100.00%\n",
      "Test loss: 1.896, Val Accuracy: 70.83%\n",
      "Epoch 14\n",
      "Train Accuracy: 100.00%\n",
      "Test loss: 1.812, Val Accuracy: 71.97%\n",
      "Epoch 15\n",
      "Train Accuracy: 100.00%\n",
      "Test loss: 1.707, Val Accuracy: 70.45%\n",
      "Epoch 16\n",
      "Train Accuracy: 100.00%\n",
      "Test loss: 1.736, Val Accuracy: 70.83%\n",
      "Epoch 17\n",
      "Train Accuracy: 100.00%\n",
      "Test loss: 1.750, Val Accuracy: 70.83%\n",
      "Epoch 18\n",
      "Train Accuracy: 100.00%\n",
      "Test loss: 1.761, Val Accuracy: 70.83%\n",
      "Epoch 19\n",
      "Train Accuracy: 100.00%\n",
      "Test loss: 1.735, Val Accuracy: 70.45%\n",
      "Epoch 20\n",
      "Train Accuracy: 100.00%\n",
      "Test loss: 1.745, Val Accuracy: 70.45%\n"
     ]
    },
    {
     "data": {
      "application/vnd.jupyter.widget-view+json": {
       "model_id": "f23cde908edc438cb92e28e22c6ad688",
       "version_major": 2,
       "version_minor": 0
      },
      "text/plain": [
       "VBox(children=(Label(value='0.326 MB of 0.326 MB uploaded\\r'), FloatProgress(value=1.0, max=1.0)))"
      ]
     },
     "metadata": {},
     "output_type": "display_data"
    },
    {
     "data": {
      "text/html": [
       "<style>\n",
       "    table.wandb td:nth-child(1) { padding: 0 10px; text-align: left ; width: auto;} td:nth-child(2) {text-align: left ; width: 100%}\n",
       "    .wandb-row { display: flex; flex-direction: row; flex-wrap: wrap; justify-content: flex-start; width: 100% }\n",
       "    .wandb-col { display: flex; flex-direction: column; flex-basis: 100%; flex: 1; padding: 10px; }\n",
       "    </style>\n",
       "<div class=\"wandb-row\"><div class=\"wandb-col\"><h3>Run history:</h3><br/><table class=\"wandb\"><tr><td>epoch</td><td>▁▁▂▂▂▃▃▄▄▄▅▅▅▆▆▇▇▇██</td></tr><tr><td>iter_accuracy</td><td>▁▃▃▄▅▄▆▆▆▇█▇████████████████████████████</td></tr><tr><td>tr_accuracy</td><td>▁▃▄▆▆▇▇█████████████</td></tr><tr><td>val_accuracy</td><td>▁▄▄▃▇▇▇▇█▇▇▇▇▇▇▇▇▇▇▇</td></tr></table><br/></div><div class=\"wandb-col\"><h3>Run summary:</h3><br/><table class=\"wandb\"><tr><td>epoch</td><td>19</td></tr><tr><td>iter_accuracy</td><td>100.0</td></tr><tr><td>tr_accuracy</td><td>100.0</td></tr><tr><td>val_accuracy</td><td>70.45455</td></tr></table><br/></div></div>"
      ],
      "text/plain": [
       "<IPython.core.display.HTML object>"
      ]
     },
     "metadata": {},
     "output_type": "display_data"
    },
    {
     "data": {
      "text/html": [
       " View run <strong style=\"color:#cdcd00\">legendary-sweep-69</strong> at: <a href='https://wandb.ai/bhkim003-seoul-national-university/reservoir/runs/onfa8eo8' target=\"_blank\">https://wandb.ai/bhkim003-seoul-national-university/reservoir/runs/onfa8eo8</a><br/> View project at: <a href='https://wandb.ai/bhkim003-seoul-national-university/reservoir' target=\"_blank\">https://wandb.ai/bhkim003-seoul-national-university/reservoir</a><br/>Synced 7 W&B file(s), 0 media file(s), 0 artifact file(s) and 1 other file(s)"
      ],
      "text/plain": [
       "<IPython.core.display.HTML object>"
      ]
     },
     "metadata": {},
     "output_type": "display_data"
    },
    {
     "data": {
      "text/html": [
       "Find logs at: <code>./wandb/run-20240728_040905-onfa8eo8/logs</code>"
      ],
      "text/plain": [
       "<IPython.core.display.HTML object>"
      ]
     },
     "metadata": {},
     "output_type": "display_data"
    },
    {
     "data": {
      "text/html": [
       "The new W&B backend becomes opt-out in version 0.18.0; try it out with `wandb.require(\"core\")`! See https://wandb.me/wandb-core for more information."
      ],
      "text/plain": [
       "<IPython.core.display.HTML object>"
      ]
     },
     "metadata": {},
     "output_type": "display_data"
    },
    {
     "name": "stderr",
     "output_type": "stream",
     "text": [
      "\u001b[34m\u001b[1mwandb\u001b[0m: Agent Starting Run: 2hf22ahv with config:\n",
      "\u001b[34m\u001b[1mwandb\u001b[0m: \tEPOCH: 20\n",
      "\u001b[34m\u001b[1mwandb\u001b[0m: \tFC_RESERVOIR: True\n",
      "\u001b[34m\u001b[1mwandb\u001b[0m: \tIMAGE_SIZE: 128\n",
      "\u001b[34m\u001b[1mwandb\u001b[0m: \tbatch_size: 16\n",
      "\u001b[34m\u001b[1mwandb\u001b[0m: \tdata_path: /data2\n",
      "\u001b[34m\u001b[1mwandb\u001b[0m: \tdecay: 0.2974710399701074\n",
      "\u001b[34m\u001b[1mwandb\u001b[0m: \tdvs_clipping: True\n",
      "\u001b[34m\u001b[1mwandb\u001b[0m: \tdvs_duration: 100000\n",
      "\u001b[34m\u001b[1mwandb\u001b[0m: \tlearning_rate: 0.00907365623530363\n",
      "\u001b[34m\u001b[1mwandb\u001b[0m: \tno_reservoir: True\n",
      "\u001b[34m\u001b[1mwandb\u001b[0m: \tpre_spike_weight: 9.408763901961091\n",
      "\u001b[34m\u001b[1mwandb\u001b[0m: \trate_coding: True\n",
      "\u001b[34m\u001b[1mwandb\u001b[0m: \ttime_step: 4\n",
      "\u001b[34m\u001b[1mwandb\u001b[0m: \twhich_data: DVS_GESTURE\n",
      "Failed to detect the name of this notebook, you can set it manually with the WANDB_NOTEBOOK_NAME environment variable to enable code saving.\n"
     ]
    },
    {
     "data": {
      "text/html": [
       "Tracking run with wandb version 0.17.5"
      ],
      "text/plain": [
       "<IPython.core.display.HTML object>"
      ]
     },
     "metadata": {},
     "output_type": "display_data"
    },
    {
     "data": {
      "text/html": [
       "Run data is saved locally in <code>/nfs/home/bhkim003/github_folder/ByeonghyeonKim/my_snn/wandb/run-20240728_042852-2hf22ahv</code>"
      ],
      "text/plain": [
       "<IPython.core.display.HTML object>"
      ]
     },
     "metadata": {},
     "output_type": "display_data"
    },
    {
     "data": {
      "text/html": [
       "Syncing run <strong><a href='https://wandb.ai/bhkim003-seoul-national-university/reservoir/runs/2hf22ahv' target=\"_blank\">rural-sweep-70</a></strong> to <a href='https://wandb.ai/bhkim003-seoul-national-university/reservoir' target=\"_blank\">Weights & Biases</a> (<a href='https://wandb.me/run' target=\"_blank\">docs</a>)<br/>Sweep page: <a href='https://wandb.ai/bhkim003-seoul-national-university/reservoir/sweeps/sxt07a51' target=\"_blank\">https://wandb.ai/bhkim003-seoul-national-university/reservoir/sweeps/sxt07a51</a>"
      ],
      "text/plain": [
       "<IPython.core.display.HTML object>"
      ]
     },
     "metadata": {},
     "output_type": "display_data"
    },
    {
     "data": {
      "text/html": [
       " View project at <a href='https://wandb.ai/bhkim003-seoul-national-university/reservoir' target=\"_blank\">https://wandb.ai/bhkim003-seoul-national-university/reservoir</a>"
      ],
      "text/plain": [
       "<IPython.core.display.HTML object>"
      ]
     },
     "metadata": {},
     "output_type": "display_data"
    },
    {
     "data": {
      "text/html": [
       " View sweep at <a href='https://wandb.ai/bhkim003-seoul-national-university/reservoir/sweeps/sxt07a51' target=\"_blank\">https://wandb.ai/bhkim003-seoul-national-university/reservoir/sweeps/sxt07a51</a>"
      ],
      "text/plain": [
       "<IPython.core.display.HTML object>"
      ]
     },
     "metadata": {},
     "output_type": "display_data"
    },
    {
     "data": {
      "text/html": [
       " View run at <a href='https://wandb.ai/bhkim003-seoul-national-university/reservoir/runs/2hf22ahv' target=\"_blank\">https://wandb.ai/bhkim003-seoul-national-university/reservoir/runs/2hf22ahv</a>"
      ],
      "text/plain": [
       "<IPython.core.display.HTML object>"
      ]
     },
     "metadata": {},
     "output_type": "display_data"
    },
    {
     "name": "stderr",
     "output_type": "stream",
     "text": [
      "\u001b[34m\u001b[1mwandb\u001b[0m: \u001b[33mWARNING\u001b[0m Config item 'data_path' was locked by 'sweep' (ignored update).\n",
      "\u001b[34m\u001b[1mwandb\u001b[0m: \u001b[33mWARNING\u001b[0m Config item 'which_data' was locked by 'sweep' (ignored update).\n",
      "\u001b[34m\u001b[1mwandb\u001b[0m: \u001b[33mWARNING\u001b[0m Config item 'learning_rate' was locked by 'sweep' (ignored update).\n",
      "\u001b[34m\u001b[1mwandb\u001b[0m: \u001b[33mWARNING\u001b[0m Config item 'IMAGE_SIZE' was locked by 'sweep' (ignored update).\n",
      "\u001b[34m\u001b[1mwandb\u001b[0m: \u001b[33mWARNING\u001b[0m Config item 'EPOCH' was locked by 'sweep' (ignored update).\n",
      "\u001b[34m\u001b[1mwandb\u001b[0m: \u001b[33mWARNING\u001b[0m Config item 'rate_coding' was locked by 'sweep' (ignored update).\n",
      "\u001b[34m\u001b[1mwandb\u001b[0m: \u001b[33mWARNING\u001b[0m Config item 'pre_spike_weight' was locked by 'sweep' (ignored update).\n",
      "\u001b[34m\u001b[1mwandb\u001b[0m: \u001b[33mWARNING\u001b[0m Config item 'dvs_duration' was locked by 'sweep' (ignored update).\n",
      "\u001b[34m\u001b[1mwandb\u001b[0m: \u001b[33mWARNING\u001b[0m Config item 'dvs_clipping' was locked by 'sweep' (ignored update).\n",
      "\u001b[34m\u001b[1mwandb\u001b[0m: \u001b[33mWARNING\u001b[0m Config item 'no_reservoir' was locked by 'sweep' (ignored update).\n",
      "\u001b[34m\u001b[1mwandb\u001b[0m: \u001b[33mWARNING\u001b[0m Config item 'FC_RESERVOIR' was locked by 'sweep' (ignored update).\n"
     ]
    },
    {
     "name": "stdout",
     "output_type": "stream",
     "text": [
      "The directory [/data2/gesture/duration_100000] already exists.\n",
      "The directory [/data2/gesture/duration_100000] already exists.\n",
      "RESERVOIR_NET(\n",
      "  (classifier): Linear(in_features=32768, out_features=10, bias=True)\n",
      ")\n",
      "Epoch 1\n",
      "Train Accuracy: 48.33%\n",
      "Test loss: 2.645, Val Accuracy: 51.52%\n",
      "Epoch 2\n",
      "Train Accuracy: 80.71%\n",
      "Test loss: 1.385, Val Accuracy: 57.95%\n",
      "Epoch 3\n",
      "Train Accuracy: 94.16%\n",
      "Test loss: 1.583, Val Accuracy: 59.09%\n",
      "Epoch 4\n",
      "Train Accuracy: 97.87%\n",
      "Test loss: 1.352, Val Accuracy: 60.98%\n",
      "Epoch 5\n",
      "Train Accuracy: 99.91%\n",
      "Test loss: 1.238, Val Accuracy: 61.74%\n",
      "Epoch 6\n",
      "Train Accuracy: 100.00%\n",
      "Test loss: 1.250, Val Accuracy: 61.74%\n",
      "Epoch 7\n",
      "Train Accuracy: 100.00%\n",
      "Test loss: 1.228, Val Accuracy: 64.02%\n",
      "Epoch 8\n",
      "Train Accuracy: 100.00%\n",
      "Test loss: 1.273, Val Accuracy: 62.12%\n",
      "Epoch 9\n",
      "Train Accuracy: 100.00%\n",
      "Test loss: 1.266, Val Accuracy: 62.88%\n",
      "Epoch 10\n",
      "Train Accuracy: 100.00%\n",
      "Test loss: 1.259, Val Accuracy: 63.64%\n",
      "Epoch 11\n",
      "Train Accuracy: 100.00%\n",
      "Test loss: 1.275, Val Accuracy: 63.64%\n",
      "Epoch 12\n",
      "Train Accuracy: 100.00%\n",
      "Test loss: 1.279, Val Accuracy: 62.12%\n",
      "Epoch 13\n",
      "Train Accuracy: 100.00%\n",
      "Test loss: 1.287, Val Accuracy: 62.50%\n",
      "Epoch 14\n",
      "Train Accuracy: 100.00%\n",
      "Test loss: 1.285, Val Accuracy: 63.26%\n",
      "Epoch 15\n",
      "Train Accuracy: 100.00%\n",
      "Test loss: 1.277, Val Accuracy: 63.26%\n",
      "Epoch 16\n",
      "Train Accuracy: 100.00%\n",
      "Test loss: 1.273, Val Accuracy: 63.26%\n",
      "Epoch 17\n",
      "Train Accuracy: 100.00%\n",
      "Test loss: 1.290, Val Accuracy: 63.26%\n",
      "Epoch 18\n",
      "Train Accuracy: 100.00%\n",
      "Test loss: 1.274, Val Accuracy: 63.64%\n",
      "Epoch 19\n",
      "Train Accuracy: 100.00%\n",
      "Test loss: 1.282, Val Accuracy: 63.26%\n",
      "Epoch 20\n",
      "Train Accuracy: 100.00%\n",
      "Test loss: 1.293, Val Accuracy: 64.02%\n"
     ]
    },
    {
     "data": {
      "application/vnd.jupyter.widget-view+json": {
       "model_id": "041fed5260e44d78af001d9a7d8b053a",
       "version_major": 2,
       "version_minor": 0
      },
      "text/plain": [
       "VBox(children=(Label(value='0.326 MB of 0.326 MB uploaded\\r'), FloatProgress(value=1.0, max=1.0)))"
      ]
     },
     "metadata": {},
     "output_type": "display_data"
    },
    {
     "data": {
      "text/html": [
       "<style>\n",
       "    table.wandb td:nth-child(1) { padding: 0 10px; text-align: left ; width: auto;} td:nth-child(2) {text-align: left ; width: 100%}\n",
       "    .wandb-row { display: flex; flex-direction: row; flex-wrap: wrap; justify-content: flex-start; width: 100% }\n",
       "    .wandb-col { display: flex; flex-direction: column; flex-basis: 100%; flex: 1; padding: 10px; }\n",
       "    </style>\n",
       "<div class=\"wandb-row\"><div class=\"wandb-col\"><h3>Run history:</h3><br/><table class=\"wandb\"><tr><td>epoch</td><td>▁▁▂▂▂▃▃▄▄▄▅▅▅▆▆▇▇▇██</td></tr><tr><td>iter_accuracy</td><td>▁▁▄▄▇█▅█████████████████████████████████</td></tr><tr><td>tr_accuracy</td><td>▁▅▇█████████████████</td></tr><tr><td>val_accuracy</td><td>▁▅▅▆▇▇█▇▇██▇▇███████</td></tr></table><br/></div><div class=\"wandb-col\"><h3>Run summary:</h3><br/><table class=\"wandb\"><tr><td>epoch</td><td>19</td></tr><tr><td>iter_accuracy</td><td>100.0</td></tr><tr><td>tr_accuracy</td><td>100.0</td></tr><tr><td>val_accuracy</td><td>64.01515</td></tr></table><br/></div></div>"
      ],
      "text/plain": [
       "<IPython.core.display.HTML object>"
      ]
     },
     "metadata": {},
     "output_type": "display_data"
    },
    {
     "data": {
      "text/html": [
       " View run <strong style=\"color:#cdcd00\">rural-sweep-70</strong> at: <a href='https://wandb.ai/bhkim003-seoul-national-university/reservoir/runs/2hf22ahv' target=\"_blank\">https://wandb.ai/bhkim003-seoul-national-university/reservoir/runs/2hf22ahv</a><br/> View project at: <a href='https://wandb.ai/bhkim003-seoul-national-university/reservoir' target=\"_blank\">https://wandb.ai/bhkim003-seoul-national-university/reservoir</a><br/>Synced 7 W&B file(s), 0 media file(s), 0 artifact file(s) and 1 other file(s)"
      ],
      "text/plain": [
       "<IPython.core.display.HTML object>"
      ]
     },
     "metadata": {},
     "output_type": "display_data"
    },
    {
     "data": {
      "text/html": [
       "Find logs at: <code>./wandb/run-20240728_042852-2hf22ahv/logs</code>"
      ],
      "text/plain": [
       "<IPython.core.display.HTML object>"
      ]
     },
     "metadata": {},
     "output_type": "display_data"
    },
    {
     "data": {
      "text/html": [
       "The new W&B backend becomes opt-out in version 0.18.0; try it out with `wandb.require(\"core\")`! See https://wandb.me/wandb-core for more information."
      ],
      "text/plain": [
       "<IPython.core.display.HTML object>"
      ]
     },
     "metadata": {},
     "output_type": "display_data"
    },
    {
     "name": "stderr",
     "output_type": "stream",
     "text": [
      "\u001b[34m\u001b[1mwandb\u001b[0m: Agent Starting Run: gml6vkyn with config:\n",
      "\u001b[34m\u001b[1mwandb\u001b[0m: \tEPOCH: 20\n",
      "\u001b[34m\u001b[1mwandb\u001b[0m: \tFC_RESERVOIR: True\n",
      "\u001b[34m\u001b[1mwandb\u001b[0m: \tIMAGE_SIZE: 128\n",
      "\u001b[34m\u001b[1mwandb\u001b[0m: \tbatch_size: 32\n",
      "\u001b[34m\u001b[1mwandb\u001b[0m: \tdata_path: /data2\n",
      "\u001b[34m\u001b[1mwandb\u001b[0m: \tdecay: 0.5326762407267591\n",
      "\u001b[34m\u001b[1mwandb\u001b[0m: \tdvs_clipping: True\n",
      "\u001b[34m\u001b[1mwandb\u001b[0m: \tdvs_duration: 100000\n",
      "\u001b[34m\u001b[1mwandb\u001b[0m: \tlearning_rate: 0.0029264147778044463\n",
      "\u001b[34m\u001b[1mwandb\u001b[0m: \tno_reservoir: False\n",
      "\u001b[34m\u001b[1mwandb\u001b[0m: \tpre_spike_weight: 9.941829683911292\n",
      "\u001b[34m\u001b[1mwandb\u001b[0m: \trate_coding: True\n",
      "\u001b[34m\u001b[1mwandb\u001b[0m: \ttime_step: 8\n",
      "\u001b[34m\u001b[1mwandb\u001b[0m: \twhich_data: DVS_GESTURE\n",
      "Failed to detect the name of this notebook, you can set it manually with the WANDB_NOTEBOOK_NAME environment variable to enable code saving.\n"
     ]
    },
    {
     "data": {
      "text/html": [
       "Tracking run with wandb version 0.17.5"
      ],
      "text/plain": [
       "<IPython.core.display.HTML object>"
      ]
     },
     "metadata": {},
     "output_type": "display_data"
    },
    {
     "data": {
      "text/html": [
       "Run data is saved locally in <code>/nfs/home/bhkim003/github_folder/ByeonghyeonKim/my_snn/wandb/run-20240728_044754-gml6vkyn</code>"
      ],
      "text/plain": [
       "<IPython.core.display.HTML object>"
      ]
     },
     "metadata": {},
     "output_type": "display_data"
    },
    {
     "data": {
      "text/html": [
       "Syncing run <strong><a href='https://wandb.ai/bhkim003-seoul-national-university/reservoir/runs/gml6vkyn' target=\"_blank\">classic-sweep-71</a></strong> to <a href='https://wandb.ai/bhkim003-seoul-national-university/reservoir' target=\"_blank\">Weights & Biases</a> (<a href='https://wandb.me/run' target=\"_blank\">docs</a>)<br/>Sweep page: <a href='https://wandb.ai/bhkim003-seoul-national-university/reservoir/sweeps/sxt07a51' target=\"_blank\">https://wandb.ai/bhkim003-seoul-national-university/reservoir/sweeps/sxt07a51</a>"
      ],
      "text/plain": [
       "<IPython.core.display.HTML object>"
      ]
     },
     "metadata": {},
     "output_type": "display_data"
    },
    {
     "data": {
      "text/html": [
       " View project at <a href='https://wandb.ai/bhkim003-seoul-national-university/reservoir' target=\"_blank\">https://wandb.ai/bhkim003-seoul-national-university/reservoir</a>"
      ],
      "text/plain": [
       "<IPython.core.display.HTML object>"
      ]
     },
     "metadata": {},
     "output_type": "display_data"
    },
    {
     "data": {
      "text/html": [
       " View sweep at <a href='https://wandb.ai/bhkim003-seoul-national-university/reservoir/sweeps/sxt07a51' target=\"_blank\">https://wandb.ai/bhkim003-seoul-national-university/reservoir/sweeps/sxt07a51</a>"
      ],
      "text/plain": [
       "<IPython.core.display.HTML object>"
      ]
     },
     "metadata": {},
     "output_type": "display_data"
    },
    {
     "data": {
      "text/html": [
       " View run at <a href='https://wandb.ai/bhkim003-seoul-national-university/reservoir/runs/gml6vkyn' target=\"_blank\">https://wandb.ai/bhkim003-seoul-national-university/reservoir/runs/gml6vkyn</a>"
      ],
      "text/plain": [
       "<IPython.core.display.HTML object>"
      ]
     },
     "metadata": {},
     "output_type": "display_data"
    },
    {
     "name": "stderr",
     "output_type": "stream",
     "text": [
      "\u001b[34m\u001b[1mwandb\u001b[0m: \u001b[33mWARNING\u001b[0m Config item 'data_path' was locked by 'sweep' (ignored update).\n",
      "\u001b[34m\u001b[1mwandb\u001b[0m: \u001b[33mWARNING\u001b[0m Config item 'which_data' was locked by 'sweep' (ignored update).\n",
      "\u001b[34m\u001b[1mwandb\u001b[0m: \u001b[33mWARNING\u001b[0m Config item 'learning_rate' was locked by 'sweep' (ignored update).\n",
      "\u001b[34m\u001b[1mwandb\u001b[0m: \u001b[33mWARNING\u001b[0m Config item 'IMAGE_SIZE' was locked by 'sweep' (ignored update).\n",
      "\u001b[34m\u001b[1mwandb\u001b[0m: \u001b[33mWARNING\u001b[0m Config item 'EPOCH' was locked by 'sweep' (ignored update).\n",
      "\u001b[34m\u001b[1mwandb\u001b[0m: \u001b[33mWARNING\u001b[0m Config item 'rate_coding' was locked by 'sweep' (ignored update).\n",
      "\u001b[34m\u001b[1mwandb\u001b[0m: \u001b[33mWARNING\u001b[0m Config item 'pre_spike_weight' was locked by 'sweep' (ignored update).\n",
      "\u001b[34m\u001b[1mwandb\u001b[0m: \u001b[33mWARNING\u001b[0m Config item 'dvs_duration' was locked by 'sweep' (ignored update).\n",
      "\u001b[34m\u001b[1mwandb\u001b[0m: \u001b[33mWARNING\u001b[0m Config item 'dvs_clipping' was locked by 'sweep' (ignored update).\n",
      "\u001b[34m\u001b[1mwandb\u001b[0m: \u001b[33mWARNING\u001b[0m Config item 'no_reservoir' was locked by 'sweep' (ignored update).\n",
      "\u001b[34m\u001b[1mwandb\u001b[0m: \u001b[33mWARNING\u001b[0m Config item 'FC_RESERVOIR' was locked by 'sweep' (ignored update).\n"
     ]
    },
    {
     "name": "stdout",
     "output_type": "stream",
     "text": [
      "The directory [/data2/gesture/duration_100000] already exists.\n",
      "The directory [/data2/gesture/duration_100000] already exists.\n",
      "RESERVOIR_NET(\n",
      "  (reservoir): RESERVOIR(\n",
      "    (reservoir): Linear(in_features=32768, out_features=32768, bias=True)\n",
      "  )\n",
      "  (classifier): Linear(in_features=32768, out_features=10, bias=True)\n",
      ")\n",
      "Epoch 1\n",
      "Train Accuracy: 46.85%\n",
      "Test loss: 1.218, Val Accuracy: 55.30%\n",
      "Epoch 2\n",
      "Train Accuracy: 70.69%\n",
      "Test loss: 0.973, Val Accuracy: 68.18%\n",
      "Epoch 3\n",
      "Train Accuracy: 83.58%\n",
      "Test loss: 0.974, Val Accuracy: 60.98%\n",
      "Epoch 4\n",
      "Train Accuracy: 87.76%\n",
      "Test loss: 0.976, Val Accuracy: 63.64%\n",
      "Epoch 5\n",
      "Train Accuracy: 91.84%\n",
      "Test loss: 0.895, Val Accuracy: 65.91%\n",
      "Epoch 6\n",
      "Train Accuracy: 94.71%\n",
      "Test loss: 0.953, Val Accuracy: 63.64%\n",
      "Epoch 7\n",
      "Train Accuracy: 95.45%\n",
      "Test loss: 0.973, Val Accuracy: 67.05%\n",
      "Epoch 8\n",
      "Train Accuracy: 96.66%\n",
      "Test loss: 0.857, Val Accuracy: 70.45%\n",
      "Epoch 9\n",
      "Train Accuracy: 98.24%\n",
      "Test loss: 0.893, Val Accuracy: 67.05%\n",
      "Epoch 10\n",
      "Train Accuracy: 98.52%\n",
      "Test loss: 0.904, Val Accuracy: 67.05%\n",
      "Epoch 11\n",
      "Train Accuracy: 98.70%\n",
      "Test loss: 0.924, Val Accuracy: 71.21%\n",
      "Epoch 12\n",
      "Train Accuracy: 99.26%\n",
      "Test loss: 0.850, Val Accuracy: 71.97%\n",
      "Epoch 13\n",
      "Train Accuracy: 99.54%\n",
      "Test loss: 0.856, Val Accuracy: 68.94%\n",
      "Epoch 14\n",
      "Train Accuracy: 99.63%\n",
      "Test loss: 0.891, Val Accuracy: 72.73%\n",
      "Epoch 15\n",
      "Train Accuracy: 99.72%\n",
      "Test loss: 0.875, Val Accuracy: 73.11%\n",
      "Epoch 16\n",
      "Train Accuracy: 99.91%\n",
      "Test loss: 0.872, Val Accuracy: 73.86%\n",
      "Epoch 17\n",
      "Train Accuracy: 100.00%\n",
      "Test loss: 0.862, Val Accuracy: 71.59%\n",
      "Epoch 18\n",
      "Train Accuracy: 100.00%\n",
      "Test loss: 0.833, Val Accuracy: 71.97%\n",
      "Epoch 19\n",
      "Train Accuracy: 100.00%\n",
      "Test loss: 0.858, Val Accuracy: 71.97%\n",
      "Epoch 20\n",
      "Train Accuracy: 100.00%\n",
      "Test loss: 0.880, Val Accuracy: 72.35%\n"
     ]
    },
    {
     "data": {
      "application/vnd.jupyter.widget-view+json": {
       "model_id": "fb9fbd8baa474217a9766343440c8032",
       "version_major": 2,
       "version_minor": 0
      },
      "text/plain": [
       "VBox(children=(Label(value='0.326 MB of 0.326 MB uploaded\\r'), FloatProgress(value=1.0, max=1.0)))"
      ]
     },
     "metadata": {},
     "output_type": "display_data"
    },
    {
     "data": {
      "text/html": [
       "<style>\n",
       "    table.wandb td:nth-child(1) { padding: 0 10px; text-align: left ; width: auto;} td:nth-child(2) {text-align: left ; width: 100%}\n",
       "    .wandb-row { display: flex; flex-direction: row; flex-wrap: wrap; justify-content: flex-start; width: 100% }\n",
       "    .wandb-col { display: flex; flex-direction: column; flex-basis: 100%; flex: 1; padding: 10px; }\n",
       "    </style>\n",
       "<div class=\"wandb-row\"><div class=\"wandb-col\"><h3>Run history:</h3><br/><table class=\"wandb\"><tr><td>epoch</td><td>▁▁▂▂▂▃▃▄▄▄▅▅▅▆▆▇▇▇██</td></tr><tr><td>iter_accuracy</td><td>▁▃▅▅▆▅▇▇▆▇▇▇█▇██████████████████████████</td></tr><tr><td>tr_accuracy</td><td>▁▄▆▆▇▇▇█████████████</td></tr><tr><td>val_accuracy</td><td>▁▆▃▄▅▄▅▇▅▅▇▇▆███▇▇▇▇</td></tr></table><br/></div><div class=\"wandb-col\"><h3>Run summary:</h3><br/><table class=\"wandb\"><tr><td>epoch</td><td>19</td></tr><tr><td>iter_accuracy</td><td>100.0</td></tr><tr><td>tr_accuracy</td><td>100.0</td></tr><tr><td>val_accuracy</td><td>72.34848</td></tr></table><br/></div></div>"
      ],
      "text/plain": [
       "<IPython.core.display.HTML object>"
      ]
     },
     "metadata": {},
     "output_type": "display_data"
    },
    {
     "data": {
      "text/html": [
       " View run <strong style=\"color:#cdcd00\">classic-sweep-71</strong> at: <a href='https://wandb.ai/bhkim003-seoul-national-university/reservoir/runs/gml6vkyn' target=\"_blank\">https://wandb.ai/bhkim003-seoul-national-university/reservoir/runs/gml6vkyn</a><br/> View project at: <a href='https://wandb.ai/bhkim003-seoul-national-university/reservoir' target=\"_blank\">https://wandb.ai/bhkim003-seoul-national-university/reservoir</a><br/>Synced 7 W&B file(s), 0 media file(s), 0 artifact file(s) and 1 other file(s)"
      ],
      "text/plain": [
       "<IPython.core.display.HTML object>"
      ]
     },
     "metadata": {},
     "output_type": "display_data"
    },
    {
     "data": {
      "text/html": [
       "Find logs at: <code>./wandb/run-20240728_044754-gml6vkyn/logs</code>"
      ],
      "text/plain": [
       "<IPython.core.display.HTML object>"
      ]
     },
     "metadata": {},
     "output_type": "display_data"
    },
    {
     "data": {
      "text/html": [
       "The new W&B backend becomes opt-out in version 0.18.0; try it out with `wandb.require(\"core\")`! See https://wandb.me/wandb-core for more information."
      ],
      "text/plain": [
       "<IPython.core.display.HTML object>"
      ]
     },
     "metadata": {},
     "output_type": "display_data"
    },
    {
     "name": "stderr",
     "output_type": "stream",
     "text": [
      "\u001b[34m\u001b[1mwandb\u001b[0m: Sweep Agent: Waiting for job.\n",
      "\u001b[34m\u001b[1mwandb\u001b[0m: Job received.\n",
      "\u001b[34m\u001b[1mwandb\u001b[0m: Agent Starting Run: uzvjhdgm with config:\n",
      "\u001b[34m\u001b[1mwandb\u001b[0m: \tEPOCH: 20\n",
      "\u001b[34m\u001b[1mwandb\u001b[0m: \tFC_RESERVOIR: True\n",
      "\u001b[34m\u001b[1mwandb\u001b[0m: \tIMAGE_SIZE: 16\n",
      "\u001b[34m\u001b[1mwandb\u001b[0m: \tbatch_size: 16\n",
      "\u001b[34m\u001b[1mwandb\u001b[0m: \tdata_path: /data2\n",
      "\u001b[34m\u001b[1mwandb\u001b[0m: \tdecay: 0.8078061665168514\n",
      "\u001b[34m\u001b[1mwandb\u001b[0m: \tdvs_clipping: True\n",
      "\u001b[34m\u001b[1mwandb\u001b[0m: \tdvs_duration: 100000\n",
      "\u001b[34m\u001b[1mwandb\u001b[0m: \tlearning_rate: 0.01766910106039555\n",
      "\u001b[34m\u001b[1mwandb\u001b[0m: \tno_reservoir: True\n",
      "\u001b[34m\u001b[1mwandb\u001b[0m: \tpre_spike_weight: 3.679914916467162\n",
      "\u001b[34m\u001b[1mwandb\u001b[0m: \trate_coding: False\n",
      "\u001b[34m\u001b[1mwandb\u001b[0m: \ttime_step: 7\n",
      "\u001b[34m\u001b[1mwandb\u001b[0m: \twhich_data: DVS_GESTURE\n",
      "Failed to detect the name of this notebook, you can set it manually with the WANDB_NOTEBOOK_NAME environment variable to enable code saving.\n"
     ]
    },
    {
     "data": {
      "text/html": [
       "Tracking run with wandb version 0.17.5"
      ],
      "text/plain": [
       "<IPython.core.display.HTML object>"
      ]
     },
     "metadata": {},
     "output_type": "display_data"
    },
    {
     "data": {
      "text/html": [
       "Run data is saved locally in <code>/nfs/home/bhkim003/github_folder/ByeonghyeonKim/my_snn/wandb/run-20240728_065110-uzvjhdgm</code>"
      ],
      "text/plain": [
       "<IPython.core.display.HTML object>"
      ]
     },
     "metadata": {},
     "output_type": "display_data"
    },
    {
     "data": {
      "text/html": [
       "Syncing run <strong><a href='https://wandb.ai/bhkim003-seoul-national-university/reservoir/runs/uzvjhdgm' target=\"_blank\">charmed-sweep-72</a></strong> to <a href='https://wandb.ai/bhkim003-seoul-national-university/reservoir' target=\"_blank\">Weights & Biases</a> (<a href='https://wandb.me/run' target=\"_blank\">docs</a>)<br/>Sweep page: <a href='https://wandb.ai/bhkim003-seoul-national-university/reservoir/sweeps/sxt07a51' target=\"_blank\">https://wandb.ai/bhkim003-seoul-national-university/reservoir/sweeps/sxt07a51</a>"
      ],
      "text/plain": [
       "<IPython.core.display.HTML object>"
      ]
     },
     "metadata": {},
     "output_type": "display_data"
    },
    {
     "data": {
      "text/html": [
       " View project at <a href='https://wandb.ai/bhkim003-seoul-national-university/reservoir' target=\"_blank\">https://wandb.ai/bhkim003-seoul-national-university/reservoir</a>"
      ],
      "text/plain": [
       "<IPython.core.display.HTML object>"
      ]
     },
     "metadata": {},
     "output_type": "display_data"
    },
    {
     "data": {
      "text/html": [
       " View sweep at <a href='https://wandb.ai/bhkim003-seoul-national-university/reservoir/sweeps/sxt07a51' target=\"_blank\">https://wandb.ai/bhkim003-seoul-national-university/reservoir/sweeps/sxt07a51</a>"
      ],
      "text/plain": [
       "<IPython.core.display.HTML object>"
      ]
     },
     "metadata": {},
     "output_type": "display_data"
    },
    {
     "data": {
      "text/html": [
       " View run at <a href='https://wandb.ai/bhkim003-seoul-national-university/reservoir/runs/uzvjhdgm' target=\"_blank\">https://wandb.ai/bhkim003-seoul-national-university/reservoir/runs/uzvjhdgm</a>"
      ],
      "text/plain": [
       "<IPython.core.display.HTML object>"
      ]
     },
     "metadata": {},
     "output_type": "display_data"
    },
    {
     "name": "stderr",
     "output_type": "stream",
     "text": [
      "\u001b[34m\u001b[1mwandb\u001b[0m: \u001b[33mWARNING\u001b[0m Config item 'data_path' was locked by 'sweep' (ignored update).\n",
      "\u001b[34m\u001b[1mwandb\u001b[0m: \u001b[33mWARNING\u001b[0m Config item 'which_data' was locked by 'sweep' (ignored update).\n",
      "\u001b[34m\u001b[1mwandb\u001b[0m: \u001b[33mWARNING\u001b[0m Config item 'learning_rate' was locked by 'sweep' (ignored update).\n",
      "\u001b[34m\u001b[1mwandb\u001b[0m: \u001b[33mWARNING\u001b[0m Config item 'IMAGE_SIZE' was locked by 'sweep' (ignored update).\n",
      "\u001b[34m\u001b[1mwandb\u001b[0m: \u001b[33mWARNING\u001b[0m Config item 'EPOCH' was locked by 'sweep' (ignored update).\n",
      "\u001b[34m\u001b[1mwandb\u001b[0m: \u001b[33mWARNING\u001b[0m Config item 'rate_coding' was locked by 'sweep' (ignored update).\n",
      "\u001b[34m\u001b[1mwandb\u001b[0m: \u001b[33mWARNING\u001b[0m Config item 'pre_spike_weight' was locked by 'sweep' (ignored update).\n",
      "\u001b[34m\u001b[1mwandb\u001b[0m: \u001b[33mWARNING\u001b[0m Config item 'dvs_duration' was locked by 'sweep' (ignored update).\n",
      "\u001b[34m\u001b[1mwandb\u001b[0m: \u001b[33mWARNING\u001b[0m Config item 'dvs_clipping' was locked by 'sweep' (ignored update).\n",
      "\u001b[34m\u001b[1mwandb\u001b[0m: \u001b[33mWARNING\u001b[0m Config item 'no_reservoir' was locked by 'sweep' (ignored update).\n",
      "\u001b[34m\u001b[1mwandb\u001b[0m: \u001b[33mWARNING\u001b[0m Config item 'FC_RESERVOIR' was locked by 'sweep' (ignored update).\n"
     ]
    },
    {
     "name": "stdout",
     "output_type": "stream",
     "text": [
      "The directory [/data2/gesture/duration_100000] already exists.\n",
      "The directory [/data2/gesture/duration_100000] already exists.\n",
      "RESERVOIR_NET(\n",
      "  (classifier): Linear(in_features=512, out_features=10, bias=True)\n",
      ")\n",
      "Epoch 1\n",
      "Train Accuracy: 40.45%\n",
      "Test loss: 1.434, Val Accuracy: 46.21%\n",
      "Epoch 2\n",
      "Train Accuracy: 57.24%\n",
      "Test loss: 1.245, Val Accuracy: 52.27%\n",
      "Epoch 3\n",
      "Train Accuracy: 66.14%\n",
      "Test loss: 1.187, Val Accuracy: 55.68%\n",
      "Epoch 4\n",
      "Train Accuracy: 73.10%\n",
      "Test loss: 1.117, Val Accuracy: 58.33%\n",
      "Epoch 5\n",
      "Train Accuracy: 71.99%\n",
      "Test loss: 1.103, Val Accuracy: 60.23%\n",
      "Epoch 6\n",
      "Train Accuracy: 78.29%\n",
      "Test loss: 1.107, Val Accuracy: 58.71%\n",
      "Epoch 7\n",
      "Train Accuracy: 80.33%\n",
      "Test loss: 1.093, Val Accuracy: 61.74%\n",
      "Epoch 8\n",
      "Train Accuracy: 79.50%\n",
      "Test loss: 1.121, Val Accuracy: 55.68%\n",
      "Epoch 9\n",
      "Train Accuracy: 80.52%\n",
      "Test loss: 1.087, Val Accuracy: 58.71%\n",
      "Epoch 10\n",
      "Train Accuracy: 82.93%\n",
      "Test loss: 1.098, Val Accuracy: 58.71%\n",
      "Epoch 11\n",
      "Train Accuracy: 84.97%\n",
      "Test loss: 1.061, Val Accuracy: 61.74%\n",
      "Epoch 12\n",
      "Train Accuracy: 84.97%\n",
      "Test loss: 1.035, Val Accuracy: 61.36%\n",
      "Epoch 13\n",
      "Train Accuracy: 85.90%\n",
      "Test loss: 1.084, Val Accuracy: 62.12%\n",
      "Epoch 14\n",
      "Train Accuracy: 86.73%\n",
      "Test loss: 1.083, Val Accuracy: 61.36%\n",
      "Epoch 15\n",
      "Train Accuracy: 87.38%\n",
      "Test loss: 1.109, Val Accuracy: 61.74%\n",
      "Epoch 16\n",
      "Train Accuracy: 88.40%\n",
      "Test loss: 1.047, Val Accuracy: 61.36%\n",
      "Epoch 17\n",
      "Train Accuracy: 88.59%\n",
      "Test loss: 1.083, Val Accuracy: 61.74%\n",
      "Epoch 18\n",
      "Train Accuracy: 90.63%\n",
      "Test loss: 1.080, Val Accuracy: 61.74%\n",
      "Epoch 19\n",
      "Train Accuracy: 90.54%\n",
      "Test loss: 1.082, Val Accuracy: 61.74%\n",
      "Epoch 20\n",
      "Train Accuracy: 91.37%\n",
      "Test loss: 1.093, Val Accuracy: 60.61%\n"
     ]
    },
    {
     "data": {
      "application/vnd.jupyter.widget-view+json": {
       "model_id": "31eb7b1fbf7d4f4abba8725a66351c13",
       "version_major": 2,
       "version_minor": 0
      },
      "text/plain": [
       "VBox(children=(Label(value='0.326 MB of 0.326 MB uploaded\\r'), FloatProgress(value=1.0, max=1.0)))"
      ]
     },
     "metadata": {},
     "output_type": "display_data"
    },
    {
     "data": {
      "text/html": [
       "<style>\n",
       "    table.wandb td:nth-child(1) { padding: 0 10px; text-align: left ; width: auto;} td:nth-child(2) {text-align: left ; width: 100%}\n",
       "    .wandb-row { display: flex; flex-direction: row; flex-wrap: wrap; justify-content: flex-start; width: 100% }\n",
       "    .wandb-col { display: flex; flex-direction: column; flex-basis: 100%; flex: 1; padding: 10px; }\n",
       "    </style>\n",
       "<div class=\"wandb-row\"><div class=\"wandb-col\"><h3>Run history:</h3><br/><table class=\"wandb\"><tr><td>epoch</td><td>▁▁▂▂▂▃▃▄▄▄▅▅▅▆▆▇▇▇██</td></tr><tr><td>iter_accuracy</td><td>▂▂▁▆▂▄▄▆▂▅▄▃▆▆▆▃▅▃▆▆▆▆▄▇▆▇▆▆▇▆▆▆▇▆██▆▆▆█</td></tr><tr><td>tr_accuracy</td><td>▁▃▅▅▅▆▆▆▇▇▇▇▇▇▇█████</td></tr><tr><td>val_accuracy</td><td>▁▄▅▆▇▆█▅▆▆█████████▇</td></tr></table><br/></div><div class=\"wandb-col\"><h3>Run summary:</h3><br/><table class=\"wandb\"><tr><td>epoch</td><td>19</td></tr><tr><td>iter_accuracy</td><td>100.0</td></tr><tr><td>tr_accuracy</td><td>91.37291</td></tr><tr><td>val_accuracy</td><td>60.60606</td></tr></table><br/></div></div>"
      ],
      "text/plain": [
       "<IPython.core.display.HTML object>"
      ]
     },
     "metadata": {},
     "output_type": "display_data"
    },
    {
     "data": {
      "text/html": [
       " View run <strong style=\"color:#cdcd00\">charmed-sweep-72</strong> at: <a href='https://wandb.ai/bhkim003-seoul-national-university/reservoir/runs/uzvjhdgm' target=\"_blank\">https://wandb.ai/bhkim003-seoul-national-university/reservoir/runs/uzvjhdgm</a><br/> View project at: <a href='https://wandb.ai/bhkim003-seoul-national-university/reservoir' target=\"_blank\">https://wandb.ai/bhkim003-seoul-national-university/reservoir</a><br/>Synced 7 W&B file(s), 0 media file(s), 0 artifact file(s) and 1 other file(s)"
      ],
      "text/plain": [
       "<IPython.core.display.HTML object>"
      ]
     },
     "metadata": {},
     "output_type": "display_data"
    },
    {
     "data": {
      "text/html": [
       "Find logs at: <code>./wandb/run-20240728_065110-uzvjhdgm/logs</code>"
      ],
      "text/plain": [
       "<IPython.core.display.HTML object>"
      ]
     },
     "metadata": {},
     "output_type": "display_data"
    },
    {
     "data": {
      "text/html": [
       "The new W&B backend becomes opt-out in version 0.18.0; try it out with `wandb.require(\"core\")`! See https://wandb.me/wandb-core for more information."
      ],
      "text/plain": [
       "<IPython.core.display.HTML object>"
      ]
     },
     "metadata": {},
     "output_type": "display_data"
    },
    {
     "name": "stderr",
     "output_type": "stream",
     "text": [
      "\u001b[34m\u001b[1mwandb\u001b[0m: Agent Starting Run: lquq8pjk with config:\n",
      "\u001b[34m\u001b[1mwandb\u001b[0m: \tEPOCH: 20\n",
      "\u001b[34m\u001b[1mwandb\u001b[0m: \tFC_RESERVOIR: True\n",
      "\u001b[34m\u001b[1mwandb\u001b[0m: \tIMAGE_SIZE: 16\n",
      "\u001b[34m\u001b[1mwandb\u001b[0m: \tbatch_size: 32\n",
      "\u001b[34m\u001b[1mwandb\u001b[0m: \tdata_path: /data2\n",
      "\u001b[34m\u001b[1mwandb\u001b[0m: \tdecay: 0.6883025799961356\n",
      "\u001b[34m\u001b[1mwandb\u001b[0m: \tdvs_clipping: True\n",
      "\u001b[34m\u001b[1mwandb\u001b[0m: \tdvs_duration: 100000\n",
      "\u001b[34m\u001b[1mwandb\u001b[0m: \tlearning_rate: 0.018028273289493763\n",
      "\u001b[34m\u001b[1mwandb\u001b[0m: \tno_reservoir: False\n",
      "\u001b[34m\u001b[1mwandb\u001b[0m: \tpre_spike_weight: 9.72165875199976\n",
      "\u001b[34m\u001b[1mwandb\u001b[0m: \trate_coding: True\n",
      "\u001b[34m\u001b[1mwandb\u001b[0m: \ttime_step: 6\n",
      "\u001b[34m\u001b[1mwandb\u001b[0m: \twhich_data: DVS_GESTURE\n",
      "Failed to detect the name of this notebook, you can set it manually with the WANDB_NOTEBOOK_NAME environment variable to enable code saving.\n"
     ]
    },
    {
     "data": {
      "text/html": [
       "Tracking run with wandb version 0.17.5"
      ],
      "text/plain": [
       "<IPython.core.display.HTML object>"
      ]
     },
     "metadata": {},
     "output_type": "display_data"
    },
    {
     "data": {
      "text/html": [
       "Run data is saved locally in <code>/nfs/home/bhkim003/github_folder/ByeonghyeonKim/my_snn/wandb/run-20240728_070407-lquq8pjk</code>"
      ],
      "text/plain": [
       "<IPython.core.display.HTML object>"
      ]
     },
     "metadata": {},
     "output_type": "display_data"
    },
    {
     "data": {
      "text/html": [
       "Syncing run <strong><a href='https://wandb.ai/bhkim003-seoul-national-university/reservoir/runs/lquq8pjk' target=\"_blank\">wise-sweep-73</a></strong> to <a href='https://wandb.ai/bhkim003-seoul-national-university/reservoir' target=\"_blank\">Weights & Biases</a> (<a href='https://wandb.me/run' target=\"_blank\">docs</a>)<br/>Sweep page: <a href='https://wandb.ai/bhkim003-seoul-national-university/reservoir/sweeps/sxt07a51' target=\"_blank\">https://wandb.ai/bhkim003-seoul-national-university/reservoir/sweeps/sxt07a51</a>"
      ],
      "text/plain": [
       "<IPython.core.display.HTML object>"
      ]
     },
     "metadata": {},
     "output_type": "display_data"
    },
    {
     "data": {
      "text/html": [
       " View project at <a href='https://wandb.ai/bhkim003-seoul-national-university/reservoir' target=\"_blank\">https://wandb.ai/bhkim003-seoul-national-university/reservoir</a>"
      ],
      "text/plain": [
       "<IPython.core.display.HTML object>"
      ]
     },
     "metadata": {},
     "output_type": "display_data"
    },
    {
     "data": {
      "text/html": [
       " View sweep at <a href='https://wandb.ai/bhkim003-seoul-national-university/reservoir/sweeps/sxt07a51' target=\"_blank\">https://wandb.ai/bhkim003-seoul-national-university/reservoir/sweeps/sxt07a51</a>"
      ],
      "text/plain": [
       "<IPython.core.display.HTML object>"
      ]
     },
     "metadata": {},
     "output_type": "display_data"
    },
    {
     "data": {
      "text/html": [
       " View run at <a href='https://wandb.ai/bhkim003-seoul-national-university/reservoir/runs/lquq8pjk' target=\"_blank\">https://wandb.ai/bhkim003-seoul-national-university/reservoir/runs/lquq8pjk</a>"
      ],
      "text/plain": [
       "<IPython.core.display.HTML object>"
      ]
     },
     "metadata": {},
     "output_type": "display_data"
    },
    {
     "name": "stderr",
     "output_type": "stream",
     "text": [
      "\u001b[34m\u001b[1mwandb\u001b[0m: \u001b[33mWARNING\u001b[0m Config item 'data_path' was locked by 'sweep' (ignored update).\n",
      "\u001b[34m\u001b[1mwandb\u001b[0m: \u001b[33mWARNING\u001b[0m Config item 'which_data' was locked by 'sweep' (ignored update).\n",
      "\u001b[34m\u001b[1mwandb\u001b[0m: \u001b[33mWARNING\u001b[0m Config item 'learning_rate' was locked by 'sweep' (ignored update).\n",
      "\u001b[34m\u001b[1mwandb\u001b[0m: \u001b[33mWARNING\u001b[0m Config item 'IMAGE_SIZE' was locked by 'sweep' (ignored update).\n",
      "\u001b[34m\u001b[1mwandb\u001b[0m: \u001b[33mWARNING\u001b[0m Config item 'EPOCH' was locked by 'sweep' (ignored update).\n",
      "\u001b[34m\u001b[1mwandb\u001b[0m: \u001b[33mWARNING\u001b[0m Config item 'rate_coding' was locked by 'sweep' (ignored update).\n",
      "\u001b[34m\u001b[1mwandb\u001b[0m: \u001b[33mWARNING\u001b[0m Config item 'pre_spike_weight' was locked by 'sweep' (ignored update).\n",
      "\u001b[34m\u001b[1mwandb\u001b[0m: \u001b[33mWARNING\u001b[0m Config item 'dvs_duration' was locked by 'sweep' (ignored update).\n",
      "\u001b[34m\u001b[1mwandb\u001b[0m: \u001b[33mWARNING\u001b[0m Config item 'dvs_clipping' was locked by 'sweep' (ignored update).\n",
      "\u001b[34m\u001b[1mwandb\u001b[0m: \u001b[33mWARNING\u001b[0m Config item 'no_reservoir' was locked by 'sweep' (ignored update).\n",
      "\u001b[34m\u001b[1mwandb\u001b[0m: \u001b[33mWARNING\u001b[0m Config item 'FC_RESERVOIR' was locked by 'sweep' (ignored update).\n"
     ]
    },
    {
     "name": "stdout",
     "output_type": "stream",
     "text": [
      "The directory [/data2/gesture/duration_100000] already exists.\n",
      "The directory [/data2/gesture/duration_100000] already exists.\n",
      "RESERVOIR_NET(\n",
      "  (reservoir): RESERVOIR(\n",
      "    (reservoir): Linear(in_features=512, out_features=512, bias=True)\n",
      "  )\n",
      "  (classifier): Linear(in_features=512, out_features=10, bias=True)\n",
      ")\n",
      "Epoch 1\n",
      "Train Accuracy: 32.47%\n",
      "Test loss: 1.662, Val Accuracy: 36.36%\n",
      "Epoch 2\n",
      "Train Accuracy: 50.74%\n",
      "Test loss: 1.443, Val Accuracy: 48.11%\n",
      "Epoch 3\n",
      "Train Accuracy: 59.37%\n",
      "Test loss: 1.360, Val Accuracy: 46.21%\n",
      "Epoch 4\n",
      "Train Accuracy: 63.82%\n",
      "Test loss: 1.291, Val Accuracy: 53.03%\n",
      "Epoch 5\n",
      "Train Accuracy: 66.98%\n",
      "Test loss: 1.350, Val Accuracy: 47.35%\n",
      "Epoch 6\n",
      "Train Accuracy: 70.04%\n",
      "Test loss: 1.297, Val Accuracy: 52.27%\n",
      "Epoch 7\n",
      "Train Accuracy: 73.75%\n",
      "Test loss: 1.246, Val Accuracy: 54.55%\n",
      "Epoch 8\n",
      "Train Accuracy: 74.30%\n",
      "Test loss: 1.247, Val Accuracy: 57.95%\n",
      "Epoch 9\n",
      "Train Accuracy: 77.83%\n",
      "Test loss: 1.242, Val Accuracy: 58.33%\n",
      "Epoch 10\n",
      "Train Accuracy: 78.57%\n",
      "Test loss: 1.216, Val Accuracy: 57.95%\n",
      "Epoch 11\n",
      "Train Accuracy: 77.46%\n",
      "Test loss: 1.213, Val Accuracy: 56.44%\n",
      "Epoch 12\n",
      "Train Accuracy: 82.00%\n",
      "Test loss: 1.187, Val Accuracy: 57.58%\n",
      "Epoch 13\n",
      "Train Accuracy: 82.00%\n",
      "Test loss: 1.271, Val Accuracy: 54.55%\n",
      "Epoch 14\n",
      "Train Accuracy: 83.30%\n",
      "Test loss: 1.203, Val Accuracy: 57.20%\n",
      "Epoch 15\n",
      "Train Accuracy: 84.42%\n",
      "Test loss: 1.177, Val Accuracy: 57.58%\n",
      "Epoch 16\n",
      "Train Accuracy: 84.60%\n",
      "Test loss: 1.205, Val Accuracy: 58.33%\n",
      "Epoch 17\n",
      "Train Accuracy: 85.62%\n",
      "Test loss: 1.180, Val Accuracy: 59.09%\n",
      "Epoch 18\n",
      "Train Accuracy: 86.55%\n",
      "Test loss: 1.222, Val Accuracy: 57.95%\n",
      "Epoch 19\n",
      "Train Accuracy: 86.92%\n",
      "Test loss: 1.204, Val Accuracy: 57.95%\n",
      "Epoch 20\n",
      "Train Accuracy: 87.48%\n",
      "Test loss: 1.155, Val Accuracy: 58.71%\n"
     ]
    },
    {
     "data": {
      "application/vnd.jupyter.widget-view+json": {
       "model_id": "5980198877df45c6b93c44f777f6e461",
       "version_major": 2,
       "version_minor": 0
      },
      "text/plain": [
       "VBox(children=(Label(value='0.326 MB of 0.326 MB uploaded\\r'), FloatProgress(value=1.0, max=1.0)))"
      ]
     },
     "metadata": {},
     "output_type": "display_data"
    },
    {
     "data": {
      "text/html": [
       "<style>\n",
       "    table.wandb td:nth-child(1) { padding: 0 10px; text-align: left ; width: auto;} td:nth-child(2) {text-align: left ; width: 100%}\n",
       "    .wandb-row { display: flex; flex-direction: row; flex-wrap: wrap; justify-content: flex-start; width: 100% }\n",
       "    .wandb-col { display: flex; flex-direction: column; flex-basis: 100%; flex: 1; padding: 10px; }\n",
       "    </style>\n",
       "<div class=\"wandb-row\"><div class=\"wandb-col\"><h3>Run history:</h3><br/><table class=\"wandb\"><tr><td>epoch</td><td>▁▁▂▂▂▃▃▄▄▄▅▅▅▆▆▇▇▇██</td></tr><tr><td>iter_accuracy</td><td>▁▃▅▄▆▄▆▅▆▇▅▇▆▆▆▇▇▇▇▇▆█▇▇▇▇▇▇███▇███▆▇▇██</td></tr><tr><td>tr_accuracy</td><td>▁▃▄▅▅▆▆▆▇▇▇▇▇▇██████</td></tr><tr><td>val_accuracy</td><td>▁▅▄▆▄▆▇███▇█▇▇██████</td></tr></table><br/></div><div class=\"wandb-col\"><h3>Run summary:</h3><br/><table class=\"wandb\"><tr><td>epoch</td><td>19</td></tr><tr><td>iter_accuracy</td><td>90.90909</td></tr><tr><td>tr_accuracy</td><td>87.47681</td></tr><tr><td>val_accuracy</td><td>58.71212</td></tr></table><br/></div></div>"
      ],
      "text/plain": [
       "<IPython.core.display.HTML object>"
      ]
     },
     "metadata": {},
     "output_type": "display_data"
    },
    {
     "data": {
      "text/html": [
       " View run <strong style=\"color:#cdcd00\">wise-sweep-73</strong> at: <a href='https://wandb.ai/bhkim003-seoul-national-university/reservoir/runs/lquq8pjk' target=\"_blank\">https://wandb.ai/bhkim003-seoul-national-university/reservoir/runs/lquq8pjk</a><br/> View project at: <a href='https://wandb.ai/bhkim003-seoul-national-university/reservoir' target=\"_blank\">https://wandb.ai/bhkim003-seoul-national-university/reservoir</a><br/>Synced 7 W&B file(s), 0 media file(s), 0 artifact file(s) and 1 other file(s)"
      ],
      "text/plain": [
       "<IPython.core.display.HTML object>"
      ]
     },
     "metadata": {},
     "output_type": "display_data"
    },
    {
     "data": {
      "text/html": [
       "Find logs at: <code>./wandb/run-20240728_070407-lquq8pjk/logs</code>"
      ],
      "text/plain": [
       "<IPython.core.display.HTML object>"
      ]
     },
     "metadata": {},
     "output_type": "display_data"
    },
    {
     "data": {
      "text/html": [
       "The new W&B backend becomes opt-out in version 0.18.0; try it out with `wandb.require(\"core\")`! See https://wandb.me/wandb-core for more information."
      ],
      "text/plain": [
       "<IPython.core.display.HTML object>"
      ]
     },
     "metadata": {},
     "output_type": "display_data"
    },
    {
     "name": "stderr",
     "output_type": "stream",
     "text": [
      "\u001b[34m\u001b[1mwandb\u001b[0m: Agent Starting Run: y86kid6t with config:\n",
      "\u001b[34m\u001b[1mwandb\u001b[0m: \tEPOCH: 20\n",
      "\u001b[34m\u001b[1mwandb\u001b[0m: \tFC_RESERVOIR: True\n",
      "\u001b[34m\u001b[1mwandb\u001b[0m: \tIMAGE_SIZE: 128\n",
      "\u001b[34m\u001b[1mwandb\u001b[0m: \tbatch_size: 32\n",
      "\u001b[34m\u001b[1mwandb\u001b[0m: \tdata_path: /data2\n",
      "\u001b[34m\u001b[1mwandb\u001b[0m: \tdecay: 0.9998160857822348\n",
      "\u001b[34m\u001b[1mwandb\u001b[0m: \tdvs_clipping: True\n",
      "\u001b[34m\u001b[1mwandb\u001b[0m: \tdvs_duration: 100000\n",
      "\u001b[34m\u001b[1mwandb\u001b[0m: \tlearning_rate: 0.03219009966149991\n",
      "\u001b[34m\u001b[1mwandb\u001b[0m: \tno_reservoir: False\n",
      "\u001b[34m\u001b[1mwandb\u001b[0m: \tpre_spike_weight: 9.345693474185362\n",
      "\u001b[34m\u001b[1mwandb\u001b[0m: \trate_coding: True\n",
      "\u001b[34m\u001b[1mwandb\u001b[0m: \ttime_step: 8\n",
      "\u001b[34m\u001b[1mwandb\u001b[0m: \twhich_data: DVS_GESTURE\n",
      "Failed to detect the name of this notebook, you can set it manually with the WANDB_NOTEBOOK_NAME environment variable to enable code saving.\n"
     ]
    },
    {
     "data": {
      "text/html": [
       "Tracking run with wandb version 0.17.5"
      ],
      "text/plain": [
       "<IPython.core.display.HTML object>"
      ]
     },
     "metadata": {},
     "output_type": "display_data"
    },
    {
     "data": {
      "text/html": [
       "Run data is saved locally in <code>/nfs/home/bhkim003/github_folder/ByeonghyeonKim/my_snn/wandb/run-20240728_071711-y86kid6t</code>"
      ],
      "text/plain": [
       "<IPython.core.display.HTML object>"
      ]
     },
     "metadata": {},
     "output_type": "display_data"
    },
    {
     "data": {
      "text/html": [
       "Syncing run <strong><a href='https://wandb.ai/bhkim003-seoul-national-university/reservoir/runs/y86kid6t' target=\"_blank\">usual-sweep-74</a></strong> to <a href='https://wandb.ai/bhkim003-seoul-national-university/reservoir' target=\"_blank\">Weights & Biases</a> (<a href='https://wandb.me/run' target=\"_blank\">docs</a>)<br/>Sweep page: <a href='https://wandb.ai/bhkim003-seoul-national-university/reservoir/sweeps/sxt07a51' target=\"_blank\">https://wandb.ai/bhkim003-seoul-national-university/reservoir/sweeps/sxt07a51</a>"
      ],
      "text/plain": [
       "<IPython.core.display.HTML object>"
      ]
     },
     "metadata": {},
     "output_type": "display_data"
    },
    {
     "data": {
      "text/html": [
       " View project at <a href='https://wandb.ai/bhkim003-seoul-national-university/reservoir' target=\"_blank\">https://wandb.ai/bhkim003-seoul-national-university/reservoir</a>"
      ],
      "text/plain": [
       "<IPython.core.display.HTML object>"
      ]
     },
     "metadata": {},
     "output_type": "display_data"
    },
    {
     "data": {
      "text/html": [
       " View sweep at <a href='https://wandb.ai/bhkim003-seoul-national-university/reservoir/sweeps/sxt07a51' target=\"_blank\">https://wandb.ai/bhkim003-seoul-national-university/reservoir/sweeps/sxt07a51</a>"
      ],
      "text/plain": [
       "<IPython.core.display.HTML object>"
      ]
     },
     "metadata": {},
     "output_type": "display_data"
    },
    {
     "data": {
      "text/html": [
       " View run at <a href='https://wandb.ai/bhkim003-seoul-national-university/reservoir/runs/y86kid6t' target=\"_blank\">https://wandb.ai/bhkim003-seoul-national-university/reservoir/runs/y86kid6t</a>"
      ],
      "text/plain": [
       "<IPython.core.display.HTML object>"
      ]
     },
     "metadata": {},
     "output_type": "display_data"
    },
    {
     "name": "stderr",
     "output_type": "stream",
     "text": [
      "\u001b[34m\u001b[1mwandb\u001b[0m: \u001b[33mWARNING\u001b[0m Config item 'data_path' was locked by 'sweep' (ignored update).\n",
      "\u001b[34m\u001b[1mwandb\u001b[0m: \u001b[33mWARNING\u001b[0m Config item 'which_data' was locked by 'sweep' (ignored update).\n",
      "\u001b[34m\u001b[1mwandb\u001b[0m: \u001b[33mWARNING\u001b[0m Config item 'learning_rate' was locked by 'sweep' (ignored update).\n",
      "\u001b[34m\u001b[1mwandb\u001b[0m: \u001b[33mWARNING\u001b[0m Config item 'IMAGE_SIZE' was locked by 'sweep' (ignored update).\n",
      "\u001b[34m\u001b[1mwandb\u001b[0m: \u001b[33mWARNING\u001b[0m Config item 'EPOCH' was locked by 'sweep' (ignored update).\n",
      "\u001b[34m\u001b[1mwandb\u001b[0m: \u001b[33mWARNING\u001b[0m Config item 'rate_coding' was locked by 'sweep' (ignored update).\n",
      "\u001b[34m\u001b[1mwandb\u001b[0m: \u001b[33mWARNING\u001b[0m Config item 'pre_spike_weight' was locked by 'sweep' (ignored update).\n",
      "\u001b[34m\u001b[1mwandb\u001b[0m: \u001b[33mWARNING\u001b[0m Config item 'dvs_duration' was locked by 'sweep' (ignored update).\n",
      "\u001b[34m\u001b[1mwandb\u001b[0m: \u001b[33mWARNING\u001b[0m Config item 'dvs_clipping' was locked by 'sweep' (ignored update).\n",
      "\u001b[34m\u001b[1mwandb\u001b[0m: \u001b[33mWARNING\u001b[0m Config item 'no_reservoir' was locked by 'sweep' (ignored update).\n",
      "\u001b[34m\u001b[1mwandb\u001b[0m: \u001b[33mWARNING\u001b[0m Config item 'FC_RESERVOIR' was locked by 'sweep' (ignored update).\n"
     ]
    },
    {
     "name": "stdout",
     "output_type": "stream",
     "text": [
      "The directory [/data2/gesture/duration_100000] already exists.\n",
      "The directory [/data2/gesture/duration_100000] already exists.\n",
      "RESERVOIR_NET(\n",
      "  (reservoir): RESERVOIR(\n",
      "    (reservoir): Linear(in_features=32768, out_features=32768, bias=True)\n",
      "  )\n",
      "  (classifier): Linear(in_features=32768, out_features=10, bias=True)\n",
      ")\n",
      "Epoch 1\n",
      "Train Accuracy: 44.16%\n",
      "Test loss: 4.725, Val Accuracy: 47.73%\n",
      "Epoch 2\n",
      "Train Accuracy: 66.60%\n",
      "Test loss: 4.699, Val Accuracy: 51.52%\n",
      "Epoch 3\n",
      "Train Accuracy: 80.06%\n",
      "Test loss: 3.937, Val Accuracy: 57.58%\n",
      "Epoch 4\n",
      "Train Accuracy: 87.48%\n",
      "Test loss: 2.954, Val Accuracy: 64.02%\n",
      "Epoch 5\n",
      "Train Accuracy: 94.90%\n",
      "Test loss: 2.398, Val Accuracy: 64.77%\n",
      "Epoch 6\n",
      "Train Accuracy: 96.94%\n",
      "Test loss: 2.602, Val Accuracy: 69.70%\n",
      "Epoch 7\n",
      "Train Accuracy: 97.87%\n",
      "Test loss: 1.976, Val Accuracy: 70.45%\n",
      "Epoch 8\n",
      "Train Accuracy: 97.87%\n",
      "Test loss: 2.549, Val Accuracy: 64.77%\n",
      "Epoch 9\n",
      "Train Accuracy: 99.44%\n",
      "Test loss: 2.338, Val Accuracy: 66.67%\n",
      "Epoch 10\n",
      "Train Accuracy: 99.72%\n",
      "Test loss: 2.064, Val Accuracy: 73.48%\n",
      "Epoch 11\n",
      "Train Accuracy: 100.00%\n",
      "Test loss: 1.887, Val Accuracy: 73.86%\n",
      "Epoch 12\n",
      "Train Accuracy: 100.00%\n",
      "Test loss: 1.745, Val Accuracy: 74.24%\n",
      "Epoch 13\n",
      "Train Accuracy: 100.00%\n",
      "Test loss: 1.783, Val Accuracy: 73.86%\n",
      "Epoch 14\n",
      "Train Accuracy: 100.00%\n",
      "Test loss: 1.813, Val Accuracy: 73.86%\n",
      "Epoch 15\n",
      "Train Accuracy: 100.00%\n",
      "Test loss: 1.813, Val Accuracy: 73.86%\n",
      "Epoch 16\n",
      "Train Accuracy: 100.00%\n",
      "Test loss: 1.830, Val Accuracy: 73.11%\n",
      "Epoch 17\n",
      "Train Accuracy: 100.00%\n",
      "Test loss: 1.842, Val Accuracy: 73.11%\n",
      "Epoch 18\n",
      "Train Accuracy: 100.00%\n",
      "Test loss: 1.853, Val Accuracy: 73.11%\n",
      "Epoch 19\n",
      "Train Accuracy: 100.00%\n",
      "Test loss: 1.845, Val Accuracy: 72.73%\n",
      "Epoch 20\n",
      "Train Accuracy: 100.00%\n",
      "Test loss: 1.869, Val Accuracy: 73.11%\n"
     ]
    },
    {
     "data": {
      "application/vnd.jupyter.widget-view+json": {
       "model_id": "0322893e6464419bbb5a22c077b24770",
       "version_major": 2,
       "version_minor": 0
      },
      "text/plain": [
       "VBox(children=(Label(value='0.326 MB of 0.326 MB uploaded\\r'), FloatProgress(value=1.0, max=1.0)))"
      ]
     },
     "metadata": {},
     "output_type": "display_data"
    },
    {
     "data": {
      "text/html": [
       "<style>\n",
       "    table.wandb td:nth-child(1) { padding: 0 10px; text-align: left ; width: auto;} td:nth-child(2) {text-align: left ; width: 100%}\n",
       "    .wandb-row { display: flex; flex-direction: row; flex-wrap: wrap; justify-content: flex-start; width: 100% }\n",
       "    .wandb-col { display: flex; flex-direction: column; flex-basis: 100%; flex: 1; padding: 10px; }\n",
       "    </style>\n",
       "<div class=\"wandb-row\"><div class=\"wandb-col\"><h3>Run history:</h3><br/><table class=\"wandb\"><tr><td>epoch</td><td>▁▁▂▂▂▃▃▄▄▄▅▅▅▆▆▇▇▇██</td></tr><tr><td>iter_accuracy</td><td>▁▁▄▃▄▅▇██████▇██████████████████████████</td></tr><tr><td>tr_accuracy</td><td>▁▄▅▆▇███████████████</td></tr><tr><td>val_accuracy</td><td>▁▂▄▅▆▇▇▆▆███████████</td></tr></table><br/></div><div class=\"wandb-col\"><h3>Run summary:</h3><br/><table class=\"wandb\"><tr><td>epoch</td><td>19</td></tr><tr><td>iter_accuracy</td><td>100.0</td></tr><tr><td>tr_accuracy</td><td>100.0</td></tr><tr><td>val_accuracy</td><td>73.10606</td></tr></table><br/></div></div>"
      ],
      "text/plain": [
       "<IPython.core.display.HTML object>"
      ]
     },
     "metadata": {},
     "output_type": "display_data"
    },
    {
     "data": {
      "text/html": [
       " View run <strong style=\"color:#cdcd00\">usual-sweep-74</strong> at: <a href='https://wandb.ai/bhkim003-seoul-national-university/reservoir/runs/y86kid6t' target=\"_blank\">https://wandb.ai/bhkim003-seoul-national-university/reservoir/runs/y86kid6t</a><br/> View project at: <a href='https://wandb.ai/bhkim003-seoul-national-university/reservoir' target=\"_blank\">https://wandb.ai/bhkim003-seoul-national-university/reservoir</a><br/>Synced 7 W&B file(s), 0 media file(s), 0 artifact file(s) and 1 other file(s)"
      ],
      "text/plain": [
       "<IPython.core.display.HTML object>"
      ]
     },
     "metadata": {},
     "output_type": "display_data"
    },
    {
     "data": {
      "text/html": [
       "Find logs at: <code>./wandb/run-20240728_071711-y86kid6t/logs</code>"
      ],
      "text/plain": [
       "<IPython.core.display.HTML object>"
      ]
     },
     "metadata": {},
     "output_type": "display_data"
    },
    {
     "data": {
      "text/html": [
       "The new W&B backend becomes opt-out in version 0.18.0; try it out with `wandb.require(\"core\")`! See https://wandb.me/wandb-core for more information."
      ],
      "text/plain": [
       "<IPython.core.display.HTML object>"
      ]
     },
     "metadata": {},
     "output_type": "display_data"
    },
    {
     "name": "stderr",
     "output_type": "stream",
     "text": [
      "\u001b[34m\u001b[1mwandb\u001b[0m: Agent Starting Run: i32csb4y with config:\n",
      "\u001b[34m\u001b[1mwandb\u001b[0m: \tEPOCH: 20\n",
      "\u001b[34m\u001b[1mwandb\u001b[0m: \tFC_RESERVOIR: True\n",
      "\u001b[34m\u001b[1mwandb\u001b[0m: \tIMAGE_SIZE: 128\n",
      "\u001b[34m\u001b[1mwandb\u001b[0m: \tbatch_size: 16\n",
      "\u001b[34m\u001b[1mwandb\u001b[0m: \tdata_path: /data2\n",
      "\u001b[34m\u001b[1mwandb\u001b[0m: \tdecay: 0.4597059371256689\n",
      "\u001b[34m\u001b[1mwandb\u001b[0m: \tdvs_clipping: True\n",
      "\u001b[34m\u001b[1mwandb\u001b[0m: \tdvs_duration: 100000\n",
      "\u001b[34m\u001b[1mwandb\u001b[0m: \tlearning_rate: 0.012875931399688652\n",
      "\u001b[34m\u001b[1mwandb\u001b[0m: \tno_reservoir: False\n",
      "\u001b[34m\u001b[1mwandb\u001b[0m: \tpre_spike_weight: 9.40494569068995\n",
      "\u001b[34m\u001b[1mwandb\u001b[0m: \trate_coding: True\n",
      "\u001b[34m\u001b[1mwandb\u001b[0m: \ttime_step: 8\n",
      "\u001b[34m\u001b[1mwandb\u001b[0m: \twhich_data: DVS_GESTURE\n",
      "Failed to detect the name of this notebook, you can set it manually with the WANDB_NOTEBOOK_NAME environment variable to enable code saving.\n"
     ]
    },
    {
     "data": {
      "text/html": [
       "Tracking run with wandb version 0.17.5"
      ],
      "text/plain": [
       "<IPython.core.display.HTML object>"
      ]
     },
     "metadata": {},
     "output_type": "display_data"
    },
    {
     "data": {
      "text/html": [
       "Run data is saved locally in <code>/nfs/home/bhkim003/github_folder/ByeonghyeonKim/my_snn/wandb/run-20240728_091933-i32csb4y</code>"
      ],
      "text/plain": [
       "<IPython.core.display.HTML object>"
      ]
     },
     "metadata": {},
     "output_type": "display_data"
    },
    {
     "data": {
      "text/html": [
       "Syncing run <strong><a href='https://wandb.ai/bhkim003-seoul-national-university/reservoir/runs/i32csb4y' target=\"_blank\">stellar-sweep-75</a></strong> to <a href='https://wandb.ai/bhkim003-seoul-national-university/reservoir' target=\"_blank\">Weights & Biases</a> (<a href='https://wandb.me/run' target=\"_blank\">docs</a>)<br/>Sweep page: <a href='https://wandb.ai/bhkim003-seoul-national-university/reservoir/sweeps/sxt07a51' target=\"_blank\">https://wandb.ai/bhkim003-seoul-national-university/reservoir/sweeps/sxt07a51</a>"
      ],
      "text/plain": [
       "<IPython.core.display.HTML object>"
      ]
     },
     "metadata": {},
     "output_type": "display_data"
    },
    {
     "data": {
      "text/html": [
       " View project at <a href='https://wandb.ai/bhkim003-seoul-national-university/reservoir' target=\"_blank\">https://wandb.ai/bhkim003-seoul-national-university/reservoir</a>"
      ],
      "text/plain": [
       "<IPython.core.display.HTML object>"
      ]
     },
     "metadata": {},
     "output_type": "display_data"
    },
    {
     "data": {
      "text/html": [
       " View sweep at <a href='https://wandb.ai/bhkim003-seoul-national-university/reservoir/sweeps/sxt07a51' target=\"_blank\">https://wandb.ai/bhkim003-seoul-national-university/reservoir/sweeps/sxt07a51</a>"
      ],
      "text/plain": [
       "<IPython.core.display.HTML object>"
      ]
     },
     "metadata": {},
     "output_type": "display_data"
    },
    {
     "data": {
      "text/html": [
       " View run at <a href='https://wandb.ai/bhkim003-seoul-national-university/reservoir/runs/i32csb4y' target=\"_blank\">https://wandb.ai/bhkim003-seoul-national-university/reservoir/runs/i32csb4y</a>"
      ],
      "text/plain": [
       "<IPython.core.display.HTML object>"
      ]
     },
     "metadata": {},
     "output_type": "display_data"
    },
    {
     "name": "stderr",
     "output_type": "stream",
     "text": [
      "\u001b[34m\u001b[1mwandb\u001b[0m: \u001b[33mWARNING\u001b[0m Config item 'data_path' was locked by 'sweep' (ignored update).\n",
      "\u001b[34m\u001b[1mwandb\u001b[0m: \u001b[33mWARNING\u001b[0m Config item 'which_data' was locked by 'sweep' (ignored update).\n",
      "\u001b[34m\u001b[1mwandb\u001b[0m: \u001b[33mWARNING\u001b[0m Config item 'learning_rate' was locked by 'sweep' (ignored update).\n",
      "\u001b[34m\u001b[1mwandb\u001b[0m: \u001b[33mWARNING\u001b[0m Config item 'IMAGE_SIZE' was locked by 'sweep' (ignored update).\n",
      "\u001b[34m\u001b[1mwandb\u001b[0m: \u001b[33mWARNING\u001b[0m Config item 'EPOCH' was locked by 'sweep' (ignored update).\n",
      "\u001b[34m\u001b[1mwandb\u001b[0m: \u001b[33mWARNING\u001b[0m Config item 'rate_coding' was locked by 'sweep' (ignored update).\n",
      "\u001b[34m\u001b[1mwandb\u001b[0m: \u001b[33mWARNING\u001b[0m Config item 'pre_spike_weight' was locked by 'sweep' (ignored update).\n",
      "\u001b[34m\u001b[1mwandb\u001b[0m: \u001b[33mWARNING\u001b[0m Config item 'dvs_duration' was locked by 'sweep' (ignored update).\n",
      "\u001b[34m\u001b[1mwandb\u001b[0m: \u001b[33mWARNING\u001b[0m Config item 'dvs_clipping' was locked by 'sweep' (ignored update).\n",
      "\u001b[34m\u001b[1mwandb\u001b[0m: \u001b[33mWARNING\u001b[0m Config item 'no_reservoir' was locked by 'sweep' (ignored update).\n",
      "\u001b[34m\u001b[1mwandb\u001b[0m: \u001b[33mWARNING\u001b[0m Config item 'FC_RESERVOIR' was locked by 'sweep' (ignored update).\n"
     ]
    },
    {
     "name": "stdout",
     "output_type": "stream",
     "text": [
      "The directory [/data2/gesture/duration_100000] already exists.\n",
      "The directory [/data2/gesture/duration_100000] already exists.\n",
      "RESERVOIR_NET(\n",
      "  (reservoir): RESERVOIR(\n",
      "    (reservoir): Linear(in_features=32768, out_features=32768, bias=True)\n",
      "  )\n",
      "  (classifier): Linear(in_features=32768, out_features=10, bias=True)\n",
      ")\n",
      "Epoch 1\n",
      "Train Accuracy: 49.91%\n",
      "Test loss: 1.852, Val Accuracy: 59.85%\n",
      "Epoch 2\n",
      "Train Accuracy: 78.76%\n",
      "Test loss: 1.564, Val Accuracy: 66.67%\n",
      "Epoch 3\n",
      "Train Accuracy: 90.26%\n",
      "Test loss: 1.381, Val Accuracy: 68.56%\n",
      "Epoch 4\n",
      "Train Accuracy: 96.47%\n",
      "Test loss: 1.240, Val Accuracy: 72.35%\n",
      "Epoch 5\n",
      "Train Accuracy: 99.17%\n",
      "Test loss: 1.262, Val Accuracy: 68.94%\n",
      "Epoch 6\n",
      "Train Accuracy: 100.00%\n",
      "Test loss: 1.002, Val Accuracy: 72.35%\n",
      "Epoch 7\n",
      "Train Accuracy: 100.00%\n",
      "Test loss: 0.961, Val Accuracy: 73.11%\n",
      "Epoch 8\n",
      "Train Accuracy: 100.00%\n",
      "Test loss: 0.992, Val Accuracy: 71.59%\n",
      "Epoch 9\n",
      "Train Accuracy: 100.00%\n",
      "Test loss: 1.000, Val Accuracy: 72.35%\n",
      "Epoch 10\n",
      "Train Accuracy: 100.00%\n",
      "Test loss: 1.017, Val Accuracy: 72.35%\n",
      "Epoch 11\n",
      "Train Accuracy: 100.00%\n",
      "Test loss: 1.008, Val Accuracy: 71.97%\n",
      "Epoch 12\n",
      "Train Accuracy: 100.00%\n",
      "Test loss: 1.020, Val Accuracy: 72.35%\n",
      "Epoch 13\n",
      "Train Accuracy: 100.00%\n",
      "Test loss: 1.024, Val Accuracy: 72.35%\n",
      "Epoch 14\n",
      "Train Accuracy: 100.00%\n",
      "Test loss: 1.010, Val Accuracy: 72.35%\n",
      "Epoch 15\n",
      "Train Accuracy: 100.00%\n",
      "Test loss: 1.050, Val Accuracy: 71.97%\n",
      "Epoch 16\n",
      "Train Accuracy: 100.00%\n",
      "Test loss: 1.027, Val Accuracy: 71.97%\n",
      "Epoch 17\n",
      "Train Accuracy: 100.00%\n",
      "Test loss: 1.033, Val Accuracy: 71.59%\n",
      "Epoch 18\n",
      "Train Accuracy: 100.00%\n",
      "Test loss: 1.030, Val Accuracy: 72.35%\n",
      "Epoch 19\n",
      "Train Accuracy: 100.00%\n",
      "Test loss: 1.042, Val Accuracy: 71.97%\n",
      "Epoch 20\n",
      "Train Accuracy: 100.00%\n",
      "Test loss: 1.045, Val Accuracy: 71.59%\n"
     ]
    },
    {
     "data": {
      "application/vnd.jupyter.widget-view+json": {
       "model_id": "6c1de9a1d6df47c4abb611fe16f5a888",
       "version_major": 2,
       "version_minor": 0
      },
      "text/plain": [
       "VBox(children=(Label(value='0.326 MB of 0.326 MB uploaded\\r'), FloatProgress(value=1.0, max=1.0)))"
      ]
     },
     "metadata": {},
     "output_type": "display_data"
    },
    {
     "data": {
      "text/html": [
       "<style>\n",
       "    table.wandb td:nth-child(1) { padding: 0 10px; text-align: left ; width: auto;} td:nth-child(2) {text-align: left ; width: 100%}\n",
       "    .wandb-row { display: flex; flex-direction: row; flex-wrap: wrap; justify-content: flex-start; width: 100% }\n",
       "    .wandb-col { display: flex; flex-direction: column; flex-basis: 100%; flex: 1; padding: 10px; }\n",
       "    </style>\n",
       "<div class=\"wandb-row\"><div class=\"wandb-col\"><h3>Run history:</h3><br/><table class=\"wandb\"><tr><td>epoch</td><td>▁▁▂▂▂▃▃▄▄▄▅▅▅▆▆▇▇▇██</td></tr><tr><td>iter_accuracy</td><td>▂▁▆█▇▆▇█████████████████████████████████</td></tr><tr><td>tr_accuracy</td><td>▁▅▇█████████████████</td></tr><tr><td>val_accuracy</td><td>▁▅▆█▆██▇██▇███▇▇▇█▇▇</td></tr></table><br/></div><div class=\"wandb-col\"><h3>Run summary:</h3><br/><table class=\"wandb\"><tr><td>epoch</td><td>19</td></tr><tr><td>iter_accuracy</td><td>100.0</td></tr><tr><td>tr_accuracy</td><td>100.0</td></tr><tr><td>val_accuracy</td><td>71.59091</td></tr></table><br/></div></div>"
      ],
      "text/plain": [
       "<IPython.core.display.HTML object>"
      ]
     },
     "metadata": {},
     "output_type": "display_data"
    },
    {
     "data": {
      "text/html": [
       " View run <strong style=\"color:#cdcd00\">stellar-sweep-75</strong> at: <a href='https://wandb.ai/bhkim003-seoul-national-university/reservoir/runs/i32csb4y' target=\"_blank\">https://wandb.ai/bhkim003-seoul-national-university/reservoir/runs/i32csb4y</a><br/> View project at: <a href='https://wandb.ai/bhkim003-seoul-national-university/reservoir' target=\"_blank\">https://wandb.ai/bhkim003-seoul-national-university/reservoir</a><br/>Synced 7 W&B file(s), 0 media file(s), 0 artifact file(s) and 1 other file(s)"
      ],
      "text/plain": [
       "<IPython.core.display.HTML object>"
      ]
     },
     "metadata": {},
     "output_type": "display_data"
    },
    {
     "data": {
      "text/html": [
       "Find logs at: <code>./wandb/run-20240728_091933-i32csb4y/logs</code>"
      ],
      "text/plain": [
       "<IPython.core.display.HTML object>"
      ]
     },
     "metadata": {},
     "output_type": "display_data"
    },
    {
     "data": {
      "text/html": [
       "The new W&B backend becomes opt-out in version 0.18.0; try it out with `wandb.require(\"core\")`! See https://wandb.me/wandb-core for more information."
      ],
      "text/plain": [
       "<IPython.core.display.HTML object>"
      ]
     },
     "metadata": {},
     "output_type": "display_data"
    },
    {
     "name": "stderr",
     "output_type": "stream",
     "text": [
      "\u001b[34m\u001b[1mwandb\u001b[0m: Agent Starting Run: pu02xnn6 with config:\n",
      "\u001b[34m\u001b[1mwandb\u001b[0m: \tEPOCH: 20\n",
      "\u001b[34m\u001b[1mwandb\u001b[0m: \tFC_RESERVOIR: True\n",
      "\u001b[34m\u001b[1mwandb\u001b[0m: \tIMAGE_SIZE: 128\n",
      "\u001b[34m\u001b[1mwandb\u001b[0m: \tbatch_size: 32\n",
      "\u001b[34m\u001b[1mwandb\u001b[0m: \tdata_path: /data2\n",
      "\u001b[34m\u001b[1mwandb\u001b[0m: \tdecay: 0.901426720560561\n",
      "\u001b[34m\u001b[1mwandb\u001b[0m: \tdvs_clipping: True\n",
      "\u001b[34m\u001b[1mwandb\u001b[0m: \tdvs_duration: 100000\n",
      "\u001b[34m\u001b[1mwandb\u001b[0m: \tlearning_rate: 0.027443291508186397\n",
      "\u001b[34m\u001b[1mwandb\u001b[0m: \tno_reservoir: True\n",
      "\u001b[34m\u001b[1mwandb\u001b[0m: \tpre_spike_weight: 9.327090588101887\n",
      "\u001b[34m\u001b[1mwandb\u001b[0m: \trate_coding: False\n",
      "\u001b[34m\u001b[1mwandb\u001b[0m: \ttime_step: 8\n",
      "\u001b[34m\u001b[1mwandb\u001b[0m: \twhich_data: DVS_GESTURE\n",
      "Failed to detect the name of this notebook, you can set it manually with the WANDB_NOTEBOOK_NAME environment variable to enable code saving.\n"
     ]
    },
    {
     "data": {
      "text/html": [
       "Tracking run with wandb version 0.17.5"
      ],
      "text/plain": [
       "<IPython.core.display.HTML object>"
      ]
     },
     "metadata": {},
     "output_type": "display_data"
    },
    {
     "data": {
      "text/html": [
       "Run data is saved locally in <code>/nfs/home/bhkim003/github_folder/ByeonghyeonKim/my_snn/wandb/run-20240728_131630-pu02xnn6</code>"
      ],
      "text/plain": [
       "<IPython.core.display.HTML object>"
      ]
     },
     "metadata": {},
     "output_type": "display_data"
    },
    {
     "data": {
      "text/html": [
       "Syncing run <strong><a href='https://wandb.ai/bhkim003-seoul-national-university/reservoir/runs/pu02xnn6' target=\"_blank\">fresh-sweep-76</a></strong> to <a href='https://wandb.ai/bhkim003-seoul-national-university/reservoir' target=\"_blank\">Weights & Biases</a> (<a href='https://wandb.me/run' target=\"_blank\">docs</a>)<br/>Sweep page: <a href='https://wandb.ai/bhkim003-seoul-national-university/reservoir/sweeps/sxt07a51' target=\"_blank\">https://wandb.ai/bhkim003-seoul-national-university/reservoir/sweeps/sxt07a51</a>"
      ],
      "text/plain": [
       "<IPython.core.display.HTML object>"
      ]
     },
     "metadata": {},
     "output_type": "display_data"
    },
    {
     "data": {
      "text/html": [
       " View project at <a href='https://wandb.ai/bhkim003-seoul-national-university/reservoir' target=\"_blank\">https://wandb.ai/bhkim003-seoul-national-university/reservoir</a>"
      ],
      "text/plain": [
       "<IPython.core.display.HTML object>"
      ]
     },
     "metadata": {},
     "output_type": "display_data"
    },
    {
     "data": {
      "text/html": [
       " View sweep at <a href='https://wandb.ai/bhkim003-seoul-national-university/reservoir/sweeps/sxt07a51' target=\"_blank\">https://wandb.ai/bhkim003-seoul-national-university/reservoir/sweeps/sxt07a51</a>"
      ],
      "text/plain": [
       "<IPython.core.display.HTML object>"
      ]
     },
     "metadata": {},
     "output_type": "display_data"
    },
    {
     "data": {
      "text/html": [
       " View run at <a href='https://wandb.ai/bhkim003-seoul-national-university/reservoir/runs/pu02xnn6' target=\"_blank\">https://wandb.ai/bhkim003-seoul-national-university/reservoir/runs/pu02xnn6</a>"
      ],
      "text/plain": [
       "<IPython.core.display.HTML object>"
      ]
     },
     "metadata": {},
     "output_type": "display_data"
    },
    {
     "name": "stderr",
     "output_type": "stream",
     "text": [
      "\u001b[34m\u001b[1mwandb\u001b[0m: \u001b[33mWARNING\u001b[0m Config item 'data_path' was locked by 'sweep' (ignored update).\n",
      "\u001b[34m\u001b[1mwandb\u001b[0m: \u001b[33mWARNING\u001b[0m Config item 'which_data' was locked by 'sweep' (ignored update).\n",
      "\u001b[34m\u001b[1mwandb\u001b[0m: \u001b[33mWARNING\u001b[0m Config item 'learning_rate' was locked by 'sweep' (ignored update).\n",
      "\u001b[34m\u001b[1mwandb\u001b[0m: \u001b[33mWARNING\u001b[0m Config item 'IMAGE_SIZE' was locked by 'sweep' (ignored update).\n",
      "\u001b[34m\u001b[1mwandb\u001b[0m: \u001b[33mWARNING\u001b[0m Config item 'EPOCH' was locked by 'sweep' (ignored update).\n",
      "\u001b[34m\u001b[1mwandb\u001b[0m: \u001b[33mWARNING\u001b[0m Config item 'rate_coding' was locked by 'sweep' (ignored update).\n",
      "\u001b[34m\u001b[1mwandb\u001b[0m: \u001b[33mWARNING\u001b[0m Config item 'pre_spike_weight' was locked by 'sweep' (ignored update).\n",
      "\u001b[34m\u001b[1mwandb\u001b[0m: \u001b[33mWARNING\u001b[0m Config item 'dvs_duration' was locked by 'sweep' (ignored update).\n",
      "\u001b[34m\u001b[1mwandb\u001b[0m: \u001b[33mWARNING\u001b[0m Config item 'dvs_clipping' was locked by 'sweep' (ignored update).\n",
      "\u001b[34m\u001b[1mwandb\u001b[0m: \u001b[33mWARNING\u001b[0m Config item 'no_reservoir' was locked by 'sweep' (ignored update).\n",
      "\u001b[34m\u001b[1mwandb\u001b[0m: \u001b[33mWARNING\u001b[0m Config item 'FC_RESERVOIR' was locked by 'sweep' (ignored update).\n"
     ]
    },
    {
     "name": "stdout",
     "output_type": "stream",
     "text": [
      "The directory [/data2/gesture/duration_100000] already exists.\n",
      "The directory [/data2/gesture/duration_100000] already exists.\n",
      "RESERVOIR_NET(\n",
      "  (classifier): Linear(in_features=32768, out_features=10, bias=True)\n",
      ")\n",
      "Epoch 1\n",
      "Train Accuracy: 51.02%\n",
      "Test loss: 2.824, Val Accuracy: 50.38%\n",
      "Epoch 2\n",
      "Train Accuracy: 76.44%\n",
      "Test loss: 1.351, Val Accuracy: 62.50%\n",
      "Epoch 3\n",
      "Train Accuracy: 85.34%\n",
      "Test loss: 2.668, Val Accuracy: 64.77%\n",
      "Epoch 4\n",
      "Train Accuracy: 92.02%\n",
      "Test loss: 1.953, Val Accuracy: 64.02%\n",
      "Epoch 5\n",
      "Train Accuracy: 95.73%\n",
      "Test loss: 1.267, Val Accuracy: 67.05%\n",
      "Epoch 6\n",
      "Train Accuracy: 98.24%\n",
      "Test loss: 1.335, Val Accuracy: 68.56%\n",
      "Epoch 7\n",
      "Train Accuracy: 99.81%\n",
      "Test loss: 1.199, Val Accuracy: 66.29%\n",
      "Epoch 8\n",
      "Train Accuracy: 100.00%\n",
      "Test loss: 1.143, Val Accuracy: 70.83%\n",
      "Epoch 9\n",
      "Train Accuracy: 100.00%\n",
      "Test loss: 1.210, Val Accuracy: 72.35%\n",
      "Epoch 10\n",
      "Train Accuracy: 100.00%\n",
      "Test loss: 1.178, Val Accuracy: 71.59%\n",
      "Epoch 11\n",
      "Train Accuracy: 100.00%\n",
      "Test loss: 1.190, Val Accuracy: 72.73%\n",
      "Epoch 12\n",
      "Train Accuracy: 100.00%\n",
      "Test loss: 1.201, Val Accuracy: 71.97%\n",
      "Epoch 13\n",
      "Train Accuracy: 100.00%\n",
      "Test loss: 1.193, Val Accuracy: 71.21%\n",
      "Epoch 14\n",
      "Train Accuracy: 100.00%\n",
      "Test loss: 1.203, Val Accuracy: 71.21%\n",
      "Epoch 15\n",
      "Train Accuracy: 100.00%\n",
      "Test loss: 1.194, Val Accuracy: 71.59%\n",
      "Epoch 16\n",
      "Train Accuracy: 100.00%\n",
      "Test loss: 1.182, Val Accuracy: 71.59%\n",
      "Epoch 17\n",
      "Train Accuracy: 100.00%\n",
      "Test loss: 1.208, Val Accuracy: 71.21%\n",
      "Epoch 18\n",
      "Train Accuracy: 100.00%\n",
      "Test loss: 1.218, Val Accuracy: 71.97%\n",
      "Epoch 19\n",
      "Train Accuracy: 100.00%\n",
      "Test loss: 1.211, Val Accuracy: 71.59%\n",
      "Epoch 20\n",
      "Train Accuracy: 100.00%\n",
      "Test loss: 1.214, Val Accuracy: 71.59%\n"
     ]
    },
    {
     "data": {
      "application/vnd.jupyter.widget-view+json": {
       "model_id": "d33e00942f0443acb604551f5631eb70",
       "version_major": 2,
       "version_minor": 0
      },
      "text/plain": [
       "VBox(children=(Label(value='0.326 MB of 0.326 MB uploaded\\r'), FloatProgress(value=1.0, max=1.0)))"
      ]
     },
     "metadata": {},
     "output_type": "display_data"
    },
    {
     "data": {
      "text/html": [
       "<style>\n",
       "    table.wandb td:nth-child(1) { padding: 0 10px; text-align: left ; width: auto;} td:nth-child(2) {text-align: left ; width: 100%}\n",
       "    .wandb-row { display: flex; flex-direction: row; flex-wrap: wrap; justify-content: flex-start; width: 100% }\n",
       "    .wandb-col { display: flex; flex-direction: column; flex-basis: 100%; flex: 1; padding: 10px; }\n",
       "    </style>\n",
       "<div class=\"wandb-row\"><div class=\"wandb-col\"><h3>Run history:</h3><br/><table class=\"wandb\"><tr><td>epoch</td><td>▁▁▂▂▂▃▃▄▄▄▅▅▅▆▆▇▇▇██</td></tr><tr><td>iter_accuracy</td><td>▁▃▆▅▆█▆▇▇▇██████████████████████████████</td></tr><tr><td>tr_accuracy</td><td>▁▅▆▇▇███████████████</td></tr><tr><td>val_accuracy</td><td>▁▅▆▅▆▇▆▇████████████</td></tr></table><br/></div><div class=\"wandb-col\"><h3>Run summary:</h3><br/><table class=\"wandb\"><tr><td>epoch</td><td>19</td></tr><tr><td>iter_accuracy</td><td>100.0</td></tr><tr><td>tr_accuracy</td><td>100.0</td></tr><tr><td>val_accuracy</td><td>71.59091</td></tr></table><br/></div></div>"
      ],
      "text/plain": [
       "<IPython.core.display.HTML object>"
      ]
     },
     "metadata": {},
     "output_type": "display_data"
    },
    {
     "data": {
      "text/html": [
       " View run <strong style=\"color:#cdcd00\">fresh-sweep-76</strong> at: <a href='https://wandb.ai/bhkim003-seoul-national-university/reservoir/runs/pu02xnn6' target=\"_blank\">https://wandb.ai/bhkim003-seoul-national-university/reservoir/runs/pu02xnn6</a><br/> View project at: <a href='https://wandb.ai/bhkim003-seoul-national-university/reservoir' target=\"_blank\">https://wandb.ai/bhkim003-seoul-national-university/reservoir</a><br/>Synced 7 W&B file(s), 0 media file(s), 0 artifact file(s) and 1 other file(s)"
      ],
      "text/plain": [
       "<IPython.core.display.HTML object>"
      ]
     },
     "metadata": {},
     "output_type": "display_data"
    },
    {
     "data": {
      "text/html": [
       "Find logs at: <code>./wandb/run-20240728_131630-pu02xnn6/logs</code>"
      ],
      "text/plain": [
       "<IPython.core.display.HTML object>"
      ]
     },
     "metadata": {},
     "output_type": "display_data"
    },
    {
     "data": {
      "text/html": [
       "The new W&B backend becomes opt-out in version 0.18.0; try it out with `wandb.require(\"core\")`! See https://wandb.me/wandb-core for more information."
      ],
      "text/plain": [
       "<IPython.core.display.HTML object>"
      ]
     },
     "metadata": {},
     "output_type": "display_data"
    },
    {
     "name": "stderr",
     "output_type": "stream",
     "text": [
      "\u001b[34m\u001b[1mwandb\u001b[0m: Sweep Agent: Waiting for job.\n",
      "\u001b[34m\u001b[1mwandb\u001b[0m: Job received.\n",
      "\u001b[34m\u001b[1mwandb\u001b[0m: Agent Starting Run: y7s6rith with config:\n",
      "\u001b[34m\u001b[1mwandb\u001b[0m: \tEPOCH: 20\n",
      "\u001b[34m\u001b[1mwandb\u001b[0m: \tFC_RESERVOIR: True\n",
      "\u001b[34m\u001b[1mwandb\u001b[0m: \tIMAGE_SIZE: 128\n",
      "\u001b[34m\u001b[1mwandb\u001b[0m: \tbatch_size: 128\n",
      "\u001b[34m\u001b[1mwandb\u001b[0m: \tdata_path: /data2\n",
      "\u001b[34m\u001b[1mwandb\u001b[0m: \tdecay: 0.9988471085357804\n",
      "\u001b[34m\u001b[1mwandb\u001b[0m: \tdvs_clipping: True\n",
      "\u001b[34m\u001b[1mwandb\u001b[0m: \tdvs_duration: 100000\n",
      "\u001b[34m\u001b[1mwandb\u001b[0m: \tlearning_rate: 0.057271719812024134\n",
      "\u001b[34m\u001b[1mwandb\u001b[0m: \tno_reservoir: True\n",
      "\u001b[34m\u001b[1mwandb\u001b[0m: \tpre_spike_weight: 5.197743441989242\n",
      "\u001b[34m\u001b[1mwandb\u001b[0m: \trate_coding: True\n",
      "\u001b[34m\u001b[1mwandb\u001b[0m: \ttime_step: 8\n",
      "\u001b[34m\u001b[1mwandb\u001b[0m: \twhich_data: DVS_GESTURE\n",
      "Failed to detect the name of this notebook, you can set it manually with the WANDB_NOTEBOOK_NAME environment variable to enable code saving.\n"
     ]
    },
    {
     "data": {
      "text/html": [
       "Tracking run with wandb version 0.17.5"
      ],
      "text/plain": [
       "<IPython.core.display.HTML object>"
      ]
     },
     "metadata": {},
     "output_type": "display_data"
    },
    {
     "data": {
      "text/html": [
       "Run data is saved locally in <code>/nfs/home/bhkim003/github_folder/ByeonghyeonKim/my_snn/wandb/run-20240728_133548-y7s6rith</code>"
      ],
      "text/plain": [
       "<IPython.core.display.HTML object>"
      ]
     },
     "metadata": {},
     "output_type": "display_data"
    },
    {
     "data": {
      "text/html": [
       "Syncing run <strong><a href='https://wandb.ai/bhkim003-seoul-national-university/reservoir/runs/y7s6rith' target=\"_blank\">wild-sweep-77</a></strong> to <a href='https://wandb.ai/bhkim003-seoul-national-university/reservoir' target=\"_blank\">Weights & Biases</a> (<a href='https://wandb.me/run' target=\"_blank\">docs</a>)<br/>Sweep page: <a href='https://wandb.ai/bhkim003-seoul-national-university/reservoir/sweeps/sxt07a51' target=\"_blank\">https://wandb.ai/bhkim003-seoul-national-university/reservoir/sweeps/sxt07a51</a>"
      ],
      "text/plain": [
       "<IPython.core.display.HTML object>"
      ]
     },
     "metadata": {},
     "output_type": "display_data"
    },
    {
     "data": {
      "text/html": [
       " View project at <a href='https://wandb.ai/bhkim003-seoul-national-university/reservoir' target=\"_blank\">https://wandb.ai/bhkim003-seoul-national-university/reservoir</a>"
      ],
      "text/plain": [
       "<IPython.core.display.HTML object>"
      ]
     },
     "metadata": {},
     "output_type": "display_data"
    },
    {
     "data": {
      "text/html": [
       " View sweep at <a href='https://wandb.ai/bhkim003-seoul-national-university/reservoir/sweeps/sxt07a51' target=\"_blank\">https://wandb.ai/bhkim003-seoul-national-university/reservoir/sweeps/sxt07a51</a>"
      ],
      "text/plain": [
       "<IPython.core.display.HTML object>"
      ]
     },
     "metadata": {},
     "output_type": "display_data"
    },
    {
     "data": {
      "text/html": [
       " View run at <a href='https://wandb.ai/bhkim003-seoul-national-university/reservoir/runs/y7s6rith' target=\"_blank\">https://wandb.ai/bhkim003-seoul-national-university/reservoir/runs/y7s6rith</a>"
      ],
      "text/plain": [
       "<IPython.core.display.HTML object>"
      ]
     },
     "metadata": {},
     "output_type": "display_data"
    },
    {
     "name": "stderr",
     "output_type": "stream",
     "text": [
      "\u001b[34m\u001b[1mwandb\u001b[0m: \u001b[33mWARNING\u001b[0m Config item 'data_path' was locked by 'sweep' (ignored update).\n",
      "\u001b[34m\u001b[1mwandb\u001b[0m: \u001b[33mWARNING\u001b[0m Config item 'which_data' was locked by 'sweep' (ignored update).\n",
      "\u001b[34m\u001b[1mwandb\u001b[0m: \u001b[33mWARNING\u001b[0m Config item 'learning_rate' was locked by 'sweep' (ignored update).\n",
      "\u001b[34m\u001b[1mwandb\u001b[0m: \u001b[33mWARNING\u001b[0m Config item 'IMAGE_SIZE' was locked by 'sweep' (ignored update).\n",
      "\u001b[34m\u001b[1mwandb\u001b[0m: \u001b[33mWARNING\u001b[0m Config item 'EPOCH' was locked by 'sweep' (ignored update).\n",
      "\u001b[34m\u001b[1mwandb\u001b[0m: \u001b[33mWARNING\u001b[0m Config item 'rate_coding' was locked by 'sweep' (ignored update).\n",
      "\u001b[34m\u001b[1mwandb\u001b[0m: \u001b[33mWARNING\u001b[0m Config item 'pre_spike_weight' was locked by 'sweep' (ignored update).\n",
      "\u001b[34m\u001b[1mwandb\u001b[0m: \u001b[33mWARNING\u001b[0m Config item 'dvs_duration' was locked by 'sweep' (ignored update).\n",
      "\u001b[34m\u001b[1mwandb\u001b[0m: \u001b[33mWARNING\u001b[0m Config item 'dvs_clipping' was locked by 'sweep' (ignored update).\n",
      "\u001b[34m\u001b[1mwandb\u001b[0m: \u001b[33mWARNING\u001b[0m Config item 'no_reservoir' was locked by 'sweep' (ignored update).\n",
      "\u001b[34m\u001b[1mwandb\u001b[0m: \u001b[33mWARNING\u001b[0m Config item 'FC_RESERVOIR' was locked by 'sweep' (ignored update).\n"
     ]
    },
    {
     "name": "stdout",
     "output_type": "stream",
     "text": [
      "The directory [/data2/gesture/duration_100000] already exists.\n",
      "The directory [/data2/gesture/duration_100000] already exists.\n",
      "RESERVOIR_NET(\n",
      "  (classifier): Linear(in_features=32768, out_features=10, bias=True)\n",
      ")\n",
      "Epoch 1\n",
      "Train Accuracy: 36.92%\n",
      "Test loss: 6.471, Val Accuracy: 48.11%\n",
      "Epoch 2\n",
      "Train Accuracy: 63.17%\n",
      "Test loss: 3.959, Val Accuracy: 56.06%\n",
      "Epoch 3\n",
      "Train Accuracy: 74.30%\n",
      "Test loss: 3.080, Val Accuracy: 57.58%\n",
      "Epoch 4\n",
      "Train Accuracy: 81.45%\n",
      "Test loss: 3.638, Val Accuracy: 60.23%\n",
      "Epoch 5\n",
      "Train Accuracy: 91.37%\n",
      "Test loss: 1.501, Val Accuracy: 68.56%\n",
      "Epoch 6\n",
      "Train Accuracy: 94.53%\n",
      "Test loss: 1.207, Val Accuracy: 68.94%\n",
      "Epoch 7\n",
      "Train Accuracy: 97.96%\n",
      "Test loss: 2.520, Val Accuracy: 64.02%\n",
      "Epoch 8\n",
      "Train Accuracy: 98.98%\n",
      "Test loss: 1.441, Val Accuracy: 67.05%\n",
      "Epoch 9\n",
      "Train Accuracy: 99.72%\n",
      "Test loss: 1.880, Val Accuracy: 67.80%\n",
      "Epoch 10\n",
      "Train Accuracy: 99.81%\n",
      "Test loss: 1.450, Val Accuracy: 71.21%\n",
      "Epoch 11\n",
      "Train Accuracy: 100.00%\n",
      "Test loss: 1.445, Val Accuracy: 68.94%\n",
      "Epoch 12\n",
      "Train Accuracy: 100.00%\n",
      "Test loss: 1.898, Val Accuracy: 68.18%\n",
      "Epoch 13\n",
      "Train Accuracy: 100.00%\n",
      "Test loss: 1.520, Val Accuracy: 70.45%\n",
      "Epoch 14\n",
      "Train Accuracy: 100.00%\n",
      "Test loss: 1.541, Val Accuracy: 70.45%\n",
      "Epoch 15\n",
      "Train Accuracy: 100.00%\n",
      "Test loss: 1.617, Val Accuracy: 70.45%\n",
      "Epoch 16\n",
      "Train Accuracy: 100.00%\n",
      "Test loss: 1.626, Val Accuracy: 70.08%\n",
      "Epoch 17\n",
      "Train Accuracy: 100.00%\n",
      "Test loss: 1.584, Val Accuracy: 70.08%\n",
      "Epoch 18\n",
      "Train Accuracy: 100.00%\n",
      "Test loss: 1.633, Val Accuracy: 69.32%\n",
      "Epoch 19\n",
      "Train Accuracy: 100.00%\n",
      "Test loss: 1.659, Val Accuracy: 70.08%\n",
      "Epoch 20\n",
      "Train Accuracy: 100.00%\n",
      "Test loss: 1.649, Val Accuracy: 69.70%\n"
     ]
    },
    {
     "data": {
      "application/vnd.jupyter.widget-view+json": {
       "model_id": "6f105dd3411f4169b89603b4a9e7c1a0",
       "version_major": 2,
       "version_minor": 0
      },
      "text/plain": [
       "VBox(children=(Label(value='0.326 MB of 0.326 MB uploaded\\r'), FloatProgress(value=1.0, max=1.0)))"
      ]
     },
     "metadata": {},
     "output_type": "display_data"
    },
    {
     "data": {
      "text/html": [
       "<style>\n",
       "    table.wandb td:nth-child(1) { padding: 0 10px; text-align: left ; width: auto;} td:nth-child(2) {text-align: left ; width: 100%}\n",
       "    .wandb-row { display: flex; flex-direction: row; flex-wrap: wrap; justify-content: flex-start; width: 100% }\n",
       "    .wandb-col { display: flex; flex-direction: column; flex-basis: 100%; flex: 1; padding: 10px; }\n",
       "    </style>\n",
       "<div class=\"wandb-row\"><div class=\"wandb-col\"><h3>Run history:</h3><br/><table class=\"wandb\"><tr><td>epoch</td><td>▁▁▂▂▂▃▃▄▄▄▅▅▅▆▆▇▇▇██</td></tr><tr><td>iter_accuracy</td><td>▁▄▄▄▆▆▅▆▇▇██████████████████████████████</td></tr><tr><td>tr_accuracy</td><td>▁▄▅▆▇▇██████████████</td></tr><tr><td>val_accuracy</td><td>▁▃▄▅▇▇▆▇▇█▇▇█████▇██</td></tr></table><br/></div><div class=\"wandb-col\"><h3>Run summary:</h3><br/><table class=\"wandb\"><tr><td>epoch</td><td>19</td></tr><tr><td>iter_accuracy</td><td>100.0</td></tr><tr><td>tr_accuracy</td><td>100.0</td></tr><tr><td>val_accuracy</td><td>69.69697</td></tr></table><br/></div></div>"
      ],
      "text/plain": [
       "<IPython.core.display.HTML object>"
      ]
     },
     "metadata": {},
     "output_type": "display_data"
    },
    {
     "data": {
      "text/html": [
       " View run <strong style=\"color:#cdcd00\">wild-sweep-77</strong> at: <a href='https://wandb.ai/bhkim003-seoul-national-university/reservoir/runs/y7s6rith' target=\"_blank\">https://wandb.ai/bhkim003-seoul-national-university/reservoir/runs/y7s6rith</a><br/> View project at: <a href='https://wandb.ai/bhkim003-seoul-national-university/reservoir' target=\"_blank\">https://wandb.ai/bhkim003-seoul-national-university/reservoir</a><br/>Synced 7 W&B file(s), 0 media file(s), 0 artifact file(s) and 1 other file(s)"
      ],
      "text/plain": [
       "<IPython.core.display.HTML object>"
      ]
     },
     "metadata": {},
     "output_type": "display_data"
    },
    {
     "data": {
      "text/html": [
       "Find logs at: <code>./wandb/run-20240728_133548-y7s6rith/logs</code>"
      ],
      "text/plain": [
       "<IPython.core.display.HTML object>"
      ]
     },
     "metadata": {},
     "output_type": "display_data"
    },
    {
     "data": {
      "text/html": [
       "The new W&B backend becomes opt-out in version 0.18.0; try it out with `wandb.require(\"core\")`! See https://wandb.me/wandb-core for more information."
      ],
      "text/plain": [
       "<IPython.core.display.HTML object>"
      ]
     },
     "metadata": {},
     "output_type": "display_data"
    },
    {
     "name": "stderr",
     "output_type": "stream",
     "text": [
      "\u001b[34m\u001b[1mwandb\u001b[0m: Agent Starting Run: 85k8rqs6 with config:\n",
      "\u001b[34m\u001b[1mwandb\u001b[0m: \tEPOCH: 20\n",
      "\u001b[34m\u001b[1mwandb\u001b[0m: \tFC_RESERVOIR: True\n",
      "\u001b[34m\u001b[1mwandb\u001b[0m: \tIMAGE_SIZE: 16\n",
      "\u001b[34m\u001b[1mwandb\u001b[0m: \tbatch_size: 64\n",
      "\u001b[34m\u001b[1mwandb\u001b[0m: \tdata_path: /data2\n",
      "\u001b[34m\u001b[1mwandb\u001b[0m: \tdecay: 0.2920900852611026\n",
      "\u001b[34m\u001b[1mwandb\u001b[0m: \tdvs_clipping: True\n",
      "\u001b[34m\u001b[1mwandb\u001b[0m: \tdvs_duration: 100000\n",
      "\u001b[34m\u001b[1mwandb\u001b[0m: \tlearning_rate: 0.07730821142867425\n",
      "\u001b[34m\u001b[1mwandb\u001b[0m: \tno_reservoir: False\n",
      "\u001b[34m\u001b[1mwandb\u001b[0m: \tpre_spike_weight: 8.487334647582781\n",
      "\u001b[34m\u001b[1mwandb\u001b[0m: \trate_coding: True\n",
      "\u001b[34m\u001b[1mwandb\u001b[0m: \ttime_step: 8\n",
      "\u001b[34m\u001b[1mwandb\u001b[0m: \twhich_data: DVS_GESTURE\n",
      "Failed to detect the name of this notebook, you can set it manually with the WANDB_NOTEBOOK_NAME environment variable to enable code saving.\n"
     ]
    },
    {
     "data": {
      "text/html": [
       "Tracking run with wandb version 0.17.5"
      ],
      "text/plain": [
       "<IPython.core.display.HTML object>"
      ]
     },
     "metadata": {},
     "output_type": "display_data"
    },
    {
     "data": {
      "text/html": [
       "Run data is saved locally in <code>/nfs/home/bhkim003/github_folder/ByeonghyeonKim/my_snn/wandb/run-20240728_135526-85k8rqs6</code>"
      ],
      "text/plain": [
       "<IPython.core.display.HTML object>"
      ]
     },
     "metadata": {},
     "output_type": "display_data"
    },
    {
     "data": {
      "text/html": [
       "Syncing run <strong><a href='https://wandb.ai/bhkim003-seoul-national-university/reservoir/runs/85k8rqs6' target=\"_blank\">neat-sweep-78</a></strong> to <a href='https://wandb.ai/bhkim003-seoul-national-university/reservoir' target=\"_blank\">Weights & Biases</a> (<a href='https://wandb.me/run' target=\"_blank\">docs</a>)<br/>Sweep page: <a href='https://wandb.ai/bhkim003-seoul-national-university/reservoir/sweeps/sxt07a51' target=\"_blank\">https://wandb.ai/bhkim003-seoul-national-university/reservoir/sweeps/sxt07a51</a>"
      ],
      "text/plain": [
       "<IPython.core.display.HTML object>"
      ]
     },
     "metadata": {},
     "output_type": "display_data"
    },
    {
     "data": {
      "text/html": [
       " View project at <a href='https://wandb.ai/bhkim003-seoul-national-university/reservoir' target=\"_blank\">https://wandb.ai/bhkim003-seoul-national-university/reservoir</a>"
      ],
      "text/plain": [
       "<IPython.core.display.HTML object>"
      ]
     },
     "metadata": {},
     "output_type": "display_data"
    },
    {
     "data": {
      "text/html": [
       " View sweep at <a href='https://wandb.ai/bhkim003-seoul-national-university/reservoir/sweeps/sxt07a51' target=\"_blank\">https://wandb.ai/bhkim003-seoul-national-university/reservoir/sweeps/sxt07a51</a>"
      ],
      "text/plain": [
       "<IPython.core.display.HTML object>"
      ]
     },
     "metadata": {},
     "output_type": "display_data"
    },
    {
     "data": {
      "text/html": [
       " View run at <a href='https://wandb.ai/bhkim003-seoul-national-university/reservoir/runs/85k8rqs6' target=\"_blank\">https://wandb.ai/bhkim003-seoul-national-university/reservoir/runs/85k8rqs6</a>"
      ],
      "text/plain": [
       "<IPython.core.display.HTML object>"
      ]
     },
     "metadata": {},
     "output_type": "display_data"
    },
    {
     "name": "stderr",
     "output_type": "stream",
     "text": [
      "\u001b[34m\u001b[1mwandb\u001b[0m: \u001b[33mWARNING\u001b[0m Config item 'data_path' was locked by 'sweep' (ignored update).\n",
      "\u001b[34m\u001b[1mwandb\u001b[0m: \u001b[33mWARNING\u001b[0m Config item 'which_data' was locked by 'sweep' (ignored update).\n",
      "\u001b[34m\u001b[1mwandb\u001b[0m: \u001b[33mWARNING\u001b[0m Config item 'learning_rate' was locked by 'sweep' (ignored update).\n",
      "\u001b[34m\u001b[1mwandb\u001b[0m: \u001b[33mWARNING\u001b[0m Config item 'IMAGE_SIZE' was locked by 'sweep' (ignored update).\n",
      "\u001b[34m\u001b[1mwandb\u001b[0m: \u001b[33mWARNING\u001b[0m Config item 'EPOCH' was locked by 'sweep' (ignored update).\n",
      "\u001b[34m\u001b[1mwandb\u001b[0m: \u001b[33mWARNING\u001b[0m Config item 'rate_coding' was locked by 'sweep' (ignored update).\n",
      "\u001b[34m\u001b[1mwandb\u001b[0m: \u001b[33mWARNING\u001b[0m Config item 'pre_spike_weight' was locked by 'sweep' (ignored update).\n",
      "\u001b[34m\u001b[1mwandb\u001b[0m: \u001b[33mWARNING\u001b[0m Config item 'dvs_duration' was locked by 'sweep' (ignored update).\n",
      "\u001b[34m\u001b[1mwandb\u001b[0m: \u001b[33mWARNING\u001b[0m Config item 'dvs_clipping' was locked by 'sweep' (ignored update).\n",
      "\u001b[34m\u001b[1mwandb\u001b[0m: \u001b[33mWARNING\u001b[0m Config item 'no_reservoir' was locked by 'sweep' (ignored update).\n",
      "\u001b[34m\u001b[1mwandb\u001b[0m: \u001b[33mWARNING\u001b[0m Config item 'FC_RESERVOIR' was locked by 'sweep' (ignored update).\n"
     ]
    },
    {
     "name": "stdout",
     "output_type": "stream",
     "text": [
      "The directory [/data2/gesture/duration_100000] already exists.\n",
      "The directory [/data2/gesture/duration_100000] already exists.\n",
      "RESERVOIR_NET(\n",
      "  (reservoir): RESERVOIR(\n",
      "    (reservoir): Linear(in_features=512, out_features=512, bias=True)\n",
      "  )\n",
      "  (classifier): Linear(in_features=512, out_features=10, bias=True)\n",
      ")\n",
      "Epoch 1\n",
      "Train Accuracy: 32.19%\n",
      "Test loss: 1.689, Val Accuracy: 43.18%\n",
      "Epoch 2\n",
      "Train Accuracy: 55.75%\n",
      "Test loss: 1.333, Val Accuracy: 52.65%\n",
      "Epoch 3\n",
      "Train Accuracy: 67.81%\n",
      "Test loss: 1.230, Val Accuracy: 56.82%\n",
      "Epoch 4\n",
      "Train Accuracy: 72.91%\n",
      "Test loss: 1.203, Val Accuracy: 60.98%\n",
      "Epoch 5\n",
      "Train Accuracy: 72.82%\n",
      "Test loss: 1.087, Val Accuracy: 59.47%\n",
      "Epoch 6\n",
      "Train Accuracy: 76.16%\n",
      "Test loss: 1.107, Val Accuracy: 61.74%\n",
      "Epoch 7\n",
      "Train Accuracy: 79.87%\n",
      "Test loss: 1.151, Val Accuracy: 59.47%\n",
      "Epoch 8\n",
      "Train Accuracy: 81.45%\n",
      "Test loss: 1.138, Val Accuracy: 62.50%\n",
      "Epoch 9\n",
      "Train Accuracy: 86.27%\n",
      "Test loss: 1.107, Val Accuracy: 62.88%\n",
      "Epoch 10\n",
      "Train Accuracy: 84.04%\n",
      "Test loss: 1.082, Val Accuracy: 60.98%\n",
      "Epoch 11\n",
      "Train Accuracy: 86.73%\n",
      "Test loss: 1.123, Val Accuracy: 59.85%\n",
      "Epoch 12\n",
      "Train Accuracy: 87.48%\n",
      "Test loss: 1.135, Val Accuracy: 59.09%\n",
      "Epoch 13\n",
      "Train Accuracy: 88.31%\n",
      "Test loss: 1.212, Val Accuracy: 64.02%\n",
      "Epoch 14\n",
      "Train Accuracy: 89.52%\n",
      "Test loss: 1.254, Val Accuracy: 58.33%\n",
      "Epoch 15\n",
      "Train Accuracy: 90.63%\n",
      "Test loss: 1.070, Val Accuracy: 62.12%\n",
      "Epoch 16\n",
      "Train Accuracy: 90.26%\n",
      "Test loss: 1.121, Val Accuracy: 63.26%\n",
      "Epoch 17\n",
      "Train Accuracy: 92.12%\n",
      "Test loss: 1.125, Val Accuracy: 59.47%\n",
      "Epoch 18\n",
      "Train Accuracy: 91.65%\n",
      "Test loss: 1.189, Val Accuracy: 62.12%\n",
      "Epoch 19\n",
      "Train Accuracy: 93.14%\n",
      "Test loss: 1.201, Val Accuracy: 59.85%\n",
      "Epoch 20\n",
      "Train Accuracy: 93.32%\n",
      "Test loss: 1.174, Val Accuracy: 59.85%\n"
     ]
    },
    {
     "data": {
      "application/vnd.jupyter.widget-view+json": {
       "model_id": "3fe6464da9e64c22b08aa741731b466a",
       "version_major": 2,
       "version_minor": 0
      },
      "text/plain": [
       "VBox(children=(Label(value='0.326 MB of 0.326 MB uploaded\\r'), FloatProgress(value=1.0, max=1.0)))"
      ]
     },
     "metadata": {},
     "output_type": "display_data"
    },
    {
     "data": {
      "text/html": [
       "<style>\n",
       "    table.wandb td:nth-child(1) { padding: 0 10px; text-align: left ; width: auto;} td:nth-child(2) {text-align: left ; width: 100%}\n",
       "    .wandb-row { display: flex; flex-direction: row; flex-wrap: wrap; justify-content: flex-start; width: 100% }\n",
       "    .wandb-col { display: flex; flex-direction: column; flex-basis: 100%; flex: 1; padding: 10px; }\n",
       "    </style>\n",
       "<div class=\"wandb-row\"><div class=\"wandb-col\"><h3>Run history:</h3><br/><table class=\"wandb\"><tr><td>epoch</td><td>▁▁▂▂▂▃▃▄▄▄▅▅▅▆▆▇▇▇██</td></tr><tr><td>iter_accuracy</td><td>▁▃▄▅▆▆▇▆▆▆▆▆▇▆▇▇▆▆▆▆▆▇▇▇▇▇▇▇█▇▇▇▇▇█▇▇██▇</td></tr><tr><td>tr_accuracy</td><td>▁▄▅▆▆▆▆▇▇▇▇▇▇███████</td></tr><tr><td>val_accuracy</td><td>▁▄▆▇▆▇▆▇█▇▇▆█▆▇█▆▇▇▇</td></tr></table><br/></div><div class=\"wandb-col\"><h3>Run summary:</h3><br/><table class=\"wandb\"><tr><td>epoch</td><td>19</td></tr><tr><td>iter_accuracy</td><td>90.74074</td></tr><tr><td>tr_accuracy</td><td>93.32096</td></tr><tr><td>val_accuracy</td><td>59.84848</td></tr></table><br/></div></div>"
      ],
      "text/plain": [
       "<IPython.core.display.HTML object>"
      ]
     },
     "metadata": {},
     "output_type": "display_data"
    },
    {
     "data": {
      "text/html": [
       " View run <strong style=\"color:#cdcd00\">neat-sweep-78</strong> at: <a href='https://wandb.ai/bhkim003-seoul-national-university/reservoir/runs/85k8rqs6' target=\"_blank\">https://wandb.ai/bhkim003-seoul-national-university/reservoir/runs/85k8rqs6</a><br/> View project at: <a href='https://wandb.ai/bhkim003-seoul-national-university/reservoir' target=\"_blank\">https://wandb.ai/bhkim003-seoul-national-university/reservoir</a><br/>Synced 7 W&B file(s), 0 media file(s), 0 artifact file(s) and 1 other file(s)"
      ],
      "text/plain": [
       "<IPython.core.display.HTML object>"
      ]
     },
     "metadata": {},
     "output_type": "display_data"
    },
    {
     "data": {
      "text/html": [
       "Find logs at: <code>./wandb/run-20240728_135526-85k8rqs6/logs</code>"
      ],
      "text/plain": [
       "<IPython.core.display.HTML object>"
      ]
     },
     "metadata": {},
     "output_type": "display_data"
    },
    {
     "data": {
      "text/html": [
       "The new W&B backend becomes opt-out in version 0.18.0; try it out with `wandb.require(\"core\")`! See https://wandb.me/wandb-core for more information."
      ],
      "text/plain": [
       "<IPython.core.display.HTML object>"
      ]
     },
     "metadata": {},
     "output_type": "display_data"
    },
    {
     "name": "stderr",
     "output_type": "stream",
     "text": [
      "\u001b[34m\u001b[1mwandb\u001b[0m: Agent Starting Run: kbfaefsw with config:\n",
      "\u001b[34m\u001b[1mwandb\u001b[0m: \tEPOCH: 20\n",
      "\u001b[34m\u001b[1mwandb\u001b[0m: \tFC_RESERVOIR: True\n",
      "\u001b[34m\u001b[1mwandb\u001b[0m: \tIMAGE_SIZE: 48\n",
      "\u001b[34m\u001b[1mwandb\u001b[0m: \tbatch_size: 64\n",
      "\u001b[34m\u001b[1mwandb\u001b[0m: \tdata_path: /data2\n",
      "\u001b[34m\u001b[1mwandb\u001b[0m: \tdecay: 0.6301406585939362\n",
      "\u001b[34m\u001b[1mwandb\u001b[0m: \tdvs_clipping: True\n",
      "\u001b[34m\u001b[1mwandb\u001b[0m: \tdvs_duration: 100000\n",
      "\u001b[34m\u001b[1mwandb\u001b[0m: \tlearning_rate: 0.007993608266962634\n",
      "\u001b[34m\u001b[1mwandb\u001b[0m: \tno_reservoir: False\n",
      "\u001b[34m\u001b[1mwandb\u001b[0m: \tpre_spike_weight: 9.565202487058537\n",
      "\u001b[34m\u001b[1mwandb\u001b[0m: \trate_coding: True\n",
      "\u001b[34m\u001b[1mwandb\u001b[0m: \ttime_step: 4\n",
      "\u001b[34m\u001b[1mwandb\u001b[0m: \twhich_data: DVS_GESTURE\n",
      "Failed to detect the name of this notebook, you can set it manually with the WANDB_NOTEBOOK_NAME environment variable to enable code saving.\n"
     ]
    },
    {
     "data": {
      "text/html": [
       "Tracking run with wandb version 0.17.5"
      ],
      "text/plain": [
       "<IPython.core.display.HTML object>"
      ]
     },
     "metadata": {},
     "output_type": "display_data"
    },
    {
     "data": {
      "text/html": [
       "Run data is saved locally in <code>/nfs/home/bhkim003/github_folder/ByeonghyeonKim/my_snn/wandb/run-20240728_140845-kbfaefsw</code>"
      ],
      "text/plain": [
       "<IPython.core.display.HTML object>"
      ]
     },
     "metadata": {},
     "output_type": "display_data"
    },
    {
     "data": {
      "text/html": [
       "Syncing run <strong><a href='https://wandb.ai/bhkim003-seoul-national-university/reservoir/runs/kbfaefsw' target=\"_blank\">helpful-sweep-79</a></strong> to <a href='https://wandb.ai/bhkim003-seoul-national-university/reservoir' target=\"_blank\">Weights & Biases</a> (<a href='https://wandb.me/run' target=\"_blank\">docs</a>)<br/>Sweep page: <a href='https://wandb.ai/bhkim003-seoul-national-university/reservoir/sweeps/sxt07a51' target=\"_blank\">https://wandb.ai/bhkim003-seoul-national-university/reservoir/sweeps/sxt07a51</a>"
      ],
      "text/plain": [
       "<IPython.core.display.HTML object>"
      ]
     },
     "metadata": {},
     "output_type": "display_data"
    },
    {
     "data": {
      "text/html": [
       " View project at <a href='https://wandb.ai/bhkim003-seoul-national-university/reservoir' target=\"_blank\">https://wandb.ai/bhkim003-seoul-national-university/reservoir</a>"
      ],
      "text/plain": [
       "<IPython.core.display.HTML object>"
      ]
     },
     "metadata": {},
     "output_type": "display_data"
    },
    {
     "data": {
      "text/html": [
       " View sweep at <a href='https://wandb.ai/bhkim003-seoul-national-university/reservoir/sweeps/sxt07a51' target=\"_blank\">https://wandb.ai/bhkim003-seoul-national-university/reservoir/sweeps/sxt07a51</a>"
      ],
      "text/plain": [
       "<IPython.core.display.HTML object>"
      ]
     },
     "metadata": {},
     "output_type": "display_data"
    },
    {
     "data": {
      "text/html": [
       " View run at <a href='https://wandb.ai/bhkim003-seoul-national-university/reservoir/runs/kbfaefsw' target=\"_blank\">https://wandb.ai/bhkim003-seoul-national-university/reservoir/runs/kbfaefsw</a>"
      ],
      "text/plain": [
       "<IPython.core.display.HTML object>"
      ]
     },
     "metadata": {},
     "output_type": "display_data"
    },
    {
     "name": "stderr",
     "output_type": "stream",
     "text": [
      "\u001b[34m\u001b[1mwandb\u001b[0m: \u001b[33mWARNING\u001b[0m Config item 'data_path' was locked by 'sweep' (ignored update).\n",
      "\u001b[34m\u001b[1mwandb\u001b[0m: \u001b[33mWARNING\u001b[0m Config item 'which_data' was locked by 'sweep' (ignored update).\n",
      "\u001b[34m\u001b[1mwandb\u001b[0m: \u001b[33mWARNING\u001b[0m Config item 'learning_rate' was locked by 'sweep' (ignored update).\n",
      "\u001b[34m\u001b[1mwandb\u001b[0m: \u001b[33mWARNING\u001b[0m Config item 'IMAGE_SIZE' was locked by 'sweep' (ignored update).\n",
      "\u001b[34m\u001b[1mwandb\u001b[0m: \u001b[33mWARNING\u001b[0m Config item 'EPOCH' was locked by 'sweep' (ignored update).\n",
      "\u001b[34m\u001b[1mwandb\u001b[0m: \u001b[33mWARNING\u001b[0m Config item 'rate_coding' was locked by 'sweep' (ignored update).\n",
      "\u001b[34m\u001b[1mwandb\u001b[0m: \u001b[33mWARNING\u001b[0m Config item 'pre_spike_weight' was locked by 'sweep' (ignored update).\n",
      "\u001b[34m\u001b[1mwandb\u001b[0m: \u001b[33mWARNING\u001b[0m Config item 'dvs_duration' was locked by 'sweep' (ignored update).\n",
      "\u001b[34m\u001b[1mwandb\u001b[0m: \u001b[33mWARNING\u001b[0m Config item 'dvs_clipping' was locked by 'sweep' (ignored update).\n",
      "\u001b[34m\u001b[1mwandb\u001b[0m: \u001b[33mWARNING\u001b[0m Config item 'no_reservoir' was locked by 'sweep' (ignored update).\n",
      "\u001b[34m\u001b[1mwandb\u001b[0m: \u001b[33mWARNING\u001b[0m Config item 'FC_RESERVOIR' was locked by 'sweep' (ignored update).\n"
     ]
    },
    {
     "name": "stdout",
     "output_type": "stream",
     "text": [
      "The directory [/data2/gesture/duration_100000] already exists.\n",
      "The directory [/data2/gesture/duration_100000] already exists.\n",
      "RESERVOIR_NET(\n",
      "  (reservoir): RESERVOIR(\n",
      "    (reservoir): Linear(in_features=4608, out_features=4608, bias=True)\n",
      "  )\n",
      "  (classifier): Linear(in_features=4608, out_features=10, bias=True)\n",
      ")\n",
      "Epoch 1\n",
      "Train Accuracy: 32.00%\n",
      "Test loss: 1.608, Val Accuracy: 40.91%\n",
      "Epoch 2\n",
      "Train Accuracy: 54.36%\n",
      "Test loss: 1.531, Val Accuracy: 48.86%\n",
      "Epoch 3\n",
      "Train Accuracy: 67.35%\n",
      "Test loss: 1.284, Val Accuracy: 50.76%\n",
      "Epoch 4\n",
      "Train Accuracy: 77.64%\n",
      "Test loss: 1.169, Val Accuracy: 56.44%\n",
      "Epoch 5\n",
      "Train Accuracy: 82.47%\n",
      "Test loss: 1.277, Val Accuracy: 55.68%\n",
      "Epoch 6\n",
      "Train Accuracy: 85.71%\n",
      "Test loss: 1.271, Val Accuracy: 54.55%\n",
      "Epoch 7\n",
      "Train Accuracy: 89.61%\n",
      "Test loss: 1.138, Val Accuracy: 60.61%\n",
      "Epoch 8\n",
      "Train Accuracy: 93.88%\n",
      "Test loss: 1.153, Val Accuracy: 56.82%\n",
      "Epoch 9\n",
      "Train Accuracy: 94.62%\n",
      "Test loss: 1.201, Val Accuracy: 61.74%\n",
      "Epoch 10\n",
      "Train Accuracy: 95.92%\n",
      "Test loss: 1.173, Val Accuracy: 61.36%\n",
      "Epoch 11\n",
      "Train Accuracy: 96.47%\n",
      "Test loss: 1.201, Val Accuracy: 62.88%\n",
      "Epoch 12\n",
      "Train Accuracy: 97.50%\n",
      "Test loss: 1.171, Val Accuracy: 60.98%\n",
      "Epoch 13\n",
      "Train Accuracy: 97.68%\n",
      "Test loss: 1.222, Val Accuracy: 60.98%\n",
      "Epoch 14\n",
      "Train Accuracy: 98.24%\n",
      "Test loss: 1.166, Val Accuracy: 60.61%\n",
      "Epoch 15\n",
      "Train Accuracy: 98.24%\n",
      "Test loss: 1.206, Val Accuracy: 59.47%\n",
      "Epoch 16\n",
      "Train Accuracy: 98.52%\n",
      "Test loss: 1.146, Val Accuracy: 59.85%\n",
      "Epoch 17\n",
      "Train Accuracy: 98.98%\n",
      "Test loss: 1.176, Val Accuracy: 59.09%\n",
      "Epoch 18\n",
      "Train Accuracy: 99.26%\n",
      "Test loss: 1.121, Val Accuracy: 58.71%\n",
      "Epoch 19\n",
      "Train Accuracy: 99.35%\n",
      "Test loss: 1.149, Val Accuracy: 61.36%\n",
      "Epoch 20\n",
      "Train Accuracy: 99.44%\n",
      "Test loss: 1.196, Val Accuracy: 60.98%\n"
     ]
    },
    {
     "data": {
      "application/vnd.jupyter.widget-view+json": {
       "model_id": "0932e014a8554305ac4d4e5540e11871",
       "version_major": 2,
       "version_minor": 0
      },
      "text/plain": [
       "VBox(children=(Label(value='0.326 MB of 0.326 MB uploaded\\r'), FloatProgress(value=1.0, max=1.0)))"
      ]
     },
     "metadata": {},
     "output_type": "display_data"
    },
    {
     "data": {
      "text/html": [
       "<style>\n",
       "    table.wandb td:nth-child(1) { padding: 0 10px; text-align: left ; width: auto;} td:nth-child(2) {text-align: left ; width: 100%}\n",
       "    .wandb-row { display: flex; flex-direction: row; flex-wrap: wrap; justify-content: flex-start; width: 100% }\n",
       "    .wandb-col { display: flex; flex-direction: column; flex-basis: 100%; flex: 1; padding: 10px; }\n",
       "    </style>\n",
       "<div class=\"wandb-row\"><div class=\"wandb-col\"><h3>Run history:</h3><br/><table class=\"wandb\"><tr><td>epoch</td><td>▁▁▂▂▂▃▃▄▄▄▅▅▅▆▆▇▇▇██</td></tr><tr><td>iter_accuracy</td><td>▁▃▃▃▄▄▆▆▆▇▇▆▇▇▇▇▇███████████████████████</td></tr><tr><td>tr_accuracy</td><td>▁▃▅▆▆▇▇▇▇███████████</td></tr><tr><td>val_accuracy</td><td>▁▄▄▆▆▅▇▆███▇▇▇▇▇▇▇█▇</td></tr></table><br/></div><div class=\"wandb-col\"><h3>Run summary:</h3><br/><table class=\"wandb\"><tr><td>epoch</td><td>19</td></tr><tr><td>iter_accuracy</td><td>98.14815</td></tr><tr><td>tr_accuracy</td><td>99.44341</td></tr><tr><td>val_accuracy</td><td>60.98485</td></tr></table><br/></div></div>"
      ],
      "text/plain": [
       "<IPython.core.display.HTML object>"
      ]
     },
     "metadata": {},
     "output_type": "display_data"
    },
    {
     "data": {
      "text/html": [
       " View run <strong style=\"color:#cdcd00\">helpful-sweep-79</strong> at: <a href='https://wandb.ai/bhkim003-seoul-national-university/reservoir/runs/kbfaefsw' target=\"_blank\">https://wandb.ai/bhkim003-seoul-national-university/reservoir/runs/kbfaefsw</a><br/> View project at: <a href='https://wandb.ai/bhkim003-seoul-national-university/reservoir' target=\"_blank\">https://wandb.ai/bhkim003-seoul-national-university/reservoir</a><br/>Synced 7 W&B file(s), 0 media file(s), 0 artifact file(s) and 1 other file(s)"
      ],
      "text/plain": [
       "<IPython.core.display.HTML object>"
      ]
     },
     "metadata": {},
     "output_type": "display_data"
    },
    {
     "data": {
      "text/html": [
       "Find logs at: <code>./wandb/run-20240728_140845-kbfaefsw/logs</code>"
      ],
      "text/plain": [
       "<IPython.core.display.HTML object>"
      ]
     },
     "metadata": {},
     "output_type": "display_data"
    },
    {
     "data": {
      "text/html": [
       "The new W&B backend becomes opt-out in version 0.18.0; try it out with `wandb.require(\"core\")`! See https://wandb.me/wandb-core for more information."
      ],
      "text/plain": [
       "<IPython.core.display.HTML object>"
      ]
     },
     "metadata": {},
     "output_type": "display_data"
    },
    {
     "name": "stderr",
     "output_type": "stream",
     "text": [
      "\u001b[34m\u001b[1mwandb\u001b[0m: Agent Starting Run: rfhlrj88 with config:\n",
      "\u001b[34m\u001b[1mwandb\u001b[0m: \tEPOCH: 20\n",
      "\u001b[34m\u001b[1mwandb\u001b[0m: \tFC_RESERVOIR: True\n",
      "\u001b[34m\u001b[1mwandb\u001b[0m: \tIMAGE_SIZE: 48\n",
      "\u001b[34m\u001b[1mwandb\u001b[0m: \tbatch_size: 16\n",
      "\u001b[34m\u001b[1mwandb\u001b[0m: \tdata_path: /data2\n",
      "\u001b[34m\u001b[1mwandb\u001b[0m: \tdecay: 0.41620915495703\n",
      "\u001b[34m\u001b[1mwandb\u001b[0m: \tdvs_clipping: True\n",
      "\u001b[34m\u001b[1mwandb\u001b[0m: \tdvs_duration: 100000\n",
      "\u001b[34m\u001b[1mwandb\u001b[0m: \tlearning_rate: 0.06061104549147829\n",
      "\u001b[34m\u001b[1mwandb\u001b[0m: \tno_reservoir: False\n",
      "\u001b[34m\u001b[1mwandb\u001b[0m: \tpre_spike_weight: 8.642739671623223\n",
      "\u001b[34m\u001b[1mwandb\u001b[0m: \trate_coding: True\n",
      "\u001b[34m\u001b[1mwandb\u001b[0m: \ttime_step: 6\n",
      "\u001b[34m\u001b[1mwandb\u001b[0m: \twhich_data: DVS_GESTURE\n",
      "Failed to detect the name of this notebook, you can set it manually with the WANDB_NOTEBOOK_NAME environment variable to enable code saving.\n"
     ]
    },
    {
     "data": {
      "text/html": [
       "Tracking run with wandb version 0.17.5"
      ],
      "text/plain": [
       "<IPython.core.display.HTML object>"
      ]
     },
     "metadata": {},
     "output_type": "display_data"
    },
    {
     "data": {
      "text/html": [
       "Run data is saved locally in <code>/nfs/home/bhkim003/github_folder/ByeonghyeonKim/my_snn/wandb/run-20240728_142316-rfhlrj88</code>"
      ],
      "text/plain": [
       "<IPython.core.display.HTML object>"
      ]
     },
     "metadata": {},
     "output_type": "display_data"
    },
    {
     "data": {
      "text/html": [
       "Syncing run <strong><a href='https://wandb.ai/bhkim003-seoul-national-university/reservoir/runs/rfhlrj88' target=\"_blank\">winter-sweep-80</a></strong> to <a href='https://wandb.ai/bhkim003-seoul-national-university/reservoir' target=\"_blank\">Weights & Biases</a> (<a href='https://wandb.me/run' target=\"_blank\">docs</a>)<br/>Sweep page: <a href='https://wandb.ai/bhkim003-seoul-national-university/reservoir/sweeps/sxt07a51' target=\"_blank\">https://wandb.ai/bhkim003-seoul-national-university/reservoir/sweeps/sxt07a51</a>"
      ],
      "text/plain": [
       "<IPython.core.display.HTML object>"
      ]
     },
     "metadata": {},
     "output_type": "display_data"
    },
    {
     "data": {
      "text/html": [
       " View project at <a href='https://wandb.ai/bhkim003-seoul-national-university/reservoir' target=\"_blank\">https://wandb.ai/bhkim003-seoul-national-university/reservoir</a>"
      ],
      "text/plain": [
       "<IPython.core.display.HTML object>"
      ]
     },
     "metadata": {},
     "output_type": "display_data"
    },
    {
     "data": {
      "text/html": [
       " View sweep at <a href='https://wandb.ai/bhkim003-seoul-national-university/reservoir/sweeps/sxt07a51' target=\"_blank\">https://wandb.ai/bhkim003-seoul-national-university/reservoir/sweeps/sxt07a51</a>"
      ],
      "text/plain": [
       "<IPython.core.display.HTML object>"
      ]
     },
     "metadata": {},
     "output_type": "display_data"
    },
    {
     "data": {
      "text/html": [
       " View run at <a href='https://wandb.ai/bhkim003-seoul-national-university/reservoir/runs/rfhlrj88' target=\"_blank\">https://wandb.ai/bhkim003-seoul-national-university/reservoir/runs/rfhlrj88</a>"
      ],
      "text/plain": [
       "<IPython.core.display.HTML object>"
      ]
     },
     "metadata": {},
     "output_type": "display_data"
    },
    {
     "name": "stderr",
     "output_type": "stream",
     "text": [
      "\u001b[34m\u001b[1mwandb\u001b[0m: \u001b[33mWARNING\u001b[0m Config item 'data_path' was locked by 'sweep' (ignored update).\n",
      "\u001b[34m\u001b[1mwandb\u001b[0m: \u001b[33mWARNING\u001b[0m Config item 'which_data' was locked by 'sweep' (ignored update).\n",
      "\u001b[34m\u001b[1mwandb\u001b[0m: \u001b[33mWARNING\u001b[0m Config item 'learning_rate' was locked by 'sweep' (ignored update).\n",
      "\u001b[34m\u001b[1mwandb\u001b[0m: \u001b[33mWARNING\u001b[0m Config item 'IMAGE_SIZE' was locked by 'sweep' (ignored update).\n",
      "\u001b[34m\u001b[1mwandb\u001b[0m: \u001b[33mWARNING\u001b[0m Config item 'EPOCH' was locked by 'sweep' (ignored update).\n",
      "\u001b[34m\u001b[1mwandb\u001b[0m: \u001b[33mWARNING\u001b[0m Config item 'rate_coding' was locked by 'sweep' (ignored update).\n",
      "\u001b[34m\u001b[1mwandb\u001b[0m: \u001b[33mWARNING\u001b[0m Config item 'pre_spike_weight' was locked by 'sweep' (ignored update).\n",
      "\u001b[34m\u001b[1mwandb\u001b[0m: \u001b[33mWARNING\u001b[0m Config item 'dvs_duration' was locked by 'sweep' (ignored update).\n",
      "\u001b[34m\u001b[1mwandb\u001b[0m: \u001b[33mWARNING\u001b[0m Config item 'dvs_clipping' was locked by 'sweep' (ignored update).\n",
      "\u001b[34m\u001b[1mwandb\u001b[0m: \u001b[33mWARNING\u001b[0m Config item 'no_reservoir' was locked by 'sweep' (ignored update).\n",
      "\u001b[34m\u001b[1mwandb\u001b[0m: \u001b[33mWARNING\u001b[0m Config item 'FC_RESERVOIR' was locked by 'sweep' (ignored update).\n"
     ]
    },
    {
     "name": "stdout",
     "output_type": "stream",
     "text": [
      "The directory [/data2/gesture/duration_100000] already exists.\n",
      "The directory [/data2/gesture/duration_100000] already exists.\n",
      "RESERVOIR_NET(\n",
      "  (reservoir): RESERVOIR(\n",
      "    (reservoir): Linear(in_features=4608, out_features=4608, bias=True)\n",
      "  )\n",
      "  (classifier): Linear(in_features=4608, out_features=10, bias=True)\n",
      ")\n",
      "Epoch 1\n",
      "Train Accuracy: 38.50%\n",
      "Test loss: 7.190, Val Accuracy: 48.11%\n",
      "Epoch 2\n",
      "Train Accuracy: 66.88%\n",
      "Test loss: 6.384, Val Accuracy: 45.83%\n",
      "Epoch 3\n",
      "Train Accuracy: 74.95%\n",
      "Test loss: 5.085, Val Accuracy: 54.17%\n",
      "Epoch 4\n",
      "Train Accuracy: 84.42%\n",
      "Test loss: 6.203, Val Accuracy: 51.52%\n",
      "Epoch 5\n",
      "Train Accuracy: 91.28%\n",
      "Test loss: 3.121, Val Accuracy: 65.91%\n",
      "Epoch 6\n",
      "Train Accuracy: 97.40%\n",
      "Test loss: 2.404, Val Accuracy: 62.50%\n",
      "Epoch 7\n",
      "Train Accuracy: 97.22%\n",
      "Test loss: 3.014, Val Accuracy: 62.12%\n",
      "Epoch 8\n",
      "Train Accuracy: 97.68%\n",
      "Test loss: 2.294, Val Accuracy: 64.77%\n",
      "Epoch 9\n",
      "Train Accuracy: 98.98%\n",
      "Test loss: 2.679, Val Accuracy: 65.91%\n",
      "Epoch 10\n",
      "Train Accuracy: 100.00%\n",
      "Test loss: 2.602, Val Accuracy: 65.53%\n",
      "Epoch 11\n",
      "Train Accuracy: 100.00%\n",
      "Test loss: 2.406, Val Accuracy: 66.29%\n",
      "Epoch 12\n",
      "Train Accuracy: 100.00%\n",
      "Test loss: 2.383, Val Accuracy: 65.91%\n",
      "Epoch 13\n",
      "Train Accuracy: 100.00%\n",
      "Test loss: 2.379, Val Accuracy: 66.29%\n",
      "Epoch 14\n",
      "Train Accuracy: 100.00%\n",
      "Test loss: 2.367, Val Accuracy: 66.29%\n",
      "Epoch 15\n",
      "Train Accuracy: 100.00%\n",
      "Test loss: 2.360, Val Accuracy: 67.05%\n",
      "Epoch 16\n",
      "Train Accuracy: 100.00%\n",
      "Test loss: 2.352, Val Accuracy: 66.29%\n",
      "Epoch 17\n",
      "Train Accuracy: 100.00%\n",
      "Test loss: 2.349, Val Accuracy: 66.29%\n",
      "Epoch 18\n",
      "Train Accuracy: 100.00%\n",
      "Test loss: 2.346, Val Accuracy: 66.29%\n",
      "Epoch 19\n",
      "Train Accuracy: 100.00%\n",
      "Test loss: 2.340, Val Accuracy: 66.67%\n",
      "Epoch 20\n",
      "Train Accuracy: 100.00%\n",
      "Test loss: 2.339, Val Accuracy: 66.67%\n"
     ]
    },
    {
     "data": {
      "application/vnd.jupyter.widget-view+json": {
       "model_id": "ed6b0b606f0f4a19921529101589fc31",
       "version_major": 2,
       "version_minor": 0
      },
      "text/plain": [
       "VBox(children=(Label(value='0.326 MB of 0.326 MB uploaded\\r'), FloatProgress(value=1.0, max=1.0)))"
      ]
     },
     "metadata": {},
     "output_type": "display_data"
    },
    {
     "data": {
      "text/html": [
       "<style>\n",
       "    table.wandb td:nth-child(1) { padding: 0 10px; text-align: left ; width: auto;} td:nth-child(2) {text-align: left ; width: 100%}\n",
       "    .wandb-row { display: flex; flex-direction: row; flex-wrap: wrap; justify-content: flex-start; width: 100% }\n",
       "    .wandb-col { display: flex; flex-direction: column; flex-basis: 100%; flex: 1; padding: 10px; }\n",
       "    </style>\n",
       "<div class=\"wandb-row\"><div class=\"wandb-col\"><h3>Run history:</h3><br/><table class=\"wandb\"><tr><td>epoch</td><td>▁▁▂▂▂▃▃▄▄▄▅▅▅▆▆▇▇▇██</td></tr><tr><td>iter_accuracy</td><td>▁▄▅▄▇▇▆▇▇▇▇██▇▇▇████████████████████████</td></tr><tr><td>tr_accuracy</td><td>▁▄▅▆▇███████████████</td></tr><tr><td>val_accuracy</td><td>▂▁▄▃█▆▆▇█▇██████████</td></tr></table><br/></div><div class=\"wandb-col\"><h3>Run summary:</h3><br/><table class=\"wandb\"><tr><td>epoch</td><td>19</td></tr><tr><td>iter_accuracy</td><td>100.0</td></tr><tr><td>tr_accuracy</td><td>100.0</td></tr><tr><td>val_accuracy</td><td>66.66667</td></tr></table><br/></div></div>"
      ],
      "text/plain": [
       "<IPython.core.display.HTML object>"
      ]
     },
     "metadata": {},
     "output_type": "display_data"
    },
    {
     "data": {
      "text/html": [
       " View run <strong style=\"color:#cdcd00\">winter-sweep-80</strong> at: <a href='https://wandb.ai/bhkim003-seoul-national-university/reservoir/runs/rfhlrj88' target=\"_blank\">https://wandb.ai/bhkim003-seoul-national-university/reservoir/runs/rfhlrj88</a><br/> View project at: <a href='https://wandb.ai/bhkim003-seoul-national-university/reservoir' target=\"_blank\">https://wandb.ai/bhkim003-seoul-national-university/reservoir</a><br/>Synced 7 W&B file(s), 0 media file(s), 0 artifact file(s) and 1 other file(s)"
      ],
      "text/plain": [
       "<IPython.core.display.HTML object>"
      ]
     },
     "metadata": {},
     "output_type": "display_data"
    },
    {
     "data": {
      "text/html": [
       "Find logs at: <code>./wandb/run-20240728_142316-rfhlrj88/logs</code>"
      ],
      "text/plain": [
       "<IPython.core.display.HTML object>"
      ]
     },
     "metadata": {},
     "output_type": "display_data"
    },
    {
     "data": {
      "text/html": [
       "The new W&B backend becomes opt-out in version 0.18.0; try it out with `wandb.require(\"core\")`! See https://wandb.me/wandb-core for more information."
      ],
      "text/plain": [
       "<IPython.core.display.HTML object>"
      ]
     },
     "metadata": {},
     "output_type": "display_data"
    },
    {
     "name": "stderr",
     "output_type": "stream",
     "text": [
      "\u001b[34m\u001b[1mwandb\u001b[0m: Sweep Agent: Waiting for job.\n",
      "\u001b[34m\u001b[1mwandb\u001b[0m: Job received.\n",
      "\u001b[34m\u001b[1mwandb\u001b[0m: Agent Starting Run: w2g8wzu5 with config:\n",
      "\u001b[34m\u001b[1mwandb\u001b[0m: \tEPOCH: 20\n",
      "\u001b[34m\u001b[1mwandb\u001b[0m: \tFC_RESERVOIR: True\n",
      "\u001b[34m\u001b[1mwandb\u001b[0m: \tIMAGE_SIZE: 128\n",
      "\u001b[34m\u001b[1mwandb\u001b[0m: \tbatch_size: 16\n",
      "\u001b[34m\u001b[1mwandb\u001b[0m: \tdata_path: /data2\n",
      "\u001b[34m\u001b[1mwandb\u001b[0m: \tdecay: 0.6099324913117924\n",
      "\u001b[34m\u001b[1mwandb\u001b[0m: \tdvs_clipping: True\n",
      "\u001b[34m\u001b[1mwandb\u001b[0m: \tdvs_duration: 100000\n",
      "\u001b[34m\u001b[1mwandb\u001b[0m: \tlearning_rate: 0.015416680258178316\n",
      "\u001b[34m\u001b[1mwandb\u001b[0m: \tno_reservoir: False\n",
      "\u001b[34m\u001b[1mwandb\u001b[0m: \tpre_spike_weight: 9.264803920910545\n",
      "\u001b[34m\u001b[1mwandb\u001b[0m: \trate_coding: False\n",
      "\u001b[34m\u001b[1mwandb\u001b[0m: \ttime_step: 8\n",
      "\u001b[34m\u001b[1mwandb\u001b[0m: \twhich_data: DVS_GESTURE\n",
      "Failed to detect the name of this notebook, you can set it manually with the WANDB_NOTEBOOK_NAME environment variable to enable code saving.\n"
     ]
    },
    {
     "data": {
      "text/html": [
       "Tracking run with wandb version 0.17.5"
      ],
      "text/plain": [
       "<IPython.core.display.HTML object>"
      ]
     },
     "metadata": {},
     "output_type": "display_data"
    },
    {
     "data": {
      "text/html": [
       "Run data is saved locally in <code>/nfs/home/bhkim003/github_folder/ByeonghyeonKim/my_snn/wandb/run-20240728_143813-w2g8wzu5</code>"
      ],
      "text/plain": [
       "<IPython.core.display.HTML object>"
      ]
     },
     "metadata": {},
     "output_type": "display_data"
    },
    {
     "data": {
      "text/html": [
       "Syncing run <strong><a href='https://wandb.ai/bhkim003-seoul-national-university/reservoir/runs/w2g8wzu5' target=\"_blank\">treasured-sweep-81</a></strong> to <a href='https://wandb.ai/bhkim003-seoul-national-university/reservoir' target=\"_blank\">Weights & Biases</a> (<a href='https://wandb.me/run' target=\"_blank\">docs</a>)<br/>Sweep page: <a href='https://wandb.ai/bhkim003-seoul-national-university/reservoir/sweeps/sxt07a51' target=\"_blank\">https://wandb.ai/bhkim003-seoul-national-university/reservoir/sweeps/sxt07a51</a>"
      ],
      "text/plain": [
       "<IPython.core.display.HTML object>"
      ]
     },
     "metadata": {},
     "output_type": "display_data"
    },
    {
     "data": {
      "text/html": [
       " View project at <a href='https://wandb.ai/bhkim003-seoul-national-university/reservoir' target=\"_blank\">https://wandb.ai/bhkim003-seoul-national-university/reservoir</a>"
      ],
      "text/plain": [
       "<IPython.core.display.HTML object>"
      ]
     },
     "metadata": {},
     "output_type": "display_data"
    },
    {
     "data": {
      "text/html": [
       " View sweep at <a href='https://wandb.ai/bhkim003-seoul-national-university/reservoir/sweeps/sxt07a51' target=\"_blank\">https://wandb.ai/bhkim003-seoul-national-university/reservoir/sweeps/sxt07a51</a>"
      ],
      "text/plain": [
       "<IPython.core.display.HTML object>"
      ]
     },
     "metadata": {},
     "output_type": "display_data"
    },
    {
     "data": {
      "text/html": [
       " View run at <a href='https://wandb.ai/bhkim003-seoul-national-university/reservoir/runs/w2g8wzu5' target=\"_blank\">https://wandb.ai/bhkim003-seoul-national-university/reservoir/runs/w2g8wzu5</a>"
      ],
      "text/plain": [
       "<IPython.core.display.HTML object>"
      ]
     },
     "metadata": {},
     "output_type": "display_data"
    },
    {
     "name": "stderr",
     "output_type": "stream",
     "text": [
      "\u001b[34m\u001b[1mwandb\u001b[0m: \u001b[33mWARNING\u001b[0m Config item 'data_path' was locked by 'sweep' (ignored update).\n",
      "\u001b[34m\u001b[1mwandb\u001b[0m: \u001b[33mWARNING\u001b[0m Config item 'which_data' was locked by 'sweep' (ignored update).\n",
      "\u001b[34m\u001b[1mwandb\u001b[0m: \u001b[33mWARNING\u001b[0m Config item 'learning_rate' was locked by 'sweep' (ignored update).\n",
      "\u001b[34m\u001b[1mwandb\u001b[0m: \u001b[33mWARNING\u001b[0m Config item 'IMAGE_SIZE' was locked by 'sweep' (ignored update).\n",
      "\u001b[34m\u001b[1mwandb\u001b[0m: \u001b[33mWARNING\u001b[0m Config item 'EPOCH' was locked by 'sweep' (ignored update).\n",
      "\u001b[34m\u001b[1mwandb\u001b[0m: \u001b[33mWARNING\u001b[0m Config item 'rate_coding' was locked by 'sweep' (ignored update).\n",
      "\u001b[34m\u001b[1mwandb\u001b[0m: \u001b[33mWARNING\u001b[0m Config item 'pre_spike_weight' was locked by 'sweep' (ignored update).\n",
      "\u001b[34m\u001b[1mwandb\u001b[0m: \u001b[33mWARNING\u001b[0m Config item 'dvs_duration' was locked by 'sweep' (ignored update).\n",
      "\u001b[34m\u001b[1mwandb\u001b[0m: \u001b[33mWARNING\u001b[0m Config item 'dvs_clipping' was locked by 'sweep' (ignored update).\n",
      "\u001b[34m\u001b[1mwandb\u001b[0m: \u001b[33mWARNING\u001b[0m Config item 'no_reservoir' was locked by 'sweep' (ignored update).\n",
      "\u001b[34m\u001b[1mwandb\u001b[0m: \u001b[33mWARNING\u001b[0m Config item 'FC_RESERVOIR' was locked by 'sweep' (ignored update).\n"
     ]
    },
    {
     "name": "stdout",
     "output_type": "stream",
     "text": [
      "The directory [/data2/gesture/duration_100000] already exists.\n",
      "The directory [/data2/gesture/duration_100000] already exists.\n",
      "RESERVOIR_NET(\n",
      "  (reservoir): RESERVOIR(\n",
      "    (reservoir): Linear(in_features=32768, out_features=32768, bias=True)\n",
      "  )\n",
      "  (classifier): Linear(in_features=32768, out_features=10, bias=True)\n",
      ")\n",
      "Epoch 1\n",
      "Train Accuracy: 51.11%\n",
      "Test loss: 2.886, Val Accuracy: 56.06%\n",
      "Epoch 2\n",
      "Train Accuracy: 72.82%\n",
      "Test loss: 1.951, Val Accuracy: 65.53%\n",
      "Epoch 3\n",
      "Train Accuracy: 87.01%\n",
      "Test loss: 2.309, Val Accuracy: 57.95%\n",
      "Epoch 4\n",
      "Train Accuracy: 93.69%\n",
      "Test loss: 1.265, Val Accuracy: 67.42%\n",
      "Epoch 5\n",
      "Train Accuracy: 96.47%\n",
      "Test loss: 1.461, Val Accuracy: 73.11%\n",
      "Epoch 6\n",
      "Train Accuracy: 99.44%\n",
      "Test loss: 1.274, Val Accuracy: 72.35%\n",
      "Epoch 7\n",
      "Train Accuracy: 100.00%\n",
      "Test loss: 1.317, Val Accuracy: 73.48%\n",
      "Epoch 8\n",
      "Train Accuracy: 100.00%\n",
      "Test loss: 1.258, Val Accuracy: 72.73%\n",
      "Epoch 9\n",
      "Train Accuracy: 100.00%\n",
      "Test loss: 1.263, Val Accuracy: 72.73%\n",
      "Epoch 10\n",
      "Train Accuracy: 100.00%\n",
      "Test loss: 1.304, Val Accuracy: 73.11%\n",
      "Epoch 11\n",
      "Train Accuracy: 100.00%\n",
      "Test loss: 1.256, Val Accuracy: 72.35%\n",
      "Epoch 12\n",
      "Train Accuracy: 100.00%\n",
      "Test loss: 1.295, Val Accuracy: 72.35%\n",
      "Epoch 13\n",
      "Train Accuracy: 100.00%\n",
      "Test loss: 1.280, Val Accuracy: 72.73%\n",
      "Epoch 14\n",
      "Train Accuracy: 100.00%\n",
      "Test loss: 1.275, Val Accuracy: 72.35%\n",
      "Epoch 15\n",
      "Train Accuracy: 100.00%\n",
      "Test loss: 1.279, Val Accuracy: 71.97%\n",
      "Epoch 16\n",
      "Train Accuracy: 100.00%\n",
      "Test loss: 1.270, Val Accuracy: 71.97%\n",
      "Epoch 17\n",
      "Train Accuracy: 100.00%\n",
      "Test loss: 1.285, Val Accuracy: 71.97%\n",
      "Epoch 18\n",
      "Train Accuracy: 100.00%\n",
      "Test loss: 1.279, Val Accuracy: 71.97%\n",
      "Epoch 19\n",
      "Train Accuracy: 100.00%\n",
      "Test loss: 1.266, Val Accuracy: 72.35%\n",
      "Epoch 20\n",
      "Train Accuracy: 100.00%\n",
      "Test loss: 1.285, Val Accuracy: 71.97%\n"
     ]
    },
    {
     "data": {
      "application/vnd.jupyter.widget-view+json": {
       "model_id": "b99069d887d743f2baddd5fec50195d8",
       "version_major": 2,
       "version_minor": 0
      },
      "text/plain": [
       "VBox(children=(Label(value='0.326 MB of 0.326 MB uploaded\\r'), FloatProgress(value=1.0, max=1.0)))"
      ]
     },
     "metadata": {},
     "output_type": "display_data"
    },
    {
     "data": {
      "text/html": [
       "<style>\n",
       "    table.wandb td:nth-child(1) { padding: 0 10px; text-align: left ; width: auto;} td:nth-child(2) {text-align: left ; width: 100%}\n",
       "    .wandb-row { display: flex; flex-direction: row; flex-wrap: wrap; justify-content: flex-start; width: 100% }\n",
       "    .wandb-col { display: flex; flex-direction: column; flex-basis: 100%; flex: 1; padding: 10px; }\n",
       "    </style>\n",
       "<div class=\"wandb-row\"><div class=\"wandb-col\"><h3>Run history:</h3><br/><table class=\"wandb\"><tr><td>epoch</td><td>▁▁▂▂▂▃▃▄▄▄▅▅▅▆▆▇▇▇██</td></tr><tr><td>iter_accuracy</td><td>▄▁▄▂▅▇▇█▇███████████████████████████████</td></tr><tr><td>tr_accuracy</td><td>▁▄▆▇▇███████████████</td></tr><tr><td>val_accuracy</td><td>▁▅▂▆██████████▇▇▇▇█▇</td></tr></table><br/></div><div class=\"wandb-col\"><h3>Run summary:</h3><br/><table class=\"wandb\"><tr><td>epoch</td><td>19</td></tr><tr><td>iter_accuracy</td><td>100.0</td></tr><tr><td>tr_accuracy</td><td>100.0</td></tr><tr><td>val_accuracy</td><td>71.9697</td></tr></table><br/></div></div>"
      ],
      "text/plain": [
       "<IPython.core.display.HTML object>"
      ]
     },
     "metadata": {},
     "output_type": "display_data"
    },
    {
     "data": {
      "text/html": [
       " View run <strong style=\"color:#cdcd00\">treasured-sweep-81</strong> at: <a href='https://wandb.ai/bhkim003-seoul-national-university/reservoir/runs/w2g8wzu5' target=\"_blank\">https://wandb.ai/bhkim003-seoul-national-university/reservoir/runs/w2g8wzu5</a><br/> View project at: <a href='https://wandb.ai/bhkim003-seoul-national-university/reservoir' target=\"_blank\">https://wandb.ai/bhkim003-seoul-national-university/reservoir</a><br/>Synced 7 W&B file(s), 0 media file(s), 0 artifact file(s) and 1 other file(s)"
      ],
      "text/plain": [
       "<IPython.core.display.HTML object>"
      ]
     },
     "metadata": {},
     "output_type": "display_data"
    },
    {
     "data": {
      "text/html": [
       "Find logs at: <code>./wandb/run-20240728_143813-w2g8wzu5/logs</code>"
      ],
      "text/plain": [
       "<IPython.core.display.HTML object>"
      ]
     },
     "metadata": {},
     "output_type": "display_data"
    },
    {
     "data": {
      "text/html": [
       "The new W&B backend becomes opt-out in version 0.18.0; try it out with `wandb.require(\"core\")`! See https://wandb.me/wandb-core for more information."
      ],
      "text/plain": [
       "<IPython.core.display.HTML object>"
      ]
     },
     "metadata": {},
     "output_type": "display_data"
    },
    {
     "name": "stderr",
     "output_type": "stream",
     "text": [
      "\u001b[34m\u001b[1mwandb\u001b[0m: Agent Starting Run: moec16yy with config:\n",
      "\u001b[34m\u001b[1mwandb\u001b[0m: \tEPOCH: 20\n",
      "\u001b[34m\u001b[1mwandb\u001b[0m: \tFC_RESERVOIR: True\n",
      "\u001b[34m\u001b[1mwandb\u001b[0m: \tIMAGE_SIZE: 128\n",
      "\u001b[34m\u001b[1mwandb\u001b[0m: \tbatch_size: 16\n",
      "\u001b[34m\u001b[1mwandb\u001b[0m: \tdata_path: /data2\n",
      "\u001b[34m\u001b[1mwandb\u001b[0m: \tdecay: 0.9497594377663628\n",
      "\u001b[34m\u001b[1mwandb\u001b[0m: \tdvs_clipping: True\n",
      "\u001b[34m\u001b[1mwandb\u001b[0m: \tdvs_duration: 100000\n",
      "\u001b[34m\u001b[1mwandb\u001b[0m: \tlearning_rate: 0.02265298783838489\n",
      "\u001b[34m\u001b[1mwandb\u001b[0m: \tno_reservoir: True\n",
      "\u001b[34m\u001b[1mwandb\u001b[0m: \tpre_spike_weight: 7.596240060081249\n",
      "\u001b[34m\u001b[1mwandb\u001b[0m: \trate_coding: False\n",
      "\u001b[34m\u001b[1mwandb\u001b[0m: \ttime_step: 8\n",
      "\u001b[34m\u001b[1mwandb\u001b[0m: \twhich_data: DVS_GESTURE\n",
      "Failed to detect the name of this notebook, you can set it manually with the WANDB_NOTEBOOK_NAME environment variable to enable code saving.\n"
     ]
    },
    {
     "data": {
      "text/html": [
       "Tracking run with wandb version 0.17.5"
      ],
      "text/plain": [
       "<IPython.core.display.HTML object>"
      ]
     },
     "metadata": {},
     "output_type": "display_data"
    },
    {
     "data": {
      "text/html": [
       "Run data is saved locally in <code>/nfs/home/bhkim003/github_folder/ByeonghyeonKim/my_snn/wandb/run-20240728_183608-moec16yy</code>"
      ],
      "text/plain": [
       "<IPython.core.display.HTML object>"
      ]
     },
     "metadata": {},
     "output_type": "display_data"
    },
    {
     "data": {
      "text/html": [
       "Syncing run <strong><a href='https://wandb.ai/bhkim003-seoul-national-university/reservoir/runs/moec16yy' target=\"_blank\">logical-sweep-82</a></strong> to <a href='https://wandb.ai/bhkim003-seoul-national-university/reservoir' target=\"_blank\">Weights & Biases</a> (<a href='https://wandb.me/run' target=\"_blank\">docs</a>)<br/>Sweep page: <a href='https://wandb.ai/bhkim003-seoul-national-university/reservoir/sweeps/sxt07a51' target=\"_blank\">https://wandb.ai/bhkim003-seoul-national-university/reservoir/sweeps/sxt07a51</a>"
      ],
      "text/plain": [
       "<IPython.core.display.HTML object>"
      ]
     },
     "metadata": {},
     "output_type": "display_data"
    },
    {
     "data": {
      "text/html": [
       " View project at <a href='https://wandb.ai/bhkim003-seoul-national-university/reservoir' target=\"_blank\">https://wandb.ai/bhkim003-seoul-national-university/reservoir</a>"
      ],
      "text/plain": [
       "<IPython.core.display.HTML object>"
      ]
     },
     "metadata": {},
     "output_type": "display_data"
    },
    {
     "data": {
      "text/html": [
       " View sweep at <a href='https://wandb.ai/bhkim003-seoul-national-university/reservoir/sweeps/sxt07a51' target=\"_blank\">https://wandb.ai/bhkim003-seoul-national-university/reservoir/sweeps/sxt07a51</a>"
      ],
      "text/plain": [
       "<IPython.core.display.HTML object>"
      ]
     },
     "metadata": {},
     "output_type": "display_data"
    },
    {
     "data": {
      "text/html": [
       " View run at <a href='https://wandb.ai/bhkim003-seoul-national-university/reservoir/runs/moec16yy' target=\"_blank\">https://wandb.ai/bhkim003-seoul-national-university/reservoir/runs/moec16yy</a>"
      ],
      "text/plain": [
       "<IPython.core.display.HTML object>"
      ]
     },
     "metadata": {},
     "output_type": "display_data"
    },
    {
     "name": "stderr",
     "output_type": "stream",
     "text": [
      "\u001b[34m\u001b[1mwandb\u001b[0m: \u001b[33mWARNING\u001b[0m Config item 'data_path' was locked by 'sweep' (ignored update).\n",
      "\u001b[34m\u001b[1mwandb\u001b[0m: \u001b[33mWARNING\u001b[0m Config item 'which_data' was locked by 'sweep' (ignored update).\n",
      "\u001b[34m\u001b[1mwandb\u001b[0m: \u001b[33mWARNING\u001b[0m Config item 'learning_rate' was locked by 'sweep' (ignored update).\n",
      "\u001b[34m\u001b[1mwandb\u001b[0m: \u001b[33mWARNING\u001b[0m Config item 'IMAGE_SIZE' was locked by 'sweep' (ignored update).\n",
      "\u001b[34m\u001b[1mwandb\u001b[0m: \u001b[33mWARNING\u001b[0m Config item 'EPOCH' was locked by 'sweep' (ignored update).\n",
      "\u001b[34m\u001b[1mwandb\u001b[0m: \u001b[33mWARNING\u001b[0m Config item 'rate_coding' was locked by 'sweep' (ignored update).\n",
      "\u001b[34m\u001b[1mwandb\u001b[0m: \u001b[33mWARNING\u001b[0m Config item 'pre_spike_weight' was locked by 'sweep' (ignored update).\n",
      "\u001b[34m\u001b[1mwandb\u001b[0m: \u001b[33mWARNING\u001b[0m Config item 'dvs_duration' was locked by 'sweep' (ignored update).\n",
      "\u001b[34m\u001b[1mwandb\u001b[0m: \u001b[33mWARNING\u001b[0m Config item 'dvs_clipping' was locked by 'sweep' (ignored update).\n",
      "\u001b[34m\u001b[1mwandb\u001b[0m: \u001b[33mWARNING\u001b[0m Config item 'no_reservoir' was locked by 'sweep' (ignored update).\n",
      "\u001b[34m\u001b[1mwandb\u001b[0m: \u001b[33mWARNING\u001b[0m Config item 'FC_RESERVOIR' was locked by 'sweep' (ignored update).\n"
     ]
    },
    {
     "name": "stdout",
     "output_type": "stream",
     "text": [
      "The directory [/data2/gesture/duration_100000] already exists.\n",
      "The directory [/data2/gesture/duration_100000] already exists.\n",
      "RESERVOIR_NET(\n",
      "  (classifier): Linear(in_features=32768, out_features=10, bias=True)\n",
      ")\n",
      "Epoch 1\n",
      "Train Accuracy: 52.04%\n",
      "Test loss: 3.023, Val Accuracy: 56.82%\n",
      "Epoch 2\n",
      "Train Accuracy: 72.54%\n",
      "Test loss: 2.150, Val Accuracy: 59.09%\n",
      "Epoch 3\n",
      "Train Accuracy: 85.81%\n",
      "Test loss: 2.770, Val Accuracy: 54.92%\n",
      "Epoch 4\n",
      "Train Accuracy: 93.78%\n",
      "Test loss: 1.792, Val Accuracy: 63.26%\n",
      "Epoch 5\n",
      "Train Accuracy: 97.31%\n",
      "Test loss: 1.743, Val Accuracy: 66.67%\n",
      "Epoch 6\n",
      "Train Accuracy: 99.35%\n",
      "Test loss: 1.514, Val Accuracy: 68.56%\n",
      "Epoch 7\n",
      "Train Accuracy: 100.00%\n",
      "Test loss: 1.455, Val Accuracy: 69.70%\n",
      "Epoch 8\n",
      "Train Accuracy: 100.00%\n",
      "Test loss: 1.436, Val Accuracy: 69.70%\n",
      "Epoch 9\n",
      "Train Accuracy: 100.00%\n",
      "Test loss: 1.420, Val Accuracy: 69.70%\n",
      "Epoch 10\n",
      "Train Accuracy: 100.00%\n",
      "Test loss: 1.430, Val Accuracy: 70.45%\n",
      "Epoch 11\n",
      "Train Accuracy: 100.00%\n",
      "Test loss: 1.407, Val Accuracy: 70.08%\n",
      "Epoch 12\n",
      "Train Accuracy: 100.00%\n",
      "Test loss: 1.400, Val Accuracy: 70.08%\n",
      "Epoch 13\n",
      "Train Accuracy: 100.00%\n",
      "Test loss: 1.397, Val Accuracy: 70.83%\n",
      "Epoch 14\n",
      "Train Accuracy: 100.00%\n",
      "Test loss: 1.399, Val Accuracy: 71.21%\n",
      "Epoch 15\n",
      "Train Accuracy: 100.00%\n",
      "Test loss: 1.405, Val Accuracy: 70.08%\n",
      "Epoch 16\n",
      "Train Accuracy: 100.00%\n",
      "Test loss: 1.408, Val Accuracy: 70.08%\n",
      "Epoch 17\n",
      "Train Accuracy: 100.00%\n",
      "Test loss: 1.411, Val Accuracy: 70.08%\n",
      "Epoch 18\n",
      "Train Accuracy: 100.00%\n",
      "Test loss: 1.405, Val Accuracy: 70.08%\n",
      "Epoch 19\n",
      "Train Accuracy: 100.00%\n",
      "Test loss: 1.404, Val Accuracy: 70.08%\n",
      "Epoch 20\n",
      "Train Accuracy: 100.00%\n",
      "Test loss: 1.407, Val Accuracy: 69.70%\n"
     ]
    },
    {
     "data": {
      "application/vnd.jupyter.widget-view+json": {
       "model_id": "c8bb062e6fba4dff8283c5cb8ea128e1",
       "version_major": 2,
       "version_minor": 0
      },
      "text/plain": [
       "VBox(children=(Label(value='0.326 MB of 0.326 MB uploaded\\r'), FloatProgress(value=1.0, max=1.0)))"
      ]
     },
     "metadata": {},
     "output_type": "display_data"
    },
    {
     "data": {
      "text/html": [
       "<style>\n",
       "    table.wandb td:nth-child(1) { padding: 0 10px; text-align: left ; width: auto;} td:nth-child(2) {text-align: left ; width: 100%}\n",
       "    .wandb-row { display: flex; flex-direction: row; flex-wrap: wrap; justify-content: flex-start; width: 100% }\n",
       "    .wandb-col { display: flex; flex-direction: column; flex-basis: 100%; flex: 1; padding: 10px; }\n",
       "    </style>\n",
       "<div class=\"wandb-row\"><div class=\"wandb-col\"><h3>Run history:</h3><br/><table class=\"wandb\"><tr><td>epoch</td><td>▁▁▂▂▂▃▃▄▄▄▅▅▅▆▆▇▇▇██</td></tr><tr><td>iter_accuracy</td><td>▁▂▆▄▅▇▇▆█▇██████████████████████████████</td></tr><tr><td>tr_accuracy</td><td>▁▄▆▇████████████████</td></tr><tr><td>val_accuracy</td><td>▂▃▁▅▆▇▇▇▇██████████▇</td></tr></table><br/></div><div class=\"wandb-col\"><h3>Run summary:</h3><br/><table class=\"wandb\"><tr><td>epoch</td><td>19</td></tr><tr><td>iter_accuracy</td><td>100.0</td></tr><tr><td>tr_accuracy</td><td>100.0</td></tr><tr><td>val_accuracy</td><td>69.69697</td></tr></table><br/></div></div>"
      ],
      "text/plain": [
       "<IPython.core.display.HTML object>"
      ]
     },
     "metadata": {},
     "output_type": "display_data"
    },
    {
     "data": {
      "text/html": [
       " View run <strong style=\"color:#cdcd00\">logical-sweep-82</strong> at: <a href='https://wandb.ai/bhkim003-seoul-national-university/reservoir/runs/moec16yy' target=\"_blank\">https://wandb.ai/bhkim003-seoul-national-university/reservoir/runs/moec16yy</a><br/> View project at: <a href='https://wandb.ai/bhkim003-seoul-national-university/reservoir' target=\"_blank\">https://wandb.ai/bhkim003-seoul-national-university/reservoir</a><br/>Synced 7 W&B file(s), 0 media file(s), 0 artifact file(s) and 1 other file(s)"
      ],
      "text/plain": [
       "<IPython.core.display.HTML object>"
      ]
     },
     "metadata": {},
     "output_type": "display_data"
    },
    {
     "data": {
      "text/html": [
       "Find logs at: <code>./wandb/run-20240728_183608-moec16yy/logs</code>"
      ],
      "text/plain": [
       "<IPython.core.display.HTML object>"
      ]
     },
     "metadata": {},
     "output_type": "display_data"
    },
    {
     "data": {
      "text/html": [
       "The new W&B backend becomes opt-out in version 0.18.0; try it out with `wandb.require(\"core\")`! See https://wandb.me/wandb-core for more information."
      ],
      "text/plain": [
       "<IPython.core.display.HTML object>"
      ]
     },
     "metadata": {},
     "output_type": "display_data"
    },
    {
     "name": "stderr",
     "output_type": "stream",
     "text": [
      "\u001b[34m\u001b[1mwandb\u001b[0m: Agent Starting Run: 1r96zib9 with config:\n",
      "\u001b[34m\u001b[1mwandb\u001b[0m: \tEPOCH: 20\n",
      "\u001b[34m\u001b[1mwandb\u001b[0m: \tFC_RESERVOIR: True\n",
      "\u001b[34m\u001b[1mwandb\u001b[0m: \tIMAGE_SIZE: 48\n",
      "\u001b[34m\u001b[1mwandb\u001b[0m: \tbatch_size: 16\n",
      "\u001b[34m\u001b[1mwandb\u001b[0m: \tdata_path: /data2\n",
      "\u001b[34m\u001b[1mwandb\u001b[0m: \tdecay: 0.8092862627325517\n",
      "\u001b[34m\u001b[1mwandb\u001b[0m: \tdvs_clipping: True\n",
      "\u001b[34m\u001b[1mwandb\u001b[0m: \tdvs_duration: 100000\n",
      "\u001b[34m\u001b[1mwandb\u001b[0m: \tlearning_rate: 0.024279912225924377\n",
      "\u001b[34m\u001b[1mwandb\u001b[0m: \tno_reservoir: False\n",
      "\u001b[34m\u001b[1mwandb\u001b[0m: \tpre_spike_weight: 7.428371408838313\n",
      "\u001b[34m\u001b[1mwandb\u001b[0m: \trate_coding: True\n",
      "\u001b[34m\u001b[1mwandb\u001b[0m: \ttime_step: 8\n",
      "\u001b[34m\u001b[1mwandb\u001b[0m: \twhich_data: DVS_GESTURE\n",
      "Failed to detect the name of this notebook, you can set it manually with the WANDB_NOTEBOOK_NAME environment variable to enable code saving.\n"
     ]
    },
    {
     "data": {
      "text/html": [
       "Tracking run with wandb version 0.17.5"
      ],
      "text/plain": [
       "<IPython.core.display.HTML object>"
      ]
     },
     "metadata": {},
     "output_type": "display_data"
    },
    {
     "data": {
      "text/html": [
       "Run data is saved locally in <code>/nfs/home/bhkim003/github_folder/ByeonghyeonKim/my_snn/wandb/run-20240728_185526-1r96zib9</code>"
      ],
      "text/plain": [
       "<IPython.core.display.HTML object>"
      ]
     },
     "metadata": {},
     "output_type": "display_data"
    },
    {
     "data": {
      "text/html": [
       "Syncing run <strong><a href='https://wandb.ai/bhkim003-seoul-national-university/reservoir/runs/1r96zib9' target=\"_blank\">sparkling-sweep-83</a></strong> to <a href='https://wandb.ai/bhkim003-seoul-national-university/reservoir' target=\"_blank\">Weights & Biases</a> (<a href='https://wandb.me/run' target=\"_blank\">docs</a>)<br/>Sweep page: <a href='https://wandb.ai/bhkim003-seoul-national-university/reservoir/sweeps/sxt07a51' target=\"_blank\">https://wandb.ai/bhkim003-seoul-national-university/reservoir/sweeps/sxt07a51</a>"
      ],
      "text/plain": [
       "<IPython.core.display.HTML object>"
      ]
     },
     "metadata": {},
     "output_type": "display_data"
    },
    {
     "data": {
      "text/html": [
       " View project at <a href='https://wandb.ai/bhkim003-seoul-national-university/reservoir' target=\"_blank\">https://wandb.ai/bhkim003-seoul-national-university/reservoir</a>"
      ],
      "text/plain": [
       "<IPython.core.display.HTML object>"
      ]
     },
     "metadata": {},
     "output_type": "display_data"
    },
    {
     "data": {
      "text/html": [
       " View sweep at <a href='https://wandb.ai/bhkim003-seoul-national-university/reservoir/sweeps/sxt07a51' target=\"_blank\">https://wandb.ai/bhkim003-seoul-national-university/reservoir/sweeps/sxt07a51</a>"
      ],
      "text/plain": [
       "<IPython.core.display.HTML object>"
      ]
     },
     "metadata": {},
     "output_type": "display_data"
    },
    {
     "data": {
      "text/html": [
       " View run at <a href='https://wandb.ai/bhkim003-seoul-national-university/reservoir/runs/1r96zib9' target=\"_blank\">https://wandb.ai/bhkim003-seoul-national-university/reservoir/runs/1r96zib9</a>"
      ],
      "text/plain": [
       "<IPython.core.display.HTML object>"
      ]
     },
     "metadata": {},
     "output_type": "display_data"
    },
    {
     "name": "stderr",
     "output_type": "stream",
     "text": [
      "\u001b[34m\u001b[1mwandb\u001b[0m: \u001b[33mWARNING\u001b[0m Config item 'data_path' was locked by 'sweep' (ignored update).\n",
      "\u001b[34m\u001b[1mwandb\u001b[0m: \u001b[33mWARNING\u001b[0m Config item 'which_data' was locked by 'sweep' (ignored update).\n",
      "\u001b[34m\u001b[1mwandb\u001b[0m: \u001b[33mWARNING\u001b[0m Config item 'learning_rate' was locked by 'sweep' (ignored update).\n",
      "\u001b[34m\u001b[1mwandb\u001b[0m: \u001b[33mWARNING\u001b[0m Config item 'IMAGE_SIZE' was locked by 'sweep' (ignored update).\n",
      "\u001b[34m\u001b[1mwandb\u001b[0m: \u001b[33mWARNING\u001b[0m Config item 'EPOCH' was locked by 'sweep' (ignored update).\n",
      "\u001b[34m\u001b[1mwandb\u001b[0m: \u001b[33mWARNING\u001b[0m Config item 'rate_coding' was locked by 'sweep' (ignored update).\n",
      "\u001b[34m\u001b[1mwandb\u001b[0m: \u001b[33mWARNING\u001b[0m Config item 'pre_spike_weight' was locked by 'sweep' (ignored update).\n",
      "\u001b[34m\u001b[1mwandb\u001b[0m: \u001b[33mWARNING\u001b[0m Config item 'dvs_duration' was locked by 'sweep' (ignored update).\n",
      "\u001b[34m\u001b[1mwandb\u001b[0m: \u001b[33mWARNING\u001b[0m Config item 'dvs_clipping' was locked by 'sweep' (ignored update).\n",
      "\u001b[34m\u001b[1mwandb\u001b[0m: \u001b[33mWARNING\u001b[0m Config item 'no_reservoir' was locked by 'sweep' (ignored update).\n",
      "\u001b[34m\u001b[1mwandb\u001b[0m: \u001b[33mWARNING\u001b[0m Config item 'FC_RESERVOIR' was locked by 'sweep' (ignored update).\n"
     ]
    },
    {
     "name": "stdout",
     "output_type": "stream",
     "text": [
      "The directory [/data2/gesture/duration_100000] already exists.\n",
      "The directory [/data2/gesture/duration_100000] already exists.\n",
      "RESERVOIR_NET(\n",
      "  (reservoir): RESERVOIR(\n",
      "    (reservoir): Linear(in_features=4608, out_features=4608, bias=True)\n",
      "  )\n",
      "  (classifier): Linear(in_features=4608, out_features=10, bias=True)\n",
      ")\n",
      "Epoch 1\n",
      "Train Accuracy: 42.02%\n",
      "Test loss: 2.762, Val Accuracy: 48.11%\n",
      "Epoch 2\n",
      "Train Accuracy: 69.11%\n",
      "Test loss: 2.840, Val Accuracy: 50.76%\n",
      "Epoch 3\n",
      "Train Accuracy: 71.71%\n",
      "Test loss: 3.400, Val Accuracy: 51.14%\n",
      "Epoch 4\n",
      "Train Accuracy: 78.66%\n",
      "Test loss: 1.502, Val Accuracy: 64.39%\n",
      "Epoch 5\n",
      "Train Accuracy: 91.09%\n",
      "Test loss: 1.456, Val Accuracy: 59.09%\n",
      "Epoch 6\n",
      "Train Accuracy: 95.18%\n",
      "Test loss: 1.922, Val Accuracy: 65.15%\n",
      "Epoch 7\n",
      "Train Accuracy: 94.53%\n",
      "Test loss: 1.588, Val Accuracy: 65.91%\n",
      "Epoch 8\n",
      "Train Accuracy: 99.26%\n",
      "Test loss: 1.072, Val Accuracy: 70.45%\n",
      "Epoch 9\n",
      "Train Accuracy: 100.00%\n",
      "Test loss: 0.994, Val Accuracy: 71.97%\n",
      "Epoch 10\n",
      "Train Accuracy: 100.00%\n",
      "Test loss: 0.999, Val Accuracy: 71.59%\n",
      "Epoch 11\n",
      "Train Accuracy: 100.00%\n",
      "Test loss: 1.029, Val Accuracy: 72.35%\n",
      "Epoch 12\n",
      "Train Accuracy: 100.00%\n",
      "Test loss: 1.001, Val Accuracy: 71.97%\n",
      "Epoch 13\n",
      "Train Accuracy: 100.00%\n",
      "Test loss: 1.009, Val Accuracy: 71.21%\n",
      "Epoch 14\n",
      "Train Accuracy: 100.00%\n",
      "Test loss: 1.044, Val Accuracy: 70.08%\n",
      "Epoch 15\n",
      "Train Accuracy: 100.00%\n",
      "Test loss: 1.007, Val Accuracy: 72.73%\n",
      "Epoch 16\n",
      "Train Accuracy: 100.00%\n",
      "Test loss: 1.045, Val Accuracy: 71.97%\n",
      "Epoch 17\n",
      "Train Accuracy: 100.00%\n",
      "Test loss: 1.051, Val Accuracy: 71.21%\n",
      "Epoch 18\n",
      "Train Accuracy: 100.00%\n",
      "Test loss: 1.016, Val Accuracy: 72.35%\n",
      "Epoch 19\n",
      "Train Accuracy: 100.00%\n",
      "Test loss: 1.032, Val Accuracy: 71.59%\n",
      "Epoch 20\n",
      "Train Accuracy: 100.00%\n",
      "Test loss: 1.037, Val Accuracy: 72.73%\n"
     ]
    },
    {
     "data": {
      "application/vnd.jupyter.widget-view+json": {
       "model_id": "f0d7cdebfddc42c9ac608c63559303ee",
       "version_major": 2,
       "version_minor": 0
      },
      "text/plain": [
       "VBox(children=(Label(value='0.326 MB of 0.326 MB uploaded\\r'), FloatProgress(value=1.0, max=1.0)))"
      ]
     },
     "metadata": {},
     "output_type": "display_data"
    },
    {
     "data": {
      "text/html": [
       "<style>\n",
       "    table.wandb td:nth-child(1) { padding: 0 10px; text-align: left ; width: auto;} td:nth-child(2) {text-align: left ; width: 100%}\n",
       "    .wandb-row { display: flex; flex-direction: row; flex-wrap: wrap; justify-content: flex-start; width: 100% }\n",
       "    .wandb-col { display: flex; flex-direction: column; flex-basis: 100%; flex: 1; padding: 10px; }\n",
       "    </style>\n",
       "<div class=\"wandb-row\"><div class=\"wandb-col\"><h3>Run history:</h3><br/><table class=\"wandb\"><tr><td>epoch</td><td>▁▁▂▂▂▃▃▄▄▄▅▅▅▆▆▇▇▇██</td></tr><tr><td>iter_accuracy</td><td>▃▃▃▁▅▆▆▄███▇▆█▇█████████████████████████</td></tr><tr><td>tr_accuracy</td><td>▁▄▅▅▇▇▇█████████████</td></tr><tr><td>val_accuracy</td><td>▁▂▂▆▄▆▆▇█████▇██████</td></tr></table><br/></div><div class=\"wandb-col\"><h3>Run summary:</h3><br/><table class=\"wandb\"><tr><td>epoch</td><td>19</td></tr><tr><td>iter_accuracy</td><td>100.0</td></tr><tr><td>tr_accuracy</td><td>100.0</td></tr><tr><td>val_accuracy</td><td>72.72727</td></tr></table><br/></div></div>"
      ],
      "text/plain": [
       "<IPython.core.display.HTML object>"
      ]
     },
     "metadata": {},
     "output_type": "display_data"
    },
    {
     "data": {
      "text/html": [
       " View run <strong style=\"color:#cdcd00\">sparkling-sweep-83</strong> at: <a href='https://wandb.ai/bhkim003-seoul-national-university/reservoir/runs/1r96zib9' target=\"_blank\">https://wandb.ai/bhkim003-seoul-national-university/reservoir/runs/1r96zib9</a><br/> View project at: <a href='https://wandb.ai/bhkim003-seoul-national-university/reservoir' target=\"_blank\">https://wandb.ai/bhkim003-seoul-national-university/reservoir</a><br/>Synced 7 W&B file(s), 0 media file(s), 0 artifact file(s) and 1 other file(s)"
      ],
      "text/plain": [
       "<IPython.core.display.HTML object>"
      ]
     },
     "metadata": {},
     "output_type": "display_data"
    },
    {
     "data": {
      "text/html": [
       "Find logs at: <code>./wandb/run-20240728_185526-1r96zib9/logs</code>"
      ],
      "text/plain": [
       "<IPython.core.display.HTML object>"
      ]
     },
     "metadata": {},
     "output_type": "display_data"
    },
    {
     "data": {
      "text/html": [
       "The new W&B backend becomes opt-out in version 0.18.0; try it out with `wandb.require(\"core\")`! See https://wandb.me/wandb-core for more information."
      ],
      "text/plain": [
       "<IPython.core.display.HTML object>"
      ]
     },
     "metadata": {},
     "output_type": "display_data"
    },
    {
     "name": "stderr",
     "output_type": "stream",
     "text": [
      "\u001b[34m\u001b[1mwandb\u001b[0m: Agent Starting Run: n0fazjj9 with config:\n",
      "\u001b[34m\u001b[1mwandb\u001b[0m: \tEPOCH: 20\n",
      "\u001b[34m\u001b[1mwandb\u001b[0m: \tFC_RESERVOIR: True\n",
      "\u001b[34m\u001b[1mwandb\u001b[0m: \tIMAGE_SIZE: 48\n",
      "\u001b[34m\u001b[1mwandb\u001b[0m: \tbatch_size: 16\n",
      "\u001b[34m\u001b[1mwandb\u001b[0m: \tdata_path: /data2\n",
      "\u001b[34m\u001b[1mwandb\u001b[0m: \tdecay: 0.3213824423709413\n",
      "\u001b[34m\u001b[1mwandb\u001b[0m: \tdvs_clipping: True\n",
      "\u001b[34m\u001b[1mwandb\u001b[0m: \tdvs_duration: 100000\n",
      "\u001b[34m\u001b[1mwandb\u001b[0m: \tlearning_rate: 0.0009532392513447952\n",
      "\u001b[34m\u001b[1mwandb\u001b[0m: \tno_reservoir: False\n",
      "\u001b[34m\u001b[1mwandb\u001b[0m: \tpre_spike_weight: 9.614757226258853\n",
      "\u001b[34m\u001b[1mwandb\u001b[0m: \trate_coding: False\n",
      "\u001b[34m\u001b[1mwandb\u001b[0m: \ttime_step: 8\n",
      "\u001b[34m\u001b[1mwandb\u001b[0m: \twhich_data: DVS_GESTURE\n",
      "Failed to detect the name of this notebook, you can set it manually with the WANDB_NOTEBOOK_NAME environment variable to enable code saving.\n"
     ]
    },
    {
     "data": {
      "text/html": [
       "Tracking run with wandb version 0.17.5"
      ],
      "text/plain": [
       "<IPython.core.display.HTML object>"
      ]
     },
     "metadata": {},
     "output_type": "display_data"
    },
    {
     "data": {
      "text/html": [
       "Run data is saved locally in <code>/nfs/home/bhkim003/github_folder/ByeonghyeonKim/my_snn/wandb/run-20240728_191008-n0fazjj9</code>"
      ],
      "text/plain": [
       "<IPython.core.display.HTML object>"
      ]
     },
     "metadata": {},
     "output_type": "display_data"
    },
    {
     "data": {
      "text/html": [
       "Syncing run <strong><a href='https://wandb.ai/bhkim003-seoul-national-university/reservoir/runs/n0fazjj9' target=\"_blank\">peachy-sweep-84</a></strong> to <a href='https://wandb.ai/bhkim003-seoul-national-university/reservoir' target=\"_blank\">Weights & Biases</a> (<a href='https://wandb.me/run' target=\"_blank\">docs</a>)<br/>Sweep page: <a href='https://wandb.ai/bhkim003-seoul-national-university/reservoir/sweeps/sxt07a51' target=\"_blank\">https://wandb.ai/bhkim003-seoul-national-university/reservoir/sweeps/sxt07a51</a>"
      ],
      "text/plain": [
       "<IPython.core.display.HTML object>"
      ]
     },
     "metadata": {},
     "output_type": "display_data"
    },
    {
     "data": {
      "text/html": [
       " View project at <a href='https://wandb.ai/bhkim003-seoul-national-university/reservoir' target=\"_blank\">https://wandb.ai/bhkim003-seoul-national-university/reservoir</a>"
      ],
      "text/plain": [
       "<IPython.core.display.HTML object>"
      ]
     },
     "metadata": {},
     "output_type": "display_data"
    },
    {
     "data": {
      "text/html": [
       " View sweep at <a href='https://wandb.ai/bhkim003-seoul-national-university/reservoir/sweeps/sxt07a51' target=\"_blank\">https://wandb.ai/bhkim003-seoul-national-university/reservoir/sweeps/sxt07a51</a>"
      ],
      "text/plain": [
       "<IPython.core.display.HTML object>"
      ]
     },
     "metadata": {},
     "output_type": "display_data"
    },
    {
     "data": {
      "text/html": [
       " View run at <a href='https://wandb.ai/bhkim003-seoul-national-university/reservoir/runs/n0fazjj9' target=\"_blank\">https://wandb.ai/bhkim003-seoul-national-university/reservoir/runs/n0fazjj9</a>"
      ],
      "text/plain": [
       "<IPython.core.display.HTML object>"
      ]
     },
     "metadata": {},
     "output_type": "display_data"
    },
    {
     "name": "stderr",
     "output_type": "stream",
     "text": [
      "\u001b[34m\u001b[1mwandb\u001b[0m: \u001b[33mWARNING\u001b[0m Config item 'data_path' was locked by 'sweep' (ignored update).\n",
      "\u001b[34m\u001b[1mwandb\u001b[0m: \u001b[33mWARNING\u001b[0m Config item 'which_data' was locked by 'sweep' (ignored update).\n",
      "\u001b[34m\u001b[1mwandb\u001b[0m: \u001b[33mWARNING\u001b[0m Config item 'learning_rate' was locked by 'sweep' (ignored update).\n",
      "\u001b[34m\u001b[1mwandb\u001b[0m: \u001b[33mWARNING\u001b[0m Config item 'IMAGE_SIZE' was locked by 'sweep' (ignored update).\n",
      "\u001b[34m\u001b[1mwandb\u001b[0m: \u001b[33mWARNING\u001b[0m Config item 'EPOCH' was locked by 'sweep' (ignored update).\n",
      "\u001b[34m\u001b[1mwandb\u001b[0m: \u001b[33mWARNING\u001b[0m Config item 'rate_coding' was locked by 'sweep' (ignored update).\n",
      "\u001b[34m\u001b[1mwandb\u001b[0m: \u001b[33mWARNING\u001b[0m Config item 'pre_spike_weight' was locked by 'sweep' (ignored update).\n",
      "\u001b[34m\u001b[1mwandb\u001b[0m: \u001b[33mWARNING\u001b[0m Config item 'dvs_duration' was locked by 'sweep' (ignored update).\n",
      "\u001b[34m\u001b[1mwandb\u001b[0m: \u001b[33mWARNING\u001b[0m Config item 'dvs_clipping' was locked by 'sweep' (ignored update).\n",
      "\u001b[34m\u001b[1mwandb\u001b[0m: \u001b[33mWARNING\u001b[0m Config item 'no_reservoir' was locked by 'sweep' (ignored update).\n",
      "\u001b[34m\u001b[1mwandb\u001b[0m: \u001b[33mWARNING\u001b[0m Config item 'FC_RESERVOIR' was locked by 'sweep' (ignored update).\n"
     ]
    },
    {
     "name": "stdout",
     "output_type": "stream",
     "text": [
      "The directory [/data2/gesture/duration_100000] already exists.\n",
      "The directory [/data2/gesture/duration_100000] already exists.\n",
      "RESERVOIR_NET(\n",
      "  (reservoir): RESERVOIR(\n",
      "    (reservoir): Linear(in_features=4608, out_features=4608, bias=True)\n",
      "  )\n",
      "  (classifier): Linear(in_features=4608, out_features=10, bias=True)\n",
      ")\n",
      "Epoch 1\n",
      "Train Accuracy: 35.81%\n",
      "Test loss: 1.527, Val Accuracy: 49.24%\n",
      "Epoch 2\n",
      "Train Accuracy: 56.22%\n",
      "Test loss: 1.361, Val Accuracy: 51.89%\n",
      "Epoch 3\n",
      "Train Accuracy: 58.72%\n",
      "Test loss: 1.241, Val Accuracy: 53.79%\n",
      "Epoch 4\n",
      "Train Accuracy: 66.42%\n",
      "Test loss: 1.174, Val Accuracy: 57.20%\n",
      "Epoch 5\n",
      "Train Accuracy: 71.52%\n",
      "Test loss: 1.125, Val Accuracy: 61.74%\n",
      "Epoch 6\n",
      "Train Accuracy: 71.99%\n",
      "Test loss: 1.100, Val Accuracy: 57.20%\n",
      "Epoch 7\n",
      "Train Accuracy: 74.58%\n",
      "Test loss: 1.112, Val Accuracy: 59.09%\n",
      "Epoch 8\n",
      "Train Accuracy: 76.72%\n",
      "Test loss: 1.082, Val Accuracy: 61.36%\n",
      "Epoch 9\n",
      "Train Accuracy: 80.33%\n",
      "Test loss: 1.073, Val Accuracy: 60.98%\n",
      "Epoch 10\n",
      "Train Accuracy: 82.19%\n",
      "Test loss: 1.045, Val Accuracy: 62.88%\n",
      "Epoch 11\n",
      "Train Accuracy: 84.14%\n",
      "Test loss: 1.008, Val Accuracy: 66.67%\n",
      "Epoch 12\n",
      "Train Accuracy: 85.99%\n",
      "Test loss: 0.975, Val Accuracy: 67.05%\n",
      "Epoch 13\n",
      "Train Accuracy: 87.01%\n",
      "Test loss: 0.990, Val Accuracy: 64.39%\n",
      "Epoch 14\n",
      "Train Accuracy: 87.38%\n",
      "Test loss: 0.970, Val Accuracy: 67.05%\n",
      "Epoch 15\n",
      "Train Accuracy: 89.61%\n",
      "Test loss: 0.958, Val Accuracy: 68.18%\n",
      "Epoch 16\n",
      "Train Accuracy: 90.35%\n",
      "Test loss: 0.951, Val Accuracy: 68.56%\n",
      "Epoch 17\n",
      "Train Accuracy: 91.00%\n",
      "Test loss: 0.947, Val Accuracy: 66.67%\n",
      "Epoch 18\n",
      "Train Accuracy: 90.82%\n",
      "Test loss: 0.936, Val Accuracy: 67.42%\n",
      "Epoch 19\n",
      "Train Accuracy: 92.21%\n",
      "Test loss: 0.955, Val Accuracy: 70.45%\n",
      "Epoch 20\n",
      "Train Accuracy: 92.67%\n",
      "Test loss: 0.929, Val Accuracy: 69.32%\n"
     ]
    },
    {
     "data": {
      "application/vnd.jupyter.widget-view+json": {
       "model_id": "a041742f5a5249a3ab7c71bda662e1ea",
       "version_major": 2,
       "version_minor": 0
      },
      "text/plain": [
       "VBox(children=(Label(value='0.326 MB of 0.326 MB uploaded\\r'), FloatProgress(value=1.0, max=1.0)))"
      ]
     },
     "metadata": {},
     "output_type": "display_data"
    },
    {
     "data": {
      "text/html": [
       "<style>\n",
       "    table.wandb td:nth-child(1) { padding: 0 10px; text-align: left ; width: auto;} td:nth-child(2) {text-align: left ; width: 100%}\n",
       "    .wandb-row { display: flex; flex-direction: row; flex-wrap: wrap; justify-content: flex-start; width: 100% }\n",
       "    .wandb-col { display: flex; flex-direction: column; flex-basis: 100%; flex: 1; padding: 10px; }\n",
       "    </style>\n",
       "<div class=\"wandb-row\"><div class=\"wandb-col\"><h3>Run history:</h3><br/><table class=\"wandb\"><tr><td>epoch</td><td>▁▁▂▂▂▃▃▄▄▄▅▅▅▆▆▇▇▇██</td></tr><tr><td>iter_accuracy</td><td>▁▃▄▆▅▅▅▆▅▇▅▃▆▆▅▅▇▅▆▇▇▇▇▇▇▇▇▆▇▇▇▇▇██▇██▇█</td></tr><tr><td>tr_accuracy</td><td>▁▄▄▅▅▅▆▆▆▇▇▇▇▇██████</td></tr><tr><td>val_accuracy</td><td>▁▂▃▄▅▄▄▅▅▆▇▇▆▇▇▇▇▇██</td></tr></table><br/></div><div class=\"wandb-col\"><h3>Run summary:</h3><br/><table class=\"wandb\"><tr><td>epoch</td><td>19</td></tr><tr><td>iter_accuracy</td><td>100.0</td></tr><tr><td>tr_accuracy</td><td>92.67161</td></tr><tr><td>val_accuracy</td><td>69.31818</td></tr></table><br/></div></div>"
      ],
      "text/plain": [
       "<IPython.core.display.HTML object>"
      ]
     },
     "metadata": {},
     "output_type": "display_data"
    },
    {
     "data": {
      "text/html": [
       " View run <strong style=\"color:#cdcd00\">peachy-sweep-84</strong> at: <a href='https://wandb.ai/bhkim003-seoul-national-university/reservoir/runs/n0fazjj9' target=\"_blank\">https://wandb.ai/bhkim003-seoul-national-university/reservoir/runs/n0fazjj9</a><br/> View project at: <a href='https://wandb.ai/bhkim003-seoul-national-university/reservoir' target=\"_blank\">https://wandb.ai/bhkim003-seoul-national-university/reservoir</a><br/>Synced 7 W&B file(s), 0 media file(s), 0 artifact file(s) and 1 other file(s)"
      ],
      "text/plain": [
       "<IPython.core.display.HTML object>"
      ]
     },
     "metadata": {},
     "output_type": "display_data"
    },
    {
     "data": {
      "text/html": [
       "Find logs at: <code>./wandb/run-20240728_191008-n0fazjj9/logs</code>"
      ],
      "text/plain": [
       "<IPython.core.display.HTML object>"
      ]
     },
     "metadata": {},
     "output_type": "display_data"
    },
    {
     "data": {
      "text/html": [
       "The new W&B backend becomes opt-out in version 0.18.0; try it out with `wandb.require(\"core\")`! See https://wandb.me/wandb-core for more information."
      ],
      "text/plain": [
       "<IPython.core.display.HTML object>"
      ]
     },
     "metadata": {},
     "output_type": "display_data"
    },
    {
     "name": "stderr",
     "output_type": "stream",
     "text": [
      "\u001b[34m\u001b[1mwandb\u001b[0m: Sweep Agent: Waiting for job.\n",
      "\u001b[34m\u001b[1mwandb\u001b[0m: Job received.\n",
      "\u001b[34m\u001b[1mwandb\u001b[0m: Agent Starting Run: m2oeex7q with config:\n",
      "\u001b[34m\u001b[1mwandb\u001b[0m: \tEPOCH: 20\n",
      "\u001b[34m\u001b[1mwandb\u001b[0m: \tFC_RESERVOIR: True\n",
      "\u001b[34m\u001b[1mwandb\u001b[0m: \tIMAGE_SIZE: 128\n",
      "\u001b[34m\u001b[1mwandb\u001b[0m: \tbatch_size: 16\n",
      "\u001b[34m\u001b[1mwandb\u001b[0m: \tdata_path: /data2\n",
      "\u001b[34m\u001b[1mwandb\u001b[0m: \tdecay: 0.913573554795152\n",
      "\u001b[34m\u001b[1mwandb\u001b[0m: \tdvs_clipping: True\n",
      "\u001b[34m\u001b[1mwandb\u001b[0m: \tdvs_duration: 100000\n",
      "\u001b[34m\u001b[1mwandb\u001b[0m: \tlearning_rate: 0.001383271187433418\n",
      "\u001b[34m\u001b[1mwandb\u001b[0m: \tno_reservoir: False\n",
      "\u001b[34m\u001b[1mwandb\u001b[0m: \tpre_spike_weight: 8.225096453021752\n",
      "\u001b[34m\u001b[1mwandb\u001b[0m: \trate_coding: False\n",
      "\u001b[34m\u001b[1mwandb\u001b[0m: \ttime_step: 8\n",
      "\u001b[34m\u001b[1mwandb\u001b[0m: \twhich_data: DVS_GESTURE\n",
      "Failed to detect the name of this notebook, you can set it manually with the WANDB_NOTEBOOK_NAME environment variable to enable code saving.\n"
     ]
    },
    {
     "data": {
      "text/html": [
       "Tracking run with wandb version 0.17.5"
      ],
      "text/plain": [
       "<IPython.core.display.HTML object>"
      ]
     },
     "metadata": {},
     "output_type": "display_data"
    },
    {
     "data": {
      "text/html": [
       "Run data is saved locally in <code>/nfs/home/bhkim003/github_folder/ByeonghyeonKim/my_snn/wandb/run-20240728_192459-m2oeex7q</code>"
      ],
      "text/plain": [
       "<IPython.core.display.HTML object>"
      ]
     },
     "metadata": {},
     "output_type": "display_data"
    },
    {
     "data": {
      "text/html": [
       "Syncing run <strong><a href='https://wandb.ai/bhkim003-seoul-national-university/reservoir/runs/m2oeex7q' target=\"_blank\">dainty-sweep-85</a></strong> to <a href='https://wandb.ai/bhkim003-seoul-national-university/reservoir' target=\"_blank\">Weights & Biases</a> (<a href='https://wandb.me/run' target=\"_blank\">docs</a>)<br/>Sweep page: <a href='https://wandb.ai/bhkim003-seoul-national-university/reservoir/sweeps/sxt07a51' target=\"_blank\">https://wandb.ai/bhkim003-seoul-national-university/reservoir/sweeps/sxt07a51</a>"
      ],
      "text/plain": [
       "<IPython.core.display.HTML object>"
      ]
     },
     "metadata": {},
     "output_type": "display_data"
    },
    {
     "data": {
      "text/html": [
       " View project at <a href='https://wandb.ai/bhkim003-seoul-national-university/reservoir' target=\"_blank\">https://wandb.ai/bhkim003-seoul-national-university/reservoir</a>"
      ],
      "text/plain": [
       "<IPython.core.display.HTML object>"
      ]
     },
     "metadata": {},
     "output_type": "display_data"
    },
    {
     "data": {
      "text/html": [
       " View sweep at <a href='https://wandb.ai/bhkim003-seoul-national-university/reservoir/sweeps/sxt07a51' target=\"_blank\">https://wandb.ai/bhkim003-seoul-national-university/reservoir/sweeps/sxt07a51</a>"
      ],
      "text/plain": [
       "<IPython.core.display.HTML object>"
      ]
     },
     "metadata": {},
     "output_type": "display_data"
    },
    {
     "data": {
      "text/html": [
       " View run at <a href='https://wandb.ai/bhkim003-seoul-national-university/reservoir/runs/m2oeex7q' target=\"_blank\">https://wandb.ai/bhkim003-seoul-national-university/reservoir/runs/m2oeex7q</a>"
      ],
      "text/plain": [
       "<IPython.core.display.HTML object>"
      ]
     },
     "metadata": {},
     "output_type": "display_data"
    },
    {
     "name": "stderr",
     "output_type": "stream",
     "text": [
      "\u001b[34m\u001b[1mwandb\u001b[0m: \u001b[33mWARNING\u001b[0m Config item 'data_path' was locked by 'sweep' (ignored update).\n",
      "\u001b[34m\u001b[1mwandb\u001b[0m: \u001b[33mWARNING\u001b[0m Config item 'which_data' was locked by 'sweep' (ignored update).\n",
      "\u001b[34m\u001b[1mwandb\u001b[0m: \u001b[33mWARNING\u001b[0m Config item 'learning_rate' was locked by 'sweep' (ignored update).\n",
      "\u001b[34m\u001b[1mwandb\u001b[0m: \u001b[33mWARNING\u001b[0m Config item 'IMAGE_SIZE' was locked by 'sweep' (ignored update).\n",
      "\u001b[34m\u001b[1mwandb\u001b[0m: \u001b[33mWARNING\u001b[0m Config item 'EPOCH' was locked by 'sweep' (ignored update).\n",
      "\u001b[34m\u001b[1mwandb\u001b[0m: \u001b[33mWARNING\u001b[0m Config item 'rate_coding' was locked by 'sweep' (ignored update).\n",
      "\u001b[34m\u001b[1mwandb\u001b[0m: \u001b[33mWARNING\u001b[0m Config item 'pre_spike_weight' was locked by 'sweep' (ignored update).\n",
      "\u001b[34m\u001b[1mwandb\u001b[0m: \u001b[33mWARNING\u001b[0m Config item 'dvs_duration' was locked by 'sweep' (ignored update).\n",
      "\u001b[34m\u001b[1mwandb\u001b[0m: \u001b[33mWARNING\u001b[0m Config item 'dvs_clipping' was locked by 'sweep' (ignored update).\n",
      "\u001b[34m\u001b[1mwandb\u001b[0m: \u001b[33mWARNING\u001b[0m Config item 'no_reservoir' was locked by 'sweep' (ignored update).\n",
      "\u001b[34m\u001b[1mwandb\u001b[0m: \u001b[33mWARNING\u001b[0m Config item 'FC_RESERVOIR' was locked by 'sweep' (ignored update).\n"
     ]
    },
    {
     "name": "stdout",
     "output_type": "stream",
     "text": [
      "The directory [/data2/gesture/duration_100000] already exists.\n",
      "The directory [/data2/gesture/duration_100000] already exists.\n",
      "RESERVOIR_NET(\n",
      "  (reservoir): RESERVOIR(\n",
      "    (reservoir): Linear(in_features=32768, out_features=32768, bias=True)\n",
      "  )\n",
      "  (classifier): Linear(in_features=32768, out_features=10, bias=True)\n",
      ")\n",
      "Epoch 1\n",
      "Train Accuracy: 47.50%\n",
      "Test loss: 1.362, Val Accuracy: 53.03%\n",
      "Epoch 2\n",
      "Train Accuracy: 70.69%\n",
      "Test loss: 1.096, Val Accuracy: 59.09%\n",
      "Epoch 3\n",
      "Train Accuracy: 80.80%\n",
      "Test loss: 1.037, Val Accuracy: 60.23%\n",
      "Epoch 4\n",
      "Train Accuracy: 84.23%\n",
      "Test loss: 0.991, Val Accuracy: 65.91%\n",
      "Epoch 5\n",
      "Train Accuracy: 90.63%\n",
      "Test loss: 0.978, Val Accuracy: 65.15%\n",
      "Epoch 6\n",
      "Train Accuracy: 93.04%\n",
      "Test loss: 0.883, Val Accuracy: 66.67%\n",
      "Epoch 7\n",
      "Train Accuracy: 96.20%\n",
      "Test loss: 0.847, Val Accuracy: 67.05%\n",
      "Epoch 8\n",
      "Train Accuracy: 96.20%\n",
      "Test loss: 0.904, Val Accuracy: 71.59%\n",
      "Epoch 9\n",
      "Train Accuracy: 98.24%\n",
      "Test loss: 0.958, Val Accuracy: 68.18%\n",
      "Epoch 10\n",
      "Train Accuracy: 98.89%\n",
      "Test loss: 0.949, Val Accuracy: 68.18%\n",
      "Epoch 11\n",
      "Train Accuracy: 98.89%\n",
      "Test loss: 0.840, Val Accuracy: 73.48%\n",
      "Epoch 12\n",
      "Train Accuracy: 99.17%\n",
      "Test loss: 0.856, Val Accuracy: 71.59%\n",
      "Epoch 13\n",
      "Train Accuracy: 99.54%\n",
      "Test loss: 0.869, Val Accuracy: 71.21%\n",
      "Epoch 14\n",
      "Train Accuracy: 99.44%\n",
      "Test loss: 0.845, Val Accuracy: 71.21%\n",
      "Epoch 15\n",
      "Train Accuracy: 99.91%\n",
      "Test loss: 0.841, Val Accuracy: 68.94%\n",
      "Epoch 16\n",
      "Train Accuracy: 100.00%\n",
      "Test loss: 0.831, Val Accuracy: 72.73%\n",
      "Epoch 17\n",
      "Train Accuracy: 100.00%\n",
      "Test loss: 0.818, Val Accuracy: 73.11%\n",
      "Epoch 18\n",
      "Train Accuracy: 100.00%\n"
     ]
    }
   ],
   "source": [
    "# sweep하고싶을 때\n",
    "def sweep_cover(data_path='/data2', which_data='CIFAR10', gpu = '2', learning_rate = 0.0001, BATCH=5, IMAGE_SIZE=28, TIME_STEP=8, EPOCH=3, rate_coding=True, v_decay= 0.6,\n",
    "v_threshold=1, v_reset=0, hard_reset=True, pre_spike_weight=1, dvs_duration=1000000, dvs_clipping=True, no_reservoir = False, FC_RESERVOIR=False):\n",
    "    \n",
    "    wandb.init(save_code = True)\n",
    "\n",
    "    learning_rate  =  wandb.config.learning_rate\n",
    "    BATCH  =  wandb.config.batch_size\n",
    "    TIME_STEP  =  wandb.config.time_step\n",
    "    v_decay  =  wandb.config.decay\n",
    "    pre_spike_weight  =  wandb.config.pre_spike_weight\n",
    "    which_data  =  wandb.config.which_data\n",
    "    data_path  =  wandb.config.data_path\n",
    "    rate_coding  =  wandb.config.rate_coding\n",
    "    EPOCH  =  wandb.config.EPOCH\n",
    "    IMAGE_SIZE  =  wandb.config.IMAGE_SIZE\n",
    "    dvs_duration  =  wandb.config.dvs_duration\n",
    "    dvs_clipping  =  wandb.config.dvs_clipping\n",
    "    no_reservoir  =  wandb.config.no_reservoir\n",
    "    FC_RESERVOIR  =  wandb.config.FC_RESERVOIR\n",
    "    main(data_path=data_path, which_data=which_data, gpu = gpu, learning_rate = learning_rate, BATCH=BATCH, IMAGE_SIZE=IMAGE_SIZE, TIME_STEP=TIME_STEP, EPOCH=EPOCH, rate_coding=rate_coding, v_decay= v_decay,\n",
    "v_threshold=v_threshold, v_reset=v_reset, hard_reset=hard_reset, pre_spike_weight=pre_spike_weight, dvs_duration=dvs_duration, dvs_clipping=dvs_clipping, no_reservoir = no_reservoir, FC_RESERVOIR=FC_RESERVOIR)\n",
    "\n",
    "\n",
    "\n",
    "which_data_hyper = 'DVS_GESTURE' # 'MNIST', 'CIFAR10' ', 'FASHION_MNIST', 'DVS_GESTURE'\n",
    "data_path_hyper = '/data2'\n",
    "\n",
    "sweep_configuration = {\n",
    "    'method': 'bayes',\n",
    "    'name': which_data_hyper,\n",
    "    'metric': {'goal': 'maximize', 'name': 'val_accuracy'},\n",
    "    'parameters': \n",
    "    {\n",
    "        \"learning_rate\": {\"min\": 0.00001, \"max\": 0.1},\n",
    "        \"batch_size\": {\"values\": [16, 32, 64, 128, 256]},\n",
    "        \"time_step\": {\"values\": [4,5,6,7,8]},\n",
    "        \"decay\": {\"min\": 0.25, \"max\": 1.0},\n",
    "        \"pre_spike_weight\": {\"min\": 0.5, \"max\": 10.0},\n",
    "        \"which_data\": {\"values\": [which_data_hyper]},\n",
    "        \"data_path\": {\"values\": [data_path_hyper]},\n",
    "        \"rate_coding\": {\"values\": [True, False]},\n",
    "        \"EPOCH\": {\"values\": [20]},\n",
    "        \"IMAGE_SIZE\": {\"values\": [16,32,48,128]},\n",
    "        \"dvs_duration\": {\"values\": [100000]},\n",
    "        \"dvs_clipping\": {\"values\": [True]},\n",
    "        \"no_reservoir\": {\"values\": [True, False]},\n",
    "        \"FC_RESERVOIR\": {\"values\": [True]},\n",
    "     }\n",
    "}\n",
    "\n",
    "sweep_id = wandb.sweep(sweep=sweep_configuration, project=f'reservoir')\n",
    "wandb.agent(sweep_id, function=sweep_cover, count=10000)"
   ]
  },
  {
   "cell_type": "code",
   "execution_count": null,
   "metadata": {},
   "outputs": [],
   "source": [
    "# # SAVE하기\n",
    "\n",
    "# # Import\n",
    "# import wandb\n",
    "# # Save your model.\n",
    "# torch.save(model.state_dict(), 'save/to/path/model.pth')\n",
    "# # Save as artifact for version control.\n",
    "# run = wandb.init(project='your-project-name')\n",
    "# artifact = wandb.Artifact('model', type='model')\n",
    "# artifact.add_file('save/to/path/model.pth')\n",
    "# run.log_artifact(artifact)\n",
    "# run.finish()\n",
    "\n",
    "\n",
    "# # LOAD 하기\n",
    "\n",
    "# import wandb\n",
    "# run = wandb.init()\n",
    "\n",
    "\n",
    "# artifact = run.use_artifact('entity/your-project-name/model:v0', type='model')\n",
    "# artifact_dir = artifact.download()\n",
    "\n",
    "\n",
    "# run.finish()\n"
   ]
  }
 ],
 "metadata": {
  "kernelspec": {
   "display_name": "nfs",
   "language": "python",
   "name": "python3"
  },
  "language_info": {
   "codemirror_mode": {
    "name": "ipython",
    "version": 3
   },
   "file_extension": ".py",
   "mimetype": "text/x-python",
   "name": "python",
   "nbconvert_exporter": "python",
   "pygments_lexer": "ipython3",
   "version": "3.8.18"
  }
 },
 "nbformat": 4,
 "nbformat_minor": 2
}
