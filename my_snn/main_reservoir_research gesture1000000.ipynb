{
 "cells": [
  {
   "cell_type": "code",
   "execution_count": 1,
   "metadata": {},
   "outputs": [],
   "source": [
    "# BATCH:256\n",
    "# batch_size:256\n",
    "# data_path:\"/data2\"\n",
    "# decay:0.7834769413661389\n",
    "# EPOCH:20\n",
    "# hard_reset:true\n",
    "# IMAGE_SIZE:32\n",
    "# learning_rate:0.007176761798504128\n",
    "# pre_spike_weight:5.165214142219577\n",
    "# rate_coding:true\n",
    "# TIME_STEP:9\n",
    "# time_step:9\n",
    "# v_decay:0.7834769413661389\n",
    "# v_reset:0\n",
    "# v_threshold:1\n",
    "# which_data:\"CIFAR10\"\n",
    "\n",
    "\n",
    "# BATCH:256\n",
    "# batch_size:256\n",
    "# data_path:\"/data2\"\n",
    "# decay:0.38993471232202725\n",
    "# EPOCH:20\n",
    "# hard_reset:true\n",
    "# IMAGE_SIZE:28\n",
    "# learning_rate:0.06285718352377828\n",
    "# pre_spike_weight:6.21970124592063\n",
    "# rate_coding:true\n",
    "# TIME_STEP:16\n",
    "# time_step:16\n",
    "# v_decay:0.38993471232202725\n",
    "# v_reset:0\n",
    "# v_threshold:1\n",
    "# which_data:\"MNIST\"\n",
    "\n",
    "# BATCH:64\n",
    "# batch_size:64\n",
    "# data_path:\"/data2\"\n",
    "# decay:0.9266077968579136\n",
    "# EPOCH:20\n",
    "# hard_reset:true\n",
    "# IMAGE_SIZE:28\n",
    "# learning_rate:0.07732456724854177\n",
    "# pre_spike_weight:1.5377416716615555\n",
    "# rate_coding:true\n",
    "# TIME_STEP:7\n",
    "# time_step:7\n",
    "# v_decay:0.9266077968579136\n",
    "# v_reset:0\n",
    "# v_threshold:1\n",
    "# which_data:\"FASHION_MNIST\""
   ]
  },
  {
   "cell_type": "code",
   "execution_count": 2,
   "metadata": {},
   "outputs": [],
   "source": [
    "# Copyright (c) 2024 Byeonghyeon Kim \n",
    "# github site: https://github.com/bhkim003/ByeonghyeonKim\n",
    "# email: bhkim003@snu.ac.kr\n",
    " \n",
    "# Permission is hereby granted, free of charge, to any person obtaining a copy of\n",
    "# this software and associated documentation files (the \"Software\"), to deal in\n",
    "# the Software without restriction, including without limitation the rights to\n",
    "# use, copy, modify, merge, publish, distribute, sublicense, and/or sell copies of\n",
    "# the Software, and to permit persons to whom the Software is furnished to do so,\n",
    "# subject to the following conditions:\n",
    " \n",
    "# The above copyright notice and this permission notice shall be included in all\n",
    "# copies or substantial portions of the Software.\n",
    " \n",
    "# THE SOFTWARE IS PROVIDED \"AS IS\", WITHOUT WARRANTY OF ANY KIND, EXPRESS OR\n",
    "# IMPLIED, INCLUDING BUT NOT LIMITED TO THE WARRANTIES OF MERCHANTABILITY, FITNESS\n",
    "# FOR A PARTICULAR PURPOSE AND NONINFRINGEMENT. IN NO EVENT SHALL THE AUTHORS OR\n",
    "# COPYRIGHT HOLDERS BE LIABLE FOR ANY CLAIM, DAMAGES OR OTHER LIABILITY, WHETHER\n",
    "# IN AN ACTION OF CONTRACT, TORT OR OTHERWISE, ARISING FROM, OUT OF OR IN\n",
    "# CONNECTION WITH THE SOFTWARE OR THE USE OR OTHER DEALINGS IN THE SOFTWARE.\n"
   ]
  },
  {
   "cell_type": "code",
   "execution_count": 3,
   "metadata": {},
   "outputs": [],
   "source": [
    "import sys\n",
    "import os\n",
    "import torch\n",
    "import torch.nn as nn\n",
    "import torch.nn.functional as F\n",
    "import torch.backends.cudnn as cudnn\n",
    "import torch.optim as optim\n",
    "import torch.optim.lr_scheduler as lr_scheduler\n",
    "from torch.utils.data import Dataset, DataLoader\n",
    "\n",
    "import torchvision\n",
    "import torchvision.datasets\n",
    "import torchvision.transforms as transforms\n",
    "\n",
    "import numpy as np\n",
    "import matplotlib.pyplot as plt\n",
    "\n",
    "\n",
    "from snntorch import spikegen\n",
    "\n",
    " \n",
    "import wandb"
   ]
  },
  {
   "cell_type": "code",
   "execution_count": 4,
   "metadata": {},
   "outputs": [
    {
     "data": {
      "image/png": "[encoded data removed]",
      "text/plain": [
       "<Figure size 800x600 with 2 Axes>"
      ]
     },
     "metadata": {},
     "output_type": "display_data"
    }
   ],
   "source": [
    "# my module import\n",
    "from modules import *"
   ]
  },
  {
   "cell_type": "code",
   "execution_count": 5,
   "metadata": {},
   "outputs": [],
   "source": [
    "    \n",
    "class RESERVOIR(nn.Module):\n",
    "    def __init__ (self, TIME_STEP=8, in_spike_size=28, in_channel=1, receptive_size=3, v_init=0, v_decay=0.6, v_threshold=1, v_reset=0, hard_reset=True, pre_spike_weight=1):\n",
    "        super(RESERVOIR, self).__init__()\n",
    "        self.TIME_STEP = TIME_STEP\n",
    "        self.in_spike_size = in_spike_size\n",
    "        self.in_channel = in_channel\n",
    "        self.receptive_size = receptive_size #3\n",
    "        self.v_init = v_init\n",
    "        self.v_decay = v_decay\n",
    "        self.v_threshold = v_threshold\n",
    "        self.v_reset = v_reset\n",
    "        self.hard_reset = hard_reset\n",
    "        self.pre_spike_weight = pre_spike_weight\n",
    "\n",
    "        self.out_channel = 1\n",
    "\n",
    "        # 파라미터 \n",
    "        self.conv_depthwise = nn.Conv2d(in_channels=self.in_channel, out_channels=self.in_channel, \n",
    "                                        kernel_size=self.receptive_size, \n",
    "                                        stride=1, padding=1, groups=self.in_channel)\n",
    "\n",
    "        # kaiming 초기화\n",
    "        nn.init.kaiming_normal_(self.conv_depthwise.weight, mode='fan_out', nonlinearity='relu')\n",
    "        nn.init.constant_(self.conv_depthwise.bias, 0)\n",
    "\n",
    "        # membrane potential 초기화\n",
    "        self.v = torch.full((self.in_channel, self.in_spike_size, self.in_spike_size), fill_value=self.v_init, requires_grad=False)\n",
    "\n",
    "        \n",
    "    def forward(self, pre_spike):    \n",
    "        # pre_spike [TIME_STEP, batch_size, in_channel, in_spike_size, in_spike_size]\n",
    "\n",
    "        v = torch.full_like(pre_spike[0], fill_value=self.v_init, requires_grad=False)\n",
    "        post_spike = torch.zeros_like(pre_spike[0], requires_grad=False)\n",
    "        # v [batch_size, in_channel, in_spike_size, in_spike_size]\n",
    "        # recurrent [batch_size, in_channel, in_spike_size, in_spike_size]\n",
    "\n",
    "        # timestep 안 맞으면 종료\n",
    "        assert pre_spike.size(0) == self.TIME_STEP, f\"Time step mismatch: {pre_spike.size(0)} vs {self.TIME_STEP}\"\n",
    "\n",
    "        output = []\n",
    "        for t in range (self.TIME_STEP):\n",
    "            # pre_spike[t] [batch_size, in_channel, in_spike_size, in_spike_size]\n",
    "            input_current = self.pre_spike_weight * pre_spike[t]\n",
    "            recurrent_current = self.conv_depthwise(post_spike)\n",
    "            current = input_current + recurrent_current\n",
    "            # current [batch_size, in_channel, in_spike_size, in_spike_size] # kernel size 3이니까 사이즈 유지\n",
    "            \n",
    "            # decay and itegrate\n",
    "            v = v*self.v_decay + current\n",
    "\n",
    "            # post spike\n",
    "            post_spike = (v >= self.v_threshold).float()\n",
    "\n",
    "            output.append(post_spike)\n",
    "            \n",
    "            #reset\n",
    "            if self.hard_reset: # hard reset\n",
    "                v = (1 - post_spike)*v + post_spike*self.v_reset \n",
    "            else: # soft reset\n",
    "                v = v - post_spike*self.v_threshold\n",
    "\n",
    "        output = torch.stack(output, dim=0)\n",
    "        return output"
   ]
  },
  {
   "cell_type": "code",
   "execution_count": 6,
   "metadata": {},
   "outputs": [],
   "source": [
    "class NO_RESERVOIR_NET(nn.Module):\n",
    "    def __init__(self, TIME_STEP=8, CLASS_NUM=10, in_spike_size=28, in_channel=1, receptive_size=3, v_init=0, v_decay=0.6, v_threshold=1, v_reset=0, hard_reset=True, pre_spike_weight=1):\n",
    "        super(NO_RESERVOIR_NET, self).__init__()\n",
    "        self.TIME_STEP = TIME_STEP\n",
    "        self.reservoir = RESERVOIR(TIME_STEP = self.TIME_STEP, in_spike_size=in_spike_size, in_channel=in_channel, receptive_size=receptive_size, v_init=v_init, v_decay=v_decay, v_threshold=v_threshold, v_reset=v_reset, hard_reset=hard_reset, pre_spike_weight=pre_spike_weight)\n",
    "        self.linear = nn.Linear(in_features=in_channel*in_spike_size*in_spike_size, out_features=CLASS_NUM)\n",
    "\n",
    "    def forward(self, x):\n",
    "        # x size [batch_size, TIME_STEP, in_channel, in_spike_size, in_spike_size]\n",
    "        x = x.permute(1,0,2,3,4)\n",
    "        # x size [TIME_STEP, batch_size, in_channel, in_spike_size, in_spike_size]\n",
    "\n",
    "        # with torch.no_grad():\n",
    "        #     x = self.reservoir(x) # reservoir weight는 학습 안함\n",
    "\n",
    "        T, B, *spatial_dims = x.shape\n",
    "        x = x.reshape(T * B, -1) # time,batch 축은 합쳐서 FC에 삽입\n",
    "\n",
    "        x = self.linear(x)\n",
    "\n",
    "        x = x.view(T , B, -1).contiguous() \n",
    "        \n",
    "        x = x.mean(dim=0)\n",
    "        return x"
   ]
  },
  {
   "cell_type": "code",
   "execution_count": 7,
   "metadata": {},
   "outputs": [],
   "source": [
    "class RESERVOIR_NET(nn.Module):\n",
    "    def __init__(self, TIME_STEP=8, CLASS_NUM=10, in_spike_size=28, in_channel=1, receptive_size=3, v_init=0, v_decay=0.6, v_threshold=1, v_reset=0, hard_reset=True, pre_spike_weight=1):\n",
    "        super(RESERVOIR_NET, self).__init__()\n",
    "        self.TIME_STEP = TIME_STEP\n",
    "        self.reservoir = RESERVOIR(TIME_STEP = self.TIME_STEP, in_spike_size=in_spike_size, in_channel=in_channel, receptive_size=receptive_size, v_init=v_init, v_decay=v_decay, v_threshold=v_threshold, v_reset=v_reset, hard_reset=hard_reset, pre_spike_weight=pre_spike_weight)\n",
    "        self.linear = nn.Linear(in_features=in_channel*in_spike_size*in_spike_size, out_features=CLASS_NUM)\n",
    "\n",
    "    def forward(self, x):\n",
    "        # x size [batch_size, TIME_STEP, in_channel, in_spike_size, in_spike_size]\n",
    "        x = x.permute(1,0,2,3,4)\n",
    "        # x size [TIME_STEP, batch_size, in_channel, in_spike_size, in_spike_size]\n",
    "\n",
    "        with torch.no_grad():\n",
    "            x = self.reservoir(x) # reservoir weight는 학습 안함\n",
    "\n",
    "        T, B, *spatial_dims = x.shape\n",
    "        x = x.reshape(T * B, -1) # time,batch 축은 합쳐서 FC에 삽입\n",
    "\n",
    "        x = self.linear(x)\n",
    "\n",
    "        x = x.view(T , B, -1).contiguous() \n",
    "        \n",
    "        x = x.mean(dim=0)\n",
    "        return x"
   ]
  },
  {
   "cell_type": "code",
   "execution_count": 8,
   "metadata": {},
   "outputs": [],
   "source": [
    "def data_loader(which_data, data_path, rate_coding, BATCH, IMAGE_SIZE, TIME, dvs_duration, dvs_clipping):\n",
    "    if which_data == 'MNIST':\n",
    "        if rate_coding :\n",
    "            transform = transforms.Compose([transforms.Resize((IMAGE_SIZE, IMAGE_SIZE)),\n",
    "                                        transforms.ToTensor(),\n",
    "                                        transforms.Normalize((0,), (1,))])\n",
    "        else : \n",
    "            transform = transforms.Compose([transforms.Resize((IMAGE_SIZE, IMAGE_SIZE)),\n",
    "                                    transforms.ToTensor(),\n",
    "                                    transforms.Normalize((0.5,),(0.5))])\n",
    "\n",
    "        trainset = torchvision.datasets.MNIST(root=data_path,\n",
    "                                            train=True,\n",
    "                                            download=True,\n",
    "                                            transform=transform)\n",
    "\n",
    "\n",
    "        testset = torchvision.datasets.MNIST(root=data_path,\n",
    "                                            train=False,\n",
    "                                            download=True,\n",
    "                                            transform=transform)\n",
    "\n",
    "        train_loader = DataLoader(trainset,\n",
    "                                batch_size =BATCH,\n",
    "                                shuffle = True,\n",
    "                                num_workers =2)\n",
    "        test_loader = DataLoader(testset,\n",
    "                                batch_size =BATCH,\n",
    "                                shuffle = False,\n",
    "                                num_workers =2)\n",
    "        synapse_conv_in_channels = 1\n",
    "        CLASS_NUM = 10\n",
    "\n",
    "\n",
    "    \n",
    "\n",
    "    elif (which_data == 'CIFAR10'):\n",
    "\n",
    "        if rate_coding :\n",
    "            # transform_train = transforms.Compose([transforms.Resize((IMAGE_SIZE, IMAGE_SIZE)),\n",
    "            #                                     transforms.RandomHorizontalFlip(),\n",
    "            #                                     transforms.ToTensor()])\n",
    "\n",
    "            # transform_test = transforms.Compose([transforms.Resize((IMAGE_SIZE, IMAGE_SIZE)),\n",
    "            #                                     transforms.ToTensor()])\n",
    "            \n",
    "            transform_train = transforms.Compose([transforms.Resize((IMAGE_SIZE, IMAGE_SIZE)),\n",
    "                                                transforms.RandomHorizontalFlip(),\n",
    "                                                transforms.ToTensor()])\n",
    "                                            # transforms.Normalize((0.4914, 0.4822, 0.4465), (0.2023, 0.1994, 0.2010))\n",
    "\n",
    "            transform_test = transforms.Compose([transforms.Resize((IMAGE_SIZE, IMAGE_SIZE)),\n",
    "                                                transforms.ToTensor()])\n",
    "        \n",
    "        else :\n",
    "            # transform_train = transforms.Compose([transforms.Resize((IMAGE_SIZE, IMAGE_SIZE)),\n",
    "            #                                     transforms.RandomHorizontalFlip(),\n",
    "            #                                     transforms.ToTensor(),\n",
    "            #                                     transforms.Normalize((0.4914, 0.4822, 0.4465), (0.247, 0.243, 0.261))])\n",
    "            #                                 # transforms.Normalize((0.4914, 0.4822, 0.4465), (0.2023, 0.1994, 0.2010))\n",
    "\n",
    "            # transform_test = transforms.Compose([transforms.Resize((IMAGE_SIZE, IMAGE_SIZE)),\n",
    "            #                                     transforms.ToTensor(),\n",
    "            #                                     transforms.Normalize((0.4914, 0.4822, 0.4465), (0.247, 0.243, 0.261)),])\n",
    "            #                                 # transforms.Normalize((0.4914, 0.4822, 0.4465), (0.2023, 0.1994, 0.2010))\n",
    "            \n",
    "            # assert IMAGE_SIZE == 32, 'OTTT랑 맞짱뜰 때는 32로 ㄱ'\n",
    "            transform_train = transforms.Compose([\n",
    "                transforms.RandomCrop(IMAGE_SIZE, padding=4),\n",
    "                transforms.RandomHorizontalFlip(),\n",
    "                transforms.ToTensor(),\n",
    "                transforms.Normalize((0.4914, 0.4822, 0.4465),\n",
    "                                    (0.2023, 0.1994, 0.2010)),\n",
    "            ])\n",
    "            transform_test = transforms.Compose([\n",
    "                transforms.ToTensor(),\n",
    "                transforms.Normalize((0.4914, 0.4822, 0.4465),\n",
    "                                    (0.2023, 0.1994, 0.2010)),\n",
    "            ])\n",
    "\n",
    "        trainset = torchvision.datasets.CIFAR10(root=data_path,\n",
    "                                            train=True,\n",
    "                                            download=True,\n",
    "                                            transform=transform_train)\n",
    "\n",
    "\n",
    "        testset = torchvision.datasets.CIFAR10(root=data_path,\n",
    "                                            train=False,\n",
    "                                            download=True,\n",
    "                                            transform=transform_test)\n",
    "        \n",
    "        \n",
    "        train_loader = DataLoader(trainset,\n",
    "                                batch_size =BATCH,\n",
    "                                shuffle = True,\n",
    "                                num_workers =2)\n",
    "        test_loader = DataLoader(testset,\n",
    "                                batch_size =BATCH,\n",
    "                                shuffle = False,\n",
    "                                num_workers =2)\n",
    "        \n",
    "        synapse_conv_in_channels = 3\n",
    "        CLASS_NUM = 10\n",
    "        '''\n",
    "        classes = ('plane', 'car', 'bird', 'cat', 'deer',\n",
    "                'dog', 'frog', 'horse', 'ship', 'truck') \n",
    "        '''\n",
    "\n",
    "\n",
    "    elif (which_data == 'FASHION_MNIST'):\n",
    "\n",
    "        if rate_coding :\n",
    "            transform = transforms.Compose([transforms.Resize((IMAGE_SIZE, IMAGE_SIZE)),\n",
    "                                    transforms.ToTensor()])\n",
    "        else : \n",
    "            transform = transforms.Compose([transforms.Resize((IMAGE_SIZE, IMAGE_SIZE)),\n",
    "                                    transforms.ToTensor(),\n",
    "                                    transforms.Normalize((0.5,),(0.5))])\n",
    "\n",
    "        trainset = torchvision.datasets.FashionMNIST(root=data_path,\n",
    "                                            train=True,\n",
    "                                            download=True,\n",
    "                                            transform=transform)\n",
    "\n",
    "\n",
    "        testset = torchvision.datasets.FashionMNIST(root=data_path,\n",
    "                                            train=False,\n",
    "                                            download=True,\n",
    "                                            transform=transform)\n",
    "\n",
    "        train_loader = DataLoader(trainset,\n",
    "                                batch_size =BATCH,\n",
    "                                shuffle = True,\n",
    "                                num_workers =2)\n",
    "        test_loader = DataLoader(testset,\n",
    "                                batch_size =BATCH,\n",
    "                                shuffle = False,\n",
    "                                num_workers =2)\n",
    "        synapse_conv_in_channels = 1\n",
    "        CLASS_NUM = 10\n",
    "    elif (which_data == 'DVS_GESTURE'):\n",
    "        data_dir = data_path + '/gesture'\n",
    "        transform = None\n",
    "\n",
    "        # # spikingjelly.datasets.dvs128_gesture.DVS128Gesture(root: str, train: bool, use_frame=True, frames_num=10, split_by='number', normalization='max')\n",
    "       \n",
    "        #https://spikingjelly.readthedocs.io/zh-cn/latest/activation_based_en/neuromorphic_datasets.html\n",
    "        # 10ms마다 1개의 timestep하고 싶으면 위의 주소 참고. 근데 timestep이 각각 좀 다를 거임.\n",
    "\n",
    "        \n",
    "        if dvs_duration > 0:\n",
    "            resize_shape = (IMAGE_SIZE, IMAGE_SIZE)\n",
    "            train_data = CustomDVS128Gesture(\n",
    "                data_dir, train=True, data_type='frame',  split_by='time',  duration=dvs_duration, resize_shape=resize_shape, dvs_clipping=dvs_clipping, dvs_duration_copy=dvs_duration, TIME=TIME)\n",
    "            test_data = CustomDVS128Gesture(\n",
    "                data_dir, train=False, data_type='frame',  split_by='time',  duration=dvs_duration, resize_shape=resize_shape, dvs_clipping=dvs_clipping, dvs_duration_copy=dvs_duration, TIME=TIME)\n",
    "\n",
    "        else:\n",
    "            train_data = CustomDVS128Gesture(\n",
    "                data_dir, train=True, data_type='frame', split_by='number', frames_number=TIME, resize_shape=resize_shape, dvs_clipping=dvs_clipping, dvs_duration_copy=dvs_duration, TIME=TIME)\n",
    "            test_data = CustomDVS128Gesture(data_dir, train=False,\n",
    "                                            data_type='frame', split_by='number', frames_number=TIME, resize_shape=resize_shape, dvs_clipping=dvs_clipping, dvs_duration_copy=dvs_duration, TIME=TIME)\n",
    "        \n",
    "        exclude_class = 10\n",
    "        train_indices = [i for i, (_, target) in enumerate(train_data) if target != exclude_class]\n",
    "        test_indices = [i for i, (_, target) in enumerate(test_data) if target != exclude_class]\n",
    "    \n",
    "        # SubsetRandomSampler 생성\n",
    "        train_sampler = SubsetRandomSampler(train_indices)\n",
    "        test_sampler = SequentialSampler(test_indices)\n",
    "\n",
    "        # ([B, T, 2, 128, 128]) \n",
    "        train_loader = torch.utils.data.DataLoader(dataset=train_data, batch_size=BATCH, num_workers=2, sampler=train_sampler, collate_fn=pad_sequence_collate)\n",
    "        test_loader = torch.utils.data.DataLoader(dataset=test_data, batch_size=BATCH, num_workers=2, sampler=test_sampler, collate_fn=pad_sequence_collate)\n",
    "        synapse_conv_in_channels = 2\n",
    "        CLASS_NUM = 10\n",
    "        # mapping = { 0 :'Hand Clapping'  1 :'Right Hand Wave'2 :'Left Hand Wave' 3 :'Right Arm CW'   4 :'Right Arm CCW'  5 :'Left Arm CW'    6 :'Left Arm CCW'   7 :'Arm Roll'       8 :'Air Drums'      9 :'Air Guitar'     10:'Other'}\n",
    "\n",
    "\n",
    "    else:\n",
    "        assert False, 'wrong dataset name'\n",
    "\n",
    "\n",
    "    \n",
    "    return train_loader, test_loader, synapse_conv_in_channels, CLASS_NUM"
   ]
  },
  {
   "cell_type": "code",
   "execution_count": 9,
   "metadata": {},
   "outputs": [],
   "source": [
    "def train(model, train_loader, criterion, optimizer, device, rate_coding, TIME_STEP, which_data):\n",
    "    model.train()\n",
    "    running_loss = 0.0\n",
    "    correct = 0\n",
    "    total = 0\n",
    "    iterator = enumerate(train_loader, 0)\n",
    "    for i, data in iterator:\n",
    "    # for i, (inputs, labels) in enumerate(train_loader):\n",
    "        if len(data) == 2:\n",
    "            inputs, labels = data\n",
    "            # 처리 로직 작성\n",
    "        elif len(data) == 3:\n",
    "            inputs, labels, x_len = data\n",
    "\n",
    "        inputs, labels = inputs.to(device), labels.to(device)\n",
    "\n",
    "        # if rate_coding == True:\n",
    "        #     inputs = spikegen.rate(inputs, num_steps=TIME_STEP)\n",
    "        # else:\n",
    "        #     inputs = inputs.repeat(TIME_STEP, 1, 1, 1, 1)\n",
    "        \n",
    "\n",
    "        ###########################################################################################################################        \n",
    "        if (which_data == 'n_tidigits'):\n",
    "            inputs = inputs.permute(0, 1, 3, 2, 4)\n",
    "            labels = labels[:, 0, :]\n",
    "            labels = torch.argmax(labels, dim=1)\n",
    "        elif (which_data == 'heidelberg'):\n",
    "            inputs = inputs.view(5, 1000, 1, 700, 1)\n",
    "            print(\"\\n\\n\\n경고!!!! heidelberg 이거 타임스텝이랑 채널 잘 바꿔줘라!!!\\n\\n\\n\\n\")\n",
    "        # print('inputs',inputs.size(),'\\nlabels',labels.size())\n",
    "        # print(labels)\n",
    "            \n",
    "        if (which_data == 'DVS_CIFAR10' or which_data == 'DVS_GESTURE' or which_data == 'DVS_CIFAR10_2' or which_data == 'NMNIST' or which_data == 'N_CALTECH101' or which_data == 'n_tidigits' or which_data == 'heidelberg'):\n",
    "            inputs = inputs.permute(1, 0, 2, 3, 4)\n",
    "        elif rate_coding == True :\n",
    "            inputs = spikegen.rate(inputs, num_steps=TIME_STEP)\n",
    "        else :\n",
    "            inputs = inputs.repeat(TIME_STEP, 1, 1, 1, 1)\n",
    "        # inputs: [Time, Batch, Channel, Height, Width]  \n",
    "        ####################################################################################################################### \n",
    "\n",
    "        \n",
    "        \n",
    "        \n",
    "        \n",
    "        inputs = inputs.permute(1, 0, 2, 3, 4)\n",
    "        optimizer.zero_grad()\n",
    "        outputs = model(inputs)\n",
    "        loss = criterion(outputs, labels)\n",
    "        loss.backward()\n",
    "        optimizer.step()\n",
    "        running_loss += loss.item()\n",
    "        _, predicted = torch.max(outputs.data, 1)\n",
    "        total += labels.size(0)\n",
    "        iter_correct = (predicted == labels).sum().item()\n",
    "        correct += iter_correct\n",
    "        # if i % 100 == 99:\n",
    "        # print(f\"[{i+1}] loss: {running_loss / 100:.3f}\")\n",
    "        # running_loss = 0.0\n",
    "        iter_accuracy = 100 * iter_correct / labels.size(0)\n",
    "        wandb.log({\"iter_accuracy\": iter_accuracy})\n",
    "    tr_accuracy = 100 * correct / total         \n",
    "    wandb.log({\"tr_accuracy\": tr_accuracy})\n",
    "    print(f\"Train Accuracy: {tr_accuracy:.2f}%\")\n",
    "    \n",
    "def test(model, test_loader, criterion, device, rate_coding, TIME_STEP, which_data):\n",
    "    model.eval()\n",
    "    correct = 0\n",
    "    total = 0\n",
    "    test_loss = 0.0\n",
    "    iterator = enumerate(test_loader, 0)\n",
    "    with torch.no_grad():\n",
    "        for i, data in iterator:\n",
    "        # for inputs, labels in test_loader:\n",
    "            if len(data) == 2:\n",
    "                inputs, labels = data\n",
    "                # 처리 로직 작성\n",
    "            elif len(data) == 3:\n",
    "                inputs, labels, x_len = data\n",
    "                \n",
    "            inputs, labels = inputs.to(device), labels.to(device)\n",
    "\n",
    "            # if rate_coding == True:\n",
    "            #     inputs = spikegen.rate(inputs, num_steps=TIME_STEP)\n",
    "            # else:\n",
    "            #     inputs = inputs.repeat(TIME_STEP, 1, 1, 1, 1)\n",
    "\n",
    "        \n",
    "\n",
    "            ###########################################################################################################################        \n",
    "            if (which_data == 'n_tidigits'):\n",
    "                inputs = inputs.permute(0, 1, 3, 2, 4)\n",
    "                labels = labels[:, 0, :]\n",
    "                labels = torch.argmax(labels, dim=1)\n",
    "            elif (which_data == 'heidelberg'):\n",
    "                inputs = inputs.view(5, 1000, 1, 700, 1)\n",
    "                print(\"\\n\\n\\n경고!!!! heidelberg 이거 타임스텝이랑 채널 잘 바꿔줘라!!!\\n\\n\\n\\n\")\n",
    "            # print('inputs',inputs.size(),'\\nlabels',labels.size())\n",
    "            # print(labels)\n",
    "                \n",
    "            if (which_data == 'DVS_CIFAR10' or which_data == 'DVS_GESTURE' or which_data == 'DVS_CIFAR10_2' or which_data == 'NMNIST' or which_data == 'N_CALTECH101' or which_data == 'n_tidigits' or which_data == 'heidelberg'):\n",
    "                inputs = inputs.permute(1, 0, 2, 3, 4)\n",
    "            elif rate_coding == True :\n",
    "                inputs = spikegen.rate(inputs, num_steps=TIME_STEP)\n",
    "            else :\n",
    "                inputs = inputs.repeat(TIME_STEP, 1, 1, 1, 1)\n",
    "            # inputs: [Time, Batch, Channel, Height, Width]  \n",
    "            ####################################################################################################################### \n",
    "\n",
    "        \n",
    "\n",
    "\n",
    "            inputs = inputs.permute(1, 0, 2, 3, 4)\n",
    "        \n",
    "            outputs = model(inputs)\n",
    "            loss = criterion(outputs, labels)\n",
    "            test_loss += loss.item()\n",
    "            _, predicted = torch.max(outputs.data, 1)\n",
    "            total += labels.size(0)\n",
    "            correct += (predicted == labels).sum().item()\n",
    "    val_accuracy = 100 * correct / total\n",
    "    wandb.log({\"val_accuracy\": val_accuracy})\n",
    "    print(f\"Test loss: {test_loss / len(test_loader):.3f}, Accuracy: {val_accuracy:.2f}%\")\n"
   ]
  },
  {
   "cell_type": "code",
   "execution_count": 10,
   "metadata": {},
   "outputs": [],
   "source": [
    "def main(data_path='/data2', which_data='MNIST', gpu = '3',learning_rate = 0.0001, BATCH=5, IMAGE_SIZE=28, TIME_STEP=8, EPOCH=10, rate_coding=True, v_decay= 0.6,\n",
    "v_threshold=1, v_reset=0, hard_reset=True, pre_spike_weight=1, dvs_duration=1000000, dvs_clipping=True, no_reservoir = False):\n",
    "    os.environ[\"CUDA_VISIBLE_DEVICES\"]= gpu\n",
    "    # run = wandb.init(project=f'reservoir')\n",
    "\n",
    "    hyperparameters = locals()\n",
    "\n",
    "    wandb.config.update(hyperparameters)\n",
    "    wandb.run.name = f'{which_data}_sweeprun_epoch{EPOCH}'\n",
    "    wandb.run.log_code(\".\", include_fn=lambda path: path.endswith(\".py\") or path.endswith(\".ipynb\"))\n",
    "\n",
    "    train_loader, test_loader, in_channel, CLASS_NUM = data_loader(\n",
    "        which_data=which_data, data_path=data_path, rate_coding=rate_coding, BATCH=BATCH, IMAGE_SIZE=IMAGE_SIZE, TIME=TIME_STEP, dvs_duration=dvs_duration, dvs_clipping=dvs_clipping)\n",
    "\n",
    "    device = torch.device('cuda' if torch.cuda.is_available() else 'cpu')\n",
    "    if no_reservoir == True:\n",
    "        net = NO_RESERVOIR_NET(TIME_STEP=TIME_STEP, CLASS_NUM=CLASS_NUM, in_spike_size=IMAGE_SIZE, in_channel=in_channel, receptive_size=3, v_init=0, v_decay=v_decay, v_threshold=v_threshold, v_reset=v_reset, hard_reset=hard_reset, pre_spike_weight=pre_spike_weight)\n",
    "    else:\n",
    "        net = RESERVOIR_NET(TIME_STEP=TIME_STEP, CLASS_NUM=CLASS_NUM, in_spike_size=IMAGE_SIZE, in_channel=in_channel, receptive_size=3, v_init=0, v_decay=v_decay, v_threshold=v_threshold, v_reset=v_reset, hard_reset=hard_reset, pre_spike_weight=pre_spike_weight)\n",
    "    net = net.to(device)\n",
    "    wandb.watch(net, log=\"all\", log_freq = 1) #gradient, parameter logging해줌\n",
    "\n",
    "    criterion = nn.CrossEntropyLoss()\n",
    "    # optimizer = optim.Adam(net.parameters(), lr=learning_rate)\n",
    "    optimizer = optim.SGD(net.parameters(), lr=learning_rate, momentum=0.9, weight_decay=0)\n",
    "\n",
    "    print(net)\n",
    "\n",
    "    for epoch in range(EPOCH):\n",
    "        print(f\"Epoch {epoch+1}\")\n",
    "        train(net, train_loader, criterion, optimizer, device, rate_coding, TIME_STEP, which_data)\n",
    "        test(net, test_loader, criterion, device, rate_coding, TIME_STEP, which_data)\n",
    "        # torch.save(net.state_dict(), 'net_save/reservoir_net.pth')\n",
    "        # artifact = wandb.Artifact('model', type='model')\n",
    "        # artifact.add_file('net_save/reservoir_net.pth')\n",
    "        # run.log_artifact(artifact)\n"
   ]
  },
  {
   "cell_type": "code",
   "execution_count": 11,
   "metadata": {},
   "outputs": [],
   "source": [
    "# # sweep 하기 싫을 때\n",
    "# wandb.init(project=f'reservoir')\n",
    "# main(data_path='/data2', which_data='CIFAR10', gpu = '3', learning_rate = 0.0072, BATCH=256, IMAGE_SIZE=32, TIME_STEP=9, EPOCH=50, rate_coding=True, v_decay= 0.78,\n",
    "# v_threshold=1, v_reset=0, hard_reset=True, pre_spike_weight=5.0, dvs_duration=1000000, dvs_clipping=True, no_reservoir = False)"
   ]
  },
  {
   "cell_type": "code",
   "execution_count": 12,
   "metadata": {},
   "outputs": [
    {
     "name": "stderr",
     "output_type": "stream",
     "text": [
      "Failed to detect the name of this notebook, you can set it manually with the WANDB_NOTEBOOK_NAME environment variable to enable code saving.\n"
     ]
    },
    {
     "name": "stdout",
     "output_type": "stream",
     "text": [
      "Create sweep with ID: oqo7bwqd\n",
      "Sweep URL: https://wandb.ai/bhkim003-seoul-national-university/reservoir/sweeps/oqo7bwqd\n"
     ]
    },
    {
     "name": "stderr",
     "output_type": "stream",
     "text": [
      "\u001b[34m\u001b[1mwandb\u001b[0m: Agent Starting Run: fltzcvan with config:\n",
      "\u001b[34m\u001b[1mwandb\u001b[0m: \tEPOCH: 50\n",
      "\u001b[34m\u001b[1mwandb\u001b[0m: \tIMAGE_SIZE: 128\n",
      "\u001b[34m\u001b[1mwandb\u001b[0m: \tbatch_size: 16\n",
      "\u001b[34m\u001b[1mwandb\u001b[0m: \tdata_path: /data2\n",
      "\u001b[34m\u001b[1mwandb\u001b[0m: \tdecay: 0.923388226765121\n",
      "\u001b[34m\u001b[1mwandb\u001b[0m: \tdvs_clipping: True\n",
      "\u001b[34m\u001b[1mwandb\u001b[0m: \tdvs_duration: 1000000\n",
      "\u001b[34m\u001b[1mwandb\u001b[0m: \tlearning_rate: 0.0321303117407223\n",
      "\u001b[34m\u001b[1mwandb\u001b[0m: \tno_reservoir: False\n",
      "\u001b[34m\u001b[1mwandb\u001b[0m: \tpre_spike_weight: 4.950912228526025\n",
      "\u001b[34m\u001b[1mwandb\u001b[0m: \trate_coding: True\n",
      "\u001b[34m\u001b[1mwandb\u001b[0m: \ttime_step: 5\n",
      "\u001b[34m\u001b[1mwandb\u001b[0m: \twhich_data: DVS_GESTURE\n",
      "Failed to detect the name of this notebook, you can set it manually with the WANDB_NOTEBOOK_NAME environment variable to enable code saving.\n",
      "\u001b[34m\u001b[1mwandb\u001b[0m: Currently logged in as: \u001b[33mbhkim003\u001b[0m (\u001b[33mbhkim003-seoul-national-university\u001b[0m). Use \u001b[1m`wandb login --relogin`\u001b[0m to force relogin\n"
     ]
    },
    {
     "data": {
      "text/html": [
       "Tracking run with wandb version 0.17.5"
      ],
      "text/plain": [
       "<IPython.core.display.HTML object>"
      ]
     },
     "metadata": {},
     "output_type": "display_data"
    },
    {
     "data": {
      "text/html": [
       "Run data is saved locally in <code>/nfs/home/bhkim003/github_folder/ByeonghyeonKim/my_snn/wandb/run-20240726_110154-fltzcvan</code>"
      ],
      "text/plain": [
       "<IPython.core.display.HTML object>"
      ]
     },
     "metadata": {},
     "output_type": "display_data"
    },
    {
     "data": {
      "text/html": [
       "Syncing run <strong><a href='https://wandb.ai/bhkim003-seoul-national-university/reservoir/runs/fltzcvan' target=\"_blank\">fresh-sweep-100</a></strong> to <a href='https://wandb.ai/bhkim003-seoul-national-university/reservoir' target=\"_blank\">Weights & Biases</a> (<a href='https://wandb.me/run' target=\"_blank\">docs</a>)<br/>Sweep page: <a href='https://wandb.ai/bhkim003-seoul-national-university/reservoir/sweeps/0j0aowy8' target=\"_blank\">https://wandb.ai/bhkim003-seoul-national-university/reservoir/sweeps/0j0aowy8</a>"
      ],
      "text/plain": [
       "<IPython.core.display.HTML object>"
      ]
     },
     "metadata": {},
     "output_type": "display_data"
    },
    {
     "data": {
      "text/html": [
       " View project at <a href='https://wandb.ai/bhkim003-seoul-national-university/reservoir' target=\"_blank\">https://wandb.ai/bhkim003-seoul-national-university/reservoir</a>"
      ],
      "text/plain": [
       "<IPython.core.display.HTML object>"
      ]
     },
     "metadata": {},
     "output_type": "display_data"
    },
    {
     "data": {
      "text/html": [
       " View sweep at <a href='https://wandb.ai/bhkim003-seoul-national-university/reservoir/sweeps/0j0aowy8' target=\"_blank\">https://wandb.ai/bhkim003-seoul-national-university/reservoir/sweeps/0j0aowy8</a>"
      ],
      "text/plain": [
       "<IPython.core.display.HTML object>"
      ]
     },
     "metadata": {},
     "output_type": "display_data"
    },
    {
     "data": {
      "text/html": [
       " View run at <a href='https://wandb.ai/bhkim003-seoul-national-university/reservoir/runs/fltzcvan' target=\"_blank\">https://wandb.ai/bhkim003-seoul-national-university/reservoir/runs/fltzcvan</a>"
      ],
      "text/plain": [
       "<IPython.core.display.HTML object>"
      ]
     },
     "metadata": {},
     "output_type": "display_data"
    },
    {
     "name": "stderr",
     "output_type": "stream",
     "text": [
      "\u001b[34m\u001b[1mwandb\u001b[0m: \u001b[33mWARNING\u001b[0m Config item 'data_path' was locked by 'sweep' (ignored update).\n",
      "\u001b[34m\u001b[1mwandb\u001b[0m: \u001b[33mWARNING\u001b[0m Config item 'which_data' was locked by 'sweep' (ignored update).\n",
      "\u001b[34m\u001b[1mwandb\u001b[0m: \u001b[33mWARNING\u001b[0m Config item 'learning_rate' was locked by 'sweep' (ignored update).\n",
      "\u001b[34m\u001b[1mwandb\u001b[0m: \u001b[33mWARNING\u001b[0m Config item 'IMAGE_SIZE' was locked by 'sweep' (ignored update).\n",
      "\u001b[34m\u001b[1mwandb\u001b[0m: \u001b[33mWARNING\u001b[0m Config item 'EPOCH' was locked by 'sweep' (ignored update).\n",
      "\u001b[34m\u001b[1mwandb\u001b[0m: \u001b[33mWARNING\u001b[0m Config item 'rate_coding' was locked by 'sweep' (ignored update).\n",
      "\u001b[34m\u001b[1mwandb\u001b[0m: \u001b[33mWARNING\u001b[0m Config item 'pre_spike_weight' was locked by 'sweep' (ignored update).\n",
      "\u001b[34m\u001b[1mwandb\u001b[0m: \u001b[33mWARNING\u001b[0m Config item 'dvs_duration' was locked by 'sweep' (ignored update).\n",
      "\u001b[34m\u001b[1mwandb\u001b[0m: \u001b[33mWARNING\u001b[0m Config item 'dvs_clipping' was locked by 'sweep' (ignored update).\n",
      "\u001b[34m\u001b[1mwandb\u001b[0m: \u001b[33mWARNING\u001b[0m Config item 'no_reservoir' was locked by 'sweep' (ignored update).\n"
     ]
    },
    {
     "name": "stdout",
     "output_type": "stream",
     "text": [
      "The directory [/data2/gesture/duration_1000000] already exists.\n",
      "The directory [/data2/gesture/duration_1000000] already exists.\n",
      "RESERVOIR_NET(\n",
      "  (reservoir): RESERVOIR(\n",
      "    (conv_depthwise): Conv2d(2, 2, kernel_size=(3, 3), stride=(1, 1), padding=(1, 1), groups=2)\n",
      "  )\n",
      "  (linear): Linear(in_features=32768, out_features=10, bias=True)\n",
      ")\n",
      "Epoch 1\n",
      "Train Accuracy: 40.63%\n",
      "Test loss: 66.348, Accuracy: 43.56%\n",
      "Epoch 2\n",
      "Train Accuracy: 65.12%\n",
      "Test loss: 27.937, Accuracy: 67.80%\n",
      "Epoch 3\n",
      "Train Accuracy: 75.88%\n",
      "Test loss: 110.606, Accuracy: 50.38%\n",
      "Epoch 4\n",
      "Train Accuracy: 75.14%\n",
      "Test loss: 49.178, Accuracy: 58.71%\n",
      "Epoch 5\n",
      "Train Accuracy: 76.99%\n",
      "Test loss: 84.985, Accuracy: 61.74%\n",
      "Epoch 6\n",
      "Train Accuracy: 78.94%\n",
      "Test loss: 43.889, Accuracy: 67.05%\n",
      "Epoch 7\n",
      "Train Accuracy: 85.90%\n",
      "Test loss: 53.703, Accuracy: 56.44%\n",
      "Epoch 8\n",
      "Train Accuracy: 91.56%\n",
      "Test loss: 38.490, Accuracy: 66.29%\n",
      "Epoch 9\n",
      "Train Accuracy: 96.20%\n",
      "Test loss: 22.798, Accuracy: 70.83%\n",
      "Epoch 10\n",
      "Train Accuracy: 96.75%\n",
      "Test loss: 28.535, Accuracy: 67.80%\n",
      "Epoch 11\n",
      "Train Accuracy: 90.63%\n",
      "Test loss: 28.127, Accuracy: 67.42%\n",
      "Epoch 12\n",
      "Train Accuracy: 91.93%\n",
      "Test loss: 59.457, Accuracy: 60.23%\n",
      "Epoch 13\n",
      "Train Accuracy: 87.85%\n",
      "Test loss: 32.938, Accuracy: 70.45%\n",
      "Epoch 14\n",
      "Train Accuracy: 94.62%\n",
      "Test loss: 34.327, Accuracy: 66.29%\n",
      "Epoch 15\n",
      "Train Accuracy: 95.36%\n",
      "Test loss: 45.521, Accuracy: 62.50%\n",
      "Epoch 16\n",
      "Train Accuracy: 94.34%\n",
      "Test loss: 35.852, Accuracy: 66.67%\n",
      "Epoch 17\n",
      "Train Accuracy: 96.85%\n",
      "Test loss: 70.829, Accuracy: 65.53%\n",
      "Epoch 18\n",
      "Train Accuracy: 94.34%\n",
      "Test loss: 33.358, Accuracy: 65.91%\n",
      "Epoch 19\n",
      "Train Accuracy: 98.14%\n",
      "Test loss: 23.278, Accuracy: 72.35%\n",
      "Epoch 20\n",
      "Train Accuracy: 98.61%\n",
      "Test loss: 52.393, Accuracy: 64.02%\n",
      "Epoch 21\n",
      "Train Accuracy: 98.24%\n",
      "Test loss: 26.920, Accuracy: 72.35%\n",
      "Epoch 22\n",
      "Train Accuracy: 99.26%\n",
      "Test loss: 35.683, Accuracy: 68.94%\n",
      "Epoch 23\n",
      "Train Accuracy: 99.54%\n",
      "Test loss: 31.843, Accuracy: 68.18%\n",
      "Epoch 24\n",
      "Train Accuracy: 99.54%\n",
      "Test loss: 31.138, Accuracy: 68.94%\n",
      "Epoch 25\n",
      "Train Accuracy: 99.54%\n",
      "Test loss: 33.360, Accuracy: 67.05%\n",
      "Epoch 26\n",
      "Train Accuracy: 100.00%\n",
      "Test loss: 33.223, Accuracy: 67.05%\n",
      "Epoch 27\n",
      "Train Accuracy: 100.00%\n",
      "Test loss: 33.223, Accuracy: 67.05%\n",
      "Epoch 28\n",
      "Train Accuracy: 100.00%\n",
      "Test loss: 33.223, Accuracy: 67.05%\n",
      "Epoch 29\n",
      "Train Accuracy: 100.00%\n",
      "Test loss: 33.223, Accuracy: 67.05%\n",
      "Epoch 30\n",
      "Train Accuracy: 100.00%\n",
      "Test loss: 33.223, Accuracy: 67.05%\n",
      "Epoch 31\n",
      "Train Accuracy: 100.00%\n",
      "Test loss: 33.223, Accuracy: 67.05%\n",
      "Epoch 32\n",
      "Train Accuracy: 100.00%\n",
      "Test loss: 33.223, Accuracy: 67.05%\n",
      "Epoch 33\n",
      "Train Accuracy: 100.00%\n",
      "Test loss: 33.223, Accuracy: 67.05%\n",
      "Epoch 34\n",
      "Train Accuracy: 100.00%\n",
      "Test loss: 33.223, Accuracy: 67.05%\n",
      "Epoch 35\n",
      "Train Accuracy: 100.00%\n",
      "Test loss: 33.223, Accuracy: 67.05%\n",
      "Epoch 36\n",
      "Train Accuracy: 100.00%\n",
      "Test loss: 33.223, Accuracy: 67.05%\n",
      "Epoch 37\n",
      "Train Accuracy: 100.00%\n",
      "Test loss: 33.223, Accuracy: 67.05%\n",
      "Epoch 38\n",
      "Train Accuracy: 100.00%\n",
      "Test loss: 33.223, Accuracy: 67.05%\n",
      "Epoch 39\n",
      "Train Accuracy: 100.00%\n",
      "Test loss: 33.223, Accuracy: 67.05%\n",
      "Epoch 40\n",
      "Train Accuracy: 100.00%\n",
      "Test loss: 33.223, Accuracy: 67.05%\n",
      "Epoch 41\n",
      "Train Accuracy: 100.00%\n",
      "Test loss: 33.223, Accuracy: 67.05%\n",
      "Epoch 42\n",
      "Train Accuracy: 100.00%\n",
      "Test loss: 33.223, Accuracy: 67.05%\n",
      "Epoch 43\n",
      "Train Accuracy: 100.00%\n",
      "Test loss: 33.223, Accuracy: 67.05%\n",
      "Epoch 44\n",
      "Train Accuracy: 100.00%\n",
      "Test loss: 33.223, Accuracy: 67.05%\n",
      "Epoch 45\n",
      "Train Accuracy: 100.00%\n",
      "Test loss: 33.223, Accuracy: 67.05%\n",
      "Epoch 46\n",
      "Train Accuracy: 100.00%\n",
      "Test loss: 33.223, Accuracy: 67.05%\n",
      "Epoch 47\n",
      "Train Accuracy: 100.00%\n",
      "Test loss: 33.223, Accuracy: 67.05%\n",
      "Epoch 48\n",
      "Train Accuracy: 100.00%\n",
      "Test loss: 33.223, Accuracy: 67.05%\n",
      "Epoch 49\n",
      "Train Accuracy: 100.00%\n",
      "Test loss: 33.223, Accuracy: 67.05%\n",
      "Epoch 50\n",
      "Train Accuracy: 100.00%\n",
      "Test loss: 33.223, Accuracy: 67.05%\n"
     ]
    },
    {
     "data": {
      "application/vnd.jupyter.widget-view+json": {
       "model_id": "111284fe531f4afda3f17ab72f5f4002",
       "version_major": 2,
       "version_minor": 0
      },
      "text/plain": [
       "VBox(children=(Label(value='21.640 MB of 21.640 MB uploaded (20.336 MB deduped)\\r'), FloatProgress(value=1.0, …"
      ]
     },
     "metadata": {},
     "output_type": "display_data"
    },
    {
     "data": {
      "text/html": [
       "W&B sync reduced upload amount by 93.7%"
      ],
      "text/plain": [
       "<IPython.core.display.HTML object>"
      ]
     },
     "metadata": {},
     "output_type": "display_data"
    },
    {
     "data": {
      "text/html": [
       "<style>\n",
       "    table.wandb td:nth-child(1) { padding: 0 10px; text-align: left ; width: auto;} td:nth-child(2) {text-align: left ; width: 100%}\n",
       "    .wandb-row { display: flex; flex-direction: row; flex-wrap: wrap; justify-content: flex-start; width: 100% }\n",
       "    .wandb-col { display: flex; flex-direction: column; flex-basis: 100%; flex: 1; padding: 10px; }\n",
       "    </style>\n",
       "<div class=\"wandb-row\"><div class=\"wandb-col\"><h3>Run history:</h3><br/><table class=\"wandb\"><tr><td>iter_accuracy</td><td>▂▄▄▁▇▅▆▇██▅█▇██▇████████████████████████</td></tr><tr><td>tr_accuracy</td><td>▁▄▅▅▆▆▇█▇▇▇▇▇█▇█████████████████████████</td></tr><tr><td>val_accuracy</td><td>▁▇▃▅▇▄▇█▇▅█▇▇▆▆██▇▇▇▇▇▇▇▇▇▇▇▇▇▇▇▇▇▇▇▇▇▇▇</td></tr></table><br/></div><div class=\"wandb-col\"><h3>Run summary:</h3><br/><table class=\"wandb\"><tr><td>iter_accuracy</td><td>100.0</td></tr><tr><td>tr_accuracy</td><td>100.0</td></tr><tr><td>val_accuracy</td><td>67.04545</td></tr></table><br/></div></div>"
      ],
      "text/plain": [
       "<IPython.core.display.HTML object>"
      ]
     },
     "metadata": {},
     "output_type": "display_data"
    },
    {
     "data": {
      "text/html": [
       " View run <strong style=\"color:#cdcd00\">fresh-sweep-100</strong> at: <a href='https://wandb.ai/bhkim003-seoul-national-university/reservoir/runs/fltzcvan' target=\"_blank\">https://wandb.ai/bhkim003-seoul-national-university/reservoir/runs/fltzcvan</a><br/> View project at: <a href='https://wandb.ai/bhkim003-seoul-national-university/reservoir' target=\"_blank\">https://wandb.ai/bhkim003-seoul-national-university/reservoir</a><br/>Synced 7 W&B file(s), 0 media file(s), 30 artifact file(s) and 1 other file(s)"
      ],
      "text/plain": [
       "<IPython.core.display.HTML object>"
      ]
     },
     "metadata": {},
     "output_type": "display_data"
    },
    {
     "data": {
      "text/html": [
       "Find logs at: <code>./wandb/run-20240726_110154-fltzcvan/logs</code>"
      ],
      "text/plain": [
       "<IPython.core.display.HTML object>"
      ]
     },
     "metadata": {},
     "output_type": "display_data"
    },
    {
     "data": {
      "text/html": [
       "The new W&B backend becomes opt-out in version 0.18.0; try it out with `wandb.require(\"core\")`! See https://wandb.me/wandb-core for more information."
      ],
      "text/plain": [
       "<IPython.core.display.HTML object>"
      ]
     },
     "metadata": {},
     "output_type": "display_data"
    },
    {
     "name": "stderr",
     "output_type": "stream",
     "text": [
      "\u001b[34m\u001b[1mwandb\u001b[0m: Sweep Agent: Waiting for job.\n",
      "\u001b[34m\u001b[1mwandb\u001b[0m: Job received.\n",
      "\u001b[34m\u001b[1mwandb\u001b[0m: Agent Starting Run: 22f99laq with config:\n",
      "\u001b[34m\u001b[1mwandb\u001b[0m: \tEPOCH: 50\n",
      "\u001b[34m\u001b[1mwandb\u001b[0m: \tIMAGE_SIZE: 16\n",
      "\u001b[34m\u001b[1mwandb\u001b[0m: \tbatch_size: 64\n",
      "\u001b[34m\u001b[1mwandb\u001b[0m: \tdata_path: /data2\n",
      "\u001b[34m\u001b[1mwandb\u001b[0m: \tdecay: 0.2740315168442979\n",
      "\u001b[34m\u001b[1mwandb\u001b[0m: \tdvs_clipping: True\n",
      "\u001b[34m\u001b[1mwandb\u001b[0m: \tdvs_duration: 1000000\n",
      "\u001b[34m\u001b[1mwandb\u001b[0m: \tlearning_rate: 0.05959519657116801\n",
      "\u001b[34m\u001b[1mwandb\u001b[0m: \tno_reservoir: False\n",
      "\u001b[34m\u001b[1mwandb\u001b[0m: \tpre_spike_weight: 2.29145092060441\n",
      "\u001b[34m\u001b[1mwandb\u001b[0m: \trate_coding: False\n",
      "\u001b[34m\u001b[1mwandb\u001b[0m: \ttime_step: 4\n",
      "\u001b[34m\u001b[1mwandb\u001b[0m: \twhich_data: DVS_GESTURE\n",
      "Failed to detect the name of this notebook, you can set it manually with the WANDB_NOTEBOOK_NAME environment variable to enable code saving.\n"
     ]
    },
    {
     "data": {
      "text/html": [
       "Tracking run with wandb version 0.17.5"
      ],
      "text/plain": [
       "<IPython.core.display.HTML object>"
      ]
     },
     "metadata": {},
     "output_type": "display_data"
    },
    {
     "data": {
      "text/html": [
       "Run data is saved locally in <code>/nfs/home/bhkim003/github_folder/ByeonghyeonKim/my_snn/wandb/run-20240726_111113-22f99laq</code>"
      ],
      "text/plain": [
       "<IPython.core.display.HTML object>"
      ]
     },
     "metadata": {},
     "output_type": "display_data"
    },
    {
     "data": {
      "text/html": [
       "Syncing run <strong><a href='https://wandb.ai/bhkim003-seoul-national-university/reservoir/runs/22f99laq' target=\"_blank\">lunar-sweep-101</a></strong> to <a href='https://wandb.ai/bhkim003-seoul-national-university/reservoir' target=\"_blank\">Weights & Biases</a> (<a href='https://wandb.me/run' target=\"_blank\">docs</a>)<br/>Sweep page: <a href='https://wandb.ai/bhkim003-seoul-national-university/reservoir/sweeps/0j0aowy8' target=\"_blank\">https://wandb.ai/bhkim003-seoul-national-university/reservoir/sweeps/0j0aowy8</a>"
      ],
      "text/plain": [
       "<IPython.core.display.HTML object>"
      ]
     },
     "metadata": {},
     "output_type": "display_data"
    },
    {
     "data": {
      "text/html": [
       " View project at <a href='https://wandb.ai/bhkim003-seoul-national-university/reservoir' target=\"_blank\">https://wandb.ai/bhkim003-seoul-national-university/reservoir</a>"
      ],
      "text/plain": [
       "<IPython.core.display.HTML object>"
      ]
     },
     "metadata": {},
     "output_type": "display_data"
    },
    {
     "data": {
      "text/html": [
       " View sweep at <a href='https://wandb.ai/bhkim003-seoul-national-university/reservoir/sweeps/0j0aowy8' target=\"_blank\">https://wandb.ai/bhkim003-seoul-national-university/reservoir/sweeps/0j0aowy8</a>"
      ],
      "text/plain": [
       "<IPython.core.display.HTML object>"
      ]
     },
     "metadata": {},
     "output_type": "display_data"
    },
    {
     "data": {
      "text/html": [
       " View run at <a href='https://wandb.ai/bhkim003-seoul-national-university/reservoir/runs/22f99laq' target=\"_blank\">https://wandb.ai/bhkim003-seoul-national-university/reservoir/runs/22f99laq</a>"
      ],
      "text/plain": [
       "<IPython.core.display.HTML object>"
      ]
     },
     "metadata": {},
     "output_type": "display_data"
    },
    {
     "name": "stderr",
     "output_type": "stream",
     "text": [
      "\u001b[34m\u001b[1mwandb\u001b[0m: \u001b[33mWARNING\u001b[0m Config item 'data_path' was locked by 'sweep' (ignored update).\n",
      "\u001b[34m\u001b[1mwandb\u001b[0m: \u001b[33mWARNING\u001b[0m Config item 'which_data' was locked by 'sweep' (ignored update).\n",
      "\u001b[34m\u001b[1mwandb\u001b[0m: \u001b[33mWARNING\u001b[0m Config item 'learning_rate' was locked by 'sweep' (ignored update).\n",
      "\u001b[34m\u001b[1mwandb\u001b[0m: \u001b[33mWARNING\u001b[0m Config item 'IMAGE_SIZE' was locked by 'sweep' (ignored update).\n",
      "\u001b[34m\u001b[1mwandb\u001b[0m: \u001b[33mWARNING\u001b[0m Config item 'EPOCH' was locked by 'sweep' (ignored update).\n",
      "\u001b[34m\u001b[1mwandb\u001b[0m: \u001b[33mWARNING\u001b[0m Config item 'rate_coding' was locked by 'sweep' (ignored update).\n",
      "\u001b[34m\u001b[1mwandb\u001b[0m: \u001b[33mWARNING\u001b[0m Config item 'pre_spike_weight' was locked by 'sweep' (ignored update).\n",
      "\u001b[34m\u001b[1mwandb\u001b[0m: \u001b[33mWARNING\u001b[0m Config item 'dvs_duration' was locked by 'sweep' (ignored update).\n",
      "\u001b[34m\u001b[1mwandb\u001b[0m: \u001b[33mWARNING\u001b[0m Config item 'dvs_clipping' was locked by 'sweep' (ignored update).\n",
      "\u001b[34m\u001b[1mwandb\u001b[0m: \u001b[33mWARNING\u001b[0m Config item 'no_reservoir' was locked by 'sweep' (ignored update).\n"
     ]
    },
    {
     "name": "stdout",
     "output_type": "stream",
     "text": [
      "The directory [/data2/gesture/duration_1000000] already exists.\n",
      "The directory [/data2/gesture/duration_1000000] already exists.\n",
      "RESERVOIR_NET(\n",
      "  (reservoir): RESERVOIR(\n",
      "    (conv_depthwise): Conv2d(2, 2, kernel_size=(3, 3), stride=(1, 1), padding=(1, 1), groups=2)\n",
      "  )\n",
      "  (linear): Linear(in_features=512, out_features=10, bias=True)\n",
      ")\n",
      "Epoch 1\n",
      "Train Accuracy: 30.43%\n",
      "Test loss: 1.650, Accuracy: 41.67%\n",
      "Epoch 2\n",
      "Train Accuracy: 52.69%\n",
      "Test loss: 1.355, Accuracy: 48.11%\n",
      "Epoch 3\n",
      "Train Accuracy: 59.83%\n",
      "Test loss: 1.496, Accuracy: 50.38%\n",
      "Epoch 4\n",
      "Train Accuracy: 67.16%\n",
      "Test loss: 1.180, Accuracy: 54.92%\n",
      "Epoch 5\n",
      "Train Accuracy: 73.56%\n",
      "Test loss: 1.112, Accuracy: 59.09%\n",
      "Epoch 6\n",
      "Train Accuracy: 73.47%\n",
      "Test loss: 1.139, Accuracy: 58.33%\n",
      "Epoch 7\n",
      "Train Accuracy: 77.37%\n",
      "Test loss: 1.624, Accuracy: 58.33%\n",
      "Epoch 8\n",
      "Train Accuracy: 76.90%\n",
      "Test loss: 1.378, Accuracy: 59.09%\n",
      "Epoch 9\n",
      "Train Accuracy: 79.87%\n",
      "Test loss: 1.455, Accuracy: 57.95%\n",
      "Epoch 10\n",
      "Train Accuracy: 79.04%\n",
      "Test loss: 1.223, Accuracy: 58.33%\n",
      "Epoch 11\n",
      "Train Accuracy: 82.47%\n",
      "Test loss: 1.156, Accuracy: 59.85%\n",
      "Epoch 12\n",
      "Train Accuracy: 90.35%\n",
      "Test loss: 1.437, Accuracy: 64.39%\n",
      "Epoch 13\n",
      "Train Accuracy: 90.54%\n",
      "Test loss: 1.244, Accuracy: 59.47%\n",
      "Epoch 14\n",
      "Train Accuracy: 89.42%\n",
      "Test loss: 1.470, Accuracy: 60.61%\n",
      "Epoch 15\n",
      "Train Accuracy: 88.59%\n",
      "Test loss: 1.437, Accuracy: 56.06%\n",
      "Epoch 16\n",
      "Train Accuracy: 87.29%\n",
      "Test loss: 1.334, Accuracy: 59.09%\n",
      "Epoch 17\n",
      "Train Accuracy: 91.00%\n",
      "Test loss: 1.365, Accuracy: 60.23%\n",
      "Epoch 18\n",
      "Train Accuracy: 90.91%\n",
      "Test loss: 1.349, Accuracy: 57.95%\n",
      "Epoch 19\n",
      "Train Accuracy: 92.49%\n",
      "Test loss: 1.396, Accuracy: 60.23%\n",
      "Epoch 20\n",
      "Train Accuracy: 91.19%\n",
      "Test loss: 1.318, Accuracy: 60.98%\n",
      "Epoch 21\n",
      "Train Accuracy: 92.67%\n",
      "Test loss: 1.318, Accuracy: 59.47%\n",
      "Epoch 22\n",
      "Train Accuracy: 95.45%\n",
      "Test loss: 1.406, Accuracy: 61.74%\n",
      "Epoch 23\n",
      "Train Accuracy: 96.29%\n",
      "Test loss: 1.255, Accuracy: 60.98%\n",
      "Epoch 24\n",
      "Train Accuracy: 95.45%\n",
      "Test loss: 1.257, Accuracy: 63.64%\n",
      "Epoch 25\n",
      "Train Accuracy: 97.50%\n",
      "Test loss: 1.325, Accuracy: 61.74%\n",
      "Epoch 26\n",
      "Train Accuracy: 97.31%\n",
      "Test loss: 1.317, Accuracy: 62.88%\n",
      "Epoch 27\n",
      "Train Accuracy: 98.70%\n",
      "Test loss: 1.331, Accuracy: 60.98%\n",
      "Epoch 28\n",
      "Train Accuracy: 97.50%\n",
      "Test loss: 1.381, Accuracy: 62.50%\n",
      "Epoch 29\n",
      "Train Accuracy: 93.60%\n",
      "Test loss: 1.476, Accuracy: 59.47%\n",
      "Epoch 30\n",
      "Train Accuracy: 93.23%\n",
      "Test loss: 1.387, Accuracy: 63.64%\n",
      "Epoch 31\n",
      "Train Accuracy: 92.95%\n",
      "Test loss: 1.558, Accuracy: 60.61%\n",
      "Epoch 32\n",
      "Train Accuracy: 94.34%\n",
      "Test loss: 1.417, Accuracy: 60.61%\n",
      "Epoch 33\n",
      "Train Accuracy: 96.20%\n",
      "Test loss: 1.574, Accuracy: 60.23%\n",
      "Epoch 34\n",
      "Train Accuracy: 95.55%\n",
      "Test loss: 1.425, Accuracy: 57.95%\n",
      "Epoch 35\n",
      "Train Accuracy: 96.01%\n",
      "Test loss: 1.452, Accuracy: 62.12%\n",
      "Epoch 36\n",
      "Train Accuracy: 96.20%\n",
      "Test loss: 1.480, Accuracy: 57.95%\n",
      "Epoch 37\n",
      "Train Accuracy: 97.03%\n",
      "Test loss: 1.456, Accuracy: 62.12%\n",
      "Epoch 38\n",
      "Train Accuracy: 97.68%\n",
      "Test loss: 1.302, Accuracy: 61.74%\n",
      "Epoch 39\n",
      "Train Accuracy: 98.79%\n",
      "Test loss: 1.339, Accuracy: 60.61%\n",
      "Epoch 40\n",
      "Train Accuracy: 98.52%\n",
      "Test loss: 1.444, Accuracy: 59.85%\n",
      "Epoch 41\n",
      "Train Accuracy: 99.63%\n",
      "Test loss: 1.457, Accuracy: 62.50%\n",
      "Epoch 42\n",
      "Train Accuracy: 99.44%\n",
      "Test loss: 1.504, Accuracy: 59.47%\n",
      "Epoch 43\n",
      "Train Accuracy: 99.26%\n",
      "Test loss: 1.471, Accuracy: 61.74%\n",
      "Epoch 44\n",
      "Train Accuracy: 98.70%\n",
      "Test loss: 1.424, Accuracy: 63.26%\n",
      "Epoch 45\n",
      "Train Accuracy: 98.52%\n",
      "Test loss: 1.512, Accuracy: 60.98%\n",
      "Epoch 46\n",
      "Train Accuracy: 98.98%\n",
      "Test loss: 1.534, Accuracy: 59.85%\n",
      "Epoch 47\n",
      "Train Accuracy: 99.26%\n",
      "Test loss: 1.494, Accuracy: 60.98%\n",
      "Epoch 48\n",
      "Train Accuracy: 99.72%\n",
      "Test loss: 1.547, Accuracy: 59.85%\n",
      "Epoch 49\n",
      "Train Accuracy: 99.63%\n",
      "Test loss: 1.552, Accuracy: 60.61%\n",
      "Epoch 50\n",
      "Train Accuracy: 99.26%\n",
      "Test loss: 1.496, Accuracy: 60.61%\n"
     ]
    },
    {
     "data": {
      "application/vnd.jupyter.widget-view+json": {
       "model_id": "1c8a47a328c44b97827810d2a65375fe",
       "version_major": 2,
       "version_minor": 0
      },
      "text/plain": [
       "VBox(children=(Label(value='22.216 MB of 22.216 MB uploaded (20.103 MB deduped)\\r'), FloatProgress(value=1.0, …"
      ]
     },
     "metadata": {},
     "output_type": "display_data"
    },
    {
     "data": {
      "text/html": [
       "W&B sync reduced upload amount by 90.2%"
      ],
      "text/plain": [
       "<IPython.core.display.HTML object>"
      ]
     },
     "metadata": {},
     "output_type": "display_data"
    },
    {
     "data": {
      "text/html": [
       "<style>\n",
       "    table.wandb td:nth-child(1) { padding: 0 10px; text-align: left ; width: auto;} td:nth-child(2) {text-align: left ; width: 100%}\n",
       "    .wandb-row { display: flex; flex-direction: row; flex-wrap: wrap; justify-content: flex-start; width: 100% }\n",
       "    .wandb-col { display: flex; flex-direction: column; flex-basis: 100%; flex: 1; padding: 10px; }\n",
       "    </style>\n",
       "<div class=\"wandb-row\"><div class=\"wandb-col\"><h3>Run history:</h3><br/><table class=\"wandb\"><tr><td>iter_accuracy</td><td>▁▂▁▃▄▅▅▅▇▇▇▇▆▇▇▇██▇████▇▇█▇█████████████</td></tr><tr><td>tr_accuracy</td><td>▁▃▄▅▅▆▆▆▆▇▇▇▇▇▇▇▇██████▇▇▇██████████████</td></tr><tr><td>val_accuracy</td><td>▁▃▄▅▆▆▆▆▇█▆▇▆▇▆▇▆▇▇██▇▇▆▇▇▇▆▆▇▇▇▇▆▇█▇▇▇▇</td></tr></table><br/></div><div class=\"wandb-col\"><h3>Run summary:</h3><br/><table class=\"wandb\"><tr><td>iter_accuracy</td><td>100.0</td></tr><tr><td>tr_accuracy</td><td>99.25788</td></tr><tr><td>val_accuracy</td><td>60.60606</td></tr></table><br/></div></div>"
      ],
      "text/plain": [
       "<IPython.core.display.HTML object>"
      ]
     },
     "metadata": {},
     "output_type": "display_data"
    },
    {
     "data": {
      "text/html": [
       " View run <strong style=\"color:#cdcd00\">lunar-sweep-101</strong> at: <a href='https://wandb.ai/bhkim003-seoul-national-university/reservoir/runs/22f99laq' target=\"_blank\">https://wandb.ai/bhkim003-seoul-national-university/reservoir/runs/22f99laq</a><br/> View project at: <a href='https://wandb.ai/bhkim003-seoul-national-university/reservoir' target=\"_blank\">https://wandb.ai/bhkim003-seoul-national-university/reservoir</a><br/>Synced 7 W&B file(s), 0 media file(s), 31 artifact file(s) and 1 other file(s)"
      ],
      "text/plain": [
       "<IPython.core.display.HTML object>"
      ]
     },
     "metadata": {},
     "output_type": "display_data"
    },
    {
     "data": {
      "text/html": [
       "Find logs at: <code>./wandb/run-20240726_111113-22f99laq/logs</code>"
      ],
      "text/plain": [
       "<IPython.core.display.HTML object>"
      ]
     },
     "metadata": {},
     "output_type": "display_data"
    },
    {
     "data": {
      "text/html": [
       "The new W&B backend becomes opt-out in version 0.18.0; try it out with `wandb.require(\"core\")`! See https://wandb.me/wandb-core for more information."
      ],
      "text/plain": [
       "<IPython.core.display.HTML object>"
      ]
     },
     "metadata": {},
     "output_type": "display_data"
    },
    {
     "name": "stderr",
     "output_type": "stream",
     "text": [
      "\u001b[34m\u001b[1mwandb\u001b[0m: Agent Starting Run: ac6ls9a3 with config:\n",
      "\u001b[34m\u001b[1mwandb\u001b[0m: \tEPOCH: 50\n",
      "\u001b[34m\u001b[1mwandb\u001b[0m: \tIMAGE_SIZE: 32\n",
      "\u001b[34m\u001b[1mwandb\u001b[0m: \tbatch_size: 128\n",
      "\u001b[34m\u001b[1mwandb\u001b[0m: \tdata_path: /data2\n",
      "\u001b[34m\u001b[1mwandb\u001b[0m: \tdecay: 0.5342228737477184\n",
      "\u001b[34m\u001b[1mwandb\u001b[0m: \tdvs_clipping: True\n",
      "\u001b[34m\u001b[1mwandb\u001b[0m: \tdvs_duration: 1000000\n",
      "\u001b[34m\u001b[1mwandb\u001b[0m: \tlearning_rate: 0.026121584856232703\n",
      "\u001b[34m\u001b[1mwandb\u001b[0m: \tno_reservoir: False\n",
      "\u001b[34m\u001b[1mwandb\u001b[0m: \tpre_spike_weight: 3.1336473162092133\n",
      "\u001b[34m\u001b[1mwandb\u001b[0m: \trate_coding: True\n",
      "\u001b[34m\u001b[1mwandb\u001b[0m: \ttime_step: 8\n",
      "\u001b[34m\u001b[1mwandb\u001b[0m: \twhich_data: DVS_GESTURE\n",
      "Failed to detect the name of this notebook, you can set it manually with the WANDB_NOTEBOOK_NAME environment variable to enable code saving.\n"
     ]
    },
    {
     "data": {
      "text/html": [
       "Tracking run with wandb version 0.17.5"
      ],
      "text/plain": [
       "<IPython.core.display.HTML object>"
      ]
     },
     "metadata": {},
     "output_type": "display_data"
    },
    {
     "data": {
      "text/html": [
       "Run data is saved locally in <code>/nfs/home/bhkim003/github_folder/ByeonghyeonKim/my_snn/wandb/run-20240726_111649-ac6ls9a3</code>"
      ],
      "text/plain": [
       "<IPython.core.display.HTML object>"
      ]
     },
     "metadata": {},
     "output_type": "display_data"
    },
    {
     "data": {
      "text/html": [
       "Syncing run <strong><a href='https://wandb.ai/bhkim003-seoul-national-university/reservoir/runs/ac6ls9a3' target=\"_blank\">earthy-sweep-102</a></strong> to <a href='https://wandb.ai/bhkim003-seoul-national-university/reservoir' target=\"_blank\">Weights & Biases</a> (<a href='https://wandb.me/run' target=\"_blank\">docs</a>)<br/>Sweep page: <a href='https://wandb.ai/bhkim003-seoul-national-university/reservoir/sweeps/0j0aowy8' target=\"_blank\">https://wandb.ai/bhkim003-seoul-national-university/reservoir/sweeps/0j0aowy8</a>"
      ],
      "text/plain": [
       "<IPython.core.display.HTML object>"
      ]
     },
     "metadata": {},
     "output_type": "display_data"
    },
    {
     "data": {
      "text/html": [
       " View project at <a href='https://wandb.ai/bhkim003-seoul-national-university/reservoir' target=\"_blank\">https://wandb.ai/bhkim003-seoul-national-university/reservoir</a>"
      ],
      "text/plain": [
       "<IPython.core.display.HTML object>"
      ]
     },
     "metadata": {},
     "output_type": "display_data"
    },
    {
     "data": {
      "text/html": [
       " View sweep at <a href='https://wandb.ai/bhkim003-seoul-national-university/reservoir/sweeps/0j0aowy8' target=\"_blank\">https://wandb.ai/bhkim003-seoul-national-university/reservoir/sweeps/0j0aowy8</a>"
      ],
      "text/plain": [
       "<IPython.core.display.HTML object>"
      ]
     },
     "metadata": {},
     "output_type": "display_data"
    },
    {
     "data": {
      "text/html": [
       " View run at <a href='https://wandb.ai/bhkim003-seoul-national-university/reservoir/runs/ac6ls9a3' target=\"_blank\">https://wandb.ai/bhkim003-seoul-national-university/reservoir/runs/ac6ls9a3</a>"
      ],
      "text/plain": [
       "<IPython.core.display.HTML object>"
      ]
     },
     "metadata": {},
     "output_type": "display_data"
    },
    {
     "name": "stderr",
     "output_type": "stream",
     "text": [
      "\u001b[34m\u001b[1mwandb\u001b[0m: \u001b[33mWARNING\u001b[0m Config item 'data_path' was locked by 'sweep' (ignored update).\n",
      "\u001b[34m\u001b[1mwandb\u001b[0m: \u001b[33mWARNING\u001b[0m Config item 'which_data' was locked by 'sweep' (ignored update).\n",
      "\u001b[34m\u001b[1mwandb\u001b[0m: \u001b[33mWARNING\u001b[0m Config item 'learning_rate' was locked by 'sweep' (ignored update).\n",
      "\u001b[34m\u001b[1mwandb\u001b[0m: \u001b[33mWARNING\u001b[0m Config item 'IMAGE_SIZE' was locked by 'sweep' (ignored update).\n",
      "\u001b[34m\u001b[1mwandb\u001b[0m: \u001b[33mWARNING\u001b[0m Config item 'EPOCH' was locked by 'sweep' (ignored update).\n",
      "\u001b[34m\u001b[1mwandb\u001b[0m: \u001b[33mWARNING\u001b[0m Config item 'rate_coding' was locked by 'sweep' (ignored update).\n",
      "\u001b[34m\u001b[1mwandb\u001b[0m: \u001b[33mWARNING\u001b[0m Config item 'pre_spike_weight' was locked by 'sweep' (ignored update).\n",
      "\u001b[34m\u001b[1mwandb\u001b[0m: \u001b[33mWARNING\u001b[0m Config item 'dvs_duration' was locked by 'sweep' (ignored update).\n",
      "\u001b[34m\u001b[1mwandb\u001b[0m: \u001b[33mWARNING\u001b[0m Config item 'dvs_clipping' was locked by 'sweep' (ignored update).\n",
      "\u001b[34m\u001b[1mwandb\u001b[0m: \u001b[33mWARNING\u001b[0m Config item 'no_reservoir' was locked by 'sweep' (ignored update).\n"
     ]
    },
    {
     "name": "stdout",
     "output_type": "stream",
     "text": [
      "The directory [/data2/gesture/duration_1000000] already exists.\n",
      "The directory [/data2/gesture/duration_1000000] already exists.\n",
      "RESERVOIR_NET(\n",
      "  (reservoir): RESERVOIR(\n",
      "    (conv_depthwise): Conv2d(2, 2, kernel_size=(3, 3), stride=(1, 1), padding=(1, 1), groups=2)\n",
      "  )\n",
      "  (linear): Linear(in_features=2048, out_features=10, bias=True)\n",
      ")\n",
      "Epoch 1\n",
      "Train Accuracy: 24.30%\n",
      "Test loss: 1.669, Accuracy: 34.85%\n",
      "Epoch 2\n",
      "Train Accuracy: 49.81%\n",
      "Test loss: 1.345, Accuracy: 54.92%\n",
      "Epoch 3\n",
      "Train Accuracy: 56.12%\n",
      "Test loss: 1.829, Accuracy: 54.17%\n",
      "Epoch 4\n",
      "Train Accuracy: 60.85%\n",
      "Test loss: 1.097, Accuracy: 57.95%\n",
      "Epoch 5\n",
      "Train Accuracy: 62.99%\n",
      "Test loss: 1.430, Accuracy: 57.95%\n",
      "Epoch 6\n",
      "Train Accuracy: 69.02%\n",
      "Test loss: 2.062, Accuracy: 54.17%\n",
      "Epoch 7\n",
      "Train Accuracy: 71.43%\n",
      "Test loss: 1.614, Accuracy: 57.20%\n",
      "Epoch 8\n",
      "Train Accuracy: 76.07%\n",
      "Test loss: 1.391, Accuracy: 60.61%\n",
      "Epoch 9\n",
      "Train Accuracy: 78.39%\n",
      "Test loss: 1.472, Accuracy: 60.23%\n",
      "Epoch 10\n",
      "Train Accuracy: 76.81%\n",
      "Test loss: 1.477, Accuracy: 61.74%\n",
      "Epoch 11\n",
      "Train Accuracy: 82.37%\n",
      "Test loss: 1.258, Accuracy: 67.80%\n",
      "Epoch 12\n",
      "Train Accuracy: 84.42%\n",
      "Test loss: 1.251, Accuracy: 63.64%\n",
      "Epoch 13\n",
      "Train Accuracy: 88.96%\n",
      "Test loss: 1.865, Accuracy: 60.61%\n",
      "Epoch 14\n",
      "Train Accuracy: 89.52%\n",
      "Test loss: 1.572, Accuracy: 59.09%\n",
      "Epoch 15\n",
      "Train Accuracy: 88.59%\n",
      "Test loss: 1.645, Accuracy: 59.47%\n",
      "Epoch 16\n",
      "Train Accuracy: 90.35%\n",
      "Test loss: 1.636, Accuracy: 61.36%\n",
      "Epoch 17\n",
      "Train Accuracy: 88.31%\n",
      "Test loss: 1.463, Accuracy: 57.20%\n",
      "Epoch 18\n",
      "Train Accuracy: 91.37%\n",
      "Test loss: 1.594, Accuracy: 62.50%\n",
      "Epoch 19\n",
      "Train Accuracy: 93.60%\n",
      "Test loss: 1.592, Accuracy: 66.29%\n",
      "Epoch 20\n",
      "Train Accuracy: 92.95%\n",
      "Test loss: 1.849, Accuracy: 63.64%\n",
      "Epoch 21\n",
      "Train Accuracy: 91.28%\n",
      "Test loss: 1.785, Accuracy: 65.91%\n",
      "Epoch 22\n",
      "Train Accuracy: 93.32%\n",
      "Test loss: 1.797, Accuracy: 63.26%\n",
      "Epoch 23\n",
      "Train Accuracy: 96.75%\n",
      "Test loss: 1.836, Accuracy: 65.15%\n",
      "Epoch 24\n",
      "Train Accuracy: 96.75%\n",
      "Test loss: 1.676, Accuracy: 65.15%\n",
      "Epoch 25\n",
      "Train Accuracy: 93.88%\n",
      "Test loss: 1.972, Accuracy: 60.23%\n",
      "Epoch 26\n",
      "Train Accuracy: 90.54%\n",
      "Test loss: 1.668, Accuracy: 62.12%\n",
      "Epoch 27\n",
      "Train Accuracy: 95.08%\n",
      "Test loss: 1.735, Accuracy: 58.33%\n",
      "Epoch 28\n",
      "Train Accuracy: 96.10%\n",
      "Test loss: 1.916, Accuracy: 63.64%\n",
      "Epoch 29\n",
      "Train Accuracy: 96.85%\n",
      "Test loss: 1.805, Accuracy: 64.77%\n",
      "Epoch 30\n",
      "Train Accuracy: 98.61%\n",
      "Test loss: 1.866, Accuracy: 62.50%\n",
      "Epoch 31\n",
      "Train Accuracy: 97.59%\n",
      "Test loss: 1.984, Accuracy: 65.15%\n",
      "Epoch 32\n",
      "Train Accuracy: 97.59%\n",
      "Test loss: 1.925, Accuracy: 63.64%\n",
      "Epoch 33\n",
      "Train Accuracy: 98.98%\n",
      "Test loss: 1.714, Accuracy: 64.02%\n",
      "Epoch 34\n",
      "Train Accuracy: 99.07%\n",
      "Test loss: 1.776, Accuracy: 67.05%\n",
      "Epoch 35\n",
      "Train Accuracy: 99.44%\n",
      "Test loss: 1.882, Accuracy: 63.64%\n",
      "Epoch 36\n",
      "Train Accuracy: 98.61%\n",
      "Test loss: 1.894, Accuracy: 64.39%\n",
      "Epoch 37\n",
      "Train Accuracy: 99.54%\n",
      "Test loss: 1.707, Accuracy: 65.53%\n",
      "Epoch 38\n",
      "Train Accuracy: 98.52%\n",
      "Test loss: 1.799, Accuracy: 65.15%\n",
      "Epoch 39\n",
      "Train Accuracy: 97.96%\n",
      "Test loss: 1.736, Accuracy: 66.67%\n",
      "Epoch 40\n",
      "Train Accuracy: 99.44%\n",
      "Test loss: 1.841, Accuracy: 65.53%\n",
      "Epoch 41\n",
      "Train Accuracy: 99.63%\n",
      "Test loss: 1.725, Accuracy: 65.53%\n",
      "Epoch 42\n",
      "Train Accuracy: 99.72%\n",
      "Test loss: 1.807, Accuracy: 63.64%\n",
      "Epoch 43\n",
      "Train Accuracy: 99.72%\n",
      "Test loss: 1.755, Accuracy: 65.53%\n",
      "Epoch 44\n",
      "Train Accuracy: 99.54%\n",
      "Test loss: 1.839, Accuracy: 66.67%\n",
      "Epoch 45\n",
      "Train Accuracy: 98.52%\n",
      "Test loss: 2.041, Accuracy: 61.74%\n",
      "Epoch 46\n",
      "Train Accuracy: 96.94%\n",
      "Test loss: 1.884, Accuracy: 64.02%\n",
      "Epoch 47\n",
      "Train Accuracy: 99.26%\n",
      "Test loss: 1.849, Accuracy: 63.26%\n",
      "Epoch 48\n",
      "Train Accuracy: 97.96%\n",
      "Test loss: 1.945, Accuracy: 63.64%\n",
      "Epoch 49\n",
      "Train Accuracy: 96.75%\n",
      "Test loss: 1.942, Accuracy: 62.50%\n",
      "Epoch 50\n",
      "Train Accuracy: 99.72%\n",
      "Test loss: 1.864, Accuracy: 64.77%\n"
     ]
    },
    {
     "data": {
      "application/vnd.jupyter.widget-view+json": {
       "model_id": "802c4ddbaddd44319615500f12403b68",
       "version_major": 2,
       "version_minor": 0
      },
      "text/plain": [
       "VBox(children=(Label(value='21.681 MB of 21.681 MB uploaded (20.274 MB deduped)\\r'), FloatProgress(value=1.0, …"
      ]
     },
     "metadata": {},
     "output_type": "display_data"
    },
    {
     "data": {
      "text/html": [
       "W&B sync reduced upload amount by 93.2%"
      ],
      "text/plain": [
       "<IPython.core.display.HTML object>"
      ]
     },
     "metadata": {},
     "output_type": "display_data"
    },
    {
     "data": {
      "text/html": [
       "<style>\n",
       "    table.wandb td:nth-child(1) { padding: 0 10px; text-align: left ; width: auto;} td:nth-child(2) {text-align: left ; width: 100%}\n",
       "    .wandb-row { display: flex; flex-direction: row; flex-wrap: wrap; justify-content: flex-start; width: 100% }\n",
       "    .wandb-col { display: flex; flex-direction: column; flex-basis: 100%; flex: 1; padding: 10px; }\n",
       "    </style>\n",
       "<div class=\"wandb-row\"><div class=\"wandb-col\"><h3>Run history:</h3><br/><table class=\"wandb\"><tr><td>iter_accuracy</td><td>▁▃▄▄▅▆▆▆▆▇▇▇▇▇▇▇▇██▇████████████████████</td></tr><tr><td>tr_accuracy</td><td>▁▃▄▄▅▅▆▆▆▇▇▇▇▇▇▇▇▇██▇███████████████████</td></tr><tr><td>val_accuracy</td><td>▁▅▅▆▅▆▆▆█▇▆▆▇▆▇██▇▇▇▇▆▇▇▇▇▇█▇█▇██▇██▇▇▇▇</td></tr></table><br/></div><div class=\"wandb-col\"><h3>Run summary:</h3><br/><table class=\"wandb\"><tr><td>iter_accuracy</td><td>100.0</td></tr><tr><td>tr_accuracy</td><td>99.72171</td></tr><tr><td>val_accuracy</td><td>64.77273</td></tr></table><br/></div></div>"
      ],
      "text/plain": [
       "<IPython.core.display.HTML object>"
      ]
     },
     "metadata": {},
     "output_type": "display_data"
    },
    {
     "data": {
      "text/html": [
       " View run <strong style=\"color:#cdcd00\">earthy-sweep-102</strong> at: <a href='https://wandb.ai/bhkim003-seoul-national-university/reservoir/runs/ac6ls9a3' target=\"_blank\">https://wandb.ai/bhkim003-seoul-national-university/reservoir/runs/ac6ls9a3</a><br/> View project at: <a href='https://wandb.ai/bhkim003-seoul-national-university/reservoir' target=\"_blank\">https://wandb.ai/bhkim003-seoul-national-university/reservoir</a><br/>Synced 7 W&B file(s), 0 media file(s), 31 artifact file(s) and 1 other file(s)"
      ],
      "text/plain": [
       "<IPython.core.display.HTML object>"
      ]
     },
     "metadata": {},
     "output_type": "display_data"
    },
    {
     "data": {
      "text/html": [
       "Find logs at: <code>./wandb/run-20240726_111649-ac6ls9a3/logs</code>"
      ],
      "text/plain": [
       "<IPython.core.display.HTML object>"
      ]
     },
     "metadata": {},
     "output_type": "display_data"
    },
    {
     "data": {
      "text/html": [
       "The new W&B backend becomes opt-out in version 0.18.0; try it out with `wandb.require(\"core\")`! See https://wandb.me/wandb-core for more information."
      ],
      "text/plain": [
       "<IPython.core.display.HTML object>"
      ]
     },
     "metadata": {},
     "output_type": "display_data"
    },
    {
     "name": "stderr",
     "output_type": "stream",
     "text": [
      "\u001b[34m\u001b[1mwandb\u001b[0m: Agent Starting Run: pfpnvg31 with config:\n",
      "\u001b[34m\u001b[1mwandb\u001b[0m: \tEPOCH: 50\n",
      "\u001b[34m\u001b[1mwandb\u001b[0m: \tIMAGE_SIZE: 128\n",
      "\u001b[34m\u001b[1mwandb\u001b[0m: \tbatch_size: 16\n",
      "\u001b[34m\u001b[1mwandb\u001b[0m: \tdata_path: /data2\n",
      "\u001b[34m\u001b[1mwandb\u001b[0m: \tdecay: 0.9326104311562914\n",
      "\u001b[34m\u001b[1mwandb\u001b[0m: \tdvs_clipping: True\n",
      "\u001b[34m\u001b[1mwandb\u001b[0m: \tdvs_duration: 1000000\n",
      "\u001b[34m\u001b[1mwandb\u001b[0m: \tlearning_rate: 0.026441586959243948\n",
      "\u001b[34m\u001b[1mwandb\u001b[0m: \tno_reservoir: True\n",
      "\u001b[34m\u001b[1mwandb\u001b[0m: \tpre_spike_weight: 9.532159569314796\n",
      "\u001b[34m\u001b[1mwandb\u001b[0m: \trate_coding: False\n",
      "\u001b[34m\u001b[1mwandb\u001b[0m: \ttime_step: 5\n",
      "\u001b[34m\u001b[1mwandb\u001b[0m: \twhich_data: DVS_GESTURE\n",
      "Failed to detect the name of this notebook, you can set it manually with the WANDB_NOTEBOOK_NAME environment variable to enable code saving.\n"
     ]
    },
    {
     "data": {
      "text/html": [
       "Tracking run with wandb version 0.17.5"
      ],
      "text/plain": [
       "<IPython.core.display.HTML object>"
      ]
     },
     "metadata": {},
     "output_type": "display_data"
    },
    {
     "data": {
      "text/html": [
       "Run data is saved locally in <code>/nfs/home/bhkim003/github_folder/ByeonghyeonKim/my_snn/wandb/run-20240726_112249-pfpnvg31</code>"
      ],
      "text/plain": [
       "<IPython.core.display.HTML object>"
      ]
     },
     "metadata": {},
     "output_type": "display_data"
    },
    {
     "data": {
      "text/html": [
       "Syncing run <strong><a href='https://wandb.ai/bhkim003-seoul-national-university/reservoir/runs/pfpnvg31' target=\"_blank\">radiant-sweep-103</a></strong> to <a href='https://wandb.ai/bhkim003-seoul-national-university/reservoir' target=\"_blank\">Weights & Biases</a> (<a href='https://wandb.me/run' target=\"_blank\">docs</a>)<br/>Sweep page: <a href='https://wandb.ai/bhkim003-seoul-national-university/reservoir/sweeps/0j0aowy8' target=\"_blank\">https://wandb.ai/bhkim003-seoul-national-university/reservoir/sweeps/0j0aowy8</a>"
      ],
      "text/plain": [
       "<IPython.core.display.HTML object>"
      ]
     },
     "metadata": {},
     "output_type": "display_data"
    },
    {
     "data": {
      "text/html": [
       " View project at <a href='https://wandb.ai/bhkim003-seoul-national-university/reservoir' target=\"_blank\">https://wandb.ai/bhkim003-seoul-national-university/reservoir</a>"
      ],
      "text/plain": [
       "<IPython.core.display.HTML object>"
      ]
     },
     "metadata": {},
     "output_type": "display_data"
    },
    {
     "data": {
      "text/html": [
       " View sweep at <a href='https://wandb.ai/bhkim003-seoul-national-university/reservoir/sweeps/0j0aowy8' target=\"_blank\">https://wandb.ai/bhkim003-seoul-national-university/reservoir/sweeps/0j0aowy8</a>"
      ],
      "text/plain": [
       "<IPython.core.display.HTML object>"
      ]
     },
     "metadata": {},
     "output_type": "display_data"
    },
    {
     "data": {
      "text/html": [
       " View run at <a href='https://wandb.ai/bhkim003-seoul-national-university/reservoir/runs/pfpnvg31' target=\"_blank\">https://wandb.ai/bhkim003-seoul-national-university/reservoir/runs/pfpnvg31</a>"
      ],
      "text/plain": [
       "<IPython.core.display.HTML object>"
      ]
     },
     "metadata": {},
     "output_type": "display_data"
    },
    {
     "name": "stderr",
     "output_type": "stream",
     "text": [
      "\u001b[34m\u001b[1mwandb\u001b[0m: \u001b[33mWARNING\u001b[0m Config item 'data_path' was locked by 'sweep' (ignored update).\n",
      "\u001b[34m\u001b[1mwandb\u001b[0m: \u001b[33mWARNING\u001b[0m Config item 'which_data' was locked by 'sweep' (ignored update).\n",
      "\u001b[34m\u001b[1mwandb\u001b[0m: \u001b[33mWARNING\u001b[0m Config item 'learning_rate' was locked by 'sweep' (ignored update).\n",
      "\u001b[34m\u001b[1mwandb\u001b[0m: \u001b[33mWARNING\u001b[0m Config item 'IMAGE_SIZE' was locked by 'sweep' (ignored update).\n",
      "\u001b[34m\u001b[1mwandb\u001b[0m: \u001b[33mWARNING\u001b[0m Config item 'EPOCH' was locked by 'sweep' (ignored update).\n",
      "\u001b[34m\u001b[1mwandb\u001b[0m: \u001b[33mWARNING\u001b[0m Config item 'rate_coding' was locked by 'sweep' (ignored update).\n",
      "\u001b[34m\u001b[1mwandb\u001b[0m: \u001b[33mWARNING\u001b[0m Config item 'pre_spike_weight' was locked by 'sweep' (ignored update).\n",
      "\u001b[34m\u001b[1mwandb\u001b[0m: \u001b[33mWARNING\u001b[0m Config item 'dvs_duration' was locked by 'sweep' (ignored update).\n",
      "\u001b[34m\u001b[1mwandb\u001b[0m: \u001b[33mWARNING\u001b[0m Config item 'dvs_clipping' was locked by 'sweep' (ignored update).\n",
      "\u001b[34m\u001b[1mwandb\u001b[0m: \u001b[33mWARNING\u001b[0m Config item 'no_reservoir' was locked by 'sweep' (ignored update).\n"
     ]
    },
    {
     "name": "stdout",
     "output_type": "stream",
     "text": [
      "The directory [/data2/gesture/duration_1000000] already exists.\n",
      "The directory [/data2/gesture/duration_1000000] already exists.\n",
      "NO_RESERVOIR_NET(\n",
      "  (reservoir): RESERVOIR(\n",
      "    (conv_depthwise): Conv2d(2, 2, kernel_size=(3, 3), stride=(1, 1), padding=(1, 1), groups=2)\n",
      "  )\n",
      "  (linear): Linear(in_features=32768, out_features=10, bias=True)\n",
      ")\n",
      "Epoch 1\n",
      "Train Accuracy: 41.37%\n",
      "Test loss: 62.659, Accuracy: 48.48%\n",
      "Epoch 2\n",
      "Train Accuracy: 59.93%\n",
      "Test loss: 72.003, Accuracy: 59.09%\n",
      "Epoch 3\n",
      "Train Accuracy: 70.78%\n",
      "Test loss: 33.590, Accuracy: 56.44%\n",
      "Epoch 4\n",
      "Train Accuracy: 74.86%\n",
      "Test loss: 46.471, Accuracy: 53.79%\n",
      "Epoch 5\n",
      "Train Accuracy: 79.96%\n",
      "Test loss: 19.141, Accuracy: 64.77%\n",
      "Epoch 6\n",
      "Train Accuracy: 89.33%\n",
      "Test loss: 18.450, Accuracy: 62.88%\n",
      "Epoch 7\n",
      "Train Accuracy: 90.91%\n",
      "Test loss: 19.668, Accuracy: 62.50%\n",
      "Epoch 8\n",
      "Train Accuracy: 91.47%\n",
      "Test loss: 16.078, Accuracy: 64.02%\n",
      "Epoch 9\n",
      "Train Accuracy: 89.15%\n",
      "Test loss: 25.128, Accuracy: 67.42%\n",
      "Epoch 10\n",
      "Train Accuracy: 91.37%\n",
      "Test loss: 20.658, Accuracy: 68.94%\n",
      "Epoch 11\n",
      "Train Accuracy: 92.30%\n",
      "Test loss: 34.311, Accuracy: 65.53%\n",
      "Epoch 12\n",
      "Train Accuracy: 90.17%\n",
      "Test loss: 16.078, Accuracy: 65.91%\n",
      "Epoch 13\n",
      "Train Accuracy: 97.40%\n",
      "Test loss: 23.405, Accuracy: 63.26%\n",
      "Epoch 14\n",
      "Train Accuracy: 97.68%\n",
      "Test loss: 17.211, Accuracy: 66.67%\n",
      "Epoch 15\n",
      "Train Accuracy: 98.70%\n",
      "Test loss: 17.442, Accuracy: 67.80%\n",
      "Epoch 16\n",
      "Train Accuracy: 98.89%\n",
      "Test loss: 17.800, Accuracy: 67.80%\n",
      "Epoch 17\n",
      "Train Accuracy: 96.47%\n",
      "Test loss: 16.536, Accuracy: 68.94%\n",
      "Epoch 18\n",
      "Train Accuracy: 98.70%\n",
      "Test loss: 19.620, Accuracy: 67.42%\n",
      "Epoch 19\n",
      "Train Accuracy: 98.24%\n",
      "Test loss: 13.255, Accuracy: 72.35%\n",
      "Epoch 20\n",
      "Train Accuracy: 95.08%\n",
      "Test loss: 24.311, Accuracy: 60.98%\n",
      "Epoch 21\n",
      "Train Accuracy: 94.06%\n",
      "Test loss: 16.546, Accuracy: 66.67%\n",
      "Epoch 22\n",
      "Train Accuracy: 99.44%\n",
      "Test loss: 14.809, Accuracy: 68.56%\n",
      "Epoch 23\n",
      "Train Accuracy: 99.72%\n",
      "Test loss: 13.630, Accuracy: 70.08%\n",
      "Epoch 24\n",
      "Train Accuracy: 100.00%\n",
      "Test loss: 13.659, Accuracy: 70.08%\n",
      "Epoch 25\n",
      "Train Accuracy: 100.00%\n",
      "Test loss: 13.661, Accuracy: 70.08%\n",
      "Epoch 26\n",
      "Train Accuracy: 100.00%\n",
      "Test loss: 13.662, Accuracy: 70.08%\n",
      "Epoch 27\n",
      "Train Accuracy: 100.00%\n",
      "Test loss: 13.663, Accuracy: 70.08%\n",
      "Epoch 28\n",
      "Train Accuracy: 100.00%\n",
      "Test loss: 13.663, Accuracy: 70.08%\n",
      "Epoch 29\n",
      "Train Accuracy: 100.00%\n",
      "Test loss: 13.664, Accuracy: 70.08%\n",
      "Epoch 30\n",
      "Train Accuracy: 100.00%\n",
      "Test loss: 13.665, Accuracy: 70.08%\n",
      "Epoch 31\n",
      "Train Accuracy: 100.00%\n",
      "Test loss: 13.665, Accuracy: 70.08%\n",
      "Epoch 32\n",
      "Train Accuracy: 100.00%\n",
      "Test loss: 13.665, Accuracy: 70.08%\n",
      "Epoch 33\n",
      "Train Accuracy: 100.00%\n",
      "Test loss: 13.666, Accuracy: 70.08%\n",
      "Epoch 34\n",
      "Train Accuracy: 100.00%\n",
      "Test loss: 13.666, Accuracy: 70.08%\n",
      "Epoch 35\n",
      "Train Accuracy: 100.00%\n",
      "Test loss: 13.666, Accuracy: 70.08%\n",
      "Epoch 36\n",
      "Train Accuracy: 100.00%\n",
      "Test loss: 13.667, Accuracy: 70.08%\n",
      "Epoch 37\n",
      "Train Accuracy: 100.00%\n",
      "Test loss: 13.667, Accuracy: 70.08%\n",
      "Epoch 38\n",
      "Train Accuracy: 100.00%\n",
      "Test loss: 13.667, Accuracy: 70.08%\n",
      "Epoch 39\n",
      "Train Accuracy: 100.00%\n",
      "Test loss: 13.667, Accuracy: 70.08%\n",
      "Epoch 40\n",
      "Train Accuracy: 100.00%\n",
      "Test loss: 13.668, Accuracy: 70.08%\n",
      "Epoch 41\n",
      "Train Accuracy: 100.00%\n",
      "Test loss: 13.668, Accuracy: 70.08%\n",
      "Epoch 42\n",
      "Train Accuracy: 100.00%\n",
      "Test loss: 13.668, Accuracy: 70.08%\n",
      "Epoch 43\n",
      "Train Accuracy: 100.00%\n",
      "Test loss: 13.668, Accuracy: 70.08%\n",
      "Epoch 44\n",
      "Train Accuracy: 100.00%\n",
      "Test loss: 13.669, Accuracy: 70.08%\n",
      "Epoch 45\n",
      "Train Accuracy: 100.00%\n",
      "Test loss: 13.669, Accuracy: 70.08%\n",
      "Epoch 46\n",
      "Train Accuracy: 100.00%\n",
      "Test loss: 13.669, Accuracy: 70.08%\n",
      "Epoch 47\n",
      "Train Accuracy: 100.00%\n",
      "Test loss: 13.669, Accuracy: 70.08%\n",
      "Epoch 48\n",
      "Train Accuracy: 100.00%\n",
      "Test loss: 13.669, Accuracy: 70.08%\n",
      "Epoch 49\n",
      "Train Accuracy: 100.00%\n",
      "Test loss: 13.669, Accuracy: 70.08%\n",
      "Epoch 50\n",
      "Train Accuracy: 100.00%\n",
      "Test loss: 13.669, Accuracy: 70.08%\n"
     ]
    },
    {
     "data": {
      "application/vnd.jupyter.widget-view+json": {
       "model_id": "9ab51d2bcb8c4b7a9a81d5c080a1ba19",
       "version_major": 2,
       "version_minor": 0
      },
      "text/plain": [
       "VBox(children=(Label(value='22.080 MB of 22.080 MB uploaded (20.455 MB deduped)\\r'), FloatProgress(value=1.0, …"
      ]
     },
     "metadata": {},
     "output_type": "display_data"
    },
    {
     "data": {
      "text/html": [
       "W&B sync reduced upload amount by 92.4%"
      ],
      "text/plain": [
       "<IPython.core.display.HTML object>"
      ]
     },
     "metadata": {},
     "output_type": "display_data"
    },
    {
     "data": {
      "text/html": [
       "<style>\n",
       "    table.wandb td:nth-child(1) { padding: 0 10px; text-align: left ; width: auto;} td:nth-child(2) {text-align: left ; width: 100%}\n",
       "    .wandb-row { display: flex; flex-direction: row; flex-wrap: wrap; justify-content: flex-start; width: 100% }\n",
       "    .wandb-col { display: flex; flex-direction: column; flex-basis: 100%; flex: 1; padding: 10px; }\n",
       "    </style>\n",
       "<div class=\"wandb-row\"><div class=\"wandb-col\"><h3>Run history:</h3><br/><table class=\"wandb\"><tr><td>iter_accuracy</td><td>▁▅▇▆▆▇▄██▆███▇█▇████████████████████████</td></tr><tr><td>tr_accuracy</td><td>▁▃▅▅▇▇▇▇▇▇██████▇███████████████████████</td></tr><tr><td>val_accuracy</td><td>▁▄▃▃▅▅▆▇▆▆▅▆▇▇▇█▆▇▇▇▇▇▇▇▇▇▇▇▇▇▇▇▇▇▇▇▇▇▇▇</td></tr></table><br/></div><div class=\"wandb-col\"><h3>Run summary:</h3><br/><table class=\"wandb\"><tr><td>iter_accuracy</td><td>100.0</td></tr><tr><td>tr_accuracy</td><td>100.0</td></tr><tr><td>val_accuracy</td><td>70.07576</td></tr></table><br/></div></div>"
      ],
      "text/plain": [
       "<IPython.core.display.HTML object>"
      ]
     },
     "metadata": {},
     "output_type": "display_data"
    },
    {
     "data": {
      "text/html": [
       " View run <strong style=\"color:#cdcd00\">radiant-sweep-103</strong> at: <a href='https://wandb.ai/bhkim003-seoul-national-university/reservoir/runs/pfpnvg31' target=\"_blank\">https://wandb.ai/bhkim003-seoul-national-university/reservoir/runs/pfpnvg31</a><br/> View project at: <a href='https://wandb.ai/bhkim003-seoul-national-university/reservoir' target=\"_blank\">https://wandb.ai/bhkim003-seoul-national-university/reservoir</a><br/>Synced 7 W&B file(s), 0 media file(s), 32 artifact file(s) and 1 other file(s)"
      ],
      "text/plain": [
       "<IPython.core.display.HTML object>"
      ]
     },
     "metadata": {},
     "output_type": "display_data"
    },
    {
     "data": {
      "text/html": [
       "Find logs at: <code>./wandb/run-20240726_112249-pfpnvg31/logs</code>"
      ],
      "text/plain": [
       "<IPython.core.display.HTML object>"
      ]
     },
     "metadata": {},
     "output_type": "display_data"
    },
    {
     "data": {
      "text/html": [
       "The new W&B backend becomes opt-out in version 0.18.0; try it out with `wandb.require(\"core\")`! See https://wandb.me/wandb-core for more information."
      ],
      "text/plain": [
       "<IPython.core.display.HTML object>"
      ]
     },
     "metadata": {},
     "output_type": "display_data"
    },
    {
     "name": "stderr",
     "output_type": "stream",
     "text": [
      "\u001b[34m\u001b[1mwandb\u001b[0m: Agent Starting Run: reea4hqy with config:\n",
      "\u001b[34m\u001b[1mwandb\u001b[0m: \tEPOCH: 50\n",
      "\u001b[34m\u001b[1mwandb\u001b[0m: \tIMAGE_SIZE: 16\n",
      "\u001b[34m\u001b[1mwandb\u001b[0m: \tbatch_size: 64\n",
      "\u001b[34m\u001b[1mwandb\u001b[0m: \tdata_path: /data2\n",
      "\u001b[34m\u001b[1mwandb\u001b[0m: \tdecay: 0.5652978632799668\n",
      "\u001b[34m\u001b[1mwandb\u001b[0m: \tdvs_clipping: True\n",
      "\u001b[34m\u001b[1mwandb\u001b[0m: \tdvs_duration: 1000000\n",
      "\u001b[34m\u001b[1mwandb\u001b[0m: \tlearning_rate: 0.0990144465846309\n",
      "\u001b[34m\u001b[1mwandb\u001b[0m: \tno_reservoir: False\n",
      "\u001b[34m\u001b[1mwandb\u001b[0m: \tpre_spike_weight: 3.691782674653536\n",
      "\u001b[34m\u001b[1mwandb\u001b[0m: \trate_coding: True\n",
      "\u001b[34m\u001b[1mwandb\u001b[0m: \ttime_step: 8\n",
      "\u001b[34m\u001b[1mwandb\u001b[0m: \twhich_data: DVS_GESTURE\n",
      "Failed to detect the name of this notebook, you can set it manually with the WANDB_NOTEBOOK_NAME environment variable to enable code saving.\n"
     ]
    },
    {
     "data": {
      "text/html": [
       "Tracking run with wandb version 0.17.5"
      ],
      "text/plain": [
       "<IPython.core.display.HTML object>"
      ]
     },
     "metadata": {},
     "output_type": "display_data"
    },
    {
     "data": {
      "text/html": [
       "Run data is saved locally in <code>/nfs/home/bhkim003/github_folder/ByeonghyeonKim/my_snn/wandb/run-20240726_113142-reea4hqy</code>"
      ],
      "text/plain": [
       "<IPython.core.display.HTML object>"
      ]
     },
     "metadata": {},
     "output_type": "display_data"
    },
    {
     "data": {
      "text/html": [
       "Syncing run <strong><a href='https://wandb.ai/bhkim003-seoul-national-university/reservoir/runs/reea4hqy' target=\"_blank\">quiet-sweep-104</a></strong> to <a href='https://wandb.ai/bhkim003-seoul-national-university/reservoir' target=\"_blank\">Weights & Biases</a> (<a href='https://wandb.me/run' target=\"_blank\">docs</a>)<br/>Sweep page: <a href='https://wandb.ai/bhkim003-seoul-national-university/reservoir/sweeps/0j0aowy8' target=\"_blank\">https://wandb.ai/bhkim003-seoul-national-university/reservoir/sweeps/0j0aowy8</a>"
      ],
      "text/plain": [
       "<IPython.core.display.HTML object>"
      ]
     },
     "metadata": {},
     "output_type": "display_data"
    },
    {
     "data": {
      "text/html": [
       " View project at <a href='https://wandb.ai/bhkim003-seoul-national-university/reservoir' target=\"_blank\">https://wandb.ai/bhkim003-seoul-national-university/reservoir</a>"
      ],
      "text/plain": [
       "<IPython.core.display.HTML object>"
      ]
     },
     "metadata": {},
     "output_type": "display_data"
    },
    {
     "data": {
      "text/html": [
       " View sweep at <a href='https://wandb.ai/bhkim003-seoul-national-university/reservoir/sweeps/0j0aowy8' target=\"_blank\">https://wandb.ai/bhkim003-seoul-national-university/reservoir/sweeps/0j0aowy8</a>"
      ],
      "text/plain": [
       "<IPython.core.display.HTML object>"
      ]
     },
     "metadata": {},
     "output_type": "display_data"
    },
    {
     "data": {
      "text/html": [
       " View run at <a href='https://wandb.ai/bhkim003-seoul-national-university/reservoir/runs/reea4hqy' target=\"_blank\">https://wandb.ai/bhkim003-seoul-national-university/reservoir/runs/reea4hqy</a>"
      ],
      "text/plain": [
       "<IPython.core.display.HTML object>"
      ]
     },
     "metadata": {},
     "output_type": "display_data"
    },
    {
     "name": "stderr",
     "output_type": "stream",
     "text": [
      "\u001b[34m\u001b[1mwandb\u001b[0m: \u001b[33mWARNING\u001b[0m Config item 'data_path' was locked by 'sweep' (ignored update).\n",
      "\u001b[34m\u001b[1mwandb\u001b[0m: \u001b[33mWARNING\u001b[0m Config item 'which_data' was locked by 'sweep' (ignored update).\n",
      "\u001b[34m\u001b[1mwandb\u001b[0m: \u001b[33mWARNING\u001b[0m Config item 'learning_rate' was locked by 'sweep' (ignored update).\n",
      "\u001b[34m\u001b[1mwandb\u001b[0m: \u001b[33mWARNING\u001b[0m Config item 'IMAGE_SIZE' was locked by 'sweep' (ignored update).\n",
      "\u001b[34m\u001b[1mwandb\u001b[0m: \u001b[33mWARNING\u001b[0m Config item 'EPOCH' was locked by 'sweep' (ignored update).\n",
      "\u001b[34m\u001b[1mwandb\u001b[0m: \u001b[33mWARNING\u001b[0m Config item 'rate_coding' was locked by 'sweep' (ignored update).\n",
      "\u001b[34m\u001b[1mwandb\u001b[0m: \u001b[33mWARNING\u001b[0m Config item 'pre_spike_weight' was locked by 'sweep' (ignored update).\n",
      "\u001b[34m\u001b[1mwandb\u001b[0m: \u001b[33mWARNING\u001b[0m Config item 'dvs_duration' was locked by 'sweep' (ignored update).\n",
      "\u001b[34m\u001b[1mwandb\u001b[0m: \u001b[33mWARNING\u001b[0m Config item 'dvs_clipping' was locked by 'sweep' (ignored update).\n",
      "\u001b[34m\u001b[1mwandb\u001b[0m: \u001b[33mWARNING\u001b[0m Config item 'no_reservoir' was locked by 'sweep' (ignored update).\n"
     ]
    },
    {
     "name": "stdout",
     "output_type": "stream",
     "text": [
      "The directory [/data2/gesture/duration_1000000] already exists.\n",
      "The directory [/data2/gesture/duration_1000000] already exists.\n",
      "RESERVOIR_NET(\n",
      "  (reservoir): RESERVOIR(\n",
      "    (conv_depthwise): Conv2d(2, 2, kernel_size=(3, 3), stride=(1, 1), padding=(1, 1), groups=2)\n",
      "  )\n",
      "  (linear): Linear(in_features=512, out_features=10, bias=True)\n",
      ")\n",
      "Epoch 1\n",
      "Train Accuracy: 32.10%\n",
      "Test loss: 1.827, Accuracy: 42.05%\n",
      "Epoch 2\n",
      "Train Accuracy: 56.22%\n",
      "Test loss: 1.299, Accuracy: 54.92%\n",
      "Epoch 3\n",
      "Train Accuracy: 62.34%\n",
      "Test loss: 1.694, Accuracy: 56.06%\n",
      "Epoch 4\n",
      "Train Accuracy: 68.46%\n",
      "Test loss: 1.482, Accuracy: 56.06%\n",
      "Epoch 5\n",
      "Train Accuracy: 72.45%\n",
      "Test loss: 1.266, Accuracy: 60.98%\n",
      "Epoch 6\n",
      "Train Accuracy: 79.59%\n",
      "Test loss: 1.635, Accuracy: 56.44%\n",
      "Epoch 7\n",
      "Train Accuracy: 76.35%\n",
      "Test loss: 1.264, Accuracy: 62.12%\n",
      "Epoch 8\n",
      "Train Accuracy: 80.52%\n",
      "Test loss: 1.231, Accuracy: 62.88%\n",
      "Epoch 9\n",
      "Train Accuracy: 78.57%\n",
      "Test loss: 1.178, Accuracy: 63.64%\n",
      "Epoch 10\n",
      "Train Accuracy: 81.82%\n",
      "Test loss: 1.432, Accuracy: 59.09%\n",
      "Epoch 11\n",
      "Train Accuracy: 85.34%\n",
      "Test loss: 1.145, Accuracy: 64.77%\n",
      "Epoch 12\n",
      "Train Accuracy: 85.90%\n",
      "Test loss: 1.129, Accuracy: 67.80%\n",
      "Epoch 13\n",
      "Train Accuracy: 86.18%\n",
      "Test loss: 1.352, Accuracy: 66.67%\n",
      "Epoch 14\n",
      "Train Accuracy: 88.78%\n",
      "Test loss: 1.629, Accuracy: 65.53%\n",
      "Epoch 15\n",
      "Train Accuracy: 88.13%\n",
      "Test loss: 1.511, Accuracy: 60.23%\n",
      "Epoch 16\n",
      "Train Accuracy: 89.42%\n",
      "Test loss: 1.263, Accuracy: 64.77%\n",
      "Epoch 17\n",
      "Train Accuracy: 92.02%\n",
      "Test loss: 1.391, Accuracy: 63.64%\n",
      "Epoch 18\n",
      "Train Accuracy: 93.23%\n",
      "Test loss: 1.440, Accuracy: 61.36%\n",
      "Epoch 19\n",
      "Train Accuracy: 90.63%\n",
      "Test loss: 1.382, Accuracy: 67.05%\n",
      "Epoch 20\n",
      "Train Accuracy: 90.82%\n",
      "Test loss: 1.988, Accuracy: 59.09%\n",
      "Epoch 21\n",
      "Train Accuracy: 90.72%\n",
      "Test loss: 1.494, Accuracy: 67.05%\n",
      "Epoch 22\n",
      "Train Accuracy: 89.61%\n",
      "Test loss: 1.836, Accuracy: 59.85%\n",
      "Epoch 23\n",
      "Train Accuracy: 87.94%\n",
      "Test loss: 1.503, Accuracy: 62.50%\n",
      "Epoch 24\n",
      "Train Accuracy: 93.69%\n",
      "Test loss: 1.462, Accuracy: 60.61%\n",
      "Epoch 25\n",
      "Train Accuracy: 92.67%\n",
      "Test loss: 1.618, Accuracy: 63.64%\n",
      "Epoch 26\n",
      "Train Accuracy: 90.72%\n",
      "Test loss: 1.622, Accuracy: 62.12%\n",
      "Epoch 27\n",
      "Train Accuracy: 91.00%\n",
      "Test loss: 1.424, Accuracy: 64.02%\n",
      "Epoch 28\n",
      "Train Accuracy: 93.32%\n",
      "Test loss: 1.581, Accuracy: 64.39%\n",
      "Epoch 29\n",
      "Train Accuracy: 94.34%\n",
      "Test loss: 1.492, Accuracy: 65.53%\n",
      "Epoch 30\n",
      "Train Accuracy: 97.87%\n",
      "Test loss: 1.535, Accuracy: 64.02%\n",
      "Epoch 31\n",
      "Train Accuracy: 97.68%\n",
      "Test loss: 1.418, Accuracy: 64.77%\n",
      "Epoch 32\n",
      "Train Accuracy: 96.20%\n",
      "Test loss: 1.507, Accuracy: 67.05%\n",
      "Epoch 33\n",
      "Train Accuracy: 96.75%\n",
      "Test loss: 1.572, Accuracy: 63.64%\n",
      "Epoch 34\n",
      "Train Accuracy: 95.08%\n",
      "Test loss: 1.535, Accuracy: 64.39%\n",
      "Epoch 35\n",
      "Train Accuracy: 94.25%\n",
      "Test loss: 1.504, Accuracy: 64.77%\n",
      "Epoch 36\n",
      "Train Accuracy: 97.03%\n",
      "Test loss: 1.552, Accuracy: 64.02%\n",
      "Epoch 37\n",
      "Train Accuracy: 98.98%\n",
      "Test loss: 1.525, Accuracy: 62.88%\n",
      "Epoch 38\n",
      "Train Accuracy: 97.77%\n",
      "Test loss: 1.615, Accuracy: 61.74%\n",
      "Epoch 39\n",
      "Train Accuracy: 98.79%\n",
      "Test loss: 1.806, Accuracy: 63.64%\n",
      "Epoch 40\n",
      "Train Accuracy: 99.26%\n",
      "Test loss: 1.508, Accuracy: 64.02%\n",
      "Epoch 41\n",
      "Train Accuracy: 99.26%\n",
      "Test loss: 1.770, Accuracy: 64.39%\n",
      "Epoch 42\n",
      "Train Accuracy: 98.98%\n",
      "Test loss: 1.486, Accuracy: 62.12%\n",
      "Epoch 43\n",
      "Train Accuracy: 98.79%\n",
      "Test loss: 1.864, Accuracy: 63.64%\n",
      "Epoch 44\n",
      "Train Accuracy: 98.98%\n",
      "Test loss: 1.741, Accuracy: 58.33%\n",
      "Epoch 45\n",
      "Train Accuracy: 97.50%\n",
      "Test loss: 1.726, Accuracy: 60.61%\n",
      "Epoch 46\n",
      "Train Accuracy: 97.87%\n",
      "Test loss: 1.747, Accuracy: 61.74%\n",
      "Epoch 47\n",
      "Train Accuracy: 96.75%\n",
      "Test loss: 1.778, Accuracy: 62.12%\n",
      "Epoch 48\n",
      "Train Accuracy: 97.12%\n",
      "Test loss: 1.634, Accuracy: 62.12%\n",
      "Epoch 49\n",
      "Train Accuracy: 97.31%\n",
      "Test loss: 1.681, Accuracy: 63.64%\n",
      "Epoch 50\n",
      "Train Accuracy: 98.24%\n",
      "Test loss: 1.640, Accuracy: 63.64%\n"
     ]
    },
    {
     "data": {
      "application/vnd.jupyter.widget-view+json": {
       "model_id": "58fbc0f5490d4405a94291cc373f7f5c",
       "version_major": 2,
       "version_minor": 0
      },
      "text/plain": [
       "VBox(children=(Label(value='22.080 MB of 22.080 MB uploaded (20.853 MB deduped)\\r'), FloatProgress(value=1.0, …"
      ]
     },
     "metadata": {},
     "output_type": "display_data"
    },
    {
     "data": {
      "text/html": [
       "W&B sync reduced upload amount by 94.2%"
      ],
      "text/plain": [
       "<IPython.core.display.HTML object>"
      ]
     },
     "metadata": {},
     "output_type": "display_data"
    },
    {
     "data": {
      "text/html": [
       "<style>\n",
       "    table.wandb td:nth-child(1) { padding: 0 10px; text-align: left ; width: auto;} td:nth-child(2) {text-align: left ; width: 100%}\n",
       "    .wandb-row { display: flex; flex-direction: row; flex-wrap: wrap; justify-content: flex-start; width: 100% }\n",
       "    .wandb-col { display: flex; flex-direction: column; flex-basis: 100%; flex: 1; padding: 10px; }\n",
       "    </style>\n",
       "<div class=\"wandb-row\"><div class=\"wandb-col\"><h3>Run history:</h3><br/><table class=\"wandb\"><tr><td>iter_accuracy</td><td>▁▃▅▆▆▇▇▆▇▆▇▇▇▇██▇▇██▇▇▇████▇██████████▇█</td></tr><tr><td>tr_accuracy</td><td>▁▄▄▅▆▆▆▆▇▇▇▇▇▇▇▇▇▇▇▇▇▇▇▇████████████████</td></tr><tr><td>val_accuracy</td><td>▁▅▅▅▅▆▇▇▇██▇▇▇▆██▆▇▆▆▇▇▇▇█▇▇▇▇▆▇▇▆▇▅▆▆▆▇</td></tr></table><br/></div><div class=\"wandb-col\"><h3>Run summary:</h3><br/><table class=\"wandb\"><tr><td>iter_accuracy</td><td>98.14815</td></tr><tr><td>tr_accuracy</td><td>98.23748</td></tr><tr><td>val_accuracy</td><td>63.63636</td></tr></table><br/></div></div>"
      ],
      "text/plain": [
       "<IPython.core.display.HTML object>"
      ]
     },
     "metadata": {},
     "output_type": "display_data"
    },
    {
     "data": {
      "text/html": [
       " View run <strong style=\"color:#cdcd00\">quiet-sweep-104</strong> at: <a href='https://wandb.ai/bhkim003-seoul-national-university/reservoir/runs/reea4hqy' target=\"_blank\">https://wandb.ai/bhkim003-seoul-national-university/reservoir/runs/reea4hqy</a><br/> View project at: <a href='https://wandb.ai/bhkim003-seoul-national-university/reservoir' target=\"_blank\">https://wandb.ai/bhkim003-seoul-national-university/reservoir</a><br/>Synced 7 W&B file(s), 0 media file(s), 32 artifact file(s) and 1 other file(s)"
      ],
      "text/plain": [
       "<IPython.core.display.HTML object>"
      ]
     },
     "metadata": {},
     "output_type": "display_data"
    },
    {
     "data": {
      "text/html": [
       "Find logs at: <code>./wandb/run-20240726_113142-reea4hqy/logs</code>"
      ],
      "text/plain": [
       "<IPython.core.display.HTML object>"
      ]
     },
     "metadata": {},
     "output_type": "display_data"
    },
    {
     "data": {
      "text/html": [
       "The new W&B backend becomes opt-out in version 0.18.0; try it out with `wandb.require(\"core\")`! See https://wandb.me/wandb-core for more information."
      ],
      "text/plain": [
       "<IPython.core.display.HTML object>"
      ]
     },
     "metadata": {},
     "output_type": "display_data"
    },
    {
     "name": "stderr",
     "output_type": "stream",
     "text": [
      "\u001b[34m\u001b[1mwandb\u001b[0m: Agent Starting Run: z7l1yeux with config:\n",
      "\u001b[34m\u001b[1mwandb\u001b[0m: \tEPOCH: 50\n",
      "\u001b[34m\u001b[1mwandb\u001b[0m: \tIMAGE_SIZE: 48\n",
      "\u001b[34m\u001b[1mwandb\u001b[0m: \tbatch_size: 256\n",
      "\u001b[34m\u001b[1mwandb\u001b[0m: \tdata_path: /data2\n",
      "\u001b[34m\u001b[1mwandb\u001b[0m: \tdecay: 0.9905740142872672\n",
      "\u001b[34m\u001b[1mwandb\u001b[0m: \tdvs_clipping: True\n",
      "\u001b[34m\u001b[1mwandb\u001b[0m: \tdvs_duration: 1000000\n",
      "\u001b[34m\u001b[1mwandb\u001b[0m: \tlearning_rate: 0.052716881645520595\n",
      "\u001b[34m\u001b[1mwandb\u001b[0m: \tno_reservoir: True\n",
      "\u001b[34m\u001b[1mwandb\u001b[0m: \tpre_spike_weight: 0.5034640403356565\n",
      "\u001b[34m\u001b[1mwandb\u001b[0m: \trate_coding: True\n",
      "\u001b[34m\u001b[1mwandb\u001b[0m: \ttime_step: 4\n",
      "\u001b[34m\u001b[1mwandb\u001b[0m: \twhich_data: DVS_GESTURE\n",
      "Failed to detect the name of this notebook, you can set it manually with the WANDB_NOTEBOOK_NAME environment variable to enable code saving.\n"
     ]
    },
    {
     "data": {
      "text/html": [
       "Tracking run with wandb version 0.17.5"
      ],
      "text/plain": [
       "<IPython.core.display.HTML object>"
      ]
     },
     "metadata": {},
     "output_type": "display_data"
    },
    {
     "data": {
      "text/html": [
       "Run data is saved locally in <code>/nfs/home/bhkim003/github_folder/ByeonghyeonKim/my_snn/wandb/run-20240726_113718-z7l1yeux</code>"
      ],
      "text/plain": [
       "<IPython.core.display.HTML object>"
      ]
     },
     "metadata": {},
     "output_type": "display_data"
    },
    {
     "data": {
      "text/html": [
       "Syncing run <strong><a href='https://wandb.ai/bhkim003-seoul-national-university/reservoir/runs/z7l1yeux' target=\"_blank\">classic-sweep-105</a></strong> to <a href='https://wandb.ai/bhkim003-seoul-national-university/reservoir' target=\"_blank\">Weights & Biases</a> (<a href='https://wandb.me/run' target=\"_blank\">docs</a>)<br/>Sweep page: <a href='https://wandb.ai/bhkim003-seoul-national-university/reservoir/sweeps/0j0aowy8' target=\"_blank\">https://wandb.ai/bhkim003-seoul-national-university/reservoir/sweeps/0j0aowy8</a>"
      ],
      "text/plain": [
       "<IPython.core.display.HTML object>"
      ]
     },
     "metadata": {},
     "output_type": "display_data"
    },
    {
     "data": {
      "text/html": [
       " View project at <a href='https://wandb.ai/bhkim003-seoul-national-university/reservoir' target=\"_blank\">https://wandb.ai/bhkim003-seoul-national-university/reservoir</a>"
      ],
      "text/plain": [
       "<IPython.core.display.HTML object>"
      ]
     },
     "metadata": {},
     "output_type": "display_data"
    },
    {
     "data": {
      "text/html": [
       " View sweep at <a href='https://wandb.ai/bhkim003-seoul-national-university/reservoir/sweeps/0j0aowy8' target=\"_blank\">https://wandb.ai/bhkim003-seoul-national-university/reservoir/sweeps/0j0aowy8</a>"
      ],
      "text/plain": [
       "<IPython.core.display.HTML object>"
      ]
     },
     "metadata": {},
     "output_type": "display_data"
    },
    {
     "data": {
      "text/html": [
       " View run at <a href='https://wandb.ai/bhkim003-seoul-national-university/reservoir/runs/z7l1yeux' target=\"_blank\">https://wandb.ai/bhkim003-seoul-national-university/reservoir/runs/z7l1yeux</a>"
      ],
      "text/plain": [
       "<IPython.core.display.HTML object>"
      ]
     },
     "metadata": {},
     "output_type": "display_data"
    },
    {
     "name": "stderr",
     "output_type": "stream",
     "text": [
      "\u001b[34m\u001b[1mwandb\u001b[0m: \u001b[33mWARNING\u001b[0m Config item 'data_path' was locked by 'sweep' (ignored update).\n",
      "\u001b[34m\u001b[1mwandb\u001b[0m: \u001b[33mWARNING\u001b[0m Config item 'which_data' was locked by 'sweep' (ignored update).\n",
      "\u001b[34m\u001b[1mwandb\u001b[0m: \u001b[33mWARNING\u001b[0m Config item 'learning_rate' was locked by 'sweep' (ignored update).\n",
      "\u001b[34m\u001b[1mwandb\u001b[0m: \u001b[33mWARNING\u001b[0m Config item 'IMAGE_SIZE' was locked by 'sweep' (ignored update).\n",
      "\u001b[34m\u001b[1mwandb\u001b[0m: \u001b[33mWARNING\u001b[0m Config item 'EPOCH' was locked by 'sweep' (ignored update).\n",
      "\u001b[34m\u001b[1mwandb\u001b[0m: \u001b[33mWARNING\u001b[0m Config item 'rate_coding' was locked by 'sweep' (ignored update).\n",
      "\u001b[34m\u001b[1mwandb\u001b[0m: \u001b[33mWARNING\u001b[0m Config item 'pre_spike_weight' was locked by 'sweep' (ignored update).\n",
      "\u001b[34m\u001b[1mwandb\u001b[0m: \u001b[33mWARNING\u001b[0m Config item 'dvs_duration' was locked by 'sweep' (ignored update).\n",
      "\u001b[34m\u001b[1mwandb\u001b[0m: \u001b[33mWARNING\u001b[0m Config item 'dvs_clipping' was locked by 'sweep' (ignored update).\n",
      "\u001b[34m\u001b[1mwandb\u001b[0m: \u001b[33mWARNING\u001b[0m Config item 'no_reservoir' was locked by 'sweep' (ignored update).\n"
     ]
    },
    {
     "name": "stdout",
     "output_type": "stream",
     "text": [
      "The directory [/data2/gesture/duration_1000000] already exists.\n",
      "The directory [/data2/gesture/duration_1000000] already exists.\n",
      "NO_RESERVOIR_NET(\n",
      "  (reservoir): RESERVOIR(\n",
      "    (conv_depthwise): Conv2d(2, 2, kernel_size=(3, 3), stride=(1, 1), padding=(1, 1), groups=2)\n",
      "  )\n",
      "  (linear): Linear(in_features=4608, out_features=10, bias=True)\n",
      ")\n",
      "Epoch 1\n",
      "Train Accuracy: 16.14%\n",
      "Test loss: 10.626, Accuracy: 23.11%\n",
      "Epoch 2\n",
      "Train Accuracy: 14.38%\n",
      "Test loss: 24.702, Accuracy: 23.48%\n",
      "Epoch 3\n",
      "Train Accuracy: 24.77%\n",
      "Test loss: 25.146, Accuracy: 37.50%\n",
      "Epoch 4\n",
      "Train Accuracy: 36.55%\n",
      "Test loss: 24.810, Accuracy: 28.79%\n",
      "Epoch 5\n",
      "Train Accuracy: 33.86%\n",
      "Test loss: 13.736, Accuracy: 35.23%\n",
      "Epoch 6\n",
      "Train Accuracy: 43.97%\n",
      "Test loss: 15.250, Accuracy: 29.92%\n",
      "Epoch 7\n",
      "Train Accuracy: 43.32%\n",
      "Test loss: 8.320, Accuracy: 38.26%\n",
      "Epoch 8\n",
      "Train Accuracy: 59.55%\n",
      "Test loss: 7.942, Accuracy: 49.62%\n",
      "Epoch 9\n",
      "Train Accuracy: 63.73%\n",
      "Test loss: 7.194, Accuracy: 55.30%\n",
      "Epoch 10\n",
      "Train Accuracy: 67.90%\n",
      "Test loss: 2.689, Accuracy: 59.85%\n",
      "Epoch 11\n",
      "Train Accuracy: 67.53%\n",
      "Test loss: 4.587, Accuracy: 59.09%\n",
      "Epoch 12\n",
      "Train Accuracy: 76.44%\n",
      "Test loss: 3.750, Accuracy: 57.95%\n",
      "Epoch 13\n",
      "Train Accuracy: 80.15%\n",
      "Test loss: 5.070, Accuracy: 60.23%\n",
      "Epoch 14\n",
      "Train Accuracy: 83.49%\n",
      "Test loss: 3.202, Accuracy: 62.88%\n",
      "Epoch 15\n",
      "Train Accuracy: 85.81%\n",
      "Test loss: 3.612, Accuracy: 67.05%\n",
      "Epoch 16\n",
      "Train Accuracy: 91.09%\n",
      "Test loss: 4.389, Accuracy: 61.74%\n",
      "Epoch 17\n",
      "Train Accuracy: 89.24%\n",
      "Test loss: 3.685, Accuracy: 66.67%\n",
      "Epoch 18\n",
      "Train Accuracy: 93.78%\n",
      "Test loss: 3.548, Accuracy: 64.39%\n",
      "Epoch 19\n",
      "Train Accuracy: 94.16%\n",
      "Test loss: 4.214, Accuracy: 65.53%\n",
      "Epoch 20\n",
      "Train Accuracy: 96.20%\n",
      "Test loss: 3.115, Accuracy: 68.94%\n",
      "Epoch 21\n",
      "Train Accuracy: 96.85%\n",
      "Test loss: 2.954, Accuracy: 65.91%\n",
      "Epoch 22\n",
      "Train Accuracy: 97.03%\n",
      "Test loss: 3.511, Accuracy: 66.67%\n",
      "Epoch 23\n",
      "Train Accuracy: 98.14%\n",
      "Test loss: 3.244, Accuracy: 69.70%\n",
      "Epoch 24\n",
      "Train Accuracy: 98.79%\n",
      "Test loss: 3.504, Accuracy: 70.08%\n",
      "Epoch 25\n",
      "Train Accuracy: 99.17%\n",
      "Test loss: 2.886, Accuracy: 70.45%\n",
      "Epoch 26\n",
      "Train Accuracy: 99.44%\n",
      "Test loss: 3.117, Accuracy: 69.70%\n",
      "Epoch 27\n",
      "Train Accuracy: 99.54%\n",
      "Test loss: 3.386, Accuracy: 65.53%\n",
      "Epoch 28\n",
      "Train Accuracy: 99.54%\n",
      "Test loss: 3.213, Accuracy: 69.32%\n",
      "Epoch 29\n",
      "Train Accuracy: 99.81%\n",
      "Test loss: 3.233, Accuracy: 68.56%\n",
      "Epoch 30\n",
      "Train Accuracy: 99.91%\n",
      "Test loss: 3.203, Accuracy: 69.70%\n",
      "Epoch 31\n",
      "Train Accuracy: 99.91%\n",
      "Test loss: 3.124, Accuracy: 68.94%\n",
      "Epoch 32\n",
      "Train Accuracy: 100.00%\n",
      "Test loss: 3.195, Accuracy: 71.59%\n",
      "Epoch 33\n",
      "Train Accuracy: 99.91%\n",
      "Test loss: 3.365, Accuracy: 66.29%\n",
      "Epoch 34\n",
      "Train Accuracy: 99.72%\n",
      "Test loss: 3.322, Accuracy: 67.80%\n",
      "Epoch 35\n",
      "Train Accuracy: 99.91%\n",
      "Test loss: 3.262, Accuracy: 69.70%\n",
      "Epoch 36\n",
      "Train Accuracy: 100.00%\n",
      "Test loss: 3.237, Accuracy: 66.67%\n",
      "Epoch 37\n",
      "Train Accuracy: 100.00%\n",
      "Test loss: 3.119, Accuracy: 71.59%\n",
      "Epoch 38\n",
      "Train Accuracy: 100.00%\n",
      "Test loss: 3.206, Accuracy: 68.94%\n",
      "Epoch 39\n",
      "Train Accuracy: 100.00%\n",
      "Test loss: 3.244, Accuracy: 68.18%\n",
      "Epoch 40\n",
      "Train Accuracy: 100.00%\n",
      "Test loss: 3.229, Accuracy: 68.56%\n",
      "Epoch 41\n",
      "Train Accuracy: 100.00%\n",
      "Test loss: 3.265, Accuracy: 68.94%\n",
      "Epoch 42\n",
      "Train Accuracy: 100.00%\n",
      "Test loss: 3.310, Accuracy: 68.56%\n",
      "Epoch 43\n",
      "Train Accuracy: 100.00%\n",
      "Test loss: 3.322, Accuracy: 68.94%\n",
      "Epoch 44\n",
      "Train Accuracy: 100.00%\n",
      "Test loss: 3.282, Accuracy: 68.94%\n",
      "Epoch 45\n",
      "Train Accuracy: 100.00%\n",
      "Test loss: 3.259, Accuracy: 68.94%\n",
      "Epoch 46\n",
      "Train Accuracy: 100.00%\n",
      "Test loss: 3.215, Accuracy: 69.32%\n",
      "Epoch 47\n",
      "Train Accuracy: 100.00%\n",
      "Test loss: 3.256, Accuracy: 68.94%\n",
      "Epoch 48\n",
      "Train Accuracy: 100.00%\n",
      "Test loss: 3.285, Accuracy: 68.18%\n",
      "Epoch 49\n",
      "Train Accuracy: 100.00%\n",
      "Test loss: 3.301, Accuracy: 68.56%\n",
      "Epoch 50\n",
      "Train Accuracy: 100.00%\n",
      "Test loss: 3.234, Accuracy: 68.18%\n"
     ]
    },
    {
     "data": {
      "application/vnd.jupyter.widget-view+json": {
       "model_id": "5953ba3002d34a7e9d280bdd39ec6a87",
       "version_major": 2,
       "version_minor": 0
      },
      "text/plain": [
       "VBox(children=(Label(value='22.080 MB of 22.080 MB uploaded (20.853 MB deduped)\\r'), FloatProgress(value=1.0, …"
      ]
     },
     "metadata": {},
     "output_type": "display_data"
    },
    {
     "data": {
      "text/html": [
       "W&B sync reduced upload amount by 94.2%"
      ],
      "text/plain": [
       "<IPython.core.display.HTML object>"
      ]
     },
     "metadata": {},
     "output_type": "display_data"
    },
    {
     "data": {
      "text/html": [
       "<style>\n",
       "    table.wandb td:nth-child(1) { padding: 0 10px; text-align: left ; width: auto;} td:nth-child(2) {text-align: left ; width: 100%}\n",
       "    .wandb-row { display: flex; flex-direction: row; flex-wrap: wrap; justify-content: flex-start; width: 100% }\n",
       "    .wandb-col { display: flex; flex-direction: column; flex-basis: 100%; flex: 1; padding: 10px; }\n",
       "    </style>\n",
       "<div class=\"wandb-row\"><div class=\"wandb-col\"><h3>Run history:</h3><br/><table class=\"wandb\"><tr><td>iter_accuracy</td><td>▂▁▂▄▄▄▅▆▅▆▆▇▇▇▇██▇██████████████████████</td></tr><tr><td>tr_accuracy</td><td>▁▁▂▃▃▃▅▅▅▆▆▇▇▇▇█████████████████████████</td></tr><tr><td>val_accuracy</td><td>▁▁▃▂▂▃▅▆▆▆▆▇▇▇▇▇▇▇███▇████▇▇▇███████████</td></tr></table><br/></div><div class=\"wandb-col\"><h3>Run summary:</h3><br/><table class=\"wandb\"><tr><td>iter_accuracy</td><td>100.0</td></tr><tr><td>tr_accuracy</td><td>100.0</td></tr><tr><td>val_accuracy</td><td>68.18182</td></tr></table><br/></div></div>"
      ],
      "text/plain": [
       "<IPython.core.display.HTML object>"
      ]
     },
     "metadata": {},
     "output_type": "display_data"
    },
    {
     "data": {
      "text/html": [
       " View run <strong style=\"color:#cdcd00\">classic-sweep-105</strong> at: <a href='https://wandb.ai/bhkim003-seoul-national-university/reservoir/runs/z7l1yeux' target=\"_blank\">https://wandb.ai/bhkim003-seoul-national-university/reservoir/runs/z7l1yeux</a><br/> View project at: <a href='https://wandb.ai/bhkim003-seoul-national-university/reservoir' target=\"_blank\">https://wandb.ai/bhkim003-seoul-national-university/reservoir</a><br/>Synced 7 W&B file(s), 0 media file(s), 32 artifact file(s) and 1 other file(s)"
      ],
      "text/plain": [
       "<IPython.core.display.HTML object>"
      ]
     },
     "metadata": {},
     "output_type": "display_data"
    },
    {
     "data": {
      "text/html": [
       "Find logs at: <code>./wandb/run-20240726_113718-z7l1yeux/logs</code>"
      ],
      "text/plain": [
       "<IPython.core.display.HTML object>"
      ]
     },
     "metadata": {},
     "output_type": "display_data"
    },
    {
     "data": {
      "text/html": [
       "The new W&B backend becomes opt-out in version 0.18.0; try it out with `wandb.require(\"core\")`! See https://wandb.me/wandb-core for more information."
      ],
      "text/plain": [
       "<IPython.core.display.HTML object>"
      ]
     },
     "metadata": {},
     "output_type": "display_data"
    },
    {
     "name": "stderr",
     "output_type": "stream",
     "text": [
      "\u001b[34m\u001b[1mwandb\u001b[0m: Sweep Agent: Waiting for job.\n",
      "\u001b[34m\u001b[1mwandb\u001b[0m: Job received.\n",
      "\u001b[34m\u001b[1mwandb\u001b[0m: Agent Starting Run: m713uap5 with config:\n",
      "\u001b[34m\u001b[1mwandb\u001b[0m: \tEPOCH: 50\n",
      "\u001b[34m\u001b[1mwandb\u001b[0m: \tIMAGE_SIZE: 16\n",
      "\u001b[34m\u001b[1mwandb\u001b[0m: \tbatch_size: 256\n",
      "\u001b[34m\u001b[1mwandb\u001b[0m: \tdata_path: /data2\n",
      "\u001b[34m\u001b[1mwandb\u001b[0m: \tdecay: 0.5003353973710729\n",
      "\u001b[34m\u001b[1mwandb\u001b[0m: \tdvs_clipping: True\n",
      "\u001b[34m\u001b[1mwandb\u001b[0m: \tdvs_duration: 1000000\n",
      "\u001b[34m\u001b[1mwandb\u001b[0m: \tlearning_rate: 0.06641585829057639\n",
      "\u001b[34m\u001b[1mwandb\u001b[0m: \tno_reservoir: False\n",
      "\u001b[34m\u001b[1mwandb\u001b[0m: \tpre_spike_weight: 3.2006716253104224\n",
      "\u001b[34m\u001b[1mwandb\u001b[0m: \trate_coding: True\n",
      "\u001b[34m\u001b[1mwandb\u001b[0m: \ttime_step: 7\n",
      "\u001b[34m\u001b[1mwandb\u001b[0m: \twhich_data: DVS_GESTURE\n",
      "Failed to detect the name of this notebook, you can set it manually with the WANDB_NOTEBOOK_NAME environment variable to enable code saving.\n"
     ]
    },
    {
     "data": {
      "text/html": [
       "Tracking run with wandb version 0.17.5"
      ],
      "text/plain": [
       "<IPython.core.display.HTML object>"
      ]
     },
     "metadata": {},
     "output_type": "display_data"
    },
    {
     "data": {
      "text/html": [
       "Run data is saved locally in <code>/nfs/home/bhkim003/github_folder/ByeonghyeonKim/my_snn/wandb/run-20240726_114503-m713uap5</code>"
      ],
      "text/plain": [
       "<IPython.core.display.HTML object>"
      ]
     },
     "metadata": {},
     "output_type": "display_data"
    },
    {
     "data": {
      "text/html": [
       "Syncing run <strong><a href='https://wandb.ai/bhkim003-seoul-national-university/reservoir/runs/m713uap5' target=\"_blank\">bright-sweep-106</a></strong> to <a href='https://wandb.ai/bhkim003-seoul-national-university/reservoir' target=\"_blank\">Weights & Biases</a> (<a href='https://wandb.me/run' target=\"_blank\">docs</a>)<br/>Sweep page: <a href='https://wandb.ai/bhkim003-seoul-national-university/reservoir/sweeps/0j0aowy8' target=\"_blank\">https://wandb.ai/bhkim003-seoul-national-university/reservoir/sweeps/0j0aowy8</a>"
      ],
      "text/plain": [
       "<IPython.core.display.HTML object>"
      ]
     },
     "metadata": {},
     "output_type": "display_data"
    },
    {
     "data": {
      "text/html": [
       " View project at <a href='https://wandb.ai/bhkim003-seoul-national-university/reservoir' target=\"_blank\">https://wandb.ai/bhkim003-seoul-national-university/reservoir</a>"
      ],
      "text/plain": [
       "<IPython.core.display.HTML object>"
      ]
     },
     "metadata": {},
     "output_type": "display_data"
    },
    {
     "data": {
      "text/html": [
       " View sweep at <a href='https://wandb.ai/bhkim003-seoul-national-university/reservoir/sweeps/0j0aowy8' target=\"_blank\">https://wandb.ai/bhkim003-seoul-national-university/reservoir/sweeps/0j0aowy8</a>"
      ],
      "text/plain": [
       "<IPython.core.display.HTML object>"
      ]
     },
     "metadata": {},
     "output_type": "display_data"
    },
    {
     "data": {
      "text/html": [
       " View run at <a href='https://wandb.ai/bhkim003-seoul-national-university/reservoir/runs/m713uap5' target=\"_blank\">https://wandb.ai/bhkim003-seoul-national-university/reservoir/runs/m713uap5</a>"
      ],
      "text/plain": [
       "<IPython.core.display.HTML object>"
      ]
     },
     "metadata": {},
     "output_type": "display_data"
    },
    {
     "name": "stderr",
     "output_type": "stream",
     "text": [
      "\u001b[34m\u001b[1mwandb\u001b[0m: \u001b[33mWARNING\u001b[0m Config item 'data_path' was locked by 'sweep' (ignored update).\n",
      "\u001b[34m\u001b[1mwandb\u001b[0m: \u001b[33mWARNING\u001b[0m Config item 'which_data' was locked by 'sweep' (ignored update).\n",
      "\u001b[34m\u001b[1mwandb\u001b[0m: \u001b[33mWARNING\u001b[0m Config item 'learning_rate' was locked by 'sweep' (ignored update).\n",
      "\u001b[34m\u001b[1mwandb\u001b[0m: \u001b[33mWARNING\u001b[0m Config item 'IMAGE_SIZE' was locked by 'sweep' (ignored update).\n",
      "\u001b[34m\u001b[1mwandb\u001b[0m: \u001b[33mWARNING\u001b[0m Config item 'EPOCH' was locked by 'sweep' (ignored update).\n",
      "\u001b[34m\u001b[1mwandb\u001b[0m: \u001b[33mWARNING\u001b[0m Config item 'rate_coding' was locked by 'sweep' (ignored update).\n",
      "\u001b[34m\u001b[1mwandb\u001b[0m: \u001b[33mWARNING\u001b[0m Config item 'pre_spike_weight' was locked by 'sweep' (ignored update).\n",
      "\u001b[34m\u001b[1mwandb\u001b[0m: \u001b[33mWARNING\u001b[0m Config item 'dvs_duration' was locked by 'sweep' (ignored update).\n",
      "\u001b[34m\u001b[1mwandb\u001b[0m: \u001b[33mWARNING\u001b[0m Config item 'dvs_clipping' was locked by 'sweep' (ignored update).\n",
      "\u001b[34m\u001b[1mwandb\u001b[0m: \u001b[33mWARNING\u001b[0m Config item 'no_reservoir' was locked by 'sweep' (ignored update).\n"
     ]
    },
    {
     "name": "stdout",
     "output_type": "stream",
     "text": [
      "The directory [/data2/gesture/duration_1000000] already exists.\n",
      "The directory [/data2/gesture/duration_1000000] already exists.\n",
      "RESERVOIR_NET(\n",
      "  (reservoir): RESERVOIR(\n",
      "    (conv_depthwise): Conv2d(2, 2, kernel_size=(3, 3), stride=(1, 1), padding=(1, 1), groups=2)\n",
      "  )\n",
      "  (linear): Linear(in_features=512, out_features=10, bias=True)\n",
      ")\n",
      "Epoch 1\n",
      "Train Accuracy: 17.25%\n",
      "Test loss: 2.097, Accuracy: 17.80%\n",
      "Epoch 2\n",
      "Train Accuracy: 37.29%\n",
      "Test loss: 1.781, Accuracy: 37.88%\n",
      "Epoch 3\n",
      "Train Accuracy: 47.31%\n",
      "Test loss: 2.039, Accuracy: 46.21%\n",
      "Epoch 4\n",
      "Train Accuracy: 54.55%\n",
      "Test loss: 1.160, Accuracy: 46.97%\n",
      "Epoch 5\n",
      "Train Accuracy: 52.78%\n",
      "Test loss: 1.758, Accuracy: 53.79%\n",
      "Epoch 6\n",
      "Train Accuracy: 60.85%\n",
      "Test loss: 1.827, Accuracy: 51.89%\n",
      "Epoch 7\n",
      "Train Accuracy: 59.00%\n",
      "Test loss: 1.251, Accuracy: 57.95%\n",
      "Epoch 8\n",
      "Train Accuracy: 66.60%\n",
      "Test loss: 2.033, Accuracy: 54.92%\n",
      "Epoch 9\n",
      "Train Accuracy: 66.51%\n",
      "Test loss: 1.230, Accuracy: 58.33%\n",
      "Epoch 10\n",
      "Train Accuracy: 69.39%\n",
      "Test loss: 1.516, Accuracy: 59.47%\n",
      "Epoch 11\n",
      "Train Accuracy: 73.75%\n",
      "Test loss: 1.750, Accuracy: 58.71%\n",
      "Epoch 12\n",
      "Train Accuracy: 72.73%\n",
      "Test loss: 1.273, Accuracy: 63.26%\n",
      "Epoch 13\n",
      "Train Accuracy: 73.38%\n",
      "Test loss: 1.715, Accuracy: 59.09%\n",
      "Epoch 14\n",
      "Train Accuracy: 75.88%\n",
      "Test loss: 1.480, Accuracy: 61.74%\n",
      "Epoch 15\n",
      "Train Accuracy: 76.53%\n",
      "Test loss: 1.320, Accuracy: 60.23%\n",
      "Epoch 16\n",
      "Train Accuracy: 76.07%\n",
      "Test loss: 1.727, Accuracy: 63.26%\n",
      "Epoch 17\n",
      "Train Accuracy: 80.33%\n",
      "Test loss: 1.639, Accuracy: 62.12%\n",
      "Epoch 18\n",
      "Train Accuracy: 82.93%\n",
      "Test loss: 1.372, Accuracy: 60.98%\n",
      "Epoch 19\n",
      "Train Accuracy: 83.12%\n",
      "Test loss: 1.775, Accuracy: 60.98%\n",
      "Epoch 20\n",
      "Train Accuracy: 80.24%\n",
      "Test loss: 1.546, Accuracy: 62.12%\n",
      "Epoch 21\n",
      "Train Accuracy: 79.68%\n",
      "Test loss: 1.418, Accuracy: 65.15%\n",
      "Epoch 22\n",
      "Train Accuracy: 82.19%\n",
      "Test loss: 1.786, Accuracy: 62.12%\n",
      "Epoch 23\n",
      "Train Accuracy: 87.57%\n",
      "Test loss: 1.622, Accuracy: 65.53%\n",
      "Epoch 24\n",
      "Train Accuracy: 87.29%\n",
      "Test loss: 1.705, Accuracy: 64.02%\n",
      "Epoch 25\n",
      "Train Accuracy: 88.13%\n",
      "Test loss: 1.609, Accuracy: 61.74%\n",
      "Epoch 26\n",
      "Train Accuracy: 86.73%\n",
      "Test loss: 1.705, Accuracy: 63.64%\n",
      "Epoch 27\n",
      "Train Accuracy: 84.42%\n",
      "Test loss: 1.475, Accuracy: 62.88%\n",
      "Epoch 28\n",
      "Train Accuracy: 82.84%\n",
      "Test loss: 1.780, Accuracy: 60.98%\n",
      "Epoch 29\n",
      "Train Accuracy: 83.21%\n",
      "Test loss: 1.571, Accuracy: 64.39%\n",
      "Epoch 30\n",
      "Train Accuracy: 85.06%\n",
      "Test loss: 1.656, Accuracy: 62.50%\n",
      "Epoch 31\n",
      "Train Accuracy: 83.58%\n",
      "Test loss: 1.609, Accuracy: 62.50%\n",
      "Epoch 32\n",
      "Train Accuracy: 87.57%\n",
      "Test loss: 1.623, Accuracy: 65.91%\n",
      "Epoch 33\n",
      "Train Accuracy: 88.78%\n",
      "Test loss: 1.789, Accuracy: 64.39%\n",
      "Epoch 34\n",
      "Train Accuracy: 87.01%\n",
      "Test loss: 1.686, Accuracy: 61.74%\n",
      "Epoch 35\n",
      "Train Accuracy: 87.76%\n",
      "Test loss: 1.618, Accuracy: 65.15%\n",
      "Epoch 36\n",
      "Train Accuracy: 89.70%\n",
      "Test loss: 1.762, Accuracy: 65.15%\n",
      "Epoch 37\n",
      "Train Accuracy: 88.78%\n",
      "Test loss: 1.733, Accuracy: 63.26%\n",
      "Epoch 38\n",
      "Train Accuracy: 87.66%\n",
      "Test loss: 1.719, Accuracy: 67.05%\n",
      "Epoch 39\n",
      "Train Accuracy: 90.17%\n",
      "Test loss: 1.713, Accuracy: 61.36%\n",
      "Epoch 40\n",
      "Train Accuracy: 92.49%\n",
      "Test loss: 1.612, Accuracy: 62.50%\n",
      "Epoch 41\n",
      "Train Accuracy: 91.28%\n",
      "Test loss: 1.786, Accuracy: 66.29%\n",
      "Epoch 42\n",
      "Train Accuracy: 92.12%\n",
      "Test loss: 1.795, Accuracy: 64.02%\n",
      "Epoch 43\n",
      "Train Accuracy: 89.42%\n",
      "Test loss: 1.851, Accuracy: 63.26%\n",
      "Epoch 44\n",
      "Train Accuracy: 88.13%\n",
      "Test loss: 1.709, Accuracy: 63.26%\n",
      "Epoch 45\n",
      "Train Accuracy: 86.55%\n",
      "Test loss: 1.832, Accuracy: 62.12%\n",
      "Epoch 46\n",
      "Train Accuracy: 89.98%\n",
      "Test loss: 1.788, Accuracy: 63.64%\n",
      "Epoch 47\n",
      "Train Accuracy: 86.27%\n",
      "Test loss: 1.755, Accuracy: 63.26%\n",
      "Epoch 48\n",
      "Train Accuracy: 87.66%\n",
      "Test loss: 1.771, Accuracy: 64.39%\n",
      "Epoch 49\n",
      "Train Accuracy: 89.80%\n",
      "Test loss: 1.836, Accuracy: 62.12%\n",
      "Epoch 50\n",
      "Train Accuracy: 90.45%\n",
      "Test loss: 1.743, Accuracy: 62.88%\n"
     ]
    },
    {
     "data": {
      "application/vnd.jupyter.widget-view+json": {
       "model_id": "f389184982a645c3b54828b18f8a790c",
       "version_major": 2,
       "version_minor": 0
      },
      "text/plain": [
       "VBox(children=(Label(value='22.222 MB of 22.222 MB uploaded (20.455 MB deduped)\\r'), FloatProgress(value=1.0, …"
      ]
     },
     "metadata": {},
     "output_type": "display_data"
    },
    {
     "data": {
      "text/html": [
       "W&B sync reduced upload amount by 91.8%"
      ],
      "text/plain": [
       "<IPython.core.display.HTML object>"
      ]
     },
     "metadata": {},
     "output_type": "display_data"
    },
    {
     "data": {
      "text/html": [
       "<style>\n",
       "    table.wandb td:nth-child(1) { padding: 0 10px; text-align: left ; width: auto;} td:nth-child(2) {text-align: left ; width: 100%}\n",
       "    .wandb-row { display: flex; flex-direction: row; flex-wrap: wrap; justify-content: flex-start; width: 100% }\n",
       "    .wandb-col { display: flex; flex-direction: column; flex-basis: 100%; flex: 1; padding: 10px; }\n",
       "    </style>\n",
       "<div class=\"wandb-row\"><div class=\"wandb-col\"><h3>Run history:</h3><br/><table class=\"wandb\"><tr><td>iter_accuracy</td><td>▁▄▅▅▅▄▆▆▆▆▆▆▇▇▆▇▇▇▇▇█▇▇▇▇█▇▇▇▇▇██▇▇▇▇▇█▇</td></tr><tr><td>tr_accuracy</td><td>▁▃▄▄▅▅▆▆▆▆▆▆▆▇▇▇▇▇██▇▇▇▇▇████████████▇██</td></tr><tr><td>val_accuracy</td><td>▁▄▅▅▆▇▆▇▇▇▇▇▇▇▇▇█▇███▇▇█▇██▇█▇█▇██▇▇█▇█▇</td></tr></table><br/></div><div class=\"wandb-col\"><h3>Run summary:</h3><br/><table class=\"wandb\"><tr><td>iter_accuracy</td><td>90.74074</td></tr><tr><td>tr_accuracy</td><td>90.44527</td></tr><tr><td>val_accuracy</td><td>62.87879</td></tr></table><br/></div></div>"
      ],
      "text/plain": [
       "<IPython.core.display.HTML object>"
      ]
     },
     "metadata": {},
     "output_type": "display_data"
    },
    {
     "data": {
      "text/html": [
       " View run <strong style=\"color:#cdcd00\">bright-sweep-106</strong> at: <a href='https://wandb.ai/bhkim003-seoul-national-university/reservoir/runs/m713uap5' target=\"_blank\">https://wandb.ai/bhkim003-seoul-national-university/reservoir/runs/m713uap5</a><br/> View project at: <a href='https://wandb.ai/bhkim003-seoul-national-university/reservoir' target=\"_blank\">https://wandb.ai/bhkim003-seoul-national-university/reservoir</a><br/>Synced 7 W&B file(s), 0 media file(s), 32 artifact file(s) and 1 other file(s)"
      ],
      "text/plain": [
       "<IPython.core.display.HTML object>"
      ]
     },
     "metadata": {},
     "output_type": "display_data"
    },
    {
     "data": {
      "text/html": [
       "Find logs at: <code>./wandb/run-20240726_114503-m713uap5/logs</code>"
      ],
      "text/plain": [
       "<IPython.core.display.HTML object>"
      ]
     },
     "metadata": {},
     "output_type": "display_data"
    },
    {
     "data": {
      "text/html": [
       "The new W&B backend becomes opt-out in version 0.18.0; try it out with `wandb.require(\"core\")`! See https://wandb.me/wandb-core for more information."
      ],
      "text/plain": [
       "<IPython.core.display.HTML object>"
      ]
     },
     "metadata": {},
     "output_type": "display_data"
    },
    {
     "name": "stderr",
     "output_type": "stream",
     "text": [
      "\u001b[34m\u001b[1mwandb\u001b[0m: Agent Starting Run: hge2cqd1 with config:\n",
      "\u001b[34m\u001b[1mwandb\u001b[0m: \tEPOCH: 50\n",
      "\u001b[34m\u001b[1mwandb\u001b[0m: \tIMAGE_SIZE: 32\n",
      "\u001b[34m\u001b[1mwandb\u001b[0m: \tbatch_size: 32\n",
      "\u001b[34m\u001b[1mwandb\u001b[0m: \tdata_path: /data2\n",
      "\u001b[34m\u001b[1mwandb\u001b[0m: \tdecay: 0.6124048052580667\n",
      "\u001b[34m\u001b[1mwandb\u001b[0m: \tdvs_clipping: True\n",
      "\u001b[34m\u001b[1mwandb\u001b[0m: \tdvs_duration: 1000000\n",
      "\u001b[34m\u001b[1mwandb\u001b[0m: \tlearning_rate: 0.0881579525155855\n",
      "\u001b[34m\u001b[1mwandb\u001b[0m: \tno_reservoir: False\n",
      "\u001b[34m\u001b[1mwandb\u001b[0m: \tpre_spike_weight: 8.673009385367648\n",
      "\u001b[34m\u001b[1mwandb\u001b[0m: \trate_coding: True\n",
      "\u001b[34m\u001b[1mwandb\u001b[0m: \ttime_step: 8\n",
      "\u001b[34m\u001b[1mwandb\u001b[0m: \twhich_data: DVS_GESTURE\n",
      "Failed to detect the name of this notebook, you can set it manually with the WANDB_NOTEBOOK_NAME environment variable to enable code saving.\n"
     ]
    },
    {
     "data": {
      "text/html": [
       "Tracking run with wandb version 0.17.5"
      ],
      "text/plain": [
       "<IPython.core.display.HTML object>"
      ]
     },
     "metadata": {},
     "output_type": "display_data"
    },
    {
     "data": {
      "text/html": [
       "Run data is saved locally in <code>/nfs/home/bhkim003/github_folder/ByeonghyeonKim/my_snn/wandb/run-20240726_115126-hge2cqd1</code>"
      ],
      "text/plain": [
       "<IPython.core.display.HTML object>"
      ]
     },
     "metadata": {},
     "output_type": "display_data"
    },
    {
     "data": {
      "text/html": [
       "Syncing run <strong><a href='https://wandb.ai/bhkim003-seoul-national-university/reservoir/runs/hge2cqd1' target=\"_blank\">firm-sweep-107</a></strong> to <a href='https://wandb.ai/bhkim003-seoul-national-university/reservoir' target=\"_blank\">Weights & Biases</a> (<a href='https://wandb.me/run' target=\"_blank\">docs</a>)<br/>Sweep page: <a href='https://wandb.ai/bhkim003-seoul-national-university/reservoir/sweeps/0j0aowy8' target=\"_blank\">https://wandb.ai/bhkim003-seoul-national-university/reservoir/sweeps/0j0aowy8</a>"
      ],
      "text/plain": [
       "<IPython.core.display.HTML object>"
      ]
     },
     "metadata": {},
     "output_type": "display_data"
    },
    {
     "data": {
      "text/html": [
       " View project at <a href='https://wandb.ai/bhkim003-seoul-national-university/reservoir' target=\"_blank\">https://wandb.ai/bhkim003-seoul-national-university/reservoir</a>"
      ],
      "text/plain": [
       "<IPython.core.display.HTML object>"
      ]
     },
     "metadata": {},
     "output_type": "display_data"
    },
    {
     "data": {
      "text/html": [
       " View sweep at <a href='https://wandb.ai/bhkim003-seoul-national-university/reservoir/sweeps/0j0aowy8' target=\"_blank\">https://wandb.ai/bhkim003-seoul-national-university/reservoir/sweeps/0j0aowy8</a>"
      ],
      "text/plain": [
       "<IPython.core.display.HTML object>"
      ]
     },
     "metadata": {},
     "output_type": "display_data"
    },
    {
     "data": {
      "text/html": [
       " View run at <a href='https://wandb.ai/bhkim003-seoul-national-university/reservoir/runs/hge2cqd1' target=\"_blank\">https://wandb.ai/bhkim003-seoul-national-university/reservoir/runs/hge2cqd1</a>"
      ],
      "text/plain": [
       "<IPython.core.display.HTML object>"
      ]
     },
     "metadata": {},
     "output_type": "display_data"
    },
    {
     "name": "stderr",
     "output_type": "stream",
     "text": [
      "\u001b[34m\u001b[1mwandb\u001b[0m: \u001b[33mWARNING\u001b[0m Config item 'data_path' was locked by 'sweep' (ignored update).\n",
      "\u001b[34m\u001b[1mwandb\u001b[0m: \u001b[33mWARNING\u001b[0m Config item 'which_data' was locked by 'sweep' (ignored update).\n",
      "\u001b[34m\u001b[1mwandb\u001b[0m: \u001b[33mWARNING\u001b[0m Config item 'learning_rate' was locked by 'sweep' (ignored update).\n",
      "\u001b[34m\u001b[1mwandb\u001b[0m: \u001b[33mWARNING\u001b[0m Config item 'IMAGE_SIZE' was locked by 'sweep' (ignored update).\n",
      "\u001b[34m\u001b[1mwandb\u001b[0m: \u001b[33mWARNING\u001b[0m Config item 'EPOCH' was locked by 'sweep' (ignored update).\n",
      "\u001b[34m\u001b[1mwandb\u001b[0m: \u001b[33mWARNING\u001b[0m Config item 'rate_coding' was locked by 'sweep' (ignored update).\n",
      "\u001b[34m\u001b[1mwandb\u001b[0m: \u001b[33mWARNING\u001b[0m Config item 'pre_spike_weight' was locked by 'sweep' (ignored update).\n",
      "\u001b[34m\u001b[1mwandb\u001b[0m: \u001b[33mWARNING\u001b[0m Config item 'dvs_duration' was locked by 'sweep' (ignored update).\n",
      "\u001b[34m\u001b[1mwandb\u001b[0m: \u001b[33mWARNING\u001b[0m Config item 'dvs_clipping' was locked by 'sweep' (ignored update).\n",
      "\u001b[34m\u001b[1mwandb\u001b[0m: \u001b[33mWARNING\u001b[0m Config item 'no_reservoir' was locked by 'sweep' (ignored update).\n"
     ]
    },
    {
     "name": "stdout",
     "output_type": "stream",
     "text": [
      "The directory [/data2/gesture/duration_1000000] already exists.\n",
      "The directory [/data2/gesture/duration_1000000] already exists.\n",
      "RESERVOIR_NET(\n",
      "  (reservoir): RESERVOIR(\n",
      "    (conv_depthwise): Conv2d(2, 2, kernel_size=(3, 3), stride=(1, 1), padding=(1, 1), groups=2)\n",
      "  )\n",
      "  (linear): Linear(in_features=2048, out_features=10, bias=True)\n",
      ")\n",
      "Epoch 1\n",
      "Train Accuracy: 26.53%\n",
      "Test loss: 15.505, Accuracy: 38.64%\n",
      "Epoch 2\n",
      "Train Accuracy: 51.86%\n",
      "Test loss: 5.119, Accuracy: 55.68%\n",
      "Epoch 3\n",
      "Train Accuracy: 67.72%\n",
      "Test loss: 6.980, Accuracy: 49.62%\n",
      "Epoch 4\n",
      "Train Accuracy: 70.96%\n",
      "Test loss: 3.889, Accuracy: 55.68%\n",
      "Epoch 5\n",
      "Train Accuracy: 75.51%\n",
      "Test loss: 5.388, Accuracy: 57.95%\n",
      "Epoch 6\n",
      "Train Accuracy: 70.69%\n",
      "Test loss: 5.279, Accuracy: 48.48%\n",
      "Epoch 7\n",
      "Train Accuracy: 76.35%\n",
      "Test loss: 6.107, Accuracy: 59.09%\n",
      "Epoch 8\n",
      "Train Accuracy: 76.90%\n",
      "Test loss: 4.888, Accuracy: 51.14%\n",
      "Epoch 9\n",
      "Train Accuracy: 81.08%\n",
      "Test loss: 3.414, Accuracy: 58.33%\n",
      "Epoch 10\n",
      "Train Accuracy: 86.09%\n",
      "Test loss: 4.883, Accuracy: 57.95%\n",
      "Epoch 11\n",
      "Train Accuracy: 89.80%\n",
      "Test loss: 2.734, Accuracy: 65.53%\n",
      "Epoch 12\n",
      "Train Accuracy: 94.34%\n",
      "Test loss: 2.792, Accuracy: 64.02%\n",
      "Epoch 13\n",
      "Train Accuracy: 95.55%\n",
      "Test loss: 2.923, Accuracy: 64.02%\n",
      "Epoch 14\n",
      "Train Accuracy: 93.14%\n",
      "Test loss: 2.634, Accuracy: 67.05%\n",
      "Epoch 15\n",
      "Train Accuracy: 94.43%\n",
      "Test loss: 2.734, Accuracy: 64.39%\n",
      "Epoch 16\n",
      "Train Accuracy: 96.94%\n",
      "Test loss: 3.474, Accuracy: 60.98%\n",
      "Epoch 17\n",
      "Train Accuracy: 98.52%\n",
      "Test loss: 2.858, Accuracy: 64.39%\n",
      "Epoch 18\n",
      "Train Accuracy: 98.42%\n",
      "Test loss: 2.781, Accuracy: 68.56%\n",
      "Epoch 19\n",
      "Train Accuracy: 98.70%\n",
      "Test loss: 2.719, Accuracy: 67.42%\n",
      "Epoch 20\n",
      "Train Accuracy: 99.72%\n",
      "Test loss: 2.626, Accuracy: 67.42%\n",
      "Epoch 21\n",
      "Train Accuracy: 99.72%\n",
      "Test loss: 2.708, Accuracy: 67.05%\n",
      "Epoch 22\n",
      "Train Accuracy: 100.00%\n",
      "Test loss: 2.638, Accuracy: 67.05%\n",
      "Epoch 23\n",
      "Train Accuracy: 100.00%\n",
      "Test loss: 2.627, Accuracy: 67.42%\n",
      "Epoch 24\n",
      "Train Accuracy: 100.00%\n",
      "Test loss: 2.679, Accuracy: 67.42%\n",
      "Epoch 25\n",
      "Train Accuracy: 100.00%\n",
      "Test loss: 2.691, Accuracy: 65.91%\n",
      "Epoch 26\n",
      "Train Accuracy: 100.00%\n",
      "Test loss: 2.665, Accuracy: 67.05%\n",
      "Epoch 27\n",
      "Train Accuracy: 100.00%\n",
      "Test loss: 2.668, Accuracy: 67.05%\n",
      "Epoch 28\n",
      "Train Accuracy: 100.00%\n",
      "Test loss: 2.711, Accuracy: 65.91%\n",
      "Epoch 29\n",
      "Train Accuracy: 100.00%\n",
      "Test loss: 2.642, Accuracy: 67.42%\n",
      "Epoch 30\n",
      "Train Accuracy: 100.00%\n",
      "Test loss: 2.705, Accuracy: 67.05%\n",
      "Epoch 31\n",
      "Train Accuracy: 100.00%\n",
      "Test loss: 2.662, Accuracy: 67.42%\n",
      "Epoch 32\n",
      "Train Accuracy: 100.00%\n",
      "Test loss: 2.714, Accuracy: 67.05%\n",
      "Epoch 33\n",
      "Train Accuracy: 100.00%\n",
      "Test loss: 2.675, Accuracy: 67.05%\n",
      "Epoch 34\n",
      "Train Accuracy: 100.00%\n",
      "Test loss: 2.687, Accuracy: 66.29%\n",
      "Epoch 35\n",
      "Train Accuracy: 100.00%\n",
      "Test loss: 2.703, Accuracy: 67.42%\n",
      "Epoch 36\n",
      "Train Accuracy: 100.00%\n",
      "Test loss: 2.711, Accuracy: 67.05%\n",
      "Epoch 37\n",
      "Train Accuracy: 100.00%\n",
      "Test loss: 2.699, Accuracy: 68.18%\n",
      "Epoch 38\n",
      "Train Accuracy: 100.00%\n",
      "Test loss: 2.706, Accuracy: 66.67%\n",
      "Epoch 39\n",
      "Train Accuracy: 100.00%\n",
      "Test loss: 2.711, Accuracy: 67.42%\n",
      "Epoch 40\n",
      "Train Accuracy: 100.00%\n",
      "Test loss: 2.710, Accuracy: 67.05%\n",
      "Epoch 41\n",
      "Train Accuracy: 100.00%\n",
      "Test loss: 2.692, Accuracy: 67.05%\n",
      "Epoch 42\n",
      "Train Accuracy: 100.00%\n",
      "Test loss: 2.678, Accuracy: 66.67%\n",
      "Epoch 43\n",
      "Train Accuracy: 100.00%\n",
      "Test loss: 2.707, Accuracy: 67.05%\n",
      "Epoch 44\n",
      "Train Accuracy: 100.00%\n",
      "Test loss: 2.727, Accuracy: 67.42%\n",
      "Epoch 45\n",
      "Train Accuracy: 100.00%\n",
      "Test loss: 2.700, Accuracy: 66.29%\n",
      "Epoch 46\n",
      "Train Accuracy: 100.00%\n",
      "Test loss: 2.712, Accuracy: 67.42%\n",
      "Epoch 47\n",
      "Train Accuracy: 100.00%\n",
      "Test loss: 2.697, Accuracy: 67.42%\n",
      "Epoch 48\n",
      "Train Accuracy: 100.00%\n",
      "Test loss: 2.718, Accuracy: 67.05%\n",
      "Epoch 49\n",
      "Train Accuracy: 100.00%\n",
      "Test loss: 2.716, Accuracy: 67.80%\n",
      "Epoch 50\n",
      "Train Accuracy: 100.00%\n",
      "Test loss: 2.699, Accuracy: 67.42%\n"
     ]
    },
    {
     "data": {
      "application/vnd.jupyter.widget-view+json": {
       "model_id": "b36325d07b0c431a98e811f00edd77c1",
       "version_major": 2,
       "version_minor": 0
      },
      "text/plain": [
       "VBox(children=(Label(value='21.856 MB of 21.856 MB uploaded (20.455 MB deduped)\\r'), FloatProgress(value=1.0, …"
      ]
     },
     "metadata": {},
     "output_type": "display_data"
    },
    {
     "data": {
      "text/html": [
       "W&B sync reduced upload amount by 93.3%"
      ],
      "text/plain": [
       "<IPython.core.display.HTML object>"
      ]
     },
     "metadata": {},
     "output_type": "display_data"
    },
    {
     "data": {
      "text/html": [
       "<style>\n",
       "    table.wandb td:nth-child(1) { padding: 0 10px; text-align: left ; width: auto;} td:nth-child(2) {text-align: left ; width: 100%}\n",
       "    .wandb-row { display: flex; flex-direction: row; flex-wrap: wrap; justify-content: flex-start; width: 100% }\n",
       "    .wandb-col { display: flex; flex-direction: column; flex-basis: 100%; flex: 1; padding: 10px; }\n",
       "    </style>\n",
       "<div class=\"wandb-row\"><div class=\"wandb-col\"><h3>Run history:</h3><br/><table class=\"wandb\"><tr><td>iter_accuracy</td><td>▁▃▅▅▅▆▆▆█▇▇█▇███████████████████████████</td></tr><tr><td>tr_accuracy</td><td>▁▃▅▅▅▆▆▆▇▇█▇████████████████████████████</td></tr><tr><td>val_accuracy</td><td>▁▅▄▅▃▆▄▆▇▇▇█▆▇████████▇████▇████████████</td></tr></table><br/></div><div class=\"wandb-col\"><h3>Run summary:</h3><br/><table class=\"wandb\"><tr><td>iter_accuracy</td><td>100.0</td></tr><tr><td>tr_accuracy</td><td>100.0</td></tr><tr><td>val_accuracy</td><td>67.42424</td></tr></table><br/></div></div>"
      ],
      "text/plain": [
       "<IPython.core.display.HTML object>"
      ]
     },
     "metadata": {},
     "output_type": "display_data"
    },
    {
     "data": {
      "text/html": [
       " View run <strong style=\"color:#cdcd00\">firm-sweep-107</strong> at: <a href='https://wandb.ai/bhkim003-seoul-national-university/reservoir/runs/hge2cqd1' target=\"_blank\">https://wandb.ai/bhkim003-seoul-national-university/reservoir/runs/hge2cqd1</a><br/> View project at: <a href='https://wandb.ai/bhkim003-seoul-national-university/reservoir' target=\"_blank\">https://wandb.ai/bhkim003-seoul-national-university/reservoir</a><br/>Synced 7 W&B file(s), 0 media file(s), 32 artifact file(s) and 1 other file(s)"
      ],
      "text/plain": [
       "<IPython.core.display.HTML object>"
      ]
     },
     "metadata": {},
     "output_type": "display_data"
    },
    {
     "data": {
      "text/html": [
       "Find logs at: <code>./wandb/run-20240726_115126-hge2cqd1/logs</code>"
      ],
      "text/plain": [
       "<IPython.core.display.HTML object>"
      ]
     },
     "metadata": {},
     "output_type": "display_data"
    },
    {
     "data": {
      "text/html": [
       "The new W&B backend becomes opt-out in version 0.18.0; try it out with `wandb.require(\"core\")`! See https://wandb.me/wandb-core for more information."
      ],
      "text/plain": [
       "<IPython.core.display.HTML object>"
      ]
     },
     "metadata": {},
     "output_type": "display_data"
    },
    {
     "name": "stderr",
     "output_type": "stream",
     "text": [
      "\u001b[34m\u001b[1mwandb\u001b[0m: Agent Starting Run: lmbetrop with config:\n",
      "\u001b[34m\u001b[1mwandb\u001b[0m: \tEPOCH: 50\n",
      "\u001b[34m\u001b[1mwandb\u001b[0m: \tIMAGE_SIZE: 48\n",
      "\u001b[34m\u001b[1mwandb\u001b[0m: \tbatch_size: 64\n",
      "\u001b[34m\u001b[1mwandb\u001b[0m: \tdata_path: /data2\n",
      "\u001b[34m\u001b[1mwandb\u001b[0m: \tdecay: 0.4797468408272183\n",
      "\u001b[34m\u001b[1mwandb\u001b[0m: \tdvs_clipping: True\n",
      "\u001b[34m\u001b[1mwandb\u001b[0m: \tdvs_duration: 1000000\n",
      "\u001b[34m\u001b[1mwandb\u001b[0m: \tlearning_rate: 0.053229334043457345\n",
      "\u001b[34m\u001b[1mwandb\u001b[0m: \tno_reservoir: False\n",
      "\u001b[34m\u001b[1mwandb\u001b[0m: \tpre_spike_weight: 2.99452249387473\n",
      "\u001b[34m\u001b[1mwandb\u001b[0m: \trate_coding: True\n",
      "\u001b[34m\u001b[1mwandb\u001b[0m: \ttime_step: 6\n",
      "\u001b[34m\u001b[1mwandb\u001b[0m: \twhich_data: DVS_GESTURE\n",
      "Failed to detect the name of this notebook, you can set it manually with the WANDB_NOTEBOOK_NAME environment variable to enable code saving.\n"
     ]
    },
    {
     "data": {
      "text/html": [
       "Tracking run with wandb version 0.17.5"
      ],
      "text/plain": [
       "<IPython.core.display.HTML object>"
      ]
     },
     "metadata": {},
     "output_type": "display_data"
    },
    {
     "data": {
      "text/html": [
       "Run data is saved locally in <code>/nfs/home/bhkim003/github_folder/ByeonghyeonKim/my_snn/wandb/run-20240726_115722-lmbetrop</code>"
      ],
      "text/plain": [
       "<IPython.core.display.HTML object>"
      ]
     },
     "metadata": {},
     "output_type": "display_data"
    },
    {
     "data": {
      "text/html": [
       "Syncing run <strong><a href='https://wandb.ai/bhkim003-seoul-national-university/reservoir/runs/lmbetrop' target=\"_blank\">ethereal-sweep-108</a></strong> to <a href='https://wandb.ai/bhkim003-seoul-national-university/reservoir' target=\"_blank\">Weights & Biases</a> (<a href='https://wandb.me/run' target=\"_blank\">docs</a>)<br/>Sweep page: <a href='https://wandb.ai/bhkim003-seoul-national-university/reservoir/sweeps/0j0aowy8' target=\"_blank\">https://wandb.ai/bhkim003-seoul-national-university/reservoir/sweeps/0j0aowy8</a>"
      ],
      "text/plain": [
       "<IPython.core.display.HTML object>"
      ]
     },
     "metadata": {},
     "output_type": "display_data"
    },
    {
     "data": {
      "text/html": [
       " View project at <a href='https://wandb.ai/bhkim003-seoul-national-university/reservoir' target=\"_blank\">https://wandb.ai/bhkim003-seoul-national-university/reservoir</a>"
      ],
      "text/plain": [
       "<IPython.core.display.HTML object>"
      ]
     },
     "metadata": {},
     "output_type": "display_data"
    },
    {
     "data": {
      "text/html": [
       " View sweep at <a href='https://wandb.ai/bhkim003-seoul-national-university/reservoir/sweeps/0j0aowy8' target=\"_blank\">https://wandb.ai/bhkim003-seoul-national-university/reservoir/sweeps/0j0aowy8</a>"
      ],
      "text/plain": [
       "<IPython.core.display.HTML object>"
      ]
     },
     "metadata": {},
     "output_type": "display_data"
    },
    {
     "data": {
      "text/html": [
       " View run at <a href='https://wandb.ai/bhkim003-seoul-national-university/reservoir/runs/lmbetrop' target=\"_blank\">https://wandb.ai/bhkim003-seoul-national-university/reservoir/runs/lmbetrop</a>"
      ],
      "text/plain": [
       "<IPython.core.display.HTML object>"
      ]
     },
     "metadata": {},
     "output_type": "display_data"
    },
    {
     "name": "stderr",
     "output_type": "stream",
     "text": [
      "\u001b[34m\u001b[1mwandb\u001b[0m: \u001b[33mWARNING\u001b[0m Config item 'data_path' was locked by 'sweep' (ignored update).\n",
      "\u001b[34m\u001b[1mwandb\u001b[0m: \u001b[33mWARNING\u001b[0m Config item 'which_data' was locked by 'sweep' (ignored update).\n",
      "\u001b[34m\u001b[1mwandb\u001b[0m: \u001b[33mWARNING\u001b[0m Config item 'learning_rate' was locked by 'sweep' (ignored update).\n",
      "\u001b[34m\u001b[1mwandb\u001b[0m: \u001b[33mWARNING\u001b[0m Config item 'IMAGE_SIZE' was locked by 'sweep' (ignored update).\n",
      "\u001b[34m\u001b[1mwandb\u001b[0m: \u001b[33mWARNING\u001b[0m Config item 'EPOCH' was locked by 'sweep' (ignored update).\n",
      "\u001b[34m\u001b[1mwandb\u001b[0m: \u001b[33mWARNING\u001b[0m Config item 'rate_coding' was locked by 'sweep' (ignored update).\n",
      "\u001b[34m\u001b[1mwandb\u001b[0m: \u001b[33mWARNING\u001b[0m Config item 'pre_spike_weight' was locked by 'sweep' (ignored update).\n",
      "\u001b[34m\u001b[1mwandb\u001b[0m: \u001b[33mWARNING\u001b[0m Config item 'dvs_duration' was locked by 'sweep' (ignored update).\n",
      "\u001b[34m\u001b[1mwandb\u001b[0m: \u001b[33mWARNING\u001b[0m Config item 'dvs_clipping' was locked by 'sweep' (ignored update).\n",
      "\u001b[34m\u001b[1mwandb\u001b[0m: \u001b[33mWARNING\u001b[0m Config item 'no_reservoir' was locked by 'sweep' (ignored update).\n"
     ]
    },
    {
     "name": "stdout",
     "output_type": "stream",
     "text": [
      "The directory [/data2/gesture/duration_1000000] already exists.\n",
      "The directory [/data2/gesture/duration_1000000] already exists.\n",
      "RESERVOIR_NET(\n",
      "  (reservoir): RESERVOIR(\n",
      "    (conv_depthwise): Conv2d(2, 2, kernel_size=(3, 3), stride=(1, 1), padding=(1, 1), groups=2)\n",
      "  )\n",
      "  (linear): Linear(in_features=4608, out_features=10, bias=True)\n",
      ")\n",
      "Epoch 1\n",
      "Train Accuracy: 12.99%\n",
      "Test loss: 67.185, Accuracy: 16.67%\n",
      "Epoch 2\n",
      "Train Accuracy: 34.69%\n",
      "Test loss: 18.250, Accuracy: 44.70%\n",
      "Epoch 3\n",
      "Train Accuracy: 55.84%\n",
      "Test loss: 6.515, Accuracy: 55.68%\n",
      "Epoch 4\n",
      "Train Accuracy: 68.09%\n",
      "Test loss: 6.836, Accuracy: 56.82%\n",
      "Epoch 5\n",
      "Train Accuracy: 77.18%\n",
      "Test loss: 7.476, Accuracy: 54.55%\n",
      "Epoch 6\n",
      "Train Accuracy: 79.41%\n",
      "Test loss: 3.508, Accuracy: 63.26%\n",
      "Epoch 7\n",
      "Train Accuracy: 85.81%\n",
      "Test loss: 3.259, Accuracy: 62.12%\n",
      "Epoch 8\n",
      "Train Accuracy: 94.25%\n",
      "Test loss: 3.086, Accuracy: 65.53%\n",
      "Epoch 9\n",
      "Train Accuracy: 96.01%\n",
      "Test loss: 3.084, Accuracy: 65.53%\n",
      "Epoch 10\n",
      "Train Accuracy: 96.75%\n",
      "Test loss: 2.732, Accuracy: 68.56%\n",
      "Epoch 11\n",
      "Train Accuracy: 96.85%\n",
      "Test loss: 3.154, Accuracy: 64.39%\n",
      "Epoch 12\n",
      "Train Accuracy: 93.97%\n",
      "Test loss: 2.513, Accuracy: 68.94%\n",
      "Epoch 13\n",
      "Train Accuracy: 91.09%\n",
      "Test loss: 6.595, Accuracy: 61.36%\n",
      "Epoch 14\n",
      "Train Accuracy: 88.50%\n",
      "Test loss: 5.053, Accuracy: 60.98%\n",
      "Epoch 15\n",
      "Train Accuracy: 91.56%\n",
      "Test loss: 3.498, Accuracy: 65.53%\n",
      "Epoch 16\n",
      "Train Accuracy: 97.59%\n",
      "Test loss: 3.863, Accuracy: 67.80%\n",
      "Epoch 17\n",
      "Train Accuracy: 97.59%\n",
      "Test loss: 2.982, Accuracy: 69.32%\n",
      "Epoch 18\n",
      "Train Accuracy: 98.89%\n",
      "Test loss: 4.251, Accuracy: 62.88%\n",
      "Epoch 19\n",
      "Train Accuracy: 95.36%\n",
      "Test loss: 3.964, Accuracy: 65.53%\n",
      "Epoch 20\n",
      "Train Accuracy: 98.79%\n",
      "Test loss: 3.504, Accuracy: 68.56%\n",
      "Epoch 21\n",
      "Train Accuracy: 99.17%\n",
      "Test loss: 3.332, Accuracy: 65.91%\n",
      "Epoch 22\n",
      "Train Accuracy: 99.26%\n",
      "Test loss: 3.352, Accuracy: 65.15%\n",
      "Epoch 23\n",
      "Train Accuracy: 99.81%\n",
      "Test loss: 3.439, Accuracy: 65.53%\n",
      "Epoch 24\n",
      "Train Accuracy: 100.00%\n",
      "Test loss: 3.409, Accuracy: 71.59%\n",
      "Epoch 25\n",
      "Train Accuracy: 100.00%\n",
      "Test loss: 3.065, Accuracy: 70.45%\n",
      "Epoch 26\n",
      "Train Accuracy: 100.00%\n",
      "Test loss: 3.104, Accuracy: 69.70%\n",
      "Epoch 27\n",
      "Train Accuracy: 100.00%\n",
      "Test loss: 3.167, Accuracy: 71.21%\n",
      "Epoch 28\n",
      "Train Accuracy: 100.00%\n",
      "Test loss: 3.141, Accuracy: 71.59%\n",
      "Epoch 29\n",
      "Train Accuracy: 100.00%\n",
      "Test loss: 3.104, Accuracy: 70.83%\n",
      "Epoch 30\n",
      "Train Accuracy: 100.00%\n",
      "Test loss: 3.112, Accuracy: 70.83%\n",
      "Epoch 31\n",
      "Train Accuracy: 100.00%\n",
      "Test loss: 3.127, Accuracy: 70.83%\n",
      "Epoch 32\n",
      "Train Accuracy: 100.00%\n",
      "Test loss: 3.102, Accuracy: 71.21%\n",
      "Epoch 33\n",
      "Train Accuracy: 100.00%\n",
      "Test loss: 3.143, Accuracy: 70.83%\n",
      "Epoch 34\n",
      "Train Accuracy: 100.00%\n",
      "Test loss: 3.118, Accuracy: 71.59%\n",
      "Epoch 35\n",
      "Train Accuracy: 100.00%\n",
      "Test loss: 3.121, Accuracy: 71.59%\n",
      "Epoch 36\n",
      "Train Accuracy: 100.00%\n",
      "Test loss: 3.124, Accuracy: 71.21%\n",
      "Epoch 37\n",
      "Train Accuracy: 100.00%\n",
      "Test loss: 3.120, Accuracy: 71.59%\n",
      "Epoch 38\n",
      "Train Accuracy: 100.00%\n",
      "Test loss: 3.105, Accuracy: 71.59%\n",
      "Epoch 39\n",
      "Train Accuracy: 100.00%\n",
      "Test loss: 3.128, Accuracy: 70.45%\n",
      "Epoch 40\n",
      "Train Accuracy: 100.00%\n",
      "Test loss: 3.107, Accuracy: 70.83%\n",
      "Epoch 41\n",
      "Train Accuracy: 100.00%\n",
      "Test loss: 3.129, Accuracy: 71.21%\n",
      "Epoch 42\n",
      "Train Accuracy: 100.00%\n",
      "Test loss: 3.115, Accuracy: 70.83%\n",
      "Epoch 43\n",
      "Train Accuracy: 100.00%\n",
      "Test loss: 3.104, Accuracy: 70.83%\n",
      "Epoch 44\n",
      "Train Accuracy: 100.00%\n",
      "Test loss: 3.131, Accuracy: 70.83%\n",
      "Epoch 45\n",
      "Train Accuracy: 100.00%\n",
      "Test loss: 3.113, Accuracy: 70.83%\n",
      "Epoch 46\n",
      "Train Accuracy: 100.00%\n",
      "Test loss: 3.122, Accuracy: 70.83%\n",
      "Epoch 47\n",
      "Train Accuracy: 100.00%\n",
      "Test loss: 3.110, Accuracy: 70.45%\n",
      "Epoch 48\n",
      "Train Accuracy: 100.00%\n",
      "Test loss: 3.118, Accuracy: 70.83%\n",
      "Epoch 49\n",
      "Train Accuracy: 100.00%\n",
      "Test loss: 3.112, Accuracy: 70.45%\n",
      "Epoch 50\n",
      "Train Accuracy: 100.00%\n",
      "Test loss: 3.117, Accuracy: 70.83%\n"
     ]
    },
    {
     "data": {
      "application/vnd.jupyter.widget-view+json": {
       "model_id": "24569c73d3084e688ffd14333e58c654",
       "version_major": 2,
       "version_minor": 0
      },
      "text/plain": [
       "VBox(children=(Label(value='21.856 MB of 21.856 MB uploaded (20.627 MB deduped)\\r'), FloatProgress(value=1.0, …"
      ]
     },
     "metadata": {},
     "output_type": "display_data"
    },
    {
     "data": {
      "text/html": [
       "W&B sync reduced upload amount by 94.1%"
      ],
      "text/plain": [
       "<IPython.core.display.HTML object>"
      ]
     },
     "metadata": {},
     "output_type": "display_data"
    },
    {
     "data": {
      "text/html": [
       "<style>\n",
       "    table.wandb td:nth-child(1) { padding: 0 10px; text-align: left ; width: auto;} td:nth-child(2) {text-align: left ; width: 100%}\n",
       "    .wandb-row { display: flex; flex-direction: row; flex-wrap: wrap; justify-content: flex-start; width: 100% }\n",
       "    .wandb-col { display: flex; flex-direction: column; flex-basis: 100%; flex: 1; padding: 10px; }\n",
       "    </style>\n",
       "<div class=\"wandb-row\"><div class=\"wandb-col\"><h3>Run history:</h3><br/><table class=\"wandb\"><tr><td>iter_accuracy</td><td>▁▁▄▅▅▇▇███▇█████████████████████████████</td></tr><tr><td>tr_accuracy</td><td>▁▃▄▅▆▇████▇▇████████████████████████████</td></tr><tr><td>val_accuracy</td><td>▁▅▆▆▇▇▇▇▇█▇▇██▇▇▇▇▇█████████████████████</td></tr></table><br/></div><div class=\"wandb-col\"><h3>Run summary:</h3><br/><table class=\"wandb\"><tr><td>iter_accuracy</td><td>100.0</td></tr><tr><td>tr_accuracy</td><td>100.0</td></tr><tr><td>val_accuracy</td><td>70.83333</td></tr></table><br/></div></div>"
      ],
      "text/plain": [
       "<IPython.core.display.HTML object>"
      ]
     },
     "metadata": {},
     "output_type": "display_data"
    },
    {
     "data": {
      "text/html": [
       " View run <strong style=\"color:#cdcd00\">ethereal-sweep-108</strong> at: <a href='https://wandb.ai/bhkim003-seoul-national-university/reservoir/runs/lmbetrop' target=\"_blank\">https://wandb.ai/bhkim003-seoul-national-university/reservoir/runs/lmbetrop</a><br/> View project at: <a href='https://wandb.ai/bhkim003-seoul-national-university/reservoir' target=\"_blank\">https://wandb.ai/bhkim003-seoul-national-university/reservoir</a><br/>Synced 7 W&B file(s), 0 media file(s), 32 artifact file(s) and 1 other file(s)"
      ],
      "text/plain": [
       "<IPython.core.display.HTML object>"
      ]
     },
     "metadata": {},
     "output_type": "display_data"
    },
    {
     "data": {
      "text/html": [
       "Find logs at: <code>./wandb/run-20240726_115722-lmbetrop/logs</code>"
      ],
      "text/plain": [
       "<IPython.core.display.HTML object>"
      ]
     },
     "metadata": {},
     "output_type": "display_data"
    },
    {
     "data": {
      "text/html": [
       "The new W&B backend becomes opt-out in version 0.18.0; try it out with `wandb.require(\"core\")`! See https://wandb.me/wandb-core for more information."
      ],
      "text/plain": [
       "<IPython.core.display.HTML object>"
      ]
     },
     "metadata": {},
     "output_type": "display_data"
    },
    {
     "name": "stderr",
     "output_type": "stream",
     "text": [
      "\u001b[34m\u001b[1mwandb\u001b[0m: Agent Starting Run: rt46jzis with config:\n",
      "\u001b[34m\u001b[1mwandb\u001b[0m: \tEPOCH: 50\n",
      "\u001b[34m\u001b[1mwandb\u001b[0m: \tIMAGE_SIZE: 32\n",
      "\u001b[34m\u001b[1mwandb\u001b[0m: \tbatch_size: 128\n",
      "\u001b[34m\u001b[1mwandb\u001b[0m: \tdata_path: /data2\n",
      "\u001b[34m\u001b[1mwandb\u001b[0m: \tdecay: 0.33400629778000646\n",
      "\u001b[34m\u001b[1mwandb\u001b[0m: \tdvs_clipping: True\n",
      "\u001b[34m\u001b[1mwandb\u001b[0m: \tdvs_duration: 1000000\n",
      "\u001b[34m\u001b[1mwandb\u001b[0m: \tlearning_rate: 0.03514869601891086\n",
      "\u001b[34m\u001b[1mwandb\u001b[0m: \tno_reservoir: False\n",
      "\u001b[34m\u001b[1mwandb\u001b[0m: \tpre_spike_weight: 9.835839687872928\n",
      "\u001b[34m\u001b[1mwandb\u001b[0m: \trate_coding: False\n",
      "\u001b[34m\u001b[1mwandb\u001b[0m: \ttime_step: 5\n",
      "\u001b[34m\u001b[1mwandb\u001b[0m: \twhich_data: DVS_GESTURE\n",
      "Failed to detect the name of this notebook, you can set it manually with the WANDB_NOTEBOOK_NAME environment variable to enable code saving.\n"
     ]
    },
    {
     "data": {
      "text/html": [
       "Tracking run with wandb version 0.17.5"
      ],
      "text/plain": [
       "<IPython.core.display.HTML object>"
      ]
     },
     "metadata": {},
     "output_type": "display_data"
    },
    {
     "data": {
      "text/html": [
       "Run data is saved locally in <code>/nfs/home/bhkim003/github_folder/ByeonghyeonKim/my_snn/wandb/run-20240726_120354-rt46jzis</code>"
      ],
      "text/plain": [
       "<IPython.core.display.HTML object>"
      ]
     },
     "metadata": {},
     "output_type": "display_data"
    },
    {
     "data": {
      "text/html": [
       "Syncing run <strong><a href='https://wandb.ai/bhkim003-seoul-national-university/reservoir/runs/rt46jzis' target=\"_blank\">wild-sweep-109</a></strong> to <a href='https://wandb.ai/bhkim003-seoul-national-university/reservoir' target=\"_blank\">Weights & Biases</a> (<a href='https://wandb.me/run' target=\"_blank\">docs</a>)<br/>Sweep page: <a href='https://wandb.ai/bhkim003-seoul-national-university/reservoir/sweeps/0j0aowy8' target=\"_blank\">https://wandb.ai/bhkim003-seoul-national-university/reservoir/sweeps/0j0aowy8</a>"
      ],
      "text/plain": [
       "<IPython.core.display.HTML object>"
      ]
     },
     "metadata": {},
     "output_type": "display_data"
    },
    {
     "data": {
      "text/html": [
       " View project at <a href='https://wandb.ai/bhkim003-seoul-national-university/reservoir' target=\"_blank\">https://wandb.ai/bhkim003-seoul-national-university/reservoir</a>"
      ],
      "text/plain": [
       "<IPython.core.display.HTML object>"
      ]
     },
     "metadata": {},
     "output_type": "display_data"
    },
    {
     "data": {
      "text/html": [
       " View sweep at <a href='https://wandb.ai/bhkim003-seoul-national-university/reservoir/sweeps/0j0aowy8' target=\"_blank\">https://wandb.ai/bhkim003-seoul-national-university/reservoir/sweeps/0j0aowy8</a>"
      ],
      "text/plain": [
       "<IPython.core.display.HTML object>"
      ]
     },
     "metadata": {},
     "output_type": "display_data"
    },
    {
     "data": {
      "text/html": [
       " View run at <a href='https://wandb.ai/bhkim003-seoul-national-university/reservoir/runs/rt46jzis' target=\"_blank\">https://wandb.ai/bhkim003-seoul-national-university/reservoir/runs/rt46jzis</a>"
      ],
      "text/plain": [
       "<IPython.core.display.HTML object>"
      ]
     },
     "metadata": {},
     "output_type": "display_data"
    },
    {
     "name": "stderr",
     "output_type": "stream",
     "text": [
      "\u001b[34m\u001b[1mwandb\u001b[0m: \u001b[33mWARNING\u001b[0m Config item 'data_path' was locked by 'sweep' (ignored update).\n",
      "\u001b[34m\u001b[1mwandb\u001b[0m: \u001b[33mWARNING\u001b[0m Config item 'which_data' was locked by 'sweep' (ignored update).\n",
      "\u001b[34m\u001b[1mwandb\u001b[0m: \u001b[33mWARNING\u001b[0m Config item 'learning_rate' was locked by 'sweep' (ignored update).\n",
      "\u001b[34m\u001b[1mwandb\u001b[0m: \u001b[33mWARNING\u001b[0m Config item 'IMAGE_SIZE' was locked by 'sweep' (ignored update).\n",
      "\u001b[34m\u001b[1mwandb\u001b[0m: \u001b[33mWARNING\u001b[0m Config item 'EPOCH' was locked by 'sweep' (ignored update).\n",
      "\u001b[34m\u001b[1mwandb\u001b[0m: \u001b[33mWARNING\u001b[0m Config item 'rate_coding' was locked by 'sweep' (ignored update).\n",
      "\u001b[34m\u001b[1mwandb\u001b[0m: \u001b[33mWARNING\u001b[0m Config item 'pre_spike_weight' was locked by 'sweep' (ignored update).\n",
      "\u001b[34m\u001b[1mwandb\u001b[0m: \u001b[33mWARNING\u001b[0m Config item 'dvs_duration' was locked by 'sweep' (ignored update).\n",
      "\u001b[34m\u001b[1mwandb\u001b[0m: \u001b[33mWARNING\u001b[0m Config item 'dvs_clipping' was locked by 'sweep' (ignored update).\n",
      "\u001b[34m\u001b[1mwandb\u001b[0m: \u001b[33mWARNING\u001b[0m Config item 'no_reservoir' was locked by 'sweep' (ignored update).\n"
     ]
    },
    {
     "name": "stdout",
     "output_type": "stream",
     "text": [
      "The directory [/data2/gesture/duration_1000000] already exists.\n",
      "The directory [/data2/gesture/duration_1000000] already exists.\n",
      "RESERVOIR_NET(\n",
      "  (reservoir): RESERVOIR(\n",
      "    (conv_depthwise): Conv2d(2, 2, kernel_size=(3, 3), stride=(1, 1), padding=(1, 1), groups=2)\n",
      "  )\n",
      "  (linear): Linear(in_features=2048, out_features=10, bias=True)\n",
      ")\n",
      "Epoch 1\n",
      "Train Accuracy: 20.04%\n",
      "Test loss: 2.276, Accuracy: 43.94%\n",
      "Epoch 2\n",
      "Train Accuracy: 41.19%\n",
      "Test loss: 1.713, Accuracy: 47.73%\n",
      "Epoch 3\n",
      "Train Accuracy: 51.86%\n",
      "Test loss: 1.450, Accuracy: 56.82%\n",
      "Epoch 4\n",
      "Train Accuracy: 66.70%\n",
      "Test loss: 2.098, Accuracy: 56.44%\n",
      "Epoch 5\n",
      "Train Accuracy: 76.25%\n",
      "Test loss: 1.744, Accuracy: 59.09%\n",
      "Epoch 6\n",
      "Train Accuracy: 76.90%\n",
      "Test loss: 1.465, Accuracy: 57.20%\n",
      "Epoch 7\n",
      "Train Accuracy: 80.24%\n",
      "Test loss: 1.525, Accuracy: 64.39%\n",
      "Epoch 8\n",
      "Train Accuracy: 83.30%\n",
      "Test loss: 1.321, Accuracy: 64.77%\n",
      "Epoch 9\n",
      "Train Accuracy: 87.20%\n",
      "Test loss: 1.785, Accuracy: 59.85%\n",
      "Epoch 10\n",
      "Train Accuracy: 89.42%\n",
      "Test loss: 1.594, Accuracy: 58.71%\n",
      "Epoch 11\n",
      "Train Accuracy: 91.09%\n",
      "Test loss: 1.619, Accuracy: 65.15%\n",
      "Epoch 12\n",
      "Train Accuracy: 96.20%\n",
      "Test loss: 1.290, Accuracy: 66.29%\n",
      "Epoch 13\n",
      "Train Accuracy: 93.97%\n",
      "Test loss: 1.374, Accuracy: 65.15%\n",
      "Epoch 14\n",
      "Train Accuracy: 93.32%\n",
      "Test loss: 1.558, Accuracy: 65.53%\n",
      "Epoch 15\n",
      "Train Accuracy: 96.75%\n",
      "Test loss: 1.459, Accuracy: 60.23%\n",
      "Epoch 16\n",
      "Train Accuracy: 93.23%\n",
      "Test loss: 1.606, Accuracy: 58.33%\n",
      "Epoch 17\n",
      "Train Accuracy: 95.92%\n",
      "Test loss: 1.586, Accuracy: 68.18%\n",
      "Epoch 18\n",
      "Train Accuracy: 98.24%\n",
      "Test loss: 1.656, Accuracy: 67.80%\n",
      "Epoch 19\n",
      "Train Accuracy: 99.26%\n",
      "Test loss: 1.513, Accuracy: 67.05%\n",
      "Epoch 20\n",
      "Train Accuracy: 98.89%\n",
      "Test loss: 1.573, Accuracy: 63.26%\n",
      "Epoch 21\n",
      "Train Accuracy: 97.59%\n",
      "Test loss: 1.627, Accuracy: 66.29%\n",
      "Epoch 22\n",
      "Train Accuracy: 99.91%\n",
      "Test loss: 1.448, Accuracy: 69.70%\n",
      "Epoch 23\n",
      "Train Accuracy: 99.91%\n",
      "Test loss: 1.593, Accuracy: 67.42%\n",
      "Epoch 24\n",
      "Train Accuracy: 99.63%\n",
      "Test loss: 1.777, Accuracy: 65.91%\n",
      "Epoch 25\n",
      "Train Accuracy: 99.81%\n",
      "Test loss: 1.576, Accuracy: 68.56%\n",
      "Epoch 26\n",
      "Train Accuracy: 100.00%\n",
      "Test loss: 1.614, Accuracy: 66.67%\n",
      "Epoch 27\n",
      "Train Accuracy: 99.44%\n",
      "Test loss: 1.661, Accuracy: 68.18%\n",
      "Epoch 28\n",
      "Train Accuracy: 100.00%\n",
      "Test loss: 1.793, Accuracy: 68.18%\n",
      "Epoch 29\n",
      "Train Accuracy: 100.00%\n",
      "Test loss: 1.865, Accuracy: 67.42%\n",
      "Epoch 30\n",
      "Train Accuracy: 99.91%\n",
      "Test loss: 1.687, Accuracy: 70.45%\n",
      "Epoch 31\n",
      "Train Accuracy: 99.91%\n",
      "Test loss: 1.743, Accuracy: 66.67%\n",
      "Epoch 32\n",
      "Train Accuracy: 100.00%\n",
      "Test loss: 1.694, Accuracy: 68.18%\n",
      "Epoch 33\n",
      "Train Accuracy: 100.00%\n",
      "Test loss: 1.745, Accuracy: 68.56%\n",
      "Epoch 34\n",
      "Train Accuracy: 100.00%\n",
      "Test loss: 1.627, Accuracy: 68.94%\n",
      "Epoch 35\n",
      "Train Accuracy: 100.00%\n",
      "Test loss: 1.703, Accuracy: 68.56%\n",
      "Epoch 36\n",
      "Train Accuracy: 100.00%\n",
      "Test loss: 1.795, Accuracy: 65.53%\n",
      "Epoch 37\n",
      "Train Accuracy: 100.00%\n",
      "Test loss: 1.572, Accuracy: 68.56%\n",
      "Epoch 38\n",
      "Train Accuracy: 100.00%\n",
      "Test loss: 1.625, Accuracy: 68.18%\n",
      "Epoch 39\n",
      "Train Accuracy: 100.00%\n",
      "Test loss: 1.621, Accuracy: 68.18%\n",
      "Epoch 40\n",
      "Train Accuracy: 100.00%\n",
      "Test loss: 1.783, Accuracy: 68.18%\n",
      "Epoch 41\n",
      "Train Accuracy: 100.00%\n",
      "Test loss: 1.777, Accuracy: 70.08%\n",
      "Epoch 42\n",
      "Train Accuracy: 100.00%\n",
      "Test loss: 1.823, Accuracy: 67.80%\n",
      "Epoch 43\n",
      "Train Accuracy: 100.00%\n",
      "Test loss: 1.728, Accuracy: 69.32%\n",
      "Epoch 44\n",
      "Train Accuracy: 100.00%\n",
      "Test loss: 1.715, Accuracy: 67.80%\n",
      "Epoch 45\n",
      "Train Accuracy: 100.00%\n",
      "Test loss: 1.792, Accuracy: 68.56%\n",
      "Epoch 46\n",
      "Train Accuracy: 100.00%\n",
      "Test loss: 1.755, Accuracy: 67.42%\n",
      "Epoch 47\n",
      "Train Accuracy: 100.00%\n",
      "Test loss: 1.760, Accuracy: 65.15%\n",
      "Epoch 48\n",
      "Train Accuracy: 100.00%\n",
      "Test loss: 1.763, Accuracy: 68.18%\n",
      "Epoch 49\n",
      "Train Accuracy: 100.00%\n",
      "Test loss: 1.738, Accuracy: 69.70%\n",
      "Epoch 50\n",
      "Train Accuracy: 100.00%\n",
      "Test loss: 1.765, Accuracy: 68.94%\n"
     ]
    },
    {
     "data": {
      "application/vnd.jupyter.widget-view+json": {
       "model_id": "737d5dd27a0b470aaa82a12fd96bb81f",
       "version_major": 2,
       "version_minor": 0
      },
      "text/plain": [
       "VBox(children=(Label(value='22.935 MB of 22.935 MB uploaded (20.279 MB deduped)\\r'), FloatProgress(value=1.0, …"
      ]
     },
     "metadata": {},
     "output_type": "display_data"
    },
    {
     "data": {
      "text/html": [
       "W&B sync reduced upload amount by 88.2%"
      ],
      "text/plain": [
       "<IPython.core.display.HTML object>"
      ]
     },
     "metadata": {},
     "output_type": "display_data"
    },
    {
     "data": {
      "text/html": [
       "<style>\n",
       "    table.wandb td:nth-child(1) { padding: 0 10px; text-align: left ; width: auto;} td:nth-child(2) {text-align: left ; width: 100%}\n",
       "    .wandb-row { display: flex; flex-direction: row; flex-wrap: wrap; justify-content: flex-start; width: 100% }\n",
       "    .wandb-col { display: flex; flex-direction: column; flex-basis: 100%; flex: 1; padding: 10px; }\n",
       "    </style>\n",
       "<div class=\"wandb-row\"><div class=\"wandb-col\"><h3>Run history:</h3><br/><table class=\"wandb\"><tr><td>iter_accuracy</td><td>▁▃▄▆▇▇▇▇▇███▇███████████████████████████</td></tr><tr><td>tr_accuracy</td><td>▁▃▄▅▆▆▇▇▇█▇▇▇███████████████████████████</td></tr><tr><td>val_accuracy</td><td>▁▂▄▄▅▆▇▅▇▇▇▇▅▇▇▇▇█▇▇▇▇▇▇▇▇██▇█▇▇█▇█▇▇▇▇█</td></tr></table><br/></div><div class=\"wandb-col\"><h3>Run summary:</h3><br/><table class=\"wandb\"><tr><td>iter_accuracy</td><td>100.0</td></tr><tr><td>tr_accuracy</td><td>100.0</td></tr><tr><td>val_accuracy</td><td>68.93939</td></tr></table><br/></div></div>"
      ],
      "text/plain": [
       "<IPython.core.display.HTML object>"
      ]
     },
     "metadata": {},
     "output_type": "display_data"
    },
    {
     "data": {
      "text/html": [
       " View run <strong style=\"color:#cdcd00\">wild-sweep-109</strong> at: <a href='https://wandb.ai/bhkim003-seoul-national-university/reservoir/runs/rt46jzis' target=\"_blank\">https://wandb.ai/bhkim003-seoul-national-university/reservoir/runs/rt46jzis</a><br/> View project at: <a href='https://wandb.ai/bhkim003-seoul-national-university/reservoir' target=\"_blank\">https://wandb.ai/bhkim003-seoul-national-university/reservoir</a><br/>Synced 7 W&B file(s), 0 media file(s), 32 artifact file(s) and 1 other file(s)"
      ],
      "text/plain": [
       "<IPython.core.display.HTML object>"
      ]
     },
     "metadata": {},
     "output_type": "display_data"
    },
    {
     "data": {
      "text/html": [
       "Find logs at: <code>./wandb/run-20240726_120354-rt46jzis/logs</code>"
      ],
      "text/plain": [
       "<IPython.core.display.HTML object>"
      ]
     },
     "metadata": {},
     "output_type": "display_data"
    },
    {
     "data": {
      "text/html": [
       "The new W&B backend becomes opt-out in version 0.18.0; try it out with `wandb.require(\"core\")`! See https://wandb.me/wandb-core for more information."
      ],
      "text/plain": [
       "<IPython.core.display.HTML object>"
      ]
     },
     "metadata": {},
     "output_type": "display_data"
    },
    {
     "name": "stderr",
     "output_type": "stream",
     "text": [
      "\u001b[34m\u001b[1mwandb\u001b[0m: Agent Starting Run: mqvxcls6 with config:\n",
      "\u001b[34m\u001b[1mwandb\u001b[0m: \tEPOCH: 50\n",
      "\u001b[34m\u001b[1mwandb\u001b[0m: \tIMAGE_SIZE: 48\n",
      "\u001b[34m\u001b[1mwandb\u001b[0m: \tbatch_size: 64\n",
      "\u001b[34m\u001b[1mwandb\u001b[0m: \tdata_path: /data2\n",
      "\u001b[34m\u001b[1mwandb\u001b[0m: \tdecay: 0.2592763883886717\n",
      "\u001b[34m\u001b[1mwandb\u001b[0m: \tdvs_clipping: True\n",
      "\u001b[34m\u001b[1mwandb\u001b[0m: \tdvs_duration: 1000000\n",
      "\u001b[34m\u001b[1mwandb\u001b[0m: \tlearning_rate: 0.07727250322975296\n",
      "\u001b[34m\u001b[1mwandb\u001b[0m: \tno_reservoir: True\n",
      "\u001b[34m\u001b[1mwandb\u001b[0m: \tpre_spike_weight: 1.4348541952755631\n",
      "\u001b[34m\u001b[1mwandb\u001b[0m: \trate_coding: True\n",
      "\u001b[34m\u001b[1mwandb\u001b[0m: \ttime_step: 4\n",
      "\u001b[34m\u001b[1mwandb\u001b[0m: \twhich_data: DVS_GESTURE\n",
      "Failed to detect the name of this notebook, you can set it manually with the WANDB_NOTEBOOK_NAME environment variable to enable code saving.\n"
     ]
    },
    {
     "data": {
      "text/html": [
       "Tracking run with wandb version 0.17.5"
      ],
      "text/plain": [
       "<IPython.core.display.HTML object>"
      ]
     },
     "metadata": {},
     "output_type": "display_data"
    },
    {
     "data": {
      "text/html": [
       "Run data is saved locally in <code>/nfs/home/bhkim003/github_folder/ByeonghyeonKim/my_snn/wandb/run-20240726_120934-mqvxcls6</code>"
      ],
      "text/plain": [
       "<IPython.core.display.HTML object>"
      ]
     },
     "metadata": {},
     "output_type": "display_data"
    },
    {
     "data": {
      "text/html": [
       "Syncing run <strong><a href='https://wandb.ai/bhkim003-seoul-national-university/reservoir/runs/mqvxcls6' target=\"_blank\">unique-sweep-110</a></strong> to <a href='https://wandb.ai/bhkim003-seoul-national-university/reservoir' target=\"_blank\">Weights & Biases</a> (<a href='https://wandb.me/run' target=\"_blank\">docs</a>)<br/>Sweep page: <a href='https://wandb.ai/bhkim003-seoul-national-university/reservoir/sweeps/0j0aowy8' target=\"_blank\">https://wandb.ai/bhkim003-seoul-national-university/reservoir/sweeps/0j0aowy8</a>"
      ],
      "text/plain": [
       "<IPython.core.display.HTML object>"
      ]
     },
     "metadata": {},
     "output_type": "display_data"
    },
    {
     "data": {
      "text/html": [
       " View project at <a href='https://wandb.ai/bhkim003-seoul-national-university/reservoir' target=\"_blank\">https://wandb.ai/bhkim003-seoul-national-university/reservoir</a>"
      ],
      "text/plain": [
       "<IPython.core.display.HTML object>"
      ]
     },
     "metadata": {},
     "output_type": "display_data"
    },
    {
     "data": {
      "text/html": [
       " View sweep at <a href='https://wandb.ai/bhkim003-seoul-national-university/reservoir/sweeps/0j0aowy8' target=\"_blank\">https://wandb.ai/bhkim003-seoul-national-university/reservoir/sweeps/0j0aowy8</a>"
      ],
      "text/plain": [
       "<IPython.core.display.HTML object>"
      ]
     },
     "metadata": {},
     "output_type": "display_data"
    },
    {
     "data": {
      "text/html": [
       " View run at <a href='https://wandb.ai/bhkim003-seoul-national-university/reservoir/runs/mqvxcls6' target=\"_blank\">https://wandb.ai/bhkim003-seoul-national-university/reservoir/runs/mqvxcls6</a>"
      ],
      "text/plain": [
       "<IPython.core.display.HTML object>"
      ]
     },
     "metadata": {},
     "output_type": "display_data"
    },
    {
     "name": "stderr",
     "output_type": "stream",
     "text": [
      "\u001b[34m\u001b[1mwandb\u001b[0m: \u001b[33mWARNING\u001b[0m Config item 'data_path' was locked by 'sweep' (ignored update).\n",
      "\u001b[34m\u001b[1mwandb\u001b[0m: \u001b[33mWARNING\u001b[0m Config item 'which_data' was locked by 'sweep' (ignored update).\n",
      "\u001b[34m\u001b[1mwandb\u001b[0m: \u001b[33mWARNING\u001b[0m Config item 'learning_rate' was locked by 'sweep' (ignored update).\n",
      "\u001b[34m\u001b[1mwandb\u001b[0m: \u001b[33mWARNING\u001b[0m Config item 'IMAGE_SIZE' was locked by 'sweep' (ignored update).\n",
      "\u001b[34m\u001b[1mwandb\u001b[0m: \u001b[33mWARNING\u001b[0m Config item 'EPOCH' was locked by 'sweep' (ignored update).\n",
      "\u001b[34m\u001b[1mwandb\u001b[0m: \u001b[33mWARNING\u001b[0m Config item 'rate_coding' was locked by 'sweep' (ignored update).\n",
      "\u001b[34m\u001b[1mwandb\u001b[0m: \u001b[33mWARNING\u001b[0m Config item 'pre_spike_weight' was locked by 'sweep' (ignored update).\n",
      "\u001b[34m\u001b[1mwandb\u001b[0m: \u001b[33mWARNING\u001b[0m Config item 'dvs_duration' was locked by 'sweep' (ignored update).\n",
      "\u001b[34m\u001b[1mwandb\u001b[0m: \u001b[33mWARNING\u001b[0m Config item 'dvs_clipping' was locked by 'sweep' (ignored update).\n",
      "\u001b[34m\u001b[1mwandb\u001b[0m: \u001b[33mWARNING\u001b[0m Config item 'no_reservoir' was locked by 'sweep' (ignored update).\n"
     ]
    },
    {
     "name": "stdout",
     "output_type": "stream",
     "text": [
      "The directory [/data2/gesture/duration_1000000] already exists.\n",
      "The directory [/data2/gesture/duration_1000000] already exists.\n",
      "NO_RESERVOIR_NET(\n",
      "  (reservoir): RESERVOIR(\n",
      "    (conv_depthwise): Conv2d(2, 2, kernel_size=(3, 3), stride=(1, 1), padding=(1, 1), groups=2)\n",
      "  )\n",
      "  (linear): Linear(in_features=4608, out_features=10, bias=True)\n",
      ")\n",
      "Epoch 1\n",
      "Train Accuracy: 18.37%\n",
      "Test loss: 53.251, Accuracy: 24.24%\n",
      "Epoch 2\n",
      "Train Accuracy: 42.58%\n",
      "Test loss: 18.930, Accuracy: 44.70%\n",
      "Epoch 3\n",
      "Train Accuracy: 57.98%\n",
      "Test loss: 10.844, Accuracy: 52.27%\n",
      "Epoch 4\n",
      "Train Accuracy: 68.27%\n",
      "Test loss: 7.845, Accuracy: 55.68%\n",
      "Epoch 5\n",
      "Train Accuracy: 75.70%\n",
      "Test loss: 4.956, Accuracy: 60.98%\n",
      "Epoch 6\n",
      "Train Accuracy: 82.37%\n",
      "Test loss: 11.451, Accuracy: 54.92%\n",
      "Epoch 7\n",
      "Train Accuracy: 81.26%\n",
      "Test loss: 8.636, Accuracy: 60.23%\n",
      "Epoch 8\n",
      "Train Accuracy: 86.92%\n",
      "Test loss: 8.442, Accuracy: 64.77%\n",
      "Epoch 9\n",
      "Train Accuracy: 86.55%\n",
      "Test loss: 7.460, Accuracy: 62.12%\n",
      "Epoch 10\n",
      "Train Accuracy: 92.02%\n",
      "Test loss: 8.775, Accuracy: 59.09%\n",
      "Epoch 11\n",
      "Train Accuracy: 87.85%\n",
      "Test loss: 9.579, Accuracy: 56.44%\n",
      "Epoch 12\n",
      "Train Accuracy: 90.26%\n",
      "Test loss: 5.799, Accuracy: 65.15%\n",
      "Epoch 13\n",
      "Train Accuracy: 93.60%\n",
      "Test loss: 5.931, Accuracy: 59.47%\n",
      "Epoch 14\n",
      "Train Accuracy: 96.01%\n",
      "Test loss: 5.253, Accuracy: 65.15%\n",
      "Epoch 15\n",
      "Train Accuracy: 97.31%\n",
      "Test loss: 4.948, Accuracy: 61.36%\n",
      "Epoch 16\n",
      "Train Accuracy: 97.50%\n",
      "Test loss: 3.910, Accuracy: 68.94%\n",
      "Epoch 17\n",
      "Train Accuracy: 98.52%\n",
      "Test loss: 4.188, Accuracy: 65.53%\n",
      "Epoch 18\n",
      "Train Accuracy: 96.85%\n",
      "Test loss: 4.215, Accuracy: 69.32%\n",
      "Epoch 19\n",
      "Train Accuracy: 99.07%\n",
      "Test loss: 4.633, Accuracy: 68.18%\n",
      "Epoch 20\n",
      "Train Accuracy: 99.54%\n",
      "Test loss: 4.875, Accuracy: 68.18%\n",
      "Epoch 21\n",
      "Train Accuracy: 99.63%\n",
      "Test loss: 4.268, Accuracy: 65.53%\n",
      "Epoch 22\n",
      "Train Accuracy: 98.98%\n",
      "Test loss: 4.080, Accuracy: 67.42%\n",
      "Epoch 23\n",
      "Train Accuracy: 99.81%\n",
      "Test loss: 3.758, Accuracy: 69.70%\n",
      "Epoch 24\n",
      "Train Accuracy: 100.00%\n",
      "Test loss: 3.961, Accuracy: 68.56%\n",
      "Epoch 25\n",
      "Train Accuracy: 100.00%\n",
      "Test loss: 4.009, Accuracy: 69.32%\n",
      "Epoch 26\n",
      "Train Accuracy: 100.00%\n",
      "Test loss: 4.020, Accuracy: 68.18%\n",
      "Epoch 27\n",
      "Train Accuracy: 100.00%\n",
      "Test loss: 4.025, Accuracy: 68.18%\n",
      "Epoch 28\n",
      "Train Accuracy: 100.00%\n",
      "Test loss: 4.033, Accuracy: 68.18%\n",
      "Epoch 29\n",
      "Train Accuracy: 100.00%\n",
      "Test loss: 4.035, Accuracy: 68.18%\n",
      "Epoch 30\n",
      "Train Accuracy: 100.00%\n",
      "Test loss: 4.041, Accuracy: 68.18%\n",
      "Epoch 31\n",
      "Train Accuracy: 100.00%\n",
      "Test loss: 4.043, Accuracy: 68.18%\n",
      "Epoch 32\n",
      "Train Accuracy: 100.00%\n",
      "Test loss: 4.046, Accuracy: 68.18%\n",
      "Epoch 33\n",
      "Train Accuracy: 100.00%\n",
      "Test loss: 4.050, Accuracy: 68.18%\n",
      "Epoch 34\n",
      "Train Accuracy: 100.00%\n",
      "Test loss: 4.051, Accuracy: 67.80%\n",
      "Epoch 35\n",
      "Train Accuracy: 100.00%\n",
      "Test loss: 4.051, Accuracy: 67.80%\n",
      "Epoch 36\n",
      "Train Accuracy: 100.00%\n",
      "Test loss: 4.054, Accuracy: 68.18%\n",
      "Epoch 37\n",
      "Train Accuracy: 100.00%\n",
      "Test loss: 4.057, Accuracy: 68.18%\n",
      "Epoch 38\n",
      "Train Accuracy: 100.00%\n",
      "Test loss: 4.060, Accuracy: 68.18%\n",
      "Epoch 39\n",
      "Train Accuracy: 100.00%\n",
      "Test loss: 4.062, Accuracy: 67.80%\n",
      "Epoch 40\n",
      "Train Accuracy: 100.00%\n",
      "Test loss: 4.061, Accuracy: 68.56%\n",
      "Epoch 41\n",
      "Train Accuracy: 100.00%\n",
      "Test loss: 4.063, Accuracy: 68.56%\n",
      "Epoch 42\n",
      "Train Accuracy: 100.00%\n",
      "Test loss: 4.068, Accuracy: 68.18%\n",
      "Epoch 43\n",
      "Train Accuracy: 100.00%\n",
      "Test loss: 4.068, Accuracy: 68.18%\n",
      "Epoch 44\n",
      "Train Accuracy: 100.00%\n",
      "Test loss: 4.068, Accuracy: 68.56%\n",
      "Epoch 45\n",
      "Train Accuracy: 100.00%\n",
      "Test loss: 4.073, Accuracy: 68.56%\n",
      "Epoch 46\n",
      "Train Accuracy: 100.00%\n",
      "Test loss: 4.072, Accuracy: 68.56%\n",
      "Epoch 47\n",
      "Train Accuracy: 100.00%\n",
      "Test loss: 4.075, Accuracy: 68.56%\n",
      "Epoch 48\n",
      "Train Accuracy: 100.00%\n",
      "Test loss: 4.071, Accuracy: 68.56%\n",
      "Epoch 49\n",
      "Train Accuracy: 100.00%\n",
      "Test loss: 4.077, Accuracy: 68.56%\n",
      "Epoch 50\n",
      "Train Accuracy: 100.00%\n",
      "Test loss: 4.077, Accuracy: 68.56%\n"
     ]
    },
    {
     "data": {
      "application/vnd.jupyter.widget-view+json": {
       "model_id": "eb692ea0cf554f559f81230f4df817e8",
       "version_major": 2,
       "version_minor": 0
      },
      "text/plain": [
       "VBox(children=(Label(value='1.461 MB of 1.461 MB uploaded\\r'), FloatProgress(value=1.0, max=1.0)))"
      ]
     },
     "metadata": {},
     "output_type": "display_data"
    },
    {
     "data": {
      "text/html": [
       "<style>\n",
       "    table.wandb td:nth-child(1) { padding: 0 10px; text-align: left ; width: auto;} td:nth-child(2) {text-align: left ; width: 100%}\n",
       "    .wandb-row { display: flex; flex-direction: row; flex-wrap: wrap; justify-content: flex-start; width: 100% }\n",
       "    .wandb-col { display: flex; flex-direction: column; flex-basis: 100%; flex: 1; padding: 10px; }\n",
       "    </style>\n",
       "<div class=\"wandb-row\"><div class=\"wandb-col\"><h3>Run history:</h3><br/><table class=\"wandb\"><tr><td>iter_accuracy</td><td>▁▁▃▅▆▆▇▆██▇█████████████████████████████</td></tr><tr><td>tr_accuracy</td><td>▁▃▄▅▆▆▇▇▇▇▇█████████████████████████████</td></tr><tr><td>val_accuracy</td><td>▁▄▅▆▆▇▇▇▆▇▆▇█▇██▇███████████████████████</td></tr></table><br/></div><div class=\"wandb-col\"><h3>Run summary:</h3><br/><table class=\"wandb\"><tr><td>iter_accuracy</td><td>100.0</td></tr><tr><td>tr_accuracy</td><td>100.0</td></tr><tr><td>val_accuracy</td><td>68.56061</td></tr></table><br/></div></div>"
      ],
      "text/plain": [
       "<IPython.core.display.HTML object>"
      ]
     },
     "metadata": {},
     "output_type": "display_data"
    },
    {
     "data": {
      "text/html": [
       " View run <strong style=\"color:#cdcd00\">unique-sweep-110</strong> at: <a href='https://wandb.ai/bhkim003-seoul-national-university/reservoir/runs/mqvxcls6' target=\"_blank\">https://wandb.ai/bhkim003-seoul-national-university/reservoir/runs/mqvxcls6</a><br/> View project at: <a href='https://wandb.ai/bhkim003-seoul-national-university/reservoir' target=\"_blank\">https://wandb.ai/bhkim003-seoul-national-university/reservoir</a><br/>Synced 7 W&B file(s), 0 media file(s), 0 artifact file(s) and 1 other file(s)"
      ],
      "text/plain": [
       "<IPython.core.display.HTML object>"
      ]
     },
     "metadata": {},
     "output_type": "display_data"
    },
    {
     "data": {
      "text/html": [
       "Find logs at: <code>./wandb/run-20240726_120934-mqvxcls6/logs</code>"
      ],
      "text/plain": [
       "<IPython.core.display.HTML object>"
      ]
     },
     "metadata": {},
     "output_type": "display_data"
    },
    {
     "data": {
      "text/html": [
       "The new W&B backend becomes opt-out in version 0.18.0; try it out with `wandb.require(\"core\")`! See https://wandb.me/wandb-core for more information."
      ],
      "text/plain": [
       "<IPython.core.display.HTML object>"
      ]
     },
     "metadata": {},
     "output_type": "display_data"
    },
    {
     "name": "stderr",
     "output_type": "stream",
     "text": [
      "\u001b[34m\u001b[1mwandb\u001b[0m: Agent Starting Run: g4p81e8c with config:\n",
      "\u001b[34m\u001b[1mwandb\u001b[0m: \tEPOCH: 50\n",
      "\u001b[34m\u001b[1mwandb\u001b[0m: \tIMAGE_SIZE: 32\n",
      "\u001b[34m\u001b[1mwandb\u001b[0m: \tbatch_size: 256\n",
      "\u001b[34m\u001b[1mwandb\u001b[0m: \tdata_path: /data2\n",
      "\u001b[34m\u001b[1mwandb\u001b[0m: \tdecay: 0.3247399056932315\n",
      "\u001b[34m\u001b[1mwandb\u001b[0m: \tdvs_clipping: True\n",
      "\u001b[34m\u001b[1mwandb\u001b[0m: \tdvs_duration: 1000000\n",
      "\u001b[34m\u001b[1mwandb\u001b[0m: \tlearning_rate: 0.0887050710429105\n",
      "\u001b[34m\u001b[1mwandb\u001b[0m: \tno_reservoir: True\n",
      "\u001b[34m\u001b[1mwandb\u001b[0m: \tpre_spike_weight: 1.8896417696560175\n",
      "\u001b[34m\u001b[1mwandb\u001b[0m: \trate_coding: True\n",
      "\u001b[34m\u001b[1mwandb\u001b[0m: \ttime_step: 4\n",
      "\u001b[34m\u001b[1mwandb\u001b[0m: \twhich_data: DVS_GESTURE\n",
      "Failed to detect the name of this notebook, you can set it manually with the WANDB_NOTEBOOK_NAME environment variable to enable code saving.\n"
     ]
    },
    {
     "data": {
      "text/html": [
       "Tracking run with wandb version 0.17.5"
      ],
      "text/plain": [
       "<IPython.core.display.HTML object>"
      ]
     },
     "metadata": {},
     "output_type": "display_data"
    },
    {
     "data": {
      "text/html": [
       "Run data is saved locally in <code>/nfs/home/bhkim003/github_folder/ByeonghyeonKim/my_snn/wandb/run-20240726_121536-g4p81e8c</code>"
      ],
      "text/plain": [
       "<IPython.core.display.HTML object>"
      ]
     },
     "metadata": {},
     "output_type": "display_data"
    },
    {
     "data": {
      "text/html": [
       "Syncing run <strong><a href='https://wandb.ai/bhkim003-seoul-national-university/reservoir/runs/g4p81e8c' target=\"_blank\">cool-sweep-111</a></strong> to <a href='https://wandb.ai/bhkim003-seoul-national-university/reservoir' target=\"_blank\">Weights & Biases</a> (<a href='https://wandb.me/run' target=\"_blank\">docs</a>)<br/>Sweep page: <a href='https://wandb.ai/bhkim003-seoul-national-university/reservoir/sweeps/0j0aowy8' target=\"_blank\">https://wandb.ai/bhkim003-seoul-national-university/reservoir/sweeps/0j0aowy8</a>"
      ],
      "text/plain": [
       "<IPython.core.display.HTML object>"
      ]
     },
     "metadata": {},
     "output_type": "display_data"
    },
    {
     "data": {
      "text/html": [
       " View project at <a href='https://wandb.ai/bhkim003-seoul-national-university/reservoir' target=\"_blank\">https://wandb.ai/bhkim003-seoul-national-university/reservoir</a>"
      ],
      "text/plain": [
       "<IPython.core.display.HTML object>"
      ]
     },
     "metadata": {},
     "output_type": "display_data"
    },
    {
     "data": {
      "text/html": [
       " View sweep at <a href='https://wandb.ai/bhkim003-seoul-national-university/reservoir/sweeps/0j0aowy8' target=\"_blank\">https://wandb.ai/bhkim003-seoul-national-university/reservoir/sweeps/0j0aowy8</a>"
      ],
      "text/plain": [
       "<IPython.core.display.HTML object>"
      ]
     },
     "metadata": {},
     "output_type": "display_data"
    },
    {
     "data": {
      "text/html": [
       " View run at <a href='https://wandb.ai/bhkim003-seoul-national-university/reservoir/runs/g4p81e8c' target=\"_blank\">https://wandb.ai/bhkim003-seoul-national-university/reservoir/runs/g4p81e8c</a>"
      ],
      "text/plain": [
       "<IPython.core.display.HTML object>"
      ]
     },
     "metadata": {},
     "output_type": "display_data"
    },
    {
     "name": "stderr",
     "output_type": "stream",
     "text": [
      "\u001b[34m\u001b[1mwandb\u001b[0m: \u001b[33mWARNING\u001b[0m Config item 'data_path' was locked by 'sweep' (ignored update).\n",
      "\u001b[34m\u001b[1mwandb\u001b[0m: \u001b[33mWARNING\u001b[0m Config item 'which_data' was locked by 'sweep' (ignored update).\n",
      "\u001b[34m\u001b[1mwandb\u001b[0m: \u001b[33mWARNING\u001b[0m Config item 'learning_rate' was locked by 'sweep' (ignored update).\n",
      "\u001b[34m\u001b[1mwandb\u001b[0m: \u001b[33mWARNING\u001b[0m Config item 'IMAGE_SIZE' was locked by 'sweep' (ignored update).\n",
      "\u001b[34m\u001b[1mwandb\u001b[0m: \u001b[33mWARNING\u001b[0m Config item 'EPOCH' was locked by 'sweep' (ignored update).\n",
      "\u001b[34m\u001b[1mwandb\u001b[0m: \u001b[33mWARNING\u001b[0m Config item 'rate_coding' was locked by 'sweep' (ignored update).\n",
      "\u001b[34m\u001b[1mwandb\u001b[0m: \u001b[33mWARNING\u001b[0m Config item 'pre_spike_weight' was locked by 'sweep' (ignored update).\n",
      "\u001b[34m\u001b[1mwandb\u001b[0m: \u001b[33mWARNING\u001b[0m Config item 'dvs_duration' was locked by 'sweep' (ignored update).\n",
      "\u001b[34m\u001b[1mwandb\u001b[0m: \u001b[33mWARNING\u001b[0m Config item 'dvs_clipping' was locked by 'sweep' (ignored update).\n",
      "\u001b[34m\u001b[1mwandb\u001b[0m: \u001b[33mWARNING\u001b[0m Config item 'no_reservoir' was locked by 'sweep' (ignored update).\n"
     ]
    },
    {
     "name": "stdout",
     "output_type": "stream",
     "text": [
      "The directory [/data2/gesture/duration_1000000] already exists.\n",
      "The directory [/data2/gesture/duration_1000000] already exists.\n",
      "NO_RESERVOIR_NET(\n",
      "  (reservoir): RESERVOIR(\n",
      "    (conv_depthwise): Conv2d(2, 2, kernel_size=(3, 3), stride=(1, 1), padding=(1, 1), groups=2)\n",
      "  )\n",
      "  (linear): Linear(in_features=2048, out_features=10, bias=True)\n",
      ")\n",
      "Epoch 1\n",
      "Train Accuracy: 12.89%\n",
      "Test loss: 7.122, Accuracy: 15.53%\n",
      "Epoch 2\n",
      "Train Accuracy: 22.08%\n",
      "Test loss: 8.686, Accuracy: 26.52%\n",
      "Epoch 3\n",
      "Train Accuracy: 29.68%\n",
      "Test loss: 19.637, Accuracy: 27.65%\n",
      "Epoch 4\n",
      "Train Accuracy: 28.76%\n",
      "Test loss: 4.072, Accuracy: 39.39%\n",
      "Epoch 5\n",
      "Train Accuracy: 46.01%\n",
      "Test loss: 8.821, Accuracy: 42.42%\n",
      "Epoch 6\n",
      "Train Accuracy: 51.48%\n",
      "Test loss: 9.015, Accuracy: 42.42%\n",
      "Epoch 7\n",
      "Train Accuracy: 57.42%\n",
      "Test loss: 3.827, Accuracy: 42.42%\n",
      "Epoch 8\n",
      "Train Accuracy: 55.10%\n",
      "Test loss: 8.371, Accuracy: 50.76%\n",
      "Epoch 9\n",
      "Train Accuracy: 61.13%\n",
      "Test loss: 3.362, Accuracy: 57.20%\n",
      "Epoch 10\n",
      "Train Accuracy: 67.90%\n",
      "Test loss: 4.980, Accuracy: 56.06%\n",
      "Epoch 11\n",
      "Train Accuracy: 71.52%\n",
      "Test loss: 5.393, Accuracy: 48.48%\n",
      "Epoch 12\n",
      "Train Accuracy: 74.86%\n",
      "Test loss: 3.824, Accuracy: 60.98%\n",
      "Epoch 13\n",
      "Train Accuracy: 79.41%\n",
      "Test loss: 6.527, Accuracy: 54.55%\n",
      "Epoch 14\n",
      "Train Accuracy: 77.83%\n",
      "Test loss: 2.821, Accuracy: 59.09%\n",
      "Epoch 15\n",
      "Train Accuracy: 77.83%\n",
      "Test loss: 3.854, Accuracy: 56.82%\n",
      "Epoch 16\n",
      "Train Accuracy: 82.93%\n",
      "Test loss: 4.566, Accuracy: 59.47%\n",
      "Epoch 17\n",
      "Train Accuracy: 86.55%\n",
      "Test loss: 4.463, Accuracy: 62.50%\n",
      "Epoch 18\n",
      "Train Accuracy: 87.94%\n",
      "Test loss: 3.210, Accuracy: 59.47%\n",
      "Epoch 19\n",
      "Train Accuracy: 88.68%\n",
      "Test loss: 3.241, Accuracy: 64.39%\n",
      "Epoch 20\n",
      "Train Accuracy: 93.51%\n",
      "Test loss: 2.978, Accuracy: 65.91%\n",
      "Epoch 21\n",
      "Train Accuracy: 96.20%\n",
      "Test loss: 3.856, Accuracy: 64.77%\n",
      "Epoch 22\n",
      "Train Accuracy: 92.12%\n",
      "Test loss: 3.561, Accuracy: 63.64%\n",
      "Epoch 23\n",
      "Train Accuracy: 94.53%\n",
      "Test loss: 3.507, Accuracy: 64.02%\n",
      "Epoch 24\n",
      "Train Accuracy: 96.94%\n",
      "Test loss: 3.119, Accuracy: 67.42%\n",
      "Epoch 25\n",
      "Train Accuracy: 96.47%\n",
      "Test loss: 2.892, Accuracy: 66.29%\n",
      "Epoch 26\n",
      "Train Accuracy: 96.85%\n",
      "Test loss: 3.487, Accuracy: 64.77%\n",
      "Epoch 27\n",
      "Train Accuracy: 97.59%\n",
      "Test loss: 3.120, Accuracy: 68.94%\n",
      "Epoch 28\n",
      "Train Accuracy: 99.26%\n",
      "Test loss: 3.070, Accuracy: 64.39%\n",
      "Epoch 29\n",
      "Train Accuracy: 99.44%\n",
      "Test loss: 3.300, Accuracy: 66.67%\n",
      "Epoch 30\n",
      "Train Accuracy: 100.00%\n",
      "Test loss: 2.884, Accuracy: 70.45%\n",
      "Epoch 31\n",
      "Train Accuracy: 99.63%\n",
      "Test loss: 3.290, Accuracy: 66.67%\n",
      "Epoch 32\n",
      "Train Accuracy: 99.91%\n",
      "Test loss: 3.022, Accuracy: 70.08%\n",
      "Epoch 33\n",
      "Train Accuracy: 99.72%\n",
      "Test loss: 3.277, Accuracy: 67.05%\n",
      "Epoch 34\n",
      "Train Accuracy: 100.00%\n",
      "Test loss: 3.156, Accuracy: 68.18%\n",
      "Epoch 35\n",
      "Train Accuracy: 100.00%\n",
      "Test loss: 2.918, Accuracy: 67.80%\n",
      "Epoch 36\n",
      "Train Accuracy: 100.00%\n",
      "Test loss: 3.237, Accuracy: 68.18%\n",
      "Epoch 37\n",
      "Train Accuracy: 100.00%\n",
      "Test loss: 3.232, Accuracy: 70.83%\n",
      "Epoch 38\n",
      "Train Accuracy: 100.00%\n",
      "Test loss: 3.060, Accuracy: 67.42%\n",
      "Epoch 39\n",
      "Train Accuracy: 100.00%\n",
      "Test loss: 2.968, Accuracy: 67.80%\n",
      "Epoch 40\n",
      "Train Accuracy: 100.00%\n",
      "Test loss: 3.217, Accuracy: 69.70%\n",
      "Epoch 41\n",
      "Train Accuracy: 100.00%\n",
      "Test loss: 3.188, Accuracy: 67.05%\n",
      "Epoch 42\n",
      "Train Accuracy: 100.00%\n",
      "Test loss: 3.033, Accuracy: 68.18%\n",
      "Epoch 43\n",
      "Train Accuracy: 100.00%\n",
      "Test loss: 3.151, Accuracy: 68.56%\n",
      "Epoch 44\n",
      "Train Accuracy: 100.00%\n",
      "Test loss: 3.129, Accuracy: 67.42%\n",
      "Epoch 45\n",
      "Train Accuracy: 100.00%\n",
      "Test loss: 3.072, Accuracy: 68.56%\n",
      "Epoch 46\n",
      "Train Accuracy: 100.00%\n",
      "Test loss: 3.200, Accuracy: 69.32%\n",
      "Epoch 47\n",
      "Train Accuracy: 100.00%\n",
      "Test loss: 3.037, Accuracy: 67.42%\n",
      "Epoch 48\n",
      "Train Accuracy: 100.00%\n",
      "Test loss: 3.068, Accuracy: 67.80%\n",
      "Epoch 49\n",
      "Train Accuracy: 100.00%\n",
      "Test loss: 3.179, Accuracy: 67.80%\n",
      "Epoch 50\n",
      "Train Accuracy: 100.00%\n",
      "Test loss: 3.114, Accuracy: 66.67%\n"
     ]
    },
    {
     "data": {
      "application/vnd.jupyter.widget-view+json": {
       "model_id": "358b1c4834f8436e903c20a3df7c0c43",
       "version_major": 2,
       "version_minor": 0
      },
      "text/plain": [
       "VBox(children=(Label(value='22.266 MB of 22.266 MB uploaded (20.342 MB deduped)\\r'), FloatProgress(value=1.0, …"
      ]
     },
     "metadata": {},
     "output_type": "display_data"
    },
    {
     "data": {
      "text/html": [
       "W&B sync reduced upload amount by 91.1%"
      ],
      "text/plain": [
       "<IPython.core.display.HTML object>"
      ]
     },
     "metadata": {},
     "output_type": "display_data"
    },
    {
     "data": {
      "text/html": [
       "<style>\n",
       "    table.wandb td:nth-child(1) { padding: 0 10px; text-align: left ; width: auto;} td:nth-child(2) {text-align: left ; width: 100%}\n",
       "    .wandb-row { display: flex; flex-direction: row; flex-wrap: wrap; justify-content: flex-start; width: 100% }\n",
       "    .wandb-col { display: flex; flex-direction: column; flex-basis: 100%; flex: 1; padding: 10px; }\n",
       "    </style>\n",
       "<div class=\"wandb-row\"><div class=\"wandb-col\"><h3>Run history:</h3><br/><table class=\"wandb\"><tr><td>iter_accuracy</td><td>▁▃▂▂▄▄▄▆▆▆▇▆▆▆▇██▇██████████████████████</td></tr><tr><td>tr_accuracy</td><td>▁▂▂▂▄▅▄▅▆▆▆▆▇▇▇▇█▇██████████████████████</td></tr><tr><td>val_accuracy</td><td>▁▂▃▄▄▄▅▆▅▇▆▇▇▇▇▇▇▇▇█▇█▇▇▇██████████████▇</td></tr></table><br/></div><div class=\"wandb-col\"><h3>Run summary:</h3><br/><table class=\"wandb\"><tr><td>iter_accuracy</td><td>100.0</td></tr><tr><td>tr_accuracy</td><td>100.0</td></tr><tr><td>val_accuracy</td><td>66.66667</td></tr></table><br/></div></div>"
      ],
      "text/plain": [
       "<IPython.core.display.HTML object>"
      ]
     },
     "metadata": {},
     "output_type": "display_data"
    },
    {
     "data": {
      "text/html": [
       " View run <strong style=\"color:#cdcd00\">cool-sweep-111</strong> at: <a href='https://wandb.ai/bhkim003-seoul-national-university/reservoir/runs/g4p81e8c' target=\"_blank\">https://wandb.ai/bhkim003-seoul-national-university/reservoir/runs/g4p81e8c</a><br/> View project at: <a href='https://wandb.ai/bhkim003-seoul-national-university/reservoir' target=\"_blank\">https://wandb.ai/bhkim003-seoul-national-university/reservoir</a><br/>Synced 7 W&B file(s), 0 media file(s), 31 artifact file(s) and 1 other file(s)"
      ],
      "text/plain": [
       "<IPython.core.display.HTML object>"
      ]
     },
     "metadata": {},
     "output_type": "display_data"
    },
    {
     "data": {
      "text/html": [
       "Find logs at: <code>./wandb/run-20240726_121536-g4p81e8c/logs</code>"
      ],
      "text/plain": [
       "<IPython.core.display.HTML object>"
      ]
     },
     "metadata": {},
     "output_type": "display_data"
    },
    {
     "data": {
      "text/html": [
       "The new W&B backend becomes opt-out in version 0.18.0; try it out with `wandb.require(\"core\")`! See https://wandb.me/wandb-core for more information."
      ],
      "text/plain": [
       "<IPython.core.display.HTML object>"
      ]
     },
     "metadata": {},
     "output_type": "display_data"
    },
    {
     "name": "stderr",
     "output_type": "stream",
     "text": [
      "\u001b[34m\u001b[1mwandb\u001b[0m: Agent Starting Run: 6myu1vth with config:\n",
      "\u001b[34m\u001b[1mwandb\u001b[0m: \tEPOCH: 50\n",
      "\u001b[34m\u001b[1mwandb\u001b[0m: \tIMAGE_SIZE: 32\n",
      "\u001b[34m\u001b[1mwandb\u001b[0m: \tbatch_size: 128\n",
      "\u001b[34m\u001b[1mwandb\u001b[0m: \tdata_path: /data2\n",
      "\u001b[34m\u001b[1mwandb\u001b[0m: \tdecay: 0.45560296278768353\n",
      "\u001b[34m\u001b[1mwandb\u001b[0m: \tdvs_clipping: True\n",
      "\u001b[34m\u001b[1mwandb\u001b[0m: \tdvs_duration: 1000000\n",
      "\u001b[34m\u001b[1mwandb\u001b[0m: \tlearning_rate: 0.08138669827615244\n",
      "\u001b[34m\u001b[1mwandb\u001b[0m: \tno_reservoir: False\n",
      "\u001b[34m\u001b[1mwandb\u001b[0m: \tpre_spike_weight: 2.4980389278826305\n",
      "\u001b[34m\u001b[1mwandb\u001b[0m: \trate_coding: True\n",
      "\u001b[34m\u001b[1mwandb\u001b[0m: \ttime_step: 7\n",
      "\u001b[34m\u001b[1mwandb\u001b[0m: \twhich_data: DVS_GESTURE\n",
      "Failed to detect the name of this notebook, you can set it manually with the WANDB_NOTEBOOK_NAME environment variable to enable code saving.\n"
     ]
    },
    {
     "data": {
      "text/html": [
       "Tracking run with wandb version 0.17.5"
      ],
      "text/plain": [
       "<IPython.core.display.HTML object>"
      ]
     },
     "metadata": {},
     "output_type": "display_data"
    },
    {
     "data": {
      "text/html": [
       "Run data is saved locally in <code>/nfs/home/bhkim003/github_folder/ByeonghyeonKim/my_snn/wandb/run-20240726_122219-6myu1vth</code>"
      ],
      "text/plain": [
       "<IPython.core.display.HTML object>"
      ]
     },
     "metadata": {},
     "output_type": "display_data"
    },
    {
     "data": {
      "text/html": [
       "Syncing run <strong><a href='https://wandb.ai/bhkim003-seoul-national-university/reservoir/runs/6myu1vth' target=\"_blank\">eager-sweep-112</a></strong> to <a href='https://wandb.ai/bhkim003-seoul-national-university/reservoir' target=\"_blank\">Weights & Biases</a> (<a href='https://wandb.me/run' target=\"_blank\">docs</a>)<br/>Sweep page: <a href='https://wandb.ai/bhkim003-seoul-national-university/reservoir/sweeps/0j0aowy8' target=\"_blank\">https://wandb.ai/bhkim003-seoul-national-university/reservoir/sweeps/0j0aowy8</a>"
      ],
      "text/plain": [
       "<IPython.core.display.HTML object>"
      ]
     },
     "metadata": {},
     "output_type": "display_data"
    },
    {
     "data": {
      "text/html": [
       " View project at <a href='https://wandb.ai/bhkim003-seoul-national-university/reservoir' target=\"_blank\">https://wandb.ai/bhkim003-seoul-national-university/reservoir</a>"
      ],
      "text/plain": [
       "<IPython.core.display.HTML object>"
      ]
     },
     "metadata": {},
     "output_type": "display_data"
    },
    {
     "data": {
      "text/html": [
       " View sweep at <a href='https://wandb.ai/bhkim003-seoul-national-university/reservoir/sweeps/0j0aowy8' target=\"_blank\">https://wandb.ai/bhkim003-seoul-national-university/reservoir/sweeps/0j0aowy8</a>"
      ],
      "text/plain": [
       "<IPython.core.display.HTML object>"
      ]
     },
     "metadata": {},
     "output_type": "display_data"
    },
    {
     "data": {
      "text/html": [
       " View run at <a href='https://wandb.ai/bhkim003-seoul-national-university/reservoir/runs/6myu1vth' target=\"_blank\">https://wandb.ai/bhkim003-seoul-national-university/reservoir/runs/6myu1vth</a>"
      ],
      "text/plain": [
       "<IPython.core.display.HTML object>"
      ]
     },
     "metadata": {},
     "output_type": "display_data"
    },
    {
     "name": "stderr",
     "output_type": "stream",
     "text": [
      "\u001b[34m\u001b[1mwandb\u001b[0m: \u001b[33mWARNING\u001b[0m Config item 'data_path' was locked by 'sweep' (ignored update).\n",
      "\u001b[34m\u001b[1mwandb\u001b[0m: \u001b[33mWARNING\u001b[0m Config item 'which_data' was locked by 'sweep' (ignored update).\n",
      "\u001b[34m\u001b[1mwandb\u001b[0m: \u001b[33mWARNING\u001b[0m Config item 'learning_rate' was locked by 'sweep' (ignored update).\n",
      "\u001b[34m\u001b[1mwandb\u001b[0m: \u001b[33mWARNING\u001b[0m Config item 'IMAGE_SIZE' was locked by 'sweep' (ignored update).\n",
      "\u001b[34m\u001b[1mwandb\u001b[0m: \u001b[33mWARNING\u001b[0m Config item 'EPOCH' was locked by 'sweep' (ignored update).\n",
      "\u001b[34m\u001b[1mwandb\u001b[0m: \u001b[33mWARNING\u001b[0m Config item 'rate_coding' was locked by 'sweep' (ignored update).\n",
      "\u001b[34m\u001b[1mwandb\u001b[0m: \u001b[33mWARNING\u001b[0m Config item 'pre_spike_weight' was locked by 'sweep' (ignored update).\n",
      "\u001b[34m\u001b[1mwandb\u001b[0m: \u001b[33mWARNING\u001b[0m Config item 'dvs_duration' was locked by 'sweep' (ignored update).\n",
      "\u001b[34m\u001b[1mwandb\u001b[0m: \u001b[33mWARNING\u001b[0m Config item 'dvs_clipping' was locked by 'sweep' (ignored update).\n",
      "\u001b[34m\u001b[1mwandb\u001b[0m: \u001b[33mWARNING\u001b[0m Config item 'no_reservoir' was locked by 'sweep' (ignored update).\n"
     ]
    },
    {
     "name": "stdout",
     "output_type": "stream",
     "text": [
      "The directory [/data2/gesture/duration_1000000] already exists.\n",
      "The directory [/data2/gesture/duration_1000000] already exists.\n",
      "RESERVOIR_NET(\n",
      "  (reservoir): RESERVOIR(\n",
      "    (conv_depthwise): Conv2d(2, 2, kernel_size=(3, 3), stride=(1, 1), padding=(1, 1), groups=2)\n",
      "  )\n",
      "  (linear): Linear(in_features=2048, out_features=10, bias=True)\n",
      ")\n",
      "Epoch 1\n",
      "Train Accuracy: 15.96%\n",
      "Test loss: 14.499, Accuracy: 45.08%\n",
      "Epoch 2\n",
      "Train Accuracy: 34.42%\n",
      "Test loss: 4.472, Accuracy: 32.95%\n",
      "Epoch 3\n",
      "Train Accuracy: 42.58%\n",
      "Test loss: 5.095, Accuracy: 48.11%\n",
      "Epoch 4\n",
      "Train Accuracy: 57.79%\n",
      "Test loss: 2.728, Accuracy: 55.68%\n",
      "Epoch 5\n",
      "Train Accuracy: 63.27%\n",
      "Test loss: 3.005, Accuracy: 51.52%\n",
      "Epoch 6\n",
      "Train Accuracy: 67.16%\n",
      "Test loss: 1.744, Accuracy: 52.27%\n",
      "Epoch 7\n",
      "Train Accuracy: 70.41%\n",
      "Test loss: 2.351, Accuracy: 52.27%\n",
      "Epoch 8\n",
      "Train Accuracy: 78.01%\n",
      "Test loss: 2.136, Accuracy: 62.88%\n",
      "Epoch 9\n",
      "Train Accuracy: 83.30%\n",
      "Test loss: 2.172, Accuracy: 58.33%\n",
      "Epoch 10\n",
      "Train Accuracy: 82.93%\n",
      "Test loss: 1.675, Accuracy: 63.26%\n",
      "Epoch 11\n",
      "Train Accuracy: 87.57%\n",
      "Test loss: 1.542, Accuracy: 61.36%\n",
      "Epoch 12\n",
      "Train Accuracy: 86.36%\n",
      "Test loss: 1.914, Accuracy: 64.02%\n",
      "Epoch 13\n",
      "Train Accuracy: 89.61%\n",
      "Test loss: 1.720, Accuracy: 63.26%\n",
      "Epoch 14\n",
      "Train Accuracy: 94.06%\n",
      "Test loss: 1.576, Accuracy: 66.29%\n",
      "Epoch 15\n",
      "Train Accuracy: 97.77%\n",
      "Test loss: 1.490, Accuracy: 63.26%\n",
      "Epoch 16\n",
      "Train Accuracy: 93.32%\n",
      "Test loss: 1.620, Accuracy: 64.77%\n",
      "Epoch 17\n",
      "Train Accuracy: 97.59%\n",
      "Test loss: 1.672, Accuracy: 61.74%\n",
      "Epoch 18\n",
      "Train Accuracy: 97.68%\n",
      "Test loss: 2.030, Accuracy: 64.77%\n",
      "Epoch 19\n",
      "Train Accuracy: 98.14%\n",
      "Test loss: 2.090, Accuracy: 64.02%\n",
      "Epoch 20\n",
      "Train Accuracy: 98.79%\n",
      "Test loss: 1.922, Accuracy: 65.53%\n",
      "Epoch 21\n",
      "Train Accuracy: 99.63%\n",
      "Test loss: 1.828, Accuracy: 65.53%\n",
      "Epoch 22\n",
      "Train Accuracy: 99.26%\n",
      "Test loss: 1.913, Accuracy: 65.15%\n",
      "Epoch 23\n",
      "Train Accuracy: 99.35%\n",
      "Test loss: 1.972, Accuracy: 64.39%\n",
      "Epoch 24\n",
      "Train Accuracy: 99.72%\n",
      "Test loss: 1.768, Accuracy: 64.02%\n",
      "Epoch 25\n",
      "Train Accuracy: 100.00%\n",
      "Test loss: 1.951, Accuracy: 65.53%\n",
      "Epoch 26\n",
      "Train Accuracy: 100.00%\n",
      "Test loss: 1.837, Accuracy: 64.39%\n",
      "Epoch 27\n",
      "Train Accuracy: 99.91%\n",
      "Test loss: 1.973, Accuracy: 64.77%\n",
      "Epoch 28\n",
      "Train Accuracy: 99.35%\n",
      "Test loss: 2.004, Accuracy: 64.77%\n",
      "Epoch 29\n",
      "Train Accuracy: 100.00%\n",
      "Test loss: 2.019, Accuracy: 65.91%\n",
      "Epoch 30\n",
      "Train Accuracy: 100.00%\n",
      "Test loss: 2.038, Accuracy: 65.53%\n",
      "Epoch 31\n",
      "Train Accuracy: 99.91%\n",
      "Test loss: 1.955, Accuracy: 64.39%\n",
      "Epoch 32\n",
      "Train Accuracy: 99.91%\n",
      "Test loss: 1.830, Accuracy: 64.02%\n",
      "Epoch 33\n",
      "Train Accuracy: 100.00%\n",
      "Test loss: 1.805, Accuracy: 64.02%\n",
      "Epoch 34\n",
      "Train Accuracy: 100.00%\n",
      "Test loss: 1.920, Accuracy: 64.77%\n",
      "Epoch 35\n",
      "Train Accuracy: 99.91%\n",
      "Test loss: 1.914, Accuracy: 64.02%\n",
      "Epoch 36\n",
      "Train Accuracy: 100.00%\n",
      "Test loss: 1.760, Accuracy: 62.88%\n",
      "Epoch 37\n",
      "Train Accuracy: 100.00%\n",
      "Test loss: 1.986, Accuracy: 62.50%\n",
      "Epoch 38\n",
      "Train Accuracy: 100.00%\n",
      "Test loss: 2.008, Accuracy: 65.53%\n",
      "Epoch 39\n",
      "Train Accuracy: 100.00%\n",
      "Test loss: 2.097, Accuracy: 62.50%\n",
      "Epoch 40\n",
      "Train Accuracy: 100.00%\n",
      "Test loss: 1.990, Accuracy: 65.15%\n",
      "Epoch 41\n",
      "Train Accuracy: 100.00%\n",
      "Test loss: 2.000, Accuracy: 64.77%\n",
      "Epoch 42\n",
      "Train Accuracy: 100.00%\n",
      "Test loss: 1.934, Accuracy: 63.64%\n",
      "Epoch 43\n",
      "Train Accuracy: 100.00%\n",
      "Test loss: 2.126, Accuracy: 64.02%\n",
      "Epoch 44\n",
      "Train Accuracy: 100.00%\n",
      "Test loss: 2.102, Accuracy: 65.53%\n",
      "Epoch 45\n"
     ]
    }
   ],
   "source": [
    "# sweep하고싶을 때\n",
    "def sweep_cover(data_path='/data2', which_data='CIFAR10', gpu = '3', learning_rate = 0.0001, BATCH=5, IMAGE_SIZE=28, TIME_STEP=8, EPOCH=3, rate_coding=True, v_decay= 0.6,\n",
    "v_threshold=1, v_reset=0, hard_reset=True, pre_spike_weight=1, dvs_duration=1000000, dvs_clipping=True, no_reservoir = False):\n",
    "    \n",
    "    wandb.init(save_code = True)\n",
    "\n",
    "    learning_rate  =  wandb.config.learning_rate\n",
    "    BATCH  =  wandb.config.batch_size\n",
    "    TIME_STEP  =  wandb.config.time_step\n",
    "    v_decay  =  wandb.config.decay\n",
    "    pre_spike_weight  =  wandb.config.pre_spike_weight\n",
    "    which_data  =  wandb.config.which_data\n",
    "    data_path  =  wandb.config.data_path\n",
    "    rate_coding  =  wandb.config.rate_coding\n",
    "    EPOCH  =  wandb.config.EPOCH\n",
    "    IMAGE_SIZE  =  wandb.config.IMAGE_SIZE\n",
    "    dvs_duration  =  wandb.config.dvs_duration\n",
    "    dvs_clipping  =  wandb.config.dvs_clipping\n",
    "    no_reservoir  =  wandb.config.no_reservoir\n",
    "    main(data_path=data_path, which_data=which_data, gpu = gpu, learning_rate = learning_rate, BATCH=BATCH, IMAGE_SIZE=IMAGE_SIZE, TIME_STEP=TIME_STEP, EPOCH=EPOCH, rate_coding=rate_coding, v_decay= v_decay,\n",
    "v_threshold=v_threshold, v_reset=v_reset, hard_reset=hard_reset, pre_spike_weight=pre_spike_weight, dvs_duration=dvs_duration, dvs_clipping=dvs_clipping, no_reservoir = no_reservoir)\n",
    "\n",
    "\n",
    "\n",
    "which_data_hyper = 'DVS_GESTURE' # 'MNIST', 'CIFAR10' ', 'FASHION_MNIST', 'DVS_GESTURE'\n",
    "data_path_hyper = '/data2'\n",
    "\n",
    "sweep_configuration = {\n",
    "    'method': 'bayes',\n",
    "    'name': which_data_hyper,\n",
    "    'metric': {'goal': 'maximize', 'name': 'val_accuracy'},\n",
    "    'parameters': \n",
    "    {\n",
    "        \"learning_rate\": {\"min\": 0.00001, \"max\": 0.1},\n",
    "        \"batch_size\": {\"values\": [16, 32, 64, 128, 256]},\n",
    "        \"time_step\": {\"values\": [4,5,6,7,8]},\n",
    "        \"decay\": {\"min\": 0.25, \"max\": 1.0},\n",
    "        \"pre_spike_weight\": {\"min\": 0.5, \"max\": 10.0},\n",
    "        \"which_data\": {\"values\": [which_data_hyper]},\n",
    "        \"data_path\": {\"values\": [data_path_hyper]},\n",
    "        \"rate_coding\": {\"values\": [True, False]},\n",
    "        \"EPOCH\": {\"values\": [50]},\n",
    "        \"IMAGE_SIZE\": {\"values\": [16,32,48,128]},\n",
    "        \"dvs_duration\": {\"values\": [1000000]},\n",
    "        \"dvs_clipping\": {\"values\": [True]},\n",
    "        \"no_reservoir\": {\"values\": [True, False]},\n",
    "     }\n",
    "}\n",
    "\n",
    "sweep_id = wandb.sweep(sweep=sweep_configuration, project=f'reservoir')\n",
    "wandb.agent('0j0aowy8', function=sweep_cover, count=10000)"
   ]
  },
  {
   "cell_type": "code",
   "execution_count": null,
   "metadata": {},
   "outputs": [],
   "source": [
    "# # SAVE하기\n",
    "\n",
    "# # Import\n",
    "# import wandb\n",
    "# # Save your model.\n",
    "# torch.save(model.state_dict(), 'save/to/path/model.pth')\n",
    "# # Save as artifact for version control.\n",
    "# run = wandb.init(project='your-project-name')\n",
    "# artifact = wandb.Artifact('model', type='model')\n",
    "# artifact.add_file('save/to/path/model.pth')\n",
    "# run.log_artifact(artifact)\n",
    "# run.finish()\n",
    "\n",
    "\n",
    "# # LOAD 하기\n",
    "\n",
    "# import wandb\n",
    "# run = wandb.init()\n",
    "\n",
    "\n",
    "# artifact = run.use_artifact('entity/your-project-name/model:v0', type='model')\n",
    "# artifact_dir = artifact.download()\n",
    "\n",
    "\n",
    "# run.finish()\n"
   ]
  }
 ],
 "metadata": {
  "kernelspec": {
   "display_name": "nfs",
   "language": "python",
   "name": "python3"
  },
  "language_info": {
   "codemirror_mode": {
    "name": "ipython",
    "version": 3
   },
   "file_extension": ".py",
   "mimetype": "text/x-python",
   "name": "python",
   "nbconvert_exporter": "python",
   "pygments_lexer": "ipython3",
   "version": "3.8.18"
  }
 },
 "nbformat": 4,
 "nbformat_minor": 2
}
