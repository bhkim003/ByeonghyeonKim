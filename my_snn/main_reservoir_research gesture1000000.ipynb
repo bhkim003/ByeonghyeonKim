{
 "cells": [
  {
   "cell_type": "code",
   "execution_count": 1,
   "metadata": {},
   "outputs": [],
   "source": [
    "# BATCH:256\n",
    "# batch_size:256\n",
    "# data_path:\"/data2\"\n",
    "# decay:0.7834769413661389\n",
    "# EPOCH:20\n",
    "# hard_reset:true\n",
    "# IMAGE_SIZE:32\n",
    "# learning_rate:0.007176761798504128\n",
    "# pre_spike_weight:5.165214142219577\n",
    "# rate_coding:true\n",
    "# TIME_STEP:9\n",
    "# time_step:9\n",
    "# v_decay:0.7834769413661389\n",
    "# v_reset:0\n",
    "# v_threshold:1\n",
    "# which_data:\"CIFAR10\"\n",
    "\n",
    "\n",
    "# BATCH:256\n",
    "# batch_size:256\n",
    "# data_path:\"/data2\"\n",
    "# decay:0.38993471232202725\n",
    "# EPOCH:20\n",
    "# hard_reset:true\n",
    "# IMAGE_SIZE:28\n",
    "# learning_rate:0.06285718352377828\n",
    "# pre_spike_weight:6.21970124592063\n",
    "# rate_coding:true\n",
    "# TIME_STEP:16\n",
    "# time_step:16\n",
    "# v_decay:0.38993471232202725\n",
    "# v_reset:0\n",
    "# v_threshold:1\n",
    "# which_data:\"MNIST\"\n",
    "\n",
    "# BATCH:64\n",
    "# batch_size:64\n",
    "# data_path:\"/data2\"\n",
    "# decay:0.9266077968579136\n",
    "# EPOCH:20\n",
    "# hard_reset:true\n",
    "# IMAGE_SIZE:28\n",
    "# learning_rate:0.07732456724854177\n",
    "# pre_spike_weight:1.5377416716615555\n",
    "# rate_coding:true\n",
    "# TIME_STEP:7\n",
    "# time_step:7\n",
    "# v_decay:0.9266077968579136\n",
    "# v_reset:0\n",
    "# v_threshold:1\n",
    "# which_data:\"FASHION_MNIST\""
   ]
  },
  {
   "cell_type": "code",
   "execution_count": 2,
   "metadata": {},
   "outputs": [],
   "source": [
    "# Copyright (c) 2024 Byeonghyeon Kim \n",
    "# github site: https://github.com/bhkim003/ByeonghyeonKim\n",
    "# email: bhkim003@snu.ac.kr\n",
    " \n",
    "# Permission is hereby granted, free of charge, to any person obtaining a copy of\n",
    "# this software and associated documentation files (the \"Software\"), to deal in\n",
    "# the Software without restriction, including without limitation the rights to\n",
    "# use, copy, modify, merge, publish, distribute, sublicense, and/or sell copies of\n",
    "# the Software, and to permit persons to whom the Software is furnished to do so,\n",
    "# subject to the following conditions:\n",
    " \n",
    "# The above copyright notice and this permission notice shall be included in all\n",
    "# copies or substantial portions of the Software.\n",
    " \n",
    "# THE SOFTWARE IS PROVIDED \"AS IS\", WITHOUT WARRANTY OF ANY KIND, EXPRESS OR\n",
    "# IMPLIED, INCLUDING BUT NOT LIMITED TO THE WARRANTIES OF MERCHANTABILITY, FITNESS\n",
    "# FOR A PARTICULAR PURPOSE AND NONINFRINGEMENT. IN NO EVENT SHALL THE AUTHORS OR\n",
    "# COPYRIGHT HOLDERS BE LIABLE FOR ANY CLAIM, DAMAGES OR OTHER LIABILITY, WHETHER\n",
    "# IN AN ACTION OF CONTRACT, TORT OR OTHERWISE, ARISING FROM, OUT OF OR IN\n",
    "# CONNECTION WITH THE SOFTWARE OR THE USE OR OTHER DEALINGS IN THE SOFTWARE.\n"
   ]
  },
  {
   "cell_type": "code",
   "execution_count": 3,
   "metadata": {},
   "outputs": [],
   "source": [
    "import sys\n",
    "import os\n",
    "import torch\n",
    "import torch.nn as nn\n",
    "import torch.nn.functional as F\n",
    "import torch.backends.cudnn as cudnn\n",
    "import torch.optim as optim\n",
    "import torch.optim.lr_scheduler as lr_scheduler\n",
    "from torch.utils.data import Dataset, DataLoader\n",
    "\n",
    "import torchvision\n",
    "import torchvision.datasets\n",
    "import torchvision.transforms as transforms\n",
    "\n",
    "import numpy as np\n",
    "import matplotlib.pyplot as plt\n",
    "\n",
    "\n",
    "from snntorch import spikegen\n",
    "\n",
    " \n",
    "import wandb"
   ]
  },
  {
   "cell_type": "code",
   "execution_count": 4,
   "metadata": {},
   "outputs": [
    {
     "data": {
      "image/png": "[encoded data removed]",
      "text/plain": [
       "<Figure size 800x600 with 2 Axes>"
      ]
     },
     "metadata": {},
     "output_type": "display_data"
    }
   ],
   "source": [
    "# my module import\n",
    "from modules import *"
   ]
  },
  {
   "cell_type": "code",
   "execution_count": 5,
   "metadata": {},
   "outputs": [],
   "source": [
    "    \n",
    "class RESERVOIR(nn.Module):\n",
    "    def __init__ (self, TIME_STEP=8, in_spike_size=28, in_channel=1, receptive_size=3, v_init=0, v_decay=0.6, v_threshold=1, v_reset=0, hard_reset=True, pre_spike_weight=1):\n",
    "        super(RESERVOIR, self).__init__()\n",
    "        self.TIME_STEP = TIME_STEP\n",
    "        self.in_spike_size = in_spike_size\n",
    "        self.in_channel = in_channel\n",
    "        self.receptive_size = receptive_size #3\n",
    "        self.v_init = v_init\n",
    "        self.v_decay = v_decay\n",
    "        self.v_threshold = v_threshold\n",
    "        self.v_reset = v_reset\n",
    "        self.hard_reset = hard_reset\n",
    "        self.pre_spike_weight = pre_spike_weight\n",
    "\n",
    "        self.out_channel = 1\n",
    "\n",
    "        # 파라미터 \n",
    "        self.conv_depthwise = nn.Conv2d(in_channels=self.in_channel, out_channels=self.in_channel, \n",
    "                                        kernel_size=self.receptive_size, \n",
    "                                        stride=1, padding=1, groups=self.in_channel)\n",
    "\n",
    "        # kaiming 초기화\n",
    "        nn.init.kaiming_normal_(self.conv_depthwise.weight, mode='fan_out', nonlinearity='relu')\n",
    "        nn.init.constant_(self.conv_depthwise.bias, 0)\n",
    "\n",
    "        # membrane potential 초기화\n",
    "        self.v = torch.full((self.in_channel, self.in_spike_size, self.in_spike_size), fill_value=self.v_init, requires_grad=False)\n",
    "\n",
    "        \n",
    "    def forward(self, pre_spike):    \n",
    "        # pre_spike [TIME_STEP, batch_size, in_channel, in_spike_size, in_spike_size]\n",
    "\n",
    "        v = torch.full_like(pre_spike[0], fill_value=self.v_init, requires_grad=False)\n",
    "        post_spike = torch.zeros_like(pre_spike[0], requires_grad=False)\n",
    "        # v [batch_size, in_channel, in_spike_size, in_spike_size]\n",
    "        # recurrent [batch_size, in_channel, in_spike_size, in_spike_size]\n",
    "\n",
    "        # timestep 안 맞으면 종료\n",
    "        assert pre_spike.size(0) == self.TIME_STEP, f\"Time step mismatch: {pre_spike.size(0)} vs {self.TIME_STEP}\"\n",
    "\n",
    "        output = []\n",
    "        for t in range (self.TIME_STEP):\n",
    "            # pre_spike[t] [batch_size, in_channel, in_spike_size, in_spike_size]\n",
    "            input_current = self.pre_spike_weight * pre_spike[t]\n",
    "            recurrent_current = self.conv_depthwise(post_spike)\n",
    "            current = input_current + recurrent_current\n",
    "            # current [batch_size, in_channel, in_spike_size, in_spike_size] # kernel size 3이니까 사이즈 유지\n",
    "            \n",
    "            # decay and itegrate\n",
    "            v = v*self.v_decay + current\n",
    "\n",
    "            # post spike\n",
    "            post_spike = (v >= self.v_threshold).float()\n",
    "\n",
    "            output.append(post_spike)\n",
    "            \n",
    "            #reset\n",
    "            if self.hard_reset: # hard reset\n",
    "                v = (1 - post_spike)*v + post_spike*self.v_reset \n",
    "            else: # soft reset\n",
    "                v = v - post_spike*self.v_threshold\n",
    "\n",
    "        output = torch.stack(output, dim=0)\n",
    "        return output"
   ]
  },
  {
   "cell_type": "code",
   "execution_count": 6,
   "metadata": {},
   "outputs": [],
   "source": [
    "class NO_RESERVOIR_NET(nn.Module):\n",
    "    def __init__(self, TIME_STEP=8, CLASS_NUM=10, in_spike_size=28, in_channel=1, receptive_size=3, v_init=0, v_decay=0.6, v_threshold=1, v_reset=0, hard_reset=True, pre_spike_weight=1):\n",
    "        super(NO_RESERVOIR_NET, self).__init__()\n",
    "        self.TIME_STEP = TIME_STEP\n",
    "        self.reservoir = RESERVOIR(TIME_STEP = self.TIME_STEP, in_spike_size=in_spike_size, in_channel=in_channel, receptive_size=receptive_size, v_init=v_init, v_decay=v_decay, v_threshold=v_threshold, v_reset=v_reset, hard_reset=hard_reset, pre_spike_weight=pre_spike_weight)\n",
    "        self.linear = nn.Linear(in_features=in_channel*in_spike_size*in_spike_size, out_features=CLASS_NUM)\n",
    "\n",
    "    def forward(self, x):\n",
    "        # x size [batch_size, TIME_STEP, in_channel, in_spike_size, in_spike_size]\n",
    "        x = x.permute(1,0,2,3,4)\n",
    "        # x size [TIME_STEP, batch_size, in_channel, in_spike_size, in_spike_size]\n",
    "\n",
    "        # with torch.no_grad():\n",
    "        #     x = self.reservoir(x) # reservoir weight는 학습 안함\n",
    "\n",
    "        T, B, *spatial_dims = x.shape\n",
    "        x = x.reshape(T * B, -1) # time,batch 축은 합쳐서 FC에 삽입\n",
    "\n",
    "        x = self.linear(x)\n",
    "\n",
    "        x = x.view(T , B, -1).contiguous() \n",
    "        \n",
    "        x = x.mean(dim=0)\n",
    "        return x"
   ]
  },
  {
   "cell_type": "code",
   "execution_count": 7,
   "metadata": {},
   "outputs": [],
   "source": [
    "class RESERVOIR_NET(nn.Module):\n",
    "    def __init__(self, TIME_STEP=8, CLASS_NUM=10, in_spike_size=28, in_channel=1, receptive_size=3, v_init=0, v_decay=0.6, v_threshold=1, v_reset=0, hard_reset=True, pre_spike_weight=1):\n",
    "        super(RESERVOIR_NET, self).__init__()\n",
    "        self.TIME_STEP = TIME_STEP\n",
    "        self.reservoir = RESERVOIR(TIME_STEP = self.TIME_STEP, in_spike_size=in_spike_size, in_channel=in_channel, receptive_size=receptive_size, v_init=v_init, v_decay=v_decay, v_threshold=v_threshold, v_reset=v_reset, hard_reset=hard_reset, pre_spike_weight=pre_spike_weight)\n",
    "        self.linear = nn.Linear(in_features=in_channel*in_spike_size*in_spike_size, out_features=CLASS_NUM)\n",
    "\n",
    "    def forward(self, x):\n",
    "        # x size [batch_size, TIME_STEP, in_channel, in_spike_size, in_spike_size]\n",
    "        x = x.permute(1,0,2,3,4)\n",
    "        # x size [TIME_STEP, batch_size, in_channel, in_spike_size, in_spike_size]\n",
    "\n",
    "        with torch.no_grad():\n",
    "            x = self.reservoir(x) # reservoir weight는 학습 안함\n",
    "\n",
    "        T, B, *spatial_dims = x.shape\n",
    "        x = x.reshape(T * B, -1) # time,batch 축은 합쳐서 FC에 삽입\n",
    "\n",
    "        x = self.linear(x)\n",
    "\n",
    "        x = x.view(T , B, -1).contiguous() \n",
    "        \n",
    "        x = x.mean(dim=0)\n",
    "        return x"
   ]
  },
  {
   "cell_type": "code",
   "execution_count": 8,
   "metadata": {},
   "outputs": [],
   "source": [
    "def data_loader(which_data, data_path, rate_coding, BATCH, IMAGE_SIZE, TIME, dvs_duration, dvs_clipping):\n",
    "    if which_data == 'MNIST':\n",
    "        if rate_coding :\n",
    "            transform = transforms.Compose([transforms.Resize((IMAGE_SIZE, IMAGE_SIZE)),\n",
    "                                        transforms.ToTensor(),\n",
    "                                        transforms.Normalize((0,), (1,))])\n",
    "        else : \n",
    "            transform = transforms.Compose([transforms.Resize((IMAGE_SIZE, IMAGE_SIZE)),\n",
    "                                    transforms.ToTensor(),\n",
    "                                    transforms.Normalize((0.5,),(0.5))])\n",
    "\n",
    "        trainset = torchvision.datasets.MNIST(root=data_path,\n",
    "                                            train=True,\n",
    "                                            download=True,\n",
    "                                            transform=transform)\n",
    "\n",
    "\n",
    "        testset = torchvision.datasets.MNIST(root=data_path,\n",
    "                                            train=False,\n",
    "                                            download=True,\n",
    "                                            transform=transform)\n",
    "\n",
    "        train_loader = DataLoader(trainset,\n",
    "                                batch_size =BATCH,\n",
    "                                shuffle = True,\n",
    "                                num_workers =2)\n",
    "        test_loader = DataLoader(testset,\n",
    "                                batch_size =BATCH,\n",
    "                                shuffle = False,\n",
    "                                num_workers =2)\n",
    "        synapse_conv_in_channels = 1\n",
    "        CLASS_NUM = 10\n",
    "\n",
    "\n",
    "    \n",
    "\n",
    "    elif (which_data == 'CIFAR10'):\n",
    "\n",
    "        if rate_coding :\n",
    "            # transform_train = transforms.Compose([transforms.Resize((IMAGE_SIZE, IMAGE_SIZE)),\n",
    "            #                                     transforms.RandomHorizontalFlip(),\n",
    "            #                                     transforms.ToTensor()])\n",
    "\n",
    "            # transform_test = transforms.Compose([transforms.Resize((IMAGE_SIZE, IMAGE_SIZE)),\n",
    "            #                                     transforms.ToTensor()])\n",
    "            \n",
    "            transform_train = transforms.Compose([transforms.Resize((IMAGE_SIZE, IMAGE_SIZE)),\n",
    "                                                transforms.RandomHorizontalFlip(),\n",
    "                                                transforms.ToTensor()])\n",
    "                                            # transforms.Normalize((0.4914, 0.4822, 0.4465), (0.2023, 0.1994, 0.2010))\n",
    "\n",
    "            transform_test = transforms.Compose([transforms.Resize((IMAGE_SIZE, IMAGE_SIZE)),\n",
    "                                                transforms.ToTensor()])\n",
    "        \n",
    "        else :\n",
    "            # transform_train = transforms.Compose([transforms.Resize((IMAGE_SIZE, IMAGE_SIZE)),\n",
    "            #                                     transforms.RandomHorizontalFlip(),\n",
    "            #                                     transforms.ToTensor(),\n",
    "            #                                     transforms.Normalize((0.4914, 0.4822, 0.4465), (0.247, 0.243, 0.261))])\n",
    "            #                                 # transforms.Normalize((0.4914, 0.4822, 0.4465), (0.2023, 0.1994, 0.2010))\n",
    "\n",
    "            # transform_test = transforms.Compose([transforms.Resize((IMAGE_SIZE, IMAGE_SIZE)),\n",
    "            #                                     transforms.ToTensor(),\n",
    "            #                                     transforms.Normalize((0.4914, 0.4822, 0.4465), (0.247, 0.243, 0.261)),])\n",
    "            #                                 # transforms.Normalize((0.4914, 0.4822, 0.4465), (0.2023, 0.1994, 0.2010))\n",
    "            \n",
    "            # assert IMAGE_SIZE == 32, 'OTTT랑 맞짱뜰 때는 32로 ㄱ'\n",
    "            transform_train = transforms.Compose([\n",
    "                transforms.RandomCrop(IMAGE_SIZE, padding=4),\n",
    "                transforms.RandomHorizontalFlip(),\n",
    "                transforms.ToTensor(),\n",
    "                transforms.Normalize((0.4914, 0.4822, 0.4465),\n",
    "                                    (0.2023, 0.1994, 0.2010)),\n",
    "            ])\n",
    "            transform_test = transforms.Compose([\n",
    "                transforms.ToTensor(),\n",
    "                transforms.Normalize((0.4914, 0.4822, 0.4465),\n",
    "                                    (0.2023, 0.1994, 0.2010)),\n",
    "            ])\n",
    "\n",
    "        trainset = torchvision.datasets.CIFAR10(root=data_path,\n",
    "                                            train=True,\n",
    "                                            download=True,\n",
    "                                            transform=transform_train)\n",
    "\n",
    "\n",
    "        testset = torchvision.datasets.CIFAR10(root=data_path,\n",
    "                                            train=False,\n",
    "                                            download=True,\n",
    "                                            transform=transform_test)\n",
    "        \n",
    "        \n",
    "        train_loader = DataLoader(trainset,\n",
    "                                batch_size =BATCH,\n",
    "                                shuffle = True,\n",
    "                                num_workers =2)\n",
    "        test_loader = DataLoader(testset,\n",
    "                                batch_size =BATCH,\n",
    "                                shuffle = False,\n",
    "                                num_workers =2)\n",
    "        \n",
    "        synapse_conv_in_channels = 3\n",
    "        CLASS_NUM = 10\n",
    "        '''\n",
    "        classes = ('plane', 'car', 'bird', 'cat', 'deer',\n",
    "                'dog', 'frog', 'horse', 'ship', 'truck') \n",
    "        '''\n",
    "\n",
    "\n",
    "    elif (which_data == 'FASHION_MNIST'):\n",
    "\n",
    "        if rate_coding :\n",
    "            transform = transforms.Compose([transforms.Resize((IMAGE_SIZE, IMAGE_SIZE)),\n",
    "                                    transforms.ToTensor()])\n",
    "        else : \n",
    "            transform = transforms.Compose([transforms.Resize((IMAGE_SIZE, IMAGE_SIZE)),\n",
    "                                    transforms.ToTensor(),\n",
    "                                    transforms.Normalize((0.5,),(0.5))])\n",
    "\n",
    "        trainset = torchvision.datasets.FashionMNIST(root=data_path,\n",
    "                                            train=True,\n",
    "                                            download=True,\n",
    "                                            transform=transform)\n",
    "\n",
    "\n",
    "        testset = torchvision.datasets.FashionMNIST(root=data_path,\n",
    "                                            train=False,\n",
    "                                            download=True,\n",
    "                                            transform=transform)\n",
    "\n",
    "        train_loader = DataLoader(trainset,\n",
    "                                batch_size =BATCH,\n",
    "                                shuffle = True,\n",
    "                                num_workers =2)\n",
    "        test_loader = DataLoader(testset,\n",
    "                                batch_size =BATCH,\n",
    "                                shuffle = False,\n",
    "                                num_workers =2)\n",
    "        synapse_conv_in_channels = 1\n",
    "        CLASS_NUM = 10\n",
    "    elif (which_data == 'DVS_GESTURE'):\n",
    "        data_dir = data_path + '/gesture'\n",
    "        transform = None\n",
    "\n",
    "        # # spikingjelly.datasets.dvs128_gesture.DVS128Gesture(root: str, train: bool, use_frame=True, frames_num=10, split_by='number', normalization='max')\n",
    "       \n",
    "        #https://spikingjelly.readthedocs.io/zh-cn/latest/activation_based_en/neuromorphic_datasets.html\n",
    "        # 10ms마다 1개의 timestep하고 싶으면 위의 주소 참고. 근데 timestep이 각각 좀 다를 거임.\n",
    "\n",
    "        \n",
    "        if dvs_duration > 0:\n",
    "            resize_shape = (IMAGE_SIZE, IMAGE_SIZE)\n",
    "            train_data = CustomDVS128Gesture(\n",
    "                data_dir, train=True, data_type='frame',  split_by='time',  duration=dvs_duration, resize_shape=resize_shape, dvs_clipping=dvs_clipping, dvs_duration_copy=dvs_duration, TIME=TIME)\n",
    "            test_data = CustomDVS128Gesture(\n",
    "                data_dir, train=False, data_type='frame',  split_by='time',  duration=dvs_duration, resize_shape=resize_shape, dvs_clipping=dvs_clipping, dvs_duration_copy=dvs_duration, TIME=TIME)\n",
    "\n",
    "        else:\n",
    "            train_data = CustomDVS128Gesture(\n",
    "                data_dir, train=True, data_type='frame', split_by='number', frames_number=TIME, resize_shape=resize_shape, dvs_clipping=dvs_clipping, dvs_duration_copy=dvs_duration, TIME=TIME)\n",
    "            test_data = CustomDVS128Gesture(data_dir, train=False,\n",
    "                                            data_type='frame', split_by='number', frames_number=TIME, resize_shape=resize_shape, dvs_clipping=dvs_clipping, dvs_duration_copy=dvs_duration, TIME=TIME)\n",
    "        \n",
    "        exclude_class = 10\n",
    "        train_indices = [i for i, (_, target) in enumerate(train_data) if target != exclude_class]\n",
    "        test_indices = [i for i, (_, target) in enumerate(test_data) if target != exclude_class]\n",
    "    \n",
    "        # SubsetRandomSampler 생성\n",
    "        train_sampler = SubsetRandomSampler(train_indices)\n",
    "        test_sampler = SequentialSampler(test_indices)\n",
    "\n",
    "        # ([B, T, 2, 128, 128]) \n",
    "        train_loader = torch.utils.data.DataLoader(dataset=train_data, batch_size=BATCH, num_workers=2, sampler=train_sampler, collate_fn=pad_sequence_collate)\n",
    "        test_loader = torch.utils.data.DataLoader(dataset=test_data, batch_size=BATCH, num_workers=2, sampler=test_sampler, collate_fn=pad_sequence_collate)\n",
    "        synapse_conv_in_channels = 2\n",
    "        CLASS_NUM = 10\n",
    "        # mapping = { 0 :'Hand Clapping'  1 :'Right Hand Wave'2 :'Left Hand Wave' 3 :'Right Arm CW'   4 :'Right Arm CCW'  5 :'Left Arm CW'    6 :'Left Arm CCW'   7 :'Arm Roll'       8 :'Air Drums'      9 :'Air Guitar'     10:'Other'}\n",
    "\n",
    "\n",
    "    else:\n",
    "        assert False, 'wrong dataset name'\n",
    "\n",
    "\n",
    "    \n",
    "    return train_loader, test_loader, synapse_conv_in_channels, CLASS_NUM"
   ]
  },
  {
   "cell_type": "code",
   "execution_count": 9,
   "metadata": {},
   "outputs": [],
   "source": [
    "def train(model, train_loader, criterion, optimizer, device, rate_coding, TIME_STEP, which_data):\n",
    "    model.train()\n",
    "    running_loss = 0.0\n",
    "    correct = 0\n",
    "    total = 0\n",
    "    iterator = enumerate(train_loader, 0)\n",
    "    for i, data in iterator:\n",
    "    # for i, (inputs, labels) in enumerate(train_loader):\n",
    "        if len(data) == 2:\n",
    "            inputs, labels = data\n",
    "            # 처리 로직 작성\n",
    "        elif len(data) == 3:\n",
    "            inputs, labels, x_len = data\n",
    "\n",
    "        inputs, labels = inputs.to(device), labels.to(device)\n",
    "\n",
    "        # if rate_coding == True:\n",
    "        #     inputs = spikegen.rate(inputs, num_steps=TIME_STEP)\n",
    "        # else:\n",
    "        #     inputs = inputs.repeat(TIME_STEP, 1, 1, 1, 1)\n",
    "        \n",
    "\n",
    "        ###########################################################################################################################        \n",
    "        if (which_data == 'n_tidigits'):\n",
    "            inputs = inputs.permute(0, 1, 3, 2, 4)\n",
    "            labels = labels[:, 0, :]\n",
    "            labels = torch.argmax(labels, dim=1)\n",
    "        elif (which_data == 'heidelberg'):\n",
    "            inputs = inputs.view(5, 1000, 1, 700, 1)\n",
    "            print(\"\\n\\n\\n경고!!!! heidelberg 이거 타임스텝이랑 채널 잘 바꿔줘라!!!\\n\\n\\n\\n\")\n",
    "        # print('inputs',inputs.size(),'\\nlabels',labels.size())\n",
    "        # print(labels)\n",
    "            \n",
    "        if (which_data == 'DVS_CIFAR10' or which_data == 'DVS_GESTURE' or which_data == 'DVS_CIFAR10_2' or which_data == 'NMNIST' or which_data == 'N_CALTECH101' or which_data == 'n_tidigits' or which_data == 'heidelberg'):\n",
    "            inputs = inputs.permute(1, 0, 2, 3, 4)\n",
    "        elif rate_coding == True :\n",
    "            inputs = spikegen.rate(inputs, num_steps=TIME_STEP)\n",
    "        else :\n",
    "            inputs = inputs.repeat(TIME_STEP, 1, 1, 1, 1)\n",
    "        # inputs: [Time, Batch, Channel, Height, Width]  \n",
    "        ####################################################################################################################### \n",
    "\n",
    "        \n",
    "        \n",
    "        \n",
    "        \n",
    "        inputs = inputs.permute(1, 0, 2, 3, 4)\n",
    "        optimizer.zero_grad()\n",
    "        outputs = model(inputs)\n",
    "        loss = criterion(outputs, labels)\n",
    "        loss.backward()\n",
    "        optimizer.step()\n",
    "        running_loss += loss.item()\n",
    "        _, predicted = torch.max(outputs.data, 1)\n",
    "        total += labels.size(0)\n",
    "        iter_correct = (predicted == labels).sum().item()\n",
    "        correct += iter_correct\n",
    "        # if i % 100 == 99:\n",
    "        # print(f\"[{i+1}] loss: {running_loss / 100:.3f}\")\n",
    "        # running_loss = 0.0\n",
    "        iter_accuracy = 100 * iter_correct / labels.size(0)\n",
    "        wandb.log({\"iter_accuracy\": iter_accuracy})\n",
    "    tr_accuracy = 100 * correct / total         \n",
    "    wandb.log({\"tr_accuracy\": tr_accuracy})\n",
    "    print(f\"Train Accuracy: {tr_accuracy:.2f}%\")\n",
    "    \n",
    "def test(model, test_loader, criterion, device, rate_coding, TIME_STEP, which_data):\n",
    "    model.eval()\n",
    "    correct = 0\n",
    "    total = 0\n",
    "    test_loss = 0.0\n",
    "    iterator = enumerate(test_loader, 0)\n",
    "    with torch.no_grad():\n",
    "        for i, data in iterator:\n",
    "        # for inputs, labels in test_loader:\n",
    "            if len(data) == 2:\n",
    "                inputs, labels = data\n",
    "                # 처리 로직 작성\n",
    "            elif len(data) == 3:\n",
    "                inputs, labels, x_len = data\n",
    "                \n",
    "            inputs, labels = inputs.to(device), labels.to(device)\n",
    "\n",
    "            # if rate_coding == True:\n",
    "            #     inputs = spikegen.rate(inputs, num_steps=TIME_STEP)\n",
    "            # else:\n",
    "            #     inputs = inputs.repeat(TIME_STEP, 1, 1, 1, 1)\n",
    "\n",
    "        \n",
    "\n",
    "            ###########################################################################################################################        \n",
    "            if (which_data == 'n_tidigits'):\n",
    "                inputs = inputs.permute(0, 1, 3, 2, 4)\n",
    "                labels = labels[:, 0, :]\n",
    "                labels = torch.argmax(labels, dim=1)\n",
    "            elif (which_data == 'heidelberg'):\n",
    "                inputs = inputs.view(5, 1000, 1, 700, 1)\n",
    "                print(\"\\n\\n\\n경고!!!! heidelberg 이거 타임스텝이랑 채널 잘 바꿔줘라!!!\\n\\n\\n\\n\")\n",
    "            # print('inputs',inputs.size(),'\\nlabels',labels.size())\n",
    "            # print(labels)\n",
    "                \n",
    "            if (which_data == 'DVS_CIFAR10' or which_data == 'DVS_GESTURE' or which_data == 'DVS_CIFAR10_2' or which_data == 'NMNIST' or which_data == 'N_CALTECH101' or which_data == 'n_tidigits' or which_data == 'heidelberg'):\n",
    "                inputs = inputs.permute(1, 0, 2, 3, 4)\n",
    "            elif rate_coding == True :\n",
    "                inputs = spikegen.rate(inputs, num_steps=TIME_STEP)\n",
    "            else :\n",
    "                inputs = inputs.repeat(TIME_STEP, 1, 1, 1, 1)\n",
    "            # inputs: [Time, Batch, Channel, Height, Width]  \n",
    "            ####################################################################################################################### \n",
    "\n",
    "        \n",
    "\n",
    "\n",
    "            inputs = inputs.permute(1, 0, 2, 3, 4)\n",
    "        \n",
    "            outputs = model(inputs)\n",
    "            loss = criterion(outputs, labels)\n",
    "            test_loss += loss.item()\n",
    "            _, predicted = torch.max(outputs.data, 1)\n",
    "            total += labels.size(0)\n",
    "            correct += (predicted == labels).sum().item()\n",
    "    val_accuracy = 100 * correct / total\n",
    "    wandb.log({\"val_accuracy\": val_accuracy})\n",
    "    print(f\"Test loss: {test_loss / len(test_loader):.3f}, Accuracy: {val_accuracy:.2f}%\")\n"
   ]
  },
  {
   "cell_type": "code",
   "execution_count": 10,
   "metadata": {},
   "outputs": [],
   "source": [
    "def main(data_path='/data2', which_data='MNIST', gpu = '3',learning_rate = 0.0001, BATCH=5, IMAGE_SIZE=28, TIME_STEP=8, EPOCH=10, rate_coding=True, v_decay= 0.6,\n",
    "v_threshold=1, v_reset=0, hard_reset=True, pre_spike_weight=1, dvs_duration=1000000, dvs_clipping=True, no_reservoir = False):\n",
    "    os.environ[\"CUDA_VISIBLE_DEVICES\"]= gpu\n",
    "    # run = wandb.init(project=f'reservoir')\n",
    "\n",
    "    hyperparameters = locals()\n",
    "\n",
    "    wandb.config.update(hyperparameters)\n",
    "    wandb.run.name = f'{which_data}_sweeprun_epoch{EPOCH}'\n",
    "    wandb.run.log_code(\".\", include_fn=lambda path: path.endswith(\".py\") or path.endswith(\".ipynb\"))\n",
    "\n",
    "    train_loader, test_loader, in_channel, CLASS_NUM = data_loader(\n",
    "        which_data=which_data, data_path=data_path, rate_coding=rate_coding, BATCH=BATCH, IMAGE_SIZE=IMAGE_SIZE, TIME=TIME_STEP, dvs_duration=dvs_duration, dvs_clipping=dvs_clipping)\n",
    "\n",
    "    device = torch.device('cuda' if torch.cuda.is_available() else 'cpu')\n",
    "    if no_reservoir == True:\n",
    "        net = NO_RESERVOIR_NET(TIME_STEP=TIME_STEP, CLASS_NUM=CLASS_NUM, in_spike_size=IMAGE_SIZE, in_channel=in_channel, receptive_size=3, v_init=0, v_decay=v_decay, v_threshold=v_threshold, v_reset=v_reset, hard_reset=hard_reset, pre_spike_weight=pre_spike_weight)\n",
    "    else:\n",
    "        net = RESERVOIR_NET(TIME_STEP=TIME_STEP, CLASS_NUM=CLASS_NUM, in_spike_size=IMAGE_SIZE, in_channel=in_channel, receptive_size=3, v_init=0, v_decay=v_decay, v_threshold=v_threshold, v_reset=v_reset, hard_reset=hard_reset, pre_spike_weight=pre_spike_weight)\n",
    "    net = net.to(device)\n",
    "    wandb.watch(net, log=\"all\", log_freq = 1) #gradient, parameter logging해줌\n",
    "\n",
    "    criterion = nn.CrossEntropyLoss()\n",
    "    # optimizer = optim.Adam(net.parameters(), lr=learning_rate)\n",
    "    optimizer = optim.SGD(net.parameters(), lr=learning_rate, momentum=0.9, weight_decay=0)\n",
    "\n",
    "    print(net)\n",
    "\n",
    "    for epoch in range(EPOCH):\n",
    "        print(f\"Epoch {epoch+1}\")\n",
    "        train(net, train_loader, criterion, optimizer, device, rate_coding, TIME_STEP, which_data)\n",
    "        test(net, test_loader, criterion, device, rate_coding, TIME_STEP, which_data)\n",
    "        # torch.save(net.state_dict(), 'net_save/reservoir_net.pth')\n",
    "        # artifact = wandb.Artifact('model', type='model')\n",
    "        # artifact.add_file('net_save/reservoir_net.pth')\n",
    "        # run.log_artifact(artifact)\n"
   ]
  },
  {
   "cell_type": "code",
   "execution_count": 11,
   "metadata": {},
   "outputs": [],
   "source": [
    "# # sweep 하기 싫을 때\n",
    "# wandb.init(project=f'reservoir')\n",
    "# main(data_path='/data2', which_data='CIFAR10', gpu = '3', learning_rate = 0.0072, BATCH=256, IMAGE_SIZE=32, TIME_STEP=9, EPOCH=50, rate_coding=True, v_decay= 0.78,\n",
    "# v_threshold=1, v_reset=0, hard_reset=True, pre_spike_weight=5.0, dvs_duration=1000000, dvs_clipping=True, no_reservoir = False)"
   ]
  },
  {
   "cell_type": "code",
   "execution_count": 12,
   "metadata": {},
   "outputs": [
    {
     "name": "stderr",
     "output_type": "stream",
     "text": [
      "Failed to detect the name of this notebook, you can set it manually with the WANDB_NOTEBOOK_NAME environment variable to enable code saving.\n"
     ]
    },
    {
     "name": "stdout",
     "output_type": "stream",
     "text": [
      "Create sweep with ID: 0j0aowy8\n",
      "Sweep URL: https://wandb.ai/bhkim003-seoul-national-university/reservoir/sweeps/0j0aowy8\n"
     ]
    },
    {
     "name": "stderr",
     "output_type": "stream",
     "text": [
      "\u001b[34m\u001b[1mwandb\u001b[0m: Agent Starting Run: zcsmk58c with config:\n",
      "\u001b[34m\u001b[1mwandb\u001b[0m: \tEPOCH: 50\n",
      "\u001b[34m\u001b[1mwandb\u001b[0m: \tIMAGE_SIZE: 32\n",
      "\u001b[34m\u001b[1mwandb\u001b[0m: \tbatch_size: 128\n",
      "\u001b[34m\u001b[1mwandb\u001b[0m: \tdata_path: /data2\n",
      "\u001b[34m\u001b[1mwandb\u001b[0m: \tdecay: 0.6266195342405995\n",
      "\u001b[34m\u001b[1mwandb\u001b[0m: \tdvs_clipping: True\n",
      "\u001b[34m\u001b[1mwandb\u001b[0m: \tdvs_duration: 1000000\n",
      "\u001b[34m\u001b[1mwandb\u001b[0m: \tlearning_rate: 0.012550985229680452\n",
      "\u001b[34m\u001b[1mwandb\u001b[0m: \tno_reservoir: False\n",
      "\u001b[34m\u001b[1mwandb\u001b[0m: \tpre_spike_weight: 7.801503080443608\n",
      "\u001b[34m\u001b[1mwandb\u001b[0m: \trate_coding: True\n",
      "\u001b[34m\u001b[1mwandb\u001b[0m: \ttime_step: 7\n",
      "\u001b[34m\u001b[1mwandb\u001b[0m: \twhich_data: DVS_GESTURE\n",
      "Failed to detect the name of this notebook, you can set it manually with the WANDB_NOTEBOOK_NAME environment variable to enable code saving.\n",
      "\u001b[34m\u001b[1mwandb\u001b[0m: Currently logged in as: \u001b[33mbhkim003\u001b[0m (\u001b[33mbhkim003-seoul-national-university\u001b[0m). Use \u001b[1m`wandb login --relogin`\u001b[0m to force relogin\n"
     ]
    },
    {
     "data": {
      "text/html": [
       "Tracking run with wandb version 0.17.5"
      ],
      "text/plain": [
       "<IPython.core.display.HTML object>"
      ]
     },
     "metadata": {},
     "output_type": "display_data"
    },
    {
     "data": {
      "text/html": [
       "Run data is saved locally in <code>/nfs/home/bhkim003/github_folder/ByeonghyeonKim/my_snn/wandb/run-20240725_214518-zcsmk58c</code>"
      ],
      "text/plain": [
       "<IPython.core.display.HTML object>"
      ]
     },
     "metadata": {},
     "output_type": "display_data"
    },
    {
     "data": {
      "text/html": [
       "Syncing run <strong><a href='https://wandb.ai/bhkim003-seoul-national-university/reservoir/runs/zcsmk58c' target=\"_blank\">visionary-sweep-1</a></strong> to <a href='https://wandb.ai/bhkim003-seoul-national-university/reservoir' target=\"_blank\">Weights & Biases</a> (<a href='https://wandb.me/run' target=\"_blank\">docs</a>)<br/>Sweep page: <a href='https://wandb.ai/bhkim003-seoul-national-university/reservoir/sweeps/0j0aowy8' target=\"_blank\">https://wandb.ai/bhkim003-seoul-national-university/reservoir/sweeps/0j0aowy8</a>"
      ],
      "text/plain": [
       "<IPython.core.display.HTML object>"
      ]
     },
     "metadata": {},
     "output_type": "display_data"
    },
    {
     "data": {
      "text/html": [
       " View project at <a href='https://wandb.ai/bhkim003-seoul-national-university/reservoir' target=\"_blank\">https://wandb.ai/bhkim003-seoul-national-university/reservoir</a>"
      ],
      "text/plain": [
       "<IPython.core.display.HTML object>"
      ]
     },
     "metadata": {},
     "output_type": "display_data"
    },
    {
     "data": {
      "text/html": [
       " View sweep at <a href='https://wandb.ai/bhkim003-seoul-national-university/reservoir/sweeps/0j0aowy8' target=\"_blank\">https://wandb.ai/bhkim003-seoul-national-university/reservoir/sweeps/0j0aowy8</a>"
      ],
      "text/plain": [
       "<IPython.core.display.HTML object>"
      ]
     },
     "metadata": {},
     "output_type": "display_data"
    },
    {
     "data": {
      "text/html": [
       " View run at <a href='https://wandb.ai/bhkim003-seoul-national-university/reservoir/runs/zcsmk58c' target=\"_blank\">https://wandb.ai/bhkim003-seoul-national-university/reservoir/runs/zcsmk58c</a>"
      ],
      "text/plain": [
       "<IPython.core.display.HTML object>"
      ]
     },
     "metadata": {},
     "output_type": "display_data"
    },
    {
     "name": "stderr",
     "output_type": "stream",
     "text": [
      "\u001b[34m\u001b[1mwandb\u001b[0m: \u001b[33mWARNING\u001b[0m Config item 'data_path' was locked by 'sweep' (ignored update).\n",
      "\u001b[34m\u001b[1mwandb\u001b[0m: \u001b[33mWARNING\u001b[0m Config item 'which_data' was locked by 'sweep' (ignored update).\n",
      "\u001b[34m\u001b[1mwandb\u001b[0m: \u001b[33mWARNING\u001b[0m Config item 'learning_rate' was locked by 'sweep' (ignored update).\n",
      "\u001b[34m\u001b[1mwandb\u001b[0m: \u001b[33mWARNING\u001b[0m Config item 'IMAGE_SIZE' was locked by 'sweep' (ignored update).\n",
      "\u001b[34m\u001b[1mwandb\u001b[0m: \u001b[33mWARNING\u001b[0m Config item 'EPOCH' was locked by 'sweep' (ignored update).\n",
      "\u001b[34m\u001b[1mwandb\u001b[0m: \u001b[33mWARNING\u001b[0m Config item 'rate_coding' was locked by 'sweep' (ignored update).\n",
      "\u001b[34m\u001b[1mwandb\u001b[0m: \u001b[33mWARNING\u001b[0m Config item 'pre_spike_weight' was locked by 'sweep' (ignored update).\n",
      "\u001b[34m\u001b[1mwandb\u001b[0m: \u001b[33mWARNING\u001b[0m Config item 'dvs_duration' was locked by 'sweep' (ignored update).\n",
      "\u001b[34m\u001b[1mwandb\u001b[0m: \u001b[33mWARNING\u001b[0m Config item 'dvs_clipping' was locked by 'sweep' (ignored update).\n",
      "\u001b[34m\u001b[1mwandb\u001b[0m: \u001b[33mWARNING\u001b[0m Config item 'no_reservoir' was locked by 'sweep' (ignored update).\n"
     ]
    },
    {
     "name": "stdout",
     "output_type": "stream",
     "text": [
      "The directory [/data2/gesture/duration_1000000] already exists.\n",
      "The directory [/data2/gesture/duration_1000000] already exists.\n",
      "RESERVOIR_NET(\n",
      "  (reservoir): RESERVOIR(\n",
      "    (conv_depthwise): Conv2d(2, 2, kernel_size=(3, 3), stride=(1, 1), padding=(1, 1), groups=2)\n",
      "  )\n",
      "  (linear): Linear(in_features=2048, out_features=10, bias=True)\n",
      ")\n",
      "Epoch 1\n",
      "Train Accuracy: 25.60%\n",
      "Test loss: 1.765, Accuracy: 37.88%\n",
      "Epoch 2\n",
      "Train Accuracy: 42.67%\n",
      "Test loss: 1.727, Accuracy: 52.27%\n",
      "Epoch 3\n",
      "Train Accuracy: 53.06%\n",
      "Test loss: 1.380, Accuracy: 52.27%\n",
      "Epoch 4\n",
      "Train Accuracy: 59.55%\n",
      "Test loss: 1.807, Accuracy: 48.86%\n",
      "Epoch 5\n",
      "Train Accuracy: 59.28%\n",
      "Test loss: 1.787, Accuracy: 52.65%\n",
      "Epoch 6\n",
      "Train Accuracy: 65.12%\n",
      "Test loss: 1.476, Accuracy: 59.09%\n",
      "Epoch 7\n",
      "Train Accuracy: 69.48%\n",
      "Test loss: 1.454, Accuracy: 63.64%\n",
      "Epoch 8\n",
      "Train Accuracy: 73.65%\n",
      "Test loss: 1.182, Accuracy: 65.53%\n",
      "Epoch 9\n",
      "Train Accuracy: 72.36%\n",
      "Test loss: 1.250, Accuracy: 60.61%\n",
      "Epoch 10\n",
      "Train Accuracy: 70.69%\n",
      "Test loss: 1.305, Accuracy: 56.82%\n",
      "Epoch 11\n",
      "Train Accuracy: 70.96%\n",
      "Test loss: 1.249, Accuracy: 58.71%\n",
      "Epoch 12\n",
      "Train Accuracy: 75.32%\n",
      "Test loss: 1.264, Accuracy: 62.12%\n",
      "Epoch 13\n",
      "Train Accuracy: 80.06%\n",
      "Test loss: 1.286, Accuracy: 62.12%\n",
      "Epoch 14\n",
      "Train Accuracy: 78.11%\n",
      "Test loss: 1.259, Accuracy: 62.88%\n",
      "Epoch 15\n",
      "Train Accuracy: 82.10%\n",
      "Test loss: 1.293, Accuracy: 64.77%\n",
      "Epoch 16\n",
      "Train Accuracy: 86.18%\n",
      "Test loss: 1.519, Accuracy: 64.39%\n",
      "Epoch 17\n",
      "Train Accuracy: 86.55%\n",
      "Test loss: 1.997, Accuracy: 65.15%\n",
      "Epoch 18\n",
      "Train Accuracy: 83.86%\n",
      "Test loss: 1.830, Accuracy: 65.15%\n",
      "Epoch 19\n",
      "Train Accuracy: 78.85%\n",
      "Test loss: 1.483, Accuracy: 64.77%\n",
      "Epoch 20\n",
      "Train Accuracy: 84.60%\n",
      "Test loss: 1.570, Accuracy: 60.98%\n",
      "Epoch 21\n",
      "Train Accuracy: 85.99%\n",
      "Test loss: 1.316, Accuracy: 62.88%\n",
      "Epoch 22\n",
      "Train Accuracy: 85.53%\n",
      "Test loss: 1.253, Accuracy: 67.42%\n",
      "Epoch 23\n",
      "Train Accuracy: 87.01%\n",
      "Test loss: 1.335, Accuracy: 65.15%\n",
      "Epoch 24\n",
      "Train Accuracy: 91.19%\n",
      "Test loss: 1.468, Accuracy: 61.36%\n",
      "Epoch 25\n",
      "Train Accuracy: 88.31%\n",
      "Test loss: 1.342, Accuracy: 63.64%\n",
      "Epoch 26\n",
      "Train Accuracy: 89.52%\n",
      "Test loss: 1.272, Accuracy: 67.80%\n",
      "Epoch 27\n",
      "Train Accuracy: 91.28%\n",
      "Test loss: 1.233, Accuracy: 64.02%\n",
      "Epoch 28\n",
      "Train Accuracy: 93.51%\n",
      "Test loss: 1.287, Accuracy: 62.88%\n",
      "Epoch 29\n",
      "Train Accuracy: 91.47%\n",
      "Test loss: 1.432, Accuracy: 65.91%\n",
      "Epoch 30\n",
      "Train Accuracy: 96.29%\n",
      "Test loss: 1.332, Accuracy: 63.26%\n",
      "Epoch 31\n",
      "Train Accuracy: 95.08%\n",
      "Test loss: 1.247, Accuracy: 66.29%\n",
      "Epoch 32\n",
      "Train Accuracy: 94.81%\n",
      "Test loss: 1.267, Accuracy: 67.42%\n",
      "Epoch 33\n",
      "Train Accuracy: 95.45%\n",
      "Test loss: 1.425, Accuracy: 65.53%\n",
      "Epoch 34\n",
      "Train Accuracy: 94.43%\n",
      "Test loss: 1.471, Accuracy: 65.53%\n",
      "Epoch 35\n",
      "Train Accuracy: 95.45%\n",
      "Test loss: 1.372, Accuracy: 65.53%\n",
      "Epoch 36\n",
      "Train Accuracy: 96.47%\n",
      "Test loss: 1.384, Accuracy: 69.70%\n",
      "Epoch 37\n",
      "Train Accuracy: 95.55%\n",
      "Test loss: 1.601, Accuracy: 65.15%\n",
      "Epoch 38\n",
      "Train Accuracy: 94.99%\n",
      "Test loss: 1.612, Accuracy: 62.50%\n",
      "Epoch 39\n",
      "Train Accuracy: 93.69%\n",
      "Test loss: 1.419, Accuracy: 64.39%\n",
      "Epoch 40\n",
      "Train Accuracy: 96.20%\n",
      "Test loss: 1.321, Accuracy: 65.91%\n",
      "Epoch 41\n",
      "Train Accuracy: 98.05%\n",
      "Test loss: 1.495, Accuracy: 64.77%\n",
      "Epoch 42\n",
      "Train Accuracy: 97.96%\n",
      "Test loss: 1.410, Accuracy: 65.53%\n",
      "Epoch 43\n",
      "Train Accuracy: 98.52%\n",
      "Test loss: 1.312, Accuracy: 70.08%\n",
      "Epoch 44\n",
      "Train Accuracy: 98.89%\n",
      "Test loss: 1.461, Accuracy: 63.64%\n",
      "Epoch 45\n",
      "Train Accuracy: 98.79%\n",
      "Test loss: 1.456, Accuracy: 68.56%\n",
      "Epoch 46\n",
      "Train Accuracy: 98.52%\n",
      "Test loss: 1.603, Accuracy: 67.05%\n",
      "Epoch 47\n",
      "Train Accuracy: 98.24%\n",
      "Test loss: 1.669, Accuracy: 66.29%\n",
      "Epoch 48\n",
      "Train Accuracy: 98.61%\n",
      "Test loss: 1.421, Accuracy: 68.18%\n",
      "Epoch 49\n",
      "Train Accuracy: 98.89%\n",
      "Test loss: 1.551, Accuracy: 66.29%\n",
      "Epoch 50\n",
      "Train Accuracy: 97.40%\n",
      "Test loss: 1.405, Accuracy: 68.94%\n"
     ]
    },
    {
     "data": {
      "application/vnd.jupyter.widget-view+json": {
       "model_id": "9a28514e96cf45c08a12c3d45e127036",
       "version_major": 2,
       "version_minor": 0
      },
      "text/plain": [
       "VBox(children=(Label(value='20.311 MB of 20.311 MB uploaded (19.813 MB deduped)\\r'), FloatProgress(value=1.0, …"
      ]
     },
     "metadata": {},
     "output_type": "display_data"
    },
    {
     "data": {
      "text/html": [
       "W&B sync reduced upload amount by 97.2%"
      ],
      "text/plain": [
       "<IPython.core.display.HTML object>"
      ]
     },
     "metadata": {},
     "output_type": "display_data"
    },
    {
     "data": {
      "text/html": [
       "<style>\n",
       "    table.wandb td:nth-child(1) { padding: 0 10px; text-align: left ; width: auto;} td:nth-child(2) {text-align: left ; width: 100%}\n",
       "    .wandb-row { display: flex; flex-direction: row; flex-wrap: wrap; justify-content: flex-start; width: 100% }\n",
       "    .wandb-col { display: flex; flex-direction: column; flex-basis: 100%; flex: 1; padding: 10px; }\n",
       "    </style>\n",
       "<div class=\"wandb-row\"><div class=\"wandb-col\"><h3>Run history:</h3><br/><table class=\"wandb\"><tr><td>iter_accuracy</td><td>▁▂▄▃▅▅▆▅▆▆▆▆▇▇▇▆▇▇▇▇▇▇█▇▇█▇██▇██████████</td></tr><tr><td>tr_accuracy</td><td>▁▃▄▄▅▅▆▅▅▆▆▆▇▇▇▆▇▇▇▇▇▇▇▇████████████████</td></tr><tr><td>val_accuracy</td><td>▁▄▄▃▆▇▇▆▆▆▆▆▇▇▇▇▆▇▇▆█▇▆▇▇▇▇▇█▇▆▇▇▇█▇▇▇██</td></tr></table><br/></div><div class=\"wandb-col\"><h3>Run summary:</h3><br/><table class=\"wandb\"><tr><td>iter_accuracy</td><td>96.2963</td></tr><tr><td>tr_accuracy</td><td>97.4026</td></tr><tr><td>val_accuracy</td><td>68.93939</td></tr></table><br/></div></div>"
      ],
      "text/plain": [
       "<IPython.core.display.HTML object>"
      ]
     },
     "metadata": {},
     "output_type": "display_data"
    },
    {
     "data": {
      "text/html": [
       " View run <strong style=\"color:#cdcd00\">visionary-sweep-1</strong> at: <a href='https://wandb.ai/bhkim003-seoul-national-university/reservoir/runs/zcsmk58c' target=\"_blank\">https://wandb.ai/bhkim003-seoul-national-university/reservoir/runs/zcsmk58c</a><br/> View project at: <a href='https://wandb.ai/bhkim003-seoul-national-university/reservoir' target=\"_blank\">https://wandb.ai/bhkim003-seoul-national-university/reservoir</a><br/>Synced 7 W&B file(s), 0 media file(s), 28 artifact file(s) and 1 other file(s)"
      ],
      "text/plain": [
       "<IPython.core.display.HTML object>"
      ]
     },
     "metadata": {},
     "output_type": "display_data"
    },
    {
     "data": {
      "text/html": [
       "Find logs at: <code>./wandb/run-20240725_214518-zcsmk58c/logs</code>"
      ],
      "text/plain": [
       "<IPython.core.display.HTML object>"
      ]
     },
     "metadata": {},
     "output_type": "display_data"
    },
    {
     "data": {
      "text/html": [
       "The new W&B backend becomes opt-out in version 0.18.0; try it out with `wandb.require(\"core\")`! See https://wandb.me/wandb-core for more information."
      ],
      "text/plain": [
       "<IPython.core.display.HTML object>"
      ]
     },
     "metadata": {},
     "output_type": "display_data"
    },
    {
     "name": "stderr",
     "output_type": "stream",
     "text": [
      "\u001b[34m\u001b[1mwandb\u001b[0m: Agent Starting Run: 1bgpkihw with config:\n",
      "\u001b[34m\u001b[1mwandb\u001b[0m: \tEPOCH: 50\n",
      "\u001b[34m\u001b[1mwandb\u001b[0m: \tIMAGE_SIZE: 48\n",
      "\u001b[34m\u001b[1mwandb\u001b[0m: \tbatch_size: 256\n",
      "\u001b[34m\u001b[1mwandb\u001b[0m: \tdata_path: /data2\n",
      "\u001b[34m\u001b[1mwandb\u001b[0m: \tdecay: 0.8666345281160515\n",
      "\u001b[34m\u001b[1mwandb\u001b[0m: \tdvs_clipping: True\n",
      "\u001b[34m\u001b[1mwandb\u001b[0m: \tdvs_duration: 1000000\n",
      "\u001b[34m\u001b[1mwandb\u001b[0m: \tlearning_rate: 0.09896708552451614\n",
      "\u001b[34m\u001b[1mwandb\u001b[0m: \tno_reservoir: False\n",
      "\u001b[34m\u001b[1mwandb\u001b[0m: \tpre_spike_weight: 9.551951630231793\n",
      "\u001b[34m\u001b[1mwandb\u001b[0m: \trate_coding: True\n",
      "\u001b[34m\u001b[1mwandb\u001b[0m: \ttime_step: 8\n",
      "\u001b[34m\u001b[1mwandb\u001b[0m: \twhich_data: DVS_GESTURE\n",
      "Failed to detect the name of this notebook, you can set it manually with the WANDB_NOTEBOOK_NAME environment variable to enable code saving.\n"
     ]
    },
    {
     "data": {
      "text/html": [
       "Tracking run with wandb version 0.17.5"
      ],
      "text/plain": [
       "<IPython.core.display.HTML object>"
      ]
     },
     "metadata": {},
     "output_type": "display_data"
    },
    {
     "data": {
      "text/html": [
       "Run data is saved locally in <code>/nfs/home/bhkim003/github_folder/ByeonghyeonKim/my_snn/wandb/run-20240725_215103-1bgpkihw</code>"
      ],
      "text/plain": [
       "<IPython.core.display.HTML object>"
      ]
     },
     "metadata": {},
     "output_type": "display_data"
    },
    {
     "data": {
      "text/html": [
       "Syncing run <strong><a href='https://wandb.ai/bhkim003-seoul-national-university/reservoir/runs/1bgpkihw' target=\"_blank\">lunar-sweep-2</a></strong> to <a href='https://wandb.ai/bhkim003-seoul-national-university/reservoir' target=\"_blank\">Weights & Biases</a> (<a href='https://wandb.me/run' target=\"_blank\">docs</a>)<br/>Sweep page: <a href='https://wandb.ai/bhkim003-seoul-national-university/reservoir/sweeps/0j0aowy8' target=\"_blank\">https://wandb.ai/bhkim003-seoul-national-university/reservoir/sweeps/0j0aowy8</a>"
      ],
      "text/plain": [
       "<IPython.core.display.HTML object>"
      ]
     },
     "metadata": {},
     "output_type": "display_data"
    },
    {
     "data": {
      "text/html": [
       " View project at <a href='https://wandb.ai/bhkim003-seoul-national-university/reservoir' target=\"_blank\">https://wandb.ai/bhkim003-seoul-national-university/reservoir</a>"
      ],
      "text/plain": [
       "<IPython.core.display.HTML object>"
      ]
     },
     "metadata": {},
     "output_type": "display_data"
    },
    {
     "data": {
      "text/html": [
       " View sweep at <a href='https://wandb.ai/bhkim003-seoul-national-university/reservoir/sweeps/0j0aowy8' target=\"_blank\">https://wandb.ai/bhkim003-seoul-national-university/reservoir/sweeps/0j0aowy8</a>"
      ],
      "text/plain": [
       "<IPython.core.display.HTML object>"
      ]
     },
     "metadata": {},
     "output_type": "display_data"
    },
    {
     "data": {
      "text/html": [
       " View run at <a href='https://wandb.ai/bhkim003-seoul-national-university/reservoir/runs/1bgpkihw' target=\"_blank\">https://wandb.ai/bhkim003-seoul-national-university/reservoir/runs/1bgpkihw</a>"
      ],
      "text/plain": [
       "<IPython.core.display.HTML object>"
      ]
     },
     "metadata": {},
     "output_type": "display_data"
    },
    {
     "name": "stderr",
     "output_type": "stream",
     "text": [
      "\u001b[34m\u001b[1mwandb\u001b[0m: \u001b[33mWARNING\u001b[0m Config item 'data_path' was locked by 'sweep' (ignored update).\n",
      "\u001b[34m\u001b[1mwandb\u001b[0m: \u001b[33mWARNING\u001b[0m Config item 'which_data' was locked by 'sweep' (ignored update).\n",
      "\u001b[34m\u001b[1mwandb\u001b[0m: \u001b[33mWARNING\u001b[0m Config item 'learning_rate' was locked by 'sweep' (ignored update).\n",
      "\u001b[34m\u001b[1mwandb\u001b[0m: \u001b[33mWARNING\u001b[0m Config item 'IMAGE_SIZE' was locked by 'sweep' (ignored update).\n",
      "\u001b[34m\u001b[1mwandb\u001b[0m: \u001b[33mWARNING\u001b[0m Config item 'EPOCH' was locked by 'sweep' (ignored update).\n",
      "\u001b[34m\u001b[1mwandb\u001b[0m: \u001b[33mWARNING\u001b[0m Config item 'rate_coding' was locked by 'sweep' (ignored update).\n",
      "\u001b[34m\u001b[1mwandb\u001b[0m: \u001b[33mWARNING\u001b[0m Config item 'pre_spike_weight' was locked by 'sweep' (ignored update).\n",
      "\u001b[34m\u001b[1mwandb\u001b[0m: \u001b[33mWARNING\u001b[0m Config item 'dvs_duration' was locked by 'sweep' (ignored update).\n",
      "\u001b[34m\u001b[1mwandb\u001b[0m: \u001b[33mWARNING\u001b[0m Config item 'dvs_clipping' was locked by 'sweep' (ignored update).\n",
      "\u001b[34m\u001b[1mwandb\u001b[0m: \u001b[33mWARNING\u001b[0m Config item 'no_reservoir' was locked by 'sweep' (ignored update).\n"
     ]
    },
    {
     "name": "stdout",
     "output_type": "stream",
     "text": [
      "The directory [/data2/gesture/duration_1000000] already exists.\n",
      "The directory [/data2/gesture/duration_1000000] already exists.\n",
      "RESERVOIR_NET(\n",
      "  (reservoir): RESERVOIR(\n",
      "    (conv_depthwise): Conv2d(2, 2, kernel_size=(3, 3), stride=(1, 1), padding=(1, 1), groups=2)\n",
      "  )\n",
      "  (linear): Linear(in_features=4608, out_features=10, bias=True)\n",
      ")\n",
      "Epoch 1\n",
      "Train Accuracy: 11.50%\n",
      "Test loss: 78.171, Accuracy: 13.26%\n",
      "Epoch 2\n",
      "Train Accuracy: 12.62%\n",
      "Test loss: 129.643, Accuracy: 9.09%\n",
      "Epoch 3\n",
      "Train Accuracy: 12.99%\n",
      "Test loss: 225.862, Accuracy: 9.85%\n",
      "Epoch 4\n",
      "Train Accuracy: 12.24%\n",
      "Test loss: 180.349, Accuracy: 24.62%\n",
      "Epoch 5\n",
      "Train Accuracy: 23.10%\n",
      "Test loss: 127.867, Accuracy: 14.39%\n",
      "Epoch 6\n",
      "Train Accuracy: 25.79%\n",
      "Test loss: 89.033, Accuracy: 42.80%\n",
      "Epoch 7\n",
      "Train Accuracy: 34.88%\n",
      "Test loss: 34.230, Accuracy: 39.77%\n",
      "Epoch 8\n",
      "Train Accuracy: 28.39%\n",
      "Test loss: 46.633, Accuracy: 48.11%\n",
      "Epoch 9\n",
      "Train Accuracy: 38.22%\n",
      "Test loss: 59.673, Accuracy: 45.45%\n",
      "Epoch 10\n",
      "Train Accuracy: 48.24%\n",
      "Test loss: 10.787, Accuracy: 48.11%\n",
      "Epoch 11\n",
      "Train Accuracy: 49.35%\n",
      "Test loss: 20.280, Accuracy: 45.45%\n",
      "Epoch 12\n",
      "Train Accuracy: 55.94%\n",
      "Test loss: 10.394, Accuracy: 50.00%\n",
      "Epoch 13\n",
      "Train Accuracy: 55.29%\n",
      "Test loss: 11.343, Accuracy: 58.33%\n",
      "Epoch 14\n",
      "Train Accuracy: 66.98%\n",
      "Test loss: 15.695, Accuracy: 50.38%\n",
      "Epoch 15\n",
      "Train Accuracy: 60.58%\n",
      "Test loss: 28.019, Accuracy: 43.94%\n",
      "Epoch 16\n",
      "Train Accuracy: 55.66%\n",
      "Test loss: 22.831, Accuracy: 54.55%\n",
      "Epoch 17\n",
      "Train Accuracy: 55.84%\n",
      "Test loss: 23.181, Accuracy: 59.09%\n",
      "Epoch 18\n",
      "Train Accuracy: 60.76%\n",
      "Test loss: 18.403, Accuracy: 61.74%\n",
      "Epoch 19\n",
      "Train Accuracy: 65.12%\n",
      "Test loss: 11.449, Accuracy: 61.74%\n",
      "Epoch 20\n",
      "Train Accuracy: 71.43%\n",
      "Test loss: 24.151, Accuracy: 51.52%\n",
      "Epoch 21\n",
      "Train Accuracy: 69.02%\n",
      "Test loss: 20.674, Accuracy: 66.29%\n",
      "Epoch 22\n",
      "Train Accuracy: 72.45%\n",
      "Test loss: 18.415, Accuracy: 56.82%\n",
      "Epoch 23\n",
      "Train Accuracy: 75.14%\n",
      "Test loss: 18.492, Accuracy: 61.36%\n",
      "Epoch 24\n",
      "Train Accuracy: 75.97%\n",
      "Test loss: 15.414, Accuracy: 65.15%\n",
      "Epoch 25\n",
      "Train Accuracy: 76.81%\n",
      "Test loss: 19.150, Accuracy: 60.23%\n",
      "Epoch 26\n",
      "Train Accuracy: 77.46%\n",
      "Test loss: 14.355, Accuracy: 62.88%\n",
      "Epoch 27\n",
      "Train Accuracy: 81.73%\n",
      "Test loss: 13.410, Accuracy: 63.64%\n",
      "Epoch 28\n",
      "Train Accuracy: 86.46%\n",
      "Test loss: 8.830, Accuracy: 64.77%\n",
      "Epoch 29\n",
      "Train Accuracy: 88.13%\n",
      "Test loss: 9.065, Accuracy: 63.26%\n",
      "Epoch 30\n",
      "Train Accuracy: 88.59%\n",
      "Test loss: 8.207, Accuracy: 66.29%\n",
      "Epoch 31\n",
      "Train Accuracy: 90.26%\n",
      "Test loss: 9.388, Accuracy: 60.61%\n",
      "Epoch 32\n",
      "Train Accuracy: 89.05%\n",
      "Test loss: 6.436, Accuracy: 64.39%\n",
      "Epoch 33\n",
      "Train Accuracy: 90.72%\n",
      "Test loss: 9.362, Accuracy: 67.05%\n",
      "Epoch 34\n",
      "Train Accuracy: 90.72%\n",
      "Test loss: 6.753, Accuracy: 65.15%\n",
      "Epoch 35\n",
      "Train Accuracy: 90.63%\n",
      "Test loss: 10.175, Accuracy: 63.64%\n",
      "Epoch 36\n",
      "Train Accuracy: 91.00%\n",
      "Test loss: 10.467, Accuracy: 65.15%\n",
      "Epoch 37\n",
      "Train Accuracy: 88.40%\n",
      "Test loss: 5.725, Accuracy: 67.42%\n",
      "Epoch 38\n",
      "Train Accuracy: 90.35%\n",
      "Test loss: 7.572, Accuracy: 65.53%\n",
      "Epoch 39\n",
      "Train Accuracy: 92.02%\n",
      "Test loss: 11.309, Accuracy: 65.15%\n",
      "Epoch 40\n",
      "Train Accuracy: 93.88%\n",
      "Test loss: 7.960, Accuracy: 65.15%\n",
      "Epoch 41\n",
      "Train Accuracy: 94.81%\n",
      "Test loss: 7.719, Accuracy: 64.02%\n",
      "Epoch 42\n",
      "Train Accuracy: 94.16%\n",
      "Test loss: 8.568, Accuracy: 65.53%\n",
      "Epoch 43\n",
      "Train Accuracy: 94.90%\n",
      "Test loss: 8.333, Accuracy: 62.88%\n",
      "Epoch 44\n",
      "Train Accuracy: 94.06%\n",
      "Test loss: 8.540, Accuracy: 62.12%\n",
      "Epoch 45\n",
      "Train Accuracy: 91.65%\n",
      "Test loss: 9.103, Accuracy: 63.64%\n",
      "Epoch 46\n",
      "Train Accuracy: 91.65%\n",
      "Test loss: 8.036, Accuracy: 62.12%\n",
      "Epoch 47\n",
      "Train Accuracy: 90.91%\n",
      "Test loss: 10.327, Accuracy: 62.88%\n",
      "Epoch 48\n",
      "Train Accuracy: 89.52%\n",
      "Test loss: 7.933, Accuracy: 69.70%\n",
      "Epoch 49\n",
      "Train Accuracy: 88.31%\n",
      "Test loss: 10.105, Accuracy: 67.42%\n",
      "Epoch 50\n",
      "Train Accuracy: 89.24%\n",
      "Test loss: 6.701, Accuracy: 70.45%\n"
     ]
    },
    {
     "data": {
      "application/vnd.jupyter.widget-view+json": {
       "model_id": "dcbd10f4837e4d24a7b4347dc9605b8e",
       "version_major": 2,
       "version_minor": 0
      },
      "text/plain": [
       "VBox(children=(Label(value='20.317 MB of 20.317 MB uploaded (19.955 MB deduped)\\r'), FloatProgress(value=1.0, …"
      ]
     },
     "metadata": {},
     "output_type": "display_data"
    },
    {
     "data": {
      "text/html": [
       "W&B sync reduced upload amount by 97.9%"
      ],
      "text/plain": [
       "<IPython.core.display.HTML object>"
      ]
     },
     "metadata": {},
     "output_type": "display_data"
    },
    {
     "data": {
      "text/html": [
       "<style>\n",
       "    table.wandb td:nth-child(1) { padding: 0 10px; text-align: left ; width: auto;} td:nth-child(2) {text-align: left ; width: 100%}\n",
       "    .wandb-row { display: flex; flex-direction: row; flex-wrap: wrap; justify-content: flex-start; width: 100% }\n",
       "    .wandb-col { display: flex; flex-direction: column; flex-basis: 100%; flex: 1; padding: 10px; }\n",
       "    </style>\n",
       "<div class=\"wandb-row\"><div class=\"wandb-col\"><h3>Run history:</h3><br/><table class=\"wandb\"><tr><td>iter_accuracy</td><td>▂▂▁▂▂▃▃▄▄▅▅▆▅▅▅▆▅▇▆▇▆▆▇▇█▇▇████▇███▇██▇▇</td></tr><tr><td>tr_accuracy</td><td>▁▁▁▁▂▃▂▃▄▅▅▆▅▅▅▆▆▆▆▆▇▇▇▇█████▇██████████</td></tr><tr><td>val_accuracy</td><td>▁▁▁▃▅▅▅▅▅▆▇▆▆▇▇▇█▆▇▇▇▇▇▇▇▇█▇▇█▇▇▇▇▇▇▇▇██</td></tr></table><br/></div><div class=\"wandb-col\"><h3>Run summary:</h3><br/><table class=\"wandb\"><tr><td>iter_accuracy</td><td>94.44444</td></tr><tr><td>tr_accuracy</td><td>89.23933</td></tr><tr><td>val_accuracy</td><td>70.45455</td></tr></table><br/></div></div>"
      ],
      "text/plain": [
       "<IPython.core.display.HTML object>"
      ]
     },
     "metadata": {},
     "output_type": "display_data"
    },
    {
     "data": {
      "text/html": [
       " View run <strong style=\"color:#cdcd00\">lunar-sweep-2</strong> at: <a href='https://wandb.ai/bhkim003-seoul-national-university/reservoir/runs/1bgpkihw' target=\"_blank\">https://wandb.ai/bhkim003-seoul-national-university/reservoir/runs/1bgpkihw</a><br/> View project at: <a href='https://wandb.ai/bhkim003-seoul-national-university/reservoir' target=\"_blank\">https://wandb.ai/bhkim003-seoul-national-university/reservoir</a><br/>Synced 7 W&B file(s), 0 media file(s), 28 artifact file(s) and 1 other file(s)"
      ],
      "text/plain": [
       "<IPython.core.display.HTML object>"
      ]
     },
     "metadata": {},
     "output_type": "display_data"
    },
    {
     "data": {
      "text/html": [
       "Find logs at: <code>./wandb/run-20240725_215103-1bgpkihw/logs</code>"
      ],
      "text/plain": [
       "<IPython.core.display.HTML object>"
      ]
     },
     "metadata": {},
     "output_type": "display_data"
    },
    {
     "data": {
      "text/html": [
       "The new W&B backend becomes opt-out in version 0.18.0; try it out with `wandb.require(\"core\")`! See https://wandb.me/wandb-core for more information."
      ],
      "text/plain": [
       "<IPython.core.display.HTML object>"
      ]
     },
     "metadata": {},
     "output_type": "display_data"
    },
    {
     "name": "stderr",
     "output_type": "stream",
     "text": [
      "\u001b[34m\u001b[1mwandb\u001b[0m: Sweep Agent: Waiting for job.\n",
      "\u001b[34m\u001b[1mwandb\u001b[0m: Job received.\n",
      "\u001b[34m\u001b[1mwandb\u001b[0m: Agent Starting Run: ipks6q7w with config:\n",
      "\u001b[34m\u001b[1mwandb\u001b[0m: \tEPOCH: 50\n",
      "\u001b[34m\u001b[1mwandb\u001b[0m: \tIMAGE_SIZE: 48\n",
      "\u001b[34m\u001b[1mwandb\u001b[0m: \tbatch_size: 128\n",
      "\u001b[34m\u001b[1mwandb\u001b[0m: \tdata_path: /data2\n",
      "\u001b[34m\u001b[1mwandb\u001b[0m: \tdecay: 0.810708494837497\n",
      "\u001b[34m\u001b[1mwandb\u001b[0m: \tdvs_clipping: True\n",
      "\u001b[34m\u001b[1mwandb\u001b[0m: \tdvs_duration: 1000000\n",
      "\u001b[34m\u001b[1mwandb\u001b[0m: \tlearning_rate: 0.03460939391276837\n",
      "\u001b[34m\u001b[1mwandb\u001b[0m: \tno_reservoir: True\n",
      "\u001b[34m\u001b[1mwandb\u001b[0m: \tpre_spike_weight: 8.10832917764691\n",
      "\u001b[34m\u001b[1mwandb\u001b[0m: \trate_coding: True\n",
      "\u001b[34m\u001b[1mwandb\u001b[0m: \ttime_step: 7\n",
      "\u001b[34m\u001b[1mwandb\u001b[0m: \twhich_data: DVS_GESTURE\n",
      "Failed to detect the name of this notebook, you can set it manually with the WANDB_NOTEBOOK_NAME environment variable to enable code saving.\n"
     ]
    },
    {
     "data": {
      "application/vnd.jupyter.widget-view+json": {
       "model_id": "e25133e85d4b458aa2f02158decb3cbd",
       "version_major": 2,
       "version_minor": 0
      },
      "text/plain": [
       "VBox(children=(Label(value='Waiting for wandb.init()...\\r'), FloatProgress(value=0.011113290323151483, max=1.0…"
      ]
     },
     "metadata": {},
     "output_type": "display_data"
    },
    {
     "data": {
      "text/html": [
       "Tracking run with wandb version 0.17.5"
      ],
      "text/plain": [
       "<IPython.core.display.HTML object>"
      ]
     },
     "metadata": {},
     "output_type": "display_data"
    },
    {
     "data": {
      "text/html": [
       "Run data is saved locally in <code>/nfs/home/bhkim003/github_folder/ByeonghyeonKim/my_snn/wandb/run-20240725_215821-ipks6q7w</code>"
      ],
      "text/plain": [
       "<IPython.core.display.HTML object>"
      ]
     },
     "metadata": {},
     "output_type": "display_data"
    },
    {
     "data": {
      "text/html": [
       "Syncing run <strong><a href='https://wandb.ai/bhkim003-seoul-national-university/reservoir/runs/ipks6q7w' target=\"_blank\">fluent-sweep-3</a></strong> to <a href='https://wandb.ai/bhkim003-seoul-national-university/reservoir' target=\"_blank\">Weights & Biases</a> (<a href='https://wandb.me/run' target=\"_blank\">docs</a>)<br/>Sweep page: <a href='https://wandb.ai/bhkim003-seoul-national-university/reservoir/sweeps/0j0aowy8' target=\"_blank\">https://wandb.ai/bhkim003-seoul-national-university/reservoir/sweeps/0j0aowy8</a>"
      ],
      "text/plain": [
       "<IPython.core.display.HTML object>"
      ]
     },
     "metadata": {},
     "output_type": "display_data"
    },
    {
     "data": {
      "text/html": [
       " View project at <a href='https://wandb.ai/bhkim003-seoul-national-university/reservoir' target=\"_blank\">https://wandb.ai/bhkim003-seoul-national-university/reservoir</a>"
      ],
      "text/plain": [
       "<IPython.core.display.HTML object>"
      ]
     },
     "metadata": {},
     "output_type": "display_data"
    },
    {
     "data": {
      "text/html": [
       " View sweep at <a href='https://wandb.ai/bhkim003-seoul-national-university/reservoir/sweeps/0j0aowy8' target=\"_blank\">https://wandb.ai/bhkim003-seoul-national-university/reservoir/sweeps/0j0aowy8</a>"
      ],
      "text/plain": [
       "<IPython.core.display.HTML object>"
      ]
     },
     "metadata": {},
     "output_type": "display_data"
    },
    {
     "data": {
      "text/html": [
       " View run at <a href='https://wandb.ai/bhkim003-seoul-national-university/reservoir/runs/ipks6q7w' target=\"_blank\">https://wandb.ai/bhkim003-seoul-national-university/reservoir/runs/ipks6q7w</a>"
      ],
      "text/plain": [
       "<IPython.core.display.HTML object>"
      ]
     },
     "metadata": {},
     "output_type": "display_data"
    },
    {
     "name": "stderr",
     "output_type": "stream",
     "text": [
      "\u001b[34m\u001b[1mwandb\u001b[0m: \u001b[33mWARNING\u001b[0m Config item 'data_path' was locked by 'sweep' (ignored update).\n",
      "\u001b[34m\u001b[1mwandb\u001b[0m: \u001b[33mWARNING\u001b[0m Config item 'which_data' was locked by 'sweep' (ignored update).\n",
      "\u001b[34m\u001b[1mwandb\u001b[0m: \u001b[33mWARNING\u001b[0m Config item 'learning_rate' was locked by 'sweep' (ignored update).\n",
      "\u001b[34m\u001b[1mwandb\u001b[0m: \u001b[33mWARNING\u001b[0m Config item 'IMAGE_SIZE' was locked by 'sweep' (ignored update).\n",
      "\u001b[34m\u001b[1mwandb\u001b[0m: \u001b[33mWARNING\u001b[0m Config item 'EPOCH' was locked by 'sweep' (ignored update).\n",
      "\u001b[34m\u001b[1mwandb\u001b[0m: \u001b[33mWARNING\u001b[0m Config item 'rate_coding' was locked by 'sweep' (ignored update).\n",
      "\u001b[34m\u001b[1mwandb\u001b[0m: \u001b[33mWARNING\u001b[0m Config item 'pre_spike_weight' was locked by 'sweep' (ignored update).\n",
      "\u001b[34m\u001b[1mwandb\u001b[0m: \u001b[33mWARNING\u001b[0m Config item 'dvs_duration' was locked by 'sweep' (ignored update).\n",
      "\u001b[34m\u001b[1mwandb\u001b[0m: \u001b[33mWARNING\u001b[0m Config item 'dvs_clipping' was locked by 'sweep' (ignored update).\n",
      "\u001b[34m\u001b[1mwandb\u001b[0m: \u001b[33mWARNING\u001b[0m Config item 'no_reservoir' was locked by 'sweep' (ignored update).\n"
     ]
    },
    {
     "name": "stdout",
     "output_type": "stream",
     "text": [
      "The directory [/data2/gesture/duration_1000000] already exists.\n",
      "The directory [/data2/gesture/duration_1000000] already exists.\n",
      "NO_RESERVOIR_NET(\n",
      "  (reservoir): RESERVOIR(\n",
      "    (conv_depthwise): Conv2d(2, 2, kernel_size=(3, 3), stride=(1, 1), padding=(1, 1), groups=2)\n",
      "  )\n",
      "  (linear): Linear(in_features=4608, out_features=10, bias=True)\n",
      ")\n",
      "Epoch 1\n",
      "Train Accuracy: 23.47%\n",
      "Test loss: 6.894, Accuracy: 32.95%\n",
      "Epoch 2\n",
      "Train Accuracy: 31.91%\n",
      "Test loss: 6.005, Accuracy: 30.68%\n",
      "Epoch 3\n",
      "Train Accuracy: 43.60%\n",
      "Test loss: 4.898, Accuracy: 38.26%\n",
      "Epoch 4\n",
      "Train Accuracy: 56.40%\n",
      "Test loss: 4.534, Accuracy: 44.32%\n",
      "Epoch 5\n",
      "Train Accuracy: 59.74%\n",
      "Test loss: 4.396, Accuracy: 50.76%\n",
      "Epoch 6\n",
      "Train Accuracy: 63.91%\n",
      "Test loss: 2.921, Accuracy: 57.95%\n",
      "Epoch 7\n",
      "Train Accuracy: 67.07%\n",
      "Test loss: 3.196, Accuracy: 63.26%\n",
      "Epoch 8\n",
      "Train Accuracy: 75.14%\n",
      "Test loss: 2.561, Accuracy: 60.23%\n",
      "Epoch 9\n",
      "Train Accuracy: 81.08%\n",
      "Test loss: 1.877, Accuracy: 67.80%\n",
      "Epoch 10\n",
      "Train Accuracy: 86.64%\n",
      "Test loss: 2.182, Accuracy: 66.67%\n",
      "Epoch 11\n",
      "Train Accuracy: 91.84%\n",
      "Test loss: 2.856, Accuracy: 63.64%\n",
      "Epoch 12\n",
      "Train Accuracy: 93.41%\n",
      "Test loss: 2.219, Accuracy: 62.88%\n",
      "Epoch 13\n",
      "Train Accuracy: 94.71%\n",
      "Test loss: 2.197, Accuracy: 66.67%\n",
      "Epoch 14\n",
      "Train Accuracy: 93.51%\n",
      "Test loss: 2.466, Accuracy: 60.98%\n",
      "Epoch 15\n",
      "Train Accuracy: 88.22%\n",
      "Test loss: 2.532, Accuracy: 62.50%\n",
      "Epoch 16\n",
      "Train Accuracy: 89.80%\n",
      "Test loss: 2.792, Accuracy: 61.36%\n",
      "Epoch 17\n",
      "Train Accuracy: 88.03%\n",
      "Test loss: 2.261, Accuracy: 68.94%\n",
      "Epoch 18\n",
      "Train Accuracy: 92.95%\n",
      "Test loss: 2.249, Accuracy: 64.02%\n",
      "Epoch 19\n",
      "Train Accuracy: 96.47%\n",
      "Test loss: 2.388, Accuracy: 65.53%\n",
      "Epoch 20\n",
      "Train Accuracy: 98.33%\n",
      "Test loss: 1.830, Accuracy: 68.94%\n",
      "Epoch 21\n",
      "Train Accuracy: 99.72%\n",
      "Test loss: 2.142, Accuracy: 66.67%\n",
      "Epoch 22\n",
      "Train Accuracy: 99.63%\n",
      "Test loss: 1.935, Accuracy: 71.21%\n",
      "Epoch 23\n",
      "Train Accuracy: 99.44%\n",
      "Test loss: 2.139, Accuracy: 67.05%\n",
      "Epoch 24\n",
      "Train Accuracy: 100.00%\n",
      "Test loss: 2.135, Accuracy: 68.56%\n",
      "Epoch 25\n",
      "Train Accuracy: 99.72%\n",
      "Test loss: 2.022, Accuracy: 68.56%\n",
      "Epoch 26\n",
      "Train Accuracy: 99.91%\n",
      "Test loss: 1.988, Accuracy: 69.70%\n",
      "Epoch 27\n",
      "Train Accuracy: 100.00%\n",
      "Test loss: 2.067, Accuracy: 70.83%\n",
      "Epoch 28\n",
      "Train Accuracy: 100.00%\n",
      "Test loss: 1.976, Accuracy: 70.45%\n",
      "Epoch 29\n",
      "Train Accuracy: 100.00%\n",
      "Test loss: 1.981, Accuracy: 69.32%\n",
      "Epoch 30\n",
      "Train Accuracy: 100.00%\n",
      "Test loss: 2.087, Accuracy: 69.32%\n",
      "Epoch 31\n",
      "Train Accuracy: 100.00%\n",
      "Test loss: 2.059, Accuracy: 69.70%\n",
      "Epoch 32\n",
      "Train Accuracy: 100.00%\n",
      "Test loss: 2.080, Accuracy: 70.08%\n",
      "Epoch 33\n",
      "Train Accuracy: 100.00%\n",
      "Test loss: 1.985, Accuracy: 69.70%\n",
      "Epoch 34\n",
      "Train Accuracy: 100.00%\n",
      "Test loss: 2.163, Accuracy: 68.94%\n",
      "Epoch 35\n",
      "Train Accuracy: 100.00%\n",
      "Test loss: 2.055, Accuracy: 69.32%\n",
      "Epoch 36\n",
      "Train Accuracy: 100.00%\n",
      "Test loss: 2.106, Accuracy: 69.32%\n",
      "Epoch 37\n",
      "Train Accuracy: 100.00%\n",
      "Test loss: 2.081, Accuracy: 70.45%\n",
      "Epoch 38\n",
      "Train Accuracy: 100.00%\n",
      "Test loss: 2.058, Accuracy: 70.08%\n",
      "Epoch 39\n",
      "Train Accuracy: 100.00%\n",
      "Test loss: 2.127, Accuracy: 68.94%\n",
      "Epoch 40\n",
      "Train Accuracy: 100.00%\n",
      "Test loss: 2.037, Accuracy: 68.18%\n",
      "Epoch 41\n",
      "Train Accuracy: 100.00%\n",
      "Test loss: 2.113, Accuracy: 69.32%\n",
      "Epoch 42\n",
      "Train Accuracy: 100.00%\n",
      "Test loss: 2.130, Accuracy: 69.32%\n",
      "Epoch 43\n",
      "Train Accuracy: 100.00%\n",
      "Test loss: 2.006, Accuracy: 69.32%\n",
      "Epoch 44\n",
      "Train Accuracy: 100.00%\n",
      "Test loss: 2.215, Accuracy: 70.08%\n",
      "Epoch 45\n",
      "Train Accuracy: 100.00%\n",
      "Test loss: 2.068, Accuracy: 68.18%\n",
      "Epoch 46\n",
      "Train Accuracy: 100.00%\n",
      "Test loss: 2.139, Accuracy: 69.32%\n",
      "Epoch 47\n",
      "Train Accuracy: 100.00%\n",
      "Test loss: 2.121, Accuracy: 69.32%\n",
      "Epoch 48\n",
      "Train Accuracy: 100.00%\n",
      "Test loss: 2.113, Accuracy: 69.32%\n",
      "Epoch 49\n",
      "Train Accuracy: 100.00%\n",
      "Test loss: 2.119, Accuracy: 70.08%\n",
      "Epoch 50\n",
      "Train Accuracy: 100.00%\n",
      "Test loss: 2.128, Accuracy: 68.94%\n"
     ]
    },
    {
     "data": {
      "application/vnd.jupyter.widget-view+json": {
       "model_id": "266df01d224f4a67918fd673d5f8b2f1",
       "version_major": 2,
       "version_minor": 0
      },
      "text/plain": [
       "VBox(children=(Label(value='20.206 MB of 20.206 MB uploaded (19.915 MB deduped)\\r'), FloatProgress(value=1.0, …"
      ]
     },
     "metadata": {},
     "output_type": "display_data"
    },
    {
     "data": {
      "text/html": [
       "W&B sync reduced upload amount by 98.2%"
      ],
      "text/plain": [
       "<IPython.core.display.HTML object>"
      ]
     },
     "metadata": {},
     "output_type": "display_data"
    },
    {
     "data": {
      "text/html": [
       "<style>\n",
       "    table.wandb td:nth-child(1) { padding: 0 10px; text-align: left ; width: auto;} td:nth-child(2) {text-align: left ; width: 100%}\n",
       "    .wandb-row { display: flex; flex-direction: row; flex-wrap: wrap; justify-content: flex-start; width: 100% }\n",
       "    .wandb-col { display: flex; flex-direction: column; flex-basis: 100%; flex: 1; padding: 10px; }\n",
       "    </style>\n",
       "<div class=\"wandb-row\"><div class=\"wandb-col\"><h3>Run history:</h3><br/><table class=\"wandb\"><tr><td>iter_accuracy</td><td>▁▂▃▅▅▅▆▆▇██▇▇▆██████████████████████████</td></tr><tr><td>tr_accuracy</td><td>▁▂▃▄▅▅▆▆▇▇█▇▇▇▇█████████████████████████</td></tr><tr><td>val_accuracy</td><td>▁▁▂▃▆▇▆▇▇▇▇▆▆█▇▇▇█▇█████████████████████</td></tr></table><br/></div><div class=\"wandb-col\"><h3>Run summary:</h3><br/><table class=\"wandb\"><tr><td>iter_accuracy</td><td>100.0</td></tr><tr><td>tr_accuracy</td><td>100.0</td></tr><tr><td>val_accuracy</td><td>68.93939</td></tr></table><br/></div></div>"
      ],
      "text/plain": [
       "<IPython.core.display.HTML object>"
      ]
     },
     "metadata": {},
     "output_type": "display_data"
    },
    {
     "data": {
      "text/html": [
       " View run <strong style=\"color:#cdcd00\">fluent-sweep-3</strong> at: <a href='https://wandb.ai/bhkim003-seoul-national-university/reservoir/runs/ipks6q7w' target=\"_blank\">https://wandb.ai/bhkim003-seoul-national-university/reservoir/runs/ipks6q7w</a><br/> View project at: <a href='https://wandb.ai/bhkim003-seoul-national-university/reservoir' target=\"_blank\">https://wandb.ai/bhkim003-seoul-national-university/reservoir</a><br/>Synced 7 W&B file(s), 0 media file(s), 28 artifact file(s) and 1 other file(s)"
      ],
      "text/plain": [
       "<IPython.core.display.HTML object>"
      ]
     },
     "metadata": {},
     "output_type": "display_data"
    },
    {
     "data": {
      "text/html": [
       "Find logs at: <code>./wandb/run-20240725_215821-ipks6q7w/logs</code>"
      ],
      "text/plain": [
       "<IPython.core.display.HTML object>"
      ]
     },
     "metadata": {},
     "output_type": "display_data"
    },
    {
     "data": {
      "text/html": [
       "The new W&B backend becomes opt-out in version 0.18.0; try it out with `wandb.require(\"core\")`! See https://wandb.me/wandb-core for more information."
      ],
      "text/plain": [
       "<IPython.core.display.HTML object>"
      ]
     },
     "metadata": {},
     "output_type": "display_data"
    },
    {
     "name": "stderr",
     "output_type": "stream",
     "text": [
      "\u001b[34m\u001b[1mwandb\u001b[0m: Agent Starting Run: gujukf8z with config:\n",
      "\u001b[34m\u001b[1mwandb\u001b[0m: \tEPOCH: 50\n",
      "\u001b[34m\u001b[1mwandb\u001b[0m: \tIMAGE_SIZE: 128\n",
      "\u001b[34m\u001b[1mwandb\u001b[0m: \tbatch_size: 64\n",
      "\u001b[34m\u001b[1mwandb\u001b[0m: \tdata_path: /data2\n",
      "\u001b[34m\u001b[1mwandb\u001b[0m: \tdecay: 0.6897205570740155\n",
      "\u001b[34m\u001b[1mwandb\u001b[0m: \tdvs_clipping: True\n",
      "\u001b[34m\u001b[1mwandb\u001b[0m: \tdvs_duration: 1000000\n",
      "\u001b[34m\u001b[1mwandb\u001b[0m: \tlearning_rate: 0.09969202858001164\n",
      "\u001b[34m\u001b[1mwandb\u001b[0m: \tno_reservoir: False\n",
      "\u001b[34m\u001b[1mwandb\u001b[0m: \tpre_spike_weight: 7.905673778208558\n",
      "\u001b[34m\u001b[1mwandb\u001b[0m: \trate_coding: False\n",
      "\u001b[34m\u001b[1mwandb\u001b[0m: \ttime_step: 7\n",
      "\u001b[34m\u001b[1mwandb\u001b[0m: \twhich_data: DVS_GESTURE\n",
      "Failed to detect the name of this notebook, you can set it manually with the WANDB_NOTEBOOK_NAME environment variable to enable code saving.\n"
     ]
    },
    {
     "data": {
      "text/html": [
       "Tracking run with wandb version 0.17.5"
      ],
      "text/plain": [
       "<IPython.core.display.HTML object>"
      ]
     },
     "metadata": {},
     "output_type": "display_data"
    },
    {
     "data": {
      "text/html": [
       "Run data is saved locally in <code>/nfs/home/bhkim003/github_folder/ByeonghyeonKim/my_snn/wandb/run-20240725_220451-gujukf8z</code>"
      ],
      "text/plain": [
       "<IPython.core.display.HTML object>"
      ]
     },
     "metadata": {},
     "output_type": "display_data"
    },
    {
     "data": {
      "text/html": [
       "Syncing run <strong><a href='https://wandb.ai/bhkim003-seoul-national-university/reservoir/runs/gujukf8z' target=\"_blank\">proud-sweep-4</a></strong> to <a href='https://wandb.ai/bhkim003-seoul-national-university/reservoir' target=\"_blank\">Weights & Biases</a> (<a href='https://wandb.me/run' target=\"_blank\">docs</a>)<br/>Sweep page: <a href='https://wandb.ai/bhkim003-seoul-national-university/reservoir/sweeps/0j0aowy8' target=\"_blank\">https://wandb.ai/bhkim003-seoul-national-university/reservoir/sweeps/0j0aowy8</a>"
      ],
      "text/plain": [
       "<IPython.core.display.HTML object>"
      ]
     },
     "metadata": {},
     "output_type": "display_data"
    },
    {
     "data": {
      "text/html": [
       " View project at <a href='https://wandb.ai/bhkim003-seoul-national-university/reservoir' target=\"_blank\">https://wandb.ai/bhkim003-seoul-national-university/reservoir</a>"
      ],
      "text/plain": [
       "<IPython.core.display.HTML object>"
      ]
     },
     "metadata": {},
     "output_type": "display_data"
    },
    {
     "data": {
      "text/html": [
       " View sweep at <a href='https://wandb.ai/bhkim003-seoul-national-university/reservoir/sweeps/0j0aowy8' target=\"_blank\">https://wandb.ai/bhkim003-seoul-national-university/reservoir/sweeps/0j0aowy8</a>"
      ],
      "text/plain": [
       "<IPython.core.display.HTML object>"
      ]
     },
     "metadata": {},
     "output_type": "display_data"
    },
    {
     "data": {
      "text/html": [
       " View run at <a href='https://wandb.ai/bhkim003-seoul-national-university/reservoir/runs/gujukf8z' target=\"_blank\">https://wandb.ai/bhkim003-seoul-national-university/reservoir/runs/gujukf8z</a>"
      ],
      "text/plain": [
       "<IPython.core.display.HTML object>"
      ]
     },
     "metadata": {},
     "output_type": "display_data"
    },
    {
     "name": "stderr",
     "output_type": "stream",
     "text": [
      "\u001b[34m\u001b[1mwandb\u001b[0m: \u001b[33mWARNING\u001b[0m Config item 'data_path' was locked by 'sweep' (ignored update).\n",
      "\u001b[34m\u001b[1mwandb\u001b[0m: \u001b[33mWARNING\u001b[0m Config item 'which_data' was locked by 'sweep' (ignored update).\n",
      "\u001b[34m\u001b[1mwandb\u001b[0m: \u001b[33mWARNING\u001b[0m Config item 'learning_rate' was locked by 'sweep' (ignored update).\n",
      "\u001b[34m\u001b[1mwandb\u001b[0m: \u001b[33mWARNING\u001b[0m Config item 'IMAGE_SIZE' was locked by 'sweep' (ignored update).\n",
      "\u001b[34m\u001b[1mwandb\u001b[0m: \u001b[33mWARNING\u001b[0m Config item 'EPOCH' was locked by 'sweep' (ignored update).\n",
      "\u001b[34m\u001b[1mwandb\u001b[0m: \u001b[33mWARNING\u001b[0m Config item 'rate_coding' was locked by 'sweep' (ignored update).\n",
      "\u001b[34m\u001b[1mwandb\u001b[0m: \u001b[33mWARNING\u001b[0m Config item 'pre_spike_weight' was locked by 'sweep' (ignored update).\n",
      "\u001b[34m\u001b[1mwandb\u001b[0m: \u001b[33mWARNING\u001b[0m Config item 'dvs_duration' was locked by 'sweep' (ignored update).\n",
      "\u001b[34m\u001b[1mwandb\u001b[0m: \u001b[33mWARNING\u001b[0m Config item 'dvs_clipping' was locked by 'sweep' (ignored update).\n",
      "\u001b[34m\u001b[1mwandb\u001b[0m: \u001b[33mWARNING\u001b[0m Config item 'no_reservoir' was locked by 'sweep' (ignored update).\n"
     ]
    },
    {
     "name": "stdout",
     "output_type": "stream",
     "text": [
      "The directory [/data2/gesture/duration_1000000] already exists.\n",
      "The directory [/data2/gesture/duration_1000000] already exists.\n",
      "RESERVOIR_NET(\n",
      "  (reservoir): RESERVOIR(\n",
      "    (conv_depthwise): Conv2d(2, 2, kernel_size=(3, 3), stride=(1, 1), padding=(1, 1), groups=2)\n",
      "  )\n",
      "  (linear): Linear(in_features=32768, out_features=10, bias=True)\n",
      ")\n",
      "Epoch 1\n",
      "Train Accuracy: 31.45%\n",
      "Test loss: 32.606, Accuracy: 44.32%\n",
      "Epoch 2\n",
      "Train Accuracy: 58.16%\n",
      "Test loss: 23.860, Accuracy: 59.09%\n",
      "Epoch 3\n",
      "Train Accuracy: 71.99%\n",
      "Test loss: 30.761, Accuracy: 56.06%\n",
      "Epoch 4\n",
      "Train Accuracy: 73.65%\n",
      "Test loss: 37.594, Accuracy: 59.09%\n",
      "Epoch 5\n",
      "Train Accuracy: 73.28%\n",
      "Test loss: 34.173, Accuracy: 61.74%\n",
      "Epoch 6\n",
      "Train Accuracy: 74.21%\n",
      "Test loss: 57.844, Accuracy: 58.71%\n",
      "Epoch 7\n",
      "Train Accuracy: 77.83%\n",
      "Test loss: 35.951, Accuracy: 66.67%\n",
      "Epoch 8\n",
      "Train Accuracy: 83.67%\n",
      "Test loss: 34.369, Accuracy: 64.77%\n",
      "Epoch 9\n",
      "Train Accuracy: 86.09%\n",
      "Test loss: 45.345, Accuracy: 71.21%\n",
      "Epoch 10\n",
      "Train Accuracy: 85.44%\n",
      "Test loss: 21.737, Accuracy: 61.36%\n",
      "Epoch 11\n",
      "Train Accuracy: 86.09%\n",
      "Test loss: 42.819, Accuracy: 64.02%\n",
      "Epoch 12\n",
      "Train Accuracy: 87.29%\n",
      "Test loss: 24.151, Accuracy: 65.91%\n",
      "Epoch 13\n",
      "Train Accuracy: 90.54%\n",
      "Test loss: 26.330, Accuracy: 71.59%\n",
      "Epoch 14\n",
      "Train Accuracy: 91.00%\n",
      "Test loss: 25.547, Accuracy: 63.26%\n",
      "Epoch 15\n",
      "Train Accuracy: 91.00%\n",
      "Test loss: 27.497, Accuracy: 60.98%\n",
      "Epoch 16\n",
      "Train Accuracy: 88.03%\n",
      "Test loss: 33.919, Accuracy: 61.36%\n",
      "Epoch 17\n",
      "Train Accuracy: 87.76%\n",
      "Test loss: 27.880, Accuracy: 63.26%\n",
      "Epoch 18\n",
      "Train Accuracy: 92.49%\n",
      "Test loss: 19.382, Accuracy: 69.32%\n",
      "Epoch 19\n",
      "Train Accuracy: 94.90%\n",
      "Test loss: 31.033, Accuracy: 67.05%\n",
      "Epoch 20\n",
      "Train Accuracy: 97.12%\n",
      "Test loss: 20.427, Accuracy: 72.35%\n",
      "Epoch 21\n",
      "Train Accuracy: 97.50%\n",
      "Test loss: 22.067, Accuracy: 66.29%\n",
      "Epoch 22\n",
      "Train Accuracy: 96.01%\n",
      "Test loss: 19.842, Accuracy: 71.97%\n",
      "Epoch 23\n",
      "Train Accuracy: 97.40%\n",
      "Test loss: 26.416, Accuracy: 66.67%\n",
      "Epoch 24\n",
      "Train Accuracy: 97.31%\n",
      "Test loss: 24.160, Accuracy: 64.77%\n",
      "Epoch 25\n",
      "Train Accuracy: 97.68%\n",
      "Test loss: 30.943, Accuracy: 62.50%\n",
      "Epoch 26\n",
      "Train Accuracy: 95.92%\n",
      "Test loss: 30.315, Accuracy: 64.77%\n",
      "Epoch 27\n",
      "Train Accuracy: 94.90%\n",
      "Test loss: 32.875, Accuracy: 64.02%\n",
      "Epoch 28\n",
      "Train Accuracy: 98.05%\n",
      "Test loss: 23.870, Accuracy: 67.80%\n",
      "Epoch 29\n",
      "Train Accuracy: 99.54%\n",
      "Test loss: 24.534, Accuracy: 67.80%\n",
      "Epoch 30\n",
      "Train Accuracy: 98.98%\n",
      "Test loss: 24.685, Accuracy: 68.18%\n",
      "Epoch 31\n",
      "Train Accuracy: 98.70%\n",
      "Test loss: 21.430, Accuracy: 69.70%\n",
      "Epoch 32\n",
      "Train Accuracy: 99.81%\n",
      "Test loss: 20.815, Accuracy: 68.56%\n",
      "Epoch 33\n",
      "Train Accuracy: 99.91%\n",
      "Test loss: 21.401, Accuracy: 71.21%\n",
      "Epoch 34\n",
      "Train Accuracy: 99.72%\n",
      "Test loss: 21.732, Accuracy: 70.08%\n",
      "Epoch 35\n",
      "Train Accuracy: 98.98%\n",
      "Test loss: 22.324, Accuracy: 71.21%\n",
      "Epoch 36\n",
      "Train Accuracy: 100.00%\n",
      "Test loss: 21.371, Accuracy: 70.08%\n",
      "Epoch 37\n",
      "Train Accuracy: 99.63%\n",
      "Test loss: 20.009, Accuracy: 70.83%\n",
      "Epoch 38\n",
      "Train Accuracy: 98.98%\n",
      "Test loss: 20.921, Accuracy: 70.08%\n",
      "Epoch 39\n",
      "Train Accuracy: 98.33%\n",
      "Test loss: 20.951, Accuracy: 70.08%\n",
      "Epoch 40\n",
      "Train Accuracy: 99.63%\n",
      "Test loss: 19.306, Accuracy: 69.70%\n",
      "Epoch 41\n",
      "Train Accuracy: 99.91%\n",
      "Test loss: 20.097, Accuracy: 71.21%\n",
      "Epoch 42\n",
      "Train Accuracy: 100.00%\n",
      "Test loss: 20.081, Accuracy: 71.21%\n",
      "Epoch 43\n",
      "Train Accuracy: 100.00%\n",
      "Test loss: 20.078, Accuracy: 71.21%\n",
      "Epoch 44\n",
      "Train Accuracy: 100.00%\n",
      "Test loss: 20.077, Accuracy: 71.21%\n",
      "Epoch 45\n",
      "Train Accuracy: 100.00%\n",
      "Test loss: 20.077, Accuracy: 71.21%\n",
      "Epoch 46\n",
      "Train Accuracy: 100.00%\n",
      "Test loss: 20.077, Accuracy: 71.21%\n",
      "Epoch 47\n",
      "Train Accuracy: 100.00%\n",
      "Test loss: 20.078, Accuracy: 71.21%\n",
      "Epoch 48\n",
      "Train Accuracy: 100.00%\n",
      "Test loss: 20.078, Accuracy: 71.21%\n",
      "Epoch 49\n",
      "Train Accuracy: 100.00%\n",
      "Test loss: 20.078, Accuracy: 71.21%\n",
      "Epoch 50\n",
      "Train Accuracy: 100.00%\n",
      "Test loss: 20.078, Accuracy: 71.21%\n"
     ]
    },
    {
     "data": {
      "application/vnd.jupyter.widget-view+json": {
       "model_id": "eeeef8cee32745b2bac72d77e54542f4",
       "version_major": 2,
       "version_minor": 0
      },
      "text/plain": [
       "VBox(children=(Label(value='20.207 MB of 20.207 MB uploaded (20.110 MB deduped)\\r'), FloatProgress(value=1.0, …"
      ]
     },
     "metadata": {},
     "output_type": "display_data"
    },
    {
     "data": {
      "text/html": [
       "W&B sync reduced upload amount by 99.2%"
      ],
      "text/plain": [
       "<IPython.core.display.HTML object>"
      ]
     },
     "metadata": {},
     "output_type": "display_data"
    },
    {
     "data": {
      "text/html": [
       "<style>\n",
       "    table.wandb td:nth-child(1) { padding: 0 10px; text-align: left ; width: auto;} td:nth-child(2) {text-align: left ; width: 100%}\n",
       "    .wandb-row { display: flex; flex-direction: row; flex-wrap: wrap; justify-content: flex-start; width: 100% }\n",
       "    .wandb-col { display: flex; flex-direction: column; flex-basis: 100%; flex: 1; padding: 10px; }\n",
       "    </style>\n",
       "<div class=\"wandb-row\"><div class=\"wandb-col\"><h3>Run history:</h3><br/><table class=\"wandb\"><tr><td>iter_accuracy</td><td>▁▄▆▆▇▇▇▇▇▆█▇▇▆████▇█████████████████████</td></tr><tr><td>tr_accuracy</td><td>▁▄▅▅▅▆▆▇▇▇▇▇▇▇▇▇█████▇██████████████████</td></tr><tr><td>val_accuracy</td><td>▁▅▄▅▅▇▆█▆▆█▆▅▆▇▇▇█▇▆▆▆▇▇▇▇██████████████</td></tr></table><br/></div><div class=\"wandb-col\"><h3>Run summary:</h3><br/><table class=\"wandb\"><tr><td>iter_accuracy</td><td>100.0</td></tr><tr><td>tr_accuracy</td><td>100.0</td></tr><tr><td>val_accuracy</td><td>71.21212</td></tr></table><br/></div></div>"
      ],
      "text/plain": [
       "<IPython.core.display.HTML object>"
      ]
     },
     "metadata": {},
     "output_type": "display_data"
    },
    {
     "data": {
      "text/html": [
       " View run <strong style=\"color:#cdcd00\">proud-sweep-4</strong> at: <a href='https://wandb.ai/bhkim003-seoul-national-university/reservoir/runs/gujukf8z' target=\"_blank\">https://wandb.ai/bhkim003-seoul-national-university/reservoir/runs/gujukf8z</a><br/> View project at: <a href='https://wandb.ai/bhkim003-seoul-national-university/reservoir' target=\"_blank\">https://wandb.ai/bhkim003-seoul-national-university/reservoir</a><br/>Synced 7 W&B file(s), 0 media file(s), 28 artifact file(s) and 1 other file(s)"
      ],
      "text/plain": [
       "<IPython.core.display.HTML object>"
      ]
     },
     "metadata": {},
     "output_type": "display_data"
    },
    {
     "data": {
      "text/html": [
       "Find logs at: <code>./wandb/run-20240725_220451-gujukf8z/logs</code>"
      ],
      "text/plain": [
       "<IPython.core.display.HTML object>"
      ]
     },
     "metadata": {},
     "output_type": "display_data"
    },
    {
     "data": {
      "text/html": [
       "The new W&B backend becomes opt-out in version 0.18.0; try it out with `wandb.require(\"core\")`! See https://wandb.me/wandb-core for more information."
      ],
      "text/plain": [
       "<IPython.core.display.HTML object>"
      ]
     },
     "metadata": {},
     "output_type": "display_data"
    },
    {
     "name": "stderr",
     "output_type": "stream",
     "text": [
      "\u001b[34m\u001b[1mwandb\u001b[0m: Agent Starting Run: ople0xf5 with config:\n",
      "\u001b[34m\u001b[1mwandb\u001b[0m: \tEPOCH: 50\n",
      "\u001b[34m\u001b[1mwandb\u001b[0m: \tIMAGE_SIZE: 128\n",
      "\u001b[34m\u001b[1mwandb\u001b[0m: \tbatch_size: 64\n",
      "\u001b[34m\u001b[1mwandb\u001b[0m: \tdata_path: /data2\n",
      "\u001b[34m\u001b[1mwandb\u001b[0m: \tdecay: 0.7433764953907964\n",
      "\u001b[34m\u001b[1mwandb\u001b[0m: \tdvs_clipping: True\n",
      "\u001b[34m\u001b[1mwandb\u001b[0m: \tdvs_duration: 1000000\n",
      "\u001b[34m\u001b[1mwandb\u001b[0m: \tlearning_rate: 0.09197249270461652\n",
      "\u001b[34m\u001b[1mwandb\u001b[0m: \tno_reservoir: False\n",
      "\u001b[34m\u001b[1mwandb\u001b[0m: \tpre_spike_weight: 4.398281036478092\n",
      "\u001b[34m\u001b[1mwandb\u001b[0m: \trate_coding: True\n",
      "\u001b[34m\u001b[1mwandb\u001b[0m: \ttime_step: 7\n",
      "\u001b[34m\u001b[1mwandb\u001b[0m: \twhich_data: DVS_GESTURE\n",
      "Failed to detect the name of this notebook, you can set it manually with the WANDB_NOTEBOOK_NAME environment variable to enable code saving.\n"
     ]
    },
    {
     "data": {
      "text/html": [
       "Tracking run with wandb version 0.17.5"
      ],
      "text/plain": [
       "<IPython.core.display.HTML object>"
      ]
     },
     "metadata": {},
     "output_type": "display_data"
    },
    {
     "data": {
      "text/html": [
       "Run data is saved locally in <code>/nfs/home/bhkim003/github_folder/ByeonghyeonKim/my_snn/wandb/run-20240725_221405-ople0xf5</code>"
      ],
      "text/plain": [
       "<IPython.core.display.HTML object>"
      ]
     },
     "metadata": {},
     "output_type": "display_data"
    },
    {
     "data": {
      "text/html": [
       "Syncing run <strong><a href='https://wandb.ai/bhkim003-seoul-national-university/reservoir/runs/ople0xf5' target=\"_blank\">laced-sweep-5</a></strong> to <a href='https://wandb.ai/bhkim003-seoul-national-university/reservoir' target=\"_blank\">Weights & Biases</a> (<a href='https://wandb.me/run' target=\"_blank\">docs</a>)<br/>Sweep page: <a href='https://wandb.ai/bhkim003-seoul-national-university/reservoir/sweeps/0j0aowy8' target=\"_blank\">https://wandb.ai/bhkim003-seoul-national-university/reservoir/sweeps/0j0aowy8</a>"
      ],
      "text/plain": [
       "<IPython.core.display.HTML object>"
      ]
     },
     "metadata": {},
     "output_type": "display_data"
    },
    {
     "data": {
      "text/html": [
       " View project at <a href='https://wandb.ai/bhkim003-seoul-national-university/reservoir' target=\"_blank\">https://wandb.ai/bhkim003-seoul-national-university/reservoir</a>"
      ],
      "text/plain": [
       "<IPython.core.display.HTML object>"
      ]
     },
     "metadata": {},
     "output_type": "display_data"
    },
    {
     "data": {
      "text/html": [
       " View sweep at <a href='https://wandb.ai/bhkim003-seoul-national-university/reservoir/sweeps/0j0aowy8' target=\"_blank\">https://wandb.ai/bhkim003-seoul-national-university/reservoir/sweeps/0j0aowy8</a>"
      ],
      "text/plain": [
       "<IPython.core.display.HTML object>"
      ]
     },
     "metadata": {},
     "output_type": "display_data"
    },
    {
     "data": {
      "text/html": [
       " View run at <a href='https://wandb.ai/bhkim003-seoul-national-university/reservoir/runs/ople0xf5' target=\"_blank\">https://wandb.ai/bhkim003-seoul-national-university/reservoir/runs/ople0xf5</a>"
      ],
      "text/plain": [
       "<IPython.core.display.HTML object>"
      ]
     },
     "metadata": {},
     "output_type": "display_data"
    },
    {
     "name": "stderr",
     "output_type": "stream",
     "text": [
      "\u001b[34m\u001b[1mwandb\u001b[0m: \u001b[33mWARNING\u001b[0m Config item 'data_path' was locked by 'sweep' (ignored update).\n",
      "\u001b[34m\u001b[1mwandb\u001b[0m: \u001b[33mWARNING\u001b[0m Config item 'which_data' was locked by 'sweep' (ignored update).\n",
      "\u001b[34m\u001b[1mwandb\u001b[0m: \u001b[33mWARNING\u001b[0m Config item 'learning_rate' was locked by 'sweep' (ignored update).\n",
      "\u001b[34m\u001b[1mwandb\u001b[0m: \u001b[33mWARNING\u001b[0m Config item 'IMAGE_SIZE' was locked by 'sweep' (ignored update).\n",
      "\u001b[34m\u001b[1mwandb\u001b[0m: \u001b[33mWARNING\u001b[0m Config item 'EPOCH' was locked by 'sweep' (ignored update).\n",
      "\u001b[34m\u001b[1mwandb\u001b[0m: \u001b[33mWARNING\u001b[0m Config item 'rate_coding' was locked by 'sweep' (ignored update).\n",
      "\u001b[34m\u001b[1mwandb\u001b[0m: \u001b[33mWARNING\u001b[0m Config item 'pre_spike_weight' was locked by 'sweep' (ignored update).\n",
      "\u001b[34m\u001b[1mwandb\u001b[0m: \u001b[33mWARNING\u001b[0m Config item 'dvs_duration' was locked by 'sweep' (ignored update).\n",
      "\u001b[34m\u001b[1mwandb\u001b[0m: \u001b[33mWARNING\u001b[0m Config item 'dvs_clipping' was locked by 'sweep' (ignored update).\n",
      "\u001b[34m\u001b[1mwandb\u001b[0m: \u001b[33mWARNING\u001b[0m Config item 'no_reservoir' was locked by 'sweep' (ignored update).\n"
     ]
    },
    {
     "name": "stdout",
     "output_type": "stream",
     "text": [
      "The directory [/data2/gesture/duration_1000000] already exists.\n",
      "The directory [/data2/gesture/duration_1000000] already exists.\n",
      "RESERVOIR_NET(\n",
      "  (reservoir): RESERVOIR(\n",
      "    (conv_depthwise): Conv2d(2, 2, kernel_size=(3, 3), stride=(1, 1), padding=(1, 1), groups=2)\n",
      "  )\n",
      "  (linear): Linear(in_features=32768, out_features=10, bias=True)\n",
      ")\n",
      "Epoch 1\n",
      "Train Accuracy: 29.87%\n",
      "Test loss: 69.271, Accuracy: 38.64%\n",
      "Epoch 2\n",
      "Train Accuracy: 51.02%\n",
      "Test loss: 35.998, Accuracy: 49.24%\n",
      "Epoch 3\n",
      "Train Accuracy: 63.54%\n",
      "Test loss: 46.744, Accuracy: 63.64%\n",
      "Epoch 4\n",
      "Train Accuracy: 70.78%\n",
      "Test loss: 48.027, Accuracy: 53.03%\n",
      "Epoch 5\n",
      "Train Accuracy: 75.32%\n",
      "Test loss: 49.439, Accuracy: 58.71%\n",
      "Epoch 6\n",
      "Train Accuracy: 82.00%\n",
      "Test loss: 32.129, Accuracy: 59.85%\n",
      "Epoch 7\n",
      "Train Accuracy: 81.26%\n",
      "Test loss: 25.686, Accuracy: 66.29%\n",
      "Epoch 8\n",
      "Train Accuracy: 75.51%\n",
      "Test loss: 26.636, Accuracy: 62.88%\n",
      "Epoch 9\n",
      "Train Accuracy: 80.06%\n",
      "Test loss: 49.149, Accuracy: 60.98%\n",
      "Epoch 10\n",
      "Train Accuracy: 89.15%\n",
      "Test loss: 28.801, Accuracy: 64.77%\n",
      "Epoch 11\n",
      "Train Accuracy: 96.01%\n",
      "Test loss: 30.069, Accuracy: 61.74%\n",
      "Epoch 12\n",
      "Train Accuracy: 94.81%\n",
      "Test loss: 23.718, Accuracy: 65.91%\n",
      "Epoch 13\n",
      "Train Accuracy: 97.68%\n",
      "Test loss: 21.534, Accuracy: 68.56%\n",
      "Epoch 14\n",
      "Train Accuracy: 96.75%\n",
      "Test loss: 28.007, Accuracy: 63.26%\n",
      "Epoch 15\n",
      "Train Accuracy: 96.20%\n",
      "Test loss: 28.349, Accuracy: 66.67%\n",
      "Epoch 16\n",
      "Train Accuracy: 96.38%\n",
      "Test loss: 37.185, Accuracy: 62.88%\n",
      "Epoch 17\n",
      "Train Accuracy: 96.75%\n",
      "Test loss: 23.939, Accuracy: 63.64%\n",
      "Epoch 18\n",
      "Train Accuracy: 97.50%\n",
      "Test loss: 21.429, Accuracy: 69.32%\n",
      "Epoch 19\n",
      "Train Accuracy: 99.35%\n",
      "Test loss: 21.518, Accuracy: 70.08%\n",
      "Epoch 20\n",
      "Train Accuracy: 98.61%\n",
      "Test loss: 22.388, Accuracy: 65.53%\n",
      "Epoch 21\n",
      "Train Accuracy: 93.78%\n",
      "Test loss: 29.566, Accuracy: 70.08%\n",
      "Epoch 22\n",
      "Train Accuracy: 93.32%\n",
      "Test loss: 23.231, Accuracy: 70.45%\n",
      "Epoch 23\n",
      "Train Accuracy: 98.33%\n",
      "Test loss: 24.128, Accuracy: 67.42%\n",
      "Epoch 24\n",
      "Train Accuracy: 98.24%\n",
      "Test loss: 30.175, Accuracy: 63.26%\n",
      "Epoch 25\n",
      "Train Accuracy: 97.68%\n",
      "Test loss: 31.544, Accuracy: 64.39%\n",
      "Epoch 26\n",
      "Train Accuracy: 94.25%\n",
      "Test loss: 32.215, Accuracy: 62.50%\n",
      "Epoch 27\n",
      "Train Accuracy: 95.83%\n",
      "Test loss: 22.382, Accuracy: 68.94%\n",
      "Epoch 28\n",
      "Train Accuracy: 97.50%\n",
      "Test loss: 23.079, Accuracy: 72.73%\n",
      "Epoch 29\n",
      "Train Accuracy: 97.59%\n",
      "Test loss: 22.302, Accuracy: 69.32%\n",
      "Epoch 30\n",
      "Train Accuracy: 96.57%\n",
      "Test loss: 27.899, Accuracy: 65.53%\n",
      "Epoch 31\n",
      "Train Accuracy: 98.05%\n",
      "Test loss: 25.816, Accuracy: 64.39%\n",
      "Epoch 32\n",
      "Train Accuracy: 98.52%\n",
      "Test loss: 26.828, Accuracy: 62.12%\n",
      "Epoch 33\n",
      "Train Accuracy: 99.63%\n",
      "Test loss: 21.515, Accuracy: 67.05%\n",
      "Epoch 34\n",
      "Train Accuracy: 99.54%\n",
      "Test loss: 22.551, Accuracy: 65.15%\n",
      "Epoch 35\n",
      "Train Accuracy: 96.94%\n",
      "Test loss: 24.231, Accuracy: 61.74%\n",
      "Epoch 36\n",
      "Train Accuracy: 98.89%\n",
      "Test loss: 25.344, Accuracy: 64.39%\n",
      "Epoch 37\n",
      "Train Accuracy: 98.33%\n",
      "Test loss: 23.188, Accuracy: 67.42%\n",
      "Epoch 38\n",
      "Train Accuracy: 99.26%\n",
      "Test loss: 25.206, Accuracy: 63.64%\n",
      "Epoch 39\n",
      "Train Accuracy: 96.94%\n",
      "Test loss: 21.031, Accuracy: 71.97%\n",
      "Epoch 40\n",
      "Train Accuracy: 94.99%\n",
      "Test loss: 29.023, Accuracy: 62.50%\n",
      "Epoch 41\n",
      "Train Accuracy: 93.78%\n",
      "Test loss: 39.190, Accuracy: 63.26%\n",
      "Epoch 42\n",
      "Train Accuracy: 97.40%\n",
      "Test loss: 24.398, Accuracy: 66.29%\n",
      "Epoch 43\n",
      "Train Accuracy: 99.72%\n",
      "Test loss: 28.251, Accuracy: 66.29%\n",
      "Epoch 44\n",
      "Train Accuracy: 99.91%\n",
      "Test loss: 28.530, Accuracy: 68.94%\n",
      "Epoch 45\n",
      "Train Accuracy: 99.91%\n",
      "Test loss: 26.321, Accuracy: 66.29%\n",
      "Epoch 46\n",
      "Train Accuracy: 100.00%\n",
      "Test loss: 26.461, Accuracy: 65.91%\n",
      "Epoch 47\n",
      "Train Accuracy: 100.00%\n",
      "Test loss: 27.455, Accuracy: 65.15%\n",
      "Epoch 48\n",
      "Train Accuracy: 99.07%\n",
      "Test loss: 29.490, Accuracy: 62.50%\n",
      "Epoch 49\n",
      "Train Accuracy: 99.63%\n",
      "Test loss: 26.397, Accuracy: 67.80%\n",
      "Epoch 50\n",
      "Train Accuracy: 99.54%\n",
      "Test loss: 28.417, Accuracy: 64.77%\n"
     ]
    },
    {
     "data": {
      "application/vnd.jupyter.widget-view+json": {
       "model_id": "f8413d8339c145128828f0fd4fac059a",
       "version_major": 2,
       "version_minor": 0
      },
      "text/plain": [
       "VBox(children=(Label(value='0.086 MB of 0.086 MB uploaded\\r'), FloatProgress(value=1.0, max=1.0)))"
      ]
     },
     "metadata": {},
     "output_type": "display_data"
    },
    {
     "data": {
      "text/html": [
       "<style>\n",
       "    table.wandb td:nth-child(1) { padding: 0 10px; text-align: left ; width: auto;} td:nth-child(2) {text-align: left ; width: 100%}\n",
       "    .wandb-row { display: flex; flex-direction: row; flex-wrap: wrap; justify-content: flex-start; width: 100% }\n",
       "    .wandb-col { display: flex; flex-direction: column; flex-basis: 100%; flex: 1; padding: 10px; }\n",
       "    </style>\n",
       "<div class=\"wandb-row\"><div class=\"wandb-col\"><h3>Run history:</h3><br/><table class=\"wandb\"><tr><td>iter_accuracy</td><td>▁▂▄▆▆▆▅▇███▇████▆███▇███▇██▇████▇███████</td></tr><tr><td>tr_accuracy</td><td>▁▃▄▅▆▆▆▆█▇██████▇▇██▇███████████▇███████</td></tr><tr><td>val_accuracy</td><td>▁▃▆▄▅▇▆▆▆▇▇▆▆▆▇▇▇█▇▆▆▇█▇▆▆▇▆▆▇▆█▆▇▇▇▇▆▆▆</td></tr></table><br/></div><div class=\"wandb-col\"><h3>Run summary:</h3><br/><table class=\"wandb\"><tr><td>iter_accuracy</td><td>98.14815</td></tr><tr><td>tr_accuracy</td><td>99.53618</td></tr><tr><td>val_accuracy</td><td>64.77273</td></tr></table><br/></div></div>"
      ],
      "text/plain": [
       "<IPython.core.display.HTML object>"
      ]
     },
     "metadata": {},
     "output_type": "display_data"
    },
    {
     "data": {
      "text/html": [
       " View run <strong style=\"color:#cdcd00\">laced-sweep-5</strong> at: <a href='https://wandb.ai/bhkim003-seoul-national-university/reservoir/runs/ople0xf5' target=\"_blank\">https://wandb.ai/bhkim003-seoul-national-university/reservoir/runs/ople0xf5</a><br/> View project at: <a href='https://wandb.ai/bhkim003-seoul-national-university/reservoir' target=\"_blank\">https://wandb.ai/bhkim003-seoul-national-university/reservoir</a><br/>Synced 7 W&B file(s), 0 media file(s), 0 artifact file(s) and 1 other file(s)"
      ],
      "text/plain": [
       "<IPython.core.display.HTML object>"
      ]
     },
     "metadata": {},
     "output_type": "display_data"
    },
    {
     "data": {
      "text/html": [
       "Find logs at: <code>./wandb/run-20240725_221405-ople0xf5/logs</code>"
      ],
      "text/plain": [
       "<IPython.core.display.HTML object>"
      ]
     },
     "metadata": {},
     "output_type": "display_data"
    },
    {
     "data": {
      "text/html": [
       "The new W&B backend becomes opt-out in version 0.18.0; try it out with `wandb.require(\"core\")`! See https://wandb.me/wandb-core for more information."
      ],
      "text/plain": [
       "<IPython.core.display.HTML object>"
      ]
     },
     "metadata": {},
     "output_type": "display_data"
    },
    {
     "name": "stderr",
     "output_type": "stream",
     "text": [
      "\u001b[34m\u001b[1mwandb\u001b[0m: Agent Starting Run: oc8zkni8 with config:\n",
      "\u001b[34m\u001b[1mwandb\u001b[0m: \tEPOCH: 50\n",
      "\u001b[34m\u001b[1mwandb\u001b[0m: \tIMAGE_SIZE: 16\n",
      "\u001b[34m\u001b[1mwandb\u001b[0m: \tbatch_size: 128\n",
      "\u001b[34m\u001b[1mwandb\u001b[0m: \tdata_path: /data2\n",
      "\u001b[34m\u001b[1mwandb\u001b[0m: \tdecay: 0.3611843331439243\n",
      "\u001b[34m\u001b[1mwandb\u001b[0m: \tdvs_clipping: True\n",
      "\u001b[34m\u001b[1mwandb\u001b[0m: \tdvs_duration: 1000000\n",
      "\u001b[34m\u001b[1mwandb\u001b[0m: \tlearning_rate: 0.08997279801014185\n",
      "\u001b[34m\u001b[1mwandb\u001b[0m: \tno_reservoir: True\n",
      "\u001b[34m\u001b[1mwandb\u001b[0m: \tpre_spike_weight: 7.614922164709696\n",
      "\u001b[34m\u001b[1mwandb\u001b[0m: \trate_coding: False\n",
      "\u001b[34m\u001b[1mwandb\u001b[0m: \ttime_step: 8\n",
      "\u001b[34m\u001b[1mwandb\u001b[0m: \twhich_data: DVS_GESTURE\n",
      "Failed to detect the name of this notebook, you can set it manually with the WANDB_NOTEBOOK_NAME environment variable to enable code saving.\n"
     ]
    },
    {
     "data": {
      "application/vnd.jupyter.widget-view+json": {
       "model_id": "83588302ebe247f3b79bb635992edd71",
       "version_major": 2,
       "version_minor": 0
      },
      "text/plain": [
       "VBox(children=(Label(value='Waiting for wandb.init()...\\r'), FloatProgress(value=0.011113399365502928, max=1.0…"
      ]
     },
     "metadata": {},
     "output_type": "display_data"
    },
    {
     "data": {
      "text/html": [
       "Tracking run with wandb version 0.17.5"
      ],
      "text/plain": [
       "<IPython.core.display.HTML object>"
      ]
     },
     "metadata": {},
     "output_type": "display_data"
    },
    {
     "data": {
      "text/html": [
       "Run data is saved locally in <code>/nfs/home/bhkim003/github_folder/ByeonghyeonKim/my_snn/wandb/run-20240725_222351-oc8zkni8</code>"
      ],
      "text/plain": [
       "<IPython.core.display.HTML object>"
      ]
     },
     "metadata": {},
     "output_type": "display_data"
    },
    {
     "data": {
      "text/html": [
       "Syncing run <strong><a href='https://wandb.ai/bhkim003-seoul-national-university/reservoir/runs/oc8zkni8' target=\"_blank\">helpful-sweep-6</a></strong> to <a href='https://wandb.ai/bhkim003-seoul-national-university/reservoir' target=\"_blank\">Weights & Biases</a> (<a href='https://wandb.me/run' target=\"_blank\">docs</a>)<br/>Sweep page: <a href='https://wandb.ai/bhkim003-seoul-national-university/reservoir/sweeps/0j0aowy8' target=\"_blank\">https://wandb.ai/bhkim003-seoul-national-university/reservoir/sweeps/0j0aowy8</a>"
      ],
      "text/plain": [
       "<IPython.core.display.HTML object>"
      ]
     },
     "metadata": {},
     "output_type": "display_data"
    },
    {
     "data": {
      "text/html": [
       " View project at <a href='https://wandb.ai/bhkim003-seoul-national-university/reservoir' target=\"_blank\">https://wandb.ai/bhkim003-seoul-national-university/reservoir</a>"
      ],
      "text/plain": [
       "<IPython.core.display.HTML object>"
      ]
     },
     "metadata": {},
     "output_type": "display_data"
    },
    {
     "data": {
      "text/html": [
       " View sweep at <a href='https://wandb.ai/bhkim003-seoul-national-university/reservoir/sweeps/0j0aowy8' target=\"_blank\">https://wandb.ai/bhkim003-seoul-national-university/reservoir/sweeps/0j0aowy8</a>"
      ],
      "text/plain": [
       "<IPython.core.display.HTML object>"
      ]
     },
     "metadata": {},
     "output_type": "display_data"
    },
    {
     "data": {
      "text/html": [
       " View run at <a href='https://wandb.ai/bhkim003-seoul-national-university/reservoir/runs/oc8zkni8' target=\"_blank\">https://wandb.ai/bhkim003-seoul-national-university/reservoir/runs/oc8zkni8</a>"
      ],
      "text/plain": [
       "<IPython.core.display.HTML object>"
      ]
     },
     "metadata": {},
     "output_type": "display_data"
    },
    {
     "name": "stderr",
     "output_type": "stream",
     "text": [
      "\u001b[34m\u001b[1mwandb\u001b[0m: \u001b[33mWARNING\u001b[0m Config item 'data_path' was locked by 'sweep' (ignored update).\n",
      "\u001b[34m\u001b[1mwandb\u001b[0m: \u001b[33mWARNING\u001b[0m Config item 'which_data' was locked by 'sweep' (ignored update).\n",
      "\u001b[34m\u001b[1mwandb\u001b[0m: \u001b[33mWARNING\u001b[0m Config item 'learning_rate' was locked by 'sweep' (ignored update).\n",
      "\u001b[34m\u001b[1mwandb\u001b[0m: \u001b[33mWARNING\u001b[0m Config item 'IMAGE_SIZE' was locked by 'sweep' (ignored update).\n",
      "\u001b[34m\u001b[1mwandb\u001b[0m: \u001b[33mWARNING\u001b[0m Config item 'EPOCH' was locked by 'sweep' (ignored update).\n",
      "\u001b[34m\u001b[1mwandb\u001b[0m: \u001b[33mWARNING\u001b[0m Config item 'rate_coding' was locked by 'sweep' (ignored update).\n",
      "\u001b[34m\u001b[1mwandb\u001b[0m: \u001b[33mWARNING\u001b[0m Config item 'pre_spike_weight' was locked by 'sweep' (ignored update).\n",
      "\u001b[34m\u001b[1mwandb\u001b[0m: \u001b[33mWARNING\u001b[0m Config item 'dvs_duration' was locked by 'sweep' (ignored update).\n",
      "\u001b[34m\u001b[1mwandb\u001b[0m: \u001b[33mWARNING\u001b[0m Config item 'dvs_clipping' was locked by 'sweep' (ignored update).\n",
      "\u001b[34m\u001b[1mwandb\u001b[0m: \u001b[33mWARNING\u001b[0m Config item 'no_reservoir' was locked by 'sweep' (ignored update).\n"
     ]
    },
    {
     "name": "stdout",
     "output_type": "stream",
     "text": [
      "The directory [/data2/gesture/duration_1000000] already exists.\n",
      "The directory [/data2/gesture/duration_1000000] already exists.\n",
      "NO_RESERVOIR_NET(\n",
      "  (reservoir): RESERVOIR(\n",
      "    (conv_depthwise): Conv2d(2, 2, kernel_size=(3, 3), stride=(1, 1), padding=(1, 1), groups=2)\n",
      "  )\n",
      "  (linear): Linear(in_features=512, out_features=10, bias=True)\n",
      ")\n",
      "Epoch 1\n",
      "Train Accuracy: 29.68%\n",
      "Test loss: 1.614, Accuracy: 35.61%\n",
      "Epoch 2\n",
      "Train Accuracy: 49.17%\n",
      "Test loss: 1.345, Accuracy: 49.24%\n",
      "Epoch 3\n",
      "Train Accuracy: 57.33%\n",
      "Test loss: 1.425, Accuracy: 53.03%\n",
      "Epoch 4\n",
      "Train Accuracy: 60.48%\n",
      "Test loss: 1.646, Accuracy: 53.03%\n",
      "Epoch 5\n",
      "Train Accuracy: 64.94%\n",
      "Test loss: 1.626, Accuracy: 56.82%\n",
      "Epoch 6\n",
      "Train Accuracy: 72.36%\n",
      "Test loss: 1.619, Accuracy: 59.85%\n",
      "Epoch 7\n",
      "Train Accuracy: 75.60%\n",
      "Test loss: 1.562, Accuracy: 61.74%\n",
      "Epoch 8\n",
      "Train Accuracy: 74.77%\n",
      "Test loss: 1.373, Accuracy: 63.64%\n",
      "Epoch 9\n",
      "Train Accuracy: 81.54%\n",
      "Test loss: 1.397, Accuracy: 62.12%\n",
      "Epoch 10\n",
      "Train Accuracy: 77.83%\n",
      "Test loss: 1.569, Accuracy: 60.61%\n",
      "Epoch 11\n",
      "Train Accuracy: 83.21%\n",
      "Test loss: 1.330, Accuracy: 67.05%\n",
      "Epoch 12\n",
      "Train Accuracy: 82.47%\n",
      "Test loss: 1.135, Accuracy: 66.67%\n",
      "Epoch 13\n",
      "Train Accuracy: 84.79%\n",
      "Test loss: 1.166, Accuracy: 65.91%\n",
      "Epoch 14\n",
      "Train Accuracy: 85.90%\n",
      "Test loss: 1.202, Accuracy: 62.88%\n",
      "Epoch 15\n",
      "Train Accuracy: 85.99%\n",
      "Test loss: 1.567, Accuracy: 62.88%\n",
      "Epoch 16\n",
      "Train Accuracy: 87.38%\n",
      "Test loss: 1.412, Accuracy: 60.61%\n",
      "Epoch 17\n",
      "Train Accuracy: 84.51%\n",
      "Test loss: 1.288, Accuracy: 63.64%\n",
      "Epoch 18\n",
      "Train Accuracy: 88.03%\n",
      "Test loss: 1.340, Accuracy: 60.98%\n",
      "Epoch 19\n",
      "Train Accuracy: 89.24%\n",
      "Test loss: 1.449, Accuracy: 62.12%\n",
      "Epoch 20\n",
      "Train Accuracy: 89.24%\n",
      "Test loss: 1.348, Accuracy: 66.29%\n",
      "Epoch 21\n",
      "Train Accuracy: 85.16%\n",
      "Test loss: 1.542, Accuracy: 65.53%\n",
      "Epoch 22\n",
      "Train Accuracy: 88.78%\n",
      "Test loss: 1.685, Accuracy: 60.98%\n",
      "Epoch 23\n",
      "Train Accuracy: 91.93%\n",
      "Test loss: 1.278, Accuracy: 65.91%\n",
      "Epoch 24\n",
      "Train Accuracy: 88.87%\n",
      "Test loss: 1.609, Accuracy: 64.02%\n",
      "Epoch 25\n",
      "Train Accuracy: 91.65%\n",
      "Test loss: 1.669, Accuracy: 64.77%\n",
      "Epoch 26\n",
      "Train Accuracy: 90.82%\n",
      "Test loss: 1.576, Accuracy: 65.53%\n",
      "Epoch 27\n",
      "Train Accuracy: 92.39%\n",
      "Test loss: 1.614, Accuracy: 61.74%\n",
      "Epoch 28\n",
      "Train Accuracy: 89.33%\n",
      "Test loss: 1.547, Accuracy: 62.50%\n",
      "Epoch 29\n",
      "Train Accuracy: 87.38%\n",
      "Test loss: 1.465, Accuracy: 62.88%\n",
      "Epoch 30\n",
      "Train Accuracy: 88.78%\n",
      "Test loss: 1.493, Accuracy: 66.67%\n",
      "Epoch 31\n",
      "Train Accuracy: 89.52%\n",
      "Test loss: 1.586, Accuracy: 65.53%\n",
      "Epoch 32\n",
      "Train Accuracy: 93.69%\n",
      "Test loss: 1.397, Accuracy: 65.53%\n",
      "Epoch 33\n",
      "Train Accuracy: 95.55%\n",
      "Test loss: 1.524, Accuracy: 62.88%\n",
      "Epoch 34\n",
      "Train Accuracy: 93.04%\n",
      "Test loss: 1.553, Accuracy: 63.26%\n",
      "Epoch 35\n",
      "Train Accuracy: 92.95%\n",
      "Test loss: 1.605, Accuracy: 62.88%\n",
      "Epoch 36\n",
      "Train Accuracy: 95.08%\n",
      "Test loss: 1.462, Accuracy: 63.64%\n",
      "Epoch 37\n",
      "Train Accuracy: 93.97%\n",
      "Test loss: 1.707, Accuracy: 60.98%\n",
      "Epoch 38\n",
      "Train Accuracy: 94.71%\n",
      "Test loss: 1.577, Accuracy: 62.88%\n",
      "Epoch 39\n",
      "Train Accuracy: 95.36%\n",
      "Test loss: 1.573, Accuracy: 65.53%\n",
      "Epoch 40\n",
      "Train Accuracy: 97.12%\n",
      "Test loss: 1.758, Accuracy: 62.50%\n",
      "Epoch 41\n",
      "Train Accuracy: 96.20%\n",
      "Test loss: 1.696, Accuracy: 64.77%\n",
      "Epoch 42\n",
      "Train Accuracy: 97.31%\n",
      "Test loss: 1.659, Accuracy: 64.77%\n",
      "Epoch 43\n",
      "Train Accuracy: 97.50%\n",
      "Test loss: 1.455, Accuracy: 62.50%\n",
      "Epoch 44\n",
      "Train Accuracy: 97.59%\n",
      "Test loss: 1.637, Accuracy: 64.77%\n",
      "Epoch 45\n",
      "Train Accuracy: 95.92%\n",
      "Test loss: 1.860, Accuracy: 61.74%\n",
      "Epoch 46\n",
      "Train Accuracy: 94.90%\n",
      "Test loss: 1.743, Accuracy: 63.64%\n",
      "Epoch 47\n",
      "Train Accuracy: 97.03%\n",
      "Test loss: 1.641, Accuracy: 61.36%\n",
      "Epoch 48\n",
      "Train Accuracy: 96.57%\n",
      "Test loss: 1.524, Accuracy: 61.74%\n",
      "Epoch 49\n",
      "Train Accuracy: 96.57%\n",
      "Test loss: 1.472, Accuracy: 66.29%\n",
      "Epoch 50\n",
      "Train Accuracy: 96.57%\n",
      "Test loss: 1.736, Accuracy: 65.15%\n"
     ]
    },
    {
     "data": {
      "application/vnd.jupyter.widget-view+json": {
       "model_id": "11c689ac1da64ad399b2f4f26dacbf39",
       "version_major": 2,
       "version_minor": 0
      },
      "text/plain": [
       "VBox(children=(Label(value='0.086 MB of 0.086 MB uploaded\\r'), FloatProgress(value=1.0, max=1.0)))"
      ]
     },
     "metadata": {},
     "output_type": "display_data"
    },
    {
     "data": {
      "text/html": [
       "<style>\n",
       "    table.wandb td:nth-child(1) { padding: 0 10px; text-align: left ; width: auto;} td:nth-child(2) {text-align: left ; width: 100%}\n",
       "    .wandb-row { display: flex; flex-direction: row; flex-wrap: wrap; justify-content: flex-start; width: 100% }\n",
       "    .wandb-col { display: flex; flex-direction: column; flex-basis: 100%; flex: 1; padding: 10px; }\n",
       "    </style>\n",
       "<div class=\"wandb-row\"><div class=\"wandb-col\"><h3>Run history:</h3><br/><table class=\"wandb\"><tr><td>iter_accuracy</td><td>▁▃▄▅▆▅▅▇▇▇▇▇█▇▆▇▇▇▇▇▇█▇▆▆█▇▇█▇▇█████████</td></tr><tr><td>tr_accuracy</td><td>▁▃▄▄▅▆▆▆▇▆▇▇▇▇▇▇▇▇▇▇▇▇▇▇▇███████████████</td></tr><tr><td>val_accuracy</td><td>▁▄▅▅▆▇▇▇███▇▇▇▇▇█▇█▇█▇▇▇██▇▇▇▇▇█▇▇▇▇▇▇▇█</td></tr></table><br/></div><div class=\"wandb-col\"><h3>Run summary:</h3><br/><table class=\"wandb\"><tr><td>iter_accuracy</td><td>96.2963</td></tr><tr><td>tr_accuracy</td><td>96.56772</td></tr><tr><td>val_accuracy</td><td>65.15152</td></tr></table><br/></div></div>"
      ],
      "text/plain": [
       "<IPython.core.display.HTML object>"
      ]
     },
     "metadata": {},
     "output_type": "display_data"
    },
    {
     "data": {
      "text/html": [
       " View run <strong style=\"color:#cdcd00\">helpful-sweep-6</strong> at: <a href='https://wandb.ai/bhkim003-seoul-national-university/reservoir/runs/oc8zkni8' target=\"_blank\">https://wandb.ai/bhkim003-seoul-national-university/reservoir/runs/oc8zkni8</a><br/> View project at: <a href='https://wandb.ai/bhkim003-seoul-national-university/reservoir' target=\"_blank\">https://wandb.ai/bhkim003-seoul-national-university/reservoir</a><br/>Synced 7 W&B file(s), 0 media file(s), 0 artifact file(s) and 1 other file(s)"
      ],
      "text/plain": [
       "<IPython.core.display.HTML object>"
      ]
     },
     "metadata": {},
     "output_type": "display_data"
    },
    {
     "data": {
      "text/html": [
       "Find logs at: <code>./wandb/run-20240725_222351-oc8zkni8/logs</code>"
      ],
      "text/plain": [
       "<IPython.core.display.HTML object>"
      ]
     },
     "metadata": {},
     "output_type": "display_data"
    },
    {
     "data": {
      "text/html": [
       "The new W&B backend becomes opt-out in version 0.18.0; try it out with `wandb.require(\"core\")`! See https://wandb.me/wandb-core for more information."
      ],
      "text/plain": [
       "<IPython.core.display.HTML object>"
      ]
     },
     "metadata": {},
     "output_type": "display_data"
    },
    {
     "name": "stderr",
     "output_type": "stream",
     "text": [
      "\u001b[34m\u001b[1mwandb\u001b[0m: Agent Starting Run: n3p7j71u with config:\n",
      "\u001b[34m\u001b[1mwandb\u001b[0m: \tEPOCH: 50\n",
      "\u001b[34m\u001b[1mwandb\u001b[0m: \tIMAGE_SIZE: 48\n",
      "\u001b[34m\u001b[1mwandb\u001b[0m: \tbatch_size: 256\n",
      "\u001b[34m\u001b[1mwandb\u001b[0m: \tdata_path: /data2\n",
      "\u001b[34m\u001b[1mwandb\u001b[0m: \tdecay: 0.4620533099321126\n",
      "\u001b[34m\u001b[1mwandb\u001b[0m: \tdvs_clipping: True\n",
      "\u001b[34m\u001b[1mwandb\u001b[0m: \tdvs_duration: 1000000\n",
      "\u001b[34m\u001b[1mwandb\u001b[0m: \tlearning_rate: 0.046370220459501885\n",
      "\u001b[34m\u001b[1mwandb\u001b[0m: \tno_reservoir: False\n",
      "\u001b[34m\u001b[1mwandb\u001b[0m: \tpre_spike_weight: 4.133746380396319\n",
      "\u001b[34m\u001b[1mwandb\u001b[0m: \trate_coding: True\n",
      "\u001b[34m\u001b[1mwandb\u001b[0m: \ttime_step: 4\n",
      "\u001b[34m\u001b[1mwandb\u001b[0m: \twhich_data: DVS_GESTURE\n",
      "Failed to detect the name of this notebook, you can set it manually with the WANDB_NOTEBOOK_NAME environment variable to enable code saving.\n"
     ]
    },
    {
     "data": {
      "text/html": [
       "Tracking run with wandb version 0.17.5"
      ],
      "text/plain": [
       "<IPython.core.display.HTML object>"
      ]
     },
     "metadata": {},
     "output_type": "display_data"
    },
    {
     "data": {
      "text/html": [
       "Run data is saved locally in <code>/nfs/home/bhkim003/github_folder/ByeonghyeonKim/my_snn/wandb/run-20240725_223041-n3p7j71u</code>"
      ],
      "text/plain": [
       "<IPython.core.display.HTML object>"
      ]
     },
     "metadata": {},
     "output_type": "display_data"
    },
    {
     "data": {
      "text/html": [
       "Syncing run <strong><a href='https://wandb.ai/bhkim003-seoul-national-university/reservoir/runs/n3p7j71u' target=\"_blank\">snowy-sweep-7</a></strong> to <a href='https://wandb.ai/bhkim003-seoul-national-university/reservoir' target=\"_blank\">Weights & Biases</a> (<a href='https://wandb.me/run' target=\"_blank\">docs</a>)<br/>Sweep page: <a href='https://wandb.ai/bhkim003-seoul-national-university/reservoir/sweeps/0j0aowy8' target=\"_blank\">https://wandb.ai/bhkim003-seoul-national-university/reservoir/sweeps/0j0aowy8</a>"
      ],
      "text/plain": [
       "<IPython.core.display.HTML object>"
      ]
     },
     "metadata": {},
     "output_type": "display_data"
    },
    {
     "data": {
      "text/html": [
       " View project at <a href='https://wandb.ai/bhkim003-seoul-national-university/reservoir' target=\"_blank\">https://wandb.ai/bhkim003-seoul-national-university/reservoir</a>"
      ],
      "text/plain": [
       "<IPython.core.display.HTML object>"
      ]
     },
     "metadata": {},
     "output_type": "display_data"
    },
    {
     "data": {
      "text/html": [
       " View sweep at <a href='https://wandb.ai/bhkim003-seoul-national-university/reservoir/sweeps/0j0aowy8' target=\"_blank\">https://wandb.ai/bhkim003-seoul-national-university/reservoir/sweeps/0j0aowy8</a>"
      ],
      "text/plain": [
       "<IPython.core.display.HTML object>"
      ]
     },
     "metadata": {},
     "output_type": "display_data"
    },
    {
     "data": {
      "text/html": [
       " View run at <a href='https://wandb.ai/bhkim003-seoul-national-university/reservoir/runs/n3p7j71u' target=\"_blank\">https://wandb.ai/bhkim003-seoul-national-university/reservoir/runs/n3p7j71u</a>"
      ],
      "text/plain": [
       "<IPython.core.display.HTML object>"
      ]
     },
     "metadata": {},
     "output_type": "display_data"
    },
    {
     "name": "stderr",
     "output_type": "stream",
     "text": [
      "\u001b[34m\u001b[1mwandb\u001b[0m: \u001b[33mWARNING\u001b[0m Config item 'data_path' was locked by 'sweep' (ignored update).\n",
      "\u001b[34m\u001b[1mwandb\u001b[0m: \u001b[33mWARNING\u001b[0m Config item 'which_data' was locked by 'sweep' (ignored update).\n",
      "\u001b[34m\u001b[1mwandb\u001b[0m: \u001b[33mWARNING\u001b[0m Config item 'learning_rate' was locked by 'sweep' (ignored update).\n",
      "\u001b[34m\u001b[1mwandb\u001b[0m: \u001b[33mWARNING\u001b[0m Config item 'IMAGE_SIZE' was locked by 'sweep' (ignored update).\n",
      "\u001b[34m\u001b[1mwandb\u001b[0m: \u001b[33mWARNING\u001b[0m Config item 'EPOCH' was locked by 'sweep' (ignored update).\n",
      "\u001b[34m\u001b[1mwandb\u001b[0m: \u001b[33mWARNING\u001b[0m Config item 'rate_coding' was locked by 'sweep' (ignored update).\n",
      "\u001b[34m\u001b[1mwandb\u001b[0m: \u001b[33mWARNING\u001b[0m Config item 'pre_spike_weight' was locked by 'sweep' (ignored update).\n",
      "\u001b[34m\u001b[1mwandb\u001b[0m: \u001b[33mWARNING\u001b[0m Config item 'dvs_duration' was locked by 'sweep' (ignored update).\n",
      "\u001b[34m\u001b[1mwandb\u001b[0m: \u001b[33mWARNING\u001b[0m Config item 'dvs_clipping' was locked by 'sweep' (ignored update).\n",
      "\u001b[34m\u001b[1mwandb\u001b[0m: \u001b[33mWARNING\u001b[0m Config item 'no_reservoir' was locked by 'sweep' (ignored update).\n"
     ]
    },
    {
     "name": "stdout",
     "output_type": "stream",
     "text": [
      "The directory [/data2/gesture/duration_1000000] already exists.\n",
      "The directory [/data2/gesture/duration_1000000] already exists.\n",
      "RESERVOIR_NET(\n",
      "  (reservoir): RESERVOIR(\n",
      "    (conv_depthwise): Conv2d(2, 2, kernel_size=(3, 3), stride=(1, 1), padding=(1, 1), groups=2)\n",
      "  )\n",
      "  (linear): Linear(in_features=4608, out_features=10, bias=True)\n",
      ")\n",
      "Epoch 1\n",
      "Train Accuracy: 11.78%\n",
      "Test loss: 29.508, Accuracy: 16.29%\n",
      "Epoch 2\n",
      "Train Accuracy: 15.40%\n",
      "Test loss: 106.145, Accuracy: 9.09%\n",
      "Epoch 3\n",
      "Train Accuracy: 18.83%\n",
      "Test loss: 58.238, Accuracy: 9.09%\n",
      "Epoch 4\n",
      "Train Accuracy: 18.27%\n",
      "Test loss: 20.857, Accuracy: 25.00%\n",
      "Epoch 5\n",
      "Train Accuracy: 27.92%\n",
      "Test loss: 43.418, Accuracy: 22.73%\n",
      "Epoch 6\n",
      "Train Accuracy: 27.46%\n",
      "Test loss: 25.009, Accuracy: 38.64%\n",
      "Epoch 7\n",
      "Train Accuracy: 40.07%\n",
      "Test loss: 8.459, Accuracy: 46.21%\n",
      "Epoch 8\n",
      "Train Accuracy: 47.22%\n",
      "Test loss: 12.601, Accuracy: 43.56%\n",
      "Epoch 9\n",
      "Train Accuracy: 47.59%\n",
      "Test loss: 10.791, Accuracy: 53.03%\n",
      "Epoch 10\n",
      "Train Accuracy: 63.64%\n",
      "Test loss: 7.455, Accuracy: 56.06%\n",
      "Epoch 11\n",
      "Train Accuracy: 65.77%\n",
      "Test loss: 6.526, Accuracy: 47.73%\n",
      "Epoch 12\n",
      "Train Accuracy: 70.96%\n",
      "Test loss: 7.845, Accuracy: 51.14%\n",
      "Epoch 13\n",
      "Train Accuracy: 69.67%\n",
      "Test loss: 6.718, Accuracy: 56.44%\n",
      "Epoch 14\n",
      "Train Accuracy: 74.40%\n",
      "Test loss: 7.864, Accuracy: 58.71%\n",
      "Epoch 15\n",
      "Train Accuracy: 78.39%\n",
      "Test loss: 5.545, Accuracy: 53.41%\n",
      "Epoch 16\n",
      "Train Accuracy: 80.43%\n",
      "Test loss: 6.566, Accuracy: 64.02%\n",
      "Epoch 17\n",
      "Train Accuracy: 84.04%\n",
      "Test loss: 4.149, Accuracy: 56.06%\n",
      "Epoch 18\n",
      "Train Accuracy: 79.13%\n",
      "Test loss: 6.257, Accuracy: 55.30%\n",
      "Epoch 19\n",
      "Train Accuracy: 82.84%\n",
      "Test loss: 4.523, Accuracy: 60.61%\n",
      "Epoch 20\n",
      "Train Accuracy: 87.01%\n",
      "Test loss: 3.886, Accuracy: 57.95%\n",
      "Epoch 21\n",
      "Train Accuracy: 92.76%\n",
      "Test loss: 4.294, Accuracy: 67.80%\n",
      "Epoch 22\n",
      "Train Accuracy: 94.71%\n",
      "Test loss: 4.573, Accuracy: 66.29%\n",
      "Epoch 23\n",
      "Train Accuracy: 93.78%\n",
      "Test loss: 3.460, Accuracy: 67.42%\n",
      "Epoch 24\n",
      "Train Accuracy: 93.51%\n",
      "Test loss: 5.100, Accuracy: 66.29%\n",
      "Epoch 25\n",
      "Train Accuracy: 95.55%\n",
      "Test loss: 4.652, Accuracy: 64.02%\n",
      "Epoch 26\n",
      "Train Accuracy: 94.99%\n",
      "Test loss: 3.680, Accuracy: 66.67%\n",
      "Epoch 27\n",
      "Train Accuracy: 96.94%\n",
      "Test loss: 4.647, Accuracy: 62.12%\n",
      "Epoch 28\n",
      "Train Accuracy: 97.50%\n",
      "Test loss: 3.780, Accuracy: 66.67%\n",
      "Epoch 29\n",
      "Train Accuracy: 97.12%\n",
      "Test loss: 3.743, Accuracy: 67.42%\n",
      "Epoch 30\n",
      "Train Accuracy: 98.05%\n",
      "Test loss: 5.277, Accuracy: 67.80%\n",
      "Epoch 31\n",
      "Train Accuracy: 98.33%\n",
      "Test loss: 3.635, Accuracy: 70.08%\n",
      "Epoch 32\n",
      "Train Accuracy: 99.44%\n",
      "Test loss: 3.442, Accuracy: 70.45%\n",
      "Epoch 33\n",
      "Train Accuracy: 99.72%\n",
      "Test loss: 4.660, Accuracy: 68.56%\n",
      "Epoch 34\n",
      "Train Accuracy: 99.81%\n",
      "Test loss: 4.665, Accuracy: 68.18%\n",
      "Epoch 35\n",
      "Train Accuracy: 99.91%\n",
      "Test loss: 3.552, Accuracy: 69.32%\n",
      "Epoch 36\n",
      "Train Accuracy: 99.91%\n",
      "Test loss: 3.797, Accuracy: 68.18%\n",
      "Epoch 37\n",
      "Train Accuracy: 99.91%\n",
      "Test loss: 4.424, Accuracy: 68.56%\n",
      "Epoch 38\n",
      "Train Accuracy: 99.91%\n",
      "Test loss: 4.358, Accuracy: 68.94%\n",
      "Epoch 39\n",
      "Train Accuracy: 100.00%\n",
      "Test loss: 4.052, Accuracy: 69.70%\n",
      "Epoch 40\n",
      "Train Accuracy: 100.00%\n",
      "Test loss: 4.419, Accuracy: 67.05%\n",
      "Epoch 41\n",
      "Train Accuracy: 100.00%\n",
      "Test loss: 4.088, Accuracy: 69.32%\n",
      "Epoch 42\n",
      "Train Accuracy: 100.00%\n",
      "Test loss: 3.587, Accuracy: 71.21%\n",
      "Epoch 43\n",
      "Train Accuracy: 100.00%\n",
      "Test loss: 3.776, Accuracy: 69.70%\n",
      "Epoch 44\n",
      "Train Accuracy: 100.00%\n",
      "Test loss: 4.052, Accuracy: 68.56%\n",
      "Epoch 45\n",
      "Train Accuracy: 100.00%\n",
      "Test loss: 4.204, Accuracy: 69.32%\n",
      "Epoch 46\n",
      "Train Accuracy: 100.00%\n",
      "Test loss: 4.106, Accuracy: 69.70%\n",
      "Epoch 47\n",
      "Train Accuracy: 100.00%\n",
      "Test loss: 3.846, Accuracy: 69.32%\n",
      "Epoch 48\n",
      "Train Accuracy: 100.00%\n",
      "Test loss: 3.763, Accuracy: 69.70%\n",
      "Epoch 49\n",
      "Train Accuracy: 100.00%\n",
      "Test loss: 3.907, Accuracy: 69.70%\n",
      "Epoch 50\n",
      "Train Accuracy: 100.00%\n",
      "Test loss: 3.997, Accuracy: 69.32%\n"
     ]
    },
    {
     "data": {
      "application/vnd.jupyter.widget-view+json": {
       "model_id": "02e56285ba8a4c25ace4702f6153eb1f",
       "version_major": 2,
       "version_minor": 0
      },
      "text/plain": [
       "VBox(children=(Label(value='20.306 MB of 20.306 MB uploaded (19.986 MB deduped)\\r'), FloatProgress(value=1.0, …"
      ]
     },
     "metadata": {},
     "output_type": "display_data"
    },
    {
     "data": {
      "text/html": [
       "W&B sync reduced upload amount by 98.1%"
      ],
      "text/plain": [
       "<IPython.core.display.HTML object>"
      ]
     },
     "metadata": {},
     "output_type": "display_data"
    },
    {
     "data": {
      "text/html": [
       "<style>\n",
       "    table.wandb td:nth-child(1) { padding: 0 10px; text-align: left ; width: auto;} td:nth-child(2) {text-align: left ; width: 100%}\n",
       "    .wandb-row { display: flex; flex-direction: row; flex-wrap: wrap; justify-content: flex-start; width: 100% }\n",
       "    .wandb-col { display: flex; flex-direction: column; flex-basis: 100%; flex: 1; padding: 10px; }\n",
       "    </style>\n",
       "<div class=\"wandb-row\"><div class=\"wandb-col\"><h3>Run history:</h3><br/><table class=\"wandb\"><tr><td>iter_accuracy</td><td>▁▂▁▂▃▄▅▆▅▆▅▆▇▇▇▇▇███████████████████████</td></tr><tr><td>tr_accuracy</td><td>▁▁▂▂▂▃▄▄▅▆▆▆▆▇▆▇▇██▇████████████████████</td></tr><tr><td>val_accuracy</td><td>▂▁▁▃▄▅▅▆▅▆▆▇▇▆▆▇█▇█▇▇▇▇█████████████████</td></tr></table><br/></div><div class=\"wandb-col\"><h3>Run summary:</h3><br/><table class=\"wandb\"><tr><td>iter_accuracy</td><td>100.0</td></tr><tr><td>tr_accuracy</td><td>100.0</td></tr><tr><td>val_accuracy</td><td>69.31818</td></tr></table><br/></div></div>"
      ],
      "text/plain": [
       "<IPython.core.display.HTML object>"
      ]
     },
     "metadata": {},
     "output_type": "display_data"
    },
    {
     "data": {
      "text/html": [
       " View run <strong style=\"color:#cdcd00\">snowy-sweep-7</strong> at: <a href='https://wandb.ai/bhkim003-seoul-national-university/reservoir/runs/n3p7j71u' target=\"_blank\">https://wandb.ai/bhkim003-seoul-national-university/reservoir/runs/n3p7j71u</a><br/> View project at: <a href='https://wandb.ai/bhkim003-seoul-national-university/reservoir' target=\"_blank\">https://wandb.ai/bhkim003-seoul-national-university/reservoir</a><br/>Synced 7 W&B file(s), 0 media file(s), 29 artifact file(s) and 1 other file(s)"
      ],
      "text/plain": [
       "<IPython.core.display.HTML object>"
      ]
     },
     "metadata": {},
     "output_type": "display_data"
    },
    {
     "data": {
      "text/html": [
       "Find logs at: <code>./wandb/run-20240725_223041-n3p7j71u/logs</code>"
      ],
      "text/plain": [
       "<IPython.core.display.HTML object>"
      ]
     },
     "metadata": {},
     "output_type": "display_data"
    },
    {
     "data": {
      "text/html": [
       "The new W&B backend becomes opt-out in version 0.18.0; try it out with `wandb.require(\"core\")`! See https://wandb.me/wandb-core for more information."
      ],
      "text/plain": [
       "<IPython.core.display.HTML object>"
      ]
     },
     "metadata": {},
     "output_type": "display_data"
    },
    {
     "name": "stderr",
     "output_type": "stream",
     "text": [
      "\u001b[34m\u001b[1mwandb\u001b[0m: Agent Starting Run: 6oa5fz4c with config:\n",
      "\u001b[34m\u001b[1mwandb\u001b[0m: \tEPOCH: 50\n",
      "\u001b[34m\u001b[1mwandb\u001b[0m: \tIMAGE_SIZE: 48\n",
      "\u001b[34m\u001b[1mwandb\u001b[0m: \tbatch_size: 16\n",
      "\u001b[34m\u001b[1mwandb\u001b[0m: \tdata_path: /data2\n",
      "\u001b[34m\u001b[1mwandb\u001b[0m: \tdecay: 0.5828921791395338\n",
      "\u001b[34m\u001b[1mwandb\u001b[0m: \tdvs_clipping: True\n",
      "\u001b[34m\u001b[1mwandb\u001b[0m: \tdvs_duration: 1000000\n",
      "\u001b[34m\u001b[1mwandb\u001b[0m: \tlearning_rate: 0.050875785192100655\n",
      "\u001b[34m\u001b[1mwandb\u001b[0m: \tno_reservoir: False\n",
      "\u001b[34m\u001b[1mwandb\u001b[0m: \tpre_spike_weight: 6.729089877197924\n",
      "\u001b[34m\u001b[1mwandb\u001b[0m: \trate_coding: False\n",
      "\u001b[34m\u001b[1mwandb\u001b[0m: \ttime_step: 6\n",
      "\u001b[34m\u001b[1mwandb\u001b[0m: \twhich_data: DVS_GESTURE\n",
      "Failed to detect the name of this notebook, you can set it manually with the WANDB_NOTEBOOK_NAME environment variable to enable code saving.\n"
     ]
    },
    {
     "data": {
      "text/html": [
       "Tracking run with wandb version 0.17.5"
      ],
      "text/plain": [
       "<IPython.core.display.HTML object>"
      ]
     },
     "metadata": {},
     "output_type": "display_data"
    },
    {
     "data": {
      "text/html": [
       "Run data is saved locally in <code>/nfs/home/bhkim003/github_folder/ByeonghyeonKim/my_snn/wandb/run-20240725_223800-6oa5fz4c</code>"
      ],
      "text/plain": [
       "<IPython.core.display.HTML object>"
      ]
     },
     "metadata": {},
     "output_type": "display_data"
    },
    {
     "data": {
      "text/html": [
       "Syncing run <strong><a href='https://wandb.ai/bhkim003-seoul-national-university/reservoir/runs/6oa5fz4c' target=\"_blank\">misunderstood-sweep-8</a></strong> to <a href='https://wandb.ai/bhkim003-seoul-national-university/reservoir' target=\"_blank\">Weights & Biases</a> (<a href='https://wandb.me/run' target=\"_blank\">docs</a>)<br/>Sweep page: <a href='https://wandb.ai/bhkim003-seoul-national-university/reservoir/sweeps/0j0aowy8' target=\"_blank\">https://wandb.ai/bhkim003-seoul-national-university/reservoir/sweeps/0j0aowy8</a>"
      ],
      "text/plain": [
       "<IPython.core.display.HTML object>"
      ]
     },
     "metadata": {},
     "output_type": "display_data"
    },
    {
     "data": {
      "text/html": [
       " View project at <a href='https://wandb.ai/bhkim003-seoul-national-university/reservoir' target=\"_blank\">https://wandb.ai/bhkim003-seoul-national-university/reservoir</a>"
      ],
      "text/plain": [
       "<IPython.core.display.HTML object>"
      ]
     },
     "metadata": {},
     "output_type": "display_data"
    },
    {
     "data": {
      "text/html": [
       " View sweep at <a href='https://wandb.ai/bhkim003-seoul-national-university/reservoir/sweeps/0j0aowy8' target=\"_blank\">https://wandb.ai/bhkim003-seoul-national-university/reservoir/sweeps/0j0aowy8</a>"
      ],
      "text/plain": [
       "<IPython.core.display.HTML object>"
      ]
     },
     "metadata": {},
     "output_type": "display_data"
    },
    {
     "data": {
      "text/html": [
       " View run at <a href='https://wandb.ai/bhkim003-seoul-national-university/reservoir/runs/6oa5fz4c' target=\"_blank\">https://wandb.ai/bhkim003-seoul-national-university/reservoir/runs/6oa5fz4c</a>"
      ],
      "text/plain": [
       "<IPython.core.display.HTML object>"
      ]
     },
     "metadata": {},
     "output_type": "display_data"
    },
    {
     "name": "stderr",
     "output_type": "stream",
     "text": [
      "\u001b[34m\u001b[1mwandb\u001b[0m: \u001b[33mWARNING\u001b[0m Config item 'data_path' was locked by 'sweep' (ignored update).\n",
      "\u001b[34m\u001b[1mwandb\u001b[0m: \u001b[33mWARNING\u001b[0m Config item 'which_data' was locked by 'sweep' (ignored update).\n",
      "\u001b[34m\u001b[1mwandb\u001b[0m: \u001b[33mWARNING\u001b[0m Config item 'learning_rate' was locked by 'sweep' (ignored update).\n",
      "\u001b[34m\u001b[1mwandb\u001b[0m: \u001b[33mWARNING\u001b[0m Config item 'IMAGE_SIZE' was locked by 'sweep' (ignored update).\n",
      "\u001b[34m\u001b[1mwandb\u001b[0m: \u001b[33mWARNING\u001b[0m Config item 'EPOCH' was locked by 'sweep' (ignored update).\n",
      "\u001b[34m\u001b[1mwandb\u001b[0m: \u001b[33mWARNING\u001b[0m Config item 'rate_coding' was locked by 'sweep' (ignored update).\n",
      "\u001b[34m\u001b[1mwandb\u001b[0m: \u001b[33mWARNING\u001b[0m Config item 'pre_spike_weight' was locked by 'sweep' (ignored update).\n",
      "\u001b[34m\u001b[1mwandb\u001b[0m: \u001b[33mWARNING\u001b[0m Config item 'dvs_duration' was locked by 'sweep' (ignored update).\n",
      "\u001b[34m\u001b[1mwandb\u001b[0m: \u001b[33mWARNING\u001b[0m Config item 'dvs_clipping' was locked by 'sweep' (ignored update).\n",
      "\u001b[34m\u001b[1mwandb\u001b[0m: \u001b[33mWARNING\u001b[0m Config item 'no_reservoir' was locked by 'sweep' (ignored update).\n"
     ]
    },
    {
     "name": "stdout",
     "output_type": "stream",
     "text": [
      "The directory [/data2/gesture/duration_1000000] already exists.\n",
      "The directory [/data2/gesture/duration_1000000] already exists.\n",
      "RESERVOIR_NET(\n",
      "  (reservoir): RESERVOIR(\n",
      "    (conv_depthwise): Conv2d(2, 2, kernel_size=(3, 3), stride=(1, 1), padding=(1, 1), groups=2)\n",
      "  )\n",
      "  (linear): Linear(in_features=4608, out_features=10, bias=True)\n",
      ")\n",
      "Epoch 1\n",
      "Train Accuracy: 33.77%\n",
      "Test loss: 10.380, Accuracy: 39.02%\n",
      "Epoch 2\n",
      "Train Accuracy: 51.48%\n",
      "Test loss: 13.701, Accuracy: 54.92%\n",
      "Epoch 3\n",
      "Train Accuracy: 65.86%\n",
      "Test loss: 17.773, Accuracy: 43.56%\n",
      "Epoch 4\n",
      "Train Accuracy: 66.79%\n",
      "Test loss: 18.032, Accuracy: 52.27%\n",
      "Epoch 5\n",
      "Train Accuracy: 73.10%\n",
      "Test loss: 26.735, Accuracy: 51.89%\n",
      "Epoch 6\n",
      "Train Accuracy: 77.83%\n",
      "Test loss: 16.956, Accuracy: 50.00%\n",
      "Epoch 7\n",
      "Train Accuracy: 86.09%\n",
      "Test loss: 11.680, Accuracy: 63.26%\n",
      "Epoch 8\n",
      "Train Accuracy: 90.17%\n",
      "Test loss: 15.041, Accuracy: 56.82%\n",
      "Epoch 9\n",
      "Train Accuracy: 90.17%\n",
      "Test loss: 12.991, Accuracy: 56.82%\n",
      "Epoch 10\n",
      "Train Accuracy: 92.49%\n",
      "Test loss: 14.702, Accuracy: 56.06%\n",
      "Epoch 11\n",
      "Train Accuracy: 96.47%\n",
      "Test loss: 9.517, Accuracy: 62.50%\n",
      "Epoch 12\n",
      "Train Accuracy: 89.89%\n",
      "Test loss: 15.522, Accuracy: 65.91%\n",
      "Epoch 13\n",
      "Train Accuracy: 94.34%\n",
      "Test loss: 9.550, Accuracy: 64.39%\n",
      "Epoch 14\n",
      "Train Accuracy: 95.08%\n",
      "Test loss: 14.714, Accuracy: 62.88%\n",
      "Epoch 15\n",
      "Train Accuracy: 88.22%\n",
      "Test loss: 15.110, Accuracy: 56.06%\n",
      "Epoch 16\n",
      "Train Accuracy: 96.47%\n",
      "Test loss: 8.930, Accuracy: 65.15%\n",
      "Epoch 17\n",
      "Train Accuracy: 96.94%\n",
      "Test loss: 6.386, Accuracy: 70.83%\n",
      "Epoch 18\n",
      "Train Accuracy: 100.00%\n",
      "Test loss: 6.510, Accuracy: 70.45%\n",
      "Epoch 19\n",
      "Train Accuracy: 100.00%\n",
      "Test loss: 6.505, Accuracy: 70.45%\n",
      "Epoch 20\n",
      "Train Accuracy: 100.00%\n",
      "Test loss: 6.502, Accuracy: 70.45%\n",
      "Epoch 21\n",
      "Train Accuracy: 100.00%\n",
      "Test loss: 6.496, Accuracy: 70.45%\n",
      "Epoch 22\n",
      "Train Accuracy: 100.00%\n",
      "Test loss: 6.493, Accuracy: 70.45%\n",
      "Epoch 23\n",
      "Train Accuracy: 100.00%\n",
      "Test loss: 6.489, Accuracy: 70.45%\n",
      "Epoch 24\n",
      "Train Accuracy: 100.00%\n",
      "Test loss: 6.486, Accuracy: 70.45%\n",
      "Epoch 25\n",
      "Train Accuracy: 100.00%\n",
      "Test loss: 6.484, Accuracy: 70.45%\n",
      "Epoch 26\n",
      "Train Accuracy: 100.00%\n",
      "Test loss: 6.480, Accuracy: 70.45%\n",
      "Epoch 27\n",
      "Train Accuracy: 100.00%\n",
      "Test loss: 6.478, Accuracy: 70.45%\n",
      "Epoch 28\n",
      "Train Accuracy: 100.00%\n",
      "Test loss: 6.475, Accuracy: 70.45%\n",
      "Epoch 29\n",
      "Train Accuracy: 100.00%\n",
      "Test loss: 6.473, Accuracy: 70.45%\n",
      "Epoch 30\n",
      "Train Accuracy: 100.00%\n",
      "Test loss: 6.470, Accuracy: 70.45%\n",
      "Epoch 31\n",
      "Train Accuracy: 100.00%\n",
      "Test loss: 6.468, Accuracy: 70.45%\n",
      "Epoch 32\n",
      "Train Accuracy: 100.00%\n",
      "Test loss: 6.466, Accuracy: 70.45%\n",
      "Epoch 33\n",
      "Train Accuracy: 100.00%\n",
      "Test loss: 6.464, Accuracy: 70.45%\n",
      "Epoch 34\n",
      "Train Accuracy: 100.00%\n",
      "Test loss: 6.462, Accuracy: 70.45%\n",
      "Epoch 35\n",
      "Train Accuracy: 100.00%\n",
      "Test loss: 6.460, Accuracy: 70.45%\n",
      "Epoch 36\n",
      "Train Accuracy: 100.00%\n",
      "Test loss: 6.458, Accuracy: 70.45%\n",
      "Epoch 37\n",
      "Train Accuracy: 100.00%\n",
      "Test loss: 6.457, Accuracy: 70.45%\n",
      "Epoch 38\n",
      "Train Accuracy: 100.00%\n",
      "Test loss: 6.455, Accuracy: 70.45%\n",
      "Epoch 39\n",
      "Train Accuracy: 100.00%\n",
      "Test loss: 6.454, Accuracy: 70.45%\n",
      "Epoch 40\n",
      "Train Accuracy: 100.00%\n",
      "Test loss: 6.452, Accuracy: 70.45%\n",
      "Epoch 41\n",
      "Train Accuracy: 100.00%\n",
      "Test loss: 6.450, Accuracy: 70.45%\n",
      "Epoch 42\n",
      "Train Accuracy: 100.00%\n",
      "Test loss: 6.449, Accuracy: 70.45%\n",
      "Epoch 43\n",
      "Train Accuracy: 100.00%\n",
      "Test loss: 6.448, Accuracy: 70.45%\n",
      "Epoch 44\n",
      "Train Accuracy: 100.00%\n",
      "Test loss: 6.446, Accuracy: 70.45%\n",
      "Epoch 45\n",
      "Train Accuracy: 100.00%\n",
      "Test loss: 6.445, Accuracy: 70.45%\n",
      "Epoch 46\n",
      "Train Accuracy: 100.00%\n",
      "Test loss: 6.443, Accuracy: 70.45%\n",
      "Epoch 47\n",
      "Train Accuracy: 100.00%\n",
      "Test loss: 6.442, Accuracy: 70.45%\n",
      "Epoch 48\n",
      "Train Accuracy: 100.00%\n",
      "Test loss: 6.441, Accuracy: 70.45%\n",
      "Epoch 49\n",
      "Train Accuracy: 100.00%\n",
      "Test loss: 6.440, Accuracy: 70.45%\n",
      "Epoch 50\n",
      "Train Accuracy: 100.00%\n",
      "Test loss: 6.439, Accuracy: 70.45%\n"
     ]
    },
    {
     "data": {
      "application/vnd.jupyter.widget-view+json": {
       "model_id": "71196b2b35164b36b8b8f298fa694f9f",
       "version_major": 2,
       "version_minor": 0
      },
      "text/plain": [
       "VBox(children=(Label(value='0.070 MB of 0.070 MB uploaded\\r'), FloatProgress(value=1.0, max=1.0)))"
      ]
     },
     "metadata": {},
     "output_type": "display_data"
    },
    {
     "data": {
      "text/html": [
       "<style>\n",
       "    table.wandb td:nth-child(1) { padding: 0 10px; text-align: left ; width: auto;} td:nth-child(2) {text-align: left ; width: 100%}\n",
       "    .wandb-row { display: flex; flex-direction: row; flex-wrap: wrap; justify-content: flex-start; width: 100% }\n",
       "    .wandb-col { display: flex; flex-direction: column; flex-basis: 100%; flex: 1; padding: 10px; }\n",
       "    </style>\n",
       "<div class=\"wandb-row\"><div class=\"wandb-col\"><h3>Run history:</h3><br/><table class=\"wandb\"><tr><td>iter_accuracy</td><td>▁▅▅▅▅██▆█▇█▇████████████████████████████</td></tr><tr><td>tr_accuracy</td><td>▁▃▄▄▆▇▇▇█▇▇▇████████████████████████████</td></tr><tr><td>val_accuracy</td><td>▁▅▂▄▃▆▅▅▆▇▇▆▇███████████████████████████</td></tr></table><br/></div><div class=\"wandb-col\"><h3>Run summary:</h3><br/><table class=\"wandb\"><tr><td>iter_accuracy</td><td>100.0</td></tr><tr><td>tr_accuracy</td><td>100.0</td></tr><tr><td>val_accuracy</td><td>70.45455</td></tr></table><br/></div></div>"
      ],
      "text/plain": [
       "<IPython.core.display.HTML object>"
      ]
     },
     "metadata": {},
     "output_type": "display_data"
    },
    {
     "data": {
      "text/html": [
       " View run <strong style=\"color:#cdcd00\">misunderstood-sweep-8</strong> at: <a href='https://wandb.ai/bhkim003-seoul-national-university/reservoir/runs/6oa5fz4c' target=\"_blank\">https://wandb.ai/bhkim003-seoul-national-university/reservoir/runs/6oa5fz4c</a><br/> View project at: <a href='https://wandb.ai/bhkim003-seoul-national-university/reservoir' target=\"_blank\">https://wandb.ai/bhkim003-seoul-national-university/reservoir</a><br/>Synced 7 W&B file(s), 0 media file(s), 0 artifact file(s) and 1 other file(s)"
      ],
      "text/plain": [
       "<IPython.core.display.HTML object>"
      ]
     },
     "metadata": {},
     "output_type": "display_data"
    },
    {
     "data": {
      "text/html": [
       "Find logs at: <code>./wandb/run-20240725_223800-6oa5fz4c/logs</code>"
      ],
      "text/plain": [
       "<IPython.core.display.HTML object>"
      ]
     },
     "metadata": {},
     "output_type": "display_data"
    },
    {
     "data": {
      "text/html": [
       "The new W&B backend becomes opt-out in version 0.18.0; try it out with `wandb.require(\"core\")`! See https://wandb.me/wandb-core for more information."
      ],
      "text/plain": [
       "<IPython.core.display.HTML object>"
      ]
     },
     "metadata": {},
     "output_type": "display_data"
    },
    {
     "name": "stderr",
     "output_type": "stream",
     "text": [
      "\u001b[34m\u001b[1mwandb\u001b[0m: Sweep Agent: Waiting for job.\n",
      "\u001b[34m\u001b[1mwandb\u001b[0m: Job received.\n",
      "\u001b[34m\u001b[1mwandb\u001b[0m: Agent Starting Run: 6s1k9pn1 with config:\n",
      "\u001b[34m\u001b[1mwandb\u001b[0m: \tEPOCH: 50\n",
      "\u001b[34m\u001b[1mwandb\u001b[0m: \tIMAGE_SIZE: 48\n",
      "\u001b[34m\u001b[1mwandb\u001b[0m: \tbatch_size: 64\n",
      "\u001b[34m\u001b[1mwandb\u001b[0m: \tdata_path: /data2\n",
      "\u001b[34m\u001b[1mwandb\u001b[0m: \tdecay: 0.7991023490918505\n",
      "\u001b[34m\u001b[1mwandb\u001b[0m: \tdvs_clipping: True\n",
      "\u001b[34m\u001b[1mwandb\u001b[0m: \tdvs_duration: 1000000\n",
      "\u001b[34m\u001b[1mwandb\u001b[0m: \tlearning_rate: 0.041543880751758674\n",
      "\u001b[34m\u001b[1mwandb\u001b[0m: \tno_reservoir: True\n",
      "\u001b[34m\u001b[1mwandb\u001b[0m: \tpre_spike_weight: 9.161473815431924\n",
      "\u001b[34m\u001b[1mwandb\u001b[0m: \trate_coding: True\n",
      "\u001b[34m\u001b[1mwandb\u001b[0m: \ttime_step: 5\n",
      "\u001b[34m\u001b[1mwandb\u001b[0m: \twhich_data: DVS_GESTURE\n",
      "Failed to detect the name of this notebook, you can set it manually with the WANDB_NOTEBOOK_NAME environment variable to enable code saving.\n"
     ]
    },
    {
     "data": {
      "text/html": [
       "Tracking run with wandb version 0.17.5"
      ],
      "text/plain": [
       "<IPython.core.display.HTML object>"
      ]
     },
     "metadata": {},
     "output_type": "display_data"
    },
    {
     "data": {
      "text/html": [
       "Run data is saved locally in <code>/nfs/home/bhkim003/github_folder/ByeonghyeonKim/my_snn/wandb/run-20240725_224520-6s1k9pn1</code>"
      ],
      "text/plain": [
       "<IPython.core.display.HTML object>"
      ]
     },
     "metadata": {},
     "output_type": "display_data"
    },
    {
     "data": {
      "text/html": [
       "Syncing run <strong><a href='https://wandb.ai/bhkim003-seoul-national-university/reservoir/runs/6s1k9pn1' target=\"_blank\">deft-sweep-9</a></strong> to <a href='https://wandb.ai/bhkim003-seoul-national-university/reservoir' target=\"_blank\">Weights & Biases</a> (<a href='https://wandb.me/run' target=\"_blank\">docs</a>)<br/>Sweep page: <a href='https://wandb.ai/bhkim003-seoul-national-university/reservoir/sweeps/0j0aowy8' target=\"_blank\">https://wandb.ai/bhkim003-seoul-national-university/reservoir/sweeps/0j0aowy8</a>"
      ],
      "text/plain": [
       "<IPython.core.display.HTML object>"
      ]
     },
     "metadata": {},
     "output_type": "display_data"
    },
    {
     "data": {
      "text/html": [
       " View project at <a href='https://wandb.ai/bhkim003-seoul-national-university/reservoir' target=\"_blank\">https://wandb.ai/bhkim003-seoul-national-university/reservoir</a>"
      ],
      "text/plain": [
       "<IPython.core.display.HTML object>"
      ]
     },
     "metadata": {},
     "output_type": "display_data"
    },
    {
     "data": {
      "text/html": [
       " View sweep at <a href='https://wandb.ai/bhkim003-seoul-national-university/reservoir/sweeps/0j0aowy8' target=\"_blank\">https://wandb.ai/bhkim003-seoul-national-university/reservoir/sweeps/0j0aowy8</a>"
      ],
      "text/plain": [
       "<IPython.core.display.HTML object>"
      ]
     },
     "metadata": {},
     "output_type": "display_data"
    },
    {
     "data": {
      "text/html": [
       " View run at <a href='https://wandb.ai/bhkim003-seoul-national-university/reservoir/runs/6s1k9pn1' target=\"_blank\">https://wandb.ai/bhkim003-seoul-national-university/reservoir/runs/6s1k9pn1</a>"
      ],
      "text/plain": [
       "<IPython.core.display.HTML object>"
      ]
     },
     "metadata": {},
     "output_type": "display_data"
    },
    {
     "name": "stderr",
     "output_type": "stream",
     "text": [
      "\u001b[34m\u001b[1mwandb\u001b[0m: \u001b[33mWARNING\u001b[0m Config item 'data_path' was locked by 'sweep' (ignored update).\n",
      "\u001b[34m\u001b[1mwandb\u001b[0m: \u001b[33mWARNING\u001b[0m Config item 'which_data' was locked by 'sweep' (ignored update).\n",
      "\u001b[34m\u001b[1mwandb\u001b[0m: \u001b[33mWARNING\u001b[0m Config item 'learning_rate' was locked by 'sweep' (ignored update).\n",
      "\u001b[34m\u001b[1mwandb\u001b[0m: \u001b[33mWARNING\u001b[0m Config item 'IMAGE_SIZE' was locked by 'sweep' (ignored update).\n",
      "\u001b[34m\u001b[1mwandb\u001b[0m: \u001b[33mWARNING\u001b[0m Config item 'EPOCH' was locked by 'sweep' (ignored update).\n",
      "\u001b[34m\u001b[1mwandb\u001b[0m: \u001b[33mWARNING\u001b[0m Config item 'rate_coding' was locked by 'sweep' (ignored update).\n",
      "\u001b[34m\u001b[1mwandb\u001b[0m: \u001b[33mWARNING\u001b[0m Config item 'pre_spike_weight' was locked by 'sweep' (ignored update).\n",
      "\u001b[34m\u001b[1mwandb\u001b[0m: \u001b[33mWARNING\u001b[0m Config item 'dvs_duration' was locked by 'sweep' (ignored update).\n",
      "\u001b[34m\u001b[1mwandb\u001b[0m: \u001b[33mWARNING\u001b[0m Config item 'dvs_clipping' was locked by 'sweep' (ignored update).\n",
      "\u001b[34m\u001b[1mwandb\u001b[0m: \u001b[33mWARNING\u001b[0m Config item 'no_reservoir' was locked by 'sweep' (ignored update).\n"
     ]
    },
    {
     "name": "stdout",
     "output_type": "stream",
     "text": [
      "The directory [/data2/gesture/duration_1000000] already exists.\n",
      "The directory [/data2/gesture/duration_1000000] already exists.\n",
      "NO_RESERVOIR_NET(\n",
      "  (reservoir): RESERVOIR(\n",
      "    (conv_depthwise): Conv2d(2, 2, kernel_size=(3, 3), stride=(1, 1), padding=(1, 1), groups=2)\n",
      "  )\n",
      "  (linear): Linear(in_features=4608, out_features=10, bias=True)\n",
      ")\n",
      "Epoch 1\n",
      "Train Accuracy: 20.13%\n",
      "Test loss: 38.129, Accuracy: 35.61%\n",
      "Epoch 2\n",
      "Train Accuracy: 38.96%\n",
      "Test loss: 7.957, Accuracy: 43.56%\n",
      "Epoch 3\n",
      "Train Accuracy: 52.97%\n",
      "Test loss: 4.662, Accuracy: 53.03%\n",
      "Epoch 4\n",
      "Train Accuracy: 63.91%\n",
      "Test loss: 7.641, Accuracy: 55.68%\n",
      "Epoch 5\n",
      "Train Accuracy: 68.09%\n",
      "Test loss: 2.982, Accuracy: 62.50%\n",
      "Epoch 6\n",
      "Train Accuracy: 77.46%\n",
      "Test loss: 3.036, Accuracy: 67.42%\n",
      "Epoch 7\n",
      "Train Accuracy: 84.97%\n",
      "Test loss: 3.544, Accuracy: 67.42%\n",
      "Epoch 8\n",
      "Train Accuracy: 86.83%\n",
      "Test loss: 3.181, Accuracy: 65.53%\n",
      "Epoch 9\n",
      "Train Accuracy: 91.37%\n",
      "Test loss: 2.318, Accuracy: 66.67%\n",
      "Epoch 10\n",
      "Train Accuracy: 89.52%\n",
      "Test loss: 3.096, Accuracy: 66.67%\n",
      "Epoch 11\n",
      "Train Accuracy: 90.35%\n",
      "Test loss: 4.118, Accuracy: 65.53%\n",
      "Epoch 12\n",
      "Train Accuracy: 84.14%\n",
      "Test loss: 4.010, Accuracy: 60.98%\n",
      "Epoch 13\n",
      "Train Accuracy: 89.33%\n",
      "Test loss: 3.275, Accuracy: 64.77%\n",
      "Epoch 14\n",
      "Train Accuracy: 98.33%\n",
      "Test loss: 2.759, Accuracy: 69.70%\n",
      "Epoch 15\n",
      "Train Accuracy: 98.79%\n",
      "Test loss: 2.937, Accuracy: 65.91%\n",
      "Epoch 16\n",
      "Train Accuracy: 99.26%\n",
      "Test loss: 2.847, Accuracy: 64.77%\n",
      "Epoch 17\n",
      "Train Accuracy: 98.98%\n",
      "Test loss: 2.734, Accuracy: 68.18%\n",
      "Epoch 18\n",
      "Train Accuracy: 98.24%\n",
      "Test loss: 2.519, Accuracy: 69.32%\n",
      "Epoch 19\n",
      "Train Accuracy: 98.98%\n",
      "Test loss: 2.749, Accuracy: 67.80%\n",
      "Epoch 20\n",
      "Train Accuracy: 98.70%\n",
      "Test loss: 2.516, Accuracy: 70.83%\n",
      "Epoch 21\n",
      "Train Accuracy: 99.54%\n",
      "Test loss: 2.660, Accuracy: 69.32%\n",
      "Epoch 22\n",
      "Train Accuracy: 99.72%\n",
      "Test loss: 2.717, Accuracy: 70.08%\n",
      "Epoch 23\n",
      "Train Accuracy: 100.00%\n",
      "Test loss: 2.543, Accuracy: 73.48%\n",
      "Epoch 24\n",
      "Train Accuracy: 100.00%\n",
      "Test loss: 2.586, Accuracy: 70.08%\n",
      "Epoch 25\n",
      "Train Accuracy: 100.00%\n",
      "Test loss: 2.543, Accuracy: 70.83%\n",
      "Epoch 26\n",
      "Train Accuracy: 100.00%\n",
      "Test loss: 2.525, Accuracy: 71.59%\n",
      "Epoch 27\n",
      "Train Accuracy: 100.00%\n",
      "Test loss: 2.553, Accuracy: 71.21%\n",
      "Epoch 28\n",
      "Train Accuracy: 100.00%\n",
      "Test loss: 2.554, Accuracy: 70.83%\n",
      "Epoch 29\n",
      "Train Accuracy: 100.00%\n",
      "Test loss: 2.527, Accuracy: 71.97%\n",
      "Epoch 30\n",
      "Train Accuracy: 100.00%\n",
      "Test loss: 2.547, Accuracy: 71.97%\n",
      "Epoch 31\n",
      "Train Accuracy: 100.00%\n",
      "Test loss: 2.541, Accuracy: 71.59%\n",
      "Epoch 32\n",
      "Train Accuracy: 100.00%\n",
      "Test loss: 2.538, Accuracy: 71.21%\n",
      "Epoch 33\n",
      "Train Accuracy: 100.00%\n",
      "Test loss: 2.536, Accuracy: 71.97%\n",
      "Epoch 34\n",
      "Train Accuracy: 100.00%\n",
      "Test loss: 2.538, Accuracy: 71.21%\n",
      "Epoch 35\n",
      "Train Accuracy: 100.00%\n",
      "Test loss: 2.534, Accuracy: 71.21%\n",
      "Epoch 36\n",
      "Train Accuracy: 100.00%\n",
      "Test loss: 2.533, Accuracy: 71.21%\n",
      "Epoch 37\n",
      "Train Accuracy: 100.00%\n",
      "Test loss: 2.543, Accuracy: 71.97%\n",
      "Epoch 38\n",
      "Train Accuracy: 100.00%\n",
      "Test loss: 2.528, Accuracy: 71.59%\n",
      "Epoch 39\n",
      "Train Accuracy: 100.00%\n",
      "Test loss: 2.539, Accuracy: 71.59%\n",
      "Epoch 40\n",
      "Train Accuracy: 100.00%\n",
      "Test loss: 2.535, Accuracy: 71.21%\n",
      "Epoch 41\n",
      "Train Accuracy: 100.00%\n",
      "Test loss: 2.519, Accuracy: 71.59%\n",
      "Epoch 42\n",
      "Train Accuracy: 100.00%\n",
      "Test loss: 2.532, Accuracy: 71.97%\n",
      "Epoch 43\n",
      "Train Accuracy: 100.00%\n",
      "Test loss: 2.532, Accuracy: 71.21%\n",
      "Epoch 44\n",
      "Train Accuracy: 100.00%\n",
      "Test loss: 2.534, Accuracy: 71.59%\n",
      "Epoch 45\n",
      "Train Accuracy: 100.00%\n",
      "Test loss: 2.526, Accuracy: 71.59%\n",
      "Epoch 46\n",
      "Train Accuracy: 100.00%\n",
      "Test loss: 2.523, Accuracy: 71.59%\n",
      "Epoch 47\n",
      "Train Accuracy: 100.00%\n",
      "Test loss: 2.538, Accuracy: 71.59%\n",
      "Epoch 48\n",
      "Train Accuracy: 100.00%\n",
      "Test loss: 2.513, Accuracy: 71.59%\n",
      "Epoch 49\n",
      "Train Accuracy: 100.00%\n",
      "Test loss: 2.517, Accuracy: 71.59%\n",
      "Epoch 50\n",
      "Train Accuracy: 100.00%\n",
      "Test loss: 2.531, Accuracy: 71.21%\n"
     ]
    },
    {
     "data": {
      "application/vnd.jupyter.widget-view+json": {
       "model_id": "37b8621d8b2e4378812dd7c7a547ec0c",
       "version_major": 2,
       "version_minor": 0
      },
      "text/plain": [
       "VBox(children=(Label(value='20.751 MB of 20.751 MB uploaded (20.027 MB deduped)\\r'), FloatProgress(value=1.0, …"
      ]
     },
     "metadata": {},
     "output_type": "display_data"
    },
    {
     "data": {
      "text/html": [
       "W&B sync reduced upload amount by 96.2%"
      ],
      "text/plain": [
       "<IPython.core.display.HTML object>"
      ]
     },
     "metadata": {},
     "output_type": "display_data"
    },
    {
     "data": {
      "text/html": [
       "<style>\n",
       "    table.wandb td:nth-child(1) { padding: 0 10px; text-align: left ; width: auto;} td:nth-child(2) {text-align: left ; width: 100%}\n",
       "    .wandb-row { display: flex; flex-direction: row; flex-wrap: wrap; justify-content: flex-start; width: 100% }\n",
       "    .wandb-col { display: flex; flex-direction: column; flex-basis: 100%; flex: 1; padding: 10px; }\n",
       "    </style>\n",
       "<div class=\"wandb-row\"><div class=\"wandb-col\"><h3>Run history:</h3><br/><table class=\"wandb\"><tr><td>iter_accuracy</td><td>▁▂▃▄▆▇▇▇▇█▇█████████████████████████████</td></tr><tr><td>tr_accuracy</td><td>▁▃▄▅▆▇▇▇▇▇▇█████████████████████████████</td></tr><tr><td>val_accuracy</td><td>▁▂▄▅▇▇▇▇▇▆▆▇▆▇▇▇▇▇█▇████████████████████</td></tr></table><br/></div><div class=\"wandb-col\"><h3>Run summary:</h3><br/><table class=\"wandb\"><tr><td>iter_accuracy</td><td>100.0</td></tr><tr><td>tr_accuracy</td><td>100.0</td></tr><tr><td>val_accuracy</td><td>71.21212</td></tr></table><br/></div></div>"
      ],
      "text/plain": [
       "<IPython.core.display.HTML object>"
      ]
     },
     "metadata": {},
     "output_type": "display_data"
    },
    {
     "data": {
      "text/html": [
       " View run <strong style=\"color:#cdcd00\">deft-sweep-9</strong> at: <a href='https://wandb.ai/bhkim003-seoul-national-university/reservoir/runs/6s1k9pn1' target=\"_blank\">https://wandb.ai/bhkim003-seoul-national-university/reservoir/runs/6s1k9pn1</a><br/> View project at: <a href='https://wandb.ai/bhkim003-seoul-national-university/reservoir' target=\"_blank\">https://wandb.ai/bhkim003-seoul-national-university/reservoir</a><br/>Synced 7 W&B file(s), 0 media file(s), 29 artifact file(s) and 1 other file(s)"
      ],
      "text/plain": [
       "<IPython.core.display.HTML object>"
      ]
     },
     "metadata": {},
     "output_type": "display_data"
    },
    {
     "data": {
      "text/html": [
       "Find logs at: <code>./wandb/run-20240725_224520-6s1k9pn1/logs</code>"
      ],
      "text/plain": [
       "<IPython.core.display.HTML object>"
      ]
     },
     "metadata": {},
     "output_type": "display_data"
    },
    {
     "data": {
      "text/html": [
       "The new W&B backend becomes opt-out in version 0.18.0; try it out with `wandb.require(\"core\")`! See https://wandb.me/wandb-core for more information."
      ],
      "text/plain": [
       "<IPython.core.display.HTML object>"
      ]
     },
     "metadata": {},
     "output_type": "display_data"
    },
    {
     "name": "stderr",
     "output_type": "stream",
     "text": [
      "\u001b[34m\u001b[1mwandb\u001b[0m: Agent Starting Run: 48l2vtfv with config:\n",
      "\u001b[34m\u001b[1mwandb\u001b[0m: \tEPOCH: 50\n",
      "\u001b[34m\u001b[1mwandb\u001b[0m: \tIMAGE_SIZE: 48\n",
      "\u001b[34m\u001b[1mwandb\u001b[0m: \tbatch_size: 64\n",
      "\u001b[34m\u001b[1mwandb\u001b[0m: \tdata_path: /data2\n",
      "\u001b[34m\u001b[1mwandb\u001b[0m: \tdecay: 0.4417504159891096\n",
      "\u001b[34m\u001b[1mwandb\u001b[0m: \tdvs_clipping: True\n",
      "\u001b[34m\u001b[1mwandb\u001b[0m: \tdvs_duration: 1000000\n",
      "\u001b[34m\u001b[1mwandb\u001b[0m: \tlearning_rate: 0.07255776500712524\n",
      "\u001b[34m\u001b[1mwandb\u001b[0m: \tno_reservoir: True\n",
      "\u001b[34m\u001b[1mwandb\u001b[0m: \tpre_spike_weight: 7.50813216360779\n",
      "\u001b[34m\u001b[1mwandb\u001b[0m: \trate_coding: False\n",
      "\u001b[34m\u001b[1mwandb\u001b[0m: \ttime_step: 7\n",
      "\u001b[34m\u001b[1mwandb\u001b[0m: \twhich_data: DVS_GESTURE\n",
      "Failed to detect the name of this notebook, you can set it manually with the WANDB_NOTEBOOK_NAME environment variable to enable code saving.\n"
     ]
    },
    {
     "data": {
      "text/html": [
       "Tracking run with wandb version 0.17.5"
      ],
      "text/plain": [
       "<IPython.core.display.HTML object>"
      ]
     },
     "metadata": {},
     "output_type": "display_data"
    },
    {
     "data": {
      "text/html": [
       "Run data is saved locally in <code>/nfs/home/bhkim003/github_folder/ByeonghyeonKim/my_snn/wandb/run-20240725_225151-48l2vtfv</code>"
      ],
      "text/plain": [
       "<IPython.core.display.HTML object>"
      ]
     },
     "metadata": {},
     "output_type": "display_data"
    },
    {
     "data": {
      "text/html": [
       "Syncing run <strong><a href='https://wandb.ai/bhkim003-seoul-national-university/reservoir/runs/48l2vtfv' target=\"_blank\">chocolate-sweep-10</a></strong> to <a href='https://wandb.ai/bhkim003-seoul-national-university/reservoir' target=\"_blank\">Weights & Biases</a> (<a href='https://wandb.me/run' target=\"_blank\">docs</a>)<br/>Sweep page: <a href='https://wandb.ai/bhkim003-seoul-national-university/reservoir/sweeps/0j0aowy8' target=\"_blank\">https://wandb.ai/bhkim003-seoul-national-university/reservoir/sweeps/0j0aowy8</a>"
      ],
      "text/plain": [
       "<IPython.core.display.HTML object>"
      ]
     },
     "metadata": {},
     "output_type": "display_data"
    },
    {
     "data": {
      "text/html": [
       " View project at <a href='https://wandb.ai/bhkim003-seoul-national-university/reservoir' target=\"_blank\">https://wandb.ai/bhkim003-seoul-national-university/reservoir</a>"
      ],
      "text/plain": [
       "<IPython.core.display.HTML object>"
      ]
     },
     "metadata": {},
     "output_type": "display_data"
    },
    {
     "data": {
      "text/html": [
       " View sweep at <a href='https://wandb.ai/bhkim003-seoul-national-university/reservoir/sweeps/0j0aowy8' target=\"_blank\">https://wandb.ai/bhkim003-seoul-national-university/reservoir/sweeps/0j0aowy8</a>"
      ],
      "text/plain": [
       "<IPython.core.display.HTML object>"
      ]
     },
     "metadata": {},
     "output_type": "display_data"
    },
    {
     "data": {
      "text/html": [
       " View run at <a href='https://wandb.ai/bhkim003-seoul-national-university/reservoir/runs/48l2vtfv' target=\"_blank\">https://wandb.ai/bhkim003-seoul-national-university/reservoir/runs/48l2vtfv</a>"
      ],
      "text/plain": [
       "<IPython.core.display.HTML object>"
      ]
     },
     "metadata": {},
     "output_type": "display_data"
    },
    {
     "name": "stderr",
     "output_type": "stream",
     "text": [
      "\u001b[34m\u001b[1mwandb\u001b[0m: \u001b[33mWARNING\u001b[0m Config item 'data_path' was locked by 'sweep' (ignored update).\n",
      "\u001b[34m\u001b[1mwandb\u001b[0m: \u001b[33mWARNING\u001b[0m Config item 'which_data' was locked by 'sweep' (ignored update).\n",
      "\u001b[34m\u001b[1mwandb\u001b[0m: \u001b[33mWARNING\u001b[0m Config item 'learning_rate' was locked by 'sweep' (ignored update).\n",
      "\u001b[34m\u001b[1mwandb\u001b[0m: \u001b[33mWARNING\u001b[0m Config item 'IMAGE_SIZE' was locked by 'sweep' (ignored update).\n",
      "\u001b[34m\u001b[1mwandb\u001b[0m: \u001b[33mWARNING\u001b[0m Config item 'EPOCH' was locked by 'sweep' (ignored update).\n",
      "\u001b[34m\u001b[1mwandb\u001b[0m: \u001b[33mWARNING\u001b[0m Config item 'rate_coding' was locked by 'sweep' (ignored update).\n",
      "\u001b[34m\u001b[1mwandb\u001b[0m: \u001b[33mWARNING\u001b[0m Config item 'pre_spike_weight' was locked by 'sweep' (ignored update).\n",
      "\u001b[34m\u001b[1mwandb\u001b[0m: \u001b[33mWARNING\u001b[0m Config item 'dvs_duration' was locked by 'sweep' (ignored update).\n",
      "\u001b[34m\u001b[1mwandb\u001b[0m: \u001b[33mWARNING\u001b[0m Config item 'dvs_clipping' was locked by 'sweep' (ignored update).\n",
      "\u001b[34m\u001b[1mwandb\u001b[0m: \u001b[33mWARNING\u001b[0m Config item 'no_reservoir' was locked by 'sweep' (ignored update).\n"
     ]
    },
    {
     "name": "stdout",
     "output_type": "stream",
     "text": [
      "The directory [/data2/gesture/duration_1000000] already exists.\n",
      "The directory [/data2/gesture/duration_1000000] already exists.\n",
      "NO_RESERVOIR_NET(\n",
      "  (reservoir): RESERVOIR(\n",
      "    (conv_depthwise): Conv2d(2, 2, kernel_size=(3, 3), stride=(1, 1), padding=(1, 1), groups=2)\n",
      "  )\n",
      "  (linear): Linear(in_features=4608, out_features=10, bias=True)\n",
      ")\n",
      "Epoch 1\n",
      "Train Accuracy: 15.49%\n",
      "Test loss: 92.125, Accuracy: 16.67%\n",
      "Epoch 2\n",
      "Train Accuracy: 37.85%\n",
      "Test loss: 17.888, Accuracy: 36.36%\n",
      "Epoch 3\n",
      "Train Accuracy: 57.33%\n",
      "Test loss: 10.262, Accuracy: 52.65%\n",
      "Epoch 4\n",
      "Train Accuracy: 62.80%\n",
      "Test loss: 11.024, Accuracy: 44.32%\n",
      "Epoch 5\n",
      "Train Accuracy: 71.80%\n",
      "Test loss: 7.682, Accuracy: 56.06%\n",
      "Epoch 6\n",
      "Train Accuracy: 76.81%\n",
      "Test loss: 5.290, Accuracy: 56.06%\n",
      "Epoch 7\n",
      "Train Accuracy: 80.43%\n",
      "Test loss: 5.323, Accuracy: 64.02%\n",
      "Epoch 8\n",
      "Train Accuracy: 86.64%\n",
      "Test loss: 6.220, Accuracy: 65.53%\n",
      "Epoch 9\n",
      "Train Accuracy: 90.82%\n",
      "Test loss: 5.254, Accuracy: 62.12%\n",
      "Epoch 10\n",
      "Train Accuracy: 94.16%\n",
      "Test loss: 5.456, Accuracy: 62.50%\n",
      "Epoch 11\n",
      "Train Accuracy: 86.92%\n",
      "Test loss: 6.141, Accuracy: 58.33%\n",
      "Epoch 12\n",
      "Train Accuracy: 89.24%\n",
      "Test loss: 7.423, Accuracy: 61.36%\n",
      "Epoch 13\n",
      "Train Accuracy: 86.36%\n",
      "Test loss: 4.719, Accuracy: 61.74%\n",
      "Epoch 14\n",
      "Train Accuracy: 88.78%\n",
      "Test loss: 4.906, Accuracy: 64.02%\n",
      "Epoch 15\n",
      "Train Accuracy: 90.07%\n",
      "Test loss: 4.388, Accuracy: 65.91%\n",
      "Epoch 16\n",
      "Train Accuracy: 97.87%\n",
      "Test loss: 3.667, Accuracy: 67.05%\n",
      "Epoch 17\n",
      "Train Accuracy: 98.98%\n",
      "Test loss: 4.015, Accuracy: 67.80%\n",
      "Epoch 18\n",
      "Train Accuracy: 99.17%\n",
      "Test loss: 4.353, Accuracy: 66.29%\n",
      "Epoch 19\n",
      "Train Accuracy: 99.26%\n",
      "Test loss: 4.164, Accuracy: 64.77%\n",
      "Epoch 20\n",
      "Train Accuracy: 99.72%\n",
      "Test loss: 4.043, Accuracy: 67.80%\n",
      "Epoch 21\n",
      "Train Accuracy: 100.00%\n",
      "Test loss: 3.759, Accuracy: 67.80%\n",
      "Epoch 22\n",
      "Train Accuracy: 100.00%\n",
      "Test loss: 3.754, Accuracy: 69.70%\n",
      "Epoch 23\n",
      "Train Accuracy: 100.00%\n",
      "Test loss: 3.983, Accuracy: 69.32%\n",
      "Epoch 24\n",
      "Train Accuracy: 100.00%\n",
      "Test loss: 3.905, Accuracy: 68.18%\n",
      "Epoch 25\n",
      "Train Accuracy: 100.00%\n",
      "Test loss: 3.802, Accuracy: 68.94%\n",
      "Epoch 26\n",
      "Train Accuracy: 100.00%\n",
      "Test loss: 3.824, Accuracy: 68.94%\n",
      "Epoch 27\n",
      "Train Accuracy: 100.00%\n",
      "Test loss: 3.842, Accuracy: 69.32%\n",
      "Epoch 28\n",
      "Train Accuracy: 100.00%\n",
      "Test loss: 3.853, Accuracy: 69.32%\n",
      "Epoch 29\n",
      "Train Accuracy: 100.00%\n",
      "Test loss: 3.848, Accuracy: 68.94%\n",
      "Epoch 30\n",
      "Train Accuracy: 100.00%\n",
      "Test loss: 3.847, Accuracy: 68.94%\n",
      "Epoch 31\n",
      "Train Accuracy: 100.00%\n",
      "Test loss: 3.836, Accuracy: 68.56%\n",
      "Epoch 32\n",
      "Train Accuracy: 100.00%\n",
      "Test loss: 3.846, Accuracy: 68.94%\n",
      "Epoch 33\n",
      "Train Accuracy: 100.00%\n",
      "Test loss: 3.854, Accuracy: 69.32%\n",
      "Epoch 34\n",
      "Train Accuracy: 100.00%\n",
      "Test loss: 3.848, Accuracy: 68.18%\n",
      "Epoch 35\n",
      "Train Accuracy: 100.00%\n",
      "Test loss: 3.828, Accuracy: 68.94%\n",
      "Epoch 36\n",
      "Train Accuracy: 100.00%\n",
      "Test loss: 3.850, Accuracy: 69.32%\n",
      "Epoch 37\n",
      "Train Accuracy: 100.00%\n",
      "Test loss: 3.835, Accuracy: 68.94%\n",
      "Epoch 38\n",
      "Train Accuracy: 100.00%\n",
      "Test loss: 3.841, Accuracy: 68.94%\n",
      "Epoch 39\n",
      "Train Accuracy: 100.00%\n",
      "Test loss: 3.858, Accuracy: 69.32%\n",
      "Epoch 40\n",
      "Train Accuracy: 100.00%\n",
      "Test loss: 3.847, Accuracy: 69.32%\n",
      "Epoch 41\n",
      "Train Accuracy: 100.00%\n",
      "Test loss: 3.842, Accuracy: 68.94%\n",
      "Epoch 42\n",
      "Train Accuracy: 100.00%\n",
      "Test loss: 3.856, Accuracy: 69.32%\n",
      "Epoch 43\n",
      "Train Accuracy: 100.00%\n",
      "Test loss: 3.841, Accuracy: 68.94%\n",
      "Epoch 44\n",
      "Train Accuracy: 100.00%\n",
      "Test loss: 3.840, Accuracy: 68.94%\n",
      "Epoch 45\n",
      "Train Accuracy: 100.00%\n",
      "Test loss: 3.827, Accuracy: 68.94%\n",
      "Epoch 46\n",
      "Train Accuracy: 100.00%\n",
      "Test loss: 3.847, Accuracy: 69.32%\n",
      "Epoch 47\n",
      "Train Accuracy: 100.00%\n",
      "Test loss: 3.860, Accuracy: 69.32%\n",
      "Epoch 48\n",
      "Train Accuracy: 100.00%\n",
      "Test loss: 3.843, Accuracy: 68.94%\n",
      "Epoch 49\n",
      "Train Accuracy: 100.00%\n",
      "Test loss: 3.842, Accuracy: 68.94%\n",
      "Epoch 50\n",
      "Train Accuracy: 100.00%\n",
      "Test loss: 3.848, Accuracy: 69.32%\n"
     ]
    },
    {
     "data": {
      "application/vnd.jupyter.widget-view+json": {
       "model_id": "fc53a19ae8df4153b5d4cc681b58316c",
       "version_major": 2,
       "version_minor": 0
      },
      "text/plain": [
       "VBox(children=(Label(value='20.700 MB of 20.700 MB uploaded (20.027 MB deduped)\\r'), FloatProgress(value=1.0, …"
      ]
     },
     "metadata": {},
     "output_type": "display_data"
    },
    {
     "data": {
      "text/html": [
       "W&B sync reduced upload amount by 96.4%"
      ],
      "text/plain": [
       "<IPython.core.display.HTML object>"
      ]
     },
     "metadata": {},
     "output_type": "display_data"
    },
    {
     "data": {
      "text/html": [
       "<style>\n",
       "    table.wandb td:nth-child(1) { padding: 0 10px; text-align: left ; width: auto;} td:nth-child(2) {text-align: left ; width: 100%}\n",
       "    .wandb-row { display: flex; flex-direction: row; flex-wrap: wrap; justify-content: flex-start; width: 100% }\n",
       "    .wandb-col { display: flex; flex-direction: column; flex-basis: 100%; flex: 1; padding: 10px; }\n",
       "    </style>\n",
       "<div class=\"wandb-row\"><div class=\"wandb-col\"><h3>Run history:</h3><br/><table class=\"wandb\"><tr><td>iter_accuracy</td><td>▁▃▄▆▆▆▆▇▇▇▇▇████████████████████████████</td></tr><tr><td>tr_accuracy</td><td>▁▃▄▅▆▆▇▇▇▇▇▇████████████████████████████</td></tr><tr><td>val_accuracy</td><td>▁▄▆▅▆▇▇▇▇▇▇▇███▇████████████████████████</td></tr></table><br/></div><div class=\"wandb-col\"><h3>Run summary:</h3><br/><table class=\"wandb\"><tr><td>iter_accuracy</td><td>100.0</td></tr><tr><td>tr_accuracy</td><td>100.0</td></tr><tr><td>val_accuracy</td><td>69.31818</td></tr></table><br/></div></div>"
      ],
      "text/plain": [
       "<IPython.core.display.HTML object>"
      ]
     },
     "metadata": {},
     "output_type": "display_data"
    },
    {
     "data": {
      "text/html": [
       " View run <strong style=\"color:#cdcd00\">chocolate-sweep-10</strong> at: <a href='https://wandb.ai/bhkim003-seoul-national-university/reservoir/runs/48l2vtfv' target=\"_blank\">https://wandb.ai/bhkim003-seoul-national-university/reservoir/runs/48l2vtfv</a><br/> View project at: <a href='https://wandb.ai/bhkim003-seoul-national-university/reservoir' target=\"_blank\">https://wandb.ai/bhkim003-seoul-national-university/reservoir</a><br/>Synced 7 W&B file(s), 0 media file(s), 29 artifact file(s) and 1 other file(s)"
      ],
      "text/plain": [
       "<IPython.core.display.HTML object>"
      ]
     },
     "metadata": {},
     "output_type": "display_data"
    },
    {
     "data": {
      "text/html": [
       "Find logs at: <code>./wandb/run-20240725_225151-48l2vtfv/logs</code>"
      ],
      "text/plain": [
       "<IPython.core.display.HTML object>"
      ]
     },
     "metadata": {},
     "output_type": "display_data"
    },
    {
     "data": {
      "text/html": [
       "The new W&B backend becomes opt-out in version 0.18.0; try it out with `wandb.require(\"core\")`! See https://wandb.me/wandb-core for more information."
      ],
      "text/plain": [
       "<IPython.core.display.HTML object>"
      ]
     },
     "metadata": {},
     "output_type": "display_data"
    },
    {
     "name": "stderr",
     "output_type": "stream",
     "text": [
      "\u001b[34m\u001b[1mwandb\u001b[0m: Agent Starting Run: m0x5f269 with config:\n",
      "\u001b[34m\u001b[1mwandb\u001b[0m: \tEPOCH: 50\n",
      "\u001b[34m\u001b[1mwandb\u001b[0m: \tIMAGE_SIZE: 48\n",
      "\u001b[34m\u001b[1mwandb\u001b[0m: \tbatch_size: 32\n",
      "\u001b[34m\u001b[1mwandb\u001b[0m: \tdata_path: /data2\n",
      "\u001b[34m\u001b[1mwandb\u001b[0m: \tdecay: 0.32845224875924384\n",
      "\u001b[34m\u001b[1mwandb\u001b[0m: \tdvs_clipping: True\n",
      "\u001b[34m\u001b[1mwandb\u001b[0m: \tdvs_duration: 1000000\n",
      "\u001b[34m\u001b[1mwandb\u001b[0m: \tlearning_rate: 0.012761668411737145\n",
      "\u001b[34m\u001b[1mwandb\u001b[0m: \tno_reservoir: False\n",
      "\u001b[34m\u001b[1mwandb\u001b[0m: \tpre_spike_weight: 1.0842478189385023\n",
      "\u001b[34m\u001b[1mwandb\u001b[0m: \trate_coding: False\n",
      "\u001b[34m\u001b[1mwandb\u001b[0m: \ttime_step: 5\n",
      "\u001b[34m\u001b[1mwandb\u001b[0m: \twhich_data: DVS_GESTURE\n",
      "Failed to detect the name of this notebook, you can set it manually with the WANDB_NOTEBOOK_NAME environment variable to enable code saving.\n"
     ]
    },
    {
     "data": {
      "text/html": [
       "Tracking run with wandb version 0.17.5"
      ],
      "text/plain": [
       "<IPython.core.display.HTML object>"
      ]
     },
     "metadata": {},
     "output_type": "display_data"
    },
    {
     "data": {
      "text/html": [
       "Run data is saved locally in <code>/nfs/home/bhkim003/github_folder/ByeonghyeonKim/my_snn/wandb/run-20240725_225753-m0x5f269</code>"
      ],
      "text/plain": [
       "<IPython.core.display.HTML object>"
      ]
     },
     "metadata": {},
     "output_type": "display_data"
    },
    {
     "data": {
      "text/html": [
       "Syncing run <strong><a href='https://wandb.ai/bhkim003-seoul-national-university/reservoir/runs/m0x5f269' target=\"_blank\">stellar-sweep-11</a></strong> to <a href='https://wandb.ai/bhkim003-seoul-national-university/reservoir' target=\"_blank\">Weights & Biases</a> (<a href='https://wandb.me/run' target=\"_blank\">docs</a>)<br/>Sweep page: <a href='https://wandb.ai/bhkim003-seoul-national-university/reservoir/sweeps/0j0aowy8' target=\"_blank\">https://wandb.ai/bhkim003-seoul-national-university/reservoir/sweeps/0j0aowy8</a>"
      ],
      "text/plain": [
       "<IPython.core.display.HTML object>"
      ]
     },
     "metadata": {},
     "output_type": "display_data"
    },
    {
     "data": {
      "text/html": [
       " View project at <a href='https://wandb.ai/bhkim003-seoul-national-university/reservoir' target=\"_blank\">https://wandb.ai/bhkim003-seoul-national-university/reservoir</a>"
      ],
      "text/plain": [
       "<IPython.core.display.HTML object>"
      ]
     },
     "metadata": {},
     "output_type": "display_data"
    },
    {
     "data": {
      "text/html": [
       " View sweep at <a href='https://wandb.ai/bhkim003-seoul-national-university/reservoir/sweeps/0j0aowy8' target=\"_blank\">https://wandb.ai/bhkim003-seoul-national-university/reservoir/sweeps/0j0aowy8</a>"
      ],
      "text/plain": [
       "<IPython.core.display.HTML object>"
      ]
     },
     "metadata": {},
     "output_type": "display_data"
    },
    {
     "data": {
      "text/html": [
       " View run at <a href='https://wandb.ai/bhkim003-seoul-national-university/reservoir/runs/m0x5f269' target=\"_blank\">https://wandb.ai/bhkim003-seoul-national-university/reservoir/runs/m0x5f269</a>"
      ],
      "text/plain": [
       "<IPython.core.display.HTML object>"
      ]
     },
     "metadata": {},
     "output_type": "display_data"
    },
    {
     "name": "stderr",
     "output_type": "stream",
     "text": [
      "\u001b[34m\u001b[1mwandb\u001b[0m: \u001b[33mWARNING\u001b[0m Config item 'data_path' was locked by 'sweep' (ignored update).\n",
      "\u001b[34m\u001b[1mwandb\u001b[0m: \u001b[33mWARNING\u001b[0m Config item 'which_data' was locked by 'sweep' (ignored update).\n",
      "\u001b[34m\u001b[1mwandb\u001b[0m: \u001b[33mWARNING\u001b[0m Config item 'learning_rate' was locked by 'sweep' (ignored update).\n",
      "\u001b[34m\u001b[1mwandb\u001b[0m: \u001b[33mWARNING\u001b[0m Config item 'IMAGE_SIZE' was locked by 'sweep' (ignored update).\n",
      "\u001b[34m\u001b[1mwandb\u001b[0m: \u001b[33mWARNING\u001b[0m Config item 'EPOCH' was locked by 'sweep' (ignored update).\n",
      "\u001b[34m\u001b[1mwandb\u001b[0m: \u001b[33mWARNING\u001b[0m Config item 'rate_coding' was locked by 'sweep' (ignored update).\n",
      "\u001b[34m\u001b[1mwandb\u001b[0m: \u001b[33mWARNING\u001b[0m Config item 'pre_spike_weight' was locked by 'sweep' (ignored update).\n",
      "\u001b[34m\u001b[1mwandb\u001b[0m: \u001b[33mWARNING\u001b[0m Config item 'dvs_duration' was locked by 'sweep' (ignored update).\n",
      "\u001b[34m\u001b[1mwandb\u001b[0m: \u001b[33mWARNING\u001b[0m Config item 'dvs_clipping' was locked by 'sweep' (ignored update).\n",
      "\u001b[34m\u001b[1mwandb\u001b[0m: \u001b[33mWARNING\u001b[0m Config item 'no_reservoir' was locked by 'sweep' (ignored update).\n"
     ]
    },
    {
     "name": "stdout",
     "output_type": "stream",
     "text": [
      "The directory [/data2/gesture/duration_1000000] already exists.\n",
      "The directory [/data2/gesture/duration_1000000] already exists.\n",
      "RESERVOIR_NET(\n",
      "  (reservoir): RESERVOIR(\n",
      "    (conv_depthwise): Conv2d(2, 2, kernel_size=(3, 3), stride=(1, 1), padding=(1, 1), groups=2)\n",
      "  )\n",
      "  (linear): Linear(in_features=4608, out_features=10, bias=True)\n",
      ")\n",
      "Epoch 1\n",
      "Train Accuracy: 37.66%\n",
      "Test loss: 1.643, Accuracy: 49.24%\n",
      "Epoch 2\n",
      "Train Accuracy: 62.62%\n",
      "Test loss: 1.212, Accuracy: 59.85%\n",
      "Epoch 3\n",
      "Train Accuracy: 71.34%\n",
      "Test loss: 1.281, Accuracy: 62.12%\n",
      "Epoch 4\n",
      "Train Accuracy: 84.79%\n",
      "Test loss: 1.508, Accuracy: 59.85%\n",
      "Epoch 5\n",
      "Train Accuracy: 81.08%\n",
      "Test loss: 1.419, Accuracy: 57.20%\n",
      "Epoch 6\n",
      "Train Accuracy: 86.92%\n",
      "Test loss: 0.999, Accuracy: 66.67%\n",
      "Epoch 7\n",
      "Train Accuracy: 96.01%\n",
      "Test loss: 0.933, Accuracy: 71.21%\n",
      "Epoch 8\n",
      "Train Accuracy: 98.33%\n",
      "Test loss: 0.873, Accuracy: 68.56%\n",
      "Epoch 9\n",
      "Train Accuracy: 98.24%\n",
      "Test loss: 0.950, Accuracy: 66.29%\n",
      "Epoch 10\n",
      "Train Accuracy: 97.68%\n",
      "Test loss: 1.155, Accuracy: 64.02%\n",
      "Epoch 11\n",
      "Train Accuracy: 98.33%\n",
      "Test loss: 1.028, Accuracy: 63.26%\n",
      "Epoch 12\n",
      "Train Accuracy: 98.89%\n",
      "Test loss: 1.136, Accuracy: 61.74%\n",
      "Epoch 13\n",
      "Train Accuracy: 98.52%\n",
      "Test loss: 0.934, Accuracy: 69.70%\n",
      "Epoch 14\n",
      "Train Accuracy: 99.63%\n",
      "Test loss: 0.998, Accuracy: 66.29%\n",
      "Epoch 15\n",
      "Train Accuracy: 99.26%\n",
      "Test loss: 0.963, Accuracy: 70.45%\n",
      "Epoch 16\n",
      "Train Accuracy: 99.35%\n",
      "Test loss: 1.031, Accuracy: 66.67%\n",
      "Epoch 17\n",
      "Train Accuracy: 100.00%\n",
      "Test loss: 0.982, Accuracy: 70.45%\n",
      "Epoch 18\n",
      "Train Accuracy: 100.00%\n",
      "Test loss: 0.979, Accuracy: 68.18%\n",
      "Epoch 19\n",
      "Train Accuracy: 100.00%\n",
      "Test loss: 1.006, Accuracy: 67.42%\n",
      "Epoch 20\n",
      "Train Accuracy: 100.00%\n",
      "Test loss: 0.934, Accuracy: 70.83%\n",
      "Epoch 21\n",
      "Train Accuracy: 100.00%\n",
      "Test loss: 0.947, Accuracy: 69.70%\n",
      "Epoch 22\n",
      "Train Accuracy: 100.00%\n",
      "Test loss: 0.963, Accuracy: 68.18%\n",
      "Epoch 23\n",
      "Train Accuracy: 100.00%\n",
      "Test loss: 0.924, Accuracy: 70.83%\n",
      "Epoch 24\n",
      "Train Accuracy: 100.00%\n",
      "Test loss: 1.004, Accuracy: 70.08%\n",
      "Epoch 25\n",
      "Train Accuracy: 100.00%\n",
      "Test loss: 0.984, Accuracy: 70.83%\n",
      "Epoch 26\n",
      "Train Accuracy: 100.00%\n",
      "Test loss: 1.004, Accuracy: 66.29%\n",
      "Epoch 27\n",
      "Train Accuracy: 100.00%\n",
      "Test loss: 0.927, Accuracy: 70.08%\n",
      "Epoch 28\n",
      "Train Accuracy: 100.00%\n",
      "Test loss: 0.967, Accuracy: 70.45%\n",
      "Epoch 29\n",
      "Train Accuracy: 100.00%\n",
      "Test loss: 0.982, Accuracy: 71.21%\n",
      "Epoch 30\n",
      "Train Accuracy: 100.00%\n",
      "Test loss: 1.009, Accuracy: 70.45%\n",
      "Epoch 31\n",
      "Train Accuracy: 100.00%\n",
      "Test loss: 0.968, Accuracy: 73.11%\n",
      "Epoch 32\n",
      "Train Accuracy: 100.00%\n",
      "Test loss: 0.982, Accuracy: 70.45%\n",
      "Epoch 33\n",
      "Train Accuracy: 100.00%\n",
      "Test loss: 0.987, Accuracy: 70.08%\n",
      "Epoch 34\n",
      "Train Accuracy: 100.00%\n",
      "Test loss: 0.997, Accuracy: 68.18%\n",
      "Epoch 35\n",
      "Train Accuracy: 100.00%\n",
      "Test loss: 0.998, Accuracy: 70.83%\n",
      "Epoch 36\n",
      "Train Accuracy: 100.00%\n",
      "Test loss: 0.987, Accuracy: 69.32%\n",
      "Epoch 37\n",
      "Train Accuracy: 100.00%\n",
      "Test loss: 0.986, Accuracy: 69.32%\n",
      "Epoch 38\n",
      "Train Accuracy: 100.00%\n",
      "Test loss: 0.995, Accuracy: 71.21%\n",
      "Epoch 39\n",
      "Train Accuracy: 100.00%\n",
      "Test loss: 0.996, Accuracy: 70.08%\n",
      "Epoch 40\n",
      "Train Accuracy: 100.00%\n",
      "Test loss: 1.014, Accuracy: 68.56%\n",
      "Epoch 41\n",
      "Train Accuracy: 100.00%\n",
      "Test loss: 1.011, Accuracy: 70.83%\n",
      "Epoch 42\n",
      "Train Accuracy: 100.00%\n",
      "Test loss: 0.997, Accuracy: 71.21%\n",
      "Epoch 43\n",
      "Train Accuracy: 100.00%\n",
      "Test loss: 1.000, Accuracy: 71.21%\n",
      "Epoch 44\n",
      "Train Accuracy: 100.00%\n",
      "Test loss: 0.989, Accuracy: 70.83%\n",
      "Epoch 45\n",
      "Train Accuracy: 100.00%\n",
      "Test loss: 1.005, Accuracy: 70.83%\n",
      "Epoch 46\n",
      "Train Accuracy: 100.00%\n",
      "Test loss: 1.031, Accuracy: 66.67%\n",
      "Epoch 47\n",
      "Train Accuracy: 100.00%\n",
      "Test loss: 1.003, Accuracy: 70.08%\n",
      "Epoch 48\n",
      "Train Accuracy: 100.00%\n",
      "Test loss: 1.017, Accuracy: 70.83%\n",
      "Epoch 49\n",
      "Train Accuracy: 100.00%\n",
      "Test loss: 1.024, Accuracy: 67.42%\n",
      "Epoch 50\n",
      "Train Accuracy: 100.00%\n",
      "Test loss: 1.004, Accuracy: 68.18%\n"
     ]
    },
    {
     "data": {
      "application/vnd.jupyter.widget-view+json": {
       "model_id": "905b3b01e0f64cdb85c43775e06d22ba",
       "version_major": 2,
       "version_minor": 0
      },
      "text/plain": [
       "VBox(children=(Label(value='0.268 MB of 0.268 MB uploaded\\r'), FloatProgress(value=1.0, max=1.0)))"
      ]
     },
     "metadata": {},
     "output_type": "display_data"
    },
    {
     "data": {
      "text/html": [
       "<style>\n",
       "    table.wandb td:nth-child(1) { padding: 0 10px; text-align: left ; width: auto;} td:nth-child(2) {text-align: left ; width: 100%}\n",
       "    .wandb-row { display: flex; flex-direction: row; flex-wrap: wrap; justify-content: flex-start; width: 100% }\n",
       "    .wandb-col { display: flex; flex-direction: column; flex-basis: 100%; flex: 1; padding: 10px; }\n",
       "    </style>\n",
       "<div class=\"wandb-row\"><div class=\"wandb-col\"><h3>Run history:</h3><br/><table class=\"wandb\"><tr><td>iter_accuracy</td><td>▁▁▆█▇██▆▇███████████████████████████████</td></tr><tr><td>tr_accuracy</td><td>▁▄▅▆▇███████████████████████████████████</td></tr><tr><td>val_accuracy</td><td>▁▄▅▄▆▇▇▆▅▅▇▆▆▇▇▆▇▇▇▇▆▇▇▇█▇▇▇▇▇▇▇▇▇▇▇▆▇▇▇</td></tr></table><br/></div><div class=\"wandb-col\"><h3>Run summary:</h3><br/><table class=\"wandb\"><tr><td>iter_accuracy</td><td>100.0</td></tr><tr><td>tr_accuracy</td><td>100.0</td></tr><tr><td>val_accuracy</td><td>68.18182</td></tr></table><br/></div></div>"
      ],
      "text/plain": [
       "<IPython.core.display.HTML object>"
      ]
     },
     "metadata": {},
     "output_type": "display_data"
    },
    {
     "data": {
      "text/html": [
       " View run <strong style=\"color:#cdcd00\">stellar-sweep-11</strong> at: <a href='https://wandb.ai/bhkim003-seoul-national-university/reservoir/runs/m0x5f269' target=\"_blank\">https://wandb.ai/bhkim003-seoul-national-university/reservoir/runs/m0x5f269</a><br/> View project at: <a href='https://wandb.ai/bhkim003-seoul-national-university/reservoir' target=\"_blank\">https://wandb.ai/bhkim003-seoul-national-university/reservoir</a><br/>Synced 7 W&B file(s), 0 media file(s), 0 artifact file(s) and 1 other file(s)"
      ],
      "text/plain": [
       "<IPython.core.display.HTML object>"
      ]
     },
     "metadata": {},
     "output_type": "display_data"
    },
    {
     "data": {
      "text/html": [
       "Find logs at: <code>./wandb/run-20240725_225753-m0x5f269/logs</code>"
      ],
      "text/plain": [
       "<IPython.core.display.HTML object>"
      ]
     },
     "metadata": {},
     "output_type": "display_data"
    },
    {
     "data": {
      "text/html": [
       "The new W&B backend becomes opt-out in version 0.18.0; try it out with `wandb.require(\"core\")`! See https://wandb.me/wandb-core for more information."
      ],
      "text/plain": [
       "<IPython.core.display.HTML object>"
      ]
     },
     "metadata": {},
     "output_type": "display_data"
    },
    {
     "name": "stderr",
     "output_type": "stream",
     "text": [
      "\u001b[34m\u001b[1mwandb\u001b[0m: Agent Starting Run: 238oajt4 with config:\n",
      "\u001b[34m\u001b[1mwandb\u001b[0m: \tEPOCH: 50\n",
      "\u001b[34m\u001b[1mwandb\u001b[0m: \tIMAGE_SIZE: 48\n",
      "\u001b[34m\u001b[1mwandb\u001b[0m: \tbatch_size: 128\n",
      "\u001b[34m\u001b[1mwandb\u001b[0m: \tdata_path: /data2\n",
      "\u001b[34m\u001b[1mwandb\u001b[0m: \tdecay: 0.6893081226366031\n",
      "\u001b[34m\u001b[1mwandb\u001b[0m: \tdvs_clipping: True\n",
      "\u001b[34m\u001b[1mwandb\u001b[0m: \tdvs_duration: 1000000\n",
      "\u001b[34m\u001b[1mwandb\u001b[0m: \tlearning_rate: 0.02938418053209956\n",
      "\u001b[34m\u001b[1mwandb\u001b[0m: \tno_reservoir: False\n",
      "\u001b[34m\u001b[1mwandb\u001b[0m: \tpre_spike_weight: 1.9688575260181496\n",
      "\u001b[34m\u001b[1mwandb\u001b[0m: \trate_coding: True\n",
      "\u001b[34m\u001b[1mwandb\u001b[0m: \ttime_step: 7\n",
      "\u001b[34m\u001b[1mwandb\u001b[0m: \twhich_data: DVS_GESTURE\n",
      "Failed to detect the name of this notebook, you can set it manually with the WANDB_NOTEBOOK_NAME environment variable to enable code saving.\n"
     ]
    },
    {
     "data": {
      "text/html": [
       "Tracking run with wandb version 0.17.5"
      ],
      "text/plain": [
       "<IPython.core.display.HTML object>"
      ]
     },
     "metadata": {},
     "output_type": "display_data"
    },
    {
     "data": {
      "text/html": [
       "Run data is saved locally in <code>/nfs/home/bhkim003/github_folder/ByeonghyeonKim/my_snn/wandb/run-20240725_230347-238oajt4</code>"
      ],
      "text/plain": [
       "<IPython.core.display.HTML object>"
      ]
     },
     "metadata": {},
     "output_type": "display_data"
    },
    {
     "data": {
      "text/html": [
       "Syncing run <strong><a href='https://wandb.ai/bhkim003-seoul-national-university/reservoir/runs/238oajt4' target=\"_blank\">feasible-sweep-12</a></strong> to <a href='https://wandb.ai/bhkim003-seoul-national-university/reservoir' target=\"_blank\">Weights & Biases</a> (<a href='https://wandb.me/run' target=\"_blank\">docs</a>)<br/>Sweep page: <a href='https://wandb.ai/bhkim003-seoul-national-university/reservoir/sweeps/0j0aowy8' target=\"_blank\">https://wandb.ai/bhkim003-seoul-national-university/reservoir/sweeps/0j0aowy8</a>"
      ],
      "text/plain": [
       "<IPython.core.display.HTML object>"
      ]
     },
     "metadata": {},
     "output_type": "display_data"
    },
    {
     "data": {
      "text/html": [
       " View project at <a href='https://wandb.ai/bhkim003-seoul-national-university/reservoir' target=\"_blank\">https://wandb.ai/bhkim003-seoul-national-university/reservoir</a>"
      ],
      "text/plain": [
       "<IPython.core.display.HTML object>"
      ]
     },
     "metadata": {},
     "output_type": "display_data"
    },
    {
     "data": {
      "text/html": [
       " View sweep at <a href='https://wandb.ai/bhkim003-seoul-national-university/reservoir/sweeps/0j0aowy8' target=\"_blank\">https://wandb.ai/bhkim003-seoul-national-university/reservoir/sweeps/0j0aowy8</a>"
      ],
      "text/plain": [
       "<IPython.core.display.HTML object>"
      ]
     },
     "metadata": {},
     "output_type": "display_data"
    },
    {
     "data": {
      "text/html": [
       " View run at <a href='https://wandb.ai/bhkim003-seoul-national-university/reservoir/runs/238oajt4' target=\"_blank\">https://wandb.ai/bhkim003-seoul-national-university/reservoir/runs/238oajt4</a>"
      ],
      "text/plain": [
       "<IPython.core.display.HTML object>"
      ]
     },
     "metadata": {},
     "output_type": "display_data"
    },
    {
     "name": "stderr",
     "output_type": "stream",
     "text": [
      "\u001b[34m\u001b[1mwandb\u001b[0m: \u001b[33mWARNING\u001b[0m Config item 'data_path' was locked by 'sweep' (ignored update).\n",
      "\u001b[34m\u001b[1mwandb\u001b[0m: \u001b[33mWARNING\u001b[0m Config item 'which_data' was locked by 'sweep' (ignored update).\n",
      "\u001b[34m\u001b[1mwandb\u001b[0m: \u001b[33mWARNING\u001b[0m Config item 'learning_rate' was locked by 'sweep' (ignored update).\n",
      "\u001b[34m\u001b[1mwandb\u001b[0m: \u001b[33mWARNING\u001b[0m Config item 'IMAGE_SIZE' was locked by 'sweep' (ignored update).\n",
      "\u001b[34m\u001b[1mwandb\u001b[0m: \u001b[33mWARNING\u001b[0m Config item 'EPOCH' was locked by 'sweep' (ignored update).\n",
      "\u001b[34m\u001b[1mwandb\u001b[0m: \u001b[33mWARNING\u001b[0m Config item 'rate_coding' was locked by 'sweep' (ignored update).\n",
      "\u001b[34m\u001b[1mwandb\u001b[0m: \u001b[33mWARNING\u001b[0m Config item 'pre_spike_weight' was locked by 'sweep' (ignored update).\n",
      "\u001b[34m\u001b[1mwandb\u001b[0m: \u001b[33mWARNING\u001b[0m Config item 'dvs_duration' was locked by 'sweep' (ignored update).\n",
      "\u001b[34m\u001b[1mwandb\u001b[0m: \u001b[33mWARNING\u001b[0m Config item 'dvs_clipping' was locked by 'sweep' (ignored update).\n",
      "\u001b[34m\u001b[1mwandb\u001b[0m: \u001b[33mWARNING\u001b[0m Config item 'no_reservoir' was locked by 'sweep' (ignored update).\n"
     ]
    },
    {
     "name": "stdout",
     "output_type": "stream",
     "text": [
      "The directory [/data2/gesture/duration_1000000] already exists.\n",
      "The directory [/data2/gesture/duration_1000000] already exists.\n",
      "RESERVOIR_NET(\n",
      "  (reservoir): RESERVOIR(\n",
      "    (conv_depthwise): Conv2d(2, 2, kernel_size=(3, 3), stride=(1, 1), padding=(1, 1), groups=2)\n",
      "  )\n",
      "  (linear): Linear(in_features=4608, out_features=10, bias=True)\n",
      ")\n",
      "Epoch 1\n",
      "Train Accuracy: 20.50%\n",
      "Test loss: 7.889, Accuracy: 25.00%\n",
      "Epoch 2\n",
      "Train Accuracy: 32.10%\n",
      "Test loss: 5.663, Accuracy: 32.95%\n",
      "Epoch 3\n",
      "Train Accuracy: 44.99%\n",
      "Test loss: 6.108, Accuracy: 42.05%\n",
      "Epoch 4\n",
      "Train Accuracy: 54.92%\n",
      "Test loss: 3.004, Accuracy: 47.73%\n",
      "Epoch 5\n",
      "Train Accuracy: 65.49%\n",
      "Test loss: 1.479, Accuracy: 57.95%\n",
      "Epoch 6\n",
      "Train Accuracy: 74.86%\n",
      "Test loss: 2.306, Accuracy: 46.59%\n",
      "Epoch 7\n",
      "Train Accuracy: 72.36%\n",
      "Test loss: 1.832, Accuracy: 61.74%\n",
      "Epoch 8\n",
      "Train Accuracy: 80.43%\n",
      "Test loss: 1.720, Accuracy: 60.23%\n",
      "Epoch 9\n",
      "Train Accuracy: 82.75%\n",
      "Test loss: 3.298, Accuracy: 56.06%\n",
      "Epoch 10\n",
      "Train Accuracy: 81.82%\n",
      "Test loss: 2.467, Accuracy: 61.74%\n",
      "Epoch 11\n",
      "Train Accuracy: 87.85%\n",
      "Test loss: 2.333, Accuracy: 60.23%\n",
      "Epoch 12\n",
      "Train Accuracy: 89.61%\n",
      "Test loss: 2.094, Accuracy: 63.64%\n",
      "Epoch 13\n",
      "Train Accuracy: 93.14%\n",
      "Test loss: 1.779, Accuracy: 63.64%\n",
      "Epoch 14\n",
      "Train Accuracy: 96.94%\n",
      "Test loss: 1.847, Accuracy: 64.77%\n",
      "Epoch 15\n",
      "Train Accuracy: 98.52%\n",
      "Test loss: 2.131, Accuracy: 66.29%\n",
      "Epoch 16\n",
      "Train Accuracy: 99.44%\n",
      "Test loss: 1.712, Accuracy: 71.21%\n",
      "Epoch 17\n",
      "Train Accuracy: 99.44%\n",
      "Test loss: 1.771, Accuracy: 68.18%\n",
      "Epoch 18\n",
      "Train Accuracy: 99.72%\n",
      "Test loss: 1.932, Accuracy: 68.56%\n",
      "Epoch 19\n",
      "Train Accuracy: 99.91%\n",
      "Test loss: 1.668, Accuracy: 67.80%\n",
      "Epoch 20\n",
      "Train Accuracy: 99.91%\n",
      "Test loss: 2.031, Accuracy: 67.80%\n",
      "Epoch 21\n",
      "Train Accuracy: 100.00%\n",
      "Test loss: 1.647, Accuracy: 67.42%\n",
      "Epoch 22\n",
      "Train Accuracy: 99.91%\n",
      "Test loss: 1.952, Accuracy: 65.91%\n",
      "Epoch 23\n",
      "Train Accuracy: 100.00%\n",
      "Test loss: 1.830, Accuracy: 68.56%\n",
      "Epoch 24\n",
      "Train Accuracy: 100.00%\n",
      "Test loss: 1.795, Accuracy: 66.67%\n",
      "Epoch 25\n",
      "Train Accuracy: 99.91%\n",
      "Test loss: 1.854, Accuracy: 67.42%\n",
      "Epoch 26\n",
      "Train Accuracy: 100.00%\n",
      "Test loss: 1.774, Accuracy: 69.32%\n",
      "Epoch 27\n",
      "Train Accuracy: 100.00%\n",
      "Test loss: 1.907, Accuracy: 68.94%\n",
      "Epoch 28\n",
      "Train Accuracy: 100.00%\n",
      "Test loss: 1.915, Accuracy: 63.26%\n",
      "Epoch 29\n",
      "Train Accuracy: 99.72%\n",
      "Test loss: 1.945, Accuracy: 66.67%\n",
      "Epoch 30\n",
      "Train Accuracy: 100.00%\n",
      "Test loss: 1.786, Accuracy: 65.91%\n",
      "Epoch 31\n",
      "Train Accuracy: 100.00%\n",
      "Test loss: 1.807, Accuracy: 68.18%\n",
      "Epoch 32\n",
      "Train Accuracy: 100.00%\n",
      "Test loss: 1.953, Accuracy: 67.05%\n",
      "Epoch 33\n",
      "Train Accuracy: 100.00%\n",
      "Test loss: 1.893, Accuracy: 65.91%\n",
      "Epoch 34\n",
      "Train Accuracy: 100.00%\n",
      "Test loss: 1.843, Accuracy: 69.32%\n",
      "Epoch 35\n",
      "Train Accuracy: 100.00%\n",
      "Test loss: 1.784, Accuracy: 69.32%\n",
      "Epoch 36\n",
      "Train Accuracy: 100.00%\n",
      "Test loss: 1.858, Accuracy: 68.56%\n",
      "Epoch 37\n",
      "Train Accuracy: 100.00%\n",
      "Test loss: 2.036, Accuracy: 66.67%\n",
      "Epoch 38\n",
      "Train Accuracy: 100.00%\n",
      "Test loss: 1.804, Accuracy: 69.70%\n",
      "Epoch 39\n",
      "Train Accuracy: 100.00%\n",
      "Test loss: 2.000, Accuracy: 68.94%\n",
      "Epoch 40\n",
      "Train Accuracy: 100.00%\n",
      "Test loss: 1.855, Accuracy: 69.32%\n",
      "Epoch 41\n",
      "Train Accuracy: 100.00%\n",
      "Test loss: 1.847, Accuracy: 70.45%\n",
      "Epoch 42\n",
      "Train Accuracy: 100.00%\n",
      "Test loss: 1.916, Accuracy: 69.32%\n",
      "Epoch 43\n",
      "Train Accuracy: 100.00%\n",
      "Test loss: 1.942, Accuracy: 69.70%\n",
      "Epoch 44\n",
      "Train Accuracy: 100.00%\n",
      "Test loss: 1.912, Accuracy: 69.70%\n",
      "Epoch 45\n",
      "Train Accuracy: 100.00%\n",
      "Test loss: 1.945, Accuracy: 70.45%\n",
      "Epoch 46\n",
      "Train Accuracy: 100.00%\n",
      "Test loss: 1.908, Accuracy: 68.94%\n",
      "Epoch 47\n",
      "Train Accuracy: 100.00%\n",
      "Test loss: 1.935, Accuracy: 68.56%\n",
      "Epoch 48\n",
      "Train Accuracy: 100.00%\n",
      "Test loss: 1.999, Accuracy: 68.94%\n",
      "Epoch 49\n",
      "Train Accuracy: 100.00%\n",
      "Test loss: 1.957, Accuracy: 67.80%\n",
      "Epoch 50\n",
      "Train Accuracy: 100.00%\n",
      "Test loss: 2.058, Accuracy: 67.80%\n"
     ]
    },
    {
     "data": {
      "application/vnd.jupyter.widget-view+json": {
       "model_id": "53b4fe5c94664c80b80b5d1417b0616c",
       "version_major": 2,
       "version_minor": 0
      },
      "text/plain": [
       "VBox(children=(Label(value='0.268 MB of 0.268 MB uploaded\\r'), FloatProgress(value=1.0, max=1.0)))"
      ]
     },
     "metadata": {},
     "output_type": "display_data"
    },
    {
     "data": {
      "text/html": [
       "<style>\n",
       "    table.wandb td:nth-child(1) { padding: 0 10px; text-align: left ; width: auto;} td:nth-child(2) {text-align: left ; width: 100%}\n",
       "    .wandb-row { display: flex; flex-direction: row; flex-wrap: wrap; justify-content: flex-start; width: 100% }\n",
       "    .wandb-col { display: flex; flex-direction: column; flex-basis: 100%; flex: 1; padding: 10px; }\n",
       "    </style>\n",
       "<div class=\"wandb-row\"><div class=\"wandb-col\"><h3>Run history:</h3><br/><table class=\"wandb\"><tr><td>iter_accuracy</td><td>▁▂▃▄▅▅▇▆▇▆██████████████████████████████</td></tr><tr><td>tr_accuracy</td><td>▁▂▃▄▆▆▆▆▇▇▇█████████████████████████████</td></tr><tr><td>val_accuracy</td><td>▁▂▄▄▄▇▆▆▆▇▇▇███▇▇▇█▇██▇▇█▇▇██▇█████████▇</td></tr></table><br/></div><div class=\"wandb-col\"><h3>Run summary:</h3><br/><table class=\"wandb\"><tr><td>iter_accuracy</td><td>100.0</td></tr><tr><td>tr_accuracy</td><td>100.0</td></tr><tr><td>val_accuracy</td><td>67.80303</td></tr></table><br/></div></div>"
      ],
      "text/plain": [
       "<IPython.core.display.HTML object>"
      ]
     },
     "metadata": {},
     "output_type": "display_data"
    },
    {
     "data": {
      "text/html": [
       " View run <strong style=\"color:#cdcd00\">feasible-sweep-12</strong> at: <a href='https://wandb.ai/bhkim003-seoul-national-university/reservoir/runs/238oajt4' target=\"_blank\">https://wandb.ai/bhkim003-seoul-national-university/reservoir/runs/238oajt4</a><br/> View project at: <a href='https://wandb.ai/bhkim003-seoul-national-university/reservoir' target=\"_blank\">https://wandb.ai/bhkim003-seoul-national-university/reservoir</a><br/>Synced 7 W&B file(s), 0 media file(s), 0 artifact file(s) and 1 other file(s)"
      ],
      "text/plain": [
       "<IPython.core.display.HTML object>"
      ]
     },
     "metadata": {},
     "output_type": "display_data"
    },
    {
     "data": {
      "text/html": [
       "Find logs at: <code>./wandb/run-20240725_230347-238oajt4/logs</code>"
      ],
      "text/plain": [
       "<IPython.core.display.HTML object>"
      ]
     },
     "metadata": {},
     "output_type": "display_data"
    },
    {
     "data": {
      "text/html": [
       "The new W&B backend becomes opt-out in version 0.18.0; try it out with `wandb.require(\"core\")`! See https://wandb.me/wandb-core for more information."
      ],
      "text/plain": [
       "<IPython.core.display.HTML object>"
      ]
     },
     "metadata": {},
     "output_type": "display_data"
    },
    {
     "name": "stderr",
     "output_type": "stream",
     "text": [
      "\u001b[34m\u001b[1mwandb\u001b[0m: Agent Starting Run: a9qprvqr with config:\n",
      "\u001b[34m\u001b[1mwandb\u001b[0m: \tEPOCH: 50\n",
      "\u001b[34m\u001b[1mwandb\u001b[0m: \tIMAGE_SIZE: 32\n",
      "\u001b[34m\u001b[1mwandb\u001b[0m: \tbatch_size: 256\n",
      "\u001b[34m\u001b[1mwandb\u001b[0m: \tdata_path: /data2\n",
      "\u001b[34m\u001b[1mwandb\u001b[0m: \tdecay: 0.39397417460425666\n",
      "\u001b[34m\u001b[1mwandb\u001b[0m: \tdvs_clipping: True\n",
      "\u001b[34m\u001b[1mwandb\u001b[0m: \tdvs_duration: 1000000\n",
      "\u001b[34m\u001b[1mwandb\u001b[0m: \tlearning_rate: 0.015650022031527804\n",
      "\u001b[34m\u001b[1mwandb\u001b[0m: \tno_reservoir: True\n",
      "\u001b[34m\u001b[1mwandb\u001b[0m: \tpre_spike_weight: 7.332288547284825\n",
      "\u001b[34m\u001b[1mwandb\u001b[0m: \trate_coding: True\n",
      "\u001b[34m\u001b[1mwandb\u001b[0m: \ttime_step: 7\n",
      "\u001b[34m\u001b[1mwandb\u001b[0m: \twhich_data: DVS_GESTURE\n",
      "Failed to detect the name of this notebook, you can set it manually with the WANDB_NOTEBOOK_NAME environment variable to enable code saving.\n"
     ]
    },
    {
     "data": {
      "text/html": [
       "Tracking run with wandb version 0.17.5"
      ],
      "text/plain": [
       "<IPython.core.display.HTML object>"
      ]
     },
     "metadata": {},
     "output_type": "display_data"
    },
    {
     "data": {
      "text/html": [
       "Run data is saved locally in <code>/nfs/home/bhkim003/github_folder/ByeonghyeonKim/my_snn/wandb/run-20240725_230945-a9qprvqr</code>"
      ],
      "text/plain": [
       "<IPython.core.display.HTML object>"
      ]
     },
     "metadata": {},
     "output_type": "display_data"
    },
    {
     "data": {
      "text/html": [
       "Syncing run <strong><a href='https://wandb.ai/bhkim003-seoul-national-university/reservoir/runs/a9qprvqr' target=\"_blank\">flowing-sweep-13</a></strong> to <a href='https://wandb.ai/bhkim003-seoul-national-university/reservoir' target=\"_blank\">Weights & Biases</a> (<a href='https://wandb.me/run' target=\"_blank\">docs</a>)<br/>Sweep page: <a href='https://wandb.ai/bhkim003-seoul-national-university/reservoir/sweeps/0j0aowy8' target=\"_blank\">https://wandb.ai/bhkim003-seoul-national-university/reservoir/sweeps/0j0aowy8</a>"
      ],
      "text/plain": [
       "<IPython.core.display.HTML object>"
      ]
     },
     "metadata": {},
     "output_type": "display_data"
    },
    {
     "data": {
      "text/html": [
       " View project at <a href='https://wandb.ai/bhkim003-seoul-national-university/reservoir' target=\"_blank\">https://wandb.ai/bhkim003-seoul-national-university/reservoir</a>"
      ],
      "text/plain": [
       "<IPython.core.display.HTML object>"
      ]
     },
     "metadata": {},
     "output_type": "display_data"
    },
    {
     "data": {
      "text/html": [
       " View sweep at <a href='https://wandb.ai/bhkim003-seoul-national-university/reservoir/sweeps/0j0aowy8' target=\"_blank\">https://wandb.ai/bhkim003-seoul-national-university/reservoir/sweeps/0j0aowy8</a>"
      ],
      "text/plain": [
       "<IPython.core.display.HTML object>"
      ]
     },
     "metadata": {},
     "output_type": "display_data"
    },
    {
     "data": {
      "text/html": [
       " View run at <a href='https://wandb.ai/bhkim003-seoul-national-university/reservoir/runs/a9qprvqr' target=\"_blank\">https://wandb.ai/bhkim003-seoul-national-university/reservoir/runs/a9qprvqr</a>"
      ],
      "text/plain": [
       "<IPython.core.display.HTML object>"
      ]
     },
     "metadata": {},
     "output_type": "display_data"
    },
    {
     "name": "stderr",
     "output_type": "stream",
     "text": [
      "\u001b[34m\u001b[1mwandb\u001b[0m: \u001b[33mWARNING\u001b[0m Config item 'data_path' was locked by 'sweep' (ignored update).\n",
      "\u001b[34m\u001b[1mwandb\u001b[0m: \u001b[33mWARNING\u001b[0m Config item 'which_data' was locked by 'sweep' (ignored update).\n",
      "\u001b[34m\u001b[1mwandb\u001b[0m: \u001b[33mWARNING\u001b[0m Config item 'learning_rate' was locked by 'sweep' (ignored update).\n",
      "\u001b[34m\u001b[1mwandb\u001b[0m: \u001b[33mWARNING\u001b[0m Config item 'IMAGE_SIZE' was locked by 'sweep' (ignored update).\n",
      "\u001b[34m\u001b[1mwandb\u001b[0m: \u001b[33mWARNING\u001b[0m Config item 'EPOCH' was locked by 'sweep' (ignored update).\n",
      "\u001b[34m\u001b[1mwandb\u001b[0m: \u001b[33mWARNING\u001b[0m Config item 'rate_coding' was locked by 'sweep' (ignored update).\n",
      "\u001b[34m\u001b[1mwandb\u001b[0m: \u001b[33mWARNING\u001b[0m Config item 'pre_spike_weight' was locked by 'sweep' (ignored update).\n",
      "\u001b[34m\u001b[1mwandb\u001b[0m: \u001b[33mWARNING\u001b[0m Config item 'dvs_duration' was locked by 'sweep' (ignored update).\n",
      "\u001b[34m\u001b[1mwandb\u001b[0m: \u001b[33mWARNING\u001b[0m Config item 'dvs_clipping' was locked by 'sweep' (ignored update).\n",
      "\u001b[34m\u001b[1mwandb\u001b[0m: \u001b[33mWARNING\u001b[0m Config item 'no_reservoir' was locked by 'sweep' (ignored update).\n"
     ]
    },
    {
     "name": "stdout",
     "output_type": "stream",
     "text": [
      "The directory [/data2/gesture/duration_1000000] already exists.\n",
      "The directory [/data2/gesture/duration_1000000] already exists.\n",
      "NO_RESERVOIR_NET(\n",
      "  (reservoir): RESERVOIR(\n",
      "    (conv_depthwise): Conv2d(2, 2, kernel_size=(3, 3), stride=(1, 1), padding=(1, 1), groups=2)\n",
      "  )\n",
      "  (linear): Linear(in_features=2048, out_features=10, bias=True)\n",
      ")\n",
      "Epoch 1\n",
      "Train Accuracy: 18.27%\n",
      "Test loss: 2.414, Accuracy: 33.33%\n",
      "Epoch 2\n",
      "Train Accuracy: 37.85%\n",
      "Test loss: 1.697, Accuracy: 46.97%\n",
      "Epoch 3\n",
      "Train Accuracy: 48.61%\n",
      "Test loss: 1.632, Accuracy: 47.73%\n",
      "Epoch 4\n",
      "Train Accuracy: 54.45%\n",
      "Test loss: 1.715, Accuracy: 51.52%\n",
      "Epoch 5\n",
      "Train Accuracy: 58.81%\n",
      "Test loss: 1.165, Accuracy: 56.82%\n",
      "Epoch 6\n",
      "Train Accuracy: 60.20%\n",
      "Test loss: 1.684, Accuracy: 55.68%\n",
      "Epoch 7\n",
      "Train Accuracy: 65.77%\n",
      "Test loss: 1.580, Accuracy: 59.09%\n",
      "Epoch 8\n",
      "Train Accuracy: 67.53%\n",
      "Test loss: 1.542, Accuracy: 59.47%\n",
      "Epoch 9\n",
      "Train Accuracy: 69.57%\n",
      "Test loss: 1.768, Accuracy: 55.68%\n",
      "Epoch 10\n",
      "Train Accuracy: 68.65%\n",
      "Test loss: 1.435, Accuracy: 57.20%\n",
      "Epoch 11\n",
      "Train Accuracy: 73.38%\n",
      "Test loss: 1.886, Accuracy: 60.61%\n",
      "Epoch 12\n",
      "Train Accuracy: 66.79%\n",
      "Test loss: 1.703, Accuracy: 62.50%\n",
      "Epoch 13\n",
      "Train Accuracy: 74.40%\n",
      "Test loss: 1.776, Accuracy: 56.44%\n",
      "Epoch 14\n",
      "Train Accuracy: 71.52%\n",
      "Test loss: 1.568, Accuracy: 61.74%\n",
      "Epoch 15\n",
      "Train Accuracy: 75.05%\n",
      "Test loss: 1.882, Accuracy: 61.36%\n",
      "Epoch 16\n",
      "Train Accuracy: 79.59%\n",
      "Test loss: 1.575, Accuracy: 60.98%\n",
      "Epoch 17\n",
      "Train Accuracy: 78.29%\n",
      "Test loss: 1.739, Accuracy: 63.64%\n",
      "Epoch 18\n",
      "Train Accuracy: 81.73%\n",
      "Test loss: 1.552, Accuracy: 64.77%\n",
      "Epoch 19\n",
      "Train Accuracy: 83.40%\n",
      "Test loss: 1.940, Accuracy: 63.26%\n",
      "Epoch 20\n",
      "Train Accuracy: 79.87%\n",
      "Test loss: 1.598, Accuracy: 58.33%\n",
      "Epoch 21\n",
      "Train Accuracy: 76.35%\n",
      "Test loss: 1.925, Accuracy: 64.39%\n",
      "Epoch 22\n",
      "Train Accuracy: 78.76%\n",
      "Test loss: 1.640, Accuracy: 63.64%\n",
      "Epoch 23\n",
      "Train Accuracy: 88.13%\n",
      "Test loss: 1.824, Accuracy: 63.64%\n",
      "Epoch 24\n",
      "Train Accuracy: 87.20%\n",
      "Test loss: 1.775, Accuracy: 63.64%\n",
      "Epoch 25\n",
      "Train Accuracy: 88.31%\n",
      "Test loss: 1.827, Accuracy: 63.26%\n",
      "Epoch 26\n",
      "Train Accuracy: 90.72%\n",
      "Test loss: 1.624, Accuracy: 62.50%\n",
      "Epoch 27\n",
      "Train Accuracy: 87.01%\n",
      "Test loss: 1.974, Accuracy: 65.53%\n",
      "Epoch 28\n",
      "Train Accuracy: 88.68%\n",
      "Test loss: 1.602, Accuracy: 65.15%\n",
      "Epoch 29\n",
      "Train Accuracy: 91.47%\n",
      "Test loss: 2.239, Accuracy: 60.61%\n",
      "Epoch 30\n",
      "Train Accuracy: 86.09%\n",
      "Test loss: 1.598, Accuracy: 65.53%\n",
      "Epoch 31\n",
      "Train Accuracy: 89.80%\n",
      "Test loss: 1.948, Accuracy: 64.39%\n",
      "Epoch 32\n",
      "Train Accuracy: 92.21%\n",
      "Test loss: 1.829, Accuracy: 60.98%\n",
      "Epoch 33\n",
      "Train Accuracy: 91.65%\n",
      "Test loss: 1.809, Accuracy: 67.05%\n",
      "Epoch 34\n",
      "Train Accuracy: 92.58%\n",
      "Test loss: 1.914, Accuracy: 65.15%\n",
      "Epoch 35\n",
      "Train Accuracy: 91.00%\n",
      "Test loss: 1.892, Accuracy: 59.85%\n",
      "Epoch 36\n",
      "Train Accuracy: 90.54%\n",
      "Test loss: 1.935, Accuracy: 67.42%\n",
      "Epoch 37\n",
      "Train Accuracy: 92.86%\n",
      "Test loss: 1.686, Accuracy: 68.56%\n",
      "Epoch 38\n",
      "Train Accuracy: 96.01%\n",
      "Test loss: 1.961, Accuracy: 65.53%\n",
      "Epoch 39\n",
      "Train Accuracy: 95.27%\n",
      "Test loss: 1.910, Accuracy: 65.91%\n",
      "Epoch 40\n",
      "Train Accuracy: 95.08%\n",
      "Test loss: 1.806, Accuracy: 65.53%\n",
      "Epoch 41\n",
      "Train Accuracy: 97.12%\n",
      "Test loss: 1.950, Accuracy: 63.64%\n",
      "Epoch 42\n",
      "Train Accuracy: 96.29%\n",
      "Test loss: 1.932, Accuracy: 65.15%\n",
      "Epoch 43\n",
      "Train Accuracy: 95.83%\n",
      "Test loss: 1.955, Accuracy: 64.77%\n",
      "Epoch 44\n",
      "Train Accuracy: 96.10%\n",
      "Test loss: 1.813, Accuracy: 68.18%\n",
      "Epoch 45\n",
      "Train Accuracy: 97.22%\n",
      "Test loss: 1.980, Accuracy: 65.91%\n",
      "Epoch 46\n",
      "Train Accuracy: 97.03%\n",
      "Test loss: 1.998, Accuracy: 65.53%\n",
      "Epoch 47\n",
      "Train Accuracy: 96.20%\n",
      "Test loss: 1.941, Accuracy: 65.91%\n",
      "Epoch 48\n",
      "Train Accuracy: 96.38%\n",
      "Test loss: 2.048, Accuracy: 65.91%\n",
      "Epoch 49\n",
      "Train Accuracy: 96.01%\n",
      "Test loss: 1.980, Accuracy: 66.29%\n",
      "Epoch 50\n",
      "Train Accuracy: 96.57%\n",
      "Test loss: 2.038, Accuracy: 65.53%\n"
     ]
    },
    {
     "data": {
      "application/vnd.jupyter.widget-view+json": {
       "model_id": "0eebd06f4e5c445cb42e97501e870347",
       "version_major": 2,
       "version_minor": 0
      },
      "text/plain": [
       "VBox(children=(Label(value='0.268 MB of 0.268 MB uploaded\\r'), FloatProgress(value=1.0, max=1.0)))"
      ]
     },
     "metadata": {},
     "output_type": "display_data"
    },
    {
     "data": {
      "text/html": [
       "<style>\n",
       "    table.wandb td:nth-child(1) { padding: 0 10px; text-align: left ; width: auto;} td:nth-child(2) {text-align: left ; width: 100%}\n",
       "    .wandb-row { display: flex; flex-direction: row; flex-wrap: wrap; justify-content: flex-start; width: 100% }\n",
       "    .wandb-col { display: flex; flex-direction: column; flex-basis: 100%; flex: 1; padding: 10px; }\n",
       "    </style>\n",
       "<div class=\"wandb-row\"><div class=\"wandb-col\"><h3>Run history:</h3><br/><table class=\"wandb\"><tr><td>iter_accuracy</td><td>▁▃▄▅▅▅▄▅▇▅▆▆▆▆▇▆▆▇▇▇▇▇█▇▇▇▇▇▇██▇████████</td></tr><tr><td>tr_accuracy</td><td>▁▃▄▄▅▅▅▆▆▅▆▆▆▆▇▇▆▆▇▇▇▇▇▇▇███▇███████████</td></tr><tr><td>val_accuracy</td><td>▁▄▄▅▅▆▆▅▆▇▆▇▆▇▇▇▇▇▇▇▇▇▇▆▇▆█▇██▇▇▇▇▇█▇▇▇▇</td></tr></table><br/></div><div class=\"wandb-col\"><h3>Run summary:</h3><br/><table class=\"wandb\"><tr><td>iter_accuracy</td><td>98.14815</td></tr><tr><td>tr_accuracy</td><td>96.56772</td></tr><tr><td>val_accuracy</td><td>65.5303</td></tr></table><br/></div></div>"
      ],
      "text/plain": [
       "<IPython.core.display.HTML object>"
      ]
     },
     "metadata": {},
     "output_type": "display_data"
    },
    {
     "data": {
      "text/html": [
       " View run <strong style=\"color:#cdcd00\">flowing-sweep-13</strong> at: <a href='https://wandb.ai/bhkim003-seoul-national-university/reservoir/runs/a9qprvqr' target=\"_blank\">https://wandb.ai/bhkim003-seoul-national-university/reservoir/runs/a9qprvqr</a><br/> View project at: <a href='https://wandb.ai/bhkim003-seoul-national-university/reservoir' target=\"_blank\">https://wandb.ai/bhkim003-seoul-national-university/reservoir</a><br/>Synced 7 W&B file(s), 0 media file(s), 0 artifact file(s) and 1 other file(s)"
      ],
      "text/plain": [
       "<IPython.core.display.HTML object>"
      ]
     },
     "metadata": {},
     "output_type": "display_data"
    },
    {
     "data": {
      "text/html": [
       "Find logs at: <code>./wandb/run-20240725_230945-a9qprvqr/logs</code>"
      ],
      "text/plain": [
       "<IPython.core.display.HTML object>"
      ]
     },
     "metadata": {},
     "output_type": "display_data"
    },
    {
     "data": {
      "text/html": [
       "The new W&B backend becomes opt-out in version 0.18.0; try it out with `wandb.require(\"core\")`! See https://wandb.me/wandb-core for more information."
      ],
      "text/plain": [
       "<IPython.core.display.HTML object>"
      ]
     },
     "metadata": {},
     "output_type": "display_data"
    },
    {
     "name": "stderr",
     "output_type": "stream",
     "text": [
      "\u001b[34m\u001b[1mwandb\u001b[0m: Sweep Agent: Waiting for job.\n",
      "\u001b[34m\u001b[1mwandb\u001b[0m: Job received.\n",
      "\u001b[34m\u001b[1mwandb\u001b[0m: Agent Starting Run: dd0kl6vu with config:\n",
      "\u001b[34m\u001b[1mwandb\u001b[0m: \tEPOCH: 50\n",
      "\u001b[34m\u001b[1mwandb\u001b[0m: \tIMAGE_SIZE: 48\n",
      "\u001b[34m\u001b[1mwandb\u001b[0m: \tbatch_size: 16\n",
      "\u001b[34m\u001b[1mwandb\u001b[0m: \tdata_path: /data2\n",
      "\u001b[34m\u001b[1mwandb\u001b[0m: \tdecay: 0.9546999065992966\n",
      "\u001b[34m\u001b[1mwandb\u001b[0m: \tdvs_clipping: True\n",
      "\u001b[34m\u001b[1mwandb\u001b[0m: \tdvs_duration: 1000000\n",
      "\u001b[34m\u001b[1mwandb\u001b[0m: \tlearning_rate: 0.014845559958795915\n",
      "\u001b[34m\u001b[1mwandb\u001b[0m: \tno_reservoir: True\n",
      "\u001b[34m\u001b[1mwandb\u001b[0m: \tpre_spike_weight: 5.002975973638088\n",
      "\u001b[34m\u001b[1mwandb\u001b[0m: \trate_coding: False\n",
      "\u001b[34m\u001b[1mwandb\u001b[0m: \ttime_step: 8\n",
      "\u001b[34m\u001b[1mwandb\u001b[0m: \twhich_data: DVS_GESTURE\n",
      "Failed to detect the name of this notebook, you can set it manually with the WANDB_NOTEBOOK_NAME environment variable to enable code saving.\n"
     ]
    },
    {
     "data": {
      "text/html": [
       "Tracking run with wandb version 0.17.5"
      ],
      "text/plain": [
       "<IPython.core.display.HTML object>"
      ]
     },
     "metadata": {},
     "output_type": "display_data"
    },
    {
     "data": {
      "text/html": [
       "Run data is saved locally in <code>/nfs/home/bhkim003/github_folder/ByeonghyeonKim/my_snn/wandb/run-20240725_231617-dd0kl6vu</code>"
      ],
      "text/plain": [
       "<IPython.core.display.HTML object>"
      ]
     },
     "metadata": {},
     "output_type": "display_data"
    },
    {
     "data": {
      "text/html": [
       "Syncing run <strong><a href='https://wandb.ai/bhkim003-seoul-national-university/reservoir/runs/dd0kl6vu' target=\"_blank\">neat-sweep-14</a></strong> to <a href='https://wandb.ai/bhkim003-seoul-national-university/reservoir' target=\"_blank\">Weights & Biases</a> (<a href='https://wandb.me/run' target=\"_blank\">docs</a>)<br/>Sweep page: <a href='https://wandb.ai/bhkim003-seoul-national-university/reservoir/sweeps/0j0aowy8' target=\"_blank\">https://wandb.ai/bhkim003-seoul-national-university/reservoir/sweeps/0j0aowy8</a>"
      ],
      "text/plain": [
       "<IPython.core.display.HTML object>"
      ]
     },
     "metadata": {},
     "output_type": "display_data"
    },
    {
     "data": {
      "text/html": [
       " View project at <a href='https://wandb.ai/bhkim003-seoul-national-university/reservoir' target=\"_blank\">https://wandb.ai/bhkim003-seoul-national-university/reservoir</a>"
      ],
      "text/plain": [
       "<IPython.core.display.HTML object>"
      ]
     },
     "metadata": {},
     "output_type": "display_data"
    },
    {
     "data": {
      "text/html": [
       " View sweep at <a href='https://wandb.ai/bhkim003-seoul-national-university/reservoir/sweeps/0j0aowy8' target=\"_blank\">https://wandb.ai/bhkim003-seoul-national-university/reservoir/sweeps/0j0aowy8</a>"
      ],
      "text/plain": [
       "<IPython.core.display.HTML object>"
      ]
     },
     "metadata": {},
     "output_type": "display_data"
    },
    {
     "data": {
      "text/html": [
       " View run at <a href='https://wandb.ai/bhkim003-seoul-national-university/reservoir/runs/dd0kl6vu' target=\"_blank\">https://wandb.ai/bhkim003-seoul-national-university/reservoir/runs/dd0kl6vu</a>"
      ],
      "text/plain": [
       "<IPython.core.display.HTML object>"
      ]
     },
     "metadata": {},
     "output_type": "display_data"
    },
    {
     "name": "stderr",
     "output_type": "stream",
     "text": [
      "\u001b[34m\u001b[1mwandb\u001b[0m: \u001b[33mWARNING\u001b[0m Config item 'data_path' was locked by 'sweep' (ignored update).\n",
      "\u001b[34m\u001b[1mwandb\u001b[0m: \u001b[33mWARNING\u001b[0m Config item 'which_data' was locked by 'sweep' (ignored update).\n",
      "\u001b[34m\u001b[1mwandb\u001b[0m: \u001b[33mWARNING\u001b[0m Config item 'learning_rate' was locked by 'sweep' (ignored update).\n",
      "\u001b[34m\u001b[1mwandb\u001b[0m: \u001b[33mWARNING\u001b[0m Config item 'IMAGE_SIZE' was locked by 'sweep' (ignored update).\n",
      "\u001b[34m\u001b[1mwandb\u001b[0m: \u001b[33mWARNING\u001b[0m Config item 'EPOCH' was locked by 'sweep' (ignored update).\n",
      "\u001b[34m\u001b[1mwandb\u001b[0m: \u001b[33mWARNING\u001b[0m Config item 'rate_coding' was locked by 'sweep' (ignored update).\n",
      "\u001b[34m\u001b[1mwandb\u001b[0m: \u001b[33mWARNING\u001b[0m Config item 'pre_spike_weight' was locked by 'sweep' (ignored update).\n",
      "\u001b[34m\u001b[1mwandb\u001b[0m: \u001b[33mWARNING\u001b[0m Config item 'dvs_duration' was locked by 'sweep' (ignored update).\n",
      "\u001b[34m\u001b[1mwandb\u001b[0m: \u001b[33mWARNING\u001b[0m Config item 'dvs_clipping' was locked by 'sweep' (ignored update).\n",
      "\u001b[34m\u001b[1mwandb\u001b[0m: \u001b[33mWARNING\u001b[0m Config item 'no_reservoir' was locked by 'sweep' (ignored update).\n"
     ]
    },
    {
     "name": "stdout",
     "output_type": "stream",
     "text": [
      "The directory [/data2/gesture/duration_1000000] already exists.\n",
      "The directory [/data2/gesture/duration_1000000] already exists.\n",
      "NO_RESERVOIR_NET(\n",
      "  (reservoir): RESERVOIR(\n",
      "    (conv_depthwise): Conv2d(2, 2, kernel_size=(3, 3), stride=(1, 1), padding=(1, 1), groups=2)\n",
      "  )\n",
      "  (linear): Linear(in_features=4608, out_features=10, bias=True)\n",
      ")\n",
      "Epoch 1\n",
      "Train Accuracy: 38.40%\n",
      "Test loss: 2.702, Accuracy: 46.59%\n",
      "Epoch 2\n",
      "Train Accuracy: 48.79%\n",
      "Test loss: 6.411, Accuracy: 40.53%\n",
      "Epoch 3\n",
      "Train Accuracy: 59.93%\n",
      "Test loss: 4.974, Accuracy: 53.41%\n",
      "Epoch 4\n",
      "Train Accuracy: 76.72%\n",
      "Test loss: 1.898, Accuracy: 59.85%\n",
      "Epoch 5\n",
      "Train Accuracy: 86.36%\n",
      "Test loss: 1.723, Accuracy: 63.26%\n",
      "Epoch 6\n",
      "Train Accuracy: 72.82%\n",
      "Test loss: 2.002, Accuracy: 60.98%\n",
      "Epoch 7\n",
      "Train Accuracy: 84.32%\n",
      "Test loss: 2.114, Accuracy: 57.20%\n",
      "Epoch 8\n",
      "Train Accuracy: 90.91%\n",
      "Test loss: 1.801, Accuracy: 64.39%\n",
      "Epoch 9\n",
      "Train Accuracy: 91.37%\n",
      "Test loss: 1.685, Accuracy: 62.88%\n",
      "Epoch 10\n",
      "Train Accuracy: 91.56%\n",
      "Test loss: 1.466, Accuracy: 62.12%\n",
      "Epoch 11\n",
      "Train Accuracy: 95.45%\n",
      "Test loss: 1.846, Accuracy: 63.64%\n",
      "Epoch 12\n",
      "Train Accuracy: 96.75%\n",
      "Test loss: 2.472, Accuracy: 55.68%\n",
      "Epoch 13\n",
      "Train Accuracy: 95.92%\n",
      "Test loss: 2.170, Accuracy: 62.12%\n",
      "Epoch 14\n",
      "Train Accuracy: 89.98%\n",
      "Test loss: 1.802, Accuracy: 65.15%\n",
      "Epoch 15\n",
      "Train Accuracy: 98.24%\n",
      "Test loss: 1.979, Accuracy: 67.05%\n",
      "Epoch 16\n",
      "Train Accuracy: 97.12%\n",
      "Test loss: 1.643, Accuracy: 62.50%\n",
      "Epoch 17\n",
      "Train Accuracy: 97.96%\n",
      "Test loss: 1.527, Accuracy: 64.77%\n",
      "Epoch 18\n",
      "Train Accuracy: 99.81%\n",
      "Test loss: 1.554, Accuracy: 67.42%\n",
      "Epoch 19\n",
      "Train Accuracy: 100.00%\n",
      "Test loss: 1.422, Accuracy: 67.05%\n",
      "Epoch 20\n",
      "Train Accuracy: 100.00%\n",
      "Test loss: 1.349, Accuracy: 68.18%\n",
      "Epoch 21\n",
      "Train Accuracy: 100.00%\n",
      "Test loss: 1.373, Accuracy: 68.94%\n",
      "Epoch 22\n",
      "Train Accuracy: 100.00%\n",
      "Test loss: 1.361, Accuracy: 67.42%\n",
      "Epoch 23\n",
      "Train Accuracy: 100.00%\n",
      "Test loss: 1.400, Accuracy: 67.05%\n",
      "Epoch 24\n",
      "Train Accuracy: 100.00%\n",
      "Test loss: 1.361, Accuracy: 68.18%\n",
      "Epoch 25\n",
      "Train Accuracy: 100.00%\n",
      "Test loss: 1.377, Accuracy: 68.18%\n",
      "Epoch 26\n",
      "Train Accuracy: 100.00%\n",
      "Test loss: 1.358, Accuracy: 69.32%\n",
      "Epoch 27\n",
      "Train Accuracy: 100.00%\n",
      "Test loss: 1.367, Accuracy: 68.94%\n",
      "Epoch 28\n",
      "Train Accuracy: 100.00%\n",
      "Test loss: 1.383, Accuracy: 67.42%\n",
      "Epoch 29\n",
      "Train Accuracy: 100.00%\n",
      "Test loss: 1.365, Accuracy: 69.32%\n",
      "Epoch 30\n",
      "Train Accuracy: 100.00%\n",
      "Test loss: 1.369, Accuracy: 68.94%\n",
      "Epoch 31\n",
      "Train Accuracy: 100.00%\n",
      "Test loss: 1.370, Accuracy: 68.94%\n",
      "Epoch 32\n",
      "Train Accuracy: 100.00%\n",
      "Test loss: 1.344, Accuracy: 68.18%\n",
      "Epoch 33\n",
      "Train Accuracy: 100.00%\n",
      "Test loss: 1.384, Accuracy: 67.80%\n",
      "Epoch 34\n",
      "Train Accuracy: 100.00%\n",
      "Test loss: 1.366, Accuracy: 68.56%\n",
      "Epoch 35\n",
      "Train Accuracy: 100.00%\n",
      "Test loss: 1.366, Accuracy: 69.32%\n",
      "Epoch 36\n",
      "Train Accuracy: 100.00%\n",
      "Test loss: 1.354, Accuracy: 68.56%\n",
      "Epoch 37\n",
      "Train Accuracy: 100.00%\n",
      "Test loss: 1.391, Accuracy: 68.56%\n",
      "Epoch 38\n",
      "Train Accuracy: 100.00%\n",
      "Test loss: 1.367, Accuracy: 68.56%\n",
      "Epoch 39\n",
      "Train Accuracy: 100.00%\n",
      "Test loss: 1.408, Accuracy: 68.94%\n",
      "Epoch 40\n",
      "Train Accuracy: 100.00%\n",
      "Test loss: 1.363, Accuracy: 68.56%\n",
      "Epoch 41\n",
      "Train Accuracy: 100.00%\n",
      "Test loss: 1.400, Accuracy: 68.56%\n",
      "Epoch 42\n",
      "Train Accuracy: 100.00%\n",
      "Test loss: 1.376, Accuracy: 68.56%\n",
      "Epoch 43\n",
      "Train Accuracy: 100.00%\n",
      "Test loss: 1.379, Accuracy: 68.94%\n",
      "Epoch 44\n",
      "Train Accuracy: 100.00%\n",
      "Test loss: 1.396, Accuracy: 68.94%\n",
      "Epoch 45\n",
      "Train Accuracy: 100.00%\n",
      "Test loss: 1.378, Accuracy: 68.94%\n",
      "Epoch 46\n",
      "Train Accuracy: 100.00%\n",
      "Test loss: 1.390, Accuracy: 68.94%\n",
      "Epoch 47\n",
      "Train Accuracy: 100.00%\n",
      "Test loss: 1.383, Accuracy: 68.18%\n",
      "Epoch 48\n",
      "Train Accuracy: 100.00%\n",
      "Test loss: 1.383, Accuracy: 69.32%\n",
      "Epoch 49\n",
      "Train Accuracy: 100.00%\n",
      "Test loss: 1.398, Accuracy: 68.18%\n",
      "Epoch 50\n",
      "Train Accuracy: 100.00%\n",
      "Test loss: 1.387, Accuracy: 68.94%\n"
     ]
    },
    {
     "data": {
      "application/vnd.jupyter.widget-view+json": {
       "model_id": "0dd1907c599a422597001453937b2654",
       "version_major": 2,
       "version_minor": 0
      },
      "text/plain": [
       "VBox(children=(Label(value='0.268 MB of 0.268 MB uploaded\\r'), FloatProgress(value=1.0, max=1.0)))"
      ]
     },
     "metadata": {},
     "output_type": "display_data"
    },
    {
     "data": {
      "text/html": [
       "<style>\n",
       "    table.wandb td:nth-child(1) { padding: 0 10px; text-align: left ; width: auto;} td:nth-child(2) {text-align: left ; width: 100%}\n",
       "    .wandb-row { display: flex; flex-direction: row; flex-wrap: wrap; justify-content: flex-start; width: 100% }\n",
       "    .wandb-col { display: flex; flex-direction: column; flex-basis: 100%; flex: 1; padding: 10px; }\n",
       "    </style>\n",
       "<div class=\"wandb-row\"><div class=\"wandb-col\"><h3>Run history:</h3><br/><table class=\"wandb\"><tr><td>iter_accuracy</td><td>▁▂▃▇▇▆▇█▇█▇█████████████████████████████</td></tr><tr><td>tr_accuracy</td><td>▁▂▃▅▅▆▇▇▇██▇████████████████████████████</td></tr><tr><td>val_accuracy</td><td>▂▁▄▆▆▅▇▆▇▅▆▇▆▇█▇██▇█████████████████████</td></tr></table><br/></div><div class=\"wandb-col\"><h3>Run summary:</h3><br/><table class=\"wandb\"><tr><td>iter_accuracy</td><td>100.0</td></tr><tr><td>tr_accuracy</td><td>100.0</td></tr><tr><td>val_accuracy</td><td>68.93939</td></tr></table><br/></div></div>"
      ],
      "text/plain": [
       "<IPython.core.display.HTML object>"
      ]
     },
     "metadata": {},
     "output_type": "display_data"
    },
    {
     "data": {
      "text/html": [
       " View run <strong style=\"color:#cdcd00\">neat-sweep-14</strong> at: <a href='https://wandb.ai/bhkim003-seoul-national-university/reservoir/runs/dd0kl6vu' target=\"_blank\">https://wandb.ai/bhkim003-seoul-national-university/reservoir/runs/dd0kl6vu</a><br/> View project at: <a href='https://wandb.ai/bhkim003-seoul-national-university/reservoir' target=\"_blank\">https://wandb.ai/bhkim003-seoul-national-university/reservoir</a><br/>Synced 7 W&B file(s), 0 media file(s), 0 artifact file(s) and 1 other file(s)"
      ],
      "text/plain": [
       "<IPython.core.display.HTML object>"
      ]
     },
     "metadata": {},
     "output_type": "display_data"
    },
    {
     "data": {
      "text/html": [
       "Find logs at: <code>./wandb/run-20240725_231617-dd0kl6vu/logs</code>"
      ],
      "text/plain": [
       "<IPython.core.display.HTML object>"
      ]
     },
     "metadata": {},
     "output_type": "display_data"
    },
    {
     "data": {
      "text/html": [
       "The new W&B backend becomes opt-out in version 0.18.0; try it out with `wandb.require(\"core\")`! See https://wandb.me/wandb-core for more information."
      ],
      "text/plain": [
       "<IPython.core.display.HTML object>"
      ]
     },
     "metadata": {},
     "output_type": "display_data"
    },
    {
     "name": "stderr",
     "output_type": "stream",
     "text": [
      "\u001b[34m\u001b[1mwandb\u001b[0m: Agent Starting Run: br0ggmqe with config:\n",
      "\u001b[34m\u001b[1mwandb\u001b[0m: \tEPOCH: 50\n",
      "\u001b[34m\u001b[1mwandb\u001b[0m: \tIMAGE_SIZE: 32\n",
      "\u001b[34m\u001b[1mwandb\u001b[0m: \tbatch_size: 128\n",
      "\u001b[34m\u001b[1mwandb\u001b[0m: \tdata_path: /data2\n",
      "\u001b[34m\u001b[1mwandb\u001b[0m: \tdecay: 0.5650624468588672\n",
      "\u001b[34m\u001b[1mwandb\u001b[0m: \tdvs_clipping: True\n",
      "\u001b[34m\u001b[1mwandb\u001b[0m: \tdvs_duration: 1000000\n",
      "\u001b[34m\u001b[1mwandb\u001b[0m: \tlearning_rate: 0.06267969040265936\n",
      "\u001b[34m\u001b[1mwandb\u001b[0m: \tno_reservoir: True\n",
      "\u001b[34m\u001b[1mwandb\u001b[0m: \tpre_spike_weight: 5.310737688044138\n",
      "\u001b[34m\u001b[1mwandb\u001b[0m: \trate_coding: True\n",
      "\u001b[34m\u001b[1mwandb\u001b[0m: \ttime_step: 8\n",
      "\u001b[34m\u001b[1mwandb\u001b[0m: \twhich_data: DVS_GESTURE\n",
      "Failed to detect the name of this notebook, you can set it manually with the WANDB_NOTEBOOK_NAME environment variable to enable code saving.\n"
     ]
    },
    {
     "data": {
      "text/html": [
       "Tracking run with wandb version 0.17.5"
      ],
      "text/plain": [
       "<IPython.core.display.HTML object>"
      ]
     },
     "metadata": {},
     "output_type": "display_data"
    },
    {
     "data": {
      "text/html": [
       "Run data is saved locally in <code>/nfs/home/bhkim003/github_folder/ByeonghyeonKim/my_snn/wandb/run-20240725_232224-br0ggmqe</code>"
      ],
      "text/plain": [
       "<IPython.core.display.HTML object>"
      ]
     },
     "metadata": {},
     "output_type": "display_data"
    },
    {
     "data": {
      "text/html": [
       "Syncing run <strong><a href='https://wandb.ai/bhkim003-seoul-national-university/reservoir/runs/br0ggmqe' target=\"_blank\">mild-sweep-15</a></strong> to <a href='https://wandb.ai/bhkim003-seoul-national-university/reservoir' target=\"_blank\">Weights & Biases</a> (<a href='https://wandb.me/run' target=\"_blank\">docs</a>)<br/>Sweep page: <a href='https://wandb.ai/bhkim003-seoul-national-university/reservoir/sweeps/0j0aowy8' target=\"_blank\">https://wandb.ai/bhkim003-seoul-national-university/reservoir/sweeps/0j0aowy8</a>"
      ],
      "text/plain": [
       "<IPython.core.display.HTML object>"
      ]
     },
     "metadata": {},
     "output_type": "display_data"
    },
    {
     "data": {
      "text/html": [
       " View project at <a href='https://wandb.ai/bhkim003-seoul-national-university/reservoir' target=\"_blank\">https://wandb.ai/bhkim003-seoul-national-university/reservoir</a>"
      ],
      "text/plain": [
       "<IPython.core.display.HTML object>"
      ]
     },
     "metadata": {},
     "output_type": "display_data"
    },
    {
     "data": {
      "text/html": [
       " View sweep at <a href='https://wandb.ai/bhkim003-seoul-national-university/reservoir/sweeps/0j0aowy8' target=\"_blank\">https://wandb.ai/bhkim003-seoul-national-university/reservoir/sweeps/0j0aowy8</a>"
      ],
      "text/plain": [
       "<IPython.core.display.HTML object>"
      ]
     },
     "metadata": {},
     "output_type": "display_data"
    },
    {
     "data": {
      "text/html": [
       " View run at <a href='https://wandb.ai/bhkim003-seoul-national-university/reservoir/runs/br0ggmqe' target=\"_blank\">https://wandb.ai/bhkim003-seoul-national-university/reservoir/runs/br0ggmqe</a>"
      ],
      "text/plain": [
       "<IPython.core.display.HTML object>"
      ]
     },
     "metadata": {},
     "output_type": "display_data"
    },
    {
     "name": "stderr",
     "output_type": "stream",
     "text": [
      "\u001b[34m\u001b[1mwandb\u001b[0m: \u001b[33mWARNING\u001b[0m Config item 'data_path' was locked by 'sweep' (ignored update).\n",
      "\u001b[34m\u001b[1mwandb\u001b[0m: \u001b[33mWARNING\u001b[0m Config item 'which_data' was locked by 'sweep' (ignored update).\n",
      "\u001b[34m\u001b[1mwandb\u001b[0m: \u001b[33mWARNING\u001b[0m Config item 'learning_rate' was locked by 'sweep' (ignored update).\n",
      "\u001b[34m\u001b[1mwandb\u001b[0m: \u001b[33mWARNING\u001b[0m Config item 'IMAGE_SIZE' was locked by 'sweep' (ignored update).\n",
      "\u001b[34m\u001b[1mwandb\u001b[0m: \u001b[33mWARNING\u001b[0m Config item 'EPOCH' was locked by 'sweep' (ignored update).\n",
      "\u001b[34m\u001b[1mwandb\u001b[0m: \u001b[33mWARNING\u001b[0m Config item 'rate_coding' was locked by 'sweep' (ignored update).\n",
      "\u001b[34m\u001b[1mwandb\u001b[0m: \u001b[33mWARNING\u001b[0m Config item 'pre_spike_weight' was locked by 'sweep' (ignored update).\n",
      "\u001b[34m\u001b[1mwandb\u001b[0m: \u001b[33mWARNING\u001b[0m Config item 'dvs_duration' was locked by 'sweep' (ignored update).\n",
      "\u001b[34m\u001b[1mwandb\u001b[0m: \u001b[33mWARNING\u001b[0m Config item 'dvs_clipping' was locked by 'sweep' (ignored update).\n",
      "\u001b[34m\u001b[1mwandb\u001b[0m: \u001b[33mWARNING\u001b[0m Config item 'no_reservoir' was locked by 'sweep' (ignored update).\n"
     ]
    },
    {
     "name": "stdout",
     "output_type": "stream",
     "text": [
      "The directory [/data2/gesture/duration_1000000] already exists.\n",
      "The directory [/data2/gesture/duration_1000000] already exists.\n",
      "NO_RESERVOIR_NET(\n",
      "  (reservoir): RESERVOIR(\n",
      "    (conv_depthwise): Conv2d(2, 2, kernel_size=(3, 3), stride=(1, 1), padding=(1, 1), groups=2)\n",
      "  )\n",
      "  (linear): Linear(in_features=2048, out_features=10, bias=True)\n",
      ")\n",
      "Epoch 1\n",
      "Train Accuracy: 27.09%\n",
      "Test loss: 2.160, Accuracy: 43.94%\n",
      "Epoch 2\n",
      "Train Accuracy: 44.99%\n",
      "Test loss: 2.357, Accuracy: 52.27%\n",
      "Epoch 3\n",
      "Train Accuracy: 59.74%\n",
      "Test loss: 1.849, Accuracy: 48.86%\n",
      "Epoch 4\n",
      "Train Accuracy: 67.44%\n",
      "Test loss: 1.523, Accuracy: 57.58%\n",
      "Epoch 5\n",
      "Train Accuracy: 73.47%\n",
      "Test loss: 1.879, Accuracy: 54.17%\n",
      "Epoch 6\n",
      "Train Accuracy: 67.81%\n",
      "Test loss: 2.023, Accuracy: 48.11%\n",
      "Epoch 7\n",
      "Train Accuracy: 73.84%\n",
      "Test loss: 2.361, Accuracy: 57.95%\n",
      "Epoch 8\n",
      "Train Accuracy: 71.61%\n",
      "Test loss: 3.299, Accuracy: 54.55%\n",
      "Epoch 9\n",
      "Train Accuracy: 74.58%\n",
      "Test loss: 2.738, Accuracy: 53.41%\n",
      "Epoch 10\n",
      "Train Accuracy: 78.01%\n",
      "Test loss: 2.580, Accuracy: 61.74%\n",
      "Epoch 11\n",
      "Train Accuracy: 85.44%\n",
      "Test loss: 1.882, Accuracy: 62.12%\n",
      "Epoch 12\n",
      "Train Accuracy: 89.33%\n",
      "Test loss: 1.697, Accuracy: 66.29%\n",
      "Epoch 13\n",
      "Train Accuracy: 90.07%\n",
      "Test loss: 2.398, Accuracy: 60.61%\n",
      "Epoch 14\n",
      "Train Accuracy: 91.74%\n",
      "Test loss: 2.248, Accuracy: 64.39%\n",
      "Epoch 15\n",
      "Train Accuracy: 92.30%\n",
      "Test loss: 2.102, Accuracy: 61.36%\n",
      "Epoch 16\n",
      "Train Accuracy: 97.12%\n",
      "Test loss: 1.624, Accuracy: 63.26%\n",
      "Epoch 17\n",
      "Train Accuracy: 99.17%\n",
      "Test loss: 1.885, Accuracy: 66.67%\n",
      "Epoch 18\n",
      "Train Accuracy: 98.70%\n",
      "Test loss: 2.139, Accuracy: 65.53%\n",
      "Epoch 19\n",
      "Train Accuracy: 99.44%\n",
      "Test loss: 2.197, Accuracy: 65.53%\n",
      "Epoch 20\n",
      "Train Accuracy: 99.72%\n",
      "Test loss: 1.999, Accuracy: 66.67%\n",
      "Epoch 21\n",
      "Train Accuracy: 99.07%\n",
      "Test loss: 2.225, Accuracy: 64.02%\n",
      "Epoch 22\n",
      "Train Accuracy: 98.33%\n",
      "Test loss: 2.105, Accuracy: 65.91%\n",
      "Epoch 23\n",
      "Train Accuracy: 99.07%\n",
      "Test loss: 1.873, Accuracy: 68.18%\n",
      "Epoch 24\n",
      "Train Accuracy: 99.54%\n",
      "Test loss: 2.312, Accuracy: 59.85%\n",
      "Epoch 25\n",
      "Train Accuracy: 99.54%\n",
      "Test loss: 1.948, Accuracy: 65.91%\n",
      "Epoch 26\n",
      "Train Accuracy: 99.81%\n",
      "Test loss: 2.147, Accuracy: 61.36%\n",
      "Epoch 27\n",
      "Train Accuracy: 99.63%\n",
      "Test loss: 2.103, Accuracy: 63.64%\n",
      "Epoch 28\n",
      "Train Accuracy: 98.05%\n",
      "Test loss: 2.433, Accuracy: 59.47%\n",
      "Epoch 29\n",
      "Train Accuracy: 98.52%\n",
      "Test loss: 2.046, Accuracy: 63.26%\n",
      "Epoch 30\n",
      "Train Accuracy: 98.52%\n",
      "Test loss: 2.115, Accuracy: 63.64%\n",
      "Epoch 31\n",
      "Train Accuracy: 99.54%\n",
      "Test loss: 2.091, Accuracy: 65.91%\n",
      "Epoch 32\n",
      "Train Accuracy: 99.91%\n",
      "Test loss: 2.229, Accuracy: 66.67%\n",
      "Epoch 33\n",
      "Train Accuracy: 100.00%\n",
      "Test loss: 2.246, Accuracy: 67.42%\n",
      "Epoch 34\n",
      "Train Accuracy: 100.00%\n",
      "Test loss: 2.229, Accuracy: 68.94%\n",
      "Epoch 35\n",
      "Train Accuracy: 99.81%\n",
      "Test loss: 2.277, Accuracy: 65.53%\n",
      "Epoch 36\n",
      "Train Accuracy: 100.00%\n",
      "Test loss: 2.297, Accuracy: 65.53%\n",
      "Epoch 37\n",
      "Train Accuracy: 99.81%\n",
      "Test loss: 2.020, Accuracy: 67.05%\n",
      "Epoch 38\n",
      "Train Accuracy: 100.00%\n",
      "Test loss: 2.202, Accuracy: 66.67%\n",
      "Epoch 39\n",
      "Train Accuracy: 100.00%\n",
      "Test loss: 2.236, Accuracy: 66.67%\n",
      "Epoch 40\n",
      "Train Accuracy: 100.00%\n",
      "Test loss: 2.302, Accuracy: 65.91%\n",
      "Epoch 41\n",
      "Train Accuracy: 100.00%\n",
      "Test loss: 2.337, Accuracy: 66.29%\n",
      "Epoch 42\n",
      "Train Accuracy: 100.00%\n",
      "Test loss: 2.129, Accuracy: 67.05%\n",
      "Epoch 43\n",
      "Train Accuracy: 100.00%\n",
      "Test loss: 2.187, Accuracy: 66.29%\n",
      "Epoch 44\n",
      "Train Accuracy: 100.00%\n",
      "Test loss: 2.251, Accuracy: 64.77%\n",
      "Epoch 45\n",
      "Train Accuracy: 100.00%\n",
      "Test loss: 2.536, Accuracy: 62.88%\n",
      "Epoch 46\n",
      "Train Accuracy: 100.00%\n",
      "Test loss: 2.286, Accuracy: 65.53%\n",
      "Epoch 47\n",
      "Train Accuracy: 100.00%\n",
      "Test loss: 2.211, Accuracy: 67.05%\n",
      "Epoch 48\n",
      "Train Accuracy: 100.00%\n",
      "Test loss: 2.192, Accuracy: 65.91%\n",
      "Epoch 49\n",
      "Train Accuracy: 100.00%\n",
      "Test loss: 2.447, Accuracy: 66.67%\n",
      "Epoch 50\n",
      "Train Accuracy: 100.00%\n",
      "Test loss: 2.208, Accuracy: 66.67%\n"
     ]
    },
    {
     "data": {
      "application/vnd.jupyter.widget-view+json": {
       "model_id": "8829cb7f27484418ac0ceb4c7b370400",
       "version_major": 2,
       "version_minor": 0
      },
      "text/plain": [
       "VBox(children=(Label(value='0.268 MB of 0.268 MB uploaded\\r'), FloatProgress(value=1.0, max=1.0)))"
      ]
     },
     "metadata": {},
     "output_type": "display_data"
    },
    {
     "data": {
      "text/html": [
       "<style>\n",
       "    table.wandb td:nth-child(1) { padding: 0 10px; text-align: left ; width: auto;} td:nth-child(2) {text-align: left ; width: 100%}\n",
       "    .wandb-row { display: flex; flex-direction: row; flex-wrap: wrap; justify-content: flex-start; width: 100% }\n",
       "    .wandb-col { display: flex; flex-direction: column; flex-basis: 100%; flex: 1; padding: 10px; }\n",
       "    </style>\n",
       "<div class=\"wandb-row\"><div class=\"wandb-col\"><h3>Run history:</h3><br/><table class=\"wandb\"><tr><td>iter_accuracy</td><td>▁▂▅▇▄▅▅▅▇▇█▇▇███████████████████████████</td></tr><tr><td>tr_accuracy</td><td>▁▃▄▅▅▅▅▆▇▇▇▇████████████████████████████</td></tr><tr><td>val_accuracy</td><td>▁▃▂▅▂▅▄▄▆▇▆▇▆▇▇▇▇▇█▅▆▇▅▆▇▇██▇▇▇▇▇▇▇▇▇▇▇▇</td></tr></table><br/></div><div class=\"wandb-col\"><h3>Run summary:</h3><br/><table class=\"wandb\"><tr><td>iter_accuracy</td><td>100.0</td></tr><tr><td>tr_accuracy</td><td>100.0</td></tr><tr><td>val_accuracy</td><td>66.66667</td></tr></table><br/></div></div>"
      ],
      "text/plain": [
       "<IPython.core.display.HTML object>"
      ]
     },
     "metadata": {},
     "output_type": "display_data"
    },
    {
     "data": {
      "text/html": [
       " View run <strong style=\"color:#cdcd00\">mild-sweep-15</strong> at: <a href='https://wandb.ai/bhkim003-seoul-national-university/reservoir/runs/br0ggmqe' target=\"_blank\">https://wandb.ai/bhkim003-seoul-national-university/reservoir/runs/br0ggmqe</a><br/> View project at: <a href='https://wandb.ai/bhkim003-seoul-national-university/reservoir' target=\"_blank\">https://wandb.ai/bhkim003-seoul-national-university/reservoir</a><br/>Synced 7 W&B file(s), 0 media file(s), 0 artifact file(s) and 1 other file(s)"
      ],
      "text/plain": [
       "<IPython.core.display.HTML object>"
      ]
     },
     "metadata": {},
     "output_type": "display_data"
    },
    {
     "data": {
      "text/html": [
       "Find logs at: <code>./wandb/run-20240725_232224-br0ggmqe/logs</code>"
      ],
      "text/plain": [
       "<IPython.core.display.HTML object>"
      ]
     },
     "metadata": {},
     "output_type": "display_data"
    },
    {
     "data": {
      "text/html": [
       "The new W&B backend becomes opt-out in version 0.18.0; try it out with `wandb.require(\"core\")`! See https://wandb.me/wandb-core for more information."
      ],
      "text/plain": [
       "<IPython.core.display.HTML object>"
      ]
     },
     "metadata": {},
     "output_type": "display_data"
    },
    {
     "name": "stderr",
     "output_type": "stream",
     "text": [
      "\u001b[34m\u001b[1mwandb\u001b[0m: Agent Starting Run: t1bp5295 with config:\n",
      "\u001b[34m\u001b[1mwandb\u001b[0m: \tEPOCH: 50\n",
      "\u001b[34m\u001b[1mwandb\u001b[0m: \tIMAGE_SIZE: 128\n",
      "\u001b[34m\u001b[1mwandb\u001b[0m: \tbatch_size: 32\n",
      "\u001b[34m\u001b[1mwandb\u001b[0m: \tdata_path: /data2\n",
      "\u001b[34m\u001b[1mwandb\u001b[0m: \tdecay: 0.9085263459622654\n",
      "\u001b[34m\u001b[1mwandb\u001b[0m: \tdvs_clipping: True\n",
      "\u001b[34m\u001b[1mwandb\u001b[0m: \tdvs_duration: 1000000\n",
      "\u001b[34m\u001b[1mwandb\u001b[0m: \tlearning_rate: 0.003392428023410348\n",
      "\u001b[34m\u001b[1mwandb\u001b[0m: \tno_reservoir: True\n",
      "\u001b[34m\u001b[1mwandb\u001b[0m: \tpre_spike_weight: 0.881710407873864\n",
      "\u001b[34m\u001b[1mwandb\u001b[0m: \trate_coding: True\n",
      "\u001b[34m\u001b[1mwandb\u001b[0m: \ttime_step: 8\n",
      "\u001b[34m\u001b[1mwandb\u001b[0m: \twhich_data: DVS_GESTURE\n",
      "Failed to detect the name of this notebook, you can set it manually with the WANDB_NOTEBOOK_NAME environment variable to enable code saving.\n"
     ]
    },
    {
     "data": {
      "text/html": [
       "Tracking run with wandb version 0.17.5"
      ],
      "text/plain": [
       "<IPython.core.display.HTML object>"
      ]
     },
     "metadata": {},
     "output_type": "display_data"
    },
    {
     "data": {
      "text/html": [
       "Run data is saved locally in <code>/nfs/home/bhkim003/github_folder/ByeonghyeonKim/my_snn/wandb/run-20240725_232805-t1bp5295</code>"
      ],
      "text/plain": [
       "<IPython.core.display.HTML object>"
      ]
     },
     "metadata": {},
     "output_type": "display_data"
    },
    {
     "data": {
      "text/html": [
       "Syncing run <strong><a href='https://wandb.ai/bhkim003-seoul-national-university/reservoir/runs/t1bp5295' target=\"_blank\">glamorous-sweep-16</a></strong> to <a href='https://wandb.ai/bhkim003-seoul-national-university/reservoir' target=\"_blank\">Weights & Biases</a> (<a href='https://wandb.me/run' target=\"_blank\">docs</a>)<br/>Sweep page: <a href='https://wandb.ai/bhkim003-seoul-national-university/reservoir/sweeps/0j0aowy8' target=\"_blank\">https://wandb.ai/bhkim003-seoul-national-university/reservoir/sweeps/0j0aowy8</a>"
      ],
      "text/plain": [
       "<IPython.core.display.HTML object>"
      ]
     },
     "metadata": {},
     "output_type": "display_data"
    },
    {
     "data": {
      "text/html": [
       " View project at <a href='https://wandb.ai/bhkim003-seoul-national-university/reservoir' target=\"_blank\">https://wandb.ai/bhkim003-seoul-national-university/reservoir</a>"
      ],
      "text/plain": [
       "<IPython.core.display.HTML object>"
      ]
     },
     "metadata": {},
     "output_type": "display_data"
    },
    {
     "data": {
      "text/html": [
       " View sweep at <a href='https://wandb.ai/bhkim003-seoul-national-university/reservoir/sweeps/0j0aowy8' target=\"_blank\">https://wandb.ai/bhkim003-seoul-national-university/reservoir/sweeps/0j0aowy8</a>"
      ],
      "text/plain": [
       "<IPython.core.display.HTML object>"
      ]
     },
     "metadata": {},
     "output_type": "display_data"
    },
    {
     "data": {
      "text/html": [
       " View run at <a href='https://wandb.ai/bhkim003-seoul-national-university/reservoir/runs/t1bp5295' target=\"_blank\">https://wandb.ai/bhkim003-seoul-national-university/reservoir/runs/t1bp5295</a>"
      ],
      "text/plain": [
       "<IPython.core.display.HTML object>"
      ]
     },
     "metadata": {},
     "output_type": "display_data"
    },
    {
     "name": "stderr",
     "output_type": "stream",
     "text": [
      "\u001b[34m\u001b[1mwandb\u001b[0m: \u001b[33mWARNING\u001b[0m Config item 'data_path' was locked by 'sweep' (ignored update).\n",
      "\u001b[34m\u001b[1mwandb\u001b[0m: \u001b[33mWARNING\u001b[0m Config item 'which_data' was locked by 'sweep' (ignored update).\n",
      "\u001b[34m\u001b[1mwandb\u001b[0m: \u001b[33mWARNING\u001b[0m Config item 'learning_rate' was locked by 'sweep' (ignored update).\n",
      "\u001b[34m\u001b[1mwandb\u001b[0m: \u001b[33mWARNING\u001b[0m Config item 'IMAGE_SIZE' was locked by 'sweep' (ignored update).\n",
      "\u001b[34m\u001b[1mwandb\u001b[0m: \u001b[33mWARNING\u001b[0m Config item 'EPOCH' was locked by 'sweep' (ignored update).\n",
      "\u001b[34m\u001b[1mwandb\u001b[0m: \u001b[33mWARNING\u001b[0m Config item 'rate_coding' was locked by 'sweep' (ignored update).\n",
      "\u001b[34m\u001b[1mwandb\u001b[0m: \u001b[33mWARNING\u001b[0m Config item 'pre_spike_weight' was locked by 'sweep' (ignored update).\n",
      "\u001b[34m\u001b[1mwandb\u001b[0m: \u001b[33mWARNING\u001b[0m Config item 'dvs_duration' was locked by 'sweep' (ignored update).\n",
      "\u001b[34m\u001b[1mwandb\u001b[0m: \u001b[33mWARNING\u001b[0m Config item 'dvs_clipping' was locked by 'sweep' (ignored update).\n",
      "\u001b[34m\u001b[1mwandb\u001b[0m: \u001b[33mWARNING\u001b[0m Config item 'no_reservoir' was locked by 'sweep' (ignored update).\n"
     ]
    },
    {
     "name": "stdout",
     "output_type": "stream",
     "text": [
      "The directory [/data2/gesture/duration_1000000] already exists.\n",
      "The directory [/data2/gesture/duration_1000000] already exists.\n",
      "NO_RESERVOIR_NET(\n",
      "  (reservoir): RESERVOIR(\n",
      "    (conv_depthwise): Conv2d(2, 2, kernel_size=(3, 3), stride=(1, 1), padding=(1, 1), groups=2)\n",
      "  )\n",
      "  (linear): Linear(in_features=32768, out_features=10, bias=True)\n",
      ")\n",
      "Epoch 1\n",
      "Train Accuracy: 41.47%\n",
      "Test loss: 4.363, Accuracy: 41.67%\n",
      "Epoch 2\n",
      "Train Accuracy: 63.91%\n",
      "Test loss: 1.540, Accuracy: 60.23%\n",
      "Epoch 3\n",
      "Train Accuracy: 68.18%\n",
      "Test loss: 2.077, Accuracy: 58.71%\n",
      "Epoch 4\n",
      "Train Accuracy: 73.28%\n",
      "Test loss: 1.388, Accuracy: 64.02%\n",
      "Epoch 5\n",
      "Train Accuracy: 84.14%\n",
      "Test loss: 1.460, Accuracy: 64.77%\n",
      "Epoch 6\n",
      "Train Accuracy: 86.64%\n",
      "Test loss: 1.558, Accuracy: 62.50%\n",
      "Epoch 7\n",
      "Train Accuracy: 92.58%\n",
      "Test loss: 1.488, Accuracy: 66.29%\n",
      "Epoch 8\n",
      "Train Accuracy: 92.02%\n",
      "Test loss: 1.565, Accuracy: 64.77%\n",
      "Epoch 9\n",
      "Train Accuracy: 93.04%\n",
      "Test loss: 1.332, Accuracy: 70.45%\n",
      "Epoch 10\n",
      "Train Accuracy: 92.21%\n",
      "Test loss: 3.250, Accuracy: 60.61%\n",
      "Epoch 11\n",
      "Train Accuracy: 87.76%\n",
      "Test loss: 1.633, Accuracy: 61.74%\n",
      "Epoch 12\n",
      "Train Accuracy: 94.71%\n",
      "Test loss: 1.722, Accuracy: 65.15%\n",
      "Epoch 13\n",
      "Train Accuracy: 95.73%\n",
      "Test loss: 1.290, Accuracy: 67.80%\n",
      "Epoch 14\n",
      "Train Accuracy: 97.50%\n",
      "Test loss: 1.475, Accuracy: 66.67%\n",
      "Epoch 15\n",
      "Train Accuracy: 95.73%\n",
      "Test loss: 1.560, Accuracy: 70.08%\n",
      "Epoch 16\n",
      "Train Accuracy: 96.85%\n",
      "Test loss: 1.270, Accuracy: 71.59%\n",
      "Epoch 17\n",
      "Train Accuracy: 97.68%\n",
      "Test loss: 1.290, Accuracy: 69.32%\n",
      "Epoch 18\n",
      "Train Accuracy: 99.91%\n",
      "Test loss: 1.384, Accuracy: 71.21%\n",
      "Epoch 19\n",
      "Train Accuracy: 100.00%\n",
      "Test loss: 1.335, Accuracy: 70.45%\n",
      "Epoch 20\n",
      "Train Accuracy: 99.91%\n",
      "Test loss: 1.352, Accuracy: 68.18%\n",
      "Epoch 21\n",
      "Train Accuracy: 100.00%\n",
      "Test loss: 1.337, Accuracy: 69.32%\n",
      "Epoch 22\n",
      "Train Accuracy: 100.00%\n",
      "Test loss: 1.372, Accuracy: 68.94%\n",
      "Epoch 23\n",
      "Train Accuracy: 100.00%\n",
      "Test loss: 1.435, Accuracy: 67.05%\n",
      "Epoch 24\n",
      "Train Accuracy: 100.00%\n",
      "Test loss: 1.387, Accuracy: 69.32%\n",
      "Epoch 25\n",
      "Train Accuracy: 100.00%\n",
      "Test loss: 1.342, Accuracy: 68.56%\n",
      "Epoch 26\n",
      "Train Accuracy: 100.00%\n",
      "Test loss: 1.394, Accuracy: 67.42%\n",
      "Epoch 27\n",
      "Train Accuracy: 100.00%\n",
      "Test loss: 1.433, Accuracy: 69.70%\n",
      "Epoch 28\n",
      "Train Accuracy: 100.00%\n",
      "Test loss: 1.506, Accuracy: 66.29%\n",
      "Epoch 29\n",
      "Train Accuracy: 100.00%\n",
      "Test loss: 1.440, Accuracy: 67.80%\n",
      "Epoch 30\n",
      "Train Accuracy: 100.00%\n",
      "Test loss: 1.409, Accuracy: 68.56%\n",
      "Epoch 31\n",
      "Train Accuracy: 100.00%\n",
      "Test loss: 1.402, Accuracy: 67.80%\n",
      "Epoch 32\n",
      "Train Accuracy: 100.00%\n",
      "Test loss: 1.373, Accuracy: 68.94%\n",
      "Epoch 33\n",
      "Train Accuracy: 100.00%\n",
      "Test loss: 1.440, Accuracy: 67.80%\n",
      "Epoch 34\n",
      "Train Accuracy: 100.00%\n",
      "Test loss: 1.418, Accuracy: 68.56%\n",
      "Epoch 35\n",
      "Train Accuracy: 100.00%\n",
      "Test loss: 1.388, Accuracy: 68.94%\n",
      "Epoch 36\n",
      "Train Accuracy: 100.00%\n",
      "Test loss: 1.452, Accuracy: 67.42%\n",
      "Epoch 37\n",
      "Train Accuracy: 100.00%\n",
      "Test loss: 1.404, Accuracy: 69.70%\n",
      "Epoch 38\n",
      "Train Accuracy: 100.00%\n",
      "Test loss: 1.395, Accuracy: 68.94%\n",
      "Epoch 39\n",
      "Train Accuracy: 100.00%\n",
      "Test loss: 1.416, Accuracy: 69.32%\n",
      "Epoch 40\n",
      "Train Accuracy: 100.00%\n",
      "Test loss: 1.441, Accuracy: 67.42%\n",
      "Epoch 41\n",
      "Train Accuracy: 100.00%\n",
      "Test loss: 1.447, Accuracy: 68.56%\n",
      "Epoch 42\n",
      "Train Accuracy: 100.00%\n",
      "Test loss: 1.442, Accuracy: 68.18%\n",
      "Epoch 43\n",
      "Train Accuracy: 100.00%\n",
      "Test loss: 1.437, Accuracy: 68.18%\n",
      "Epoch 44\n",
      "Train Accuracy: 100.00%\n",
      "Test loss: 1.443, Accuracy: 68.56%\n",
      "Epoch 45\n",
      "Train Accuracy: 100.00%\n",
      "Test loss: 1.441, Accuracy: 67.80%\n",
      "Epoch 46\n",
      "Train Accuracy: 100.00%\n",
      "Test loss: 1.434, Accuracy: 68.94%\n",
      "Epoch 47\n",
      "Train Accuracy: 100.00%\n",
      "Test loss: 1.427, Accuracy: 69.70%\n",
      "Epoch 48\n",
      "Train Accuracy: 100.00%\n",
      "Test loss: 1.425, Accuracy: 69.70%\n",
      "Epoch 49\n",
      "Train Accuracy: 100.00%\n",
      "Test loss: 1.500, Accuracy: 68.56%\n",
      "Epoch 50\n",
      "Train Accuracy: 100.00%\n",
      "Test loss: 1.484, Accuracy: 68.18%\n"
     ]
    },
    {
     "data": {
      "application/vnd.jupyter.widget-view+json": {
       "model_id": "ff8ede23c2ef492681f162731a96afb9",
       "version_major": 2,
       "version_minor": 0
      },
      "text/plain": [
       "VBox(children=(Label(value='0.268 MB of 0.268 MB uploaded\\r'), FloatProgress(value=1.0, max=1.0)))"
      ]
     },
     "metadata": {},
     "output_type": "display_data"
    },
    {
     "data": {
      "text/html": [
       "<style>\n",
       "    table.wandb td:nth-child(1) { padding: 0 10px; text-align: left ; width: auto;} td:nth-child(2) {text-align: left ; width: 100%}\n",
       "    .wandb-row { display: flex; flex-direction: row; flex-wrap: wrap; justify-content: flex-start; width: 100% }\n",
       "    .wandb-col { display: flex; flex-direction: column; flex-basis: 100%; flex: 1; padding: 10px; }\n",
       "    </style>\n",
       "<div class=\"wandb-row\"><div class=\"wandb-col\"><h3>Run history:</h3><br/><table class=\"wandb\"><tr><td>iter_accuracy</td><td>▁▅▅▇▇▇▆█▆▇██████████████████████████████</td></tr><tr><td>tr_accuracy</td><td>▁▄▄▅▆▇▇▇▇▇▇█████████████████████████████</td></tr><tr><td>val_accuracy</td><td>▁▅▅▆▆▇▆█▆▆▇▇█▇██▇▇▇▇▇█▇▇▇▇▇▇▇█▇▇▇▇▇▇▇██▇</td></tr></table><br/></div><div class=\"wandb-col\"><h3>Run summary:</h3><br/><table class=\"wandb\"><tr><td>iter_accuracy</td><td>100.0</td></tr><tr><td>tr_accuracy</td><td>100.0</td></tr><tr><td>val_accuracy</td><td>68.18182</td></tr></table><br/></div></div>"
      ],
      "text/plain": [
       "<IPython.core.display.HTML object>"
      ]
     },
     "metadata": {},
     "output_type": "display_data"
    },
    {
     "data": {
      "text/html": [
       " View run <strong style=\"color:#cdcd00\">glamorous-sweep-16</strong> at: <a href='https://wandb.ai/bhkim003-seoul-national-university/reservoir/runs/t1bp5295' target=\"_blank\">https://wandb.ai/bhkim003-seoul-national-university/reservoir/runs/t1bp5295</a><br/> View project at: <a href='https://wandb.ai/bhkim003-seoul-national-university/reservoir' target=\"_blank\">https://wandb.ai/bhkim003-seoul-national-university/reservoir</a><br/>Synced 7 W&B file(s), 0 media file(s), 0 artifact file(s) and 1 other file(s)"
      ],
      "text/plain": [
       "<IPython.core.display.HTML object>"
      ]
     },
     "metadata": {},
     "output_type": "display_data"
    },
    {
     "data": {
      "text/html": [
       "Find logs at: <code>./wandb/run-20240725_232805-t1bp5295/logs</code>"
      ],
      "text/plain": [
       "<IPython.core.display.HTML object>"
      ]
     },
     "metadata": {},
     "output_type": "display_data"
    },
    {
     "data": {
      "text/html": [
       "The new W&B backend becomes opt-out in version 0.18.0; try it out with `wandb.require(\"core\")`! See https://wandb.me/wandb-core for more information."
      ],
      "text/plain": [
       "<IPython.core.display.HTML object>"
      ]
     },
     "metadata": {},
     "output_type": "display_data"
    },
    {
     "name": "stderr",
     "output_type": "stream",
     "text": [
      "\u001b[34m\u001b[1mwandb\u001b[0m: Agent Starting Run: eywfyb9l with config:\n",
      "\u001b[34m\u001b[1mwandb\u001b[0m: \tEPOCH: 50\n",
      "\u001b[34m\u001b[1mwandb\u001b[0m: \tIMAGE_SIZE: 32\n",
      "\u001b[34m\u001b[1mwandb\u001b[0m: \tbatch_size: 32\n",
      "\u001b[34m\u001b[1mwandb\u001b[0m: \tdata_path: /data2\n",
      "\u001b[34m\u001b[1mwandb\u001b[0m: \tdecay: 0.5925472640830047\n",
      "\u001b[34m\u001b[1mwandb\u001b[0m: \tdvs_clipping: True\n",
      "\u001b[34m\u001b[1mwandb\u001b[0m: \tdvs_duration: 1000000\n",
      "\u001b[34m\u001b[1mwandb\u001b[0m: \tlearning_rate: 0.07405272899494426\n",
      "\u001b[34m\u001b[1mwandb\u001b[0m: \tno_reservoir: True\n",
      "\u001b[34m\u001b[1mwandb\u001b[0m: \tpre_spike_weight: 4.47324173122499\n",
      "\u001b[34m\u001b[1mwandb\u001b[0m: \trate_coding: False\n",
      "\u001b[34m\u001b[1mwandb\u001b[0m: \ttime_step: 6\n",
      "\u001b[34m\u001b[1mwandb\u001b[0m: \twhich_data: DVS_GESTURE\n",
      "Failed to detect the name of this notebook, you can set it manually with the WANDB_NOTEBOOK_NAME environment variable to enable code saving.\n"
     ]
    },
    {
     "data": {
      "text/html": [
       "Tracking run with wandb version 0.17.5"
      ],
      "text/plain": [
       "<IPython.core.display.HTML object>"
      ]
     },
     "metadata": {},
     "output_type": "display_data"
    },
    {
     "data": {
      "text/html": [
       "Run data is saved locally in <code>/nfs/home/bhkim003/github_folder/ByeonghyeonKim/my_snn/wandb/run-20240725_233709-eywfyb9l</code>"
      ],
      "text/plain": [
       "<IPython.core.display.HTML object>"
      ]
     },
     "metadata": {},
     "output_type": "display_data"
    },
    {
     "data": {
      "text/html": [
       "Syncing run <strong><a href='https://wandb.ai/bhkim003-seoul-national-university/reservoir/runs/eywfyb9l' target=\"_blank\">stellar-sweep-17</a></strong> to <a href='https://wandb.ai/bhkim003-seoul-national-university/reservoir' target=\"_blank\">Weights & Biases</a> (<a href='https://wandb.me/run' target=\"_blank\">docs</a>)<br/>Sweep page: <a href='https://wandb.ai/bhkim003-seoul-national-university/reservoir/sweeps/0j0aowy8' target=\"_blank\">https://wandb.ai/bhkim003-seoul-national-university/reservoir/sweeps/0j0aowy8</a>"
      ],
      "text/plain": [
       "<IPython.core.display.HTML object>"
      ]
     },
     "metadata": {},
     "output_type": "display_data"
    },
    {
     "data": {
      "text/html": [
       " View project at <a href='https://wandb.ai/bhkim003-seoul-national-university/reservoir' target=\"_blank\">https://wandb.ai/bhkim003-seoul-national-university/reservoir</a>"
      ],
      "text/plain": [
       "<IPython.core.display.HTML object>"
      ]
     },
     "metadata": {},
     "output_type": "display_data"
    },
    {
     "data": {
      "text/html": [
       " View sweep at <a href='https://wandb.ai/bhkim003-seoul-national-university/reservoir/sweeps/0j0aowy8' target=\"_blank\">https://wandb.ai/bhkim003-seoul-national-university/reservoir/sweeps/0j0aowy8</a>"
      ],
      "text/plain": [
       "<IPython.core.display.HTML object>"
      ]
     },
     "metadata": {},
     "output_type": "display_data"
    },
    {
     "data": {
      "text/html": [
       " View run at <a href='https://wandb.ai/bhkim003-seoul-national-university/reservoir/runs/eywfyb9l' target=\"_blank\">https://wandb.ai/bhkim003-seoul-national-university/reservoir/runs/eywfyb9l</a>"
      ],
      "text/plain": [
       "<IPython.core.display.HTML object>"
      ]
     },
     "metadata": {},
     "output_type": "display_data"
    },
    {
     "name": "stderr",
     "output_type": "stream",
     "text": [
      "\u001b[34m\u001b[1mwandb\u001b[0m: \u001b[33mWARNING\u001b[0m Config item 'data_path' was locked by 'sweep' (ignored update).\n",
      "\u001b[34m\u001b[1mwandb\u001b[0m: \u001b[33mWARNING\u001b[0m Config item 'which_data' was locked by 'sweep' (ignored update).\n",
      "\u001b[34m\u001b[1mwandb\u001b[0m: \u001b[33mWARNING\u001b[0m Config item 'learning_rate' was locked by 'sweep' (ignored update).\n",
      "\u001b[34m\u001b[1mwandb\u001b[0m: \u001b[33mWARNING\u001b[0m Config item 'IMAGE_SIZE' was locked by 'sweep' (ignored update).\n",
      "\u001b[34m\u001b[1mwandb\u001b[0m: \u001b[33mWARNING\u001b[0m Config item 'EPOCH' was locked by 'sweep' (ignored update).\n",
      "\u001b[34m\u001b[1mwandb\u001b[0m: \u001b[33mWARNING\u001b[0m Config item 'rate_coding' was locked by 'sweep' (ignored update).\n",
      "\u001b[34m\u001b[1mwandb\u001b[0m: \u001b[33mWARNING\u001b[0m Config item 'pre_spike_weight' was locked by 'sweep' (ignored update).\n",
      "\u001b[34m\u001b[1mwandb\u001b[0m: \u001b[33mWARNING\u001b[0m Config item 'dvs_duration' was locked by 'sweep' (ignored update).\n",
      "\u001b[34m\u001b[1mwandb\u001b[0m: \u001b[33mWARNING\u001b[0m Config item 'dvs_clipping' was locked by 'sweep' (ignored update).\n",
      "\u001b[34m\u001b[1mwandb\u001b[0m: \u001b[33mWARNING\u001b[0m Config item 'no_reservoir' was locked by 'sweep' (ignored update).\n"
     ]
    },
    {
     "name": "stdout",
     "output_type": "stream",
     "text": [
      "The directory [/data2/gesture/duration_1000000] already exists.\n",
      "The directory [/data2/gesture/duration_1000000] already exists.\n",
      "NO_RESERVOIR_NET(\n",
      "  (reservoir): RESERVOIR(\n",
      "    (conv_depthwise): Conv2d(2, 2, kernel_size=(3, 3), stride=(1, 1), padding=(1, 1), groups=2)\n",
      "  )\n",
      "  (linear): Linear(in_features=2048, out_features=10, bias=True)\n",
      ")\n",
      "Epoch 1\n",
      "Train Accuracy: 27.18%\n",
      "Test loss: 7.598, Accuracy: 43.56%\n",
      "Epoch 2\n",
      "Train Accuracy: 54.64%\n",
      "Test loss: 5.730, Accuracy: 45.83%\n",
      "Epoch 3\n",
      "Train Accuracy: 57.98%\n",
      "Test loss: 10.927, Accuracy: 42.80%\n",
      "Epoch 4\n",
      "Train Accuracy: 65.31%\n",
      "Test loss: 5.113, Accuracy: 50.00%\n",
      "Epoch 5\n",
      "Train Accuracy: 75.14%\n",
      "Test loss: 4.379, Accuracy: 58.71%\n",
      "Epoch 6\n",
      "Train Accuracy: 79.68%\n",
      "Test loss: 4.666, Accuracy: 60.23%\n",
      "Epoch 7\n",
      "Train Accuracy: 86.64%\n",
      "Test loss: 3.495, Accuracy: 62.50%\n",
      "Epoch 8\n",
      "Train Accuracy: 87.01%\n",
      "Test loss: 2.934, Accuracy: 59.47%\n",
      "Epoch 9\n",
      "Train Accuracy: 90.54%\n",
      "Test loss: 3.767, Accuracy: 57.95%\n",
      "Epoch 10\n",
      "Train Accuracy: 94.53%\n",
      "Test loss: 3.218, Accuracy: 62.50%\n",
      "Epoch 11\n",
      "Train Accuracy: 89.98%\n",
      "Test loss: 3.307, Accuracy: 58.33%\n",
      "Epoch 12\n",
      "Train Accuracy: 95.18%\n",
      "Test loss: 3.149, Accuracy: 61.36%\n",
      "Epoch 13\n",
      "Train Accuracy: 97.12%\n",
      "Test loss: 2.848, Accuracy: 63.26%\n",
      "Epoch 14\n",
      "Train Accuracy: 96.47%\n",
      "Test loss: 2.975, Accuracy: 63.64%\n",
      "Epoch 15\n",
      "Train Accuracy: 94.90%\n",
      "Test loss: 2.543, Accuracy: 68.56%\n",
      "Epoch 16\n",
      "Train Accuracy: 96.10%\n",
      "Test loss: 2.773, Accuracy: 67.05%\n",
      "Epoch 17\n",
      "Train Accuracy: 97.87%\n",
      "Test loss: 2.884, Accuracy: 67.05%\n",
      "Epoch 18\n",
      "Train Accuracy: 99.63%\n",
      "Test loss: 2.869, Accuracy: 65.53%\n",
      "Epoch 19\n",
      "Train Accuracy: 98.70%\n",
      "Test loss: 3.186, Accuracy: 64.02%\n",
      "Epoch 20\n",
      "Train Accuracy: 98.79%\n",
      "Test loss: 3.125, Accuracy: 63.26%\n",
      "Epoch 21\n",
      "Train Accuracy: 99.91%\n",
      "Test loss: 2.833, Accuracy: 65.53%\n",
      "Epoch 22\n",
      "Train Accuracy: 100.00%\n",
      "Test loss: 2.807, Accuracy: 65.91%\n",
      "Epoch 23\n",
      "Train Accuracy: 100.00%\n",
      "Test loss: 2.871, Accuracy: 64.77%\n",
      "Epoch 24\n",
      "Train Accuracy: 100.00%\n",
      "Test loss: 2.795, Accuracy: 65.15%\n",
      "Epoch 25\n",
      "Train Accuracy: 100.00%\n",
      "Test loss: 2.803, Accuracy: 64.77%\n",
      "Epoch 26\n",
      "Train Accuracy: 100.00%\n",
      "Test loss: 2.805, Accuracy: 65.53%\n",
      "Epoch 27\n",
      "Train Accuracy: 100.00%\n",
      "Test loss: 2.797, Accuracy: 64.77%\n",
      "Epoch 28\n",
      "Train Accuracy: 100.00%\n",
      "Test loss: 2.808, Accuracy: 65.15%\n",
      "Epoch 29\n",
      "Train Accuracy: 100.00%\n",
      "Test loss: 2.800, Accuracy: 64.77%\n",
      "Epoch 30\n",
      "Train Accuracy: 100.00%\n",
      "Test loss: 2.787, Accuracy: 64.77%\n",
      "Epoch 31\n",
      "Train Accuracy: 100.00%\n",
      "Test loss: 2.789, Accuracy: 64.77%\n",
      "Epoch 32\n",
      "Train Accuracy: 100.00%\n",
      "Test loss: 2.796, Accuracy: 64.77%\n",
      "Epoch 33\n",
      "Train Accuracy: 100.00%\n",
      "Test loss: 2.782, Accuracy: 64.77%\n",
      "Epoch 34\n",
      "Train Accuracy: 100.00%\n",
      "Test loss: 2.783, Accuracy: 64.77%\n",
      "Epoch 35\n",
      "Train Accuracy: 100.00%\n",
      "Test loss: 2.795, Accuracy: 64.77%\n",
      "Epoch 36\n",
      "Train Accuracy: 100.00%\n",
      "Test loss: 2.784, Accuracy: 65.15%\n",
      "Epoch 37\n",
      "Train Accuracy: 100.00%\n",
      "Test loss: 2.785, Accuracy: 64.77%\n",
      "Epoch 38\n",
      "Train Accuracy: 100.00%\n",
      "Test loss: 2.799, Accuracy: 64.77%\n",
      "Epoch 39\n",
      "Train Accuracy: 100.00%\n",
      "Test loss: 2.795, Accuracy: 64.77%\n",
      "Epoch 40\n",
      "Train Accuracy: 100.00%\n",
      "Test loss: 2.775, Accuracy: 64.77%\n",
      "Epoch 41\n",
      "Train Accuracy: 100.00%\n",
      "Test loss: 2.791, Accuracy: 64.77%\n",
      "Epoch 42\n",
      "Train Accuracy: 100.00%\n",
      "Test loss: 2.795, Accuracy: 64.77%\n",
      "Epoch 43\n",
      "Train Accuracy: 100.00%\n",
      "Test loss: 2.788, Accuracy: 64.77%\n",
      "Epoch 44\n",
      "Train Accuracy: 100.00%\n",
      "Test loss: 2.780, Accuracy: 65.15%\n",
      "Epoch 45\n",
      "Train Accuracy: 100.00%\n",
      "Test loss: 2.799, Accuracy: 64.77%\n",
      "Epoch 46\n",
      "Train Accuracy: 100.00%\n",
      "Test loss: 2.793, Accuracy: 64.77%\n",
      "Epoch 47\n",
      "Train Accuracy: 100.00%\n",
      "Test loss: 2.791, Accuracy: 64.77%\n",
      "Epoch 48\n",
      "Train Accuracy: 100.00%\n",
      "Test loss: 2.775, Accuracy: 65.53%\n",
      "Epoch 49\n",
      "Train Accuracy: 100.00%\n",
      "Test loss: 2.807, Accuracy: 64.77%\n",
      "Epoch 50\n",
      "Train Accuracy: 100.00%\n",
      "Test loss: 2.785, Accuracy: 65.15%\n"
     ]
    },
    {
     "data": {
      "application/vnd.jupyter.widget-view+json": {
       "model_id": "e0cac1b224ed4e7387c1382aa45a05c1",
       "version_major": 2,
       "version_minor": 0
      },
      "text/plain": [
       "VBox(children=(Label(value='0.268 MB of 0.268 MB uploaded\\r'), FloatProgress(value=1.0, max=1.0)))"
      ]
     },
     "metadata": {},
     "output_type": "display_data"
    },
    {
     "data": {
      "text/html": [
       "<style>\n",
       "    table.wandb td:nth-child(1) { padding: 0 10px; text-align: left ; width: auto;} td:nth-child(2) {text-align: left ; width: 100%}\n",
       "    .wandb-row { display: flex; flex-direction: row; flex-wrap: wrap; justify-content: flex-start; width: 100% }\n",
       "    .wandb-col { display: flex; flex-direction: column; flex-basis: 100%; flex: 1; padding: 10px; }\n",
       "    </style>\n",
       "<div class=\"wandb-row\"><div class=\"wandb-col\"><h3>Run history:</h3><br/><table class=\"wandb\"><tr><td>iter_accuracy</td><td>▁▃▂▆▄▇█████▇████████████████████████████</td></tr><tr><td>tr_accuracy</td><td>▁▄▄▅▆▇▇▇▇███████████████████████████████</td></tr><tr><td>val_accuracy</td><td>▁▂▁▃▆▇▆▅▅▆▇▇███▇██▇▇█▇▇▇▇▇▇▇▇▇▇▇▇▇▇▇▇▇█▇</td></tr></table><br/></div><div class=\"wandb-col\"><h3>Run summary:</h3><br/><table class=\"wandb\"><tr><td>iter_accuracy</td><td>100.0</td></tr><tr><td>tr_accuracy</td><td>100.0</td></tr><tr><td>val_accuracy</td><td>65.15152</td></tr></table><br/></div></div>"
      ],
      "text/plain": [
       "<IPython.core.display.HTML object>"
      ]
     },
     "metadata": {},
     "output_type": "display_data"
    },
    {
     "data": {
      "text/html": [
       " View run <strong style=\"color:#cdcd00\">stellar-sweep-17</strong> at: <a href='https://wandb.ai/bhkim003-seoul-national-university/reservoir/runs/eywfyb9l' target=\"_blank\">https://wandb.ai/bhkim003-seoul-national-university/reservoir/runs/eywfyb9l</a><br/> View project at: <a href='https://wandb.ai/bhkim003-seoul-national-university/reservoir' target=\"_blank\">https://wandb.ai/bhkim003-seoul-national-university/reservoir</a><br/>Synced 7 W&B file(s), 0 media file(s), 0 artifact file(s) and 1 other file(s)"
      ],
      "text/plain": [
       "<IPython.core.display.HTML object>"
      ]
     },
     "metadata": {},
     "output_type": "display_data"
    },
    {
     "data": {
      "text/html": [
       "Find logs at: <code>./wandb/run-20240725_233709-eywfyb9l/logs</code>"
      ],
      "text/plain": [
       "<IPython.core.display.HTML object>"
      ]
     },
     "metadata": {},
     "output_type": "display_data"
    },
    {
     "data": {
      "text/html": [
       "The new W&B backend becomes opt-out in version 0.18.0; try it out with `wandb.require(\"core\")`! See https://wandb.me/wandb-core for more information."
      ],
      "text/plain": [
       "<IPython.core.display.HTML object>"
      ]
     },
     "metadata": {},
     "output_type": "display_data"
    },
    {
     "name": "stderr",
     "output_type": "stream",
     "text": [
      "\u001b[34m\u001b[1mwandb\u001b[0m: Agent Starting Run: fl0h75nr with config:\n",
      "\u001b[34m\u001b[1mwandb\u001b[0m: \tEPOCH: 50\n",
      "\u001b[34m\u001b[1mwandb\u001b[0m: \tIMAGE_SIZE: 16\n",
      "\u001b[34m\u001b[1mwandb\u001b[0m: \tbatch_size: 256\n",
      "\u001b[34m\u001b[1mwandb\u001b[0m: \tdata_path: /data2\n",
      "\u001b[34m\u001b[1mwandb\u001b[0m: \tdecay: 0.8335865873943077\n",
      "\u001b[34m\u001b[1mwandb\u001b[0m: \tdvs_clipping: True\n",
      "\u001b[34m\u001b[1mwandb\u001b[0m: \tdvs_duration: 1000000\n",
      "\u001b[34m\u001b[1mwandb\u001b[0m: \tlearning_rate: 0.001997987195363114\n",
      "\u001b[34m\u001b[1mwandb\u001b[0m: \tno_reservoir: False\n",
      "\u001b[34m\u001b[1mwandb\u001b[0m: \tpre_spike_weight: 2.0562924712830974\n",
      "\u001b[34m\u001b[1mwandb\u001b[0m: \trate_coding: True\n",
      "\u001b[34m\u001b[1mwandb\u001b[0m: \ttime_step: 8\n",
      "\u001b[34m\u001b[1mwandb\u001b[0m: \twhich_data: DVS_GESTURE\n",
      "Failed to detect the name of this notebook, you can set it manually with the WANDB_NOTEBOOK_NAME environment variable to enable code saving.\n"
     ]
    },
    {
     "data": {
      "text/html": [
       "Tracking run with wandb version 0.17.5"
      ],
      "text/plain": [
       "<IPython.core.display.HTML object>"
      ]
     },
     "metadata": {},
     "output_type": "display_data"
    },
    {
     "data": {
      "text/html": [
       "Run data is saved locally in <code>/nfs/home/bhkim003/github_folder/ByeonghyeonKim/my_snn/wandb/run-20240725_234250-fl0h75nr</code>"
      ],
      "text/plain": [
       "<IPython.core.display.HTML object>"
      ]
     },
     "metadata": {},
     "output_type": "display_data"
    },
    {
     "data": {
      "text/html": [
       "Syncing run <strong><a href='https://wandb.ai/bhkim003-seoul-national-university/reservoir/runs/fl0h75nr' target=\"_blank\">peach-sweep-18</a></strong> to <a href='https://wandb.ai/bhkim003-seoul-national-university/reservoir' target=\"_blank\">Weights & Biases</a> (<a href='https://wandb.me/run' target=\"_blank\">docs</a>)<br/>Sweep page: <a href='https://wandb.ai/bhkim003-seoul-national-university/reservoir/sweeps/0j0aowy8' target=\"_blank\">https://wandb.ai/bhkim003-seoul-national-university/reservoir/sweeps/0j0aowy8</a>"
      ],
      "text/plain": [
       "<IPython.core.display.HTML object>"
      ]
     },
     "metadata": {},
     "output_type": "display_data"
    },
    {
     "data": {
      "text/html": [
       " View project at <a href='https://wandb.ai/bhkim003-seoul-national-university/reservoir' target=\"_blank\">https://wandb.ai/bhkim003-seoul-national-university/reservoir</a>"
      ],
      "text/plain": [
       "<IPython.core.display.HTML object>"
      ]
     },
     "metadata": {},
     "output_type": "display_data"
    },
    {
     "data": {
      "text/html": [
       " View sweep at <a href='https://wandb.ai/bhkim003-seoul-national-university/reservoir/sweeps/0j0aowy8' target=\"_blank\">https://wandb.ai/bhkim003-seoul-national-university/reservoir/sweeps/0j0aowy8</a>"
      ],
      "text/plain": [
       "<IPython.core.display.HTML object>"
      ]
     },
     "metadata": {},
     "output_type": "display_data"
    },
    {
     "data": {
      "text/html": [
       " View run at <a href='https://wandb.ai/bhkim003-seoul-national-university/reservoir/runs/fl0h75nr' target=\"_blank\">https://wandb.ai/bhkim003-seoul-national-university/reservoir/runs/fl0h75nr</a>"
      ],
      "text/plain": [
       "<IPython.core.display.HTML object>"
      ]
     },
     "metadata": {},
     "output_type": "display_data"
    },
    {
     "name": "stderr",
     "output_type": "stream",
     "text": [
      "\u001b[34m\u001b[1mwandb\u001b[0m: \u001b[33mWARNING\u001b[0m Config item 'data_path' was locked by 'sweep' (ignored update).\n",
      "\u001b[34m\u001b[1mwandb\u001b[0m: \u001b[33mWARNING\u001b[0m Config item 'which_data' was locked by 'sweep' (ignored update).\n",
      "\u001b[34m\u001b[1mwandb\u001b[0m: \u001b[33mWARNING\u001b[0m Config item 'learning_rate' was locked by 'sweep' (ignored update).\n",
      "\u001b[34m\u001b[1mwandb\u001b[0m: \u001b[33mWARNING\u001b[0m Config item 'IMAGE_SIZE' was locked by 'sweep' (ignored update).\n",
      "\u001b[34m\u001b[1mwandb\u001b[0m: \u001b[33mWARNING\u001b[0m Config item 'EPOCH' was locked by 'sweep' (ignored update).\n",
      "\u001b[34m\u001b[1mwandb\u001b[0m: \u001b[33mWARNING\u001b[0m Config item 'rate_coding' was locked by 'sweep' (ignored update).\n",
      "\u001b[34m\u001b[1mwandb\u001b[0m: \u001b[33mWARNING\u001b[0m Config item 'pre_spike_weight' was locked by 'sweep' (ignored update).\n",
      "\u001b[34m\u001b[1mwandb\u001b[0m: \u001b[33mWARNING\u001b[0m Config item 'dvs_duration' was locked by 'sweep' (ignored update).\n",
      "\u001b[34m\u001b[1mwandb\u001b[0m: \u001b[33mWARNING\u001b[0m Config item 'dvs_clipping' was locked by 'sweep' (ignored update).\n",
      "\u001b[34m\u001b[1mwandb\u001b[0m: \u001b[33mWARNING\u001b[0m Config item 'no_reservoir' was locked by 'sweep' (ignored update).\n"
     ]
    },
    {
     "name": "stdout",
     "output_type": "stream",
     "text": [
      "The directory [/data2/gesture/duration_1000000] already exists.\n",
      "The directory [/data2/gesture/duration_1000000] already exists.\n",
      "RESERVOIR_NET(\n",
      "  (reservoir): RESERVOIR(\n",
      "    (conv_depthwise): Conv2d(2, 2, kernel_size=(3, 3), stride=(1, 1), padding=(1, 1), groups=2)\n",
      "  )\n",
      "  (linear): Linear(in_features=512, out_features=10, bias=True)\n",
      ")\n",
      "Epoch 1\n",
      "Train Accuracy: 10.85%\n",
      "Test loss: 2.256, Accuracy: 13.64%\n",
      "Epoch 2\n",
      "Train Accuracy: 14.10%\n",
      "Test loss: 2.320, Accuracy: 19.70%\n",
      "Epoch 3\n",
      "Train Accuracy: 19.02%\n",
      "Test loss: 2.386, Accuracy: 19.32%\n",
      "Epoch 4\n",
      "Train Accuracy: 18.37%\n",
      "Test loss: 2.411, Accuracy: 19.32%\n",
      "Epoch 5\n",
      "Train Accuracy: 18.83%\n",
      "Test loss: 2.381, Accuracy: 20.83%\n",
      "Epoch 6\n",
      "Train Accuracy: 21.61%\n",
      "Test loss: 2.311, Accuracy: 28.79%\n",
      "Epoch 7\n",
      "Train Accuracy: 25.60%\n",
      "Test loss: 2.251, Accuracy: 31.44%\n",
      "Epoch 8\n",
      "Train Accuracy: 29.31%\n",
      "Test loss: 2.199, Accuracy: 36.36%\n",
      "Epoch 9\n",
      "Train Accuracy: 30.80%\n",
      "Test loss: 2.169, Accuracy: 35.61%\n",
      "Epoch 10\n",
      "Train Accuracy: 30.89%\n",
      "Test loss: 2.138, Accuracy: 38.26%\n",
      "Epoch 11\n",
      "Train Accuracy: 33.58%\n",
      "Test loss: 2.112, Accuracy: 37.88%\n",
      "Epoch 12\n",
      "Train Accuracy: 36.09%\n",
      "Test loss: 2.088, Accuracy: 37.88%\n",
      "Epoch 13\n",
      "Train Accuracy: 38.40%\n",
      "Test loss: 2.077, Accuracy: 39.02%\n",
      "Epoch 14\n",
      "Train Accuracy: 38.13%\n",
      "Test loss: 2.062, Accuracy: 39.39%\n",
      "Epoch 15\n",
      "Train Accuracy: 38.87%\n",
      "Test loss: 2.046, Accuracy: 41.67%\n",
      "Epoch 16\n",
      "Train Accuracy: 40.63%\n",
      "Test loss: 2.039, Accuracy: 42.05%\n",
      "Epoch 17\n",
      "Train Accuracy: 42.39%\n",
      "Test loss: 2.031, Accuracy: 43.56%\n",
      "Epoch 18\n",
      "Train Accuracy: 42.58%\n",
      "Test loss: 2.021, Accuracy: 44.70%\n",
      "Epoch 19\n",
      "Train Accuracy: 42.95%\n",
      "Test loss: 1.996, Accuracy: 43.56%\n",
      "Epoch 20\n",
      "Train Accuracy: 44.16%\n",
      "Test loss: 1.961, Accuracy: 43.18%\n",
      "Epoch 21\n",
      "Train Accuracy: 44.99%\n",
      "Test loss: 1.931, Accuracy: 43.94%\n",
      "Epoch 22\n",
      "Train Accuracy: 45.92%\n",
      "Test loss: 1.906, Accuracy: 45.45%\n",
      "Epoch 23\n",
      "Train Accuracy: 46.75%\n",
      "Test loss: 1.895, Accuracy: 46.21%\n",
      "Epoch 24\n",
      "Train Accuracy: 47.59%\n",
      "Test loss: 1.866, Accuracy: 46.97%\n",
      "Epoch 25\n",
      "Train Accuracy: 48.14%\n",
      "Test loss: 1.851, Accuracy: 45.83%\n",
      "Epoch 26\n",
      "Train Accuracy: 47.50%\n",
      "Test loss: 1.851, Accuracy: 46.97%\n",
      "Epoch 27\n",
      "Train Accuracy: 48.79%\n",
      "Test loss: 1.855, Accuracy: 47.73%\n",
      "Epoch 28\n",
      "Train Accuracy: 48.14%\n",
      "Test loss: 1.860, Accuracy: 47.73%\n",
      "Epoch 29\n",
      "Train Accuracy: 48.33%\n",
      "Test loss: 1.874, Accuracy: 48.11%\n",
      "Epoch 30\n",
      "Train Accuracy: 48.42%\n",
      "Test loss: 1.852, Accuracy: 48.11%\n",
      "Epoch 31\n",
      "Train Accuracy: 48.42%\n",
      "Test loss: 1.824, Accuracy: 46.59%\n",
      "Epoch 32\n",
      "Train Accuracy: 49.17%\n",
      "Test loss: 1.799, Accuracy: 47.35%\n",
      "Epoch 33\n",
      "Train Accuracy: 50.37%\n",
      "Test loss: 1.801, Accuracy: 48.48%\n",
      "Epoch 34\n",
      "Train Accuracy: 52.13%\n",
      "Test loss: 1.800, Accuracy: 48.11%\n",
      "Epoch 35\n",
      "Train Accuracy: 51.67%\n",
      "Test loss: 1.790, Accuracy: 50.76%\n",
      "Epoch 36\n",
      "Train Accuracy: 52.50%\n",
      "Test loss: 1.788, Accuracy: 50.00%\n",
      "Epoch 37\n",
      "Train Accuracy: 52.50%\n",
      "Test loss: 1.790, Accuracy: 49.62%\n",
      "Epoch 38\n",
      "Train Accuracy: 52.41%\n",
      "Test loss: 1.807, Accuracy: 49.62%\n",
      "Epoch 39\n",
      "Train Accuracy: 51.76%\n",
      "Test loss: 1.796, Accuracy: 50.76%\n",
      "Epoch 40\n",
      "Train Accuracy: 53.34%\n",
      "Test loss: 1.763, Accuracy: 51.14%\n",
      "Epoch 41\n",
      "Train Accuracy: 54.45%\n",
      "Test loss: 1.736, Accuracy: 50.00%\n",
      "Epoch 42\n",
      "Train Accuracy: 54.64%\n",
      "Test loss: 1.717, Accuracy: 50.00%\n",
      "Epoch 43\n",
      "Train Accuracy: 52.97%\n",
      "Test loss: 1.722, Accuracy: 49.62%\n",
      "Epoch 44\n",
      "Train Accuracy: 52.88%\n",
      "Test loss: 1.717, Accuracy: 49.24%\n",
      "Epoch 45\n",
      "Train Accuracy: 52.60%\n",
      "Test loss: 1.713, Accuracy: 49.24%\n",
      "Epoch 46\n",
      "Train Accuracy: 53.62%\n",
      "Test loss: 1.713, Accuracy: 50.00%\n",
      "Epoch 47\n",
      "Train Accuracy: 55.01%\n",
      "Test loss: 1.711, Accuracy: 51.52%\n",
      "Epoch 48\n",
      "Train Accuracy: 55.84%\n",
      "Test loss: 1.715, Accuracy: 53.41%\n",
      "Epoch 49\n",
      "Train Accuracy: 56.31%\n",
      "Test loss: 1.716, Accuracy: 54.17%\n",
      "Epoch 50\n",
      "Train Accuracy: 56.22%\n",
      "Test loss: 1.721, Accuracy: 52.65%\n"
     ]
    },
    {
     "data": {
      "application/vnd.jupyter.widget-view+json": {
       "model_id": "8b7aee7b93314607a538aa955157d38d",
       "version_major": 2,
       "version_minor": 0
      },
      "text/plain": [
       "VBox(children=(Label(value='0.268 MB of 0.268 MB uploaded\\r'), FloatProgress(value=1.0, max=1.0)))"
      ]
     },
     "metadata": {},
     "output_type": "display_data"
    },
    {
     "data": {
      "text/html": [
       "<style>\n",
       "    table.wandb td:nth-child(1) { padding: 0 10px; text-align: left ; width: auto;} td:nth-child(2) {text-align: left ; width: 100%}\n",
       "    .wandb-row { display: flex; flex-direction: row; flex-wrap: wrap; justify-content: flex-start; width: 100% }\n",
       "    .wandb-col { display: flex; flex-direction: column; flex-basis: 100%; flex: 1; padding: 10px; }\n",
       "    </style>\n",
       "<div class=\"wandb-row\"><div class=\"wandb-col\"><h3>Run history:</h3><br/><table class=\"wandb\"><tr><td>iter_accuracy</td><td>▁▂▂▃▃▃▆▄▄▄▅▄▅▅▆▆▆▇▆▆▇▆▆▆▆▇▆▇▇▆▇▇▆█▆▇▇▇▇▇</td></tr><tr><td>tr_accuracy</td><td>▁▂▂▂▃▃▄▄▅▅▅▅▆▆▆▆▆▆▇▇▇▇▇▇▇▇▇▇▇▇▇▇██▇▇████</td></tr><tr><td>val_accuracy</td><td>▁▂▂▂▄▄▅▅▅▅▅▆▆▆▆▆▆▇▇▇▇▇▇▇▇▇▇▇▇▇▇█▇▇▇▇▇███</td></tr></table><br/></div><div class=\"wandb-col\"><h3>Run summary:</h3><br/><table class=\"wandb\"><tr><td>iter_accuracy</td><td>59.25926</td></tr><tr><td>tr_accuracy</td><td>56.21521</td></tr><tr><td>val_accuracy</td><td>52.65152</td></tr></table><br/></div></div>"
      ],
      "text/plain": [
       "<IPython.core.display.HTML object>"
      ]
     },
     "metadata": {},
     "output_type": "display_data"
    },
    {
     "data": {
      "text/html": [
       " View run <strong style=\"color:#cdcd00\">peach-sweep-18</strong> at: <a href='https://wandb.ai/bhkim003-seoul-national-university/reservoir/runs/fl0h75nr' target=\"_blank\">https://wandb.ai/bhkim003-seoul-national-university/reservoir/runs/fl0h75nr</a><br/> View project at: <a href='https://wandb.ai/bhkim003-seoul-national-university/reservoir' target=\"_blank\">https://wandb.ai/bhkim003-seoul-national-university/reservoir</a><br/>Synced 7 W&B file(s), 0 media file(s), 0 artifact file(s) and 1 other file(s)"
      ],
      "text/plain": [
       "<IPython.core.display.HTML object>"
      ]
     },
     "metadata": {},
     "output_type": "display_data"
    },
    {
     "data": {
      "text/html": [
       "Find logs at: <code>./wandb/run-20240725_234250-fl0h75nr/logs</code>"
      ],
      "text/plain": [
       "<IPython.core.display.HTML object>"
      ]
     },
     "metadata": {},
     "output_type": "display_data"
    },
    {
     "data": {
      "text/html": [
       "The new W&B backend becomes opt-out in version 0.18.0; try it out with `wandb.require(\"core\")`! See https://wandb.me/wandb-core for more information."
      ],
      "text/plain": [
       "<IPython.core.display.HTML object>"
      ]
     },
     "metadata": {},
     "output_type": "display_data"
    },
    {
     "name": "stderr",
     "output_type": "stream",
     "text": [
      "\u001b[34m\u001b[1mwandb\u001b[0m: Sweep Agent: Waiting for job.\n",
      "\u001b[34m\u001b[1mwandb\u001b[0m: Job received.\n",
      "\u001b[34m\u001b[1mwandb\u001b[0m: Agent Starting Run: 6kn0kv7b with config:\n",
      "\u001b[34m\u001b[1mwandb\u001b[0m: \tEPOCH: 50\n",
      "\u001b[34m\u001b[1mwandb\u001b[0m: \tIMAGE_SIZE: 48\n",
      "\u001b[34m\u001b[1mwandb\u001b[0m: \tbatch_size: 64\n",
      "\u001b[34m\u001b[1mwandb\u001b[0m: \tdata_path: /data2\n",
      "\u001b[34m\u001b[1mwandb\u001b[0m: \tdecay: 0.5169262939072723\n",
      "\u001b[34m\u001b[1mwandb\u001b[0m: \tdvs_clipping: True\n",
      "\u001b[34m\u001b[1mwandb\u001b[0m: \tdvs_duration: 1000000\n",
      "\u001b[34m\u001b[1mwandb\u001b[0m: \tlearning_rate: 0.041076600977018936\n",
      "\u001b[34m\u001b[1mwandb\u001b[0m: \tno_reservoir: False\n",
      "\u001b[34m\u001b[1mwandb\u001b[0m: \tpre_spike_weight: 9.183273845737006\n",
      "\u001b[34m\u001b[1mwandb\u001b[0m: \trate_coding: False\n",
      "\u001b[34m\u001b[1mwandb\u001b[0m: \ttime_step: 5\n",
      "\u001b[34m\u001b[1mwandb\u001b[0m: \twhich_data: DVS_GESTURE\n",
      "Failed to detect the name of this notebook, you can set it manually with the WANDB_NOTEBOOK_NAME environment variable to enable code saving.\n"
     ]
    },
    {
     "data": {
      "text/html": [
       "Tracking run with wandb version 0.17.5"
      ],
      "text/plain": [
       "<IPython.core.display.HTML object>"
      ]
     },
     "metadata": {},
     "output_type": "display_data"
    },
    {
     "data": {
      "text/html": [
       "Run data is saved locally in <code>/nfs/home/bhkim003/github_folder/ByeonghyeonKim/my_snn/wandb/run-20240725_234911-6kn0kv7b</code>"
      ],
      "text/plain": [
       "<IPython.core.display.HTML object>"
      ]
     },
     "metadata": {},
     "output_type": "display_data"
    },
    {
     "data": {
      "text/html": [
       "Syncing run <strong><a href='https://wandb.ai/bhkim003-seoul-national-university/reservoir/runs/6kn0kv7b' target=\"_blank\">silvery-sweep-19</a></strong> to <a href='https://wandb.ai/bhkim003-seoul-national-university/reservoir' target=\"_blank\">Weights & Biases</a> (<a href='https://wandb.me/run' target=\"_blank\">docs</a>)<br/>Sweep page: <a href='https://wandb.ai/bhkim003-seoul-national-university/reservoir/sweeps/0j0aowy8' target=\"_blank\">https://wandb.ai/bhkim003-seoul-national-university/reservoir/sweeps/0j0aowy8</a>"
      ],
      "text/plain": [
       "<IPython.core.display.HTML object>"
      ]
     },
     "metadata": {},
     "output_type": "display_data"
    },
    {
     "data": {
      "text/html": [
       " View project at <a href='https://wandb.ai/bhkim003-seoul-national-university/reservoir' target=\"_blank\">https://wandb.ai/bhkim003-seoul-national-university/reservoir</a>"
      ],
      "text/plain": [
       "<IPython.core.display.HTML object>"
      ]
     },
     "metadata": {},
     "output_type": "display_data"
    },
    {
     "data": {
      "text/html": [
       " View sweep at <a href='https://wandb.ai/bhkim003-seoul-national-university/reservoir/sweeps/0j0aowy8' target=\"_blank\">https://wandb.ai/bhkim003-seoul-national-university/reservoir/sweeps/0j0aowy8</a>"
      ],
      "text/plain": [
       "<IPython.core.display.HTML object>"
      ]
     },
     "metadata": {},
     "output_type": "display_data"
    },
    {
     "data": {
      "text/html": [
       " View run at <a href='https://wandb.ai/bhkim003-seoul-national-university/reservoir/runs/6kn0kv7b' target=\"_blank\">https://wandb.ai/bhkim003-seoul-national-university/reservoir/runs/6kn0kv7b</a>"
      ],
      "text/plain": [
       "<IPython.core.display.HTML object>"
      ]
     },
     "metadata": {},
     "output_type": "display_data"
    },
    {
     "name": "stderr",
     "output_type": "stream",
     "text": [
      "\u001b[34m\u001b[1mwandb\u001b[0m: \u001b[33mWARNING\u001b[0m Config item 'data_path' was locked by 'sweep' (ignored update).\n",
      "\u001b[34m\u001b[1mwandb\u001b[0m: \u001b[33mWARNING\u001b[0m Config item 'which_data' was locked by 'sweep' (ignored update).\n",
      "\u001b[34m\u001b[1mwandb\u001b[0m: \u001b[33mWARNING\u001b[0m Config item 'learning_rate' was locked by 'sweep' (ignored update).\n",
      "\u001b[34m\u001b[1mwandb\u001b[0m: \u001b[33mWARNING\u001b[0m Config item 'IMAGE_SIZE' was locked by 'sweep' (ignored update).\n",
      "\u001b[34m\u001b[1mwandb\u001b[0m: \u001b[33mWARNING\u001b[0m Config item 'EPOCH' was locked by 'sweep' (ignored update).\n",
      "\u001b[34m\u001b[1mwandb\u001b[0m: \u001b[33mWARNING\u001b[0m Config item 'rate_coding' was locked by 'sweep' (ignored update).\n",
      "\u001b[34m\u001b[1mwandb\u001b[0m: \u001b[33mWARNING\u001b[0m Config item 'pre_spike_weight' was locked by 'sweep' (ignored update).\n",
      "\u001b[34m\u001b[1mwandb\u001b[0m: \u001b[33mWARNING\u001b[0m Config item 'dvs_duration' was locked by 'sweep' (ignored update).\n",
      "\u001b[34m\u001b[1mwandb\u001b[0m: \u001b[33mWARNING\u001b[0m Config item 'dvs_clipping' was locked by 'sweep' (ignored update).\n",
      "\u001b[34m\u001b[1mwandb\u001b[0m: \u001b[33mWARNING\u001b[0m Config item 'no_reservoir' was locked by 'sweep' (ignored update).\n"
     ]
    },
    {
     "name": "stdout",
     "output_type": "stream",
     "text": [
      "The directory [/data2/gesture/duration_1000000] already exists.\n",
      "The directory [/data2/gesture/duration_1000000] already exists.\n",
      "RESERVOIR_NET(\n",
      "  (reservoir): RESERVOIR(\n",
      "    (conv_depthwise): Conv2d(2, 2, kernel_size=(3, 3), stride=(1, 1), padding=(1, 1), groups=2)\n",
      "  )\n",
      "  (linear): Linear(in_features=4608, out_features=10, bias=True)\n",
      ")\n",
      "Epoch 1\n",
      "Train Accuracy: 20.78%\n",
      "Test loss: 19.957, Accuracy: 30.30%\n",
      "Epoch 2\n",
      "Train Accuracy: 40.72%\n",
      "Test loss: 8.050, Accuracy: 42.42%\n",
      "Epoch 3\n",
      "Train Accuracy: 58.63%\n",
      "Test loss: 3.976, Accuracy: 57.95%\n",
      "Epoch 4\n",
      "Train Accuracy: 70.69%\n",
      "Test loss: 3.791, Accuracy: 53.41%\n",
      "Epoch 5\n",
      "Train Accuracy: 79.68%\n",
      "Test loss: 3.739, Accuracy: 56.82%\n",
      "Epoch 6\n",
      "Train Accuracy: 87.20%\n",
      "Test loss: 2.256, Accuracy: 66.29%\n",
      "Epoch 7\n",
      "Train Accuracy: 91.74%\n",
      "Test loss: 1.896, Accuracy: 67.05%\n",
      "Epoch 8\n",
      "Train Accuracy: 89.33%\n",
      "Test loss: 3.425, Accuracy: 57.20%\n",
      "Epoch 9\n",
      "Train Accuracy: 82.28%\n",
      "Test loss: 2.954, Accuracy: 63.64%\n",
      "Epoch 10\n",
      "Train Accuracy: 92.30%\n",
      "Test loss: 2.204, Accuracy: 68.18%\n",
      "Epoch 11\n",
      "Train Accuracy: 96.47%\n",
      "Test loss: 1.957, Accuracy: 67.80%\n",
      "Epoch 12\n",
      "Train Accuracy: 98.14%\n",
      "Test loss: 2.143, Accuracy: 68.94%\n",
      "Epoch 13\n",
      "Train Accuracy: 99.54%\n",
      "Test loss: 2.227, Accuracy: 66.29%\n",
      "Epoch 14\n",
      "Train Accuracy: 98.89%\n",
      "Test loss: 2.232, Accuracy: 64.77%\n",
      "Epoch 15\n",
      "Train Accuracy: 98.61%\n",
      "Test loss: 2.334, Accuracy: 64.77%\n",
      "Epoch 16\n",
      "Train Accuracy: 99.44%\n",
      "Test loss: 2.222, Accuracy: 65.53%\n",
      "Epoch 17\n",
      "Train Accuracy: 99.81%\n",
      "Test loss: 2.113, Accuracy: 67.80%\n",
      "Epoch 18\n",
      "Train Accuracy: 100.00%\n",
      "Test loss: 2.114, Accuracy: 67.80%\n",
      "Epoch 19\n",
      "Train Accuracy: 100.00%\n",
      "Test loss: 2.137, Accuracy: 69.32%\n",
      "Epoch 20\n",
      "Train Accuracy: 100.00%\n",
      "Test loss: 2.093, Accuracy: 68.94%\n",
      "Epoch 21\n",
      "Train Accuracy: 100.00%\n",
      "Test loss: 2.137, Accuracy: 68.18%\n",
      "Epoch 22\n",
      "Train Accuracy: 100.00%\n",
      "Test loss: 2.110, Accuracy: 68.18%\n",
      "Epoch 23\n",
      "Train Accuracy: 100.00%\n",
      "Test loss: 2.100, Accuracy: 67.80%\n",
      "Epoch 24\n",
      "Train Accuracy: 100.00%\n",
      "Test loss: 2.117, Accuracy: 67.42%\n",
      "Epoch 25\n",
      "Train Accuracy: 100.00%\n",
      "Test loss: 2.122, Accuracy: 68.18%\n",
      "Epoch 26\n",
      "Train Accuracy: 100.00%\n",
      "Test loss: 2.078, Accuracy: 68.56%\n",
      "Epoch 27\n",
      "Train Accuracy: 100.00%\n",
      "Test loss: 2.108, Accuracy: 69.32%\n",
      "Epoch 28\n",
      "Train Accuracy: 100.00%\n",
      "Test loss: 2.124, Accuracy: 68.18%\n",
      "Epoch 29\n",
      "Train Accuracy: 100.00%\n",
      "Test loss: 2.090, Accuracy: 67.80%\n",
      "Epoch 30\n",
      "Train Accuracy: 100.00%\n",
      "Test loss: 2.100, Accuracy: 67.42%\n",
      "Epoch 31\n",
      "Train Accuracy: 100.00%\n",
      "Test loss: 2.098, Accuracy: 67.80%\n",
      "Epoch 32\n",
      "Train Accuracy: 100.00%\n",
      "Test loss: 2.109, Accuracy: 68.56%\n",
      "Epoch 33\n",
      "Train Accuracy: 100.00%\n",
      "Test loss: 2.095, Accuracy: 67.80%\n",
      "Epoch 34\n",
      "Train Accuracy: 100.00%\n",
      "Test loss: 2.112, Accuracy: 67.80%\n",
      "Epoch 35\n",
      "Train Accuracy: 100.00%\n",
      "Test loss: 2.115, Accuracy: 68.18%\n",
      "Epoch 36\n",
      "Train Accuracy: 100.00%\n",
      "Test loss: 2.091, Accuracy: 68.18%\n",
      "Epoch 37\n",
      "Train Accuracy: 100.00%\n",
      "Test loss: 2.090, Accuracy: 68.56%\n",
      "Epoch 38\n",
      "Train Accuracy: 100.00%\n",
      "Test loss: 2.105, Accuracy: 68.56%\n",
      "Epoch 39\n",
      "Train Accuracy: 100.00%\n",
      "Test loss: 2.109, Accuracy: 67.80%\n",
      "Epoch 40\n",
      "Train Accuracy: 100.00%\n",
      "Test loss: 2.088, Accuracy: 68.94%\n",
      "Epoch 41\n",
      "Train Accuracy: 100.00%\n",
      "Test loss: 2.103, Accuracy: 67.42%\n",
      "Epoch 42\n",
      "Train Accuracy: 100.00%\n",
      "Test loss: 2.081, Accuracy: 68.18%\n",
      "Epoch 43\n",
      "Train Accuracy: 100.00%\n",
      "Test loss: 2.096, Accuracy: 68.56%\n",
      "Epoch 44\n",
      "Train Accuracy: 100.00%\n",
      "Test loss: 2.098, Accuracy: 68.56%\n",
      "Epoch 45\n",
      "Train Accuracy: 100.00%\n",
      "Test loss: 2.106, Accuracy: 68.18%\n",
      "Epoch 46\n",
      "Train Accuracy: 100.00%\n",
      "Test loss: 2.091, Accuracy: 68.18%\n",
      "Epoch 47\n",
      "Train Accuracy: 100.00%\n",
      "Test loss: 2.097, Accuracy: 68.18%\n",
      "Epoch 48\n",
      "Train Accuracy: 100.00%\n",
      "Test loss: 2.080, Accuracy: 68.18%\n",
      "Epoch 49\n",
      "Train Accuracy: 100.00%\n",
      "Test loss: 2.097, Accuracy: 68.56%\n",
      "Epoch 50\n",
      "Train Accuracy: 100.00%\n",
      "Test loss: 2.102, Accuracy: 68.56%\n"
     ]
    },
    {
     "data": {
      "application/vnd.jupyter.widget-view+json": {
       "model_id": "2a2eab67249c43228163320975cb38d2",
       "version_major": 2,
       "version_minor": 0
      },
      "text/plain": [
       "VBox(children=(Label(value='0.006 MB of 0.006 MB uploaded\\r'), FloatProgress(value=1.0, max=1.0)))"
      ]
     },
     "metadata": {},
     "output_type": "display_data"
    },
    {
     "data": {
      "text/html": [
       "<style>\n",
       "    table.wandb td:nth-child(1) { padding: 0 10px; text-align: left ; width: auto;} td:nth-child(2) {text-align: left ; width: 100%}\n",
       "    .wandb-row { display: flex; flex-direction: row; flex-wrap: wrap; justify-content: flex-start; width: 100% }\n",
       "    .wandb-col { display: flex; flex-direction: column; flex-basis: 100%; flex: 1; padding: 10px; }\n",
       "    </style>\n",
       "<div class=\"wandb-row\"><div class=\"wandb-col\"><h3>Run history:</h3><br/><table class=\"wandb\"><tr><td>iter_accuracy</td><td>▁▃▄▆▇▇▆▆████████████████████████████████</td></tr><tr><td>tr_accuracy</td><td>▁▃▄▅▇▇▇▆████████████████████████████████</td></tr><tr><td>val_accuracy</td><td>▁▃▆▅▇█▆▇██▇▇▇███████████████████████████</td></tr></table><br/></div><div class=\"wandb-col\"><h3>Run summary:</h3><br/><table class=\"wandb\"><tr><td>iter_accuracy</td><td>100.0</td></tr><tr><td>tr_accuracy</td><td>100.0</td></tr><tr><td>val_accuracy</td><td>68.56061</td></tr></table><br/></div></div>"
      ],
      "text/plain": [
       "<IPython.core.display.HTML object>"
      ]
     },
     "metadata": {},
     "output_type": "display_data"
    },
    {
     "data": {
      "text/html": [
       " View run <strong style=\"color:#cdcd00\">silvery-sweep-19</strong> at: <a href='https://wandb.ai/bhkim003-seoul-national-university/reservoir/runs/6kn0kv7b' target=\"_blank\">https://wandb.ai/bhkim003-seoul-national-university/reservoir/runs/6kn0kv7b</a><br/> View project at: <a href='https://wandb.ai/bhkim003-seoul-national-university/reservoir' target=\"_blank\">https://wandb.ai/bhkim003-seoul-national-university/reservoir</a><br/>Synced 7 W&B file(s), 0 media file(s), 0 artifact file(s) and 1 other file(s)"
      ],
      "text/plain": [
       "<IPython.core.display.HTML object>"
      ]
     },
     "metadata": {},
     "output_type": "display_data"
    },
    {
     "data": {
      "text/html": [
       "Find logs at: <code>./wandb/run-20240725_234911-6kn0kv7b/logs</code>"
      ],
      "text/plain": [
       "<IPython.core.display.HTML object>"
      ]
     },
     "metadata": {},
     "output_type": "display_data"
    },
    {
     "data": {
      "text/html": [
       "The new W&B backend becomes opt-out in version 0.18.0; try it out with `wandb.require(\"core\")`! See https://wandb.me/wandb-core for more information."
      ],
      "text/plain": [
       "<IPython.core.display.HTML object>"
      ]
     },
     "metadata": {},
     "output_type": "display_data"
    },
    {
     "name": "stderr",
     "output_type": "stream",
     "text": [
      "\u001b[34m\u001b[1mwandb\u001b[0m: Sweep Agent: Waiting for job.\n",
      "\u001b[34m\u001b[1mwandb\u001b[0m: Job received.\n",
      "\u001b[34m\u001b[1mwandb\u001b[0m: Agent Starting Run: i8d9uhb8 with config:\n",
      "\u001b[34m\u001b[1mwandb\u001b[0m: \tEPOCH: 50\n",
      "\u001b[34m\u001b[1mwandb\u001b[0m: \tIMAGE_SIZE: 128\n",
      "\u001b[34m\u001b[1mwandb\u001b[0m: \tbatch_size: 32\n",
      "\u001b[34m\u001b[1mwandb\u001b[0m: \tdata_path: /data2\n",
      "\u001b[34m\u001b[1mwandb\u001b[0m: \tdecay: 0.5074316005766121\n",
      "\u001b[34m\u001b[1mwandb\u001b[0m: \tdvs_clipping: True\n",
      "\u001b[34m\u001b[1mwandb\u001b[0m: \tdvs_duration: 1000000\n",
      "\u001b[34m\u001b[1mwandb\u001b[0m: \tlearning_rate: 0.09312036900691312\n",
      "\u001b[34m\u001b[1mwandb\u001b[0m: \tno_reservoir: True\n",
      "\u001b[34m\u001b[1mwandb\u001b[0m: \tpre_spike_weight: 9.710799694420135\n",
      "\u001b[34m\u001b[1mwandb\u001b[0m: \trate_coding: True\n",
      "\u001b[34m\u001b[1mwandb\u001b[0m: \ttime_step: 8\n",
      "\u001b[34m\u001b[1mwandb\u001b[0m: \twhich_data: DVS_GESTURE\n",
      "Failed to detect the name of this notebook, you can set it manually with the WANDB_NOTEBOOK_NAME environment variable to enable code saving.\n"
     ]
    },
    {
     "data": {
      "text/html": [
       "Tracking run with wandb version 0.17.5"
      ],
      "text/plain": [
       "<IPython.core.display.HTML object>"
      ]
     },
     "metadata": {},
     "output_type": "display_data"
    },
    {
     "data": {
      "text/html": [
       "Run data is saved locally in <code>/nfs/home/bhkim003/github_folder/ByeonghyeonKim/my_snn/wandb/run-20240725_235516-i8d9uhb8</code>"
      ],
      "text/plain": [
       "<IPython.core.display.HTML object>"
      ]
     },
     "metadata": {},
     "output_type": "display_data"
    },
    {
     "data": {
      "text/html": [
       "Syncing run <strong><a href='https://wandb.ai/bhkim003-seoul-national-university/reservoir/runs/i8d9uhb8' target=\"_blank\">cool-sweep-20</a></strong> to <a href='https://wandb.ai/bhkim003-seoul-national-university/reservoir' target=\"_blank\">Weights & Biases</a> (<a href='https://wandb.me/run' target=\"_blank\">docs</a>)<br/>Sweep page: <a href='https://wandb.ai/bhkim003-seoul-national-university/reservoir/sweeps/0j0aowy8' target=\"_blank\">https://wandb.ai/bhkim003-seoul-national-university/reservoir/sweeps/0j0aowy8</a>"
      ],
      "text/plain": [
       "<IPython.core.display.HTML object>"
      ]
     },
     "metadata": {},
     "output_type": "display_data"
    },
    {
     "data": {
      "text/html": [
       " View project at <a href='https://wandb.ai/bhkim003-seoul-national-university/reservoir' target=\"_blank\">https://wandb.ai/bhkim003-seoul-national-university/reservoir</a>"
      ],
      "text/plain": [
       "<IPython.core.display.HTML object>"
      ]
     },
     "metadata": {},
     "output_type": "display_data"
    },
    {
     "data": {
      "text/html": [
       " View sweep at <a href='https://wandb.ai/bhkim003-seoul-national-university/reservoir/sweeps/0j0aowy8' target=\"_blank\">https://wandb.ai/bhkim003-seoul-national-university/reservoir/sweeps/0j0aowy8</a>"
      ],
      "text/plain": [
       "<IPython.core.display.HTML object>"
      ]
     },
     "metadata": {},
     "output_type": "display_data"
    },
    {
     "data": {
      "text/html": [
       " View run at <a href='https://wandb.ai/bhkim003-seoul-national-university/reservoir/runs/i8d9uhb8' target=\"_blank\">https://wandb.ai/bhkim003-seoul-national-university/reservoir/runs/i8d9uhb8</a>"
      ],
      "text/plain": [
       "<IPython.core.display.HTML object>"
      ]
     },
     "metadata": {},
     "output_type": "display_data"
    },
    {
     "name": "stderr",
     "output_type": "stream",
     "text": [
      "\u001b[34m\u001b[1mwandb\u001b[0m: \u001b[33mWARNING\u001b[0m Config item 'data_path' was locked by 'sweep' (ignored update).\n",
      "\u001b[34m\u001b[1mwandb\u001b[0m: \u001b[33mWARNING\u001b[0m Config item 'which_data' was locked by 'sweep' (ignored update).\n",
      "\u001b[34m\u001b[1mwandb\u001b[0m: \u001b[33mWARNING\u001b[0m Config item 'learning_rate' was locked by 'sweep' (ignored update).\n",
      "\u001b[34m\u001b[1mwandb\u001b[0m: \u001b[33mWARNING\u001b[0m Config item 'IMAGE_SIZE' was locked by 'sweep' (ignored update).\n",
      "\u001b[34m\u001b[1mwandb\u001b[0m: \u001b[33mWARNING\u001b[0m Config item 'EPOCH' was locked by 'sweep' (ignored update).\n",
      "\u001b[34m\u001b[1mwandb\u001b[0m: \u001b[33mWARNING\u001b[0m Config item 'rate_coding' was locked by 'sweep' (ignored update).\n",
      "\u001b[34m\u001b[1mwandb\u001b[0m: \u001b[33mWARNING\u001b[0m Config item 'pre_spike_weight' was locked by 'sweep' (ignored update).\n",
      "\u001b[34m\u001b[1mwandb\u001b[0m: \u001b[33mWARNING\u001b[0m Config item 'dvs_duration' was locked by 'sweep' (ignored update).\n",
      "\u001b[34m\u001b[1mwandb\u001b[0m: \u001b[33mWARNING\u001b[0m Config item 'dvs_clipping' was locked by 'sweep' (ignored update).\n",
      "\u001b[34m\u001b[1mwandb\u001b[0m: \u001b[33mWARNING\u001b[0m Config item 'no_reservoir' was locked by 'sweep' (ignored update).\n"
     ]
    },
    {
     "name": "stdout",
     "output_type": "stream",
     "text": [
      "The directory [/data2/gesture/duration_1000000] already exists.\n",
      "The directory [/data2/gesture/duration_1000000] already exists.\n",
      "NO_RESERVOIR_NET(\n",
      "  (reservoir): RESERVOIR(\n",
      "    (conv_depthwise): Conv2d(2, 2, kernel_size=(3, 3), stride=(1, 1), padding=(1, 1), groups=2)\n",
      "  )\n",
      "  (linear): Linear(in_features=32768, out_features=10, bias=True)\n",
      ")\n",
      "Epoch 1\n",
      "Train Accuracy: 36.92%\n",
      "Test loss: 38.209, Accuracy: 57.58%\n",
      "Epoch 2\n",
      "Train Accuracy: 60.58%\n",
      "Test loss: 41.032, Accuracy: 56.44%\n",
      "Epoch 3\n",
      "Train Accuracy: 71.06%\n",
      "Test loss: 35.215, Accuracy: 62.50%\n",
      "Epoch 4\n",
      "Train Accuracy: 72.63%\n",
      "Test loss: 75.453, Accuracy: 58.71%\n",
      "Epoch 5\n",
      "Train Accuracy: 74.21%\n",
      "Test loss: 34.272, Accuracy: 64.39%\n",
      "Epoch 6\n",
      "Train Accuracy: 81.26%\n",
      "Test loss: 56.296, Accuracy: 60.23%\n",
      "Epoch 7\n",
      "Train Accuracy: 84.69%\n",
      "Test loss: 28.668, Accuracy: 67.42%\n",
      "Epoch 8\n",
      "Train Accuracy: 88.50%\n",
      "Test loss: 30.015, Accuracy: 61.36%\n",
      "Epoch 9\n",
      "Train Accuracy: 92.76%\n",
      "Test loss: 43.834, Accuracy: 57.20%\n",
      "Epoch 10\n",
      "Train Accuracy: 90.17%\n",
      "Test loss: 47.453, Accuracy: 58.71%\n",
      "Epoch 11\n",
      "Train Accuracy: 89.70%\n",
      "Test loss: 38.068, Accuracy: 64.77%\n",
      "Epoch 12\n",
      "Train Accuracy: 94.53%\n",
      "Test loss: 25.956, Accuracy: 65.91%\n",
      "Epoch 13\n",
      "Train Accuracy: 96.01%\n",
      "Test loss: 25.852, Accuracy: 67.05%\n",
      "Epoch 14\n",
      "Train Accuracy: 98.05%\n",
      "Test loss: 31.959, Accuracy: 67.42%\n",
      "Epoch 15\n",
      "Train Accuracy: 94.25%\n",
      "Test loss: 36.745, Accuracy: 62.88%\n",
      "Epoch 16\n",
      "Train Accuracy: 94.25%\n",
      "Test loss: 43.777, Accuracy: 66.29%\n",
      "Epoch 17\n",
      "Train Accuracy: 97.22%\n",
      "Test loss: 30.144, Accuracy: 65.91%\n",
      "Epoch 18\n",
      "Train Accuracy: 95.83%\n",
      "Test loss: 37.779, Accuracy: 60.61%\n",
      "Epoch 19\n",
      "Train Accuracy: 96.57%\n",
      "Test loss: 34.500, Accuracy: 66.67%\n",
      "Epoch 20\n",
      "Train Accuracy: 95.83%\n",
      "Test loss: 36.894, Accuracy: 66.29%\n",
      "Epoch 21\n",
      "Train Accuracy: 98.33%\n",
      "Test loss: 44.608, Accuracy: 60.98%\n",
      "Epoch 22\n",
      "Train Accuracy: 97.77%\n",
      "Test loss: 39.608, Accuracy: 63.26%\n",
      "Epoch 23\n",
      "Train Accuracy: 96.38%\n",
      "Test loss: 72.612, Accuracy: 57.58%\n",
      "Epoch 24\n",
      "Train Accuracy: 96.10%\n",
      "Test loss: 37.527, Accuracy: 67.42%\n",
      "Epoch 25\n",
      "Train Accuracy: 94.99%\n",
      "Test loss: 28.849, Accuracy: 67.05%\n",
      "Epoch 26\n",
      "Train Accuracy: 92.86%\n",
      "Test loss: 32.051, Accuracy: 67.42%\n",
      "Epoch 27\n",
      "Train Accuracy: 94.53%\n",
      "Test loss: 32.873, Accuracy: 67.80%\n",
      "Epoch 28\n",
      "Train Accuracy: 97.59%\n",
      "Test loss: 39.480, Accuracy: 67.05%\n",
      "Epoch 29\n",
      "Train Accuracy: 98.61%\n",
      "Test loss: 46.289, Accuracy: 64.39%\n",
      "Epoch 30\n",
      "Train Accuracy: 98.14%\n",
      "Test loss: 35.158, Accuracy: 64.02%\n",
      "Epoch 31\n",
      "Train Accuracy: 97.22%\n",
      "Test loss: 40.198, Accuracy: 63.64%\n",
      "Epoch 32\n",
      "Train Accuracy: 98.70%\n",
      "Test loss: 37.544, Accuracy: 65.91%\n",
      "Epoch 33\n",
      "Train Accuracy: 97.68%\n",
      "Test loss: 36.395, Accuracy: 68.18%\n",
      "Epoch 34\n",
      "Train Accuracy: 98.14%\n",
      "Test loss: 30.095, Accuracy: 69.70%\n",
      "Epoch 35\n",
      "Train Accuracy: 98.89%\n",
      "Test loss: 45.908, Accuracy: 61.74%\n",
      "Epoch 36\n",
      "Train Accuracy: 98.79%\n",
      "Test loss: 31.408, Accuracy: 67.80%\n",
      "Epoch 37\n",
      "Train Accuracy: 99.91%\n",
      "Test loss: 30.400, Accuracy: 68.18%\n",
      "Epoch 38\n",
      "Train Accuracy: 100.00%\n",
      "Test loss: 30.553, Accuracy: 68.18%\n",
      "Epoch 39\n",
      "Train Accuracy: 100.00%\n",
      "Test loss: 30.557, Accuracy: 68.18%\n",
      "Epoch 40\n",
      "Train Accuracy: 100.00%\n",
      "Test loss: 30.556, Accuracy: 68.18%\n",
      "Epoch 41\n",
      "Train Accuracy: 100.00%\n",
      "Test loss: 30.555, Accuracy: 68.18%\n",
      "Epoch 42\n",
      "Train Accuracy: 100.00%\n",
      "Test loss: 30.554, Accuracy: 68.18%\n",
      "Epoch 43\n",
      "Train Accuracy: 100.00%\n",
      "Test loss: 30.553, Accuracy: 68.18%\n",
      "Epoch 44\n",
      "Train Accuracy: 100.00%\n",
      "Test loss: 30.553, Accuracy: 68.18%\n",
      "Epoch 45\n",
      "Train Accuracy: 100.00%\n",
      "Test loss: 30.552, Accuracy: 68.18%\n",
      "Epoch 46\n",
      "Train Accuracy: 100.00%\n",
      "Test loss: 30.551, Accuracy: 68.18%\n",
      "Epoch 47\n",
      "Train Accuracy: 100.00%\n",
      "Test loss: 30.550, Accuracy: 68.18%\n",
      "Epoch 48\n",
      "Train Accuracy: 100.00%\n",
      "Test loss: 30.550, Accuracy: 68.18%\n",
      "Epoch 49\n",
      "Train Accuracy: 100.00%\n",
      "Test loss: 30.549, Accuracy: 68.18%\n",
      "Epoch 50\n",
      "Train Accuracy: 100.00%\n",
      "Test loss: 30.548, Accuracy: 68.18%\n"
     ]
    },
    {
     "data": {
      "application/vnd.jupyter.widget-view+json": {
       "model_id": "803f543636d14dc1966d3f268cbbed64",
       "version_major": 2,
       "version_minor": 0
      },
      "text/plain": [
       "VBox(children=(Label(value='0.268 MB of 0.268 MB uploaded\\r'), FloatProgress(value=1.0, max=1.0)))"
      ]
     },
     "metadata": {},
     "output_type": "display_data"
    },
    {
     "data": {
      "text/html": [
       "<style>\n",
       "    table.wandb td:nth-child(1) { padding: 0 10px; text-align: left ; width: auto;} td:nth-child(2) {text-align: left ; width: 100%}\n",
       "    .wandb-row { display: flex; flex-direction: row; flex-wrap: wrap; justify-content: flex-start; width: 100% }\n",
       "    .wandb-col { display: flex; flex-direction: column; flex-basis: 100%; flex: 1; padding: 10px; }\n",
       "    </style>\n",
       "<div class=\"wandb-row\"><div class=\"wandb-col\"><h3>Run history:</h3><br/><table class=\"wandb\"><tr><td>iter_accuracy</td><td>▁▂▃▃▄▆▆█▇█▇▆██████▇█▆███▇▇██████████████</td></tr><tr><td>tr_accuracy</td><td>▁▄▅▅▆▆▇▇▇▇██▇███████▇▇██████████████████</td></tr><tr><td>val_accuracy</td><td>▂▁▄▂▃▇▄▁▅▆▇▇▆▆▃▆▃▅▂▇▇▇▇▅▅▆▇█▇▇▇▇▇▇▇▇▇▇▇▇</td></tr></table><br/></div><div class=\"wandb-col\"><h3>Run summary:</h3><br/><table class=\"wandb\"><tr><td>iter_accuracy</td><td>100.0</td></tr><tr><td>tr_accuracy</td><td>100.0</td></tr><tr><td>val_accuracy</td><td>68.18182</td></tr></table><br/></div></div>"
      ],
      "text/plain": [
       "<IPython.core.display.HTML object>"
      ]
     },
     "metadata": {},
     "output_type": "display_data"
    },
    {
     "data": {
      "text/html": [
       " View run <strong style=\"color:#cdcd00\">cool-sweep-20</strong> at: <a href='https://wandb.ai/bhkim003-seoul-national-university/reservoir/runs/i8d9uhb8' target=\"_blank\">https://wandb.ai/bhkim003-seoul-national-university/reservoir/runs/i8d9uhb8</a><br/> View project at: <a href='https://wandb.ai/bhkim003-seoul-national-university/reservoir' target=\"_blank\">https://wandb.ai/bhkim003-seoul-national-university/reservoir</a><br/>Synced 7 W&B file(s), 0 media file(s), 0 artifact file(s) and 1 other file(s)"
      ],
      "text/plain": [
       "<IPython.core.display.HTML object>"
      ]
     },
     "metadata": {},
     "output_type": "display_data"
    },
    {
     "data": {
      "text/html": [
       "Find logs at: <code>./wandb/run-20240725_235516-i8d9uhb8/logs</code>"
      ],
      "text/plain": [
       "<IPython.core.display.HTML object>"
      ]
     },
     "metadata": {},
     "output_type": "display_data"
    },
    {
     "data": {
      "text/html": [
       "The new W&B backend becomes opt-out in version 0.18.0; try it out with `wandb.require(\"core\")`! See https://wandb.me/wandb-core for more information."
      ],
      "text/plain": [
       "<IPython.core.display.HTML object>"
      ]
     },
     "metadata": {},
     "output_type": "display_data"
    },
    {
     "name": "stderr",
     "output_type": "stream",
     "text": [
      "\u001b[34m\u001b[1mwandb\u001b[0m: Agent Starting Run: k52tpiks with config:\n",
      "\u001b[34m\u001b[1mwandb\u001b[0m: \tEPOCH: 50\n",
      "\u001b[34m\u001b[1mwandb\u001b[0m: \tIMAGE_SIZE: 128\n",
      "\u001b[34m\u001b[1mwandb\u001b[0m: \tbatch_size: 16\n",
      "\u001b[34m\u001b[1mwandb\u001b[0m: \tdata_path: /data2\n",
      "\u001b[34m\u001b[1mwandb\u001b[0m: \tdecay: 0.5875942677095842\n",
      "\u001b[34m\u001b[1mwandb\u001b[0m: \tdvs_clipping: True\n",
      "\u001b[34m\u001b[1mwandb\u001b[0m: \tdvs_duration: 1000000\n",
      "\u001b[34m\u001b[1mwandb\u001b[0m: \tlearning_rate: 0.048309806934066696\n",
      "\u001b[34m\u001b[1mwandb\u001b[0m: \tno_reservoir: True\n",
      "\u001b[34m\u001b[1mwandb\u001b[0m: \tpre_spike_weight: 7.865378166736596\n",
      "\u001b[34m\u001b[1mwandb\u001b[0m: \trate_coding: True\n",
      "\u001b[34m\u001b[1mwandb\u001b[0m: \ttime_step: 6\n",
      "\u001b[34m\u001b[1mwandb\u001b[0m: \twhich_data: DVS_GESTURE\n",
      "Failed to detect the name of this notebook, you can set it manually with the WANDB_NOTEBOOK_NAME environment variable to enable code saving.\n"
     ]
    },
    {
     "data": {
      "text/html": [
       "Tracking run with wandb version 0.17.5"
      ],
      "text/plain": [
       "<IPython.core.display.HTML object>"
      ]
     },
     "metadata": {},
     "output_type": "display_data"
    },
    {
     "data": {
      "text/html": [
       "Run data is saved locally in <code>/nfs/home/bhkim003/github_folder/ByeonghyeonKim/my_snn/wandb/run-20240726_000422-k52tpiks</code>"
      ],
      "text/plain": [
       "<IPython.core.display.HTML object>"
      ]
     },
     "metadata": {},
     "output_type": "display_data"
    },
    {
     "data": {
      "text/html": [
       "Syncing run <strong><a href='https://wandb.ai/bhkim003-seoul-national-university/reservoir/runs/k52tpiks' target=\"_blank\">vibrant-sweep-21</a></strong> to <a href='https://wandb.ai/bhkim003-seoul-national-university/reservoir' target=\"_blank\">Weights & Biases</a> (<a href='https://wandb.me/run' target=\"_blank\">docs</a>)<br/>Sweep page: <a href='https://wandb.ai/bhkim003-seoul-national-university/reservoir/sweeps/0j0aowy8' target=\"_blank\">https://wandb.ai/bhkim003-seoul-national-university/reservoir/sweeps/0j0aowy8</a>"
      ],
      "text/plain": [
       "<IPython.core.display.HTML object>"
      ]
     },
     "metadata": {},
     "output_type": "display_data"
    },
    {
     "data": {
      "text/html": [
       " View project at <a href='https://wandb.ai/bhkim003-seoul-national-university/reservoir' target=\"_blank\">https://wandb.ai/bhkim003-seoul-national-university/reservoir</a>"
      ],
      "text/plain": [
       "<IPython.core.display.HTML object>"
      ]
     },
     "metadata": {},
     "output_type": "display_data"
    },
    {
     "data": {
      "text/html": [
       " View sweep at <a href='https://wandb.ai/bhkim003-seoul-national-university/reservoir/sweeps/0j0aowy8' target=\"_blank\">https://wandb.ai/bhkim003-seoul-national-university/reservoir/sweeps/0j0aowy8</a>"
      ],
      "text/plain": [
       "<IPython.core.display.HTML object>"
      ]
     },
     "metadata": {},
     "output_type": "display_data"
    },
    {
     "data": {
      "text/html": [
       " View run at <a href='https://wandb.ai/bhkim003-seoul-national-university/reservoir/runs/k52tpiks' target=\"_blank\">https://wandb.ai/bhkim003-seoul-national-university/reservoir/runs/k52tpiks</a>"
      ],
      "text/plain": [
       "<IPython.core.display.HTML object>"
      ]
     },
     "metadata": {},
     "output_type": "display_data"
    },
    {
     "name": "stderr",
     "output_type": "stream",
     "text": [
      "\u001b[34m\u001b[1mwandb\u001b[0m: \u001b[33mWARNING\u001b[0m Config item 'data_path' was locked by 'sweep' (ignored update).\n",
      "\u001b[34m\u001b[1mwandb\u001b[0m: \u001b[33mWARNING\u001b[0m Config item 'which_data' was locked by 'sweep' (ignored update).\n",
      "\u001b[34m\u001b[1mwandb\u001b[0m: \u001b[33mWARNING\u001b[0m Config item 'learning_rate' was locked by 'sweep' (ignored update).\n",
      "\u001b[34m\u001b[1mwandb\u001b[0m: \u001b[33mWARNING\u001b[0m Config item 'IMAGE_SIZE' was locked by 'sweep' (ignored update).\n",
      "\u001b[34m\u001b[1mwandb\u001b[0m: \u001b[33mWARNING\u001b[0m Config item 'EPOCH' was locked by 'sweep' (ignored update).\n",
      "\u001b[34m\u001b[1mwandb\u001b[0m: \u001b[33mWARNING\u001b[0m Config item 'rate_coding' was locked by 'sweep' (ignored update).\n",
      "\u001b[34m\u001b[1mwandb\u001b[0m: \u001b[33mWARNING\u001b[0m Config item 'pre_spike_weight' was locked by 'sweep' (ignored update).\n",
      "\u001b[34m\u001b[1mwandb\u001b[0m: \u001b[33mWARNING\u001b[0m Config item 'dvs_duration' was locked by 'sweep' (ignored update).\n",
      "\u001b[34m\u001b[1mwandb\u001b[0m: \u001b[33mWARNING\u001b[0m Config item 'dvs_clipping' was locked by 'sweep' (ignored update).\n",
      "\u001b[34m\u001b[1mwandb\u001b[0m: \u001b[33mWARNING\u001b[0m Config item 'no_reservoir' was locked by 'sweep' (ignored update).\n"
     ]
    },
    {
     "name": "stdout",
     "output_type": "stream",
     "text": [
      "The directory [/data2/gesture/duration_1000000] already exists.\n",
      "The directory [/data2/gesture/duration_1000000] already exists.\n",
      "NO_RESERVOIR_NET(\n",
      "  (reservoir): RESERVOIR(\n",
      "    (conv_depthwise): Conv2d(2, 2, kernel_size=(3, 3), stride=(1, 1), padding=(1, 1), groups=2)\n",
      "  )\n",
      "  (linear): Linear(in_features=32768, out_features=10, bias=True)\n",
      ")\n",
      "Epoch 1\n",
      "Train Accuracy: 42.95%\n",
      "Test loss: 93.908, Accuracy: 38.26%\n",
      "Epoch 2\n",
      "Train Accuracy: 60.95%\n",
      "Test loss: 51.308, Accuracy: 56.06%\n",
      "Epoch 3\n",
      "Train Accuracy: 69.29%\n",
      "Test loss: 68.050, Accuracy: 57.20%\n",
      "Epoch 4\n",
      "Train Accuracy: 69.85%\n",
      "Test loss: 51.556, Accuracy: 59.09%\n",
      "Epoch 5\n",
      "Train Accuracy: 79.13%\n",
      "Test loss: 34.624, Accuracy: 62.12%\n",
      "Epoch 6\n",
      "Train Accuracy: 84.42%\n",
      "Test loss: 50.042, Accuracy: 61.74%\n",
      "Epoch 7\n",
      "Train Accuracy: 89.05%\n",
      "Test loss: 27.927, Accuracy: 66.67%\n",
      "Epoch 8\n",
      "Train Accuracy: 89.98%\n",
      "Test loss: 32.416, Accuracy: 66.67%\n",
      "Epoch 9\n",
      "Train Accuracy: 88.59%\n",
      "Test loss: 44.276, Accuracy: 64.77%\n",
      "Epoch 10\n",
      "Train Accuracy: 88.59%\n",
      "Test loss: 42.977, Accuracy: 63.64%\n",
      "Epoch 11\n",
      "Train Accuracy: 90.72%\n",
      "Test loss: 23.579, Accuracy: 69.32%\n",
      "Epoch 12\n",
      "Train Accuracy: 88.87%\n",
      "Test loss: 125.697, Accuracy: 56.06%\n",
      "Epoch 13\n",
      "Train Accuracy: 86.92%\n",
      "Test loss: 41.779, Accuracy: 64.39%\n",
      "Epoch 14\n",
      "Train Accuracy: 92.67%\n",
      "Test loss: 35.399, Accuracy: 67.80%\n",
      "Epoch 15\n",
      "Train Accuracy: 93.60%\n",
      "Test loss: 33.934, Accuracy: 69.32%\n",
      "Epoch 16\n",
      "Train Accuracy: 94.90%\n",
      "Test loss: 39.143, Accuracy: 67.05%\n",
      "Epoch 17\n",
      "Train Accuracy: 98.14%\n",
      "Test loss: 41.283, Accuracy: 64.39%\n",
      "Epoch 18\n",
      "Train Accuracy: 96.20%\n",
      "Test loss: 27.476, Accuracy: 70.83%\n",
      "Epoch 19\n",
      "Train Accuracy: 98.61%\n",
      "Test loss: 29.789, Accuracy: 66.29%\n",
      "Epoch 20\n",
      "Train Accuracy: 99.63%\n",
      "Test loss: 30.581, Accuracy: 66.67%\n",
      "Epoch 21\n",
      "Train Accuracy: 99.72%\n",
      "Test loss: 39.679, Accuracy: 65.53%\n",
      "Epoch 22\n",
      "Train Accuracy: 96.94%\n",
      "Test loss: 48.166, Accuracy: 64.77%\n",
      "Epoch 23\n",
      "Train Accuracy: 91.84%\n",
      "Test loss: 73.484, Accuracy: 56.82%\n",
      "Epoch 24\n",
      "Train Accuracy: 93.88%\n",
      "Test loss: 39.419, Accuracy: 68.94%\n",
      "Epoch 25\n",
      "Train Accuracy: 94.90%\n",
      "Test loss: 43.884, Accuracy: 65.91%\n",
      "Epoch 26\n",
      "Train Accuracy: 98.24%\n",
      "Test loss: 35.058, Accuracy: 65.15%\n",
      "Epoch 27\n",
      "Train Accuracy: 99.44%\n",
      "Test loss: 31.200, Accuracy: 67.80%\n",
      "Epoch 28\n",
      "Train Accuracy: 100.00%\n",
      "Test loss: 30.912, Accuracy: 68.94%\n",
      "Epoch 29\n",
      "Train Accuracy: 100.00%\n",
      "Test loss: 30.912, Accuracy: 68.94%\n",
      "Epoch 30\n",
      "Train Accuracy: 100.00%\n",
      "Test loss: 30.912, Accuracy: 68.94%\n",
      "Epoch 31\n",
      "Train Accuracy: 100.00%\n",
      "Test loss: 30.912, Accuracy: 68.94%\n",
      "Epoch 32\n",
      "Train Accuracy: 100.00%\n",
      "Test loss: 30.912, Accuracy: 68.94%\n",
      "Epoch 33\n",
      "Train Accuracy: 100.00%\n",
      "Test loss: 30.912, Accuracy: 68.94%\n",
      "Epoch 34\n",
      "Train Accuracy: 100.00%\n",
      "Test loss: 30.912, Accuracy: 68.94%\n",
      "Epoch 35\n",
      "Train Accuracy: 100.00%\n",
      "Test loss: 30.912, Accuracy: 68.94%\n",
      "Epoch 36\n",
      "Train Accuracy: 100.00%\n",
      "Test loss: 30.912, Accuracy: 68.94%\n",
      "Epoch 37\n",
      "Train Accuracy: 100.00%\n",
      "Test loss: 30.912, Accuracy: 68.94%\n",
      "Epoch 38\n",
      "Train Accuracy: 100.00%\n",
      "Test loss: 30.912, Accuracy: 68.94%\n",
      "Epoch 39\n",
      "Train Accuracy: 100.00%\n",
      "Test loss: 30.912, Accuracy: 68.94%\n",
      "Epoch 40\n",
      "Train Accuracy: 100.00%\n",
      "Test loss: 30.912, Accuracy: 68.94%\n",
      "Epoch 41\n",
      "Train Accuracy: 100.00%\n",
      "Test loss: 30.912, Accuracy: 68.94%\n",
      "Epoch 42\n",
      "Train Accuracy: 100.00%\n",
      "Test loss: 30.912, Accuracy: 68.94%\n",
      "Epoch 43\n",
      "Train Accuracy: 100.00%\n",
      "Test loss: 30.912, Accuracy: 68.94%\n",
      "Epoch 44\n",
      "Train Accuracy: 100.00%\n",
      "Test loss: 30.912, Accuracy: 68.94%\n",
      "Epoch 45\n",
      "Train Accuracy: 100.00%\n",
      "Test loss: 30.912, Accuracy: 68.94%\n",
      "Epoch 46\n",
      "Train Accuracy: 100.00%\n",
      "Test loss: 30.912, Accuracy: 68.94%\n",
      "Epoch 47\n",
      "Train Accuracy: 100.00%\n",
      "Test loss: 30.912, Accuracy: 68.94%\n",
      "Epoch 48\n",
      "Train Accuracy: 100.00%\n",
      "Test loss: 30.912, Accuracy: 68.94%\n",
      "Epoch 49\n",
      "Train Accuracy: 100.00%\n",
      "Test loss: 30.912, Accuracy: 68.94%\n",
      "Epoch 50\n",
      "Train Accuracy: 100.00%\n",
      "Test loss: 30.912, Accuracy: 68.94%\n"
     ]
    },
    {
     "data": {
      "application/vnd.jupyter.widget-view+json": {
       "model_id": "a8dec80ee76f4e9bb0d640d0560f0be8",
       "version_major": 2,
       "version_minor": 0
      },
      "text/plain": [
       "VBox(children=(Label(value='0.268 MB of 0.268 MB uploaded\\r'), FloatProgress(value=1.0, max=1.0)))"
      ]
     },
     "metadata": {},
     "output_type": "display_data"
    },
    {
     "data": {
      "text/html": [
       "<style>\n",
       "    table.wandb td:nth-child(1) { padding: 0 10px; text-align: left ; width: auto;} td:nth-child(2) {text-align: left ; width: 100%}\n",
       "    .wandb-row { display: flex; flex-direction: row; flex-wrap: wrap; justify-content: flex-start; width: 100% }\n",
       "    .wandb-col { display: flex; flex-direction: column; flex-basis: 100%; flex: 1; padding: 10px; }\n",
       "    </style>\n",
       "<div class=\"wandb-row\"><div class=\"wandb-col\"><h3>Run history:</h3><br/><table class=\"wandb\"><tr><td>iter_accuracy</td><td>▂▁▄▃▆▇▆▅▅▆▆███▇██▇▇█▇███████████████████</td></tr><tr><td>tr_accuracy</td><td>▁▃▄▄▆▇▇▇▇▇▆▇▇█████▇▇████████████████████</td></tr><tr><td>val_accuracy</td><td>▁▅▅▅▆▇▇▇█▅▇▇▇▇█▇▇▇▅█▇▇██████████████████</td></tr></table><br/></div><div class=\"wandb-col\"><h3>Run summary:</h3><br/><table class=\"wandb\"><tr><td>iter_accuracy</td><td>100.0</td></tr><tr><td>tr_accuracy</td><td>100.0</td></tr><tr><td>val_accuracy</td><td>68.93939</td></tr></table><br/></div></div>"
      ],
      "text/plain": [
       "<IPython.core.display.HTML object>"
      ]
     },
     "metadata": {},
     "output_type": "display_data"
    },
    {
     "data": {
      "text/html": [
       " View run <strong style=\"color:#cdcd00\">vibrant-sweep-21</strong> at: <a href='https://wandb.ai/bhkim003-seoul-national-university/reservoir/runs/k52tpiks' target=\"_blank\">https://wandb.ai/bhkim003-seoul-national-university/reservoir/runs/k52tpiks</a><br/> View project at: <a href='https://wandb.ai/bhkim003-seoul-national-university/reservoir' target=\"_blank\">https://wandb.ai/bhkim003-seoul-national-university/reservoir</a><br/>Synced 7 W&B file(s), 0 media file(s), 0 artifact file(s) and 1 other file(s)"
      ],
      "text/plain": [
       "<IPython.core.display.HTML object>"
      ]
     },
     "metadata": {},
     "output_type": "display_data"
    },
    {
     "data": {
      "text/html": [
       "Find logs at: <code>./wandb/run-20240726_000422-k52tpiks/logs</code>"
      ],
      "text/plain": [
       "<IPython.core.display.HTML object>"
      ]
     },
     "metadata": {},
     "output_type": "display_data"
    },
    {
     "data": {
      "text/html": [
       "The new W&B backend becomes opt-out in version 0.18.0; try it out with `wandb.require(\"core\")`! See https://wandb.me/wandb-core for more information."
      ],
      "text/plain": [
       "<IPython.core.display.HTML object>"
      ]
     },
     "metadata": {},
     "output_type": "display_data"
    },
    {
     "name": "stderr",
     "output_type": "stream",
     "text": [
      "\u001b[34m\u001b[1mwandb\u001b[0m: Agent Starting Run: lwsx3khx with config:\n",
      "\u001b[34m\u001b[1mwandb\u001b[0m: \tEPOCH: 50\n",
      "\u001b[34m\u001b[1mwandb\u001b[0m: \tIMAGE_SIZE: 48\n",
      "\u001b[34m\u001b[1mwandb\u001b[0m: \tbatch_size: 16\n",
      "\u001b[34m\u001b[1mwandb\u001b[0m: \tdata_path: /data2\n",
      "\u001b[34m\u001b[1mwandb\u001b[0m: \tdecay: 0.5819596436903293\n",
      "\u001b[34m\u001b[1mwandb\u001b[0m: \tdvs_clipping: True\n",
      "\u001b[34m\u001b[1mwandb\u001b[0m: \tdvs_duration: 1000000\n",
      "\u001b[34m\u001b[1mwandb\u001b[0m: \tlearning_rate: 0.0313463673232005\n",
      "\u001b[34m\u001b[1mwandb\u001b[0m: \tno_reservoir: True\n",
      "\u001b[34m\u001b[1mwandb\u001b[0m: \tpre_spike_weight: 8.36539989320434\n",
      "\u001b[34m\u001b[1mwandb\u001b[0m: \trate_coding: False\n",
      "\u001b[34m\u001b[1mwandb\u001b[0m: \ttime_step: 8\n",
      "\u001b[34m\u001b[1mwandb\u001b[0m: \twhich_data: DVS_GESTURE\n",
      "Failed to detect the name of this notebook, you can set it manually with the WANDB_NOTEBOOK_NAME environment variable to enable code saving.\n"
     ]
    },
    {
     "data": {
      "text/html": [
       "Tracking run with wandb version 0.17.5"
      ],
      "text/plain": [
       "<IPython.core.display.HTML object>"
      ]
     },
     "metadata": {},
     "output_type": "display_data"
    },
    {
     "data": {
      "text/html": [
       "Run data is saved locally in <code>/nfs/home/bhkim003/github_folder/ByeonghyeonKim/my_snn/wandb/run-20240726_001323-lwsx3khx</code>"
      ],
      "text/plain": [
       "<IPython.core.display.HTML object>"
      ]
     },
     "metadata": {},
     "output_type": "display_data"
    },
    {
     "data": {
      "text/html": [
       "Syncing run <strong><a href='https://wandb.ai/bhkim003-seoul-national-university/reservoir/runs/lwsx3khx' target=\"_blank\">treasured-sweep-22</a></strong> to <a href='https://wandb.ai/bhkim003-seoul-national-university/reservoir' target=\"_blank\">Weights & Biases</a> (<a href='https://wandb.me/run' target=\"_blank\">docs</a>)<br/>Sweep page: <a href='https://wandb.ai/bhkim003-seoul-national-university/reservoir/sweeps/0j0aowy8' target=\"_blank\">https://wandb.ai/bhkim003-seoul-national-university/reservoir/sweeps/0j0aowy8</a>"
      ],
      "text/plain": [
       "<IPython.core.display.HTML object>"
      ]
     },
     "metadata": {},
     "output_type": "display_data"
    },
    {
     "data": {
      "text/html": [
       " View project at <a href='https://wandb.ai/bhkim003-seoul-national-university/reservoir' target=\"_blank\">https://wandb.ai/bhkim003-seoul-national-university/reservoir</a>"
      ],
      "text/plain": [
       "<IPython.core.display.HTML object>"
      ]
     },
     "metadata": {},
     "output_type": "display_data"
    },
    {
     "data": {
      "text/html": [
       " View sweep at <a href='https://wandb.ai/bhkim003-seoul-national-university/reservoir/sweeps/0j0aowy8' target=\"_blank\">https://wandb.ai/bhkim003-seoul-national-university/reservoir/sweeps/0j0aowy8</a>"
      ],
      "text/plain": [
       "<IPython.core.display.HTML object>"
      ]
     },
     "metadata": {},
     "output_type": "display_data"
    },
    {
     "data": {
      "text/html": [
       " View run at <a href='https://wandb.ai/bhkim003-seoul-national-university/reservoir/runs/lwsx3khx' target=\"_blank\">https://wandb.ai/bhkim003-seoul-national-university/reservoir/runs/lwsx3khx</a>"
      ],
      "text/plain": [
       "<IPython.core.display.HTML object>"
      ]
     },
     "metadata": {},
     "output_type": "display_data"
    },
    {
     "name": "stderr",
     "output_type": "stream",
     "text": [
      "\u001b[34m\u001b[1mwandb\u001b[0m: \u001b[33mWARNING\u001b[0m Config item 'data_path' was locked by 'sweep' (ignored update).\n",
      "\u001b[34m\u001b[1mwandb\u001b[0m: \u001b[33mWARNING\u001b[0m Config item 'which_data' was locked by 'sweep' (ignored update).\n",
      "\u001b[34m\u001b[1mwandb\u001b[0m: \u001b[33mWARNING\u001b[0m Config item 'learning_rate' was locked by 'sweep' (ignored update).\n",
      "\u001b[34m\u001b[1mwandb\u001b[0m: \u001b[33mWARNING\u001b[0m Config item 'IMAGE_SIZE' was locked by 'sweep' (ignored update).\n",
      "\u001b[34m\u001b[1mwandb\u001b[0m: \u001b[33mWARNING\u001b[0m Config item 'EPOCH' was locked by 'sweep' (ignored update).\n",
      "\u001b[34m\u001b[1mwandb\u001b[0m: \u001b[33mWARNING\u001b[0m Config item 'rate_coding' was locked by 'sweep' (ignored update).\n",
      "\u001b[34m\u001b[1mwandb\u001b[0m: \u001b[33mWARNING\u001b[0m Config item 'pre_spike_weight' was locked by 'sweep' (ignored update).\n",
      "\u001b[34m\u001b[1mwandb\u001b[0m: \u001b[33mWARNING\u001b[0m Config item 'dvs_duration' was locked by 'sweep' (ignored update).\n",
      "\u001b[34m\u001b[1mwandb\u001b[0m: \u001b[33mWARNING\u001b[0m Config item 'dvs_clipping' was locked by 'sweep' (ignored update).\n",
      "\u001b[34m\u001b[1mwandb\u001b[0m: \u001b[33mWARNING\u001b[0m Config item 'no_reservoir' was locked by 'sweep' (ignored update).\n"
     ]
    },
    {
     "name": "stdout",
     "output_type": "stream",
     "text": [
      "The directory [/data2/gesture/duration_1000000] already exists.\n",
      "The directory [/data2/gesture/duration_1000000] already exists.\n",
      "NO_RESERVOIR_NET(\n",
      "  (reservoir): RESERVOIR(\n",
      "    (conv_depthwise): Conv2d(2, 2, kernel_size=(3, 3), stride=(1, 1), padding=(1, 1), groups=2)\n",
      "  )\n",
      "  (linear): Linear(in_features=4608, out_features=10, bias=True)\n",
      ")\n",
      "Epoch 1\n",
      "Train Accuracy: 36.55%\n",
      "Test loss: 6.010, Accuracy: 48.11%\n",
      "Epoch 2\n",
      "Train Accuracy: 53.53%\n",
      "Test loss: 4.659, Accuracy: 55.30%\n",
      "Epoch 3\n",
      "Train Accuracy: 69.02%\n",
      "Test loss: 7.139, Accuracy: 55.68%\n",
      "Epoch 4\n",
      "Train Accuracy: 63.91%\n",
      "Test loss: 10.787, Accuracy: 46.21%\n",
      "Epoch 5\n",
      "Train Accuracy: 77.09%\n",
      "Test loss: 4.046, Accuracy: 54.17%\n",
      "Epoch 6\n",
      "Train Accuracy: 86.83%\n",
      "Test loss: 3.969, Accuracy: 62.50%\n",
      "Epoch 7\n",
      "Train Accuracy: 86.46%\n",
      "Test loss: 5.095, Accuracy: 54.17%\n",
      "Epoch 8\n",
      "Train Accuracy: 85.81%\n",
      "Test loss: 12.150, Accuracy: 48.86%\n",
      "Epoch 9\n",
      "Train Accuracy: 79.13%\n",
      "Test loss: 4.304, Accuracy: 62.50%\n",
      "Epoch 10\n",
      "Train Accuracy: 87.29%\n",
      "Test loss: 3.487, Accuracy: 64.02%\n",
      "Epoch 11\n",
      "Train Accuracy: 91.56%\n",
      "Test loss: 3.383, Accuracy: 63.26%\n",
      "Epoch 12\n",
      "Train Accuracy: 89.52%\n",
      "Test loss: 4.064, Accuracy: 62.50%\n",
      "Epoch 13\n",
      "Train Accuracy: 90.07%\n",
      "Test loss: 4.199, Accuracy: 63.64%\n",
      "Epoch 14\n",
      "Train Accuracy: 95.36%\n",
      "Test loss: 3.447, Accuracy: 67.42%\n",
      "Epoch 15\n",
      "Train Accuracy: 92.76%\n",
      "Test loss: 3.330, Accuracy: 64.77%\n",
      "Epoch 16\n",
      "Train Accuracy: 98.05%\n",
      "Test loss: 2.606, Accuracy: 66.67%\n",
      "Epoch 17\n",
      "Train Accuracy: 98.14%\n",
      "Test loss: 3.012, Accuracy: 64.77%\n",
      "Epoch 18\n",
      "Train Accuracy: 100.00%\n",
      "Test loss: 2.643, Accuracy: 66.67%\n",
      "Epoch 19\n",
      "Train Accuracy: 100.00%\n",
      "Test loss: 2.494, Accuracy: 68.18%\n",
      "Epoch 20\n",
      "Train Accuracy: 100.00%\n",
      "Test loss: 2.483, Accuracy: 68.18%\n",
      "Epoch 21\n",
      "Train Accuracy: 100.00%\n",
      "Test loss: 2.476, Accuracy: 68.18%\n",
      "Epoch 22\n",
      "Train Accuracy: 100.00%\n",
      "Test loss: 2.470, Accuracy: 68.18%\n",
      "Epoch 23\n",
      "Train Accuracy: 100.00%\n",
      "Test loss: 2.473, Accuracy: 68.18%\n",
      "Epoch 24\n",
      "Train Accuracy: 100.00%\n",
      "Test loss: 2.470, Accuracy: 67.80%\n",
      "Epoch 25\n",
      "Train Accuracy: 100.00%\n",
      "Test loss: 2.467, Accuracy: 67.80%\n",
      "Epoch 26\n",
      "Train Accuracy: 100.00%\n",
      "Test loss: 2.471, Accuracy: 67.80%\n",
      "Epoch 27\n",
      "Train Accuracy: 100.00%\n",
      "Test loss: 2.468, Accuracy: 67.80%\n",
      "Epoch 28\n",
      "Train Accuracy: 100.00%\n",
      "Test loss: 2.469, Accuracy: 67.80%\n",
      "Epoch 29\n",
      "Train Accuracy: 100.00%\n",
      "Test loss: 2.470, Accuracy: 67.80%\n",
      "Epoch 30\n",
      "Train Accuracy: 100.00%\n",
      "Test loss: 2.470, Accuracy: 67.80%\n",
      "Epoch 31\n",
      "Train Accuracy: 100.00%\n",
      "Test loss: 2.469, Accuracy: 67.80%\n",
      "Epoch 32\n",
      "Train Accuracy: 100.00%\n",
      "Test loss: 2.469, Accuracy: 67.80%\n",
      "Epoch 33\n",
      "Train Accuracy: 100.00%\n",
      "Test loss: 2.473, Accuracy: 67.80%\n",
      "Epoch 34\n",
      "Train Accuracy: 100.00%\n",
      "Test loss: 2.469, Accuracy: 67.80%\n",
      "Epoch 35\n",
      "Train Accuracy: 100.00%\n",
      "Test loss: 2.470, Accuracy: 67.80%\n",
      "Epoch 36\n",
      "Train Accuracy: 100.00%\n",
      "Test loss: 2.469, Accuracy: 67.80%\n",
      "Epoch 37\n",
      "Train Accuracy: 100.00%\n",
      "Test loss: 2.471, Accuracy: 67.80%\n",
      "Epoch 38\n",
      "Train Accuracy: 100.00%\n",
      "Test loss: 2.470, Accuracy: 67.80%\n",
      "Epoch 39\n",
      "Train Accuracy: 100.00%\n",
      "Test loss: 2.470, Accuracy: 67.80%\n",
      "Epoch 40\n",
      "Train Accuracy: 100.00%\n",
      "Test loss: 2.471, Accuracy: 67.80%\n",
      "Epoch 41\n",
      "Train Accuracy: 100.00%\n",
      "Test loss: 2.469, Accuracy: 67.80%\n",
      "Epoch 42\n",
      "Train Accuracy: 100.00%\n",
      "Test loss: 2.469, Accuracy: 67.80%\n",
      "Epoch 43\n",
      "Train Accuracy: 100.00%\n",
      "Test loss: 2.470, Accuracy: 67.80%\n",
      "Epoch 44\n",
      "Train Accuracy: 100.00%\n",
      "Test loss: 2.470, Accuracy: 67.80%\n",
      "Epoch 45\n",
      "Train Accuracy: 100.00%\n",
      "Test loss: 2.471, Accuracy: 67.42%\n",
      "Epoch 46\n",
      "Train Accuracy: 100.00%\n",
      "Test loss: 2.470, Accuracy: 67.80%\n",
      "Epoch 47\n",
      "Train Accuracy: 100.00%\n",
      "Test loss: 2.471, Accuracy: 67.80%\n",
      "Epoch 48\n",
      "Train Accuracy: 100.00%\n",
      "Test loss: 2.473, Accuracy: 67.80%\n",
      "Epoch 49\n",
      "Train Accuracy: 100.00%\n",
      "Test loss: 2.475, Accuracy: 67.42%\n",
      "Epoch 50\n",
      "Train Accuracy: 100.00%\n",
      "Test loss: 2.474, Accuracy: 67.42%\n"
     ]
    },
    {
     "data": {
      "application/vnd.jupyter.widget-view+json": {
       "model_id": "c299ad5fef5f4889a4ed008d5508efad",
       "version_major": 2,
       "version_minor": 0
      },
      "text/plain": [
       "VBox(children=(Label(value='20.700 MB of 20.700 MB uploaded (20.027 MB deduped)\\r'), FloatProgress(value=1.0, …"
      ]
     },
     "metadata": {},
     "output_type": "display_data"
    },
    {
     "data": {
      "text/html": [
       "W&B sync reduced upload amount by 96.4%"
      ],
      "text/plain": [
       "<IPython.core.display.HTML object>"
      ]
     },
     "metadata": {},
     "output_type": "display_data"
    },
    {
     "data": {
      "text/html": [
       "<style>\n",
       "    table.wandb td:nth-child(1) { padding: 0 10px; text-align: left ; width: auto;} td:nth-child(2) {text-align: left ; width: 100%}\n",
       "    .wandb-row { display: flex; flex-direction: row; flex-wrap: wrap; justify-content: flex-start; width: 100% }\n",
       "    .wandb-col { display: flex; flex-direction: column; flex-basis: 100%; flex: 1; padding: 10px; }\n",
       "    </style>\n",
       "<div class=\"wandb-row\"><div class=\"wandb-col\"><h3>Run history:</h3><br/><table class=\"wandb\"><tr><td>iter_accuracy</td><td>▁▂▄▅▅▇▆▇█▇▇▇████████████████████████████</td></tr><tr><td>tr_accuracy</td><td>▁▃▅▄▇▇▆▆▇▇▇▇████████████████████████████</td></tr><tr><td>val_accuracy</td><td>▂▄▄▁▆▄▂▆▆▆▇██▇██████████████████████████</td></tr></table><br/></div><div class=\"wandb-col\"><h3>Run summary:</h3><br/><table class=\"wandb\"><tr><td>iter_accuracy</td><td>100.0</td></tr><tr><td>tr_accuracy</td><td>100.0</td></tr><tr><td>val_accuracy</td><td>67.42424</td></tr></table><br/></div></div>"
      ],
      "text/plain": [
       "<IPython.core.display.HTML object>"
      ]
     },
     "metadata": {},
     "output_type": "display_data"
    },
    {
     "data": {
      "text/html": [
       " View run <strong style=\"color:#cdcd00\">treasured-sweep-22</strong> at: <a href='https://wandb.ai/bhkim003-seoul-national-university/reservoir/runs/lwsx3khx' target=\"_blank\">https://wandb.ai/bhkim003-seoul-national-university/reservoir/runs/lwsx3khx</a><br/> View project at: <a href='https://wandb.ai/bhkim003-seoul-national-university/reservoir' target=\"_blank\">https://wandb.ai/bhkim003-seoul-national-university/reservoir</a><br/>Synced 7 W&B file(s), 0 media file(s), 29 artifact file(s) and 1 other file(s)"
      ],
      "text/plain": [
       "<IPython.core.display.HTML object>"
      ]
     },
     "metadata": {},
     "output_type": "display_data"
    },
    {
     "data": {
      "text/html": [
       "Find logs at: <code>./wandb/run-20240726_001323-lwsx3khx/logs</code>"
      ],
      "text/plain": [
       "<IPython.core.display.HTML object>"
      ]
     },
     "metadata": {},
     "output_type": "display_data"
    },
    {
     "data": {
      "text/html": [
       "The new W&B backend becomes opt-out in version 0.18.0; try it out with `wandb.require(\"core\")`! See https://wandb.me/wandb-core for more information."
      ],
      "text/plain": [
       "<IPython.core.display.HTML object>"
      ]
     },
     "metadata": {},
     "output_type": "display_data"
    },
    {
     "name": "stderr",
     "output_type": "stream",
     "text": [
      "\u001b[34m\u001b[1mwandb\u001b[0m: Agent Starting Run: 57mmsyta with config:\n",
      "\u001b[34m\u001b[1mwandb\u001b[0m: \tEPOCH: 50\n",
      "\u001b[34m\u001b[1mwandb\u001b[0m: \tIMAGE_SIZE: 128\n",
      "\u001b[34m\u001b[1mwandb\u001b[0m: \tbatch_size: 128\n",
      "\u001b[34m\u001b[1mwandb\u001b[0m: \tdata_path: /data2\n",
      "\u001b[34m\u001b[1mwandb\u001b[0m: \tdecay: 0.4892439231325156\n",
      "\u001b[34m\u001b[1mwandb\u001b[0m: \tdvs_clipping: True\n",
      "\u001b[34m\u001b[1mwandb\u001b[0m: \tdvs_duration: 1000000\n",
      "\u001b[34m\u001b[1mwandb\u001b[0m: \tlearning_rate: 0.05931139262095837\n",
      "\u001b[34m\u001b[1mwandb\u001b[0m: \tno_reservoir: True\n",
      "\u001b[34m\u001b[1mwandb\u001b[0m: \tpre_spike_weight: 6.8834303573702655\n",
      "\u001b[34m\u001b[1mwandb\u001b[0m: \trate_coding: False\n",
      "\u001b[34m\u001b[1mwandb\u001b[0m: \ttime_step: 7\n",
      "\u001b[34m\u001b[1mwandb\u001b[0m: \twhich_data: DVS_GESTURE\n",
      "Failed to detect the name of this notebook, you can set it manually with the WANDB_NOTEBOOK_NAME environment variable to enable code saving.\n"
     ]
    },
    {
     "data": {
      "text/html": [
       "Tracking run with wandb version 0.17.5"
      ],
      "text/plain": [
       "<IPython.core.display.HTML object>"
      ]
     },
     "metadata": {},
     "output_type": "display_data"
    },
    {
     "data": {
      "text/html": [
       "Run data is saved locally in <code>/nfs/home/bhkim003/github_folder/ByeonghyeonKim/my_snn/wandb/run-20240726_001941-57mmsyta</code>"
      ],
      "text/plain": [
       "<IPython.core.display.HTML object>"
      ]
     },
     "metadata": {},
     "output_type": "display_data"
    },
    {
     "data": {
      "text/html": [
       "Syncing run <strong><a href='https://wandb.ai/bhkim003-seoul-national-university/reservoir/runs/57mmsyta' target=\"_blank\">lyric-sweep-23</a></strong> to <a href='https://wandb.ai/bhkim003-seoul-national-university/reservoir' target=\"_blank\">Weights & Biases</a> (<a href='https://wandb.me/run' target=\"_blank\">docs</a>)<br/>Sweep page: <a href='https://wandb.ai/bhkim003-seoul-national-university/reservoir/sweeps/0j0aowy8' target=\"_blank\">https://wandb.ai/bhkim003-seoul-national-university/reservoir/sweeps/0j0aowy8</a>"
      ],
      "text/plain": [
       "<IPython.core.display.HTML object>"
      ]
     },
     "metadata": {},
     "output_type": "display_data"
    },
    {
     "data": {
      "text/html": [
       " View project at <a href='https://wandb.ai/bhkim003-seoul-national-university/reservoir' target=\"_blank\">https://wandb.ai/bhkim003-seoul-national-university/reservoir</a>"
      ],
      "text/plain": [
       "<IPython.core.display.HTML object>"
      ]
     },
     "metadata": {},
     "output_type": "display_data"
    },
    {
     "data": {
      "text/html": [
       " View sweep at <a href='https://wandb.ai/bhkim003-seoul-national-university/reservoir/sweeps/0j0aowy8' target=\"_blank\">https://wandb.ai/bhkim003-seoul-national-university/reservoir/sweeps/0j0aowy8</a>"
      ],
      "text/plain": [
       "<IPython.core.display.HTML object>"
      ]
     },
     "metadata": {},
     "output_type": "display_data"
    },
    {
     "data": {
      "text/html": [
       " View run at <a href='https://wandb.ai/bhkim003-seoul-national-university/reservoir/runs/57mmsyta' target=\"_blank\">https://wandb.ai/bhkim003-seoul-national-university/reservoir/runs/57mmsyta</a>"
      ],
      "text/plain": [
       "<IPython.core.display.HTML object>"
      ]
     },
     "metadata": {},
     "output_type": "display_data"
    },
    {
     "name": "stderr",
     "output_type": "stream",
     "text": [
      "\u001b[34m\u001b[1mwandb\u001b[0m: \u001b[33mWARNING\u001b[0m Config item 'data_path' was locked by 'sweep' (ignored update).\n",
      "\u001b[34m\u001b[1mwandb\u001b[0m: \u001b[33mWARNING\u001b[0m Config item 'which_data' was locked by 'sweep' (ignored update).\n",
      "\u001b[34m\u001b[1mwandb\u001b[0m: \u001b[33mWARNING\u001b[0m Config item 'learning_rate' was locked by 'sweep' (ignored update).\n",
      "\u001b[34m\u001b[1mwandb\u001b[0m: \u001b[33mWARNING\u001b[0m Config item 'IMAGE_SIZE' was locked by 'sweep' (ignored update).\n",
      "\u001b[34m\u001b[1mwandb\u001b[0m: \u001b[33mWARNING\u001b[0m Config item 'EPOCH' was locked by 'sweep' (ignored update).\n",
      "\u001b[34m\u001b[1mwandb\u001b[0m: \u001b[33mWARNING\u001b[0m Config item 'rate_coding' was locked by 'sweep' (ignored update).\n",
      "\u001b[34m\u001b[1mwandb\u001b[0m: \u001b[33mWARNING\u001b[0m Config item 'pre_spike_weight' was locked by 'sweep' (ignored update).\n",
      "\u001b[34m\u001b[1mwandb\u001b[0m: \u001b[33mWARNING\u001b[0m Config item 'dvs_duration' was locked by 'sweep' (ignored update).\n",
      "\u001b[34m\u001b[1mwandb\u001b[0m: \u001b[33mWARNING\u001b[0m Config item 'dvs_clipping' was locked by 'sweep' (ignored update).\n",
      "\u001b[34m\u001b[1mwandb\u001b[0m: \u001b[33mWARNING\u001b[0m Config item 'no_reservoir' was locked by 'sweep' (ignored update).\n"
     ]
    },
    {
     "name": "stdout",
     "output_type": "stream",
     "text": [
      "The directory [/data2/gesture/duration_1000000] already exists.\n",
      "The directory [/data2/gesture/duration_1000000] already exists.\n",
      "NO_RESERVOIR_NET(\n",
      "  (reservoir): RESERVOIR(\n",
      "    (conv_depthwise): Conv2d(2, 2, kernel_size=(3, 3), stride=(1, 1), padding=(1, 1), groups=2)\n",
      "  )\n",
      "  (linear): Linear(in_features=32768, out_features=10, bias=True)\n",
      ")\n",
      "Epoch 1\n",
      "Train Accuracy: 23.93%\n",
      "Test loss: 51.174, Accuracy: 36.74%\n",
      "Epoch 2\n",
      "Train Accuracy: 38.22%\n",
      "Test loss: 45.336, Accuracy: 43.18%\n",
      "Epoch 3\n",
      "Train Accuracy: 52.88%\n",
      "Test loss: 38.496, Accuracy: 43.94%\n",
      "Epoch 4\n",
      "Train Accuracy: 62.06%\n",
      "Test loss: 32.800, Accuracy: 62.50%\n",
      "Epoch 5\n",
      "Train Accuracy: 65.58%\n",
      "Test loss: 26.449, Accuracy: 54.17%\n",
      "Epoch 6\n",
      "Train Accuracy: 72.17%\n",
      "Test loss: 25.050, Accuracy: 56.82%\n",
      "Epoch 7\n",
      "Train Accuracy: 74.49%\n",
      "Test loss: 19.939, Accuracy: 61.74%\n",
      "Epoch 8\n",
      "Train Accuracy: 81.91%\n",
      "Test loss: 22.924, Accuracy: 64.02%\n",
      "Epoch 9\n",
      "Train Accuracy: 80.43%\n",
      "Test loss: 11.763, Accuracy: 65.53%\n",
      "Epoch 10\n",
      "Train Accuracy: 85.06%\n",
      "Test loss: 11.764, Accuracy: 62.50%\n",
      "Epoch 11\n",
      "Train Accuracy: 88.03%\n",
      "Test loss: 17.035, Accuracy: 62.88%\n",
      "Epoch 12\n",
      "Train Accuracy: 87.76%\n",
      "Test loss: 14.954, Accuracy: 62.88%\n",
      "Epoch 13\n",
      "Train Accuracy: 91.74%\n",
      "Test loss: 10.858, Accuracy: 68.56%\n",
      "Epoch 14\n",
      "Train Accuracy: 94.34%\n",
      "Test loss: 14.503, Accuracy: 66.29%\n",
      "Epoch 15\n",
      "Train Accuracy: 95.83%\n",
      "Test loss: 15.343, Accuracy: 67.42%\n",
      "Epoch 16\n",
      "Train Accuracy: 96.47%\n",
      "Test loss: 9.439, Accuracy: 68.18%\n",
      "Epoch 17\n",
      "Train Accuracy: 96.75%\n",
      "Test loss: 14.683, Accuracy: 67.05%\n",
      "Epoch 18\n",
      "Train Accuracy: 98.33%\n",
      "Test loss: 11.903, Accuracy: 64.39%\n",
      "Epoch 19\n",
      "Train Accuracy: 98.89%\n",
      "Test loss: 11.351, Accuracy: 65.91%\n",
      "Epoch 20\n",
      "Train Accuracy: 98.70%\n",
      "Test loss: 12.383, Accuracy: 63.64%\n",
      "Epoch 21\n",
      "Train Accuracy: 95.73%\n",
      "Test loss: 13.248, Accuracy: 61.74%\n",
      "Epoch 22\n",
      "Train Accuracy: 93.23%\n",
      "Test loss: 14.688, Accuracy: 62.12%\n",
      "Epoch 23\n",
      "Train Accuracy: 92.86%\n",
      "Test loss: 14.547, Accuracy: 62.12%\n",
      "Epoch 24\n",
      "Train Accuracy: 92.86%\n",
      "Test loss: 13.956, Accuracy: 60.61%\n",
      "Epoch 25\n",
      "Train Accuracy: 93.88%\n",
      "Test loss: 13.146, Accuracy: 64.39%\n",
      "Epoch 26\n",
      "Train Accuracy: 96.57%\n",
      "Test loss: 13.238, Accuracy: 66.67%\n",
      "Epoch 27\n",
      "Train Accuracy: 96.66%\n",
      "Test loss: 14.726, Accuracy: 64.39%\n",
      "Epoch 28\n",
      "Train Accuracy: 92.86%\n",
      "Test loss: 15.386, Accuracy: 62.88%\n",
      "Epoch 29\n",
      "Train Accuracy: 92.86%\n",
      "Test loss: 19.183, Accuracy: 64.02%\n",
      "Epoch 30\n",
      "Train Accuracy: 91.56%\n",
      "Test loss: 19.618, Accuracy: 59.85%\n",
      "Epoch 31\n",
      "Train Accuracy: 90.17%\n",
      "Test loss: 20.613, Accuracy: 61.36%\n",
      "Epoch 32\n",
      "Train Accuracy: 92.67%\n",
      "Test loss: 18.802, Accuracy: 61.74%\n",
      "Epoch 33\n",
      "Train Accuracy: 92.39%\n"
     ]
    }
   ],
   "source": [
    "# sweep하고싶을 때\n",
    "def sweep_cover(data_path='/data2', which_data='CIFAR10', gpu = '3', learning_rate = 0.0001, BATCH=5, IMAGE_SIZE=28, TIME_STEP=8, EPOCH=3, rate_coding=True, v_decay= 0.6,\n",
    "v_threshold=1, v_reset=0, hard_reset=True, pre_spike_weight=1, dvs_duration=1000000, dvs_clipping=True, no_reservoir = False):\n",
    "    \n",
    "    wandb.init(save_code = True)\n",
    "\n",
    "    learning_rate  =  wandb.config.learning_rate\n",
    "    BATCH  =  wandb.config.batch_size\n",
    "    TIME_STEP  =  wandb.config.time_step\n",
    "    v_decay  =  wandb.config.decay\n",
    "    pre_spike_weight  =  wandb.config.pre_spike_weight\n",
    "    which_data  =  wandb.config.which_data\n",
    "    data_path  =  wandb.config.data_path\n",
    "    rate_coding  =  wandb.config.rate_coding\n",
    "    EPOCH  =  wandb.config.EPOCH\n",
    "    IMAGE_SIZE  =  wandb.config.IMAGE_SIZE\n",
    "    dvs_duration  =  wandb.config.dvs_duration\n",
    "    dvs_clipping  =  wandb.config.dvs_clipping\n",
    "    no_reservoir  =  wandb.config.no_reservoir\n",
    "    main(data_path=data_path, which_data=which_data, gpu = gpu, learning_rate = learning_rate, BATCH=BATCH, IMAGE_SIZE=IMAGE_SIZE, TIME_STEP=TIME_STEP, EPOCH=EPOCH, rate_coding=rate_coding, v_decay= v_decay,\n",
    "v_threshold=v_threshold, v_reset=v_reset, hard_reset=hard_reset, pre_spike_weight=pre_spike_weight, dvs_duration=dvs_duration, dvs_clipping=dvs_clipping, no_reservoir = no_reservoir)\n",
    "\n",
    "\n",
    "\n",
    "which_data_hyper = 'DVS_GESTURE' # 'MNIST', 'CIFAR10' ', 'FASHION_MNIST', 'DVS_GESTURE'\n",
    "data_path_hyper = '/data2'\n",
    "\n",
    "sweep_configuration = {\n",
    "    'method': 'bayes',\n",
    "    'name': which_data_hyper,\n",
    "    'metric': {'goal': 'maximize', 'name': 'val_accuracy'},\n",
    "    'parameters': \n",
    "    {\n",
    "        \"learning_rate\": {\"min\": 0.00001, \"max\": 0.1},\n",
    "        \"batch_size\": {\"values\": [16, 32, 64, 128, 256]},\n",
    "        \"time_step\": {\"values\": [4,5,6,7,8]},\n",
    "        \"decay\": {\"min\": 0.25, \"max\": 1.0},\n",
    "        \"pre_spike_weight\": {\"min\": 0.5, \"max\": 10.0},\n",
    "        \"which_data\": {\"values\": [which_data_hyper]},\n",
    "        \"data_path\": {\"values\": [data_path_hyper]},\n",
    "        \"rate_coding\": {\"values\": [True, False]},\n",
    "        \"EPOCH\": {\"values\": [50]},\n",
    "        \"IMAGE_SIZE\": {\"values\": [16,32,48,128]},\n",
    "        \"dvs_duration\": {\"values\": [1000000]},\n",
    "        \"dvs_clipping\": {\"values\": [True]},\n",
    "        \"no_reservoir\": {\"values\": [True, False]},\n",
    "     }\n",
    "}\n",
    "\n",
    "sweep_id = wandb.sweep(sweep=sweep_configuration, project=f'reservoir')\n",
    "wandb.agent(sweep_id, function=sweep_cover, count=10000)"
   ]
  },
  {
   "cell_type": "code",
   "execution_count": null,
   "metadata": {},
   "outputs": [],
   "source": [
    "# # SAVE하기\n",
    "\n",
    "# # Import\n",
    "# import wandb\n",
    "# # Save your model.\n",
    "# torch.save(model.state_dict(), 'save/to/path/model.pth')\n",
    "# # Save as artifact for version control.\n",
    "# run = wandb.init(project='your-project-name')\n",
    "# artifact = wandb.Artifact('model', type='model')\n",
    "# artifact.add_file('save/to/path/model.pth')\n",
    "# run.log_artifact(artifact)\n",
    "# run.finish()\n",
    "\n",
    "\n",
    "# # LOAD 하기\n",
    "\n",
    "# import wandb\n",
    "# run = wandb.init()\n",
    "\n",
    "\n",
    "# artifact = run.use_artifact('entity/your-project-name/model:v0', type='model')\n",
    "# artifact_dir = artifact.download()\n",
    "\n",
    "\n",
    "# run.finish()\n"
   ]
  }
 ],
 "metadata": {
  "kernelspec": {
   "display_name": "nfs",
   "language": "python",
   "name": "python3"
  },
  "language_info": {
   "codemirror_mode": {
    "name": "ipython",
    "version": 3
   },
   "file_extension": ".py",
   "mimetype": "text/x-python",
   "name": "python",
   "nbconvert_exporter": "python",
   "pygments_lexer": "ipython3",
   "version": "3.8.18"
  }
 },
 "nbformat": 4,
 "nbformat_minor": 2
}
