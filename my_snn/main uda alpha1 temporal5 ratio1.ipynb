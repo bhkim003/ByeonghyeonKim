{
 "cells": [
  {
   "cell_type": "code",
   "execution_count": 1,
   "metadata": {},
   "outputs": [],
   "source": [
    "# Copyright (c) 2024 Byeonghyeon Kim \n",
    "# github site: https://github.com/bhkim003/ByeonghyeonKim\n",
    "# email: bhkim003@snu.ac.kr\n",
    " \n",
    "# Permission is hereby granted, free of charge, to any person obtaining a copy of\n",
    "# this software and associated documentation files (the \"Software\"), to deal in\n",
    "# the Software without restriction, including without limitation the rights to\n",
    "# use, copy, modify, merge, publish, distribute, sublicense, and/or sell copies of\n",
    "# the Software, and to permit persons to whom the Software is furnished to do so,\n",
    "# subject to the following conditions:\n",
    " \n",
    "# The above copyright notice and this permission notice shall be included in all\n",
    "# copies or substantial portions of the Software.\n",
    " \n",
    "# THE SOFTWARE IS PROVIDED \"AS IS\", WITHOUT WARRANTY OF ANY KIND, EXPRESS OR\n",
    "# IMPLIED, INCLUDING BUT NOT LIMITED TO THE WARRANTIES OF MERCHANTABILITY, FITNESS\n",
    "# FOR A PARTICULAR PURPOSE AND NONINFRINGEMENT. IN NO EVENT SHALL THE AUTHORS OR\n",
    "# COPYRIGHT HOLDERS BE LIABLE FOR ANY CLAIM, DAMAGES OR OTHER LIABILITY, WHETHER\n",
    "# IN AN ACTION OF CONTRACT, TORT OR OTHERWISE, ARISING FROM, OUT OF OR IN\n",
    "# CONNECTION WITH THE SOFTWARE OR THE USE OR OTHER DEALINGS IN THE SOFTWARE.\n"
   ]
  },
  {
   "cell_type": "code",
   "execution_count": 2,
   "metadata": {},
   "outputs": [
    {
     "name": "stderr",
     "output_type": "stream",
     "text": [
      "/tmp/ipykernel_14120/652520392.py:46: DeprecationWarning: The module snntorch.spikevision is deprecated. For loading neuromorphic datasets, we recommend using the Tonic project: https://github.com/neuromorphs/tonic\n",
      "  from snntorch.spikevision import spikedata\n"
     ]
    }
   ],
   "source": [
    "import sys\n",
    "import os\n",
    "import argparse\n",
    "import torch\n",
    "import torch.nn as nn \n",
    "import torch.nn.functional as F\n",
    "import torch.backends.cudnn as cudnn\n",
    "import torch.optim as optim\n",
    "import torch.optim.lr_scheduler as lr_scheduler\n",
    "from torch.utils.data import Dataset, DataLoader\n",
    "\n",
    "import torchvision\n",
    "import torchvision.datasets\n",
    "import torchvision.transforms as transforms\n",
    "\n",
    "import numpy as np\n",
    "import matplotlib.pyplot as plt\n",
    "\n",
    "import time\n",
    "\n",
    "from snntorch import spikegen\n",
    "import matplotlib.pyplot as plt\n",
    "import snntorch.spikeplot as splt\n",
    "from IPython.display import HTML\n",
    "\n",
    "from tqdm import tqdm\n",
    "\n",
    "from apex.parallel import DistributedDataParallel as DDP\n",
    "\n",
    "import random\n",
    "import datetime\n",
    "\n",
    "import json\n",
    "\n",
    "from sklearn.utils import shuffle\n",
    "\n",
    "''' 레퍼런스\n",
    "https://spikingjelly.readthedocs.io/zh-cn/0.0.0.0.4/spikingjelly.datasets.html#module-spikingjelly.datasets\n",
    "https://github.com/GorkaAbad/Sneaky-Spikes/blob/main/datasets.py\n",
    "https://github.com/GorkaAbad/Sneaky-Spikes/blob/main/how_to.md\n",
    "https://github.com/nmi-lab/torchneuromorphic\n",
    "https://snntorch.readthedocs.io/en/latest/snntorch.spikevision.spikedata.html#shd\n",
    "'''\n",
    "\n",
    "import snntorch\n",
    "from snntorch.spikevision import spikedata\n",
    "\n",
    "from spikingjelly.datasets.dvs128_gesture import DVS128Gesture\n",
    "from spikingjelly.datasets.cifar10_dvs import CIFAR10DVS\n",
    "from spikingjelly.datasets.n_mnist import NMNIST\n",
    "# from spikingjelly.datasets.es_imagenet import ESImageNet\n",
    "from spikingjelly.datasets import split_to_train_test_set\n",
    "from spikingjelly.datasets.n_caltech101 import NCaltech101\n",
    "from spikingjelly.datasets import pad_sequence_collate, padded_sequence_mask\n",
    "\n",
    "import torchneuromorphic\n",
    "\n",
    "import wandb\n",
    "\n",
    "from torchviz import make_dot\n",
    "import graphviz"
   ]
  },
  {
   "cell_type": "code",
   "execution_count": 3,
   "metadata": {},
   "outputs": [],
   "source": [
    "import apex"
   ]
  },
  {
   "cell_type": "code",
   "execution_count": 4,
   "metadata": {},
   "outputs": [
    {
     "data": {
      "image/png": "[encoded data removed]",
      "text/plain": [
       "<Figure size 800x600 with 2 Axes>"
      ]
     },
     "metadata": {},
     "output_type": "display_data"
    }
   ],
   "source": [
    "# my module import\n",
    "from modules import *\n",
    "\n",
    "# modules 폴더에 새모듈.py 만들면\n",
    "# modules/__init__py 파일에 form .새모듈 import * 하셈\n",
    "# 그리고 새모듈.py에서 from modules.새모듈 import * 하셈\n"
   ]
  },
  {
   "cell_type": "code",
   "execution_count": 5,
   "metadata": {},
   "outputs": [],
   "source": [
    "from turtle import shape\n",
    "\n",
    "\n",
    "def my_snn_system(devices = \"0,1,2,3\",\n",
    "                    single_step = False, # True # False\n",
    "                    unique_name = 'main',\n",
    "                    my_seed = 42,\n",
    "                    TIME = 10,\n",
    "                    BATCH = 256,\n",
    "                    IMAGE_SIZE = 32,\n",
    "                    which_data = 'CIFAR10',\n",
    "                    # CLASS_NUM = 10,\n",
    "                    data_path = '/data2',\n",
    "                    rate_coding = True,\n",
    "    \n",
    "                    lif_layer_v_init = 0.0,\n",
    "                    lif_layer_v_decay = 0.6,\n",
    "                    lif_layer_v_threshold = 1.2,\n",
    "                    lif_layer_v_reset = 0.0,\n",
    "                    lif_layer_sg_width = 1,\n",
    "\n",
    "                    # synapse_conv_in_channels = IMAGE_PIXEL_CHANNEL,\n",
    "                    synapse_conv_kernel_size = 3,\n",
    "                    synapse_conv_stride = 1,\n",
    "                    synapse_conv_padding = 1,\n",
    "                    synapse_conv_trace_const1 = 1,\n",
    "                    synapse_conv_trace_const2 = 0.6,\n",
    "\n",
    "                    # synapse_fc_out_features = CLASS_NUM,\n",
    "                    synapse_fc_trace_const1 = 1,\n",
    "                    synapse_fc_trace_const2 = 0.6,\n",
    "\n",
    "                    pre_trained = False,\n",
    "                    convTrue_fcFalse = True,\n",
    "                    cfg = [64, 64],\n",
    "                    net_print = False, # True # False\n",
    "                    weight_count_print = False, # True # False\n",
    "                    pre_trained_path = \"net_save/save_now_net.pth\",\n",
    "                    learning_rate = 0.0001,\n",
    "                    epoch_num = 200,\n",
    "                    verbose_interval = 100, #숫자 크게 하면 꺼짐\n",
    "                    validation_interval = 10, #숫자 크게 하면 꺼짐\n",
    "                    tdBN_on = False,\n",
    "                    BN_on = False,\n",
    "\n",
    "                    surrogate = 'sigmoid',\n",
    "\n",
    "                    gradient_verbose = False,\n",
    "\n",
    "                    BPTT_on = False,\n",
    "\n",
    "                    optimizer_what = 'SGD', # 'SGD' 'Adam', 'RMSprop'\n",
    "                    scheduler_name = 'no',\n",
    "                    \n",
    "                    ddp_on = True,\n",
    "\n",
    "                    nda_net = False,\n",
    "                    \n",
    "                    domain_il_epoch = 0, # over 0, then domain il mode on\n",
    "\n",
    "                    dvs_clipping = 1, \n",
    "                    dvs_duration = 10005,\n",
    "\n",
    "                    OTTT_sWS_on = True, # True # False\n",
    "\n",
    "                    DFA_on = False, # True # False\n",
    "                    OTTT_input_trace_on = False, # True # False\n",
    "                 \n",
    "                    e_transport_swap = 5, # 1 이상이면 해당 숫자 에포크만큼 val_acc_best가 변화가 없으면 e_transport scheme (BP vs DFA) swap\n",
    "                    e_transport_swap_tr = 0, # 1 이상이면 해당 숫자 에포크만큼 val_acc_best가 변화가 없으면 e_transport scheme (BP vs DFA) swap\n",
    "                    e_transport_swap_coin = 0, # swap할 수 있는 coin 개수\n",
    "\n",
    "                    drop_rate = 0.5, \n",
    "\n",
    "                    exclude_class = True, # True # False # gesture에서 10번째 클래스 제외\n",
    "\n",
    "                    merge_polarities = True, # True # False # tonic dvs dataset 에서 polarities 합치기\n",
    "                    denoise_on = True, \n",
    "                    dvs_relative_timestep = True, \n",
    "                    \n",
    "                    I_wanna_sweep_at_this_epoch = -1,\n",
    "                    dvs_duration_domain = [],\n",
    "\n",
    "                    extra_train_dataset = 0,\n",
    "\n",
    "                    num_workers = 2,\n",
    "                    chaching_on = False,\n",
    "                    pin_memory = True, # True # False\n",
    "                    \n",
    "                    UDA_on = False, # True # False\n",
    "                    UDA_data = (25_000,1,False), # (duration, clipping, denoise_on)\n",
    "                    src_trg_ratio = 1,\n",
    "                    adapter_loss_weight = 1.0, # 1.0  # adapter loss의 힘.\n",
    "                    alpha_uda = 1.0,\n",
    "\n",
    "                    temporal_filter = 1, \n",
    "                    initial_pooling = 1,\n",
    "                  ):\n",
    "    ## hyperparameter check #############################################################\n",
    "    if OTTT_sWS_on == True:\n",
    "        assert BPTT_on == False and tdBN_on == False and BN_on == False\n",
    "        if convTrue_fcFalse == False:\n",
    "            assert single_step == True\n",
    "    if single_step == True:\n",
    "        assert BPTT_on == False and tdBN_on == False \n",
    "    if tdBN_on == True:\n",
    "        assert BPTT_on == True\n",
    "    if pre_trained == True:\n",
    "        print('\\n\\n')\n",
    "        print(\"Caution! pre_trained is True\\n\\n\"*3)    \n",
    "    if DFA_on == True:\n",
    "        assert single_step == True and BPTT_on == False and any(isinstance(item, list) for item in cfg) == False\n",
    "    if OTTT_input_trace_on == True:\n",
    "        assert BPTT_on == False and single_step == True\n",
    "    if UDA_on == True:\n",
    "        assert single_step == True and BPTT_on == False and I_wanna_sweep_at_this_epoch == -1 and (e_transport_swap_coin == 0 or (e_transport_swap == 0 and e_transport_swap_tr == 0)) and isinstance(cfg, tuple) == True\n",
    "    if temporal_filter > 1:\n",
    "        assert convTrue_fcFalse == False\n",
    "    if initial_pooling > 1:\n",
    "        pass\n",
    "    ######################################################################################\n",
    "\n",
    "\n",
    "    ## 함수 내 모든 로컬 변수 저장 ########################################################\n",
    "    hyperparameters = locals()\n",
    "    hyperparameters['current epoch'] = 0\n",
    "    ######################################################################################\n",
    "    \n",
    "    args_gpu = None\n",
    "    ## DDP settting ######################################################################\n",
    "    if (ddp_on == True):\n",
    "        parser = argparse.ArgumentParser(description='my_snn CIFAR10 Training')\n",
    "\n",
    "        # # local_rank는 command line에서 따로 줄 필요는 없지만, 선언은 필요\n",
    "        parser.add_argument(\"--local_rank\", default=0, type=int)\n",
    "\n",
    "        args = parser.parse_args() # 이거 적어줘야됨. parser argument선언하고\n",
    "\n",
    "        args.gpu = args.local_rank\n",
    "        args_gpu = args.gpu\n",
    "        torch.cuda.set_device(args.gpu)\n",
    "        torch.distributed.init_process_group(backend=\"nccl\", init_method=\"env://\")\n",
    "        args.world_size = torch.distributed.get_world_size()\n",
    "    #######################################################################################\n",
    "\n",
    "\n",
    "    ## wandb 세팅 ###################################################################\n",
    "    current_time = datetime.datetime.now().strftime(\"%Y%m%d_%H%M%S\")\n",
    "    if (ddp_on == True and torch.distributed.get_rank() != 0):\n",
    "        wandb.finish()\n",
    "    if (ddp_on == False or torch.distributed.get_rank() == 0):\n",
    "        wandb.config.update(hyperparameters)\n",
    "        wandb.run.name = f'lr_{learning_rate}_{unique_name}_{which_data}_tstep{TIME}'\n",
    "        wandb.define_metric(\"summary_val_acc\", summary=\"max\")\n",
    "        wandb.run.log_code(\".\", \n",
    "                           include_fn=lambda path: path.endswith(\".py\") or path.endswith(\".ipynb\"),\n",
    "                           exclude_fn=lambda path: 'logs/' in path or 'net_save/' in path or 'result_save/' in path or 'trying/' in path or 'wandb/' in path or 'private/' in path\n",
    "                           )\n",
    "    ###################################################################################\n",
    "\n",
    "\n",
    "\n",
    "    ## gpu setting ##################################################################################################################\n",
    "    os.environ[\"CUDA_DEVICE_ORDER\"]=\"PCI_BUS_ID\" \n",
    "    os.environ[\"CUDA_VISIBLE_DEVICES\"]= devices\n",
    "    ###################################################################################################################################\n",
    "\n",
    "\n",
    "    ## seed setting ##################################################################################################################\n",
    "    seed_assign(my_seed)\n",
    "    ###################################################################################################################################\n",
    "    \n",
    "\n",
    "    ## data_loader 가져오기 ##################################################################################################################\n",
    "    # data loader, pixel channel, class num\n",
    "    train_loader, test_loader, synapse_conv_in_channels, CLASS_NUM = data_loader(\n",
    "            which_data,\n",
    "            data_path, \n",
    "            rate_coding, \n",
    "            BATCH, \n",
    "            IMAGE_SIZE,\n",
    "            ddp_on,\n",
    "            TIME*temporal_filter, # temporal_filter가 곱해짐.\n",
    "            dvs_clipping,\n",
    "            dvs_duration,\n",
    "            exclude_class,\n",
    "            merge_polarities,\n",
    "            denoise_on,\n",
    "            my_seed,\n",
    "            extra_train_dataset,\n",
    "            num_workers,\n",
    "            chaching_on,\n",
    "            pin_memory,)\n",
    "    synapse_fc_out_features = CLASS_NUM\n",
    "    test_loader_domain_set = []\n",
    "    test_loader_domain_set.append(test_loader)  \n",
    "\n",
    "    if (UDA_on == True):\n",
    "        print('Target domain에 대한 validation set이 이 target domain의 test set이다.')\n",
    "        train_loader_target, _, synapse_conv_in_channels, CLASS_NUM = data_loader(\n",
    "                which_data,\n",
    "                data_path, \n",
    "                rate_coding, \n",
    "                BATCH, \n",
    "                IMAGE_SIZE,\n",
    "                ddp_on,\n",
    "                TIME*temporal_filter,\n",
    "                UDA_data[1],  # dvs_clipping,\n",
    "                UDA_data[0],   # dvs_duration,\n",
    "                exclude_class,\n",
    "                merge_polarities,\n",
    "                UDA_data[2], # denoise_on,\n",
    "                my_seed,\n",
    "                extra_train_dataset,\n",
    "                num_workers,\n",
    "                chaching_on,\n",
    "                pin_memory,)\n",
    "        synapse_fc_out_features = CLASS_NUM\n",
    "    ###########################################################################################################################################\n",
    "    \n",
    "    ## 다른 dvs duration domain을 validation set으로 불러오기 ##############################################################\n",
    "    dvs_duration_domain_temp = []\n",
    "    if len(dvs_duration_domain) > 0:\n",
    "        for domain in dvs_duration_domain:\n",
    "            target_domain_timestep = (dvs_duration*TIME)//domain[0] if dvs_relative_timestep == True else TIME\n",
    "            dvs_duration_domain_temp.append(domain + (target_domain_timestep,))\n",
    "            train_loader_domain, test_loader_domain, synapse_conv_in_channels_domain, CLASS_NUM_domain = data_loader(\n",
    "                    which_data,\n",
    "                    data_path, \n",
    "                    rate_coding, \n",
    "                    BATCH, \n",
    "                    IMAGE_SIZE,\n",
    "                    ddp_on,\n",
    "                    target_domain_timestep*temporal_filter,\n",
    "                    domain[1], # dvs_clipping\n",
    "                    domain[0], # dvs_duration\n",
    "                    exclude_class,\n",
    "                    merge_polarities,\n",
    "                    domain[2], # denoise_on \n",
    "                    my_seed,\n",
    "                    extra_train_dataset,\n",
    "                    num_workers,\n",
    "                    chaching_on,\n",
    "                    pin_memory,)\n",
    "            test_loader_domain_set.append(test_loader_domain)\n",
    "        dvs_duration_domain = dvs_duration_domain_temp\n",
    "    ######################################################################################################################\n",
    "    \n",
    "    ## parameter number calculator (안 중요함) ##################################################################################################################\n",
    "    params_num = 0\n",
    "    img_size = IMAGE_SIZE//initial_pooling\n",
    "    bias_param = 1 # 1 or 0\n",
    "    classifier_making = False\n",
    "    if (UDA_on == True):\n",
    "        print(\"In UDA mode, No parameter number calculation yet.\")\n",
    "        pass\n",
    "    else: \n",
    "        if (convTrue_fcFalse == True):\n",
    "            past_kernel = synapse_conv_in_channels\n",
    "            for kernel in cfg:\n",
    "                if (classifier_making == False):\n",
    "                    if (type(kernel) == list):\n",
    "                        for residual_kernel in kernel:\n",
    "                            if (residual_kernel >= 10000 and residual_kernel < 20000): # separable\n",
    "                                residual_kernel -= 10000\n",
    "                                params_num += (synapse_conv_kernel_size**2 + bias_param) * past_kernel\n",
    "                                params_num += (1**2 * past_kernel + bias_param) * residual_kernel\n",
    "                                past_kernel = residual_kernel  \n",
    "                            elif (residual_kernel >= 20000 and residual_kernel < 30000): # depthwise\n",
    "                                residual_kernel -= 20000\n",
    "                                # 'past_kernel' should be same with 'kernel'\n",
    "                                params_num += (synapse_conv_kernel_size**2 + bias_param) * past_kernel\n",
    "                                past_kernel = residual_kernel  \n",
    "                            else:\n",
    "                                params_num += residual_kernel * ((synapse_conv_kernel_size**2) * past_kernel + bias_param)\n",
    "                                past_kernel = residual_kernel\n",
    "                    elif (kernel == 'P' or kernel == 'M'):\n",
    "                        img_size = img_size // 2\n",
    "                    elif (kernel == 'D'):\n",
    "                        img_size = 1\n",
    "                    elif (kernel == 'L'):\n",
    "                        classifier_making = True\n",
    "                        past_kernel = past_kernel * (img_size**2)\n",
    "                    else:\n",
    "                        if (kernel >= 10000 and kernel < 20000): # separable\n",
    "                            kernel -= 10000\n",
    "                            params_num += (synapse_conv_kernel_size**2 + bias_param) * past_kernel\n",
    "                            params_num += (1**2 * past_kernel + bias_param) * kernel\n",
    "                            past_kernel = kernel  \n",
    "                        elif (kernel >= 20000 and kernel < 30000): # depthwise\n",
    "                            kernel -= 20000\n",
    "                            # 'past_kernel' should be same with 'kernel'\n",
    "                            params_num += (synapse_conv_kernel_size**2 + bias_param) * past_kernel\n",
    "                            past_kernel = kernel  \n",
    "                        else:\n",
    "                            params_num += kernel * (synapse_conv_kernel_size**2 * past_kernel + bias_param)\n",
    "                            past_kernel = kernel    \n",
    "                else: # classifier making\n",
    "                    params_num += (past_kernel + bias_param) * kernel\n",
    "                    past_kernel = kernel\n",
    "            \n",
    "            \n",
    "            if classifier_making == False:\n",
    "                past_kernel = past_kernel*img_size*img_size\n",
    "\n",
    "            params_num += (past_kernel + bias_param) * synapse_fc_out_features\n",
    "        else:\n",
    "            in_channel_compute_temp = synapse_conv_in_channels * temporal_filter\n",
    "            past_in_channel = in_channel_compute_temp*img_size*img_size\n",
    "            for in_channel in cfg:\n",
    "                if (type(in_channel) == list):\n",
    "                    for residual_in_channel in in_channel:\n",
    "                        params_num += (past_in_channel + bias_param) * residual_in_channel\n",
    "                        past_in_channel = residual_in_channel\n",
    "                elif (in_channel == 'P' or in_channel == 'M'):\n",
    "                    img_size = img_size // 2\n",
    "                    past_in_channel = in_channel_compute_temp*img_size*img_size\n",
    "                else:\n",
    "                    params_num += (past_in_channel + bias_param) * in_channel\n",
    "                    past_in_channel = in_channel\n",
    "            params_num += (past_in_channel + bias_param) * synapse_fc_out_features\n",
    "    ###########################################################################################################################################\n",
    "\n",
    "\n",
    "    device = torch.device(\"cuda\" if torch.cuda.is_available() else \"cpu\")\n",
    "    print(f\"\\ndevice ==> {device}\\n\")\n",
    "    if device == \"cpu\":\n",
    "        print(\"=\"*50,\"\\n[WARNING]\\n[WARNING]\\n[WARNING]\\n: cpu mode\\n\\n\",\"=\"*50)\n",
    "\n",
    "    ### network setting #######################################################################################################################\n",
    "    if (convTrue_fcFalse == False):\n",
    "        if (single_step == False):\n",
    "            net = MY_SNN_FC(cfg, synapse_conv_in_channels*temporal_filter, IMAGE_SIZE//initial_pooling, synapse_fc_out_features,\n",
    "                        synapse_fc_trace_const1, synapse_fc_trace_const2, \n",
    "                        lif_layer_v_init, lif_layer_v_decay, \n",
    "                        lif_layer_v_threshold, lif_layer_v_reset,\n",
    "                        lif_layer_sg_width,\n",
    "                        tdBN_on,\n",
    "                        BN_on, TIME,\n",
    "                        surrogate,\n",
    "                        BPTT_on,\n",
    "                        DFA_on,\n",
    "                        drop_rate,\n",
    "                        UDA_on,\n",
    "                        alpha_uda).to(device)\n",
    "        else:\n",
    "            net = MY_SNN_FC_sstep(cfg, synapse_conv_in_channels*temporal_filter, IMAGE_SIZE//initial_pooling, synapse_fc_out_features,\n",
    "                        synapse_fc_trace_const1, synapse_fc_trace_const2, \n",
    "                        lif_layer_v_init, lif_layer_v_decay, \n",
    "                        lif_layer_v_threshold, lif_layer_v_reset,\n",
    "                        lif_layer_sg_width,\n",
    "                        tdBN_on,\n",
    "                        BN_on, TIME,\n",
    "                        surrogate,\n",
    "                        BPTT_on,\n",
    "                        DFA_on,\n",
    "                        OTTT_sWS_on,\n",
    "                        drop_rate,\n",
    "                        UDA_on,\n",
    "                        alpha_uda).to(device)\n",
    "    else:\n",
    "        if (single_step == False):\n",
    "            net = MY_SNN_CONV(cfg, synapse_conv_in_channels, IMAGE_SIZE//initial_pooling,\n",
    "                        synapse_conv_kernel_size, synapse_conv_stride, \n",
    "                        synapse_conv_padding, synapse_conv_trace_const1, \n",
    "                        synapse_conv_trace_const2, \n",
    "                        lif_layer_v_init, lif_layer_v_decay, \n",
    "                        lif_layer_v_threshold, lif_layer_v_reset,\n",
    "                        lif_layer_sg_width,\n",
    "                        synapse_fc_out_features, synapse_fc_trace_const1, synapse_fc_trace_const2,\n",
    "                        tdBN_on,\n",
    "                        BN_on, TIME,\n",
    "                        surrogate,\n",
    "                        BPTT_on,\n",
    "                        OTTT_sWS_on,\n",
    "                        DFA_on,\n",
    "                        drop_rate,\n",
    "                        UDA_on,\n",
    "                        alpha_uda).to(device)\n",
    "        else:\n",
    "            net = MY_SNN_CONV_sstep(cfg, synapse_conv_in_channels, IMAGE_SIZE//initial_pooling,\n",
    "                        synapse_conv_kernel_size, synapse_conv_stride, \n",
    "                        synapse_conv_padding, synapse_conv_trace_const1, \n",
    "                        synapse_conv_trace_const2, \n",
    "                        lif_layer_v_init, lif_layer_v_decay, \n",
    "                        lif_layer_v_threshold, lif_layer_v_reset,\n",
    "                        lif_layer_sg_width,\n",
    "                        synapse_fc_out_features, synapse_fc_trace_const1, synapse_fc_trace_const2,\n",
    "                        tdBN_on,\n",
    "                        BN_on, TIME,\n",
    "                        surrogate,\n",
    "                        BPTT_on,\n",
    "                        OTTT_sWS_on,\n",
    "                        DFA_on,\n",
    "                        drop_rate,\n",
    "                        UDA_on,\n",
    "                        alpha_uda).to(device)\n",
    "    if (nda_net == True):\n",
    "        net = VGG(cfg = cfg, num_classes=10, batch_norm = tdBN_on, in_c = synapse_conv_in_channels, \n",
    "                    lif_layer_v_threshold=lif_layer_v_threshold, lif_layer_v_decay=lif_layer_v_decay, lif_layer_sg_width=lif_layer_sg_width)\n",
    "        net.T = TIME\n",
    "\n",
    "    if ddp_on == False:\n",
    "        net = torch.nn.DataParallel(net) \n",
    "    \n",
    "    if pre_trained == True:\n",
    "        net.load_state_dict(torch.load(pre_trained_path))\n",
    "    \n",
    "    if ddp_on == True:\n",
    "        device = args.gpu\n",
    "        net = net.to(args.gpu)\n",
    "        net = DDP(net, delay_allreduce=True)\n",
    "\n",
    "    net = net.to(device)\n",
    "    if (net_print == True):\n",
    "        if ddp_on == False or torch.distributed.get_rank() == 0:\n",
    "            print(net)    \n",
    "    ####################################################################################################################################\n",
    "    \n",
    "\n",
    "    ## wandb logging ###########################################\n",
    "    if ddp_on == False or torch.distributed.get_rank() == 0:\n",
    "        wandb.watch(net, log=\"all\", log_freq = 10) #gradient, parameter logging해줌\n",
    "    ############################################################\n",
    "\n",
    "    ## param num and memory estimation except BN with MY own calculation some lines above ##########################################\n",
    "    if ddp_on == False or torch.distributed.get_rank() == 0:\n",
    "        real_param_num = sum(p.numel() for p in net.parameters() if p.requires_grad)\n",
    "        if (weight_count_print == True):\n",
    "            for name, param in net.named_parameters():\n",
    "                if param.requires_grad:\n",
    "                    print(f'Layer: {name} | Number of parameters: {param.numel()}')\n",
    "        # Batch norm 있으면 아래 두 개 서로 다를 수 있음.\n",
    "        # assert real_param_num == params_num, f'parameter number is not same. real_param_num: {real_param_num}, params_num: {params_num}'    \n",
    "        print('='*50)\n",
    "        print(f\"My Num of PARAMS: {params_num:,}, system's param_num : {real_param_num:,}\")\n",
    "        memory = params_num / 8 / 1024 / 1024 # MB\n",
    "        precision = 32\n",
    "        memory = memory * precision \n",
    "        print(f\"Memory: {memory:.2f}MiB at {precision}-bit\")\n",
    "        print('='*50)\n",
    "    ##############################################################################################################################\n",
    "\n",
    "\n",
    "\n",
    "    ## criterion ########################################## # loss 구해주는 친구\n",
    "    criterion = nn.CrossEntropyLoss().to(device)\n",
    "    if (OTTT_sWS_on == True):\n",
    "        # criterion = nn.CrossEntropyLoss().to(device)\n",
    "        criterion = lambda y_t, target_t: ((1 - 0.05) * F.cross_entropy(y_t, target_t) + 0.05 * F.mse_loss(y_t, F.one_hot(target_t, CLASS_NUM).float())) / TIME \n",
    "        if which_data == 'DVS_GESTURE':\n",
    "            criterion = lambda y_t, target_t: ((1 - 0.001) * F.cross_entropy(y_t, target_t) + 0.001 * F.mse_loss(y_t, F.one_hot(target_t, CLASS_NUM).float())) / TIME \n",
    "    ####################################################\n",
    "    \n",
    "\n",
    "\n",
    "\n",
    "    ## optimizer, scheduler ########################################################################\n",
    "    if(optimizer_what == 'SGD'):\n",
    "        # optimizer = optim.SGD(net.parameters(), lr=learning_rate, momentum=0.9)\n",
    "        optimizer = optim.SGD(net.parameters(), lr=learning_rate, momentum=0.9, weight_decay=0)\n",
    "    elif(optimizer_what == 'Adam'):\n",
    "        optimizer = torch.optim.Adam(net.parameters(), lr=learning_rate)\n",
    "        # optimizer = torch.optim.Adam(net.parameters(), lr=0.00001)\n",
    "        # optimizer = torch.optim.Adam(net.parameters(), lr=learning_rate/256 * BATCH, weight_decay=1e-4)\n",
    "        # optimizer = optim.Adam(net.parameters(), lr=learning_rate, weight_decay=0, betas=(0.9, 0.999))\n",
    "    elif(optimizer_what == 'RMSprop'):\n",
    "        pass\n",
    "\n",
    "\n",
    "    if (scheduler_name == 'StepLR'):\n",
    "        scheduler = lr_scheduler.StepLR(optimizer, step_size=10, gamma=0.1)\n",
    "    elif (scheduler_name == 'ExponentialLR'):\n",
    "        scheduler = lr_scheduler.ExponentialLR(optimizer, gamma=0.95)\n",
    "    elif (scheduler_name == 'ReduceLROnPlateau'):\n",
    "        scheduler = lr_scheduler.ReduceLROnPlateau(optimizer, mode='min', factor=0.1, patience=10)\n",
    "    elif (scheduler_name == 'CosineAnnealingLR'):\n",
    "        # scheduler = lr_scheduler.CosineAnnealingLR(optimizer, eta_min=0, T_max=50)\n",
    "        scheduler = torch.optim.lr_scheduler.CosineAnnealingLR(optimizer, eta_min=0, T_max=epoch_num)\n",
    "    elif (scheduler_name == 'OneCycleLR'):\n",
    "        scheduler = lr_scheduler.OneCycleLR(optimizer, max_lr=0.1, steps_per_epoch=len(train_loader), epochs=epoch_num)\n",
    "    else:\n",
    "        pass # 'no' scheduler\n",
    "    ## optimizer, scheduler ########################################################################\n",
    "\n",
    "\n",
    "    tr_acc = 0\n",
    "    tr_correct = 0\n",
    "    tr_total = 0\n",
    "    tr_acc_best = 0\n",
    "    tr_epoch_loss_temp = 0\n",
    "    tr_epoch_loss = 0\n",
    "    val_acc_best = 0\n",
    "    val_acc_now = 0\n",
    "    val_loss = 0\n",
    "    elapsed_time_val = 0\n",
    "    no_val_best_growth_count = 0\n",
    "    no_tr_best_growth_count = 0\n",
    "    iter_acc_array = np.array([])\n",
    "    tr_acc_array = np.array([])\n",
    "    val_acc_now_array = np.array([])\n",
    "    DFA_current = DFA_on\n",
    "    DFA_toggle = False\n",
    "    DFA_flag = 1.0 if DFA_current == True else 0.0\n",
    "    DFA_BP_toggle_trial = 0\n",
    "    iter_of_val = False\n",
    "    tr_acc_target = 0\n",
    "    tr_correct_target = 0\n",
    "    tr_total_target = 0\n",
    "    tr_acc_best_target = 0\n",
    "    tr_epoch_loss_temp_target = 0\n",
    "    tr_epoch_loss_target = 0\n",
    "    tr_epoch_loss_temp_domain = 0\n",
    "    tr_epoch_loss_domain = 0\n",
    "    tr_acc_domain = 0\n",
    "    tr_correct_domain = 0\n",
    "    tr_total_domain = 0\n",
    "    #======== EPOCH START ==========================================================================================\n",
    "    for epoch in range(epoch_num):\n",
    "        if (I_wanna_sweep_at_this_epoch == epoch):\n",
    "            net = BP_DFA_SWAP(net, convTrue_fcFalse, single_step, ddp_on, args_gpu)\n",
    "            no_val_best_growth_count = 0\n",
    "            DFA_current = not DFA_current\n",
    "            DFA_toggle = True\n",
    "            DFA_BP_toggle_trial = DFA_BP_toggle_trial + 1\n",
    "        else:\n",
    "            if (e_transport_swap > 0 or e_transport_swap_tr > 0):\n",
    "                assert not (e_transport_swap > 0 and e_transport_swap_tr > 0)\n",
    "                if e_transport_swap > 0 and no_val_best_growth_count == e_transport_swap :\n",
    "                    if DFA_BP_toggle_trial < e_transport_swap_coin:\n",
    "                        net = BP_DFA_SWAP(net, convTrue_fcFalse, single_step, ddp_on, args_gpu)\n",
    "                        no_val_best_growth_count = 0\n",
    "                        DFA_current = not DFA_current\n",
    "                        DFA_toggle = True\n",
    "                        DFA_BP_toggle_trial = DFA_BP_toggle_trial + 1\n",
    "                if e_transport_swap_tr > 0 and no_tr_best_growth_count == e_transport_swap_tr:\n",
    "                    if DFA_BP_toggle_trial < e_transport_swap_coin:\n",
    "                        net = BP_DFA_SWAP(net, convTrue_fcFalse, single_step, ddp_on, args_gpu)\n",
    "                        no_tr_best_growth_count = 0\n",
    "                        DFA_current = not DFA_current\n",
    "                        DFA_toggle = True\n",
    "                        DFA_BP_toggle_trial = DFA_BP_toggle_trial + 1\n",
    "\n",
    "        if ddp_on == False or torch.distributed.get_rank() == 0:\n",
    "            # print('EPOCH', epoch)\n",
    "            pass\n",
    "        epoch_start_time = time.time()\n",
    "\n",
    "        # if (domain_il_epoch>0 and which_data == 'PMNIST'):\n",
    "        #     k = epoch // domain_il_epoch\n",
    "        #     xtrain=data[k]['train']['x']\n",
    "        #     ytrain=data[k]['train']['y']\n",
    "        #     xtest =data[k]['test']['x']\n",
    "        #     ytest =data[k]['test']['y']\n",
    "\n",
    "        ####### iterator : input_loading & tqdm을 통한 progress_bar 생성###################\n",
    "        iterator = enumerate(train_loader, 0)\n",
    "        if (UDA_on == True):\n",
    "            iterator_target = enumerate(train_loader_target, 0)\n",
    "\n",
    "        if ddp_on == False or torch.distributed.get_rank() == 0:  \n",
    "            iterator = tqdm(iterator, total=len(train_loader), desc='train', dynamic_ncols=True, position=0, leave=True)\n",
    "        ##################################################################################   \n",
    "        \n",
    "        #### validation_interval이 batch size보다 작을 시 validation_interval을 batch size로 맞춰줌#############\n",
    "        validation_interval2 = validation_interval\n",
    "        if (validation_interval > len(train_loader)):\n",
    "            validation_interval2 = len(train_loader)\n",
    "        ##################################################################################################\n",
    "\n",
    "\n",
    "        ###### ITERATION START ##########################################################################################################\n",
    "        for i, data in iterator:\n",
    "            if UDA_on == True:\n",
    "                if i % (src_trg_ratio+1) == 1: # target unlabeled fine tuning iteration\n",
    "                    data = next(iterator_target)[1]\n",
    "                    net.UDA_classifier_on = False\n",
    "                else:\n",
    "                    net.UDA_classifier_on = True\n",
    "            iter_one_train_time_start = time.time()\n",
    "            net.train() # train 모드로 바꿔줘야함\n",
    "\n",
    "            ### data loading & semi-pre-processing ################################################################################\n",
    "            if len(data) == 2:\n",
    "                inputs, labels = data\n",
    "                # 처리 로직 작성\n",
    "            elif len(data) == 3:\n",
    "                inputs, labels, x_len = data\n",
    "                # print('x_len',x_len)\n",
    "                # mask = padded_sequence_mask(x_len)\n",
    "                # max_time_step = x_len.max()\n",
    "                # min_time_step = x_len.min()\n",
    "            else:\n",
    "                assert False, 'data length is not 2 or 3'\n",
    "            #######################################################################################################################\n",
    "                \n",
    "            ## batch 크기 ######################################\n",
    "            real_batch = labels.size(0)\n",
    "            ###########################################################\n",
    "\n",
    "            # 차원 전처리\n",
    "            ###########################################################################################################################        \n",
    "            if (which_data == 'n_tidigits'):\n",
    "                inputs = inputs.permute(0, 1, 3, 2, 4)\n",
    "                labels = labels[:, 0, :]\n",
    "                labels = torch.argmax(labels, dim=1)\n",
    "            elif (which_data == 'heidelberg'):\n",
    "                inputs = inputs.view(5, 1000, 1, 700, 1)\n",
    "                print(\"\\n\\n\\n경고!!!! heidelberg 이거 타임스텝이랑 채널 잘 바꿔줘라!!!\\n\\n\\n\\n\")\n",
    "            # print('inputs',inputs.size(),'\\nlabels',labels.size())\n",
    "            # print(labels)\n",
    "                \n",
    "            if (which_data == 'DVS_CIFAR10' or which_data == 'DVS_GESTURE' or which_data == 'DVS_GESTURE_TONIC' or which_data == 'DVS_CIFAR10_2' or which_data == 'NMNIST' or which_data == 'NMNIST_TONIC' or which_data == 'N_CALTECH101' or which_data == 'n_tidigits' or which_data == 'heidelberg'):\n",
    "                inputs = inputs.permute(1, 0, 2, 3, 4)\n",
    "            elif rate_coding == True :\n",
    "                inputs = spikegen.rate(inputs, num_steps=TIME)\n",
    "            else :\n",
    "                inputs = inputs.repeat(TIME, 1, 1, 1, 1)\n",
    "            # inputs: [Time, Batch, Channel, Height, Width]  \n",
    "                \n",
    "            ## initial pooling #######################################################################\n",
    "            if (initial_pooling > 1):\n",
    "                pool = nn.MaxPool2d(kernel_size=2)\n",
    "                num_pooling_layers = int(math.log2(initial_pooling))\n",
    "                # Time, Batch, Channel 차원은 그대로 두고, Height, Width 차원에 대해서만 pooling 적용\n",
    "                shape_temp = inputs.shape\n",
    "                inputs = inputs.reshape(shape_temp[0]*shape_temp[1], shape_temp[2], shape_temp[3], shape_temp[4])\n",
    "                for _ in range(num_pooling_layers):\n",
    "                    inputs = pool(inputs)\n",
    "                inputs = inputs.reshape(shape_temp[0], shape_temp[1], shape_temp[2], shape_temp[3]//initial_pooling, shape_temp[4]//initial_pooling)\n",
    "            ## initial pooling #######################################################################\n",
    "            ## temporal filtering ####################################################################\n",
    "            shape_temp = inputs.shape\n",
    "            if (temporal_filter > 1):\n",
    "                slice_bucket = []\n",
    "                for t_temp in range(TIME):\n",
    "                    start = t_temp * temporal_filter\n",
    "                    end = start + temporal_filter\n",
    "                    slice_concat = torch.movedim(inputs[start:end], 0, 1).reshape(shape_temp[1],shape_temp[2],shape_temp[3],-1)\n",
    "                    slice_bucket.append(slice_concat)\n",
    "                inputs = torch.stack(slice_bucket, dim=0)\n",
    "            ## temporal filtering ####################################################################\n",
    "            ####################################################################################################################### \n",
    "                \n",
    "            \n",
    "            # # dvs 데이터 시각화 코드 (확인 필요할 시 써라)\n",
    "            # ##############################################################################################\n",
    "            # dvs_visualization(inputs, labels, TIME, BATCH, my_seed)\n",
    "            # #####################################################################################################\n",
    "\n",
    "            ## to (device) #######################################\n",
    "            inputs = inputs.to(device)\n",
    "            labels = labels.to(device)\n",
    "            ###########################################################\n",
    "\n",
    "\n",
    "            ## gradient 초기화 #######################################\n",
    "            optimizer.zero_grad()\n",
    "            ###########################################################\n",
    "            \n",
    "            ## DVS gesture에서 other label자리 매꾸기 ###############\n",
    "            if (which_data == 'DVS_GESTURE'):\n",
    "                labels[labels>2] -= 1\n",
    "            #######################################################         \n",
    "                               \n",
    "            if merge_polarities == True:\n",
    "                inputs = inputs[:,:,0,:,:]\n",
    "\n",
    "            if single_step == False:\n",
    "                # net에 넣어줄때는 batch가 젤 앞 차원으로 와야함. # dataparallel때매##############################\n",
    "                # inputs: [Time, Batch, Channel, Height, Width]   \n",
    "                inputs = inputs.permute(1, 0, 2, 3, 4) # net에 넣어줄때는 batch가 젤 앞 차원으로 와야함. # dataparallel때매\n",
    "                # inputs: [Batch, Time, Channel, Height, Width] \n",
    "                #################################################################################################\n",
    "            else:\n",
    "                labels = labels.repeat(TIME, 1)\n",
    "                ## first input도 ottt trace 적용하기 위한 코드 (validation 시에는 필요X) ##########################\n",
    "                if OTTT_input_trace_on == True:\n",
    "                    spike = inputs\n",
    "                    trace = torch.full_like(spike, fill_value = 0.0, dtype = torch.float, requires_grad=False)\n",
    "                    inputs = []\n",
    "                    for t in range(TIME):\n",
    "                        trace[t] = trace[t-1]*synapse_conv_trace_const2 + spike[t]*synapse_conv_trace_const1\n",
    "                        inputs += [[spike[t], trace[t]]]\n",
    "                ##################################################################################################\n",
    "\n",
    "\n",
    "            if single_step == False:\n",
    "                ### input --> net --> output #####################################################\n",
    "                outputs = net(inputs)\n",
    "                ##################################################################################\n",
    "                ## loss, backward ##########################################\n",
    "                iter_loss = criterion(outputs, labels)\n",
    "                iter_loss.backward()\n",
    "                ############################################################\n",
    "                ## weight 업데이트!! ##################################\n",
    "                optimizer.step()\n",
    "                ################################################################\n",
    "            else:\n",
    "                if UDA_on == False:\n",
    "                    outputs_all = []\n",
    "                    iter_loss = 0.0\n",
    "                    for t in range(TIME):\n",
    "                        ### input[t] --> net --> output_one_time #########################################\n",
    "                        outputs_one_time = net(inputs[t])\n",
    "                        ##################################################################################\n",
    "                        one_time_loss = criterion(outputs_one_time, labels[t].contiguous())\n",
    "                        one_time_loss.backward() # one_time backward\n",
    "                        iter_loss += one_time_loss.data\n",
    "                        outputs_all.append(outputs_one_time.detach())\n",
    "                    optimizer.step() # full step time update\n",
    "                    outputs_all = torch.stack(outputs_all, dim=1)\n",
    "                    outputs = outputs_all.mean(1) # ottt꺼 쓸때\n",
    "                    labels = labels[0]\n",
    "                    iter_loss /= TIME\n",
    "                else:\n",
    "                    ## 근데 생각해보니까 걍 target에서 classifier만 backward 안 해주면 되는 거 아니냐\n",
    "\n",
    "                    iter_loss_domain = 0.0\n",
    "                    outputs_all = []\n",
    "                    outputs_all_domain = []\n",
    "                    iter_loss = 0.0\n",
    "\n",
    "                    if net.UDA_classifier_on == True:\n",
    "                        domain_labels = torch.full((TIME, real_batch), 1).to(device)\n",
    "                    else:\n",
    "                        domain_labels = torch.full((TIME, real_batch), 0).to(device)\n",
    "                        \n",
    "                    for t in range(TIME):\n",
    "                        ### input[t] --> net --> output_one_time #########################################\n",
    "                        outputs_one_time, UDA_adpater_out = net(inputs[t])\n",
    "                        one_time_loss_classifier = criterion(outputs_one_time, labels[t].contiguous())\n",
    "                        one_time_loss_domain = criterion(UDA_adpater_out, domain_labels[t].contiguous())\n",
    "                        one_time_loss_backward = one_time_loss_domain * adapter_loss_weight\n",
    "                        if net.UDA_classifier_on == True:\n",
    "                            one_time_loss_backward += one_time_loss_classifier\n",
    "                        one_time_loss_backward.backward() # one_time backward\n",
    "                        iter_loss += one_time_loss_classifier.data\n",
    "                        iter_loss_domain += one_time_loss_domain.data\n",
    "                        outputs_all.append(outputs_one_time.detach())\n",
    "                        outputs_all_domain.append(UDA_adpater_out.detach())\n",
    "                        ##################################################################################\n",
    "                    optimizer.step() # full step time update\n",
    "                    outputs_all = torch.stack(outputs_all, dim=1)\n",
    "                    outputs = outputs_all.mean(1) # ottt꺼 쓸때\n",
    "                    labels = labels[0]\n",
    "                    outputs_all_domain = torch.stack(outputs_all_domain, dim=1)\n",
    "                    outputs_domain = outputs_all_domain.mean(1) # ottt꺼 쓸때\n",
    "                    domain_labels = domain_labels[0]\n",
    "                    iter_loss /= TIME\n",
    "                    iter_loss_domain /= TIME\n",
    "\n",
    "            if UDA_on == False:\n",
    "                tr_epoch_loss_temp += iter_loss.data/len(train_loader)\n",
    "            else: \n",
    "                if (net.UDA_classifier_on == True):\n",
    "                    tr_epoch_loss_temp += iter_loss.data/(len(train_loader)*src_trg_ratio/(src_trg_ratio+1))\n",
    "                else:\n",
    "                    tr_epoch_loss_temp_target += iter_loss.data/(len(train_loader)*1/(src_trg_ratio+1))\n",
    "                tr_epoch_loss_temp_domain += iter_loss.data/len(train_loader)\n",
    "\n",
    "            ## net 그림 출력해보기 #################################################################\n",
    "            # print('시각화')\n",
    "            # make_dot(outputs, params=dict(list(net.named_parameters()))).render(\"net_torchviz\", format=\"png\")\n",
    "            # return 0\n",
    "            ##################################################################################\n",
    "\n",
    "            #### batch 어긋남 방지 ###############################################\n",
    "            assert real_batch == outputs.size(0), f'batch size is not same. real_batch: {real_batch}, outputs.size(0): {outputs.size(0)}'\n",
    "            #######################################################################\n",
    "            \n",
    "\n",
    "            if UDA_on == False:\n",
    "                ####### training accruacy save for print ###############################\n",
    "                _, predicted = torch.max(outputs.data, 1)\n",
    "                total = real_batch\n",
    "                correct = (predicted == labels).sum().item()\n",
    "                iter_acc = correct / total\n",
    "                tr_total += total\n",
    "                tr_correct += correct\n",
    "                if i % verbose_interval == verbose_interval-1:\n",
    "                    if ddp_on == False or torch.distributed.get_rank() == 0:\n",
    "                        print(f'{epoch}-{i} training acc: {100 * iter_acc:.2f}%, lr={[f\"{lr}\" for lr in (param_group[\"lr\"] for param_group in optimizer.param_groups)]}, val_acc: {100 * val_acc_now:.2f}%')\n",
    "                iter_acc_string = f'epoch-{epoch:<3} iter_acc:{100 * iter_acc:7.2f}%, lr={[f\"{lr:9.7f}\" for lr in (param_group[\"lr\"] for param_group in optimizer.param_groups)]}'\n",
    "                iter_acc_string2 = f'epoch-{epoch:<3} lr={[f\"{lr:9.7f}\" for lr in (param_group[\"lr\"] for param_group in optimizer.param_groups)]}'\n",
    "                ################################################################\n",
    "            else:\n",
    "                ####### training accruacy save for print ###############################\n",
    "                _, predicted = torch.max(outputs.data, 1)\n",
    "                _, predicted_domain = torch.max(outputs_domain.data, 1)\n",
    "                total = real_batch\n",
    "                correct = (predicted == labels).sum().item()\n",
    "                correct_domain = (predicted_domain == domain_labels).sum().item()\n",
    "                iter_acc = correct / total\n",
    "                iter_acc_domain = correct_domain / total\n",
    "                if (net.UDA_classifier_on == True):\n",
    "                    tr_total += total\n",
    "                    tr_correct += correct\n",
    "                else:\n",
    "                    tr_total_target += total\n",
    "                    tr_correct_target += correct\n",
    "                tr_correct_domain += correct_domain\n",
    "                tr_total_domain += total\n",
    "\n",
    "                if i % verbose_interval == verbose_interval-1:\n",
    "                    if ddp_on == False or torch.distributed.get_rank() == 0:\n",
    "                        print(f'{epoch}-{i} training acc: {100 * iter_acc:.2f}%, lr={[f\"{lr}\" for lr in (param_group[\"lr\"] for param_group in optimizer.param_groups)]}, val_acc: {100 * val_acc_now:.2f}%')\n",
    "                iter_acc_string = f'epoch-{epoch:<3} iter_acc:{100 * iter_acc:7.2f}%, lr={[f\"{lr:9.7f}\" for lr in (param_group[\"lr\"] for param_group in optimizer.param_groups)]}'\n",
    "                iter_acc_string2 = f'epoch-{epoch:<3} lr={[f\"{lr:9.7f}\" for lr in (param_group[\"lr\"] for param_group in optimizer.param_groups)]}'\n",
    "                ################################################################\n",
    "\n",
    "            \n",
    "\n",
    "\n",
    "\n",
    "\n",
    "            iter_one_train_time_end = time.time()\n",
    "            elapsed_time = iter_one_train_time_end - iter_one_train_time_start  # 실행 시간 계산\n",
    "\n",
    "            if (i % verbose_interval == verbose_interval-1):\n",
    "                if ddp_on == False or torch.distributed.get_rank() == 0:\n",
    "                    print(f\"iter_one_train_time: {elapsed_time} seconds, last one_val_time: {elapsed_time_val} seconds\\n\")\n",
    "            \n",
    "            ##### validation ##################################################################################################################################\n",
    "            if i % validation_interval2 == validation_interval2-1:\n",
    "                iter_one_val_time_start = time.time()\n",
    "                tr_acc = tr_correct/tr_total\n",
    "                tr_correct = 0\n",
    "                tr_total = 0\n",
    "                if UDA_on == True:\n",
    "                    tr_acc_target = tr_correct_target/tr_total_target\n",
    "                    tr_correct_target = 0\n",
    "                    tr_total_target = 0\n",
    "                    tr_acc_domain = tr_correct_domain/tr_total_domain\n",
    "                    tr_correct_domain = 0\n",
    "                    tr_total_domain = 0\n",
    "\n",
    "                domain_index = 0\n",
    "                val_loss_set = []\n",
    "                val_acc_now_set = []\n",
    "                while True:\n",
    "                    val_loss = 0\n",
    "                    correct_val = 0\n",
    "                    total_val = 0\n",
    "                    test_loader = test_loader_domain_set[domain_index]\n",
    "                    domain_index = domain_index + 1\n",
    "\n",
    "                    with torch.no_grad():\n",
    "                        net.eval() # eval 모드로 바꿔줘야함 \n",
    "                        for data_val in test_loader:\n",
    "                            ## data_val loading & semi-pre-processing ##########################################################\n",
    "                            if len(data_val) == 2:\n",
    "                                inputs_val, labels_val = data_val\n",
    "                                # 처리 로직 작성\n",
    "                            elif len(data_val) == 3:\n",
    "                                inputs_val, labels_val, x_len = data_val\n",
    "                                # print('x_len',x_len)\n",
    "                                # mask = padded_sequence_mask(x_len)\n",
    "                                # max_time_step = x_len.max()\n",
    "                                # min_time_step = x_len.min()\n",
    "                                # B, T, *spatial_dims = inputs_val.shape\n",
    "                            else:\n",
    "                                assert False, 'data_val length is not 2 or 3'\n",
    "\n",
    "                            if (which_data == 'DVS_CIFAR10' or which_data == 'DVS_GESTURE' or which_data == 'DVS_GESTURE_TONIC' or which_data == 'DVS_CIFAR10_2' or which_data == 'NMNIST' or which_data == 'NMNIST_TONIC' or which_data == 'N_CALTECH101' or which_data == 'n_tidigits' or which_data == 'heidelberg'):\n",
    "                                inputs_val = inputs_val.permute(1, 0, 2, 3, 4)\n",
    "                            elif rate_coding == True :\n",
    "                                inputs_val = spikegen.rate(inputs_val, num_steps=TIME)\n",
    "                            else :\n",
    "                                inputs_val = inputs_val.repeat(TIME, 1, 1, 1, 1)\n",
    "                            # inputs_val: [Time, Batch, Channel, Height, Width]  \n",
    "                            ###################################################################################################\n",
    "                            \n",
    "                            ## initial pooling #######################################################################\n",
    "                            if (initial_pooling > 1):\n",
    "                                pool = nn.MaxPool2d(kernel_size=2)\n",
    "                                num_pooling_layers = int(math.log2(initial_pooling))\n",
    "                                # Time, Batch, Channel 차원은 그대로 두고, Height, Width 차원에 대해서만 pooling 적용\n",
    "                                shape_temp = inputs_val.shape\n",
    "                                inputs_val = inputs_val.reshape(shape_temp[0]*shape_temp[1], shape_temp[2], shape_temp[3], shape_temp[4])\n",
    "                                for _ in range(num_pooling_layers):\n",
    "                                    inputs_val = pool(inputs_val)\n",
    "                                inputs_val = inputs_val.reshape(shape_temp[0], shape_temp[1], shape_temp[2], shape_temp[3]//initial_pooling, shape_temp[4]//initial_pooling)\n",
    "                            ## initial pooling #######################################################################\n",
    "\n",
    "                            ## temporal filtering ####################################################################\n",
    "                            shape_temp = inputs_val.shape\n",
    "                            if (temporal_filter > 1):\n",
    "                                slice_bucket = []\n",
    "                                for t_temp in range(TIME):\n",
    "                                    start = t_temp * temporal_filter\n",
    "                                    end = start + temporal_filter\n",
    "                                    slice_concat = torch.movedim(inputs_val[start:end], 0, 1).reshape(shape_temp[1],shape_temp[2],shape_temp[3],-1)\n",
    "                                    slice_bucket.append(slice_concat)\n",
    "                                inputs_val = torch.stack(slice_bucket, dim=0)\n",
    "                            ## temporal filtering ####################################################################\n",
    "                            \n",
    "                            inputs_val = inputs_val.to(device)\n",
    "                            labels_val = labels_val.to(device)\n",
    "                            real_batch = labels_val.size(0)\n",
    "                            \n",
    "                            ## DVS gesture에서 other label자리 매꾸기 ###############\n",
    "                            if (which_data == 'DVS_GESTURE'):\n",
    "                                labels_val[labels_val>2] -= 1\n",
    "                            #######################################################\n",
    "                            \n",
    "                            if merge_polarities == True:\n",
    "                                inputs_val = inputs_val[:,:,0,:,:]\n",
    "\n",
    "                            ## network 연산 시작 ############################################################################################################\n",
    "                            if single_step == False:\n",
    "                                outputs = net(inputs_val.permute(1, 0, 2, 3, 4)) #inputs_val: [Batch, Time, Channel, Height, Width]  \n",
    "                                val_loss_val += criterion(outputs, labels_val)/len(test_loader)\n",
    "                            else:\n",
    "                                outputs_all = []\n",
    "                                if UDA_on == True:\n",
    "                                    net.UDA_classifier_on = True\n",
    "                                for t in range(TIME):\n",
    "                                    outputs = net(inputs_val[t])\n",
    "                                    if UDA_on == True:\n",
    "                                        outputs = outputs[0] # classifier의 output만 사용.\n",
    "                                    val_loss_temp = criterion(outputs, labels_val)\n",
    "                                    outputs_all.append(outputs.detach())\n",
    "                                    val_loss += (val_loss_temp.data/TIME)/len(test_loader)\n",
    "                                outputs_all = torch.stack(outputs_all, dim=1)\n",
    "                                outputs = outputs_all.mean(1)\n",
    "                            val_loss_set.append(val_loss)\n",
    "                            #################################################################################################################################\n",
    "\n",
    "                            _, predicted = torch.max(outputs.data, 1)\n",
    "                            total_val += real_batch\n",
    "                            assert real_batch == outputs.size(0), f'batch size is not same. real_batch: {real_batch}, outputs.size(0): {outputs.size(0)}'\n",
    "                            correct_val += (predicted == labels_val).sum().item()\n",
    "\n",
    "                        val_acc_now = correct_val / total_val\n",
    "                        # print(f'{epoch}-{i} validation acc: {100 * val_acc_now:.2f}%, lr={[f\"{lr:.10f}\" for lr in (param_group[\"lr\"] for param_group in optimizer.param_groups)]}')\n",
    "                        val_acc_now_set.append(val_acc_now)\n",
    "\n",
    "                    if domain_index == len(dvs_duration_domain) + 1:\n",
    "                        break\n",
    "\n",
    "                val_loss = val_loss_set[0]\n",
    "                val_acc_now = val_acc_now_set[0]\n",
    "\n",
    "                iter_one_val_time_end = time.time()\n",
    "                elapsed_time_val = iter_one_val_time_end - iter_one_val_time_start  # 실행 시간 계산\n",
    "                # print(f\"iter_one_val_time: {elapsed_time_val} seconds\")\n",
    "\n",
    "                # network save\n",
    "                if val_acc_best < val_acc_now:\n",
    "                    val_acc_best = val_acc_now\n",
    "                    if ddp_on == False or torch.distributed.get_rank() == 0:\n",
    "                        # wandb 키면 state_dict아닌거는 저장 안됨\n",
    "                        torch.save(net.state_dict(), f\"net_save/save_now_net_weights_{unique_name}.pth\")\n",
    "                        # torch.save(net, f\"net_save/save_now_net_{unique_name}.pth\")\n",
    "                        # torch.save(net.module.state_dict(), f\"net_save/save_now_net_weights2_{unique_name}.pth\")\n",
    "                        # torch.save(net.module, f\"net_save/save_now_net2_{unique_name}.pth\")\n",
    "                    no_val_best_growth_count = 0\n",
    "                else:\n",
    "                    no_val_best_growth_count = no_val_best_growth_count + 1\n",
    "\n",
    "                if tr_acc_best < tr_acc:\n",
    "                    tr_acc_best = tr_acc\n",
    "                    no_tr_best_growth_count = 0\n",
    "                else:\n",
    "                    no_tr_best_growth_count = no_tr_best_growth_count + 1\n",
    "\n",
    "                tr_epoch_loss = tr_epoch_loss_temp\n",
    "                tr_epoch_loss_temp = 0\n",
    "                tr_epoch_loss_target = tr_epoch_loss_temp_target \n",
    "                tr_epoch_loss_temp_target = 0\n",
    "                tr_epoch_loss_domain = tr_epoch_loss_temp_domain\n",
    "                tr_epoch_loss_temp_domain = 0\n",
    "                if (UDA_on == True):\n",
    "                    print(f\"Domain loss,acc: {tr_epoch_loss_domain:.6f}, {100 * tr_acc_domain:.2f}% Target domain: tr_loss-{tr_epoch_loss_target:.6f}, tr_acc-{100 * tr_acc_target:.2f}%\")\n",
    "\n",
    "                if DFA_toggle == True:\n",
    "                    DFA_flag = 1.0 - DFA_flag\n",
    "                    DFA_toggle = False\n",
    "\n",
    "                iter_of_val = True\n",
    "            ####################################################################################################################################################\n",
    "            \n",
    "            ## progress bar update ############################################################################################################\n",
    "            if ddp_on == False or torch.distributed.get_rank() == 0:\n",
    "                if iter_of_val == False:\n",
    "                    iterator.set_description(f\"{iter_acc_string}, iter_loss:{iter_loss:10.6f}, val_best:{100 * val_acc_best:7.2f}%\")  \n",
    "                else:\n",
    "                    iterator.set_description(f\"{iter_acc_string2}, tr/val_loss:{tr_epoch_loss:10.6f}/{val_loss:10.6f}, tr:{100 * tr_acc:7.2f}%, val:{100 * val_acc_now:7.2f}%, val_best:{100 * val_acc_best:7.2f}%\")  \n",
    "\n",
    "                    if len(dvs_duration_domain) > 0:\n",
    "                        dvs_duration_full = [(dvs_duration, dvs_clipping, denoise_on, TIME)] + dvs_duration_domain\n",
    "                        print(\" | \".join(f\"{dvs_duration_full[d_count][0]:,}c{dvs_duration_full[d_count][1]}d{dvs_duration_full[d_count][2]}t{dvs_duration_full[d_count][3]}:{val_acc_now_set[d_count]*100:.2f}%\" for d_count in range(len(val_acc_now_set))))\n",
    "                    iter_of_val = False\n",
    "            \n",
    "            ####################################################################################################################################\n",
    "            \n",
    "            ## wandb logging ############################################################################################################\n",
    "            if ddp_on == False or torch.distributed.get_rank() == 0:\n",
    "                wandb.log({\"iter_acc\": iter_acc})\n",
    "                wandb.log({\"tr_acc\": tr_acc})\n",
    "                wandb.log({\"val_acc_now\": val_acc_now})\n",
    "                wandb.log({\"val_acc_best\": val_acc_best})\n",
    "                wandb.log({\"summary_val_acc\": val_acc_now})\n",
    "                wandb.log({\"epoch\": epoch})\n",
    "                wandb.log({\"DFA_flag\": DFA_flag}) # DFA mode 바뀌자 마자 바뀌는 게 아니고 validation 한번 했을 때 바뀜.\n",
    "                wandb.log({\"val_loss\": val_loss}) \n",
    "                wandb.log({\"tr_epoch_loss\": tr_epoch_loss}) \n",
    "            ####################################################################################################################################\n",
    "            \n",
    "            \n",
    "            ## accuray 로컬에 저장 하기 위한 코드 #####################################################################################\n",
    "            iter_acc_array = np.append(iter_acc_array, iter_acc)\n",
    "            tr_acc_array = np.append(tr_acc_array, tr_acc)\n",
    "            val_acc_now_array = np.append(val_acc_now_array, val_acc_now)\n",
    "            base_name = f'{current_time}'\n",
    "            ####################################################################################################################\n",
    "            \n",
    "            iter_acc_file_name_time = f'result_save/{base_name}_iter_acc_array_{unique_name}.npy'\n",
    "            tr_acc_file_name_time = f'result_save/{base_name}_tr_acc_array_{unique_name}.npy'\n",
    "            val_acc_file_name_time = f'result_save/{base_name}_val_acc_now_array_{unique_name}.npy'\n",
    "            hyperparameters_file_name_time = f'result_save/{base_name}_hyperparameters_{unique_name}.json'\n",
    "\n",
    "            hyperparameters['current epoch'] = epoch\n",
    "\n",
    "            ### accuracy 세이브: 덮어쓰기 하기 싫으면 주석 풀어서 사용 (시간마다 새로 쓰기) 비추천 ########################\n",
    "            # if ddp_on == False or torch.distributed.get_rank() == 0:\n",
    "            #     np.save(iter_acc_file_name_time, iter_acc_array)\n",
    "\n",
    "\n",
    "            #     np.save(tr_acc_file_name_time, iter_acc_array)\n",
    "            #     np.save(val_acc_file_name_time, val_acc_now_array)\n",
    "            #     with open(hyperparameters_file_name_time, 'w') as f:\n",
    "            #         json.dump(hyperparameters, f, indent=4)\n",
    "            #########################################################################################################\n",
    "\n",
    "            ## accuracy 세이브 ###########################################################################################\n",
    "            if ddp_on == False or torch.distributed.get_rank() == 0:\n",
    "                np.save(f'result_save/iter_acc_array_{unique_name}.npy', iter_acc_array)\n",
    "                np.save(f'result_save/tr_acc_array_{unique_name}.npy', tr_acc_array)\n",
    "                np.save(f'result_save/val_acc_now_array_{unique_name}.npy', val_acc_now_array)\n",
    "                with open(f'result_save/hyperparameters_{unique_name}.json', 'w') as f:\n",
    "                    json.dump(hyperparameters, f, indent=4)\n",
    "            ##########################################################################################################\n",
    "        ###### ITERATION END ##########################################################################################################\n",
    "                \n",
    "\n",
    "        ## scheduler update #############################################################################\n",
    "        if (scheduler_name != 'no'):\n",
    "            if (scheduler_name == 'ReduceLROnPlateau'):\n",
    "                scheduler.step(val_loss)\n",
    "            else:\n",
    "                scheduler.step()\n",
    "        #################################################################################################\n",
    "        \n",
    "        # 실행 시간 계산\n",
    "        epoch_time_end = time.time()\n",
    "        # print(f\"epoch_time: {epoch_time_end - epoch_start_time} seconds\\n\") \n",
    "    #======== EPOCH END ==========================================================================================\n"
   ]
  },
  {
   "cell_type": "code",
   "execution_count": 6,
   "metadata": {},
   "outputs": [
    {
     "name": "stderr",
     "output_type": "stream",
     "text": [
      "Failed to detect the name of this notebook, you can set it manually with the WANDB_NOTEBOOK_NAME environment variable to enable code saving.\n",
      "\u001b[34m\u001b[1mwandb\u001b[0m: Currently logged in as: \u001b[33mbhkim003\u001b[0m (\u001b[33mbhkim003-seoul-national-university\u001b[0m). Use \u001b[1m`wandb login --relogin`\u001b[0m to force relogin\n"
     ]
    },
    {
     "data": {
      "text/html": [
       "wandb version 0.18.3 is available!  To upgrade, please run:\n",
       " $ pip install wandb --upgrade"
      ],
      "text/plain": [
       "<IPython.core.display.HTML object>"
      ]
     },
     "metadata": {},
     "output_type": "display_data"
    },
    {
     "data": {
      "text/html": [
       "Tracking run with wandb version 0.17.5"
      ],
      "text/plain": [
       "<IPython.core.display.HTML object>"
      ]
     },
     "metadata": {},
     "output_type": "display_data"
    },
    {
     "data": {
      "text/html": [
       "Run data is saved locally in <code>/nfs/home/bhkim003/github_folder/ByeonghyeonKim/my_snn/wandb/run-20241012_005909-u0y6c2z5</code>"
      ],
      "text/plain": [
       "<IPython.core.display.HTML object>"
      ]
     },
     "metadata": {},
     "output_type": "display_data"
    },
    {
     "data": {
      "text/html": [
       "Syncing run <strong><a href='https://wandb.ai/bhkim003-seoul-national-university/my_snn%20main/runs/u0y6c2z5' target=\"_blank\">lyric-frog-6181</a></strong> to <a href='https://wandb.ai/bhkim003-seoul-national-university/my_snn%20main' target=\"_blank\">Weights & Biases</a> (<a href='https://wandb.me/run' target=\"_blank\">docs</a>)<br/>"
      ],
      "text/plain": [
       "<IPython.core.display.HTML object>"
      ]
     },
     "metadata": {},
     "output_type": "display_data"
    },
    {
     "data": {
      "text/html": [
       " View project at <a href='https://wandb.ai/bhkim003-seoul-national-university/my_snn%20main' target=\"_blank\">https://wandb.ai/bhkim003-seoul-national-university/my_snn%20main</a>"
      ],
      "text/plain": [
       "<IPython.core.display.HTML object>"
      ]
     },
     "metadata": {},
     "output_type": "display_data"
    },
    {
     "data": {
      "text/html": [
       " View run at <a href='https://wandb.ai/bhkim003-seoul-national-university/my_snn%20main/runs/u0y6c2z5' target=\"_blank\">https://wandb.ai/bhkim003-seoul-national-university/my_snn%20main/runs/u0y6c2z5</a>"
      ],
      "text/plain": [
       "<IPython.core.display.HTML object>"
      ]
     },
     "metadata": {},
     "output_type": "display_data"
    },
    {
     "name": "stdout",
     "output_type": "stream",
     "text": [
      "dataset_hash = 19e3c0c6fea6cf048ee3898052ffd789\n",
      "cache path exists\n",
      "\n",
      "we will exclude the 'other' class. dvsgesture 10 classes' indices exist. \n",
      "\n",
      "Target domain에 대한 validation set이 이 target domain의 test set이다.\n",
      "dataset_hash = ae68f259f100b6cda93ea9e781befe73\n",
      "cache path exists\n",
      "\n",
      "we will exclude the 'other' class. dvsgesture 10 classes' indices exist. \n",
      "\n",
      "dataset_hash = ae68f259f100b6cda93ea9e781befe73\n",
      "cache path exists\n",
      "\n",
      "we will exclude the 'other' class. dvsgesture 10 classes' indices exist. \n",
      "\n",
      "In UDA mode, No parameter number calculation yet.\n",
      "\n",
      "device ==> cuda\n",
      "\n",
      "DataParallel(\n",
      "  (module): MY_SNN_FC_sstep(\n",
      "    (UDA_feature_layers): MY_Sequential(\n",
      "      (0): DimChanger_for_FC_sstep()\n",
      "      (1): SYNAPSE_FC_trace_sstep()\n",
      "      (2): LIF_layer_trace_sstep()\n",
      "    )\n",
      "    (UDA_classifier_layers): MY_Sequential(\n",
      "      (0): SYNAPSE_FC_trace_sstep()\n",
      "      (1): LIF_layer_trace_sstep()\n",
      "      (2): SYNAPSE_FC_trace_sstep()\n",
      "    )\n",
      "    (UDA_adapter_layers): MY_Sequential(\n",
      "      (0): Gradient_Reversal_Layer()\n",
      "      (1): SYNAPSE_FC_trace_sstep()\n",
      "      (2): LIF_layer_trace_sstep()\n",
      "      (3): SYNAPSE_FC_trace_sstep()\n",
      "    )\n",
      "  )\n",
      ")\n",
      "==================================================\n",
      "My Num of PARAMS: 0, system's param_num : 595,012\n",
      "Memory: 0.00MiB at 32-bit\n",
      "==================================================\n"
     ]
    },
    {
     "name": "stderr",
     "output_type": "stream",
     "text": [
      "epoch-0   lr=['0.0001000'], tr/val_loss:  2.302976/  2.299534, tr:   8.67%, val:  14.58%, val_best:  14.58%: 100%|██████████| 62/62 [00:28<00:00,  2.17it/s]"
     ]
    },
    {
     "name": "stdout",
     "output_type": "stream",
     "text": [
      "Domain loss,acc: 2.303115, 52.62% Target domain: tr_loss-2.303254, tr_acc-11.49%\n",
      "25,000c2dTruet10:14.58% | 25,000c3dFalset10:15.83%\n"
     ]
    },
    {
     "name": "stderr",
     "output_type": "stream",
     "text": [
      "\n",
      "epoch-1   lr=['0.0001000'], tr/val_loss:  2.285051/  2.279737, tr:  18.35%, val:  22.08%, val_best:  22.08%: 100%|██████████| 62/62 [00:27<00:00,  2.26it/s]"
     ]
    },
    {
     "name": "stdout",
     "output_type": "stream",
     "text": [
      "Domain loss,acc: 2.288795, 45.36% Target domain: tr_loss-2.292538, tr_acc-17.14%\n",
      "25,000c2dTruet10:22.08% | 25,000c3dFalset10:19.17%\n"
     ]
    },
    {
     "name": "stderr",
     "output_type": "stream",
     "text": [
      "\n",
      "epoch-2   lr=['0.0001000'], tr/val_loss:  2.236340/  2.232903, tr:  19.96%, val:  20.00%, val_best:  22.08%: 100%|██████████| 62/62 [00:27<00:00,  2.28it/s]"
     ]
    },
    {
     "name": "stdout",
     "output_type": "stream",
     "text": [
      "Domain loss,acc: 2.251535, 44.66% Target domain: tr_loss-2.266730, tr_acc-16.13%\n",
      "25,000c2dTruet10:20.00% | 25,000c3dFalset10:18.75%\n"
     ]
    },
    {
     "name": "stderr",
     "output_type": "stream",
     "text": [
      "\n",
      "epoch-3   lr=['0.0001000'], tr/val_loss:  2.193356/  2.189412, tr:  17.34%, val:  20.83%, val_best:  22.08%: 100%|██████████| 62/62 [00:26<00:00,  2.32it/s]"
     ]
    },
    {
     "name": "stdout",
     "output_type": "stream",
     "text": [
      "Domain loss,acc: 2.204488, 42.24% Target domain: tr_loss-2.215620, tr_acc-19.35%\n",
      "25,000c2dTruet10:20.83% | 25,000c3dFalset10:20.42%\n"
     ]
    },
    {
     "name": "stderr",
     "output_type": "stream",
     "text": [
      "\n",
      "epoch-4   lr=['0.0001000'], tr/val_loss:  2.144136/  2.134848, tr:  23.79%, val:  27.92%, val_best:  27.92%: 100%|██████████| 62/62 [00:26<00:00,  2.30it/s]"
     ]
    },
    {
     "name": "stdout",
     "output_type": "stream",
     "text": [
      "Domain loss,acc: 2.148256, 38.91% Target domain: tr_loss-2.152375, tr_acc-24.19%\n",
      "25,000c2dTruet10:27.92% | 25,000c3dFalset10:30.00%\n"
     ]
    },
    {
     "name": "stderr",
     "output_type": "stream",
     "text": [
      "\n",
      "epoch-5   lr=['0.0001000'], tr/val_loss:  2.071523/  2.074610, tr:  33.87%, val:  35.83%, val_best:  35.83%: 100%|██████████| 62/62 [00:26<00:00,  2.34it/s]"
     ]
    },
    {
     "name": "stdout",
     "output_type": "stream",
     "text": [
      "Domain loss,acc: 2.071943, 44.25% Target domain: tr_loss-2.072361, tr_acc-33.47%\n",
      "25,000c2dTruet10:35.83% | 25,000c3dFalset10:35.83%\n"
     ]
    },
    {
     "name": "stderr",
     "output_type": "stream",
     "text": [
      "\n",
      "epoch-6   lr=['0.0001000'], tr/val_loss:  1.994068/  2.003094, tr:  43.95%, val:  37.50%, val_best:  37.50%: 100%|██████████| 62/62 [00:26<00:00,  2.35it/s]"
     ]
    },
    {
     "name": "stdout",
     "output_type": "stream",
     "text": [
      "Domain loss,acc: 2.003466, 52.92% Target domain: tr_loss-2.012864, tr_acc-39.72%\n",
      "25,000c2dTruet10:37.50% | 25,000c3dFalset10:39.58%\n"
     ]
    },
    {
     "name": "stderr",
     "output_type": "stream",
     "text": [
      "\n",
      "epoch-7   lr=['0.0001000'], tr/val_loss:  1.881096/  1.923776, tr:  46.37%, val:  43.33%, val_best:  43.33%: 100%|██████████| 62/62 [00:26<00:00,  2.37it/s]"
     ]
    },
    {
     "name": "stdout",
     "output_type": "stream",
     "text": [
      "Domain loss,acc: 1.907069, 53.33% Target domain: tr_loss-1.933042, tr_acc-42.74%\n",
      "25,000c2dTruet10:43.33% | 25,000c3dFalset10:40.42%\n"
     ]
    },
    {
     "name": "stderr",
     "output_type": "stream",
     "text": [
      "\n",
      "epoch-8   lr=['0.0001000'], tr/val_loss:  1.790983/  1.852053, tr:  50.20%, val:  47.08%, val_best:  47.08%: 100%|██████████| 62/62 [00:26<00:00,  2.37it/s]"
     ]
    },
    {
     "name": "stdout",
     "output_type": "stream",
     "text": [
      "Domain loss,acc: 1.832298, 56.35% Target domain: tr_loss-1.873614, tr_acc-44.15%\n",
      "25,000c2dTruet10:47.08% | 25,000c3dFalset10:37.50%\n"
     ]
    },
    {
     "name": "stderr",
     "output_type": "stream",
     "text": [
      "\n",
      "epoch-9   lr=['0.0001000'], tr/val_loss:  1.697947/  1.803787, tr:  53.43%, val:  50.83%, val_best:  50.83%: 100%|██████████| 62/62 [00:26<00:00,  2.35it/s]"
     ]
    },
    {
     "name": "stdout",
     "output_type": "stream",
     "text": [
      "Domain loss,acc: 1.746293, 53.73% Target domain: tr_loss-1.794640, tr_acc-50.00%\n",
      "25,000c2dTruet10:50.83% | 25,000c3dFalset10:40.83%\n"
     ]
    },
    {
     "name": "stderr",
     "output_type": "stream",
     "text": [
      "\n",
      "epoch-10  lr=['0.0001000'], tr/val_loss:  1.610405/  1.735758, tr:  54.84%, val:  52.50%, val_best:  52.50%: 100%|██████████| 62/62 [00:26<00:00,  2.34it/s]"
     ]
    },
    {
     "name": "stdout",
     "output_type": "stream",
     "text": [
      "Domain loss,acc: 1.644320, 55.14% Target domain: tr_loss-1.678235, tr_acc-49.80%\n",
      "25,000c2dTruet10:52.50% | 25,000c3dFalset10:50.42%\n"
     ]
    },
    {
     "name": "stderr",
     "output_type": "stream",
     "text": [
      "\n",
      "epoch-11  lr=['0.0001000'], tr/val_loss:  1.559358/  1.671731, tr:  61.09%, val:  55.83%, val_best:  55.83%: 100%|██████████| 62/62 [00:26<00:00,  2.36it/s]"
     ]
    },
    {
     "name": "stdout",
     "output_type": "stream",
     "text": [
      "Domain loss,acc: 1.602785, 55.24% Target domain: tr_loss-1.646211, tr_acc-53.23%\n",
      "25,000c2dTruet10:55.83% | 25,000c3dFalset10:45.42%\n"
     ]
    },
    {
     "name": "stderr",
     "output_type": "stream",
     "text": [
      "\n",
      "epoch-12  lr=['0.0001000'], tr/val_loss:  1.490510/  1.620738, tr:  63.51%, val:  61.25%, val_best:  61.25%: 100%|██████████| 62/62 [00:26<00:00,  2.34it/s]"
     ]
    },
    {
     "name": "stdout",
     "output_type": "stream",
     "text": [
      "Domain loss,acc: 1.538214, 56.96% Target domain: tr_loss-1.585918, tr_acc-58.67%\n",
      "25,000c2dTruet10:61.25% | 25,000c3dFalset10:52.08%\n"
     ]
    },
    {
     "name": "stderr",
     "output_type": "stream",
     "text": [
      "\n",
      "epoch-13  lr=['0.0001000'], tr/val_loss:  1.451420/  1.578533, tr:  65.32%, val:  63.75%, val_best:  63.75%: 100%|██████████| 62/62 [00:26<00:00,  2.38it/s]"
     ]
    },
    {
     "name": "stdout",
     "output_type": "stream",
     "text": [
      "Domain loss,acc: 1.487829, 59.17% Target domain: tr_loss-1.524239, tr_acc-60.48%\n",
      "25,000c2dTruet10:63.75% | 25,000c3dFalset10:61.25%\n"
     ]
    },
    {
     "name": "stderr",
     "output_type": "stream",
     "text": [
      "\n",
      "epoch-14  lr=['0.0001000'], tr/val_loss:  1.344567/  1.550129, tr:  69.35%, val:  61.25%, val_best:  63.75%: 100%|██████████| 62/62 [00:25<00:00,  2.39it/s]"
     ]
    },
    {
     "name": "stdout",
     "output_type": "stream",
     "text": [
      "Domain loss,acc: 1.414007, 58.87% Target domain: tr_loss-1.483446, tr_acc-66.53%\n",
      "25,000c2dTruet10:61.25% | 25,000c3dFalset10:53.33%\n"
     ]
    },
    {
     "name": "stderr",
     "output_type": "stream",
     "text": [
      "\n",
      "epoch-15  lr=['0.0001000'], tr/val_loss:  1.348779/  1.504368, tr:  66.94%, val:  67.08%, val_best:  67.08%: 100%|██████████| 62/62 [00:26<00:00,  2.35it/s]"
     ]
    },
    {
     "name": "stdout",
     "output_type": "stream",
     "text": [
      "Domain loss,acc: 1.402429, 60.08% Target domain: tr_loss-1.456078, tr_acc-66.53%\n",
      "25,000c2dTruet10:67.08% | 25,000c3dFalset10:59.17%\n"
     ]
    },
    {
     "name": "stderr",
     "output_type": "stream",
     "text": [
      "\n",
      "epoch-16  lr=['0.0001000'], tr/val_loss:  1.288245/  1.468175, tr:  69.96%, val:  68.33%, val_best:  68.33%: 100%|██████████| 62/62 [00:26<00:00,  2.34it/s]"
     ]
    },
    {
     "name": "stdout",
     "output_type": "stream",
     "text": [
      "Domain loss,acc: 1.348985, 59.58% Target domain: tr_loss-1.409724, tr_acc-67.14%\n",
      "25,000c2dTruet10:68.33% | 25,000c3dFalset10:60.42%\n"
     ]
    },
    {
     "name": "stderr",
     "output_type": "stream",
     "text": [
      "\n",
      "epoch-17  lr=['0.0001000'], tr/val_loss:  1.251955/  1.443858, tr:  70.36%, val:  63.75%, val_best:  68.33%: 100%|██████████| 62/62 [00:26<00:00,  2.34it/s]"
     ]
    },
    {
     "name": "stdout",
     "output_type": "stream",
     "text": [
      "Domain loss,acc: 1.302658, 60.69% Target domain: tr_loss-1.353360, tr_acc-64.52%\n",
      "25,000c2dTruet10:63.75% | 25,000c3dFalset10:57.92%\n"
     ]
    },
    {
     "name": "stderr",
     "output_type": "stream",
     "text": [
      "\n",
      "epoch-18  lr=['0.0001000'], tr/val_loss:  1.232012/  1.422953, tr:  72.58%, val:  63.75%, val_best:  68.33%: 100%|██████████| 62/62 [00:26<00:00,  2.33it/s]"
     ]
    },
    {
     "name": "stdout",
     "output_type": "stream",
     "text": [
      "Domain loss,acc: 1.280894, 62.10% Target domain: tr_loss-1.329776, tr_acc-66.13%\n",
      "25,000c2dTruet10:63.75% | 25,000c3dFalset10:58.75%\n"
     ]
    },
    {
     "name": "stderr",
     "output_type": "stream",
     "text": [
      "\n",
      "epoch-19  lr=['0.0001000'], tr/val_loss:  1.219928/  1.395991, tr:  72.38%, val:  63.75%, val_best:  68.33%: 100%|██████████| 62/62 [00:26<00:00,  2.35it/s]"
     ]
    },
    {
     "name": "stdout",
     "output_type": "stream",
     "text": [
      "Domain loss,acc: 1.284858, 60.89% Target domain: tr_loss-1.349788, tr_acc-66.53%\n",
      "25,000c2dTruet10:63.75% | 25,000c3dFalset10:57.50%\n"
     ]
    },
    {
     "name": "stderr",
     "output_type": "stream",
     "text": [
      "\n",
      "epoch-20  lr=['0.0001000'], tr/val_loss:  1.156991/  1.391746, tr:  74.60%, val:  62.08%, val_best:  68.33%: 100%|██████████| 62/62 [00:26<00:00,  2.34it/s]"
     ]
    },
    {
     "name": "stdout",
     "output_type": "stream",
     "text": [
      "Domain loss,acc: 1.232873, 61.59% Target domain: tr_loss-1.308755, tr_acc-68.55%\n",
      "25,000c2dTruet10:62.08% | 25,000c3dFalset10:55.83%\n"
     ]
    },
    {
     "name": "stderr",
     "output_type": "stream",
     "text": [
      "\n",
      "epoch-21  lr=['0.0001000'], tr/val_loss:  1.155668/  1.351961, tr:  73.39%, val:  71.25%, val_best:  71.25%: 100%|██████████| 62/62 [00:26<00:00,  2.36it/s]"
     ]
    },
    {
     "name": "stdout",
     "output_type": "stream",
     "text": [
      "Domain loss,acc: 1.228911, 58.37% Target domain: tr_loss-1.302153, tr_acc-68.35%\n",
      "25,000c2dTruet10:71.25% | 25,000c3dFalset10:65.83%\n"
     ]
    },
    {
     "name": "stderr",
     "output_type": "stream",
     "text": [
      "\n",
      "epoch-22  lr=['0.0001000'], tr/val_loss:  1.103373/  1.333224, tr:  76.41%, val:  74.17%, val_best:  74.17%: 100%|██████████| 62/62 [00:26<00:00,  2.36it/s]"
     ]
    },
    {
     "name": "stdout",
     "output_type": "stream",
     "text": [
      "Domain loss,acc: 1.194709, 61.29% Target domain: tr_loss-1.286045, tr_acc-67.14%\n",
      "25,000c2dTruet10:74.17% | 25,000c3dFalset10:60.42%\n"
     ]
    },
    {
     "name": "stderr",
     "output_type": "stream",
     "text": [
      "\n",
      "epoch-23  lr=['0.0001000'], tr/val_loss:  1.112371/  1.326589, tr:  78.23%, val:  74.58%, val_best:  74.58%: 100%|██████████| 62/62 [00:26<00:00,  2.33it/s]"
     ]
    },
    {
     "name": "stdout",
     "output_type": "stream",
     "text": [
      "Domain loss,acc: 1.187746, 60.48% Target domain: tr_loss-1.263121, tr_acc-66.73%\n",
      "25,000c2dTruet10:74.58% | 25,000c3dFalset10:64.58%\n"
     ]
    },
    {
     "name": "stderr",
     "output_type": "stream",
     "text": [
      "\n",
      "epoch-24  lr=['0.0001000'], tr/val_loss:  1.074176/  1.308801, tr:  79.03%, val:  71.67%, val_best:  74.58%: 100%|██████████| 62/62 [00:26<00:00,  2.38it/s]"
     ]
    },
    {
     "name": "stdout",
     "output_type": "stream",
     "text": [
      "Domain loss,acc: 1.138013, 62.10% Target domain: tr_loss-1.201850, tr_acc-69.56%\n",
      "25,000c2dTruet10:71.67% | 25,000c3dFalset10:63.75%\n"
     ]
    },
    {
     "name": "stderr",
     "output_type": "stream",
     "text": [
      "\n",
      "epoch-25  lr=['0.0001000'], tr/val_loss:  1.069741/  1.301955, tr:  75.60%, val:  73.75%, val_best:  74.58%: 100%|██████████| 62/62 [00:25<00:00,  2.39it/s]"
     ]
    },
    {
     "name": "stdout",
     "output_type": "stream",
     "text": [
      "Domain loss,acc: 1.125559, 58.97% Target domain: tr_loss-1.181377, tr_acc-72.58%\n",
      "25,000c2dTruet10:73.75% | 25,000c3dFalset10:62.92%\n"
     ]
    },
    {
     "name": "stderr",
     "output_type": "stream",
     "text": [
      "\n",
      "epoch-26  lr=['0.0001000'], tr/val_loss:  1.047709/  1.284873, tr:  78.43%, val:  68.75%, val_best:  74.58%: 100%|██████████| 62/62 [00:26<00:00,  2.34it/s]"
     ]
    },
    {
     "name": "stdout",
     "output_type": "stream",
     "text": [
      "Domain loss,acc: 1.138284, 58.87% Target domain: tr_loss-1.228859, tr_acc-71.57%\n",
      "25,000c2dTruet10:68.75% | 25,000c3dFalset10:61.25%\n"
     ]
    },
    {
     "name": "stderr",
     "output_type": "stream",
     "text": [
      "\n",
      "epoch-27  lr=['0.0001000'], tr/val_loss:  1.017645/  1.259230, tr:  77.62%, val:  73.75%, val_best:  74.58%: 100%|██████████| 62/62 [00:25<00:00,  2.39it/s]"
     ]
    },
    {
     "name": "stdout",
     "output_type": "stream",
     "text": [
      "Domain loss,acc: 1.091480, 57.06% Target domain: tr_loss-1.165315, tr_acc-72.18%\n",
      "25,000c2dTruet10:73.75% | 25,000c3dFalset10:64.58%\n"
     ]
    },
    {
     "name": "stderr",
     "output_type": "stream",
     "text": [
      "\n",
      "epoch-28  lr=['0.0001000'], tr/val_loss:  1.013822/  1.250403, tr:  77.82%, val:  74.17%, val_best:  74.58%: 100%|██████████| 62/62 [00:26<00:00,  2.36it/s]"
     ]
    },
    {
     "name": "stdout",
     "output_type": "stream",
     "text": [
      "Domain loss,acc: 1.092434, 60.69% Target domain: tr_loss-1.171046, tr_acc-72.38%\n",
      "25,000c2dTruet10:74.17% | 25,000c3dFalset10:61.25%\n"
     ]
    },
    {
     "name": "stderr",
     "output_type": "stream",
     "text": [
      "\n",
      "epoch-29  lr=['0.0001000'], tr/val_loss:  0.992460/  1.250558, tr:  82.06%, val:  71.25%, val_best:  74.58%: 100%|██████████| 62/62 [00:26<00:00,  2.35it/s]"
     ]
    },
    {
     "name": "stdout",
     "output_type": "stream",
     "text": [
      "Domain loss,acc: 1.078785, 59.68% Target domain: tr_loss-1.165110, tr_acc-71.37%\n",
      "25,000c2dTruet10:71.25% | 25,000c3dFalset10:60.00%\n"
     ]
    },
    {
     "name": "stderr",
     "output_type": "stream",
     "text": [
      "\n",
      "epoch-30  lr=['0.0001000'], tr/val_loss:  1.005118/  1.232357, tr:  75.81%, val:  72.08%, val_best:  74.58%: 100%|██████████| 62/62 [00:26<00:00,  2.32it/s]"
     ]
    },
    {
     "name": "stdout",
     "output_type": "stream",
     "text": [
      "Domain loss,acc: 1.083057, 59.38% Target domain: tr_loss-1.160996, tr_acc-69.96%\n",
      "25,000c2dTruet10:72.08% | 25,000c3dFalset10:67.08%\n"
     ]
    },
    {
     "name": "stderr",
     "output_type": "stream",
     "text": [
      "\n",
      "epoch-31  lr=['0.0001000'], tr/val_loss:  1.006328/  1.222260, tr:  78.02%, val:  77.92%, val_best:  77.92%: 100%|██████████| 62/62 [00:26<00:00,  2.32it/s]"
     ]
    },
    {
     "name": "stdout",
     "output_type": "stream",
     "text": [
      "Domain loss,acc: 1.077584, 57.06% Target domain: tr_loss-1.148841, tr_acc-73.79%\n",
      "25,000c2dTruet10:77.92% | 25,000c3dFalset10:69.17%\n"
     ]
    },
    {
     "name": "stderr",
     "output_type": "stream",
     "text": [
      "\n",
      "epoch-32  lr=['0.0001000'], tr/val_loss:  0.923739/  1.223580, tr:  85.69%, val:  76.25%, val_best:  77.92%: 100%|██████████| 62/62 [00:27<00:00,  2.26it/s]"
     ]
    },
    {
     "name": "stdout",
     "output_type": "stream",
     "text": [
      "Domain loss,acc: 1.023636, 60.48% Target domain: tr_loss-1.123534, tr_acc-74.60%\n",
      "25,000c2dTruet10:76.25% | 25,000c3dFalset10:67.92%\n"
     ]
    },
    {
     "name": "stderr",
     "output_type": "stream",
     "text": [
      "\n",
      "epoch-33  lr=['0.0001000'], tr/val_loss:  0.918033/  1.209430, tr:  84.68%, val:  75.83%, val_best:  77.92%: 100%|██████████| 62/62 [00:26<00:00,  2.32it/s]"
     ]
    },
    {
     "name": "stdout",
     "output_type": "stream",
     "text": [
      "Domain loss,acc: 1.008023, 57.46% Target domain: tr_loss-1.098013, tr_acc-76.41%\n",
      "25,000c2dTruet10:75.83% | 25,000c3dFalset10:70.00%\n"
     ]
    },
    {
     "name": "stderr",
     "output_type": "stream",
     "text": [
      "\n",
      "epoch-34  lr=['0.0001000'], tr/val_loss:  0.924347/  1.216339, tr:  81.45%, val:  77.08%, val_best:  77.92%: 100%|██████████| 62/62 [00:26<00:00,  2.31it/s]"
     ]
    },
    {
     "name": "stdout",
     "output_type": "stream",
     "text": [
      "Domain loss,acc: 1.006109, 58.27% Target domain: tr_loss-1.087870, tr_acc-77.82%\n",
      "25,000c2dTruet10:77.08% | 25,000c3dFalset10:68.33%\n"
     ]
    },
    {
     "name": "stderr",
     "output_type": "stream",
     "text": [
      "\n",
      "epoch-35  lr=['0.0001000'], tr/val_loss:  0.907609/  1.191621, tr:  84.07%, val:  77.50%, val_best:  77.92%: 100%|██████████| 62/62 [00:26<00:00,  2.30it/s]"
     ]
    },
    {
     "name": "stdout",
     "output_type": "stream",
     "text": [
      "Domain loss,acc: 1.015772, 57.26% Target domain: tr_loss-1.123936, tr_acc-74.40%\n",
      "25,000c2dTruet10:77.50% | 25,000c3dFalset10:69.58%\n"
     ]
    },
    {
     "name": "stderr",
     "output_type": "stream",
     "text": [
      "\n",
      "epoch-36  lr=['0.0001000'], tr/val_loss:  0.877687/  1.195220, tr:  82.66%, val:  77.08%, val_best:  77.92%: 100%|██████████| 62/62 [00:26<00:00,  2.35it/s]"
     ]
    },
    {
     "name": "stdout",
     "output_type": "stream",
     "text": [
      "Domain loss,acc: 0.982457, 56.45% Target domain: tr_loss-1.087227, tr_acc-72.98%\n",
      "25,000c2dTruet10:77.08% | 25,000c3dFalset10:67.08%\n"
     ]
    },
    {
     "name": "stderr",
     "output_type": "stream",
     "text": [
      "\n",
      "epoch-37  lr=['0.0001000'], tr/val_loss:  0.905201/  1.191039, tr:  82.86%, val:  75.00%, val_best:  77.92%: 100%|██████████| 62/62 [00:26<00:00,  2.30it/s]"
     ]
    },
    {
     "name": "stdout",
     "output_type": "stream",
     "text": [
      "Domain loss,acc: 0.997038, 54.33% Target domain: tr_loss-1.088875, tr_acc-76.41%\n",
      "25,000c2dTruet10:75.00% | 25,000c3dFalset10:69.17%\n"
     ]
    },
    {
     "name": "stderr",
     "output_type": "stream",
     "text": [
      "\n",
      "epoch-38  lr=['0.0001000'], tr/val_loss:  0.886778/  1.190357, tr:  86.09%, val:  73.33%, val_best:  77.92%: 100%|██████████| 62/62 [00:27<00:00,  2.24it/s]"
     ]
    },
    {
     "name": "stdout",
     "output_type": "stream",
     "text": [
      "Domain loss,acc: 0.979937, 54.74% Target domain: tr_loss-1.073095, tr_acc-75.60%\n",
      "25,000c2dTruet10:73.33% | 25,000c3dFalset10:69.58%\n"
     ]
    },
    {
     "name": "stderr",
     "output_type": "stream",
     "text": [
      "\n",
      "epoch-39  lr=['0.0001000'], tr/val_loss:  0.876691/  1.196252, tr:  87.30%, val:  72.08%, val_best:  77.92%: 100%|██████████| 62/62 [00:27<00:00,  2.24it/s]"
     ]
    },
    {
     "name": "stdout",
     "output_type": "stream",
     "text": [
      "Domain loss,acc: 0.976751, 53.63% Target domain: tr_loss-1.076810, tr_acc-73.99%\n",
      "25,000c2dTruet10:72.08% | 25,000c3dFalset10:66.25%\n"
     ]
    },
    {
     "name": "stderr",
     "output_type": "stream",
     "text": [
      "\n",
      "epoch-40  lr=['0.0001000'], tr/val_loss:  0.884097/  1.168069, tr:  84.07%, val:  76.67%, val_best:  77.92%: 100%|██████████| 62/62 [00:27<00:00,  2.22it/s]"
     ]
    },
    {
     "name": "stdout",
     "output_type": "stream",
     "text": [
      "Domain loss,acc: 0.971801, 55.54% Target domain: tr_loss-1.059506, tr_acc-78.83%\n",
      "25,000c2dTruet10:76.67% | 25,000c3dFalset10:70.83%\n"
     ]
    },
    {
     "name": "stderr",
     "output_type": "stream",
     "text": [
      "\n",
      "epoch-41  lr=['0.0001000'], tr/val_loss:  0.879694/  1.172483, tr:  85.89%, val:  75.83%, val_best:  77.92%: 100%|██████████| 62/62 [00:27<00:00,  2.28it/s]"
     ]
    },
    {
     "name": "stdout",
     "output_type": "stream",
     "text": [
      "Domain loss,acc: 0.959181, 55.34% Target domain: tr_loss-1.038668, tr_acc-78.43%\n",
      "25,000c2dTruet10:75.83% | 25,000c3dFalset10:68.75%\n"
     ]
    },
    {
     "name": "stderr",
     "output_type": "stream",
     "text": [
      "\n",
      "epoch-42  lr=['0.0001000'], tr/val_loss:  0.852503/  1.175500, tr:  85.89%, val:  75.83%, val_best:  77.92%: 100%|██████████| 62/62 [00:27<00:00,  2.24it/s]"
     ]
    },
    {
     "name": "stdout",
     "output_type": "stream",
     "text": [
      "Domain loss,acc: 0.947478, 54.23% Target domain: tr_loss-1.042453, tr_acc-75.40%\n",
      "25,000c2dTruet10:75.83% | 25,000c3dFalset10:68.75%\n"
     ]
    },
    {
     "name": "stderr",
     "output_type": "stream",
     "text": [
      "\n",
      "epoch-43  lr=['0.0001000'], tr/val_loss:  0.873083/  1.159600, tr:  87.70%, val:  77.50%, val_best:  77.92%: 100%|██████████| 62/62 [00:27<00:00,  2.25it/s]"
     ]
    },
    {
     "name": "stdout",
     "output_type": "stream",
     "text": [
      "Domain loss,acc: 0.958510, 57.86% Target domain: tr_loss-1.043936, tr_acc-76.81%\n",
      "25,000c2dTruet10:77.50% | 25,000c3dFalset10:68.33%\n"
     ]
    },
    {
     "name": "stderr",
     "output_type": "stream",
     "text": [
      "\n",
      "epoch-44  lr=['0.0001000'], tr/val_loss:  0.827021/  1.159129, tr:  90.52%, val:  78.75%, val_best:  78.75%: 100%|██████████| 62/62 [00:27<00:00,  2.29it/s]"
     ]
    },
    {
     "name": "stdout",
     "output_type": "stream",
     "text": [
      "Domain loss,acc: 0.935176, 56.15% Target domain: tr_loss-1.043331, tr_acc-79.44%\n",
      "25,000c2dTruet10:78.75% | 25,000c3dFalset10:67.50%\n"
     ]
    },
    {
     "name": "stderr",
     "output_type": "stream",
     "text": [
      "\n",
      "epoch-45  lr=['0.0001000'], tr/val_loss:  0.834832/  1.159330, tr:  86.90%, val:  80.00%, val_best:  80.00%: 100%|██████████| 62/62 [00:27<00:00,  2.26it/s]"
     ]
    },
    {
     "name": "stdout",
     "output_type": "stream",
     "text": [
      "Domain loss,acc: 0.942189, 57.66% Target domain: tr_loss-1.049545, tr_acc-77.62%\n",
      "25,000c2dTruet10:80.00% | 25,000c3dFalset10:70.00%\n"
     ]
    },
    {
     "name": "stderr",
     "output_type": "stream",
     "text": [
      "\n",
      "epoch-46  lr=['0.0001000'], tr/val_loss:  0.837670/  1.150294, tr:  87.90%, val:  81.25%, val_best:  81.25%: 100%|██████████| 62/62 [00:27<00:00,  2.28it/s]"
     ]
    },
    {
     "name": "stdout",
     "output_type": "stream",
     "text": [
      "Domain loss,acc: 0.927761, 58.17% Target domain: tr_loss-1.017851, tr_acc-78.23%\n",
      "25,000c2dTruet10:81.25% | 25,000c3dFalset10:75.00%\n"
     ]
    },
    {
     "name": "stderr",
     "output_type": "stream",
     "text": [
      "\n",
      "epoch-47  lr=['0.0001000'], tr/val_loss:  0.792645/  1.134319, tr:  90.12%, val:  82.08%, val_best:  82.08%: 100%|██████████| 62/62 [00:27<00:00,  2.27it/s]"
     ]
    },
    {
     "name": "stdout",
     "output_type": "stream",
     "text": [
      "Domain loss,acc: 0.914882, 57.66% Target domain: tr_loss-1.037119, tr_acc-79.23%\n",
      "25,000c2dTruet10:82.08% | 25,000c3dFalset10:75.42%\n"
     ]
    },
    {
     "name": "stderr",
     "output_type": "stream",
     "text": [
      "\n",
      "epoch-48  lr=['0.0001000'], tr/val_loss:  0.813343/  1.153968, tr:  90.32%, val:  76.25%, val_best:  82.08%: 100%|██████████| 62/62 [00:27<00:00,  2.25it/s]"
     ]
    },
    {
     "name": "stdout",
     "output_type": "stream",
     "text": [
      "Domain loss,acc: 0.909218, 57.06% Target domain: tr_loss-1.005094, tr_acc-79.44%\n",
      "25,000c2dTruet10:76.25% | 25,000c3dFalset10:68.33%\n"
     ]
    },
    {
     "name": "stderr",
     "output_type": "stream",
     "text": [
      "\n",
      "epoch-49  lr=['0.0001000'], tr/val_loss:  0.787029/  1.138921, tr:  88.31%, val:  79.17%, val_best:  82.08%: 100%|██████████| 62/62 [00:27<00:00,  2.29it/s]"
     ]
    },
    {
     "name": "stdout",
     "output_type": "stream",
     "text": [
      "Domain loss,acc: 0.896125, 55.95% Target domain: tr_loss-1.005220, tr_acc-78.43%\n",
      "25,000c2dTruet10:79.17% | 25,000c3dFalset10:70.00%\n"
     ]
    },
    {
     "name": "stderr",
     "output_type": "stream",
     "text": [
      "\n",
      "epoch-50  lr=['0.0001000'], tr/val_loss:  0.776288/  1.143582, tr:  90.32%, val:  77.08%, val_best:  82.08%: 100%|██████████| 62/62 [00:27<00:00,  2.27it/s]"
     ]
    },
    {
     "name": "stdout",
     "output_type": "stream",
     "text": [
      "Domain loss,acc: 0.874829, 58.57% Target domain: tr_loss-0.973370, tr_acc-83.06%\n",
      "25,000c2dTruet10:77.08% | 25,000c3dFalset10:62.92%\n"
     ]
    },
    {
     "name": "stderr",
     "output_type": "stream",
     "text": [
      "\n",
      "epoch-51  lr=['0.0001000'], tr/val_loss:  0.782729/  1.136324, tr:  88.91%, val:  79.17%, val_best:  82.08%: 100%|██████████| 62/62 [00:27<00:00,  2.27it/s]"
     ]
    },
    {
     "name": "stdout",
     "output_type": "stream",
     "text": [
      "Domain loss,acc: 0.886696, 57.06% Target domain: tr_loss-0.990664, tr_acc-78.02%\n",
      "25,000c2dTruet10:79.17% | 25,000c3dFalset10:67.92%\n"
     ]
    },
    {
     "name": "stderr",
     "output_type": "stream",
     "text": [
      "\n",
      "epoch-52  lr=['0.0001000'], tr/val_loss:  0.767294/  1.119486, tr:  90.52%, val:  81.25%, val_best:  82.08%: 100%|██████████| 62/62 [00:27<00:00,  2.28it/s]"
     ]
    },
    {
     "name": "stdout",
     "output_type": "stream",
     "text": [
      "Domain loss,acc: 0.866212, 57.16% Target domain: tr_loss-0.965130, tr_acc-83.47%\n",
      "25,000c2dTruet10:81.25% | 25,000c3dFalset10:74.17%\n"
     ]
    },
    {
     "name": "stderr",
     "output_type": "stream",
     "text": [
      "\n",
      "epoch-53  lr=['0.0001000'], tr/val_loss:  0.796344/  1.108277, tr:  88.71%, val:  81.25%, val_best:  82.08%: 100%|██████████| 62/62 [00:26<00:00,  2.31it/s]"
     ]
    },
    {
     "name": "stdout",
     "output_type": "stream",
     "text": [
      "Domain loss,acc: 0.885751, 55.95% Target domain: tr_loss-0.975158, tr_acc-83.47%\n",
      "25,000c2dTruet10:81.25% | 25,000c3dFalset10:72.92%\n"
     ]
    },
    {
     "name": "stderr",
     "output_type": "stream",
     "text": [
      "\n",
      "epoch-54  lr=['0.0001000'], tr/val_loss:  0.735663/  1.112349, tr:  92.14%, val:  80.83%, val_best:  82.08%: 100%|██████████| 62/62 [00:26<00:00,  2.35it/s]"
     ]
    },
    {
     "name": "stdout",
     "output_type": "stream",
     "text": [
      "Domain loss,acc: 0.852980, 57.46% Target domain: tr_loss-0.970298, tr_acc-83.67%\n",
      "25,000c2dTruet10:80.83% | 25,000c3dFalset10:74.17%\n"
     ]
    },
    {
     "name": "stderr",
     "output_type": "stream",
     "text": [
      "\n",
      "epoch-55  lr=['0.0001000'], tr/val_loss:  0.734655/  1.099667, tr:  89.72%, val:  82.08%, val_best:  82.08%: 100%|██████████| 62/62 [00:25<00:00,  2.43it/s]"
     ]
    },
    {
     "name": "stdout",
     "output_type": "stream",
     "text": [
      "Domain loss,acc: 0.865750, 56.75% Target domain: tr_loss-0.996845, tr_acc-80.44%\n",
      "25,000c2dTruet10:82.08% | 25,000c3dFalset10:77.08%\n"
     ]
    },
    {
     "name": "stderr",
     "output_type": "stream",
     "text": [
      "\n",
      "epoch-56  lr=['0.0001000'], tr/val_loss:  0.740393/  1.105438, tr:  92.34%, val:  82.50%, val_best:  82.50%: 100%|██████████| 62/62 [00:27<00:00,  2.27it/s]"
     ]
    },
    {
     "name": "stdout",
     "output_type": "stream",
     "text": [
      "Domain loss,acc: 0.827676, 55.95% Target domain: tr_loss-0.914960, tr_acc-85.69%\n",
      "25,000c2dTruet10:82.50% | 25,000c3dFalset10:78.75%\n"
     ]
    },
    {
     "name": "stderr",
     "output_type": "stream",
     "text": [
      "\n",
      "epoch-57  lr=['0.0001000'], tr/val_loss:  0.715511/  1.098221, tr:  92.14%, val:  84.17%, val_best:  84.17%: 100%|██████████| 62/62 [00:26<00:00,  2.32it/s]"
     ]
    },
    {
     "name": "stdout",
     "output_type": "stream",
     "text": [
      "Domain loss,acc: 0.841534, 55.85% Target domain: tr_loss-0.967557, tr_acc-82.26%\n",
      "25,000c2dTruet10:84.17% | 25,000c3dFalset10:76.25%\n"
     ]
    },
    {
     "name": "stderr",
     "output_type": "stream",
     "text": [
      "\n",
      "epoch-58  lr=['0.0001000'], tr/val_loss:  0.718989/  1.112493, tr:  91.33%, val:  83.75%, val_best:  84.17%: 100%|██████████| 62/62 [00:26<00:00,  2.33it/s]"
     ]
    },
    {
     "name": "stdout",
     "output_type": "stream",
     "text": [
      "Domain loss,acc: 0.825346, 55.95% Target domain: tr_loss-0.931702, tr_acc-83.87%\n",
      "25,000c2dTruet10:83.75% | 25,000c3dFalset10:75.83%\n"
     ]
    },
    {
     "name": "stderr",
     "output_type": "stream",
     "text": [
      "\n",
      "epoch-59  lr=['0.0001000'], tr/val_loss:  0.719894/  1.113960, tr:  92.74%, val:  80.42%, val_best:  84.17%: 100%|██████████| 62/62 [00:27<00:00,  2.28it/s]"
     ]
    },
    {
     "name": "stdout",
     "output_type": "stream",
     "text": [
      "Domain loss,acc: 0.839565, 52.72% Target domain: tr_loss-0.959236, tr_acc-83.06%\n",
      "25,000c2dTruet10:80.42% | 25,000c3dFalset10:72.50%\n"
     ]
    },
    {
     "name": "stderr",
     "output_type": "stream",
     "text": [
      "\n",
      "epoch-60  lr=['0.0001000'], tr/val_loss:  0.713985/  1.102306, tr:  93.15%, val:  81.67%, val_best:  84.17%: 100%|██████████| 62/62 [00:27<00:00,  2.29it/s]"
     ]
    },
    {
     "name": "stdout",
     "output_type": "stream",
     "text": [
      "Domain loss,acc: 0.839041, 54.74% Target domain: tr_loss-0.964096, tr_acc-83.27%\n",
      "25,000c2dTruet10:81.67% | 25,000c3dFalset10:73.75%\n"
     ]
    },
    {
     "name": "stderr",
     "output_type": "stream",
     "text": [
      "\n",
      "epoch-61  lr=['0.0001000'], tr/val_loss:  0.687594/  1.096827, tr:  93.55%, val:  82.92%, val_best:  84.17%: 100%|██████████| 62/62 [00:27<00:00,  2.28it/s]"
     ]
    },
    {
     "name": "stdout",
     "output_type": "stream",
     "text": [
      "Domain loss,acc: 0.812929, 55.85% Target domain: tr_loss-0.938264, tr_acc-83.47%\n",
      "25,000c2dTruet10:82.92% | 25,000c3dFalset10:75.42%\n"
     ]
    },
    {
     "name": "stderr",
     "output_type": "stream",
     "text": [
      "\n",
      "epoch-62  lr=['0.0001000'], tr/val_loss:  0.685751/  1.103546, tr:  94.15%, val:  82.08%, val_best:  84.17%: 100%|██████████| 62/62 [00:27<00:00,  2.28it/s]"
     ]
    },
    {
     "name": "stdout",
     "output_type": "stream",
     "text": [
      "Domain loss,acc: 0.798239, 54.64% Target domain: tr_loss-0.910726, tr_acc-84.07%\n",
      "25,000c2dTruet10:82.08% | 25,000c3dFalset10:72.08%\n"
     ]
    },
    {
     "name": "stderr",
     "output_type": "stream",
     "text": [
      "\n",
      "epoch-63  lr=['0.0001000'], tr/val_loss:  0.685462/  1.104492, tr:  92.14%, val:  84.17%, val_best:  84.17%: 100%|██████████| 62/62 [00:27<00:00,  2.26it/s]"
     ]
    },
    {
     "name": "stdout",
     "output_type": "stream",
     "text": [
      "Domain loss,acc: 0.812510, 54.23% Target domain: tr_loss-0.939558, tr_acc-84.07%\n",
      "25,000c2dTruet10:84.17% | 25,000c3dFalset10:73.33%\n"
     ]
    },
    {
     "name": "stderr",
     "output_type": "stream",
     "text": [
      "\n",
      "epoch-64  lr=['0.0001000'], tr/val_loss:  0.689935/  1.083144, tr:  92.34%, val:  82.92%, val_best:  84.17%: 100%|██████████| 62/62 [00:26<00:00,  2.32it/s]"
     ]
    },
    {
     "name": "stdout",
     "output_type": "stream",
     "text": [
      "Domain loss,acc: 0.796351, 54.03% Target domain: tr_loss-0.902768, tr_acc-86.49%\n",
      "25,000c2dTruet10:82.92% | 25,000c3dFalset10:76.67%\n"
     ]
    },
    {
     "name": "stderr",
     "output_type": "stream",
     "text": [
      "\n",
      "epoch-65  lr=['0.0001000'], tr/val_loss:  0.658947/  1.082080, tr:  92.94%, val:  82.50%, val_best:  84.17%: 100%|██████████| 62/62 [00:26<00:00,  2.37it/s]"
     ]
    },
    {
     "name": "stdout",
     "output_type": "stream",
     "text": [
      "Domain loss,acc: 0.784896, 53.83% Target domain: tr_loss-0.910845, tr_acc-86.09%\n",
      "25,000c2dTruet10:82.50% | 25,000c3dFalset10:75.42%\n"
     ]
    },
    {
     "name": "stderr",
     "output_type": "stream",
     "text": [
      "\n",
      "epoch-66  lr=['0.0001000'], tr/val_loss:  0.652996/  1.074223, tr:  94.76%, val:  85.00%, val_best:  85.00%: 100%|██████████| 62/62 [00:26<00:00,  2.32it/s]"
     ]
    },
    {
     "name": "stdout",
     "output_type": "stream",
     "text": [
      "Domain loss,acc: 0.783287, 56.65% Target domain: tr_loss-0.913578, tr_acc-85.69%\n",
      "25,000c2dTruet10:85.00% | 25,000c3dFalset10:77.50%\n"
     ]
    },
    {
     "name": "stderr",
     "output_type": "stream",
     "text": [
      "\n",
      "epoch-67  lr=['0.0001000'], tr/val_loss:  0.666051/  1.066794, tr:  93.75%, val:  86.25%, val_best:  86.25%: 100%|██████████| 62/62 [00:26<00:00,  2.34it/s]"
     ]
    },
    {
     "name": "stdout",
     "output_type": "stream",
     "text": [
      "Domain loss,acc: 0.789550, 54.03% Target domain: tr_loss-0.913049, tr_acc-87.10%\n",
      "25,000c2dTruet10:86.25% | 25,000c3dFalset10:78.75%\n"
     ]
    },
    {
     "name": "stderr",
     "output_type": "stream",
     "text": [
      "\n",
      "epoch-68  lr=['0.0001000'], tr/val_loss:  0.647902/  1.063455, tr:  93.55%, val:  86.67%, val_best:  86.67%: 100%|██████████| 62/62 [00:26<00:00,  2.37it/s]"
     ]
    },
    {
     "name": "stdout",
     "output_type": "stream",
     "text": [
      "Domain loss,acc: 0.768490, 53.63% Target domain: tr_loss-0.889079, tr_acc-85.69%\n",
      "25,000c2dTruet10:86.67% | 25,000c3dFalset10:79.58%\n"
     ]
    },
    {
     "name": "stderr",
     "output_type": "stream",
     "text": [
      "\n",
      "epoch-69  lr=['0.0001000'], tr/val_loss:  0.617395/  1.065374, tr:  93.95%, val:  84.58%, val_best:  86.67%: 100%|██████████| 62/62 [00:26<00:00,  2.35it/s]"
     ]
    },
    {
     "name": "stdout",
     "output_type": "stream",
     "text": [
      "Domain loss,acc: 0.762717, 52.72% Target domain: tr_loss-0.908039, tr_acc-86.49%\n",
      "25,000c2dTruet10:84.58% | 25,000c3dFalset10:75.83%\n"
     ]
    },
    {
     "name": "stderr",
     "output_type": "stream",
     "text": [
      "\n",
      "epoch-70  lr=['0.0001000'], tr/val_loss:  0.626644/  1.061980, tr:  93.75%, val:  82.08%, val_best:  86.67%: 100%|██████████| 62/62 [00:26<00:00,  2.34it/s]"
     ]
    },
    {
     "name": "stdout",
     "output_type": "stream",
     "text": [
      "Domain loss,acc: 0.761235, 53.33% Target domain: tr_loss-0.895825, tr_acc-87.50%\n",
      "25,000c2dTruet10:82.08% | 25,000c3dFalset10:74.58%\n"
     ]
    },
    {
     "name": "stderr",
     "output_type": "stream",
     "text": [
      "\n",
      "epoch-71  lr=['0.0001000'], tr/val_loss:  0.622859/  1.070323, tr:  94.15%, val:  82.08%, val_best:  86.67%: 100%|██████████| 62/62 [00:26<00:00,  2.34it/s]"
     ]
    },
    {
     "name": "stdout",
     "output_type": "stream",
     "text": [
      "Domain loss,acc: 0.744576, 53.23% Target domain: tr_loss-0.866293, tr_acc-86.69%\n",
      "25,000c2dTruet10:82.08% | 25,000c3dFalset10:78.33%\n"
     ]
    },
    {
     "name": "stderr",
     "output_type": "stream",
     "text": [
      "\n",
      "epoch-72  lr=['0.0001000'], tr/val_loss:  0.629102/  1.073172, tr:  92.14%, val:  84.58%, val_best:  86.67%: 100%|██████████| 62/62 [00:26<00:00,  2.36it/s]"
     ]
    },
    {
     "name": "stdout",
     "output_type": "stream",
     "text": [
      "Domain loss,acc: 0.777784, 54.84% Target domain: tr_loss-0.926466, tr_acc-85.08%\n",
      "25,000c2dTruet10:84.58% | 25,000c3dFalset10:74.58%\n"
     ]
    },
    {
     "name": "stderr",
     "output_type": "stream",
     "text": [
      "\n",
      "epoch-73  lr=['0.0001000'], tr/val_loss:  0.607319/  1.061571, tr:  93.55%, val:  83.33%, val_best:  86.67%: 100%|██████████| 62/62 [00:26<00:00,  2.31it/s]"
     ]
    },
    {
     "name": "stdout",
     "output_type": "stream",
     "text": [
      "Domain loss,acc: 0.755479, 54.54% Target domain: tr_loss-0.903640, tr_acc-84.68%\n",
      "25,000c2dTruet10:83.33% | 25,000c3dFalset10:75.83%\n"
     ]
    },
    {
     "name": "stderr",
     "output_type": "stream",
     "text": [
      "\n",
      "epoch-74  lr=['0.0001000'], tr/val_loss:  0.584692/  1.088587, tr:  95.36%, val:  80.83%, val_best:  86.67%: 100%|██████████| 62/62 [00:26<00:00,  2.34it/s]"
     ]
    },
    {
     "name": "stdout",
     "output_type": "stream",
     "text": [
      "Domain loss,acc: 0.721571, 55.65% Target domain: tr_loss-0.858450, tr_acc-87.70%\n",
      "25,000c2dTruet10:80.83% | 25,000c3dFalset10:73.33%\n"
     ]
    },
    {
     "name": "stderr",
     "output_type": "stream",
     "text": [
      "\n",
      "epoch-75  lr=['0.0001000'], tr/val_loss:  0.616808/  1.074434, tr:  94.15%, val:  83.75%, val_best:  86.67%: 100%|██████████| 62/62 [00:26<00:00,  2.31it/s]"
     ]
    },
    {
     "name": "stdout",
     "output_type": "stream",
     "text": [
      "Domain loss,acc: 0.747255, 54.44% Target domain: tr_loss-0.877702, tr_acc-85.69%\n",
      "25,000c2dTruet10:83.75% | 25,000c3dFalset10:79.58%\n"
     ]
    },
    {
     "name": "stderr",
     "output_type": "stream",
     "text": [
      "\n",
      "epoch-76  lr=['0.0001000'], tr/val_loss:  0.580165/  1.085179, tr:  96.17%, val:  80.83%, val_best:  86.67%: 100%|██████████| 62/62 [00:26<00:00,  2.33it/s]"
     ]
    },
    {
     "name": "stdout",
     "output_type": "stream",
     "text": [
      "Domain loss,acc: 0.711493, 55.44% Target domain: tr_loss-0.842821, tr_acc-87.70%\n",
      "25,000c2dTruet10:80.83% | 25,000c3dFalset10:72.50%\n"
     ]
    },
    {
     "name": "stderr",
     "output_type": "stream",
     "text": [
      "\n",
      "epoch-77  lr=['0.0001000'], tr/val_loss:  0.578560/  1.060032, tr:  95.16%, val:  82.92%, val_best:  86.67%: 100%|██████████| 62/62 [00:26<00:00,  2.34it/s]"
     ]
    },
    {
     "name": "stdout",
     "output_type": "stream",
     "text": [
      "Domain loss,acc: 0.719656, 54.94% Target domain: tr_loss-0.860752, tr_acc-87.30%\n",
      "25,000c2dTruet10:82.92% | 25,000c3dFalset10:75.42%\n"
     ]
    },
    {
     "name": "stderr",
     "output_type": "stream",
     "text": [
      "\n",
      "epoch-78  lr=['0.0001000'], tr/val_loss:  0.588955/  1.052035, tr:  94.15%, val:  84.17%, val_best:  86.67%: 100%|██████████| 62/62 [00:26<00:00,  2.36it/s]"
     ]
    },
    {
     "name": "stdout",
     "output_type": "stream",
     "text": [
      "Domain loss,acc: 0.728703, 57.16% Target domain: tr_loss-0.868452, tr_acc-87.10%\n",
      "25,000c2dTruet10:84.17% | 25,000c3dFalset10:77.50%\n"
     ]
    },
    {
     "name": "stderr",
     "output_type": "stream",
     "text": [
      "\n",
      "epoch-79  lr=['0.0001000'], tr/val_loss:  0.595309/  1.041141, tr:  95.16%, val:  85.00%, val_best:  86.67%: 100%|██████████| 62/62 [00:25<00:00,  2.39it/s]"
     ]
    },
    {
     "name": "stdout",
     "output_type": "stream",
     "text": [
      "Domain loss,acc: 0.731677, 54.23% Target domain: tr_loss-0.868046, tr_acc-89.72%\n",
      "25,000c2dTruet10:85.00% | 25,000c3dFalset10:77.08%\n"
     ]
    },
    {
     "name": "stderr",
     "output_type": "stream",
     "text": [
      "\n",
      "epoch-80  lr=['0.0001000'], tr/val_loss:  0.560067/  1.043563, tr:  95.97%, val:  84.17%, val_best:  86.67%: 100%|██████████| 62/62 [00:26<00:00,  2.32it/s]"
     ]
    },
    {
     "name": "stdout",
     "output_type": "stream",
     "text": [
      "Domain loss,acc: 0.708359, 56.15% Target domain: tr_loss-0.856651, tr_acc-87.70%\n",
      "25,000c2dTruet10:84.17% | 25,000c3dFalset10:76.25%\n"
     ]
    },
    {
     "name": "stderr",
     "output_type": "stream",
     "text": [
      "\n",
      "epoch-81  lr=['0.0001000'], tr/val_loss:  0.537368/  1.037153, tr:  95.77%, val:  85.00%, val_best:  86.67%: 100%|██████████| 62/62 [00:26<00:00,  2.37it/s]"
     ]
    },
    {
     "name": "stdout",
     "output_type": "stream",
     "text": [
      "Domain loss,acc: 0.696438, 56.05% Target domain: tr_loss-0.855508, tr_acc-88.71%\n",
      "25,000c2dTruet10:85.00% | 25,000c3dFalset10:79.17%\n"
     ]
    },
    {
     "name": "stderr",
     "output_type": "stream",
     "text": [
      "\n",
      "epoch-82  lr=['0.0001000'], tr/val_loss:  0.567132/  1.045378, tr:  95.77%, val:  86.67%, val_best:  86.67%: 100%|██████████| 62/62 [00:27<00:00,  2.29it/s]"
     ]
    },
    {
     "name": "stdout",
     "output_type": "stream",
     "text": [
      "Domain loss,acc: 0.703787, 57.86% Target domain: tr_loss-0.840442, tr_acc-90.12%\n",
      "25,000c2dTruet10:86.67% | 25,000c3dFalset10:77.50%\n"
     ]
    },
    {
     "name": "stderr",
     "output_type": "stream",
     "text": [
      "\n",
      "epoch-83  lr=['0.0001000'], tr/val_loss:  0.558259/  1.056421, tr:  94.56%, val:  84.17%, val_best:  86.67%: 100%|██████████| 62/62 [00:26<00:00,  2.34it/s]"
     ]
    },
    {
     "name": "stdout",
     "output_type": "stream",
     "text": [
      "Domain loss,acc: 0.681139, 56.65% Target domain: tr_loss-0.804020, tr_acc-89.92%\n",
      "25,000c2dTruet10:84.17% | 25,000c3dFalset10:79.58%\n"
     ]
    },
    {
     "name": "stderr",
     "output_type": "stream",
     "text": [
      "\n",
      "epoch-84  lr=['0.0001000'], tr/val_loss:  0.538462/  1.045155, tr:  95.36%, val:  84.58%, val_best:  86.67%: 100%|██████████| 62/62 [00:26<00:00,  2.33it/s]"
     ]
    },
    {
     "name": "stdout",
     "output_type": "stream",
     "text": [
      "Domain loss,acc: 0.700227, 55.14% Target domain: tr_loss-0.861992, tr_acc-87.30%\n",
      "25,000c2dTruet10:84.58% | 25,000c3dFalset10:76.25%\n"
     ]
    },
    {
     "name": "stderr",
     "output_type": "stream",
     "text": [
      "\n",
      "epoch-85  lr=['0.0001000'], tr/val_loss:  0.563420/  1.036093, tr:  95.16%, val:  85.42%, val_best:  86.67%: 100%|██████████| 62/62 [00:26<00:00,  2.35it/s]"
     ]
    },
    {
     "name": "stdout",
     "output_type": "stream",
     "text": [
      "Domain loss,acc: 0.703641, 55.54% Target domain: tr_loss-0.843862, tr_acc-88.10%\n",
      "25,000c2dTruet10:85.42% | 25,000c3dFalset10:78.75%\n"
     ]
    },
    {
     "name": "stderr",
     "output_type": "stream",
     "text": [
      "\n",
      "epoch-86  lr=['0.0001000'], tr/val_loss:  0.557385/  1.042962, tr:  95.36%, val:  84.58%, val_best:  86.67%: 100%|██████████| 62/62 [00:26<00:00,  2.36it/s]"
     ]
    },
    {
     "name": "stdout",
     "output_type": "stream",
     "text": [
      "Domain loss,acc: 0.698686, 58.17% Target domain: tr_loss-0.839987, tr_acc-87.30%\n",
      "25,000c2dTruet10:84.58% | 25,000c3dFalset10:77.50%\n"
     ]
    },
    {
     "name": "stderr",
     "output_type": "stream",
     "text": [
      "\n",
      "epoch-87  lr=['0.0001000'], tr/val_loss:  0.521589/  1.024444, tr:  96.17%, val:  84.58%, val_best:  86.67%: 100%|██████████| 62/62 [00:26<00:00,  2.35it/s]"
     ]
    },
    {
     "name": "stdout",
     "output_type": "stream",
     "text": [
      "Domain loss,acc: 0.684195, 57.16% Target domain: tr_loss-0.846801, tr_acc-89.72%\n",
      "25,000c2dTruet10:84.58% | 25,000c3dFalset10:78.33%\n"
     ]
    },
    {
     "name": "stderr",
     "output_type": "stream",
     "text": [
      "\n",
      "epoch-88  lr=['0.0001000'], tr/val_loss:  0.522123/  1.057207, tr:  96.57%, val:  85.00%, val_best:  86.67%: 100%|██████████| 62/62 [00:26<00:00,  2.30it/s]"
     ]
    },
    {
     "name": "stdout",
     "output_type": "stream",
     "text": [
      "Domain loss,acc: 0.680422, 55.34% Target domain: tr_loss-0.838722, tr_acc-88.51%\n",
      "25,000c2dTruet10:85.00% | 25,000c3dFalset10:74.58%\n"
     ]
    },
    {
     "name": "stderr",
     "output_type": "stream",
     "text": [
      "\n",
      "epoch-89  lr=['0.0001000'], tr/val_loss:  0.513553/  1.020158, tr:  96.57%, val:  85.42%, val_best:  86.67%: 100%|██████████| 62/62 [00:27<00:00,  2.28it/s]"
     ]
    },
    {
     "name": "stdout",
     "output_type": "stream",
     "text": [
      "Domain loss,acc: 0.682987, 56.65% Target domain: tr_loss-0.852422, tr_acc-89.31%\n",
      "25,000c2dTruet10:85.42% | 25,000c3dFalset10:80.83%\n"
     ]
    },
    {
     "name": "stderr",
     "output_type": "stream",
     "text": [
      "\n",
      "epoch-90  lr=['0.0001000'], tr/val_loss:  0.500035/  1.030756, tr:  95.56%, val:  84.58%, val_best:  86.67%: 100%|██████████| 62/62 [00:27<00:00,  2.27it/s]"
     ]
    },
    {
     "name": "stdout",
     "output_type": "stream",
     "text": [
      "Domain loss,acc: 0.666596, 57.36% Target domain: tr_loss-0.833157, tr_acc-88.91%\n",
      "25,000c2dTruet10:84.58% | 25,000c3dFalset10:78.33%\n"
     ]
    },
    {
     "name": "stderr",
     "output_type": "stream",
     "text": [
      "\n",
      "epoch-91  lr=['0.0001000'], tr/val_loss:  0.511639/  1.035618, tr:  95.36%, val:  84.58%, val_best:  86.67%: 100%|██████████| 62/62 [00:28<00:00,  2.21it/s]"
     ]
    },
    {
     "name": "stdout",
     "output_type": "stream",
     "text": [
      "Domain loss,acc: 0.660712, 55.65% Target domain: tr_loss-0.809785, tr_acc-88.71%\n",
      "25,000c2dTruet10:84.58% | 25,000c3dFalset10:77.92%\n"
     ]
    },
    {
     "name": "stderr",
     "output_type": "stream",
     "text": [
      "\n",
      "epoch-92  lr=['0.0001000'], tr/val_loss:  0.462406/  1.026121, tr:  97.38%, val:  85.42%, val_best:  86.67%: 100%|██████████| 62/62 [00:27<00:00,  2.29it/s]"
     ]
    },
    {
     "name": "stdout",
     "output_type": "stream",
     "text": [
      "Domain loss,acc: 0.647790, 56.75% Target domain: tr_loss-0.833174, tr_acc-88.31%\n",
      "25,000c2dTruet10:85.42% | 25,000c3dFalset10:78.33%\n"
     ]
    },
    {
     "name": "stderr",
     "output_type": "stream",
     "text": [
      "\n",
      "epoch-93  lr=['0.0001000'], tr/val_loss:  0.490927/  1.023436, tr:  96.37%, val:  85.42%, val_best:  86.67%: 100%|██████████| 62/62 [00:27<00:00,  2.25it/s]"
     ]
    },
    {
     "name": "stdout",
     "output_type": "stream",
     "text": [
      "Domain loss,acc: 0.663259, 55.24% Target domain: tr_loss-0.835590, tr_acc-90.52%\n",
      "25,000c2dTruet10:85.42% | 25,000c3dFalset10:77.92%\n"
     ]
    },
    {
     "name": "stderr",
     "output_type": "stream",
     "text": [
      "\n",
      "epoch-94  lr=['0.0001000'], tr/val_loss:  0.490581/  1.026823, tr:  96.77%, val:  86.25%, val_best:  86.67%: 100%|██████████| 62/62 [00:26<00:00,  2.32it/s]"
     ]
    },
    {
     "name": "stdout",
     "output_type": "stream",
     "text": [
      "Domain loss,acc: 0.640315, 56.25% Target domain: tr_loss-0.790049, tr_acc-91.33%\n",
      "25,000c2dTruet10:86.25% | 25,000c3dFalset10:78.33%\n"
     ]
    },
    {
     "name": "stderr",
     "output_type": "stream",
     "text": [
      "\n",
      "epoch-95  lr=['0.0001000'], tr/val_loss:  0.464033/  1.019345, tr:  97.58%, val:  83.75%, val_best:  86.67%: 100%|██████████| 62/62 [00:26<00:00,  2.31it/s]"
     ]
    },
    {
     "name": "stdout",
     "output_type": "stream",
     "text": [
      "Domain loss,acc: 0.653192, 57.66% Target domain: tr_loss-0.842351, tr_acc-88.51%\n",
      "25,000c2dTruet10:83.75% | 25,000c3dFalset10:75.83%\n"
     ]
    },
    {
     "name": "stderr",
     "output_type": "stream",
     "text": [
      "\n",
      "epoch-96  lr=['0.0001000'], tr/val_loss:  0.476250/  1.017373, tr:  96.57%, val:  86.25%, val_best:  86.67%: 100%|██████████| 62/62 [00:26<00:00,  2.30it/s]"
     ]
    },
    {
     "name": "stdout",
     "output_type": "stream",
     "text": [
      "Domain loss,acc: 0.635735, 57.06% Target domain: tr_loss-0.795220, tr_acc-89.11%\n",
      "25,000c2dTruet10:86.25% | 25,000c3dFalset10:81.67%\n"
     ]
    },
    {
     "name": "stderr",
     "output_type": "stream",
     "text": [
      "\n",
      "epoch-97  lr=['0.0001000'], tr/val_loss:  0.459830/  1.015583, tr:  97.18%, val:  87.08%, val_best:  87.08%: 100%|██████████| 62/62 [00:27<00:00,  2.27it/s]"
     ]
    },
    {
     "name": "stdout",
     "output_type": "stream",
     "text": [
      "Domain loss,acc: 0.629543, 56.15% Target domain: tr_loss-0.799255, tr_acc-90.93%\n",
      "25,000c2dTruet10:87.08% | 25,000c3dFalset10:78.33%\n"
     ]
    },
    {
     "name": "stderr",
     "output_type": "stream",
     "text": [
      "\n",
      "epoch-98  lr=['0.0001000'], tr/val_loss:  0.449954/  1.008963, tr:  97.38%, val:  86.67%, val_best:  87.08%: 100%|██████████| 62/62 [00:26<00:00,  2.30it/s]"
     ]
    },
    {
     "name": "stdout",
     "output_type": "stream",
     "text": [
      "Domain loss,acc: 0.640075, 61.09% Target domain: tr_loss-0.830196, tr_acc-89.31%\n",
      "25,000c2dTruet10:86.67% | 25,000c3dFalset10:80.00%\n"
     ]
    },
    {
     "name": "stderr",
     "output_type": "stream",
     "text": [
      "\n",
      "epoch-99  lr=['0.0001000'], tr/val_loss:  0.434947/  1.010098, tr:  96.77%, val:  85.00%, val_best:  87.08%: 100%|██████████| 62/62 [00:26<00:00,  2.30it/s]"
     ]
    },
    {
     "name": "stdout",
     "output_type": "stream",
     "text": [
      "Domain loss,acc: 0.604949, 58.87% Target domain: tr_loss-0.774950, tr_acc-92.34%\n",
      "25,000c2dTruet10:85.00% | 25,000c3dFalset10:80.00%\n"
     ]
    },
    {
     "name": "stderr",
     "output_type": "stream",
     "text": [
      "\n",
      "epoch-100 lr=['0.0001000'], tr/val_loss:  0.452211/  1.012486, tr:  96.98%, val:  83.75%, val_best:  87.08%: 100%|██████████| 62/62 [00:27<00:00,  2.26it/s]"
     ]
    },
    {
     "name": "stdout",
     "output_type": "stream",
     "text": [
      "Domain loss,acc: 0.620399, 57.46% Target domain: tr_loss-0.788587, tr_acc-90.93%\n",
      "25,000c2dTruet10:83.75% | 25,000c3dFalset10:77.92%\n"
     ]
    },
    {
     "name": "stderr",
     "output_type": "stream",
     "text": [
      "\n",
      "epoch-101 lr=['0.0001000'], tr/val_loss:  0.431330/  1.000118, tr:  97.78%, val:  87.50%, val_best:  87.50%: 100%|██████████| 62/62 [00:27<00:00,  2.28it/s]"
     ]
    },
    {
     "name": "stdout",
     "output_type": "stream",
     "text": [
      "Domain loss,acc: 0.597334, 58.17% Target domain: tr_loss-0.763337, tr_acc-92.54%\n",
      "25,000c2dTruet10:87.50% | 25,000c3dFalset10:80.83%\n"
     ]
    },
    {
     "name": "stderr",
     "output_type": "stream",
     "text": [
      "\n",
      "epoch-102 lr=['0.0001000'], tr/val_loss:  0.449475/  1.011756, tr:  97.78%, val:  84.17%, val_best:  87.50%: 100%|██████████| 62/62 [00:27<00:00,  2.23it/s]"
     ]
    },
    {
     "name": "stdout",
     "output_type": "stream",
     "text": [
      "Domain loss,acc: 0.618702, 58.27% Target domain: tr_loss-0.787929, tr_acc-93.95%\n",
      "25,000c2dTruet10:84.17% | 25,000c3dFalset10:79.58%\n"
     ]
    },
    {
     "name": "stderr",
     "output_type": "stream",
     "text": [
      "\n",
      "epoch-103 lr=['0.0001000'], tr/val_loss:  0.452380/  1.007441, tr:  96.77%, val:  87.08%, val_best:  87.50%: 100%|██████████| 62/62 [00:27<00:00,  2.28it/s]"
     ]
    },
    {
     "name": "stdout",
     "output_type": "stream",
     "text": [
      "Domain loss,acc: 0.632160, 60.28% Target domain: tr_loss-0.811941, tr_acc-88.51%\n",
      "25,000c2dTruet10:87.08% | 25,000c3dFalset10:82.08%\n"
     ]
    },
    {
     "name": "stderr",
     "output_type": "stream",
     "text": [
      "\n",
      "epoch-104 lr=['0.0001000'], tr/val_loss:  0.440050/  1.023082, tr:  97.38%, val:  84.58%, val_best:  87.50%: 100%|██████████| 62/62 [00:27<00:00,  2.24it/s]"
     ]
    },
    {
     "name": "stdout",
     "output_type": "stream",
     "text": [
      "Domain loss,acc: 0.627735, 58.37% Target domain: tr_loss-0.815420, tr_acc-88.91%\n",
      "25,000c2dTruet10:84.58% | 25,000c3dFalset10:78.33%\n"
     ]
    },
    {
     "name": "stderr",
     "output_type": "stream",
     "text": [
      "\n",
      "epoch-105 lr=['0.0001000'], tr/val_loss:  0.443430/  0.993275, tr:  97.98%, val:  87.50%, val_best:  87.50%: 100%|██████████| 62/62 [00:27<00:00,  2.28it/s]"
     ]
    },
    {
     "name": "stdout",
     "output_type": "stream",
     "text": [
      "Domain loss,acc: 0.618335, 56.45% Target domain: tr_loss-0.793240, tr_acc-89.72%\n",
      "25,000c2dTruet10:87.50% | 25,000c3dFalset10:80.00%\n"
     ]
    },
    {
     "name": "stderr",
     "output_type": "stream",
     "text": [
      "\n",
      "epoch-106 lr=['0.0001000'], tr/val_loss:  0.428302/  1.007853, tr:  97.78%, val:  84.58%, val_best:  87.50%: 100%|██████████| 62/62 [00:27<00:00,  2.29it/s]"
     ]
    },
    {
     "name": "stdout",
     "output_type": "stream",
     "text": [
      "Domain loss,acc: 0.589625, 57.86% Target domain: tr_loss-0.750948, tr_acc-92.34%\n",
      "25,000c2dTruet10:84.58% | 25,000c3dFalset10:76.67%\n"
     ]
    },
    {
     "name": "stderr",
     "output_type": "stream",
     "text": [
      "\n",
      "epoch-107 lr=['0.0001000'], tr/val_loss:  0.395771/  1.015174, tr:  98.19%, val:  84.58%, val_best:  87.50%: 100%|██████████| 62/62 [00:27<00:00,  2.28it/s]"
     ]
    },
    {
     "name": "stdout",
     "output_type": "stream",
     "text": [
      "Domain loss,acc: 0.587992, 58.67% Target domain: tr_loss-0.780214, tr_acc-91.33%\n",
      "25,000c2dTruet10:84.58% | 25,000c3dFalset10:79.17%\n"
     ]
    },
    {
     "name": "stderr",
     "output_type": "stream",
     "text": [
      "\n",
      "epoch-108 lr=['0.0001000'], tr/val_loss:  0.407868/  1.009430, tr:  98.19%, val:  85.00%, val_best:  87.50%: 100%|██████████| 62/62 [00:28<00:00,  2.15it/s]"
     ]
    },
    {
     "name": "stdout",
     "output_type": "stream",
     "text": [
      "Domain loss,acc: 0.592860, 57.06% Target domain: tr_loss-0.777853, tr_acc-90.93%\n",
      "25,000c2dTruet10:85.00% | 25,000c3dFalset10:80.42%\n"
     ]
    },
    {
     "name": "stderr",
     "output_type": "stream",
     "text": [
      "\n",
      "epoch-109 lr=['0.0001000'], tr/val_loss:  0.402268/  0.999340, tr:  97.78%, val:  87.08%, val_best:  87.50%: 100%|██████████| 62/62 [00:28<00:00,  2.16it/s]"
     ]
    },
    {
     "name": "stdout",
     "output_type": "stream",
     "text": [
      "Domain loss,acc: 0.593834, 58.67% Target domain: tr_loss-0.785400, tr_acc-89.72%\n",
      "25,000c2dTruet10:87.08% | 25,000c3dFalset10:81.67%\n"
     ]
    },
    {
     "name": "stderr",
     "output_type": "stream",
     "text": [
      "\n",
      "epoch-110 lr=['0.0001000'], tr/val_loss:  0.386022/  0.985864, tr:  97.78%, val:  86.67%, val_best:  87.50%: 100%|██████████| 62/62 [00:28<00:00,  2.20it/s]"
     ]
    },
    {
     "name": "stdout",
     "output_type": "stream",
     "text": [
      "Domain loss,acc: 0.559581, 58.06% Target domain: tr_loss-0.733140, tr_acc-92.54%\n",
      "25,000c2dTruet10:86.67% | 25,000c3dFalset10:81.25%\n"
     ]
    },
    {
     "name": "stderr",
     "output_type": "stream",
     "text": [
      "\n",
      "epoch-111 lr=['0.0001000'], tr/val_loss:  0.409496/  0.995764, tr:  97.18%, val:  86.25%, val_best:  87.50%: 100%|██████████| 62/62 [00:27<00:00,  2.29it/s]"
     ]
    },
    {
     "name": "stdout",
     "output_type": "stream",
     "text": [
      "Domain loss,acc: 0.585248, 55.85% Target domain: tr_loss-0.760999, tr_acc-92.14%\n",
      "25,000c2dTruet10:86.25% | 25,000c3dFalset10:81.67%\n"
     ]
    },
    {
     "name": "stderr",
     "output_type": "stream",
     "text": [
      "\n",
      "epoch-112 lr=['0.0001000'], tr/val_loss:  0.378624/  1.012131, tr:  98.79%, val:  83.75%, val_best:  87.50%: 100%|██████████| 62/62 [00:27<00:00,  2.28it/s]"
     ]
    },
    {
     "name": "stdout",
     "output_type": "stream",
     "text": [
      "Domain loss,acc: 0.581839, 56.55% Target domain: tr_loss-0.785054, tr_acc-91.53%\n",
      "25,000c2dTruet10:83.75% | 25,000c3dFalset10:79.17%\n"
     ]
    },
    {
     "name": "stderr",
     "output_type": "stream",
     "text": [
      "\n",
      "epoch-113 lr=['0.0001000'], tr/val_loss:  0.393209/  0.996180, tr:  98.19%, val:  86.25%, val_best:  87.50%: 100%|██████████| 62/62 [00:27<00:00,  2.24it/s]"
     ]
    },
    {
     "name": "stdout",
     "output_type": "stream",
     "text": [
      "Domain loss,acc: 0.587119, 57.26% Target domain: tr_loss-0.781030, tr_acc-91.33%\n",
      "25,000c2dTruet10:86.25% | 25,000c3dFalset10:80.42%\n"
     ]
    },
    {
     "name": "stderr",
     "output_type": "stream",
     "text": [
      "\n",
      "epoch-114 lr=['0.0001000'], tr/val_loss:  0.352273/  0.989049, tr:  98.59%, val:  87.92%, val_best:  87.92%: 100%|██████████| 62/62 [00:27<00:00,  2.28it/s]"
     ]
    },
    {
     "name": "stdout",
     "output_type": "stream",
     "text": [
      "Domain loss,acc: 0.567731, 58.87% Target domain: tr_loss-0.783189, tr_acc-90.73%\n",
      "25,000c2dTruet10:87.92% | 25,000c3dFalset10:80.83%\n"
     ]
    },
    {
     "name": "stderr",
     "output_type": "stream",
     "text": [
      "\n",
      "epoch-115 lr=['0.0001000'], tr/val_loss:  0.371496/  0.995275, tr:  98.39%, val:  85.83%, val_best:  87.92%: 100%|██████████| 62/62 [00:26<00:00,  2.33it/s]"
     ]
    },
    {
     "name": "stdout",
     "output_type": "stream",
     "text": [
      "Domain loss,acc: 0.552107, 59.58% Target domain: tr_loss-0.732719, tr_acc-92.34%\n",
      "25,000c2dTruet10:85.83% | 25,000c3dFalset10:80.00%\n"
     ]
    },
    {
     "name": "stderr",
     "output_type": "stream",
     "text": [
      "\n",
      "epoch-116 lr=['0.0001000'], tr/val_loss:  0.378284/  0.996991, tr:  97.98%, val:  86.67%, val_best:  87.92%: 100%|██████████| 62/62 [00:27<00:00,  2.28it/s]"
     ]
    },
    {
     "name": "stdout",
     "output_type": "stream",
     "text": [
      "Domain loss,acc: 0.562305, 57.76% Target domain: tr_loss-0.746326, tr_acc-91.73%\n",
      "25,000c2dTruet10:86.67% | 25,000c3dFalset10:79.58%\n"
     ]
    },
    {
     "name": "stderr",
     "output_type": "stream",
     "text": [
      "\n",
      "epoch-117 lr=['0.0001000'], tr/val_loss:  0.373945/  0.995251, tr:  97.38%, val:  84.17%, val_best:  87.92%: 100%|██████████| 62/62 [00:27<00:00,  2.30it/s]"
     ]
    },
    {
     "name": "stdout",
     "output_type": "stream",
     "text": [
      "Domain loss,acc: 0.576599, 58.06% Target domain: tr_loss-0.779253, tr_acc-89.31%\n",
      "25,000c2dTruet10:84.17% | 25,000c3dFalset10:79.58%\n"
     ]
    },
    {
     "name": "stderr",
     "output_type": "stream",
     "text": [
      "\n",
      "epoch-118 lr=['0.0001000'], tr/val_loss:  0.350285/  0.989518, tr:  97.98%, val:  86.25%, val_best:  87.92%: 100%|██████████| 62/62 [00:27<00:00,  2.26it/s]"
     ]
    },
    {
     "name": "stdout",
     "output_type": "stream",
     "text": [
      "Domain loss,acc: 0.559776, 58.67% Target domain: tr_loss-0.769266, tr_acc-91.53%\n",
      "25,000c2dTruet10:86.25% | 25,000c3dFalset10:80.42%\n"
     ]
    },
    {
     "name": "stderr",
     "output_type": "stream",
     "text": [
      "\n",
      "epoch-119 lr=['0.0001000'], tr/val_loss:  0.357122/  0.994021, tr:  98.99%, val:  86.25%, val_best:  87.92%: 100%|██████████| 62/62 [00:27<00:00,  2.26it/s]"
     ]
    },
    {
     "name": "stdout",
     "output_type": "stream",
     "text": [
      "Domain loss,acc: 0.560605, 58.97% Target domain: tr_loss-0.764088, tr_acc-91.53%\n",
      "25,000c2dTruet10:86.25% | 25,000c3dFalset10:78.33%\n"
     ]
    },
    {
     "name": "stderr",
     "output_type": "stream",
     "text": [
      "\n",
      "epoch-120 lr=['0.0001000'], tr/val_loss:  0.343115/  0.993310, tr:  98.19%, val:  84.58%, val_best:  87.92%: 100%|██████████| 62/62 [00:27<00:00,  2.27it/s]"
     ]
    },
    {
     "name": "stdout",
     "output_type": "stream",
     "text": [
      "Domain loss,acc: 0.547903, 55.44% Target domain: tr_loss-0.752691, tr_acc-92.14%\n",
      "25,000c2dTruet10:84.58% | 25,000c3dFalset10:80.83%\n"
     ]
    },
    {
     "name": "stderr",
     "output_type": "stream",
     "text": [
      "\n",
      "epoch-121 lr=['0.0001000'], tr/val_loss:  0.368333/  0.998186, tr:  98.19%, val:  85.83%, val_best:  87.92%: 100%|██████████| 62/62 [00:26<00:00,  2.31it/s]"
     ]
    },
    {
     "name": "stdout",
     "output_type": "stream",
     "text": [
      "Domain loss,acc: 0.563537, 58.17% Target domain: tr_loss-0.758742, tr_acc-90.93%\n",
      "25,000c2dTruet10:85.83% | 25,000c3dFalset10:81.67%\n"
     ]
    },
    {
     "name": "stderr",
     "output_type": "stream",
     "text": [
      "\n",
      "epoch-122 lr=['0.0001000'], tr/val_loss:  0.361882/  1.003870, tr:  98.39%, val:  85.42%, val_best:  87.92%: 100%|██████████| 62/62 [00:27<00:00,  2.25it/s]"
     ]
    },
    {
     "name": "stdout",
     "output_type": "stream",
     "text": [
      "Domain loss,acc: 0.535179, 57.06% Target domain: tr_loss-0.708477, tr_acc-93.35%\n",
      "25,000c2dTruet10:85.42% | 25,000c3dFalset10:80.42%\n"
     ]
    },
    {
     "name": "stderr",
     "output_type": "stream",
     "text": [
      "\n",
      "epoch-123 lr=['0.0001000'], tr/val_loss:  0.350008/  0.988750, tr:  97.98%, val:  84.58%, val_best:  87.92%: 100%|██████████| 62/62 [00:26<00:00,  2.31it/s]"
     ]
    },
    {
     "name": "stdout",
     "output_type": "stream",
     "text": [
      "Domain loss,acc: 0.561987, 60.08% Target domain: tr_loss-0.773966, tr_acc-90.32%\n",
      "25,000c2dTruet10:84.58% | 25,000c3dFalset10:80.83%\n"
     ]
    },
    {
     "name": "stderr",
     "output_type": "stream",
     "text": [
      "\n",
      "epoch-124 lr=['0.0001000'], tr/val_loss:  0.353343/  1.001062, tr:  98.79%, val:  85.83%, val_best:  87.92%: 100%|██████████| 62/62 [00:27<00:00,  2.27it/s]"
     ]
    },
    {
     "name": "stdout",
     "output_type": "stream",
     "text": [
      "Domain loss,acc: 0.544151, 57.46% Target domain: tr_loss-0.734960, tr_acc-91.33%\n",
      "25,000c2dTruet10:85.83% | 25,000c3dFalset10:81.25%\n"
     ]
    },
    {
     "name": "stderr",
     "output_type": "stream",
     "text": [
      "\n",
      "epoch-125 lr=['0.0001000'], tr/val_loss:  0.334407/  0.995079, tr:  98.39%, val:  85.42%, val_best:  87.92%: 100%|██████████| 62/62 [00:27<00:00,  2.27it/s]"
     ]
    },
    {
     "name": "stdout",
     "output_type": "stream",
     "text": [
      "Domain loss,acc: 0.553972, 57.56% Target domain: tr_loss-0.773536, tr_acc-90.12%\n",
      "25,000c2dTruet10:85.42% | 25,000c3dFalset10:80.00%\n"
     ]
    },
    {
     "name": "stderr",
     "output_type": "stream",
     "text": [
      "\n",
      "epoch-126 lr=['0.0001000'], tr/val_loss:  0.316678/  0.978889, tr:  98.99%, val:  86.25%, val_best:  87.92%: 100%|██████████| 62/62 [00:27<00:00,  2.29it/s]"
     ]
    },
    {
     "name": "stdout",
     "output_type": "stream",
     "text": [
      "Domain loss,acc: 0.525134, 58.06% Target domain: tr_loss-0.733590, tr_acc-91.94%\n",
      "25,000c2dTruet10:86.25% | 25,000c3dFalset10:82.92%\n"
     ]
    },
    {
     "name": "stderr",
     "output_type": "stream",
     "text": [
      "\n",
      "epoch-127 lr=['0.0001000'], tr/val_loss:  0.330683/  0.977771, tr:  97.98%, val:  87.08%, val_best:  87.92%: 100%|██████████| 62/62 [00:26<00:00,  2.30it/s]"
     ]
    },
    {
     "name": "stdout",
     "output_type": "stream",
     "text": [
      "Domain loss,acc: 0.544566, 58.06% Target domain: tr_loss-0.758449, tr_acc-91.13%\n",
      "25,000c2dTruet10:87.08% | 25,000c3dFalset10:80.83%\n"
     ]
    },
    {
     "name": "stderr",
     "output_type": "stream",
     "text": [
      "\n",
      "epoch-128 lr=['0.0001000'], tr/val_loss:  0.308967/  0.978806, tr:  97.98%, val:  87.92%, val_best:  87.92%: 100%|██████████| 62/62 [00:26<00:00,  2.31it/s]"
     ]
    },
    {
     "name": "stdout",
     "output_type": "stream",
     "text": [
      "Domain loss,acc: 0.519121, 56.05% Target domain: tr_loss-0.729274, tr_acc-90.93%\n",
      "25,000c2dTruet10:87.92% | 25,000c3dFalset10:80.83%\n"
     ]
    },
    {
     "name": "stderr",
     "output_type": "stream",
     "text": [
      "\n",
      "epoch-129 lr=['0.0001000'], tr/val_loss:  0.341635/  0.991999, tr:  98.39%, val:  86.25%, val_best:  87.92%: 100%|██████████| 62/62 [00:26<00:00,  2.31it/s]"
     ]
    },
    {
     "name": "stdout",
     "output_type": "stream",
     "text": [
      "Domain loss,acc: 0.521839, 56.35% Target domain: tr_loss-0.702043, tr_acc-92.14%\n",
      "25,000c2dTruet10:86.25% | 25,000c3dFalset10:81.67%\n"
     ]
    },
    {
     "name": "stderr",
     "output_type": "stream",
     "text": [
      "\n",
      "epoch-130 lr=['0.0001000'], tr/val_loss:  0.316329/  1.005662, tr:  98.19%, val:  85.00%, val_best:  87.92%: 100%|██████████| 62/62 [00:27<00:00,  2.25it/s]"
     ]
    },
    {
     "name": "stdout",
     "output_type": "stream",
     "text": [
      "Domain loss,acc: 0.517980, 55.95% Target domain: tr_loss-0.719630, tr_acc-94.56%\n",
      "25,000c2dTruet10:85.00% | 25,000c3dFalset10:80.00%\n"
     ]
    },
    {
     "name": "stderr",
     "output_type": "stream",
     "text": [
      "\n",
      "epoch-131 lr=['0.0001000'], tr/val_loss:  0.317338/  0.985818, tr:  98.59%, val:  85.83%, val_best:  87.92%: 100%|██████████| 62/62 [00:27<00:00,  2.28it/s]"
     ]
    },
    {
     "name": "stdout",
     "output_type": "stream",
     "text": [
      "Domain loss,acc: 0.518937, 56.96% Target domain: tr_loss-0.720536, tr_acc-92.74%\n",
      "25,000c2dTruet10:85.83% | 25,000c3dFalset10:80.83%\n"
     ]
    },
    {
     "name": "stderr",
     "output_type": "stream",
     "text": [
      "\n",
      "epoch-132 lr=['0.0001000'], tr/val_loss:  0.305644/  0.991906, tr:  98.99%, val:  86.67%, val_best:  87.92%: 100%|██████████| 62/62 [00:27<00:00,  2.28it/s]"
     ]
    },
    {
     "name": "stdout",
     "output_type": "stream",
     "text": [
      "Domain loss,acc: 0.524634, 57.16% Target domain: tr_loss-0.743624, tr_acc-91.33%\n",
      "25,000c2dTruet10:86.67% | 25,000c3dFalset10:82.08%\n"
     ]
    },
    {
     "name": "stderr",
     "output_type": "stream",
     "text": [
      "\n",
      "epoch-133 lr=['0.0001000'], tr/val_loss:  0.298173/  0.985448, tr:  99.19%, val:  83.75%, val_best:  87.92%: 100%|██████████| 62/62 [00:26<00:00,  2.34it/s]"
     ]
    },
    {
     "name": "stdout",
     "output_type": "stream",
     "text": [
      "Domain loss,acc: 0.509131, 56.65% Target domain: tr_loss-0.720089, tr_acc-91.13%\n",
      "25,000c2dTruet10:83.75% | 25,000c3dFalset10:80.42%\n"
     ]
    },
    {
     "name": "stderr",
     "output_type": "stream",
     "text": [
      "\n",
      "epoch-134 lr=['0.0001000'], tr/val_loss:  0.311973/  0.976212, tr:  98.39%, val:  87.92%, val_best:  87.92%: 100%|██████████| 62/62 [00:27<00:00,  2.28it/s]"
     ]
    },
    {
     "name": "stdout",
     "output_type": "stream",
     "text": [
      "Domain loss,acc: 0.509161, 56.65% Target domain: tr_loss-0.706350, tr_acc-93.15%\n",
      "25,000c2dTruet10:87.92% | 25,000c3dFalset10:81.67%\n"
     ]
    },
    {
     "name": "stderr",
     "output_type": "stream",
     "text": [
      "\n",
      "epoch-135 lr=['0.0001000'], tr/val_loss:  0.315552/  0.989294, tr:  98.39%, val:  85.42%, val_best:  87.92%: 100%|██████████| 62/62 [00:27<00:00,  2.28it/s]"
     ]
    },
    {
     "name": "stdout",
     "output_type": "stream",
     "text": [
      "Domain loss,acc: 0.501178, 58.57% Target domain: tr_loss-0.686805, tr_acc-92.74%\n",
      "25,000c2dTruet10:85.42% | 25,000c3dFalset10:80.83%\n"
     ]
    },
    {
     "name": "stderr",
     "output_type": "stream",
     "text": [
      "\n",
      "epoch-136 lr=['0.0001000'], tr/val_loss:  0.297738/  0.980821, tr:  98.99%, val:  85.83%, val_best:  87.92%: 100%|██████████| 62/62 [00:27<00:00,  2.27it/s]"
     ]
    },
    {
     "name": "stdout",
     "output_type": "stream",
     "text": [
      "Domain loss,acc: 0.503721, 55.44% Target domain: tr_loss-0.709704, tr_acc-93.95%\n",
      "25,000c2dTruet10:85.83% | 25,000c3dFalset10:81.25%\n"
     ]
    },
    {
     "name": "stderr",
     "output_type": "stream",
     "text": [
      "\n",
      "epoch-137 lr=['0.0001000'], tr/val_loss:  0.292313/  0.991720, tr:  98.59%, val:  87.92%, val_best:  87.92%: 100%|██████████| 62/62 [00:27<00:00,  2.28it/s]"
     ]
    },
    {
     "name": "stdout",
     "output_type": "stream",
     "text": [
      "Domain loss,acc: 0.500380, 56.85% Target domain: tr_loss-0.708448, tr_acc-92.54%\n",
      "25,000c2dTruet10:87.92% | 25,000c3dFalset10:83.33%\n"
     ]
    },
    {
     "name": "stderr",
     "output_type": "stream",
     "text": [
      "\n",
      "epoch-138 lr=['0.0001000'], tr/val_loss:  0.289990/  1.006449, tr:  98.59%, val:  83.75%, val_best:  87.92%: 100%|██████████| 62/62 [00:27<00:00,  2.29it/s]"
     ]
    },
    {
     "name": "stdout",
     "output_type": "stream",
     "text": [
      "Domain loss,acc: 0.501390, 58.67% Target domain: tr_loss-0.712790, tr_acc-94.35%\n",
      "25,000c2dTruet10:83.75% | 25,000c3dFalset10:76.67%\n"
     ]
    },
    {
     "name": "stderr",
     "output_type": "stream",
     "text": [
      "\n",
      "epoch-139 lr=['0.0001000'], tr/val_loss:  0.283903/  0.995473, tr:  99.19%, val:  85.83%, val_best:  87.92%: 100%|██████████| 62/62 [00:27<00:00,  2.24it/s]"
     ]
    },
    {
     "name": "stdout",
     "output_type": "stream",
     "text": [
      "Domain loss,acc: 0.500735, 56.75% Target domain: tr_loss-0.717566, tr_acc-92.74%\n",
      "25,000c2dTruet10:85.83% | 25,000c3dFalset10:82.50%\n"
     ]
    },
    {
     "name": "stderr",
     "output_type": "stream",
     "text": [
      "\n",
      "epoch-140 lr=['0.0001000'], tr/val_loss:  0.270393/  0.986260, tr:  98.99%, val:  87.08%, val_best:  87.92%: 100%|██████████| 62/62 [00:27<00:00,  2.29it/s]"
     ]
    },
    {
     "name": "stdout",
     "output_type": "stream",
     "text": [
      "Domain loss,acc: 0.486948, 57.76% Target domain: tr_loss-0.703503, tr_acc-93.55%\n",
      "25,000c2dTruet10:87.08% | 25,000c3dFalset10:81.67%\n"
     ]
    },
    {
     "name": "stderr",
     "output_type": "stream",
     "text": [
      "\n",
      "epoch-141 lr=['0.0001000'], tr/val_loss:  0.282297/  1.013208, tr:  98.79%, val:  84.58%, val_best:  87.92%: 100%|██████████| 62/62 [00:27<00:00,  2.27it/s]"
     ]
    },
    {
     "name": "stdout",
     "output_type": "stream",
     "text": [
      "Domain loss,acc: 0.494955, 57.26% Target domain: tr_loss-0.707612, tr_acc-92.74%\n",
      "25,000c2dTruet10:84.58% | 25,000c3dFalset10:80.42%\n"
     ]
    },
    {
     "name": "stderr",
     "output_type": "stream",
     "text": [
      "\n",
      "epoch-142 lr=['0.0001000'], tr/val_loss:  0.271769/  1.000281, tr:  99.19%, val:  87.50%, val_best:  87.92%: 100%|██████████| 62/62 [00:26<00:00,  2.35it/s]"
     ]
    },
    {
     "name": "stdout",
     "output_type": "stream",
     "text": [
      "Domain loss,acc: 0.498850, 60.58% Target domain: tr_loss-0.725930, tr_acc-93.55%\n",
      "25,000c2dTruet10:87.50% | 25,000c3dFalset10:80.83%\n"
     ]
    },
    {
     "name": "stderr",
     "output_type": "stream",
     "text": [
      "\n",
      "epoch-143 lr=['0.0001000'], tr/val_loss:  0.261258/  0.998012, tr:  98.99%, val:  86.25%, val_best:  87.92%: 100%|██████████| 62/62 [00:27<00:00,  2.26it/s]"
     ]
    },
    {
     "name": "stdout",
     "output_type": "stream",
     "text": [
      "Domain loss,acc: 0.496871, 58.37% Target domain: tr_loss-0.732484, tr_acc-92.14%\n",
      "25,000c2dTruet10:86.25% | 25,000c3dFalset10:82.08%\n"
     ]
    },
    {
     "name": "stderr",
     "output_type": "stream",
     "text": [
      "\n",
      "epoch-144 lr=['0.0001000'], tr/val_loss:  0.279635/  1.001642, tr:  98.79%, val:  85.83%, val_best:  87.92%: 100%|██████████| 62/62 [00:26<00:00,  2.33it/s]"
     ]
    },
    {
     "name": "stdout",
     "output_type": "stream",
     "text": [
      "Domain loss,acc: 0.508634, 58.17% Target domain: tr_loss-0.737633, tr_acc-92.94%\n",
      "25,000c2dTruet10:85.83% | 25,000c3dFalset10:81.25%\n"
     ]
    },
    {
     "name": "stderr",
     "output_type": "stream",
     "text": [
      "\n",
      "epoch-145 lr=['0.0001000'], tr/val_loss:  0.272326/  1.008830, tr:  99.19%, val:  86.67%, val_best:  87.92%: 100%|██████████| 62/62 [00:26<00:00,  2.31it/s]"
     ]
    },
    {
     "name": "stdout",
     "output_type": "stream",
     "text": [
      "Domain loss,acc: 0.496302, 57.76% Target domain: tr_loss-0.720278, tr_acc-93.15%\n",
      "25,000c2dTruet10:86.67% | 25,000c3dFalset10:81.67%\n"
     ]
    },
    {
     "name": "stderr",
     "output_type": "stream",
     "text": [
      "\n",
      "epoch-146 lr=['0.0001000'], tr/val_loss:  0.257155/  1.002698, tr:  98.79%, val:  87.92%, val_best:  87.92%: 100%|██████████| 62/62 [00:26<00:00,  2.32it/s]"
     ]
    },
    {
     "name": "stdout",
     "output_type": "stream",
     "text": [
      "Domain loss,acc: 0.489218, 58.97% Target domain: tr_loss-0.721280, tr_acc-92.34%\n",
      "25,000c2dTruet10:87.92% | 25,000c3dFalset10:82.08%\n"
     ]
    },
    {
     "name": "stderr",
     "output_type": "stream",
     "text": [
      "\n",
      "epoch-147 lr=['0.0001000'], tr/val_loss:  0.265281/  0.992670, tr:  98.99%, val:  87.50%, val_best:  87.92%: 100%|██████████| 62/62 [00:26<00:00,  2.33it/s]"
     ]
    },
    {
     "name": "stdout",
     "output_type": "stream",
     "text": [
      "Domain loss,acc: 0.478469, 57.26% Target domain: tr_loss-0.691657, tr_acc-94.96%\n",
      "25,000c2dTruet10:87.50% | 25,000c3dFalset10:80.83%\n"
     ]
    },
    {
     "name": "stderr",
     "output_type": "stream",
     "text": [
      "\n",
      "epoch-148 lr=['0.0001000'], tr/val_loss:  0.248125/  0.997665, tr:  98.99%, val:  85.83%, val_best:  87.92%: 100%|██████████| 62/62 [00:25<00:00,  2.40it/s]"
     ]
    },
    {
     "name": "stdout",
     "output_type": "stream",
     "text": [
      "Domain loss,acc: 0.479710, 59.27% Target domain: tr_loss-0.711296, tr_acc-93.75%\n",
      "25,000c2dTruet10:85.83% | 25,000c3dFalset10:80.00%\n"
     ]
    },
    {
     "name": "stderr",
     "output_type": "stream",
     "text": [
      "\n",
      "epoch-149 lr=['0.0001000'], tr/val_loss:  0.244633/  1.012225, tr:  98.79%, val:  85.42%, val_best:  87.92%: 100%|██████████| 62/62 [00:26<00:00,  2.33it/s]"
     ]
    },
    {
     "name": "stdout",
     "output_type": "stream",
     "text": [
      "Domain loss,acc: 0.459527, 58.97% Target domain: tr_loss-0.674420, tr_acc-93.35%\n",
      "25,000c2dTruet10:85.42% | 25,000c3dFalset10:80.00%\n"
     ]
    },
    {
     "name": "stderr",
     "output_type": "stream",
     "text": [
      "\n",
      "epoch-150 lr=['0.0001000'], tr/val_loss:  0.255412/  0.996827, tr:  98.79%, val:  87.92%, val_best:  87.92%: 100%|██████████| 62/62 [00:26<00:00,  2.34it/s]"
     ]
    },
    {
     "name": "stdout",
     "output_type": "stream",
     "text": [
      "Domain loss,acc: 0.487503, 56.15% Target domain: tr_loss-0.719594, tr_acc-93.35%\n",
      "25,000c2dTruet10:87.92% | 25,000c3dFalset10:80.83%\n"
     ]
    },
    {
     "name": "stderr",
     "output_type": "stream",
     "text": [
      "\n",
      "epoch-151 lr=['0.0001000'], tr/val_loss:  0.238045/  1.006293, tr:  99.60%, val:  87.08%, val_best:  87.92%: 100%|██████████| 62/62 [00:26<00:00,  2.30it/s]"
     ]
    },
    {
     "name": "stdout",
     "output_type": "stream",
     "text": [
      "Domain loss,acc: 0.460327, 56.75% Target domain: tr_loss-0.682608, tr_acc-95.16%\n",
      "25,000c2dTruet10:87.08% | 25,000c3dFalset10:80.42%\n"
     ]
    },
    {
     "name": "stderr",
     "output_type": "stream",
     "text": [
      "\n",
      "epoch-152 lr=['0.0001000'], tr/val_loss:  0.241024/  0.993536, tr:  98.99%, val:  86.67%, val_best:  87.92%: 100%|██████████| 62/62 [00:26<00:00,  2.33it/s]"
     ]
    },
    {
     "name": "stdout",
     "output_type": "stream",
     "text": [
      "Domain loss,acc: 0.455790, 57.46% Target domain: tr_loss-0.670555, tr_acc-94.76%\n",
      "25,000c2dTruet10:86.67% | 25,000c3dFalset10:81.25%\n"
     ]
    },
    {
     "name": "stderr",
     "output_type": "stream",
     "text": [
      "\n",
      "epoch-153 lr=['0.0001000'], tr/val_loss:  0.249805/  0.994179, tr:  98.99%, val:  86.67%, val_best:  87.92%: 100%|██████████| 62/62 [00:27<00:00,  2.24it/s]"
     ]
    },
    {
     "name": "stdout",
     "output_type": "stream",
     "text": [
      "Domain loss,acc: 0.476780, 59.68% Target domain: tr_loss-0.703756, tr_acc-93.35%\n",
      "25,000c2dTruet10:86.67% | 25,000c3dFalset10:81.67%\n"
     ]
    },
    {
     "name": "stderr",
     "output_type": "stream",
     "text": [
      "\n",
      "epoch-154 lr=['0.0001000'], tr/val_loss:  0.237806/  1.004706, tr:  99.40%, val:  87.08%, val_best:  87.92%: 100%|██████████| 62/62 [00:27<00:00,  2.27it/s]"
     ]
    },
    {
     "name": "stdout",
     "output_type": "stream",
     "text": [
      "Domain loss,acc: 0.456293, 56.85% Target domain: tr_loss-0.674780, tr_acc-95.36%\n",
      "25,000c2dTruet10:87.08% | 25,000c3dFalset10:80.42%\n"
     ]
    },
    {
     "name": "stderr",
     "output_type": "stream",
     "text": [
      "\n",
      "epoch-155 lr=['0.0001000'], tr/val_loss:  0.227621/  1.001671, tr:  99.60%, val:  87.92%, val_best:  87.92%: 100%|██████████| 62/62 [00:27<00:00,  2.26it/s]"
     ]
    },
    {
     "name": "stdout",
     "output_type": "stream",
     "text": [
      "Domain loss,acc: 0.462378, 59.58% Target domain: tr_loss-0.697135, tr_acc-94.96%\n",
      "25,000c2dTruet10:87.92% | 25,000c3dFalset10:81.67%\n"
     ]
    },
    {
     "name": "stderr",
     "output_type": "stream",
     "text": [
      "\n",
      "epoch-156 lr=['0.0001000'], tr/val_loss:  0.222777/  0.998723, tr:  99.60%, val:  86.67%, val_best:  87.92%: 100%|██████████| 62/62 [00:27<00:00,  2.23it/s]"
     ]
    },
    {
     "name": "stdout",
     "output_type": "stream",
     "text": [
      "Domain loss,acc: 0.460156, 57.56% Target domain: tr_loss-0.697535, tr_acc-93.55%\n",
      "25,000c2dTruet10:86.67% | 25,000c3dFalset10:81.25%\n"
     ]
    },
    {
     "name": "stderr",
     "output_type": "stream",
     "text": [
      "\n",
      "epoch-157 lr=['0.0001000'], tr/val_loss:  0.223682/  1.002940, tr:  99.60%, val:  86.25%, val_best:  87.92%: 100%|██████████| 62/62 [00:26<00:00,  2.30it/s]"
     ]
    },
    {
     "name": "stdout",
     "output_type": "stream",
     "text": [
      "Domain loss,acc: 0.454449, 59.38% Target domain: tr_loss-0.685216, tr_acc-93.55%\n",
      "25,000c2dTruet10:86.25% | 25,000c3dFalset10:80.42%\n"
     ]
    },
    {
     "name": "stderr",
     "output_type": "stream",
     "text": [
      "\n",
      "epoch-158 lr=['0.0001000'], tr/val_loss:  0.223217/  0.988832, tr:  99.60%, val:  89.17%, val_best:  89.17%: 100%|██████████| 62/62 [00:27<00:00,  2.28it/s]"
     ]
    },
    {
     "name": "stdout",
     "output_type": "stream",
     "text": [
      "Domain loss,acc: 0.477942, 56.96% Target domain: tr_loss-0.732668, tr_acc-93.15%\n",
      "25,000c2dTruet10:89.17% | 25,000c3dFalset10:79.17%\n"
     ]
    },
    {
     "name": "stderr",
     "output_type": "stream",
     "text": [
      "\n",
      "epoch-159 lr=['0.0001000'], tr/val_loss:  0.222174/  1.000026, tr:  98.99%, val:  87.50%, val_best:  89.17%: 100%|██████████| 62/62 [00:27<00:00,  2.25it/s]"
     ]
    },
    {
     "name": "stdout",
     "output_type": "stream",
     "text": [
      "Domain loss,acc: 0.464089, 58.67% Target domain: tr_loss-0.706003, tr_acc-93.95%\n",
      "25,000c2dTruet10:87.50% | 25,000c3dFalset10:81.67%\n"
     ]
    },
    {
     "name": "stderr",
     "output_type": "stream",
     "text": [
      "\n",
      "epoch-160 lr=['0.0001000'], tr/val_loss:  0.223093/  0.991918, tr:  99.60%, val:  87.50%, val_best:  89.17%: 100%|██████████| 62/62 [00:27<00:00,  2.26it/s]"
     ]
    },
    {
     "name": "stdout",
     "output_type": "stream",
     "text": [
      "Domain loss,acc: 0.462105, 58.17% Target domain: tr_loss-0.701116, tr_acc-96.17%\n",
      "25,000c2dTruet10:87.50% | 25,000c3dFalset10:81.67%\n"
     ]
    },
    {
     "name": "stderr",
     "output_type": "stream",
     "text": [
      "\n",
      "epoch-161 lr=['0.0001000'], tr/val_loss:  0.221156/  0.995581, tr:  99.60%, val:  88.33%, val_best:  89.17%: 100%|██████████| 62/62 [00:27<00:00,  2.28it/s]"
     ]
    },
    {
     "name": "stdout",
     "output_type": "stream",
     "text": [
      "Domain loss,acc: 0.455710, 55.54% Target domain: tr_loss-0.690263, tr_acc-94.96%\n",
      "25,000c2dTruet10:88.33% | 25,000c3dFalset10:81.67%\n"
     ]
    },
    {
     "name": "stderr",
     "output_type": "stream",
     "text": [
      "\n",
      "epoch-162 lr=['0.0001000'], tr/val_loss:  0.207397/  1.015677, tr:  99.80%, val:  87.50%, val_best:  89.17%: 100%|██████████| 62/62 [00:27<00:00,  2.27it/s]"
     ]
    },
    {
     "name": "stdout",
     "output_type": "stream",
     "text": [
      "Domain loss,acc: 0.450385, 55.85% Target domain: tr_loss-0.693373, tr_acc-93.95%\n",
      "25,000c2dTruet10:87.50% | 25,000c3dFalset10:82.92%\n"
     ]
    },
    {
     "name": "stderr",
     "output_type": "stream",
     "text": [
      "\n",
      "epoch-163 lr=['0.0001000'], tr/val_loss:  0.218587/  0.993401, tr:  99.60%, val:  87.92%, val_best:  89.17%: 100%|██████████| 62/62 [00:27<00:00,  2.26it/s]"
     ]
    },
    {
     "name": "stdout",
     "output_type": "stream",
     "text": [
      "Domain loss,acc: 0.465024, 59.68% Target domain: tr_loss-0.711460, tr_acc-93.35%\n",
      "25,000c2dTruet10:87.92% | 25,000c3dFalset10:82.50%\n"
     ]
    },
    {
     "name": "stderr",
     "output_type": "stream",
     "text": [
      "\n",
      "epoch-164 lr=['0.0001000'], tr/val_loss:  0.212344/  0.999391, tr:  99.60%, val:  87.08%, val_best:  89.17%: 100%|██████████| 62/62 [00:27<00:00,  2.29it/s]"
     ]
    },
    {
     "name": "stdout",
     "output_type": "stream",
     "text": [
      "Domain loss,acc: 0.459515, 57.86% Target domain: tr_loss-0.706686, tr_acc-94.15%\n",
      "25,000c2dTruet10:87.08% | 25,000c3dFalset10:82.08%\n"
     ]
    },
    {
     "name": "stderr",
     "output_type": "stream",
     "text": [
      "\n",
      "epoch-165 lr=['0.0001000'], tr/val_loss:  0.205644/  1.013603, tr:  99.80%, val:  87.08%, val_best:  89.17%: 100%|██████████| 62/62 [00:26<00:00,  2.30it/s]"
     ]
    },
    {
     "name": "stdout",
     "output_type": "stream",
     "text": [
      "Domain loss,acc: 0.449244, 56.25% Target domain: tr_loss-0.692844, tr_acc-94.35%\n",
      "25,000c2dTruet10:87.08% | 25,000c3dFalset10:80.42%\n"
     ]
    },
    {
     "name": "stderr",
     "output_type": "stream",
     "text": [
      "\n",
      "epoch-166 lr=['0.0001000'], tr/val_loss:  0.215276/  1.000890, tr: 100.00%, val:  89.58%, val_best:  89.58%: 100%|██████████| 62/62 [00:27<00:00,  2.29it/s]"
     ]
    },
    {
     "name": "stdout",
     "output_type": "stream",
     "text": [
      "Domain loss,acc: 0.452874, 56.35% Target domain: tr_loss-0.690472, tr_acc-93.35%\n",
      "25,000c2dTruet10:89.58% | 25,000c3dFalset10:82.50%\n"
     ]
    },
    {
     "name": "stderr",
     "output_type": "stream",
     "text": [
      "\n",
      "epoch-167 lr=['0.0001000'], tr/val_loss:  0.209631/  1.010779, tr:  99.40%, val:  85.83%, val_best:  89.58%: 100%|██████████| 62/62 [00:27<00:00,  2.26it/s]"
     ]
    },
    {
     "name": "stdout",
     "output_type": "stream",
     "text": [
      "Domain loss,acc: 0.438833, 58.67% Target domain: tr_loss-0.668035, tr_acc-95.77%\n",
      "25,000c2dTruet10:85.83% | 25,000c3dFalset10:80.00%\n"
     ]
    },
    {
     "name": "stderr",
     "output_type": "stream",
     "text": [
      "\n",
      "epoch-168 lr=['0.0001000'], tr/val_loss:  0.200075/  1.017278, tr:  99.60%, val:  87.50%, val_best:  89.58%: 100%|██████████| 62/62 [00:27<00:00,  2.29it/s]"
     ]
    },
    {
     "name": "stdout",
     "output_type": "stream",
     "text": [
      "Domain loss,acc: 0.444333, 58.37% Target domain: tr_loss-0.688592, tr_acc-94.35%\n",
      "25,000c2dTruet10:87.50% | 25,000c3dFalset10:81.25%\n"
     ]
    },
    {
     "name": "stderr",
     "output_type": "stream",
     "text": [
      "\n",
      "epoch-169 lr=['0.0001000'], tr/val_loss:  0.200578/  1.011223, tr:  99.80%, val:  87.50%, val_best:  89.58%: 100%|██████████| 62/62 [00:27<00:00,  2.26it/s]"
     ]
    },
    {
     "name": "stdout",
     "output_type": "stream",
     "text": [
      "Domain loss,acc: 0.438380, 58.06% Target domain: tr_loss-0.676182, tr_acc-95.36%\n",
      "25,000c2dTruet10:87.50% | 25,000c3dFalset10:81.67%\n"
     ]
    },
    {
     "name": "stderr",
     "output_type": "stream",
     "text": [
      "\n",
      "epoch-170 lr=['0.0001000'], tr/val_loss:  0.207461/  0.996007, tr:  99.60%, val:  88.33%, val_best:  89.58%: 100%|██████████| 62/62 [00:26<00:00,  2.30it/s]"
     ]
    },
    {
     "name": "stdout",
     "output_type": "stream",
     "text": [
      "Domain loss,acc: 0.448806, 58.27% Target domain: tr_loss-0.690151, tr_acc-92.94%\n",
      "25,000c2dTruet10:88.33% | 25,000c3dFalset10:82.50%\n"
     ]
    },
    {
     "name": "stderr",
     "output_type": "stream",
     "text": [
      "\n",
      "epoch-171 lr=['0.0001000'], tr/val_loss:  0.197042/  1.012212, tr:  99.80%, val:  86.67%, val_best:  89.58%: 100%|██████████| 62/62 [00:27<00:00,  2.25it/s]"
     ]
    },
    {
     "name": "stdout",
     "output_type": "stream",
     "text": [
      "Domain loss,acc: 0.453283, 59.88% Target domain: tr_loss-0.709525, tr_acc-91.53%\n",
      "25,000c2dTruet10:86.67% | 25,000c3dFalset10:81.67%\n"
     ]
    },
    {
     "name": "stderr",
     "output_type": "stream",
     "text": [
      "\n",
      "epoch-172 lr=['0.0001000'], tr/val_loss:  0.210992/  1.001148, tr:  99.40%, val:  87.50%, val_best:  89.58%: 100%|██████████| 62/62 [00:27<00:00,  2.26it/s]"
     ]
    },
    {
     "name": "stdout",
     "output_type": "stream",
     "text": [
      "Domain loss,acc: 0.441837, 58.67% Target domain: tr_loss-0.672683, tr_acc-94.56%\n",
      "25,000c2dTruet10:87.50% | 25,000c3dFalset10:82.50%\n"
     ]
    },
    {
     "name": "stderr",
     "output_type": "stream",
     "text": [
      "\n",
      "epoch-173 lr=['0.0001000'], tr/val_loss:  0.186942/  1.024248, tr:  99.60%, val:  86.25%, val_best:  89.58%: 100%|██████████| 62/62 [00:27<00:00,  2.24it/s]"
     ]
    },
    {
     "name": "stdout",
     "output_type": "stream",
     "text": [
      "Domain loss,acc: 0.438858, 57.46% Target domain: tr_loss-0.690774, tr_acc-94.76%\n",
      "25,000c2dTruet10:86.25% | 25,000c3dFalset10:83.33%\n"
     ]
    },
    {
     "name": "stderr",
     "output_type": "stream",
     "text": [
      "\n",
      "epoch-174 lr=['0.0001000'], tr/val_loss:  0.181182/  1.020113, tr:  99.60%, val:  86.67%, val_best:  89.58%: 100%|██████████| 62/62 [00:26<00:00,  2.32it/s]"
     ]
    },
    {
     "name": "stdout",
     "output_type": "stream",
     "text": [
      "Domain loss,acc: 0.444751, 58.17% Target domain: tr_loss-0.708320, tr_acc-93.75%\n",
      "25,000c2dTruet10:86.67% | 25,000c3dFalset10:80.00%\n"
     ]
    },
    {
     "name": "stderr",
     "output_type": "stream",
     "text": [
      "\n",
      "epoch-175 lr=['0.0001000'], tr/val_loss:  0.189694/  1.020114, tr:  99.80%, val:  86.25%, val_best:  89.58%: 100%|██████████| 62/62 [00:27<00:00,  2.30it/s]"
     ]
    },
    {
     "name": "stdout",
     "output_type": "stream",
     "text": [
      "Domain loss,acc: 0.435016, 58.27% Target domain: tr_loss-0.680338, tr_acc-93.95%\n",
      "25,000c2dTruet10:86.25% | 25,000c3dFalset10:82.92%\n"
     ]
    },
    {
     "name": "stderr",
     "output_type": "stream",
     "text": [
      "\n",
      "epoch-176 lr=['0.0001000'], tr/val_loss:  0.171452/  1.019210, tr: 100.00%, val:  85.83%, val_best:  89.58%: 100%|██████████| 62/62 [00:27<00:00,  2.27it/s]"
     ]
    },
    {
     "name": "stdout",
     "output_type": "stream",
     "text": [
      "Domain loss,acc: 0.451607, 58.87% Target domain: tr_loss-0.731761, tr_acc-93.95%\n",
      "25,000c2dTruet10:85.83% | 25,000c3dFalset10:81.25%\n"
     ]
    },
    {
     "name": "stderr",
     "output_type": "stream",
     "text": [
      "\n",
      "epoch-177 lr=['0.0001000'], tr/val_loss:  0.178664/  1.014160, tr:  99.80%, val:  85.83%, val_best:  89.58%: 100%|██████████| 62/62 [00:27<00:00,  2.24it/s]"
     ]
    },
    {
     "name": "stdout",
     "output_type": "stream",
     "text": [
      "Domain loss,acc: 0.440050, 59.48% Target domain: tr_loss-0.701437, tr_acc-93.35%\n",
      "25,000c2dTruet10:85.83% | 25,000c3dFalset10:82.08%\n"
     ]
    },
    {
     "name": "stderr",
     "output_type": "stream",
     "text": [
      "\n",
      "epoch-178 lr=['0.0001000'], tr/val_loss:  0.180790/  1.021960, tr: 100.00%, val:  88.33%, val_best:  89.58%: 100%|██████████| 62/62 [00:27<00:00,  2.23it/s]"
     ]
    },
    {
     "name": "stdout",
     "output_type": "stream",
     "text": [
      "Domain loss,acc: 0.425856, 58.77% Target domain: tr_loss-0.670923, tr_acc-94.56%\n",
      "25,000c2dTruet10:88.33% | 25,000c3dFalset10:81.67%\n"
     ]
    },
    {
     "name": "stderr",
     "output_type": "stream",
     "text": [
      "\n",
      "epoch-179 lr=['0.0001000'], tr/val_loss:  0.166387/  1.016809, tr:  99.80%, val:  87.08%, val_best:  89.58%: 100%|██████████| 62/62 [00:27<00:00,  2.25it/s]"
     ]
    },
    {
     "name": "stdout",
     "output_type": "stream",
     "text": [
      "Domain loss,acc: 0.413736, 57.56% Target domain: tr_loss-0.661084, tr_acc-94.56%\n",
      "25,000c2dTruet10:87.08% | 25,000c3dFalset10:81.67%\n"
     ]
    },
    {
     "name": "stderr",
     "output_type": "stream",
     "text": [
      "\n",
      "epoch-180 lr=['0.0001000'], tr/val_loss:  0.164638/  1.019645, tr: 100.00%, val:  87.92%, val_best:  89.58%: 100%|██████████| 62/62 [00:27<00:00,  2.29it/s]"
     ]
    },
    {
     "name": "stdout",
     "output_type": "stream",
     "text": [
      "Domain loss,acc: 0.427289, 58.37% Target domain: tr_loss-0.689941, tr_acc-94.56%\n",
      "25,000c2dTruet10:87.92% | 25,000c3dFalset10:82.50%\n"
     ]
    },
    {
     "name": "stderr",
     "output_type": "stream",
     "text": [
      "\n",
      "epoch-181 lr=['0.0001000'], tr/val_loss:  0.170918/  1.021034, tr:  99.80%, val:  87.50%, val_best:  89.58%: 100%|██████████| 62/62 [00:27<00:00,  2.24it/s]"
     ]
    },
    {
     "name": "stdout",
     "output_type": "stream",
     "text": [
      "Domain loss,acc: 0.430175, 57.96% Target domain: tr_loss-0.689433, tr_acc-95.36%\n",
      "25,000c2dTruet10:87.50% | 25,000c3dFalset10:82.08%\n"
     ]
    },
    {
     "name": "stderr",
     "output_type": "stream",
     "text": [
      "\n",
      "epoch-182 lr=['0.0001000'], tr/val_loss:  0.173803/  1.020455, tr:  99.80%, val:  87.50%, val_best:  89.58%: 100%|██████████| 62/62 [00:27<00:00,  2.29it/s]"
     ]
    },
    {
     "name": "stdout",
     "output_type": "stream",
     "text": [
      "Domain loss,acc: 0.442178, 56.05% Target domain: tr_loss-0.710552, tr_acc-94.76%\n",
      "25,000c2dTruet10:87.50% | 25,000c3dFalset10:81.67%\n"
     ]
    },
    {
     "name": "stderr",
     "output_type": "stream",
     "text": [
      "\n",
      "epoch-183 lr=['0.0001000'], tr/val_loss:  0.161555/  1.034791, tr:  99.80%, val:  86.67%, val_best:  89.58%: 100%|██████████| 62/62 [00:27<00:00,  2.27it/s]"
     ]
    },
    {
     "name": "stdout",
     "output_type": "stream",
     "text": [
      "Domain loss,acc: 0.418298, 58.97% Target domain: tr_loss-0.675040, tr_acc-94.56%\n",
      "25,000c2dTruet10:86.67% | 25,000c3dFalset10:80.83%\n"
     ]
    },
    {
     "name": "stderr",
     "output_type": "stream",
     "text": [
      "\n",
      "epoch-184 lr=['0.0001000'], tr/val_loss:  0.159435/  1.025589, tr:  99.80%, val:  87.50%, val_best:  89.58%: 100%|██████████| 62/62 [00:27<00:00,  2.22it/s]"
     ]
    },
    {
     "name": "stdout",
     "output_type": "stream",
     "text": [
      "Domain loss,acc: 0.430203, 58.87% Target domain: tr_loss-0.700972, tr_acc-94.56%\n",
      "25,000c2dTruet10:87.50% | 25,000c3dFalset10:81.25%\n"
     ]
    },
    {
     "name": "stderr",
     "output_type": "stream",
     "text": [
      "\n",
      "epoch-185 lr=['0.0001000'], tr/val_loss:  0.165666/  1.036105, tr:  99.60%, val:  87.08%, val_best:  89.58%: 100%|██████████| 62/62 [00:27<00:00,  2.24it/s]"
     ]
    },
    {
     "name": "stdout",
     "output_type": "stream",
     "text": [
      "Domain loss,acc: 0.416966, 57.56% Target domain: tr_loss-0.668266, tr_acc-94.35%\n",
      "25,000c2dTruet10:87.08% | 25,000c3dFalset10:80.83%\n"
     ]
    },
    {
     "name": "stderr",
     "output_type": "stream",
     "text": [
      "\n",
      "epoch-186 lr=['0.0001000'], tr/val_loss:  0.163267/  1.049044, tr: 100.00%, val:  86.67%, val_best:  89.58%: 100%|██████████| 62/62 [00:27<00:00,  2.27it/s]"
     ]
    },
    {
     "name": "stdout",
     "output_type": "stream",
     "text": [
      "Domain loss,acc: 0.415034, 55.75% Target domain: tr_loss-0.666801, tr_acc-94.76%\n",
      "25,000c2dTruet10:86.67% | 25,000c3dFalset10:82.08%\n"
     ]
    },
    {
     "name": "stderr",
     "output_type": "stream",
     "text": [
      "\n",
      "epoch-187 lr=['0.0001000'], tr/val_loss:  0.145228/  1.038543, tr: 100.00%, val:  85.83%, val_best:  89.58%: 100%|██████████| 62/62 [00:27<00:00,  2.22it/s]"
     ]
    },
    {
     "name": "stdout",
     "output_type": "stream",
     "text": [
      "Domain loss,acc: 0.418324, 57.16% Target domain: tr_loss-0.691419, tr_acc-95.36%\n",
      "25,000c2dTruet10:85.83% | 25,000c3dFalset10:82.08%\n"
     ]
    },
    {
     "name": "stderr",
     "output_type": "stream",
     "text": [
      "\n",
      "epoch-188 lr=['0.0001000'], tr/val_loss:  0.175529/  1.040143, tr:  99.80%, val:  86.25%, val_best:  89.58%: 100%|██████████| 62/62 [00:27<00:00,  2.29it/s]"
     ]
    },
    {
     "name": "stdout",
     "output_type": "stream",
     "text": [
      "Domain loss,acc: 0.414184, 57.76% Target domain: tr_loss-0.652840, tr_acc-95.56%\n",
      "25,000c2dTruet10:86.25% | 25,000c3dFalset10:82.50%\n"
     ]
    },
    {
     "name": "stderr",
     "output_type": "stream",
     "text": [
      "\n",
      "epoch-189 lr=['0.0001000'], tr/val_loss:  0.148741/  1.025542, tr: 100.00%, val:  87.50%, val_best:  89.58%: 100%|██████████| 62/62 [00:26<00:00,  2.32it/s]"
     ]
    },
    {
     "name": "stdout",
     "output_type": "stream",
     "text": [
      "Domain loss,acc: 0.424859, 58.17% Target domain: tr_loss-0.700978, tr_acc-93.75%\n",
      "25,000c2dTruet10:87.50% | 25,000c3dFalset10:82.50%\n"
     ]
    },
    {
     "name": "stderr",
     "output_type": "stream",
     "text": [
      "\n",
      "epoch-190 lr=['0.0001000'], tr/val_loss:  0.143963/  1.044044, tr:  99.80%, val:  86.67%, val_best:  89.58%: 100%|██████████| 62/62 [00:27<00:00,  2.27it/s]"
     ]
    },
    {
     "name": "stdout",
     "output_type": "stream",
     "text": [
      "Domain loss,acc: 0.405152, 58.37% Target domain: tr_loss-0.666342, tr_acc-95.16%\n",
      "25,000c2dTruet10:86.67% | 25,000c3dFalset10:82.92%\n"
     ]
    },
    {
     "name": "stderr",
     "output_type": "stream",
     "text": [
      "\n",
      "epoch-191 lr=['0.0001000'], tr/val_loss:  0.156286/  1.031409, tr:  99.60%, val:  87.92%, val_best:  89.58%: 100%|██████████| 62/62 [00:26<00:00,  2.31it/s]"
     ]
    },
    {
     "name": "stdout",
     "output_type": "stream",
     "text": [
      "Domain loss,acc: 0.429473, 59.07% Target domain: tr_loss-0.702660, tr_acc-94.15%\n",
      "25,000c2dTruet10:87.92% | 25,000c3dFalset10:82.92%\n"
     ]
    },
    {
     "name": "stderr",
     "output_type": "stream",
     "text": [
      "\n",
      "epoch-192 lr=['0.0001000'], tr/val_loss:  0.144824/  1.041533, tr: 100.00%, val:  87.92%, val_best:  89.58%: 100%|██████████| 62/62 [00:27<00:00,  2.27it/s]"
     ]
    },
    {
     "name": "stdout",
     "output_type": "stream",
     "text": [
      "Domain loss,acc: 0.409911, 58.87% Target domain: tr_loss-0.674997, tr_acc-94.96%\n",
      "25,000c2dTruet10:87.92% | 25,000c3dFalset10:82.92%\n"
     ]
    },
    {
     "name": "stderr",
     "output_type": "stream",
     "text": [
      "\n",
      "epoch-193 lr=['0.0001000'], tr/val_loss:  0.155951/  1.031608, tr:  99.80%, val:  87.08%, val_best:  89.58%: 100%|██████████| 62/62 [00:26<00:00,  2.30it/s]"
     ]
    },
    {
     "name": "stdout",
     "output_type": "stream",
     "text": [
      "Domain loss,acc: 0.424868, 57.76% Target domain: tr_loss-0.693785, tr_acc-94.76%\n",
      "25,000c2dTruet10:87.08% | 25,000c3dFalset10:80.83%\n"
     ]
    },
    {
     "name": "stderr",
     "output_type": "stream",
     "text": [
      "\n",
      "epoch-194 lr=['0.0001000'], tr/val_loss:  0.146001/  1.045757, tr: 100.00%, val:  87.08%, val_best:  89.58%: 100%|██████████| 62/62 [00:26<00:00,  2.32it/s]"
     ]
    },
    {
     "name": "stdout",
     "output_type": "stream",
     "text": [
      "Domain loss,acc: 0.404615, 58.27% Target domain: tr_loss-0.663228, tr_acc-95.16%\n",
      "25,000c2dTruet10:87.08% | 25,000c3dFalset10:82.08%\n"
     ]
    },
    {
     "name": "stderr",
     "output_type": "stream",
     "text": [
      "\n",
      "epoch-195 lr=['0.0001000'], tr/val_loss:  0.140178/  1.050941, tr: 100.00%, val:  85.42%, val_best:  89.58%: 100%|██████████| 62/62 [00:26<00:00,  2.31it/s]"
     ]
    },
    {
     "name": "stdout",
     "output_type": "stream",
     "text": [
      "Domain loss,acc: 0.417864, 60.38% Target domain: tr_loss-0.695551, tr_acc-93.95%\n",
      "25,000c2dTruet10:85.42% | 25,000c3dFalset10:81.67%\n"
     ]
    },
    {
     "name": "stderr",
     "output_type": "stream",
     "text": [
      "\n",
      "epoch-196 lr=['0.0001000'], tr/val_loss:  0.151622/  1.045285, tr: 100.00%, val:  87.08%, val_best:  89.58%: 100%|██████████| 62/62 [00:26<00:00,  2.33it/s]"
     ]
    },
    {
     "name": "stdout",
     "output_type": "stream",
     "text": [
      "Domain loss,acc: 0.408114, 59.58% Target domain: tr_loss-0.664607, tr_acc-94.76%\n",
      "25,000c2dTruet10:87.08% | 25,000c3dFalset10:82.08%\n"
     ]
    },
    {
     "name": "stderr",
     "output_type": "stream",
     "text": [
      "\n",
      "epoch-197 lr=['0.0001000'], tr/val_loss:  0.139946/  1.055099, tr: 100.00%, val:  85.00%, val_best:  89.58%: 100%|██████████| 62/62 [00:26<00:00,  2.37it/s]"
     ]
    },
    {
     "name": "stdout",
     "output_type": "stream",
     "text": [
      "Domain loss,acc: 0.411472, 56.96% Target domain: tr_loss-0.682999, tr_acc-94.35%\n",
      "25,000c2dTruet10:85.00% | 25,000c3dFalset10:81.67%\n"
     ]
    },
    {
     "name": "stderr",
     "output_type": "stream",
     "text": [
      "\n",
      "epoch-198 lr=['0.0001000'], tr/val_loss:  0.145640/  1.039757, tr: 100.00%, val:  87.92%, val_best:  89.58%: 100%|██████████| 62/62 [00:25<00:00,  2.40it/s]"
     ]
    },
    {
     "name": "stdout",
     "output_type": "stream",
     "text": [
      "Domain loss,acc: 0.404736, 57.56% Target domain: tr_loss-0.663833, tr_acc-96.37%\n",
      "25,000c2dTruet10:87.92% | 25,000c3dFalset10:82.08%\n"
     ]
    },
    {
     "name": "stderr",
     "output_type": "stream",
     "text": [
      "\n",
      "epoch-199 lr=['0.0001000'], tr/val_loss:  0.141389/  1.056013, tr: 100.00%, val:  86.67%, val_best:  89.58%: 100%|██████████| 62/62 [00:26<00:00,  2.34it/s]"
     ]
    },
    {
     "name": "stdout",
     "output_type": "stream",
     "text": [
      "Domain loss,acc: 0.413674, 57.76% Target domain: tr_loss-0.685960, tr_acc-95.56%\n",
      "25,000c2dTruet10:86.67% | 25,000c3dFalset10:82.50%\n"
     ]
    },
    {
     "name": "stderr",
     "output_type": "stream",
     "text": [
      "\n",
      "epoch-200 lr=['0.0001000'], tr/val_loss:  0.145679/  1.056050, tr: 100.00%, val:  87.50%, val_best:  89.58%: 100%|██████████| 62/62 [00:26<00:00,  2.36it/s]"
     ]
    },
    {
     "name": "stdout",
     "output_type": "stream",
     "text": [
      "Domain loss,acc: 0.408692, 57.66% Target domain: tr_loss-0.671706, tr_acc-95.56%\n",
      "25,000c2dTruet10:87.50% | 25,000c3dFalset10:82.08%\n"
     ]
    },
    {
     "name": "stderr",
     "output_type": "stream",
     "text": [
      "\n",
      "epoch-201 lr=['0.0001000'], tr/val_loss:  0.131970/  1.038326, tr: 100.00%, val:  87.50%, val_best:  89.58%: 100%|██████████| 62/62 [00:26<00:00,  2.32it/s]"
     ]
    },
    {
     "name": "stdout",
     "output_type": "stream",
     "text": [
      "Domain loss,acc: 0.407533, 55.95% Target domain: tr_loss-0.683096, tr_acc-94.15%\n",
      "25,000c2dTruet10:87.50% | 25,000c3dFalset10:83.33%\n"
     ]
    },
    {
     "name": "stderr",
     "output_type": "stream",
     "text": [
      "\n",
      "epoch-202 lr=['0.0001000'], tr/val_loss:  0.129225/  1.063610, tr: 100.00%, val:  85.42%, val_best:  89.58%: 100%|██████████| 62/62 [00:26<00:00,  2.37it/s]"
     ]
    },
    {
     "name": "stdout",
     "output_type": "stream",
     "text": [
      "Domain loss,acc: 0.419300, 58.27% Target domain: tr_loss-0.709374, tr_acc-94.35%\n",
      "25,000c2dTruet10:85.42% | 25,000c3dFalset10:83.33%\n"
     ]
    },
    {
     "name": "stderr",
     "output_type": "stream",
     "text": [
      "\n",
      "epoch-203 lr=['0.0001000'], tr/val_loss:  0.132280/  1.045472, tr:  99.80%, val:  86.67%, val_best:  89.58%: 100%|██████████| 62/62 [00:26<00:00,  2.36it/s]"
     ]
    },
    {
     "name": "stdout",
     "output_type": "stream",
     "text": [
      "Domain loss,acc: 0.406423, 58.06% Target domain: tr_loss-0.680565, tr_acc-95.77%\n",
      "25,000c2dTruet10:86.67% | 25,000c3dFalset10:82.50%\n"
     ]
    },
    {
     "name": "stderr",
     "output_type": "stream",
     "text": [
      "\n",
      "epoch-204 lr=['0.0001000'], tr/val_loss:  0.131773/  1.041589, tr:  99.60%, val:  87.92%, val_best:  89.58%: 100%|██████████| 62/62 [00:26<00:00,  2.36it/s]"
     ]
    },
    {
     "name": "stdout",
     "output_type": "stream",
     "text": [
      "Domain loss,acc: 0.396396, 58.27% Target domain: tr_loss-0.661018, tr_acc-95.36%\n",
      "25,000c2dTruet10:87.92% | 25,000c3dFalset10:82.92%\n"
     ]
    },
    {
     "name": "stderr",
     "output_type": "stream",
     "text": [
      "\n",
      "epoch-205 lr=['0.0001000'], tr/val_loss:  0.128560/  1.050769, tr: 100.00%, val:  87.08%, val_best:  89.58%: 100%|██████████| 62/62 [00:26<00:00,  2.35it/s]"
     ]
    },
    {
     "name": "stdout",
     "output_type": "stream",
     "text": [
      "Domain loss,acc: 0.412253, 54.84% Target domain: tr_loss-0.695946, tr_acc-95.16%\n",
      "25,000c2dTruet10:87.08% | 25,000c3dFalset10:82.92%\n"
     ]
    },
    {
     "name": "stderr",
     "output_type": "stream",
     "text": [
      "\n",
      "epoch-206 lr=['0.0001000'], tr/val_loss:  0.132885/  1.045754, tr: 100.00%, val:  87.08%, val_best:  89.58%: 100%|██████████| 62/62 [00:26<00:00,  2.38it/s]"
     ]
    },
    {
     "name": "stdout",
     "output_type": "stream",
     "text": [
      "Domain loss,acc: 0.415623, 58.87% Target domain: tr_loss-0.698361, tr_acc-94.56%\n",
      "25,000c2dTruet10:87.08% | 25,000c3dFalset10:82.08%\n"
     ]
    },
    {
     "name": "stderr",
     "output_type": "stream",
     "text": [
      "\n",
      "epoch-207 lr=['0.0001000'], tr/val_loss:  0.136372/  1.055092, tr: 100.00%, val:  87.50%, val_best:  89.58%: 100%|██████████| 62/62 [00:25<00:00,  2.42it/s]"
     ]
    },
    {
     "name": "stdout",
     "output_type": "stream",
     "text": [
      "Domain loss,acc: 0.404763, 58.67% Target domain: tr_loss-0.673154, tr_acc-94.96%\n",
      "25,000c2dTruet10:87.50% | 25,000c3dFalset10:80.83%\n"
     ]
    },
    {
     "name": "stderr",
     "output_type": "stream",
     "text": [
      "\n",
      "epoch-208 lr=['0.0001000'], tr/val_loss:  0.126190/  1.056585, tr: 100.00%, val:  86.67%, val_best:  89.58%: 100%|██████████| 62/62 [00:26<00:00,  2.34it/s]"
     ]
    },
    {
     "name": "stdout",
     "output_type": "stream",
     "text": [
      "Domain loss,acc: 0.395866, 59.58% Target domain: tr_loss-0.665542, tr_acc-95.36%\n",
      "25,000c2dTruet10:86.67% | 25,000c3dFalset10:84.58%\n"
     ]
    },
    {
     "name": "stderr",
     "output_type": "stream",
     "text": [
      "\n",
      "epoch-209 lr=['0.0001000'], tr/val_loss:  0.119197/  1.065632, tr: 100.00%, val:  87.92%, val_best:  89.58%: 100%|██████████| 62/62 [00:26<00:00,  2.33it/s]"
     ]
    },
    {
     "name": "stdout",
     "output_type": "stream",
     "text": [
      "Domain loss,acc: 0.403556, 58.77% Target domain: tr_loss-0.687916, tr_acc-95.97%\n",
      "25,000c2dTruet10:87.92% | 25,000c3dFalset10:84.58%\n"
     ]
    },
    {
     "name": "stderr",
     "output_type": "stream",
     "text": [
      "\n",
      "epoch-210 lr=['0.0001000'], tr/val_loss:  0.123690/  1.055919, tr: 100.00%, val:  87.08%, val_best:  89.58%: 100%|██████████| 62/62 [00:26<00:00,  2.38it/s]"
     ]
    },
    {
     "name": "stdout",
     "output_type": "stream",
     "text": [
      "Domain loss,acc: 0.394687, 54.33% Target domain: tr_loss-0.665684, tr_acc-95.36%\n",
      "25,000c2dTruet10:87.08% | 25,000c3dFalset10:83.33%\n"
     ]
    },
    {
     "name": "stderr",
     "output_type": "stream",
     "text": [
      "\n",
      "epoch-211 lr=['0.0001000'], tr/val_loss:  0.124224/  1.066599, tr: 100.00%, val:  86.25%, val_best:  89.58%: 100%|██████████| 62/62 [00:25<00:00,  2.39it/s]"
     ]
    },
    {
     "name": "stdout",
     "output_type": "stream",
     "text": [
      "Domain loss,acc: 0.405873, 59.48% Target domain: tr_loss-0.687522, tr_acc-94.76%\n",
      "25,000c2dTruet10:86.25% | 25,000c3dFalset10:82.92%\n"
     ]
    },
    {
     "name": "stderr",
     "output_type": "stream",
     "text": [
      "\n",
      "epoch-212 lr=['0.0001000'], tr/val_loss:  0.124935/  1.063233, tr: 100.00%, val:  86.67%, val_best:  89.58%: 100%|██████████| 62/62 [00:26<00:00,  2.38it/s]"
     ]
    },
    {
     "name": "stdout",
     "output_type": "stream",
     "text": [
      "Domain loss,acc: 0.407509, 59.27% Target domain: tr_loss-0.690084, tr_acc-94.56%\n",
      "25,000c2dTruet10:86.67% | 25,000c3dFalset10:84.17%\n"
     ]
    },
    {
     "name": "stderr",
     "output_type": "stream",
     "text": [
      "\n",
      "epoch-213 lr=['0.0001000'], tr/val_loss:  0.122601/  1.062931, tr: 100.00%, val:  87.50%, val_best:  89.58%: 100%|██████████| 62/62 [00:26<00:00,  2.36it/s]"
     ]
    },
    {
     "name": "stdout",
     "output_type": "stream",
     "text": [
      "Domain loss,acc: 0.385129, 57.06% Target domain: tr_loss-0.647656, tr_acc-95.56%\n",
      "25,000c2dTruet10:87.50% | 25,000c3dFalset10:82.50%\n"
     ]
    },
    {
     "name": "stderr",
     "output_type": "stream",
     "text": [
      "\n",
      "epoch-214 lr=['0.0001000'], tr/val_loss:  0.117043/  1.056567, tr: 100.00%, val:  87.50%, val_best:  89.58%: 100%|██████████| 62/62 [00:25<00:00,  2.39it/s]"
     ]
    },
    {
     "name": "stdout",
     "output_type": "stream",
     "text": [
      "Domain loss,acc: 0.386925, 57.46% Target domain: tr_loss-0.656808, tr_acc-95.36%\n",
      "25,000c2dTruet10:87.50% | 25,000c3dFalset10:84.58%\n"
     ]
    },
    {
     "name": "stderr",
     "output_type": "stream",
     "text": [
      "\n",
      "epoch-215 lr=['0.0001000'], tr/val_loss:  0.119513/  1.070796, tr: 100.00%, val:  87.08%, val_best:  89.58%: 100%|██████████| 62/62 [00:25<00:00,  2.39it/s]"
     ]
    },
    {
     "name": "stdout",
     "output_type": "stream",
     "text": [
      "Domain loss,acc: 0.386702, 58.57% Target domain: tr_loss-0.653890, tr_acc-94.96%\n",
      "25,000c2dTruet10:87.08% | 25,000c3dFalset10:82.08%\n"
     ]
    },
    {
     "name": "stderr",
     "output_type": "stream",
     "text": [
      "\n",
      "epoch-216 lr=['0.0001000'], tr/val_loss:  0.124220/  1.062586, tr: 100.00%, val:  86.25%, val_best:  89.58%: 100%|██████████| 62/62 [00:25<00:00,  2.40it/s]"
     ]
    },
    {
     "name": "stdout",
     "output_type": "stream",
     "text": [
      "Domain loss,acc: 0.416710, 57.16% Target domain: tr_loss-0.709201, tr_acc-94.56%\n",
      "25,000c2dTruet10:86.25% | 25,000c3dFalset10:84.17%\n"
     ]
    },
    {
     "name": "stderr",
     "output_type": "stream",
     "text": [
      "\n",
      "epoch-217 lr=['0.0001000'], tr/val_loss:  0.120406/  1.057187, tr: 100.00%, val:  88.33%, val_best:  89.58%: 100%|██████████| 62/62 [00:26<00:00,  2.33it/s]"
     ]
    },
    {
     "name": "stdout",
     "output_type": "stream",
     "text": [
      "Domain loss,acc: 0.403031, 59.07% Target domain: tr_loss-0.685655, tr_acc-95.16%\n",
      "25,000c2dTruet10:88.33% | 25,000c3dFalset10:83.33%\n"
     ]
    },
    {
     "name": "stderr",
     "output_type": "stream",
     "text": [
      "\n",
      "epoch-218 lr=['0.0001000'], tr/val_loss:  0.113590/  1.066222, tr: 100.00%, val:  86.67%, val_best:  89.58%: 100%|██████████| 62/62 [00:26<00:00,  2.36it/s]"
     ]
    },
    {
     "name": "stdout",
     "output_type": "stream",
     "text": [
      "Domain loss,acc: 0.395875, 57.66% Target domain: tr_loss-0.678161, tr_acc-95.97%\n",
      "25,000c2dTruet10:86.67% | 25,000c3dFalset10:84.58%\n"
     ]
    },
    {
     "name": "stderr",
     "output_type": "stream",
     "text": [
      "\n",
      "epoch-219 lr=['0.0001000'], tr/val_loss:  0.118876/  1.058408, tr:  99.80%, val:  87.50%, val_best:  89.58%: 100%|██████████| 62/62 [00:26<00:00,  2.36it/s]"
     ]
    },
    {
     "name": "stdout",
     "output_type": "stream",
     "text": [
      "Domain loss,acc: 0.380728, 56.45% Target domain: tr_loss-0.642579, tr_acc-96.37%\n",
      "25,000c2dTruet10:87.50% | 25,000c3dFalset10:82.08%\n"
     ]
    },
    {
     "name": "stderr",
     "output_type": "stream",
     "text": [
      "\n",
      "epoch-220 lr=['0.0001000'], tr/val_loss:  0.120116/  1.052825, tr: 100.00%, val:  88.33%, val_best:  89.58%: 100%|██████████| 62/62 [00:26<00:00,  2.38it/s]"
     ]
    },
    {
     "name": "stdout",
     "output_type": "stream",
     "text": [
      "Domain loss,acc: 0.395838, 57.56% Target domain: tr_loss-0.671559, tr_acc-95.36%\n",
      "25,000c2dTruet10:88.33% | 25,000c3dFalset10:84.17%\n"
     ]
    },
    {
     "name": "stderr",
     "output_type": "stream",
     "text": [
      "\n",
      "epoch-221 lr=['0.0001000'], tr/val_loss:  0.116565/  1.057002, tr: 100.00%, val:  87.50%, val_best:  89.58%: 100%|██████████| 62/62 [00:26<00:00,  2.32it/s]"
     ]
    },
    {
     "name": "stdout",
     "output_type": "stream",
     "text": [
      "Domain loss,acc: 0.416139, 58.67% Target domain: tr_loss-0.715712, tr_acc-95.16%\n",
      "25,000c2dTruet10:87.50% | 25,000c3dFalset10:83.33%\n"
     ]
    },
    {
     "name": "stderr",
     "output_type": "stream",
     "text": [
      "\n",
      "epoch-222 lr=['0.0001000'], tr/val_loss:  0.108510/  1.055149, tr: 100.00%, val:  87.92%, val_best:  89.58%: 100%|██████████| 62/62 [00:26<00:00,  2.38it/s]"
     ]
    },
    {
     "name": "stdout",
     "output_type": "stream",
     "text": [
      "Domain loss,acc: 0.384466, 58.27% Target domain: tr_loss-0.660422, tr_acc-96.77%\n",
      "25,000c2dTruet10:87.92% | 25,000c3dFalset10:83.75%\n"
     ]
    },
    {
     "name": "stderr",
     "output_type": "stream",
     "text": [
      "\n",
      "epoch-223 lr=['0.0001000'], tr/val_loss:  0.111781/  1.048278, tr: 100.00%, val:  87.08%, val_best:  89.58%: 100%|██████████| 62/62 [00:26<00:00,  2.34it/s]"
     ]
    },
    {
     "name": "stdout",
     "output_type": "stream",
     "text": [
      "Domain loss,acc: 0.403544, 56.85% Target domain: tr_loss-0.695306, tr_acc-95.56%\n",
      "25,000c2dTruet10:87.08% | 25,000c3dFalset10:82.92%\n"
     ]
    },
    {
     "name": "stderr",
     "output_type": "stream",
     "text": [
      "\n",
      "epoch-224 lr=['0.0001000'], tr/val_loss:  0.111690/  1.062558, tr: 100.00%, val:  87.92%, val_best:  89.58%: 100%|██████████| 62/62 [00:25<00:00,  2.40it/s]"
     ]
    },
    {
     "name": "stdout",
     "output_type": "stream",
     "text": [
      "Domain loss,acc: 0.386204, 57.06% Target domain: tr_loss-0.660717, tr_acc-94.96%\n",
      "25,000c2dTruet10:87.92% | 25,000c3dFalset10:84.17%\n"
     ]
    },
    {
     "name": "stderr",
     "output_type": "stream",
     "text": [
      "\n",
      "epoch-225 lr=['0.0001000'], tr/val_loss:  0.117882/  1.065638, tr: 100.00%, val:  87.08%, val_best:  89.58%: 100%|██████████| 62/62 [00:26<00:00,  2.33it/s]"
     ]
    },
    {
     "name": "stdout",
     "output_type": "stream",
     "text": [
      "Domain loss,acc: 0.410789, 58.67% Target domain: tr_loss-0.703697, tr_acc-96.17%\n",
      "25,000c2dTruet10:87.08% | 25,000c3dFalset10:84.58%\n"
     ]
    },
    {
     "name": "stderr",
     "output_type": "stream",
     "text": [
      "\n",
      "epoch-226 lr=['0.0001000'], tr/val_loss:  0.112938/  1.079199, tr: 100.00%, val:  88.75%, val_best:  89.58%: 100%|██████████| 62/62 [00:26<00:00,  2.35it/s]"
     ]
    },
    {
     "name": "stdout",
     "output_type": "stream",
     "text": [
      "Domain loss,acc: 0.383061, 54.94% Target domain: tr_loss-0.653185, tr_acc-96.17%\n",
      "25,000c2dTruet10:88.75% | 25,000c3dFalset10:83.75%\n"
     ]
    },
    {
     "name": "stderr",
     "output_type": "stream",
     "text": [
      "\n",
      "epoch-227 lr=['0.0001000'], tr/val_loss:  0.108905/  1.059460, tr: 100.00%, val:  87.50%, val_best:  89.58%: 100%|██████████| 62/62 [00:25<00:00,  2.39it/s]"
     ]
    },
    {
     "name": "stdout",
     "output_type": "stream",
     "text": [
      "Domain loss,acc: 0.402031, 59.88% Target domain: tr_loss-0.695157, tr_acc-96.17%\n",
      "25,000c2dTruet10:87.50% | 25,000c3dFalset10:82.92%\n"
     ]
    },
    {
     "name": "stderr",
     "output_type": "stream",
     "text": [
      "\n",
      "epoch-228 lr=['0.0001000'], tr/val_loss:  0.102722/  1.074231, tr: 100.00%, val:  87.92%, val_best:  89.58%: 100%|██████████| 62/62 [00:26<00:00,  2.34it/s]"
     ]
    },
    {
     "name": "stdout",
     "output_type": "stream",
     "text": [
      "Domain loss,acc: 0.378298, 57.46% Target domain: tr_loss-0.653875, tr_acc-96.17%\n",
      "25,000c2dTruet10:87.92% | 25,000c3dFalset10:83.75%\n"
     ]
    },
    {
     "name": "stderr",
     "output_type": "stream",
     "text": [
      "\n",
      "epoch-229 lr=['0.0001000'], tr/val_loss:  0.102946/  1.076021, tr: 100.00%, val:  87.92%, val_best:  89.58%: 100%|██████████| 62/62 [00:26<00:00,  2.34it/s]"
     ]
    },
    {
     "name": "stdout",
     "output_type": "stream",
     "text": [
      "Domain loss,acc: 0.383632, 58.57% Target domain: tr_loss-0.664318, tr_acc-96.77%\n",
      "25,000c2dTruet10:87.92% | 25,000c3dFalset10:83.33%\n"
     ]
    },
    {
     "name": "stderr",
     "output_type": "stream",
     "text": [
      "\n",
      "epoch-230 lr=['0.0001000'], tr/val_loss:  0.107796/  1.077703, tr: 100.00%, val:  87.92%, val_best:  89.58%: 100%|██████████| 62/62 [00:26<00:00,  2.34it/s]"
     ]
    },
    {
     "name": "stdout",
     "output_type": "stream",
     "text": [
      "Domain loss,acc: 0.374057, 58.37% Target domain: tr_loss-0.640318, tr_acc-96.98%\n",
      "25,000c2dTruet10:87.92% | 25,000c3dFalset10:84.17%\n"
     ]
    },
    {
     "name": "stderr",
     "output_type": "stream",
     "text": [
      "\n",
      "epoch-231 lr=['0.0001000'], tr/val_loss:  0.111339/  1.077264, tr: 100.00%, val:  87.50%, val_best:  89.58%: 100%|██████████| 62/62 [00:27<00:00,  2.30it/s]"
     ]
    },
    {
     "name": "stdout",
     "output_type": "stream",
     "text": [
      "Domain loss,acc: 0.397817, 57.76% Target domain: tr_loss-0.684295, tr_acc-96.57%\n",
      "25,000c2dTruet10:87.50% | 25,000c3dFalset10:82.50%\n"
     ]
    },
    {
     "name": "stderr",
     "output_type": "stream",
     "text": [
      "\n",
      "epoch-232 lr=['0.0001000'], tr/val_loss:  0.100748/  1.085414, tr: 100.00%, val:  87.08%, val_best:  89.58%: 100%|██████████| 62/62 [00:26<00:00,  2.31it/s]"
     ]
    },
    {
     "name": "stdout",
     "output_type": "stream",
     "text": [
      "Domain loss,acc: 0.372579, 57.46% Target domain: tr_loss-0.644410, tr_acc-95.97%\n",
      "25,000c2dTruet10:87.08% | 25,000c3dFalset10:84.17%\n"
     ]
    },
    {
     "name": "stderr",
     "output_type": "stream",
     "text": [
      "\n",
      "epoch-233 lr=['0.0001000'], tr/val_loss:  0.099662/  1.077847, tr:  99.80%, val:  86.25%, val_best:  89.58%: 100%|██████████| 62/62 [00:26<00:00,  2.36it/s]"
     ]
    },
    {
     "name": "stdout",
     "output_type": "stream",
     "text": [
      "Domain loss,acc: 0.404939, 58.87% Target domain: tr_loss-0.710216, tr_acc-94.56%\n",
      "25,000c2dTruet10:86.25% | 25,000c3dFalset10:81.67%\n"
     ]
    },
    {
     "name": "stderr",
     "output_type": "stream",
     "text": [
      "\n",
      "epoch-234 lr=['0.0001000'], tr/val_loss:  0.100488/  1.085455, tr: 100.00%, val:  88.33%, val_best:  89.58%: 100%|██████████| 62/62 [00:26<00:00,  2.37it/s]"
     ]
    },
    {
     "name": "stdout",
     "output_type": "stream",
     "text": [
      "Domain loss,acc: 0.376097, 58.17% Target domain: tr_loss-0.651705, tr_acc-95.16%\n",
      "25,000c2dTruet10:88.33% | 25,000c3dFalset10:82.08%\n"
     ]
    },
    {
     "name": "stderr",
     "output_type": "stream",
     "text": [
      "\n",
      "epoch-235 lr=['0.0001000'], tr/val_loss:  0.092433/  1.087869, tr: 100.00%, val:  87.92%, val_best:  89.58%: 100%|██████████| 62/62 [00:26<00:00,  2.35it/s]"
     ]
    },
    {
     "name": "stdout",
     "output_type": "stream",
     "text": [
      "Domain loss,acc: 0.384234, 58.47% Target domain: tr_loss-0.676036, tr_acc-95.77%\n",
      "25,000c2dTruet10:87.92% | 25,000c3dFalset10:82.08%\n"
     ]
    },
    {
     "name": "stderr",
     "output_type": "stream",
     "text": [
      "\n",
      "epoch-236 lr=['0.0001000'], tr/val_loss:  0.097343/  1.086115, tr: 100.00%, val:  87.50%, val_best:  89.58%: 100%|██████████| 62/62 [00:26<00:00,  2.36it/s]"
     ]
    },
    {
     "name": "stdout",
     "output_type": "stream",
     "text": [
      "Domain loss,acc: 0.372975, 56.85% Target domain: tr_loss-0.648606, tr_acc-95.77%\n",
      "25,000c2dTruet10:87.50% | 25,000c3dFalset10:82.50%\n"
     ]
    },
    {
     "name": "stderr",
     "output_type": "stream",
     "text": [
      "\n",
      "epoch-237 lr=['0.0001000'], tr/val_loss:  0.096097/  1.089887, tr: 100.00%, val:  87.50%, val_best:  89.58%: 100%|██████████| 62/62 [00:25<00:00,  2.39it/s]"
     ]
    },
    {
     "name": "stdout",
     "output_type": "stream",
     "text": [
      "Domain loss,acc: 0.390730, 58.87% Target domain: tr_loss-0.685363, tr_acc-95.97%\n",
      "25,000c2dTruet10:87.50% | 25,000c3dFalset10:83.75%\n"
     ]
    },
    {
     "name": "stderr",
     "output_type": "stream",
     "text": [
      "\n",
      "epoch-238 lr=['0.0001000'], tr/val_loss:  0.085413/  1.082870, tr: 100.00%, val:  87.92%, val_best:  89.58%: 100%|██████████| 62/62 [00:26<00:00,  2.34it/s]"
     ]
    },
    {
     "name": "stdout",
     "output_type": "stream",
     "text": [
      "Domain loss,acc: 0.368649, 58.37% Target domain: tr_loss-0.651886, tr_acc-95.97%\n",
      "25,000c2dTruet10:87.92% | 25,000c3dFalset10:83.33%\n"
     ]
    },
    {
     "name": "stderr",
     "output_type": "stream",
     "text": [
      "\n",
      "epoch-239 lr=['0.0001000'], tr/val_loss:  0.093465/  1.085312, tr: 100.00%, val:  87.92%, val_best:  89.58%: 100%|██████████| 62/62 [00:26<00:00,  2.34it/s]"
     ]
    },
    {
     "name": "stdout",
     "output_type": "stream",
     "text": [
      "Domain loss,acc: 0.389852, 57.86% Target domain: tr_loss-0.686239, tr_acc-96.17%\n",
      "25,000c2dTruet10:87.92% | 25,000c3dFalset10:83.75%\n"
     ]
    },
    {
     "name": "stderr",
     "output_type": "stream",
     "text": [
      "\n",
      "epoch-240 lr=['0.0001000'], tr/val_loss:  0.091350/  1.088171, tr:  99.80%, val:  87.92%, val_best:  89.58%: 100%|██████████| 62/62 [00:26<00:00,  2.34it/s]"
     ]
    },
    {
     "name": "stdout",
     "output_type": "stream",
     "text": [
      "Domain loss,acc: 0.361351, 57.66% Target domain: tr_loss-0.631351, tr_acc-96.17%\n",
      "25,000c2dTruet10:87.92% | 25,000c3dFalset10:83.33%\n"
     ]
    },
    {
     "name": "stderr",
     "output_type": "stream",
     "text": [
      "\n",
      "epoch-241 lr=['0.0001000'], tr/val_loss:  0.093526/  1.079726, tr: 100.00%, val:  87.50%, val_best:  89.58%: 100%|██████████| 62/62 [00:26<00:00,  2.35it/s]"
     ]
    },
    {
     "name": "stdout",
     "output_type": "stream",
     "text": [
      "Domain loss,acc: 0.374318, 58.67% Target domain: tr_loss-0.655110, tr_acc-97.18%\n",
      "25,000c2dTruet10:87.50% | 25,000c3dFalset10:82.92%\n"
     ]
    },
    {
     "name": "stderr",
     "output_type": "stream",
     "text": [
      "\n",
      "epoch-242 lr=['0.0001000'], tr/val_loss:  0.095704/  1.092866, tr: 100.00%, val:  87.50%, val_best:  89.58%: 100%|██████████| 62/62 [00:26<00:00,  2.36it/s]"
     ]
    },
    {
     "name": "stdout",
     "output_type": "stream",
     "text": [
      "Domain loss,acc: 0.376387, 57.16% Target domain: tr_loss-0.657071, tr_acc-95.77%\n",
      "25,000c2dTruet10:87.50% | 25,000c3dFalset10:82.50%\n"
     ]
    },
    {
     "name": "stderr",
     "output_type": "stream",
     "text": [
      "\n",
      "epoch-243 lr=['0.0001000'], tr/val_loss:  0.093299/  1.091956, tr: 100.00%, val:  87.08%, val_best:  89.58%: 100%|██████████| 62/62 [00:25<00:00,  2.39it/s]"
     ]
    },
    {
     "name": "stdout",
     "output_type": "stream",
     "text": [
      "Domain loss,acc: 0.368937, 57.76% Target domain: tr_loss-0.644575, tr_acc-95.77%\n",
      "25,000c2dTruet10:87.08% | 25,000c3dFalset10:83.33%\n"
     ]
    },
    {
     "name": "stderr",
     "output_type": "stream",
     "text": [
      "\n",
      "epoch-244 lr=['0.0001000'], tr/val_loss:  0.088198/  1.084531, tr: 100.00%, val:  87.92%, val_best:  89.58%: 100%|██████████| 62/62 [00:26<00:00,  2.37it/s]"
     ]
    },
    {
     "name": "stdout",
     "output_type": "stream",
     "text": [
      "Domain loss,acc: 0.382740, 59.17% Target domain: tr_loss-0.677283, tr_acc-96.17%\n",
      "25,000c2dTruet10:87.92% | 25,000c3dFalset10:82.92%\n"
     ]
    },
    {
     "name": "stderr",
     "output_type": "stream",
     "text": [
      "\n",
      "epoch-245 lr=['0.0001000'], tr/val_loss:  0.090300/  1.115029, tr: 100.00%, val:  87.08%, val_best:  89.58%: 100%|██████████| 62/62 [00:26<00:00,  2.37it/s]"
     ]
    },
    {
     "name": "stdout",
     "output_type": "stream",
     "text": [
      "Domain loss,acc: 0.364961, 57.06% Target domain: tr_loss-0.639623, tr_acc-95.97%\n",
      "25,000c2dTruet10:87.08% | 25,000c3dFalset10:82.08%\n"
     ]
    },
    {
     "name": "stderr",
     "output_type": "stream",
     "text": [
      "\n",
      "epoch-246 lr=['0.0001000'], tr/val_loss:  0.087110/  1.104335, tr: 100.00%, val:  87.92%, val_best:  89.58%: 100%|██████████| 62/62 [00:26<00:00,  2.36it/s]"
     ]
    },
    {
     "name": "stdout",
     "output_type": "stream",
     "text": [
      "Domain loss,acc: 0.343232, 58.17% Target domain: tr_loss-0.599355, tr_acc-97.18%\n",
      "25,000c2dTruet10:87.92% | 25,000c3dFalset10:83.33%\n"
     ]
    },
    {
     "name": "stderr",
     "output_type": "stream",
     "text": [
      "\n",
      "epoch-247 lr=['0.0001000'], tr/val_loss:  0.097810/  1.102500, tr: 100.00%, val:  87.50%, val_best:  89.58%: 100%|██████████| 62/62 [00:26<00:00,  2.36it/s]"
     ]
    },
    {
     "name": "stdout",
     "output_type": "stream",
     "text": [
      "Domain loss,acc: 0.375798, 58.27% Target domain: tr_loss-0.653785, tr_acc-95.97%\n",
      "25,000c2dTruet10:87.50% | 25,000c3dFalset10:82.50%\n"
     ]
    },
    {
     "name": "stderr",
     "output_type": "stream",
     "text": [
      "\n",
      "epoch-248 lr=['0.0001000'], tr/val_loss:  0.090163/  1.118367, tr: 100.00%, val:  86.25%, val_best:  89.58%: 100%|██████████| 62/62 [00:26<00:00,  2.32it/s]"
     ]
    },
    {
     "name": "stdout",
     "output_type": "stream",
     "text": [
      "Domain loss,acc: 0.386005, 56.55% Target domain: tr_loss-0.681847, tr_acc-96.17%\n",
      "25,000c2dTruet10:86.25% | 25,000c3dFalset10:82.50%\n"
     ]
    },
    {
     "name": "stderr",
     "output_type": "stream",
     "text": [
      "\n",
      "epoch-249 lr=['0.0001000'], tr/val_loss:  0.080704/  1.105969, tr: 100.00%, val:  87.50%, val_best:  89.58%: 100%|██████████| 62/62 [00:26<00:00,  2.32it/s]"
     ]
    },
    {
     "name": "stdout",
     "output_type": "stream",
     "text": [
      "Domain loss,acc: 0.370431, 57.66% Target domain: tr_loss-0.660157, tr_acc-95.36%\n",
      "25,000c2dTruet10:87.50% | 25,000c3dFalset10:83.33%\n"
     ]
    },
    {
     "name": "stderr",
     "output_type": "stream",
     "text": [
      "\n",
      "epoch-250 lr=['0.0001000'], tr/val_loss:  0.087260/  1.109049, tr: 100.00%, val:  87.08%, val_best:  89.58%: 100%|██████████| 62/62 [00:26<00:00,  2.32it/s]"
     ]
    },
    {
     "name": "stdout",
     "output_type": "stream",
     "text": [
      "Domain loss,acc: 0.378965, 56.75% Target domain: tr_loss-0.670670, tr_acc-96.77%\n",
      "25,000c2dTruet10:87.08% | 25,000c3dFalset10:83.75%\n"
     ]
    },
    {
     "name": "stderr",
     "output_type": "stream",
     "text": [
      "\n",
      "epoch-251 lr=['0.0001000'], tr/val_loss:  0.080413/  1.119284, tr: 100.00%, val:  85.83%, val_best:  89.58%: 100%|██████████| 62/62 [00:26<00:00,  2.32it/s]"
     ]
    },
    {
     "name": "stdout",
     "output_type": "stream",
     "text": [
      "Domain loss,acc: 0.367716, 55.44% Target domain: tr_loss-0.655019, tr_acc-96.17%\n",
      "25,000c2dTruet10:85.83% | 25,000c3dFalset10:83.33%\n"
     ]
    },
    {
     "name": "stderr",
     "output_type": "stream",
     "text": [
      "\n",
      "epoch-252 lr=['0.0001000'], tr/val_loss:  0.074812/  1.117262, tr: 100.00%, val:  86.67%, val_best:  89.58%: 100%|██████████| 62/62 [00:26<00:00,  2.38it/s]"
     ]
    },
    {
     "name": "stdout",
     "output_type": "stream",
     "text": [
      "Domain loss,acc: 0.369558, 59.78% Target domain: tr_loss-0.664303, tr_acc-95.56%\n",
      "25,000c2dTruet10:86.67% | 25,000c3dFalset10:82.92%\n"
     ]
    },
    {
     "name": "stderr",
     "output_type": "stream",
     "text": [
      "\n",
      "epoch-253 lr=['0.0001000'], tr/val_loss:  0.086810/  1.123190, tr: 100.00%, val:  86.67%, val_best:  89.58%: 100%|██████████| 62/62 [00:26<00:00,  2.34it/s]"
     ]
    },
    {
     "name": "stdout",
     "output_type": "stream",
     "text": [
      "Domain loss,acc: 0.379926, 55.14% Target domain: tr_loss-0.673042, tr_acc-96.17%\n",
      "25,000c2dTruet10:86.67% | 25,000c3dFalset10:82.50%\n"
     ]
    },
    {
     "name": "stderr",
     "output_type": "stream",
     "text": [
      "\n",
      "epoch-254 lr=['0.0001000'], tr/val_loss:  0.085994/  1.117234, tr: 100.00%, val:  87.08%, val_best:  89.58%: 100%|██████████| 62/62 [00:26<00:00,  2.35it/s]"
     ]
    },
    {
     "name": "stdout",
     "output_type": "stream",
     "text": [
      "Domain loss,acc: 0.382586, 55.85% Target domain: tr_loss-0.679179, tr_acc-95.77%\n",
      "25,000c2dTruet10:87.08% | 25,000c3dFalset10:82.92%\n"
     ]
    },
    {
     "name": "stderr",
     "output_type": "stream",
     "text": [
      "\n",
      "epoch-255 lr=['0.0001000'], tr/val_loss:  0.084121/  1.125189, tr: 100.00%, val:  86.25%, val_best:  89.58%: 100%|██████████| 62/62 [00:26<00:00,  2.36it/s]"
     ]
    },
    {
     "name": "stdout",
     "output_type": "stream",
     "text": [
      "Domain loss,acc: 0.385492, 58.77% Target domain: tr_loss-0.686862, tr_acc-95.97%\n",
      "25,000c2dTruet10:86.25% | 25,000c3dFalset10:83.33%\n"
     ]
    },
    {
     "name": "stderr",
     "output_type": "stream",
     "text": [
      "\n",
      "epoch-256 lr=['0.0001000'], tr/val_loss:  0.081016/  1.118894, tr: 100.00%, val:  87.50%, val_best:  89.58%: 100%|██████████| 62/62 [00:26<00:00,  2.35it/s]"
     ]
    },
    {
     "name": "stdout",
     "output_type": "stream",
     "text": [
      "Domain loss,acc: 0.389108, 57.86% Target domain: tr_loss-0.697200, tr_acc-96.57%\n",
      "25,000c2dTruet10:87.50% | 25,000c3dFalset10:82.92%\n"
     ]
    },
    {
     "name": "stderr",
     "output_type": "stream",
     "text": [
      "\n",
      "epoch-257 lr=['0.0001000'], tr/val_loss:  0.085563/  1.109950, tr: 100.00%, val:  87.50%, val_best:  89.58%: 100%|██████████| 62/62 [00:26<00:00,  2.37it/s]"
     ]
    },
    {
     "name": "stdout",
     "output_type": "stream",
     "text": [
      "Domain loss,acc: 0.363650, 56.75% Target domain: tr_loss-0.641738, tr_acc-96.57%\n",
      "25,000c2dTruet10:87.50% | 25,000c3dFalset10:83.75%\n"
     ]
    },
    {
     "name": "stderr",
     "output_type": "stream",
     "text": [
      "\n",
      "epoch-258 lr=['0.0001000'], tr/val_loss:  0.080683/  1.125468, tr: 100.00%, val:  87.50%, val_best:  89.58%: 100%|██████████| 62/62 [00:26<00:00,  2.36it/s]"
     ]
    },
    {
     "name": "stdout",
     "output_type": "stream",
     "text": [
      "Domain loss,acc: 0.394580, 58.47% Target domain: tr_loss-0.708477, tr_acc-95.36%\n",
      "25,000c2dTruet10:87.50% | 25,000c3dFalset10:82.92%\n"
     ]
    },
    {
     "name": "stderr",
     "output_type": "stream",
     "text": [
      "\n",
      "epoch-259 lr=['0.0001000'], tr/val_loss:  0.078747/  1.130798, tr: 100.00%, val:  87.50%, val_best:  89.58%: 100%|██████████| 62/62 [00:25<00:00,  2.40it/s]"
     ]
    },
    {
     "name": "stdout",
     "output_type": "stream",
     "text": [
      "Domain loss,acc: 0.386376, 57.26% Target domain: tr_loss-0.694004, tr_acc-95.16%\n",
      "25,000c2dTruet10:87.50% | 25,000c3dFalset10:84.17%\n"
     ]
    },
    {
     "name": "stderr",
     "output_type": "stream",
     "text": [
      "\n",
      "epoch-260 lr=['0.0001000'], tr/val_loss:  0.079861/  1.118670, tr: 100.00%, val:  87.92%, val_best:  89.58%: 100%|██████████| 62/62 [00:26<00:00,  2.36it/s]"
     ]
    },
    {
     "name": "stdout",
     "output_type": "stream",
     "text": [
      "Domain loss,acc: 0.365836, 56.75% Target domain: tr_loss-0.651811, tr_acc-96.37%\n",
      "25,000c2dTruet10:87.92% | 25,000c3dFalset10:82.50%\n"
     ]
    },
    {
     "name": "stderr",
     "output_type": "stream",
     "text": [
      "\n",
      "epoch-261 lr=['0.0001000'], tr/val_loss:  0.070579/  1.114171, tr: 100.00%, val:  88.33%, val_best:  89.58%: 100%|██████████| 62/62 [00:26<00:00,  2.38it/s]"
     ]
    },
    {
     "name": "stdout",
     "output_type": "stream",
     "text": [
      "Domain loss,acc: 0.381819, 57.36% Target domain: tr_loss-0.693060, tr_acc-95.77%\n",
      "25,000c2dTruet10:88.33% | 25,000c3dFalset10:82.92%\n"
     ]
    },
    {
     "name": "stderr",
     "output_type": "stream",
     "text": [
      "\n",
      "epoch-262 lr=['0.0001000'], tr/val_loss:  0.074382/  1.129154, tr: 100.00%, val:  87.08%, val_best:  89.58%: 100%|██████████| 62/62 [00:26<00:00,  2.33it/s]"
     ]
    },
    {
     "name": "stdout",
     "output_type": "stream",
     "text": [
      "Domain loss,acc: 0.353277, 56.45% Target domain: tr_loss-0.632172, tr_acc-97.38%\n",
      "25,000c2dTruet10:87.08% | 25,000c3dFalset10:82.50%\n"
     ]
    },
    {
     "name": "stderr",
     "output_type": "stream",
     "text": [
      "\n",
      "epoch-263 lr=['0.0001000'], tr/val_loss:  0.077148/  1.123414, tr: 100.00%, val:  87.50%, val_best:  89.58%: 100%|██████████| 62/62 [00:26<00:00,  2.35it/s]"
     ]
    },
    {
     "name": "stdout",
     "output_type": "stream",
     "text": [
      "Domain loss,acc: 0.390064, 57.46% Target domain: tr_loss-0.702980, tr_acc-96.17%\n",
      "25,000c2dTruet10:87.50% | 25,000c3dFalset10:84.17%\n"
     ]
    },
    {
     "name": "stderr",
     "output_type": "stream",
     "text": [
      "\n",
      "epoch-264 lr=['0.0001000'], tr/val_loss:  0.074186/  1.135814, tr: 100.00%, val:  86.67%, val_best:  89.58%: 100%|██████████| 62/62 [00:26<00:00,  2.36it/s]"
     ]
    },
    {
     "name": "stdout",
     "output_type": "stream",
     "text": [
      "Domain loss,acc: 0.387863, 57.06% Target domain: tr_loss-0.701539, tr_acc-95.36%\n",
      "25,000c2dTruet10:86.67% | 25,000c3dFalset10:84.17%\n"
     ]
    },
    {
     "name": "stderr",
     "output_type": "stream",
     "text": [
      "\n",
      "epoch-265 lr=['0.0001000'], tr/val_loss:  0.075681/  1.124156, tr: 100.00%, val:  86.67%, val_best:  89.58%: 100%|██████████| 62/62 [00:26<00:00,  2.33it/s]"
     ]
    },
    {
     "name": "stdout",
     "output_type": "stream",
     "text": [
      "Domain loss,acc: 0.372139, 56.65% Target domain: tr_loss-0.668597, tr_acc-96.98%\n",
      "25,000c2dTruet10:86.67% | 25,000c3dFalset10:81.25%\n"
     ]
    },
    {
     "name": "stderr",
     "output_type": "stream",
     "text": [
      "\n",
      "epoch-266 lr=['0.0001000'], tr/val_loss:  0.074981/  1.121295, tr: 100.00%, val:  87.08%, val_best:  89.58%: 100%|██████████| 62/62 [02:09<00:00,  2.09s/it]"
     ]
    },
    {
     "name": "stdout",
     "output_type": "stream",
     "text": [
      "Domain loss,acc: 0.378977, 53.63% Target domain: tr_loss-0.682974, tr_acc-95.77%\n",
      "25,000c2dTruet10:87.08% | 25,000c3dFalset10:83.75%\n"
     ]
    },
    {
     "name": "stderr",
     "output_type": "stream",
     "text": [
      "\n",
      "epoch-267 lr=['0.0001000'], tr/val_loss:  0.078446/  1.119847, tr: 100.00%, val:  87.92%, val_best:  89.58%: 100%|██████████| 62/62 [00:26<00:00,  2.32it/s]"
     ]
    },
    {
     "name": "stdout",
     "output_type": "stream",
     "text": [
      "Domain loss,acc: 0.379810, 57.16% Target domain: tr_loss-0.681174, tr_acc-96.17%\n",
      "25,000c2dTruet10:87.92% | 25,000c3dFalset10:82.92%\n"
     ]
    },
    {
     "name": "stderr",
     "output_type": "stream",
     "text": [
      "\n",
      "epoch-268 lr=['0.0001000'], tr/val_loss:  0.076838/  1.125488, tr: 100.00%, val:  87.50%, val_best:  89.58%: 100%|██████████| 62/62 [00:27<00:00,  2.28it/s]"
     ]
    },
    {
     "name": "stdout",
     "output_type": "stream",
     "text": [
      "Domain loss,acc: 0.374544, 55.95% Target domain: tr_loss-0.672249, tr_acc-95.36%\n",
      "25,000c2dTruet10:87.50% | 25,000c3dFalset10:82.08%\n"
     ]
    },
    {
     "name": "stderr",
     "output_type": "stream",
     "text": [
      "\n",
      "epoch-269 lr=['0.0001000'], tr/val_loss:  0.076848/  1.128988, tr: 100.00%, val:  87.08%, val_best:  89.58%: 100%|██████████| 62/62 [00:26<00:00,  2.32it/s]"
     ]
    },
    {
     "name": "stdout",
     "output_type": "stream",
     "text": [
      "Domain loss,acc: 0.366511, 58.06% Target domain: tr_loss-0.656173, tr_acc-96.57%\n",
      "25,000c2dTruet10:87.08% | 25,000c3dFalset10:83.75%\n"
     ]
    },
    {
     "name": "stderr",
     "output_type": "stream",
     "text": [
      "\n",
      "epoch-270 lr=['0.0001000'], tr/val_loss:  0.071246/  1.131890, tr: 100.00%, val:  87.50%, val_best:  89.58%: 100%|██████████| 62/62 [00:26<00:00,  2.33it/s]"
     ]
    },
    {
     "name": "stdout",
     "output_type": "stream",
     "text": [
      "Domain loss,acc: 0.365607, 55.34% Target domain: tr_loss-0.659968, tr_acc-96.17%\n",
      "25,000c2dTruet10:87.50% | 25,000c3dFalset10:82.92%\n"
     ]
    },
    {
     "name": "stderr",
     "output_type": "stream",
     "text": [
      "\n",
      "epoch-271 lr=['0.0001000'], tr/val_loss:  0.070075/  1.127238, tr: 100.00%, val:  87.92%, val_best:  89.58%: 100%|██████████| 62/62 [00:27<00:00,  2.27it/s]"
     ]
    },
    {
     "name": "stdout",
     "output_type": "stream",
     "text": [
      "Domain loss,acc: 0.380958, 58.37% Target domain: tr_loss-0.691841, tr_acc-95.77%\n",
      "25,000c2dTruet10:87.92% | 25,000c3dFalset10:82.92%\n"
     ]
    },
    {
     "name": "stderr",
     "output_type": "stream",
     "text": [
      "\n",
      "epoch-272 lr=['0.0001000'], tr/val_loss:  0.072902/  1.128519, tr: 100.00%, val:  87.92%, val_best:  89.58%: 100%|██████████| 62/62 [00:27<00:00,  2.27it/s]"
     ]
    },
    {
     "name": "stdout",
     "output_type": "stream",
     "text": [
      "Domain loss,acc: 0.362965, 57.36% Target domain: tr_loss-0.653027, tr_acc-96.57%\n",
      "25,000c2dTruet10:87.92% | 25,000c3dFalset10:81.25%\n"
     ]
    },
    {
     "name": "stderr",
     "output_type": "stream",
     "text": [
      "\n",
      "epoch-273 lr=['0.0001000'], tr/val_loss:  0.071633/  1.127200, tr: 100.00%, val:  87.50%, val_best:  89.58%: 100%|██████████| 62/62 [00:27<00:00,  2.25it/s]"
     ]
    },
    {
     "name": "stdout",
     "output_type": "stream",
     "text": [
      "Domain loss,acc: 0.362621, 58.27% Target domain: tr_loss-0.653609, tr_acc-96.77%\n",
      "25,000c2dTruet10:87.50% | 25,000c3dFalset10:82.08%\n"
     ]
    },
    {
     "name": "stderr",
     "output_type": "stream",
     "text": [
      "\n",
      "epoch-274 lr=['0.0001000'], tr/val_loss:  0.070103/  1.137490, tr: 100.00%, val:  87.92%, val_best:  89.58%: 100%|██████████| 62/62 [00:27<00:00,  2.29it/s]"
     ]
    },
    {
     "name": "stdout",
     "output_type": "stream",
     "text": [
      "Domain loss,acc: 0.358628, 55.65% Target domain: tr_loss-0.647154, tr_acc-96.98%\n",
      "25,000c2dTruet10:87.92% | 25,000c3dFalset10:84.17%\n"
     ]
    },
    {
     "name": "stderr",
     "output_type": "stream",
     "text": [
      "\n",
      "epoch-275 lr=['0.0001000'], tr/val_loss:  0.067735/  1.138554, tr: 100.00%, val:  87.50%, val_best:  89.58%: 100%|██████████| 62/62 [00:27<00:00,  2.25it/s]"
     ]
    },
    {
     "name": "stdout",
     "output_type": "stream",
     "text": [
      "Domain loss,acc: 0.370278, 57.06% Target domain: tr_loss-0.672821, tr_acc-97.78%\n",
      "25,000c2dTruet10:87.50% | 25,000c3dFalset10:83.75%\n"
     ]
    },
    {
     "name": "stderr",
     "output_type": "stream",
     "text": [
      "\n",
      "epoch-276 lr=['0.0001000'], tr/val_loss:  0.068933/  1.134911, tr: 100.00%, val:  87.50%, val_best:  89.58%: 100%|██████████| 62/62 [00:27<00:00,  2.27it/s]"
     ]
    },
    {
     "name": "stdout",
     "output_type": "stream",
     "text": [
      "Domain loss,acc: 0.347187, 58.17% Target domain: tr_loss-0.625440, tr_acc-97.38%\n",
      "25,000c2dTruet10:87.50% | 25,000c3dFalset10:83.75%\n"
     ]
    },
    {
     "name": "stderr",
     "output_type": "stream",
     "text": [
      "\n",
      "epoch-277 lr=['0.0001000'], tr/val_loss:  0.068902/  1.126822, tr: 100.00%, val:  87.92%, val_best:  89.58%: 100%|██████████| 62/62 [00:27<00:00,  2.29it/s]"
     ]
    },
    {
     "name": "stdout",
     "output_type": "stream",
     "text": [
      "Domain loss,acc: 0.367219, 56.85% Target domain: tr_loss-0.665535, tr_acc-96.37%\n",
      "25,000c2dTruet10:87.92% | 25,000c3dFalset10:83.33%\n"
     ]
    },
    {
     "name": "stderr",
     "output_type": "stream",
     "text": [
      "\n",
      "epoch-278 lr=['0.0001000'], tr/val_loss:  0.069452/  1.135663, tr: 100.00%, val:  88.33%, val_best:  89.58%: 100%|██████████| 62/62 [00:27<00:00,  2.27it/s]"
     ]
    },
    {
     "name": "stdout",
     "output_type": "stream",
     "text": [
      "Domain loss,acc: 0.343686, 56.96% Target domain: tr_loss-0.617920, tr_acc-97.18%\n",
      "25,000c2dTruet10:88.33% | 25,000c3dFalset10:82.92%\n"
     ]
    },
    {
     "name": "stderr",
     "output_type": "stream",
     "text": [
      "\n",
      "epoch-279 lr=['0.0001000'], tr/val_loss:  0.062032/  1.146752, tr: 100.00%, val:  87.08%, val_best:  89.58%: 100%|██████████| 62/62 [00:27<00:00,  2.28it/s]"
     ]
    },
    {
     "name": "stdout",
     "output_type": "stream",
     "text": [
      "Domain loss,acc: 0.344386, 55.24% Target domain: tr_loss-0.626741, tr_acc-97.58%\n",
      "25,000c2dTruet10:87.08% | 25,000c3dFalset10:82.92%\n"
     ]
    },
    {
     "name": "stderr",
     "output_type": "stream",
     "text": [
      "\n",
      "epoch-280 lr=['0.0001000'], tr/val_loss:  0.070689/  1.138307, tr: 100.00%, val:  87.92%, val_best:  89.58%: 100%|██████████| 62/62 [00:27<00:00,  2.28it/s]"
     ]
    },
    {
     "name": "stdout",
     "output_type": "stream",
     "text": [
      "Domain loss,acc: 0.363566, 56.45% Target domain: tr_loss-0.656443, tr_acc-95.56%\n",
      "25,000c2dTruet10:87.92% | 25,000c3dFalset10:82.92%\n"
     ]
    },
    {
     "name": "stderr",
     "output_type": "stream",
     "text": [
      "\n",
      "epoch-281 lr=['0.0001000'], tr/val_loss:  0.063674/  1.139407, tr: 100.00%, val:  87.92%, val_best:  89.58%: 100%|██████████| 62/62 [00:27<00:00,  2.28it/s]"
     ]
    },
    {
     "name": "stdout",
     "output_type": "stream",
     "text": [
      "Domain loss,acc: 0.361425, 57.16% Target domain: tr_loss-0.659177, tr_acc-96.57%\n",
      "25,000c2dTruet10:87.92% | 25,000c3dFalset10:82.50%\n"
     ]
    },
    {
     "name": "stderr",
     "output_type": "stream",
     "text": [
      "\n",
      "epoch-282 lr=['0.0001000'], tr/val_loss:  0.065922/  1.148384, tr: 100.00%, val:  87.92%, val_best:  89.58%: 100%|██████████| 62/62 [00:27<00:00,  2.25it/s]"
     ]
    },
    {
     "name": "stdout",
     "output_type": "stream",
     "text": [
      "Domain loss,acc: 0.362845, 57.66% Target domain: tr_loss-0.659768, tr_acc-96.98%\n",
      "25,000c2dTruet10:87.92% | 25,000c3dFalset10:82.92%\n"
     ]
    },
    {
     "name": "stderr",
     "output_type": "stream",
     "text": [
      "\n",
      "epoch-283 lr=['0.0001000'], tr/val_loss:  0.070961/  1.140806, tr: 100.00%, val:  87.50%, val_best:  89.58%: 100%|██████████| 62/62 [00:27<00:00,  2.27it/s]"
     ]
    },
    {
     "name": "stdout",
     "output_type": "stream",
     "text": [
      "Domain loss,acc: 0.386128, 58.27% Target domain: tr_loss-0.701295, tr_acc-96.77%\n",
      "25,000c2dTruet10:87.50% | 25,000c3dFalset10:83.33%\n"
     ]
    },
    {
     "name": "stderr",
     "output_type": "stream",
     "text": [
      "\n",
      "epoch-284 lr=['0.0001000'], tr/val_loss:  0.061174/  1.143431, tr: 100.00%, val:  87.08%, val_best:  89.58%: 100%|██████████| 62/62 [00:27<00:00,  2.27it/s]"
     ]
    },
    {
     "name": "stdout",
     "output_type": "stream",
     "text": [
      "Domain loss,acc: 0.380122, 56.15% Target domain: tr_loss-0.699071, tr_acc-95.56%\n",
      "25,000c2dTruet10:87.08% | 25,000c3dFalset10:82.92%\n"
     ]
    },
    {
     "name": "stderr",
     "output_type": "stream",
     "text": [
      "\n",
      "epoch-285 lr=['0.0001000'], tr/val_loss:  0.067233/  1.154674, tr: 100.00%, val:  87.08%, val_best:  89.58%: 100%|██████████| 62/62 [00:26<00:00,  2.35it/s]"
     ]
    },
    {
     "name": "stdout",
     "output_type": "stream",
     "text": [
      "Domain loss,acc: 0.365163, 55.34% Target domain: tr_loss-0.663093, tr_acc-96.17%\n",
      "25,000c2dTruet10:87.08% | 25,000c3dFalset10:82.08%\n"
     ]
    },
    {
     "name": "stderr",
     "output_type": "stream",
     "text": [
      "\n",
      "epoch-286 lr=['0.0001000'], tr/val_loss:  0.062118/  1.149428, tr: 100.00%, val:  87.08%, val_best:  89.58%: 100%|██████████| 62/62 [00:30<00:00,  2.00it/s]"
     ]
    },
    {
     "name": "stdout",
     "output_type": "stream",
     "text": [
      "Domain loss,acc: 0.356260, 56.35% Target domain: tr_loss-0.650401, tr_acc-97.38%\n",
      "25,000c2dTruet10:87.08% | 25,000c3dFalset10:81.67%\n"
     ]
    },
    {
     "name": "stderr",
     "output_type": "stream",
     "text": [
      "\n",
      "epoch-287 lr=['0.0001000'], tr/val_loss:  0.060748/  1.148254, tr: 100.00%, val:  86.67%, val_best:  89.58%: 100%|██████████| 62/62 [00:27<00:00,  2.28it/s]"
     ]
    },
    {
     "name": "stdout",
     "output_type": "stream",
     "text": [
      "Domain loss,acc: 0.376467, 56.96% Target domain: tr_loss-0.692186, tr_acc-96.17%\n",
      "25,000c2dTruet10:86.67% | 25,000c3dFalset10:82.92%\n"
     ]
    },
    {
     "name": "stderr",
     "output_type": "stream",
     "text": [
      "\n",
      "epoch-288 lr=['0.0001000'], tr/val_loss:  0.054386/  1.151322, tr: 100.00%, val:  87.50%, val_best:  89.58%: 100%|██████████| 62/62 [00:27<00:00,  2.26it/s]"
     ]
    },
    {
     "name": "stdout",
     "output_type": "stream",
     "text": [
      "Domain loss,acc: 0.360567, 58.06% Target domain: tr_loss-0.666748, tr_acc-96.37%\n",
      "25,000c2dTruet10:87.50% | 25,000c3dFalset10:81.67%\n"
     ]
    },
    {
     "name": "stderr",
     "output_type": "stream",
     "text": [
      "\n",
      "epoch-289 lr=['0.0001000'], tr/val_loss:  0.064854/  1.156564, tr: 100.00%, val:  86.67%, val_best:  89.58%: 100%|██████████| 62/62 [00:25<00:00,  2.39it/s]"
     ]
    },
    {
     "name": "stdout",
     "output_type": "stream",
     "text": [
      "Domain loss,acc: 0.375353, 55.04% Target domain: tr_loss-0.685851, tr_acc-95.97%\n",
      "25,000c2dTruet10:86.67% | 25,000c3dFalset10:82.08%\n"
     ]
    },
    {
     "name": "stderr",
     "output_type": "stream",
     "text": [
      "\n",
      "epoch-290 lr=['0.0001000'], tr/val_loss:  0.059804/  1.149840, tr: 100.00%, val:  87.92%, val_best:  89.58%: 100%|██████████| 62/62 [00:26<00:00,  2.37it/s]"
     ]
    },
    {
     "name": "stdout",
     "output_type": "stream",
     "text": [
      "Domain loss,acc: 0.364004, 57.26% Target domain: tr_loss-0.668204, tr_acc-96.37%\n",
      "25,000c2dTruet10:87.92% | 25,000c3dFalset10:82.92%\n"
     ]
    },
    {
     "name": "stderr",
     "output_type": "stream",
     "text": [
      "\n",
      "epoch-291 lr=['0.0001000'], tr/val_loss:  0.060646/  1.145921, tr: 100.00%, val:  87.50%, val_best:  89.58%: 100%|██████████| 62/62 [00:25<00:00,  2.42it/s]"
     ]
    },
    {
     "name": "stdout",
     "output_type": "stream",
     "text": [
      "Domain loss,acc: 0.373091, 56.25% Target domain: tr_loss-0.685535, tr_acc-96.17%\n",
      "25,000c2dTruet10:87.50% | 25,000c3dFalset10:82.50%\n"
     ]
    },
    {
     "name": "stderr",
     "output_type": "stream",
     "text": [
      "\n",
      "epoch-292 lr=['0.0001000'], tr/val_loss:  0.066096/  1.157252, tr: 100.00%, val:  87.50%, val_best:  89.58%: 100%|██████████| 62/62 [00:25<00:00,  2.39it/s]"
     ]
    },
    {
     "name": "stdout",
     "output_type": "stream",
     "text": [
      "Domain loss,acc: 0.354647, 54.13% Target domain: tr_loss-0.643198, tr_acc-97.18%\n",
      "25,000c2dTruet10:87.50% | 25,000c3dFalset10:82.50%\n"
     ]
    },
    {
     "name": "stderr",
     "output_type": "stream",
     "text": [
      "\n",
      "epoch-293 lr=['0.0001000'], tr/val_loss:  0.058645/  1.140227, tr: 100.00%, val:  88.33%, val_best:  89.58%: 100%|██████████| 62/62 [00:26<00:00,  2.36it/s]"
     ]
    },
    {
     "name": "stdout",
     "output_type": "stream",
     "text": [
      "Domain loss,acc: 0.361413, 56.85% Target domain: tr_loss-0.664182, tr_acc-96.37%\n",
      "25,000c2dTruet10:88.33% | 25,000c3dFalset10:83.33%\n"
     ]
    },
    {
     "name": "stderr",
     "output_type": "stream",
     "text": [
      "\n",
      "epoch-294 lr=['0.0001000'], tr/val_loss:  0.060733/  1.152938, tr: 100.00%, val:  87.92%, val_best:  89.58%: 100%|██████████| 62/62 [00:26<00:00,  2.34it/s]"
     ]
    },
    {
     "name": "stdout",
     "output_type": "stream",
     "text": [
      "Domain loss,acc: 0.363843, 55.85% Target domain: tr_loss-0.666954, tr_acc-97.18%\n",
      "25,000c2dTruet10:87.92% | 25,000c3dFalset10:82.08%\n"
     ]
    },
    {
     "name": "stderr",
     "output_type": "stream",
     "text": [
      "\n",
      "epoch-295 lr=['0.0001000'], tr/val_loss:  0.057362/  1.161618, tr: 100.00%, val:  87.50%, val_best:  89.58%: 100%|██████████| 62/62 [00:25<00:00,  2.42it/s]"
     ]
    },
    {
     "name": "stdout",
     "output_type": "stream",
     "text": [
      "Domain loss,acc: 0.351582, 55.54% Target domain: tr_loss-0.645801, tr_acc-96.77%\n",
      "25,000c2dTruet10:87.50% | 25,000c3dFalset10:82.92%\n"
     ]
    },
    {
     "name": "stderr",
     "output_type": "stream",
     "text": [
      "\n",
      "epoch-296 lr=['0.0001000'], tr/val_loss:  0.052838/  1.161426, tr: 100.00%, val:  87.92%, val_best:  89.58%: 100%|██████████| 62/62 [00:26<00:00,  2.37it/s]"
     ]
    },
    {
     "name": "stdout",
     "output_type": "stream",
     "text": [
      "Domain loss,acc: 0.367541, 55.75% Target domain: tr_loss-0.682244, tr_acc-96.37%\n",
      "25,000c2dTruet10:87.92% | 25,000c3dFalset10:83.33%\n"
     ]
    },
    {
     "name": "stderr",
     "output_type": "stream",
     "text": [
      "\n",
      "epoch-297 lr=['0.0001000'], tr/val_loss:  0.057360/  1.159637, tr: 100.00%, val:  87.50%, val_best:  89.58%: 100%|██████████| 62/62 [00:26<00:00,  2.37it/s]"
     ]
    },
    {
     "name": "stdout",
     "output_type": "stream",
     "text": [
      "Domain loss,acc: 0.357160, 56.35% Target domain: tr_loss-0.656961, tr_acc-96.98%\n",
      "25,000c2dTruet10:87.50% | 25,000c3dFalset10:83.33%\n"
     ]
    },
    {
     "name": "stderr",
     "output_type": "stream",
     "text": [
      "\n",
      "epoch-298 lr=['0.0001000'], tr/val_loss:  0.055274/  1.160602, tr: 100.00%, val:  87.92%, val_best:  89.58%: 100%|██████████| 62/62 [00:26<00:00,  2.35it/s]"
     ]
    },
    {
     "name": "stdout",
     "output_type": "stream",
     "text": [
      "Domain loss,acc: 0.363973, 56.25% Target domain: tr_loss-0.672671, tr_acc-96.37%\n",
      "25,000c2dTruet10:87.92% | 25,000c3dFalset10:82.50%\n"
     ]
    },
    {
     "name": "stderr",
     "output_type": "stream",
     "text": [
      "\n",
      "epoch-299 lr=['0.0001000'], tr/val_loss:  0.059978/  1.154301, tr: 100.00%, val:  87.50%, val_best:  89.58%: 100%|██████████| 62/62 [00:26<00:00,  2.37it/s]"
     ]
    },
    {
     "name": "stdout",
     "output_type": "stream",
     "text": [
      "Domain loss,acc: 0.364373, 56.25% Target domain: tr_loss-0.668767, tr_acc-96.37%\n",
      "25,000c2dTruet10:87.50% | 25,000c3dFalset10:83.75%\n"
     ]
    },
    {
     "name": "stderr",
     "output_type": "stream",
     "text": [
      "\n"
     ]
    },
    {
     "data": {
      "text/plain": [
       "'\\nddp_on 키고, gpu 개수 만큼 batch size 나눠줘\\nCUDA_VISIBLE_DEVICES=0,1,2,3,4,5 python -m torch.distributed.launch --nproc_per_node=6 main_ddp.py\\nCUDA_VISIBLE_DEVICES=1,2,3 python -m torch.distributed.launch --nproc_per_node=3 main_ddp.py\\nCUDA_VISIBLE_DEVICES=0,1,2,3 python -m torch.distributed.launch --nproc_per_node=4 main_ddp.py\\n'"
      ]
     },
     "execution_count": 6,
     "metadata": {},
     "output_type": "execute_result"
    }
   ],
   "source": [
    "### my_snn control board (Gesture) ########################\n",
    "decay = 0.25 # 0.875 0.25 0.125 0.75 0.5\n",
    "# nda 0.25 # ottt 0.5\n",
    "const2 = False # trace 할거면 True, 안할거면 False\n",
    "\n",
    "unique_name = 'main' ## 이거 설정하면 새로운 경로에 모두 save\n",
    "run_name = 'main' ## 이거 설정하면 새로운 경로에 모두 save\n",
    "\n",
    "if const2 == True:\n",
    "    const2 = decay\n",
    "else:\n",
    "    const2 = 0.0\n",
    "\n",
    "wandb.init(project= f'my_snn {unique_name}',save_code=True)\n",
    "\n",
    "my_snn_system(  devices = \"3\",\n",
    "                single_step = True, # True # False\n",
    "                unique_name = run_name,\n",
    "                my_seed = 42,\n",
    "                TIME = 10, # dvscifar 10 # ottt 6 or 10 # nda 10  # 제작하는 dvs에서 TIME넘거나 적으면 자르거나 PADDING함\n",
    "                BATCH = 16, # batch norm 할거면 2이상으로 해야함   # nda 256   #  ottt 128\n",
    "                IMAGE_SIZE = 128, # dvscifar 48 # MNIST 28 # CIFAR10 32 # PMNIST 28 #NMNIST 34 # GESTURE 128\n",
    "                # dvsgesture 128, dvs_cifar2 128, nmnist 34, n_caltech101 180,240, n_tidigits 64, heidelberg 700, \n",
    "                #pmnist는 28로 해야 됨. 나머지는 바꿔도 돌아는 감.\n",
    "\n",
    "                # DVS_CIFAR10 할거면 time 10으로 해라\n",
    "                which_data = 'DVS_GESTURE_TONIC',\n",
    "# 'CIFAR100' 'CIFAR10' 'MNIST' 'FASHION_MNIST' 'DVS_CIFAR10' 'PMNIST'아직\n",
    "# 'DVS_GESTURE', 'DVS_GESTURE_TONIC','DVS_CIFAR10_2','NMNIST','NMNIST_TONIC','CIFAR10','N_CALTECH101','n_tidigits','heidelberg'\n",
    "                # CLASS_NUM = 10,\n",
    "                data_path = '/data2', # YOU NEED TO CHANGE THIS\n",
    "                rate_coding = False, # True # False\n",
    "                lif_layer_v_init = 0.0,\n",
    "                lif_layer_v_decay = decay,\n",
    "                lif_layer_v_threshold = 0.720291189014991, # 1.3102821334243646,  # 10000이상으로 하면 NDA LIF 씀. #nda 0.5  #ottt 1.0\n",
    "                lif_layer_v_reset = 10000, # 10000이상은 hardreset (내 LIF쓰기는 함 ㅇㅇ)\n",
    "                lif_layer_sg_width = 3.555718888923306, # 2.570969004857107 # sigmoid류에서는 alpha값 4.0, rectangle류에서는 width값 0.5\n",
    "\n",
    "                # synapse_conv_in_channels = IMAGE_PIXEL_CHANNEL,\n",
    "                synapse_conv_kernel_size = 3,\n",
    "                synapse_conv_stride = 1,\n",
    "                synapse_conv_padding = 1,\n",
    "                synapse_conv_trace_const1 = 1, # 현재 trace구할 때 현재 spike에 곱해지는 상수. 걍 1로 두셈.\n",
    "                synapse_conv_trace_const2 = const2, # 현재 trace구할 때 직전 trace에 곱해지는 상수. lif_layer_v_decay와 같게 할 것을 추천\n",
    "\n",
    "                # synapse_fc_out_features = CLASS_NUM,\n",
    "                synapse_fc_trace_const1 = 1, # 현재 trace구할 때 현재 spike에 곱해지는 상수. 걍 1로 두셈.\n",
    "                synapse_fc_trace_const2 = const2, # 현재 trace구할 때 직전 trace에 곱해지는 상수. lif_layer_v_decay와 같게 할 것을 추천\n",
    "\n",
    "                pre_trained = False, # True # False\n",
    "                convTrue_fcFalse = False, # True # False\n",
    "\n",
    "                # 'P' for average pooling, 'D' for (1,1) aver pooling, 'M' for maxpooling, 'L' for linear classifier, [  ] for residual block\n",
    "                # conv에서 10000 이상은 depth-wise separable (BPTT만 지원), 20000이상은 depth-wise (BPTT만 지원)\n",
    "                # cfg = [64, 64],\n",
    "                # cfg = [64, 124, 64, 124],\n",
    "                # cfg = ['M','M',512], \n",
    "                # cfg = [512], \n",
    "                # cfg = ['M', 'M', 64, 128, 'P', 128, 'P'], \n",
    "                # cfg = ['M','M',512],\n",
    "                # cfg = ['M',200],\n",
    "                # cfg = [200,200],\n",
    "                # cfg = ['M','M',200,200],\n",
    "                cfg = ([200],[200],[200],[2]), # (feature extractor, classifier, domain adapter, # of domain)\n",
    "                # cfg = (['M','M',200],[200],[200],[2]), # (feature extractor, classifier, domain adapter, # of domain)\n",
    "                # cfg = ['M',200,200],\n",
    "                # cfg = ['M','M',1024,512,256,128,64],\n",
    "                # cfg = [200,200],\n",
    "                # cfg = [12], #fc\n",
    "                # cfg = [12, 'M', 48, 'M', 12], \n",
    "                # cfg = [64,[64,64],64], # 끝에 linear classifier 하나 자동으로 붙습니다\n",
    "                # cfg = [64, 128, 'P', 256, 256, 'P', 512, 512, 'P', 512, 512, 'D'], #ottt\n",
    "                # cfg = [64, 128, 'P', 256, 256, 'P', 512, 512, 'P', 512, 512], \n",
    "                # cfg = [64, 128, 'M', 256, 256, 'M', 512, 512, 'M', 512, 512], \n",
    "                # cfg = [64, 'P', 128, 'P', 256, 256, 'P', 512, 512, 512, 512, 'D'], # nda\n",
    "                # cfg = [64, 'P', 128, 'P', 256, 256, 'P', 512, 512, 512, 512], # nda 128pixel\n",
    "                # cfg = [64, 'P', 128, 'P', 256, 256, 'P', 512, 512, 512, 512, 'L', 4096, 4096],\n",
    "                # cfg = [20001,10001], # depthwise, separable\n",
    "                # cfg = [64,20064,10001], # vanilla conv, depthwise, separable\n",
    "                # cfg = [8, 'P', 8, 'P', 8, 'P', 8,'P', 8, 'P'],\n",
    "                # cfg = [],        \n",
    "                \n",
    "                net_print = True, # True # False # True로 하길 추천\n",
    "                weight_count_print = False, # True # False\n",
    "                \n",
    "                pre_trained_path = f\"net_save/save_now_net_weights_{unique_name}.pth\",\n",
    "                learning_rate = 0.0001, #0.1 bptt, #0.01 ottt, # default 0.001  # ottt 0.1 # nda 0.001 # 0.00936191669529645\n",
    "                epoch_num = 300,\n",
    "                verbose_interval = 999999999, #이거 걍 건들지마셈 #숫자 크게 하면 꺼짐 #걍 중간중간 iter에서 끊어서 출력\n",
    "                validation_interval =  999999999,#999999999, #이거 걍 건들지마셈 #숫자 크게 하면 에포크 마지막 iter 때 val 함\n",
    "\n",
    "                tdBN_on = False,  # True # False\n",
    "                BN_on = False,  # True # False\n",
    "                \n",
    "                surrogate = 'hard_sigmoid', # 'sigmoid' 'rectangle' 'rough_rectangle' 'hard_sigmoid'\n",
    "                \n",
    "                gradient_verbose = False,  # True # False  # weight gradient 각 layer마다 띄워줌\n",
    "\n",
    "                BPTT_on = False,  # True # False # True이면 BPTT, False이면 OTTT  # depthwise, separable은 BPTT만 가능\n",
    "                optimizer_what = 'SGD', # 'SGD' 'Adam', 'RMSprop'\n",
    "                scheduler_name = 'no', # 'no' 'StepLR' 'ExponentialLR' 'ReduceLROnPlateau' 'CosineAnnealingLR' 'OneCycleLR'\n",
    "                \n",
    "                ddp_on = False,   # True # False \n",
    "                # 지원 DATASET: cifar10, mnist\n",
    "\n",
    "                nda_net = False,   # True # False\n",
    "\n",
    "                domain_il_epoch = 0, # over 0, then domain il mode on # pmnist 쓸거면 HLOP 코드보고 더 디벨롭하셈. 지금 개발 hold함.\n",
    "                \n",
    "                dvs_clipping = 2, #일반적으로 1 또는 2 # 100ms때는 5 # 숫자만큼 크면 spike 아니면 걍 0\n",
    "                # gesture, cifar-dvs2, nmnist, ncaltech101\n",
    "                # gesture: 100_000c1-5, 25_000c5, 10_000c5, 1_000c5, 1_000_000c5\n",
    "\n",
    "                dvs_duration = 25_000, # 0 아니면 time sampling # dvs number sampling OR time sampling # gesture, cifar-dvs2, nmnist, ncaltech101\n",
    "                # 있는 데이터들 #gesture 100_000 25_000 10_000 1_000 1_000_000 #nmnist 10000 #nmnist_tonic 10_000 25_000\n",
    "                # 한 숫자가 1us인듯 (spikingjelly코드에서)\n",
    "                # 한 장에 50 timestep만 생산함. 싫으면 my_snn/trying/spikingjelly_dvsgesture의__init__.py 를 참고해봐\n",
    "                # nmnist 5_000us, gesture는 100_000us, 25_000us\n",
    "\n",
    "                OTTT_sWS_on = False, # True # False # BPTT끄고, CONV에만 적용됨.\n",
    "\n",
    "                DFA_on = False, # True # False # residual은 dfa지원안함.\n",
    "                OTTT_input_trace_on = False, # True # False # 맨 처음 input에 trace 적용\n",
    "                 \n",
    "                e_transport_swap = 0, # 1 이상이면 해당 숫자 에포크만큼 val_acc_best가 변화가 없으면 e_transport scheme (BP vs DFA) swap\n",
    "                e_transport_swap_tr = 0, # 1 이상이면 해당 숫자 에포크만큼 tr_acc_best가 변화가 없으면 e_transport scheme (BP vs DFA) swap\n",
    "                e_transport_swap_coin = 1, # swap할 수 있는 coin 개수\n",
    "\n",
    "                drop_rate = 0, # drop_rate만큼 0으로 만듦. ex) 0.2면 activation의 20%를 0으로 만듦.\n",
    "\n",
    "                exclude_class = True, # True # False # gesture에서 10번째 클래스 제외\n",
    "\n",
    "                merge_polarities = False, # True # False # tonic dvs dataset 에서 polarities 합치기\n",
    "                denoise_on = True, # True # False\n",
    "\n",
    "                I_wanna_sweep_at_this_epoch = -1, # 지정 에포크에서 BP와 DFA를 바꿔줌. -1이면 실행 안함.\n",
    "                # dvs_duration_domain=[(100_000,5,False),(125_000,5,False),(150_000,5,False),],\n",
    "                # dvs_duration_domain=[(40_000,4,False),(50_000,4,False),(60_000,4,False),],\n",
    "                # [duration, clipping, denoise_on]\n",
    "                dvs_duration_domain=[(25_000,3,False)],\n",
    "                dvs_relative_timestep = False, # True # False \n",
    "                \n",
    "                extra_train_dataset = 0,\n",
    "\n",
    "                num_workers = 2, # local wsl에서는 2가 맞고, 서버에서는 4가 좋더라.\n",
    "                chaching_on = True, # True # False # only for certain datasets (gesture_tonic, nmnist_tonic)\n",
    "                pin_memory = True, # True # False \n",
    "\n",
    "                UDA_on = True, # True # False\n",
    "                UDA_data = (25_000,3,False), # (duration, clipping, denoise_on)\n",
    "                src_trg_ratio = 1, # (1이상의 정수) src data와 trg data의 개수 비율 (대략적으로)\n",
    "                adapter_loss_weight = 1.0, # 1.0  # adapter loss의 힘. # 이걸 0으로하면 src only learning.\n",
    "                alpha_uda = 1.0, # GRL의 alpha값\n",
    "\n",
    "                temporal_filter = 5, # 한타임스텝에 쑤셔 넣을 window개수. \n",
    "                initial_pooling = 8, # 1이면 pooling 안함. 2의 승수만 입력하셈. log2를 취해서 pooling할 window size를 결정함.\n",
    "                ) \n",
    "\n",
    "# num_workers = 4 * num_GPU (or 8, 16, 2 * num_GPU)\n",
    "# entry * batch_size * num_worker = num_GPU * GPU_throughtput\n",
    "# num_workers = batch_size / num_GPU\n",
    "# num_workers = batch_size / num_CPU\n",
    "\n",
    "# sigmoid와 BN이 있어야 잘된다.\n",
    "# average pooling  \n",
    "# 이 낫다. \n",
    " \n",
    "# nda에서는 decay = 0.25, threshold = 0.5, width =1, surrogate = rectangle, batch = 256, tdBN = True\n",
    "## OTTT 에서는 decay = 0.5, threshold = 1.0, surrogate = sigmoid, batch = 128, BN = True\n",
    "\n",
    "\n",
    "# DDP 실행 코드0\n",
    "'''\n",
    "ddp_on 키고, gpu 개수 만큼 batch size 나눠줘\n",
    "CUDA_VISIBLE_DEVICES=0,1,2,3,4,5 python -m torch.distributed.launch --nproc_per_node=6 main_ddp.py\n",
    "CUDA_VISIBLE_DEVICES=1,2,3 python -m torch.distributed.launch --nproc_per_node=3 main_ddp.py\n",
    "CUDA_VISIBLE_DEVICES=0,1,2,3 python -m torch.distributed.launch --nproc_per_node=4 main_ddp.py\n",
    "'''\n",
    "\n"
   ]
  },
  {
   "cell_type": "code",
   "execution_count": 7,
   "metadata": {},
   "outputs": [],
   "source": [
    "# # sweep 하는 코드, 위 셀 주석처리 해야 됨.\n",
    "\n",
    "# # 이런 워닝 뜨는 거는 걍 너가 main 안에서  wandb.config.update(hyperparameters)할 때 물려서임. 어차피 근데 sweep에서 지정한 걸로 덮어짐 \n",
    "# # wandb: WARNING Config item 'BATCH' was locked by 'sweep' (ignored update).\n",
    "\n",
    "# unique_name_hyper = 'main'\n",
    "# run_name = 'main'\n",
    "# sweep_configuration = {\n",
    "#     'method': 'random', # 'random', 'bayes'\n",
    "#     'name': f'my_snn_sweep{datetime.datetime.now().strftime(\"%Y%m%d_%H%M%S\")}',\n",
    "#     'metric': {'goal': 'maximize', 'name': 'val_acc_best'},\n",
    "#     'parameters': \n",
    "#     {\n",
    "#         \"learning_rate\": {\"values\": [0.001]}, #0.00936191669529645\n",
    "#         \"BATCH\": {\"values\": [16]},\n",
    "#         \"decay\": {\"values\": [0.25]},\n",
    "#         \"IMAGE_SIZE\": {\"values\": [128]},\n",
    "#         \"TIME\": {\"values\": [10]},\n",
    "#         \"epoch_num\": {\"values\": [200]},\n",
    "#         \"dvs_duration\": {\"values\": [25_000,50_000,100_000]},\n",
    "#         \"dvs_clipping\": {\"values\": [1,2,3,4,5]},\n",
    "#         \"which_data\": {\"values\": ['DVS_GESTURE_TONIC']},\n",
    "#         \"OTTT_sWS_on\": {\"values\": [False]},\n",
    "#         \"const2\": {\"values\": [False]},\n",
    "#         \"surrogate\": {\"values\": ['hard_sigmoid']},\n",
    "#         \"DFA_on\": {\"values\": [False]},\n",
    "#         \"OTTT_input_trace_on\": {\"values\": [False]},\n",
    "#         \"cfg\": {\"values\": [['M','M',200,200]]},\n",
    "#         \"e_transport_swap\": {\"values\": [0]},\n",
    "#         \"e_transport_swap_tr\": {\"values\": [0]},\n",
    "#         \"drop_rate\": {\"values\": [0.0]}, # \"drop_rate\": {\"values\": [0.25,0.5,0.75]}, #\"drop_rate\": {\"min\": 0.25, \"max\": 0.75},\n",
    "#         \"exclude_class\": {\"values\": [True]},\n",
    "#         \"merge_polarities\": {\"values\": [False]},\n",
    "#         \"lif_layer_v_reset\": {\"values\": [10000]},\n",
    "#         \"lif_layer_sg_width\": {\"values\": [3.555718888923306]},\n",
    "#         \"e_transport_swap_coin\": {\"values\": [1]},\n",
    "#         \"lif_layer_v_threshold\": {\"values\": [0.720291189014991]},\n",
    "#         \"scheduler_name\": {\"values\": ['no']},  # 'no' 'StepLR' 'ExponentialLR' 'ReduceLROnPlateau' 'CosineAnnealingLR' 'OneCycleLR'\n",
    "#         \"denoise_on\": {\"values\": [True,False]}, \n",
    "#         \"I_wanna_sweep_at_this_epoch\": {\"values\": [-1]}, \n",
    "#         \"dvs_duration_domain\": {\"values\": [[]]}, \n",
    "#         \"dvs_relative_timestep\": {\"values\": [[False]]}, \n",
    "#         \"extra_train_dataset\": {\"values\": [0]}, \n",
    "#      }\n",
    "# }\n",
    "\n",
    "# def hyper_iter():\n",
    "#     ### my_snn control board ########################\n",
    "#     unique_name = unique_name_hyper ## 이거 설정하면 새로운 경로에 모두 save\n",
    "    \n",
    "#     wandb.init(save_code = True)\n",
    "#     learning_rate  =  wandb.config.learning_rate\n",
    "#     BATCH  =  wandb.config.BATCH\n",
    "#     decay  =  wandb.config.decay\n",
    "#     IMAGE_SIZE  =  wandb.config.IMAGE_SIZE\n",
    "#     TIME  =  wandb.config.TIME\n",
    "#     epoch_num  =  wandb.config.epoch_num \n",
    "#     dvs_duration  =  wandb.config.dvs_duration\n",
    "#     dvs_clipping  =  wandb.config.dvs_clipping\n",
    "#     which_data  =  wandb.config.which_data\n",
    "#     OTTT_sWS_on  =  wandb.config.OTTT_sWS_on\n",
    "#     const2  =  wandb.config.const2\n",
    "#     surrogate  =  wandb.config.surrogate\n",
    "#     DFA_on  =  wandb.config.DFA_on\n",
    "#     OTTT_input_trace_on  =  wandb.config.OTTT_input_trace_on\n",
    "#     cfg  =  wandb.config.cfg\n",
    "#     e_transport_swap  =  wandb.config.e_transport_swap\n",
    "#     e_transport_swap_tr  =  wandb.config.e_transport_swap_tr\n",
    "#     drop_rate  =  wandb.config.drop_rate\n",
    "#     exclude_class  =  wandb.config.exclude_class\n",
    "#     merge_polarities  =  wandb.config.merge_polarities\n",
    "#     lif_layer_v_reset  =  wandb.config.lif_layer_v_reset\n",
    "#     lif_layer_sg_width  =  wandb.config.lif_layer_sg_width\n",
    "#     e_transport_swap_coin  =  wandb.config.e_transport_swap_coin\n",
    "#     lif_layer_v_threshold  =  wandb.config.lif_layer_v_threshold\n",
    "#     scheduler_name  =  wandb.config.scheduler_name\n",
    "#     denoise_on  =  wandb.config.denoise_on\n",
    "#     I_wanna_sweep_at_this_epoch  =  wandb.config.I_wanna_sweep_at_this_epoch\n",
    "#     dvs_duration_domain  =  wandb.config.dvs_duration_domain\n",
    "#     dvs_relative_timestep  =  wandb.config.dvs_relative_timestep\n",
    "#     extra_train_dataset  =  wandb.config.extra_train_dataset\n",
    "#     if const2 == True:\n",
    "#         const2 = decay\n",
    "#     else:\n",
    "#         const2 = 0.0\n",
    "\n",
    "#     my_snn_system(  devices = \"5\",\n",
    "#                 single_step = True, # True # False\n",
    "#                 unique_name = run_name,\n",
    "#                 my_seed = 42,\n",
    "#                 TIME = TIME , # dvscifar 10 # ottt 6 or 10 # nda 10  # 제작하는 dvs에서 TIME넘거나 적으면 자르거나 PADDING함\n",
    "#                 BATCH = BATCH, # batch norm 할거면 2이상으로 해야함   # nda 256   #  ottt 128\n",
    "#                 IMAGE_SIZE = IMAGE_SIZE, # dvscifar 48 # MNIST 28 # CIFAR10 32 # PMNIST 28 #NMNIST 34 # GESTURE 128\n",
    "#                 # dvsgesture 128, dvs_cifar2 128, nmnist 34, n_caltech101 180,240, n_tidigits 64, heidelberg 700, \n",
    "#                 #pmnist는 28로 해야 됨. 나머지는 바꿔도 돌아는 감.\n",
    "\n",
    "#                 # DVS_CIFAR10 할거면 time 10으로 해라\n",
    "#                 which_data = which_data,\n",
    "# # 'CIFAR100' 'CIFAR10' 'MNIST' 'FASHION_MNIST' 'DVS_CIFAR10' 'PMNIST'아직\n",
    "# # 'DVS_GESTURE', 'DVS_GESTURE_TONIC','DVS_CIFAR10_2','NMNIST','NMNIST_TONIC','N_CALTECH101','n_tidigits','heidelberg'\n",
    "#                 # CLASS_NUM = 10,\n",
    "#                 data_path = '/data2', # YOU NEED TO CHANGE THIS\n",
    "#                 rate_coding = False, # True # False\n",
    "#                 lif_layer_v_init = 0.0,\n",
    "#                 lif_layer_v_decay = decay,\n",
    "#                 lif_layer_v_threshold = lif_layer_v_threshold,  # 10000이상으로 하면 NDA LIF 씀. #nda 0.5  #ottt 1.0\n",
    "#                 lif_layer_v_reset = lif_layer_v_reset, # 10000이상은 hardreset (내 LIF쓰기는 함 ㅇㅇ)\n",
    "#                 lif_layer_sg_width = lif_layer_sg_width, # # surrogate sigmoid 쓸 때는 의미없음\n",
    "\n",
    "#                 # synapse_conv_in_channels = IMAGE_PIXEL_CHANNEL,\n",
    "#                 synapse_conv_kernel_size = 3,\n",
    "#                 synapse_conv_stride = 1,\n",
    "#                 synapse_conv_padding = 1,\n",
    "#                 synapse_conv_trace_const1 = 1, # 현재 trace구할 때 현재 spike에 곱해지는 상수. 걍 1로 두셈.\n",
    "#                 synapse_conv_trace_const2 = const2, # 현재 trace구할 때 직전 trace에 곱해지는 상수. lif_layer_v_decay와 같게 할 것을 추천\n",
    "\n",
    "#                 # synapse_fc_out_features = CLASS_NUM,\n",
    "#                 synapse_fc_trace_const1 = 1, # 현재 trace구할 때 현재 spike에 곱해지는 상수. 걍 1로 두셈.\n",
    "#                 synapse_fc_trace_const2 = const2, # 현재 trace구할 때 직전 trace에 곱해지는 상수. lif_layer_v_decay와 같게 할 것을 추천\n",
    "\n",
    "#                 pre_trained = False, # True # False\n",
    "#                 convTrue_fcFalse = False, # True # False\n",
    "\n",
    "#                 # 'P' for average pooling, 'D' for (1,1) aver pooling, 'M' for maxpooling, 'L' for linear classifier, [  ] for residual block\n",
    "#                 # conv에서 10000 이상은 depth-wise separable (BPTT만 지원), 20000이상은 depth-wise (BPTT만 지원)\n",
    "#                 # cfg = [64, 64],\n",
    "#                 # cfg = [64, 124, 64, 124],\n",
    "#                 # cfg = ['M','M',512], \n",
    "#                 # cfg = [512], \n",
    "#                 # cfg = ['M', 'M', 64, 128, 'P', 128, 'P'], \n",
    "#                 # cfg = ['M','M',200,200],\n",
    "#                 # cfg = [200,200],\n",
    "#                 cfg = cfg,\n",
    "#                 # cfg = [12], #fc\n",
    "#                 # cfg = [12, 'M', 48, 'M', 12], \n",
    "#                 # cfg = [64,[64,64],64], # 끝에 linear classifier 하나 자동으로 붙습니다\n",
    "#                 # cfg = [64, 128, 'P', 256, 256, 'P', 512, 512, 'P', 512, 512, 'D'], #ottt\n",
    "#                 # cfg = [64, 128, 'P', 256, 256, 'P', 512, 512, 'P', 512, 512], \n",
    "#                 # cfg = [64, 128, 'M', 256, 256, 'M', 512, 512, 'M', 512, 512], \n",
    "#                 # cfg = [64, 'P', 128, 'P', 256, 256, 'P', 512, 512, 512, 512, 'D'], # nda\n",
    "#                 # cfg = [64, 'P', 128, 'P', 256, 256, 'P', 512, 512, 512, 512], # nda 128pixel\n",
    "#                 # cfg = [64, 'P', 128, 'P', 256, 256, 'P', 512, 512, 512, 512, 'L', 4096, 4096],\n",
    "#                 # cfg = [20001,10001], # depthwise, separable\n",
    "#                 # cfg = [64,20064,10001], # vanilla conv, depthwise, separable\n",
    "#                 # cfg = [8, 'P', 8, 'P', 8, 'P', 8,'P', 8, 'P'],\n",
    "#                 # cfg = [], \n",
    "                \n",
    "#                 net_print = True, # True # False # True로 하길 추천\n",
    "#                 weight_count_print = False, # True # False\n",
    "                \n",
    "#                 pre_trained_path = f\"net_save/save_now_net_weights_{unique_name}.pth\",\n",
    "#                 learning_rate = learning_rate, # default 0.001  # ottt 0.1 # nda 0.001 \n",
    "#                 epoch_num = epoch_num,\n",
    "#                 verbose_interval = 999999999, #숫자 크게 하면 꺼짐 #걍 중간중간 iter에서 끊어서 출력\n",
    "#                 validation_interval =  999999999,#999999999, #숫자 크게 하면 에포크 마지막 iter 때 val 함\n",
    "\n",
    "#                 tdBN_on = False,  # True # False\n",
    "#                 BN_on = False,  # True # False\n",
    "                \n",
    "#                 surrogate = surrogate, # 'rectangle' 'sigmoid' 'rough_rectangle'\n",
    "                \n",
    "#                 gradient_verbose = False,  # True # False  # weight gradient 각 layer마다 띄워줌\n",
    "\n",
    "#                 BPTT_on = False,  # True # False # True이면 BPTT, False이면 OTTT  # depthwise, separable은 BPTT만 가능\n",
    "#                 optimizer_what = 'SGD', # 'SGD' 'Adam', 'RMSprop'\n",
    "#                 scheduler_name = scheduler_name, # 'no' 'StepLR' 'ExponentialLR' 'ReduceLROnPlateau' 'CosineAnnealingLR' 'OneCycleLR'\n",
    "                \n",
    "#                 ddp_on = False,   # True # False \n",
    "#                 # 지원 DATASET: cifar10, mnist\n",
    "\n",
    "#                 nda_net = False,   # True # False\n",
    "\n",
    "#                 domain_il_epoch = 0, # over 0, then domain il mode on # pmnist 쓸거면 HLOP 코드보고 더 디벨롭하셈. 지금 개발 hold함.\n",
    "                \n",
    "#                 dvs_clipping = dvs_clipping, # 숫자만큼 크면 spike 아니면 걍 0\n",
    "#                 # gesture, cifar-dvs2, nmnist, ncaltech101\n",
    "\n",
    "#                 dvs_duration = dvs_duration, # 0 아니면 time sampling # dvs number sampling OR time sampling # gesture, cifar-dvs2, nmnist, ncaltech101\n",
    "#                 # 있는 데이터들 #gesture 100_000 25_000 10_000 1_000 1_000_000 #nmnist 10000 #nmnist_tonic 10_000 25_000\n",
    "#                 # 한 숫자가 1us인듯 (spikingjelly코드에서)\n",
    "#                 # 한 장에 50 timestep만 생산함. 싫으면 my_snn/trying/spikingjelly_dvsgesture의__init__.py 를 참고해봐\n",
    "\n",
    "#                 OTTT_sWS_on = OTTT_sWS_on, # True # False # BPTT끄고, CONV에만 적용됨.\n",
    "\n",
    "#                 DFA_on = DFA_on, # True # False # residual은 dfa지원안함.\n",
    "#                 OTTT_input_trace_on = OTTT_input_trace_on, # True # False # 맨 처음 input에 trace 적용\n",
    "                 \n",
    "#                 e_transport_swap = e_transport_swap, # 1 이상이면 해당 숫자 에포크만큼 val_acc_best가 변화가 없으면 e_transport scheme (BP vs DFA) swap\n",
    "#                 e_transport_swap_tr = e_transport_swap_tr, # 1 이상이면 해당 숫자 에포크만큼 tr_acc_best가 변화가 없으면 e_transport scheme (BP vs DFA) swap\n",
    "#                 e_transport_swap_coin = e_transport_swap_coin, # swap할 수 있는 coin 개수\n",
    "                    \n",
    "#                 drop_rate = drop_rate,\n",
    "\n",
    "#                 exclude_class = exclude_class, # True # False # gesture에서 10번째 클래스 제외\n",
    "\n",
    "#                 merge_polarities = merge_polarities, # True # False # tonic dvs dataset 에서 polarities 합치기\n",
    "#                 denoise_on = denoise_on,\n",
    "\n",
    "#                 I_wanna_sweep_at_this_epoch = I_wanna_sweep_at_this_epoch,\n",
    "#                 dvs_duration_domain = dvs_duration_domain,\n",
    "#                 dvs_relative_timestep = dvs_relative_timestep, # True # False \n",
    "\n",
    "#                 extra_train_dataset = extra_train_dataset,\n",
    "\n",
    "#                 num_workers = 2,\n",
    "#                 chaching_on = True,\n",
    "#                 pin_memory = True, # True # False\n",
    "#                     ) \n",
    "#     # sigmoid와 BN이 있어야 잘된다.\n",
    "#     # average pooling\n",
    "#     # 이 낫다. \n",
    "    \n",
    "#     # nda에서는 decay = 0.25, threshold = 0.5, width =1, surrogate = rectangle, batch = 256, tdBN = True\n",
    "#     ## OTTT 에서는 decay = 0.5, threshold = 1.0, surrogate = sigmoid, batch = 128, BN = True\n",
    "\n",
    "# sweep_id = wandb.sweep(sweep=sweep_configuration, project=f'my_snn {unique_name_hyper}')\n",
    "# wandb.agent(sweep_id, function=hyper_iter, count=10000, project=f'my_snn {unique_name_hyper}')\n"
   ]
  },
  {
   "cell_type": "code",
   "execution_count": 8,
   "metadata": {},
   "outputs": [
    {
     "data": {
      "application/vnd.jupyter.widget-view+json": {
       "model_id": "f3c9e8cc78fe49ecb494ed276d31e61a",
       "version_major": 2,
       "version_minor": 0
      },
      "text/plain": [
       "VBox(children=(Label(value='24.395 MB of 24.395 MB uploaded (2.603 MB deduped)\\r'), FloatProgress(value=1.0, m…"
      ]
     },
     "metadata": {},
     "output_type": "display_data"
    },
    {
     "data": {
      "text/html": [
       "W&B sync reduced upload amount by 10.4%"
      ],
      "text/plain": [
       "<IPython.core.display.HTML object>"
      ]
     },
     "metadata": {},
     "output_type": "display_data"
    },
    {
     "data": {
      "text/html": [
       "<style>\n",
       "    table.wandb td:nth-child(1) { padding: 0 10px; text-align: left ; width: auto;} td:nth-child(2) {text-align: left ; width: 100%}\n",
       "    .wandb-row { display: flex; flex-direction: row; flex-wrap: wrap; justify-content: flex-start; width: 100% }\n",
       "    .wandb-col { display: flex; flex-direction: column; flex-basis: 100%; flex: 1; padding: 10px; }\n",
       "    </style>\n",
       "<div class=\"wandb-row\"><div class=\"wandb-col\"><h3>Run history:</h3><br/><table class=\"wandb\"><tr><td>DFA_flag</td><td>▁▁▁▁▁▁▁▁▁▁▁▁▁▁▁▁▁▁▁▁▁▁▁▁▁▁▁▁▁▁▁▁▁▁▁▁▁▁▁▁</td></tr><tr><td>epoch</td><td>▁▁▁▁▂▂▂▂▂▃▃▃▃▃▃▄▄▄▄▄▅▅▅▅▅▅▆▆▆▆▆▇▇▇▇▇▇███</td></tr><tr><td>iter_acc</td><td>▁▂▄▇▆▃▅▅▇▅▅▇▆▇▇▇▇▇▇▅█▇▇██▇█▇███▇▇▇██▇▇██</td></tr><tr><td>summary_val_acc</td><td>▁▃▆▇▇▇▇▇▇█▇█████████████████████████████</td></tr><tr><td>tr_acc</td><td>▁▃▅▆▇▇▇▇▇▇██████████████████████████████</td></tr><tr><td>tr_epoch_loss</td><td>█▇▅▄▄▄▄▃▃▃▃▃▃▂▂▂▂▂▂▂▂▂▁▂▁▁▁▁▁▁▁▁▁▁▁▁▁▁▁▁</td></tr><tr><td>val_acc_best</td><td>▁▃▆▆▇▇▇▇▇███████████████████████████████</td></tr><tr><td>val_acc_now</td><td>▁▃▆▇▇▇▇▇▇█▇█████████████████████████████</td></tr><tr><td>val_loss</td><td>█▆▄▃▂▂▂▂▂▂▁▁▁▁▁▁▁▁▁▁▁▁▁▁▁▁▁▁▂▁▂▂▂▂▂▂▂▂▂▂</td></tr></table><br/></div><div class=\"wandb-col\"><h3>Run summary:</h3><br/><table class=\"wandb\"><tr><td>DFA_flag</td><td>0.0</td></tr><tr><td>epoch</td><td>299</td></tr><tr><td>iter_acc</td><td>0.9375</td></tr><tr><td>tr_acc</td><td>1.0</td></tr><tr><td>tr_epoch_loss</td><td>0.05998</td></tr><tr><td>val_acc_best</td><td>0.89583</td></tr><tr><td>val_acc_now</td><td>0.875</td></tr><tr><td>val_loss</td><td>1.1543</td></tr></table><br/></div></div>"
      ],
      "text/plain": [
       "<IPython.core.display.HTML object>"
      ]
     },
     "metadata": {},
     "output_type": "display_data"
    },
    {
     "data": {
      "text/html": [
       " View run <strong style=\"color:#cdcd00\">lyric-frog-6181</strong> at: <a href='https://wandb.ai/bhkim003-seoul-national-university/my_snn%20main/runs/u0y6c2z5' target=\"_blank\">https://wandb.ai/bhkim003-seoul-national-university/my_snn%20main/runs/u0y6c2z5</a><br/> View project at: <a href='https://wandb.ai/bhkim003-seoul-national-university/my_snn%20main' target=\"_blank\">https://wandb.ai/bhkim003-seoul-national-university/my_snn%20main</a><br/>Synced 7 W&B file(s), 0 media file(s), 15 artifact file(s) and 1 other file(s)"
      ],
      "text/plain": [
       "<IPython.core.display.HTML object>"
      ]
     },
     "metadata": {},
     "output_type": "display_data"
    },
    {
     "data": {
      "text/html": [
       "Find logs at: <code>./wandb/run-20241012_005909-u0y6c2z5/logs</code>"
      ],
      "text/plain": [
       "<IPython.core.display.HTML object>"
      ]
     },
     "metadata": {},
     "output_type": "display_data"
    },
    {
     "data": {
      "text/html": [
       "The new W&B backend becomes opt-out in version 0.18.0; try it out with `wandb.require(\"core\")`! See https://wandb.me/wandb-core for more information."
      ],
      "text/plain": [
       "<IPython.core.display.HTML object>"
      ]
     },
     "metadata": {},
     "output_type": "display_data"
    }
   ],
   "source": [
    "wandb.finish() "
   ]
  },
  {
   "cell_type": "code",
   "execution_count": 9,
   "metadata": {},
   "outputs": [],
   "source": [
    "# import numpy as np\n",
    "# import matplotlib.pyplot as plt\n",
    "# import json\n",
    "# run_name = 'main_FINAL_TEST'\n",
    "\n",
    "# unique_name = run_name\n",
    "# def pad_array_to_match_length(array1, array2):\n",
    "#     if len(array1) > len(array2):\n",
    "#         padded_array2 = np.pad(array2, (0, len(array1) - len(array2)), 'constant')\n",
    "#         return array1, padded_array2\n",
    "#     elif len(array2) > len(array1):\n",
    "#         padded_array1 = np.pad(array1, (0, len(array2) - len(array1)), 'constant')\n",
    "#         return padded_array1, array2\n",
    "#     else:\n",
    "#         return array1, array2\n",
    "# def load_hyperparameters(filename=f'result_save/hyperparameters_{unique_name}.json'):\n",
    "#     with open(filename, 'r') as f:\n",
    "#         return json.load(f)\n",
    "    \n",
    "\n",
    "\n",
    "\n",
    "\n",
    "# current_time = '20240628_110116'\n",
    "# base_name = f'{current_time}'\n",
    "# iter_acc_file_name = f'result_save/{base_name}_iter_acc_array_{unique_name}.npy'\n",
    "# val_acc_file_name = f'result_save/{base_name}_val_acc_now_array_{unique_name}.npy'\n",
    "# hyperparameters_file_name = f'result_save/{base_name}_hyperparameters_{unique_name}.json'\n",
    "\n",
    "# ### if you want to just see most recent train and val acc###########################\n",
    "# iter_acc_file_name = f'result_save/iter_acc_array_{unique_name}.npy'\n",
    "# tr_acc_file_name = f'result_save/tr_acc_array_{unique_name}.npy'\n",
    "# val_acc_file_name = f'result_save/val_acc_now_array_{unique_name}.npy'\n",
    "# hyperparameters_file_name = f'result_save/hyperparameters_{unique_name}.json'\n",
    "\n",
    "# loaded_iter_acc_array = np.load(iter_acc_file_name)*100\n",
    "# loaded_tr_acc_array = np.load(tr_acc_file_name)*100\n",
    "# loaded_val_acc_array = np.load(val_acc_file_name)*100\n",
    "# hyperparameters = load_hyperparameters(hyperparameters_file_name)\n",
    "\n",
    "# loaded_iter_acc_array, loaded_val_acc_array = pad_array_to_match_length(loaded_iter_acc_array, loaded_val_acc_array)\n",
    "# loaded_iter_acc_array, loaded_tr_acc_array = pad_array_to_match_length(loaded_iter_acc_array, loaded_tr_acc_array)\n",
    "# loaded_val_acc_array, loaded_tr_acc_array = pad_array_to_match_length(loaded_val_acc_array, loaded_tr_acc_array)\n",
    "\n",
    "# top_iter_acc = np.max(loaded_iter_acc_array)\n",
    "# top_tr_acc = np.max(loaded_tr_acc_array)\n",
    "# top_val_acc = np.max(loaded_val_acc_array)\n",
    "\n",
    "# which_data = hyperparameters['which_data']\n",
    "# BPTT_on = hyperparameters['BPTT_on']\n",
    "# current_epoch = hyperparameters['current epoch']\n",
    "# surrogate = hyperparameters['surrogate']\n",
    "# cfg = hyperparameters['cfg']\n",
    "# tdBN_on = hyperparameters['tdBN_on']\n",
    "# BN_on = hyperparameters['BN_on']\n",
    "\n",
    "\n",
    "# iterations = np.arange(len(loaded_iter_acc_array))\n",
    "\n",
    "# # 그래프 그리기\n",
    "# plt.figure(figsize=(10, 5))\n",
    "# plt.plot(iterations, loaded_iter_acc_array, label='Iter Accuracy', color='g', alpha=0.2)\n",
    "# plt.plot(iterations, loaded_tr_acc_array, label='Training Accuracy', color='b')\n",
    "# plt.plot(iterations, loaded_val_acc_array, label='Validation Accuracy', color='r')\n",
    "\n",
    "# # # 텍스트 추가\n",
    "# # plt.text(0.05, 0.95, f'Top Training Accuracy: {100*top_iter_acc:.2f}%', transform=plt.gca().transAxes, fontsize=12, verticalalignment='top', horizontalalignment='left', color='blue')\n",
    "# # plt.text(0.05, 0.90, f'Top Validation Accuracy: {100*top_val_acc:.2f}%', transform=plt.gca().transAxes, fontsize=12, verticalalignment='top', horizontalalignment='left', color='red')\n",
    "# # 텍스트 추가\n",
    "# plt.text(0.5, 0.10, f'Top Training Accuracy: {top_tr_acc:.2f}%', transform=plt.gca().transAxes, fontsize=12, verticalalignment='top', horizontalalignment='center', color='blue')\n",
    "# plt.text(0.5, 0.05, f'Top Validation Accuracy: {top_val_acc:.2f}%', transform=plt.gca().transAxes, fontsize=12, verticalalignment='top', horizontalalignment='center', color='red')\n",
    "\n",
    "# plt.xlabel('Iterations')\n",
    "# plt.ylabel('Accuracy [%]')\n",
    "\n",
    "# # 그래프 제목에 하이퍼파라미터 정보 추가\n",
    "# title = f'Training and Validation Accuracy over Iterations\\n\\nData: {which_data}, BPTT: {\"On\" if BPTT_on else \"Off\"}, Current Epoch: {current_epoch}, Surrogate: {surrogate},\\nCFG: {cfg}, tdBN: {\"On\" if tdBN_on else \"Off\"}, BN: {\"On\" if BN_on else \"Off\"}'\n",
    "\n",
    "# plt.title(title)\n",
    "\n",
    "# plt.legend(loc='lower right')\n",
    "# plt.xlim(0)  # x축을 0부터 시작\n",
    "# plt.grid(True)\n",
    "# plt.show()"
   ]
  }
 ],
 "metadata": {
  "kernelspec": {
   "display_name": "aedat2",
   "language": "python",
   "name": "python3"
  },
  "language_info": {
   "codemirror_mode": {
    "name": "ipython",
    "version": 3
   },
   "file_extension": ".py",
   "mimetype": "text/x-python",
   "name": "python",
   "nbconvert_exporter": "python",
   "pygments_lexer": "ipython3",
   "version": "3.8.18"
  }
 },
 "nbformat": 4,
 "nbformat_minor": 2
}
