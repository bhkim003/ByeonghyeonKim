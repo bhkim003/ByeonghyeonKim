{
 "cells": [
  {
   "cell_type": "code",
   "execution_count": 1,
   "metadata": {},
   "outputs": [],
   "source": [
    "import numpy as np\n",
    "\n",
    "np.random.seed(42)  # 재현 가능성 확보\n",
    "\n",
    "# Input activation: 0 또는 1의 1024개 값 (1배치)\n",
    "input_activation = np.random.randint(0, 2, size=(1024,), dtype=np.uint8)\n",
    "\n",
    "# Weight: 1024 x 200 크기의 정수 또는 실수 weight\n",
    "weight = np.random.randint(-128, 128, size=(1024, 200), dtype=np.int8)  # 정수 버전\n",
    "# weight = np.random.uniform(-1.0, 1.0, size=(1024, 200)).astype(np.float32)  # 실수 버전\n",
    "\n",
    "# Save as .txt for Verilog testbench\n",
    "np.savetxt(\"input_activation.txt\", input_activation, fmt='%d')  # 1024행\n",
    "np.savetxt(\"weight_matrix.txt\", weight, fmt='%d')               # 1024행, 200열\n"
   ]
  }
 ],
 "metadata": {
  "kernelspec": {
   "display_name": "aedat2",
   "language": "python",
   "name": "python3"
  },
  "language_info": {
   "codemirror_mode": {
    "name": "ipython",
    "version": 3
   },
   "file_extension": ".py",
   "mimetype": "text/x-python",
   "name": "python",
   "nbconvert_exporter": "python",
   "pygments_lexer": "ipython3",
   "version": "3.8.18"
  }
 },
 "nbformat": 4,
 "nbformat_minor": 2
}
