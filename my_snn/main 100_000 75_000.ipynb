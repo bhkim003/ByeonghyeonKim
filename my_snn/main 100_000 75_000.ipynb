{
 "cells": [
  {
   "cell_type": "code",
   "execution_count": 1,
   "metadata": {},
   "outputs": [],
   "source": [
    "# Copyright (c) 2024 Byeonghyeon Kim \n",
    "# github site: https://github.com/bhkim003/ByeonghyeonKim\n",
    "# email: bhkim003@snu.ac.kr\n",
    " \n",
    "# Permission is hereby granted, free of charge, to any person obtaining a copy of\n",
    "# this software and associated documentation files (the \"Software\"), to deal in\n",
    "# the Software without restriction, including without limitation the rights to\n",
    "# use, copy, modify, merge, publish, distribute, sublicense, and/or sell copies of\n",
    "# the Software, and to permit persons to whom the Software is furnished to do so,\n",
    "# subject to the following conditions:\n",
    " \n",
    "# The above copyright notice and this permission notice shall be included in all\n",
    "# copies or substantial portions of the Software.\n",
    " \n",
    "# THE SOFTWARE IS PROVIDED \"AS IS\", WITHOUT WARRANTY OF ANY KIND, EXPRESS OR\n",
    "# IMPLIED, INCLUDING BUT NOT LIMITED TO THE WARRANTIES OF MERCHANTABILITY, FITNESS\n",
    "# FOR A PARTICULAR PURPOSE AND NONINFRINGEMENT. IN NO EVENT SHALL THE AUTHORS OR\n",
    "# COPYRIGHT HOLDERS BE LIABLE FOR ANY CLAIM, DAMAGES OR OTHER LIABILITY, WHETHER\n",
    "# IN AN ACTION OF CONTRACT, TORT OR OTHERWISE, ARISING FROM, OUT OF OR IN\n",
    "# CONNECTION WITH THE SOFTWARE OR THE USE OR OTHER DEALINGS IN THE SOFTWARE.\n"
   ]
  },
  {
   "cell_type": "code",
   "execution_count": 2,
   "metadata": {},
   "outputs": [
    {
     "name": "stderr",
     "output_type": "stream",
     "text": [
      "/tmp/ipykernel_1571/1506272096.py:46: DeprecationWarning: The module snntorch.spikevision is deprecated. For loading neuromorphic datasets, we recommend using the Tonic project: https://github.com/neuromorphs/tonic\n",
      "  from snntorch.spikevision import spikedata\n"
     ]
    },
    {
     "data": {
      "image/png": "[encoded data removed]",
      "text/plain": [
       "<Figure size 800x600 with 2 Axes>"
      ]
     },
     "metadata": {},
     "output_type": "display_data"
    }
   ],
   "source": [
    "import sys\n",
    "import os\n",
    "import argparse\n",
    "import torch\n",
    "import torch.nn as nn \n",
    "import torch.nn.functional as F\n",
    "import torch.backends.cudnn as cudnn\n",
    "import torch.optim as optim\n",
    "import torch.optim.lr_scheduler as lr_scheduler\n",
    "from torch.utils.data import Dataset, DataLoader\n",
    "\n",
    "import torchvision\n",
    "import torchvision.datasets\n",
    "import torchvision.transforms as transforms\n",
    "\n",
    "import numpy as np\n",
    "import matplotlib.pyplot as plt\n",
    "\n",
    "import time\n",
    "\n",
    "from snntorch import spikegen\n",
    "import matplotlib.pyplot as plt\n",
    "import snntorch.spikeplot as splt\n",
    "from IPython.display import HTML\n",
    "\n",
    "from tqdm import tqdm\n",
    "\n",
    "from apex.parallel import DistributedDataParallel as DDP\n",
    "\n",
    "import random\n",
    "import datetime\n",
    "\n",
    "import json\n",
    "\n",
    "from sklearn.utils import shuffle\n",
    "\n",
    "''' 레퍼런스\n",
    "https://spikingjelly.readthedocs.io/zh-cn/0.0.0.0.4/spikingjelly.datasets.html#module-spikingjelly.datasets\n",
    "https://github.com/GorkaAbad/Sneaky-Spikes/blob/main/datasets.py\n",
    "https://github.com/GorkaAbad/Sneaky-Spikes/blob/main/how_to.md\n",
    "https://github.com/nmi-lab/torchneuromorphic\n",
    "https://snntorch.readthedocs.io/en/latest/snntorch.spikevision.spikedata.html#shd\n",
    "'''\n",
    "\n",
    "import snntorch\n",
    "from snntorch.spikevision import spikedata\n",
    "\n",
    "import modules.spikingjelly;\n",
    "from modules.spikingjelly.datasets.dvs128_gesture import DVS128Gesture\n",
    "from modules.spikingjelly.datasets.cifar10_dvs import CIFAR10DVS\n",
    "from modules.spikingjelly.datasets.n_mnist import NMNIST\n",
    "# from modules.spikingjelly.datasets.es_imagenet import ESImageNet\n",
    "from modules.spikingjelly.datasets import split_to_train_test_set\n",
    "from modules.spikingjelly.datasets.n_caltech101 import NCaltech101\n",
    "from modules.spikingjelly.datasets import pad_sequence_collate, padded_sequence_mask\n",
    "\n",
    "import modules.torchneuromorphic as torchneuromorphic\n",
    "\n",
    "import wandb\n",
    "\n",
    "from torchviz import make_dot\n",
    "import graphviz\n",
    "from turtle import shape\n"
   ]
  },
  {
   "cell_type": "code",
   "execution_count": 3,
   "metadata": {},
   "outputs": [],
   "source": [
    "import apex"
   ]
  },
  {
   "cell_type": "code",
   "execution_count": 4,
   "metadata": {},
   "outputs": [],
   "source": [
    "# my module import\n",
    "from modules import *\n",
    "\n",
    "# modules 폴더에 새모듈.py 만들면\n",
    "# modules/__init__py 파일에 form .새모듈 import * 하셈\n",
    "# 그리고 새모듈.py에서 from modules.새모듈 import * 하셈\n"
   ]
  },
  {
   "cell_type": "code",
   "execution_count": 5,
   "metadata": {},
   "outputs": [],
   "source": [
    "\n",
    "\n",
    "def my_snn_system(devices = \"0,1,2,3\",\n",
    "                    single_step = False, # True # False\n",
    "                    unique_name = 'main',\n",
    "                    my_seed = 42,\n",
    "                    TIME = 10,\n",
    "                    BATCH = 256,\n",
    "                    IMAGE_SIZE = 32,\n",
    "                    which_data = 'CIFAR10',\n",
    "                    # CLASS_NUM = 10,\n",
    "                    data_path = '/data2',\n",
    "                    rate_coding = True,\n",
    "    \n",
    "                    lif_layer_v_init = 0.0,\n",
    "                    lif_layer_v_decay = 0.6,\n",
    "                    lif_layer_v_threshold = 1.2,\n",
    "                    lif_layer_v_reset = 0.0,\n",
    "                    lif_layer_sg_width = 1,\n",
    "\n",
    "                    # synapse_conv_in_channels = IMAGE_PIXEL_CHANNEL,\n",
    "                    synapse_conv_kernel_size = 3,\n",
    "                    synapse_conv_stride = 1,\n",
    "                    synapse_conv_padding = 1,\n",
    "                    synapse_conv_trace_const1 = 1,\n",
    "                    synapse_conv_trace_const2 = 0.6,\n",
    "\n",
    "                    # synapse_fc_out_features = CLASS_NUM,\n",
    "                    synapse_fc_trace_const1 = 1,\n",
    "                    synapse_fc_trace_const2 = 0.6,\n",
    "\n",
    "                    pre_trained = False,\n",
    "                    convTrue_fcFalse = True,\n",
    "                    cfg = [64, 64],\n",
    "                    net_print = False, # True # False\n",
    "                    weight_count_print = False, # True # False\n",
    "                    pre_trained_path = \"net_save/save_now_net.pth\",\n",
    "                    learning_rate = 0.0001,\n",
    "                    epoch_num = 200,\n",
    "                    verbose_interval = 100, #숫자 크게 하면 꺼짐\n",
    "                    validation_interval = 10, #숫자 크게 하면 꺼짐\n",
    "                    tdBN_on = False,\n",
    "                    BN_on = False,\n",
    "\n",
    "                    surrogate = 'sigmoid',\n",
    "\n",
    "                    gradient_verbose = False,\n",
    "\n",
    "                    BPTT_on = False,\n",
    "\n",
    "                    optimizer_what = 'SGD', # 'SGD' 'Adam', 'RMSprop'\n",
    "                    scheduler_name = 'no',\n",
    "                    \n",
    "                    ddp_on = True,\n",
    "\n",
    "                    nda_net = False,\n",
    "                    \n",
    "                    domain_il_epoch = 0, # over 0, then domain il mode on\n",
    "\n",
    "                    dvs_clipping = 1, \n",
    "                    dvs_duration = 25_000,\n",
    "\n",
    "                    OTTT_sWS_on = True, # True # False\n",
    "\n",
    "                    DFA_on = False, # True # False\n",
    "                    OTTT_input_trace_on = False, # True # False\n",
    "                    \n",
    "                    e_transport_swap = 5, # 1 이상이면 해당 숫자 에포크만큼 val_acc_best가 변화가 없으면 e_transport scheme (BP vs DFA) swap\n",
    "                    e_transport_swap_tr = 0, # 1 이상이면 해당 숫자 에포크만큼 val_acc_best가 변화가 없으면 e_transport scheme (BP vs DFA) swap\n",
    "                    e_transport_swap_coin = 0, # swap할 수 있는 coin 개수\n",
    "\n",
    "                    drop_rate = 0.5, \n",
    "\n",
    "                    exclude_class = True, # True # False # gesture에서 10번째 클래스 제외\n",
    "\n",
    "                    merge_polarities = True, # True # False # tonic dvs dataset 에서 polarities 합치기\n",
    "                    denoise_on = True, \n",
    "                    dvs_relative_timestep = True, \n",
    "                    \n",
    "                    I_wanna_sweep_at_this_epoch = -1,\n",
    "                    dvs_duration_domain = [(25_000,1,False)],\n",
    "\n",
    "                    extra_train_dataset = 0,\n",
    "\n",
    "                    num_workers = 2,\n",
    "                    chaching_on = False,\n",
    "                    pin_memory = True, # True # False\n",
    "                    \n",
    "                    UDA_on = False, # True # False\n",
    "                    UDA_data = (25_000,1,False), # (duration, clipping, denoise_on)\n",
    "                    src_trg_ratio = 1,\n",
    "                    adapter_loss_weight = 1.0, # 1.0  # adapter loss의 힘.\n",
    "                    alpha_uda = 1.0,\n",
    "\n",
    "                    temporal_filter = 1, \n",
    "                    initial_pooling = 1,\n",
    "                    ):\n",
    "    ## hyperparameter check #############################################################\n",
    "    if OTTT_sWS_on == True:\n",
    "        assert BPTT_on == False and tdBN_on == False and BN_on == False\n",
    "        if convTrue_fcFalse == False:\n",
    "            assert single_step == True\n",
    "    if single_step == True:\n",
    "        assert BPTT_on == False and tdBN_on == False \n",
    "    if tdBN_on == True:\n",
    "        assert BPTT_on == True\n",
    "    if pre_trained == True:\n",
    "        print('\\n\\n')\n",
    "        print(\"Caution! pre_trained is True\\n\\n\"*3)    \n",
    "    if DFA_on == True:\n",
    "        assert single_step == True and BPTT_on == False and any(isinstance(item, list) for item in cfg) == False\n",
    "    if OTTT_input_trace_on == True:\n",
    "        assert BPTT_on == False and single_step == True\n",
    "    if UDA_on == True:\n",
    "        assert single_step == True and BPTT_on == False and I_wanna_sweep_at_this_epoch == -1 and (e_transport_swap_coin == 0 or (e_transport_swap == 0 and e_transport_swap_tr == 0)) and isinstance(cfg, tuple) == True and extra_train_dataset == 0\n",
    "    if temporal_filter > 1:\n",
    "        assert convTrue_fcFalse == False\n",
    "    if initial_pooling > 1:\n",
    "        pass\n",
    "    if extra_train_dataset > 0:\n",
    "        assert which_data != 'NMNIST_TONIC'\n",
    "    ######################################################################################\n",
    "\n",
    "\n",
    "    ## 함수 내 모든 로컬 변수 저장 ########################################################\n",
    "    hyperparameters = locals()\n",
    "    hyperparameters['current epoch'] = 0\n",
    "    ######################################################################################\n",
    "    \n",
    "    args_gpu = None\n",
    "    ## DDP settting ######################################################################\n",
    "    if (ddp_on == True):\n",
    "        parser = argparse.ArgumentParser(description='my_snn CIFAR10 Training')\n",
    "\n",
    "        # # local_rank는 command line에서 따로 줄 필요는 없지만, 선언은 필요\n",
    "        parser.add_argument(\"--local_rank\", default=0, type=int)\n",
    "\n",
    "        args = parser.parse_args() # 이거 적어줘야됨. parser argument선언하고\n",
    "\n",
    "        args.gpu = args.local_rank\n",
    "        args_gpu = args.gpu\n",
    "        torch.cuda.set_device(args.gpu)\n",
    "        torch.distributed.init_process_group(backend=\"nccl\", init_method=\"env://\")\n",
    "        args.world_size = torch.distributed.get_world_size()\n",
    "    #######################################################################################\n",
    "\n",
    "\n",
    "    ## wandb 세팅 ###################################################################\n",
    "    current_time = datetime.datetime.now().strftime(\"%Y%m%d_%H%M%S\")\n",
    "    if (ddp_on == True and torch.distributed.get_rank() != 0):\n",
    "        wandb.finish()\n",
    "    if (ddp_on == False or torch.distributed.get_rank() == 0):\n",
    "        wandb.config.update(hyperparameters)\n",
    "        wandb.run.name = f'lr_{learning_rate}_{unique_name}_{which_data}_tstep{TIME}'\n",
    "        wandb.define_metric(\"summary_val_acc\", summary=\"max\")\n",
    "        wandb.run.log_code(\".\", \n",
    "                            include_fn=lambda path: path.endswith(\".py\") or path.endswith(\".ipynb\"),\n",
    "                            exclude_fn=lambda path: 'logs/' in path or 'net_save/' in path or 'result_save/' in path or 'trying/' in path or 'wandb/' in path or 'private/' in path or '.git/' in path or 'tonic' in path or 'torchneuromorphic' in path or 'spikingjelly' in path \n",
    "                            )\n",
    "    ###################################################################################\n",
    "\n",
    "\n",
    "\n",
    "    ## gpu setting ##################################################################################################################\n",
    "    os.environ[\"CUDA_DEVICE_ORDER\"]=\"PCI_BUS_ID\" \n",
    "    os.environ[\"CUDA_VISIBLE_DEVICES\"]= devices\n",
    "    ###################################################################################################################################\n",
    "\n",
    "\n",
    "    ## seed setting ##################################################################################################################\n",
    "    seed_assign(my_seed)\n",
    "    ###################################################################################################################################\n",
    "    \n",
    "\n",
    "    ## data_loader 가져오기 ##################################################################################################################\n",
    "    # data loader, pixel channel, class num\n",
    "    train_data_split_indices = []\n",
    "    train_loader, test_loader, synapse_conv_in_channels, CLASS_NUM, train_data_count = data_loader(\n",
    "            which_data,\n",
    "            data_path, \n",
    "            rate_coding, \n",
    "            BATCH, \n",
    "            IMAGE_SIZE,\n",
    "            ddp_on,\n",
    "            TIME*temporal_filter, # temporal_filter가 곱해짐.\n",
    "            dvs_clipping,\n",
    "            dvs_duration,\n",
    "            exclude_class,\n",
    "            merge_polarities,\n",
    "            denoise_on,\n",
    "            my_seed,\n",
    "            extra_train_dataset,\n",
    "            num_workers,\n",
    "            chaching_on,\n",
    "            pin_memory,\n",
    "            train_data_split_indices,) \n",
    "    test_loader_domain_set = []\n",
    "    test_loader_domain_set.append(test_loader)  \n",
    "    synapse_fc_out_features = CLASS_NUM\n",
    "    if UDA_on == True:\n",
    "        train_loader = None\n",
    "\n",
    "        # pin_memory_breaker = torch.arange(0, 1) #이거 주석 하면 느리고, 이거 주석 안 하면 빠름. NN결과는 같음. 뭐가 문제야..? 아마 torch를 건드리면서 pin_memory에 문제를 일으키는 거 같기는 하다. 이걸 주석 해제하거나, pin_memory를 False로 하는 거나 속도와 cpu 점유가 비슷하다.\n",
    "        indices= list(range(train_data_count))\n",
    "        random.shuffle(indices)\n",
    "        train_data_split_indices_source = indices[:math.ceil(train_data_count * (src_trg_ratio / (src_trg_ratio + 1)))]\n",
    "        train_data_split_indices_target = indices[math.ceil(train_data_count * (src_trg_ratio / (src_trg_ratio + 1))):]\n",
    "        train_loader, _, synapse_conv_in_channels, CLASS_NUM, train_data_count_src = data_loader(\n",
    "                which_data,\n",
    "                data_path, \n",
    "                rate_coding, \n",
    "                BATCH, \n",
    "                IMAGE_SIZE,\n",
    "                ddp_on,\n",
    "                TIME*temporal_filter, # temporal_filter가 곱해짐.\n",
    "                dvs_clipping,\n",
    "                dvs_duration,\n",
    "                exclude_class,\n",
    "                merge_polarities,\n",
    "                denoise_on,\n",
    "                my_seed,\n",
    "                extra_train_dataset,\n",
    "                num_workers,\n",
    "                chaching_on,\n",
    "                pin_memory,\n",
    "                train_data_split_indices_source,\n",
    "                )\n",
    "        \n",
    "        train_loader_target, _, synapse_conv_in_channels, CLASS_NUM, train_data_count_trg = data_loader(\n",
    "                which_data,\n",
    "                data_path, \n",
    "                rate_coding, \n",
    "                BATCH, \n",
    "                IMAGE_SIZE,\n",
    "                ddp_on,\n",
    "                TIME*temporal_filter,\n",
    "                UDA_data[1],  # dvs_clipping,\n",
    "                UDA_data[0],   # dvs_duration,\n",
    "                exclude_class,\n",
    "                merge_polarities,\n",
    "                UDA_data[2], # denoise_on,\n",
    "                my_seed,\n",
    "                extra_train_dataset,\n",
    "                num_workers,\n",
    "                chaching_on,\n",
    "                pin_memory,\n",
    "                train_data_split_indices_target,\n",
    "                )\n",
    "        print('\\n','src img count',train_data_count_src,'trg img count',train_data_count_trg,'\\n')\n",
    "    ###########################################################################################################################################\n",
    "    \n",
    "    ## 다른 dvs duration domain을 validation set으로 불러오기 ##############################################################\n",
    "    dvs_duration_domain_temp = []\n",
    "    train_data_split_indices = []\n",
    "    if len(dvs_duration_domain) > 0:\n",
    "        for domain in dvs_duration_domain:\n",
    "            target_domain_timestep = (dvs_duration*TIME)//domain[0] if dvs_relative_timestep == True else TIME\n",
    "            dvs_duration_domain_temp.append(domain + (target_domain_timestep,))\n",
    "            train_loader_domain, test_loader_domain, synapse_conv_in_channels_domain, CLASS_NUM_domain, train_data_count = data_loader(\n",
    "                    which_data,\n",
    "                    data_path, \n",
    "                    rate_coding, \n",
    "                    BATCH, \n",
    "                    IMAGE_SIZE,\n",
    "                    ddp_on,\n",
    "                    target_domain_timestep*temporal_filter,\n",
    "                    domain[1], # dvs_clipping\n",
    "                    domain[0], # dvs_duration\n",
    "                    exclude_class,\n",
    "                    merge_polarities,\n",
    "                    domain[2], # denoise_on \n",
    "                    my_seed,\n",
    "                    extra_train_dataset,\n",
    "                    num_workers,\n",
    "                    chaching_on,\n",
    "                    pin_memory,\n",
    "                    train_data_split_indices,)\n",
    "            test_loader_domain_set.append(test_loader_domain)\n",
    "        dvs_duration_domain = dvs_duration_domain_temp\n",
    "    ######################################################################################################################\n",
    "    \n",
    "    ## parameter number calculator (안 중요함) ##################################################################################################################\n",
    "    params_num = 0\n",
    "    img_size = IMAGE_SIZE//initial_pooling\n",
    "    bias_param = 1 # 1 or 0\n",
    "    classifier_making = False\n",
    "    if (UDA_on == True):\n",
    "        print(\"In UDA mode, No parameter number calculation yet.\")\n",
    "        pass\n",
    "    else: \n",
    "        if (convTrue_fcFalse == True):\n",
    "            past_kernel = synapse_conv_in_channels\n",
    "            for kernel in cfg:\n",
    "                if (classifier_making == False):\n",
    "                    if (type(kernel) == list):\n",
    "                        for residual_kernel in kernel:\n",
    "                            if (residual_kernel >= 10000 and residual_kernel < 20000): # separable\n",
    "                                residual_kernel -= 10000\n",
    "                                params_num += (synapse_conv_kernel_size**2 + bias_param) * past_kernel\n",
    "                                params_num += (1**2 * past_kernel + bias_param) * residual_kernel\n",
    "                                past_kernel = residual_kernel  \n",
    "                            elif (residual_kernel >= 20000 and residual_kernel < 30000): # depthwise\n",
    "                                residual_kernel -= 20000\n",
    "                                # 'past_kernel' should be same with 'kernel'\n",
    "                                params_num += (synapse_conv_kernel_size**2 + bias_param) * past_kernel\n",
    "                                past_kernel = residual_kernel  \n",
    "                            else:\n",
    "                                params_num += residual_kernel * ((synapse_conv_kernel_size**2) * past_kernel + bias_param)\n",
    "                                past_kernel = residual_kernel\n",
    "                    elif (kernel == 'P' or kernel == 'M'):\n",
    "                        img_size = img_size // 2\n",
    "                    elif (kernel == 'D'):\n",
    "                        img_size = 1\n",
    "                    elif (kernel == 'L'):\n",
    "                        classifier_making = True\n",
    "                        past_kernel = past_kernel * (img_size**2)\n",
    "                    else:\n",
    "                        if (kernel >= 10000 and kernel < 20000): # separable\n",
    "                            kernel -= 10000\n",
    "                            params_num += (synapse_conv_kernel_size**2 + bias_param) * past_kernel\n",
    "                            params_num += (1**2 * past_kernel + bias_param) * kernel\n",
    "                            past_kernel = kernel  \n",
    "                        elif (kernel >= 20000 and kernel < 30000): # depthwise\n",
    "                            kernel -= 20000\n",
    "                            # 'past_kernel' should be same with 'kernel'\n",
    "                            params_num += (synapse_conv_kernel_size**2 + bias_param) * past_kernel\n",
    "                            past_kernel = kernel  \n",
    "                        else:\n",
    "                            params_num += kernel * (synapse_conv_kernel_size**2 * past_kernel + bias_param)\n",
    "                            past_kernel = kernel    \n",
    "                else: # classifier making\n",
    "                    params_num += (past_kernel + bias_param) * kernel\n",
    "                    past_kernel = kernel\n",
    "            \n",
    "            \n",
    "            if classifier_making == False:\n",
    "                past_kernel = past_kernel*img_size*img_size\n",
    "\n",
    "            params_num += (past_kernel + bias_param) * synapse_fc_out_features\n",
    "        else:\n",
    "            in_channel_compute_temp = synapse_conv_in_channels * temporal_filter\n",
    "            past_in_channel = in_channel_compute_temp*img_size*img_size\n",
    "            for in_channel in cfg:\n",
    "                if (type(in_channel) == list):\n",
    "                    for residual_in_channel in in_channel:\n",
    "                        params_num += (past_in_channel + bias_param) * residual_in_channel\n",
    "                        past_in_channel = residual_in_channel\n",
    "                elif (in_channel == 'P' or in_channel == 'M'):\n",
    "                    img_size = img_size // 2\n",
    "                    past_in_channel = in_channel_compute_temp*img_size*img_size\n",
    "                else:\n",
    "                    params_num += (past_in_channel + bias_param) * in_channel\n",
    "                    past_in_channel = in_channel\n",
    "            params_num += (past_in_channel + bias_param) * synapse_fc_out_features\n",
    "    ###########################################################################################################################################\n",
    "\n",
    "\n",
    "    device = torch.device(\"cuda\" if torch.cuda.is_available() else \"cpu\")\n",
    "    print(f\"\\ndevice ==> {device}\\n\")\n",
    "    if device == \"cpu\":\n",
    "        print(\"=\"*50,\"\\n[WARNING]\\n[WARNING]\\n[WARNING]\\n: cpu mode\\n\\n\",\"=\"*50)\n",
    "\n",
    "    ### network setting #######################################################################################################################\n",
    "    if (convTrue_fcFalse == False):\n",
    "        if (single_step == False):\n",
    "            net = MY_SNN_FC(cfg, synapse_conv_in_channels*temporal_filter, IMAGE_SIZE//initial_pooling, synapse_fc_out_features,\n",
    "                        synapse_fc_trace_const1, synapse_fc_trace_const2, \n",
    "                        lif_layer_v_init, lif_layer_v_decay, \n",
    "                        lif_layer_v_threshold, lif_layer_v_reset,\n",
    "                        lif_layer_sg_width,\n",
    "                        tdBN_on,\n",
    "                        BN_on, TIME,\n",
    "                        surrogate,\n",
    "                        BPTT_on,\n",
    "                        DFA_on,\n",
    "                        drop_rate,\n",
    "                        UDA_on,\n",
    "                        alpha_uda).to(device)\n",
    "        else:\n",
    "            net = MY_SNN_FC_sstep(cfg, synapse_conv_in_channels*temporal_filter, IMAGE_SIZE//initial_pooling, synapse_fc_out_features,\n",
    "                        synapse_fc_trace_const1, synapse_fc_trace_const2, \n",
    "                        lif_layer_v_init, lif_layer_v_decay, \n",
    "                        lif_layer_v_threshold, lif_layer_v_reset,\n",
    "                        lif_layer_sg_width,\n",
    "                        tdBN_on,\n",
    "                        BN_on, TIME,\n",
    "                        surrogate,\n",
    "                        BPTT_on,\n",
    "                        DFA_on,\n",
    "                        OTTT_sWS_on,\n",
    "                        drop_rate,\n",
    "                        UDA_on,\n",
    "                        alpha_uda).to(device)\n",
    "    else:\n",
    "        if (single_step == False):\n",
    "            net = MY_SNN_CONV(cfg, synapse_conv_in_channels, IMAGE_SIZE//initial_pooling,\n",
    "                        synapse_conv_kernel_size, synapse_conv_stride, \n",
    "                        synapse_conv_padding, synapse_conv_trace_const1, \n",
    "                        synapse_conv_trace_const2, \n",
    "                        lif_layer_v_init, lif_layer_v_decay, \n",
    "                        lif_layer_v_threshold, lif_layer_v_reset,\n",
    "                        lif_layer_sg_width,\n",
    "                        synapse_fc_out_features, synapse_fc_trace_const1, synapse_fc_trace_const2,\n",
    "                        tdBN_on,\n",
    "                        BN_on, TIME,\n",
    "                        surrogate,\n",
    "                        BPTT_on,\n",
    "                        OTTT_sWS_on,\n",
    "                        DFA_on,\n",
    "                        drop_rate,\n",
    "                        UDA_on,\n",
    "                        alpha_uda).to(device)\n",
    "        else:\n",
    "            net = MY_SNN_CONV_sstep(cfg, synapse_conv_in_channels, IMAGE_SIZE//initial_pooling,\n",
    "                        synapse_conv_kernel_size, synapse_conv_stride, \n",
    "                        synapse_conv_padding, synapse_conv_trace_const1, \n",
    "                        synapse_conv_trace_const2, \n",
    "                        lif_layer_v_init, lif_layer_v_decay, \n",
    "                        lif_layer_v_threshold, lif_layer_v_reset,\n",
    "                        lif_layer_sg_width,\n",
    "                        synapse_fc_out_features, synapse_fc_trace_const1, synapse_fc_trace_const2,\n",
    "                        tdBN_on,\n",
    "                        BN_on, TIME,\n",
    "                        surrogate,\n",
    "                        BPTT_on,\n",
    "                        OTTT_sWS_on,\n",
    "                        DFA_on,\n",
    "                        drop_rate,\n",
    "                        UDA_on,\n",
    "                        alpha_uda).to(device)\n",
    "    if (nda_net == True):\n",
    "        net = VGG(cfg = cfg, num_classes=10, batch_norm = tdBN_on, in_c = synapse_conv_in_channels, \n",
    "                    lif_layer_v_threshold=lif_layer_v_threshold, lif_layer_v_decay=lif_layer_v_decay, lif_layer_sg_width=lif_layer_sg_width)\n",
    "        net.T = TIME\n",
    "\n",
    "    if ddp_on == False:\n",
    "        net = torch.nn.DataParallel(net) \n",
    "    \n",
    "    if pre_trained == True:\n",
    "        net.load_state_dict(torch.load(pre_trained_path))\n",
    "    \n",
    "    if ddp_on == True:\n",
    "        device = args.gpu\n",
    "        net = net.to(args.gpu)\n",
    "        net = DDP(net, delay_allreduce=True)\n",
    "\n",
    "    net = net.to(device)\n",
    "    if (net_print == True):\n",
    "        if ddp_on == False or torch.distributed.get_rank() == 0:\n",
    "            print(net)    \n",
    "    ####################################################################################################################################\n",
    "    \n",
    "\n",
    "    ## wandb logging ###########################################\n",
    "    if ddp_on == False or torch.distributed.get_rank() == 0:\n",
    "        wandb.watch(net, log=\"all\", log_freq = 10) #gradient, parameter logging해줌\n",
    "    ############################################################\n",
    "\n",
    "    ## param num and memory estimation except BN with MY own calculation some lines above ##########################################\n",
    "    if ddp_on == False or torch.distributed.get_rank() == 0:\n",
    "        real_param_num = sum(p.numel() for p in net.parameters() if p.requires_grad)\n",
    "        if (weight_count_print == True):\n",
    "            for name, param in net.named_parameters():\n",
    "                if param.requires_grad:\n",
    "                    print(f'Layer: {name} | Number of parameters: {param.numel()}')\n",
    "        # Batch norm 있으면 아래 두 개 서로 다를 수 있음.\n",
    "        # assert real_param_num == params_num, f'parameter number is not same. real_param_num: {real_param_num}, params_num: {params_num}'    \n",
    "        print('='*50)\n",
    "        print(f\"My Num of PARAMS: {params_num:,}, system's param_num : {real_param_num:,}\")\n",
    "        memory = params_num / 8 / 1024 / 1024 # MB\n",
    "        precision = 32\n",
    "        memory = memory * precision \n",
    "        print(f\"Memory: {memory:.2f}MiB at {precision}-bit\")\n",
    "        print('='*50)\n",
    "    ##############################################################################################################################\n",
    "\n",
    "\n",
    "\n",
    "    ## criterion ########################################## # loss 구해주는 친구\n",
    "    criterion = nn.CrossEntropyLoss().to(device)\n",
    "    if (OTTT_sWS_on == True):\n",
    "        # criterion = nn.CrossEntropyLoss().to(device)\n",
    "        criterion = lambda y_t, target_t: ((1 - 0.05) * F.cross_entropy(y_t, target_t) + 0.05 * F.mse_loss(y_t, F.one_hot(target_t, CLASS_NUM).float())) / TIME \n",
    "        if which_data == 'DVS_GESTURE':\n",
    "            criterion = lambda y_t, target_t: ((1 - 0.001) * F.cross_entropy(y_t, target_t) + 0.001 * F.mse_loss(y_t, F.one_hot(target_t, CLASS_NUM).float())) / TIME \n",
    "    ####################################################\n",
    "    \n",
    "\n",
    "\n",
    "\n",
    "    ## optimizer, scheduler ########################################################################\n",
    "    if(optimizer_what == 'SGD'):\n",
    "        # optimizer = optim.SGD(net.parameters(), lr=learning_rate, momentum=0.9)\n",
    "        optimizer = optim.SGD(net.parameters(), lr=learning_rate, momentum=0.9, weight_decay=0)\n",
    "    elif(optimizer_what == 'Adam'):\n",
    "        optimizer = torch.optim.Adam(net.parameters(), lr=learning_rate)\n",
    "        # optimizer = torch.optim.Adam(net.parameters(), lr=0.00001)\n",
    "        # optimizer = torch.optim.Adam(net.parameters(), lr=learning_rate/256 * BATCH, weight_decay=1e-4)\n",
    "        # optimizer = optim.Adam(net.parameters(), lr=learning_rate, weight_decay=0, betas=(0.9, 0.999))\n",
    "    elif(optimizer_what == 'RMSprop'):\n",
    "        pass\n",
    "\n",
    "\n",
    "    if (scheduler_name == 'StepLR'):\n",
    "        scheduler = lr_scheduler.StepLR(optimizer, step_size=10, gamma=0.1)\n",
    "    elif (scheduler_name == 'ExponentialLR'):\n",
    "        scheduler = lr_scheduler.ExponentialLR(optimizer, gamma=0.95)\n",
    "    elif (scheduler_name == 'ReduceLROnPlateau'):\n",
    "        scheduler = lr_scheduler.ReduceLROnPlateau(optimizer, mode='min', factor=0.1, patience=10)\n",
    "    elif (scheduler_name == 'CosineAnnealingLR'):\n",
    "        # scheduler = lr_scheduler.CosineAnnealingLR(optimizer, eta_min=0, T_max=50)\n",
    "        scheduler = torch.optim.lr_scheduler.CosineAnnealingLR(optimizer, eta_min=0, T_max=epoch_num)\n",
    "    elif (scheduler_name == 'OneCycleLR'):\n",
    "        scheduler = lr_scheduler.OneCycleLR(optimizer, max_lr=0.1, steps_per_epoch=len(train_loader), epochs=epoch_num)\n",
    "    else:\n",
    "        pass # 'no' scheduler\n",
    "    ## optimizer, scheduler ########################################################################\n",
    "\n",
    "\n",
    "    tr_acc = 0\n",
    "    tr_correct = 0\n",
    "    tr_total = 0\n",
    "    tr_acc_best = 0\n",
    "    tr_epoch_loss_temp = 0\n",
    "    tr_epoch_loss = 0\n",
    "    val_acc_best = 0\n",
    "    val_acc_now = 0\n",
    "    val_loss = 0\n",
    "    elapsed_time_val = 0\n",
    "    no_val_best_growth_count = 0\n",
    "    no_tr_best_growth_count = 0\n",
    "    iter_acc_array = np.array([])\n",
    "    tr_acc_array = np.array([])\n",
    "    val_acc_now_array = np.array([])\n",
    "    DFA_current = DFA_on\n",
    "    DFA_toggle = False\n",
    "    DFA_flag = 1.0 if DFA_current == True else 0.0\n",
    "    DFA_BP_toggle_trial = 0\n",
    "    iter_of_val = False\n",
    "    tr_acc_target = 0\n",
    "    tr_correct_target = 0\n",
    "    tr_total_target = 0\n",
    "    tr_acc_best_target = 0\n",
    "    tr_epoch_loss_temp_target = 0\n",
    "    tr_epoch_loss_target = 0\n",
    "    tr_epoch_loss_temp_domain = 0\n",
    "    tr_epoch_loss_domain = 0\n",
    "    tr_acc_domain = 0\n",
    "    tr_correct_domain = 0\n",
    "    tr_total_domain = 0\n",
    "    val_acc_now_set_past = [0 for _ in range(len(dvs_duration_domain)+1)]\n",
    "    val_acc_now_set = [0 for _ in range(len(dvs_duration_domain)+1)]\n",
    "    val_acc_now_set_best = [0 for _ in range(len(dvs_duration_domain)+1)]\n",
    "    #======== EPOCH START ==========================================================================================\n",
    "    for epoch in range(epoch_num):\n",
    "        if (I_wanna_sweep_at_this_epoch == epoch):\n",
    "            net = BP_DFA_SWAP(net, convTrue_fcFalse, single_step, ddp_on, args_gpu)\n",
    "            no_val_best_growth_count = 0\n",
    "            DFA_current = not DFA_current\n",
    "            DFA_toggle = True\n",
    "            DFA_BP_toggle_trial = DFA_BP_toggle_trial + 1\n",
    "        else:\n",
    "            if (e_transport_swap > 0 or e_transport_swap_tr > 0):\n",
    "                assert not (e_transport_swap > 0 and e_transport_swap_tr > 0)\n",
    "                if e_transport_swap > 0 and no_val_best_growth_count == e_transport_swap :\n",
    "                    if DFA_BP_toggle_trial < e_transport_swap_coin:\n",
    "                        net = BP_DFA_SWAP(net, convTrue_fcFalse, single_step, ddp_on, args_gpu)\n",
    "                        no_val_best_growth_count = 0\n",
    "                        DFA_current = not DFA_current\n",
    "                        DFA_toggle = True\n",
    "                        DFA_BP_toggle_trial = DFA_BP_toggle_trial + 1\n",
    "                if e_transport_swap_tr > 0 and no_tr_best_growth_count == e_transport_swap_tr:\n",
    "                    if DFA_BP_toggle_trial < e_transport_swap_coin:\n",
    "                        net = BP_DFA_SWAP(net, convTrue_fcFalse, single_step, ddp_on, args_gpu)\n",
    "                        no_tr_best_growth_count = 0\n",
    "                        DFA_current = not DFA_current\n",
    "                        DFA_toggle = True\n",
    "                        DFA_BP_toggle_trial = DFA_BP_toggle_trial + 1\n",
    "\n",
    "        if ddp_on == False or torch.distributed.get_rank() == 0:\n",
    "            # print('EPOCH', epoch)\n",
    "            pass\n",
    "        epoch_start_time = time.time()\n",
    "\n",
    "        # if (domain_il_epoch>0 and which_data == 'PMNIST'):\n",
    "        #     k = epoch // domain_il_epoch\n",
    "        #     xtrain=data[k]['train']['x']\n",
    "        #     ytrain=data[k]['train']['y']\n",
    "        #     xtest =data[k]['test']['x']\n",
    "        #     ytest =data[k]['test']['y']\n",
    "\n",
    "        ####### iterator : input_loading & tqdm을 통한 progress_bar 생성###################\n",
    "        iterator = enumerate(train_loader, 0)\n",
    "        if (UDA_on == True):\n",
    "            iterator_target = enumerate(train_loader_target, 0)\n",
    "\n",
    "        if ddp_on == False or torch.distributed.get_rank() == 0:  \n",
    "            iterator = tqdm(iterator, total=len(train_loader), desc='train', dynamic_ncols=True, position=0, leave=True)\n",
    "        ##################################################################################   \n",
    "        \n",
    "        #### validation_interval이 batch size보다 작을 시 validation_interval을 batch size로 맞춰줌#############\n",
    "        validation_interval2 = validation_interval\n",
    "        if (validation_interval > len(train_loader)):\n",
    "            validation_interval2 = len(train_loader)\n",
    "        ##################################################################################################\n",
    "\n",
    "\n",
    "        ###### ITERATION START ##########################################################################################################\n",
    "        i = 0\n",
    "        target_done = False\n",
    "        for i, data in iterator:\n",
    "            UDA_FSM = 0\n",
    "            while (UDA_FSM < 2): # 0: source, 1: target, 2: done\n",
    "                if UDA_on == True:\n",
    "                    if UDA_FSM == 0:\n",
    "                        net.UDA_adapter_on = True # net.UDA_adapter_on 와 net.UDA_classifier_on은 그냥 flag임. 이번에 loss값을 backward할 건지 말 건지 ㅇㅇ\n",
    "                        net.UDA_classifier_on = True\n",
    "                        if target_done == True:\n",
    "                            UDA_FSM = 2 # 2--> target 안함\n",
    "                        elif (i)%(len(train_loader)//len(train_loader_target)) == 0: # 일정 주기로 src/trg 도메인 어댑트\n",
    "                        # elif torch.rand(1).item() < (1/src_trg_ratio):\n",
    "                            net.UDA_adapter_on = True\n",
    "                            UDA_FSM = 1 # 1--> target 함 !!! target 할 때만 source도 domain adapt할거면 net.UDA_adapter_on을 False로 잘 조정\n",
    "                        elif i == len(train_loader) - 1 and target_done == False:\n",
    "                            net.UDA_adapter_on = True\n",
    "                            UDA_FSM = 1\n",
    "                        else: \n",
    "                            UDA_FSM = 2\n",
    "                    elif UDA_FSM == 1:\n",
    "                        net.UDA_adapter_on = True\n",
    "                        net.UDA_classifier_on = False\n",
    "                        tgt_idx, data = next(iterator_target)\n",
    "                        target_done = True if tgt_idx == len(train_loader_target) - 1 else False\n",
    "                        if i == len(train_loader) - 1 and target_done == False:\n",
    "                            UDA_FSM = 1\n",
    "                        else: \n",
    "                            UDA_FSM = 2\n",
    "                    else:\n",
    "                        assert False\n",
    "                else:\n",
    "                    UDA_FSM = 2\n",
    "\n",
    "                iter_one_train_time_start = time.time()\n",
    "\n",
    "                net.train() # train 모드로 바꿔줘야함\n",
    "\n",
    "                ### data loading & semi-pre-processing ################################################################################\n",
    "                if len(data) == 2:\n",
    "                    inputs, labels = data\n",
    "                    # 처리 로직 작성\n",
    "                elif len(data) == 3:\n",
    "                    inputs, labels, x_len = data\n",
    "                    # print('x_len',x_len)\n",
    "                    # mask = padded_sequence_mask(x_len)\n",
    "                    # max_time_step = x_len.max()\n",
    "                    # min_time_step = x_len.min()\n",
    "                else:\n",
    "                    assert False, 'data length is not 2 or 3'\n",
    "                #######################################################################################################################\n",
    "                    \n",
    "                ## batch 크기 ######################################\n",
    "                real_batch = labels.size(0)\n",
    "                ###########################################################\n",
    "\n",
    "                # 차원 전처리\n",
    "                ###########################################################################################################################        \n",
    "                if (which_data == 'n_tidigits'):\n",
    "                    inputs = inputs.permute(0, 1, 3, 2, 4)\n",
    "                    labels = labels[:, 0, :]\n",
    "                    labels = torch.argmax(labels, dim=1)\n",
    "                elif (which_data == 'heidelberg'):\n",
    "                    inputs = inputs.view(5, 1000, 1, 700, 1)\n",
    "                    print(\"\\n\\n\\n경고!!!! heidelberg 이거 타임스텝이랑 채널 잘 바꿔줘라!!!\\n\\n\\n\\n\")\n",
    "                # print('inputs',inputs.size(),'\\nlabels',labels.size())\n",
    "                # print(labels)\n",
    "\n",
    "                if (which_data == 'DVS_CIFAR10' or which_data == 'DVS_GESTURE' or which_data == 'DVS_GESTURE_TONIC' or which_data == 'DVS_CIFAR10_2' or which_data == 'NMNIST' or which_data == 'NMNIST_TONIC' or which_data == 'N_CALTECH101' or which_data == 'n_tidigits' or which_data == 'heidelberg'):\n",
    "                    inputs = inputs.permute(1, 0, 2, 3, 4)\n",
    "                elif rate_coding == True :\n",
    "                    inputs = spikegen.rate(inputs, num_steps=TIME)\n",
    "                else :\n",
    "                    inputs = inputs.repeat(TIME, 1, 1, 1, 1)\n",
    "                # inputs: [Time, Batch, Channel, Height, Width]  \n",
    "                    \n",
    "                ## initial pooling #######################################################################\n",
    "                if (initial_pooling > 1):\n",
    "                    pool = nn.MaxPool2d(kernel_size=2)\n",
    "                    num_pooling_layers = int(math.log2(initial_pooling))\n",
    "                    # Time, Batch, Channel 차원은 그대로 두고, Height, Width 차원에 대해서만 pooling 적용\n",
    "                    shape_temp = inputs.shape\n",
    "                    inputs = inputs.reshape(shape_temp[0]*shape_temp[1], shape_temp[2], shape_temp[3], shape_temp[4])\n",
    "                    for _ in range(num_pooling_layers):\n",
    "                        inputs = pool(inputs)\n",
    "                    inputs = inputs.reshape(shape_temp[0], shape_temp[1], shape_temp[2], shape_temp[3]//initial_pooling, shape_temp[4]//initial_pooling)\n",
    "                ## initial pooling #######################################################################\n",
    "                ## temporal filtering ####################################################################\n",
    "                shape_temp = inputs.shape\n",
    "                if (temporal_filter > 1):\n",
    "                    slice_bucket = []\n",
    "                    for t_temp in range(TIME):\n",
    "                        start = t_temp * temporal_filter\n",
    "                        end = start + temporal_filter\n",
    "                        slice_concat = torch.movedim(inputs[start:end], 0, 1).reshape(shape_temp[1],shape_temp[2],shape_temp[3],-1)\n",
    "                        slice_bucket.append(slice_concat)\n",
    "                    inputs = torch.stack(slice_bucket, dim=0)\n",
    "                ## temporal filtering ####################################################################\n",
    "                ####################################################################################################################### \n",
    "                    \n",
    "                \n",
    "                # # dvs 데이터 시각화 코드 (확인 필요할 시 써라)\n",
    "                # ##############################################################################################\n",
    "                # dvs_visualization(inputs, labels, TIME, BATCH, my_seed)\n",
    "                # #####################################################################################################\n",
    "\n",
    "                ## to (device) #######################################\n",
    "                inputs = inputs.to(device)\n",
    "                labels = labels.to(device)\n",
    "                ###########################################################\n",
    "\n",
    "\n",
    "                ## gradient 초기화 #######################################\n",
    "                optimizer.zero_grad()\n",
    "                ###########################################################\n",
    "                \n",
    "                ## DVS gesture에서 other label자리 매꾸기 ###############\n",
    "                if (which_data == 'DVS_GESTURE'):\n",
    "                    labels[labels>2] -= 1\n",
    "                #######################################################         \n",
    "                                \n",
    "                if merge_polarities == True:\n",
    "                    inputs = inputs[:,:,0,:,:]\n",
    "\n",
    "                if single_step == False:\n",
    "                    # net에 넣어줄때는 batch가 젤 앞 차원으로 와야함. # dataparallel때매##############################\n",
    "                    # inputs: [Time, Batch, Channel, Height, Width]   \n",
    "                    inputs = inputs.permute(1, 0, 2, 3, 4) # net에 넣어줄때는 batch가 젤 앞 차원으로 와야함. # dataparallel때매\n",
    "                    # inputs: [Batch, Time, Channel, Height, Width] \n",
    "                    #################################################################################################\n",
    "                else:\n",
    "                    labels = labels.repeat(TIME, 1)\n",
    "                    ## first input도 ottt trace 적용하기 위한 코드 (validation 시에는 필요X) ##########################\n",
    "                    if OTTT_input_trace_on == True:\n",
    "                        spike = inputs\n",
    "                        trace = torch.full_like(spike, fill_value = 0.0, dtype = torch.float, requires_grad=False)\n",
    "                        inputs = []\n",
    "                        for t in range(TIME):\n",
    "                            trace[t] = trace[t-1]*synapse_conv_trace_const2 + spike[t]*synapse_conv_trace_const1\n",
    "                            inputs += [[spike[t], trace[t]]]\n",
    "                    ##################################################################################################\n",
    "\n",
    "\n",
    "                if single_step == False:\n",
    "                    ### input --> net --> output #####################################################\n",
    "                    outputs = net(inputs)\n",
    "                    ##################################################################################\n",
    "                    ## loss, backward ##########################################\n",
    "                    iter_loss = criterion(outputs, labels)\n",
    "                    iter_loss.backward()\n",
    "                    ############################################################\n",
    "                    ## weight 업데이트!! ##################################\n",
    "                    optimizer.step()\n",
    "                    ################################################################\n",
    "                else:\n",
    "                    if UDA_on == False:\n",
    "                        outputs_all = []\n",
    "                        iter_loss = 0.0\n",
    "                        for t in range(TIME):\n",
    "                            ### input[t] --> net --> output_one_time #########################################\n",
    "                            outputs_one_time = net(inputs[t])\n",
    "                            ##################################################################################\n",
    "                            one_time_loss = criterion(outputs_one_time, labels[t].contiguous())\n",
    "                            one_time_loss.backward() # one_time backward\n",
    "                            iter_loss += one_time_loss.data\n",
    "                            outputs_all.append(outputs_one_time.detach())\n",
    "                        optimizer.step() # full step time update\n",
    "                        outputs_all = torch.stack(outputs_all, dim=1)\n",
    "                        outputs = outputs_all.mean(1) # ottt꺼 쓸때\n",
    "                        labels = labels[0]\n",
    "                        iter_loss /= TIME\n",
    "                    else:\n",
    "                        ## 근데 생각해보니까 걍 target에서 classifier만 backward 안 해주면 되는 거 아니냐\n",
    "\n",
    "                        iter_loss_domain = 0.0\n",
    "                        outputs_all = []\n",
    "                        outputs_all_domain = []\n",
    "                        iter_loss = 0.0\n",
    "\n",
    "                        if net.UDA_classifier_on == True:\n",
    "                            domain_labels = torch.full((TIME, real_batch), 1).to(device)\n",
    "                        else:\n",
    "                            domain_labels = torch.full((TIME, real_batch), 0).to(device)\n",
    "                            \n",
    "                        for t in range(TIME):\n",
    "                            ### input[t] --> net --> output_one_time #########################################\n",
    "                            outputs_one_time, UDA_adpater_out = net(inputs[t])\n",
    "                            one_time_loss_classifier = criterion(outputs_one_time, labels[t].contiguous())\n",
    "                            one_time_loss_domain = criterion(UDA_adpater_out, domain_labels[t].contiguous())\n",
    "                            one_time_loss_backward = torch.tensor(0.0).to(device)\n",
    "                            if net.UDA_adapter_on == True:\n",
    "                                one_time_loss_backward += one_time_loss_domain * adapter_loss_weight\n",
    "                            else:\n",
    "                                one_time_loss_backward += one_time_loss_domain * 0.0\n",
    "                            if net.UDA_classifier_on == True:\n",
    "                                one_time_loss_backward += one_time_loss_classifier\n",
    "                            else:\n",
    "                                one_time_loss_backward += one_time_loss_classifier * 0.0\n",
    "                            one_time_loss_backward.backward() # one_time backward\n",
    "                            iter_loss += one_time_loss_classifier.data\n",
    "                            iter_loss_domain += one_time_loss_domain.data\n",
    "                            outputs_all.append(outputs_one_time.detach())\n",
    "                            outputs_all_domain.append(UDA_adpater_out.detach())\n",
    "                            ##################################################################################\n",
    "                        if one_time_loss_backward != 0.0:\n",
    "                            optimizer.step() # full step time update\n",
    "                        outputs_all = torch.stack(outputs_all, dim=1)\n",
    "                        outputs = outputs_all.mean(1) # ottt꺼 쓸때\n",
    "                        labels = labels[0]\n",
    "                        outputs_all_domain = torch.stack(outputs_all_domain, dim=1)\n",
    "                        outputs_domain = outputs_all_domain.mean(1) # ottt꺼 쓸때\n",
    "                        domain_labels = domain_labels[0]\n",
    "                        iter_loss /= TIME\n",
    "                        iter_loss_domain /= TIME\n",
    "\n",
    "                if UDA_on == False:\n",
    "                    tr_epoch_loss_temp += iter_loss.data/len(train_loader)\n",
    "                else: \n",
    "                    if (net.UDA_classifier_on == True):\n",
    "                        tr_epoch_loss_temp += iter_loss.data/(len(train_loader)*src_trg_ratio/(src_trg_ratio+1))\n",
    "                    else:\n",
    "                        tr_epoch_loss_temp_target += iter_loss.data/(len(train_loader)*1/(src_trg_ratio+1))\n",
    "                    tr_epoch_loss_temp_domain += iter_loss.data/len(train_loader)\n",
    "\n",
    "                ## net 그림 출력해보기 #################################################################\n",
    "                # print('시각화')\n",
    "                # make_dot(outputs, params=dict(list(net.named_parameters()))).render(\"net_torchviz\", format=\"png\")\n",
    "                # return 0\n",
    "                ##################################################################################\n",
    "\n",
    "                #### batch 어긋남 방지 ###############################################\n",
    "                assert real_batch == outputs.size(0), f'batch size is not same. real_batch: {real_batch}, outputs.size(0): {outputs.size(0)}'\n",
    "                #######################################################################\n",
    "                \n",
    "\n",
    "                if UDA_on == False:\n",
    "                    ####### training accruacy save for print ###############################\n",
    "                    _, predicted = torch.max(outputs.data, 1)\n",
    "                    total = real_batch\n",
    "                    correct = (predicted == labels).sum().item()\n",
    "                    iter_acc = correct / total\n",
    "                    tr_total += total\n",
    "                    tr_correct += correct\n",
    "                    if i % verbose_interval == verbose_interval-1:\n",
    "                        if ddp_on == False or torch.distributed.get_rank() == 0:\n",
    "                            print(f'{epoch}-{i} training acc: {100 * iter_acc:.2f}%, lr={[f\"{lr}\" for lr in (param_group[\"lr\"] for param_group in optimizer.param_groups)]}, val_acc: {100 * val_acc_now:.2f}%')\n",
    "                    iter_acc_string = f'epoch-{epoch:<3} iter_acc:{100 * iter_acc:7.2f}%, lr={[f\"{lr:9.7f}\" for lr in (param_group[\"lr\"] for param_group in optimizer.param_groups)]}'\n",
    "                    iter_acc_string2 = f'epoch-{epoch:<3} lr={[f\"{lr:9.7f}\" for lr in (param_group[\"lr\"] for param_group in optimizer.param_groups)]}'\n",
    "                    ################################################################\n",
    "                else:\n",
    "                    ####### training accruacy save for print ###############################\n",
    "                    _, predicted = torch.max(outputs.data, 1)\n",
    "                    _, predicted_domain = torch.max(outputs_domain.data, 1)\n",
    "                    total = real_batch\n",
    "                    correct = (predicted == labels).sum().item()\n",
    "                    correct_domain = (predicted_domain == domain_labels).sum().item()\n",
    "                    iter_acc = correct / total\n",
    "                    iter_acc_domain = correct_domain / total\n",
    "                    if (net.UDA_classifier_on == True):\n",
    "                        tr_total += total\n",
    "                        tr_correct += correct\n",
    "                    else:\n",
    "                        tr_total_target += total\n",
    "                        tr_correct_target += correct\n",
    "                    tr_correct_domain += correct_domain\n",
    "                    tr_total_domain += total\n",
    "\n",
    "                    if i % verbose_interval == verbose_interval-1:\n",
    "                        if ddp_on == False or torch.distributed.get_rank() == 0:\n",
    "                            print(f'{epoch}-{i} training acc: {100 * iter_acc:.2f}%, lr={[f\"{lr}\" for lr in (param_group[\"lr\"] for param_group in optimizer.param_groups)]}, val_acc: {100 * val_acc_now:.2f}%')\n",
    "                    iter_acc_string = f'epoch-{epoch:<3} iter_acc:{100 * iter_acc:7.2f}%, lr={[f\"{lr:9.7f}\" for lr in (param_group[\"lr\"] for param_group in optimizer.param_groups)]}'\n",
    "                    iter_acc_string2 = f'epoch-{epoch:<3} lr={[f\"{lr:9.7f}\" for lr in (param_group[\"lr\"] for param_group in optimizer.param_groups)]}'\n",
    "                    ################################################################\n",
    "\n",
    "\n",
    "\n",
    "\n",
    "            iter_one_train_time_end = time.time()\n",
    "            elapsed_time = iter_one_train_time_end - iter_one_train_time_start  # 실행 시간 계산\n",
    "\n",
    "            if (i % verbose_interval == verbose_interval-1):\n",
    "                if ddp_on == False or torch.distributed.get_rank() == 0:\n",
    "                    print(f\"iter_one_train_time: {elapsed_time} seconds, last one_val_time: {elapsed_time_val} seconds\\n\")\n",
    "            \n",
    "            ##### validation ##################################################################################################################################\n",
    "            if i % validation_interval2 == validation_interval2-1 :\n",
    "                iter_one_val_time_start = time.time()\n",
    "                tr_acc = tr_correct/tr_total\n",
    "                tr_correct = 0\n",
    "                tr_total = 0\n",
    "                if UDA_on == True:\n",
    "                    tr_acc_target = tr_correct_target/tr_total_target\n",
    "                    tr_correct_target = 0\n",
    "                    tr_total_target = 0\n",
    "                    tr_acc_domain = tr_correct_domain/tr_total_domain\n",
    "                    tr_correct_domain = 0\n",
    "                    tr_total_domain = 0\n",
    "\n",
    "                domain_index = 0\n",
    "                val_loss_set = []\n",
    "                val_acc_now_set = []\n",
    "                while True:\n",
    "                    val_loss = 0\n",
    "                    correct_val = 0\n",
    "                    total_val = 0\n",
    "                    test_loader = test_loader_domain_set[domain_index]\n",
    "                    domain_index = domain_index + 1\n",
    "\n",
    "                    with torch.no_grad():\n",
    "                        net.eval() # eval 모드로 바꿔줘야함 \n",
    "                        for data_val in test_loader:\n",
    "                            ## data_val loading & semi-pre-processing ##########################################################\n",
    "                            if len(data_val) == 2:\n",
    "                                inputs_val, labels_val = data_val\n",
    "                                # 처리 로직 작성\n",
    "                            elif len(data_val) == 3:\n",
    "                                inputs_val, labels_val, x_len = data_val\n",
    "                                # print('x_len',x_len)\n",
    "                                # mask = padded_sequence_mask(x_len)\n",
    "                                # max_time_step = x_len.max()\n",
    "                                # min_time_step = x_len.min()\n",
    "                                # B, T, *spatial_dims = inputs_val.shape\n",
    "                            else:\n",
    "                                assert False, 'data_val length is not 2 or 3'\n",
    "\n",
    "                            if (which_data == 'DVS_CIFAR10' or which_data == 'DVS_GESTURE' or which_data == 'DVS_GESTURE_TONIC' or which_data == 'DVS_CIFAR10_2' or which_data == 'NMNIST' or which_data == 'NMNIST_TONIC' or which_data == 'N_CALTECH101' or which_data == 'n_tidigits' or which_data == 'heidelberg'):\n",
    "                                inputs_val = inputs_val.permute(1, 0, 2, 3, 4)\n",
    "                            elif rate_coding == True :\n",
    "                                inputs_val = spikegen.rate(inputs_val, num_steps=TIME)\n",
    "                            else :\n",
    "                                inputs_val = inputs_val.repeat(TIME, 1, 1, 1, 1)\n",
    "                            # inputs_val: [Time, Batch, Channel, Height, Width]  \n",
    "                            ###################################################################################################\n",
    "                            \n",
    "                            ## initial pooling #######################################################################\n",
    "                            if (initial_pooling > 1):\n",
    "                                pool = nn.MaxPool2d(kernel_size=2)\n",
    "                                num_pooling_layers = int(math.log2(initial_pooling))\n",
    "                                # Time, Batch, Channel 차원은 그대로 두고, Height, Width 차원에 대해서만 pooling 적용\n",
    "                                shape_temp = inputs_val.shape\n",
    "                                inputs_val = inputs_val.reshape(shape_temp[0]*shape_temp[1], shape_temp[2], shape_temp[3], shape_temp[4])\n",
    "                                for _ in range(num_pooling_layers):\n",
    "                                    inputs_val = pool(inputs_val)\n",
    "                                inputs_val = inputs_val.reshape(shape_temp[0], shape_temp[1], shape_temp[2], shape_temp[3]//initial_pooling, shape_temp[4]//initial_pooling)\n",
    "                            ## initial pooling #######################################################################\n",
    "\n",
    "                            ## temporal filtering ####################################################################\n",
    "                            shape_temp = inputs_val.shape\n",
    "                            if (temporal_filter > 1):\n",
    "                                slice_bucket = []\n",
    "                                for t_temp in range(TIME):\n",
    "                                    start = t_temp * temporal_filter\n",
    "                                    end = start + temporal_filter\n",
    "                                    slice_concat = torch.movedim(inputs_val[start:end], 0, 1).reshape(shape_temp[1],shape_temp[2],shape_temp[3],-1)\n",
    "                                    slice_bucket.append(slice_concat)\n",
    "                                inputs_val = torch.stack(slice_bucket, dim=0)\n",
    "                            ## temporal filtering ####################################################################\n",
    "                            \n",
    "                            inputs_val = inputs_val.to(device)\n",
    "                            labels_val = labels_val.to(device)\n",
    "                            real_batch = labels_val.size(0)\n",
    "                            \n",
    "                            ## DVS gesture에서 other label자리 매꾸기 ###############\n",
    "                            if (which_data == 'DVS_GESTURE'):\n",
    "                                labels_val[labels_val>2] -= 1\n",
    "                            #######################################################\n",
    "                            \n",
    "                            if merge_polarities == True:\n",
    "                                inputs_val = inputs_val[:,:,0,:,:]\n",
    "\n",
    "                            ## network 연산 시작 ############################################################################################################\n",
    "                            if single_step == False:\n",
    "                                outputs = net(inputs_val.permute(1, 0, 2, 3, 4)) #inputs_val: [Batch, Time, Channel, Height, Width]  \n",
    "                                val_loss_val += criterion(outputs, labels_val)/len(test_loader)\n",
    "                            else:\n",
    "                                outputs_all = []\n",
    "                                for t in range(TIME):\n",
    "                                    outputs = net(inputs_val[t])\n",
    "                                    if UDA_on == True:\n",
    "                                        outputs = outputs[0] # classifier의 output만 사용.\n",
    "                                    val_loss_temp = criterion(outputs, labels_val)\n",
    "                                    outputs_all.append(outputs.detach())\n",
    "                                    val_loss += (val_loss_temp.data/TIME)/len(test_loader)\n",
    "                                outputs_all = torch.stack(outputs_all, dim=1)\n",
    "                                outputs = outputs_all.mean(1)\n",
    "                            val_loss_set.append(val_loss)\n",
    "                            #################################################################################################################################\n",
    "\n",
    "                            _, predicted = torch.max(outputs.data, 1)\n",
    "                            total_val += real_batch\n",
    "                            assert real_batch == outputs.size(0), f'batch size is not same. real_batch: {real_batch}, outputs.size(0): {outputs.size(0)}'\n",
    "                            correct_val += (predicted == labels_val).sum().item()\n",
    "\n",
    "                        val_acc_now = correct_val / total_val\n",
    "                        # print(f'{epoch}-{i} validation acc: {100 * val_acc_now:.2f}%, lr={[f\"{lr:.10f}\" for lr in (param_group[\"lr\"] for param_group in optimizer.param_groups)]}')\n",
    "                        val_acc_now_set.append(val_acc_now)\n",
    "\n",
    "                    if domain_index == len(dvs_duration_domain) + 1:\n",
    "                        break\n",
    "\n",
    "                val_loss = val_loss_set[0]\n",
    "                val_acc_now = val_acc_now_set[0]\n",
    "\n",
    "                iter_one_val_time_end = time.time()\n",
    "                elapsed_time_val = iter_one_val_time_end - iter_one_val_time_start  # 실행 시간 계산\n",
    "                # print(f\"iter_one_val_time: {elapsed_time_val} seconds\")\n",
    "\n",
    "                # network save\n",
    "                if val_acc_best < val_acc_now:\n",
    "                    val_acc_best = val_acc_now\n",
    "                    if ddp_on == False or torch.distributed.get_rank() == 0:\n",
    "                        # wandb 키면 state_dict아닌거는 저장 안됨\n",
    "                        torch.save(net.state_dict(), f\"net_save/save_now_net_weights_{unique_name}.pth\")\n",
    "                        # torch.save(net, f\"net_save/save_now_net_{unique_name}.pth\")\n",
    "                        # torch.save(net.module.state_dict(), f\"net_save/save_now_net_weights2_{unique_name}.pth\")\n",
    "                        # torch.save(net.module, f\"net_save/save_now_net2_{unique_name}.pth\")\n",
    "                    no_val_best_growth_count = 0\n",
    "                else:\n",
    "                    no_val_best_growth_count = no_val_best_growth_count + 1\n",
    "\n",
    "                if tr_acc_best < tr_acc:\n",
    "                    tr_acc_best = tr_acc\n",
    "                    no_tr_best_growth_count = 0\n",
    "                else:\n",
    "                    no_tr_best_growth_count = no_tr_best_growth_count + 1\n",
    "\n",
    "                tr_epoch_loss = tr_epoch_loss_temp\n",
    "                tr_epoch_loss_temp = 0\n",
    "                tr_epoch_loss_target = tr_epoch_loss_temp_target \n",
    "                tr_epoch_loss_temp_target = 0\n",
    "                tr_epoch_loss_domain = tr_epoch_loss_temp_domain\n",
    "                tr_epoch_loss_temp_domain = 0\n",
    "                if (UDA_on == True):\n",
    "                    print(f\"Domain loss,acc: {tr_epoch_loss_domain:.6f}, {100 * tr_acc_domain:.2f}% Target domain: tr_loss-{tr_epoch_loss_target:.6f}, tr_acc-{100 * tr_acc_target:.2f}%\")\n",
    "\n",
    "                if DFA_toggle == True:\n",
    "                    DFA_flag = 1.0 - DFA_flag\n",
    "                    DFA_toggle = False\n",
    "\n",
    "                iter_of_val = True\n",
    "            ####################################################################################################################################################\n",
    "            \n",
    "            ## progress bar update ############################################################################################################\n",
    "            if ddp_on == False or torch.distributed.get_rank() == 0:\n",
    "                if iter_of_val == False:\n",
    "                    iterator.set_description(f\"{iter_acc_string}, iter_loss:{iter_loss:10.6f}, val_best:{100 * val_acc_best:7.2f}%\")  \n",
    "                else:\n",
    "                    iterator.set_description(f\"{iter_acc_string2}, tr/val_loss:{tr_epoch_loss:10.6f}/{val_loss:10.6f}, tr:{100 * tr_acc:7.2f}%, val:{100 * val_acc_now:7.2f}%, val_best:{100 * val_acc_best:7.2f}%\")  \n",
    "\n",
    "                    if len(dvs_duration_domain) > 0:\n",
    "                        dvs_duration_full = [(dvs_duration, dvs_clipping, denoise_on, TIME)] + dvs_duration_domain\n",
    "                        val_acc_now_set_best = [max(past, now) for past, now in zip(val_acc_now_set_past, val_acc_now_set)]\n",
    "                        print(\" | \".join(f\"{dvs_duration_full[d_count][0]:,}c{dvs_duration_full[d_count][1]}d{dvs_duration_full[d_count][2]}t{dvs_duration_full[d_count][3]}:{val_acc_now_set[d_count]*100:.2f}%:{val_acc_now_set_best[d_count]*100:.2f}%\" for d_count in range(len(val_acc_now_set))))\n",
    "                        val_acc_now_set_past = val_acc_now_set_best\n",
    "                    iter_of_val = False\n",
    "            \n",
    "            ####################################################################################################################################\n",
    "            \n",
    "            ## wandb logging ############################################################################################################\n",
    "            if ddp_on == False or torch.distributed.get_rank() == 0:\n",
    "                wandb.log({\"iter_acc\": iter_acc})\n",
    "                wandb.log({\"tr_acc\": tr_acc})\n",
    "                wandb.log({\"val_acc_now\": val_acc_now})\n",
    "                wandb.log({\"val_acc_best\": val_acc_best})\n",
    "                wandb.log({\"summary_val_acc\": val_acc_now})\n",
    "                wandb.log({\"epoch\": epoch})\n",
    "                wandb.log({\"DFA_flag\": DFA_flag}) # DFA mode 바뀌자 마자 바뀌는 게 아니고 validation 한번 했을 때 바뀜.\n",
    "                wandb.log({\"val_loss\": val_loss}) \n",
    "                wandb.log({\"tr_epoch_loss\": tr_epoch_loss})   \n",
    "                if len(val_acc_now_set) > 1:\n",
    "                    wandb.log({\"val_acc_now_set[1]\": val_acc_now_set[1]}) \n",
    "                    wandb.log({\"val_acc_now_set[1]_best\": val_acc_now_set_best[1]}) \n",
    "            ####################################################################################################################################\n",
    "            \n",
    "            \n",
    "            ## accuray 로컬에 저장 하기 위한 코드 #####################################################################################\n",
    "            iter_acc_array = np.append(iter_acc_array, iter_acc)\n",
    "            tr_acc_array = np.append(tr_acc_array, tr_acc)\n",
    "            val_acc_now_array = np.append(val_acc_now_array, val_acc_now)\n",
    "            base_name = f'{current_time}'\n",
    "            ####################################################################################################################\n",
    "            \n",
    "            iter_acc_file_name_time = f'result_save/{base_name}_iter_acc_array_{unique_name}.npy'\n",
    "            tr_acc_file_name_time = f'result_save/{base_name}_tr_acc_array_{unique_name}.npy'\n",
    "            val_acc_file_name_time = f'result_save/{base_name}_val_acc_now_array_{unique_name}.npy'\n",
    "            hyperparameters_file_name_time = f'result_save/{base_name}_hyperparameters_{unique_name}.json'\n",
    "\n",
    "            hyperparameters['current epoch'] = epoch\n",
    "\n",
    "            ### accuracy 세이브: 덮어쓰기 하기 싫으면 주석 풀어서 사용 (시간마다 새로 쓰기) 비추천 ########################\n",
    "            # if ddp_on == False or torch.distributed.get_rank() == 0:\n",
    "            #     np.save(iter_acc_file_name_time, iter_acc_array)\n",
    "\n",
    "\n",
    "            #     np.save(tr_acc_file_name_time, iter_acc_array)\n",
    "            #     np.save(val_acc_file_name_time, val_acc_now_array)\n",
    "            #     with open(hyperparameters_file_name_time, 'w') as f:\n",
    "            #         json.dump(hyperparameters, f, indent=4)\n",
    "            #########################################################################################################\n",
    "\n",
    "            ## accuracy 세이브 ###########################################################################################\n",
    "            if ddp_on == False or torch.distributed.get_rank() == 0:\n",
    "                np.save(f'result_save/iter_acc_array_{unique_name}.npy', iter_acc_array)\n",
    "                np.save(f'result_save/tr_acc_array_{unique_name}.npy', tr_acc_array)\n",
    "                np.save(f'result_save/val_acc_now_array_{unique_name}.npy', val_acc_now_array)\n",
    "                with open(f'result_save/hyperparameters_{unique_name}.json', 'w') as f:\n",
    "                    json.dump(hyperparameters, f, indent=4)\n",
    "            ##########################################################################################################\n",
    "            # iterator.update(1)\n",
    "        ###### ITERATION END ##########################################################################################################\n",
    "                \n",
    "\n",
    "        ## scheduler update #############################################################################\n",
    "        if (scheduler_name != 'no'):\n",
    "            if (scheduler_name == 'ReduceLROnPlateau'):\n",
    "                scheduler.step(val_loss)\n",
    "            else:\n",
    "                scheduler.step()\n",
    "        #################################################################################################\n",
    "        \n",
    "        # 실행 시간 계산\n",
    "        epoch_time_end = time.time()\n",
    "        # print(f\"epoch_time: {epoch_time_end - epoch_start_time} seconds\\n\") \n",
    "    #======== EPOCH END ==========================================================================================\n"
   ]
  },
  {
   "cell_type": "code",
   "execution_count": 6,
   "metadata": {},
   "outputs": [
    {
     "name": "stderr",
     "output_type": "stream",
     "text": [
      "Failed to detect the name of this notebook, you can set it manually with the WANDB_NOTEBOOK_NAME environment variable to enable code saving.\n",
      "\u001b[34m\u001b[1mwandb\u001b[0m: Currently logged in as: \u001b[33mbhkim003\u001b[0m (\u001b[33mbhkim003-seoul-national-university\u001b[0m). Use \u001b[1m`wandb login --relogin`\u001b[0m to force relogin\n"
     ]
    },
    {
     "data": {
      "application/vnd.jupyter.widget-view+json": {
       "model_id": "2884ba36898d40e5ab264987b29ab567",
       "version_major": 2,
       "version_minor": 0
      },
      "text/plain": [
       "VBox(children=(Label(value='Waiting for wandb.init()...\\r'), FloatProgress(value=0.011112586429549588, max=1.0…"
      ]
     },
     "metadata": {},
     "output_type": "display_data"
    },
    {
     "data": {
      "text/html": [
       "wandb version 0.18.5 is available!  To upgrade, please run:\n",
       " $ pip install wandb --upgrade"
      ],
      "text/plain": [
       "<IPython.core.display.HTML object>"
      ]
     },
     "metadata": {},
     "output_type": "display_data"
    },
    {
     "data": {
      "text/html": [
       "Tracking run with wandb version 0.17.5"
      ],
      "text/plain": [
       "<IPython.core.display.HTML object>"
      ]
     },
     "metadata": {},
     "output_type": "display_data"
    },
    {
     "data": {
      "text/html": [
       "Run data is saved locally in <code>/nfs/home/bhkim003/github_folder/ByeonghyeonKim/my_snn/wandb/run-20241021_225838-lt1hk10m</code>"
      ],
      "text/plain": [
       "<IPython.core.display.HTML object>"
      ]
     },
     "metadata": {},
     "output_type": "display_data"
    },
    {
     "data": {
      "text/html": [
       "Syncing run <strong><a href='https://wandb.ai/bhkim003-seoul-national-university/my_snn%20main/runs/lt1hk10m' target=\"_blank\">rose-sun-6544</a></strong> to <a href='https://wandb.ai/bhkim003-seoul-national-university/my_snn%20main' target=\"_blank\">Weights & Biases</a> (<a href='https://wandb.me/run' target=\"_blank\">docs</a>)<br/>"
      ],
      "text/plain": [
       "<IPython.core.display.HTML object>"
      ]
     },
     "metadata": {},
     "output_type": "display_data"
    },
    {
     "data": {
      "text/html": [
       " View project at <a href='https://wandb.ai/bhkim003-seoul-national-university/my_snn%20main' target=\"_blank\">https://wandb.ai/bhkim003-seoul-national-university/my_snn%20main</a>"
      ],
      "text/plain": [
       "<IPython.core.display.HTML object>"
      ]
     },
     "metadata": {},
     "output_type": "display_data"
    },
    {
     "data": {
      "text/html": [
       " View run at <a href='https://wandb.ai/bhkim003-seoul-national-university/my_snn%20main/runs/lt1hk10m' target=\"_blank\">https://wandb.ai/bhkim003-seoul-national-university/my_snn%20main/runs/lt1hk10m</a>"
      ],
      "text/plain": [
       "<IPython.core.display.HTML object>"
      ]
     },
     "metadata": {},
     "output_type": "display_data"
    },
    {
     "name": "stdout",
     "output_type": "stream",
     "text": [
      "dataset_hash = ffa516e60c3efd5e0208f72b4c36cb84\n",
      "cache path exists\n",
      "dataset_hash = ffa516e60c3efd5e0208f72b4c36cb84\n",
      "cache path exists\n",
      "dataset_hash = eaf3b8749a6556915698bd0c6c3d1d63\n",
      "cache path doesn't exist\n",
      "\n",
      " src img count 653 trg img count 326 \n",
      "\n",
      "dataset_hash = eaf3b8749a6556915698bd0c6c3d1d63\n",
      "cache path exists\n",
      "In UDA mode, No parameter number calculation yet.\n",
      "\n",
      "device ==> cuda\n",
      "\n",
      "DataParallel(\n",
      "  (module): MY_SNN_FC_sstep(\n",
      "    (UDA_feature_layers): MY_Sequential(\n",
      "      (0): DimChanger_for_FC_sstep()\n",
      "      (1): SYNAPSE_FC_trace_sstep()\n",
      "      (2): LIF_layer_trace_sstep()\n",
      "    )\n",
      "    (UDA_classifier_layers): MY_Sequential(\n",
      "      (0): SYNAPSE_FC_trace_sstep()\n",
      "      (1): LIF_layer_trace_sstep()\n",
      "      (2): SYNAPSE_FC_trace_sstep()\n",
      "    )\n",
      "    (UDA_adapter_layers): MY_Sequential(\n",
      "      (0): Gradient_Reversal_Layer()\n",
      "      (1): SYNAPSE_FC_trace_sstep()\n",
      "      (2): LIF_layer_trace_sstep()\n",
      "      (3): SYNAPSE_FC_trace_sstep()\n",
      "    )\n",
      "  )\n",
      ")\n",
      "==================================================\n",
      "My Num of PARAMS: 0, system's param_num : 492,612\n",
      "Memory: 0.00MiB at 32-bit\n",
      "==================================================\n"
     ]
    },
    {
     "name": "stderr",
     "output_type": "stream",
     "text": [
      "epoch-0   lr=['0.0010000'], tr/val_loss:  3.438441/  2.227350, tr:  13.94%, val:  22.08%, val_best:  22.08%: 100%|██████████| 41/41 [00:15<00:00,  2.57it/s]"
     ]
    },
    {
     "name": "stdout",
     "output_type": "stream",
     "text": [
      "Domain loss,acc: 3.471651, 62.72% Target domain: tr_loss-3.538070, tr_acc-9.20%\n",
      "100,000c5dFalset10:22.08%:22.08% | 75,000c5dFalset10:18.33%:18.33%\n"
     ]
    },
    {
     "name": "stderr",
     "output_type": "stream",
     "text": [
      "\n",
      "epoch-1   lr=['0.0010000'], tr/val_loss:  2.965828/  1.792224, tr:  35.68%, val:  48.33%, val_best:  48.33%: 100%|██████████| 41/41 [00:11<00:00,  3.62it/s]"
     ]
    },
    {
     "name": "stdout",
     "output_type": "stream",
     "text": [
      "Domain loss,acc: 3.057558, 64.66% Target domain: tr_loss-3.241018, tr_acc-27.30%\n",
      "100,000c5dFalset10:48.33%:48.33% | 75,000c5dFalset10:44.58%:44.58%\n"
     ]
    },
    {
     "name": "stderr",
     "output_type": "stream",
     "text": [
      "\n",
      "epoch-2   lr=['0.0010000'], tr/val_loss:  2.304808/  1.538428, tr:  55.28%, val:  55.00%, val_best:  55.00%: 100%|██████████| 41/41 [00:11<00:00,  3.56it/s]"
     ]
    },
    {
     "name": "stdout",
     "output_type": "stream",
     "text": [
      "Domain loss,acc: 2.415062, 60.98% Target domain: tr_loss-2.635571, tr_acc-53.99%\n",
      "100,000c5dFalset10:55.00%:55.00% | 75,000c5dFalset10:55.42%:55.42%\n"
     ]
    },
    {
     "name": "stderr",
     "output_type": "stream",
     "text": [
      "\n",
      "epoch-3   lr=['0.0010000'], tr/val_loss:  1.954667/  1.483383, tr:  63.40%, val:  55.00%, val_best:  55.00%: 100%|██████████| 41/41 [00:11<00:00,  3.55it/s]"
     ]
    },
    {
     "name": "stdout",
     "output_type": "stream",
     "text": [
      "Domain loss,acc: 2.089445, 66.70% Target domain: tr_loss-2.359002, tr_acc-57.36%\n",
      "100,000c5dFalset10:55.00%:55.00% | 75,000c5dFalset10:53.33%:55.42%\n"
     ]
    },
    {
     "name": "stderr",
     "output_type": "stream",
     "text": [
      "\n",
      "epoch-4   lr=['0.0010000'], tr/val_loss:  1.764745/  1.413217, tr:  66.92%, val:  61.67%, val_best:  61.67%: 100%|██████████| 41/41 [00:11<00:00,  3.68it/s]"
     ]
    },
    {
     "name": "stdout",
     "output_type": "stream",
     "text": [
      "Domain loss,acc: 1.908885, 66.70% Target domain: tr_loss-2.197165, tr_acc-60.74%\n",
      "100,000c5dFalset10:61.67%:61.67% | 75,000c5dFalset10:54.58%:55.42%\n"
     ]
    },
    {
     "name": "stderr",
     "output_type": "stream",
     "text": [
      "\n",
      "epoch-5   lr=['0.0010000'], tr/val_loss:  1.522029/  1.414483, tr:  75.50%, val:  60.83%, val_best:  61.67%: 100%|██████████| 41/41 [00:11<00:00,  3.68it/s]"
     ]
    },
    {
     "name": "stdout",
     "output_type": "stream",
     "text": [
      "Domain loss,acc: 1.743058, 66.70% Target domain: tr_loss-2.185118, tr_acc-57.67%\n",
      "100,000c5dFalset10:60.83%:61.67% | 75,000c5dFalset10:56.67%:56.67%\n"
     ]
    },
    {
     "name": "stderr",
     "output_type": "stream",
     "text": [
      "\n",
      "epoch-6   lr=['0.0010000'], tr/val_loss:  1.426823/  1.444907, tr:  74.27%, val:  60.83%, val_best:  61.67%: 100%|██████████| 41/41 [00:10<00:00,  3.75it/s]"
     ]
    },
    {
     "name": "stdout",
     "output_type": "stream",
     "text": [
      "Domain loss,acc: 1.629086, 66.70% Target domain: tr_loss-2.033609, tr_acc-64.42%\n",
      "100,000c5dFalset10:60.83%:61.67% | 75,000c5dFalset10:55.42%:56.67%\n"
     ]
    },
    {
     "name": "stderr",
     "output_type": "stream",
     "text": [
      "\n",
      "epoch-7   lr=['0.0010000'], tr/val_loss:  1.276831/  1.440503, tr:  80.09%, val:  60.00%, val_best:  61.67%: 100%|██████████| 41/41 [00:11<00:00,  3.72it/s]"
     ]
    },
    {
     "name": "stdout",
     "output_type": "stream",
     "text": [
      "Domain loss,acc: 1.549930, 66.70% Target domain: tr_loss-2.096127, tr_acc-60.43%\n",
      "100,000c5dFalset10:60.00%:61.67% | 75,000c5dFalset10:57.50%:57.50%\n"
     ]
    },
    {
     "name": "stderr",
     "output_type": "stream",
     "text": [
      "\n",
      "epoch-8   lr=['0.0010000'], tr/val_loss:  1.142585/  1.417508, tr:  85.30%, val:  58.75%, val_best:  61.67%: 100%|██████████| 41/41 [00:10<00:00,  3.78it/s]"
     ]
    },
    {
     "name": "stdout",
     "output_type": "stream",
     "text": [
      "Domain loss,acc: 1.431463, 66.70% Target domain: tr_loss-2.009219, tr_acc-63.19%\n",
      "100,000c5dFalset10:58.75%:61.67% | 75,000c5dFalset10:58.75%:58.75%\n"
     ]
    },
    {
     "name": "stderr",
     "output_type": "stream",
     "text": [
      "\n",
      "epoch-9   lr=['0.0010000'], tr/val_loss:  1.113577/  1.456658, tr:  83.15%, val:  60.83%, val_best:  61.67%: 100%|██████████| 41/41 [00:10<00:00,  3.95it/s]"
     ]
    },
    {
     "name": "stdout",
     "output_type": "stream",
     "text": [
      "Domain loss,acc: 1.456664, 66.70% Target domain: tr_loss-2.142838, tr_acc-58.59%\n",
      "100,000c5dFalset10:60.83%:61.67% | 75,000c5dFalset10:60.00%:60.00%\n"
     ]
    },
    {
     "name": "stderr",
     "output_type": "stream",
     "text": [
      "\n",
      "epoch-10  lr=['0.0010000'], tr/val_loss:  0.950746/  1.456466, tr:  90.81%, val:  65.00%, val_best:  65.00%: 100%|██████████| 41/41 [00:10<00:00,  3.99it/s]"
     ]
    },
    {
     "name": "stdout",
     "output_type": "stream",
     "text": [
      "Domain loss,acc: 1.329256, 66.70% Target domain: tr_loss-2.086275, tr_acc-65.34%\n",
      "100,000c5dFalset10:65.00%:65.00% | 75,000c5dFalset10:62.92%:62.92%\n"
     ]
    },
    {
     "name": "stderr",
     "output_type": "stream",
     "text": [
      "\n",
      "epoch-11  lr=['0.0010000'], tr/val_loss:  0.874796/  1.518116, tr:  88.97%, val:  60.83%, val_best:  65.00%: 100%|██████████| 41/41 [00:10<00:00,  3.83it/s]"
     ]
    },
    {
     "name": "stdout",
     "output_type": "stream",
     "text": [
      "Domain loss,acc: 1.288208, 66.70% Target domain: tr_loss-2.115032, tr_acc-62.58%\n",
      "100,000c5dFalset10:60.83%:65.00% | 75,000c5dFalset10:58.75%:62.92%\n"
     ]
    },
    {
     "name": "stderr",
     "output_type": "stream",
     "text": [
      "\n",
      "epoch-12  lr=['0.0010000'], tr/val_loss:  0.744527/  1.518523, tr:  93.42%, val:  64.58%, val_best:  65.00%: 100%|██████████| 41/41 [00:11<00:00,  3.69it/s]"
     ]
    },
    {
     "name": "stdout",
     "output_type": "stream",
     "text": [
      "Domain loss,acc: 1.187715, 66.70% Target domain: tr_loss-2.074093, tr_acc-64.42%\n",
      "100,000c5dFalset10:64.58%:65.00% | 75,000c5dFalset10:62.08%:62.92%\n"
     ]
    },
    {
     "name": "stderr",
     "output_type": "stream",
     "text": [
      "\n",
      "epoch-13  lr=['0.0010000'], tr/val_loss:  0.654163/  1.560996, tr:  96.17%, val:  63.75%, val_best:  65.00%: 100%|██████████| 41/41 [00:10<00:00,  3.79it/s]"
     ]
    },
    {
     "name": "stdout",
     "output_type": "stream",
     "text": [
      "Domain loss,acc: 1.138536, 66.70% Target domain: tr_loss-2.107283, tr_acc-67.48%\n",
      "100,000c5dFalset10:63.75%:65.00% | 75,000c5dFalset10:63.75%:63.75%\n"
     ]
    },
    {
     "name": "stderr",
     "output_type": "stream",
     "text": [
      "\n",
      "epoch-14  lr=['0.0010000'], tr/val_loss:  0.562938/  1.567659, tr:  97.70%, val:  65.00%, val_best:  65.00%: 100%|██████████| 41/41 [00:10<00:00,  3.75it/s]"
     ]
    },
    {
     "name": "stdout",
     "output_type": "stream",
     "text": [
      "Domain loss,acc: 1.099455, 66.70% Target domain: tr_loss-2.172490, tr_acc-66.87%\n",
      "100,000c5dFalset10:65.00%:65.00% | 75,000c5dFalset10:61.25%:63.75%\n"
     ]
    },
    {
     "name": "stderr",
     "output_type": "stream",
     "text": [
      "\n",
      "epoch-15  lr=['0.0010000'], tr/val_loss:  0.528099/  1.607912, tr:  95.87%, val:  66.67%, val_best:  66.67%: 100%|██████████| 41/41 [00:10<00:00,  3.82it/s]"
     ]
    },
    {
     "name": "stdout",
     "output_type": "stream",
     "text": [
      "Domain loss,acc: 1.091698, 66.70% Target domain: tr_loss-2.218898, tr_acc-67.48%\n",
      "100,000c5dFalset10:66.67%:66.67% | 75,000c5dFalset10:64.58%:64.58%\n"
     ]
    },
    {
     "name": "stderr",
     "output_type": "stream",
     "text": [
      "\n",
      "epoch-16  lr=['0.0010000'], tr/val_loss:  0.441691/  1.589966, tr:  98.16%, val:  71.67%, val_best:  71.67%: 100%|██████████| 41/41 [00:10<00:00,  3.95it/s]"
     ]
    },
    {
     "name": "stdout",
     "output_type": "stream",
     "text": [
      "Domain loss,acc: 1.032323, 66.70% Target domain: tr_loss-2.213588, tr_acc-67.18%\n",
      "100,000c5dFalset10:71.67%:71.67% | 75,000c5dFalset10:68.75%:68.75%\n"
     ]
    },
    {
     "name": "stderr",
     "output_type": "stream",
     "text": [
      "\n",
      "epoch-17  lr=['0.0010000'], tr/val_loss:  0.370528/  1.655600, tr:  99.85%, val:  70.83%, val_best:  71.67%: 100%|██████████| 41/41 [00:11<00:00,  3.69it/s]"
     ]
    },
    {
     "name": "stdout",
     "output_type": "stream",
     "text": [
      "Domain loss,acc: 1.002258, 66.80% Target domain: tr_loss-2.265717, tr_acc-68.10%\n",
      "100,000c5dFalset10:70.83%:71.67% | 75,000c5dFalset10:68.33%:68.75%\n"
     ]
    },
    {
     "name": "stderr",
     "output_type": "stream",
     "text": [
      "\n",
      "epoch-18  lr=['0.0010000'], tr/val_loss:  0.333139/  1.696248, tr:  99.39%, val:  70.83%, val_best:  71.67%: 100%|██████████| 41/41 [00:10<00:00,  3.79it/s]"
     ]
    },
    {
     "name": "stdout",
     "output_type": "stream",
     "text": [
      "Domain loss,acc: 1.005654, 66.80% Target domain: tr_loss-2.350684, tr_acc-70.25%\n",
      "100,000c5dFalset10:70.83%:71.67% | 75,000c5dFalset10:69.17%:69.17%\n"
     ]
    },
    {
     "name": "stderr",
     "output_type": "stream",
     "text": [
      "\n",
      "epoch-19  lr=['0.0010000'], tr/val_loss:  0.274236/  1.729661, tr:  99.85%, val:  71.25%, val_best:  71.67%: 100%|██████████| 41/41 [00:10<00:00,  3.82it/s]"
     ]
    },
    {
     "name": "stdout",
     "output_type": "stream",
     "text": [
      "Domain loss,acc: 0.963673, 65.68% Target domain: tr_loss-2.342545, tr_acc-69.33%\n",
      "100,000c5dFalset10:71.25%:71.67% | 75,000c5dFalset10:71.67%:71.67%\n"
     ]
    },
    {
     "name": "stderr",
     "output_type": "stream",
     "text": [
      "\n",
      "epoch-20  lr=['0.0010000'], tr/val_loss:  0.238545/  1.786457, tr:  99.69%, val:  72.92%, val_best:  72.92%: 100%|██████████| 41/41 [00:10<00:00,  3.92it/s]"
     ]
    },
    {
     "name": "stdout",
     "output_type": "stream",
     "text": [
      "Domain loss,acc: 0.966645, 66.70% Target domain: tr_loss-2.422845, tr_acc-69.02%\n",
      "100,000c5dFalset10:72.92%:72.92% | 75,000c5dFalset10:68.75%:71.67%\n"
     ]
    },
    {
     "name": "stderr",
     "output_type": "stream",
     "text": [
      "\n",
      "epoch-21  lr=['0.0010000'], tr/val_loss:  0.214522/  1.789856, tr: 100.00%, val:  72.08%, val_best:  72.92%: 100%|██████████| 41/41 [00:10<00:00,  3.94it/s]"
     ]
    },
    {
     "name": "stdout",
     "output_type": "stream",
     "text": [
      "Domain loss,acc: 0.963827, 65.99% Target domain: tr_loss-2.462436, tr_acc-70.25%\n",
      "100,000c5dFalset10:72.08%:72.92% | 75,000c5dFalset10:67.92%:71.67%\n"
     ]
    },
    {
     "name": "stderr",
     "output_type": "stream",
     "text": [
      "\n",
      "epoch-22  lr=['0.0010000'], tr/val_loss:  0.179296/  1.815400, tr:  99.85%, val:  73.75%, val_best:  73.75%: 100%|██████████| 41/41 [00:10<00:00,  3.92it/s]"
     ]
    },
    {
     "name": "stdout",
     "output_type": "stream",
     "text": [
      "Domain loss,acc: 0.975728, 66.70% Target domain: tr_loss-2.568591, tr_acc-69.63%\n",
      "100,000c5dFalset10:73.75%:73.75% | 75,000c5dFalset10:72.08%:72.08%\n"
     ]
    },
    {
     "name": "stderr",
     "output_type": "stream",
     "text": [
      "\n",
      "epoch-23  lr=['0.0010000'], tr/val_loss:  0.148693/  1.902258, tr: 100.00%, val:  70.00%, val_best:  73.75%: 100%|██████████| 41/41 [00:10<00:00,  4.03it/s]"
     ]
    },
    {
     "name": "stdout",
     "output_type": "stream",
     "text": [
      "Domain loss,acc: 0.940305, 66.09% Target domain: tr_loss-2.523530, tr_acc-72.39%\n",
      "100,000c5dFalset10:70.00%:73.75% | 75,000c5dFalset10:67.50%:72.08%\n"
     ]
    },
    {
     "name": "stderr",
     "output_type": "stream",
     "text": [
      "\n",
      "epoch-24  lr=['0.0010000'], tr/val_loss:  0.127527/  1.908565, tr: 100.00%, val:  70.42%, val_best:  73.75%: 100%|██████████| 41/41 [00:10<00:00,  3.96it/s]"
     ]
    },
    {
     "name": "stdout",
     "output_type": "stream",
     "text": [
      "Domain loss,acc: 0.946133, 65.68% Target domain: tr_loss-2.583345, tr_acc-71.78%\n",
      "100,000c5dFalset10:70.42%:73.75% | 75,000c5dFalset10:67.92%:72.08%\n"
     ]
    },
    {
     "name": "stderr",
     "output_type": "stream",
     "text": [
      "\n",
      "epoch-25  lr=['0.0010000'], tr/val_loss:  0.113581/  1.907251, tr: 100.00%, val:  74.58%, val_best:  74.58%: 100%|██████████| 41/41 [00:10<00:00,  3.94it/s]"
     ]
    },
    {
     "name": "stdout",
     "output_type": "stream",
     "text": [
      "Domain loss,acc: 0.946492, 66.39% Target domain: tr_loss-2.612313, tr_acc-72.09%\n",
      "100,000c5dFalset10:74.58%:74.58% | 75,000c5dFalset10:72.08%:72.08%\n"
     ]
    },
    {
     "name": "stderr",
     "output_type": "stream",
     "text": [
      "\n",
      "epoch-26  lr=['0.0010000'], tr/val_loss:  0.095408/  1.982607, tr: 100.00%, val:  73.33%, val_best:  74.58%: 100%|██████████| 41/41 [00:10<00:00,  3.85it/s]"
     ]
    },
    {
     "name": "stdout",
     "output_type": "stream",
     "text": [
      "Domain loss,acc: 0.953076, 66.50% Target domain: tr_loss-2.668411, tr_acc-70.86%\n",
      "100,000c5dFalset10:73.33%:74.58% | 75,000c5dFalset10:69.58%:72.08%\n"
     ]
    },
    {
     "name": "stderr",
     "output_type": "stream",
     "text": [
      "\n",
      "epoch-27  lr=['0.0010000'], tr/val_loss:  0.088721/  1.992577, tr: 100.00%, val:  71.67%, val_best:  74.58%: 100%|██████████| 41/41 [00:11<00:00,  3.71it/s]"
     ]
    },
    {
     "name": "stdout",
     "output_type": "stream",
     "text": [
      "Domain loss,acc: 0.959042, 65.68% Target domain: tr_loss-2.699684, tr_acc-70.55%\n",
      "100,000c5dFalset10:71.67%:74.58% | 75,000c5dFalset10:72.08%:72.08%\n"
     ]
    },
    {
     "name": "stderr",
     "output_type": "stream",
     "text": [
      "\n",
      "epoch-28  lr=['0.0010000'], tr/val_loss:  0.078095/  1.989232, tr: 100.00%, val:  75.42%, val_best:  75.42%: 100%|██████████| 41/41 [00:10<00:00,  3.75it/s]"
     ]
    },
    {
     "name": "stdout",
     "output_type": "stream",
     "text": [
      "Domain loss,acc: 0.969076, 66.50% Target domain: tr_loss-2.751037, tr_acc-71.47%\n",
      "100,000c5dFalset10:75.42%:75.42% | 75,000c5dFalset10:71.25%:72.08%\n"
     ]
    },
    {
     "name": "stderr",
     "output_type": "stream",
     "text": [
      "\n",
      "epoch-29  lr=['0.0010000'], tr/val_loss:  0.067523/  2.004276, tr: 100.00%, val:  73.75%, val_best:  75.42%: 100%|██████████| 41/41 [00:10<00:00,  3.75it/s]"
     ]
    },
    {
     "name": "stdout",
     "output_type": "stream",
     "text": [
      "Domain loss,acc: 0.980687, 65.99% Target domain: tr_loss-2.807017, tr_acc-71.17%\n",
      "100,000c5dFalset10:73.75%:75.42% | 75,000c5dFalset10:71.67%:72.08%\n"
     ]
    },
    {
     "name": "stderr",
     "output_type": "stream",
     "text": [
      "\n",
      "epoch-30  lr=['0.0010000'], tr/val_loss:  0.059924/  2.049408, tr: 100.00%, val:  73.33%, val_best:  75.42%: 100%|██████████| 41/41 [00:10<00:00,  3.76it/s]"
     ]
    },
    {
     "name": "stdout",
     "output_type": "stream",
     "text": [
      "Domain loss,acc: 0.974844, 66.19% Target domain: tr_loss-2.804683, tr_acc-71.78%\n",
      "100,000c5dFalset10:73.33%:75.42% | 75,000c5dFalset10:70.83%:72.08%\n"
     ]
    },
    {
     "name": "stderr",
     "output_type": "stream",
     "text": [
      "\n",
      "epoch-31  lr=['0.0010000'], tr/val_loss:  0.054167/  2.055581, tr: 100.00%, val:  74.58%, val_best:  75.42%: 100%|██████████| 41/41 [00:10<00:00,  3.73it/s]"
     ]
    },
    {
     "name": "stdout",
     "output_type": "stream",
     "text": [
      "Domain loss,acc: 0.975026, 66.70% Target domain: tr_loss-2.816745, tr_acc-73.31%\n",
      "100,000c5dFalset10:74.58%:75.42% | 75,000c5dFalset10:71.67%:72.08%\n"
     ]
    },
    {
     "name": "stderr",
     "output_type": "stream",
     "text": [
      "\n",
      "epoch-32  lr=['0.0010000'], tr/val_loss:  0.051540/  2.076516, tr: 100.00%, val:  73.33%, val_best:  75.42%: 100%|██████████| 41/41 [00:10<00:00,  3.73it/s]"
     ]
    },
    {
     "name": "stdout",
     "output_type": "stream",
     "text": [
      "Domain loss,acc: 0.988571, 65.17% Target domain: tr_loss-2.862634, tr_acc-72.70%\n",
      "100,000c5dFalset10:73.33%:75.42% | 75,000c5dFalset10:71.67%:72.08%\n"
     ]
    },
    {
     "name": "stderr",
     "output_type": "stream",
     "text": [
      "\n",
      "epoch-33  lr=['0.0010000'], tr/val_loss:  0.047667/  2.102500, tr: 100.00%, val:  73.33%, val_best:  75.42%: 100%|██████████| 41/41 [00:11<00:00,  3.71it/s]"
     ]
    },
    {
     "name": "stdout",
     "output_type": "stream",
     "text": [
      "Domain loss,acc: 1.000864, 66.09% Target domain: tr_loss-2.907258, tr_acc-74.23%\n",
      "100,000c5dFalset10:73.33%:75.42% | 75,000c5dFalset10:72.08%:72.08%\n"
     ]
    },
    {
     "name": "stderr",
     "output_type": "stream",
     "text": [
      "\n",
      "epoch-34  lr=['0.0010000'], tr/val_loss:  0.041670/  2.130085, tr: 100.00%, val:  72.92%, val_best:  75.42%: 100%|██████████| 41/41 [00:11<00:00,  3.71it/s]"
     ]
    },
    {
     "name": "stdout",
     "output_type": "stream",
     "text": [
      "Domain loss,acc: 0.997018, 66.60% Target domain: tr_loss-2.907712, tr_acc-73.01%\n",
      "100,000c5dFalset10:72.92%:75.42% | 75,000c5dFalset10:73.33%:73.33%\n"
     ]
    },
    {
     "name": "stderr",
     "output_type": "stream",
     "text": [
      "\n",
      "epoch-35  lr=['0.0010000'], tr/val_loss:  0.037520/  2.147494, tr: 100.00%, val:  75.00%, val_best:  75.42%: 100%|██████████| 41/41 [00:10<00:00,  3.74it/s]"
     ]
    },
    {
     "name": "stdout",
     "output_type": "stream",
     "text": [
      "Domain loss,acc: 1.017390, 66.29% Target domain: tr_loss-2.977129, tr_acc-74.23%\n",
      "100,000c5dFalset10:75.00%:75.42% | 75,000c5dFalset10:74.17%:74.17%\n"
     ]
    },
    {
     "name": "stderr",
     "output_type": "stream",
     "text": [
      "\n",
      "epoch-36  lr=['0.0010000'], tr/val_loss:  0.037240/  2.165286, tr: 100.00%, val:  75.00%, val_best:  75.42%: 100%|██████████| 41/41 [00:11<00:00,  3.69it/s]"
     ]
    },
    {
     "name": "stdout",
     "output_type": "stream",
     "text": [
      "Domain loss,acc: 1.008968, 64.35% Target domain: tr_loss-2.952424, tr_acc-73.31%\n",
      "100,000c5dFalset10:75.00%:75.42% | 75,000c5dFalset10:72.08%:74.17%\n"
     ]
    },
    {
     "name": "stderr",
     "output_type": "stream",
     "text": [
      "\n",
      "epoch-37  lr=['0.0010000'], tr/val_loss:  0.036110/  2.198519, tr: 100.00%, val:  74.58%, val_best:  75.42%: 100%|██████████| 41/41 [00:10<00:00,  3.75it/s]"
     ]
    },
    {
     "name": "stdout",
     "output_type": "stream",
     "text": [
      "Domain loss,acc: 1.032122, 66.50% Target domain: tr_loss-3.024146, tr_acc-73.62%\n",
      "100,000c5dFalset10:74.58%:75.42% | 75,000c5dFalset10:72.50%:74.17%\n"
     ]
    },
    {
     "name": "stderr",
     "output_type": "stream",
     "text": [
      "\n",
      "epoch-38  lr=['0.0010000'], tr/val_loss:  0.035114/  2.177485, tr: 100.00%, val:  74.58%, val_best:  75.42%: 100%|██████████| 41/41 [00:10<00:00,  3.79it/s]"
     ]
    },
    {
     "name": "stdout",
     "output_type": "stream",
     "text": [
      "Domain loss,acc: 1.029811, 65.88% Target domain: tr_loss-3.019207, tr_acc-72.09%\n",
      "100,000c5dFalset10:74.58%:75.42% | 75,000c5dFalset10:73.75%:74.17%\n"
     ]
    },
    {
     "name": "stderr",
     "output_type": "stream",
     "text": [
      "\n",
      "epoch-39  lr=['0.0010000'], tr/val_loss:  0.029739/  2.186117, tr: 100.00%, val:  75.42%, val_best:  75.42%: 100%|██████████| 41/41 [00:10<00:00,  3.99it/s]"
     ]
    },
    {
     "name": "stdout",
     "output_type": "stream",
     "text": [
      "Domain loss,acc: 1.028150, 65.99% Target domain: tr_loss-3.024970, tr_acc-74.23%\n",
      "100,000c5dFalset10:75.42%:75.42% | 75,000c5dFalset10:73.33%:74.17%\n"
     ]
    },
    {
     "name": "stderr",
     "output_type": "stream",
     "text": [
      "\n",
      "epoch-40  lr=['0.0010000'], tr/val_loss:  0.027462/  2.189020, tr: 100.00%, val:  74.58%, val_best:  75.42%: 100%|██████████| 41/41 [00:12<00:00,  3.22it/s]"
     ]
    },
    {
     "name": "stdout",
     "output_type": "stream",
     "text": [
      "Domain loss,acc: 1.053741, 65.58% Target domain: tr_loss-3.106298, tr_acc-72.70%\n",
      "100,000c5dFalset10:74.58%:75.42% | 75,000c5dFalset10:75.00%:75.00%\n"
     ]
    },
    {
     "name": "stderr",
     "output_type": "stream",
     "text": [
      "\n",
      "epoch-41  lr=['0.0010000'], tr/val_loss:  0.026440/  2.202310, tr: 100.00%, val:  75.00%, val_best:  75.42%: 100%|██████████| 41/41 [00:11<00:00,  3.72it/s]"
     ]
    },
    {
     "name": "stdout",
     "output_type": "stream",
     "text": [
      "Domain loss,acc: 1.038895, 65.27% Target domain: tr_loss-3.063807, tr_acc-73.01%\n",
      "100,000c5dFalset10:75.00%:75.42% | 75,000c5dFalset10:72.08%:75.00%\n"
     ]
    },
    {
     "name": "stderr",
     "output_type": "stream",
     "text": [
      "\n",
      "epoch-42  lr=['0.0010000'], tr/val_loss:  0.025571/  2.214465, tr: 100.00%, val:  75.83%, val_best:  75.83%: 100%|██████████| 41/41 [00:10<00:00,  3.74it/s]"
     ]
    },
    {
     "name": "stdout",
     "output_type": "stream",
     "text": [
      "Domain loss,acc: 1.050779, 66.39% Target domain: tr_loss-3.101193, tr_acc-73.01%\n",
      "100,000c5dFalset10:75.83%:75.83% | 75,000c5dFalset10:73.75%:75.00%\n"
     ]
    },
    {
     "name": "stderr",
     "output_type": "stream",
     "text": [
      "\n",
      "epoch-43  lr=['0.0010000'], tr/val_loss:  0.024148/  2.240841, tr: 100.00%, val:  75.42%, val_best:  75.83%: 100%|██████████| 41/41 [00:11<00:00,  3.47it/s]"
     ]
    },
    {
     "name": "stdout",
     "output_type": "stream",
     "text": [
      "Domain loss,acc: 1.062702, 66.39% Target domain: tr_loss-3.139811, tr_acc-73.93%\n",
      "100,000c5dFalset10:75.42%:75.83% | 75,000c5dFalset10:73.33%:75.00%\n"
     ]
    },
    {
     "name": "stderr",
     "output_type": "stream",
     "text": [
      "\n",
      "epoch-44  lr=['0.0010000'], tr/val_loss:  0.023570/  2.266624, tr: 100.00%, val:  74.17%, val_best:  75.83%: 100%|██████████| 41/41 [00:11<00:00,  3.70it/s]"
     ]
    },
    {
     "name": "stdout",
     "output_type": "stream",
     "text": [
      "Domain loss,acc: 1.077617, 65.78% Target domain: tr_loss-3.185713, tr_acc-73.31%\n",
      "100,000c5dFalset10:74.17%:75.83% | 75,000c5dFalset10:72.50%:75.00%\n"
     ]
    },
    {
     "name": "stderr",
     "output_type": "stream",
     "text": [
      "\n",
      "epoch-45  lr=['0.0010000'], tr/val_loss:  0.022038/  2.272039, tr: 100.00%, val:  74.17%, val_best:  75.83%: 100%|██████████| 41/41 [00:11<00:00,  3.45it/s]"
     ]
    },
    {
     "name": "stdout",
     "output_type": "stream",
     "text": [
      "Domain loss,acc: 1.071368, 65.78% Target domain: tr_loss-3.170029, tr_acc-75.46%\n",
      "100,000c5dFalset10:74.17%:75.83% | 75,000c5dFalset10:73.33%:75.00%\n"
     ]
    },
    {
     "name": "stderr",
     "output_type": "stream",
     "text": [
      "\n",
      "epoch-46  lr=['0.0010000'], tr/val_loss:  0.021229/  2.283432, tr: 100.00%, val:  75.00%, val_best:  75.83%: 100%|██████████| 41/41 [00:10<00:00,  3.74it/s]"
     ]
    },
    {
     "name": "stdout",
     "output_type": "stream",
     "text": [
      "Domain loss,acc: 1.084756, 65.99% Target domain: tr_loss-3.211810, tr_acc-71.78%\n",
      "100,000c5dFalset10:75.00%:75.83% | 75,000c5dFalset10:72.50%:75.00%\n"
     ]
    },
    {
     "name": "stderr",
     "output_type": "stream",
     "text": [
      "\n",
      "epoch-47  lr=['0.0010000'], tr/val_loss:  0.021408/  2.302249, tr: 100.00%, val:  73.33%, val_best:  75.83%: 100%|██████████| 41/41 [00:13<00:00,  3.15it/s]"
     ]
    },
    {
     "name": "stdout",
     "output_type": "stream",
     "text": [
      "Domain loss,acc: 1.094778, 66.09% Target domain: tr_loss-3.241520, tr_acc-73.62%\n",
      "100,000c5dFalset10:73.33%:75.83% | 75,000c5dFalset10:72.92%:75.00%\n"
     ]
    },
    {
     "name": "stderr",
     "output_type": "stream",
     "text": [
      "\n",
      "epoch-48  lr=['0.0010000'], tr/val_loss:  0.020672/  2.308867, tr: 100.00%, val:  74.17%, val_best:  75.83%: 100%|██████████| 41/41 [00:12<00:00,  3.25it/s]"
     ]
    },
    {
     "name": "stdout",
     "output_type": "stream",
     "text": [
      "Domain loss,acc: 1.109412, 65.78% Target domain: tr_loss-3.286893, tr_acc-72.39%\n",
      "100,000c5dFalset10:74.17%:75.83% | 75,000c5dFalset10:73.33%:75.00%\n"
     ]
    },
    {
     "name": "stderr",
     "output_type": "stream",
     "text": [
      "\n",
      "epoch-49  lr=['0.0010000'], tr/val_loss:  0.020499/  2.311130, tr: 100.00%, val:  74.58%, val_best:  75.83%: 100%|██████████| 41/41 [00:11<00:00,  3.64it/s]"
     ]
    },
    {
     "name": "stdout",
     "output_type": "stream",
     "text": [
      "Domain loss,acc: 1.100366, 66.39% Target domain: tr_loss-3.260098, tr_acc-75.77%\n",
      "100,000c5dFalset10:74.58%:75.83% | 75,000c5dFalset10:71.25%:75.00%\n"
     ]
    },
    {
     "name": "stderr",
     "output_type": "stream",
     "text": [
      "\n",
      "epoch-50  lr=['0.0010000'], tr/val_loss:  0.018956/  2.340478, tr: 100.00%, val:  74.17%, val_best:  75.83%: 100%|██████████| 41/41 [00:13<00:00,  3.13it/s]"
     ]
    },
    {
     "name": "stdout",
     "output_type": "stream",
     "text": [
      "Domain loss,acc: 1.106801, 65.58% Target domain: tr_loss-3.282491, tr_acc-74.85%\n",
      "100,000c5dFalset10:74.17%:75.83% | 75,000c5dFalset10:71.25%:75.00%\n"
     ]
    },
    {
     "name": "stderr",
     "output_type": "stream",
     "text": [
      "\n",
      "epoch-51  lr=['0.0010000'], tr/val_loss:  0.017165/  2.325923, tr: 100.00%, val:  74.58%, val_best:  75.83%: 100%|██████████| 41/41 [00:11<00:00,  3.42it/s]"
     ]
    },
    {
     "name": "stdout",
     "output_type": "stream",
     "text": [
      "Domain loss,acc: 1.096027, 66.50% Target domain: tr_loss-3.253750, tr_acc-74.85%\n",
      "100,000c5dFalset10:74.58%:75.83% | 75,000c5dFalset10:72.50%:75.00%\n"
     ]
    },
    {
     "name": "stderr",
     "output_type": "stream",
     "text": [
      "\n",
      "epoch-52  lr=['0.0010000'], tr/val_loss:  0.016350/  2.352158, tr: 100.00%, val:  75.42%, val_best:  75.83%: 100%|██████████| 41/41 [00:11<00:00,  3.51it/s]"
     ]
    },
    {
     "name": "stdout",
     "output_type": "stream",
     "text": [
      "Domain loss,acc: 1.133057, 66.09% Target domain: tr_loss-3.366472, tr_acc-73.31%\n",
      "100,000c5dFalset10:75.42%:75.83% | 75,000c5dFalset10:72.50%:75.00%\n"
     ]
    },
    {
     "name": "stderr",
     "output_type": "stream",
     "text": [
      "\n",
      "epoch-53  lr=['0.0010000'], tr/val_loss:  0.016872/  2.354331, tr: 100.00%, val:  76.25%, val_best:  76.25%: 100%|██████████| 41/41 [00:12<00:00,  3.34it/s]"
     ]
    },
    {
     "name": "stdout",
     "output_type": "stream",
     "text": [
      "Domain loss,acc: 1.149440, 66.70% Target domain: tr_loss-3.414575, tr_acc-72.70%\n",
      "100,000c5dFalset10:76.25%:76.25% | 75,000c5dFalset10:71.25%:75.00%\n"
     ]
    },
    {
     "name": "stderr",
     "output_type": "stream",
     "text": [
      "\n",
      "epoch-54  lr=['0.0010000'], tr/val_loss:  0.015651/  2.367439, tr: 100.00%, val:  75.83%, val_best:  76.25%: 100%|██████████| 41/41 [00:11<00:00,  3.68it/s]"
     ]
    },
    {
     "name": "stdout",
     "output_type": "stream",
     "text": [
      "Domain loss,acc: 1.143131, 65.99% Target domain: tr_loss-3.398093, tr_acc-73.93%\n",
      "100,000c5dFalset10:75.83%:76.25% | 75,000c5dFalset10:70.83%:75.00%\n"
     ]
    },
    {
     "name": "stderr",
     "output_type": "stream",
     "text": [
      "\n",
      "epoch-55  lr=['0.0010000'], tr/val_loss:  0.014976/  2.378985, tr: 100.00%, val:  74.58%, val_best:  76.25%: 100%|██████████| 41/41 [00:10<00:00,  3.81it/s]"
     ]
    },
    {
     "name": "stdout",
     "output_type": "stream",
     "text": [
      "Domain loss,acc: 1.152079, 66.50% Target domain: tr_loss-3.426283, tr_acc-72.70%\n",
      "100,000c5dFalset10:74.58%:76.25% | 75,000c5dFalset10:72.50%:75.00%\n"
     ]
    },
    {
     "name": "stderr",
     "output_type": "stream",
     "text": [
      "\n",
      "epoch-56  lr=['0.0010000'], tr/val_loss:  0.014503/  2.372866, tr: 100.00%, val:  74.58%, val_best:  76.25%: 100%|██████████| 41/41 [00:10<00:00,  3.86it/s]"
     ]
    },
    {
     "name": "stdout",
     "output_type": "stream",
     "text": [
      "Domain loss,acc: 1.155782, 66.39% Target domain: tr_loss-3.438339, tr_acc-73.31%\n",
      "100,000c5dFalset10:74.58%:76.25% | 75,000c5dFalset10:70.83%:75.00%\n"
     ]
    },
    {
     "name": "stderr",
     "output_type": "stream",
     "text": [
      "\n",
      "epoch-57  lr=['0.0010000'], tr/val_loss:  0.014315/  2.403298, tr: 100.00%, val:  73.75%, val_best:  76.25%: 100%|██████████| 41/41 [00:10<00:00,  3.80it/s]"
     ]
    },
    {
     "name": "stdout",
     "output_type": "stream",
     "text": [
      "Domain loss,acc: 1.160374, 66.09% Target domain: tr_loss-3.452494, tr_acc-73.31%\n",
      "100,000c5dFalset10:73.75%:76.25% | 75,000c5dFalset10:72.08%:75.00%\n"
     ]
    },
    {
     "name": "stderr",
     "output_type": "stream",
     "text": [
      "\n",
      "epoch-58  lr=['0.0010000'], tr/val_loss:  0.013678/  2.396518, tr: 100.00%, val:  74.17%, val_best:  76.25%: 100%|██████████| 41/41 [00:10<00:00,  3.88it/s]"
     ]
    },
    {
     "name": "stdout",
     "output_type": "stream",
     "text": [
      "Domain loss,acc: 1.155036, 66.19% Target domain: tr_loss-3.437750, tr_acc-73.62%\n",
      "100,000c5dFalset10:74.17%:76.25% | 75,000c5dFalset10:72.08%:75.00%\n"
     ]
    },
    {
     "name": "stderr",
     "output_type": "stream",
     "text": [
      "\n",
      "epoch-59  lr=['0.0010000'], tr/val_loss:  0.012372/  2.415471, tr: 100.00%, val:  73.75%, val_best:  76.25%: 100%|██████████| 41/41 [00:11<00:00,  3.72it/s]"
     ]
    },
    {
     "name": "stdout",
     "output_type": "stream",
     "text": [
      "Domain loss,acc: 1.163469, 66.09% Target domain: tr_loss-3.465661, tr_acc-73.62%\n",
      "100,000c5dFalset10:73.75%:76.25% | 75,000c5dFalset10:72.08%:75.00%\n"
     ]
    },
    {
     "name": "stderr",
     "output_type": "stream",
     "text": [
      "\n",
      "epoch-60  lr=['0.0010000'], tr/val_loss:  0.013403/  2.411477, tr: 100.00%, val:  74.17%, val_best:  76.25%: 100%|██████████| 41/41 [00:11<00:00,  3.68it/s]"
     ]
    },
    {
     "name": "stdout",
     "output_type": "stream",
     "text": [
      "Domain loss,acc: 1.162808, 65.99% Target domain: tr_loss-3.461618, tr_acc-74.23%\n",
      "100,000c5dFalset10:74.17%:76.25% | 75,000c5dFalset10:71.25%:75.00%\n"
     ]
    },
    {
     "name": "stderr",
     "output_type": "stream",
     "text": [
      "\n",
      "epoch-61  lr=['0.0010000'], tr/val_loss:  0.012501/  2.441663, tr: 100.00%, val:  75.00%, val_best:  76.25%: 100%|██████████| 41/41 [00:10<00:00,  3.81it/s]"
     ]
    },
    {
     "name": "stdout",
     "output_type": "stream",
     "text": [
      "Domain loss,acc: 1.165250, 66.29% Target domain: tr_loss-3.470747, tr_acc-73.62%\n",
      "100,000c5dFalset10:75.00%:76.25% | 75,000c5dFalset10:72.08%:75.00%\n"
     ]
    },
    {
     "name": "stderr",
     "output_type": "stream",
     "text": [
      "\n",
      "epoch-62  lr=['0.0010000'], tr/val_loss:  0.012108/  2.457995, tr: 100.00%, val:  75.42%, val_best:  76.25%: 100%|██████████| 41/41 [00:11<00:00,  3.72it/s]"
     ]
    },
    {
     "name": "stdout",
     "output_type": "stream",
     "text": [
      "Domain loss,acc: 1.192583, 66.39% Target domain: tr_loss-3.553530, tr_acc-74.85%\n",
      "100,000c5dFalset10:75.42%:76.25% | 75,000c5dFalset10:72.50%:75.00%\n"
     ]
    },
    {
     "name": "stderr",
     "output_type": "stream",
     "text": [
      "\n",
      "epoch-63  lr=['0.0010000'], tr/val_loss:  0.012072/  2.456146, tr: 100.00%, val:  74.17%, val_best:  76.25%: 100%|██████████| 41/41 [00:11<00:00,  3.60it/s]"
     ]
    },
    {
     "name": "stdout",
     "output_type": "stream",
     "text": [
      "Domain loss,acc: 1.195630, 66.50% Target domain: tr_loss-3.562746, tr_acc-73.93%\n",
      "100,000c5dFalset10:74.17%:76.25% | 75,000c5dFalset10:71.67%:75.00%\n"
     ]
    },
    {
     "name": "stderr",
     "output_type": "stream",
     "text": [
      "\n",
      "epoch-64  lr=['0.0010000'], tr/val_loss:  0.011560/  2.470006, tr: 100.00%, val:  74.17%, val_best:  76.25%: 100%|██████████| 41/41 [00:11<00:00,  3.69it/s]"
     ]
    },
    {
     "name": "stdout",
     "output_type": "stream",
     "text": [
      "Domain loss,acc: 1.186854, 66.29% Target domain: tr_loss-3.537443, tr_acc-73.93%\n",
      "100,000c5dFalset10:74.17%:76.25% | 75,000c5dFalset10:71.25%:75.00%\n"
     ]
    },
    {
     "name": "stderr",
     "output_type": "stream",
     "text": [
      "\n",
      "epoch-65  lr=['0.0010000'], tr/val_loss:  0.010749/  2.474175, tr: 100.00%, val:  74.17%, val_best:  76.25%: 100%|██████████| 41/41 [00:11<00:00,  3.61it/s]"
     ]
    },
    {
     "name": "stdout",
     "output_type": "stream",
     "text": [
      "Domain loss,acc: 1.230726, 66.60% Target domain: tr_loss-3.670680, tr_acc-73.31%\n",
      "100,000c5dFalset10:74.17%:76.25% | 75,000c5dFalset10:72.08%:75.00%\n"
     ]
    },
    {
     "name": "stderr",
     "output_type": "stream",
     "text": [
      "\n",
      "epoch-66  lr=['0.0010000'], tr/val_loss:  0.011239/  2.503961, tr: 100.00%, val:  72.92%, val_best:  76.25%: 100%|██████████| 41/41 [00:11<00:00,  3.57it/s]"
     ]
    },
    {
     "name": "stdout",
     "output_type": "stream",
     "text": [
      "Domain loss,acc: 1.209548, 66.09% Target domain: tr_loss-3.606165, tr_acc-73.31%\n",
      "100,000c5dFalset10:72.92%:76.25% | 75,000c5dFalset10:71.67%:75.00%\n"
     ]
    },
    {
     "name": "stderr",
     "output_type": "stream",
     "text": [
      "\n",
      "epoch-67  lr=['0.0010000'], tr/val_loss:  0.010672/  2.494889, tr: 100.00%, val:  74.17%, val_best:  76.25%: 100%|██████████| 41/41 [00:10<00:00,  3.76it/s]"
     ]
    },
    {
     "name": "stdout",
     "output_type": "stream",
     "text": [
      "Domain loss,acc: 1.192646, 66.39% Target domain: tr_loss-3.556594, tr_acc-73.62%\n",
      "100,000c5dFalset10:74.17%:76.25% | 75,000c5dFalset10:72.50%:75.00%\n"
     ]
    },
    {
     "name": "stderr",
     "output_type": "stream",
     "text": [
      "\n",
      "epoch-68  lr=['0.0010000'], tr/val_loss:  0.009586/  2.502709, tr: 100.00%, val:  74.17%, val_best:  76.25%: 100%|██████████| 41/41 [00:11<00:00,  3.70it/s]"
     ]
    },
    {
     "name": "stdout",
     "output_type": "stream",
     "text": [
      "Domain loss,acc: 1.235154, 66.39% Target domain: tr_loss-3.686291, tr_acc-73.93%\n",
      "100,000c5dFalset10:74.17%:76.25% | 75,000c5dFalset10:72.92%:75.00%\n"
     ]
    },
    {
     "name": "stderr",
     "output_type": "stream",
     "text": [
      "\n",
      "epoch-69  lr=['0.0010000'], tr/val_loss:  0.010056/  2.516766, tr: 100.00%, val:  74.58%, val_best:  76.25%: 100%|██████████| 41/41 [00:11<00:00,  3.60it/s]"
     ]
    },
    {
     "name": "stdout",
     "output_type": "stream",
     "text": [
      "Domain loss,acc: 1.198944, 66.39% Target domain: tr_loss-3.576721, tr_acc-73.31%\n",
      "100,000c5dFalset10:74.58%:76.25% | 75,000c5dFalset10:72.92%:75.00%\n"
     ]
    },
    {
     "name": "stderr",
     "output_type": "stream",
     "text": [
      "\n",
      "epoch-70  lr=['0.0010000'], tr/val_loss:  0.010865/  2.530745, tr: 100.00%, val:  73.33%, val_best:  76.25%: 100%|██████████| 41/41 [00:11<00:00,  3.57it/s]"
     ]
    },
    {
     "name": "stdout",
     "output_type": "stream",
     "text": [
      "Domain loss,acc: 1.209281, 66.60% Target domain: tr_loss-3.606113, tr_acc-72.70%\n",
      "100,000c5dFalset10:73.33%:76.25% | 75,000c5dFalset10:71.67%:75.00%\n"
     ]
    },
    {
     "name": "stderr",
     "output_type": "stream",
     "text": [
      "\n",
      "epoch-71  lr=['0.0010000'], tr/val_loss:  0.009605/  2.517399, tr: 100.00%, val:  75.00%, val_best:  76.25%: 100%|██████████| 41/41 [00:11<00:00,  3.63it/s]"
     ]
    },
    {
     "name": "stdout",
     "output_type": "stream",
     "text": [
      "Domain loss,acc: 1.214521, 66.70% Target domain: tr_loss-3.624352, tr_acc-72.70%\n",
      "100,000c5dFalset10:75.00%:76.25% | 75,000c5dFalset10:71.25%:75.00%\n"
     ]
    },
    {
     "name": "stderr",
     "output_type": "stream",
     "text": [
      "\n",
      "epoch-72  lr=['0.0010000'], tr/val_loss:  0.009854/  2.529762, tr: 100.00%, val:  74.58%, val_best:  76.25%: 100%|██████████| 41/41 [00:11<00:00,  3.69it/s]"
     ]
    },
    {
     "name": "stdout",
     "output_type": "stream",
     "text": [
      "Domain loss,acc: 1.208227, 66.70% Target domain: tr_loss-3.604973, tr_acc-72.70%\n",
      "100,000c5dFalset10:74.58%:76.25% | 75,000c5dFalset10:72.92%:75.00%\n"
     ]
    },
    {
     "name": "stderr",
     "output_type": "stream",
     "text": [
      "\n",
      "epoch-73  lr=['0.0010000'], tr/val_loss:  0.009175/  2.550456, tr: 100.00%, val:  72.92%, val_best:  76.25%: 100%|██████████| 41/41 [00:10<00:00,  3.76it/s]"
     ]
    },
    {
     "name": "stdout",
     "output_type": "stream",
     "text": [
      "Domain loss,acc: 1.229763, 66.70% Target domain: tr_loss-3.670938, tr_acc-73.01%\n",
      "100,000c5dFalset10:72.92%:76.25% | 75,000c5dFalset10:72.08%:75.00%\n"
     ]
    },
    {
     "name": "stderr",
     "output_type": "stream",
     "text": [
      "\n",
      "epoch-74  lr=['0.0010000'], tr/val_loss:  0.008919/  2.523962, tr: 100.00%, val:  76.67%, val_best:  76.67%: 100%|██████████| 41/41 [00:11<00:00,  3.66it/s]"
     ]
    },
    {
     "name": "stdout",
     "output_type": "stream",
     "text": [
      "Domain loss,acc: 1.220504, 66.60% Target domain: tr_loss-3.643672, tr_acc-73.01%\n",
      "100,000c5dFalset10:76.67%:76.67% | 75,000c5dFalset10:72.50%:75.00%\n"
     ]
    },
    {
     "name": "stderr",
     "output_type": "stream",
     "text": [
      "\n",
      "epoch-75  lr=['0.0010000'], tr/val_loss:  0.008564/  2.523321, tr: 100.00%, val:  74.58%, val_best:  76.67%: 100%|██████████| 41/41 [00:12<00:00,  3.23it/s]"
     ]
    },
    {
     "name": "stdout",
     "output_type": "stream",
     "text": [
      "Domain loss,acc: 1.242590, 66.70% Target domain: tr_loss-3.710641, tr_acc-73.31%\n",
      "100,000c5dFalset10:74.58%:76.67% | 75,000c5dFalset10:72.92%:75.00%\n"
     ]
    },
    {
     "name": "stderr",
     "output_type": "stream",
     "text": [
      "\n",
      "epoch-76  lr=['0.0010000'], tr/val_loss:  0.008449/  2.527605, tr: 100.00%, val:  77.08%, val_best:  77.08%: 100%|██████████| 41/41 [00:12<00:00,  3.22it/s]"
     ]
    },
    {
     "name": "stdout",
     "output_type": "stream",
     "text": [
      "Domain loss,acc: 1.236996, 66.60% Target domain: tr_loss-3.694089, tr_acc-73.62%\n",
      "100,000c5dFalset10:77.08%:77.08% | 75,000c5dFalset10:72.92%:75.00%\n"
     ]
    },
    {
     "name": "stderr",
     "output_type": "stream",
     "text": [
      "\n",
      "epoch-77  lr=['0.0010000'], tr/val_loss:  0.008571/  2.527497, tr: 100.00%, val:  76.67%, val_best:  77.08%: 100%|██████████| 41/41 [00:11<00:00,  3.43it/s]"
     ]
    },
    {
     "name": "stdout",
     "output_type": "stream",
     "text": [
      "Domain loss,acc: 1.245497, 66.70% Target domain: tr_loss-3.719347, tr_acc-73.62%\n",
      "100,000c5dFalset10:76.67%:77.08% | 75,000c5dFalset10:73.33%:75.00%\n"
     ]
    },
    {
     "name": "stderr",
     "output_type": "stream",
     "text": [
      "\n",
      "epoch-78  lr=['0.0010000'], tr/val_loss:  0.008427/  2.538519, tr: 100.00%, val:  76.25%, val_best:  77.08%: 100%|██████████| 41/41 [00:11<00:00,  3.62it/s]"
     ]
    },
    {
     "name": "stdout",
     "output_type": "stream",
     "text": [
      "Domain loss,acc: 1.231461, 66.60% Target domain: tr_loss-3.677529, tr_acc-72.70%\n",
      "100,000c5dFalset10:76.25%:77.08% | 75,000c5dFalset10:72.08%:75.00%\n"
     ]
    },
    {
     "name": "stderr",
     "output_type": "stream",
     "text": [
      "\n",
      "epoch-79  lr=['0.0010000'], tr/val_loss:  0.008894/  2.541969, tr: 100.00%, val:  75.00%, val_best:  77.08%: 100%|██████████| 41/41 [00:10<00:00,  3.85it/s]"
     ]
    },
    {
     "name": "stdout",
     "output_type": "stream",
     "text": [
      "Domain loss,acc: 1.259242, 66.60% Target domain: tr_loss-3.759938, tr_acc-72.70%\n",
      "100,000c5dFalset10:75.00%:77.08% | 75,000c5dFalset10:72.92%:75.00%\n"
     ]
    },
    {
     "name": "stderr",
     "output_type": "stream",
     "text": [
      "\n",
      "epoch-80  lr=['0.0010000'], tr/val_loss:  0.008598/  2.566667, tr: 100.00%, val:  73.33%, val_best:  77.08%:  98%|█████████▊| 40/41 [00:13<00:00,  7.18it/s]"
     ]
    },
    {
     "name": "stdout",
     "output_type": "stream",
     "text": [
      "Domain loss,acc: 1.240059, 66.70% Target domain: tr_loss-3.702983, tr_acc-73.31%\n",
      "100,000c5dFalset10:73.33%:77.08% | 75,000c5dFalset10:72.50%:75.00%\n"
     ]
    },
    {
     "name": "stderr",
     "output_type": "stream",
     "text": [
      "epoch-80  lr=['0.0010000'], tr/val_loss:  0.008598/  2.566667, tr: 100.00%, val:  73.33%, val_best:  77.08%: 100%|██████████| 41/41 [00:15<00:00,  2.62it/s]\n",
      "epoch-81  lr=['0.0010000'], tr/val_loss:  0.008108/  2.558017, tr: 100.00%, val:  74.17%, val_best:  77.08%: 100%|██████████| 41/41 [00:11<00:00,  3.71it/s]"
     ]
    },
    {
     "name": "stdout",
     "output_type": "stream",
     "text": [
      "Domain loss,acc: 1.247903, 66.70% Target domain: tr_loss-3.727492, tr_acc-73.01%\n",
      "100,000c5dFalset10:74.17%:77.08% | 75,000c5dFalset10:72.50%:75.00%\n"
     ]
    },
    {
     "name": "stderr",
     "output_type": "stream",
     "text": [
      "\n",
      "epoch-82  lr=['0.0010000'], tr/val_loss:  0.007643/  2.576539, tr: 100.00%, val:  75.00%, val_best:  77.08%: 100%|██████████| 41/41 [00:10<00:00,  3.75it/s]"
     ]
    },
    {
     "name": "stdout",
     "output_type": "stream",
     "text": [
      "Domain loss,acc: 1.274705, 66.70% Target domain: tr_loss-3.808831, tr_acc-73.62%\n",
      "100,000c5dFalset10:75.00%:77.08% | 75,000c5dFalset10:73.33%:75.00%\n"
     ]
    },
    {
     "name": "stderr",
     "output_type": "stream",
     "text": [
      "\n",
      "epoch-83  lr=['0.0010000'], tr/val_loss:  0.007768/  2.581851, tr: 100.00%, val:  75.00%, val_best:  77.08%: 100%|██████████| 41/41 [00:10<00:00,  3.74it/s]"
     ]
    },
    {
     "name": "stdout",
     "output_type": "stream",
     "text": [
      "Domain loss,acc: 1.269795, 66.70% Target domain: tr_loss-3.793848, tr_acc-73.31%\n",
      "100,000c5dFalset10:75.00%:77.08% | 75,000c5dFalset10:72.92%:75.00%\n"
     ]
    },
    {
     "name": "stderr",
     "output_type": "stream",
     "text": [
      "\n",
      "epoch-84  lr=['0.0010000'], tr/val_loss:  0.007667/  2.581926, tr: 100.00%, val:  75.42%, val_best:  77.08%: 100%|██████████| 41/41 [00:10<00:00,  3.76it/s]"
     ]
    },
    {
     "name": "stdout",
     "output_type": "stream",
     "text": [
      "Domain loss,acc: 1.261345, 66.70% Target domain: tr_loss-3.768700, tr_acc-73.31%\n",
      "100,000c5dFalset10:75.42%:77.08% | 75,000c5dFalset10:73.33%:75.00%\n"
     ]
    },
    {
     "name": "stderr",
     "output_type": "stream",
     "text": [
      "\n",
      "epoch-85  lr=['0.0010000'], tr/val_loss:  0.007526/  2.606980, tr: 100.00%, val:  73.33%, val_best:  77.08%: 100%|██████████| 41/41 [00:10<00:00,  3.89it/s]"
     ]
    },
    {
     "name": "stdout",
     "output_type": "stream",
     "text": [
      "Domain loss,acc: 1.266467, 66.70% Target domain: tr_loss-3.784350, tr_acc-73.31%\n",
      "100,000c5dFalset10:73.33%:77.08% | 75,000c5dFalset10:72.92%:75.00%\n"
     ]
    },
    {
     "name": "stderr",
     "output_type": "stream",
     "text": [
      "\n",
      "epoch-86  lr=['0.0010000'], tr/val_loss:  0.007490/  2.612365, tr: 100.00%, val:  75.00%, val_best:  77.08%: 100%|██████████| 41/41 [00:10<00:00,  3.80it/s]"
     ]
    },
    {
     "name": "stdout",
     "output_type": "stream",
     "text": [
      "Domain loss,acc: 1.246827, 66.70% Target domain: tr_loss-3.725501, tr_acc-73.31%\n",
      "100,000c5dFalset10:75.00%:77.08% | 75,000c5dFalset10:72.92%:75.00%\n"
     ]
    },
    {
     "name": "stderr",
     "output_type": "stream",
     "text": [
      "\n",
      "epoch-87  lr=['0.0010000'], tr/val_loss:  0.006947/  2.621948, tr: 100.00%, val:  75.00%, val_best:  77.08%: 100%|██████████| 41/41 [00:11<00:00,  3.60it/s]"
     ]
    },
    {
     "name": "stdout",
     "output_type": "stream",
     "text": [
      "Domain loss,acc: 1.298044, 66.70% Target domain: tr_loss-3.880239, tr_acc-73.62%\n",
      "100,000c5dFalset10:75.00%:77.08% | 75,000c5dFalset10:72.08%:75.00%\n"
     ]
    },
    {
     "name": "stderr",
     "output_type": "stream",
     "text": [
      "\n",
      "epoch-88  lr=['0.0010000'], tr/val_loss:  0.007339/  2.640366, tr: 100.00%, val:  75.00%, val_best:  77.08%: 100%|██████████| 41/41 [00:10<00:00,  1.03s/it]"
     ]
    },
    {
     "name": "stdout",
     "output_type": "stream",
     "text": [
      "Domain loss,acc: 1.268353, 66.70% Target domain: tr_loss-3.790382, tr_acc-73.31%\n",
      "100,000c5dFalset10:75.00%:77.08% | 75,000c5dFalset10:71.67%:75.00%\n"
     ]
    },
    {
     "name": "stderr",
     "output_type": "stream",
     "text": [
      "epoch-88  lr=['0.0010000'], tr/val_loss:  0.007339/  2.640366, tr: 100.00%, val:  75.00%, val_best:  77.08%: 100%|██████████| 41/41 [00:10<00:00,  3.80it/s]\n",
      "epoch-89  lr=['0.0010000'], tr/val_loss:  0.007732/  2.637155, tr: 100.00%, val:  74.58%, val_best:  77.08%: 100%|██████████| 41/41 [00:11<00:00,  3.66it/s]"
     ]
    },
    {
     "name": "stdout",
     "output_type": "stream",
     "text": [
      "Domain loss,acc: 1.271373, 66.70% Target domain: tr_loss-3.798655, tr_acc-72.39%\n",
      "100,000c5dFalset10:74.58%:77.08% | 75,000c5dFalset10:70.83%:75.00%\n"
     ]
    },
    {
     "name": "stderr",
     "output_type": "stream",
     "text": [
      "\n",
      "epoch-90  lr=['0.0010000'], tr/val_loss:  0.006787/  2.633633, tr: 100.00%, val:  75.83%, val_best:  77.08%: 100%|██████████| 41/41 [00:11<00:00,  3.62it/s]"
     ]
    },
    {
     "name": "stdout",
     "output_type": "stream",
     "text": [
      "Domain loss,acc: 1.283123, 66.70% Target domain: tr_loss-3.835793, tr_acc-73.31%\n",
      "100,000c5dFalset10:75.83%:77.08% | 75,000c5dFalset10:71.25%:75.00%\n"
     ]
    },
    {
     "name": "stderr",
     "output_type": "stream",
     "text": [
      "\n",
      "epoch-91  lr=['0.0010000'], tr/val_loss:  0.006781/  2.635863, tr: 100.00%, val:  77.08%, val_best:  77.08%: 100%|██████████| 41/41 [00:11<00:00,  3.60it/s]"
     ]
    },
    {
     "name": "stdout",
     "output_type": "stream",
     "text": [
      "Domain loss,acc: 1.293283, 66.70% Target domain: tr_loss-3.866287, tr_acc-73.93%\n",
      "100,000c5dFalset10:77.08%:77.08% | 75,000c5dFalset10:71.25%:75.00%\n"
     ]
    },
    {
     "name": "stderr",
     "output_type": "stream",
     "text": [
      "\n",
      "epoch-92  lr=['0.0010000'], tr/val_loss:  0.006946/  2.652638, tr: 100.00%, val:  75.42%, val_best:  77.08%: 100%|██████████| 41/41 [00:11<00:00,  3.60it/s]"
     ]
    },
    {
     "name": "stdout",
     "output_type": "stream",
     "text": [
      "Domain loss,acc: 1.296968, 66.70% Target domain: tr_loss-3.877013, tr_acc-73.62%\n",
      "100,000c5dFalset10:75.42%:77.08% | 75,000c5dFalset10:70.83%:75.00%\n"
     ]
    },
    {
     "name": "stderr",
     "output_type": "stream",
     "text": [
      "\n",
      "epoch-93  lr=['0.0010000'], tr/val_loss:  0.006452/  2.650102, tr: 100.00%, val:  74.58%, val_best:  77.08%: 100%|██████████| 41/41 [00:11<00:00,  3.67it/s]"
     ]
    },
    {
     "name": "stdout",
     "output_type": "stream",
     "text": [
      "Domain loss,acc: 1.274585, 66.70% Target domain: tr_loss-3.810850, tr_acc-74.85%\n",
      "100,000c5dFalset10:74.58%:77.08% | 75,000c5dFalset10:70.83%:75.00%\n"
     ]
    },
    {
     "name": "stderr",
     "output_type": "stream",
     "text": [
      "\n",
      "epoch-94  lr=['0.0010000'], tr/val_loss:  0.006633/  2.659578, tr: 100.00%, val:  75.42%, val_best:  77.08%: 100%|██████████| 41/41 [00:13<00:00,  3.14it/s]"
     ]
    },
    {
     "name": "stdout",
     "output_type": "stream",
     "text": [
      "Domain loss,acc: 1.316804, 66.70% Target domain: tr_loss-3.937147, tr_acc-73.62%\n",
      "100,000c5dFalset10:75.42%:77.08% | 75,000c5dFalset10:71.67%:75.00%\n"
     ]
    },
    {
     "name": "stderr",
     "output_type": "stream",
     "text": [
      "\n",
      "epoch-95  lr=['0.0010000'], tr/val_loss:  0.006723/  2.663822, tr: 100.00%, val:  74.17%, val_best:  77.08%: 100%|██████████| 41/41 [00:11<00:00,  3.62it/s]"
     ]
    },
    {
     "name": "stdout",
     "output_type": "stream",
     "text": [
      "Domain loss,acc: 1.301358, 66.70% Target domain: tr_loss-3.890630, tr_acc-73.31%\n",
      "100,000c5dFalset10:74.17%:77.08% | 75,000c5dFalset10:72.08%:75.00%\n"
     ]
    },
    {
     "name": "stderr",
     "output_type": "stream",
     "text": [
      "\n",
      "epoch-96  lr=['0.0010000'], tr/val_loss:  0.006515/  2.677454, tr: 100.00%, val:  75.42%, val_best:  77.08%: 100%|██████████| 41/41 [00:11<00:00,  3.63it/s]"
     ]
    },
    {
     "name": "stdout",
     "output_type": "stream",
     "text": [
      "Domain loss,acc: 1.298858, 66.70% Target domain: tr_loss-3.883544, tr_acc-74.85%\n",
      "100,000c5dFalset10:75.42%:77.08% | 75,000c5dFalset10:72.50%:75.00%\n"
     ]
    },
    {
     "name": "stderr",
     "output_type": "stream",
     "text": [
      "\n",
      "epoch-97  lr=['0.0010000'], tr/val_loss:  0.006105/  2.666909, tr: 100.00%, val:  76.67%, val_best:  77.08%: 100%|██████████| 41/41 [00:10<00:00,  3.74it/s]"
     ]
    },
    {
     "name": "stdout",
     "output_type": "stream",
     "text": [
      "Domain loss,acc: 1.287639, 66.70% Target domain: tr_loss-3.850708, tr_acc-73.31%\n",
      "100,000c5dFalset10:76.67%:77.08% | 75,000c5dFalset10:73.33%:75.00%\n"
     ]
    },
    {
     "name": "stderr",
     "output_type": "stream",
     "text": [
      "\n",
      "epoch-98  lr=['0.0010000'], tr/val_loss:  0.006417/  2.676521, tr: 100.00%, val:  76.67%, val_best:  77.08%: 100%|██████████| 41/41 [00:11<00:00,  3.58it/s]"
     ]
    },
    {
     "name": "stdout",
     "output_type": "stream",
     "text": [
      "Domain loss,acc: 1.294665, 66.70% Target domain: tr_loss-3.871162, tr_acc-74.54%\n",
      "100,000c5dFalset10:76.67%:77.08% | 75,000c5dFalset10:73.75%:75.00%\n"
     ]
    },
    {
     "name": "stderr",
     "output_type": "stream",
     "text": [
      "\n",
      "epoch-99  lr=['0.0010000'], tr/val_loss:  0.006162/  2.669689, tr: 100.00%, val:  75.83%, val_best:  77.08%: 100%|██████████| 41/41 [00:11<00:00,  3.65it/s]"
     ]
    },
    {
     "name": "stdout",
     "output_type": "stream",
     "text": [
      "Domain loss,acc: 1.302776, 66.70% Target domain: tr_loss-3.896006, tr_acc-73.31%\n",
      "100,000c5dFalset10:75.83%:77.08% | 75,000c5dFalset10:73.33%:75.00%\n"
     ]
    },
    {
     "name": "stderr",
     "output_type": "stream",
     "text": [
      "\n",
      "epoch-100 lr=['0.0010000'], tr/val_loss:  0.005682/  2.673918, tr: 100.00%, val:  75.42%, val_best:  77.08%: 100%|██████████| 41/41 [00:11<00:00,  3.69it/s]"
     ]
    },
    {
     "name": "stdout",
     "output_type": "stream",
     "text": [
      "Domain loss,acc: 1.308349, 66.70% Target domain: tr_loss-3.913682, tr_acc-74.54%\n",
      "100,000c5dFalset10:75.42%:77.08% | 75,000c5dFalset10:73.33%:75.00%\n"
     ]
    },
    {
     "name": "stderr",
     "output_type": "stream",
     "text": [
      "\n",
      "epoch-101 lr=['0.0010000'], tr/val_loss:  0.005804/  2.684846, tr: 100.00%, val:  75.83%, val_best:  77.08%: 100%|██████████| 41/41 [00:11<00:00,  3.55it/s]"
     ]
    },
    {
     "name": "stdout",
     "output_type": "stream",
     "text": [
      "Domain loss,acc: 1.302751, 66.70% Target domain: tr_loss-3.896644, tr_acc-73.93%\n",
      "100,000c5dFalset10:75.83%:77.08% | 75,000c5dFalset10:73.33%:75.00%\n"
     ]
    },
    {
     "name": "stderr",
     "output_type": "stream",
     "text": [
      "\n",
      "epoch-102 lr=['0.0010000'], tr/val_loss:  0.005649/  2.680637, tr: 100.00%, val:  76.25%, val_best:  77.08%: 100%|██████████| 41/41 [00:10<00:00,  3.86it/s]"
     ]
    },
    {
     "name": "stdout",
     "output_type": "stream",
     "text": [
      "Domain loss,acc: 1.333275, 66.70% Target domain: tr_loss-3.988528, tr_acc-74.54%\n",
      "100,000c5dFalset10:76.25%:77.08% | 75,000c5dFalset10:72.50%:75.00%\n"
     ]
    },
    {
     "name": "stderr",
     "output_type": "stream",
     "text": [
      "\n",
      "epoch-103 lr=['0.0010000'], tr/val_loss:  0.005974/  2.690721, tr: 100.00%, val:  75.42%, val_best:  77.08%: 100%|██████████| 41/41 [00:10<00:00,  3.75it/s]"
     ]
    },
    {
     "name": "stdout",
     "output_type": "stream",
     "text": [
      "Domain loss,acc: 1.325351, 66.70% Target domain: tr_loss-3.964103, tr_acc-73.62%\n",
      "100,000c5dFalset10:75.42%:77.08% | 75,000c5dFalset10:72.50%:75.00%\n"
     ]
    },
    {
     "name": "stderr",
     "output_type": "stream",
     "text": [
      "\n",
      "epoch-104 lr=['0.0010000'], tr/val_loss:  0.005536/  2.686484, tr: 100.00%, val:  75.42%, val_best:  77.08%: 100%|██████████| 41/41 [00:11<00:00,  3.62it/s]"
     ]
    },
    {
     "name": "stdout",
     "output_type": "stream",
     "text": [
      "Domain loss,acc: 1.306417, 66.70% Target domain: tr_loss-3.908181, tr_acc-74.23%\n",
      "100,000c5dFalset10:75.42%:77.08% | 75,000c5dFalset10:72.08%:75.00%\n"
     ]
    },
    {
     "name": "stderr",
     "output_type": "stream",
     "text": [
      "\n",
      "epoch-105 lr=['0.0010000'], tr/val_loss:  0.005634/  2.687205, tr: 100.00%, val:  75.42%, val_best:  77.08%: 100%|██████████| 41/41 [00:10<00:00,  3.74it/s]"
     ]
    },
    {
     "name": "stdout",
     "output_type": "stream",
     "text": [
      "Domain loss,acc: 1.309053, 66.70% Target domain: tr_loss-3.915892, tr_acc-74.23%\n",
      "100,000c5dFalset10:75.42%:77.08% | 75,000c5dFalset10:72.50%:75.00%\n"
     ]
    },
    {
     "name": "stderr",
     "output_type": "stream",
     "text": [
      "\n",
      "epoch-106 lr=['0.0010000'], tr/val_loss:  0.005656/  2.712984, tr: 100.00%, val:  77.08%, val_best:  77.08%: 100%|██████████| 41/41 [00:11<00:00,  3.68it/s]"
     ]
    },
    {
     "name": "stdout",
     "output_type": "stream",
     "text": [
      "Domain loss,acc: 1.305319, 66.70% Target domain: tr_loss-3.904646, tr_acc-74.54%\n",
      "100,000c5dFalset10:77.08%:77.08% | 75,000c5dFalset10:72.50%:75.00%\n"
     ]
    },
    {
     "name": "stderr",
     "output_type": "stream",
     "text": [
      "\n",
      "epoch-107 lr=['0.0010000'], tr/val_loss:  0.005105/  2.715734, tr: 100.00%, val:  74.58%, val_best:  77.08%: 100%|██████████| 41/41 [00:11<00:00,  3.69it/s]"
     ]
    },
    {
     "name": "stdout",
     "output_type": "stream",
     "text": [
      "Domain loss,acc: 1.337035, 66.70% Target domain: tr_loss-4.000894, tr_acc-72.70%\n",
      "100,000c5dFalset10:74.58%:77.08% | 75,000c5dFalset10:72.92%:75.00%\n"
     ]
    },
    {
     "name": "stderr",
     "output_type": "stream",
     "text": [
      "\n",
      "epoch-108 lr=['0.0010000'], tr/val_loss:  0.005035/  2.718771, tr: 100.00%, val:  76.25%, val_best:  77.08%: 100%|██████████| 41/41 [00:11<00:00,  3.64it/s]"
     ]
    },
    {
     "name": "stdout",
     "output_type": "stream",
     "text": [
      "Domain loss,acc: 1.321255, 66.70% Target domain: tr_loss-3.953695, tr_acc-73.62%\n",
      "100,000c5dFalset10:76.25%:77.08% | 75,000c5dFalset10:70.42%:75.00%\n"
     ]
    },
    {
     "name": "stderr",
     "output_type": "stream",
     "text": [
      "\n",
      "epoch-109 lr=['0.0010000'], tr/val_loss:  0.005105/  2.723250, tr: 100.00%, val:  75.00%, val_best:  77.08%: 100%|██████████| 41/41 [00:11<00:00,  3.61it/s]"
     ]
    },
    {
     "name": "stdout",
     "output_type": "stream",
     "text": [
      "Domain loss,acc: 1.321605, 66.70% Target domain: tr_loss-3.954606, tr_acc-71.78%\n",
      "100,000c5dFalset10:75.00%:77.08% | 75,000c5dFalset10:72.50%:75.00%\n"
     ]
    },
    {
     "name": "stderr",
     "output_type": "stream",
     "text": [
      "\n",
      "epoch-110 lr=['0.0010000'], tr/val_loss:  0.005092/  2.732778, tr: 100.00%, val:  75.83%, val_best:  77.08%: 100%|██████████| 41/41 [00:11<00:00,  3.60it/s]"
     ]
    },
    {
     "name": "stdout",
     "output_type": "stream",
     "text": [
      "Domain loss,acc: 1.302731, 66.70% Target domain: tr_loss-3.898010, tr_acc-72.39%\n",
      "100,000c5dFalset10:75.83%:77.08% | 75,000c5dFalset10:71.25%:75.00%\n"
     ]
    },
    {
     "name": "stderr",
     "output_type": "stream",
     "text": [
      "\n",
      "epoch-111 lr=['0.0010000'], tr/val_loss:  0.005578/  2.742923, tr: 100.00%, val:  74.17%, val_best:  77.08%: 100%|██████████| 41/41 [00:11<00:00,  3.64it/s]"
     ]
    },
    {
     "name": "stdout",
     "output_type": "stream",
     "text": [
      "Domain loss,acc: 1.313878, 66.70% Target domain: tr_loss-3.930479, tr_acc-73.93%\n",
      "100,000c5dFalset10:74.17%:77.08% | 75,000c5dFalset10:72.08%:75.00%\n"
     ]
    },
    {
     "name": "stderr",
     "output_type": "stream",
     "text": [
      "\n",
      "epoch-112 lr=['0.0010000'], tr/val_loss:  0.005180/  2.744500, tr: 100.00%, val:  75.00%, val_best:  77.08%: 100%|██████████| 41/41 [00:11<00:00,  3.69it/s]"
     ]
    },
    {
     "name": "stdout",
     "output_type": "stream",
     "text": [
      "Domain loss,acc: 1.310083, 66.70% Target domain: tr_loss-3.919889, tr_acc-72.70%\n",
      "100,000c5dFalset10:75.00%:77.08% | 75,000c5dFalset10:70.42%:75.00%\n"
     ]
    },
    {
     "name": "stderr",
     "output_type": "stream",
     "text": [
      "\n",
      "epoch-113 lr=['0.0010000'], tr/val_loss:  0.005457/  2.745306, tr: 100.00%, val:  74.17%, val_best:  77.08%: 100%|██████████| 41/41 [00:11<00:00,  3.64it/s]"
     ]
    },
    {
     "name": "stdout",
     "output_type": "stream",
     "text": [
      "Domain loss,acc: 1.316957, 66.70% Target domain: tr_loss-3.939956, tr_acc-72.70%\n",
      "100,000c5dFalset10:74.17%:77.08% | 75,000c5dFalset10:72.50%:75.00%\n"
     ]
    },
    {
     "name": "stderr",
     "output_type": "stream",
     "text": [
      "\n",
      "epoch-114 lr=['0.0010000'], tr/val_loss:  0.004906/  2.752323, tr: 100.00%, val:  75.00%, val_best:  77.08%: 100%|██████████| 41/41 [00:11<00:00,  3.58it/s]"
     ]
    },
    {
     "name": "stdout",
     "output_type": "stream",
     "text": [
      "Domain loss,acc: 1.333352, 66.70% Target domain: tr_loss-3.990245, tr_acc-73.62%\n",
      "100,000c5dFalset10:75.00%:77.08% | 75,000c5dFalset10:72.92%:75.00%\n"
     ]
    },
    {
     "name": "stderr",
     "output_type": "stream",
     "text": [
      "\n",
      "epoch-115 lr=['0.0010000'], tr/val_loss:  0.005119/  2.754938, tr: 100.00%, val:  75.83%, val_best:  77.08%: 100%|██████████| 41/41 [00:11<00:00,  3.63it/s]"
     ]
    },
    {
     "name": "stdout",
     "output_type": "stream",
     "text": [
      "Domain loss,acc: 1.326944, 66.70% Target domain: tr_loss-3.970593, tr_acc-73.62%\n",
      "100,000c5dFalset10:75.83%:77.08% | 75,000c5dFalset10:73.75%:75.00%\n"
     ]
    },
    {
     "name": "stderr",
     "output_type": "stream",
     "text": [
      "\n",
      "epoch-116 lr=['0.0010000'], tr/val_loss:  0.004935/  2.741578, tr: 100.00%, val:  75.00%, val_best:  77.08%: 100%|██████████| 41/41 [00:11<00:00,  3.67it/s]"
     ]
    },
    {
     "name": "stdout",
     "output_type": "stream",
     "text": [
      "Domain loss,acc: 1.335192, 66.70% Target domain: tr_loss-3.995707, tr_acc-73.01%\n",
      "100,000c5dFalset10:75.00%:77.08% | 75,000c5dFalset10:70.42%:75.00%\n"
     ]
    },
    {
     "name": "stderr",
     "output_type": "stream",
     "text": [
      "\n",
      "epoch-117 lr=['0.0010000'], tr/val_loss:  0.005179/  2.769606, tr: 100.00%, val:  75.42%, val_best:  77.08%: 100%|██████████| 41/41 [00:11<00:00,  3.57it/s]"
     ]
    },
    {
     "name": "stdout",
     "output_type": "stream",
     "text": [
      "Domain loss,acc: 1.342656, 66.70% Target domain: tr_loss-4.017612, tr_acc-73.31%\n",
      "100,000c5dFalset10:75.42%:77.08% | 75,000c5dFalset10:72.92%:75.00%\n"
     ]
    },
    {
     "name": "stderr",
     "output_type": "stream",
     "text": [
      "\n",
      "epoch-118 lr=['0.0010000'], tr/val_loss:  0.005088/  2.744606, tr: 100.00%, val:  76.25%, val_best:  77.08%: 100%|██████████| 41/41 [00:11<00:00,  3.63it/s]"
     ]
    },
    {
     "name": "stdout",
     "output_type": "stream",
     "text": [
      "Domain loss,acc: 1.355725, 66.70% Target domain: tr_loss-4.057003, tr_acc-72.70%\n",
      "100,000c5dFalset10:76.25%:77.08% | 75,000c5dFalset10:73.33%:75.00%\n"
     ]
    },
    {
     "name": "stderr",
     "output_type": "stream",
     "text": [
      "\n",
      "epoch-119 lr=['0.0010000'], tr/val_loss:  0.005566/  2.754462, tr: 100.00%, val:  75.00%, val_best:  77.08%: 100%|██████████| 41/41 [00:10<00:00,  3.94it/s]"
     ]
    },
    {
     "name": "stdout",
     "output_type": "stream",
     "text": [
      "Domain loss,acc: 1.357270, 66.70% Target domain: tr_loss-4.060678, tr_acc-73.31%\n",
      "100,000c5dFalset10:75.00%:77.08% | 75,000c5dFalset10:72.92%:75.00%\n"
     ]
    },
    {
     "name": "stderr",
     "output_type": "stream",
     "text": [
      "\n",
      "epoch-120 lr=['0.0010000'], tr/val_loss:  0.004912/  2.768457, tr: 100.00%, val:  74.58%, val_best:  77.08%: 100%|██████████| 41/41 [00:10<00:00,  3.81it/s]"
     ]
    },
    {
     "name": "stdout",
     "output_type": "stream",
     "text": [
      "Domain loss,acc: 1.342524, 66.70% Target domain: tr_loss-4.017747, tr_acc-73.01%\n",
      "100,000c5dFalset10:74.58%:77.08% | 75,000c5dFalset10:72.92%:75.00%\n"
     ]
    },
    {
     "name": "stderr",
     "output_type": "stream",
     "text": [
      "\n",
      "epoch-121 lr=['0.0010000'], tr/val_loss:  0.004724/  2.773165, tr: 100.00%, val:  74.58%, val_best:  77.08%: 100%|██████████| 41/41 [00:11<00:00,  3.70it/s]"
     ]
    },
    {
     "name": "stdout",
     "output_type": "stream",
     "text": [
      "Domain loss,acc: 1.372557, 66.70% Target domain: tr_loss-4.108224, tr_acc-72.70%\n",
      "100,000c5dFalset10:74.58%:77.08% | 75,000c5dFalset10:72.92%:75.00%\n"
     ]
    },
    {
     "name": "stderr",
     "output_type": "stream",
     "text": [
      "\n",
      "epoch-122 lr=['0.0010000'], tr/val_loss:  0.004741/  2.777495, tr: 100.00%, val:  75.83%, val_best:  77.08%: 100%|██████████| 41/41 [00:11<00:00,  3.69it/s]"
     ]
    },
    {
     "name": "stdout",
     "output_type": "stream",
     "text": [
      "Domain loss,acc: 1.353830, 66.70% Target domain: tr_loss-4.052008, tr_acc-72.70%\n",
      "100,000c5dFalset10:75.83%:77.08% | 75,000c5dFalset10:74.58%:75.00%\n"
     ]
    },
    {
     "name": "stderr",
     "output_type": "stream",
     "text": [
      "\n",
      "epoch-123 lr=['0.0010000'], tr/val_loss:  0.005133/  2.781152, tr: 100.00%, val:  75.83%, val_best:  77.08%: 100%|██████████| 41/41 [00:11<00:00,  3.64it/s]"
     ]
    },
    {
     "name": "stdout",
     "output_type": "stream",
     "text": [
      "Domain loss,acc: 1.346231, 66.70% Target domain: tr_loss-4.028425, tr_acc-73.62%\n",
      "100,000c5dFalset10:75.83%:77.08% | 75,000c5dFalset10:72.92%:75.00%\n"
     ]
    },
    {
     "name": "stderr",
     "output_type": "stream",
     "text": [
      "\n",
      "epoch-124 lr=['0.0010000'], tr/val_loss:  0.004790/  2.792321, tr: 100.00%, val:  75.83%, val_best:  77.08%: 100%|██████████| 41/41 [00:11<00:00,  3.63it/s]"
     ]
    },
    {
     "name": "stdout",
     "output_type": "stream",
     "text": [
      "Domain loss,acc: 1.360919, 66.70% Target domain: tr_loss-4.073174, tr_acc-73.01%\n",
      "100,000c5dFalset10:75.83%:77.08% | 75,000c5dFalset10:73.75%:75.00%\n"
     ]
    },
    {
     "name": "stderr",
     "output_type": "stream",
     "text": [
      "\n",
      "epoch-125 lr=['0.0010000'], tr/val_loss:  0.005031/  2.798525, tr: 100.00%, val:  75.42%, val_best:  77.08%: 100%|██████████| 41/41 [00:11<00:00,  3.64it/s]"
     ]
    },
    {
     "name": "stdout",
     "output_type": "stream",
     "text": [
      "Domain loss,acc: 1.365967, 66.70% Target domain: tr_loss-4.087839, tr_acc-72.70%\n",
      "100,000c5dFalset10:75.42%:77.08% | 75,000c5dFalset10:72.50%:75.00%\n"
     ]
    },
    {
     "name": "stderr",
     "output_type": "stream",
     "text": [
      "\n",
      "epoch-126 lr=['0.0010000'], tr/val_loss:  0.004421/  2.792945, tr: 100.00%, val:  75.42%, val_best:  77.08%: 100%|██████████| 41/41 [00:11<00:00,  3.54it/s]"
     ]
    },
    {
     "name": "stdout",
     "output_type": "stream",
     "text": [
      "Domain loss,acc: 1.359960, 66.70% Target domain: tr_loss-4.071039, tr_acc-74.23%\n",
      "100,000c5dFalset10:75.42%:77.08% | 75,000c5dFalset10:72.50%:75.00%\n"
     ]
    },
    {
     "name": "stderr",
     "output_type": "stream",
     "text": [
      "\n",
      "epoch-127 lr=['0.0010000'], tr/val_loss:  0.004310/  2.796932, tr: 100.00%, val:  75.83%, val_best:  77.08%: 100%|██████████| 41/41 [00:11<00:00,  3.55it/s]"
     ]
    },
    {
     "name": "stdout",
     "output_type": "stream",
     "text": [
      "Domain loss,acc: 1.356213, 66.70% Target domain: tr_loss-4.060019, tr_acc-73.62%\n",
      "100,000c5dFalset10:75.83%:77.08% | 75,000c5dFalset10:72.50%:75.00%\n"
     ]
    },
    {
     "name": "stderr",
     "output_type": "stream",
     "text": [
      "\n",
      "epoch-128 lr=['0.0010000'], tr/val_loss:  0.004312/  2.804752, tr: 100.00%, val:  75.83%, val_best:  77.08%: 100%|██████████| 41/41 [00:11<00:00,  3.64it/s]"
     ]
    },
    {
     "name": "stdout",
     "output_type": "stream",
     "text": [
      "Domain loss,acc: 1.385057, 66.70% Target domain: tr_loss-4.146546, tr_acc-72.39%\n",
      "100,000c5dFalset10:75.83%:77.08% | 75,000c5dFalset10:72.08%:75.00%\n"
     ]
    },
    {
     "name": "stderr",
     "output_type": "stream",
     "text": [
      "\n",
      "epoch-129 lr=['0.0010000'], tr/val_loss:  0.004412/  2.792572, tr: 100.00%, val:  75.00%, val_best:  77.08%: 100%|██████████| 41/41 [00:11<00:00,  3.62it/s]"
     ]
    },
    {
     "name": "stdout",
     "output_type": "stream",
     "text": [
      "Domain loss,acc: 1.391592, 66.70% Target domain: tr_loss-4.165952, tr_acc-73.01%\n",
      "100,000c5dFalset10:75.00%:77.08% | 75,000c5dFalset10:72.92%:75.00%\n"
     ]
    },
    {
     "name": "stderr",
     "output_type": "stream",
     "text": [
      "\n",
      "epoch-130 lr=['0.0010000'], tr/val_loss:  0.004488/  2.808066, tr: 100.00%, val:  73.33%, val_best:  77.08%: 100%|██████████| 41/41 [00:11<00:00,  3.65it/s]"
     ]
    },
    {
     "name": "stdout",
     "output_type": "stream",
     "text": [
      "Domain loss,acc: 1.377616, 66.70% Target domain: tr_loss-4.123871, tr_acc-72.09%\n",
      "100,000c5dFalset10:73.33%:77.08% | 75,000c5dFalset10:72.08%:75.00%\n"
     ]
    },
    {
     "name": "stderr",
     "output_type": "stream",
     "text": [
      "\n",
      "epoch-131 lr=['0.0010000'], tr/val_loss:  0.004496/  2.815707, tr: 100.00%, val:  74.58%, val_best:  77.08%: 100%|██████████| 41/41 [00:11<00:00,  3.64it/s]"
     ]
    },
    {
     "name": "stdout",
     "output_type": "stream",
     "text": [
      "Domain loss,acc: 1.383845, 66.70% Target domain: tr_loss-4.142541, tr_acc-73.01%\n",
      "100,000c5dFalset10:74.58%:77.08% | 75,000c5dFalset10:71.67%:75.00%\n"
     ]
    },
    {
     "name": "stderr",
     "output_type": "stream",
     "text": [
      "\n",
      "epoch-132 lr=['0.0010000'], tr/val_loss:  0.004280/  2.826482, tr: 100.00%, val:  74.17%, val_best:  77.08%: 100%|██████████| 41/41 [00:11<00:00,  3.69it/s]"
     ]
    },
    {
     "name": "stdout",
     "output_type": "stream",
     "text": [
      "Domain loss,acc: 1.384371, 66.70% Target domain: tr_loss-4.144553, tr_acc-73.01%\n",
      "100,000c5dFalset10:74.17%:77.08% | 75,000c5dFalset10:72.08%:75.00%\n"
     ]
    },
    {
     "name": "stderr",
     "output_type": "stream",
     "text": [
      "\n",
      "epoch-133 lr=['0.0010000'], tr/val_loss:  0.004845/  2.806915, tr: 100.00%, val:  74.58%, val_best:  77.08%: 100%|██████████| 41/41 [00:11<00:00,  3.66it/s]"
     ]
    },
    {
     "name": "stdout",
     "output_type": "stream",
     "text": [
      "Domain loss,acc: 1.388405, 66.70% Target domain: tr_loss-4.155527, tr_acc-73.31%\n",
      "100,000c5dFalset10:74.58%:77.08% | 75,000c5dFalset10:72.08%:75.00%\n"
     ]
    },
    {
     "name": "stderr",
     "output_type": "stream",
     "text": [
      "\n",
      "epoch-134 lr=['0.0010000'], tr/val_loss:  0.005059/  2.821133, tr: 100.00%, val:  73.75%, val_best:  77.08%: 100%|██████████| 41/41 [00:11<00:00,  3.69it/s]"
     ]
    },
    {
     "name": "stdout",
     "output_type": "stream",
     "text": [
      "Domain loss,acc: 1.390786, 66.70% Target domain: tr_loss-4.162238, tr_acc-72.70%\n",
      "100,000c5dFalset10:73.75%:77.08% | 75,000c5dFalset10:74.58%:75.00%\n"
     ]
    },
    {
     "name": "stderr",
     "output_type": "stream",
     "text": [
      "\n",
      "epoch-135 lr=['0.0010000'], tr/val_loss:  0.005134/  2.840715, tr: 100.00%, val:  75.00%, val_best:  77.08%: 100%|██████████| 41/41 [00:11<00:00,  3.72it/s]"
     ]
    },
    {
     "name": "stdout",
     "output_type": "stream",
     "text": [
      "Domain loss,acc: 1.400211, 66.70% Target domain: tr_loss-4.190364, tr_acc-73.62%\n",
      "100,000c5dFalset10:75.00%:77.08% | 75,000c5dFalset10:72.92%:75.00%\n"
     ]
    },
    {
     "name": "stderr",
     "output_type": "stream",
     "text": [
      "\n",
      "epoch-136 lr=['0.0010000'], tr/val_loss:  0.004193/  2.832520, tr: 100.00%, val:  75.42%, val_best:  77.08%: 100%|██████████| 41/41 [00:10<00:00,  3.85it/s]"
     ]
    },
    {
     "name": "stdout",
     "output_type": "stream",
     "text": [
      "Domain loss,acc: 1.401362, 66.70% Target domain: tr_loss-4.195699, tr_acc-71.78%\n",
      "100,000c5dFalset10:75.42%:77.08% | 75,000c5dFalset10:75.00%:75.00%\n"
     ]
    },
    {
     "name": "stderr",
     "output_type": "stream",
     "text": [
      "\n",
      "epoch-137 lr=['0.0010000'], tr/val_loss:  0.004145/  2.811621, tr: 100.00%, val:  75.42%, val_best:  77.08%: 100%|██████████| 41/41 [00:10<00:00,  3.82it/s]"
     ]
    },
    {
     "name": "stdout",
     "output_type": "stream",
     "text": [
      "Domain loss,acc: 1.402243, 66.70% Target domain: tr_loss-4.198441, tr_acc-72.39%\n",
      "100,000c5dFalset10:75.42%:77.08% | 75,000c5dFalset10:73.75%:75.00%\n"
     ]
    },
    {
     "name": "stderr",
     "output_type": "stream",
     "text": [
      "\n",
      "epoch-138 lr=['0.0010000'], tr/val_loss:  0.004942/  2.858023, tr: 100.00%, val:  73.75%, val_best:  77.08%: 100%|██████████| 41/41 [00:11<00:00,  3.71it/s]"
     ]
    },
    {
     "name": "stdout",
     "output_type": "stream",
     "text": [
      "Domain loss,acc: 1.401482, 66.70% Target domain: tr_loss-4.194563, tr_acc-73.31%\n",
      "100,000c5dFalset10:73.75%:77.08% | 75,000c5dFalset10:72.92%:75.00%\n"
     ]
    },
    {
     "name": "stderr",
     "output_type": "stream",
     "text": [
      "\n",
      "epoch-139 lr=['0.0010000'], tr/val_loss:  0.004282/  2.846485, tr: 100.00%, val:  75.42%, val_best:  77.08%: 100%|██████████| 41/41 [00:11<00:00,  3.66it/s]"
     ]
    },
    {
     "name": "stdout",
     "output_type": "stream",
     "text": [
      "Domain loss,acc: 1.376647, 66.70% Target domain: tr_loss-4.121376, tr_acc-73.31%\n",
      "100,000c5dFalset10:75.42%:77.08% | 75,000c5dFalset10:73.33%:75.00%\n"
     ]
    },
    {
     "name": "stderr",
     "output_type": "stream",
     "text": [
      "\n",
      "epoch-140 lr=['0.0010000'], tr/val_loss:  0.003936/  2.850069, tr: 100.00%, val:  75.83%, val_best:  77.08%: 100%|██████████| 41/41 [00:11<00:00,  3.60it/s]"
     ]
    },
    {
     "name": "stdout",
     "output_type": "stream",
     "text": [
      "Domain loss,acc: 1.402045, 66.70% Target domain: tr_loss-4.198263, tr_acc-73.01%\n",
      "100,000c5dFalset10:75.83%:77.08% | 75,000c5dFalset10:72.92%:75.00%\n"
     ]
    },
    {
     "name": "stderr",
     "output_type": "stream",
     "text": [
      "\n",
      "epoch-141 lr=['0.0010000'], tr/val_loss:  0.003924/  2.847376, tr: 100.00%, val:  76.25%, val_best:  77.08%: 100%|██████████| 41/41 [00:11<00:00,  3.51it/s]"
     ]
    },
    {
     "name": "stdout",
     "output_type": "stream",
     "text": [
      "Domain loss,acc: 1.381335, 66.70% Target domain: tr_loss-4.136157, tr_acc-73.31%\n",
      "100,000c5dFalset10:76.25%:77.08% | 75,000c5dFalset10:73.33%:75.00%\n"
     ]
    },
    {
     "name": "stderr",
     "output_type": "stream",
     "text": [
      "\n",
      "epoch-142 lr=['0.0010000'], tr/val_loss:  0.003853/  2.870068, tr: 100.00%, val:  75.83%, val_best:  77.08%: 100%|██████████| 41/41 [00:10<00:00,  3.93it/s]"
     ]
    },
    {
     "name": "stdout",
     "output_type": "stream",
     "text": [
      "Domain loss,acc: 1.406949, 66.70% Target domain: tr_loss-4.213141, tr_acc-73.01%\n",
      "100,000c5dFalset10:75.83%:77.08% | 75,000c5dFalset10:73.75%:75.00%\n"
     ]
    },
    {
     "name": "stderr",
     "output_type": "stream",
     "text": [
      "\n",
      "epoch-143 lr=['0.0010000'], tr/val_loss:  0.003842/  2.867682, tr: 100.00%, val:  75.83%, val_best:  77.08%: 100%|██████████| 41/41 [00:11<00:00,  3.61it/s]"
     ]
    },
    {
     "name": "stdout",
     "output_type": "stream",
     "text": [
      "Domain loss,acc: 1.415273, 66.70% Target domain: tr_loss-4.238136, tr_acc-73.01%\n",
      "100,000c5dFalset10:75.83%:77.08% | 75,000c5dFalset10:72.50%:75.00%\n"
     ]
    },
    {
     "name": "stderr",
     "output_type": "stream",
     "text": [
      "\n",
      "epoch-144 lr=['0.0010000'], tr/val_loss:  0.003997/  2.849750, tr: 100.00%, val:  75.83%, val_best:  77.08%: 100%|██████████| 41/41 [00:11<00:00,  3.62it/s]"
     ]
    },
    {
     "name": "stdout",
     "output_type": "stream",
     "text": [
      "Domain loss,acc: 1.400544, 66.70% Target domain: tr_loss-4.193638, tr_acc-73.01%\n",
      "100,000c5dFalset10:75.83%:77.08% | 75,000c5dFalset10:73.75%:75.00%\n"
     ]
    },
    {
     "name": "stderr",
     "output_type": "stream",
     "text": [
      "\n",
      "epoch-145 lr=['0.0010000'], tr/val_loss:  0.004183/  2.846659, tr: 100.00%, val:  76.25%, val_best:  77.08%: 100%|██████████| 41/41 [00:11<00:00,  3.45it/s]"
     ]
    },
    {
     "name": "stdout",
     "output_type": "stream",
     "text": [
      "Domain loss,acc: 1.408656, 66.70% Target domain: tr_loss-4.217601, tr_acc-72.70%\n",
      "100,000c5dFalset10:76.25%:77.08% | 75,000c5dFalset10:72.50%:75.00%\n"
     ]
    },
    {
     "name": "stderr",
     "output_type": "stream",
     "text": [
      "\n",
      "epoch-146 lr=['0.0010000'], tr/val_loss:  0.003900/  2.858192, tr: 100.00%, val:  75.42%, val_best:  77.08%: 100%|██████████| 41/41 [00:12<00:00,  3.38it/s]"
     ]
    },
    {
     "name": "stdout",
     "output_type": "stream",
     "text": [
      "Domain loss,acc: 1.390210, 66.70% Target domain: tr_loss-4.162830, tr_acc-72.70%\n",
      "100,000c5dFalset10:75.42%:77.08% | 75,000c5dFalset10:73.33%:75.00%\n"
     ]
    },
    {
     "name": "stderr",
     "output_type": "stream",
     "text": [
      "\n",
      "epoch-147 lr=['0.0010000'], tr/val_loss:  0.003833/  2.861683, tr: 100.00%, val:  77.08%, val_best:  77.08%: 100%|██████████| 41/41 [00:11<00:00,  3.49it/s]"
     ]
    },
    {
     "name": "stdout",
     "output_type": "stream",
     "text": [
      "Domain loss,acc: 1.418123, 66.70% Target domain: tr_loss-4.246702, tr_acc-73.01%\n",
      "100,000c5dFalset10:77.08%:77.08% | 75,000c5dFalset10:73.33%:75.00%\n"
     ]
    },
    {
     "name": "stderr",
     "output_type": "stream",
     "text": [
      "\n",
      "epoch-148 lr=['0.0010000'], tr/val_loss:  0.005468/  2.871105, tr: 100.00%, val:  75.42%, val_best:  77.08%: 100%|██████████| 41/41 [00:11<00:00,  3.63it/s]"
     ]
    },
    {
     "name": "stdout",
     "output_type": "stream",
     "text": [
      "Domain loss,acc: 1.432928, 66.70% Target domain: tr_loss-4.287848, tr_acc-72.70%\n",
      "100,000c5dFalset10:75.42%:77.08% | 75,000c5dFalset10:72.92%:75.00%\n"
     ]
    },
    {
     "name": "stderr",
     "output_type": "stream",
     "text": [
      "\n",
      "epoch-149 lr=['0.0010000'], tr/val_loss:  0.005099/  2.888972, tr: 100.00%, val:  75.00%, val_best:  77.08%: 100%|██████████| 41/41 [00:10<00:00,  3.80it/s]"
     ]
    },
    {
     "name": "stdout",
     "output_type": "stream",
     "text": [
      "Domain loss,acc: 1.430991, 66.70% Target domain: tr_loss-4.282775, tr_acc-72.39%\n",
      "100,000c5dFalset10:75.00%:77.08% | 75,000c5dFalset10:73.33%:75.00%\n"
     ]
    },
    {
     "name": "stderr",
     "output_type": "stream",
     "text": [
      "\n",
      "epoch-150 lr=['0.0010000'], tr/val_loss:  0.003873/  2.907431, tr: 100.00%, val:  75.00%, val_best:  77.08%: 100%|██████████| 41/41 [00:11<00:00,  3.61it/s]"
     ]
    },
    {
     "name": "stdout",
     "output_type": "stream",
     "text": [
      "Domain loss,acc: 1.411535, 66.70% Target domain: tr_loss-4.226859, tr_acc-72.09%\n",
      "100,000c5dFalset10:75.00%:77.08% | 75,000c5dFalset10:73.33%:75.00%\n"
     ]
    },
    {
     "name": "stderr",
     "output_type": "stream",
     "text": [
      "\n",
      "epoch-151 lr=['0.0010000'], tr/val_loss:  0.003768/  2.907164, tr: 100.00%, val:  74.58%, val_best:  77.08%: 100%|██████████| 41/41 [00:11<00:00,  3.58it/s]"
     ]
    },
    {
     "name": "stdout",
     "output_type": "stream",
     "text": [
      "Domain loss,acc: 1.418722, 66.70% Target domain: tr_loss-4.248628, tr_acc-72.39%\n",
      "100,000c5dFalset10:74.58%:77.08% | 75,000c5dFalset10:73.33%:75.00%\n"
     ]
    },
    {
     "name": "stderr",
     "output_type": "stream",
     "text": [
      "\n",
      "epoch-152 lr=['0.0010000'], tr/val_loss:  0.003964/  2.898397, tr: 100.00%, val:  75.00%, val_best:  77.08%: 100%|██████████| 41/41 [00:10<00:00,  3.75it/s]"
     ]
    },
    {
     "name": "stdout",
     "output_type": "stream",
     "text": [
      "Domain loss,acc: 1.424258, 66.70% Target domain: tr_loss-4.264846, tr_acc-73.01%\n",
      "100,000c5dFalset10:75.00%:77.08% | 75,000c5dFalset10:71.25%:75.00%\n"
     ]
    },
    {
     "name": "stderr",
     "output_type": "stream",
     "text": [
      "\n",
      "epoch-153 lr=['0.0010000'], tr/val_loss:  0.003808/  2.903244, tr: 100.00%, val:  75.42%, val_best:  77.08%: 100%|██████████| 41/41 [00:12<00:00,  3.26it/s]"
     ]
    },
    {
     "name": "stdout",
     "output_type": "stream",
     "text": [
      "Domain loss,acc: 1.441711, 66.70% Target domain: tr_loss-4.317518, tr_acc-73.01%\n",
      "100,000c5dFalset10:75.42%:77.08% | 75,000c5dFalset10:72.08%:75.00%\n"
     ]
    },
    {
     "name": "stderr",
     "output_type": "stream",
     "text": [
      "\n",
      "epoch-154 lr=['0.0010000'], tr/val_loss:  0.003657/  2.892870, tr: 100.00%, val:  75.83%, val_best:  77.08%: 100%|██████████| 41/41 [00:12<00:00,  3.26it/s]"
     ]
    },
    {
     "name": "stdout",
     "output_type": "stream",
     "text": [
      "Domain loss,acc: 1.426269, 66.70% Target domain: tr_loss-4.271492, tr_acc-73.01%\n",
      "100,000c5dFalset10:75.83%:77.08% | 75,000c5dFalset10:71.67%:75.00%\n"
     ]
    },
    {
     "name": "stderr",
     "output_type": "stream",
     "text": [
      "\n",
      "epoch-155 lr=['0.0010000'], tr/val_loss:  0.003399/  2.891800, tr: 100.00%, val:  75.83%, val_best:  77.08%: 100%|██████████| 41/41 [00:12<00:00,  3.24it/s]"
     ]
    },
    {
     "name": "stdout",
     "output_type": "stream",
     "text": [
      "Domain loss,acc: 1.435965, 66.70% Target domain: tr_loss-4.301098, tr_acc-72.70%\n",
      "100,000c5dFalset10:75.83%:77.08% | 75,000c5dFalset10:72.08%:75.00%\n"
     ]
    },
    {
     "name": "stderr",
     "output_type": "stream",
     "text": [
      "\n",
      "epoch-156 lr=['0.0010000'], tr/val_loss:  0.003475/  2.874418, tr: 100.00%, val:  75.42%, val_best:  77.08%: 100%|██████████| 41/41 [00:12<00:00,  3.21it/s]"
     ]
    },
    {
     "name": "stdout",
     "output_type": "stream",
     "text": [
      "Domain loss,acc: 1.470855, 66.70% Target domain: tr_loss-4.405616, tr_acc-73.31%\n",
      "100,000c5dFalset10:75.42%:77.08% | 75,000c5dFalset10:72.92%:75.00%\n"
     ]
    },
    {
     "name": "stderr",
     "output_type": "stream",
     "text": [
      "\n",
      "epoch-157 lr=['0.0010000'], tr/val_loss:  0.003433/  2.885181, tr: 100.00%, val:  76.25%, val_best:  77.08%: 100%|██████████| 41/41 [00:12<00:00,  3.20it/s]"
     ]
    },
    {
     "name": "stdout",
     "output_type": "stream",
     "text": [
      "Domain loss,acc: 1.456687, 66.70% Target domain: tr_loss-4.363195, tr_acc-72.70%\n",
      "100,000c5dFalset10:76.25%:77.08% | 75,000c5dFalset10:70.42%:75.00%\n"
     ]
    },
    {
     "name": "stderr",
     "output_type": "stream",
     "text": [
      "\n",
      "epoch-158 lr=['0.0010000'], tr/val_loss:  0.003554/  2.890361, tr: 100.00%, val:  75.42%, val_best:  77.08%: 100%|██████████| 41/41 [00:12<00:00,  3.24it/s]"
     ]
    },
    {
     "name": "stdout",
     "output_type": "stream",
     "text": [
      "Domain loss,acc: 1.468042, 66.70% Target domain: tr_loss-4.397017, tr_acc-72.70%\n",
      "100,000c5dFalset10:75.42%:77.08% | 75,000c5dFalset10:72.92%:75.00%\n"
     ]
    },
    {
     "name": "stderr",
     "output_type": "stream",
     "text": [
      "\n",
      "epoch-159 lr=['0.0010000'], tr/val_loss:  0.003570/  2.897932, tr: 100.00%, val:  76.67%, val_best:  77.08%: 100%|██████████| 41/41 [00:12<00:00,  3.31it/s]"
     ]
    },
    {
     "name": "stdout",
     "output_type": "stream",
     "text": [
      "Domain loss,acc: 1.429944, 66.70% Target domain: tr_loss-4.282692, tr_acc-72.39%\n",
      "100,000c5dFalset10:76.67%:77.08% | 75,000c5dFalset10:71.67%:75.00%\n"
     ]
    },
    {
     "name": "stderr",
     "output_type": "stream",
     "text": [
      "\n",
      "epoch-160 lr=['0.0010000'], tr/val_loss:  0.003976/  2.905318, tr: 100.00%, val:  77.08%, val_best:  77.08%: 100%|██████████| 41/41 [00:11<00:00,  3.55it/s]"
     ]
    },
    {
     "name": "stdout",
     "output_type": "stream",
     "text": [
      "Domain loss,acc: 1.461610, 66.70% Target domain: tr_loss-4.376878, tr_acc-72.09%\n",
      "100,000c5dFalset10:77.08%:77.08% | 75,000c5dFalset10:72.92%:75.00%\n"
     ]
    },
    {
     "name": "stderr",
     "output_type": "stream",
     "text": [
      "\n",
      "epoch-161 lr=['0.0010000'], tr/val_loss:  0.003815/  2.881425, tr: 100.00%, val:  78.75%, val_best:  78.75%: 100%|██████████| 41/41 [00:11<00:00,  3.59it/s]"
     ]
    },
    {
     "name": "stdout",
     "output_type": "stream",
     "text": [
      "Domain loss,acc: 1.471975, 66.70% Target domain: tr_loss-4.408296, tr_acc-72.39%\n",
      "100,000c5dFalset10:78.75%:78.75% | 75,000c5dFalset10:74.58%:75.00%\n"
     ]
    },
    {
     "name": "stderr",
     "output_type": "stream",
     "text": [
      "\n",
      "epoch-162 lr=['0.0010000'], tr/val_loss:  0.003900/  2.877599, tr: 100.00%, val:  76.25%, val_best:  78.75%: 100%|██████████| 41/41 [00:11<00:00,  3.55it/s]"
     ]
    },
    {
     "name": "stdout",
     "output_type": "stream",
     "text": [
      "Domain loss,acc: 1.428033, 66.70% Target domain: tr_loss-4.276298, tr_acc-73.31%\n",
      "100,000c5dFalset10:76.25%:78.75% | 75,000c5dFalset10:72.92%:75.00%\n"
     ]
    },
    {
     "name": "stderr",
     "output_type": "stream",
     "text": [
      "\n",
      "epoch-163 lr=['0.0010000'], tr/val_loss:  0.003539/  2.868245, tr: 100.00%, val:  77.92%, val_best:  78.75%: 100%|██████████| 41/41 [00:11<00:00,  3.58it/s]"
     ]
    },
    {
     "name": "stdout",
     "output_type": "stream",
     "text": [
      "Domain loss,acc: 1.441880, 66.70% Target domain: tr_loss-4.318561, tr_acc-73.62%\n",
      "100,000c5dFalset10:77.92%:78.75% | 75,000c5dFalset10:71.25%:75.00%\n"
     ]
    },
    {
     "name": "stderr",
     "output_type": "stream",
     "text": [
      "\n",
      "epoch-164 lr=['0.0010000'], tr/val_loss:  0.003689/  2.877873, tr: 100.00%, val:  75.83%, val_best:  78.75%: 100%|██████████| 41/41 [00:11<00:00,  3.48it/s]"
     ]
    },
    {
     "name": "stdout",
     "output_type": "stream",
     "text": [
      "Domain loss,acc: 1.462452, 66.70% Target domain: tr_loss-4.379978, tr_acc-72.70%\n",
      "100,000c5dFalset10:75.83%:78.75% | 75,000c5dFalset10:72.92%:75.00%\n"
     ]
    },
    {
     "name": "stderr",
     "output_type": "stream",
     "text": [
      "\n",
      "epoch-165 lr=['0.0010000'], tr/val_loss:  0.004531/  2.887609, tr: 100.00%, val:  76.67%, val_best:  78.75%: 100%|██████████| 41/41 [00:11<00:00,  3.63it/s]"
     ]
    },
    {
     "name": "stdout",
     "output_type": "stream",
     "text": [
      "Domain loss,acc: 1.469808, 66.70% Target domain: tr_loss-4.400362, tr_acc-73.93%\n",
      "100,000c5dFalset10:76.67%:78.75% | 75,000c5dFalset10:73.33%:75.00%\n"
     ]
    },
    {
     "name": "stderr",
     "output_type": "stream",
     "text": [
      "\n",
      "epoch-166 lr=['0.0010000'], tr/val_loss:  0.003844/  2.903494, tr: 100.00%, val:  75.83%, val_best:  78.75%: 100%|██████████| 41/41 [00:10<00:00,  3.74it/s]"
     ]
    },
    {
     "name": "stdout",
     "output_type": "stream",
     "text": [
      "Domain loss,acc: 1.465383, 66.70% Target domain: tr_loss-4.388462, tr_acc-73.01%\n",
      "100,000c5dFalset10:75.83%:78.75% | 75,000c5dFalset10:72.08%:75.00%\n"
     ]
    },
    {
     "name": "stderr",
     "output_type": "stream",
     "text": [
      "\n",
      "epoch-167 lr=['0.0010000'], tr/val_loss:  0.003493/  2.896182, tr: 100.00%, val:  75.83%, val_best:  78.75%: 100%|██████████| 41/41 [00:11<00:00,  3.54it/s]"
     ]
    },
    {
     "name": "stdout",
     "output_type": "stream",
     "text": [
      "Domain loss,acc: 1.507858, 66.70% Target domain: tr_loss-4.516589, tr_acc-72.70%\n",
      "100,000c5dFalset10:75.83%:78.75% | 75,000c5dFalset10:74.58%:75.00%\n"
     ]
    },
    {
     "name": "stderr",
     "output_type": "stream",
     "text": [
      "\n",
      "epoch-168 lr=['0.0010000'], tr/val_loss:  0.003309/  2.904287, tr: 100.00%, val:  75.83%, val_best:  78.75%: 100%|██████████| 41/41 [00:11<00:00,  3.66it/s]"
     ]
    },
    {
     "name": "stdout",
     "output_type": "stream",
     "text": [
      "Domain loss,acc: 1.488600, 66.70% Target domain: tr_loss-4.459182, tr_acc-73.93%\n",
      "100,000c5dFalset10:75.83%:78.75% | 75,000c5dFalset10:73.33%:75.00%\n"
     ]
    },
    {
     "name": "stderr",
     "output_type": "stream",
     "text": [
      "\n",
      "epoch-169 lr=['0.0010000'], tr/val_loss:  0.003547/  2.912411, tr: 100.00%, val:  76.25%, val_best:  78.75%: 100%|██████████| 41/41 [00:11<00:00,  3.59it/s]"
     ]
    },
    {
     "name": "stdout",
     "output_type": "stream",
     "text": [
      "Domain loss,acc: 1.506339, 66.70% Target domain: tr_loss-4.511924, tr_acc-73.93%\n",
      "100,000c5dFalset10:76.25%:78.75% | 75,000c5dFalset10:74.58%:75.00%\n"
     ]
    },
    {
     "name": "stderr",
     "output_type": "stream",
     "text": [
      "\n",
      "epoch-170 lr=['0.0010000'], tr/val_loss:  0.003423/  2.917484, tr: 100.00%, val:  76.67%, val_best:  78.75%: 100%|██████████| 41/41 [00:11<00:00,  3.58it/s]"
     ]
    },
    {
     "name": "stdout",
     "output_type": "stream",
     "text": [
      "Domain loss,acc: 1.472386, 66.70% Target domain: tr_loss-4.410312, tr_acc-71.47%\n",
      "100,000c5dFalset10:76.67%:78.75% | 75,000c5dFalset10:72.92%:75.00%\n"
     ]
    },
    {
     "name": "stderr",
     "output_type": "stream",
     "text": [
      "\n",
      "epoch-171 lr=['0.0010000'], tr/val_loss:  0.003483/  2.919901, tr: 100.00%, val:  76.67%, val_best:  78.75%: 100%|██████████| 41/41 [00:11<00:00,  3.63it/s]"
     ]
    },
    {
     "name": "stdout",
     "output_type": "stream",
     "text": [
      "Domain loss,acc: 1.473786, 66.70% Target domain: tr_loss-4.414394, tr_acc-72.70%\n",
      "100,000c5dFalset10:76.67%:78.75% | 75,000c5dFalset10:73.33%:75.00%\n"
     ]
    },
    {
     "name": "stderr",
     "output_type": "stream",
     "text": [
      "\n",
      "epoch-172 lr=['0.0010000'], tr/val_loss:  0.003488/  2.905521, tr: 100.00%, val:  75.42%, val_best:  78.75%: 100%|██████████| 41/41 [00:11<00:00,  3.50it/s]"
     ]
    },
    {
     "name": "stdout",
     "output_type": "stream",
     "text": [
      "Domain loss,acc: 1.488314, 66.70% Target domain: tr_loss-4.457966, tr_acc-72.70%\n",
      "100,000c5dFalset10:75.42%:78.75% | 75,000c5dFalset10:74.17%:75.00%\n"
     ]
    },
    {
     "name": "stderr",
     "output_type": "stream",
     "text": [
      "\n",
      "epoch-173 lr=['0.0010000'], tr/val_loss:  0.003538/  2.897749, tr: 100.00%, val:  77.08%, val_best:  78.75%: 100%|██████████| 41/41 [00:11<00:00,  3.51it/s]"
     ]
    },
    {
     "name": "stdout",
     "output_type": "stream",
     "text": [
      "Domain loss,acc: 1.498571, 66.70% Target domain: tr_loss-4.488637, tr_acc-70.86%\n",
      "100,000c5dFalset10:77.08%:78.75% | 75,000c5dFalset10:75.42%:75.42%\n"
     ]
    },
    {
     "name": "stderr",
     "output_type": "stream",
     "text": [
      "\n",
      "epoch-174 lr=['0.0010000'], tr/val_loss:  0.003352/  2.891641, tr: 100.00%, val:  77.50%, val_best:  78.75%: 100%|██████████| 41/41 [00:11<00:00,  3.58it/s]"
     ]
    },
    {
     "name": "stdout",
     "output_type": "stream",
     "text": [
      "Domain loss,acc: 1.494381, 66.70% Target domain: tr_loss-4.476441, tr_acc-72.39%\n",
      "100,000c5dFalset10:77.50%:78.75% | 75,000c5dFalset10:73.33%:75.42%\n"
     ]
    },
    {
     "name": "stderr",
     "output_type": "stream",
     "text": [
      "\n",
      "epoch-175 lr=['0.0010000'], tr/val_loss:  0.003452/  2.910332, tr: 100.00%, val:  75.42%, val_best:  78.75%: 100%|██████████| 41/41 [00:11<00:00,  3.48it/s]"
     ]
    },
    {
     "name": "stdout",
     "output_type": "stream",
     "text": [
      "Domain loss,acc: 1.513109, 66.70% Target domain: tr_loss-4.532423, tr_acc-73.01%\n",
      "100,000c5dFalset10:75.42%:78.75% | 75,000c5dFalset10:73.33%:75.42%\n"
     ]
    },
    {
     "name": "stderr",
     "output_type": "stream",
     "text": [
      "\n",
      "epoch-176 lr=['0.0010000'], tr/val_loss:  0.003360/  2.916660, tr: 100.00%, val:  74.58%, val_best:  78.75%: 100%|██████████| 41/41 [00:11<00:00,  3.57it/s]"
     ]
    },
    {
     "name": "stdout",
     "output_type": "stream",
     "text": [
      "Domain loss,acc: 1.509948, 66.70% Target domain: tr_loss-4.523122, tr_acc-72.39%\n",
      "100,000c5dFalset10:74.58%:78.75% | 75,000c5dFalset10:73.75%:75.42%\n"
     ]
    },
    {
     "name": "stderr",
     "output_type": "stream",
     "text": [
      "\n",
      "epoch-177 lr=['0.0010000'], tr/val_loss:  0.003527/  2.927071, tr: 100.00%, val:  75.00%, val_best:  78.75%: 100%|██████████| 41/41 [00:11<00:00,  3.62it/s]"
     ]
    },
    {
     "name": "stdout",
     "output_type": "stream",
     "text": [
      "Domain loss,acc: 1.502575, 66.70% Target domain: tr_loss-4.500670, tr_acc-72.09%\n",
      "100,000c5dFalset10:75.00%:78.75% | 75,000c5dFalset10:73.75%:75.42%\n"
     ]
    },
    {
     "name": "stderr",
     "output_type": "stream",
     "text": [
      "\n",
      "epoch-178 lr=['0.0010000'], tr/val_loss:  0.003411/  2.947081, tr: 100.00%, val:  74.58%, val_best:  78.75%: 100%|██████████| 41/41 [00:11<00:00,  3.58it/s]"
     ]
    },
    {
     "name": "stdout",
     "output_type": "stream",
     "text": [
      "Domain loss,acc: 1.508509, 66.70% Target domain: tr_loss-4.518706, tr_acc-72.09%\n",
      "100,000c5dFalset10:74.58%:78.75% | 75,000c5dFalset10:74.58%:75.42%\n"
     ]
    },
    {
     "name": "stderr",
     "output_type": "stream",
     "text": [
      "\n",
      "epoch-179 lr=['0.0010000'], tr/val_loss:  0.003683/  2.932062, tr: 100.00%, val:  75.83%, val_best:  78.75%: 100%|██████████| 41/41 [00:11<00:00,  3.61it/s]"
     ]
    },
    {
     "name": "stdout",
     "output_type": "stream",
     "text": [
      "Domain loss,acc: 1.492469, 66.70% Target domain: tr_loss-4.470040, tr_acc-70.86%\n",
      "100,000c5dFalset10:75.83%:78.75% | 75,000c5dFalset10:74.17%:75.42%\n"
     ]
    },
    {
     "name": "stderr",
     "output_type": "stream",
     "text": [
      "\n",
      "epoch-180 lr=['0.0010000'], tr/val_loss:  0.003293/  2.935803, tr: 100.00%, val:  75.42%, val_best:  78.75%: 100%|██████████| 41/41 [00:11<00:00,  3.57it/s]"
     ]
    },
    {
     "name": "stdout",
     "output_type": "stream",
     "text": [
      "Domain loss,acc: 1.517162, 66.70% Target domain: tr_loss-4.544899, tr_acc-72.39%\n",
      "100,000c5dFalset10:75.42%:78.75% | 75,000c5dFalset10:73.75%:75.42%\n"
     ]
    },
    {
     "name": "stderr",
     "output_type": "stream",
     "text": [
      "\n",
      "epoch-181 lr=['0.0010000'], tr/val_loss:  0.003454/  2.942185, tr: 100.00%, val:  75.00%, val_best:  78.75%: 100%|██████████| 41/41 [00:11<00:00,  3.55it/s]"
     ]
    },
    {
     "name": "stdout",
     "output_type": "stream",
     "text": [
      "Domain loss,acc: 1.506909, 66.70% Target domain: tr_loss-4.513817, tr_acc-73.62%\n",
      "100,000c5dFalset10:75.00%:78.75% | 75,000c5dFalset10:73.75%:75.42%\n"
     ]
    },
    {
     "name": "stderr",
     "output_type": "stream",
     "text": [
      "\n",
      "epoch-182 lr=['0.0010000'], tr/val_loss:  0.003317/  2.948750, tr: 100.00%, val:  75.42%, val_best:  78.75%: 100%|██████████| 41/41 [00:11<00:00,  3.72it/s]"
     ]
    },
    {
     "name": "stdout",
     "output_type": "stream",
     "text": [
      "Domain loss,acc: 1.545509, 66.70% Target domain: tr_loss-4.629894, tr_acc-71.78%\n",
      "100,000c5dFalset10:75.42%:78.75% | 75,000c5dFalset10:74.17%:75.42%\n"
     ]
    },
    {
     "name": "stderr",
     "output_type": "stream",
     "text": [
      "\n",
      "epoch-183 lr=['0.0010000'], tr/val_loss:  0.003467/  2.928796, tr: 100.00%, val:  75.42%, val_best:  78.75%: 100%|██████████| 41/41 [00:11<00:00,  3.68it/s]"
     ]
    },
    {
     "name": "stdout",
     "output_type": "stream",
     "text": [
      "Domain loss,acc: 1.512832, 66.70% Target domain: tr_loss-4.531562, tr_acc-72.70%\n",
      "100,000c5dFalset10:75.42%:78.75% | 75,000c5dFalset10:73.75%:75.42%\n"
     ]
    },
    {
     "name": "stderr",
     "output_type": "stream",
     "text": [
      "\n",
      "epoch-184 lr=['0.0010000'], tr/val_loss:  0.003861/  2.913609, tr: 100.00%, val:  76.67%, val_best:  78.75%: 100%|██████████| 41/41 [00:11<00:00,  3.60it/s]"
     ]
    },
    {
     "name": "stdout",
     "output_type": "stream",
     "text": [
      "Domain loss,acc: 1.521086, 66.70% Target domain: tr_loss-4.555537, tr_acc-72.09%\n",
      "100,000c5dFalset10:76.67%:78.75% | 75,000c5dFalset10:73.33%:75.42%\n"
     ]
    },
    {
     "name": "stderr",
     "output_type": "stream",
     "text": [
      "\n",
      "epoch-185 lr=['0.0010000'], tr/val_loss:  0.004336/  2.927170, tr: 100.00%, val:  76.25%, val_best:  78.75%: 100%|██████████| 41/41 [00:11<00:00,  3.66it/s]"
     ]
    },
    {
     "name": "stdout",
     "output_type": "stream",
     "text": [
      "Domain loss,acc: 1.498587, 66.70% Target domain: tr_loss-4.487092, tr_acc-72.09%\n",
      "100,000c5dFalset10:76.25%:78.75% | 75,000c5dFalset10:72.92%:75.42%\n"
     ]
    },
    {
     "name": "stderr",
     "output_type": "stream",
     "text": [
      "\n",
      "epoch-186 lr=['0.0010000'], tr/val_loss:  0.003507/  2.931906, tr: 100.00%, val:  76.25%, val_best:  78.75%: 100%|██████████| 41/41 [00:11<00:00,  3.53it/s]"
     ]
    },
    {
     "name": "stdout",
     "output_type": "stream",
     "text": [
      "Domain loss,acc: 1.526673, 66.70% Target domain: tr_loss-4.573007, tr_acc-72.39%\n",
      "100,000c5dFalset10:76.25%:78.75% | 75,000c5dFalset10:74.17%:75.42%\n"
     ]
    },
    {
     "name": "stderr",
     "output_type": "stream",
     "text": [
      "\n",
      "epoch-187 lr=['0.0010000'], tr/val_loss:  0.003323/  2.951944, tr: 100.00%, val:  77.08%, val_best:  78.75%: 100%|██████████| 41/41 [00:11<00:00,  3.62it/s]"
     ]
    },
    {
     "name": "stdout",
     "output_type": "stream",
     "text": [
      "Domain loss,acc: 1.497760, 66.70% Target domain: tr_loss-4.486635, tr_acc-73.93%\n",
      "100,000c5dFalset10:77.08%:78.75% | 75,000c5dFalset10:73.33%:75.42%\n"
     ]
    },
    {
     "name": "stderr",
     "output_type": "stream",
     "text": [
      "\n",
      "epoch-188 lr=['0.0010000'], tr/val_loss:  0.003255/  2.936300, tr: 100.00%, val:  76.25%, val_best:  78.75%: 100%|██████████| 41/41 [00:11<00:00,  3.58it/s]"
     ]
    },
    {
     "name": "stdout",
     "output_type": "stream",
     "text": [
      "Domain loss,acc: 1.513299, 66.70% Target domain: tr_loss-4.533388, tr_acc-73.31%\n",
      "100,000c5dFalset10:76.25%:78.75% | 75,000c5dFalset10:74.17%:75.42%\n"
     ]
    },
    {
     "name": "stderr",
     "output_type": "stream",
     "text": [
      "\n",
      "epoch-189 lr=['0.0010000'], tr/val_loss:  0.003124/  2.939142, tr: 100.00%, val:  76.25%, val_best:  78.75%: 100%|██████████| 41/41 [00:11<00:00,  3.50it/s]"
     ]
    },
    {
     "name": "stdout",
     "output_type": "stream",
     "text": [
      "Domain loss,acc: 1.517250, 66.70% Target domain: tr_loss-4.545501, tr_acc-72.39%\n",
      "100,000c5dFalset10:76.25%:78.75% | 75,000c5dFalset10:74.17%:75.42%\n"
     ]
    },
    {
     "name": "stderr",
     "output_type": "stream",
     "text": [
      "\n",
      "epoch-190 lr=['0.0010000'], tr/val_loss:  0.003237/  2.940099, tr: 100.00%, val:  76.67%, val_best:  78.75%:  98%|█████████▊| 40/41 [00:12<00:00,  7.31it/s]"
     ]
    },
    {
     "name": "stdout",
     "output_type": "stream",
     "text": [
      "Domain loss,acc: 1.524361, 66.70% Target domain: tr_loss-4.566608, tr_acc-73.31%\n",
      "100,000c5dFalset10:76.67%:78.75% | 75,000c5dFalset10:74.17%:75.42%\n"
     ]
    },
    {
     "name": "stderr",
     "output_type": "stream",
     "text": [
      "epoch-190 lr=['0.0010000'], tr/val_loss:  0.003237/  2.940099, tr: 100.00%, val:  76.67%, val_best:  78.75%: 100%|██████████| 41/41 [00:13<00:00,  3.15it/s]\n",
      "epoch-191 lr=['0.0010000'], tr/val_loss:  0.003296/  2.968134, tr: 100.00%, val:  75.00%, val_best:  78.75%: 100%|██████████| 41/41 [00:11<00:00,  3.64it/s]"
     ]
    },
    {
     "name": "stdout",
     "output_type": "stream",
     "text": [
      "Domain loss,acc: 1.509693, 66.70% Target domain: tr_loss-4.522486, tr_acc-73.31%\n",
      "100,000c5dFalset10:75.00%:78.75% | 75,000c5dFalset10:75.00%:75.42%\n"
     ]
    },
    {
     "name": "stderr",
     "output_type": "stream",
     "text": [
      "\n",
      "epoch-192 lr=['0.0010000'], tr/val_loss:  0.003352/  2.945586, tr: 100.00%, val:  76.67%, val_best:  78.75%: 100%|██████████| 41/41 [00:11<00:00,  1.05s/it]"
     ]
    },
    {
     "name": "stdout",
     "output_type": "stream",
     "text": [
      "Domain loss,acc: 1.495835, 66.70% Target domain: tr_loss-4.480802, tr_acc-73.01%\n",
      "100,000c5dFalset10:76.67%:78.75% | 75,000c5dFalset10:72.92%:75.42%\n"
     ]
    },
    {
     "name": "stderr",
     "output_type": "stream",
     "text": [
      "epoch-192 lr=['0.0010000'], tr/val_loss:  0.003352/  2.945586, tr: 100.00%, val:  76.67%, val_best:  78.75%: 100%|██████████| 41/41 [00:11<00:00,  3.52it/s]\n",
      "epoch-193 lr=['0.0010000'], tr/val_loss:  0.003274/  2.967208, tr: 100.00%, val:  75.83%, val_best:  78.75%: 100%|██████████| 41/41 [00:11<00:00,  3.67it/s]"
     ]
    },
    {
     "name": "stdout",
     "output_type": "stream",
     "text": [
      "Domain loss,acc: 1.529751, 66.70% Target domain: tr_loss-4.582706, tr_acc-72.70%\n",
      "100,000c5dFalset10:75.83%:78.75% | 75,000c5dFalset10:72.50%:75.42%\n"
     ]
    },
    {
     "name": "stderr",
     "output_type": "stream",
     "text": [
      "\n",
      "epoch-194 lr=['0.0010000'], tr/val_loss:  0.003309/  2.965649, tr: 100.00%, val:  75.42%, val_best:  78.75%: 100%|██████████| 41/41 [00:11<00:00,  3.58it/s]"
     ]
    },
    {
     "name": "stdout",
     "output_type": "stream",
     "text": [
      "Domain loss,acc: 1.551272, 66.70% Target domain: tr_loss-4.647198, tr_acc-73.31%\n",
      "100,000c5dFalset10:75.42%:78.75% | 75,000c5dFalset10:71.67%:75.42%\n"
     ]
    },
    {
     "name": "stderr",
     "output_type": "stream",
     "text": [
      "\n",
      "epoch-195 lr=['0.0010000'], tr/val_loss:  0.003487/  2.964086, tr: 100.00%, val:  75.83%, val_best:  78.75%: 100%|██████████| 41/41 [00:13<00:00,  3.07it/s]"
     ]
    },
    {
     "name": "stdout",
     "output_type": "stream",
     "text": [
      "Domain loss,acc: 1.527443, 66.70% Target domain: tr_loss-4.575353, tr_acc-73.62%\n",
      "100,000c5dFalset10:75.83%:78.75% | 75,000c5dFalset10:73.75%:75.42%\n"
     ]
    },
    {
     "name": "stderr",
     "output_type": "stream",
     "text": [
      "\n",
      "epoch-196 lr=['0.0010000'], tr/val_loss:  0.003337/  2.957865, tr: 100.00%, val:  77.50%, val_best:  78.75%: 100%|██████████| 41/41 [00:11<00:00,  3.58it/s]"
     ]
    },
    {
     "name": "stdout",
     "output_type": "stream",
     "text": [
      "Domain loss,acc: 1.562584, 66.70% Target domain: tr_loss-4.681077, tr_acc-73.01%\n",
      "100,000c5dFalset10:77.50%:78.75% | 75,000c5dFalset10:72.92%:75.42%\n"
     ]
    },
    {
     "name": "stderr",
     "output_type": "stream",
     "text": [
      "\n",
      "epoch-197 lr=['0.0010000'], tr/val_loss:  0.003288/  2.974369, tr: 100.00%, val:  77.08%, val_best:  78.75%: 100%|██████████| 41/41 [00:11<00:00,  3.51it/s]"
     ]
    },
    {
     "name": "stdout",
     "output_type": "stream",
     "text": [
      "Domain loss,acc: 1.548642, 66.70% Target domain: tr_loss-4.639349, tr_acc-73.62%\n",
      "100,000c5dFalset10:77.08%:78.75% | 75,000c5dFalset10:74.58%:75.42%\n"
     ]
    },
    {
     "name": "stderr",
     "output_type": "stream",
     "text": [
      "\n",
      "epoch-198 lr=['0.0010000'], tr/val_loss:  0.003108/  2.968434, tr: 100.00%, val:  76.25%, val_best:  78.75%: 100%|██████████| 41/41 [00:11<00:00,  3.46it/s]"
     ]
    },
    {
     "name": "stdout",
     "output_type": "stream",
     "text": [
      "Domain loss,acc: 1.544980, 66.70% Target domain: tr_loss-4.628724, tr_acc-72.39%\n",
      "100,000c5dFalset10:76.25%:78.75% | 75,000c5dFalset10:74.17%:75.42%\n"
     ]
    },
    {
     "name": "stderr",
     "output_type": "stream",
     "text": [
      "\n",
      "epoch-199 lr=['0.0010000'], tr/val_loss:  0.002836/  2.972691, tr: 100.00%, val:  76.67%, val_best:  78.75%: 100%|██████████| 41/41 [00:11<00:00,  3.69it/s]"
     ]
    },
    {
     "name": "stdout",
     "output_type": "stream",
     "text": [
      "Domain loss,acc: 1.538354, 66.70% Target domain: tr_loss-4.609390, tr_acc-73.01%\n",
      "100,000c5dFalset10:76.67%:78.75% | 75,000c5dFalset10:73.75%:75.42%\n"
     ]
    },
    {
     "name": "stderr",
     "output_type": "stream",
     "text": [
      "\n",
      "epoch-200 lr=['0.0010000'], tr/val_loss:  0.003019/  2.989968, tr: 100.00%, val:  75.83%, val_best:  78.75%: 100%|██████████| 41/41 [00:11<00:00,  3.67it/s]"
     ]
    },
    {
     "name": "stdout",
     "output_type": "stream",
     "text": [
      "Domain loss,acc: 1.523013, 66.70% Target domain: tr_loss-4.563003, tr_acc-73.01%\n",
      "100,000c5dFalset10:75.83%:78.75% | 75,000c5dFalset10:74.58%:75.42%\n"
     ]
    },
    {
     "name": "stderr",
     "output_type": "stream",
     "text": [
      "\n",
      "epoch-201 lr=['0.0010000'], tr/val_loss:  0.003265/  2.991189, tr: 100.00%, val:  76.25%, val_best:  78.75%: 100%|██████████| 41/41 [00:11<00:00,  3.50it/s]"
     ]
    },
    {
     "name": "stdout",
     "output_type": "stream",
     "text": [
      "Domain loss,acc: 1.556451, 66.70% Target domain: tr_loss-4.662822, tr_acc-72.39%\n",
      "100,000c5dFalset10:76.25%:78.75% | 75,000c5dFalset10:73.75%:75.42%\n"
     ]
    },
    {
     "name": "stderr",
     "output_type": "stream",
     "text": [
      "\n",
      "epoch-202 lr=['0.0010000'], tr/val_loss:  0.003236/  3.013658, tr: 100.00%, val:  75.00%, val_best:  78.75%: 100%|██████████| 41/41 [00:10<00:00,  3.81it/s]"
     ]
    },
    {
     "name": "stdout",
     "output_type": "stream",
     "text": [
      "Domain loss,acc: 1.545008, 66.70% Target domain: tr_loss-4.628553, tr_acc-72.09%\n",
      "100,000c5dFalset10:75.00%:78.75% | 75,000c5dFalset10:74.58%:75.42%\n"
     ]
    },
    {
     "name": "stderr",
     "output_type": "stream",
     "text": [
      "\n",
      "epoch-203 lr=['0.0010000'], tr/val_loss:  0.002962/  3.025146, tr: 100.00%, val:  75.83%, val_best:  78.75%:  98%|█████████▊| 40/41 [00:10<00:00,  7.72it/s]"
     ]
    },
    {
     "name": "stdout",
     "output_type": "stream",
     "text": [
      "Domain loss,acc: 1.534383, 66.70% Target domain: tr_loss-4.597227, tr_acc-71.78%\n",
      "100,000c5dFalset10:75.83%:78.75% | 75,000c5dFalset10:74.17%:75.42%\n"
     ]
    },
    {
     "name": "stderr",
     "output_type": "stream",
     "text": [
      "epoch-203 lr=['0.0010000'], tr/val_loss:  0.002962/  3.025146, tr: 100.00%, val:  75.83%, val_best:  78.75%: 100%|██████████| 41/41 [00:12<00:00,  3.38it/s]\n",
      "epoch-204 lr=['0.0010000'], tr/val_loss:  0.003030/  3.034119, tr: 100.00%, val:  75.42%, val_best:  78.75%: 100%|██████████| 41/41 [00:10<00:00,  3.79it/s]"
     ]
    },
    {
     "name": "stdout",
     "output_type": "stream",
     "text": [
      "Domain loss,acc: 1.547911, 66.70% Target domain: tr_loss-4.637671, tr_acc-72.39%\n",
      "100,000c5dFalset10:75.42%:78.75% | 75,000c5dFalset10:73.75%:75.42%\n"
     ]
    },
    {
     "name": "stderr",
     "output_type": "stream",
     "text": [
      "\n",
      "epoch-205 lr=['0.0010000'], tr/val_loss:  0.003152/  3.018354, tr: 100.00%, val:  75.42%, val_best:  78.75%: 100%|██████████| 41/41 [00:11<00:00,  3.68it/s]"
     ]
    },
    {
     "name": "stdout",
     "output_type": "stream",
     "text": [
      "Domain loss,acc: 1.530133, 66.70% Target domain: tr_loss-4.584095, tr_acc-71.47%\n",
      "100,000c5dFalset10:75.42%:78.75% | 75,000c5dFalset10:74.17%:75.42%\n"
     ]
    },
    {
     "name": "stderr",
     "output_type": "stream",
     "text": [
      "\n",
      "epoch-206 lr=['0.0010000'], tr/val_loss:  0.002874/  3.017150, tr: 100.00%, val:  75.42%, val_best:  78.75%: 100%|██████████| 41/41 [00:22<00:00,  1.80it/s]"
     ]
    },
    {
     "name": "stdout",
     "output_type": "stream",
     "text": [
      "Domain loss,acc: 1.542008, 66.70% Target domain: tr_loss-4.620276, tr_acc-72.70%\n",
      "100,000c5dFalset10:75.42%:78.75% | 75,000c5dFalset10:74.17%:75.42%\n"
     ]
    },
    {
     "name": "stderr",
     "output_type": "stream",
     "text": [
      "\n",
      "epoch-207 lr=['0.0010000'], tr/val_loss:  0.003034/  3.027686, tr: 100.00%, val:  75.83%, val_best:  78.75%: 100%|██████████| 41/41 [00:12<00:00,  3.23it/s]"
     ]
    },
    {
     "name": "stdout",
     "output_type": "stream",
     "text": [
      "Domain loss,acc: 1.557276, 66.70% Target domain: tr_loss-4.665762, tr_acc-72.70%\n",
      "100,000c5dFalset10:75.83%:78.75% | 75,000c5dFalset10:72.92%:75.42%\n"
     ]
    },
    {
     "name": "stderr",
     "output_type": "stream",
     "text": [
      "\n",
      "epoch-208 lr=['0.0010000'], tr/val_loss:  0.003303/  3.021771, tr: 100.00%, val:  75.42%, val_best:  78.75%: 100%|██████████| 41/41 [00:13<00:00,  3.09it/s]"
     ]
    },
    {
     "name": "stdout",
     "output_type": "stream",
     "text": [
      "Domain loss,acc: 1.544226, 66.70% Target domain: tr_loss-4.626070, tr_acc-72.39%\n",
      "100,000c5dFalset10:75.42%:78.75% | 75,000c5dFalset10:72.50%:75.42%\n"
     ]
    },
    {
     "name": "stderr",
     "output_type": "stream",
     "text": [
      "\n",
      "epoch-209 lr=['0.0010000'], tr/val_loss:  0.002968/  3.006046, tr: 100.00%, val:  75.42%, val_best:  78.75%: 100%|██████████| 41/41 [00:11<00:00,  3.52it/s]"
     ]
    },
    {
     "name": "stdout",
     "output_type": "stream",
     "text": [
      "Domain loss,acc: 1.562931, 66.70% Target domain: tr_loss-4.682858, tr_acc-72.70%\n",
      "100,000c5dFalset10:75.42%:78.75% | 75,000c5dFalset10:71.67%:75.42%\n"
     ]
    },
    {
     "name": "stderr",
     "output_type": "stream",
     "text": [
      "\n",
      "epoch-210 lr=['0.0010000'], tr/val_loss:  0.003135/  3.023916, tr: 100.00%, val:  74.58%, val_best:  78.75%: 100%|██████████| 41/41 [00:11<00:00,  3.45it/s]"
     ]
    },
    {
     "name": "stdout",
     "output_type": "stream",
     "text": [
      "Domain loss,acc: 1.549772, 66.70% Target domain: tr_loss-4.643046, tr_acc-72.39%\n",
      "100,000c5dFalset10:74.58%:78.75% | 75,000c5dFalset10:73.33%:75.42%\n"
     ]
    },
    {
     "name": "stderr",
     "output_type": "stream",
     "text": [
      "\n",
      "epoch-211 lr=['0.0010000'], tr/val_loss:  0.003042/  3.036781, tr: 100.00%, val:  74.58%, val_best:  78.75%: 100%|██████████| 41/41 [00:11<00:00,  3.56it/s]"
     ]
    },
    {
     "name": "stdout",
     "output_type": "stream",
     "text": [
      "Domain loss,acc: 1.551352, 66.70% Target domain: tr_loss-4.647971, tr_acc-72.70%\n",
      "100,000c5dFalset10:74.58%:78.75% | 75,000c5dFalset10:72.50%:75.42%\n"
     ]
    },
    {
     "name": "stderr",
     "output_type": "stream",
     "text": [
      "\n",
      "epoch-212 lr=['0.0010000'], tr/val_loss:  0.003010/  3.025749, tr: 100.00%, val:  74.58%, val_best:  78.75%: 100%|██████████| 41/41 [00:19<00:00,  2.08it/s]"
     ]
    },
    {
     "name": "stdout",
     "output_type": "stream",
     "text": [
      "Domain loss,acc: 1.577250, 66.70% Target domain: tr_loss-4.725729, tr_acc-73.31%\n",
      "100,000c5dFalset10:74.58%:78.75% | 75,000c5dFalset10:72.08%:75.42%\n"
     ]
    },
    {
     "name": "stderr",
     "output_type": "stream",
     "text": [
      "\n",
      "epoch-213 lr=['0.0010000'], tr/val_loss:  0.002796/  3.028909, tr: 100.00%, val:  75.42%, val_best:  78.75%: 100%|██████████| 41/41 [00:10<00:00,  3.83it/s]"
     ]
    },
    {
     "name": "stdout",
     "output_type": "stream",
     "text": [
      "Domain loss,acc: 1.583725, 66.70% Target domain: tr_loss-4.745581, tr_acc-73.01%\n",
      "100,000c5dFalset10:75.42%:78.75% | 75,000c5dFalset10:71.25%:75.42%\n"
     ]
    },
    {
     "name": "stderr",
     "output_type": "stream",
     "text": [
      "\n",
      "epoch-214 lr=['0.0010000'], tr/val_loss:  0.002890/  3.051252, tr: 100.00%, val:  75.00%, val_best:  78.75%: 100%|██████████| 41/41 [00:11<00:00,  3.69it/s]"
     ]
    },
    {
     "name": "stdout",
     "output_type": "stream",
     "text": [
      "Domain loss,acc: 1.561447, 66.70% Target domain: tr_loss-4.678560, tr_acc-73.31%\n",
      "100,000c5dFalset10:75.00%:78.75% | 75,000c5dFalset10:73.33%:75.42%\n"
     ]
    },
    {
     "name": "stderr",
     "output_type": "stream",
     "text": [
      "\n",
      "epoch-215 lr=['0.0010000'], tr/val_loss:  0.002834/  3.050552, tr: 100.00%, val:  75.83%, val_best:  78.75%: 100%|██████████| 41/41 [00:10<00:00,  3.77it/s]"
     ]
    },
    {
     "name": "stdout",
     "output_type": "stream",
     "text": [
      "Domain loss,acc: 1.566748, 66.70% Target domain: tr_loss-4.694574, tr_acc-73.01%\n",
      "100,000c5dFalset10:75.83%:78.75% | 75,000c5dFalset10:72.50%:75.42%\n"
     ]
    },
    {
     "name": "stderr",
     "output_type": "stream",
     "text": [
      "\n",
      "epoch-216 lr=['0.0010000'], tr/val_loss:  0.002957/  3.065002, tr: 100.00%, val:  74.58%, val_best:  78.75%: 100%|██████████| 41/41 [00:10<00:00,  1.05s/it]"
     ]
    },
    {
     "name": "stdout",
     "output_type": "stream",
     "text": [
      "Domain loss,acc: 1.571208, 66.70% Target domain: tr_loss-4.707710, tr_acc-73.31%\n",
      "100,000c5dFalset10:74.58%:78.75% | 75,000c5dFalset10:72.50%:75.42%\n"
     ]
    },
    {
     "name": "stderr",
     "output_type": "stream",
     "text": [
      "epoch-216 lr=['0.0010000'], tr/val_loss:  0.002957/  3.065002, tr: 100.00%, val:  74.58%, val_best:  78.75%: 100%|██████████| 41/41 [00:11<00:00,  3.69it/s]\n",
      "epoch-217 lr=['0.0010000'], tr/val_loss:  0.003473/  3.049680, tr: 100.00%, val:  76.25%, val_best:  78.75%: 100%|██████████| 41/41 [00:11<00:00,  3.57it/s]"
     ]
    },
    {
     "name": "stdout",
     "output_type": "stream",
     "text": [
      "Domain loss,acc: 1.554581, 66.70% Target domain: tr_loss-4.656797, tr_acc-73.31%\n",
      "100,000c5dFalset10:76.25%:78.75% | 75,000c5dFalset10:70.83%:75.42%\n"
     ]
    },
    {
     "name": "stderr",
     "output_type": "stream",
     "text": [
      "\n",
      "epoch-218 lr=['0.0010000'], tr/val_loss:  0.003059/  3.061020, tr: 100.00%, val:  75.42%, val_best:  78.75%: 100%|██████████| 41/41 [00:12<00:00,  3.20it/s]"
     ]
    },
    {
     "name": "stdout",
     "output_type": "stream",
     "text": [
      "Domain loss,acc: 1.566819, 66.70% Target domain: tr_loss-4.694340, tr_acc-72.70%\n",
      "100,000c5dFalset10:75.42%:78.75% | 75,000c5dFalset10:73.33%:75.42%\n"
     ]
    },
    {
     "name": "stderr",
     "output_type": "stream",
     "text": [
      "\n",
      "epoch-219 lr=['0.0010000'], tr/val_loss:  0.002992/  3.058934, tr: 100.00%, val:  74.58%, val_best:  78.75%: 100%|██████████| 41/41 [00:10<00:00,  1.09s/it]"
     ]
    },
    {
     "name": "stdout",
     "output_type": "stream",
     "text": [
      "Domain loss,acc: 1.567982, 66.70% Target domain: tr_loss-4.697961, tr_acc-73.31%\n",
      "100,000c5dFalset10:74.58%:78.75% | 75,000c5dFalset10:72.92%:75.42%\n"
     ]
    },
    {
     "name": "stderr",
     "output_type": "stream",
     "text": [
      "epoch-219 lr=['0.0010000'], tr/val_loss:  0.002992/  3.058934, tr: 100.00%, val:  74.58%, val_best:  78.75%: 100%|██████████| 41/41 [00:11<00:00,  3.72it/s]\n",
      "epoch-220 lr=['0.0010000'], tr/val_loss:  0.002800/  3.069045, tr: 100.00%, val:  76.25%, val_best:  78.75%: 100%|██████████| 41/41 [00:13<00:00,  3.12it/s]"
     ]
    },
    {
     "name": "stdout",
     "output_type": "stream",
     "text": [
      "Domain loss,acc: 1.605991, 66.70% Target domain: tr_loss-4.812371, tr_acc-73.62%\n",
      "100,000c5dFalset10:76.25%:78.75% | 75,000c5dFalset10:73.75%:75.42%\n"
     ]
    },
    {
     "name": "stderr",
     "output_type": "stream",
     "text": [
      "\n",
      "epoch-221 lr=['0.0010000'], tr/val_loss:  0.002722/  3.082087, tr: 100.00%, val:  75.83%, val_best:  78.75%: 100%|██████████| 41/41 [00:11<00:00,  3.66it/s]"
     ]
    },
    {
     "name": "stdout",
     "output_type": "stream",
     "text": [
      "Domain loss,acc: 1.583652, 66.70% Target domain: tr_loss-4.745513, tr_acc-73.62%\n",
      "100,000c5dFalset10:75.83%:78.75% | 75,000c5dFalset10:73.75%:75.42%\n"
     ]
    },
    {
     "name": "stderr",
     "output_type": "stream",
     "text": [
      "\n",
      "epoch-222 lr=['0.0010000'], tr/val_loss:  0.002895/  3.079268, tr: 100.00%, val:  75.42%, val_best:  78.75%:  98%|█████████▊| 40/41 [00:11<00:00,  7.84it/s]"
     ]
    },
    {
     "name": "stdout",
     "output_type": "stream",
     "text": [
      "Domain loss,acc: 1.557299, 66.70% Target domain: tr_loss-4.666106, tr_acc-73.01%\n",
      "100,000c5dFalset10:75.42%:78.75% | 75,000c5dFalset10:72.92%:75.42%\n"
     ]
    },
    {
     "name": "stderr",
     "output_type": "stream",
     "text": [
      "epoch-222 lr=['0.0010000'], tr/val_loss:  0.002895/  3.079268, tr: 100.00%, val:  75.42%, val_best:  78.75%: 100%|██████████| 41/41 [00:11<00:00,  3.56it/s]\n",
      "epoch-223 lr=['0.0010000'], tr/val_loss:  0.003088/  3.072064, tr: 100.00%, val:  75.00%, val_best:  78.75%: 100%|██████████| 41/41 [00:13<00:00,  3.02it/s]"
     ]
    },
    {
     "name": "stdout",
     "output_type": "stream",
     "text": [
      "Domain loss,acc: 1.623007, 66.70% Target domain: tr_loss-4.862847, tr_acc-73.01%\n",
      "100,000c5dFalset10:75.00%:78.75% | 75,000c5dFalset10:72.92%:75.42%\n"
     ]
    },
    {
     "name": "stderr",
     "output_type": "stream",
     "text": [
      "\n",
      "epoch-224 lr=['0.0010000'], tr/val_loss:  0.002708/  3.090052, tr: 100.00%, val:  75.00%, val_best:  78.75%: 100%|██████████| 41/41 [00:10<00:00,  3.73it/s]"
     ]
    },
    {
     "name": "stdout",
     "output_type": "stream",
     "text": [
      "Domain loss,acc: 1.568233, 66.70% Target domain: tr_loss-4.699284, tr_acc-73.62%\n",
      "100,000c5dFalset10:75.00%:78.75% | 75,000c5dFalset10:74.58%:75.42%\n"
     ]
    },
    {
     "name": "stderr",
     "output_type": "stream",
     "text": [
      "\n",
      "epoch-225 lr=['0.0010000'], tr/val_loss:  0.002715/  3.100101, tr: 100.00%, val:  74.58%, val_best:  78.75%: 100%|██████████| 41/41 [00:12<00:00,  3.38it/s]"
     ]
    },
    {
     "name": "stdout",
     "output_type": "stream",
     "text": [
      "Domain loss,acc: 1.594066, 66.70% Target domain: tr_loss-4.776767, tr_acc-73.93%\n",
      "100,000c5dFalset10:74.58%:78.75% | 75,000c5dFalset10:73.75%:75.42%\n"
     ]
    },
    {
     "name": "stderr",
     "output_type": "stream",
     "text": [
      "\n",
      "epoch-226 lr=['0.0010000'], tr/val_loss:  0.003004/  3.092567, tr: 100.00%, val:  75.42%, val_best:  78.75%: 100%|██████████| 41/41 [00:10<00:00,  3.73it/s]"
     ]
    },
    {
     "name": "stdout",
     "output_type": "stream",
     "text": [
      "Domain loss,acc: 1.599781, 66.70% Target domain: tr_loss-4.793336, tr_acc-73.62%\n",
      "100,000c5dFalset10:75.42%:78.75% | 75,000c5dFalset10:73.33%:75.42%\n"
     ]
    },
    {
     "name": "stderr",
     "output_type": "stream",
     "text": [
      "\n",
      "epoch-227 lr=['0.0010000'], tr/val_loss:  0.002743/  3.090683, tr: 100.00%, val:  75.83%, val_best:  78.75%: 100%|██████████| 41/41 [00:11<00:00,  3.72it/s]"
     ]
    },
    {
     "name": "stdout",
     "output_type": "stream",
     "text": [
      "Domain loss,acc: 1.611579, 66.70% Target domain: tr_loss-4.829251, tr_acc-73.62%\n",
      "100,000c5dFalset10:75.83%:78.75% | 75,000c5dFalset10:72.50%:75.42%\n"
     ]
    },
    {
     "name": "stderr",
     "output_type": "stream",
     "text": [
      "\n",
      "epoch-228 lr=['0.0010000'], tr/val_loss:  0.002823/  3.079799, tr: 100.00%, val:  75.83%, val_best:  78.75%: 100%|██████████| 41/41 [00:11<00:00,  3.66it/s]"
     ]
    },
    {
     "name": "stdout",
     "output_type": "stream",
     "text": [
      "Domain loss,acc: 1.592485, 66.70% Target domain: tr_loss-4.771807, tr_acc-73.93%\n",
      "100,000c5dFalset10:75.83%:78.75% | 75,000c5dFalset10:73.33%:75.42%\n"
     ]
    },
    {
     "name": "stderr",
     "output_type": "stream",
     "text": [
      "\n",
      "epoch-229 lr=['0.0010000'], tr/val_loss:  0.002578/  3.091423, tr: 100.00%, val:  74.58%, val_best:  78.75%: 100%|██████████| 41/41 [00:10<00:00,  3.78it/s]"
     ]
    },
    {
     "name": "stdout",
     "output_type": "stream",
     "text": [
      "Domain loss,acc: 1.599921, 66.70% Target domain: tr_loss-4.794608, tr_acc-73.93%\n",
      "100,000c5dFalset10:74.58%:78.75% | 75,000c5dFalset10:74.58%:75.42%\n"
     ]
    },
    {
     "name": "stderr",
     "output_type": "stream",
     "text": [
      "\n",
      "epoch-230 lr=['0.0010000'], tr/val_loss:  0.002842/  3.109737, tr: 100.00%, val:  76.25%, val_best:  78.75%: 100%|██████████| 41/41 [00:10<00:00,  3.81it/s]"
     ]
    },
    {
     "name": "stdout",
     "output_type": "stream",
     "text": [
      "Domain loss,acc: 1.586782, 66.70% Target domain: tr_loss-4.754661, tr_acc-74.54%\n",
      "100,000c5dFalset10:76.25%:78.75% | 75,000c5dFalset10:74.58%:75.42%\n"
     ]
    },
    {
     "name": "stderr",
     "output_type": "stream",
     "text": [
      "\n",
      "epoch-231 lr=['0.0010000'], tr/val_loss:  0.002752/  3.093372, tr: 100.00%, val:  75.00%, val_best:  78.75%: 100%|██████████| 41/41 [00:10<00:00,  3.83it/s]"
     ]
    },
    {
     "name": "stdout",
     "output_type": "stream",
     "text": [
      "Domain loss,acc: 1.601546, 66.70% Target domain: tr_loss-4.799133, tr_acc-74.85%\n",
      "100,000c5dFalset10:75.00%:78.75% | 75,000c5dFalset10:74.17%:75.42%\n"
     ]
    },
    {
     "name": "stderr",
     "output_type": "stream",
     "text": [
      "\n",
      "epoch-232 lr=['0.0010000'], tr/val_loss:  0.003073/  3.101609, tr: 100.00%, val:  75.42%, val_best:  78.75%: 100%|██████████| 41/41 [00:11<00:00,  3.63it/s]"
     ]
    },
    {
     "name": "stdout",
     "output_type": "stream",
     "text": [
      "Domain loss,acc: 1.588548, 66.70% Target domain: tr_loss-4.759499, tr_acc-73.62%\n",
      "100,000c5dFalset10:75.42%:78.75% | 75,000c5dFalset10:75.00%:75.42%\n"
     ]
    },
    {
     "name": "stderr",
     "output_type": "stream",
     "text": [
      "\n",
      "epoch-233 lr=['0.0010000'], tr/val_loss:  0.002880/  3.113126, tr: 100.00%, val:  75.42%, val_best:  78.75%: 100%|██████████| 41/41 [00:11<00:00,  3.68it/s]"
     ]
    },
    {
     "name": "stdout",
     "output_type": "stream",
     "text": [
      "Domain loss,acc: 1.650973, 66.70% Target domain: tr_loss-4.947158, tr_acc-74.23%\n",
      "100,000c5dFalset10:75.42%:78.75% | 75,000c5dFalset10:72.92%:75.42%\n"
     ]
    },
    {
     "name": "stderr",
     "output_type": "stream",
     "text": [
      "\n",
      "epoch-234 lr=['0.0010000'], tr/val_loss:  0.002919/  3.100976, tr: 100.00%, val:  75.83%, val_best:  78.75%: 100%|██████████| 41/41 [00:11<00:00,  3.66it/s]"
     ]
    },
    {
     "name": "stdout",
     "output_type": "stream",
     "text": [
      "Domain loss,acc: 1.620549, 66.70% Target domain: tr_loss-4.855808, tr_acc-73.93%\n",
      "100,000c5dFalset10:75.83%:78.75% | 75,000c5dFalset10:72.50%:75.42%\n"
     ]
    },
    {
     "name": "stderr",
     "output_type": "stream",
     "text": [
      "\n",
      "epoch-235 lr=['0.0010000'], tr/val_loss:  0.002950/  3.111693, tr: 100.00%, val:  74.58%, val_best:  78.75%: 100%|██████████| 41/41 [00:11<00:00,  3.58it/s]"
     ]
    },
    {
     "name": "stdout",
     "output_type": "stream",
     "text": [
      "Domain loss,acc: 1.607916, 66.70% Target domain: tr_loss-4.817846, tr_acc-74.23%\n",
      "100,000c5dFalset10:74.58%:78.75% | 75,000c5dFalset10:72.92%:75.42%\n"
     ]
    },
    {
     "name": "stderr",
     "output_type": "stream",
     "text": [
      "\n",
      "epoch-236 lr=['0.0010000'], tr/val_loss:  0.002519/  3.110356, tr: 100.00%, val:  75.42%, val_best:  78.75%: 100%|██████████| 41/41 [00:10<00:00,  3.81it/s]"
     ]
    },
    {
     "name": "stdout",
     "output_type": "stream",
     "text": [
      "Domain loss,acc: 1.601888, 66.70% Target domain: tr_loss-4.800624, tr_acc-74.85%\n",
      "100,000c5dFalset10:75.42%:78.75% | 75,000c5dFalset10:72.92%:75.42%\n"
     ]
    },
    {
     "name": "stderr",
     "output_type": "stream",
     "text": [
      "\n",
      "epoch-237 lr=['0.0010000'], tr/val_loss:  0.002730/  3.128554, tr: 100.00%, val:  75.00%, val_best:  78.75%: 100%|██████████| 41/41 [00:12<00:00,  3.33it/s]"
     ]
    },
    {
     "name": "stdout",
     "output_type": "stream",
     "text": [
      "Domain loss,acc: 1.633557, 66.70% Target domain: tr_loss-4.895211, tr_acc-73.01%\n",
      "100,000c5dFalset10:75.00%:78.75% | 75,000c5dFalset10:72.92%:75.42%\n"
     ]
    },
    {
     "name": "stderr",
     "output_type": "stream",
     "text": [
      "\n",
      "epoch-238 lr=['0.0010000'], tr/val_loss:  0.003372/  3.144569, tr: 100.00%, val:  74.58%, val_best:  78.75%: 100%|██████████| 41/41 [00:12<00:00,  3.21it/s]"
     ]
    },
    {
     "name": "stdout",
     "output_type": "stream",
     "text": [
      "Domain loss,acc: 1.602051, 66.70% Target domain: tr_loss-4.799409, tr_acc-74.23%\n",
      "100,000c5dFalset10:74.58%:78.75% | 75,000c5dFalset10:72.50%:75.42%\n"
     ]
    },
    {
     "name": "stderr",
     "output_type": "stream",
     "text": [
      "\n",
      "epoch-239 lr=['0.0010000'], tr/val_loss:  0.002960/  3.153841, tr: 100.00%, val:  75.83%, val_best:  78.75%: 100%|██████████| 41/41 [00:12<00:00,  3.18it/s]"
     ]
    },
    {
     "name": "stdout",
     "output_type": "stream",
     "text": [
      "Domain loss,acc: 1.629142, 66.70% Target domain: tr_loss-4.881510, tr_acc-74.54%\n",
      "100,000c5dFalset10:75.83%:78.75% | 75,000c5dFalset10:73.75%:75.42%\n"
     ]
    },
    {
     "name": "stderr",
     "output_type": "stream",
     "text": [
      "\n",
      "epoch-240 lr=['0.0010000'], tr/val_loss:  0.004095/  3.144277, tr: 100.00%, val:  76.25%, val_best:  78.75%: 100%|██████████| 41/41 [00:12<00:00,  1.09s/it]"
     ]
    },
    {
     "name": "stdout",
     "output_type": "stream",
     "text": [
      "Domain loss,acc: 1.614891, 66.70% Target domain: tr_loss-4.836484, tr_acc-74.85%\n",
      "100,000c5dFalset10:76.25%:78.75% | 75,000c5dFalset10:73.75%:75.42%\n"
     ]
    },
    {
     "name": "stderr",
     "output_type": "stream",
     "text": [
      "epoch-240 lr=['0.0010000'], tr/val_loss:  0.004095/  3.144277, tr: 100.00%, val:  76.25%, val_best:  78.75%: 100%|██████████| 41/41 [00:12<00:00,  3.32it/s]\n",
      "epoch-241 lr=['0.0010000'], tr/val_loss:  0.002918/  3.137601, tr: 100.00%, val:  76.25%, val_best:  78.75%: 100%|██████████| 41/41 [00:13<00:00,  3.15it/s]"
     ]
    },
    {
     "name": "stdout",
     "output_type": "stream",
     "text": [
      "Domain loss,acc: 1.625636, 66.70% Target domain: tr_loss-4.871073, tr_acc-73.93%\n",
      "100,000c5dFalset10:76.25%:78.75% | 75,000c5dFalset10:74.17%:75.42%\n"
     ]
    },
    {
     "name": "stderr",
     "output_type": "stream",
     "text": [
      "\n",
      "epoch-242 lr=['0.0010000'], tr/val_loss:  0.003195/  3.135298, tr: 100.00%, val:  74.58%, val_best:  78.75%: 100%|██████████| 41/41 [00:12<00:00,  3.20it/s]"
     ]
    },
    {
     "name": "stdout",
     "output_type": "stream",
     "text": [
      "Domain loss,acc: 1.594312, 66.70% Target domain: tr_loss-4.776548, tr_acc-74.85%\n",
      "100,000c5dFalset10:74.58%:78.75% | 75,000c5dFalset10:73.33%:75.42%\n"
     ]
    },
    {
     "name": "stderr",
     "output_type": "stream",
     "text": [
      "\n",
      "epoch-243 lr=['0.0010000'], tr/val_loss:  0.003523/  3.110294, tr: 100.00%, val:  75.83%, val_best:  78.75%: 100%|██████████| 41/41 [00:12<00:00,  3.21it/s]"
     ]
    },
    {
     "name": "stdout",
     "output_type": "stream",
     "text": [
      "Domain loss,acc: 1.611320, 66.70% Target domain: tr_loss-4.826915, tr_acc-73.31%\n",
      "100,000c5dFalset10:75.83%:78.75% | 75,000c5dFalset10:75.00%:75.42%\n"
     ]
    },
    {
     "name": "stderr",
     "output_type": "stream",
     "text": [
      "\n",
      "epoch-244 lr=['0.0010000'], tr/val_loss:  0.002612/  3.126843, tr: 100.00%, val:  75.42%, val_best:  78.75%: 100%|██████████| 41/41 [00:12<00:00,  1.08s/it]"
     ]
    },
    {
     "name": "stdout",
     "output_type": "stream",
     "text": [
      "Domain loss,acc: 1.620254, 66.70% Target domain: tr_loss-4.855537, tr_acc-74.23%\n",
      "100,000c5dFalset10:75.42%:78.75% | 75,000c5dFalset10:75.42%:75.42%\n"
     ]
    },
    {
     "name": "stderr",
     "output_type": "stream",
     "text": [
      "epoch-244 lr=['0.0010000'], tr/val_loss:  0.002612/  3.126843, tr: 100.00%, val:  75.42%, val_best:  78.75%: 100%|██████████| 41/41 [00:13<00:00,  3.12it/s]\n",
      "epoch-245 lr=['0.0010000'], tr/val_loss:  0.002619/  3.120859, tr: 100.00%, val:  75.83%, val_best:  78.75%: 100%|██████████| 41/41 [00:18<00:00,  2.27it/s]"
     ]
    },
    {
     "name": "stdout",
     "output_type": "stream",
     "text": [
      "Domain loss,acc: 1.586730, 66.70% Target domain: tr_loss-4.754953, tr_acc-75.15%\n",
      "100,000c5dFalset10:75.83%:78.75% | 75,000c5dFalset10:74.17%:75.42%\n"
     ]
    },
    {
     "name": "stderr",
     "output_type": "stream",
     "text": [
      "\n",
      "epoch-246 lr=['0.0010000'], tr/val_loss:  0.002523/  3.120651, tr: 100.00%, val:  75.42%, val_best:  78.75%: 100%|██████████| 41/41 [00:12<00:00,  1.17s/it]"
     ]
    },
    {
     "name": "stdout",
     "output_type": "stream",
     "text": [
      "Domain loss,acc: 1.640142, 66.70% Target domain: tr_loss-4.915378, tr_acc-74.23%\n",
      "100,000c5dFalset10:75.42%:78.75% | 75,000c5dFalset10:73.75%:75.42%\n"
     ]
    },
    {
     "name": "stderr",
     "output_type": "stream",
     "text": [
      "epoch-246 lr=['0.0010000'], tr/val_loss:  0.002523/  3.120651, tr: 100.00%, val:  75.42%, val_best:  78.75%: 100%|██████████| 41/41 [00:13<00:00,  3.14it/s]\n",
      "epoch-247 lr=['0.0010000'], tr/val_loss:  0.002385/  3.153033, tr: 100.00%, val:  75.00%, val_best:  78.75%: 100%|██████████| 41/41 [00:22<00:00,  1.82it/s]"
     ]
    },
    {
     "name": "stdout",
     "output_type": "stream",
     "text": [
      "Domain loss,acc: 1.615643, 66.70% Target domain: tr_loss-4.842157, tr_acc-73.62%\n",
      "100,000c5dFalset10:75.00%:78.75% | 75,000c5dFalset10:72.50%:75.42%\n"
     ]
    },
    {
     "name": "stderr",
     "output_type": "stream",
     "text": [
      "\n",
      "epoch-248 lr=['0.0010000'], tr/val_loss:  0.002713/  3.145998, tr: 100.00%, val:  76.25%, val_best:  78.75%: 100%|██████████| 41/41 [00:14<00:00,  2.81it/s]"
     ]
    },
    {
     "name": "stdout",
     "output_type": "stream",
     "text": [
      "Domain loss,acc: 1.608491, 66.70% Target domain: tr_loss-4.820049, tr_acc-73.01%\n",
      "100,000c5dFalset10:76.25%:78.75% | 75,000c5dFalset10:71.67%:75.42%\n"
     ]
    },
    {
     "name": "stderr",
     "output_type": "stream",
     "text": [
      "\n",
      "epoch-249 lr=['0.0010000'], tr/val_loss:  0.002461/  3.147125, tr: 100.00%, val:  76.67%, val_best:  78.75%: 100%|██████████| 41/41 [00:20<00:00,  1.66s/it]"
     ]
    },
    {
     "name": "stdout",
     "output_type": "stream",
     "text": [
      "Domain loss,acc: 1.655787, 66.70% Target domain: tr_loss-4.962439, tr_acc-73.62%\n",
      "100,000c5dFalset10:76.67%:78.75% | 75,000c5dFalset10:71.67%:75.42%\n"
     ]
    },
    {
     "name": "stderr",
     "output_type": "stream",
     "text": [
      "epoch-249 lr=['0.0010000'], tr/val_loss:  0.002461/  3.147125, tr: 100.00%, val:  76.67%, val_best:  78.75%: 100%|██████████| 41/41 [00:20<00:00,  1.98it/s]\n",
      "epoch-250 lr=['0.0010000'], tr/val_loss:  0.002927/  3.158226, tr: 100.00%, val:  76.67%, val_best:  78.75%:  98%|█████████▊| 40/41 [00:15<00:00,  2.79it/s]"
     ]
    },
    {
     "name": "stdout",
     "output_type": "stream",
     "text": [
      "Domain loss,acc: 1.634783, 66.70% Target domain: tr_loss-4.898495, tr_acc-73.62%\n",
      "100,000c5dFalset10:76.67%:78.75% | 75,000c5dFalset10:72.50%:75.42%\n"
     ]
    },
    {
     "name": "stderr",
     "output_type": "stream",
     "text": [
      "epoch-250 lr=['0.0010000'], tr/val_loss:  0.002927/  3.158226, tr: 100.00%, val:  76.67%, val_best:  78.75%: 100%|██████████| 41/41 [00:16<00:00,  2.55it/s]\n",
      "epoch-251 lr=['0.0010000'], tr/val_loss:  0.002767/  3.168544, tr: 100.00%, val:  77.50%, val_best:  78.75%: 100%|██████████| 41/41 [00:14<00:00,  2.76it/s]"
     ]
    },
    {
     "name": "stdout",
     "output_type": "stream",
     "text": [
      "Domain loss,acc: 1.625852, 66.70% Target domain: tr_loss-4.872022, tr_acc-73.01%\n",
      "100,000c5dFalset10:77.50%:78.75% | 75,000c5dFalset10:72.08%:75.42%\n"
     ]
    },
    {
     "name": "stderr",
     "output_type": "stream",
     "text": [
      "\n",
      "epoch-252 lr=['0.0010000'], tr/val_loss:  0.002684/  3.185900, tr: 100.00%, val:  76.67%, val_best:  78.75%: 100%|██████████| 41/41 [00:17<00:00,  2.35it/s]"
     ]
    },
    {
     "name": "stdout",
     "output_type": "stream",
     "text": [
      "Domain loss,acc: 1.620301, 66.70% Target domain: tr_loss-4.855535, tr_acc-73.01%\n",
      "100,000c5dFalset10:76.67%:78.75% | 75,000c5dFalset10:72.08%:75.42%\n"
     ]
    },
    {
     "name": "stderr",
     "output_type": "stream",
     "text": [
      "\n",
      "epoch-253 lr=['0.0010000'], tr/val_loss:  0.002560/  3.173633, tr: 100.00%, val:  77.08%, val_best:  78.75%: 100%|██████████| 41/41 [00:13<00:00,  3.07it/s]"
     ]
    },
    {
     "name": "stdout",
     "output_type": "stream",
     "text": [
      "Domain loss,acc: 1.623672, 66.70% Target domain: tr_loss-4.865898, tr_acc-72.70%\n",
      "100,000c5dFalset10:77.08%:78.75% | 75,000c5dFalset10:73.33%:75.42%\n"
     ]
    },
    {
     "name": "stderr",
     "output_type": "stream",
     "text": [
      "\n",
      "epoch-254 lr=['0.0010000'], tr/val_loss:  0.002618/  3.154653, tr: 100.00%, val:  76.67%, val_best:  78.75%:  98%|█████████▊| 40/41 [00:12<00:00,  6.88it/s]"
     ]
    },
    {
     "name": "stdout",
     "output_type": "stream",
     "text": [
      "Domain loss,acc: 1.663878, 66.70% Target domain: tr_loss-4.986398, tr_acc-73.01%\n",
      "100,000c5dFalset10:76.67%:78.75% | 75,000c5dFalset10:73.33%:75.42%\n"
     ]
    },
    {
     "name": "stderr",
     "output_type": "stream",
     "text": [
      "epoch-254 lr=['0.0010000'], tr/val_loss:  0.002618/  3.154653, tr: 100.00%, val:  76.67%, val_best:  78.75%: 100%|██████████| 41/41 [00:13<00:00,  3.14it/s]\n",
      "epoch-255 lr=['0.0010000'], tr/val_loss:  0.002539/  3.161553, tr: 100.00%, val:  77.92%, val_best:  78.75%:  98%|█████████▊| 40/41 [00:14<00:00,  5.29it/s]"
     ]
    },
    {
     "name": "stdout",
     "output_type": "stream",
     "text": [
      "Domain loss,acc: 1.643498, 66.70% Target domain: tr_loss-4.925417, tr_acc-73.01%\n",
      "100,000c5dFalset10:77.92%:78.75% | 75,000c5dFalset10:72.92%:75.42%\n"
     ]
    },
    {
     "name": "stderr",
     "output_type": "stream",
     "text": [
      "epoch-255 lr=['0.0010000'], tr/val_loss:  0.002539/  3.161553, tr: 100.00%, val:  77.92%, val_best:  78.75%: 100%|██████████| 41/41 [00:15<00:00,  2.61it/s]\n",
      "epoch-256 lr=['0.0010000'], tr/val_loss:  0.002488/  3.173918, tr: 100.00%, val:  76.25%, val_best:  78.75%: 100%|██████████| 41/41 [00:12<00:00,  3.23it/s]"
     ]
    },
    {
     "name": "stdout",
     "output_type": "stream",
     "text": [
      "Domain loss,acc: 1.610101, 66.70% Target domain: tr_loss-4.825325, tr_acc-73.93%\n",
      "100,000c5dFalset10:76.25%:78.75% | 75,000c5dFalset10:70.83%:75.42%\n"
     ]
    },
    {
     "name": "stderr",
     "output_type": "stream",
     "text": [
      "\n",
      "epoch-257 lr=['0.0010000'], tr/val_loss:  0.002680/  3.165157, tr: 100.00%, val:  76.25%, val_best:  78.75%: 100%|██████████| 41/41 [00:11<00:00,  3.65it/s]"
     ]
    },
    {
     "name": "stdout",
     "output_type": "stream",
     "text": [
      "Domain loss,acc: 1.624902, 66.70% Target domain: tr_loss-4.869345, tr_acc-73.31%\n",
      "100,000c5dFalset10:76.25%:78.75% | 75,000c5dFalset10:71.67%:75.42%\n"
     ]
    },
    {
     "name": "stderr",
     "output_type": "stream",
     "text": [
      "\n",
      "epoch-258 lr=['0.0010000'], tr/val_loss:  0.002341/  3.149385, tr: 100.00%, val:  77.92%, val_best:  78.75%:  98%|█████████▊| 40/41 [00:10<00:00,  6.31it/s]"
     ]
    },
    {
     "name": "stdout",
     "output_type": "stream",
     "text": [
      "Domain loss,acc: 1.641370, 66.70% Target domain: tr_loss-4.919430, tr_acc-74.54%\n",
      "100,000c5dFalset10:77.92%:78.75% | 75,000c5dFalset10:72.50%:75.42%\n"
     ]
    },
    {
     "name": "stderr",
     "output_type": "stream",
     "text": [
      "epoch-258 lr=['0.0010000'], tr/val_loss:  0.002341/  3.149385, tr: 100.00%, val:  77.92%, val_best:  78.75%: 100%|██████████| 41/41 [00:11<00:00,  3.60it/s]\n",
      "epoch-259 lr=['0.0010000'], tr/val_loss:  0.002600/  3.161176, tr: 100.00%, val:  76.67%, val_best:  78.75%: 100%|██████████| 41/41 [00:11<00:00,  3.59it/s]"
     ]
    },
    {
     "name": "stdout",
     "output_type": "stream",
     "text": [
      "Domain loss,acc: 1.629591, 66.70% Target domain: tr_loss-4.883572, tr_acc-73.62%\n",
      "100,000c5dFalset10:76.67%:78.75% | 75,000c5dFalset10:72.08%:75.42%\n"
     ]
    },
    {
     "name": "stderr",
     "output_type": "stream",
     "text": [
      "\n",
      "epoch-260 lr=['0.0010000'], tr/val_loss:  0.002544/  3.169954, tr: 100.00%, val:  77.92%, val_best:  78.75%: 100%|██████████| 41/41 [00:11<00:00,  3.53it/s]"
     ]
    },
    {
     "name": "stdout",
     "output_type": "stream",
     "text": [
      "Domain loss,acc: 1.626682, 66.70% Target domain: tr_loss-4.874959, tr_acc-73.93%\n",
      "100,000c5dFalset10:77.92%:78.75% | 75,000c5dFalset10:71.25%:75.42%\n"
     ]
    },
    {
     "name": "stderr",
     "output_type": "stream",
     "text": [
      "\n",
      "epoch-261 lr=['0.0010000'], tr/val_loss:  0.002464/  3.184958, tr: 100.00%, val:  77.50%, val_best:  78.75%: 100%|██████████| 41/41 [00:11<00:00,  3.61it/s]"
     ]
    },
    {
     "name": "stdout",
     "output_type": "stream",
     "text": [
      "Domain loss,acc: 1.651660, 66.70% Target domain: tr_loss-4.950052, tr_acc-73.62%\n",
      "100,000c5dFalset10:77.50%:78.75% | 75,000c5dFalset10:73.75%:75.42%\n"
     ]
    },
    {
     "name": "stderr",
     "output_type": "stream",
     "text": [
      "\n",
      "epoch-262 lr=['0.0010000'], tr/val_loss:  0.002511/  3.185764, tr: 100.00%, val:  77.92%, val_best:  78.75%: 100%|██████████| 41/41 [00:11<00:00,  3.67it/s]"
     ]
    },
    {
     "name": "stdout",
     "output_type": "stream",
     "text": [
      "Domain loss,acc: 1.632840, 66.70% Target domain: tr_loss-4.893499, tr_acc-73.01%\n",
      "100,000c5dFalset10:77.92%:78.75% | 75,000c5dFalset10:71.25%:75.42%\n"
     ]
    },
    {
     "name": "stderr",
     "output_type": "stream",
     "text": [
      "\n",
      "epoch-263 lr=['0.0010000'], tr/val_loss:  0.002337/  3.187362, tr: 100.00%, val:  77.50%, val_best:  78.75%: 100%|██████████| 41/41 [00:11<00:00,  3.59it/s]"
     ]
    },
    {
     "name": "stdout",
     "output_type": "stream",
     "text": [
      "Domain loss,acc: 1.629678, 66.70% Target domain: tr_loss-4.884360, tr_acc-73.93%\n",
      "100,000c5dFalset10:77.50%:78.75% | 75,000c5dFalset10:70.83%:75.42%\n"
     ]
    },
    {
     "name": "stderr",
     "output_type": "stream",
     "text": [
      "\n",
      "epoch-264 lr=['0.0010000'], tr/val_loss:  0.002557/  3.193116, tr: 100.00%, val:  77.50%, val_best:  78.75%: 100%|██████████| 41/41 [00:10<00:00,  3.78it/s]"
     ]
    },
    {
     "name": "stdout",
     "output_type": "stream",
     "text": [
      "Domain loss,acc: 1.638207, 66.70% Target domain: tr_loss-4.909505, tr_acc-73.01%\n",
      "100,000c5dFalset10:77.50%:78.75% | 75,000c5dFalset10:72.92%:75.42%\n"
     ]
    },
    {
     "name": "stderr",
     "output_type": "stream",
     "text": [
      "\n",
      "epoch-265 lr=['0.0010000'], tr/val_loss:  0.002561/  3.186499, tr: 100.00%, val:  77.92%, val_best:  78.75%: 100%|██████████| 41/41 [00:10<00:00,  3.94it/s]"
     ]
    },
    {
     "name": "stdout",
     "output_type": "stream",
     "text": [
      "Domain loss,acc: 1.655647, 66.70% Target domain: tr_loss-4.961818, tr_acc-74.23%\n",
      "100,000c5dFalset10:77.92%:78.75% | 75,000c5dFalset10:72.50%:75.42%\n"
     ]
    },
    {
     "name": "stderr",
     "output_type": "stream",
     "text": [
      "\n",
      "epoch-266 lr=['0.0010000'], tr/val_loss:  0.002424/  3.170648, tr: 100.00%, val:  77.50%, val_best:  78.75%: 100%|██████████| 41/41 [00:11<00:00,  3.58it/s]"
     ]
    },
    {
     "name": "stdout",
     "output_type": "stream",
     "text": [
      "Domain loss,acc: 1.635258, 66.70% Target domain: tr_loss-4.900927, tr_acc-73.62%\n",
      "100,000c5dFalset10:77.50%:78.75% | 75,000c5dFalset10:72.08%:75.42%\n"
     ]
    },
    {
     "name": "stderr",
     "output_type": "stream",
     "text": [
      "\n",
      "epoch-267 lr=['0.0010000'], tr/val_loss:  0.002299/  3.187830, tr: 100.00%, val:  78.33%, val_best:  78.75%: 100%|██████████| 41/41 [00:13<00:00,  3.11it/s]"
     ]
    },
    {
     "name": "stdout",
     "output_type": "stream",
     "text": [
      "Domain loss,acc: 1.641873, 66.70% Target domain: tr_loss-4.921022, tr_acc-73.62%\n",
      "100,000c5dFalset10:78.33%:78.75% | 75,000c5dFalset10:72.50%:75.42%\n"
     ]
    },
    {
     "name": "stderr",
     "output_type": "stream",
     "text": [
      "\n",
      "epoch-268 lr=['0.0010000'], tr/val_loss:  0.002381/  3.193271, tr: 100.00%, val:  77.08%, val_best:  78.75%:  98%|█████████▊| 40/41 [00:10<00:00,  7.92it/s]"
     ]
    },
    {
     "name": "stdout",
     "output_type": "stream",
     "text": [
      "Domain loss,acc: 1.634142, 66.70% Target domain: tr_loss-4.897663, tr_acc-73.93%\n",
      "100,000c5dFalset10:77.08%:78.75% | 75,000c5dFalset10:72.50%:75.42%\n"
     ]
    },
    {
     "name": "stderr",
     "output_type": "stream",
     "text": [
      "epoch-268 lr=['0.0010000'], tr/val_loss:  0.002381/  3.193271, tr: 100.00%, val:  77.08%, val_best:  78.75%: 100%|██████████| 41/41 [00:11<00:00,  3.69it/s]\n",
      "epoch-269 lr=['0.0010000'], tr/val_loss:  0.002898/  3.205373, tr: 100.00%, val:  74.58%, val_best:  78.75%: 100%|██████████| 41/41 [00:11<00:00,  3.70it/s]"
     ]
    },
    {
     "name": "stdout",
     "output_type": "stream",
     "text": [
      "Domain loss,acc: 1.644576, 66.70% Target domain: tr_loss-4.927933, tr_acc-73.93%\n",
      "100,000c5dFalset10:74.58%:78.75% | 75,000c5dFalset10:72.08%:75.42%\n"
     ]
    },
    {
     "name": "stderr",
     "output_type": "stream",
     "text": [
      "\n",
      "epoch-270 lr=['0.0010000'], tr/val_loss:  0.002814/  3.199241, tr: 100.00%, val:  76.67%, val_best:  78.75%: 100%|██████████| 41/41 [00:11<00:00,  3.59it/s]"
     ]
    },
    {
     "name": "stdout",
     "output_type": "stream",
     "text": [
      "Domain loss,acc: 1.670676, 66.70% Target domain: tr_loss-5.006399, tr_acc-74.54%\n",
      "100,000c5dFalset10:76.67%:78.75% | 75,000c5dFalset10:72.92%:75.42%\n"
     ]
    },
    {
     "name": "stderr",
     "output_type": "stream",
     "text": [
      "\n",
      "epoch-271 lr=['0.0010000'], tr/val_loss:  0.002742/  3.210294, tr: 100.00%, val:  76.67%, val_best:  78.75%: 100%|██████████| 41/41 [00:10<00:00,  3.98it/s]"
     ]
    },
    {
     "name": "stdout",
     "output_type": "stream",
     "text": [
      "Domain loss,acc: 1.656877, 66.70% Target domain: tr_loss-4.965147, tr_acc-74.54%\n",
      "100,000c5dFalset10:76.67%:78.75% | 75,000c5dFalset10:74.17%:75.42%\n"
     ]
    },
    {
     "name": "stderr",
     "output_type": "stream",
     "text": [
      "\n",
      "epoch-272 lr=['0.0010000'], tr/val_loss:  0.002395/  3.199815, tr: 100.00%, val:  76.67%, val_best:  78.75%: 100%|██████████| 41/41 [00:10<00:00,  3.84it/s]"
     ]
    },
    {
     "name": "stdout",
     "output_type": "stream",
     "text": [
      "Domain loss,acc: 1.668261, 66.70% Target domain: tr_loss-4.999992, tr_acc-75.15%\n",
      "100,000c5dFalset10:76.67%:78.75% | 75,000c5dFalset10:72.08%:75.42%\n"
     ]
    },
    {
     "name": "stderr",
     "output_type": "stream",
     "text": [
      "\n",
      "epoch-273 lr=['0.0010000'], tr/val_loss:  0.002343/  3.211792, tr: 100.00%, val:  77.08%, val_best:  78.75%: 100%|██████████| 41/41 [00:11<00:00,  3.70it/s]"
     ]
    },
    {
     "name": "stdout",
     "output_type": "stream",
     "text": [
      "Domain loss,acc: 1.659359, 66.70% Target domain: tr_loss-4.973388, tr_acc-74.85%\n",
      "100,000c5dFalset10:77.08%:78.75% | 75,000c5dFalset10:72.50%:75.42%\n"
     ]
    },
    {
     "name": "stderr",
     "output_type": "stream",
     "text": [
      "\n",
      "epoch-274 lr=['0.0010000'], tr/val_loss:  0.002246/  3.206055, tr: 100.00%, val:  77.50%, val_best:  78.75%: 100%|██████████| 41/41 [00:10<00:00,  1.07s/it]"
     ]
    },
    {
     "name": "stdout",
     "output_type": "stream",
     "text": [
      "Domain loss,acc: 1.667143, 66.70% Target domain: tr_loss-4.996938, tr_acc-73.62%\n",
      "100,000c5dFalset10:77.50%:78.75% | 75,000c5dFalset10:73.75%:75.42%\n"
     ]
    },
    {
     "name": "stderr",
     "output_type": "stream",
     "text": [
      "epoch-274 lr=['0.0010000'], tr/val_loss:  0.002246/  3.206055, tr: 100.00%, val:  77.50%, val_best:  78.75%: 100%|██████████| 41/41 [00:10<00:00,  3.80it/s]\n",
      "epoch-275 lr=['0.0010000'], tr/val_loss:  0.002258/  3.202165, tr: 100.00%, val:  76.67%, val_best:  78.75%: 100%|██████████| 41/41 [00:11<00:00,  3.69it/s]"
     ]
    },
    {
     "name": "stdout",
     "output_type": "stream",
     "text": [
      "Domain loss,acc: 1.658657, 66.70% Target domain: tr_loss-4.971456, tr_acc-73.93%\n",
      "100,000c5dFalset10:76.67%:78.75% | 75,000c5dFalset10:73.33%:75.42%\n"
     ]
    },
    {
     "name": "stderr",
     "output_type": "stream",
     "text": [
      "\n",
      "epoch-276 lr=['0.0010000'], tr/val_loss:  0.002223/  3.212793, tr: 100.00%, val:  75.83%, val_best:  78.75%: 100%|██████████| 41/41 [00:11<00:00,  3.69it/s]"
     ]
    },
    {
     "name": "stdout",
     "output_type": "stream",
     "text": [
      "Domain loss,acc: 1.689369, 66.70% Target domain: tr_loss-5.063661, tr_acc-73.31%\n",
      "100,000c5dFalset10:75.83%:78.75% | 75,000c5dFalset10:72.50%:75.42%\n"
     ]
    },
    {
     "name": "stderr",
     "output_type": "stream",
     "text": [
      "\n",
      "epoch-277 lr=['0.0010000'], tr/val_loss:  0.002423/  3.191653, tr: 100.00%, val:  76.25%, val_best:  78.75%: 100%|██████████| 41/41 [00:11<00:00,  3.52it/s]"
     ]
    },
    {
     "name": "stdout",
     "output_type": "stream",
     "text": [
      "Domain loss,acc: 1.670671, 66.70% Target domain: tr_loss-5.007165, tr_acc-73.93%\n",
      "100,000c5dFalset10:76.25%:78.75% | 75,000c5dFalset10:72.50%:75.42%\n"
     ]
    },
    {
     "name": "stderr",
     "output_type": "stream",
     "text": [
      "\n",
      "epoch-278 lr=['0.0010000'], tr/val_loss:  0.002631/  3.193665, tr: 100.00%, val:  74.58%, val_best:  78.75%:  98%|█████████▊| 40/41 [00:21<00:00,  5.86it/s]"
     ]
    },
    {
     "name": "stdout",
     "output_type": "stream",
     "text": [
      "Domain loss,acc: 1.665591, 66.70% Target domain: tr_loss-4.991514, tr_acc-73.31%\n",
      "100,000c5dFalset10:74.58%:78.75% | 75,000c5dFalset10:73.33%:75.42%\n"
     ]
    },
    {
     "name": "stderr",
     "output_type": "stream",
     "text": [
      "epoch-278 lr=['0.0010000'], tr/val_loss:  0.002631/  3.193665, tr: 100.00%, val:  74.58%, val_best:  78.75%: 100%|██████████| 41/41 [00:24<00:00,  1.70it/s]\n",
      "epoch-279 lr=['0.0010000'], tr/val_loss:  0.002318/  3.190455, tr: 100.00%, val:  75.42%, val_best:  78.75%: 100%|██████████| 41/41 [00:15<00:00,  2.73it/s]"
     ]
    },
    {
     "name": "stdout",
     "output_type": "stream",
     "text": [
      "Domain loss,acc: 1.639699, 66.70% Target domain: tr_loss-4.914462, tr_acc-73.31%\n",
      "100,000c5dFalset10:75.42%:78.75% | 75,000c5dFalset10:72.50%:75.42%\n"
     ]
    },
    {
     "name": "stderr",
     "output_type": "stream",
     "text": [
      "\n",
      "epoch-280 lr=['0.0010000'], tr/val_loss:  0.002501/  3.199636, tr: 100.00%, val:  76.67%, val_best:  78.75%: 100%|██████████| 41/41 [00:13<00:00,  3.15it/s]"
     ]
    },
    {
     "name": "stdout",
     "output_type": "stream",
     "text": [
      "Domain loss,acc: 1.666257, 66.70% Target domain: tr_loss-4.993771, tr_acc-74.23%\n",
      "100,000c5dFalset10:76.67%:78.75% | 75,000c5dFalset10:72.92%:75.42%\n"
     ]
    },
    {
     "name": "stderr",
     "output_type": "stream",
     "text": [
      "\n",
      "epoch-281 lr=['0.0010000'], tr/val_loss:  0.002490/  3.182576, tr: 100.00%, val:  77.50%, val_best:  78.75%: 100%|██████████| 41/41 [00:11<00:00,  3.72it/s]"
     ]
    },
    {
     "name": "stdout",
     "output_type": "stream",
     "text": [
      "Domain loss,acc: 1.646384, 66.70% Target domain: tr_loss-4.934171, tr_acc-74.23%\n",
      "100,000c5dFalset10:77.50%:78.75% | 75,000c5dFalset10:73.75%:75.42%\n"
     ]
    },
    {
     "name": "stderr",
     "output_type": "stream",
     "text": [
      "\n",
      "epoch-282 lr=['0.0010000'], tr/val_loss:  0.002289/  3.182247, tr: 100.00%, val:  77.92%, val_best:  78.75%: 100%|██████████| 41/41 [00:14<00:00,  2.86it/s]"
     ]
    },
    {
     "name": "stdout",
     "output_type": "stream",
     "text": [
      "Domain loss,acc: 1.655224, 66.70% Target domain: tr_loss-4.961093, tr_acc-73.93%\n",
      "100,000c5dFalset10:77.92%:78.75% | 75,000c5dFalset10:72.50%:75.42%\n"
     ]
    },
    {
     "name": "stderr",
     "output_type": "stream",
     "text": [
      "\n",
      "epoch-283 lr=['0.0010000'], tr/val_loss:  0.002338/  3.196590, tr: 100.00%, val:  77.50%, val_best:  78.75%: 100%|██████████| 41/41 [00:12<00:00,  3.27it/s]"
     ]
    },
    {
     "name": "stdout",
     "output_type": "stream",
     "text": [
      "Domain loss,acc: 1.636549, 66.70% Target domain: tr_loss-4.904971, tr_acc-73.93%\n",
      "100,000c5dFalset10:77.50%:78.75% | 75,000c5dFalset10:72.08%:75.42%\n"
     ]
    },
    {
     "name": "stderr",
     "output_type": "stream",
     "text": [
      "\n",
      "epoch-284 lr=['0.0010000'], tr/val_loss:  0.002423/  3.195492, tr: 100.00%, val:  77.08%, val_best:  78.75%:  98%|█████████▊| 40/41 [00:10<00:00,  7.98it/s]"
     ]
    },
    {
     "name": "stdout",
     "output_type": "stream",
     "text": [
      "Domain loss,acc: 1.674656, 66.70% Target domain: tr_loss-5.019121, tr_acc-73.93%\n",
      "100,000c5dFalset10:77.08%:78.75% | 75,000c5dFalset10:71.25%:75.42%\n"
     ]
    },
    {
     "name": "stderr",
     "output_type": "stream",
     "text": [
      "epoch-284 lr=['0.0010000'], tr/val_loss:  0.002423/  3.195492, tr: 100.00%, val:  77.08%, val_best:  78.75%: 100%|██████████| 41/41 [00:12<00:00,  3.41it/s]\n",
      "epoch-285 lr=['0.0010000'], tr/val_loss:  0.002253/  3.191799, tr: 100.00%, val:  77.08%, val_best:  78.75%: 100%|██████████| 41/41 [00:11<00:00,  3.62it/s]"
     ]
    },
    {
     "name": "stdout",
     "output_type": "stream",
     "text": [
      "Domain loss,acc: 1.646158, 66.70% Target domain: tr_loss-4.933965, tr_acc-73.01%\n",
      "100,000c5dFalset10:77.08%:78.75% | 75,000c5dFalset10:70.83%:75.42%\n"
     ]
    },
    {
     "name": "stderr",
     "output_type": "stream",
     "text": [
      "\n",
      "epoch-286 lr=['0.0010000'], tr/val_loss:  0.002843/  3.214498, tr: 100.00%, val:  76.67%, val_best:  78.75%: 100%|██████████| 41/41 [00:14<00:00,  2.78it/s]"
     ]
    },
    {
     "name": "stdout",
     "output_type": "stream",
     "text": [
      "Domain loss,acc: 1.664234, 66.70% Target domain: tr_loss-4.987015, tr_acc-74.23%\n",
      "100,000c5dFalset10:76.67%:78.75% | 75,000c5dFalset10:70.00%:75.42%\n"
     ]
    },
    {
     "name": "stderr",
     "output_type": "stream",
     "text": [
      "\n",
      "epoch-287 lr=['0.0010000'], tr/val_loss:  0.002718/  3.209589, tr: 100.00%, val:  76.67%, val_best:  78.75%: 100%|██████████| 41/41 [00:16<00:00,  2.53it/s]"
     ]
    },
    {
     "name": "stdout",
     "output_type": "stream",
     "text": [
      "Domain loss,acc: 1.710770, 66.70% Target domain: tr_loss-5.126873, tr_acc-73.31%\n",
      "100,000c5dFalset10:76.67%:78.75% | 75,000c5dFalset10:71.67%:75.42%\n"
     ]
    },
    {
     "name": "stderr",
     "output_type": "stream",
     "text": [
      "\n",
      "epoch-288 lr=['0.0010000'], tr/val_loss:  0.002308/  3.211759, tr: 100.00%, val:  77.92%, val_best:  78.75%: 100%|██████████| 41/41 [00:13<00:00,  2.97it/s]"
     ]
    },
    {
     "name": "stdout",
     "output_type": "stream",
     "text": [
      "Domain loss,acc: 1.687357, 66.70% Target domain: tr_loss-5.057456, tr_acc-74.23%\n",
      "100,000c5dFalset10:77.92%:78.75% | 75,000c5dFalset10:71.67%:75.42%\n"
     ]
    },
    {
     "name": "stderr",
     "output_type": "stream",
     "text": [
      "\n",
      "epoch-289 lr=['0.0010000'], tr/val_loss:  0.002199/  3.217924, tr: 100.00%, val:  77.08%, val_best:  78.75%: 100%|██████████| 41/41 [00:10<00:00,  3.82it/s]"
     ]
    },
    {
     "name": "stdout",
     "output_type": "stream",
     "text": [
      "Domain loss,acc: 1.657155, 66.70% Target domain: tr_loss-4.967064, tr_acc-74.23%\n",
      "100,000c5dFalset10:77.08%:78.75% | 75,000c5dFalset10:71.25%:75.42%\n"
     ]
    },
    {
     "name": "stderr",
     "output_type": "stream",
     "text": [
      "\n",
      "epoch-290 lr=['0.0010000'], tr/val_loss:  0.002112/  3.239126, tr: 100.00%, val:  77.50%, val_best:  78.75%: 100%|██████████| 41/41 [00:11<00:00,  3.68it/s]"
     ]
    },
    {
     "name": "stdout",
     "output_type": "stream",
     "text": [
      "Domain loss,acc: 1.697981, 66.70% Target domain: tr_loss-5.089723, tr_acc-73.01%\n",
      "100,000c5dFalset10:77.50%:78.75% | 75,000c5dFalset10:71.67%:75.42%\n"
     ]
    },
    {
     "name": "stderr",
     "output_type": "stream",
     "text": [
      "\n",
      "epoch-291 lr=['0.0010000'], tr/val_loss:  0.002628/  3.220333, tr: 100.00%, val:  75.83%, val_best:  78.75%: 100%|██████████| 41/41 [00:11<00:00,  3.63it/s]"
     ]
    },
    {
     "name": "stdout",
     "output_type": "stream",
     "text": [
      "Domain loss,acc: 1.701674, 66.70% Target domain: tr_loss-5.099766, tr_acc-72.70%\n",
      "100,000c5dFalset10:75.83%:78.75% | 75,000c5dFalset10:71.25%:75.42%\n"
     ]
    },
    {
     "name": "stderr",
     "output_type": "stream",
     "text": [
      "\n",
      "epoch-292 lr=['0.0010000'], tr/val_loss:  0.002487/  3.223914, tr: 100.00%, val:  75.83%, val_best:  78.75%: 100%|██████████| 41/41 [00:11<00:00,  3.70it/s]"
     ]
    },
    {
     "name": "stdout",
     "output_type": "stream",
     "text": [
      "Domain loss,acc: 1.706132, 66.70% Target domain: tr_loss-5.113423, tr_acc-72.09%\n",
      "100,000c5dFalset10:75.83%:78.75% | 75,000c5dFalset10:71.25%:75.42%\n"
     ]
    },
    {
     "name": "stderr",
     "output_type": "stream",
     "text": [
      "\n",
      "epoch-293 lr=['0.0010000'], tr/val_loss:  0.002280/  3.221771, tr: 100.00%, val:  76.25%, val_best:  78.75%: 100%|██████████| 41/41 [00:11<00:00,  3.69it/s]"
     ]
    },
    {
     "name": "stdout",
     "output_type": "stream",
     "text": [
      "Domain loss,acc: 1.689310, 66.70% Target domain: tr_loss-5.063369, tr_acc-72.70%\n",
      "100,000c5dFalset10:76.25%:78.75% | 75,000c5dFalset10:71.25%:75.42%\n"
     ]
    },
    {
     "name": "stderr",
     "output_type": "stream",
     "text": [
      "\n",
      "epoch-294 lr=['0.0010000'], tr/val_loss:  0.002127/  3.233618, tr: 100.00%, val:  76.25%, val_best:  78.75%: 100%|██████████| 41/41 [00:11<00:00,  3.59it/s]"
     ]
    },
    {
     "name": "stdout",
     "output_type": "stream",
     "text": [
      "Domain loss,acc: 1.698641, 66.70% Target domain: tr_loss-5.091670, tr_acc-72.39%\n",
      "100,000c5dFalset10:76.25%:78.75% | 75,000c5dFalset10:71.25%:75.42%\n"
     ]
    },
    {
     "name": "stderr",
     "output_type": "stream",
     "text": [
      "\n",
      "epoch-295 lr=['0.0010000'], tr/val_loss:  0.002364/  3.238356, tr: 100.00%, val:  75.42%, val_best:  78.75%: 100%|██████████| 41/41 [00:11<00:00,  3.56it/s]"
     ]
    },
    {
     "name": "stdout",
     "output_type": "stream",
     "text": [
      "Domain loss,acc: 1.673100, 66.70% Target domain: tr_loss-5.014573, tr_acc-72.09%\n",
      "100,000c5dFalset10:75.42%:78.75% | 75,000c5dFalset10:71.25%:75.42%\n"
     ]
    },
    {
     "name": "stderr",
     "output_type": "stream",
     "text": [
      "\n",
      "epoch-296 lr=['0.0010000'], tr/val_loss:  0.002245/  3.228866, tr: 100.00%, val:  75.83%, val_best:  78.75%: 100%|██████████| 41/41 [00:12<00:00,  3.27it/s]"
     ]
    },
    {
     "name": "stdout",
     "output_type": "stream",
     "text": [
      "Domain loss,acc: 1.696516, 66.70% Target domain: tr_loss-5.085058, tr_acc-72.39%\n",
      "100,000c5dFalset10:75.83%:78.75% | 75,000c5dFalset10:71.67%:75.42%\n"
     ]
    },
    {
     "name": "stderr",
     "output_type": "stream",
     "text": [
      "\n",
      "epoch-297 lr=['0.0010000'], tr/val_loss:  0.002329/  3.232323, tr: 100.00%, val:  75.83%, val_best:  78.75%: 100%|██████████| 41/41 [00:12<00:00,  3.21it/s]"
     ]
    },
    {
     "name": "stdout",
     "output_type": "stream",
     "text": [
      "Domain loss,acc: 1.695197, 66.70% Target domain: tr_loss-5.080934, tr_acc-73.01%\n",
      "100,000c5dFalset10:75.83%:78.75% | 75,000c5dFalset10:70.83%:75.42%\n"
     ]
    },
    {
     "name": "stderr",
     "output_type": "stream",
     "text": [
      "\n",
      "epoch-298 lr=['0.0010000'], tr/val_loss:  0.002468/  3.249576, tr: 100.00%, val:  77.50%, val_best:  78.75%: 100%|██████████| 41/41 [00:12<00:00,  3.27it/s]"
     ]
    },
    {
     "name": "stdout",
     "output_type": "stream",
     "text": [
      "Domain loss,acc: 1.688090, 66.70% Target domain: tr_loss-5.059332, tr_acc-72.39%\n",
      "100,000c5dFalset10:77.50%:78.75% | 75,000c5dFalset10:70.83%:75.42%\n"
     ]
    },
    {
     "name": "stderr",
     "output_type": "stream",
     "text": [
      "\n",
      "epoch-299 lr=['0.0010000'], tr/val_loss:  0.002255/  3.250641, tr: 100.00%, val:  76.25%, val_best:  78.75%: 100%|██████████| 41/41 [00:11<00:00,  3.61it/s]"
     ]
    },
    {
     "name": "stdout",
     "output_type": "stream",
     "text": [
      "Domain loss,acc: 1.718800, 66.70% Target domain: tr_loss-5.151890, tr_acc-72.09%\n",
      "100,000c5dFalset10:76.25%:78.75% | 75,000c5dFalset10:72.08%:75.42%\n"
     ]
    },
    {
     "name": "stderr",
     "output_type": "stream",
     "text": [
      "\n"
     ]
    },
    {
     "data": {
      "text/plain": [
       "'\\nddp_on 키고, gpu 개수 만큼 batch size 나눠줘\\nCUDA_VISIBLE_DEVICES=0,1,2,3,4,5 python -m torch.distributed.launch --nproc_per_node=6 main_ddp.py\\nCUDA_VISIBLE_DEVICES=1,2,3 python -m torch.distributed.launch --nproc_per_node=3 main_ddp.py\\nCUDA_VISIBLE_DEVICES=0,1,2,3 python -m torch.distributed.launch --nproc_per_node=4 main_ddp.py\\n'"
      ]
     },
     "execution_count": 6,
     "metadata": {},
     "output_type": "execute_result"
    }
   ],
   "source": [
    "### my_snn control board (Gesture) ########################\n",
    "decay = 0.25 # 0.875 0.25 0.125 0.75 0.5\n",
    "# nda 0.25 # ottt 0.5\n",
    "const2 = False # trace 할거면 True, 안할거면 False\n",
    "\n",
    "unique_name = 'main' ## 이거 설정하면 새로운 경로에 모두 save\n",
    "run_name = 'main' ## 이거 설정하면 새로운 경로에 모두 save\n",
    "\n",
    "if const2 == True:\n",
    "    const2 = decay\n",
    "else:\n",
    "    const2 = 0.0\n",
    "\n",
    "wandb.init(project= f'my_snn {unique_name}',save_code=True)\n",
    "\n",
    "my_snn_system(  devices = \"3\",\n",
    "                single_step = True, # True # False\n",
    "                unique_name = run_name,\n",
    "                my_seed = 42,\n",
    "                TIME = 10, # dvscifar 10 # ottt 6 or 10 # nda 10  # 제작하는 dvs에서 TIME넘거나 적으면 자르거나 PADDING함\n",
    "                BATCH = 16, # batch norm 할거면 2이상으로 해야함   # nda 256   #  ottt 128\n",
    "                IMAGE_SIZE = 128, # dvscifar 48 # MNIST 28 # CIFAR10 32 # PMNIST 28 #NMNIST 34 # GESTURE 128\n",
    "                # dvsgesture 128, dvs_cifar2 128, nmnist 34, n_caltech101 180,240, n_tidigits 64, heidelberg 700, \n",
    "                #pmnist는 28로 해야 됨. 나머지는 바꿔도 돌아는 감.\n",
    "\n",
    "                # DVS_CIFAR10 할거면 time 10으로 해라\n",
    "                which_data = 'DVS_GESTURE_TONIC',\n",
    "# 'CIFAR100' 'CIFAR10' 'MNIST' 'FASHION_MNIST' 'DVS_CIFAR10' 'PMNIST'아직\n",
    "# 'DVS_GESTURE', 'DVS_GESTURE_TONIC','DVS_CIFAR10_2','NMNIST','NMNIST_TONIC','CIFAR10','N_CALTECH101','n_tidigits','heidelberg'\n",
    "                # CLASS_NUM = 10,\n",
    "                data_path = '/data2', # YOU NEED TO CHANGE THIS\n",
    "                rate_coding = False, # True # False\n",
    "                lif_layer_v_init = 0.0,\n",
    "                lif_layer_v_decay = decay,\n",
    "                lif_layer_v_threshold = 0.720291189014991, # 1.3102821334243646,  # 10000이상으로 하면 NDA LIF 씀. #nda 0.5  #ottt 1.0\n",
    "                lif_layer_v_reset = 10000, # 10000이상은 hardreset (내 LIF쓰기는 함 ㅇㅇ)\n",
    "                lif_layer_sg_width = 3.555718888923306, # 2.570969004857107 # sigmoid류에서는 alpha값 4.0, rectangle류에서는 width값 0.5\n",
    "\n",
    "                # synapse_conv_in_channels = IMAGE_PIXEL_CHANNEL,\n",
    "                synapse_conv_kernel_size = 3,\n",
    "                synapse_conv_stride = 1,\n",
    "                synapse_conv_padding = 1,\n",
    "                synapse_conv_trace_const1 = 1, # 현재 trace구할 때 현재 spike에 곱해지는 상수. 걍 1로 두셈.\n",
    "                synapse_conv_trace_const2 = const2, # 현재 trace구할 때 직전 trace에 곱해지는 상수. lif_layer_v_decay와 같게 할 것을 추천\n",
    "\n",
    "                # synapse_fc_out_features = CLASS_NUM,\n",
    "                synapse_fc_trace_const1 = 1, # 현재 trace구할 때 현재 spike에 곱해지는 상수. 걍 1로 두셈.\n",
    "                synapse_fc_trace_const2 = const2, # 현재 trace구할 때 직전 trace에 곱해지는 상수. lif_layer_v_decay와 같게 할 것을 추천\n",
    "\n",
    "                pre_trained = False, # True # False\n",
    "                convTrue_fcFalse = False, # True # False\n",
    "\n",
    "                # 'P' for average pooling, 'D' for (1,1) aver pooling, 'M' for maxpooling, 'L' for linear classifier, [  ] for residual block\n",
    "                # conv에서 10000 이상은 depth-wise separable (BPTT만 지원), 20000이상은 depth-wise (BPTT만 지원)\n",
    "                # cfg = [64, 64],\n",
    "                # cfg = [64, 124, 64, 124],\n",
    "                # cfg = ['M','M',512], \n",
    "                # cfg = [512], \n",
    "                # cfg = ['M', 'M', 64, 128, 'P', 128, 'P'], \n",
    "                # cfg = ['M','M',512],\n",
    "                # cfg = ['M',200],\n",
    "                # cfg = [200,200],\n",
    "                # cfg = ['M','M',200,200],\n",
    "                cfg = ([200],[200],[200],[2]), # (feature extractor, classifier, domain adapter, # of domain)\n",
    "                # cfg = (['M','M',200],[200],[200],[2]), # (feature extractor, classifier, domain adapter, # of domain)\n",
    "                # cfg = ['M',200,200],\n",
    "                # cfg = ['M','M',1024,512,256,128,64],\n",
    "                # cfg = [200,200],\n",
    "                # cfg = [12], #fc\n",
    "                # cfg = [12, 'M', 48, 'M', 12], \n",
    "                # cfg = [64,[64,64],64], # 끝에 linear classifier 하나 자동으로 붙습니다\n",
    "                # cfg = [64, 128, 'P', 256, 256, 'P', 512, 512, 'P', 512, 512, 'D'], #ottt\n",
    "                # cfg = [64, 128, 'P', 256, 256, 'P', 512, 512, 'P', 512, 512], \n",
    "                # cfg = [64, 128, 'M', 256, 256, 'M', 512, 512, 'M', 512, 512], \n",
    "                # cfg = [64, 'P', 128, 'P', 256, 256, 'P', 512, 512, 512, 512, 'D'], # nda\n",
    "                # cfg = [64, 'P', 128, 'P', 256, 256, 'P', 512, 512, 512, 512], # nda 128pixel\n",
    "                # cfg = [64, 'P', 128, 'P', 256, 256, 'P', 512, 512, 512, 512, 'L', 4096, 4096],\n",
    "                # cfg = [20001,10001], # depthwise, separable\n",
    "                # cfg = [64,20064,10001], # vanilla conv, depthwise, separable\n",
    "                # cfg = [8, 'P', 8, 'P', 8, 'P', 8,'P', 8, 'P'],\n",
    "                # cfg = [],        \n",
    "                \n",
    "                net_print = True, # True # False # True로 하길 추천\n",
    "                weight_count_print = False, # True # False\n",
    "                \n",
    "                pre_trained_path = f\"net_save/save_now_net_weights_{unique_name}.pth\",\n",
    "                learning_rate = 0.001, #0.1 bptt, #0.01 ottt, # default 0.001  # ottt 0.1 # nda 0.001 # 0.00936191669529645\n",
    "                epoch_num = 300,\n",
    "                verbose_interval = 999999999, #이거 걍 건들지마셈 #숫자 크게 하면 꺼짐 #걍 중간중간 iter에서 끊어서 출력\n",
    "                validation_interval =  999999999,#999999999, #이거 걍 건들지마셈 #숫자 크게 하면 에포크 마지막 iter 때 val 함\n",
    "\n",
    "                tdBN_on = False,  # True # False\n",
    "                BN_on = False,  # True # False\n",
    "                \n",
    "                surrogate = 'hard_sigmoid', # 'sigmoid' 'rectangle' 'rough_rectangle' 'hard_sigmoid'\n",
    "                \n",
    "                gradient_verbose = False,  # True # False  # weight gradient 각 layer마다 띄워줌\n",
    "\n",
    "                BPTT_on = False,  # True # False # True이면 BPTT, False이면 OTTT  # depthwise, separable은 BPTT만 가능\n",
    "                optimizer_what = 'SGD', # 'SGD' 'Adam', 'RMSprop'\n",
    "                scheduler_name = 'no', # 'no' 'StepLR' 'ExponentialLR' 'ReduceLROnPlateau' 'CosineAnnealingLR' 'OneCycleLR'\n",
    "                \n",
    "                ddp_on = False,   # True # False \n",
    "                # 지원 DATASET: cifar10, mnist\n",
    "\n",
    "                nda_net = False,   # True # False\n",
    "\n",
    "                domain_il_epoch = 0, # over 0, then domain il mode on # pmnist 쓸거면 HLOP 코드보고 더 디벨롭하셈. 지금 개발 hold함.\n",
    "                \n",
    "                dvs_clipping = 5, #일반적으로 1 또는 2 # 100ms때는 5 # 숫자만큼 크면 spike 아니면 걍 0\n",
    "                # gesture, cifar-dvs2, nmnist, ncaltech101\n",
    "                # gesture: 100_000c1-5, 25_000c5, 10_000c5, 1_000c5, 1_000_000c5\n",
    "\n",
    "                dvs_duration = 100_000, # 0 아니면 time sampling # dvs number sampling OR time sampling # gesture, cifar-dvs2, nmnist, ncaltech101\n",
    "                # 있는 데이터들 #gesture 100_000 25_000 10_000 1_000 1_000_000 #nmnist 10000 #nmnist_tonic 10_000 25_000\n",
    "                # 한 숫자가 1us인듯 (spikingjelly코드에서)\n",
    "                # 한 장에 50 timestep만 생산함. 싫으면 my_snn/trying/spikingjelly_dvsgesture의__init__.py 를 참고해봐\n",
    "                # nmnist 5_000us, gesture는 100_000us, 25_000us\n",
    "\n",
    "                OTTT_sWS_on = False, # True # False # BPTT끄고, CONV에만 적용됨.\n",
    "\n",
    "                DFA_on = False, # True # False # residual은 dfa지원안함.\n",
    "                OTTT_input_trace_on = False, # True # False # 맨 처음 input에 trace 적용\n",
    "                \n",
    "                e_transport_swap = 0, # 1 이상이면 해당 숫자 에포크만큼 val_acc_best가 변화가 없으면 e_transport scheme (BP vs DFA) swap\n",
    "                e_transport_swap_tr = 0, # 1 이상이면 해당 숫자 에포크만큼 tr_acc_best가 변화가 없으면 e_transport scheme (BP vs DFA) swap\n",
    "                e_transport_swap_coin = 1, # swap할 수 있는 coin 개수\n",
    "\n",
    "                drop_rate = 0, # drop_rate만큼 0으로 만듦. ex) 0.2면 activation의 20%를 0으로 만듦.\n",
    "\n",
    "                exclude_class = True, # True # False # gesture에서 10번째 클래스 제외\n",
    "\n",
    "                merge_polarities = False, # True # False # tonic dvs dataset 에서 polarities 합치기\n",
    "                denoise_on = False, # True # False # &&&&&&&&&&&&&&&&&&&&&&&&&&&&&&&&&&&&&&&&&&&&&&&&&&&&&&&\n",
    "\n",
    "                I_wanna_sweep_at_this_epoch = -1, # 지정 에포크에서 BP와 DFA를 바꿔줌. -1이면 실행 안함.\n",
    "                # dvs_duration_domain=[(100_000,5,False),(125_000,5,False),(150_000,5,False),],\n",
    "                # dvs_duration_domain=[(40_000,4,False),(50_000,4,False),(60_000,4,False),],\n",
    "                # [duration, clipping, denoise_on]\n",
    "                dvs_duration_domain=[(75_000,5,False)],\n",
    "                dvs_relative_timestep = False, # True # False \n",
    "                \n",
    "                extra_train_dataset = 0,\n",
    "\n",
    "                num_workers = 2, # local wsl에서는 2가 맞고, 서버에서는 4가 좋더라.\n",
    "                chaching_on = True, # True # False # only for certain datasets (gesture_tonic, nmnist_tonic)\n",
    "                pin_memory = True, # True # False \n",
    "\n",
    "                UDA_on = True, # True # False\n",
    "                UDA_data = (75_000,5,False), # (duration, clipping, denoise_on)\n",
    "                src_trg_ratio = 2, # (1이상의 정수) src data와 trg data의 개수 비율 (대략적으로)\n",
    "                adapter_loss_weight = 1.0, # 1.0  # adapter loss의 힘. # 이걸 0으로하면 src only learning.\n",
    "                alpha_uda = 1.0, # GRL의 alpha값\n",
    "\n",
    "                temporal_filter = 1, # 1이면 아무것도 안함. 한타임스텝에 쑤셔 넣을 window개수. \n",
    "                initial_pooling = 4, # 1이면 pooling 안함. 2의 승수만 입력하셈. log2를 취해서 pooling할 window size를 결정함.\n",
    "                ) \n",
    "\n",
    "# num_workers = 4 * num_GPU (or 8, 16, 2 * num_GPU)\n",
    "# entry * batch_size * num_worker = num_GPU * GPU_throughtput\n",
    "# num_workers = batch_size / num_GPU\n",
    "# num_workers = batch_size / num_CPU\n",
    "\n",
    "# sigmoid와 BN이 있어야 잘된다.\n",
    "# average pooling  \n",
    "# 이 낫다. \n",
    "\n",
    "# nda에서는 decay = 0.25, threshold = 0.5, width =1, surrogate = rectangle, batch = 256, tdBN = True\n",
    "## OTTT 에서는 decay = 0.5, threshold = 1.0, surrogate = sigmoid, batch = 128, BN = True\n",
    "\n",
    "\n",
    "# DDP 실행 코드0\n",
    "'''\n",
    "ddp_on 키고, gpu 개수 만큼 batch size 나눠줘\n",
    "CUDA_VISIBLE_DEVICES=0,1,2,3,4,5 python -m torch.distributed.launch --nproc_per_node=6 main_ddp.py\n",
    "CUDA_VISIBLE_DEVICES=1,2,3 python -m torch.distributed.launch --nproc_per_node=3 main_ddp.py\n",
    "CUDA_VISIBLE_DEVICES=0,1,2,3 python -m torch.distributed.launch --nproc_per_node=4 main_ddp.py\n",
    "'''\n",
    "\n"
   ]
  },
  {
   "cell_type": "code",
   "execution_count": 7,
   "metadata": {},
   "outputs": [],
   "source": [
    "# # sweep 하는 코드, 위 셀 주석처리 해야 됨.\n",
    "\n",
    "# # 이런 워닝 뜨는 거는 걍 너가 main 안에서  wandb.config.update(hyperparameters)할 때 물려서임. 어차피 근데 sweep에서 지정한 걸로 덮어짐 \n",
    "# # wandb: WARNING Config item 'BATCH' was locked by 'sweep' (ignored update).\n",
    "\n",
    "# unique_name_hyper = 'main'\n",
    "# run_name = 'main'\n",
    "# sweep_configuration = {\n",
    "#     'method': 'random', # 'random', 'bayes'\n",
    "#     'name': f'my_snn_sweep{datetime.datetime.now().strftime(\"%Y%m%d_%H%M%S\")}',\n",
    "#     'metric': {'goal': 'maximize', 'name': 'val_acc_best'},\n",
    "#     'parameters': \n",
    "#     {\n",
    "#         \"learning_rate\": {\"values\": [0.001]}, #0.00936191669529645\n",
    "#         \"BATCH\": {\"values\": [16]},\n",
    "#         \"decay\": {\"values\": [0.25]},\n",
    "#         \"IMAGE_SIZE\": {\"values\": [128]},\n",
    "#         \"TIME\": {\"values\": [10]},\n",
    "#         \"epoch_num\": {\"values\": [200]},\n",
    "#         \"dvs_duration\": {\"values\": [25_000,50_000,100_000]},\n",
    "#         \"dvs_clipping\": {\"values\": [1,2,3,4,5]},\n",
    "#         \"which_data\": {\"values\": ['DVS_GESTURE_TONIC']},\n",
    "#         \"OTTT_sWS_on\": {\"values\": [False]},\n",
    "#         \"const2\": {\"values\": [False]},\n",
    "#         \"surrogate\": {\"values\": ['hard_sigmoid']},\n",
    "#         \"DFA_on\": {\"values\": [False]},\n",
    "#         \"OTTT_input_trace_on\": {\"values\": [False]},\n",
    "#         \"cfg\": {\"values\": [['M','M',200,200]]},\n",
    "#         \"e_transport_swap\": {\"values\": [0]},\n",
    "#         \"e_transport_swap_tr\": {\"values\": [0]},\n",
    "#         \"drop_rate\": {\"values\": [0.0]}, # \"drop_rate\": {\"values\": [0.25,0.5,0.75]}, #\"drop_rate\": {\"min\": 0.25, \"max\": 0.75},\n",
    "#         \"exclude_class\": {\"values\": [True]},\n",
    "#         \"merge_polarities\": {\"values\": [False]},\n",
    "#         \"lif_layer_v_reset\": {\"values\": [10000]},\n",
    "#         \"lif_layer_sg_width\": {\"values\": [3.555718888923306]},\n",
    "#         \"e_transport_swap_coin\": {\"values\": [1]},\n",
    "#         \"lif_layer_v_threshold\": {\"values\": [0.720291189014991]},\n",
    "#         \"scheduler_name\": {\"values\": ['no']},  # 'no' 'StepLR' 'ExponentialLR' 'ReduceLROnPlateau' 'CosineAnnealingLR' 'OneCycleLR'\n",
    "#         \"denoise_on\": {\"values\": [True,False]}, \n",
    "#         \"I_wanna_sweep_at_this_epoch\": {\"values\": [-1]}, \n",
    "#         \"dvs_duration_domain\": {\"values\": [[]]}, \n",
    "#         \"dvs_relative_timestep\": {\"values\": [[False]]}, \n",
    "#         \"extra_train_dataset\": {\"values\": [0]}, \n",
    "#      }\n",
    "# }\n",
    "\n",
    "# def hyper_iter():\n",
    "#     ### my_snn control board ########################\n",
    "#     unique_name = unique_name_hyper ## 이거 설정하면 새로운 경로에 모두 save\n",
    "    \n",
    "#     wandb.init(save_code = True)\n",
    "#     learning_rate  =  wandb.config.learning_rate\n",
    "#     BATCH  =  wandb.config.BATCH\n",
    "#     decay  =  wandb.config.decay\n",
    "#     IMAGE_SIZE  =  wandb.config.IMAGE_SIZE\n",
    "#     TIME  =  wandb.config.TIME\n",
    "#     epoch_num  =  wandb.config.epoch_num \n",
    "#     dvs_duration  =  wandb.config.dvs_duration\n",
    "#     dvs_clipping  =  wandb.config.dvs_clipping\n",
    "#     which_data  =  wandb.config.which_data\n",
    "#     OTTT_sWS_on  =  wandb.config.OTTT_sWS_on\n",
    "#     const2  =  wandb.config.const2\n",
    "#     surrogate  =  wandb.config.surrogate\n",
    "#     DFA_on  =  wandb.config.DFA_on\n",
    "#     OTTT_input_trace_on  =  wandb.config.OTTT_input_trace_on\n",
    "#     cfg  =  wandb.config.cfg\n",
    "#     e_transport_swap  =  wandb.config.e_transport_swap\n",
    "#     e_transport_swap_tr  =  wandb.config.e_transport_swap_tr\n",
    "#     drop_rate  =  wandb.config.drop_rate\n",
    "#     exclude_class  =  wandb.config.exclude_class\n",
    "#     merge_polarities  =  wandb.config.merge_polarities\n",
    "#     lif_layer_v_reset  =  wandb.config.lif_layer_v_reset\n",
    "#     lif_layer_sg_width  =  wandb.config.lif_layer_sg_width\n",
    "#     e_transport_swap_coin  =  wandb.config.e_transport_swap_coin\n",
    "#     lif_layer_v_threshold  =  wandb.config.lif_layer_v_threshold\n",
    "#     scheduler_name  =  wandb.config.scheduler_name\n",
    "#     denoise_on  =  wandb.config.denoise_on\n",
    "#     I_wanna_sweep_at_this_epoch  =  wandb.config.I_wanna_sweep_at_this_epoch\n",
    "#     dvs_duration_domain  =  wandb.config.dvs_duration_domain\n",
    "#     dvs_relative_timestep  =  wandb.config.dvs_relative_timestep\n",
    "#     extra_train_dataset  =  wandb.config.extra_train_dataset\n",
    "#     if const2 == True:\n",
    "#         const2 = decay\n",
    "#     else:\n",
    "#         const2 = 0.0\n",
    "\n",
    "#     my_snn_system(  devices = \"5\",\n",
    "#                 single_step = True, # True # False\n",
    "#                 unique_name = run_name,\n",
    "#                 my_seed = 42,\n",
    "#                 TIME = TIME , # dvscifar 10 # ottt 6 or 10 # nda 10  # 제작하는 dvs에서 TIME넘거나 적으면 자르거나 PADDING함\n",
    "#                 BATCH = BATCH, # batch norm 할거면 2이상으로 해야함   # nda 256   #  ottt 128\n",
    "#                 IMAGE_SIZE = IMAGE_SIZE, # dvscifar 48 # MNIST 28 # CIFAR10 32 # PMNIST 28 #NMNIST 34 # GESTURE 128\n",
    "#                 # dvsgesture 128, dvs_cifar2 128, nmnist 34, n_caltech101 180,240, n_tidigits 64, heidelberg 700, \n",
    "#                 #pmnist는 28로 해야 됨. 나머지는 바꿔도 돌아는 감.\n",
    "\n",
    "#                 # DVS_CIFAR10 할거면 time 10으로 해라\n",
    "#                 which_data = which_data,\n",
    "# # 'CIFAR100' 'CIFAR10' 'MNIST' 'FASHION_MNIST' 'DVS_CIFAR10' 'PMNIST'아직\n",
    "# # 'DVS_GESTURE', 'DVS_GESTURE_TONIC','DVS_CIFAR10_2','NMNIST','NMNIST_TONIC','N_CALTECH101','n_tidigits','heidelberg'\n",
    "#                 # CLASS_NUM = 10,\n",
    "#                 data_path = '/data2', # YOU NEED TO CHANGE THIS\n",
    "#                 rate_coding = False, # True # False\n",
    "#                 lif_layer_v_init = 0.0,\n",
    "#                 lif_layer_v_decay = decay,\n",
    "#                 lif_layer_v_threshold = lif_layer_v_threshold,  # 10000이상으로 하면 NDA LIF 씀. #nda 0.5  #ottt 1.0\n",
    "#                 lif_layer_v_reset = lif_layer_v_reset, # 10000이상은 hardreset (내 LIF쓰기는 함 ㅇㅇ)\n",
    "#                 lif_layer_sg_width = lif_layer_sg_width, # # surrogate sigmoid 쓸 때는 의미없음\n",
    "\n",
    "#                 # synapse_conv_in_channels = IMAGE_PIXEL_CHANNEL,\n",
    "#                 synapse_conv_kernel_size = 3,\n",
    "#                 synapse_conv_stride = 1,\n",
    "#                 synapse_conv_padding = 1,\n",
    "#                 synapse_conv_trace_const1 = 1, # 현재 trace구할 때 현재 spike에 곱해지는 상수. 걍 1로 두셈.\n",
    "#                 synapse_conv_trace_const2 = const2, # 현재 trace구할 때 직전 trace에 곱해지는 상수. lif_layer_v_decay와 같게 할 것을 추천\n",
    "\n",
    "#                 # synapse_fc_out_features = CLASS_NUM,\n",
    "#                 synapse_fc_trace_const1 = 1, # 현재 trace구할 때 현재 spike에 곱해지는 상수. 걍 1로 두셈.\n",
    "#                 synapse_fc_trace_const2 = const2, # 현재 trace구할 때 직전 trace에 곱해지는 상수. lif_layer_v_decay와 같게 할 것을 추천\n",
    "\n",
    "#                 pre_trained = False, # True # False\n",
    "#                 convTrue_fcFalse = False, # True # False\n",
    "\n",
    "#                 # 'P' for average pooling, 'D' for (1,1) aver pooling, 'M' for maxpooling, 'L' for linear classifier, [  ] for residual block\n",
    "#                 # conv에서 10000 이상은 depth-wise separable (BPTT만 지원), 20000이상은 depth-wise (BPTT만 지원)\n",
    "#                 # cfg = [64, 64],\n",
    "#                 # cfg = [64, 124, 64, 124],\n",
    "#                 # cfg = ['M','M',512], \n",
    "#                 # cfg = [512], \n",
    "#                 # cfg = ['M', 'M', 64, 128, 'P', 128, 'P'], \n",
    "#                 # cfg = ['M','M',200,200],\n",
    "#                 # cfg = [200,200],\n",
    "#                 cfg = cfg,\n",
    "#                 # cfg = [12], #fc\n",
    "#                 # cfg = [12, 'M', 48, 'M', 12], \n",
    "#                 # cfg = [64,[64,64],64], # 끝에 linear classifier 하나 자동으로 붙습니다\n",
    "#                 # cfg = [64, 128, 'P', 256, 256, 'P', 512, 512, 'P', 512, 512, 'D'], #ottt\n",
    "#                 # cfg = [64, 128, 'P', 256, 256, 'P', 512, 512, 'P', 512, 512], \n",
    "#                 # cfg = [64, 128, 'M', 256, 256, 'M', 512, 512, 'M', 512, 512], \n",
    "#                 # cfg = [64, 'P', 128, 'P', 256, 256, 'P', 512, 512, 512, 512, 'D'], # nda\n",
    "#                 # cfg = [64, 'P', 128, 'P', 256, 256, 'P', 512, 512, 512, 512], # nda 128pixel\n",
    "#                 # cfg = [64, 'P', 128, 'P', 256, 256, 'P', 512, 512, 512, 512, 'L', 4096, 4096],\n",
    "#                 # cfg = [20001,10001], # depthwise, separable\n",
    "#                 # cfg = [64,20064,10001], # vanilla conv, depthwise, separable\n",
    "#                 # cfg = [8, 'P', 8, 'P', 8, 'P', 8,'P', 8, 'P'],\n",
    "#                 # cfg = [], \n",
    "                \n",
    "#                 net_print = True, # True # False # True로 하길 추천\n",
    "#                 weight_count_print = False, # True # False\n",
    "                \n",
    "#                 pre_trained_path = f\"net_save/save_now_net_weights_{unique_name}.pth\",\n",
    "#                 learning_rate = learning_rate, # default 0.001  # ottt 0.1 # nda 0.001 \n",
    "#                 epoch_num = epoch_num,\n",
    "#                 verbose_interval = 999999999, #숫자 크게 하면 꺼짐 #걍 중간중간 iter에서 끊어서 출력\n",
    "#                 validation_interval =  999999999,#999999999, #숫자 크게 하면 에포크 마지막 iter 때 val 함\n",
    "\n",
    "#                 tdBN_on = False,  # True # False\n",
    "#                 BN_on = False,  # True # False\n",
    "                \n",
    "#                 surrogate = surrogate, # 'rectangle' 'sigmoid' 'rough_rectangle'\n",
    "                \n",
    "#                 gradient_verbose = False,  # True # False  # weight gradient 각 layer마다 띄워줌\n",
    "\n",
    "#                 BPTT_on = False,  # True # False # True이면 BPTT, False이면 OTTT  # depthwise, separable은 BPTT만 가능\n",
    "#                 optimizer_what = 'SGD', # 'SGD' 'Adam', 'RMSprop'\n",
    "#                 scheduler_name = scheduler_name, # 'no' 'StepLR' 'ExponentialLR' 'ReduceLROnPlateau' 'CosineAnnealingLR' 'OneCycleLR'\n",
    "                \n",
    "#                 ddp_on = False,   # True # False \n",
    "#                 # 지원 DATASET: cifar10, mnist\n",
    "\n",
    "#                 nda_net = False,   # True # False\n",
    "\n",
    "#                 domain_il_epoch = 0, # over 0, then domain il mode on # pmnist 쓸거면 HLOP 코드보고 더 디벨롭하셈. 지금 개발 hold함.\n",
    "                \n",
    "#                 dvs_clipping = dvs_clipping, # 숫자만큼 크면 spike 아니면 걍 0\n",
    "#                 # gesture, cifar-dvs2, nmnist, ncaltech101\n",
    "\n",
    "#                 dvs_duration = dvs_duration, # 0 아니면 time sampling # dvs number sampling OR time sampling # gesture, cifar-dvs2, nmnist, ncaltech101\n",
    "#                 # 있는 데이터들 #gesture 100_000 25_000 10_000 1_000 1_000_000 #nmnist 10000 #nmnist_tonic 10_000 25_000\n",
    "#                 # 한 숫자가 1us인듯 (spikingjelly코드에서)\n",
    "#                 # 한 장에 50 timestep만 생산함. 싫으면 my_snn/trying/spikingjelly_dvsgesture의__init__.py 를 참고해봐\n",
    "\n",
    "#                 OTTT_sWS_on = OTTT_sWS_on, # True # False # BPTT끄고, CONV에만 적용됨.\n",
    "\n",
    "#                 DFA_on = DFA_on, # True # False # residual은 dfa지원안함.\n",
    "#                 OTTT_input_trace_on = OTTT_input_trace_on, # True # False # 맨 처음 input에 trace 적용\n",
    "                 \n",
    "#                 e_transport_swap = e_transport_swap, # 1 이상이면 해당 숫자 에포크만큼 val_acc_best가 변화가 없으면 e_transport scheme (BP vs DFA) swap\n",
    "#                 e_transport_swap_tr = e_transport_swap_tr, # 1 이상이면 해당 숫자 에포크만큼 tr_acc_best가 변화가 없으면 e_transport scheme (BP vs DFA) swap\n",
    "#                 e_transport_swap_coin = e_transport_swap_coin, # swap할 수 있는 coin 개수\n",
    "                    \n",
    "#                 drop_rate = drop_rate,\n",
    "\n",
    "#                 exclude_class = exclude_class, # True # False # gesture에서 10번째 클래스 제외\n",
    "\n",
    "#                 merge_polarities = merge_polarities, # True # False # tonic dvs dataset 에서 polarities 합치기\n",
    "#                 denoise_on = denoise_on,\n",
    "\n",
    "#                 I_wanna_sweep_at_this_epoch = I_wanna_sweep_at_this_epoch,\n",
    "#                 dvs_duration_domain = dvs_duration_domain,\n",
    "#                 dvs_relative_timestep = dvs_relative_timestep, # True # False \n",
    "\n",
    "#                 extra_train_dataset = extra_train_dataset,\n",
    "\n",
    "#                 num_workers = 2,\n",
    "#                 chaching_on = True,\n",
    "#                 pin_memory = True, # True # False\n",
    "#                     ) \n",
    "#     # sigmoid와 BN이 있어야 잘된다.\n",
    "#     # average pooling\n",
    "#     # 이 낫다. \n",
    "    \n",
    "#     # nda에서는 decay = 0.25, threshold = 0.5, width =1, surrogate = rectangle, batch = 256, tdBN = True\n",
    "#     ## OTTT 에서는 decay = 0.5, threshold = 1.0, surrogate = sigmoid, batch = 128, BN = True\n",
    "\n",
    "# sweep_id = wandb.sweep(sweep=sweep_configuration, project=f'my_snn {unique_name_hyper}')\n",
    "# wandb.agent(sweep_id, function=hyper_iter, count=10000, project=f'my_snn {unique_name_hyper}')\n"
   ]
  },
  {
   "cell_type": "code",
   "execution_count": 8,
   "metadata": {},
   "outputs": [
    {
     "data": {
      "application/vnd.jupyter.widget-view+json": {
       "model_id": "8a60e5e1712b4b3fa349edcef3fb83aa",
       "version_major": 2,
       "version_minor": 0
      },
      "text/plain": [
       "VBox(children=(Label(value='2.043 MB of 2.043 MB uploaded (1.408 MB deduped)\\r'), FloatProgress(value=1.0, max…"
      ]
     },
     "metadata": {},
     "output_type": "display_data"
    },
    {
     "data": {
      "text/html": [
       "W&B sync reduced upload amount by 57.0%"
      ],
      "text/plain": [
       "<IPython.core.display.HTML object>"
      ]
     },
     "metadata": {},
     "output_type": "display_data"
    },
    {
     "data": {
      "text/html": [
       "<style>\n",
       "    table.wandb td:nth-child(1) { padding: 0 10px; text-align: left ; width: auto;} td:nth-child(2) {text-align: left ; width: 100%}\n",
       "    .wandb-row { display: flex; flex-direction: row; flex-wrap: wrap; justify-content: flex-start; width: 100% }\n",
       "    .wandb-col { display: flex; flex-direction: column; flex-basis: 100%; flex: 1; padding: 10px; }\n",
       "    </style>\n",
       "<div class=\"wandb-row\"><div class=\"wandb-col\"><h3>Run history:</h3><br/><table class=\"wandb\"><tr><td>DFA_flag</td><td>▁▁▁▁▁▁▁▁▁▁▁▁▁▁▁▁▁▁▁▁▁▁▁▁▁▁▁▁▁▁▁▁▁▁▁▁▁▁▁▁</td></tr><tr><td>epoch</td><td>▁▁▁▂▂▂▂▂▂▃▃▃▃▃▄▄▄▄▄▄▅▅▅▅▅▅▆▆▆▆▆▇▇▇▇▇▇███</td></tr><tr><td>iter_acc</td><td>▃▃██▅██▅▆█▆▅██▅▄█▃▆██▄██▅▆█▅▄█▆▆▆█▅▅█▁▃█</td></tr><tr><td>summary_val_acc</td><td>▁▂▄▅▆▇▇▇▇▇▇▇▇▇▇▇▇▆▇▇▇█▇▇▇▇▇▇▇▇▇▇▇██████▇</td></tr><tr><td>tr_acc</td><td>▁▆██████████████████████████████████████</td></tr><tr><td>tr_epoch_loss</td><td>█▄▃▁▁▁▁▁▁▁▁▁▁▁▁▁▁▁▁▁▁▁▁▁▁▁▁▁▁▁▁▁▁▁▁▁▁▁▁▁</td></tr><tr><td>val_acc_best</td><td>▁▃▄▇▇▇▇▇▇▇██████████████████████████████</td></tr><tr><td>val_acc_now</td><td>▁▂▄▅▆▇▇▇▇▇▇▇▇▇▇▇▇▆▇▇▇█▇▇▇▇▇▇▇▇▇▇▇██████▇</td></tr><tr><td>val_acc_now_set[1]</td><td>▁▂▃▅▇▇▇▇▇▇▇▇▇█▆▇▇▇█▇▇███████▇██▇▇▇▇▇▇▇▇▇</td></tr><tr><td>val_acc_now_set[1]_best</td><td>▁▂▄▇▇███████████████████████████████████</td></tr><tr><td>val_loss</td><td>▁▁▂▃▃▄▄▅▅▅▅▅▆▆▆▆▆▆▆▆▇▇▇▇▇▇▇▇▇▇██████████</td></tr></table><br/></div><div class=\"wandb-col\"><h3>Run summary:</h3><br/><table class=\"wandb\"><tr><td>DFA_flag</td><td>0.0</td></tr><tr><td>epoch</td><td>299</td></tr><tr><td>iter_acc</td><td>1.0</td></tr><tr><td>tr_acc</td><td>1.0</td></tr><tr><td>tr_epoch_loss</td><td>0.00225</td></tr><tr><td>val_acc_best</td><td>0.7875</td></tr><tr><td>val_acc_now</td><td>0.7625</td></tr><tr><td>val_acc_now_set[1]</td><td>0.72083</td></tr><tr><td>val_acc_now_set[1]_best</td><td>0.75417</td></tr><tr><td>val_loss</td><td>3.25064</td></tr></table><br/></div></div>"
      ],
      "text/plain": [
       "<IPython.core.display.HTML object>"
      ]
     },
     "metadata": {},
     "output_type": "display_data"
    },
    {
     "data": {
      "text/html": [
       " View run <strong style=\"color:#cdcd00\">rose-sun-6544</strong> at: <a href='https://wandb.ai/bhkim003-seoul-national-university/my_snn%20main/runs/lt1hk10m' target=\"_blank\">https://wandb.ai/bhkim003-seoul-national-university/my_snn%20main/runs/lt1hk10m</a><br/> View project at: <a href='https://wandb.ai/bhkim003-seoul-national-university/my_snn%20main' target=\"_blank\">https://wandb.ai/bhkim003-seoul-national-university/my_snn%20main</a><br/>Synced 7 W&B file(s), 0 media file(s), 15 artifact file(s) and 1 other file(s)"
      ],
      "text/plain": [
       "<IPython.core.display.HTML object>"
      ]
     },
     "metadata": {},
     "output_type": "display_data"
    },
    {
     "data": {
      "text/html": [
       "Find logs at: <code>./wandb/run-20241021_225838-lt1hk10m/logs</code>"
      ],
      "text/plain": [
       "<IPython.core.display.HTML object>"
      ]
     },
     "metadata": {},
     "output_type": "display_data"
    },
    {
     "data": {
      "text/html": [
       "The new W&B backend becomes opt-out in version 0.18.0; try it out with `wandb.require(\"core\")`! See https://wandb.me/wandb-core for more information."
      ],
      "text/plain": [
       "<IPython.core.display.HTML object>"
      ]
     },
     "metadata": {},
     "output_type": "display_data"
    }
   ],
   "source": [
    "wandb.finish() "
   ]
  },
  {
   "cell_type": "code",
   "execution_count": 9,
   "metadata": {},
   "outputs": [
    {
     "ename": "",
     "evalue": "",
     "output_type": "error",
     "traceback": [
      "\u001b[1;31mThe Kernel crashed while executing code in the the current cell or a previous cell. Please review the code in the cell(s) to identify a possible cause of the failure. Click <a href='https://aka.ms/vscodeJupyterKernelCrash'>here</a> for more info. View Jupyter <a href='command:jupyter.viewOutput'>log</a> for further details."
     ]
    }
   ],
   "source": [
    "# import numpy as np\n",
    "# import matplotlib.pyplot as plt\n",
    "# import json\n",
    "# run_name = 'main_FINAL_TEST'\n",
    "\n",
    "# unique_name = run_name\n",
    "# def pad_array_to_match_length(array1, array2):\n",
    "#     if len(array1) > len(array2):\n",
    "#         padded_array2 = np.pad(array2, (0, len(array1) - len(array2)), 'constant')\n",
    "#         return array1, padded_array2\n",
    "#     elif len(array2) > len(array1):\n",
    "#         padded_array1 = np.pad(array1, (0, len(array2) - len(array1)), 'constant')\n",
    "#         return padded_array1, array2\n",
    "#     else:\n",
    "#         return array1, array2\n",
    "# def load_hyperparameters(filename=f'result_save/hyperparameters_{unique_name}.json'):\n",
    "#     with open(filename, 'r') as f:\n",
    "#         return json.load(f)\n",
    "    \n",
    "\n",
    "\n",
    "\n",
    "\n",
    "# current_time = '20240628_110116'\n",
    "# base_name = f'{current_time}'\n",
    "# iter_acc_file_name = f'result_save/{base_name}_iter_acc_array_{unique_name}.npy'\n",
    "# val_acc_file_name = f'result_save/{base_name}_val_acc_now_array_{unique_name}.npy'\n",
    "# hyperparameters_file_name = f'result_save/{base_name}_hyperparameters_{unique_name}.json'\n",
    "\n",
    "# ### if you want to just see most recent train and val acc###########################\n",
    "# iter_acc_file_name = f'result_save/iter_acc_array_{unique_name}.npy'\n",
    "# tr_acc_file_name = f'result_save/tr_acc_array_{unique_name}.npy'\n",
    "# val_acc_file_name = f'result_save/val_acc_now_array_{unique_name}.npy'\n",
    "# hyperparameters_file_name = f'result_save/hyperparameters_{unique_name}.json'\n",
    "\n",
    "# loaded_iter_acc_array = np.load(iter_acc_file_name)*100\n",
    "# loaded_tr_acc_array = np.load(tr_acc_file_name)*100\n",
    "# loaded_val_acc_array = np.load(val_acc_file_name)*100\n",
    "# hyperparameters = load_hyperparameters(hyperparameters_file_name)\n",
    "\n",
    "# loaded_iter_acc_array, loaded_val_acc_array = pad_array_to_match_length(loaded_iter_acc_array, loaded_val_acc_array)\n",
    "# loaded_iter_acc_array, loaded_tr_acc_array = pad_array_to_match_length(loaded_iter_acc_array, loaded_tr_acc_array)\n",
    "# loaded_val_acc_array, loaded_tr_acc_array = pad_array_to_match_length(loaded_val_acc_array, loaded_tr_acc_array)\n",
    "\n",
    "# top_iter_acc = np.max(loaded_iter_acc_array)\n",
    "# top_tr_acc = np.max(loaded_tr_acc_array)\n",
    "# top_val_acc = np.max(loaded_val_acc_array)\n",
    "\n",
    "# which_data = hyperparameters['which_data']\n",
    "# BPTT_on = hyperparameters['BPTT_on']\n",
    "# current_epoch = hyperparameters['current epoch']\n",
    "# surrogate = hyperparameters['surrogate']\n",
    "# cfg = hyperparameters['cfg']\n",
    "# tdBN_on = hyperparameters['tdBN_on']\n",
    "# BN_on = hyperparameters['BN_on']\n",
    "\n",
    "\n",
    "# iterations = np.arange(len(loaded_iter_acc_array))\n",
    "\n",
    "# # 그래프 그리기\n",
    "# plt.figure(figsize=(10, 5))\n",
    "# plt.plot(iterations, loaded_iter_acc_array, label='Iter Accuracy', color='g', alpha=0.2)\n",
    "# plt.plot(iterations, loaded_tr_acc_array, label='Training Accuracy', color='b')\n",
    "# plt.plot(iterations, loaded_val_acc_array, label='Validation Accuracy', color='r')\n",
    "\n",
    "# # # 텍스트 추가\n",
    "# # plt.text(0.05, 0.95, f'Top Training Accuracy: {100*top_iter_acc:.2f}%', transform=plt.gca().transAxes, fontsize=12, verticalalignment='top', horizontalalignment='left', color='blue')\n",
    "# # plt.text(0.05, 0.90, f'Top Validation Accuracy: {100*top_val_acc:.2f}%', transform=plt.gca().transAxes, fontsize=12, verticalalignment='top', horizontalalignment='left', color='red')\n",
    "# # 텍스트 추가\n",
    "# plt.text(0.5, 0.10, f'Top Training Accuracy: {top_tr_acc:.2f}%', transform=plt.gca().transAxes, fontsize=12, verticalalignment='top', horizontalalignment='center', color='blue')\n",
    "# plt.text(0.5, 0.05, f'Top Validation Accuracy: {top_val_acc:.2f}%', transform=plt.gca().transAxes, fontsize=12, verticalalignment='top', horizontalalignment='center', color='red')\n",
    "\n",
    "# plt.xlabel('Iterations')\n",
    "# plt.ylabel('Accuracy [%]')\n",
    "\n",
    "# # 그래프 제목에 하이퍼파라미터 정보 추가\n",
    "# title = f'Training and Validation Accuracy over Iterations\\n\\nData: {which_data}, BPTT: {\"On\" if BPTT_on else \"Off\"}, Current Epoch: {current_epoch}, Surrogate: {surrogate},\\nCFG: {cfg}, tdBN: {\"On\" if tdBN_on else \"Off\"}, BN: {\"On\" if BN_on else \"Off\"}'\n",
    "\n",
    "# plt.title(title)\n",
    "\n",
    "# plt.legend(loc='lower right')\n",
    "# plt.xlim(0)  # x축을 0부터 시작\n",
    "# plt.grid(True)\n",
    "# plt.show()"
   ]
  }
 ],
 "metadata": {
  "kernelspec": {
   "display_name": "aedat2",
   "language": "python",
   "name": "python3"
  },
  "language_info": {
   "codemirror_mode": {
    "name": "ipython",
    "version": 3
   },
   "file_extension": ".py",
   "mimetype": "text/x-python",
   "name": "python",
   "nbconvert_exporter": "python",
   "pygments_lexer": "ipython3",
   "version": "3.8.18"
  }
 },
 "nbformat": 4,
 "nbformat_minor": 2
}
