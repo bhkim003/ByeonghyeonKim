{
 "cells": [
  {
   "cell_type": "code",
   "execution_count": 1,
   "metadata": {},
   "outputs": [],
   "source": [
    "# Copyright (c) 2024 Byeonghyeon Kim \n",
    "# github site: https://github.com/bhkim003/ByeonghyeonKim\n",
    "# email: bhkim003@snu.ac.kr\n",
    " \n",
    "# Permission is hereby granted, free of charge, to any person obtaining a copy of\n",
    "# this software and associated documentation files (the \"Software\"), to deal in\n",
    "# the Software without restriction, including without limitation the rights to\n",
    "# use, copy, modify, merge, publish, distribute, sublicense, and/or sell copies of\n",
    "# the Software, and to permit persons to whom the Software is furnished to do so,\n",
    "# subject to the following conditions:\n",
    " \n",
    "# The above copyright notice and this permission notice shall be included in all\n",
    "# copies or substantial portions of the Software.\n",
    " \n",
    "# THE SOFTWARE IS PROVIDED \"AS IS\", WITHOUT WARRANTY OF ANY KIND, EXPRESS OR\n",
    "# IMPLIED, INCLUDING BUT NOT LIMITED TO THE WARRANTIES OF MERCHANTABILITY, FITNESS\n",
    "# FOR A PARTICULAR PURPOSE AND NONINFRINGEMENT. IN NO EVENT SHALL THE AUTHORS OR\n",
    "# COPYRIGHT HOLDERS BE LIABLE FOR ANY CLAIM, DAMAGES OR OTHER LIABILITY, WHETHER\n",
    "# IN AN ACTION OF CONTRACT, TORT OR OTHERWISE, ARISING FROM, OUT OF OR IN\n",
    "# CONNECTION WITH THE SOFTWARE OR THE USE OR OTHER DEALINGS IN THE SOFTWARE.\n"
   ]
  },
  {
   "cell_type": "code",
   "execution_count": 2,
   "metadata": {},
   "outputs": [
    {
     "name": "stderr",
     "output_type": "stream",
     "text": [
      "/tmp/ipykernel_27853/652520392.py:46: DeprecationWarning: The module snntorch.spikevision is deprecated. For loading neuromorphic datasets, we recommend using the Tonic project: https://github.com/neuromorphs/tonic\n",
      "  from snntorch.spikevision import spikedata\n"
     ]
    }
   ],
   "source": [
    "import sys\n",
    "import os\n",
    "import argparse\n",
    "import torch\n",
    "import torch.nn as nn \n",
    "import torch.nn.functional as F\n",
    "import torch.backends.cudnn as cudnn\n",
    "import torch.optim as optim\n",
    "import torch.optim.lr_scheduler as lr_scheduler\n",
    "from torch.utils.data import Dataset, DataLoader\n",
    "\n",
    "import torchvision\n",
    "import torchvision.datasets\n",
    "import torchvision.transforms as transforms\n",
    "\n",
    "import numpy as np\n",
    "import matplotlib.pyplot as plt\n",
    "\n",
    "import time\n",
    "\n",
    "from snntorch import spikegen\n",
    "import matplotlib.pyplot as plt\n",
    "import snntorch.spikeplot as splt\n",
    "from IPython.display import HTML\n",
    "\n",
    "from tqdm import tqdm\n",
    "\n",
    "from apex.parallel import DistributedDataParallel as DDP\n",
    "\n",
    "import random\n",
    "import datetime\n",
    "\n",
    "import json\n",
    "\n",
    "from sklearn.utils import shuffle\n",
    "\n",
    "''' 레퍼런스\n",
    "https://spikingjelly.readthedocs.io/zh-cn/0.0.0.0.4/spikingjelly.datasets.html#module-spikingjelly.datasets\n",
    "https://github.com/GorkaAbad/Sneaky-Spikes/blob/main/datasets.py\n",
    "https://github.com/GorkaAbad/Sneaky-Spikes/blob/main/how_to.md\n",
    "https://github.com/nmi-lab/torchneuromorphic\n",
    "https://snntorch.readthedocs.io/en/latest/snntorch.spikevision.spikedata.html#shd\n",
    "'''\n",
    "\n",
    "import snntorch\n",
    "from snntorch.spikevision import spikedata\n",
    "\n",
    "from spikingjelly.datasets.dvs128_gesture import DVS128Gesture\n",
    "from spikingjelly.datasets.cifar10_dvs import CIFAR10DVS\n",
    "from spikingjelly.datasets.n_mnist import NMNIST\n",
    "# from spikingjelly.datasets.es_imagenet import ESImageNet\n",
    "from spikingjelly.datasets import split_to_train_test_set\n",
    "from spikingjelly.datasets.n_caltech101 import NCaltech101\n",
    "from spikingjelly.datasets import pad_sequence_collate, padded_sequence_mask\n",
    "\n",
    "import torchneuromorphic\n",
    "\n",
    "import wandb\n",
    "\n",
    "from torchviz import make_dot\n",
    "import graphviz"
   ]
  },
  {
   "cell_type": "code",
   "execution_count": 3,
   "metadata": {},
   "outputs": [],
   "source": [
    "import apex"
   ]
  },
  {
   "cell_type": "code",
   "execution_count": 4,
   "metadata": {},
   "outputs": [
    {
     "data": {
      "image/png": "[encoded data removed]",
      "text/plain": [
       "<Figure size 800x600 with 2 Axes>"
      ]
     },
     "metadata": {},
     "output_type": "display_data"
    }
   ],
   "source": [
    "# my module import\n",
    "from modules import *\n",
    "\n",
    "# modules 폴더에 새모듈.py 만들면\n",
    "# modules/__init__py 파일에 form .새모듈 import * 하셈\n",
    "# 그리고 새모듈.py에서 from modules.새모듈 import * 하셈\n"
   ]
  },
  {
   "cell_type": "code",
   "execution_count": 5,
   "metadata": {},
   "outputs": [],
   "source": [
    "def my_snn_system(devices = \"0,1,2,3\",\n",
    "                    single_step = False, # True # False\n",
    "                    unique_name = 'main',\n",
    "                    my_seed = 42,\n",
    "                    TIME = 10,\n",
    "                    BATCH = 256,\n",
    "                    IMAGE_SIZE = 32,\n",
    "                    which_data = 'CIFAR10',\n",
    "                    # CLASS_NUM = 10,\n",
    "                    data_path = '/data2',\n",
    "                    rate_coding = True,\n",
    "    \n",
    "                    lif_layer_v_init = 0.0,\n",
    "                    lif_layer_v_decay = 0.6,\n",
    "                    lif_layer_v_threshold = 1.2,\n",
    "                    lif_layer_v_reset = 0.0,\n",
    "                    lif_layer_sg_width = 1,\n",
    "\n",
    "                    # synapse_conv_in_channels = IMAGE_PIXEL_CHANNEL,\n",
    "                    synapse_conv_kernel_size = 3,\n",
    "                    synapse_conv_stride = 1,\n",
    "                    synapse_conv_padding = 1,\n",
    "                    synapse_conv_trace_const1 = 1,\n",
    "                    synapse_conv_trace_const2 = 0.6,\n",
    "\n",
    "                    # synapse_fc_out_features = CLASS_NUM,\n",
    "                    synapse_fc_trace_const1 = 1,\n",
    "                    synapse_fc_trace_const2 = 0.6,\n",
    "\n",
    "                    pre_trained = False,\n",
    "                    convTrue_fcFalse = True,\n",
    "                    cfg = [64, 64],\n",
    "                    net_print = False, # True # False\n",
    "                    weight_count_print = False, # True # False\n",
    "                    pre_trained_path = \"net_save/save_now_net.pth\",\n",
    "                    learning_rate = 0.0001,\n",
    "                    epoch_num = 200,\n",
    "                    verbose_interval = 100, #숫자 크게 하면 꺼짐\n",
    "                    validation_interval = 10, #숫자 크게 하면 꺼짐\n",
    "                    tdBN_on = False,\n",
    "                    BN_on = False,\n",
    "\n",
    "                    surrogate = 'sigmoid',\n",
    "\n",
    "                    gradient_verbose = False,\n",
    "\n",
    "                    BPTT_on = False,\n",
    "\n",
    "                    optimizer_what = 'SGD', # 'SGD' 'Adam', 'RMSprop'\n",
    "                    scheduler_name = 'no',\n",
    "                    \n",
    "                    ddp_on = True,\n",
    "\n",
    "                    nda_net = False,\n",
    "                    \n",
    "                    domain_il_epoch = 0, # over 0, then domain il mode on\n",
    "\n",
    "                    dvs_clipping = 1, \n",
    "                    dvs_duration = 10005,\n",
    "\n",
    "                    OTTT_sWS_on = True, # True # False\n",
    "\n",
    "                    DFA_on = False, # True # False\n",
    "                    OTTT_input_trace_on = False, # True # False\n",
    "                 \n",
    "                    e_transport_swap = 5, # 1 이상이면 해당 숫자 에포크만큼 val_acc_best가 변화가 없으면 e_transport scheme (BP vs DFA) swap\n",
    "                    e_transport_swap_tr = 0, # 1 이상이면 해당 숫자 에포크만큼 val_acc_best가 변화가 없으면 e_transport scheme (BP vs DFA) swap\n",
    "                    e_transport_swap_coin = 0, # swap할 수 있는 coin 개수\n",
    "\n",
    "                    drop_rate = 0.5, \n",
    "\n",
    "                    exclude_class = True, # True # False # gesture에서 10번째 클래스 제외\n",
    "\n",
    "                    merge_polarities = True, # True # False # tonic dvs dataset 에서 polarities 합치기\n",
    "                    denoise_on = True, \n",
    "                    dvs_relative_timestep = True, \n",
    "                    \n",
    "                    I_wanna_sweep_at_this_epoch = -1,\n",
    "                    dvs_duration_domain = [],\n",
    "\n",
    "                    extra_train_dataset = 0,\n",
    "\n",
    "                    num_workers = 2,\n",
    "                    chaching_on = False,\n",
    "                    pin_memory = True, # True # False\n",
    "                    \n",
    "                    UDA_on = False, # True # False\n",
    "                    UDA_data = (25_000,1,False), # (duration, clipping, denoise_on)\n",
    "                    src_trg_ratio = 1,\n",
    "                    adapter_loss_weight = 1.0, # 1.0  # adapter loss의 힘.\n",
    "                  ):\n",
    "    ## hyperparameter check #############################################################\n",
    "    if OTTT_sWS_on == True:\n",
    "        assert BPTT_on == False and tdBN_on == False and BN_on == False\n",
    "        if convTrue_fcFalse == False:\n",
    "            assert single_step == True\n",
    "    if single_step == True:\n",
    "        assert BPTT_on == False and tdBN_on == False \n",
    "    if tdBN_on == True:\n",
    "        assert BPTT_on == True\n",
    "    if pre_trained == True:\n",
    "        print('\\n\\n')\n",
    "        print(\"Caution! pre_trained is True\\n\\n\"*3)    \n",
    "    if DFA_on == True:\n",
    "        assert single_step == True and BPTT_on == False and any(isinstance(item, list) for item in cfg) == False\n",
    "    if OTTT_input_trace_on == True:\n",
    "        assert BPTT_on == False and single_step == True\n",
    "    if UDA_on == True:\n",
    "        assert single_step == True and BPTT_on == False and I_wanna_sweep_at_this_epoch == -1 and (e_transport_swap_coin == 0 or (e_transport_swap == 0 and e_transport_swap_tr == 0)) and isinstance(cfg, tuple) == True\n",
    "    ######################################################################################\n",
    "\n",
    "\n",
    "    ## 함수 내 모든 로컬 변수 저장 ########################################################\n",
    "    hyperparameters = locals()\n",
    "    hyperparameters['current epoch'] = 0\n",
    "    ######################################################################################\n",
    "    \n",
    "    args_gpu = None\n",
    "    ## DDP settting ######################################################################\n",
    "    if (ddp_on == True):\n",
    "        parser = argparse.ArgumentParser(description='my_snn CIFAR10 Training')\n",
    "\n",
    "        # # local_rank는 command line에서 따로 줄 필요는 없지만, 선언은 필요\n",
    "        parser.add_argument(\"--local_rank\", default=0, type=int)\n",
    "\n",
    "        args = parser.parse_args() # 이거 적어줘야됨. parser argument선언하고\n",
    "\n",
    "        args.gpu = args.local_rank\n",
    "        args_gpu = args.gpu\n",
    "        torch.cuda.set_device(args.gpu)\n",
    "        torch.distributed.init_process_group(backend=\"nccl\", init_method=\"env://\")\n",
    "        args.world_size = torch.distributed.get_world_size()\n",
    "    #######################################################################################\n",
    "\n",
    "\n",
    "    ## wandb 세팅 ###################################################################\n",
    "    current_time = datetime.datetime.now().strftime(\"%Y%m%d_%H%M%S\")\n",
    "    if (ddp_on == True and torch.distributed.get_rank() != 0):\n",
    "        wandb.finish()\n",
    "    if (ddp_on == False or torch.distributed.get_rank() == 0):\n",
    "        wandb.config.update(hyperparameters)\n",
    "        wandb.run.name = f'lr_{learning_rate}_{unique_name}_{which_data}_tstep{TIME}'\n",
    "        wandb.define_metric(\"summary_val_acc\", summary=\"max\")\n",
    "        wandb.run.log_code(\".\", \n",
    "                           include_fn=lambda path: path.endswith(\".py\") or path.endswith(\".ipynb\"),\n",
    "                           exclude_fn=lambda path: 'logs/' in path or 'net_save/' in path or 'result_save/' in path or 'trying/' in path or 'wandb/' in path or 'private/' in path\n",
    "                           )\n",
    "    ###################################################################################\n",
    "\n",
    "\n",
    "\n",
    "    ## gpu setting ##################################################################################################################\n",
    "    os.environ[\"CUDA_DEVICE_ORDER\"]=\"PCI_BUS_ID\" \n",
    "    os.environ[\"CUDA_VISIBLE_DEVICES\"]= devices\n",
    "    ###################################################################################################################################\n",
    "\n",
    "\n",
    "    ## seed setting ##################################################################################################################\n",
    "    seed_assign(my_seed)\n",
    "    ###################################################################################################################################\n",
    "    \n",
    "\n",
    "    ## data_loader 가져오기 ##################################################################################################################\n",
    "    # data loader, pixel channel, class num\n",
    "    train_loader, test_loader, synapse_conv_in_channels, CLASS_NUM = data_loader(\n",
    "            which_data,\n",
    "            data_path, \n",
    "            rate_coding, \n",
    "            BATCH, \n",
    "            IMAGE_SIZE,\n",
    "            ddp_on,\n",
    "            TIME,\n",
    "            dvs_clipping,\n",
    "            dvs_duration,\n",
    "            exclude_class,\n",
    "            merge_polarities,\n",
    "            denoise_on,\n",
    "            my_seed,\n",
    "            extra_train_dataset,\n",
    "            num_workers,\n",
    "            chaching_on,\n",
    "            pin_memory)\n",
    "    synapse_fc_out_features = CLASS_NUM\n",
    "    test_loader_domain_set = []\n",
    "    test_loader_domain_set.append(test_loader)  \n",
    "\n",
    "    if (UDA_on == True):\n",
    "        print('Target domain에 대한 validation set이 이 target domain의 test set이다.')\n",
    "        train_loader_target, _, synapse_conv_in_channels, CLASS_NUM = data_loader(\n",
    "                which_data,\n",
    "                data_path, \n",
    "                rate_coding, \n",
    "                BATCH, \n",
    "                IMAGE_SIZE,\n",
    "                ddp_on,\n",
    "                TIME,\n",
    "                UDA_data[1],  # dvs_clipping,\n",
    "                UDA_data[0],   # dvs_duration,\n",
    "                exclude_class,\n",
    "                merge_polarities,\n",
    "                UDA_data[2], # denoise_on,\n",
    "                my_seed,\n",
    "                extra_train_dataset,\n",
    "                num_workers,\n",
    "                chaching_on,\n",
    "                pin_memory)\n",
    "        synapse_fc_out_features = CLASS_NUM\n",
    "    ###########################################################################################################################################\n",
    "    \n",
    "    ## 다른 dvs duration domain을 validation set으로 불러오기 ##############################################################\n",
    "    dvs_duration_domain_temp = []\n",
    "    if len(dvs_duration_domain) > 0:\n",
    "        for domain in dvs_duration_domain:\n",
    "            target_domain_timestep = (dvs_duration*TIME)//domain[0] if dvs_relative_timestep == True else TIME\n",
    "            dvs_duration_domain_temp.append(domain + (target_domain_timestep,))\n",
    "            train_loader_domain, test_loader_domain, synapse_conv_in_channels_domain, CLASS_NUM_domain = data_loader(\n",
    "                    which_data,\n",
    "                    data_path, \n",
    "                    rate_coding, \n",
    "                    BATCH, \n",
    "                    IMAGE_SIZE,\n",
    "                    ddp_on,\n",
    "                    target_domain_timestep,\n",
    "                    domain[1], # dvs_clipping\n",
    "                    domain[0], # dvs_duration\n",
    "                    exclude_class,\n",
    "                    merge_polarities,\n",
    "                    domain[2], # denoise_on \n",
    "                    my_seed,\n",
    "                    extra_train_dataset,\n",
    "                    num_workers,\n",
    "                    chaching_on,\n",
    "                    pin_memory)\n",
    "            test_loader_domain_set.append(test_loader_domain)\n",
    "        dvs_duration_domain = dvs_duration_domain_temp\n",
    "    ######################################################################################################################\n",
    "    \n",
    "    ## parameter number calculator (안 중요함) ##################################################################################################################\n",
    "    params_num = 0\n",
    "    img_size = IMAGE_SIZE \n",
    "    bias_param = 1 # 1 or 0\n",
    "    classifier_making = False\n",
    "    if (UDA_on == True):\n",
    "        print(\"In UDA mode, No parameter number calculation yet.\")\n",
    "        pass\n",
    "    else: \n",
    "        if (convTrue_fcFalse == True):\n",
    "            past_kernel = synapse_conv_in_channels\n",
    "            for kernel in cfg:\n",
    "                if (classifier_making == False):\n",
    "                    if (type(kernel) == list):\n",
    "                        for residual_kernel in kernel:\n",
    "                            if (residual_kernel >= 10000 and residual_kernel < 20000): # separable\n",
    "                                residual_kernel -= 10000\n",
    "                                params_num += (synapse_conv_kernel_size**2 + bias_param) * past_kernel\n",
    "                                params_num += (1**2 * past_kernel + bias_param) * residual_kernel\n",
    "                                past_kernel = residual_kernel  \n",
    "                            elif (residual_kernel >= 20000 and residual_kernel < 30000): # depthwise\n",
    "                                residual_kernel -= 20000\n",
    "                                # 'past_kernel' should be same with 'kernel'\n",
    "                                params_num += (synapse_conv_kernel_size**2 + bias_param) * past_kernel\n",
    "                                past_kernel = residual_kernel  \n",
    "                            else:\n",
    "                                params_num += residual_kernel * ((synapse_conv_kernel_size**2) * past_kernel + bias_param)\n",
    "                                past_kernel = residual_kernel\n",
    "                    elif (kernel == 'P' or kernel == 'M'):\n",
    "                        img_size = img_size // 2\n",
    "                    elif (kernel == 'D'):\n",
    "                        img_size = 1\n",
    "                    elif (kernel == 'L'):\n",
    "                        classifier_making = True\n",
    "                        past_kernel = past_kernel * (img_size**2)\n",
    "                    else:\n",
    "                        if (kernel >= 10000 and kernel < 20000): # separable\n",
    "                            kernel -= 10000\n",
    "                            params_num += (synapse_conv_kernel_size**2 + bias_param) * past_kernel\n",
    "                            params_num += (1**2 * past_kernel + bias_param) * kernel\n",
    "                            past_kernel = kernel  \n",
    "                        elif (kernel >= 20000 and kernel < 30000): # depthwise\n",
    "                            kernel -= 20000\n",
    "                            # 'past_kernel' should be same with 'kernel'\n",
    "                            params_num += (synapse_conv_kernel_size**2 + bias_param) * past_kernel\n",
    "                            past_kernel = kernel  \n",
    "                        else:\n",
    "                            params_num += kernel * (synapse_conv_kernel_size**2 * past_kernel + bias_param)\n",
    "                            past_kernel = kernel    \n",
    "                else: # classifier making\n",
    "                    params_num += (past_kernel + bias_param) * kernel\n",
    "                    past_kernel = kernel\n",
    "            \n",
    "            \n",
    "            if classifier_making == False:\n",
    "                past_kernel = past_kernel*img_size*img_size\n",
    "\n",
    "            params_num += (past_kernel + bias_param) * synapse_fc_out_features\n",
    "        else:\n",
    "            past_in_channel = synapse_conv_in_channels*img_size*img_size\n",
    "            for in_channel in cfg:\n",
    "                if (type(in_channel) == list):\n",
    "                    for residual_in_channel in in_channel:\n",
    "                        params_num += (past_in_channel + bias_param) * residual_in_channel\n",
    "                        past_in_channel = residual_in_channel\n",
    "                elif (in_channel == 'P' or in_channel == 'M'):\n",
    "                    img_size = img_size // 2\n",
    "                    past_in_channel = synapse_conv_in_channels*img_size*img_size\n",
    "                else:\n",
    "                    params_num += (past_in_channel + bias_param) * in_channel\n",
    "                    past_in_channel = in_channel\n",
    "            params_num += (past_in_channel + bias_param) * synapse_fc_out_features\n",
    "    ###########################################################################################################################################\n",
    "\n",
    "\n",
    "    device = torch.device(\"cuda\" if torch.cuda.is_available() else \"cpu\")\n",
    "    print(f\"\\ndevice ==> {device}\\n\")\n",
    "    if device == \"cpu\":\n",
    "        print(\"=\"*50,\"\\n[WARNING]\\n[WARNING]\\n[WARNING]\\n: cpu mode\\n\\n\",\"=\"*50)\n",
    "\n",
    "    ### network setting #######################################################################################################################\n",
    "    if (convTrue_fcFalse == False):\n",
    "        if (single_step == False):\n",
    "            net = MY_SNN_FC(cfg, synapse_conv_in_channels, IMAGE_SIZE, synapse_fc_out_features,\n",
    "                        synapse_fc_trace_const1, synapse_fc_trace_const2, \n",
    "                        lif_layer_v_init, lif_layer_v_decay, \n",
    "                        lif_layer_v_threshold, lif_layer_v_reset,\n",
    "                        lif_layer_sg_width,\n",
    "                        tdBN_on,\n",
    "                        BN_on, TIME,\n",
    "                        surrogate,\n",
    "                        BPTT_on,\n",
    "                        DFA_on,\n",
    "                        drop_rate,\n",
    "                        UDA_on).to(device)\n",
    "        else:\n",
    "            net = MY_SNN_FC_sstep(cfg, synapse_conv_in_channels, IMAGE_SIZE, synapse_fc_out_features,\n",
    "                        synapse_fc_trace_const1, synapse_fc_trace_const2, \n",
    "                        lif_layer_v_init, lif_layer_v_decay, \n",
    "                        lif_layer_v_threshold, lif_layer_v_reset,\n",
    "                        lif_layer_sg_width,\n",
    "                        tdBN_on,\n",
    "                        BN_on, TIME,\n",
    "                        surrogate,\n",
    "                        BPTT_on,\n",
    "                        DFA_on,\n",
    "                        OTTT_sWS_on,\n",
    "                        drop_rate,\n",
    "                        UDA_on).to(device)\n",
    "    else:\n",
    "        if (single_step == False):\n",
    "            net = MY_SNN_CONV(cfg, synapse_conv_in_channels, IMAGE_SIZE,\n",
    "                        synapse_conv_kernel_size, synapse_conv_stride, \n",
    "                        synapse_conv_padding, synapse_conv_trace_const1, \n",
    "                        synapse_conv_trace_const2, \n",
    "                        lif_layer_v_init, lif_layer_v_decay, \n",
    "                        lif_layer_v_threshold, lif_layer_v_reset,\n",
    "                        lif_layer_sg_width,\n",
    "                        synapse_fc_out_features, synapse_fc_trace_const1, synapse_fc_trace_const2,\n",
    "                        tdBN_on,\n",
    "                        BN_on, TIME,\n",
    "                        surrogate,\n",
    "                        BPTT_on,\n",
    "                        OTTT_sWS_on,\n",
    "                        DFA_on,\n",
    "                        drop_rate,\n",
    "                        UDA_on).to(device)\n",
    "        else:\n",
    "            net = MY_SNN_CONV_sstep(cfg, synapse_conv_in_channels, IMAGE_SIZE,\n",
    "                        synapse_conv_kernel_size, synapse_conv_stride, \n",
    "                        synapse_conv_padding, synapse_conv_trace_const1, \n",
    "                        synapse_conv_trace_const2, \n",
    "                        lif_layer_v_init, lif_layer_v_decay, \n",
    "                        lif_layer_v_threshold, lif_layer_v_reset,\n",
    "                        lif_layer_sg_width,\n",
    "                        synapse_fc_out_features, synapse_fc_trace_const1, synapse_fc_trace_const2,\n",
    "                        tdBN_on,\n",
    "                        BN_on, TIME,\n",
    "                        surrogate,\n",
    "                        BPTT_on,\n",
    "                        OTTT_sWS_on,\n",
    "                        DFA_on,\n",
    "                        drop_rate,\n",
    "                        UDA_on).to(device)\n",
    "    if (nda_net == True):\n",
    "        net = VGG(cfg = cfg, num_classes=10, batch_norm = tdBN_on, in_c = synapse_conv_in_channels, \n",
    "                    lif_layer_v_threshold=lif_layer_v_threshold, lif_layer_v_decay=lif_layer_v_decay, lif_layer_sg_width=lif_layer_sg_width)\n",
    "        net.T = TIME\n",
    "\n",
    "    if ddp_on == False:\n",
    "        net = torch.nn.DataParallel(net) \n",
    "    \n",
    "    if pre_trained == True:\n",
    "        net.load_state_dict(torch.load(pre_trained_path))\n",
    "    \n",
    "    if ddp_on == True:\n",
    "        device = args.gpu\n",
    "        net = net.to(args.gpu)\n",
    "        net = DDP(net, delay_allreduce=True)\n",
    "\n",
    "    net = net.to(device)\n",
    "    if (net_print == True):\n",
    "        if ddp_on == False or torch.distributed.get_rank() == 0:\n",
    "            print(net)    \n",
    "    ####################################################################################################################################\n",
    "    \n",
    "\n",
    "    ## wandb logging ###########################################\n",
    "    if ddp_on == False or torch.distributed.get_rank() == 0:\n",
    "        wandb.watch(net, log=\"all\", log_freq = 10) #gradient, parameter logging해줌\n",
    "    ############################################################\n",
    "\n",
    "    ## param num and memory estimation except BN with MY own calculation some lines above ##########################################\n",
    "    if ddp_on == False or torch.distributed.get_rank() == 0:\n",
    "        real_param_num = sum(p.numel() for p in net.parameters() if p.requires_grad)\n",
    "        if (weight_count_print == True):\n",
    "            for name, param in net.named_parameters():\n",
    "                if param.requires_grad:\n",
    "                    print(f'Layer: {name} | Number of parameters: {param.numel()}')\n",
    "        # Batch norm 있으면 아래 두 개 서로 다를 수 있음.\n",
    "        # assert real_param_num == params_num, f'parameter number is not same. real_param_num: {real_param_num}, params_num: {params_num}'    \n",
    "        print('='*50)\n",
    "        print(f\"My Num of PARAMS: {params_num:,}, system's param_num : {real_param_num:,}\")\n",
    "        memory = params_num / 8 / 1024 / 1024 # MB\n",
    "        precision = 32\n",
    "        memory = memory * precision \n",
    "        print(f\"Memory: {memory:.2f}MiB at {precision}-bit\")\n",
    "        print('='*50)\n",
    "    ##############################################################################################################################\n",
    "\n",
    "\n",
    "\n",
    "    ## criterion ########################################## # loss 구해주는 친구\n",
    "    criterion = nn.CrossEntropyLoss().to(device)\n",
    "    if (OTTT_sWS_on == True):\n",
    "        # criterion = nn.CrossEntropyLoss().to(device)\n",
    "        criterion = lambda y_t, target_t: ((1 - 0.05) * F.cross_entropy(y_t, target_t) + 0.05 * F.mse_loss(y_t, F.one_hot(target_t, CLASS_NUM).float())) / TIME \n",
    "        if which_data == 'DVS_GESTURE':\n",
    "            criterion = lambda y_t, target_t: ((1 - 0.001) * F.cross_entropy(y_t, target_t) + 0.001 * F.mse_loss(y_t, F.one_hot(target_t, CLASS_NUM).float())) / TIME \n",
    "    ####################################################\n",
    "    \n",
    "\n",
    "\n",
    "\n",
    "    ## optimizer, scheduler ########################################################################\n",
    "    if(optimizer_what == 'SGD'):\n",
    "        # optimizer = optim.SGD(net.parameters(), lr=learning_rate, momentum=0.9)\n",
    "        optimizer = optim.SGD(net.parameters(), lr=learning_rate, momentum=0.9, weight_decay=0)\n",
    "    elif(optimizer_what == 'Adam'):\n",
    "        optimizer = torch.optim.Adam(net.parameters(), lr=learning_rate)\n",
    "        # optimizer = torch.optim.Adam(net.parameters(), lr=0.00001)\n",
    "        # optimizer = torch.optim.Adam(net.parameters(), lr=learning_rate/256 * BATCH, weight_decay=1e-4)\n",
    "        # optimizer = optim.Adam(net.parameters(), lr=learning_rate, weight_decay=0, betas=(0.9, 0.999))\n",
    "    elif(optimizer_what == 'RMSprop'):\n",
    "        pass\n",
    "\n",
    "\n",
    "    if (scheduler_name == 'StepLR'):\n",
    "        scheduler = lr_scheduler.StepLR(optimizer, step_size=10, gamma=0.1)\n",
    "    elif (scheduler_name == 'ExponentialLR'):\n",
    "        scheduler = lr_scheduler.ExponentialLR(optimizer, gamma=0.95)\n",
    "    elif (scheduler_name == 'ReduceLROnPlateau'):\n",
    "        scheduler = lr_scheduler.ReduceLROnPlateau(optimizer, mode='min', factor=0.1, patience=10)\n",
    "    elif (scheduler_name == 'CosineAnnealingLR'):\n",
    "        # scheduler = lr_scheduler.CosineAnnealingLR(optimizer, eta_min=0, T_max=50)\n",
    "        scheduler = torch.optim.lr_scheduler.CosineAnnealingLR(optimizer, eta_min=0, T_max=epoch_num)\n",
    "    elif (scheduler_name == 'OneCycleLR'):\n",
    "        scheduler = lr_scheduler.OneCycleLR(optimizer, max_lr=0.1, steps_per_epoch=len(train_loader), epochs=epoch_num)\n",
    "    else:\n",
    "        pass # 'no' scheduler\n",
    "    ## optimizer, scheduler ########################################################################\n",
    "\n",
    "\n",
    "    tr_acc = 0\n",
    "    tr_correct = 0\n",
    "    tr_total = 0\n",
    "    tr_acc_best = 0\n",
    "    tr_epoch_loss_temp = 0\n",
    "    tr_epoch_loss = 0\n",
    "    val_acc_best = 0\n",
    "    val_acc_now = 0\n",
    "    val_loss = 0\n",
    "    elapsed_time_val = 0\n",
    "    no_val_best_growth_count = 0\n",
    "    no_tr_best_growth_count = 0\n",
    "    iter_acc_array = np.array([])\n",
    "    tr_acc_array = np.array([])\n",
    "    val_acc_now_array = np.array([])\n",
    "    DFA_current = DFA_on\n",
    "    DFA_toggle = False\n",
    "    DFA_flag = 1.0 if DFA_current == True else 0.0\n",
    "    DFA_BP_toggle_trial = 0\n",
    "    iter_of_val = False\n",
    "    tr_acc_target = 0\n",
    "    tr_correct_target = 0\n",
    "    tr_total_target = 0\n",
    "    tr_acc_best_target = 0\n",
    "    tr_epoch_loss_temp_target = 0\n",
    "    tr_epoch_loss_target = 0\n",
    "    tr_epoch_loss_temp_domain = 0\n",
    "    tr_epoch_loss_domain = 0\n",
    "    tr_acc_domain = 0\n",
    "    tr_correct_domain = 0\n",
    "    tr_total_domain = 0\n",
    "    #======== EPOCH START ==========================================================================================\n",
    "    for epoch in range(epoch_num):\n",
    "        if (I_wanna_sweep_at_this_epoch == epoch):\n",
    "            net = BP_DFA_SWAP(net, convTrue_fcFalse, single_step, ddp_on, args_gpu)\n",
    "            no_val_best_growth_count = 0\n",
    "            DFA_current = not DFA_current\n",
    "            DFA_toggle = True\n",
    "            DFA_BP_toggle_trial = DFA_BP_toggle_trial + 1\n",
    "        else:\n",
    "            if (e_transport_swap > 0 or e_transport_swap_tr > 0):\n",
    "                assert not (e_transport_swap > 0 and e_transport_swap_tr > 0)\n",
    "                if e_transport_swap > 0 and no_val_best_growth_count == e_transport_swap :\n",
    "                    if DFA_BP_toggle_trial < e_transport_swap_coin:\n",
    "                        net = BP_DFA_SWAP(net, convTrue_fcFalse, single_step, ddp_on, args_gpu)\n",
    "                        no_val_best_growth_count = 0\n",
    "                        DFA_current = not DFA_current\n",
    "                        DFA_toggle = True\n",
    "                        DFA_BP_toggle_trial = DFA_BP_toggle_trial + 1\n",
    "                if e_transport_swap_tr > 0 and no_tr_best_growth_count == e_transport_swap_tr:\n",
    "                    if DFA_BP_toggle_trial < e_transport_swap_coin:\n",
    "                        net = BP_DFA_SWAP(net, convTrue_fcFalse, single_step, ddp_on, args_gpu)\n",
    "                        no_tr_best_growth_count = 0\n",
    "                        DFA_current = not DFA_current\n",
    "                        DFA_toggle = True\n",
    "                        DFA_BP_toggle_trial = DFA_BP_toggle_trial + 1\n",
    "\n",
    "        if ddp_on == False or torch.distributed.get_rank() == 0:\n",
    "            # print('EPOCH', epoch)\n",
    "            pass\n",
    "        epoch_start_time = time.time()\n",
    "\n",
    "        # if (domain_il_epoch>0 and which_data == 'PMNIST'):\n",
    "        #     k = epoch // domain_il_epoch\n",
    "        #     xtrain=data[k]['train']['x']\n",
    "        #     ytrain=data[k]['train']['y']\n",
    "        #     xtest =data[k]['test']['x']\n",
    "        #     ytest =data[k]['test']['y']\n",
    "\n",
    "        ####### iterator : input_loading & tqdm을 통한 progress_bar 생성###################\n",
    "        iterator = enumerate(train_loader, 0)\n",
    "        if (UDA_on == True):\n",
    "            iterator_target = enumerate(train_loader_target, 0)\n",
    "\n",
    "        if ddp_on == False or torch.distributed.get_rank() == 0:  \n",
    "            iterator = tqdm(iterator, total=len(train_loader), desc='train', dynamic_ncols=True, position=0, leave=True)\n",
    "        ##################################################################################   \n",
    "        \n",
    "        #### validation_interval이 batch size보다 작을 시 validation_interval을 batch size로 맞춰줌#############\n",
    "        validation_interval2 = validation_interval\n",
    "        if (validation_interval > len(train_loader)):\n",
    "            validation_interval2 = len(train_loader)\n",
    "        ##################################################################################################\n",
    "\n",
    "\n",
    "        ###### ITERATION START ##########################################################################################################\n",
    "        for i, data in iterator:\n",
    "            if UDA_on == True:\n",
    "                if i % (src_trg_ratio+1) == 1: # target unlabeled fine tuning iteration\n",
    "                    data = next(iterator_target)[1]\n",
    "                    net.UDA_classifier_on = False\n",
    "                else:\n",
    "                    net.UDA_classifier_on = True\n",
    "            iter_one_train_time_start = time.time()\n",
    "            net.train() # train 모드로 바꿔줘야함\n",
    "\n",
    "            ### data loading & semi-pre-processing ################################################################################\n",
    "            if len(data) == 2:\n",
    "                inputs, labels = data\n",
    "                # 처리 로직 작성\n",
    "            elif len(data) == 3:\n",
    "                inputs, labels, x_len = data\n",
    "                # print('x_len',x_len)\n",
    "                # mask = padded_sequence_mask(x_len)\n",
    "                # max_time_step = x_len.max()\n",
    "                # min_time_step = x_len.min()\n",
    "            else:\n",
    "                assert False, 'data length is not 2 or 3'\n",
    "            #######################################################################################################################\n",
    "                \n",
    "            ## batch 크기 ######################################\n",
    "            real_batch = labels.size(0)\n",
    "            ###########################################################\n",
    "\n",
    "            ###########################################################################################################################        \n",
    "            if (which_data == 'n_tidigits'):\n",
    "                inputs = inputs.permute(0, 1, 3, 2, 4)\n",
    "                labels = labels[:, 0, :]\n",
    "                labels = torch.argmax(labels, dim=1)\n",
    "            elif (which_data == 'heidelberg'):\n",
    "                inputs = inputs.view(5, 1000, 1, 700, 1)\n",
    "                print(\"\\n\\n\\n경고!!!! heidelberg 이거 타임스텝이랑 채널 잘 바꿔줘라!!!\\n\\n\\n\\n\")\n",
    "            # print('inputs',inputs.size(),'\\nlabels',labels.size())\n",
    "            # print(labels)\n",
    "                \n",
    "            if (which_data == 'DVS_CIFAR10' or which_data == 'DVS_GESTURE' or which_data == 'DVS_GESTURE_TONIC' or which_data == 'DVS_CIFAR10_2' or which_data == 'NMNIST' or which_data == 'NMNIST_TONIC' or which_data == 'N_CALTECH101' or which_data == 'n_tidigits' or which_data == 'heidelberg'):\n",
    "                inputs = inputs.permute(1, 0, 2, 3, 4)\n",
    "            elif rate_coding == True :\n",
    "                inputs = spikegen.rate(inputs, num_steps=TIME)\n",
    "            else :\n",
    "                inputs = inputs.repeat(TIME, 1, 1, 1, 1)\n",
    "            # inputs: [Time, Batch, Channel, Height, Width]  \n",
    "            ####################################################################################################################### \n",
    "                \n",
    "            \n",
    "            # # dvs 데이터 시각화 코드 (확인 필요할 시 써라)\n",
    "            # ##############################################################################################\n",
    "            # dvs_visualization(inputs, labels, TIME, BATCH, my_seed)\n",
    "            # #####################################################################################################\n",
    "\n",
    "            ## to (device) #######################################\n",
    "            inputs = inputs.to(device)\n",
    "            labels = labels.to(device)\n",
    "            ###########################################################\n",
    "\n",
    "\n",
    "            ## gradient 초기화 #######################################\n",
    "            optimizer.zero_grad()\n",
    "            ###########################################################\n",
    "            \n",
    "            ## DVS gesture에서 other label자리 매꾸기 ###############\n",
    "            if (which_data == 'DVS_GESTURE'):\n",
    "                labels[labels>2] -= 1\n",
    "            #######################################################         \n",
    "                               \n",
    "            if merge_polarities == True:\n",
    "                inputs = inputs[:,:,0,:,:]\n",
    "\n",
    "            if single_step == False:\n",
    "                # net에 넣어줄때는 batch가 젤 앞 차원으로 와야함. # dataparallel때매##############################\n",
    "                # inputs: [Time, Batch, Channel, Height, Width]   \n",
    "                inputs = inputs.permute(1, 0, 2, 3, 4) # net에 넣어줄때는 batch가 젤 앞 차원으로 와야함. # dataparallel때매\n",
    "                # inputs: [Batch, Time, Channel, Height, Width] \n",
    "                #################################################################################################\n",
    "            else:\n",
    "                labels = labels.repeat(TIME, 1)\n",
    "                ## first input도 ottt trace 적용하기 위한 코드 (validation 시에는 필요X) ##########################\n",
    "                if OTTT_input_trace_on == True:\n",
    "                    spike = inputs\n",
    "                    trace = torch.full_like(spike, fill_value = 0.0, dtype = torch.float, requires_grad=False)\n",
    "                    inputs = []\n",
    "                    for t in range(TIME):\n",
    "                        trace[t] = trace[t-1]*synapse_conv_trace_const2 + spike[t]*synapse_conv_trace_const1\n",
    "                        inputs += [[spike[t], trace[t]]]\n",
    "                ##################################################################################################\n",
    "\n",
    "\n",
    "            if single_step == False:\n",
    "                ### input --> net --> output #####################################################\n",
    "                outputs = net(inputs)\n",
    "                ##################################################################################\n",
    "                ## loss, backward ##########################################\n",
    "                iter_loss = criterion(outputs, labels)\n",
    "                iter_loss.backward()\n",
    "                ############################################################\n",
    "                ## weight 업데이트!! ##################################\n",
    "                optimizer.step()\n",
    "                ################################################################\n",
    "            else:\n",
    "                if UDA_on == False:\n",
    "                    outputs_all = []\n",
    "                    iter_loss = 0.0\n",
    "                    for t in range(TIME):\n",
    "                        ### input[t] --> net --> output_one_time #########################################\n",
    "                        outputs_one_time = net(inputs[t])\n",
    "                        ##################################################################################\n",
    "                        one_time_loss = criterion(outputs_one_time, labels[t].contiguous())\n",
    "                        one_time_loss.backward() # one_time backward\n",
    "                        iter_loss += one_time_loss.data\n",
    "                        outputs_all.append(outputs_one_time.detach())\n",
    "                    optimizer.step() # full step time update\n",
    "                    outputs_all = torch.stack(outputs_all, dim=1)\n",
    "                    outputs = outputs_all.mean(1) # ottt꺼 쓸때\n",
    "                    labels = labels[0]\n",
    "                    iter_loss /= TIME\n",
    "                else:\n",
    "                    ## 근데 생각해보니까 걍 target에서 classifier만 backward 안 해주면 되는 거 아니냐\n",
    "\n",
    "                    iter_loss_domain = 0.0\n",
    "                    outputs_all = []\n",
    "                    outputs_all_domain = []\n",
    "                    iter_loss = 0.0\n",
    "\n",
    "                    if net.UDA_classifier_on == True:\n",
    "                        domain_labels = torch.full((TIME, real_batch), 1).to(device)\n",
    "                    else:\n",
    "                        domain_labels = torch.full((TIME, real_batch), 0).to(device)\n",
    "                        \n",
    "                    for t in range(TIME):\n",
    "                        ### input[t] --> net --> output_one_time #########################################\n",
    "                        outputs_one_time, UDA_adpater_out = net(inputs[t])\n",
    "                        one_time_loss_classifier = criterion(outputs_one_time, labels[t].contiguous())\n",
    "                        one_time_loss_domain = criterion(UDA_adpater_out, domain_labels[t].contiguous())\n",
    "                        one_time_loss_backward = one_time_loss_domain * adapter_loss_weight\n",
    "                        if net.UDA_classifier_on == True:\n",
    "                            one_time_loss_backward += one_time_loss_classifier\n",
    "                        one_time_loss_backward.backward() # one_time backward\n",
    "                        iter_loss += one_time_loss_classifier.data\n",
    "                        iter_loss_domain += one_time_loss_domain.data\n",
    "                        outputs_all.append(outputs_one_time.detach())\n",
    "                        outputs_all_domain.append(UDA_adpater_out.detach())\n",
    "                        ##################################################################################\n",
    "                    optimizer.step() # full step time update\n",
    "                    outputs_all = torch.stack(outputs_all, dim=1)\n",
    "                    outputs = outputs_all.mean(1) # ottt꺼 쓸때\n",
    "                    labels = labels[0]\n",
    "                    outputs_all_domain = torch.stack(outputs_all_domain, dim=1)\n",
    "                    outputs_domain = outputs_all_domain.mean(1) # ottt꺼 쓸때\n",
    "                    domain_labels = domain_labels[0]\n",
    "                    iter_loss /= TIME\n",
    "                    iter_loss_domain /= TIME\n",
    "\n",
    "            if UDA_on == False:\n",
    "                tr_epoch_loss_temp += iter_loss.data/len(train_loader)\n",
    "            else: \n",
    "                if (net.UDA_classifier_on == True):\n",
    "                    tr_epoch_loss_temp += iter_loss.data/(len(train_loader)*src_trg_ratio/(src_trg_ratio+1))\n",
    "                else:\n",
    "                    tr_epoch_loss_temp_target += iter_loss.data/(len(train_loader)*1/(src_trg_ratio+1))\n",
    "                tr_epoch_loss_temp_domain += iter_loss.data/len(train_loader)\n",
    "\n",
    "            ## net 그림 출력해보기 #################################################################\n",
    "            # print('시각화')\n",
    "            # make_dot(outputs, params=dict(list(net.named_parameters()))).render(\"net_torchviz\", format=\"png\")\n",
    "            # return 0\n",
    "            ##################################################################################\n",
    "\n",
    "            #### batch 어긋남 방지 ###############################################\n",
    "            assert real_batch == outputs.size(0), f'batch size is not same. real_batch: {real_batch}, outputs.size(0): {outputs.size(0)}'\n",
    "            #######################################################################\n",
    "            \n",
    "\n",
    "            if UDA_on == False:\n",
    "                ####### training accruacy save for print ###############################\n",
    "                _, predicted = torch.max(outputs.data, 1)\n",
    "                total = real_batch\n",
    "                correct = (predicted == labels).sum().item()\n",
    "                iter_acc = correct / total\n",
    "                tr_total += total\n",
    "                tr_correct += correct\n",
    "                if i % verbose_interval == verbose_interval-1:\n",
    "                    if ddp_on == False or torch.distributed.get_rank() == 0:\n",
    "                        print(f'{epoch}-{i} training acc: {100 * iter_acc:.2f}%, lr={[f\"{lr}\" for lr in (param_group[\"lr\"] for param_group in optimizer.param_groups)]}, val_acc: {100 * val_acc_now:.2f}%')\n",
    "                iter_acc_string = f'epoch-{epoch:<3} iter_acc:{100 * iter_acc:7.2f}%, lr={[f\"{lr:9.7f}\" for lr in (param_group[\"lr\"] for param_group in optimizer.param_groups)]}'\n",
    "                iter_acc_string2 = f'epoch-{epoch:<3} lr={[f\"{lr:9.7f}\" for lr in (param_group[\"lr\"] for param_group in optimizer.param_groups)]}'\n",
    "                ################################################################\n",
    "            else:\n",
    "                ####### training accruacy save for print ###############################\n",
    "                _, predicted = torch.max(outputs.data, 1)\n",
    "                _, predicted_domain = torch.max(outputs_domain.data, 1)\n",
    "                total = real_batch\n",
    "                correct = (predicted == labels).sum().item()\n",
    "                correct_domain = (predicted_domain == domain_labels).sum().item()\n",
    "                iter_acc = correct / total\n",
    "                iter_acc_domain = correct_domain / total\n",
    "                if (net.UDA_classifier_on == True):\n",
    "                    tr_total += total\n",
    "                    tr_correct += correct\n",
    "                else:\n",
    "                    tr_total_target += total\n",
    "                    tr_correct_target += correct\n",
    "                tr_correct_domain += correct_domain\n",
    "                tr_total_domain += total\n",
    "\n",
    "                if i % verbose_interval == verbose_interval-1:\n",
    "                    if ddp_on == False or torch.distributed.get_rank() == 0:\n",
    "                        print(f'{epoch}-{i} training acc: {100 * iter_acc:.2f}%, lr={[f\"{lr}\" for lr in (param_group[\"lr\"] for param_group in optimizer.param_groups)]}, val_acc: {100 * val_acc_now:.2f}%')\n",
    "                iter_acc_string = f'epoch-{epoch:<3} iter_acc:{100 * iter_acc:7.2f}%, lr={[f\"{lr:9.7f}\" for lr in (param_group[\"lr\"] for param_group in optimizer.param_groups)]}'\n",
    "                iter_acc_string2 = f'epoch-{epoch:<3} lr={[f\"{lr:9.7f}\" for lr in (param_group[\"lr\"] for param_group in optimizer.param_groups)]}'\n",
    "                ################################################################\n",
    "\n",
    "            \n",
    "\n",
    "\n",
    "\n",
    "\n",
    "            iter_one_train_time_end = time.time()\n",
    "            elapsed_time = iter_one_train_time_end - iter_one_train_time_start  # 실행 시간 계산\n",
    "\n",
    "            if (i % verbose_interval == verbose_interval-1):\n",
    "                if ddp_on == False or torch.distributed.get_rank() == 0:\n",
    "                    print(f\"iter_one_train_time: {elapsed_time} seconds, last one_val_time: {elapsed_time_val} seconds\\n\")\n",
    "                \n",
    "            ##### validation ##################################################################################################################################\n",
    "            if i % validation_interval2 == validation_interval2-1:\n",
    "                iter_one_val_time_start = time.time()\n",
    "                tr_acc = tr_correct/tr_total\n",
    "                tr_correct = 0\n",
    "                tr_total = 0\n",
    "                if UDA_on == True:\n",
    "                    tr_acc_target = tr_correct_target/tr_total_target\n",
    "                    tr_correct_target = 0\n",
    "                    tr_total_target = 0\n",
    "                    tr_acc_domain = tr_correct_domain/tr_total_domain\n",
    "                    tr_correct_domain = 0\n",
    "                    tr_total_domain = 0\n",
    "\n",
    "                domain_index = 0\n",
    "                val_loss_set = []\n",
    "                val_acc_now_set = []\n",
    "                while True:\n",
    "                    val_loss = 0\n",
    "                    correct_val = 0\n",
    "                    total_val = 0\n",
    "                    test_loader = test_loader_domain_set[domain_index]\n",
    "                    domain_index = domain_index + 1\n",
    "\n",
    "                    with torch.no_grad():\n",
    "                        net.eval() # eval 모드로 바꿔줘야함 \n",
    "                        for data_val in test_loader:\n",
    "                            ## data_val loading & semi-pre-processing ##########################################################\n",
    "                            if len(data_val) == 2:\n",
    "                                inputs_val, labels_val = data_val\n",
    "                                # 처리 로직 작성\n",
    "                            elif len(data_val) == 3:\n",
    "                                inputs_val, labels_val, x_len = data_val\n",
    "                                # print('x_len',x_len)\n",
    "                                # mask = padded_sequence_mask(x_len)\n",
    "                                # max_time_step = x_len.max()\n",
    "                                # min_time_step = x_len.min()\n",
    "                                # B, T, *spatial_dims = inputs_val.shape\n",
    "                            else:\n",
    "                                assert False, 'data_val length is not 2 or 3'\n",
    "\n",
    "                            if (which_data == 'DVS_CIFAR10' or which_data == 'DVS_GESTURE' or which_data == 'DVS_GESTURE_TONIC' or which_data == 'DVS_CIFAR10_2' or which_data == 'NMNIST' or which_data == 'NMNIST_TONIC' or which_data == 'N_CALTECH101' or which_data == 'n_tidigits' or which_data == 'heidelberg'):\n",
    "                                inputs_val = inputs_val.permute(1, 0, 2, 3, 4)\n",
    "                            elif rate_coding == True :\n",
    "                                inputs_val = spikegen.rate(inputs_val, num_steps=TIME)\n",
    "                            else :\n",
    "                                inputs_val = inputs_val.repeat(TIME, 1, 1, 1, 1)\n",
    "                            # inputs_val: [Time, Batch, Channel, Height, Width]  \n",
    "                            ###################################################################################################\n",
    "\n",
    "                            inputs_val = inputs_val.to(device)\n",
    "                            labels_val = labels_val.to(device)\n",
    "                            real_batch = labels_val.size(0)\n",
    "                            \n",
    "                            ## DVS gesture에서 other label자리 매꾸기 ###############\n",
    "                            if (which_data == 'DVS_GESTURE'):\n",
    "                                labels_val[labels_val>2] -= 1\n",
    "                            #######################################################\n",
    "                            \n",
    "                            if merge_polarities == True:\n",
    "                                inputs_val = inputs_val[:,:,0,:,:]\n",
    "\n",
    "                            ## network 연산 시작 ############################################################################################################\n",
    "                            if single_step == False:\n",
    "                                outputs = net(inputs_val.permute(1, 0, 2, 3, 4)) #inputs_val: [Batch, Time, Channel, Height, Width]  \n",
    "                                val_loss_val += criterion(outputs, labels_val)/len(test_loader)\n",
    "                            else:\n",
    "                                outputs_all = []\n",
    "                                if UDA_on == True:\n",
    "                                    net.UDA_classifier_on = True\n",
    "                                for t in range(TIME):\n",
    "                                    outputs = net(inputs_val[t])\n",
    "                                    if UDA_on == True:\n",
    "                                        outputs = outputs[0] # classifier의 output만 사용.\n",
    "                                    val_loss_temp = criterion(outputs, labels_val)\n",
    "                                    outputs_all.append(outputs.detach())\n",
    "                                    val_loss += (val_loss_temp.data/TIME)/len(test_loader)\n",
    "                                outputs_all = torch.stack(outputs_all, dim=1)\n",
    "                                outputs = outputs_all.mean(1)\n",
    "                            val_loss_set.append(val_loss)\n",
    "                            #################################################################################################################################\n",
    "\n",
    "                            _, predicted = torch.max(outputs.data, 1)\n",
    "                            total_val += real_batch\n",
    "                            assert real_batch == outputs.size(0), f'batch size is not same. real_batch: {real_batch}, outputs.size(0): {outputs.size(0)}'\n",
    "                            correct_val += (predicted == labels_val).sum().item()\n",
    "\n",
    "                        val_acc_now = correct_val / total_val\n",
    "                        # print(f'{epoch}-{i} validation acc: {100 * val_acc_now:.2f}%, lr={[f\"{lr:.10f}\" for lr in (param_group[\"lr\"] for param_group in optimizer.param_groups)]}')\n",
    "                        val_acc_now_set.append(val_acc_now)\n",
    "\n",
    "                    if domain_index == len(dvs_duration_domain) + 1:\n",
    "                        break\n",
    "\n",
    "                val_loss = val_loss_set[0]\n",
    "                val_acc_now = val_acc_now_set[0]\n",
    "\n",
    "                iter_one_val_time_end = time.time()\n",
    "                elapsed_time_val = iter_one_val_time_end - iter_one_val_time_start  # 실행 시간 계산\n",
    "                # print(f\"iter_one_val_time: {elapsed_time_val} seconds\")\n",
    "\n",
    "                # network save\n",
    "                if val_acc_best < val_acc_now:\n",
    "                    val_acc_best = val_acc_now\n",
    "                    if ddp_on == False or torch.distributed.get_rank() == 0:\n",
    "                        # wandb 키면 state_dict아닌거는 저장 안됨\n",
    "                        torch.save(net.state_dict(), f\"net_save/save_now_net_weights_{unique_name}.pth\")\n",
    "                        # torch.save(net, f\"net_save/save_now_net_{unique_name}.pth\")\n",
    "                        # torch.save(net.module.state_dict(), f\"net_save/save_now_net_weights2_{unique_name}.pth\")\n",
    "                        # torch.save(net.module, f\"net_save/save_now_net2_{unique_name}.pth\")\n",
    "                    no_val_best_growth_count = 0\n",
    "                else:\n",
    "                    no_val_best_growth_count = no_val_best_growth_count + 1\n",
    "\n",
    "                if tr_acc_best < tr_acc:\n",
    "                    tr_acc_best = tr_acc\n",
    "                    no_tr_best_growth_count = 0\n",
    "                else:\n",
    "                    no_tr_best_growth_count = no_tr_best_growth_count + 1\n",
    "\n",
    "                tr_epoch_loss = tr_epoch_loss_temp\n",
    "                tr_epoch_loss_temp = 0\n",
    "                tr_epoch_loss_target = tr_epoch_loss_temp_target \n",
    "                tr_epoch_loss_temp_target = 0\n",
    "                tr_epoch_loss_domain = tr_epoch_loss_temp_domain\n",
    "                tr_epoch_loss_temp_domain = 0\n",
    "                print(f\"Domain loss,acc: {tr_epoch_loss_domain:.6f}, {100 * tr_acc_domain:.2f}% Target domain: tr_loss-{tr_epoch_loss_target:.6f}, tr_acc-{100 * tr_acc_target:.2f}%\")\n",
    "\n",
    "                if DFA_toggle == True:\n",
    "                    DFA_flag = 1.0 - DFA_flag\n",
    "                    DFA_toggle = False\n",
    "\n",
    "                iter_of_val = True\n",
    "            ####################################################################################################################################################\n",
    "            \n",
    "            ## progress bar update ############################################################################################################\n",
    "            if ddp_on == False or torch.distributed.get_rank() == 0:\n",
    "                if iter_of_val == False:\n",
    "                    iterator.set_description(f\"{iter_acc_string}, iter_loss:{iter_loss:10.6f}, val_best:{100 * val_acc_best:7.2f}%\")  \n",
    "                else:\n",
    "                    iterator.set_description(f\"{iter_acc_string2}, tr/val_loss:{tr_epoch_loss:10.6f}/{val_loss:10.6f}, tr:{100 * tr_acc:7.2f}%, val:{100 * val_acc_now:7.2f}%, val_best:{100 * val_acc_best:7.2f}%\")  \n",
    "\n",
    "                    if len(dvs_duration_domain) > 0:\n",
    "                        dvs_duration_full = [(dvs_duration, dvs_clipping, denoise_on, TIME)] + dvs_duration_domain\n",
    "                        print(\" | \".join(f\"{dvs_duration_full[i][0]:,}c{dvs_duration_full[i][1]}d{dvs_duration_full[i][2]}t{dvs_duration_full[i][3]}:{val_acc_now_set[i]*100:.2f}%\" for i in range(len(val_acc_now_set))))\n",
    "                    iter_of_val = False\n",
    "            \n",
    "            ####################################################################################################################################\n",
    "            \n",
    "            ## wandb logging ############################################################################################################\n",
    "            if ddp_on == False or torch.distributed.get_rank() == 0:\n",
    "                wandb.log({\"iter_acc\": iter_acc})\n",
    "                wandb.log({\"tr_acc\": tr_acc})\n",
    "                wandb.log({\"val_acc_now\": val_acc_now})\n",
    "                wandb.log({\"val_acc_best\": val_acc_best})\n",
    "                wandb.log({\"summary_val_acc\": val_acc_now})\n",
    "                wandb.log({\"epoch\": epoch})\n",
    "                wandb.log({\"DFA_flag\": DFA_flag}) # DFA mode 바뀌자 마자 바뀌는 게 아니고 validation 한번 했을 때 바뀜.\n",
    "                wandb.log({\"val_loss\": val_loss}) \n",
    "                wandb.log({\"tr_epoch_loss\": tr_epoch_loss}) \n",
    "            ####################################################################################################################################\n",
    "            \n",
    "            \n",
    "            ## accuray 로컬에 저장 하기 위한 코드 #####################################################################################\n",
    "            iter_acc_array = np.append(iter_acc_array, iter_acc)\n",
    "            tr_acc_array = np.append(tr_acc_array, tr_acc)\n",
    "            val_acc_now_array = np.append(val_acc_now_array, val_acc_now)\n",
    "            base_name = f'{current_time}'\n",
    "            ####################################################################################################################\n",
    "            \n",
    "            iter_acc_file_name_time = f'result_save/{base_name}_iter_acc_array_{unique_name}.npy'\n",
    "            tr_acc_file_name_time = f'result_save/{base_name}_tr_acc_array_{unique_name}.npy'\n",
    "            val_acc_file_name_time = f'result_save/{base_name}_val_acc_now_array_{unique_name}.npy'\n",
    "            hyperparameters_file_name_time = f'result_save/{base_name}_hyperparameters_{unique_name}.json'\n",
    "\n",
    "            hyperparameters['current epoch'] = epoch\n",
    "\n",
    "            ### accuracy 세이브: 덮어쓰기 하기 싫으면 주석 풀어서 사용 (시간마다 새로 쓰기) 비추천 ########################\n",
    "            # if ddp_on == False or torch.distributed.get_rank() == 0:\n",
    "            #     np.save(iter_acc_file_name_time, iter_acc_array)\n",
    "\n",
    "\n",
    "            #     np.save(tr_acc_file_name_time, iter_acc_array)\n",
    "            #     np.save(val_acc_file_name_time, val_acc_now_array)\n",
    "            #     with open(hyperparameters_file_name_time, 'w') as f:\n",
    "            #         json.dump(hyperparameters, f, indent=4)\n",
    "            #########################################################################################################\n",
    "\n",
    "            ## accuracy 세이브 ###########################################################################################\n",
    "            if ddp_on == False or torch.distributed.get_rank() == 0:\n",
    "                np.save(f'result_save/iter_acc_array_{unique_name}.npy', iter_acc_array)\n",
    "                np.save(f'result_save/tr_acc_array_{unique_name}.npy', tr_acc_array)\n",
    "                np.save(f'result_save/val_acc_now_array_{unique_name}.npy', val_acc_now_array)\n",
    "                with open(f'result_save/hyperparameters_{unique_name}.json', 'w') as f:\n",
    "                    json.dump(hyperparameters, f, indent=4)\n",
    "            ##########################################################################################################\n",
    "        ###### ITERATION END ##########################################################################################################\n",
    "                \n",
    "\n",
    "        ## scheduler update #############################################################################\n",
    "        if (scheduler_name != 'no'):\n",
    "            if (scheduler_name == 'ReduceLROnPlateau'):\n",
    "                scheduler.step(val_loss)\n",
    "            else:\n",
    "                scheduler.step()\n",
    "        #################################################################################################\n",
    "        \n",
    "        # 실행 시간 계산\n",
    "        epoch_time_end = time.time()\n",
    "        # print(f\"epoch_time: {epoch_time_end - epoch_start_time} seconds\\n\") \n",
    "    #======== EPOCH END ==========================================================================================\n"
   ]
  },
  {
   "cell_type": "code",
   "execution_count": 6,
   "metadata": {},
   "outputs": [
    {
     "name": "stderr",
     "output_type": "stream",
     "text": [
      "Failed to detect the name of this notebook, you can set it manually with the WANDB_NOTEBOOK_NAME environment variable to enable code saving.\n",
      "\u001b[34m\u001b[1mwandb\u001b[0m: Currently logged in as: \u001b[33mbhkim003\u001b[0m (\u001b[33mbhkim003-seoul-national-university\u001b[0m). Use \u001b[1m`wandb login --relogin`\u001b[0m to force relogin\n"
     ]
    },
    {
     "data": {
      "text/html": [
       "wandb version 0.18.3 is available!  To upgrade, please run:\n",
       " $ pip install wandb --upgrade"
      ],
      "text/plain": [
       "<IPython.core.display.HTML object>"
      ]
     },
     "metadata": {},
     "output_type": "display_data"
    },
    {
     "data": {
      "text/html": [
       "Tracking run with wandb version 0.17.5"
      ],
      "text/plain": [
       "<IPython.core.display.HTML object>"
      ]
     },
     "metadata": {},
     "output_type": "display_data"
    },
    {
     "data": {
      "text/html": [
       "Run data is saved locally in <code>/nfs/home/bhkim003/github_folder/ByeonghyeonKim/my_snn/wandb/run-20241011_190042-zehq3nmx</code>"
      ],
      "text/plain": [
       "<IPython.core.display.HTML object>"
      ]
     },
     "metadata": {},
     "output_type": "display_data"
    },
    {
     "data": {
      "text/html": [
       "Syncing run <strong><a href='https://wandb.ai/bhkim003-seoul-national-university/my_snn%20main/runs/zehq3nmx' target=\"_blank\">sweet-lake-6147</a></strong> to <a href='https://wandb.ai/bhkim003-seoul-national-university/my_snn%20main' target=\"_blank\">Weights & Biases</a> (<a href='https://wandb.me/run' target=\"_blank\">docs</a>)<br/>"
      ],
      "text/plain": [
       "<IPython.core.display.HTML object>"
      ]
     },
     "metadata": {},
     "output_type": "display_data"
    },
    {
     "data": {
      "text/html": [
       " View project at <a href='https://wandb.ai/bhkim003-seoul-national-university/my_snn%20main' target=\"_blank\">https://wandb.ai/bhkim003-seoul-national-university/my_snn%20main</a>"
      ],
      "text/plain": [
       "<IPython.core.display.HTML object>"
      ]
     },
     "metadata": {},
     "output_type": "display_data"
    },
    {
     "data": {
      "text/html": [
       " View run at <a href='https://wandb.ai/bhkim003-seoul-national-university/my_snn%20main/runs/zehq3nmx' target=\"_blank\">https://wandb.ai/bhkim003-seoul-national-university/my_snn%20main/runs/zehq3nmx</a>"
      ],
      "text/plain": [
       "<IPython.core.display.HTML object>"
      ]
     },
     "metadata": {},
     "output_type": "display_data"
    },
    {
     "name": "stdout",
     "output_type": "stream",
     "text": [
      "dataset_hash = 4b90f6040a7222986135455c361d4ea6\n",
      "cache path exists\n",
      "\n",
      "we will exclude the 'other' class. dvsgesture 10 classes' indices exist. \n",
      "\n",
      "Target domain에 대한 validation set이 이 target domain의 test set이다.\n",
      "dataset_hash = a2b4a38b9a4c038b89d525410a617c22\n",
      "cache path exists\n",
      "\n",
      "we will exclude the 'other' class. dvsgesture 10 classes' indices exist. \n",
      "\n",
      "dataset_hash = a2b4a38b9a4c038b89d525410a617c22\n",
      "cache path exists\n",
      "\n",
      "we will exclude the 'other' class. dvsgesture 10 classes' indices exist. \n",
      "\n",
      "In UDA mode, No parameter number calculation yet.\n",
      "\n",
      "device ==> cuda\n",
      "\n",
      "DataParallel(\n",
      "  (module): MY_SNN_FC_sstep(\n",
      "    (UDA_feature_layers): MY_Sequential(\n",
      "      (0): MaxPool2d(kernel_size=2, stride=2, padding=0, dilation=1, ceil_mode=False)\n",
      "      (1): MaxPool2d(kernel_size=2, stride=2, padding=0, dilation=1, ceil_mode=False)\n",
      "      (2): DimChanger_for_FC_sstep()\n",
      "      (3): SYNAPSE_FC_trace_sstep()\n",
      "      (4): LIF_layer_trace_sstep()\n",
      "    )\n",
      "    (UDA_classifier_layers): MY_Sequential(\n",
      "      (0): SYNAPSE_FC_trace_sstep()\n",
      "      (1): LIF_layer_trace_sstep()\n",
      "      (2): SYNAPSE_FC_trace_sstep()\n",
      "    )\n",
      "    (UDA_adapter_layers): MY_Sequential(\n",
      "      (0): Gradient_Reversal_Layer()\n",
      "      (1): SYNAPSE_FC_trace_sstep()\n",
      "      (2): LIF_layer_trace_sstep()\n",
      "      (3): SYNAPSE_FC_trace_sstep()\n",
      "    )\n",
      "  )\n",
      ")\n",
      "==================================================\n",
      "My Num of PARAMS: 0, system's param_num : 492,612\n",
      "Memory: 0.00MiB at 32-bit\n",
      "==================================================\n"
     ]
    },
    {
     "name": "stderr",
     "output_type": "stream",
     "text": [
      "epoch-0   lr=['0.0001000'], tr/val_loss:  2.253942/  2.114700, tr:  17.78%, val:  36.25%, val_best:  36.25%: 100%|██████████| 62/62 [00:35<00:00,  1.74it/s]"
     ]
    },
    {
     "name": "stdout",
     "output_type": "stream",
     "text": [
      "Domain loss,acc: 2.263179, 41.88% Target domain: tr_loss-2.355545, tr_acc-28.12%\n",
      "25,000c1dTruet60:36.25% | 25,000c1dFalset60:25.42%\n"
     ]
    },
    {
     "name": "stderr",
     "output_type": "stream",
     "text": [
      "\n",
      "epoch-1   lr=['0.0001000'], tr/val_loss:  1.784374/  1.637189, tr:  40.77%, val:  55.00%, val_best:  55.00%: 100%|██████████| 62/62 [00:33<00:00,  1.87it/s]"
     ]
    },
    {
     "name": "stdout",
     "output_type": "stream",
     "text": [
      "Domain loss,acc: 1.807307, 46.17% Target domain: tr_loss-2.036633, tr_acc-31.25%\n",
      "25,000c1dTruet60:55.00% | 25,000c1dFalset60:40.42%\n"
     ]
    },
    {
     "name": "stderr",
     "output_type": "stream",
     "text": [
      "\n",
      "epoch-2   lr=['0.0001000'], tr/val_loss:  1.404683/  1.417473, tr:  59.57%, val:  61.67%, val_best:  61.67%: 100%|██████████| 62/62 [00:34<00:00,  1.80it/s]"
     ]
    },
    {
     "name": "stdout",
     "output_type": "stream",
     "text": [
      "Domain loss,acc: 1.437074, 45.76% Target domain: tr_loss-1.760991, tr_acc-41.67%\n",
      "25,000c1dTruet60:61.67% | 25,000c1dFalset60:27.08%\n"
     ]
    },
    {
     "name": "stderr",
     "output_type": "stream",
     "text": [
      "\n",
      "epoch-3   lr=['0.0001000'], tr/val_loss:  1.205565/  1.307913, tr:  67.72%, val:  63.33%, val_best:  63.33%: 100%|██████████| 62/62 [00:34<00:00,  1.81it/s]"
     ]
    },
    {
     "name": "stdout",
     "output_type": "stream",
     "text": [
      "Domain loss,acc: 1.254741, 42.59% Target domain: tr_loss-1.746493, tr_acc-35.42%\n",
      "25,000c1dTruet60:63.33% | 25,000c1dFalset60:31.25%\n"
     ]
    },
    {
     "name": "stderr",
     "output_type": "stream",
     "text": [
      "\n",
      "epoch-4   lr=['0.0001000'], tr/val_loss:  1.095685/  1.225515, tr:  69.99%, val:  69.58%, val_best:  69.58%: 100%|██████████| 62/62 [00:33<00:00,  1.83it/s]"
     ]
    },
    {
     "name": "stdout",
     "output_type": "stream",
     "text": [
      "Domain loss,acc: 1.141756, 42.08% Target domain: tr_loss-1.602465, tr_acc-41.67%\n",
      "25,000c1dTruet60:69.58% | 25,000c1dFalset60:21.25%\n"
     ]
    },
    {
     "name": "stderr",
     "output_type": "stream",
     "text": [
      "\n",
      "epoch-5   lr=['0.0001000'], tr/val_loss:  1.024203/  1.210137, tr:  72.25%, val:  70.00%, val_best:  70.00%: 100%|██████████| 62/62 [00:33<00:00,  1.82it/s]"
     ]
    },
    {
     "name": "stdout",
     "output_type": "stream",
     "text": [
      "Domain loss,acc: 1.100257, 44.94% Target domain: tr_loss-1.860789, tr_acc-31.25%\n",
      "25,000c1dTruet60:70.00% | 25,000c1dFalset60:27.50%\n"
     ]
    },
    {
     "name": "stderr",
     "output_type": "stream",
     "text": [
      "\n",
      "epoch-6   lr=['0.0001000'], tr/val_loss:  0.993968/  1.157321, tr:  71.46%, val:  68.75%, val_best:  70.00%: 100%|██████████| 62/62 [00:34<00:00,  1.82it/s]"
     ]
    },
    {
     "name": "stdout",
     "output_type": "stream",
     "text": [
      "Domain loss,acc: 1.083396, 43.92% Target domain: tr_loss-1.977679, tr_acc-30.21%\n",
      "25,000c1dTruet60:68.75% | 25,000c1dFalset60:29.17%\n"
     ]
    },
    {
     "name": "stderr",
     "output_type": "stream",
     "text": [
      "\n",
      "epoch-7   lr=['0.0001000'], tr/val_loss:  0.947961/  1.174014, tr:  72.82%, val:  69.17%, val_best:  70.00%: 100%|██████████| 62/62 [00:33<00:00,  1.83it/s]"
     ]
    },
    {
     "name": "stdout",
     "output_type": "stream",
     "text": [
      "Domain loss,acc: 1.031177, 42.70% Target domain: tr_loss-1.863340, tr_acc-41.67%\n",
      "25,000c1dTruet60:69.17% | 25,000c1dFalset60:29.17%\n"
     ]
    },
    {
     "name": "stderr",
     "output_type": "stream",
     "text": [
      "\n",
      "epoch-8   lr=['0.0001000'], tr/val_loss:  0.908457/  1.142838, tr:  75.08%, val:  70.42%, val_best:  70.42%: 100%|██████████| 62/62 [00:34<00:00,  1.82it/s]"
     ]
    },
    {
     "name": "stdout",
     "output_type": "stream",
     "text": [
      "Domain loss,acc: 0.997233, 46.68% Target domain: tr_loss-1.884995, tr_acc-45.83%\n",
      "25,000c1dTruet60:70.42% | 25,000c1dFalset60:35.00%\n"
     ]
    },
    {
     "name": "stderr",
     "output_type": "stream",
     "text": [
      "\n",
      "epoch-9   lr=['0.0001000'], tr/val_loss:  0.877420/  1.100705, tr:  75.42%, val:  70.83%, val_best:  70.83%: 100%|██████████| 62/62 [00:33<00:00,  1.83it/s]"
     ]
    },
    {
     "name": "stdout",
     "output_type": "stream",
     "text": [
      "Domain loss,acc: 0.967777, 41.47% Target domain: tr_loss-1.871348, tr_acc-35.42%\n",
      "25,000c1dTruet60:70.83% | 25,000c1dFalset60:27.92%\n"
     ]
    },
    {
     "name": "stderr",
     "output_type": "stream",
     "text": [
      "\n",
      "epoch-10  lr=['0.0001000'], tr/val_loss:  0.842376/  1.111233, tr:  78.82%, val:  68.75%, val_best:  70.83%: 100%|██████████| 62/62 [00:34<00:00,  1.82it/s]"
     ]
    },
    {
     "name": "stdout",
     "output_type": "stream",
     "text": [
      "Domain loss,acc: 0.938361, 42.08% Target domain: tr_loss-1.898209, tr_acc-35.42%\n",
      "25,000c1dTruet60:68.75% | 25,000c1dFalset60:23.33%\n"
     ]
    },
    {
     "name": "stderr",
     "output_type": "stream",
     "text": [
      "\n",
      "epoch-11  lr=['0.0001000'], tr/val_loss:  0.812034/  1.145193, tr:  79.05%, val:  66.67%, val_best:  70.83%: 100%|██████████| 62/62 [00:34<00:00,  1.79it/s]"
     ]
    },
    {
     "name": "stdout",
     "output_type": "stream",
     "text": [
      "Domain loss,acc: 0.939260, 44.74% Target domain: tr_loss-2.211524, tr_acc-22.92%\n",
      "25,000c1dTruet60:66.67% | 25,000c1dFalset60:28.75%\n"
     ]
    },
    {
     "name": "stderr",
     "output_type": "stream",
     "text": [
      "\n",
      "epoch-12  lr=['0.0001000'], tr/val_loss:  0.800533/  1.103332, tr:  81.09%, val:  68.75%, val_best:  70.83%: 100%|██████████| 62/62 [00:33<00:00,  1.84it/s]"
     ]
    },
    {
     "name": "stdout",
     "output_type": "stream",
     "text": [
      "Domain loss,acc: 0.927826, 46.07% Target domain: tr_loss-2.200755, tr_acc-33.33%\n",
      "25,000c1dTruet60:68.75% | 25,000c1dFalset60:25.00%\n"
     ]
    },
    {
     "name": "stderr",
     "output_type": "stream",
     "text": [
      "\n",
      "epoch-13  lr=['0.0001000'], tr/val_loss:  0.798423/  1.056568, tr:  78.14%, val:  78.33%, val_best:  78.33%: 100%|██████████| 62/62 [00:33<00:00,  1.85it/s]"
     ]
    },
    {
     "name": "stdout",
     "output_type": "stream",
     "text": [
      "Domain loss,acc: 0.908695, 43.62% Target domain: tr_loss-2.011414, tr_acc-32.29%\n",
      "25,000c1dTruet60:78.33% | 25,000c1dFalset60:40.42%\n"
     ]
    },
    {
     "name": "stderr",
     "output_type": "stream",
     "text": [
      "\n",
      "epoch-14  lr=['0.0001000'], tr/val_loss:  0.764581/  1.077283, tr:  80.63%, val:  74.58%, val_best:  78.33%: 100%|██████████| 62/62 [00:33<00:00,  1.83it/s]"
     ]
    },
    {
     "name": "stdout",
     "output_type": "stream",
     "text": [
      "Domain loss,acc: 0.891914, 47.70% Target domain: tr_loss-2.165244, tr_acc-41.67%\n",
      "25,000c1dTruet60:74.58% | 25,000c1dFalset60:28.75%\n"
     ]
    },
    {
     "name": "stderr",
     "output_type": "stream",
     "text": [
      "\n",
      "epoch-15  lr=['0.0001000'], tr/val_loss:  0.751095/  1.073446, tr:  80.86%, val:  75.83%, val_best:  78.33%: 100%|██████████| 62/62 [00:34<00:00,  1.80it/s]"
     ]
    },
    {
     "name": "stdout",
     "output_type": "stream",
     "text": [
      "Domain loss,acc: 0.872398, 44.74% Target domain: tr_loss-2.085428, tr_acc-46.88%\n",
      "25,000c1dTruet60:75.83% | 25,000c1dFalset60:31.67%\n"
     ]
    },
    {
     "name": "stderr",
     "output_type": "stream",
     "text": [
      "\n",
      "epoch-16  lr=['0.0001000'], tr/val_loss:  0.723309/  1.059511, tr:  83.81%, val:  75.42%, val_best:  78.33%: 100%|██████████| 62/62 [00:34<00:00,  1.78it/s]"
     ]
    },
    {
     "name": "stdout",
     "output_type": "stream",
     "text": [
      "Domain loss,acc: 0.838952, 44.33% Target domain: tr_loss-1.995377, tr_acc-36.46%\n",
      "25,000c1dTruet60:75.42% | 25,000c1dFalset60:30.83%\n"
     ]
    },
    {
     "name": "stderr",
     "output_type": "stream",
     "text": [
      "\n",
      "epoch-17  lr=['0.0001000'], tr/val_loss:  0.694231/  1.091633, tr:  80.29%, val:  74.17%, val_best:  78.33%: 100%|██████████| 62/62 [00:33<00:00,  1.85it/s]"
     ]
    },
    {
     "name": "stdout",
     "output_type": "stream",
     "text": [
      "Domain loss,acc: 0.845128, 45.56% Target domain: tr_loss-2.354089, tr_acc-26.04%\n",
      "25,000c1dTruet60:74.17% | 25,000c1dFalset60:30.00%\n"
     ]
    },
    {
     "name": "stderr",
     "output_type": "stream",
     "text": [
      "\n",
      "epoch-18  lr=['0.0001000'], tr/val_loss:  0.699717/  1.059765, tr:  84.71%, val:  80.83%, val_best:  80.83%: 100%|██████████| 62/62 [00:34<00:00,  1.81it/s]"
     ]
    },
    {
     "name": "stdout",
     "output_type": "stream",
     "text": [
      "Domain loss,acc: 0.838702, 43.72% Target domain: tr_loss-2.228549, tr_acc-31.25%\n",
      "25,000c1dTruet60:80.83% | 25,000c1dFalset60:29.58%\n"
     ]
    },
    {
     "name": "stderr",
     "output_type": "stream",
     "text": [
      "\n",
      "epoch-19  lr=['0.0001000'], tr/val_loss:  0.671224/  1.128430, tr:  85.16%, val:  70.00%, val_best:  80.83%: 100%|██████████| 62/62 [00:34<00:00,  1.79it/s]"
     ]
    },
    {
     "name": "stdout",
     "output_type": "stream",
     "text": [
      "Domain loss,acc: 0.792595, 45.56% Target domain: tr_loss-2.006304, tr_acc-35.42%\n",
      "25,000c1dTruet60:70.00% | 25,000c1dFalset60:24.17%\n"
     ]
    },
    {
     "name": "stderr",
     "output_type": "stream",
     "text": [
      "\n",
      "epoch-20  lr=['0.0001000'], tr/val_loss:  0.663853/  1.069107, tr:  84.14%, val:  72.50%, val_best:  80.83%: 100%|██████████| 62/62 [00:34<00:00,  1.82it/s]"
     ]
    },
    {
     "name": "stdout",
     "output_type": "stream",
     "text": [
      "Domain loss,acc: 0.792909, 43.21% Target domain: tr_loss-2.083472, tr_acc-38.54%\n",
      "25,000c1dTruet60:72.50% | 25,000c1dFalset60:27.92%\n"
     ]
    },
    {
     "name": "stderr",
     "output_type": "stream",
     "text": [
      "\n",
      "epoch-21  lr=['0.0001000'], tr/val_loss:  0.638626/  1.028754, tr:  91.39%, val:  74.58%, val_best:  80.83%: 100%|██████████| 62/62 [00:34<00:00,  1.81it/s]"
     ]
    },
    {
     "name": "stdout",
     "output_type": "stream",
     "text": [
      "Domain loss,acc: 0.754261, 46.07% Target domain: tr_loss-1.910607, tr_acc-44.79%\n",
      "25,000c1dTruet60:74.58% | 25,000c1dFalset60:35.00%\n"
     ]
    },
    {
     "name": "stderr",
     "output_type": "stream",
     "text": [
      "\n",
      "epoch-22  lr=['0.0001000'], tr/val_loss:  0.635500/  1.060627, tr:  87.54%, val:  75.83%, val_best:  80.83%: 100%|██████████| 62/62 [00:35<00:00,  1.77it/s]"
     ]
    },
    {
     "name": "stdout",
     "output_type": "stream",
     "text": [
      "Domain loss,acc: 0.773385, 44.02% Target domain: tr_loss-2.152226, tr_acc-38.54%\n",
      "25,000c1dTruet60:75.83% | 25,000c1dFalset60:26.67%\n"
     ]
    },
    {
     "name": "stderr",
     "output_type": "stream",
     "text": [
      "\n",
      "epoch-23  lr=['0.0001000'], tr/val_loss:  0.613905/  1.114815, tr:  90.15%, val:  75.83%, val_best:  80.83%: 100%|██████████| 62/62 [00:34<00:00,  1.80it/s]"
     ]
    },
    {
     "name": "stdout",
     "output_type": "stream",
     "text": [
      "Domain loss,acc: 0.740899, 46.17% Target domain: tr_loss-2.010833, tr_acc-34.38%\n",
      "25,000c1dTruet60:75.83% | 25,000c1dFalset60:28.75%\n"
     ]
    },
    {
     "name": "stderr",
     "output_type": "stream",
     "text": [
      "\n",
      "epoch-24  lr=['0.0001000'], tr/val_loss:  0.612604/  1.078937, tr:  90.26%, val:  76.25%, val_best:  80.83%: 100%|██████████| 62/62 [00:34<00:00,  1.79it/s]"
     ]
    },
    {
     "name": "stdout",
     "output_type": "stream",
     "text": [
      "Domain loss,acc: 0.766378, 44.84% Target domain: tr_loss-2.304119, tr_acc-31.25%\n",
      "25,000c1dTruet60:76.25% | 25,000c1dFalset60:26.25%\n"
     ]
    },
    {
     "name": "stderr",
     "output_type": "stream",
     "text": [
      "\n",
      "epoch-25  lr=['0.0001000'], tr/val_loss:  0.599702/  1.066878, tr:  92.64%, val:  75.83%, val_best:  80.83%: 100%|██████████| 62/62 [00:33<00:00,  1.82it/s]"
     ]
    },
    {
     "name": "stdout",
     "output_type": "stream",
     "text": [
      "Domain loss,acc: 0.768333, 46.58% Target domain: tr_loss-2.454644, tr_acc-37.50%\n",
      "25,000c1dTruet60:75.83% | 25,000c1dFalset60:30.42%\n"
     ]
    },
    {
     "name": "stderr",
     "output_type": "stream",
     "text": [
      "\n",
      "epoch-26  lr=['0.0001000'], tr/val_loss:  0.576227/  1.087263, tr:  90.03%, val:  75.42%, val_best:  80.83%: 100%|██████████| 62/62 [00:34<00:00,  1.80it/s]"
     ]
    },
    {
     "name": "stdout",
     "output_type": "stream",
     "text": [
      "Domain loss,acc: 0.708198, 44.74% Target domain: tr_loss-2.027915, tr_acc-42.71%\n",
      "25,000c1dTruet60:75.42% | 25,000c1dFalset60:36.25%\n"
     ]
    },
    {
     "name": "stderr",
     "output_type": "stream",
     "text": [
      "\n",
      "epoch-27  lr=['0.0001000'], tr/val_loss:  0.574390/  1.080827, tr:  90.71%, val:  78.33%, val_best:  80.83%: 100%|██████████| 62/62 [00:34<00:00,  1.80it/s]"
     ]
    },
    {
     "name": "stdout",
     "output_type": "stream",
     "text": [
      "Domain loss,acc: 0.724428, 44.84% Target domain: tr_loss-2.224811, tr_acc-31.25%\n",
      "25,000c1dTruet60:78.33% | 25,000c1dFalset60:32.92%\n"
     ]
    },
    {
     "name": "stderr",
     "output_type": "stream",
     "text": [
      "\n",
      "epoch-28  lr=['0.0001000'], tr/val_loss:  0.550475/  1.054546, tr:  93.77%, val:  73.33%, val_best:  80.83%: 100%|██████████| 62/62 [00:34<00:00,  1.80it/s]"
     ]
    },
    {
     "name": "stdout",
     "output_type": "stream",
     "text": [
      "Domain loss,acc: 0.719715, 46.17% Target domain: tr_loss-2.412114, tr_acc-35.42%\n",
      "25,000c1dTruet60:73.33% | 25,000c1dFalset60:32.50%\n"
     ]
    },
    {
     "name": "stderr",
     "output_type": "stream",
     "text": [
      "\n",
      "epoch-29  lr=['0.0001000'], tr/val_loss:  0.555805/  1.062034, tr:  90.49%, val:  74.17%, val_best:  80.83%: 100%|██████████| 62/62 [00:34<00:00,  1.79it/s]"
     ]
    },
    {
     "name": "stdout",
     "output_type": "stream",
     "text": [
      "Domain loss,acc: 0.675953, 44.02% Target domain: tr_loss-1.877435, tr_acc-48.96%\n",
      "25,000c1dTruet60:74.17% | 25,000c1dFalset60:29.17%\n"
     ]
    },
    {
     "name": "stderr",
     "output_type": "stream",
     "text": [
      "\n",
      "epoch-30  lr=['0.0001000'], tr/val_loss:  0.535063/  1.043392, tr:  92.87%, val:  81.67%, val_best:  81.67%: 100%|██████████| 62/62 [00:34<00:00,  1.81it/s]"
     ]
    },
    {
     "name": "stdout",
     "output_type": "stream",
     "text": [
      "Domain loss,acc: 0.696269, 43.11% Target domain: tr_loss-2.308330, tr_acc-35.42%\n",
      "25,000c1dTruet60:81.67% | 25,000c1dFalset60:30.83%\n"
     ]
    },
    {
     "name": "stderr",
     "output_type": "stream",
     "text": [
      "\n",
      "epoch-31  lr=['0.0001000'], tr/val_loss:  0.536957/  1.029308, tr:  92.75%, val:  84.58%, val_best:  84.58%: 100%|██████████| 62/62 [00:34<00:00,  1.80it/s]"
     ]
    },
    {
     "name": "stdout",
     "output_type": "stream",
     "text": [
      "Domain loss,acc: 0.669442, 45.15% Target domain: tr_loss-1.994289, tr_acc-41.67%\n",
      "25,000c1dTruet60:84.58% | 25,000c1dFalset60:35.42%\n"
     ]
    },
    {
     "name": "stderr",
     "output_type": "stream",
     "text": [
      "\n",
      "epoch-32  lr=['0.0001000'], tr/val_loss:  0.510551/  1.061330, tr:  95.92%, val:  82.50%, val_best:  84.58%: 100%|██████████| 62/62 [00:34<00:00,  1.80it/s]"
     ]
    },
    {
     "name": "stdout",
     "output_type": "stream",
     "text": [
      "Domain loss,acc: 0.676409, 43.41% Target domain: tr_loss-2.334989, tr_acc-43.75%\n",
      "25,000c1dTruet60:82.50% | 25,000c1dFalset60:34.17%\n"
     ]
    },
    {
     "name": "stderr",
     "output_type": "stream",
     "text": [
      "\n",
      "epoch-33  lr=['0.0001000'], tr/val_loss:  0.495463/  1.050177, tr:  95.47%, val:  77.92%, val_best:  84.58%: 100%|██████████| 62/62 [00:33<00:00,  1.84it/s]"
     ]
    },
    {
     "name": "stdout",
     "output_type": "stream",
     "text": [
      "Domain loss,acc: 0.661032, 44.23% Target domain: tr_loss-2.316722, tr_acc-38.54%\n",
      "25,000c1dTruet60:77.92% | 25,000c1dFalset60:31.25%\n"
     ]
    },
    {
     "name": "stderr",
     "output_type": "stream",
     "text": [
      "\n",
      "epoch-34  lr=['0.0001000'], tr/val_loss:  0.496422/  1.057927, tr:  95.92%, val:  77.92%, val_best:  84.58%: 100%|██████████| 62/62 [00:33<00:00,  1.84it/s]"
     ]
    },
    {
     "name": "stdout",
     "output_type": "stream",
     "text": [
      "Domain loss,acc: 0.636220, 47.70% Target domain: tr_loss-2.034196, tr_acc-47.92%\n",
      "25,000c1dTruet60:77.92% | 25,000c1dFalset60:29.58%\n"
     ]
    },
    {
     "name": "stderr",
     "output_type": "stream",
     "text": [
      "\n",
      "epoch-35  lr=['0.0001000'], tr/val_loss:  0.510084/  1.066955, tr:  91.73%, val:  79.58%, val_best:  84.58%: 100%|██████████| 62/62 [00:34<00:00,  1.79it/s]"
     ]
    },
    {
     "name": "stdout",
     "output_type": "stream",
     "text": [
      "Domain loss,acc: 0.666665, 45.66% Target domain: tr_loss-2.232479, tr_acc-41.67%\n",
      "25,000c1dTruet60:79.58% | 25,000c1dFalset60:39.58%\n"
     ]
    },
    {
     "name": "stderr",
     "output_type": "stream",
     "text": [
      "\n",
      "epoch-36  lr=['0.0001000'], tr/val_loss:  0.481321/  1.082834, tr:  96.60%, val:  79.58%, val_best:  84.58%: 100%|██████████| 62/62 [00:34<00:00,  1.78it/s]"
     ]
    },
    {
     "name": "stdout",
     "output_type": "stream",
     "text": [
      "Domain loss,acc: 0.623968, 43.72% Target domain: tr_loss-2.050432, tr_acc-45.83%\n",
      "25,000c1dTruet60:79.58% | 25,000c1dFalset60:37.08%\n"
     ]
    },
    {
     "name": "stderr",
     "output_type": "stream",
     "text": [
      "\n",
      "epoch-37  lr=['0.0001000'], tr/val_loss:  0.479325/  1.046152, tr:  96.60%, val:  83.33%, val_best:  84.58%: 100%|██████████| 62/62 [00:38<00:00,  1.62it/s]"
     ]
    },
    {
     "name": "stdout",
     "output_type": "stream",
     "text": [
      "Domain loss,acc: 0.650346, 41.98% Target domain: tr_loss-2.360556, tr_acc-36.46%\n",
      "25,000c1dTruet60:83.33% | 25,000c1dFalset60:32.08%\n"
     ]
    },
    {
     "name": "stderr",
     "output_type": "stream",
     "text": [
      "\n",
      "epoch-38  lr=['0.0001000'], tr/val_loss:  0.454534/  1.046511, tr:  95.81%, val:  84.58%, val_best:  84.58%: 100%|██████████| 62/62 [00:37<00:00,  1.64it/s]"
     ]
    },
    {
     "name": "stdout",
     "output_type": "stream",
     "text": [
      "Domain loss,acc: 0.623273, 44.33% Target domain: tr_loss-2.310661, tr_acc-41.67%\n",
      "25,000c1dTruet60:84.58% | 25,000c1dFalset60:37.08%\n"
     ]
    },
    {
     "name": "stderr",
     "output_type": "stream",
     "text": [
      "\n",
      "epoch-39  lr=['0.0001000'], tr/val_loss:  0.453684/  1.108861, tr:  96.94%, val:  77.50%, val_best:  84.58%: 100%|██████████| 62/62 [00:35<00:00,  1.74it/s]"
     ]
    },
    {
     "name": "stdout",
     "output_type": "stream",
     "text": [
      "Domain loss,acc: 0.625755, 45.35% Target domain: tr_loss-2.346464, tr_acc-37.50%\n",
      "25,000c1dTruet60:77.50% | 25,000c1dFalset60:32.08%\n"
     ]
    },
    {
     "name": "stderr",
     "output_type": "stream",
     "text": [
      "\n",
      "epoch-40  lr=['0.0001000'], tr/val_loss:  0.463606/  1.081477, tr:  94.68%, val:  79.17%, val_best:  84.58%: 100%|██████████| 62/62 [00:33<00:00,  1.84it/s]"
     ]
    },
    {
     "name": "stdout",
     "output_type": "stream",
     "text": [
      "Domain loss,acc: 0.626293, 43.72% Target domain: tr_loss-2.253156, tr_acc-48.96%\n",
      "25,000c1dTruet60:79.17% | 25,000c1dFalset60:32.08%\n"
     ]
    },
    {
     "name": "stderr",
     "output_type": "stream",
     "text": [
      "\n",
      "epoch-41  lr=['0.0001000'], tr/val_loss:  0.453434/  1.073258, tr:  94.68%, val:  80.42%, val_best:  84.58%: 100%|██████████| 62/62 [00:33<00:00,  1.84it/s]"
     ]
    },
    {
     "name": "stdout",
     "output_type": "stream",
     "text": [
      "Domain loss,acc: 0.610968, 44.54% Target domain: tr_loss-2.186311, tr_acc-43.75%\n",
      "25,000c1dTruet60:80.42% | 25,000c1dFalset60:37.08%\n"
     ]
    },
    {
     "name": "stderr",
     "output_type": "stream",
     "text": [
      "\n",
      "epoch-42  lr=['0.0001000'], tr/val_loss:  0.423262/  1.118225, tr:  96.72%, val:  79.17%, val_best:  84.58%: 100%|██████████| 62/62 [00:34<00:00,  1.81it/s]"
     ]
    },
    {
     "name": "stdout",
     "output_type": "stream",
     "text": [
      "Domain loss,acc: 0.601450, 45.35% Target domain: tr_loss-2.383329, tr_acc-48.96%\n",
      "25,000c1dTruet60:79.17% | 25,000c1dFalset60:29.17%\n"
     ]
    },
    {
     "name": "stderr",
     "output_type": "stream",
     "text": [
      "\n",
      "epoch-43  lr=['0.0001000'], tr/val_loss:  0.418454/  1.090718, tr:  97.73%, val:  80.83%, val_best:  84.58%: 100%|██████████| 62/62 [00:34<00:00,  1.79it/s]"
     ]
    },
    {
     "name": "stdout",
     "output_type": "stream",
     "text": [
      "Domain loss,acc: 0.595937, 45.35% Target domain: tr_loss-2.370758, tr_acc-41.67%\n",
      "25,000c1dTruet60:80.83% | 25,000c1dFalset60:34.17%\n"
     ]
    },
    {
     "name": "stderr",
     "output_type": "stream",
     "text": [
      "\n",
      "epoch-44  lr=['0.0001000'], tr/val_loss:  0.412081/  1.093686, tr:  96.49%, val:  80.42%, val_best:  84.58%: 100%|██████████| 62/62 [00:34<00:00,  1.82it/s]"
     ]
    },
    {
     "name": "stdout",
     "output_type": "stream",
     "text": [
      "Domain loss,acc: 0.614531, 44.94% Target domain: tr_loss-2.639037, tr_acc-35.42%\n",
      "25,000c1dTruet60:80.42% | 25,000c1dFalset60:35.83%\n"
     ]
    },
    {
     "name": "stderr",
     "output_type": "stream",
     "text": [
      "\n",
      "epoch-45  lr=['0.0001000'], tr/val_loss:  0.404901/  1.089258, tr:  98.41%, val:  83.33%, val_best:  84.58%: 100%|██████████| 62/62 [00:32<00:00,  1.88it/s]"
     ]
    },
    {
     "name": "stdout",
     "output_type": "stream",
     "text": [
      "Domain loss,acc: 0.597373, 44.43% Target domain: tr_loss-2.522099, tr_acc-43.75%\n",
      "25,000c1dTruet60:83.33% | 25,000c1dFalset60:31.67%\n"
     ]
    },
    {
     "name": "stderr",
     "output_type": "stream",
     "text": [
      "\n",
      "epoch-46  lr=['0.0001000'], tr/val_loss:  0.401153/  1.057790, tr:  97.85%, val:  86.67%, val_best:  86.67%: 100%|██████████| 62/62 [00:34<00:00,  1.81it/s]"
     ]
    },
    {
     "name": "stdout",
     "output_type": "stream",
     "text": [
      "Domain loss,acc: 0.565723, 44.54% Target domain: tr_loss-2.211421, tr_acc-53.12%\n",
      "25,000c1dTruet60:86.67% | 25,000c1dFalset60:35.83%\n"
     ]
    },
    {
     "name": "stderr",
     "output_type": "stream",
     "text": [
      "\n",
      "epoch-47  lr=['0.0001000'], tr/val_loss:  0.379778/  1.104194, tr:  98.64%, val:  85.00%, val_best:  86.67%: 100%|██████████| 62/62 [00:34<00:00,  1.82it/s]"
     ]
    },
    {
     "name": "stdout",
     "output_type": "stream",
     "text": [
      "Domain loss,acc: 0.572917, 45.45% Target domain: tr_loss-2.504305, tr_acc-47.92%\n",
      "25,000c1dTruet60:85.00% | 25,000c1dFalset60:37.08%\n"
     ]
    },
    {
     "name": "stderr",
     "output_type": "stream",
     "text": [
      "\n",
      "epoch-48  lr=['0.0001000'], tr/val_loss:  0.384517/  1.093252, tr:  99.32%, val:  83.75%, val_best:  86.67%: 100%|██████████| 62/62 [00:34<00:00,  1.79it/s]"
     ]
    },
    {
     "name": "stdout",
     "output_type": "stream",
     "text": [
      "Domain loss,acc: 0.570668, 44.94% Target domain: tr_loss-2.432177, tr_acc-47.92%\n",
      "25,000c1dTruet60:83.75% | 25,000c1dFalset60:31.25%\n"
     ]
    },
    {
     "name": "stderr",
     "output_type": "stream",
     "text": [
      "\n",
      "epoch-49  lr=['0.0001000'], tr/val_loss:  0.363797/  1.107625, tr:  98.64%, val:  84.17%, val_best:  86.67%: 100%|██████████| 62/62 [00:34<00:00,  1.80it/s]"
     ]
    },
    {
     "name": "stdout",
     "output_type": "stream",
     "text": [
      "Domain loss,acc: 0.572223, 42.70% Target domain: tr_loss-2.656480, tr_acc-36.46%\n",
      "25,000c1dTruet60:84.17% | 25,000c1dFalset60:30.42%\n"
     ]
    },
    {
     "name": "stderr",
     "output_type": "stream",
     "text": [
      "\n",
      "epoch-50  lr=['0.0001000'], tr/val_loss:  0.354496/  1.121936, tr:  98.64%, val:  88.75%, val_best:  88.75%: 100%|██████████| 62/62 [00:33<00:00,  1.84it/s]"
     ]
    },
    {
     "name": "stdout",
     "output_type": "stream",
     "text": [
      "Domain loss,acc: 0.519725, 43.92% Target domain: tr_loss-2.172014, tr_acc-48.96%\n",
      "25,000c1dTruet60:88.75% | 25,000c1dFalset60:42.08%\n"
     ]
    },
    {
     "name": "stderr",
     "output_type": "stream",
     "text": [
      "\n",
      "epoch-51  lr=['0.0001000'], tr/val_loss:  0.349299/  1.126110, tr:  99.55%, val:  83.75%, val_best:  88.75%: 100%|██████████| 62/62 [00:34<00:00,  1.80it/s]"
     ]
    },
    {
     "name": "stdout",
     "output_type": "stream",
     "text": [
      "Domain loss,acc: 0.543401, 46.88% Target domain: tr_loss-2.484423, tr_acc-47.92%\n",
      "25,000c1dTruet60:83.75% | 25,000c1dFalset60:37.92%\n"
     ]
    },
    {
     "name": "stderr",
     "output_type": "stream",
     "text": [
      "\n",
      "epoch-52  lr=['0.0001000'], tr/val_loss:  0.356056/  1.132530, tr:  98.87%, val:  82.08%, val_best:  88.75%: 100%|██████████| 62/62 [00:34<00:00,  1.80it/s]"
     ]
    },
    {
     "name": "stdout",
     "output_type": "stream",
     "text": [
      "Domain loss,acc: 0.538617, 43.31% Target domain: tr_loss-2.364229, tr_acc-47.92%\n",
      "25,000c1dTruet60:82.08% | 25,000c1dFalset60:30.83%\n"
     ]
    },
    {
     "name": "stderr",
     "output_type": "stream",
     "text": [
      "\n",
      "epoch-53  lr=['0.0001000'], tr/val_loss:  0.351331/  1.142199, tr:  99.21%, val:  83.33%, val_best:  88.75%: 100%|██████████| 62/62 [00:34<00:00,  1.80it/s]"
     ]
    },
    {
     "name": "stdout",
     "output_type": "stream",
     "text": [
      "Domain loss,acc: 0.545886, 45.97% Target domain: tr_loss-2.491428, tr_acc-47.92%\n",
      "25,000c1dTruet60:83.33% | 25,000c1dFalset60:31.25%\n"
     ]
    },
    {
     "name": "stderr",
     "output_type": "stream",
     "text": [
      "\n",
      "epoch-54  lr=['0.0001000'], tr/val_loss:  0.346338/  1.141976, tr:  98.87%, val:  77.50%, val_best:  88.75%: 100%|██████████| 62/62 [00:34<00:00,  1.82it/s]"
     ]
    },
    {
     "name": "stdout",
     "output_type": "stream",
     "text": [
      "Domain loss,acc: 0.547619, 43.72% Target domain: tr_loss-2.560426, tr_acc-48.96%\n",
      "25,000c1dTruet60:77.50% | 25,000c1dFalset60:33.75%\n"
     ]
    },
    {
     "name": "stderr",
     "output_type": "stream",
     "text": [
      "\n",
      "epoch-55  lr=['0.0001000'], tr/val_loss:  0.328452/  1.120984, tr:  99.55%, val:  85.00%, val_best:  88.75%: 100%|██████████| 62/62 [00:33<00:00,  1.83it/s]"
     ]
    },
    {
     "name": "stdout",
     "output_type": "stream",
     "text": [
      "Domain loss,acc: 0.524779, 45.15% Target domain: tr_loss-2.488056, tr_acc-55.21%\n",
      "25,000c1dTruet60:85.00% | 25,000c1dFalset60:44.58%\n"
     ]
    },
    {
     "name": "stderr",
     "output_type": "stream",
     "text": [
      "\n",
      "epoch-56  lr=['0.0001000'], tr/val_loss:  0.314238/  1.122041, tr:  99.66%, val:  84.58%, val_best:  88.75%: 100%|██████████| 62/62 [00:34<00:00,  1.81it/s]"
     ]
    },
    {
     "name": "stdout",
     "output_type": "stream",
     "text": [
      "Domain loss,acc: 0.502074, 43.72% Target domain: tr_loss-2.380435, tr_acc-52.08%\n",
      "25,000c1dTruet60:84.58% | 25,000c1dFalset60:42.92%\n"
     ]
    },
    {
     "name": "stderr",
     "output_type": "stream",
     "text": [
      "\n",
      "epoch-57  lr=['0.0001000'], tr/val_loss:  0.311994/  1.139421, tr:  99.55%, val:  85.42%, val_best:  88.75%: 100%|██████████| 62/62 [00:34<00:00,  1.81it/s]"
     ]
    },
    {
     "name": "stdout",
     "output_type": "stream",
     "text": [
      "Domain loss,acc: 0.482794, 43.00% Target domain: tr_loss-2.190801, tr_acc-52.08%\n",
      "25,000c1dTruet60:85.42% | 25,000c1dFalset60:36.25%\n"
     ]
    },
    {
     "name": "stderr",
     "output_type": "stream",
     "text": [
      "\n",
      "epoch-58  lr=['0.0001000'], tr/val_loss:  0.310587/  1.141872, tr:  99.55%, val:  87.92%, val_best:  88.75%: 100%|██████████| 62/62 [00:34<00:00,  1.79it/s]"
     ]
    },
    {
     "name": "stdout",
     "output_type": "stream",
     "text": [
      "Domain loss,acc: 0.492996, 45.25% Target domain: tr_loss-2.317088, tr_acc-48.96%\n",
      "25,000c1dTruet60:87.92% | 25,000c1dFalset60:42.08%\n"
     ]
    },
    {
     "name": "stderr",
     "output_type": "stream",
     "text": [
      "\n",
      "epoch-59  lr=['0.0001000'], tr/val_loss:  0.302304/  1.143229, tr:  99.66%, val:  84.58%, val_best:  88.75%: 100%|██████████| 62/62 [00:33<00:00,  1.87it/s]"
     ]
    },
    {
     "name": "stdout",
     "output_type": "stream",
     "text": [
      "Domain loss,acc: 0.505709, 44.54% Target domain: tr_loss-2.539763, tr_acc-46.88%\n",
      "25,000c1dTruet60:84.58% | 25,000c1dFalset60:29.17%\n"
     ]
    },
    {
     "name": "stderr",
     "output_type": "stream",
     "text": [
      "\n",
      "epoch-60  lr=['0.0001000'], tr/val_loss:  0.306086/  1.165402, tr:  97.85%, val:  84.58%, val_best:  88.75%: 100%|██████████| 62/62 [00:34<00:00,  1.79it/s]"
     ]
    },
    {
     "name": "stdout",
     "output_type": "stream",
     "text": [
      "Domain loss,acc: 0.492248, 42.08% Target domain: tr_loss-2.353868, tr_acc-51.04%\n",
      "25,000c1dTruet60:84.58% | 25,000c1dFalset60:40.83%\n"
     ]
    },
    {
     "name": "stderr",
     "output_type": "stream",
     "text": [
      "\n",
      "epoch-61  lr=['0.0001000'], tr/val_loss:  0.286265/  1.180771, tr:  99.55%, val:  86.25%, val_best:  88.75%: 100%|██████████| 62/62 [00:33<00:00,  1.85it/s]"
     ]
    },
    {
     "name": "stdout",
     "output_type": "stream",
     "text": [
      "Domain loss,acc: 0.470067, 43.21% Target domain: tr_loss-2.308095, tr_acc-55.21%\n",
      "25,000c1dTruet60:86.25% | 25,000c1dFalset60:39.58%\n"
     ]
    },
    {
     "name": "stderr",
     "output_type": "stream",
     "text": [
      "\n",
      "epoch-62  lr=['0.0001000'], tr/val_loss:  0.288930/  1.141032, tr:  99.21%, val:  86.25%, val_best:  88.75%: 100%|██████████| 62/62 [00:35<00:00,  1.73it/s]"
     ]
    },
    {
     "name": "stdout",
     "output_type": "stream",
     "text": [
      "Domain loss,acc: 0.496947, 44.84% Target domain: tr_loss-2.577111, tr_acc-44.79%\n",
      "25,000c1dTruet60:86.25% | 25,000c1dFalset60:42.08%\n"
     ]
    },
    {
     "name": "stderr",
     "output_type": "stream",
     "text": [
      "\n",
      "epoch-63  lr=['0.0001000'], tr/val_loss:  0.269840/  1.172814, tr:  99.66%, val:  86.67%, val_best:  88.75%: 100%|██████████| 62/62 [00:42<00:00,  1.47it/s]"
     ]
    },
    {
     "name": "stdout",
     "output_type": "stream",
     "text": [
      "Domain loss,acc: 0.456060, 42.80% Target domain: tr_loss-2.318261, tr_acc-51.04%\n",
      "25,000c1dTruet60:86.67% | 25,000c1dFalset60:31.25%\n"
     ]
    },
    {
     "name": "stderr",
     "output_type": "stream",
     "text": [
      "\n",
      "epoch-64  lr=['0.0001000'], tr/val_loss:  0.273498/  1.135023, tr:  99.66%, val:  86.67%, val_best:  88.75%: 100%|██████████| 62/62 [00:39<00:00,  1.58it/s]"
     ]
    },
    {
     "name": "stdout",
     "output_type": "stream",
     "text": [
      "Domain loss,acc: 0.493238, 44.84% Target domain: tr_loss-2.690637, tr_acc-46.88%\n",
      "25,000c1dTruet60:86.67% | 25,000c1dFalset60:42.08%\n"
     ]
    },
    {
     "name": "stderr",
     "output_type": "stream",
     "text": [
      "\n",
      "epoch-65  lr=['0.0001000'], tr/val_loss:  0.266598/  1.191411, tr: 100.00%, val:  85.83%, val_best:  88.75%: 100%|██████████| 62/62 [00:37<00:00,  2.43s/it]"
     ]
    },
    {
     "name": "stdout",
     "output_type": "stream",
     "text": [
      "Domain loss,acc: 0.463692, 42.19% Target domain: tr_loss-2.434627, tr_acc-48.96%\n",
      "25,000c1dTruet60:85.83% | 25,000c1dFalset60:39.58%\n"
     ]
    },
    {
     "name": "stderr",
     "output_type": "stream",
     "text": [
      "epoch-65  lr=['0.0001000'], tr/val_loss:  0.266598/  1.191411, tr: 100.00%, val:  85.83%, val_best:  88.75%: 100%|██████████| 62/62 [00:37<00:00,  1.65it/s]\n",
      "epoch-66  lr=['0.0001000'], tr/val_loss:  0.259841/  1.185636, tr: 100.00%, val:  82.92%, val_best:  88.75%: 100%|██████████| 62/62 [00:36<00:00,  1.71it/s]"
     ]
    },
    {
     "name": "stdout",
     "output_type": "stream",
     "text": [
      "Domain loss,acc: 0.429217, 43.72% Target domain: tr_loss-2.122974, tr_acc-61.46%\n",
      "25,000c1dTruet60:82.92% | 25,000c1dFalset60:30.42%\n"
     ]
    },
    {
     "name": "stderr",
     "output_type": "stream",
     "text": [
      "\n",
      "epoch-67  lr=['0.0001000'], tr/val_loss:  0.258080/  1.160016, tr: 100.00%, val:  89.17%, val_best:  89.17%: 100%|██████████| 62/62 [00:34<00:00,  1.79it/s]"
     ]
    },
    {
     "name": "stdout",
     "output_type": "stream",
     "text": [
      "Domain loss,acc: 0.457701, 43.31% Target domain: tr_loss-2.453913, tr_acc-52.08%\n",
      "25,000c1dTruet60:89.17% | 25,000c1dFalset60:45.83%\n"
     ]
    },
    {
     "name": "stderr",
     "output_type": "stream",
     "text": [
      "\n",
      "epoch-68  lr=['0.0001000'], tr/val_loss:  0.248975/  1.171989, tr:  99.89%, val:  87.08%, val_best:  89.17%: 100%|██████████| 62/62 [00:33<00:00,  1.86it/s]"
     ]
    },
    {
     "name": "stdout",
     "output_type": "stream",
     "text": [
      "Domain loss,acc: 0.432139, 42.80% Target domain: tr_loss-2.263778, tr_acc-51.04%\n",
      "25,000c1dTruet60:87.08% | 25,000c1dFalset60:42.50%\n"
     ]
    },
    {
     "name": "stderr",
     "output_type": "stream",
     "text": [
      "\n",
      "epoch-69  lr=['0.0001000'], tr/val_loss:  0.236462/  1.177583, tr:  99.89%, val:  86.67%, val_best:  89.17%: 100%|██████████| 62/62 [00:34<00:00,  1.81it/s]"
     ]
    },
    {
     "name": "stdout",
     "output_type": "stream",
     "text": [
      "Domain loss,acc: 0.439185, 42.70% Target domain: tr_loss-2.466422, tr_acc-52.08%\n",
      "25,000c1dTruet60:86.67% | 25,000c1dFalset60:45.42%\n"
     ]
    },
    {
     "name": "stderr",
     "output_type": "stream",
     "text": [
      "\n",
      "epoch-70  lr=['0.0001000'], tr/val_loss:  0.237608/  1.187082, tr:  99.89%, val:  87.50%, val_best:  89.17%: 100%|██████████| 62/62 [00:34<00:00,  1.82it/s]"
     ]
    },
    {
     "name": "stdout",
     "output_type": "stream",
     "text": [
      "Domain loss,acc: 0.420622, 43.41% Target domain: tr_loss-2.250766, tr_acc-57.29%\n",
      "25,000c1dTruet60:87.50% | 25,000c1dFalset60:38.33%\n"
     ]
    },
    {
     "name": "stderr",
     "output_type": "stream",
     "text": [
      "\n",
      "epoch-71  lr=['0.0001000'], tr/val_loss:  0.241648/  1.192815, tr: 100.00%, val:  87.92%, val_best:  89.17%: 100%|██████████| 62/62 [00:29<00:00,  2.10it/s]"
     ]
    },
    {
     "name": "stdout",
     "output_type": "stream",
     "text": [
      "Domain loss,acc: 0.431692, 43.62% Target domain: tr_loss-2.332131, tr_acc-50.00%\n",
      "25,000c1dTruet60:87.92% | 25,000c1dFalset60:45.00%\n"
     ]
    },
    {
     "name": "stderr",
     "output_type": "stream",
     "text": [
      "\n",
      "epoch-72  lr=['0.0001000'], tr/val_loss:  0.218015/  1.208845, tr: 100.00%, val:  87.50%, val_best:  89.17%: 100%|██████████| 62/62 [00:34<00:00,  1.80it/s]"
     ]
    },
    {
     "name": "stdout",
     "output_type": "stream",
     "text": [
      "Domain loss,acc: 0.435792, 42.39% Target domain: tr_loss-2.613553, tr_acc-56.25%\n",
      "25,000c1dTruet60:87.50% | 25,000c1dFalset60:40.42%\n"
     ]
    },
    {
     "name": "stderr",
     "output_type": "stream",
     "text": [
      "\n",
      "epoch-73  lr=['0.0001000'], tr/val_loss:  0.230574/  1.198095, tr:  99.66%, val:  85.42%, val_best:  89.17%: 100%|██████████| 62/62 [00:34<00:00,  1.80it/s]"
     ]
    },
    {
     "name": "stdout",
     "output_type": "stream",
     "text": [
      "Domain loss,acc: 0.422730, 43.92% Target domain: tr_loss-2.344292, tr_acc-48.96%\n",
      "25,000c1dTruet60:85.42% | 25,000c1dFalset60:40.00%\n"
     ]
    },
    {
     "name": "stderr",
     "output_type": "stream",
     "text": [
      "\n",
      "epoch-74  lr=['0.0001000'], tr/val_loss:  0.231366/  1.211013, tr:  99.66%, val:  84.17%, val_best:  89.17%: 100%|██████████| 62/62 [00:34<00:00,  1.79it/s]"
     ]
    },
    {
     "name": "stdout",
     "output_type": "stream",
     "text": [
      "Domain loss,acc: 0.436166, 42.90% Target domain: tr_loss-2.484165, tr_acc-56.25%\n",
      "25,000c1dTruet60:84.17% | 25,000c1dFalset60:36.25%\n"
     ]
    },
    {
     "name": "stderr",
     "output_type": "stream",
     "text": [
      "\n",
      "epoch-75  lr=['0.0001000'], tr/val_loss:  0.220755/  1.186167, tr: 100.00%, val:  87.92%, val_best:  89.17%: 100%|██████████| 62/62 [00:33<00:00,  1.85it/s]"
     ]
    },
    {
     "name": "stdout",
     "output_type": "stream",
     "text": [
      "Domain loss,acc: 0.468399, 42.90% Target domain: tr_loss-2.944846, tr_acc-46.88%\n",
      "25,000c1dTruet60:87.92% | 25,000c1dFalset60:45.00%\n"
     ]
    },
    {
     "name": "stderr",
     "output_type": "stream",
     "text": [
      "\n",
      "epoch-76  lr=['0.0001000'], tr/val_loss:  0.207054/  1.229590, tr: 100.00%, val:  87.08%, val_best:  89.17%: 100%|██████████| 62/62 [00:34<00:00,  1.79it/s]"
     ]
    },
    {
     "name": "stdout",
     "output_type": "stream",
     "text": [
      "Domain loss,acc: 0.403272, 43.82% Target domain: tr_loss-2.365457, tr_acc-54.17%\n",
      "25,000c1dTruet60:87.08% | 25,000c1dFalset60:45.00%\n"
     ]
    },
    {
     "name": "stderr",
     "output_type": "stream",
     "text": [
      "\n",
      "epoch-77  lr=['0.0001000'], tr/val_loss:  0.201018/  1.255459, tr: 100.00%, val:  85.83%, val_best:  89.17%: 100%|██████████| 62/62 [00:34<00:00,  1.82it/s]"
     ]
    },
    {
     "name": "stdout",
     "output_type": "stream",
     "text": [
      "Domain loss,acc: 0.418259, 42.90% Target domain: tr_loss-2.590667, tr_acc-50.00%\n",
      "25,000c1dTruet60:85.83% | 25,000c1dFalset60:35.83%\n"
     ]
    },
    {
     "name": "stderr",
     "output_type": "stream",
     "text": [
      "\n",
      "epoch-78  lr=['0.0001000'], tr/val_loss:  0.196554/  1.200314, tr:  99.89%, val:  88.33%, val_best:  89.17%: 100%|██████████| 62/62 [00:34<00:00,  1.81it/s]"
     ]
    },
    {
     "name": "stdout",
     "output_type": "stream",
     "text": [
      "Domain loss,acc: 0.394885, 41.57% Target domain: tr_loss-2.378196, tr_acc-56.25%\n",
      "25,000c1dTruet60:88.33% | 25,000c1dFalset60:42.08%\n"
     ]
    },
    {
     "name": "stderr",
     "output_type": "stream",
     "text": [
      "\n",
      "epoch-79  lr=['0.0001000'], tr/val_loss:  0.193153/  1.227605, tr: 100.00%, val:  89.17%, val_best:  89.17%: 100%|██████████| 62/62 [00:34<00:00,  1.80it/s]"
     ]
    },
    {
     "name": "stdout",
     "output_type": "stream",
     "text": [
      "Domain loss,acc: 0.423771, 43.51% Target domain: tr_loss-2.729959, tr_acc-47.92%\n",
      "25,000c1dTruet60:89.17% | 25,000c1dFalset60:38.75%\n"
     ]
    },
    {
     "name": "stderr",
     "output_type": "stream",
     "text": [
      "\n",
      "epoch-80  lr=['0.0001000'], tr/val_loss:  0.192267/  1.234448, tr:  99.77%, val:  86.67%, val_best:  89.17%: 100%|██████████| 62/62 [00:34<00:00,  1.81it/s]"
     ]
    },
    {
     "name": "stdout",
     "output_type": "stream",
     "text": [
      "Domain loss,acc: 0.424971, 42.80% Target domain: tr_loss-2.752012, tr_acc-53.12%\n",
      "25,000c1dTruet60:86.67% | 25,000c1dFalset60:40.00%\n"
     ]
    },
    {
     "name": "stderr",
     "output_type": "stream",
     "text": [
      "\n",
      "epoch-81  lr=['0.0001000'], tr/val_loss:  0.180970/  1.320784, tr: 100.00%, val:  84.58%, val_best:  89.17%: 100%|██████████| 62/62 [00:34<00:00,  1.81it/s]"
     ]
    },
    {
     "name": "stdout",
     "output_type": "stream",
     "text": [
      "Domain loss,acc: 0.437601, 42.70% Target domain: tr_loss-3.003912, tr_acc-46.88%\n",
      "25,000c1dTruet60:84.58% | 25,000c1dFalset60:37.92%\n"
     ]
    },
    {
     "name": "stderr",
     "output_type": "stream",
     "text": [
      "\n",
      "epoch-82  lr=['0.0001000'], tr/val_loss:  0.182897/  1.221568, tr: 100.00%, val:  87.50%, val_best:  89.17%: 100%|██████████| 62/62 [00:34<00:00,  1.82it/s]"
     ]
    },
    {
     "name": "stdout",
     "output_type": "stream",
     "text": [
      "Domain loss,acc: 0.458048, 43.82% Target domain: tr_loss-3.209559, tr_acc-39.58%\n",
      "25,000c1dTruet60:87.50% | 25,000c1dFalset60:43.33%\n"
     ]
    },
    {
     "name": "stderr",
     "output_type": "stream",
     "text": [
      "\n",
      "epoch-83  lr=['0.0001000'], tr/val_loss:  0.176446/  1.265851, tr: 100.00%, val:  89.17%, val_best:  89.17%: 100%|██████████| 62/62 [00:33<00:00,  1.83it/s]"
     ]
    },
    {
     "name": "stdout",
     "output_type": "stream",
     "text": [
      "Domain loss,acc: 0.374703, 41.37% Target domain: tr_loss-2.357275, tr_acc-54.17%\n",
      "25,000c1dTruet60:89.17% | 25,000c1dFalset60:42.08%\n"
     ]
    },
    {
     "name": "stderr",
     "output_type": "stream",
     "text": [
      "\n",
      "epoch-84  lr=['0.0001000'], tr/val_loss:  0.189315/  1.313867, tr:  99.89%, val:  86.67%, val_best:  89.17%: 100%|██████████| 62/62 [00:33<00:00,  1.86it/s]"
     ]
    },
    {
     "name": "stdout",
     "output_type": "stream",
     "text": [
      "Domain loss,acc: 0.413316, 43.31% Target domain: tr_loss-2.653331, tr_acc-51.04%\n",
      "25,000c1dTruet60:86.67% | 25,000c1dFalset60:37.92%\n"
     ]
    },
    {
     "name": "stderr",
     "output_type": "stream",
     "text": [
      "\n",
      "epoch-85  lr=['0.0001000'], tr/val_loss:  0.193329/  1.279866, tr:  99.89%, val:  86.25%, val_best:  89.17%: 100%|██████████| 62/62 [00:33<00:00,  1.83it/s]"
     ]
    },
    {
     "name": "stdout",
     "output_type": "stream",
     "text": [
      "Domain loss,acc: 0.465424, 42.59% Target domain: tr_loss-3.186368, tr_acc-47.92%\n",
      "25,000c1dTruet60:86.25% | 25,000c1dFalset60:42.08%\n"
     ]
    },
    {
     "name": "stderr",
     "output_type": "stream",
     "text": [
      "\n",
      "epoch-86  lr=['0.0001000'], tr/val_loss:  0.172110/  1.263737, tr: 100.00%, val:  87.92%, val_best:  89.17%: 100%|██████████| 62/62 [00:34<00:00,  1.82it/s]"
     ]
    },
    {
     "name": "stdout",
     "output_type": "stream",
     "text": [
      "Domain loss,acc: 0.407669, 43.21% Target domain: tr_loss-2.763259, tr_acc-55.21%\n",
      "25,000c1dTruet60:87.92% | 25,000c1dFalset60:37.92%\n"
     ]
    },
    {
     "name": "stderr",
     "output_type": "stream",
     "text": [
      "\n",
      "epoch-87  lr=['0.0001000'], tr/val_loss:  0.154423/  1.279473, tr: 100.00%, val:  87.50%, val_best:  89.17%: 100%|██████████| 62/62 [00:33<00:00,  1.84it/s]"
     ]
    },
    {
     "name": "stdout",
     "output_type": "stream",
     "text": [
      "Domain loss,acc: 0.417634, 42.90% Target domain: tr_loss-3.049753, tr_acc-43.75%\n",
      "25,000c1dTruet60:87.50% | 25,000c1dFalset60:41.67%\n"
     ]
    },
    {
     "name": "stderr",
     "output_type": "stream",
     "text": [
      "\n",
      "epoch-88  lr=['0.0001000'], tr/val_loss:  0.159360/  1.270477, tr: 100.00%, val:  86.25%, val_best:  89.17%: 100%|██████████| 62/62 [00:34<00:00,  1.82it/s]"
     ]
    },
    {
     "name": "stdout",
     "output_type": "stream",
     "text": [
      "Domain loss,acc: 0.426534, 41.57% Target domain: tr_loss-3.098271, tr_acc-48.96%\n",
      "25,000c1dTruet60:86.25% | 25,000c1dFalset60:33.75%\n"
     ]
    },
    {
     "name": "stderr",
     "output_type": "stream",
     "text": [
      "\n",
      "epoch-89  lr=['0.0001000'], tr/val_loss:  0.167822/  1.309054, tr: 100.00%, val:  85.42%, val_best:  89.17%: 100%|██████████| 62/62 [00:33<00:00,  1.82it/s]"
     ]
    },
    {
     "name": "stdout",
     "output_type": "stream",
     "text": [
      "Domain loss,acc: 0.442040, 41.47% Target domain: tr_loss-3.184222, tr_acc-40.62%\n",
      "25,000c1dTruet60:85.42% | 25,000c1dFalset60:40.00%\n"
     ]
    },
    {
     "name": "stderr",
     "output_type": "stream",
     "text": [
      "\n",
      "epoch-90  lr=['0.0001000'], tr/val_loss:  0.148168/  1.253309, tr: 100.00%, val:  87.92%, val_best:  89.17%: 100%|██████████| 62/62 [00:34<00:00,  1.81it/s]"
     ]
    },
    {
     "name": "stdout",
     "output_type": "stream",
     "text": [
      "Domain loss,acc: 0.356245, 44.13% Target domain: tr_loss-2.437016, tr_acc-64.58%\n",
      "25,000c1dTruet60:87.92% | 25,000c1dFalset60:37.92%\n"
     ]
    },
    {
     "name": "stderr",
     "output_type": "stream",
     "text": [
      "\n",
      "epoch-91  lr=['0.0001000'], tr/val_loss:  0.142589/  1.280905, tr: 100.00%, val:  88.33%, val_best:  89.17%: 100%|██████████| 62/62 [00:34<00:00,  1.82it/s]"
     ]
    },
    {
     "name": "stdout",
     "output_type": "stream",
     "text": [
      "Domain loss,acc: 0.408451, 42.80% Target domain: tr_loss-3.067070, tr_acc-46.88%\n",
      "25,000c1dTruet60:88.33% | 25,000c1dFalset60:41.25%\n"
     ]
    },
    {
     "name": "stderr",
     "output_type": "stream",
     "text": [
      "\n",
      "epoch-92  lr=['0.0001000'], tr/val_loss:  0.144901/  1.290383, tr: 100.00%, val:  88.75%, val_best:  89.17%: 100%|██████████| 62/62 [00:34<00:00,  1.81it/s]"
     ]
    },
    {
     "name": "stdout",
     "output_type": "stream",
     "text": [
      "Domain loss,acc: 0.419090, 40.55% Target domain: tr_loss-3.160985, tr_acc-50.00%\n",
      "25,000c1dTruet60:88.75% | 25,000c1dFalset60:39.58%\n"
     ]
    },
    {
     "name": "stderr",
     "output_type": "stream",
     "text": [
      "\n",
      "epoch-93  lr=['0.0001000'], tr/val_loss:  0.147032/  1.290127, tr: 100.00%, val:  88.33%, val_best:  89.17%: 100%|██████████| 62/62 [00:34<00:00,  1.81it/s]"
     ]
    },
    {
     "name": "stdout",
     "output_type": "stream",
     "text": [
      "Domain loss,acc: 0.425817, 43.41% Target domain: tr_loss-3.213674, tr_acc-48.96%\n",
      "25,000c1dTruet60:88.33% | 25,000c1dFalset60:37.08%\n"
     ]
    },
    {
     "name": "stderr",
     "output_type": "stream",
     "text": [
      "\n",
      "epoch-94  lr=['0.0001000'], tr/val_loss:  0.132479/  1.300927, tr: 100.00%, val:  87.92%, val_best:  89.17%: 100%|██████████| 62/62 [00:33<00:00,  1.83it/s]"
     ]
    },
    {
     "name": "stdout",
     "output_type": "stream",
     "text": [
      "Domain loss,acc: 0.404914, 42.59% Target domain: tr_loss-3.129267, tr_acc-52.08%\n",
      "25,000c1dTruet60:87.92% | 25,000c1dFalset60:45.00%\n"
     ]
    },
    {
     "name": "stderr",
     "output_type": "stream",
     "text": [
      "\n",
      "epoch-95  lr=['0.0001000'], tr/val_loss:  0.133417/  1.307031, tr: 100.00%, val:  88.75%, val_best:  89.17%: 100%|██████████| 62/62 [00:34<00:00,  1.80it/s]"
     ]
    },
    {
     "name": "stdout",
     "output_type": "stream",
     "text": [
      "Domain loss,acc: 0.371923, 41.88% Target domain: tr_loss-2.756989, tr_acc-58.33%\n",
      "25,000c1dTruet60:88.75% | 25,000c1dFalset60:40.42%\n"
     ]
    },
    {
     "name": "stderr",
     "output_type": "stream",
     "text": [
      "\n",
      "epoch-96  lr=['0.0001000'], tr/val_loss:  0.135525/  1.291945, tr: 100.00%, val:  89.17%, val_best:  89.17%: 100%|██████████| 62/62 [00:34<00:00,  1.80it/s]"
     ]
    },
    {
     "name": "stdout",
     "output_type": "stream",
     "text": [
      "Domain loss,acc: 0.395601, 39.84% Target domain: tr_loss-2.996359, tr_acc-48.96%\n",
      "25,000c1dTruet60:89.17% | 25,000c1dFalset60:42.50%\n"
     ]
    },
    {
     "name": "stderr",
     "output_type": "stream",
     "text": [
      "\n",
      "epoch-97  lr=['0.0001000'], tr/val_loss:  0.127204/  1.346860, tr: 100.00%, val:  89.17%, val_best:  89.17%: 100%|██████████| 62/62 [00:34<00:00,  1.81it/s]"
     ]
    },
    {
     "name": "stdout",
     "output_type": "stream",
     "text": [
      "Domain loss,acc: 0.402415, 42.90% Target domain: tr_loss-3.154521, tr_acc-54.17%\n",
      "25,000c1dTruet60:89.17% | 25,000c1dFalset60:40.00%\n"
     ]
    },
    {
     "name": "stderr",
     "output_type": "stream",
     "text": [
      "\n",
      "epoch-98  lr=['0.0001000'], tr/val_loss:  0.122434/  1.339927, tr: 100.00%, val:  89.17%, val_best:  89.17%: 100%|██████████| 62/62 [00:34<00:00,  1.81it/s]"
     ]
    },
    {
     "name": "stdout",
     "output_type": "stream",
     "text": [
      "Domain loss,acc: 0.403916, 43.51% Target domain: tr_loss-3.218740, tr_acc-51.04%\n",
      "25,000c1dTruet60:89.17% | 25,000c1dFalset60:36.67%\n"
     ]
    },
    {
     "name": "stderr",
     "output_type": "stream",
     "text": [
      "\n",
      "epoch-99  lr=['0.0001000'], tr/val_loss:  0.121471/  1.371751, tr: 100.00%, val:  88.33%, val_best:  89.17%: 100%|██████████| 62/62 [00:34<00:00,  1.82it/s]"
     ]
    },
    {
     "name": "stdout",
     "output_type": "stream",
     "text": [
      "Domain loss,acc: 0.374321, 41.78% Target domain: tr_loss-2.902824, tr_acc-50.00%\n",
      "25,000c1dTruet60:88.33% | 25,000c1dFalset60:40.42%\n"
     ]
    },
    {
     "name": "stderr",
     "output_type": "stream",
     "text": [
      "\n",
      "epoch-100 lr=['0.0001000'], tr/val_loss:  0.132055/  1.408084, tr: 100.00%, val:  87.50%, val_best:  89.17%: 100%|██████████| 62/62 [00:34<00:00,  1.81it/s]"
     ]
    },
    {
     "name": "stdout",
     "output_type": "stream",
     "text": [
      "Domain loss,acc: 0.360417, 42.29% Target domain: tr_loss-2.644037, tr_acc-58.33%\n",
      "25,000c1dTruet60:87.50% | 25,000c1dFalset60:41.25%\n"
     ]
    },
    {
     "name": "stderr",
     "output_type": "stream",
     "text": [
      "\n",
      "epoch-101 lr=['0.0001000'], tr/val_loss:  0.118703/  1.363139, tr: 100.00%, val:  85.00%, val_best:  89.17%: 100%|██████████| 62/62 [00:34<00:00,  1.79it/s]"
     ]
    },
    {
     "name": "stdout",
     "output_type": "stream",
     "text": [
      "Domain loss,acc: 0.327822, 41.47% Target domain: tr_loss-2.419012, tr_acc-63.54%\n",
      "25,000c1dTruet60:85.00% | 25,000c1dFalset60:40.00%\n"
     ]
    },
    {
     "name": "stderr",
     "output_type": "stream",
     "text": [
      "\n",
      "epoch-102 lr=['0.0001000'], tr/val_loss:  0.112608/  1.353287, tr: 100.00%, val:  87.50%, val_best:  89.17%: 100%|██████████| 62/62 [00:34<00:00,  1.78it/s]"
     ]
    },
    {
     "name": "stdout",
     "output_type": "stream",
     "text": [
      "Domain loss,acc: 0.371506, 41.47% Target domain: tr_loss-2.960490, tr_acc-54.17%\n",
      "25,000c1dTruet60:87.50% | 25,000c1dFalset60:43.75%\n"
     ]
    },
    {
     "name": "stderr",
     "output_type": "stream",
     "text": [
      "\n",
      "epoch-103 lr=['0.0001000'], tr/val_loss:  0.108879/  1.379550, tr: 100.00%, val:  85.83%, val_best:  89.17%: 100%|██████████| 62/62 [00:34<00:00,  1.81it/s]"
     ]
    },
    {
     "name": "stdout",
     "output_type": "stream",
     "text": [
      "Domain loss,acc: 0.374597, 42.29% Target domain: tr_loss-3.031776, tr_acc-52.08%\n",
      "25,000c1dTruet60:85.83% | 25,000c1dFalset60:35.00%\n"
     ]
    },
    {
     "name": "stderr",
     "output_type": "stream",
     "text": [
      "\n",
      "epoch-104 lr=['0.0001000'], tr/val_loss:  0.110811/  1.403900, tr: 100.00%, val:  86.67%, val_best:  89.17%: 100%|██████████| 62/62 [00:34<00:00,  1.82it/s]"
     ]
    },
    {
     "name": "stdout",
     "output_type": "stream",
     "text": [
      "Domain loss,acc: 0.380375, 42.19% Target domain: tr_loss-3.076022, tr_acc-52.08%\n",
      "25,000c1dTruet60:86.67% | 25,000c1dFalset60:36.67%\n"
     ]
    },
    {
     "name": "stderr",
     "output_type": "stream",
     "text": [
      "\n",
      "epoch-105 lr=['0.0001000'], tr/val_loss:  0.130765/  1.363001, tr:  99.77%, val:  89.58%, val_best:  89.58%: 100%|██████████| 62/62 [00:33<00:00,  1.86it/s]"
     ]
    },
    {
     "name": "stdout",
     "output_type": "stream",
     "text": [
      "Domain loss,acc: 0.372770, 42.39% Target domain: tr_loss-2.792810, tr_acc-56.25%\n",
      "25,000c1dTruet60:89.58% | 25,000c1dFalset60:44.17%\n"
     ]
    },
    {
     "name": "stderr",
     "output_type": "stream",
     "text": [
      "\n",
      "epoch-106 lr=['0.0001000'], tr/val_loss:  0.107155/  1.353043, tr: 100.00%, val:  88.75%, val_best:  89.58%: 100%|██████████| 62/62 [00:34<00:00,  1.81it/s]"
     ]
    },
    {
     "name": "stdout",
     "output_type": "stream",
     "text": [
      "Domain loss,acc: 0.371283, 42.80% Target domain: tr_loss-3.012560, tr_acc-56.25%\n",
      "25,000c1dTruet60:88.75% | 25,000c1dFalset60:40.42%\n"
     ]
    },
    {
     "name": "stderr",
     "output_type": "stream",
     "text": [
      "\n",
      "epoch-107 lr=['0.0001000'], tr/val_loss:  0.103473/  1.364543, tr: 100.00%, val:  87.92%, val_best:  89.58%: 100%|██████████| 62/62 [00:34<00:00,  1.82it/s]"
     ]
    },
    {
     "name": "stdout",
     "output_type": "stream",
     "text": [
      "Domain loss,acc: 0.341899, 42.70% Target domain: tr_loss-2.726154, tr_acc-53.12%\n",
      "25,000c1dTruet60:87.92% | 25,000c1dFalset60:44.58%\n"
     ]
    },
    {
     "name": "stderr",
     "output_type": "stream",
     "text": [
      "\n",
      "epoch-108 lr=['0.0001000'], tr/val_loss:  0.099277/  1.396302, tr: 100.00%, val:  86.67%, val_best:  89.58%: 100%|██████████| 62/62 [00:33<00:00,  1.84it/s]"
     ]
    },
    {
     "name": "stdout",
     "output_type": "stream",
     "text": [
      "Domain loss,acc: 0.326191, 42.80% Target domain: tr_loss-2.595335, tr_acc-57.29%\n",
      "25,000c1dTruet60:86.67% | 25,000c1dFalset60:37.08%\n"
     ]
    },
    {
     "name": "stderr",
     "output_type": "stream",
     "text": [
      "\n",
      "epoch-109 lr=['0.0001000'], tr/val_loss:  0.098423/  1.390868, tr: 100.00%, val:  87.50%, val_best:  89.58%: 100%|██████████| 62/62 [00:34<00:00,  1.80it/s]"
     ]
    },
    {
     "name": "stdout",
     "output_type": "stream",
     "text": [
      "Domain loss,acc: 0.367445, 42.29% Target domain: tr_loss-3.057661, tr_acc-54.17%\n",
      "25,000c1dTruet60:87.50% | 25,000c1dFalset60:39.17%\n"
     ]
    },
    {
     "name": "stderr",
     "output_type": "stream",
     "text": [
      "\n",
      "epoch-110 lr=['0.0001000'], tr/val_loss:  0.092815/  1.374706, tr: 100.00%, val:  88.33%, val_best:  89.58%: 100%|██████████| 62/62 [00:34<00:00,  1.80it/s]"
     ]
    },
    {
     "name": "stdout",
     "output_type": "stream",
     "text": [
      "Domain loss,acc: 0.321542, 43.11% Target domain: tr_loss-2.608815, tr_acc-63.54%\n",
      "25,000c1dTruet60:88.33% | 25,000c1dFalset60:45.83%\n"
     ]
    },
    {
     "name": "stderr",
     "output_type": "stream",
     "text": [
      "\n",
      "epoch-111 lr=['0.0001000'], tr/val_loss:  0.092757/  1.401695, tr: 100.00%, val:  87.92%, val_best:  89.58%: 100%|██████████| 62/62 [00:33<00:00,  1.84it/s]"
     ]
    },
    {
     "name": "stdout",
     "output_type": "stream",
     "text": [
      "Domain loss,acc: 0.351147, 43.41% Target domain: tr_loss-2.935047, tr_acc-60.42%\n",
      "25,000c1dTruet60:87.92% | 25,000c1dFalset60:44.17%\n"
     ]
    },
    {
     "name": "stderr",
     "output_type": "stream",
     "text": [
      "\n",
      "epoch-112 lr=['0.0001000'], tr/val_loss:  0.089532/  1.380587, tr: 100.00%, val:  87.92%, val_best:  89.58%: 100%|██████████| 62/62 [00:33<00:00,  1.85it/s]"
     ]
    },
    {
     "name": "stdout",
     "output_type": "stream",
     "text": [
      "Domain loss,acc: 0.380351, 42.29% Target domain: tr_loss-3.288543, tr_acc-52.08%\n",
      "25,000c1dTruet60:87.92% | 25,000c1dFalset60:44.17%\n"
     ]
    },
    {
     "name": "stderr",
     "output_type": "stream",
     "text": [
      "\n",
      "epoch-113 lr=['0.0001000'], tr/val_loss:  0.089222/  1.378417, tr: 100.00%, val:  88.33%, val_best:  89.58%: 100%|██████████| 62/62 [00:34<00:00,  1.82it/s]"
     ]
    },
    {
     "name": "stdout",
     "output_type": "stream",
     "text": [
      "Domain loss,acc: 0.368447, 42.08% Target domain: tr_loss-3.160694, tr_acc-47.92%\n",
      "25,000c1dTruet60:88.33% | 25,000c1dFalset60:44.17%\n"
     ]
    },
    {
     "name": "stderr",
     "output_type": "stream",
     "text": [
      "\n",
      "epoch-114 lr=['0.0001000'], tr/val_loss:  0.092191/  1.397460, tr: 100.00%, val:  88.75%, val_best:  89.58%: 100%|██████████| 62/62 [00:34<00:00,  1.81it/s]"
     ]
    },
    {
     "name": "stdout",
     "output_type": "stream",
     "text": [
      "Domain loss,acc: 0.368003, 43.00% Target domain: tr_loss-3.126124, tr_acc-56.25%\n",
      "25,000c1dTruet60:88.75% | 25,000c1dFalset60:40.42%\n"
     ]
    },
    {
     "name": "stderr",
     "output_type": "stream",
     "text": [
      "\n",
      "epoch-115 lr=['0.0001000'], tr/val_loss:  0.088298/  1.420209, tr: 100.00%, val:  88.33%, val_best:  89.58%: 100%|██████████| 62/62 [00:34<00:00,  1.81it/s]"
     ]
    },
    {
     "name": "stdout",
     "output_type": "stream",
     "text": [
      "Domain loss,acc: 0.348220, 40.45% Target domain: tr_loss-2.947438, tr_acc-60.42%\n",
      "25,000c1dTruet60:88.33% | 25,000c1dFalset60:41.67%\n"
     ]
    },
    {
     "name": "stderr",
     "output_type": "stream",
     "text": [
      "\n",
      "epoch-116 lr=['0.0001000'], tr/val_loss:  0.083540/  1.425606, tr: 100.00%, val:  89.17%, val_best:  89.58%: 100%|██████████| 62/62 [00:33<00:00,  1.83it/s]"
     ]
    },
    {
     "name": "stdout",
     "output_type": "stream",
     "text": [
      "Domain loss,acc: 0.367346, 42.08% Target domain: tr_loss-3.205401, tr_acc-51.04%\n",
      "25,000c1dTruet60:89.17% | 25,000c1dFalset60:40.42%\n"
     ]
    },
    {
     "name": "stderr",
     "output_type": "stream",
     "text": [
      "\n",
      "epoch-117 lr=['0.0001000'], tr/val_loss:  0.079455/  1.439082, tr: 100.00%, val:  87.92%, val_best:  89.58%: 100%|██████████| 62/62 [00:34<00:00,  1.82it/s]"
     ]
    },
    {
     "name": "stdout",
     "output_type": "stream",
     "text": [
      "Domain loss,acc: 0.356831, 41.88% Target domain: tr_loss-3.130594, tr_acc-52.08%\n",
      "25,000c1dTruet60:87.92% | 25,000c1dFalset60:42.50%\n"
     ]
    },
    {
     "name": "stderr",
     "output_type": "stream",
     "text": [
      "\n",
      "epoch-118 lr=['0.0001000'], tr/val_loss:  0.078305/  1.420469, tr: 100.00%, val:  88.33%, val_best:  89.58%: 100%|██████████| 62/62 [00:34<00:00,  1.80it/s]"
     ]
    },
    {
     "name": "stdout",
     "output_type": "stream",
     "text": [
      "Domain loss,acc: 0.357819, 41.57% Target domain: tr_loss-3.152956, tr_acc-53.12%\n",
      "25,000c1dTruet60:88.33% | 25,000c1dFalset60:40.42%\n"
     ]
    },
    {
     "name": "stderr",
     "output_type": "stream",
     "text": [
      "\n",
      "epoch-119 lr=['0.0001000'], tr/val_loss:  0.074318/  1.438608, tr: 100.00%, val:  87.50%, val_best:  89.58%: 100%|██████████| 62/62 [00:34<00:00,  1.80it/s]"
     ]
    },
    {
     "name": "stdout",
     "output_type": "stream",
     "text": [
      "Domain loss,acc: 0.343532, 41.88% Target domain: tr_loss-3.035663, tr_acc-53.12%\n",
      "25,000c1dTruet60:87.50% | 25,000c1dFalset60:46.25%\n"
     ]
    },
    {
     "name": "stderr",
     "output_type": "stream",
     "text": [
      "\n",
      "epoch-120 lr=['0.0001000'], tr/val_loss:  0.072301/  1.430904, tr: 100.00%, val:  87.92%, val_best:  89.58%: 100%|██████████| 62/62 [00:33<00:00,  1.82it/s]"
     ]
    },
    {
     "name": "stdout",
     "output_type": "stream",
     "text": [
      "Domain loss,acc: 0.311371, 41.68% Target domain: tr_loss-2.702073, tr_acc-57.29%\n",
      "25,000c1dTruet60:87.92% | 25,000c1dFalset60:43.33%\n"
     ]
    },
    {
     "name": "stderr",
     "output_type": "stream",
     "text": [
      "\n",
      "epoch-121 lr=['0.0001000'], tr/val_loss:  0.070882/  1.435784, tr: 100.00%, val:  87.50%, val_best:  89.58%: 100%|██████████| 62/62 [00:33<00:00,  1.83it/s]"
     ]
    },
    {
     "name": "stdout",
     "output_type": "stream",
     "text": [
      "Domain loss,acc: 0.320622, 41.27% Target domain: tr_loss-2.818014, tr_acc-59.38%\n",
      "25,000c1dTruet60:87.50% | 25,000c1dFalset60:45.00%\n"
     ]
    },
    {
     "name": "stderr",
     "output_type": "stream",
     "text": [
      "\n",
      "epoch-122 lr=['0.0001000'], tr/val_loss:  0.072307/  1.444533, tr: 100.00%, val:  88.33%, val_best:  89.58%: 100%|██████████| 62/62 [00:34<00:00,  1.78it/s]"
     ]
    },
    {
     "name": "stdout",
     "output_type": "stream",
     "text": [
      "Domain loss,acc: 0.309262, 40.65% Target domain: tr_loss-2.678814, tr_acc-62.50%\n",
      "25,000c1dTruet60:88.33% | 25,000c1dFalset60:40.00%\n"
     ]
    },
    {
     "name": "stderr",
     "output_type": "stream",
     "text": [
      "\n",
      "epoch-123 lr=['0.0001000'], tr/val_loss:  0.069516/  1.472608, tr: 100.00%, val:  88.75%, val_best:  89.58%: 100%|██████████| 62/62 [00:33<00:00,  1.83it/s]"
     ]
    },
    {
     "name": "stdout",
     "output_type": "stream",
     "text": [
      "Domain loss,acc: 0.318552, 40.25% Target domain: tr_loss-2.808910, tr_acc-55.21%\n",
      "25,000c1dTruet60:88.75% | 25,000c1dFalset60:40.00%\n"
     ]
    },
    {
     "name": "stderr",
     "output_type": "stream",
     "text": [
      "\n",
      "epoch-124 lr=['0.0001000'], tr/val_loss:  0.073025/  1.460383, tr: 100.00%, val:  87.92%, val_best:  89.58%: 100%|██████████| 62/62 [00:33<00:00,  1.83it/s]"
     ]
    },
    {
     "name": "stdout",
     "output_type": "stream",
     "text": [
      "Domain loss,acc: 0.381782, 40.55% Target domain: tr_loss-3.469352, tr_acc-52.08%\n",
      "25,000c1dTruet60:87.92% | 25,000c1dFalset60:45.83%\n"
     ]
    },
    {
     "name": "stderr",
     "output_type": "stream",
     "text": [
      "\n",
      "epoch-125 lr=['0.0001000'], tr/val_loss:  0.069147/  1.454472, tr: 100.00%, val:  89.17%, val_best:  89.58%: 100%|██████████| 62/62 [00:33<00:00,  1.83it/s]"
     ]
    },
    {
     "name": "stdout",
     "output_type": "stream",
     "text": [
      "Domain loss,acc: 0.348625, 39.43% Target domain: tr_loss-3.143408, tr_acc-57.29%\n",
      "25,000c1dTruet60:89.17% | 25,000c1dFalset60:42.50%\n"
     ]
    },
    {
     "name": "stderr",
     "output_type": "stream",
     "text": [
      "\n",
      "epoch-126 lr=['0.0001000'], tr/val_loss:  0.064148/  1.450012, tr: 100.00%, val:  88.75%, val_best:  89.58%: 100%|██████████| 62/62 [00:34<00:00,  1.81it/s]"
     ]
    },
    {
     "name": "stdout",
     "output_type": "stream",
     "text": [
      "Domain loss,acc: 0.332676, 39.63% Target domain: tr_loss-3.017956, tr_acc-59.38%\n",
      "25,000c1dTruet60:88.75% | 25,000c1dFalset60:44.17%\n"
     ]
    },
    {
     "name": "stderr",
     "output_type": "stream",
     "text": [
      "\n",
      "epoch-127 lr=['0.0001000'], tr/val_loss:  0.063877/  1.465922, tr: 100.00%, val:  89.17%, val_best:  89.58%: 100%|██████████| 62/62 [00:34<00:00,  1.81it/s]"
     ]
    },
    {
     "name": "stdout",
     "output_type": "stream",
     "text": [
      "Domain loss,acc: 0.326926, 41.68% Target domain: tr_loss-2.957410, tr_acc-58.33%\n",
      "25,000c1dTruet60:89.17% | 25,000c1dFalset60:47.08%\n"
     ]
    },
    {
     "name": "stderr",
     "output_type": "stream",
     "text": [
      "\n",
      "epoch-128 lr=['0.0001000'], tr/val_loss:  0.061590/  1.488002, tr: 100.00%, val:  87.50%, val_best:  89.58%: 100%|██████████| 62/62 [00:34<00:00,  1.79it/s]"
     ]
    },
    {
     "name": "stdout",
     "output_type": "stream",
     "text": [
      "Domain loss,acc: 0.345096, 40.65% Target domain: tr_loss-3.180161, tr_acc-53.12%\n",
      "25,000c1dTruet60:87.50% | 25,000c1dFalset60:47.50%\n"
     ]
    },
    {
     "name": "stderr",
     "output_type": "stream",
     "text": [
      "\n",
      "epoch-129 lr=['0.0001000'], tr/val_loss:  0.060017/  1.496729, tr: 100.00%, val:  87.92%, val_best:  89.58%: 100%|██████████| 62/62 [00:34<00:00,  1.79it/s]"
     ]
    },
    {
     "name": "stdout",
     "output_type": "stream",
     "text": [
      "Domain loss,acc: 0.314272, 41.16% Target domain: tr_loss-2.856816, tr_acc-55.21%\n",
      "25,000c1dTruet60:87.92% | 25,000c1dFalset60:40.83%\n"
     ]
    },
    {
     "name": "stderr",
     "output_type": "stream",
     "text": [
      "\n",
      "epoch-130 lr=['0.0001000'], tr/val_loss:  0.058486/  1.501382, tr: 100.00%, val:  88.33%, val_best:  89.58%: 100%|██████████| 62/62 [00:34<00:00,  1.78it/s]"
     ]
    },
    {
     "name": "stdout",
     "output_type": "stream",
     "text": [
      "Domain loss,acc: 0.354393, 41.88% Target domain: tr_loss-3.313465, tr_acc-55.21%\n",
      "25,000c1dTruet60:88.33% | 25,000c1dFalset60:42.92%\n"
     ]
    },
    {
     "name": "stderr",
     "output_type": "stream",
     "text": [
      "\n",
      "epoch-131 lr=['0.0001000'], tr/val_loss:  0.055665/  1.501840, tr: 100.00%, val:  87.92%, val_best:  89.58%: 100%|██████████| 62/62 [00:34<00:00,  1.81it/s]"
     ]
    },
    {
     "name": "stdout",
     "output_type": "stream",
     "text": [
      "Domain loss,acc: 0.300744, 40.14% Target domain: tr_loss-2.751535, tr_acc-62.50%\n",
      "25,000c1dTruet60:87.92% | 25,000c1dFalset60:44.58%\n"
     ]
    },
    {
     "name": "stderr",
     "output_type": "stream",
     "text": [
      "\n",
      "epoch-132 lr=['0.0001000'], tr/val_loss:  0.055078/  1.488088, tr: 100.00%, val:  88.33%, val_best:  89.58%: 100%|██████████| 62/62 [00:33<00:00,  1.84it/s]"
     ]
    },
    {
     "name": "stdout",
     "output_type": "stream",
     "text": [
      "Domain loss,acc: 0.330550, 41.37% Target domain: tr_loss-3.085275, tr_acc-58.33%\n",
      "25,000c1dTruet60:88.33% | 25,000c1dFalset60:43.75%\n"
     ]
    },
    {
     "name": "stderr",
     "output_type": "stream",
     "text": [
      "\n",
      "epoch-133 lr=['0.0001000'], tr/val_loss:  0.053749/  1.498521, tr: 100.00%, val:  87.50%, val_best:  89.58%: 100%|██████████| 62/62 [00:34<00:00,  1.81it/s]"
     ]
    },
    {
     "name": "stdout",
     "output_type": "stream",
     "text": [
      "Domain loss,acc: 0.319244, 40.86% Target domain: tr_loss-2.974194, tr_acc-63.54%\n",
      "25,000c1dTruet60:87.50% | 25,000c1dFalset60:45.00%\n"
     ]
    },
    {
     "name": "stderr",
     "output_type": "stream",
     "text": [
      "\n",
      "epoch-134 lr=['0.0001000'], tr/val_loss:  0.054597/  1.508127, tr: 100.00%, val:  88.75%, val_best:  89.58%: 100%|██████████| 62/62 [00:34<00:00,  1.80it/s]"
     ]
    },
    {
     "name": "stdout",
     "output_type": "stream",
     "text": [
      "Domain loss,acc: 0.292903, 40.86% Target domain: tr_loss-2.675955, tr_acc-66.67%\n",
      "25,000c1dTruet60:88.75% | 25,000c1dFalset60:41.67%\n"
     ]
    },
    {
     "name": "stderr",
     "output_type": "stream",
     "text": [
      "\n",
      "epoch-135 lr=['0.0001000'], tr/val_loss:  0.053878/  1.523479, tr: 100.00%, val:  88.33%, val_best:  89.58%: 100%|██████████| 62/62 [00:34<00:00,  1.82it/s]"
     ]
    },
    {
     "name": "stdout",
     "output_type": "stream",
     "text": [
      "Domain loss,acc: 0.324882, 40.86% Target domain: tr_loss-3.034924, tr_acc-62.50%\n",
      "25,000c1dTruet60:88.33% | 25,000c1dFalset60:42.92%\n"
     ]
    },
    {
     "name": "stderr",
     "output_type": "stream",
     "text": [
      "\n",
      "epoch-136 lr=['0.0001000'], tr/val_loss:  0.050649/  1.521594, tr: 100.00%, val:  87.92%, val_best:  89.58%: 100%|██████████| 62/62 [00:34<00:00,  1.81it/s]"
     ]
    },
    {
     "name": "stdout",
     "output_type": "stream",
     "text": [
      "Domain loss,acc: 0.334324, 40.76% Target domain: tr_loss-3.171073, tr_acc-59.38%\n",
      "25,000c1dTruet60:87.92% | 25,000c1dFalset60:43.75%\n"
     ]
    },
    {
     "name": "stderr",
     "output_type": "stream",
     "text": [
      "\n",
      "epoch-137 lr=['0.0001000'], tr/val_loss:  0.050301/  1.529097, tr: 100.00%, val:  87.50%, val_best:  89.58%: 100%|██████████| 62/62 [00:34<00:00,  1.81it/s]"
     ]
    },
    {
     "name": "stdout",
     "output_type": "stream",
     "text": [
      "Domain loss,acc: 0.363288, 42.39% Target domain: tr_loss-3.493156, tr_acc-57.29%\n",
      "25,000c1dTruet60:87.50% | 25,000c1dFalset60:44.17%\n"
     ]
    },
    {
     "name": "stderr",
     "output_type": "stream",
     "text": [
      "\n",
      "epoch-138 lr=['0.0001000'], tr/val_loss:  0.049636/  1.518752, tr: 100.00%, val:  87.92%, val_best:  89.58%: 100%|██████████| 62/62 [00:34<00:00,  1.79it/s]"
     ]
    },
    {
     "name": "stdout",
     "output_type": "stream",
     "text": [
      "Domain loss,acc: 0.324682, 42.19% Target domain: tr_loss-3.075135, tr_acc-55.21%\n",
      "25,000c1dTruet60:87.92% | 25,000c1dFalset60:45.00%\n"
     ]
    },
    {
     "name": "stderr",
     "output_type": "stream",
     "text": [
      "\n",
      "epoch-139 lr=['0.0001000'], tr/val_loss:  0.049372/  1.530663, tr: 100.00%, val:  87.50%, val_best:  89.58%: 100%|██████████| 62/62 [00:33<00:00,  1.84it/s]"
     ]
    },
    {
     "name": "stdout",
     "output_type": "stream",
     "text": [
      "Domain loss,acc: 0.339198, 41.16% Target domain: tr_loss-3.237455, tr_acc-57.29%\n",
      "25,000c1dTruet60:87.50% | 25,000c1dFalset60:45.42%\n"
     ]
    },
    {
     "name": "stderr",
     "output_type": "stream",
     "text": [
      "\n",
      "epoch-140 lr=['0.0001000'], tr/val_loss:  0.046657/  1.533084, tr: 100.00%, val:  88.33%, val_best:  89.58%: 100%|██████████| 62/62 [00:34<00:00,  1.80it/s]"
     ]
    },
    {
     "name": "stdout",
     "output_type": "stream",
     "text": [
      "Domain loss,acc: 0.319309, 40.14% Target domain: tr_loss-3.045831, tr_acc-61.46%\n",
      "25,000c1dTruet60:88.33% | 25,000c1dFalset60:42.50%\n"
     ]
    },
    {
     "name": "stderr",
     "output_type": "stream",
     "text": [
      "\n",
      "epoch-141 lr=['0.0001000'], tr/val_loss:  0.044577/  1.531856, tr: 100.00%, val:  87.50%, val_best:  89.58%: 100%|██████████| 62/62 [00:34<00:00,  1.81it/s]"
     ]
    },
    {
     "name": "stdout",
     "output_type": "stream",
     "text": [
      "Domain loss,acc: 0.295854, 41.68% Target domain: tr_loss-2.808618, tr_acc-63.54%\n",
      "25,000c1dTruet60:87.50% | 25,000c1dFalset60:44.58%\n"
     ]
    },
    {
     "name": "stderr",
     "output_type": "stream",
     "text": [
      "\n",
      "epoch-142 lr=['0.0001000'], tr/val_loss:  0.042614/  1.544253, tr: 100.00%, val:  88.33%, val_best:  89.58%: 100%|██████████| 62/62 [00:34<00:00,  1.80it/s]"
     ]
    },
    {
     "name": "stdout",
     "output_type": "stream",
     "text": [
      "Domain loss,acc: 0.374680, 41.16% Target domain: tr_loss-3.695333, tr_acc-52.08%\n",
      "25,000c1dTruet60:88.33% | 25,000c1dFalset60:42.92%\n"
     ]
    },
    {
     "name": "stderr",
     "output_type": "stream",
     "text": [
      "\n",
      "epoch-143 lr=['0.0001000'], tr/val_loss:  0.042680/  1.555739, tr: 100.00%, val:  88.75%, val_best:  89.58%: 100%|██████████| 62/62 [00:34<00:00,  1.80it/s]"
     ]
    },
    {
     "name": "stdout",
     "output_type": "stream",
     "text": [
      "Domain loss,acc: 0.322094, 41.06% Target domain: tr_loss-3.116232, tr_acc-59.38%\n",
      "25,000c1dTruet60:88.75% | 25,000c1dFalset60:41.67%\n"
     ]
    },
    {
     "name": "stderr",
     "output_type": "stream",
     "text": [
      "\n",
      "epoch-144 lr=['0.0001000'], tr/val_loss:  0.043200/  1.552742, tr: 100.00%, val:  89.17%, val_best:  89.58%: 100%|██████████| 62/62 [00:33<00:00,  1.85it/s]"
     ]
    },
    {
     "name": "stdout",
     "output_type": "stream",
     "text": [
      "Domain loss,acc: 0.331209, 41.78% Target domain: tr_loss-3.211298, tr_acc-57.29%\n",
      "25,000c1dTruet60:89.17% | 25,000c1dFalset60:45.00%\n"
     ]
    },
    {
     "name": "stderr",
     "output_type": "stream",
     "text": [
      "\n",
      "epoch-145 lr=['0.0001000'], tr/val_loss:  0.043005/  1.572934, tr: 100.00%, val:  87.92%, val_best:  89.58%: 100%|██████████| 62/62 [00:34<00:00,  1.78it/s]"
     ]
    },
    {
     "name": "stdout",
     "output_type": "stream",
     "text": [
      "Domain loss,acc: 0.319649, 40.25% Target domain: tr_loss-3.086098, tr_acc-62.50%\n",
      "25,000c1dTruet60:87.92% | 25,000c1dFalset60:42.50%\n"
     ]
    },
    {
     "name": "stderr",
     "output_type": "stream",
     "text": [
      "\n",
      "epoch-146 lr=['0.0001000'], tr/val_loss:  0.044502/  1.555852, tr: 100.00%, val:  87.50%, val_best:  89.58%: 100%|██████████| 62/62 [00:34<00:00,  1.79it/s]"
     ]
    },
    {
     "name": "stdout",
     "output_type": "stream",
     "text": [
      "Domain loss,acc: 0.391312, 41.06% Target domain: tr_loss-3.859407, tr_acc-47.92%\n",
      "25,000c1dTruet60:87.50% | 25,000c1dFalset60:47.92%\n"
     ]
    },
    {
     "name": "stderr",
     "output_type": "stream",
     "text": [
      "\n",
      "epoch-147 lr=['0.0001000'], tr/val_loss:  0.041532/  1.575500, tr: 100.00%, val:  87.92%, val_best:  89.58%: 100%|██████████| 62/62 [00:34<00:00,  1.81it/s]"
     ]
    },
    {
     "name": "stdout",
     "output_type": "stream",
     "text": [
      "Domain loss,acc: 0.336790, 41.57% Target domain: tr_loss-3.289366, tr_acc-59.38%\n",
      "25,000c1dTruet60:87.92% | 25,000c1dFalset60:44.58%\n"
     ]
    },
    {
     "name": "stderr",
     "output_type": "stream",
     "text": [
      "\n",
      "epoch-148 lr=['0.0001000'], tr/val_loss:  0.040181/  1.599863, tr: 100.00%, val:  89.58%, val_best:  89.58%: 100%|██████████| 62/62 [00:34<00:00,  1.82it/s]"
     ]
    },
    {
     "name": "stdout",
     "output_type": "stream",
     "text": [
      "Domain loss,acc: 0.302168, 42.59% Target domain: tr_loss-2.922039, tr_acc-61.46%\n",
      "25,000c1dTruet60:89.58% | 25,000c1dFalset60:44.17%\n"
     ]
    },
    {
     "name": "stderr",
     "output_type": "stream",
     "text": [
      "\n",
      "epoch-149 lr=['0.0001000'], tr/val_loss:  0.038992/  1.567906, tr: 100.00%, val:  87.08%, val_best:  89.58%: 100%|██████████| 62/62 [00:32<00:00,  1.90it/s]"
     ]
    },
    {
     "name": "stdout",
     "output_type": "stream",
     "text": [
      "Domain loss,acc: 0.309367, 41.06% Target domain: tr_loss-3.013122, tr_acc-60.42%\n",
      "25,000c1dTruet60:87.08% | 25,000c1dFalset60:46.25%\n"
     ]
    },
    {
     "name": "stderr",
     "output_type": "stream",
     "text": [
      "\n",
      "epoch-150 lr=['0.0001000'], tr/val_loss:  0.036643/  1.580704, tr: 100.00%, val:  88.33%, val_best:  89.58%: 100%|██████████| 62/62 [00:34<00:00,  1.82it/s]"
     ]
    },
    {
     "name": "stdout",
     "output_type": "stream",
     "text": [
      "Domain loss,acc: 0.334127, 42.80% Target domain: tr_loss-3.308964, tr_acc-58.33%\n",
      "25,000c1dTruet60:88.33% | 25,000c1dFalset60:45.42%\n"
     ]
    },
    {
     "name": "stderr",
     "output_type": "stream",
     "text": [
      "\n",
      "epoch-151 lr=['0.0001000'], tr/val_loss:  0.037948/  1.595534, tr: 100.00%, val:  87.92%, val_best:  89.58%: 100%|██████████| 62/62 [00:34<00:00,  1.78it/s]"
     ]
    },
    {
     "name": "stdout",
     "output_type": "stream",
     "text": [
      "Domain loss,acc: 0.313161, 41.16% Target domain: tr_loss-3.065287, tr_acc-57.29%\n",
      "25,000c1dTruet60:87.92% | 25,000c1dFalset60:43.33%\n"
     ]
    },
    {
     "name": "stderr",
     "output_type": "stream",
     "text": [
      "\n",
      "epoch-152 lr=['0.0001000'], tr/val_loss:  0.034895/  1.607231, tr: 100.00%, val:  87.92%, val_best:  89.58%: 100%|██████████| 62/62 [00:33<00:00,  1.83it/s]"
     ]
    },
    {
     "name": "stdout",
     "output_type": "stream",
     "text": [
      "Domain loss,acc: 0.321323, 41.88% Target domain: tr_loss-3.185599, tr_acc-59.38%\n",
      "25,000c1dTruet60:87.92% | 25,000c1dFalset60:45.00%\n"
     ]
    },
    {
     "name": "stderr",
     "output_type": "stream",
     "text": [
      "\n",
      "epoch-153 lr=['0.0001000'], tr/val_loss:  0.034430/  1.598974, tr: 100.00%, val:  88.33%, val_best:  89.58%: 100%|██████████| 62/62 [00:34<00:00,  1.79it/s]"
     ]
    },
    {
     "name": "stdout",
     "output_type": "stream",
     "text": [
      "Domain loss,acc: 0.289946, 40.86% Target domain: tr_loss-2.845102, tr_acc-68.75%\n",
      "25,000c1dTruet60:88.33% | 25,000c1dFalset60:42.50%\n"
     ]
    },
    {
     "name": "stderr",
     "output_type": "stream",
     "text": [
      "\n",
      "epoch-154 lr=['0.0001000'], tr/val_loss:  0.035311/  1.598639, tr: 100.00%, val:  87.50%, val_best:  89.58%: 100%|██████████| 62/62 [00:34<00:00,  1.81it/s]"
     ]
    },
    {
     "name": "stdout",
     "output_type": "stream",
     "text": [
      "Domain loss,acc: 0.341814, 41.88% Target domain: tr_loss-3.406845, tr_acc-51.04%\n",
      "25,000c1dTruet60:87.50% | 25,000c1dFalset60:45.83%\n"
     ]
    },
    {
     "name": "stderr",
     "output_type": "stream",
     "text": [
      "\n",
      "epoch-155 lr=['0.0001000'], tr/val_loss:  0.036285/  1.603559, tr: 100.00%, val:  88.75%, val_best:  89.58%: 100%|██████████| 62/62 [00:34<00:00,  1.81it/s]"
     ]
    },
    {
     "name": "stdout",
     "output_type": "stream",
     "text": [
      "Domain loss,acc: 0.323757, 40.76% Target domain: tr_loss-3.198471, tr_acc-60.42%\n",
      "25,000c1dTruet60:88.75% | 25,000c1dFalset60:44.58%\n"
     ]
    },
    {
     "name": "stderr",
     "output_type": "stream",
     "text": [
      "\n",
      "epoch-156 lr=['0.0001000'], tr/val_loss:  0.034250/  1.604461, tr: 100.00%, val:  87.92%, val_best:  89.58%: 100%|██████████| 62/62 [00:33<00:00,  1.83it/s]"
     ]
    },
    {
     "name": "stdout",
     "output_type": "stream",
     "text": [
      "Domain loss,acc: 0.279168, 41.88% Target domain: tr_loss-2.728352, tr_acc-69.79%\n",
      "25,000c1dTruet60:87.92% | 25,000c1dFalset60:47.50%\n"
     ]
    },
    {
     "name": "stderr",
     "output_type": "stream",
     "text": [
      "\n",
      "epoch-157 lr=['0.0001000'], tr/val_loss:  0.032218/  1.600759, tr: 100.00%, val:  88.33%, val_best:  89.58%: 100%|██████████| 62/62 [00:34<00:00,  1.81it/s]"
     ]
    },
    {
     "name": "stdout",
     "output_type": "stream",
     "text": [
      "Domain loss,acc: 0.290452, 40.65% Target domain: tr_loss-2.872797, tr_acc-66.67%\n",
      "25,000c1dTruet60:88.33% | 25,000c1dFalset60:45.83%\n"
     ]
    },
    {
     "name": "stderr",
     "output_type": "stream",
     "text": [
      "\n",
      "epoch-158 lr=['0.0001000'], tr/val_loss:  0.033059/  1.616395, tr: 100.00%, val:  87.92%, val_best:  89.58%: 100%|██████████| 62/62 [00:34<00:00,  1.79it/s]"
     ]
    },
    {
     "name": "stdout",
     "output_type": "stream",
     "text": [
      "Domain loss,acc: 0.304728, 41.78% Target domain: tr_loss-3.021424, tr_acc-62.50%\n",
      "25,000c1dTruet60:87.92% | 25,000c1dFalset60:47.50%\n"
     ]
    },
    {
     "name": "stderr",
     "output_type": "stream",
     "text": [
      "\n",
      "epoch-159 lr=['0.0001000'], tr/val_loss:  0.031985/  1.627614, tr: 100.00%, val:  87.50%, val_best:  89.58%: 100%|██████████| 62/62 [00:33<00:00,  1.85it/s]"
     ]
    },
    {
     "name": "stdout",
     "output_type": "stream",
     "text": [
      "Domain loss,acc: 0.302135, 41.16% Target domain: tr_loss-3.003636, tr_acc-64.58%\n",
      "25,000c1dTruet60:87.50% | 25,000c1dFalset60:44.58%\n"
     ]
    },
    {
     "name": "stderr",
     "output_type": "stream",
     "text": [
      "\n",
      "epoch-160 lr=['0.0001000'], tr/val_loss:  0.033389/  1.614207, tr: 100.00%, val:  87.92%, val_best:  89.58%: 100%|██████████| 62/62 [00:34<00:00,  1.82it/s]"
     ]
    },
    {
     "name": "stdout",
     "output_type": "stream",
     "text": [
      "Domain loss,acc: 0.324901, 42.19% Target domain: tr_loss-3.240029, tr_acc-55.21%\n",
      "25,000c1dTruet60:87.92% | 25,000c1dFalset60:45.42%\n"
     ]
    },
    {
     "name": "stderr",
     "output_type": "stream",
     "text": [
      "\n",
      "epoch-161 lr=['0.0001000'], tr/val_loss:  0.032103/  1.622424, tr: 100.00%, val:  87.92%, val_best:  89.58%: 100%|██████████| 62/62 [00:34<00:00,  1.81it/s]"
     ]
    },
    {
     "name": "stdout",
     "output_type": "stream",
     "text": [
      "Domain loss,acc: 0.312822, 40.45% Target domain: tr_loss-3.120008, tr_acc-58.33%\n",
      "25,000c1dTruet60:87.92% | 25,000c1dFalset60:45.42%\n"
     ]
    },
    {
     "name": "stderr",
     "output_type": "stream",
     "text": [
      "\n",
      "epoch-162 lr=['0.0001000'], tr/val_loss:  0.031848/  1.643779, tr: 100.00%, val:  88.33%, val_best:  89.58%: 100%|██████████| 62/62 [00:34<00:00,  1.80it/s]"
     ]
    },
    {
     "name": "stdout",
     "output_type": "stream",
     "text": [
      "Domain loss,acc: 0.334837, 41.47% Target domain: tr_loss-3.364730, tr_acc-60.42%\n",
      "25,000c1dTruet60:88.33% | 25,000c1dFalset60:41.25%\n"
     ]
    },
    {
     "name": "stderr",
     "output_type": "stream",
     "text": [
      "\n",
      "epoch-163 lr=['0.0001000'], tr/val_loss:  0.030816/  1.645361, tr: 100.00%, val:  87.50%, val_best:  89.58%: 100%|██████████| 62/62 [00:34<00:00,  1.78it/s]"
     ]
    },
    {
     "name": "stdout",
     "output_type": "stream",
     "text": [
      "Domain loss,acc: 0.311141, 40.45% Target domain: tr_loss-3.114387, tr_acc-65.62%\n",
      "25,000c1dTruet60:87.50% | 25,000c1dFalset60:44.58%\n"
     ]
    },
    {
     "name": "stderr",
     "output_type": "stream",
     "text": [
      "\n",
      "epoch-164 lr=['0.0001000'], tr/val_loss:  0.028457/  1.649159, tr: 100.00%, val:  88.33%, val_best:  89.58%: 100%|██████████| 62/62 [00:33<00:00,  1.83it/s]"
     ]
    },
    {
     "name": "stdout",
     "output_type": "stream",
     "text": [
      "Domain loss,acc: 0.372605, 41.16% Target domain: tr_loss-3.814082, tr_acc-50.00%\n",
      "25,000c1dTruet60:88.33% | 25,000c1dFalset60:42.08%\n"
     ]
    },
    {
     "name": "stderr",
     "output_type": "stream",
     "text": [
      "\n",
      "epoch-165 lr=['0.0001000'], tr/val_loss:  0.028370/  1.650265, tr: 100.00%, val:  87.50%, val_best:  89.58%: 100%|██████████| 62/62 [00:34<00:00,  1.77it/s]"
     ]
    },
    {
     "name": "stdout",
     "output_type": "stream",
     "text": [
      "Domain loss,acc: 0.297002, 40.86% Target domain: tr_loss-2.983320, tr_acc-62.50%\n",
      "25,000c1dTruet60:87.50% | 25,000c1dFalset60:45.42%\n"
     ]
    },
    {
     "name": "stderr",
     "output_type": "stream",
     "text": [
      "\n",
      "epoch-166 iter_acc: 100.00%, lr=['0.0001000'], iter_loss:  0.021276, val_best:  89.58%:  13%|█▎        | 8/62 [00:03<00:22,  2.36it/s]"
     ]
    }
   ],
   "source": [
    "### my_snn control board (Gesture) ########################\n",
    "decay = 0.25 # 0.875 0.25 0.125 0.75 0.5\n",
    "# nda 0.25 # ottt 0.5\n",
    "const2 = False # trace 할거면 True, 안할거면 False\n",
    "\n",
    "unique_name = 'main' ## 이거 설정하면 새로운 경로에 모두 save\n",
    "run_name = 'main' ## 이거 설정하면 새로운 경로에 모두 save\n",
    "\n",
    "if const2 == True:\n",
    "    const2 = decay\n",
    "else:\n",
    "    const2 = 0.0\n",
    "\n",
    "wandb.init(project= f'my_snn {unique_name}',save_code=True)\n",
    "\n",
    "my_snn_system(  devices = \"2\",\n",
    "                single_step = True, # True # False\n",
    "                unique_name = run_name,\n",
    "                my_seed = 42,\n",
    "                TIME = 60, # dvscifar 10 # ottt 6 or 10 # nda 10  # 제작하는 dvs에서 TIME넘거나 적으면 자르거나 PADDING함\n",
    "                BATCH = 16, # batch norm 할거면 2이상으로 해야함   # nda 256   #  ottt 128\n",
    "                IMAGE_SIZE = 128, # dvscifar 48 # MNIST 28 # CIFAR10 32 # PMNIST 28 #NMNIST 34 # GESTURE 128\n",
    "                # dvsgesture 128, dvs_cifar2 128, nmnist 34, n_caltech101 180,240, n_tidigits 64, heidelberg 700, \n",
    "                #pmnist는 28로 해야 됨. 나머지는 바꿔도 돌아는 감.\n",
    "\n",
    "                # DVS_CIFAR10 할거면 time 10으로 해라\n",
    "                which_data = 'DVS_GESTURE_TONIC',\n",
    "# 'CIFAR100' 'CIFAR10' 'MNIST' 'FASHION_MNIST' 'DVS_CIFAR10' 'PMNIST'아직\n",
    "# 'DVS_GESTURE', 'DVS_GESTURE_TONIC','DVS_CIFAR10_2','NMNIST','NMNIST_TONIC','CIFAR10','N_CALTECH101','n_tidigits','heidelberg'\n",
    "                # CLASS_NUM = 10,\n",
    "                data_path = '/data2', # YOU NEED TO CHANGE THIS\n",
    "                rate_coding = False, # True # False\n",
    "                lif_layer_v_init = 0.0,\n",
    "                lif_layer_v_decay = decay,\n",
    "                lif_layer_v_threshold = 0.720291189014991, # 1.3102821334243646,  # 10000이상으로 하면 NDA LIF 씀. #nda 0.5  #ottt 1.0\n",
    "                lif_layer_v_reset = 10000, # 10000이상은 hardreset (내 LIF쓰기는 함 ㅇㅇ)\n",
    "                lif_layer_sg_width = 3.555718888923306, # 2.570969004857107 # sigmoid류에서는 alpha값 4.0, rectangle류에서는 width값 0.5\n",
    "\n",
    "                # synapse_conv_in_channels = IMAGE_PIXEL_CHANNEL,\n",
    "                synapse_conv_kernel_size = 3,\n",
    "                synapse_conv_stride = 1,\n",
    "                synapse_conv_padding = 1,\n",
    "                synapse_conv_trace_const1 = 1, # 현재 trace구할 때 현재 spike에 곱해지는 상수. 걍 1로 두셈.\n",
    "                synapse_conv_trace_const2 = const2, # 현재 trace구할 때 직전 trace에 곱해지는 상수. lif_layer_v_decay와 같게 할 것을 추천\n",
    "\n",
    "                # synapse_fc_out_features = CLASS_NUM,\n",
    "                synapse_fc_trace_const1 = 1, # 현재 trace구할 때 현재 spike에 곱해지는 상수. 걍 1로 두셈.\n",
    "                synapse_fc_trace_const2 = const2, # 현재 trace구할 때 직전 trace에 곱해지는 상수. lif_layer_v_decay와 같게 할 것을 추천\n",
    "\n",
    "                pre_trained = False, # True # False\n",
    "                convTrue_fcFalse = False, # True # False\n",
    "\n",
    "                # 'P' for average pooling, 'D' for (1,1) aver pooling, 'M' for maxpooling, 'L' for linear classifier, [  ] for residual block\n",
    "                # conv에서 10000 이상은 depth-wise separable (BPTT만 지원), 20000이상은 depth-wise (BPTT만 지원)\n",
    "                # cfg = [64, 64],\n",
    "                # cfg = [64, 124, 64, 124],\n",
    "                # cfg = ['M','M',512], \n",
    "                # cfg = [512], \n",
    "                # cfg = ['M', 'M', 64, 128, 'P', 128, 'P'], \n",
    "                # cfg = ['M','M',512],\n",
    "                # cfg = ['M',200],\n",
    "                # cfg = [200,200],\n",
    "                # cfg = ['M','M',200,200],\n",
    "                # cfg = ([200],[200],[200],[2]), # (feature extractor, classifier, domain adapter, # of domain)\n",
    "                cfg = (['M','M',200],[200],[200],[2]), # (feature extractor, classifier, domain adapter, # of domain)\n",
    "                # cfg = ['M',200,200],\n",
    "                # cfg = ['M','M',1024,512,256,128,64],\n",
    "                # cfg = [200,200],\n",
    "                # cfg = [12], #fc\n",
    "                # cfg = [12, 'M', 48, 'M', 12], \n",
    "                # cfg = [64,[64,64],64], # 끝에 linear classifier 하나 자동으로 붙습니다\n",
    "                # cfg = [64, 128, 'P', 256, 256, 'P', 512, 512, 'P', 512, 512, 'D'], #ottt\n",
    "                # cfg = [64, 128, 'P', 256, 256, 'P', 512, 512, 'P', 512, 512], \n",
    "                # cfg = [64, 128, 'M', 256, 256, 'M', 512, 512, 'M', 512, 512], \n",
    "                # cfg = [64, 'P', 128, 'P', 256, 256, 'P', 512, 512, 512, 512, 'D'], # nda\n",
    "                # cfg = [64, 'P', 128, 'P', 256, 256, 'P', 512, 512, 512, 512], # nda 128pixel\n",
    "                # cfg = [64, 'P', 128, 'P', 256, 256, 'P', 512, 512, 512, 512, 'L', 4096, 4096],\n",
    "                # cfg = [20001,10001], # depthwise, separable\n",
    "                # cfg = [64,20064,10001], # vanilla conv, depthwise, separable\n",
    "                # cfg = [8, 'P', 8, 'P', 8, 'P', 8,'P', 8, 'P'],\n",
    "                # cfg = [],        \n",
    "                \n",
    "                net_print = True, # True # False # True로 하길 추천\n",
    "                weight_count_print = False, # True # False\n",
    "                \n",
    "                pre_trained_path = f\"net_save/save_now_net_weights_{unique_name}.pth\",\n",
    "                learning_rate = 0.0001, #0.1 bptt, #0.01 ottt, # default 0.001  # ottt 0.1 # nda 0.001 # 0.00936191669529645\n",
    "                epoch_num = 300,\n",
    "                verbose_interval = 999999999, #이거 걍 건들지마셈 #숫자 크게 하면 꺼짐 #걍 중간중간 iter에서 끊어서 출력\n",
    "                validation_interval =  999999999,#999999999, #이거 걍 건들지마셈 #숫자 크게 하면 에포크 마지막 iter 때 val 함\n",
    "\n",
    "                tdBN_on = False,  # True # False\n",
    "                BN_on = False,  # True # False\n",
    "                \n",
    "                surrogate = 'hard_sigmoid', # 'sigmoid' 'rectangle' 'rough_rectangle' 'hard_sigmoid'\n",
    "                \n",
    "                gradient_verbose = False,  # True # False  # weight gradient 각 layer마다 띄워줌\n",
    "\n",
    "                BPTT_on = False,  # True # False # True이면 BPTT, False이면 OTTT  # depthwise, separable은 BPTT만 가능\n",
    "                optimizer_what = 'SGD', # 'SGD' 'Adam', 'RMSprop'\n",
    "                scheduler_name = 'no', # 'no' 'StepLR' 'ExponentialLR' 'ReduceLROnPlateau' 'CosineAnnealingLR' 'OneCycleLR'\n",
    "                \n",
    "                ddp_on = False,   # True # False \n",
    "                # 지원 DATASET: cifar10, mnist\n",
    "\n",
    "                nda_net = False,   # True # False\n",
    "\n",
    "                domain_il_epoch = 0, # over 0, then domain il mode on # pmnist 쓸거면 HLOP 코드보고 더 디벨롭하셈. 지금 개발 hold함.\n",
    "                \n",
    "                dvs_clipping = 1, #일반적으로 1 또는 2 # 100ms때는 5 # 숫자만큼 크면 spike 아니면 걍 0\n",
    "                # gesture, cifar-dvs2, nmnist, ncaltech101\n",
    "                # gesture: 100_000c1-5, 25_000c5, 10_000c5, 1_000c5, 1_000_000c5\n",
    "\n",
    "                dvs_duration = 25_000, # 0 아니면 time sampling # dvs number sampling OR time sampling # gesture, cifar-dvs2, nmnist, ncaltech101\n",
    "                # 있는 데이터들 #gesture 100_000 25_000 10_000 1_000 1_000_000 #nmnist 10000 #nmnist_tonic 10_000 25_000\n",
    "                # 한 숫자가 1us인듯 (spikingjelly코드에서)\n",
    "                # 한 장에 50 timestep만 생산함. 싫으면 my_snn/trying/spikingjelly_dvsgesture의__init__.py 를 참고해봐\n",
    "                # nmnist 5_000us, gesture는 100_000us, 25_000us\n",
    "\n",
    "                OTTT_sWS_on = False, # True # False # BPTT끄고, CONV에만 적용됨.\n",
    "\n",
    "                DFA_on = False, # True # False # residual은 dfa지원안함.\n",
    "                OTTT_input_trace_on = False, # True # False # 맨 처음 input에 trace 적용\n",
    "                 \n",
    "                e_transport_swap = 0, # 1 이상이면 해당 숫자 에포크만큼 val_acc_best가 변화가 없으면 e_transport scheme (BP vs DFA) swap\n",
    "                e_transport_swap_tr = 0, # 1 이상이면 해당 숫자 에포크만큼 tr_acc_best가 변화가 없으면 e_transport scheme (BP vs DFA) swap\n",
    "                e_transport_swap_coin = 1, # swap할 수 있는 coin 개수\n",
    "\n",
    "                drop_rate = 0, # drop_rate만큼 0으로 만듦. ex) 0.2면 activation의 20%를 0으로 만듦.\n",
    "\n",
    "                exclude_class = True, # True # False # gesture에서 10번째 클래스 제외\n",
    "\n",
    "                merge_polarities = False, # True # False # tonic dvs dataset 에서 polarities 합치기\n",
    "                denoise_on = True, # True # False\n",
    "\n",
    "                I_wanna_sweep_at_this_epoch = -1, # 지정 에포크에서 BP와 DFA를 바꿔줌. -1이면 실행 안함.\n",
    "                # dvs_duration_domain=[(100_000,5,False),(125_000,5,False),(150_000,5,False),],\n",
    "                # dvs_duration_domain=[(40_000,4,False),(50_000,4,False),(60_000,4,False),],\n",
    "                # [duration, clipping, denoise_on]\n",
    "                dvs_duration_domain=[(25_000,1,False)],\n",
    "                dvs_relative_timestep = False, # True # False \n",
    "                \n",
    "                extra_train_dataset = 0,\n",
    "\n",
    "                num_workers = 2, # local wsl에서는 2가 맞고, 서버에서는 4가 좋더라.\n",
    "                chaching_on = True, # True # False # only for certain datasets (gesture_tonic, nmnist_tonic)\n",
    "                pin_memory = True, # True # False \n",
    "\n",
    "                UDA_on = True, # True # False\n",
    "                UDA_data = (25_000,1,False), # (duration, clipping, denoise_on)\n",
    "                src_trg_ratio = 10, # (1이상의 정수) src data와 trg data의 개수 비율 (대략적으로)\n",
    "                adapter_loss_weight = 0, # 1.0  # adapter loss의 힘. # 이걸 0으로하면 src only learning.\n",
    "                ) \n",
    "\n",
    "# num_workers = 4 * num_GPU (or 8, 16, 2 * num_GPU)\n",
    "# entry * batch_size * num_worker = num_GPU * GPU_throughtput\n",
    "# num_workers = batch_size / num_GPU\n",
    "# num_workers = batch_size / num_CPU\n",
    "\n",
    "# sigmoid와 BN이 있어야 잘된다.\n",
    "# average pooling  \n",
    "# 이 낫다. \n",
    " \n",
    "# nda에서는 decay = 0.25, threshold = 0.5, width =1, surrogate = rectangle, batch = 256, tdBN = True\n",
    "## OTTT 에서는 decay = 0.5, threshold = 1.0, surrogate = sigmoid, batch = 128, BN = True\n",
    "\n",
    "\n",
    "# DDP 실행 코드0\n",
    "'''\n",
    "ddp_on 키고, gpu 개수 만큼 batch size 나눠줘\n",
    "CUDA_VISIBLE_DEVICES=0,1,2,3,4,5 python -m torch.distributed.launch --nproc_per_node=6 main_ddp.py\n",
    "CUDA_VISIBLE_DEVICES=1,2,3 python -m torch.distributed.launch --nproc_per_node=3 main_ddp.py\n",
    "CUDA_VISIBLE_DEVICES=0,1,2,3 python -m torch.distributed.launch --nproc_per_node=4 main_ddp.py\n",
    "'''\n",
    "\n"
   ]
  },
  {
   "cell_type": "code",
   "execution_count": null,
   "metadata": {},
   "outputs": [],
   "source": [
    "# # sweep 하는 코드, 위 셀 주석처리 해야 됨.\n",
    "\n",
    "# # 이런 워닝 뜨는 거는 걍 너가 main 안에서  wandb.config.update(hyperparameters)할 때 물려서임. 어차피 근데 sweep에서 지정한 걸로 덮어짐 \n",
    "# # wandb: WARNING Config item 'BATCH' was locked by 'sweep' (ignored update).\n",
    "\n",
    "# unique_name_hyper = 'main'\n",
    "# run_name = 'main'\n",
    "# sweep_configuration = {\n",
    "#     'method': 'random', # 'random', 'bayes'\n",
    "#     'name': f'my_snn_sweep{datetime.datetime.now().strftime(\"%Y%m%d_%H%M%S\")}',\n",
    "#     'metric': {'goal': 'maximize', 'name': 'val_acc_best'},\n",
    "#     'parameters': \n",
    "#     {\n",
    "#         \"learning_rate\": {\"values\": [0.001]}, #0.00936191669529645\n",
    "#         \"BATCH\": {\"values\": [16]},\n",
    "#         \"decay\": {\"values\": [0.25]},\n",
    "#         \"IMAGE_SIZE\": {\"values\": [128]},\n",
    "#         \"TIME\": {\"values\": [10]},\n",
    "#         \"epoch_num\": {\"values\": [200]},\n",
    "#         \"dvs_duration\": {\"values\": [25_000,50_000,100_000]},\n",
    "#         \"dvs_clipping\": {\"values\": [1,2,3,4,5]},\n",
    "#         \"which_data\": {\"values\": ['DVS_GESTURE_TONIC']},\n",
    "#         \"OTTT_sWS_on\": {\"values\": [False]},\n",
    "#         \"const2\": {\"values\": [False]},\n",
    "#         \"surrogate\": {\"values\": ['hard_sigmoid']},\n",
    "#         \"DFA_on\": {\"values\": [False]},\n",
    "#         \"OTTT_input_trace_on\": {\"values\": [False]},\n",
    "#         \"cfg\": {\"values\": [['M','M',200,200]]},\n",
    "#         \"e_transport_swap\": {\"values\": [0]},\n",
    "#         \"e_transport_swap_tr\": {\"values\": [0]},\n",
    "#         \"drop_rate\": {\"values\": [0.0]}, # \"drop_rate\": {\"values\": [0.25,0.5,0.75]}, #\"drop_rate\": {\"min\": 0.25, \"max\": 0.75},\n",
    "#         \"exclude_class\": {\"values\": [True]},\n",
    "#         \"merge_polarities\": {\"values\": [False]},\n",
    "#         \"lif_layer_v_reset\": {\"values\": [10000]},\n",
    "#         \"lif_layer_sg_width\": {\"values\": [3.555718888923306]},\n",
    "#         \"e_transport_swap_coin\": {\"values\": [1]},\n",
    "#         \"lif_layer_v_threshold\": {\"values\": [0.720291189014991]},\n",
    "#         \"scheduler_name\": {\"values\": ['no']},  # 'no' 'StepLR' 'ExponentialLR' 'ReduceLROnPlateau' 'CosineAnnealingLR' 'OneCycleLR'\n",
    "#         \"denoise_on\": {\"values\": [True,False]}, \n",
    "#         \"I_wanna_sweep_at_this_epoch\": {\"values\": [-1]}, \n",
    "#         \"dvs_duration_domain\": {\"values\": [[]]}, \n",
    "#         \"dvs_relative_timestep\": {\"values\": [[False]]}, \n",
    "#         \"extra_train_dataset\": {\"values\": [0]}, \n",
    "#      }\n",
    "# }\n",
    "\n",
    "# def hyper_iter():\n",
    "#     ### my_snn control board ########################\n",
    "#     unique_name = unique_name_hyper ## 이거 설정하면 새로운 경로에 모두 save\n",
    "    \n",
    "#     wandb.init(save_code = True)\n",
    "#     learning_rate  =  wandb.config.learning_rate\n",
    "#     BATCH  =  wandb.config.BATCH\n",
    "#     decay  =  wandb.config.decay\n",
    "#     IMAGE_SIZE  =  wandb.config.IMAGE_SIZE\n",
    "#     TIME  =  wandb.config.TIME\n",
    "#     epoch_num  =  wandb.config.epoch_num \n",
    "#     dvs_duration  =  wandb.config.dvs_duration\n",
    "#     dvs_clipping  =  wandb.config.dvs_clipping\n",
    "#     which_data  =  wandb.config.which_data\n",
    "#     OTTT_sWS_on  =  wandb.config.OTTT_sWS_on\n",
    "#     const2  =  wandb.config.const2\n",
    "#     surrogate  =  wandb.config.surrogate\n",
    "#     DFA_on  =  wandb.config.DFA_on\n",
    "#     OTTT_input_trace_on  =  wandb.config.OTTT_input_trace_on\n",
    "#     cfg  =  wandb.config.cfg\n",
    "#     e_transport_swap  =  wandb.config.e_transport_swap\n",
    "#     e_transport_swap_tr  =  wandb.config.e_transport_swap_tr\n",
    "#     drop_rate  =  wandb.config.drop_rate\n",
    "#     exclude_class  =  wandb.config.exclude_class\n",
    "#     merge_polarities  =  wandb.config.merge_polarities\n",
    "#     lif_layer_v_reset  =  wandb.config.lif_layer_v_reset\n",
    "#     lif_layer_sg_width  =  wandb.config.lif_layer_sg_width\n",
    "#     e_transport_swap_coin  =  wandb.config.e_transport_swap_coin\n",
    "#     lif_layer_v_threshold  =  wandb.config.lif_layer_v_threshold\n",
    "#     scheduler_name  =  wandb.config.scheduler_name\n",
    "#     denoise_on  =  wandb.config.denoise_on\n",
    "#     I_wanna_sweep_at_this_epoch  =  wandb.config.I_wanna_sweep_at_this_epoch\n",
    "#     dvs_duration_domain  =  wandb.config.dvs_duration_domain\n",
    "#     dvs_relative_timestep  =  wandb.config.dvs_relative_timestep\n",
    "#     extra_train_dataset  =  wandb.config.extra_train_dataset\n",
    "#     if const2 == True:\n",
    "#         const2 = decay\n",
    "#     else:\n",
    "#         const2 = 0.0\n",
    "\n",
    "#     my_snn_system(  devices = \"5\",\n",
    "#                 single_step = True, # True # False\n",
    "#                 unique_name = run_name,\n",
    "#                 my_seed = 42,\n",
    "#                 TIME = TIME , # dvscifar 10 # ottt 6 or 10 # nda 10  # 제작하는 dvs에서 TIME넘거나 적으면 자르거나 PADDING함\n",
    "#                 BATCH = BATCH, # batch norm 할거면 2이상으로 해야함   # nda 256   #  ottt 128\n",
    "#                 IMAGE_SIZE = IMAGE_SIZE, # dvscifar 48 # MNIST 28 # CIFAR10 32 # PMNIST 28 #NMNIST 34 # GESTURE 128\n",
    "#                 # dvsgesture 128, dvs_cifar2 128, nmnist 34, n_caltech101 180,240, n_tidigits 64, heidelberg 700, \n",
    "#                 #pmnist는 28로 해야 됨. 나머지는 바꿔도 돌아는 감.\n",
    "\n",
    "#                 # DVS_CIFAR10 할거면 time 10으로 해라\n",
    "#                 which_data = which_data,\n",
    "# # 'CIFAR100' 'CIFAR10' 'MNIST' 'FASHION_MNIST' 'DVS_CIFAR10' 'PMNIST'아직\n",
    "# # 'DVS_GESTURE', 'DVS_GESTURE_TONIC','DVS_CIFAR10_2','NMNIST','NMNIST_TONIC','N_CALTECH101','n_tidigits','heidelberg'\n",
    "#                 # CLASS_NUM = 10,\n",
    "#                 data_path = '/data2', # YOU NEED TO CHANGE THIS\n",
    "#                 rate_coding = False, # True # False\n",
    "#                 lif_layer_v_init = 0.0,\n",
    "#                 lif_layer_v_decay = decay,\n",
    "#                 lif_layer_v_threshold = lif_layer_v_threshold,  # 10000이상으로 하면 NDA LIF 씀. #nda 0.5  #ottt 1.0\n",
    "#                 lif_layer_v_reset = lif_layer_v_reset, # 10000이상은 hardreset (내 LIF쓰기는 함 ㅇㅇ)\n",
    "#                 lif_layer_sg_width = lif_layer_sg_width, # # surrogate sigmoid 쓸 때는 의미없음\n",
    "\n",
    "#                 # synapse_conv_in_channels = IMAGE_PIXEL_CHANNEL,\n",
    "#                 synapse_conv_kernel_size = 3,\n",
    "#                 synapse_conv_stride = 1,\n",
    "#                 synapse_conv_padding = 1,\n",
    "#                 synapse_conv_trace_const1 = 1, # 현재 trace구할 때 현재 spike에 곱해지는 상수. 걍 1로 두셈.\n",
    "#                 synapse_conv_trace_const2 = const2, # 현재 trace구할 때 직전 trace에 곱해지는 상수. lif_layer_v_decay와 같게 할 것을 추천\n",
    "\n",
    "#                 # synapse_fc_out_features = CLASS_NUM,\n",
    "#                 synapse_fc_trace_const1 = 1, # 현재 trace구할 때 현재 spike에 곱해지는 상수. 걍 1로 두셈.\n",
    "#                 synapse_fc_trace_const2 = const2, # 현재 trace구할 때 직전 trace에 곱해지는 상수. lif_layer_v_decay와 같게 할 것을 추천\n",
    "\n",
    "#                 pre_trained = False, # True # False\n",
    "#                 convTrue_fcFalse = False, # True # False\n",
    "\n",
    "#                 # 'P' for average pooling, 'D' for (1,1) aver pooling, 'M' for maxpooling, 'L' for linear classifier, [  ] for residual block\n",
    "#                 # conv에서 10000 이상은 depth-wise separable (BPTT만 지원), 20000이상은 depth-wise (BPTT만 지원)\n",
    "#                 # cfg = [64, 64],\n",
    "#                 # cfg = [64, 124, 64, 124],\n",
    "#                 # cfg = ['M','M',512], \n",
    "#                 # cfg = [512], \n",
    "#                 # cfg = ['M', 'M', 64, 128, 'P', 128, 'P'], \n",
    "#                 # cfg = ['M','M',200,200],\n",
    "#                 # cfg = [200,200],\n",
    "#                 cfg = cfg,\n",
    "#                 # cfg = [12], #fc\n",
    "#                 # cfg = [12, 'M', 48, 'M', 12], \n",
    "#                 # cfg = [64,[64,64],64], # 끝에 linear classifier 하나 자동으로 붙습니다\n",
    "#                 # cfg = [64, 128, 'P', 256, 256, 'P', 512, 512, 'P', 512, 512, 'D'], #ottt\n",
    "#                 # cfg = [64, 128, 'P', 256, 256, 'P', 512, 512, 'P', 512, 512], \n",
    "#                 # cfg = [64, 128, 'M', 256, 256, 'M', 512, 512, 'M', 512, 512], \n",
    "#                 # cfg = [64, 'P', 128, 'P', 256, 256, 'P', 512, 512, 512, 512, 'D'], # nda\n",
    "#                 # cfg = [64, 'P', 128, 'P', 256, 256, 'P', 512, 512, 512, 512], # nda 128pixel\n",
    "#                 # cfg = [64, 'P', 128, 'P', 256, 256, 'P', 512, 512, 512, 512, 'L', 4096, 4096],\n",
    "#                 # cfg = [20001,10001], # depthwise, separable\n",
    "#                 # cfg = [64,20064,10001], # vanilla conv, depthwise, separable\n",
    "#                 # cfg = [8, 'P', 8, 'P', 8, 'P', 8,'P', 8, 'P'],\n",
    "#                 # cfg = [], \n",
    "                \n",
    "#                 net_print = True, # True # False # True로 하길 추천\n",
    "#                 weight_count_print = False, # True # False\n",
    "                \n",
    "#                 pre_trained_path = f\"net_save/save_now_net_weights_{unique_name}.pth\",\n",
    "#                 learning_rate = learning_rate, # default 0.001  # ottt 0.1 # nda 0.001 \n",
    "#                 epoch_num = epoch_num,\n",
    "#                 verbose_interval = 999999999, #숫자 크게 하면 꺼짐 #걍 중간중간 iter에서 끊어서 출력\n",
    "#                 validation_interval =  999999999,#999999999, #숫자 크게 하면 에포크 마지막 iter 때 val 함\n",
    "\n",
    "#                 tdBN_on = False,  # True # False\n",
    "#                 BN_on = False,  # True # False\n",
    "                \n",
    "#                 surrogate = surrogate, # 'rectangle' 'sigmoid' 'rough_rectangle'\n",
    "                \n",
    "#                 gradient_verbose = False,  # True # False  # weight gradient 각 layer마다 띄워줌\n",
    "\n",
    "#                 BPTT_on = False,  # True # False # True이면 BPTT, False이면 OTTT  # depthwise, separable은 BPTT만 가능\n",
    "#                 optimizer_what = 'SGD', # 'SGD' 'Adam', 'RMSprop'\n",
    "#                 scheduler_name = scheduler_name, # 'no' 'StepLR' 'ExponentialLR' 'ReduceLROnPlateau' 'CosineAnnealingLR' 'OneCycleLR'\n",
    "                \n",
    "#                 ddp_on = False,   # True # False \n",
    "#                 # 지원 DATASET: cifar10, mnist\n",
    "\n",
    "#                 nda_net = False,   # True # False\n",
    "\n",
    "#                 domain_il_epoch = 0, # over 0, then domain il mode on # pmnist 쓸거면 HLOP 코드보고 더 디벨롭하셈. 지금 개발 hold함.\n",
    "                \n",
    "#                 dvs_clipping = dvs_clipping, # 숫자만큼 크면 spike 아니면 걍 0\n",
    "#                 # gesture, cifar-dvs2, nmnist, ncaltech101\n",
    "\n",
    "#                 dvs_duration = dvs_duration, # 0 아니면 time sampling # dvs number sampling OR time sampling # gesture, cifar-dvs2, nmnist, ncaltech101\n",
    "#                 # 있는 데이터들 #gesture 100_000 25_000 10_000 1_000 1_000_000 #nmnist 10000 #nmnist_tonic 10_000 25_000\n",
    "#                 # 한 숫자가 1us인듯 (spikingjelly코드에서)\n",
    "#                 # 한 장에 50 timestep만 생산함. 싫으면 my_snn/trying/spikingjelly_dvsgesture의__init__.py 를 참고해봐\n",
    "\n",
    "#                 OTTT_sWS_on = OTTT_sWS_on, # True # False # BPTT끄고, CONV에만 적용됨.\n",
    "\n",
    "#                 DFA_on = DFA_on, # True # False # residual은 dfa지원안함.\n",
    "#                 OTTT_input_trace_on = OTTT_input_trace_on, # True # False # 맨 처음 input에 trace 적용\n",
    "                 \n",
    "#                 e_transport_swap = e_transport_swap, # 1 이상이면 해당 숫자 에포크만큼 val_acc_best가 변화가 없으면 e_transport scheme (BP vs DFA) swap\n",
    "#                 e_transport_swap_tr = e_transport_swap_tr, # 1 이상이면 해당 숫자 에포크만큼 tr_acc_best가 변화가 없으면 e_transport scheme (BP vs DFA) swap\n",
    "#                 e_transport_swap_coin = e_transport_swap_coin, # swap할 수 있는 coin 개수\n",
    "                    \n",
    "#                 drop_rate = drop_rate,\n",
    "\n",
    "#                 exclude_class = exclude_class, # True # False # gesture에서 10번째 클래스 제외\n",
    "\n",
    "#                 merge_polarities = merge_polarities, # True # False # tonic dvs dataset 에서 polarities 합치기\n",
    "#                 denoise_on = denoise_on,\n",
    "\n",
    "#                 I_wanna_sweep_at_this_epoch = I_wanna_sweep_at_this_epoch,\n",
    "#                 dvs_duration_domain = dvs_duration_domain,\n",
    "#                 dvs_relative_timestep = dvs_relative_timestep, # True # False \n",
    "\n",
    "#                 extra_train_dataset = extra_train_dataset,\n",
    "\n",
    "#                 num_workers = 2,\n",
    "#                 chaching_on = True,\n",
    "#                 pin_memory = True, # True # False\n",
    "#                     ) \n",
    "#     # sigmoid와 BN이 있어야 잘된다.\n",
    "#     # average pooling\n",
    "#     # 이 낫다. \n",
    "    \n",
    "#     # nda에서는 decay = 0.25, threshold = 0.5, width =1, surrogate = rectangle, batch = 256, tdBN = True\n",
    "#     ## OTTT 에서는 decay = 0.5, threshold = 1.0, surrogate = sigmoid, batch = 128, BN = True\n",
    "\n",
    "# sweep_id = wandb.sweep(sweep=sweep_configuration, project=f'my_snn {unique_name_hyper}')\n",
    "# wandb.agent(sweep_id, function=hyper_iter, count=10000, project=f'my_snn {unique_name_hyper}')\n"
   ]
  },
  {
   "cell_type": "code",
   "execution_count": null,
   "metadata": {},
   "outputs": [],
   "source": [
    "wandb.finish() "
   ]
  },
  {
   "cell_type": "code",
   "execution_count": null,
   "metadata": {},
   "outputs": [],
   "source": [
    "# import numpy as np\n",
    "# import matplotlib.pyplot as plt\n",
    "# import json\n",
    "# run_name = 'main_FINAL_TEST'\n",
    "\n",
    "# unique_name = run_name\n",
    "# def pad_array_to_match_length(array1, array2):\n",
    "#     if len(array1) > len(array2):\n",
    "#         padded_array2 = np.pad(array2, (0, len(array1) - len(array2)), 'constant')\n",
    "#         return array1, padded_array2\n",
    "#     elif len(array2) > len(array1):\n",
    "#         padded_array1 = np.pad(array1, (0, len(array2) - len(array1)), 'constant')\n",
    "#         return padded_array1, array2\n",
    "#     else:\n",
    "#         return array1, array2\n",
    "# def load_hyperparameters(filename=f'result_save/hyperparameters_{unique_name}.json'):\n",
    "#     with open(filename, 'r') as f:\n",
    "#         return json.load(f)\n",
    "    \n",
    "\n",
    "\n",
    "\n",
    "\n",
    "# current_time = '20240628_110116'\n",
    "# base_name = f'{current_time}'\n",
    "# iter_acc_file_name = f'result_save/{base_name}_iter_acc_array_{unique_name}.npy'\n",
    "# val_acc_file_name = f'result_save/{base_name}_val_acc_now_array_{unique_name}.npy'\n",
    "# hyperparameters_file_name = f'result_save/{base_name}_hyperparameters_{unique_name}.json'\n",
    "\n",
    "# ### if you want to just see most recent train and val acc###########################\n",
    "# iter_acc_file_name = f'result_save/iter_acc_array_{unique_name}.npy'\n",
    "# tr_acc_file_name = f'result_save/tr_acc_array_{unique_name}.npy'\n",
    "# val_acc_file_name = f'result_save/val_acc_now_array_{unique_name}.npy'\n",
    "# hyperparameters_file_name = f'result_save/hyperparameters_{unique_name}.json'\n",
    "\n",
    "# loaded_iter_acc_array = np.load(iter_acc_file_name)*100\n",
    "# loaded_tr_acc_array = np.load(tr_acc_file_name)*100\n",
    "# loaded_val_acc_array = np.load(val_acc_file_name)*100\n",
    "# hyperparameters = load_hyperparameters(hyperparameters_file_name)\n",
    "\n",
    "# loaded_iter_acc_array, loaded_val_acc_array = pad_array_to_match_length(loaded_iter_acc_array, loaded_val_acc_array)\n",
    "# loaded_iter_acc_array, loaded_tr_acc_array = pad_array_to_match_length(loaded_iter_acc_array, loaded_tr_acc_array)\n",
    "# loaded_val_acc_array, loaded_tr_acc_array = pad_array_to_match_length(loaded_val_acc_array, loaded_tr_acc_array)\n",
    "\n",
    "# top_iter_acc = np.max(loaded_iter_acc_array)\n",
    "# top_tr_acc = np.max(loaded_tr_acc_array)\n",
    "# top_val_acc = np.max(loaded_val_acc_array)\n",
    "\n",
    "# which_data = hyperparameters['which_data']\n",
    "# BPTT_on = hyperparameters['BPTT_on']\n",
    "# current_epoch = hyperparameters['current epoch']\n",
    "# surrogate = hyperparameters['surrogate']\n",
    "# cfg = hyperparameters['cfg']\n",
    "# tdBN_on = hyperparameters['tdBN_on']\n",
    "# BN_on = hyperparameters['BN_on']\n",
    "\n",
    "\n",
    "# iterations = np.arange(len(loaded_iter_acc_array))\n",
    "\n",
    "# # 그래프 그리기\n",
    "# plt.figure(figsize=(10, 5))\n",
    "# plt.plot(iterations, loaded_iter_acc_array, label='Iter Accuracy', color='g', alpha=0.2)\n",
    "# plt.plot(iterations, loaded_tr_acc_array, label='Training Accuracy', color='b')\n",
    "# plt.plot(iterations, loaded_val_acc_array, label='Validation Accuracy', color='r')\n",
    "\n",
    "# # # 텍스트 추가\n",
    "# # plt.text(0.05, 0.95, f'Top Training Accuracy: {100*top_iter_acc:.2f}%', transform=plt.gca().transAxes, fontsize=12, verticalalignment='top', horizontalalignment='left', color='blue')\n",
    "# # plt.text(0.05, 0.90, f'Top Validation Accuracy: {100*top_val_acc:.2f}%', transform=plt.gca().transAxes, fontsize=12, verticalalignment='top', horizontalalignment='left', color='red')\n",
    "# # 텍스트 추가\n",
    "# plt.text(0.5, 0.10, f'Top Training Accuracy: {top_tr_acc:.2f}%', transform=plt.gca().transAxes, fontsize=12, verticalalignment='top', horizontalalignment='center', color='blue')\n",
    "# plt.text(0.5, 0.05, f'Top Validation Accuracy: {top_val_acc:.2f}%', transform=plt.gca().transAxes, fontsize=12, verticalalignment='top', horizontalalignment='center', color='red')\n",
    "\n",
    "# plt.xlabel('Iterations')\n",
    "# plt.ylabel('Accuracy [%]')\n",
    "\n",
    "# # 그래프 제목에 하이퍼파라미터 정보 추가\n",
    "# title = f'Training and Validation Accuracy over Iterations\\n\\nData: {which_data}, BPTT: {\"On\" if BPTT_on else \"Off\"}, Current Epoch: {current_epoch}, Surrogate: {surrogate},\\nCFG: {cfg}, tdBN: {\"On\" if tdBN_on else \"Off\"}, BN: {\"On\" if BN_on else \"Off\"}'\n",
    "\n",
    "# plt.title(title)\n",
    "\n",
    "# plt.legend(loc='lower right')\n",
    "# plt.xlim(0)  # x축을 0부터 시작\n",
    "# plt.grid(True)\n",
    "# plt.show()"
   ]
  }
 ],
 "metadata": {
  "kernelspec": {
   "display_name": "aedat2",
   "language": "python",
   "name": "python3"
  },
  "language_info": {
   "codemirror_mode": {
    "name": "ipython",
    "version": 3
   },
   "file_extension": ".py",
   "mimetype": "text/x-python",
   "name": "python",
   "nbconvert_exporter": "python",
   "pygments_lexer": "ipython3",
   "version": "3.8.18"
  }
 },
 "nbformat": 4,
 "nbformat_minor": 2
}
