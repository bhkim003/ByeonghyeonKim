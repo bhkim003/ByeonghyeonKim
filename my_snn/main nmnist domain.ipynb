{
 "cells": [
  {
   "cell_type": "code",
   "execution_count": 1,
   "metadata": {},
   "outputs": [],
   "source": [
    "# Copyright (c) 2024 Byeonghyeon Kim \n",
    "# github site: https://github.com/bhkim003/ByeonghyeonKim\n",
    "# email: bhkim003@snu.ac.kr\n",
    " \n",
    "# Permission is hereby granted, free of charge, to any person obtaining a copy of\n",
    "# this software and associated documentation files (the \"Software\"), to deal in\n",
    "# the Software without restriction, including without limitation the rights to\n",
    "# use, copy, modify, merge, publish, distribute, sublicense, and/or sell copies of\n",
    "# the Software, and to permit persons to whom the Software is furnished to do so,\n",
    "# subject to the following conditions:\n",
    " \n",
    "# The above copyright notice and this permission notice shall be included in all\n",
    "# copies or substantial portions of the Software.\n",
    " \n",
    "# THE SOFTWARE IS PROVIDED \"AS IS\", WITHOUT WARRANTY OF ANY KIND, EXPRESS OR\n",
    "# IMPLIED, INCLUDING BUT NOT LIMITED TO THE WARRANTIES OF MERCHANTABILITY, FITNESS\n",
    "# FOR A PARTICULAR PURPOSE AND NONINFRINGEMENT. IN NO EVENT SHALL THE AUTHORS OR\n",
    "# COPYRIGHT HOLDERS BE LIABLE FOR ANY CLAIM, DAMAGES OR OTHER LIABILITY, WHETHER\n",
    "# IN AN ACTION OF CONTRACT, TORT OR OTHERWISE, ARISING FROM, OUT OF OR IN\n",
    "# CONNECTION WITH THE SOFTWARE OR THE USE OR OTHER DEALINGS IN THE SOFTWARE.\n"
   ]
  },
  {
   "cell_type": "code",
   "execution_count": 2,
   "metadata": {},
   "outputs": [
    {
     "name": "stderr",
     "output_type": "stream",
     "text": [
      "/tmp/ipykernel_19399/3914466541.py:46: DeprecationWarning: The module snntorch.spikevision is deprecated. For loading neuromorphic datasets, we recommend using the Tonic project: https://github.com/neuromorphs/tonic\n",
      "  from snntorch.spikevision import spikedata\n"
     ]
    }
   ],
   "source": [
    "import sys\n",
    "import os\n",
    "import argparse\n",
    "import torch\n",
    "import torch.nn as nn\n",
    "import torch.nn.functional as F\n",
    "import torch.backends.cudnn as cudnn\n",
    "import torch.optim as optim\n",
    "import torch.optim.lr_scheduler as lr_scheduler\n",
    "from torch.utils.data import Dataset, DataLoader\n",
    "\n",
    "import torchvision\n",
    "import torchvision.datasets\n",
    "import torchvision.transforms as transforms\n",
    "\n",
    "import numpy as np\n",
    "import matplotlib.pyplot as plt\n",
    "\n",
    "import time\n",
    "\n",
    "from snntorch import spikegen\n",
    "import matplotlib.pyplot as plt\n",
    "import snntorch.spikeplot as splt\n",
    "from IPython.display import HTML\n",
    "\n",
    "from tqdm import tqdm\n",
    "\n",
    "from apex.parallel import DistributedDataParallel as DDP\n",
    "\n",
    "import random\n",
    "import datetime\n",
    "\n",
    "import json\n",
    "\n",
    "from sklearn.utils import shuffle\n",
    "\n",
    "''' 레퍼런스\n",
    "https://spikingjelly.readthedocs.io/zh-cn/0.0.0.0.4/spikingjelly.datasets.html#module-spikingjelly.datasets\n",
    "https://github.com/GorkaAbad/Sneaky-Spikes/blob/main/datasets.py\n",
    "https://github.com/GorkaAbad/Sneaky-Spikes/blob/main/how_to.md\n",
    "https://github.com/nmi-lab/torchneuromorphic\n",
    "https://snntorch.readthedocs.io/en/latest/snntorch.spikevision.spikedata.html#shd\n",
    "'''\n",
    "\n",
    "import snntorch\n",
    "from snntorch.spikevision import spikedata\n",
    "\n",
    "from spikingjelly.datasets.dvs128_gesture import DVS128Gesture\n",
    "from spikingjelly.datasets.cifar10_dvs import CIFAR10DVS\n",
    "from spikingjelly.datasets.n_mnist import NMNIST\n",
    "# from spikingjelly.datasets.es_imagenet import ESImageNet\n",
    "from spikingjelly.datasets import split_to_train_test_set\n",
    "from spikingjelly.datasets.n_caltech101 import NCaltech101\n",
    "from spikingjelly.datasets import pad_sequence_collate, padded_sequence_mask\n",
    "\n",
    "import torchneuromorphic\n",
    "\n",
    "import wandb\n",
    "\n",
    "from torchviz import make_dot\n",
    "import graphviz"
   ]
  },
  {
   "cell_type": "code",
   "execution_count": 3,
   "metadata": {},
   "outputs": [
    {
     "data": {
      "image/png": "[encoded data removed]",
      "text/plain": [
       "<Figure size 800x600 with 2 Axes>"
      ]
     },
     "metadata": {},
     "output_type": "display_data"
    }
   ],
   "source": [
    "# my module import\n",
    "from modules import *\n",
    "\n",
    "# modules 폴더에 새모듈.py 만들면\n",
    "# modules/__init__py 파일에 form .새모듈 import * 하셈\n",
    "# 그리고 새모듈.py에서 from modules.새모듈 import * 하셈\n"
   ]
  },
  {
   "cell_type": "code",
   "execution_count": 4,
   "metadata": {},
   "outputs": [],
   "source": [
    "def my_snn_system(devices = \"0,1,2,3\",\n",
    "                    single_step = False, # True # False\n",
    "                    unique_name = 'main',\n",
    "                    my_seed = 42,\n",
    "                    TIME = 10,\n",
    "                    BATCH = 256,\n",
    "                    IMAGE_SIZE = 32,\n",
    "                    which_data = 'CIFAR10',\n",
    "                    # CLASS_NUM = 10,\n",
    "                    data_path = '/data2',\n",
    "                    rate_coding = True,\n",
    "    \n",
    "                    lif_layer_v_init = 0.0,\n",
    "                    lif_layer_v_decay = 0.6,\n",
    "                    lif_layer_v_threshold = 1.2,\n",
    "                    lif_layer_v_reset = 0.0,\n",
    "                    lif_layer_sg_width = 1,\n",
    "\n",
    "                    # synapse_conv_in_channels = IMAGE_PIXEL_CHANNEL,\n",
    "                    synapse_conv_kernel_size = 3,\n",
    "                    synapse_conv_stride = 1,\n",
    "                    synapse_conv_padding = 1,\n",
    "                    synapse_conv_trace_const1 = 1,\n",
    "                    synapse_conv_trace_const2 = 0.6,\n",
    "\n",
    "                    # synapse_fc_out_features = CLASS_NUM,\n",
    "                    synapse_fc_trace_const1 = 1,\n",
    "                    synapse_fc_trace_const2 = 0.6,\n",
    "\n",
    "                    pre_trained = False,\n",
    "                    convTrue_fcFalse = True,\n",
    "                    cfg = [64, 64],\n",
    "                    net_print = False, # True # False\n",
    "                    weight_count_print = False, # True # False\n",
    "                    pre_trained_path = \"net_save/save_now_net.pth\",\n",
    "                    learning_rate = 0.0001,\n",
    "                    epoch_num = 200,\n",
    "                    verbose_interval = 100, #숫자 크게 하면 꺼짐\n",
    "                    validation_interval = 10, #숫자 크게 하면 꺼짐\n",
    "                    tdBN_on = False,\n",
    "                    BN_on = False,\n",
    "\n",
    "                    surrogate = 'sigmoid',\n",
    "\n",
    "                    gradient_verbose = False,\n",
    "\n",
    "                    BPTT_on = False,\n",
    "\n",
    "                    optimizer_what = 'SGD', # 'SGD' 'Adam', 'RMSprop'\n",
    "                    scheduler_name = 'no',\n",
    "                    \n",
    "                    ddp_on = True,\n",
    "\n",
    "                    nda_net = False,\n",
    "                    \n",
    "                    domain_il_epoch = 0, # over 0, then domain il mode on\n",
    "\n",
    "                    dvs_clipping = 1, \n",
    "                    dvs_duration = 10005,\n",
    "\n",
    "                    OTTT_sWS_on = True, # True # False\n",
    "\n",
    "                    DFA_on = False, # True # False\n",
    "                    OTTT_input_trace_on = False, # True # False\n",
    "                 \n",
    "                    e_transport_swap = 5, # 1 이상이면 해당 숫자 에포크만큼 val_acc_best가 변화가 없으면 e_transport scheme (BP vs DFA) swap\n",
    "                    e_transport_swap_tr = 0, # 1 이상이면 해당 숫자 에포크만큼 val_acc_best가 변화가 없으면 e_transport scheme (BP vs DFA) swap\n",
    "                    e_transport_swap_coin = 0, # swap할 수 있는 coin 개수\n",
    "\n",
    "                    drop_rate = 0.5, \n",
    "\n",
    "                    exclude_class = True, # True # False # gesture에서 10번째 클래스 제외\n",
    "\n",
    "                    merge_polarities = True, # True # False # tonic dvs dataset 에서 polarities 합치기\n",
    "                    denoise_on = True, \n",
    "\n",
    "                    I_wanna_sweep_at_this_epoch = -1,\n",
    "                    dvs_duration_domain = [],\n",
    "                  ):\n",
    "    ## hyperparameter check #############################################################\n",
    "    if OTTT_sWS_on == True:\n",
    "        assert BPTT_on == False and tdBN_on == False and BN_on == False\n",
    "        if convTrue_fcFalse == False:\n",
    "            assert single_step == True\n",
    "    if single_step == True:\n",
    "        assert BPTT_on == False and tdBN_on == False \n",
    "    if tdBN_on == True:\n",
    "        assert BPTT_on == True\n",
    "    if pre_trained == True:\n",
    "        print('\\n\\n')\n",
    "        print(\"Caution! pre_trained is True\\n\\n\"*3)    \n",
    "    if DFA_on == True:\n",
    "        assert single_step == True and BPTT_on == False and any(isinstance(item, list) for item in cfg) == False\n",
    "    if OTTT_input_trace_on == True:\n",
    "        assert BPTT_on == False and single_step == True\n",
    "    ######################################################################################\n",
    "\n",
    "\n",
    "    ## 함수 내 모든 로컬 변수 저장 ########################################################\n",
    "    hyperparameters = locals()\n",
    "    hyperparameters['current epoch'] = 0\n",
    "    ######################################################################################\n",
    "    \n",
    "    args_gpu = None\n",
    "    ## DDP settting ######################################################################\n",
    "    if (ddp_on == True):\n",
    "        parser = argparse.ArgumentParser(description='my_snn CIFAR10 Training')\n",
    "\n",
    "        # # local_rank는 command line에서 따로 줄 필요는 없지만, 선언은 필요\n",
    "        parser.add_argument(\"--local_rank\", default=0, type=int)\n",
    "\n",
    "        args = parser.parse_args() # 이거 적어줘야됨. parser argument선언하고\n",
    "\n",
    "        args.gpu = args.local_rank\n",
    "        args_gpu = args.gpu\n",
    "        torch.cuda.set_device(args.gpu)\n",
    "        torch.distributed.init_process_group(backend=\"nccl\", init_method=\"env://\")\n",
    "        args.world_size = torch.distributed.get_world_size()\n",
    "    #######################################################################################\n",
    "\n",
    "\n",
    "    ## wandb 세팅 ###################################################################\n",
    "    current_time = datetime.datetime.now().strftime(\"%Y%m%d_%H%M%S\")\n",
    "    if (ddp_on == True and torch.distributed.get_rank() != 0):\n",
    "        wandb.finish()\n",
    "    if (ddp_on == False or torch.distributed.get_rank() == 0):\n",
    "        wandb.config.update(hyperparameters)\n",
    "        wandb.run.name = f'lr_{learning_rate}_{unique_name}_{which_data}_tstep{TIME}'\n",
    "        wandb.define_metric(\"summary_val_acc\", summary=\"max\")\n",
    "        wandb.run.log_code(\".\", \n",
    "                           include_fn=lambda path: path.endswith(\".py\") or path.endswith(\".ipynb\"),\n",
    "                           exclude_fn=lambda path: 'logs/' in path or 'net_save/' in path or 'result_save/' in path or 'trying/' in path or 'wandb/' in path or 'private/' in path\n",
    "                           )\n",
    "    ###################################################################################\n",
    "\n",
    "\n",
    "\n",
    "    ## gpu setting ##################################################################################################################\n",
    "    os.environ[\"CUDA_DEVICE_ORDER\"]=\"PCI_BUS_ID\" \n",
    "    os.environ[\"CUDA_VISIBLE_DEVICES\"]= devices\n",
    "    ###################################################################################################################################\n",
    "\n",
    "\n",
    "    ## seed setting ##################################################################################################################\n",
    "    seed_assign(my_seed)\n",
    "    ###################################################################################################################################\n",
    "    \n",
    "\n",
    "    ## data_loader 가져오기 ##################################################################################################################\n",
    "    # data loader, pixel channel, class num\n",
    "    train_loader, test_loader, synapse_conv_in_channels, CLASS_NUM = data_loader(\n",
    "            which_data,\n",
    "            data_path, \n",
    "            rate_coding, \n",
    "            BATCH, \n",
    "            IMAGE_SIZE,\n",
    "            ddp_on,\n",
    "            TIME,\n",
    "            dvs_clipping,\n",
    "            dvs_duration,\n",
    "            exclude_class,\n",
    "            merge_polarities,\n",
    "            denoise_on, )\n",
    "    synapse_fc_out_features = CLASS_NUM\n",
    "    test_loader_domain_set = []\n",
    "    test_loader_domain_set.append(test_loader)\n",
    "    ###########################################################################################################################################\n",
    "    \n",
    "    ## 다른 dvs duration domain을 validation set으로 불러오기 ##############################################################\n",
    "    if len(dvs_duration_domain) > 0:\n",
    "        for domain in dvs_duration_domain:\n",
    "            train_loader_domain, test_loader_domain, synapse_conv_in_channels_domain, CLASS_NUM_domain = data_loader(\n",
    "                    which_data,\n",
    "                    data_path, \n",
    "                    rate_coding, \n",
    "                    BATCH, \n",
    "                    IMAGE_SIZE,\n",
    "                    ddp_on,\n",
    "                    TIME,\n",
    "                    dvs_clipping,\n",
    "                    domain,\n",
    "                    exclude_class,\n",
    "                    merge_polarities,\n",
    "                    denoise_on, )\n",
    "            test_loader_domain_set.append(test_loader_domain)\n",
    "    ######################################################################################################################\n",
    "    \n",
    "    ## parameter number calculator (안 중요함) ##################################################################################################################\n",
    "    params_num = 0\n",
    "    img_size = IMAGE_SIZE \n",
    "    bias_param = 1 # 1 or 0\n",
    "    classifier_making = False\n",
    "    if (convTrue_fcFalse == True):\n",
    "        past_kernel = synapse_conv_in_channels\n",
    "        for kernel in cfg:\n",
    "            if (classifier_making == False):\n",
    "                if (type(kernel) == list):\n",
    "                    for residual_kernel in kernel:\n",
    "                        if (residual_kernel >= 10000 and residual_kernel < 20000): # separable\n",
    "                            residual_kernel -= 10000\n",
    "                            params_num += (synapse_conv_kernel_size**2 + bias_param) * past_kernel\n",
    "                            params_num += (1**2 * past_kernel + bias_param) * residual_kernel\n",
    "                            past_kernel = residual_kernel  \n",
    "                        elif (residual_kernel >= 20000 and residual_kernel < 30000): # depthwise\n",
    "                            residual_kernel -= 20000\n",
    "                            # 'past_kernel' should be same with 'kernel'\n",
    "                            params_num += (synapse_conv_kernel_size**2 + bias_param) * past_kernel\n",
    "                            past_kernel = residual_kernel  \n",
    "                        else:\n",
    "                            params_num += residual_kernel * ((synapse_conv_kernel_size**2) * past_kernel + bias_param)\n",
    "                            past_kernel = residual_kernel\n",
    "                elif (kernel == 'P' or kernel == 'M'):\n",
    "                    img_size = img_size // 2\n",
    "                elif (kernel == 'D'):\n",
    "                    img_size = 1\n",
    "                elif (kernel == 'L'):\n",
    "                    classifier_making = True\n",
    "                    past_kernel = past_kernel * (img_size**2)\n",
    "                else:\n",
    "                    if (kernel >= 10000 and kernel < 20000): # separable\n",
    "                        kernel -= 10000\n",
    "                        params_num += (synapse_conv_kernel_size**2 + bias_param) * past_kernel\n",
    "                        params_num += (1**2 * past_kernel + bias_param) * kernel\n",
    "                        past_kernel = kernel  \n",
    "                    elif (kernel >= 20000 and kernel < 30000): # depthwise\n",
    "                        kernel -= 20000\n",
    "                        # 'past_kernel' should be same with 'kernel'\n",
    "                        params_num += (synapse_conv_kernel_size**2 + bias_param) * past_kernel\n",
    "                        past_kernel = kernel  \n",
    "                    else:\n",
    "                        params_num += kernel * (synapse_conv_kernel_size**2 * past_kernel + bias_param)\n",
    "                        past_kernel = kernel    \n",
    "            else: # classifier making\n",
    "                params_num += (past_kernel + bias_param) * kernel\n",
    "                past_kernel = kernel\n",
    "        \n",
    "        \n",
    "        if classifier_making == False:\n",
    "            past_kernel = past_kernel*img_size*img_size\n",
    "\n",
    "        params_num += (past_kernel + bias_param) * synapse_fc_out_features\n",
    "    else:\n",
    "        past_in_channel = synapse_conv_in_channels*img_size*img_size\n",
    "        for in_channel in cfg:\n",
    "            if (type(in_channel) == list):\n",
    "                for residual_in_channel in in_channel:\n",
    "                    params_num += (past_in_channel + bias_param) * residual_in_channel\n",
    "                    past_in_channel = residual_in_channel\n",
    "            elif (in_channel == 'P' or in_channel == 'M'):\n",
    "                img_size = img_size // 2\n",
    "                past_in_channel = synapse_conv_in_channels*img_size*img_size\n",
    "            else:\n",
    "                params_num += (past_in_channel + bias_param) * in_channel\n",
    "                past_in_channel = in_channel\n",
    "        params_num += (past_in_channel + bias_param) * synapse_fc_out_features\n",
    "    ###########################################################################################################################################\n",
    "\n",
    "\n",
    "    device = torch.device(\"cuda\" if torch.cuda.is_available() else \"cpu\")\n",
    "\n",
    "    ### network setting #######################################################################################################################\n",
    "    if (convTrue_fcFalse == False):\n",
    "        if (single_step == False):\n",
    "            net = MY_SNN_FC(cfg, synapse_conv_in_channels, IMAGE_SIZE, synapse_fc_out_features,\n",
    "                        synapse_fc_trace_const1, synapse_fc_trace_const2, \n",
    "                        lif_layer_v_init, lif_layer_v_decay, \n",
    "                        lif_layer_v_threshold, lif_layer_v_reset,\n",
    "                        lif_layer_sg_width,\n",
    "                        tdBN_on,\n",
    "                        BN_on, TIME,\n",
    "                        surrogate,\n",
    "                        BPTT_on,\n",
    "                        DFA_on,\n",
    "                        drop_rate).to(device)\n",
    "        else:\n",
    "            net = MY_SNN_FC_sstep(cfg, synapse_conv_in_channels, IMAGE_SIZE, synapse_fc_out_features,\n",
    "                        synapse_fc_trace_const1, synapse_fc_trace_const2, \n",
    "                        lif_layer_v_init, lif_layer_v_decay, \n",
    "                        lif_layer_v_threshold, lif_layer_v_reset,\n",
    "                        lif_layer_sg_width,\n",
    "                        tdBN_on,\n",
    "                        BN_on, TIME,\n",
    "                        surrogate,\n",
    "                        BPTT_on,\n",
    "                        DFA_on,\n",
    "                        OTTT_sWS_on,\n",
    "                        drop_rate).to(device)\n",
    "    else:\n",
    "        if (single_step == False):\n",
    "            net = MY_SNN_CONV(cfg, synapse_conv_in_channels, IMAGE_SIZE,\n",
    "                        synapse_conv_kernel_size, synapse_conv_stride, \n",
    "                        synapse_conv_padding, synapse_conv_trace_const1, \n",
    "                        synapse_conv_trace_const2, \n",
    "                        lif_layer_v_init, lif_layer_v_decay, \n",
    "                        lif_layer_v_threshold, lif_layer_v_reset,\n",
    "                        lif_layer_sg_width,\n",
    "                        synapse_fc_out_features, synapse_fc_trace_const1, synapse_fc_trace_const2,\n",
    "                        tdBN_on,\n",
    "                        BN_on, TIME,\n",
    "                        surrogate,\n",
    "                        BPTT_on,\n",
    "                        OTTT_sWS_on,\n",
    "                        DFA_on,\n",
    "                        drop_rate).to(device)\n",
    "        else:\n",
    "            net = MY_SNN_CONV_sstep(cfg, synapse_conv_in_channels, IMAGE_SIZE,\n",
    "                        synapse_conv_kernel_size, synapse_conv_stride, \n",
    "                        synapse_conv_padding, synapse_conv_trace_const1, \n",
    "                        synapse_conv_trace_const2, \n",
    "                        lif_layer_v_init, lif_layer_v_decay, \n",
    "                        lif_layer_v_threshold, lif_layer_v_reset,\n",
    "                        lif_layer_sg_width,\n",
    "                        synapse_fc_out_features, synapse_fc_trace_const1, synapse_fc_trace_const2,\n",
    "                        tdBN_on,\n",
    "                        BN_on, TIME,\n",
    "                        surrogate,\n",
    "                        BPTT_on,\n",
    "                        OTTT_sWS_on,\n",
    "                        DFA_on,\n",
    "                        drop_rate).to(device)\n",
    "    if (nda_net == True):\n",
    "        net = VGG(cfg = cfg, num_classes=10, batch_norm = tdBN_on, in_c = synapse_conv_in_channels, \n",
    "                    lif_layer_v_threshold=lif_layer_v_threshold, lif_layer_v_decay=lif_layer_v_decay, lif_layer_sg_width=lif_layer_sg_width)\n",
    "        net.T = TIME\n",
    "    if ddp_on == False:\n",
    "        net = torch.nn.DataParallel(net) \n",
    "    \n",
    "    if pre_trained == True:\n",
    "        net.load_state_dict(torch.load(pre_trained_path))\n",
    "    \n",
    "    if ddp_on == True:\n",
    "        device = args.gpu\n",
    "        net = net.to(args.gpu)\n",
    "        net = DDP(net, delay_allreduce=True)\n",
    "\n",
    "    net = net.to(device)\n",
    "    if (net_print == True):\n",
    "        if ddp_on == False or torch.distributed.get_rank() == 0:\n",
    "            print(net)    \n",
    "    ####################################################################################################################################\n",
    "    \n",
    "\n",
    "    ## wandb logging ###########################################\n",
    "    if ddp_on == False or torch.distributed.get_rank() == 0:\n",
    "        wandb.watch(net, log=\"all\", log_freq = 10) #gradient, parameter logging해줌\n",
    "    ############################################################\n",
    "\n",
    "    ## param num and memory estimation except BN with MY own calculation some lines above ##########################################\n",
    "    if ddp_on == False or torch.distributed.get_rank() == 0:\n",
    "        real_param_num = sum(p.numel() for p in net.parameters() if p.requires_grad)\n",
    "        if (weight_count_print == True):\n",
    "            for name, param in net.named_parameters():\n",
    "                if param.requires_grad:\n",
    "                    print(f'Layer: {name} | Number of parameters: {param.numel()}')\n",
    "        # Batch norm 있으면 아래 두 개 서로 다를 수 있음.\n",
    "        # assert real_param_num == params_num, f'parameter number is not same. real_param_num: {real_param_num}, params_num: {params_num}'    \n",
    "        print('='*50)\n",
    "        print(f\"My Num of PARAMS: {params_num:,}, system's param_num : {real_param_num:,}\")\n",
    "        memory = params_num / 8 / 1024 / 1024 # MB\n",
    "        precision = 32\n",
    "        memory = memory * precision \n",
    "        print(f\"Memory: {memory:.2f}MiB at {precision}-bit\")\n",
    "        print('='*50)\n",
    "    ##############################################################################################################################\n",
    "\n",
    "\n",
    "\n",
    "    ## criterion ########################################## # loss 구해주는 친구\n",
    "    criterion = nn.CrossEntropyLoss().to(device)\n",
    "    if (OTTT_sWS_on == True):\n",
    "        # criterion = nn.CrossEntropyLoss().to(device)\n",
    "        criterion = lambda y_t, target_t: ((1 - 0.05) * F.cross_entropy(y_t, target_t) + 0.05 * F.mse_loss(y_t, F.one_hot(target_t, CLASS_NUM).float())) / TIME \n",
    "        if which_data == 'DVS_GESTURE':\n",
    "            criterion = lambda y_t, target_t: ((1 - 0.001) * F.cross_entropy(y_t, target_t) + 0.001 * F.mse_loss(y_t, F.one_hot(target_t, CLASS_NUM).float())) / TIME \n",
    "    ####################################################\n",
    "    \n",
    "\n",
    "\n",
    "\n",
    "    ## optimizer, scheduler ########################################################################\n",
    "    if(optimizer_what == 'SGD'):\n",
    "        # optimizer = optim.SGD(net.parameters(), lr=learning_rate, momentum=0.9)\n",
    "        optimizer = optim.SGD(net.parameters(), lr=learning_rate, momentum=0.9, weight_decay=0)\n",
    "    elif(optimizer_what == 'Adam'):\n",
    "        optimizer = torch.optim.Adam(net.parameters(), lr=learning_rate)\n",
    "        # optimizer = torch.optim.Adam(net.parameters(), lr=0.00001)\n",
    "        # optimizer = torch.optim.Adam(net.parameters(), lr=learning_rate/256 * BATCH, weight_decay=1e-4)\n",
    "        # optimizer = optim.Adam(net.parameters(), lr=learning_rate, weight_decay=0, betas=(0.9, 0.999))\n",
    "    elif(optimizer_what == 'RMSprop'):\n",
    "        pass\n",
    "\n",
    "\n",
    "    if (scheduler_name == 'StepLR'):\n",
    "        scheduler = lr_scheduler.StepLR(optimizer, step_size=10, gamma=0.1)\n",
    "    elif (scheduler_name == 'ExponentialLR'):\n",
    "        scheduler = lr_scheduler.ExponentialLR(optimizer, gamma=0.95)\n",
    "    elif (scheduler_name == 'ReduceLROnPlateau'):\n",
    "        scheduler = lr_scheduler.ReduceLROnPlateau(optimizer, mode='min', factor=0.1, patience=10)\n",
    "    elif (scheduler_name == 'CosineAnnealingLR'):\n",
    "        # scheduler = lr_scheduler.CosineAnnealingLR(optimizer, eta_min=0, T_max=50)\n",
    "        scheduler = torch.optim.lr_scheduler.CosineAnnealingLR(optimizer, eta_min=0, T_max=epoch_num)\n",
    "    elif (scheduler_name == 'OneCycleLR'):\n",
    "        scheduler = lr_scheduler.OneCycleLR(optimizer, max_lr=0.1, steps_per_epoch=len(train_loader), epochs=epoch_num)\n",
    "    else:\n",
    "        pass # 'no' scheduler\n",
    "    ## optimizer, scheduler ########################################################################\n",
    "\n",
    "\n",
    "    tr_acc = 0\n",
    "    tr_correct = 0\n",
    "    tr_total = 0\n",
    "    tr_acc_best = 0\n",
    "    tr_epoch_loss_temp = 0\n",
    "    tr_epoch_loss= 0\n",
    "    val_acc_best = 0\n",
    "    val_acc_now = 0\n",
    "    val_loss = 0\n",
    "    elapsed_time_val = 0\n",
    "    no_val_best_growth_count = 0\n",
    "    no_tr_best_growth_count = 0\n",
    "    iter_acc_array = np.array([])\n",
    "    tr_acc_array = np.array([])\n",
    "    val_acc_now_array = np.array([])\n",
    "    DFA_current = DFA_on\n",
    "    DFA_toggle = False\n",
    "    DFA_flag = 1.0 if DFA_current == True else 0.0\n",
    "    DFA_BP_toggle_trial = 0\n",
    "    iter_of_val = False\n",
    "    #======== EPOCH START ==========================================================================================\n",
    "    for epoch in range(epoch_num):\n",
    "        if (I_wanna_sweep_at_this_epoch == epoch):\n",
    "            net = BP_DFA_SWAP(net, convTrue_fcFalse, single_step, ddp_on, args_gpu)\n",
    "            no_val_best_growth_count = 0\n",
    "            DFA_current = not DFA_current\n",
    "            DFA_toggle = True\n",
    "            DFA_BP_toggle_trial = DFA_BP_toggle_trial + 1\n",
    "        else:\n",
    "            if (e_transport_swap > 0 or e_transport_swap_tr > 0):\n",
    "                assert not (e_transport_swap > 0 and e_transport_swap_tr > 0)\n",
    "                if e_transport_swap > 0 and no_val_best_growth_count == e_transport_swap :\n",
    "                    if DFA_BP_toggle_trial < e_transport_swap_coin:\n",
    "                        net = BP_DFA_SWAP(net, convTrue_fcFalse, single_step, ddp_on, args_gpu)\n",
    "                        no_val_best_growth_count = 0\n",
    "                        DFA_current = not DFA_current\n",
    "                        DFA_toggle = True\n",
    "                        DFA_BP_toggle_trial = DFA_BP_toggle_trial + 1\n",
    "                if e_transport_swap_tr > 0 and no_tr_best_growth_count == e_transport_swap_tr:\n",
    "                    if DFA_BP_toggle_trial < e_transport_swap_coin:\n",
    "                        net = BP_DFA_SWAP(net, convTrue_fcFalse, single_step, ddp_on, args_gpu)\n",
    "                        no_tr_best_growth_count = 0\n",
    "                        DFA_current = not DFA_current\n",
    "                        DFA_toggle = True\n",
    "                        DFA_BP_toggle_trial = DFA_BP_toggle_trial + 1\n",
    "\n",
    "        if ddp_on == False or torch.distributed.get_rank() == 0:\n",
    "            # print('EPOCH', epoch)\n",
    "            pass\n",
    "        epoch_start_time = time.time()\n",
    "\n",
    "        # if (domain_il_epoch>0 and which_data == 'PMNIST'):\n",
    "        #     k = epoch // domain_il_epoch\n",
    "        #     xtrain=data[k]['train']['x']\n",
    "        #     ytrain=data[k]['train']['y']\n",
    "        #     xtest =data[k]['test']['x']\n",
    "        #     ytest =data[k]['test']['y']\n",
    "\n",
    "        \n",
    "        ####### iterator : input_loading & tqdm을 통한 progress_bar 생성###################\n",
    "        iterator = enumerate(train_loader, 0)\n",
    "        if ddp_on == False or torch.distributed.get_rank() == 0:  \n",
    "            iterator = tqdm(iterator, total=len(train_loader), desc='train', dynamic_ncols=True, position=0, leave=True)\n",
    "        ##################################################################################   \n",
    "        \n",
    "        #### validation_interval이 batch size보다 작을 시 validation_interval을 batch size로 맞춰줌#############\n",
    "        validation_interval2 = validation_interval\n",
    "        if (validation_interval > len(train_loader)):\n",
    "            validation_interval2 = len(train_loader)\n",
    "        ##################################################################################################\n",
    "\n",
    "\n",
    "        ###### ITERATION START ##########################################################################################################\n",
    "        for i, data in iterator:\n",
    "            iter_one_train_time_start = time.time()\n",
    "            net.train() # train 모드로 바꿔줘야함\n",
    "\n",
    "            ### data loading & semi-pre-processing ################################################################################\n",
    "            if len(data) == 2:\n",
    "                inputs, labels = data\n",
    "                # 처리 로직 작성\n",
    "            elif len(data) == 3:\n",
    "                inputs, labels, x_len = data\n",
    "                # print('x_len',x_len)\n",
    "                # mask = padded_sequence_mask(x_len)\n",
    "                # max_time_step = x_len.max()\n",
    "                # min_time_step = x_len.min()\n",
    "            ## batch 크기 ######################################\n",
    "            real_batch = labels.size(0)\n",
    "            ###########################################################\n",
    "\n",
    "            ###########################################################################################################################        \n",
    "            if (which_data == 'n_tidigits'):\n",
    "                inputs = inputs.permute(0, 1, 3, 2, 4)\n",
    "                labels = labels[:, 0, :]\n",
    "                labels = torch.argmax(labels, dim=1)\n",
    "            elif (which_data == 'heidelberg'):\n",
    "                inputs = inputs.view(5, 1000, 1, 700, 1)\n",
    "                print(\"\\n\\n\\n경고!!!! heidelberg 이거 타임스텝이랑 채널 잘 바꿔줘라!!!\\n\\n\\n\\n\")\n",
    "            # print('inputs',inputs.size(),'\\nlabels',labels.size())\n",
    "            # print(labels)\n",
    "                \n",
    "            if (which_data == 'DVS_CIFAR10' or which_data == 'DVS_GESTURE' or which_data == 'DVS_GESTURE_TONIC' or which_data == 'DVS_CIFAR10_2' or which_data == 'NMNIST' or which_data == 'NMNIST_TONIC' or which_data == 'N_CALTECH101' or which_data == 'n_tidigits' or which_data == 'heidelberg'):\n",
    "                inputs = inputs.permute(1, 0, 2, 3, 4)\n",
    "            elif rate_coding == True :\n",
    "                inputs = spikegen.rate(inputs, num_steps=TIME)\n",
    "            else :\n",
    "                inputs = inputs.repeat(TIME, 1, 1, 1, 1)\n",
    "            # inputs: [Time, Batch, Channel, Height, Width]  \n",
    "            ####################################################################################################################### \n",
    "                \n",
    "            \n",
    "            # # dvs 데이터 시각화 코드 (확인 필요할 시 써라)\n",
    "            # ##############################################################################################\n",
    "            # dvs_visualization(inputs, labels, TIME, BATCH, my_seed)\n",
    "            # #####################################################################################################\n",
    "\n",
    "            ## to (device) #######################################\n",
    "            inputs = inputs.to(device)\n",
    "            labels = labels.to(device)\n",
    "            ###########################################################\n",
    "\n",
    "\n",
    "            ## gradient 초기화 #######################################\n",
    "            optimizer.zero_grad()\n",
    "            ###########################################################\n",
    "            \n",
    "            ## DVS gesture에서 other label자리 매꾸기 ###############\n",
    "            if (which_data == 'DVS_GESTURE'):\n",
    "                labels[labels>2] -= 1\n",
    "            #######################################################         \n",
    "                               \n",
    "            if merge_polarities == True:\n",
    "                inputs = inputs[:,:,0,:,:]\n",
    "\n",
    "            if single_step == False:\n",
    "                # net에 넣어줄때는 batch가 젤 앞 차원으로 와야함. # dataparallel때매##############################\n",
    "                # inputs: [Time, Batch, Channel, Height, Width]   \n",
    "                inputs = inputs.permute(1, 0, 2, 3, 4) # net에 넣어줄때는 batch가 젤 앞 차원으로 와야함. # dataparallel때매\n",
    "                # inputs: [Batch, Time, Channel, Height, Width] \n",
    "                #################################################################################################\n",
    "            else:\n",
    "                labels = labels.repeat(TIME, 1)\n",
    "                ## first input도 ottt trace 적용하기 위한 코드 (validation 시에는 필요X) ##########################\n",
    "                if OTTT_input_trace_on == True:\n",
    "                    spike = inputs\n",
    "                    trace = torch.full_like(spike, fill_value = 0.0, dtype = torch.float, requires_grad=False)\n",
    "                    inputs = []\n",
    "                    for t in range(TIME):\n",
    "                        trace[t] = trace[t-1]*synapse_conv_trace_const2 + spike[t]*synapse_conv_trace_const1\n",
    "                        inputs += [[spike[t], trace[t]]]\n",
    "                ##################################################################################################\n",
    "\n",
    "\n",
    "            if single_step == False:\n",
    "                ### input --> net --> output #####################################################\n",
    "                outputs = net(inputs)\n",
    "                ##################################################################################\n",
    "                ## loss, backward ##########################################\n",
    "                loss = criterion(outputs, labels)\n",
    "                loss.backward()\n",
    "                ############################################################\n",
    "                ## weight 업데이트!! ##################################\n",
    "                optimizer.step()\n",
    "                ################################################################\n",
    "            else:\n",
    "                outputs_all = []\n",
    "                loss = 0.0\n",
    "                for t in range(TIME):\n",
    "                    ### input[t] --> net --> output_one_time #########################################\n",
    "                    outputs_one_time = net(inputs[t])\n",
    "                    ##################################################################################\n",
    "                    one_time_loss = criterion(outputs_one_time, labels[t].contiguous())\n",
    "                    one_time_loss.backward() # one_time backward\n",
    "                    loss += one_time_loss.data\n",
    "                    outputs_all.append(outputs_one_time.detach())\n",
    "                optimizer.step() # full step time update\n",
    "                outputs_all = torch.stack(outputs_all, dim=1)\n",
    "                outputs = outputs_all.mean(1) # ottt꺼 쓸때\n",
    "                labels = labels[0]\n",
    "                loss /= TIME\n",
    "            tr_epoch_loss_temp += loss.data/len(train_loader)\n",
    "\n",
    "            ## net 그림 출력해보기 #################################################################\n",
    "            # print('시각화')\n",
    "            # make_dot(outputs, params=dict(list(net.named_parameters()))).render(\"net_torchviz\", format=\"png\")\n",
    "            # return 0\n",
    "            ##################################################################################\n",
    "\n",
    "            #### batch 어긋남 방지 ###############################################\n",
    "            assert real_batch == outputs.size(0), f'batch size is not same. real_batch: {real_batch}, outputs.size(0): {outputs.size(0)}'\n",
    "            #######################################################################\n",
    "            \n",
    "\n",
    "            ####### training accruacy save for print ###############################\n",
    "            _, predicted = torch.max(outputs.data, 1)\n",
    "            total = real_batch\n",
    "            correct = (predicted == labels).sum().item()\n",
    "            iter_acc = correct / total\n",
    "            tr_total += total\n",
    "            tr_correct += correct\n",
    "            if i % verbose_interval == verbose_interval-1:\n",
    "                if ddp_on == False or torch.distributed.get_rank() == 0:\n",
    "                    print(f'{epoch}-{i} training acc: {100 * iter_acc:.2f}%, lr={[f\"{lr}\" for lr in (param_group[\"lr\"] for param_group in optimizer.param_groups)]}, val_acc: {100 * val_acc_now:.2f}%')\n",
    "            iter_acc_string = f'epoch-{epoch:<3} iter_acc:{100 * iter_acc:7.2f}%, lr={[f\"{lr:9.7f}\" for lr in (param_group[\"lr\"] for param_group in optimizer.param_groups)]}'\n",
    "            iter_acc_string2 = f'epoch-{epoch:<3} lr={[f\"{lr:9.7f}\" for lr in (param_group[\"lr\"] for param_group in optimizer.param_groups)]}'\n",
    "            ################################################################\n",
    "            \n",
    "\n",
    "\n",
    "\n",
    "\n",
    "            iter_one_train_time_end = time.time()\n",
    "            elapsed_time = iter_one_train_time_end - iter_one_train_time_start  # 실행 시간 계산\n",
    "\n",
    "            if (i % verbose_interval == verbose_interval-1):\n",
    "                if ddp_on == False or torch.distributed.get_rank() == 0:\n",
    "                    print(f\"iter_one_train_time: {elapsed_time} seconds, last one_val_time: {elapsed_time_val} seconds\\n\")\n",
    "                \n",
    "            ##### validation ##################################################################################################################################\n",
    "            if i % validation_interval2 == validation_interval2-1:\n",
    "                iter_one_val_time_start = time.time()\n",
    "                tr_acc = tr_correct/tr_total\n",
    "                domain_index = 0\n",
    "                val_loss_set = []\n",
    "                val_acc_now_set = []\n",
    "                while True:\n",
    "                    val_loss = 0\n",
    "                    correct = 0\n",
    "                    total = 0\n",
    "                    test_loader = test_loader_domain_set[domain_index]\n",
    "                    domain_index = domain_index + 1\n",
    "\n",
    "                    with torch.no_grad():\n",
    "                        net.eval() # eval 모드로 바꿔줘야함 \n",
    "                        for data in test_loader:\n",
    "                            ## data loading & semi-pre-processing ##########################################################\n",
    "                            if len(data) == 2:\n",
    "                                inputs, labels = data\n",
    "                                # 처리 로직 작성\n",
    "                            elif len(data) == 3:\n",
    "                                inputs, labels, x_len = data\n",
    "                                # print('x_len',x_len)\n",
    "                                # mask = padded_sequence_mask(x_len)\n",
    "                                # max_time_step = x_len.max()\n",
    "                                # min_time_step = x_len.min()\n",
    "                                # B, T, *spatial_dims = inputs.shape\n",
    "\n",
    "                            if (which_data == 'DVS_CIFAR10' or which_data == 'DVS_GESTURE' or which_data == 'DVS_GESTURE_TONIC' or which_data == 'DVS_CIFAR10_2' or which_data == 'NMNIST' or which_data == 'NMNIST_TONIC' or which_data == 'N_CALTECH101' or which_data == 'n_tidigits' or which_data == 'heidelberg'):\n",
    "                                inputs = inputs.permute(1, 0, 2, 3, 4)\n",
    "                            elif rate_coding == True :\n",
    "                                inputs = spikegen.rate(inputs, num_steps=TIME)\n",
    "                            else :\n",
    "                                inputs = inputs.repeat(TIME, 1, 1, 1, 1)\n",
    "                            # inputs: [Time, Batch, Channel, Height, Width]  \n",
    "                            ###################################################################################################\n",
    "\n",
    "                            inputs = inputs.to(device)\n",
    "                            labels = labels.to(device)\n",
    "                            real_batch = labels.size(0)\n",
    "                            \n",
    "                            ## DVS gesture에서 other label자리 매꾸기 ###############\n",
    "                            if (which_data == 'DVS_GESTURE'):\n",
    "                                labels[labels>2] -= 1\n",
    "                            #######################################################\n",
    "                            \n",
    "                            if merge_polarities == True:\n",
    "                                inputs = inputs[:,:,0,:,:]\n",
    "\n",
    "                            ## network 연산 시작 ############################################################################################################\n",
    "                            if single_step == False:\n",
    "                                outputs = net(inputs.permute(1, 0, 2, 3, 4)) #inputs: [Batch, Time, Channel, Height, Width]  \n",
    "                                val_loss += criterion(outputs, labels)/len(test_loader)\n",
    "                            else:\n",
    "                                outputs_all = []\n",
    "                                for t in range(TIME):\n",
    "                                    outputs = net(inputs[t])\n",
    "                                    val_loss_temp = criterion(outputs, labels)\n",
    "                                    outputs_all.append(outputs.detach())\n",
    "                                    val_loss += (val_loss_temp.data/TIME)/len(test_loader)\n",
    "                                outputs_all = torch.stack(outputs_all, dim=1)\n",
    "                                outputs = outputs_all.mean(1)\n",
    "                            val_loss_set.append(val_loss)\n",
    "                            #################################################################################################################################\n",
    "\n",
    "                            _, predicted = torch.max(outputs.data, 1)\n",
    "                            total += real_batch\n",
    "                            assert real_batch == outputs.size(0), f'batch size is not same. real_batch: {real_batch}, outputs.size(0): {outputs.size(0)}'\n",
    "                            correct += (predicted == labels).sum().item()\n",
    "\n",
    "                        val_acc_now = correct / total\n",
    "                        # print(f'{epoch}-{i} validation acc: {100 * val_acc_now:.2f}%, lr={[f\"{lr:.10f}\" for lr in (param_group[\"lr\"] for param_group in optimizer.param_groups)]}')\n",
    "                        val_acc_now_set.append(val_acc_now)\n",
    "\n",
    "                    if domain_index == len(dvs_duration_domain) + 1:\n",
    "                        if len(dvs_duration_domain) > 0:\n",
    "                            print(dvs_duration, *dvs_duration_domain,'\\n', *val_acc_now_set)\n",
    "                        break\n",
    "\n",
    "                val_loss = val_loss_set[0]\n",
    "                val_acc_now = val_acc_now_set[0]\n",
    "\n",
    "                iter_one_val_time_end = time.time()\n",
    "                elapsed_time_val = iter_one_val_time_end - iter_one_val_time_start  # 실행 시간 계산\n",
    "                # print(f\"iter_one_val_time: {elapsed_time_val} seconds\")\n",
    "\n",
    "                # network save\n",
    "                if val_acc_best < val_acc_now:\n",
    "                    val_acc_best = val_acc_now\n",
    "                    if ddp_on == False or torch.distributed.get_rank() == 0:\n",
    "                        # wandb 키면 state_dict아닌거는 저장 안됨\n",
    "                        torch.save(net.state_dict(), f\"net_save/save_now_net_weights_{unique_name}.pth\")\n",
    "                        # torch.save(net, f\"net_save/save_now_net_{unique_name}.pth\")\n",
    "                        # torch.save(net.module.state_dict(), f\"net_save/save_now_net_weights2_{unique_name}.pth\")\n",
    "                        # torch.save(net.module, f\"net_save/save_now_net2_{unique_name}.pth\")\n",
    "                    no_val_best_growth_count = 0\n",
    "                else:\n",
    "                    no_val_best_growth_count = no_val_best_growth_count + 1\n",
    "\n",
    "                if tr_acc_best < tr_acc:\n",
    "                    tr_acc_best = tr_acc\n",
    "                    no_tr_best_growth_count = 0\n",
    "                else:\n",
    "                    no_tr_best_growth_count = no_tr_best_growth_count + 1\n",
    "\n",
    "                tr_epoch_loss = tr_epoch_loss_temp\n",
    "                tr_epoch_loss_temp = 0\n",
    "\n",
    "                if DFA_toggle == True:\n",
    "                    DFA_flag = 1.0 - DFA_flag\n",
    "                    DFA_toggle = False\n",
    "\n",
    "                iter_of_val = True\n",
    "            ####################################################################################################################################################\n",
    "            \n",
    "            ## progress bar update ############################################################################################################\n",
    "            if ddp_on == False or torch.distributed.get_rank() == 0:\n",
    "                if iter_of_val == False:\n",
    "                    iterator.set_description(f\"{iter_acc_string}, iter_loss:{loss:10.6f}, val_best:{100 * val_acc_best:7.2f}%\")  \n",
    "                else:\n",
    "                    iterator.set_description(f\"{iter_acc_string2}, tr/val_loss:{tr_epoch_loss:10.6f}/{val_loss:10.6f}, tr:{100 * tr_acc:7.2f}%, val:{100 * val_acc_now:7.2f}%, val_best:{100 * val_acc_best:7.2f}%\")  \n",
    "                    iter_of_val = False\n",
    "            ####################################################################################################################################\n",
    "            \n",
    "            ## wandb logging ############################################################################################################\n",
    "            if ddp_on == False or torch.distributed.get_rank() == 0:\n",
    "                wandb.log({\"iter_acc\": iter_acc})\n",
    "                wandb.log({\"tr_acc\": tr_acc})\n",
    "                wandb.log({\"val_acc_now\": val_acc_now})\n",
    "                wandb.log({\"val_acc_best\": val_acc_best})\n",
    "                wandb.log({\"summary_val_acc\": val_acc_now})\n",
    "                wandb.log({\"epoch\": epoch})\n",
    "                wandb.log({\"DFA_flag\": DFA_flag}) # DFA mode 바뀌자 마자 바뀌는 게 아니고 validation 한번 했을 때 바뀜.\n",
    "                wandb.log({\"val_loss\": val_loss}) \n",
    "                wandb.log({\"tr_epoch_loss\": tr_epoch_loss}) \n",
    "            ####################################################################################################################################\n",
    "            \n",
    "            \n",
    "            ## accuray 로컬에 저장 하기 위한 코드 #####################################################################################\n",
    "            iter_acc_array = np.append(iter_acc_array, iter_acc)\n",
    "            tr_acc_array = np.append(tr_acc_array, tr_acc)\n",
    "            val_acc_now_array = np.append(val_acc_now_array, val_acc_now)\n",
    "            base_name = f'{current_time}'\n",
    "            ####################################################################################################################\n",
    "            \n",
    "            iter_acc_file_name_time = f'result_save/{base_name}_iter_acc_array_{unique_name}.npy'\n",
    "            tr_acc_file_name_time = f'result_save/{base_name}_tr_acc_array_{unique_name}.npy'\n",
    "            val_acc_file_name_time = f'result_save/{base_name}_val_acc_now_array_{unique_name}.npy'\n",
    "            hyperparameters_file_name_time = f'result_save/{base_name}_hyperparameters_{unique_name}.json'\n",
    "\n",
    "            hyperparameters['current epoch'] = epoch\n",
    "\n",
    "            ### accuracy 세이브: 덮어쓰기 하기 싫으면 주석 풀어서 사용 (시간마다 새로 쓰기) 비추천 ########################\n",
    "            # if ddp_on == False or torch.distributed.get_rank() == 0:\n",
    "            #     np.save(iter_acc_file_name_time, iter_acc_array)\n",
    "            #     np.save(tr_acc_file_name_time, iter_acc_array)\n",
    "            #     np.save(val_acc_file_name_time, val_acc_now_array)\n",
    "            #     with open(hyperparameters_file_name_time, 'w') as f:\n",
    "            #         json.dump(hyperparameters, f, indent=4)\n",
    "            #########################################################################################################\n",
    "\n",
    "            ## accuracy 세이브 ###########################################################################################\n",
    "            if ddp_on == False or torch.distributed.get_rank() == 0:\n",
    "                np.save(f'result_save/iter_acc_array_{unique_name}.npy', iter_acc_array)\n",
    "                np.save(f'result_save/tr_acc_array_{unique_name}.npy', tr_acc_array)\n",
    "                np.save(f'result_save/val_acc_now_array_{unique_name}.npy', val_acc_now_array)\n",
    "                with open(f'result_save/hyperparameters_{unique_name}.json', 'w') as f:\n",
    "                    json.dump(hyperparameters, f, indent=4)\n",
    "            ##########################################################################################################\n",
    "        ###### ITERATION END ##########################################################################################################\n",
    "                \n",
    "\n",
    "        ## scheduler update #############################################################################\n",
    "        if (scheduler_name != 'no'):\n",
    "            if (scheduler_name == 'ReduceLROnPlateau'):\n",
    "                scheduler.step(val_loss)\n",
    "            else:\n",
    "                scheduler.step()\n",
    "        #################################################################################################\n",
    "        \n",
    "        # 실행 시간 계산\n",
    "        epoch_time_end = time.time()\n",
    "        # print(f\"epoch_time: {epoch_time_end - epoch_start_time} seconds\\n\") \n",
    "    #======== EPOCH END ==========================================================================================\n"
   ]
  },
  {
   "cell_type": "code",
   "execution_count": 5,
   "metadata": {},
   "outputs": [
    {
     "name": "stderr",
     "output_type": "stream",
     "text": [
      "Failed to detect the name of this notebook, you can set it manually with the WANDB_NOTEBOOK_NAME environment variable to enable code saving.\n",
      "\u001b[34m\u001b[1mwandb\u001b[0m: Currently logged in as: \u001b[33mbhkim003\u001b[0m (\u001b[33mbhkim003-seoul-national-university\u001b[0m). Use \u001b[1m`wandb login --relogin`\u001b[0m to force relogin\n"
     ]
    },
    {
     "data": {
      "text/html": [
       "wandb version 0.17.8 is available!  To upgrade, please run:\n",
       " $ pip install wandb --upgrade"
      ],
      "text/plain": [
       "<IPython.core.display.HTML object>"
      ]
     },
     "metadata": {},
     "output_type": "display_data"
    },
    {
     "data": {
      "text/html": [
       "Tracking run with wandb version 0.17.5"
      ],
      "text/plain": [
       "<IPython.core.display.HTML object>"
      ]
     },
     "metadata": {},
     "output_type": "display_data"
    },
    {
     "data": {
      "text/html": [
       "Run data is saved locally in <code>/nfs/home/bhkim003/github_folder/ByeonghyeonKim/my_snn/wandb/run-20240902_204153-rx9vj7cr</code>"
      ],
      "text/plain": [
       "<IPython.core.display.HTML object>"
      ]
     },
     "metadata": {},
     "output_type": "display_data"
    },
    {
     "data": {
      "text/html": [
       "Syncing run <strong><a href='https://wandb.ai/bhkim003-seoul-national-university/my_snn%20main/runs/rx9vj7cr' target=\"_blank\">distinctive-sun-5133</a></strong> to <a href='https://wandb.ai/bhkim003-seoul-national-university/my_snn%20main' target=\"_blank\">Weights & Biases</a> (<a href='https://wandb.me/run' target=\"_blank\">docs</a>)<br/>"
      ],
      "text/plain": [
       "<IPython.core.display.HTML object>"
      ]
     },
     "metadata": {},
     "output_type": "display_data"
    },
    {
     "data": {
      "text/html": [
       " View project at <a href='https://wandb.ai/bhkim003-seoul-national-university/my_snn%20main' target=\"_blank\">https://wandb.ai/bhkim003-seoul-national-university/my_snn%20main</a>"
      ],
      "text/plain": [
       "<IPython.core.display.HTML object>"
      ]
     },
     "metadata": {},
     "output_type": "display_data"
    },
    {
     "data": {
      "text/html": [
       " View run at <a href='https://wandb.ai/bhkim003-seoul-national-university/my_snn%20main/runs/rx9vj7cr' target=\"_blank\">https://wandb.ai/bhkim003-seoul-national-university/my_snn%20main/runs/rx9vj7cr</a>"
      ],
      "text/plain": [
       "<IPython.core.display.HTML object>"
      ]
     },
     "metadata": {},
     "output_type": "display_data"
    },
    {
     "name": "stdout",
     "output_type": "stream",
     "text": [
      "dataset_hash = 80106f8824fe9fe0e7be5c2107e2fc35\n",
      "cache path exists\n",
      "dataset_hash = 80106f8824fe9fe0e7be5c2107e2fc35\n",
      "cache path exists\n",
      "dataset_hash = 3d74ac26de2ad6aa14171473bd3b2f8e\n",
      "cache path exists\n",
      "dataset_hash = b0b134db466f1cddf6b62b9e446d9276\n",
      "cache path exists\n",
      "dataset_hash = 8a284393dd905e954250f4b41b82bd4a\n",
      "cache path exists\n",
      "DataParallel(\n",
      "  (module): MY_SNN_FC_sstep(\n",
      "    (layers): MY_Sequential(\n",
      "      (0): MaxPool2d(kernel_size=2, stride=2, padding=0, dilation=1, ceil_mode=False)\n",
      "      (1): DimChanger_for_FC_sstep()\n",
      "      (2): SYNAPSE_FC_trace_sstep()\n",
      "      (3): LIF_layer_trace_sstep()\n",
      "      (4): SYNAPSE_FC_trace_sstep()\n",
      "    )\n",
      "  )\n",
      ")\n",
      "==================================================\n",
      "My Num of PARAMS: 117,810, system's param_num : 117,810\n",
      "Memory: 0.45MiB at 32-bit\n",
      "==================================================\n"
     ]
    },
    {
     "name": "stderr",
     "output_type": "stream",
     "text": [
      "epoch-0   lr=['0.0100000'], tr/val_loss:  1.874503/  1.379001, tr:  51.44%, val:  81.67%, val_best:  81.67%: 100%|█████████▉| 467/469 [03:08<00:00,  3.03it/s]"
     ]
    },
    {
     "name": "stdout",
     "output_type": "stream",
     "text": [
      "1000 1000 3000 5000 10000 \n",
      " 0.8167 0.8167 0.62 0.3548 0.1725\n"
     ]
    },
    {
     "name": "stderr",
     "output_type": "stream",
     "text": [
      "epoch-0   lr=['0.0100000'], tr/val_loss:  1.874503/  1.379001, tr:  51.44%, val:  81.67%, val_best:  81.67%: 100%|██████████| 469/469 [03:09<00:00,  2.48it/s]\n",
      "epoch-1   lr=['0.0099997'], tr/val_loss:  1.292941/  1.186004, tr:  67.15%, val:  85.41%, val_best:  85.41%: 100%|██████████| 469/469 [01:10<00:00,  6.68it/s]"
     ]
    },
    {
     "name": "stdout",
     "output_type": "stream",
     "text": [
      "1000 1000 3000 5000 10000 \n",
      " 0.8541 0.8541 0.6811 0.4337 0.1775\n"
     ]
    },
    {
     "name": "stderr",
     "output_type": "stream",
     "text": [
      "\n",
      "epoch-2   lr=['0.0099989'], tr/val_loss:  1.183642/  1.119840, tr:  73.11%, val:  86.31%, val_best:  86.31%: 100%|██████████| 469/469 [01:15<00:00,  6.21it/s]"
     ]
    },
    {
     "name": "stdout",
     "output_type": "stream",
     "text": [
      "1000 1000 3000 5000 10000 \n",
      " 0.8631 0.8631 0.7085 0.4976 0.2063\n"
     ]
    },
    {
     "name": "stderr",
     "output_type": "stream",
     "text": [
      "\n",
      "epoch-3   lr=['0.0099975'], tr/val_loss:  1.133666/  1.085920, tr:  76.33%, val:  87.13%, val_best:  87.13%: 100%|██████████| 469/469 [01:14<00:00,  6.26it/s]"
     ]
    },
    {
     "name": "stdout",
     "output_type": "stream",
     "text": [
      "1000 1000 3000 5000 10000 \n",
      " 0.8713 0.8713 0.725 0.5359 0.2312\n"
     ]
    },
    {
     "name": "stderr",
     "output_type": "stream",
     "text": [
      "\n",
      "epoch-4   lr=['0.0099956'], tr/val_loss:  1.104583/  1.069737, tr:  78.34%, val:  86.21%, val_best:  87.13%: 100%|██████████| 469/469 [01:11<00:00,  6.52it/s]"
     ]
    },
    {
     "name": "stdout",
     "output_type": "stream",
     "text": [
      "1000 1000 3000 5000 10000 \n",
      " 0.8621 0.8621 0.7109 0.5303 0.2268\n"
     ]
    },
    {
     "name": "stderr",
     "output_type": "stream",
     "text": [
      "\n",
      "epoch-5   iter_acc:  89.06%, lr=['0.0099931'], iter_loss:  0.971539, val_best:  87.13%: 100%|█████████▉| 467/469 [00:49<00:00, 12.87it/s]"
     ]
    },
    {
     "name": "stdout",
     "output_type": "stream",
     "text": [
      "1000 1000 3000 5000 10000 \n",
      " 0.8794 0.8794 0.7357 0.5545 0.2384\n"
     ]
    },
    {
     "name": "stderr",
     "output_type": "stream",
     "text": [
      "epoch-5   lr=['0.0099931'], tr/val_loss:  1.082796/  1.040578, tr:  79.73%, val:  87.94%, val_best:  87.94%: 100%|██████████| 469/469 [01:12<00:00,  6.50it/s]\n",
      "epoch-6   lr=['0.0099901'], tr/val_loss:  1.065111/  1.021515, tr:  80.77%, val:  88.64%, val_best:  88.64%: 100%|██████████| 469/469 [01:13<00:00,  6.37it/s]"
     ]
    },
    {
     "name": "stdout",
     "output_type": "stream",
     "text": [
      "1000 1000 3000 5000 10000 \n",
      " 0.8864 0.8864 0.7584 0.6181 0.2816\n"
     ]
    },
    {
     "name": "stderr",
     "output_type": "stream",
     "text": [
      "\n",
      "epoch-7   lr=['0.0099866'], tr/val_loss:  1.051399/  1.011130, tr:  81.57%, val:  88.46%, val_best:  88.64%: 100%|██████████| 469/469 [01:14<00:00,  6.32it/s]"
     ]
    },
    {
     "name": "stdout",
     "output_type": "stream",
     "text": [
      "1000 1000 3000 5000 10000 \n",
      " 0.8846 0.8846 0.7567 0.6178 0.2725\n"
     ]
    },
    {
     "name": "stderr",
     "output_type": "stream",
     "text": [
      "\n",
      "epoch-8   lr=['0.0099825'], tr/val_loss:  1.040510/  1.000652, tr:  82.22%, val:  88.29%, val_best:  88.64%: 100%|██████████| 469/469 [01:21<00:00,  5.79it/s]"
     ]
    },
    {
     "name": "stdout",
     "output_type": "stream",
     "text": [
      "1000 1000 3000 5000 10000 \n",
      " 0.8829 0.8829 0.7571 0.6277 0.2853\n"
     ]
    },
    {
     "name": "stderr",
     "output_type": "stream",
     "text": [
      "\n",
      "epoch-9   lr=['0.0099778'], tr/val_loss:  1.030532/  0.992829, tr:  82.76%, val:  88.58%, val_best:  88.64%: 100%|██████████| 469/469 [01:29<00:00,  5.23it/s]"
     ]
    },
    {
     "name": "stdout",
     "output_type": "stream",
     "text": [
      "1000 1000 3000 5000 10000 \n",
      " 0.8858 0.8858 0.756 0.6099 0.2685\n"
     ]
    },
    {
     "name": "stderr",
     "output_type": "stream",
     "text": [
      "\n",
      "epoch-10  lr=['0.0099726'], tr/val_loss:  1.019621/  0.986958, tr:  83.21%, val:  88.40%, val_best:  88.64%: 100%|██████████| 469/469 [01:12<00:00,  6.50it/s]"
     ]
    },
    {
     "name": "stdout",
     "output_type": "stream",
     "text": [
      "1000 1000 3000 5000 10000 \n",
      " 0.884 0.884 0.7514 0.5967 0.2598\n"
     ]
    },
    {
     "name": "stderr",
     "output_type": "stream",
     "text": [
      "\n",
      "epoch-11  lr=['0.0099669'], tr/val_loss:  1.012114/  0.980306, tr:  83.59%, val:  89.12%, val_best:  89.12%: 100%|█████████▉| 467/469 [01:11<00:00, 13.54it/s]"
     ]
    },
    {
     "name": "stdout",
     "output_type": "stream",
     "text": [
      "1000 1000 3000 5000 10000 \n",
      " 0.8912 0.8912 0.753 0.5916 0.2616\n"
     ]
    },
    {
     "name": "stderr",
     "output_type": "stream",
     "text": [
      "epoch-11  lr=['0.0099669'], tr/val_loss:  1.012114/  0.980306, tr:  83.59%, val:  89.12%, val_best:  89.12%: 100%|██████████| 469/469 [01:12<00:00,  6.50it/s]\n",
      "epoch-12  lr=['0.0099606'], tr/val_loss:  1.005731/  0.969764, tr:  83.92%, val:  89.07%, val_best:  89.12%: 100%|██████████| 469/469 [01:13<00:00,  6.42it/s]"
     ]
    },
    {
     "name": "stdout",
     "output_type": "stream",
     "text": [
      "1000 1000 3000 5000 10000 \n",
      " 0.8907 0.8907 0.7589 0.606 0.2602\n"
     ]
    },
    {
     "name": "stderr",
     "output_type": "stream",
     "text": [
      "\n",
      "epoch-13  lr=['0.0099537'], tr/val_loss:  0.999743/  0.968255, tr:  84.21%, val:  88.66%, val_best:  89.12%: 100%|██████████| 469/469 [01:21<00:00,  5.72it/s]"
     ]
    },
    {
     "name": "stdout",
     "output_type": "stream",
     "text": [
      "1000 1000 3000 5000 10000 \n",
      " 0.8866 0.8866 0.7711 0.6371 0.2852\n"
     ]
    },
    {
     "name": "stderr",
     "output_type": "stream",
     "text": [
      "\n",
      "epoch-14  lr=['0.0099464'], tr/val_loss:  0.993642/  0.967140, tr:  84.47%, val:  88.30%, val_best:  89.12%: 100%|██████████| 469/469 [01:10<00:00,  6.63it/s]"
     ]
    },
    {
     "name": "stdout",
     "output_type": "stream",
     "text": [
      "1000 1000 3000 5000 10000 \n",
      " 0.883 0.883 0.7632 0.6111 0.2579\n"
     ]
    },
    {
     "name": "stderr",
     "output_type": "stream",
     "text": [
      "\n",
      "epoch-15  lr=['0.0099384'], tr/val_loss:  0.989585/  0.958757, tr:  84.70%, val:  88.67%, val_best:  89.12%: 100%|██████████| 469/469 [01:11<00:00,  6.54it/s]"
     ]
    },
    {
     "name": "stdout",
     "output_type": "stream",
     "text": [
      "1000 1000 3000 5000 10000 \n",
      " 0.8867 0.8867 0.7704 0.6431 0.3056\n"
     ]
    },
    {
     "name": "stderr",
     "output_type": "stream",
     "text": [
      "\n",
      "epoch-16  lr=['0.0099300'], tr/val_loss:  0.985557/  0.959976, tr:  84.90%, val:  88.93%, val_best:  89.12%: 100%|██████████| 469/469 [01:11<00:00,  6.54it/s]"
     ]
    },
    {
     "name": "stdout",
     "output_type": "stream",
     "text": [
      "1000 1000 3000 5000 10000 \n",
      " 0.8893 0.8893 0.7492 0.6027 0.2854\n"
     ]
    },
    {
     "name": "stderr",
     "output_type": "stream",
     "text": [
      "\n",
      "epoch-17  lr=['0.0099210'], tr/val_loss:  0.981694/  0.958019, tr:  85.09%, val:  88.35%, val_best:  89.12%: 100%|██████████| 469/469 [01:13<00:00,  6.36it/s]"
     ]
    },
    {
     "name": "stdout",
     "output_type": "stream",
     "text": [
      "1000 1000 3000 5000 10000 \n",
      " 0.8835 0.8835 0.7693 0.6437 0.3328\n"
     ]
    },
    {
     "name": "stderr",
     "output_type": "stream",
     "text": [
      "\n",
      "epoch-18  lr=['0.0099114'], tr/val_loss:  0.979402/  0.951398, tr:  85.26%, val:  89.03%, val_best:  89.12%: 100%|██████████| 469/469 [01:30<00:00,  5.21it/s]"
     ]
    },
    {
     "name": "stdout",
     "output_type": "stream",
     "text": [
      "1000 1000 3000 5000 10000 \n",
      " 0.8903 0.8903 0.7501 0.6035 0.2827\n"
     ]
    },
    {
     "name": "stderr",
     "output_type": "stream",
     "text": [
      "\n",
      "epoch-19  lr=['0.0099014'], tr/val_loss:  0.977247/  0.949775, tr:  85.41%, val:  88.37%, val_best:  89.12%: 100%|█████████▉| 467/469 [01:12<00:00, 12.84it/s]"
     ]
    },
    {
     "name": "stdout",
     "output_type": "stream",
     "text": [
      "1000 1000 3000 5000 10000 \n",
      " 0.8837 0.8837 0.7543 0.6105 0.2953\n"
     ]
    },
    {
     "name": "stderr",
     "output_type": "stream",
     "text": [
      "epoch-19  lr=['0.0099014'], tr/val_loss:  0.977247/  0.949775, tr:  85.41%, val:  88.37%, val_best:  89.12%: 100%|██████████| 469/469 [01:13<00:00,  6.42it/s]\n",
      "epoch-20  lr=['0.0098907'], tr/val_loss:  0.974224/  0.947297, tr:  85.55%, val:  88.79%, val_best:  89.12%: 100%|██████████| 469/469 [01:12<00:00,  6.47it/s]"
     ]
    },
    {
     "name": "stdout",
     "output_type": "stream",
     "text": [
      "1000 1000 3000 5000 10000 \n",
      " 0.8879 0.8879 0.7467 0.5804 0.253\n"
     ]
    },
    {
     "name": "stderr",
     "output_type": "stream",
     "text": [
      "\n",
      "epoch-21  lr=['0.0098796'], tr/val_loss:  0.972015/  0.941942, tr:  85.68%, val:  89.26%, val_best:  89.26%: 100%|██████████| 469/469 [01:12<00:00,  5.84s/it]"
     ]
    },
    {
     "name": "stdout",
     "output_type": "stream",
     "text": [
      "1000 1000 3000 5000 10000 \n",
      " 0.8926 0.8926 0.7515 0.6128 0.2976\n"
     ]
    },
    {
     "name": "stderr",
     "output_type": "stream",
     "text": [
      "epoch-21  lr=['0.0098796'], tr/val_loss:  0.972015/  0.941942, tr:  85.68%, val:  89.26%, val_best:  89.26%: 100%|██████████| 469/469 [01:12<00:00,  6.50it/s]\n",
      "epoch-22  lr=['0.0098679'], tr/val_loss:  0.969579/  0.941933, tr:  85.80%, val:  89.62%, val_best:  89.62%: 100%|██████████| 469/469 [01:13<00:00,  6.40it/s]"
     ]
    },
    {
     "name": "stdout",
     "output_type": "stream",
     "text": [
      "1000 1000 3000 5000 10000 \n",
      " 0.8962 0.8962 0.7571 0.603 0.2856\n"
     ]
    },
    {
     "name": "stderr",
     "output_type": "stream",
     "text": [
      "\n",
      "epoch-23  lr=['0.0098557'], tr/val_loss:  0.968112/  0.938101, tr:  85.92%, val:  88.94%, val_best:  89.62%: 100%|█████████▉| 467/469 [01:10<00:00, 14.23it/s]"
     ]
    },
    {
     "name": "stdout",
     "output_type": "stream",
     "text": [
      "1000 1000 3000 5000 10000 \n",
      " 0.8894 0.8894 0.7571 0.6042 0.2732\n"
     ]
    },
    {
     "name": "stderr",
     "output_type": "stream",
     "text": [
      "epoch-23  lr=['0.0098557'], tr/val_loss:  0.968112/  0.938101, tr:  85.92%, val:  88.94%, val_best:  89.62%: 100%|██████████| 469/469 [01:10<00:00,  6.62it/s]\n",
      "epoch-24  lr=['0.0098429'], tr/val_loss:  0.966250/  0.933310, tr:  86.02%, val:  89.51%, val_best:  89.62%: 100%|██████████| 469/469 [01:14<00:00,  6.31it/s]"
     ]
    },
    {
     "name": "stdout",
     "output_type": "stream",
     "text": [
      "1000 1000 3000 5000 10000 \n",
      " 0.8951 0.8951 0.7709 0.6209 0.2764\n"
     ]
    },
    {
     "name": "stderr",
     "output_type": "stream",
     "text": [
      "\n",
      "epoch-25  lr=['0.0098296'], tr/val_loss:  0.963735/  0.937114, tr:  86.12%, val:  89.32%, val_best:  89.62%: 100%|██████████| 469/469 [01:13<00:00,  6.39it/s]"
     ]
    },
    {
     "name": "stdout",
     "output_type": "stream",
     "text": [
      "1000 1000 3000 5000 10000 \n",
      " 0.8932 0.8932 0.763 0.6199 0.2885\n"
     ]
    },
    {
     "name": "stderr",
     "output_type": "stream",
     "text": [
      "\n",
      "epoch-26  lr=['0.0098158'], tr/val_loss:  0.962066/  0.930326, tr:  86.21%, val:  89.44%, val_best:  89.62%: 100%|██████████| 469/469 [01:11<00:00,  6.60it/s]"
     ]
    },
    {
     "name": "stdout",
     "output_type": "stream",
     "text": [
      "1000 1000 3000 5000 10000 \n",
      " 0.8944 0.8944 0.7551 0.6049 0.2645\n"
     ]
    },
    {
     "name": "stderr",
     "output_type": "stream",
     "text": [
      "\n",
      "epoch-27  lr=['0.0098015'], tr/val_loss:  0.960065/  0.928979, tr:  86.30%, val:  89.22%, val_best:  89.62%: 100%|██████████| 469/469 [01:10<00:00,  6.66it/s]"
     ]
    },
    {
     "name": "stdout",
     "output_type": "stream",
     "text": [
      "1000 1000 3000 5000 10000 \n",
      " 0.8922 0.8922 0.7552 0.5902 0.2262\n"
     ]
    },
    {
     "name": "stderr",
     "output_type": "stream",
     "text": [
      "\n",
      "epoch-28  iter_acc:  86.72%, lr=['0.0097866'], iter_loss:  1.050626, val_best:  89.62%: 100%|█████████▉| 467/469 [00:56<00:00, 12.70it/s]"
     ]
    },
    {
     "name": "stdout",
     "output_type": "stream",
     "text": [
      "1000 1000 3000 5000 10000 \n",
      " 0.8969 0.8969 0.7586 0.595 0.2434\n"
     ]
    },
    {
     "name": "stderr",
     "output_type": "stream",
     "text": [
      "epoch-28  lr=['0.0097866'], tr/val_loss:  0.958058/  0.928189, tr:  86.38%, val:  89.69%, val_best:  89.69%: 100%|██████████| 469/469 [01:12<00:00,  6.46it/s]\n",
      "epoch-29  iter_acc:  86.72%, lr=['0.0097712'], iter_loss:  1.003527, val_best:  89.69%: 100%|█████████▉| 467/469 [00:53<00:00, 13.47it/s]"
     ]
    },
    {
     "name": "stdout",
     "output_type": "stream",
     "text": [
      "1000 1000 3000 5000 10000 \n",
      " 0.8985 0.8985 0.7607 0.6174 0.2686\n"
     ]
    },
    {
     "name": "stderr",
     "output_type": "stream",
     "text": [
      "epoch-29  lr=['0.0097712'], tr/val_loss:  0.956371/  0.931845, tr:  86.46%, val:  89.85%, val_best:  89.85%: 100%|██████████| 469/469 [01:11<00:00,  6.54it/s]\n",
      "epoch-30  lr=['0.0097553'], tr/val_loss:  0.953993/  0.925768, tr:  86.53%, val:  89.81%, val_best:  89.85%: 100%|██████████| 469/469 [01:13<00:00,  6.38it/s]"
     ]
    },
    {
     "name": "stdout",
     "output_type": "stream",
     "text": [
      "1000 1000 3000 5000 10000 \n",
      " 0.8981 0.8981 0.7611 0.6123 0.2712\n"
     ]
    },
    {
     "name": "stderr",
     "output_type": "stream",
     "text": [
      "\n",
      "epoch-31  lr=['0.0097388'], tr/val_loss:  0.952187/  0.920570, tr:  86.61%, val:  90.01%, val_best:  90.01%: 100%|██████████| 469/469 [01:14<00:00,  6.28it/s]"
     ]
    },
    {
     "name": "stdout",
     "output_type": "stream",
     "text": [
      "1000 1000 3000 5000 10000 \n",
      " 0.9001 0.9001 0.77 0.6211 0.2658\n"
     ]
    },
    {
     "name": "stderr",
     "output_type": "stream",
     "text": [
      "\n",
      "epoch-32  lr=['0.0097219'], tr/val_loss:  0.950306/  0.918398, tr:  86.67%, val:  89.68%, val_best:  90.01%: 100%|██████████| 469/469 [01:13<00:00,  6.42it/s]"
     ]
    },
    {
     "name": "stdout",
     "output_type": "stream",
     "text": [
      "1000 1000 3000 5000 10000 \n",
      " 0.8968 0.8968 0.7536 0.5799 0.2248\n"
     ]
    },
    {
     "name": "stderr",
     "output_type": "stream",
     "text": [
      "\n",
      "epoch-33  lr=['0.0097044'], tr/val_loss:  0.947750/  0.928074, tr:  86.74%, val:  90.14%, val_best:  90.14%: 100%|██████████| 469/469 [01:14<00:00,  6.31it/s]"
     ]
    },
    {
     "name": "stdout",
     "output_type": "stream",
     "text": [
      "1000 1000 3000 5000 10000 \n",
      " 0.9014 0.9014 0.741 0.5571 0.2297\n"
     ]
    },
    {
     "name": "stderr",
     "output_type": "stream",
     "text": [
      "\n",
      "epoch-34  lr=['0.0096864'], tr/val_loss:  0.946154/  0.915560, tr:  86.80%, val:  90.15%, val_best:  90.15%: 100%|██████████| 469/469 [01:16<00:00,  6.17it/s]"
     ]
    },
    {
     "name": "stdout",
     "output_type": "stream",
     "text": [
      "1000 1000 3000 5000 10000 \n",
      " 0.9015 0.9015 0.7649 0.6084 0.2652\n"
     ]
    },
    {
     "name": "stderr",
     "output_type": "stream",
     "text": [
      "\n",
      "epoch-35  lr=['0.0096679'], tr/val_loss:  0.943190/  0.914790, tr:  86.86%, val:  89.59%, val_best:  90.15%: 100%|██████████| 469/469 [01:12<00:00,  6.45it/s]"
     ]
    },
    {
     "name": "stdout",
     "output_type": "stream",
     "text": [
      "1000 1000 3000 5000 10000 \n",
      " 0.8959 0.8959 0.7591 0.6013 0.2317\n"
     ]
    },
    {
     "name": "stderr",
     "output_type": "stream",
     "text": [
      "\n",
      "epoch-36  lr=['0.0096489'], tr/val_loss:  0.940588/  0.919879, tr:  86.92%, val:  89.57%, val_best:  90.15%: 100%|██████████| 469/469 [01:11<00:00,  5.60s/it]"
     ]
    },
    {
     "name": "stdout",
     "output_type": "stream",
     "text": [
      "1000 1000 3000 5000 10000 \n",
      " 0.8957 0.8957 0.7657 0.592 0.2172\n"
     ]
    },
    {
     "name": "stderr",
     "output_type": "stream",
     "text": [
      "epoch-36  lr=['0.0096489'], tr/val_loss:  0.940588/  0.919879, tr:  86.92%, val:  89.57%, val_best:  90.15%: 100%|██████████| 469/469 [01:12<00:00,  6.51it/s]\n",
      "epoch-37  lr=['0.0096294'], tr/val_loss:  0.937627/  0.910366, tr:  86.98%, val:  90.22%, val_best:  90.22%: 100%|██████████| 469/469 [01:11<00:00,  6.55it/s]"
     ]
    },
    {
     "name": "stdout",
     "output_type": "stream",
     "text": [
      "1000 1000 3000 5000 10000 \n",
      " 0.9022 0.9022 0.7617 0.6035 0.2708\n"
     ]
    },
    {
     "name": "stderr",
     "output_type": "stream",
     "text": [
      "\n",
      "epoch-38  lr=['0.0096093'], tr/val_loss:  0.934844/  0.905309, tr:  87.03%, val:  89.65%, val_best:  90.22%: 100%|██████████| 469/469 [01:15<00:00,  6.20it/s]"
     ]
    },
    {
     "name": "stdout",
     "output_type": "stream",
     "text": [
      "1000 1000 3000 5000 10000 \n",
      " 0.8965 0.8965 0.7592 0.6024 0.2395\n"
     ]
    },
    {
     "name": "stderr",
     "output_type": "stream",
     "text": [
      "\n",
      "epoch-39  lr=['0.0095888'], tr/val_loss:  0.932871/  0.905132, tr:  87.09%, val:  89.64%, val_best:  90.22%: 100%|██████████| 469/469 [01:22<00:00,  5.70it/s]"
     ]
    },
    {
     "name": "stdout",
     "output_type": "stream",
     "text": [
      "1000 1000 3000 5000 10000 \n",
      " 0.8964 0.8964 0.7671 0.6155 0.2549\n"
     ]
    },
    {
     "name": "stderr",
     "output_type": "stream",
     "text": [
      "\n",
      "epoch-40  lr=['0.0095677'], tr/val_loss:  0.931092/  0.901903, tr:  87.14%, val:  89.90%, val_best:  90.22%: 100%|██████████| 469/469 [01:14<00:00,  5.74s/it]"
     ]
    },
    {
     "name": "stdout",
     "output_type": "stream",
     "text": [
      "1000 1000 3000 5000 10000 \n",
      " 0.899 0.899 0.7685 0.6302 0.2804\n"
     ]
    },
    {
     "name": "stderr",
     "output_type": "stream",
     "text": [
      "epoch-40  lr=['0.0095677'], tr/val_loss:  0.931092/  0.901903, tr:  87.14%, val:  89.90%, val_best:  90.22%: 100%|██████████| 469/469 [01:14<00:00,  6.33it/s]\n",
      "epoch-41  lr=['0.0095462'], tr/val_loss:  0.928380/  0.900741, tr:  87.19%, val:  90.21%, val_best:  90.22%: 100%|██████████| 469/469 [01:12<00:00,  6.44it/s]"
     ]
    },
    {
     "name": "stdout",
     "output_type": "stream",
     "text": [
      "1000 1000 3000 5000 10000 \n",
      " 0.9021 0.9021 0.7658 0.6218 0.2638\n"
     ]
    },
    {
     "name": "stderr",
     "output_type": "stream",
     "text": [
      "\n",
      "epoch-42  lr=['0.0095241'], tr/val_loss:  0.926392/  0.895218, tr:  87.24%, val:  90.14%, val_best:  90.22%: 100%|██████████| 469/469 [01:14<00:00,  6.30it/s]"
     ]
    },
    {
     "name": "stdout",
     "output_type": "stream",
     "text": [
      "1000 1000 3000 5000 10000 \n",
      " 0.9014 0.9014 0.7781 0.6289 0.2716\n"
     ]
    },
    {
     "name": "stderr",
     "output_type": "stream",
     "text": [
      "\n",
      "epoch-43  lr=['0.0095016'], tr/val_loss:  0.924754/  0.894270, tr:  87.29%, val:  90.29%, val_best:  90.29%: 100%|██████████| 469/469 [01:17<00:00,  6.09it/s]"
     ]
    },
    {
     "name": "stdout",
     "output_type": "stream",
     "text": [
      "1000 1000 3000 5000 10000 \n",
      " 0.9029 0.9029 0.777 0.6386 0.2867\n"
     ]
    },
    {
     "name": "stderr",
     "output_type": "stream",
     "text": [
      "\n",
      "epoch-44  lr=['0.0094786'], tr/val_loss:  0.921952/  0.893662, tr:  87.34%, val:  90.26%, val_best:  90.29%: 100%|██████████| 469/469 [01:13<00:00,  6.37it/s]"
     ]
    },
    {
     "name": "stdout",
     "output_type": "stream",
     "text": [
      "1000 1000 3000 5000 10000 \n",
      " 0.9026 0.9026 0.7774 0.6356 0.2885\n"
     ]
    },
    {
     "name": "stderr",
     "output_type": "stream",
     "text": [
      "\n",
      "epoch-45  lr=['0.0094550'], tr/val_loss:  0.919883/  0.893401, tr:  87.38%, val:  90.20%, val_best:  90.29%: 100%|██████████| 469/469 [01:12<00:00,  6.44it/s]"
     ]
    },
    {
     "name": "stdout",
     "output_type": "stream",
     "text": [
      "1000 1000 3000 5000 10000 \n",
      " 0.902 0.902 0.7626 0.6015 0.2344\n"
     ]
    },
    {
     "name": "stderr",
     "output_type": "stream",
     "text": [
      "\n",
      "epoch-46  lr=['0.0094310'], tr/val_loss:  0.918523/  0.896594, tr:  87.43%, val:  89.87%, val_best:  90.29%: 100%|██████████| 469/469 [01:11<00:00,  4.92s/it]"
     ]
    },
    {
     "name": "stdout",
     "output_type": "stream",
     "text": [
      "1000 1000 3000 5000 10000 \n",
      " 0.8987 0.8987 0.7605 0.6043 0.2646\n"
     ]
    },
    {
     "name": "stderr",
     "output_type": "stream",
     "text": [
      "epoch-46  lr=['0.0094310'], tr/val_loss:  0.918523/  0.896594, tr:  87.43%, val:  89.87%, val_best:  90.29%: 100%|██████████| 469/469 [01:11<00:00,  6.52it/s]\n",
      "epoch-47  lr=['0.0094065'], tr/val_loss:  0.916925/  0.888317, tr:  87.47%, val:  90.27%, val_best:  90.29%: 100%|█████████▉| 467/469 [01:22<00:00, 12.89it/s]"
     ]
    },
    {
     "name": "stdout",
     "output_type": "stream",
     "text": [
      "1000 1000 3000 5000 10000 \n",
      " 0.9027 0.9027 0.775 0.6149 0.2516\n"
     ]
    },
    {
     "name": "stderr",
     "output_type": "stream",
     "text": [
      "epoch-47  lr=['0.0094065'], tr/val_loss:  0.916925/  0.888317, tr:  87.47%, val:  90.27%, val_best:  90.29%: 100%|██████████| 469/469 [01:22<00:00,  5.66it/s]\n",
      "epoch-48  lr=['0.0093815'], tr/val_loss:  0.915648/  0.885556, tr:  87.51%, val:  90.48%, val_best:  90.48%: 100%|█████████▉| 468/469 [01:14<00:00, 12.99it/s]"
     ]
    },
    {
     "name": "stdout",
     "output_type": "stream",
     "text": [
      "1000 1000 3000 5000 10000 \n",
      " 0.9048 0.9048 0.7907 0.6517 0.2746\n"
     ]
    },
    {
     "name": "stderr",
     "output_type": "stream",
     "text": [
      "epoch-48  lr=['0.0093815'], tr/val_loss:  0.915648/  0.885556, tr:  87.51%, val:  90.48%, val_best:  90.48%: 100%|██████████| 469/469 [01:14<00:00,  6.27it/s]\n",
      "epoch-49  lr=['0.0093561'], tr/val_loss:  0.913652/  0.887957, tr:  87.56%, val:  90.39%, val_best:  90.48%: 100%|█████████▉| 467/469 [01:13<00:00, 12.38it/s]"
     ]
    },
    {
     "name": "stdout",
     "output_type": "stream",
     "text": [
      "1000 1000 3000 5000 10000 \n",
      " 0.9039 0.9039 0.7701 0.6172 0.2646\n"
     ]
    },
    {
     "name": "stderr",
     "output_type": "stream",
     "text": [
      "epoch-49  lr=['0.0093561'], tr/val_loss:  0.913652/  0.887957, tr:  87.56%, val:  90.39%, val_best:  90.48%: 100%|██████████| 469/469 [01:14<00:00,  6.32it/s]\n",
      "epoch-50  lr=['0.0093301'], tr/val_loss:  0.912841/  0.886279, tr:  87.60%, val:  90.18%, val_best:  90.48%: 100%|██████████| 469/469 [01:13<00:00,  6.37it/s]"
     ]
    },
    {
     "name": "stdout",
     "output_type": "stream",
     "text": [
      "1000 1000 3000 5000 10000 \n",
      " 0.9018 0.9018 0.7677 0.6345 0.3078\n"
     ]
    },
    {
     "name": "stderr",
     "output_type": "stream",
     "text": [
      "\n",
      "epoch-51  lr=['0.0093037'], tr/val_loss:  0.910701/  0.886143, tr:  87.64%, val:  89.98%, val_best:  90.48%: 100%|██████████| 469/469 [01:17<00:00,  6.07it/s]"
     ]
    },
    {
     "name": "stdout",
     "output_type": "stream",
     "text": [
      "1000 1000 3000 5000 10000 \n",
      " 0.8998 0.8998 0.7793 0.6497 0.2852\n"
     ]
    },
    {
     "name": "stderr",
     "output_type": "stream",
     "text": [
      "\n",
      "epoch-52  lr=['0.0092768'], tr/val_loss:  0.908380/  0.882416, tr:  87.68%, val:  90.38%, val_best:  90.48%: 100%|██████████| 469/469 [01:08<00:00,  6.80it/s]"
     ]
    },
    {
     "name": "stdout",
     "output_type": "stream",
     "text": [
      "1000 1000 3000 5000 10000 \n",
      " 0.9038 0.9038 0.7697 0.5963 0.2239\n"
     ]
    },
    {
     "name": "stderr",
     "output_type": "stream",
     "text": [
      "\n",
      "epoch-53  lr=['0.0092495'], tr/val_loss:  0.907248/  0.884849, tr:  87.72%, val:  89.97%, val_best:  90.48%: 100%|██████████| 469/469 [01:21<00:00,  4.83s/it]"
     ]
    },
    {
     "name": "stdout",
     "output_type": "stream",
     "text": [
      "1000 1000 3000 5000 10000 \n",
      " 0.8997 0.8997 0.7693 0.5937 0.2185\n"
     ]
    },
    {
     "name": "stderr",
     "output_type": "stream",
     "text": [
      "epoch-53  lr=['0.0092495'], tr/val_loss:  0.907248/  0.884849, tr:  87.72%, val:  89.97%, val_best:  90.48%: 100%|██████████| 469/469 [01:21<00:00,  5.76it/s]\n",
      "epoch-54  lr=['0.0092216'], tr/val_loss:  0.905154/  0.877596, tr:  87.76%, val:  91.08%, val_best:  91.08%: 100%|██████████| 469/469 [01:20<00:00,  5.84it/s]"
     ]
    },
    {
     "name": "stdout",
     "output_type": "stream",
     "text": [
      "1000 1000 3000 5000 10000 \n",
      " 0.9108 0.9108 0.7855 0.64 0.2646\n"
     ]
    },
    {
     "name": "stderr",
     "output_type": "stream",
     "text": [
      "\n",
      "epoch-55  lr=['0.0091934'], tr/val_loss:  0.903823/  0.877924, tr:  87.80%, val:  91.16%, val_best:  91.16%: 100%|██████████| 469/469 [01:13<00:00,  5.77s/it]"
     ]
    },
    {
     "name": "stdout",
     "output_type": "stream",
     "text": [
      "1000 1000 3000 5000 10000 \n",
      " 0.9116 0.9116 0.7802 0.6262 0.2512\n"
     ]
    },
    {
     "name": "stderr",
     "output_type": "stream",
     "text": [
      "epoch-55  lr=['0.0091934'], tr/val_loss:  0.903823/  0.877924, tr:  87.80%, val:  91.16%, val_best:  91.16%: 100%|██████████| 469/469 [01:14<00:00,  6.33it/s]\n",
      "epoch-56  lr=['0.0091646'], tr/val_loss:  0.902420/  0.880975, tr:  87.83%, val:  90.78%, val_best:  91.16%: 100%|██████████| 469/469 [01:13<00:00,  6.39it/s]"
     ]
    },
    {
     "name": "stdout",
     "output_type": "stream",
     "text": [
      "1000 1000 3000 5000 10000 \n",
      " 0.9078 0.9078 0.7707 0.6325 0.2997\n"
     ]
    },
    {
     "name": "stderr",
     "output_type": "stream",
     "text": [
      "\n",
      "epoch-57  lr=['0.0091354'], tr/val_loss:  0.901011/  0.874582, tr:  87.87%, val:  90.99%, val_best:  91.16%: 100%|█████████▉| 468/469 [01:14<00:00, 12.95it/s]"
     ]
    },
    {
     "name": "stdout",
     "output_type": "stream",
     "text": [
      "1000 1000 3000 5000 10000 \n",
      " 0.9099 0.9099 0.7759 0.6208 0.251\n"
     ]
    },
    {
     "name": "stderr",
     "output_type": "stream",
     "text": [
      "epoch-57  lr=['0.0091354'], tr/val_loss:  0.901011/  0.874582, tr:  87.87%, val:  90.99%, val_best:  91.16%: 100%|██████████| 469/469 [01:15<00:00,  6.17it/s]\n",
      "epoch-58  lr=['0.0091057'], tr/val_loss:  0.899623/  0.878491, tr:  87.90%, val:  90.45%, val_best:  91.16%: 100%|██████████| 469/469 [01:16<00:00,  6.67s/it]"
     ]
    },
    {
     "name": "stdout",
     "output_type": "stream",
     "text": [
      "1000 1000 3000 5000 10000 \n",
      " 0.9045 0.9045 0.7727 0.613 0.2494\n"
     ]
    },
    {
     "name": "stderr",
     "output_type": "stream",
     "text": [
      "epoch-58  lr=['0.0091057'], tr/val_loss:  0.899623/  0.878491, tr:  87.90%, val:  90.45%, val_best:  91.16%: 100%|██████████| 469/469 [01:16<00:00,  6.15it/s]\n",
      "epoch-59  lr=['0.0090756'], tr/val_loss:  0.897759/  0.871496, tr:  87.94%, val:  90.88%, val_best:  91.16%: 100%|██████████| 469/469 [01:14<00:00,  6.27it/s]"
     ]
    },
    {
     "name": "stdout",
     "output_type": "stream",
     "text": [
      "1000 1000 3000 5000 10000 \n",
      " 0.9088 0.9088 0.7722 0.6255 0.2689\n"
     ]
    },
    {
     "name": "stderr",
     "output_type": "stream",
     "text": [
      "\n",
      "epoch-60  lr=['0.0090451'], tr/val_loss:  0.896273/  0.868198, tr:  87.97%, val:  90.82%, val_best:  91.16%: 100%|██████████| 469/469 [01:16<00:00,  6.13it/s]"
     ]
    },
    {
     "name": "stdout",
     "output_type": "stream",
     "text": [
      "1000 1000 3000 5000 10000 \n",
      " 0.9082 0.9082 0.7826 0.6361 0.2665\n"
     ]
    },
    {
     "name": "stderr",
     "output_type": "stream",
     "text": [
      "\n",
      "epoch-61  lr=['0.0090141'], tr/val_loss:  0.894971/  0.871906, tr:  88.01%, val:  91.08%, val_best:  91.16%: 100%|██████████| 469/469 [01:14<00:00,  5.62s/it]"
     ]
    },
    {
     "name": "stdout",
     "output_type": "stream",
     "text": [
      "1000 1000 3000 5000 10000 \n",
      " 0.9108 0.9108 0.7523 0.5927 0.2588\n"
     ]
    },
    {
     "name": "stderr",
     "output_type": "stream",
     "text": [
      "epoch-61  lr=['0.0090141'], tr/val_loss:  0.894971/  0.871906, tr:  88.01%, val:  91.08%, val_best:  91.16%: 100%|██████████| 469/469 [01:14<00:00,  6.31it/s]\n",
      "epoch-62  lr=['0.0089826'], tr/val_loss:  0.894333/  0.872532, tr:  88.04%, val:  90.27%, val_best:  91.16%: 100%|██████████| 469/469 [01:14<00:00,  6.32it/s]"
     ]
    },
    {
     "name": "stdout",
     "output_type": "stream",
     "text": [
      "1000 1000 3000 5000 10000 \n",
      " 0.9027 0.9027 0.7763 0.6295 0.2877\n"
     ]
    },
    {
     "name": "stderr",
     "output_type": "stream",
     "text": [
      "\n",
      "epoch-63  lr=['0.0089508'], tr/val_loss:  0.892738/  0.867754, tr:  88.07%, val:  90.77%, val_best:  91.16%: 100%|██████████| 469/469 [01:16<00:00,  6.12it/s]"
     ]
    },
    {
     "name": "stdout",
     "output_type": "stream",
     "text": [
      "1000 1000 3000 5000 10000 \n",
      " 0.9077 0.9077 0.7772 0.6044 0.2181\n"
     ]
    },
    {
     "name": "stderr",
     "output_type": "stream",
     "text": [
      "\n",
      "epoch-64  lr=['0.0089185'], tr/val_loss:  0.891532/  0.865321, tr:  88.10%, val:  90.78%, val_best:  91.16%: 100%|██████████| 469/469 [01:15<00:00,  6.25it/s]"
     ]
    },
    {
     "name": "stdout",
     "output_type": "stream",
     "text": [
      "1000 1000 3000 5000 10000 \n",
      " 0.9078 0.9078 0.7709 0.6167 0.2549\n"
     ]
    },
    {
     "name": "stderr",
     "output_type": "stream",
     "text": [
      "\n",
      "epoch-65  lr=['0.0088857'], tr/val_loss:  0.890527/  0.864145, tr:  88.13%, val:  91.01%, val_best:  91.16%: 100%|██████████| 469/469 [01:17<00:00,  6.09it/s]"
     ]
    },
    {
     "name": "stdout",
     "output_type": "stream",
     "text": [
      "1000 1000 3000 5000 10000 \n",
      " 0.9101 0.9101 0.7671 0.6236 0.2704\n"
     ]
    },
    {
     "name": "stderr",
     "output_type": "stream",
     "text": [
      "\n",
      "epoch-66  lr=['0.0088526'], tr/val_loss:  0.888637/  0.866360, tr:  88.16%, val:  90.75%, val_best:  91.16%: 100%|██████████| 469/469 [01:13<00:00,  6.40it/s]"
     ]
    },
    {
     "name": "stdout",
     "output_type": "stream",
     "text": [
      "1000 1000 3000 5000 10000 \n",
      " 0.9075 0.9075 0.7681 0.6056 0.2059\n"
     ]
    },
    {
     "name": "stderr",
     "output_type": "stream",
     "text": [
      "\n",
      "epoch-67  lr=['0.0088190'], tr/val_loss:  0.887188/  0.861940, tr:  88.19%, val:  90.92%, val_best:  91.16%: 100%|██████████| 469/469 [01:13<00:00,  4.81s/it]"
     ]
    },
    {
     "name": "stdout",
     "output_type": "stream",
     "text": [
      "1000 1000 3000 5000 10000 \n",
      " 0.9092 0.9092 0.773 0.6259 0.2511\n"
     ]
    },
    {
     "name": "stderr",
     "output_type": "stream",
     "text": [
      "epoch-67  lr=['0.0088190'], tr/val_loss:  0.887188/  0.861940, tr:  88.19%, val:  90.92%, val_best:  91.16%: 100%|██████████| 469/469 [01:13<00:00,  6.38it/s]\n",
      "epoch-68  lr=['0.0087850'], tr/val_loss:  0.886468/  0.864682, tr:  88.22%, val:  90.84%, val_best:  91.16%: 100%|█████████▉| 467/469 [01:14<00:00, 12.75it/s]"
     ]
    },
    {
     "name": "stdout",
     "output_type": "stream",
     "text": [
      "1000 1000 3000 5000 10000 \n",
      " 0.9084 0.9084 0.7644 0.6215 0.2698\n"
     ]
    },
    {
     "name": "stderr",
     "output_type": "stream",
     "text": [
      "epoch-68  lr=['0.0087850'], tr/val_loss:  0.886468/  0.864682, tr:  88.22%, val:  90.84%, val_best:  91.16%: 100%|██████████| 469/469 [01:15<00:00,  6.25it/s]\n",
      "epoch-69  lr=['0.0087506'], tr/val_loss:  0.884723/  0.865651, tr:  88.25%, val:  90.39%, val_best:  91.16%: 100%|██████████| 469/469 [01:15<00:00,  4.87s/it]"
     ]
    },
    {
     "name": "stdout",
     "output_type": "stream",
     "text": [
      "1000 1000 3000 5000 10000 \n",
      " 0.9039 0.9039 0.7647 0.5899 0.1961\n"
     ]
    },
    {
     "name": "stderr",
     "output_type": "stream",
     "text": [
      "epoch-69  lr=['0.0087506'], tr/val_loss:  0.884723/  0.865651, tr:  88.25%, val:  90.39%, val_best:  91.16%: 100%|██████████| 469/469 [01:15<00:00,  6.23it/s]\n",
      "epoch-70  lr=['0.0087157'], tr/val_loss:  0.883044/  0.860704, tr:  88.28%, val:  91.24%, val_best:  91.24%: 100%|██████████| 469/469 [01:13<00:00,  6.41it/s]"
     ]
    },
    {
     "name": "stdout",
     "output_type": "stream",
     "text": [
      "1000 1000 3000 5000 10000 \n",
      " 0.9124 0.9124 0.7712 0.5984 0.2171\n"
     ]
    },
    {
     "name": "stderr",
     "output_type": "stream",
     "text": [
      "\n",
      "epoch-71  lr=['0.0086805'], tr/val_loss:  0.881612/  0.858377, tr:  88.30%, val:  91.23%, val_best:  91.24%: 100%|██████████| 469/469 [01:17<00:00,  6.09it/s]"
     ]
    },
    {
     "name": "stdout",
     "output_type": "stream",
     "text": [
      "1000 1000 3000 5000 10000 \n",
      " 0.9123 0.9123 0.771 0.6112 0.2398\n"
     ]
    },
    {
     "name": "stderr",
     "output_type": "stream",
     "text": [
      "\n",
      "epoch-72  lr=['0.0086448'], tr/val_loss:  0.880294/  0.857675, tr:  88.33%, val:  90.96%, val_best:  91.24%: 100%|██████████| 469/469 [01:15<00:00,  6.20it/s]"
     ]
    },
    {
     "name": "stdout",
     "output_type": "stream",
     "text": [
      "1000 1000 3000 5000 10000 \n",
      " 0.9096 0.9096 0.7775 0.6292 0.2706\n"
     ]
    },
    {
     "name": "stderr",
     "output_type": "stream",
     "text": [
      "\n",
      "epoch-73  lr=['0.0086088'], tr/val_loss:  0.879650/  0.861166, tr:  88.36%, val:  91.26%, val_best:  91.26%: 100%|██████████| 469/469 [01:15<00:00,  6.20it/s]"
     ]
    },
    {
     "name": "stdout",
     "output_type": "stream",
     "text": [
      "1000 1000 3000 5000 10000 \n",
      " 0.9126 0.9126 0.7733 0.6227 0.2622\n"
     ]
    },
    {
     "name": "stderr",
     "output_type": "stream",
     "text": [
      "\n",
      "epoch-74  lr=['0.0085724'], tr/val_loss:  0.878364/  0.855302, tr:  88.39%, val:  90.57%, val_best:  91.26%: 100%|██████████| 469/469 [01:14<00:00,  6.28it/s]"
     ]
    },
    {
     "name": "stdout",
     "output_type": "stream",
     "text": [
      "1000 1000 3000 5000 10000 \n",
      " 0.9057 0.9057 0.7662 0.6123 0.259\n"
     ]
    },
    {
     "name": "stderr",
     "output_type": "stream",
     "text": [
      "\n",
      "epoch-75  lr=['0.0085355'], tr/val_loss:  0.877783/  0.855474, tr:  88.41%, val:  91.45%, val_best:  91.45%: 100%|██████████| 469/469 [01:14<00:00,  6.29it/s]"
     ]
    },
    {
     "name": "stdout",
     "output_type": "stream",
     "text": [
      "1000 1000 3000 5000 10000 \n",
      " 0.9145 0.9145 0.7825 0.6342 0.2356\n"
     ]
    },
    {
     "name": "stderr",
     "output_type": "stream",
     "text": [
      "\n",
      "epoch-76  lr=['0.0084983'], tr/val_loss:  0.875914/  0.859082, tr:  88.44%, val:  90.55%, val_best:  91.45%: 100%|██████████| 469/469 [01:23<00:00,  5.59it/s]"
     ]
    },
    {
     "name": "stdout",
     "output_type": "stream",
     "text": [
      "1000 1000 3000 5000 10000 \n",
      " 0.9055 0.9055 0.7774 0.6453 0.2955\n"
     ]
    },
    {
     "name": "stderr",
     "output_type": "stream",
     "text": [
      "\n",
      "epoch-77  lr=['0.0084607'], tr/val_loss:  0.875542/  0.855476, tr:  88.46%, val:  90.80%, val_best:  91.45%: 100%|██████████| 469/469 [01:11<00:00,  6.55it/s]"
     ]
    },
    {
     "name": "stdout",
     "output_type": "stream",
     "text": [
      "1000 1000 3000 5000 10000 \n",
      " 0.908 0.908 0.772 0.6187 0.2321\n"
     ]
    },
    {
     "name": "stderr",
     "output_type": "stream",
     "text": [
      "\n",
      "epoch-78  lr=['0.0084227'], tr/val_loss:  0.873803/  0.852753, tr:  88.49%, val:  91.14%, val_best:  91.45%: 100%|██████████| 469/469 [01:09<00:00,  6.71it/s]"
     ]
    },
    {
     "name": "stdout",
     "output_type": "stream",
     "text": [
      "1000 1000 3000 5000 10000 \n",
      " 0.9114 0.9114 0.7657 0.6144 0.2539\n"
     ]
    },
    {
     "name": "stderr",
     "output_type": "stream",
     "text": [
      "\n",
      "epoch-79  lr=['0.0083844'], tr/val_loss:  0.873286/  0.855311, tr:  88.51%, val:  90.76%, val_best:  91.45%: 100%|██████████| 469/469 [01:09<00:00,  6.79it/s]"
     ]
    },
    {
     "name": "stdout",
     "output_type": "stream",
     "text": [
      "1000 1000 3000 5000 10000 \n",
      " 0.9076 0.9076 0.7694 0.598 0.2077\n"
     ]
    },
    {
     "name": "stderr",
     "output_type": "stream",
     "text": [
      "\n",
      "epoch-80  lr=['0.0083457'], tr/val_loss:  0.871639/  0.851881, tr:  88.54%, val:  91.03%, val_best:  91.45%: 100%|██████████| 469/469 [01:09<00:00,  6.74it/s]"
     ]
    },
    {
     "name": "stdout",
     "output_type": "stream",
     "text": [
      "1000 1000 3000 5000 10000 \n",
      " 0.9103 0.9103 0.7715 0.6083 0.2145\n"
     ]
    },
    {
     "name": "stderr",
     "output_type": "stream",
     "text": [
      "\n",
      "epoch-81  lr=['0.0083066'], tr/val_loss:  0.871013/  0.851059, tr:  88.56%, val:  91.00%, val_best:  91.45%: 100%|██████████| 469/469 [01:10<00:00,  6.68it/s]"
     ]
    },
    {
     "name": "stdout",
     "output_type": "stream",
     "text": [
      "1000 1000 3000 5000 10000 \n",
      " 0.91 0.91 0.7746 0.6146 0.2839\n"
     ]
    },
    {
     "name": "stderr",
     "output_type": "stream",
     "text": [
      "\n",
      "epoch-82  lr=['0.0082671'], tr/val_loss:  0.869760/  0.847415, tr:  88.59%, val:  91.13%, val_best:  91.45%: 100%|██████████| 469/469 [01:09<00:00,  6.74it/s]"
     ]
    },
    {
     "name": "stdout",
     "output_type": "stream",
     "text": [
      "1000 1000 3000 5000 10000 \n",
      " 0.9113 0.9113 0.7766 0.6372 0.2458\n"
     ]
    },
    {
     "name": "stderr",
     "output_type": "stream",
     "text": [
      "\n",
      "epoch-83  lr=['0.0082273'], tr/val_loss:  0.869426/  0.843452, tr:  88.61%, val:  91.30%, val_best:  91.45%: 100%|██████████| 469/469 [01:09<00:00,  6.79it/s]"
     ]
    },
    {
     "name": "stdout",
     "output_type": "stream",
     "text": [
      "1000 1000 3000 5000 10000 \n",
      " 0.913 0.913 0.7813 0.6264 0.258\n"
     ]
    },
    {
     "name": "stderr",
     "output_type": "stream",
     "text": [
      "\n",
      "epoch-84  lr=['0.0081871'], tr/val_loss:  0.867891/  0.848852, tr:  88.63%, val:  91.28%, val_best:  91.45%: 100%|██████████| 469/469 [01:09<00:00,  6.79it/s]"
     ]
    },
    {
     "name": "stdout",
     "output_type": "stream",
     "text": [
      "1000 1000 3000 5000 10000 \n",
      " 0.9128 0.9128 0.7897 0.6549 0.2854\n"
     ]
    },
    {
     "name": "stderr",
     "output_type": "stream",
     "text": [
      "\n",
      "epoch-85  lr=['0.0081466'], tr/val_loss:  0.867021/  0.847814, tr:  88.66%, val:  90.76%, val_best:  91.45%: 100%|██████████| 469/469 [01:08<00:00,  6.87it/s]"
     ]
    },
    {
     "name": "stdout",
     "output_type": "stream",
     "text": [
      "1000 1000 3000 5000 10000 \n",
      " 0.9076 0.9076 0.7842 0.6322 0.2618\n"
     ]
    },
    {
     "name": "stderr",
     "output_type": "stream",
     "text": [
      "\n",
      "epoch-86  lr=['0.0081057'], tr/val_loss:  0.866371/  0.844241, tr:  88.68%, val:  91.17%, val_best:  91.45%: 100%|██████████| 469/469 [01:09<00:00,  6.72it/s]"
     ]
    },
    {
     "name": "stdout",
     "output_type": "stream",
     "text": [
      "1000 1000 3000 5000 10000 \n",
      " 0.9117 0.9117 0.7815 0.6509 0.3003\n"
     ]
    },
    {
     "name": "stderr",
     "output_type": "stream",
     "text": [
      "\n",
      "epoch-87  lr=['0.0080645'], tr/val_loss:  0.865474/  0.843610, tr:  88.70%, val:  91.23%, val_best:  91.45%: 100%|██████████| 469/469 [01:09<00:00,  6.76it/s]"
     ]
    },
    {
     "name": "stdout",
     "output_type": "stream",
     "text": [
      "1000 1000 3000 5000 10000 \n",
      " 0.9123 0.9123 0.7753 0.6296 0.2402\n"
     ]
    },
    {
     "name": "stderr",
     "output_type": "stream",
     "text": [
      "\n",
      "epoch-88  lr=['0.0080230'], tr/val_loss:  0.864059/  0.849198, tr:  88.72%, val:  90.85%, val_best:  91.45%: 100%|██████████| 469/469 [01:08<00:00,  6.83it/s]"
     ]
    },
    {
     "name": "stdout",
     "output_type": "stream",
     "text": [
      "1000 1000 3000 5000 10000 \n",
      " 0.9085 0.9085 0.7723 0.6394 0.267\n"
     ]
    },
    {
     "name": "stderr",
     "output_type": "stream",
     "text": [
      "\n",
      "epoch-89  lr=['0.0079811'], tr/val_loss:  0.863228/  0.841900, tr:  88.74%, val:  91.59%, val_best:  91.59%: 100%|██████████| 469/469 [01:09<00:00,  6.79it/s]"
     ]
    },
    {
     "name": "stdout",
     "output_type": "stream",
     "text": [
      "1000 1000 3000 5000 10000 \n",
      " 0.9159 0.9159 0.7823 0.6381 0.2646\n"
     ]
    },
    {
     "name": "stderr",
     "output_type": "stream",
     "text": [
      "\n",
      "epoch-90  lr=['0.0079389'], tr/val_loss:  0.862979/  0.841119, tr:  88.77%, val:  91.42%, val_best:  91.59%: 100%|█████████▉| 468/469 [01:07<00:00, 13.49it/s]"
     ]
    },
    {
     "name": "stdout",
     "output_type": "stream",
     "text": [
      "1000 1000 3000 5000 10000 \n",
      " 0.9142 0.9142 0.7756 0.6301 0.2432\n"
     ]
    },
    {
     "name": "stderr",
     "output_type": "stream",
     "text": [
      "epoch-90  lr=['0.0079389'], tr/val_loss:  0.862979/  0.841119, tr:  88.77%, val:  91.42%, val_best:  91.59%: 100%|██████████| 469/469 [01:08<00:00,  6.86it/s]\n",
      "epoch-91  lr=['0.0078964'], tr/val_loss:  0.862221/  0.839333, tr:  88.79%, val:  91.51%, val_best:  91.59%: 100%|██████████| 469/469 [01:26<00:00,  5.65s/it]"
     ]
    },
    {
     "name": "stdout",
     "output_type": "stream",
     "text": [
      "1000 1000 3000 5000 10000 \n",
      " 0.9151 0.9151 0.7903 0.6487 0.2702\n"
     ]
    },
    {
     "name": "stderr",
     "output_type": "stream",
     "text": [
      "epoch-91  lr=['0.0078964'], tr/val_loss:  0.862221/  0.839333, tr:  88.79%, val:  91.51%, val_best:  91.59%: 100%|██████████| 469/469 [01:26<00:00,  5.44it/s]\n",
      "epoch-92  lr=['0.0078536'], tr/val_loss:  0.861216/  0.840368, tr:  88.81%, val:  91.37%, val_best:  91.59%: 100%|██████████| 469/469 [01:27<00:00,  5.52s/it]"
     ]
    },
    {
     "name": "stdout",
     "output_type": "stream",
     "text": [
      "1000 1000 3000 5000 10000 \n",
      " 0.9137 0.9137 0.7799 0.6345 0.273\n"
     ]
    },
    {
     "name": "stderr",
     "output_type": "stream",
     "text": [
      "epoch-92  lr=['0.0078536'], tr/val_loss:  0.861216/  0.840368, tr:  88.81%, val:  91.37%, val_best:  91.59%: 100%|██████████| 469/469 [01:27<00:00,  5.38it/s]\n",
      "epoch-93  lr=['0.0078104'], tr/val_loss:  0.860722/  0.836836, tr:  88.83%, val:  91.24%, val_best:  91.59%: 100%|██████████| 469/469 [01:33<00:00,  4.85s/it]"
     ]
    },
    {
     "name": "stdout",
     "output_type": "stream",
     "text": [
      "1000 1000 3000 5000 10000 \n",
      " 0.9124 0.9124 0.7872 0.661 0.285\n"
     ]
    },
    {
     "name": "stderr",
     "output_type": "stream",
     "text": [
      "epoch-93  lr=['0.0078104'], tr/val_loss:  0.860722/  0.836836, tr:  88.83%, val:  91.24%, val_best:  91.59%: 100%|██████████| 469/469 [01:33<00:00,  5.03it/s]\n",
      "epoch-94  lr=['0.0077670'], tr/val_loss:  0.859492/  0.837518, tr:  88.85%, val:  91.25%, val_best:  91.59%: 100%|██████████| 469/469 [01:28<00:00,  5.32it/s]"
     ]
    },
    {
     "name": "stdout",
     "output_type": "stream",
     "text": [
      "1000 1000 3000 5000 10000 \n",
      " 0.9125 0.9125 0.7897 0.6607 0.2911\n"
     ]
    },
    {
     "name": "stderr",
     "output_type": "stream",
     "text": [
      "\n",
      "epoch-95  lr=['0.0077232'], tr/val_loss:  0.859060/  0.838694, tr:  88.87%, val:  91.34%, val_best:  91.59%: 100%|█████████▉| 467/469 [01:29<00:00,  8.34it/s]"
     ]
    },
    {
     "name": "stdout",
     "output_type": "stream",
     "text": [
      "1000 1000 3000 5000 10000 \n",
      " 0.9134 0.9134 0.7873 0.6634 0.3033\n"
     ]
    },
    {
     "name": "stderr",
     "output_type": "stream",
     "text": [
      "epoch-95  lr=['0.0077232'], tr/val_loss:  0.859060/  0.838694, tr:  88.87%, val:  91.34%, val_best:  91.59%: 100%|██████████| 469/469 [01:30<00:00,  5.21it/s]\n",
      "epoch-96  lr=['0.0076791'], tr/val_loss:  0.858083/  0.837597, tr:  88.89%, val:  91.58%, val_best:  91.59%: 100%|██████████| 469/469 [01:34<00:00,  4.98it/s]"
     ]
    },
    {
     "name": "stdout",
     "output_type": "stream",
     "text": [
      "1000 1000 3000 5000 10000 \n",
      " 0.9158 0.9158 0.7873 0.6426 0.293\n"
     ]
    },
    {
     "name": "stderr",
     "output_type": "stream",
     "text": [
      "\n",
      "epoch-97  lr=['0.0076348'], tr/val_loss:  0.856994/  0.833151, tr:  88.91%, val:  91.40%, val_best:  91.59%: 100%|██████████| 469/469 [01:21<00:00,  5.09s/it]"
     ]
    },
    {
     "name": "stdout",
     "output_type": "stream",
     "text": [
      "1000 1000 3000 5000 10000 \n",
      " 0.914 0.914 0.7949 0.6743 0.2952\n"
     ]
    },
    {
     "name": "stderr",
     "output_type": "stream",
     "text": [
      "epoch-97  lr=['0.0076348'], tr/val_loss:  0.856994/  0.833151, tr:  88.91%, val:  91.40%, val_best:  91.59%: 100%|██████████| 469/469 [01:21<00:00,  5.77it/s]\n",
      "epoch-98  lr=['0.0075901'], tr/val_loss:  0.856435/  0.834529, tr:  88.92%, val:  91.34%, val_best:  91.59%: 100%|██████████| 469/469 [01:17<00:00,  6.09it/s]"
     ]
    },
    {
     "name": "stdout",
     "output_type": "stream",
     "text": [
      "1000 1000 3000 5000 10000 \n",
      " 0.9134 0.9134 0.7916 0.6475 0.2218\n"
     ]
    },
    {
     "name": "stderr",
     "output_type": "stream",
     "text": [
      "\n",
      "epoch-99  lr=['0.0075452'], tr/val_loss:  0.855493/  0.840540, tr:  88.94%, val:  91.77%, val_best:  91.77%: 100%|██████████| 469/469 [01:23<00:00,  5.60it/s]"
     ]
    },
    {
     "name": "stdout",
     "output_type": "stream",
     "text": [
      "1000 1000 3000 5000 10000 \n",
      " 0.9177 0.9177 0.7658 0.598 0.2764\n"
     ]
    },
    {
     "name": "stderr",
     "output_type": "stream",
     "text": [
      "\n",
      "epoch-100 lr=['0.0075000'], tr/val_loss:  0.855224/  0.834279, tr:  88.96%, val:  91.82%, val_best:  91.82%: 100%|██████████| 469/469 [01:18<00:00,  6.01it/s]"
     ]
    },
    {
     "name": "stdout",
     "output_type": "stream",
     "text": [
      "1000 1000 3000 5000 10000 \n",
      " 0.9182 0.9182 0.7794 0.6367 0.288\n"
     ]
    },
    {
     "name": "stderr",
     "output_type": "stream",
     "text": [
      "\n",
      "epoch-101 lr=['0.0074545'], tr/val_loss:  0.854906/  0.832262, tr:  88.98%, val:  91.67%, val_best:  91.82%: 100%|██████████| 469/469 [01:18<00:00,  6.00it/s]"
     ]
    },
    {
     "name": "stdout",
     "output_type": "stream",
     "text": [
      "1000 1000 3000 5000 10000 \n",
      " 0.9167 0.9167 0.7874 0.6531 0.277\n"
     ]
    },
    {
     "name": "stderr",
     "output_type": "stream",
     "text": [
      "\n",
      "epoch-102 lr=['0.0074088'], tr/val_loss:  0.853846/  0.834279, tr:  89.00%, val:  91.24%, val_best:  91.82%: 100%|█████████▉| 468/469 [01:22<00:00,  9.07it/s]"
     ]
    },
    {
     "name": "stdout",
     "output_type": "stream",
     "text": [
      "1000 1000 3000 5000 10000 \n",
      " 0.9124 0.9124 0.788 0.6557 0.29\n"
     ]
    },
    {
     "name": "stderr",
     "output_type": "stream",
     "text": [
      "epoch-102 lr=['0.0074088'], tr/val_loss:  0.853846/  0.834279, tr:  89.00%, val:  91.24%, val_best:  91.82%: 100%|██████████| 469/469 [01:22<00:00,  5.68it/s]\n",
      "epoch-103 lr=['0.0073628'], tr/val_loss:  0.853172/  0.834247, tr:  89.02%, val:  91.67%, val_best:  91.82%: 100%|██████████| 469/469 [01:24<00:00,  5.41s/it]"
     ]
    },
    {
     "name": "stdout",
     "output_type": "stream",
     "text": [
      "1000 1000 3000 5000 10000 \n",
      " 0.9167 0.9167 0.778 0.6275 0.2557\n"
     ]
    },
    {
     "name": "stderr",
     "output_type": "stream",
     "text": [
      "epoch-103 lr=['0.0073628'], tr/val_loss:  0.853172/  0.834247, tr:  89.02%, val:  91.67%, val_best:  91.82%: 100%|██████████| 469/469 [01:24<00:00,  5.55it/s]\n",
      "epoch-104 lr=['0.0073165'], tr/val_loss:  0.852681/  0.834918, tr:  89.04%, val:  91.47%, val_best:  91.82%: 100%|██████████| 469/469 [01:25<00:00,  5.83s/it]"
     ]
    },
    {
     "name": "stdout",
     "output_type": "stream",
     "text": [
      "1000 1000 3000 5000 10000 \n",
      " 0.9147 0.9147 0.7712 0.6253 0.2441\n"
     ]
    },
    {
     "name": "stderr",
     "output_type": "stream",
     "text": [
      "epoch-104 lr=['0.0073165'], tr/val_loss:  0.852681/  0.834918, tr:  89.04%, val:  91.47%, val_best:  91.82%: 100%|██████████| 469/469 [01:25<00:00,  5.51it/s]\n",
      "epoch-105 lr=['0.0072700'], tr/val_loss:  0.851989/  0.832308, tr:  89.05%, val:  91.67%, val_best:  91.82%: 100%|█████████▉| 468/469 [01:20<00:00, 10.31it/s]"
     ]
    },
    {
     "name": "stdout",
     "output_type": "stream",
     "text": [
      "1000 1000 3000 5000 10000 \n",
      " 0.9167 0.9167 0.7859 0.6527 0.2701\n"
     ]
    },
    {
     "name": "stderr",
     "output_type": "stream",
     "text": [
      "epoch-105 lr=['0.0072700'], tr/val_loss:  0.851989/  0.832308, tr:  89.05%, val:  91.67%, val_best:  91.82%: 100%|██████████| 469/469 [01:21<00:00,  5.77it/s]\n",
      "epoch-106 lr=['0.0072232'], tr/val_loss:  0.850805/  0.834991, tr:  89.07%, val:  91.31%, val_best:  91.82%: 100%|██████████| 469/469 [01:19<00:00,  5.88it/s]"
     ]
    },
    {
     "name": "stdout",
     "output_type": "stream",
     "text": [
      "1000 1000 3000 5000 10000 \n",
      " 0.9131 0.9131 0.7804 0.6362 0.2579\n"
     ]
    },
    {
     "name": "stderr",
     "output_type": "stream",
     "text": [
      "\n",
      "epoch-107 lr=['0.0071762'], tr/val_loss:  0.850387/  0.827875, tr:  89.09%, val:  91.57%, val_best:  91.82%: 100%|█████████▉| 468/469 [01:22<00:00,  7.68it/s]"
     ]
    },
    {
     "name": "stdout",
     "output_type": "stream",
     "text": [
      "1000 1000 3000 5000 10000 \n",
      " 0.9157 0.9157 0.7934 0.6707 0.2857\n"
     ]
    },
    {
     "name": "stderr",
     "output_type": "stream",
     "text": [
      "epoch-107 lr=['0.0071762'], tr/val_loss:  0.850387/  0.827875, tr:  89.09%, val:  91.57%, val_best:  91.82%: 100%|██████████| 469/469 [01:22<00:00,  5.69it/s]\n",
      "epoch-108 lr=['0.0071289'], tr/val_loss:  0.849472/  0.829043, tr:  89.11%, val:  91.42%, val_best:  91.82%: 100%|█████████▉| 468/469 [01:17<00:00, 13.84it/s]"
     ]
    },
    {
     "name": "stdout",
     "output_type": "stream",
     "text": [
      "1000 1000 3000 5000 10000 \n",
      " 0.9142 0.9142 0.7924 0.6502 0.2656\n"
     ]
    },
    {
     "name": "stderr",
     "output_type": "stream",
     "text": [
      "epoch-108 lr=['0.0071289'], tr/val_loss:  0.849472/  0.829043, tr:  89.11%, val:  91.42%, val_best:  91.82%: 100%|██████████| 469/469 [01:18<00:00,  6.00it/s]\n",
      "epoch-109 lr=['0.0070814'], tr/val_loss:  0.849170/  0.829021, tr:  89.12%, val:  91.71%, val_best:  91.82%: 100%|██████████| 469/469 [01:21<00:00,  5.73it/s]"
     ]
    },
    {
     "name": "stdout",
     "output_type": "stream",
     "text": [
      "1000 1000 3000 5000 10000 \n",
      " 0.9171 0.9171 0.7727 0.6302 0.287\n"
     ]
    },
    {
     "name": "stderr",
     "output_type": "stream",
     "text": [
      "\n",
      "epoch-110 lr=['0.0070337'], tr/val_loss:  0.847986/  0.828467, tr:  89.14%, val:  91.34%, val_best:  91.82%: 100%|██████████| 469/469 [01:22<00:00,  4.80s/it]"
     ]
    },
    {
     "name": "stdout",
     "output_type": "stream",
     "text": [
      "1000 1000 3000 5000 10000 \n",
      " 0.9134 0.9134 0.78 0.641 0.2508\n"
     ]
    },
    {
     "name": "stderr",
     "output_type": "stream",
     "text": [
      "epoch-110 lr=['0.0070337'], tr/val_loss:  0.847986/  0.828467, tr:  89.14%, val:  91.34%, val_best:  91.82%: 100%|██████████| 469/469 [01:22<00:00,  5.68it/s]\n",
      "epoch-111 lr=['0.0069857'], tr/val_loss:  0.848005/  0.827541, tr:  89.15%, val:  91.73%, val_best:  91.82%: 100%|█████████▉| 467/469 [01:26<00:00, 11.09it/s]"
     ]
    },
    {
     "name": "stdout",
     "output_type": "stream",
     "text": [
      "1000 1000 3000 5000 10000 \n",
      " 0.9173 0.9173 0.7825 0.6362 0.2553\n"
     ]
    },
    {
     "name": "stderr",
     "output_type": "stream",
     "text": [
      "epoch-111 lr=['0.0069857'], tr/val_loss:  0.848005/  0.827541, tr:  89.15%, val:  91.73%, val_best:  91.82%: 100%|██████████| 469/469 [01:27<00:00,  5.36it/s]\n",
      "epoch-112 lr=['0.0069376'], tr/val_loss:  0.847388/  0.825966, tr:  89.17%, val:  91.78%, val_best:  91.82%: 100%|█████████▉| 467/469 [01:22<00:00,  7.69it/s]"
     ]
    },
    {
     "name": "stdout",
     "output_type": "stream",
     "text": [
      "1000 1000 3000 5000 10000 \n",
      " 0.9178 0.9178 0.7835 0.6281 0.2369\n"
     ]
    },
    {
     "name": "stderr",
     "output_type": "stream",
     "text": [
      "epoch-112 lr=['0.0069376'], tr/val_loss:  0.847388/  0.825966, tr:  89.17%, val:  91.78%, val_best:  91.82%: 100%|██████████| 469/469 [01:22<00:00,  5.68it/s]\n",
      "epoch-113 lr=['0.0068892'], tr/val_loss:  0.846755/  0.827403, tr:  89.19%, val:  91.81%, val_best:  91.82%: 100%|██████████| 469/469 [01:22<00:00,  5.68it/s]"
     ]
    },
    {
     "name": "stdout",
     "output_type": "stream",
     "text": [
      "1000 1000 3000 5000 10000 \n",
      " 0.9181 0.9181 0.779 0.6423 0.3115\n"
     ]
    },
    {
     "name": "stderr",
     "output_type": "stream",
     "text": [
      "\n",
      "epoch-114 lr=['0.0068406'], tr/val_loss:  0.846235/  0.829134, tr:  89.20%, val:  91.39%, val_best:  91.82%: 100%|██████████| 469/469 [01:20<00:00,  5.82it/s]"
     ]
    },
    {
     "name": "stdout",
     "output_type": "stream",
     "text": [
      "1000 1000 3000 5000 10000 \n",
      " 0.9139 0.9139 0.7794 0.6238 0.2188\n"
     ]
    },
    {
     "name": "stderr",
     "output_type": "stream",
     "text": [
      "\n",
      "epoch-115 iter_acc:  94.53%, lr=['0.0067918'], iter_loss:  0.725182, val_best:  91.82%: 100%|█████████▉| 467/469 [01:03<00:00, 10.30it/s]"
     ]
    },
    {
     "name": "stdout",
     "output_type": "stream",
     "text": [
      "1000 1000 3000 5000 10000 \n",
      " 0.9192 0.9192 0.7756 0.6222 0.2614\n"
     ]
    },
    {
     "name": "stderr",
     "output_type": "stream",
     "text": [
      "epoch-115 lr=['0.0067918'], tr/val_loss:  0.845502/  0.824779, tr:  89.22%, val:  91.92%, val_best:  91.92%: 100%|██████████| 469/469 [01:25<00:00,  5.50it/s]\n",
      "epoch-116 lr=['0.0067429'], tr/val_loss:  0.844725/  0.823031, tr:  89.23%, val:  91.96%, val_best:  91.96%: 100%|██████████| 469/469 [01:26<00:00,  5.43it/s]"
     ]
    },
    {
     "name": "stdout",
     "output_type": "stream",
     "text": [
      "1000 1000 3000 5000 10000 \n",
      " 0.9196 0.9196 0.7866 0.645 0.2601\n"
     ]
    },
    {
     "name": "stderr",
     "output_type": "stream",
     "text": [
      "\n",
      "epoch-117 lr=['0.0066937'], tr/val_loss:  0.844556/  0.821445, tr:  89.25%, val:  91.78%, val_best:  91.96%: 100%|██████████| 469/469 [01:22<00:00,  5.70it/s]"
     ]
    },
    {
     "name": "stdout",
     "output_type": "stream",
     "text": [
      "1000 1000 3000 5000 10000 \n",
      " 0.9178 0.9178 0.7882 0.6427 0.2728\n"
     ]
    },
    {
     "name": "stderr",
     "output_type": "stream",
     "text": [
      "\n",
      "epoch-118 lr=['0.0066443'], tr/val_loss:  0.844238/  0.825659, tr:  89.26%, val:  91.24%, val_best:  91.96%: 100%|██████████| 469/469 [01:22<00:00,  5.68it/s]"
     ]
    },
    {
     "name": "stdout",
     "output_type": "stream",
     "text": [
      "1000 1000 3000 5000 10000 \n",
      " 0.9124 0.9124 0.791 0.6517 0.298\n"
     ]
    },
    {
     "name": "stderr",
     "output_type": "stream",
     "text": [
      "\n",
      "epoch-119 lr=['0.0065948'], tr/val_loss:  0.844142/  0.824037, tr:  89.28%, val:  91.64%, val_best:  91.96%: 100%|██████████| 469/469 [01:21<00:00,  5.61s/it]"
     ]
    },
    {
     "name": "stdout",
     "output_type": "stream",
     "text": [
      "1000 1000 3000 5000 10000 \n",
      " 0.9164 0.9164 0.787 0.6508 0.2669\n"
     ]
    },
    {
     "name": "stderr",
     "output_type": "stream",
     "text": [
      "epoch-119 lr=['0.0065948'], tr/val_loss:  0.844142/  0.824037, tr:  89.28%, val:  91.64%, val_best:  91.96%: 100%|██████████| 469/469 [01:21<00:00,  5.75it/s]\n",
      "epoch-120 lr=['0.0065451'], tr/val_loss:  0.842773/  0.825041, tr:  89.29%, val:  91.17%, val_best:  91.96%: 100%|██████████| 469/469 [01:22<00:00,  4.68s/it]"
     ]
    },
    {
     "name": "stdout",
     "output_type": "stream",
     "text": [
      "1000 1000 3000 5000 10000 \n",
      " 0.9117 0.9117 0.7741 0.6303 0.274\n"
     ]
    },
    {
     "name": "stderr",
     "output_type": "stream",
     "text": [
      "epoch-120 lr=['0.0065451'], tr/val_loss:  0.842773/  0.825041, tr:  89.29%, val:  91.17%, val_best:  91.96%: 100%|██████████| 469/469 [01:23<00:00,  5.65it/s]\n",
      "epoch-121 lr=['0.0064952'], tr/val_loss:  0.842341/  0.822335, tr:  89.31%, val:  91.45%, val_best:  91.96%: 100%|██████████| 469/469 [01:20<00:00,  5.79it/s]"
     ]
    },
    {
     "name": "stdout",
     "output_type": "stream",
     "text": [
      "1000 1000 3000 5000 10000 \n",
      " 0.9145 0.9145 0.7777 0.6329 0.2608\n"
     ]
    },
    {
     "name": "stderr",
     "output_type": "stream",
     "text": [
      "\n",
      "epoch-122 lr=['0.0064452'], tr/val_loss:  0.841790/  0.828537, tr:  89.32%, val:  91.58%, val_best:  91.96%: 100%|██████████| 469/469 [01:19<00:00,  5.92it/s]"
     ]
    },
    {
     "name": "stdout",
     "output_type": "stream",
     "text": [
      "1000 1000 3000 5000 10000 \n",
      " 0.9158 0.9158 0.7793 0.6301 0.2916\n"
     ]
    },
    {
     "name": "stderr",
     "output_type": "stream",
     "text": [
      "\n",
      "epoch-123 lr=['0.0063950'], tr/val_loss:  0.841558/  0.824189, tr:  89.34%, val:  91.66%, val_best:  91.96%: 100%|██████████| 469/469 [01:20<00:00,  5.78s/it]"
     ]
    },
    {
     "name": "stdout",
     "output_type": "stream",
     "text": [
      "1000 1000 3000 5000 10000 \n",
      " 0.9166 0.9166 0.7691 0.6175 0.2665\n"
     ]
    },
    {
     "name": "stderr",
     "output_type": "stream",
     "text": [
      "epoch-123 lr=['0.0063950'], tr/val_loss:  0.841558/  0.824189, tr:  89.34%, val:  91.66%, val_best:  91.96%: 100%|██████████| 469/469 [01:20<00:00,  5.84it/s]\n",
      "epoch-124 lr=['0.0063446'], tr/val_loss:  0.840995/  0.823226, tr:  89.35%, val:  91.67%, val_best:  91.96%: 100%|██████████| 469/469 [01:24<00:00,  5.58it/s]"
     ]
    },
    {
     "name": "stdout",
     "output_type": "stream",
     "text": [
      "1000 1000 3000 5000 10000 \n",
      " 0.9167 0.9167 0.7696 0.6286 0.2788\n"
     ]
    },
    {
     "name": "stderr",
     "output_type": "stream",
     "text": [
      "\n",
      "epoch-125 lr=['0.0062941'], tr/val_loss:  0.840939/  0.824146, tr:  89.36%, val:  91.75%, val_best:  91.96%: 100%|█████████▉| 467/469 [01:31<00:00,  6.39it/s]"
     ]
    },
    {
     "name": "stdout",
     "output_type": "stream",
     "text": [
      "1000 1000 3000 5000 10000 \n",
      " 0.9175 0.9175 0.7794 0.6479 0.2887\n"
     ]
    },
    {
     "name": "stderr",
     "output_type": "stream",
     "text": [
      "epoch-125 lr=['0.0062941'], tr/val_loss:  0.840939/  0.824146, tr:  89.36%, val:  91.75%, val_best:  91.96%: 100%|██████████| 469/469 [01:32<00:00,  5.08it/s]\n",
      "epoch-126 lr=['0.0062434'], tr/val_loss:  0.840196/  0.819871, tr:  89.38%, val:  91.80%, val_best:  91.96%: 100%|██████████| 469/469 [01:33<00:00,  5.01it/s]"
     ]
    },
    {
     "name": "stdout",
     "output_type": "stream",
     "text": [
      "1000 1000 3000 5000 10000 \n",
      " 0.918 0.918 0.7862 0.6332 0.2614\n"
     ]
    },
    {
     "name": "stderr",
     "output_type": "stream",
     "text": [
      "\n",
      "epoch-127 lr=['0.0061927'], tr/val_loss:  0.840206/  0.827635, tr:  89.39%, val:  91.11%, val_best:  91.96%: 100%|██████████| 469/469 [01:35<00:00,  4.93it/s]"
     ]
    },
    {
     "name": "stdout",
     "output_type": "stream",
     "text": [
      "1000 1000 3000 5000 10000 \n",
      " 0.9111 0.9111 0.7687 0.6376 0.3162\n"
     ]
    },
    {
     "name": "stderr",
     "output_type": "stream",
     "text": [
      "\n",
      "epoch-128 lr=['0.0061418'], tr/val_loss:  0.839597/  0.821582, tr:  89.40%, val:  91.83%, val_best:  91.96%: 100%|██████████| 469/469 [01:21<00:00,  5.74it/s]"
     ]
    },
    {
     "name": "stdout",
     "output_type": "stream",
     "text": [
      "1000 1000 3000 5000 10000 \n",
      " 0.9183 0.9183 0.7737 0.6103 0.2642\n"
     ]
    },
    {
     "name": "stderr",
     "output_type": "stream",
     "text": [
      "\n",
      "epoch-129 lr=['0.0060907'], tr/val_loss:  0.839283/  0.819409, tr:  89.42%, val:  91.79%, val_best:  91.96%: 100%|██████████| 469/469 [01:09<00:00,  6.80it/s]"
     ]
    },
    {
     "name": "stdout",
     "output_type": "stream",
     "text": [
      "1000 1000 3000 5000 10000 \n",
      " 0.9179 0.9179 0.7787 0.6291 0.2583\n"
     ]
    },
    {
     "name": "stderr",
     "output_type": "stream",
     "text": [
      "\n",
      "epoch-130 lr=['0.0060396'], tr/val_loss:  0.838442/  0.820153, tr:  89.43%, val:  91.54%, val_best:  91.96%: 100%|██████████| 469/469 [01:10<00:00,  6.62it/s]"
     ]
    },
    {
     "name": "stdout",
     "output_type": "stream",
     "text": [
      "1000 1000 3000 5000 10000 \n",
      " 0.9154 0.9154 0.7773 0.6152 0.2334\n"
     ]
    },
    {
     "name": "stderr",
     "output_type": "stream",
     "text": [
      "\n",
      "epoch-131 lr=['0.0059883'], tr/val_loss:  0.838398/  0.819969, tr:  89.44%, val:  91.99%, val_best:  91.99%: 100%|██████████| 469/469 [01:12<00:00,  6.47it/s]"
     ]
    },
    {
     "name": "stdout",
     "output_type": "stream",
     "text": [
      "1000 1000 3000 5000 10000 \n",
      " 0.9199 0.9199 0.7863 0.6425 0.2831\n"
     ]
    },
    {
     "name": "stderr",
     "output_type": "stream",
     "text": [
      "\n",
      "epoch-132 lr=['0.0059369'], tr/val_loss:  0.837987/  0.818572, tr:  89.46%, val:  91.57%, val_best:  91.99%: 100%|██████████| 469/469 [01:09<00:00,  6.80it/s]"
     ]
    },
    {
     "name": "stdout",
     "output_type": "stream",
     "text": [
      "1000 1000 3000 5000 10000 \n",
      " 0.9157 0.9157 0.7824 0.6394 0.2635\n"
     ]
    },
    {
     "name": "stderr",
     "output_type": "stream",
     "text": [
      "\n",
      "epoch-133 lr=['0.0058854'], tr/val_loss:  0.837810/  0.821079, tr:  89.47%, val:  91.73%, val_best:  91.99%: 100%|██████████| 469/469 [01:11<00:00,  6.56it/s]"
     ]
    },
    {
     "name": "stdout",
     "output_type": "stream",
     "text": [
      "1000 1000 3000 5000 10000 \n",
      " 0.9173 0.9173 0.7762 0.633 0.2959\n"
     ]
    },
    {
     "name": "stderr",
     "output_type": "stream",
     "text": [
      "\n",
      "epoch-134 lr=['0.0058338'], tr/val_loss:  0.837109/  0.822857, tr:  89.48%, val:  91.33%, val_best:  91.99%: 100%|██████████| 469/469 [01:09<00:00,  6.73it/s]"
     ]
    },
    {
     "name": "stdout",
     "output_type": "stream",
     "text": [
      "1000 1000 3000 5000 10000 \n",
      " 0.9133 0.9133 0.772 0.6273 0.2726\n"
     ]
    },
    {
     "name": "stderr",
     "output_type": "stream",
     "text": [
      "\n",
      "epoch-135 lr=['0.0057822'], tr/val_loss:  0.837095/  0.816682, tr:  89.49%, val:  91.74%, val_best:  91.99%: 100%|██████████| 469/469 [01:08<00:00,  6.85it/s]"
     ]
    },
    {
     "name": "stdout",
     "output_type": "stream",
     "text": [
      "1000 1000 3000 5000 10000 \n",
      " 0.9174 0.9174 0.7749 0.6289 0.271\n"
     ]
    },
    {
     "name": "stderr",
     "output_type": "stream",
     "text": [
      "\n",
      "epoch-136 lr=['0.0057304'], tr/val_loss:  0.837265/  0.820099, tr:  89.50%, val:  91.72%, val_best:  91.99%: 100%|██████████| 469/469 [01:09<00:00,  6.73it/s]"
     ]
    },
    {
     "name": "stdout",
     "output_type": "stream",
     "text": [
      "1000 1000 3000 5000 10000 \n",
      " 0.9172 0.9172 0.773 0.6268 0.2903\n"
     ]
    },
    {
     "name": "stderr",
     "output_type": "stream",
     "text": [
      "\n",
      "epoch-137 lr=['0.0056786'], tr/val_loss:  0.836347/  0.819758, tr:  89.52%, val:  91.92%, val_best:  91.99%: 100%|██████████| 469/469 [01:09<00:00,  6.76it/s]"
     ]
    },
    {
     "name": "stdout",
     "output_type": "stream",
     "text": [
      "1000 1000 3000 5000 10000 \n",
      " 0.9192 0.9192 0.7797 0.6236 0.2593\n"
     ]
    },
    {
     "name": "stderr",
     "output_type": "stream",
     "text": [
      "\n",
      "epoch-138 lr=['0.0056267'], tr/val_loss:  0.836208/  0.817793, tr:  89.53%, val:  91.63%, val_best:  91.99%: 100%|██████████| 469/469 [01:10<00:00,  6.62it/s]"
     ]
    },
    {
     "name": "stdout",
     "output_type": "stream",
     "text": [
      "1000 1000 3000 5000 10000 \n",
      " 0.9163 0.9163 0.78 0.6383 0.3003\n"
     ]
    },
    {
     "name": "stderr",
     "output_type": "stream",
     "text": [
      "\n",
      "epoch-139 lr=['0.0055747'], tr/val_loss:  0.835438/  0.822036, tr:  89.54%, val:  91.16%, val_best:  91.99%: 100%|██████████| 469/469 [01:09<00:00,  6.76it/s]"
     ]
    },
    {
     "name": "stdout",
     "output_type": "stream",
     "text": [
      "1000 1000 3000 5000 10000 \n",
      " 0.9116 0.9116 0.786 0.632 0.2309\n"
     ]
    },
    {
     "name": "stderr",
     "output_type": "stream",
     "text": [
      "\n",
      "epoch-140 lr=['0.0055226'], tr/val_loss:  0.835280/  0.820062, tr:  89.55%, val:  91.96%, val_best:  91.99%: 100%|██████████| 469/469 [01:09<00:00,  6.73it/s]"
     ]
    },
    {
     "name": "stdout",
     "output_type": "stream",
     "text": [
      "1000 1000 3000 5000 10000 \n",
      " 0.9196 0.9196 0.7798 0.6214 0.2677\n"
     ]
    },
    {
     "name": "stderr",
     "output_type": "stream",
     "text": [
      "\n",
      "epoch-141 lr=['0.0054705'], tr/val_loss:  0.835126/  0.819464, tr:  89.56%, val:  91.99%, val_best:  91.99%: 100%|█████████▉| 467/469 [01:13<00:00, 12.89it/s]"
     ]
    },
    {
     "name": "stdout",
     "output_type": "stream",
     "text": [
      "1000 1000 3000 5000 10000 \n",
      " 0.9199 0.9199 0.7697 0.6124 0.2879\n"
     ]
    },
    {
     "name": "stderr",
     "output_type": "stream",
     "text": [
      "epoch-141 lr=['0.0054705'], tr/val_loss:  0.835126/  0.819464, tr:  89.56%, val:  91.99%, val_best:  91.99%: 100%|██████████| 469/469 [01:13<00:00,  6.37it/s]\n",
      "epoch-142 lr=['0.0054184'], tr/val_loss:  0.834486/  0.817766, tr:  89.57%, val:  91.54%, val_best:  91.99%: 100%|██████████| 469/469 [01:14<00:00,  6.34it/s]"
     ]
    },
    {
     "name": "stdout",
     "output_type": "stream",
     "text": [
      "1000 1000 3000 5000 10000 \n",
      " 0.9154 0.9154 0.7831 0.6603 0.3063\n"
     ]
    },
    {
     "name": "stderr",
     "output_type": "stream",
     "text": [
      "\n",
      "epoch-143 lr=['0.0053662'], tr/val_loss:  0.834476/  0.816772, tr:  89.59%, val:  91.43%, val_best:  91.99%: 100%|██████████| 469/469 [01:10<00:00,  6.67it/s]"
     ]
    },
    {
     "name": "stdout",
     "output_type": "stream",
     "text": [
      "1000 1000 3000 5000 10000 \n",
      " 0.9143 0.9143 0.7878 0.6532 0.2846\n"
     ]
    },
    {
     "name": "stderr",
     "output_type": "stream",
     "text": [
      "\n",
      "epoch-144 lr=['0.0053140'], tr/val_loss:  0.833912/  0.817658, tr:  89.60%, val:  91.54%, val_best:  91.99%: 100%|██████████| 469/469 [01:10<00:00,  5.69s/it]"
     ]
    },
    {
     "name": "stdout",
     "output_type": "stream",
     "text": [
      "1000 1000 3000 5000 10000 \n",
      " 0.9154 0.9154 0.7718 0.6165 0.2413\n"
     ]
    },
    {
     "name": "stderr",
     "output_type": "stream",
     "text": [
      "epoch-144 lr=['0.0053140'], tr/val_loss:  0.833912/  0.817658, tr:  89.60%, val:  91.54%, val_best:  91.99%: 100%|██████████| 469/469 [01:11<00:00,  6.60it/s]\n",
      "epoch-145 lr=['0.0052617'], tr/val_loss:  0.834545/  0.815033, tr:  89.61%, val:  92.02%, val_best:  92.02%: 100%|██████████| 469/469 [01:11<00:00,  6.56it/s]"
     ]
    },
    {
     "name": "stdout",
     "output_type": "stream",
     "text": [
      "1000 1000 3000 5000 10000 \n",
      " 0.9202 0.9202 0.7936 0.6509 0.2755\n"
     ]
    },
    {
     "name": "stderr",
     "output_type": "stream",
     "text": [
      "\n",
      "epoch-146 lr=['0.0052094'], tr/val_loss:  0.833846/  0.816801, tr:  89.62%, val:  91.91%, val_best:  92.02%: 100%|██████████| 469/469 [01:11<00:00,  6.53it/s]"
     ]
    },
    {
     "name": "stdout",
     "output_type": "stream",
     "text": [
      "1000 1000 3000 5000 10000 \n",
      " 0.9191 0.9191 0.7896 0.6513 0.2979\n"
     ]
    },
    {
     "name": "stderr",
     "output_type": "stream",
     "text": [
      "\n",
      "epoch-147 lr=['0.0051571'], tr/val_loss:  0.833639/  0.817903, tr:  89.63%, val:  91.09%, val_best:  92.02%: 100%|██████████| 469/469 [01:10<00:00,  6.63it/s]"
     ]
    },
    {
     "name": "stdout",
     "output_type": "stream",
     "text": [
      "1000 1000 3000 5000 10000 \n",
      " 0.9109 0.9109 0.778 0.632 0.2434\n"
     ]
    },
    {
     "name": "stderr",
     "output_type": "stream",
     "text": [
      "\n",
      "epoch-148 lr=['0.0051047'], tr/val_loss:  0.833174/  0.814501, tr:  89.64%, val:  91.99%, val_best:  92.02%: 100%|██████████| 469/469 [01:13<00:00,  6.38it/s]"
     ]
    },
    {
     "name": "stdout",
     "output_type": "stream",
     "text": [
      "1000 1000 3000 5000 10000 \n",
      " 0.9199 0.9199 0.7806 0.6425 0.3003\n"
     ]
    },
    {
     "name": "stderr",
     "output_type": "stream",
     "text": [
      "\n",
      "epoch-149 lr=['0.0050524'], tr/val_loss:  0.832750/  0.815171, tr:  89.65%, val:  91.71%, val_best:  92.02%: 100%|██████████| 469/469 [01:09<00:00,  6.76it/s]"
     ]
    },
    {
     "name": "stdout",
     "output_type": "stream",
     "text": [
      "1000 1000 3000 5000 10000 \n",
      " 0.9171 0.9171 0.7916 0.6457 0.2925\n"
     ]
    },
    {
     "name": "stderr",
     "output_type": "stream",
     "text": [
      "\n",
      "epoch-150 lr=['0.0050000'], tr/val_loss:  0.832589/  0.813502, tr:  89.66%, val:  91.54%, val_best:  92.02%: 100%|██████████| 469/469 [01:11<00:00,  6.56it/s]"
     ]
    },
    {
     "name": "stdout",
     "output_type": "stream",
     "text": [
      "1000 1000 3000 5000 10000 \n",
      " 0.9154 0.9154 0.7844 0.641 0.2867\n"
     ]
    },
    {
     "name": "stderr",
     "output_type": "stream",
     "text": [
      "\n",
      "epoch-151 lr=['0.0049476'], tr/val_loss:  0.832518/  0.813808, tr:  89.67%, val:  92.00%, val_best:  92.02%: 100%|██████████| 469/469 [01:11<00:00,  6.51it/s]"
     ]
    },
    {
     "name": "stdout",
     "output_type": "stream",
     "text": [
      "1000 1000 3000 5000 10000 \n",
      " 0.92 0.92 0.7837 0.6424 0.3094\n"
     ]
    },
    {
     "name": "stderr",
     "output_type": "stream",
     "text": [
      "\n",
      "epoch-152 lr=['0.0048953'], tr/val_loss:  0.832190/  0.814472, tr:  89.68%, val:  91.84%, val_best:  92.02%: 100%|██████████| 469/469 [01:11<00:00,  6.58it/s]"
     ]
    },
    {
     "name": "stdout",
     "output_type": "stream",
     "text": [
      "1000 1000 3000 5000 10000 \n",
      " 0.9184 0.9184 0.7852 0.6421 0.2762\n"
     ]
    },
    {
     "name": "stderr",
     "output_type": "stream",
     "text": [
      "\n",
      "epoch-153 lr=['0.0048429'], tr/val_loss:  0.832188/  0.815022, tr:  89.69%, val:  91.97%, val_best:  92.02%: 100%|██████████| 469/469 [01:11<00:00,  6.53it/s]"
     ]
    },
    {
     "name": "stdout",
     "output_type": "stream",
     "text": [
      "1000 1000 3000 5000 10000 \n",
      " 0.9197 0.9197 0.7774 0.6251 0.2723\n"
     ]
    },
    {
     "name": "stderr",
     "output_type": "stream",
     "text": [
      "\n",
      "epoch-154 lr=['0.0047906'], tr/val_loss:  0.831513/  0.812917, tr:  89.70%, val:  92.00%, val_best:  92.02%: 100%|██████████| 469/469 [01:09<00:00,  6.77it/s]"
     ]
    },
    {
     "name": "stdout",
     "output_type": "stream",
     "text": [
      "1000 1000 3000 5000 10000 \n",
      " 0.92 0.92 0.7907 0.6551 0.2944\n"
     ]
    },
    {
     "name": "stderr",
     "output_type": "stream",
     "text": [
      "\n",
      "epoch-155 iter_acc:  90.62%, lr=['0.0047383'], iter_loss:  0.766268, val_best:  92.02%: 100%|█████████▉| 467/469 [00:56<00:00, 13.07it/s]"
     ]
    },
    {
     "name": "stdout",
     "output_type": "stream",
     "text": [
      "1000 1000 3000 5000 10000 \n",
      " 0.9212 0.9212 0.7961 0.6639 0.3045\n"
     ]
    },
    {
     "name": "stderr",
     "output_type": "stream",
     "text": [
      "epoch-155 lr=['0.0047383'], tr/val_loss:  0.831435/  0.813752, tr:  89.71%, val:  92.12%, val_best:  92.12%: 100%|██████████| 469/469 [01:10<00:00,  6.69it/s]\n",
      "epoch-156 lr=['0.0046860'], tr/val_loss:  0.830866/  0.811736, tr:  89.72%, val:  91.84%, val_best:  92.12%: 100%|██████████| 469/469 [01:08<00:00,  6.87it/s]"
     ]
    },
    {
     "name": "stdout",
     "output_type": "stream",
     "text": [
      "1000 1000 3000 5000 10000 \n",
      " 0.9184 0.9184 0.78 0.6386 0.2927\n"
     ]
    },
    {
     "name": "stderr",
     "output_type": "stream",
     "text": [
      "\n",
      "epoch-157 lr=['0.0046338'], tr/val_loss:  0.831352/  0.812918, tr:  89.73%, val:  91.85%, val_best:  92.12%: 100%|██████████| 469/469 [01:11<00:00,  6.56it/s]"
     ]
    },
    {
     "name": "stdout",
     "output_type": "stream",
     "text": [
      "1000 1000 3000 5000 10000 \n",
      " 0.9185 0.9185 0.7832 0.6424 0.2847\n"
     ]
    },
    {
     "name": "stderr",
     "output_type": "stream",
     "text": [
      "\n",
      "epoch-158 lr=['0.0045816'], tr/val_loss:  0.830523/  0.815428, tr:  89.74%, val:  91.86%, val_best:  92.12%: 100%|██████████| 469/469 [01:09<00:00,  6.71it/s]"
     ]
    },
    {
     "name": "stdout",
     "output_type": "stream",
     "text": [
      "1000 1000 3000 5000 10000 \n",
      " 0.9186 0.9186 0.7806 0.6354 0.2562\n"
     ]
    },
    {
     "name": "stderr",
     "output_type": "stream",
     "text": [
      "\n",
      "epoch-159 lr=['0.0045295'], tr/val_loss:  0.830640/  0.811350, tr:  89.75%, val:  92.09%, val_best:  92.12%: 100%|█████████▉| 468/469 [01:09<00:00, 12.04it/s]"
     ]
    },
    {
     "name": "stdout",
     "output_type": "stream",
     "text": [
      "1000 1000 3000 5000 10000 \n",
      " 0.9209 0.9209 0.7895 0.6586 0.2994\n"
     ]
    },
    {
     "name": "stderr",
     "output_type": "stream",
     "text": [
      "epoch-159 lr=['0.0045295'], tr/val_loss:  0.830640/  0.811350, tr:  89.75%, val:  92.09%, val_best:  92.12%: 100%|██████████| 469/469 [01:10<00:00,  6.69it/s]\n",
      "epoch-160 lr=['0.0044774'], tr/val_loss:  0.830494/  0.815728, tr:  89.76%, val:  91.76%, val_best:  92.12%: 100%|██████████| 469/469 [01:17<00:00,  6.05it/s]"
     ]
    },
    {
     "name": "stdout",
     "output_type": "stream",
     "text": [
      "1000 1000 3000 5000 10000 \n",
      " 0.9176 0.9176 0.7785 0.6287 0.2874\n"
     ]
    },
    {
     "name": "stderr",
     "output_type": "stream",
     "text": [
      "\n",
      "epoch-161 lr=['0.0044253'], tr/val_loss:  0.830379/  0.812640, tr:  89.77%, val:  92.09%, val_best:  92.12%: 100%|██████████| 469/469 [01:10<00:00,  6.62it/s]"
     ]
    },
    {
     "name": "stdout",
     "output_type": "stream",
     "text": [
      "1000 1000 3000 5000 10000 \n",
      " 0.9209 0.9209 0.7859 0.6423 0.2829\n"
     ]
    },
    {
     "name": "stderr",
     "output_type": "stream",
     "text": [
      "\n",
      "epoch-162 lr=['0.0043733'], tr/val_loss:  0.830038/  0.811977, tr:  89.78%, val:  92.12%, val_best:  92.12%: 100%|██████████| 469/469 [01:10<00:00,  6.65it/s]"
     ]
    },
    {
     "name": "stdout",
     "output_type": "stream",
     "text": [
      "1000 1000 3000 5000 10000 \n",
      " 0.9212 0.9212 0.7862 0.6512 0.2809\n"
     ]
    },
    {
     "name": "stderr",
     "output_type": "stream",
     "text": [
      "\n",
      "epoch-163 lr=['0.0043214'], tr/val_loss:  0.829701/  0.813889, tr:  89.79%, val:  92.03%, val_best:  92.12%: 100%|██████████| 469/469 [01:11<00:00,  6.53it/s]"
     ]
    },
    {
     "name": "stdout",
     "output_type": "stream",
     "text": [
      "1000 1000 3000 5000 10000 \n",
      " 0.9203 0.9203 0.7898 0.6617 0.2972\n"
     ]
    },
    {
     "name": "stderr",
     "output_type": "stream",
     "text": [
      "\n",
      "epoch-164 lr=['0.0042696'], tr/val_loss:  0.829731/  0.812356, tr:  89.80%, val:  92.06%, val_best:  92.12%: 100%|██████████| 469/469 [01:19<00:00,  5.87it/s]"
     ]
    },
    {
     "name": "stdout",
     "output_type": "stream",
     "text": [
      "1000 1000 3000 5000 10000 \n",
      " 0.9206 0.9206 0.788 0.647 0.2771\n"
     ]
    },
    {
     "name": "stderr",
     "output_type": "stream",
     "text": [
      "\n",
      "epoch-165 lr=['0.0042178'], tr/val_loss:  0.829256/  0.813864, tr:  89.81%, val:  91.80%, val_best:  92.12%: 100%|██████████| 469/469 [01:12<00:00,  6.44it/s]"
     ]
    },
    {
     "name": "stdout",
     "output_type": "stream",
     "text": [
      "1000 1000 3000 5000 10000 \n",
      " 0.918 0.918 0.7921 0.6541 0.2778\n"
     ]
    },
    {
     "name": "stderr",
     "output_type": "stream",
     "text": [
      "\n",
      "epoch-166 lr=['0.0041662'], tr/val_loss:  0.828857/  0.815026, tr:  89.82%, val:  92.18%, val_best:  92.18%: 100%|██████████| 469/469 [01:16<00:00,  6.10it/s]"
     ]
    },
    {
     "name": "stdout",
     "output_type": "stream",
     "text": [
      "1000 1000 3000 5000 10000 \n",
      " 0.9218 0.9218 0.7855 0.6377 0.2739\n"
     ]
    },
    {
     "name": "stderr",
     "output_type": "stream",
     "text": [
      "\n",
      "epoch-167 lr=['0.0041146'], tr/val_loss:  0.829214/  0.812709, tr:  89.82%, val:  91.85%, val_best:  92.18%: 100%|██████████| 469/469 [01:11<00:00,  6.56it/s]"
     ]
    },
    {
     "name": "stdout",
     "output_type": "stream",
     "text": [
      "1000 1000 3000 5000 10000 \n",
      " 0.9185 0.9185 0.7899 0.6483 0.2569\n"
     ]
    },
    {
     "name": "stderr",
     "output_type": "stream",
     "text": [
      "\n",
      "epoch-168 lr=['0.0040631'], tr/val_loss:  0.828693/  0.811911, tr:  89.83%, val:  92.12%, val_best:  92.18%: 100%|██████████| 469/469 [01:09<00:00,  6.72it/s]"
     ]
    },
    {
     "name": "stdout",
     "output_type": "stream",
     "text": [
      "1000 1000 3000 5000 10000 \n",
      " 0.9212 0.9212 0.7871 0.6344 0.2654\n"
     ]
    },
    {
     "name": "stderr",
     "output_type": "stream",
     "text": [
      "\n",
      "epoch-169 lr=['0.0040117'], tr/val_loss:  0.828209/  0.814032, tr:  89.84%, val:  91.71%, val_best:  92.18%: 100%|██████████| 469/469 [01:11<00:00,  6.54it/s]"
     ]
    },
    {
     "name": "stdout",
     "output_type": "stream",
     "text": [
      "1000 1000 3000 5000 10000 \n",
      " 0.9171 0.9171 0.7905 0.6566 0.2786\n"
     ]
    },
    {
     "name": "stderr",
     "output_type": "stream",
     "text": [
      "\n",
      "epoch-170 lr=['0.0039604'], tr/val_loss:  0.828475/  0.812606, tr:  89.85%, val:  92.20%, val_best:  92.20%: 100%|██████████| 469/469 [01:10<00:00,  6.69it/s]"
     ]
    },
    {
     "name": "stdout",
     "output_type": "stream",
     "text": [
      "1000 1000 3000 5000 10000 \n",
      " 0.922 0.922 0.7937 0.6663 0.3085\n"
     ]
    },
    {
     "name": "stderr",
     "output_type": "stream",
     "text": [
      "\n",
      "epoch-171 lr=['0.0039093'], tr/val_loss:  0.827693/  0.810830, tr:  89.86%, val:  91.93%, val_best:  92.20%: 100%|██████████| 469/469 [01:10<00:00,  6.62it/s]"
     ]
    },
    {
     "name": "stdout",
     "output_type": "stream",
     "text": [
      "1000 1000 3000 5000 10000 \n",
      " 0.9193 0.9193 0.7898 0.6547 0.2577\n"
     ]
    },
    {
     "name": "stderr",
     "output_type": "stream",
     "text": [
      "\n",
      "epoch-172 lr=['0.0038582'], tr/val_loss:  0.827727/  0.812953, tr:  89.87%, val:  91.88%, val_best:  92.20%: 100%|██████████| 469/469 [01:12<00:00,  6.51it/s]"
     ]
    },
    {
     "name": "stdout",
     "output_type": "stream",
     "text": [
      "1000 1000 3000 5000 10000 \n",
      " 0.9188 0.9188 0.7855 0.6588 0.3025\n"
     ]
    },
    {
     "name": "stderr",
     "output_type": "stream",
     "text": [
      "\n",
      "epoch-173 lr=['0.0038073'], tr/val_loss:  0.828039/  0.811638, tr:  89.88%, val:  92.12%, val_best:  92.20%: 100%|██████████| 469/469 [01:10<00:00,  6.64it/s]"
     ]
    },
    {
     "name": "stdout",
     "output_type": "stream",
     "text": [
      "1000 1000 3000 5000 10000 \n",
      " 0.9212 0.9212 0.7825 0.655 0.2778\n"
     ]
    },
    {
     "name": "stderr",
     "output_type": "stream",
     "text": [
      "\n",
      "epoch-174 lr=['0.0037566'], tr/val_loss:  0.827703/  0.811705, tr:  89.88%, val:  92.05%, val_best:  92.20%: 100%|██████████| 469/469 [01:11<00:00,  6.55it/s]"
     ]
    },
    {
     "name": "stdout",
     "output_type": "stream",
     "text": [
      "1000 1000 3000 5000 10000 \n",
      " 0.9205 0.9205 0.787 0.6487 0.2658\n"
     ]
    },
    {
     "name": "stderr",
     "output_type": "stream",
     "text": [
      "\n",
      "epoch-175 lr=['0.0037059'], tr/val_loss:  0.827639/  0.810279, tr:  89.89%, val:  91.98%, val_best:  92.20%: 100%|██████████| 469/469 [01:10<00:00,  6.63it/s]"
     ]
    },
    {
     "name": "stdout",
     "output_type": "stream",
     "text": [
      "1000 1000 3000 5000 10000 \n",
      " 0.9198 0.9198 0.7925 0.663 0.2913\n"
     ]
    },
    {
     "name": "stderr",
     "output_type": "stream",
     "text": [
      "\n",
      "epoch-176 lr=['0.0036554'], tr/val_loss:  0.827227/  0.809332, tr:  89.90%, val:  92.02%, val_best:  92.20%: 100%|██████████| 469/469 [01:09<00:00,  6.73it/s]"
     ]
    },
    {
     "name": "stdout",
     "output_type": "stream",
     "text": [
      "1000 1000 3000 5000 10000 \n",
      " 0.9202 0.9202 0.7906 0.6565 0.2839\n"
     ]
    },
    {
     "name": "stderr",
     "output_type": "stream",
     "text": [
      "\n",
      "epoch-177 lr=['0.0036050'], tr/val_loss:  0.827222/  0.813578, tr:  89.91%, val:  91.96%, val_best:  92.20%: 100%|██████████| 469/469 [01:09<00:00,  6.73it/s]"
     ]
    },
    {
     "name": "stdout",
     "output_type": "stream",
     "text": [
      "1000 1000 3000 5000 10000 \n",
      " 0.9196 0.9196 0.7857 0.6424 0.2569\n"
     ]
    },
    {
     "name": "stderr",
     "output_type": "stream",
     "text": [
      "\n",
      "epoch-178 lr=['0.0035548'], tr/val_loss:  0.827168/  0.810287, tr:  89.92%, val:  92.17%, val_best:  92.20%: 100%|██████████| 469/469 [01:10<00:00,  6.69it/s]"
     ]
    },
    {
     "name": "stdout",
     "output_type": "stream",
     "text": [
      "1000 1000 3000 5000 10000 \n",
      " 0.9217 0.9217 0.7867 0.6569 0.2863\n"
     ]
    },
    {
     "name": "stderr",
     "output_type": "stream",
     "text": [
      "\n",
      "epoch-179 lr=['0.0035048'], tr/val_loss:  0.826658/  0.809143, tr:  89.93%, val:  91.86%, val_best:  92.20%: 100%|██████████| 469/469 [01:11<00:00,  6.60it/s]"
     ]
    },
    {
     "name": "stdout",
     "output_type": "stream",
     "text": [
      "1000 1000 3000 5000 10000 \n",
      " 0.9186 0.9186 0.7978 0.6656 0.2933\n"
     ]
    },
    {
     "name": "stderr",
     "output_type": "stream",
     "text": [
      "\n",
      "epoch-180 lr=['0.0034549'], tr/val_loss:  0.826662/  0.810134, tr:  89.93%, val:  91.97%, val_best:  92.20%: 100%|██████████| 469/469 [01:09<00:00,  6.72it/s]"
     ]
    },
    {
     "name": "stdout",
     "output_type": "stream",
     "text": [
      "1000 1000 3000 5000 10000 \n",
      " 0.9197 0.9197 0.7922 0.6646 0.2929\n"
     ]
    },
    {
     "name": "stderr",
     "output_type": "stream",
     "text": [
      "\n",
      "epoch-181 lr=['0.0034052'], tr/val_loss:  0.826677/  0.808955, tr:  89.94%, val:  92.07%, val_best:  92.20%: 100%|██████████| 469/469 [01:10<00:00,  6.68it/s]"
     ]
    },
    {
     "name": "stdout",
     "output_type": "stream",
     "text": [
      "1000 1000 3000 5000 10000 \n",
      " 0.9207 0.9207 0.7893 0.655 0.2783\n"
     ]
    },
    {
     "name": "stderr",
     "output_type": "stream",
     "text": [
      "\n",
      "epoch-182 lr=['0.0033557'], tr/val_loss:  0.826568/  0.810091, tr:  89.95%, val:  91.97%, val_best:  92.20%: 100%|██████████| 469/469 [01:09<00:00,  6.72it/s]"
     ]
    },
    {
     "name": "stdout",
     "output_type": "stream",
     "text": [
      "1000 1000 3000 5000 10000 \n",
      " 0.9197 0.9197 0.7921 0.6575 0.3057\n"
     ]
    },
    {
     "name": "stderr",
     "output_type": "stream",
     "text": [
      "\n",
      "epoch-183 lr=['0.0033063'], tr/val_loss:  0.826213/  0.811147, tr:  89.96%, val:  91.89%, val_best:  92.20%: 100%|██████████| 469/469 [01:11<00:00,  6.55it/s]"
     ]
    },
    {
     "name": "stdout",
     "output_type": "stream",
     "text": [
      "1000 1000 3000 5000 10000 \n",
      " 0.9189 0.9189 0.7893 0.6584 0.2856\n"
     ]
    },
    {
     "name": "stderr",
     "output_type": "stream",
     "text": [
      "\n",
      "epoch-184 lr=['0.0032571'], tr/val_loss:  0.826016/  0.808844, tr:  89.97%, val:  91.98%, val_best:  92.20%: 100%|██████████| 469/469 [01:09<00:00,  6.72it/s]"
     ]
    },
    {
     "name": "stdout",
     "output_type": "stream",
     "text": [
      "1000 1000 3000 5000 10000 \n",
      " 0.9198 0.9198 0.7902 0.6525 0.2656\n"
     ]
    },
    {
     "name": "stderr",
     "output_type": "stream",
     "text": [
      "\n",
      "epoch-185 lr=['0.0032082'], tr/val_loss:  0.825689/  0.809643, tr:  89.97%, val:  92.13%, val_best:  92.20%: 100%|█████████▉| 467/469 [01:09<00:00, 13.99it/s]"
     ]
    },
    {
     "name": "stdout",
     "output_type": "stream",
     "text": [
      "1000 1000 3000 5000 10000 \n",
      " 0.9213 0.9213 0.7915 0.6492 0.2694\n"
     ]
    },
    {
     "name": "stderr",
     "output_type": "stream",
     "text": [
      "epoch-185 lr=['0.0032082'], tr/val_loss:  0.825689/  0.809643, tr:  89.97%, val:  92.13%, val_best:  92.20%: 100%|██████████| 469/469 [01:10<00:00,  6.69it/s]\n",
      "epoch-186 lr=['0.0031594'], tr/val_loss:  0.825655/  0.808992, tr:  89.98%, val:  92.00%, val_best:  92.20%: 100%|██████████| 469/469 [01:08<00:00,  6.85it/s]"
     ]
    },
    {
     "name": "stdout",
     "output_type": "stream",
     "text": [
      "1000 1000 3000 5000 10000 \n",
      " 0.92 0.92 0.7926 0.6556 0.2841\n"
     ]
    },
    {
     "name": "stderr",
     "output_type": "stream",
     "text": [
      "\n",
      "epoch-187 lr=['0.0031108'], tr/val_loss:  0.825296/  0.808783, tr:  89.99%, val:  91.91%, val_best:  92.20%: 100%|██████████| 469/469 [01:09<00:00,  6.76it/s]"
     ]
    },
    {
     "name": "stdout",
     "output_type": "stream",
     "text": [
      "1000 1000 3000 5000 10000 \n",
      " 0.9191 0.9191 0.7952 0.6738 0.2893\n"
     ]
    },
    {
     "name": "stderr",
     "output_type": "stream",
     "text": [
      "\n",
      "epoch-188 lr=['0.0030624'], tr/val_loss:  0.825312/  0.811945, tr:  90.00%, val:  91.60%, val_best:  92.20%: 100%|██████████| 469/469 [01:11<00:00,  6.54it/s]"
     ]
    },
    {
     "name": "stdout",
     "output_type": "stream",
     "text": [
      "1000 1000 3000 5000 10000 \n",
      " 0.916 0.916 0.7942 0.6725 0.289\n"
     ]
    },
    {
     "name": "stderr",
     "output_type": "stream",
     "text": [
      "\n",
      "epoch-189 lr=['0.0030143'], tr/val_loss:  0.825085/  0.809671, tr:  90.00%, val:  92.06%, val_best:  92.20%: 100%|██████████| 469/469 [01:12<00:00,  6.45it/s]"
     ]
    },
    {
     "name": "stdout",
     "output_type": "stream",
     "text": [
      "1000 1000 3000 5000 10000 \n",
      " 0.9206 0.9206 0.7855 0.6493 0.2735\n"
     ]
    },
    {
     "name": "stderr",
     "output_type": "stream",
     "text": [
      "\n",
      "epoch-190 lr=['0.0029663'], tr/val_loss:  0.824952/  0.809541, tr:  90.01%, val:  91.92%, val_best:  92.20%: 100%|██████████| 469/469 [01:08<00:00,  6.83it/s]"
     ]
    },
    {
     "name": "stdout",
     "output_type": "stream",
     "text": [
      "1000 1000 3000 5000 10000 \n",
      " 0.9192 0.9192 0.7937 0.6741 0.316\n"
     ]
    },
    {
     "name": "stderr",
     "output_type": "stream",
     "text": [
      "\n",
      "epoch-191 lr=['0.0029186'], tr/val_loss:  0.824791/  0.808829, tr:  90.02%, val:  92.07%, val_best:  92.20%: 100%|██████████| 469/469 [01:09<00:00,  6.77it/s]"
     ]
    },
    {
     "name": "stdout",
     "output_type": "stream",
     "text": [
      "1000 1000 3000 5000 10000 \n",
      " 0.9207 0.9207 0.7879 0.6592 0.285\n"
     ]
    },
    {
     "name": "stderr",
     "output_type": "stream",
     "text": [
      "\n",
      "epoch-192 lr=['0.0028711'], tr/val_loss:  0.824793/  0.808680, tr:  90.03%, val:  92.11%, val_best:  92.20%: 100%|██████████| 469/469 [01:12<00:00,  6.51it/s]"
     ]
    },
    {
     "name": "stdout",
     "output_type": "stream",
     "text": [
      "1000 1000 3000 5000 10000 \n",
      " 0.9211 0.9211 0.7972 0.6708 0.3002\n"
     ]
    },
    {
     "name": "stderr",
     "output_type": "stream",
     "text": [
      "\n",
      "epoch-193 lr=['0.0028238'], tr/val_loss:  0.824337/  0.809601, tr:  90.03%, val:  91.96%, val_best:  92.20%: 100%|██████████| 469/469 [01:12<00:00,  6.49it/s]"
     ]
    },
    {
     "name": "stdout",
     "output_type": "stream",
     "text": [
      "1000 1000 3000 5000 10000 \n",
      " 0.9196 0.9196 0.7861 0.6542 0.2718\n"
     ]
    },
    {
     "name": "stderr",
     "output_type": "stream",
     "text": [
      "\n",
      "epoch-194 lr=['0.0027768'], tr/val_loss:  0.824440/  0.810425, tr:  90.04%, val:  91.91%, val_best:  92.20%: 100%|██████████| 469/469 [01:08<00:00,  6.83it/s]"
     ]
    },
    {
     "name": "stdout",
     "output_type": "stream",
     "text": [
      "1000 1000 3000 5000 10000 \n",
      " 0.9191 0.9191 0.7872 0.6546 0.2826\n"
     ]
    },
    {
     "name": "stderr",
     "output_type": "stream",
     "text": [
      "\n",
      "epoch-195 lr=['0.0027300'], tr/val_loss:  0.824193/  0.809330, tr:  90.05%, val:  92.20%, val_best:  92.20%: 100%|██████████| 469/469 [01:08<00:00,  6.86it/s]"
     ]
    },
    {
     "name": "stdout",
     "output_type": "stream",
     "text": [
      "1000 1000 3000 5000 10000 \n",
      " 0.922 0.922 0.7977 0.659 0.2841\n"
     ]
    },
    {
     "name": "stderr",
     "output_type": "stream",
     "text": [
      "\n",
      "epoch-196 lr=['0.0026835'], tr/val_loss:  0.823980/  0.810806, tr:  90.05%, val:  91.70%, val_best:  92.20%: 100%|██████████| 469/469 [01:11<00:00,  6.53it/s]"
     ]
    },
    {
     "name": "stdout",
     "output_type": "stream",
     "text": [
      "1000 1000 3000 5000 10000 \n",
      " 0.917 0.917 0.7917 0.6704 0.3034\n"
     ]
    },
    {
     "name": "stderr",
     "output_type": "stream",
     "text": [
      "\n",
      "epoch-197 lr=['0.0026372'], tr/val_loss:  0.823946/  0.808572, tr:  90.06%, val:  92.16%, val_best:  92.20%: 100%|██████████| 469/469 [01:11<00:00,  6.59it/s]"
     ]
    },
    {
     "name": "stdout",
     "output_type": "stream",
     "text": [
      "1000 1000 3000 5000 10000 \n",
      " 0.9216 0.9216 0.7937 0.6612 0.2757\n"
     ]
    },
    {
     "name": "stderr",
     "output_type": "stream",
     "text": [
      "\n",
      "epoch-198 lr=['0.0025912'], tr/val_loss:  0.823861/  0.808392, tr:  90.07%, val:  92.13%, val_best:  92.20%: 100%|██████████| 469/469 [01:09<00:00,  6.74it/s]"
     ]
    },
    {
     "name": "stdout",
     "output_type": "stream",
     "text": [
      "1000 1000 3000 5000 10000 \n",
      " 0.9213 0.9213 0.7918 0.66 0.2719\n"
     ]
    },
    {
     "name": "stderr",
     "output_type": "stream",
     "text": [
      "\n",
      "epoch-199 lr=['0.0025455'], tr/val_loss:  0.823474/  0.808501, tr:  90.08%, val:  91.97%, val_best:  92.20%: 100%|██████████| 469/469 [01:09<00:00,  6.71it/s]"
     ]
    },
    {
     "name": "stdout",
     "output_type": "stream",
     "text": [
      "1000 1000 3000 5000 10000 \n",
      " 0.9197 0.9197 0.792 0.6598 0.2609\n"
     ]
    },
    {
     "name": "stderr",
     "output_type": "stream",
     "text": [
      "\n",
      "epoch-200 lr=['0.0025000'], tr/val_loss:  0.823628/  0.809769, tr:  90.08%, val:  91.91%, val_best:  92.20%: 100%|█████████▉| 468/469 [01:11<00:00, 13.30it/s]"
     ]
    },
    {
     "name": "stdout",
     "output_type": "stream",
     "text": [
      "1000 1000 3000 5000 10000 \n",
      " 0.9191 0.9191 0.7924 0.6663 0.3023\n"
     ]
    },
    {
     "name": "stderr",
     "output_type": "stream",
     "text": [
      "epoch-200 lr=['0.0025000'], tr/val_loss:  0.823628/  0.809769, tr:  90.08%, val:  91.91%, val_best:  92.20%: 100%|██████████| 469/469 [01:11<00:00,  6.56it/s]\n",
      "epoch-201 lr=['0.0024548'], tr/val_loss:  0.823470/  0.807416, tr:  90.09%, val:  92.08%, val_best:  92.20%: 100%|██████████| 469/469 [01:12<00:00,  6.47it/s]"
     ]
    },
    {
     "name": "stdout",
     "output_type": "stream",
     "text": [
      "1000 1000 3000 5000 10000 \n",
      " 0.9208 0.9208 0.7971 0.6688 0.2861\n"
     ]
    },
    {
     "name": "stderr",
     "output_type": "stream",
     "text": [
      "\n",
      "epoch-202 lr=['0.0024099'], tr/val_loss:  0.823380/  0.808625, tr:  90.10%, val:  92.05%, val_best:  92.20%: 100%|██████████| 469/469 [01:09<00:00,  6.72it/s]"
     ]
    },
    {
     "name": "stdout",
     "output_type": "stream",
     "text": [
      "1000 1000 3000 5000 10000 \n",
      " 0.9205 0.9205 0.7914 0.6564 0.2619\n"
     ]
    },
    {
     "name": "stderr",
     "output_type": "stream",
     "text": [
      "\n",
      "epoch-203 lr=['0.0023652'], tr/val_loss:  0.823355/  0.808792, tr:  90.10%, val:  92.07%, val_best:  92.20%: 100%|██████████| 469/469 [01:09<00:00,  6.79it/s]"
     ]
    },
    {
     "name": "stdout",
     "output_type": "stream",
     "text": [
      "1000 1000 3000 5000 10000 \n",
      " 0.9207 0.9207 0.7876 0.6511 0.2625\n"
     ]
    },
    {
     "name": "stderr",
     "output_type": "stream",
     "text": [
      "\n",
      "epoch-204 lr=['0.0023209'], tr/val_loss:  0.823398/  0.806528, tr:  90.11%, val:  92.11%, val_best:  92.20%: 100%|██████████| 469/469 [01:09<00:00,  6.71it/s]"
     ]
    },
    {
     "name": "stdout",
     "output_type": "stream",
     "text": [
      "1000 1000 3000 5000 10000 \n",
      " 0.9211 0.9211 0.7999 0.6685 0.2685\n"
     ]
    },
    {
     "name": "stderr",
     "output_type": "stream",
     "text": [
      "\n",
      "epoch-205 lr=['0.0022768'], tr/val_loss:  0.823141/  0.807266, tr:  90.12%, val:  91.96%, val_best:  92.20%: 100%|██████████| 469/469 [01:08<00:00,  6.81it/s]"
     ]
    },
    {
     "name": "stdout",
     "output_type": "stream",
     "text": [
      "1000 1000 3000 5000 10000 \n",
      " 0.9196 0.9196 0.7949 0.6508 0.2539\n"
     ]
    },
    {
     "name": "stderr",
     "output_type": "stream",
     "text": [
      "\n",
      "epoch-206 lr=['0.0022330'], tr/val_loss:  0.823115/  0.806478, tr:  90.12%, val:  92.15%, val_best:  92.20%: 100%|██████████| 469/469 [01:07<00:00,  6.93it/s]"
     ]
    },
    {
     "name": "stdout",
     "output_type": "stream",
     "text": [
      "1000 1000 3000 5000 10000 \n",
      " 0.9215 0.9215 0.7965 0.6645 0.265\n"
     ]
    },
    {
     "name": "stderr",
     "output_type": "stream",
     "text": [
      "\n",
      "epoch-207 lr=['0.0021896'], tr/val_loss:  0.823174/  0.808658, tr:  90.13%, val:  92.16%, val_best:  92.20%: 100%|██████████| 469/469 [01:07<00:00,  6.90it/s]"
     ]
    },
    {
     "name": "stdout",
     "output_type": "stream",
     "text": [
      "1000 1000 3000 5000 10000 \n",
      " 0.9216 0.9216 0.7975 0.6622 0.2739\n"
     ]
    },
    {
     "name": "stderr",
     "output_type": "stream",
     "text": [
      "\n",
      "epoch-208 lr=['0.0021464'], tr/val_loss:  0.823259/  0.807033, tr:  90.14%, val:  92.29%, val_best:  92.29%: 100%|██████████| 469/469 [01:08<00:00,  6.88it/s]"
     ]
    },
    {
     "name": "stdout",
     "output_type": "stream",
     "text": [
      "1000 1000 3000 5000 10000 \n",
      " 0.9229 0.9229 0.7939 0.6641 0.2854\n"
     ]
    },
    {
     "name": "stderr",
     "output_type": "stream",
     "text": [
      "\n",
      "epoch-209 lr=['0.0021036'], tr/val_loss:  0.822886/  0.807088, tr:  90.14%, val:  92.10%, val_best:  92.29%: 100%|██████████| 469/469 [01:07<00:00,  6.92it/s]"
     ]
    },
    {
     "name": "stdout",
     "output_type": "stream",
     "text": [
      "1000 1000 3000 5000 10000 \n",
      " 0.921 0.921 0.7982 0.6658 0.2791\n"
     ]
    },
    {
     "name": "stderr",
     "output_type": "stream",
     "text": [
      "\n",
      "epoch-210 lr=['0.0020611'], tr/val_loss:  0.822870/  0.807848, tr:  90.15%, val:  92.08%, val_best:  92.29%: 100%|██████████| 469/469 [01:20<00:00,  7.26s/it]"
     ]
    },
    {
     "name": "stdout",
     "output_type": "stream",
     "text": [
      "1000 1000 3000 5000 10000 \n",
      " 0.9208 0.9208 0.7915 0.6567 0.2644\n"
     ]
    },
    {
     "name": "stderr",
     "output_type": "stream",
     "text": [
      "epoch-210 lr=['0.0020611'], tr/val_loss:  0.822870/  0.807848, tr:  90.15%, val:  92.08%, val_best:  92.29%: 100%|██████████| 469/469 [01:20<00:00,  5.79it/s]\n",
      "epoch-211 lr=['0.0020189'], tr/val_loss:  0.822643/  0.805670, tr:  90.16%, val:  92.19%, val_best:  92.29%: 100%|██████████| 469/469 [01:42<00:00,  4.57it/s]"
     ]
    },
    {
     "name": "stdout",
     "output_type": "stream",
     "text": [
      "1000 1000 3000 5000 10000 \n",
      " 0.9219 0.9219 0.7983 0.6658 0.2795\n"
     ]
    },
    {
     "name": "stderr",
     "output_type": "stream",
     "text": [
      "\n",
      "epoch-212 lr=['0.0019770'], tr/val_loss:  0.823005/  0.806516, tr:  90.16%, val:  91.95%, val_best:  92.29%: 100%|██████████| 469/469 [01:36<00:00,  8.46s/it]"
     ]
    },
    {
     "name": "stdout",
     "output_type": "stream",
     "text": [
      "1000 1000 3000 5000 10000 \n",
      " 0.9195 0.9195 0.7947 0.6612 0.2718\n"
     ]
    },
    {
     "name": "stderr",
     "output_type": "stream",
     "text": [
      "epoch-212 lr=['0.0019770'], tr/val_loss:  0.823005/  0.806516, tr:  90.16%, val:  91.95%, val_best:  92.29%: 100%|██████████| 469/469 [01:36<00:00,  4.86it/s]\n",
      "epoch-213 lr=['0.0019355'], tr/val_loss:  0.822645/  0.807105, tr:  90.17%, val:  92.16%, val_best:  92.29%: 100%|██████████| 469/469 [01:31<00:00,  5.14it/s]"
     ]
    },
    {
     "name": "stdout",
     "output_type": "stream",
     "text": [
      "1000 1000 3000 5000 10000 \n",
      " 0.9216 0.9216 0.7967 0.6712 0.299\n"
     ]
    },
    {
     "name": "stderr",
     "output_type": "stream",
     "text": [
      "\n",
      "epoch-214 lr=['0.0018943'], tr/val_loss:  0.822397/  0.806117, tr:  90.17%, val:  92.27%, val_best:  92.29%: 100%|██████████| 469/469 [01:39<00:00,  4.70it/s]"
     ]
    },
    {
     "name": "stdout",
     "output_type": "stream",
     "text": [
      "1000 1000 3000 5000 10000 \n",
      " 0.9227 0.9227 0.7943 0.6567 0.2629\n"
     ]
    },
    {
     "name": "stderr",
     "output_type": "stream",
     "text": [
      "\n",
      "epoch-215 lr=['0.0018534'], tr/val_loss:  0.822295/  0.806381, tr:  90.18%, val:  92.11%, val_best:  92.29%: 100%|██████████| 469/469 [01:45<00:00,  6.36s/it]"
     ]
    },
    {
     "name": "stdout",
     "output_type": "stream",
     "text": [
      "1000 1000 3000 5000 10000 \n",
      " 0.9211 0.9211 0.7959 0.6523 0.2465\n"
     ]
    },
    {
     "name": "stderr",
     "output_type": "stream",
     "text": [
      "epoch-215 lr=['0.0018534'], tr/val_loss:  0.822295/  0.806381, tr:  90.18%, val:  92.11%, val_best:  92.29%: 100%|██████████| 469/469 [01:45<00:00,  4.43it/s]\n",
      "epoch-216 lr=['0.0018129'], tr/val_loss:  0.822167/  0.805799, tr:  90.19%, val:  92.24%, val_best:  92.29%: 100%|██████████| 469/469 [01:48<00:00,  4.34it/s]"
     ]
    },
    {
     "name": "stdout",
     "output_type": "stream",
     "text": [
      "1000 1000 3000 5000 10000 \n",
      " 0.9224 0.9224 0.7945 0.6621 0.2766\n"
     ]
    },
    {
     "name": "stderr",
     "output_type": "stream",
     "text": [
      "\n",
      "epoch-217 lr=['0.0017727'], tr/val_loss:  0.822251/  0.805620, tr:  90.19%, val:  92.20%, val_best:  92.29%: 100%|█████████▉| 467/469 [01:53<00:00,  6.96it/s]"
     ]
    },
    {
     "name": "stdout",
     "output_type": "stream",
     "text": [
      "1000 1000 3000 5000 10000 \n",
      " 0.922 0.922 0.7976 0.6597 0.2594\n"
     ]
    },
    {
     "name": "stderr",
     "output_type": "stream",
     "text": [
      "epoch-217 lr=['0.0017727'], tr/val_loss:  0.822251/  0.805620, tr:  90.19%, val:  92.20%, val_best:  92.29%: 100%|██████████| 469/469 [01:54<00:00,  4.11it/s]\n",
      "epoch-218 lr=['0.0017329'], tr/val_loss:  0.822067/  0.804738, tr:  90.20%, val:  92.11%, val_best:  92.29%: 100%|██████████| 469/469 [01:50<00:00,  4.23it/s]"
     ]
    },
    {
     "name": "stdout",
     "output_type": "stream",
     "text": [
      "1000 1000 3000 5000 10000 \n",
      " 0.9211 0.9211 0.8002 0.6694 0.2959\n"
     ]
    },
    {
     "name": "stderr",
     "output_type": "stream",
     "text": [
      "\n",
      "epoch-219 lr=['0.0016934'], tr/val_loss:  0.822233/  0.805567, tr:  90.20%, val:  92.02%, val_best:  92.29%:  99%|█████████▉| 466/469 [01:51<00:00, 11.84it/s]"
     ]
    },
    {
     "name": "stdout",
     "output_type": "stream",
     "text": [
      "1000 1000 3000 5000 10000 \n",
      " 0.9202 0.9202 0.7916 0.6574 0.2635\n"
     ]
    },
    {
     "name": "stderr",
     "output_type": "stream",
     "text": [
      "epoch-219 lr=['0.0016934'], tr/val_loss:  0.822233/  0.805567, tr:  90.20%, val:  92.02%, val_best:  92.29%: 100%|██████████| 469/469 [01:53<00:00,  4.14it/s]\n",
      "epoch-220 lr=['0.0016543'], tr/val_loss:  0.821897/  0.805338, tr:  90.21%, val:  92.02%, val_best:  92.29%: 100%|█████████▉| 468/469 [01:57<00:00,  8.72it/s]"
     ]
    },
    {
     "name": "stdout",
     "output_type": "stream",
     "text": [
      "1000 1000 3000 5000 10000 \n",
      " 0.9202 0.9202 0.7941 0.6615 0.2636\n"
     ]
    },
    {
     "name": "stderr",
     "output_type": "stream",
     "text": [
      "epoch-220 lr=['0.0016543'], tr/val_loss:  0.821897/  0.805338, tr:  90.21%, val:  92.02%, val_best:  92.29%: 100%|██████████| 469/469 [01:57<00:00,  3.98it/s]\n",
      "epoch-221 lr=['0.0016156'], tr/val_loss:  0.821914/  0.804971, tr:  90.22%, val:  91.98%, val_best:  92.29%: 100%|██████████| 469/469 [01:43<00:00,  4.53it/s]"
     ]
    },
    {
     "name": "stdout",
     "output_type": "stream",
     "text": [
      "1000 1000 3000 5000 10000 \n",
      " 0.9198 0.9198 0.7989 0.6721 0.2819\n"
     ]
    },
    {
     "name": "stderr",
     "output_type": "stream",
     "text": [
      "\n",
      "epoch-222 lr=['0.0015773'], tr/val_loss:  0.822029/  0.806880, tr:  90.22%, val:  92.17%, val_best:  92.29%: 100%|██████████| 469/469 [01:29<00:00,  5.76s/it]"
     ]
    },
    {
     "name": "stdout",
     "output_type": "stream",
     "text": [
      "1000 1000 3000 5000 10000 \n",
      " 0.9217 0.9217 0.7938 0.6629 0.2684\n"
     ]
    },
    {
     "name": "stderr",
     "output_type": "stream",
     "text": [
      "epoch-222 lr=['0.0015773'], tr/val_loss:  0.822029/  0.806880, tr:  90.22%, val:  92.17%, val_best:  92.29%: 100%|██████████| 469/469 [01:29<00:00,  5.24it/s]\n",
      "epoch-223 lr=['0.0015393'], tr/val_loss:  0.821828/  0.806811, tr:  90.23%, val:  91.97%, val_best:  92.29%: 100%|██████████| 469/469 [01:26<00:00,  5.41it/s]"
     ]
    },
    {
     "name": "stdout",
     "output_type": "stream",
     "text": [
      "1000 1000 3000 5000 10000 \n",
      " 0.9197 0.9197 0.7881 0.6565 0.2705\n"
     ]
    },
    {
     "name": "stderr",
     "output_type": "stream",
     "text": [
      "\n",
      "epoch-224 lr=['0.0015017'], tr/val_loss:  0.821789/  0.805362, tr:  90.23%, val:  92.08%, val_best:  92.29%: 100%|██████████| 469/469 [01:26<00:00,  5.80s/it]"
     ]
    },
    {
     "name": "stdout",
     "output_type": "stream",
     "text": [
      "1000 1000 3000 5000 10000 \n",
      " 0.9208 0.9208 0.7992 0.6745 0.2948\n"
     ]
    },
    {
     "name": "stderr",
     "output_type": "stream",
     "text": [
      "epoch-224 lr=['0.0015017'], tr/val_loss:  0.821789/  0.805362, tr:  90.23%, val:  92.08%, val_best:  92.29%: 100%|██████████| 469/469 [01:26<00:00,  5.43it/s]\n",
      "epoch-225 lr=['0.0014645'], tr/val_loss:  0.821535/  0.805313, tr:  90.24%, val:  92.14%, val_best:  92.29%: 100%|██████████| 469/469 [01:22<00:00,  7.96s/it]"
     ]
    },
    {
     "name": "stdout",
     "output_type": "stream",
     "text": [
      "1000 1000 3000 5000 10000 \n",
      " 0.9214 0.9214 0.8009 0.6735 0.2755\n"
     ]
    },
    {
     "name": "stderr",
     "output_type": "stream",
     "text": [
      "epoch-225 lr=['0.0014645'], tr/val_loss:  0.821535/  0.805313, tr:  90.24%, val:  92.14%, val_best:  92.29%: 100%|██████████| 469/469 [01:22<00:00,  5.66it/s]\n",
      "epoch-226 lr=['0.0014276'], tr/val_loss:  0.821552/  0.805186, tr:  90.25%, val:  92.15%, val_best:  92.29%: 100%|██████████| 469/469 [01:27<00:00,  5.35it/s]"
     ]
    },
    {
     "name": "stdout",
     "output_type": "stream",
     "text": [
      "1000 1000 3000 5000 10000 \n",
      " 0.9215 0.9215 0.7972 0.6695 0.2743\n"
     ]
    },
    {
     "name": "stderr",
     "output_type": "stream",
     "text": [
      "\n",
      "epoch-227 lr=['0.0013912'], tr/val_loss:  0.821187/  0.805044, tr:  90.25%, val:  92.10%, val_best:  92.29%: 100%|█████████▉| 468/469 [01:33<00:00,  8.80it/s]"
     ]
    },
    {
     "name": "stdout",
     "output_type": "stream",
     "text": [
      "1000 1000 3000 5000 10000 \n",
      " 0.921 0.921 0.7965 0.6658 0.2923\n"
     ]
    },
    {
     "name": "stderr",
     "output_type": "stream",
     "text": [
      "epoch-227 lr=['0.0013912'], tr/val_loss:  0.821187/  0.805044, tr:  90.25%, val:  92.10%, val_best:  92.29%: 100%|██████████| 469/469 [01:34<00:00,  4.97it/s]\n",
      "epoch-228 lr=['0.0013552'], tr/val_loss:  0.821356/  0.804767, tr:  90.26%, val:  92.17%, val_best:  92.29%: 100%|██████████| 469/469 [01:33<00:00,  5.04it/s]"
     ]
    },
    {
     "name": "stdout",
     "output_type": "stream",
     "text": [
      "1000 1000 3000 5000 10000 \n",
      " 0.9217 0.9217 0.7935 0.6629 0.2776\n"
     ]
    },
    {
     "name": "stderr",
     "output_type": "stream",
     "text": [
      "\n",
      "epoch-229 lr=['0.0013195'], tr/val_loss:  0.821239/  0.804036, tr:  90.26%, val:  92.22%, val_best:  92.29%: 100%|██████████| 469/469 [01:32<00:00,  5.08it/s]"
     ]
    },
    {
     "name": "stdout",
     "output_type": "stream",
     "text": [
      "1000 1000 3000 5000 10000 \n",
      " 0.9222 0.9222 0.8004 0.6671 0.2874\n"
     ]
    },
    {
     "name": "stderr",
     "output_type": "stream",
     "text": [
      "\n",
      "epoch-230 lr=['0.0012843'], tr/val_loss:  0.821342/  0.804208, tr:  90.27%, val:  92.10%, val_best:  92.29%: 100%|██████████| 469/469 [01:30<00:00,  5.17it/s]"
     ]
    },
    {
     "name": "stdout",
     "output_type": "stream",
     "text": [
      "1000 1000 3000 5000 10000 \n",
      " 0.921 0.921 0.8006 0.6687 0.2944\n"
     ]
    },
    {
     "name": "stderr",
     "output_type": "stream",
     "text": [
      "\n",
      "epoch-231 lr=['0.0012494'], tr/val_loss:  0.821320/  0.803883, tr:  90.27%, val:  92.21%, val_best:  92.29%: 100%|██████████| 469/469 [01:35<00:00,  4.92it/s]"
     ]
    },
    {
     "name": "stdout",
     "output_type": "stream",
     "text": [
      "1000 1000 3000 5000 10000 \n",
      " 0.9221 0.9221 0.8039 0.676 0.2752\n"
     ]
    },
    {
     "name": "stderr",
     "output_type": "stream",
     "text": [
      "\n",
      "epoch-232 lr=['0.0012150'], tr/val_loss:  0.821268/  0.803439, tr:  90.28%, val:  92.08%, val_best:  92.29%: 100%|██████████| 469/469 [01:31<00:00,  8.11s/it]"
     ]
    },
    {
     "name": "stdout",
     "output_type": "stream",
     "text": [
      "1000 1000 3000 5000 10000 \n",
      " 0.9208 0.9208 0.8004 0.6769 0.2852\n"
     ]
    },
    {
     "name": "stderr",
     "output_type": "stream",
     "text": [
      "epoch-232 lr=['0.0012150'], tr/val_loss:  0.821268/  0.803439, tr:  90.28%, val:  92.08%, val_best:  92.29%: 100%|██████████| 469/469 [01:31<00:00,  5.13it/s]\n",
      "epoch-233 lr=['0.0011810'], tr/val_loss:  0.820848/  0.803550, tr:  90.29%, val:  92.09%, val_best:  92.29%: 100%|█████████▉| 467/469 [01:31<00:00, 10.53it/s]"
     ]
    },
    {
     "name": "stdout",
     "output_type": "stream",
     "text": [
      "1000 1000 3000 5000 10000 \n",
      " 0.9209 0.9209 0.803 0.6755 0.2819\n"
     ]
    },
    {
     "name": "stderr",
     "output_type": "stream",
     "text": [
      "epoch-233 lr=['0.0011810'], tr/val_loss:  0.820848/  0.803550, tr:  90.29%, val:  92.09%, val_best:  92.29%: 100%|██████████| 469/469 [01:31<00:00,  5.11it/s]\n",
      "epoch-234 lr=['0.0011474'], tr/val_loss:  0.821130/  0.804876, tr:  90.29%, val:  92.05%, val_best:  92.29%: 100%|█████████▉| 468/469 [01:29<00:00,  7.36it/s]"
     ]
    },
    {
     "name": "stdout",
     "output_type": "stream",
     "text": [
      "1000 1000 3000 5000 10000 \n",
      " 0.9205 0.9205 0.8025 0.6775 0.2856\n"
     ]
    },
    {
     "name": "stderr",
     "output_type": "stream",
     "text": [
      "epoch-234 lr=['0.0011474'], tr/val_loss:  0.821130/  0.804876, tr:  90.29%, val:  92.05%, val_best:  92.29%: 100%|██████████| 469/469 [01:29<00:00,  5.22it/s]\n",
      "epoch-235 lr=['0.0011143'], tr/val_loss:  0.820987/  0.805853, tr:  90.30%, val:  91.93%, val_best:  92.29%: 100%|██████████| 469/469 [01:32<00:00,  5.75s/it]"
     ]
    },
    {
     "name": "stdout",
     "output_type": "stream",
     "text": [
      "1000 1000 3000 5000 10000 \n",
      " 0.9193 0.9193 0.804 0.6797 0.2972\n"
     ]
    },
    {
     "name": "stderr",
     "output_type": "stream",
     "text": [
      "epoch-235 lr=['0.0011143'], tr/val_loss:  0.820987/  0.805853, tr:  90.30%, val:  91.93%, val_best:  92.29%: 100%|██████████| 469/469 [01:32<00:00,  5.04it/s]\n",
      "epoch-236 lr=['0.0010815'], tr/val_loss:  0.820725/  0.805846, tr:  90.30%, val:  92.02%, val_best:  92.29%: 100%|██████████| 469/469 [01:28<00:00,  5.27it/s]"
     ]
    },
    {
     "name": "stdout",
     "output_type": "stream",
     "text": [
      "1000 1000 3000 5000 10000 \n",
      " 0.9202 0.9202 0.7989 0.6729 0.2874\n"
     ]
    },
    {
     "name": "stderr",
     "output_type": "stream",
     "text": [
      "\n",
      "epoch-237 lr=['0.0010492'], tr/val_loss:  0.820832/  0.804439, tr:  90.31%, val:  92.14%, val_best:  92.29%: 100%|██████████| 469/469 [01:32<00:00,  6.07s/it]"
     ]
    },
    {
     "name": "stdout",
     "output_type": "stream",
     "text": [
      "1000 1000 3000 5000 10000 \n",
      " 0.9214 0.9214 0.8001 0.6743 0.292\n"
     ]
    },
    {
     "name": "stderr",
     "output_type": "stream",
     "text": [
      "epoch-237 lr=['0.0010492'], tr/val_loss:  0.820832/  0.804439, tr:  90.31%, val:  92.14%, val_best:  92.29%: 100%|██████████| 469/469 [01:32<00:00,  5.05it/s]\n",
      "epoch-238 lr=['0.0010174'], tr/val_loss:  0.820649/  0.803911, tr:  90.31%, val:  92.11%, val_best:  92.29%: 100%|██████████| 469/469 [01:35<00:00,  4.92it/s]"
     ]
    },
    {
     "name": "stdout",
     "output_type": "stream",
     "text": [
      "1000 1000 3000 5000 10000 \n",
      " 0.9211 0.9211 0.8 0.6764 0.2958\n"
     ]
    },
    {
     "name": "stderr",
     "output_type": "stream",
     "text": [
      "\n",
      "epoch-239 lr=['0.0009859'], tr/val_loss:  0.820631/  0.803613, tr:  90.32%, val:  92.08%, val_best:  92.29%: 100%|██████████| 469/469 [01:32<00:00,  5.28s/it]"
     ]
    },
    {
     "name": "stdout",
     "output_type": "stream",
     "text": [
      "1000 1000 3000 5000 10000 \n",
      " 0.9208 0.9208 0.8035 0.6768 0.2788\n"
     ]
    },
    {
     "name": "stderr",
     "output_type": "stream",
     "text": [
      "epoch-239 lr=['0.0009859'], tr/val_loss:  0.820631/  0.803613, tr:  90.32%, val:  92.08%, val_best:  92.29%: 100%|██████████| 469/469 [01:33<00:00,  5.04it/s]\n",
      "epoch-240 lr=['0.0009549'], tr/val_loss:  0.820621/  0.804084, tr:  90.32%, val:  92.11%, val_best:  92.29%: 100%|██████████| 469/469 [01:29<00:00,  5.22it/s]"
     ]
    },
    {
     "name": "stdout",
     "output_type": "stream",
     "text": [
      "1000 1000 3000 5000 10000 \n",
      " 0.9211 0.9211 0.7966 0.6668 0.2738\n"
     ]
    },
    {
     "name": "stderr",
     "output_type": "stream",
     "text": [
      "\n",
      "epoch-241 lr=['0.0009244'], tr/val_loss:  0.820573/  0.803933, tr:  90.33%, val:  92.10%, val_best:  92.29%: 100%|██████████| 469/469 [01:32<00:00,  5.10it/s]"
     ]
    },
    {
     "name": "stdout",
     "output_type": "stream",
     "text": [
      "1000 1000 3000 5000 10000 \n",
      " 0.921 0.921 0.8019 0.6719 0.282\n"
     ]
    },
    {
     "name": "stderr",
     "output_type": "stream",
     "text": [
      "\n",
      "epoch-242 lr=['0.0008943'], tr/val_loss:  0.820497/  0.804994, tr:  90.33%, val:  92.04%, val_best:  92.29%: 100%|█████████▉| 467/469 [01:28<00:00, 14.01it/s]"
     ]
    },
    {
     "name": "stdout",
     "output_type": "stream",
     "text": [
      "1000 1000 3000 5000 10000 \n",
      " 0.9204 0.9204 0.796 0.6669 0.2674\n"
     ]
    },
    {
     "name": "stderr",
     "output_type": "stream",
     "text": [
      "epoch-242 lr=['0.0008943'], tr/val_loss:  0.820497/  0.804994, tr:  90.33%, val:  92.04%, val_best:  92.29%: 100%|██████████| 469/469 [01:28<00:00,  5.28it/s]\n",
      "epoch-243 lr=['0.0008646'], tr/val_loss:  0.820460/  0.804938, tr:  90.34%, val:  92.19%, val_best:  92.29%: 100%|██████████| 469/469 [01:26<00:00,  5.43it/s]"
     ]
    },
    {
     "name": "stdout",
     "output_type": "stream",
     "text": [
      "1000 1000 3000 5000 10000 \n",
      " 0.9219 0.9219 0.7989 0.6663 0.2853\n"
     ]
    },
    {
     "name": "stderr",
     "output_type": "stream",
     "text": [
      "\n",
      "epoch-244 lr=['0.0008354'], tr/val_loss:  0.820471/  0.804399, tr:  90.34%, val:  92.06%, val_best:  92.29%: 100%|██████████| 469/469 [01:27<00:00,  5.77s/it]"
     ]
    },
    {
     "name": "stdout",
     "output_type": "stream",
     "text": [
      "1000 1000 3000 5000 10000 \n",
      " 0.9206 0.9206 0.8001 0.6694 0.2878\n"
     ]
    },
    {
     "name": "stderr",
     "output_type": "stream",
     "text": [
      "epoch-244 lr=['0.0008354'], tr/val_loss:  0.820471/  0.804399, tr:  90.34%, val:  92.06%, val_best:  92.29%: 100%|██████████| 469/469 [01:27<00:00,  5.34it/s]\n",
      "epoch-245 lr=['0.0008066'], tr/val_loss:  0.820334/  0.804261, tr:  90.35%, val:  92.03%, val_best:  92.29%: 100%|██████████| 469/469 [01:40<00:00,  4.67it/s]"
     ]
    },
    {
     "name": "stdout",
     "output_type": "stream",
     "text": [
      "1000 1000 3000 5000 10000 \n",
      " 0.9203 0.9203 0.7993 0.6723 0.2918\n"
     ]
    },
    {
     "name": "stderr",
     "output_type": "stream",
     "text": [
      "\n",
      "epoch-246 lr=['0.0007784'], tr/val_loss:  0.820281/  0.804311, tr:  90.35%, val:  92.11%, val_best:  92.29%: 100%|██████████| 469/469 [01:35<00:00,  4.89it/s]"
     ]
    },
    {
     "name": "stdout",
     "output_type": "stream",
     "text": [
      "1000 1000 3000 5000 10000 \n",
      " 0.9211 0.9211 0.8015 0.6751 0.2891\n"
     ]
    },
    {
     "name": "stderr",
     "output_type": "stream",
     "text": [
      "\n",
      "epoch-247 lr=['0.0007505'], tr/val_loss:  0.820360/  0.803809, tr:  90.36%, val:  92.07%, val_best:  92.29%: 100%|██████████| 469/469 [01:33<00:00,  8.05s/it]"
     ]
    },
    {
     "name": "stdout",
     "output_type": "stream",
     "text": [
      "1000 1000 3000 5000 10000 \n",
      " 0.9207 0.9207 0.8006 0.673 0.2728\n"
     ]
    },
    {
     "name": "stderr",
     "output_type": "stream",
     "text": [
      "epoch-247 lr=['0.0007505'], tr/val_loss:  0.820360/  0.803809, tr:  90.36%, val:  92.07%, val_best:  92.29%: 100%|██████████| 469/469 [01:33<00:00,  5.03it/s]\n",
      "epoch-248 lr=['0.0007232'], tr/val_loss:  0.820250/  0.804360, tr:  90.36%, val:  92.07%, val_best:  92.29%: 100%|██████████| 469/469 [01:27<00:00,  5.36it/s]"
     ]
    },
    {
     "name": "stdout",
     "output_type": "stream",
     "text": [
      "1000 1000 3000 5000 10000 \n",
      " 0.9207 0.9207 0.8008 0.6702 0.2847\n"
     ]
    },
    {
     "name": "stderr",
     "output_type": "stream",
     "text": [
      "\n",
      "epoch-249 lr=['0.0006963'], tr/val_loss:  0.820137/  0.805506, tr:  90.37%, val:  92.06%, val_best:  92.29%: 100%|██████████| 469/469 [01:11<00:00,  4.84s/it]"
     ]
    },
    {
     "name": "stdout",
     "output_type": "stream",
     "text": [
      "1000 1000 3000 5000 10000 \n",
      " 0.9206 0.9206 0.801 0.6735 0.2939\n"
     ]
    },
    {
     "name": "stderr",
     "output_type": "stream",
     "text": [
      "epoch-249 lr=['0.0006963'], tr/val_loss:  0.820137/  0.805506, tr:  90.37%, val:  92.06%, val_best:  92.29%: 100%|██████████| 469/469 [01:11<00:00,  6.54it/s]\n",
      "epoch-250 lr=['0.0006699'], tr/val_loss:  0.820208/  0.804495, tr:  90.37%, val:  92.04%, val_best:  92.29%: 100%|██████████| 469/469 [01:11<00:00,  4.88s/it]"
     ]
    },
    {
     "name": "stdout",
     "output_type": "stream",
     "text": [
      "1000 1000 3000 5000 10000 \n",
      " 0.9204 0.9204 0.7977 0.6706 0.2852\n"
     ]
    },
    {
     "name": "stderr",
     "output_type": "stream",
     "text": [
      "epoch-250 lr=['0.0006699'], tr/val_loss:  0.820208/  0.804495, tr:  90.37%, val:  92.04%, val_best:  92.29%: 100%|██████████| 469/469 [01:11<00:00,  6.54it/s]\n",
      "epoch-251 lr=['0.0006439'], tr/val_loss:  0.820198/  0.804366, tr:  90.38%, val:  92.07%, val_best:  92.29%: 100%|██████████| 469/469 [01:15<00:00,  6.23it/s]"
     ]
    },
    {
     "name": "stdout",
     "output_type": "stream",
     "text": [
      "1000 1000 3000 5000 10000 \n",
      " 0.9207 0.9207 0.7981 0.6704 0.2818\n"
     ]
    },
    {
     "name": "stderr",
     "output_type": "stream",
     "text": [
      "\n",
      "epoch-252 lr=['0.0006185'], tr/val_loss:  0.820047/  0.803748, tr:  90.38%, val:  92.11%, val_best:  92.29%: 100%|██████████| 469/469 [01:14<00:00,  6.33it/s]"
     ]
    },
    {
     "name": "stdout",
     "output_type": "stream",
     "text": [
      "1000 1000 3000 5000 10000 \n",
      " 0.9211 0.9211 0.7995 0.6703 0.2845\n"
     ]
    },
    {
     "name": "stderr",
     "output_type": "stream",
     "text": [
      "\n",
      "epoch-253 lr=['0.0005935'], tr/val_loss:  0.820133/  0.803502, tr:  90.39%, val:  92.12%, val_best:  92.29%: 100%|██████████| 469/469 [01:15<00:00,  6.25it/s]"
     ]
    },
    {
     "name": "stdout",
     "output_type": "stream",
     "text": [
      "1000 1000 3000 5000 10000 \n",
      " 0.9212 0.9212 0.8007 0.6726 0.2816\n"
     ]
    },
    {
     "name": "stderr",
     "output_type": "stream",
     "text": [
      "\n",
      "epoch-254 lr=['0.0005690'], tr/val_loss:  0.819942/  0.803836, tr:  90.39%, val:  92.17%, val_best:  92.29%: 100%|██████████| 469/469 [01:13<00:00,  6.38it/s]"
     ]
    },
    {
     "name": "stdout",
     "output_type": "stream",
     "text": [
      "1000 1000 3000 5000 10000 \n",
      " 0.9217 0.9217 0.8008 0.6737 0.2939\n"
     ]
    },
    {
     "name": "stderr",
     "output_type": "stream",
     "text": [
      "\n",
      "epoch-255 lr=['0.0005450'], tr/val_loss:  0.819969/  0.803916, tr:  90.40%, val:  92.01%, val_best:  92.29%: 100%|██████████| 469/469 [01:13<00:00,  6.42it/s]"
     ]
    },
    {
     "name": "stdout",
     "output_type": "stream",
     "text": [
      "1000 1000 3000 5000 10000 \n",
      " 0.9201 0.9201 0.7982 0.6714 0.2869\n"
     ]
    },
    {
     "name": "stderr",
     "output_type": "stream",
     "text": [
      "\n",
      "epoch-256 lr=['0.0005214'], tr/val_loss:  0.820068/  0.803640, tr:  90.40%, val:  92.15%, val_best:  92.29%: 100%|█████████▉| 468/469 [01:27<00:00, 13.09it/s]"
     ]
    },
    {
     "name": "stdout",
     "output_type": "stream",
     "text": [
      "1000 1000 3000 5000 10000 \n",
      " 0.9215 0.9215 0.7985 0.6657 0.2764\n"
     ]
    },
    {
     "name": "stderr",
     "output_type": "stream",
     "text": [
      "epoch-256 lr=['0.0005214'], tr/val_loss:  0.820068/  0.803640, tr:  90.40%, val:  92.15%, val_best:  92.29%: 100%|██████████| 469/469 [01:27<00:00,  5.34it/s]\n",
      "epoch-257 lr=['0.0004984'], tr/val_loss:  0.820004/  0.802982, tr:  90.41%, val:  92.17%, val_best:  92.29%: 100%|█████████▉| 468/469 [01:18<00:00, 12.90it/s]"
     ]
    },
    {
     "name": "stdout",
     "output_type": "stream",
     "text": [
      "1000 1000 3000 5000 10000 \n",
      " 0.9217 0.9217 0.8024 0.6737 0.2931\n"
     ]
    },
    {
     "name": "stderr",
     "output_type": "stream",
     "text": [
      "epoch-257 lr=['0.0004984'], tr/val_loss:  0.820004/  0.802982, tr:  90.41%, val:  92.17%, val_best:  92.29%: 100%|██████████| 469/469 [01:18<00:00,  5.96it/s]\n",
      "epoch-258 lr=['0.0004759'], tr/val_loss:  0.819898/  0.803361, tr:  90.41%, val:  92.03%, val_best:  92.29%: 100%|█████████▉| 467/469 [01:19<00:00, 12.61it/s]"
     ]
    },
    {
     "name": "stdout",
     "output_type": "stream",
     "text": [
      "1000 1000 3000 5000 10000 \n",
      " 0.9203 0.9203 0.7999 0.668 0.2718\n"
     ]
    },
    {
     "name": "stderr",
     "output_type": "stream",
     "text": [
      "epoch-258 lr=['0.0004759'], tr/val_loss:  0.819898/  0.803361, tr:  90.41%, val:  92.03%, val_best:  92.29%: 100%|██████████| 469/469 [01:19<00:00,  5.89it/s]\n",
      "epoch-259 lr=['0.0004538'], tr/val_loss:  0.819879/  0.803447, tr:  90.42%, val:  92.18%, val_best:  92.29%: 100%|██████████| 469/469 [01:14<00:00,  6.30it/s]"
     ]
    },
    {
     "name": "stdout",
     "output_type": "stream",
     "text": [
      "1000 1000 3000 5000 10000 \n",
      " 0.9218 0.9218 0.7994 0.6714 0.2761\n"
     ]
    },
    {
     "name": "stderr",
     "output_type": "stream",
     "text": [
      "\n",
      "epoch-260 lr=['0.0004323'], tr/val_loss:  0.819994/  0.803000, tr:  90.42%, val:  92.13%, val_best:  92.29%: 100%|██████████| 469/469 [01:12<00:00,  6.47it/s]"
     ]
    },
    {
     "name": "stdout",
     "output_type": "stream",
     "text": [
      "1000 1000 3000 5000 10000 \n",
      " 0.9213 0.9213 0.7993 0.6703 0.277\n"
     ]
    },
    {
     "name": "stderr",
     "output_type": "stream",
     "text": [
      "\n",
      "epoch-261 lr=['0.0004112'], tr/val_loss:  0.819849/  0.803361, tr:  90.43%, val:  92.04%, val_best:  92.29%: 100%|██████████| 469/469 [01:15<00:00,  6.18it/s]"
     ]
    },
    {
     "name": "stdout",
     "output_type": "stream",
     "text": [
      "1000 1000 3000 5000 10000 \n",
      " 0.9204 0.9204 0.7995 0.6725 0.284\n"
     ]
    },
    {
     "name": "stderr",
     "output_type": "stream",
     "text": [
      "\n",
      "epoch-262 lr=['0.0003907'], tr/val_loss:  0.819817/  0.803018, tr:  90.43%, val:  92.11%, val_best:  92.29%: 100%|█████████▉| 467/469 [01:10<00:00, 12.22it/s]"
     ]
    },
    {
     "name": "stdout",
     "output_type": "stream",
     "text": [
      "1000 1000 3000 5000 10000 \n",
      " 0.9211 0.9211 0.8013 0.6729 0.2853\n"
     ]
    },
    {
     "name": "stderr",
     "output_type": "stream",
     "text": [
      "epoch-262 lr=['0.0003907'], tr/val_loss:  0.819817/  0.803018, tr:  90.43%, val:  92.11%, val_best:  92.29%: 100%|██████████| 469/469 [01:11<00:00,  6.55it/s]\n",
      "epoch-263 lr=['0.0003706'], tr/val_loss:  0.819910/  0.802982, tr:  90.43%, val:  92.09%, val_best:  92.29%: 100%|██████████| 469/469 [01:11<00:00,  6.54it/s]"
     ]
    },
    {
     "name": "stdout",
     "output_type": "stream",
     "text": [
      "1000 1000 3000 5000 10000 \n",
      " 0.9209 0.9209 0.8009 0.6733 0.2828\n"
     ]
    },
    {
     "name": "stderr",
     "output_type": "stream",
     "text": [
      "\n",
      "epoch-264 lr=['0.0003511'], tr/val_loss:  0.819837/  0.802981, tr:  90.44%, val:  92.08%, val_best:  92.29%: 100%|██████████| 469/469 [01:14<00:00,  6.28it/s]"
     ]
    },
    {
     "name": "stdout",
     "output_type": "stream",
     "text": [
      "1000 1000 3000 5000 10000 \n",
      " 0.9208 0.9208 0.8017 0.6736 0.2865\n"
     ]
    },
    {
     "name": "stderr",
     "output_type": "stream",
     "text": [
      "\n",
      "epoch-265 lr=['0.0003321'], tr/val_loss:  0.819818/  0.802973, tr:  90.44%, val:  92.12%, val_best:  92.29%: 100%|██████████| 469/469 [01:19<00:00,  5.92it/s]"
     ]
    },
    {
     "name": "stdout",
     "output_type": "stream",
     "text": [
      "1000 1000 3000 5000 10000 \n",
      " 0.9212 0.9212 0.8008 0.673 0.2838\n"
     ]
    },
    {
     "name": "stderr",
     "output_type": "stream",
     "text": [
      "\n",
      "epoch-266 lr=['0.0003136'], tr/val_loss:  0.819903/  0.803052, tr:  90.45%, val:  92.10%, val_best:  92.29%: 100%|██████████| 469/469 [01:17<00:00,  6.09it/s]"
     ]
    },
    {
     "name": "stdout",
     "output_type": "stream",
     "text": [
      "1000 1000 3000 5000 10000 \n",
      " 0.921 0.921 0.7995 0.6709 0.2747\n"
     ]
    },
    {
     "name": "stderr",
     "output_type": "stream",
     "text": [
      "\n",
      "epoch-267 lr=['0.0002956'], tr/val_loss:  0.819706/  0.803018, tr:  90.45%, val:  92.21%, val_best:  92.29%: 100%|██████████| 469/469 [01:10<00:00,  6.65it/s]"
     ]
    },
    {
     "name": "stdout",
     "output_type": "stream",
     "text": [
      "1000 1000 3000 5000 10000 \n",
      " 0.9221 0.9221 0.8 0.669 0.2817\n"
     ]
    },
    {
     "name": "stderr",
     "output_type": "stream",
     "text": [
      "\n",
      "epoch-268 lr=['0.0002781'], tr/val_loss:  0.819829/  0.802651, tr:  90.46%, val:  92.14%, val_best:  92.29%: 100%|██████████| 469/469 [01:11<00:00,  4.78s/it]"
     ]
    },
    {
     "name": "stdout",
     "output_type": "stream",
     "text": [
      "1000 1000 3000 5000 10000 \n",
      " 0.9214 0.9214 0.8 0.6719 0.2761\n"
     ]
    },
    {
     "name": "stderr",
     "output_type": "stream",
     "text": [
      "epoch-268 lr=['0.0002781'], tr/val_loss:  0.819829/  0.802651, tr:  90.46%, val:  92.14%, val_best:  92.29%: 100%|██████████| 469/469 [01:11<00:00,  6.55it/s]\n",
      "epoch-269 lr=['0.0002612'], tr/val_loss:  0.819724/  0.802657, tr:  90.46%, val:  92.17%, val_best:  92.29%: 100%|█████████▉| 468/469 [01:17<00:00, 12.83it/s]"
     ]
    },
    {
     "name": "stdout",
     "output_type": "stream",
     "text": [
      "1000 1000 3000 5000 10000 \n",
      " 0.9217 0.9217 0.7995 0.6707 0.2765\n"
     ]
    },
    {
     "name": "stderr",
     "output_type": "stream",
     "text": [
      "epoch-269 lr=['0.0002612'], tr/val_loss:  0.819724/  0.802657, tr:  90.46%, val:  92.17%, val_best:  92.29%: 100%|██████████| 469/469 [01:20<00:00,  5.86it/s]\n",
      "epoch-270 lr=['0.0002447'], tr/val_loss:  0.819697/  0.803457, tr:  90.46%, val:  92.08%, val_best:  92.29%: 100%|█████████▉| 468/469 [01:18<00:00, 13.21it/s]"
     ]
    },
    {
     "name": "stdout",
     "output_type": "stream",
     "text": [
      "1000 1000 3000 5000 10000 \n",
      " 0.9208 0.9208 0.8 0.6732 0.284\n"
     ]
    },
    {
     "name": "stderr",
     "output_type": "stream",
     "text": [
      "epoch-270 lr=['0.0002447'], tr/val_loss:  0.819697/  0.803457, tr:  90.46%, val:  92.08%, val_best:  92.29%: 100%|██████████| 469/469 [01:18<00:00,  5.95it/s]\n",
      "epoch-271 lr=['0.0002288'], tr/val_loss:  0.819763/  0.802627, tr:  90.47%, val:  92.10%, val_best:  92.29%: 100%|█████████▉| 467/469 [01:17<00:00, 11.58it/s]"
     ]
    },
    {
     "name": "stdout",
     "output_type": "stream",
     "text": [
      "1000 1000 3000 5000 10000 \n",
      " 0.921 0.921 0.8017 0.6726 0.284\n"
     ]
    },
    {
     "name": "stderr",
     "output_type": "stream",
     "text": [
      "epoch-271 lr=['0.0002288'], tr/val_loss:  0.819763/  0.802627, tr:  90.47%, val:  92.10%, val_best:  92.29%: 100%|██████████| 469/469 [01:18<00:00,  5.98it/s]\n",
      "epoch-272 lr=['0.0002134'], tr/val_loss:  0.819597/  0.802958, tr:  90.47%, val:  92.11%, val_best:  92.29%: 100%|██████████| 469/469 [01:14<00:00,  6.26it/s]"
     ]
    },
    {
     "name": "stdout",
     "output_type": "stream",
     "text": [
      "1000 1000 3000 5000 10000 \n",
      " 0.9211 0.9211 0.8002 0.6714 0.2813\n"
     ]
    },
    {
     "name": "stderr",
     "output_type": "stream",
     "text": [
      "\n",
      "epoch-273 lr=['0.0001985'], tr/val_loss:  0.819717/  0.802972, tr:  90.48%, val:  92.12%, val_best:  92.29%: 100%|█████████▉| 467/469 [01:16<00:00, 13.49it/s]"
     ]
    },
    {
     "name": "stdout",
     "output_type": "stream",
     "text": [
      "1000 1000 3000 5000 10000 \n",
      " 0.9212 0.9212 0.8005 0.6737 0.2859\n"
     ]
    },
    {
     "name": "stderr",
     "output_type": "stream",
     "text": [
      "epoch-273 lr=['0.0001985'], tr/val_loss:  0.819717/  0.802972, tr:  90.48%, val:  92.12%, val_best:  92.29%: 100%|██████████| 469/469 [01:17<00:00,  6.05it/s]\n",
      "epoch-274 lr=['0.0001842'], tr/val_loss:  0.819660/  0.803062, tr:  90.48%, val:  92.09%, val_best:  92.29%: 100%|██████████| 469/469 [01:14<00:00,  6.30it/s]"
     ]
    },
    {
     "name": "stdout",
     "output_type": "stream",
     "text": [
      "1000 1000 3000 5000 10000 \n",
      " 0.9209 0.9209 0.8005 0.6715 0.2828\n"
     ]
    },
    {
     "name": "stderr",
     "output_type": "stream",
     "text": [
      "\n",
      "epoch-275 lr=['0.0001704'], tr/val_loss:  0.819485/  0.802913, tr:  90.48%, val:  92.15%, val_best:  92.29%: 100%|██████████| 469/469 [01:18<00:00,  5.98it/s]"
     ]
    },
    {
     "name": "stdout",
     "output_type": "stream",
     "text": [
      "1000 1000 3000 5000 10000 \n",
      " 0.9215 0.9215 0.8018 0.673 0.2813\n"
     ]
    },
    {
     "name": "stderr",
     "output_type": "stream",
     "text": [
      "\n",
      "epoch-276 lr=['0.0001571'], tr/val_loss:  0.819486/  0.802792, tr:  90.49%, val:  92.14%, val_best:  92.29%: 100%|██████████| 469/469 [01:14<00:00,  5.68s/it]"
     ]
    },
    {
     "name": "stdout",
     "output_type": "stream",
     "text": [
      "1000 1000 3000 5000 10000 \n",
      " 0.9214 0.9214 0.8007 0.6719 0.2808\n"
     ]
    },
    {
     "name": "stderr",
     "output_type": "stream",
     "text": [
      "epoch-276 lr=['0.0001571'], tr/val_loss:  0.819486/  0.802792, tr:  90.49%, val:  92.14%, val_best:  92.29%: 100%|██████████| 469/469 [01:14<00:00,  6.27it/s]\n",
      "epoch-277 lr=['0.0001443'], tr/val_loss:  0.819581/  0.802799, tr:  90.49%, val:  92.16%, val_best:  92.29%: 100%|██████████| 469/469 [01:15<00:00,  6.18it/s]"
     ]
    },
    {
     "name": "stdout",
     "output_type": "stream",
     "text": [
      "1000 1000 3000 5000 10000 \n",
      " 0.9216 0.9216 0.8015 0.6723 0.2818\n"
     ]
    },
    {
     "name": "stderr",
     "output_type": "stream",
     "text": [
      "\n",
      "epoch-278 lr=['0.0001321'], tr/val_loss:  0.819409/  0.803128, tr:  90.50%, val:  92.03%, val_best:  92.29%: 100%|█████████▉| 467/469 [01:10<00:00, 11.92it/s]"
     ]
    },
    {
     "name": "stdout",
     "output_type": "stream",
     "text": [
      "1000 1000 3000 5000 10000 \n",
      " 0.9203 0.9203 0.8003 0.6727 0.2791\n"
     ]
    },
    {
     "name": "stderr",
     "output_type": "stream",
     "text": [
      "epoch-278 lr=['0.0001321'], tr/val_loss:  0.819409/  0.803128, tr:  90.50%, val:  92.03%, val_best:  92.29%: 100%|██████████| 469/469 [01:10<00:00,  6.61it/s]\n",
      "epoch-279 lr=['0.0001204'], tr/val_loss:  0.819516/  0.802845, tr:  90.50%, val:  92.15%, val_best:  92.29%: 100%|██████████| 469/469 [01:12<00:00,  6.51it/s]"
     ]
    },
    {
     "name": "stdout",
     "output_type": "stream",
     "text": [
      "1000 1000 3000 5000 10000 \n",
      " 0.9215 0.9215 0.8015 0.6735 0.283\n"
     ]
    },
    {
     "name": "stderr",
     "output_type": "stream",
     "text": [
      "\n",
      "epoch-280 lr=['0.0001093'], tr/val_loss:  0.819488/  0.802906, tr:  90.50%, val:  92.15%, val_best:  92.29%: 100%|██████████| 469/469 [01:12<00:00,  6.48it/s]"
     ]
    },
    {
     "name": "stdout",
     "output_type": "stream",
     "text": [
      "1000 1000 3000 5000 10000 \n",
      " 0.9215 0.9215 0.8009 0.6731 0.2819\n"
     ]
    },
    {
     "name": "stderr",
     "output_type": "stream",
     "text": [
      "\n",
      "epoch-281 lr=['0.0000986'], tr/val_loss:  0.819482/  0.803047, tr:  90.51%, val:  92.08%, val_best:  92.29%: 100%|██████████| 469/469 [01:12<00:00,  6.49it/s]"
     ]
    },
    {
     "name": "stdout",
     "output_type": "stream",
     "text": [
      "1000 1000 3000 5000 10000 \n",
      " 0.9208 0.9208 0.8012 0.6738 0.2821\n"
     ]
    },
    {
     "name": "stderr",
     "output_type": "stream",
     "text": [
      "\n",
      "epoch-282 lr=['0.0000886'], tr/val_loss:  0.819401/  0.802882, tr:  90.51%, val:  92.14%, val_best:  92.29%: 100%|██████████| 469/469 [01:17<00:00,  6.04it/s]"
     ]
    },
    {
     "name": "stdout",
     "output_type": "stream",
     "text": [
      "1000 1000 3000 5000 10000 \n",
      " 0.9214 0.9214 0.8011 0.673 0.2822\n"
     ]
    },
    {
     "name": "stderr",
     "output_type": "stream",
     "text": [
      "\n",
      "epoch-283 lr=['0.0000790'], tr/val_loss:  0.819429/  0.802985, tr:  90.52%, val:  92.13%, val_best:  92.29%: 100%|██████████| 469/469 [01:20<00:00,  5.86it/s]"
     ]
    },
    {
     "name": "stdout",
     "output_type": "stream",
     "text": [
      "1000 1000 3000 5000 10000 \n",
      " 0.9213 0.9213 0.8012 0.6725 0.2807\n"
     ]
    },
    {
     "name": "stderr",
     "output_type": "stream",
     "text": [
      "\n",
      "epoch-284 lr=['0.0000700'], tr/val_loss:  0.819473/  0.802970, tr:  90.52%, val:  92.13%, val_best:  92.29%: 100%|██████████| 469/469 [01:14<00:00,  4.91s/it]"
     ]
    },
    {
     "name": "stdout",
     "output_type": "stream",
     "text": [
      "1000 1000 3000 5000 10000 \n",
      " 0.9213 0.9213 0.8012 0.6718 0.2805\n"
     ]
    },
    {
     "name": "stderr",
     "output_type": "stream",
     "text": [
      "epoch-284 lr=['0.0000700'], tr/val_loss:  0.819473/  0.802970, tr:  90.52%, val:  92.13%, val_best:  92.29%: 100%|██████████| 469/469 [01:14<00:00,  6.29it/s]\n",
      "epoch-285 lr=['0.0000616'], tr/val_loss:  0.819378/  0.802961, tr:  90.52%, val:  92.10%, val_best:  92.29%: 100%|██████████| 469/469 [01:16<00:00,  6.17it/s]"
     ]
    },
    {
     "name": "stdout",
     "output_type": "stream",
     "text": [
      "1000 1000 3000 5000 10000 \n",
      " 0.921 0.921 0.8014 0.6734 0.2828\n"
     ]
    },
    {
     "name": "stderr",
     "output_type": "stream",
     "text": [
      "\n",
      "epoch-286 lr=['0.0000536'], tr/val_loss:  0.819361/  0.802845, tr:  90.53%, val:  92.12%, val_best:  92.29%: 100%|██████████| 469/469 [01:20<00:00,  5.80it/s]"
     ]
    },
    {
     "name": "stdout",
     "output_type": "stream",
     "text": [
      "1000 1000 3000 5000 10000 \n",
      " 0.9212 0.9212 0.8015 0.6729 0.2819\n"
     ]
    },
    {
     "name": "stderr",
     "output_type": "stream",
     "text": [
      "\n",
      "epoch-287 lr=['0.0000463'], tr/val_loss:  0.819341/  0.802840, tr:  90.53%, val:  92.11%, val_best:  92.29%: 100%|██████████| 469/469 [01:18<00:00,  5.95it/s]"
     ]
    },
    {
     "name": "stdout",
     "output_type": "stream",
     "text": [
      "1000 1000 3000 5000 10000 \n",
      " 0.9211 0.9211 0.8016 0.6728 0.2817\n"
     ]
    },
    {
     "name": "stderr",
     "output_type": "stream",
     "text": [
      "\n",
      "epoch-288 lr=['0.0000394'], tr/val_loss:  0.819439/  0.802858, tr:  90.54%, val:  92.10%, val_best:  92.29%: 100%|█████████▉| 467/469 [01:18<00:00, 13.34it/s]"
     ]
    },
    {
     "name": "stdout",
     "output_type": "stream",
     "text": [
      "1000 1000 3000 5000 10000 \n",
      " 0.921 0.921 0.8016 0.6731 0.2816\n"
     ]
    },
    {
     "name": "stderr",
     "output_type": "stream",
     "text": [
      "epoch-288 lr=['0.0000394'], tr/val_loss:  0.819439/  0.802858, tr:  90.54%, val:  92.10%, val_best:  92.29%: 100%|██████████| 469/469 [01:19<00:00,  5.92it/s]\n",
      "epoch-289 lr=['0.0000331'], tr/val_loss:  0.819264/  0.802903, tr:  90.54%, val:  92.10%, val_best:  92.29%: 100%|█████████▉| 467/469 [01:16<00:00,  9.54it/s]"
     ]
    },
    {
     "name": "stdout",
     "output_type": "stream",
     "text": [
      "1000 1000 3000 5000 10000 \n",
      " 0.921 0.921 0.8014 0.6729 0.2816\n"
     ]
    },
    {
     "name": "stderr",
     "output_type": "stream",
     "text": [
      "epoch-289 lr=['0.0000331'], tr/val_loss:  0.819264/  0.802903, tr:  90.54%, val:  92.10%, val_best:  92.29%: 100%|██████████| 469/469 [01:16<00:00,  6.11it/s]\n",
      "epoch-290 lr=['0.0000274'], tr/val_loss:  0.819414/  0.802910, tr:  90.54%, val:  92.12%, val_best:  92.29%: 100%|█████████▉| 467/469 [01:16<00:00, 13.23it/s]"
     ]
    },
    {
     "name": "stdout",
     "output_type": "stream",
     "text": [
      "1000 1000 3000 5000 10000 \n",
      " 0.9212 0.9212 0.8015 0.6726 0.2815\n"
     ]
    },
    {
     "name": "stderr",
     "output_type": "stream",
     "text": [
      "epoch-290 lr=['0.0000274'], tr/val_loss:  0.819414/  0.802910, tr:  90.54%, val:  92.12%, val_best:  92.29%: 100%|██████████| 469/469 [01:17<00:00,  6.08it/s]\n",
      "epoch-291 lr=['0.0000222'], tr/val_loss:  0.819302/  0.802880, tr:  90.55%, val:  92.13%, val_best:  92.29%: 100%|██████████| 469/469 [01:23<00:00,  5.63it/s]"
     ]
    },
    {
     "name": "stdout",
     "output_type": "stream",
     "text": [
      "1000 1000 3000 5000 10000 \n",
      " 0.9213 0.9213 0.8014 0.6728 0.2816\n"
     ]
    },
    {
     "name": "stderr",
     "output_type": "stream",
     "text": [
      "\n",
      "epoch-292 lr=['0.0000175'], tr/val_loss:  0.819342/  0.802903, tr:  90.55%, val:  92.12%, val_best:  92.29%: 100%|██████████| 469/469 [01:14<00:00,  6.31it/s]"
     ]
    },
    {
     "name": "stdout",
     "output_type": "stream",
     "text": [
      "1000 1000 3000 5000 10000 \n",
      " 0.9212 0.9212 0.8015 0.6727 0.2815\n"
     ]
    },
    {
     "name": "stderr",
     "output_type": "stream",
     "text": [
      "\n",
      "epoch-293 lr=['0.0000134'], tr/val_loss:  0.819296/  0.802880, tr:  90.55%, val:  92.11%, val_best:  92.29%: 100%|██████████| 469/469 [01:16<00:00,  6.13it/s]"
     ]
    },
    {
     "name": "stdout",
     "output_type": "stream",
     "text": [
      "1000 1000 3000 5000 10000 \n",
      " 0.9211 0.9211 0.8016 0.6726 0.2817\n"
     ]
    },
    {
     "name": "stderr",
     "output_type": "stream",
     "text": [
      "\n",
      "epoch-294 lr=['0.0000099'], tr/val_loss:  0.819362/  0.802858, tr:  90.56%, val:  92.12%, val_best:  92.29%: 100%|██████████| 469/469 [01:17<00:00,  6.08it/s]"
     ]
    },
    {
     "name": "stdout",
     "output_type": "stream",
     "text": [
      "1000 1000 3000 5000 10000 \n",
      " 0.9212 0.9212 0.8015 0.6728 0.2814\n"
     ]
    },
    {
     "name": "stderr",
     "output_type": "stream",
     "text": [
      "\n",
      "epoch-295 lr=['0.0000069'], tr/val_loss:  0.819268/  0.802873, tr:  90.56%, val:  92.12%, val_best:  92.29%: 100%|█████████▉| 467/469 [01:14<00:00, 10.99it/s]"
     ]
    },
    {
     "name": "stdout",
     "output_type": "stream",
     "text": [
      "1000 1000 3000 5000 10000 \n",
      " 0.9212 0.9212 0.8016 0.6726 0.2813\n"
     ]
    },
    {
     "name": "stderr",
     "output_type": "stream",
     "text": [
      "epoch-295 lr=['0.0000069'], tr/val_loss:  0.819268/  0.802873, tr:  90.56%, val:  92.12%, val_best:  92.29%: 100%|██████████| 469/469 [01:15<00:00,  6.22it/s]\n",
      "epoch-296 lr=['0.0000044'], tr/val_loss:  0.819362/  0.802872, tr:  90.57%, val:  92.12%, val_best:  92.29%: 100%|██████████| 469/469 [01:16<00:00,  6.13it/s]"
     ]
    },
    {
     "name": "stdout",
     "output_type": "stream",
     "text": [
      "1000 1000 3000 5000 10000 \n",
      " 0.9212 0.9212 0.8016 0.6727 0.2813\n"
     ]
    },
    {
     "name": "stderr",
     "output_type": "stream",
     "text": [
      "\n",
      "epoch-297 lr=['0.0000025'], tr/val_loss:  0.819369/  0.802874, tr:  90.57%, val:  92.12%, val_best:  92.29%: 100%|██████████| 469/469 [01:14<00:00,  6.30it/s]"
     ]
    },
    {
     "name": "stdout",
     "output_type": "stream",
     "text": [
      "1000 1000 3000 5000 10000 \n",
      " 0.9212 0.9212 0.8016 0.6725 0.2813\n"
     ]
    },
    {
     "name": "stderr",
     "output_type": "stream",
     "text": [
      "\n",
      "epoch-298 lr=['0.0000011'], tr/val_loss:  0.819334/  0.802872, tr:  90.57%, val:  92.12%, val_best:  92.29%: 100%|██████████| 469/469 [01:20<00:00,  4.85s/it]"
     ]
    },
    {
     "name": "stdout",
     "output_type": "stream",
     "text": [
      "1000 1000 3000 5000 10000 \n",
      " 0.9212 0.9212 0.8016 0.6727 0.2813\n"
     ]
    },
    {
     "name": "stderr",
     "output_type": "stream",
     "text": [
      "epoch-298 lr=['0.0000011'], tr/val_loss:  0.819334/  0.802872, tr:  90.57%, val:  92.12%, val_best:  92.29%: 100%|██████████| 469/469 [01:20<00:00,  5.83it/s]\n",
      "epoch-299 lr=['0.0000003'], tr/val_loss:  0.819340/  0.802878, tr:  90.58%, val:  92.12%, val_best:  92.29%: 100%|██████████| 469/469 [01:21<00:00,  5.72it/s]"
     ]
    },
    {
     "name": "stdout",
     "output_type": "stream",
     "text": [
      "1000 1000 3000 5000 10000 \n",
      " 0.9212 0.9212 0.8016 0.6727 0.2813\n"
     ]
    },
    {
     "name": "stderr",
     "output_type": "stream",
     "text": [
      "\n"
     ]
    },
    {
     "data": {
      "text/plain": [
       "'\\nddp_on 키고, gpu 개수 만큼 batch size 나눠줘\\nCUDA_VISIBLE_DEVICES=0,1,2,3,4,5 python -m torch.distributed.launch --nproc_per_node=6 main_ddp.py\\nCUDA_VISIBLE_DEVICES=1,2,3 python -m torch.distributed.launch --nproc_per_node=3 main_ddp.py\\nCUDA_VISIBLE_DEVICES=0,1,2,3 python -m torch.distributed.launch --nproc_per_node=4 main_ddp.py\\n'"
      ]
     },
     "execution_count": 5,
     "metadata": {},
     "output_type": "execute_result"
    }
   ],
   "source": [
    "### my_snn control board (Gesture) ########################\n",
    "decay = 0.5 # 0.875 0.25 0.125 0.75 0.5\n",
    "# nda 0.25 # ottt 0.5\n",
    "const2 = False # trace 할거면 True, 안할거면 False\n",
    "\n",
    "unique_name = 'main' ## 이거 설정하면 새로운 경로에 모두 save\n",
    "run_name = 'main' ## 이거 설정하면 새로운 경로에 모두 save\n",
    "\n",
    "if const2 == True:\n",
    "    const2 = decay\n",
    "else:\n",
    "    const2 = 0.0\n",
    "\n",
    "wandb.init(project= f'my_snn {unique_name}',save_code=True)\n",
    "\n",
    "my_snn_system(  devices = \"5\",\n",
    "                single_step = True, # True # False\n",
    "                unique_name = run_name,\n",
    "                my_seed = 42,\n",
    "                TIME = 10 , # dvscifar 10 # ottt 6 or 10 # nda 10  # 제작하는 dvs에서 TIME넘거나 적으면 자르거나 PADDING함\n",
    "                BATCH = 128, # batch norm 할거면 2이상으로 해야함   # nda 256   #  ottt 128\n",
    "                IMAGE_SIZE = 34, # dvscifar 48 # MNIST 28 # CIFAR10 32 # PMNIST 28 #NMNIST 34 # GESTURE 128\n",
    "                # dvsgesture 128, dvs_cifar2 128, nmnist 34, n_caltech101 180,240, n_tidigits 64, heidelberg 700, \n",
    "                #pmnist는 28로 해야 됨. 나머지는 바꿔도 돌아는 감.\n",
    "\n",
    "                # DVS_CIFAR10 할거면 time 10으로 해라\n",
    "                which_data = 'NMNIST_TONIC',\n",
    "# 'CIFAR100' 'CIFAR10' 'MNIST' 'FASHION_MNIST' 'DVS_CIFAR10' 'PMNIST'아직\n",
    "# 'DVS_GESTURE', 'DVS_GESTURE_TONIC','DVS_CIFAR10_2','NMNIST','NMNIST_TONIC','N_CALTECH101','n_tidigits','heidelberg'\n",
    "                # CLASS_NUM = 10,\n",
    "                data_path = '/data2', # YOU NEED TO CHANGE THIS\n",
    "                rate_coding = False, # True # False\n",
    "                lif_layer_v_init = 0.0,\n",
    "                lif_layer_v_decay = decay,\n",
    "                lif_layer_v_threshold = 1.0, #1.3102821334243646,  # 10000이상으로 하면 NDA LIF 씀. #nda 0.5  #ottt 1.0\n",
    "                lif_layer_v_reset = 0, # 10000이상은 hardreset (내 LIF쓰기는 함 ㅇㅇ)\n",
    "                lif_layer_sg_width = 0.5, # sigmoid류에서는 alpha값 4.0, rectangle류에서는 width값 0.5\n",
    "\n",
    "                # synapse_conv_in_channels = IMAGE_PIXEL_CHANNEL,\n",
    "                synapse_conv_kernel_size = 3,\n",
    "                synapse_conv_stride = 1,\n",
    "                synapse_conv_padding = 1,\n",
    "                synapse_conv_trace_const1 = 1, # 현재 trace구할 때 현재 spike에 곱해지는 상수. 걍 1로 두셈.\n",
    "                synapse_conv_trace_const2 = const2, # 현재 trace구할 때 직전 trace에 곱해지는 상수. lif_layer_v_decay와 같게 할 것을 추천\n",
    "\n",
    "                # synapse_fc_out_features = CLASS_NUM,\n",
    "                synapse_fc_trace_const1 = 1, # 현재 trace구할 때 현재 spike에 곱해지는 상수. 걍 1로 두셈.\n",
    "                synapse_fc_trace_const2 = const2, # 현재 trace구할 때 직전 trace에 곱해지는 상수. lif_layer_v_decay와 같게 할 것을 추천\n",
    "\n",
    "                pre_trained = False, # True # False\n",
    "                convTrue_fcFalse = False, # True # False\n",
    "\n",
    "                # 'P' for average pooling, 'D' for (1,1) aver pooling, 'M' for maxpooling, 'L' for linear classifier, [  ] for residual block\n",
    "                # conv에서 10000 이상은 depth-wise separable (BPTT만 지원), 20000이상은 depth-wise (BPTT만 지원)\n",
    "                # cfg = [64, 64],\n",
    "                # cfg = [64, 124, 64, 124],\n",
    "                # cfg = ['M','M',512], \n",
    "                # cfg = [512], \n",
    "                # cfg = ['M', 'M', 64, 128, 'P', 128, 'P'], \n",
    "                # cfg = ['M','M',512],\n",
    "                cfg = ['M',200],\n",
    "                # cfg = ['M','M',200,200,200],\n",
    "                # cfg = ['M','M',1024,512,256,128,64],\n",
    "                # cfg = [200,200],\n",
    "                # cfg = [12], #fc\n",
    "                # cfg = [12, 'M', 48, 'M', 12], \n",
    "                # cfg = [64,[64,64],64], # 끝에 linear classifier 하나 자동으로 붙습니다\n",
    "                # cfg = [64, 128, 'P', 256, 256, 'P', 512, 512, 'P', 512, 512, 'D'], #ottt\n",
    "                # cfg = [64, 128, 'P', 256, 256, 'P', 512, 512, 'P', 512, 512], \n",
    "                # cfg = [64, 128, 'M', 256, 256, 'M', 512, 512, 'M', 512, 512], \n",
    "                # cfg = [64, 'P', 128, 'P', 256, 256, 'P', 512, 512, 512, 512, 'D'], # nda\n",
    "                # cfg = [64, 'P', 128, 'P', 256, 256, 'P', 512, 512, 512, 512], # nda 128pixel\n",
    "                # cfg = [64, 'P', 128, 'P', 256, 256, 'P', 512, 512, 512, 512, 'L', 4096, 4096],\n",
    "                # cfg = [20001,10001], # depthwise, separable\n",
    "                # cfg = [64,20064,10001], # vanilla conv, depthwise, separable\n",
    "                # cfg = [8, 'P', 8, 'P', 8, 'P', 8,'P', 8, 'P'],\n",
    "                # cfg = [],        \n",
    "                \n",
    "                net_print = True, # True # False # True로 하길 추천\n",
    "                weight_count_print = False, # True # False\n",
    "                \n",
    "                pre_trained_path = f\"net_save/save_now_net_weights_{unique_name}.pth\",\n",
    "                learning_rate = 0.01, #0.1 bptt, #0.01 ottt, # default 0.001  # ottt 0.1 # nda 0.001 # 0.00936191669529645\n",
    "                epoch_num = 300,\n",
    "                verbose_interval = 999999999, #이거 걍 건들지마셈 #숫자 크게 하면 꺼짐 #걍 중간중간 iter에서 끊어서 출력\n",
    "                validation_interval =  999999999,#999999999, #이거 걍 건들지마셈 #숫자 크게 하면 에포크 마지막 iter 때 val 함\n",
    "\n",
    "                tdBN_on = False,  # True # False\n",
    "                BN_on = False,  # True # False\n",
    "                \n",
    "                surrogate = 'hard_sigmoid', # 'sigmoid' 'rectangle' 'rough_rectangle' 'hard_sigmoid'\n",
    "                \n",
    "                gradient_verbose = False,  # True # False  # weight gradient 각 layer마다 띄워줌\n",
    "\n",
    "                BPTT_on = False,  # True # False # True이면 BPTT, False이면 OTTT  # depthwise, separable은 BPTT만 가능\n",
    "                optimizer_what = 'SGD', # 'SGD' 'Adam', 'RMSprop'\n",
    "                scheduler_name = 'CosineAnnealingLR', # 'no' 'StepLR' 'ExponentialLR' 'ReduceLROnPlateau' 'CosineAnnealingLR' 'OneCycleLR'\n",
    "                \n",
    "                ddp_on = False,   # True # False \n",
    "                # 지원 DATASET: cifar10, mnist\n",
    "\n",
    "                nda_net = False,   # True # False\n",
    "\n",
    "                domain_il_epoch = 0, # over 0, then domain il mode on # pmnist 쓸거면 HLOP 코드보고 더 디벨롭하셈. 지금 개발 hold함.\n",
    "                \n",
    "                dvs_clipping = 1, # 숫자만큼 크면 spike 아니면 걍 0\n",
    "                # gesture, cifar-dvs2, nmnist, ncaltech101\n",
    "\n",
    "                dvs_duration = 1_000, # 0 아니면 time sampling # dvs number sampling OR time sampling # gesture, cifar-dvs2, nmnist, ncaltech101\n",
    "                # 있는 데이터들 #gesture 100_000 25_000 10_000 1_000 1_000_000 #nmnist 10000 #nmnist_tonic 10_000 25_000\n",
    "                # 한 숫자가 1us인듯 (spikingjelly코드에서)\n",
    "                # 한 장에 50 timestep만 생산함. 싫으면 my_snn/trying/spikingjelly_dvsgesture의__init__.py 를 참고해봐\n",
    "                # nmnist 5_000us, gesture는 100_000us, 25_000us\n",
    "\n",
    "                OTTT_sWS_on = False, # True # False # BPTT끄고, CONV에만 적용됨.\n",
    "\n",
    "                DFA_on = False, # True # False # residual은 dfa지원안함.\n",
    "                OTTT_input_trace_on = False, # True # False # 맨 처음 input에 trace 적용\n",
    "                 \n",
    "                e_transport_swap = 0, # 1 이상이면 해당 숫자 에포크만큼 val_acc_best가 변화가 없으면 e_transport scheme (BP vs DFA) swap\n",
    "                e_transport_swap_tr = 0, # 1 이상이면 해당 숫자 에포크만큼 tr_acc_best가 변화가 없으면 e_transport scheme (BP vs DFA) swap\n",
    "                e_transport_swap_coin = 1, # swap할 수 있는 coin 개수\n",
    "\n",
    "                drop_rate = 0, # drop_rate만큼 0으로 만듦. ex) 0.2면 activation의 20%를 0으로 만듦.\n",
    "\n",
    "                exclude_class = True, # True # False # gesture에서 10번째 클래스 제외\n",
    "\n",
    "                merge_polarities = False, # True # False # tonic dvs dataset 에서 polarities 합치기\n",
    "                denoise_on = False,\n",
    "\n",
    "                I_wanna_sweep_at_this_epoch = -1, # 지정 에포크에서 BP와 DFA를 바꿔줌. -1이면 실행 안함.\n",
    "                dvs_duration_domain = [1_000,3_000,5_000,10_000], # domain adaptation할 때 사용할 dvs_duration 리스트\n",
    "                ) \n",
    "# sigmoid와 BN이 있어야 잘된다.\n",
    "# average pooling  \n",
    "# 이 낫다. \n",
    " \n",
    "# nda에서는 decay = 0.25, threshold = 0.5, width =1, surrogate = rectangle, batch = 256, tdBN = True\n",
    "## OTTT 에서는 decay = 0.5, threshold = 1.0, surrogate = sigmoid, batch = 128, BN = True\n",
    "\n",
    "\n",
    "# DDP 실행 코드\n",
    "'''\n",
    "ddp_on 키고, gpu 개수 만큼 batch size 나눠줘\n",
    "CUDA_VISIBLE_DEVICES=0,1,2,3,4,5 python -m torch.distributed.launch --nproc_per_node=6 main_ddp.py\n",
    "CUDA_VISIBLE_DEVICES=1,2,3 python -m torch.distributed.launch --nproc_per_node=3 main_ddp.py\n",
    "CUDA_VISIBLE_DEVICES=0,1,2,3 python -m torch.distributed.launch --nproc_per_node=4 main_ddp.py\n",
    "'''\n"
   ]
  },
  {
   "cell_type": "code",
   "execution_count": 7,
   "metadata": {},
   "outputs": [],
   "source": [
    "# # sweep 하는 코드, 위 셀 주석처리 해야 됨.\n",
    "\n",
    "# # 이런 워닝 뜨는 거는 걍 너가 main 안에서  wandb.config.update(hyperparameters)할 때 물려서임. 어차피 근데 sweep에서 지정한 걸로 덮어짐 \n",
    "# # wandb: WARNING Config item 'BATCH' was locked by 'sweep' (ignored update).\n",
    "\n",
    "# unique_name_hyper = 'main'\n",
    "# run_name = 'main'\n",
    "# sweep_configuration = {\n",
    "#     'method': 'bayes',\n",
    "#     'name': f'my_snn_sweep{datetime.datetime.now().strftime(\"%Y%m%d_%H%M%S\")}',\n",
    "#     'metric': {'goal': 'maximize', 'name': 'val_acc_best'},\n",
    "#     'parameters': \n",
    "#     {\n",
    "#         \"learning_rate\": {\"min\": 0.001, \"max\": 0.1}, #0.00936191669529645\n",
    "#         \"BATCH\": {\"values\": [16]},\n",
    "#         \"decay\": {\"values\": [0.25]},\n",
    "#         \"IMAGE_SIZE\": {\"values\": [128]},\n",
    "#         \"TIME\": {\"values\": [10]},\n",
    "#         \"epoch_num\": {\"values\": [100]},\n",
    "#         \"dvs_duration\": {\"values\": [100_000]},\n",
    "#         \"dvs_clipping\": {\"values\": [2]},\n",
    "#         \"which_data\": {\"values\": ['DVS_GESTURE_TONIC']},\n",
    "#         \"OTTT_sWS_on\": {\"values\": [False]},\n",
    "#         \"const2\": {\"values\": [False]},\n",
    "#         \"surrogate\": {\"values\": ['hard_sigmoid']},\n",
    "#         \"DFA_on\": {\"values\": [False]},\n",
    "#         \"OTTT_input_trace_on\": {\"values\": [True]},\n",
    "#         \"cfg\": {\"values\": [['M','M',200,200,200,200]]},\n",
    "#         \"e_transport_swap\": {\"values\": [0]},\n",
    "#         \"e_transport_swap_tr\": {\"values\": [0]},\n",
    "#         \"drop_rate\": {\"values\": [0.0]}, # \"drop_rate\": {\"values\": [0.25,0.5,0.75]}, #\"drop_rate\": {\"min\": 0.25, \"max\": 0.75},\n",
    "#         \"exclude_class\": {\"values\": [True]},\n",
    "#         \"merge_polarities\": {\"values\": [False]},\n",
    "#         \"lif_layer_v_reset\": {\"values\": [0]},\n",
    "#         \"lif_layer_sg_width\": {\"min\": 0.3, \"max\": 8.0},\n",
    "#         \"e_transport_swap_coin\": {\"values\": [1]},\n",
    "#         \"lif_layer_v_threshold\": {\"min\": 0.0, \"max\": 3.0},\n",
    "#         \"scheduler_name\": {\"values\": ['CosineAnnealingLR']},  # 'no' 'StepLR' 'ExponentialLR' 'ReduceLROnPlateau' 'CosineAnnealingLR' 'OneCycleLR'\n",
    "#         \"denoise_on\": {\"values\": ['True']}, \n",
    "#         \"I_wanna_sweep_at_this_epoch\": {\"values\": [-1]}, \n",
    "#         \"dvs_duration_domain\": {\"values\": [[]]}, \n",
    "#      }\n",
    "# }\n",
    "\n",
    "# def hyper_iter():\n",
    "#     ### my_snn control board ########################\n",
    "#     unique_name = unique_name_hyper ## 이거 설정하면 새로운 경로에 모두 save\n",
    "    \n",
    "#     wandb.init(save_code = True)\n",
    "#     learning_rate  =  wandb.config.learning_rate\n",
    "#     BATCH  =  wandb.config.BATCH\n",
    "#     decay  =  wandb.config.decay\n",
    "#     IMAGE_SIZE  =  wandb.config.IMAGE_SIZE\n",
    "#     TIME  =  wandb.config.TIME\n",
    "#     epoch_num  =  wandb.config.epoch_num \n",
    "#     dvs_duration  =  wandb.config.dvs_duration\n",
    "#     dvs_clipping  =  wandb.config.dvs_clipping\n",
    "#     which_data  =  wandb.config.which_data\n",
    "#     OTTT_sWS_on  =  wandb.config.OTTT_sWS_on\n",
    "#     const2  =  wandb.config.const2\n",
    "#     surrogate  =  wandb.config.surrogate\n",
    "#     DFA_on  =  wandb.config.DFA_on\n",
    "#     OTTT_input_trace_on  =  wandb.config.OTTT_input_trace_on\n",
    "#     cfg  =  wandb.config.cfg\n",
    "#     e_transport_swap  =  wandb.config.e_transport_swap\n",
    "#     e_transport_swap_tr  =  wandb.config.e_transport_swap_tr\n",
    "#     drop_rate  =  wandb.config.drop_rate\n",
    "#     exclude_class  =  wandb.config.exclude_class\n",
    "#     merge_polarities  =  wandb.config.merge_polarities\n",
    "#     lif_layer_v_reset  =  wandb.config.lif_layer_v_reset\n",
    "#     lif_layer_sg_width  =  wandb.config.lif_layer_sg_width\n",
    "#     e_transport_swap_coin  =  wandb.config.e_transport_swap_coin\n",
    "#     lif_layer_v_threshold  =  wandb.config.lif_layer_v_threshold\n",
    "#     scheduler_name  =  wandb.config.scheduler_name\n",
    "#     denoise_on  =  wandb.config.denoise_on\n",
    "#     I_wanna_sweep_at_this_epoch  =  wandb.config.I_wanna_sweep_at_this_epoch\n",
    "#     dvs_duration_domain  =  wandb.config.dvs_duration_domain\n",
    "#     if const2 == True:\n",
    "#         const2 = decay\n",
    "#     else:\n",
    "#         const2 = 0.0\n",
    "\n",
    "#     my_snn_system(  devices = \"5\",\n",
    "#                 single_step = True, # True # False\n",
    "#                 unique_name = run_name,\n",
    "#                 my_seed = 42,\n",
    "#                 TIME = TIME , # dvscifar 10 # ottt 6 or 10 # nda 10  # 제작하는 dvs에서 TIME넘거나 적으면 자르거나 PADDING함\n",
    "#                 BATCH = BATCH, # batch norm 할거면 2이상으로 해야함   # nda 256   #  ottt 128\n",
    "#                 IMAGE_SIZE = IMAGE_SIZE, # dvscifar 48 # MNIST 28 # CIFAR10 32 # PMNIST 28 #NMNIST 34 # GESTURE 128\n",
    "#                 # dvsgesture 128, dvs_cifar2 128, nmnist 34, n_caltech101 180,240, n_tidigits 64, heidelberg 700, \n",
    "#                 #pmnist는 28로 해야 됨. 나머지는 바꿔도 돌아는 감.\n",
    "\n",
    "#                 # DVS_CIFAR10 할거면 time 10으로 해라\n",
    "#                 which_data = which_data,\n",
    "# # 'CIFAR100' 'CIFAR10' 'MNIST' 'FASHION_MNIST' 'DVS_CIFAR10' 'PMNIST'아직\n",
    "# # 'DVS_GESTURE', 'DVS_GESTURE_TONIC','DVS_CIFAR10_2','NMNIST','NMNIST_TONIC','N_CALTECH101','n_tidigits','heidelberg'\n",
    "#                 # CLASS_NUM = 10,\n",
    "#                 data_path = '/data2', # YOU NEED TO CHANGE THIS\n",
    "#                 rate_coding = False, # True # False\n",
    "#                 lif_layer_v_init = 0.0,\n",
    "#                 lif_layer_v_decay = decay,\n",
    "#                 lif_layer_v_threshold = lif_layer_v_threshold,  # 10000이상으로 하면 NDA LIF 씀. #nda 0.5  #ottt 1.0\n",
    "#                 lif_layer_v_reset = lif_layer_v_reset, # 10000이상은 hardreset (내 LIF쓰기는 함 ㅇㅇ)\n",
    "#                 lif_layer_sg_width = lif_layer_sg_width, # # surrogate sigmoid 쓸 때는 의미없음\n",
    "\n",
    "#                 # synapse_conv_in_channels = IMAGE_PIXEL_CHANNEL,\n",
    "#                 synapse_conv_kernel_size = 3,\n",
    "#                 synapse_conv_stride = 1,\n",
    "#                 synapse_conv_padding = 1,\n",
    "#                 synapse_conv_trace_const1 = 1, # 현재 trace구할 때 현재 spike에 곱해지는 상수. 걍 1로 두셈.\n",
    "#                 synapse_conv_trace_const2 = const2, # 현재 trace구할 때 직전 trace에 곱해지는 상수. lif_layer_v_decay와 같게 할 것을 추천\n",
    "\n",
    "#                 # synapse_fc_out_features = CLASS_NUM,\n",
    "#                 synapse_fc_trace_const1 = 1, # 현재 trace구할 때 현재 spike에 곱해지는 상수. 걍 1로 두셈.\n",
    "#                 synapse_fc_trace_const2 = const2, # 현재 trace구할 때 직전 trace에 곱해지는 상수. lif_layer_v_decay와 같게 할 것을 추천\n",
    "\n",
    "#                 pre_trained = False, # True # False\n",
    "#                 convTrue_fcFalse = False, # True # False\n",
    "\n",
    "#                 # 'P' for average pooling, 'D' for (1,1) aver pooling, 'M' for maxpooling, 'L' for linear classifier, [  ] for residual block\n",
    "#                 # conv에서 10000 이상은 depth-wise separable (BPTT만 지원), 20000이상은 depth-wise (BPTT만 지원)\n",
    "#                 # cfg = [64, 64],\n",
    "#                 # cfg = [64, 124, 64, 124],\n",
    "#                 # cfg = ['M','M',512], \n",
    "#                 # cfg = [512], \n",
    "#                 # cfg = ['M', 'M', 64, 128, 'P', 128, 'P'], \n",
    "#                 # cfg = ['M','M',200,200],\n",
    "#                 # cfg = [200,200],\n",
    "#                 cfg = cfg,\n",
    "#                 # cfg = [12], #fc\n",
    "#                 # cfg = [12, 'M', 48, 'M', 12], \n",
    "#                 # cfg = [64,[64,64],64], # 끝에 linear classifier 하나 자동으로 붙습니다\n",
    "#                 # cfg = [64, 128, 'P', 256, 256, 'P', 512, 512, 'P', 512, 512, 'D'], #ottt\n",
    "#                 # cfg = [64, 128, 'P', 256, 256, 'P', 512, 512, 'P', 512, 512], \n",
    "#                 # cfg = [64, 128, 'M', 256, 256, 'M', 512, 512, 'M', 512, 512], \n",
    "#                 # cfg = [64, 'P', 128, 'P', 256, 256, 'P', 512, 512, 512, 512, 'D'], # nda\n",
    "#                 # cfg = [64, 'P', 128, 'P', 256, 256, 'P', 512, 512, 512, 512], # nda 128pixel\n",
    "#                 # cfg = [64, 'P', 128, 'P', 256, 256, 'P', 512, 512, 512, 512, 'L', 4096, 4096],\n",
    "#                 # cfg = [20001,10001], # depthwise, separable\n",
    "#                 # cfg = [64,20064,10001], # vanilla conv, depthwise, separable\n",
    "#                 # cfg = [8, 'P', 8, 'P', 8, 'P', 8,'P', 8, 'P'],\n",
    "#                 # cfg = [], \n",
    "                \n",
    "#                 net_print = True, # True # False # True로 하길 추천\n",
    "#                 weight_count_print = False, # True # False\n",
    "                \n",
    "#                 pre_trained_path = f\"net_save/save_now_net_weights_{unique_name}.pth\",\n",
    "#                 learning_rate = learning_rate, # default 0.001  # ottt 0.1 # nda 0.001 \n",
    "#                 epoch_num = epoch_num,\n",
    "#                 verbose_interval = 999999999, #숫자 크게 하면 꺼짐 #걍 중간중간 iter에서 끊어서 출력\n",
    "#                 validation_interval =  999999999,#999999999, #숫자 크게 하면 에포크 마지막 iter 때 val 함\n",
    "\n",
    "#                 tdBN_on = False,  # True # False\n",
    "#                 BN_on = False,  # True # False\n",
    "                \n",
    "#                 surrogate = surrogate, # 'rectangle' 'sigmoid' 'rough_rectangle'\n",
    "                \n",
    "#                 gradient_verbose = False,  # True # False  # weight gradient 각 layer마다 띄워줌\n",
    "\n",
    "#                 BPTT_on = False,  # True # False # True이면 BPTT, False이면 OTTT  # depthwise, separable은 BPTT만 가능\n",
    "#                 optimizer_what = 'SGD', # 'SGD' 'Adam', 'RMSprop'\n",
    "#                 scheduler_name = scheduler_name, # 'no' 'StepLR' 'ExponentialLR' 'ReduceLROnPlateau' 'CosineAnnealingLR' 'OneCycleLR'\n",
    "                \n",
    "#                 ddp_on = False,   # True # False \n",
    "#                 # 지원 DATASET: cifar10, mnist\n",
    "\n",
    "#                 nda_net = False,   # True # False\n",
    "\n",
    "#                 domain_il_epoch = 0, # over 0, then domain il mode on # pmnist 쓸거면 HLOP 코드보고 더 디벨롭하셈. 지금 개발 hold함.\n",
    "                \n",
    "#                 dvs_clipping = dvs_clipping, # 숫자만큼 크면 spike 아니면 걍 0\n",
    "#                 # gesture, cifar-dvs2, nmnist, ncaltech101\n",
    "\n",
    "#                 dvs_duration = dvs_duration, # 0 아니면 time sampling # dvs number sampling OR time sampling # gesture, cifar-dvs2, nmnist, ncaltech101\n",
    "#                 # 있는 데이터들 #gesture 100_000 25_000 10_000 1_000 1_000_000 #nmnist 10000 #nmnist_tonic 10_000 25_000\n",
    "#                 # 한 숫자가 1us인듯 (spikingjelly코드에서)\n",
    "#                 # 한 장에 50 timestep만 생산함. 싫으면 my_snn/trying/spikingjelly_dvsgesture의__init__.py 를 참고해봐\n",
    "\n",
    "#                 OTTT_sWS_on = OTTT_sWS_on, # True # False # BPTT끄고, CONV에만 적용됨.\n",
    "\n",
    "#                 DFA_on = DFA_on, # True # False # residual은 dfa지원안함.\n",
    "#                 OTTT_input_trace_on = OTTT_input_trace_on, # True # False # 맨 처음 input에 trace 적용\n",
    "                 \n",
    "#                 e_transport_swap = e_transport_swap, # 1 이상이면 해당 숫자 에포크만큼 val_acc_best가 변화가 없으면 e_transport scheme (BP vs DFA) swap\n",
    "#                 e_transport_swap_tr = e_transport_swap_tr, # 1 이상이면 해당 숫자 에포크만큼 tr_acc_best가 변화가 없으면 e_transport scheme (BP vs DFA) swap\n",
    "#                 e_transport_swap_coin = e_transport_swap_coin, # swap할 수 있는 coin 개수\n",
    "                    \n",
    "#                 drop_rate = drop_rate,\n",
    "\n",
    "#                 exclude_class = exclude_class, # True # False # gesture에서 10번째 클래스 제외\n",
    "\n",
    "#                 merge_polarities = merge_polarities, # True # False # tonic dvs dataset 에서 polarities 합치기\n",
    "#                 denoise_on = denoise_on,\n",
    "\n",
    "#                 I_wanna_sweep_at_this_epoch = I_wanna_sweep_at_this_epoch,\n",
    "#                 dvs_duration_domain = dvs_duration_domain,\n",
    "#                     ) \n",
    "#     # sigmoid와 BN이 있어야 잘된다.\n",
    "#     # average pooling\n",
    "#     # 이 낫다. \n",
    "    \n",
    "#     # nda에서는 decay = 0.25, threshold = 0.5, width =1, surrogate = rectangle, batch = 256, tdBN = True\n",
    "#     ## OTTT 에서는 decay = 0.5, threshold = 1.0, surrogate = sigmoid, batch = 128, BN = True\n",
    "\n",
    "# sweep_id = wandb.sweep(sweep=sweep_configuration, project=f'my_snn {unique_name_hyper}')\n",
    "# wandb.agent(sweep_id, function=hyper_iter, count=10000, project=f'my_snn {unique_name_hyper}')\n"
   ]
  },
  {
   "cell_type": "code",
   "execution_count": 8,
   "metadata": {},
   "outputs": [
    {
     "data": {
      "application/vnd.jupyter.widget-view+json": {
       "model_id": "bccc513d64ea49fd8c837a2cb018ee82",
       "version_major": 2,
       "version_minor": 0
      },
      "text/plain": [
       "VBox(children=(Label(value='6.652 MB of 6.652 MB uploaded (4.805 MB deduped)\\r'), FloatProgress(value=1.0, max…"
      ]
     },
     "metadata": {},
     "output_type": "display_data"
    },
    {
     "data": {
      "text/html": [
       "W&B sync reduced upload amount by 62.7%"
      ],
      "text/plain": [
       "<IPython.core.display.HTML object>"
      ]
     },
     "metadata": {},
     "output_type": "display_data"
    },
    {
     "data": {
      "text/html": [
       "<style>\n",
       "    table.wandb td:nth-child(1) { padding: 0 10px; text-align: left ; width: auto;} td:nth-child(2) {text-align: left ; width: 100%}\n",
       "    .wandb-row { display: flex; flex-direction: row; flex-wrap: wrap; justify-content: flex-start; width: 100% }\n",
       "    .wandb-col { display: flex; flex-direction: column; flex-basis: 100%; flex: 1; padding: 10px; }\n",
       "    </style>\n",
       "<div class=\"wandb-row\"><div class=\"wandb-col\"><h3>Run history:</h3><br/><table class=\"wandb\"><tr><td>DFA_flag</td><td>▁▁▁▁▁▁▁▁▁▁▁▁▁▁▁▁▁▁▁▁▁▁▁▁▁▁▁▁▁▁▁▁▁▁▁▁▁▁▁▁</td></tr><tr><td>epoch</td><td>▁▁▁▂▂▂▂▂▂▃▃▃▃▃▄▄▄▄▄▄▅▅▅▅▅▅▆▆▆▆▆▇▇▇▇▇▇███</td></tr><tr><td>iter_acc</td><td>▃▇▅▅▅▃▅▃▂▃▃▅▃▆▄▆▅▆▅▃▇▅▅▅█▅█▄▅▅▅█▆▆▅▃▁▄▅▅</td></tr><tr><td>summary_val_acc</td><td>▁▃▃▄▅▄▅▇▆▆▆▆▇▇▇▇▇▇▇▇█▇██████████████████</td></tr><tr><td>tr_acc</td><td>▁▄▅▆▆▆▆▇▇▇▇▇▇▇▇▇▇▇▇█████████████████████</td></tr><tr><td>tr_epoch_loss</td><td>█▆▅▄▄▄▃▃▃▂▂▂▂▂▂▂▂▁▁▁▁▁▁▁▁▁▁▁▁▁▁▁▁▁▁▁▁▁▁▁</td></tr><tr><td>val_acc_best</td><td>▁▃▄▄▅▅▅▆▆▆▇▇▇▇▇▇████████████████████████</td></tr><tr><td>val_acc_now</td><td>▁▃▃▄▅▄▅▇▆▆▆▆▇▇▇▇▇▇▇▇█▇██████████████████</td></tr><tr><td>val_loss</td><td>█▆▅▄▄▄▃▃▃▃▂▂▂▂▂▂▁▁▁▁▁▁▁▁▁▁▁▁▁▁▁▁▁▁▁▁▁▁▁▁</td></tr></table><br/></div><div class=\"wandb-col\"><h3>Run summary:</h3><br/><table class=\"wandb\"><tr><td>DFA_flag</td><td>0.0</td></tr><tr><td>epoch</td><td>299</td></tr><tr><td>iter_acc</td><td>0.9375</td></tr><tr><td>tr_acc</td><td>0.90576</td></tr><tr><td>tr_epoch_loss</td><td>0.81934</td></tr><tr><td>val_acc_best</td><td>0.9229</td></tr><tr><td>val_acc_now</td><td>0.9212</td></tr><tr><td>val_loss</td><td>0.80288</td></tr></table><br/></div></div>"
      ],
      "text/plain": [
       "<IPython.core.display.HTML object>"
      ]
     },
     "metadata": {},
     "output_type": "display_data"
    },
    {
     "data": {
      "text/html": [
       " View run <strong style=\"color:#cdcd00\">distinctive-sun-5133</strong> at: <a href='https://wandb.ai/bhkim003-seoul-national-university/my_snn%20main/runs/rx9vj7cr' target=\"_blank\">https://wandb.ai/bhkim003-seoul-national-university/my_snn%20main/runs/rx9vj7cr</a><br/> View project at: <a href='https://wandb.ai/bhkim003-seoul-national-university/my_snn%20main' target=\"_blank\">https://wandb.ai/bhkim003-seoul-national-university/my_snn%20main</a><br/>Synced 6 W&B file(s), 0 media file(s), 16 artifact file(s) and 1 other file(s)"
      ],
      "text/plain": [
       "<IPython.core.display.HTML object>"
      ]
     },
     "metadata": {},
     "output_type": "display_data"
    },
    {
     "data": {
      "text/html": [
       "Find logs at: <code>./wandb/run-20240902_204153-rx9vj7cr/logs</code>"
      ],
      "text/plain": [
       "<IPython.core.display.HTML object>"
      ]
     },
     "metadata": {},
     "output_type": "display_data"
    },
    {
     "data": {
      "text/html": [
       "The new W&B backend becomes opt-out in version 0.18.0; try it out with `wandb.require(\"core\")`! See https://wandb.me/wandb-core for more information."
      ],
      "text/plain": [
       "<IPython.core.display.HTML object>"
      ]
     },
     "metadata": {},
     "output_type": "display_data"
    }
   ],
   "source": [
    "wandb.finish()"
   ]
  },
  {
   "cell_type": "code",
   "execution_count": 9,
   "metadata": {},
   "outputs": [],
   "source": [
    "# import numpy as np\n",
    "# import matplotlib.pyplot as plt\n",
    "# import json\n",
    "# run_name = 'main_FINAL_TEST'\n",
    "\n",
    "# unique_name = run_name\n",
    "# def pad_array_to_match_length(array1, array2):\n",
    "#     if len(array1) > len(array2):\n",
    "#         padded_array2 = np.pad(array2, (0, len(array1) - len(array2)), 'constant')\n",
    "#         return array1, padded_array2\n",
    "#     elif len(array2) > len(array1):\n",
    "#         padded_array1 = np.pad(array1, (0, len(array2) - len(array1)), 'constant')\n",
    "#         return padded_array1, array2\n",
    "#     else:\n",
    "#         return array1, array2\n",
    "# def load_hyperparameters(filename=f'result_save/hyperparameters_{unique_name}.json'):\n",
    "#     with open(filename, 'r') as f:\n",
    "#         return json.load(f)\n",
    "    \n",
    "\n",
    "\n",
    "\n",
    "\n",
    "# current_time = '20240628_110116'\n",
    "# base_name = f'{current_time}'\n",
    "# iter_acc_file_name = f'result_save/{base_name}_iter_acc_array_{unique_name}.npy'\n",
    "# val_acc_file_name = f'result_save/{base_name}_val_acc_now_array_{unique_name}.npy'\n",
    "# hyperparameters_file_name = f'result_save/{base_name}_hyperparameters_{unique_name}.json'\n",
    "\n",
    "# ### if you want to just see most recent train and val acc###########################\n",
    "# iter_acc_file_name = f'result_save/iter_acc_array_{unique_name}.npy'\n",
    "# tr_acc_file_name = f'result_save/tr_acc_array_{unique_name}.npy'\n",
    "# val_acc_file_name = f'result_save/val_acc_now_array_{unique_name}.npy'\n",
    "# hyperparameters_file_name = f'result_save/hyperparameters_{unique_name}.json'\n",
    "\n",
    "# loaded_iter_acc_array = np.load(iter_acc_file_name)*100\n",
    "# loaded_tr_acc_array = np.load(tr_acc_file_name)*100\n",
    "# loaded_val_acc_array = np.load(val_acc_file_name)*100\n",
    "# hyperparameters = load_hyperparameters(hyperparameters_file_name)\n",
    "\n",
    "# loaded_iter_acc_array, loaded_val_acc_array = pad_array_to_match_length(loaded_iter_acc_array, loaded_val_acc_array)\n",
    "# loaded_iter_acc_array, loaded_tr_acc_array = pad_array_to_match_length(loaded_iter_acc_array, loaded_tr_acc_array)\n",
    "# loaded_val_acc_array, loaded_tr_acc_array = pad_array_to_match_length(loaded_val_acc_array, loaded_tr_acc_array)\n",
    "\n",
    "# top_iter_acc = np.max(loaded_iter_acc_array)\n",
    "# top_tr_acc = np.max(loaded_tr_acc_array)\n",
    "# top_val_acc = np.max(loaded_val_acc_array)\n",
    "\n",
    "# which_data = hyperparameters['which_data']\n",
    "# BPTT_on = hyperparameters['BPTT_on']\n",
    "# current_epoch = hyperparameters['current epoch']\n",
    "# surrogate = hyperparameters['surrogate']\n",
    "# cfg = hyperparameters['cfg']\n",
    "# tdBN_on = hyperparameters['tdBN_on']\n",
    "# BN_on = hyperparameters['BN_on']\n",
    "\n",
    "\n",
    "# iterations = np.arange(len(loaded_iter_acc_array))\n",
    "\n",
    "# # 그래프 그리기\n",
    "# plt.figure(figsize=(10, 5))\n",
    "# plt.plot(iterations, loaded_iter_acc_array, label='Iter Accuracy', color='g', alpha=0.2)\n",
    "# plt.plot(iterations, loaded_tr_acc_array, label='Training Accuracy', color='b')\n",
    "# plt.plot(iterations, loaded_val_acc_array, label='Validation Accuracy', color='r')\n",
    "\n",
    "# # # 텍스트 추가\n",
    "# # plt.text(0.05, 0.95, f'Top Training Accuracy: {100*top_iter_acc:.2f}%', transform=plt.gca().transAxes, fontsize=12, verticalalignment='top', horizontalalignment='left', color='blue')\n",
    "# # plt.text(0.05, 0.90, f'Top Validation Accuracy: {100*top_val_acc:.2f}%', transform=plt.gca().transAxes, fontsize=12, verticalalignment='top', horizontalalignment='left', color='red')\n",
    "# # 텍스트 추가\n",
    "# plt.text(0.5, 0.10, f'Top Training Accuracy: {top_tr_acc:.2f}%', transform=plt.gca().transAxes, fontsize=12, verticalalignment='top', horizontalalignment='center', color='blue')\n",
    "# plt.text(0.5, 0.05, f'Top Validation Accuracy: {top_val_acc:.2f}%', transform=plt.gca().transAxes, fontsize=12, verticalalignment='top', horizontalalignment='center', color='red')\n",
    "\n",
    "# plt.xlabel('Iterations')\n",
    "# plt.ylabel('Accuracy [%]')\n",
    "\n",
    "# # 그래프 제목에 하이퍼파라미터 정보 추가\n",
    "# title = f'Training and Validation Accuracy over Iterations\\n\\nData: {which_data}, BPTT: {\"On\" if BPTT_on else \"Off\"}, Current Epoch: {current_epoch}, Surrogate: {surrogate},\\nCFG: {cfg}, tdBN: {\"On\" if tdBN_on else \"Off\"}, BN: {\"On\" if BN_on else \"Off\"}'\n",
    "\n",
    "# plt.title(title)\n",
    "\n",
    "# plt.legend(loc='lower right')\n",
    "# plt.xlim(0)  # x축을 0부터 시작\n",
    "# plt.grid(True)\n",
    "# plt.show()"
   ]
  }
 ],
 "metadata": {
  "kernelspec": {
   "display_name": "nfs",
   "language": "python",
   "name": "python3"
  },
  "language_info": {
   "codemirror_mode": {
    "name": "ipython",
    "version": 3
   },
   "file_extension": ".py",
   "mimetype": "text/x-python",
   "name": "python",
   "nbconvert_exporter": "python",
   "pygments_lexer": "ipython3",
   "version": "3.8.18"
  }
 },
 "nbformat": 4,
 "nbformat_minor": 2
}
