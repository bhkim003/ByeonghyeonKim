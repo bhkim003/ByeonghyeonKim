{
 "cells": [
  {
   "cell_type": "code",
   "execution_count": 1,
   "metadata": {},
   "outputs": [],
   "source": [
    "# Copyright (c) 2024 Byeonghyeon Kim \n",
    "# github site: https://github.com/bhkim003/ByeonghyeonKim\n",
    "# email: bhkim003@snu.ac.kr\n",
    " \n",
    "# Permission is hereby granted, free of charge, to any person obtaining a copy of\n",
    "# this software and associated documentation files (the \"Software\"), to deal in\n",
    "# the Software without restriction, including without limitation the rights to\n",
    "# use, copy, modify, merge, publish, distribute, sublicense, and/or sell copies of\n",
    "# the Software, and to permit persons to whom the Software is furnished to do so,\n",
    "# subject to the following conditions:\n",
    " \n",
    "# The above copyright notice and this permission notice shall be included in all\n",
    "# copies or substantial portions of the Software.\n",
    " \n",
    "# THE SOFTWARE IS PROVIDED \"AS IS\", WITHOUT WARRANTY OF ANY KIND, EXPRESS OR\n",
    "# IMPLIED, INCLUDING BUT NOT LIMITED TO THE WARRANTIES OF MERCHANTABILITY, FITNESS\n",
    "# FOR A PARTICULAR PURPOSE AND NONINFRINGEMENT. IN NO EVENT SHALL THE AUTHORS OR\n",
    "# COPYRIGHT HOLDERS BE LIABLE FOR ANY CLAIM, DAMAGES OR OTHER LIABILITY, WHETHER\n",
    "# IN AN ACTION OF CONTRACT, TORT OR OTHERWISE, ARISING FROM, OUT OF OR IN\n",
    "# CONNECTION WITH THE SOFTWARE OR THE USE OR OTHER DEALINGS IN THE SOFTWARE.\n"
   ]
  },
  {
   "cell_type": "code",
   "execution_count": 2,
   "metadata": {},
   "outputs": [
    {
     "name": "stderr",
     "output_type": "stream",
     "text": [
      "/tmp/ipykernel_4184/3771232270.py:46: DeprecationWarning: The module snntorch.spikevision is deprecated. For loading neuromorphic datasets, we recommend using the Tonic project: https://github.com/neuromorphs/tonic\n",
      "  from snntorch.spikevision import spikedata\n"
     ]
    },
    {
     "data": {
      "image/png": "[encoded data removed]",
      "text/plain": [
       "<Figure size 800x600 with 2 Axes>"
      ]
     },
     "metadata": {},
     "output_type": "display_data"
    }
   ],
   "source": [
    "import sys\n",
    "import os\n",
    "import argparse\n",
    "import torch\n",
    "import torch.nn as nn \n",
    "import torch.nn.functional as F\n",
    "import torch.backends.cudnn as cudnn\n",
    "import torch.optim as optim\n",
    "import torch.optim.lr_scheduler as lr_scheduler\n",
    "from torch.utils.data import Dataset, DataLoader\n",
    "\n",
    "import torchvision\n",
    "import torchvision.datasets\n",
    "import torchvision.transforms as transforms\n",
    "\n",
    "import numpy as np\n",
    "import matplotlib.pyplot as plt\n",
    "\n",
    "import time\n",
    "\n",
    "from snntorch import spikegen\n",
    "import matplotlib.pyplot as plt\n",
    "import snntorch.spikeplot as splt\n",
    "from IPython.display import HTML\n",
    "\n",
    "from tqdm import tqdm\n",
    "\n",
    "from apex.parallel import DistributedDataParallel as DDP\n",
    "\n",
    "import random\n",
    "import datetime\n",
    "\n",
    "import json\n",
    "\n",
    "from sklearn.utils import shuffle\n",
    "\n",
    "''' 레퍼런스\n",
    "https://spikingjelly.readthedocs.io/zh-cn/0.0.0.0.4/spikingjelly.datasets.html#module-spikingjelly.datasets\n",
    "https://github.com/GorkaAbad/Sneaky-Spikes/blob/main/datasets.py\n",
    "https://github.com/GorkaAbad/Sneaky-Spikes/blob/main/how_to.md\n",
    "https://github.com/nmi-lab/torchneuromorphic\n",
    "https://snntorch.readthedocs.io/en/latest/snntorch.spikevision.spikedata.html#shd\n",
    "'''\n",
    "\n",
    "import snntorch\n",
    "from snntorch.spikevision import spikedata\n",
    "\n",
    "from modules.spikingjelly.datasets.dvs128_gesture import DVS128Gesture\n",
    "from modules.spikingjelly.datasets.cifar10_dvs import CIFAR10DVS\n",
    "from modules.spikingjelly.datasets.n_mnist import NMNIST\n",
    "# from modules.spikingjelly.datasets.es_imagenet import ESImageNet\n",
    "from modules.spikingjelly.datasets import split_to_train_test_set\n",
    "from modules.spikingjelly.datasets.n_caltech101 import NCaltech101\n",
    "from modules.spikingjelly.datasets import pad_sequence_collate, padded_sequence_mask\n",
    "\n",
    "import modules.torchneuromorphic as torchneuromorphic\n",
    "\n",
    "import wandb\n",
    "\n",
    "from torchviz import make_dot\n",
    "import graphviz"
   ]
  },
  {
   "cell_type": "code",
   "execution_count": 3,
   "metadata": {},
   "outputs": [],
   "source": [
    "import apex"
   ]
  },
  {
   "cell_type": "code",
   "execution_count": 4,
   "metadata": {},
   "outputs": [],
   "source": [
    "# my module import\n",
    "from modules import *\n",
    "\n",
    "# modules 폴더에 새모듈.py 만들면\n",
    "# modules/__init__py 파일에 form .새모듈 import * 하셈\n",
    "# 그리고 새모듈.py에서 from modules.새모듈 import * 하셈\n"
   ]
  },
  {
   "cell_type": "code",
   "execution_count": 5,
   "metadata": {},
   "outputs": [],
   "source": [
    "from turtle import shape\n",
    "\n",
    "\n",
    "def my_snn_system(devices = \"0,1,2,3\",\n",
    "                    single_step = False, # True # False\n",
    "                    unique_name = 'main',\n",
    "                    my_seed = 42,\n",
    "                    TIME = 10,\n",
    "                    BATCH = 256,\n",
    "                    IMAGE_SIZE = 32,\n",
    "                    which_data = 'CIFAR10',\n",
    "                    # CLASS_NUM = 10,\n",
    "                    data_path = '/data2',\n",
    "                    rate_coding = True,\n",
    "    \n",
    "                    lif_layer_v_init = 0.0,\n",
    "                    lif_layer_v_decay = 0.6,\n",
    "                    lif_layer_v_threshold = 1.2,\n",
    "                    lif_layer_v_reset = 0.0,\n",
    "                    lif_layer_sg_width = 1,\n",
    "\n",
    "                    # synapse_conv_in_channels = IMAGE_PIXEL_CHANNEL,\n",
    "                    synapse_conv_kernel_size = 3,\n",
    "                    synapse_conv_stride = 1,\n",
    "                    synapse_conv_padding = 1,\n",
    "                    synapse_conv_trace_const1 = 1,\n",
    "                    synapse_conv_trace_const2 = 0.6,\n",
    "\n",
    "                    # synapse_fc_out_features = CLASS_NUM,\n",
    "                    synapse_fc_trace_const1 = 1,\n",
    "                    synapse_fc_trace_const2 = 0.6,\n",
    "\n",
    "                    pre_trained = False,\n",
    "                    convTrue_fcFalse = True,\n",
    "                    cfg = [64, 64],\n",
    "                    net_print = False, # True # False\n",
    "                    weight_count_print = False, # True # False\n",
    "                    pre_trained_path = \"net_save/save_now_net.pth\",\n",
    "                    learning_rate = 0.0001,\n",
    "                    epoch_num = 200,\n",
    "                    verbose_interval = 100, #숫자 크게 하면 꺼짐\n",
    "                    validation_interval = 10, #숫자 크게 하면 꺼짐\n",
    "                    tdBN_on = False,\n",
    "                    BN_on = False,\n",
    "\n",
    "                    surrogate = 'sigmoid',\n",
    "\n",
    "                    gradient_verbose = False,\n",
    "\n",
    "                    BPTT_on = False,\n",
    "\n",
    "                    optimizer_what = 'SGD', # 'SGD' 'Adam', 'RMSprop'\n",
    "                    scheduler_name = 'no',\n",
    "                    \n",
    "                    ddp_on = True,\n",
    "\n",
    "                    nda_net = False,\n",
    "                    \n",
    "                    domain_il_epoch = 0, # over 0, then domain il mode on\n",
    "\n",
    "                    dvs_clipping = 1, \n",
    "                    dvs_duration = 25_001,\n",
    "\n",
    "                    OTTT_sWS_on = True, # True # False\n",
    "\n",
    "                    DFA_on = False, # True # False\n",
    "                    OTTT_input_trace_on = False, # True # False\n",
    "                 \n",
    "                    e_transport_swap = 5, # 1 이상이면 해당 숫자 에포크만큼 val_acc_best가 변화가 없으면 e_transport scheme (BP vs DFA) swap\n",
    "                    e_transport_swap_tr = 0, # 1 이상이면 해당 숫자 에포크만큼 val_acc_best가 변화가 없으면 e_transport scheme (BP vs DFA) swap\n",
    "                    e_transport_swap_coin = 0, # swap할 수 있는 coin 개수\n",
    "\n",
    "                    drop_rate = 0.5, \n",
    "\n",
    "                    exclude_class = True, # True # False # gesture에서 10번째 클래스 제외\n",
    "\n",
    "                    merge_polarities = True, # True # False # tonic dvs dataset 에서 polarities 합치기\n",
    "                    denoise_on = True, \n",
    "                    dvs_relative_timestep = True, \n",
    "                    \n",
    "                    I_wanna_sweep_at_this_epoch = -1,\n",
    "                    dvs_duration_domain = [],\n",
    "\n",
    "                    extra_train_dataset = 0,\n",
    "\n",
    "                    num_workers = 2,\n",
    "                    chaching_on = False,\n",
    "                    pin_memory = True, # True # False\n",
    "                    \n",
    "                    UDA_on = False, # True # False\n",
    "                    UDA_data = (25_000,1,False), # (duration, clipping, denoise_on)\n",
    "                    src_trg_ratio = 1,\n",
    "                    adapter_loss_weight = 1.0, # 1.0  # adapter loss의 힘.\n",
    "                    alpha_uda = 1.0,\n",
    "\n",
    "                    temporal_filter = 1, \n",
    "                    initial_pooling = 1,\n",
    "                  ):\n",
    "    ## hyperparameter check #############################################################\n",
    "    if OTTT_sWS_on == True:\n",
    "        assert BPTT_on == False and tdBN_on == False and BN_on == False\n",
    "        if convTrue_fcFalse == False:\n",
    "            assert single_step == True\n",
    "    if single_step == True:\n",
    "        assert BPTT_on == False and tdBN_on == False \n",
    "    if tdBN_on == True:\n",
    "        assert BPTT_on == True\n",
    "    if pre_trained == True:\n",
    "        print('\\n\\n')\n",
    "        print(\"Caution! pre_trained is True\\n\\n\"*3)    \n",
    "    if DFA_on == True:\n",
    "        assert single_step == True and BPTT_on == False and any(isinstance(item, list) for item in cfg) == False\n",
    "    if OTTT_input_trace_on == True:\n",
    "        assert BPTT_on == False and single_step == True\n",
    "    if UDA_on == True:\n",
    "        assert single_step == True and BPTT_on == False and I_wanna_sweep_at_this_epoch == -1 and (e_transport_swap_coin == 0 or (e_transport_swap == 0 and e_transport_swap_tr == 0)) and isinstance(cfg, tuple) == True and extra_train_dataset == 0\n",
    "    if temporal_filter > 1:\n",
    "        assert convTrue_fcFalse == False\n",
    "    if initial_pooling > 1:\n",
    "        pass\n",
    "    if extra_train_dataset > 0:\n",
    "        assert which_data != 'NMNIST_TONIC'\n",
    "    ######################################################################################\n",
    "\n",
    "\n",
    "    ## 함수 내 모든 로컬 변수 저장 ########################################################\n",
    "    hyperparameters = locals()\n",
    "    hyperparameters['current epoch'] = 0\n",
    "    ######################################################################################\n",
    "    \n",
    "    args_gpu = None\n",
    "    ## DDP settting ######################################################################\n",
    "    if (ddp_on == True):\n",
    "        parser = argparse.ArgumentParser(description='my_snn CIFAR10 Training')\n",
    "\n",
    "        # # local_rank는 command line에서 따로 줄 필요는 없지만, 선언은 필요\n",
    "        parser.add_argument(\"--local_rank\", default=0, type=int)\n",
    "\n",
    "        args = parser.parse_args() # 이거 적어줘야됨. parser argument선언하고\n",
    "\n",
    "        args.gpu = args.local_rank\n",
    "        args_gpu = args.gpu\n",
    "        torch.cuda.set_device(args.gpu)\n",
    "        torch.distributed.init_process_group(backend=\"nccl\", init_method=\"env://\")\n",
    "        args.world_size = torch.distributed.get_world_size()\n",
    "    #######################################################################################\n",
    "\n",
    "\n",
    "    ## wandb 세팅 ###################################################################\n",
    "    current_time = datetime.datetime.now().strftime(\"%Y%m%d_%H%M%S\")\n",
    "    if (ddp_on == True and torch.distributed.get_rank() != 0):\n",
    "        wandb.finish()\n",
    "    if (ddp_on == False or torch.distributed.get_rank() == 0):\n",
    "        wandb.config.update(hyperparameters)\n",
    "        wandb.run.name = f'lr_{learning_rate}_{unique_name}_{which_data}_tstep{TIME}'\n",
    "        wandb.define_metric(\"summary_val_acc\", summary=\"max\")\n",
    "        wandb.run.log_code(\".\", \n",
    "                           include_fn=lambda path: path.endswith(\".py\") or path.endswith(\".ipynb\"),\n",
    "                           exclude_fn=lambda path: 'logs/' in path or 'net_save/' in path or 'result_save/' in path or 'trying/' in path or 'wandb/' in path or 'private/' in path or '.git/' in path or 'tonic' in path or 'torchneuromorphic' in path or 'spikingjelly' in path \n",
    "                           )\n",
    "    ###################################################################################\n",
    "\n",
    "\n",
    "\n",
    "    ## gpu setting ##################################################################################################################\n",
    "    os.environ[\"CUDA_DEVICE_ORDER\"]=\"PCI_BUS_ID\" \n",
    "    os.environ[\"CUDA_VISIBLE_DEVICES\"]= devices\n",
    "    ###################################################################################################################################\n",
    "\n",
    "\n",
    "    ## seed setting ##################################################################################################################\n",
    "    seed_assign(my_seed)\n",
    "    ###################################################################################################################################\n",
    "    \n",
    "\n",
    "    ## data_loader 가져오기 ##################################################################################################################\n",
    "    # data loader, pixel channel, class num\n",
    "    train_data_split_indices = []\n",
    "    train_loader, test_loader, synapse_conv_in_channels, CLASS_NUM, train_data_count = data_loader(\n",
    "            which_data,\n",
    "            data_path, \n",
    "            rate_coding, \n",
    "            BATCH, \n",
    "            IMAGE_SIZE,\n",
    "            ddp_on,\n",
    "            TIME*temporal_filter, # temporal_filter가 곱해짐.\n",
    "            dvs_clipping,\n",
    "            dvs_duration,\n",
    "            exclude_class,\n",
    "            merge_polarities,\n",
    "            denoise_on,\n",
    "            my_seed,\n",
    "            extra_train_dataset,\n",
    "            num_workers,\n",
    "            chaching_on,\n",
    "            pin_memory,\n",
    "            train_data_split_indices,) \n",
    "    test_loader_domain_set = []\n",
    "    test_loader_domain_set.append(test_loader)  \n",
    "    synapse_fc_out_features = CLASS_NUM\n",
    "\n",
    "    if UDA_on == True:\n",
    "        indices = torch.randperm(train_data_count).tolist()\n",
    "        train_data_split_indices_source = indices[:math.ceil(train_data_count * (src_trg_ratio / (src_trg_ratio + 1)))]\n",
    "        train_data_split_indices_target = indices[math.ceil(train_data_count * (src_trg_ratio / (src_trg_ratio + 1))):]\n",
    "        train_loader, _, synapse_conv_in_channels, CLASS_NUM, train_data_count_src = data_loader(\n",
    "                which_data,\n",
    "                data_path, \n",
    "                rate_coding, \n",
    "                BATCH, \n",
    "                IMAGE_SIZE,\n",
    "                ddp_on,\n",
    "                TIME*temporal_filter, # temporal_filter가 곱해짐.\n",
    "                dvs_clipping,\n",
    "                dvs_duration,\n",
    "                exclude_class,\n",
    "                merge_polarities,\n",
    "                denoise_on,\n",
    "                my_seed,\n",
    "                extra_train_dataset,\n",
    "                num_workers,\n",
    "                chaching_on,\n",
    "                pin_memory,\n",
    "                train_data_split_indices_source,\n",
    "                )\n",
    "\n",
    "        train_loader_target, _, synapse_conv_in_channels, CLASS_NUM, train_data_count_trg = data_loader(\n",
    "                which_data,\n",
    "                data_path, \n",
    "                rate_coding, \n",
    "                BATCH, \n",
    "                IMAGE_SIZE,\n",
    "                ddp_on,\n",
    "                TIME*temporal_filter,\n",
    "                UDA_data[1],  # dvs_clipping,\n",
    "                UDA_data[0],   # dvs_duration,\n",
    "                exclude_class,\n",
    "                merge_polarities,\n",
    "                UDA_data[2], # denoise_on,\n",
    "                my_seed,\n",
    "                extra_train_dataset,\n",
    "                num_workers,\n",
    "                chaching_on,\n",
    "                pin_memory,\n",
    "                train_data_split_indices_target,\n",
    "                )\n",
    "        print('\\n','src img count',train_data_count_src,'trg img count',train_data_count_trg,'\\n')\n",
    "    ###########################################################################################################################################\n",
    "    \n",
    "    ## 다른 dvs duration domain을 validation set으로 불러오기 ##############################################################\n",
    "    dvs_duration_domain_temp = []\n",
    "    train_data_split_indices = []\n",
    "    if len(dvs_duration_domain) > 0:\n",
    "        for domain in dvs_duration_domain:\n",
    "            target_domain_timestep = (dvs_duration*TIME)//domain[0] if dvs_relative_timestep == True else TIME\n",
    "            dvs_duration_domain_temp.append(domain + (target_domain_timestep,))\n",
    "            train_loader_domain, test_loader_domain, synapse_conv_in_channels_domain, CLASS_NUM_domain, train_data_count = data_loader(\n",
    "                    which_data,\n",
    "                    data_path, \n",
    "                    rate_coding, \n",
    "                    BATCH, \n",
    "                    IMAGE_SIZE,\n",
    "                    ddp_on,\n",
    "                    target_domain_timestep*temporal_filter,\n",
    "                    domain[1], # dvs_clipping\n",
    "                    domain[0], # dvs_duration\n",
    "                    exclude_class,\n",
    "                    merge_polarities,\n",
    "                    domain[2], # denoise_on \n",
    "                    my_seed,\n",
    "                    extra_train_dataset,\n",
    "                    num_workers,\n",
    "                    chaching_on,\n",
    "                    pin_memory,\n",
    "                    train_data_split_indices,)\n",
    "            test_loader_domain_set.append(test_loader_domain)\n",
    "        dvs_duration_domain = dvs_duration_domain_temp\n",
    "    ######################################################################################################################\n",
    "    \n",
    "    ## parameter number calculator (안 중요함) ##################################################################################################################\n",
    "    params_num = 0\n",
    "    img_size = IMAGE_SIZE//initial_pooling\n",
    "    bias_param = 1 # 1 or 0\n",
    "    classifier_making = False\n",
    "    if (UDA_on == True):\n",
    "        print(\"In UDA mode, No parameter number calculation yet.\")\n",
    "        pass\n",
    "    else: \n",
    "        if (convTrue_fcFalse == True):\n",
    "            past_kernel = synapse_conv_in_channels\n",
    "            for kernel in cfg:\n",
    "                if (classifier_making == False):\n",
    "                    if (type(kernel) == list):\n",
    "                        for residual_kernel in kernel:\n",
    "                            if (residual_kernel >= 10000 and residual_kernel < 20000): # separable\n",
    "                                residual_kernel -= 10000\n",
    "                                params_num += (synapse_conv_kernel_size**2 + bias_param) * past_kernel\n",
    "                                params_num += (1**2 * past_kernel + bias_param) * residual_kernel\n",
    "                                past_kernel = residual_kernel  \n",
    "                            elif (residual_kernel >= 20000 and residual_kernel < 30000): # depthwise\n",
    "                                residual_kernel -= 20000\n",
    "                                # 'past_kernel' should be same with 'kernel'\n",
    "                                params_num += (synapse_conv_kernel_size**2 + bias_param) * past_kernel\n",
    "                                past_kernel = residual_kernel  \n",
    "                            else:\n",
    "                                params_num += residual_kernel * ((synapse_conv_kernel_size**2) * past_kernel + bias_param)\n",
    "                                past_kernel = residual_kernel\n",
    "                    elif (kernel == 'P' or kernel == 'M'):\n",
    "                        img_size = img_size // 2\n",
    "                    elif (kernel == 'D'):\n",
    "                        img_size = 1\n",
    "                    elif (kernel == 'L'):\n",
    "                        classifier_making = True\n",
    "                        past_kernel = past_kernel * (img_size**2)\n",
    "                    else:\n",
    "                        if (kernel >= 10000 and kernel < 20000): # separable\n",
    "                            kernel -= 10000\n",
    "                            params_num += (synapse_conv_kernel_size**2 + bias_param) * past_kernel\n",
    "                            params_num += (1**2 * past_kernel + bias_param) * kernel\n",
    "                            past_kernel = kernel  \n",
    "                        elif (kernel >= 20000 and kernel < 30000): # depthwise\n",
    "                            kernel -= 20000\n",
    "                            # 'past_kernel' should be same with 'kernel'\n",
    "                            params_num += (synapse_conv_kernel_size**2 + bias_param) * past_kernel\n",
    "                            past_kernel = kernel  \n",
    "                        else:\n",
    "                            params_num += kernel * (synapse_conv_kernel_size**2 * past_kernel + bias_param)\n",
    "                            past_kernel = kernel    \n",
    "                else: # classifier making\n",
    "                    params_num += (past_kernel + bias_param) * kernel\n",
    "                    past_kernel = kernel\n",
    "            \n",
    "            \n",
    "            if classifier_making == False:\n",
    "                past_kernel = past_kernel*img_size*img_size\n",
    "\n",
    "            params_num += (past_kernel + bias_param) * synapse_fc_out_features\n",
    "        else:\n",
    "            in_channel_compute_temp = synapse_conv_in_channels * temporal_filter\n",
    "            past_in_channel = in_channel_compute_temp*img_size*img_size\n",
    "            for in_channel in cfg:\n",
    "                if (type(in_channel) == list):\n",
    "                    for residual_in_channel in in_channel:\n",
    "                        params_num += (past_in_channel + bias_param) * residual_in_channel\n",
    "                        past_in_channel = residual_in_channel\n",
    "                elif (in_channel == 'P' or in_channel == 'M'):\n",
    "                    img_size = img_size // 2\n",
    "                    past_in_channel = in_channel_compute_temp*img_size*img_size\n",
    "                else:\n",
    "                    params_num += (past_in_channel + bias_param) * in_channel\n",
    "                    past_in_channel = in_channel\n",
    "            params_num += (past_in_channel + bias_param) * synapse_fc_out_features\n",
    "    ###########################################################################################################################################\n",
    "\n",
    "\n",
    "    device = torch.device(\"cuda\" if torch.cuda.is_available() else \"cpu\")\n",
    "    print(f\"\\ndevice ==> {device}\\n\")\n",
    "    if device == \"cpu\":\n",
    "        print(\"=\"*50,\"\\n[WARNING]\\n[WARNING]\\n[WARNING]\\n: cpu mode\\n\\n\",\"=\"*50)\n",
    "\n",
    "    ### network setting #######################################################################################################################\n",
    "    if (convTrue_fcFalse == False):\n",
    "        if (single_step == False):\n",
    "            net = MY_SNN_FC(cfg, synapse_conv_in_channels*temporal_filter, IMAGE_SIZE//initial_pooling, synapse_fc_out_features,\n",
    "                        synapse_fc_trace_const1, synapse_fc_trace_const2, \n",
    "                        lif_layer_v_init, lif_layer_v_decay, \n",
    "                        lif_layer_v_threshold, lif_layer_v_reset,\n",
    "                        lif_layer_sg_width,\n",
    "                        tdBN_on,\n",
    "                        BN_on, TIME,\n",
    "                        surrogate,\n",
    "                        BPTT_on,\n",
    "                        DFA_on,\n",
    "                        drop_rate,\n",
    "                        UDA_on,\n",
    "                        alpha_uda).to(device)\n",
    "        else:\n",
    "            net = MY_SNN_FC_sstep(cfg, synapse_conv_in_channels*temporal_filter, IMAGE_SIZE//initial_pooling, synapse_fc_out_features,\n",
    "                        synapse_fc_trace_const1, synapse_fc_trace_const2, \n",
    "                        lif_layer_v_init, lif_layer_v_decay, \n",
    "                        lif_layer_v_threshold, lif_layer_v_reset,\n",
    "                        lif_layer_sg_width,\n",
    "                        tdBN_on,\n",
    "                        BN_on, TIME,\n",
    "                        surrogate,\n",
    "                        BPTT_on,\n",
    "                        DFA_on,\n",
    "                        OTTT_sWS_on,\n",
    "                        drop_rate,\n",
    "                        UDA_on,\n",
    "                        alpha_uda).to(device)\n",
    "    else:\n",
    "        if (single_step == False):\n",
    "            net = MY_SNN_CONV(cfg, synapse_conv_in_channels, IMAGE_SIZE//initial_pooling,\n",
    "                        synapse_conv_kernel_size, synapse_conv_stride, \n",
    "                        synapse_conv_padding, synapse_conv_trace_const1, \n",
    "                        synapse_conv_trace_const2, \n",
    "                        lif_layer_v_init, lif_layer_v_decay, \n",
    "                        lif_layer_v_threshold, lif_layer_v_reset,\n",
    "                        lif_layer_sg_width,\n",
    "                        synapse_fc_out_features, synapse_fc_trace_const1, synapse_fc_trace_const2,\n",
    "                        tdBN_on,\n",
    "                        BN_on, TIME,\n",
    "                        surrogate,\n",
    "                        BPTT_on,\n",
    "                        OTTT_sWS_on,\n",
    "                        DFA_on,\n",
    "                        drop_rate,\n",
    "                        UDA_on,\n",
    "                        alpha_uda).to(device)\n",
    "        else:\n",
    "            net = MY_SNN_CONV_sstep(cfg, synapse_conv_in_channels, IMAGE_SIZE//initial_pooling,\n",
    "                        synapse_conv_kernel_size, synapse_conv_stride, \n",
    "                        synapse_conv_padding, synapse_conv_trace_const1, \n",
    "                        synapse_conv_trace_const2, \n",
    "                        lif_layer_v_init, lif_layer_v_decay, \n",
    "                        lif_layer_v_threshold, lif_layer_v_reset,\n",
    "                        lif_layer_sg_width,\n",
    "                        synapse_fc_out_features, synapse_fc_trace_const1, synapse_fc_trace_const2,\n",
    "                        tdBN_on,\n",
    "                        BN_on, TIME,\n",
    "                        surrogate,\n",
    "                        BPTT_on,\n",
    "                        OTTT_sWS_on,\n",
    "                        DFA_on,\n",
    "                        drop_rate,\n",
    "                        UDA_on,\n",
    "                        alpha_uda).to(device)\n",
    "    if (nda_net == True):\n",
    "        net = VGG(cfg = cfg, num_classes=10, batch_norm = tdBN_on, in_c = synapse_conv_in_channels, \n",
    "                    lif_layer_v_threshold=lif_layer_v_threshold, lif_layer_v_decay=lif_layer_v_decay, lif_layer_sg_width=lif_layer_sg_width)\n",
    "        net.T = TIME\n",
    "\n",
    "    if ddp_on == False:\n",
    "        net = torch.nn.DataParallel(net) \n",
    "    \n",
    "    if pre_trained == True:\n",
    "        net.load_state_dict(torch.load(pre_trained_path))\n",
    "    \n",
    "    if ddp_on == True:\n",
    "        device = args.gpu\n",
    "        net = net.to(args.gpu)\n",
    "        net = DDP(net, delay_allreduce=True)\n",
    "\n",
    "    net = net.to(device)\n",
    "    if (net_print == True):\n",
    "        if ddp_on == False or torch.distributed.get_rank() == 0:\n",
    "            print(net)    \n",
    "    ####################################################################################################################################\n",
    "    \n",
    "\n",
    "    ## wandb logging ###########################################\n",
    "    if ddp_on == False or torch.distributed.get_rank() == 0:\n",
    "        wandb.watch(net, log=\"all\", log_freq = 10) #gradient, parameter logging해줌\n",
    "    ############################################################\n",
    "\n",
    "    ## param num and memory estimation except BN with MY own calculation some lines above ##########################################\n",
    "    if ddp_on == False or torch.distributed.get_rank() == 0:\n",
    "        real_param_num = sum(p.numel() for p in net.parameters() if p.requires_grad)\n",
    "        if (weight_count_print == True):\n",
    "            for name, param in net.named_parameters():\n",
    "                if param.requires_grad:\n",
    "                    print(f'Layer: {name} | Number of parameters: {param.numel()}')\n",
    "        # Batch norm 있으면 아래 두 개 서로 다를 수 있음.\n",
    "        # assert real_param_num == params_num, f'parameter number is not same. real_param_num: {real_param_num}, params_num: {params_num}'    \n",
    "        print('='*50)\n",
    "        print(f\"My Num of PARAMS: {params_num:,}, system's param_num : {real_param_num:,}\")\n",
    "        memory = params_num / 8 / 1024 / 1024 # MB\n",
    "        precision = 32\n",
    "        memory = memory * precision \n",
    "        print(f\"Memory: {memory:.2f}MiB at {precision}-bit\")\n",
    "        print('='*50)\n",
    "    ##############################################################################################################################\n",
    "\n",
    "\n",
    "\n",
    "    ## criterion ########################################## # loss 구해주는 친구\n",
    "    criterion = nn.CrossEntropyLoss().to(device)\n",
    "    if (OTTT_sWS_on == True):\n",
    "        # criterion = nn.CrossEntropyLoss().to(device)\n",
    "        criterion = lambda y_t, target_t: ((1 - 0.05) * F.cross_entropy(y_t, target_t) + 0.05 * F.mse_loss(y_t, F.one_hot(target_t, CLASS_NUM).float())) / TIME \n",
    "        if which_data == 'DVS_GESTURE':\n",
    "            criterion = lambda y_t, target_t: ((1 - 0.001) * F.cross_entropy(y_t, target_t) + 0.001 * F.mse_loss(y_t, F.one_hot(target_t, CLASS_NUM).float())) / TIME \n",
    "    ####################################################\n",
    "    \n",
    "\n",
    "\n",
    "\n",
    "    ## optimizer, scheduler ########################################################################\n",
    "    if(optimizer_what == 'SGD'):\n",
    "        # optimizer = optim.SGD(net.parameters(), lr=learning_rate, momentum=0.9)\n",
    "        optimizer = optim.SGD(net.parameters(), lr=learning_rate, momentum=0.9, weight_decay=0)\n",
    "    elif(optimizer_what == 'Adam'):\n",
    "        optimizer = torch.optim.Adam(net.parameters(), lr=learning_rate)\n",
    "        # optimizer = torch.optim.Adam(net.parameters(), lr=0.00001)\n",
    "        # optimizer = torch.optim.Adam(net.parameters(), lr=learning_rate/256 * BATCH, weight_decay=1e-4)\n",
    "        # optimizer = optim.Adam(net.parameters(), lr=learning_rate, weight_decay=0, betas=(0.9, 0.999))\n",
    "    elif(optimizer_what == 'RMSprop'):\n",
    "        pass\n",
    "\n",
    "\n",
    "    if (scheduler_name == 'StepLR'):\n",
    "        scheduler = lr_scheduler.StepLR(optimizer, step_size=10, gamma=0.1)\n",
    "    elif (scheduler_name == 'ExponentialLR'):\n",
    "        scheduler = lr_scheduler.ExponentialLR(optimizer, gamma=0.95)\n",
    "    elif (scheduler_name == 'ReduceLROnPlateau'):\n",
    "        scheduler = lr_scheduler.ReduceLROnPlateau(optimizer, mode='min', factor=0.1, patience=10)\n",
    "    elif (scheduler_name == 'CosineAnnealingLR'):\n",
    "        # scheduler = lr_scheduler.CosineAnnealingLR(optimizer, eta_min=0, T_max=50)\n",
    "        scheduler = torch.optim.lr_scheduler.CosineAnnealingLR(optimizer, eta_min=0, T_max=epoch_num)\n",
    "    elif (scheduler_name == 'OneCycleLR'):\n",
    "        scheduler = lr_scheduler.OneCycleLR(optimizer, max_lr=0.1, steps_per_epoch=len(train_loader), epochs=epoch_num)\n",
    "    else:\n",
    "        pass # 'no' scheduler\n",
    "    ## optimizer, scheduler ########################################################################\n",
    "\n",
    "\n",
    "    tr_acc = 0\n",
    "    tr_correct = 0\n",
    "    tr_total = 0\n",
    "    tr_acc_best = 0\n",
    "    tr_epoch_loss_temp = 0\n",
    "    tr_epoch_loss = 0\n",
    "    val_acc_best = 0\n",
    "    val_acc_now = 0\n",
    "    val_loss = 0\n",
    "    elapsed_time_val = 0\n",
    "    no_val_best_growth_count = 0\n",
    "    no_tr_best_growth_count = 0\n",
    "    iter_acc_array = np.array([])\n",
    "    tr_acc_array = np.array([])\n",
    "    val_acc_now_array = np.array([])\n",
    "    DFA_current = DFA_on\n",
    "    DFA_toggle = False\n",
    "    DFA_flag = 1.0 if DFA_current == True else 0.0\n",
    "    DFA_BP_toggle_trial = 0\n",
    "    iter_of_val = False\n",
    "    tr_acc_target = 0\n",
    "    tr_correct_target = 0\n",
    "    tr_total_target = 0\n",
    "    tr_acc_best_target = 0\n",
    "    tr_epoch_loss_temp_target = 0\n",
    "    tr_epoch_loss_target = 0\n",
    "    tr_epoch_loss_temp_domain = 0\n",
    "    tr_epoch_loss_domain = 0\n",
    "    tr_acc_domain = 0\n",
    "    tr_correct_domain = 0\n",
    "    tr_total_domain = 0\n",
    "    val_acc_now_set_past = [0 for _ in range(len(dvs_duration_domain)+1)]\n",
    "    val_acc_now_set = [0 for _ in range(len(dvs_duration_domain)+1)]\n",
    "    val_acc_now_set_best = [0 for _ in range(len(dvs_duration_domain)+1)]\n",
    "    #======== EPOCH START ==========================================================================================\n",
    "    for epoch in range(epoch_num):\n",
    "        if (I_wanna_sweep_at_this_epoch == epoch):\n",
    "            net = BP_DFA_SWAP(net, convTrue_fcFalse, single_step, ddp_on, args_gpu)\n",
    "            no_val_best_growth_count = 0\n",
    "            DFA_current = not DFA_current\n",
    "            DFA_toggle = True\n",
    "            DFA_BP_toggle_trial = DFA_BP_toggle_trial + 1\n",
    "        else:\n",
    "            if (e_transport_swap > 0 or e_transport_swap_tr > 0):\n",
    "                assert not (e_transport_swap > 0 and e_transport_swap_tr > 0)\n",
    "                if e_transport_swap > 0 and no_val_best_growth_count == e_transport_swap :\n",
    "                    if DFA_BP_toggle_trial < e_transport_swap_coin:\n",
    "                        net = BP_DFA_SWAP(net, convTrue_fcFalse, single_step, ddp_on, args_gpu)\n",
    "                        no_val_best_growth_count = 0\n",
    "                        DFA_current = not DFA_current\n",
    "                        DFA_toggle = True\n",
    "                        DFA_BP_toggle_trial = DFA_BP_toggle_trial + 1\n",
    "                if e_transport_swap_tr > 0 and no_tr_best_growth_count == e_transport_swap_tr:\n",
    "                    if DFA_BP_toggle_trial < e_transport_swap_coin:\n",
    "                        net = BP_DFA_SWAP(net, convTrue_fcFalse, single_step, ddp_on, args_gpu)\n",
    "                        no_tr_best_growth_count = 0\n",
    "                        DFA_current = not DFA_current\n",
    "                        DFA_toggle = True\n",
    "                        DFA_BP_toggle_trial = DFA_BP_toggle_trial + 1\n",
    "\n",
    "        if ddp_on == False or torch.distributed.get_rank() == 0:\n",
    "            # print('EPOCH', epoch)\n",
    "            pass\n",
    "        epoch_start_time = time.time()\n",
    "\n",
    "        # if (domain_il_epoch>0 and which_data == 'PMNIST'):\n",
    "        #     k = epoch // domain_il_epoch\n",
    "        #     xtrain=data[k]['train']['x']\n",
    "        #     ytrain=data[k]['train']['y']\n",
    "        #     xtest =data[k]['test']['x']\n",
    "        #     ytest =data[k]['test']['y']\n",
    "\n",
    "        ####### iterator : input_loading & tqdm을 통한 progress_bar 생성###################\n",
    "        iterator = enumerate(train_loader, 0)\n",
    "        if (UDA_on == True):\n",
    "            iterator_target = enumerate(train_loader_target, 0)\n",
    "\n",
    "        if ddp_on == False or torch.distributed.get_rank() == 0:  \n",
    "            iterator = tqdm(iterator, total=len(train_loader), desc='train', dynamic_ncols=True, position=0, leave=True)\n",
    "        ##################################################################################   \n",
    "        \n",
    "        #### validation_interval이 batch size보다 작을 시 validation_interval을 batch size로 맞춰줌#############\n",
    "        validation_interval2 = validation_interval\n",
    "        if (validation_interval > len(train_loader)):\n",
    "            validation_interval2 = len(train_loader)\n",
    "        ##################################################################################################\n",
    "\n",
    "\n",
    "        ###### ITERATION START ##########################################################################################################\n",
    "        i = 0\n",
    "        target_done = False\n",
    "        for i, data in iterator:\n",
    "            UDA_FSM = 0\n",
    "            while (UDA_FSM < 2): # 0: source, 1: target, 2: done\n",
    "                if UDA_on == True:\n",
    "                    if UDA_FSM == 0:\n",
    "                        net.UDA_adapter_on = True\n",
    "                        net.UDA_classifier_on = True\n",
    "                        if target_done == True:\n",
    "                            UDA_FSM = 2 # 2--> target 안함\n",
    "                        elif (i-1)%(len(train_loader)//len(train_loader_target)) == 0: # 일정 주기로 src/trg 도메인 어댑트\n",
    "                        # elif torch.rand(1).item() < (1/src_trg_ratio):\n",
    "                            net.UDA_adapter_on = True\n",
    "                            UDA_FSM = 1 # 1--> target 함 !!! target 할 때만 source도 domain adapt할거임.\n",
    "                        elif i == len(train_loader) - 1 and target_done == False:\n",
    "                            net.UDA_adapter_on = True\n",
    "                            UDA_FSM = 1\n",
    "                        else: \n",
    "                            UDA_FSM = 2\n",
    "                    elif UDA_FSM == 1:\n",
    "                        net.UDA_adapter_on = True\n",
    "                        net.UDA_classifier_on = False\n",
    "                        tgt_idx, data = next(iterator_target)\n",
    "                        target_done = True if tgt_idx == len(train_loader_target) - 1 else False\n",
    "                        if i == len(train_loader) - 1 and target_done == False:\n",
    "                            UDA_FSM = 1\n",
    "                        else: \n",
    "                            UDA_FSM = 2\n",
    "                    else:\n",
    "                        assert False\n",
    "                else:\n",
    "                    UDA_FSM = 2\n",
    "\n",
    "                iter_one_train_time_start = time.time()\n",
    "\n",
    "                net.train() # train 모드로 바꿔줘야함\n",
    "\n",
    "                ### data loading & semi-pre-processing ################################################################################\n",
    "                if len(data) == 2:\n",
    "                    inputs, labels = data\n",
    "                    # 처리 로직 작성\n",
    "                elif len(data) == 3:\n",
    "                    inputs, labels, x_len = data\n",
    "                    # print('x_len',x_len)\n",
    "                    # mask = padded_sequence_mask(x_len)\n",
    "                    # max_time_step = x_len.max()\n",
    "                    # min_time_step = x_len.min()\n",
    "                else:\n",
    "                    assert False, 'data length is not 2 or 3'\n",
    "                #######################################################################################################################\n",
    "                    \n",
    "                ## batch 크기 ######################################\n",
    "                real_batch = labels.size(0)\n",
    "                ###########################################################\n",
    "\n",
    "                # 차원 전처리\n",
    "                ###########################################################################################################################        \n",
    "                if (which_data == 'n_tidigits'):\n",
    "                    inputs = inputs.permute(0, 1, 3, 2, 4)\n",
    "                    labels = labels[:, 0, :]\n",
    "                    labels = torch.argmax(labels, dim=1)\n",
    "                elif (which_data == 'heidelberg'):\n",
    "                    inputs = inputs.view(5, 1000, 1, 700, 1)\n",
    "                    print(\"\\n\\n\\n경고!!!! heidelberg 이거 타임스텝이랑 채널 잘 바꿔줘라!!!\\n\\n\\n\\n\")\n",
    "                # print('inputs',inputs.size(),'\\nlabels',labels.size())\n",
    "                # print(labels)\n",
    "\n",
    "                if (which_data == 'DVS_CIFAR10' or which_data == 'DVS_GESTURE' or which_data == 'DVS_GESTURE_TONIC' or which_data == 'DVS_CIFAR10_2' or which_data == 'NMNIST' or which_data == 'NMNIST_TONIC' or which_data == 'N_CALTECH101' or which_data == 'n_tidigits' or which_data == 'heidelberg'):\n",
    "                    inputs = inputs.permute(1, 0, 2, 3, 4)\n",
    "                elif rate_coding == True :\n",
    "                    inputs = spikegen.rate(inputs, num_steps=TIME)\n",
    "                else :\n",
    "                    inputs = inputs.repeat(TIME, 1, 1, 1, 1)\n",
    "                # inputs: [Time, Batch, Channel, Height, Width]  \n",
    "                    \n",
    "                ## initial pooling #######################################################################\n",
    "                if (initial_pooling > 1):\n",
    "                    pool = nn.MaxPool2d(kernel_size=2)\n",
    "                    num_pooling_layers = int(math.log2(initial_pooling))\n",
    "                    # Time, Batch, Channel 차원은 그대로 두고, Height, Width 차원에 대해서만 pooling 적용\n",
    "                    shape_temp = inputs.shape\n",
    "                    inputs = inputs.reshape(shape_temp[0]*shape_temp[1], shape_temp[2], shape_temp[3], shape_temp[4])\n",
    "                    for _ in range(num_pooling_layers):\n",
    "                        inputs = pool(inputs)\n",
    "                    inputs = inputs.reshape(shape_temp[0], shape_temp[1], shape_temp[2], shape_temp[3]//initial_pooling, shape_temp[4]//initial_pooling)\n",
    "                ## initial pooling #######################################################################\n",
    "                ## temporal filtering ####################################################################\n",
    "                shape_temp = inputs.shape\n",
    "                if (temporal_filter > 1):\n",
    "                    slice_bucket = []\n",
    "                    for t_temp in range(TIME):\n",
    "                        start = t_temp * temporal_filter\n",
    "                        end = start + temporal_filter\n",
    "                        slice_concat = torch.movedim(inputs[start:end], 0, 1).reshape(shape_temp[1],shape_temp[2],shape_temp[3],-1)\n",
    "                        slice_bucket.append(slice_concat)\n",
    "                    inputs = torch.stack(slice_bucket, dim=0)\n",
    "                ## temporal filtering ####################################################################\n",
    "                ####################################################################################################################### \n",
    "                    \n",
    "                \n",
    "                # # dvs 데이터 시각화 코드 (확인 필요할 시 써라)\n",
    "                # ##############################################################################################\n",
    "                # dvs_visualization(inputs, labels, TIME, BATCH, my_seed)\n",
    "                # #####################################################################################################\n",
    "\n",
    "                ## to (device) #######################################\n",
    "                inputs = inputs.to(device)\n",
    "                labels = labels.to(device)\n",
    "                ###########################################################\n",
    "\n",
    "\n",
    "                ## gradient 초기화 #######################################\n",
    "                optimizer.zero_grad()\n",
    "                ###########################################################\n",
    "                \n",
    "                ## DVS gesture에서 other label자리 매꾸기 ###############\n",
    "                if (which_data == 'DVS_GESTURE'):\n",
    "                    labels[labels>2] -= 1\n",
    "                #######################################################         \n",
    "                                \n",
    "                if merge_polarities == True:\n",
    "                    inputs = inputs[:,:,0,:,:]\n",
    "\n",
    "                if single_step == False:\n",
    "                    # net에 넣어줄때는 batch가 젤 앞 차원으로 와야함. # dataparallel때매##############################\n",
    "                    # inputs: [Time, Batch, Channel, Height, Width]   \n",
    "                    inputs = inputs.permute(1, 0, 2, 3, 4) # net에 넣어줄때는 batch가 젤 앞 차원으로 와야함. # dataparallel때매\n",
    "                    # inputs: [Batch, Time, Channel, Height, Width] \n",
    "                    #################################################################################################\n",
    "                else:\n",
    "                    labels = labels.repeat(TIME, 1)\n",
    "                    ## first input도 ottt trace 적용하기 위한 코드 (validation 시에는 필요X) ##########################\n",
    "                    if OTTT_input_trace_on == True:\n",
    "                        spike = inputs\n",
    "                        trace = torch.full_like(spike, fill_value = 0.0, dtype = torch.float, requires_grad=False)\n",
    "                        inputs = []\n",
    "                        for t in range(TIME):\n",
    "                            trace[t] = trace[t-1]*synapse_conv_trace_const2 + spike[t]*synapse_conv_trace_const1\n",
    "                            inputs += [[spike[t], trace[t]]]\n",
    "                    ##################################################################################################\n",
    "\n",
    "\n",
    "                if single_step == False:\n",
    "                    ### input --> net --> output #####################################################\n",
    "                    outputs = net(inputs)\n",
    "                    ##################################################################################\n",
    "                    ## loss, backward ##########################################\n",
    "                    iter_loss = criterion(outputs, labels)\n",
    "                    iter_loss.backward()\n",
    "                    ############################################################\n",
    "                    ## weight 업데이트!! ##################################\n",
    "                    optimizer.step()\n",
    "                    ################################################################\n",
    "                else:\n",
    "                    if UDA_on == False:\n",
    "                        outputs_all = []\n",
    "                        iter_loss = 0.0\n",
    "                        for t in range(TIME):\n",
    "                            ### input[t] --> net --> output_one_time #########################################\n",
    "                            outputs_one_time = net(inputs[t])\n",
    "                            ##################################################################################\n",
    "                            one_time_loss = criterion(outputs_one_time, labels[t].contiguous())\n",
    "                            one_time_loss.backward() # one_time backward\n",
    "                            iter_loss += one_time_loss.data\n",
    "                            outputs_all.append(outputs_one_time.detach())\n",
    "                        optimizer.step() # full step time update\n",
    "                        outputs_all = torch.stack(outputs_all, dim=1)\n",
    "                        outputs = outputs_all.mean(1) # ottt꺼 쓸때\n",
    "                        labels = labels[0]\n",
    "                        iter_loss /= TIME\n",
    "                    else:\n",
    "                        ## 근데 생각해보니까 걍 target에서 classifier만 backward 안 해주면 되는 거 아니냐\n",
    "\n",
    "                        iter_loss_domain = 0.0\n",
    "                        outputs_all = []\n",
    "                        outputs_all_domain = []\n",
    "                        iter_loss = 0.0\n",
    "\n",
    "                        if net.UDA_classifier_on == True:\n",
    "                            domain_labels = torch.full((TIME, real_batch), 1).to(device)\n",
    "                        else:\n",
    "                            domain_labels = torch.full((TIME, real_batch), 0).to(device)\n",
    "                            \n",
    "                        for t in range(TIME):\n",
    "                            ### input[t] --> net --> output_one_time #########################################\n",
    "                            outputs_one_time, UDA_adpater_out = net(inputs[t])\n",
    "                            one_time_loss_classifier = criterion(outputs_one_time, labels[t].contiguous())\n",
    "                            one_time_loss_domain = criterion(UDA_adpater_out, domain_labels[t].contiguous())\n",
    "                            one_time_loss_backward = 0\n",
    "                            if net.UDA_adapter_on == True:\n",
    "                                one_time_loss_backward += one_time_loss_domain * adapter_loss_weight\n",
    "                            if net.UDA_classifier_on == True:\n",
    "                                one_time_loss_backward += one_time_loss_classifier\n",
    "                            one_time_loss_backward.backward() # one_time backward\n",
    "                            iter_loss += one_time_loss_classifier.data\n",
    "                            iter_loss_domain += one_time_loss_domain.data\n",
    "                            outputs_all.append(outputs_one_time.detach())\n",
    "                            outputs_all_domain.append(UDA_adpater_out.detach())\n",
    "                            ##################################################################################\n",
    "                        optimizer.step() # full step time update\n",
    "                        outputs_all = torch.stack(outputs_all, dim=1)\n",
    "                        outputs = outputs_all.mean(1) # ottt꺼 쓸때\n",
    "                        labels = labels[0]\n",
    "                        outputs_all_domain = torch.stack(outputs_all_domain, dim=1)\n",
    "                        outputs_domain = outputs_all_domain.mean(1) # ottt꺼 쓸때\n",
    "                        domain_labels = domain_labels[0]\n",
    "                        iter_loss /= TIME\n",
    "                        iter_loss_domain /= TIME\n",
    "\n",
    "                if UDA_on == False:\n",
    "                    tr_epoch_loss_temp += iter_loss.data/len(train_loader)\n",
    "                else: \n",
    "                    if (net.UDA_classifier_on == True):\n",
    "                        tr_epoch_loss_temp += iter_loss.data/(len(train_loader)*src_trg_ratio/(src_trg_ratio+1))\n",
    "                    else:\n",
    "                        tr_epoch_loss_temp_target += iter_loss.data/(len(train_loader)*1/(src_trg_ratio+1))\n",
    "                    tr_epoch_loss_temp_domain += iter_loss.data/len(train_loader)\n",
    "\n",
    "                ## net 그림 출력해보기 #################################################################\n",
    "                # print('시각화')\n",
    "                # make_dot(outputs, params=dict(list(net.named_parameters()))).render(\"net_torchviz\", format=\"png\")\n",
    "                # return 0\n",
    "                ##################################################################################\n",
    "\n",
    "                #### batch 어긋남 방지 ###############################################\n",
    "                assert real_batch == outputs.size(0), f'batch size is not same. real_batch: {real_batch}, outputs.size(0): {outputs.size(0)}'\n",
    "                #######################################################################\n",
    "                \n",
    "\n",
    "                if UDA_on == False:\n",
    "                    ####### training accruacy save for print ###############################\n",
    "                    _, predicted = torch.max(outputs.data, 1)\n",
    "                    total = real_batch\n",
    "                    correct = (predicted == labels).sum().item()\n",
    "                    iter_acc = correct / total\n",
    "                    tr_total += total\n",
    "                    tr_correct += correct\n",
    "                    if i % verbose_interval == verbose_interval-1:\n",
    "                        if ddp_on == False or torch.distributed.get_rank() == 0:\n",
    "                            print(f'{epoch}-{i} training acc: {100 * iter_acc:.2f}%, lr={[f\"{lr}\" for lr in (param_group[\"lr\"] for param_group in optimizer.param_groups)]}, val_acc: {100 * val_acc_now:.2f}%')\n",
    "                    iter_acc_string = f'epoch-{epoch:<3} iter_acc:{100 * iter_acc:7.2f}%, lr={[f\"{lr:9.7f}\" for lr in (param_group[\"lr\"] for param_group in optimizer.param_groups)]}'\n",
    "                    iter_acc_string2 = f'epoch-{epoch:<3} lr={[f\"{lr:9.7f}\" for lr in (param_group[\"lr\"] for param_group in optimizer.param_groups)]}'\n",
    "                    ################################################################\n",
    "                else:\n",
    "                    ####### training accruacy save for print ###############################\n",
    "                    _, predicted = torch.max(outputs.data, 1)\n",
    "                    _, predicted_domain = torch.max(outputs_domain.data, 1)\n",
    "                    total = real_batch\n",
    "                    correct = (predicted == labels).sum().item()\n",
    "                    correct_domain = (predicted_domain == domain_labels).sum().item()\n",
    "                    iter_acc = correct / total\n",
    "                    iter_acc_domain = correct_domain / total\n",
    "                    if (net.UDA_classifier_on == True):\n",
    "                        tr_total += total\n",
    "                        tr_correct += correct\n",
    "                    else:\n",
    "                        tr_total_target += total\n",
    "                        tr_correct_target += correct\n",
    "                    tr_correct_domain += correct_domain\n",
    "                    tr_total_domain += total\n",
    "\n",
    "                    if i % verbose_interval == verbose_interval-1:\n",
    "                        if ddp_on == False or torch.distributed.get_rank() == 0:\n",
    "                            print(f'{epoch}-{i} training acc: {100 * iter_acc:.2f}%, lr={[f\"{lr}\" for lr in (param_group[\"lr\"] for param_group in optimizer.param_groups)]}, val_acc: {100 * val_acc_now:.2f}%')\n",
    "                    iter_acc_string = f'epoch-{epoch:<3} iter_acc:{100 * iter_acc:7.2f}%, lr={[f\"{lr:9.7f}\" for lr in (param_group[\"lr\"] for param_group in optimizer.param_groups)]}'\n",
    "                    iter_acc_string2 = f'epoch-{epoch:<3} lr={[f\"{lr:9.7f}\" for lr in (param_group[\"lr\"] for param_group in optimizer.param_groups)]}'\n",
    "                    ################################################################\n",
    "\n",
    "\n",
    "\n",
    "\n",
    "            iter_one_train_time_end = time.time()\n",
    "            elapsed_time = iter_one_train_time_end - iter_one_train_time_start  # 실행 시간 계산\n",
    "\n",
    "            if (i % verbose_interval == verbose_interval-1):\n",
    "                if ddp_on == False or torch.distributed.get_rank() == 0:\n",
    "                    print(f\"iter_one_train_time: {elapsed_time} seconds, last one_val_time: {elapsed_time_val} seconds\\n\")\n",
    "            \n",
    "            ##### validation ##################################################################################################################################\n",
    "            if i % validation_interval2 == validation_interval2-1 :\n",
    "                iter_one_val_time_start = time.time()\n",
    "                tr_acc = tr_correct/tr_total\n",
    "                tr_correct = 0\n",
    "                tr_total = 0\n",
    "                if UDA_on == True:\n",
    "                    tr_acc_target = tr_correct_target/tr_total_target\n",
    "                    tr_correct_target = 0\n",
    "                    tr_total_target = 0\n",
    "                    tr_acc_domain = tr_correct_domain/tr_total_domain\n",
    "                    tr_correct_domain = 0\n",
    "                    tr_total_domain = 0\n",
    "\n",
    "                domain_index = 0\n",
    "                val_loss_set = []\n",
    "                val_acc_now_set = []\n",
    "                while True:\n",
    "                    val_loss = 0\n",
    "                    correct_val = 0\n",
    "                    total_val = 0\n",
    "                    test_loader = test_loader_domain_set[domain_index]\n",
    "                    domain_index = domain_index + 1\n",
    "\n",
    "                    with torch.no_grad():\n",
    "                        net.eval() # eval 모드로 바꿔줘야함 \n",
    "                        for data_val in test_loader:\n",
    "                            ## data_val loading & semi-pre-processing ##########################################################\n",
    "                            if len(data_val) == 2:\n",
    "                                inputs_val, labels_val = data_val\n",
    "                                # 처리 로직 작성\n",
    "                            elif len(data_val) == 3:\n",
    "                                inputs_val, labels_val, x_len = data_val\n",
    "                                # print('x_len',x_len)\n",
    "                                # mask = padded_sequence_mask(x_len)\n",
    "                                # max_time_step = x_len.max()\n",
    "                                # min_time_step = x_len.min()\n",
    "                                # B, T, *spatial_dims = inputs_val.shape\n",
    "                            else:\n",
    "                                assert False, 'data_val length is not 2 or 3'\n",
    "\n",
    "                            if (which_data == 'DVS_CIFAR10' or which_data == 'DVS_GESTURE' or which_data == 'DVS_GESTURE_TONIC' or which_data == 'DVS_CIFAR10_2' or which_data == 'NMNIST' or which_data == 'NMNIST_TONIC' or which_data == 'N_CALTECH101' or which_data == 'n_tidigits' or which_data == 'heidelberg'):\n",
    "                                inputs_val = inputs_val.permute(1, 0, 2, 3, 4)\n",
    "                            elif rate_coding == True :\n",
    "                                inputs_val = spikegen.rate(inputs_val, num_steps=TIME)\n",
    "                            else :\n",
    "                                inputs_val = inputs_val.repeat(TIME, 1, 1, 1, 1)\n",
    "                            # inputs_val: [Time, Batch, Channel, Height, Width]  \n",
    "                            ###################################################################################################\n",
    "                            \n",
    "                            ## initial pooling #######################################################################\n",
    "                            if (initial_pooling > 1):\n",
    "                                pool = nn.MaxPool2d(kernel_size=2)\n",
    "                                num_pooling_layers = int(math.log2(initial_pooling))\n",
    "                                # Time, Batch, Channel 차원은 그대로 두고, Height, Width 차원에 대해서만 pooling 적용\n",
    "                                shape_temp = inputs_val.shape\n",
    "                                inputs_val = inputs_val.reshape(shape_temp[0]*shape_temp[1], shape_temp[2], shape_temp[3], shape_temp[4])\n",
    "                                for _ in range(num_pooling_layers):\n",
    "                                    inputs_val = pool(inputs_val)\n",
    "                                inputs_val = inputs_val.reshape(shape_temp[0], shape_temp[1], shape_temp[2], shape_temp[3]//initial_pooling, shape_temp[4]//initial_pooling)\n",
    "                            ## initial pooling #######################################################################\n",
    "\n",
    "                            ## temporal filtering ####################################################################\n",
    "                            shape_temp = inputs_val.shape\n",
    "                            if (temporal_filter > 1):\n",
    "                                slice_bucket = []\n",
    "                                for t_temp in range(TIME):\n",
    "                                    start = t_temp * temporal_filter\n",
    "                                    end = start + temporal_filter\n",
    "                                    slice_concat = torch.movedim(inputs_val[start:end], 0, 1).reshape(shape_temp[1],shape_temp[2],shape_temp[3],-1)\n",
    "                                    slice_bucket.append(slice_concat)\n",
    "                                inputs_val = torch.stack(slice_bucket, dim=0)\n",
    "                            ## temporal filtering ####################################################################\n",
    "                            \n",
    "                            inputs_val = inputs_val.to(device)\n",
    "                            labels_val = labels_val.to(device)\n",
    "                            real_batch = labels_val.size(0)\n",
    "                            \n",
    "                            ## DVS gesture에서 other label자리 매꾸기 ###############\n",
    "                            if (which_data == 'DVS_GESTURE'):\n",
    "                                labels_val[labels_val>2] -= 1\n",
    "                            #######################################################\n",
    "                            \n",
    "                            if merge_polarities == True:\n",
    "                                inputs_val = inputs_val[:,:,0,:,:]\n",
    "\n",
    "                            ## network 연산 시작 ############################################################################################################\n",
    "                            if single_step == False:\n",
    "                                outputs = net(inputs_val.permute(1, 0, 2, 3, 4)) #inputs_val: [Batch, Time, Channel, Height, Width]  \n",
    "                                val_loss_val += criterion(outputs, labels_val)/len(test_loader)\n",
    "                            else:\n",
    "                                outputs_all = []\n",
    "                                if UDA_on == True:\n",
    "                                    net.UDA_classifier_on = True\n",
    "                                for t in range(TIME):\n",
    "                                    outputs = net(inputs_val[t])\n",
    "                                    if UDA_on == True:\n",
    "                                        outputs = outputs[0] # classifier의 output만 사용.\n",
    "                                    val_loss_temp = criterion(outputs, labels_val)\n",
    "                                    outputs_all.append(outputs.detach())\n",
    "                                    val_loss += (val_loss_temp.data/TIME)/len(test_loader)\n",
    "                                outputs_all = torch.stack(outputs_all, dim=1)\n",
    "                                outputs = outputs_all.mean(1)\n",
    "                            val_loss_set.append(val_loss)\n",
    "                            #################################################################################################################################\n",
    "\n",
    "                            _, predicted = torch.max(outputs.data, 1)\n",
    "                            total_val += real_batch\n",
    "                            assert real_batch == outputs.size(0), f'batch size is not same. real_batch: {real_batch}, outputs.size(0): {outputs.size(0)}'\n",
    "                            correct_val += (predicted == labels_val).sum().item()\n",
    "\n",
    "                        val_acc_now = correct_val / total_val\n",
    "                        # print(f'{epoch}-{i} validation acc: {100 * val_acc_now:.2f}%, lr={[f\"{lr:.10f}\" for lr in (param_group[\"lr\"] for param_group in optimizer.param_groups)]}')\n",
    "                        val_acc_now_set.append(val_acc_now)\n",
    "\n",
    "                    if domain_index == len(dvs_duration_domain) + 1:\n",
    "                        break\n",
    "\n",
    "                val_loss = val_loss_set[0]\n",
    "                val_acc_now = val_acc_now_set[0]\n",
    "\n",
    "                iter_one_val_time_end = time.time()\n",
    "                elapsed_time_val = iter_one_val_time_end - iter_one_val_time_start  # 실행 시간 계산\n",
    "                # print(f\"iter_one_val_time: {elapsed_time_val} seconds\")\n",
    "\n",
    "                # network save\n",
    "                if val_acc_best < val_acc_now:\n",
    "                    val_acc_best = val_acc_now\n",
    "                    if ddp_on == False or torch.distributed.get_rank() == 0:\n",
    "                        # wandb 키면 state_dict아닌거는 저장 안됨\n",
    "                        torch.save(net.state_dict(), f\"net_save/save_now_net_weights_{unique_name}.pth\")\n",
    "                        # torch.save(net, f\"net_save/save_now_net_{unique_name}.pth\")\n",
    "                        # torch.save(net.module.state_dict(), f\"net_save/save_now_net_weights2_{unique_name}.pth\")\n",
    "                        # torch.save(net.module, f\"net_save/save_now_net2_{unique_name}.pth\")\n",
    "                    no_val_best_growth_count = 0\n",
    "                else:\n",
    "                    no_val_best_growth_count = no_val_best_growth_count + 1\n",
    "\n",
    "                if tr_acc_best < tr_acc:\n",
    "                    tr_acc_best = tr_acc\n",
    "                    no_tr_best_growth_count = 0\n",
    "                else:\n",
    "                    no_tr_best_growth_count = no_tr_best_growth_count + 1\n",
    "\n",
    "                tr_epoch_loss = tr_epoch_loss_temp\n",
    "                tr_epoch_loss_temp = 0\n",
    "                tr_epoch_loss_target = tr_epoch_loss_temp_target \n",
    "                tr_epoch_loss_temp_target = 0\n",
    "                tr_epoch_loss_domain = tr_epoch_loss_temp_domain\n",
    "                tr_epoch_loss_temp_domain = 0\n",
    "                if (UDA_on == True):\n",
    "                    print(f\"Domain loss,acc: {tr_epoch_loss_domain:.6f}, {100 * tr_acc_domain:.2f}% Target domain: tr_loss-{tr_epoch_loss_target:.6f}, tr_acc-{100 * tr_acc_target:.2f}%\")\n",
    "\n",
    "                if DFA_toggle == True:\n",
    "                    DFA_flag = 1.0 - DFA_flag\n",
    "                    DFA_toggle = False\n",
    "\n",
    "                iter_of_val = True\n",
    "            ####################################################################################################################################################\n",
    "            \n",
    "            ## progress bar update ############################################################################################################\n",
    "            if ddp_on == False or torch.distributed.get_rank() == 0:\n",
    "                if iter_of_val == False:\n",
    "                    iterator.set_description(f\"{iter_acc_string}, iter_loss:{iter_loss:10.6f}, val_best:{100 * val_acc_best:7.2f}%\")  \n",
    "                else:\n",
    "                    iterator.set_description(f\"{iter_acc_string2}, tr/val_loss:{tr_epoch_loss:10.6f}/{val_loss:10.6f}, tr:{100 * tr_acc:7.2f}%, val:{100 * val_acc_now:7.2f}%, val_best:{100 * val_acc_best:7.2f}%\")  \n",
    "\n",
    "                    if len(dvs_duration_domain) > 0:\n",
    "                        dvs_duration_full = [(dvs_duration, dvs_clipping, denoise_on, TIME)] + dvs_duration_domain\n",
    "                        val_acc_now_set_best = [max(past, now) for past, now in zip(val_acc_now_set_past, val_acc_now_set)]\n",
    "                        print(\" | \".join(f\"{dvs_duration_full[d_count][0]:,}c{dvs_duration_full[d_count][1]}d{dvs_duration_full[d_count][2]}t{dvs_duration_full[d_count][3]}:{val_acc_now_set[d_count]*100:.2f}%:{val_acc_now_set_best[d_count]*100:.2f}%\" for d_count in range(len(val_acc_now_set))))\n",
    "                        val_acc_now_set_past = val_acc_now_set_best\n",
    "                    iter_of_val = False\n",
    "            \n",
    "            ####################################################################################################################################\n",
    "            \n",
    "            ## wandb logging ############################################################################################################\n",
    "            if ddp_on == False or torch.distributed.get_rank() == 0:\n",
    "                wandb.log({\"iter_acc\": iter_acc})\n",
    "                wandb.log({\"tr_acc\": tr_acc})\n",
    "                wandb.log({\"val_acc_now\": val_acc_now})\n",
    "                wandb.log({\"val_acc_best\": val_acc_best})\n",
    "                wandb.log({\"summary_val_acc\": val_acc_now})\n",
    "                wandb.log({\"epoch\": epoch})\n",
    "                wandb.log({\"DFA_flag\": DFA_flag}) # DFA mode 바뀌자 마자 바뀌는 게 아니고 validation 한번 했을 때 바뀜.\n",
    "                wandb.log({\"val_loss\": val_loss}) \n",
    "                wandb.log({\"tr_epoch_loss\": tr_epoch_loss})   \n",
    "                if len(val_acc_now_set) > 1:\n",
    "                    wandb.log({\"val_acc_now_set[1]\": val_acc_now_set[1]}) \n",
    "                    wandb.log({\"val_acc_now_set[1]_best\": val_acc_now_set_best[1]}) \n",
    "            ####################################################################################################################################\n",
    "            \n",
    "            \n",
    "            ## accuray 로컬에 저장 하기 위한 코드 #####################################################################################\n",
    "            iter_acc_array = np.append(iter_acc_array, iter_acc)\n",
    "            tr_acc_array = np.append(tr_acc_array, tr_acc)\n",
    "            val_acc_now_array = np.append(val_acc_now_array, val_acc_now)\n",
    "            base_name = f'{current_time}'\n",
    "            ####################################################################################################################\n",
    "            \n",
    "            iter_acc_file_name_time = f'result_save/{base_name}_iter_acc_array_{unique_name}.npy'\n",
    "            tr_acc_file_name_time = f'result_save/{base_name}_tr_acc_array_{unique_name}.npy'\n",
    "            val_acc_file_name_time = f'result_save/{base_name}_val_acc_now_array_{unique_name}.npy'\n",
    "            hyperparameters_file_name_time = f'result_save/{base_name}_hyperparameters_{unique_name}.json'\n",
    "\n",
    "            hyperparameters['current epoch'] = epoch\n",
    "\n",
    "            ### accuracy 세이브: 덮어쓰기 하기 싫으면 주석 풀어서 사용 (시간마다 새로 쓰기) 비추천 ########################\n",
    "            # if ddp_on == False or torch.distributed.get_rank() == 0:\n",
    "            #     np.save(iter_acc_file_name_time, iter_acc_array)\n",
    "\n",
    "\n",
    "            #     np.save(tr_acc_file_name_time, iter_acc_array)\n",
    "            #     np.save(val_acc_file_name_time, val_acc_now_array)\n",
    "            #     with open(hyperparameters_file_name_time, 'w') as f:\n",
    "            #         json.dump(hyperparameters, f, indent=4)\n",
    "            #########################################################################################################\n",
    "\n",
    "            ## accuracy 세이브 ###########################################################################################\n",
    "            if ddp_on == False or torch.distributed.get_rank() == 0:\n",
    "                np.save(f'result_save/iter_acc_array_{unique_name}.npy', iter_acc_array)\n",
    "                np.save(f'result_save/tr_acc_array_{unique_name}.npy', tr_acc_array)\n",
    "                np.save(f'result_save/val_acc_now_array_{unique_name}.npy', val_acc_now_array)\n",
    "                with open(f'result_save/hyperparameters_{unique_name}.json', 'w') as f:\n",
    "                    json.dump(hyperparameters, f, indent=4)\n",
    "            ##########################################################################################################\n",
    "            # iterator.update(1)\n",
    "        ###### ITERATION END ##########################################################################################################\n",
    "                \n",
    "\n",
    "        ## scheduler update #############################################################################\n",
    "        if (scheduler_name != 'no'):\n",
    "            if (scheduler_name == 'ReduceLROnPlateau'):\n",
    "                scheduler.step(val_loss)\n",
    "            else:\n",
    "                scheduler.step()\n",
    "        #################################################################################################\n",
    "        \n",
    "        # 실행 시간 계산\n",
    "        epoch_time_end = time.time()\n",
    "        # print(f\"epoch_time: {epoch_time_end - epoch_start_time} seconds\\n\") \n",
    "    #======== EPOCH END ==========================================================================================\n"
   ]
  },
  {
   "cell_type": "code",
   "execution_count": 6,
   "metadata": {},
   "outputs": [
    {
     "name": "stderr",
     "output_type": "stream",
     "text": [
      "Failed to detect the name of this notebook, you can set it manually with the WANDB_NOTEBOOK_NAME environment variable to enable code saving.\n",
      "\u001b[34m\u001b[1mwandb\u001b[0m: Currently logged in as: \u001b[33mbhkim003\u001b[0m (\u001b[33mbhkim003-seoul-national-university\u001b[0m). Use \u001b[1m`wandb login --relogin`\u001b[0m to force relogin\n"
     ]
    },
    {
     "data": {
      "text/html": [
       "wandb version 0.18.3 is available!  To upgrade, please run:\n",
       " $ pip install wandb --upgrade"
      ],
      "text/plain": [
       "<IPython.core.display.HTML object>"
      ]
     },
     "metadata": {},
     "output_type": "display_data"
    },
    {
     "data": {
      "text/html": [
       "Tracking run with wandb version 0.17.5"
      ],
      "text/plain": [
       "<IPython.core.display.HTML object>"
      ]
     },
     "metadata": {},
     "output_type": "display_data"
    },
    {
     "data": {
      "text/html": [
       "Run data is saved locally in <code>/nfs/home/bhkim003/github_folder/ByeonghyeonKim/my_snn/wandb/run-20241015_013632-k2b177dv</code>"
      ],
      "text/plain": [
       "<IPython.core.display.HTML object>"
      ]
     },
     "metadata": {},
     "output_type": "display_data"
    },
    {
     "data": {
      "text/html": [
       "Syncing run <strong><a href='https://wandb.ai/bhkim003-seoul-national-university/my_snn%20main/runs/k2b177dv' target=\"_blank\">celestial-breeze-6308</a></strong> to <a href='https://wandb.ai/bhkim003-seoul-national-university/my_snn%20main' target=\"_blank\">Weights & Biases</a> (<a href='https://wandb.me/run' target=\"_blank\">docs</a>)<br/>"
      ],
      "text/plain": [
       "<IPython.core.display.HTML object>"
      ]
     },
     "metadata": {},
     "output_type": "display_data"
    },
    {
     "data": {
      "text/html": [
       " View project at <a href='https://wandb.ai/bhkim003-seoul-national-university/my_snn%20main' target=\"_blank\">https://wandb.ai/bhkim003-seoul-national-university/my_snn%20main</a>"
      ],
      "text/plain": [
       "<IPython.core.display.HTML object>"
      ]
     },
     "metadata": {},
     "output_type": "display_data"
    },
    {
     "data": {
      "text/html": [
       " View run at <a href='https://wandb.ai/bhkim003-seoul-national-university/my_snn%20main/runs/k2b177dv' target=\"_blank\">https://wandb.ai/bhkim003-seoul-national-university/my_snn%20main/runs/k2b177dv</a>"
      ],
      "text/plain": [
       "<IPython.core.display.HTML object>"
      ]
     },
     "metadata": {},
     "output_type": "display_data"
    },
    {
     "name": "stdout",
     "output_type": "stream",
     "text": [
      "dataset_hash = 67c7a1422967ef45cb32535e35b30384\n",
      "cache path exists\n",
      "dataset_hash = 67c7a1422967ef45cb32535e35b30384\n",
      "cache path exists\n",
      "dataset_hash = 1982571dde6cd43c4d15ee593c5745e2\n",
      "cache path exists\n",
      "\n",
      " src img count 653 trg img count 326 \n",
      "\n",
      "dataset_hash = 1982571dde6cd43c4d15ee593c5745e2\n",
      "cache path exists\n",
      "In UDA mode, No parameter number calculation yet.\n",
      "\n",
      "device ==> cuda\n",
      "\n",
      "DataParallel(\n",
      "  (module): MY_SNN_FC_sstep(\n",
      "    (UDA_feature_layers): MY_Sequential(\n",
      "      (0): DimChanger_for_FC_sstep()\n",
      "      (1): SYNAPSE_FC_trace_sstep()\n",
      "      (2): LIF_layer_trace_sstep()\n",
      "    )\n",
      "    (UDA_classifier_layers): MY_Sequential(\n",
      "      (0): SYNAPSE_FC_trace_sstep()\n",
      "      (1): LIF_layer_trace_sstep()\n",
      "      (2): SYNAPSE_FC_trace_sstep()\n",
      "    )\n",
      "    (UDA_adapter_layers): MY_Sequential(\n",
      "      (0): Gradient_Reversal_Layer()\n",
      "      (1): SYNAPSE_FC_trace_sstep()\n",
      "      (2): LIF_layer_trace_sstep()\n",
      "      (3): SYNAPSE_FC_trace_sstep()\n",
      "    )\n",
      "  )\n",
      ")\n",
      "==================================================\n",
      "My Num of PARAMS: 0, system's param_num : 492,612\n",
      "Memory: 0.00MiB at 32-bit\n",
      "==================================================\n"
     ]
    },
    {
     "name": "stderr",
     "output_type": "stream",
     "text": [
      "epoch-0   lr=['0.0010000'], tr/val_loss:  2.985036/  1.773215, tr:  25.42%, val:  32.50%, val_best:  32.50%: 100%|██████████| 41/41 [00:23<00:00,  1.72it/s]"
     ]
    },
    {
     "name": "stdout",
     "output_type": "stream",
     "text": [
      "Domain loss,acc: 3.102125, 68.74% Target domain: tr_loss-3.336300, tr_acc-24.85%\n",
      "100,000c1dFalset10:32.50%:32.50% | 25,000c1dFalset10:39.17%:39.17%\n"
     ]
    },
    {
     "name": "stderr",
     "output_type": "stream",
     "text": [
      "\n",
      "epoch-1   lr=['0.0010000'], tr/val_loss:  2.212398/  1.507901, tr:  45.94%, val:  43.75%, val_best:  43.75%: 100%|██████████| 41/41 [00:14<00:00,  2.86it/s]"
     ]
    },
    {
     "name": "stdout",
     "output_type": "stream",
     "text": [
      "Domain loss,acc: 2.266061, 66.50% Target domain: tr_loss-2.373389, tr_acc-44.48%\n",
      "100,000c1dFalset10:43.75%:43.75% | 25,000c1dFalset10:42.08%:42.08%\n"
     ]
    },
    {
     "name": "stderr",
     "output_type": "stream",
     "text": [
      "\n",
      "epoch-2   lr=['0.0010000'], tr/val_loss:  1.999802/  1.418349, tr:  52.37%, val:  50.83%, val_best:  50.83%: 100%|██████████| 41/41 [00:15<00:00,  2.73it/s]"
     ]
    },
    {
     "name": "stdout",
     "output_type": "stream",
     "text": [
      "Domain loss,acc: 2.086793, 63.84% Target domain: tr_loss-2.260773, tr_acc-46.01%\n",
      "100,000c1dFalset10:50.83%:50.83% | 25,000c1dFalset10:52.50%:52.50%\n"
     ]
    },
    {
     "name": "stderr",
     "output_type": "stream",
     "text": [
      "\n",
      "epoch-3   lr=['0.0010000'], tr/val_loss:  1.691310/  1.571109, tr:  60.64%, val:  44.17%, val_best:  50.83%: 100%|██████████| 41/41 [00:15<00:00,  2.72it/s]"
     ]
    },
    {
     "name": "stdout",
     "output_type": "stream",
     "text": [
      "Domain loss,acc: 1.811049, 60.67% Target domain: tr_loss-2.050529, tr_acc-47.55%\n",
      "100,000c1dFalset10:44.17%:50.83% | 25,000c1dFalset10:48.75%:52.50%\n"
     ]
    },
    {
     "name": "stderr",
     "output_type": "stream",
     "text": [
      "\n",
      "epoch-4   lr=['0.0010000'], tr/val_loss:  1.549806/  1.385120, tr:  64.17%, val:  55.42%, val_best:  55.42%: 100%|██████████| 41/41 [00:17<00:00,  2.31it/s]"
     ]
    },
    {
     "name": "stdout",
     "output_type": "stream",
     "text": [
      "Domain loss,acc: 1.738448, 56.08% Target domain: tr_loss-2.115734, tr_acc-52.15%\n",
      "100,000c1dFalset10:55.42%:55.42% | 25,000c1dFalset10:47.92%:52.50%\n"
     ]
    },
    {
     "name": "stderr",
     "output_type": "stream",
     "text": [
      "\n",
      "epoch-5   lr=['0.0010000'], tr/val_loss:  1.341103/  1.351901, tr:  73.51%, val:  55.42%, val_best:  55.42%: 100%|██████████| 41/41 [00:15<00:00,  2.57it/s]"
     ]
    },
    {
     "name": "stdout",
     "output_type": "stream",
     "text": [
      "Domain loss,acc: 1.615888, 68.34% Target domain: tr_loss-2.165458, tr_acc-47.55%\n",
      "100,000c1dFalset10:55.42%:55.42% | 25,000c1dFalset10:45.83%:52.50%\n"
     ]
    },
    {
     "name": "stderr",
     "output_type": "stream",
     "text": [
      "\n",
      "epoch-6   lr=['0.0010000'], tr/val_loss:  1.210954/  1.455383, tr:  76.57%, val:  55.00%, val_best:  55.42%: 100%|██████████| 41/41 [00:15<00:00,  2.62it/s]"
     ]
    },
    {
     "name": "stdout",
     "output_type": "stream",
     "text": [
      "Domain loss,acc: 1.564701, 59.14% Target domain: tr_loss-2.272195, tr_acc-49.39%\n",
      "100,000c1dFalset10:55.00%:55.42% | 25,000c1dFalset10:52.08%:52.50%\n"
     ]
    },
    {
     "name": "stderr",
     "output_type": "stream",
     "text": [
      "\n",
      "epoch-7   lr=['0.0010000'], tr/val_loss:  1.148905/  1.274381, tr:  79.33%, val:  65.83%, val_best:  65.83%: 100%|██████████| 41/41 [00:12<00:00,  3.26it/s]"
     ]
    },
    {
     "name": "stdout",
     "output_type": "stream",
     "text": [
      "Domain loss,acc: 1.480198, 59.24% Target domain: tr_loss-2.142785, tr_acc-52.45%\n",
      "100,000c1dFalset10:65.83%:65.83% | 25,000c1dFalset10:52.92%:52.92%\n"
     ]
    },
    {
     "name": "stderr",
     "output_type": "stream",
     "text": [
      "\n",
      "epoch-8   lr=['0.0010000'], tr/val_loss:  1.043529/  1.358539, tr:  82.39%, val:  64.58%, val_best:  65.83%: 100%|██████████| 41/41 [00:13<00:00,  3.02it/s]"
     ]
    },
    {
     "name": "stdout",
     "output_type": "stream",
     "text": [
      "Domain loss,acc: 1.440165, 67.42% Target domain: tr_loss-2.233436, tr_acc-50.00%\n",
      "100,000c1dFalset10:64.58%:65.83% | 25,000c1dFalset10:50.83%:52.92%\n"
     ]
    },
    {
     "name": "stderr",
     "output_type": "stream",
     "text": [
      "\n",
      "epoch-9   lr=['0.0010000'], tr/val_loss:  0.921056/  1.414221, tr:  83.31%, val:  64.58%, val_best:  65.83%: 100%|██████████| 41/41 [00:12<00:00,  3.17it/s]"
     ]
    },
    {
     "name": "stdout",
     "output_type": "stream",
     "text": [
      "Domain loss,acc: 1.370606, 66.19% Target domain: tr_loss-2.269707, tr_acc-54.29%\n",
      "100,000c1dFalset10:64.58%:65.83% | 25,000c1dFalset10:51.25%:52.92%\n"
     ]
    },
    {
     "name": "stderr",
     "output_type": "stream",
     "text": [
      "\n",
      "epoch-10  lr=['0.0010000'], tr/val_loss:  0.816455/  1.403729, tr:  87.90%, val:  65.00%, val_best:  65.83%: 100%|██████████| 41/41 [00:12<00:00,  3.24it/s]"
     ]
    },
    {
     "name": "stdout",
     "output_type": "stream",
     "text": [
      "Domain loss,acc: 1.344661, 67.31% Target domain: tr_loss-2.401073, tr_acc-53.37%\n",
      "100,000c1dFalset10:65.00%:65.83% | 25,000c1dFalset10:51.25%:52.92%\n"
     ]
    },
    {
     "name": "stderr",
     "output_type": "stream",
     "text": [
      "\n",
      "epoch-11  lr=['0.0010000'], tr/val_loss:  0.802255/  1.411268, tr:  87.29%, val:  61.67%, val_best:  65.83%: 100%|██████████| 41/41 [00:12<00:00,  3.23it/s]"
     ]
    },
    {
     "name": "stdout",
     "output_type": "stream",
     "text": [
      "Domain loss,acc: 1.349522, 66.39% Target domain: tr_loss-2.444055, tr_acc-53.07%\n",
      "100,000c1dFalset10:61.67%:65.83% | 25,000c1dFalset10:56.25%:56.25%\n"
     ]
    },
    {
     "name": "stderr",
     "output_type": "stream",
     "text": [
      "\n",
      "epoch-12  lr=['0.0010000'], tr/val_loss:  0.615719/  1.374273, tr:  92.65%, val:  72.50%, val_best:  72.50%: 100%|██████████| 41/41 [00:13<00:00,  2.99it/s]"
     ]
    },
    {
     "name": "stdout",
     "output_type": "stream",
     "text": [
      "Domain loss,acc: 1.241235, 64.96% Target domain: tr_loss-2.492268, tr_acc-53.07%\n",
      "100,000c1dFalset10:72.50%:72.50% | 25,000c1dFalset10:51.25%:56.25%\n"
     ]
    },
    {
     "name": "stderr",
     "output_type": "stream",
     "text": [
      "\n",
      "epoch-13  lr=['0.0010000'], tr/val_loss:  0.591666/  1.432850, tr:  91.42%, val:  64.58%, val_best:  72.50%: 100%|██████████| 41/41 [00:13<00:00,  3.12it/s]"
     ]
    },
    {
     "name": "stdout",
     "output_type": "stream",
     "text": [
      "Domain loss,acc: 1.222363, 62.61% Target domain: tr_loss-2.483757, tr_acc-57.06%\n",
      "100,000c1dFalset10:64.58%:72.50% | 25,000c1dFalset10:55.00%:56.25%\n"
     ]
    },
    {
     "name": "stderr",
     "output_type": "stream",
     "text": [
      "\n",
      "epoch-14  lr=['0.0010000'], tr/val_loss:  0.541852/  1.492683, tr:  92.50%, val:  63.75%, val_best:  72.50%: 100%|██████████| 41/41 [00:12<00:00,  3.34it/s]"
     ]
    },
    {
     "name": "stdout",
     "output_type": "stream",
     "text": [
      "Domain loss,acc: 1.231915, 66.19% Target domain: tr_loss-2.612041, tr_acc-53.99%\n",
      "100,000c1dFalset10:63.75%:72.50% | 25,000c1dFalset10:51.67%:56.25%\n"
     ]
    },
    {
     "name": "stderr",
     "output_type": "stream",
     "text": [
      "\n",
      "epoch-15  lr=['0.0010000'], tr/val_loss:  0.402708/  1.466671, tr:  96.17%, val:  69.17%, val_best:  72.50%: 100%|██████████| 41/41 [00:13<00:00,  2.99it/s]"
     ]
    },
    {
     "name": "stdout",
     "output_type": "stream",
     "text": [
      "Domain loss,acc: 1.140095, 67.82% Target domain: tr_loss-2.614869, tr_acc-53.99%\n",
      "100,000c1dFalset10:69.17%:72.50% | 25,000c1dFalset10:55.83%:56.25%\n"
     ]
    },
    {
     "name": "stderr",
     "output_type": "stream",
     "text": [
      "\n",
      "epoch-16  lr=['0.0010000'], tr/val_loss:  0.300702/  1.452888, tr:  96.02%, val:  72.92%, val_best:  72.92%: 100%|██████████| 41/41 [00:11<00:00,  3.44it/s]"
     ]
    },
    {
     "name": "stdout",
     "output_type": "stream",
     "text": [
      "Domain loss,acc: 1.063783, 66.80% Target domain: tr_loss-2.589945, tr_acc-54.91%\n",
      "100,000c1dFalset10:72.92%:72.92% | 25,000c1dFalset10:56.67%:56.67%\n"
     ]
    },
    {
     "name": "stderr",
     "output_type": "stream",
     "text": [
      "\n",
      "epoch-17  lr=['0.0010000'], tr/val_loss:  0.419189/  1.618890, tr:  94.79%, val:  63.33%, val_best:  72.92%: 100%|██████████| 41/41 [00:13<00:00,  3.04it/s]"
     ]
    },
    {
     "name": "stdout",
     "output_type": "stream",
     "text": [
      "Domain loss,acc: 1.208258, 66.91% Target domain: tr_loss-2.786396, tr_acc-56.44%\n",
      "100,000c1dFalset10:63.33%:72.92% | 25,000c1dFalset10:52.50%:56.67%\n"
     ]
    },
    {
     "name": "stderr",
     "output_type": "stream",
     "text": [
      "\n",
      "epoch-18  lr=['0.0010000'], tr/val_loss:  0.386308/  1.473636, tr:  95.87%, val:  71.25%, val_best:  72.92%: 100%|██████████| 41/41 [00:13<00:00,  3.07it/s]"
     ]
    },
    {
     "name": "stdout",
     "output_type": "stream",
     "text": [
      "Domain loss,acc: 1.210478, 67.31% Target domain: tr_loss-2.858819, tr_acc-53.37%\n",
      "100,000c1dFalset10:71.25%:72.92% | 25,000c1dFalset10:56.67%:56.67%\n"
     ]
    },
    {
     "name": "stderr",
     "output_type": "stream",
     "text": [
      "\n",
      "epoch-19  lr=['0.0010000'], tr/val_loss:  0.210983/  1.486667, tr:  98.93%, val:  72.50%, val_best:  72.92%: 100%|██████████| 41/41 [00:10<00:00,  3.80it/s]"
     ]
    },
    {
     "name": "stdout",
     "output_type": "stream",
     "text": [
      "Domain loss,acc: 1.099243, 66.70% Target domain: tr_loss-2.875763, tr_acc-54.29%\n",
      "100,000c1dFalset10:72.50%:72.92% | 25,000c1dFalset10:55.00%:56.67%\n"
     ]
    },
    {
     "name": "stderr",
     "output_type": "stream",
     "text": [
      "\n",
      "epoch-20  lr=['0.0010000'], tr/val_loss:  0.198427/  1.483539, tr:  99.39%, val:  75.42%, val_best:  75.42%: 100%|██████████| 41/41 [00:13<00:00,  3.15it/s]"
     ]
    },
    {
     "name": "stdout",
     "output_type": "stream",
     "text": [
      "Domain loss,acc: 1.173639, 66.91% Target domain: tr_loss-3.124065, tr_acc-50.92%\n",
      "100,000c1dFalset10:75.42%:75.42% | 25,000c1dFalset10:55.00%:56.67%\n"
     ]
    },
    {
     "name": "stderr",
     "output_type": "stream",
     "text": [
      "\n",
      "epoch-21  lr=['0.0010000'], tr/val_loss:  0.127296/  1.563448, tr:  99.39%, val:  72.92%, val_best:  75.42%: 100%|██████████| 41/41 [00:13<00:00,  3.14it/s]"
     ]
    },
    {
     "name": "stdout",
     "output_type": "stream",
     "text": [
      "Domain loss,acc: 1.120491, 66.70% Target domain: tr_loss-3.106880, tr_acc-55.52%\n",
      "100,000c1dFalset10:72.92%:75.42% | 25,000c1dFalset10:51.67%:56.67%\n"
     ]
    },
    {
     "name": "stderr",
     "output_type": "stream",
     "text": [
      "\n",
      "epoch-22  lr=['0.0010000'], tr/val_loss:  0.118843/  1.673834, tr:  99.69%, val:  72.50%, val_best:  75.42%: 100%|██████████| 41/41 [00:13<00:00,  3.12it/s]"
     ]
    },
    {
     "name": "stdout",
     "output_type": "stream",
     "text": [
      "Domain loss,acc: 1.119177, 66.39% Target domain: tr_loss-3.119845, tr_acc-53.68%\n",
      "100,000c1dFalset10:72.50%:75.42% | 25,000c1dFalset10:53.75%:56.67%\n"
     ]
    },
    {
     "name": "stderr",
     "output_type": "stream",
     "text": [
      "\n",
      "epoch-23  lr=['0.0010000'], tr/val_loss:  0.124565/  1.629570, tr:  99.39%, val:  71.25%, val_best:  75.42%: 100%|██████████| 41/41 [00:12<00:00,  3.28it/s]"
     ]
    },
    {
     "name": "stdout",
     "output_type": "stream",
     "text": [
      "Domain loss,acc: 1.127206, 65.99% Target domain: tr_loss-3.132488, tr_acc-53.99%\n",
      "100,000c1dFalset10:71.25%:75.42% | 25,000c1dFalset10:55.00%:56.67%\n"
     ]
    },
    {
     "name": "stderr",
     "output_type": "stream",
     "text": [
      "\n",
      "epoch-24  lr=['0.0010000'], tr/val_loss:  0.197434/  1.850585, tr:  98.16%, val:  65.83%, val_best:  75.42%: 100%|██████████| 41/41 [00:13<00:00,  2.96it/s]"
     ]
    },
    {
     "name": "stdout",
     "output_type": "stream",
     "text": [
      "Domain loss,acc: 1.182878, 66.50% Target domain: tr_loss-3.153766, tr_acc-54.29%\n",
      "100,000c1dFalset10:65.83%:75.42% | 25,000c1dFalset10:53.33%:56.67%\n"
     ]
    },
    {
     "name": "stderr",
     "output_type": "stream",
     "text": [
      "\n",
      "epoch-25  lr=['0.0010000'], tr/val_loss:  0.111284/  1.690308, tr: 100.00%, val:  70.83%, val_best:  75.42%: 100%|██████████| 41/41 [00:13<00:00,  3.08it/s]"
     ]
    },
    {
     "name": "stdout",
     "output_type": "stream",
     "text": [
      "Domain loss,acc: 1.194974, 66.80% Target domain: tr_loss-3.362355, tr_acc-52.45%\n",
      "100,000c1dFalset10:70.83%:75.42% | 25,000c1dFalset10:55.00%:56.67%\n"
     ]
    },
    {
     "name": "stderr",
     "output_type": "stream",
     "text": [
      "\n",
      "epoch-26  lr=['0.0010000'], tr/val_loss:  0.067218/  1.667291, tr: 100.00%, val:  73.75%, val_best:  75.42%: 100%|██████████| 41/41 [00:13<00:00,  3.15it/s]"
     ]
    },
    {
     "name": "stdout",
     "output_type": "stream",
     "text": [
      "Domain loss,acc: 1.127352, 66.50% Target domain: tr_loss-3.247620, tr_acc-53.99%\n",
      "100,000c1dFalset10:73.75%:75.42% | 25,000c1dFalset10:56.25%:56.67%\n"
     ]
    },
    {
     "name": "stderr",
     "output_type": "stream",
     "text": [
      "\n",
      "epoch-27  lr=['0.0010000'], tr/val_loss:  0.050661/  1.722079, tr: 100.00%, val:  70.42%, val_best:  75.42%: 100%|██████████| 41/41 [00:14<00:00,  2.77it/s]"
     ]
    },
    {
     "name": "stdout",
     "output_type": "stream",
     "text": [
      "Domain loss,acc: 1.174652, 66.29% Target domain: tr_loss-3.422633, tr_acc-52.45%\n",
      "100,000c1dFalset10:70.42%:75.42% | 25,000c1dFalset10:57.08%:57.08%\n"
     ]
    },
    {
     "name": "stderr",
     "output_type": "stream",
     "text": [
      "\n",
      "epoch-28  lr=['0.0010000'], tr/val_loss:  0.025609/  1.696922, tr: 100.00%, val:  71.67%, val_best:  75.42%: 100%|██████████| 41/41 [00:08<00:00,  4.75it/s]"
     ]
    },
    {
     "name": "stdout",
     "output_type": "stream",
     "text": [
      "Domain loss,acc: 1.171881, 66.39% Target domain: tr_loss-3.464426, tr_acc-53.37%\n",
      "100,000c1dFalset10:71.67%:75.42% | 25,000c1dFalset10:54.58%:57.08%\n"
     ]
    },
    {
     "name": "stderr",
     "output_type": "stream",
     "text": [
      "\n",
      "epoch-29  lr=['0.0010000'], tr/val_loss:  0.019811/  1.732613, tr: 100.00%, val:  71.67%, val_best:  75.42%: 100%|██████████| 41/41 [00:07<00:00,  5.29it/s]"
     ]
    },
    {
     "name": "stdout",
     "output_type": "stream",
     "text": [
      "Domain loss,acc: 1.200268, 65.37% Target domain: tr_loss-3.561182, tr_acc-54.91%\n",
      "100,000c1dFalset10:71.67%:75.42% | 25,000c1dFalset10:56.25%:57.08%\n"
     ]
    },
    {
     "name": "stderr",
     "output_type": "stream",
     "text": [
      "\n",
      "epoch-30  lr=['0.0010000'], tr/val_loss:  0.017555/  1.733943, tr: 100.00%, val:  73.33%, val_best:  75.42%: 100%|██████████| 41/41 [00:08<00:00,  4.72it/s]"
     ]
    },
    {
     "name": "stdout",
     "output_type": "stream",
     "text": [
      "Domain loss,acc: 1.208344, 66.09% Target domain: tr_loss-3.589923, tr_acc-55.52%\n",
      "100,000c1dFalset10:73.33%:75.42% | 25,000c1dFalset10:56.25%:57.08%\n"
     ]
    },
    {
     "name": "stderr",
     "output_type": "stream",
     "text": [
      "\n",
      "epoch-31  lr=['0.0010000'], tr/val_loss:  0.015165/  1.746366, tr: 100.00%, val:  76.25%, val_best:  76.25%: 100%|██████████| 41/41 [00:08<00:00,  4.78it/s]"
     ]
    },
    {
     "name": "stdout",
     "output_type": "stream",
     "text": [
      "Domain loss,acc: 1.191513, 65.78% Target domain: tr_loss-3.544210, tr_acc-54.60%\n",
      "100,000c1dFalset10:76.25%:76.25% | 25,000c1dFalset10:55.42%:57.08%\n"
     ]
    },
    {
     "name": "stderr",
     "output_type": "stream",
     "text": [
      "\n",
      "epoch-32  lr=['0.0010000'], tr/val_loss:  0.014032/  1.758928, tr: 100.00%, val:  74.58%, val_best:  76.25%: 100%|██████████| 41/41 [00:11<00:00,  3.72it/s]"
     ]
    },
    {
     "name": "stdout",
     "output_type": "stream",
     "text": [
      "Domain loss,acc: 1.215571, 65.88% Target domain: tr_loss-3.618648, tr_acc-54.29%\n",
      "100,000c1dFalset10:74.58%:76.25% | 25,000c1dFalset10:55.00%:57.08%\n"
     ]
    },
    {
     "name": "stderr",
     "output_type": "stream",
     "text": [
      "\n",
      "epoch-33  lr=['0.0010000'], tr/val_loss:  0.012414/  1.792350, tr: 100.00%, val:  74.58%, val_best:  76.25%: 100%|██████████| 41/41 [00:14<00:00,  2.84it/s]"
     ]
    },
    {
     "name": "stdout",
     "output_type": "stream",
     "text": [
      "Domain loss,acc: 1.233411, 66.91% Target domain: tr_loss-3.675406, tr_acc-53.99%\n",
      "100,000c1dFalset10:74.58%:76.25% | 25,000c1dFalset10:55.42%:57.08%\n"
     ]
    },
    {
     "name": "stderr",
     "output_type": "stream",
     "text": [
      "\n",
      "epoch-34  lr=['0.0010000'], tr/val_loss:  0.011307/  1.776189, tr: 100.00%, val:  74.17%, val_best:  76.25%: 100%|██████████| 41/41 [00:12<00:00,  3.36it/s]"
     ]
    },
    {
     "name": "stdout",
     "output_type": "stream",
     "text": [
      "Domain loss,acc: 1.235141, 66.50% Target domain: tr_loss-3.682808, tr_acc-54.91%\n",
      "100,000c1dFalset10:74.17%:76.25% | 25,000c1dFalset10:55.42%:57.08%\n"
     ]
    },
    {
     "name": "stderr",
     "output_type": "stream",
     "text": [
      "\n",
      "epoch-35  lr=['0.0010000'], tr/val_loss:  0.010331/  1.791002, tr: 100.00%, val:  74.58%, val_best:  76.25%: 100%|██████████| 41/41 [00:07<00:00,  5.56it/s]"
     ]
    },
    {
     "name": "stdout",
     "output_type": "stream",
     "text": [
      "Domain loss,acc: 1.234485, 65.78% Target domain: tr_loss-3.682792, tr_acc-54.91%\n",
      "100,000c1dFalset10:74.58%:76.25% | 25,000c1dFalset10:55.00%:57.08%\n"
     ]
    },
    {
     "name": "stderr",
     "output_type": "stream",
     "text": [
      "\n",
      "epoch-36  lr=['0.0010000'], tr/val_loss:  0.009640/  1.780953, tr: 100.00%, val:  73.33%, val_best:  76.25%: 100%|██████████| 41/41 [00:07<00:00,  5.29it/s]"
     ]
    },
    {
     "name": "stdout",
     "output_type": "stream",
     "text": [
      "Domain loss,acc: 1.291256, 65.88% Target domain: tr_loss-3.854488, tr_acc-54.91%\n",
      "100,000c1dFalset10:73.33%:76.25% | 25,000c1dFalset10:55.00%:57.08%\n"
     ]
    },
    {
     "name": "stderr",
     "output_type": "stream",
     "text": [
      "\n",
      "epoch-37  lr=['0.0010000'], tr/val_loss:  0.008868/  1.816750, tr: 100.00%, val:  74.17%, val_best:  76.25%: 100%|██████████| 41/41 [00:07<00:00,  5.48it/s]"
     ]
    },
    {
     "name": "stdout",
     "output_type": "stream",
     "text": [
      "Domain loss,acc: 1.245453, 66.29% Target domain: tr_loss-3.718622, tr_acc-55.83%\n",
      "100,000c1dFalset10:74.17%:76.25% | 25,000c1dFalset10:54.58%:57.08%\n"
     ]
    },
    {
     "name": "stderr",
     "output_type": "stream",
     "text": [
      "\n",
      "epoch-38  lr=['0.0010000'], tr/val_loss:  0.008493/  1.820792, tr: 100.00%, val:  74.58%, val_best:  76.25%: 100%|██████████| 41/41 [00:08<00:00,  5.11it/s]"
     ]
    },
    {
     "name": "stdout",
     "output_type": "stream",
     "text": [
      "Domain loss,acc: 1.260413, 66.19% Target domain: tr_loss-3.764252, tr_acc-55.83%\n",
      "100,000c1dFalset10:74.58%:76.25% | 25,000c1dFalset10:54.58%:57.08%\n"
     ]
    },
    {
     "name": "stderr",
     "output_type": "stream",
     "text": [
      "\n",
      "epoch-39  lr=['0.0010000'], tr/val_loss:  0.007933/  1.826959, tr: 100.00%, val:  73.75%, val_best:  76.25%: 100%|██████████| 41/41 [00:07<00:00,  5.46it/s]"
     ]
    },
    {
     "name": "stdout",
     "output_type": "stream",
     "text": [
      "Domain loss,acc: 1.276873, 66.19% Target domain: tr_loss-3.814754, tr_acc-55.52%\n",
      "100,000c1dFalset10:73.75%:76.25% | 25,000c1dFalset10:54.17%:57.08%\n"
     ]
    },
    {
     "name": "stderr",
     "output_type": "stream",
     "text": [
      "\n",
      "epoch-40  lr=['0.0010000'], tr/val_loss:  0.007859/  1.824515, tr: 100.00%, val:  74.58%, val_best:  76.25%: 100%|██████████| 41/41 [00:07<00:00,  5.28it/s]"
     ]
    },
    {
     "name": "stdout",
     "output_type": "stream",
     "text": [
      "Domain loss,acc: 1.273765, 65.99% Target domain: tr_loss-3.805577, tr_acc-54.29%\n",
      "100,000c1dFalset10:74.58%:76.25% | 25,000c1dFalset10:55.00%:57.08%\n"
     ]
    },
    {
     "name": "stderr",
     "output_type": "stream",
     "text": [
      "\n",
      "epoch-41  lr=['0.0010000'], tr/val_loss:  0.007140/  1.825696, tr: 100.00%, val:  75.00%, val_best:  76.25%: 100%|██████████| 41/41 [00:07<00:00,  5.40it/s]"
     ]
    },
    {
     "name": "stdout",
     "output_type": "stream",
     "text": [
      "Domain loss,acc: 1.284927, 66.39% Target domain: tr_loss-3.840501, tr_acc-55.83%\n",
      "100,000c1dFalset10:75.00%:76.25% | 25,000c1dFalset10:54.58%:57.08%\n"
     ]
    },
    {
     "name": "stderr",
     "output_type": "stream",
     "text": [
      "\n",
      "epoch-42  lr=['0.0010000'], tr/val_loss:  0.006780/  1.844611, tr: 100.00%, val:  73.33%, val_best:  76.25%: 100%|██████████| 41/41 [00:07<00:00,  5.29it/s]"
     ]
    },
    {
     "name": "stdout",
     "output_type": "stream",
     "text": [
      "Domain loss,acc: 1.275201, 65.47% Target domain: tr_loss-3.812045, tr_acc-54.91%\n",
      "100,000c1dFalset10:73.33%:76.25% | 25,000c1dFalset10:55.00%:57.08%\n"
     ]
    },
    {
     "name": "stderr",
     "output_type": "stream",
     "text": [
      "\n",
      "epoch-43  lr=['0.0010000'], tr/val_loss:  0.006622/  1.835825, tr: 100.00%, val:  75.42%, val_best:  76.25%: 100%|██████████| 41/41 [00:07<00:00,  5.25it/s]"
     ]
    },
    {
     "name": "stdout",
     "output_type": "stream",
     "text": [
      "Domain loss,acc: 1.285631, 66.09% Target domain: tr_loss-3.843649, tr_acc-55.52%\n",
      "100,000c1dFalset10:75.42%:76.25% | 25,000c1dFalset10:55.00%:57.08%\n"
     ]
    },
    {
     "name": "stderr",
     "output_type": "stream",
     "text": [
      "\n",
      "epoch-44  lr=['0.0010000'], tr/val_loss:  0.006215/  1.855143, tr: 100.00%, val:  75.00%, val_best:  76.25%: 100%|██████████| 41/41 [00:07<00:00,  5.28it/s]"
     ]
    },
    {
     "name": "stdout",
     "output_type": "stream",
     "text": [
      "Domain loss,acc: 1.268167, 66.50% Target domain: tr_loss-3.792073, tr_acc-55.83%\n",
      "100,000c1dFalset10:75.00%:76.25% | 25,000c1dFalset10:54.17%:57.08%\n"
     ]
    },
    {
     "name": "stderr",
     "output_type": "stream",
     "text": [
      "\n",
      "epoch-45  lr=['0.0010000'], tr/val_loss:  0.005907/  1.858167, tr: 100.00%, val:  74.17%, val_best:  76.25%: 100%|██████████| 41/41 [00:08<00:00,  5.03it/s]"
     ]
    },
    {
     "name": "stdout",
     "output_type": "stream",
     "text": [
      "Domain loss,acc: 1.310385, 66.60% Target domain: tr_loss-3.919340, tr_acc-55.52%\n",
      "100,000c1dFalset10:74.17%:76.25% | 25,000c1dFalset10:54.58%:57.08%\n"
     ]
    },
    {
     "name": "stderr",
     "output_type": "stream",
     "text": [
      "\n",
      "epoch-46  lr=['0.0010000'], tr/val_loss:  0.005676/  1.858053, tr: 100.00%, val:  73.75%, val_best:  76.25%: 100%|██████████| 41/41 [00:07<00:00,  5.24it/s]"
     ]
    },
    {
     "name": "stdout",
     "output_type": "stream",
     "text": [
      "Domain loss,acc: 1.288203, 66.29% Target domain: tr_loss-3.853255, tr_acc-55.21%\n",
      "100,000c1dFalset10:73.75%:76.25% | 25,000c1dFalset10:55.00%:57.08%\n"
     ]
    },
    {
     "name": "stderr",
     "output_type": "stream",
     "text": [
      "\n",
      "epoch-47  lr=['0.0010000'], tr/val_loss:  0.005539/  1.865609, tr: 100.00%, val:  73.75%, val_best:  76.25%: 100%|██████████| 41/41 [00:07<00:00,  5.19it/s]"
     ]
    },
    {
     "name": "stdout",
     "output_type": "stream",
     "text": [
      "Domain loss,acc: 1.294063, 66.50% Target domain: tr_loss-3.871111, tr_acc-55.52%\n",
      "100,000c1dFalset10:73.75%:76.25% | 25,000c1dFalset10:55.00%:57.08%\n"
     ]
    },
    {
     "name": "stderr",
     "output_type": "stream",
     "text": [
      "\n",
      "epoch-48  lr=['0.0010000'], tr/val_loss:  0.005430/  1.861772, tr: 100.00%, val:  75.00%, val_best:  76.25%: 100%|██████████| 41/41 [00:08<00:00,  5.12it/s]"
     ]
    },
    {
     "name": "stdout",
     "output_type": "stream",
     "text": [
      "Domain loss,acc: 1.331446, 65.68% Target domain: tr_loss-3.983476, tr_acc-54.91%\n",
      "100,000c1dFalset10:75.00%:76.25% | 25,000c1dFalset10:55.00%:57.08%\n"
     ]
    },
    {
     "name": "stderr",
     "output_type": "stream",
     "text": [
      "\n",
      "epoch-49  lr=['0.0010000'], tr/val_loss:  0.005180/  1.880559, tr: 100.00%, val:  74.17%, val_best:  76.25%: 100%|██████████| 41/41 [00:07<00:00,  5.33it/s]"
     ]
    },
    {
     "name": "stdout",
     "output_type": "stream",
     "text": [
      "Domain loss,acc: 1.321893, 65.99% Target domain: tr_loss-3.955320, tr_acc-55.52%\n",
      "100,000c1dFalset10:74.17%:76.25% | 25,000c1dFalset10:55.00%:57.08%\n"
     ]
    },
    {
     "name": "stderr",
     "output_type": "stream",
     "text": [
      "\n",
      "epoch-50  lr=['0.0010000'], tr/val_loss:  0.005020/  1.880838, tr: 100.00%, val:  75.00%, val_best:  76.25%: 100%|██████████| 41/41 [00:07<00:00,  5.25it/s]"
     ]
    },
    {
     "name": "stdout",
     "output_type": "stream",
     "text": [
      "Domain loss,acc: 1.330178, 66.39% Target domain: tr_loss-3.980493, tr_acc-55.21%\n",
      "100,000c1dFalset10:75.00%:76.25% | 25,000c1dFalset10:55.00%:57.08%\n"
     ]
    },
    {
     "name": "stderr",
     "output_type": "stream",
     "text": [
      "\n",
      "epoch-51  lr=['0.0010000'], tr/val_loss:  0.004878/  1.874611, tr: 100.00%, val:  74.17%, val_best:  76.25%: 100%|██████████| 41/41 [00:08<00:00,  5.12it/s]"
     ]
    },
    {
     "name": "stdout",
     "output_type": "stream",
     "text": [
      "Domain loss,acc: 1.336257, 65.88% Target domain: tr_loss-3.999015, tr_acc-54.91%\n",
      "100,000c1dFalset10:74.17%:76.25% | 25,000c1dFalset10:55.00%:57.08%\n"
     ]
    },
    {
     "name": "stderr",
     "output_type": "stream",
     "text": [
      "\n",
      "epoch-52  lr=['0.0010000'], tr/val_loss:  0.004581/  1.888153, tr: 100.00%, val:  73.33%, val_best:  76.25%: 100%|██████████| 41/41 [00:07<00:00,  5.28it/s]"
     ]
    },
    {
     "name": "stdout",
     "output_type": "stream",
     "text": [
      "Domain loss,acc: 1.334938, 65.68% Target domain: tr_loss-3.995655, tr_acc-55.83%\n",
      "100,000c1dFalset10:73.33%:76.25% | 25,000c1dFalset10:55.00%:57.08%\n"
     ]
    },
    {
     "name": "stderr",
     "output_type": "stream",
     "text": [
      "\n",
      "epoch-53  lr=['0.0010000'], tr/val_loss:  0.004470/  1.892499, tr: 100.00%, val:  74.58%, val_best:  76.25%: 100%|██████████| 41/41 [00:07<00:00,  5.18it/s]"
     ]
    },
    {
     "name": "stdout",
     "output_type": "stream",
     "text": [
      "Domain loss,acc: 1.335805, 65.68% Target domain: tr_loss-3.998473, tr_acc-55.21%\n",
      "100,000c1dFalset10:74.58%:76.25% | 25,000c1dFalset10:55.00%:57.08%\n"
     ]
    },
    {
     "name": "stderr",
     "output_type": "stream",
     "text": [
      "\n",
      "epoch-54  lr=['0.0010000'], tr/val_loss:  0.004381/  1.902903, tr: 100.00%, val:  73.75%, val_best:  76.25%: 100%|██████████| 41/41 [00:08<00:00,  4.90it/s]"
     ]
    },
    {
     "name": "stdout",
     "output_type": "stream",
     "text": [
      "Domain loss,acc: 1.323252, 65.99% Target domain: tr_loss-3.960993, tr_acc-55.21%\n",
      "100,000c1dFalset10:73.75%:76.25% | 25,000c1dFalset10:55.00%:57.08%\n"
     ]
    },
    {
     "name": "stderr",
     "output_type": "stream",
     "text": [
      "\n",
      "epoch-55  lr=['0.0010000'], tr/val_loss:  0.004219/  1.899854, tr: 100.00%, val:  75.00%, val_best:  76.25%: 100%|██████████| 41/41 [00:07<00:00,  5.40it/s]"
     ]
    },
    {
     "name": "stdout",
     "output_type": "stream",
     "text": [
      "Domain loss,acc: 1.357809, 65.68% Target domain: tr_loss-4.064989, tr_acc-54.60%\n",
      "100,000c1dFalset10:75.00%:76.25% | 25,000c1dFalset10:55.00%:57.08%\n"
     ]
    },
    {
     "name": "stderr",
     "output_type": "stream",
     "text": [
      "\n",
      "epoch-56  lr=['0.0010000'], tr/val_loss:  0.004126/  1.901721, tr: 100.00%, val:  74.58%, val_best:  76.25%: 100%|██████████| 41/41 [00:08<00:00,  5.04it/s]"
     ]
    },
    {
     "name": "stdout",
     "output_type": "stream",
     "text": [
      "Domain loss,acc: 1.338024, 65.99% Target domain: tr_loss-4.005820, tr_acc-54.29%\n",
      "100,000c1dFalset10:74.58%:76.25% | 25,000c1dFalset10:54.17%:57.08%\n"
     ]
    },
    {
     "name": "stderr",
     "output_type": "stream",
     "text": [
      "\n",
      "epoch-57  lr=['0.0010000'], tr/val_loss:  0.003963/  1.910481, tr: 100.00%, val:  74.17%, val_best:  76.25%: 100%|██████████| 41/41 [00:08<00:00,  5.01it/s]"
     ]
    },
    {
     "name": "stdout",
     "output_type": "stream",
     "text": [
      "Domain loss,acc: 1.335757, 65.27% Target domain: tr_loss-3.999343, tr_acc-55.21%\n",
      "100,000c1dFalset10:74.17%:76.25% | 25,000c1dFalset10:54.58%:57.08%\n"
     ]
    },
    {
     "name": "stderr",
     "output_type": "stream",
     "text": [
      "\n",
      "epoch-58  lr=['0.0010000'], tr/val_loss:  0.003876/  1.925277, tr: 100.00%, val:  74.17%, val_best:  76.25%: 100%|██████████| 41/41 [00:08<00:00,  4.97it/s]"
     ]
    },
    {
     "name": "stdout",
     "output_type": "stream",
     "text": [
      "Domain loss,acc: 1.370099, 65.58% Target domain: tr_loss-4.102546, tr_acc-54.60%\n",
      "100,000c1dFalset10:74.17%:76.25% | 25,000c1dFalset10:55.00%:57.08%\n"
     ]
    },
    {
     "name": "stderr",
     "output_type": "stream",
     "text": [
      "\n",
      "epoch-59  lr=['0.0010000'], tr/val_loss:  0.003814/  1.924203, tr: 100.00%, val:  74.58%, val_best:  76.25%: 100%|██████████| 41/41 [00:07<00:00,  5.24it/s]"
     ]
    },
    {
     "name": "stdout",
     "output_type": "stream",
     "text": [
      "Domain loss,acc: 1.342526, 66.19% Target domain: tr_loss-4.019951, tr_acc-54.91%\n",
      "100,000c1dFalset10:74.58%:76.25% | 25,000c1dFalset10:55.00%:57.08%\n"
     ]
    },
    {
     "name": "stderr",
     "output_type": "stream",
     "text": [
      "\n",
      "epoch-60  lr=['0.0010000'], tr/val_loss:  0.003713/  1.933012, tr: 100.00%, val:  73.33%, val_best:  76.25%: 100%|██████████| 41/41 [00:08<00:00,  5.07it/s]"
     ]
    },
    {
     "name": "stdout",
     "output_type": "stream",
     "text": [
      "Domain loss,acc: 1.346161, 65.37% Target domain: tr_loss-4.031059, tr_acc-54.91%\n",
      "100,000c1dFalset10:73.33%:76.25% | 25,000c1dFalset10:54.58%:57.08%\n"
     ]
    },
    {
     "name": "stderr",
     "output_type": "stream",
     "text": [
      "\n",
      "epoch-61  lr=['0.0010000'], tr/val_loss:  0.003629/  1.927645, tr: 100.00%, val:  74.58%, val_best:  76.25%: 100%|██████████| 41/41 [00:07<00:00,  5.20it/s]"
     ]
    },
    {
     "name": "stdout",
     "output_type": "stream",
     "text": [
      "Domain loss,acc: 1.387972, 66.09% Target domain: tr_loss-4.156660, tr_acc-54.60%\n",
      "100,000c1dFalset10:74.58%:76.25% | 25,000c1dFalset10:55.42%:57.08%\n"
     ]
    },
    {
     "name": "stderr",
     "output_type": "stream",
     "text": [
      "\n",
      "epoch-62  lr=['0.0010000'], tr/val_loss:  0.003547/  1.931059, tr: 100.00%, val:  73.75%, val_best:  76.25%: 100%|██████████| 41/41 [00:07<00:00,  5.52it/s]"
     ]
    },
    {
     "name": "stdout",
     "output_type": "stream",
     "text": [
      "Domain loss,acc: 1.394480, 65.88% Target domain: tr_loss-4.176345, tr_acc-54.91%\n",
      "100,000c1dFalset10:73.75%:76.25% | 25,000c1dFalset10:54.58%:57.08%\n"
     ]
    },
    {
     "name": "stderr",
     "output_type": "stream",
     "text": [
      "\n",
      "epoch-63  lr=['0.0010000'], tr/val_loss:  0.003494/  1.924403, tr: 100.00%, val:  74.17%, val_best:  76.25%: 100%|██████████| 41/41 [00:07<00:00,  5.37it/s]"
     ]
    },
    {
     "name": "stdout",
     "output_type": "stream",
     "text": [
      "Domain loss,acc: 1.350847, 65.88% Target domain: tr_loss-4.045553, tr_acc-54.91%\n",
      "100,000c1dFalset10:74.17%:76.25% | 25,000c1dFalset10:55.00%:57.08%\n"
     ]
    },
    {
     "name": "stderr",
     "output_type": "stream",
     "text": [
      "\n",
      "epoch-64  lr=['0.0010000'], tr/val_loss:  0.003406/  1.945268, tr: 100.00%, val:  73.75%, val_best:  76.25%: 100%|██████████| 41/41 [00:07<00:00,  5.29it/s]"
     ]
    },
    {
     "name": "stdout",
     "output_type": "stream",
     "text": [
      "Domain loss,acc: 1.381199, 65.78% Target domain: tr_loss-4.136782, tr_acc-54.60%\n",
      "100,000c1dFalset10:73.75%:76.25% | 25,000c1dFalset10:54.58%:57.08%\n"
     ]
    },
    {
     "name": "stderr",
     "output_type": "stream",
     "text": [
      "\n",
      "epoch-65  lr=['0.0010000'], tr/val_loss:  0.003295/  1.929930, tr: 100.00%, val:  74.17%, val_best:  76.25%: 100%|██████████| 41/41 [00:08<00:00,  5.12it/s]"
     ]
    },
    {
     "name": "stdout",
     "output_type": "stream",
     "text": [
      "Domain loss,acc: 1.422324, 65.58% Target domain: tr_loss-4.260382, tr_acc-54.60%\n",
      "100,000c1dFalset10:74.17%:76.25% | 25,000c1dFalset10:54.58%:57.08%\n"
     ]
    },
    {
     "name": "stderr",
     "output_type": "stream",
     "text": [
      "\n",
      "epoch-66  lr=['0.0010000'], tr/val_loss:  0.003227/  1.941492, tr: 100.00%, val:  74.58%, val_best:  76.25%: 100%|██████████| 41/41 [00:07<00:00,  5.49it/s]"
     ]
    },
    {
     "name": "stdout",
     "output_type": "stream",
     "text": [
      "Domain loss,acc: 1.383980, 65.68% Target domain: tr_loss-4.145487, tr_acc-55.21%\n",
      "100,000c1dFalset10:74.58%:76.25% | 25,000c1dFalset10:55.00%:57.08%\n"
     ]
    },
    {
     "name": "stderr",
     "output_type": "stream",
     "text": [
      "\n",
      "epoch-67  lr=['0.0010000'], tr/val_loss:  0.003176/  1.944952, tr: 100.00%, val:  74.58%, val_best:  76.25%: 100%|██████████| 41/41 [00:07<00:00,  5.38it/s]"
     ]
    },
    {
     "name": "stdout",
     "output_type": "stream",
     "text": [
      "Domain loss,acc: 1.395107, 66.09% Target domain: tr_loss-4.178967, tr_acc-54.91%\n",
      "100,000c1dFalset10:74.58%:76.25% | 25,000c1dFalset10:54.58%:57.08%\n"
     ]
    },
    {
     "name": "stderr",
     "output_type": "stream",
     "text": [
      "\n",
      "epoch-68  lr=['0.0010000'], tr/val_loss:  0.003144/  1.944357, tr: 100.00%, val:  74.58%, val_best:  76.25%: 100%|██████████| 41/41 [00:07<00:00,  5.37it/s]"
     ]
    },
    {
     "name": "stdout",
     "output_type": "stream",
     "text": [
      "Domain loss,acc: 1.392820, 65.99% Target domain: tr_loss-4.172174, tr_acc-54.60%\n",
      "100,000c1dFalset10:74.58%:76.25% | 25,000c1dFalset10:54.58%:57.08%\n"
     ]
    },
    {
     "name": "stderr",
     "output_type": "stream",
     "text": [
      "\n",
      "epoch-69  lr=['0.0010000'], tr/val_loss:  0.003035/  1.933115, tr: 100.00%, val:  74.17%, val_best:  76.25%: 100%|██████████| 41/41 [00:07<00:00,  5.23it/s]"
     ]
    },
    {
     "name": "stdout",
     "output_type": "stream",
     "text": [
      "Domain loss,acc: 1.368362, 66.19% Target domain: tr_loss-4.099016, tr_acc-54.60%\n",
      "100,000c1dFalset10:74.17%:76.25% | 25,000c1dFalset10:55.42%:57.08%\n"
     ]
    },
    {
     "name": "stderr",
     "output_type": "stream",
     "text": [
      "\n",
      "epoch-70  lr=['0.0010000'], tr/val_loss:  0.003016/  1.947537, tr: 100.00%, val:  73.75%, val_best:  76.25%: 100%|██████████| 41/41 [00:07<00:00,  5.18it/s]"
     ]
    },
    {
     "name": "stdout",
     "output_type": "stream",
     "text": [
      "Domain loss,acc: 1.372787, 65.99% Target domain: tr_loss-4.112329, tr_acc-54.91%\n",
      "100,000c1dFalset10:73.75%:76.25% | 25,000c1dFalset10:55.00%:57.08%\n"
     ]
    },
    {
     "name": "stderr",
     "output_type": "stream",
     "text": [
      "\n",
      "epoch-71  lr=['0.0010000'], tr/val_loss:  0.002914/  1.963654, tr: 100.00%, val:  74.58%, val_best:  76.25%: 100%|██████████| 41/41 [00:08<00:00,  5.11it/s]"
     ]
    },
    {
     "name": "stdout",
     "output_type": "stream",
     "text": [
      "Domain loss,acc: 1.401065, 65.99% Target domain: tr_loss-4.197369, tr_acc-54.29%\n",
      "100,000c1dFalset10:74.58%:76.25% | 25,000c1dFalset10:55.00%:57.08%\n"
     ]
    },
    {
     "name": "stderr",
     "output_type": "stream",
     "text": [
      "\n",
      "epoch-72  lr=['0.0010000'], tr/val_loss:  0.002881/  1.950900, tr: 100.00%, val:  72.92%, val_best:  76.25%: 100%|██████████| 41/41 [00:07<00:00,  5.13it/s]"
     ]
    },
    {
     "name": "stdout",
     "output_type": "stream",
     "text": [
      "Domain loss,acc: 1.416330, 66.09% Target domain: tr_loss-4.243227, tr_acc-54.60%\n",
      "100,000c1dFalset10:72.92%:76.25% | 25,000c1dFalset10:55.00%:57.08%\n"
     ]
    },
    {
     "name": "stderr",
     "output_type": "stream",
     "text": [
      "\n",
      "epoch-73  lr=['0.0010000'], tr/val_loss:  0.002803/  1.958999, tr: 100.00%, val:  75.00%, val_best:  76.25%: 100%|██████████| 41/41 [00:07<00:00,  5.46it/s]"
     ]
    },
    {
     "name": "stdout",
     "output_type": "stream",
     "text": [
      "Domain loss,acc: 1.406481, 66.50% Target domain: tr_loss-4.213836, tr_acc-54.29%\n",
      "100,000c1dFalset10:75.00%:76.25% | 25,000c1dFalset10:54.58%:57.08%\n"
     ]
    },
    {
     "name": "stderr",
     "output_type": "stream",
     "text": [
      "\n",
      "epoch-74  lr=['0.0010000'], tr/val_loss:  0.002742/  1.959358, tr: 100.00%, val:  73.75%, val_best:  76.25%: 100%|██████████| 41/41 [00:08<00:00,  5.09it/s]"
     ]
    },
    {
     "name": "stdout",
     "output_type": "stream",
     "text": [
      "Domain loss,acc: 1.398616, 66.09% Target domain: tr_loss-4.190363, tr_acc-54.91%\n",
      "100,000c1dFalset10:73.75%:76.25% | 25,000c1dFalset10:54.58%:57.08%\n"
     ]
    },
    {
     "name": "stderr",
     "output_type": "stream",
     "text": [
      "\n",
      "epoch-75  lr=['0.0010000'], tr/val_loss:  0.002706/  1.967314, tr: 100.00%, val:  73.33%, val_best:  76.25%: 100%|██████████| 41/41 [00:07<00:00,  5.25it/s]"
     ]
    },
    {
     "name": "stdout",
     "output_type": "stream",
     "text": [
      "Domain loss,acc: 1.374939, 66.09% Target domain: tr_loss-4.119407, tr_acc-54.29%\n",
      "100,000c1dFalset10:73.33%:76.25% | 25,000c1dFalset10:54.58%:57.08%\n"
     ]
    },
    {
     "name": "stderr",
     "output_type": "stream",
     "text": [
      "\n",
      "epoch-76  lr=['0.0010000'], tr/val_loss:  0.002669/  1.979788, tr: 100.00%, val:  73.33%, val_best:  76.25%: 100%|██████████| 41/41 [00:07<00:00,  5.32it/s]"
     ]
    },
    {
     "name": "stdout",
     "output_type": "stream",
     "text": [
      "Domain loss,acc: 1.424920, 66.09% Target domain: tr_loss-4.269421, tr_acc-54.60%\n",
      "100,000c1dFalset10:73.33%:76.25% | 25,000c1dFalset10:55.00%:57.08%\n"
     ]
    },
    {
     "name": "stderr",
     "output_type": "stream",
     "text": [
      "\n",
      "epoch-77  lr=['0.0010000'], tr/val_loss:  0.002624/  1.964103, tr: 100.00%, val:  74.58%, val_best:  76.25%: 100%|██████████| 41/41 [00:07<00:00,  5.47it/s]"
     ]
    },
    {
     "name": "stdout",
     "output_type": "stream",
     "text": [
      "Domain loss,acc: 1.430670, 65.58% Target domain: tr_loss-4.286761, tr_acc-54.91%\n",
      "100,000c1dFalset10:74.58%:76.25% | 25,000c1dFalset10:55.00%:57.08%\n"
     ]
    },
    {
     "name": "stderr",
     "output_type": "stream",
     "text": [
      "\n",
      "epoch-78  lr=['0.0010000'], tr/val_loss:  0.002565/  1.982683, tr: 100.00%, val:  73.75%, val_best:  76.25%: 100%|██████████| 41/41 [00:07<00:00,  5.68it/s]"
     ]
    },
    {
     "name": "stdout",
     "output_type": "stream",
     "text": [
      "Domain loss,acc: 1.424375, 66.09% Target domain: tr_loss-4.267994, tr_acc-53.68%\n",
      "100,000c1dFalset10:73.75%:76.25% | 25,000c1dFalset10:54.17%:57.08%\n"
     ]
    },
    {
     "name": "stderr",
     "output_type": "stream",
     "text": [
      "\n",
      "epoch-79  lr=['0.0010000'], tr/val_loss:  0.002529/  1.975206, tr: 100.00%, val:  73.75%, val_best:  76.25%: 100%|██████████| 41/41 [00:08<00:00,  4.93it/s]"
     ]
    },
    {
     "name": "stdout",
     "output_type": "stream",
     "text": [
      "Domain loss,acc: 1.401882, 66.09% Target domain: tr_loss-4.200589, tr_acc-54.29%\n",
      "100,000c1dFalset10:73.75%:76.25% | 25,000c1dFalset10:55.00%:57.08%\n"
     ]
    },
    {
     "name": "stderr",
     "output_type": "stream",
     "text": [
      "\n",
      "epoch-80  lr=['0.0010000'], tr/val_loss:  0.002481/  1.969308, tr: 100.00%, val:  75.00%, val_best:  76.25%: 100%|██████████| 41/41 [00:07<00:00,  5.27it/s]"
     ]
    },
    {
     "name": "stdout",
     "output_type": "stream",
     "text": [
      "Domain loss,acc: 1.441998, 65.68% Target domain: tr_loss-4.321033, tr_acc-54.29%\n",
      "100,000c1dFalset10:75.00%:76.25% | 25,000c1dFalset10:55.42%:57.08%\n"
     ]
    },
    {
     "name": "stderr",
     "output_type": "stream",
     "text": [
      "\n",
      "epoch-81  lr=['0.0010000'], tr/val_loss:  0.002451/  1.970265, tr: 100.00%, val:  74.17%, val_best:  76.25%: 100%|██████████| 41/41 [00:07<00:00,  5.37it/s]"
     ]
    },
    {
     "name": "stdout",
     "output_type": "stream",
     "text": [
      "Domain loss,acc: 1.422249, 65.58% Target domain: tr_loss-4.261845, tr_acc-54.91%\n",
      "100,000c1dFalset10:74.17%:76.25% | 25,000c1dFalset10:55.42%:57.08%\n"
     ]
    },
    {
     "name": "stderr",
     "output_type": "stream",
     "text": [
      "\n",
      "epoch-82  lr=['0.0010000'], tr/val_loss:  0.002403/  1.984432, tr: 100.00%, val:  74.17%, val_best:  76.25%: 100%|██████████| 41/41 [00:07<00:00,  5.31it/s]"
     ]
    },
    {
     "name": "stdout",
     "output_type": "stream",
     "text": [
      "Domain loss,acc: 1.404616, 66.09% Target domain: tr_loss-4.209044, tr_acc-54.91%\n",
      "100,000c1dFalset10:74.17%:76.25% | 25,000c1dFalset10:55.00%:57.08%\n"
     ]
    },
    {
     "name": "stderr",
     "output_type": "stream",
     "text": [
      "\n",
      "epoch-83  lr=['0.0010000'], tr/val_loss:  0.002364/  1.978705, tr: 100.00%, val:  74.58%, val_best:  76.25%: 100%|██████████| 41/41 [00:07<00:00,  5.51it/s]"
     ]
    },
    {
     "name": "stdout",
     "output_type": "stream",
     "text": [
      "Domain loss,acc: 1.423536, 66.29% Target domain: tr_loss-4.265881, tr_acc-54.91%\n",
      "100,000c1dFalset10:74.58%:76.25% | 25,000c1dFalset10:55.42%:57.08%\n"
     ]
    },
    {
     "name": "stderr",
     "output_type": "stream",
     "text": [
      "\n",
      "epoch-84  lr=['0.0010000'], tr/val_loss:  0.002319/  1.984693, tr: 100.00%, val:  73.33%, val_best:  76.25%: 100%|██████████| 41/41 [00:08<00:00,  4.98it/s]"
     ]
    },
    {
     "name": "stdout",
     "output_type": "stream",
     "text": [
      "Domain loss,acc: 1.424497, 65.68% Target domain: tr_loss-4.268852, tr_acc-54.60%\n",
      "100,000c1dFalset10:73.33%:76.25% | 25,000c1dFalset10:54.58%:57.08%\n"
     ]
    },
    {
     "name": "stderr",
     "output_type": "stream",
     "text": [
      "\n",
      "epoch-85  lr=['0.0010000'], tr/val_loss:  0.002290/  1.985898, tr: 100.00%, val:  75.00%, val_best:  76.25%: 100%|██████████| 41/41 [00:07<00:00,  5.20it/s]"
     ]
    },
    {
     "name": "stdout",
     "output_type": "stream",
     "text": [
      "Domain loss,acc: 1.431558, 65.47% Target domain: tr_loss-4.290095, tr_acc-54.60%\n",
      "100,000c1dFalset10:75.00%:76.25% | 25,000c1dFalset10:55.42%:57.08%\n"
     ]
    },
    {
     "name": "stderr",
     "output_type": "stream",
     "text": [
      "\n",
      "epoch-86  lr=['0.0010000'], tr/val_loss:  0.002272/  1.984251, tr: 100.00%, val:  74.58%, val_best:  76.25%: 100%|██████████| 41/41 [00:07<00:00,  5.30it/s]"
     ]
    },
    {
     "name": "stdout",
     "output_type": "stream",
     "text": [
      "Domain loss,acc: 1.450586, 65.68% Target domain: tr_loss-4.347213, tr_acc-54.60%\n",
      "100,000c1dFalset10:74.58%:76.25% | 25,000c1dFalset10:55.00%:57.08%\n"
     ]
    },
    {
     "name": "stderr",
     "output_type": "stream",
     "text": [
      "\n",
      "epoch-87  lr=['0.0010000'], tr/val_loss:  0.002209/  1.994706, tr: 100.00%, val:  74.58%, val_best:  76.25%: 100%|██████████| 41/41 [00:08<00:00,  5.11it/s]"
     ]
    },
    {
     "name": "stdout",
     "output_type": "stream",
     "text": [
      "Domain loss,acc: 1.431569, 65.78% Target domain: tr_loss-4.290288, tr_acc-54.91%\n",
      "100,000c1dFalset10:74.58%:76.25% | 25,000c1dFalset10:54.58%:57.08%\n"
     ]
    },
    {
     "name": "stderr",
     "output_type": "stream",
     "text": [
      "\n",
      "epoch-88  lr=['0.0010000'], tr/val_loss:  0.002179/  1.996651, tr: 100.00%, val:  74.17%, val_best:  76.25%: 100%|██████████| 41/41 [00:07<00:00,  5.24it/s]"
     ]
    },
    {
     "name": "stdout",
     "output_type": "stream",
     "text": [
      "Domain loss,acc: 1.490791, 66.09% Target domain: tr_loss-4.468016, tr_acc-54.60%\n",
      "100,000c1dFalset10:74.17%:76.25% | 25,000c1dFalset10:55.00%:57.08%\n"
     ]
    },
    {
     "name": "stderr",
     "output_type": "stream",
     "text": [
      "\n",
      "epoch-89  lr=['0.0010000'], tr/val_loss:  0.002161/  1.997967, tr: 100.00%, val:  74.58%, val_best:  76.25%: 100%|██████████| 41/41 [00:07<00:00,  5.19it/s]"
     ]
    },
    {
     "name": "stdout",
     "output_type": "stream",
     "text": [
      "Domain loss,acc: 1.433524, 65.88% Target domain: tr_loss-4.296252, tr_acc-55.21%\n",
      "100,000c1dFalset10:74.58%:76.25% | 25,000c1dFalset10:54.17%:57.08%\n"
     ]
    },
    {
     "name": "stderr",
     "output_type": "stream",
     "text": [
      "\n",
      "epoch-90  lr=['0.0010000'], tr/val_loss:  0.002146/  2.014318, tr: 100.00%, val:  73.33%, val_best:  76.25%: 100%|██████████| 41/41 [00:07<00:00,  5.28it/s]"
     ]
    },
    {
     "name": "stdout",
     "output_type": "stream",
     "text": [
      "Domain loss,acc: 1.460732, 65.88% Target domain: tr_loss-4.377903, tr_acc-54.60%\n",
      "100,000c1dFalset10:73.33%:76.25% | 25,000c1dFalset10:55.00%:57.08%\n"
     ]
    },
    {
     "name": "stderr",
     "output_type": "stream",
     "text": [
      "\n",
      "epoch-91  lr=['0.0010000'], tr/val_loss:  0.002073/  1.996069, tr: 100.00%, val:  74.17%, val_best:  76.25%: 100%|██████████| 41/41 [00:07<00:00,  5.31it/s]"
     ]
    },
    {
     "name": "stdout",
     "output_type": "stream",
     "text": [
      "Domain loss,acc: 1.453654, 66.09% Target domain: tr_loss-4.356815, tr_acc-54.91%\n",
      "100,000c1dFalset10:74.17%:76.25% | 25,000c1dFalset10:55.00%:57.08%\n"
     ]
    },
    {
     "name": "stderr",
     "output_type": "stream",
     "text": [
      "\n",
      "epoch-92  lr=['0.0010000'], tr/val_loss:  0.002061/  2.005733, tr: 100.00%, val:  73.75%, val_best:  76.25%: 100%|██████████| 41/41 [00:08<00:00,  4.98it/s]"
     ]
    },
    {
     "name": "stdout",
     "output_type": "stream",
     "text": [
      "Domain loss,acc: 1.446832, 66.09% Target domain: tr_loss-4.336374, tr_acc-54.91%\n",
      "100,000c1dFalset10:73.75%:76.25% | 25,000c1dFalset10:54.58%:57.08%\n"
     ]
    },
    {
     "name": "stderr",
     "output_type": "stream",
     "text": [
      "\n",
      "epoch-93  lr=['0.0010000'], tr/val_loss:  0.002007/  2.006023, tr: 100.00%, val:  74.17%, val_best:  76.25%: 100%|██████████| 41/41 [00:08<00:00,  4.98it/s]"
     ]
    },
    {
     "name": "stdout",
     "output_type": "stream",
     "text": [
      "Domain loss,acc: 1.433153, 65.78% Target domain: tr_loss-4.295445, tr_acc-54.29%\n",
      "100,000c1dFalset10:74.17%:76.25% | 25,000c1dFalset10:54.58%:57.08%\n"
     ]
    },
    {
     "name": "stderr",
     "output_type": "stream",
     "text": [
      "\n",
      "epoch-94  lr=['0.0010000'], tr/val_loss:  0.001957/  2.000686, tr: 100.00%, val:  73.75%, val_best:  76.25%: 100%|██████████| 41/41 [00:07<00:00,  5.43it/s]"
     ]
    },
    {
     "name": "stdout",
     "output_type": "stream",
     "text": [
      "Domain loss,acc: 1.476458, 65.68% Target domain: tr_loss-4.425460, tr_acc-54.29%\n",
      "100,000c1dFalset10:73.75%:76.25% | 25,000c1dFalset10:54.17%:57.08%\n"
     ]
    },
    {
     "name": "stderr",
     "output_type": "stream",
     "text": [
      "\n",
      "epoch-95  lr=['0.0010000'], tr/val_loss:  0.001955/  1.999114, tr: 100.00%, val:  73.75%, val_best:  76.25%: 100%|██████████| 41/41 [00:07<00:00,  5.24it/s]"
     ]
    },
    {
     "name": "stdout",
     "output_type": "stream",
     "text": [
      "Domain loss,acc: 1.450083, 65.99% Target domain: tr_loss-4.346340, tr_acc-54.29%\n",
      "100,000c1dFalset10:73.75%:76.25% | 25,000c1dFalset10:54.58%:57.08%\n"
     ]
    },
    {
     "name": "stderr",
     "output_type": "stream",
     "text": [
      "\n",
      "epoch-96  lr=['0.0010000'], tr/val_loss:  0.001958/  2.003643, tr: 100.00%, val:  74.58%, val_best:  76.25%: 100%|██████████| 41/41 [00:07<00:00,  5.45it/s]"
     ]
    },
    {
     "name": "stdout",
     "output_type": "stream",
     "text": [
      "Domain loss,acc: 1.460617, 65.78% Target domain: tr_loss-4.377937, tr_acc-54.60%\n",
      "100,000c1dFalset10:74.58%:76.25% | 25,000c1dFalset10:54.58%:57.08%\n"
     ]
    },
    {
     "name": "stderr",
     "output_type": "stream",
     "text": [
      "\n",
      "epoch-97  lr=['0.0010000'], tr/val_loss:  0.001885/  2.008431, tr: 100.00%, val:  73.75%, val_best:  76.25%: 100%|██████████| 41/41 [00:07<00:00,  5.18it/s]"
     ]
    },
    {
     "name": "stdout",
     "output_type": "stream",
     "text": [
      "Domain loss,acc: 1.461293, 65.68% Target domain: tr_loss-4.380110, tr_acc-54.60%\n",
      "100,000c1dFalset10:73.75%:76.25% | 25,000c1dFalset10:54.58%:57.08%\n"
     ]
    },
    {
     "name": "stderr",
     "output_type": "stream",
     "text": [
      "\n",
      "epoch-98  lr=['0.0010000'], tr/val_loss:  0.001872/  2.011683, tr: 100.00%, val:  72.92%, val_best:  76.25%: 100%|██████████| 41/41 [00:08<00:00,  5.03it/s]"
     ]
    },
    {
     "name": "stdout",
     "output_type": "stream",
     "text": [
      "Domain loss,acc: 1.452058, 65.68% Target domain: tr_loss-4.352430, tr_acc-54.60%\n",
      "100,000c1dFalset10:72.92%:76.25% | 25,000c1dFalset10:54.58%:57.08%\n"
     ]
    },
    {
     "name": "stderr",
     "output_type": "stream",
     "text": [
      "\n",
      "epoch-99  lr=['0.0010000'], tr/val_loss:  0.001847/  2.006804, tr: 100.00%, val:  73.75%, val_best:  76.25%: 100%|██████████| 41/41 [00:07<00:00,  5.61it/s]"
     ]
    },
    {
     "name": "stdout",
     "output_type": "stream",
     "text": [
      "Domain loss,acc: 1.482139, 65.99% Target domain: tr_loss-4.442724, tr_acc-54.60%\n",
      "100,000c1dFalset10:73.75%:76.25% | 25,000c1dFalset10:54.17%:57.08%\n"
     ]
    },
    {
     "name": "stderr",
     "output_type": "stream",
     "text": [
      "\n",
      "epoch-100 lr=['0.0010000'], tr/val_loss:  0.001835/  2.011009, tr: 100.00%, val:  74.58%, val_best:  76.25%: 100%|██████████| 41/41 [00:07<00:00,  5.39it/s]"
     ]
    },
    {
     "name": "stdout",
     "output_type": "stream",
     "text": [
      "Domain loss,acc: 1.468190, 65.47% Target domain: tr_loss-4.400902, tr_acc-55.21%\n",
      "100,000c1dFalset10:74.58%:76.25% | 25,000c1dFalset10:54.58%:57.08%\n"
     ]
    },
    {
     "name": "stderr",
     "output_type": "stream",
     "text": [
      "\n",
      "epoch-101 lr=['0.0010000'], tr/val_loss:  0.001803/  2.012290, tr: 100.00%, val:  74.58%, val_best:  76.25%: 100%|██████████| 41/41 [00:08<00:00,  5.06it/s]"
     ]
    },
    {
     "name": "stdout",
     "output_type": "stream",
     "text": [
      "Domain loss,acc: 1.443360, 65.78% Target domain: tr_loss-4.326478, tr_acc-54.60%\n",
      "100,000c1dFalset10:74.58%:76.25% | 25,000c1dFalset10:54.17%:57.08%\n"
     ]
    },
    {
     "name": "stderr",
     "output_type": "stream",
     "text": [
      "\n",
      "epoch-102 lr=['0.0010000'], tr/val_loss:  0.001784/  2.020639, tr: 100.00%, val:  73.33%, val_best:  76.25%: 100%|██████████| 41/41 [00:07<00:00,  5.22it/s]"
     ]
    },
    {
     "name": "stdout",
     "output_type": "stream",
     "text": [
      "Domain loss,acc: 1.466328, 65.78% Target domain: tr_loss-4.395414, tr_acc-54.91%\n",
      "100,000c1dFalset10:73.33%:76.25% | 25,000c1dFalset10:55.83%:57.08%\n"
     ]
    },
    {
     "name": "stderr",
     "output_type": "stream",
     "text": [
      "\n",
      "epoch-103 lr=['0.0010000'], tr/val_loss:  0.001769/  2.020533, tr: 100.00%, val:  73.75%, val_best:  76.25%: 100%|██████████| 41/41 [00:07<00:00,  5.46it/s]"
     ]
    },
    {
     "name": "stdout",
     "output_type": "stream",
     "text": [
      "Domain loss,acc: 1.461783, 65.68% Target domain: tr_loss-4.381810, tr_acc-54.91%\n",
      "100,000c1dFalset10:73.75%:76.25% | 25,000c1dFalset10:55.00%:57.08%\n"
     ]
    },
    {
     "name": "stderr",
     "output_type": "stream",
     "text": [
      "\n",
      "epoch-104 lr=['0.0010000'], tr/val_loss:  0.001745/  2.024045, tr: 100.00%, val:  74.17%, val_best:  76.25%: 100%|██████████| 41/41 [00:07<00:00,  5.47it/s]"
     ]
    },
    {
     "name": "stdout",
     "output_type": "stream",
     "text": [
      "Domain loss,acc: 1.450882, 65.68% Target domain: tr_loss-4.349155, tr_acc-54.29%\n",
      "100,000c1dFalset10:74.17%:76.25% | 25,000c1dFalset10:54.17%:57.08%\n"
     ]
    },
    {
     "name": "stderr",
     "output_type": "stream",
     "text": [
      "\n",
      "epoch-105 lr=['0.0010000'], tr/val_loss:  0.001739/  2.021566, tr: 100.00%, val:  73.75%, val_best:  76.25%: 100%|██████████| 41/41 [00:07<00:00,  5.21it/s]"
     ]
    },
    {
     "name": "stdout",
     "output_type": "stream",
     "text": [
      "Domain loss,acc: 1.464488, 65.88% Target domain: tr_loss-4.389987, tr_acc-55.21%\n",
      "100,000c1dFalset10:73.75%:76.25% | 25,000c1dFalset10:55.42%:57.08%\n"
     ]
    },
    {
     "name": "stderr",
     "output_type": "stream",
     "text": [
      "\n",
      "epoch-106 lr=['0.0010000'], tr/val_loss:  0.001727/  2.023845, tr: 100.00%, val:  74.17%, val_best:  76.25%: 100%|██████████| 41/41 [00:08<00:00,  5.01it/s]"
     ]
    },
    {
     "name": "stdout",
     "output_type": "stream",
     "text": [
      "Domain loss,acc: 1.467190, 65.47% Target domain: tr_loss-4.398116, tr_acc-54.60%\n",
      "100,000c1dFalset10:74.17%:76.25% | 25,000c1dFalset10:55.00%:57.08%\n"
     ]
    },
    {
     "name": "stderr",
     "output_type": "stream",
     "text": [
      "\n",
      "epoch-107 lr=['0.0010000'], tr/val_loss:  0.001691/  2.024675, tr: 100.00%, val:  73.75%, val_best:  76.25%: 100%|██████████| 41/41 [00:07<00:00,  5.20it/s]"
     ]
    },
    {
     "name": "stdout",
     "output_type": "stream",
     "text": [
      "Domain loss,acc: 1.503304, 65.47% Target domain: tr_loss-4.506530, tr_acc-54.60%\n",
      "100,000c1dFalset10:73.75%:76.25% | 25,000c1dFalset10:55.00%:57.08%\n"
     ]
    },
    {
     "name": "stderr",
     "output_type": "stream",
     "text": [
      "\n",
      "epoch-108 lr=['0.0010000'], tr/val_loss:  0.001694/  2.027864, tr: 100.00%, val:  74.58%, val_best:  76.25%: 100%|██████████| 41/41 [00:07<00:00,  5.15it/s]"
     ]
    },
    {
     "name": "stdout",
     "output_type": "stream",
     "text": [
      "Domain loss,acc: 1.457992, 65.88% Target domain: tr_loss-4.370587, tr_acc-54.91%\n",
      "100,000c1dFalset10:74.58%:76.25% | 25,000c1dFalset10:54.17%:57.08%\n"
     ]
    },
    {
     "name": "stderr",
     "output_type": "stream",
     "text": [
      "\n",
      "epoch-109 lr=['0.0010000'], tr/val_loss:  0.001617/  2.026872, tr: 100.00%, val:  74.17%, val_best:  76.25%: 100%|██████████| 41/41 [00:08<00:00,  5.12it/s]"
     ]
    },
    {
     "name": "stdout",
     "output_type": "stream",
     "text": [
      "Domain loss,acc: 1.460969, 65.47% Target domain: tr_loss-4.379672, tr_acc-54.60%\n",
      "100,000c1dFalset10:74.17%:76.25% | 25,000c1dFalset10:55.00%:57.08%\n"
     ]
    },
    {
     "name": "stderr",
     "output_type": "stream",
     "text": [
      "\n",
      "epoch-110 lr=['0.0010000'], tr/val_loss:  0.001597/  2.036577, tr: 100.00%, val:  73.33%, val_best:  76.25%: 100%|██████████| 41/41 [00:08<00:00,  5.12it/s]"
     ]
    },
    {
     "name": "stdout",
     "output_type": "stream",
     "text": [
      "Domain loss,acc: 1.460806, 65.78% Target domain: tr_loss-4.379223, tr_acc-54.60%\n",
      "100,000c1dFalset10:73.33%:76.25% | 25,000c1dFalset10:54.58%:57.08%\n"
     ]
    },
    {
     "name": "stderr",
     "output_type": "stream",
     "text": [
      "\n",
      "epoch-111 lr=['0.0010000'], tr/val_loss:  0.001572/  2.030194, tr: 100.00%, val:  74.58%, val_best:  76.25%: 100%|██████████| 41/41 [00:07<00:00,  5.57it/s]"
     ]
    },
    {
     "name": "stdout",
     "output_type": "stream",
     "text": [
      "Domain loss,acc: 1.463390, 65.58% Target domain: tr_loss-4.387026, tr_acc-54.91%\n",
      "100,000c1dFalset10:74.58%:76.25% | 25,000c1dFalset10:55.42%:57.08%\n"
     ]
    },
    {
     "name": "stderr",
     "output_type": "stream",
     "text": [
      "\n",
      "epoch-112 lr=['0.0010000'], tr/val_loss:  0.001567/  2.030764, tr: 100.00%, val:  73.75%, val_best:  76.25%: 100%|██████████| 41/41 [00:07<00:00,  5.28it/s]"
     ]
    },
    {
     "name": "stdout",
     "output_type": "stream",
     "text": [
      "Domain loss,acc: 1.505628, 65.78% Target domain: tr_loss-4.513747, tr_acc-54.60%\n",
      "100,000c1dFalset10:73.75%:76.25% | 25,000c1dFalset10:55.42%:57.08%\n"
     ]
    },
    {
     "name": "stderr",
     "output_type": "stream",
     "text": [
      "\n",
      "epoch-113 lr=['0.0010000'], tr/val_loss:  0.001533/  2.032434, tr: 100.00%, val:  74.58%, val_best:  76.25%: 100%|██████████| 41/41 [00:07<00:00,  5.14it/s]"
     ]
    },
    {
     "name": "stdout",
     "output_type": "stream",
     "text": [
      "Domain loss,acc: 1.479946, 65.68% Target domain: tr_loss-4.436771, tr_acc-54.60%\n",
      "100,000c1dFalset10:74.58%:76.25% | 25,000c1dFalset10:55.00%:57.08%\n"
     ]
    },
    {
     "name": "stderr",
     "output_type": "stream",
     "text": [
      "\n",
      "epoch-114 lr=['0.0010000'], tr/val_loss:  0.001539/  2.034296, tr: 100.00%, val:  72.92%, val_best:  76.25%: 100%|██████████| 41/41 [00:07<00:00,  5.41it/s]"
     ]
    },
    {
     "name": "stdout",
     "output_type": "stream",
     "text": [
      "Domain loss,acc: 1.462970, 65.68% Target domain: tr_loss-4.385830, tr_acc-54.91%\n",
      "100,000c1dFalset10:72.92%:76.25% | 25,000c1dFalset10:55.42%:57.08%\n"
     ]
    },
    {
     "name": "stderr",
     "output_type": "stream",
     "text": [
      "\n",
      "epoch-115 lr=['0.0010000'], tr/val_loss:  0.001530/  2.032536, tr: 100.00%, val:  74.17%, val_best:  76.25%: 100%|██████████| 41/41 [00:07<00:00,  5.29it/s]"
     ]
    },
    {
     "name": "stdout",
     "output_type": "stream",
     "text": [
      "Domain loss,acc: 1.497942, 65.47% Target domain: tr_loss-4.490768, tr_acc-54.60%\n",
      "100,000c1dFalset10:74.17%:76.25% | 25,000c1dFalset10:55.00%:57.08%\n"
     ]
    },
    {
     "name": "stderr",
     "output_type": "stream",
     "text": [
      "\n",
      "epoch-116 lr=['0.0010000'], tr/val_loss:  0.001516/  2.038698, tr: 100.00%, val:  73.33%, val_best:  76.25%: 100%|██████████| 41/41 [00:07<00:00,  5.32it/s]"
     ]
    },
    {
     "name": "stdout",
     "output_type": "stream",
     "text": [
      "Domain loss,acc: 1.499014, 65.88% Target domain: tr_loss-4.494010, tr_acc-54.91%\n",
      "100,000c1dFalset10:73.33%:76.25% | 25,000c1dFalset10:55.00%:57.08%\n"
     ]
    },
    {
     "name": "stderr",
     "output_type": "stream",
     "text": [
      "\n",
      "epoch-117 lr=['0.0010000'], tr/val_loss:  0.001495/  2.035219, tr: 100.00%, val:  72.50%, val_best:  76.25%: 100%|██████████| 41/41 [00:08<00:00,  5.06it/s]"
     ]
    },
    {
     "name": "stdout",
     "output_type": "stream",
     "text": [
      "Domain loss,acc: 1.488189, 65.68% Target domain: tr_loss-4.461577, tr_acc-54.60%\n",
      "100,000c1dFalset10:72.50%:76.25% | 25,000c1dFalset10:54.58%:57.08%\n"
     ]
    },
    {
     "name": "stderr",
     "output_type": "stream",
     "text": [
      "\n",
      "epoch-118 lr=['0.0010000'], tr/val_loss:  0.001487/  2.046042, tr: 100.00%, val:  73.75%, val_best:  76.25%: 100%|██████████| 41/41 [00:07<00:00,  5.34it/s]"
     ]
    },
    {
     "name": "stdout",
     "output_type": "stream",
     "text": [
      "Domain loss,acc: 1.492771, 65.58% Target domain: tr_loss-4.475339, tr_acc-54.91%\n",
      "100,000c1dFalset10:73.75%:76.25% | 25,000c1dFalset10:55.00%:57.08%\n"
     ]
    },
    {
     "name": "stderr",
     "output_type": "stream",
     "text": [
      "\n",
      "epoch-119 lr=['0.0010000'], tr/val_loss:  0.001462/  2.046023, tr: 100.00%, val:  74.58%, val_best:  76.25%: 100%|██████████| 41/41 [00:07<00:00,  5.30it/s]"
     ]
    },
    {
     "name": "stdout",
     "output_type": "stream",
     "text": [
      "Domain loss,acc: 1.547619, 65.88% Target domain: tr_loss-4.639934, tr_acc-54.91%\n",
      "100,000c1dFalset10:74.58%:76.25% | 25,000c1dFalset10:55.42%:57.08%\n"
     ]
    },
    {
     "name": "stderr",
     "output_type": "stream",
     "text": [
      "\n",
      "epoch-120 lr=['0.0010000'], tr/val_loss:  0.001448/  2.038230, tr: 100.00%, val:  74.17%, val_best:  76.25%: 100%|██████████| 41/41 [00:07<00:00,  5.51it/s]"
     ]
    },
    {
     "name": "stdout",
     "output_type": "stream",
     "text": [
      "Domain loss,acc: 1.462385, 65.68% Target domain: tr_loss-4.384259, tr_acc-54.91%\n",
      "100,000c1dFalset10:74.17%:76.25% | 25,000c1dFalset10:55.42%:57.08%\n"
     ]
    },
    {
     "name": "stderr",
     "output_type": "stream",
     "text": [
      "\n",
      "epoch-121 lr=['0.0010000'], tr/val_loss:  0.001434/  2.048332, tr: 100.00%, val:  74.58%, val_best:  76.25%: 100%|██████████| 41/41 [00:07<00:00,  5.19it/s]"
     ]
    },
    {
     "name": "stdout",
     "output_type": "stream",
     "text": [
      "Domain loss,acc: 1.472877, 65.88% Target domain: tr_loss-4.415763, tr_acc-54.91%\n",
      "100,000c1dFalset10:74.58%:76.25% | 25,000c1dFalset10:55.42%:57.08%\n"
     ]
    },
    {
     "name": "stderr",
     "output_type": "stream",
     "text": [
      "\n",
      "epoch-122 lr=['0.0010000'], tr/val_loss:  0.001417/  2.044222, tr: 100.00%, val:  74.58%, val_best:  76.25%: 100%|██████████| 41/41 [00:07<00:00,  5.16it/s]"
     ]
    },
    {
     "name": "stdout",
     "output_type": "stream",
     "text": [
      "Domain loss,acc: 1.489072, 65.58% Target domain: tr_loss-4.464382, tr_acc-54.60%\n",
      "100,000c1dFalset10:74.58%:76.25% | 25,000c1dFalset10:55.42%:57.08%\n"
     ]
    },
    {
     "name": "stderr",
     "output_type": "stream",
     "text": [
      "\n",
      "epoch-123 lr=['0.0010000'], tr/val_loss:  0.001397/  2.054809, tr: 100.00%, val:  74.58%, val_best:  76.25%: 100%|██████████| 41/41 [00:07<00:00,  5.15it/s]"
     ]
    },
    {
     "name": "stdout",
     "output_type": "stream",
     "text": [
      "Domain loss,acc: 1.515074, 65.27% Target domain: tr_loss-4.542428, tr_acc-54.91%\n",
      "100,000c1dFalset10:74.58%:76.25% | 25,000c1dFalset10:55.42%:57.08%\n"
     ]
    },
    {
     "name": "stderr",
     "output_type": "stream",
     "text": [
      "\n",
      "epoch-124 lr=['0.0010000'], tr/val_loss:  0.001387/  2.054743, tr: 100.00%, val:  73.75%, val_best:  76.25%: 100%|██████████| 41/41 [00:08<00:00,  5.12it/s]"
     ]
    },
    {
     "name": "stdout",
     "output_type": "stream",
     "text": [
      "Domain loss,acc: 1.488166, 65.47% Target domain: tr_loss-4.461725, tr_acc-54.60%\n",
      "100,000c1dFalset10:73.75%:76.25% | 25,000c1dFalset10:55.42%:57.08%\n"
     ]
    },
    {
     "name": "stderr",
     "output_type": "stream",
     "text": [
      "\n",
      "epoch-125 lr=['0.0010000'], tr/val_loss:  0.001368/  2.051073, tr: 100.00%, val:  74.17%, val_best:  76.25%: 100%|██████████| 41/41 [00:07<00:00,  5.30it/s]"
     ]
    },
    {
     "name": "stdout",
     "output_type": "stream",
     "text": [
      "Domain loss,acc: 1.524553, 65.58% Target domain: tr_loss-4.570922, tr_acc-54.91%\n",
      "100,000c1dFalset10:74.17%:76.25% | 25,000c1dFalset10:55.42%:57.08%\n"
     ]
    },
    {
     "name": "stderr",
     "output_type": "stream",
     "text": [
      "\n",
      "epoch-126 lr=['0.0010000'], tr/val_loss:  0.001360/  2.049688, tr: 100.00%, val:  74.58%, val_best:  76.25%: 100%|██████████| 41/41 [00:07<00:00,  5.28it/s]"
     ]
    },
    {
     "name": "stdout",
     "output_type": "stream",
     "text": [
      "Domain loss,acc: 1.475715, 65.47% Target domain: tr_loss-4.424427, tr_acc-54.29%\n",
      "100,000c1dFalset10:74.58%:76.25% | 25,000c1dFalset10:55.42%:57.08%\n"
     ]
    },
    {
     "name": "stderr",
     "output_type": "stream",
     "text": [
      "\n",
      "epoch-127 lr=['0.0010000'], tr/val_loss:  0.001346/  2.055980, tr: 100.00%, val:  74.17%, val_best:  76.25%: 100%|██████████| 41/41 [00:08<00:00,  5.03it/s]"
     ]
    },
    {
     "name": "stdout",
     "output_type": "stream",
     "text": [
      "Domain loss,acc: 1.506978, 65.17% Target domain: tr_loss-4.518243, tr_acc-54.60%\n",
      "100,000c1dFalset10:74.17%:76.25% | 25,000c1dFalset10:55.42%:57.08%\n"
     ]
    },
    {
     "name": "stderr",
     "output_type": "stream",
     "text": [
      "\n",
      "epoch-128 lr=['0.0010000'], tr/val_loss:  0.001331/  2.058566, tr: 100.00%, val:  73.75%, val_best:  76.25%: 100%|██████████| 41/41 [00:07<00:00,  5.27it/s]"
     ]
    },
    {
     "name": "stdout",
     "output_type": "stream",
     "text": [
      "Domain loss,acc: 1.508351, 65.58% Target domain: tr_loss-4.522391, tr_acc-54.91%\n",
      "100,000c1dFalset10:73.75%:76.25% | 25,000c1dFalset10:55.00%:57.08%\n"
     ]
    },
    {
     "name": "stderr",
     "output_type": "stream",
     "text": [
      "\n",
      "epoch-129 lr=['0.0010000'], tr/val_loss:  0.001321/  2.052520, tr: 100.00%, val:  74.58%, val_best:  76.25%: 100%|██████████| 41/41 [00:07<00:00,  5.16it/s]"
     ]
    },
    {
     "name": "stdout",
     "output_type": "stream",
     "text": [
      "Domain loss,acc: 1.489570, 65.27% Target domain: tr_loss-4.466070, tr_acc-54.91%\n",
      "100,000c1dFalset10:74.58%:76.25% | 25,000c1dFalset10:55.42%:57.08%\n"
     ]
    },
    {
     "name": "stderr",
     "output_type": "stream",
     "text": [
      "\n",
      "epoch-130 lr=['0.0010000'], tr/val_loss:  0.001310/  2.056182, tr: 100.00%, val:  74.58%, val_best:  76.25%: 100%|██████████| 41/41 [00:07<00:00,  5.30it/s]"
     ]
    },
    {
     "name": "stdout",
     "output_type": "stream",
     "text": [
      "Domain loss,acc: 1.512022, 65.17% Target domain: tr_loss-4.533447, tr_acc-54.91%\n",
      "100,000c1dFalset10:74.58%:76.25% | 25,000c1dFalset10:55.42%:57.08%\n"
     ]
    },
    {
     "name": "stderr",
     "output_type": "stream",
     "text": [
      "\n",
      "epoch-131 lr=['0.0010000'], tr/val_loss:  0.001284/  2.058331, tr: 100.00%, val:  74.17%, val_best:  76.25%: 100%|██████████| 41/41 [00:07<00:00,  5.23it/s]"
     ]
    },
    {
     "name": "stdout",
     "output_type": "stream",
     "text": [
      "Domain loss,acc: 1.526429, 65.47% Target domain: tr_loss-4.576716, tr_acc-54.29%\n",
      "100,000c1dFalset10:74.17%:76.25% | 25,000c1dFalset10:55.42%:57.08%\n"
     ]
    },
    {
     "name": "stderr",
     "output_type": "stream",
     "text": [
      "\n",
      "epoch-132 lr=['0.0010000'], tr/val_loss:  0.001275/  2.058945, tr: 100.00%, val:  74.17%, val_best:  76.25%: 100%|██████████| 41/41 [00:07<00:00,  5.17it/s]"
     ]
    },
    {
     "name": "stdout",
     "output_type": "stream",
     "text": [
      "Domain loss,acc: 1.520472, 65.07% Target domain: tr_loss-4.558865, tr_acc-54.60%\n",
      "100,000c1dFalset10:74.17%:76.25% | 25,000c1dFalset10:55.42%:57.08%\n"
     ]
    },
    {
     "name": "stderr",
     "output_type": "stream",
     "text": [
      "\n",
      "epoch-133 lr=['0.0010000'], tr/val_loss:  0.001268/  2.055858, tr: 100.00%, val:  73.33%, val_best:  76.25%: 100%|██████████| 41/41 [00:08<00:00,  5.00it/s]"
     ]
    },
    {
     "name": "stdout",
     "output_type": "stream",
     "text": [
      "Domain loss,acc: 1.501474, 65.47% Target domain: tr_loss-4.501884, tr_acc-54.60%\n",
      "100,000c1dFalset10:73.33%:76.25% | 25,000c1dFalset10:55.00%:57.08%\n"
     ]
    },
    {
     "name": "stderr",
     "output_type": "stream",
     "text": [
      "\n",
      "epoch-134 lr=['0.0010000'], tr/val_loss:  0.001256/  2.065126, tr: 100.00%, val:  74.17%, val_best:  76.25%: 100%|██████████| 41/41 [00:07<00:00,  5.19it/s]"
     ]
    },
    {
     "name": "stdout",
     "output_type": "stream",
     "text": [
      "Domain loss,acc: 1.502918, 65.07% Target domain: tr_loss-4.506240, tr_acc-54.29%\n",
      "100,000c1dFalset10:74.17%:76.25% | 25,000c1dFalset10:55.42%:57.08%\n"
     ]
    },
    {
     "name": "stderr",
     "output_type": "stream",
     "text": [
      "\n",
      "epoch-135 lr=['0.0010000'], tr/val_loss:  0.001242/  2.065786, tr: 100.00%, val:  74.17%, val_best:  76.25%: 100%|██████████| 41/41 [00:07<00:00,  5.42it/s]"
     ]
    },
    {
     "name": "stdout",
     "output_type": "stream",
     "text": [
      "Domain loss,acc: 1.517165, 64.96% Target domain: tr_loss-4.549010, tr_acc-54.60%\n",
      "100,000c1dFalset10:74.17%:76.25% | 25,000c1dFalset10:55.00%:57.08%\n"
     ]
    },
    {
     "name": "stderr",
     "output_type": "stream",
     "text": [
      "\n",
      "epoch-136 iter_acc:  56.25%, lr=['0.0010000'], iter_loss:  2.675456, val_best:  76.25%:  34%|███▍      | 14/41 [00:02<00:04,  6.60it/s]"
     ]
    }
   ],
   "source": [
    "### my_snn control board (Gesture) ########################\n",
    "decay = 0.25 # 0.875 0.25 0.125 0.75 0.5\n",
    "# nda 0.25 # ottt 0.5\n",
    "const2 = False # trace 할거면 True, 안할거면 False\n",
    "\n",
    "unique_name = 'main' ## 이거 설정하면 새로운 경로에 모두 save\n",
    "run_name = 'main' ## 이거 설정하면 새로운 경로에 모두 save\n",
    "\n",
    "if const2 == True:\n",
    "    const2 = decay\n",
    "else:\n",
    "    const2 = 0.0\n",
    "\n",
    "wandb.init(project= f'my_snn {unique_name}',save_code=True)\n",
    "\n",
    "my_snn_system(  devices = \"3\",\n",
    "                single_step = True, # True # False\n",
    "                unique_name = run_name,\n",
    "                my_seed = 42,\n",
    "                TIME = 10, # dvscifar 10 # ottt 6 or 10 # nda 10  # 제작하는 dvs에서 TIME넘거나 적으면 자르거나 PADDING함\n",
    "                BATCH = 16, # batch norm 할거면 2이상으로 해야함   # nda 256   #  ottt 128\n",
    "                IMAGE_SIZE = 128, # dvscifar 48 # MNIST 28 # CIFAR10 32 # PMNIST 28 #NMNIST 34 # GESTURE 128\n",
    "                # dvsgesture 128, dvs_cifar2 128, nmnist 34, n_caltech101 180,240, n_tidigits 64, heidelberg 700, \n",
    "                #pmnist는 28로 해야 됨. 나머지는 바꿔도 돌아는 감.\n",
    "\n",
    "                # DVS_CIFAR10 할거면 time 10으로 해라\n",
    "                which_data = 'DVS_GESTURE_TONIC',\n",
    "# 'CIFAR100' 'CIFAR10' 'MNIST' 'FASHION_MNIST' 'DVS_CIFAR10' 'PMNIST'아직\n",
    "# 'DVS_GESTURE', 'DVS_GESTURE_TONIC','DVS_CIFAR10_2','NMNIST','NMNIST_TONIC','CIFAR10','N_CALTECH101','n_tidigits','heidelberg'\n",
    "                # CLASS_NUM = 10,\n",
    "                data_path = '/data2', # YOU NEED TO CHANGE THIS\n",
    "                rate_coding = False, # True # False\n",
    "                lif_layer_v_init = 0.0,\n",
    "                lif_layer_v_decay = decay,\n",
    "                lif_layer_v_threshold = 0.720291189014991, # 1.3102821334243646,  # 10000이상으로 하면 NDA LIF 씀. #nda 0.5  #ottt 1.0\n",
    "                lif_layer_v_reset = 10000, # 10000이상은 hardreset (내 LIF쓰기는 함 ㅇㅇ)\n",
    "                lif_layer_sg_width = 3.555718888923306, # 2.570969004857107 # sigmoid류에서는 alpha값 4.0, rectangle류에서는 width값 0.5\n",
    "\n",
    "                # synapse_conv_in_channels = IMAGE_PIXEL_CHANNEL,\n",
    "                synapse_conv_kernel_size = 3,\n",
    "                synapse_conv_stride = 1,\n",
    "                synapse_conv_padding = 1,\n",
    "                synapse_conv_trace_const1 = 1, # 현재 trace구할 때 현재 spike에 곱해지는 상수. 걍 1로 두셈.\n",
    "                synapse_conv_trace_const2 = const2, # 현재 trace구할 때 직전 trace에 곱해지는 상수. lif_layer_v_decay와 같게 할 것을 추천\n",
    "\n",
    "                # synapse_fc_out_features = CLASS_NUM,\n",
    "                synapse_fc_trace_const1 = 1, # 현재 trace구할 때 현재 spike에 곱해지는 상수. 걍 1로 두셈.\n",
    "                synapse_fc_trace_const2 = const2, # 현재 trace구할 때 직전 trace에 곱해지는 상수. lif_layer_v_decay와 같게 할 것을 추천\n",
    "\n",
    "                pre_trained = False, # True # False\n",
    "                convTrue_fcFalse = False, # True # False\n",
    "\n",
    "                # 'P' for average pooling, 'D' for (1,1) aver pooling, 'M' for maxpooling, 'L' for linear classifier, [  ] for residual block\n",
    "                # conv에서 10000 이상은 depth-wise separable (BPTT만 지원), 20000이상은 depth-wise (BPTT만 지원)\n",
    "                # cfg = [64, 64],\n",
    "                # cfg = [64, 124, 64, 124],\n",
    "                # cfg = ['M','M',512], \n",
    "                # cfg = [512], \n",
    "                # cfg = ['M', 'M', 64, 128, 'P', 128, 'P'], \n",
    "                # cfg = ['M','M',512],\n",
    "                # cfg = ['M',200],\n",
    "                # cfg = [200,200],\n",
    "                # cfg = ['M','M',200,200],\n",
    "                cfg = ([200],[200],[200],[2]), # (feature extractor, classifier, domain adapter, # of domain)\n",
    "                # cfg = (['M','M',200],[200],[200],[2]), # (feature extractor, classifier, domain adapter, # of domain)\n",
    "                # cfg = ['M',200,200],\n",
    "                # cfg = ['M','M',1024,512,256,128,64],\n",
    "                # cfg = [200,200],\n",
    "                # cfg = [12], #fc\n",
    "                # cfg = [12, 'M', 48, 'M', 12], \n",
    "                # cfg = [64,[64,64],64], # 끝에 linear classifier 하나 자동으로 붙습니다\n",
    "                # cfg = [64, 128, 'P', 256, 256, 'P', 512, 512, 'P', 512, 512, 'D'], #ottt\n",
    "                # cfg = [64, 128, 'P', 256, 256, 'P', 512, 512, 'P', 512, 512], \n",
    "                # cfg = [64, 128, 'M', 256, 256, 'M', 512, 512, 'M', 512, 512], \n",
    "                # cfg = [64, 'P', 128, 'P', 256, 256, 'P', 512, 512, 512, 512, 'D'], # nda\n",
    "                # cfg = [64, 'P', 128, 'P', 256, 256, 'P', 512, 512, 512, 512], # nda 128pixel\n",
    "                # cfg = [64, 'P', 128, 'P', 256, 256, 'P', 512, 512, 512, 512, 'L', 4096, 4096],\n",
    "                # cfg = [20001,10001], # depthwise, separable\n",
    "                # cfg = [64,20064,10001], # vanilla conv, depthwise, separable\n",
    "                # cfg = [8, 'P', 8, 'P', 8, 'P', 8,'P', 8, 'P'],\n",
    "                # cfg = [],        \n",
    "                \n",
    "                net_print = True, # True # False # True로 하길 추천\n",
    "                weight_count_print = False, # True # False\n",
    "                \n",
    "                pre_trained_path = f\"net_save/save_now_net_weights_{unique_name}.pth\",\n",
    "                learning_rate = 0.001, #0.1 bptt, #0.01 ottt, # default 0.001  # ottt 0.1 # nda 0.001 # 0.00936191669529645\n",
    "                epoch_num = 300,\n",
    "                verbose_interval = 999999999, #이거 걍 건들지마셈 #숫자 크게 하면 꺼짐 #걍 중간중간 iter에서 끊어서 출력\n",
    "                validation_interval =  999999999,#999999999, #이거 걍 건들지마셈 #숫자 크게 하면 에포크 마지막 iter 때 val 함\n",
    "\n",
    "                tdBN_on = False,  # True # False\n",
    "                BN_on = False,  # True # False\n",
    "                \n",
    "                surrogate = 'hard_sigmoid', # 'sigmoid' 'rectangle' 'rough_rectangle' 'hard_sigmoid'\n",
    "                \n",
    "                gradient_verbose = False,  # True # False  # weight gradient 각 layer마다 띄워줌\n",
    "\n",
    "                BPTT_on = False,  # True # False # True이면 BPTT, False이면 OTTT  # depthwise, separable은 BPTT만 가능\n",
    "                optimizer_what = 'SGD', # 'SGD' 'Adam', 'RMSprop'\n",
    "                scheduler_name = 'no', # 'no' 'StepLR' 'ExponentialLR' 'ReduceLROnPlateau' 'CosineAnnealingLR' 'OneCycleLR'\n",
    "                \n",
    "                ddp_on = False,   # True # False \n",
    "                # 지원 DATASET: cifar10, mnist\n",
    "\n",
    "                nda_net = False,   # True # False\n",
    "\n",
    "                domain_il_epoch = 0, # over 0, then domain il mode on # pmnist 쓸거면 HLOP 코드보고 더 디벨롭하셈. 지금 개발 hold함.\n",
    "                \n",
    "                dvs_clipping = 1, #일반적으로 1 또는 2 # 100ms때는 5 # 숫자만큼 크면 spike 아니면 걍 0\n",
    "                # gesture, cifar-dvs2, nmnist, ncaltech101\n",
    "                # gesture: 100_000c1-5, 25_000c5, 10_000c5, 1_000c5, 1_000_000c5\n",
    "\n",
    "                dvs_duration = 100_000, # 0 아니면 time sampling # dvs number sampling OR time sampling # gesture, cifar-dvs2, nmnist, ncaltech101\n",
    "                # 있는 데이터들 #gesture 100_000 25_000 10_000 1_000 1_000_000 #nmnist 10000 #nmnist_tonic 10_000 25_000\n",
    "                # 한 숫자가 1us인듯 (spikingjelly코드에서)\n",
    "                # 한 장에 50 timestep만 생산함. 싫으면 my_snn/trying/spikingjelly_dvsgesture의__init__.py 를 참고해봐\n",
    "                # nmnist 5_000us, gesture는 100_000us, 25_000us\n",
    "\n",
    "                OTTT_sWS_on = False, # True # False # BPTT끄고, CONV에만 적용됨.\n",
    "\n",
    "                DFA_on = False, # True # False # residual은 dfa지원안함.\n",
    "                OTTT_input_trace_on = False, # True # False # 맨 처음 input에 trace 적용\n",
    "                 \n",
    "                e_transport_swap = 0, # 1 이상이면 해당 숫자 에포크만큼 val_acc_best가 변화가 없으면 e_transport scheme (BP vs DFA) swap\n",
    "                e_transport_swap_tr = 0, # 1 이상이면 해당 숫자 에포크만큼 tr_acc_best가 변화가 없으면 e_transport scheme (BP vs DFA) swap\n",
    "                e_transport_swap_coin = 1, # swap할 수 있는 coin 개수\n",
    "\n",
    "                drop_rate = 0, # drop_rate만큼 0으로 만듦. ex) 0.2면 activation의 20%를 0으로 만듦.\n",
    "\n",
    "                exclude_class = True, # True # False # gesture에서 10번째 클래스 제외\n",
    "\n",
    "                merge_polarities = False, # True # False # tonic dvs dataset 에서 polarities 합치기\n",
    "                denoise_on = False, # True # False\n",
    "\n",
    "                I_wanna_sweep_at_this_epoch = -1, # 지정 에포크에서 BP와 DFA를 바꿔줌. -1이면 실행 안함.\n",
    "                # dvs_duration_domain=[(100_000,5,False),(125_000,5,False),(150_000,5,False),],\n",
    "                # dvs_duration_domain=[(40_000,4,False),(50_000,4,False),(60_000,4,False),],\n",
    "                # [duration, clipping, denoise_on]\n",
    "                dvs_duration_domain=[(25_000,1,False)],\n",
    "                dvs_relative_timestep = False, # True # False \n",
    "                \n",
    "                extra_train_dataset = 0,\n",
    "\n",
    "                num_workers = 2, # local wsl에서는 2가 맞고, 서버에서는 4가 좋더라.\n",
    "                chaching_on = True, # True # False # only for certain datasets (gesture_tonic, nmnist_tonic)\n",
    "                pin_memory = True, # True # False \n",
    "\n",
    "                UDA_on = True, # True # False\n",
    "                UDA_data = (25_000,1,False), # (duration, clipping, denoise_on)\n",
    "                src_trg_ratio = 2, # (1이상의 정수) src data와 trg data의 개수 비율 (대략적으로)\n",
    "                adapter_loss_weight = 0.0, # 1.0  # adapter loss의 힘. # 이걸 0으로하면 src only learning.\n",
    "                alpha_uda = 1.0, # GRL의 alpha값\n",
    "\n",
    "                temporal_filter = 1, # 1이면 아무것도 안함. 한타임스텝에 쑤셔 넣을 window개수. \n",
    "                initial_pooling = 4, # 1이면 pooling 안함. 2의 승수만 입력하셈. log2를 취해서 pooling할 window size를 결정함.\n",
    "                ) \n",
    "\n",
    "# num_workers = 4 * num_GPU (or 8, 16, 2 * num_GPU)\n",
    "# entry * batch_size * num_worker = num_GPU * GPU_throughtput\n",
    "# num_workers = batch_size / num_GPU\n",
    "# num_workers = batch_size / num_CPU\n",
    "\n",
    "# sigmoid와 BN이 있어야 잘된다.\n",
    "# average pooling  \n",
    "# 이 낫다. \n",
    " \n",
    "# nda에서는 decay = 0.25, threshold = 0.5, width =1, surrogate = rectangle, batch = 256, tdBN = True\n",
    "## OTTT 에서는 decay = 0.5, threshold = 1.0, surrogate = sigmoid, batch = 128, BN = True\n",
    "\n",
    "\n",
    "# DDP 실행 코드0\n",
    "'''\n",
    "ddp_on 키고, gpu 개수 만큼 batch size 나눠줘\n",
    "CUDA_VISIBLE_DEVICES=0,1,2,3,4,5 python -m torch.distributed.launch --nproc_per_node=6 main_ddp.py\n",
    "CUDA_VISIBLE_DEVICES=1,2,3 python -m torch.distributed.launch --nproc_per_node=3 main_ddp.py\n",
    "CUDA_VISIBLE_DEVICES=0,1,2,3 python -m torch.distributed.launch --nproc_per_node=4 main_ddp.py\n",
    "'''\n",
    "\n"
   ]
  },
  {
   "cell_type": "code",
   "execution_count": null,
   "metadata": {},
   "outputs": [],
   "source": [
    "# # sweep 하는 코드, 위 셀 주석처리 해야 됨.\n",
    "\n",
    "# # 이런 워닝 뜨는 거는 걍 너가 main 안에서  wandb.config.update(hyperparameters)할 때 물려서임. 어차피 근데 sweep에서 지정한 걸로 덮어짐 \n",
    "# # wandb: WARNING Config item 'BATCH' was locked by 'sweep' (ignored update).\n",
    "\n",
    "# unique_name_hyper = 'main'\n",
    "# run_name = 'main'\n",
    "# sweep_configuration = {\n",
    "#     'method': 'random', # 'random', 'bayes'\n",
    "#     'name': f'my_snn_sweep{datetime.datetime.now().strftime(\"%Y%m%d_%H%M%S\")}',\n",
    "#     'metric': {'goal': 'maximize', 'name': 'val_acc_best'},\n",
    "#     'parameters': \n",
    "#     {\n",
    "#         \"learning_rate\": {\"values\": [0.001]}, #0.00936191669529645\n",
    "#         \"BATCH\": {\"values\": [16]},\n",
    "#         \"decay\": {\"values\": [0.25]},\n",
    "#         \"IMAGE_SIZE\": {\"values\": [128]},\n",
    "#         \"TIME\": {\"values\": [10]},\n",
    "#         \"epoch_num\": {\"values\": [200]},\n",
    "#         \"dvs_duration\": {\"values\": [25_000,50_000,100_000]},\n",
    "#         \"dvs_clipping\": {\"values\": [1,2,3,4,5]},\n",
    "#         \"which_data\": {\"values\": ['DVS_GESTURE_TONIC']},\n",
    "#         \"OTTT_sWS_on\": {\"values\": [False]},\n",
    "#         \"const2\": {\"values\": [False]},\n",
    "#         \"surrogate\": {\"values\": ['hard_sigmoid']},\n",
    "#         \"DFA_on\": {\"values\": [False]},\n",
    "#         \"OTTT_input_trace_on\": {\"values\": [False]},\n",
    "#         \"cfg\": {\"values\": [['M','M',200,200]]},\n",
    "#         \"e_transport_swap\": {\"values\": [0]},\n",
    "#         \"e_transport_swap_tr\": {\"values\": [0]},\n",
    "#         \"drop_rate\": {\"values\": [0.0]}, # \"drop_rate\": {\"values\": [0.25,0.5,0.75]}, #\"drop_rate\": {\"min\": 0.25, \"max\": 0.75},\n",
    "#         \"exclude_class\": {\"values\": [True]},\n",
    "#         \"merge_polarities\": {\"values\": [False]},\n",
    "#         \"lif_layer_v_reset\": {\"values\": [10000]},\n",
    "#         \"lif_layer_sg_width\": {\"values\": [3.555718888923306]},\n",
    "#         \"e_transport_swap_coin\": {\"values\": [1]},\n",
    "#         \"lif_layer_v_threshold\": {\"values\": [0.720291189014991]},\n",
    "#         \"scheduler_name\": {\"values\": ['no']},  # 'no' 'StepLR' 'ExponentialLR' 'ReduceLROnPlateau' 'CosineAnnealingLR' 'OneCycleLR'\n",
    "#         \"denoise_on\": {\"values\": [True,False]}, \n",
    "#         \"I_wanna_sweep_at_this_epoch\": {\"values\": [-1]}, \n",
    "#         \"dvs_duration_domain\": {\"values\": [[]]}, \n",
    "#         \"dvs_relative_timestep\": {\"values\": [[False]]}, \n",
    "#         \"extra_train_dataset\": {\"values\": [0]}, \n",
    "#      }\n",
    "# }\n",
    "\n",
    "# def hyper_iter():\n",
    "#     ### my_snn control board ########################\n",
    "#     unique_name = unique_name_hyper ## 이거 설정하면 새로운 경로에 모두 save\n",
    "    \n",
    "#     wandb.init(save_code = True)\n",
    "#     learning_rate  =  wandb.config.learning_rate\n",
    "#     BATCH  =  wandb.config.BATCH\n",
    "#     decay  =  wandb.config.decay\n",
    "#     IMAGE_SIZE  =  wandb.config.IMAGE_SIZE\n",
    "#     TIME  =  wandb.config.TIME\n",
    "#     epoch_num  =  wandb.config.epoch_num \n",
    "#     dvs_duration  =  wandb.config.dvs_duration\n",
    "#     dvs_clipping  =  wandb.config.dvs_clipping\n",
    "#     which_data  =  wandb.config.which_data\n",
    "#     OTTT_sWS_on  =  wandb.config.OTTT_sWS_on\n",
    "#     const2  =  wandb.config.const2\n",
    "#     surrogate  =  wandb.config.surrogate\n",
    "#     DFA_on  =  wandb.config.DFA_on\n",
    "#     OTTT_input_trace_on  =  wandb.config.OTTT_input_trace_on\n",
    "#     cfg  =  wandb.config.cfg\n",
    "#     e_transport_swap  =  wandb.config.e_transport_swap\n",
    "#     e_transport_swap_tr  =  wandb.config.e_transport_swap_tr\n",
    "#     drop_rate  =  wandb.config.drop_rate\n",
    "#     exclude_class  =  wandb.config.exclude_class\n",
    "#     merge_polarities  =  wandb.config.merge_polarities\n",
    "#     lif_layer_v_reset  =  wandb.config.lif_layer_v_reset\n",
    "#     lif_layer_sg_width  =  wandb.config.lif_layer_sg_width\n",
    "#     e_transport_swap_coin  =  wandb.config.e_transport_swap_coin\n",
    "#     lif_layer_v_threshold  =  wandb.config.lif_layer_v_threshold\n",
    "#     scheduler_name  =  wandb.config.scheduler_name\n",
    "#     denoise_on  =  wandb.config.denoise_on\n",
    "#     I_wanna_sweep_at_this_epoch  =  wandb.config.I_wanna_sweep_at_this_epoch\n",
    "#     dvs_duration_domain  =  wandb.config.dvs_duration_domain\n",
    "#     dvs_relative_timestep  =  wandb.config.dvs_relative_timestep\n",
    "#     extra_train_dataset  =  wandb.config.extra_train_dataset\n",
    "#     if const2 == True:\n",
    "#         const2 = decay\n",
    "#     else:\n",
    "#         const2 = 0.0\n",
    "\n",
    "#     my_snn_system(  devices = \"5\",\n",
    "#                 single_step = True, # True # False\n",
    "#                 unique_name = run_name,\n",
    "#                 my_seed = 42,\n",
    "#                 TIME = TIME , # dvscifar 10 # ottt 6 or 10 # nda 10  # 제작하는 dvs에서 TIME넘거나 적으면 자르거나 PADDING함\n",
    "#                 BATCH = BATCH, # batch norm 할거면 2이상으로 해야함   # nda 256   #  ottt 128\n",
    "#                 IMAGE_SIZE = IMAGE_SIZE, # dvscifar 48 # MNIST 28 # CIFAR10 32 # PMNIST 28 #NMNIST 34 # GESTURE 128\n",
    "#                 # dvsgesture 128, dvs_cifar2 128, nmnist 34, n_caltech101 180,240, n_tidigits 64, heidelberg 700, \n",
    "#                 #pmnist는 28로 해야 됨. 나머지는 바꿔도 돌아는 감.\n",
    "\n",
    "#                 # DVS_CIFAR10 할거면 time 10으로 해라\n",
    "#                 which_data = which_data,\n",
    "# # 'CIFAR100' 'CIFAR10' 'MNIST' 'FASHION_MNIST' 'DVS_CIFAR10' 'PMNIST'아직\n",
    "# # 'DVS_GESTURE', 'DVS_GESTURE_TONIC','DVS_CIFAR10_2','NMNIST','NMNIST_TONIC','N_CALTECH101','n_tidigits','heidelberg'\n",
    "#                 # CLASS_NUM = 10,\n",
    "#                 data_path = '/data2', # YOU NEED TO CHANGE THIS\n",
    "#                 rate_coding = False, # True # False\n",
    "#                 lif_layer_v_init = 0.0,\n",
    "#                 lif_layer_v_decay = decay,\n",
    "#                 lif_layer_v_threshold = lif_layer_v_threshold,  # 10000이상으로 하면 NDA LIF 씀. #nda 0.5  #ottt 1.0\n",
    "#                 lif_layer_v_reset = lif_layer_v_reset, # 10000이상은 hardreset (내 LIF쓰기는 함 ㅇㅇ)\n",
    "#                 lif_layer_sg_width = lif_layer_sg_width, # # surrogate sigmoid 쓸 때는 의미없음\n",
    "\n",
    "#                 # synapse_conv_in_channels = IMAGE_PIXEL_CHANNEL,\n",
    "#                 synapse_conv_kernel_size = 3,\n",
    "#                 synapse_conv_stride = 1,\n",
    "#                 synapse_conv_padding = 1,\n",
    "#                 synapse_conv_trace_const1 = 1, # 현재 trace구할 때 현재 spike에 곱해지는 상수. 걍 1로 두셈.\n",
    "#                 synapse_conv_trace_const2 = const2, # 현재 trace구할 때 직전 trace에 곱해지는 상수. lif_layer_v_decay와 같게 할 것을 추천\n",
    "\n",
    "#                 # synapse_fc_out_features = CLASS_NUM,\n",
    "#                 synapse_fc_trace_const1 = 1, # 현재 trace구할 때 현재 spike에 곱해지는 상수. 걍 1로 두셈.\n",
    "#                 synapse_fc_trace_const2 = const2, # 현재 trace구할 때 직전 trace에 곱해지는 상수. lif_layer_v_decay와 같게 할 것을 추천\n",
    "\n",
    "#                 pre_trained = False, # True # False\n",
    "#                 convTrue_fcFalse = False, # True # False\n",
    "\n",
    "#                 # 'P' for average pooling, 'D' for (1,1) aver pooling, 'M' for maxpooling, 'L' for linear classifier, [  ] for residual block\n",
    "#                 # conv에서 10000 이상은 depth-wise separable (BPTT만 지원), 20000이상은 depth-wise (BPTT만 지원)\n",
    "#                 # cfg = [64, 64],\n",
    "#                 # cfg = [64, 124, 64, 124],\n",
    "#                 # cfg = ['M','M',512], \n",
    "#                 # cfg = [512], \n",
    "#                 # cfg = ['M', 'M', 64, 128, 'P', 128, 'P'], \n",
    "#                 # cfg = ['M','M',200,200],\n",
    "#                 # cfg = [200,200],\n",
    "#                 cfg = cfg,\n",
    "#                 # cfg = [12], #fc\n",
    "#                 # cfg = [12, 'M', 48, 'M', 12], \n",
    "#                 # cfg = [64,[64,64],64], # 끝에 linear classifier 하나 자동으로 붙습니다\n",
    "#                 # cfg = [64, 128, 'P', 256, 256, 'P', 512, 512, 'P', 512, 512, 'D'], #ottt\n",
    "#                 # cfg = [64, 128, 'P', 256, 256, 'P', 512, 512, 'P', 512, 512], \n",
    "#                 # cfg = [64, 128, 'M', 256, 256, 'M', 512, 512, 'M', 512, 512], \n",
    "#                 # cfg = [64, 'P', 128, 'P', 256, 256, 'P', 512, 512, 512, 512, 'D'], # nda\n",
    "#                 # cfg = [64, 'P', 128, 'P', 256, 256, 'P', 512, 512, 512, 512], # nda 128pixel\n",
    "#                 # cfg = [64, 'P', 128, 'P', 256, 256, 'P', 512, 512, 512, 512, 'L', 4096, 4096],\n",
    "#                 # cfg = [20001,10001], # depthwise, separable\n",
    "#                 # cfg = [64,20064,10001], # vanilla conv, depthwise, separable\n",
    "#                 # cfg = [8, 'P', 8, 'P', 8, 'P', 8,'P', 8, 'P'],\n",
    "#                 # cfg = [], \n",
    "                \n",
    "#                 net_print = True, # True # False # True로 하길 추천\n",
    "#                 weight_count_print = False, # True # False\n",
    "                \n",
    "#                 pre_trained_path = f\"net_save/save_now_net_weights_{unique_name}.pth\",\n",
    "#                 learning_rate = learning_rate, # default 0.001  # ottt 0.1 # nda 0.001 \n",
    "#                 epoch_num = epoch_num,\n",
    "#                 verbose_interval = 999999999, #숫자 크게 하면 꺼짐 #걍 중간중간 iter에서 끊어서 출력\n",
    "#                 validation_interval =  999999999,#999999999, #숫자 크게 하면 에포크 마지막 iter 때 val 함\n",
    "\n",
    "#                 tdBN_on = False,  # True # False\n",
    "#                 BN_on = False,  # True # False\n",
    "                \n",
    "#                 surrogate = surrogate, # 'rectangle' 'sigmoid' 'rough_rectangle'\n",
    "                \n",
    "#                 gradient_verbose = False,  # True # False  # weight gradient 각 layer마다 띄워줌\n",
    "\n",
    "#                 BPTT_on = False,  # True # False # True이면 BPTT, False이면 OTTT  # depthwise, separable은 BPTT만 가능\n",
    "#                 optimizer_what = 'SGD', # 'SGD' 'Adam', 'RMSprop'\n",
    "#                 scheduler_name = scheduler_name, # 'no' 'StepLR' 'ExponentialLR' 'ReduceLROnPlateau' 'CosineAnnealingLR' 'OneCycleLR'\n",
    "                \n",
    "#                 ddp_on = False,   # True # False \n",
    "#                 # 지원 DATASET: cifar10, mnist\n",
    "\n",
    "#                 nda_net = False,   # True # False\n",
    "\n",
    "#                 domain_il_epoch = 0, # over 0, then domain il mode on # pmnist 쓸거면 HLOP 코드보고 더 디벨롭하셈. 지금 개발 hold함.\n",
    "                \n",
    "#                 dvs_clipping = dvs_clipping, # 숫자만큼 크면 spike 아니면 걍 0\n",
    "#                 # gesture, cifar-dvs2, nmnist, ncaltech101\n",
    "\n",
    "#                 dvs_duration = dvs_duration, # 0 아니면 time sampling # dvs number sampling OR time sampling # gesture, cifar-dvs2, nmnist, ncaltech101\n",
    "#                 # 있는 데이터들 #gesture 100_000 25_000 10_000 1_000 1_000_000 #nmnist 10000 #nmnist_tonic 10_000 25_000\n",
    "#                 # 한 숫자가 1us인듯 (spikingjelly코드에서)\n",
    "#                 # 한 장에 50 timestep만 생산함. 싫으면 my_snn/trying/spikingjelly_dvsgesture의__init__.py 를 참고해봐\n",
    "\n",
    "#                 OTTT_sWS_on = OTTT_sWS_on, # True # False # BPTT끄고, CONV에만 적용됨.\n",
    "\n",
    "#                 DFA_on = DFA_on, # True # False # residual은 dfa지원안함.\n",
    "#                 OTTT_input_trace_on = OTTT_input_trace_on, # True # False # 맨 처음 input에 trace 적용\n",
    "                 \n",
    "#                 e_transport_swap = e_transport_swap, # 1 이상이면 해당 숫자 에포크만큼 val_acc_best가 변화가 없으면 e_transport scheme (BP vs DFA) swap\n",
    "#                 e_transport_swap_tr = e_transport_swap_tr, # 1 이상이면 해당 숫자 에포크만큼 tr_acc_best가 변화가 없으면 e_transport scheme (BP vs DFA) swap\n",
    "#                 e_transport_swap_coin = e_transport_swap_coin, # swap할 수 있는 coin 개수\n",
    "                    \n",
    "#                 drop_rate = drop_rate,\n",
    "\n",
    "#                 exclude_class = exclude_class, # True # False # gesture에서 10번째 클래스 제외\n",
    "\n",
    "#                 merge_polarities = merge_polarities, # True # False # tonic dvs dataset 에서 polarities 합치기\n",
    "#                 denoise_on = denoise_on,\n",
    "\n",
    "#                 I_wanna_sweep_at_this_epoch = I_wanna_sweep_at_this_epoch,\n",
    "#                 dvs_duration_domain = dvs_duration_domain,\n",
    "#                 dvs_relative_timestep = dvs_relative_timestep, # True # False \n",
    "\n",
    "#                 extra_train_dataset = extra_train_dataset,\n",
    "\n",
    "#                 num_workers = 2,\n",
    "#                 chaching_on = True,\n",
    "#                 pin_memory = True, # True # False\n",
    "#                     ) \n",
    "#     # sigmoid와 BN이 있어야 잘된다.\n",
    "#     # average pooling\n",
    "#     # 이 낫다. \n",
    "    \n",
    "#     # nda에서는 decay = 0.25, threshold = 0.5, width =1, surrogate = rectangle, batch = 256, tdBN = True\n",
    "#     ## OTTT 에서는 decay = 0.5, threshold = 1.0, surrogate = sigmoid, batch = 128, BN = True\n",
    "\n",
    "# sweep_id = wandb.sweep(sweep=sweep_configuration, project=f'my_snn {unique_name_hyper}')\n",
    "# wandb.agent(sweep_id, function=hyper_iter, count=10000, project=f'my_snn {unique_name_hyper}')\n"
   ]
  },
  {
   "cell_type": "code",
   "execution_count": null,
   "metadata": {},
   "outputs": [
    {
     "data": {
      "application/vnd.jupyter.widget-view+json": {
       "model_id": "36485e491533482b891c1b2b975aa26a",
       "version_major": 2,
       "version_minor": 0
      },
      "text/plain": [
       "VBox(children=(Label(value='4.398 MB of 4.398 MB uploaded (0.848 MB deduped)\\r'), FloatProgress(value=1.0, max…"
      ]
     },
     "metadata": {},
     "output_type": "display_data"
    },
    {
     "data": {
      "text/html": [
       "W&B sync reduced upload amount by 17.8%"
      ],
      "text/plain": [
       "<IPython.core.display.HTML object>"
      ]
     },
     "metadata": {},
     "output_type": "display_data"
    },
    {
     "data": {
      "text/html": [
       "<style>\n",
       "    table.wandb td:nth-child(1) { padding: 0 10px; text-align: left ; width: auto;} td:nth-child(2) {text-align: left ; width: 100%}\n",
       "    .wandb-row { display: flex; flex-direction: row; flex-wrap: wrap; justify-content: flex-start; width: 100% }\n",
       "    .wandb-col { display: flex; flex-direction: column; flex-basis: 100%; flex: 1; padding: 10px; }\n",
       "    </style>\n",
       "<div class=\"wandb-row\"><div class=\"wandb-col\"><h3>Run history:</h3><br/><table class=\"wandb\"><tr><td>DFA_flag</td><td>▁▁▁▁▁▁▁▁▁▁▁▁▁▁▁▁▁▁▁▁▁▁▁▁▁▁▁▁▁▁▁▁▁▁▁▁▁▁▁▁</td></tr><tr><td>epoch</td><td>▁▁▁▂▂▂▂▂▂▃▃▃▃▃▄▄▄▄▄▄▅▅▅▅▅▅▆▆▆▆▆▇▇▇▇▇▇███</td></tr><tr><td>iter_acc</td><td>▁▂▇▇▅██▅▅█▅▅██▅▂█▆▅██▆██▇▅█▂▇█▅▄▆█▂▆█▇▂█</td></tr><tr><td>summary_val_acc</td><td>▁▄▃▅▇▇▇▇▇█▇▇▇▇█▇█▇██▇████▇█▇█▇██▇▇▇▇█▇▇█</td></tr><tr><td>tr_acc</td><td>▁▅▆▇▇███████████████████████████████████</td></tr><tr><td>tr_epoch_loss</td><td>█▅▄▃▃▂▂▂▂▂▁▁▁▁▁▁▁▁▁▁▁▁▁▁▁▁▁▁▁▁▁▁▁▁▁▁▁▁▁▁</td></tr><tr><td>val_acc_best</td><td>▁▄▅▆▇▇▇█████████████████████████████████</td></tr><tr><td>val_acc_now</td><td>▁▄▃▅▇▇▇▇▇█▇▇▇▇█▇█▇██▇████▇█▇█▇██▇▇▇▇█▇▇█</td></tr><tr><td>val_acc_now_set[1]</td><td>▁▅▅▆▇▇▇██▇██▇████▇█▇▇█▇████▇█████▇██▇███</td></tr><tr><td>val_acc_now_set[1]_best</td><td>▁▅▅▆▇▆▇▇██▇▇▇██████▇▇▇▇█▇██▇█████▇██████</td></tr><tr><td>val_loss</td><td>▃▁▁▁▁▁▂▂▃▃▃▄▄▄▅▅▅▅▅▆▆▆▆▆▆▆▆▇▇▇▇▇▇███████</td></tr></table><br/></div><div class=\"wandb-col\"><h3>Run summary:</h3><br/><table class=\"wandb\"><tr><td>DFA_flag</td><td>0.0</td></tr><tr><td>epoch</td><td>299</td></tr><tr><td>iter_acc</td><td>1.0</td></tr><tr><td>tr_acc</td><td>1.0</td></tr><tr><td>tr_epoch_loss</td><td>0.0344</td></tr><tr><td>val_acc_best</td><td>0.80833</td></tr><tr><td>val_acc_now</td><td>0.77083</td></tr><tr><td>val_acc_now_set[1]</td><td>0.67083</td></tr><tr><td>val_acc_now_set[1]_best</td><td>0.7125</td></tr><tr><td>val_loss</td><td>3.26179</td></tr></table><br/></div></div>"
      ],
      "text/plain": [
       "<IPython.core.display.HTML object>"
      ]
     },
     "metadata": {},
     "output_type": "display_data"
    },
    {
     "data": {
      "text/html": [
       " View run <strong style=\"color:#cdcd00\">pretty-meadow-6269</strong> at: <a href='https://wandb.ai/bhkim003-seoul-national-university/my_snn%20main/runs/3eq61ssh' target=\"_blank\">https://wandb.ai/bhkim003-seoul-national-university/my_snn%20main/runs/3eq61ssh</a><br/> View project at: <a href='https://wandb.ai/bhkim003-seoul-national-university/my_snn%20main' target=\"_blank\">https://wandb.ai/bhkim003-seoul-national-university/my_snn%20main</a><br/>Synced 7 W&B file(s), 0 media file(s), 12 artifact file(s) and 1 other file(s)"
      ],
      "text/plain": [
       "<IPython.core.display.HTML object>"
      ]
     },
     "metadata": {},
     "output_type": "display_data"
    },
    {
     "data": {
      "text/html": [
       "Find logs at: <code>./wandb/run-20241014_202528-3eq61ssh/logs</code>"
      ],
      "text/plain": [
       "<IPython.core.display.HTML object>"
      ]
     },
     "metadata": {},
     "output_type": "display_data"
    },
    {
     "data": {
      "text/html": [
       "The new W&B backend becomes opt-out in version 0.18.0; try it out with `wandb.require(\"core\")`! See https://wandb.me/wandb-core for more information."
      ],
      "text/plain": [
       "<IPython.core.display.HTML object>"
      ]
     },
     "metadata": {},
     "output_type": "display_data"
    }
   ],
   "source": [
    "wandb.finish() "
   ]
  },
  {
   "cell_type": "code",
   "execution_count": null,
   "metadata": {},
   "outputs": [],
   "source": [
    "# import numpy as np\n",
    "# import matplotlib.pyplot as plt\n",
    "# import json\n",
    "# run_name = 'main_FINAL_TEST'\n",
    "\n",
    "# unique_name = run_name\n",
    "# def pad_array_to_match_length(array1, array2):\n",
    "#     if len(array1) > len(array2):\n",
    "#         padded_array2 = np.pad(array2, (0, len(array1) - len(array2)), 'constant')\n",
    "#         return array1, padded_array2\n",
    "#     elif len(array2) > len(array1):\n",
    "#         padded_array1 = np.pad(array1, (0, len(array2) - len(array1)), 'constant')\n",
    "#         return padded_array1, array2\n",
    "#     else:\n",
    "#         return array1, array2\n",
    "# def load_hyperparameters(filename=f'result_save/hyperparameters_{unique_name}.json'):\n",
    "#     with open(filename, 'r') as f:\n",
    "#         return json.load(f)\n",
    "    \n",
    "\n",
    "\n",
    "\n",
    "\n",
    "# current_time = '20240628_110116'\n",
    "# base_name = f'{current_time}'\n",
    "# iter_acc_file_name = f'result_save/{base_name}_iter_acc_array_{unique_name}.npy'\n",
    "# val_acc_file_name = f'result_save/{base_name}_val_acc_now_array_{unique_name}.npy'\n",
    "# hyperparameters_file_name = f'result_save/{base_name}_hyperparameters_{unique_name}.json'\n",
    "\n",
    "# ### if you want to just see most recent train and val acc###########################\n",
    "# iter_acc_file_name = f'result_save/iter_acc_array_{unique_name}.npy'\n",
    "# tr_acc_file_name = f'result_save/tr_acc_array_{unique_name}.npy'\n",
    "# val_acc_file_name = f'result_save/val_acc_now_array_{unique_name}.npy'\n",
    "# hyperparameters_file_name = f'result_save/hyperparameters_{unique_name}.json'\n",
    "\n",
    "# loaded_iter_acc_array = np.load(iter_acc_file_name)*100\n",
    "# loaded_tr_acc_array = np.load(tr_acc_file_name)*100\n",
    "# loaded_val_acc_array = np.load(val_acc_file_name)*100\n",
    "# hyperparameters = load_hyperparameters(hyperparameters_file_name)\n",
    "\n",
    "# loaded_iter_acc_array, loaded_val_acc_array = pad_array_to_match_length(loaded_iter_acc_array, loaded_val_acc_array)\n",
    "# loaded_iter_acc_array, loaded_tr_acc_array = pad_array_to_match_length(loaded_iter_acc_array, loaded_tr_acc_array)\n",
    "# loaded_val_acc_array, loaded_tr_acc_array = pad_array_to_match_length(loaded_val_acc_array, loaded_tr_acc_array)\n",
    "\n",
    "# top_iter_acc = np.max(loaded_iter_acc_array)\n",
    "# top_tr_acc = np.max(loaded_tr_acc_array)\n",
    "# top_val_acc = np.max(loaded_val_acc_array)\n",
    "\n",
    "# which_data = hyperparameters['which_data']\n",
    "# BPTT_on = hyperparameters['BPTT_on']\n",
    "# current_epoch = hyperparameters['current epoch']\n",
    "# surrogate = hyperparameters['surrogate']\n",
    "# cfg = hyperparameters['cfg']\n",
    "# tdBN_on = hyperparameters['tdBN_on']\n",
    "# BN_on = hyperparameters['BN_on']\n",
    "\n",
    "\n",
    "# iterations = np.arange(len(loaded_iter_acc_array))\n",
    "\n",
    "# # 그래프 그리기\n",
    "# plt.figure(figsize=(10, 5))\n",
    "# plt.plot(iterations, loaded_iter_acc_array, label='Iter Accuracy', color='g', alpha=0.2)\n",
    "# plt.plot(iterations, loaded_tr_acc_array, label='Training Accuracy', color='b')\n",
    "# plt.plot(iterations, loaded_val_acc_array, label='Validation Accuracy', color='r')\n",
    "\n",
    "# # # 텍스트 추가\n",
    "# # plt.text(0.05, 0.95, f'Top Training Accuracy: {100*top_iter_acc:.2f}%', transform=plt.gca().transAxes, fontsize=12, verticalalignment='top', horizontalalignment='left', color='blue')\n",
    "# # plt.text(0.05, 0.90, f'Top Validation Accuracy: {100*top_val_acc:.2f}%', transform=plt.gca().transAxes, fontsize=12, verticalalignment='top', horizontalalignment='left', color='red')\n",
    "# # 텍스트 추가\n",
    "# plt.text(0.5, 0.10, f'Top Training Accuracy: {top_tr_acc:.2f}%', transform=plt.gca().transAxes, fontsize=12, verticalalignment='top', horizontalalignment='center', color='blue')\n",
    "# plt.text(0.5, 0.05, f'Top Validation Accuracy: {top_val_acc:.2f}%', transform=plt.gca().transAxes, fontsize=12, verticalalignment='top', horizontalalignment='center', color='red')\n",
    "\n",
    "# plt.xlabel('Iterations')\n",
    "# plt.ylabel('Accuracy [%]')\n",
    "\n",
    "# # 그래프 제목에 하이퍼파라미터 정보 추가\n",
    "# title = f'Training and Validation Accuracy over Iterations\\n\\nData: {which_data}, BPTT: {\"On\" if BPTT_on else \"Off\"}, Current Epoch: {current_epoch}, Surrogate: {surrogate},\\nCFG: {cfg}, tdBN: {\"On\" if tdBN_on else \"Off\"}, BN: {\"On\" if BN_on else \"Off\"}'\n",
    "\n",
    "# plt.title(title)\n",
    "\n",
    "# plt.legend(loc='lower right')\n",
    "# plt.xlim(0)  # x축을 0부터 시작\n",
    "# plt.grid(True)\n",
    "# plt.show()"
   ]
  }
 ],
 "metadata": {
  "kernelspec": {
   "display_name": "aedat2",
   "language": "python",
   "name": "python3"
  },
  "language_info": {
   "codemirror_mode": {
    "name": "ipython",
    "version": 3
   },
   "file_extension": ".py",
   "mimetype": "text/x-python",
   "name": "python",
   "nbconvert_exporter": "python",
   "pygments_lexer": "ipython3",
   "version": "3.8.18"
  }
 },
 "nbformat": 4,
 "nbformat_minor": 2
}
